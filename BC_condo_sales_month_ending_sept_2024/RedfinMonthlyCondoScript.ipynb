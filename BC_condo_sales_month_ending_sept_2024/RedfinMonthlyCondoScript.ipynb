{
 "cells": [
  {
   "cell_type": "markdown",
   "id": "282c57c3",
   "metadata": {},
   "source": [
    "## Imports"
   ]
  },
  {
   "cell_type": "code",
   "execution_count": 1,
   "id": "54c15242",
   "metadata": {},
   "outputs": [],
   "source": [
    "import pandas as pd\n",
    "import numpy as np\n",
    "import re\n",
    "import os\n",
    "import folium\n",
    "import geopandas as gpd\n",
    "import glob\n",
    "from datetime import datetime, timedelta\n",
    "from tqdm.notebook import tqdm\n",
    "import requests\n",
    "import time"
   ]
  },
  {
   "cell_type": "markdown",
   "id": "7c620cf8",
   "metadata": {},
   "source": [
    "## Data Read-in"
   ]
  },
  {
   "cell_type": "code",
   "execution_count": 2,
   "id": "788cfd9b",
   "metadata": {},
   "outputs": [
    {
     "name": "stdout",
     "output_type": "stream",
     "text": [
      "2965\n"
     ]
    }
   ],
   "source": [
    "csv_files = glob.glob('*.csv')\n",
    "\n",
    "df_list = []\n",
    "\n",
    "for csv_file in csv_files:\n",
    "    df = pd.read_csv(csv_file)\n",
    "    df_list.append(df)\n",
    "    \n",
    "df = pd.concat(df_list,ignore_index=True)\n",
    "\n",
    "print(len(df))"
   ]
  },
  {
   "cell_type": "code",
   "execution_count": 3,
   "id": "563417a4",
   "metadata": {},
   "outputs": [],
   "source": [
    "gdf = gpd.read_file('countyboundary')"
   ]
  },
  {
   "cell_type": "markdown",
   "id": "5cdf738a",
   "metadata": {},
   "source": [
    "## Previous month's values\n",
    "\n",
    "Get values from here:\n",
    "\n",
    "https://docs.google.com/spreadsheets/d/1GWlqTIzCB29pDVDjd-iBVejVGGsLiAd0P6fq4LM83WI/edit?usp=sharing"
   ]
  },
  {
   "cell_type": "code",
   "execution_count": 4,
   "id": "7bbbad1d",
   "metadata": {},
   "outputs": [
    {
     "name": "stdout",
     "output_type": "stream",
     "text": [
      "Input County Name:\n",
      "Broward County\n"
     ]
    }
   ],
   "source": [
    "print('Input County Name:')\n",
    "county_name = input()"
   ]
  },
  {
   "cell_type": "code",
   "execution_count": 5,
   "id": "1cd3e074",
   "metadata": {},
   "outputs": [
    {
     "name": "stdout",
     "output_type": "stream",
     "text": [
      "Input total condo units sold previous (not last) month:\n",
      "824\n"
     ]
    }
   ],
   "source": [
    "print('Input total condo units sold previous (not last) month:')\n",
    "total_condos_sold_2nd_month = input()"
   ]
  },
  {
   "cell_type": "code",
   "execution_count": 6,
   "id": "229637ce",
   "metadata": {},
   "outputs": [
    {
     "name": "stdout",
     "output_type": "stream",
     "text": [
      "Input total sales volume ($$$ million) from previous (not last) month:\n",
      "253000000\n"
     ]
    }
   ],
   "source": [
    "print('Input total sales volume ($$$ million) from previous (not last) month:')\n",
    "sales_volume_2nd_month = input()"
   ]
  },
  {
   "cell_type": "code",
   "execution_count": 7,
   "id": "081faeec",
   "metadata": {},
   "outputs": [
    {
     "name": "stdout",
     "output_type": "stream",
     "text": [
      "Input median sales price from previous (not last) month:\n",
      "226250\n"
     ]
    }
   ],
   "source": [
    "print('Input median sales price from previous (not last) month:')\n",
    "median_sales_price_2nd_month = input()"
   ]
  },
  {
   "cell_type": "code",
   "execution_count": 8,
   "id": "cdac5fe9",
   "metadata": {},
   "outputs": [
    {
     "name": "stdout",
     "output_type": "stream",
     "text": [
      "Input median psf from previous (not last) month:\n",
      "224\n"
     ]
    }
   ],
   "source": [
    "print('Input median psf from previous (not last) month:')\n",
    "median_psf_2nd_month = input()"
   ]
  },
  {
   "cell_type": "markdown",
   "id": "b03ce742",
   "metadata": {},
   "source": [
    "## Data Clean"
   ]
  },
  {
   "cell_type": "code",
   "execution_count": 9,
   "id": "1f2a52a3",
   "metadata": {},
   "outputs": [],
   "source": [
    "df = df.rename(columns={'URL (SEE https://www.redfin.com/buy-a-home/comparative-market-analysis FOR INFO ON PRICING)':'URL'})"
   ]
  },
  {
   "cell_type": "code",
   "execution_count": 10,
   "id": "5f45bf08",
   "metadata": {},
   "outputs": [],
   "source": [
    "df = df.dropna(subset=['SOLD DATE'])"
   ]
  },
  {
   "cell_type": "code",
   "execution_count": 11,
   "id": "25d1852d",
   "metadata": {},
   "outputs": [
    {
     "name": "stdout",
     "output_type": "stream",
     "text": [
      "Report month: September ---- Month before report month: August\n"
     ]
    }
   ],
   "source": [
    "# Get the current date\n",
    "current_date = datetime.now()\n",
    "\n",
    "# Calculate the first day of the current month\n",
    "first_day_of_current_month = current_date.replace(day=1)\n",
    "\n",
    "# Get the last day of the previous month by subtracting one day from the first day of the current month\n",
    "last_day_of_previous_month = first_day_of_current_month - timedelta(days=1)\n",
    "\n",
    "# Get the month name of the previous month\n",
    "previous_month_name = last_day_of_previous_month.strftime(\"%B\")\n",
    "\n",
    "# ---- Get the name of the month, as a string, from two months ago.\n",
    "# ---- Meaning, if the current month is January, return November.\n",
    "\n",
    "# Get the first day of the previous month by subtracting one day from the first day of the current month\n",
    "first_day_of_previous_month = first_day_of_current_month - timedelta(days=1)\n",
    "\n",
    "# Get the first day of the month before the last by subtracting one day from the first day of the previous month\n",
    "first_day_of_month_before_last = first_day_of_previous_month.replace(day=1) - timedelta(days=1)\n",
    "\n",
    "# Get the month name of the month before the last\n",
    "month_before_last_name = first_day_of_month_before_last.strftime(\"%B\")\n",
    "\n",
    "print(f'Report month: {previous_month_name} ---- Month before report month: {month_before_last_name}')"
   ]
  },
  {
   "cell_type": "code",
   "execution_count": 12,
   "id": "9b9d20ba",
   "metadata": {},
   "outputs": [],
   "source": [
    "# Define list of desired months (excluding current month)\n",
    "desired_months = [previous_month_name]\n",
    "\n",
    "# Filter DataFrame to include only entries from desired months\n",
    "df_filtered = df[df['SOLD DATE'].str.split('-', expand=True)[0].isin(desired_months)]\n",
    "\n",
    "# Reset the index\n",
    "df_filtered = df_filtered.reset_index(drop=True)"
   ]
  },
  {
   "cell_type": "code",
   "execution_count": 13,
   "id": "ab2d002c",
   "metadata": {},
   "outputs": [
    {
     "name": "stdout",
     "output_type": "stream",
     "text": [
      "PRICE\n",
      "False    685\n",
      "Name: count, dtype: int64\n",
      "-------\n",
      "$/SQUARE FEET\n",
      "False    679\n",
      "True       6\n",
      "Name: count, dtype: int64\n",
      "-------\n",
      "YEAR BUILT\n",
      "False    685\n",
      "Name: count, dtype: int64\n",
      "-------\n"
     ]
    }
   ],
   "source": [
    "# Data checks\n",
    "print(df_filtered['PRICE'].isna().value_counts())\n",
    "print('-------')\n",
    "print(df_filtered['$/SQUARE FEET'].isna().value_counts())\n",
    "print('-------')\n",
    "print(df_filtered['YEAR BUILT'].isna().value_counts())\n",
    "print('-------')"
   ]
  },
  {
   "cell_type": "code",
   "execution_count": 14,
   "id": "446eb268",
   "metadata": {},
   "outputs": [
    {
     "name": "stdout",
     "output_type": "stream",
     "text": [
      "https://www.redfin.com/FL/Fort-Lauderdale/525-N-Fort-Lauderdale-Beach-Blvd-33304/unit-1604/home/174573453\n"
     ]
    }
   ],
   "source": [
    "sorted_df = df_filtered.sort_values(by='YEAR BUILT', ascending=False)\n",
    "second_newest_building = sorted_df.iloc[2]\n",
    "print(second_newest_building['URL'])"
   ]
  },
  {
   "cell_type": "code",
   "execution_count": 15,
   "id": "61663e76",
   "metadata": {},
   "outputs": [
    {
     "data": {
      "text/html": [
       "<div>\n",
       "<style scoped>\n",
       "    .dataframe tbody tr th:only-of-type {\n",
       "        vertical-align: middle;\n",
       "    }\n",
       "\n",
       "    .dataframe tbody tr th {\n",
       "        vertical-align: top;\n",
       "    }\n",
       "\n",
       "    .dataframe thead th {\n",
       "        text-align: right;\n",
       "    }\n",
       "</style>\n",
       "<table border=\"1\" class=\"dataframe\">\n",
       "  <thead>\n",
       "    <tr style=\"text-align: right;\">\n",
       "      <th></th>\n",
       "      <th>SALE TYPE</th>\n",
       "      <th>SOLD DATE</th>\n",
       "      <th>PROPERTY TYPE</th>\n",
       "      <th>ADDRESS</th>\n",
       "      <th>CITY</th>\n",
       "      <th>STATE OR PROVINCE</th>\n",
       "      <th>ZIP OR POSTAL CODE</th>\n",
       "      <th>PRICE</th>\n",
       "      <th>BEDS</th>\n",
       "      <th>BATHS</th>\n",
       "      <th>...</th>\n",
       "      <th>STATUS</th>\n",
       "      <th>NEXT OPEN HOUSE START TIME</th>\n",
       "      <th>NEXT OPEN HOUSE END TIME</th>\n",
       "      <th>URL</th>\n",
       "      <th>SOURCE</th>\n",
       "      <th>MLS#</th>\n",
       "      <th>FAVORITE</th>\n",
       "      <th>INTERESTED</th>\n",
       "      <th>LATITUDE</th>\n",
       "      <th>LONGITUDE</th>\n",
       "    </tr>\n",
       "  </thead>\n",
       "  <tbody>\n",
       "  </tbody>\n",
       "</table>\n",
       "<p>0 rows × 27 columns</p>\n",
       "</div>"
      ],
      "text/plain": [
       "Empty DataFrame\n",
       "Columns: [SALE TYPE, SOLD DATE, PROPERTY TYPE, ADDRESS, CITY, STATE OR PROVINCE, ZIP OR POSTAL CODE, PRICE, BEDS, BATHS, LOCATION, SQUARE FEET, LOT SIZE, YEAR BUILT, DAYS ON MARKET, $/SQUARE FEET, HOA/MONTH, STATUS, NEXT OPEN HOUSE START TIME, NEXT OPEN HOUSE END TIME, URL, SOURCE, MLS#, FAVORITE, INTERESTED, LATITUDE, LONGITUDE]\n",
       "Index: []\n",
       "\n",
       "[0 rows x 27 columns]"
      ]
     },
     "execution_count": 15,
     "metadata": {},
     "output_type": "execute_result"
    }
   ],
   "source": [
    "df_filtered.loc[df_filtered['PRICE'] == '0']"
   ]
  },
  {
   "cell_type": "code",
   "execution_count": 16,
   "id": "b0376d17",
   "metadata": {},
   "outputs": [],
   "source": [
    "df_filtered['PRICE'] = pd.to_numeric(df_filtered['PRICE'])\n",
    "df_filtered['$/SQUARE FEET'] = pd.to_numeric(df_filtered['$/SQUARE FEET'])\n",
    "df_filtered['YEAR BUILT'] = pd.to_numeric(df_filtered['YEAR BUILT'])\n",
    "df_filtered['LATITUDE'] = pd.to_numeric(df_filtered['LATITUDE'])\n",
    "df_filtered['LONGITUDE'] = pd.to_numeric(df_filtered['LONGITUDE'])"
   ]
  },
  {
   "cell_type": "code",
   "execution_count": 17,
   "id": "22be7f44",
   "metadata": {},
   "outputs": [],
   "source": [
    "df_filtered = df_filtered.drop_duplicates().reset_index(drop=True)"
   ]
  },
  {
   "cell_type": "code",
   "execution_count": 18,
   "id": "a5e15306",
   "metadata": {},
   "outputs": [
    {
     "data": {
      "text/html": [
       "<div>\n",
       "<style scoped>\n",
       "    .dataframe tbody tr th:only-of-type {\n",
       "        vertical-align: middle;\n",
       "    }\n",
       "\n",
       "    .dataframe tbody tr th {\n",
       "        vertical-align: top;\n",
       "    }\n",
       "\n",
       "    .dataframe thead th {\n",
       "        text-align: right;\n",
       "    }\n",
       "</style>\n",
       "<table border=\"1\" class=\"dataframe\">\n",
       "  <thead>\n",
       "    <tr style=\"text-align: right;\">\n",
       "      <th></th>\n",
       "      <th>SALE TYPE</th>\n",
       "      <th>SOLD DATE</th>\n",
       "      <th>PROPERTY TYPE</th>\n",
       "      <th>ADDRESS</th>\n",
       "      <th>CITY</th>\n",
       "      <th>STATE OR PROVINCE</th>\n",
       "      <th>ZIP OR POSTAL CODE</th>\n",
       "      <th>PRICE</th>\n",
       "      <th>BEDS</th>\n",
       "      <th>BATHS</th>\n",
       "      <th>...</th>\n",
       "      <th>STATUS</th>\n",
       "      <th>NEXT OPEN HOUSE START TIME</th>\n",
       "      <th>NEXT OPEN HOUSE END TIME</th>\n",
       "      <th>URL</th>\n",
       "      <th>SOURCE</th>\n",
       "      <th>MLS#</th>\n",
       "      <th>FAVORITE</th>\n",
       "      <th>INTERESTED</th>\n",
       "      <th>LATITUDE</th>\n",
       "      <th>LONGITUDE</th>\n",
       "    </tr>\n",
       "  </thead>\n",
       "  <tbody>\n",
       "    <tr>\n",
       "      <th>102</th>\n",
       "      <td>PAST SALE</td>\n",
       "      <td>September-9-2024</td>\n",
       "      <td>Condo/Co-op</td>\n",
       "      <td>3210 Holiday Springs Blvd Unit 2-110</td>\n",
       "      <td>Margate</td>\n",
       "      <td>FL</td>\n",
       "      <td>33063.0</td>\n",
       "      <td>65000.0</td>\n",
       "      <td>1.0</td>\n",
       "      <td>1.0</td>\n",
       "      <td>...</td>\n",
       "      <td>Sold</td>\n",
       "      <td>NaN</td>\n",
       "      <td>NaN</td>\n",
       "      <td>https://www.redfin.com/FL/Margate/3210-Holiday...</td>\n",
       "      <td>Beaches MLS</td>\n",
       "      <td>F10451741</td>\n",
       "      <td>N</td>\n",
       "      <td>Y</td>\n",
       "      <td>26.266761</td>\n",
       "      <td>-80.233408</td>\n",
       "    </tr>\n",
       "    <tr>\n",
       "      <th>131</th>\n",
       "      <td>PAST SALE</td>\n",
       "      <td>September-17-2024</td>\n",
       "      <td>Condo/Co-op</td>\n",
       "      <td>9141 Sunrise Lakes Blvd #207</td>\n",
       "      <td>Sunrise</td>\n",
       "      <td>FL</td>\n",
       "      <td>33322.0</td>\n",
       "      <td>75000.0</td>\n",
       "      <td>1.0</td>\n",
       "      <td>1.0</td>\n",
       "      <td>...</td>\n",
       "      <td>Sold</td>\n",
       "      <td>NaN</td>\n",
       "      <td>NaN</td>\n",
       "      <td>https://www.redfin.com/FL/Sunrise/9141-Sunrise...</td>\n",
       "      <td>Beaches MLS</td>\n",
       "      <td>F10433280</td>\n",
       "      <td>N</td>\n",
       "      <td>Y</td>\n",
       "      <td>26.163485</td>\n",
       "      <td>-80.275157</td>\n",
       "    </tr>\n",
       "    <tr>\n",
       "      <th>146</th>\n",
       "      <td>PAST SALE</td>\n",
       "      <td>September-27-2024</td>\n",
       "      <td>Condo/Co-op</td>\n",
       "      <td>78 Harwood H</td>\n",
       "      <td>Deerfield Beach</td>\n",
       "      <td>FL</td>\n",
       "      <td>33442.0</td>\n",
       "      <td>76000.0</td>\n",
       "      <td>1.0</td>\n",
       "      <td>1.0</td>\n",
       "      <td>...</td>\n",
       "      <td>Sold</td>\n",
       "      <td>NaN</td>\n",
       "      <td>NaN</td>\n",
       "      <td>https://www.redfin.com/FL/Deerfield-Beach/78-H...</td>\n",
       "      <td>Beaches MLS</td>\n",
       "      <td>RX-10954386</td>\n",
       "      <td>N</td>\n",
       "      <td>Y</td>\n",
       "      <td>26.307418</td>\n",
       "      <td>-80.136683</td>\n",
       "    </tr>\n",
       "    <tr>\n",
       "      <th>154</th>\n",
       "      <td>PAST SALE</td>\n",
       "      <td>September-9-2024</td>\n",
       "      <td>Condo/Co-op</td>\n",
       "      <td>1380 NW 43rd Ter #203</td>\n",
       "      <td>Lauderhill</td>\n",
       "      <td>FL</td>\n",
       "      <td>33313.0</td>\n",
       "      <td>79500.0</td>\n",
       "      <td>1.0</td>\n",
       "      <td>1.0</td>\n",
       "      <td>...</td>\n",
       "      <td>Sold</td>\n",
       "      <td>NaN</td>\n",
       "      <td>NaN</td>\n",
       "      <td>https://www.redfin.com/FL/Lauderhill/1380-NW-4...</td>\n",
       "      <td>MARMLS</td>\n",
       "      <td>A11406972</td>\n",
       "      <td>N</td>\n",
       "      <td>Y</td>\n",
       "      <td>26.143632</td>\n",
       "      <td>-80.207993</td>\n",
       "    </tr>\n",
       "    <tr>\n",
       "      <th>111</th>\n",
       "      <td>PAST SALE</td>\n",
       "      <td>September-30-2024</td>\n",
       "      <td>Condo/Co-op</td>\n",
       "      <td>601 NW 79th Ave #104</td>\n",
       "      <td>Margate</td>\n",
       "      <td>FL</td>\n",
       "      <td>33063.0</td>\n",
       "      <td>80000.0</td>\n",
       "      <td>1.0</td>\n",
       "      <td>1.0</td>\n",
       "      <td>...</td>\n",
       "      <td>Sold</td>\n",
       "      <td>NaN</td>\n",
       "      <td>NaN</td>\n",
       "      <td>https://www.redfin.com/FL/Margate/601-NW-79th-...</td>\n",
       "      <td>MARMLS</td>\n",
       "      <td>A11607633</td>\n",
       "      <td>N</td>\n",
       "      <td>Y</td>\n",
       "      <td>26.236504</td>\n",
       "      <td>-80.231167</td>\n",
       "    </tr>\n",
       "    <tr>\n",
       "      <th>149</th>\n",
       "      <td>PAST SALE</td>\n",
       "      <td>September-24-2024</td>\n",
       "      <td>Condo/Co-op</td>\n",
       "      <td>2841 Somerset Dr #306</td>\n",
       "      <td>Lauderdale Lakes</td>\n",
       "      <td>FL</td>\n",
       "      <td>33311.0</td>\n",
       "      <td>81000.0</td>\n",
       "      <td>1.0</td>\n",
       "      <td>1.0</td>\n",
       "      <td>...</td>\n",
       "      <td>Sold</td>\n",
       "      <td>NaN</td>\n",
       "      <td>NaN</td>\n",
       "      <td>https://www.redfin.com/FL/Lauderdale-Lakes/284...</td>\n",
       "      <td>MARMLS</td>\n",
       "      <td>A11505766</td>\n",
       "      <td>N</td>\n",
       "      <td>Y</td>\n",
       "      <td>26.161016</td>\n",
       "      <td>-80.191625</td>\n",
       "    </tr>\n",
       "    <tr>\n",
       "      <th>79</th>\n",
       "      <td>PAST SALE</td>\n",
       "      <td>September-23-2024</td>\n",
       "      <td>Condo/Co-op</td>\n",
       "      <td>8900 Washington Blvd #416</td>\n",
       "      <td>Pembroke Pines</td>\n",
       "      <td>FL</td>\n",
       "      <td>33025.0</td>\n",
       "      <td>82500.0</td>\n",
       "      <td>1.0</td>\n",
       "      <td>1.5</td>\n",
       "      <td>...</td>\n",
       "      <td>Sold</td>\n",
       "      <td>NaN</td>\n",
       "      <td>NaN</td>\n",
       "      <td>https://www.redfin.com/FL/Pembroke-Pines/8900-...</td>\n",
       "      <td>Beaches MLS</td>\n",
       "      <td>F10458426</td>\n",
       "      <td>N</td>\n",
       "      <td>Y</td>\n",
       "      <td>26.000815</td>\n",
       "      <td>-80.264953</td>\n",
       "    </tr>\n",
       "    <tr>\n",
       "      <th>82</th>\n",
       "      <td>PAST SALE</td>\n",
       "      <td>September-24-2024</td>\n",
       "      <td>Condo/Co-op</td>\n",
       "      <td>8990 S Hollybrook Blvd #106</td>\n",
       "      <td>Pembroke Pines</td>\n",
       "      <td>FL</td>\n",
       "      <td>33025.0</td>\n",
       "      <td>85000.0</td>\n",
       "      <td>1.0</td>\n",
       "      <td>1.5</td>\n",
       "      <td>...</td>\n",
       "      <td>Sold</td>\n",
       "      <td>NaN</td>\n",
       "      <td>NaN</td>\n",
       "      <td>https://www.redfin.com/FL/Pembroke-Pines/8990-...</td>\n",
       "      <td>Beaches MLS</td>\n",
       "      <td>F10451972</td>\n",
       "      <td>N</td>\n",
       "      <td>Y</td>\n",
       "      <td>26.001894</td>\n",
       "      <td>-80.268215</td>\n",
       "    </tr>\n",
       "    <tr>\n",
       "      <th>142</th>\n",
       "      <td>PAST SALE</td>\n",
       "      <td>September-25-2024</td>\n",
       "      <td>Condo/Co-op</td>\n",
       "      <td>2811 N Pine Island Rd #207</td>\n",
       "      <td>Sunrise</td>\n",
       "      <td>FL</td>\n",
       "      <td>33322.0</td>\n",
       "      <td>87000.0</td>\n",
       "      <td>1.0</td>\n",
       "      <td>1.0</td>\n",
       "      <td>...</td>\n",
       "      <td>Sold</td>\n",
       "      <td>NaN</td>\n",
       "      <td>NaN</td>\n",
       "      <td>https://www.redfin.com/FL/Sunrise/2811-N-Pine-...</td>\n",
       "      <td>Beaches MLS</td>\n",
       "      <td>F10425281</td>\n",
       "      <td>N</td>\n",
       "      <td>Y</td>\n",
       "      <td>26.160323</td>\n",
       "      <td>-80.268787</td>\n",
       "    </tr>\n",
       "    <tr>\n",
       "      <th>156</th>\n",
       "      <td>PAST SALE</td>\n",
       "      <td>September-10-2024</td>\n",
       "      <td>Condo/Co-op</td>\n",
       "      <td>4851 NW 26th Ct #436</td>\n",
       "      <td>Lauderdale Lakes</td>\n",
       "      <td>FL</td>\n",
       "      <td>33313.0</td>\n",
       "      <td>89900.0</td>\n",
       "      <td>1.0</td>\n",
       "      <td>1.0</td>\n",
       "      <td>...</td>\n",
       "      <td>Sold</td>\n",
       "      <td>NaN</td>\n",
       "      <td>NaN</td>\n",
       "      <td>https://www.redfin.com/FL/Lauderdale-Lakes/485...</td>\n",
       "      <td>Beaches MLS</td>\n",
       "      <td>F10363047</td>\n",
       "      <td>N</td>\n",
       "      <td>Y</td>\n",
       "      <td>26.160522</td>\n",
       "      <td>-80.216730</td>\n",
       "    </tr>\n",
       "    <tr>\n",
       "      <th>114</th>\n",
       "      <td>PAST SALE</td>\n",
       "      <td>September-9-2024</td>\n",
       "      <td>Condo/Co-op</td>\n",
       "      <td>7891 N Sunrise Lakes Dr #101</td>\n",
       "      <td>Sunrise</td>\n",
       "      <td>FL</td>\n",
       "      <td>33322.0</td>\n",
       "      <td>90000.0</td>\n",
       "      <td>2.0</td>\n",
       "      <td>2.0</td>\n",
       "      <td>...</td>\n",
       "      <td>Sold</td>\n",
       "      <td>NaN</td>\n",
       "      <td>NaN</td>\n",
       "      <td>https://www.redfin.com/FL/Sunrise/7891-Sunrise...</td>\n",
       "      <td>Beaches MLS</td>\n",
       "      <td>RX-10994375</td>\n",
       "      <td>N</td>\n",
       "      <td>Y</td>\n",
       "      <td>26.163992</td>\n",
       "      <td>-80.250307</td>\n",
       "    </tr>\n",
       "    <tr>\n",
       "      <th>150</th>\n",
       "      <td>PAST SALE</td>\n",
       "      <td>September-23-2024</td>\n",
       "      <td>Condo/Co-op</td>\n",
       "      <td>5300 Washington St Unit N112</td>\n",
       "      <td>Hollywood</td>\n",
       "      <td>FL</td>\n",
       "      <td>33021.0</td>\n",
       "      <td>90000.0</td>\n",
       "      <td>1.0</td>\n",
       "      <td>1.5</td>\n",
       "      <td>...</td>\n",
       "      <td>Sold</td>\n",
       "      <td>NaN</td>\n",
       "      <td>NaN</td>\n",
       "      <td>https://www.redfin.com/FL/Hollywood/5300-Washi...</td>\n",
       "      <td>MARMLS</td>\n",
       "      <td>A11508727</td>\n",
       "      <td>N</td>\n",
       "      <td>Y</td>\n",
       "      <td>26.000708</td>\n",
       "      <td>-80.196096</td>\n",
       "    </tr>\n",
       "    <tr>\n",
       "      <th>101</th>\n",
       "      <td>PAST SALE</td>\n",
       "      <td>September-5-2024</td>\n",
       "      <td>Condo/Co-op</td>\n",
       "      <td>2009 Harwood C #2009</td>\n",
       "      <td>Deerfield Beach</td>\n",
       "      <td>FL</td>\n",
       "      <td>33442.0</td>\n",
       "      <td>90000.0</td>\n",
       "      <td>1.0</td>\n",
       "      <td>1.0</td>\n",
       "      <td>...</td>\n",
       "      <td>Sold</td>\n",
       "      <td>NaN</td>\n",
       "      <td>NaN</td>\n",
       "      <td>https://www.redfin.com/FL/Deerfield-Beach/2009...</td>\n",
       "      <td>Beaches MLS</td>\n",
       "      <td>F10451018</td>\n",
       "      <td>N</td>\n",
       "      <td>Y</td>\n",
       "      <td>26.305696</td>\n",
       "      <td>-80.135141</td>\n",
       "    </tr>\n",
       "    <tr>\n",
       "      <th>135</th>\n",
       "      <td>PAST SALE</td>\n",
       "      <td>September-30-2024</td>\n",
       "      <td>Condo/Co-op</td>\n",
       "      <td>4441 NW 16th St Unit J107</td>\n",
       "      <td>Lauderhill</td>\n",
       "      <td>FL</td>\n",
       "      <td>33313.0</td>\n",
       "      <td>93500.0</td>\n",
       "      <td>1.0</td>\n",
       "      <td>1.0</td>\n",
       "      <td>...</td>\n",
       "      <td>Sold</td>\n",
       "      <td>NaN</td>\n",
       "      <td>NaN</td>\n",
       "      <td>https://www.redfin.com/FL/Lauderhill/4441-NW-1...</td>\n",
       "      <td>MARMLS</td>\n",
       "      <td>A11568467</td>\n",
       "      <td>N</td>\n",
       "      <td>Y</td>\n",
       "      <td>26.146121</td>\n",
       "      <td>-80.208690</td>\n",
       "    </tr>\n",
       "    <tr>\n",
       "      <th>130</th>\n",
       "      <td>PAST SALE</td>\n",
       "      <td>September-18-2024</td>\n",
       "      <td>Condo/Co-op</td>\n",
       "      <td>8900 Washington Blvd Unit 506A</td>\n",
       "      <td>Hollywood</td>\n",
       "      <td>FL</td>\n",
       "      <td>33025.0</td>\n",
       "      <td>94000.0</td>\n",
       "      <td>1.0</td>\n",
       "      <td>1.5</td>\n",
       "      <td>...</td>\n",
       "      <td>Sold</td>\n",
       "      <td>NaN</td>\n",
       "      <td>NaN</td>\n",
       "      <td>https://www.redfin.com/FL/Pembroke-Pines/8900-...</td>\n",
       "      <td>Beaches MLS</td>\n",
       "      <td>F10429687</td>\n",
       "      <td>N</td>\n",
       "      <td>Y</td>\n",
       "      <td>26.000815</td>\n",
       "      <td>-80.264953</td>\n",
       "    </tr>\n",
       "    <tr>\n",
       "      <th>83</th>\n",
       "      <td>PAST SALE</td>\n",
       "      <td>September-30-2024</td>\n",
       "      <td>Condo/Co-op</td>\n",
       "      <td>3241 Holiday Springs Blvd #207</td>\n",
       "      <td>Margate</td>\n",
       "      <td>FL</td>\n",
       "      <td>33063.0</td>\n",
       "      <td>95000.0</td>\n",
       "      <td>1.0</td>\n",
       "      <td>1.5</td>\n",
       "      <td>...</td>\n",
       "      <td>Sold</td>\n",
       "      <td>NaN</td>\n",
       "      <td>NaN</td>\n",
       "      <td>https://www.redfin.com/FL/Margate/3241-Holiday...</td>\n",
       "      <td>Beaches MLS</td>\n",
       "      <td>F10454414</td>\n",
       "      <td>N</td>\n",
       "      <td>Y</td>\n",
       "      <td>26.268650</td>\n",
       "      <td>-80.230993</td>\n",
       "    </tr>\n",
       "    <tr>\n",
       "      <th>95</th>\n",
       "      <td>PAST SALE</td>\n",
       "      <td>September-11-2024</td>\n",
       "      <td>Condo/Co-op</td>\n",
       "      <td>9900 Sunrise Lakes Blvd #103</td>\n",
       "      <td>Sunrise</td>\n",
       "      <td>FL</td>\n",
       "      <td>33322.0</td>\n",
       "      <td>99000.0</td>\n",
       "      <td>2.0</td>\n",
       "      <td>2.0</td>\n",
       "      <td>...</td>\n",
       "      <td>Sold</td>\n",
       "      <td>NaN</td>\n",
       "      <td>NaN</td>\n",
       "      <td>https://www.redfin.com/FL/Sunrise/9900-Sunrise...</td>\n",
       "      <td>MARMLS</td>\n",
       "      <td>A11626984</td>\n",
       "      <td>N</td>\n",
       "      <td>Y</td>\n",
       "      <td>26.159053</td>\n",
       "      <td>-80.281653</td>\n",
       "    </tr>\n",
       "    <tr>\n",
       "      <th>91</th>\n",
       "      <td>PAST SALE</td>\n",
       "      <td>September-27-2024</td>\n",
       "      <td>Condo/Co-op</td>\n",
       "      <td>3740 Inverrary Dr Unit 2d</td>\n",
       "      <td>Lauderhill</td>\n",
       "      <td>FL</td>\n",
       "      <td>33319.0</td>\n",
       "      <td>99700.0</td>\n",
       "      <td>1.0</td>\n",
       "      <td>1.5</td>\n",
       "      <td>...</td>\n",
       "      <td>Sold</td>\n",
       "      <td>NaN</td>\n",
       "      <td>NaN</td>\n",
       "      <td>https://www.redfin.com/FL/Lauderhill/3740-Inve...</td>\n",
       "      <td>Beaches MLS</td>\n",
       "      <td>RX-11012024</td>\n",
       "      <td>N</td>\n",
       "      <td>Y</td>\n",
       "      <td>26.172290</td>\n",
       "      <td>-80.226160</td>\n",
       "    </tr>\n",
       "    <tr>\n",
       "      <th>93</th>\n",
       "      <td>PAST SALE</td>\n",
       "      <td>September-27-2024</td>\n",
       "      <td>Condo/Co-op</td>\n",
       "      <td>2640 Pierce St #3</td>\n",
       "      <td>Hollywood</td>\n",
       "      <td>FL</td>\n",
       "      <td>33020.0</td>\n",
       "      <td>100000.0</td>\n",
       "      <td>1.0</td>\n",
       "      <td>1.0</td>\n",
       "      <td>...</td>\n",
       "      <td>Sold</td>\n",
       "      <td>NaN</td>\n",
       "      <td>NaN</td>\n",
       "      <td>https://www.redfin.com/FL/Hollywood/2640-Pierc...</td>\n",
       "      <td>Beaches MLS</td>\n",
       "      <td>F10459262</td>\n",
       "      <td>N</td>\n",
       "      <td>Y</td>\n",
       "      <td>26.015624</td>\n",
       "      <td>-80.161167</td>\n",
       "    </tr>\n",
       "    <tr>\n",
       "      <th>119</th>\n",
       "      <td>PAST SALE</td>\n",
       "      <td>September-30-2024</td>\n",
       "      <td>Condo/Co-op</td>\n",
       "      <td>9441 Sunrise Lakes Blvd #107</td>\n",
       "      <td>Sunrise</td>\n",
       "      <td>FL</td>\n",
       "      <td>33322.0</td>\n",
       "      <td>100000.0</td>\n",
       "      <td>1.0</td>\n",
       "      <td>1.5</td>\n",
       "      <td>...</td>\n",
       "      <td>Sold</td>\n",
       "      <td>NaN</td>\n",
       "      <td>NaN</td>\n",
       "      <td>https://www.redfin.com/FL/Sunrise/9441-Sunrise...</td>\n",
       "      <td>Beaches MLS</td>\n",
       "      <td>F10447145</td>\n",
       "      <td>N</td>\n",
       "      <td>Y</td>\n",
       "      <td>26.160255</td>\n",
       "      <td>-80.277223</td>\n",
       "    </tr>\n",
       "  </tbody>\n",
       "</table>\n",
       "<p>20 rows × 27 columns</p>\n",
       "</div>"
      ],
      "text/plain": [
       "     SALE TYPE          SOLD DATE PROPERTY TYPE  \\\n",
       "102  PAST SALE   September-9-2024   Condo/Co-op   \n",
       "131  PAST SALE  September-17-2024   Condo/Co-op   \n",
       "146  PAST SALE  September-27-2024   Condo/Co-op   \n",
       "154  PAST SALE   September-9-2024   Condo/Co-op   \n",
       "111  PAST SALE  September-30-2024   Condo/Co-op   \n",
       "149  PAST SALE  September-24-2024   Condo/Co-op   \n",
       "79   PAST SALE  September-23-2024   Condo/Co-op   \n",
       "82   PAST SALE  September-24-2024   Condo/Co-op   \n",
       "142  PAST SALE  September-25-2024   Condo/Co-op   \n",
       "156  PAST SALE  September-10-2024   Condo/Co-op   \n",
       "114  PAST SALE   September-9-2024   Condo/Co-op   \n",
       "150  PAST SALE  September-23-2024   Condo/Co-op   \n",
       "101  PAST SALE   September-5-2024   Condo/Co-op   \n",
       "135  PAST SALE  September-30-2024   Condo/Co-op   \n",
       "130  PAST SALE  September-18-2024   Condo/Co-op   \n",
       "83   PAST SALE  September-30-2024   Condo/Co-op   \n",
       "95   PAST SALE  September-11-2024   Condo/Co-op   \n",
       "91   PAST SALE  September-27-2024   Condo/Co-op   \n",
       "93   PAST SALE  September-27-2024   Condo/Co-op   \n",
       "119  PAST SALE  September-30-2024   Condo/Co-op   \n",
       "\n",
       "                                  ADDRESS              CITY STATE OR PROVINCE  \\\n",
       "102  3210 Holiday Springs Blvd Unit 2-110           Margate                FL   \n",
       "131          9141 Sunrise Lakes Blvd #207           Sunrise                FL   \n",
       "146                          78 Harwood H   Deerfield Beach                FL   \n",
       "154                 1380 NW 43rd Ter #203        Lauderhill                FL   \n",
       "111                  601 NW 79th Ave #104           Margate                FL   \n",
       "149                 2841 Somerset Dr #306  Lauderdale Lakes                FL   \n",
       "79              8900 Washington Blvd #416    Pembroke Pines                FL   \n",
       "82            8990 S Hollybrook Blvd #106    Pembroke Pines                FL   \n",
       "142            2811 N Pine Island Rd #207           Sunrise                FL   \n",
       "156                  4851 NW 26th Ct #436  Lauderdale Lakes                FL   \n",
       "114          7891 N Sunrise Lakes Dr #101           Sunrise                FL   \n",
       "150          5300 Washington St Unit N112         Hollywood                FL   \n",
       "101                  2009 Harwood C #2009   Deerfield Beach                FL   \n",
       "135             4441 NW 16th St Unit J107        Lauderhill                FL   \n",
       "130        8900 Washington Blvd Unit 506A         Hollywood                FL   \n",
       "83         3241 Holiday Springs Blvd #207           Margate                FL   \n",
       "95           9900 Sunrise Lakes Blvd #103           Sunrise                FL   \n",
       "91              3740 Inverrary Dr Unit 2d        Lauderhill                FL   \n",
       "93                      2640 Pierce St #3         Hollywood                FL   \n",
       "119          9441 Sunrise Lakes Blvd #107           Sunrise                FL   \n",
       "\n",
       "    ZIP OR POSTAL CODE     PRICE  BEDS  BATHS  ... STATUS  \\\n",
       "102            33063.0   65000.0   1.0    1.0  ...   Sold   \n",
       "131            33322.0   75000.0   1.0    1.0  ...   Sold   \n",
       "146            33442.0   76000.0   1.0    1.0  ...   Sold   \n",
       "154            33313.0   79500.0   1.0    1.0  ...   Sold   \n",
       "111            33063.0   80000.0   1.0    1.0  ...   Sold   \n",
       "149            33311.0   81000.0   1.0    1.0  ...   Sold   \n",
       "79             33025.0   82500.0   1.0    1.5  ...   Sold   \n",
       "82             33025.0   85000.0   1.0    1.5  ...   Sold   \n",
       "142            33322.0   87000.0   1.0    1.0  ...   Sold   \n",
       "156            33313.0   89900.0   1.0    1.0  ...   Sold   \n",
       "114            33322.0   90000.0   2.0    2.0  ...   Sold   \n",
       "150            33021.0   90000.0   1.0    1.5  ...   Sold   \n",
       "101            33442.0   90000.0   1.0    1.0  ...   Sold   \n",
       "135            33313.0   93500.0   1.0    1.0  ...   Sold   \n",
       "130            33025.0   94000.0   1.0    1.5  ...   Sold   \n",
       "83             33063.0   95000.0   1.0    1.5  ...   Sold   \n",
       "95             33322.0   99000.0   2.0    2.0  ...   Sold   \n",
       "91             33319.0   99700.0   1.0    1.5  ...   Sold   \n",
       "93             33020.0  100000.0   1.0    1.0  ...   Sold   \n",
       "119            33322.0  100000.0   1.0    1.5  ...   Sold   \n",
       "\n",
       "     NEXT OPEN HOUSE START TIME  NEXT OPEN HOUSE END TIME  \\\n",
       "102                         NaN                       NaN   \n",
       "131                         NaN                       NaN   \n",
       "146                         NaN                       NaN   \n",
       "154                         NaN                       NaN   \n",
       "111                         NaN                       NaN   \n",
       "149                         NaN                       NaN   \n",
       "79                          NaN                       NaN   \n",
       "82                          NaN                       NaN   \n",
       "142                         NaN                       NaN   \n",
       "156                         NaN                       NaN   \n",
       "114                         NaN                       NaN   \n",
       "150                         NaN                       NaN   \n",
       "101                         NaN                       NaN   \n",
       "135                         NaN                       NaN   \n",
       "130                         NaN                       NaN   \n",
       "83                          NaN                       NaN   \n",
       "95                          NaN                       NaN   \n",
       "91                          NaN                       NaN   \n",
       "93                          NaN                       NaN   \n",
       "119                         NaN                       NaN   \n",
       "\n",
       "                                                   URL       SOURCE  \\\n",
       "102  https://www.redfin.com/FL/Margate/3210-Holiday...  Beaches MLS   \n",
       "131  https://www.redfin.com/FL/Sunrise/9141-Sunrise...  Beaches MLS   \n",
       "146  https://www.redfin.com/FL/Deerfield-Beach/78-H...  Beaches MLS   \n",
       "154  https://www.redfin.com/FL/Lauderhill/1380-NW-4...       MARMLS   \n",
       "111  https://www.redfin.com/FL/Margate/601-NW-79th-...       MARMLS   \n",
       "149  https://www.redfin.com/FL/Lauderdale-Lakes/284...       MARMLS   \n",
       "79   https://www.redfin.com/FL/Pembroke-Pines/8900-...  Beaches MLS   \n",
       "82   https://www.redfin.com/FL/Pembroke-Pines/8990-...  Beaches MLS   \n",
       "142  https://www.redfin.com/FL/Sunrise/2811-N-Pine-...  Beaches MLS   \n",
       "156  https://www.redfin.com/FL/Lauderdale-Lakes/485...  Beaches MLS   \n",
       "114  https://www.redfin.com/FL/Sunrise/7891-Sunrise...  Beaches MLS   \n",
       "150  https://www.redfin.com/FL/Hollywood/5300-Washi...       MARMLS   \n",
       "101  https://www.redfin.com/FL/Deerfield-Beach/2009...  Beaches MLS   \n",
       "135  https://www.redfin.com/FL/Lauderhill/4441-NW-1...       MARMLS   \n",
       "130  https://www.redfin.com/FL/Pembroke-Pines/8900-...  Beaches MLS   \n",
       "83   https://www.redfin.com/FL/Margate/3241-Holiday...  Beaches MLS   \n",
       "95   https://www.redfin.com/FL/Sunrise/9900-Sunrise...       MARMLS   \n",
       "91   https://www.redfin.com/FL/Lauderhill/3740-Inve...  Beaches MLS   \n",
       "93   https://www.redfin.com/FL/Hollywood/2640-Pierc...  Beaches MLS   \n",
       "119  https://www.redfin.com/FL/Sunrise/9441-Sunrise...  Beaches MLS   \n",
       "\n",
       "            MLS#  FAVORITE INTERESTED   LATITUDE  LONGITUDE  \n",
       "102    F10451741         N          Y  26.266761 -80.233408  \n",
       "131    F10433280         N          Y  26.163485 -80.275157  \n",
       "146  RX-10954386         N          Y  26.307418 -80.136683  \n",
       "154    A11406972         N          Y  26.143632 -80.207993  \n",
       "111    A11607633         N          Y  26.236504 -80.231167  \n",
       "149    A11505766         N          Y  26.161016 -80.191625  \n",
       "79     F10458426         N          Y  26.000815 -80.264953  \n",
       "82     F10451972         N          Y  26.001894 -80.268215  \n",
       "142    F10425281         N          Y  26.160323 -80.268787  \n",
       "156    F10363047         N          Y  26.160522 -80.216730  \n",
       "114  RX-10994375         N          Y  26.163992 -80.250307  \n",
       "150    A11508727         N          Y  26.000708 -80.196096  \n",
       "101    F10451018         N          Y  26.305696 -80.135141  \n",
       "135    A11568467         N          Y  26.146121 -80.208690  \n",
       "130    F10429687         N          Y  26.000815 -80.264953  \n",
       "83     F10454414         N          Y  26.268650 -80.230993  \n",
       "95     A11626984         N          Y  26.159053 -80.281653  \n",
       "91   RX-11012024         N          Y  26.172290 -80.226160  \n",
       "93     F10459262         N          Y  26.015624 -80.161167  \n",
       "119    F10447145         N          Y  26.160255 -80.277223  \n",
       "\n",
       "[20 rows x 27 columns]"
      ]
     },
     "execution_count": 18,
     "metadata": {},
     "output_type": "execute_result"
    }
   ],
   "source": [
    "df_filtered.sort_values(by='PRICE',ascending=True).head(20)"
   ]
  },
  {
   "cell_type": "code",
   "execution_count": 22,
   "id": "e6256bce",
   "metadata": {},
   "outputs": [
    {
     "name": "stdout",
     "output_type": "stream",
     "text": [
      "https://www.redfin.com/FL/Deerfield-Beach/78-Harwood-H-33442/home/41461691\n"
     ]
    }
   ],
   "source": [
    "print(df_filtered['URL'].iloc[146])"
   ]
  },
  {
   "cell_type": "code",
   "execution_count": 29,
   "id": "fe440217",
   "metadata": {},
   "outputs": [],
   "source": [
    "# # Correct the prices, if needed\n",
    "# df_filtered.at[29,'PRICE']=(122_000)\n",
    "# df_filtered.at[50,'PRICE']=(188_000)\n",
    "# df_filtered.at[80,'PRICE']=(200_000)\n",
    "# df_filtered.at[22,'PRICE']=(260_000)\n",
    "# df_filtered.at[28,'PRICE']=(210_000)\n",
    "# df_filtered.at[4,'PRICE']=(243_000)\n",
    "# df_filtered.at[59,'PRICE']=(300_000)\n",
    "\n",
    "# # Correct the psf, if needed\n",
    "# df_filtered.at[29,'$/SQUARE FEET']=(122_000/800)\n",
    "# df_filtered.at[50,'$/SQUARE FEET']=(188_000/1070)\n",
    "# df_filtered.at[80,'$/SQUARE FEET']=(200_000/1290)\n",
    "# df_filtered.at[22,'$/SQUARE FEET']=(260_000/1275)\n",
    "# df_filtered.at[28,'$/SQUARE FEET']=(210_000/733)\n",
    "# df_filtered.at[4,'$/SQUARE FEET']=(243_000/1370)\n",
    "# df_filtered.at[59,'$/SQUARE FEET']=(300_000/1034)"
   ]
  },
  {
   "cell_type": "code",
   "execution_count": 61,
   "id": "e3877a57",
   "metadata": {},
   "outputs": [],
   "source": [
    "### If needed, drop the row with the lowest price\n",
    "# min_value_index = df_filtered['PRICE'].idxmin()\n",
    "# df_filtered = df_filtered.drop(min_value_index)"
   ]
  },
  {
   "cell_type": "code",
   "execution_count": 24,
   "id": "7e529e83",
   "metadata": {},
   "outputs": [],
   "source": [
    "# print(df_filtered['URL'].iloc[528])"
   ]
  },
  {
   "cell_type": "code",
   "execution_count": 23,
   "id": "42d775ef",
   "metadata": {},
   "outputs": [
    {
     "data": {
      "text/html": [
       "<div>\n",
       "<style scoped>\n",
       "    .dataframe tbody tr th:only-of-type {\n",
       "        vertical-align: middle;\n",
       "    }\n",
       "\n",
       "    .dataframe tbody tr th {\n",
       "        vertical-align: top;\n",
       "    }\n",
       "\n",
       "    .dataframe thead th {\n",
       "        text-align: right;\n",
       "    }\n",
       "</style>\n",
       "<table border=\"1\" class=\"dataframe\">\n",
       "  <thead>\n",
       "    <tr style=\"text-align: right;\">\n",
       "      <th></th>\n",
       "      <th>PRICE</th>\n",
       "      <th>ADDRESS</th>\n",
       "      <th>CITY</th>\n",
       "      <th>$/SQUARE FEET</th>\n",
       "    </tr>\n",
       "  </thead>\n",
       "  <tbody>\n",
       "    <tr>\n",
       "      <th>87</th>\n",
       "      <td>110000.0</td>\n",
       "      <td>4000 NW 44th Ave #202</td>\n",
       "      <td>Lauderdale Lakes</td>\n",
       "      <td>92.0</td>\n",
       "    </tr>\n",
       "    <tr>\n",
       "      <th>82</th>\n",
       "      <td>85000.0</td>\n",
       "      <td>8990 S Hollybrook Blvd #106</td>\n",
       "      <td>Pembroke Pines</td>\n",
       "      <td>94.0</td>\n",
       "    </tr>\n",
       "    <tr>\n",
       "      <th>394</th>\n",
       "      <td>132500.0</td>\n",
       "      <td>1000 Saint Charles Pl #622</td>\n",
       "      <td>Pembroke Pines</td>\n",
       "      <td>102.0</td>\n",
       "    </tr>\n",
       "    <tr>\n",
       "      <th>79</th>\n",
       "      <td>82500.0</td>\n",
       "      <td>8900 Washington Blvd #416</td>\n",
       "      <td>Pembroke Pines</td>\n",
       "      <td>103.0</td>\n",
       "    </tr>\n",
       "    <tr>\n",
       "      <th>114</th>\n",
       "      <td>90000.0</td>\n",
       "      <td>7891 N Sunrise Lakes Dr #101</td>\n",
       "      <td>Sunrise</td>\n",
       "      <td>106.0</td>\n",
       "    </tr>\n",
       "    <tr>\n",
       "      <th>85</th>\n",
       "      <td>125000.0</td>\n",
       "      <td>10905 W Clairmont Cir #10905</td>\n",
       "      <td>Tamarac</td>\n",
       "      <td>107.0</td>\n",
       "    </tr>\n",
       "    <tr>\n",
       "      <th>88</th>\n",
       "      <td>125000.0</td>\n",
       "      <td>8100 SW 24th St #206</td>\n",
       "      <td>North Lauderdale</td>\n",
       "      <td>108.0</td>\n",
       "    </tr>\n",
       "    <tr>\n",
       "      <th>122</th>\n",
       "      <td>123000.0</td>\n",
       "      <td>10433 Sunrise Lakes Blvd #104</td>\n",
       "      <td>Sunrise</td>\n",
       "      <td>108.0</td>\n",
       "    </tr>\n",
       "    <tr>\n",
       "      <th>149</th>\n",
       "      <td>81000.0</td>\n",
       "      <td>2841 Somerset Dr #306</td>\n",
       "      <td>Lauderdale Lakes</td>\n",
       "      <td>108.0</td>\n",
       "    </tr>\n",
       "    <tr>\n",
       "      <th>154</th>\n",
       "      <td>79500.0</td>\n",
       "      <td>1380 NW 43rd Ter #203</td>\n",
       "      <td>Lauderhill</td>\n",
       "      <td>109.0</td>\n",
       "    </tr>\n",
       "    <tr>\n",
       "      <th>102</th>\n",
       "      <td>65000.0</td>\n",
       "      <td>3210 Holiday Springs Blvd Unit 2-110</td>\n",
       "      <td>Margate</td>\n",
       "      <td>109.0</td>\n",
       "    </tr>\n",
       "    <tr>\n",
       "      <th>153</th>\n",
       "      <td>105000.0</td>\n",
       "      <td>4881 NW 22nd St Unit B18</td>\n",
       "      <td>Lauderhill</td>\n",
       "      <td>110.0</td>\n",
       "    </tr>\n",
       "    <tr>\n",
       "      <th>83</th>\n",
       "      <td>95000.0</td>\n",
       "      <td>3241 Holiday Springs Blvd #207</td>\n",
       "      <td>Margate</td>\n",
       "      <td>110.0</td>\n",
       "    </tr>\n",
       "    <tr>\n",
       "      <th>106</th>\n",
       "      <td>112000.0</td>\n",
       "      <td>429 N Laurel Dr #1704</td>\n",
       "      <td>Margate</td>\n",
       "      <td>110.0</td>\n",
       "    </tr>\n",
       "    <tr>\n",
       "      <th>383</th>\n",
       "      <td>139500.0</td>\n",
       "      <td>6751 Cypress Rd #110</td>\n",
       "      <td>Plantation</td>\n",
       "      <td>112.0</td>\n",
       "    </tr>\n",
       "    <tr>\n",
       "      <th>381</th>\n",
       "      <td>134000.0</td>\n",
       "      <td>2101 Lucaya Bnd Unit C-4</td>\n",
       "      <td>Coconut Creek</td>\n",
       "      <td>112.0</td>\n",
       "    </tr>\n",
       "    <tr>\n",
       "      <th>97</th>\n",
       "      <td>106000.0</td>\n",
       "      <td>1521 NW 43rd Ave #101</td>\n",
       "      <td>Lauderhill</td>\n",
       "      <td>112.0</td>\n",
       "    </tr>\n",
       "    <tr>\n",
       "      <th>151</th>\n",
       "      <td>115000.0</td>\n",
       "      <td>402 N Laurel Dr #203</td>\n",
       "      <td>Margate</td>\n",
       "      <td>113.0</td>\n",
       "    </tr>\n",
       "    <tr>\n",
       "      <th>340</th>\n",
       "      <td>250000.0</td>\n",
       "      <td>1825 NW 58th Ave #26</td>\n",
       "      <td>Lauderhill</td>\n",
       "      <td>114.0</td>\n",
       "    </tr>\n",
       "    <tr>\n",
       "      <th>124</th>\n",
       "      <td>110000.0</td>\n",
       "      <td>1330 NW 43rd Ave #308</td>\n",
       "      <td>Lauderhill</td>\n",
       "      <td>116.0</td>\n",
       "    </tr>\n",
       "  </tbody>\n",
       "</table>\n",
       "</div>"
      ],
      "text/plain": [
       "        PRICE                               ADDRESS              CITY  \\\n",
       "87   110000.0                 4000 NW 44th Ave #202  Lauderdale Lakes   \n",
       "82    85000.0           8990 S Hollybrook Blvd #106    Pembroke Pines   \n",
       "394  132500.0            1000 Saint Charles Pl #622    Pembroke Pines   \n",
       "79    82500.0             8900 Washington Blvd #416    Pembroke Pines   \n",
       "114   90000.0          7891 N Sunrise Lakes Dr #101           Sunrise   \n",
       "85   125000.0          10905 W Clairmont Cir #10905           Tamarac   \n",
       "88   125000.0                  8100 SW 24th St #206  North Lauderdale   \n",
       "122  123000.0         10433 Sunrise Lakes Blvd #104           Sunrise   \n",
       "149   81000.0                 2841 Somerset Dr #306  Lauderdale Lakes   \n",
       "154   79500.0                 1380 NW 43rd Ter #203        Lauderhill   \n",
       "102   65000.0  3210 Holiday Springs Blvd Unit 2-110           Margate   \n",
       "153  105000.0              4881 NW 22nd St Unit B18        Lauderhill   \n",
       "83    95000.0        3241 Holiday Springs Blvd #207           Margate   \n",
       "106  112000.0                 429 N Laurel Dr #1704           Margate   \n",
       "383  139500.0                  6751 Cypress Rd #110        Plantation   \n",
       "381  134000.0              2101 Lucaya Bnd Unit C-4     Coconut Creek   \n",
       "97   106000.0                 1521 NW 43rd Ave #101        Lauderhill   \n",
       "151  115000.0                  402 N Laurel Dr #203           Margate   \n",
       "340  250000.0                  1825 NW 58th Ave #26        Lauderhill   \n",
       "124  110000.0                 1330 NW 43rd Ave #308        Lauderhill   \n",
       "\n",
       "     $/SQUARE FEET  \n",
       "87            92.0  \n",
       "82            94.0  \n",
       "394          102.0  \n",
       "79           103.0  \n",
       "114          106.0  \n",
       "85           107.0  \n",
       "88           108.0  \n",
       "122          108.0  \n",
       "149          108.0  \n",
       "154          109.0  \n",
       "102          109.0  \n",
       "153          110.0  \n",
       "83           110.0  \n",
       "106          110.0  \n",
       "383          112.0  \n",
       "381          112.0  \n",
       "97           112.0  \n",
       "151          113.0  \n",
       "340          114.0  \n",
       "124          116.0  "
      ]
     },
     "execution_count": 23,
     "metadata": {},
     "output_type": "execute_result"
    }
   ],
   "source": [
    "# Find problem psf by searching for low values\n",
    "df_filtered.sort_values(by='$/SQUARE FEET',ascending=True).head(20)[['PRICE','ADDRESS','CITY','$/SQUARE FEET']]"
   ]
  },
  {
   "cell_type": "code",
   "execution_count": 63,
   "id": "6895cf71",
   "metadata": {},
   "outputs": [],
   "source": [
    "# # Drop sales that aren't condos but labeled as such\n",
    "# df_filtered = df_filtered.drop(1320)"
   ]
  },
  {
   "cell_type": "markdown",
   "id": "103ad9df",
   "metadata": {},
   "source": [
    "## Make Maps"
   ]
  },
  {
   "cell_type": "code",
   "execution_count": 24,
   "id": "42ad9d63",
   "metadata": {},
   "outputs": [],
   "source": [
    "### Create a price column formatted as currency ###\n",
    "df_filtered['PRICE_AS_CURRENCY'] = df_filtered['PRICE'].apply(lambda x: \"${:,.0f}\".format(x))\n",
    "### Set formatting for Beds, Baths ###\n",
    "df_filtered['YEAR BUILT DISPLAY'] = df_filtered['YEAR BUILT'].apply(lambda x: '{:.0f}'.format(x))\n",
    "df_filtered['PRICE_SQUARE_FEET_AS_CURRENCY'] = df_filtered['$/SQUARE FEET'].apply(lambda x: '${:,.0f}'.format(x))"
   ]
  },
  {
   "cell_type": "code",
   "execution_count": 25,
   "id": "f42ba6b5",
   "metadata": {},
   "outputs": [],
   "source": [
    "df_filtered = df_filtered.sort_values(by=['PRICE'], ascending=False)\n",
    "### Insert different colors for top 10 sales vs. the rest ###\n",
    "df_filtered['COLOR'] = ''\n",
    "### Create RANK column ###\n",
    "df_filtered['RANK'] = 0\n",
    "### Insert RANK values ###\n",
    "df_filtered['RANK'] = range(1, len(df_filtered) + 1)\n",
    "# use numpy to assign values to the 'COLOR' column\n",
    "df_filtered['COLOR'] = np.where(df_filtered['RANK'] <= 10, 'orange', 'blue')"
   ]
  },
  {
   "cell_type": "markdown",
   "id": "99380454",
   "metadata": {},
   "source": [
    "## HTML Popup Formatter"
   ]
  },
  {
   "cell_type": "code",
   "execution_count": 26,
   "id": "6ffa151c",
   "metadata": {},
   "outputs": [],
   "source": [
    "### Define list of columns to drop from DF ###\n",
    "columns_drop = ['SALE TYPE','PROPERTY TYPE','STATE OR PROVINCE','ZIP OR POSTAL CODE','HOA/MONTH','STATUS','NEXT OPEN HOUSE START TIME','NEXT OPEN HOUSE END TIME','SOURCE','MLS#','FAVORITE','INTERESTED','SQUARE FEET','LOT SIZE']"
   ]
  },
  {
   "cell_type": "code",
   "execution_count": 27,
   "id": "b214f9e8",
   "metadata": {},
   "outputs": [],
   "source": [
    "### Drop the columns ###\n",
    "df_filtered = df_filtered.drop(columns=columns_drop)"
   ]
  },
  {
   "cell_type": "code",
   "execution_count": 28,
   "id": "d12c2830",
   "metadata": {},
   "outputs": [],
   "source": [
    "def popup_html(row):\n",
    "    Price = row['PRICE_AS_CURRENCY']\n",
    "    Address = row['ADDRESS']\n",
    "    City = row['CITY']\n",
    "    sold_date = row['SOLD DATE']\n",
    "    beds = row['BEDS']\n",
    "    baths = row['BATHS']\n",
    "    psf = row['PRICE_SQUARE_FEET_AS_CURRENCY']\n",
    "    year_built = row['YEAR BUILT DISPLAY']\n",
    "    rank = row['RANK']\n",
    "    \n",
    "    html = '''<!DOCTYPE html>\n",
    "    <html>\n",
    "    <strong>Price: </strong>{}'''.format(Price) + '''<br>\n",
    "    <strong>Address: </strong>{}'''.format(Address) + '''<br>\n",
    "    <strong>City: </strong>{}'''.format(City) + '''<br>\n",
    "    <strong>Sold: </strong>{}'''.format(sold_date) + '''<br>\n",
    "    <strong>Beds: </strong>{}'''.format(beds) + '''<br>\n",
    "    <strong>Baths: </strong>{}'''.format(baths) + '''<br>\n",
    "    <strong>Price per sf: </strong>{}'''.format(psf) + '''<br>\n",
    "    <strong>Year Built: </strong>{}'''.format(year_built) + '''<br>\n",
    "    <strong>Price Rank: </strong>{}'''.format(rank) + '''\n",
    "    </html>\n",
    "    '''\n",
    "    return html"
   ]
  },
  {
   "cell_type": "code",
   "execution_count": 29,
   "id": "b7fe13d2",
   "metadata": {},
   "outputs": [
    {
     "data": {
      "text/plain": [
       "<folium.map.LayerControl at 0x7fa0500b1490>"
      ]
     },
     "execution_count": 29,
     "metadata": {},
     "output_type": "execute_result"
    }
   ],
   "source": [
    "### Create map container ###\n",
    "m = folium.Map(location=df_filtered[[\"LATITUDE\", \"LONGITUDE\"]].mean().to_list(),zoom_start=10,tiles=None)\n",
    "\n",
    "### Create title ###\n",
    "title_html = '''\n",
    "              <h3 align=\"center\" style=\"font-size:16px\"><b>{}</b></h3>\n",
    "             '''.format(f\"{previous_month_name} 2024 Condo Sales\")\n",
    "\n",
    "m.get_root().html.add_child(folium.Element(title_html))\n",
    "\n",
    "# Create two FeatureGroups for different color pins\n",
    "fg_blue = folium.FeatureGroup(name='All other sales')\n",
    "fg_orange = folium.FeatureGroup(name='Top 10 Sales')\n",
    "\n",
    "folium.GeoJson(gdf,tooltip=f'{county_name}',name=f'{county_name}').add_to(m)\n",
    "\n",
    "for index, row in df_filtered.iterrows():\n",
    "    # Add the markers to the appropriate FeatureGroup based on the color\n",
    "    if row['COLOR'] == 'blue':\n",
    "        marker = folium.Marker(\n",
    "            location=[row['LATITUDE'], row['LONGITUDE']],\n",
    "            radius=5,\n",
    "            fill=True,\n",
    "            icon=folium.Icon(color=row['COLOR']),\n",
    "            popup=folium.Popup(popup_html(row), max_width=400))\n",
    "        marker.add_to(fg_blue)\n",
    "    else:\n",
    "        marker = folium.Marker(\n",
    "            location=[row['LATITUDE'], row['LONGITUDE']],\n",
    "            radius=5,\n",
    "            fill=True,\n",
    "            icon=folium.Icon(color=row['COLOR']),\n",
    "            popup=folium.Popup(popup_html(row), max_width=400))\n",
    "        marker.add_to(fg_orange)\n",
    "\n",
    "# Add the FeatureGroups to the map\n",
    "fg_orange.add_to(m)\n",
    "fg_blue.add_to(m)\n",
    "\n",
    "folium.TileLayer('OpenStreetMap',control=False).add_to(m)\n",
    "\n",
    "# Add LayerControl to the map\n",
    "folium.map.LayerControl(collapsed=False).add_to(m)\n",
    "\n",
    "# Display map\n",
    "# m"
   ]
  },
  {
   "cell_type": "code",
   "execution_count": 30,
   "id": "a704af7f",
   "metadata": {},
   "outputs": [],
   "source": [
    "m.save('index.html')"
   ]
  },
  {
   "cell_type": "markdown",
   "id": "81b7dc98",
   "metadata": {},
   "source": [
    "## Summary Info"
   ]
  },
  {
   "cell_type": "code",
   "execution_count": 31,
   "id": "6910bd5b",
   "metadata": {},
   "outputs": [],
   "source": [
    "BR = '\\n'\n",
    "\n",
    "ME = '\\033[1m' + 'Most Expensive' + '\\033[0m'\n",
    "LE = '\\033[1m' + 'Least Expensive' + '\\033[0m'\n",
    "\n",
    "MAX_PSF = '\\033[1m' + 'Highest Price Per Square Foot' + '\\033[0m'\n",
    "MIN_PSF = '\\033[1m' + 'Lowest Price Per Square Foot' + '\\033[0m'\n",
    "\n",
    "Newest = '\\033[1m' + 'Newest' + '\\033[0m'\n",
    "Oldest = '\\033[1m' + 'Oldest' + '\\033[0m'"
   ]
  },
  {
   "cell_type": "code",
   "execution_count": 32,
   "id": "9d2c1b97",
   "metadata": {},
   "outputs": [
    {
     "data": {
      "text/plain": [
       "Index(['SOLD DATE', 'ADDRESS', 'CITY', 'PRICE', 'BEDS', 'BATHS', 'LOCATION',\n",
       "       'YEAR BUILT', 'DAYS ON MARKET', '$/SQUARE FEET', 'URL', 'LATITUDE',\n",
       "       'LONGITUDE', 'PRICE_AS_CURRENCY', 'YEAR BUILT DISPLAY',\n",
       "       'PRICE_SQUARE_FEET_AS_CURRENCY', 'COLOR', 'RANK'],\n",
       "      dtype='object')"
      ]
     },
     "execution_count": 32,
     "metadata": {},
     "output_type": "execute_result"
    }
   ],
   "source": [
    "df_filtered.columns"
   ]
  },
  {
   "cell_type": "code",
   "execution_count": 33,
   "id": "81280824",
   "metadata": {},
   "outputs": [],
   "source": [
    "df_filtered['FULL_ADDRESS'] = df_filtered['ADDRESS'] + ' ' + df_filtered['CITY']"
   ]
  },
  {
   "cell_type": "code",
   "execution_count": 34,
   "id": "4677d727",
   "metadata": {},
   "outputs": [
    {
     "name": "stdout",
     "output_type": "stream",
     "text": [
      "https://www.redfin.com/FL/Hollywood/326-Harrison-St-33019/unit-205A/home/41930130\n"
     ]
    }
   ],
   "source": [
    "print(df_filtered.loc[df_filtered['YEAR BUILT'].idxmin()]['URL'])"
   ]
  },
  {
   "cell_type": "code",
   "execution_count": 35,
   "id": "39ff9917",
   "metadata": {},
   "outputs": [
    {
     "name": "stdout",
     "output_type": "stream",
     "text": [
      "\u001b[1mMost Expensive\u001b[0m\n",
      "Four Seasons, 525 N Ft Lauderdale Bch Blvd #1604 Fort Lauderdale | Price $3,650,000 | $1,764 psf | Year built: 2022\n",
      "\u001b[1mLeast Expensive\u001b[0m\n",
      "Holiday Springs Village, 3210 Holiday Springs Blvd Unit 2-110 Margate | Price $65,000 | $109 psf | Year built: 1974\n",
      "\u001b[1mHighest Price Per Square Foot\u001b[0m\n",
      "Four Seasons, 525 N Ft Lauderdale Bch Blvd #1604 Fort Lauderdale | Price $3,650,000 | $1,764 psf | Year built: 2022\n",
      "\u001b[1mLowest Price Per Square Foot\u001b[0m\n",
      "Sapphire, 4000 NW 44th Ave #202 Lauderdale Lakes | Price $110,000 | $92 psf | Year built: 1973\n",
      "\u001b[1mNewest\u001b[0m\n",
      "nan, 2011 SE 7th St Deerfield Beach | Price $1,200,000 | $nan psf | Year built: 2024\n",
      "\u001b[1mOldest\u001b[0m\n",
      "WINDWOOD SEAS CONDO, 326 Harrison St Unit 205A Hollywood | Price $350,000 | $530 psf | Year built: 1950\n"
     ]
    }
   ],
   "source": [
    "print(f\"{ME}{BR}{df_filtered.loc[df_filtered['PRICE'].idxmax()]['LOCATION']}, {df_filtered.loc[df_filtered['PRICE'].idxmax()]['FULL_ADDRESS']} | Price ${df_filtered.loc[df_filtered['PRICE'].idxmax()]['PRICE']:,.0f} | ${df_filtered.loc[df_filtered['PRICE'].idxmax()]['$/SQUARE FEET']:,.0f} psf | Year built: {df_filtered.loc[df_filtered['PRICE'].idxmax()]['YEAR BUILT']:.0f}\")\n",
    "print(f\"{LE}{BR}{df_filtered.loc[df_filtered['PRICE'].idxmin()]['LOCATION']}, {df_filtered.loc[df_filtered['PRICE'].idxmin()]['FULL_ADDRESS']} | Price ${df_filtered.loc[df_filtered['PRICE'].idxmin()]['PRICE']:,.0f} | ${df_filtered.loc[df_filtered['PRICE'].idxmin()]['$/SQUARE FEET']:,.0f} psf | Year built: {df_filtered.loc[df_filtered['PRICE'].idxmin()]['YEAR BUILT']:.0f}\")\n",
    "\n",
    "print(f\"{MAX_PSF}{BR}{df_filtered.loc[df_filtered['$/SQUARE FEET'].idxmax()]['LOCATION']}, {df_filtered.loc[df_filtered['$/SQUARE FEET'].idxmax()]['FULL_ADDRESS']} | Price ${df_filtered.loc[df_filtered['$/SQUARE FEET'].idxmax()]['PRICE']:,.0f} | ${df_filtered.loc[df_filtered['$/SQUARE FEET'].idxmax()]['$/SQUARE FEET']:,.0f} psf | Year built: {df_filtered.loc[df_filtered['$/SQUARE FEET'].idxmax()]['YEAR BUILT']:.0f}\")\n",
    "print(f\"{MIN_PSF}{BR}{df_filtered.loc[df_filtered['$/SQUARE FEET'].idxmin()]['LOCATION']}, {df_filtered.loc[df_filtered['$/SQUARE FEET'].idxmin()]['FULL_ADDRESS']} | Price ${df_filtered.loc[df_filtered['$/SQUARE FEET'].idxmin()]['PRICE']:,.0f} | ${df_filtered.loc[df_filtered['$/SQUARE FEET'].idxmin()]['$/SQUARE FEET']:,.0f} psf | Year built: {df_filtered.loc[df_filtered['$/SQUARE FEET'].idxmin()]['YEAR BUILT']:.0f}\")\n",
    "\n",
    "print(f\"{Newest}{BR}{df_filtered.loc[df_filtered['YEAR BUILT'].idxmax()]['LOCATION']}, {df_filtered.loc[df_filtered['YEAR BUILT'].idxmax()]['FULL_ADDRESS']} | Price ${df_filtered.loc[df_filtered['YEAR BUILT'].idxmax()]['PRICE']:,.0f} | ${df_filtered.loc[df_filtered['YEAR BUILT'].idxmax()]['$/SQUARE FEET']:,.0f} psf | Year built: {df_filtered.loc[df_filtered['YEAR BUILT'].idxmax()]['YEAR BUILT']:.0f}\")\n",
    "print(f\"{Oldest}{BR}{df_filtered.loc[df_filtered['YEAR BUILT'].idxmin()]['LOCATION']}, {df_filtered.loc[df_filtered['YEAR BUILT'].idxmin()]['FULL_ADDRESS']} | Price ${df_filtered.loc[df_filtered['YEAR BUILT'].idxmin()]['PRICE']:,.0f} | ${df_filtered.loc[df_filtered['YEAR BUILT'].idxmin()]['$/SQUARE FEET']:,.0f} psf | Year built: {df_filtered.loc[df_filtered['YEAR BUILT'].idxmin()]['YEAR BUILT']:.0f}\")"
   ]
  },
  {
   "cell_type": "markdown",
   "id": "707dd49b",
   "metadata": {},
   "source": [
    "## Map URL Snagger"
   ]
  },
  {
   "cell_type": "code",
   "execution_count": 36,
   "id": "81e05274",
   "metadata": {},
   "outputs": [
    {
     "name": "stdout",
     "output_type": "stream",
     "text": [
      "https://trd-digital.github.io/trd-news-interactive-maps/BC_condo_sales_month_ending_sept_2024\n"
     ]
    }
   ],
   "source": [
    "base_name = 'https://trd-digital.github.io/trd-news-interactive-maps/'\n",
    "\n",
    "cwd = os.getcwd()\n",
    "\n",
    "cwd = cwd.split('/')\n",
    "\n",
    "final_name = base_name + cwd[-1]\n",
    "print(final_name)"
   ]
  },
  {
   "cell_type": "markdown",
   "id": "fe5031c3",
   "metadata": {},
   "source": [
    "## Get Summary Data"
   ]
  },
  {
   "cell_type": "code",
   "execution_count": 37,
   "id": "15cba208",
   "metadata": {},
   "outputs": [
    {
     "name": "stdout",
     "output_type": "stream",
     "text": [
      "SALES INFO\n",
      "Number of sales: 630\n",
      "--------\n",
      "Total sale price: $199,232,813\n",
      "--------\n",
      "Median sale price: $230,000\n",
      "--------\n",
      "Max sale price: $3,650,000\n",
      "--------\n",
      "Min sale price: $65,000\n",
      "------------------------------------------------\n",
      "PSF INFO\n",
      "Max price per square foot: $1,764\n",
      "--------\n",
      "Min price per square foot: $92\n",
      "--------\n",
      "Median price per square foot: $228\n",
      "------------------------------------------------\n",
      "CONDO AGES\n",
      "Newest building: 2024.0\n",
      "----------\n",
      "Oldest building: 1950.0\n",
      "----------\n",
      "Average building age: 1980.604761904762\n"
     ]
    }
   ],
   "source": [
    "print('SALES INFO')\n",
    "print(f'Number of sales: {len(df_filtered)}')\n",
    "print('--------')\n",
    "print(f'Total sale price: ${df_filtered[\"PRICE\"].sum():,.0f}')\n",
    "print('--------')\n",
    "print(f'Median sale price: ${df_filtered[\"PRICE\"].median():,.0f}')\n",
    "print('--------')\n",
    "print(f'Max sale price: ${df_filtered[\"PRICE\"].max():,.0f}')\n",
    "print('--------')\n",
    "print(f'Min sale price: ${df_filtered[\"PRICE\"].min():,.0f}')\n",
    "print('------------------------------------------------')\n",
    "print('PSF INFO')\n",
    "print(f'Max price per square foot: ${df_filtered[\"$/SQUARE FEET\"].max():,.0f}')\n",
    "print('--------')\n",
    "print(f'Min price per square foot: ${df_filtered[\"$/SQUARE FEET\"].min():,.0f}')\n",
    "print('--------')\n",
    "print(f'Median price per square foot: ${df_filtered[\"$/SQUARE FEET\"].median():,.0f}')\n",
    "print('------------------------------------------------')\n",
    "print('CONDO AGES')\n",
    "print(f'Newest building: {df_filtered[\"YEAR BUILT\"].max()}')\n",
    "print('----------')\n",
    "print(f'Oldest building: {df_filtered[\"YEAR BUILT\"].min()}')\n",
    "print('----------')\n",
    "print(f'Average building age: {df_filtered[\"YEAR BUILT\"].mean()}')"
   ]
  },
  {
   "cell_type": "markdown",
   "id": "970cab84",
   "metadata": {},
   "source": [
    "## Collect Agent Data"
   ]
  },
  {
   "cell_type": "code",
   "execution_count": 38,
   "id": "02afd7e8",
   "metadata": {},
   "outputs": [],
   "source": [
    "def process_response(url):\n",
    "    try:\n",
    "        \n",
    "        base_url = \"https://redfin-com-data.p.rapidapi.com/properties/detail-by-url\"\n",
    "\n",
    "        querystring = {\"url\":url}\n",
    "\n",
    "        headers = {\n",
    "            \"x-rapidapi-key\": \"00191da588msh8450293d26e3515p1bbd40jsn56510b513b61\",\n",
    "            \"x-rapidapi-host\": \"redfin-com-data.p.rapidapi.com\"\n",
    "        }\n",
    "\n",
    "        response = requests.get(base_url, headers=headers, params=querystring)\n",
    "\n",
    "#         print(response.status_code)\n",
    "#         print(url)\n",
    "        time.sleep(0.2)\n",
    "\n",
    "        response.raise_for_status()\n",
    "        data = response.json()\n",
    "\n",
    "        # Initialize default values for listing and buyer agents data\n",
    "        list_agent_name_1 = None\n",
    "        list_broker_name_1 = None\n",
    "        list_agent_name_2 = None\n",
    "        list_broker_name_2 = None\n",
    "        \n",
    "        buy_agent_name_1 = None\n",
    "        buy_broker_name_1 = None\n",
    "        buy_agent_name_2 = None\n",
    "        buy_broker_name_2 = None\n",
    "        \n",
    "        # Extract listing agents data if it exists\n",
    "        listing_agents = data.get('data', {}).get('mainHouseInfoPanelInfo', {}).get('mainHouseInfo', {}).get('listingAgents', [])\n",
    "        if len(listing_agents) > 0:\n",
    "            list_agent_name_1 = listing_agents[0].get('agentInfo', {}).get('agentName')\n",
    "            list_broker_name_1 = listing_agents[0].get('brokerName')\n",
    "        if len(listing_agents) > 1:\n",
    "            list_agent_name_2 = listing_agents[1].get('agentInfo', {}).get('agentName')\n",
    "            list_broker_name_2 = listing_agents[1].get('brokerName')\n",
    "            \n",
    "        # Extract listing agents data if it exists\n",
    "        buying_agents = data.get('data', {}).get('mainHouseInfoPanelInfo', {}).get('mainHouseInfo', {}).get('buyingAgents', [])\n",
    "        if len(buying_agents) > 0:\n",
    "            buy_agent_name_1 = buying_agents[0].get('agentInfo', {}).get('agentName')\n",
    "            buy_broker_name_1 = buying_agents[0].get('brokerName')\n",
    "        if len(buying_agents) > 1:\n",
    "            buy_agent_name_2 = buying_agents[1].get('agentInfo', {}).get('agentName')\n",
    "            buy_broker_name_2 = buying_agents[1].get('brokerName')\n",
    "\n",
    "\n",
    "        return {\n",
    "            'url': url,\n",
    "            'list_agent_name_1': list_agent_name_1,\n",
    "            'list_broker_name_1': list_broker_name_1,\n",
    "            'list_agent_name_2': list_agent_name_2,\n",
    "            'list_broker_name_2': list_broker_name_2,\n",
    "            'buy_agent_name_1': buy_agent_name_1,\n",
    "            'buy_broker_name_1': buy_broker_name_1,\n",
    "            'buy_agent_name_2': buy_agent_name_2,\n",
    "            'buy_broker_name_2': buy_broker_name_2,\n",
    "        }\n",
    "    except requests.exceptions.RequestException as e:\n",
    "        print(f\"Error fetching data from {url}: {e}\")\n",
    "        return {\n",
    "            'url': url,\n",
    "            'list_agent_name_1': None,\n",
    "            'list_broker_name_1': None,\n",
    "            'list_agent_name_2': None,\n",
    "            'list_broker_name_2': None,\n",
    "            'buy_agent_name_1': None,\n",
    "            'buy_broker_name_1': None,\n",
    "            'buy_agent_name_2': None,\n",
    "            'buy_broker_name_2': None,\n",
    "        }"
   ]
  },
  {
   "cell_type": "code",
   "execution_count": 39,
   "id": "3d5e6197",
   "metadata": {},
   "outputs": [],
   "source": [
    "df_filtered.reset_index(inplace=True,drop=True)"
   ]
  },
  {
   "cell_type": "code",
   "execution_count": 40,
   "id": "d06f8a69",
   "metadata": {},
   "outputs": [],
   "source": [
    "max_price_index = df_filtered['PRICE'].idxmax()\n",
    "min_price_index = df_filtered['PRICE'].idxmin()\n",
    "\n",
    "max_price_psf_index = df_filtered['$/SQUARE FEET'].idxmax()\n",
    "min_price_psf_index = df_filtered['$/SQUARE FEET'].idxmin()\n",
    "\n",
    "max_year_built_index = df_filtered['YEAR BUILT'].idxmax()\n",
    "min_year_built_index = df_filtered['YEAR BUILT'].idxmin()"
   ]
  },
  {
   "cell_type": "code",
   "execution_count": 41,
   "id": "d5e373c1",
   "metadata": {},
   "outputs": [],
   "source": [
    "index_list = [max_price_index,min_price_index,\n",
    "             max_price_psf_index,min_price_psf_index,\n",
    "             max_year_built_index,min_year_built_index]"
   ]
  },
  {
   "cell_type": "code",
   "execution_count": 42,
   "id": "97dd678a",
   "metadata": {},
   "outputs": [],
   "source": [
    "response_list = []\n",
    "\n",
    "for index, row in df_filtered.iterrows():\n",
    "    if index in index_list:\n",
    "        response_list.append(process_response(row['URL']))\n",
    "        \n",
    "response_df = pd.DataFrame(response_list)\n",
    "\n",
    "merged_df = pd.merge(left=df_filtered,left_on='URL',right=response_df, right_on='url',how='outer')"
   ]
  },
  {
   "cell_type": "code",
   "execution_count": 43,
   "id": "cc9976e6",
   "metadata": {},
   "outputs": [
    {
     "data": {
      "text/plain": [
       "array([nan, 'Ingrid Kennemer', 'Daniel Teixeira', 'Beatrice Martinez',\n",
       "       'Stephen Engasser', 'Eric Miller'], dtype=object)"
      ]
     },
     "execution_count": 43,
     "metadata": {},
     "output_type": "execute_result"
    }
   ],
   "source": [
    "### Test to see if data was collected\n",
    "merged_df['list_agent_name_1'].unique()"
   ]
  },
  {
   "cell_type": "code",
   "execution_count": 44,
   "id": "83c61f6f",
   "metadata": {},
   "outputs": [],
   "source": [
    "df_filtered = merged_df"
   ]
  },
  {
   "cell_type": "code",
   "execution_count": 45,
   "id": "4176ba07",
   "metadata": {},
   "outputs": [
    {
     "name": "stdout",
     "output_type": "stream",
     "text": [
      "\u001b[1mMost Expensive\u001b[0m\n",
      "Four Seasons, 525 N Ft Lauderdale Bch Blvd #1604 Fort Lauderdale | Price $3,650,000 | $1,764 psf | Year built: 2022 | Listing agents: Daniel Teixeira with Douglas Elliman and Enrique Teixeira with Douglas Elliman | Buyer's agents: None with Excel Realty, Inc. and None with None\n",
      "\u001b[1mLeast Expensive\u001b[0m\n",
      "Holiday Springs Village, 3210 Holiday Springs Blvd Unit 2-110 Margate | Price $65,000 | $109 psf | Year built: 1974 | Listing agents: Eric Miller with EXP Realty LLC and None with None | Buyer's agents: Duncan MacEwan with Preview Properties, Inc and None with None\n",
      "\u001b[1mHighest Price Per Square Foot\u001b[0m\n",
      "Four Seasons, 525 N Ft Lauderdale Bch Blvd #1604 Fort Lauderdale | Price $3,650,000 | $1,764 psf | Year built: 2022 | Listing agents: Daniel Teixeira with Douglas Elliman and Enrique Teixeira with Douglas Elliman | Buyer's agents: None with Excel Realty, Inc. and None with None\n",
      "\u001b[1mLowest Price Per Square Foot\u001b[0m\n",
      "Sapphire, 4000 NW 44th Ave #202 Lauderdale Lakes | Price $110,000 | $92 psf | Year built: 1973 | Listing agents: Stephen Engasser with EXP Realty LLC and None with None | Buyer's agents: Loraina Vaughn with VantaSure Realty LLC and None with None\n",
      "\u001b[1mNewest\u001b[0m\n",
      "nan, 2011 SE 7th St Deerfield Beach | Price $1,200,000 | $nan psf | Year built: 2024 | Listing agents: Ingrid Kennemer with Coastal Commercial Group, LLC and None with None | Buyer's agents: Fernando Lima with Partnership Realty Inc. and None with None\n",
      "\u001b[1mOldest\u001b[0m\n",
      "WINDWOOD SEAS CONDO, 326 Harrison St Unit 205A Hollywood | Price $350,000 | $530 psf | Year built: 1950 | Listing agents: Beatrice Martinez with The Keyes Company and None with None | Buyer's agents: NON-MLS MEMBER with MAR NON MLS MEMBER and None with None\n"
     ]
    }
   ],
   "source": [
    "print(f\"{ME}{BR}{df_filtered.loc[df_filtered['PRICE'].idxmax()]['LOCATION']}, {df_filtered.loc[df_filtered['PRICE'].idxmax()]['FULL_ADDRESS']} | Price ${df_filtered.loc[df_filtered['PRICE'].idxmax()]['PRICE']:,.0f} | ${df_filtered.loc[df_filtered['PRICE'].idxmax()]['$/SQUARE FEET']:,.0f} psf | Year built: {df_filtered.loc[df_filtered['PRICE'].idxmax()]['YEAR BUILT']:.0f} | Listing agents: {df_filtered.loc[df_filtered['PRICE'].idxmax()]['list_agent_name_1']} with {df_filtered.loc[df_filtered['PRICE'].idxmax()]['list_broker_name_1']} and {df_filtered.loc[df_filtered['PRICE'].idxmax()]['list_agent_name_2']} with {df_filtered.loc[df_filtered['PRICE'].idxmax()]['list_broker_name_2']} | Buyer's agents: {df_filtered.loc[df_filtered['PRICE'].idxmax()]['buy_agent_name_1']} with {df_filtered.loc[df_filtered['PRICE'].idxmax()]['buy_broker_name_1']} and {df_filtered.loc[df_filtered['PRICE'].idxmax()]['buy_agent_name_2']} with {df_filtered.loc[df_filtered['PRICE'].idxmax()]['buy_broker_name_2']}\")\n",
    "print(f\"{LE}{BR}{df_filtered.loc[df_filtered['PRICE'].idxmin()]['LOCATION']}, {df_filtered.loc[df_filtered['PRICE'].idxmin()]['FULL_ADDRESS']} | Price ${df_filtered.loc[df_filtered['PRICE'].idxmin()]['PRICE']:,.0f} | ${df_filtered.loc[df_filtered['PRICE'].idxmin()]['$/SQUARE FEET']:,.0f} psf | Year built: {df_filtered.loc[df_filtered['PRICE'].idxmin()]['YEAR BUILT']:.0f} | Listing agents: {df_filtered.loc[df_filtered['PRICE'].idxmin()]['list_agent_name_1']} with {df_filtered.loc[df_filtered['PRICE'].idxmin()]['list_broker_name_1']} and {df_filtered.loc[df_filtered['PRICE'].idxmin()]['list_agent_name_2']} with {df_filtered.loc[df_filtered['PRICE'].idxmin()]['list_broker_name_2']} | Buyer's agents: {df_filtered.loc[df_filtered['PRICE'].idxmin()]['buy_agent_name_1']} with {df_filtered.loc[df_filtered['PRICE'].idxmin()]['buy_broker_name_1']} and {df_filtered.loc[df_filtered['PRICE'].idxmin()]['buy_agent_name_2']} with {df_filtered.loc[df_filtered['PRICE'].idxmin()]['buy_broker_name_2']}\")\n",
    "\n",
    "print(f\"{MAX_PSF}{BR}{df_filtered.loc[df_filtered['$/SQUARE FEET'].idxmax()]['LOCATION']}, {df_filtered.loc[df_filtered['$/SQUARE FEET'].idxmax()]['FULL_ADDRESS']} | Price ${df_filtered.loc[df_filtered['$/SQUARE FEET'].idxmax()]['PRICE']:,.0f} | ${df_filtered.loc[df_filtered['$/SQUARE FEET'].idxmax()]['$/SQUARE FEET']:,.0f} psf | Year built: {df_filtered.loc[df_filtered['$/SQUARE FEET'].idxmax()]['YEAR BUILT']:.0f} | Listing agents: {df_filtered.loc[df_filtered['$/SQUARE FEET'].idxmax()]['list_agent_name_1']} with {df_filtered.loc[df_filtered['$/SQUARE FEET'].idxmax()]['list_broker_name_1']} and {df_filtered.loc[df_filtered['$/SQUARE FEET'].idxmax()]['list_agent_name_2']} with {df_filtered.loc[df_filtered['$/SQUARE FEET'].idxmax()]['list_broker_name_2']} | Buyer's agents: {df_filtered.loc[df_filtered['$/SQUARE FEET'].idxmax()]['buy_agent_name_1']} with {df_filtered.loc[df_filtered['$/SQUARE FEET'].idxmax()]['buy_broker_name_1']} and {df_filtered.loc[df_filtered['$/SQUARE FEET'].idxmax()]['buy_agent_name_2']} with {df_filtered.loc[df_filtered['$/SQUARE FEET'].idxmax()]['buy_broker_name_2']}\")\n",
    "print(f\"{MIN_PSF}{BR}{df_filtered.loc[df_filtered['$/SQUARE FEET'].idxmin()]['LOCATION']}, {df_filtered.loc[df_filtered['$/SQUARE FEET'].idxmin()]['FULL_ADDRESS']} | Price ${df_filtered.loc[df_filtered['$/SQUARE FEET'].idxmin()]['PRICE']:,.0f} | ${df_filtered.loc[df_filtered['$/SQUARE FEET'].idxmin()]['$/SQUARE FEET']:,.0f} psf | Year built: {df_filtered.loc[df_filtered['$/SQUARE FEET'].idxmin()]['YEAR BUILT']:.0f} | Listing agents: {df_filtered.loc[df_filtered['$/SQUARE FEET'].idxmin()]['list_agent_name_1']} with {df_filtered.loc[df_filtered['$/SQUARE FEET'].idxmin()]['list_broker_name_1']} and {df_filtered.loc[df_filtered['$/SQUARE FEET'].idxmin()]['list_agent_name_2']} with {df_filtered.loc[df_filtered['$/SQUARE FEET'].idxmin()]['list_broker_name_2']} | Buyer's agents: {df_filtered.loc[df_filtered['$/SQUARE FEET'].idxmin()]['buy_agent_name_1']} with {df_filtered.loc[df_filtered['$/SQUARE FEET'].idxmin()]['buy_broker_name_1']} and {df_filtered.loc[df_filtered['$/SQUARE FEET'].idxmin()]['buy_agent_name_2']} with {df_filtered.loc[df_filtered['$/SQUARE FEET'].idxmin()]['buy_broker_name_2']}\")\n",
    "\n",
    "print(f\"{Newest}{BR}{df_filtered.loc[df_filtered['YEAR BUILT'].idxmax()]['LOCATION']}, {df_filtered.loc[df_filtered['YEAR BUILT'].idxmax()]['FULL_ADDRESS']} | Price ${df_filtered.loc[df_filtered['YEAR BUILT'].idxmax()]['PRICE']:,.0f} | ${df_filtered.loc[df_filtered['YEAR BUILT'].idxmax()]['$/SQUARE FEET']:,.0f} psf | Year built: {df_filtered.loc[df_filtered['YEAR BUILT'].idxmax()]['YEAR BUILT']:.0f} | Listing agents: {df_filtered.loc[df_filtered['YEAR BUILT'].idxmax()]['list_agent_name_1']} with {df_filtered.loc[df_filtered['YEAR BUILT'].idxmax()]['list_broker_name_1']} and {df_filtered.loc[df_filtered['YEAR BUILT'].idxmax()]['list_agent_name_2']} with {df_filtered.loc[df_filtered['YEAR BUILT'].idxmax()]['list_broker_name_2']} | Buyer's agents: {df_filtered.loc[df_filtered['YEAR BUILT'].idxmax()]['buy_agent_name_1']} with {df_filtered.loc[df_filtered['YEAR BUILT'].idxmax()]['buy_broker_name_1']} and {df_filtered.loc[df_filtered['YEAR BUILT'].idxmax()]['buy_agent_name_2']} with {df_filtered.loc[df_filtered['YEAR BUILT'].idxmax()]['buy_broker_name_2']}\")\n",
    "print(f\"{Oldest}{BR}{df_filtered.loc[df_filtered['YEAR BUILT'].idxmin()]['LOCATION']}, {df_filtered.loc[df_filtered['YEAR BUILT'].idxmin()]['FULL_ADDRESS']} | Price ${df_filtered.loc[df_filtered['YEAR BUILT'].idxmin()]['PRICE']:,.0f} | ${df_filtered.loc[df_filtered['YEAR BUILT'].idxmin()]['$/SQUARE FEET']:,.0f} psf | Year built: {df_filtered.loc[df_filtered['YEAR BUILT'].idxmin()]['YEAR BUILT']:.0f} | Listing agents: {df_filtered.loc[df_filtered['YEAR BUILT'].idxmin()]['list_agent_name_1']} with {df_filtered.loc[df_filtered['YEAR BUILT'].idxmin()]['list_broker_name_1']} and {df_filtered.loc[df_filtered['YEAR BUILT'].idxmin()]['list_agent_name_2']} with {df_filtered.loc[df_filtered['YEAR BUILT'].idxmin()]['list_broker_name_2']} | Buyer's agents: {df_filtered.loc[df_filtered['YEAR BUILT'].idxmin()]['buy_agent_name_1']} with {df_filtered.loc[df_filtered['YEAR BUILT'].idxmin()]['buy_broker_name_1']} and {df_filtered.loc[df_filtered['YEAR BUILT'].idxmin()]['buy_agent_name_2']} with {df_filtered.loc[df_filtered['YEAR BUILT'].idxmin()]['buy_broker_name_2']}\")"
   ]
  },
  {
   "cell_type": "markdown",
   "id": "df76613c",
   "metadata": {},
   "source": [
    "## Get condo names and locations for most and least expensive"
   ]
  },
  {
   "cell_type": "code",
   "execution_count": 46,
   "id": "a7db05bf",
   "metadata": {},
   "outputs": [],
   "source": [
    "most_expensive_muni_condo_name = df_filtered.loc[df_filtered['PRICE'].idxmax()]['LOCATION']\n",
    "most_expensive_muni_location = df_filtered.loc[df_filtered['PRICE'].idxmax()]['CITY']\n",
    "\n",
    "least_expensive_muni_condo_name = df_filtered.loc[df_filtered['PRICE'].idxmin()]['LOCATION']\n",
    "least_expensive_muni_location = df_filtered.loc[df_filtered['PRICE'].idxmin()]['CITY']"
   ]
  },
  {
   "cell_type": "code",
   "execution_count": 47,
   "id": "8771c3d0",
   "metadata": {},
   "outputs": [],
   "source": [
    "## Calculate the increase/descrease between both months\n",
    "subject_month_sales_volume = df_filtered[\"PRICE\"].sum()\n",
    "prior_month_sales_volume = int(sales_volume_2nd_month)  # Example value, replace with actual value\n",
    "\n",
    "subject_month_closings = len(df_filtered)\n",
    "prior_month_closings = int(total_condos_sold_2nd_month)\n",
    "\n",
    "# Subtract the smaller value from the larger one\n",
    "if subject_month_sales_volume > prior_month_sales_volume:\n",
    "    hed_rf = 'jumps'\n",
    "    nut_graf = 'rising'\n",
    "    second_nut_graf_ref = 'up'\n",
    "    social = 'higher'\n",
    "    seo = 'increased'\n",
    "elif prior_month_sales_volume > subject_month_sales_volume:\n",
    "    hed_rf = 'drops'\n",
    "    nut_graf = 'falling'\n",
    "    second_nut_graf_ref = 'down'\n",
    "    social = 'lower'\n",
    "    seo = 'dropped'\n",
    "else:\n",
    "    hed_rf = 'equals'\n",
    "    nut_graf = 'equaling'\n",
    "    second_nut_graf_ref = 'on par with'\n",
    "    social = 'equal'\n",
    "    seo = \"did't change\"\n",
    "    \n",
    "    \n",
    "if subject_month_closings > prior_month_closings:\n",
    "    dek_rf = 'rose'\n",
    "elif prior_month_closings > subject_month_closings:\n",
    "    dek_rf ='fell'\n",
    "else:\n",
    "    dek_rf = 'equaled'"
   ]
  },
  {
   "cell_type": "code",
   "execution_count": 48,
   "id": "0c45fda2",
   "metadata": {},
   "outputs": [
    {
     "data": {
      "text/plain": [
       "Index(['SOLD DATE', 'ADDRESS', 'CITY', 'PRICE', 'BEDS', 'BATHS', 'LOCATION',\n",
       "       'YEAR BUILT', 'DAYS ON MARKET', '$/SQUARE FEET', 'URL', 'LATITUDE',\n",
       "       'LONGITUDE', 'PRICE_AS_CURRENCY', 'YEAR BUILT DISPLAY',\n",
       "       'PRICE_SQUARE_FEET_AS_CURRENCY', 'COLOR', 'RANK', 'FULL_ADDRESS', 'url',\n",
       "       'list_agent_name_1', 'list_broker_name_1', 'list_agent_name_2',\n",
       "       'list_broker_name_2', 'buy_agent_name_1', 'buy_broker_name_1',\n",
       "       'buy_agent_name_2', 'buy_broker_name_2'],\n",
       "      dtype='object')"
      ]
     },
     "execution_count": 48,
     "metadata": {},
     "output_type": "execute_result"
    }
   ],
   "source": [
    "df_filtered.columns"
   ]
  },
  {
   "cell_type": "code",
   "execution_count": 49,
   "id": "06e6aaa9",
   "metadata": {},
   "outputs": [
    {
     "name": "stdout",
     "output_type": "stream",
     "text": [
      "\n",
      "\n",
      "\n",
      "TOP SALE LISTING AGENTS:\n",
      "\n",
      "Daniel Teixeira with Douglas Elliman and Enrique Teixeira with Douglas Elliman\n",
      "\n",
      "TOP SALE BUYER AGENTS:\n",
      "\n",
      "None with Excel Realty, Inc. and None with None\n",
      "\n",
      "BOTTOM SALE LISTING AGENTS:\n",
      "\n",
      "Eric Miller with EXP Realty LLC and None with None\n",
      "\n",
      "BOTTOM SALE BUYER AGENTS:\n",
      "\n",
      "Duncan MacEwan with Preview Properties, Inc and None with None\n",
      "\n",
      "\n"
     ]
    }
   ],
   "source": [
    "# Get values for the top sale (max price)\n",
    "top_sale_listing_agent_1 = df_filtered.loc[df_filtered[\"PRICE\"].idxmax(), 'list_agent_name_1']\n",
    "top_sale_listing_broker_1 = df_filtered.loc[df_filtered[\"PRICE\"].idxmax(), 'list_broker_name_1']\n",
    "top_sale_listing_agent_2 = df_filtered.loc[df_filtered[\"PRICE\"].idxmax(), 'list_agent_name_2']\n",
    "top_sale_listing_broker_2 = df_filtered.loc[df_filtered[\"PRICE\"].idxmax(), 'list_broker_name_2']\n",
    "top_sale_buyer_agent_1 = df_filtered.loc[df_filtered[\"PRICE\"].idxmax(), 'buy_agent_name_1']\n",
    "top_sale_buyer_broker_1 = df_filtered.loc[df_filtered[\"PRICE\"].idxmax(), 'buy_broker_name_1']\n",
    "top_sale_buyer_agent_2 = df_filtered.loc[df_filtered[\"PRICE\"].idxmax(), 'buy_agent_name_2']\n",
    "top_sale_buyer_broker_2 = df_filtered.loc[df_filtered[\"PRICE\"].idxmax(), 'buy_broker_name_2']\n",
    "\n",
    "# Get values for the bottom sale (min price)\n",
    "bottom_sale_listing_agent_1 = df_filtered.loc[df_filtered[\"PRICE\"].idxmin(), 'list_agent_name_1']\n",
    "bottom_sale_listing_broker_1 = df_filtered.loc[df_filtered[\"PRICE\"].idxmin(), 'list_broker_name_1']\n",
    "bottom_sale_listing_agent_2 = df_filtered.loc[df_filtered[\"PRICE\"].idxmin(), 'list_agent_name_2']\n",
    "bottom_sale_listing_broker_2 = df_filtered.loc[df_filtered[\"PRICE\"].idxmin(), 'list_broker_name_2']\n",
    "bottom_sale_buyer_agent_1 = df_filtered.loc[df_filtered[\"PRICE\"].idxmin(), 'buy_agent_name_1']\n",
    "bottom_sale_buyer_broker_1 = df_filtered.loc[df_filtered[\"PRICE\"].idxmin(), 'buy_broker_name_1']\n",
    "bottom_sale_buyer_agent_2 = df_filtered.loc[df_filtered[\"PRICE\"].idxmin(), 'buy_agent_name_2']\n",
    "bottom_sale_buyer_broker_2 = df_filtered.loc[df_filtered[\"PRICE\"].idxmin(), 'buy_broker_name_2']\n",
    "\n",
    "# Now create the formatted string\n",
    "test_string = f'''\n",
    "\n",
    "\n",
    "TOP SALE LISTING AGENTS:\n",
    "\n",
    "{top_sale_listing_agent_1} with {top_sale_listing_broker_1} and {top_sale_listing_agent_2} with {top_sale_listing_broker_2}\n",
    "\n",
    "TOP SALE BUYER AGENTS:\n",
    "\n",
    "{top_sale_buyer_agent_1} with {top_sale_buyer_broker_1} and {top_sale_buyer_agent_2} with {top_sale_buyer_broker_2}\n",
    "\n",
    "BOTTOM SALE LISTING AGENTS:\n",
    "\n",
    "{bottom_sale_listing_agent_1} with {bottom_sale_listing_broker_1} and {bottom_sale_listing_agent_2} with {bottom_sale_listing_broker_2}\n",
    "\n",
    "BOTTOM SALE BUYER AGENTS:\n",
    "\n",
    "{bottom_sale_buyer_agent_1} with {bottom_sale_buyer_broker_1} and {bottom_sale_buyer_agent_2} with {bottom_sale_buyer_broker_2}\n",
    "\n",
    "'''\n",
    "\n",
    "print(test_string)\n"
   ]
  },
  {
   "cell_type": "code",
   "execution_count": 50,
   "id": "c18857f2",
   "metadata": {},
   "outputs": [],
   "source": [
    "story_string = f'''\n",
    "\\033[1mHED:\\033[0m {county_name} condo sales dollar volume {hed_rf} in {previous_month_name} to ${round(df_filtered[\"PRICE\"].sum()/1_000_000)}M \n",
    "\\033[1mDEK:\\033[0m Number of closings {dek_rf} to {len(df_filtered)} from {total_condos_sold_2nd_month} in {month_before_last_name}\n",
    "\\033[1mFEATURED HED:\\033[0m\n",
    "\\033[1mSEO HED:\\033[0m {county_name} {previous_month_name} Condo Sales Report \n",
    "\\033[1mSEO DESCRIPTION:\\033[0m {county_name}’s condo sales volume {seo} to ${round(df_filtered[\"PRICE\"].sum()/1_000_000)} million in {previous_month_name}.\n",
    "\\033[1mAUTHOR:\\033[0m Adam Farence\n",
    "\\033[1mRESEARCH:\\033[0m  \n",
    "\\033[1mSocial:\\033[0m {county_name} had ${round(df_filtered[\"PRICE\"].sum()/1_000_000):,.0f} million in condo sales in {previous_month_name}, {social} than ${round(int(sales_volume_2nd_month)/1_000_000)} million from {month_before_last_name}, @afarence reports \n",
    "\\033[1mART:\\033[0m \n",
    "\n",
    "CHANGE ME\n",
    "\n",
    "*Please provide credits for any images that you share\n",
    "\\033[1mSTORY TYPE:\\033[0m Report\n",
    "\\033[1mSECTOR\\033[0m (formerly CATEGORY): Residential Real Estate\n",
    "\\033[1mTAGS:\\033[0m condo sales, {county_name}, monthly condo sales, condos, condo market, {most_expensive_muni_condo_name.title()}, {most_expensive_muni_location}\n",
    "\n",
    "\\033[1mNeighborhood:\\033[0m \n",
    "\\033[1mProperty:\\033[0m\n",
    "\\033[1mProperty Type:\\033[0m\n",
    "\\033[1mCompanies:\\033[0m \n",
    "\\033[1mPeople:\\033[0m\n",
    "\\033[1mIssues:\\033[0m\n",
    "\\033[1mRegion:\\033[0m\n",
    "\n",
    "{county_name}’s NEWS PEG HERE.\n",
    "\n",
    "{previous_month_name} condo sales totaled ${round(df_filtered[\"PRICE\"].sum()/1_000_000)} million, {nut_graf} from ${int(sales_volume_2nd_month)/1_000_000:.0f} million in {month_before_last_name}. Brokers closed {len(df_filtered)} sales last month, {second_nut_graf_ref} from {total_condos_sold_2nd_month} sales in {month_before_last_name} and XXX in XXX, Multiple Listing Service data from Redfin show.\n",
    "\n",
    "{previous_month_name} sale prices ranged from ${df_filtered[\"PRICE\"].min():,.0f} to ${df_filtered[\"PRICE\"].max():,.0f} million, with a median sale price of ${df_filtered[\"PRICE\"].median():,.0f}. The price per square foot ranged from ${df_filtered[\"$/SQUARE FEET\"].min():,.0f} to ${df_filtered[\"$/SQUARE FEET\"].max():,.0f}, with a median of ${df_filtered[\"$/SQUARE FEET\"].median():,.0f} per square foot.\n",
    "\n",
    "In {month_before_last_name}, sales closed with a median price of ${int(median_sales_price_2nd_month):,.0f}, and ${median_psf_2nd_month} per square foot.\n",
    "\n",
    "A ${df_filtered[\"PRICE\"].max():,.0f} million closing at {most_expensive_muni_condo_name.title()} took the title of priciest sale last month. {df_filtered.loc[df_filtered['PRICE'].idxmax()]['FULL_ADDRESS']} sold for ${df_filtered.loc[df_filtered['PRICE'].idxmax()]['$/SQUARE FEET']:,.0f} per square foot after XX days on the market. XXX with XXX had the listing, and XXX with XXX represented the buyer.\n",
    "\n",
    "TOP SALE LISTING AGENTS:\n",
    "\n",
    "{top_sale_listing_agent_1} with {top_sale_listing_broker_1} and {top_sale_listing_agent_2} with {top_sale_listing_broker_2}\n",
    "\n",
    "TOP SALE BUYER AGENTS:\n",
    "\n",
    "{top_sale_buyer_agent_1} with {top_sale_buyer_broker_1} and {top_sale_buyer_agent_2} with {top_sale_buyer_broker_2}\n",
    "\n",
    "The sale price was \\033[1mmore/less\\033[0m than {month_before_last_name}'s priciest sale. Unit XXXX \n",
    "\n",
    "In contrast, {previous_month_name}'s cheapest sale was an {least_expensive_muni_condo_name} in {least_expensive_muni_location}, at {df_filtered.loc[df_filtered['PRICE'].idxmin()]['FULL_ADDRESS']}. Unit XXX traded for ${df_filtered['PRICE'].min():,.0f} — or ${df_filtered.loc[df_filtered['PRICE'].idxmin()]['$/SQUARE FEET']:,.0f} per square foot — after XXX days on the market. XXX with XXX handled both sides of the deal.\n",
    "\n",
    "BOTTOM SALE LISTING AGENTS:\n",
    "\n",
    "{bottom_sale_listing_agent_1} with {bottom_sale_listing_broker_1} and {bottom_sale_listing_agent_2} with {bottom_sale_listing_broker_2}\n",
    "\n",
    "BOTTOM SALE BUYER AGENTS:\n",
    "\n",
    "{bottom_sale_buyer_agent_1} with {bottom_sale_buyer_broker_1} and {bottom_sale_buyer_agent_2} with {bottom_sale_buyer_broker_2}\n",
    "\n",
    "<figure>\n",
    " <div class=\"container\">\n",
    "   <div class=\"iframe-wrap\">\n",
    "   <iframe src=\"{final_name}\" width=\"100%\" height=\"800\" frameBorder=\"0\" scrolling=\"no\"></iframe>\n",
    "  </div>\n",
    "</div>\n",
    "  <figcaption align=\"right\"><a href=\"https://leafletjs.com/\">Leaflet</a> map created by Adam Farence | Data by © <a href=\"https://www.openstreetmap.org/#map=4/38.01/-95.84\"> OpenStreetMap</a>, under <a href=\"https://www.openstreetmap.org/copyright\">ODbl.</a></figcaption>\n",
    "</figure>\n",
    "\n",
    "Here’s a breakdown of {previous_month_name}’s notable condo sales:\n",
    "'''"
   ]
  },
  {
   "cell_type": "code",
   "execution_count": 69,
   "id": "e3275361",
   "metadata": {},
   "outputs": [
    {
     "name": "stdout",
     "output_type": "stream",
     "text": [
      "\u001b[1mNewest\u001b[0m\n",
      "Solemar Beach Condos, 1116 N Ocean Blvd #1604 Pompano Beach | Price $2,650,000 | $1,157 psf | Year built: 2023 | Listing agents: nan with nan and nan with nan | Buyer's agents: nan with nan and nan with nan\n"
     ]
    }
   ],
   "source": [
    "# # Get the index of the current maximum row\n",
    "# max_idx = df_filtered['YEAR BUILT'].idxmax()\n",
    "\n",
    "# # Temporarily exclude the current maximum row\n",
    "# df_excluding_max = df_filtered.drop(max_idx)\n",
    "\n",
    "# # Get the index of the new maximum row (i.e., the second-highest)\n",
    "# second_max_idx = df_excluding_max['YEAR BUILT'].idxmax()\n",
    "\n",
    "# # Use the second_max_idx to print the details\n",
    "# print(f\"{Newest}{BR}{df_filtered.loc[second_max_idx]['LOCATION']}, {df_filtered.loc[second_max_idx]['FULL_ADDRESS']} | Price ${df_filtered.loc[second_max_idx]['PRICE']:,.0f} | ${df_filtered.loc[second_max_idx]['$/SQUARE FEET']:,.0f} psf | Year built: {df_filtered.loc[second_max_idx]['YEAR BUILT']:.0f} | Listing agents: {df_filtered.loc[second_max_idx]['list_agent_name_1']} with {df_filtered.loc[second_max_idx]['list_broker_name_1']} and {df_filtered.loc[second_max_idx]['list_agent_name_2']} with {df_filtered.loc[second_max_idx]['list_broker_name_2']} | Buyer's agents: {df_filtered.loc[second_max_idx]['buy_agent_name_1']} with {df_filtered.loc[second_max_idx]['buy_broker_name_1']} and {df_filtered.loc[second_max_idx]['buy_agent_name_2']} with {df_filtered.loc[second_max_idx]['buy_broker_name_2']}\")\n"
   ]
  },
  {
   "cell_type": "code",
   "execution_count": 74,
   "id": "38853bc2",
   "metadata": {},
   "outputs": [
    {
     "name": "stdout",
     "output_type": "stream",
     "text": [
      "https://www.redfin.com/FL/Pompano-Beach/1116-N-Ocean-Blvd-33062/unit-1604/home/188112389\n"
     ]
    }
   ],
   "source": [
    "print(df_excluding_max.loc[df_excluding_max['YEAR BUILT'].idxmax()]['URL'])"
   ]
  },
  {
   "cell_type": "code",
   "execution_count": 51,
   "id": "cab66f0c",
   "metadata": {},
   "outputs": [
    {
     "name": "stdout",
     "output_type": "stream",
     "text": [
      "\n",
      "\u001b[1mHED:\u001b[0m Broward County condo sales dollar volume drops in September to $199M \n",
      "\u001b[1mDEK:\u001b[0m Number of closings fell to 630 from 824 in August\n",
      "\u001b[1mFEATURED HED:\u001b[0m\n",
      "\u001b[1mSEO HED:\u001b[0m Broward County September Condo Sales Report \n",
      "\u001b[1mSEO DESCRIPTION:\u001b[0m Broward County’s condo sales volume dropped to $199 million in September.\n",
      "\u001b[1mAUTHOR:\u001b[0m Adam Farence\n",
      "\u001b[1mRESEARCH:\u001b[0m  \n",
      "\u001b[1mSocial:\u001b[0m Broward County had $199 million in condo sales in September, lower than $253 million from August, @afarence reports \n",
      "\u001b[1mART:\u001b[0m \n",
      "\n",
      "CHANGE ME\n",
      "\n",
      "*Please provide credits for any images that you share\n",
      "\u001b[1mSTORY TYPE:\u001b[0m Report\n",
      "\u001b[1mSECTOR\u001b[0m (formerly CATEGORY): Residential Real Estate\n",
      "\u001b[1mTAGS:\u001b[0m condo sales, Broward County, monthly condo sales, condos, condo market, Four Seasons, Fort Lauderdale\n",
      "\n",
      "\u001b[1mNeighborhood:\u001b[0m \n",
      "\u001b[1mProperty:\u001b[0m\n",
      "\u001b[1mProperty Type:\u001b[0m\n",
      "\u001b[1mCompanies:\u001b[0m \n",
      "\u001b[1mPeople:\u001b[0m\n",
      "\u001b[1mIssues:\u001b[0m\n",
      "\u001b[1mRegion:\u001b[0m\n",
      "\n",
      "Broward County’s NEWS PEG HERE.\n",
      "\n",
      "September condo sales totaled $199 million, falling from $253 million in August. Brokers closed 630 sales last month, down from 824 sales in August and XXX in XXX, Multiple Listing Service data from Redfin show.\n",
      "\n",
      "September sale prices ranged from $65,000 to $3,650,000 million, with a median sale price of $230,000. The price per square foot ranged from $92 to $1,764, with a median of $228 per square foot.\n",
      "\n",
      "In August, sales closed with a median price of $226,250, and $224 per square foot.\n",
      "\n",
      "A $3,650,000 million closing at Four Seasons took the title of priciest sale last month. 525 N Ft Lauderdale Bch Blvd #1604 Fort Lauderdale sold for $1,764 per square foot after XX days on the market. XXX with XXX had the listing, and XXX with XXX represented the buyer.\n",
      "\n",
      "TOP SALE LISTING AGENTS:\n",
      "\n",
      "Daniel Teixeira with Douglas Elliman and Enrique Teixeira with Douglas Elliman\n",
      "\n",
      "TOP SALE BUYER AGENTS:\n",
      "\n",
      "None with Excel Realty, Inc. and None with None\n",
      "\n",
      "The sale price was \u001b[1mmore/less\u001b[0m than August's priciest sale. Unit XXXX \n",
      "\n",
      "In contrast, September's cheapest sale was an Holiday Springs Village in Margate, at 3210 Holiday Springs Blvd Unit 2-110 Margate. Unit XXX traded for $65,000 — or $109 per square foot — after XXX days on the market. XXX with XXX handled both sides of the deal.\n",
      "\n",
      "BOTTOM SALE LISTING AGENTS:\n",
      "\n",
      "Eric Miller with EXP Realty LLC and None with None\n",
      "\n",
      "BOTTOM SALE BUYER AGENTS:\n",
      "\n",
      "Duncan MacEwan with Preview Properties, Inc and None with None\n",
      "\n",
      "<figure>\n",
      " <div class=\"container\">\n",
      "   <div class=\"iframe-wrap\">\n",
      "   <iframe src=\"https://trd-digital.github.io/trd-news-interactive-maps/BC_condo_sales_month_ending_sept_2024\" width=\"100%\" height=\"800\" frameBorder=\"0\" scrolling=\"no\"></iframe>\n",
      "  </div>\n",
      "</div>\n",
      "  <figcaption align=\"right\"><a href=\"https://leafletjs.com/\">Leaflet</a> map created by Adam Farence | Data by © <a href=\"https://www.openstreetmap.org/#map=4/38.01/-95.84\"> OpenStreetMap</a>, under <a href=\"https://www.openstreetmap.org/copyright\">ODbl.</a></figcaption>\n",
      "</figure>\n",
      "\n",
      "Here’s a breakdown of September’s notable condo sales:\n",
      "\n",
      "\u001b[1mMost Expensive\u001b[0m\n",
      "Four Seasons, 525 N Ft Lauderdale Bch Blvd #1604 Fort Lauderdale | Price $3,650,000 | $1,764 psf | Year built: 2022 | Listing agents: Daniel Teixeira with Douglas Elliman and Enrique Teixeira with Douglas Elliman | Buyer's agents: None with Excel Realty, Inc. and None with None\n",
      "\u001b[1mLeast Expensive\u001b[0m\n",
      "Holiday Springs Village, 3210 Holiday Springs Blvd Unit 2-110 Margate | Price $65,000 | $109 psf | Year built: 1974 | Listing agents: Eric Miller with EXP Realty LLC and None with None | Buyer's agents: Duncan MacEwan with Preview Properties, Inc and None with None\n",
      "\u001b[1mHighest Price Per Square Foot\u001b[0m\n",
      "Four Seasons, 525 N Ft Lauderdale Bch Blvd #1604 Fort Lauderdale | Price $3,650,000 | $1,764 psf | Year built: 2022 | Listing agents: Daniel Teixeira with Douglas Elliman and Enrique Teixeira with Douglas Elliman | Buyer's agents: None with Excel Realty, Inc. and None with None\n",
      "\u001b[1mLowest Price Per Square Foot\u001b[0m\n",
      "Sapphire, 4000 NW 44th Ave #202 Lauderdale Lakes | Price $110,000 | $92 psf | Year built: 1973 | Listing agents: Stephen Engasser with EXP Realty LLC and None with None | Buyer's agents: Loraina Vaughn with VantaSure Realty LLC and None with None\n",
      "\u001b[1mNewest\u001b[0m\n",
      "nan, 2011 SE 7th St Deerfield Beach | Price $1,200,000 | $nan psf | Year built: 2024 | Listing agents: Ingrid Kennemer with Coastal Commercial Group, LLC and None with None | Buyer's agents: Fernando Lima with Partnership Realty Inc. and None with None\n",
      "\u001b[1mOldest\u001b[0m\n",
      "WINDWOOD SEAS CONDO, 326 Harrison St Unit 205A Hollywood | Price $350,000 | $530 psf | Year built: 1950 | Listing agents: Beatrice Martinez with The Keyes Company and None with None | Buyer's agents: NON-MLS MEMBER with MAR NON MLS MEMBER and None with None\n"
     ]
    }
   ],
   "source": [
    "print(story_string)\n",
    "\n",
    "print(f\"{ME}{BR}{df_filtered.loc[df_filtered['PRICE'].idxmax()]['LOCATION']}, {df_filtered.loc[df_filtered['PRICE'].idxmax()]['FULL_ADDRESS']} | Price ${df_filtered.loc[df_filtered['PRICE'].idxmax()]['PRICE']:,.0f} | ${df_filtered.loc[df_filtered['PRICE'].idxmax()]['$/SQUARE FEET']:,.0f} psf | Year built: {df_filtered.loc[df_filtered['PRICE'].idxmax()]['YEAR BUILT']:.0f} | Listing agents: {df_filtered.loc[df_filtered['PRICE'].idxmax()]['list_agent_name_1']} with {df_filtered.loc[df_filtered['PRICE'].idxmax()]['list_broker_name_1']} and {df_filtered.loc[df_filtered['PRICE'].idxmax()]['list_agent_name_2']} with {df_filtered.loc[df_filtered['PRICE'].idxmax()]['list_broker_name_2']} | Buyer's agents: {df_filtered.loc[df_filtered['PRICE'].idxmax()]['buy_agent_name_1']} with {df_filtered.loc[df_filtered['PRICE'].idxmax()]['buy_broker_name_1']} and {df_filtered.loc[df_filtered['PRICE'].idxmax()]['buy_agent_name_2']} with {df_filtered.loc[df_filtered['PRICE'].idxmax()]['buy_broker_name_2']}\")\n",
    "print(f\"{LE}{BR}{df_filtered.loc[df_filtered['PRICE'].idxmin()]['LOCATION']}, {df_filtered.loc[df_filtered['PRICE'].idxmin()]['FULL_ADDRESS']} | Price ${df_filtered.loc[df_filtered['PRICE'].idxmin()]['PRICE']:,.0f} | ${df_filtered.loc[df_filtered['PRICE'].idxmin()]['$/SQUARE FEET']:,.0f} psf | Year built: {df_filtered.loc[df_filtered['PRICE'].idxmin()]['YEAR BUILT']:.0f} | Listing agents: {df_filtered.loc[df_filtered['PRICE'].idxmin()]['list_agent_name_1']} with {df_filtered.loc[df_filtered['PRICE'].idxmin()]['list_broker_name_1']} and {df_filtered.loc[df_filtered['PRICE'].idxmin()]['list_agent_name_2']} with {df_filtered.loc[df_filtered['PRICE'].idxmin()]['list_broker_name_2']} | Buyer's agents: {df_filtered.loc[df_filtered['PRICE'].idxmin()]['buy_agent_name_1']} with {df_filtered.loc[df_filtered['PRICE'].idxmin()]['buy_broker_name_1']} and {df_filtered.loc[df_filtered['PRICE'].idxmin()]['buy_agent_name_2']} with {df_filtered.loc[df_filtered['PRICE'].idxmin()]['buy_broker_name_2']}\")\n",
    "\n",
    "print(f\"{MAX_PSF}{BR}{df_filtered.loc[df_filtered['$/SQUARE FEET'].idxmax()]['LOCATION']}, {df_filtered.loc[df_filtered['$/SQUARE FEET'].idxmax()]['FULL_ADDRESS']} | Price ${df_filtered.loc[df_filtered['$/SQUARE FEET'].idxmax()]['PRICE']:,.0f} | ${df_filtered.loc[df_filtered['$/SQUARE FEET'].idxmax()]['$/SQUARE FEET']:,.0f} psf | Year built: {df_filtered.loc[df_filtered['$/SQUARE FEET'].idxmax()]['YEAR BUILT']:.0f} | Listing agents: {df_filtered.loc[df_filtered['$/SQUARE FEET'].idxmax()]['list_agent_name_1']} with {df_filtered.loc[df_filtered['$/SQUARE FEET'].idxmax()]['list_broker_name_1']} and {df_filtered.loc[df_filtered['$/SQUARE FEET'].idxmax()]['list_agent_name_2']} with {df_filtered.loc[df_filtered['$/SQUARE FEET'].idxmax()]['list_broker_name_2']} | Buyer's agents: {df_filtered.loc[df_filtered['$/SQUARE FEET'].idxmax()]['buy_agent_name_1']} with {df_filtered.loc[df_filtered['$/SQUARE FEET'].idxmax()]['buy_broker_name_1']} and {df_filtered.loc[df_filtered['$/SQUARE FEET'].idxmax()]['buy_agent_name_2']} with {df_filtered.loc[df_filtered['$/SQUARE FEET'].idxmax()]['buy_broker_name_2']}\")\n",
    "print(f\"{MIN_PSF}{BR}{df_filtered.loc[df_filtered['$/SQUARE FEET'].idxmin()]['LOCATION']}, {df_filtered.loc[df_filtered['$/SQUARE FEET'].idxmin()]['FULL_ADDRESS']} | Price ${df_filtered.loc[df_filtered['$/SQUARE FEET'].idxmin()]['PRICE']:,.0f} | ${df_filtered.loc[df_filtered['$/SQUARE FEET'].idxmin()]['$/SQUARE FEET']:,.0f} psf | Year built: {df_filtered.loc[df_filtered['$/SQUARE FEET'].idxmin()]['YEAR BUILT']:.0f} | Listing agents: {df_filtered.loc[df_filtered['$/SQUARE FEET'].idxmin()]['list_agent_name_1']} with {df_filtered.loc[df_filtered['$/SQUARE FEET'].idxmin()]['list_broker_name_1']} and {df_filtered.loc[df_filtered['$/SQUARE FEET'].idxmin()]['list_agent_name_2']} with {df_filtered.loc[df_filtered['$/SQUARE FEET'].idxmin()]['list_broker_name_2']} | Buyer's agents: {df_filtered.loc[df_filtered['$/SQUARE FEET'].idxmin()]['buy_agent_name_1']} with {df_filtered.loc[df_filtered['$/SQUARE FEET'].idxmin()]['buy_broker_name_1']} and {df_filtered.loc[df_filtered['$/SQUARE FEET'].idxmin()]['buy_agent_name_2']} with {df_filtered.loc[df_filtered['$/SQUARE FEET'].idxmin()]['buy_broker_name_2']}\")\n",
    "\n",
    "print(f\"{Newest}{BR}{df_filtered.loc[df_filtered['YEAR BUILT'].idxmax()]['LOCATION']}, {df_filtered.loc[df_filtered['YEAR BUILT'].idxmax()]['FULL_ADDRESS']} | Price ${df_filtered.loc[df_filtered['YEAR BUILT'].idxmax()]['PRICE']:,.0f} | ${df_filtered.loc[df_filtered['YEAR BUILT'].idxmax()]['$/SQUARE FEET']:,.0f} psf | Year built: {df_filtered.loc[df_filtered['YEAR BUILT'].idxmax()]['YEAR BUILT']:.0f} | Listing agents: {df_filtered.loc[df_filtered['YEAR BUILT'].idxmax()]['list_agent_name_1']} with {df_filtered.loc[df_filtered['YEAR BUILT'].idxmax()]['list_broker_name_1']} and {df_filtered.loc[df_filtered['YEAR BUILT'].idxmax()]['list_agent_name_2']} with {df_filtered.loc[df_filtered['YEAR BUILT'].idxmax()]['list_broker_name_2']} | Buyer's agents: {df_filtered.loc[df_filtered['YEAR BUILT'].idxmax()]['buy_agent_name_1']} with {df_filtered.loc[df_filtered['YEAR BUILT'].idxmax()]['buy_broker_name_1']} and {df_filtered.loc[df_filtered['YEAR BUILT'].idxmax()]['buy_agent_name_2']} with {df_filtered.loc[df_filtered['YEAR BUILT'].idxmax()]['buy_broker_name_2']}\")\n",
    "print(f\"{Oldest}{BR}{df_filtered.loc[df_filtered['YEAR BUILT'].idxmin()]['LOCATION']}, {df_filtered.loc[df_filtered['YEAR BUILT'].idxmin()]['FULL_ADDRESS']} | Price ${df_filtered.loc[df_filtered['YEAR BUILT'].idxmin()]['PRICE']:,.0f} | ${df_filtered.loc[df_filtered['YEAR BUILT'].idxmin()]['$/SQUARE FEET']:,.0f} psf | Year built: {df_filtered.loc[df_filtered['YEAR BUILT'].idxmin()]['YEAR BUILT']:.0f} | Listing agents: {df_filtered.loc[df_filtered['YEAR BUILT'].idxmin()]['list_agent_name_1']} with {df_filtered.loc[df_filtered['YEAR BUILT'].idxmin()]['list_broker_name_1']} and {df_filtered.loc[df_filtered['YEAR BUILT'].idxmin()]['list_agent_name_2']} with {df_filtered.loc[df_filtered['YEAR BUILT'].idxmin()]['list_broker_name_2']} | Buyer's agents: {df_filtered.loc[df_filtered['YEAR BUILT'].idxmin()]['buy_agent_name_1']} with {df_filtered.loc[df_filtered['YEAR BUILT'].idxmin()]['buy_broker_name_1']} and {df_filtered.loc[df_filtered['YEAR BUILT'].idxmin()]['buy_agent_name_2']} with {df_filtered.loc[df_filtered['YEAR BUILT'].idxmin()]['buy_broker_name_2']}\")"
   ]
  },
  {
   "cell_type": "markdown",
   "id": "1237f8b2",
   "metadata": {},
   "source": [
    "# Print links for notable sales\n",
    "\n",
    "## Top sale"
   ]
  },
  {
   "cell_type": "code",
   "execution_count": 65,
   "id": "4c776293",
   "metadata": {},
   "outputs": [
    {
     "name": "stdout",
     "output_type": "stream",
     "text": [
      "https://www.redfin.com/FL/Fort-Lauderdale/525-N-Fort-Lauderdale-Beach-Blvd-33304/unit-1604/home/174573453\n"
     ]
    }
   ],
   "source": [
    "print(df_filtered.loc[df_filtered['PRICE'].idxmax()]['URL'])"
   ]
  },
  {
   "cell_type": "markdown",
   "id": "b1f63a6a",
   "metadata": {},
   "source": [
    "## Cheapest sale"
   ]
  },
  {
   "cell_type": "code",
   "execution_count": 66,
   "id": "967008ef",
   "metadata": {},
   "outputs": [
    {
     "name": "stdout",
     "output_type": "stream",
     "text": [
      "https://www.redfin.com/FL/Margate/3210-Holiday-Springs-Blvd-33063/unit-2-110/home/41431306\n"
     ]
    }
   ],
   "source": [
    "print(df_filtered.loc[df_filtered['PRICE'].idxmin()]['URL'])"
   ]
  },
  {
   "cell_type": "markdown",
   "id": "0f56cc2b",
   "metadata": {},
   "source": [
    "## Highest PSF"
   ]
  },
  {
   "cell_type": "code",
   "execution_count": 60,
   "id": "001083a2",
   "metadata": {},
   "outputs": [
    {
     "name": "stdout",
     "output_type": "stream",
     "text": [
      "https://www.redfin.com/FL/Fort-Lauderdale/525-N-Fort-Lauderdale-Beach-Blvd-33304/unit-1604/home/174573453\n"
     ]
    }
   ],
   "source": [
    "print(df_filtered.loc[df_filtered['$/SQUARE FEET'].idxmax()]['URL'])"
   ]
  },
  {
   "cell_type": "markdown",
   "id": "e606b84a",
   "metadata": {},
   "source": [
    "## Lowest PSF"
   ]
  },
  {
   "cell_type": "code",
   "execution_count": 61,
   "id": "91b9b079",
   "metadata": {},
   "outputs": [
    {
     "name": "stdout",
     "output_type": "stream",
     "text": [
      "https://www.redfin.com/FL/Lauderdale-Lakes/4000-NW-44th-Ave-33319/unit-202/home/41591783\n"
     ]
    }
   ],
   "source": [
    "print(df_filtered.loc[df_filtered['$/SQUARE FEET'].idxmin()]['URL'])"
   ]
  },
  {
   "cell_type": "markdown",
   "id": "d6e5493b",
   "metadata": {},
   "source": [
    "## Newest"
   ]
  },
  {
   "cell_type": "code",
   "execution_count": 68,
   "id": "c2cc4988",
   "metadata": {},
   "outputs": [
    {
     "name": "stdout",
     "output_type": "stream",
     "text": [
      "https://www.redfin.com/FL/Deerfield-Beach/2011-SE-7th-St-33441/home/41506203\n"
     ]
    }
   ],
   "source": [
    "print(df_filtered.loc[df_filtered['YEAR BUILT'].idxmax()]['URL'])"
   ]
  },
  {
   "cell_type": "markdown",
   "id": "1d1ba957",
   "metadata": {},
   "source": [
    "## Oldest"
   ]
  },
  {
   "cell_type": "code",
   "execution_count": 63,
   "id": "51fa78ff",
   "metadata": {},
   "outputs": [
    {
     "name": "stdout",
     "output_type": "stream",
     "text": [
      "https://www.redfin.com/FL/Hollywood/326-Harrison-St-33019/unit-205A/home/41930130\n"
     ]
    }
   ],
   "source": [
    "print(df_filtered.loc[df_filtered['YEAR BUILT'].idxmin()]['URL'])"
   ]
  },
  {
   "cell_type": "markdown",
   "id": "6b274da8",
   "metadata": {},
   "source": [
    "## Time on Market Calculator"
   ]
  },
  {
   "cell_type": "code",
   "execution_count": 67,
   "id": "0d14e001",
   "metadata": {},
   "outputs": [
    {
     "name": "stdout",
     "output_type": "stream",
     "text": [
      "52\n"
     ]
    }
   ],
   "source": [
    "from datetime import datetime, timedelta\n",
    "\n",
    "################ YEAR, MONTH, DAY #######################\n",
    "\n",
    "date1 = datetime(2024, 7, 19) ## List (Earlier) date\n",
    "date2 = datetime(2024, 9, 9) ## Close (Later) date\n",
    "\n",
    "delta = date2 - date1\n",
    "num_days = delta.days\n",
    "\n",
    "print(num_days)"
   ]
  },
  {
   "cell_type": "markdown",
   "id": "cced793f",
   "metadata": {},
   "source": [
    "## Access second highest (or whatever is needed)"
   ]
  },
  {
   "cell_type": "code",
   "execution_count": 58,
   "id": "016dcd2c",
   "metadata": {},
   "outputs": [],
   "source": [
    "# ### Second highest ###\n",
    "# # Sort the DataFrame by '$/SQUARE FEET' in descending order\n",
    "# second_highest = df_filtered.sort_values(by='$/SQUARE FEET', ascending=False)\n",
    "\n",
    "# # Get the URL of the entry with the second highest '$/SQUARE FEET' value\n",
    "# second_highest_url = second_highest.iloc[1]['URL']  # `.iloc[1]` accesses the second row\n",
    "\n",
    "# print(second_highest_url)"
   ]
  }
 ],
 "metadata": {
  "kernelspec": {
   "display_name": "Python 3 (ipykernel)",
   "language": "python",
   "name": "python3"
  },
  "language_info": {
   "codemirror_mode": {
    "name": "ipython",
    "version": 3
   },
   "file_extension": ".py",
   "mimetype": "text/x-python",
   "name": "python",
   "nbconvert_exporter": "python",
   "pygments_lexer": "ipython3",
   "version": "3.9.12"
  }
 },
 "nbformat": 4,
 "nbformat_minor": 5
}
