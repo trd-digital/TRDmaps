{
 "cells": [
  {
   "cell_type": "markdown",
   "metadata": {},
   "source": [
    "## Imports"
   ]
  },
  {
   "cell_type": "code",
   "execution_count": 1,
   "metadata": {},
   "outputs": [],
   "source": [
    "import googlemaps\n",
    "import pandas as pd\n",
    "import numpy as np\n",
    "import re\n",
    "import os\n",
    "import geopandas as gpd\n",
    "import folium\n",
    "import tabula\n",
    "from datetime import datetime, timedelta"
   ]
  },
  {
   "cell_type": "markdown",
   "metadata": {},
   "source": [
    "## Read-in"
   ]
  },
  {
   "cell_type": "code",
   "execution_count": 2,
   "metadata": {},
   "outputs": [
    {
     "name": "stderr",
     "output_type": "stream",
     "text": [
      "/Users/afarence/opt/anaconda3/lib/python3.9/site-packages/tabula/io.py:1057: FutureWarning: errors='ignore' is deprecated and will raise in a future version. Use to_numeric without passing `errors` and catch exceptions explicitly instead\n",
      "  df[c] = pd.to_numeric(df[c], errors=\"ignore\")\n"
     ]
    }
   ],
   "source": [
    "# Gotta figure out how to get rid of the java error.\n",
    "# SO: https://stackoverflow.com/questions/54817211/java-command-is-not-found-from-this-python-process-please-ensure-java-is-inst\n",
    "dsf = tabula.read_pdf('condo.pdf', pages='all')"
   ]
  },
  {
   "cell_type": "markdown",
   "metadata": {},
   "source": [
    "## Current Week's Values"
   ]
  },
  {
   "cell_type": "code",
   "execution_count": 3,
   "metadata": {},
   "outputs": [
    {
     "name": "stdout",
     "output_type": "stream",
     "text": [
      "Input Week Starting Date:\n",
      "Feb. 18th\n",
      "Input Week Ending Date:\n",
      "Feb. 24th\n",
      "Input Current Week Condo Sales (num of units sold):\n",
      "100\n",
      "Input Average Sale Price:\n",
      "607764\n",
      "Input Average PSF:\n",
      "494.38\n",
      "Input Average Days on Market:\n",
      "77\n",
      "Input Current Week Condo Sales Total (ex: $XX million):\n",
      "60776400\n",
      "Input Top Image URL from condo:\n",
      "https://www.condo.com/building/The-Setai-Miami-Beach-FL-33139-3850835\n"
     ]
    }
   ],
   "source": [
    "print('Input Week Starting Date:') ## e.x: Feb. 11th\n",
    "week_starting = input()\n",
    "print('Input Week Ending Date:')\n",
    "week_ending = input()\n",
    "print('Input Current Week Condo Sales (num of units sold):')\n",
    "current_week_condo_sales = input()\n",
    "print('Input Average Sale Price:')\n",
    "average_sale_price = input()\n",
    "print('Input Average PSF:')\n",
    "average_price_psf = input()\n",
    "print('Input Average Days on Market:')\n",
    "average_days_on_market = input()\n",
    "print('Input Current Week Condo Sales Total (ex: $XX million):')\n",
    "current_week_condo_sales_total = input()\n",
    "print('Input Top Image URL from condo:')\n",
    "top_condo_image_url = input()"
   ]
  },
  {
   "cell_type": "markdown",
   "metadata": {},
   "source": [
    "## Previous Week's Values"
   ]
  },
  {
   "cell_type": "code",
   "execution_count": 4,
   "metadata": {},
   "outputs": [
    {
     "name": "stdout",
     "output_type": "stream",
     "text": [
      "Input Previous Week Condo Sales Total (number units sold):\n",
      "141\n",
      "Input Previous Week Condo Average Sales Price:\n",
      "1187526.45\n",
      "Input Previous Week Condo Average PSF:\n",
      "642.20\n",
      "Input Previous Week Condo Sales total (ex: $XX million)\n",
      "167441229\n"
     ]
    }
   ],
   "source": [
    "print('Input Previous Week Condo Sales Total (number units sold):')\n",
    "previous_week_condo_sales = input()\n",
    "print('Input Previous Week Condo Average Sales Price:')\n",
    "previous_week_average_sales_price = input()\n",
    "print('Input Previous Week Condo Average PSF:')\n",
    "previous_week_average_psf = input()\n",
    "print('Input Previous Week Condo Sales total (ex: $XX million)')\n",
    "previous_week_condo_sales_total = input()"
   ]
  },
  {
   "cell_type": "markdown",
   "metadata": {},
   "source": [
    "## Clean Data"
   ]
  },
  {
   "cell_type": "code",
   "execution_count": 5,
   "metadata": {},
   "outputs": [],
   "source": [
    "df = dsf[0]\n",
    "df.columns = df.iloc[0]\n",
    "df = df[1:]\n",
    "df = df.drop(columns=df.columns[0])\n",
    "df = df.replace(np.nan, 'Not Available', regex=True)\n",
    "df = df.rename(columns={'Building / Address / City': 'building_address_city','Days on\\rMarket':'days_on_market',\\\n",
    "                        'Price /\\rSq. Ft.':'price_per_sqft'})\n",
    "df['building_address_city'] = df['building_address_city'].str.replace('^0', '', regex=True)\n",
    "df['geo_address'] = df['building_address_city']\n",
    "df['geo_address'] = df['geo_address'].map(lambda x: re.sub(r'\\r', ' ', x))\n",
    "df = df.replace('\\n',' ',regex=True)\n",
    "pattern = r'^(?P<building_name>[\\d\\s]*[A-Za-z\\s]+)\\s(?P<address>.+)\\s(?P<city>[A-Za-z\\s]+)$'\n",
    "df2 = df['geo_address']\n",
    "df2 = df2.to_frame()\n",
    "df2[['building_name', 'address', 'city']] = df2['geo_address'].str.extract(pattern, expand=True)"
   ]
  },
  {
   "cell_type": "markdown",
   "metadata": {},
   "source": [
    "Review this later (it's about how to properly merge DFs): https://pandas.pydata.org/pandas-docs/stable/user_guide/merging.html"
   ]
  },
  {
   "cell_type": "markdown",
   "metadata": {},
   "source": [
    "## Geocode"
   ]
  },
  {
   "cell_type": "code",
   "execution_count": 6,
   "metadata": {},
   "outputs": [],
   "source": [
    "result = pd.merge(df,df2,left_index=True, right_index=True)\n",
    "df = result\n",
    "df = df.drop(columns='city')"
   ]
  },
  {
   "cell_type": "code",
   "execution_count": 7,
   "metadata": {},
   "outputs": [],
   "source": [
    "%store -r google_maps_API_Key\n",
    "gmaps_key = googlemaps.Client(key=google_maps_API_Key)"
   ]
  },
  {
   "cell_type": "code",
   "execution_count": 8,
   "metadata": {},
   "outputs": [],
   "source": [
    "def geocode(add):\n",
    "    g = gmaps_key.geocode(add)\n",
    "    lat = g[0][\"geometry\"][\"location\"][\"lat\"]\n",
    "    lng = g[0][\"geometry\"][\"location\"][\"lng\"]\n",
    "    return (lat, lng)\n",
    "\n",
    "df['geocoded'] = df['geo_address_x'].apply(geocode)"
   ]
  },
  {
   "cell_type": "code",
   "execution_count": 9,
   "metadata": {},
   "outputs": [],
   "source": [
    "df['geocoded'] = df['geocoded'].astype(str)\n",
    "df[['lat', 'lon']] = df['geocoded'].str.strip('()').str.split(', ', expand=True)\n",
    "df['lat'] = df['lat'].astype(float)\n",
    "df['lon'] = df['lon'].astype(float)"
   ]
  },
  {
   "cell_type": "markdown",
   "metadata": {},
   "source": [
    "Folium documentation link: https://python-visualization.github.io/folium/index.html\n",
    "\n",
    "Folium is the library that lets us use leaflet with Python, since it's meant to be used with JavaScript.\n",
    "\n",
    "For adding titles: https://stackoverflow.com/questions/61928013/adding-a-title-or-text-to-a-folium-map"
   ]
  },
  {
   "cell_type": "markdown",
   "metadata": {},
   "source": [
    "## Correction section"
   ]
  },
  {
   "cell_type": "code",
   "execution_count": 10,
   "metadata": {},
   "outputs": [],
   "source": [
    "# df.at[index#,'col_name']"
   ]
  },
  {
   "cell_type": "markdown",
   "metadata": {},
   "source": [
    "## Format Data"
   ]
  },
  {
   "cell_type": "code",
   "execution_count": 11,
   "metadata": {},
   "outputs": [],
   "source": [
    "### Insert NaNs if needed ###\n",
    "df = df.replace('N/A', np.nan)"
   ]
  },
  {
   "cell_type": "code",
   "execution_count": 12,
   "metadata": {},
   "outputs": [],
   "source": [
    "df['int_Sale_Price'] = df['Sale Price'].str.replace('$','',regex=False)"
   ]
  },
  {
   "cell_type": "code",
   "execution_count": 13,
   "metadata": {},
   "outputs": [],
   "source": [
    "df['int_Sale_Price'] = df['int_Sale_Price'].str.replace(',','',regex=False)"
   ]
  },
  {
   "cell_type": "code",
   "execution_count": 14,
   "metadata": {},
   "outputs": [],
   "source": [
    "df['int_Sale_Price'] = pd.to_numeric(df['int_Sale_Price'])"
   ]
  },
  {
   "cell_type": "code",
   "execution_count": 15,
   "metadata": {},
   "outputs": [],
   "source": [
    "df['price_per_sqft'] = df['price_per_sqft'].str.replace('$','',regex=False)\n",
    "df['price_per_sqft'] = df['price_per_sqft'].str.replace(',','',regex=False)\n",
    "df['price_per_sqft'] = pd.to_numeric(df['price_per_sqft'])\n",
    "\n",
    "df['days_on_market'] = pd.to_numeric(df['days_on_market'])"
   ]
  },
  {
   "cell_type": "markdown",
   "metadata": {},
   "source": [
    "## Color-code top sale"
   ]
  },
  {
   "cell_type": "code",
   "execution_count": 16,
   "metadata": {},
   "outputs": [],
   "source": [
    "### Insert RANK values ###\n",
    "df['RANK'] = range(1, len(df) + 1)\n",
    "# use numpy to assign values to the 'COLOR' column\n",
    "df['COLOR'] = np.where(df['RANK'] <= 1, 'orange', 'blue')"
   ]
  },
  {
   "cell_type": "markdown",
   "metadata": {},
   "source": [
    "## HTML Popup Formatter"
   ]
  },
  {
   "cell_type": "code",
   "execution_count": 17,
   "metadata": {},
   "outputs": [
    {
     "data": {
      "text/plain": [
       "Index(['building_address_city', 'Close Date', 'days_on_market', 'Sale Price',\n",
       "       'Sq. Ft.', 'price_per_sqft', 'Agent', 'Listing Broker', 'Buyer Agent',\n",
       "       'Buyer Broker', 'geo_address_x', 'geo_address_y', 'building_name',\n",
       "       'address', 'geocoded', 'lat', 'lon', 'int_Sale_Price', 'RANK', 'COLOR'],\n",
       "      dtype='object')"
      ]
     },
     "execution_count": 17,
     "metadata": {},
     "output_type": "execute_result"
    }
   ],
   "source": [
    "df.columns"
   ]
  },
  {
   "cell_type": "code",
   "execution_count": 18,
   "metadata": {},
   "outputs": [],
   "source": [
    "def popup_html(row):\n",
    "    building_name = row['building_name']\n",
    "    price = row['Sale Price']\n",
    "    days_on_market = row['days_on_market']\n",
    "    listing_agent = row['Agent']\n",
    "    buyers_agent = row['Buyer Agent']\n",
    "    psf = row['price_per_sqft']\n",
    "    address = row['address']\n",
    "    \n",
    "    html = '''<!DOCTYPE html>\n",
    "    <html>\n",
    "    <strong>Building Name: </strong>{}'''.format(building_name) + '''<br>\n",
    "    <strong>Sale Price: </strong>{}'''.format(price) + '''<br>\n",
    "    <strong>Days on Market: </strong>{}'''.format(days_on_market) + '''<br>\n",
    "    <strong>Listing Agent: </strong>{}'''.format(listing_agent) + '''<br>\n",
    "    <strong>Buyer's Agent: </strong>{}'''.format(buyers_agent) + '''<br>\n",
    "    <strong>Price sq ft: </strong>${}'''.format(psf) + '''<br>\n",
    "    <strong>Address: </strong>{}'''.format(address) + '''<br>\n",
    "    </html>\n",
    "    '''\n",
    "    return html"
   ]
  },
  {
   "cell_type": "code",
   "execution_count": 19,
   "metadata": {},
   "outputs": [
    {
     "data": {
      "text/html": [
       "<div style=\"width:100%;\"><div style=\"position:relative;width:100%;height:0;padding-bottom:60%;\"><span style=\"color:#565656\">Make this Notebook Trusted to load map: File -> Trust Notebook</span><iframe srcdoc=\"&lt;!DOCTYPE html&gt;\n",
       "&lt;head&gt;    \n",
       "    &lt;meta http-equiv=&quot;content-type&quot; content=&quot;text/html; charset=UTF-8&quot; /&gt;\n",
       "    \n",
       "        &lt;script&gt;\n",
       "            L_NO_TOUCH = false;\n",
       "            L_DISABLE_3D = false;\n",
       "        &lt;/script&gt;\n",
       "    \n",
       "    &lt;style&gt;html, body {width: 100%;height: 100%;margin: 0;padding: 0;}&lt;/style&gt;\n",
       "    &lt;style&gt;#map {position:absolute;top:0;bottom:0;right:0;left:0;}&lt;/style&gt;\n",
       "    &lt;script src=&quot;https://cdn.jsdelivr.net/npm/leaflet@1.6.0/dist/leaflet.js&quot;&gt;&lt;/script&gt;\n",
       "    &lt;script src=&quot;https://code.jquery.com/jquery-1.12.4.min.js&quot;&gt;&lt;/script&gt;\n",
       "    &lt;script src=&quot;https://maxcdn.bootstrapcdn.com/bootstrap/3.2.0/js/bootstrap.min.js&quot;&gt;&lt;/script&gt;\n",
       "    &lt;script src=&quot;https://cdnjs.cloudflare.com/ajax/libs/Leaflet.awesome-markers/2.0.2/leaflet.awesome-markers.js&quot;&gt;&lt;/script&gt;\n",
       "    &lt;link rel=&quot;stylesheet&quot; href=&quot;https://cdn.jsdelivr.net/npm/leaflet@1.6.0/dist/leaflet.css&quot;/&gt;\n",
       "    &lt;link rel=&quot;stylesheet&quot; href=&quot;https://maxcdn.bootstrapcdn.com/bootstrap/3.2.0/css/bootstrap.min.css&quot;/&gt;\n",
       "    &lt;link rel=&quot;stylesheet&quot; href=&quot;https://maxcdn.bootstrapcdn.com/bootstrap/3.2.0/css/bootstrap-theme.min.css&quot;/&gt;\n",
       "    &lt;link rel=&quot;stylesheet&quot; href=&quot;https://maxcdn.bootstrapcdn.com/font-awesome/4.6.3/css/font-awesome.min.css&quot;/&gt;\n",
       "    &lt;link rel=&quot;stylesheet&quot; href=&quot;https://cdnjs.cloudflare.com/ajax/libs/Leaflet.awesome-markers/2.0.2/leaflet.awesome-markers.css&quot;/&gt;\n",
       "    &lt;link rel=&quot;stylesheet&quot; href=&quot;https://cdn.jsdelivr.net/gh/python-visualization/folium/folium/templates/leaflet.awesome.rotate.min.css&quot;/&gt;\n",
       "    \n",
       "            &lt;meta name=&quot;viewport&quot; content=&quot;width=device-width,\n",
       "                initial-scale=1.0, maximum-scale=1.0, user-scalable=no&quot; /&gt;\n",
       "            &lt;style&gt;\n",
       "                #map_cfe42e9d82573c0a430932a40fb537cb {\n",
       "                    position: relative;\n",
       "                    width: 100.0%;\n",
       "                    height: 100.0%;\n",
       "                    left: 0.0%;\n",
       "                    top: 0.0%;\n",
       "                }\n",
       "            &lt;/style&gt;\n",
       "        \n",
       "&lt;/head&gt;\n",
       "&lt;body&gt;    \n",
       "    \n",
       "              &lt;h3 align=&quot;center&quot; style=&quot;font-size:16px&quot;&gt;&lt;b&gt;Recent Miami-Dade Condo Sales &lt;/b&gt;&lt;/h3&gt;\n",
       "             \n",
       "    \n",
       "                &lt;p align=&quot;center&quot; style=&quot;vertical-align: bottom; font-size:13px&quot;&gt;&lt;i&gt;Feb. 18th - Feb. 24th&lt;/i&gt;&lt;/p&gt;\n",
       "                \n",
       "    \n",
       "            &lt;div class=&quot;folium-map&quot; id=&quot;map_cfe42e9d82573c0a430932a40fb537cb&quot; &gt;&lt;/div&gt;\n",
       "        \n",
       "&lt;/body&gt;\n",
       "&lt;script&gt;    \n",
       "    \n",
       "            var map_cfe42e9d82573c0a430932a40fb537cb = L.map(\n",
       "                &quot;map_cfe42e9d82573c0a430932a40fb537cb&quot;,\n",
       "                {\n",
       "                    center: [25.830438100000002, -80.17703751],\n",
       "                    crs: L.CRS.EPSG3857,\n",
       "                    zoom: 9.5,\n",
       "                    zoomControl: true,\n",
       "                    preferCanvas: false,\n",
       "                }\n",
       "            );\n",
       "\n",
       "            \n",
       "\n",
       "        \n",
       "    \n",
       "            var feature_group_b80dc8306704a7b8132bfe8141fb49a6 = L.featureGroup(\n",
       "                {}\n",
       "            ).addTo(map_cfe42e9d82573c0a430932a40fb537cb);\n",
       "        \n",
       "    \n",
       "            var marker_8100efc42b0784007d61c30f6d60d986 = L.marker(\n",
       "                [25.79544, -80.12805],\n",
       "                {&quot;fill&quot;: true, &quot;radius&quot;: 5}\n",
       "            ).addTo(feature_group_b80dc8306704a7b8132bfe8141fb49a6);\n",
       "        \n",
       "    \n",
       "            var icon_53ebc377d1243e87581e1f133b7a2050 = L.AwesomeMarkers.icon(\n",
       "                {&quot;extraClasses&quot;: &quot;fa-rotate-0&quot;, &quot;icon&quot;: &quot;info-sign&quot;, &quot;iconColor&quot;: &quot;white&quot;, &quot;markerColor&quot;: &quot;orange&quot;, &quot;prefix&quot;: &quot;glyphicon&quot;}\n",
       "            );\n",
       "            marker_8100efc42b0784007d61c30f6d60d986.setIcon(icon_53ebc377d1243e87581e1f133b7a2050);\n",
       "        \n",
       "    \n",
       "        var popup_27d51332a838b54267a80a5d574cf3f1 = L.popup({&quot;maxWidth&quot;: 400});\n",
       "\n",
       "        \n",
       "            \n",
       "                var html_e31faaebba351f110a5f24335c54c0ef = $(`&lt;div id=&quot;html_e31faaebba351f110a5f24335c54c0ef&quot; style=&quot;width: 100.0%; height: 100.0%;&quot;&gt;&lt;!DOCTYPE html&gt;     &lt;html&gt;     &lt;strong&gt;Building Name: &lt;/strong&gt;The Setai&lt;br&gt;     &lt;strong&gt;Sale Price: &lt;/strong&gt;$4,150,000.00&lt;br&gt;     &lt;strong&gt;Days on Market: &lt;/strong&gt;88&lt;br&gt;     &lt;strong&gt;Listing Agent: &lt;/strong&gt;Diana Garchitorena&lt;br&gt;     &lt;strong&gt;Buyer&#x27;s Agent: &lt;/strong&gt;Jeffrey Miller&lt;br&gt;     &lt;strong&gt;Price sq ft: &lt;/strong&gt;$3244.72&lt;br&gt;     &lt;strong&gt;Address: &lt;/strong&gt;101 20th St 2507 Miami&lt;br&gt;     &lt;/html&gt;     &lt;/div&gt;`)[0];\n",
       "                popup_27d51332a838b54267a80a5d574cf3f1.setContent(html_e31faaebba351f110a5f24335c54c0ef);\n",
       "            \n",
       "        \n",
       "\n",
       "        marker_8100efc42b0784007d61c30f6d60d986.bindPopup(popup_27d51332a838b54267a80a5d574cf3f1)\n",
       "        ;\n",
       "\n",
       "        \n",
       "    \n",
       "    \n",
       "            var feature_group_a858cb3bb3eacddb62df84b651c5ee52 = L.featureGroup(\n",
       "                {}\n",
       "            ).addTo(map_cfe42e9d82573c0a430932a40fb537cb);\n",
       "        \n",
       "    \n",
       "            var marker_cae92adf3f6dcfb282bed9a0f4d59322 = L.marker(\n",
       "                [25.9519943, -80.11997],\n",
       "                {&quot;fill&quot;: true, &quot;radius&quot;: 5}\n",
       "            ).addTo(feature_group_a858cb3bb3eacddb62df84b651c5ee52);\n",
       "        \n",
       "    \n",
       "            var icon_2d9a7a3fa68fee4f08bbff45fd776745 = L.AwesomeMarkers.icon(\n",
       "                {&quot;extraClasses&quot;: &quot;fa-rotate-0&quot;, &quot;icon&quot;: &quot;info-sign&quot;, &quot;iconColor&quot;: &quot;white&quot;, &quot;markerColor&quot;: &quot;blue&quot;, &quot;prefix&quot;: &quot;glyphicon&quot;}\n",
       "            );\n",
       "            marker_cae92adf3f6dcfb282bed9a0f4d59322.setIcon(icon_2d9a7a3fa68fee4f08bbff45fd776745);\n",
       "        \n",
       "    \n",
       "        var popup_a55b71ca10bbfd3fc482166e28b4aeca = L.popup({&quot;maxWidth&quot;: 400});\n",
       "\n",
       "        \n",
       "            \n",
       "                var html_09f8820aae49968eb3fc0ed361112e27 = $(`&lt;div id=&quot;html_09f8820aae49968eb3fc0ed361112e27&quot; style=&quot;width: 100.0%; height: 100.0%;&quot;&gt;&lt;!DOCTYPE html&gt;     &lt;html&gt;     &lt;strong&gt;Building Name: &lt;/strong&gt;Residences by&lt;br&gt;     &lt;strong&gt;Sale Price: &lt;/strong&gt;$3,700,000.00&lt;br&gt;     &lt;strong&gt;Days on Market: &lt;/strong&gt;46&lt;br&gt;     &lt;strong&gt;Listing Agent: &lt;/strong&gt;Maria Carrillo&lt;br&gt;     &lt;strong&gt;Buyer&#x27;s Agent: &lt;/strong&gt;Mikhail MudrIk&lt;br&gt;     &lt;strong&gt;Price sq ft: &lt;/strong&gt;$1629.24&lt;br&gt;     &lt;strong&gt;Address: &lt;/strong&gt;Armani/Casa 18975 Collins Ave 2503 Sunny Isles&lt;br&gt;     &lt;/html&gt;     &lt;/div&gt;`)[0];\n",
       "                popup_a55b71ca10bbfd3fc482166e28b4aeca.setContent(html_09f8820aae49968eb3fc0ed361112e27);\n",
       "            \n",
       "        \n",
       "\n",
       "        marker_cae92adf3f6dcfb282bed9a0f4d59322.bindPopup(popup_a55b71ca10bbfd3fc482166e28b4aeca)\n",
       "        ;\n",
       "\n",
       "        \n",
       "    \n",
       "    \n",
       "            var marker_4d676532f771054b3640af5a21eca9f7 = L.marker(\n",
       "                [25.73272, -80.2334837],\n",
       "                {&quot;fill&quot;: true, &quot;radius&quot;: 5}\n",
       "            ).addTo(feature_group_a858cb3bb3eacddb62df84b651c5ee52);\n",
       "        \n",
       "    \n",
       "            var icon_da9f7d49786b59940dbaea5f690ecff9 = L.AwesomeMarkers.icon(\n",
       "                {&quot;extraClasses&quot;: &quot;fa-rotate-0&quot;, &quot;icon&quot;: &quot;info-sign&quot;, &quot;iconColor&quot;: &quot;white&quot;, &quot;markerColor&quot;: &quot;blue&quot;, &quot;prefix&quot;: &quot;glyphicon&quot;}\n",
       "            );\n",
       "            marker_4d676532f771054b3640af5a21eca9f7.setIcon(icon_da9f7d49786b59940dbaea5f690ecff9);\n",
       "        \n",
       "    \n",
       "        var popup_95a857bde8ae3a34ab3e871c64b2ed20 = L.popup({&quot;maxWidth&quot;: 400});\n",
       "\n",
       "        \n",
       "            \n",
       "                var html_9e9708ba0e95b17479e350e4b1897cdb = $(`&lt;div id=&quot;html_9e9708ba0e95b17479e350e4b1897cdb&quot; style=&quot;width: 100.0%; height: 100.0%;&quot;&gt;&lt;!DOCTYPE html&gt;     &lt;html&gt;     &lt;strong&gt;Building Name: &lt;/strong&gt;The Coconut Grove Bayshore&lt;br&gt;     &lt;strong&gt;Sale Price: &lt;/strong&gt;$1,800,000.00&lt;br&gt;     &lt;strong&gt;Days on Market: &lt;/strong&gt;221&lt;br&gt;     &lt;strong&gt;Listing Agent: &lt;/strong&gt;Sylvia Iriondo&lt;br&gt;     &lt;strong&gt;Buyer&#x27;s Agent: &lt;/strong&gt;Irene Rojas&lt;br&gt;     &lt;strong&gt;Price sq ft: &lt;/strong&gt;$997.23&lt;br&gt;     &lt;strong&gt;Address: &lt;/strong&gt;2575 S Bayshore Dr 5A&lt;br&gt;     &lt;/html&gt;     &lt;/div&gt;`)[0];\n",
       "                popup_95a857bde8ae3a34ab3e871c64b2ed20.setContent(html_9e9708ba0e95b17479e350e4b1897cdb);\n",
       "            \n",
       "        \n",
       "\n",
       "        marker_4d676532f771054b3640af5a21eca9f7.bindPopup(popup_95a857bde8ae3a34ab3e871c64b2ed20)\n",
       "        ;\n",
       "\n",
       "        \n",
       "    \n",
       "    \n",
       "            var marker_a92353dbb020287d9f45b654ae3dec62 = L.marker(\n",
       "                [25.748996, -80.2679477],\n",
       "                {&quot;fill&quot;: true, &quot;radius&quot;: 5}\n",
       "            ).addTo(feature_group_a858cb3bb3eacddb62df84b651c5ee52);\n",
       "        \n",
       "    \n",
       "            var icon_f4948b84c2041547b17e48b09422bb45 = L.AwesomeMarkers.icon(\n",
       "                {&quot;extraClasses&quot;: &quot;fa-rotate-0&quot;, &quot;icon&quot;: &quot;info-sign&quot;, &quot;iconColor&quot;: &quot;white&quot;, &quot;markerColor&quot;: &quot;blue&quot;, &quot;prefix&quot;: &quot;glyphicon&quot;}\n",
       "            );\n",
       "            marker_a92353dbb020287d9f45b654ae3dec62.setIcon(icon_f4948b84c2041547b17e48b09422bb45);\n",
       "        \n",
       "    \n",
       "        var popup_4ee12bd8919b1651266b7662b36591b4 = L.popup({&quot;maxWidth&quot;: 400});\n",
       "\n",
       "        \n",
       "            \n",
       "                var html_ef930090053b6ba34cf9f737cf761767 = $(`&lt;div id=&quot;html_ef930090053b6ba34cf9f737cf761767&quot; style=&quot;width: 100.0%; height: 100.0%;&quot;&gt;&lt;!DOCTYPE html&gt;     &lt;html&gt;     &lt;strong&gt;Building Name: &lt;/strong&gt;Gables on the Green&lt;br&gt;     &lt;strong&gt;Sale Price: &lt;/strong&gt;$1,700,000.00&lt;br&gt;     &lt;strong&gt;Days on Market: &lt;/strong&gt;42&lt;br&gt;     &lt;strong&gt;Listing Agent: &lt;/strong&gt;Daniela Fernandez&lt;br&gt;     &lt;strong&gt;Buyer&#x27;s Agent: &lt;/strong&gt;MariaAmancia Vial-Ducaud&lt;br&gt;     &lt;strong&gt;Price sq ft: &lt;/strong&gt;$809.52&lt;br&gt;     &lt;strong&gt;Address: &lt;/strong&gt;626 Coral Way 1001 Coral&lt;br&gt;     &lt;/html&gt;     &lt;/div&gt;`)[0];\n",
       "                popup_4ee12bd8919b1651266b7662b36591b4.setContent(html_ef930090053b6ba34cf9f737cf761767);\n",
       "            \n",
       "        \n",
       "\n",
       "        marker_a92353dbb020287d9f45b654ae3dec62.bindPopup(popup_4ee12bd8919b1651266b7662b36591b4)\n",
       "        ;\n",
       "\n",
       "        \n",
       "    \n",
       "    \n",
       "            var marker_b0ae49d11a3242e929e3304f1860394b = L.marker(\n",
       "                [25.7304972, -80.23797019999999],\n",
       "                {&quot;fill&quot;: true, &quot;radius&quot;: 5}\n",
       "            ).addTo(feature_group_a858cb3bb3eacddb62df84b651c5ee52);\n",
       "        \n",
       "    \n",
       "            var icon_d7655b74154ec3e0b646fd70c2b15043 = L.AwesomeMarkers.icon(\n",
       "                {&quot;extraClasses&quot;: &quot;fa-rotate-0&quot;, &quot;icon&quot;: &quot;info-sign&quot;, &quot;iconColor&quot;: &quot;white&quot;, &quot;markerColor&quot;: &quot;blue&quot;, &quot;prefix&quot;: &quot;glyphicon&quot;}\n",
       "            );\n",
       "            marker_b0ae49d11a3242e929e3304f1860394b.setIcon(icon_d7655b74154ec3e0b646fd70c2b15043);\n",
       "        \n",
       "    \n",
       "        var popup_c063868d831a207c295a1a993607b06b = L.popup({&quot;maxWidth&quot;: 400});\n",
       "\n",
       "        \n",
       "            \n",
       "                var html_ea21a0c3c7d4084a3947e81d94d2971e = $(`&lt;div id=&quot;html_ea21a0c3c7d4084a3947e81d94d2971e&quot; style=&quot;width: 100.0%; height: 100.0%;&quot;&gt;&lt;!DOCTYPE html&gt;     &lt;html&gt;     &lt;strong&gt;Building Name: &lt;/strong&gt;Ritz Carlton Residences&lt;br&gt;     &lt;strong&gt;Sale Price: &lt;/strong&gt;$1,632,500.00&lt;br&gt;     &lt;strong&gt;Days on Market: &lt;/strong&gt;141&lt;br&gt;     &lt;strong&gt;Listing Agent: &lt;/strong&gt;Sharon Silver&lt;br&gt;     &lt;strong&gt;Buyer&#x27;s Agent: &lt;/strong&gt;Vivian Dimond&lt;br&gt;     &lt;strong&gt;Price sq ft: &lt;/strong&gt;$804.98&lt;br&gt;     &lt;strong&gt;Address: &lt;/strong&gt;3350 SW 27th Ave 1004&lt;br&gt;     &lt;/html&gt;     &lt;/div&gt;`)[0];\n",
       "                popup_c063868d831a207c295a1a993607b06b.setContent(html_ea21a0c3c7d4084a3947e81d94d2971e);\n",
       "            \n",
       "        \n",
       "\n",
       "        marker_b0ae49d11a3242e929e3304f1860394b.bindPopup(popup_c063868d831a207c295a1a993607b06b)\n",
       "        ;\n",
       "\n",
       "        \n",
       "    \n",
       "    \n",
       "            var marker_861bc76d5c6179b4fe68a25591a6e7cb = L.marker(\n",
       "                [25.7628899, -80.1924935],\n",
       "                {&quot;fill&quot;: true, &quot;radius&quot;: 5}\n",
       "            ).addTo(feature_group_a858cb3bb3eacddb62df84b651c5ee52);\n",
       "        \n",
       "    \n",
       "            var icon_34a7f5adbd7288ea171e22a30d213fb9 = L.AwesomeMarkers.icon(\n",
       "                {&quot;extraClasses&quot;: &quot;fa-rotate-0&quot;, &quot;icon&quot;: &quot;info-sign&quot;, &quot;iconColor&quot;: &quot;white&quot;, &quot;markerColor&quot;: &quot;blue&quot;, &quot;prefix&quot;: &quot;glyphicon&quot;}\n",
       "            );\n",
       "            marker_861bc76d5c6179b4fe68a25591a6e7cb.setIcon(icon_34a7f5adbd7288ea171e22a30d213fb9);\n",
       "        \n",
       "    \n",
       "        var popup_70b4120b3207f5dc0be594e10deeabb2 = L.popup({&quot;maxWidth&quot;: 400});\n",
       "\n",
       "        \n",
       "            \n",
       "                var html_63daae64fabdb7535143ccd37280fbd7 = $(`&lt;div id=&quot;html_63daae64fabdb7535143ccd37280fbd7&quot; style=&quot;width: 100.0%; height: 100.0%;&quot;&gt;&lt;!DOCTYPE html&gt;     &lt;html&gt;     &lt;strong&gt;Building Name: &lt;/strong&gt;The Bond&lt;br&gt;     &lt;strong&gt;Sale Price: &lt;/strong&gt;$1,527,000.00&lt;br&gt;     &lt;strong&gt;Days on Market: &lt;/strong&gt;53&lt;br&gt;     &lt;strong&gt;Listing Agent: &lt;/strong&gt;Francis Beracha&lt;br&gt;     &lt;strong&gt;Buyer&#x27;s Agent: &lt;/strong&gt;Patricia Musa Morais&lt;br&gt;     &lt;strong&gt;Price sq ft: &lt;/strong&gt;$958.57&lt;br&gt;     &lt;strong&gt;Address: &lt;/strong&gt;1080 Brickell Ave 2900&lt;br&gt;     &lt;/html&gt;     &lt;/div&gt;`)[0];\n",
       "                popup_70b4120b3207f5dc0be594e10deeabb2.setContent(html_63daae64fabdb7535143ccd37280fbd7);\n",
       "            \n",
       "        \n",
       "\n",
       "        marker_861bc76d5c6179b4fe68a25591a6e7cb.bindPopup(popup_70b4120b3207f5dc0be594e10deeabb2)\n",
       "        ;\n",
       "\n",
       "        \n",
       "    \n",
       "    \n",
       "            var marker_7f4732631038f4122cd8573c67205636 = L.marker(\n",
       "                [25.9456874, -80.13561829999999],\n",
       "                {&quot;fill&quot;: true, &quot;radius&quot;: 5}\n",
       "            ).addTo(feature_group_a858cb3bb3eacddb62df84b651c5ee52);\n",
       "        \n",
       "    \n",
       "            var icon_c25722bb8c6d51fb5a2292c8d225174c = L.AwesomeMarkers.icon(\n",
       "                {&quot;extraClasses&quot;: &quot;fa-rotate-0&quot;, &quot;icon&quot;: &quot;info-sign&quot;, &quot;iconColor&quot;: &quot;white&quot;, &quot;markerColor&quot;: &quot;blue&quot;, &quot;prefix&quot;: &quot;glyphicon&quot;}\n",
       "            );\n",
       "            marker_7f4732631038f4122cd8573c67205636.setIcon(icon_c25722bb8c6d51fb5a2292c8d225174c);\n",
       "        \n",
       "    \n",
       "        var popup_d27151f977f7642e2a58f59179f2a4fc = L.popup({&quot;maxWidth&quot;: 400});\n",
       "\n",
       "        \n",
       "            \n",
       "                var html_1f84f7ad8116a739fa3110a7be42bcf6 = $(`&lt;div id=&quot;html_1f84f7ad8116a739fa3110a7be42bcf6&quot; style=&quot;width: 100.0%; height: 100.0%;&quot;&gt;&lt;!DOCTYPE html&gt;     &lt;html&gt;     &lt;strong&gt;Building Name: &lt;/strong&gt;The Peninsula Condo&lt;br&gt;     &lt;strong&gt;Sale Price: &lt;/strong&gt;$1,465,000.00&lt;br&gt;     &lt;strong&gt;Days on Market: &lt;/strong&gt;41&lt;br&gt;     &lt;strong&gt;Listing Agent: &lt;/strong&gt;Emma Mattout&lt;br&gt;     &lt;strong&gt;Buyer&#x27;s Agent: &lt;/strong&gt;Anahid Boyadjian PA&lt;br&gt;     &lt;strong&gt;Price sq ft: &lt;/strong&gt;$493.27&lt;br&gt;     &lt;strong&gt;Address: &lt;/strong&gt;3201 NE 183rd St  2105&lt;br&gt;     &lt;/html&gt;     &lt;/div&gt;`)[0];\n",
       "                popup_d27151f977f7642e2a58f59179f2a4fc.setContent(html_1f84f7ad8116a739fa3110a7be42bcf6);\n",
       "            \n",
       "        \n",
       "\n",
       "        marker_7f4732631038f4122cd8573c67205636.bindPopup(popup_d27151f977f7642e2a58f59179f2a4fc)\n",
       "        ;\n",
       "\n",
       "        \n",
       "    \n",
       "    \n",
       "            var marker_0a90134383e12378e6d2475b0243ea06 = L.marker(\n",
       "                [25.9389926, -80.1207533],\n",
       "                {&quot;fill&quot;: true, &quot;radius&quot;: 5}\n",
       "            ).addTo(feature_group_a858cb3bb3eacddb62df84b651c5ee52);\n",
       "        \n",
       "    \n",
       "            var icon_43dfe245cc006a66fa38150ef230477d = L.AwesomeMarkers.icon(\n",
       "                {&quot;extraClasses&quot;: &quot;fa-rotate-0&quot;, &quot;icon&quot;: &quot;info-sign&quot;, &quot;iconColor&quot;: &quot;white&quot;, &quot;markerColor&quot;: &quot;blue&quot;, &quot;prefix&quot;: &quot;glyphicon&quot;}\n",
       "            );\n",
       "            marker_0a90134383e12378e6d2475b0243ea06.setIcon(icon_43dfe245cc006a66fa38150ef230477d);\n",
       "        \n",
       "    \n",
       "        var popup_17a59c5ae1129731be6a73cfe3bd8513 = L.popup({&quot;maxWidth&quot;: 400});\n",
       "\n",
       "        \n",
       "            \n",
       "                var html_d8be96f79e0fbb7b0116022666866ba8 = $(`&lt;div id=&quot;html_d8be96f79e0fbb7b0116022666866ba8&quot; style=&quot;width: 100.0%; height: 100.0%;&quot;&gt;&lt;!DOCTYPE html&gt;     &lt;html&gt;     &lt;strong&gt;Building Name: &lt;/strong&gt;The Pinnacle Condo&lt;br&gt;     &lt;strong&gt;Sale Price: &lt;/strong&gt;$1,325,000.00&lt;br&gt;     &lt;strong&gt;Days on Market: &lt;/strong&gt;18&lt;br&gt;     &lt;strong&gt;Listing Agent: &lt;/strong&gt;Carl Gambino&lt;br&gt;     &lt;strong&gt;Buyer&#x27;s Agent: &lt;/strong&gt;Jessica Suetta&lt;br&gt;     &lt;strong&gt;Price sq ft: &lt;/strong&gt;$833.33&lt;br&gt;     &lt;strong&gt;Address: &lt;/strong&gt;17555 Collins Ave 1006 Sunny Isles&lt;br&gt;     &lt;/html&gt;     &lt;/div&gt;`)[0];\n",
       "                popup_17a59c5ae1129731be6a73cfe3bd8513.setContent(html_d8be96f79e0fbb7b0116022666866ba8);\n",
       "            \n",
       "        \n",
       "\n",
       "        marker_0a90134383e12378e6d2475b0243ea06.bindPopup(popup_17a59c5ae1129731be6a73cfe3bd8513)\n",
       "        ;\n",
       "\n",
       "        \n",
       "    \n",
       "    \n",
       "            var marker_f7c3e14cbcbf44068df099db281de92c = L.marker(\n",
       "                [25.9441646, -80.1354671],\n",
       "                {&quot;fill&quot;: true, &quot;radius&quot;: 5}\n",
       "            ).addTo(feature_group_a858cb3bb3eacddb62df84b651c5ee52);\n",
       "        \n",
       "    \n",
       "            var icon_ef07d4368ca8228e59ad5d29f7518ee9 = L.AwesomeMarkers.icon(\n",
       "                {&quot;extraClasses&quot;: &quot;fa-rotate-0&quot;, &quot;icon&quot;: &quot;info-sign&quot;, &quot;iconColor&quot;: &quot;white&quot;, &quot;markerColor&quot;: &quot;blue&quot;, &quot;prefix&quot;: &quot;glyphicon&quot;}\n",
       "            );\n",
       "            marker_f7c3e14cbcbf44068df099db281de92c.setIcon(icon_ef07d4368ca8228e59ad5d29f7518ee9);\n",
       "        \n",
       "    \n",
       "        var popup_748b3e185fa63b1e6f928e8b7c0b9134 = L.popup({&quot;maxWidth&quot;: 400});\n",
       "\n",
       "        \n",
       "            \n",
       "                var html_0abf162ccaaa06c09211f9f24fc0608f = $(`&lt;div id=&quot;html_0abf162ccaaa06c09211f9f24fc0608f&quot; style=&quot;width: 100.0%; height: 100.0%;&quot;&gt;&lt;!DOCTYPE html&gt;     &lt;html&gt;     &lt;strong&gt;Building Name: &lt;/strong&gt;7000 Island Blvd Williams Island&lt;br&gt;     &lt;strong&gt;Sale Price: &lt;/strong&gt;$1,285,000.00&lt;br&gt;     &lt;strong&gt;Days on Market: &lt;/strong&gt;6&lt;br&gt;     &lt;strong&gt;Listing Agent: &lt;/strong&gt;David Salazar&lt;br&gt;     &lt;strong&gt;Buyer&#x27;s Agent: &lt;/strong&gt;Nicole Shein&lt;br&gt;     &lt;strong&gt;Price sq ft: &lt;/strong&gt;$463.9&lt;br&gt;     &lt;strong&gt;Address: &lt;/strong&gt;7000 Island Blvd 2502&lt;br&gt;     &lt;/html&gt;     &lt;/div&gt;`)[0];\n",
       "                popup_748b3e185fa63b1e6f928e8b7c0b9134.setContent(html_0abf162ccaaa06c09211f9f24fc0608f);\n",
       "            \n",
       "        \n",
       "\n",
       "        marker_f7c3e14cbcbf44068df099db281de92c.bindPopup(popup_748b3e185fa63b1e6f928e8b7c0b9134)\n",
       "        ;\n",
       "\n",
       "        \n",
       "    \n",
       "    \n",
       "            var marker_8196c4f04532954e443ddc1ab1391856 = L.marker(\n",
       "                [25.752999, -80.1986213],\n",
       "                {&quot;fill&quot;: true, &quot;radius&quot;: 5}\n",
       "            ).addTo(feature_group_a858cb3bb3eacddb62df84b651c5ee52);\n",
       "        \n",
       "    \n",
       "            var icon_4cd2baf6dce5fb5c2453e162fe54fa4e = L.AwesomeMarkers.icon(\n",
       "                {&quot;extraClasses&quot;: &quot;fa-rotate-0&quot;, &quot;icon&quot;: &quot;info-sign&quot;, &quot;iconColor&quot;: &quot;white&quot;, &quot;markerColor&quot;: &quot;blue&quot;, &quot;prefix&quot;: &quot;glyphicon&quot;}\n",
       "            );\n",
       "            marker_8196c4f04532954e443ddc1ab1391856.setIcon(icon_4cd2baf6dce5fb5c2453e162fe54fa4e);\n",
       "        \n",
       "    \n",
       "        var popup_70ad8a5da56a240988897c39270c19da = L.popup({&quot;maxWidth&quot;: 400});\n",
       "\n",
       "        \n",
       "            \n",
       "                var html_5f2395fe09edfc971996ac3c6047e3ae = $(`&lt;div id=&quot;html_5f2395fe09edfc971996ac3c6047e3ae&quot; style=&quot;width: 100.0%; height: 100.0%;&quot;&gt;&lt;!DOCTYPE html&gt;     &lt;html&gt;     &lt;strong&gt;Building Name: &lt;/strong&gt;Atlantis on Brickell&lt;br&gt;     &lt;strong&gt;Sale Price: &lt;/strong&gt;$1,200,000.00&lt;br&gt;     &lt;strong&gt;Days on Market: &lt;/strong&gt;225&lt;br&gt;     &lt;strong&gt;Listing Agent: &lt;/strong&gt;Saverina Martinez PA&lt;br&gt;     &lt;strong&gt;Buyer&#x27;s Agent: &lt;/strong&gt;Maria Lopez Pulido&lt;br&gt;     &lt;strong&gt;Price sq ft: &lt;/strong&gt;$558.4&lt;br&gt;     &lt;strong&gt;Address: &lt;/strong&gt;2025 Brickell Ave 1401&lt;br&gt;     &lt;/html&gt;     &lt;/div&gt;`)[0];\n",
       "                popup_70ad8a5da56a240988897c39270c19da.setContent(html_5f2395fe09edfc971996ac3c6047e3ae);\n",
       "            \n",
       "        \n",
       "\n",
       "        marker_8196c4f04532954e443ddc1ab1391856.bindPopup(popup_70ad8a5da56a240988897c39270c19da)\n",
       "        ;\n",
       "\n",
       "        \n",
       "    \n",
       "    \n",
       "            var tile_layer_180fec357e9d0ae7c4c1d8e46f943717 = L.tileLayer(\n",
       "                &quot;https://{s}.tile.openstreetmap.org/{z}/{x}/{y}.png&quot;,\n",
       "                {&quot;attribution&quot;: &quot;Data by \\u0026copy; \\u003ca href=\\&quot;http://openstreetmap.org\\&quot;\\u003eOpenStreetMap\\u003c/a\\u003e, under \\u003ca href=\\&quot;http://www.openstreetmap.org/copyright\\&quot;\\u003eODbL\\u003c/a\\u003e.&quot;, &quot;detectRetina&quot;: false, &quot;maxNativeZoom&quot;: 18, &quot;maxZoom&quot;: 18, &quot;minZoom&quot;: 0, &quot;noWrap&quot;: false, &quot;opacity&quot;: 1, &quot;subdomains&quot;: &quot;abc&quot;, &quot;tms&quot;: false}\n",
       "            ).addTo(map_cfe42e9d82573c0a430932a40fb537cb);\n",
       "        \n",
       "    \n",
       "            var layer_control_3ca76007d01baff9b6d1e31d76fb71f3 = {\n",
       "                base_layers : {\n",
       "                },\n",
       "                overlays :  {\n",
       "                    &quot;Top Sale&quot; : feature_group_b80dc8306704a7b8132bfe8141fb49a6,\n",
       "                    &quot;All other sales&quot; : feature_group_a858cb3bb3eacddb62df84b651c5ee52,\n",
       "                },\n",
       "            };\n",
       "            L.control.layers(\n",
       "                layer_control_3ca76007d01baff9b6d1e31d76fb71f3.base_layers,\n",
       "                layer_control_3ca76007d01baff9b6d1e31d76fb71f3.overlays,\n",
       "                {&quot;autoZIndex&quot;: true, &quot;collapsed&quot;: false, &quot;position&quot;: &quot;topright&quot;}\n",
       "            ).addTo(map_cfe42e9d82573c0a430932a40fb537cb);\n",
       "        \n",
       "&lt;/script&gt;\" style=\"position:absolute;width:100%;height:100%;left:0;top:0;border:none !important;\" allowfullscreen webkitallowfullscreen mozallowfullscreen></iframe></div></div>"
      ],
      "text/plain": [
       "<folium.folium.Map at 0x7fda1002edc0>"
      ]
     },
     "execution_count": 19,
     "metadata": {},
     "output_type": "execute_result"
    }
   ],
   "source": [
    "import folium\n",
    "from folium.plugins import MarkerCluster\n",
    "\n",
    "m = folium.Map(location=df[[\"lat\", \"lon\"]].mean().to_list(), zoom_start=10)\n",
    "\n",
    "title_html = '''\n",
    "              <h3 align=\"center\" style=\"font-size:16px\"><b>{}</b></h3>\n",
    "             '''.format(f'Recent Miami-Dade Condo Sales ')\n",
    "\n",
    "caption_html = '''\n",
    "                <p align=\"center\" style=\"vertical-align: bottom; font-size:13px\"><i>{}</i></p>\n",
    "                '''.format(f'{week_starting} - {week_ending}')\n",
    "\n",
    "\n",
    "### Create map container ###\n",
    "m = folium.Map(location=df[[\"lat\", \"lon\"]].mean().to_list(),zoom_start=9.5,tiles=None)\n",
    "\n",
    "# Create two FeatureGroups for different color pins\n",
    "fg_blue = folium.FeatureGroup(name='All other sales')\n",
    "fg_orange = folium.FeatureGroup(name='Top Sale')\n",
    "\n",
    "for index, row in df.iterrows():\n",
    "    # Add the markers to the appropriate FeatureGroup based on the color\n",
    "    if row['COLOR'] == 'blue':\n",
    "        marker = folium.Marker(\n",
    "            location=[row['lat'], row['lon']],\n",
    "            radius=5,\n",
    "            fill=True,\n",
    "            icon=folium.Icon(color=row['COLOR']),\n",
    "            popup=folium.Popup(popup_html(row), max_width=400))\n",
    "        marker.add_to(fg_blue)\n",
    "    else:\n",
    "        marker = folium.Marker(\n",
    "            location=[row['lat'], row['lon']],\n",
    "            radius=5,\n",
    "            fill=True,\n",
    "            icon=folium.Icon(color=row['COLOR']),\n",
    "            popup=folium.Popup(popup_html(row), max_width=400))\n",
    "        marker.add_to(fg_orange)\n",
    "\n",
    "# Add the FeatureGroups to the map\n",
    "fg_orange.add_to(m)\n",
    "fg_blue.add_to(m)\n",
    "\n",
    "folium.TileLayer('OpenStreetMap',control=False).add_to(m)\n",
    "\n",
    "# Add LayerControl to the map\n",
    "folium.map.LayerControl(collapsed=False).add_to(m)\n",
    "m.get_root().html.add_child(folium.Element(title_html))\n",
    "m.get_root().html.add_child(folium.Element(caption_html))\n",
    "            \n",
    "# Display map\n",
    "m"
   ]
  },
  {
   "cell_type": "code",
   "execution_count": 20,
   "metadata": {},
   "outputs": [],
   "source": [
    "m.save('index.html')"
   ]
  },
  {
   "cell_type": "markdown",
   "metadata": {},
   "source": [
    "## Data snagger"
   ]
  },
  {
   "cell_type": "code",
   "execution_count": 21,
   "metadata": {},
   "outputs": [],
   "source": [
    "### Set up formatting ###\n",
    "BR = '\\n'\n",
    "\n",
    "ME = '\\033[1m' + 'Most Expensive' + '\\033[0m'\n",
    "LE = '\\033[1m' + 'Least Expensive' + '\\033[0m'\n",
    "\n",
    "MAX_PSF = '\\033[1m' + 'Highest Price Per Square Foot' + '\\033[0m'\n",
    "MIN_PSF = '\\033[1m' + 'Lowest Price Per Square Foot' + '\\033[0m'\n",
    "\n",
    "DAYS_MAX = '\\033[1m' + 'Most Days on Market' + '\\033[0m'\n",
    "DAYS_MIN = '\\033[1m' + 'Fewest Days on Market' + '\\033[0m'"
   ]
  },
  {
   "cell_type": "code",
   "execution_count": 22,
   "metadata": {},
   "outputs": [
    {
     "name": "stdout",
     "output_type": "stream",
     "text": [
      "\u001b[1mMost Expensive\u001b[0m\n",
      "The Setai, 101 20th St 2507 Miami | Price $4,150,000 | $3,245 psf | Listing agent: Diana Garchitorena with Douglas Elliman | Buyer's agent: Jeffrey Miller with One Sotheby's International Realty | Days on market: 88\n",
      "\u001b[1mLeast Expensive\u001b[0m\n",
      "Atlantis on Brickell, 2025 Brickell Ave 1401 | Price $1,200,000 | $558 psf | Listing agent: Saverina Martinez PA with Galleria International Realty | Buyer's agent: Maria Lopez Pulido with Compass Florida, LLC. | Days on market: 225\n",
      "\u001b[1mHighest Price Per Square Foot\u001b[0m\n",
      "The Setai, 101 20th St 2507 Miami | Price $4,150,000 | $3,245 psf | Listing agent: Diana Garchitorena with Douglas Elliman | Buyer's agent: Jeffrey Miller with One Sotheby's International Realty | Days on market: 88\n",
      "\u001b[1mLowest Price Per Square Foot\u001b[0m\n",
      "7000 Island Blvd Williams Island, 7000 Island Blvd 2502 | Price $1,285,000 | $464 psf | Listing agent: David Salazar with Affinity International Realty | Buyer's agent: Nicole Shein with Williams Island Realty, LLC | Days on market: 6\n",
      "\u001b[1mMost Days on Market\u001b[0m\n",
      "Atlantis on Brickell, 2025 Brickell Ave 1401 | Price $1,200,000 | $558 psf | Listing agent: Saverina Martinez PA with Galleria International Realty | Buyer's agent: Maria Lopez Pulido with Compass Florida, LLC. | Days on market: 225\n",
      "\u001b[1mFewest Days on Market\u001b[0m\n",
      "7000 Island Blvd Williams Island, 7000 Island Blvd 2502 | Price $1,285,000 | $464 psf | Listing agent: David Salazar with Affinity International Realty | Buyer's agent: Nicole Shein with Williams Island Realty, LLC | Days on market: 6\n"
     ]
    }
   ],
   "source": [
    "### Highest and lowest sale price ###\n",
    "print(f\"{ME}{BR}{df.loc[df['int_Sale_Price'].idxmax()]['building_name']}, {df.loc[df['int_Sale_Price'].idxmax()]['address']} | Price ${df.loc[df['int_Sale_Price'].idxmax()]['int_Sale_Price']:,.0f} | ${df.loc[df['int_Sale_Price'].idxmax()]['price_per_sqft']:,.0f} psf | Listing agent: {df.loc[df['int_Sale_Price'].idxmax()]['Agent']} with {df.loc[df['int_Sale_Price'].idxmax()]['Listing Broker']} | Buyer's agent: {df.loc[df['int_Sale_Price'].idxmax()]['Buyer Agent']} with {df.loc[df['int_Sale_Price'].idxmax()]['Buyer Broker']} | Days on market: {df.loc[df['int_Sale_Price'].idxmax()]['days_on_market']}\")\n",
    "print(f\"{LE}{BR}{df.loc[df['int_Sale_Price'].idxmin()]['building_name']}, {df.loc[df['int_Sale_Price'].idxmin()]['address']} | Price ${df.loc[df['int_Sale_Price'].idxmin()]['int_Sale_Price']:,.0f} | ${df.loc[df['int_Sale_Price'].idxmin()]['price_per_sqft']:,.0f} psf | Listing agent: {df.loc[df['int_Sale_Price'].idxmin()]['Agent']} with {df.loc[df['int_Sale_Price'].idxmin()]['Listing Broker']} | Buyer's agent: {df.loc[df['int_Sale_Price'].idxmin()]['Buyer Agent']} with {df.loc[df['int_Sale_Price'].idxmin()]['Buyer Broker']} | Days on market: {df.loc[df['int_Sale_Price'].idxmin()]['days_on_market']}\")\n",
    "### Highest and lowest psf ###\n",
    "print(f\"{MAX_PSF}{BR}{df.loc[df['price_per_sqft'].idxmax()]['building_name']}, {df.loc[df['price_per_sqft'].idxmax()]['address']} | Price ${df.loc[df['price_per_sqft'].idxmax()]['int_Sale_Price']:,.0f} | ${df.loc[df['price_per_sqft'].idxmax()]['price_per_sqft']:,.0f} psf | Listing agent: {df.loc[df['price_per_sqft'].idxmax()]['Agent']} with {df.loc[df['price_per_sqft'].idxmax()]['Listing Broker']} | Buyer's agent: {df.loc[df['price_per_sqft'].idxmax()]['Buyer Agent']} with {df.loc[df['price_per_sqft'].idxmax()]['Buyer Broker']} | Days on market: {df.loc[df['price_per_sqft'].idxmax()]['days_on_market']}\")\n",
    "print(f\"{MIN_PSF}{BR}{df.loc[df['price_per_sqft'].idxmin()]['building_name']}, {df.loc[df['price_per_sqft'].idxmin()]['address']} | Price ${df.loc[df['price_per_sqft'].idxmin()]['int_Sale_Price']:,.0f} | ${df.loc[df['price_per_sqft'].idxmin()]['price_per_sqft']:,.0f} psf | Listing agent: {df.loc[df['price_per_sqft'].idxmin()]['Agent']} with {df.loc[df['price_per_sqft'].idxmin()]['Listing Broker']} | Buyer's agent: {df.loc[df['price_per_sqft'].idxmin()]['Buyer Agent']} with {df.loc[df['price_per_sqft'].idxmin()]['Buyer Broker']} | Days on market: {df.loc[df['price_per_sqft'].idxmin()]['days_on_market']}\")\n",
    "### Highest and lowest days on market ###\n",
    "print(f\"{DAYS_MAX}{BR}{df.loc[df['days_on_market'].idxmax()]['building_name']}, {df.loc[df['days_on_market'].idxmax()]['address']} | Price ${df.loc[df['days_on_market'].idxmax()]['int_Sale_Price']:,.0f} | ${df.loc[df['days_on_market'].idxmax()]['price_per_sqft']:,.0f} psf | Listing agent: {df.loc[df['days_on_market'].idxmax()]['Agent']} with {df.loc[df['days_on_market'].idxmax()]['Listing Broker']} | Buyer's agent: {df.loc[df['days_on_market'].idxmax()]['Buyer Agent']} with {df.loc[df['days_on_market'].idxmax()]['Buyer Broker']} | Days on market: {df.loc[df['days_on_market'].idxmax()]['days_on_market']}\")\n",
    "print(f\"{DAYS_MIN}{BR}{df.loc[df['days_on_market'].idxmin()]['building_name']}, {df.loc[df['days_on_market'].idxmin()]['address']} | Price ${df.loc[df['days_on_market'].idxmin()]['int_Sale_Price']:,.0f} | ${df.loc[df['days_on_market'].idxmin()]['price_per_sqft']:,.0f} psf | Listing agent: {df.loc[df['days_on_market'].idxmin()]['Agent']} with {df.loc[df['days_on_market'].idxmin()]['Listing Broker']} | Buyer's agent: {df.loc[df['days_on_market'].idxmin()]['Buyer Agent']} with {df.loc[df['days_on_market'].idxmin()]['Buyer Broker']} | Days on market: {df.loc[df['days_on_market'].idxmin()]['days_on_market']}\")"
   ]
  },
  {
   "cell_type": "code",
   "execution_count": 23,
   "metadata": {},
   "outputs": [
    {
     "data": {
      "text/plain": [
       "88.1"
      ]
     },
     "execution_count": 23,
     "metadata": {},
     "output_type": "execute_result"
    }
   ],
   "source": [
    "df['days_on_market'].mean()"
   ]
  },
  {
   "cell_type": "markdown",
   "metadata": {},
   "source": [
    "## Map URL snagger"
   ]
  },
  {
   "cell_type": "markdown",
   "metadata": {},
   "source": [
    "Map template URL: `https://trd-digital.github.io/trd-news-interactive-maps/{map-folder-name}`"
   ]
  },
  {
   "cell_type": "code",
   "execution_count": 24,
   "metadata": {},
   "outputs": [
    {
     "name": "stdout",
     "output_type": "stream",
     "text": [
      "https://trd-digital.github.io/trd-news-interactive-maps/condo_sales_week_ending_02242024\n"
     ]
    }
   ],
   "source": [
    "base_name = 'https://trd-digital.github.io/trd-news-interactive-maps/'\n",
    "\n",
    "cwd = os.getcwd()\n",
    "\n",
    "cwd = cwd.split('/')\n",
    "\n",
    "final_name = base_name + cwd[-1]\n",
    "print(final_name)"
   ]
  },
  {
   "cell_type": "markdown",
   "metadata": {},
   "source": [
    "# CREATE TEMPLATE "
   ]
  },
  {
   "cell_type": "code",
   "execution_count": 25,
   "metadata": {},
   "outputs": [],
   "source": [
    "df['muni_name'] = df['building_address_city'].str.split('\\r').str[-1]"
   ]
  },
  {
   "cell_type": "code",
   "execution_count": 26,
   "metadata": {},
   "outputs": [],
   "source": [
    "muni_set = set(df['muni_name'])"
   ]
  },
  {
   "cell_type": "code",
   "execution_count": 27,
   "metadata": {},
   "outputs": [],
   "source": [
    "df['building_address_city_clean'] = df['building_address_city'].str.split('\\r')"
   ]
  },
  {
   "cell_type": "code",
   "execution_count": 28,
   "metadata": {},
   "outputs": [],
   "source": [
    "top_sale = df.at[1, 'building_address_city_clean']\n",
    "second_top_sale = df.at[2,'building_address_city_clean']"
   ]
  },
  {
   "cell_type": "code",
   "execution_count": 29,
   "metadata": {},
   "outputs": [],
   "source": [
    "### Average Sales Price ###\n",
    "if float(average_sale_price) > float(previous_week_average_sales_price):\n",
    "    change = 'higher'\n",
    "    difference = float(average_sale_price) - float(previous_week_average_sales_price)\n",
    "else:\n",
    "    change = 'lower'\n",
    "    difference = float(previous_week_average_sales_price) - float(average_sale_price)\n",
    "    \n",
    "### Total condo dollar volume ###\n",
    "if float(current_week_condo_sales_total) > float(previous_week_condo_sales_total):\n",
    "    seo_head = 'Rises'\n",
    "elif float(previous_week_condo_sales_total) < float(current_week_condo_sales_total):\n",
    "    seo_head = 'Falls'\n",
    "else:\n",
    "    seo_head = 'Unchanged'\n",
    "    \n",
    "\n",
    "### Average PSF ###    \n",
    "if float(average_price_psf) > float(previous_week_average_psf):\n",
    "    psf_rf = 'rose'\n",
    "elif float(average_price_psf) < float(previous_week_average_psf):\n",
    "    psf_rf ='fell'\n",
    "else:\n",
    "    psf_rf = 'equaled'"
   ]
  },
  {
   "cell_type": "code",
   "execution_count": 30,
   "metadata": {},
   "outputs": [
    {
     "data": {
      "text/plain": [
       "579762.45"
      ]
     },
     "execution_count": 30,
     "metadata": {},
     "output_type": "execute_result"
    }
   ],
   "source": [
    "difference"
   ]
  },
  {
   "cell_type": "code",
   "execution_count": 31,
   "metadata": {},
   "outputs": [],
   "source": [
    "story_string = f'''\n",
    "\\033[1mHED:\\033[0m {df.loc[df['int_Sale_Price'].idxmax()]['building_name']} tops Miami-Dade weekly condo sales \n",
    "\\033[1mDEK:\\033[0m Top 10 sales ranged from {df.at[10,'Sale Price']} to {df.at[1,'Sale Price']}\n",
    "\\033[1mFEATURED HED:\\033[0m\n",
    "\\033[1mSEO HED:\\033[0m Miami-Dade County Weekly Condo Report \n",
    "\\033[1mSEO DESCRIPTION:\\033[0m Miami-Dade County’s condo sales XXXXXXX\n",
    "\\033[1mAUTHOR:\\033[0m Adam Farence\n",
    "\\033[1mRESEARCH:\\033[0m \n",
    "\\033[1mSocial:\\033[0m #MiamiDade condo sales XXXXX\n",
    "\\033[1mART:\\033[0m\n",
    "\n",
    "Credit condo.com with the image below and the PDF chart in the story\n",
    "{top_condo_image_url}\n",
    "\n",
    "Interactive map\n",
    "\n",
    "*Please provide credits for any images that you share\n",
    "\\033[1mSTORY TYPE:\\033[0m Report\n",
    "\\033[1mSECTOR\\033[0m (formerly CATEGORY): Residential Real Estate\n",
    "\\033[1mTAGS:\\033[0m condo sales, Miami-Dade County, weekly condo sales, {', '.join(str(x) for x in muni_set)}\n",
    "\n",
    "\\033[1mNeighborhood:\\033[0m \n",
    "\\033[1mProperty:\\033[0m\n",
    "\\033[1mProperty Type:\\033[0m\n",
    "\\033[1mCompanies:\\033[0m \n",
    "\\033[1mPeople:\\033[0m\n",
    "\\033[1mIssues:\\033[0m\n",
    "\\033[1mRegion:\\033[0m\n",
    "\\033[1m[]Show in Yahoo Feed\\033[0m\n",
    "\n",
    "Miami-Dade County’s NEWS PEG HERE.\n",
    "\n",
    "Brokers closed {int(current_week_condo_sales):,.0f} condo sales totaling ${float(current_week_condo_sales_total):,.0f} million from {week_starting} to {week_ending}. The previous week, brokers closed {previous_week_condo_sales} condo sales totaling ${int(previous_week_condo_sales_total):,.0f}.\n",
    "\n",
    "Last week’s units sold for an average of ${float(average_sale_price):,.0f}, {change} than the ${float(previous_week_average_sales_price):,.0f} sales average from the previous week. The average price per square foot {psf_rf} to ${average_price_psf} from ${previous_week_average_psf}, according to data from condo.com. Condos closed after an average of {average_days_on_market} days on the market.\n",
    "\n",
    "For the top 10 sales, prices ranged from {df.at[10,'Sale Price']} to {df.at[1,'Sale Price']}. \n",
    "\n",
    "{top_sale[0]}, at {top_sale[1]} in {top_sale[2]} took the top spot with a {df.at[1,'Sale Price']} million closing. {df.at[1,'Agent']} with {df.at[1,'Listing Broker']} had the listing. {df.at[1,'Buyer Agent']} with {df.at[1,'Buyer Broker']} represented the buyer. The sale closed after {df.at[1,'days_on_market']} days on the market at ${df.at[1,'price_per_sqft']:,} per square foot.\n",
    "\n",
    "{second_top_sale[0]} in {second_top_sale[2]}, at {second_top_sale[1]}, closed for the second highest amount, {df.at[2,'Sale Price']}, or ${df.at[2,'price_per_sqft']:,} per square foot, after {df.at[2,'days_on_market']} days on the market. {df.at[2,'Agent']} with {df.at[2,'Listing Broker']} had the listing. {df.at[2,'Buyer Agent']} with {df.at[2,'Buyer Broker']} represented the buyer.\n",
    "\n",
    "<figure>\n",
    " <div class=\"container\">\n",
    "   <div class=\"iframe-wrap\">\n",
    "   <iframe src=\"{final_name}\" width=\"100%\" height=\"600\" frameBorder=\"0\" scrolling=\"no\"></iframe>\n",
    "  </div>\n",
    "</div>\n",
    "  <figcaption align=\"right\"><a href=\"https://leafletjs.com/\">Leaflet</a> map created by Adam Farence | Data by © <a href=\"https://www.openstreetmap.org/#map=4/38.01/-95.84\"> OpenStreetMap</a>, under <a href=\"https://www.openstreetmap.org/copyright\">ODbl.</a></figcaption>\n",
    "</figure>\n",
    "\n",
    "Here’s a breakdown of the top 10 sales from {week_starting} to {week_ending}:\n",
    "'''\n",
    "\n",
    "# print(story_string)"
   ]
  },
  {
   "cell_type": "code",
   "execution_count": 32,
   "metadata": {},
   "outputs": [],
   "source": [
    "story_checklist = '''\n",
    "\\033[1mRemember to...:\\033[0m\n",
    "\n",
    "1. Double check all names. Sometimes names differ between the hed and the body of the story.\n",
    "    For example, \"Surf Club Four Seasons\" in the HED and \"Four Seasons Residences at the Surfclub\"\n",
    "    in the body.\n",
    "    \n",
    "2. Add in context, if available. When there's a high-priced condo sale, check and see if there's\n",
    "    a story. If there is, add in some extra details and link back to it.\n",
    "    \n",
    "3. Add in a screenshot of the sales chart.\n",
    "'''"
   ]
  },
  {
   "cell_type": "code",
   "execution_count": 33,
   "metadata": {},
   "outputs": [
    {
     "name": "stdout",
     "output_type": "stream",
     "text": [
      "\n",
      "\u001b[1mHED:\u001b[0m The Setai tops Miami-Dade weekly condo sales \n",
      "\u001b[1mDEK:\u001b[0m Top 10 sales ranged from $1,200,000.00 to $4,150,000.00\n",
      "\u001b[1mFEATURED HED:\u001b[0m\n",
      "\u001b[1mSEO HED:\u001b[0m Miami-Dade County Weekly Condo Report \n",
      "\u001b[1mSEO DESCRIPTION:\u001b[0m Miami-Dade County’s condo sales XXXXXXX\n",
      "\u001b[1mAUTHOR:\u001b[0m Adam Farence\n",
      "\u001b[1mRESEARCH:\u001b[0m \n",
      "\u001b[1mSocial:\u001b[0m #MiamiDade condo sales XXXXX\n",
      "\u001b[1mART:\u001b[0m\n",
      "\n",
      "Credit condo.com with the image below and the PDF chart in the story\n",
      "https://www.condo.com/building/The-Setai-Miami-Beach-FL-33139-3850835\n",
      "\n",
      "Interactive map\n",
      "\n",
      "*Please provide credits for any images that you share\n",
      "\u001b[1mSTORY TYPE:\u001b[0m Report\n",
      "\u001b[1mSECTOR\u001b[0m (formerly CATEGORY): Residential Real Estate\n",
      "\u001b[1mTAGS:\u001b[0m condo sales, Miami-Dade County, weekly condo sales, Aventura, Miami Beach, Sunny Isles Beach, Miami, Coral Gables\n",
      "\n",
      "\u001b[1mNeighborhood:\u001b[0m \n",
      "\u001b[1mProperty:\u001b[0m\n",
      "\u001b[1mProperty Type:\u001b[0m\n",
      "\u001b[1mCompanies:\u001b[0m \n",
      "\u001b[1mPeople:\u001b[0m\n",
      "\u001b[1mIssues:\u001b[0m\n",
      "\u001b[1mRegion:\u001b[0m\n",
      "\u001b[1m[]Show in Yahoo Feed\u001b[0m\n",
      "\n",
      "Miami-Dade County’s NEWS PEG HERE.\n",
      "\n",
      "Brokers closed 100 condo sales totaling $60,776,400 million from Feb. 18th to Feb. 24th. The previous week, brokers closed 141 condo sales totaling $167,441,229.\n",
      "\n",
      "Last week’s units sold for an average of $607,764, lower than the $1,187,526 sales average from the previous week. The average price per square foot fell to $494.38 from $642.20, according to data from condo.com. Condos closed after an average of 77 days on the market.\n",
      "\n",
      "For the top 10 sales, prices ranged from $1,200,000.00 to $4,150,000.00. \n",
      "\n",
      "The Setai, at 101 20th St 2507 in Miami Beach took the top spot with a $4,150,000.00 million closing. Diana Garchitorena with Douglas Elliman had the listing. Jeffrey Miller with One Sotheby's International Realty represented the buyer. The sale closed after 88 days on the market at $3,244.72 per square foot.\n",
      "\n",
      "Residences by Armani/Casa in Sunny Isles Beach, at 18975 Collins Ave 2503, closed for the second highest amount, $3,700,000.00, or $1,629.24 per square foot, after 46 days on the market. Maria Carrillo with The Keyes Company had the listing. Mikhail MudrIk with The Agency Florida LLC represented the buyer.\n",
      "\n",
      "<figure>\n",
      " <div class=\"container\">\n",
      "   <div class=\"iframe-wrap\">\n",
      "   <iframe src=\"https://trd-digital.github.io/trd-news-interactive-maps/condo_sales_week_ending_02242024\" width=\"100%\" height=\"600\" frameBorder=\"0\" scrolling=\"no\"></iframe>\n",
      "  </div>\n",
      "</div>\n",
      "  <figcaption align=\"right\"><a href=\"https://leafletjs.com/\">Leaflet</a> map created by Adam Farence | Data by © <a href=\"https://www.openstreetmap.org/#map=4/38.01/-95.84\"> OpenStreetMap</a>, under <a href=\"https://www.openstreetmap.org/copyright\">ODbl.</a></figcaption>\n",
      "</figure>\n",
      "\n",
      "Here’s a breakdown of the top 10 sales from Feb. 18th to Feb. 24th:\n",
      "\n",
      "\u001b[1mMost Expensive\u001b[0m\n",
      "The Setai, 101 20th St 2507 Miami | Price $4,150,000 | $3,245 psf | Listing agent: Diana Garchitorena with Douglas Elliman | Buyer's agent: Jeffrey Miller with One Sotheby's International Realty | Days on market: 88\n",
      "\u001b[1mLeast Expensive\u001b[0m\n",
      "Atlantis on Brickell, 2025 Brickell Ave 1401 | Price $1,200,000 | $558 psf | Listing agent: Saverina Martinez PA with Galleria International Realty | Buyer's agent: Maria Lopez Pulido with Compass Florida, LLC. | Days on market: 225\n",
      "\u001b[1mHighest Price Per Square Foot\u001b[0m\n",
      "The Setai, 101 20th St 2507 Miami | Price $4,150,000 | $3,245 psf | Listing agent: Diana Garchitorena with Douglas Elliman | Buyer's agent: Jeffrey Miller with One Sotheby's International Realty | Days on market: 88\n",
      "\u001b[1mLowest Price Per Square Foot\u001b[0m\n",
      "7000 Island Blvd Williams Island, 7000 Island Blvd 2502 | Price $1,285,000 | $464 psf | Listing agent: David Salazar with Affinity International Realty | Buyer's agent: Nicole Shein with Williams Island Realty, LLC | Days on market: 6\n",
      "\u001b[1mMost Days on Market\u001b[0m\n",
      "Atlantis on Brickell, 2025 Brickell Ave 1401 | Price $1,200,000 | $558 psf | Listing agent: Saverina Martinez PA with Galleria International Realty | Buyer's agent: Maria Lopez Pulido with Compass Florida, LLC. | Days on market: 225\n",
      "\u001b[1mFewest Days on Market\u001b[0m\n",
      "7000 Island Blvd Williams Island, 7000 Island Blvd 2502 | Price $1,285,000 | $464 psf | Listing agent: David Salazar with Affinity International Realty | Buyer's agent: Nicole Shein with Williams Island Realty, LLC | Days on market: 6\n",
      "\n",
      "\u001b[1mRemember to...:\u001b[0m\n",
      "\n",
      "1. Double check all names. Sometimes names differ between the hed and the body of the story.\n",
      "    For example, \"Surf Club Four Seasons\" in the HED and \"Four Seasons Residences at the Surfclub\"\n",
      "    in the body.\n",
      "    \n",
      "2. Add in context, if available. When there's a high-priced condo sale, check and see if there's\n",
      "    a story. If there is, add in some extra details and link back to it.\n",
      "    \n",
      "3. Add in a screenshot of the sales chart.\n",
      "\n"
     ]
    }
   ],
   "source": [
    "print(story_string)\n",
    "\n",
    "### Highest and lowest sale price ###\n",
    "print(f\"{ME}{BR}{df.loc[df['int_Sale_Price'].idxmax()]['building_name']}, {df.loc[df['int_Sale_Price'].idxmax()]['address']} | Price ${df.loc[df['int_Sale_Price'].idxmax()]['int_Sale_Price']:,.0f} | ${df.loc[df['int_Sale_Price'].idxmax()]['price_per_sqft']:,.0f} psf | Listing agent: {df.loc[df['int_Sale_Price'].idxmax()]['Agent']} with {df.loc[df['int_Sale_Price'].idxmax()]['Listing Broker']} | Buyer's agent: {df.loc[df['int_Sale_Price'].idxmax()]['Buyer Agent']} with {df.loc[df['int_Sale_Price'].idxmax()]['Buyer Broker']} | Days on market: {df.loc[df['int_Sale_Price'].idxmax()]['days_on_market']}\")\n",
    "print(f\"{LE}{BR}{df.loc[df['int_Sale_Price'].idxmin()]['building_name']}, {df.loc[df['int_Sale_Price'].idxmin()]['address']} | Price ${df.loc[df['int_Sale_Price'].idxmin()]['int_Sale_Price']:,.0f} | ${df.loc[df['int_Sale_Price'].idxmin()]['price_per_sqft']:,.0f} psf | Listing agent: {df.loc[df['int_Sale_Price'].idxmin()]['Agent']} with {df.loc[df['int_Sale_Price'].idxmin()]['Listing Broker']} | Buyer's agent: {df.loc[df['int_Sale_Price'].idxmin()]['Buyer Agent']} with {df.loc[df['int_Sale_Price'].idxmin()]['Buyer Broker']} | Days on market: {df.loc[df['int_Sale_Price'].idxmin()]['days_on_market']}\")\n",
    "### Highest and lowest psf ###\n",
    "print(f\"{MAX_PSF}{BR}{df.loc[df['price_per_sqft'].idxmax()]['building_name']}, {df.loc[df['price_per_sqft'].idxmax()]['address']} | Price ${df.loc[df['price_per_sqft'].idxmax()]['int_Sale_Price']:,.0f} | ${df.loc[df['price_per_sqft'].idxmax()]['price_per_sqft']:,.0f} psf | Listing agent: {df.loc[df['price_per_sqft'].idxmax()]['Agent']} with {df.loc[df['price_per_sqft'].idxmax()]['Listing Broker']} | Buyer's agent: {df.loc[df['price_per_sqft'].idxmax()]['Buyer Agent']} with {df.loc[df['price_per_sqft'].idxmax()]['Buyer Broker']} | Days on market: {df.loc[df['price_per_sqft'].idxmax()]['days_on_market']}\")\n",
    "print(f\"{MIN_PSF}{BR}{df.loc[df['price_per_sqft'].idxmin()]['building_name']}, {df.loc[df['price_per_sqft'].idxmin()]['address']} | Price ${df.loc[df['price_per_sqft'].idxmin()]['int_Sale_Price']:,.0f} | ${df.loc[df['price_per_sqft'].idxmin()]['price_per_sqft']:,.0f} psf | Listing agent: {df.loc[df['price_per_sqft'].idxmin()]['Agent']} with {df.loc[df['price_per_sqft'].idxmin()]['Listing Broker']} | Buyer's agent: {df.loc[df['price_per_sqft'].idxmin()]['Buyer Agent']} with {df.loc[df['price_per_sqft'].idxmin()]['Buyer Broker']} | Days on market: {df.loc[df['price_per_sqft'].idxmin()]['days_on_market']}\")\n",
    "### Highest and lowest days on market ###\n",
    "print(f\"{DAYS_MAX}{BR}{df.loc[df['days_on_market'].idxmax()]['building_name']}, {df.loc[df['days_on_market'].idxmax()]['address']} | Price ${df.loc[df['days_on_market'].idxmax()]['int_Sale_Price']:,.0f} | ${df.loc[df['days_on_market'].idxmax()]['price_per_sqft']:,.0f} psf | Listing agent: {df.loc[df['days_on_market'].idxmax()]['Agent']} with {df.loc[df['days_on_market'].idxmax()]['Listing Broker']} | Buyer's agent: {df.loc[df['days_on_market'].idxmax()]['Buyer Agent']} with {df.loc[df['days_on_market'].idxmax()]['Buyer Broker']} | Days on market: {df.loc[df['days_on_market'].idxmax()]['days_on_market']}\")\n",
    "print(f\"{DAYS_MIN}{BR}{df.loc[df['days_on_market'].idxmin()]['building_name']}, {df.loc[df['days_on_market'].idxmin()]['address']} | Price ${df.loc[df['days_on_market'].idxmin()]['int_Sale_Price']:,.0f} | ${df.loc[df['days_on_market'].idxmin()]['price_per_sqft']:,.0f} psf | Listing agent: {df.loc[df['days_on_market'].idxmin()]['Agent']} with {df.loc[df['days_on_market'].idxmin()]['Listing Broker']} | Buyer's agent: {df.loc[df['days_on_market'].idxmin()]['Buyer Agent']} with {df.loc[df['days_on_market'].idxmin()]['Buyer Broker']} | Days on market: {df.loc[df['days_on_market'].idxmin()]['days_on_market']}\")\n",
    "\n",
    "print(story_checklist)"
   ]
  }
 ],
 "metadata": {
  "kernelspec": {
   "display_name": "Python 3 (ipykernel)",
   "language": "python",
   "name": "python3"
  },
  "language_info": {
   "codemirror_mode": {
    "name": "ipython",
    "version": 3
   },
   "file_extension": ".py",
   "mimetype": "text/x-python",
   "name": "python",
   "nbconvert_exporter": "python",
   "pygments_lexer": "ipython3",
   "version": "3.9.12"
  },
  "toc": {
   "base_numbering": 1,
   "nav_menu": {},
   "number_sections": true,
   "sideBar": true,
   "skip_h1_title": false,
   "title_cell": "Table of Contents",
   "title_sidebar": "Contents",
   "toc_cell": false,
   "toc_position": {},
   "toc_section_display": true,
   "toc_window_display": false
  }
 },
 "nbformat": 4,
 "nbformat_minor": 4
}
