{
 "cells": [
  {
   "cell_type": "markdown",
   "metadata": {},
   "source": [
    "## Imports"
   ]
  },
  {
   "cell_type": "code",
   "execution_count": 1,
   "metadata": {},
   "outputs": [],
   "source": [
    "import googlemaps\n",
    "import pandas as pd\n",
    "import numpy as np\n",
    "import re\n",
    "import os\n",
    "import geopandas as gpd\n",
    "import folium\n",
    "import tabula"
   ]
  },
  {
   "cell_type": "markdown",
   "metadata": {},
   "source": [
    "## Read-in"
   ]
  },
  {
   "cell_type": "code",
   "execution_count": 2,
   "metadata": {},
   "outputs": [],
   "source": [
    "# Gotta figure out how to get rid of the java error.\n",
    "# SO: https://stackoverflow.com/questions/54817211/java-command-is-not-found-from-this-python-process-please-ensure-java-is-inst\n",
    "\n",
    "dsf = tabula.read_pdf('condo.pdf', pages='all')"
   ]
  },
  {
   "cell_type": "markdown",
   "metadata": {},
   "source": [
    "## Clean Data"
   ]
  },
  {
   "cell_type": "code",
   "execution_count": 3,
   "metadata": {},
   "outputs": [],
   "source": [
    "df = dsf[0]\n",
    "df.columns = df.iloc[0]\n",
    "df = df[1:]\n",
    "df = df.drop(columns=df.columns[0])\n",
    "df = df.replace(np.nan, 'Not Available', regex=True)\n",
    "df = df.rename(columns={'Building / Address / City': 'building_address_city','Days on\\rMarket':'days_on_market',\\\n",
    "                        'Price /\\rSq. Ft.':'price_per_sqft'})\n",
    "df['building_address_city'] = df['building_address_city'].str.replace('^0', '', regex=True)\n",
    "df['geo_address'] = df['building_address_city']\n",
    "df['geo_address'] = df['geo_address'].map(lambda x: re.sub(r'\\r', ' ', x))\n",
    "df = df.replace('\\n',' ',regex=True)\n",
    "pattern = r'^(?P<building_name>[\\d\\s]*[A-Za-z\\s]+)\\s(?P<address>.+)\\s(?P<city>[A-Za-z\\s]+)$'\n",
    "df2 = df['geo_address']\n",
    "df2 = df2.to_frame()\n",
    "df2[['building_name', 'address', 'city']] = df2['geo_address'].str.extract(pattern, expand=True)"
   ]
  },
  {
   "cell_type": "markdown",
   "metadata": {},
   "source": [
    "Review this later (it's about how to properly merge DFs): https://pandas.pydata.org/pandas-docs/stable/user_guide/merging.html"
   ]
  },
  {
   "cell_type": "markdown",
   "metadata": {},
   "source": [
    "## Geocode"
   ]
  },
  {
   "cell_type": "code",
   "execution_count": 4,
   "metadata": {},
   "outputs": [],
   "source": [
    "result = pd.merge(df,df2,left_index=True, right_index=True)\n",
    "df = result\n",
    "df = df.drop(columns='city')"
   ]
  },
  {
   "cell_type": "code",
   "execution_count": 5,
   "metadata": {},
   "outputs": [],
   "source": [
    "%store -r google_maps_API_Key\n",
    "gmaps_key = googlemaps.Client(key=google_maps_API_Key)"
   ]
  },
  {
   "cell_type": "code",
   "execution_count": 6,
   "metadata": {},
   "outputs": [],
   "source": [
    "def geocode(add):\n",
    "    g = gmaps_key.geocode(add)\n",
    "    lat = g[0][\"geometry\"][\"location\"][\"lat\"]\n",
    "    lng = g[0][\"geometry\"][\"location\"][\"lng\"]\n",
    "    return (lat, lng)\n",
    "\n",
    "df['geocoded'] = df['geo_address_x'].apply(geocode)"
   ]
  },
  {
   "cell_type": "code",
   "execution_count": 7,
   "metadata": {},
   "outputs": [],
   "source": [
    "df['geocoded'] = df['geocoded'].astype(str)\n",
    "df[['lat', 'lon']] = df['geocoded'].str.strip('()').str.split(', ', expand=True)\n",
    "df['lat'] = df['lat'].astype(float)\n",
    "df['lon'] = df['lon'].astype(float)"
   ]
  },
  {
   "cell_type": "markdown",
   "metadata": {},
   "source": [
    "Folium documentation link: https://python-visualization.github.io/folium/index.html\n",
    "\n",
    "Folium is the library that lets us use leaflet with Python, since it's meant to be used with JavaScript.\n",
    "\n",
    "For adding titles: https://stackoverflow.com/questions/61928013/adding-a-title-or-text-to-a-folium-map"
   ]
  },
  {
   "cell_type": "markdown",
   "metadata": {},
   "source": [
    "## Correction section"
   ]
  },
  {
   "cell_type": "code",
   "execution_count": 8,
   "metadata": {},
   "outputs": [],
   "source": [
    "# df.at[index#,'col_name']"
   ]
  },
  {
   "cell_type": "markdown",
   "metadata": {},
   "source": [
    "## Format Data"
   ]
  },
  {
   "cell_type": "code",
   "execution_count": 8,
   "metadata": {},
   "outputs": [],
   "source": [
    "### Insert NaNs if needed ###\n",
    "df = df.replace('N/A', np.nan)"
   ]
  },
  {
   "cell_type": "code",
   "execution_count": 9,
   "metadata": {},
   "outputs": [],
   "source": [
    "df['int_Sale_Price'] = df['Sale Price'].str.replace('$','',regex=False)"
   ]
  },
  {
   "cell_type": "code",
   "execution_count": 10,
   "metadata": {},
   "outputs": [],
   "source": [
    "df['int_Sale_Price'] = df['int_Sale_Price'].str.replace(',','',regex=False)"
   ]
  },
  {
   "cell_type": "code",
   "execution_count": 11,
   "metadata": {},
   "outputs": [],
   "source": [
    "df['int_Sale_Price'] = pd.to_numeric(df['int_Sale_Price'])"
   ]
  },
  {
   "cell_type": "code",
   "execution_count": 12,
   "metadata": {},
   "outputs": [],
   "source": [
    "df['price_per_sqft'] = df['price_per_sqft'].str.replace('$','',regex=False)\n",
    "df['price_per_sqft'] = df['price_per_sqft'].str.replace(',','',regex=False)\n",
    "df['price_per_sqft'] = pd.to_numeric(df['price_per_sqft'])\n",
    "\n",
    "df['days_on_market'] = pd.to_numeric(df['days_on_market'])"
   ]
  },
  {
   "cell_type": "markdown",
   "metadata": {},
   "source": [
    "## Color-code top sale"
   ]
  },
  {
   "cell_type": "code",
   "execution_count": 13,
   "metadata": {},
   "outputs": [],
   "source": [
    "### Insert RANK values ###\n",
    "df['RANK'] = range(1, len(df) + 1)\n",
    "# use numpy to assign values to the 'COLOR' column\n",
    "df['COLOR'] = np.where(df['RANK'] <= 1, 'orange', 'blue')"
   ]
  },
  {
   "cell_type": "markdown",
   "metadata": {},
   "source": [
    "## HTML Popup Formatter"
   ]
  },
  {
   "cell_type": "code",
   "execution_count": 14,
   "metadata": {},
   "outputs": [
    {
     "data": {
      "text/plain": [
       "Index(['building_address_city', 'Close Date', 'days_on_market', 'Sale Price',\n",
       "       'Sq. Ft.', 'price_per_sqft', 'Agent', 'Listing Broker', 'Buyer Agent',\n",
       "       'Buyer Broker', 'geo_address_x', 'geo_address_y', 'building_name',\n",
       "       'address', 'geocoded', 'lat', 'lon', 'int_Sale_Price', 'RANK', 'COLOR'],\n",
       "      dtype='object')"
      ]
     },
     "execution_count": 14,
     "metadata": {},
     "output_type": "execute_result"
    }
   ],
   "source": [
    "df.columns"
   ]
  },
  {
   "cell_type": "code",
   "execution_count": 15,
   "metadata": {},
   "outputs": [],
   "source": [
    "def popup_html(row):\n",
    "    building_name = row['building_name']\n",
    "    price = row['Sale Price']\n",
    "    days_on_market = row['days_on_market']\n",
    "    listing_agent = row['Agent']\n",
    "    buyers_agent = row['Buyer Agent']\n",
    "    psf = row['price_per_sqft']\n",
    "    address = row['address']\n",
    "    \n",
    "    html = '''<!DOCTYPE html>\n",
    "    <html>\n",
    "    <strong>Building Name: </strong>{}'''.format(building_name) + '''<br>\n",
    "    <strong>Sale Price: </strong>{}'''.format(price) + '''<br>\n",
    "    <strong>Days on Market: </strong>{}'''.format(days_on_market) + '''<br>\n",
    "    <strong>Listing Agent: </strong>{}'''.format(listing_agent) + '''<br>\n",
    "    <strong>Buyer's Agent: </strong>{}'''.format(buyers_agent) + '''<br>\n",
    "    <strong>Price sq ft: </strong>${}'''.format(psf) + '''<br>\n",
    "    <strong>Address: </strong>{}'''.format(address) + '''<br>\n",
    "    </html>\n",
    "    '''\n",
    "    return html"
   ]
  },
  {
   "cell_type": "code",
   "execution_count": 17,
   "metadata": {},
   "outputs": [
    {
     "data": {
      "text/html": [
       "<div style=\"width:100%;\"><div style=\"position:relative;width:100%;height:0;padding-bottom:60%;\"><span style=\"color:#565656\">Make this Notebook Trusted to load map: File -> Trust Notebook</span><iframe srcdoc=\"&lt;!DOCTYPE html&gt;\n",
       "&lt;head&gt;    \n",
       "    &lt;meta http-equiv=&quot;content-type&quot; content=&quot;text/html; charset=UTF-8&quot; /&gt;\n",
       "    \n",
       "        &lt;script&gt;\n",
       "            L_NO_TOUCH = false;\n",
       "            L_DISABLE_3D = false;\n",
       "        &lt;/script&gt;\n",
       "    \n",
       "    &lt;style&gt;html, body {width: 100%;height: 100%;margin: 0;padding: 0;}&lt;/style&gt;\n",
       "    &lt;style&gt;#map {position:absolute;top:0;bottom:0;right:0;left:0;}&lt;/style&gt;\n",
       "    &lt;script src=&quot;https://cdn.jsdelivr.net/npm/leaflet@1.6.0/dist/leaflet.js&quot;&gt;&lt;/script&gt;\n",
       "    &lt;script src=&quot;https://code.jquery.com/jquery-1.12.4.min.js&quot;&gt;&lt;/script&gt;\n",
       "    &lt;script src=&quot;https://maxcdn.bootstrapcdn.com/bootstrap/3.2.0/js/bootstrap.min.js&quot;&gt;&lt;/script&gt;\n",
       "    &lt;script src=&quot;https://cdnjs.cloudflare.com/ajax/libs/Leaflet.awesome-markers/2.0.2/leaflet.awesome-markers.js&quot;&gt;&lt;/script&gt;\n",
       "    &lt;link rel=&quot;stylesheet&quot; href=&quot;https://cdn.jsdelivr.net/npm/leaflet@1.6.0/dist/leaflet.css&quot;/&gt;\n",
       "    &lt;link rel=&quot;stylesheet&quot; href=&quot;https://maxcdn.bootstrapcdn.com/bootstrap/3.2.0/css/bootstrap.min.css&quot;/&gt;\n",
       "    &lt;link rel=&quot;stylesheet&quot; href=&quot;https://maxcdn.bootstrapcdn.com/bootstrap/3.2.0/css/bootstrap-theme.min.css&quot;/&gt;\n",
       "    &lt;link rel=&quot;stylesheet&quot; href=&quot;https://maxcdn.bootstrapcdn.com/font-awesome/4.6.3/css/font-awesome.min.css&quot;/&gt;\n",
       "    &lt;link rel=&quot;stylesheet&quot; href=&quot;https://cdnjs.cloudflare.com/ajax/libs/Leaflet.awesome-markers/2.0.2/leaflet.awesome-markers.css&quot;/&gt;\n",
       "    &lt;link rel=&quot;stylesheet&quot; href=&quot;https://cdn.jsdelivr.net/gh/python-visualization/folium/folium/templates/leaflet.awesome.rotate.min.css&quot;/&gt;\n",
       "    \n",
       "            &lt;meta name=&quot;viewport&quot; content=&quot;width=device-width,\n",
       "                initial-scale=1.0, maximum-scale=1.0, user-scalable=no&quot; /&gt;\n",
       "            &lt;style&gt;\n",
       "                #map_250d275a5074a2e923d7fea037bf63c7 {\n",
       "                    position: relative;\n",
       "                    width: 100.0%;\n",
       "                    height: 100.0%;\n",
       "                    left: 0.0%;\n",
       "                    top: 0.0%;\n",
       "                }\n",
       "            &lt;/style&gt;\n",
       "        \n",
       "&lt;/head&gt;\n",
       "&lt;body&gt;    \n",
       "    \n",
       "              &lt;h3 align=&quot;center&quot; style=&quot;font-size:16px&quot;&gt;&lt;b&gt;Recent Miami-Dade Condo Sales &lt;/b&gt;&lt;/h3&gt;\n",
       "             \n",
       "    \n",
       "                &lt;p align=&quot;center&quot; style=&quot;vertical-align: bottom; font-size:13px&quot;&gt;&lt;i&gt;August 13th - August 21st&lt;/i&gt;&lt;/p&gt;\n",
       "                \n",
       "    \n",
       "            &lt;div class=&quot;folium-map&quot; id=&quot;map_250d275a5074a2e923d7fea037bf63c7&quot; &gt;&lt;/div&gt;\n",
       "        \n",
       "&lt;/body&gt;\n",
       "&lt;script&gt;    \n",
       "    \n",
       "            var map_250d275a5074a2e923d7fea037bf63c7 = L.map(\n",
       "                &quot;map_250d275a5074a2e923d7fea037bf63c7&quot;,\n",
       "                {\n",
       "                    center: [25.848319099999998, -80.15408905000001],\n",
       "                    crs: L.CRS.EPSG3857,\n",
       "                    zoom: 9.5,\n",
       "                    zoomControl: true,\n",
       "                    preferCanvas: false,\n",
       "                }\n",
       "            );\n",
       "\n",
       "            \n",
       "\n",
       "        \n",
       "    \n",
       "            var feature_group_8ebd4a52693443ae0b83b24ec8641b08 = L.featureGroup(\n",
       "                {}\n",
       "            ).addTo(map_250d275a5074a2e923d7fea037bf63c7);\n",
       "        \n",
       "    \n",
       "            var marker_0d20cc3e1bc78d24c50eea0f43342762 = L.marker(\n",
       "                [25.729886, -80.2368583],\n",
       "                {&quot;fill&quot;: true, &quot;radius&quot;: 5}\n",
       "            ).addTo(feature_group_8ebd4a52693443ae0b83b24ec8641b08);\n",
       "        \n",
       "    \n",
       "            var icon_1d1fe8556f3242cde450c5499f28034c = L.AwesomeMarkers.icon(\n",
       "                {&quot;extraClasses&quot;: &quot;fa-rotate-0&quot;, &quot;icon&quot;: &quot;info-sign&quot;, &quot;iconColor&quot;: &quot;white&quot;, &quot;markerColor&quot;: &quot;orange&quot;, &quot;prefix&quot;: &quot;glyphicon&quot;}\n",
       "            );\n",
       "            marker_0d20cc3e1bc78d24c50eea0f43342762.setIcon(icon_1d1fe8556f3242cde450c5499f28034c);\n",
       "        \n",
       "    \n",
       "        var popup_684c1ec579cbfa967893bec35a91dc27 = L.popup({&quot;maxWidth&quot;: 400});\n",
       "\n",
       "        \n",
       "            \n",
       "                var html_58f16b77ee4a81ecd6d1a328891c918b = $(`&lt;div id=&quot;html_58f16b77ee4a81ecd6d1a328891c918b&quot; style=&quot;width: 100.0%; height: 100.0%;&quot;&gt;&lt;!DOCTYPE html&gt;     &lt;html&gt;     &lt;strong&gt;Building Name: &lt;/strong&gt;Grove at Grand Bay&lt;br&gt;     &lt;strong&gt;Sale Price: &lt;/strong&gt;$19,250,000.00&lt;br&gt;     &lt;strong&gt;Days on Market: &lt;/strong&gt;333&lt;br&gt;     &lt;strong&gt;Listing Agent: &lt;/strong&gt;Angel Nicolas&lt;br&gt;     &lt;strong&gt;Buyer&#x27;s Agent: &lt;/strong&gt;Angel Nicolas&lt;br&gt;     &lt;strong&gt;Price sq ft: &lt;/strong&gt;$2023.55&lt;br&gt;     &lt;strong&gt;Address: &lt;/strong&gt;2675 S Bayshore Dr LPHS&lt;br&gt;     &lt;/html&gt;     &lt;/div&gt;`)[0];\n",
       "                popup_684c1ec579cbfa967893bec35a91dc27.setContent(html_58f16b77ee4a81ecd6d1a328891c918b);\n",
       "            \n",
       "        \n",
       "\n",
       "        marker_0d20cc3e1bc78d24c50eea0f43342762.bindPopup(popup_684c1ec579cbfa967893bec35a91dc27)\n",
       "        ;\n",
       "\n",
       "        \n",
       "    \n",
       "    \n",
       "            var feature_group_e9bd216609b23e752145f085c7681002 = L.featureGroup(\n",
       "                {}\n",
       "            ).addTo(map_250d275a5074a2e923d7fea037bf63c7);\n",
       "        \n",
       "    \n",
       "            var marker_318dae3f3f36c8e7815f0c95b4a76e91 = L.marker(\n",
       "                [25.7958833, -80.1288355],\n",
       "                {&quot;fill&quot;: true, &quot;radius&quot;: 5}\n",
       "            ).addTo(feature_group_e9bd216609b23e752145f085c7681002);\n",
       "        \n",
       "    \n",
       "            var icon_1bcbe490cea9a306128d810c4b1720b2 = L.AwesomeMarkers.icon(\n",
       "                {&quot;extraClasses&quot;: &quot;fa-rotate-0&quot;, &quot;icon&quot;: &quot;info-sign&quot;, &quot;iconColor&quot;: &quot;white&quot;, &quot;markerColor&quot;: &quot;blue&quot;, &quot;prefix&quot;: &quot;glyphicon&quot;}\n",
       "            );\n",
       "            marker_318dae3f3f36c8e7815f0c95b4a76e91.setIcon(icon_1bcbe490cea9a306128d810c4b1720b2);\n",
       "        \n",
       "    \n",
       "        var popup_c41a6b68280e9e67cbd18285f82d8b1c = L.popup({&quot;maxWidth&quot;: 400});\n",
       "\n",
       "        \n",
       "            \n",
       "                var html_d323f015d27bc21df823c9d07f4981d5 = $(`&lt;div id=&quot;html_d323f015d27bc21df823c9d07f4981d5&quot; style=&quot;width: 100.0%; height: 100.0%;&quot;&gt;&lt;!DOCTYPE html&gt;     &lt;html&gt;     &lt;strong&gt;Building Name: &lt;/strong&gt;The Setai&lt;br&gt;     &lt;strong&gt;Sale Price: &lt;/strong&gt;$6,500,000.00&lt;br&gt;     &lt;strong&gt;Days on Market: &lt;/strong&gt;75&lt;br&gt;     &lt;strong&gt;Listing Agent: &lt;/strong&gt;Ronit Perez&lt;br&gt;     &lt;strong&gt;Buyer&#x27;s Agent: &lt;/strong&gt;Linda Petushi&lt;br&gt;     &lt;strong&gt;Price sq ft: &lt;/strong&gt;$2695.98&lt;br&gt;     &lt;strong&gt;Address: &lt;/strong&gt;101 20th St 2501/02 Miami&lt;br&gt;     &lt;/html&gt;     &lt;/div&gt;`)[0];\n",
       "                popup_c41a6b68280e9e67cbd18285f82d8b1c.setContent(html_d323f015d27bc21df823c9d07f4981d5);\n",
       "            \n",
       "        \n",
       "\n",
       "        marker_318dae3f3f36c8e7815f0c95b4a76e91.bindPopup(popup_c41a6b68280e9e67cbd18285f82d8b1c)\n",
       "        ;\n",
       "\n",
       "        \n",
       "    \n",
       "    \n",
       "            var marker_d938d9d7a9907fd0eabb198ca6f1f1dc = L.marker(\n",
       "                [25.9462832, -80.1308059],\n",
       "                {&quot;fill&quot;: true, &quot;radius&quot;: 5}\n",
       "            ).addTo(feature_group_e9bd216609b23e752145f085c7681002);\n",
       "        \n",
       "    \n",
       "            var icon_dd0f65c1355ccda75f7c6bedeeb6a1cf = L.AwesomeMarkers.icon(\n",
       "                {&quot;extraClasses&quot;: &quot;fa-rotate-0&quot;, &quot;icon&quot;: &quot;info-sign&quot;, &quot;iconColor&quot;: &quot;white&quot;, &quot;markerColor&quot;: &quot;blue&quot;, &quot;prefix&quot;: &quot;glyphicon&quot;}\n",
       "            );\n",
       "            marker_d938d9d7a9907fd0eabb198ca6f1f1dc.setIcon(icon_dd0f65c1355ccda75f7c6bedeeb6a1cf);\n",
       "        \n",
       "    \n",
       "        var popup_65013a55e8ac6a8158360fdcd79ea891 = L.popup({&quot;maxWidth&quot;: 400});\n",
       "\n",
       "        \n",
       "            \n",
       "                var html_2fd5e64132d280227987b7f504cdfde4 = $(`&lt;div id=&quot;html_2fd5e64132d280227987b7f504cdfde4&quot; style=&quot;width: 100.0%; height: 100.0%;&quot;&gt;&lt;!DOCTYPE html&gt;     &lt;html&gt;     &lt;strong&gt;Building Name: &lt;/strong&gt;Prive  South&lt;br&gt;     &lt;strong&gt;Sale Price: &lt;/strong&gt;$6,500,000.00&lt;br&gt;     &lt;strong&gt;Days on Market: &lt;/strong&gt;324&lt;br&gt;     &lt;strong&gt;Listing Agent: &lt;/strong&gt;Carlos Hernandez&lt;br&gt;     &lt;strong&gt;Buyer&#x27;s Agent: &lt;/strong&gt;Bella Vataru&lt;br&gt;     &lt;strong&gt;Price sq ft: &lt;/strong&gt;$1477.61&lt;br&gt;     &lt;strong&gt;Address: &lt;/strong&gt;5000 Island Estates Dr 1503&lt;br&gt;     &lt;/html&gt;     &lt;/div&gt;`)[0];\n",
       "                popup_65013a55e8ac6a8158360fdcd79ea891.setContent(html_2fd5e64132d280227987b7f504cdfde4);\n",
       "            \n",
       "        \n",
       "\n",
       "        marker_d938d9d7a9907fd0eabb198ca6f1f1dc.bindPopup(popup_65013a55e8ac6a8158360fdcd79ea891)\n",
       "        ;\n",
       "\n",
       "        \n",
       "    \n",
       "    \n",
       "            var marker_55d38fc8f4fe76b32534c993b7daa2bc = L.marker(\n",
       "                [25.7672315, -80.1327611],\n",
       "                {&quot;fill&quot;: true, &quot;radius&quot;: 5}\n",
       "            ).addTo(feature_group_e9bd216609b23e752145f085c7681002);\n",
       "        \n",
       "    \n",
       "            var icon_011526b54f470487b24001bf9bc8b9f4 = L.AwesomeMarkers.icon(\n",
       "                {&quot;extraClasses&quot;: &quot;fa-rotate-0&quot;, &quot;icon&quot;: &quot;info-sign&quot;, &quot;iconColor&quot;: &quot;white&quot;, &quot;markerColor&quot;: &quot;blue&quot;, &quot;prefix&quot;: &quot;glyphicon&quot;}\n",
       "            );\n",
       "            marker_55d38fc8f4fe76b32534c993b7daa2bc.setIcon(icon_011526b54f470487b24001bf9bc8b9f4);\n",
       "        \n",
       "    \n",
       "        var popup_6a358a6bf1c638e1d79000448c45ed3e = L.popup({&quot;maxWidth&quot;: 400});\n",
       "\n",
       "        \n",
       "            \n",
       "                var html_18e4b7e8459b76f7916a3ea08b8ca189 = $(`&lt;div id=&quot;html_18e4b7e8459b76f7916a3ea08b8ca189&quot; style=&quot;width: 100.0%; height: 100.0%;&quot;&gt;&lt;!DOCTYPE html&gt;     &lt;html&gt;     &lt;strong&gt;Building Name: &lt;/strong&gt;Continuum on South Beach&lt;br&gt;     &lt;strong&gt;Sale Price: &lt;/strong&gt;$6,500,000.00&lt;br&gt;     &lt;strong&gt;Days on Market: &lt;/strong&gt;334&lt;br&gt;     &lt;strong&gt;Listing Agent: &lt;/strong&gt;Dina Goldentayer&lt;br&gt;     &lt;strong&gt;Buyer&#x27;s Agent: &lt;/strong&gt;Gabriela Gonzalez Carrillo&lt;br&gt;     &lt;strong&gt;Price sq ft: &lt;/strong&gt;$2968.04&lt;br&gt;     &lt;strong&gt;Address: &lt;/strong&gt;50 S Pointe Dr 802 Miami&lt;br&gt;     &lt;/html&gt;     &lt;/div&gt;`)[0];\n",
       "                popup_6a358a6bf1c638e1d79000448c45ed3e.setContent(html_18e4b7e8459b76f7916a3ea08b8ca189);\n",
       "            \n",
       "        \n",
       "\n",
       "        marker_55d38fc8f4fe76b32534c993b7daa2bc.bindPopup(popup_6a358a6bf1c638e1d79000448c45ed3e)\n",
       "        ;\n",
       "\n",
       "        \n",
       "    \n",
       "    \n",
       "            var marker_e45e70998a358c14f072da5f13bd0498 = L.marker(\n",
       "                [25.729886, -80.2368583],\n",
       "                {&quot;fill&quot;: true, &quot;radius&quot;: 5}\n",
       "            ).addTo(feature_group_e9bd216609b23e752145f085c7681002);\n",
       "        \n",
       "    \n",
       "            var icon_6b03051e9c164b269d948c5a246a0fb7 = L.AwesomeMarkers.icon(\n",
       "                {&quot;extraClasses&quot;: &quot;fa-rotate-0&quot;, &quot;icon&quot;: &quot;info-sign&quot;, &quot;iconColor&quot;: &quot;white&quot;, &quot;markerColor&quot;: &quot;blue&quot;, &quot;prefix&quot;: &quot;glyphicon&quot;}\n",
       "            );\n",
       "            marker_e45e70998a358c14f072da5f13bd0498.setIcon(icon_6b03051e9c164b269d948c5a246a0fb7);\n",
       "        \n",
       "    \n",
       "        var popup_b28aeba4dbae19d4878acd7acf3122dd = L.popup({&quot;maxWidth&quot;: 400});\n",
       "\n",
       "        \n",
       "            \n",
       "                var html_21c529efb262f33cd72fc7bba8be1170 = $(`&lt;div id=&quot;html_21c529efb262f33cd72fc7bba8be1170&quot; style=&quot;width: 100.0%; height: 100.0%;&quot;&gt;&lt;!DOCTYPE html&gt;     &lt;html&gt;     &lt;strong&gt;Building Name: &lt;/strong&gt;Grove at Grand Bay&lt;br&gt;     &lt;strong&gt;Sale Price: &lt;/strong&gt;$6,250,000.00&lt;br&gt;     &lt;strong&gt;Days on Market: &lt;/strong&gt;103&lt;br&gt;     &lt;strong&gt;Listing Agent: &lt;/strong&gt;Betty Mitchell&lt;br&gt;     &lt;strong&gt;Buyer&#x27;s Agent: &lt;/strong&gt;Jacqueline Gulla&lt;br&gt;     &lt;strong&gt;Price sq ft: &lt;/strong&gt;$2618.35&lt;br&gt;     &lt;strong&gt;Address: &lt;/strong&gt;2675 S Bayshore Dr 1603S&lt;br&gt;     &lt;/html&gt;     &lt;/div&gt;`)[0];\n",
       "                popup_b28aeba4dbae19d4878acd7acf3122dd.setContent(html_21c529efb262f33cd72fc7bba8be1170);\n",
       "            \n",
       "        \n",
       "\n",
       "        marker_e45e70998a358c14f072da5f13bd0498.bindPopup(popup_b28aeba4dbae19d4878acd7acf3122dd)\n",
       "        ;\n",
       "\n",
       "        \n",
       "    \n",
       "    \n",
       "            var marker_951e65a946eb113045ec43d217c5d659 = L.marker(\n",
       "                [25.9482202, -80.1197971],\n",
       "                {&quot;fill&quot;: true, &quot;radius&quot;: 5}\n",
       "            ).addTo(feature_group_e9bd216609b23e752145f085c7681002);\n",
       "        \n",
       "    \n",
       "            var icon_9ca71eea15c0a2bd14f8154c9b047a90 = L.AwesomeMarkers.icon(\n",
       "                {&quot;extraClasses&quot;: &quot;fa-rotate-0&quot;, &quot;icon&quot;: &quot;info-sign&quot;, &quot;iconColor&quot;: &quot;white&quot;, &quot;markerColor&quot;: &quot;blue&quot;, &quot;prefix&quot;: &quot;glyphicon&quot;}\n",
       "            );\n",
       "            marker_951e65a946eb113045ec43d217c5d659.setIcon(icon_9ca71eea15c0a2bd14f8154c9b047a90);\n",
       "        \n",
       "    \n",
       "        var popup_28172712131a8d4a357bf82cadc482c3 = L.popup({&quot;maxWidth&quot;: 400});\n",
       "\n",
       "        \n",
       "            \n",
       "                var html_47af1b0c3adc478eb0e181d955117fde = $(`&lt;div id=&quot;html_47af1b0c3adc478eb0e181d955117fde&quot; style=&quot;width: 100.0%; height: 100.0%;&quot;&gt;&lt;!DOCTYPE html&gt;     &lt;html&gt;     &lt;strong&gt;Building Name: &lt;/strong&gt;Porsche Design Tower&lt;br&gt;     &lt;strong&gt;Sale Price: &lt;/strong&gt;$5,800,000.00&lt;br&gt;     &lt;strong&gt;Days on Market: &lt;/strong&gt;252&lt;br&gt;     &lt;strong&gt;Listing Agent: &lt;/strong&gt;Mauricio Di Chiara&lt;br&gt;     &lt;strong&gt;Buyer&#x27;s Agent: &lt;/strong&gt;Ryan Farbstein&lt;br&gt;     &lt;strong&gt;Price sq ft: &lt;/strong&gt;$1396.24&lt;br&gt;     &lt;strong&gt;Address: &lt;/strong&gt;18555 Collins Ave 5501 Sunny Isles&lt;br&gt;     &lt;/html&gt;     &lt;/div&gt;`)[0];\n",
       "                popup_28172712131a8d4a357bf82cadc482c3.setContent(html_47af1b0c3adc478eb0e181d955117fde);\n",
       "            \n",
       "        \n",
       "\n",
       "        marker_951e65a946eb113045ec43d217c5d659.bindPopup(popup_28172712131a8d4a357bf82cadc482c3)\n",
       "        ;\n",
       "\n",
       "        \n",
       "    \n",
       "    \n",
       "            var marker_e0e63fa3a585114245bd72b566241975 = L.marker(\n",
       "                [25.9335244, -80.12091989999999],\n",
       "                {&quot;fill&quot;: true, &quot;radius&quot;: 5}\n",
       "            ).addTo(feature_group_e9bd216609b23e752145f085c7681002);\n",
       "        \n",
       "    \n",
       "            var icon_6c35ec7369d7f32c7315c1658ae07ffc = L.AwesomeMarkers.icon(\n",
       "                {&quot;extraClasses&quot;: &quot;fa-rotate-0&quot;, &quot;icon&quot;: &quot;info-sign&quot;, &quot;iconColor&quot;: &quot;white&quot;, &quot;markerColor&quot;: &quot;blue&quot;, &quot;prefix&quot;: &quot;glyphicon&quot;}\n",
       "            );\n",
       "            marker_e0e63fa3a585114245bd72b566241975.setIcon(icon_6c35ec7369d7f32c7315c1658ae07ffc);\n",
       "        \n",
       "    \n",
       "        var popup_59e54c4679e13acc6059b0b7ed286dcb = L.popup({&quot;maxWidth&quot;: 400});\n",
       "\n",
       "        \n",
       "            \n",
       "                var html_2ec3dfc9a42ed9885f88eb8610d4dd64 = $(`&lt;div id=&quot;html_2ec3dfc9a42ed9885f88eb8610d4dd64&quot; style=&quot;width: 100.0%; height: 100.0%;&quot;&gt;&lt;!DOCTYPE html&gt;     &lt;html&gt;     &lt;strong&gt;Building Name: &lt;/strong&gt;Jade Beach&lt;br&gt;     &lt;strong&gt;Sale Price: &lt;/strong&gt;$4,550,000.00&lt;br&gt;     &lt;strong&gt;Days on Market: &lt;/strong&gt;42&lt;br&gt;     &lt;strong&gt;Listing Agent: &lt;/strong&gt;Giulietta Ulloa&lt;br&gt;     &lt;strong&gt;Buyer&#x27;s Agent: &lt;/strong&gt;Claudia Yaffe&lt;br&gt;     &lt;strong&gt;Price sq ft: &lt;/strong&gt;$1098.77&lt;br&gt;     &lt;strong&gt;Address: &lt;/strong&gt;17001 Collins Ave 4504 Sunny Isles&lt;br&gt;     &lt;/html&gt;     &lt;/div&gt;`)[0];\n",
       "                popup_59e54c4679e13acc6059b0b7ed286dcb.setContent(html_2ec3dfc9a42ed9885f88eb8610d4dd64);\n",
       "            \n",
       "        \n",
       "\n",
       "        marker_e0e63fa3a585114245bd72b566241975.bindPopup(popup_59e54c4679e13acc6059b0b7ed286dcb)\n",
       "        ;\n",
       "\n",
       "        \n",
       "    \n",
       "    \n",
       "            var marker_5fbc093791315ca1a73f9c939e1c44b8 = L.marker(\n",
       "                [25.7845605, -80.190427],\n",
       "                {&quot;fill&quot;: true, &quot;radius&quot;: 5}\n",
       "            ).addTo(feature_group_e9bd216609b23e752145f085c7681002);\n",
       "        \n",
       "    \n",
       "            var icon_9d53eb40867c90fe694ef160bb465334 = L.AwesomeMarkers.icon(\n",
       "                {&quot;extraClasses&quot;: &quot;fa-rotate-0&quot;, &quot;icon&quot;: &quot;info-sign&quot;, &quot;iconColor&quot;: &quot;white&quot;, &quot;markerColor&quot;: &quot;blue&quot;, &quot;prefix&quot;: &quot;glyphicon&quot;}\n",
       "            );\n",
       "            marker_5fbc093791315ca1a73f9c939e1c44b8.setIcon(icon_9d53eb40867c90fe694ef160bb465334);\n",
       "        \n",
       "    \n",
       "        var popup_88bea4cc65f141398becf50c0547acab = L.popup({&quot;maxWidth&quot;: 400});\n",
       "\n",
       "        \n",
       "            \n",
       "                var html_dbf9f58ad78da4e2053c893c398196d7 = $(`&lt;div id=&quot;html_dbf9f58ad78da4e2053c893c398196d7&quot; style=&quot;width: 100.0%; height: 100.0%;&quot;&gt;&lt;!DOCTYPE html&gt;     &lt;html&gt;     &lt;strong&gt;Building Name: &lt;/strong&gt;Ten Museum Park&lt;br&gt;     &lt;strong&gt;Sale Price: &lt;/strong&gt;$3,400,000.00&lt;br&gt;     &lt;strong&gt;Days on Market: &lt;/strong&gt;336&lt;br&gt;     &lt;strong&gt;Listing Agent: &lt;/strong&gt;Jill Hertzberg&lt;br&gt;     &lt;strong&gt;Buyer&#x27;s Agent: &lt;/strong&gt;Jordan Tyler Amato&lt;br&gt;     &lt;strong&gt;Price sq ft: &lt;/strong&gt;$852.99&lt;br&gt;     &lt;strong&gt;Address: &lt;/strong&gt;1040 Biscayne Blvd 4203&lt;br&gt;     &lt;/html&gt;     &lt;/div&gt;`)[0];\n",
       "                popup_88bea4cc65f141398becf50c0547acab.setContent(html_dbf9f58ad78da4e2053c893c398196d7);\n",
       "            \n",
       "        \n",
       "\n",
       "        marker_5fbc093791315ca1a73f9c939e1c44b8.bindPopup(popup_88bea4cc65f141398becf50c0547acab)\n",
       "        ;\n",
       "\n",
       "        \n",
       "    \n",
       "    \n",
       "            var marker_6a9ca26e7ec16dee66f4783b56ec8f5e = L.marker(\n",
       "                [25.8989594, -80.1239408],\n",
       "                {&quot;fill&quot;: true, &quot;radius&quot;: 5}\n",
       "            ).addTo(feature_group_e9bd216609b23e752145f085c7681002);\n",
       "        \n",
       "    \n",
       "            var icon_8d455ac1d3828f58b8b57fa8cdd993af = L.AwesomeMarkers.icon(\n",
       "                {&quot;extraClasses&quot;: &quot;fa-rotate-0&quot;, &quot;icon&quot;: &quot;info-sign&quot;, &quot;iconColor&quot;: &quot;white&quot;, &quot;markerColor&quot;: &quot;blue&quot;, &quot;prefix&quot;: &quot;glyphicon&quot;}\n",
       "            );\n",
       "            marker_6a9ca26e7ec16dee66f4783b56ec8f5e.setIcon(icon_8d455ac1d3828f58b8b57fa8cdd993af);\n",
       "        \n",
       "    \n",
       "        var popup_4a4d9e2f7b69df112024a881835cc8f7 = L.popup({&quot;maxWidth&quot;: 400});\n",
       "\n",
       "        \n",
       "            \n",
       "                var html_1f40771655bd2ae57993ebec92190e57 = $(`&lt;div id=&quot;html_1f40771655bd2ae57993ebec92190e57&quot; style=&quot;width: 100.0%; height: 100.0%;&quot;&gt;&lt;!DOCTYPE html&gt;     &lt;html&gt;     &lt;strong&gt;Building Name: &lt;/strong&gt;One Bal Harbour&lt;br&gt;     &lt;strong&gt;Sale Price: &lt;/strong&gt;$3,300,000.00&lt;br&gt;     &lt;strong&gt;Days on Market: &lt;/strong&gt;158&lt;br&gt;     &lt;strong&gt;Listing Agent: &lt;/strong&gt;Margaret Krichevets&lt;br&gt;     &lt;strong&gt;Buyer&#x27;s Agent: &lt;/strong&gt;Margaret Krichevets&lt;br&gt;     &lt;strong&gt;Price sq ft: &lt;/strong&gt;$1057.69&lt;br&gt;     &lt;strong&gt;Address: &lt;/strong&gt;10295 Collins Ave 304 Bal&lt;br&gt;     &lt;/html&gt;     &lt;/div&gt;`)[0];\n",
       "                popup_4a4d9e2f7b69df112024a881835cc8f7.setContent(html_1f40771655bd2ae57993ebec92190e57);\n",
       "            \n",
       "        \n",
       "\n",
       "        marker_6a9ca26e7ec16dee66f4783b56ec8f5e.bindPopup(popup_4a4d9e2f7b69df112024a881835cc8f7)\n",
       "        ;\n",
       "\n",
       "        \n",
       "    \n",
       "    \n",
       "            var marker_691e7990506d887d9133226db643dbd7 = L.marker(\n",
       "                [25.9487565, -80.1196866],\n",
       "                {&quot;fill&quot;: true, &quot;radius&quot;: 5}\n",
       "            ).addTo(feature_group_e9bd216609b23e752145f085c7681002);\n",
       "        \n",
       "    \n",
       "            var icon_bca347368458ed5a2db7f1dd6cce27ad = L.AwesomeMarkers.icon(\n",
       "                {&quot;extraClasses&quot;: &quot;fa-rotate-0&quot;, &quot;icon&quot;: &quot;info-sign&quot;, &quot;iconColor&quot;: &quot;white&quot;, &quot;markerColor&quot;: &quot;blue&quot;, &quot;prefix&quot;: &quot;glyphicon&quot;}\n",
       "            );\n",
       "            marker_691e7990506d887d9133226db643dbd7.setIcon(icon_bca347368458ed5a2db7f1dd6cce27ad);\n",
       "        \n",
       "    \n",
       "        var popup_6726dbb9d4555f9236bb78a62cbb3134 = L.popup({&quot;maxWidth&quot;: 400});\n",
       "\n",
       "        \n",
       "            \n",
       "                var html_a597503cfd1e56629c15f0f5623720ca = $(`&lt;div id=&quot;html_a597503cfd1e56629c15f0f5623720ca&quot; style=&quot;width: 100.0%; height: 100.0%;&quot;&gt;&lt;!DOCTYPE html&gt;     &lt;html&gt;     &lt;strong&gt;Building Name: &lt;/strong&gt;Millenium&lt;br&gt;     &lt;strong&gt;Sale Price: &lt;/strong&gt;$2,700,000.00&lt;br&gt;     &lt;strong&gt;Days on Market: &lt;/strong&gt;210&lt;br&gt;     &lt;strong&gt;Listing Agent: &lt;/strong&gt;Alvaro Padron Nunez&lt;br&gt;     &lt;strong&gt;Buyer&#x27;s Agent: &lt;/strong&gt;Fernando Lima&lt;br&gt;     &lt;strong&gt;Price sq ft: &lt;/strong&gt;$944.06&lt;br&gt;     &lt;strong&gt;Address: &lt;/strong&gt;18671 Collins Ave PH2 Sunny Isles&lt;br&gt;     &lt;/html&gt;     &lt;/div&gt;`)[0];\n",
       "                popup_6726dbb9d4555f9236bb78a62cbb3134.setContent(html_a597503cfd1e56629c15f0f5623720ca);\n",
       "            \n",
       "        \n",
       "\n",
       "        marker_691e7990506d887d9133226db643dbd7.bindPopup(popup_6726dbb9d4555f9236bb78a62cbb3134)\n",
       "        ;\n",
       "\n",
       "        \n",
       "    \n",
       "    \n",
       "            var tile_layer_b0a818a220fc534a9e360bb996789ef1 = L.tileLayer(\n",
       "                &quot;https://{s}.tile.openstreetmap.org/{z}/{x}/{y}.png&quot;,\n",
       "                {&quot;attribution&quot;: &quot;Data by \\u0026copy; \\u003ca href=\\&quot;http://openstreetmap.org\\&quot;\\u003eOpenStreetMap\\u003c/a\\u003e, under \\u003ca href=\\&quot;http://www.openstreetmap.org/copyright\\&quot;\\u003eODbL\\u003c/a\\u003e.&quot;, &quot;detectRetina&quot;: false, &quot;maxNativeZoom&quot;: 18, &quot;maxZoom&quot;: 18, &quot;minZoom&quot;: 0, &quot;noWrap&quot;: false, &quot;opacity&quot;: 1, &quot;subdomains&quot;: &quot;abc&quot;, &quot;tms&quot;: false}\n",
       "            ).addTo(map_250d275a5074a2e923d7fea037bf63c7);\n",
       "        \n",
       "    \n",
       "            var layer_control_d2a1c0a940cee619a3ef340abd8d8b89 = {\n",
       "                base_layers : {\n",
       "                },\n",
       "                overlays :  {\n",
       "                    &quot;Top Sale&quot; : feature_group_8ebd4a52693443ae0b83b24ec8641b08,\n",
       "                    &quot;All other sales&quot; : feature_group_e9bd216609b23e752145f085c7681002,\n",
       "                },\n",
       "            };\n",
       "            L.control.layers(\n",
       "                layer_control_d2a1c0a940cee619a3ef340abd8d8b89.base_layers,\n",
       "                layer_control_d2a1c0a940cee619a3ef340abd8d8b89.overlays,\n",
       "                {&quot;autoZIndex&quot;: true, &quot;collapsed&quot;: false, &quot;position&quot;: &quot;topright&quot;}\n",
       "            ).addTo(map_250d275a5074a2e923d7fea037bf63c7);\n",
       "        \n",
       "&lt;/script&gt;\" style=\"position:absolute;width:100%;height:100%;left:0;top:0;border:none !important;\" allowfullscreen webkitallowfullscreen mozallowfullscreen></iframe></div></div>"
      ],
      "text/plain": [
       "<folium.folium.Map at 0x7fbeba694070>"
      ]
     },
     "execution_count": 17,
     "metadata": {},
     "output_type": "execute_result"
    }
   ],
   "source": [
    "import folium\n",
    "from folium.plugins import MarkerCluster\n",
    "\n",
    "m = folium.Map(location=df[[\"lat\", \"lon\"]].mean().to_list(), zoom_start=10)\n",
    "\n",
    "title_html = '''\n",
    "              <h3 align=\"center\" style=\"font-size:16px\"><b>{}</b></h3>\n",
    "             '''.format(f'Recent Miami-Dade Condo Sales ')\n",
    "\n",
    "caption_html = '''\n",
    "                <p align=\"center\" style=\"vertical-align: bottom; font-size:13px\"><i>{}</i></p>\n",
    "                '''.format('September 3rd - September 9th')\n",
    "\n",
    "\n",
    "### Create map container ###\n",
    "m = folium.Map(location=df[[\"lat\", \"lon\"]].mean().to_list(),zoom_start=9.5,tiles=None)\n",
    "\n",
    "# Create two FeatureGroups for different color pins\n",
    "fg_blue = folium.FeatureGroup(name='All other sales')\n",
    "fg_orange = folium.FeatureGroup(name='Top Sale')\n",
    "\n",
    "for index, row in df.iterrows():\n",
    "    # Add the markers to the appropriate FeatureGroup based on the color\n",
    "    if row['COLOR'] == 'blue':\n",
    "        marker = folium.Marker(\n",
    "            location=[row['lat'], row['lon']],\n",
    "            radius=5,\n",
    "            fill=True,\n",
    "            icon=folium.Icon(color=row['COLOR']),\n",
    "            popup=folium.Popup(popup_html(row), max_width=400))\n",
    "        marker.add_to(fg_blue)\n",
    "    else:\n",
    "        marker = folium.Marker(\n",
    "            location=[row['lat'], row['lon']],\n",
    "            radius=5,\n",
    "            fill=True,\n",
    "            icon=folium.Icon(color=row['COLOR']),\n",
    "            popup=folium.Popup(popup_html(row), max_width=400))\n",
    "        marker.add_to(fg_orange)\n",
    "\n",
    "# Add the FeatureGroups to the map\n",
    "fg_orange.add_to(m)\n",
    "fg_blue.add_to(m)\n",
    "\n",
    "folium.TileLayer('OpenStreetMap',control=False).add_to(m)\n",
    "\n",
    "# Add LayerControl to the map\n",
    "folium.map.LayerControl(collapsed=False).add_to(m)\n",
    "m.get_root().html.add_child(folium.Element(title_html))\n",
    "m.get_root().html.add_child(folium.Element(caption_html))\n",
    "            \n",
    "# Display map\n",
    "m"
   ]
  },
  {
   "cell_type": "code",
   "execution_count": 18,
   "metadata": {},
   "outputs": [],
   "source": [
    "m.save('index.html')"
   ]
  },
  {
   "cell_type": "markdown",
   "metadata": {},
   "source": [
    "## Data snagger"
   ]
  },
  {
   "cell_type": "code",
   "execution_count": 19,
   "metadata": {},
   "outputs": [],
   "source": [
    "### Set up formatting ###\n",
    "BR = '\\n'\n",
    "\n",
    "ME = '\\033[1m' + 'Most Expensive' + '\\033[0m'\n",
    "LE = '\\033[1m' + 'Least Expensive' + '\\033[0m'\n",
    "\n",
    "MAX_PSF = '\\033[1m' + 'Highest Price Per Square Foot' + '\\033[0m'\n",
    "MIN_PSF = '\\033[1m' + 'Lowest Price Per Square Foot' + '\\033[0m'\n",
    "\n",
    "DAYS_MAX = '\\033[1m' + 'Most Days on Market' + '\\033[0m'\n",
    "DAYS_MIN = '\\033[1m' + 'Fewest Days on Market' + '\\033[0m'"
   ]
  },
  {
   "cell_type": "code",
   "execution_count": 20,
   "metadata": {},
   "outputs": [
    {
     "name": "stdout",
     "output_type": "stream",
     "text": [
      "\u001b[1mMost Expensive\u001b[0m\n",
      "Grove at Grand Bay, 2675 S Bayshore Dr LPHS | Price $19,250,000 | $2,024 psf | Listing agent: Angel Nicolas with Compass Florida, LLC. | Buyer's agent: Angel Nicolas with Compass Florida, LLC. | Days on market: 333\n",
      "\u001b[1mLeast Expensive\u001b[0m\n",
      "Millenium, 18671 Collins Ave PH2 Sunny Isles | Price $2,700,000 | $944 psf | Listing agent: Alvaro Padron Nunez with Robert Slack LLC | Buyer's agent: Fernando Lima with The Corcoran Group | Days on market: 210\n",
      "\u001b[1mHighest Price Per Square Foot\u001b[0m\n",
      "Continuum on South Beach, 50 S Pointe Dr 802 Miami | Price $6,500,000 | $2,968 psf | Listing agent: Dina Goldentayer with Douglas Elliman | Buyer's agent: Gabriela Gonzalez Carrillo with London Foster Realty | Days on market: 334\n",
      "\u001b[1mLowest Price Per Square Foot\u001b[0m\n",
      "Ten Museum Park, 1040 Biscayne Blvd 4203 | Price $3,400,000 | $853 psf | Listing agent: Jill Hertzberg with Coldwell Banker Realty | Buyer's agent: Jordan Tyler Amato with One Sotheby's International Re | Days on market: 336\n",
      "\u001b[1mMost Days on Market\u001b[0m\n",
      "Ten Museum Park, 1040 Biscayne Blvd 4203 | Price $3,400,000 | $853 psf | Listing agent: Jill Hertzberg with Coldwell Banker Realty | Buyer's agent: Jordan Tyler Amato with One Sotheby's International Re | Days on market: 336\n",
      "\u001b[1mFewest Days on Market\u001b[0m\n",
      "Jade Beach, 17001 Collins Ave 4504 Sunny Isles | Price $4,550,000 | $1,099 psf | Listing agent: Giulietta Ulloa with BHHS EWM Realty | Buyer's agent: Claudia Yaffe with Yaffe International Realty | Days on market: 42\n"
     ]
    }
   ],
   "source": [
    "### Highest and lowest sale price ###\n",
    "print(f\"{ME}{BR}{df.loc[df['int_Sale_Price'].idxmax()]['building_name']}, {df.loc[df['int_Sale_Price'].idxmax()]['address']} | Price ${df.loc[df['int_Sale_Price'].idxmax()]['int_Sale_Price']:,.0f} | ${df.loc[df['int_Sale_Price'].idxmax()]['price_per_sqft']:,.0f} psf | Listing agent: {df.loc[df['int_Sale_Price'].idxmax()]['Agent']} with {df.loc[df['int_Sale_Price'].idxmax()]['Listing Broker']} | Buyer's agent: {df.loc[df['int_Sale_Price'].idxmax()]['Buyer Agent']} with {df.loc[df['int_Sale_Price'].idxmax()]['Buyer Broker']} | Days on market: {df.loc[df['int_Sale_Price'].idxmax()]['days_on_market']}\")\n",
    "print(f\"{LE}{BR}{df.loc[df['int_Sale_Price'].idxmin()]['building_name']}, {df.loc[df['int_Sale_Price'].idxmin()]['address']} | Price ${df.loc[df['int_Sale_Price'].idxmin()]['int_Sale_Price']:,.0f} | ${df.loc[df['int_Sale_Price'].idxmin()]['price_per_sqft']:,.0f} psf | Listing agent: {df.loc[df['int_Sale_Price'].idxmin()]['Agent']} with {df.loc[df['int_Sale_Price'].idxmin()]['Listing Broker']} | Buyer's agent: {df.loc[df['int_Sale_Price'].idxmin()]['Buyer Agent']} with {df.loc[df['int_Sale_Price'].idxmin()]['Buyer Broker']} | Days on market: {df.loc[df['int_Sale_Price'].idxmin()]['days_on_market']}\")\n",
    "### Highest and lowest psf ###\n",
    "print(f\"{MAX_PSF}{BR}{df.loc[df['price_per_sqft'].idxmax()]['building_name']}, {df.loc[df['price_per_sqft'].idxmax()]['address']} | Price ${df.loc[df['price_per_sqft'].idxmax()]['int_Sale_Price']:,.0f} | ${df.loc[df['price_per_sqft'].idxmax()]['price_per_sqft']:,.0f} psf | Listing agent: {df.loc[df['price_per_sqft'].idxmax()]['Agent']} with {df.loc[df['price_per_sqft'].idxmax()]['Listing Broker']} | Buyer's agent: {df.loc[df['price_per_sqft'].idxmax()]['Buyer Agent']} with {df.loc[df['price_per_sqft'].idxmax()]['Buyer Broker']} | Days on market: {df.loc[df['price_per_sqft'].idxmax()]['days_on_market']}\")\n",
    "print(f\"{MIN_PSF}{BR}{df.loc[df['price_per_sqft'].idxmin()]['building_name']}, {df.loc[df['price_per_sqft'].idxmin()]['address']} | Price ${df.loc[df['price_per_sqft'].idxmin()]['int_Sale_Price']:,.0f} | ${df.loc[df['price_per_sqft'].idxmin()]['price_per_sqft']:,.0f} psf | Listing agent: {df.loc[df['price_per_sqft'].idxmin()]['Agent']} with {df.loc[df['price_per_sqft'].idxmin()]['Listing Broker']} | Buyer's agent: {df.loc[df['price_per_sqft'].idxmin()]['Buyer Agent']} with {df.loc[df['price_per_sqft'].idxmin()]['Buyer Broker']} | Days on market: {df.loc[df['price_per_sqft'].idxmin()]['days_on_market']}\")\n",
    "### Highest and lowest days on market ###\n",
    "print(f\"{DAYS_MAX}{BR}{df.loc[df['days_on_market'].idxmax()]['building_name']}, {df.loc[df['days_on_market'].idxmax()]['address']} | Price ${df.loc[df['days_on_market'].idxmax()]['int_Sale_Price']:,.0f} | ${df.loc[df['days_on_market'].idxmax()]['price_per_sqft']:,.0f} psf | Listing agent: {df.loc[df['days_on_market'].idxmax()]['Agent']} with {df.loc[df['days_on_market'].idxmax()]['Listing Broker']} | Buyer's agent: {df.loc[df['days_on_market'].idxmax()]['Buyer Agent']} with {df.loc[df['days_on_market'].idxmax()]['Buyer Broker']} | Days on market: {df.loc[df['days_on_market'].idxmax()]['days_on_market']}\")\n",
    "print(f\"{DAYS_MIN}{BR}{df.loc[df['days_on_market'].idxmin()]['building_name']}, {df.loc[df['days_on_market'].idxmin()]['address']} | Price ${df.loc[df['days_on_market'].idxmin()]['int_Sale_Price']:,.0f} | ${df.loc[df['days_on_market'].idxmin()]['price_per_sqft']:,.0f} psf | Listing agent: {df.loc[df['days_on_market'].idxmin()]['Agent']} with {df.loc[df['days_on_market'].idxmin()]['Listing Broker']} | Buyer's agent: {df.loc[df['days_on_market'].idxmin()]['Buyer Agent']} with {df.loc[df['days_on_market'].idxmin()]['Buyer Broker']} | Days on market: {df.loc[df['days_on_market'].idxmin()]['days_on_market']}\")"
   ]
  },
  {
   "cell_type": "code",
   "execution_count": 21,
   "metadata": {},
   "outputs": [
    {
     "data": {
      "text/plain": [
       "216.7"
      ]
     },
     "execution_count": 21,
     "metadata": {},
     "output_type": "execute_result"
    }
   ],
   "source": [
    "df['days_on_market'].mean()"
   ]
  },
  {
   "cell_type": "markdown",
   "metadata": {},
   "source": [
    "## Map URL snagger"
   ]
  },
  {
   "cell_type": "markdown",
   "metadata": {},
   "source": [
    "Map template URL: `https://trd-digital.github.io/trd-news-interactive-maps/{map-folder-name}`"
   ]
  },
  {
   "cell_type": "code",
   "execution_count": 22,
   "metadata": {},
   "outputs": [],
   "source": [
    "base_name = 'https://trd-digital.github.io/trd-news-interactive-maps/'"
   ]
  },
  {
   "cell_type": "code",
   "execution_count": 23,
   "metadata": {},
   "outputs": [
    {
     "name": "stdout",
     "output_type": "stream",
     "text": [
      "https://trd-digital.github.io/trd-news-interactive-maps/condo_sales_week_ending_09052023\n"
     ]
    }
   ],
   "source": [
    "cwd = os.getcwd()\n",
    "\n",
    "cwd = cwd.split('/')\n",
    "\n",
    "final_name = base_name + cwd[-1]\n",
    "print(final_name)"
   ]
  }
 ],
 "metadata": {
  "kernelspec": {
   "display_name": "Python 3 (ipykernel)",
   "language": "python",
   "name": "python3"
  },
  "language_info": {
   "codemirror_mode": {
    "name": "ipython",
    "version": 3
   },
   "file_extension": ".py",
   "mimetype": "text/x-python",
   "name": "python",
   "nbconvert_exporter": "python",
   "pygments_lexer": "ipython3",
   "version": "3.9.12"
  },
  "toc": {
   "base_numbering": 1,
   "nav_menu": {},
   "number_sections": true,
   "sideBar": true,
   "skip_h1_title": false,
   "title_cell": "Table of Contents",
   "title_sidebar": "Contents",
   "toc_cell": false,
   "toc_position": {},
   "toc_section_display": true,
   "toc_window_display": false
  }
 },
 "nbformat": 4,
 "nbformat_minor": 4
}
