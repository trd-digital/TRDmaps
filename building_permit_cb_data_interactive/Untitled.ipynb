{
 "cells": [
  {
   "cell_type": "markdown",
   "id": "6a044ff4",
   "metadata": {},
   "source": [
    "## Notes\n",
    "\n",
    "- The goal is to get building permit data for our markets (and across the country) from the U.S. Census Bureau\n",
    "- I downloaded the master file from the bureau (link below)\n",
    "- A column with \"REP\" means the data contained is from a reported source only. A column without \"REP\", like \"BLDGS_1_UNIT\", contains estimated data\n",
    "\n",
    "Data link: https://www2.census.gov/econ/bps/Master%20Data%20Set/"
   ]
  },
  {
   "cell_type": "markdown",
   "id": "338e77c8",
   "metadata": {},
   "source": [
    "## Imports"
   ]
  },
  {
   "cell_type": "code",
   "execution_count": 1,
   "id": "f7d5e69e",
   "metadata": {},
   "outputs": [],
   "source": [
    "import pandas as pd\n",
    "import numpy as np\n",
    "import os"
   ]
  },
  {
   "cell_type": "markdown",
   "id": "f1871b62",
   "metadata": {},
   "source": [
    "## PD Set Options"
   ]
  },
  {
   "cell_type": "code",
   "execution_count": 7,
   "id": "27bd509c",
   "metadata": {},
   "outputs": [],
   "source": [
    "pd.set_option('display.max_columns',None)"
   ]
  },
  {
   "cell_type": "markdown",
   "id": "0fc2f6c3",
   "metadata": {},
   "source": [
    "## Data Read-in"
   ]
  },
  {
   "cell_type": "code",
   "execution_count": 3,
   "id": "f1e46043",
   "metadata": {},
   "outputs": [],
   "source": [
    "pd.read_csv?"
   ]
  },
  {
   "cell_type": "code",
   "execution_count": 6,
   "id": "91f404f3",
   "metadata": {},
   "outputs": [],
   "source": [
    "df = pd.read_csv(\"BPS_Compiled_File_202412.csv\",dtype='str', encoding_errors='ignore')"
   ]
  },
  {
   "cell_type": "markdown",
   "id": "03bded2c",
   "metadata": {},
   "source": [
    "## Data work"
   ]
  },
  {
   "cell_type": "code",
   "execution_count": 14,
   "id": "5a448aab",
   "metadata": {},
   "outputs": [],
   "source": [
    "df_monthly = df[df['PERIOD'] == 'Monthly'] "
   ]
  },
  {
   "cell_type": "code",
   "execution_count": 20,
   "id": "f871c9d9",
   "metadata": {},
   "outputs": [],
   "source": [
    "df_monthly_county = df_monthly[df_monthly['LOCATION_TYPE'] == 'County']"
   ]
  },
  {
   "cell_type": "code",
   "execution_count": 24,
   "id": "838ee338",
   "metadata": {},
   "outputs": [],
   "source": [
    "df_monthly_county_year = df_monthly_county[df_monthly_county['YEAR'] == '2024']"
   ]
  },
  {
   "cell_type": "code",
   "execution_count": 37,
   "id": "b0be0cde",
   "metadata": {},
   "outputs": [],
   "source": [
    "keep_columns = ['BLDGS_1_UNIT', 'BLDGS_2_UNITS','BLDGS_3_4_UNITS',\n",
    "       'BLDGS_5_UNITS','COUNTY_NAME','DIVISION_NAME','MONTH','PERIOD','REGION_NAME',\n",
    "       'STATE_NAME', 'SURVEY_DATE', 'TOTAL_BLDGS','TOTAL_UNITS','TOTAL_VALUE',\n",
    "       'UNITS_1_UNIT', 'UNITS_2_UNITS','UNITS_3_4_UNITS',\n",
    "       'UNITS_5_UNITS', 'VALUE_1_UNIT', 'VALUE_2_UNITS',\n",
    "       'VALUE_3_4_UNITS', 'VALUE_5_UNITS','YEAR', 'ZIP_CODE', 'LOCATION_NAME']"
   ]
  },
  {
   "cell_type": "code",
   "execution_count": 39,
   "id": "3a44e065",
   "metadata": {},
   "outputs": [],
   "source": [
    "final_df = df_monthly_county_year[keep_columns]"
   ]
  },
  {
   "cell_type": "code",
   "execution_count": 58,
   "id": "c2c757b4",
   "metadata": {},
   "outputs": [
    {
     "name": "stderr",
     "output_type": "stream",
     "text": [
      "/var/folders/rq/0_j_rksd7psgdycg9c1qwf6m0000gp/T/ipykernel_76291/128574475.py:1: SettingWithCopyWarning: \n",
      "A value is trying to be set on a copy of a slice from a DataFrame.\n",
      "Try using .loc[row_indexer,col_indexer] = value instead\n",
      "\n",
      "See the caveats in the documentation: https://pandas.pydata.org/pandas-docs/stable/user_guide/indexing.html#returning-a-view-versus-a-copy\n",
      "  final_df['COUNTY_STATE_NAME'] = final_df['COUNTY_NAME'] + ', ' + final_df['STATE_NAME']\n"
     ]
    }
   ],
   "source": [
    "final_df['COUNTY_STATE_NAME'] = final_df['COUNTY_NAME'] + ', ' + final_df['STATE_NAME']"
   ]
  },
  {
   "cell_type": "code",
   "execution_count": 47,
   "id": "2852ad95",
   "metadata": {},
   "outputs": [
    {
     "name": "stderr",
     "output_type": "stream",
     "text": [
      "/var/folders/rq/0_j_rksd7psgdycg9c1qwf6m0000gp/T/ipykernel_76291/477860774.py:2: SettingWithCopyWarning: \n",
      "A value is trying to be set on a copy of a slice from a DataFrame.\n",
      "Try using .loc[row_indexer,col_indexer] = value instead\n",
      "\n",
      "See the caveats in the documentation: https://pandas.pydata.org/pandas-docs/stable/user_guide/indexing.html#returning-a-view-versus-a-copy\n",
      "  final_df['MONTH_NAME'] = final_df['MONTH'].astype(int).apply(lambda x: calendar.month_name[x])\n"
     ]
    }
   ],
   "source": [
    "import calendar\n",
    "final_df['MONTH_NAME'] = final_df['MONTH'].astype(int).apply(lambda x: calendar.month_name[x])"
   ]
  },
  {
   "cell_type": "code",
   "execution_count": 51,
   "id": "5e3d090b",
   "metadata": {},
   "outputs": [
    {
     "name": "stderr",
     "output_type": "stream",
     "text": [
      "/var/folders/rq/0_j_rksd7psgdycg9c1qwf6m0000gp/T/ipykernel_76291/3739681526.py:1: SettingWithCopyWarning: \n",
      "A value is trying to be set on a copy of a slice from a DataFrame.\n",
      "Try using .loc[row_indexer,col_indexer] = value instead\n",
      "\n",
      "See the caveats in the documentation: https://pandas.pydata.org/pandas-docs/stable/user_guide/indexing.html#returning-a-view-versus-a-copy\n",
      "  final_df['MONTH_NAME_YEAR'] = final_df[\"MONTH_NAME\"] + \" \" + final_df[\"YEAR\"]\n"
     ]
    }
   ],
   "source": [
    "final_df['MONTH_NAME_YEAR'] = final_df[\"MONTH_NAME\"] + \" \" + final_df[\"YEAR\"]"
   ]
  },
  {
   "cell_type": "code",
   "execution_count": 60,
   "id": "df630891",
   "metadata": {},
   "outputs": [],
   "source": [
    "final_df.to_csv(\"2024_CB_BuildingPermit_data.csv\")"
   ]
  },
  {
   "cell_type": "code",
   "execution_count": 59,
   "id": "fac1dcdd",
   "metadata": {},
   "outputs": [
    {
     "data": {
      "text/html": [
       "<div>\n",
       "<style scoped>\n",
       "    .dataframe tbody tr th:only-of-type {\n",
       "        vertical-align: middle;\n",
       "    }\n",
       "\n",
       "    .dataframe tbody tr th {\n",
       "        vertical-align: top;\n",
       "    }\n",
       "\n",
       "    .dataframe thead th {\n",
       "        text-align: right;\n",
       "    }\n",
       "</style>\n",
       "<table border=\"1\" class=\"dataframe\">\n",
       "  <thead>\n",
       "    <tr style=\"text-align: right;\">\n",
       "      <th></th>\n",
       "      <th>BLDGS_1_UNIT</th>\n",
       "      <th>BLDGS_2_UNITS</th>\n",
       "      <th>BLDGS_3_4_UNITS</th>\n",
       "      <th>BLDGS_5_UNITS</th>\n",
       "      <th>COUNTY_NAME</th>\n",
       "      <th>DIVISION_NAME</th>\n",
       "      <th>MONTH</th>\n",
       "      <th>PERIOD</th>\n",
       "      <th>REGION_NAME</th>\n",
       "      <th>STATE_NAME</th>\n",
       "      <th>SURVEY_DATE</th>\n",
       "      <th>TOTAL_BLDGS</th>\n",
       "      <th>TOTAL_UNITS</th>\n",
       "      <th>TOTAL_VALUE</th>\n",
       "      <th>UNITS_1_UNIT</th>\n",
       "      <th>UNITS_2_UNITS</th>\n",
       "      <th>UNITS_3_4_UNITS</th>\n",
       "      <th>UNITS_5_UNITS</th>\n",
       "      <th>VALUE_1_UNIT</th>\n",
       "      <th>VALUE_2_UNITS</th>\n",
       "      <th>VALUE_3_4_UNITS</th>\n",
       "      <th>VALUE_5_UNITS</th>\n",
       "      <th>YEAR</th>\n",
       "      <th>ZIP_CODE</th>\n",
       "      <th>LOCATION_NAME</th>\n",
       "      <th>COUNTY_STATE_NAME</th>\n",
       "      <th>MONTH_NAME</th>\n",
       "      <th>MONTH_NAME_YEAR</th>\n",
       "    </tr>\n",
       "  </thead>\n",
       "  <tbody>\n",
       "    <tr>\n",
       "      <th>3208622</th>\n",
       "      <td>4</td>\n",
       "      <td>0</td>\n",
       "      <td>0</td>\n",
       "      <td>0</td>\n",
       "      <td>Swain County</td>\n",
       "      <td>South Atlantic Division</td>\n",
       "      <td>2</td>\n",
       "      <td>Monthly</td>\n",
       "      <td>South Region</td>\n",
       "      <td>North Carolina</td>\n",
       "      <td>202402</td>\n",
       "      <td>4</td>\n",
       "      <td>4</td>\n",
       "      <td>1615000</td>\n",
       "      <td>4</td>\n",
       "      <td>0</td>\n",
       "      <td>0</td>\n",
       "      <td>0</td>\n",
       "      <td>1615000</td>\n",
       "      <td>0</td>\n",
       "      <td>0</td>\n",
       "      <td>0</td>\n",
       "      <td>2024</td>\n",
       "      <td>NaN</td>\n",
       "      <td>Swain County</td>\n",
       "      <td>Swain County, North Carolina</td>\n",
       "      <td>February</td>\n",
       "      <td>February 2024</td>\n",
       "    </tr>\n",
       "  </tbody>\n",
       "</table>\n",
       "</div>"
      ],
      "text/plain": [
       "        BLDGS_1_UNIT BLDGS_2_UNITS BLDGS_3_4_UNITS BLDGS_5_UNITS  \\\n",
       "3208622            4             0               0             0   \n",
       "\n",
       "          COUNTY_NAME            DIVISION_NAME MONTH   PERIOD   REGION_NAME  \\\n",
       "3208622  Swain County  South Atlantic Division     2  Monthly  South Region   \n",
       "\n",
       "             STATE_NAME SURVEY_DATE TOTAL_BLDGS TOTAL_UNITS TOTAL_VALUE  \\\n",
       "3208622  North Carolina      202402           4           4     1615000   \n",
       "\n",
       "        UNITS_1_UNIT UNITS_2_UNITS UNITS_3_4_UNITS UNITS_5_UNITS VALUE_1_UNIT  \\\n",
       "3208622            4             0               0             0      1615000   \n",
       "\n",
       "        VALUE_2_UNITS VALUE_3_4_UNITS VALUE_5_UNITS  YEAR ZIP_CODE  \\\n",
       "3208622             0               0             0  2024      NaN   \n",
       "\n",
       "        LOCATION_NAME             COUNTY_STATE_NAME MONTH_NAME MONTH_NAME_YEAR  \n",
       "3208622  Swain County  Swain County, North Carolina   February   February 2024  "
      ]
     },
     "execution_count": 59,
     "metadata": {},
     "output_type": "execute_result"
    }
   ],
   "source": [
    "final_df.head(1)"
   ]
  },
  {
   "cell_type": "code",
   "execution_count": 56,
   "id": "f6afce02",
   "metadata": {},
   "outputs": [
    {
     "data": {
      "text/plain": [
       "Index(['BLDGS_1_UNIT', 'BLDGS_2_UNITS', 'BLDGS_3_4_UNITS', 'BLDGS_5_UNITS',\n",
       "       'COUNTY_NAME', 'DIVISION_NAME', 'MONTH', 'PERIOD', 'REGION_NAME',\n",
       "       'STATE_NAME', 'SURVEY_DATE', 'TOTAL_BLDGS', 'TOTAL_UNITS',\n",
       "       'TOTAL_VALUE', 'UNITS_1_UNIT', 'UNITS_2_UNITS', 'UNITS_3_4_UNITS',\n",
       "       'UNITS_5_UNITS', 'VALUE_1_UNIT', 'VALUE_2_UNITS', 'VALUE_3_4_UNITS',\n",
       "       'VALUE_5_UNITS', 'YEAR', 'ZIP_CODE', 'LOCATION_NAME',\n",
       "       'COUNTY_STATE_NAME', 'MONTH_NAME', 'MONTH_NAME_YEAR'],\n",
       "      dtype='object')"
      ]
     },
     "execution_count": 56,
     "metadata": {},
     "output_type": "execute_result"
    }
   ],
   "source": [
    "final_df.columns"
   ]
  }
 ],
 "metadata": {
  "kernelspec": {
   "display_name": "Python 3 (ipykernel)",
   "language": "python",
   "name": "python3"
  },
  "language_info": {
   "codemirror_mode": {
    "name": "ipython",
    "version": 3
   },
   "file_extension": ".py",
   "mimetype": "text/x-python",
   "name": "python",
   "nbconvert_exporter": "python",
   "pygments_lexer": "ipython3",
   "version": "3.9.12"
  }
 },
 "nbformat": 4,
 "nbformat_minor": 5
}
