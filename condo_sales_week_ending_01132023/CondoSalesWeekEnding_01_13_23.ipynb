{
 "cells": [
  {
   "cell_type": "markdown",
   "metadata": {},
   "source": [
    "## Imports"
   ]
  },
  {
   "cell_type": "code",
   "execution_count": 2,
   "metadata": {},
   "outputs": [],
   "source": [
    "import googlemaps\n",
    "import pandas as pd\n",
    "import numpy as np\n",
    "import re\n",
    "import os\n",
    "import geopandas as gpd\n",
    "import folium\n",
    "import tabula\n",
    "from datetime import datetime, timedelta"
   ]
  },
  {
   "cell_type": "markdown",
   "metadata": {},
   "source": [
    "## Read-in"
   ]
  },
  {
   "cell_type": "code",
   "execution_count": 3,
   "metadata": {},
   "outputs": [],
   "source": [
    "# Gotta figure out how to get rid of the java error.\n",
    "# SO: https://stackoverflow.com/questions/54817211/java-command-is-not-found-from-this-python-process-please-ensure-java-is-inst\n",
    "dsf = tabula.read_pdf('condo.pdf', pages='all')"
   ]
  },
  {
   "cell_type": "markdown",
   "metadata": {},
   "source": [
    "## Current Week's Values"
   ]
  },
  {
   "cell_type": "code",
   "execution_count": 4,
   "metadata": {},
   "outputs": [
    {
     "name": "stdout",
     "output_type": "stream",
     "text": [
      "Input Week Starting Date:\n",
      "Jan 7th\n",
      "Input Week Ending Date:\n",
      "Jan 13th\n",
      "Input Current Week Condo Sales (num of units sold):\n",
      "100\n",
      "Input Average Sale Price:\n",
      "1000933\n",
      "Input Average PSF:\n",
      "633.82\n",
      "Input Average Days on Market:\n",
      "69\n",
      "Input Current Week Condo Sales Total:\n",
      "100093300\n",
      "Input Top Image URL from condo:\n",
      "https://www.condo.com/building/The-Surf-Club-Four-Seasons-Surfside-FL-33154-91693612\n"
     ]
    }
   ],
   "source": [
    "print('Input Week Starting Date:')\n",
    "week_starting = input()\n",
    "print('Input Week Ending Date:')\n",
    "week_ending = input()\n",
    "print('Input Current Week Condo Sales (num of units sold):')\n",
    "current_week_condo_sales = input()\n",
    "print('Input Average Sale Price:')\n",
    "average_sale_price = input()\n",
    "print('Input Average PSF:')\n",
    "average_price_psf = input()\n",
    "print('Input Average Days on Market:')\n",
    "average_days_on_market = input()\n",
    "print('Input Current Week Condo Sales Total (ex: $XX million):')\n",
    "current_week_condo_sales_total = input()\n",
    "print('Input Top Image URL from condo:')\n",
    "top_condo_image_url = input()"
   ]
  },
  {
   "cell_type": "markdown",
   "metadata": {},
   "source": [
    "## Previous Week's Values"
   ]
  },
  {
   "cell_type": "code",
   "execution_count": 5,
   "metadata": {},
   "outputs": [
    {
     "name": "stdout",
     "output_type": "stream",
     "text": [
      "Input Previous Week Condo Sales Total (number units sold):\n",
      "45\n",
      "Input Previous Week Condo Average Sales Price:\n",
      "861255.56\n",
      "Input Previous Week Condo Average PSF:\n",
      "534.97\n",
      "Input Previous Week Condo Sales total (ex: $XX million)\n",
      "38756500\n"
     ]
    }
   ],
   "source": [
    "print('Input Previous Week Condo Sales Total (number units sold):')\n",
    "previous_week_condo_sales = input()\n",
    "print('Input Previous Week Condo Average Sales Price:')\n",
    "previous_week_average_sales_price = input()\n",
    "print('Input Previous Week Condo Average PSF:')\n",
    "previous_week_average_psf = input()\n",
    "print('Input Previous Week Condo Sales total (ex: $XX million)')\n",
    "previous_week_condo_sales_total = input()"
   ]
  },
  {
   "cell_type": "markdown",
   "metadata": {},
   "source": [
    "## Clean Data"
   ]
  },
  {
   "cell_type": "code",
   "execution_count": 6,
   "metadata": {},
   "outputs": [],
   "source": [
    "df = dsf[0]\n",
    "df.columns = df.iloc[0]\n",
    "df = df[1:]\n",
    "df = df.drop(columns=df.columns[0])\n",
    "df = df.replace(np.nan, 'Not Available', regex=True)\n",
    "df = df.rename(columns={'Building / Address / City': 'building_address_city','Days on\\rMarket':'days_on_market',\\\n",
    "                        'Price /\\rSq. Ft.':'price_per_sqft'})\n",
    "df['building_address_city'] = df['building_address_city'].str.replace('^0', '', regex=True)\n",
    "df['geo_address'] = df['building_address_city']\n",
    "df['geo_address'] = df['geo_address'].map(lambda x: re.sub(r'\\r', ' ', x))\n",
    "df = df.replace('\\n',' ',regex=True)\n",
    "pattern = r'^(?P<building_name>[\\d\\s]*[A-Za-z\\s]+)\\s(?P<address>.+)\\s(?P<city>[A-Za-z\\s]+)$'\n",
    "df2 = df['geo_address']\n",
    "df2 = df2.to_frame()\n",
    "df2[['building_name', 'address', 'city']] = df2['geo_address'].str.extract(pattern, expand=True)"
   ]
  },
  {
   "cell_type": "markdown",
   "metadata": {},
   "source": [
    "Review this later (it's about how to properly merge DFs): https://pandas.pydata.org/pandas-docs/stable/user_guide/merging.html"
   ]
  },
  {
   "cell_type": "markdown",
   "metadata": {},
   "source": [
    "## Geocode"
   ]
  },
  {
   "cell_type": "code",
   "execution_count": 7,
   "metadata": {},
   "outputs": [],
   "source": [
    "result = pd.merge(df,df2,left_index=True, right_index=True)\n",
    "df = result\n",
    "df = df.drop(columns='city')"
   ]
  },
  {
   "cell_type": "code",
   "execution_count": 8,
   "metadata": {},
   "outputs": [],
   "source": [
    "%store -r google_maps_API_Key\n",
    "gmaps_key = googlemaps.Client(key=google_maps_API_Key)"
   ]
  },
  {
   "cell_type": "code",
   "execution_count": 9,
   "metadata": {},
   "outputs": [],
   "source": [
    "def geocode(add):\n",
    "    g = gmaps_key.geocode(add)\n",
    "    lat = g[0][\"geometry\"][\"location\"][\"lat\"]\n",
    "    lng = g[0][\"geometry\"][\"location\"][\"lng\"]\n",
    "    return (lat, lng)\n",
    "\n",
    "df['geocoded'] = df['geo_address_x'].apply(geocode)"
   ]
  },
  {
   "cell_type": "code",
   "execution_count": 10,
   "metadata": {},
   "outputs": [],
   "source": [
    "df['geocoded'] = df['geocoded'].astype(str)\n",
    "df[['lat', 'lon']] = df['geocoded'].str.strip('()').str.split(', ', expand=True)\n",
    "df['lat'] = df['lat'].astype(float)\n",
    "df['lon'] = df['lon'].astype(float)"
   ]
  },
  {
   "cell_type": "markdown",
   "metadata": {},
   "source": [
    "Folium documentation link: https://python-visualization.github.io/folium/index.html\n",
    "\n",
    "Folium is the library that lets us use leaflet with Python, since it's meant to be used with JavaScript.\n",
    "\n",
    "For adding titles: https://stackoverflow.com/questions/61928013/adding-a-title-or-text-to-a-folium-map"
   ]
  },
  {
   "cell_type": "markdown",
   "metadata": {},
   "source": [
    "## Correction section"
   ]
  },
  {
   "cell_type": "code",
   "execution_count": 11,
   "metadata": {},
   "outputs": [],
   "source": [
    "# df.at[index#,'col_name']"
   ]
  },
  {
   "cell_type": "markdown",
   "metadata": {},
   "source": [
    "## Format Data"
   ]
  },
  {
   "cell_type": "code",
   "execution_count": 12,
   "metadata": {},
   "outputs": [],
   "source": [
    "### Insert NaNs if needed ###\n",
    "df = df.replace('N/A', np.nan)"
   ]
  },
  {
   "cell_type": "code",
   "execution_count": 13,
   "metadata": {},
   "outputs": [],
   "source": [
    "df['int_Sale_Price'] = df['Sale Price'].str.replace('$','',regex=False)"
   ]
  },
  {
   "cell_type": "code",
   "execution_count": 14,
   "metadata": {},
   "outputs": [],
   "source": [
    "df['int_Sale_Price'] = df['int_Sale_Price'].str.replace(',','',regex=False)"
   ]
  },
  {
   "cell_type": "code",
   "execution_count": 15,
   "metadata": {},
   "outputs": [],
   "source": [
    "df['int_Sale_Price'] = pd.to_numeric(df['int_Sale_Price'])"
   ]
  },
  {
   "cell_type": "code",
   "execution_count": 16,
   "metadata": {},
   "outputs": [],
   "source": [
    "df['price_per_sqft'] = df['price_per_sqft'].str.replace('$','',regex=False)\n",
    "df['price_per_sqft'] = df['price_per_sqft'].str.replace(',','',regex=False)\n",
    "df['price_per_sqft'] = pd.to_numeric(df['price_per_sqft'])\n",
    "\n",
    "df['days_on_market'] = pd.to_numeric(df['days_on_market'])"
   ]
  },
  {
   "cell_type": "markdown",
   "metadata": {},
   "source": [
    "## Color-code top sale"
   ]
  },
  {
   "cell_type": "code",
   "execution_count": 17,
   "metadata": {},
   "outputs": [],
   "source": [
    "### Insert RANK values ###\n",
    "df['RANK'] = range(1, len(df) + 1)\n",
    "# use numpy to assign values to the 'COLOR' column\n",
    "df['COLOR'] = np.where(df['RANK'] <= 1, 'orange', 'blue')"
   ]
  },
  {
   "cell_type": "markdown",
   "metadata": {},
   "source": [
    "## HTML Popup Formatter"
   ]
  },
  {
   "cell_type": "code",
   "execution_count": 18,
   "metadata": {},
   "outputs": [
    {
     "data": {
      "text/plain": [
       "Index(['building_address_city', 'Close Date', 'days_on_market', 'Sale Price',\n",
       "       'Sq. Ft.', 'price_per_sqft', 'Agent', 'Listing Broker', 'Buyer Agent',\n",
       "       'Buyer Broker', 'geo_address_x', 'geo_address_y', 'building_name',\n",
       "       'address', 'geocoded', 'lat', 'lon', 'int_Sale_Price', 'RANK', 'COLOR'],\n",
       "      dtype='object')"
      ]
     },
     "execution_count": 18,
     "metadata": {},
     "output_type": "execute_result"
    }
   ],
   "source": [
    "df.columns"
   ]
  },
  {
   "cell_type": "code",
   "execution_count": 19,
   "metadata": {},
   "outputs": [],
   "source": [
    "def popup_html(row):\n",
    "    building_name = row['building_name']\n",
    "    price = row['Sale Price']\n",
    "    days_on_market = row['days_on_market']\n",
    "    listing_agent = row['Agent']\n",
    "    buyers_agent = row['Buyer Agent']\n",
    "    psf = row['price_per_sqft']\n",
    "    address = row['address']\n",
    "    \n",
    "    html = '''<!DOCTYPE html>\n",
    "    <html>\n",
    "    <strong>Building Name: </strong>{}'''.format(building_name) + '''<br>\n",
    "    <strong>Sale Price: </strong>{}'''.format(price) + '''<br>\n",
    "    <strong>Days on Market: </strong>{}'''.format(days_on_market) + '''<br>\n",
    "    <strong>Listing Agent: </strong>{}'''.format(listing_agent) + '''<br>\n",
    "    <strong>Buyer's Agent: </strong>{}'''.format(buyers_agent) + '''<br>\n",
    "    <strong>Price sq ft: </strong>${}'''.format(psf) + '''<br>\n",
    "    <strong>Address: </strong>{}'''.format(address) + '''<br>\n",
    "    </html>\n",
    "    '''\n",
    "    return html"
   ]
  },
  {
   "cell_type": "code",
   "execution_count": 20,
   "metadata": {},
   "outputs": [
    {
     "data": {
      "text/html": [
       "<div style=\"width:100%;\"><div style=\"position:relative;width:100%;height:0;padding-bottom:60%;\"><span style=\"color:#565656\">Make this Notebook Trusted to load map: File -> Trust Notebook</span><iframe srcdoc=\"&lt;!DOCTYPE html&gt;\n",
       "&lt;head&gt;    \n",
       "    &lt;meta http-equiv=&quot;content-type&quot; content=&quot;text/html; charset=UTF-8&quot; /&gt;\n",
       "    \n",
       "        &lt;script&gt;\n",
       "            L_NO_TOUCH = false;\n",
       "            L_DISABLE_3D = false;\n",
       "        &lt;/script&gt;\n",
       "    \n",
       "    &lt;style&gt;html, body {width: 100%;height: 100%;margin: 0;padding: 0;}&lt;/style&gt;\n",
       "    &lt;style&gt;#map {position:absolute;top:0;bottom:0;right:0;left:0;}&lt;/style&gt;\n",
       "    &lt;script src=&quot;https://cdn.jsdelivr.net/npm/leaflet@1.6.0/dist/leaflet.js&quot;&gt;&lt;/script&gt;\n",
       "    &lt;script src=&quot;https://code.jquery.com/jquery-1.12.4.min.js&quot;&gt;&lt;/script&gt;\n",
       "    &lt;script src=&quot;https://maxcdn.bootstrapcdn.com/bootstrap/3.2.0/js/bootstrap.min.js&quot;&gt;&lt;/script&gt;\n",
       "    &lt;script src=&quot;https://cdnjs.cloudflare.com/ajax/libs/Leaflet.awesome-markers/2.0.2/leaflet.awesome-markers.js&quot;&gt;&lt;/script&gt;\n",
       "    &lt;link rel=&quot;stylesheet&quot; href=&quot;https://cdn.jsdelivr.net/npm/leaflet@1.6.0/dist/leaflet.css&quot;/&gt;\n",
       "    &lt;link rel=&quot;stylesheet&quot; href=&quot;https://maxcdn.bootstrapcdn.com/bootstrap/3.2.0/css/bootstrap.min.css&quot;/&gt;\n",
       "    &lt;link rel=&quot;stylesheet&quot; href=&quot;https://maxcdn.bootstrapcdn.com/bootstrap/3.2.0/css/bootstrap-theme.min.css&quot;/&gt;\n",
       "    &lt;link rel=&quot;stylesheet&quot; href=&quot;https://maxcdn.bootstrapcdn.com/font-awesome/4.6.3/css/font-awesome.min.css&quot;/&gt;\n",
       "    &lt;link rel=&quot;stylesheet&quot; href=&quot;https://cdnjs.cloudflare.com/ajax/libs/Leaflet.awesome-markers/2.0.2/leaflet.awesome-markers.css&quot;/&gt;\n",
       "    &lt;link rel=&quot;stylesheet&quot; href=&quot;https://cdn.jsdelivr.net/gh/python-visualization/folium/folium/templates/leaflet.awesome.rotate.min.css&quot;/&gt;\n",
       "    \n",
       "            &lt;meta name=&quot;viewport&quot; content=&quot;width=device-width,\n",
       "                initial-scale=1.0, maximum-scale=1.0, user-scalable=no&quot; /&gt;\n",
       "            &lt;style&gt;\n",
       "                #map_510020e20b827dc029d4b5ee74005b42 {\n",
       "                    position: relative;\n",
       "                    width: 100.0%;\n",
       "                    height: 100.0%;\n",
       "                    left: 0.0%;\n",
       "                    top: 0.0%;\n",
       "                }\n",
       "            &lt;/style&gt;\n",
       "        \n",
       "&lt;/head&gt;\n",
       "&lt;body&gt;    \n",
       "    \n",
       "              &lt;h3 align=&quot;center&quot; style=&quot;font-size:16px&quot;&gt;&lt;b&gt;Recent Miami-Dade Condo Sales &lt;/b&gt;&lt;/h3&gt;\n",
       "             \n",
       "    \n",
       "                &lt;p align=&quot;center&quot; style=&quot;vertical-align: bottom; font-size:13px&quot;&gt;&lt;i&gt;Jan 7th - Jan 13th&lt;/i&gt;&lt;/p&gt;\n",
       "                \n",
       "    \n",
       "            &lt;div class=&quot;folium-map&quot; id=&quot;map_510020e20b827dc029d4b5ee74005b42&quot; &gt;&lt;/div&gt;\n",
       "        \n",
       "&lt;/body&gt;\n",
       "&lt;script&gt;    \n",
       "    \n",
       "            var map_510020e20b827dc029d4b5ee74005b42 = L.map(\n",
       "                &quot;map_510020e20b827dc029d4b5ee74005b42&quot;,\n",
       "                {\n",
       "                    center: [25.861804370000005, -80.12731827999998],\n",
       "                    crs: L.CRS.EPSG3857,\n",
       "                    zoom: 9.5,\n",
       "                    zoomControl: true,\n",
       "                    preferCanvas: false,\n",
       "                }\n",
       "            );\n",
       "\n",
       "            \n",
       "\n",
       "        \n",
       "    \n",
       "            var feature_group_1fd367b33a62064414d68bc6e0c1cec7 = L.featureGroup(\n",
       "                {}\n",
       "            ).addTo(map_510020e20b827dc029d4b5ee74005b42);\n",
       "        \n",
       "    \n",
       "            var marker_2f876a874ba87df446ee159a7fad194a = L.marker(\n",
       "                [25.8782765, -80.1214182],\n",
       "                {&quot;fill&quot;: true, &quot;radius&quot;: 5}\n",
       "            ).addTo(feature_group_1fd367b33a62064414d68bc6e0c1cec7);\n",
       "        \n",
       "    \n",
       "            var icon_b6371f2e17e75c5b27aab253db551969 = L.AwesomeMarkers.icon(\n",
       "                {&quot;extraClasses&quot;: &quot;fa-rotate-0&quot;, &quot;icon&quot;: &quot;info-sign&quot;, &quot;iconColor&quot;: &quot;white&quot;, &quot;markerColor&quot;: &quot;orange&quot;, &quot;prefix&quot;: &quot;glyphicon&quot;}\n",
       "            );\n",
       "            marker_2f876a874ba87df446ee159a7fad194a.setIcon(icon_b6371f2e17e75c5b27aab253db551969);\n",
       "        \n",
       "    \n",
       "        var popup_1911b78748ac20b83c5742345c21d124 = L.popup({&quot;maxWidth&quot;: 400});\n",
       "\n",
       "        \n",
       "            \n",
       "                var html_d71e6c393ec485b9dcfc25ce24d4b6b1 = $(`&lt;div id=&quot;html_d71e6c393ec485b9dcfc25ce24d4b6b1&quot; style=&quot;width: 100.0%; height: 100.0%;&quot;&gt;&lt;!DOCTYPE html&gt;     &lt;html&gt;     &lt;strong&gt;Building Name: &lt;/strong&gt;Surf Club Condo&lt;br&gt;     &lt;strong&gt;Sale Price: &lt;/strong&gt;$15,850,000.00&lt;br&gt;     &lt;strong&gt;Days on Market: &lt;/strong&gt;108&lt;br&gt;     &lt;strong&gt;Listing Agent: &lt;/strong&gt;Dora Puig&lt;br&gt;     &lt;strong&gt;Buyer&#x27;s Agent: &lt;/strong&gt;Michael Martirena&lt;br&gt;     &lt;strong&gt;Price sq ft: &lt;/strong&gt;$4703.26&lt;br&gt;     &lt;strong&gt;Address: &lt;/strong&gt;9111 Collins Ave N-819&lt;br&gt;     &lt;/html&gt;     &lt;/div&gt;`)[0];\n",
       "                popup_1911b78748ac20b83c5742345c21d124.setContent(html_d71e6c393ec485b9dcfc25ce24d4b6b1);\n",
       "            \n",
       "        \n",
       "\n",
       "        marker_2f876a874ba87df446ee159a7fad194a.bindPopup(popup_1911b78748ac20b83c5742345c21d124)\n",
       "        ;\n",
       "\n",
       "        \n",
       "    \n",
       "    \n",
       "            var feature_group_350cfbadd2f4f84eb351e58c5341fe08 = L.featureGroup(\n",
       "                {}\n",
       "            ).addTo(map_510020e20b827dc029d4b5ee74005b42);\n",
       "        \n",
       "    \n",
       "            var marker_25d879287feae4aba477f72bab91b1f0 = L.marker(\n",
       "                [25.8230958, -80.1312295],\n",
       "                {&quot;fill&quot;: true, &quot;radius&quot;: 5}\n",
       "            ).addTo(feature_group_350cfbadd2f4f84eb351e58c5341fe08);\n",
       "        \n",
       "    \n",
       "            var icon_48f3d6c43791559621348cdc54f204dc = L.AwesomeMarkers.icon(\n",
       "                {&quot;extraClasses&quot;: &quot;fa-rotate-0&quot;, &quot;icon&quot;: &quot;info-sign&quot;, &quot;iconColor&quot;: &quot;white&quot;, &quot;markerColor&quot;: &quot;blue&quot;, &quot;prefix&quot;: &quot;glyphicon&quot;}\n",
       "            );\n",
       "            marker_25d879287feae4aba477f72bab91b1f0.setIcon(icon_48f3d6c43791559621348cdc54f204dc);\n",
       "        \n",
       "    \n",
       "        var popup_6c73b61fab23d5e6fef43e7da4582209 = L.popup({&quot;maxWidth&quot;: 400});\n",
       "\n",
       "        \n",
       "            \n",
       "                var html_3b1a03040be2a7df116b168ea0d25b60 = $(`&lt;div id=&quot;html_3b1a03040be2a7df116b168ea0d25b60&quot; style=&quot;width: 100.0%; height: 100.0%;&quot;&gt;&lt;!DOCTYPE html&gt;     &lt;html&gt;     &lt;strong&gt;Building Name: &lt;/strong&gt;Ritz Carlton Residences&lt;br&gt;     &lt;strong&gt;Sale Price: &lt;/strong&gt;$8,000,000.00&lt;br&gt;     &lt;strong&gt;Days on Market: &lt;/strong&gt;173&lt;br&gt;     &lt;strong&gt;Listing Agent: &lt;/strong&gt;Dina Goldentayer&lt;br&gt;     &lt;strong&gt;Buyer&#x27;s Agent: &lt;/strong&gt;Sildy Cervera PA&lt;br&gt;     &lt;strong&gt;Price sq ft: &lt;/strong&gt;$1764.06&lt;br&gt;     &lt;strong&gt;Address: &lt;/strong&gt;4701 N Meridian Ave LPH02 Miami&lt;br&gt;     &lt;/html&gt;     &lt;/div&gt;`)[0];\n",
       "                popup_6c73b61fab23d5e6fef43e7da4582209.setContent(html_3b1a03040be2a7df116b168ea0d25b60);\n",
       "            \n",
       "        \n",
       "\n",
       "        marker_25d879287feae4aba477f72bab91b1f0.bindPopup(popup_6c73b61fab23d5e6fef43e7da4582209)\n",
       "        ;\n",
       "\n",
       "        \n",
       "    \n",
       "    \n",
       "            var marker_83ce1c94ed4645ad2f51f4c1722e86d5 = L.marker(\n",
       "                [25.7701765, -80.1331922],\n",
       "                {&quot;fill&quot;: true, &quot;radius&quot;: 5}\n",
       "            ).addTo(feature_group_350cfbadd2f4f84eb351e58c5341fe08);\n",
       "        \n",
       "    \n",
       "            var icon_3b6e437c0e0233c2c7362fc13cb830fb = L.AwesomeMarkers.icon(\n",
       "                {&quot;extraClasses&quot;: &quot;fa-rotate-0&quot;, &quot;icon&quot;: &quot;info-sign&quot;, &quot;iconColor&quot;: &quot;white&quot;, &quot;markerColor&quot;: &quot;blue&quot;, &quot;prefix&quot;: &quot;glyphicon&quot;}\n",
       "            );\n",
       "            marker_83ce1c94ed4645ad2f51f4c1722e86d5.setIcon(icon_3b6e437c0e0233c2c7362fc13cb830fb);\n",
       "        \n",
       "    \n",
       "        var popup_0530272e1dd6a45e5aa190eb7fe6c55a = L.popup({&quot;maxWidth&quot;: 400});\n",
       "\n",
       "        \n",
       "            \n",
       "                var html_4a492b9c91e2ffe02044305d708be31f = $(`&lt;div id=&quot;html_4a492b9c91e2ffe02044305d708be31f&quot; style=&quot;width: 100.0%; height: 100.0%;&quot;&gt;&lt;!DOCTYPE html&gt;     &lt;html&gt;     &lt;strong&gt;Building Name: &lt;/strong&gt;Glass&lt;br&gt;     &lt;strong&gt;Sale Price: &lt;/strong&gt;$7,200,000.00&lt;br&gt;     &lt;strong&gt;Days on Market: &lt;/strong&gt;146&lt;br&gt;     &lt;strong&gt;Listing Agent: &lt;/strong&gt;Michael Duchon&lt;br&gt;     &lt;strong&gt;Buyer&#x27;s Agent: &lt;/strong&gt;Alan Kamlot&lt;br&gt;     &lt;strong&gt;Price sq ft: &lt;/strong&gt;$2124.52&lt;br&gt;     &lt;strong&gt;Address: &lt;/strong&gt;120 Ocean Dr 900 Miami&lt;br&gt;     &lt;/html&gt;     &lt;/div&gt;`)[0];\n",
       "                popup_0530272e1dd6a45e5aa190eb7fe6c55a.setContent(html_4a492b9c91e2ffe02044305d708be31f);\n",
       "            \n",
       "        \n",
       "\n",
       "        marker_83ce1c94ed4645ad2f51f4c1722e86d5.bindPopup(popup_0530272e1dd6a45e5aa190eb7fe6c55a)\n",
       "        ;\n",
       "\n",
       "        \n",
       "    \n",
       "    \n",
       "            var marker_df182a1d01f1d79c35b6d8e3cc02a521 = L.marker(\n",
       "                [25.9564812, -80.1392121],\n",
       "                {&quot;fill&quot;: true, &quot;radius&quot;: 5}\n",
       "            ).addTo(feature_group_350cfbadd2f4f84eb351e58c5341fe08);\n",
       "        \n",
       "    \n",
       "            var icon_41de056a3168792a02ced31a86082d8b = L.AwesomeMarkers.icon(\n",
       "                {&quot;extraClasses&quot;: &quot;fa-rotate-0&quot;, &quot;icon&quot;: &quot;info-sign&quot;, &quot;iconColor&quot;: &quot;white&quot;, &quot;markerColor&quot;: &quot;blue&quot;, &quot;prefix&quot;: &quot;glyphicon&quot;}\n",
       "            );\n",
       "            marker_df182a1d01f1d79c35b6d8e3cc02a521.setIcon(icon_41de056a3168792a02ced31a86082d8b);\n",
       "        \n",
       "    \n",
       "        var popup_b06413ecf6e17a2a2d0a41cf71acb02b = L.popup({&quot;maxWidth&quot;: 400});\n",
       "\n",
       "        \n",
       "            \n",
       "                var html_a3328bdfccbf6d885c10c5d361df93d4 = $(`&lt;div id=&quot;html_a3328bdfccbf6d885c10c5d361df93d4&quot; style=&quot;width: 100.0%; height: 100.0%;&quot;&gt;&lt;!DOCTYPE html&gt;     &lt;html&gt;     &lt;strong&gt;Building Name: &lt;/strong&gt;Prive at Island Esstates&lt;br&gt;     &lt;strong&gt;Sale Price: &lt;/strong&gt;$3,700,000.00&lt;br&gt;     &lt;strong&gt;Days on Market: &lt;/strong&gt;34&lt;br&gt;     &lt;strong&gt;Listing Agent: &lt;/strong&gt;Jonathan Keith&lt;br&gt;     &lt;strong&gt;Buyer&#x27;s Agent: &lt;/strong&gt;Dany Landry&lt;br&gt;     &lt;strong&gt;Price sq ft: &lt;/strong&gt;$1345.45&lt;br&gt;     &lt;strong&gt;Address: &lt;/strong&gt;5500 E Island Estates Dr 806&lt;br&gt;     &lt;/html&gt;     &lt;/div&gt;`)[0];\n",
       "                popup_b06413ecf6e17a2a2d0a41cf71acb02b.setContent(html_a3328bdfccbf6d885c10c5d361df93d4);\n",
       "            \n",
       "        \n",
       "\n",
       "        marker_df182a1d01f1d79c35b6d8e3cc02a521.bindPopup(popup_b06413ecf6e17a2a2d0a41cf71acb02b)\n",
       "        ;\n",
       "\n",
       "        \n",
       "    \n",
       "    \n",
       "            var marker_ac19cff8f13aef6d621cf9431a671549 = L.marker(\n",
       "                [25.8867878, -80.1221802],\n",
       "                {&quot;fill&quot;: true, &quot;radius&quot;: 5}\n",
       "            ).addTo(feature_group_350cfbadd2f4f84eb351e58c5341fe08);\n",
       "        \n",
       "    \n",
       "            var icon_8cf8a3cfada82bbcd55f9681d54daedf = L.AwesomeMarkers.icon(\n",
       "                {&quot;extraClasses&quot;: &quot;fa-rotate-0&quot;, &quot;icon&quot;: &quot;info-sign&quot;, &quot;iconColor&quot;: &quot;white&quot;, &quot;markerColor&quot;: &quot;blue&quot;, &quot;prefix&quot;: &quot;glyphicon&quot;}\n",
       "            );\n",
       "            marker_ac19cff8f13aef6d621cf9431a671549.setIcon(icon_8cf8a3cfada82bbcd55f9681d54daedf);\n",
       "        \n",
       "    \n",
       "        var popup_1ce25b7308515bdbb2c4f80c04336847 = L.popup({&quot;maxWidth&quot;: 400});\n",
       "\n",
       "        \n",
       "            \n",
       "                var html_44e12c63dbf59c6de113173e7ecded49 = $(`&lt;div id=&quot;html_44e12c63dbf59c6de113173e7ecded49&quot; style=&quot;width: 100.0%; height: 100.0%;&quot;&gt;&lt;!DOCTYPE html&gt;     &lt;html&gt;     &lt;strong&gt;Building Name: &lt;/strong&gt;Solimar Condo&lt;br&gt;     &lt;strong&gt;Sale Price: &lt;/strong&gt;$3,250,000.00&lt;br&gt;     &lt;strong&gt;Days on Market: &lt;/strong&gt;172&lt;br&gt;     &lt;strong&gt;Listing Agent: &lt;/strong&gt;Jimena Duran&lt;br&gt;     &lt;strong&gt;Buyer&#x27;s Agent: &lt;/strong&gt;Shneur Shapira&lt;br&gt;     &lt;strong&gt;Price sq ft: &lt;/strong&gt;$1181.82&lt;br&gt;     &lt;strong&gt;Address: &lt;/strong&gt;9595 Collins Ave S9-B&lt;br&gt;     &lt;/html&gt;     &lt;/div&gt;`)[0];\n",
       "                popup_1ce25b7308515bdbb2c4f80c04336847.setContent(html_44e12c63dbf59c6de113173e7ecded49);\n",
       "            \n",
       "        \n",
       "\n",
       "        marker_ac19cff8f13aef6d621cf9431a671549.bindPopup(popup_1ce25b7308515bdbb2c4f80c04336847)\n",
       "        ;\n",
       "\n",
       "        \n",
       "    \n",
       "    \n",
       "            var marker_b9df8bfa01c7b321917e3a3eec7f29db = L.marker(\n",
       "                [25.8225276, -80.1215168],\n",
       "                {&quot;fill&quot;: true, &quot;radius&quot;: 5}\n",
       "            ).addTo(feature_group_350cfbadd2f4f84eb351e58c5341fe08);\n",
       "        \n",
       "    \n",
       "            var icon_33a5b1f9ffc84442f0817f7d709c0a4b = L.AwesomeMarkers.icon(\n",
       "                {&quot;extraClasses&quot;: &quot;fa-rotate-0&quot;, &quot;icon&quot;: &quot;info-sign&quot;, &quot;iconColor&quot;: &quot;white&quot;, &quot;markerColor&quot;: &quot;blue&quot;, &quot;prefix&quot;: &quot;glyphicon&quot;}\n",
       "            );\n",
       "            marker_b9df8bfa01c7b321917e3a3eec7f29db.setIcon(icon_33a5b1f9ffc84442f0817f7d709c0a4b);\n",
       "        \n",
       "    \n",
       "        var popup_c1d7a45a9871eb55c7e35e065e46c9f9 = L.popup({&quot;maxWidth&quot;: 400});\n",
       "\n",
       "        \n",
       "            \n",
       "                var html_b9790f5b74e1997e7ed1f1949855aee3 = $(`&lt;div id=&quot;html_b9790f5b74e1997e7ed1f1949855aee3&quot; style=&quot;width: 100.0%; height: 100.0%;&quot;&gt;&lt;!DOCTYPE html&gt;     &lt;html&gt;     &lt;strong&gt;Building Name: &lt;/strong&gt;Green Diamond Condo&lt;br&gt;     &lt;strong&gt;Sale Price: &lt;/strong&gt;$2,720,000.00&lt;br&gt;     &lt;strong&gt;Days on Market: &lt;/strong&gt;146&lt;br&gt;     &lt;strong&gt;Listing Agent: &lt;/strong&gt;Michele Redlich&lt;br&gt;     &lt;strong&gt;Buyer&#x27;s Agent: &lt;/strong&gt;Claudia Whitechurch&lt;br&gt;     &lt;strong&gt;Price sq ft: &lt;/strong&gt;$1353.23&lt;br&gt;     &lt;strong&gt;Address: &lt;/strong&gt;4775 Collins Ave 2401 Miami&lt;br&gt;     &lt;/html&gt;     &lt;/div&gt;`)[0];\n",
       "                popup_c1d7a45a9871eb55c7e35e065e46c9f9.setContent(html_b9790f5b74e1997e7ed1f1949855aee3);\n",
       "            \n",
       "        \n",
       "\n",
       "        marker_b9df8bfa01c7b321917e3a3eec7f29db.bindPopup(popup_c1d7a45a9871eb55c7e35e065e46c9f9)\n",
       "        ;\n",
       "\n",
       "        \n",
       "    \n",
       "    \n",
       "            var marker_d75aa0fa85d3c1099a4800b899005457 = L.marker(\n",
       "                [25.7679907, -80.13478909999999],\n",
       "                {&quot;fill&quot;: true, &quot;radius&quot;: 5}\n",
       "            ).addTo(feature_group_350cfbadd2f4f84eb351e58c5341fe08);\n",
       "        \n",
       "    \n",
       "            var icon_315dcfa09b195d3a91db642daa5bc0a2 = L.AwesomeMarkers.icon(\n",
       "                {&quot;extraClasses&quot;: &quot;fa-rotate-0&quot;, &quot;icon&quot;: &quot;info-sign&quot;, &quot;iconColor&quot;: &quot;white&quot;, &quot;markerColor&quot;: &quot;blue&quot;, &quot;prefix&quot;: &quot;glyphicon&quot;}\n",
       "            );\n",
       "            marker_d75aa0fa85d3c1099a4800b899005457.setIcon(icon_315dcfa09b195d3a91db642daa5bc0a2);\n",
       "        \n",
       "    \n",
       "        var popup_ffd76fec2c7c2e5ce7cd92e27a2719be = L.popup({&quot;maxWidth&quot;: 400});\n",
       "\n",
       "        \n",
       "            \n",
       "                var html_594904eb19829abc045eb446b3c9d949 = $(`&lt;div id=&quot;html_594904eb19829abc045eb446b3c9d949&quot; style=&quot;width: 100.0%; height: 100.0%;&quot;&gt;&lt;!DOCTYPE html&gt;     &lt;html&gt;     &lt;strong&gt;Building Name: &lt;/strong&gt;Porto Fino Towers&lt;br&gt;     &lt;strong&gt;Sale Price: &lt;/strong&gt;$2,700,000.00&lt;br&gt;     &lt;strong&gt;Days on Market: &lt;/strong&gt;263&lt;br&gt;     &lt;strong&gt;Listing Agent: &lt;/strong&gt;Ileana Salman&lt;br&gt;     &lt;strong&gt;Buyer&#x27;s Agent: &lt;/strong&gt;Stefano Santoro&lt;br&gt;     &lt;strong&gt;Price sq ft: &lt;/strong&gt;$1153.85&lt;br&gt;     &lt;strong&gt;Address: &lt;/strong&gt;300 S Pointe Dr 903 Miami&lt;br&gt;     &lt;/html&gt;     &lt;/div&gt;`)[0];\n",
       "                popup_ffd76fec2c7c2e5ce7cd92e27a2719be.setContent(html_594904eb19829abc045eb446b3c9d949);\n",
       "            \n",
       "        \n",
       "\n",
       "        marker_d75aa0fa85d3c1099a4800b899005457.bindPopup(popup_ffd76fec2c7c2e5ce7cd92e27a2719be)\n",
       "        ;\n",
       "\n",
       "        \n",
       "    \n",
       "    \n",
       "            var marker_51a216ee2ac500c50446a24e56013e6d = L.marker(\n",
       "                [25.816664, -80.122726],\n",
       "                {&quot;fill&quot;: true, &quot;radius&quot;: 5}\n",
       "            ).addTo(feature_group_350cfbadd2f4f84eb351e58c5341fe08);\n",
       "        \n",
       "    \n",
       "            var icon_0c705b5b35b4479029bcf9d6bcafde1d = L.AwesomeMarkers.icon(\n",
       "                {&quot;extraClasses&quot;: &quot;fa-rotate-0&quot;, &quot;icon&quot;: &quot;info-sign&quot;, &quot;iconColor&quot;: &quot;white&quot;, &quot;markerColor&quot;: &quot;blue&quot;, &quot;prefix&quot;: &quot;glyphicon&quot;}\n",
       "            );\n",
       "            marker_51a216ee2ac500c50446a24e56013e6d.setIcon(icon_0c705b5b35b4479029bcf9d6bcafde1d);\n",
       "        \n",
       "    \n",
       "        var popup_74b2f9cb909af2595334382a6ebeee2d = L.popup({&quot;maxWidth&quot;: 400});\n",
       "\n",
       "        \n",
       "            \n",
       "                var html_f5634deabb0c808944e0bc165ef62e48 = $(`&lt;div id=&quot;html_f5634deabb0c808944e0bc165ef62e48&quot; style=&quot;width: 100.0%; height: 100.0%;&quot;&gt;&lt;!DOCTYPE html&gt;     &lt;html&gt;     &lt;strong&gt;Building Name: &lt;/strong&gt;Fontainbleau&lt;br&gt;     &lt;strong&gt;Sale Price: &lt;/strong&gt;$2,100,000.00&lt;br&gt;     &lt;strong&gt;Days on Market: &lt;/strong&gt;60&lt;br&gt;     &lt;strong&gt;Listing Agent: &lt;/strong&gt;Menachem Fellig&lt;br&gt;     &lt;strong&gt;Buyer&#x27;s Agent: &lt;/strong&gt;Michele Redlich&lt;br&gt;     &lt;strong&gt;Price sq ft: &lt;/strong&gt;$1348.75&lt;br&gt;     &lt;strong&gt;Address: &lt;/strong&gt;II/Tresor 4401 Collins Ave 1015/1017 Miami&lt;br&gt;     &lt;/html&gt;     &lt;/div&gt;`)[0];\n",
       "                popup_74b2f9cb909af2595334382a6ebeee2d.setContent(html_f5634deabb0c808944e0bc165ef62e48);\n",
       "            \n",
       "        \n",
       "\n",
       "        marker_51a216ee2ac500c50446a24e56013e6d.bindPopup(popup_74b2f9cb909af2595334382a6ebeee2d)\n",
       "        ;\n",
       "\n",
       "        \n",
       "    \n",
       "    \n",
       "            var marker_d72459c69da3ebbeec899d51fad20fa0 = L.marker(\n",
       "                [25.9625171, -80.1257641],\n",
       "                {&quot;fill&quot;: true, &quot;radius&quot;: 5}\n",
       "            ).addTo(feature_group_350cfbadd2f4f84eb351e58c5341fe08);\n",
       "        \n",
       "    \n",
       "            var icon_6a363d2d161bba70c30b5a6ee52f113a = L.AwesomeMarkers.icon(\n",
       "                {&quot;extraClasses&quot;: &quot;fa-rotate-0&quot;, &quot;icon&quot;: &quot;info-sign&quot;, &quot;iconColor&quot;: &quot;white&quot;, &quot;markerColor&quot;: &quot;blue&quot;, &quot;prefix&quot;: &quot;glyphicon&quot;}\n",
       "            );\n",
       "            marker_d72459c69da3ebbeec899d51fad20fa0.setIcon(icon_6a363d2d161bba70c30b5a6ee52f113a);\n",
       "        \n",
       "    \n",
       "        var popup_eec648dcd01fe0b9697c05368461e9e7 = L.popup({&quot;maxWidth&quot;: 400});\n",
       "\n",
       "        \n",
       "            \n",
       "                var html_ce8c5f4c9c98a16f9c9c8161216322ad = $(`&lt;div id=&quot;html_ce8c5f4c9c98a16f9c9c8161216322ad&quot; style=&quot;width: 100.0%; height: 100.0%;&quot;&gt;&lt;!DOCTYPE html&gt;     &lt;html&gt;     &lt;strong&gt;Building Name: &lt;/strong&gt;Porto Vita North&lt;br&gt;     &lt;strong&gt;Sale Price: &lt;/strong&gt;$2,050,000.00&lt;br&gt;     &lt;strong&gt;Days on Market: &lt;/strong&gt;31&lt;br&gt;     &lt;strong&gt;Listing Agent: &lt;/strong&gt;Beth Geduld&lt;br&gt;     &lt;strong&gt;Buyer&#x27;s Agent: &lt;/strong&gt;Beth Geduld&lt;br&gt;     &lt;strong&gt;Price sq ft: &lt;/strong&gt;$605.61&lt;br&gt;     &lt;strong&gt;Address: &lt;/strong&gt;20155 NE 38th Ct 503&lt;br&gt;     &lt;/html&gt;     &lt;/div&gt;`)[0];\n",
       "                popup_eec648dcd01fe0b9697c05368461e9e7.setContent(html_ce8c5f4c9c98a16f9c9c8161216322ad);\n",
       "            \n",
       "        \n",
       "\n",
       "        marker_d72459c69da3ebbeec899d51fad20fa0.bindPopup(popup_eec648dcd01fe0b9697c05368461e9e7)\n",
       "        ;\n",
       "\n",
       "        \n",
       "    \n",
       "    \n",
       "            var marker_b87d19904a3eace7f45c45f8f8e92b50 = L.marker(\n",
       "                [25.9335265, -80.1211546],\n",
       "                {&quot;fill&quot;: true, &quot;radius&quot;: 5}\n",
       "            ).addTo(feature_group_350cfbadd2f4f84eb351e58c5341fe08);\n",
       "        \n",
       "    \n",
       "            var icon_a858fc43a523b4299e9e72345e0f030d = L.AwesomeMarkers.icon(\n",
       "                {&quot;extraClasses&quot;: &quot;fa-rotate-0&quot;, &quot;icon&quot;: &quot;info-sign&quot;, &quot;iconColor&quot;: &quot;white&quot;, &quot;markerColor&quot;: &quot;blue&quot;, &quot;prefix&quot;: &quot;glyphicon&quot;}\n",
       "            );\n",
       "            marker_b87d19904a3eace7f45c45f8f8e92b50.setIcon(icon_a858fc43a523b4299e9e72345e0f030d);\n",
       "        \n",
       "    \n",
       "        var popup_8ce0edf949a55823eaa18cca541b69ed = L.popup({&quot;maxWidth&quot;: 400});\n",
       "\n",
       "        \n",
       "            \n",
       "                var html_1182377ce901f8478e2740cd7acee59a = $(`&lt;div id=&quot;html_1182377ce901f8478e2740cd7acee59a&quot; style=&quot;width: 100.0%; height: 100.0%;&quot;&gt;&lt;!DOCTYPE html&gt;     &lt;html&gt;     &lt;strong&gt;Building Name: &lt;/strong&gt;Jade Beach Condo&lt;br&gt;     &lt;strong&gt;Sale Price: &lt;/strong&gt;$2,000,000.00&lt;br&gt;     &lt;strong&gt;Days on Market: &lt;/strong&gt;59&lt;br&gt;     &lt;strong&gt;Listing Agent: &lt;/strong&gt;Samuel Strauch&lt;br&gt;     &lt;strong&gt;Buyer&#x27;s Agent: &lt;/strong&gt;Myroslava Dysko&lt;br&gt;     &lt;strong&gt;Price sq ft: &lt;/strong&gt;$1352.27&lt;br&gt;     &lt;strong&gt;Address: &lt;/strong&gt;17001 Collins Ave 2707 Sunny Isles&lt;br&gt;     &lt;/html&gt;     &lt;/div&gt;`)[0];\n",
       "                popup_8ce0edf949a55823eaa18cca541b69ed.setContent(html_1182377ce901f8478e2740cd7acee59a);\n",
       "            \n",
       "        \n",
       "\n",
       "        marker_b87d19904a3eace7f45c45f8f8e92b50.bindPopup(popup_8ce0edf949a55823eaa18cca541b69ed)\n",
       "        ;\n",
       "\n",
       "        \n",
       "    \n",
       "    \n",
       "            var tile_layer_34f6f0f25ccbd4d538205ea51d4fcd84 = L.tileLayer(\n",
       "                &quot;https://{s}.tile.openstreetmap.org/{z}/{x}/{y}.png&quot;,\n",
       "                {&quot;attribution&quot;: &quot;Data by \\u0026copy; \\u003ca href=\\&quot;http://openstreetmap.org\\&quot;\\u003eOpenStreetMap\\u003c/a\\u003e, under \\u003ca href=\\&quot;http://www.openstreetmap.org/copyright\\&quot;\\u003eODbL\\u003c/a\\u003e.&quot;, &quot;detectRetina&quot;: false, &quot;maxNativeZoom&quot;: 18, &quot;maxZoom&quot;: 18, &quot;minZoom&quot;: 0, &quot;noWrap&quot;: false, &quot;opacity&quot;: 1, &quot;subdomains&quot;: &quot;abc&quot;, &quot;tms&quot;: false}\n",
       "            ).addTo(map_510020e20b827dc029d4b5ee74005b42);\n",
       "        \n",
       "    \n",
       "            var layer_control_ec7cf4d74f8f25bf3502df44dcb0fbe7 = {\n",
       "                base_layers : {\n",
       "                },\n",
       "                overlays :  {\n",
       "                    &quot;Top Sale&quot; : feature_group_1fd367b33a62064414d68bc6e0c1cec7,\n",
       "                    &quot;All other sales&quot; : feature_group_350cfbadd2f4f84eb351e58c5341fe08,\n",
       "                },\n",
       "            };\n",
       "            L.control.layers(\n",
       "                layer_control_ec7cf4d74f8f25bf3502df44dcb0fbe7.base_layers,\n",
       "                layer_control_ec7cf4d74f8f25bf3502df44dcb0fbe7.overlays,\n",
       "                {&quot;autoZIndex&quot;: true, &quot;collapsed&quot;: false, &quot;position&quot;: &quot;topright&quot;}\n",
       "            ).addTo(map_510020e20b827dc029d4b5ee74005b42);\n",
       "        \n",
       "&lt;/script&gt;\" style=\"position:absolute;width:100%;height:100%;left:0;top:0;border:none !important;\" allowfullscreen webkitallowfullscreen mozallowfullscreen></iframe></div></div>"
      ],
      "text/plain": [
       "<folium.folium.Map at 0x7f8c29d885b0>"
      ]
     },
     "execution_count": 20,
     "metadata": {},
     "output_type": "execute_result"
    }
   ],
   "source": [
    "import folium\n",
    "from folium.plugins import MarkerCluster\n",
    "\n",
    "m = folium.Map(location=df[[\"lat\", \"lon\"]].mean().to_list(), zoom_start=10)\n",
    "\n",
    "title_html = '''\n",
    "              <h3 align=\"center\" style=\"font-size:16px\"><b>{}</b></h3>\n",
    "             '''.format(f'Recent Miami-Dade Condo Sales ')\n",
    "\n",
    "caption_html = '''\n",
    "                <p align=\"center\" style=\"vertical-align: bottom; font-size:13px\"><i>{}</i></p>\n",
    "                '''.format(f'{week_starting} - {week_ending}')\n",
    "\n",
    "\n",
    "### Create map container ###\n",
    "m = folium.Map(location=df[[\"lat\", \"lon\"]].mean().to_list(),zoom_start=9.5,tiles=None)\n",
    "\n",
    "# Create two FeatureGroups for different color pins\n",
    "fg_blue = folium.FeatureGroup(name='All other sales')\n",
    "fg_orange = folium.FeatureGroup(name='Top Sale')\n",
    "\n",
    "for index, row in df.iterrows():\n",
    "    # Add the markers to the appropriate FeatureGroup based on the color\n",
    "    if row['COLOR'] == 'blue':\n",
    "        marker = folium.Marker(\n",
    "            location=[row['lat'], row['lon']],\n",
    "            radius=5,\n",
    "            fill=True,\n",
    "            icon=folium.Icon(color=row['COLOR']),\n",
    "            popup=folium.Popup(popup_html(row), max_width=400))\n",
    "        marker.add_to(fg_blue)\n",
    "    else:\n",
    "        marker = folium.Marker(\n",
    "            location=[row['lat'], row['lon']],\n",
    "            radius=5,\n",
    "            fill=True,\n",
    "            icon=folium.Icon(color=row['COLOR']),\n",
    "            popup=folium.Popup(popup_html(row), max_width=400))\n",
    "        marker.add_to(fg_orange)\n",
    "\n",
    "# Add the FeatureGroups to the map\n",
    "fg_orange.add_to(m)\n",
    "fg_blue.add_to(m)\n",
    "\n",
    "folium.TileLayer('OpenStreetMap',control=False).add_to(m)\n",
    "\n",
    "# Add LayerControl to the map\n",
    "folium.map.LayerControl(collapsed=False).add_to(m)\n",
    "m.get_root().html.add_child(folium.Element(title_html))\n",
    "m.get_root().html.add_child(folium.Element(caption_html))\n",
    "            \n",
    "# Display map\n",
    "m"
   ]
  },
  {
   "cell_type": "code",
   "execution_count": 21,
   "metadata": {},
   "outputs": [],
   "source": [
    "m.save('index.html')"
   ]
  },
  {
   "cell_type": "markdown",
   "metadata": {},
   "source": [
    "## Data snagger"
   ]
  },
  {
   "cell_type": "code",
   "execution_count": 22,
   "metadata": {},
   "outputs": [],
   "source": [
    "### Set up formatting ###\n",
    "BR = '\\n'\n",
    "\n",
    "ME = '\\033[1m' + 'Most Expensive' + '\\033[0m'\n",
    "LE = '\\033[1m' + 'Least Expensive' + '\\033[0m'\n",
    "\n",
    "MAX_PSF = '\\033[1m' + 'Highest Price Per Square Foot' + '\\033[0m'\n",
    "MIN_PSF = '\\033[1m' + 'Lowest Price Per Square Foot' + '\\033[0m'\n",
    "\n",
    "DAYS_MAX = '\\033[1m' + 'Most Days on Market' + '\\033[0m'\n",
    "DAYS_MIN = '\\033[1m' + 'Fewest Days on Market' + '\\033[0m'"
   ]
  },
  {
   "cell_type": "code",
   "execution_count": 23,
   "metadata": {},
   "outputs": [
    {
     "name": "stdout",
     "output_type": "stream",
     "text": [
      "\u001b[1mMost Expensive\u001b[0m\n",
      "Surf Club Condo, 9111 Collins Ave N-819 | Price $15,850,000 | $4,703 psf | Listing agent: Dora Puig with Luxe Living Realty | Buyer's agent: Michael Martirena with Compass Florida, LLC. | Days on market: 108\n",
      "\u001b[1mLeast Expensive\u001b[0m\n",
      "Jade Beach Condo, 17001 Collins Ave 2707 Sunny Isles | Price $2,000,000 | $1,352 psf | Listing agent: Samuel Strauch with Metrik Real Estate LLC | Buyer's agent: Myroslava Dysko with Core Realty Associates, Inc. | Days on market: 59\n",
      "\u001b[1mHighest Price Per Square Foot\u001b[0m\n",
      "Surf Club Condo, 9111 Collins Ave N-819 | Price $15,850,000 | $4,703 psf | Listing agent: Dora Puig with Luxe Living Realty | Buyer's agent: Michael Martirena with Compass Florida, LLC. | Days on market: 108\n",
      "\u001b[1mLowest Price Per Square Foot\u001b[0m\n",
      "Porto Vita North, 20155 NE 38th Ct 503 | Price $2,050,000 | $606 psf | Listing agent: Beth Geduld with Charles Rutenberg Realty FTL | Buyer's agent: Beth Geduld with Charles Rutenberg Realty FTL | Days on market: 31\n",
      "\u001b[1mMost Days on Market\u001b[0m\n",
      "Porto Fino Towers, 300 S Pointe Dr 903 Miami | Price $2,700,000 | $1,154 psf | Listing agent: Ileana Salman with Paramount Realty Sales, LLC | Buyer's agent: Stefano Santoro with Beachfront Realty Inc | Days on market: 263\n",
      "\u001b[1mFewest Days on Market\u001b[0m\n",
      "Porto Vita North, 20155 NE 38th Ct 503 | Price $2,050,000 | $606 psf | Listing agent: Beth Geduld with Charles Rutenberg Realty FTL | Buyer's agent: Beth Geduld with Charles Rutenberg Realty FTL | Days on market: 31\n"
     ]
    }
   ],
   "source": [
    "### Highest and lowest sale price ###\n",
    "print(f\"{ME}{BR}{df.loc[df['int_Sale_Price'].idxmax()]['building_name']}, {df.loc[df['int_Sale_Price'].idxmax()]['address']} | Price ${df.loc[df['int_Sale_Price'].idxmax()]['int_Sale_Price']:,.0f} | ${df.loc[df['int_Sale_Price'].idxmax()]['price_per_sqft']:,.0f} psf | Listing agent: {df.loc[df['int_Sale_Price'].idxmax()]['Agent']} with {df.loc[df['int_Sale_Price'].idxmax()]['Listing Broker']} | Buyer's agent: {df.loc[df['int_Sale_Price'].idxmax()]['Buyer Agent']} with {df.loc[df['int_Sale_Price'].idxmax()]['Buyer Broker']} | Days on market: {df.loc[df['int_Sale_Price'].idxmax()]['days_on_market']}\")\n",
    "print(f\"{LE}{BR}{df.loc[df['int_Sale_Price'].idxmin()]['building_name']}, {df.loc[df['int_Sale_Price'].idxmin()]['address']} | Price ${df.loc[df['int_Sale_Price'].idxmin()]['int_Sale_Price']:,.0f} | ${df.loc[df['int_Sale_Price'].idxmin()]['price_per_sqft']:,.0f} psf | Listing agent: {df.loc[df['int_Sale_Price'].idxmin()]['Agent']} with {df.loc[df['int_Sale_Price'].idxmin()]['Listing Broker']} | Buyer's agent: {df.loc[df['int_Sale_Price'].idxmin()]['Buyer Agent']} with {df.loc[df['int_Sale_Price'].idxmin()]['Buyer Broker']} | Days on market: {df.loc[df['int_Sale_Price'].idxmin()]['days_on_market']}\")\n",
    "### Highest and lowest psf ###\n",
    "print(f\"{MAX_PSF}{BR}{df.loc[df['price_per_sqft'].idxmax()]['building_name']}, {df.loc[df['price_per_sqft'].idxmax()]['address']} | Price ${df.loc[df['price_per_sqft'].idxmax()]['int_Sale_Price']:,.0f} | ${df.loc[df['price_per_sqft'].idxmax()]['price_per_sqft']:,.0f} psf | Listing agent: {df.loc[df['price_per_sqft'].idxmax()]['Agent']} with {df.loc[df['price_per_sqft'].idxmax()]['Listing Broker']} | Buyer's agent: {df.loc[df['price_per_sqft'].idxmax()]['Buyer Agent']} with {df.loc[df['price_per_sqft'].idxmax()]['Buyer Broker']} | Days on market: {df.loc[df['price_per_sqft'].idxmax()]['days_on_market']}\")\n",
    "print(f\"{MIN_PSF}{BR}{df.loc[df['price_per_sqft'].idxmin()]['building_name']}, {df.loc[df['price_per_sqft'].idxmin()]['address']} | Price ${df.loc[df['price_per_sqft'].idxmin()]['int_Sale_Price']:,.0f} | ${df.loc[df['price_per_sqft'].idxmin()]['price_per_sqft']:,.0f} psf | Listing agent: {df.loc[df['price_per_sqft'].idxmin()]['Agent']} with {df.loc[df['price_per_sqft'].idxmin()]['Listing Broker']} | Buyer's agent: {df.loc[df['price_per_sqft'].idxmin()]['Buyer Agent']} with {df.loc[df['price_per_sqft'].idxmin()]['Buyer Broker']} | Days on market: {df.loc[df['price_per_sqft'].idxmin()]['days_on_market']}\")\n",
    "### Highest and lowest days on market ###\n",
    "print(f\"{DAYS_MAX}{BR}{df.loc[df['days_on_market'].idxmax()]['building_name']}, {df.loc[df['days_on_market'].idxmax()]['address']} | Price ${df.loc[df['days_on_market'].idxmax()]['int_Sale_Price']:,.0f} | ${df.loc[df['days_on_market'].idxmax()]['price_per_sqft']:,.0f} psf | Listing agent: {df.loc[df['days_on_market'].idxmax()]['Agent']} with {df.loc[df['days_on_market'].idxmax()]['Listing Broker']} | Buyer's agent: {df.loc[df['days_on_market'].idxmax()]['Buyer Agent']} with {df.loc[df['days_on_market'].idxmax()]['Buyer Broker']} | Days on market: {df.loc[df['days_on_market'].idxmax()]['days_on_market']}\")\n",
    "print(f\"{DAYS_MIN}{BR}{df.loc[df['days_on_market'].idxmin()]['building_name']}, {df.loc[df['days_on_market'].idxmin()]['address']} | Price ${df.loc[df['days_on_market'].idxmin()]['int_Sale_Price']:,.0f} | ${df.loc[df['days_on_market'].idxmin()]['price_per_sqft']:,.0f} psf | Listing agent: {df.loc[df['days_on_market'].idxmin()]['Agent']} with {df.loc[df['days_on_market'].idxmin()]['Listing Broker']} | Buyer's agent: {df.loc[df['days_on_market'].idxmin()]['Buyer Agent']} with {df.loc[df['days_on_market'].idxmin()]['Buyer Broker']} | Days on market: {df.loc[df['days_on_market'].idxmin()]['days_on_market']}\")"
   ]
  },
  {
   "cell_type": "code",
   "execution_count": 24,
   "metadata": {},
   "outputs": [
    {
     "data": {
      "text/plain": [
       "119.2"
      ]
     },
     "execution_count": 24,
     "metadata": {},
     "output_type": "execute_result"
    }
   ],
   "source": [
    "df['days_on_market'].mean()"
   ]
  },
  {
   "cell_type": "markdown",
   "metadata": {},
   "source": [
    "## Map URL snagger"
   ]
  },
  {
   "cell_type": "markdown",
   "metadata": {},
   "source": [
    "Map template URL: `https://trd-digital.github.io/trd-news-interactive-maps/{map-folder-name}`"
   ]
  },
  {
   "cell_type": "code",
   "execution_count": 25,
   "metadata": {},
   "outputs": [
    {
     "name": "stdout",
     "output_type": "stream",
     "text": [
      "https://trd-digital.github.io/trd-news-interactive-maps/condo_sales_week_ending_01132023\n"
     ]
    }
   ],
   "source": [
    "base_name = 'https://trd-digital.github.io/trd-news-interactive-maps/'\n",
    "\n",
    "cwd = os.getcwd()\n",
    "\n",
    "cwd = cwd.split('/')\n",
    "\n",
    "final_name = base_name + cwd[-1]\n",
    "print(final_name)"
   ]
  },
  {
   "cell_type": "markdown",
   "metadata": {},
   "source": [
    "# CREATE TEMPLATE "
   ]
  },
  {
   "cell_type": "code",
   "execution_count": 26,
   "metadata": {},
   "outputs": [],
   "source": [
    "df['muni_name'] = df['building_address_city'].str.split('\\r').str[-1]"
   ]
  },
  {
   "cell_type": "code",
   "execution_count": 27,
   "metadata": {},
   "outputs": [],
   "source": [
    "muni_set = set(df['muni_name'])"
   ]
  },
  {
   "cell_type": "code",
   "execution_count": 28,
   "metadata": {},
   "outputs": [],
   "source": [
    "df['building_address_city_clean'] = df['building_address_city'].str.split('\\r')"
   ]
  },
  {
   "cell_type": "code",
   "execution_count": 29,
   "metadata": {},
   "outputs": [],
   "source": [
    "top_sale = df.at[1, 'building_address_city_clean']\n",
    "second_top_sale = df.at[2,'building_address_city_clean']"
   ]
  },
  {
   "cell_type": "code",
   "execution_count": 59,
   "metadata": {},
   "outputs": [
    {
     "data": {
      "text/plain": [
       "'higher'"
      ]
     },
     "execution_count": 59,
     "metadata": {},
     "output_type": "execute_result"
    }
   ],
   "source": [
    "change"
   ]
  },
  {
   "cell_type": "code",
   "execution_count": 58,
   "metadata": {},
   "outputs": [],
   "source": [
    "### Average Sales Price ###\n",
    "if float(average_sale_price) > float(previous_week_average_sales_price):\n",
    "    change = 'higher'\n",
    "    difference = float(average_sale_price) - float(previous_week_average_sales_price)\n",
    "else:\n",
    "    change = 'lower'\n",
    "    difference = float(previous_week_average_sales_price) - float(average_sale_price)\n",
    "    \n",
    "### Total condo dollar volume ###\n",
    "if float(current_week_condo_sales_total) > float(previous_week_condo_sales_total):\n",
    "    seo_head = 'Rises'\n",
    "elif float(previous_week_condo_sales_total) < float(current_week_condo_sales_total):\n",
    "    seo_head = 'Falls'\n",
    "else:\n",
    "    seo_head = 'Unchanged'\n",
    "    \n",
    "\n",
    "### Average PSF ###    \n",
    "if float(average_price_psf) > float(previous_week_average_psf):\n",
    "    psf_rf = 'rose'\n",
    "elif float(average_price_psf) < float(previous_week_average_psf):\n",
    "    psf_rf ='fell'\n",
    "else:\n",
    "    psf_rf = 'equaled'"
   ]
  },
  {
   "cell_type": "code",
   "execution_count": 60,
   "metadata": {},
   "outputs": [
    {
     "data": {
      "text/plain": [
       "139677.43999999994"
      ]
     },
     "execution_count": 60,
     "metadata": {},
     "output_type": "execute_result"
    }
   ],
   "source": [
    "difference"
   ]
  },
  {
   "cell_type": "code",
   "execution_count": 61,
   "metadata": {},
   "outputs": [],
   "source": [
    "story_string = f'''\n",
    "\\033[1mHED:\\033[0m {df.loc[df['int_Sale_Price'].idxmax()]['building_name']} tops Miami-Dade weekly condo sales \n",
    "\\033[1mDEK:\\033[0m Top 10 sales ranged from {df.at[10,'Sale Price']} to {df.at[1,'Sale Price']}\n",
    "\\033[1mFEATURED HED:\\033[0m\n",
    "\\033[1mSEO HED:\\033[0m Miami-Dade County Weekly Condo Report \n",
    "\\033[1mSEO DESCRIPTION:\\033[0m Miami-Dade County’s condo sales XXXXXXX\n",
    "\\033[1mAUTHOR:\\033[0m Adam Farence\n",
    "\\033[1mRESEARCH:\\033[0m \n",
    "\\033[1mSocial:\\033[0m #MiamiDade condo sales XXXXX\n",
    "\\033[1mART:\\033[0m\n",
    "\n",
    "Credit condo.com with the image below and the PDF chart in the story\n",
    "{top_condo_image_url}\n",
    "\n",
    "Interactive map\n",
    "\n",
    "*Please provide credits for any images that you share\n",
    "\\033[1mSTORY TYPE:\\033[0m Report\n",
    "\\033[1mSECTOR\\033[0m (formerly CATEGORY): Residential Real Estate\n",
    "\\033[1mTAGS:\\033[0m condo sales, Miami-Dade County, weekly condo sales, {', '.join(str(x) for x in muni_set)}\n",
    "\n",
    "\\033[1mNeighborhood:\\033[0m \n",
    "\\033[1mProperty:\\033[0m\n",
    "\\033[1mProperty Type:\\033[0m\n",
    "\\033[1mCompanies:\\033[0m \n",
    "\\033[1mPeople:\\033[0m\n",
    "\\033[1mIssues:\\033[0m\n",
    "\\033[1mRegion:\\033[0m\n",
    "\n",
    "\n",
    "Miami-Dade County’s NEWS PEG HERE.\n",
    "\n",
    "Brokers closed {int(current_week_condo_sales):,.0f} condo sales totaling ${float(current_week_condo_sales_total):,.0f} from {week_starting} to {week_ending}. The previous week, brokers closed {previous_week_condo_sales} condo sales totaling ${int(previous_week_condo_sales_total):,.0f}.\n",
    "\n",
    "Last week’s units sold for an average of ${float(average_sale_price):,.0f}, {change} than the ${float(previous_week_average_sales_price):,.0f} from the previous week. The average price per square foot {psf_rf} to ${average_price_psf} from ${previous_week_average_psf}, according to data from condo.com. Condos closed after an average of {average_days_on_market} days on the market.\n",
    "\n",
    "For the top 10 sales, prices ranged from {df.at[10,'Sale Price']} to {df.at[1,'Sale Price']}. \n",
    "\n",
    "{top_sale[0]}, at {top_sale[1]} in {top_sale[2]} took the top spot with a {df.at[1,'Sale Price']} million closing. {df.at[1,'Agent']} with {df.at[1,'Listing Broker']} had the listing. {df.at[1,'Buyer Agent']} with {df.at[1,'Buyer Broker']} represented the buyer. The sale closed after {df.at[1,'days_on_market']} days on the market at ${df.at[1,'price_per_sqft']} per square foot.\n",
    "\n",
    "{second_top_sale[0]} in {second_top_sale[2]}, at {second_top_sale[1]}, closed for the second highest amount, {df.at[2,'Sale Price']}, or ${df.at[2,'price_per_sqft']} per square foot, after {df.at[2,'days_on_market']} days on the market. {df.at[2,'Agent']} with {df.at[2,'Listing Broker']} had the listing. {df.at[2,'Buyer Agent']} with {df.at[2,'Buyer Broker']} represented the buyer.\n",
    "\n",
    "<figure>\n",
    " <div class=\"container\">\n",
    "   <div class=\"iframe-wrap\">\n",
    "   <iframe src=\"{final_name}\" width=\"100%\" height=\"800\" frameBorder=\"0\" scrolling=\"no\"></iframe>\n",
    "  </div>\n",
    "</div>\n",
    "  <figcaption align=\"right\"><a href=\"https://leafletjs.com/\">Leaflet</a> map created by Adam Farence | Data by © <a href=\"https://www.openstreetmap.org/#map=4/38.01/-95.84\"> OpenStreetMap</a>, under <a href=\"https://www.openstreetmap.org/copyright\">ODbl.</a></figcaption>\n",
    "</figure>\n",
    "\n",
    "Here’s a breakdown of the top 10 sales from {week_starting} to {week_ending}:\n",
    "'''\n",
    "\n",
    "# print(story_string)"
   ]
  },
  {
   "cell_type": "code",
   "execution_count": 67,
   "metadata": {},
   "outputs": [],
   "source": [
    "story_checklist = '''\n",
    "\\033[1mRemember to...:\\033[0m\n",
    "\n",
    "1. Double check all names. Sometimes names differ between the hed and the body of the story.\n",
    "    For example, \"Surf Club Four Seasons\" in the HED and \"Four Seasons Residences at the Surfclub\"\n",
    "    in the body.\n",
    "    \n",
    "2. Add in context, if available. When there's a high-priced condo sale, check and see if there's\n",
    "    a story. If there is, add in some extra details and link back to it.\n",
    "    \n",
    "3. Add in a screenshot of the sales chart.\n",
    "'''"
   ]
  },
  {
   "cell_type": "code",
   "execution_count": 62,
   "metadata": {},
   "outputs": [
    {
     "data": {
      "text/plain": [
       "['Ritz Carlton Residences', '4701 N Meridian Ave LPH02', 'Miami Beach']"
      ]
     },
     "execution_count": 62,
     "metadata": {},
     "output_type": "execute_result"
    }
   ],
   "source": [
    "second_top_sale"
   ]
  },
  {
   "cell_type": "code",
   "execution_count": 68,
   "metadata": {},
   "outputs": [
    {
     "name": "stdout",
     "output_type": "stream",
     "text": [
      "\n",
      "\u001b[1mHED:\u001b[0m Surf Club Condo tops Miami-Dade weekly condo sales \n",
      "\u001b[1mDEK:\u001b[0m Top ten sales ranged from $2,000,000.00 to $15,850,000.00\n",
      "\u001b[1mFEATURED HED:\u001b[0m\n",
      "\u001b[1mSEO HED:\u001b[0m Miami-Dade County Condo Dollar Volume Rises \n",
      "\u001b[1mSEO DESCRIPTION:\u001b[0m Miami-Dade County’s condo sales XXXXXXX\n",
      "\u001b[1mAUTHOR:\u001b[0m Adam Farence\n",
      "\u001b[1mRESEARCH:\u001b[0m \n",
      "\u001b[1mSocial:\u001b[0m #MiamiDade condo sales XXXXX\n",
      "\u001b[1mART:\u001b[0m\n",
      "\n",
      "Credit condo.com with the image below and the PDF chart in the story\n",
      "https://www.condo.com/building/The-Surf-Club-Four-Seasons-Surfside-FL-33154-91693612\n",
      "\n",
      "Interactive map\n",
      "\n",
      "*Please provide credits for any images that you share\n",
      "\u001b[1mSTORY TYPE:\u001b[0m Report\n",
      "\u001b[1mSECTOR\u001b[0m (formerly CATEGORY): Residential Real Estate\n",
      "\u001b[1mTAGS:\u001b[0m condo sales, Miami-Dade County, weekly condo sales, Surfside, Sunny Isles Beach, Aventura, Miami Beach\n",
      "\n",
      "\u001b[1mNeighborhood:\u001b[0m \n",
      "\u001b[1mProperty:\u001b[0m\n",
      "\u001b[1mProperty Type:\u001b[0m\n",
      "\u001b[1mCompanies:\u001b[0m \n",
      "\u001b[1mPeople:\u001b[0m\n",
      "\u001b[1mIssues:\u001b[0m\n",
      "\u001b[1mRegion:\u001b[0m\n",
      "\n",
      "\n",
      "Miami-Dade County’s NEWS PEG HERE.\n",
      "\n",
      "Brokers closed 100 condo sales totaling $100,093,300 from Jan 7th to Jan 13th. The previous week, brokers closed 45 condo sales totaling $38,756,500.\n",
      "\n",
      "Last week’s units sold for an average of $1,000,933, higher than the $861,256 from the previous week. The average price per square foot rose to $633.82 from $534.97, according to data from condo.com. Condos closed after an average of 69 days on the market.\n",
      "\n",
      "For the top 10 sales, prices ranged from $2,000,000.00 to $15,850,000.00. \n",
      "\n",
      "Surf Club Condo, at 9111 Collins Ave N-819 in Surfside took the top spot with a $15,850,000.00 million closing. Dora Puig with Luxe Living Realty had the listing. Michael Martirena with Compass Florida, LLC. represented the buyer. The sale closed after 108 days on the market at $4703.26 per square foot.\n",
      "\n",
      "Ritz Carlton Residences in Miami Beach, at 4701 N Meridian Ave LPH02, closed for the second highest amount, $8,000,000.00, or $1764.06 per square foot, after 173 days on the market. Dina Goldentayer with Douglas Elliman had the listing. Sildy Cervera PA with Cervera Real Estate Inc. represented the buyer.\n",
      "\n",
      "<figure>\n",
      " <div class=\"container\">\n",
      "   <div class=\"iframe-wrap\">\n",
      "   <iframe src=\"https://trd-digital.github.io/trd-news-interactive-maps/condo_sales_week_ending_01132023\" width=\"100%\" height=\"800\" frameBorder=\"0\" scrolling=\"no\"></iframe>\n",
      "  </div>\n",
      "</div>\n",
      "  <figcaption align=\"right\"><a href=\"https://leafletjs.com/\">Leaflet</a> map created by Adam Farence | Data by © <a href=\"https://www.openstreetmap.org/#map=4/38.01/-95.84\"> OpenStreetMap</a>, under <a href=\"https://www.openstreetmap.org/copyright\">ODbl.</a></figcaption>\n",
      "</figure>\n",
      "\n",
      "Here’s a breakdown of the top 10 sales from Jan 7th to Jan 13th:\n",
      "\n",
      "\u001b[1mMost Expensive\u001b[0m\n",
      "Surf Club Condo, 9111 Collins Ave N-819 | Price $15,850,000 | $4,703 psf | Listing agent: Dora Puig with Luxe Living Realty | Buyer's agent: Michael Martirena with Compass Florida, LLC. | Days on market: 108\n",
      "\u001b[1mLeast Expensive\u001b[0m\n",
      "Jade Beach Condo, 17001 Collins Ave 2707 Sunny Isles | Price $2,000,000 | $1,352 psf | Listing agent: Samuel Strauch with Metrik Real Estate LLC | Buyer's agent: Myroslava Dysko with Core Realty Associates, Inc. | Days on market: 59\n",
      "\u001b[1mHighest Price Per Square Foot\u001b[0m\n",
      "Surf Club Condo, 9111 Collins Ave N-819 | Price $15,850,000 | $4,703 psf | Listing agent: Dora Puig with Luxe Living Realty | Buyer's agent: Michael Martirena with Compass Florida, LLC. | Days on market: 108\n",
      "\u001b[1mLowest Price Per Square Foot\u001b[0m\n",
      "Porto Vita North, 20155 NE 38th Ct 503 | Price $2,050,000 | $606 psf | Listing agent: Beth Geduld with Charles Rutenberg Realty FTL | Buyer's agent: Beth Geduld with Charles Rutenberg Realty FTL | Days on market: 31\n",
      "\u001b[1mMost Days on Market\u001b[0m\n",
      "Porto Fino Towers, 300 S Pointe Dr 903 Miami | Price $2,700,000 | $1,154 psf | Listing agent: Ileana Salman with Paramount Realty Sales, LLC | Buyer's agent: Stefano Santoro with Beachfront Realty Inc | Days on market: 263\n",
      "\u001b[1mFewest Days on Market\u001b[0m\n",
      "Porto Vita North, 20155 NE 38th Ct 503 | Price $2,050,000 | $606 psf | Listing agent: Beth Geduld with Charles Rutenberg Realty FTL | Buyer's agent: Beth Geduld with Charles Rutenberg Realty FTL | Days on market: 31\n",
      "\n",
      "\u001b[1mRemember to...:\u001b[0m\n",
      "\n",
      "1. Double check all names. Sometimes names differ between the hed and the body of the story.\n",
      "    For example, \"Surf Club Four Seasons\" in the HED and \"Four Seasons Residences at the Surfclub\"\n",
      "    in the body.\n",
      "    \n",
      "2. Add in context, if available. When there's a high-priced condo sale, check and see if there's\n",
      "    a story. If there is, add in some extra details and link back to it.\n",
      "    \n",
      "3. Add in a screenshot of the sales chart.\n",
      "\n"
     ]
    }
   ],
   "source": [
    "print(story_string)\n",
    "\n",
    "### Highest and lowest sale price ###\n",
    "print(f\"{ME}{BR}{df.loc[df['int_Sale_Price'].idxmax()]['building_name']}, {df.loc[df['int_Sale_Price'].idxmax()]['address']} | Price ${df.loc[df['int_Sale_Price'].idxmax()]['int_Sale_Price']:,.0f} | ${df.loc[df['int_Sale_Price'].idxmax()]['price_per_sqft']:,.0f} psf | Listing agent: {df.loc[df['int_Sale_Price'].idxmax()]['Agent']} with {df.loc[df['int_Sale_Price'].idxmax()]['Listing Broker']} | Buyer's agent: {df.loc[df['int_Sale_Price'].idxmax()]['Buyer Agent']} with {df.loc[df['int_Sale_Price'].idxmax()]['Buyer Broker']} | Days on market: {df.loc[df['int_Sale_Price'].idxmax()]['days_on_market']}\")\n",
    "print(f\"{LE}{BR}{df.loc[df['int_Sale_Price'].idxmin()]['building_name']}, {df.loc[df['int_Sale_Price'].idxmin()]['address']} | Price ${df.loc[df['int_Sale_Price'].idxmin()]['int_Sale_Price']:,.0f} | ${df.loc[df['int_Sale_Price'].idxmin()]['price_per_sqft']:,.0f} psf | Listing agent: {df.loc[df['int_Sale_Price'].idxmin()]['Agent']} with {df.loc[df['int_Sale_Price'].idxmin()]['Listing Broker']} | Buyer's agent: {df.loc[df['int_Sale_Price'].idxmin()]['Buyer Agent']} with {df.loc[df['int_Sale_Price'].idxmin()]['Buyer Broker']} | Days on market: {df.loc[df['int_Sale_Price'].idxmin()]['days_on_market']}\")\n",
    "### Highest and lowest psf ###\n",
    "print(f\"{MAX_PSF}{BR}{df.loc[df['price_per_sqft'].idxmax()]['building_name']}, {df.loc[df['price_per_sqft'].idxmax()]['address']} | Price ${df.loc[df['price_per_sqft'].idxmax()]['int_Sale_Price']:,.0f} | ${df.loc[df['price_per_sqft'].idxmax()]['price_per_sqft']:,.0f} psf | Listing agent: {df.loc[df['price_per_sqft'].idxmax()]['Agent']} with {df.loc[df['price_per_sqft'].idxmax()]['Listing Broker']} | Buyer's agent: {df.loc[df['price_per_sqft'].idxmax()]['Buyer Agent']} with {df.loc[df['price_per_sqft'].idxmax()]['Buyer Broker']} | Days on market: {df.loc[df['price_per_sqft'].idxmax()]['days_on_market']}\")\n",
    "print(f\"{MIN_PSF}{BR}{df.loc[df['price_per_sqft'].idxmin()]['building_name']}, {df.loc[df['price_per_sqft'].idxmin()]['address']} | Price ${df.loc[df['price_per_sqft'].idxmin()]['int_Sale_Price']:,.0f} | ${df.loc[df['price_per_sqft'].idxmin()]['price_per_sqft']:,.0f} psf | Listing agent: {df.loc[df['price_per_sqft'].idxmin()]['Agent']} with {df.loc[df['price_per_sqft'].idxmin()]['Listing Broker']} | Buyer's agent: {df.loc[df['price_per_sqft'].idxmin()]['Buyer Agent']} with {df.loc[df['price_per_sqft'].idxmin()]['Buyer Broker']} | Days on market: {df.loc[df['price_per_sqft'].idxmin()]['days_on_market']}\")\n",
    "### Highest and lowest days on market ###\n",
    "print(f\"{DAYS_MAX}{BR}{df.loc[df['days_on_market'].idxmax()]['building_name']}, {df.loc[df['days_on_market'].idxmax()]['address']} | Price ${df.loc[df['days_on_market'].idxmax()]['int_Sale_Price']:,.0f} | ${df.loc[df['days_on_market'].idxmax()]['price_per_sqft']:,.0f} psf | Listing agent: {df.loc[df['days_on_market'].idxmax()]['Agent']} with {df.loc[df['days_on_market'].idxmax()]['Listing Broker']} | Buyer's agent: {df.loc[df['days_on_market'].idxmax()]['Buyer Agent']} with {df.loc[df['days_on_market'].idxmax()]['Buyer Broker']} | Days on market: {df.loc[df['days_on_market'].idxmax()]['days_on_market']}\")\n",
    "print(f\"{DAYS_MIN}{BR}{df.loc[df['days_on_market'].idxmin()]['building_name']}, {df.loc[df['days_on_market'].idxmin()]['address']} | Price ${df.loc[df['days_on_market'].idxmin()]['int_Sale_Price']:,.0f} | ${df.loc[df['days_on_market'].idxmin()]['price_per_sqft']:,.0f} psf | Listing agent: {df.loc[df['days_on_market'].idxmin()]['Agent']} with {df.loc[df['days_on_market'].idxmin()]['Listing Broker']} | Buyer's agent: {df.loc[df['days_on_market'].idxmin()]['Buyer Agent']} with {df.loc[df['days_on_market'].idxmin()]['Buyer Broker']} | Days on market: {df.loc[df['days_on_market'].idxmin()]['days_on_market']}\")\n",
    "\n",
    "print(story_checklist)"
   ]
  }
 ],
 "metadata": {
  "kernelspec": {
   "display_name": "Python 3 (ipykernel)",
   "language": "python",
   "name": "python3"
  },
  "language_info": {
   "codemirror_mode": {
    "name": "ipython",
    "version": 3
   },
   "file_extension": ".py",
   "mimetype": "text/x-python",
   "name": "python",
   "nbconvert_exporter": "python",
   "pygments_lexer": "ipython3",
   "version": "3.9.12"
  },
  "toc": {
   "base_numbering": 1,
   "nav_menu": {},
   "number_sections": true,
   "sideBar": true,
   "skip_h1_title": false,
   "title_cell": "Table of Contents",
   "title_sidebar": "Contents",
   "toc_cell": false,
   "toc_position": {},
   "toc_section_display": true,
   "toc_window_display": false
  }
 },
 "nbformat": 4,
 "nbformat_minor": 4
}
