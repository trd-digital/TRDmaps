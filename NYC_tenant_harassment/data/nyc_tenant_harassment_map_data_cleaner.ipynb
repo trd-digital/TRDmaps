{
 "cells": [
  {
   "cell_type": "markdown",
   "id": "6f3732db",
   "metadata": {},
   "source": [
    "## Imports and Read-in"
   ]
  },
  {
   "cell_type": "code",
   "execution_count": 168,
   "id": "333dfc18",
   "metadata": {},
   "outputs": [],
   "source": [
    "import os\n",
    "import pandas as pd\n",
    "from pandas_geojson import to_geojson, write_geojson"
   ]
  },
  {
   "cell_type": "code",
   "execution_count": 169,
   "id": "dc2307f3",
   "metadata": {},
   "outputs": [],
   "source": [
    "df = pd.read_csv('Housing_Litigations.csv')"
   ]
  },
  {
   "cell_type": "markdown",
   "id": "f1b07396",
   "metadata": {},
   "source": [
    "## Data Index:\n",
    "df - Original read in of data. No changes <br>\n",
    "df2 - DF of data filtered to only have Tenant Action/Harassment `CaseType`s <br>\n",
    "df_SomeYear - A DF of all the cases filed that year"
   ]
  },
  {
   "cell_type": "markdown",
   "id": "2059591f",
   "metadata": {},
   "source": [
    "## Data Cleaner"
   ]
  },
  {
   "cell_type": "code",
   "execution_count": 170,
   "id": "76af7846",
   "metadata": {},
   "outputs": [
    {
     "data": {
      "text/plain": [
       "Index(['LitigationID', 'BuildingID', 'Boro', 'HouseNumber', 'StreetName',\n",
       "       'Zip', 'Block', 'Lot', 'CaseType', 'CaseOpenDate', 'CaseStatus',\n",
       "       'OpenJudgement', 'FindingOfHarassment', 'FindingDate', 'Penalty',\n",
       "       'Respondent', 'Latitude', 'Longitude', 'Community District',\n",
       "       'Council District', 'Census Tract', 'BIN', 'BBL', 'NTA'],\n",
       "      dtype='object')"
      ]
     },
     "execution_count": 170,
     "metadata": {},
     "output_type": "execute_result"
    }
   ],
   "source": [
    "df.columns"
   ]
  },
  {
   "cell_type": "code",
   "execution_count": 171,
   "id": "67b6f974",
   "metadata": {},
   "outputs": [
    {
     "data": {
      "text/plain": [
       "Tenant Action                   84340\n",
       "Heat and Hot Water              48602\n",
       "Access Warrant - Non-Lead       17768\n",
       "Tenant Action/Harrassment       14439\n",
       "False Certification Non-Lead     7524\n",
       "Comprehensive                    7244\n",
       "Access Warrant - lead            3916\n",
       "CONH                             2364\n",
       "Comp Supplemental Cases          2037\n",
       "Lead False Certification          675\n",
       "7A                                358\n",
       "Heat Supplemental Cases           317\n",
       "Failure to Register Only          245\n",
       "HLD - Other Case Type               8\n",
       "Name: CaseType, dtype: int64"
      ]
     },
     "execution_count": 171,
     "metadata": {},
     "output_type": "execute_result"
    }
   ],
   "source": [
    "## Reveal case types\n",
    "df['CaseType'].value_counts()"
   ]
  },
  {
   "cell_type": "code",
   "execution_count": 172,
   "id": "9d6f6c16",
   "metadata": {},
   "outputs": [],
   "source": [
    "## Create new df with only Tenant Action/Harrassment\n",
    "df2 = df.loc[df['CaseType'] == 'Tenant Action/Harrassment']"
   ]
  },
  {
   "cell_type": "code",
   "execution_count": 173,
   "id": "0707798c",
   "metadata": {},
   "outputs": [],
   "source": [
    "## Remove Rows without location information\n",
    "df2 = df2.dropna(subset='Latitude')"
   ]
  },
  {
   "cell_type": "code",
   "execution_count": 174,
   "id": "43a3c5f3",
   "metadata": {},
   "outputs": [
    {
     "data": {
      "text/plain": [
       "False    14416\n",
       "Name: Latitude, dtype: int64"
      ]
     },
     "execution_count": 174,
     "metadata": {},
     "output_type": "execute_result"
    }
   ],
   "source": [
    "## Check to see if NAs remain\n",
    "df2['Latitude'].isna().value_counts()"
   ]
  },
  {
   "cell_type": "code",
   "execution_count": 175,
   "id": "5c4f2959",
   "metadata": {},
   "outputs": [
    {
     "data": {
      "text/plain": [
       "0         05/18/2016\n",
       "1         03/03/2020\n",
       "2         01/25/2011\n",
       "3         10/25/2013\n",
       "4         06/28/2010\n",
       "             ...    \n",
       "189832    11/30/2021\n",
       "189833    11/25/2022\n",
       "189834    11/22/2022\n",
       "189835    11/10/2022\n",
       "189836    10/27/2022\n",
       "Name: CaseOpenDate, Length: 189837, dtype: object"
      ]
     },
     "execution_count": 175,
     "metadata": {},
     "output_type": "execute_result"
    }
   ],
   "source": [
    "## Check data type\n",
    "df['CaseOpenDate']"
   ]
  },
  {
   "cell_type": "code",
   "execution_count": 176,
   "id": "de8dcb50",
   "metadata": {},
   "outputs": [],
   "source": [
    "## Create new column with the year the case was filed\n",
    "df2['CaseOpenYear'] = df2['CaseOpenDate'].str[6:]"
   ]
  },
  {
   "cell_type": "code",
   "execution_count": 177,
   "id": "61b8f869",
   "metadata": {},
   "outputs": [
    {
     "data": {
      "text/plain": [
       "2022    1879\n",
       "2019    1627\n",
       "2021    1608\n",
       "2018    1205\n",
       "2020    1131\n",
       "2016    1106\n",
       "2017    1081\n",
       "2015     897\n",
       "2014     803\n",
       "2013     774\n",
       "2012     654\n",
       "2010     493\n",
       "2011     444\n",
       "2009     440\n",
       "2008     272\n",
       "2004       1\n",
       "2030       1\n",
       "Name: CaseOpenYear, dtype: int64"
      ]
     },
     "execution_count": 177,
     "metadata": {},
     "output_type": "execute_result"
    }
   ],
   "source": [
    "## Value counts for open years\n",
    "df2.CaseOpenYear.value_counts()"
   ]
  },
  {
   "cell_type": "code",
   "execution_count": 182,
   "id": "96bf1057",
   "metadata": {},
   "outputs": [],
   "source": [
    "## Remove NAs\n",
    "df2 = df2.fillna('N/A')"
   ]
  },
  {
   "cell_type": "code",
   "execution_count": 183,
   "id": "1c81a638",
   "metadata": {},
   "outputs": [],
   "source": [
    "## Convert to string. NOTE: for some reasons, you can't write integers\n",
    "## to a geoJson file. Strings only.\n",
    "df2['CaseOpenYear'] = df2['CaseOpenYear'].astype(str)"
   ]
  },
  {
   "cell_type": "code",
   "execution_count": 184,
   "id": "d6c80d7e",
   "metadata": {},
   "outputs": [],
   "source": [
    "## Create separate DF for case years 2018 through 2022\n",
    "df_2018 = df2.loc[df2['CaseOpenYear'] == '2018']\n",
    "df_2019 = df2.loc[df2['CaseOpenYear'] == '2019']\n",
    "df_2020 = df2.loc[df2['CaseOpenYear'] == '2020']\n",
    "df_2021 = df2.loc[df2['CaseOpenYear'] == '2021']\n",
    "df_2022 = df2.loc[df2['CaseOpenYear'] == '2022']"
   ]
  },
  {
   "cell_type": "markdown",
   "id": "29264521",
   "metadata": {},
   "source": [
    "### Make a GeoJson file for each year, 2018 through 2022"
   ]
  },
  {
   "cell_type": "code",
   "execution_count": 185,
   "id": "a5f166c5",
   "metadata": {},
   "outputs": [],
   "source": [
    "geo_json = to_geojson(df=df2, lat='Latitude', lon='Longitude',\n",
    "                     properties=['LitigationID','BuildingID','Boro','HouseNumber','StreetName','CaseOpenDate','CaseStatus','OpenJudgement','FindingOfHarassment','FindingDate','Penalty','Respondent','CaseOpenYear'])\n",
    "write_geojson(geo_json, filename='NYC_tenant_harassment.geojson', indent=4)"
   ]
  },
  {
   "cell_type": "code",
   "execution_count": 186,
   "id": "d07fbaff",
   "metadata": {},
   "outputs": [],
   "source": [
    "geo_json = to_geojson(df=df_2018, lat='Latitude', lon='Longitude',\n",
    "                     properties=['LitigationID','BuildingID','Boro','HouseNumber','StreetName','CaseOpenDate','CaseStatus','OpenJudgement','FindingOfHarassment','FindingDate','Penalty','Respondent','CaseOpenYear'])\n",
    "write_geojson(geo_json, filename='NYC_tenant_harassment2018.geojson', indent=4)"
   ]
  },
  {
   "cell_type": "code",
   "execution_count": 187,
   "id": "07c81124",
   "metadata": {},
   "outputs": [],
   "source": [
    "geo_json = to_geojson(df=df_2019, lat='Latitude', lon='Longitude',\n",
    "                     properties=['LitigationID','BuildingID','Boro','HouseNumber','StreetName','CaseOpenDate','CaseStatus','OpenJudgement','FindingOfHarassment','FindingDate','Penalty','Respondent','CaseOpenYear'])\n",
    "write_geojson(geo_json, filename='NYC_tenant_harassment2019.geojson', indent=4)"
   ]
  },
  {
   "cell_type": "code",
   "execution_count": 188,
   "id": "63cf1834",
   "metadata": {},
   "outputs": [],
   "source": [
    "geo_json = to_geojson(df=df_2020, lat='Latitude', lon='Longitude',\n",
    "                     properties=['LitigationID','BuildingID','Boro','HouseNumber','StreetName','CaseOpenDate','CaseStatus','OpenJudgement','FindingOfHarassment','FindingDate','Penalty','Respondent','CaseOpenYear'])\n",
    "write_geojson(geo_json, filename='NYC_tenant_harassment2020.geojson', indent=4)"
   ]
  },
  {
   "cell_type": "code",
   "execution_count": 189,
   "id": "24b1d91c",
   "metadata": {},
   "outputs": [],
   "source": [
    "geo_json = to_geojson(df=df_2021, lat='Latitude', lon='Longitude',\n",
    "                     properties=['LitigationID','BuildingID','Boro','HouseNumber','StreetName','CaseOpenDate','CaseStatus','OpenJudgement','FindingOfHarassment','FindingDate','Penalty','Respondent','CaseOpenYear'])\n",
    "write_geojson(geo_json, filename='NYC_tenant_harassment2021.geojson', indent=4)"
   ]
  },
  {
   "cell_type": "code",
   "execution_count": 190,
   "id": "f9440a30",
   "metadata": {},
   "outputs": [],
   "source": [
    "geo_json = to_geojson(df=df_2022, lat='Latitude', lon='Longitude',\n",
    "                     properties=['LitigationID','BuildingID','Boro','HouseNumber','StreetName','CaseOpenDate','CaseStatus','OpenJudgement','FindingOfHarassment','FindingDate','Penalty','Respondent','CaseOpenYear'])\n",
    "write_geojson(geo_json, filename='NYC_tenant_harassment2022.geojson', indent=4)"
   ]
  },
  {
   "cell_type": "code",
   "execution_count": 191,
   "id": "abf5531b",
   "metadata": {},
   "outputs": [],
   "source": [
    "base_name = 'https://trd-digital.github.io/trd-news-interactive-maps/NYC_tenant_harassment'"
   ]
  },
  {
   "cell_type": "code",
   "execution_count": 192,
   "id": "a69ae9f1",
   "metadata": {},
   "outputs": [
    {
     "name": "stdout",
     "output_type": "stream",
     "text": [
      "https://trd-digital.github.io/trd-news-interactive-maps/NYC_tenant_harassment\n"
     ]
    }
   ],
   "source": [
    "print(base_name)"
   ]
  },
  {
   "cell_type": "markdown",
   "id": "f6f8cd37",
   "metadata": {},
   "source": [
    "## Data Analysis"
   ]
  },
  {
   "cell_type": "code",
   "execution_count": 201,
   "id": "de873282",
   "metadata": {},
   "outputs": [
    {
     "name": "stdout",
     "output_type": "stream",
     "text": [
      "14416\n",
      "------\n",
      "1205\n",
      "------\n",
      "1627\n",
      "------\n",
      "1131\n",
      "------\n",
      "1608\n",
      "------\n",
      "1879\n"
     ]
    }
   ],
   "source": [
    "print(len(df2))\n",
    "print('------')\n",
    "print(len(df_2018))\n",
    "print('------')\n",
    "print(len(df_2019))\n",
    "print('------')\n",
    "print(len(df_2020))\n",
    "print('------')\n",
    "print(len(df_2021))\n",
    "print('------')\n",
    "print(len(df_2022))"
   ]
  },
  {
   "cell_type": "code",
   "execution_count": 193,
   "id": "8144c4e0",
   "metadata": {},
   "outputs": [
    {
     "data": {
      "text/plain": [
       "N/A              10499\n",
       "No Harassment     3723\n",
       "After Inquest      151\n",
       "After Trial         43\n",
       "Name: FindingOfHarassment, dtype: int64"
      ]
     },
     "execution_count": 193,
     "metadata": {},
     "output_type": "execute_result"
    }
   ],
   "source": [
    "df2.FindingOfHarassment.value_counts()"
   ]
  },
  {
   "cell_type": "code",
   "execution_count": 200,
   "id": "9607b445",
   "metadata": {},
   "outputs": [
    {
     "data": {
      "text/plain": [
       "2022    1879\n",
       "2019    1627\n",
       "2021    1608\n",
       "2018    1205\n",
       "2020    1131\n",
       "2016    1106\n",
       "2017    1081\n",
       "2015     897\n",
       "2014     803\n",
       "2013     774\n",
       "2012     654\n",
       "2010     493\n",
       "2011     444\n",
       "2009     440\n",
       "2008     272\n",
       "2004       1\n",
       "2030       1\n",
       "Name: CaseOpenYear, dtype: int64"
      ]
     },
     "execution_count": 200,
     "metadata": {},
     "output_type": "execute_result"
    }
   ],
   "source": [
    "df2['CaseOpenYear'].value_counts()"
   ]
  },
  {
   "cell_type": "code",
   "execution_count": 204,
   "id": "20bed275",
   "metadata": {},
   "outputs": [],
   "source": [
    "df2['Penalty'] = df2['Penalty'].str.replace('N/A','0')"
   ]
  },
  {
   "cell_type": "code",
   "execution_count": 208,
   "id": "a71e2ee8",
   "metadata": {},
   "outputs": [
    {
     "data": {
      "text/plain": [
       "Index(['LitigationID', 'BuildingID', 'Boro', 'HouseNumber', 'StreetName',\n",
       "       'Zip', 'Block', 'Lot', 'CaseType', 'CaseOpenDate', 'CaseStatus',\n",
       "       'OpenJudgement', 'FindingOfHarassment', 'FindingDate', 'Penalty',\n",
       "       'Respondent', 'Latitude', 'Longitude', 'Community District',\n",
       "       'Council District', 'Census Tract', 'BIN', 'BBL', 'NTA'],\n",
       "      dtype='object')"
      ]
     },
     "execution_count": 208,
     "metadata": {},
     "output_type": "execute_result"
    }
   ],
   "source": [
    "df.columns"
   ]
  },
  {
   "cell_type": "code",
   "execution_count": 216,
   "id": "56de4f89",
   "metadata": {},
   "outputs": [
    {
     "data": {
      "text/plain": [
       "CaseType\n",
       "7A                                   0.0\n",
       "Access Warrant - Non-Lead            0.0\n",
       "Access Warrant - lead                0.0\n",
       "CONH                                 0.0\n",
       "Comp Supplemental Cases              0.0\n",
       "Comprehensive                        0.0\n",
       "Failure to Register Only             0.0\n",
       "False Certification Non-Lead         0.0\n",
       "HLD - Other Case Type                0.0\n",
       "Heat Supplemental Cases              0.0\n",
       "Heat and Hot Water                   0.0\n",
       "Lead False Certification             0.0\n",
       "Tenant Action                        0.0\n",
       "Tenant Action/Harrassment       942952.0\n",
       "Name: Penalty, dtype: float64"
      ]
     },
     "execution_count": 216,
     "metadata": {},
     "output_type": "execute_result"
    }
   ],
   "source": [
    "df.groupby('CaseType')['Penalty'].sum()"
   ]
  },
  {
   "cell_type": "code",
   "execution_count": 218,
   "id": "880fa318",
   "metadata": {},
   "outputs": [],
   "source": [
    "df2['Penalty'] = pd.to_numeric(df['Penalty'])"
   ]
  },
  {
   "cell_type": "code",
   "execution_count": 220,
   "id": "c881256e",
   "metadata": {},
   "outputs": [
    {
     "name": "stdout",
     "output_type": "stream",
     "text": [
      "$942,952.0\n"
     ]
    }
   ],
   "source": [
    "print(f'${df2.Penalty.sum():,}')"
   ]
  },
  {
   "cell_type": "code",
   "execution_count": 222,
   "id": "364294d9",
   "metadata": {},
   "outputs": [
    {
     "data": {
      "text/plain": [
       "CaseOpenYear\n",
       "2004         0.0\n",
       "2008         0.0\n",
       "2009         0.0\n",
       "2010         0.0\n",
       "2011         0.0\n",
       "2012         0.0\n",
       "2013     12000.0\n",
       "2014    110330.0\n",
       "2015     29000.0\n",
       "2016     24812.0\n",
       "2017    200160.0\n",
       "2018    113050.0\n",
       "2019    235100.0\n",
       "2020     20500.0\n",
       "2021    151000.0\n",
       "2022     47000.0\n",
       "2030         0.0\n",
       "Name: Penalty, dtype: float64"
      ]
     },
     "execution_count": 222,
     "metadata": {},
     "output_type": "execute_result"
    }
   ],
   "source": [
    "df2.groupby('CaseOpenYear')['Penalty'].sum()"
   ]
  },
  {
   "cell_type": "code",
   "execution_count": 224,
   "id": "24a40aa6",
   "metadata": {},
   "outputs": [],
   "source": [
    "df3 = pd.concat?"
   ]
  },
  {
   "cell_type": "code",
   "execution_count": 225,
   "id": "aaf3b4ac",
   "metadata": {},
   "outputs": [],
   "source": [
    "df3 = pd.concat([df_2018, df_2019, df_2020, df_2021, df_2022])"
   ]
  },
  {
   "cell_type": "code",
   "execution_count": 226,
   "id": "fa53a36f",
   "metadata": {},
   "outputs": [
    {
     "data": {
      "text/plain": [
       "2022    1879\n",
       "2019    1627\n",
       "2021    1608\n",
       "2018    1205\n",
       "2020    1131\n",
       "Name: CaseOpenYear, dtype: int64"
      ]
     },
     "execution_count": 226,
     "metadata": {},
     "output_type": "execute_result"
    }
   ],
   "source": [
    "df3.CaseOpenYear.value_counts()"
   ]
  },
  {
   "cell_type": "code",
   "execution_count": 232,
   "id": "cfca1bba",
   "metadata": {},
   "outputs": [],
   "source": [
    "df3['Penalty'] = df3['Penalty'].str.replace('N/A','0')\n",
    "df3.Penalty = pd.to_numeric(df3['Penalty'])"
   ]
  },
  {
   "cell_type": "code",
   "execution_count": 236,
   "id": "b5af2a8a",
   "metadata": {},
   "outputs": [
    {
     "data": {
      "text/plain": [
       "ROCHDALE VILLAGE INCORPORATED               9\n",
       "JAVIER CELIS,JOHN CELIS                     8\n",
       "ZARA REALTY                                 8\n",
       "JONAH BAMBERGER                             7\n",
       "WAVECREST MANAGEMENT                        7\n",
       "HIGHPOINT ASSOCIATES VI LLC                 7\n",
       "PAIGE BOND                                  6\n",
       "1250-1260 REALTY CO LLC                     6\n",
       "PROGRESSIVE MANAGEMENT                      5\n",
       "QUEENS FRESH MEADOWS LLC                    5\n",
       "PETER PERSAUD                               5\n",
       "DEBORAH NELSON                              5\n",
       "111/113 FIFTH LLC,1229 HALSEY LLC  ET AL    5\n",
       "HOULDA DAVEY                                4\n",
       "DELEEP PHARSI                               4\n",
       "KAZIMIERZ GRADZKI                           4\n",
       "CARL ROBERTS                                4\n",
       "N/A                                         4\n",
       "JONAH  BAMBERGER                            4\n",
       "VERONICA SHARPLIS                           4\n",
       "RIVERBAY CORPORATION                        4\n",
       "SUMON ROY                                   4\n",
       "DENYSE ROBERTS                              4\n",
       "ALBERT YUSUPOV                              4\n",
       "ZUMRETA KOLENOVIC                           4\n",
       "RICHMOND HILL HOUSING 2 LP                  4\n",
       "SHARON McKENZIE                             3\n",
       "JOHN URGO                                   3\n",
       "ALBERT WALLEN                               3\n",
       "RAYMOND ALI                                 3\n",
       "THE BRIDGE                                  3\n",
       "ROCHDALE VILLAGE                            3\n",
       "CRYSTAL DILLON                              3\n",
       "CENTRAL QUEENS PROPERTIES                   3\n",
       "ZARA REALTY HOLDING CORPORATION             3\n",
       "BOULIS LOTS LLC                             3\n",
       "ANNA MAMMINA,JOSEPH MAMMINA                 3\n",
       "MARLENE MASCOLL                             3\n",
       "JOHNNY LUNA                                 3\n",
       "WAVECREST MANAGEMENT GROUP                  3\n",
       "LUIS ARIAS                                  3\n",
       "ERIKA LATISHA SINGLETARY                    3\n",
       "ASHER PASKES,MARION EQUITIES LLC            3\n",
       "CECILE FRAZIER                              3\n",
       "TATIANA HUDGINS                             3\n",
       "MIGUEL TORRES  JR                           3\n",
       "DALTON MANAGEMENT                           3\n",
       "FISHER ASSOCIATES                           3\n",
       "FELICIA PARRISH                             3\n",
       "STEVE MONTROSE                              3\n",
       "MICHAEL WILLIAMS                            3\n",
       "REVONA PROPERTIES                           3\n",
       "DAVID PERSAUD                               3\n",
       "RAFIQUL ISLAM                               3\n",
       "ROSETTE JOACHIM                             3\n",
       "OSONDU IBOM                                 3\n",
       "ADAM WEINSTEIN                              3\n",
       "KIMIYASU ISHIBASHI                          3\n",
       "61-56 MADISON LLC                           3\n",
       "CHANA EISNER                                3\n",
       "Name: Respondent, dtype: int64"
      ]
     },
     "execution_count": 236,
     "metadata": {},
     "output_type": "execute_result"
    }
   ],
   "source": [
    "df3.Respondent.value_counts().head(60)"
   ]
  },
  {
   "cell_type": "code",
   "execution_count": 237,
   "id": "93a4ba6c",
   "metadata": {},
   "outputs": [],
   "source": [
    "df3['CaseOpenDate'] = pd.to_datetime(df3['CaseOpenDate'])"
   ]
  },
  {
   "cell_type": "code",
   "execution_count": 241,
   "id": "27c5e254",
   "metadata": {},
   "outputs": [],
   "source": [
    "pd.Grouper?"
   ]
  },
  {
   "cell_type": "code",
   "execution_count": 247,
   "id": "980b30bd",
   "metadata": {},
   "outputs": [],
   "source": [
    "m = df3.groupby(pd.Grouper(key='CaseOpenDate',freq='M'))['LitigationID'].count()"
   ]
  },
  {
   "cell_type": "code",
   "execution_count": 254,
   "id": "77cb8e83",
   "metadata": {},
   "outputs": [],
   "source": [
    "m.to_csv('cases_by_year')"
   ]
  },
  {
   "cell_type": "code",
   "execution_count": 256,
   "id": "6af0f1cb",
   "metadata": {},
   "outputs": [
    {
     "data": {
      "text/html": [
       "<div>\n",
       "<style scoped>\n",
       "    .dataframe tbody tr th:only-of-type {\n",
       "        vertical-align: middle;\n",
       "    }\n",
       "\n",
       "    .dataframe tbody tr th {\n",
       "        vertical-align: top;\n",
       "    }\n",
       "\n",
       "    .dataframe thead th {\n",
       "        text-align: right;\n",
       "    }\n",
       "</style>\n",
       "<table border=\"1\" class=\"dataframe\">\n",
       "  <thead>\n",
       "    <tr style=\"text-align: right;\">\n",
       "      <th></th>\n",
       "      <th>CaseOpenDate</th>\n",
       "      <th>LitigationID</th>\n",
       "    </tr>\n",
       "  </thead>\n",
       "  <tbody>\n",
       "    <tr>\n",
       "      <th>0</th>\n",
       "      <td>2018-01-31</td>\n",
       "      <td>97</td>\n",
       "    </tr>\n",
       "    <tr>\n",
       "      <th>1</th>\n",
       "      <td>2018-02-28</td>\n",
       "      <td>109</td>\n",
       "    </tr>\n",
       "    <tr>\n",
       "      <th>2</th>\n",
       "      <td>2018-03-31</td>\n",
       "      <td>110</td>\n",
       "    </tr>\n",
       "    <tr>\n",
       "      <th>3</th>\n",
       "      <td>2018-04-30</td>\n",
       "      <td>95</td>\n",
       "    </tr>\n",
       "    <tr>\n",
       "      <th>4</th>\n",
       "      <td>2018-05-31</td>\n",
       "      <td>111</td>\n",
       "    </tr>\n",
       "    <tr>\n",
       "      <th>5</th>\n",
       "      <td>2018-06-30</td>\n",
       "      <td>106</td>\n",
       "    </tr>\n",
       "    <tr>\n",
       "      <th>6</th>\n",
       "      <td>2018-07-31</td>\n",
       "      <td>81</td>\n",
       "    </tr>\n",
       "    <tr>\n",
       "      <th>7</th>\n",
       "      <td>2018-08-31</td>\n",
       "      <td>122</td>\n",
       "    </tr>\n",
       "    <tr>\n",
       "      <th>8</th>\n",
       "      <td>2018-09-30</td>\n",
       "      <td>104</td>\n",
       "    </tr>\n",
       "    <tr>\n",
       "      <th>9</th>\n",
       "      <td>2018-10-31</td>\n",
       "      <td>117</td>\n",
       "    </tr>\n",
       "    <tr>\n",
       "      <th>10</th>\n",
       "      <td>2018-11-30</td>\n",
       "      <td>87</td>\n",
       "    </tr>\n",
       "    <tr>\n",
       "      <th>11</th>\n",
       "      <td>2018-12-31</td>\n",
       "      <td>66</td>\n",
       "    </tr>\n",
       "    <tr>\n",
       "      <th>12</th>\n",
       "      <td>2019-01-31</td>\n",
       "      <td>88</td>\n",
       "    </tr>\n",
       "    <tr>\n",
       "      <th>13</th>\n",
       "      <td>2019-02-28</td>\n",
       "      <td>71</td>\n",
       "    </tr>\n",
       "    <tr>\n",
       "      <th>14</th>\n",
       "      <td>2019-03-31</td>\n",
       "      <td>133</td>\n",
       "    </tr>\n",
       "    <tr>\n",
       "      <th>15</th>\n",
       "      <td>2019-04-30</td>\n",
       "      <td>131</td>\n",
       "    </tr>\n",
       "    <tr>\n",
       "      <th>16</th>\n",
       "      <td>2019-05-31</td>\n",
       "      <td>142</td>\n",
       "    </tr>\n",
       "    <tr>\n",
       "      <th>17</th>\n",
       "      <td>2019-06-30</td>\n",
       "      <td>130</td>\n",
       "    </tr>\n",
       "    <tr>\n",
       "      <th>18</th>\n",
       "      <td>2019-07-31</td>\n",
       "      <td>164</td>\n",
       "    </tr>\n",
       "    <tr>\n",
       "      <th>19</th>\n",
       "      <td>2019-08-31</td>\n",
       "      <td>141</td>\n",
       "    </tr>\n",
       "    <tr>\n",
       "      <th>20</th>\n",
       "      <td>2019-09-30</td>\n",
       "      <td>169</td>\n",
       "    </tr>\n",
       "    <tr>\n",
       "      <th>21</th>\n",
       "      <td>2019-10-31</td>\n",
       "      <td>186</td>\n",
       "    </tr>\n",
       "    <tr>\n",
       "      <th>22</th>\n",
       "      <td>2019-11-30</td>\n",
       "      <td>127</td>\n",
       "    </tr>\n",
       "    <tr>\n",
       "      <th>23</th>\n",
       "      <td>2019-12-31</td>\n",
       "      <td>145</td>\n",
       "    </tr>\n",
       "    <tr>\n",
       "      <th>24</th>\n",
       "      <td>2020-01-31</td>\n",
       "      <td>147</td>\n",
       "    </tr>\n",
       "    <tr>\n",
       "      <th>25</th>\n",
       "      <td>2020-02-29</td>\n",
       "      <td>125</td>\n",
       "    </tr>\n",
       "    <tr>\n",
       "      <th>26</th>\n",
       "      <td>2020-03-31</td>\n",
       "      <td>87</td>\n",
       "    </tr>\n",
       "    <tr>\n",
       "      <th>27</th>\n",
       "      <td>2020-04-30</td>\n",
       "      <td>3</td>\n",
       "    </tr>\n",
       "    <tr>\n",
       "      <th>28</th>\n",
       "      <td>2020-05-31</td>\n",
       "      <td>15</td>\n",
       "    </tr>\n",
       "    <tr>\n",
       "      <th>29</th>\n",
       "      <td>2020-06-30</td>\n",
       "      <td>45</td>\n",
       "    </tr>\n",
       "    <tr>\n",
       "      <th>30</th>\n",
       "      <td>2020-07-31</td>\n",
       "      <td>114</td>\n",
       "    </tr>\n",
       "    <tr>\n",
       "      <th>31</th>\n",
       "      <td>2020-08-31</td>\n",
       "      <td>119</td>\n",
       "    </tr>\n",
       "    <tr>\n",
       "      <th>32</th>\n",
       "      <td>2020-09-30</td>\n",
       "      <td>120</td>\n",
       "    </tr>\n",
       "    <tr>\n",
       "      <th>33</th>\n",
       "      <td>2020-10-31</td>\n",
       "      <td>116</td>\n",
       "    </tr>\n",
       "    <tr>\n",
       "      <th>34</th>\n",
       "      <td>2020-11-30</td>\n",
       "      <td>106</td>\n",
       "    </tr>\n",
       "    <tr>\n",
       "      <th>35</th>\n",
       "      <td>2020-12-31</td>\n",
       "      <td>134</td>\n",
       "    </tr>\n",
       "    <tr>\n",
       "      <th>36</th>\n",
       "      <td>2021-01-31</td>\n",
       "      <td>145</td>\n",
       "    </tr>\n",
       "    <tr>\n",
       "      <th>37</th>\n",
       "      <td>2021-02-28</td>\n",
       "      <td>134</td>\n",
       "    </tr>\n",
       "    <tr>\n",
       "      <th>38</th>\n",
       "      <td>2021-03-31</td>\n",
       "      <td>175</td>\n",
       "    </tr>\n",
       "    <tr>\n",
       "      <th>39</th>\n",
       "      <td>2021-04-30</td>\n",
       "      <td>145</td>\n",
       "    </tr>\n",
       "    <tr>\n",
       "      <th>40</th>\n",
       "      <td>2021-05-31</td>\n",
       "      <td>153</td>\n",
       "    </tr>\n",
       "    <tr>\n",
       "      <th>41</th>\n",
       "      <td>2021-06-30</td>\n",
       "      <td>123</td>\n",
       "    </tr>\n",
       "    <tr>\n",
       "      <th>42</th>\n",
       "      <td>2021-07-31</td>\n",
       "      <td>101</td>\n",
       "    </tr>\n",
       "    <tr>\n",
       "      <th>43</th>\n",
       "      <td>2021-08-31</td>\n",
       "      <td>124</td>\n",
       "    </tr>\n",
       "    <tr>\n",
       "      <th>44</th>\n",
       "      <td>2021-09-30</td>\n",
       "      <td>121</td>\n",
       "    </tr>\n",
       "    <tr>\n",
       "      <th>45</th>\n",
       "      <td>2021-10-31</td>\n",
       "      <td>138</td>\n",
       "    </tr>\n",
       "    <tr>\n",
       "      <th>46</th>\n",
       "      <td>2021-11-30</td>\n",
       "      <td>130</td>\n",
       "    </tr>\n",
       "    <tr>\n",
       "      <th>47</th>\n",
       "      <td>2021-12-31</td>\n",
       "      <td>119</td>\n",
       "    </tr>\n",
       "    <tr>\n",
       "      <th>48</th>\n",
       "      <td>2022-01-31</td>\n",
       "      <td>86</td>\n",
       "    </tr>\n",
       "    <tr>\n",
       "      <th>49</th>\n",
       "      <td>2022-02-28</td>\n",
       "      <td>126</td>\n",
       "    </tr>\n",
       "    <tr>\n",
       "      <th>50</th>\n",
       "      <td>2022-03-31</td>\n",
       "      <td>189</td>\n",
       "    </tr>\n",
       "    <tr>\n",
       "      <th>51</th>\n",
       "      <td>2022-04-30</td>\n",
       "      <td>196</td>\n",
       "    </tr>\n",
       "    <tr>\n",
       "      <th>52</th>\n",
       "      <td>2022-05-31</td>\n",
       "      <td>157</td>\n",
       "    </tr>\n",
       "    <tr>\n",
       "      <th>53</th>\n",
       "      <td>2022-06-30</td>\n",
       "      <td>176</td>\n",
       "    </tr>\n",
       "    <tr>\n",
       "      <th>54</th>\n",
       "      <td>2022-07-31</td>\n",
       "      <td>197</td>\n",
       "    </tr>\n",
       "    <tr>\n",
       "      <th>55</th>\n",
       "      <td>2022-08-31</td>\n",
       "      <td>206</td>\n",
       "    </tr>\n",
       "    <tr>\n",
       "      <th>56</th>\n",
       "      <td>2022-09-30</td>\n",
       "      <td>171</td>\n",
       "    </tr>\n",
       "    <tr>\n",
       "      <th>57</th>\n",
       "      <td>2022-10-31</td>\n",
       "      <td>202</td>\n",
       "    </tr>\n",
       "    <tr>\n",
       "      <th>58</th>\n",
       "      <td>2022-11-30</td>\n",
       "      <td>173</td>\n",
       "    </tr>\n",
       "  </tbody>\n",
       "</table>\n",
       "</div>"
      ],
      "text/plain": [
       "   CaseOpenDate  LitigationID\n",
       "0    2018-01-31            97\n",
       "1    2018-02-28           109\n",
       "2    2018-03-31           110\n",
       "3    2018-04-30            95\n",
       "4    2018-05-31           111\n",
       "5    2018-06-30           106\n",
       "6    2018-07-31            81\n",
       "7    2018-08-31           122\n",
       "8    2018-09-30           104\n",
       "9    2018-10-31           117\n",
       "10   2018-11-30            87\n",
       "11   2018-12-31            66\n",
       "12   2019-01-31            88\n",
       "13   2019-02-28            71\n",
       "14   2019-03-31           133\n",
       "15   2019-04-30           131\n",
       "16   2019-05-31           142\n",
       "17   2019-06-30           130\n",
       "18   2019-07-31           164\n",
       "19   2019-08-31           141\n",
       "20   2019-09-30           169\n",
       "21   2019-10-31           186\n",
       "22   2019-11-30           127\n",
       "23   2019-12-31           145\n",
       "24   2020-01-31           147\n",
       "25   2020-02-29           125\n",
       "26   2020-03-31            87\n",
       "27   2020-04-30             3\n",
       "28   2020-05-31            15\n",
       "29   2020-06-30            45\n",
       "30   2020-07-31           114\n",
       "31   2020-08-31           119\n",
       "32   2020-09-30           120\n",
       "33   2020-10-31           116\n",
       "34   2020-11-30           106\n",
       "35   2020-12-31           134\n",
       "36   2021-01-31           145\n",
       "37   2021-02-28           134\n",
       "38   2021-03-31           175\n",
       "39   2021-04-30           145\n",
       "40   2021-05-31           153\n",
       "41   2021-06-30           123\n",
       "42   2021-07-31           101\n",
       "43   2021-08-31           124\n",
       "44   2021-09-30           121\n",
       "45   2021-10-31           138\n",
       "46   2021-11-30           130\n",
       "47   2021-12-31           119\n",
       "48   2022-01-31            86\n",
       "49   2022-02-28           126\n",
       "50   2022-03-31           189\n",
       "51   2022-04-30           196\n",
       "52   2022-05-31           157\n",
       "53   2022-06-30           176\n",
       "54   2022-07-31           197\n",
       "55   2022-08-31           206\n",
       "56   2022-09-30           171\n",
       "57   2022-10-31           202\n",
       "58   2022-11-30           173"
      ]
     },
     "execution_count": 256,
     "metadata": {},
     "output_type": "execute_result"
    }
   ],
   "source": [
    "m = pd.read_csv('cases_by_year')\n",
    "m"
   ]
  },
  {
   "cell_type": "code",
   "execution_count": null,
   "id": "606a6e5b",
   "metadata": {},
   "outputs": [],
   "source": [
    "m['CaseOpenDate'] = m['CaseOpenDate'].str[:-3]"
   ]
  },
  {
   "cell_type": "code",
   "execution_count": 261,
   "id": "9ca09402",
   "metadata": {},
   "outputs": [],
   "source": [
    "import matplotlib.pyplot as plt"
   ]
  },
  {
   "cell_type": "code",
   "execution_count": 264,
   "id": "c5c52a96",
   "metadata": {},
   "outputs": [],
   "source": [
    "year_month = m['CaseOpenDate']\n",
    "case_load = m['LitigationID']"
   ]
  },
  {
   "cell_type": "code",
   "execution_count": 268,
   "id": "c0e569b5",
   "metadata": {},
   "outputs": [
    {
     "data": {
      "image/png": "[encoded data removed]",
      "text/plain": [
       "<Figure size 432x288 with 1 Axes>"
      ]
     },
     "metadata": {
      "needs_background": "light"
     },
     "output_type": "display_data"
    }
   ],
   "source": [
    "plt.scatter(case_load, year_month)\n",
    "plt.show()"
   ]
  }
 ],
 "metadata": {
  "kernelspec": {
   "display_name": "Python 3 (ipykernel)",
   "language": "python",
   "name": "python3"
  },
  "language_info": {
   "codemirror_mode": {
    "name": "ipython",
    "version": 3
   },
   "file_extension": ".py",
   "mimetype": "text/x-python",
   "name": "python",
   "nbconvert_exporter": "python",
   "pygments_lexer": "ipython3",
   "version": "3.9.12"
  }
 },
 "nbformat": 4,
 "nbformat_minor": 5
}
