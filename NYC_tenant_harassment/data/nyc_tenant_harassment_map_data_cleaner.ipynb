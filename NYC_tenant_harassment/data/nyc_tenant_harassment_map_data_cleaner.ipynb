{
 "cells": [
  {
   "cell_type": "markdown",
   "id": "6f3732db",
   "metadata": {},
   "source": [
    "## Imports and Read-in"
   ]
  },
  {
   "cell_type": "code",
   "execution_count": 1,
   "id": "333dfc18",
   "metadata": {},
   "outputs": [],
   "source": [
    "import os\n",
    "import pandas as pd\n",
    "from pandas_geojson import to_geojson, write_geojson"
   ]
  },
  {
   "cell_type": "code",
   "execution_count": 2,
   "id": "dc2307f3",
   "metadata": {},
   "outputs": [],
   "source": [
    "### Data as of 12.28.22 ##\n",
    "df = pd.read_csv('Housing_Litigations.csv')"
   ]
  },
  {
   "cell_type": "markdown",
   "id": "f1b07396",
   "metadata": {},
   "source": [
    "## Data Index:\n",
    "df - Original read in of data. No changes <br>\n",
    "df2 - DF of data filtered to only have Tenant Action/Harassment `CaseType`s <br>\n",
    "df_SomeYear - A DF of all the cases filed that year"
   ]
  },
  {
   "cell_type": "markdown",
   "id": "2059591f",
   "metadata": {},
   "source": [
    "## Data Cleaner"
   ]
  },
  {
   "cell_type": "code",
   "execution_count": 3,
   "id": "76af7846",
   "metadata": {},
   "outputs": [
    {
     "data": {
      "text/plain": [
       "Index(['LitigationID', 'BuildingID', 'Boro', 'HouseNumber', 'StreetName',\n",
       "       'Zip', 'Block', 'Lot', 'CaseType', 'CaseOpenDate', 'CaseStatus',\n",
       "       'OpenJudgement', 'FindingOfHarassment', 'FindingDate', 'Penalty',\n",
       "       'Respondent', 'Latitude', 'Longitude', 'Community District',\n",
       "       'Council District', 'Census Tract', 'BIN', 'BBL', 'NTA'],\n",
       "      dtype='object')"
      ]
     },
     "execution_count": 3,
     "metadata": {},
     "output_type": "execute_result"
    }
   ],
   "source": [
    "df.columns"
   ]
  },
  {
   "cell_type": "code",
   "execution_count": 4,
   "id": "67b6f974",
   "metadata": {},
   "outputs": [
    {
     "data": {
      "text/plain": [
       "Tenant Action                   84340\n",
       "Heat and Hot Water              48602\n",
       "Access Warrant - Non-Lead       17768\n",
       "Tenant Action/Harrassment       14439\n",
       "False Certification Non-Lead     7524\n",
       "Comprehensive                    7244\n",
       "Access Warrant - lead            3916\n",
       "CONH                             2364\n",
       "Comp Supplemental Cases          2037\n",
       "Lead False Certification          675\n",
       "7A                                358\n",
       "Heat Supplemental Cases           317\n",
       "Failure to Register Only          245\n",
       "HLD - Other Case Type               8\n",
       "Name: CaseType, dtype: int64"
      ]
     },
     "execution_count": 4,
     "metadata": {},
     "output_type": "execute_result"
    }
   ],
   "source": [
    "## Reveal case types\n",
    "df['CaseType'].value_counts()"
   ]
  },
  {
   "cell_type": "code",
   "execution_count": 50,
   "id": "9d6f6c16",
   "metadata": {},
   "outputs": [
    {
     "data": {
      "text/plain": [
       "False    14416\n",
       "True        23\n",
       "Name: Latitude, dtype: int64"
      ]
     },
     "execution_count": 50,
     "metadata": {},
     "output_type": "execute_result"
    }
   ],
   "source": [
    "## Create new df with only Tenant Action/Harrassment\n",
    "df2 = df.loc[df['CaseType'] == 'Tenant Action/Harrassment']\n",
    "df2['Latitude'].isna().value_counts()"
   ]
  },
  {
   "cell_type": "code",
   "execution_count": 51,
   "id": "6ef9ca48",
   "metadata": {},
   "outputs": [],
   "source": [
    "df2.to_csv('TenantHarassmentCasesOnly.csv')"
   ]
  },
  {
   "cell_type": "code",
   "execution_count": 6,
   "id": "0707798c",
   "metadata": {},
   "outputs": [],
   "source": [
    "## Remove Rows without location information\n",
    "df2 = df2.dropna(subset='Latitude')"
   ]
  },
  {
   "cell_type": "code",
   "execution_count": 7,
   "id": "43a3c5f3",
   "metadata": {},
   "outputs": [
    {
     "data": {
      "text/plain": [
       "False    14416\n",
       "Name: Latitude, dtype: int64"
      ]
     },
     "execution_count": 7,
     "metadata": {},
     "output_type": "execute_result"
    }
   ],
   "source": [
    "## Check to see if NAs remain\n",
    "df2['Latitude'].isna().value_counts()"
   ]
  },
  {
   "cell_type": "code",
   "execution_count": 8,
   "id": "5c4f2959",
   "metadata": {},
   "outputs": [
    {
     "data": {
      "text/plain": [
       "0         05/18/2016\n",
       "1         03/03/2020\n",
       "2         01/25/2011\n",
       "3         10/25/2013\n",
       "4         06/28/2010\n",
       "             ...    \n",
       "189832    11/30/2021\n",
       "189833    11/25/2022\n",
       "189834    11/22/2022\n",
       "189835    11/10/2022\n",
       "189836    10/27/2022\n",
       "Name: CaseOpenDate, Length: 189837, dtype: object"
      ]
     },
     "execution_count": 8,
     "metadata": {},
     "output_type": "execute_result"
    }
   ],
   "source": [
    "## Check data type\n",
    "df['CaseOpenDate']"
   ]
  },
  {
   "cell_type": "code",
   "execution_count": 9,
   "id": "de8dcb50",
   "metadata": {},
   "outputs": [],
   "source": [
    "## Create new column with the year the case was filed\n",
    "df2['CaseOpenYear'] = df2['CaseOpenDate'].str[6:]"
   ]
  },
  {
   "cell_type": "code",
   "execution_count": 10,
   "id": "61b8f869",
   "metadata": {},
   "outputs": [
    {
     "data": {
      "text/plain": [
       "2022    1879\n",
       "2019    1627\n",
       "2021    1608\n",
       "2018    1205\n",
       "2020    1131\n",
       "2016    1106\n",
       "2017    1081\n",
       "2015     897\n",
       "2014     803\n",
       "2013     774\n",
       "2012     654\n",
       "2010     493\n",
       "2011     444\n",
       "2009     440\n",
       "2008     272\n",
       "2004       1\n",
       "2030       1\n",
       "Name: CaseOpenYear, dtype: int64"
      ]
     },
     "execution_count": 10,
     "metadata": {},
     "output_type": "execute_result"
    }
   ],
   "source": [
    "## Value counts for open years\n",
    "df2.CaseOpenYear.value_counts()"
   ]
  },
  {
   "cell_type": "code",
   "execution_count": 11,
   "id": "96bf1057",
   "metadata": {},
   "outputs": [],
   "source": [
    "## Remove NAs\n",
    "df2 = df2.fillna('N/A')"
   ]
  },
  {
   "cell_type": "code",
   "execution_count": 12,
   "id": "1c81a638",
   "metadata": {},
   "outputs": [],
   "source": [
    "## Convert to string. NOTE: for some reasons, you can't write integers\n",
    "## to a geoJson file. Strings only.\n",
    "df2['CaseOpenYear'] = df2['CaseOpenYear'].astype(str)"
   ]
  },
  {
   "cell_type": "code",
   "execution_count": 13,
   "id": "d6c80d7e",
   "metadata": {},
   "outputs": [],
   "source": [
    "## Create separate DF for case years 2018 through 2022\n",
    "df_2018 = df2.loc[df2['CaseOpenYear'] == '2018']\n",
    "df_2019 = df2.loc[df2['CaseOpenYear'] == '2019']\n",
    "df_2020 = df2.loc[df2['CaseOpenYear'] == '2020']\n",
    "df_2021 = df2.loc[df2['CaseOpenYear'] == '2021']\n",
    "df_2022 = df2.loc[df2['CaseOpenYear'] == '2022']"
   ]
  },
  {
   "cell_type": "markdown",
   "id": "29264521",
   "metadata": {},
   "source": [
    "### Make a GeoJson file for each year, 2018 through 2022"
   ]
  },
  {
   "cell_type": "code",
   "execution_count": 14,
   "id": "a5f166c5",
   "metadata": {},
   "outputs": [],
   "source": [
    "geo_json = to_geojson(df=df2, lat='Latitude', lon='Longitude',\n",
    "                     properties=['LitigationID','BuildingID','Boro','HouseNumber','StreetName','CaseOpenDate','CaseStatus','OpenJudgement','FindingOfHarassment','FindingDate','Penalty','Respondent','CaseOpenYear'])\n",
    "write_geojson(geo_json, filename='NYC_tenant_harassment.geojson', indent=4)"
   ]
  },
  {
   "cell_type": "code",
   "execution_count": 15,
   "id": "d07fbaff",
   "metadata": {},
   "outputs": [],
   "source": [
    "geo_json = to_geojson(df=df_2018, lat='Latitude', lon='Longitude',\n",
    "                     properties=['LitigationID','BuildingID','Boro','HouseNumber','StreetName','CaseOpenDate','CaseStatus','OpenJudgement','FindingOfHarassment','FindingDate','Penalty','Respondent','CaseOpenYear'])\n",
    "write_geojson(geo_json, filename='NYC_tenant_harassment2018.geojson', indent=4)"
   ]
  },
  {
   "cell_type": "code",
   "execution_count": 16,
   "id": "07c81124",
   "metadata": {},
   "outputs": [],
   "source": [
    "geo_json = to_geojson(df=df_2019, lat='Latitude', lon='Longitude',\n",
    "                     properties=['LitigationID','BuildingID','Boro','HouseNumber','StreetName','CaseOpenDate','CaseStatus','OpenJudgement','FindingOfHarassment','FindingDate','Penalty','Respondent','CaseOpenYear'])\n",
    "write_geojson(geo_json, filename='NYC_tenant_harassment2019.geojson', indent=4)"
   ]
  },
  {
   "cell_type": "code",
   "execution_count": 17,
   "id": "63cf1834",
   "metadata": {},
   "outputs": [],
   "source": [
    "geo_json = to_geojson(df=df_2020, lat='Latitude', lon='Longitude',\n",
    "                     properties=['LitigationID','BuildingID','Boro','HouseNumber','StreetName','CaseOpenDate','CaseStatus','OpenJudgement','FindingOfHarassment','FindingDate','Penalty','Respondent','CaseOpenYear'])\n",
    "write_geojson(geo_json, filename='NYC_tenant_harassment2020.geojson', indent=4)"
   ]
  },
  {
   "cell_type": "code",
   "execution_count": 18,
   "id": "24b1d91c",
   "metadata": {},
   "outputs": [],
   "source": [
    "geo_json = to_geojson(df=df_2021, lat='Latitude', lon='Longitude',\n",
    "                     properties=['LitigationID','BuildingID','Boro','HouseNumber','StreetName','CaseOpenDate','CaseStatus','OpenJudgement','FindingOfHarassment','FindingDate','Penalty','Respondent','CaseOpenYear'])\n",
    "write_geojson(geo_json, filename='NYC_tenant_harassment2021.geojson', indent=4)"
   ]
  },
  {
   "cell_type": "code",
   "execution_count": 19,
   "id": "f9440a30",
   "metadata": {},
   "outputs": [],
   "source": [
    "geo_json = to_geojson(df=df_2022, lat='Latitude', lon='Longitude',\n",
    "                     properties=['LitigationID','BuildingID','Boro','HouseNumber','StreetName','CaseOpenDate','CaseStatus','OpenJudgement','FindingOfHarassment','FindingDate','Penalty','Respondent','CaseOpenYear'])\n",
    "write_geojson(geo_json, filename='NYC_tenant_harassment2022.geojson', indent=4)"
   ]
  },
  {
   "cell_type": "code",
   "execution_count": 20,
   "id": "abf5531b",
   "metadata": {},
   "outputs": [],
   "source": [
    "base_name = 'https://trd-digital.github.io/trd-news-interactive-maps/NYC_tenant_harassment'"
   ]
  },
  {
   "cell_type": "code",
   "execution_count": 21,
   "id": "a69ae9f1",
   "metadata": {},
   "outputs": [
    {
     "name": "stdout",
     "output_type": "stream",
     "text": [
      "https://trd-digital.github.io/trd-news-interactive-maps/NYC_tenant_harassment\n"
     ]
    }
   ],
   "source": [
    "print(base_name)"
   ]
  },
  {
   "cell_type": "markdown",
   "id": "f6f8cd37",
   "metadata": {},
   "source": [
    "## Data Analysis"
   ]
  },
  {
   "cell_type": "code",
   "execution_count": 22,
   "id": "de873282",
   "metadata": {},
   "outputs": [
    {
     "name": "stdout",
     "output_type": "stream",
     "text": [
      "14416\n",
      "------\n",
      "1205\n",
      "------\n",
      "1627\n",
      "------\n",
      "1131\n",
      "------\n",
      "1608\n",
      "------\n",
      "1879\n"
     ]
    }
   ],
   "source": [
    "print(len(df2))\n",
    "print('------')\n",
    "print(len(df_2018))\n",
    "print('------')\n",
    "print(len(df_2019))\n",
    "print('------')\n",
    "print(len(df_2020))\n",
    "print('------')\n",
    "print(len(df_2021))\n",
    "print('------')\n",
    "print(len(df_2022))"
   ]
  },
  {
   "cell_type": "code",
   "execution_count": 23,
   "id": "8144c4e0",
   "metadata": {},
   "outputs": [
    {
     "data": {
      "text/plain": [
       "N/A              10499\n",
       "No Harassment     3723\n",
       "After Inquest      151\n",
       "After Trial         43\n",
       "Name: FindingOfHarassment, dtype: int64"
      ]
     },
     "execution_count": 23,
     "metadata": {},
     "output_type": "execute_result"
    }
   ],
   "source": [
    "df2.FindingOfHarassment.value_counts()"
   ]
  },
  {
   "cell_type": "code",
   "execution_count": 24,
   "id": "9607b445",
   "metadata": {},
   "outputs": [
    {
     "data": {
      "text/plain": [
       "2022    1879\n",
       "2019    1627\n",
       "2021    1608\n",
       "2018    1205\n",
       "2020    1131\n",
       "2016    1106\n",
       "2017    1081\n",
       "2015     897\n",
       "2014     803\n",
       "2013     774\n",
       "2012     654\n",
       "2010     493\n",
       "2011     444\n",
       "2009     440\n",
       "2008     272\n",
       "2004       1\n",
       "2030       1\n",
       "Name: CaseOpenYear, dtype: int64"
      ]
     },
     "execution_count": 24,
     "metadata": {},
     "output_type": "execute_result"
    }
   ],
   "source": [
    "df2['CaseOpenYear'].value_counts()"
   ]
  },
  {
   "cell_type": "code",
   "execution_count": 25,
   "id": "20bed275",
   "metadata": {},
   "outputs": [],
   "source": [
    "df2['Penalty'] = df2['Penalty'].str.replace('N/A','0')"
   ]
  },
  {
   "cell_type": "code",
   "execution_count": 26,
   "id": "a71e2ee8",
   "metadata": {},
   "outputs": [
    {
     "data": {
      "text/plain": [
       "Index(['LitigationID', 'BuildingID', 'Boro', 'HouseNumber', 'StreetName',\n",
       "       'Zip', 'Block', 'Lot', 'CaseType', 'CaseOpenDate', 'CaseStatus',\n",
       "       'OpenJudgement', 'FindingOfHarassment', 'FindingDate', 'Penalty',\n",
       "       'Respondent', 'Latitude', 'Longitude', 'Community District',\n",
       "       'Council District', 'Census Tract', 'BIN', 'BBL', 'NTA'],\n",
       "      dtype='object')"
      ]
     },
     "execution_count": 26,
     "metadata": {},
     "output_type": "execute_result"
    }
   ],
   "source": [
    "df.columns"
   ]
  },
  {
   "cell_type": "code",
   "execution_count": 27,
   "id": "56de4f89",
   "metadata": {},
   "outputs": [
    {
     "data": {
      "text/plain": [
       "CaseType\n",
       "7A                                   0.0\n",
       "Access Warrant - Non-Lead            0.0\n",
       "Access Warrant - lead                0.0\n",
       "CONH                                 0.0\n",
       "Comp Supplemental Cases              0.0\n",
       "Comprehensive                        0.0\n",
       "Failure to Register Only             0.0\n",
       "False Certification Non-Lead         0.0\n",
       "HLD - Other Case Type                0.0\n",
       "Heat Supplemental Cases              0.0\n",
       "Heat and Hot Water                   0.0\n",
       "Lead False Certification             0.0\n",
       "Tenant Action                        0.0\n",
       "Tenant Action/Harrassment       942952.0\n",
       "Name: Penalty, dtype: float64"
      ]
     },
     "execution_count": 27,
     "metadata": {},
     "output_type": "execute_result"
    }
   ],
   "source": [
    "df.groupby('CaseType')['Penalty'].sum()"
   ]
  },
  {
   "cell_type": "code",
   "execution_count": 28,
   "id": "880fa318",
   "metadata": {},
   "outputs": [],
   "source": [
    "# df2['Penalty'] = pd.to_numeric(df['Penalty'])"
   ]
  },
  {
   "cell_type": "code",
   "execution_count": 29,
   "id": "c881256e",
   "metadata": {},
   "outputs": [],
   "source": [
    "# ## For all years in the data\n",
    "# print(f'${df2.Penalty.sum():,}')"
   ]
  },
  {
   "cell_type": "code",
   "execution_count": 30,
   "id": "364294d9",
   "metadata": {},
   "outputs": [],
   "source": [
    "# df2.groupby('CaseOpenYear')['Penalty'].sum()"
   ]
  },
  {
   "cell_type": "code",
   "execution_count": 31,
   "id": "aaf3b4ac",
   "metadata": {},
   "outputs": [],
   "source": [
    "df3 = pd.concat([df_2018, df_2019, df_2020, df_2021, df_2022])"
   ]
  },
  {
   "cell_type": "code",
   "execution_count": 32,
   "id": "fa53a36f",
   "metadata": {},
   "outputs": [
    {
     "data": {
      "text/plain": [
       "2022    1879\n",
       "2019    1627\n",
       "2021    1608\n",
       "2018    1205\n",
       "2020    1131\n",
       "Name: CaseOpenYear, dtype: int64"
      ]
     },
     "execution_count": 32,
     "metadata": {},
     "output_type": "execute_result"
    }
   ],
   "source": [
    "df3.CaseOpenYear.value_counts()"
   ]
  },
  {
   "cell_type": "code",
   "execution_count": 33,
   "id": "cfca1bba",
   "metadata": {},
   "outputs": [],
   "source": [
    "# df3['Penalty'] = df3['Penalty'].str.replace('N/A','0')\n",
    "# df3.Penalty = pd.to_numeric(df3['Penalty'])"
   ]
  },
  {
   "cell_type": "code",
   "execution_count": 34,
   "id": "b5af2a8a",
   "metadata": {},
   "outputs": [],
   "source": [
    "## Respondent value counts\n",
    "# df3.Respondent.value_counts().head(60)"
   ]
  },
  {
   "cell_type": "markdown",
   "id": "bfaa3b18",
   "metadata": {},
   "source": [
    "## Set up for scatter graphic (not used)"
   ]
  },
  {
   "cell_type": "code",
   "execution_count": 35,
   "id": "980b30bd",
   "metadata": {},
   "outputs": [],
   "source": [
    "# df3['CaseOpenDate'] = pd.to_datetime(df3['CaseOpenDate'])\n",
    "# m = df3.groupby(pd.Grouper(key='CaseOpenDate',freq='M'))['LitigationID'].count()\n",
    "# m.to_csv('cases_by_year')\n",
    "# m = pd.read_csv('cases_by_year')\n",
    "# m['CaseOpenDate'] = m['CaseOpenDate'].str[:-3]"
   ]
  },
  {
   "cell_type": "code",
   "execution_count": 36,
   "id": "77cb8e83",
   "metadata": {},
   "outputs": [],
   "source": [
    "# import matplotlib.pyplot as plt"
   ]
  },
  {
   "cell_type": "code",
   "execution_count": 37,
   "id": "6af0f1cb",
   "metadata": {},
   "outputs": [],
   "source": [
    "# year_month = m['CaseOpenDate']\n",
    "# case_load = m['LitigationID']"
   ]
  },
  {
   "cell_type": "markdown",
   "id": "a8e7c1e6",
   "metadata": {},
   "source": [
    "## Chunk up data by outcome"
   ]
  },
  {
   "cell_type": "code",
   "execution_count": 38,
   "id": "9ca09402",
   "metadata": {},
   "outputs": [
    {
     "data": {
      "text/plain": [
       "Index(['LitigationID', 'BuildingID', 'Boro', 'HouseNumber', 'StreetName',\n",
       "       'Zip', 'Block', 'Lot', 'CaseType', 'CaseOpenDate', 'CaseStatus',\n",
       "       'OpenJudgement', 'FindingOfHarassment', 'FindingDate', 'Penalty',\n",
       "       'Respondent', 'Latitude', 'Longitude', 'Community District',\n",
       "       'Council District', 'Census Tract', 'BIN', 'BBL', 'NTA',\n",
       "       'CaseOpenYear'],\n",
       "      dtype='object')"
      ]
     },
     "execution_count": 38,
     "metadata": {},
     "output_type": "execute_result"
    }
   ],
   "source": [
    "df3.columns"
   ]
  },
  {
   "cell_type": "code",
   "execution_count": 39,
   "id": "c5c52a96",
   "metadata": {},
   "outputs": [
    {
     "data": {
      "text/plain": [
       "CLOSED     6450\n",
       "PENDING    1000\n",
       "Name: CaseStatus, dtype: int64"
      ]
     },
     "execution_count": 39,
     "metadata": {},
     "output_type": "execute_result"
    }
   ],
   "source": [
    "df3['CaseStatus'].value_counts()"
   ]
  },
  {
   "cell_type": "code",
   "execution_count": 40,
   "id": "2534346f",
   "metadata": {},
   "outputs": [
    {
     "data": {
      "text/plain": [
       "NO     7421\n",
       "YES      29\n",
       "Name: OpenJudgement, dtype: int64"
      ]
     },
     "execution_count": 40,
     "metadata": {},
     "output_type": "execute_result"
    }
   ],
   "source": [
    "df3['OpenJudgement'].value_counts()"
   ]
  },
  {
   "cell_type": "code",
   "execution_count": 41,
   "id": "d9e6f904",
   "metadata": {},
   "outputs": [
    {
     "data": {
      "text/plain": [
       "N/A              4584\n",
       "No Harassment    2745\n",
       "After Inquest      88\n",
       "After Trial        33\n",
       "Name: FindingOfHarassment, dtype: int64"
      ]
     },
     "execution_count": 41,
     "metadata": {},
     "output_type": "execute_result"
    }
   ],
   "source": [
    "df3['FindingOfHarassment'].value_counts()"
   ]
  },
  {
   "cell_type": "code",
   "execution_count": 42,
   "id": "f2587edd",
   "metadata": {},
   "outputs": [
    {
     "name": "stdout",
     "output_type": "stream",
     "text": [
      "7450\n",
      "4\n",
      "14416\n"
     ]
    }
   ],
   "source": [
    "print(len(df3))\n",
    "print(len('----'))\n",
    "print(len(df2))"
   ]
  },
  {
   "cell_type": "code",
   "execution_count": 43,
   "id": "49e3dc9b",
   "metadata": {},
   "outputs": [],
   "source": [
    "df3['Penalty'] = df['Penalty'].astype(str)\n",
    "df3['Penalty'] = df3['Penalty'].str.replace('nan','None Reported')"
   ]
  },
  {
   "cell_type": "code",
   "execution_count": 44,
   "id": "f813bda2",
   "metadata": {},
   "outputs": [
    {
     "data": {
      "text/plain": [
       "None Reported    7329\n",
       "2000.0             50\n",
       "0.0                33\n",
       "5000.0              8\n",
       "10000.0             4\n",
       "4000.0              3\n",
       "1000.0              3\n",
       "3000.0              3\n",
       "2500.0              2\n",
       "6000.0              2\n",
       "500.0               1\n",
       "5590.0              1\n",
       "2360.0              1\n",
       "560.0               1\n",
       "41160.0             1\n",
       "29550.0             1\n",
       "90830.0             1\n",
       "7500.0              1\n",
       "56100.0             1\n",
       "14000.0             1\n",
       "80500.0             1\n",
       "9000.0              1\n",
       "8000.0              1\n",
       "Name: Penalty, dtype: int64"
      ]
     },
     "execution_count": 44,
     "metadata": {},
     "output_type": "execute_result"
    }
   ],
   "source": [
    "df3.Penalty.value_counts()"
   ]
  },
  {
   "cell_type": "code",
   "execution_count": 45,
   "id": "cfdcbe5e",
   "metadata": {},
   "outputs": [],
   "source": [
    "df_NA = df3.loc[df3['FindingOfHarassment'] == 'N/A']\n",
    "df_NH = df3.loc[df3['FindingOfHarassment'] == 'No Harassment']\n",
    "df_AI = df3.loc[df3['FindingOfHarassment'] == 'After Inquest']\n",
    "df_AT = df3.loc[df3['FindingOfHarassment'] == 'After Trial']"
   ]
  },
  {
   "cell_type": "code",
   "execution_count": 46,
   "id": "0cb158f3",
   "metadata": {},
   "outputs": [],
   "source": [
    "geo_json = to_geojson(df=df_NA, lat='Latitude', lon='Longitude',\n",
    "                     properties=['LitigationID','BuildingID','Boro','HouseNumber','StreetName','CaseOpenDate','CaseStatus','OpenJudgement','FindingOfHarassment','FindingDate','Penalty','Respondent','CaseOpenYear'])\n",
    "write_geojson(geo_json, filename='NYC_tenant_harassment_NA.geojson', indent=4)"
   ]
  },
  {
   "cell_type": "code",
   "execution_count": 47,
   "id": "cbd3eea2",
   "metadata": {},
   "outputs": [],
   "source": [
    "geo_json = to_geojson(df=df_NH, lat='Latitude', lon='Longitude',\n",
    "                     properties=['LitigationID','BuildingID','Boro','HouseNumber','StreetName','CaseOpenDate','CaseStatus','OpenJudgement','FindingOfHarassment','FindingDate','Penalty','Respondent','CaseOpenYear'])\n",
    "write_geojson(geo_json, filename='NYC_tenant_harassment_NH.geojson', indent=4)"
   ]
  },
  {
   "cell_type": "code",
   "execution_count": 48,
   "id": "b75ee018",
   "metadata": {},
   "outputs": [],
   "source": [
    "geo_json = to_geojson(df=df_AI, lat='Latitude', lon='Longitude',\n",
    "                     properties=['LitigationID','BuildingID','Boro','HouseNumber','StreetName','CaseOpenDate','CaseStatus','OpenJudgement','FindingOfHarassment','FindingDate','Penalty','Respondent','CaseOpenYear'])\n",
    "write_geojson(geo_json, filename='NYC_tenant_harassment_AI.geojson', indent=4)"
   ]
  },
  {
   "cell_type": "code",
   "execution_count": 49,
   "id": "a1f8c736",
   "metadata": {},
   "outputs": [],
   "source": [
    "geo_json = to_geojson(df=df_AT, lat='Latitude', lon='Longitude',\n",
    "                     properties=['LitigationID','BuildingID','Boro','HouseNumber','StreetName','CaseOpenDate','CaseStatus','OpenJudgement','FindingOfHarassment','FindingDate','Penalty','Respondent','CaseOpenYear'])\n",
    "write_geojson(geo_json, filename='NYC_tenant_harassment_AT.geojson', indent=4)"
   ]
  }
 ],
 "metadata": {
  "kernelspec": {
   "display_name": "Python 3 (ipykernel)",
   "language": "python",
   "name": "python3"
  },
  "language_info": {
   "codemirror_mode": {
    "name": "ipython",
    "version": 3
   },
   "file_extension": ".py",
   "mimetype": "text/x-python",
   "name": "python",
   "nbconvert_exporter": "python",
   "pygments_lexer": "ipython3",
   "version": "3.9.12"
  }
 },
 "nbformat": 4,
 "nbformat_minor": 5
}
