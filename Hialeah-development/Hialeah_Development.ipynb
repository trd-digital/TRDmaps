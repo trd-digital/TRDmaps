{
 "cells": [
  {
   "cell_type": "code",
   "execution_count": 31,
   "metadata": {},
   "outputs": [],
   "source": [
    "import googlemaps\n",
    "import pandas as pd\n",
    "import numpy as np\n",
    "import re\n",
    "import os\n",
    "import geopandas as gpd\n",
    "import folium\n",
    "from textwrap import shorten\n",
    "import requests\n",
    "\n",
    "from bs4 import BeautifulSoup"
   ]
  },
  {
   "cell_type": "code",
   "execution_count": 9,
   "metadata": {},
   "outputs": [],
   "source": [
    "%store -r google_maps_API_Key\n",
    "gmaps_key = googlemaps.Client(key=google_maps_API_Key)"
   ]
  },
  {
   "cell_type": "code",
   "execution_count": 5,
   "metadata": {},
   "outputs": [],
   "source": [
    "df = pd.read_csv('Hialeah_Dev_Map - Sheet1.csv')"
   ]
  },
  {
   "cell_type": "code",
   "execution_count": 7,
   "metadata": {},
   "outputs": [],
   "source": [
    "df['geo_address'] = df['full_address'] + ' Hialeah, FL'"
   ]
  },
  {
   "cell_type": "code",
   "execution_count": 10,
   "metadata": {},
   "outputs": [],
   "source": [
    "def geocode(add):\n",
    "    g = gmaps_key.geocode(add)\n",
    "    lat = g[0][\"geometry\"][\"location\"][\"lat\"]\n",
    "    lng = g[0][\"geometry\"][\"location\"][\"lng\"]\n",
    "    return (lat, lng)\n",
    "\n",
    "df['geocoded'] = df['geo_address'].apply(geocode)"
   ]
  },
  {
   "cell_type": "code",
   "execution_count": 12,
   "metadata": {},
   "outputs": [],
   "source": [
    "df['geocoded'] = df['geocoded'].astype(str)\n",
    "df[['lat', 'lon']] = df['geocoded'].str.strip('()').str.split(', ', expand=True)\n",
    "df['lat'] = df['lat'].astype(float)\n",
    "df['lon'] = df['lon'].astype(float)"
   ]
  },
  {
   "cell_type": "markdown",
   "metadata": {},
   "source": [
    "## Image URL Collector"
   ]
  },
  {
   "cell_type": "code",
   "execution_count": 26,
   "metadata": {},
   "outputs": [],
   "source": [
    "df['image_links'] = ''\n",
    "links = []\n",
    "for url in df['story_link']:\n",
    "    try:\n",
    "        page = requests.get(url)\n",
    "        soup = BeautifulSoup(page.content, 'html.parser')\n",
    "        images = soup.find('img',{'class':'FeaturedBlock_image__GyCn6'})\n",
    "        images = images['src']\n",
    "        links.append(images)\n",
    "    except:\n",
    "        links.append('no_image')\n",
    "\n",
    "df['image_links'] = links"
   ]
  },
  {
   "cell_type": "code",
   "execution_count": 32,
   "metadata": {},
   "outputs": [
    {
     "data": {
      "text/plain": [
       "0    <a href=\"https://therealdeal.com/miami/2023/01...\n",
       "1    <a href=\"https://therealdeal.com/miami/2023/01...\n",
       "2    <a href=\"https://therealdeal.com/miami/2023/01...\n",
       "3    <a href=\"https://therealdeal.com/miami/2022/09...\n",
       "4    <a href=\"https://therealdeal.com/miami/2022/06...\n",
       "5    <a href=\"https://therealdeal.com/miami/2022/05...\n",
       "6    <a href=\"https://therealdeal.com/miami/2022/05...\n",
       "7    <a href=\"https://therealdeal.com/miami/2022/09...\n",
       "Name: description_link, dtype: object"
      ]
     },
     "execution_count": 32,
     "metadata": {},
     "output_type": "execute_result"
    }
   ],
   "source": [
    "df[\"short_description\"] = df[\"description\"].apply(lambda s: shorten(s, width=20, placeholder=\"\"))\n",
    "df['remaining_desc'] = df.apply(lambda row : row['description'].replace(str(row['short_description']), ''), axis=1)\n",
    "df['remaining_desc']\n",
    "\n",
    "df[\"description_link\"] = '<a href=\"' + df[\"story_link\"] + '\" target=\"_blank\" rel=\"noopener noreferrer\">' + df[\"short_description\"] + \"</a>\" + df[\"remaining_desc\"]\n",
    "df['description_link']"
   ]
  },
  {
   "cell_type": "code",
   "execution_count": 35,
   "metadata": {},
   "outputs": [
    {
     "data": {
      "text/plain": [
       "Index(['full_address', 'developers', 'purchase_price', 'loan_amount',\n",
       "       'description', 'story_link', 'geo_address', 'geocoded', 'lat', 'lon',\n",
       "       'image_links', 'short_description', 'remaining_desc',\n",
       "       'description_link'],\n",
       "      dtype='object')"
      ]
     },
     "execution_count": 35,
     "metadata": {},
     "output_type": "execute_result"
    }
   ],
   "source": [
    "df.columns"
   ]
  },
  {
   "cell_type": "code",
   "execution_count": 37,
   "metadata": {},
   "outputs": [],
   "source": [
    "def popup_html(row):\n",
    "    i = row\n",
    "    address = df['full_address'].iloc[i]\n",
    "    developer = df['developers'].iloc[i]\n",
    "    image = df['image_links'].iloc[i]\n",
    "    description = df['description_link'].iloc[i]\n",
    "    \n",
    "    html = '''<!DOCTYPE html>\n",
    "    <html>\n",
    "    <img src={} width=\"256\" height=\"156\">'''.format(image) + '''<br>______________________________________<br>\n",
    "    <strong>Address: </strong>{}'''.format(address) + '''<br>\n",
    "    <strong>Developer: </strong>{}'''.format(developer) + '''<br>\n",
    "    {}'''.format(description) + '''<br>\n",
    "    </html>\n",
    "    '''\n",
    "    return html"
   ]
  },
  {
   "cell_type": "code",
   "execution_count": 42,
   "metadata": {
    "scrolled": false
   },
   "outputs": [
    {
     "data": {
      "text/html": [
       "<div style=\"width:100%;\"><div style=\"position:relative;width:100%;height:0;padding-bottom:60%;\"><span style=\"color:#565656\">Make this Notebook Trusted to load map: File -> Trust Notebook</span><iframe srcdoc=\"&lt;!DOCTYPE html&gt;\n",
       "&lt;head&gt;    \n",
       "    &lt;meta http-equiv=&quot;content-type&quot; content=&quot;text/html; charset=UTF-8&quot; /&gt;\n",
       "    \n",
       "        &lt;script&gt;\n",
       "            L_NO_TOUCH = false;\n",
       "            L_DISABLE_3D = false;\n",
       "        &lt;/script&gt;\n",
       "    \n",
       "    &lt;style&gt;html, body {width: 100%;height: 100%;margin: 0;padding: 0;}&lt;/style&gt;\n",
       "    &lt;style&gt;#map {position:absolute;top:0;bottom:0;right:0;left:0;}&lt;/style&gt;\n",
       "    &lt;script src=&quot;https://cdn.jsdelivr.net/npm/leaflet@1.6.0/dist/leaflet.js&quot;&gt;&lt;/script&gt;\n",
       "    &lt;script src=&quot;https://code.jquery.com/jquery-1.12.4.min.js&quot;&gt;&lt;/script&gt;\n",
       "    &lt;script src=&quot;https://maxcdn.bootstrapcdn.com/bootstrap/3.2.0/js/bootstrap.min.js&quot;&gt;&lt;/script&gt;\n",
       "    &lt;script src=&quot;https://cdnjs.cloudflare.com/ajax/libs/Leaflet.awesome-markers/2.0.2/leaflet.awesome-markers.js&quot;&gt;&lt;/script&gt;\n",
       "    &lt;link rel=&quot;stylesheet&quot; href=&quot;https://cdn.jsdelivr.net/npm/leaflet@1.6.0/dist/leaflet.css&quot;/&gt;\n",
       "    &lt;link rel=&quot;stylesheet&quot; href=&quot;https://maxcdn.bootstrapcdn.com/bootstrap/3.2.0/css/bootstrap.min.css&quot;/&gt;\n",
       "    &lt;link rel=&quot;stylesheet&quot; href=&quot;https://maxcdn.bootstrapcdn.com/bootstrap/3.2.0/css/bootstrap-theme.min.css&quot;/&gt;\n",
       "    &lt;link rel=&quot;stylesheet&quot; href=&quot;https://maxcdn.bootstrapcdn.com/font-awesome/4.6.3/css/font-awesome.min.css&quot;/&gt;\n",
       "    &lt;link rel=&quot;stylesheet&quot; href=&quot;https://cdnjs.cloudflare.com/ajax/libs/Leaflet.awesome-markers/2.0.2/leaflet.awesome-markers.css&quot;/&gt;\n",
       "    &lt;link rel=&quot;stylesheet&quot; href=&quot;https://cdn.jsdelivr.net/gh/python-visualization/folium/folium/templates/leaflet.awesome.rotate.min.css&quot;/&gt;\n",
       "    \n",
       "            &lt;meta name=&quot;viewport&quot; content=&quot;width=device-width,\n",
       "                initial-scale=1.0, maximum-scale=1.0, user-scalable=no&quot; /&gt;\n",
       "            &lt;style&gt;\n",
       "                #map_96b73db34f9fda0e26136d9fb196c1b0 {\n",
       "                    position: relative;\n",
       "                    width: 100.0%;\n",
       "                    height: 100.0%;\n",
       "                    left: 0.0%;\n",
       "                    top: 0.0%;\n",
       "                }\n",
       "            &lt;/style&gt;\n",
       "        \n",
       "&lt;/head&gt;\n",
       "&lt;body&gt;    \n",
       "    \n",
       "              &lt;h3 align=&quot;center&quot; style=&quot;font-size:16px&quot;&gt;&lt;b&gt;Hialeah Development Projects&lt;/b&gt;&lt;/h3&gt;\n",
       "             \n",
       "    \n",
       "            &lt;div class=&quot;folium-map&quot; id=&quot;map_96b73db34f9fda0e26136d9fb196c1b0&quot; &gt;&lt;/div&gt;\n",
       "        \n",
       "&lt;/body&gt;\n",
       "&lt;script&gt;    \n",
       "    \n",
       "            var map_96b73db34f9fda0e26136d9fb196c1b0 = L.map(\n",
       "                &quot;map_96b73db34f9fda0e26136d9fb196c1b0&quot;,\n",
       "                {\n",
       "                    center: [25.8839133375, -80.3191816125],\n",
       "                    crs: L.CRS.EPSG3857,\n",
       "                    zoom: 13,\n",
       "                    zoomControl: true,\n",
       "                    preferCanvas: false,\n",
       "                }\n",
       "            );\n",
       "\n",
       "            \n",
       "\n",
       "        \n",
       "    \n",
       "            var tile_layer_f1679740f7fa4f2f61f97ec271b50f22 = L.tileLayer(\n",
       "                &quot;https://{s}.tile.openstreetmap.org/{z}/{x}/{y}.png&quot;,\n",
       "                {&quot;attribution&quot;: &quot;Data by \\u0026copy; \\u003ca href=\\&quot;http://openstreetmap.org\\&quot;\\u003eOpenStreetMap\\u003c/a\\u003e, under \\u003ca href=\\&quot;http://www.openstreetmap.org/copyright\\&quot;\\u003eODbL\\u003c/a\\u003e.&quot;, &quot;detectRetina&quot;: false, &quot;maxNativeZoom&quot;: 18, &quot;maxZoom&quot;: 18, &quot;minZoom&quot;: 0, &quot;noWrap&quot;: false, &quot;opacity&quot;: 1, &quot;subdomains&quot;: &quot;abc&quot;, &quot;tms&quot;: false}\n",
       "            ).addTo(map_96b73db34f9fda0e26136d9fb196c1b0);\n",
       "        \n",
       "    \n",
       "            var marker_c92d9499607627abd3135eb0717acc18 = L.marker(\n",
       "                [25.8905352, -80.293203],\n",
       "                {}\n",
       "            ).addTo(map_96b73db34f9fda0e26136d9fb196c1b0);\n",
       "        \n",
       "    \n",
       "        var popup_8d59fe4c746b67c3bbdd289788db7dfd = L.popup({&quot;maxWidth&quot;: &quot;100%&quot;});\n",
       "\n",
       "        \n",
       "            \n",
       "                var html_b74d763c60bbcaae6aac0806e03602e9 = $(`&lt;div id=&quot;html_b74d763c60bbcaae6aac0806e03602e9&quot; style=&quot;width: 100.0%; height: 100.0%;&quot;&gt;&lt;!DOCTYPE html&gt;     &lt;html&gt;     &lt;img src=https://therealdeal.com/wp-content/uploads/2023/01/main_MIA_Prestige-JV-1-1024x638.jpg width=&quot;256&quot; height=&quot;156&quot;&gt;&lt;br&gt;______________________________________&lt;br&gt;     &lt;strong&gt;Address: &lt;/strong&gt;7450 West Fourth Avenue&lt;br&gt;     &lt;strong&gt;Developer: &lt;/strong&gt;Prestige Companies and Florida Value Partners&lt;br&gt;     &lt;a href=&quot;https://therealdeal.com/miami/2023/01/24/prestige-jv-scores-21m-construction-loan-for-hialeah-apartments/&quot; target=&quot;_blank&quot; rel=&quot;noopener noreferrer&quot;&gt;Prestige and Florida&lt;/a&gt; Value Partners are building a three-story building with 12 apartments and 100 townhomes, which will be for rent.  Value bought the five-acre property last year for $15 million from a Prestige affiliate. The joint-venture scored a $20.5 million mortgage from Boca Raton-based Amzak Capital Management in January. Prestige is based in Miami Lakes and Florida Value in Miami.&lt;br&gt;     &lt;/html&gt;     &lt;/div&gt;`)[0];\n",
       "                popup_8d59fe4c746b67c3bbdd289788db7dfd.setContent(html_b74d763c60bbcaae6aac0806e03602e9);\n",
       "            \n",
       "        \n",
       "\n",
       "        marker_c92d9499607627abd3135eb0717acc18.bindPopup(popup_8d59fe4c746b67c3bbdd289788db7dfd)\n",
       "        ;\n",
       "\n",
       "        \n",
       "    \n",
       "    \n",
       "            var marker_3d2e56c688039d90726d6dda22f60b59 = L.marker(\n",
       "                [25.9165639, -80.36636969999999],\n",
       "                {}\n",
       "            ).addTo(map_96b73db34f9fda0e26136d9fb196c1b0);\n",
       "        \n",
       "    \n",
       "        var popup_3c6e99be011221a9e5eafbadfb4dd3b5 = L.popup({&quot;maxWidth&quot;: &quot;100%&quot;});\n",
       "\n",
       "        \n",
       "            \n",
       "                var html_cb3916718100574dab4b2cb5d41fbb44 = $(`&lt;div id=&quot;html_cb3916718100574dab4b2cb5d41fbb44&quot; style=&quot;width: 100.0%; height: 100.0%;&quot;&gt;&lt;!DOCTYPE html&gt;     &lt;html&gt;     &lt;img src=https://therealdeal.com/wp-content/uploads/2023/01/ft_MIA_Ares-Hialeah-705x499.jpg width=&quot;256&quot; height=&quot;156&quot;&gt;&lt;br&gt;______________________________________&lt;br&gt;     &lt;strong&gt;Address: &lt;/strong&gt;4010 West 104th Street&lt;br&gt;     &lt;strong&gt;Developer: &lt;/strong&gt;Ares Management&lt;br&gt;     &lt;a href=&quot;https://therealdeal.com/miami/2023/01/05/ares-pays-111m-for-warehouse-dev-site-in-hialeah/&quot; target=&quot;_blank&quot; rel=&quot;noopener noreferrer&quot;&gt;Los Angeles-based&lt;/a&gt; Ares Management plans a three-building industrial complex at a Countyline Corporate Park. Two of the three buildings will span 214,000 square feet, the third for nearly 193,000 square feet. Smaller office and warehouse spaces are also planned, ranging from 21,000 to 57,000 square feet. Ares paid $111.1 million for the property in January.&lt;br&gt;     &lt;/html&gt;     &lt;/div&gt;`)[0];\n",
       "                popup_3c6e99be011221a9e5eafbadfb4dd3b5.setContent(html_cb3916718100574dab4b2cb5d41fbb44);\n",
       "            \n",
       "        \n",
       "\n",
       "        marker_3d2e56c688039d90726d6dda22f60b59.bindPopup(popup_3c6e99be011221a9e5eafbadfb4dd3b5)\n",
       "        ;\n",
       "\n",
       "        \n",
       "    \n",
       "    \n",
       "            var marker_5c7e7e23acc4654204acdf3d12ced89a = L.marker(\n",
       "                [25.8575963, -80.2781057],\n",
       "                {}\n",
       "            ).addTo(map_96b73db34f9fda0e26136d9fb196c1b0);\n",
       "        \n",
       "    \n",
       "        var popup_5995c5cccf3d73bcf7a9fcfc180b4c7a = L.popup({&quot;maxWidth&quot;: &quot;100%&quot;});\n",
       "\n",
       "        \n",
       "            \n",
       "                var html_94f0c73e454f1593694b773c57f18e80 = $(`&lt;div id=&quot;html_94f0c73e454f1593694b773c57f18e80&quot; style=&quot;width: 100.0%; height: 100.0%;&quot;&gt;&lt;!DOCTYPE html&gt;     &lt;html&gt;     &lt;img src=https://therealdeal.com/wp-content/uploads/2022/12/FT-Easton-LBA-score-61M-loan-for-Hialeah-industrial-project-705x499.jpg width=&quot;256&quot; height=&quot;156&quot;&gt;&lt;br&gt;______________________________________&lt;br&gt;     &lt;strong&gt;Address: &lt;/strong&gt;4220 West Place&lt;br&gt;     &lt;strong&gt;Developer: &lt;/strong&gt;Easton Group, LBA Logistics&lt;br&gt;     &lt;a href=&quot;https://therealdeal.com/miami/2023/01/03/easton-lba-score-61m-construction-loan-for-hialeah-warehouses/&quot; target=&quot;_blank&quot; rel=&quot;noopener noreferrer&quot;&gt;Easton Group and LBA&lt;/a&gt; Logistics nabbed a $61 million construction loan in January with plans to build spec warehouses. The warehouses are slated to span 463,000 square feet. Doral-based Easton and Irvine, California-based LBA paid $29.4 million for the 26-acre vacant property last year. Des Moines, Iowa-based Principal Life insurance provided the financing.&lt;br&gt;     &lt;/html&gt;     &lt;/div&gt;`)[0];\n",
       "                popup_5995c5cccf3d73bcf7a9fcfc180b4c7a.setContent(html_94f0c73e454f1593694b773c57f18e80);\n",
       "            \n",
       "        \n",
       "\n",
       "        marker_5c7e7e23acc4654204acdf3d12ced89a.bindPopup(popup_5995c5cccf3d73bcf7a9fcfc180b4c7a)\n",
       "        ;\n",
       "\n",
       "        \n",
       "    \n",
       "    \n",
       "            var marker_d425c89c4b9ab85082bc522b95347671 = L.marker(\n",
       "                [25.8456717, -80.2635377],\n",
       "                {}\n",
       "            ).addTo(map_96b73db34f9fda0e26136d9fb196c1b0);\n",
       "        \n",
       "    \n",
       "        var popup_a9fdedce21864ae103ac1f734daec95f = L.popup({&quot;maxWidth&quot;: &quot;100%&quot;});\n",
       "\n",
       "        \n",
       "            \n",
       "                var html_e8d48d9ff53ff1adc0ef19ce26cacb5e = $(`&lt;div id=&quot;html_e8d48d9ff53ff1adc0ef19ce26cacb5e&quot; style=&quot;width: 100.0%; height: 100.0%;&quot;&gt;&lt;!DOCTYPE html&gt;     &lt;html&gt;     &lt;img src=https://therealdeal.com/wp-content/uploads/2022/09/FT-MG-Developer-partner-score-148M-loan-for-Hialeah-apartments-1.jpg width=&quot;256&quot; height=&quot;156&quot;&gt;&lt;br&gt;______________________________________&lt;br&gt;     &lt;strong&gt;Address: &lt;/strong&gt;955 East 25th Street&lt;br&gt;     &lt;strong&gt;Developer: &lt;/strong&gt;MG Developer, Baron Property Group&lt;br&gt;     &lt;a href=&quot;https://therealdeal.com/miami/2022/09/23/mg-developer-partner-score-148m-loan-for-hialeah-apartments/&quot; target=&quot;_blank&quot; rel=&quot;noopener noreferrer&quot;&gt;Coral Gables-based&lt;/a&gt; MG Developer and New York-based Baron Property Group, inked a $148 million construction loan for a nearly 600-unit apartment complex in September. The project, dubbed Metro Parc, is a planned two-building, 10-story, 559-unit project on land the developers assembled last year for $12.7 million.&lt;br&gt;     &lt;/html&gt;     &lt;/div&gt;`)[0];\n",
       "                popup_a9fdedce21864ae103ac1f734daec95f.setContent(html_e8d48d9ff53ff1adc0ef19ce26cacb5e);\n",
       "            \n",
       "        \n",
       "\n",
       "        marker_d425c89c4b9ab85082bc522b95347671.bindPopup(popup_a9fdedce21864ae103ac1f734daec95f)\n",
       "        ;\n",
       "\n",
       "        \n",
       "    \n",
       "    \n",
       "            var marker_f01d343748767bbd4575bd84d87ba889 = L.marker(\n",
       "                [25.915029, -80.369237],\n",
       "                {}\n",
       "            ).addTo(map_96b73db34f9fda0e26136d9fb196c1b0);\n",
       "        \n",
       "    \n",
       "        var popup_987b2e4c8647d40c3b06f32ad0639919 = L.popup({&quot;maxWidth&quot;: &quot;100%&quot;});\n",
       "\n",
       "        \n",
       "            \n",
       "                var html_943ca6dc930512bbaa1c51438627bad2 = $(`&lt;div id=&quot;html_943ca6dc930512bbaa1c51438627bad2&quot; style=&quot;width: 100.0%; height: 100.0%;&quot;&gt;&lt;!DOCTYPE html&gt;     &lt;html&gt;     &lt;img src=https://therealdeal.com/wp-content/uploads/2022/06/ft_MIA_Hialeah.jpg width=&quot;256&quot; height=&quot;156&quot;&gt;&lt;br&gt;______________________________________&lt;br&gt;     &lt;strong&gt;Address: &lt;/strong&gt;410 West 104th Street&lt;br&gt;     &lt;strong&gt;Developer: &lt;/strong&gt;Ares Management&lt;br&gt;     &lt;a href=&quot;https://therealdeal.com/miami/2022/06/14/doubling-up-ares-pays-62m-for-two-hialeah-industrial-buildings-under-construction/&quot; target=&quot;_blank&quot; rel=&quot;noopener noreferrer&quot;&gt;Los Angeles-based&lt;/a&gt; Ares Management scooped up two warehouses under construction at 410 West 104th Street and an adjacent parcel for $62 million. Ares paid $37 million for the first, 9.6-acre site and $25 million for the second, 10.2-acre parcel. Ares took over construction after buying the development site from Miami-based Florida East Coast Industries (FECI), according to an Ares spokeswoman.&lt;br&gt;     &lt;/html&gt;     &lt;/div&gt;`)[0];\n",
       "                popup_987b2e4c8647d40c3b06f32ad0639919.setContent(html_943ca6dc930512bbaa1c51438627bad2);\n",
       "            \n",
       "        \n",
       "\n",
       "        marker_f01d343748767bbd4575bd84d87ba889.bindPopup(popup_987b2e4c8647d40c3b06f32ad0639919)\n",
       "        ;\n",
       "\n",
       "        \n",
       "    \n",
       "    \n",
       "            var marker_b33796e1dabef0a8ee58bdcb2ddd3f44 = L.marker(\n",
       "                [25.9006385, -80.33892879999999],\n",
       "                {}\n",
       "            ).addTo(map_96b73db34f9fda0e26136d9fb196c1b0);\n",
       "        \n",
       "    \n",
       "        var popup_a931ef0b054772e0ed7aa14034cea016 = L.popup({&quot;maxWidth&quot;: &quot;100%&quot;});\n",
       "\n",
       "        \n",
       "            \n",
       "                var html_e4557962e1cd08efd2cd60ad5145f4bd = $(`&lt;div id=&quot;html_e4557962e1cd08efd2cd60ad5145f4bd&quot; style=&quot;width: 100.0%; height: 100.0%;&quot;&gt;&lt;!DOCTYPE html&gt;     &lt;html&gt;     &lt;img src=https://therealdeal.com/wp-content/uploads/2022/05/Dacar-scores-81M-loan-for-Publix-anchored-mixed-use-project-in-Hialeah-705x431.jpg width=&quot;256&quot; height=&quot;156&quot;&gt;&lt;br&gt;______________________________________&lt;br&gt;     &lt;strong&gt;Address: &lt;/strong&gt;3685 West 85th Path&lt;br&gt;     &lt;strong&gt;Developer: &lt;/strong&gt;Dacar Management&lt;br&gt;     &lt;a href=&quot;https://therealdeal.com/miami/2022/05/18/dacar-scores-81m-loan-for-publix-anchored-mixed-use-project-in-hialeah/&quot; target=&quot;_blank&quot; rel=&quot;noopener noreferrer&quot;&gt;Dania Beach-based&lt;/a&gt; commercial real estate firm Dacar Management inked an $81 million construction loan for the mixed-use project at 3685 West 85th Path. Dacar acquired the 70-acre site in 2011 from a foreclosure auction and is currently constructing a mixed-use project with 244 apartments and a retail component.&lt;br&gt;     &lt;/html&gt;     &lt;/div&gt;`)[0];\n",
       "                popup_a931ef0b054772e0ed7aa14034cea016.setContent(html_e4557962e1cd08efd2cd60ad5145f4bd);\n",
       "            \n",
       "        \n",
       "\n",
       "        marker_b33796e1dabef0a8ee58bdcb2ddd3f44.bindPopup(popup_a931ef0b054772e0ed7aa14034cea016)\n",
       "        ;\n",
       "\n",
       "        \n",
       "    \n",
       "    \n",
       "            var marker_14dcc27d21e9c0cad5ef328d0769394b = L.marker(\n",
       "                [25.900619, -80.36507399999999],\n",
       "                {}\n",
       "            ).addTo(map_96b73db34f9fda0e26136d9fb196c1b0);\n",
       "        \n",
       "    \n",
       "        var popup_601aadc7a0897f1dabb04a7382e3ea50 = L.popup({&quot;maxWidth&quot;: &quot;100%&quot;});\n",
       "\n",
       "        \n",
       "            \n",
       "                var html_f8cb95be7e43329787a159bc44bcc57d = $(`&lt;div id=&quot;html_f8cb95be7e43329787a159bc44bcc57d&quot; style=&quot;width: 100.0%; height: 100.0%;&quot;&gt;&lt;!DOCTYPE html&gt;     &lt;html&gt;     &lt;img src=https://therealdeal.com/wp-content/uploads/2022/05/FT-Thumbnail_emerald-bay.jpg width=&quot;256&quot; height=&quot;156&quot;&gt;&lt;br&gt;______________________________________&lt;br&gt;     &lt;strong&gt;Address: &lt;/strong&gt;4030 West 88th Street&lt;br&gt;     &lt;strong&gt;Developer: &lt;/strong&gt;J.V.C. Management&lt;br&gt;     &lt;a href=&quot;https://therealdeal.com/miami/2022/05/03/hialeah-apartment-project-scores-67m-construction-loan/&quot; target=&quot;_blank&quot; rel=&quot;noopener noreferrer&quot;&gt;Juan Carlos Gonzalez&lt;/a&gt; through his J.V.C. Management plans to replace a trucking lot with a multi-phase project. The first phase calls for 314 apartments across seven buildings, and the second phase calls for an additional 300 units. Gonzalez scored a $67 million loan for the project in May.&lt;br&gt;     &lt;/html&gt;     &lt;/div&gt;`)[0];\n",
       "                popup_601aadc7a0897f1dabb04a7382e3ea50.setContent(html_f8cb95be7e43329787a159bc44bcc57d);\n",
       "            \n",
       "        \n",
       "\n",
       "        marker_14dcc27d21e9c0cad5ef328d0769394b.bindPopup(popup_601aadc7a0897f1dabb04a7382e3ea50)\n",
       "        ;\n",
       "\n",
       "        \n",
       "    \n",
       "    \n",
       "            var marker_fcd9d990aac1f5c8b4237622fc2b0025 = L.marker(\n",
       "                [25.8446531, -80.278997],\n",
       "                {}\n",
       "            ).addTo(map_96b73db34f9fda0e26136d9fb196c1b0);\n",
       "        \n",
       "    \n",
       "        var popup_583d4e0fff09fa72af7e837a9af29399 = L.popup({&quot;maxWidth&quot;: &quot;100%&quot;});\n",
       "\n",
       "        \n",
       "            \n",
       "                var html_f203240d2f7df429ee55b879e84c7549 = $(`&lt;div id=&quot;html_f203240d2f7df429ee55b879e84c7549&quot; style=&quot;width: 100.0%; height: 100.0%;&quot;&gt;&lt;!DOCTYPE html&gt;     &lt;html&gt;     &lt;img src=https://therealdeal.com/wp-content/uploads/2022/09/ft-Prestige-acquires-Hialeah-Park-dev-site-plans-343-apartments.jpg width=&quot;256&quot; height=&quot;156&quot;&gt;&lt;br&gt;______________________________________&lt;br&gt;     &lt;strong&gt;Address: &lt;/strong&gt;100 E 32nd St&lt;br&gt;     &lt;strong&gt;Developer: &lt;/strong&gt;Prestige Companies&lt;br&gt;     &lt;a href=&quot;https://therealdeal.com/miami/2022/09/06/prestige-acquires-hialeah-park-dev-site-plans-343-apartments/&quot; target=&quot;_blank&quot; rel=&quot;noopener noreferrer&quot;&gt;An affiliate of&lt;/a&gt; Miami Lakes-based Prestige paid $13.7 million for a 13.1-acre vacant lot on the 200-acre property that’s home to the historic Hialeah Park Racing &amp; Casino in September. Prestige plans to develop a Mater Academy K-12 charter school and 343 apartments.&lt;br&gt;     &lt;/html&gt;     &lt;/div&gt;`)[0];\n",
       "                popup_583d4e0fff09fa72af7e837a9af29399.setContent(html_f203240d2f7df429ee55b879e84c7549);\n",
       "            \n",
       "        \n",
       "\n",
       "        marker_fcd9d990aac1f5c8b4237622fc2b0025.bindPopup(popup_583d4e0fff09fa72af7e837a9af29399)\n",
       "        ;\n",
       "\n",
       "        \n",
       "    \n",
       "    \n",
       "            map_96b73db34f9fda0e26136d9fb196c1b0.fitBounds(\n",
       "                [25.8839133375, -80.3191816125],\n",
       "                {&quot;maxZoom&quot;: 15}\n",
       "            );\n",
       "        \n",
       "&lt;/script&gt;\" style=\"position:absolute;width:100%;height:100%;left:0;top:0;border:none !important;\" allowfullscreen webkitallowfullscreen mozallowfullscreen></iframe></div></div>"
      ],
      "text/plain": [
       "<folium.folium.Map at 0x7ff321379070>"
      ]
     },
     "execution_count": 42,
     "metadata": {},
     "output_type": "execute_result"
    }
   ],
   "source": [
    "import branca\n",
    "\n",
    "m = folium.Map(location=df[[\"lat\", \"lon\"]].mean().to_list(),zoom_start=13)\n",
    "\n",
    "title_html = '''\n",
    "              <h3 align=\"center\" style=\"font-size:16px\"><b>{}</b></h3>\n",
    "             '''.format(f'Hialeah Development Projects')\n",
    "\n",
    "for i in range(0,len(df)):\n",
    "    html = popup_html(i)\n",
    "    iframe = branca.element.IFrame(html=html)\n",
    "    popup = folium.Popup(folium.Html(html, script=True))\n",
    "    folium.Marker([df['lat'].iloc[i],df['lon'].iloc[i]],\n",
    "                 popup=popup).add_to(m)\n",
    "\n",
    "m.get_root().html.add_child(folium.Element(title_html))\n",
    "m.fit_bounds(bounds=df[['lat','lon']].mean().to_list(),max_zoom=15)\n",
    "# m.add_to(f)\n",
    "m"
   ]
  },
  {
   "cell_type": "code",
   "execution_count": 39,
   "metadata": {},
   "outputs": [],
   "source": [
    "m.save('index.html')"
   ]
  },
  {
   "cell_type": "markdown",
   "metadata": {},
   "source": [
    "## Map URL Snagger"
   ]
  },
  {
   "cell_type": "code",
   "execution_count": 43,
   "metadata": {},
   "outputs": [
    {
     "name": "stdout",
     "output_type": "stream",
     "text": [
      "https://trd-digital.github.io/trd-news-interactive-maps/Hialeah-development\n"
     ]
    }
   ],
   "source": [
    "base_name = 'https://trd-digital.github.io/trd-news-interactive-maps/'\n",
    "\n",
    "cwd = os.getcwd()\n",
    "\n",
    "cwd = cwd.split('/')\n",
    "\n",
    "final_name = base_name + cwd[-1]\n",
    "print(final_name)"
   ]
  }
 ],
 "metadata": {
  "kernelspec": {
   "display_name": "Python 3 (ipykernel)",
   "language": "python",
   "name": "python3"
  },
  "language_info": {
   "codemirror_mode": {
    "name": "ipython",
    "version": 3
   },
   "file_extension": ".py",
   "mimetype": "text/x-python",
   "name": "python",
   "nbconvert_exporter": "python",
   "pygments_lexer": "ipython3",
   "version": "3.9.12"
  },
  "toc": {
   "base_numbering": 1,
   "nav_menu": {},
   "number_sections": true,
   "sideBar": true,
   "skip_h1_title": false,
   "title_cell": "Table of Contents",
   "title_sidebar": "Contents",
   "toc_cell": false,
   "toc_position": {},
   "toc_section_display": true,
   "toc_window_display": false
  }
 },
 "nbformat": 4,
 "nbformat_minor": 4
}
