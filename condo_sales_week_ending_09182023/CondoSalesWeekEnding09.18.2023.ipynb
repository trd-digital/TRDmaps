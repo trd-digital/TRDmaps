{
 "cells": [
  {
   "cell_type": "markdown",
   "metadata": {},
   "source": [
    "## Imports"
   ]
  },
  {
   "cell_type": "code",
   "execution_count": 1,
   "metadata": {},
   "outputs": [],
   "source": [
    "import googlemaps\n",
    "import pandas as pd\n",
    "import numpy as np\n",
    "import re\n",
    "import os\n",
    "import geopandas as gpd\n",
    "import folium\n",
    "import tabula"
   ]
  },
  {
   "cell_type": "markdown",
   "metadata": {},
   "source": [
    "## Read-in"
   ]
  },
  {
   "cell_type": "code",
   "execution_count": 2,
   "metadata": {},
   "outputs": [],
   "source": [
    "# Gotta figure out how to get rid of the java error.\n",
    "# SO: https://stackoverflow.com/questions/54817211/java-command-is-not-found-from-this-python-process-please-ensure-java-is-inst\n",
    "\n",
    "dsf = tabula.read_pdf('condo.pdf', pages='all')"
   ]
  },
  {
   "cell_type": "markdown",
   "metadata": {},
   "source": [
    "## Clean Data"
   ]
  },
  {
   "cell_type": "code",
   "execution_count": 3,
   "metadata": {},
   "outputs": [],
   "source": [
    "df = dsf[0]\n",
    "df.columns = df.iloc[0]\n",
    "df = df[1:]\n",
    "df = df.drop(columns=df.columns[0])\n",
    "df = df.replace(np.nan, 'Not Available', regex=True)\n",
    "df = df.rename(columns={'Building / Address / City': 'building_address_city','Days on\\rMarket':'days_on_market',\\\n",
    "                        'Price /\\rSq. Ft.':'price_per_sqft'})\n",
    "df['building_address_city'] = df['building_address_city'].str.replace('^0', '', regex=True)\n",
    "df['geo_address'] = df['building_address_city']\n",
    "df['geo_address'] = df['geo_address'].map(lambda x: re.sub(r'\\r', ' ', x))\n",
    "df = df.replace('\\n',' ',regex=True)\n",
    "pattern = r'^(?P<building_name>[\\d\\s]*[A-Za-z\\s]+)\\s(?P<address>.+)\\s(?P<city>[A-Za-z\\s]+)$'\n",
    "df2 = df['geo_address']\n",
    "df2 = df2.to_frame()\n",
    "df2[['building_name', 'address', 'city']] = df2['geo_address'].str.extract(pattern, expand=True)"
   ]
  },
  {
   "cell_type": "markdown",
   "metadata": {},
   "source": [
    "Review this later (it's about how to properly merge DFs): https://pandas.pydata.org/pandas-docs/stable/user_guide/merging.html"
   ]
  },
  {
   "cell_type": "markdown",
   "metadata": {},
   "source": [
    "## Geocode"
   ]
  },
  {
   "cell_type": "code",
   "execution_count": 4,
   "metadata": {},
   "outputs": [],
   "source": [
    "result = pd.merge(df,df2,left_index=True, right_index=True)\n",
    "df = result\n",
    "df = df.drop(columns='city')"
   ]
  },
  {
   "cell_type": "code",
   "execution_count": 5,
   "metadata": {},
   "outputs": [],
   "source": [
    "%store -r google_maps_API_Key\n",
    "gmaps_key = googlemaps.Client(key=google_maps_API_Key)"
   ]
  },
  {
   "cell_type": "code",
   "execution_count": 6,
   "metadata": {},
   "outputs": [],
   "source": [
    "def geocode(add):\n",
    "    g = gmaps_key.geocode(add)\n",
    "    lat = g[0][\"geometry\"][\"location\"][\"lat\"]\n",
    "    lng = g[0][\"geometry\"][\"location\"][\"lng\"]\n",
    "    return (lat, lng)\n",
    "\n",
    "df['geocoded'] = df['geo_address_x'].apply(geocode)"
   ]
  },
  {
   "cell_type": "code",
   "execution_count": 7,
   "metadata": {},
   "outputs": [],
   "source": [
    "df['geocoded'] = df['geocoded'].astype(str)\n",
    "df[['lat', 'lon']] = df['geocoded'].str.strip('()').str.split(', ', expand=True)\n",
    "df['lat'] = df['lat'].astype(float)\n",
    "df['lon'] = df['lon'].astype(float)"
   ]
  },
  {
   "cell_type": "markdown",
   "metadata": {},
   "source": [
    "Folium documentation link: https://python-visualization.github.io/folium/index.html\n",
    "\n",
    "Folium is the library that lets us use leaflet with Python, since it's meant to be used with JavaScript.\n",
    "\n",
    "For adding titles: https://stackoverflow.com/questions/61928013/adding-a-title-or-text-to-a-folium-map"
   ]
  },
  {
   "cell_type": "markdown",
   "metadata": {},
   "source": [
    "## Correction section"
   ]
  },
  {
   "cell_type": "code",
   "execution_count": 8,
   "metadata": {},
   "outputs": [],
   "source": [
    "# df.at[index#,'col_name']"
   ]
  },
  {
   "cell_type": "markdown",
   "metadata": {},
   "source": [
    "## Format Data"
   ]
  },
  {
   "cell_type": "code",
   "execution_count": 8,
   "metadata": {},
   "outputs": [],
   "source": [
    "### Insert NaNs if needed ###\n",
    "df = df.replace('N/A', np.nan)"
   ]
  },
  {
   "cell_type": "code",
   "execution_count": 9,
   "metadata": {},
   "outputs": [],
   "source": [
    "df['int_Sale_Price'] = df['Sale Price'].str.replace('$','',regex=False)"
   ]
  },
  {
   "cell_type": "code",
   "execution_count": 10,
   "metadata": {},
   "outputs": [],
   "source": [
    "df['int_Sale_Price'] = df['int_Sale_Price'].str.replace(',','',regex=False)"
   ]
  },
  {
   "cell_type": "code",
   "execution_count": 11,
   "metadata": {},
   "outputs": [],
   "source": [
    "df['int_Sale_Price'] = pd.to_numeric(df['int_Sale_Price'])"
   ]
  },
  {
   "cell_type": "code",
   "execution_count": 12,
   "metadata": {},
   "outputs": [],
   "source": [
    "df['price_per_sqft'] = df['price_per_sqft'].str.replace('$','',regex=False)\n",
    "df['price_per_sqft'] = df['price_per_sqft'].str.replace(',','',regex=False)\n",
    "df['price_per_sqft'] = pd.to_numeric(df['price_per_sqft'])\n",
    "\n",
    "df['days_on_market'] = pd.to_numeric(df['days_on_market'])"
   ]
  },
  {
   "cell_type": "markdown",
   "metadata": {},
   "source": [
    "## Color-code top sale"
   ]
  },
  {
   "cell_type": "code",
   "execution_count": 13,
   "metadata": {},
   "outputs": [],
   "source": [
    "### Insert RANK values ###\n",
    "df['RANK'] = range(1, len(df) + 1)\n",
    "# use numpy to assign values to the 'COLOR' column\n",
    "df['COLOR'] = np.where(df['RANK'] <= 1, 'orange', 'blue')"
   ]
  },
  {
   "cell_type": "markdown",
   "metadata": {},
   "source": [
    "## HTML Popup Formatter"
   ]
  },
  {
   "cell_type": "code",
   "execution_count": 14,
   "metadata": {},
   "outputs": [
    {
     "data": {
      "text/plain": [
       "Index(['building_address_city', 'Close Date', 'days_on_market', 'Sale Price',\n",
       "       'Sq. Ft.', 'price_per_sqft', 'Agent', 'Listing Broker', 'Buyer Agent',\n",
       "       'Buyer Broker', 'geo_address_x', 'geo_address_y', 'building_name',\n",
       "       'address', 'geocoded', 'lat', 'lon', 'int_Sale_Price', 'RANK', 'COLOR'],\n",
       "      dtype='object')"
      ]
     },
     "execution_count": 14,
     "metadata": {},
     "output_type": "execute_result"
    }
   ],
   "source": [
    "df.columns"
   ]
  },
  {
   "cell_type": "code",
   "execution_count": 15,
   "metadata": {},
   "outputs": [],
   "source": [
    "def popup_html(row):\n",
    "    building_name = row['building_name']\n",
    "    price = row['Sale Price']\n",
    "    days_on_market = row['days_on_market']\n",
    "    listing_agent = row['Agent']\n",
    "    buyers_agent = row['Buyer Agent']\n",
    "    psf = row['price_per_sqft']\n",
    "    address = row['address']\n",
    "    \n",
    "    html = '''<!DOCTYPE html>\n",
    "    <html>\n",
    "    <strong>Building Name: </strong>{}'''.format(building_name) + '''<br>\n",
    "    <strong>Sale Price: </strong>{}'''.format(price) + '''<br>\n",
    "    <strong>Days on Market: </strong>{}'''.format(days_on_market) + '''<br>\n",
    "    <strong>Listing Agent: </strong>{}'''.format(listing_agent) + '''<br>\n",
    "    <strong>Buyer's Agent: </strong>{}'''.format(buyers_agent) + '''<br>\n",
    "    <strong>Price sq ft: </strong>${}'''.format(psf) + '''<br>\n",
    "    <strong>Address: </strong>{}'''.format(address) + '''<br>\n",
    "    </html>\n",
    "    '''\n",
    "    return html"
   ]
  },
  {
   "cell_type": "code",
   "execution_count": 16,
   "metadata": {},
   "outputs": [
    {
     "data": {
      "text/html": [
       "<div style=\"width:100%;\"><div style=\"position:relative;width:100%;height:0;padding-bottom:60%;\"><span style=\"color:#565656\">Make this Notebook Trusted to load map: File -> Trust Notebook</span><iframe srcdoc=\"&lt;!DOCTYPE html&gt;\n",
       "&lt;head&gt;    \n",
       "    &lt;meta http-equiv=&quot;content-type&quot; content=&quot;text/html; charset=UTF-8&quot; /&gt;\n",
       "    \n",
       "        &lt;script&gt;\n",
       "            L_NO_TOUCH = false;\n",
       "            L_DISABLE_3D = false;\n",
       "        &lt;/script&gt;\n",
       "    \n",
       "    &lt;style&gt;html, body {width: 100%;height: 100%;margin: 0;padding: 0;}&lt;/style&gt;\n",
       "    &lt;style&gt;#map {position:absolute;top:0;bottom:0;right:0;left:0;}&lt;/style&gt;\n",
       "    &lt;script src=&quot;https://cdn.jsdelivr.net/npm/leaflet@1.6.0/dist/leaflet.js&quot;&gt;&lt;/script&gt;\n",
       "    &lt;script src=&quot;https://code.jquery.com/jquery-1.12.4.min.js&quot;&gt;&lt;/script&gt;\n",
       "    &lt;script src=&quot;https://maxcdn.bootstrapcdn.com/bootstrap/3.2.0/js/bootstrap.min.js&quot;&gt;&lt;/script&gt;\n",
       "    &lt;script src=&quot;https://cdnjs.cloudflare.com/ajax/libs/Leaflet.awesome-markers/2.0.2/leaflet.awesome-markers.js&quot;&gt;&lt;/script&gt;\n",
       "    &lt;link rel=&quot;stylesheet&quot; href=&quot;https://cdn.jsdelivr.net/npm/leaflet@1.6.0/dist/leaflet.css&quot;/&gt;\n",
       "    &lt;link rel=&quot;stylesheet&quot; href=&quot;https://maxcdn.bootstrapcdn.com/bootstrap/3.2.0/css/bootstrap.min.css&quot;/&gt;\n",
       "    &lt;link rel=&quot;stylesheet&quot; href=&quot;https://maxcdn.bootstrapcdn.com/bootstrap/3.2.0/css/bootstrap-theme.min.css&quot;/&gt;\n",
       "    &lt;link rel=&quot;stylesheet&quot; href=&quot;https://maxcdn.bootstrapcdn.com/font-awesome/4.6.3/css/font-awesome.min.css&quot;/&gt;\n",
       "    &lt;link rel=&quot;stylesheet&quot; href=&quot;https://cdnjs.cloudflare.com/ajax/libs/Leaflet.awesome-markers/2.0.2/leaflet.awesome-markers.css&quot;/&gt;\n",
       "    &lt;link rel=&quot;stylesheet&quot; href=&quot;https://cdn.jsdelivr.net/gh/python-visualization/folium/folium/templates/leaflet.awesome.rotate.min.css&quot;/&gt;\n",
       "    \n",
       "            &lt;meta name=&quot;viewport&quot; content=&quot;width=device-width,\n",
       "                initial-scale=1.0, maximum-scale=1.0, user-scalable=no&quot; /&gt;\n",
       "            &lt;style&gt;\n",
       "                #map_616cd7d21b10a5b32f65bce971db0862 {\n",
       "                    position: relative;\n",
       "                    width: 100.0%;\n",
       "                    height: 100.0%;\n",
       "                    left: 0.0%;\n",
       "                    top: 0.0%;\n",
       "                }\n",
       "            &lt;/style&gt;\n",
       "        \n",
       "&lt;/head&gt;\n",
       "&lt;body&gt;    \n",
       "    \n",
       "              &lt;h3 align=&quot;center&quot; style=&quot;font-size:16px&quot;&gt;&lt;b&gt;Recent Miami-Dade Condo Sales &lt;/b&gt;&lt;/h3&gt;\n",
       "             \n",
       "    \n",
       "                &lt;p align=&quot;center&quot; style=&quot;vertical-align: bottom; font-size:13px&quot;&gt;&lt;i&gt;September 10th - September 16th&lt;/i&gt;&lt;/p&gt;\n",
       "                \n",
       "    \n",
       "            &lt;div class=&quot;folium-map&quot; id=&quot;map_616cd7d21b10a5b32f65bce971db0862&quot; &gt;&lt;/div&gt;\n",
       "        \n",
       "&lt;/body&gt;\n",
       "&lt;script&gt;    \n",
       "    \n",
       "            var map_616cd7d21b10a5b32f65bce971db0862 = L.map(\n",
       "                &quot;map_616cd7d21b10a5b32f65bce971db0862&quot;,\n",
       "                {\n",
       "                    center: [25.88546391, -80.1439228],\n",
       "                    crs: L.CRS.EPSG3857,\n",
       "                    zoom: 9.5,\n",
       "                    zoomControl: true,\n",
       "                    preferCanvas: false,\n",
       "                }\n",
       "            );\n",
       "\n",
       "            \n",
       "\n",
       "        \n",
       "    \n",
       "            var feature_group_314623b712f9ae21d86a33dcace24316 = L.featureGroup(\n",
       "                {}\n",
       "            ).addTo(map_616cd7d21b10a5b32f65bce971db0862);\n",
       "        \n",
       "    \n",
       "            var marker_1a75b5d8723caaf5005ab0e8d2c255fa = L.marker(\n",
       "                [25.7522301, -80.1994471],\n",
       "                {&quot;fill&quot;: true, &quot;radius&quot;: 5}\n",
       "            ).addTo(feature_group_314623b712f9ae21d86a33dcace24316);\n",
       "        \n",
       "    \n",
       "            var icon_fb748b347ce690ff161f94424d97321a = L.AwesomeMarkers.icon(\n",
       "                {&quot;extraClasses&quot;: &quot;fa-rotate-0&quot;, &quot;icon&quot;: &quot;info-sign&quot;, &quot;iconColor&quot;: &quot;white&quot;, &quot;markerColor&quot;: &quot;orange&quot;, &quot;prefix&quot;: &quot;glyphicon&quot;}\n",
       "            );\n",
       "            marker_1a75b5d8723caaf5005ab0e8d2c255fa.setIcon(icon_fb748b347ce690ff161f94424d97321a);\n",
       "        \n",
       "    \n",
       "        var popup_cb316c2feed2a9eed4091d0b864d9c60 = L.popup({&quot;maxWidth&quot;: 400});\n",
       "\n",
       "        \n",
       "            \n",
       "                var html_b9cae7fa80c3986a23b1496e9dbfbbdf = $(`&lt;div id=&quot;html_b9cae7fa80c3986a23b1496e9dbfbbdf&quot; style=&quot;width: 100.0%; height: 100.0%;&quot;&gt;&lt;!DOCTYPE html&gt;     &lt;html&gt;     &lt;strong&gt;Building Name: &lt;/strong&gt;Bristol Tower Condo&lt;br&gt;     &lt;strong&gt;Sale Price: &lt;/strong&gt;$4,325,000.00&lt;br&gt;     &lt;strong&gt;Days on Market: &lt;/strong&gt;49&lt;br&gt;     &lt;strong&gt;Listing Agent: &lt;/strong&gt;Patricia Orsini&lt;br&gt;     &lt;strong&gt;Buyer&#x27;s Agent: &lt;/strong&gt;Miriam Poggio&lt;br&gt;     &lt;strong&gt;Price sq ft: &lt;/strong&gt;$734.3&lt;br&gt;     &lt;strong&gt;Address: &lt;/strong&gt;2127 Brickell Ave 2401 &amp; 2402&lt;br&gt;     &lt;/html&gt;     &lt;/div&gt;`)[0];\n",
       "                popup_cb316c2feed2a9eed4091d0b864d9c60.setContent(html_b9cae7fa80c3986a23b1496e9dbfbbdf);\n",
       "            \n",
       "        \n",
       "\n",
       "        marker_1a75b5d8723caaf5005ab0e8d2c255fa.bindPopup(popup_cb316c2feed2a9eed4091d0b864d9c60)\n",
       "        ;\n",
       "\n",
       "        \n",
       "    \n",
       "    \n",
       "            var feature_group_520d1d238b9a5158cf1265ba67124f96 = L.featureGroup(\n",
       "                {}\n",
       "            ).addTo(map_616cd7d21b10a5b32f65bce971db0862);\n",
       "        \n",
       "    \n",
       "            var marker_c7064ba2ab5ac0cfd34e51ed0509b38d = L.marker(\n",
       "                [25.9335244, -80.12091989999999],\n",
       "                {&quot;fill&quot;: true, &quot;radius&quot;: 5}\n",
       "            ).addTo(feature_group_520d1d238b9a5158cf1265ba67124f96);\n",
       "        \n",
       "    \n",
       "            var icon_3dd49924d0b0c85c8234b7ae81f0630f = L.AwesomeMarkers.icon(\n",
       "                {&quot;extraClasses&quot;: &quot;fa-rotate-0&quot;, &quot;icon&quot;: &quot;info-sign&quot;, &quot;iconColor&quot;: &quot;white&quot;, &quot;markerColor&quot;: &quot;blue&quot;, &quot;prefix&quot;: &quot;glyphicon&quot;}\n",
       "            );\n",
       "            marker_c7064ba2ab5ac0cfd34e51ed0509b38d.setIcon(icon_3dd49924d0b0c85c8234b7ae81f0630f);\n",
       "        \n",
       "    \n",
       "        var popup_16af6c5ef7e9eb294933fd31af9f2440 = L.popup({&quot;maxWidth&quot;: 400});\n",
       "\n",
       "        \n",
       "            \n",
       "                var html_fc76913816b3bfa20321df9beb7d1c9f = $(`&lt;div id=&quot;html_fc76913816b3bfa20321df9beb7d1c9f&quot; style=&quot;width: 100.0%; height: 100.0%;&quot;&gt;&lt;!DOCTYPE html&gt;     &lt;html&gt;     &lt;strong&gt;Building Name: &lt;/strong&gt;Jade Beach&lt;br&gt;     &lt;strong&gt;Sale Price: &lt;/strong&gt;$4,050,000.00&lt;br&gt;     &lt;strong&gt;Days on Market: &lt;/strong&gt;868&lt;br&gt;     &lt;strong&gt;Listing Agent: &lt;/strong&gt;Mona Zevel&lt;br&gt;     &lt;strong&gt;Buyer&#x27;s Agent: &lt;/strong&gt;Mona Zevel&lt;br&gt;     &lt;strong&gt;Price sq ft: &lt;/strong&gt;$978.02&lt;br&gt;     &lt;strong&gt;Address: &lt;/strong&gt;17001 Collins Ave 4505 Sunny Isles&lt;br&gt;     &lt;/html&gt;     &lt;/div&gt;`)[0];\n",
       "                popup_16af6c5ef7e9eb294933fd31af9f2440.setContent(html_fc76913816b3bfa20321df9beb7d1c9f);\n",
       "            \n",
       "        \n",
       "\n",
       "        marker_c7064ba2ab5ac0cfd34e51ed0509b38d.bindPopup(popup_16af6c5ef7e9eb294933fd31af9f2440)\n",
       "        ;\n",
       "\n",
       "        \n",
       "    \n",
       "    \n",
       "            var marker_c6eb4bf9bc3b3248b567892759ca1031 = L.marker(\n",
       "                [25.790337, -80.14877249999999],\n",
       "                {&quot;fill&quot;: true, &quot;radius&quot;: 5}\n",
       "            ).addTo(feature_group_520d1d238b9a5158cf1265ba67124f96);\n",
       "        \n",
       "    \n",
       "            var icon_84876f4cfa251dccb04b3f2d5d1af475 = L.AwesomeMarkers.icon(\n",
       "                {&quot;extraClasses&quot;: &quot;fa-rotate-0&quot;, &quot;icon&quot;: &quot;info-sign&quot;, &quot;iconColor&quot;: &quot;white&quot;, &quot;markerColor&quot;: &quot;blue&quot;, &quot;prefix&quot;: &quot;glyphicon&quot;}\n",
       "            );\n",
       "            marker_c6eb4bf9bc3b3248b567892759ca1031.setIcon(icon_84876f4cfa251dccb04b3f2d5d1af475);\n",
       "        \n",
       "    \n",
       "        var popup_a8ecac32b5e9d1564bee548b9411e281 = L.popup({&quot;maxWidth&quot;: 400});\n",
       "\n",
       "        \n",
       "            \n",
       "                var html_43f9b32d004769c77f1838c7bdc3e42c = $(`&lt;div id=&quot;html_43f9b32d004769c77f1838c7bdc3e42c&quot; style=&quot;width: 100.0%; height: 100.0%;&quot;&gt;&lt;!DOCTYPE html&gt;     &lt;html&gt;     &lt;strong&gt;Building Name: &lt;/strong&gt;Nine Island Avenue Condo&lt;br&gt;     &lt;strong&gt;Sale Price: &lt;/strong&gt;$3,500,000.00&lt;br&gt;     &lt;strong&gt;Days on Market: &lt;/strong&gt;3&lt;br&gt;     &lt;strong&gt;Listing Agent: &lt;/strong&gt;James Basilio&lt;br&gt;     &lt;strong&gt;Buyer&#x27;s Agent: &lt;/strong&gt;Marion Morell-Ruiz&lt;br&gt;     &lt;strong&gt;Price sq ft: &lt;/strong&gt;$1238.5&lt;br&gt;     &lt;strong&gt;Address: &lt;/strong&gt;9 Island Ave T1 Miami&lt;br&gt;     &lt;/html&gt;     &lt;/div&gt;`)[0];\n",
       "                popup_a8ecac32b5e9d1564bee548b9411e281.setContent(html_43f9b32d004769c77f1838c7bdc3e42c);\n",
       "            \n",
       "        \n",
       "\n",
       "        marker_c6eb4bf9bc3b3248b567892759ca1031.bindPopup(popup_a8ecac32b5e9d1564bee548b9411e281)\n",
       "        ;\n",
       "\n",
       "        \n",
       "    \n",
       "    \n",
       "            var marker_79868eea313dd8755935d8eaf5e4a81b = L.marker(\n",
       "                [25.9439355, -80.12004569999999],\n",
       "                {&quot;fill&quot;: true, &quot;radius&quot;: 5}\n",
       "            ).addTo(feature_group_520d1d238b9a5158cf1265ba67124f96);\n",
       "        \n",
       "    \n",
       "            var icon_12cd1a9b6828efc565c67d75b48ccb1a = L.AwesomeMarkers.icon(\n",
       "                {&quot;extraClasses&quot;: &quot;fa-rotate-0&quot;, &quot;icon&quot;: &quot;info-sign&quot;, &quot;iconColor&quot;: &quot;white&quot;, &quot;markerColor&quot;: &quot;blue&quot;, &quot;prefix&quot;: &quot;glyphicon&quot;}\n",
       "            );\n",
       "            marker_79868eea313dd8755935d8eaf5e4a81b.setIcon(icon_12cd1a9b6828efc565c67d75b48ccb1a);\n",
       "        \n",
       "    \n",
       "        var popup_d1e3de2d312832afe127d9b69c1deedb = L.popup({&quot;maxWidth&quot;: 400});\n",
       "\n",
       "        \n",
       "            \n",
       "                var html_5e9f47276ba29ff59bd254b84552b01d = $(`&lt;div id=&quot;html_5e9f47276ba29ff59bd254b84552b01d&quot; style=&quot;width: 100.0%; height: 100.0%;&quot;&gt;&lt;!DOCTYPE html&gt;     &lt;html&gt;     &lt;strong&gt;Building Name: &lt;/strong&gt;Trump Palace&lt;br&gt;     &lt;strong&gt;Sale Price: &lt;/strong&gt;$2,600,000.00&lt;br&gt;     &lt;strong&gt;Days on Market: &lt;/strong&gt;31&lt;br&gt;     &lt;strong&gt;Listing Agent: &lt;/strong&gt;Scott Patterson&lt;br&gt;     &lt;strong&gt;Buyer&#x27;s Agent: &lt;/strong&gt;Yelena Zborovsky&lt;br&gt;     &lt;strong&gt;Price sq ft: &lt;/strong&gt;$1213.25&lt;br&gt;     &lt;strong&gt;Address: &lt;/strong&gt;18101 Collins Ave 1909 Sunny Isles&lt;br&gt;     &lt;/html&gt;     &lt;/div&gt;`)[0];\n",
       "                popup_d1e3de2d312832afe127d9b69c1deedb.setContent(html_5e9f47276ba29ff59bd254b84552b01d);\n",
       "            \n",
       "        \n",
       "\n",
       "        marker_79868eea313dd8755935d8eaf5e4a81b.bindPopup(popup_d1e3de2d312832afe127d9b69c1deedb)\n",
       "        ;\n",
       "\n",
       "        \n",
       "    \n",
       "    \n",
       "            var marker_84cb41a0077306d79b9f2f48a557adda = L.marker(\n",
       "                [25.9335244, -80.12091989999999],\n",
       "                {&quot;fill&quot;: true, &quot;radius&quot;: 5}\n",
       "            ).addTo(feature_group_520d1d238b9a5158cf1265ba67124f96);\n",
       "        \n",
       "    \n",
       "            var icon_01b20e03a2dc452d27f3e5865b56a49c = L.AwesomeMarkers.icon(\n",
       "                {&quot;extraClasses&quot;: &quot;fa-rotate-0&quot;, &quot;icon&quot;: &quot;info-sign&quot;, &quot;iconColor&quot;: &quot;white&quot;, &quot;markerColor&quot;: &quot;blue&quot;, &quot;prefix&quot;: &quot;glyphicon&quot;}\n",
       "            );\n",
       "            marker_84cb41a0077306d79b9f2f48a557adda.setIcon(icon_01b20e03a2dc452d27f3e5865b56a49c);\n",
       "        \n",
       "    \n",
       "        var popup_c10c6aa503cb15338e245c34dc1ea3b0 = L.popup({&quot;maxWidth&quot;: 400});\n",
       "\n",
       "        \n",
       "            \n",
       "                var html_30a874910d97f99892f277c29e8a36ad = $(`&lt;div id=&quot;html_30a874910d97f99892f277c29e8a36ad&quot; style=&quot;width: 100.0%; height: 100.0%;&quot;&gt;&lt;!DOCTYPE html&gt;     &lt;html&gt;     &lt;strong&gt;Building Name: &lt;/strong&gt;Jade Beach&lt;br&gt;     &lt;strong&gt;Sale Price: &lt;/strong&gt;$2,499,000.00&lt;br&gt;     &lt;strong&gt;Days on Market: &lt;/strong&gt;36&lt;br&gt;     &lt;strong&gt;Listing Agent: &lt;/strong&gt;Ekaterina Brosda&lt;br&gt;     &lt;strong&gt;Buyer&#x27;s Agent: &lt;/strong&gt;Alex Algarin&lt;br&gt;     &lt;strong&gt;Price sq ft: &lt;/strong&gt;$1296.83&lt;br&gt;     &lt;strong&gt;Address: &lt;/strong&gt;17001 Collins Ave 4005 Sunny Isles&lt;br&gt;     &lt;/html&gt;     &lt;/div&gt;`)[0];\n",
       "                popup_c10c6aa503cb15338e245c34dc1ea3b0.setContent(html_30a874910d97f99892f277c29e8a36ad);\n",
       "            \n",
       "        \n",
       "\n",
       "        marker_84cb41a0077306d79b9f2f48a557adda.bindPopup(popup_c10c6aa503cb15338e245c34dc1ea3b0)\n",
       "        ;\n",
       "\n",
       "        \n",
       "    \n",
       "    \n",
       "            var marker_45094a423f3a00e284f5735607213f9e = L.marker(\n",
       "                [25.9731214, -80.1251248],\n",
       "                {&quot;fill&quot;: true, &quot;radius&quot;: 5}\n",
       "            ).addTo(feature_group_520d1d238b9a5158cf1265ba67124f96);\n",
       "        \n",
       "    \n",
       "            var icon_f86509004c9286d1d5175a79a52af3b8 = L.AwesomeMarkers.icon(\n",
       "                {&quot;extraClasses&quot;: &quot;fa-rotate-0&quot;, &quot;icon&quot;: &quot;info-sign&quot;, &quot;iconColor&quot;: &quot;white&quot;, &quot;markerColor&quot;: &quot;blue&quot;, &quot;prefix&quot;: &quot;glyphicon&quot;}\n",
       "            );\n",
       "            marker_45094a423f3a00e284f5735607213f9e.setIcon(icon_f86509004c9286d1d5175a79a52af3b8);\n",
       "        \n",
       "    \n",
       "        var popup_33fa42f0045c626c76d1d64c847af734 = L.popup({&quot;maxWidth&quot;: 400});\n",
       "\n",
       "        \n",
       "            \n",
       "                var html_71ad1d351eb876bc40b60254d39fb0e3 = $(`&lt;div id=&quot;html_71ad1d351eb876bc40b60254d39fb0e3&quot; style=&quot;width: 100.0%; height: 100.0%;&quot;&gt;&lt;!DOCTYPE html&gt;     &lt;html&gt;     &lt;strong&gt;Building Name: &lt;/strong&gt;The Point&lt;br&gt;     &lt;strong&gt;Sale Price: &lt;/strong&gt;$2,312,500.00&lt;br&gt;     &lt;strong&gt;Days on Market: &lt;/strong&gt;68&lt;br&gt;     &lt;strong&gt;Listing Agent: &lt;/strong&gt;Nicola Riettie&lt;br&gt;     &lt;strong&gt;Buyer&#x27;s Agent: &lt;/strong&gt;Cassio Galiza PA&lt;br&gt;     &lt;strong&gt;Price sq ft: &lt;/strong&gt;$554.42&lt;br&gt;     &lt;strong&gt;Address: &lt;/strong&gt;21200 Point Pl 1505&lt;br&gt;     &lt;/html&gt;     &lt;/div&gt;`)[0];\n",
       "                popup_33fa42f0045c626c76d1d64c847af734.setContent(html_71ad1d351eb876bc40b60254d39fb0e3);\n",
       "            \n",
       "        \n",
       "\n",
       "        marker_45094a423f3a00e284f5735607213f9e.bindPopup(popup_33fa42f0045c626c76d1d64c847af734)\n",
       "        ;\n",
       "\n",
       "        \n",
       "    \n",
       "    \n",
       "            var marker_541ea212c04cc803cb9f87547abbb589 = L.marker(\n",
       "                [25.7351295, -80.21874609999999],\n",
       "                {&quot;fill&quot;: true, &quot;radius&quot;: 5}\n",
       "            ).addTo(feature_group_520d1d238b9a5158cf1265ba67124f96);\n",
       "        \n",
       "    \n",
       "            var icon_e15b5ece9e46f517d0280749aae1af9c = L.AwesomeMarkers.icon(\n",
       "                {&quot;extraClasses&quot;: &quot;fa-rotate-0&quot;, &quot;icon&quot;: &quot;info-sign&quot;, &quot;iconColor&quot;: &quot;white&quot;, &quot;markerColor&quot;: &quot;blue&quot;, &quot;prefix&quot;: &quot;glyphicon&quot;}\n",
       "            );\n",
       "            marker_541ea212c04cc803cb9f87547abbb589.setIcon(icon_e15b5ece9e46f517d0280749aae1af9c);\n",
       "        \n",
       "    \n",
       "        var popup_a95c9c752972d2175f477c00fd8b3a9a = L.popup({&quot;maxWidth&quot;: 400});\n",
       "\n",
       "        \n",
       "            \n",
       "                var html_837e9ad25b7e72790ba6598d8882b211 = $(`&lt;div id=&quot;html_837e9ad25b7e72790ba6598d8882b211&quot; style=&quot;width: 100.0%; height: 100.0%;&quot;&gt;&lt;!DOCTYPE html&gt;     &lt;html&gt;     &lt;strong&gt;Building Name: &lt;/strong&gt;Grove Isle&lt;br&gt;     &lt;strong&gt;Sale Price: &lt;/strong&gt;$2,200,000.00&lt;br&gt;     &lt;strong&gt;Days on Market: &lt;/strong&gt;1&lt;br&gt;     &lt;strong&gt;Listing Agent: &lt;/strong&gt;Cecilia Tavera-Webman&lt;br&gt;     &lt;strong&gt;Buyer&#x27;s Agent: &lt;/strong&gt;Maite Alvarez&lt;br&gt;     &lt;strong&gt;Price sq ft: &lt;/strong&gt;$841.62&lt;br&gt;     &lt;strong&gt;Address: &lt;/strong&gt;2 Grove Isle Dr B1201 Coconut&lt;br&gt;     &lt;/html&gt;     &lt;/div&gt;`)[0];\n",
       "                popup_a95c9c752972d2175f477c00fd8b3a9a.setContent(html_837e9ad25b7e72790ba6598d8882b211);\n",
       "            \n",
       "        \n",
       "\n",
       "        marker_541ea212c04cc803cb9f87547abbb589.bindPopup(popup_a95c9c752972d2175f477c00fd8b3a9a)\n",
       "        ;\n",
       "\n",
       "        \n",
       "    \n",
       "    \n",
       "            var marker_a1ae63b64bc32d86c0868a3b1a6e39d4 = L.marker(\n",
       "                [25.9614457, -80.12616750000001],\n",
       "                {&quot;fill&quot;: true, &quot;radius&quot;: 5}\n",
       "            ).addTo(feature_group_520d1d238b9a5158cf1265ba67124f96);\n",
       "        \n",
       "    \n",
       "            var icon_cc5e3afb8b0491eab4dc5a44a7f82074 = L.AwesomeMarkers.icon(\n",
       "                {&quot;extraClasses&quot;: &quot;fa-rotate-0&quot;, &quot;icon&quot;: &quot;info-sign&quot;, &quot;iconColor&quot;: &quot;white&quot;, &quot;markerColor&quot;: &quot;blue&quot;, &quot;prefix&quot;: &quot;glyphicon&quot;}\n",
       "            );\n",
       "            marker_a1ae63b64bc32d86c0868a3b1a6e39d4.setIcon(icon_cc5e3afb8b0491eab4dc5a44a7f82074);\n",
       "        \n",
       "    \n",
       "        var popup_ef021ce597be42607c52a32ec425074f = L.popup({&quot;maxWidth&quot;: 400});\n",
       "\n",
       "        \n",
       "            \n",
       "                var html_e2da75b4abd3e69c188c6b30d497493d = $(`&lt;div id=&quot;html_e2da75b4abd3e69c188c6b30d497493d&quot; style=&quot;width: 100.0%; height: 100.0%;&quot;&gt;&lt;!DOCTYPE html&gt;     &lt;html&gt;     &lt;strong&gt;Building Name: &lt;/strong&gt;Porto Vita&lt;br&gt;     &lt;strong&gt;Sale Price: &lt;/strong&gt;$1,800,000.00&lt;br&gt;     &lt;strong&gt;Days on Market: &lt;/strong&gt;31&lt;br&gt;     &lt;strong&gt;Listing Agent: &lt;/strong&gt;Karen Matluck PA&lt;br&gt;     &lt;strong&gt;Buyer&#x27;s Agent: &lt;/strong&gt;Karen Matluck PA&lt;br&gt;     &lt;strong&gt;Price sq ft: &lt;/strong&gt;$753.14&lt;br&gt;     &lt;strong&gt;Address: &lt;/strong&gt;19955 NE 38 Ct 1905&lt;br&gt;     &lt;/html&gt;     &lt;/div&gt;`)[0];\n",
       "                popup_ef021ce597be42607c52a32ec425074f.setContent(html_e2da75b4abd3e69c188c6b30d497493d);\n",
       "            \n",
       "        \n",
       "\n",
       "        marker_a1ae63b64bc32d86c0868a3b1a6e39d4.bindPopup(popup_ef021ce597be42607c52a32ec425074f)\n",
       "        ;\n",
       "\n",
       "        \n",
       "    \n",
       "    \n",
       "            var marker_ab9c48b943dd017b7815cdcfdc42ac9a = L.marker(\n",
       "                [25.9411652, -80.1361957],\n",
       "                {&quot;fill&quot;: true, &quot;radius&quot;: 5}\n",
       "            ).addTo(feature_group_520d1d238b9a5158cf1265ba67124f96);\n",
       "        \n",
       "    \n",
       "            var icon_920ad7c36916cd94f0e9b9a634c73a79 = L.AwesomeMarkers.icon(\n",
       "                {&quot;extraClasses&quot;: &quot;fa-rotate-0&quot;, &quot;icon&quot;: &quot;info-sign&quot;, &quot;iconColor&quot;: &quot;white&quot;, &quot;markerColor&quot;: &quot;blue&quot;, &quot;prefix&quot;: &quot;glyphicon&quot;}\n",
       "            );\n",
       "            marker_ab9c48b943dd017b7815cdcfdc42ac9a.setIcon(icon_920ad7c36916cd94f0e9b9a634c73a79);\n",
       "        \n",
       "    \n",
       "        var popup_05a78937de5a8f6751708cbc0a05d92d = L.popup({&quot;maxWidth&quot;: 400});\n",
       "\n",
       "        \n",
       "            \n",
       "                var html_5387306c16dafbf092cec8b63937a510 = $(`&lt;div id=&quot;html_5387306c16dafbf092cec8b63937a510&quot; style=&quot;width: 100.0%; height: 100.0%;&quot;&gt;&lt;!DOCTYPE html&gt;     &lt;html&gt;     &lt;strong&gt;Building Name: &lt;/strong&gt;Williams Island&lt;br&gt;     &lt;strong&gt;Sale Price: &lt;/strong&gt;$1,700,000.00&lt;br&gt;     &lt;strong&gt;Days on Market: &lt;/strong&gt;14&lt;br&gt;     &lt;strong&gt;Listing Agent: &lt;/strong&gt;Ariel Hollender&lt;br&gt;     &lt;strong&gt;Buyer&#x27;s Agent: &lt;/strong&gt;Karla Primerano&lt;br&gt;     &lt;strong&gt;Price sq ft: &lt;/strong&gt;$651.84&lt;br&gt;     &lt;strong&gt;Address: &lt;/strong&gt;4100 Island Blvd 1802&lt;br&gt;     &lt;/html&gt;     &lt;/div&gt;`)[0];\n",
       "                popup_05a78937de5a8f6751708cbc0a05d92d.setContent(html_5387306c16dafbf092cec8b63937a510);\n",
       "            \n",
       "        \n",
       "\n",
       "        marker_ab9c48b943dd017b7815cdcfdc42ac9a.bindPopup(popup_05a78937de5a8f6751708cbc0a05d92d)\n",
       "        ;\n",
       "\n",
       "        \n",
       "    \n",
       "    \n",
       "            var marker_626725f5c72b52aab3e5d62e90169fc7 = L.marker(\n",
       "                [25.8902259, -80.1228888],\n",
       "                {&quot;fill&quot;: true, &quot;radius&quot;: 5}\n",
       "            ).addTo(feature_group_520d1d238b9a5158cf1265ba67124f96);\n",
       "        \n",
       "    \n",
       "            var icon_9b39fdf287012bb7edaa35e80b31c005 = L.AwesomeMarkers.icon(\n",
       "                {&quot;extraClasses&quot;: &quot;fa-rotate-0&quot;, &quot;icon&quot;: &quot;info-sign&quot;, &quot;iconColor&quot;: &quot;white&quot;, &quot;markerColor&quot;: &quot;blue&quot;, &quot;prefix&quot;: &quot;glyphicon&quot;}\n",
       "            );\n",
       "            marker_626725f5c72b52aab3e5d62e90169fc7.setIcon(icon_9b39fdf287012bb7edaa35e80b31c005);\n",
       "        \n",
       "    \n",
       "        var popup_51e0765a7cf5463462dc986043705f21 = L.popup({&quot;maxWidth&quot;: 400});\n",
       "\n",
       "        \n",
       "            \n",
       "                var html_7627a507df3c8b72b150104fbca13737 = $(`&lt;div id=&quot;html_7627a507df3c8b72b150104fbca13737&quot; style=&quot;width: 100.0%; height: 100.0%;&quot;&gt;&lt;!DOCTYPE html&gt;     &lt;html&gt;     &lt;strong&gt;Building Name: &lt;/strong&gt;Balmoral Condos&lt;br&gt;     &lt;strong&gt;Sale Price: &lt;/strong&gt;$1,585,000.00&lt;br&gt;     &lt;strong&gt;Days on Market: &lt;/strong&gt;52&lt;br&gt;     &lt;strong&gt;Listing Agent: &lt;/strong&gt;Yishai Sinai&lt;br&gt;     &lt;strong&gt;Buyer&#x27;s Agent: &lt;/strong&gt;Victor Harary&lt;br&gt;     &lt;strong&gt;Price sq ft: &lt;/strong&gt;$798.89&lt;br&gt;     &lt;strong&gt;Address: &lt;/strong&gt;9801 Collins Ave 5Z Bal&lt;br&gt;     &lt;/html&gt;     &lt;/div&gt;`)[0];\n",
       "                popup_51e0765a7cf5463462dc986043705f21.setContent(html_7627a507df3c8b72b150104fbca13737);\n",
       "            \n",
       "        \n",
       "\n",
       "        marker_626725f5c72b52aab3e5d62e90169fc7.bindPopup(popup_51e0765a7cf5463462dc986043705f21)\n",
       "        ;\n",
       "\n",
       "        \n",
       "    \n",
       "    \n",
       "            var tile_layer_47866ea7be559cca16f4f8feca500cdb = L.tileLayer(\n",
       "                &quot;https://{s}.tile.openstreetmap.org/{z}/{x}/{y}.png&quot;,\n",
       "                {&quot;attribution&quot;: &quot;Data by \\u0026copy; \\u003ca href=\\&quot;http://openstreetmap.org\\&quot;\\u003eOpenStreetMap\\u003c/a\\u003e, under \\u003ca href=\\&quot;http://www.openstreetmap.org/copyright\\&quot;\\u003eODbL\\u003c/a\\u003e.&quot;, &quot;detectRetina&quot;: false, &quot;maxNativeZoom&quot;: 18, &quot;maxZoom&quot;: 18, &quot;minZoom&quot;: 0, &quot;noWrap&quot;: false, &quot;opacity&quot;: 1, &quot;subdomains&quot;: &quot;abc&quot;, &quot;tms&quot;: false}\n",
       "            ).addTo(map_616cd7d21b10a5b32f65bce971db0862);\n",
       "        \n",
       "    \n",
       "            var layer_control_eb3a080194060ddd175f061ae342aea0 = {\n",
       "                base_layers : {\n",
       "                },\n",
       "                overlays :  {\n",
       "                    &quot;Top Sale&quot; : feature_group_314623b712f9ae21d86a33dcace24316,\n",
       "                    &quot;All other sales&quot; : feature_group_520d1d238b9a5158cf1265ba67124f96,\n",
       "                },\n",
       "            };\n",
       "            L.control.layers(\n",
       "                layer_control_eb3a080194060ddd175f061ae342aea0.base_layers,\n",
       "                layer_control_eb3a080194060ddd175f061ae342aea0.overlays,\n",
       "                {&quot;autoZIndex&quot;: true, &quot;collapsed&quot;: false, &quot;position&quot;: &quot;topright&quot;}\n",
       "            ).addTo(map_616cd7d21b10a5b32f65bce971db0862);\n",
       "        \n",
       "&lt;/script&gt;\" style=\"position:absolute;width:100%;height:100%;left:0;top:0;border:none !important;\" allowfullscreen webkitallowfullscreen mozallowfullscreen></iframe></div></div>"
      ],
      "text/plain": [
       "<folium.folium.Map at 0x7fec88d58910>"
      ]
     },
     "execution_count": 16,
     "metadata": {},
     "output_type": "execute_result"
    }
   ],
   "source": [
    "import folium\n",
    "from folium.plugins import MarkerCluster\n",
    "\n",
    "m = folium.Map(location=df[[\"lat\", \"lon\"]].mean().to_list(), zoom_start=10)\n",
    "\n",
    "title_html = '''\n",
    "              <h3 align=\"center\" style=\"font-size:16px\"><b>{}</b></h3>\n",
    "             '''.format(f'Recent Miami-Dade Condo Sales ')\n",
    "\n",
    "caption_html = '''\n",
    "                <p align=\"center\" style=\"vertical-align: bottom; font-size:13px\"><i>{}</i></p>\n",
    "                '''.format('September 10th - September 16th')\n",
    "\n",
    "\n",
    "### Create map container ###\n",
    "m = folium.Map(location=df[[\"lat\", \"lon\"]].mean().to_list(),zoom_start=9.5,tiles=None)\n",
    "\n",
    "# Create two FeatureGroups for different color pins\n",
    "fg_blue = folium.FeatureGroup(name='All other sales')\n",
    "fg_orange = folium.FeatureGroup(name='Top Sale')\n",
    "\n",
    "for index, row in df.iterrows():\n",
    "    # Add the markers to the appropriate FeatureGroup based on the color\n",
    "    if row['COLOR'] == 'blue':\n",
    "        marker = folium.Marker(\n",
    "            location=[row['lat'], row['lon']],\n",
    "            radius=5,\n",
    "            fill=True,\n",
    "            icon=folium.Icon(color=row['COLOR']),\n",
    "            popup=folium.Popup(popup_html(row), max_width=400))\n",
    "        marker.add_to(fg_blue)\n",
    "    else:\n",
    "        marker = folium.Marker(\n",
    "            location=[row['lat'], row['lon']],\n",
    "            radius=5,\n",
    "            fill=True,\n",
    "            icon=folium.Icon(color=row['COLOR']),\n",
    "            popup=folium.Popup(popup_html(row), max_width=400))\n",
    "        marker.add_to(fg_orange)\n",
    "\n",
    "# Add the FeatureGroups to the map\n",
    "fg_orange.add_to(m)\n",
    "fg_blue.add_to(m)\n",
    "\n",
    "folium.TileLayer('OpenStreetMap',control=False).add_to(m)\n",
    "\n",
    "# Add LayerControl to the map\n",
    "folium.map.LayerControl(collapsed=False).add_to(m)\n",
    "m.get_root().html.add_child(folium.Element(title_html))\n",
    "m.get_root().html.add_child(folium.Element(caption_html))\n",
    "            \n",
    "# Display map\n",
    "m"
   ]
  },
  {
   "cell_type": "code",
   "execution_count": 17,
   "metadata": {},
   "outputs": [],
   "source": [
    "m.save('index.html')"
   ]
  },
  {
   "cell_type": "markdown",
   "metadata": {},
   "source": [
    "## Data snagger"
   ]
  },
  {
   "cell_type": "code",
   "execution_count": 18,
   "metadata": {},
   "outputs": [],
   "source": [
    "### Set up formatting ###\n",
    "BR = '\\n'\n",
    "\n",
    "ME = '\\033[1m' + 'Most Expensive' + '\\033[0m'\n",
    "LE = '\\033[1m' + 'Least Expensive' + '\\033[0m'\n",
    "\n",
    "MAX_PSF = '\\033[1m' + 'Highest Price Per Square Foot' + '\\033[0m'\n",
    "MIN_PSF = '\\033[1m' + 'Lowest Price Per Square Foot' + '\\033[0m'\n",
    "\n",
    "DAYS_MAX = '\\033[1m' + 'Most Days on Market' + '\\033[0m'\n",
    "DAYS_MIN = '\\033[1m' + 'Fewest Days on Market' + '\\033[0m'"
   ]
  },
  {
   "cell_type": "code",
   "execution_count": 19,
   "metadata": {},
   "outputs": [
    {
     "name": "stdout",
     "output_type": "stream",
     "text": [
      "\u001b[1mMost Expensive\u001b[0m\n",
      "Bristol Tower Condo, 2127 Brickell Ave 2401 & 2402 | Price $4,325,000 | $734 psf | Listing agent: Patricia Orsini with Principal Realty Inc. | Buyer's agent: Miriam Poggio with One Sotheby's International Re | Days on market: 49\n",
      "\u001b[1mLeast Expensive\u001b[0m\n",
      "Balmoral Condos, 9801 Collins Ave 5Z Bal | Price $1,585,000 | $799 psf | Listing agent: Yishai Sinai with Biscayne Advisors | Buyer's agent: Victor Harary with Compass Florida, LLC. | Days on market: 52\n",
      "\u001b[1mHighest Price Per Square Foot\u001b[0m\n",
      "Jade Beach, 17001 Collins Ave 4005 Sunny Isles | Price $2,499,000 | $1,297 psf | Listing agent: Ekaterina Brosda with Brosda & Bentley Realtors, LLC | Buyer's agent: Alex Algarin with Compass Florida, LLC. | Days on market: 36\n",
      "\u001b[1mLowest Price Per Square Foot\u001b[0m\n",
      "The Point, 21200 Point Pl 1505 | Price $2,312,500 | $554 psf | Listing agent: Nicola Riettie with Coldwell Banker Realty | Buyer's agent: Cassio Galiza PA with One Sotheby's International Re | Days on market: 68\n",
      "\u001b[1mMost Days on Market\u001b[0m\n",
      "Jade Beach, 17001 Collins Ave 4505 Sunny Isles | Price $4,050,000 | $978 psf | Listing agent: Mona Zevel with Julies Realty, LLC | Buyer's agent: Mona Zevel with Julies Realty, LLC | Days on market: 868\n",
      "\u001b[1mFewest Days on Market\u001b[0m\n",
      "Grove Isle, 2 Grove Isle Dr B1201 Coconut | Price $2,200,000 | $842 psf | Listing agent: Cecilia Tavera-Webman with RE/MAX Advance Realty | Buyer's agent: Maite Alvarez with Compass Florida, LLC. | Days on market: 1\n"
     ]
    }
   ],
   "source": [
    "### Highest and lowest sale price ###\n",
    "print(f\"{ME}{BR}{df.loc[df['int_Sale_Price'].idxmax()]['building_name']}, {df.loc[df['int_Sale_Price'].idxmax()]['address']} | Price ${df.loc[df['int_Sale_Price'].idxmax()]['int_Sale_Price']:,.0f} | ${df.loc[df['int_Sale_Price'].idxmax()]['price_per_sqft']:,.0f} psf | Listing agent: {df.loc[df['int_Sale_Price'].idxmax()]['Agent']} with {df.loc[df['int_Sale_Price'].idxmax()]['Listing Broker']} | Buyer's agent: {df.loc[df['int_Sale_Price'].idxmax()]['Buyer Agent']} with {df.loc[df['int_Sale_Price'].idxmax()]['Buyer Broker']} | Days on market: {df.loc[df['int_Sale_Price'].idxmax()]['days_on_market']}\")\n",
    "print(f\"{LE}{BR}{df.loc[df['int_Sale_Price'].idxmin()]['building_name']}, {df.loc[df['int_Sale_Price'].idxmin()]['address']} | Price ${df.loc[df['int_Sale_Price'].idxmin()]['int_Sale_Price']:,.0f} | ${df.loc[df['int_Sale_Price'].idxmin()]['price_per_sqft']:,.0f} psf | Listing agent: {df.loc[df['int_Sale_Price'].idxmin()]['Agent']} with {df.loc[df['int_Sale_Price'].idxmin()]['Listing Broker']} | Buyer's agent: {df.loc[df['int_Sale_Price'].idxmin()]['Buyer Agent']} with {df.loc[df['int_Sale_Price'].idxmin()]['Buyer Broker']} | Days on market: {df.loc[df['int_Sale_Price'].idxmin()]['days_on_market']}\")\n",
    "### Highest and lowest psf ###\n",
    "print(f\"{MAX_PSF}{BR}{df.loc[df['price_per_sqft'].idxmax()]['building_name']}, {df.loc[df['price_per_sqft'].idxmax()]['address']} | Price ${df.loc[df['price_per_sqft'].idxmax()]['int_Sale_Price']:,.0f} | ${df.loc[df['price_per_sqft'].idxmax()]['price_per_sqft']:,.0f} psf | Listing agent: {df.loc[df['price_per_sqft'].idxmax()]['Agent']} with {df.loc[df['price_per_sqft'].idxmax()]['Listing Broker']} | Buyer's agent: {df.loc[df['price_per_sqft'].idxmax()]['Buyer Agent']} with {df.loc[df['price_per_sqft'].idxmax()]['Buyer Broker']} | Days on market: {df.loc[df['price_per_sqft'].idxmax()]['days_on_market']}\")\n",
    "print(f\"{MIN_PSF}{BR}{df.loc[df['price_per_sqft'].idxmin()]['building_name']}, {df.loc[df['price_per_sqft'].idxmin()]['address']} | Price ${df.loc[df['price_per_sqft'].idxmin()]['int_Sale_Price']:,.0f} | ${df.loc[df['price_per_sqft'].idxmin()]['price_per_sqft']:,.0f} psf | Listing agent: {df.loc[df['price_per_sqft'].idxmin()]['Agent']} with {df.loc[df['price_per_sqft'].idxmin()]['Listing Broker']} | Buyer's agent: {df.loc[df['price_per_sqft'].idxmin()]['Buyer Agent']} with {df.loc[df['price_per_sqft'].idxmin()]['Buyer Broker']} | Days on market: {df.loc[df['price_per_sqft'].idxmin()]['days_on_market']}\")\n",
    "### Highest and lowest days on market ###\n",
    "print(f\"{DAYS_MAX}{BR}{df.loc[df['days_on_market'].idxmax()]['building_name']}, {df.loc[df['days_on_market'].idxmax()]['address']} | Price ${df.loc[df['days_on_market'].idxmax()]['int_Sale_Price']:,.0f} | ${df.loc[df['days_on_market'].idxmax()]['price_per_sqft']:,.0f} psf | Listing agent: {df.loc[df['days_on_market'].idxmax()]['Agent']} with {df.loc[df['days_on_market'].idxmax()]['Listing Broker']} | Buyer's agent: {df.loc[df['days_on_market'].idxmax()]['Buyer Agent']} with {df.loc[df['days_on_market'].idxmax()]['Buyer Broker']} | Days on market: {df.loc[df['days_on_market'].idxmax()]['days_on_market']}\")\n",
    "print(f\"{DAYS_MIN}{BR}{df.loc[df['days_on_market'].idxmin()]['building_name']}, {df.loc[df['days_on_market'].idxmin()]['address']} | Price ${df.loc[df['days_on_market'].idxmin()]['int_Sale_Price']:,.0f} | ${df.loc[df['days_on_market'].idxmin()]['price_per_sqft']:,.0f} psf | Listing agent: {df.loc[df['days_on_market'].idxmin()]['Agent']} with {df.loc[df['days_on_market'].idxmin()]['Listing Broker']} | Buyer's agent: {df.loc[df['days_on_market'].idxmin()]['Buyer Agent']} with {df.loc[df['days_on_market'].idxmin()]['Buyer Broker']} | Days on market: {df.loc[df['days_on_market'].idxmin()]['days_on_market']}\")"
   ]
  },
  {
   "cell_type": "code",
   "execution_count": 20,
   "metadata": {},
   "outputs": [
    {
     "data": {
      "text/plain": [
       "115.3"
      ]
     },
     "execution_count": 20,
     "metadata": {},
     "output_type": "execute_result"
    }
   ],
   "source": [
    "df['days_on_market'].mean()"
   ]
  },
  {
   "cell_type": "markdown",
   "metadata": {},
   "source": [
    "## Map URL snagger"
   ]
  },
  {
   "cell_type": "markdown",
   "metadata": {},
   "source": [
    "Map template URL: `https://trd-digital.github.io/trd-news-interactive-maps/{map-folder-name}`"
   ]
  },
  {
   "cell_type": "code",
   "execution_count": 21,
   "metadata": {},
   "outputs": [],
   "source": [
    "base_name = 'https://trd-digital.github.io/trd-news-interactive-maps/'"
   ]
  },
  {
   "cell_type": "code",
   "execution_count": 22,
   "metadata": {},
   "outputs": [
    {
     "name": "stdout",
     "output_type": "stream",
     "text": [
      "https://trd-digital.github.io/trd-news-interactive-maps/condo_sales_week_ending_09182023\n"
     ]
    }
   ],
   "source": [
    "cwd = os.getcwd()\n",
    "\n",
    "cwd = cwd.split('/')\n",
    "\n",
    "final_name = base_name + cwd[-1]\n",
    "print(final_name)"
   ]
  }
 ],
 "metadata": {
  "kernelspec": {
   "display_name": "Python 3 (ipykernel)",
   "language": "python",
   "name": "python3"
  },
  "language_info": {
   "codemirror_mode": {
    "name": "ipython",
    "version": 3
   },
   "file_extension": ".py",
   "mimetype": "text/x-python",
   "name": "python",
   "nbconvert_exporter": "python",
   "pygments_lexer": "ipython3",
   "version": "3.9.12"
  },
  "toc": {
   "base_numbering": 1,
   "nav_menu": {},
   "number_sections": true,
   "sideBar": true,
   "skip_h1_title": false,
   "title_cell": "Table of Contents",
   "title_sidebar": "Contents",
   "toc_cell": false,
   "toc_position": {},
   "toc_section_display": true,
   "toc_window_display": false
  }
 },
 "nbformat": 4,
 "nbformat_minor": 4
}
