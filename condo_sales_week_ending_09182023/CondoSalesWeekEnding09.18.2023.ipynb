{
 "cells": [
  {
   "cell_type": "markdown",
   "metadata": {},
   "source": [
    "## Imports"
   ]
  },
  {
   "cell_type": "code",
   "execution_count": 1,
   "metadata": {},
   "outputs": [],
   "source": [
    "import googlemaps\n",
    "import pandas as pd\n",
    "import numpy as np\n",
    "import re\n",
    "import os\n",
    "import geopandas as gpd\n",
    "import folium\n",
    "import tabula"
   ]
  },
  {
   "cell_type": "markdown",
   "metadata": {},
   "source": [
    "## Read-in"
   ]
  },
  {
   "cell_type": "code",
   "execution_count": 2,
   "metadata": {},
   "outputs": [],
   "source": [
    "# Gotta figure out how to get rid of the java error.\n",
    "# SO: https://stackoverflow.com/questions/54817211/java-command-is-not-found-from-this-python-process-please-ensure-java-is-inst\n",
    "\n",
    "dsf = tabula.read_pdf('condo.pdf', pages='all')"
   ]
  },
  {
   "cell_type": "markdown",
   "metadata": {},
   "source": [
    "## Clean Data"
   ]
  },
  {
   "cell_type": "code",
   "execution_count": 3,
   "metadata": {},
   "outputs": [],
   "source": [
    "df = dsf[0]\n",
    "df.columns = df.iloc[0]\n",
    "df = df[1:]\n",
    "df = df.drop(columns=df.columns[0])\n",
    "df = df.replace(np.nan, 'Not Available', regex=True)\n",
    "df = df.rename(columns={'Building / Address / City': 'building_address_city','Days on\\rMarket':'days_on_market',\\\n",
    "                        'Price /\\rSq. Ft.':'price_per_sqft'})\n",
    "df['building_address_city'] = df['building_address_city'].str.replace('^0', '', regex=True)\n",
    "df['geo_address'] = df['building_address_city']\n",
    "df['geo_address'] = df['geo_address'].map(lambda x: re.sub(r'\\r', ' ', x))\n",
    "df = df.replace('\\n',' ',regex=True)\n",
    "pattern = r'^(?P<building_name>[\\d\\s]*[A-Za-z\\s]+)\\s(?P<address>.+)\\s(?P<city>[A-Za-z\\s]+)$'\n",
    "df2 = df['geo_address']\n",
    "df2 = df2.to_frame()\n",
    "df2[['building_name', 'address', 'city']] = df2['geo_address'].str.extract(pattern, expand=True)"
   ]
  },
  {
   "cell_type": "markdown",
   "metadata": {},
   "source": [
    "Review this later (it's about how to properly merge DFs): https://pandas.pydata.org/pandas-docs/stable/user_guide/merging.html"
   ]
  },
  {
   "cell_type": "markdown",
   "metadata": {},
   "source": [
    "## Geocode"
   ]
  },
  {
   "cell_type": "code",
   "execution_count": 4,
   "metadata": {},
   "outputs": [],
   "source": [
    "result = pd.merge(df,df2,left_index=True, right_index=True)\n",
    "df = result\n",
    "df = df.drop(columns='city')"
   ]
  },
  {
   "cell_type": "code",
   "execution_count": 5,
   "metadata": {},
   "outputs": [],
   "source": [
    "%store -r google_maps_API_Key\n",
    "gmaps_key = googlemaps.Client(key=google_maps_API_Key)"
   ]
  },
  {
   "cell_type": "code",
   "execution_count": 6,
   "metadata": {},
   "outputs": [],
   "source": [
    "def geocode(add):\n",
    "    g = gmaps_key.geocode(add)\n",
    "    lat = g[0][\"geometry\"][\"location\"][\"lat\"]\n",
    "    lng = g[0][\"geometry\"][\"location\"][\"lng\"]\n",
    "    return (lat, lng)\n",
    "\n",
    "df['geocoded'] = df['geo_address_x'].apply(geocode)"
   ]
  },
  {
   "cell_type": "code",
   "execution_count": 7,
   "metadata": {},
   "outputs": [],
   "source": [
    "df['geocoded'] = df['geocoded'].astype(str)\n",
    "df[['lat', 'lon']] = df['geocoded'].str.strip('()').str.split(', ', expand=True)\n",
    "df['lat'] = df['lat'].astype(float)\n",
    "df['lon'] = df['lon'].astype(float)"
   ]
  },
  {
   "cell_type": "markdown",
   "metadata": {},
   "source": [
    "Folium documentation link: https://python-visualization.github.io/folium/index.html\n",
    "\n",
    "Folium is the library that lets us use leaflet with Python, since it's meant to be used with JavaScript.\n",
    "\n",
    "For adding titles: https://stackoverflow.com/questions/61928013/adding-a-title-or-text-to-a-folium-map"
   ]
  },
  {
   "cell_type": "markdown",
   "metadata": {},
   "source": [
    "## Correction section"
   ]
  },
  {
   "cell_type": "code",
   "execution_count": 8,
   "metadata": {},
   "outputs": [],
   "source": [
    "# df.at[index#,'col_name']"
   ]
  },
  {
   "cell_type": "markdown",
   "metadata": {},
   "source": [
    "## Format Data"
   ]
  },
  {
   "cell_type": "code",
   "execution_count": 8,
   "metadata": {},
   "outputs": [],
   "source": [
    "### Insert NaNs if needed ###\n",
    "df = df.replace('N/A', np.nan)"
   ]
  },
  {
   "cell_type": "code",
   "execution_count": 9,
   "metadata": {},
   "outputs": [],
   "source": [
    "df['int_Sale_Price'] = df['Sale Price'].str.replace('$','',regex=False)"
   ]
  },
  {
   "cell_type": "code",
   "execution_count": 10,
   "metadata": {},
   "outputs": [],
   "source": [
    "df['int_Sale_Price'] = df['int_Sale_Price'].str.replace(',','',regex=False)"
   ]
  },
  {
   "cell_type": "code",
   "execution_count": 11,
   "metadata": {},
   "outputs": [],
   "source": [
    "df['int_Sale_Price'] = pd.to_numeric(df['int_Sale_Price'])"
   ]
  },
  {
   "cell_type": "code",
   "execution_count": 12,
   "metadata": {},
   "outputs": [],
   "source": [
    "df['price_per_sqft'] = df['price_per_sqft'].str.replace('$','',regex=False)\n",
    "df['price_per_sqft'] = df['price_per_sqft'].str.replace(',','',regex=False)\n",
    "df['price_per_sqft'] = pd.to_numeric(df['price_per_sqft'])\n",
    "\n",
    "df['days_on_market'] = pd.to_numeric(df['days_on_market'])"
   ]
  },
  {
   "cell_type": "markdown",
   "metadata": {},
   "source": [
    "## Color-code top sale"
   ]
  },
  {
   "cell_type": "code",
   "execution_count": 13,
   "metadata": {},
   "outputs": [],
   "source": [
    "### Insert RANK values ###\n",
    "df['RANK'] = range(1, len(df) + 1)\n",
    "# use numpy to assign values to the 'COLOR' column\n",
    "df['COLOR'] = np.where(df['RANK'] <= 1, 'orange', 'blue')"
   ]
  },
  {
   "cell_type": "markdown",
   "metadata": {},
   "source": [
    "## HTML Popup Formatter"
   ]
  },
  {
   "cell_type": "code",
   "execution_count": 14,
   "metadata": {},
   "outputs": [
    {
     "data": {
      "text/plain": [
       "Index(['building_address_city', 'Close Date', 'days_on_market', 'Sale Price',\n",
       "       'Sq. Ft.', 'price_per_sqft', 'Agent', 'Listing Broker', 'Buyer Agent',\n",
       "       'Buyer Broker', 'geo_address_x', 'geo_address_y', 'building_name',\n",
       "       'address', 'geocoded', 'lat', 'lon', 'int_Sale_Price', 'RANK', 'COLOR'],\n",
       "      dtype='object')"
      ]
     },
     "execution_count": 14,
     "metadata": {},
     "output_type": "execute_result"
    }
   ],
   "source": [
    "df.columns"
   ]
  },
  {
   "cell_type": "code",
   "execution_count": 15,
   "metadata": {},
   "outputs": [],
   "source": [
    "def popup_html(row):\n",
    "    building_name = row['building_name']\n",
    "    price = row['Sale Price']\n",
    "    days_on_market = row['days_on_market']\n",
    "    listing_agent = row['Agent']\n",
    "    buyers_agent = row['Buyer Agent']\n",
    "    psf = row['price_per_sqft']\n",
    "    address = row['address']\n",
    "    \n",
    "    html = '''<!DOCTYPE html>\n",
    "    <html>\n",
    "    <strong>Building Name: </strong>{}'''.format(building_name) + '''<br>\n",
    "    <strong>Sale Price: </strong>{}'''.format(price) + '''<br>\n",
    "    <strong>Days on Market: </strong>{}'''.format(days_on_market) + '''<br>\n",
    "    <strong>Listing Agent: </strong>{}'''.format(listing_agent) + '''<br>\n",
    "    <strong>Buyer's Agent: </strong>{}'''.format(buyers_agent) + '''<br>\n",
    "    <strong>Price sq ft: </strong>${}'''.format(psf) + '''<br>\n",
    "    <strong>Address: </strong>{}'''.format(address) + '''<br>\n",
    "    </html>\n",
    "    '''\n",
    "    return html"
   ]
  },
  {
   "cell_type": "code",
   "execution_count": 16,
   "metadata": {},
   "outputs": [
    {
     "data": {
      "text/html": [
       "<div style=\"width:100%;\"><div style=\"position:relative;width:100%;height:0;padding-bottom:60%;\"><span style=\"color:#565656\">Make this Notebook Trusted to load map: File -> Trust Notebook</span><iframe srcdoc=\"&lt;!DOCTYPE html&gt;\n",
       "&lt;head&gt;    \n",
       "    &lt;meta http-equiv=&quot;content-type&quot; content=&quot;text/html; charset=UTF-8&quot; /&gt;\n",
       "    \n",
       "        &lt;script&gt;\n",
       "            L_NO_TOUCH = false;\n",
       "            L_DISABLE_3D = false;\n",
       "        &lt;/script&gt;\n",
       "    \n",
       "    &lt;style&gt;html, body {width: 100%;height: 100%;margin: 0;padding: 0;}&lt;/style&gt;\n",
       "    &lt;style&gt;#map {position:absolute;top:0;bottom:0;right:0;left:0;}&lt;/style&gt;\n",
       "    &lt;script src=&quot;https://cdn.jsdelivr.net/npm/leaflet@1.6.0/dist/leaflet.js&quot;&gt;&lt;/script&gt;\n",
       "    &lt;script src=&quot;https://code.jquery.com/jquery-1.12.4.min.js&quot;&gt;&lt;/script&gt;\n",
       "    &lt;script src=&quot;https://maxcdn.bootstrapcdn.com/bootstrap/3.2.0/js/bootstrap.min.js&quot;&gt;&lt;/script&gt;\n",
       "    &lt;script src=&quot;https://cdnjs.cloudflare.com/ajax/libs/Leaflet.awesome-markers/2.0.2/leaflet.awesome-markers.js&quot;&gt;&lt;/script&gt;\n",
       "    &lt;link rel=&quot;stylesheet&quot; href=&quot;https://cdn.jsdelivr.net/npm/leaflet@1.6.0/dist/leaflet.css&quot;/&gt;\n",
       "    &lt;link rel=&quot;stylesheet&quot; href=&quot;https://maxcdn.bootstrapcdn.com/bootstrap/3.2.0/css/bootstrap.min.css&quot;/&gt;\n",
       "    &lt;link rel=&quot;stylesheet&quot; href=&quot;https://maxcdn.bootstrapcdn.com/bootstrap/3.2.0/css/bootstrap-theme.min.css&quot;/&gt;\n",
       "    &lt;link rel=&quot;stylesheet&quot; href=&quot;https://maxcdn.bootstrapcdn.com/font-awesome/4.6.3/css/font-awesome.min.css&quot;/&gt;\n",
       "    &lt;link rel=&quot;stylesheet&quot; href=&quot;https://cdnjs.cloudflare.com/ajax/libs/Leaflet.awesome-markers/2.0.2/leaflet.awesome-markers.css&quot;/&gt;\n",
       "    &lt;link rel=&quot;stylesheet&quot; href=&quot;https://cdn.jsdelivr.net/gh/python-visualization/folium/folium/templates/leaflet.awesome.rotate.min.css&quot;/&gt;\n",
       "    \n",
       "            &lt;meta name=&quot;viewport&quot; content=&quot;width=device-width,\n",
       "                initial-scale=1.0, maximum-scale=1.0, user-scalable=no&quot; /&gt;\n",
       "            &lt;style&gt;\n",
       "                #map_7879c4ac5025147a4658789875717104 {\n",
       "                    position: relative;\n",
       "                    width: 100.0%;\n",
       "                    height: 100.0%;\n",
       "                    left: 0.0%;\n",
       "                    top: 0.0%;\n",
       "                }\n",
       "            &lt;/style&gt;\n",
       "        \n",
       "&lt;/head&gt;\n",
       "&lt;body&gt;    \n",
       "    \n",
       "              &lt;h3 align=&quot;center&quot; style=&quot;font-size:16px&quot;&gt;&lt;b&gt;Recent Miami-Dade Condo Sales &lt;/b&gt;&lt;/h3&gt;\n",
       "             \n",
       "    \n",
       "                &lt;p align=&quot;center&quot; style=&quot;vertical-align: bottom; font-size:13px&quot;&gt;&lt;i&gt;September 3rd - September 9th&lt;/i&gt;&lt;/p&gt;\n",
       "                \n",
       "    \n",
       "            &lt;div class=&quot;folium-map&quot; id=&quot;map_7879c4ac5025147a4658789875717104&quot; &gt;&lt;/div&gt;\n",
       "        \n",
       "&lt;/body&gt;\n",
       "&lt;script&gt;    \n",
       "    \n",
       "            var map_7879c4ac5025147a4658789875717104 = L.map(\n",
       "                &quot;map_7879c4ac5025147a4658789875717104&quot;,\n",
       "                {\n",
       "                    center: [25.82893789, -80.14077984],\n",
       "                    crs: L.CRS.EPSG3857,\n",
       "                    zoom: 9.5,\n",
       "                    zoomControl: true,\n",
       "                    preferCanvas: false,\n",
       "                }\n",
       "            );\n",
       "\n",
       "            \n",
       "\n",
       "        \n",
       "    \n",
       "            var feature_group_b6dab2385c0f7ac8030881d988ddba93 = L.featureGroup(\n",
       "                {}\n",
       "            ).addTo(map_7879c4ac5025147a4658789875717104);\n",
       "        \n",
       "    \n",
       "            var marker_1d5c4530e2e5ee4ae6adb92f58c5d911 = L.marker(\n",
       "                [25.9349392, -80.12091819999999],\n",
       "                {&quot;fill&quot;: true, &quot;radius&quot;: 5}\n",
       "            ).addTo(feature_group_b6dab2385c0f7ac8030881d988ddba93);\n",
       "        \n",
       "    \n",
       "            var icon_a06238dc10e012c2964c7109efa378bc = L.AwesomeMarkers.icon(\n",
       "                {&quot;extraClasses&quot;: &quot;fa-rotate-0&quot;, &quot;icon&quot;: &quot;info-sign&quot;, &quot;iconColor&quot;: &quot;white&quot;, &quot;markerColor&quot;: &quot;orange&quot;, &quot;prefix&quot;: &quot;glyphicon&quot;}\n",
       "            );\n",
       "            marker_1d5c4530e2e5ee4ae6adb92f58c5d911.setIcon(icon_a06238dc10e012c2964c7109efa378bc);\n",
       "        \n",
       "    \n",
       "        var popup_66558dd22d6ccb5464c22b4d86dc52ec = L.popup({&quot;maxWidth&quot;: 400});\n",
       "\n",
       "        \n",
       "            \n",
       "                var html_7daa6e70b547922ed8a2ab9f0384c5d4 = $(`&lt;div id=&quot;html_7daa6e70b547922ed8a2ab9f0384c5d4&quot; style=&quot;width: 100.0%; height: 100.0%;&quot;&gt;&lt;!DOCTYPE html&gt;     &lt;html&gt;     &lt;strong&gt;Building Name: &lt;/strong&gt;Muse&lt;br&gt;     &lt;strong&gt;Sale Price: &lt;/strong&gt;$12,400,000.00&lt;br&gt;     &lt;strong&gt;Days on Market: &lt;/strong&gt;569&lt;br&gt;     &lt;strong&gt;Listing Agent: &lt;/strong&gt;Sylvia Fragos&lt;br&gt;     &lt;strong&gt;Buyer&#x27;s Agent: &lt;/strong&gt;Ivan Chorney&lt;br&gt;     &lt;strong&gt;Price sq ft: &lt;/strong&gt;$2283.19&lt;br&gt;     &lt;strong&gt;Address: &lt;/strong&gt;17141 Collins Ave 4301 Sunny Isles&lt;br&gt;     &lt;/html&gt;     &lt;/div&gt;`)[0];\n",
       "                popup_66558dd22d6ccb5464c22b4d86dc52ec.setContent(html_7daa6e70b547922ed8a2ab9f0384c5d4);\n",
       "            \n",
       "        \n",
       "\n",
       "        marker_1d5c4530e2e5ee4ae6adb92f58c5d911.bindPopup(popup_66558dd22d6ccb5464c22b4d86dc52ec)\n",
       "        ;\n",
       "\n",
       "        \n",
       "    \n",
       "    \n",
       "            var feature_group_24b9fc3ff4638565d5c94c9e2cd87368 = L.featureGroup(\n",
       "                {}\n",
       "            ).addTo(map_7879c4ac5025147a4658789875717104);\n",
       "        \n",
       "    \n",
       "            var marker_76e0b6ba0f160bb1ab1c996817134239 = L.marker(\n",
       "                [25.9294643, -80.1259521],\n",
       "                {&quot;fill&quot;: true, &quot;radius&quot;: 5}\n",
       "            ).addTo(feature_group_24b9fc3ff4638565d5c94c9e2cd87368);\n",
       "        \n",
       "    \n",
       "            var icon_2e5e7ea2f04864e722998107c963a207 = L.AwesomeMarkers.icon(\n",
       "                {&quot;extraClasses&quot;: &quot;fa-rotate-0&quot;, &quot;icon&quot;: &quot;info-sign&quot;, &quot;iconColor&quot;: &quot;white&quot;, &quot;markerColor&quot;: &quot;blue&quot;, &quot;prefix&quot;: &quot;glyphicon&quot;}\n",
       "            );\n",
       "            marker_76e0b6ba0f160bb1ab1c996817134239.setIcon(icon_2e5e7ea2f04864e722998107c963a207);\n",
       "        \n",
       "    \n",
       "        var popup_66d3dbaa063525670f4a802773c909a9 = L.popup({&quot;maxWidth&quot;: 400});\n",
       "\n",
       "        \n",
       "            \n",
       "                var html_ed606b3c2b6dcfa2790e23d71187f862 = $(`&lt;div id=&quot;html_ed606b3c2b6dcfa2790e23d71187f862&quot; style=&quot;width: 100.0%; height: 100.0%;&quot;&gt;&lt;!DOCTYPE html&gt;     &lt;html&gt;     &lt;strong&gt;Building Name: &lt;/strong&gt;Parque Towers&lt;br&gt;     &lt;strong&gt;Sale Price: &lt;/strong&gt;$4,500,000.00&lt;br&gt;     &lt;strong&gt;Days on Market: &lt;/strong&gt;148&lt;br&gt;     &lt;strong&gt;Listing Agent: &lt;/strong&gt;Eyal Chai&lt;br&gt;     &lt;strong&gt;Buyer&#x27;s Agent: &lt;/strong&gt;Karen Vivas&lt;br&gt;     &lt;strong&gt;Price sq ft: &lt;/strong&gt;$1204.82&lt;br&gt;     &lt;strong&gt;Address: &lt;/strong&gt;330 Sunny Isles Blvd 5-TS02 Sunny Isles&lt;br&gt;     &lt;/html&gt;     &lt;/div&gt;`)[0];\n",
       "                popup_66d3dbaa063525670f4a802773c909a9.setContent(html_ed606b3c2b6dcfa2790e23d71187f862);\n",
       "            \n",
       "        \n",
       "\n",
       "        marker_76e0b6ba0f160bb1ab1c996817134239.bindPopup(popup_66d3dbaa063525670f4a802773c909a9)\n",
       "        ;\n",
       "\n",
       "        \n",
       "    \n",
       "    \n",
       "            var marker_1f2890cbf501160a37c62baf6b3d6e72 = L.marker(\n",
       "                [25.9327557, -80.1210054],\n",
       "                {&quot;fill&quot;: true, &quot;radius&quot;: 5}\n",
       "            ).addTo(feature_group_24b9fc3ff4638565d5c94c9e2cd87368);\n",
       "        \n",
       "    \n",
       "            var icon_13241cbf087e88c0888dfb1f7c1aaa24 = L.AwesomeMarkers.icon(\n",
       "                {&quot;extraClasses&quot;: &quot;fa-rotate-0&quot;, &quot;icon&quot;: &quot;info-sign&quot;, &quot;iconColor&quot;: &quot;white&quot;, &quot;markerColor&quot;: &quot;blue&quot;, &quot;prefix&quot;: &quot;glyphicon&quot;}\n",
       "            );\n",
       "            marker_1f2890cbf501160a37c62baf6b3d6e72.setIcon(icon_13241cbf087e88c0888dfb1f7c1aaa24);\n",
       "        \n",
       "    \n",
       "        var popup_e7fe9206a482b6d1c5a8738b607302c7 = L.popup({&quot;maxWidth&quot;: 400});\n",
       "\n",
       "        \n",
       "            \n",
       "                var html_c0ce939d73fa8ba9c9324d21f3ec50fc = $(`&lt;div id=&quot;html_c0ce939d73fa8ba9c9324d21f3ec50fc&quot; style=&quot;width: 100.0%; height: 100.0%;&quot;&gt;&lt;!DOCTYPE html&gt;     &lt;html&gt;     &lt;strong&gt;Building Name: &lt;/strong&gt;Jade Signature Condo&lt;br&gt;     &lt;strong&gt;Sale Price: &lt;/strong&gt;$4,200,000.00&lt;br&gt;     &lt;strong&gt;Days on Market: &lt;/strong&gt;43&lt;br&gt;     &lt;strong&gt;Listing Agent: &lt;/strong&gt;Melissa Rubin&lt;br&gt;     &lt;strong&gt;Buyer&#x27;s Agent: &lt;/strong&gt;Carlo Dipasquale&lt;br&gt;     &lt;strong&gt;Price sq ft: &lt;/strong&gt;$1591.51&lt;br&gt;     &lt;strong&gt;Address: &lt;/strong&gt;16901 Collins Ave 4505 Sunny Isles&lt;br&gt;     &lt;/html&gt;     &lt;/div&gt;`)[0];\n",
       "                popup_e7fe9206a482b6d1c5a8738b607302c7.setContent(html_c0ce939d73fa8ba9c9324d21f3ec50fc);\n",
       "            \n",
       "        \n",
       "\n",
       "        marker_1f2890cbf501160a37c62baf6b3d6e72.bindPopup(popup_e7fe9206a482b6d1c5a8738b607302c7)\n",
       "        ;\n",
       "\n",
       "        \n",
       "    \n",
       "    \n",
       "            var marker_687f51cb40b53c4481b17fe90e1befe5 = L.marker(\n",
       "                [25.8138466, -80.1221688],\n",
       "                {&quot;fill&quot;: true, &quot;radius&quot;: 5}\n",
       "            ).addTo(feature_group_24b9fc3ff4638565d5c94c9e2cd87368);\n",
       "        \n",
       "    \n",
       "            var icon_212e9a6e66e192c6888aaaf26afaf0b5 = L.AwesomeMarkers.icon(\n",
       "                {&quot;extraClasses&quot;: &quot;fa-rotate-0&quot;, &quot;icon&quot;: &quot;info-sign&quot;, &quot;iconColor&quot;: &quot;white&quot;, &quot;markerColor&quot;: &quot;blue&quot;, &quot;prefix&quot;: &quot;glyphicon&quot;}\n",
       "            );\n",
       "            marker_687f51cb40b53c4481b17fe90e1befe5.setIcon(icon_212e9a6e66e192c6888aaaf26afaf0b5);\n",
       "        \n",
       "    \n",
       "        var popup_0735073696a236da9479ba2691c509d0 = L.popup({&quot;maxWidth&quot;: 400});\n",
       "\n",
       "        \n",
       "            \n",
       "                var html_14e85fe92847dbbfefcce2b672b54d9c = $(`&lt;div id=&quot;html_14e85fe92847dbbfefcce2b672b54d9c&quot; style=&quot;width: 100.0%; height: 100.0%;&quot;&gt;&lt;!DOCTYPE html&gt;     &lt;html&gt;     &lt;strong&gt;Building Name: &lt;/strong&gt;La Tour Condo&lt;br&gt;     &lt;strong&gt;Sale Price: &lt;/strong&gt;$3,065,000.00&lt;br&gt;     &lt;strong&gt;Days on Market: &lt;/strong&gt;608&lt;br&gt;     &lt;strong&gt;Listing Agent: &lt;/strong&gt;Michele Redlich&lt;br&gt;     &lt;strong&gt;Buyer&#x27;s Agent: &lt;/strong&gt;Michael P. Schnabel&lt;br&gt;     &lt;strong&gt;Price sq ft: &lt;/strong&gt;$1547.98&lt;br&gt;     &lt;strong&gt;Address: &lt;/strong&gt;4201 Collins Ave 903 Miami&lt;br&gt;     &lt;/html&gt;     &lt;/div&gt;`)[0];\n",
       "                popup_0735073696a236da9479ba2691c509d0.setContent(html_14e85fe92847dbbfefcce2b672b54d9c);\n",
       "            \n",
       "        \n",
       "\n",
       "        marker_687f51cb40b53c4481b17fe90e1befe5.bindPopup(popup_0735073696a236da9479ba2691c509d0)\n",
       "        ;\n",
       "\n",
       "        \n",
       "    \n",
       "    \n",
       "            var marker_b9d82d7b91d38bf559f4531ebe39c2aa = L.marker(\n",
       "                [25.7897398, -80.1471692],\n",
       "                {&quot;fill&quot;: true, &quot;radius&quot;: 5}\n",
       "            ).addTo(feature_group_24b9fc3ff4638565d5c94c9e2cd87368);\n",
       "        \n",
       "    \n",
       "            var icon_22f7024828bf772924b7f46ce062e9a9 = L.AwesomeMarkers.icon(\n",
       "                {&quot;extraClasses&quot;: &quot;fa-rotate-0&quot;, &quot;icon&quot;: &quot;info-sign&quot;, &quot;iconColor&quot;: &quot;white&quot;, &quot;markerColor&quot;: &quot;blue&quot;, &quot;prefix&quot;: &quot;glyphicon&quot;}\n",
       "            );\n",
       "            marker_b9d82d7b91d38bf559f4531ebe39c2aa.setIcon(icon_22f7024828bf772924b7f46ce062e9a9);\n",
       "        \n",
       "    \n",
       "        var popup_979be3f7fffc66ebc766e3595386dc01 = L.popup({&quot;maxWidth&quot;: 400});\n",
       "\n",
       "        \n",
       "            \n",
       "                var html_ce08bd435c15a1af01751a3ac2cd9cd4 = $(`&lt;div id=&quot;html_ce08bd435c15a1af01751a3ac2cd9cd4&quot; style=&quot;width: 100.0%; height: 100.0%;&quot;&gt;&lt;!DOCTYPE html&gt;     &lt;html&gt;     &lt;strong&gt;Building Name: &lt;/strong&gt;The Belle Towers&lt;br&gt;     &lt;strong&gt;Sale Price: &lt;/strong&gt;$3,000,000.00&lt;br&gt;     &lt;strong&gt;Days on Market: &lt;/strong&gt;5&lt;br&gt;     &lt;strong&gt;Listing Agent: &lt;/strong&gt;William Hahne&lt;br&gt;     &lt;strong&gt;Buyer&#x27;s Agent: &lt;/strong&gt;William Hahne&lt;br&gt;     &lt;strong&gt;Price sq ft: &lt;/strong&gt;$1700.68&lt;br&gt;     &lt;strong&gt;Address: &lt;/strong&gt;16 Island Ave 5A Miami&lt;br&gt;     &lt;/html&gt;     &lt;/div&gt;`)[0];\n",
       "                popup_979be3f7fffc66ebc766e3595386dc01.setContent(html_ce08bd435c15a1af01751a3ac2cd9cd4);\n",
       "            \n",
       "        \n",
       "\n",
       "        marker_b9d82d7b91d38bf559f4531ebe39c2aa.bindPopup(popup_979be3f7fffc66ebc766e3595386dc01)\n",
       "        ;\n",
       "\n",
       "        \n",
       "    \n",
       "    \n",
       "            var marker_c17b648d48760a26152e53638112dca2 = L.marker(\n",
       "                [25.9489901, -80.1355354],\n",
       "                {&quot;fill&quot;: true, &quot;radius&quot;: 5}\n",
       "            ).addTo(feature_group_24b9fc3ff4638565d5c94c9e2cd87368);\n",
       "        \n",
       "    \n",
       "            var icon_dcf1a0d446f568001e10f7cfc97ba8ca = L.AwesomeMarkers.icon(\n",
       "                {&quot;extraClasses&quot;: &quot;fa-rotate-0&quot;, &quot;icon&quot;: &quot;info-sign&quot;, &quot;iconColor&quot;: &quot;white&quot;, &quot;markerColor&quot;: &quot;blue&quot;, &quot;prefix&quot;: &quot;glyphicon&quot;}\n",
       "            );\n",
       "            marker_c17b648d48760a26152e53638112dca2.setIcon(icon_dcf1a0d446f568001e10f7cfc97ba8ca);\n",
       "        \n",
       "    \n",
       "        var popup_38029dcc22729994f9af4270f713da19 = L.popup({&quot;maxWidth&quot;: 400});\n",
       "\n",
       "        \n",
       "            \n",
       "                var html_e83bd4be9828c384e566145e4156d7d5 = $(`&lt;div id=&quot;html_e83bd4be9828c384e566145e4156d7d5&quot; style=&quot;width: 100.0%; height: 100.0%;&quot;&gt;&lt;!DOCTYPE html&gt;     &lt;html&gt;     &lt;strong&gt;Building Name: &lt;/strong&gt;Echo Aventura&lt;br&gt;     &lt;strong&gt;Sale Price: &lt;/strong&gt;$2,500,000.00&lt;br&gt;     &lt;strong&gt;Days on Market: &lt;/strong&gt;9&lt;br&gt;     &lt;strong&gt;Listing Agent: &lt;/strong&gt;Ben Brissi&lt;br&gt;     &lt;strong&gt;Buyer&#x27;s Agent: &lt;/strong&gt;Ben Brissi&lt;br&gt;     &lt;strong&gt;Price sq ft: &lt;/strong&gt;$799.74&lt;br&gt;     &lt;strong&gt;Address: &lt;/strong&gt;3300 NE 188th St 517&lt;br&gt;     &lt;/html&gt;     &lt;/div&gt;`)[0];\n",
       "                popup_38029dcc22729994f9af4270f713da19.setContent(html_e83bd4be9828c384e566145e4156d7d5);\n",
       "            \n",
       "        \n",
       "\n",
       "        marker_c17b648d48760a26152e53638112dca2.bindPopup(popup_38029dcc22729994f9af4270f713da19)\n",
       "        ;\n",
       "\n",
       "        \n",
       "    \n",
       "    \n",
       "            var marker_b01af08de2f035ea639f5621e922e7b8 = L.marker(\n",
       "                [25.7975046, -80.1281362],\n",
       "                {&quot;fill&quot;: true, &quot;radius&quot;: 5}\n",
       "            ).addTo(feature_group_24b9fc3ff4638565d5c94c9e2cd87368);\n",
       "        \n",
       "    \n",
       "            var icon_a54c154bbe2691422795e668d5890d51 = L.AwesomeMarkers.icon(\n",
       "                {&quot;extraClasses&quot;: &quot;fa-rotate-0&quot;, &quot;icon&quot;: &quot;info-sign&quot;, &quot;iconColor&quot;: &quot;white&quot;, &quot;markerColor&quot;: &quot;blue&quot;, &quot;prefix&quot;: &quot;glyphicon&quot;}\n",
       "            );\n",
       "            marker_b01af08de2f035ea639f5621e922e7b8.setIcon(icon_a54c154bbe2691422795e668d5890d51);\n",
       "        \n",
       "    \n",
       "        var popup_6e5b474535ebf7d298b99c3f3f441587 = L.popup({&quot;maxWidth&quot;: 400});\n",
       "\n",
       "        \n",
       "            \n",
       "                var html_bbb01cf9ae467a9965c97101ab1824d1 = $(`&lt;div id=&quot;html_bbb01cf9ae467a9965c97101ab1824d1&quot; style=&quot;width: 100.0%; height: 100.0%;&quot;&gt;&lt;!DOCTYPE html&gt;     &lt;html&gt;     &lt;strong&gt;Building Name: &lt;/strong&gt;W South Ocean&lt;br&gt;     &lt;strong&gt;Sale Price: &lt;/strong&gt;$2,325,000.00&lt;br&gt;     &lt;strong&gt;Days on Market: &lt;/strong&gt;74&lt;br&gt;     &lt;strong&gt;Listing Agent: &lt;/strong&gt;Evelina Tsigelnitskaya&lt;br&gt;     &lt;strong&gt;Buyer&#x27;s Agent: &lt;/strong&gt;Christopher Adeleke&lt;br&gt;     &lt;strong&gt;Price sq ft: &lt;/strong&gt;$2266.08&lt;br&gt;     &lt;strong&gt;Address: &lt;/strong&gt;2201 Collins Ave 904 Miami&lt;br&gt;     &lt;/html&gt;     &lt;/div&gt;`)[0];\n",
       "                popup_6e5b474535ebf7d298b99c3f3f441587.setContent(html_bbb01cf9ae467a9965c97101ab1824d1);\n",
       "            \n",
       "        \n",
       "\n",
       "        marker_b01af08de2f035ea639f5621e922e7b8.bindPopup(popup_6e5b474535ebf7d298b99c3f3f441587)\n",
       "        ;\n",
       "\n",
       "        \n",
       "    \n",
       "    \n",
       "            var marker_e5844cb5ef31e5f1d96bb48dc31d3493 = L.marker(\n",
       "                [25.6872981, -80.16242369999999],\n",
       "                {&quot;fill&quot;: true, &quot;radius&quot;: 5}\n",
       "            ).addTo(feature_group_24b9fc3ff4638565d5c94c9e2cd87368);\n",
       "        \n",
       "    \n",
       "            var icon_21b0f6bb10bc23e3d1e1cccb8df155ee = L.AwesomeMarkers.icon(\n",
       "                {&quot;extraClasses&quot;: &quot;fa-rotate-0&quot;, &quot;icon&quot;: &quot;info-sign&quot;, &quot;iconColor&quot;: &quot;white&quot;, &quot;markerColor&quot;: &quot;blue&quot;, &quot;prefix&quot;: &quot;glyphicon&quot;}\n",
       "            );\n",
       "            marker_e5844cb5ef31e5f1d96bb48dc31d3493.setIcon(icon_21b0f6bb10bc23e3d1e1cccb8df155ee);\n",
       "        \n",
       "    \n",
       "        var popup_1fca2a030987c505d740f65c3a506ba1 = L.popup({&quot;maxWidth&quot;: 400});\n",
       "\n",
       "        \n",
       "            \n",
       "                var html_b4e43e0d24b85a2867eaa458a7a61d55 = $(`&lt;div id=&quot;html_b4e43e0d24b85a2867eaa458a7a61d55&quot; style=&quot;width: 100.0%; height: 100.0%;&quot;&gt;&lt;!DOCTYPE html&gt;     &lt;html&gt;     &lt;strong&gt;Building Name: &lt;/strong&gt;The Ocean Club&lt;br&gt;     &lt;strong&gt;Sale Price: &lt;/strong&gt;$2,000,000.00&lt;br&gt;     &lt;strong&gt;Days on Market: &lt;/strong&gt;177&lt;br&gt;     &lt;strong&gt;Listing Agent: &lt;/strong&gt;Lucas Boccheciampe&lt;br&gt;     &lt;strong&gt;Buyer&#x27;s Agent: &lt;/strong&gt;Fernando Paiz PA&lt;br&gt;     &lt;strong&gt;Price sq ft: &lt;/strong&gt;$900.9&lt;br&gt;     &lt;strong&gt;Address: &lt;/strong&gt;731 Crandon Blvd 507 Key&lt;br&gt;     &lt;/html&gt;     &lt;/div&gt;`)[0];\n",
       "                popup_1fca2a030987c505d740f65c3a506ba1.setContent(html_b4e43e0d24b85a2867eaa458a7a61d55);\n",
       "            \n",
       "        \n",
       "\n",
       "        marker_e5844cb5ef31e5f1d96bb48dc31d3493.bindPopup(popup_1fca2a030987c505d740f65c3a506ba1)\n",
       "        ;\n",
       "\n",
       "        \n",
       "    \n",
       "    \n",
       "            var marker_d314b0a73f5ccb6a4b722e900cf13179 = L.marker(\n",
       "                [25.6857044, -80.15754919999999],\n",
       "                {&quot;fill&quot;: true, &quot;radius&quot;: 5}\n",
       "            ).addTo(feature_group_24b9fc3ff4638565d5c94c9e2cd87368);\n",
       "        \n",
       "    \n",
       "            var icon_8db55c029b3cbf88ac142e1cd92e1635 = L.AwesomeMarkers.icon(\n",
       "                {&quot;extraClasses&quot;: &quot;fa-rotate-0&quot;, &quot;icon&quot;: &quot;info-sign&quot;, &quot;iconColor&quot;: &quot;white&quot;, &quot;markerColor&quot;: &quot;blue&quot;, &quot;prefix&quot;: &quot;glyphicon&quot;}\n",
       "            );\n",
       "            marker_d314b0a73f5ccb6a4b722e900cf13179.setIcon(icon_8db55c029b3cbf88ac142e1cd92e1635);\n",
       "        \n",
       "    \n",
       "        var popup_c57de8b9409db469c189138d714cef9b = L.popup({&quot;maxWidth&quot;: 400});\n",
       "\n",
       "        \n",
       "            \n",
       "                var html_82945fe8cd15c55502d189d5440c2f39 = $(`&lt;div id=&quot;html_82945fe8cd15c55502d189d5440c2f39&quot; style=&quot;width: 100.0%; height: 100.0%;&quot;&gt;&lt;!DOCTYPE html&gt;     &lt;html&gt;     &lt;strong&gt;Building Name: &lt;/strong&gt;Casa Del Mar Condo&lt;br&gt;     &lt;strong&gt;Sale Price: &lt;/strong&gt;$1,905,000.00&lt;br&gt;     &lt;strong&gt;Days on Market: &lt;/strong&gt;11&lt;br&gt;     &lt;strong&gt;Listing Agent: &lt;/strong&gt;Alexander Saieh&lt;br&gt;     &lt;strong&gt;Buyer&#x27;s Agent: &lt;/strong&gt;Edgar Whelan&lt;br&gt;     &lt;strong&gt;Price sq ft: &lt;/strong&gt;$1016.0&lt;br&gt;     &lt;strong&gt;Address: &lt;/strong&gt;881 Ocean Dr 26C Key&lt;br&gt;     &lt;/html&gt;     &lt;/div&gt;`)[0];\n",
       "                popup_c57de8b9409db469c189138d714cef9b.setContent(html_82945fe8cd15c55502d189d5440c2f39);\n",
       "            \n",
       "        \n",
       "\n",
       "        marker_d314b0a73f5ccb6a4b722e900cf13179.bindPopup(popup_c57de8b9409db469c189138d714cef9b)\n",
       "        ;\n",
       "\n",
       "        \n",
       "    \n",
       "    \n",
       "            var marker_2b3eab3f1a90e794266f4b1ca697ca41 = L.marker(\n",
       "                [25.7691361, -80.1869402],\n",
       "                {&quot;fill&quot;: true, &quot;radius&quot;: 5}\n",
       "            ).addTo(feature_group_24b9fc3ff4638565d5c94c9e2cd87368);\n",
       "        \n",
       "    \n",
       "            var icon_23020f1d1a3a16d061c11458999072d9 = L.AwesomeMarkers.icon(\n",
       "                {&quot;extraClasses&quot;: &quot;fa-rotate-0&quot;, &quot;icon&quot;: &quot;info-sign&quot;, &quot;iconColor&quot;: &quot;white&quot;, &quot;markerColor&quot;: &quot;blue&quot;, &quot;prefix&quot;: &quot;glyphicon&quot;}\n",
       "            );\n",
       "            marker_2b3eab3f1a90e794266f4b1ca697ca41.setIcon(icon_23020f1d1a3a16d061c11458999072d9);\n",
       "        \n",
       "    \n",
       "        var popup_5f5f8373ca661006d5f761c8f23c4c08 = L.popup({&quot;maxWidth&quot;: 400});\n",
       "\n",
       "        \n",
       "            \n",
       "                var html_b704d94e19e620e40b390170a521a8bd = $(`&lt;div id=&quot;html_b704d94e19e620e40b390170a521a8bd&quot; style=&quot;width: 100.0%; height: 100.0%;&quot;&gt;&lt;!DOCTYPE html&gt;     &lt;html&gt;     &lt;strong&gt;Building Name: &lt;/strong&gt;Carbonell Condo&lt;br&gt;     &lt;strong&gt;Sale Price: &lt;/strong&gt;$1,700,000.00&lt;br&gt;     &lt;strong&gt;Days on Market: &lt;/strong&gt;149&lt;br&gt;     &lt;strong&gt;Listing Agent: &lt;/strong&gt;Estela Serrano&lt;br&gt;     &lt;strong&gt;Buyer&#x27;s Agent: &lt;/strong&gt;Lars Fitzgerald&lt;br&gt;     &lt;strong&gt;Price sq ft: &lt;/strong&gt;$874.49&lt;br&gt;     &lt;strong&gt;Address: &lt;/strong&gt;901 Brickell Key Blvd 2906&lt;br&gt;     &lt;/html&gt;     &lt;/div&gt;`)[0];\n",
       "                popup_5f5f8373ca661006d5f761c8f23c4c08.setContent(html_b704d94e19e620e40b390170a521a8bd);\n",
       "            \n",
       "        \n",
       "\n",
       "        marker_2b3eab3f1a90e794266f4b1ca697ca41.bindPopup(popup_5f5f8373ca661006d5f761c8f23c4c08)\n",
       "        ;\n",
       "\n",
       "        \n",
       "    \n",
       "    \n",
       "            var tile_layer_7e43e27f3e8e13dba860231cb70298a6 = L.tileLayer(\n",
       "                &quot;https://{s}.tile.openstreetmap.org/{z}/{x}/{y}.png&quot;,\n",
       "                {&quot;attribution&quot;: &quot;Data by \\u0026copy; \\u003ca href=\\&quot;http://openstreetmap.org\\&quot;\\u003eOpenStreetMap\\u003c/a\\u003e, under \\u003ca href=\\&quot;http://www.openstreetmap.org/copyright\\&quot;\\u003eODbL\\u003c/a\\u003e.&quot;, &quot;detectRetina&quot;: false, &quot;maxNativeZoom&quot;: 18, &quot;maxZoom&quot;: 18, &quot;minZoom&quot;: 0, &quot;noWrap&quot;: false, &quot;opacity&quot;: 1, &quot;subdomains&quot;: &quot;abc&quot;, &quot;tms&quot;: false}\n",
       "            ).addTo(map_7879c4ac5025147a4658789875717104);\n",
       "        \n",
       "    \n",
       "            var layer_control_0da88f4e9bad811781eef8a3b8278e34 = {\n",
       "                base_layers : {\n",
       "                },\n",
       "                overlays :  {\n",
       "                    &quot;Top Sale&quot; : feature_group_b6dab2385c0f7ac8030881d988ddba93,\n",
       "                    &quot;All other sales&quot; : feature_group_24b9fc3ff4638565d5c94c9e2cd87368,\n",
       "                },\n",
       "            };\n",
       "            L.control.layers(\n",
       "                layer_control_0da88f4e9bad811781eef8a3b8278e34.base_layers,\n",
       "                layer_control_0da88f4e9bad811781eef8a3b8278e34.overlays,\n",
       "                {&quot;autoZIndex&quot;: true, &quot;collapsed&quot;: false, &quot;position&quot;: &quot;topright&quot;}\n",
       "            ).addTo(map_7879c4ac5025147a4658789875717104);\n",
       "        \n",
       "&lt;/script&gt;\" style=\"position:absolute;width:100%;height:100%;left:0;top:0;border:none !important;\" allowfullscreen webkitallowfullscreen mozallowfullscreen></iframe></div></div>"
      ],
      "text/plain": [
       "<folium.folium.Map at 0x7f92919e1cd0>"
      ]
     },
     "execution_count": 16,
     "metadata": {},
     "output_type": "execute_result"
    }
   ],
   "source": [
    "import folium\n",
    "from folium.plugins import MarkerCluster\n",
    "\n",
    "m = folium.Map(location=df[[\"lat\", \"lon\"]].mean().to_list(), zoom_start=10)\n",
    "\n",
    "title_html = '''\n",
    "              <h3 align=\"center\" style=\"font-size:16px\"><b>{}</b></h3>\n",
    "             '''.format(f'Recent Miami-Dade Condo Sales ')\n",
    "\n",
    "caption_html = '''\n",
    "                <p align=\"center\" style=\"vertical-align: bottom; font-size:13px\"><i>{}</i></p>\n",
    "                '''.format('September 3rd - September 9th')\n",
    "\n",
    "\n",
    "### Create map container ###\n",
    "m = folium.Map(location=df[[\"lat\", \"lon\"]].mean().to_list(),zoom_start=9.5,tiles=None)\n",
    "\n",
    "# Create two FeatureGroups for different color pins\n",
    "fg_blue = folium.FeatureGroup(name='All other sales')\n",
    "fg_orange = folium.FeatureGroup(name='Top Sale')\n",
    "\n",
    "for index, row in df.iterrows():\n",
    "    # Add the markers to the appropriate FeatureGroup based on the color\n",
    "    if row['COLOR'] == 'blue':\n",
    "        marker = folium.Marker(\n",
    "            location=[row['lat'], row['lon']],\n",
    "            radius=5,\n",
    "            fill=True,\n",
    "            icon=folium.Icon(color=row['COLOR']),\n",
    "            popup=folium.Popup(popup_html(row), max_width=400))\n",
    "        marker.add_to(fg_blue)\n",
    "    else:\n",
    "        marker = folium.Marker(\n",
    "            location=[row['lat'], row['lon']],\n",
    "            radius=5,\n",
    "            fill=True,\n",
    "            icon=folium.Icon(color=row['COLOR']),\n",
    "            popup=folium.Popup(popup_html(row), max_width=400))\n",
    "        marker.add_to(fg_orange)\n",
    "\n",
    "# Add the FeatureGroups to the map\n",
    "fg_orange.add_to(m)\n",
    "fg_blue.add_to(m)\n",
    "\n",
    "folium.TileLayer('OpenStreetMap',control=False).add_to(m)\n",
    "\n",
    "# Add LayerControl to the map\n",
    "folium.map.LayerControl(collapsed=False).add_to(m)\n",
    "m.get_root().html.add_child(folium.Element(title_html))\n",
    "m.get_root().html.add_child(folium.Element(caption_html))\n",
    "            \n",
    "# Display map\n",
    "m"
   ]
  },
  {
   "cell_type": "code",
   "execution_count": 17,
   "metadata": {},
   "outputs": [],
   "source": [
    "m.save('index.html')"
   ]
  },
  {
   "cell_type": "markdown",
   "metadata": {},
   "source": [
    "## Data snagger"
   ]
  },
  {
   "cell_type": "code",
   "execution_count": 18,
   "metadata": {},
   "outputs": [],
   "source": [
    "### Set up formatting ###\n",
    "BR = '\\n'\n",
    "\n",
    "ME = '\\033[1m' + 'Most Expensive' + '\\033[0m'\n",
    "LE = '\\033[1m' + 'Least Expensive' + '\\033[0m'\n",
    "\n",
    "MAX_PSF = '\\033[1m' + 'Highest Price Per Square Foot' + '\\033[0m'\n",
    "MIN_PSF = '\\033[1m' + 'Lowest Price Per Square Foot' + '\\033[0m'\n",
    "\n",
    "DAYS_MAX = '\\033[1m' + 'Most Days on Market' + '\\033[0m'\n",
    "DAYS_MIN = '\\033[1m' + 'Fewest Days on Market' + '\\033[0m'"
   ]
  },
  {
   "cell_type": "code",
   "execution_count": 19,
   "metadata": {},
   "outputs": [
    {
     "name": "stdout",
     "output_type": "stream",
     "text": [
      "\u001b[1mMost Expensive\u001b[0m\n",
      "Muse, 17141 Collins Ave 4301 Sunny Isles | Price $12,400,000 | $2,283 psf | Listing agent: Sylvia Fragos with Great Estates Int'l Realty | Buyer's agent: Ivan Chorney with Compass Florida, LLC. | Days on market: 569\n",
      "\u001b[1mLeast Expensive\u001b[0m\n",
      "Carbonell Condo, 901 Brickell Key Blvd 2906 | Price $1,700,000 | $874 psf | Listing agent: Estela Serrano with Serrano & Associates | Buyer's agent: Lars Fitzgerald with BHHS EWM Realty | Days on market: 149\n",
      "\u001b[1mHighest Price Per Square Foot\u001b[0m\n",
      "Muse, 17141 Collins Ave 4301 Sunny Isles | Price $12,400,000 | $2,283 psf | Listing agent: Sylvia Fragos with Great Estates Int'l Realty | Buyer's agent: Ivan Chorney with Compass Florida, LLC. | Days on market: 569\n",
      "\u001b[1mLowest Price Per Square Foot\u001b[0m\n",
      "Echo Aventura, 3300 NE 188th St 517 | Price $2,500,000 | $800 psf | Listing agent: Ben Brissi with BHHS EWM Realty | Buyer's agent: Ben Brissi with BHHS EWM Realty | Days on market: 9\n",
      "\u001b[1mMost Days on Market\u001b[0m\n",
      "La Tour Condo, 4201 Collins Ave 903 Miami | Price $3,065,000 | $1,548 psf | Listing agent: Michele Redlich with Coldwell Banker Realty | Buyer's agent: Michael P. Schnabel with Compass Florida, LLC. | Days on market: 608\n",
      "\u001b[1mFewest Days on Market\u001b[0m\n",
      "The Belle Towers, 16 Island Ave 5A Miami | Price $3,000,000 | $1,701 psf | Listing agent: William Hahne with Coldwell Banker Realty | Buyer's agent: William Hahne with Coldwell Banker Realty | Days on market: 5\n"
     ]
    }
   ],
   "source": [
    "### Highest and lowest sale price ###\n",
    "print(f\"{ME}{BR}{df.loc[df['int_Sale_Price'].idxmax()]['building_name']}, {df.loc[df['int_Sale_Price'].idxmax()]['address']} | Price ${df.loc[df['int_Sale_Price'].idxmax()]['int_Sale_Price']:,.0f} | ${df.loc[df['int_Sale_Price'].idxmax()]['price_per_sqft']:,.0f} psf | Listing agent: {df.loc[df['int_Sale_Price'].idxmax()]['Agent']} with {df.loc[df['int_Sale_Price'].idxmax()]['Listing Broker']} | Buyer's agent: {df.loc[df['int_Sale_Price'].idxmax()]['Buyer Agent']} with {df.loc[df['int_Sale_Price'].idxmax()]['Buyer Broker']} | Days on market: {df.loc[df['int_Sale_Price'].idxmax()]['days_on_market']}\")\n",
    "print(f\"{LE}{BR}{df.loc[df['int_Sale_Price'].idxmin()]['building_name']}, {df.loc[df['int_Sale_Price'].idxmin()]['address']} | Price ${df.loc[df['int_Sale_Price'].idxmin()]['int_Sale_Price']:,.0f} | ${df.loc[df['int_Sale_Price'].idxmin()]['price_per_sqft']:,.0f} psf | Listing agent: {df.loc[df['int_Sale_Price'].idxmin()]['Agent']} with {df.loc[df['int_Sale_Price'].idxmin()]['Listing Broker']} | Buyer's agent: {df.loc[df['int_Sale_Price'].idxmin()]['Buyer Agent']} with {df.loc[df['int_Sale_Price'].idxmin()]['Buyer Broker']} | Days on market: {df.loc[df['int_Sale_Price'].idxmin()]['days_on_market']}\")\n",
    "### Highest and lowest psf ###\n",
    "print(f\"{MAX_PSF}{BR}{df.loc[df['price_per_sqft'].idxmax()]['building_name']}, {df.loc[df['price_per_sqft'].idxmax()]['address']} | Price ${df.loc[df['price_per_sqft'].idxmax()]['int_Sale_Price']:,.0f} | ${df.loc[df['price_per_sqft'].idxmax()]['price_per_sqft']:,.0f} psf | Listing agent: {df.loc[df['price_per_sqft'].idxmax()]['Agent']} with {df.loc[df['price_per_sqft'].idxmax()]['Listing Broker']} | Buyer's agent: {df.loc[df['price_per_sqft'].idxmax()]['Buyer Agent']} with {df.loc[df['price_per_sqft'].idxmax()]['Buyer Broker']} | Days on market: {df.loc[df['price_per_sqft'].idxmax()]['days_on_market']}\")\n",
    "print(f\"{MIN_PSF}{BR}{df.loc[df['price_per_sqft'].idxmin()]['building_name']}, {df.loc[df['price_per_sqft'].idxmin()]['address']} | Price ${df.loc[df['price_per_sqft'].idxmin()]['int_Sale_Price']:,.0f} | ${df.loc[df['price_per_sqft'].idxmin()]['price_per_sqft']:,.0f} psf | Listing agent: {df.loc[df['price_per_sqft'].idxmin()]['Agent']} with {df.loc[df['price_per_sqft'].idxmin()]['Listing Broker']} | Buyer's agent: {df.loc[df['price_per_sqft'].idxmin()]['Buyer Agent']} with {df.loc[df['price_per_sqft'].idxmin()]['Buyer Broker']} | Days on market: {df.loc[df['price_per_sqft'].idxmin()]['days_on_market']}\")\n",
    "### Highest and lowest days on market ###\n",
    "print(f\"{DAYS_MAX}{BR}{df.loc[df['days_on_market'].idxmax()]['building_name']}, {df.loc[df['days_on_market'].idxmax()]['address']} | Price ${df.loc[df['days_on_market'].idxmax()]['int_Sale_Price']:,.0f} | ${df.loc[df['days_on_market'].idxmax()]['price_per_sqft']:,.0f} psf | Listing agent: {df.loc[df['days_on_market'].idxmax()]['Agent']} with {df.loc[df['days_on_market'].idxmax()]['Listing Broker']} | Buyer's agent: {df.loc[df['days_on_market'].idxmax()]['Buyer Agent']} with {df.loc[df['days_on_market'].idxmax()]['Buyer Broker']} | Days on market: {df.loc[df['days_on_market'].idxmax()]['days_on_market']}\")\n",
    "print(f\"{DAYS_MIN}{BR}{df.loc[df['days_on_market'].idxmin()]['building_name']}, {df.loc[df['days_on_market'].idxmin()]['address']} | Price ${df.loc[df['days_on_market'].idxmin()]['int_Sale_Price']:,.0f} | ${df.loc[df['days_on_market'].idxmin()]['price_per_sqft']:,.0f} psf | Listing agent: {df.loc[df['days_on_market'].idxmin()]['Agent']} with {df.loc[df['days_on_market'].idxmin()]['Listing Broker']} | Buyer's agent: {df.loc[df['days_on_market'].idxmin()]['Buyer Agent']} with {df.loc[df['days_on_market'].idxmin()]['Buyer Broker']} | Days on market: {df.loc[df['days_on_market'].idxmin()]['days_on_market']}\")"
   ]
  },
  {
   "cell_type": "code",
   "execution_count": 20,
   "metadata": {},
   "outputs": [
    {
     "data": {
      "text/plain": [
       "179.3"
      ]
     },
     "execution_count": 20,
     "metadata": {},
     "output_type": "execute_result"
    }
   ],
   "source": [
    "df['days_on_market'].mean()"
   ]
  },
  {
   "cell_type": "markdown",
   "metadata": {},
   "source": [
    "## Map URL snagger"
   ]
  },
  {
   "cell_type": "markdown",
   "metadata": {},
   "source": [
    "Map template URL: `https://trd-digital.github.io/trd-news-interactive-maps/{map-folder-name}`"
   ]
  },
  {
   "cell_type": "code",
   "execution_count": 21,
   "metadata": {},
   "outputs": [],
   "source": [
    "base_name = 'https://trd-digital.github.io/trd-news-interactive-maps/'"
   ]
  },
  {
   "cell_type": "code",
   "execution_count": 22,
   "metadata": {},
   "outputs": [
    {
     "name": "stdout",
     "output_type": "stream",
     "text": [
      "https://trd-digital.github.io/trd-news-interactive-maps/condo_sales_week_ending_09112023\n"
     ]
    }
   ],
   "source": [
    "cwd = os.getcwd()\n",
    "\n",
    "cwd = cwd.split('/')\n",
    "\n",
    "final_name = base_name + cwd[-1]\n",
    "print(final_name)"
   ]
  }
 ],
 "metadata": {
  "kernelspec": {
   "display_name": "Python 3 (ipykernel)",
   "language": "python",
   "name": "python3"
  },
  "language_info": {
   "codemirror_mode": {
    "name": "ipython",
    "version": 3
   },
   "file_extension": ".py",
   "mimetype": "text/x-python",
   "name": "python",
   "nbconvert_exporter": "python",
   "pygments_lexer": "ipython3",
   "version": "3.9.12"
  },
  "toc": {
   "base_numbering": 1,
   "nav_menu": {},
   "number_sections": true,
   "sideBar": true,
   "skip_h1_title": false,
   "title_cell": "Table of Contents",
   "title_sidebar": "Contents",
   "toc_cell": false,
   "toc_position": {},
   "toc_section_display": true,
   "toc_window_display": false
  }
 },
 "nbformat": 4,
 "nbformat_minor": 4
}
