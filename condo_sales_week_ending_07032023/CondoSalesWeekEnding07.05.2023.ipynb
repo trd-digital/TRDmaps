{
 "cells": [
  {
   "cell_type": "markdown",
   "metadata": {},
   "source": [
    "## Imports"
   ]
  },
  {
   "cell_type": "code",
   "execution_count": 1,
   "metadata": {},
   "outputs": [],
   "source": [
    "import googlemaps\n",
    "import pandas as pd\n",
    "import numpy as np\n",
    "import re\n",
    "import os\n",
    "import geopandas as gpd\n",
    "import folium\n",
    "import tabula"
   ]
  },
  {
   "cell_type": "markdown",
   "metadata": {},
   "source": [
    "## Read-in"
   ]
  },
  {
   "cell_type": "code",
   "execution_count": 2,
   "metadata": {},
   "outputs": [],
   "source": [
    "# Gotta figure out how to get rid of the java error.\n",
    "# SO: https://stackoverflow.com/questions/54817211/java-command-is-not-found-from-this-python-process-please-ensure-java-is-inst\n",
    "\n",
    "dsf = tabula.read_pdf('condo.pdf', pages='all')"
   ]
  },
  {
   "cell_type": "markdown",
   "metadata": {},
   "source": [
    "## Clean Data"
   ]
  },
  {
   "cell_type": "code",
   "execution_count": 3,
   "metadata": {},
   "outputs": [],
   "source": [
    "df = dsf[0]\n",
    "df.columns = df.iloc[0]\n",
    "df = df[1:]\n",
    "df = df.drop(columns=df.columns[0])\n",
    "df = df.replace(np.nan, 'Not Available', regex=True)\n",
    "df = df.rename(columns={'Building / Address / City': 'building_address_city','Days on\\rMarket':'days_on_market',\\\n",
    "                        'Price /\\rSq. Ft.':'price_per_sqft'})\n",
    "df['building_address_city'] = df['building_address_city'].str.replace('^0', '', regex=True)\n",
    "df['geo_address'] = df['building_address_city']\n",
    "df['geo_address'] = df['geo_address'].map(lambda x: re.sub(r'\\r', ' ', x))\n",
    "df = df.replace('\\n',' ',regex=True)\n",
    "pattern = r'^(?P<building_name>[\\d\\s]*[A-Za-z\\s]+)\\s(?P<address>.+)\\s(?P<city>[A-Za-z\\s]+)$'\n",
    "df2 = df['geo_address']\n",
    "df2 = df2.to_frame()\n",
    "df2[['building_name', 'address', 'city']] = df2['geo_address'].str.extract(pattern, expand=True)"
   ]
  },
  {
   "cell_type": "markdown",
   "metadata": {},
   "source": [
    "Review this later (it's about how to properly merge DFs): https://pandas.pydata.org/pandas-docs/stable/user_guide/merging.html"
   ]
  },
  {
   "cell_type": "markdown",
   "metadata": {},
   "source": [
    "## Geocode"
   ]
  },
  {
   "cell_type": "code",
   "execution_count": 4,
   "metadata": {},
   "outputs": [],
   "source": [
    "result = pd.merge(df,df2,left_index=True, right_index=True)\n",
    "df = result\n",
    "df = df.drop(columns='city')"
   ]
  },
  {
   "cell_type": "code",
   "execution_count": 5,
   "metadata": {},
   "outputs": [],
   "source": [
    "%store -r google_maps_API_Key\n",
    "gmaps_key = googlemaps.Client(key=google_maps_API_Key)"
   ]
  },
  {
   "cell_type": "code",
   "execution_count": 6,
   "metadata": {},
   "outputs": [],
   "source": [
    "def geocode(add):\n",
    "    g = gmaps_key.geocode(add)\n",
    "    lat = g[0][\"geometry\"][\"location\"][\"lat\"]\n",
    "    lng = g[0][\"geometry\"][\"location\"][\"lng\"]\n",
    "    return (lat, lng)\n",
    "\n",
    "df['geocoded'] = df['geo_address_x'].apply(geocode)"
   ]
  },
  {
   "cell_type": "code",
   "execution_count": 7,
   "metadata": {},
   "outputs": [],
   "source": [
    "df['geocoded'] = df['geocoded'].astype(str)\n",
    "df[['lat', 'lon']] = df['geocoded'].str.strip('()').str.split(', ', expand=True)\n",
    "df['lat'] = df['lat'].astype(float)\n",
    "df['lon'] = df['lon'].astype(float)"
   ]
  },
  {
   "cell_type": "markdown",
   "metadata": {},
   "source": [
    "Folium documentation link: https://python-visualization.github.io/folium/index.html\n",
    "\n",
    "Folium is the library that lets us use leaflet with Python, since it's meant to be used with JavaScript.\n",
    "\n",
    "For adding titles: https://stackoverflow.com/questions/61928013/adding-a-title-or-text-to-a-folium-map"
   ]
  },
  {
   "cell_type": "markdown",
   "metadata": {},
   "source": [
    "## Correction section"
   ]
  },
  {
   "cell_type": "code",
   "execution_count": 34,
   "metadata": {},
   "outputs": [],
   "source": [
    "# df.at[index#,'col_name']"
   ]
  },
  {
   "cell_type": "markdown",
   "metadata": {},
   "source": [
    "## Format Data"
   ]
  },
  {
   "cell_type": "code",
   "execution_count": 9,
   "metadata": {},
   "outputs": [],
   "source": [
    "### Insert NaNs if needed ###\n",
    "df = df.replace('N/A', np.nan)"
   ]
  },
  {
   "cell_type": "code",
   "execution_count": 10,
   "metadata": {},
   "outputs": [],
   "source": [
    "df['int_Sale_Price'] = df['Sale Price'].str.replace('$','',regex=False)"
   ]
  },
  {
   "cell_type": "code",
   "execution_count": 11,
   "metadata": {},
   "outputs": [],
   "source": [
    "df['int_Sale_Price'] = df['int_Sale_Price'].str.replace(',','',regex=False)"
   ]
  },
  {
   "cell_type": "code",
   "execution_count": 12,
   "metadata": {},
   "outputs": [],
   "source": [
    "df['int_Sale_Price'] = pd.to_numeric(df['int_Sale_Price'])"
   ]
  },
  {
   "cell_type": "code",
   "execution_count": 13,
   "metadata": {},
   "outputs": [],
   "source": [
    "df['price_per_sqft'] = df['price_per_sqft'].str.replace('$','',regex=False)\n",
    "df['price_per_sqft'] = df['price_per_sqft'].str.replace(',','',regex=False)\n",
    "df['price_per_sqft'] = pd.to_numeric(df['price_per_sqft'])\n",
    "\n",
    "df['days_on_market'] = pd.to_numeric(df['days_on_market'])"
   ]
  },
  {
   "cell_type": "markdown",
   "metadata": {},
   "source": [
    "## Color-code top sale"
   ]
  },
  {
   "cell_type": "code",
   "execution_count": 14,
   "metadata": {},
   "outputs": [],
   "source": [
    "### Insert RANK values ###\n",
    "df['RANK'] = range(1, len(df) + 1)\n",
    "# use numpy to assign values to the 'COLOR' column\n",
    "df['COLOR'] = np.where(df['RANK'] <= 1, 'orange', 'blue')"
   ]
  },
  {
   "cell_type": "markdown",
   "metadata": {},
   "source": [
    "## HTML Popup Formatter"
   ]
  },
  {
   "cell_type": "code",
   "execution_count": 15,
   "metadata": {},
   "outputs": [
    {
     "data": {
      "text/plain": [
       "Index(['building_address_city', 'Close Date', 'days_on_market', 'Sale Price',\n",
       "       'Sq. Ft.', 'price_per_sqft', 'Agent', 'Listing Broker', 'Buyer Agent',\n",
       "       'Buyer Broker', 'geo_address_x', 'geo_address_y', 'building_name',\n",
       "       'address', 'geocoded', 'lat', 'lon', 'int_Sale_Price', 'RANK', 'COLOR'],\n",
       "      dtype='object')"
      ]
     },
     "execution_count": 15,
     "metadata": {},
     "output_type": "execute_result"
    }
   ],
   "source": [
    "df.columns"
   ]
  },
  {
   "cell_type": "code",
   "execution_count": 16,
   "metadata": {},
   "outputs": [],
   "source": [
    "def popup_html(row):\n",
    "    building_name = row['building_name']\n",
    "    price = row['Sale Price']\n",
    "    days_on_market = row['days_on_market']\n",
    "    listing_agent = row['Agent']\n",
    "    buyers_agent = row['Buyer Agent']\n",
    "    psf = row['price_per_sqft']\n",
    "    address = row['address']\n",
    "    \n",
    "    html = '''<!DOCTYPE html>\n",
    "    <html>\n",
    "    <strong>Building Name: </strong>{}'''.format(building_name) + '''<br>\n",
    "    <strong>Sale Price: </strong>{}'''.format(price) + '''<br>\n",
    "    <strong>Days on Market: </strong>{}'''.format(days_on_market) + '''<br>\n",
    "    <strong>Listing Agent: </strong>{}'''.format(listing_agent) + '''<br>\n",
    "    <strong>Buyer's Agent: </strong>{}'''.format(buyers_agent) + '''<br>\n",
    "    <strong>Price sq ft: </strong>${}'''.format(psf) + '''<br>\n",
    "    <strong>Address: </strong>{}'''.format(address) + '''<br>\n",
    "    </html>\n",
    "    '''\n",
    "    return html"
   ]
  },
  {
   "cell_type": "code",
   "execution_count": 18,
   "metadata": {},
   "outputs": [
    {
     "data": {
      "text/html": [
       "<div style=\"width:100%;\"><div style=\"position:relative;width:100%;height:0;padding-bottom:60%;\"><span style=\"color:#565656\">Make this Notebook Trusted to load map: File -> Trust Notebook</span><iframe srcdoc=\"&lt;!DOCTYPE html&gt;\n",
       "&lt;head&gt;    \n",
       "    &lt;meta http-equiv=&quot;content-type&quot; content=&quot;text/html; charset=UTF-8&quot; /&gt;\n",
       "    \n",
       "        &lt;script&gt;\n",
       "            L_NO_TOUCH = false;\n",
       "            L_DISABLE_3D = false;\n",
       "        &lt;/script&gt;\n",
       "    \n",
       "    &lt;style&gt;html, body {width: 100%;height: 100%;margin: 0;padding: 0;}&lt;/style&gt;\n",
       "    &lt;style&gt;#map {position:absolute;top:0;bottom:0;right:0;left:0;}&lt;/style&gt;\n",
       "    &lt;script src=&quot;https://cdn.jsdelivr.net/npm/leaflet@1.6.0/dist/leaflet.js&quot;&gt;&lt;/script&gt;\n",
       "    &lt;script src=&quot;https://code.jquery.com/jquery-1.12.4.min.js&quot;&gt;&lt;/script&gt;\n",
       "    &lt;script src=&quot;https://maxcdn.bootstrapcdn.com/bootstrap/3.2.0/js/bootstrap.min.js&quot;&gt;&lt;/script&gt;\n",
       "    &lt;script src=&quot;https://cdnjs.cloudflare.com/ajax/libs/Leaflet.awesome-markers/2.0.2/leaflet.awesome-markers.js&quot;&gt;&lt;/script&gt;\n",
       "    &lt;link rel=&quot;stylesheet&quot; href=&quot;https://cdn.jsdelivr.net/npm/leaflet@1.6.0/dist/leaflet.css&quot;/&gt;\n",
       "    &lt;link rel=&quot;stylesheet&quot; href=&quot;https://maxcdn.bootstrapcdn.com/bootstrap/3.2.0/css/bootstrap.min.css&quot;/&gt;\n",
       "    &lt;link rel=&quot;stylesheet&quot; href=&quot;https://maxcdn.bootstrapcdn.com/bootstrap/3.2.0/css/bootstrap-theme.min.css&quot;/&gt;\n",
       "    &lt;link rel=&quot;stylesheet&quot; href=&quot;https://maxcdn.bootstrapcdn.com/font-awesome/4.6.3/css/font-awesome.min.css&quot;/&gt;\n",
       "    &lt;link rel=&quot;stylesheet&quot; href=&quot;https://cdnjs.cloudflare.com/ajax/libs/Leaflet.awesome-markers/2.0.2/leaflet.awesome-markers.css&quot;/&gt;\n",
       "    &lt;link rel=&quot;stylesheet&quot; href=&quot;https://cdn.jsdelivr.net/gh/python-visualization/folium/folium/templates/leaflet.awesome.rotate.min.css&quot;/&gt;\n",
       "    \n",
       "            &lt;meta name=&quot;viewport&quot; content=&quot;width=device-width,\n",
       "                initial-scale=1.0, maximum-scale=1.0, user-scalable=no&quot; /&gt;\n",
       "            &lt;style&gt;\n",
       "                #map_ffdc6aff542374518dde64dd7c21166c {\n",
       "                    position: relative;\n",
       "                    width: 100.0%;\n",
       "                    height: 100.0%;\n",
       "                    left: 0.0%;\n",
       "                    top: 0.0%;\n",
       "                }\n",
       "            &lt;/style&gt;\n",
       "        \n",
       "&lt;/head&gt;\n",
       "&lt;body&gt;    \n",
       "    \n",
       "              &lt;h3 align=&quot;center&quot; style=&quot;font-size:16px&quot;&gt;&lt;b&gt;Recent Miami-Dade Condo Sales &lt;/b&gt;&lt;/h3&gt;\n",
       "             \n",
       "    \n",
       "                &lt;p align=&quot;center&quot; style=&quot;vertical-align: bottom; font-size:13px&quot;&gt;&lt;i&gt;June 25th - July 1st&lt;/i&gt;&lt;/p&gt;\n",
       "                \n",
       "    \n",
       "            &lt;div class=&quot;folium-map&quot; id=&quot;map_ffdc6aff542374518dde64dd7c21166c&quot; &gt;&lt;/div&gt;\n",
       "        \n",
       "&lt;/body&gt;\n",
       "&lt;script&gt;    \n",
       "    \n",
       "            var map_ffdc6aff542374518dde64dd7c21166c = L.map(\n",
       "                &quot;map_ffdc6aff542374518dde64dd7c21166c&quot;,\n",
       "                {\n",
       "                    center: [25.849190849999996, -80.15024912999999],\n",
       "                    crs: L.CRS.EPSG3857,\n",
       "                    zoom: 9.5,\n",
       "                    zoomControl: true,\n",
       "                    preferCanvas: false,\n",
       "                }\n",
       "            );\n",
       "\n",
       "            \n",
       "\n",
       "        \n",
       "    \n",
       "            var feature_group_8c7c840fe21f77bbfa785e98dca4ec12 = L.featureGroup(\n",
       "                {}\n",
       "            ).addTo(map_ffdc6aff542374518dde64dd7c21166c);\n",
       "        \n",
       "    \n",
       "            var marker_6e7f591daa08aacdc94eaa818a83145a = L.marker(\n",
       "                [25.8422691, -80.1203074],\n",
       "                {&quot;fill&quot;: true, &quot;radius&quot;: 5}\n",
       "            ).addTo(feature_group_8c7c840fe21f77bbfa785e98dca4ec12);\n",
       "        \n",
       "    \n",
       "            var icon_71019eade028d9be480782bea8be604e = L.AwesomeMarkers.icon(\n",
       "                {&quot;extraClasses&quot;: &quot;fa-rotate-0&quot;, &quot;icon&quot;: &quot;info-sign&quot;, &quot;iconColor&quot;: &quot;white&quot;, &quot;markerColor&quot;: &quot;orange&quot;, &quot;prefix&quot;: &quot;glyphicon&quot;}\n",
       "            );\n",
       "            marker_6e7f591daa08aacdc94eaa818a83145a.setIcon(icon_71019eade028d9be480782bea8be604e);\n",
       "        \n",
       "    \n",
       "        var popup_4b0e75cc741b871e96719774ffe1c8d4 = L.popup({&quot;maxWidth&quot;: 400});\n",
       "\n",
       "        \n",
       "            \n",
       "                var html_decca2a891b74852d3f9bd57b3694969 = $(`&lt;div id=&quot;html_decca2a891b74852d3f9bd57b3694969&quot; style=&quot;width: 100.0%; height: 100.0%;&quot;&gt;&lt;!DOCTYPE html&gt;     &lt;html&gt;     &lt;strong&gt;Building Name: &lt;/strong&gt;The Bath Club&lt;br&gt;     &lt;strong&gt;Sale Price: &lt;/strong&gt;$6,400,000.00&lt;br&gt;     &lt;strong&gt;Days on Market: &lt;/strong&gt;200&lt;br&gt;     &lt;strong&gt;Listing Agent: &lt;/strong&gt;Joanne Jones&lt;br&gt;     &lt;strong&gt;Buyer&#x27;s Agent: &lt;/strong&gt;Tara Elias Schuchts&lt;br&gt;     &lt;strong&gt;Price sq ft: &lt;/strong&gt;$1758.24&lt;br&gt;     &lt;strong&gt;Address: &lt;/strong&gt;5959 Collins Ave LPH 03 Miami&lt;br&gt;     &lt;/html&gt;     &lt;/div&gt;`)[0];\n",
       "                popup_4b0e75cc741b871e96719774ffe1c8d4.setContent(html_decca2a891b74852d3f9bd57b3694969);\n",
       "            \n",
       "        \n",
       "\n",
       "        marker_6e7f591daa08aacdc94eaa818a83145a.bindPopup(popup_4b0e75cc741b871e96719774ffe1c8d4)\n",
       "        ;\n",
       "\n",
       "        \n",
       "    \n",
       "    \n",
       "            var feature_group_b262a8b132d3865121f212a43b42f568 = L.featureGroup(\n",
       "                {}\n",
       "            ).addTo(map_ffdc6aff542374518dde64dd7c21166c);\n",
       "        \n",
       "    \n",
       "            var marker_add9c4d4c14e19ff3b2e3002aaccdee9 = L.marker(\n",
       "                [25.9349392, -80.12091819999999],\n",
       "                {&quot;fill&quot;: true, &quot;radius&quot;: 5}\n",
       "            ).addTo(feature_group_b262a8b132d3865121f212a43b42f568);\n",
       "        \n",
       "    \n",
       "            var icon_7fa8e4e935db8f4414ecf4d3b17636f4 = L.AwesomeMarkers.icon(\n",
       "                {&quot;extraClasses&quot;: &quot;fa-rotate-0&quot;, &quot;icon&quot;: &quot;info-sign&quot;, &quot;iconColor&quot;: &quot;white&quot;, &quot;markerColor&quot;: &quot;blue&quot;, &quot;prefix&quot;: &quot;glyphicon&quot;}\n",
       "            );\n",
       "            marker_add9c4d4c14e19ff3b2e3002aaccdee9.setIcon(icon_7fa8e4e935db8f4414ecf4d3b17636f4);\n",
       "        \n",
       "    \n",
       "        var popup_628b52522c78a119e1f2ad5ef48296b3 = L.popup({&quot;maxWidth&quot;: 400});\n",
       "\n",
       "        \n",
       "            \n",
       "                var html_53ab3b6ec561ee2f990fd17582f1531d = $(`&lt;div id=&quot;html_53ab3b6ec561ee2f990fd17582f1531d&quot; style=&quot;width: 100.0%; height: 100.0%;&quot;&gt;&lt;!DOCTYPE html&gt;     &lt;html&gt;     &lt;strong&gt;Building Name: &lt;/strong&gt;Muse Residences&lt;br&gt;     &lt;strong&gt;Sale Price: &lt;/strong&gt;$5,475,000.00&lt;br&gt;     &lt;strong&gt;Days on Market: &lt;/strong&gt;184&lt;br&gt;     &lt;strong&gt;Listing Agent: &lt;/strong&gt;Sheerel Toledano&lt;br&gt;     &lt;strong&gt;Buyer&#x27;s Agent: &lt;/strong&gt;NON-MLS MEMBER&lt;br&gt;     &lt;strong&gt;Price sq ft: &lt;/strong&gt;$1713.62&lt;br&gt;     &lt;strong&gt;Address: &lt;/strong&gt;17141 Collins Ave 3101 Sunny Isles&lt;br&gt;     &lt;/html&gt;     &lt;/div&gt;`)[0];\n",
       "                popup_628b52522c78a119e1f2ad5ef48296b3.setContent(html_53ab3b6ec561ee2f990fd17582f1531d);\n",
       "            \n",
       "        \n",
       "\n",
       "        marker_add9c4d4c14e19ff3b2e3002aaccdee9.bindPopup(popup_628b52522c78a119e1f2ad5ef48296b3)\n",
       "        ;\n",
       "\n",
       "        \n",
       "    \n",
       "    \n",
       "            var marker_6db45ff7650e0e68ea87a4bfa2864e22 = L.marker(\n",
       "                [25.8892229, -80.1228812],\n",
       "                {&quot;fill&quot;: true, &quot;radius&quot;: 5}\n",
       "            ).addTo(feature_group_b262a8b132d3865121f212a43b42f568);\n",
       "        \n",
       "    \n",
       "            var icon_bd1d3599f69bf71a8989e95d40a0f7d2 = L.AwesomeMarkers.icon(\n",
       "                {&quot;extraClasses&quot;: &quot;fa-rotate-0&quot;, &quot;icon&quot;: &quot;info-sign&quot;, &quot;iconColor&quot;: &quot;white&quot;, &quot;markerColor&quot;: &quot;blue&quot;, &quot;prefix&quot;: &quot;glyphicon&quot;}\n",
       "            );\n",
       "            marker_6db45ff7650e0e68ea87a4bfa2864e22.setIcon(icon_bd1d3599f69bf71a8989e95d40a0f7d2);\n",
       "        \n",
       "    \n",
       "        var popup_5be271212c5e394b7340d5696052a537 = L.popup({&quot;maxWidth&quot;: 400});\n",
       "\n",
       "        \n",
       "            \n",
       "                var html_d05c6805892adc5dc03b28aea49b0638 = $(`&lt;div id=&quot;html_d05c6805892adc5dc03b28aea49b0638&quot; style=&quot;width: 100.0%; height: 100.0%;&quot;&gt;&lt;!DOCTYPE html&gt;     &lt;html&gt;     &lt;strong&gt;Building Name: &lt;/strong&gt;St Regis&lt;br&gt;     &lt;strong&gt;Sale Price: &lt;/strong&gt;$3,800,000.00&lt;br&gt;     &lt;strong&gt;Days on Market: &lt;/strong&gt;1&lt;br&gt;     &lt;strong&gt;Listing Agent: &lt;/strong&gt;Comp Sale&lt;br&gt;     &lt;strong&gt;Buyer&#x27;s Agent: &lt;/strong&gt;Sergio Balinotti&lt;br&gt;     &lt;strong&gt;Price sq ft: &lt;/strong&gt;$2376.49&lt;br&gt;     &lt;strong&gt;Address: &lt;/strong&gt;9705 Collins Ave 2505N Bal&lt;br&gt;     &lt;/html&gt;     &lt;/div&gt;`)[0];\n",
       "                popup_5be271212c5e394b7340d5696052a537.setContent(html_d05c6805892adc5dc03b28aea49b0638);\n",
       "            \n",
       "        \n",
       "\n",
       "        marker_6db45ff7650e0e68ea87a4bfa2864e22.bindPopup(popup_5be271212c5e394b7340d5696052a537)\n",
       "        ;\n",
       "\n",
       "        \n",
       "    \n",
       "    \n",
       "            var marker_51299bacfa0f8e85cca633bdd7b3dc0a = L.marker(\n",
       "                [25.8071448, -80.1856208],\n",
       "                {&quot;fill&quot;: true, &quot;radius&quot;: 5}\n",
       "            ).addTo(feature_group_b262a8b132d3865121f212a43b42f568);\n",
       "        \n",
       "    \n",
       "            var icon_ef3d9cbed383718a64bcc7bfd8b0624b = L.AwesomeMarkers.icon(\n",
       "                {&quot;extraClasses&quot;: &quot;fa-rotate-0&quot;, &quot;icon&quot;: &quot;info-sign&quot;, &quot;iconColor&quot;: &quot;white&quot;, &quot;markerColor&quot;: &quot;blue&quot;, &quot;prefix&quot;: &quot;glyphicon&quot;}\n",
       "            );\n",
       "            marker_51299bacfa0f8e85cca633bdd7b3dc0a.setIcon(icon_ef3d9cbed383718a64bcc7bfd8b0624b);\n",
       "        \n",
       "    \n",
       "        var popup_b9afb511e60ba96fde6edec34612f141 = L.popup({&quot;maxWidth&quot;: 400});\n",
       "\n",
       "        \n",
       "            \n",
       "                var html_f91fb686e96bc00c4d1984bcb6bb3a69 = $(`&lt;div id=&quot;html_f91fb686e96bc00c4d1984bcb6bb3a69&quot; style=&quot;width: 100.0%; height: 100.0%;&quot;&gt;&lt;!DOCTYPE html&gt;     &lt;html&gt;     &lt;strong&gt;Building Name: &lt;/strong&gt;One Paraiso&lt;br&gt;     &lt;strong&gt;Sale Price: &lt;/strong&gt;$3,775,000.00&lt;br&gt;     &lt;strong&gt;Days on Market: &lt;/strong&gt;1013&lt;br&gt;     &lt;strong&gt;Listing Agent: &lt;/strong&gt;Sirlei Arnt&lt;br&gt;     &lt;strong&gt;Buyer&#x27;s Agent: &lt;/strong&gt;Keitiane Silva&lt;br&gt;     &lt;strong&gt;Price sq ft: &lt;/strong&gt;$1417.04&lt;br&gt;     &lt;strong&gt;Address: &lt;/strong&gt;3131 NE 7th Ave PH5201&lt;br&gt;     &lt;/html&gt;     &lt;/div&gt;`)[0];\n",
       "                popup_b9afb511e60ba96fde6edec34612f141.setContent(html_f91fb686e96bc00c4d1984bcb6bb3a69);\n",
       "            \n",
       "        \n",
       "\n",
       "        marker_51299bacfa0f8e85cca633bdd7b3dc0a.bindPopup(popup_b9afb511e60ba96fde6edec34612f141)\n",
       "        ;\n",
       "\n",
       "        \n",
       "    \n",
       "    \n",
       "            var marker_0f1e777e7f784ca79e933022f841fcf8 = L.marker(\n",
       "                [25.8071448, -80.1856208],\n",
       "                {&quot;fill&quot;: true, &quot;radius&quot;: 5}\n",
       "            ).addTo(feature_group_b262a8b132d3865121f212a43b42f568);\n",
       "        \n",
       "    \n",
       "            var icon_9d6c727021fd309afff7b9082ca63d89 = L.AwesomeMarkers.icon(\n",
       "                {&quot;extraClasses&quot;: &quot;fa-rotate-0&quot;, &quot;icon&quot;: &quot;info-sign&quot;, &quot;iconColor&quot;: &quot;white&quot;, &quot;markerColor&quot;: &quot;blue&quot;, &quot;prefix&quot;: &quot;glyphicon&quot;}\n",
       "            );\n",
       "            marker_0f1e777e7f784ca79e933022f841fcf8.setIcon(icon_9d6c727021fd309afff7b9082ca63d89);\n",
       "        \n",
       "    \n",
       "        var popup_0571e4e852c9f420e66f30142e67d28b = L.popup({&quot;maxWidth&quot;: 400});\n",
       "\n",
       "        \n",
       "            \n",
       "                var html_7d06736c5f5a2d493c5f8b725feb805b = $(`&lt;div id=&quot;html_7d06736c5f5a2d493c5f8b725feb805b&quot; style=&quot;width: 100.0%; height: 100.0%;&quot;&gt;&lt;!DOCTYPE html&gt;     &lt;html&gt;     &lt;strong&gt;Building Name: &lt;/strong&gt;One Paraiso&lt;br&gt;     &lt;strong&gt;Sale Price: &lt;/strong&gt;$3,775,000.00&lt;br&gt;     &lt;strong&gt;Days on Market: &lt;/strong&gt;78&lt;br&gt;     &lt;strong&gt;Listing Agent: &lt;/strong&gt;Peter Ancona&lt;br&gt;     &lt;strong&gt;Buyer&#x27;s Agent: &lt;/strong&gt;Keitiane Silva&lt;br&gt;     &lt;strong&gt;Price sq ft: &lt;/strong&gt;$1234.87&lt;br&gt;     &lt;strong&gt;Address: &lt;/strong&gt;3131 NE 7th Ave PH5202&lt;br&gt;     &lt;/html&gt;     &lt;/div&gt;`)[0];\n",
       "                popup_0571e4e852c9f420e66f30142e67d28b.setContent(html_7d06736c5f5a2d493c5f8b725feb805b);\n",
       "            \n",
       "        \n",
       "\n",
       "        marker_0f1e777e7f784ca79e933022f841fcf8.bindPopup(popup_0571e4e852c9f420e66f30142e67d28b)\n",
       "        ;\n",
       "\n",
       "        \n",
       "    \n",
       "    \n",
       "            var marker_e6da56f93f82ff4a42f53f35b1ef560a = L.marker(\n",
       "                [25.9327557, -80.1210054],\n",
       "                {&quot;fill&quot;: true, &quot;radius&quot;: 5}\n",
       "            ).addTo(feature_group_b262a8b132d3865121f212a43b42f568);\n",
       "        \n",
       "    \n",
       "            var icon_0b1723cf0bcf025eb2d950745bb39b5c = L.AwesomeMarkers.icon(\n",
       "                {&quot;extraClasses&quot;: &quot;fa-rotate-0&quot;, &quot;icon&quot;: &quot;info-sign&quot;, &quot;iconColor&quot;: &quot;white&quot;, &quot;markerColor&quot;: &quot;blue&quot;, &quot;prefix&quot;: &quot;glyphicon&quot;}\n",
       "            );\n",
       "            marker_e6da56f93f82ff4a42f53f35b1ef560a.setIcon(icon_0b1723cf0bcf025eb2d950745bb39b5c);\n",
       "        \n",
       "    \n",
       "        var popup_2fa34d5e96ed0ecf92ffc06b0c53ea64 = L.popup({&quot;maxWidth&quot;: 400});\n",
       "\n",
       "        \n",
       "            \n",
       "                var html_1a77cbc21b21534b1b189e6f984b974b = $(`&lt;div id=&quot;html_1a77cbc21b21534b1b189e6f984b974b&quot; style=&quot;width: 100.0%; height: 100.0%;&quot;&gt;&lt;!DOCTYPE html&gt;     &lt;html&gt;     &lt;strong&gt;Building Name: &lt;/strong&gt;Jade Signature&lt;br&gt;     &lt;strong&gt;Sale Price: &lt;/strong&gt;$3,668,000.00&lt;br&gt;     &lt;strong&gt;Days on Market: &lt;/strong&gt;70&lt;br&gt;     &lt;strong&gt;Listing Agent: &lt;/strong&gt;Daniela Levtov&lt;br&gt;     &lt;strong&gt;Buyer&#x27;s Agent: &lt;/strong&gt;Daniela Levtov&lt;br&gt;     &lt;strong&gt;Price sq ft: &lt;/strong&gt;$1465.44&lt;br&gt;     &lt;strong&gt;Address: &lt;/strong&gt;16901 Collins Ave 803 Sunny Isles&lt;br&gt;     &lt;/html&gt;     &lt;/div&gt;`)[0];\n",
       "                popup_2fa34d5e96ed0ecf92ffc06b0c53ea64.setContent(html_1a77cbc21b21534b1b189e6f984b974b);\n",
       "            \n",
       "        \n",
       "\n",
       "        marker_e6da56f93f82ff4a42f53f35b1ef560a.bindPopup(popup_2fa34d5e96ed0ecf92ffc06b0c53ea64)\n",
       "        ;\n",
       "\n",
       "        \n",
       "    \n",
       "    \n",
       "            var marker_93c765cd96861b2c929518d37b6fb3b1 = L.marker(\n",
       "                [25.8926793, -80.122902],\n",
       "                {&quot;fill&quot;: true, &quot;radius&quot;: 5}\n",
       "            ).addTo(feature_group_b262a8b132d3865121f212a43b42f568);\n",
       "        \n",
       "    \n",
       "            var icon_522004a73b8220ccf82419bbe90154a2 = L.AwesomeMarkers.icon(\n",
       "                {&quot;extraClasses&quot;: &quot;fa-rotate-0&quot;, &quot;icon&quot;: &quot;info-sign&quot;, &quot;iconColor&quot;: &quot;white&quot;, &quot;markerColor&quot;: &quot;blue&quot;, &quot;prefix&quot;: &quot;glyphicon&quot;}\n",
       "            );\n",
       "            marker_93c765cd96861b2c929518d37b6fb3b1.setIcon(icon_522004a73b8220ccf82419bbe90154a2);\n",
       "        \n",
       "    \n",
       "        var popup_efc6621ceec4373ff4d1d814308c2b93 = L.popup({&quot;maxWidth&quot;: 400});\n",
       "\n",
       "        \n",
       "            \n",
       "                var html_48f8e166017ed5fbab635b61bf612a44 = $(`&lt;div id=&quot;html_48f8e166017ed5fbab635b61bf612a44&quot; style=&quot;width: 100.0%; height: 100.0%;&quot;&gt;&lt;!DOCTYPE html&gt;     &lt;html&gt;     &lt;strong&gt;Building Name: &lt;/strong&gt;The Palace at Bal Harbour&lt;br&gt;     &lt;strong&gt;Sale Price: &lt;/strong&gt;$3,050,000.00&lt;br&gt;     &lt;strong&gt;Days on Market: &lt;/strong&gt;29&lt;br&gt;     &lt;strong&gt;Listing Agent: &lt;/strong&gt;Jennifer Brilliant&lt;br&gt;     &lt;strong&gt;Buyer&#x27;s Agent: &lt;/strong&gt;Helen Finvarb&lt;br&gt;     &lt;strong&gt;Price sq ft: &lt;/strong&gt;$980.71&lt;br&gt;     &lt;strong&gt;Address: &lt;/strong&gt;10101 Collins Ave 6B Bal&lt;br&gt;     &lt;/html&gt;     &lt;/div&gt;`)[0];\n",
       "                popup_efc6621ceec4373ff4d1d814308c2b93.setContent(html_48f8e166017ed5fbab635b61bf612a44);\n",
       "            \n",
       "        \n",
       "\n",
       "        marker_93c765cd96861b2c929518d37b6fb3b1.bindPopup(popup_efc6621ceec4373ff4d1d814308c2b93)\n",
       "        ;\n",
       "\n",
       "        \n",
       "    \n",
       "    \n",
       "            var marker_4f2b03d83bdfceb1ee5132798457114b = L.marker(\n",
       "                [25.7397222, -80.2188889],\n",
       "                {&quot;fill&quot;: true, &quot;radius&quot;: 5}\n",
       "            ).addTo(feature_group_b262a8b132d3865121f212a43b42f568);\n",
       "        \n",
       "    \n",
       "            var icon_95c5a9769f8d4b2b8a6e3d7446b7648f = L.AwesomeMarkers.icon(\n",
       "                {&quot;extraClasses&quot;: &quot;fa-rotate-0&quot;, &quot;icon&quot;: &quot;info-sign&quot;, &quot;iconColor&quot;: &quot;white&quot;, &quot;markerColor&quot;: &quot;blue&quot;, &quot;prefix&quot;: &quot;glyphicon&quot;}\n",
       "            );\n",
       "            marker_4f2b03d83bdfceb1ee5132798457114b.setIcon(icon_95c5a9769f8d4b2b8a6e3d7446b7648f);\n",
       "        \n",
       "    \n",
       "        var popup_a9c2c0848dda57d45c9cb3bfa15f5b33 = L.popup({&quot;maxWidth&quot;: 400});\n",
       "\n",
       "        \n",
       "            \n",
       "                var html_148d78647e263278f987b7f604ae5257 = $(`&lt;div id=&quot;html_148d78647e263278f987b7f604ae5257&quot; style=&quot;width: 100.0%; height: 100.0%;&quot;&gt;&lt;!DOCTYPE html&gt;     &lt;html&gt;     &lt;strong&gt;Building Name: &lt;/strong&gt;Residences at Vizcaya&lt;br&gt;     &lt;strong&gt;Sale Price: &lt;/strong&gt;$2,650,000.00&lt;br&gt;     &lt;strong&gt;Days on Market: &lt;/strong&gt;280&lt;br&gt;     &lt;strong&gt;Listing Agent: &lt;/strong&gt;Adelaida Laitano&lt;br&gt;     &lt;strong&gt;Buyer&#x27;s Agent: &lt;/strong&gt;Nancy Batchelor PA&lt;br&gt;     &lt;strong&gt;Price sq ft: &lt;/strong&gt;$977.86&lt;br&gt;     &lt;strong&gt;Address: &lt;/strong&gt;3535 Hiawatha Ave 605&lt;br&gt;     &lt;/html&gt;     &lt;/div&gt;`)[0];\n",
       "                popup_a9c2c0848dda57d45c9cb3bfa15f5b33.setContent(html_148d78647e263278f987b7f604ae5257);\n",
       "            \n",
       "        \n",
       "\n",
       "        marker_4f2b03d83bdfceb1ee5132798457114b.bindPopup(popup_a9c2c0848dda57d45c9cb3bfa15f5b33)\n",
       "        ;\n",
       "\n",
       "        \n",
       "    \n",
       "    \n",
       "            var marker_dc29e438084cf910d70a798e3f198d87 = L.marker(\n",
       "                [25.6997468, -80.1680305],\n",
       "                {&quot;fill&quot;: true, &quot;radius&quot;: 5}\n",
       "            ).addTo(feature_group_b262a8b132d3865121f212a43b42f568);\n",
       "        \n",
       "    \n",
       "            var icon_6a195014cc3be5a6dfcc494bbfada453 = L.AwesomeMarkers.icon(\n",
       "                {&quot;extraClasses&quot;: &quot;fa-rotate-0&quot;, &quot;icon&quot;: &quot;info-sign&quot;, &quot;iconColor&quot;: &quot;white&quot;, &quot;markerColor&quot;: &quot;blue&quot;, &quot;prefix&quot;: &quot;glyphicon&quot;}\n",
       "            );\n",
       "            marker_dc29e438084cf910d70a798e3f198d87.setIcon(icon_6a195014cc3be5a6dfcc494bbfada453);\n",
       "        \n",
       "    \n",
       "        var popup_28d971c45be0e35384cbcdcf230a1dc2 = L.popup({&quot;maxWidth&quot;: 400});\n",
       "\n",
       "        \n",
       "            \n",
       "                var html_7929770d46f9ca44284083052c1fefbd = $(`&lt;div id=&quot;html_7929770d46f9ca44284083052c1fefbd&quot; style=&quot;width: 100.0%; height: 100.0%;&quot;&gt;&lt;!DOCTYPE html&gt;     &lt;html&gt;     &lt;strong&gt;Building Name: &lt;/strong&gt;Villa Harbour&lt;br&gt;     &lt;strong&gt;Sale Price: &lt;/strong&gt;$2,475,000.00&lt;br&gt;     &lt;strong&gt;Days on Market: &lt;/strong&gt;36&lt;br&gt;     &lt;strong&gt;Listing Agent: &lt;/strong&gt;Maureen Jauregui&lt;br&gt;     &lt;strong&gt;Buyer&#x27;s Agent: &lt;/strong&gt;Alex Lipzer&lt;br&gt;     &lt;strong&gt;Price sq ft: &lt;/strong&gt;$1757.81&lt;br&gt;     &lt;strong&gt;Address: &lt;/strong&gt;166 Harbor Dr 3C Key&lt;br&gt;     &lt;/html&gt;     &lt;/div&gt;`)[0];\n",
       "                popup_28d971c45be0e35384cbcdcf230a1dc2.setContent(html_7929770d46f9ca44284083052c1fefbd);\n",
       "            \n",
       "        \n",
       "\n",
       "        marker_dc29e438084cf910d70a798e3f198d87.bindPopup(popup_28d971c45be0e35384cbcdcf230a1dc2)\n",
       "        ;\n",
       "\n",
       "        \n",
       "    \n",
       "    \n",
       "            var marker_34bd8048492ef0ed0e42a3cd58514ba4 = L.marker(\n",
       "                [25.9462837, -80.1363161],\n",
       "                {&quot;fill&quot;: true, &quot;radius&quot;: 5}\n",
       "            ).addTo(feature_group_b262a8b132d3865121f212a43b42f568);\n",
       "        \n",
       "    \n",
       "            var icon_6dddc4ed3c8bfb82458cba538d7b0536 = L.AwesomeMarkers.icon(\n",
       "                {&quot;extraClasses&quot;: &quot;fa-rotate-0&quot;, &quot;icon&quot;: &quot;info-sign&quot;, &quot;iconColor&quot;: &quot;white&quot;, &quot;markerColor&quot;: &quot;blue&quot;, &quot;prefix&quot;: &quot;glyphicon&quot;}\n",
       "            );\n",
       "            marker_34bd8048492ef0ed0e42a3cd58514ba4.setIcon(icon_6dddc4ed3c8bfb82458cba538d7b0536);\n",
       "        \n",
       "    \n",
       "        var popup_cc84a01cf7283b2276520e0c492981ef = L.popup({&quot;maxWidth&quot;: 400});\n",
       "\n",
       "        \n",
       "            \n",
       "                var html_4b21e5ff8c55d78841a4381c48a5347b = $(`&lt;div id=&quot;html_4b21e5ff8c55d78841a4381c48a5347b&quot; style=&quot;width: 100.0%; height: 100.0%;&quot;&gt;&lt;!DOCTYPE html&gt;     &lt;html&gt;     &lt;strong&gt;Building Name: &lt;/strong&gt;The Peninsula II Condo&lt;br&gt;     &lt;strong&gt;Sale Price: &lt;/strong&gt;$2,245,000.00&lt;br&gt;     &lt;strong&gt;Days on Market: &lt;/strong&gt;66&lt;br&gt;     &lt;strong&gt;Listing Agent: &lt;/strong&gt;Patricia Musa Morais&lt;br&gt;     &lt;strong&gt;Buyer&#x27;s Agent: &lt;/strong&gt;Yael Sultan&lt;br&gt;     &lt;strong&gt;Price sq ft: &lt;/strong&gt;$635.44&lt;br&gt;     &lt;strong&gt;Address: &lt;/strong&gt;3301 NE 183 St 1501&lt;br&gt;     &lt;/html&gt;     &lt;/div&gt;`)[0];\n",
       "                popup_cc84a01cf7283b2276520e0c492981ef.setContent(html_4b21e5ff8c55d78841a4381c48a5347b);\n",
       "            \n",
       "        \n",
       "\n",
       "        marker_34bd8048492ef0ed0e42a3cd58514ba4.bindPopup(popup_cc84a01cf7283b2276520e0c492981ef)\n",
       "        ;\n",
       "\n",
       "        \n",
       "    \n",
       "    \n",
       "            var tile_layer_19cd8b6788a9493ee51dc67dbb53d6c9 = L.tileLayer(\n",
       "                &quot;https://{s}.tile.openstreetmap.org/{z}/{x}/{y}.png&quot;,\n",
       "                {&quot;attribution&quot;: &quot;Data by \\u0026copy; \\u003ca href=\\&quot;http://openstreetmap.org\\&quot;\\u003eOpenStreetMap\\u003c/a\\u003e, under \\u003ca href=\\&quot;http://www.openstreetmap.org/copyright\\&quot;\\u003eODbL\\u003c/a\\u003e.&quot;, &quot;detectRetina&quot;: false, &quot;maxNativeZoom&quot;: 18, &quot;maxZoom&quot;: 18, &quot;minZoom&quot;: 0, &quot;noWrap&quot;: false, &quot;opacity&quot;: 1, &quot;subdomains&quot;: &quot;abc&quot;, &quot;tms&quot;: false}\n",
       "            ).addTo(map_ffdc6aff542374518dde64dd7c21166c);\n",
       "        \n",
       "    \n",
       "            var layer_control_3c6f47b385523d2ff8feb4c0bc325268 = {\n",
       "                base_layers : {\n",
       "                },\n",
       "                overlays :  {\n",
       "                    &quot;Top Sale&quot; : feature_group_8c7c840fe21f77bbfa785e98dca4ec12,\n",
       "                    &quot;All other sales&quot; : feature_group_b262a8b132d3865121f212a43b42f568,\n",
       "                },\n",
       "            };\n",
       "            L.control.layers(\n",
       "                layer_control_3c6f47b385523d2ff8feb4c0bc325268.base_layers,\n",
       "                layer_control_3c6f47b385523d2ff8feb4c0bc325268.overlays,\n",
       "                {&quot;autoZIndex&quot;: true, &quot;collapsed&quot;: false, &quot;position&quot;: &quot;topright&quot;}\n",
       "            ).addTo(map_ffdc6aff542374518dde64dd7c21166c);\n",
       "        \n",
       "&lt;/script&gt;\" style=\"position:absolute;width:100%;height:100%;left:0;top:0;border:none !important;\" allowfullscreen webkitallowfullscreen mozallowfullscreen></iframe></div></div>"
      ],
      "text/plain": [
       "<folium.folium.Map at 0x7fec59b304f0>"
      ]
     },
     "execution_count": 18,
     "metadata": {},
     "output_type": "execute_result"
    }
   ],
   "source": [
    "import folium\n",
    "from folium.plugins import MarkerCluster\n",
    "\n",
    "m = folium.Map(location=df[[\"lat\", \"lon\"]].mean().to_list(), zoom_start=10)\n",
    "\n",
    "title_html = '''\n",
    "              <h3 align=\"center\" style=\"font-size:16px\"><b>{}</b></h3>\n",
    "             '''.format(f'Recent Miami-Dade Condo Sales ')\n",
    "\n",
    "caption_html = '''\n",
    "                <p align=\"center\" style=\"vertical-align: bottom; font-size:13px\"><i>{}</i></p>\n",
    "                '''.format('June 25th - July 1st')\n",
    "\n",
    "\n",
    "### Create map container ###\n",
    "m = folium.Map(location=df[[\"lat\", \"lon\"]].mean().to_list(),zoom_start=9.5,tiles=None)\n",
    "\n",
    "# Create two FeatureGroups for different color pins\n",
    "fg_blue = folium.FeatureGroup(name='All other sales')\n",
    "fg_orange = folium.FeatureGroup(name='Top Sale')\n",
    "\n",
    "for index, row in df.iterrows():\n",
    "    # Add the markers to the appropriate FeatureGroup based on the color\n",
    "    if row['COLOR'] == 'blue':\n",
    "        marker = folium.Marker(\n",
    "            location=[row['lat'], row['lon']],\n",
    "            radius=5,\n",
    "            fill=True,\n",
    "            icon=folium.Icon(color=row['COLOR']),\n",
    "            popup=folium.Popup(popup_html(row), max_width=400))\n",
    "        marker.add_to(fg_blue)\n",
    "    else:\n",
    "        marker = folium.Marker(\n",
    "            location=[row['lat'], row['lon']],\n",
    "            radius=5,\n",
    "            fill=True,\n",
    "            icon=folium.Icon(color=row['COLOR']),\n",
    "            popup=folium.Popup(popup_html(row), max_width=400))\n",
    "        marker.add_to(fg_orange)\n",
    "\n",
    "# Add the FeatureGroups to the map\n",
    "fg_orange.add_to(m)\n",
    "fg_blue.add_to(m)\n",
    "\n",
    "folium.TileLayer('OpenStreetMap',control=False).add_to(m)\n",
    "\n",
    "# Add LayerControl to the map\n",
    "folium.map.LayerControl(collapsed=False).add_to(m)\n",
    "m.get_root().html.add_child(folium.Element(title_html))\n",
    "m.get_root().html.add_child(folium.Element(caption_html))\n",
    "            \n",
    "# Display map\n",
    "m"
   ]
  },
  {
   "cell_type": "code",
   "execution_count": 19,
   "metadata": {},
   "outputs": [],
   "source": [
    "m.save('index.html')"
   ]
  },
  {
   "cell_type": "markdown",
   "metadata": {},
   "source": [
    "## Data snagger"
   ]
  },
  {
   "cell_type": "code",
   "execution_count": 20,
   "metadata": {},
   "outputs": [],
   "source": [
    "### Set up formatting ###\n",
    "BR = '\\n'\n",
    "\n",
    "ME = '\\033[1m' + 'Most Expensive' + '\\033[0m'\n",
    "LE = '\\033[1m' + 'Least Expensive' + '\\033[0m'\n",
    "\n",
    "MAX_PSF = '\\033[1m' + 'Highest Price Per Square Foot' + '\\033[0m'\n",
    "MIN_PSF = '\\033[1m' + 'Lowest Price Per Square Foot' + '\\033[0m'\n",
    "\n",
    "DAYS_MAX = '\\033[1m' + 'Most Days on Market' + '\\033[0m'\n",
    "DAYS_MIN = '\\033[1m' + 'Fewest Days on Market' + '\\033[0m'"
   ]
  },
  {
   "cell_type": "code",
   "execution_count": 21,
   "metadata": {},
   "outputs": [
    {
     "name": "stdout",
     "output_type": "stream",
     "text": [
      "\u001b[1mMost Expensive\u001b[0m\n",
      "The Bath Club, 5959 Collins Ave LPH 03 Miami | Price $6,400,000 | $1,758 psf | Listing agent: Joanne Jones with Compass Florida, LLC. | Buyer's agent: Tara Elias Schuchts with Douglas Elliman | Days on market: 200\n",
      "\u001b[1mLeast Expensive\u001b[0m\n",
      "The Peninsula II Condo, 3301 NE 183 St 1501 | Price $2,245,000 | $635 psf | Listing agent: Patricia Musa Morais with Musa Realty Company | Buyer's agent: Yael Sultan with Avanti Way Realty | Days on market: 66\n",
      "\u001b[1mHighest Price Per Square Foot\u001b[0m\n",
      "St Regis, 9705 Collins Ave 2505N Bal | Price $3,800,000 | $2,376 psf | Listing agent: Comp Sale with Comp Only Sales | Buyer's agent: Sergio Balinotti with BRG International , LLC | Days on market: 1\n",
      "\u001b[1mLowest Price Per Square Foot\u001b[0m\n",
      "The Peninsula II Condo, 3301 NE 183 St 1501 | Price $2,245,000 | $635 psf | Listing agent: Patricia Musa Morais with Musa Realty Company | Buyer's agent: Yael Sultan with Avanti Way Realty | Days on market: 66\n",
      "\u001b[1mMost Days on Market\u001b[0m\n",
      "One Paraiso, 3131 NE 7th Ave PH5201 | Price $3,775,000 | $1,417 psf | Listing agent: Sirlei Arnt with London Foster Realty | Buyer's agent: Keitiane Silva with London Foster Realty | Days on market: 1013\n",
      "\u001b[1mFewest Days on Market\u001b[0m\n",
      "St Regis, 9705 Collins Ave 2505N Bal | Price $3,800,000 | $2,376 psf | Listing agent: Comp Sale with Comp Only Sales | Buyer's agent: Sergio Balinotti with BRG International , LLC | Days on market: 1\n"
     ]
    }
   ],
   "source": [
    "### Highest and lowest sale price ###\n",
    "print(f\"{ME}{BR}{df.loc[df['int_Sale_Price'].idxmax()]['building_name']}, {df.loc[df['int_Sale_Price'].idxmax()]['address']} | Price ${df.loc[df['int_Sale_Price'].idxmax()]['int_Sale_Price']:,.0f} | ${df.loc[df['int_Sale_Price'].idxmax()]['price_per_sqft']:,.0f} psf | Listing agent: {df.loc[df['int_Sale_Price'].idxmax()]['Agent']} with {df.loc[df['int_Sale_Price'].idxmax()]['Listing Broker']} | Buyer's agent: {df.loc[df['int_Sale_Price'].idxmax()]['Buyer Agent']} with {df.loc[df['int_Sale_Price'].idxmax()]['Buyer Broker']} | Days on market: {df.loc[df['int_Sale_Price'].idxmax()]['days_on_market']}\")\n",
    "print(f\"{LE}{BR}{df.loc[df['int_Sale_Price'].idxmin()]['building_name']}, {df.loc[df['int_Sale_Price'].idxmin()]['address']} | Price ${df.loc[df['int_Sale_Price'].idxmin()]['int_Sale_Price']:,.0f} | ${df.loc[df['int_Sale_Price'].idxmin()]['price_per_sqft']:,.0f} psf | Listing agent: {df.loc[df['int_Sale_Price'].idxmin()]['Agent']} with {df.loc[df['int_Sale_Price'].idxmin()]['Listing Broker']} | Buyer's agent: {df.loc[df['int_Sale_Price'].idxmin()]['Buyer Agent']} with {df.loc[df['int_Sale_Price'].idxmin()]['Buyer Broker']} | Days on market: {df.loc[df['int_Sale_Price'].idxmin()]['days_on_market']}\")\n",
    "### Highest and lowest psf ###\n",
    "print(f\"{MAX_PSF}{BR}{df.loc[df['price_per_sqft'].idxmax()]['building_name']}, {df.loc[df['price_per_sqft'].idxmax()]['address']} | Price ${df.loc[df['price_per_sqft'].idxmax()]['int_Sale_Price']:,.0f} | ${df.loc[df['price_per_sqft'].idxmax()]['price_per_sqft']:,.0f} psf | Listing agent: {df.loc[df['price_per_sqft'].idxmax()]['Agent']} with {df.loc[df['price_per_sqft'].idxmax()]['Listing Broker']} | Buyer's agent: {df.loc[df['price_per_sqft'].idxmax()]['Buyer Agent']} with {df.loc[df['price_per_sqft'].idxmax()]['Buyer Broker']} | Days on market: {df.loc[df['price_per_sqft'].idxmax()]['days_on_market']}\")\n",
    "print(f\"{MIN_PSF}{BR}{df.loc[df['price_per_sqft'].idxmin()]['building_name']}, {df.loc[df['price_per_sqft'].idxmin()]['address']} | Price ${df.loc[df['price_per_sqft'].idxmin()]['int_Sale_Price']:,.0f} | ${df.loc[df['price_per_sqft'].idxmin()]['price_per_sqft']:,.0f} psf | Listing agent: {df.loc[df['price_per_sqft'].idxmin()]['Agent']} with {df.loc[df['price_per_sqft'].idxmin()]['Listing Broker']} | Buyer's agent: {df.loc[df['price_per_sqft'].idxmin()]['Buyer Agent']} with {df.loc[df['price_per_sqft'].idxmin()]['Buyer Broker']} | Days on market: {df.loc[df['price_per_sqft'].idxmin()]['days_on_market']}\")\n",
    "### Highest and lowest days on market ###\n",
    "print(f\"{DAYS_MAX}{BR}{df.loc[df['days_on_market'].idxmax()]['building_name']}, {df.loc[df['days_on_market'].idxmax()]['address']} | Price ${df.loc[df['days_on_market'].idxmax()]['int_Sale_Price']:,.0f} | ${df.loc[df['days_on_market'].idxmax()]['price_per_sqft']:,.0f} psf | Listing agent: {df.loc[df['days_on_market'].idxmax()]['Agent']} with {df.loc[df['days_on_market'].idxmax()]['Listing Broker']} | Buyer's agent: {df.loc[df['days_on_market'].idxmax()]['Buyer Agent']} with {df.loc[df['days_on_market'].idxmax()]['Buyer Broker']} | Days on market: {df.loc[df['days_on_market'].idxmax()]['days_on_market']}\")\n",
    "print(f\"{DAYS_MIN}{BR}{df.loc[df['days_on_market'].idxmin()]['building_name']}, {df.loc[df['days_on_market'].idxmin()]['address']} | Price ${df.loc[df['days_on_market'].idxmin()]['int_Sale_Price']:,.0f} | ${df.loc[df['days_on_market'].idxmin()]['price_per_sqft']:,.0f} psf | Listing agent: {df.loc[df['days_on_market'].idxmin()]['Agent']} with {df.loc[df['days_on_market'].idxmin()]['Listing Broker']} | Buyer's agent: {df.loc[df['days_on_market'].idxmin()]['Buyer Agent']} with {df.loc[df['days_on_market'].idxmin()]['Buyer Broker']} | Days on market: {df.loc[df['days_on_market'].idxmin()]['days_on_market']}\")"
   ]
  },
  {
   "cell_type": "markdown",
   "metadata": {},
   "source": [
    "## Map URL snagger"
   ]
  },
  {
   "cell_type": "markdown",
   "metadata": {},
   "source": [
    "Map template URL: `https://trd-digital.github.io/trd-news-interactive-maps/{map-folder-name}`"
   ]
  },
  {
   "cell_type": "code",
   "execution_count": 22,
   "metadata": {},
   "outputs": [],
   "source": [
    "base_name = 'https://trd-digital.github.io/trd-news-interactive-maps/'"
   ]
  },
  {
   "cell_type": "code",
   "execution_count": 23,
   "metadata": {},
   "outputs": [
    {
     "name": "stdout",
     "output_type": "stream",
     "text": [
      "https://trd-digital.github.io/trd-news-interactive-maps/condo_sales_week_ending_07032023\n"
     ]
    }
   ],
   "source": [
    "cwd = os.getcwd()\n",
    "\n",
    "cwd = cwd.split('/')\n",
    "\n",
    "final_name = base_name + cwd[-1]\n",
    "print(final_name)"
   ]
  }
 ],
 "metadata": {
  "kernelspec": {
   "display_name": "Python 3 (ipykernel)",
   "language": "python",
   "name": "python3"
  },
  "language_info": {
   "codemirror_mode": {
    "name": "ipython",
    "version": 3
   },
   "file_extension": ".py",
   "mimetype": "text/x-python",
   "name": "python",
   "nbconvert_exporter": "python",
   "pygments_lexer": "ipython3",
   "version": "3.9.12"
  },
  "toc": {
   "base_numbering": 1,
   "nav_menu": {},
   "number_sections": true,
   "sideBar": true,
   "skip_h1_title": false,
   "title_cell": "Table of Contents",
   "title_sidebar": "Contents",
   "toc_cell": false,
   "toc_position": {},
   "toc_section_display": true,
   "toc_window_display": false
  }
 },
 "nbformat": 4,
 "nbformat_minor": 4
}
