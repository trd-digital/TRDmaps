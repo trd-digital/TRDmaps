{
 "cells": [
  {
   "cell_type": "code",
   "execution_count": 1,
   "metadata": {},
   "outputs": [],
   "source": [
    "import googlemaps\n",
    "import pandas as pd\n",
    "import numpy as np\n",
    "import re\n",
    "import os\n",
    "import geopandas as gpd\n",
    "import folium\n",
    "from textwrap import shorten\n",
    "import requests\n",
    "\n",
    "from bs4 import BeautifulSoup"
   ]
  },
  {
   "cell_type": "code",
   "execution_count": 2,
   "metadata": {},
   "outputs": [],
   "source": [
    "%store -r google_maps_API_Key\n",
    "gmaps_key = googlemaps.Client(key=google_maps_API_Key)"
   ]
  },
  {
   "cell_type": "code",
   "execution_count": 3,
   "metadata": {},
   "outputs": [],
   "source": [
    "df = pd.read_csv('Miami_River_Map - Stories_after_and_during_Nov2022.csv')"
   ]
  },
  {
   "cell_type": "code",
   "execution_count": 4,
   "metadata": {},
   "outputs": [],
   "source": [
    "df['geo_address'] = df['full_address'] + ' Miami, Florida'"
   ]
  },
  {
   "cell_type": "code",
   "execution_count": 5,
   "metadata": {},
   "outputs": [],
   "source": [
    "def geocode(add):\n",
    "    g = gmaps_key.geocode(add)\n",
    "    lat = g[0][\"geometry\"][\"location\"][\"lat\"]\n",
    "    lng = g[0][\"geometry\"][\"location\"][\"lng\"]\n",
    "    return (lat, lng)\n",
    "\n",
    "df['geocoded'] = df['geo_address'].apply(geocode)"
   ]
  },
  {
   "cell_type": "code",
   "execution_count": 6,
   "metadata": {},
   "outputs": [],
   "source": [
    "df['geocoded'] = df['geocoded'].astype(str)\n",
    "df[['lat', 'lon']] = df['geocoded'].str.strip('()').str.split(', ', expand=True)\n",
    "df['lat'] = df['lat'].astype(float)\n",
    "df['lon'] = df['lon'].astype(float)"
   ]
  },
  {
   "cell_type": "markdown",
   "metadata": {},
   "source": [
    "## Image URL Collector"
   ]
  },
  {
   "cell_type": "code",
   "execution_count": 7,
   "metadata": {},
   "outputs": [],
   "source": [
    "df['image_links'] = ''\n",
    "links = []\n",
    "for url in df['story_link']:\n",
    "    try:\n",
    "        page = requests.get(url)\n",
    "        soup = BeautifulSoup(page.content, 'html.parser')\n",
    "        images = soup.find('img',{'class':'MainArtImage_image__2YtGm'})\n",
    "        images = images['src']\n",
    "        links.append(images)\n",
    "    except:\n",
    "        links.append('no_image')\n",
    "\n",
    "df['image_links'] = links"
   ]
  },
  {
   "cell_type": "code",
   "execution_count": 8,
   "metadata": {},
   "outputs": [
    {
     "name": "stdout",
     "output_type": "stream",
     "text": [
      "https://therealdeal.com/miami/2023/10/31/harvey-hernandezs-newgard-plans-condo-tower-in-brickell/\n"
     ]
    }
   ],
   "source": [
    "print(df['story_link'].iloc[0])"
   ]
  },
  {
   "cell_type": "code",
   "execution_count": 10,
   "metadata": {},
   "outputs": [
    {
     "name": "stdout",
     "output_type": "stream",
     "text": [
      "https://static.therealdeal.com/wp-content/uploads/2023/09/Urban-X-Group-Plans-Rentals-as-Part-of-River-Landing-Project-m-1400x875.jpg\n"
     ]
    }
   ],
   "source": [
    "# df.at[20,'image_img']=('<img src=\"Aimco.jpg\" width=\"256\" height=\"156\">')\n",
    "print(df['image_links'].iloc[1])"
   ]
  },
  {
   "cell_type": "code",
   "execution_count": 42,
   "metadata": {},
   "outputs": [],
   "source": [
    "# df.at[4,'image_links']=('https://therealdeal.com/wp-content/uploads/2019/10/trd-logo-16x9.jpg')"
   ]
  },
  {
   "cell_type": "code",
   "execution_count": 11,
   "metadata": {},
   "outputs": [
    {
     "data": {
      "text/plain": [
       "0     <a href=\"https://therealdeal.com/miami/2023/10...\n",
       "1     <a href=\"https://therealdeal.com/miami/2023/09...\n",
       "2     <a href=\"https://therealdeal.com/miami/2023/07...\n",
       "3     <a href=\"https://therealdeal.com/miami/2023/07...\n",
       "4     <a href=\"https://therealdeal.com/miami/2023/06...\n",
       "5     <a href=\"https://therealdeal.com/miami/2023/04...\n",
       "6     <a href=\"https://therealdeal.com/miami/2023/01...\n",
       "7     <a href=\"https://therealdeal.com/miami/2022/12...\n",
       "8     <a href=\"https://therealdeal.com/miami/2022/11...\n",
       "9     <a href=\"https://therealdeal.com/miami/2023/09...\n",
       "10    <a href=\"https://therealdeal.com/miami/2023/05...\n",
       "Name: description_link, dtype: object"
      ]
     },
     "execution_count": 11,
     "metadata": {},
     "output_type": "execute_result"
    }
   ],
   "source": [
    "df[\"short_description\"] = df[\"description\"].apply(lambda s: shorten(s, width=20, placeholder=\"\"))\n",
    "df['remaining_desc'] = df.apply(lambda row : row['description'].replace(str(row['short_description']), ''), axis=1)\n",
    "df['remaining_desc']\n",
    "\n",
    "df[\"description_link\"] = '<a href=\"' + df[\"story_link\"] + '\" target=\"_blank\" rel=\"noopener noreferrer\">' + df[\"short_description\"] + \"</a>\" + df[\"remaining_desc\"]\n",
    "df['description_link']"
   ]
  },
  {
   "cell_type": "code",
   "execution_count": 12,
   "metadata": {},
   "outputs": [
    {
     "data": {
      "text/plain": [
       "Index(['full_address', 'Reporter_Outreach', 'developers', 'description',\n",
       "       'condos_or_apts', 'status', 'price_paid_for_property',\n",
       "       'construction_loan_amount', 'lender_name', 'anchor_tenant?',\n",
       "       'commercial_sq_ft', 'anchor_tenant_leaseterm', 'story_link',\n",
       "       'geo_address', 'geocoded', 'lat', 'lon', 'image_links',\n",
       "       'short_description', 'remaining_desc', 'description_link'],\n",
       "      dtype='object')"
      ]
     },
     "execution_count": 12,
     "metadata": {},
     "output_type": "execute_result"
    }
   ],
   "source": [
    "df.columns"
   ]
  },
  {
   "cell_type": "code",
   "execution_count": 13,
   "metadata": {},
   "outputs": [],
   "source": [
    "def popup_html(row):\n",
    "    i = row\n",
    "    address = df['full_address'].iloc[i]\n",
    "    developer = df['developers'].iloc[i]\n",
    "    image = df['image_links'].iloc[i]\n",
    "    description = df['description_link'].iloc[i]\n",
    "    \n",
    "    html = '''<!DOCTYPE html>\n",
    "    <html>\n",
    "    <img src={} width=\"256\" height=\"156\">'''.format(image) + '''<br>______________________________________<br>\n",
    "    <strong>Address: </strong>{}'''.format(address) + '''<br>\n",
    "    <strong>Developer: </strong>{}'''.format(developer) + '''<br>\n",
    "    {}'''.format(description) + '''<br>\n",
    "    </html>\n",
    "    '''\n",
    "    return html"
   ]
  },
  {
   "cell_type": "code",
   "execution_count": 15,
   "metadata": {
    "scrolled": false
   },
   "outputs": [
    {
     "data": {
      "text/html": [
       "<div style=\"width:100%;\"><div style=\"position:relative;width:100%;height:0;padding-bottom:60%;\"><span style=\"color:#565656\">Make this Notebook Trusted to load map: File -> Trust Notebook</span><iframe srcdoc=\"&lt;!DOCTYPE html&gt;\n",
       "&lt;head&gt;    \n",
       "    &lt;meta http-equiv=&quot;content-type&quot; content=&quot;text/html; charset=UTF-8&quot; /&gt;\n",
       "    \n",
       "        &lt;script&gt;\n",
       "            L_NO_TOUCH = false;\n",
       "            L_DISABLE_3D = false;\n",
       "        &lt;/script&gt;\n",
       "    \n",
       "    &lt;style&gt;html, body {width: 100%;height: 100%;margin: 0;padding: 0;}&lt;/style&gt;\n",
       "    &lt;style&gt;#map {position:absolute;top:0;bottom:0;right:0;left:0;}&lt;/style&gt;\n",
       "    &lt;script src=&quot;https://cdn.jsdelivr.net/npm/leaflet@1.6.0/dist/leaflet.js&quot;&gt;&lt;/script&gt;\n",
       "    &lt;script src=&quot;https://code.jquery.com/jquery-1.12.4.min.js&quot;&gt;&lt;/script&gt;\n",
       "    &lt;script src=&quot;https://maxcdn.bootstrapcdn.com/bootstrap/3.2.0/js/bootstrap.min.js&quot;&gt;&lt;/script&gt;\n",
       "    &lt;script src=&quot;https://cdnjs.cloudflare.com/ajax/libs/Leaflet.awesome-markers/2.0.2/leaflet.awesome-markers.js&quot;&gt;&lt;/script&gt;\n",
       "    &lt;link rel=&quot;stylesheet&quot; href=&quot;https://cdn.jsdelivr.net/npm/leaflet@1.6.0/dist/leaflet.css&quot;/&gt;\n",
       "    &lt;link rel=&quot;stylesheet&quot; href=&quot;https://maxcdn.bootstrapcdn.com/bootstrap/3.2.0/css/bootstrap.min.css&quot;/&gt;\n",
       "    &lt;link rel=&quot;stylesheet&quot; href=&quot;https://maxcdn.bootstrapcdn.com/bootstrap/3.2.0/css/bootstrap-theme.min.css&quot;/&gt;\n",
       "    &lt;link rel=&quot;stylesheet&quot; href=&quot;https://maxcdn.bootstrapcdn.com/font-awesome/4.6.3/css/font-awesome.min.css&quot;/&gt;\n",
       "    &lt;link rel=&quot;stylesheet&quot; href=&quot;https://cdnjs.cloudflare.com/ajax/libs/Leaflet.awesome-markers/2.0.2/leaflet.awesome-markers.css&quot;/&gt;\n",
       "    &lt;link rel=&quot;stylesheet&quot; href=&quot;https://cdn.jsdelivr.net/gh/python-visualization/folium/folium/templates/leaflet.awesome.rotate.min.css&quot;/&gt;\n",
       "    \n",
       "            &lt;meta name=&quot;viewport&quot; content=&quot;width=device-width,\n",
       "                initial-scale=1.0, maximum-scale=1.0, user-scalable=no&quot; /&gt;\n",
       "            &lt;style&gt;\n",
       "                #map_ea7ac416ad55303b2b00d9289c2206a9 {\n",
       "                    position: relative;\n",
       "                    width: 100.0%;\n",
       "                    height: 100.0%;\n",
       "                    left: 0.0%;\n",
       "                    top: 0.0%;\n",
       "                }\n",
       "            &lt;/style&gt;\n",
       "        \n",
       "&lt;/head&gt;\n",
       "&lt;body&gt;    \n",
       "    \n",
       "              &lt;h3 align=&quot;center&quot; style=&quot;font-size:16px&quot;&gt;&lt;b&gt;Miami River Development Projects&lt;/b&gt;&lt;/h3&gt;\n",
       "             \n",
       "    \n",
       "            &lt;div class=&quot;folium-map&quot; id=&quot;map_ea7ac416ad55303b2b00d9289c2206a9&quot; &gt;&lt;/div&gt;\n",
       "        \n",
       "&lt;/body&gt;\n",
       "&lt;script&gt;    \n",
       "    \n",
       "            var map_ea7ac416ad55303b2b00d9289c2206a9 = L.map(\n",
       "                &quot;map_ea7ac416ad55303b2b00d9289c2206a9&quot;,\n",
       "                {\n",
       "                    center: [25.7814135, -80.21710654545454],\n",
       "                    crs: L.CRS.EPSG3857,\n",
       "                    zoom: 13,\n",
       "                    zoomControl: true,\n",
       "                    preferCanvas: false,\n",
       "                }\n",
       "            );\n",
       "\n",
       "            \n",
       "\n",
       "        \n",
       "    \n",
       "            var tile_layer_ae276281ef433a44c97bf2a1e26f4e4b = L.tileLayer(\n",
       "                &quot;https://{s}.tile.openstreetmap.org/{z}/{x}/{y}.png&quot;,\n",
       "                {&quot;attribution&quot;: &quot;Data by \\u0026copy; \\u003ca href=\\&quot;http://openstreetmap.org\\&quot;\\u003eOpenStreetMap\\u003c/a\\u003e, under \\u003ca href=\\&quot;http://www.openstreetmap.org/copyright\\&quot;\\u003eODbL\\u003c/a\\u003e.&quot;, &quot;detectRetina&quot;: false, &quot;maxNativeZoom&quot;: 18, &quot;maxZoom&quot;: 18, &quot;minZoom&quot;: 0, &quot;noWrap&quot;: false, &quot;opacity&quot;: 1, &quot;subdomains&quot;: &quot;abc&quot;, &quot;tms&quot;: false}\n",
       "            ).addTo(map_ea7ac416ad55303b2b00d9289c2206a9);\n",
       "        \n",
       "    \n",
       "            var marker_19f29a61a6c19d7d0e71b0690173aebd = L.marker(\n",
       "                [25.7674854, -80.19533059999999],\n",
       "                {}\n",
       "            ).addTo(map_ea7ac416ad55303b2b00d9289c2206a9);\n",
       "        \n",
       "    \n",
       "        var popup_83ad1aa92d3bbaca88e908c4c79c94fe = L.popup({&quot;maxWidth&quot;: &quot;100%&quot;});\n",
       "\n",
       "        \n",
       "            \n",
       "                var html_1a23830da9861fdaee1f4c243d103d9e = $(`&lt;div id=&quot;html_1a23830da9861fdaee1f4c243d103d9e&quot; style=&quot;width: 100.0%; height: 100.0%;&quot;&gt;&lt;!DOCTYPE html&gt;     &lt;html&gt;     &lt;img src=https://static.therealdeal.com/wp-content/uploads/2023/10/Harvey-Hernandezs-Newgard-Plans-Condo-Tower-in-Brickell_Main-1400x875.jpg width=&quot;256&quot; height=&quot;156&quot;&gt;&lt;br&gt;______________________________________&lt;br&gt;     &lt;strong&gt;Address: &lt;/strong&gt;99 Southwest Seventh Street in Miami&lt;br&gt;     &lt;strong&gt;Developer: &lt;/strong&gt;Newgard Development Group&lt;br&gt;     &lt;a href=&quot;https://therealdeal.com/miami/2023/10/31/harvey-hernandezs-newgard-plans-condo-tower-in-brickell/&quot; target=&quot;_blank&quot; rel=&quot;noopener noreferrer&quot;&gt;Newgard Development&lt;/a&gt; Group, led by Hernandez, plans the three-tower One Brickell Riverfront complex on the 1.6-acre L-shaped lot at 99 Southwest Seventh Street. The buildings will total 700 residential units.&lt;br&gt;     &lt;/html&gt;     &lt;/div&gt;`)[0];\n",
       "                popup_83ad1aa92d3bbaca88e908c4c79c94fe.setContent(html_1a23830da9861fdaee1f4c243d103d9e);\n",
       "            \n",
       "        \n",
       "\n",
       "        marker_19f29a61a6c19d7d0e71b0690173aebd.bindPopup(popup_83ad1aa92d3bbaca88e908c4c79c94fe)\n",
       "        ;\n",
       "\n",
       "        \n",
       "    \n",
       "    \n",
       "            var marker_0590b441ab7ca464a3953d53544df280 = L.marker(\n",
       "                [25.7861984, -80.21985219999999],\n",
       "                {}\n",
       "            ).addTo(map_ea7ac416ad55303b2b00d9289c2206a9);\n",
       "        \n",
       "    \n",
       "        var popup_918139ba425c236251827570ce217c1f = L.popup({&quot;maxWidth&quot;: &quot;100%&quot;});\n",
       "\n",
       "        \n",
       "            \n",
       "                var html_c52a166b5aa17df81d3861e2cb97a641 = $(`&lt;div id=&quot;html_c52a166b5aa17df81d3861e2cb97a641&quot; style=&quot;width: 100.0%; height: 100.0%;&quot;&gt;&lt;!DOCTYPE html&gt;     &lt;html&gt;     &lt;img src=https://static.therealdeal.com/wp-content/uploads/2023/09/Urban-X-Group-Plans-Rentals-as-Part-of-River-Landing-Project-m-1400x875.jpg width=&quot;256&quot; height=&quot;156&quot;&gt;&lt;br&gt;______________________________________&lt;br&gt;     &lt;strong&gt;Address: &lt;/strong&gt;1411 Northwest North River Drive&lt;br&gt;     &lt;strong&gt;Developer: &lt;/strong&gt;Urban-X Group&lt;br&gt;     &lt;a href=&quot;https://therealdeal.com/miami/2023/09/19/urban-x-group-plans-rentals-as-part-of-river-landing-project/&quot; target=&quot;_blank&quot; rel=&quot;noopener noreferrer&quot;&gt;Urban-X Group, led&lt;/a&gt; by Andrew Hellinger and Coralee Penabad, wants to add a 28-story, 475-unit apartment building at 1411 Northwest North River Drive. The project, MidRiverVu, is across the street from the finished riverfront River Landing and about 500 feet north from the river.&lt;br&gt;     &lt;/html&gt;     &lt;/div&gt;`)[0];\n",
       "                popup_918139ba425c236251827570ce217c1f.setContent(html_c52a166b5aa17df81d3861e2cb97a641);\n",
       "            \n",
       "        \n",
       "\n",
       "        marker_0590b441ab7ca464a3953d53544df280.bindPopup(popup_918139ba425c236251827570ce217c1f)\n",
       "        ;\n",
       "\n",
       "        \n",
       "    \n",
       "    \n",
       "            var marker_23da2030a687a6c43eb00cc7705ac8b2 = L.marker(\n",
       "                [25.7709263, -80.1910809],\n",
       "                {}\n",
       "            ).addTo(map_ea7ac416ad55303b2b00d9289c2206a9);\n",
       "        \n",
       "    \n",
       "        var popup_54f39f3d21875e9b5c342fd58f869c46 = L.popup({&quot;maxWidth&quot;: &quot;100%&quot;});\n",
       "\n",
       "        \n",
       "            \n",
       "                var html_7f95d1230c424cf3f5a18bda5b38a1dd = $(`&lt;div id=&quot;html_7f95d1230c424cf3f5a18bda5b38a1dd&quot; style=&quot;width: 100.0%; height: 100.0%;&quot;&gt;&lt;!DOCTYPE html&gt;     &lt;html&gt;     &lt;img src=https://static.therealdeal.com/wp-content/uploads/2023/07/Hyatt-Gencom-score-city-approval-for-Miami-River-project_Main-1400x875.jpg width=&quot;256&quot; height=&quot;156&quot;&gt;&lt;br&gt;______________________________________&lt;br&gt;     &lt;strong&gt;Address: &lt;/strong&gt;400 Southeast Second Avenue&lt;br&gt;     &lt;strong&gt;Developer: &lt;/strong&gt;Hyatt, Gencom&lt;br&gt;     &lt;a href=&quot;https://therealdeal.com/miami/2023/07/17/hyatt-gencom-win-key-approval-for-james-j-knight-center-redevelopment-project/&quot; target=&quot;_blank&quot; rel=&quot;noopener noreferrer&quot;&gt;Gencom and Hyatt&lt;/a&gt; plan a pair of 61-story towers with 682 apartments, a 615-key Hyatt Regency and 264 service branded apartments at 400 Southeast Second Avenue. The third tower will be a supertall rising 1,049 feet, or the maximum allowed in Miami, with 860 apartments.&lt;br&gt;     &lt;/html&gt;     &lt;/div&gt;`)[0];\n",
       "                popup_54f39f3d21875e9b5c342fd58f869c46.setContent(html_7f95d1230c424cf3f5a18bda5b38a1dd);\n",
       "            \n",
       "        \n",
       "\n",
       "        marker_23da2030a687a6c43eb00cc7705ac8b2.bindPopup(popup_54f39f3d21875e9b5c342fd58f869c46)\n",
       "        ;\n",
       "\n",
       "        \n",
       "    \n",
       "    \n",
       "            var marker_c7764983bacf660c87b926ca69371243 = L.marker(\n",
       "                [25.7691921, -80.19043219999999],\n",
       "                {}\n",
       "            ).addTo(map_ea7ac416ad55303b2b00d9289c2206a9);\n",
       "        \n",
       "    \n",
       "        var popup_954b5a87456075bc716834dab0d3065e = L.popup({&quot;maxWidth&quot;: &quot;100%&quot;});\n",
       "\n",
       "        \n",
       "            \n",
       "                var html_ec263fbfcff66807e428c246fb4d396c = $(`&lt;div id=&quot;html_ec263fbfcff66807e428c246fb4d396c&quot; style=&quot;width: 100.0%; height: 100.0%;&quot;&gt;&lt;!DOCTYPE html&gt;     &lt;html&gt;     &lt;img src=https://static.therealdeal.com/wp-content/uploads/2023/07/Miami-Board-Cites-Relateds-Brickell-Site-as-Archeological-m-1400x875.jpg width=&quot;256&quot; height=&quot;156&quot;&gt;&lt;br&gt;______________________________________&lt;br&gt;     &lt;strong&gt;Address: &lt;/strong&gt;444 Brickell Avenue&lt;br&gt;     &lt;strong&gt;Developer: &lt;/strong&gt;Related&lt;br&gt;     &lt;a href=&quot;https://therealdeal.com/miami/2023/07/11/miami-board-grants-preliminary-archeological-designation-to-relateds-baccarat-development-site/&quot; target=&quot;_blank&quot; rel=&quot;noopener noreferrer&quot;&gt;Coconut Grove-based&lt;/a&gt; Related is developing a 75-story, 355-unit Baccarat-branded condo at 99 Southeast Fifth Street. The project is part of a multi-tower project that includes the adjacent 44-story, 506-unit One Brickell apartment tower at 77 Southeast Fifth Street, also under construction. &lt;br&gt;     &lt;/html&gt;     &lt;/div&gt;`)[0];\n",
       "                popup_954b5a87456075bc716834dab0d3065e.setContent(html_ec263fbfcff66807e428c246fb4d396c);\n",
       "            \n",
       "        \n",
       "\n",
       "        marker_c7764983bacf660c87b926ca69371243.bindPopup(popup_954b5a87456075bc716834dab0d3065e)\n",
       "        ;\n",
       "\n",
       "        \n",
       "    \n",
       "    \n",
       "            var marker_31ed4d033a899be1fb9b5b4de0acd0ff = L.marker(\n",
       "                [25.7939209, -80.24424479999999],\n",
       "                {}\n",
       "            ).addTo(map_ea7ac416ad55303b2b00d9289c2206a9);\n",
       "        \n",
       "    \n",
       "        var popup_8bb09562d9935e5ea3b275d23457566f = L.popup({&quot;maxWidth&quot;: &quot;100%&quot;});\n",
       "\n",
       "        \n",
       "            \n",
       "                var html_1e15574d69cb6e82602a664eb0a182d7 = $(`&lt;div id=&quot;html_1e15574d69cb6e82602a664eb0a182d7&quot; style=&quot;width: 100.0%; height: 100.0%;&quot;&gt;&lt;!DOCTYPE html&gt;     &lt;html&gt;     &lt;img src=https://static.therealdeal.com/wp-content/uploads/2023/06/ROVR-Pays-24M-For-Miami-River-Dev-Site-for-Apartment-Project-m-1400x875.jpg width=&quot;256&quot; height=&quot;156&quot;&gt;&lt;br&gt;______________________________________&lt;br&gt;     &lt;strong&gt;Address: &lt;/strong&gt;2750 N.W. South River Drive, as well as 1701 and 1851 Delaware Parkway&lt;br&gt;     &lt;strong&gt;Developer: &lt;/strong&gt;ROVR&lt;br&gt;     &lt;a href=&quot;https://therealdeal.com/miami/2023/06/06/rovr-pays-24m-for-miami-river-dev-site-for-massive-apartment-project/&quot; target=&quot;_blank&quot; rel=&quot;noopener noreferrer&quot;&gt;Oscar Rodriguez and&lt;/a&gt; Ricardo Vadia through their ROVR Development, plan a nearly 1,600-unit multifamily project on 10 acres west of Northwest 27th Avenue, between the river to the north and Delaware Parkway to the south.&lt;br&gt;     &lt;/html&gt;     &lt;/div&gt;`)[0];\n",
       "                popup_8bb09562d9935e5ea3b275d23457566f.setContent(html_1e15574d69cb6e82602a664eb0a182d7);\n",
       "            \n",
       "        \n",
       "\n",
       "        marker_31ed4d033a899be1fb9b5b4de0acd0ff.bindPopup(popup_8bb09562d9935e5ea3b275d23457566f)\n",
       "        ;\n",
       "\n",
       "        \n",
       "    \n",
       "    \n",
       "            var marker_26307c2ba6c48e7d54a915d164df8473 = L.marker(\n",
       "                [25.7876911, -80.2198319],\n",
       "                {}\n",
       "            ).addTo(map_ea7ac416ad55303b2b00d9289c2206a9);\n",
       "        \n",
       "    \n",
       "        var popup_b5012ff8e1330fee372532737da6314c = L.popup({&quot;maxWidth&quot;: &quot;100%&quot;});\n",
       "\n",
       "        \n",
       "            \n",
       "                var html_56c4a146bc2a4b2434272d746815a513 = $(`&lt;div id=&quot;html_56c4a146bc2a4b2434272d746815a513&quot; style=&quot;width: 100.0%; height: 100.0%;&quot;&gt;&lt;!DOCTYPE html&gt;     &lt;html&gt;     &lt;img src=https://static.therealdeal.com/wp-content/uploads/2023/04/main_MIA_Alta-Trilogy-1-1400x875.jpg width=&quot;256&quot; height=&quot;156&quot;&gt;&lt;br&gt;______________________________________&lt;br&gt;     &lt;strong&gt;Address: &lt;/strong&gt; 1451 Northwest 14th Street&lt;br&gt;     &lt;strong&gt;Developer: &lt;/strong&gt;Alta Development &lt;br&gt;     &lt;a href=&quot;https://therealdeal.com/miami/2023/04/24/miami-board-approves-designs-for-alta-condos-trilogy-apartments/&quot; target=&quot;_blank&quot; rel=&quot;noopener noreferrer&quot;&gt;Alta Development,&lt;/a&gt; founded and led by Henry Pino, plans a 283-condo building with studios, as well as one-bedroom and two-bedroom units, at 1451 Northwest 14th Street, less than half a mile north from the river.&lt;br&gt;     &lt;/html&gt;     &lt;/div&gt;`)[0];\n",
       "                popup_b5012ff8e1330fee372532737da6314c.setContent(html_56c4a146bc2a4b2434272d746815a513);\n",
       "            \n",
       "        \n",
       "\n",
       "        marker_26307c2ba6c48e7d54a915d164df8473.bindPopup(popup_b5012ff8e1330fee372532737da6314c)\n",
       "        ;\n",
       "\n",
       "        \n",
       "    \n",
       "    \n",
       "            var marker_53adec5c2c62e243badce2707866da8d = L.marker(\n",
       "                [25.769845, -80.194188],\n",
       "                {}\n",
       "            ).addTo(map_ea7ac416ad55303b2b00d9289c2206a9);\n",
       "        \n",
       "    \n",
       "        var popup_6003f5aaccdfb23a08318fe8810ae3cf = L.popup({&quot;maxWidth&quot;: &quot;100%&quot;});\n",
       "\n",
       "        \n",
       "            \n",
       "                var html_782fadc8bc7c04a098a58d3444817cc5 = $(`&lt;div id=&quot;html_782fadc8bc7c04a098a58d3444817cc5&quot; style=&quot;width: 100.0%; height: 100.0%;&quot;&gt;&lt;!DOCTYPE html&gt;     &lt;html&gt;     &lt;img src=https://static.therealdeal.com/wp-content/uploads/2023/01/Main_One-River-Point.jpg width=&quot;256&quot; height=&quot;156&quot;&gt;&lt;br&gt;______________________________________&lt;br&gt;     &lt;strong&gt;Address: &lt;/strong&gt;24 Southwest Fourth Street&lt;br&gt;     &lt;strong&gt;Developer: &lt;/strong&gt;Fortune International Group, KAR Properties&lt;br&gt;     &lt;a href=&quot;https://therealdeal.com/miami/2023/01/05/fortune-kar-score-financing-for-one-river-point-condo-tower/&quot; target=&quot;_blank&quot; rel=&quot;noopener noreferrer&quot;&gt;Miami-based Fortune&lt;/a&gt; International Group, led by Edgardo Defortuna, and New York City-based KAR Properties, led by Shahab Karmely, plan 386 waterfront condos for the 1.8-acre site at 24 Southwest Fourth Street.&lt;br&gt;     &lt;/html&gt;     &lt;/div&gt;`)[0];\n",
       "                popup_6003f5aaccdfb23a08318fe8810ae3cf.setContent(html_782fadc8bc7c04a098a58d3444817cc5);\n",
       "            \n",
       "        \n",
       "\n",
       "        marker_53adec5c2c62e243badce2707866da8d.bindPopup(popup_6003f5aaccdfb23a08318fe8810ae3cf)\n",
       "        ;\n",
       "\n",
       "        \n",
       "    \n",
       "    \n",
       "            var marker_d67a90a2d01bed4cf133cfb32760916f = L.marker(\n",
       "                [25.768863, -80.1988],\n",
       "                {}\n",
       "            ).addTo(map_ea7ac416ad55303b2b00d9289c2206a9);\n",
       "        \n",
       "    \n",
       "        var popup_fa639d60e65b583ae4ecbc98a34ffd06 = L.popup({&quot;maxWidth&quot;: &quot;100%&quot;});\n",
       "\n",
       "        \n",
       "            \n",
       "                var html_6f522195b3b5c6a74bb0f39ecfa522e8 = $(`&lt;div id=&quot;html_6f522195b3b5c6a74bb0f39ecfa522e8&quot; style=&quot;width: 100.0%; height: 100.0%;&quot;&gt;&lt;!DOCTYPE html&gt;     &lt;html&gt;     &lt;img src=https://static.therealdeal.com/wp-content/uploads/2022/12/MMIA-Chetrit-revives-1B-Miami-River-mega-project-.jpg width=&quot;256&quot; height=&quot;156&quot;&gt;&lt;br&gt;______________________________________&lt;br&gt;     &lt;strong&gt;Address: &lt;/strong&gt;501 Southwest Third Avenue&lt;br&gt;     &lt;strong&gt;Developer: &lt;/strong&gt;Chetrit Group&lt;br&gt;     &lt;a href=&quot;https://therealdeal.com/miami/2022/12/14/chetrit-revives-1b-miami-river-megaproject/&quot; target=&quot;_blank&quot; rel=&quot;noopener noreferrer&quot;&gt;The Chetrit Group&lt;/a&gt; plans a sprawling, multi-phase $1 billion megaproject expected to include 1600 residential units, with 30,000 square feet of retail, a marina and class A office space at a 6.2-acre site south of the Miami River between I-95 and Southwest Second Avenue.&lt;br&gt;     &lt;/html&gt;     &lt;/div&gt;`)[0];\n",
       "                popup_fa639d60e65b583ae4ecbc98a34ffd06.setContent(html_6f522195b3b5c6a74bb0f39ecfa522e8);\n",
       "            \n",
       "        \n",
       "\n",
       "        marker_d67a90a2d01bed4cf133cfb32760916f.bindPopup(popup_fa639d60e65b583ae4ecbc98a34ffd06)\n",
       "        ;\n",
       "\n",
       "        \n",
       "    \n",
       "    \n",
       "            var marker_7ebc96186474b42f8f7e99592690b215 = L.marker(\n",
       "                [25.7851564, -80.23173919999999],\n",
       "                {}\n",
       "            ).addTo(map_ea7ac416ad55303b2b00d9289c2206a9);\n",
       "        \n",
       "    \n",
       "        var popup_8cb4b060a7c6662e4f285e40cd5e2e32 = L.popup({&quot;maxWidth&quot;: &quot;100%&quot;});\n",
       "\n",
       "        \n",
       "            \n",
       "                var html_5c7f7a9dfcf1cba8670e36308dee5a3b = $(`&lt;div id=&quot;html_5c7f7a9dfcf1cba8670e36308dee5a3b&quot; style=&quot;width: 100.0%; height: 100.0%;&quot;&gt;&lt;!DOCTYPE html&gt;     &lt;html&gt;     &lt;img src=https://static.therealdeal.com/wp-content/uploads/2022/10/main_MIA_Polish-American-Club.jpg width=&quot;256&quot; height=&quot;156&quot;&gt;&lt;br&gt;______________________________________&lt;br&gt;     &lt;strong&gt;Address: &lt;/strong&gt;1250 Northwest 22nd Avenue&lt;br&gt;     &lt;strong&gt;Developer: &lt;/strong&gt;nan&lt;br&gt;     &lt;a href=&quot;https://therealdeal.com/miami/2022/11/01/polish-american-club-seeks-rezoning-for-miami-river-mixed-use-project/&quot; target=&quot;_blank&quot; rel=&quot;noopener noreferrer&quot;&gt;The Polish American&lt;/a&gt; Club of Miami has requested zoning changes from the Miami City Commission that would allow them to build a high-density project with 102 apartments at 1250 Northwest 22nd Avenue. The plans have been deferred indefinitely.&lt;br&gt;     &lt;/html&gt;     &lt;/div&gt;`)[0];\n",
       "                popup_8cb4b060a7c6662e4f285e40cd5e2e32.setContent(html_5c7f7a9dfcf1cba8670e36308dee5a3b);\n",
       "            \n",
       "        \n",
       "\n",
       "        marker_7ebc96186474b42f8f7e99592690b215.bindPopup(popup_8cb4b060a7c6662e4f285e40cd5e2e32)\n",
       "        ;\n",
       "\n",
       "        \n",
       "    \n",
       "    \n",
       "            var marker_49762cc9506321603cce6adfbfc6f6fc = L.marker(\n",
       "                [25.8008674, -80.2533263],\n",
       "                {}\n",
       "            ).addTo(map_ea7ac416ad55303b2b00d9289c2206a9);\n",
       "        \n",
       "    \n",
       "        var popup_be8dd2b9279d2d703e27a53c14af7f32 = L.popup({&quot;maxWidth&quot;: &quot;100%&quot;});\n",
       "\n",
       "        \n",
       "            \n",
       "                var html_c8373f7db9714eca4632170c9c3ab1f2 = $(`&lt;div id=&quot;html_c8373f7db9714eca4632170c9c3ab1f2&quot; style=&quot;width: 100.0%; height: 100.0%;&quot;&gt;&lt;!DOCTYPE html&gt;     &lt;html&gt;     &lt;img src=https://static.therealdeal.com/wp-content/uploads/2023/09/Coastline-Nakash-Equity-Plans-Rentals-Near-Miami-River-m-1400x875.jpg width=&quot;256&quot; height=&quot;156&quot;&gt;&lt;br&gt;______________________________________&lt;br&gt;     &lt;strong&gt;Address: &lt;/strong&gt;3550 Northwest South River Drive&lt;br&gt;     &lt;strong&gt;Developer: &lt;/strong&gt;Coastline-Nakash Equity Capital Group&lt;br&gt;     &lt;a href=&quot;https://therealdeal.com/miami/2023/09/22/coastline-nakash-equity-plans-rentals-near-miami-river/&quot; target=&quot;_blank&quot; rel=&quot;noopener noreferrer&quot;&gt;Yaniv Nakash and&lt;/a&gt; Eyal Mehaber, who led Coastline-Nakash Equity Capital Group, plan 822 apartments for the seven acres at 3550 Northwest South River Drive.&lt;br&gt;     &lt;/html&gt;     &lt;/div&gt;`)[0];\n",
       "                popup_be8dd2b9279d2d703e27a53c14af7f32.setContent(html_c8373f7db9714eca4632170c9c3ab1f2);\n",
       "            \n",
       "        \n",
       "\n",
       "        marker_49762cc9506321603cce6adfbfc6f6fc.bindPopup(popup_be8dd2b9279d2d703e27a53c14af7f32)\n",
       "        ;\n",
       "\n",
       "        \n",
       "    \n",
       "    \n",
       "            var marker_86f2269465260f0ae711cb72ce8b8726 = L.marker(\n",
       "                [25.7954025, -80.2493459],\n",
       "                {}\n",
       "            ).addTo(map_ea7ac416ad55303b2b00d9289c2206a9);\n",
       "        \n",
       "    \n",
       "        var popup_493ce573a3077ef7350348083307e33b = L.popup({&quot;maxWidth&quot;: &quot;100%&quot;});\n",
       "\n",
       "        \n",
       "            \n",
       "                var html_1fd514e9be758918809bf11ac366314c = $(`&lt;div id=&quot;html_1fd514e9be758918809bf11ac366314c&quot; style=&quot;width: 100.0%; height: 100.0%;&quot;&gt;&lt;!DOCTYPE html&gt;     &lt;html&gt;     &lt;img src=https://static.therealdeal.com/wp-content/uploads/2023/05/Lissette-Calderon-Plans-1250-Resi-Units-Near-Beckham-Stadium-m-1400x875.jpg width=&quot;256&quot; height=&quot;156&quot;&gt;&lt;br&gt;______________________________________&lt;br&gt;     &lt;strong&gt;Address: &lt;/strong&gt;2301 Northwest 33rd Avenue &lt;br&gt;     &lt;strong&gt;Developer: &lt;/strong&gt;Lissette Calderon, Neology Life Development Group&lt;br&gt;     &lt;a href=&quot;https://therealdeal.com/miami/2023/05/16/lissette-calderon-proposes-1250-apartments-near-beckham-soccer-stadium/&quot; target=&quot;_blank&quot; rel=&quot;noopener noreferrer&quot;&gt;Lissette Calderon&lt;/a&gt; wants to develop a 1,250-unit apartment complex near the planned Beckham soccer stadium. Neology Life Development Group, led by Calderon, proposes three 15-story buildings on the 7.3-acre site of a shuttered car rental facility at 2301 Northwest 33rd Avenue in unincorporated Miami-Dade County.&lt;br&gt;     &lt;/html&gt;     &lt;/div&gt;`)[0];\n",
       "                popup_493ce573a3077ef7350348083307e33b.setContent(html_1fd514e9be758918809bf11ac366314c);\n",
       "            \n",
       "        \n",
       "\n",
       "        marker_86f2269465260f0ae711cb72ce8b8726.bindPopup(popup_493ce573a3077ef7350348083307e33b)\n",
       "        ;\n",
       "\n",
       "        \n",
       "    \n",
       "    \n",
       "            map_ea7ac416ad55303b2b00d9289c2206a9.fitBounds(\n",
       "                [25.7814135, -80.21710654545454],\n",
       "                {&quot;maxZoom&quot;: 15}\n",
       "            );\n",
       "        \n",
       "&lt;/script&gt;\" style=\"position:absolute;width:100%;height:100%;left:0;top:0;border:none !important;\" allowfullscreen webkitallowfullscreen mozallowfullscreen></iframe></div></div>"
      ],
      "text/plain": [
       "<folium.folium.Map at 0x7fe5581be820>"
      ]
     },
     "execution_count": 15,
     "metadata": {},
     "output_type": "execute_result"
    }
   ],
   "source": [
    "import branca\n",
    "\n",
    "m = folium.Map(location=df[[\"lat\", \"lon\"]].mean().to_list(),zoom_start=13)\n",
    "\n",
    "title_html = '''\n",
    "              <h3 align=\"center\" style=\"font-size:16px\"><b>{}</b></h3>\n",
    "             '''.format(f'Miami River Development Projects')\n",
    "\n",
    "for i in range(0,len(df)):\n",
    "    html = popup_html(i)\n",
    "    iframe = branca.element.IFrame(html=html)\n",
    "    popup = folium.Popup(folium.Html(html, script=True))\n",
    "    folium.Marker([df['lat'].iloc[i],df['lon'].iloc[i]],\n",
    "                 popup=popup).add_to(m)\n",
    "\n",
    "m.get_root().html.add_child(folium.Element(title_html))\n",
    "m.fit_bounds(bounds=df[['lat','lon']].mean().to_list(),max_zoom=15)\n",
    "# m.add_to(f)\n",
    "m"
   ]
  },
  {
   "cell_type": "code",
   "execution_count": 51,
   "metadata": {},
   "outputs": [],
   "source": [
    "m.save('index.html')"
   ]
  },
  {
   "cell_type": "markdown",
   "metadata": {},
   "source": [
    "## Map URL Snagger"
   ]
  },
  {
   "cell_type": "code",
   "execution_count": 52,
   "metadata": {},
   "outputs": [
    {
     "name": "stdout",
     "output_type": "stream",
     "text": [
      "https://trd-digital.github.io/trd-news-interactive-maps/NorthBeach_MiamiBeach\n"
     ]
    }
   ],
   "source": [
    "base_name = 'https://trd-digital.github.io/trd-news-interactive-maps/'\n",
    "\n",
    "cwd = os.getcwd()\n",
    "\n",
    "cwd = cwd.split('/')\n",
    "\n",
    "final_name = base_name + cwd[-1]\n",
    "print(final_name)"
   ]
  }
 ],
 "metadata": {
  "kernelspec": {
   "display_name": "Python 3 (ipykernel)",
   "language": "python",
   "name": "python3"
  },
  "language_info": {
   "codemirror_mode": {
    "name": "ipython",
    "version": 3
   },
   "file_extension": ".py",
   "mimetype": "text/x-python",
   "name": "python",
   "nbconvert_exporter": "python",
   "pygments_lexer": "ipython3",
   "version": "3.9.12"
  },
  "toc": {
   "base_numbering": 1,
   "nav_menu": {},
   "number_sections": true,
   "sideBar": true,
   "skip_h1_title": false,
   "title_cell": "Table of Contents",
   "title_sidebar": "Contents",
   "toc_cell": false,
   "toc_position": {},
   "toc_section_display": true,
   "toc_window_display": false
  }
 },
 "nbformat": 4,
 "nbformat_minor": 4
}
