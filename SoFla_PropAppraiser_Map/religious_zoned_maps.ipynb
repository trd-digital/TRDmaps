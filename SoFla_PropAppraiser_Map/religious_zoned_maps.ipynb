{
 "cells": [
  {
   "cell_type": "markdown",
   "id": "7658014d",
   "metadata": {},
   "source": [
    "## Imports"
   ]
  },
  {
   "cell_type": "code",
   "execution_count": 2,
   "id": "9c9fa4b0",
   "metadata": {},
   "outputs": [],
   "source": [
    "import pandas as pd\n",
    "import numpy as np\n",
    "import os"
   ]
  },
  {
   "cell_type": "markdown",
   "id": "0d141019",
   "metadata": {},
   "source": [
    "## PD Set Options"
   ]
  },
  {
   "cell_type": "code",
   "execution_count": 3,
   "id": "63a1dda1",
   "metadata": {},
   "outputs": [],
   "source": [
    "pd.set_option('display.max_columns', 500)\n",
    "pd.set_option('display.max_colwidth', None)\n",
    "pd.set_option('display.max_rows', 1600)"
   ]
  },
  {
   "cell_type": "markdown",
   "id": "d3a2b92f",
   "metadata": {},
   "source": [
    "## Read in and Analysis"
   ]
  },
  {
   "cell_type": "code",
   "execution_count": 4,
   "id": "720afd41",
   "metadata": {},
   "outputs": [],
   "source": [
    "df = pd.read_csv('Property_Point_View.csv', dtype={'FOLIO':'str'}, low_memory=False)"
   ]
  },
  {
   "cell_type": "code",
   "execution_count": 5,
   "id": "8b93eb1d",
   "metadata": {},
   "outputs": [
    {
     "data": {
      "text/plain": [
       "Index(['X', 'Y', 'OBJECTID', 'FOLIO', 'TTRRSS', 'X_COORD', 'Y_COORD',\n",
       "       'TRUE_SITE_ADDR', 'TRUE_SITE_UNIT', 'TRUE_SITE_CITY',\n",
       "       'TRUE_SITE_ZIP_CODE', 'TRUE_MAILING_ADDR1', 'TRUE_MAILING_ADDR2',\n",
       "       'TRUE_MAILING_ADDR3', 'TRUE_MAILING_CITY', 'TRUE_MAILING_STATE',\n",
       "       'TRUE_MAILING_ZIP_CODE', 'TRUE_MAILING_COUNTRY', 'TRUE_OWNER1',\n",
       "       'TRUE_OWNER2', 'TRUE_OWNER3', 'CONDO_FLAG', 'PARENT_FOLIO',\n",
       "       'DOR_CODE_CUR', 'DOR_DESC', 'SUBDIVISION', 'BEDROOM_COUNT',\n",
       "       'BATHROOM_COUNT', 'HALF_BATHROOM_COUNT', 'FLOOR_COUNT', 'UNIT_COUNT',\n",
       "       'BUILDING_ACTUAL_AREA', 'BUILDING_HEATED_AREA', 'LOT_SIZE',\n",
       "       'YEAR_BUILT', 'ASSESSMENT_YEAR_CUR', 'ASSESSED_VAL_CUR', 'DOS_1',\n",
       "       'PRICE_1', 'LEGAL', 'PID', 'DATEOFSALE_UTC'],\n",
       "      dtype='object')"
      ]
     },
     "execution_count": 5,
     "metadata": {},
     "output_type": "execute_result"
    }
   ],
   "source": [
    "df.columns"
   ]
  },
  {
   "cell_type": "code",
   "execution_count": 6,
   "id": "485d3449",
   "metadata": {
    "scrolled": false
   },
   "outputs": [],
   "source": [
    "CONDITIONS = [\n",
    "    df['DOR_DESC'].str.contains('RESIDENTIAL') == True,\n",
    "    df['DOR_DESC'].str.contains('COMMERCIAL') == True,\n",
    "    df['DOR_DESC'].str.contains('RELIGIOUS') == True\n",
    "]\n",
    "\n",
    "OUTPUTS = [\n",
    "    'RESIDENTIAL',\n",
    "    'COMMERCIAL',\n",
    "    'RELIGIOUS'\n",
    "]\n",
    "\n",
    "res = np.select(CONDITIONS, OUTPUTS, 'Other')\n",
    "res\n",
    "\n",
    "df['ZONE'] = pd.Series(res)"
   ]
  },
  {
   "cell_type": "code",
   "execution_count": null,
   "id": "b8f7c140",
   "metadata": {},
   "outputs": [],
   "source": [
    "df.to_csv('Miami_Dade_Zones.csv')"
   ]
  },
  {
   "cell_type": "markdown",
   "id": "5a67b267",
   "metadata": {},
   "source": [
    "## Create Religious Specific Pins"
   ]
  },
  {
   "cell_type": "code",
   "execution_count": null,
   "id": "ef5f1d9d",
   "metadata": {},
   "outputs": [],
   "source": [
    "df_RELIGIOUS = df.loc[df['DOR_DESC'].str.contains('RELIGIOUS',na=False)]"
   ]
  },
  {
   "cell_type": "code",
   "execution_count": null,
   "id": "dc1379bf",
   "metadata": {},
   "outputs": [],
   "source": [
    "print(len(df))\n",
    "print('--------')\n",
    "print(len(df_RELIGIOUS))"
   ]
  },
  {
   "cell_type": "code",
   "execution_count": null,
   "id": "8e9e7e38",
   "metadata": {},
   "outputs": [],
   "source": [
    "df_RELIGIOUS = df_RELIGIOUS.fillna(value='None')"
   ]
  },
  {
   "cell_type": "code",
   "execution_count": null,
   "id": "e2ad9677",
   "metadata": {},
   "outputs": [],
   "source": [
    "# df.agg({'LOT_SIZE':['sum','min','max','mean','median']}).reset_index()"
   ]
  },
  {
   "cell_type": "code",
   "execution_count": null,
   "id": "f2f83496",
   "metadata": {},
   "outputs": [],
   "source": [
    "# df_RELIGIOUS.agg({'LOT_SIZE':['sum','min','max','mean','median']}).reset_index()"
   ]
  },
  {
   "cell_type": "code",
   "execution_count": null,
   "id": "47531137",
   "metadata": {},
   "outputs": [],
   "source": [
    "# df.agg({'BUILDING_ACTUAL_AREA':['sum','min','max','mean','median']}).reset_index()"
   ]
  },
  {
   "cell_type": "code",
   "execution_count": null,
   "id": "878bcc8b",
   "metadata": {},
   "outputs": [],
   "source": [
    "# df_RELIGIOUS.agg({'BUILDING_ACTUAL_AREA':['sum','min','max','mean','median']}).reset_index()"
   ]
  },
  {
   "cell_type": "code",
   "execution_count": null,
   "id": "a39722b1",
   "metadata": {},
   "outputs": [],
   "source": [
    "def popup_html(row):\n",
    "    i = row\n",
    "    folio = df_RELIGIOUS['FOLIO'].iloc[i]\n",
    "    address = df_RELIGIOUS['TRUE_SITE_ADDR'].iloc[i]\n",
    "    year_built = df_RELIGIOUS['YEAR_BUILT'].iloc[i]\n",
    "    building_area = df_RELIGIOUS['BUILDING_ACTUAL_AREA'].iloc[i]\n",
    "    lot_size = df_RELIGIOUS['LOT_SIZE'].iloc[i]\n",
    "    \n",
    "    html = '''<!DOCTYPE html>\n",
    "    <html>\n",
    "    Folio: <strong>{}'''.format(folio) + '''</strong><br>\n",
    "    Address: <strong>{}'''.format(address) + '''</strong><br>\n",
    "    Year Built: <strong>{}'''.format(year_built) + '''</strong><br>\n",
    "    Building Area: <strong>{}'''.format(building_area) + '''</strong><br>\n",
    "    Lot Size: <strong>{}'''.format(lot_size) + '''</strong><br>\n",
    "    </html>\n",
    "    '''\n",
    "    return html\n"
   ]
  },
  {
   "cell_type": "code",
   "execution_count": null,
   "id": "435b9b95",
   "metadata": {},
   "outputs": [],
   "source": [
    "import folium\n",
    "import branca\n",
    "\n",
    "f = folium.Figure(width=750, height=750)\n",
    "m = folium.Map(location=df_RELIGIOUS[[\"Y\", \"X\"]].mean().to_list(),zoom_start=10)\n",
    "\n",
    "title_html = '''\n",
    "              <h3 align=\"center\" style=\"font-size:16px\"><b>{}</b></h3>\n",
    "             '''.format(f'Miami-Dade Religious-Zoned Properties')\n",
    "\n",
    "for i in range(0,len(df_RELIGIOUS)):\n",
    "    html = popup_html(i)\n",
    "    iframe = branca.element.IFrame(html=html)\n",
    "    popup = folium.Popup(folium.Html(html, script=True))\n",
    "    folium.Marker([df_RELIGIOUS['Y'].iloc[i],df_RELIGIOUS['X'].iloc[i]],\n",
    "                 popup=popup).add_to(m)\n",
    "\n",
    "m.get_root().html.add_child(folium.Element(title_html))\n",
    "m.fit_bounds(bounds=df_RELIGIOUS[['Y','X']].mean().to_list(),max_zoom=15)\n",
    "m"
   ]
  },
  {
   "cell_type": "code",
   "execution_count": null,
   "id": "a19746c0",
   "metadata": {},
   "outputs": [],
   "source": [
    "m.save('index.html')"
   ]
  },
  {
   "cell_type": "markdown",
   "id": "97156467",
   "metadata": {},
   "source": [
    "## Map URL snagger"
   ]
  },
  {
   "cell_type": "markdown",
   "id": "a11254bc",
   "metadata": {},
   "source": [
    "Map template URL: `https://trd-digital.github.io/trd-news-interactive-maps/{map-folder-name}`"
   ]
  },
  {
   "cell_type": "code",
   "execution_count": null,
   "id": "70722064",
   "metadata": {},
   "outputs": [],
   "source": [
    "base_name = 'https://trd-digital.github.io/trd-news-interactive-maps/'"
   ]
  },
  {
   "cell_type": "code",
   "execution_count": null,
   "id": "3557163c",
   "metadata": {},
   "outputs": [],
   "source": [
    "cwd = os.getcwd()\n",
    "\n",
    "cwd = cwd.split('/')\n",
    "\n",
    "final_name = base_name + cwd[-1]\n",
    "print(final_name)`"
   ]
  },
  {
   "cell_type": "code",
   "execution_count": null,
   "id": "265ecb03",
   "metadata": {},
   "outputs": [],
   "source": []
  },
  {
   "cell_type": "code",
   "execution_count": null,
   "id": "edfd30be",
   "metadata": {},
   "outputs": [],
   "source": []
  }
 ],
 "metadata": {
  "kernelspec": {
   "display_name": "Python 3 (ipykernel)",
   "language": "python",
   "name": "python3"
  },
  "language_info": {
   "codemirror_mode": {
    "name": "ipython",
    "version": 3
   },
   "file_extension": ".py",
   "mimetype": "text/x-python",
   "name": "python",
   "nbconvert_exporter": "python",
   "pygments_lexer": "ipython3",
   "version": "3.10.3"
  }
 },
 "nbformat": 4,
 "nbformat_minor": 5
}
