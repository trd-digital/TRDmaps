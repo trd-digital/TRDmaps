{
 "cells": [
  {
   "cell_type": "markdown",
   "metadata": {},
   "source": [
    "## Imports"
   ]
  },
  {
   "cell_type": "code",
   "execution_count": 16,
   "metadata": {},
   "outputs": [],
   "source": [
    "from geopy.geocoders import GoogleV3\n",
    "from bs4 import BeautifulSoup\n",
    "import requests\n",
    "import time\n",
    "import pandas as pd\n",
    "import numpy as np\n",
    "import urllib3\n",
    "import re\n",
    "from textwrap import shorten\n",
    "import os\n",
    "import geopandas as gpd"
   ]
  },
  {
   "cell_type": "markdown",
   "metadata": {},
   "source": [
    "## Read-in"
   ]
  },
  {
   "cell_type": "code",
   "execution_count": 17,
   "metadata": {},
   "outputs": [],
   "source": [
    "df = pd.read_csv('KK_mortgage_map - Sheet1.csv')"
   ]
  },
  {
   "cell_type": "markdown",
   "metadata": {},
   "source": [
    "## Google Maps API Geolocater Setup"
   ]
  },
  {
   "cell_type": "code",
   "execution_count": 18,
   "metadata": {},
   "outputs": [],
   "source": [
    "%store -r google_maps_API_Key\n",
    "geolocator = GoogleV3(api_key=google_maps_API_Key)"
   ]
  },
  {
   "cell_type": "code",
   "execution_count": 19,
   "metadata": {},
   "outputs": [],
   "source": [
    "df['geo_address'] = df['full_address'] + ' Miami-Dade, FL'\n",
    "df['loc'] = df['geo_address'].apply(geolocator.geocode, timeout=10)\n",
    "df['point'] = df['loc'].apply(lambda loc: tuple(loc.point) if loc else None)\n",
    "df[['lat','lon','altitude']] = pd.DataFrame(df['point'].to_list(),index=df.index)"
   ]
  },
  {
   "cell_type": "markdown",
   "metadata": {},
   "source": [
    "## Correction Section"
   ]
  },
  {
   "cell_type": "code",
   "execution_count": 20,
   "metadata": {},
   "outputs": [
    {
     "data": {
      "text/plain": [
       "Index(['full_address', 'geo_address', 'loc', 'point', 'lat', 'lon',\n",
       "       'altitude'],\n",
       "      dtype='object')"
      ]
     },
     "execution_count": 20,
     "metadata": {},
     "output_type": "execute_result"
    }
   ],
   "source": [
    "df.columns"
   ]
  },
  {
   "cell_type": "code",
   "execution_count": 21,
   "metadata": {},
   "outputs": [
    {
     "data": {
      "text/html": [
       "<div>\n",
       "<style scoped>\n",
       "    .dataframe tbody tr th:only-of-type {\n",
       "        vertical-align: middle;\n",
       "    }\n",
       "\n",
       "    .dataframe tbody tr th {\n",
       "        vertical-align: top;\n",
       "    }\n",
       "\n",
       "    .dataframe thead th {\n",
       "        text-align: right;\n",
       "    }\n",
       "</style>\n",
       "<table border=\"1\" class=\"dataframe\">\n",
       "  <thead>\n",
       "    <tr style=\"text-align: right;\">\n",
       "      <th></th>\n",
       "      <th>full_address</th>\n",
       "      <th>geo_address</th>\n",
       "      <th>loc</th>\n",
       "      <th>point</th>\n",
       "      <th>lat</th>\n",
       "      <th>lon</th>\n",
       "      <th>altitude</th>\n",
       "    </tr>\n",
       "  </thead>\n",
       "  <tbody>\n",
       "    <tr>\n",
       "      <th>0</th>\n",
       "      <td>2308 Northwest Fifth Avenue</td>\n",
       "      <td>2308 Northwest Fifth Avenue Miami-Dade, FL</td>\n",
       "      <td>(2308 NW 5 Ave, Miami, FL 33127, USA, (25.7992...</td>\n",
       "      <td>(25.7992793, -80.20343729999999, 0.0)</td>\n",
       "      <td>25.799279</td>\n",
       "      <td>-80.203437</td>\n",
       "      <td>0.0</td>\n",
       "    </tr>\n",
       "    <tr>\n",
       "      <th>1</th>\n",
       "      <td>2300 Northwest Fifth Avenue</td>\n",
       "      <td>2300 Northwest Fifth Avenue Miami-Dade, FL</td>\n",
       "      <td>(2300 NW 5 Ave, Miami, FL 33127, USA, (25.7992...</td>\n",
       "      <td>(25.7992418, -80.2033776, 0.0)</td>\n",
       "      <td>25.799242</td>\n",
       "      <td>-80.203378</td>\n",
       "      <td>0.0</td>\n",
       "    </tr>\n",
       "    <tr>\n",
       "      <th>2</th>\n",
       "      <td>2380 Northwest Fifth Avenue</td>\n",
       "      <td>2380 Northwest Fifth Avenue Miami-Dade, FL</td>\n",
       "      <td>(2380 NW 5 Ave, Miami, FL 33127, USA, (25.7997...</td>\n",
       "      <td>(25.799798, -80.2032713, 0.0)</td>\n",
       "      <td>25.799798</td>\n",
       "      <td>-80.203271</td>\n",
       "      <td>0.0</td>\n",
       "    </tr>\n",
       "    <tr>\n",
       "      <th>3</th>\n",
       "      <td>508 Northwest 23rd Street</td>\n",
       "      <td>508 Northwest 23rd Street Miami-Dade, FL</td>\n",
       "      <td>(508 NW 23rd St, Miami, FL 33127, USA, (25.798...</td>\n",
       "      <td>(25.798875, -80.20336999999999, 0.0)</td>\n",
       "      <td>25.798875</td>\n",
       "      <td>-80.203370</td>\n",
       "      <td>0.0</td>\n",
       "    </tr>\n",
       "    <tr>\n",
       "      <th>4</th>\n",
       "      <td>514 Northwest 23rd Street</td>\n",
       "      <td>514 Northwest 23rd Street Miami-Dade, FL</td>\n",
       "      <td>(514 NW 23rd St, Miami, FL 33127, USA, (25.798...</td>\n",
       "      <td>(25.798824, -80.203464, 0.0)</td>\n",
       "      <td>25.798824</td>\n",
       "      <td>-80.203464</td>\n",
       "      <td>0.0</td>\n",
       "    </tr>\n",
       "    <tr>\n",
       "      <th>5</th>\n",
       "      <td>518 Northwest 23rd Street</td>\n",
       "      <td>518 Northwest 23rd Street Miami-Dade, FL</td>\n",
       "      <td>(518 NW 23rd St, Miami, FL 33127, USA, (25.798...</td>\n",
       "      <td>(25.798818, -80.20355599999999, 0.0)</td>\n",
       "      <td>25.798818</td>\n",
       "      <td>-80.203556</td>\n",
       "      <td>0.0</td>\n",
       "    </tr>\n",
       "    <tr>\n",
       "      <th>6</th>\n",
       "      <td>2320 Northwest Fifth Avenue</td>\n",
       "      <td>2320 Northwest Fifth Avenue Miami-Dade, FL</td>\n",
       "      <td>(2320 NW 5 Ave, Miami, FL 33127, USA, (25.7993...</td>\n",
       "      <td>(25.7993737, -80.2034809, 0.0)</td>\n",
       "      <td>25.799374</td>\n",
       "      <td>-80.203481</td>\n",
       "      <td>0.0</td>\n",
       "    </tr>\n",
       "    <tr>\n",
       "      <th>7</th>\n",
       "      <td>2324 Northwest Fifth Avenue</td>\n",
       "      <td>2324 Northwest Fifth Avenue Miami-Dade, FL</td>\n",
       "      <td>(2324 NW 5 Ave, Miami, FL 33127, USA, (25.7995...</td>\n",
       "      <td>(25.799511, -80.2034809, 0.0)</td>\n",
       "      <td>25.799511</td>\n",
       "      <td>-80.203481</td>\n",
       "      <td>0.0</td>\n",
       "    </tr>\n",
       "    <tr>\n",
       "      <th>8</th>\n",
       "      <td>2330 Northwest Fifth Avenue</td>\n",
       "      <td>2330 Northwest Fifth Avenue Miami-Dade, FL</td>\n",
       "      <td>(2330 NW 5 Ave, Miami, FL 33127, USA, (25.7996...</td>\n",
       "      <td>(25.799624, -80.203457, 0.0)</td>\n",
       "      <td>25.799624</td>\n",
       "      <td>-80.203457</td>\n",
       "      <td>0.0</td>\n",
       "    </tr>\n",
       "    <tr>\n",
       "      <th>9</th>\n",
       "      <td>490 Northwest 23rd Street</td>\n",
       "      <td>490 Northwest 23rd Street Miami-Dade, FL</td>\n",
       "      <td>(490 NW 23rd St, Homestead, FL 33030, USA, (25...</td>\n",
       "      <td>(25.7990236, -80.2026759, 0.0)</td>\n",
       "      <td>25.799024</td>\n",
       "      <td>-80.202676</td>\n",
       "      <td>0.0</td>\n",
       "    </tr>\n",
       "    <tr>\n",
       "      <th>10</th>\n",
       "      <td>435 Northwest 22nd Lane</td>\n",
       "      <td>435 Northwest 22nd Lane Miami-Dade, FL</td>\n",
       "      <td>(435 NW 22nd Ln, Miami, FL 33127, USA, (25.798...</td>\n",
       "      <td>(25.7989949, -80.2021675, 0.0)</td>\n",
       "      <td>25.798995</td>\n",
       "      <td>-80.202168</td>\n",
       "      <td>0.0</td>\n",
       "    </tr>\n",
       "    <tr>\n",
       "      <th>11</th>\n",
       "      <td>592 Northwest 22nd Street</td>\n",
       "      <td>592 Northwest 22nd Street Miami-Dade, FL</td>\n",
       "      <td>(592 NW 22nd St, Miami, FL 33127, USA, (25.797...</td>\n",
       "      <td>(25.797842, -80.204814, 0.0)</td>\n",
       "      <td>25.797842</td>\n",
       "      <td>-80.204814</td>\n",
       "      <td>0.0</td>\n",
       "    </tr>\n",
       "    <tr>\n",
       "      <th>12</th>\n",
       "      <td>598 Northwest 22nd Street</td>\n",
       "      <td>598 Northwest 22nd Street Miami-Dade, FL</td>\n",
       "      <td>(598 NW 22nd St, Miami, FL 33127, USA, (25.797...</td>\n",
       "      <td>(25.79784, -80.204927, 0.0)</td>\n",
       "      <td>25.797840</td>\n",
       "      <td>-80.204927</td>\n",
       "      <td>0.0</td>\n",
       "    </tr>\n",
       "    <tr>\n",
       "      <th>13</th>\n",
       "      <td>587 Northwest 22nd Street</td>\n",
       "      <td>587 Northwest 22nd Street Miami-Dade, FL</td>\n",
       "      <td>(587 NW 22nd St, Miami, FL 33127, USA, (25.798...</td>\n",
       "      <td>(25.798345, -80.204892, 0.0)</td>\n",
       "      <td>25.798345</td>\n",
       "      <td>-80.204892</td>\n",
       "      <td>0.0</td>\n",
       "    </tr>\n",
       "    <tr>\n",
       "      <th>14</th>\n",
       "      <td>2155 Northwest Sixth Avenue</td>\n",
       "      <td>2155 Northwest Sixth Avenue Miami-Dade, FL</td>\n",
       "      <td>(2155 NW 6th Ave, Miami, FL 33127, USA, (25.79...</td>\n",
       "      <td>(25.797505, -80.204864, 0.0)</td>\n",
       "      <td>25.797505</td>\n",
       "      <td>-80.204864</td>\n",
       "      <td>0.0</td>\n",
       "    </tr>\n",
       "    <tr>\n",
       "      <th>15</th>\n",
       "      <td>550 Northwest 24th Street</td>\n",
       "      <td>550 Northwest 24th Street Miami-Dade, FL</td>\n",
       "      <td>(550 NW 24th St, Miami, FL 33127, USA, (25.799...</td>\n",
       "      <td>(25.7994305, -80.20398209999999, 0.0)</td>\n",
       "      <td>25.799430</td>\n",
       "      <td>-80.203982</td>\n",
       "      <td>0.0</td>\n",
       "    </tr>\n",
       "    <tr>\n",
       "      <th>16</th>\n",
       "      <td>567 Northwest 23rd Street</td>\n",
       "      <td>567 Northwest 23rd Street Miami-Dade, FL</td>\n",
       "      <td>(567 NW 23rd St, Miami, FL 33125, USA, (25.799...</td>\n",
       "      <td>(25.7993262, -80.20433589999999, 0.0)</td>\n",
       "      <td>25.799326</td>\n",
       "      <td>-80.204336</td>\n",
       "      <td>0.0</td>\n",
       "    </tr>\n",
       "  </tbody>\n",
       "</table>\n",
       "</div>"
      ],
      "text/plain": [
       "                   full_address                                 geo_address  \\\n",
       "0   2308 Northwest Fifth Avenue  2308 Northwest Fifth Avenue Miami-Dade, FL   \n",
       "1   2300 Northwest Fifth Avenue  2300 Northwest Fifth Avenue Miami-Dade, FL   \n",
       "2   2380 Northwest Fifth Avenue  2380 Northwest Fifth Avenue Miami-Dade, FL   \n",
       "3     508 Northwest 23rd Street    508 Northwest 23rd Street Miami-Dade, FL   \n",
       "4     514 Northwest 23rd Street    514 Northwest 23rd Street Miami-Dade, FL   \n",
       "5     518 Northwest 23rd Street    518 Northwest 23rd Street Miami-Dade, FL   \n",
       "6   2320 Northwest Fifth Avenue  2320 Northwest Fifth Avenue Miami-Dade, FL   \n",
       "7   2324 Northwest Fifth Avenue  2324 Northwest Fifth Avenue Miami-Dade, FL   \n",
       "8   2330 Northwest Fifth Avenue  2330 Northwest Fifth Avenue Miami-Dade, FL   \n",
       "9     490 Northwest 23rd Street    490 Northwest 23rd Street Miami-Dade, FL   \n",
       "10      435 Northwest 22nd Lane      435 Northwest 22nd Lane Miami-Dade, FL   \n",
       "11    592 Northwest 22nd Street    592 Northwest 22nd Street Miami-Dade, FL   \n",
       "12    598 Northwest 22nd Street    598 Northwest 22nd Street Miami-Dade, FL   \n",
       "13    587 Northwest 22nd Street    587 Northwest 22nd Street Miami-Dade, FL   \n",
       "14  2155 Northwest Sixth Avenue  2155 Northwest Sixth Avenue Miami-Dade, FL   \n",
       "15    550 Northwest 24th Street    550 Northwest 24th Street Miami-Dade, FL   \n",
       "16    567 Northwest 23rd Street    567 Northwest 23rd Street Miami-Dade, FL   \n",
       "\n",
       "                                                  loc  \\\n",
       "0   (2308 NW 5 Ave, Miami, FL 33127, USA, (25.7992...   \n",
       "1   (2300 NW 5 Ave, Miami, FL 33127, USA, (25.7992...   \n",
       "2   (2380 NW 5 Ave, Miami, FL 33127, USA, (25.7997...   \n",
       "3   (508 NW 23rd St, Miami, FL 33127, USA, (25.798...   \n",
       "4   (514 NW 23rd St, Miami, FL 33127, USA, (25.798...   \n",
       "5   (518 NW 23rd St, Miami, FL 33127, USA, (25.798...   \n",
       "6   (2320 NW 5 Ave, Miami, FL 33127, USA, (25.7993...   \n",
       "7   (2324 NW 5 Ave, Miami, FL 33127, USA, (25.7995...   \n",
       "8   (2330 NW 5 Ave, Miami, FL 33127, USA, (25.7996...   \n",
       "9   (490 NW 23rd St, Homestead, FL 33030, USA, (25...   \n",
       "10  (435 NW 22nd Ln, Miami, FL 33127, USA, (25.798...   \n",
       "11  (592 NW 22nd St, Miami, FL 33127, USA, (25.797...   \n",
       "12  (598 NW 22nd St, Miami, FL 33127, USA, (25.797...   \n",
       "13  (587 NW 22nd St, Miami, FL 33127, USA, (25.798...   \n",
       "14  (2155 NW 6th Ave, Miami, FL 33127, USA, (25.79...   \n",
       "15  (550 NW 24th St, Miami, FL 33127, USA, (25.799...   \n",
       "16  (567 NW 23rd St, Miami, FL 33125, USA, (25.799...   \n",
       "\n",
       "                                    point        lat        lon  altitude  \n",
       "0   (25.7992793, -80.20343729999999, 0.0)  25.799279 -80.203437       0.0  \n",
       "1          (25.7992418, -80.2033776, 0.0)  25.799242 -80.203378       0.0  \n",
       "2           (25.799798, -80.2032713, 0.0)  25.799798 -80.203271       0.0  \n",
       "3    (25.798875, -80.20336999999999, 0.0)  25.798875 -80.203370       0.0  \n",
       "4            (25.798824, -80.203464, 0.0)  25.798824 -80.203464       0.0  \n",
       "5    (25.798818, -80.20355599999999, 0.0)  25.798818 -80.203556       0.0  \n",
       "6          (25.7993737, -80.2034809, 0.0)  25.799374 -80.203481       0.0  \n",
       "7           (25.799511, -80.2034809, 0.0)  25.799511 -80.203481       0.0  \n",
       "8            (25.799624, -80.203457, 0.0)  25.799624 -80.203457       0.0  \n",
       "9          (25.7990236, -80.2026759, 0.0)  25.799024 -80.202676       0.0  \n",
       "10         (25.7989949, -80.2021675, 0.0)  25.798995 -80.202168       0.0  \n",
       "11           (25.797842, -80.204814, 0.0)  25.797842 -80.204814       0.0  \n",
       "12            (25.79784, -80.204927, 0.0)  25.797840 -80.204927       0.0  \n",
       "13           (25.798345, -80.204892, 0.0)  25.798345 -80.204892       0.0  \n",
       "14           (25.797505, -80.204864, 0.0)  25.797505 -80.204864       0.0  \n",
       "15  (25.7994305, -80.20398209999999, 0.0)  25.799430 -80.203982       0.0  \n",
       "16  (25.7993262, -80.20433589999999, 0.0)  25.799326 -80.204336       0.0  "
      ]
     },
     "execution_count": 21,
     "metadata": {},
     "output_type": "execute_result"
    }
   ],
   "source": [
    "df"
   ]
  },
  {
   "cell_type": "markdown",
   "metadata": {},
   "source": [
    "## Correction section"
   ]
  },
  {
   "cell_type": "code",
   "execution_count": 22,
   "metadata": {},
   "outputs": [],
   "source": [
    "# df.at[0,'Net decline in footprint, in sf']=('Almost 200K sf')\n",
    "# df.at[1,'Address(es) of space company vacated or plans to vacate, in sf']=('690 East Middlefield Road, Mountain View. Synopsys is subletting the entire building to Waymo.')\n",
    "\n",
    "### Change value to percent value\n",
    "### df['percent_change'] = pd.Series(['{0:.2f}%'.format(val) for val in df['percent_change']], index = df.index)"
   ]
  },
  {
   "cell_type": "markdown",
   "metadata": {},
   "source": [
    "## HTML popup formatter"
   ]
  },
  {
   "cell_type": "code",
   "execution_count": 23,
   "metadata": {},
   "outputs": [
    {
     "data": {
      "text/plain": [
       "Index(['full_address', 'geo_address', 'loc', 'point', 'lat', 'lon',\n",
       "       'altitude'],\n",
       "      dtype='object')"
      ]
     },
     "execution_count": 23,
     "metadata": {},
     "output_type": "execute_result"
    }
   ],
   "source": [
    "df.columns"
   ]
  },
  {
   "cell_type": "code",
   "execution_count": 24,
   "metadata": {},
   "outputs": [],
   "source": [
    "def popup_html(row):\n",
    "    i = row\n",
    "    address = df['full_address'].iloc[i]\n",
    "    \n",
    "    html = '''<!DOCTYPE html>\n",
    "    <html>\n",
    "    Address: <strong>{}'''.format(address) + '''</strong><br>\n",
    "    </html>\n",
    "    '''\n",
    "    return html\n"
   ]
  },
  {
   "cell_type": "markdown",
   "metadata": {},
   "source": [
    "### HTML reservoir"
   ]
  },
  {
   "cell_type": "code",
   "execution_count": 25,
   "metadata": {},
   "outputs": [],
   "source": [
    "#     Developer(s): <strong><em>{}'''.format(developer) + '''</strong></em><br><br>"
   ]
  },
  {
   "cell_type": "markdown",
   "metadata": {},
   "source": [
    "## Map Maker"
   ]
  },
  {
   "cell_type": "code",
   "execution_count": 26,
   "metadata": {},
   "outputs": [
    {
     "ename": "AttributeError",
     "evalue": "'DataFrame' object has no attribute 'description_link'",
     "output_type": "error",
     "traceback": [
      "\u001b[0;31m---------------------------------------------------------------------------\u001b[0m",
      "\u001b[0;31mAttributeError\u001b[0m                            Traceback (most recent call last)",
      "Input \u001b[0;32mIn [26]\u001b[0m, in \u001b[0;36m<cell line: 1>\u001b[0;34m()\u001b[0m\n\u001b[0;32m----> 1\u001b[0m \u001b[43mdf\u001b[49m\u001b[38;5;241;43m.\u001b[39;49m\u001b[43mdescription_link\u001b[49m[\u001b[38;5;241m0\u001b[39m]\n",
      "File \u001b[0;32m~/.pyenv/versions/3.10.3/lib/python3.10/site-packages/pandas/core/generic.py:5575\u001b[0m, in \u001b[0;36mNDFrame.__getattr__\u001b[0;34m(self, name)\u001b[0m\n\u001b[1;32m   5568\u001b[0m \u001b[38;5;28;01mif\u001b[39;00m (\n\u001b[1;32m   5569\u001b[0m     name \u001b[38;5;129;01mnot\u001b[39;00m \u001b[38;5;129;01min\u001b[39;00m \u001b[38;5;28mself\u001b[39m\u001b[38;5;241m.\u001b[39m_internal_names_set\n\u001b[1;32m   5570\u001b[0m     \u001b[38;5;129;01mand\u001b[39;00m name \u001b[38;5;129;01mnot\u001b[39;00m \u001b[38;5;129;01min\u001b[39;00m \u001b[38;5;28mself\u001b[39m\u001b[38;5;241m.\u001b[39m_metadata\n\u001b[1;32m   5571\u001b[0m     \u001b[38;5;129;01mand\u001b[39;00m name \u001b[38;5;129;01mnot\u001b[39;00m \u001b[38;5;129;01min\u001b[39;00m \u001b[38;5;28mself\u001b[39m\u001b[38;5;241m.\u001b[39m_accessors\n\u001b[1;32m   5572\u001b[0m     \u001b[38;5;129;01mand\u001b[39;00m \u001b[38;5;28mself\u001b[39m\u001b[38;5;241m.\u001b[39m_info_axis\u001b[38;5;241m.\u001b[39m_can_hold_identifiers_and_holds_name(name)\n\u001b[1;32m   5573\u001b[0m ):\n\u001b[1;32m   5574\u001b[0m     \u001b[38;5;28;01mreturn\u001b[39;00m \u001b[38;5;28mself\u001b[39m[name]\n\u001b[0;32m-> 5575\u001b[0m \u001b[38;5;28;01mreturn\u001b[39;00m \u001b[38;5;28;43mobject\u001b[39;49m\u001b[38;5;241;43m.\u001b[39;49m\u001b[38;5;21;43m__getattribute__\u001b[39;49m\u001b[43m(\u001b[49m\u001b[38;5;28;43mself\u001b[39;49m\u001b[43m,\u001b[49m\u001b[43m \u001b[49m\u001b[43mname\u001b[49m\u001b[43m)\u001b[49m\n",
      "\u001b[0;31mAttributeError\u001b[0m: 'DataFrame' object has no attribute 'description_link'"
     ]
    }
   ],
   "source": [
    "df.description_link[0]"
   ]
  },
  {
   "cell_type": "code",
   "execution_count": null,
   "metadata": {
    "scrolled": false
   },
   "outputs": [],
   "source": [
    "import folium\n",
    "import branca\n",
    "\n",
    "f = folium.Figure(width=750, height=750)\n",
    "m = folium.Map(location=df[[\"lat\", \"lon\"]].mean().to_list(),zoom_start=14)\n",
    "\n",
    "title_html = '''\n",
    "              <h3 align=\"center\" style=\"font-size:16px\"><b>{}</b></h3>\n",
    "             '''.format(f\"Mana's Wynwood properties backing $275M credit line\")\n",
    "\n",
    "for i in range(0,len(df)):\n",
    "    html = popup_html(i)\n",
    "    iframe = branca.element.IFrame(html=html)\n",
    "    popup = folium.Popup(folium.Html(html, script=True))\n",
    "    folium.Marker([df['lat'].iloc[i],df['lon'].iloc[i]],\n",
    "                 popup=popup).add_to(m)\n",
    "\n",
    "m.get_root().html.add_child(folium.Element(title_html))\n",
    "m.fit_bounds(bounds=df[['lat','lon']].mean().to_list(),max_zoom=15)\n",
    "# m.add_to(f)\n",
    "m"
   ]
  },
  {
   "cell_type": "code",
   "execution_count": null,
   "metadata": {},
   "outputs": [],
   "source": [
    "m.save('index.html')"
   ]
  },
  {
   "cell_type": "markdown",
   "metadata": {},
   "source": [
    "## Map URL snagger"
   ]
  },
  {
   "cell_type": "markdown",
   "metadata": {},
   "source": [
    "Map template URL: `https://trd-digital.github.io/trd-news-interactive-maps/{map-folder-name}`"
   ]
  },
  {
   "cell_type": "code",
   "execution_count": null,
   "metadata": {},
   "outputs": [],
   "source": [
    "base_name = 'https://trd-digital.github.io/trd-news-interactive-maps/'"
   ]
  },
  {
   "cell_type": "code",
   "execution_count": null,
   "metadata": {},
   "outputs": [],
   "source": [
    "cwd = os.getcwd()\n",
    "\n",
    "cwd = cwd.split('/')\n",
    "\n",
    "final_name = base_name + cwd[-1]\n",
    "print(final_name)"
   ]
  }
 ],
 "metadata": {
  "kernelspec": {
   "display_name": "Python 3 (ipykernel)",
   "language": "python",
   "name": "python3"
  },
  "language_info": {
   "codemirror_mode": {
    "name": "ipython",
    "version": 3
   },
   "file_extension": ".py",
   "mimetype": "text/x-python",
   "name": "python",
   "nbconvert_exporter": "python",
   "pygments_lexer": "ipython3",
   "version": "3.10.3"
  },
  "toc": {
   "base_numbering": 1,
   "nav_menu": {},
   "number_sections": true,
   "sideBar": true,
   "skip_h1_title": false,
   "title_cell": "Table of Contents",
   "title_sidebar": "Contents",
   "toc_cell": false,
   "toc_position": {},
   "toc_section_display": true,
   "toc_window_display": false
  }
 },
 "nbformat": 4,
 "nbformat_minor": 4
}
