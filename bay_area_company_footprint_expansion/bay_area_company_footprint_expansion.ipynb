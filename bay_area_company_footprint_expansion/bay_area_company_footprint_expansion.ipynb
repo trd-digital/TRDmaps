{
 "cells": [
  {
   "cell_type": "markdown",
   "metadata": {},
   "source": [
    "## Imports"
   ]
  },
  {
   "cell_type": "code",
   "execution_count": 2,
   "metadata": {},
   "outputs": [],
   "source": [
    "from geopy.geocoders import GoogleV3\n",
    "from bs4 import BeautifulSoup\n",
    "import requests\n",
    "import time\n",
    "import pandas as pd\n",
    "import numpy as np\n",
    "import urllib3\n",
    "import re\n",
    "from textwrap import shorten\n",
    "import os"
   ]
  },
  {
   "cell_type": "code",
   "execution_count": 3,
   "metadata": {},
   "outputs": [],
   "source": [
    "df = pd.read_csv('Bay Area companies expanding their footprints, Jan. 1, 2022 to July 5, 2022 - Sheet1.csv')"
   ]
  },
  {
   "cell_type": "code",
   "execution_count": 4,
   "metadata": {},
   "outputs": [
    {
     "data": {
      "text/plain": [
       "Index(['Company name', 'Home city', 'Category ',\n",
       "       'Address(es) company expanded into ',\n",
       "       'Net size of expansion, in square feet',\n",
       "       'Direct lease, purchase or sublease?', 'Sublessor (if sublease)',\n",
       "       'Date TRD wrote about expansion', 'Link to story'],\n",
       "      dtype='object')"
      ]
     },
     "execution_count": 4,
     "metadata": {},
     "output_type": "execute_result"
    }
   ],
   "source": [
    "df.columns"
   ]
  },
  {
   "cell_type": "markdown",
   "metadata": {},
   "source": [
    "## Image URL collector"
   ]
  },
  {
   "cell_type": "code",
   "execution_count": 63,
   "metadata": {},
   "outputs": [],
   "source": [
    "# Drop last n rows of a df. In case there are sums that need clipped\n",
    "# df.drop(df.tail(n).index, inplace=True)"
   ]
  },
  {
   "cell_type": "code",
   "execution_count": 5,
   "metadata": {},
   "outputs": [],
   "source": [
    "df['image_links'] = ''\n",
    "links = []\n",
    "for url in df['Link to story']:\n",
    "    try:\n",
    "        page = requests.get(url)\n",
    "        soup = BeautifulSoup(page.content, 'html.parser')\n",
    "        images = soup.find_all('img')\n",
    "        counter = 0\n",
    "        for image in images:\n",
    "            counter += 1\n",
    "            if 'jpg' in image['src']:\n",
    "                links.append(image['src'])\n",
    "                if counter == len(images):\n",
    "                    links.append('no image found')\n",
    "                break\n",
    "    except:\n",
    "        links.append('no_image')\n",
    "\n",
    "df['image_links'] = links"
   ]
  },
  {
   "cell_type": "markdown",
   "metadata": {},
   "source": [
    "## Article link formatter"
   ]
  },
  {
   "cell_type": "code",
   "execution_count": 6,
   "metadata": {},
   "outputs": [
    {
     "data": {
      "text/plain": [
       "18"
      ]
     },
     "execution_count": 6,
     "metadata": {},
     "output_type": "execute_result"
    }
   ],
   "source": [
    "len(links)"
   ]
  },
  {
   "cell_type": "code",
   "execution_count": 7,
   "metadata": {},
   "outputs": [
    {
     "data": {
      "text/plain": [
       "0            Procept BioRobotics\n",
       "1             Applied Materials \n",
       "2                  Graphite Bio \n",
       "3                Iconiq Capital \n",
       "4                  Pure Storage \n",
       "5                         Waymo \n",
       "6                         Apple \n",
       "7                         Amazon\n",
       "8          InterVenn Biosciences\n",
       "9          Third Wave Automation\n",
       "10    Dependable Highway Express\n",
       "11                        Amazon\n",
       "12                       Twitter\n",
       "13                PCC Logistics \n",
       "14           Eikon Therapeutics \n",
       "15                       TireHub\n",
       "16                     Logitech \n",
       "17                  Google Cloud\n",
       "Name: Company name, dtype: object"
      ]
     },
     "execution_count": 7,
     "metadata": {},
     "output_type": "execute_result"
    }
   ],
   "source": [
    "df['Company name']"
   ]
  },
  {
   "cell_type": "code",
   "execution_count": 8,
   "metadata": {},
   "outputs": [
    {
     "data": {
      "text/plain": [
       "0     <a href=\"https://therealdeal.com/sanfrancisco/...\n",
       "1     <a href=\"https://therealdeal.com/sanfrancisco/...\n",
       "2     <a href=\"https://therealdeal.com/sanfrancisco/...\n",
       "3     <a href=\"https://therealdeal.com/sanfrancisco/...\n",
       "4     <a href=\"https://therealdeal.com/sanfrancisco/...\n",
       "5     <a href=\"https://therealdeal.com/sanfrancisco/...\n",
       "6     <a href=\"https://therealdeal.com/sanfrancisco/...\n",
       "7     <a href=\"https://therealdeal.com/sanfrancisco/...\n",
       "8     <a href=\"https://therealdeal.com/sanfrancisco/...\n",
       "9     <a href=\"https://therealdeal.com/sanfrancisco/...\n",
       "10    <a href=\"https://therealdeal.com/sanfrancisco/...\n",
       "11    <a href=\"https://therealdeal.com/sanfrancisco/...\n",
       "12    <a href=\"https://therealdeal.com/sanfrancisco/...\n",
       "13    <a href=\"https://therealdeal.com/sanfrancisco/...\n",
       "14    <a href=\"https://therealdeal.com/sanfrancisco/...\n",
       "15    <a href=\"https://therealdeal.com/sanfrancisco/...\n",
       "16    <a href=\"https://therealdeal.com/sanfrancisco/...\n",
       "17    <a href=\"https://therealdeal.com/sanfrancisco/...\n",
       "Name: description_link, dtype: object"
      ]
     },
     "execution_count": 8,
     "metadata": {},
     "output_type": "execute_result"
    }
   ],
   "source": [
    "df[\"short_description\"] = df[\"Company name\"].apply(lambda s: shorten(s, width=20, placeholder=\"\"))\n",
    "df['remaining_desc'] = df.apply(lambda row : row['Company name'].replace(str(row['short_description']), ''), axis=1)\n",
    "df['remaining_desc']\n",
    "\n",
    "df[\"description_link\"] = '<a href=\"' + df[\"Link to story\"] + '\">' + df[\"short_description\"] + \"</a>\" + df[\"remaining_desc\"]\n",
    "df['description_link']"
   ]
  },
  {
   "cell_type": "code",
   "execution_count": 9,
   "metadata": {},
   "outputs": [
    {
     "data": {
      "text/plain": [
       "'<a href=\"https://therealdeal.com/sanfrancisco/2022/01/06/redwood-city-robotics-company-leases-158k-sf-for-new-san-jose-hq/\">Procept BioRobotics</a>'"
      ]
     },
     "execution_count": 9,
     "metadata": {},
     "output_type": "execute_result"
    }
   ],
   "source": [
    "df.description_link[0]"
   ]
  },
  {
   "cell_type": "markdown",
   "metadata": {},
   "source": [
    "## Google Maps API Geolocater Setup"
   ]
  },
  {
   "cell_type": "code",
   "execution_count": 10,
   "metadata": {},
   "outputs": [],
   "source": [
    "%store -r google_maps_API_Key\n",
    "geolocator = GoogleV3(api_key=google_maps_API_Key)"
   ]
  },
  {
   "cell_type": "code",
   "execution_count": 11,
   "metadata": {},
   "outputs": [],
   "source": [
    "df['geo_address'] = df['Address(es) company expanded into '] + ' CA'\n",
    "df['loc'] = df['geo_address'].apply(geolocator.geocode, timeout=10)\n",
    "df['point'] = df['loc'].apply(lambda loc: tuple(loc.point) if loc else None)\n",
    "df[['lat','lon','altitude']] = pd.DataFrame(df['point'].to_list(),index=df.index)"
   ]
  },
  {
   "cell_type": "markdown",
   "metadata": {},
   "source": [
    "## HTML popup formatter"
   ]
  },
  {
   "cell_type": "code",
   "execution_count": 12,
   "metadata": {},
   "outputs": [],
   "source": [
    "def popup_html(row):\n",
    "    i = row\n",
    "    address = df['Address(es) company expanded into '].iloc[i]\n",
    "    developer = df['Net size of expansion, in square feet'].iloc[i]\n",
    "    description = df['description_link'].iloc[i]\n",
    "    image = df['image_links'].iloc[i]\n",
    "    \n",
    "    html = '''<!DOCTYPE html>\n",
    "    <html>\n",
    "    <img src={} width=\"256\" height=\"156\">'''.format(image) + '''<br>______________________________________<br>\n",
    "    Address: <em>{}'''.format(address) + '''</em><br>\n",
    "    Size of property: <strong><em>{}'''.format(developer) + '''</strong></em><br><br>\n",
    "    Company Name: <strong>{}'''.format(description) + '''</strong></html>\n",
    "    '''\n",
    "    return html\n"
   ]
  },
  {
   "cell_type": "markdown",
   "metadata": {},
   "source": [
    "### HTML reservoir"
   ]
  },
  {
   "cell_type": "code",
   "execution_count": 72,
   "metadata": {},
   "outputs": [],
   "source": [
    "#     Developer(s): <strong><em>{}'''.format(developer) + '''</strong></em><br><br>"
   ]
  },
  {
   "cell_type": "markdown",
   "metadata": {},
   "source": [
    "## Map Maker"
   ]
  },
  {
   "cell_type": "code",
   "execution_count": 13,
   "metadata": {},
   "outputs": [
    {
     "data": {
      "text/plain": [
       "'<a href=\"https://therealdeal.com/sanfrancisco/2022/01/06/redwood-city-robotics-company-leases-158k-sf-for-new-san-jose-hq/\">Procept BioRobotics</a>'"
      ]
     },
     "execution_count": 13,
     "metadata": {},
     "output_type": "execute_result"
    }
   ],
   "source": [
    "df.description_link[0]"
   ]
  },
  {
   "cell_type": "code",
   "execution_count": 14,
   "metadata": {},
   "outputs": [
    {
     "data": {
      "text/html": [
       "<div style=\"width:100%;\"><div style=\"position:relative;width:100%;height:0;padding-bottom:60%;\"><span style=\"color:#565656\">Make this Notebook Trusted to load map: File -> Trust Notebook</span><iframe srcdoc=\"&lt;!DOCTYPE html&gt;\n",
       "&lt;head&gt;    \n",
       "    &lt;meta http-equiv=&quot;content-type&quot; content=&quot;text/html; charset=UTF-8&quot; /&gt;\n",
       "    \n",
       "        &lt;script&gt;\n",
       "            L_NO_TOUCH = false;\n",
       "            L_DISABLE_3D = false;\n",
       "        &lt;/script&gt;\n",
       "    \n",
       "    &lt;style&gt;html, body {width: 100%;height: 100%;margin: 0;padding: 0;}&lt;/style&gt;\n",
       "    &lt;style&gt;#map {position:absolute;top:0;bottom:0;right:0;left:0;}&lt;/style&gt;\n",
       "    &lt;script src=&quot;https://cdn.jsdelivr.net/npm/leaflet@1.6.0/dist/leaflet.js&quot;&gt;&lt;/script&gt;\n",
       "    &lt;script src=&quot;https://code.jquery.com/jquery-1.12.4.min.js&quot;&gt;&lt;/script&gt;\n",
       "    &lt;script src=&quot;https://maxcdn.bootstrapcdn.com/bootstrap/3.2.0/js/bootstrap.min.js&quot;&gt;&lt;/script&gt;\n",
       "    &lt;script src=&quot;https://cdnjs.cloudflare.com/ajax/libs/Leaflet.awesome-markers/2.0.2/leaflet.awesome-markers.js&quot;&gt;&lt;/script&gt;\n",
       "    &lt;link rel=&quot;stylesheet&quot; href=&quot;https://cdn.jsdelivr.net/npm/leaflet@1.6.0/dist/leaflet.css&quot;/&gt;\n",
       "    &lt;link rel=&quot;stylesheet&quot; href=&quot;https://maxcdn.bootstrapcdn.com/bootstrap/3.2.0/css/bootstrap.min.css&quot;/&gt;\n",
       "    &lt;link rel=&quot;stylesheet&quot; href=&quot;https://maxcdn.bootstrapcdn.com/bootstrap/3.2.0/css/bootstrap-theme.min.css&quot;/&gt;\n",
       "    &lt;link rel=&quot;stylesheet&quot; href=&quot;https://maxcdn.bootstrapcdn.com/font-awesome/4.6.3/css/font-awesome.min.css&quot;/&gt;\n",
       "    &lt;link rel=&quot;stylesheet&quot; href=&quot;https://cdnjs.cloudflare.com/ajax/libs/Leaflet.awesome-markers/2.0.2/leaflet.awesome-markers.css&quot;/&gt;\n",
       "    &lt;link rel=&quot;stylesheet&quot; href=&quot;https://cdn.jsdelivr.net/gh/python-visualization/folium/folium/templates/leaflet.awesome.rotate.min.css&quot;/&gt;\n",
       "    \n",
       "            &lt;meta name=&quot;viewport&quot; content=&quot;width=device-width,\n",
       "                initial-scale=1.0, maximum-scale=1.0, user-scalable=no&quot; /&gt;\n",
       "            &lt;style&gt;\n",
       "                #map_e23f58a349a93cae01f7849ad5f6835b {\n",
       "                    position: relative;\n",
       "                    width: 100.0%;\n",
       "                    height: 100.0%;\n",
       "                    left: 0.0%;\n",
       "                    top: 0.0%;\n",
       "                }\n",
       "            &lt;/style&gt;\n",
       "        \n",
       "&lt;/head&gt;\n",
       "&lt;body&gt;    \n",
       "    \n",
       "              &lt;h3 align=&quot;center&quot; style=&quot;font-size:16px&quot;&gt;&lt;b&gt;Bay Area companies expanding their footprints, Jan. 1, 2022 to July 5, 2022&lt;/b&gt;&lt;/h3&gt;\n",
       "             \n",
       "    \n",
       "            &lt;div class=&quot;folium-map&quot; id=&quot;map_e23f58a349a93cae01f7849ad5f6835b&quot; &gt;&lt;/div&gt;\n",
       "        \n",
       "&lt;/body&gt;\n",
       "&lt;script&gt;    \n",
       "    \n",
       "            var map_e23f58a349a93cae01f7849ad5f6835b = L.map(\n",
       "                &quot;map_e23f58a349a93cae01f7849ad5f6835b&quot;,\n",
       "                {\n",
       "                    center: [37.610794194444445, -122.19012813333335],\n",
       "                    crs: L.CRS.EPSG3857,\n",
       "                    zoom: 9,\n",
       "                    zoomControl: true,\n",
       "                    preferCanvas: false,\n",
       "                }\n",
       "            );\n",
       "\n",
       "            \n",
       "\n",
       "        \n",
       "    \n",
       "            var tile_layer_694d683e1e1e4e15a19c3b614682d33f = L.tileLayer(\n",
       "                &quot;https://{s}.tile.openstreetmap.org/{z}/{x}/{y}.png&quot;,\n",
       "                {&quot;attribution&quot;: &quot;Data by \\u0026copy; \\u003ca href=\\&quot;http://openstreetmap.org\\&quot;\\u003eOpenStreetMap\\u003c/a\\u003e, under \\u003ca href=\\&quot;http://www.openstreetmap.org/copyright\\&quot;\\u003eODbL\\u003c/a\\u003e.&quot;, &quot;detectRetina&quot;: false, &quot;maxNativeZoom&quot;: 18, &quot;maxZoom&quot;: 18, &quot;minZoom&quot;: 0, &quot;noWrap&quot;: false, &quot;opacity&quot;: 1, &quot;subdomains&quot;: &quot;abc&quot;, &quot;tms&quot;: false}\n",
       "            ).addTo(map_e23f58a349a93cae01f7849ad5f6835b);\n",
       "        \n",
       "    \n",
       "            var marker_5df12bf68406feb2459a8e4c8a7958bf = L.marker(\n",
       "                [37.4203331, -121.9535324],\n",
       "                {}\n",
       "            ).addTo(map_e23f58a349a93cae01f7849ad5f6835b);\n",
       "        \n",
       "    \n",
       "        var popup_07f1cfb1a4e2fa4a249f9a454cca4ee6 = L.popup({&quot;maxWidth&quot;: &quot;100%&quot;});\n",
       "\n",
       "        \n",
       "            var html_e1f10159cddb688a8bbc288f4ee12817 = $(`&lt;div id=&quot;html_e1f10159cddb688a8bbc288f4ee12817&quot; style=&quot;width: 100.0%; height: 100.0%;&quot;&gt;&lt;!DOCTYPE html&gt;     &lt;html&gt;     &lt;img src=https://therealdeal.com/sanfrancisco/wp-content/uploads/2022/01/SFO-Redwood-City-robotics-company-leases-158K-sf-site-of-new-San-Jose-HQ-MAIN-r1-705x439.jpg width=&quot;256&quot; height=&quot;156&quot;&gt;&lt;br&gt;______________________________________&lt;br&gt;     Address: &lt;em&gt;150-160 Baytech Drive, San Jose&lt;/em&gt;&lt;br&gt;     Size of property: &lt;strong&gt;&lt;em&gt;About 110K sf &lt;/strong&gt;&lt;/em&gt;&lt;br&gt;&lt;br&gt;     Company Name: &lt;strong&gt;&lt;a href=&quot;https://therealdeal.com/sanfrancisco/2022/01/06/redwood-city-robotics-company-leases-158k-sf-for-new-san-jose-hq/&quot;&gt;Procept BioRobotics&lt;/a&gt;&lt;/strong&gt;&lt;/html&gt;     &lt;/div&gt;`)[0];\n",
       "            popup_07f1cfb1a4e2fa4a249f9a454cca4ee6.setContent(html_e1f10159cddb688a8bbc288f4ee12817);\n",
       "        \n",
       "\n",
       "        marker_5df12bf68406feb2459a8e4c8a7958bf.bindPopup(popup_07f1cfb1a4e2fa4a249f9a454cca4ee6)\n",
       "        ;\n",
       "\n",
       "        \n",
       "    \n",
       "    \n",
       "            var marker_c062469f2e993332831b42a5aa37aff8 = L.marker(\n",
       "                [37.3820063, -121.9813465],\n",
       "                {}\n",
       "            ).addTo(map_e23f58a349a93cae01f7849ad5f6835b);\n",
       "        \n",
       "    \n",
       "        var popup_1d623b4134d9ab03f312650df59517ae = L.popup({&quot;maxWidth&quot;: &quot;100%&quot;});\n",
       "\n",
       "        \n",
       "            var html_6786b5de2b64e10b27db05e0adcd75a1 = $(`&lt;div id=&quot;html_6786b5de2b64e10b27db05e0adcd75a1&quot; style=&quot;width: 100.0%; height: 100.0%;&quot;&gt;&lt;!DOCTYPE html&gt;     &lt;html&gt;     &lt;img src=https://therealdeal.com/sanfrancisco/wp-content/uploads/2022/04/SFO-Applied-Materials-signs-246K-sf-office-sublease-in-Santa-Clara-as-business-booms-MAIN-705x439.jpg width=&quot;256&quot; height=&quot;156&quot;&gt;&lt;br&gt;______________________________________&lt;br&gt;     Address: &lt;em&gt;3333 Scott Boulevard, Santa Clara&lt;/em&gt;&lt;br&gt;     Size of property: &lt;strong&gt;&lt;em&gt;246K sf&lt;/strong&gt;&lt;/em&gt;&lt;br&gt;&lt;br&gt;     Company Name: &lt;strong&gt;&lt;a href=&quot;https://therealdeal.com/sanfrancisco/2022/05/02/bright-spot-for-santa-clara-office-market-as-applied-materials-subleases-246k-sf-from-hpe/&quot;&gt;Applied Materials&lt;/a&gt; &lt;/strong&gt;&lt;/html&gt;     &lt;/div&gt;`)[0];\n",
       "            popup_1d623b4134d9ab03f312650df59517ae.setContent(html_6786b5de2b64e10b27db05e0adcd75a1);\n",
       "        \n",
       "\n",
       "        marker_c062469f2e993332831b42a5aa37aff8.bindPopup(popup_1d623b4134d9ab03f312650df59517ae)\n",
       "        ;\n",
       "\n",
       "        \n",
       "    \n",
       "    \n",
       "            var marker_0ce17737082f3c71176aca53caf3ff7e = L.marker(\n",
       "                [37.65485049999999, -122.3967284],\n",
       "                {}\n",
       "            ).addTo(map_e23f58a349a93cae01f7849ad5f6835b);\n",
       "        \n",
       "    \n",
       "        var popup_c64e13da4fd280f5f764bcd051e97b9a = L.popup({&quot;maxWidth&quot;: &quot;100%&quot;});\n",
       "\n",
       "        \n",
       "            var html_3451cb57cb2d3dca765c90db4c82e993 = $(`&lt;div id=&quot;html_3451cb57cb2d3dca765c90db4c82e993&quot; style=&quot;width: 100.0%; height: 100.0%;&quot;&gt;&lt;!DOCTYPE html&gt;     &lt;html&gt;     &lt;img src=https://therealdeal.com/sanfrancisco/wp-content/uploads/2022/01/Main_relocation.jpg width=&quot;256&quot; height=&quot;156&quot;&gt;&lt;br&gt;______________________________________&lt;br&gt;     Address: &lt;em&gt;233 East Grand Avenue, South San Francisco&lt;/em&gt;&lt;br&gt;     Size of property: &lt;strong&gt;&lt;em&gt;66K sf&lt;/strong&gt;&lt;/em&gt;&lt;br&gt;&lt;br&gt;     Company Name: &lt;strong&gt;&lt;a href=&quot;https://therealdeal.com/sanfrancisco/2022/01/27/gene-editing-firm-signs-85k-sf-lease-to-relocate-expand-south-sf-headquarters/&quot;&gt;Graphite Bio&lt;/a&gt; &lt;/strong&gt;&lt;/html&gt;     &lt;/div&gt;`)[0];\n",
       "            popup_c64e13da4fd280f5f764bcd051e97b9a.setContent(html_3451cb57cb2d3dca765c90db4c82e993);\n",
       "        \n",
       "\n",
       "        marker_0ce17737082f3c71176aca53caf3ff7e.bindPopup(popup_c64e13da4fd280f5f764bcd051e97b9a)\n",
       "        ;\n",
       "\n",
       "        \n",
       "    \n",
       "    \n",
       "            var marker_bc5c70905aacf9bfa053b22ea610c3fe = L.marker(\n",
       "                [37.7913266, -122.3963941],\n",
       "                {}\n",
       "            ).addTo(map_e23f58a349a93cae01f7849ad5f6835b);\n",
       "        \n",
       "    \n",
       "        var popup_3ad339f10261371000098583916aa8b1 = L.popup({&quot;maxWidth&quot;: &quot;100%&quot;});\n",
       "\n",
       "        \n",
       "            var html_fc926d605a2d13462e1c7273d163d9d0 = $(`&lt;div id=&quot;html_fc926d605a2d13462e1c7273d163d9d0&quot; style=&quot;width: 100.0%; height: 100.0%;&quot;&gt;&lt;!DOCTYPE html&gt;     &lt;html&gt;     &lt;img src=https://therealdeal.com/sanfrancisco/wp-content/uploads/2022/06/Iconiq-Capital-moves-HQ-across-SFs-Financial-District-705x466.jpg width=&quot;256&quot; height=&quot;156&quot;&gt;&lt;br&gt;______________________________________&lt;br&gt;     Address: &lt;em&gt;300 Mission Street, San Francisco&lt;/em&gt;&lt;br&gt;     Size of property: &lt;strong&gt;&lt;em&gt;About 43K sf&lt;/strong&gt;&lt;/em&gt;&lt;br&gt;&lt;br&gt;     Company Name: &lt;strong&gt;&lt;a href=&quot;https://therealdeal.com/sanfrancisco/2022/06/07/iconiq-capital-moves-hq-across-sfs-financial-district/&quot;&gt;Iconiq Capital&lt;/a&gt; &lt;/strong&gt;&lt;/html&gt;     &lt;/div&gt;`)[0];\n",
       "            popup_3ad339f10261371000098583916aa8b1.setContent(html_fc926d605a2d13462e1c7273d163d9d0);\n",
       "        \n",
       "\n",
       "        marker_bc5c70905aacf9bfa053b22ea610c3fe.bindPopup(popup_3ad339f10261371000098583916aa8b1)\n",
       "        ;\n",
       "\n",
       "        \n",
       "    \n",
       "    \n",
       "            var marker_189692bb0c0505181be358fc9a5779ae = L.marker(\n",
       "                [37.3833106, -121.9726404],\n",
       "                {}\n",
       "            ).addTo(map_e23f58a349a93cae01f7849ad5f6835b);\n",
       "        \n",
       "    \n",
       "        var popup_8cb7b60ce32562a3aa5e917147a28662 = L.popup({&quot;maxWidth&quot;: &quot;100%&quot;});\n",
       "\n",
       "        \n",
       "            var html_bf890f8d4e15d2b306c86a10749caa02 = $(`&lt;div id=&quot;html_bf890f8d4e15d2b306c86a10749caa02&quot; style=&quot;width: 100.0%; height: 100.0%;&quot;&gt;&lt;!DOCTYPE html&gt;     &lt;html&gt;     &lt;img src=https://therealdeal.com/sanfrancisco/wp-content/uploads/2022/06/main-SF-Pure-Storage-upgrades-HQ-in-move-to-Santa-Clara-705x439.jpg width=&quot;256&quot; height=&quot;156&quot;&gt;&lt;br&gt;______________________________________&lt;br&gt;     Address: &lt;em&gt;2555 and 2565 Augustine Drive, Santa Clara&lt;/em&gt;&lt;br&gt;     Size of property: &lt;strong&gt;&lt;em&gt;About 80K sf&lt;/strong&gt;&lt;/em&gt;&lt;br&gt;&lt;br&gt;     Company Name: &lt;strong&gt;&lt;a href=&quot;https://therealdeal.com/sanfrancisco/2022/06/06/pure-storage-takes-330k-sf-in-santa-clara-sublease/&quot;&gt;Pure Storage&lt;/a&gt; &lt;/strong&gt;&lt;/html&gt;     &lt;/div&gt;`)[0];\n",
       "            popup_8cb7b60ce32562a3aa5e917147a28662.setContent(html_bf890f8d4e15d2b306c86a10749caa02);\n",
       "        \n",
       "\n",
       "        marker_189692bb0c0505181be358fc9a5779ae.bindPopup(popup_8cb7b60ce32562a3aa5e917147a28662)\n",
       "        ;\n",
       "\n",
       "        \n",
       "    \n",
       "    \n",
       "            var marker_eaa06db4e4b99b0a78a64b00cc1b7e5e = L.marker(\n",
       "                [37.3945198, -122.0503021],\n",
       "                {}\n",
       "            ).addTo(map_e23f58a349a93cae01f7849ad5f6835b);\n",
       "        \n",
       "    \n",
       "        var popup_a87b6dac2a03041844019ed5c64ddfdc = L.popup({&quot;maxWidth&quot;: &quot;100%&quot;});\n",
       "\n",
       "        \n",
       "            var html_a1ee89cf99220fbab339abc346964fb3 = $(`&lt;div id=&quot;html_a1ee89cf99220fbab339abc346964fb3&quot; style=&quot;width: 100.0%; height: 100.0%;&quot;&gt;&lt;!DOCTYPE html&gt;     &lt;html&gt;     &lt;img src=https://therealdeal.com/sanfrancisco/wp-content/uploads/2022/04/main_SF_Synopsys-705x439.jpg width=&quot;256&quot; height=&quot;156&quot;&gt;&lt;br&gt;______________________________________&lt;br&gt;     Address: &lt;em&gt;690 East Middlefield Road, Mountain View&lt;/em&gt;&lt;br&gt;     Size of property: &lt;strong&gt;&lt;em&gt;About 170K sf &lt;/strong&gt;&lt;/em&gt;&lt;br&gt;&lt;br&gt;     Company Name: &lt;strong&gt;&lt;a href=&quot;https://therealdeal.com/sanfrancisco/2022/04/28/waymo-grows-mountain-view-hq-on-170k-sf-office-sublease/&quot;&gt;Waymo&lt;/a&gt; &lt;/strong&gt;&lt;/html&gt;     &lt;/div&gt;`)[0];\n",
       "            popup_a87b6dac2a03041844019ed5c64ddfdc.setContent(html_a1ee89cf99220fbab339abc346964fb3);\n",
       "        \n",
       "\n",
       "        marker_eaa06db4e4b99b0a78a64b00cc1b7e5e.bindPopup(popup_a87b6dac2a03041844019ed5c64ddfdc)\n",
       "        ;\n",
       "\n",
       "        \n",
       "    \n",
       "    \n",
       "            var marker_f45568db62b71f7c7d7278ca21ba8c57 = L.marker(\n",
       "                [37.3932985, -122.0297389],\n",
       "                {}\n",
       "            ).addTo(map_e23f58a349a93cae01f7849ad5f6835b);\n",
       "        \n",
       "    \n",
       "        var popup_d2bd3e80d5d7c46feaac20a9df7f71ff = L.popup({&quot;maxWidth&quot;: &quot;100%&quot;});\n",
       "\n",
       "        \n",
       "            var html_5fc7da63922712edf95c08dea7667f91 = $(`&lt;div id=&quot;html_5fc7da63922712edf95c08dea7667f91&quot; style=&quot;width: 100.0%; height: 100.0%;&quot;&gt;&lt;!DOCTYPE html&gt;     &lt;html&gt;     &lt;img src=https://therealdeal.com/sanfrancisco/wp-content/uploads/2022/06/Apple-takes-Sunnyvale-office-campus-its-second-in-12-months-705x466.jpg width=&quot;256&quot; height=&quot;156&quot;&gt;&lt;br&gt;______________________________________&lt;br&gt;     Address: &lt;em&gt;625 and 655 North Mathilda Avenue, Sunnyvale&lt;/em&gt;&lt;br&gt;     Size of property: &lt;strong&gt;&lt;em&gt;382.5K sf &lt;/strong&gt;&lt;/em&gt;&lt;br&gt;&lt;br&gt;     Company Name: &lt;strong&gt;&lt;a href=&quot;https://therealdeal.com/sanfrancisco/2022/06/01/apple-takes-another-sunnyvale-campus/&quot;&gt;Apple&lt;/a&gt; &lt;/strong&gt;&lt;/html&gt;     &lt;/div&gt;`)[0];\n",
       "            popup_d2bd3e80d5d7c46feaac20a9df7f71ff.setContent(html_5fc7da63922712edf95c08dea7667f91);\n",
       "        \n",
       "\n",
       "        marker_f45568db62b71f7c7d7278ca21ba8c57.bindPopup(popup_d2bd3e80d5d7c46feaac20a9df7f71ff)\n",
       "        ;\n",
       "\n",
       "        \n",
       "    \n",
       "    \n",
       "            var marker_54cad7092aec7ed309927cb1a7b19f20 = L.marker(\n",
       "                [37.3781396, -121.9670131],\n",
       "                {}\n",
       "            ).addTo(map_e23f58a349a93cae01f7849ad5f6835b);\n",
       "        \n",
       "    \n",
       "        var popup_682e94d92daebcb5e6f4390ef66f866f = L.popup({&quot;maxWidth&quot;: &quot;100%&quot;});\n",
       "\n",
       "        \n",
       "            var html_4e484f1ef51120ed468574effc8b1c06 = $(`&lt;div id=&quot;html_4e484f1ef51120ed468574effc8b1c06&quot; style=&quot;width: 100.0%; height: 100.0%;&quot;&gt;&lt;!DOCTYPE html&gt;     &lt;html&gt;     &lt;img src=https://therealdeal.com/sanfrancisco/wp-content/uploads/2022/04/main-Amazon-adds-160K-sf-at-Santa-Clara-office-705x439.jpg width=&quot;256&quot; height=&quot;156&quot;&gt;&lt;br&gt;______________________________________&lt;br&gt;     Address: &lt;em&gt;3075 Olcott Street, Santa Clara&lt;/em&gt;&lt;br&gt;     Size of property: &lt;strong&gt;&lt;em&gt;160K sf&lt;/strong&gt;&lt;/em&gt;&lt;br&gt;&lt;br&gt;     Company Name: &lt;strong&gt;&lt;a href=&quot;https://therealdeal.com/sanfrancisco/2022/04/19/amazon-adds-160k-sf-at-santa-clara-office/&quot;&gt;Amazon&lt;/a&gt;&lt;/strong&gt;&lt;/html&gt;     &lt;/div&gt;`)[0];\n",
       "            popup_682e94d92daebcb5e6f4390ef66f866f.setContent(html_4e484f1ef51120ed468574effc8b1c06);\n",
       "        \n",
       "\n",
       "        marker_54cad7092aec7ed309927cb1a7b19f20.bindPopup(popup_682e94d92daebcb5e6f4390ef66f866f)\n",
       "        ;\n",
       "\n",
       "        \n",
       "    \n",
       "    \n",
       "            var marker_9fa2ebaac183e63447216093f5f9720a = L.marker(\n",
       "                [37.6571069, -122.3889004],\n",
       "                {}\n",
       "            ).addTo(map_e23f58a349a93cae01f7849ad5f6835b);\n",
       "        \n",
       "    \n",
       "        var popup_60757ca06f278213df8f694112cc84ac = L.popup({&quot;maxWidth&quot;: &quot;100%&quot;});\n",
       "\n",
       "        \n",
       "            var html_d3a94d25f5f832108c0c01e5084d2999 = $(`&lt;div id=&quot;html_d3a94d25f5f832108c0c01e5084d2999&quot; style=&quot;width: 100.0%; height: 100.0%;&quot;&gt;&lt;!DOCTYPE html&gt;     &lt;html&gt;     &lt;img src=https://therealdeal.com/sanfrancisco/wp-content/uploads/2022/05/LA-Biotech-startup-leases-142K-sf-RD-building-in-South-San-Francisco-MAIN-705x439.jpg width=&quot;256&quot; height=&quot;156&quot;&gt;&lt;br&gt;______________________________________&lt;br&gt;     Address: &lt;em&gt;499 Forbes Boulevard, South San Francisco&lt;/em&gt;&lt;br&gt;     Size of property: &lt;strong&gt;&lt;em&gt;142K sf&lt;/strong&gt;&lt;/em&gt;&lt;br&gt;&lt;br&gt;     Company Name: &lt;strong&gt;&lt;a href=&quot;https://therealdeal.com/sanfrancisco/2022/05/16/biotech-startup-takes-entire-spec-development-in-south-sf/&quot;&gt;InterVenn&lt;/a&gt; Biosciences&lt;/strong&gt;&lt;/html&gt;     &lt;/div&gt;`)[0];\n",
       "            popup_60757ca06f278213df8f694112cc84ac.setContent(html_d3a94d25f5f832108c0c01e5084d2999);\n",
       "        \n",
       "\n",
       "        marker_9fa2ebaac183e63447216093f5f9720a.bindPopup(popup_60757ca06f278213df8f694112cc84ac)\n",
       "        ;\n",
       "\n",
       "        \n",
       "    \n",
       "    \n",
       "            var marker_0764ba21cbc29778bdad8b55d2f3f45f = L.marker(\n",
       "                [37.704481, -122.1401864],\n",
       "                {}\n",
       "            ).addTo(map_e23f58a349a93cae01f7849ad5f6835b);\n",
       "        \n",
       "    \n",
       "        var popup_83c1fc8709228339617bc240816b6490 = L.popup({&quot;maxWidth&quot;: &quot;100%&quot;});\n",
       "\n",
       "        \n",
       "            var html_16b456f0ec77abbff0f59ca2e846ea06 = $(`&lt;div id=&quot;html_16b456f0ec77abbff0f59ca2e846ea06&quot; style=&quot;width: 100.0%; height: 100.0%;&quot;&gt;&lt;!DOCTYPE html&gt;     &lt;html&gt;     &lt;img src=https://therealdeal.com/sanfrancisco/wp-content/uploads/2022/04/main_LA_Amazon-705x439.jpg width=&quot;256&quot; height=&quot;156&quot;&gt;&lt;br&gt;______________________________________&lt;br&gt;     Address: &lt;em&gt;100 Halcyon Drive, San Leandro&lt;/em&gt;&lt;br&gt;     Size of property: &lt;strong&gt;&lt;em&gt;About 137K sf&lt;/strong&gt;&lt;/em&gt;&lt;br&gt;&lt;br&gt;     Company Name: &lt;strong&gt;&lt;a href=&quot;https://therealdeal.com/sanfrancisco/2022/04/21/amazon-offloads-137k-sf-industrial-building-in-san-leandro/&quot;&gt;Third Wave&lt;/a&gt; Automation&lt;/strong&gt;&lt;/html&gt;     &lt;/div&gt;`)[0];\n",
       "            popup_83c1fc8709228339617bc240816b6490.setContent(html_16b456f0ec77abbff0f59ca2e846ea06);\n",
       "        \n",
       "\n",
       "        marker_0764ba21cbc29778bdad8b55d2f3f45f.bindPopup(popup_83c1fc8709228339617bc240816b6490)\n",
       "        ;\n",
       "\n",
       "        \n",
       "    \n",
       "    \n",
       "            var marker_0bd207421efe95aaa4aeedfbf82c5261 = L.marker(\n",
       "                [37.7018472, -122.1378715],\n",
       "                {}\n",
       "            ).addTo(map_e23f58a349a93cae01f7849ad5f6835b);\n",
       "        \n",
       "    \n",
       "        var popup_1a4ce7e8bcebb750a3e457db0c4c834b = L.popup({&quot;maxWidth&quot;: &quot;100%&quot;});\n",
       "\n",
       "        \n",
       "            var html_91969a8fdb3498a19f814bee133c1e73 = $(`&lt;div id=&quot;html_91969a8fdb3498a19f814bee133c1e73&quot; style=&quot;width: 100.0%; height: 100.0%;&quot;&gt;&lt;!DOCTYPE html&gt;     &lt;html&gt;     &lt;img src=https://therealdeal.com/sanfrancisco/wp-content/uploads/2022/04/Amazon-finds-taker-for-300K-sf-industrial-sublease-in-East-Bay-705x431.jpg width=&quot;256&quot; height=&quot;156&quot;&gt;&lt;br&gt;______________________________________&lt;br&gt;     Address: &lt;em&gt;200 Halcyon Drive, San Leandro &lt;/em&gt;&lt;br&gt;     Size of property: &lt;strong&gt;&lt;em&gt;About 44K sf&lt;/strong&gt;&lt;/em&gt;&lt;br&gt;&lt;br&gt;     Company Name: &lt;strong&gt;&lt;a href=&quot;https://therealdeal.com/sanfrancisco/2022/04/01/amazon-finds-taker-for-300k-sf-industrial-sublease-in-east-bay/&quot;&gt;Dependable Highway&lt;/a&gt; Express&lt;/strong&gt;&lt;/html&gt;     &lt;/div&gt;`)[0];\n",
       "            popup_1a4ce7e8bcebb750a3e457db0c4c834b.setContent(html_91969a8fdb3498a19f814bee133c1e73);\n",
       "        \n",
       "\n",
       "        marker_0bd207421efe95aaa4aeedfbf82c5261.bindPopup(popup_1a4ce7e8bcebb750a3e457db0c4c834b)\n",
       "        ;\n",
       "\n",
       "        \n",
       "    \n",
       "    \n",
       "            var marker_d3d416e29a8783700d6237b5fecc6aeb = L.marker(\n",
       "                [37.9996751, -122.3400053],\n",
       "                {}\n",
       "            ).addTo(map_e23f58a349a93cae01f7849ad5f6835b);\n",
       "        \n",
       "    \n",
       "        var popup_dd346b46416b2552c4b7cb606754ebb2 = L.popup({&quot;maxWidth&quot;: &quot;100%&quot;});\n",
       "\n",
       "        \n",
       "            var html_c3f6f92b2ebe00d04cd3ae78b5f332b3 = $(`&lt;div id=&quot;html_c3f6f92b2ebe00d04cd3ae78b5f332b3&quot; style=&quot;width: 100.0%; height: 100.0%;&quot;&gt;&lt;!DOCTYPE html&gt;     &lt;html&gt;     &lt;img src=https://therealdeal.com/sanfrancisco/wp-content/uploads/2022/02/SFO-Amazon-leases-204K-sf-in-Pinole-Point-Commerce-Center-in-Richmond-MAIN-r1-705x439.jpg width=&quot;256&quot; height=&quot;156&quot;&gt;&lt;br&gt;______________________________________&lt;br&gt;     Address: &lt;em&gt;6045 Giant Highway, Richmond&lt;/em&gt;&lt;br&gt;     Size of property: &lt;strong&gt;&lt;em&gt;203.5K sf&lt;/strong&gt;&lt;/em&gt;&lt;br&gt;&lt;br&gt;     Company Name: &lt;strong&gt;&lt;a href=&quot;https://therealdeal.com/sanfrancisco/2022/02/14/amazon-leases-204k-sf-in-pinole-point-commerce-center-in-richmond/&quot;&gt;Amazon&lt;/a&gt;&lt;/strong&gt;&lt;/html&gt;     &lt;/div&gt;`)[0];\n",
       "            popup_dd346b46416b2552c4b7cb606754ebb2.setContent(html_c3f6f92b2ebe00d04cd3ae78b5f332b3);\n",
       "        \n",
       "\n",
       "        marker_d3d416e29a8783700d6237b5fecc6aeb.bindPopup(popup_dd346b46416b2552c4b7cb606754ebb2)\n",
       "        ;\n",
       "\n",
       "        \n",
       "    \n",
       "    \n",
       "            var marker_56c40fc3bdf07b129bb315548bd8ad8a = L.marker(\n",
       "                [37.7770186, -122.416524],\n",
       "                {}\n",
       "            ).addTo(map_e23f58a349a93cae01f7849ad5f6835b);\n",
       "        \n",
       "    \n",
       "        var popup_d864616828914b061134ad17b49d99a5 = L.popup({&quot;maxWidth&quot;: &quot;100%&quot;});\n",
       "\n",
       "        \n",
       "            var html_b8b35f3904d821f103ac03011451053f = $(`&lt;div id=&quot;html_b8b35f3904d821f103ac03011451053f&quot; style=&quot;width: 100.0%; height: 100.0%;&quot;&gt;&lt;!DOCTYPE html&gt;     &lt;html&gt;     &lt;img src=https://therealdeal.com/sanfrancisco/wp-content/uploads/2022/01/main-Twitter-expands-SF-headquarters-even-as-remote-work-rises-705x439.jpg width=&quot;256&quot; height=&quot;156&quot;&gt;&lt;br&gt;______________________________________&lt;br&gt;     Address: &lt;em&gt;1355 Market Street, San Francisco&lt;/em&gt;&lt;br&gt;     Size of property: &lt;strong&gt;&lt;em&gt;About 80K sf&lt;/strong&gt;&lt;/em&gt;&lt;br&gt;&lt;br&gt;     Company Name: &lt;strong&gt;&lt;a href=&quot;https://therealdeal.com/sanfrancisco/2022/01/19/twitter-expands-sf-headquarters-even-as-remote-work-rises/&quot;&gt;Twitter&lt;/a&gt;&lt;/strong&gt;&lt;/html&gt;     &lt;/div&gt;`)[0];\n",
       "            popup_d864616828914b061134ad17b49d99a5.setContent(html_b8b35f3904d821f103ac03011451053f);\n",
       "        \n",
       "\n",
       "        marker_56c40fc3bdf07b129bb315548bd8ad8a.bindPopup(popup_d864616828914b061134ad17b49d99a5)\n",
       "        ;\n",
       "\n",
       "        \n",
       "    \n",
       "    \n",
       "            var marker_3a2ea905e91a474176c7246b0e6b5268 = L.marker(\n",
       "                [37.813554, -122.3098877],\n",
       "                {}\n",
       "            ).addTo(map_e23f58a349a93cae01f7849ad5f6835b);\n",
       "        \n",
       "    \n",
       "        var popup_d9f43942eeef2ea3125aa650dced4f4c = L.popup({&quot;maxWidth&quot;: &quot;100%&quot;});\n",
       "\n",
       "        \n",
       "            var html_c708a649b06a510ed3a2845a08c9df5d = $(`&lt;div id=&quot;html_c708a649b06a510ed3a2845a08c9df5d&quot; style=&quot;width: 100.0%; height: 100.0%;&quot;&gt;&lt;!DOCTYPE html&gt;     &lt;html&gt;     &lt;img src=https://therealdeal.com/sanfrancisco/wp-content/uploads/2022/03/CenterPoint-leases-its-460K-industrial-Oakland-Port-to-PCC-Logistics-705x431.jpg width=&quot;256&quot; height=&quot;156&quot;&gt;&lt;br&gt;______________________________________&lt;br&gt;     Address: &lt;em&gt;1300 Maritime Street, Oakland&lt;/em&gt;&lt;br&gt;     Size of property: &lt;strong&gt;&lt;em&gt;460K sf&lt;/strong&gt;&lt;/em&gt;&lt;br&gt;&lt;br&gt;     Company Name: &lt;strong&gt;&lt;a href=&quot;https://therealdeal.com/sanfrancisco/2022/03/25/pcc-logistics-leases-460k-sf-from-centerpoint-port-of-oakland/&quot;&gt;PCC Logistics&lt;/a&gt; &lt;/strong&gt;&lt;/html&gt;     &lt;/div&gt;`)[0];\n",
       "            popup_d9f43942eeef2ea3125aa650dced4f4c.setContent(html_c708a649b06a510ed3a2845a08c9df5d);\n",
       "        \n",
       "\n",
       "        marker_3a2ea905e91a474176c7246b0e6b5268.bindPopup(popup_d9f43942eeef2ea3125aa650dced4f4c)\n",
       "        ;\n",
       "\n",
       "        \n",
       "    \n",
       "    \n",
       "            var marker_87948ecdb32378b348bd679ecab8a495 = L.marker(\n",
       "                [37.5993766, -122.3835841],\n",
       "                {}\n",
       "            ).addTo(map_e23f58a349a93cae01f7849ad5f6835b);\n",
       "        \n",
       "    \n",
       "        var popup_926304ee2fafe87ce4eed52503cd5bb9 = L.popup({&quot;maxWidth&quot;: &quot;100%&quot;});\n",
       "\n",
       "        \n",
       "            var html_cf93893ff6a849cc4daba4cbfa8ce79e = $(`&lt;div id=&quot;html_cf93893ff6a849cc4daba4cbfa8ce79e&quot; style=&quot;width: 100.0%; height: 100.0%;&quot;&gt;&lt;!DOCTYPE html&gt;     &lt;html&gt;     &lt;img src=https://therealdeal.com/sanfrancisco/wp-content/uploads/2022/06/main-Alexandria-leases-285K-sf-at-new-Millbrae-campus-to-Eikon-Therapeutics-705x439.jpg width=&quot;256&quot; height=&quot;156&quot;&gt;&lt;br&gt;______________________________________&lt;br&gt;     Address: &lt;em&gt;30 Rollins Road, Millbrae &lt;/em&gt;&lt;br&gt;     Size of property: &lt;strong&gt;&lt;em&gt;213K sf&lt;/strong&gt;&lt;/em&gt;&lt;br&gt;&lt;br&gt;     Company Name: &lt;strong&gt;&lt;a href=&quot;https://therealdeal.com/sanfrancisco/2022/06/17/alexandria-leases-285k-sf-at-new-millbrae-campus-to-eikon-therapeutics/&quot;&gt;Eikon Therapeutics&lt;/a&gt; &lt;/strong&gt;&lt;/html&gt;     &lt;/div&gt;`)[0];\n",
       "            popup_926304ee2fafe87ce4eed52503cd5bb9.setContent(html_cf93893ff6a849cc4daba4cbfa8ce79e);\n",
       "        \n",
       "\n",
       "        marker_87948ecdb32378b348bd679ecab8a495.bindPopup(popup_926304ee2fafe87ce4eed52503cd5bb9)\n",
       "        ;\n",
       "\n",
       "        \n",
       "    \n",
       "    \n",
       "            var marker_49ef3e46f3b4112b7528294db9773100 = L.marker(\n",
       "                [37.7559665, -122.2071395],\n",
       "                {}\n",
       "            ).addTo(map_e23f58a349a93cae01f7849ad5f6835b);\n",
       "        \n",
       "    \n",
       "        var popup_7819b13b95bd14a9e64455a1d5d68903 = L.popup({&quot;maxWidth&quot;: &quot;100%&quot;});\n",
       "\n",
       "        \n",
       "            var html_05afb68112bd8b09cbf2b0486aa6de09 = $(`&lt;div id=&quot;html_05afb68112bd8b09cbf2b0486aa6de09&quot; style=&quot;width: 100.0%; height: 100.0%;&quot;&gt;&lt;!DOCTYPE html&gt;     &lt;html&gt;     &lt;img src=https://therealdeal.com/sanfrancisco/wp-content/uploads/2022/06/main-SF-Tire-company-pre-leases-warehouse-space-in-Oakland-705x439.jpg width=&quot;256&quot; height=&quot;156&quot;&gt;&lt;br&gt;______________________________________&lt;br&gt;     Address: &lt;em&gt;6345 Coliseum Way, Oakland&lt;/em&gt;&lt;br&gt;     Size of property: &lt;strong&gt;&lt;em&gt;60K sf&lt;/strong&gt;&lt;/em&gt;&lt;br&gt;&lt;br&gt;     Company Name: &lt;strong&gt;&lt;a href=&quot;https://therealdeal.com/sanfrancisco/2022/06/27/supply-chain-troubles-assist-prologis-latest-industrial-lease-in-oakland/?utm_source=internal&amp;utm_medium=widget&amp;utm_campaign=feature_posts&quot;&gt;TireHub&lt;/a&gt;&lt;/strong&gt;&lt;/html&gt;     &lt;/div&gt;`)[0];\n",
       "            popup_7819b13b95bd14a9e64455a1d5d68903.setContent(html_05afb68112bd8b09cbf2b0486aa6de09);\n",
       "        \n",
       "\n",
       "        marker_49ef3e46f3b4112b7528294db9773100.bindPopup(popup_7819b13b95bd14a9e64455a1d5d68903)\n",
       "        ;\n",
       "\n",
       "        \n",
       "    \n",
       "    \n",
       "            var marker_b1709f6eafc9331c68375dff791ab9da = L.marker(\n",
       "                [37.4138973, -121.9499774],\n",
       "                {}\n",
       "            ).addTo(map_e23f58a349a93cae01f7849ad5f6835b);\n",
       "        \n",
       "    \n",
       "        var popup_46a3f5fe5bade3022f7d96da689e16d8 = L.popup({&quot;maxWidth&quot;: &quot;100%&quot;});\n",
       "\n",
       "        \n",
       "            var html_7e90e47caeba0636895ff220ebd89d3b = $(`&lt;div id=&quot;html_7e90e47caeba0636895ff220ebd89d3b&quot; style=&quot;width: 100.0%; height: 100.0%;&quot;&gt;&lt;!DOCTYPE html&gt;     &lt;html&gt;     &lt;img src=https://therealdeal.com/sanfrancisco/wp-content/uploads/2022/06/Main_logitech-705x439.jpg width=&quot;256&quot; height=&quot;156&quot;&gt;&lt;br&gt;______________________________________&lt;br&gt;     Address: &lt;em&gt;3930 North First Street, San Jose &lt;/em&gt;&lt;br&gt;     Size of property: &lt;strong&gt;&lt;em&gt;About 86K sf&lt;/strong&gt;&lt;/em&gt;&lt;br&gt;&lt;br&gt;     Company Name: &lt;strong&gt;&lt;a href=&quot;https://therealdeal.com/sanfrancisco/2022/06/30/logitech-lease-ends-six-year-drought-at-assembly-campus-in-sj/&quot;&gt;Logitech&lt;/a&gt; &lt;/strong&gt;&lt;/html&gt;     &lt;/div&gt;`)[0];\n",
       "            popup_46a3f5fe5bade3022f7d96da689e16d8.setContent(html_7e90e47caeba0636895ff220ebd89d3b);\n",
       "        \n",
       "\n",
       "        marker_b1709f6eafc9331c68375dff791ab9da.bindPopup(popup_46a3f5fe5bade3022f7d96da689e16d8)\n",
       "        ;\n",
       "\n",
       "        \n",
       "    \n",
       "    \n",
       "            var marker_070e8d9638cddc290ed8bf61a2813cad = L.marker(\n",
       "                [37.7735873, -122.4005342],\n",
       "                {}\n",
       "            ).addTo(map_e23f58a349a93cae01f7849ad5f6835b);\n",
       "        \n",
       "    \n",
       "        var popup_ae9d9dfd487c091c741492a07d64da94 = L.popup({&quot;maxWidth&quot;: &quot;100%&quot;});\n",
       "\n",
       "        \n",
       "            var html_eb8020bb96a410aed4cfa3670d696053 = $(`&lt;div id=&quot;html_eb8020bb96a410aed4cfa3670d696053&quot; style=&quot;width: 100.0%; height: 100.0%;&quot;&gt;&lt;!DOCTYPE html&gt;     &lt;html&gt;     &lt;img src=https://therealdeal.com/sanfrancisco/wp-content/uploads/2022/07/main_SF_Google-New-Office-705x439.jpg width=&quot;256&quot; height=&quot;156&quot;&gt;&lt;br&gt;______________________________________&lt;br&gt;     Address: &lt;em&gt;510 Townsend Street, San Francisco&lt;/em&gt;&lt;br&gt;     Size of property: &lt;strong&gt;&lt;em&gt;300K sf&lt;/strong&gt;&lt;/em&gt;&lt;br&gt;&lt;br&gt;     Company Name: &lt;strong&gt;&lt;a href=&quot;https://therealdeal.com/sanfrancisco/2022/07/05/google-cloud-subleases-300k-sf-in-soma-office-building/&quot;&gt;Google Cloud&lt;/a&gt;&lt;/strong&gt;&lt;/html&gt;     &lt;/div&gt;`)[0];\n",
       "            popup_ae9d9dfd487c091c741492a07d64da94.setContent(html_eb8020bb96a410aed4cfa3670d696053);\n",
       "        \n",
       "\n",
       "        marker_070e8d9638cddc290ed8bf61a2813cad.bindPopup(popup_ae9d9dfd487c091c741492a07d64da94)\n",
       "        ;\n",
       "\n",
       "        \n",
       "    \n",
       "    \n",
       "            map_e23f58a349a93cae01f7849ad5f6835b.fitBounds(\n",
       "                [37.610794194444445, -122.19012813333335],\n",
       "                {&quot;maxZoom&quot;: 15}\n",
       "            );\n",
       "        \n",
       "&lt;/script&gt;\" style=\"position:absolute;width:100%;height:100%;left:0;top:0;border:none !important;\" allowfullscreen webkitallowfullscreen mozallowfullscreen></iframe></div></div>"
      ],
      "text/plain": [
       "<folium.folium.Map at 0x125734370>"
      ]
     },
     "execution_count": 14,
     "metadata": {},
     "output_type": "execute_result"
    }
   ],
   "source": [
    "import folium\n",
    "import branca\n",
    "\n",
    "f = folium.Figure(width=750, height=750)\n",
    "m = folium.Map(location=df[[\"lat\", \"lon\"]].mean().to_list(),zoom_start=9)\n",
    "\n",
    "title_html = '''\n",
    "              <h3 align=\"center\" style=\"font-size:16px\"><b>{}</b></h3>\n",
    "             '''.format(f'Bay Area companies expanding their footprints, Jan. 1, 2022 to July 5, 2022')\n",
    "\n",
    "for i in range(0,len(df)):\n",
    "    html = popup_html(i)\n",
    "    iframe = branca.element.IFrame(html=html)\n",
    "    popup = folium.Popup(folium.Html(html, script=True))\n",
    "    folium.Marker([df['lat'].iloc[i],df['lon'].iloc[i]],\n",
    "                 popup=popup).add_to(m)\n",
    "\n",
    "m.get_root().html.add_child(folium.Element(title_html))\n",
    "m.fit_bounds(bounds=df[['lat','lon']].mean().to_list(),max_zoom=15)\n",
    "# m.add_to(f)\n",
    "m"
   ]
  },
  {
   "cell_type": "code",
   "execution_count": 20,
   "metadata": {},
   "outputs": [],
   "source": [
    "m.save('index.html')"
   ]
  },
  {
   "cell_type": "markdown",
   "metadata": {},
   "source": [
    "## Map URL snagger"
   ]
  },
  {
   "cell_type": "markdown",
   "metadata": {},
   "source": [
    "Map template URL: `https://trd-digital.github.io/trd-news-interactive-maps/{map-folder-name}`"
   ]
  },
  {
   "cell_type": "code",
   "execution_count": 21,
   "metadata": {},
   "outputs": [],
   "source": [
    "base_name = 'https://trd-digital.github.io/trd-news-interactive-maps/'"
   ]
  },
  {
   "cell_type": "code",
   "execution_count": 22,
   "metadata": {},
   "outputs": [
    {
     "name": "stdout",
     "output_type": "stream",
     "text": [
      "https://trd-digital.github.io/trd-news-interactive-maps/bay_area_company_sublease\n"
     ]
    }
   ],
   "source": [
    "cwd = os.getcwd()\n",
    "\n",
    "cwd = cwd.split('/')\n",
    "\n",
    "final_name = base_name + cwd[-1]\n",
    "print(final_name)"
   ]
  }
 ],
 "metadata": {
  "kernelspec": {
   "display_name": "Python 3 (ipykernel)",
   "language": "python",
   "name": "python3"
  },
  "language_info": {
   "codemirror_mode": {
    "name": "ipython",
    "version": 3
   },
   "file_extension": ".py",
   "mimetype": "text/x-python",
   "name": "python",
   "nbconvert_exporter": "python",
   "pygments_lexer": "ipython3",
   "version": "3.10.3"
  },
  "toc": {
   "base_numbering": 1,
   "nav_menu": {},
   "number_sections": true,
   "sideBar": true,
   "skip_h1_title": false,
   "title_cell": "Table of Contents",
   "title_sidebar": "Contents",
   "toc_cell": false,
   "toc_position": {},
   "toc_section_display": true,
   "toc_window_display": false
  }
 },
 "nbformat": 4,
 "nbformat_minor": 4
}
