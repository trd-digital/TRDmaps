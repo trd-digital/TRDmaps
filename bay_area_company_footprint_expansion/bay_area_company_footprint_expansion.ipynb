{
 "cells": [
  {
   "cell_type": "markdown",
   "metadata": {},
   "source": [
    "## Imports"
   ]
  },
  {
   "cell_type": "code",
   "execution_count": 2,
   "metadata": {},
   "outputs": [],
   "source": [
    "from geopy.geocoders import GoogleV3\n",
    "from bs4 import BeautifulSoup\n",
    "import requests\n",
    "import time\n",
    "import pandas as pd\n",
    "import numpy as np\n",
    "import urllib3\n",
    "import re\n",
    "from textwrap import shorten\n",
    "import os"
   ]
  },
  {
   "cell_type": "code",
   "execution_count": 3,
   "metadata": {},
   "outputs": [],
   "source": [
    "df = pd.read_csv('Bay Area companies expanding their footprints, Jan. 1, 2022 to July 5, 2022 - Sheet1.csv')"
   ]
  },
  {
   "cell_type": "code",
   "execution_count": 4,
   "metadata": {},
   "outputs": [
    {
     "data": {
      "text/plain": [
       "Index(['Company name', 'Home city', 'Category ',\n",
       "       'Address(es) company expanded into ',\n",
       "       'Net size of expansion, in square feet',\n",
       "       'Direct lease, purchase or sublease?', 'Sublessor (if sublease)',\n",
       "       'Date TRD wrote about expansion', 'Link to story'],\n",
       "      dtype='object')"
      ]
     },
     "execution_count": 4,
     "metadata": {},
     "output_type": "execute_result"
    }
   ],
   "source": [
    "df.columns"
   ]
  },
  {
   "cell_type": "markdown",
   "metadata": {},
   "source": [
    "## Image URL collector"
   ]
  },
  {
   "cell_type": "code",
   "execution_count": 63,
   "metadata": {},
   "outputs": [],
   "source": [
    "# Drop last n rows of a df. In case there are sums that need clipped\n",
    "# df.drop(df.tail(n).index, inplace=True)"
   ]
  },
  {
   "cell_type": "code",
   "execution_count": 5,
   "metadata": {},
   "outputs": [],
   "source": [
    "df['image_links'] = ''\n",
    "links = []\n",
    "for url in df['Link to story']:\n",
    "    try:\n",
    "        page = requests.get(url)\n",
    "        soup = BeautifulSoup(page.content, 'html.parser')\n",
    "        images = soup.find_all('img')\n",
    "        counter = 0\n",
    "        for image in images:\n",
    "            counter += 1\n",
    "            if 'jpg' in image['src']:\n",
    "                links.append(image['src'])\n",
    "                if counter == len(images):\n",
    "                    links.append('no image found')\n",
    "                break\n",
    "    except:\n",
    "        links.append('no_image')\n",
    "\n",
    "df['image_links'] = links"
   ]
  },
  {
   "cell_type": "markdown",
   "metadata": {},
   "source": [
    "## Article link formatter"
   ]
  },
  {
   "cell_type": "code",
   "execution_count": 6,
   "metadata": {},
   "outputs": [
    {
     "data": {
      "text/plain": [
       "18"
      ]
     },
     "execution_count": 6,
     "metadata": {},
     "output_type": "execute_result"
    }
   ],
   "source": [
    "len(links)"
   ]
  },
  {
   "cell_type": "code",
   "execution_count": 7,
   "metadata": {},
   "outputs": [
    {
     "data": {
      "text/plain": [
       "0            Procept BioRobotics\n",
       "1             Applied Materials \n",
       "2                  Graphite Bio \n",
       "3                Iconiq Capital \n",
       "4                  Pure Storage \n",
       "5                         Waymo \n",
       "6                         Apple \n",
       "7                         Amazon\n",
       "8          InterVenn Biosciences\n",
       "9          Third Wave Automation\n",
       "10    Dependable Highway Express\n",
       "11                        Amazon\n",
       "12                       Twitter\n",
       "13                PCC Logistics \n",
       "14           Eikon Therapeutics \n",
       "15                       TireHub\n",
       "16                     Logitech \n",
       "17                  Google Cloud\n",
       "Name: Company name, dtype: object"
      ]
     },
     "execution_count": 7,
     "metadata": {},
     "output_type": "execute_result"
    }
   ],
   "source": [
    "df['Company name']"
   ]
  },
  {
   "cell_type": "code",
   "execution_count": 8,
   "metadata": {},
   "outputs": [
    {
     "data": {
      "text/plain": [
       "0     <a href=\"https://therealdeal.com/sanfrancisco/...\n",
       "1     <a href=\"https://therealdeal.com/sanfrancisco/...\n",
       "2     <a href=\"https://therealdeal.com/sanfrancisco/...\n",
       "3     <a href=\"https://therealdeal.com/sanfrancisco/...\n",
       "4     <a href=\"https://therealdeal.com/sanfrancisco/...\n",
       "5     <a href=\"https://therealdeal.com/sanfrancisco/...\n",
       "6     <a href=\"https://therealdeal.com/sanfrancisco/...\n",
       "7     <a href=\"https://therealdeal.com/sanfrancisco/...\n",
       "8     <a href=\"https://therealdeal.com/sanfrancisco/...\n",
       "9     <a href=\"https://therealdeal.com/sanfrancisco/...\n",
       "10    <a href=\"https://therealdeal.com/sanfrancisco/...\n",
       "11    <a href=\"https://therealdeal.com/sanfrancisco/...\n",
       "12    <a href=\"https://therealdeal.com/sanfrancisco/...\n",
       "13    <a href=\"https://therealdeal.com/sanfrancisco/...\n",
       "14    <a href=\"https://therealdeal.com/sanfrancisco/...\n",
       "15    <a href=\"https://therealdeal.com/sanfrancisco/...\n",
       "16    <a href=\"https://therealdeal.com/sanfrancisco/...\n",
       "17    <a href=\"https://therealdeal.com/sanfrancisco/...\n",
       "Name: description_link, dtype: object"
      ]
     },
     "execution_count": 8,
     "metadata": {},
     "output_type": "execute_result"
    }
   ],
   "source": [
    "df[\"short_description\"] = df[\"Company name\"].apply(lambda s: shorten(s, width=20, placeholder=\"\"))\n",
    "df['remaining_desc'] = df.apply(lambda row : row['Company name'].replace(str(row['short_description']), ''), axis=1)\n",
    "df['remaining_desc']\n",
    "\n",
    "df[\"description_link\"] = '<a href=\"' + df[\"Link to story\"] + '\">' + df[\"short_description\"] + \"</a>\" + df[\"remaining_desc\"]\n",
    "df['description_link']"
   ]
  },
  {
   "cell_type": "code",
   "execution_count": 9,
   "metadata": {},
   "outputs": [
    {
     "data": {
      "text/plain": [
       "'<a href=\"https://therealdeal.com/sanfrancisco/2022/01/06/redwood-city-robotics-company-leases-158k-sf-for-new-san-jose-hq/\">Procept BioRobotics</a>'"
      ]
     },
     "execution_count": 9,
     "metadata": {},
     "output_type": "execute_result"
    }
   ],
   "source": [
    "df.description_link[0]"
   ]
  },
  {
   "cell_type": "markdown",
   "metadata": {},
   "source": [
    "## Google Maps API Geolocater Setup"
   ]
  },
  {
   "cell_type": "code",
   "execution_count": 10,
   "metadata": {},
   "outputs": [],
   "source": [
    "%store -r google_maps_API_Key\n",
    "geolocator = GoogleV3(api_key=google_maps_API_Key)"
   ]
  },
  {
   "cell_type": "code",
   "execution_count": 11,
   "metadata": {},
   "outputs": [],
   "source": [
    "df['geo_address'] = df['Address(es) company expanded into '] + ' CA'\n",
    "df['loc'] = df['geo_address'].apply(geolocator.geocode, timeout=10)\n",
    "df['point'] = df['loc'].apply(lambda loc: tuple(loc.point) if loc else None)\n",
    "df[['lat','lon','altitude']] = pd.DataFrame(df['point'].to_list(),index=df.index)"
   ]
  },
  {
   "cell_type": "markdown",
   "metadata": {},
   "source": [
    "## HTML popup formatter"
   ]
  },
  {
   "cell_type": "code",
   "execution_count": 21,
   "metadata": {},
   "outputs": [],
   "source": [
    "def popup_html(row):\n",
    "    i = row\n",
    "    address = df['Address(es) company expanded into '].iloc[i]\n",
    "    developer = df['Net size of expansion, in square feet'].iloc[i]\n",
    "    description = df['description_link'].iloc[i]\n",
    "    image = df['image_links'].iloc[i]\n",
    "    \n",
    "    html = '''<!DOCTYPE html>\n",
    "    <html>\n",
    "    <img src={} width=\"256\" height=\"156\">'''.format(image) + '''<br>______________________________________<br>\n",
    "    Company: <strong>{}'''.format(description) + '''</strong>\n",
    "    Address(es) leased/subleased: <em>{}'''.format(address) + '''</em><br>\n",
    "    Net size of expansion: <strong><em>{}'''.format(developer) + '''</strong></em><br><br>\n",
    "    </html>\n",
    "    '''\n",
    "    return html\n"
   ]
  },
  {
   "cell_type": "markdown",
   "metadata": {},
   "source": [
    "### HTML reservoir"
   ]
  },
  {
   "cell_type": "code",
   "execution_count": 72,
   "metadata": {},
   "outputs": [],
   "source": [
    "#     Developer(s): <strong><em>{}'''.format(developer) + '''</strong></em><br><br>"
   ]
  },
  {
   "cell_type": "markdown",
   "metadata": {},
   "source": [
    "## Map Maker"
   ]
  },
  {
   "cell_type": "code",
   "execution_count": 13,
   "metadata": {},
   "outputs": [
    {
     "data": {
      "text/plain": [
       "'<a href=\"https://therealdeal.com/sanfrancisco/2022/01/06/redwood-city-robotics-company-leases-158k-sf-for-new-san-jose-hq/\">Procept BioRobotics</a>'"
      ]
     },
     "execution_count": 13,
     "metadata": {},
     "output_type": "execute_result"
    }
   ],
   "source": [
    "df.description_link[0]"
   ]
  },
  {
   "cell_type": "code",
   "execution_count": 20,
   "metadata": {},
   "outputs": [
    {
     "data": {
      "text/html": [
       "<div style=\"width:100%;\"><div style=\"position:relative;width:100%;height:0;padding-bottom:60%;\"><span style=\"color:#565656\">Make this Notebook Trusted to load map: File -> Trust Notebook</span><iframe srcdoc=\"&lt;!DOCTYPE html&gt;\n",
       "&lt;head&gt;    \n",
       "    &lt;meta http-equiv=&quot;content-type&quot; content=&quot;text/html; charset=UTF-8&quot; /&gt;\n",
       "    \n",
       "        &lt;script&gt;\n",
       "            L_NO_TOUCH = false;\n",
       "            L_DISABLE_3D = false;\n",
       "        &lt;/script&gt;\n",
       "    \n",
       "    &lt;style&gt;html, body {width: 100%;height: 100%;margin: 0;padding: 0;}&lt;/style&gt;\n",
       "    &lt;style&gt;#map {position:absolute;top:0;bottom:0;right:0;left:0;}&lt;/style&gt;\n",
       "    &lt;script src=&quot;https://cdn.jsdelivr.net/npm/leaflet@1.6.0/dist/leaflet.js&quot;&gt;&lt;/script&gt;\n",
       "    &lt;script src=&quot;https://code.jquery.com/jquery-1.12.4.min.js&quot;&gt;&lt;/script&gt;\n",
       "    &lt;script src=&quot;https://maxcdn.bootstrapcdn.com/bootstrap/3.2.0/js/bootstrap.min.js&quot;&gt;&lt;/script&gt;\n",
       "    &lt;script src=&quot;https://cdnjs.cloudflare.com/ajax/libs/Leaflet.awesome-markers/2.0.2/leaflet.awesome-markers.js&quot;&gt;&lt;/script&gt;\n",
       "    &lt;link rel=&quot;stylesheet&quot; href=&quot;https://cdn.jsdelivr.net/npm/leaflet@1.6.0/dist/leaflet.css&quot;/&gt;\n",
       "    &lt;link rel=&quot;stylesheet&quot; href=&quot;https://maxcdn.bootstrapcdn.com/bootstrap/3.2.0/css/bootstrap.min.css&quot;/&gt;\n",
       "    &lt;link rel=&quot;stylesheet&quot; href=&quot;https://maxcdn.bootstrapcdn.com/bootstrap/3.2.0/css/bootstrap-theme.min.css&quot;/&gt;\n",
       "    &lt;link rel=&quot;stylesheet&quot; href=&quot;https://maxcdn.bootstrapcdn.com/font-awesome/4.6.3/css/font-awesome.min.css&quot;/&gt;\n",
       "    &lt;link rel=&quot;stylesheet&quot; href=&quot;https://cdnjs.cloudflare.com/ajax/libs/Leaflet.awesome-markers/2.0.2/leaflet.awesome-markers.css&quot;/&gt;\n",
       "    &lt;link rel=&quot;stylesheet&quot; href=&quot;https://cdn.jsdelivr.net/gh/python-visualization/folium/folium/templates/leaflet.awesome.rotate.min.css&quot;/&gt;\n",
       "    \n",
       "            &lt;meta name=&quot;viewport&quot; content=&quot;width=device-width,\n",
       "                initial-scale=1.0, maximum-scale=1.0, user-scalable=no&quot; /&gt;\n",
       "            &lt;style&gt;\n",
       "                #map_476ba8eb3b2c35d0ef5dcff2e222d336 {\n",
       "                    position: relative;\n",
       "                    width: 100.0%;\n",
       "                    height: 100.0%;\n",
       "                    left: 0.0%;\n",
       "                    top: 0.0%;\n",
       "                }\n",
       "            &lt;/style&gt;\n",
       "        \n",
       "&lt;/head&gt;\n",
       "&lt;body&gt;    \n",
       "    \n",
       "              &lt;h3 align=&quot;center&quot; style=&quot;font-size:16px&quot;&gt;&lt;b&gt;Bay Area companies expanding their footprints, January 2022 to July 2022&lt;/b&gt;&lt;/h3&gt;\n",
       "             \n",
       "    \n",
       "            &lt;div class=&quot;folium-map&quot; id=&quot;map_476ba8eb3b2c35d0ef5dcff2e222d336&quot; &gt;&lt;/div&gt;\n",
       "        \n",
       "&lt;/body&gt;\n",
       "&lt;script&gt;    \n",
       "    \n",
       "            var map_476ba8eb3b2c35d0ef5dcff2e222d336 = L.map(\n",
       "                &quot;map_476ba8eb3b2c35d0ef5dcff2e222d336&quot;,\n",
       "                {\n",
       "                    center: [37.610794194444445, -122.19012813333335],\n",
       "                    crs: L.CRS.EPSG3857,\n",
       "                    zoom: 9,\n",
       "                    zoomControl: true,\n",
       "                    preferCanvas: false,\n",
       "                }\n",
       "            );\n",
       "\n",
       "            \n",
       "\n",
       "        \n",
       "    \n",
       "            var tile_layer_31174dce5c20597f4384cdd45a5a93dc = L.tileLayer(\n",
       "                &quot;https://{s}.tile.openstreetmap.org/{z}/{x}/{y}.png&quot;,\n",
       "                {&quot;attribution&quot;: &quot;Data by \\u0026copy; \\u003ca href=\\&quot;http://openstreetmap.org\\&quot;\\u003eOpenStreetMap\\u003c/a\\u003e, under \\u003ca href=\\&quot;http://www.openstreetmap.org/copyright\\&quot;\\u003eODbL\\u003c/a\\u003e.&quot;, &quot;detectRetina&quot;: false, &quot;maxNativeZoom&quot;: 18, &quot;maxZoom&quot;: 18, &quot;minZoom&quot;: 0, &quot;noWrap&quot;: false, &quot;opacity&quot;: 1, &quot;subdomains&quot;: &quot;abc&quot;, &quot;tms&quot;: false}\n",
       "            ).addTo(map_476ba8eb3b2c35d0ef5dcff2e222d336);\n",
       "        \n",
       "    \n",
       "            var marker_d361f82a747662704545b8d04b1709ac = L.marker(\n",
       "                [37.4203331, -121.9535324],\n",
       "                {}\n",
       "            ).addTo(map_476ba8eb3b2c35d0ef5dcff2e222d336);\n",
       "        \n",
       "    \n",
       "        var popup_d3fb9e6d2a40d4e402fad27ceee74235 = L.popup({&quot;maxWidth&quot;: &quot;100%&quot;});\n",
       "\n",
       "        \n",
       "            var html_016249f76a5b9bd1945f4b5126771fa2 = $(`&lt;div id=&quot;html_016249f76a5b9bd1945f4b5126771fa2&quot; style=&quot;width: 100.0%; height: 100.0%;&quot;&gt;&lt;!DOCTYPE html&gt;     &lt;html&gt;     &lt;img src=https://therealdeal.com/sanfrancisco/wp-content/uploads/2022/01/SFO-Redwood-City-robotics-company-leases-158K-sf-site-of-new-San-Jose-HQ-MAIN-r1-705x439.jpg width=&quot;256&quot; height=&quot;156&quot;&gt;&lt;br&gt;______________________________________&lt;br&gt;     Address: &lt;em&gt;150-160 Baytech Drive, San Jose&lt;/em&gt;&lt;br&gt;     Size of property: &lt;strong&gt;&lt;em&gt;About 110K sf &lt;/strong&gt;&lt;/em&gt;&lt;br&gt;&lt;br&gt;     Company: &lt;strong&gt;&lt;a href=&quot;https://therealdeal.com/sanfrancisco/2022/01/06/redwood-city-robotics-company-leases-158k-sf-for-new-san-jose-hq/&quot;&gt;Procept BioRobotics&lt;/a&gt;&lt;/strong&gt;&lt;/html&gt;     &lt;/div&gt;`)[0];\n",
       "            popup_d3fb9e6d2a40d4e402fad27ceee74235.setContent(html_016249f76a5b9bd1945f4b5126771fa2);\n",
       "        \n",
       "\n",
       "        marker_d361f82a747662704545b8d04b1709ac.bindPopup(popup_d3fb9e6d2a40d4e402fad27ceee74235)\n",
       "        ;\n",
       "\n",
       "        \n",
       "    \n",
       "    \n",
       "            var marker_9bf3b7642de22fe5e368f558874bc590 = L.marker(\n",
       "                [37.3820063, -121.9813465],\n",
       "                {}\n",
       "            ).addTo(map_476ba8eb3b2c35d0ef5dcff2e222d336);\n",
       "        \n",
       "    \n",
       "        var popup_b7af513a987f274423b952b0b90b06c4 = L.popup({&quot;maxWidth&quot;: &quot;100%&quot;});\n",
       "\n",
       "        \n",
       "            var html_57558d1647889108033d3ba4273e0667 = $(`&lt;div id=&quot;html_57558d1647889108033d3ba4273e0667&quot; style=&quot;width: 100.0%; height: 100.0%;&quot;&gt;&lt;!DOCTYPE html&gt;     &lt;html&gt;     &lt;img src=https://therealdeal.com/sanfrancisco/wp-content/uploads/2022/04/SFO-Applied-Materials-signs-246K-sf-office-sublease-in-Santa-Clara-as-business-booms-MAIN-705x439.jpg width=&quot;256&quot; height=&quot;156&quot;&gt;&lt;br&gt;______________________________________&lt;br&gt;     Address: &lt;em&gt;3333 Scott Boulevard, Santa Clara&lt;/em&gt;&lt;br&gt;     Size of property: &lt;strong&gt;&lt;em&gt;246K sf&lt;/strong&gt;&lt;/em&gt;&lt;br&gt;&lt;br&gt;     Company: &lt;strong&gt;&lt;a href=&quot;https://therealdeal.com/sanfrancisco/2022/05/02/bright-spot-for-santa-clara-office-market-as-applied-materials-subleases-246k-sf-from-hpe/&quot;&gt;Applied Materials&lt;/a&gt; &lt;/strong&gt;&lt;/html&gt;     &lt;/div&gt;`)[0];\n",
       "            popup_b7af513a987f274423b952b0b90b06c4.setContent(html_57558d1647889108033d3ba4273e0667);\n",
       "        \n",
       "\n",
       "        marker_9bf3b7642de22fe5e368f558874bc590.bindPopup(popup_b7af513a987f274423b952b0b90b06c4)\n",
       "        ;\n",
       "\n",
       "        \n",
       "    \n",
       "    \n",
       "            var marker_3644a2ceb1c496a5f3f8a7ee02f9a069 = L.marker(\n",
       "                [37.65485049999999, -122.3967284],\n",
       "                {}\n",
       "            ).addTo(map_476ba8eb3b2c35d0ef5dcff2e222d336);\n",
       "        \n",
       "    \n",
       "        var popup_dba08c9d2192f1bfc971aeb3dbbf14c1 = L.popup({&quot;maxWidth&quot;: &quot;100%&quot;});\n",
       "\n",
       "        \n",
       "            var html_f5b5331f571e17db9172c1d3ae90a3eb = $(`&lt;div id=&quot;html_f5b5331f571e17db9172c1d3ae90a3eb&quot; style=&quot;width: 100.0%; height: 100.0%;&quot;&gt;&lt;!DOCTYPE html&gt;     &lt;html&gt;     &lt;img src=https://therealdeal.com/sanfrancisco/wp-content/uploads/2022/01/Main_relocation.jpg width=&quot;256&quot; height=&quot;156&quot;&gt;&lt;br&gt;______________________________________&lt;br&gt;     Address: &lt;em&gt;233 East Grand Avenue, South San Francisco&lt;/em&gt;&lt;br&gt;     Size of property: &lt;strong&gt;&lt;em&gt;66K sf&lt;/strong&gt;&lt;/em&gt;&lt;br&gt;&lt;br&gt;     Company: &lt;strong&gt;&lt;a href=&quot;https://therealdeal.com/sanfrancisco/2022/01/27/gene-editing-firm-signs-85k-sf-lease-to-relocate-expand-south-sf-headquarters/&quot;&gt;Graphite Bio&lt;/a&gt; &lt;/strong&gt;&lt;/html&gt;     &lt;/div&gt;`)[0];\n",
       "            popup_dba08c9d2192f1bfc971aeb3dbbf14c1.setContent(html_f5b5331f571e17db9172c1d3ae90a3eb);\n",
       "        \n",
       "\n",
       "        marker_3644a2ceb1c496a5f3f8a7ee02f9a069.bindPopup(popup_dba08c9d2192f1bfc971aeb3dbbf14c1)\n",
       "        ;\n",
       "\n",
       "        \n",
       "    \n",
       "    \n",
       "            var marker_cfc2d1dfcac6c9d495063ef270df129a = L.marker(\n",
       "                [37.7913266, -122.3963941],\n",
       "                {}\n",
       "            ).addTo(map_476ba8eb3b2c35d0ef5dcff2e222d336);\n",
       "        \n",
       "    \n",
       "        var popup_d162cc7789fde8c236208ec4e4daec23 = L.popup({&quot;maxWidth&quot;: &quot;100%&quot;});\n",
       "\n",
       "        \n",
       "            var html_63e1505aff038ee343b3ed50156eb694 = $(`&lt;div id=&quot;html_63e1505aff038ee343b3ed50156eb694&quot; style=&quot;width: 100.0%; height: 100.0%;&quot;&gt;&lt;!DOCTYPE html&gt;     &lt;html&gt;     &lt;img src=https://therealdeal.com/sanfrancisco/wp-content/uploads/2022/06/Iconiq-Capital-moves-HQ-across-SFs-Financial-District-705x466.jpg width=&quot;256&quot; height=&quot;156&quot;&gt;&lt;br&gt;______________________________________&lt;br&gt;     Address: &lt;em&gt;300 Mission Street, San Francisco&lt;/em&gt;&lt;br&gt;     Size of property: &lt;strong&gt;&lt;em&gt;About 43K sf&lt;/strong&gt;&lt;/em&gt;&lt;br&gt;&lt;br&gt;     Company: &lt;strong&gt;&lt;a href=&quot;https://therealdeal.com/sanfrancisco/2022/06/07/iconiq-capital-moves-hq-across-sfs-financial-district/&quot;&gt;Iconiq Capital&lt;/a&gt; &lt;/strong&gt;&lt;/html&gt;     &lt;/div&gt;`)[0];\n",
       "            popup_d162cc7789fde8c236208ec4e4daec23.setContent(html_63e1505aff038ee343b3ed50156eb694);\n",
       "        \n",
       "\n",
       "        marker_cfc2d1dfcac6c9d495063ef270df129a.bindPopup(popup_d162cc7789fde8c236208ec4e4daec23)\n",
       "        ;\n",
       "\n",
       "        \n",
       "    \n",
       "    \n",
       "            var marker_437b569720ebd59f69921bbfee0d7698 = L.marker(\n",
       "                [37.3833106, -121.9726404],\n",
       "                {}\n",
       "            ).addTo(map_476ba8eb3b2c35d0ef5dcff2e222d336);\n",
       "        \n",
       "    \n",
       "        var popup_885f8985cb2b3fd96ff54e047b29859f = L.popup({&quot;maxWidth&quot;: &quot;100%&quot;});\n",
       "\n",
       "        \n",
       "            var html_d1be327165fb965a71f320978f1c7f6b = $(`&lt;div id=&quot;html_d1be327165fb965a71f320978f1c7f6b&quot; style=&quot;width: 100.0%; height: 100.0%;&quot;&gt;&lt;!DOCTYPE html&gt;     &lt;html&gt;     &lt;img src=https://therealdeal.com/sanfrancisco/wp-content/uploads/2022/06/main-SF-Pure-Storage-upgrades-HQ-in-move-to-Santa-Clara-705x439.jpg width=&quot;256&quot; height=&quot;156&quot;&gt;&lt;br&gt;______________________________________&lt;br&gt;     Address: &lt;em&gt;2555 and 2565 Augustine Drive, Santa Clara&lt;/em&gt;&lt;br&gt;     Size of property: &lt;strong&gt;&lt;em&gt;About 80K sf&lt;/strong&gt;&lt;/em&gt;&lt;br&gt;&lt;br&gt;     Company: &lt;strong&gt;&lt;a href=&quot;https://therealdeal.com/sanfrancisco/2022/06/06/pure-storage-takes-330k-sf-in-santa-clara-sublease/&quot;&gt;Pure Storage&lt;/a&gt; &lt;/strong&gt;&lt;/html&gt;     &lt;/div&gt;`)[0];\n",
       "            popup_885f8985cb2b3fd96ff54e047b29859f.setContent(html_d1be327165fb965a71f320978f1c7f6b);\n",
       "        \n",
       "\n",
       "        marker_437b569720ebd59f69921bbfee0d7698.bindPopup(popup_885f8985cb2b3fd96ff54e047b29859f)\n",
       "        ;\n",
       "\n",
       "        \n",
       "    \n",
       "    \n",
       "            var marker_1f5b17cd39ec5e192b75783a438c3162 = L.marker(\n",
       "                [37.3945198, -122.0503021],\n",
       "                {}\n",
       "            ).addTo(map_476ba8eb3b2c35d0ef5dcff2e222d336);\n",
       "        \n",
       "    \n",
       "        var popup_e9f1f3d4e9b33753c5a395fa5c11b8c3 = L.popup({&quot;maxWidth&quot;: &quot;100%&quot;});\n",
       "\n",
       "        \n",
       "            var html_8234eef172a7992edb27789472a653d6 = $(`&lt;div id=&quot;html_8234eef172a7992edb27789472a653d6&quot; style=&quot;width: 100.0%; height: 100.0%;&quot;&gt;&lt;!DOCTYPE html&gt;     &lt;html&gt;     &lt;img src=https://therealdeal.com/sanfrancisco/wp-content/uploads/2022/04/main_SF_Synopsys-705x439.jpg width=&quot;256&quot; height=&quot;156&quot;&gt;&lt;br&gt;______________________________________&lt;br&gt;     Address: &lt;em&gt;690 East Middlefield Road, Mountain View&lt;/em&gt;&lt;br&gt;     Size of property: &lt;strong&gt;&lt;em&gt;About 170K sf &lt;/strong&gt;&lt;/em&gt;&lt;br&gt;&lt;br&gt;     Company: &lt;strong&gt;&lt;a href=&quot;https://therealdeal.com/sanfrancisco/2022/04/28/waymo-grows-mountain-view-hq-on-170k-sf-office-sublease/&quot;&gt;Waymo&lt;/a&gt; &lt;/strong&gt;&lt;/html&gt;     &lt;/div&gt;`)[0];\n",
       "            popup_e9f1f3d4e9b33753c5a395fa5c11b8c3.setContent(html_8234eef172a7992edb27789472a653d6);\n",
       "        \n",
       "\n",
       "        marker_1f5b17cd39ec5e192b75783a438c3162.bindPopup(popup_e9f1f3d4e9b33753c5a395fa5c11b8c3)\n",
       "        ;\n",
       "\n",
       "        \n",
       "    \n",
       "    \n",
       "            var marker_727c29f6a4cc55e14b07067c9df0108e = L.marker(\n",
       "                [37.3932985, -122.0297389],\n",
       "                {}\n",
       "            ).addTo(map_476ba8eb3b2c35d0ef5dcff2e222d336);\n",
       "        \n",
       "    \n",
       "        var popup_ce4f627671a0876e587c3d8d6744f5cd = L.popup({&quot;maxWidth&quot;: &quot;100%&quot;});\n",
       "\n",
       "        \n",
       "            var html_aba87b9036212094a2ddf7d5d3a68a1d = $(`&lt;div id=&quot;html_aba87b9036212094a2ddf7d5d3a68a1d&quot; style=&quot;width: 100.0%; height: 100.0%;&quot;&gt;&lt;!DOCTYPE html&gt;     &lt;html&gt;     &lt;img src=https://therealdeal.com/sanfrancisco/wp-content/uploads/2022/06/Apple-takes-Sunnyvale-office-campus-its-second-in-12-months-705x466.jpg width=&quot;256&quot; height=&quot;156&quot;&gt;&lt;br&gt;______________________________________&lt;br&gt;     Address: &lt;em&gt;625 and 655 North Mathilda Avenue, Sunnyvale&lt;/em&gt;&lt;br&gt;     Size of property: &lt;strong&gt;&lt;em&gt;382.5K sf &lt;/strong&gt;&lt;/em&gt;&lt;br&gt;&lt;br&gt;     Company: &lt;strong&gt;&lt;a href=&quot;https://therealdeal.com/sanfrancisco/2022/06/01/apple-takes-another-sunnyvale-campus/&quot;&gt;Apple&lt;/a&gt; &lt;/strong&gt;&lt;/html&gt;     &lt;/div&gt;`)[0];\n",
       "            popup_ce4f627671a0876e587c3d8d6744f5cd.setContent(html_aba87b9036212094a2ddf7d5d3a68a1d);\n",
       "        \n",
       "\n",
       "        marker_727c29f6a4cc55e14b07067c9df0108e.bindPopup(popup_ce4f627671a0876e587c3d8d6744f5cd)\n",
       "        ;\n",
       "\n",
       "        \n",
       "    \n",
       "    \n",
       "            var marker_7899c77c2423854adbdc6735704798c8 = L.marker(\n",
       "                [37.3781396, -121.9670131],\n",
       "                {}\n",
       "            ).addTo(map_476ba8eb3b2c35d0ef5dcff2e222d336);\n",
       "        \n",
       "    \n",
       "        var popup_6e2e840b0b1a471a79851f0cc0c443ff = L.popup({&quot;maxWidth&quot;: &quot;100%&quot;});\n",
       "\n",
       "        \n",
       "            var html_846e4f4b45b7428c2ace29b5bb988ffd = $(`&lt;div id=&quot;html_846e4f4b45b7428c2ace29b5bb988ffd&quot; style=&quot;width: 100.0%; height: 100.0%;&quot;&gt;&lt;!DOCTYPE html&gt;     &lt;html&gt;     &lt;img src=https://therealdeal.com/sanfrancisco/wp-content/uploads/2022/04/main-Amazon-adds-160K-sf-at-Santa-Clara-office-705x439.jpg width=&quot;256&quot; height=&quot;156&quot;&gt;&lt;br&gt;______________________________________&lt;br&gt;     Address: &lt;em&gt;3075 Olcott Street, Santa Clara&lt;/em&gt;&lt;br&gt;     Size of property: &lt;strong&gt;&lt;em&gt;160K sf&lt;/strong&gt;&lt;/em&gt;&lt;br&gt;&lt;br&gt;     Company: &lt;strong&gt;&lt;a href=&quot;https://therealdeal.com/sanfrancisco/2022/04/19/amazon-adds-160k-sf-at-santa-clara-office/&quot;&gt;Amazon&lt;/a&gt;&lt;/strong&gt;&lt;/html&gt;     &lt;/div&gt;`)[0];\n",
       "            popup_6e2e840b0b1a471a79851f0cc0c443ff.setContent(html_846e4f4b45b7428c2ace29b5bb988ffd);\n",
       "        \n",
       "\n",
       "        marker_7899c77c2423854adbdc6735704798c8.bindPopup(popup_6e2e840b0b1a471a79851f0cc0c443ff)\n",
       "        ;\n",
       "\n",
       "        \n",
       "    \n",
       "    \n",
       "            var marker_9f44b0eda679a58918584798f9068b80 = L.marker(\n",
       "                [37.6571069, -122.3889004],\n",
       "                {}\n",
       "            ).addTo(map_476ba8eb3b2c35d0ef5dcff2e222d336);\n",
       "        \n",
       "    \n",
       "        var popup_505b58f42054d84254ed9909b1719755 = L.popup({&quot;maxWidth&quot;: &quot;100%&quot;});\n",
       "\n",
       "        \n",
       "            var html_03e132e5ad18629837c31854f4406646 = $(`&lt;div id=&quot;html_03e132e5ad18629837c31854f4406646&quot; style=&quot;width: 100.0%; height: 100.0%;&quot;&gt;&lt;!DOCTYPE html&gt;     &lt;html&gt;     &lt;img src=https://therealdeal.com/sanfrancisco/wp-content/uploads/2022/05/LA-Biotech-startup-leases-142K-sf-RD-building-in-South-San-Francisco-MAIN-705x439.jpg width=&quot;256&quot; height=&quot;156&quot;&gt;&lt;br&gt;______________________________________&lt;br&gt;     Address: &lt;em&gt;499 Forbes Boulevard, South San Francisco&lt;/em&gt;&lt;br&gt;     Size of property: &lt;strong&gt;&lt;em&gt;142K sf&lt;/strong&gt;&lt;/em&gt;&lt;br&gt;&lt;br&gt;     Company: &lt;strong&gt;&lt;a href=&quot;https://therealdeal.com/sanfrancisco/2022/05/16/biotech-startup-takes-entire-spec-development-in-south-sf/&quot;&gt;InterVenn&lt;/a&gt; Biosciences&lt;/strong&gt;&lt;/html&gt;     &lt;/div&gt;`)[0];\n",
       "            popup_505b58f42054d84254ed9909b1719755.setContent(html_03e132e5ad18629837c31854f4406646);\n",
       "        \n",
       "\n",
       "        marker_9f44b0eda679a58918584798f9068b80.bindPopup(popup_505b58f42054d84254ed9909b1719755)\n",
       "        ;\n",
       "\n",
       "        \n",
       "    \n",
       "    \n",
       "            var marker_410bdf105fa1fb371432bcd5460761eb = L.marker(\n",
       "                [37.704481, -122.1401864],\n",
       "                {}\n",
       "            ).addTo(map_476ba8eb3b2c35d0ef5dcff2e222d336);\n",
       "        \n",
       "    \n",
       "        var popup_acbdf0961d96a33058b2d8ddae284bfa = L.popup({&quot;maxWidth&quot;: &quot;100%&quot;});\n",
       "\n",
       "        \n",
       "            var html_02344b0bd249933954d068c1aa6e8afa = $(`&lt;div id=&quot;html_02344b0bd249933954d068c1aa6e8afa&quot; style=&quot;width: 100.0%; height: 100.0%;&quot;&gt;&lt;!DOCTYPE html&gt;     &lt;html&gt;     &lt;img src=https://therealdeal.com/sanfrancisco/wp-content/uploads/2022/04/main_LA_Amazon-705x439.jpg width=&quot;256&quot; height=&quot;156&quot;&gt;&lt;br&gt;______________________________________&lt;br&gt;     Address: &lt;em&gt;100 Halcyon Drive, San Leandro&lt;/em&gt;&lt;br&gt;     Size of property: &lt;strong&gt;&lt;em&gt;About 137K sf&lt;/strong&gt;&lt;/em&gt;&lt;br&gt;&lt;br&gt;     Company: &lt;strong&gt;&lt;a href=&quot;https://therealdeal.com/sanfrancisco/2022/04/21/amazon-offloads-137k-sf-industrial-building-in-san-leandro/&quot;&gt;Third Wave&lt;/a&gt; Automation&lt;/strong&gt;&lt;/html&gt;     &lt;/div&gt;`)[0];\n",
       "            popup_acbdf0961d96a33058b2d8ddae284bfa.setContent(html_02344b0bd249933954d068c1aa6e8afa);\n",
       "        \n",
       "\n",
       "        marker_410bdf105fa1fb371432bcd5460761eb.bindPopup(popup_acbdf0961d96a33058b2d8ddae284bfa)\n",
       "        ;\n",
       "\n",
       "        \n",
       "    \n",
       "    \n",
       "            var marker_847493781bdba6e35ab39aff0ecfe957 = L.marker(\n",
       "                [37.7018472, -122.1378715],\n",
       "                {}\n",
       "            ).addTo(map_476ba8eb3b2c35d0ef5dcff2e222d336);\n",
       "        \n",
       "    \n",
       "        var popup_8a7f8cab51d6be6531703bc7a06d05cf = L.popup({&quot;maxWidth&quot;: &quot;100%&quot;});\n",
       "\n",
       "        \n",
       "            var html_07fb27c97eb9511fd84f85d7aebe3236 = $(`&lt;div id=&quot;html_07fb27c97eb9511fd84f85d7aebe3236&quot; style=&quot;width: 100.0%; height: 100.0%;&quot;&gt;&lt;!DOCTYPE html&gt;     &lt;html&gt;     &lt;img src=https://therealdeal.com/sanfrancisco/wp-content/uploads/2022/04/Amazon-finds-taker-for-300K-sf-industrial-sublease-in-East-Bay-705x431.jpg width=&quot;256&quot; height=&quot;156&quot;&gt;&lt;br&gt;______________________________________&lt;br&gt;     Address: &lt;em&gt;200 Halcyon Drive, San Leandro &lt;/em&gt;&lt;br&gt;     Size of property: &lt;strong&gt;&lt;em&gt;About 44K sf&lt;/strong&gt;&lt;/em&gt;&lt;br&gt;&lt;br&gt;     Company: &lt;strong&gt;&lt;a href=&quot;https://therealdeal.com/sanfrancisco/2022/04/01/amazon-finds-taker-for-300k-sf-industrial-sublease-in-east-bay/&quot;&gt;Dependable Highway&lt;/a&gt; Express&lt;/strong&gt;&lt;/html&gt;     &lt;/div&gt;`)[0];\n",
       "            popup_8a7f8cab51d6be6531703bc7a06d05cf.setContent(html_07fb27c97eb9511fd84f85d7aebe3236);\n",
       "        \n",
       "\n",
       "        marker_847493781bdba6e35ab39aff0ecfe957.bindPopup(popup_8a7f8cab51d6be6531703bc7a06d05cf)\n",
       "        ;\n",
       "\n",
       "        \n",
       "    \n",
       "    \n",
       "            var marker_26890ac4234de7bcacb011bdd6e3e618 = L.marker(\n",
       "                [37.9996751, -122.3400053],\n",
       "                {}\n",
       "            ).addTo(map_476ba8eb3b2c35d0ef5dcff2e222d336);\n",
       "        \n",
       "    \n",
       "        var popup_b6ca60a90b7dfff7686e273ea6188cce = L.popup({&quot;maxWidth&quot;: &quot;100%&quot;});\n",
       "\n",
       "        \n",
       "            var html_802a87d9723e29a7a7770c2d06213af6 = $(`&lt;div id=&quot;html_802a87d9723e29a7a7770c2d06213af6&quot; style=&quot;width: 100.0%; height: 100.0%;&quot;&gt;&lt;!DOCTYPE html&gt;     &lt;html&gt;     &lt;img src=https://therealdeal.com/sanfrancisco/wp-content/uploads/2022/02/SFO-Amazon-leases-204K-sf-in-Pinole-Point-Commerce-Center-in-Richmond-MAIN-r1-705x439.jpg width=&quot;256&quot; height=&quot;156&quot;&gt;&lt;br&gt;______________________________________&lt;br&gt;     Address: &lt;em&gt;6045 Giant Highway, Richmond&lt;/em&gt;&lt;br&gt;     Size of property: &lt;strong&gt;&lt;em&gt;203.5K sf&lt;/strong&gt;&lt;/em&gt;&lt;br&gt;&lt;br&gt;     Company: &lt;strong&gt;&lt;a href=&quot;https://therealdeal.com/sanfrancisco/2022/02/14/amazon-leases-204k-sf-in-pinole-point-commerce-center-in-richmond/&quot;&gt;Amazon&lt;/a&gt;&lt;/strong&gt;&lt;/html&gt;     &lt;/div&gt;`)[0];\n",
       "            popup_b6ca60a90b7dfff7686e273ea6188cce.setContent(html_802a87d9723e29a7a7770c2d06213af6);\n",
       "        \n",
       "\n",
       "        marker_26890ac4234de7bcacb011bdd6e3e618.bindPopup(popup_b6ca60a90b7dfff7686e273ea6188cce)\n",
       "        ;\n",
       "\n",
       "        \n",
       "    \n",
       "    \n",
       "            var marker_b3bd82b92695b500997a2552185f486e = L.marker(\n",
       "                [37.7770186, -122.416524],\n",
       "                {}\n",
       "            ).addTo(map_476ba8eb3b2c35d0ef5dcff2e222d336);\n",
       "        \n",
       "    \n",
       "        var popup_f09df1ed7b937267168079f1dfef3bc5 = L.popup({&quot;maxWidth&quot;: &quot;100%&quot;});\n",
       "\n",
       "        \n",
       "            var html_8319acaf96ffccec829b830233792dbd = $(`&lt;div id=&quot;html_8319acaf96ffccec829b830233792dbd&quot; style=&quot;width: 100.0%; height: 100.0%;&quot;&gt;&lt;!DOCTYPE html&gt;     &lt;html&gt;     &lt;img src=https://therealdeal.com/sanfrancisco/wp-content/uploads/2022/01/main-Twitter-expands-SF-headquarters-even-as-remote-work-rises-705x439.jpg width=&quot;256&quot; height=&quot;156&quot;&gt;&lt;br&gt;______________________________________&lt;br&gt;     Address: &lt;em&gt;1355 Market Street, San Francisco&lt;/em&gt;&lt;br&gt;     Size of property: &lt;strong&gt;&lt;em&gt;About 80K sf&lt;/strong&gt;&lt;/em&gt;&lt;br&gt;&lt;br&gt;     Company: &lt;strong&gt;&lt;a href=&quot;https://therealdeal.com/sanfrancisco/2022/01/19/twitter-expands-sf-headquarters-even-as-remote-work-rises/&quot;&gt;Twitter&lt;/a&gt;&lt;/strong&gt;&lt;/html&gt;     &lt;/div&gt;`)[0];\n",
       "            popup_f09df1ed7b937267168079f1dfef3bc5.setContent(html_8319acaf96ffccec829b830233792dbd);\n",
       "        \n",
       "\n",
       "        marker_b3bd82b92695b500997a2552185f486e.bindPopup(popup_f09df1ed7b937267168079f1dfef3bc5)\n",
       "        ;\n",
       "\n",
       "        \n",
       "    \n",
       "    \n",
       "            var marker_109fd056649affac2137a1ed6c775573 = L.marker(\n",
       "                [37.813554, -122.3098877],\n",
       "                {}\n",
       "            ).addTo(map_476ba8eb3b2c35d0ef5dcff2e222d336);\n",
       "        \n",
       "    \n",
       "        var popup_50731d78d9605ef674453cdacfc574b2 = L.popup({&quot;maxWidth&quot;: &quot;100%&quot;});\n",
       "\n",
       "        \n",
       "            var html_515e9db327535cfe11915638f92f3c35 = $(`&lt;div id=&quot;html_515e9db327535cfe11915638f92f3c35&quot; style=&quot;width: 100.0%; height: 100.0%;&quot;&gt;&lt;!DOCTYPE html&gt;     &lt;html&gt;     &lt;img src=https://therealdeal.com/sanfrancisco/wp-content/uploads/2022/03/CenterPoint-leases-its-460K-industrial-Oakland-Port-to-PCC-Logistics-705x431.jpg width=&quot;256&quot; height=&quot;156&quot;&gt;&lt;br&gt;______________________________________&lt;br&gt;     Address: &lt;em&gt;1300 Maritime Street, Oakland&lt;/em&gt;&lt;br&gt;     Size of property: &lt;strong&gt;&lt;em&gt;460K sf&lt;/strong&gt;&lt;/em&gt;&lt;br&gt;&lt;br&gt;     Company: &lt;strong&gt;&lt;a href=&quot;https://therealdeal.com/sanfrancisco/2022/03/25/pcc-logistics-leases-460k-sf-from-centerpoint-port-of-oakland/&quot;&gt;PCC Logistics&lt;/a&gt; &lt;/strong&gt;&lt;/html&gt;     &lt;/div&gt;`)[0];\n",
       "            popup_50731d78d9605ef674453cdacfc574b2.setContent(html_515e9db327535cfe11915638f92f3c35);\n",
       "        \n",
       "\n",
       "        marker_109fd056649affac2137a1ed6c775573.bindPopup(popup_50731d78d9605ef674453cdacfc574b2)\n",
       "        ;\n",
       "\n",
       "        \n",
       "    \n",
       "    \n",
       "            var marker_24cf1d4b417fab094722acc803653b6d = L.marker(\n",
       "                [37.5993766, -122.3835841],\n",
       "                {}\n",
       "            ).addTo(map_476ba8eb3b2c35d0ef5dcff2e222d336);\n",
       "        \n",
       "    \n",
       "        var popup_d247a4c806bf9d7c2e51e64695e6e458 = L.popup({&quot;maxWidth&quot;: &quot;100%&quot;});\n",
       "\n",
       "        \n",
       "            var html_fc1408600c2eec12191cd3fe800dae32 = $(`&lt;div id=&quot;html_fc1408600c2eec12191cd3fe800dae32&quot; style=&quot;width: 100.0%; height: 100.0%;&quot;&gt;&lt;!DOCTYPE html&gt;     &lt;html&gt;     &lt;img src=https://therealdeal.com/sanfrancisco/wp-content/uploads/2022/06/main-Alexandria-leases-285K-sf-at-new-Millbrae-campus-to-Eikon-Therapeutics-705x439.jpg width=&quot;256&quot; height=&quot;156&quot;&gt;&lt;br&gt;______________________________________&lt;br&gt;     Address: &lt;em&gt;30 Rollins Road, Millbrae &lt;/em&gt;&lt;br&gt;     Size of property: &lt;strong&gt;&lt;em&gt;213K sf&lt;/strong&gt;&lt;/em&gt;&lt;br&gt;&lt;br&gt;     Company: &lt;strong&gt;&lt;a href=&quot;https://therealdeal.com/sanfrancisco/2022/06/17/alexandria-leases-285k-sf-at-new-millbrae-campus-to-eikon-therapeutics/&quot;&gt;Eikon Therapeutics&lt;/a&gt; &lt;/strong&gt;&lt;/html&gt;     &lt;/div&gt;`)[0];\n",
       "            popup_d247a4c806bf9d7c2e51e64695e6e458.setContent(html_fc1408600c2eec12191cd3fe800dae32);\n",
       "        \n",
       "\n",
       "        marker_24cf1d4b417fab094722acc803653b6d.bindPopup(popup_d247a4c806bf9d7c2e51e64695e6e458)\n",
       "        ;\n",
       "\n",
       "        \n",
       "    \n",
       "    \n",
       "            var marker_bc0bd760ee908b0c9d6fdabfc4247fb2 = L.marker(\n",
       "                [37.7559665, -122.2071395],\n",
       "                {}\n",
       "            ).addTo(map_476ba8eb3b2c35d0ef5dcff2e222d336);\n",
       "        \n",
       "    \n",
       "        var popup_ffd74a39d3166f0d494a2d343eaf1e6d = L.popup({&quot;maxWidth&quot;: &quot;100%&quot;});\n",
       "\n",
       "        \n",
       "            var html_60b0e7e8635cb0f3164b6b0ffeaa998f = $(`&lt;div id=&quot;html_60b0e7e8635cb0f3164b6b0ffeaa998f&quot; style=&quot;width: 100.0%; height: 100.0%;&quot;&gt;&lt;!DOCTYPE html&gt;     &lt;html&gt;     &lt;img src=https://therealdeal.com/sanfrancisco/wp-content/uploads/2022/06/main-SF-Tire-company-pre-leases-warehouse-space-in-Oakland-705x439.jpg width=&quot;256&quot; height=&quot;156&quot;&gt;&lt;br&gt;______________________________________&lt;br&gt;     Address: &lt;em&gt;6345 Coliseum Way, Oakland&lt;/em&gt;&lt;br&gt;     Size of property: &lt;strong&gt;&lt;em&gt;60K sf&lt;/strong&gt;&lt;/em&gt;&lt;br&gt;&lt;br&gt;     Company: &lt;strong&gt;&lt;a href=&quot;https://therealdeal.com/sanfrancisco/2022/06/27/supply-chain-troubles-assist-prologis-latest-industrial-lease-in-oakland/?utm_source=internal&amp;utm_medium=widget&amp;utm_campaign=feature_posts&quot;&gt;TireHub&lt;/a&gt;&lt;/strong&gt;&lt;/html&gt;     &lt;/div&gt;`)[0];\n",
       "            popup_ffd74a39d3166f0d494a2d343eaf1e6d.setContent(html_60b0e7e8635cb0f3164b6b0ffeaa998f);\n",
       "        \n",
       "\n",
       "        marker_bc0bd760ee908b0c9d6fdabfc4247fb2.bindPopup(popup_ffd74a39d3166f0d494a2d343eaf1e6d)\n",
       "        ;\n",
       "\n",
       "        \n",
       "    \n",
       "    \n",
       "            var marker_d73111f79af3d6821588151d935e7374 = L.marker(\n",
       "                [37.4138973, -121.9499774],\n",
       "                {}\n",
       "            ).addTo(map_476ba8eb3b2c35d0ef5dcff2e222d336);\n",
       "        \n",
       "    \n",
       "        var popup_fd363b1ff864f8cbf77e854042e38bfd = L.popup({&quot;maxWidth&quot;: &quot;100%&quot;});\n",
       "\n",
       "        \n",
       "            var html_b1971189f4ae9a9b1672778c4e4c8757 = $(`&lt;div id=&quot;html_b1971189f4ae9a9b1672778c4e4c8757&quot; style=&quot;width: 100.0%; height: 100.0%;&quot;&gt;&lt;!DOCTYPE html&gt;     &lt;html&gt;     &lt;img src=https://therealdeal.com/sanfrancisco/wp-content/uploads/2022/06/Main_logitech-705x439.jpg width=&quot;256&quot; height=&quot;156&quot;&gt;&lt;br&gt;______________________________________&lt;br&gt;     Address: &lt;em&gt;3930 North First Street, San Jose &lt;/em&gt;&lt;br&gt;     Size of property: &lt;strong&gt;&lt;em&gt;About 86K sf&lt;/strong&gt;&lt;/em&gt;&lt;br&gt;&lt;br&gt;     Company: &lt;strong&gt;&lt;a href=&quot;https://therealdeal.com/sanfrancisco/2022/06/30/logitech-lease-ends-six-year-drought-at-assembly-campus-in-sj/&quot;&gt;Logitech&lt;/a&gt; &lt;/strong&gt;&lt;/html&gt;     &lt;/div&gt;`)[0];\n",
       "            popup_fd363b1ff864f8cbf77e854042e38bfd.setContent(html_b1971189f4ae9a9b1672778c4e4c8757);\n",
       "        \n",
       "\n",
       "        marker_d73111f79af3d6821588151d935e7374.bindPopup(popup_fd363b1ff864f8cbf77e854042e38bfd)\n",
       "        ;\n",
       "\n",
       "        \n",
       "    \n",
       "    \n",
       "            var marker_fab3732616a850b1e133502067eada77 = L.marker(\n",
       "                [37.7735873, -122.4005342],\n",
       "                {}\n",
       "            ).addTo(map_476ba8eb3b2c35d0ef5dcff2e222d336);\n",
       "        \n",
       "    \n",
       "        var popup_ce24f64e0084f0f0565514c4ce5f1e36 = L.popup({&quot;maxWidth&quot;: &quot;100%&quot;});\n",
       "\n",
       "        \n",
       "            var html_65367a7d0ee3ff49e8d80bbc3c01f4c3 = $(`&lt;div id=&quot;html_65367a7d0ee3ff49e8d80bbc3c01f4c3&quot; style=&quot;width: 100.0%; height: 100.0%;&quot;&gt;&lt;!DOCTYPE html&gt;     &lt;html&gt;     &lt;img src=https://therealdeal.com/sanfrancisco/wp-content/uploads/2022/07/main_SF_Google-New-Office-705x439.jpg width=&quot;256&quot; height=&quot;156&quot;&gt;&lt;br&gt;______________________________________&lt;br&gt;     Address: &lt;em&gt;510 Townsend Street, San Francisco&lt;/em&gt;&lt;br&gt;     Size of property: &lt;strong&gt;&lt;em&gt;300K sf&lt;/strong&gt;&lt;/em&gt;&lt;br&gt;&lt;br&gt;     Company: &lt;strong&gt;&lt;a href=&quot;https://therealdeal.com/sanfrancisco/2022/07/05/google-cloud-subleases-300k-sf-in-soma-office-building/&quot;&gt;Google Cloud&lt;/a&gt;&lt;/strong&gt;&lt;/html&gt;     &lt;/div&gt;`)[0];\n",
       "            popup_ce24f64e0084f0f0565514c4ce5f1e36.setContent(html_65367a7d0ee3ff49e8d80bbc3c01f4c3);\n",
       "        \n",
       "\n",
       "        marker_fab3732616a850b1e133502067eada77.bindPopup(popup_ce24f64e0084f0f0565514c4ce5f1e36)\n",
       "        ;\n",
       "\n",
       "        \n",
       "    \n",
       "    \n",
       "            map_476ba8eb3b2c35d0ef5dcff2e222d336.fitBounds(\n",
       "                [37.610794194444445, -122.19012813333335],\n",
       "                {&quot;maxZoom&quot;: 15}\n",
       "            );\n",
       "        \n",
       "&lt;/script&gt;\" style=\"position:absolute;width:100%;height:100%;left:0;top:0;border:none !important;\" allowfullscreen webkitallowfullscreen mozallowfullscreen></iframe></div></div>"
      ],
      "text/plain": [
       "<folium.folium.Map at 0x135160af0>"
      ]
     },
     "execution_count": 20,
     "metadata": {},
     "output_type": "execute_result"
    }
   ],
   "source": [
    "import folium\n",
    "import branca\n",
    "\n",
    "f = folium.Figure(width=750, height=750)\n",
    "m = folium.Map(location=df[[\"lat\", \"lon\"]].mean().to_list(),zoom_start=9)\n",
    "\n",
    "title_html = '''\n",
    "              <h3 align=\"center\" style=\"font-size:16px\"><b>{}</b></h3>\n",
    "             '''.format(f'Bay Area companies expanding their footprints, January 2022 to July 2022')\n",
    "\n",
    "for i in range(0,len(df)):\n",
    "    html = popup_html(i)\n",
    "    iframe = branca.element.IFrame(html=html)\n",
    "    popup = folium.Popup(folium.Html(html, script=True))\n",
    "    folium.Marker([df['lat'].iloc[i],df['lon'].iloc[i]],\n",
    "                 popup=popup).add_to(m)\n",
    "\n",
    "m.get_root().html.add_child(folium.Element(title_html))\n",
    "m.fit_bounds(bounds=df[['lat','lon']].mean().to_list(),max_zoom=15)\n",
    "# m.add_to(f)\n",
    "m"
   ]
  },
  {
   "cell_type": "code",
   "execution_count": 15,
   "metadata": {},
   "outputs": [],
   "source": [
    "m.save('index.html')"
   ]
  },
  {
   "cell_type": "markdown",
   "metadata": {},
   "source": [
    "## Map URL snagger"
   ]
  },
  {
   "cell_type": "markdown",
   "metadata": {},
   "source": [
    "Map template URL: `https://trd-digital.github.io/trd-news-interactive-maps/{map-folder-name}`"
   ]
  },
  {
   "cell_type": "code",
   "execution_count": 16,
   "metadata": {},
   "outputs": [],
   "source": [
    "base_name = 'https://trd-digital.github.io/trd-news-interactive-maps/'"
   ]
  },
  {
   "cell_type": "code",
   "execution_count": 17,
   "metadata": {},
   "outputs": [
    {
     "name": "stdout",
     "output_type": "stream",
     "text": [
      "https://trd-digital.github.io/trd-news-interactive-maps/bay_area_company_footprint_expansion\n"
     ]
    }
   ],
   "source": [
    "cwd = os.getcwd()\n",
    "\n",
    "cwd = cwd.split('/')\n",
    "\n",
    "final_name = base_name + cwd[-1]\n",
    "print(final_name)"
   ]
  }
 ],
 "metadata": {
  "kernelspec": {
   "display_name": "Python 3 (ipykernel)",
   "language": "python",
   "name": "python3"
  },
  "language_info": {
   "codemirror_mode": {
    "name": "ipython",
    "version": 3
   },
   "file_extension": ".py",
   "mimetype": "text/x-python",
   "name": "python",
   "nbconvert_exporter": "python",
   "pygments_lexer": "ipython3",
   "version": "3.10.3"
  },
  "toc": {
   "base_numbering": 1,
   "nav_menu": {},
   "number_sections": true,
   "sideBar": true,
   "skip_h1_title": false,
   "title_cell": "Table of Contents",
   "title_sidebar": "Contents",
   "toc_cell": false,
   "toc_position": {},
   "toc_section_display": true,
   "toc_window_display": false
  }
 },
 "nbformat": 4,
 "nbformat_minor": 4
}
