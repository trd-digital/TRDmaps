{
 "cells": [
  {
   "cell_type": "markdown",
   "metadata": {},
   "source": [
    "## Imports"
   ]
  },
  {
   "cell_type": "code",
   "execution_count": 25,
   "metadata": {},
   "outputs": [],
   "source": [
    "from geopy.geocoders import GoogleV3\n",
    "from bs4 import BeautifulSoup\n",
    "import requests\n",
    "import time\n",
    "import pandas as pd\n",
    "import numpy as np\n",
    "import urllib3\n",
    "import re\n",
    "from textwrap import shorten\n",
    "import os"
   ]
  },
  {
   "cell_type": "code",
   "execution_count": 26,
   "metadata": {},
   "outputs": [],
   "source": [
    "df = pd.read_csv('Bay Area companies expanding their footprints, Jan. 1, 2022 to July 5, 2022 - Sheet1.csv')"
   ]
  },
  {
   "cell_type": "code",
   "execution_count": 27,
   "metadata": {},
   "outputs": [
    {
     "data": {
      "text/plain": [
       "Index(['Company name', 'Home city', 'Category ',\n",
       "       'Address(es) company expanded into ',\n",
       "       'Net size of expansion, in square feet',\n",
       "       'Direct lease, purchase or sublease?', 'Sublessor (if sublease)',\n",
       "       'Date TRD wrote about expansion', 'Link to story'],\n",
       "      dtype='object')"
      ]
     },
     "execution_count": 27,
     "metadata": {},
     "output_type": "execute_result"
    }
   ],
   "source": [
    "df.columns"
   ]
  },
  {
   "cell_type": "markdown",
   "metadata": {},
   "source": [
    "## Image URL collector"
   ]
  },
  {
   "cell_type": "code",
   "execution_count": 28,
   "metadata": {},
   "outputs": [],
   "source": [
    "# Drop last n rows of a df. In case there are sums that need clipped\n",
    "# df.drop(df.tail(n).index, inplace=True)"
   ]
  },
  {
   "cell_type": "code",
   "execution_count": 29,
   "metadata": {},
   "outputs": [],
   "source": [
    "df['image_links'] = ''\n",
    "links = []\n",
    "for url in df['Link to story']:\n",
    "    try:\n",
    "        page = requests.get(url)\n",
    "        soup = BeautifulSoup(page.content, 'html.parser')\n",
    "        images = soup.find_all('img')\n",
    "        counter = 0\n",
    "        for image in images:\n",
    "            counter += 1\n",
    "            if 'jpg' in image['src']:\n",
    "                links.append(image['src'])\n",
    "                if counter == len(images):\n",
    "                    links.append('no image found')\n",
    "                break\n",
    "    except:\n",
    "        links.append('no_image')\n",
    "\n",
    "df['image_links'] = links"
   ]
  },
  {
   "cell_type": "markdown",
   "metadata": {},
   "source": [
    "## Article link formatter"
   ]
  },
  {
   "cell_type": "code",
   "execution_count": 30,
   "metadata": {},
   "outputs": [
    {
     "data": {
      "text/plain": [
       "18"
      ]
     },
     "execution_count": 30,
     "metadata": {},
     "output_type": "execute_result"
    }
   ],
   "source": [
    "len(links)"
   ]
  },
  {
   "cell_type": "code",
   "execution_count": 31,
   "metadata": {},
   "outputs": [
    {
     "data": {
      "text/plain": [
       "0            Procept BioRobotics\n",
       "1             Applied Materials \n",
       "2                  Graphite Bio \n",
       "3                Iconiq Capital \n",
       "4                  Pure Storage \n",
       "5                         Waymo \n",
       "6                         Apple \n",
       "7                         Amazon\n",
       "8          InterVenn Biosciences\n",
       "9          Third Wave Automation\n",
       "10    Dependable Highway Express\n",
       "11                        Amazon\n",
       "12                       Twitter\n",
       "13                PCC Logistics \n",
       "14           Eikon Therapeutics \n",
       "15                       TireHub\n",
       "16                     Logitech \n",
       "17                  Google Cloud\n",
       "Name: Company name, dtype: object"
      ]
     },
     "execution_count": 31,
     "metadata": {},
     "output_type": "execute_result"
    }
   ],
   "source": [
    "df['Company name']"
   ]
  },
  {
   "cell_type": "code",
   "execution_count": 32,
   "metadata": {},
   "outputs": [
    {
     "data": {
      "text/plain": [
       "0     <a href=\"https://therealdeal.com/sanfrancisco/...\n",
       "1     <a href=\"https://therealdeal.com/sanfrancisco/...\n",
       "2     <a href=\"https://therealdeal.com/sanfrancisco/...\n",
       "3     <a href=\"https://therealdeal.com/sanfrancisco/...\n",
       "4     <a href=\"https://therealdeal.com/sanfrancisco/...\n",
       "5     <a href=\"https://therealdeal.com/sanfrancisco/...\n",
       "6     <a href=\"https://therealdeal.com/sanfrancisco/...\n",
       "7     <a href=\"https://therealdeal.com/sanfrancisco/...\n",
       "8     <a href=\"https://therealdeal.com/sanfrancisco/...\n",
       "9     <a href=\"https://therealdeal.com/sanfrancisco/...\n",
       "10    <a href=\"https://therealdeal.com/sanfrancisco/...\n",
       "11    <a href=\"https://therealdeal.com/sanfrancisco/...\n",
       "12    <a href=\"https://therealdeal.com/sanfrancisco/...\n",
       "13    <a href=\"https://therealdeal.com/sanfrancisco/...\n",
       "14    <a href=\"https://therealdeal.com/sanfrancisco/...\n",
       "15    <a href=\"https://therealdeal.com/sanfrancisco/...\n",
       "16    <a href=\"https://therealdeal.com/sanfrancisco/...\n",
       "17    <a href=\"https://therealdeal.com/sanfrancisco/...\n",
       "Name: description_link, dtype: object"
      ]
     },
     "execution_count": 32,
     "metadata": {},
     "output_type": "execute_result"
    }
   ],
   "source": [
    "df[\"short_description\"] = df[\"Company name\"].apply(lambda s: shorten(s, width=20, placeholder=\"\"))\n",
    "df['remaining_desc'] = df.apply(lambda row : row['Company name'].replace(str(row['short_description']), ''), axis=1)\n",
    "df['remaining_desc']\n",
    "\n",
    "df[\"description_link\"] = '<a href=\"' + df[\"Link to story\"] + '\">' + df[\"short_description\"] + \"</a>\" + df[\"remaining_desc\"]\n",
    "df['description_link']"
   ]
  },
  {
   "cell_type": "code",
   "execution_count": 33,
   "metadata": {},
   "outputs": [
    {
     "data": {
      "text/plain": [
       "'<a href=\"https://therealdeal.com/sanfrancisco/2022/01/06/redwood-city-robotics-company-leases-158k-sf-for-new-san-jose-hq/\">Procept BioRobotics</a>'"
      ]
     },
     "execution_count": 33,
     "metadata": {},
     "output_type": "execute_result"
    }
   ],
   "source": [
    "df.description_link[0]"
   ]
  },
  {
   "cell_type": "markdown",
   "metadata": {},
   "source": [
    "## Google Maps API Geolocater Setup"
   ]
  },
  {
   "cell_type": "code",
   "execution_count": 34,
   "metadata": {},
   "outputs": [],
   "source": [
    "%store -r google_maps_API_Key\n",
    "geolocator = GoogleV3(api_key=google_maps_API_Key)"
   ]
  },
  {
   "cell_type": "code",
   "execution_count": 35,
   "metadata": {},
   "outputs": [],
   "source": [
    "df['geo_address'] = df['Address(es) company expanded into '] + ' CA'\n",
    "df['loc'] = df['geo_address'].apply(geolocator.geocode, timeout=10)\n",
    "df['point'] = df['loc'].apply(lambda loc: tuple(loc.point) if loc else None)\n",
    "df[['lat','lon','altitude']] = pd.DataFrame(df['point'].to_list(),index=df.index)"
   ]
  },
  {
   "cell_type": "markdown",
   "metadata": {},
   "source": [
    "## HTML popup formatter"
   ]
  },
  {
   "cell_type": "code",
   "execution_count": 43,
   "metadata": {},
   "outputs": [],
   "source": [
    "def popup_html(row):\n",
    "    i = row\n",
    "    address = df['Address(es) company expanded into '].iloc[i]\n",
    "    developer = df['Net size of expansion, in square feet'].iloc[i]\n",
    "    description = df['description_link'].iloc[i]\n",
    "    image = df['image_links'].iloc[i]\n",
    "    \n",
    "    html = '''<!DOCTYPE html>\n",
    "    <html>\n",
    "    <img src={} width=\"256\" height=\"156\">'''.format(image) + '''<br>______________________________________<br>\n",
    "    Company: <strong>{}'''.format(description) + '''</strong><br>\n",
    "    Address(es) leased/subleased: <em>{}'''.format(address) + '''</em><br><br>\n",
    "    Net size of expansion: <strong><em>{}'''.format(developer) + '''</strong></em><br>\n",
    "    </html>\n",
    "    '''\n",
    "    return html\n"
   ]
  },
  {
   "cell_type": "markdown",
   "metadata": {},
   "source": [
    "### HTML reservoir"
   ]
  },
  {
   "cell_type": "code",
   "execution_count": 37,
   "metadata": {},
   "outputs": [],
   "source": [
    "#     Developer(s): <strong><em>{}'''.format(developer) + '''</strong></em><br><br>"
   ]
  },
  {
   "cell_type": "markdown",
   "metadata": {},
   "source": [
    "## Map Maker"
   ]
  },
  {
   "cell_type": "code",
   "execution_count": 38,
   "metadata": {},
   "outputs": [
    {
     "data": {
      "text/plain": [
       "'<a href=\"https://therealdeal.com/sanfrancisco/2022/01/06/redwood-city-robotics-company-leases-158k-sf-for-new-san-jose-hq/\">Procept BioRobotics</a>'"
      ]
     },
     "execution_count": 38,
     "metadata": {},
     "output_type": "execute_result"
    }
   ],
   "source": [
    "df.description_link[0]"
   ]
  },
  {
   "cell_type": "code",
   "execution_count": 44,
   "metadata": {},
   "outputs": [
    {
     "data": {
      "text/html": [
       "<div style=\"width:100%;\"><div style=\"position:relative;width:100%;height:0;padding-bottom:60%;\"><span style=\"color:#565656\">Make this Notebook Trusted to load map: File -> Trust Notebook</span><iframe srcdoc=\"&lt;!DOCTYPE html&gt;\n",
       "&lt;head&gt;    \n",
       "    &lt;meta http-equiv=&quot;content-type&quot; content=&quot;text/html; charset=UTF-8&quot; /&gt;\n",
       "    \n",
       "        &lt;script&gt;\n",
       "            L_NO_TOUCH = false;\n",
       "            L_DISABLE_3D = false;\n",
       "        &lt;/script&gt;\n",
       "    \n",
       "    &lt;style&gt;html, body {width: 100%;height: 100%;margin: 0;padding: 0;}&lt;/style&gt;\n",
       "    &lt;style&gt;#map {position:absolute;top:0;bottom:0;right:0;left:0;}&lt;/style&gt;\n",
       "    &lt;script src=&quot;https://cdn.jsdelivr.net/npm/leaflet@1.6.0/dist/leaflet.js&quot;&gt;&lt;/script&gt;\n",
       "    &lt;script src=&quot;https://code.jquery.com/jquery-1.12.4.min.js&quot;&gt;&lt;/script&gt;\n",
       "    &lt;script src=&quot;https://maxcdn.bootstrapcdn.com/bootstrap/3.2.0/js/bootstrap.min.js&quot;&gt;&lt;/script&gt;\n",
       "    &lt;script src=&quot;https://cdnjs.cloudflare.com/ajax/libs/Leaflet.awesome-markers/2.0.2/leaflet.awesome-markers.js&quot;&gt;&lt;/script&gt;\n",
       "    &lt;link rel=&quot;stylesheet&quot; href=&quot;https://cdn.jsdelivr.net/npm/leaflet@1.6.0/dist/leaflet.css&quot;/&gt;\n",
       "    &lt;link rel=&quot;stylesheet&quot; href=&quot;https://maxcdn.bootstrapcdn.com/bootstrap/3.2.0/css/bootstrap.min.css&quot;/&gt;\n",
       "    &lt;link rel=&quot;stylesheet&quot; href=&quot;https://maxcdn.bootstrapcdn.com/bootstrap/3.2.0/css/bootstrap-theme.min.css&quot;/&gt;\n",
       "    &lt;link rel=&quot;stylesheet&quot; href=&quot;https://maxcdn.bootstrapcdn.com/font-awesome/4.6.3/css/font-awesome.min.css&quot;/&gt;\n",
       "    &lt;link rel=&quot;stylesheet&quot; href=&quot;https://cdnjs.cloudflare.com/ajax/libs/Leaflet.awesome-markers/2.0.2/leaflet.awesome-markers.css&quot;/&gt;\n",
       "    &lt;link rel=&quot;stylesheet&quot; href=&quot;https://cdn.jsdelivr.net/gh/python-visualization/folium/folium/templates/leaflet.awesome.rotate.min.css&quot;/&gt;\n",
       "    \n",
       "            &lt;meta name=&quot;viewport&quot; content=&quot;width=device-width,\n",
       "                initial-scale=1.0, maximum-scale=1.0, user-scalable=no&quot; /&gt;\n",
       "            &lt;style&gt;\n",
       "                #map_734ef1c242a36cc4e095865505f1ec66 {\n",
       "                    position: relative;\n",
       "                    width: 100.0%;\n",
       "                    height: 100.0%;\n",
       "                    left: 0.0%;\n",
       "                    top: 0.0%;\n",
       "                }\n",
       "            &lt;/style&gt;\n",
       "        \n",
       "&lt;/head&gt;\n",
       "&lt;body&gt;    \n",
       "    \n",
       "              &lt;h3 align=&quot;center&quot; style=&quot;font-size:16px&quot;&gt;&lt;b&gt;Bay Area companies expanding their footprints, January 2022 to July 2022&lt;/b&gt;&lt;/h3&gt;\n",
       "             \n",
       "    \n",
       "            &lt;div class=&quot;folium-map&quot; id=&quot;map_734ef1c242a36cc4e095865505f1ec66&quot; &gt;&lt;/div&gt;\n",
       "        \n",
       "&lt;/body&gt;\n",
       "&lt;script&gt;    \n",
       "    \n",
       "            var map_734ef1c242a36cc4e095865505f1ec66 = L.map(\n",
       "                &quot;map_734ef1c242a36cc4e095865505f1ec66&quot;,\n",
       "                {\n",
       "                    center: [37.610794194444445, -122.19012813333335],\n",
       "                    crs: L.CRS.EPSG3857,\n",
       "                    zoom: 9,\n",
       "                    zoomControl: true,\n",
       "                    preferCanvas: false,\n",
       "                }\n",
       "            );\n",
       "\n",
       "            \n",
       "\n",
       "        \n",
       "    \n",
       "            var tile_layer_61c72825813ce43294c67dcd6e8b2fde = L.tileLayer(\n",
       "                &quot;https://{s}.tile.openstreetmap.org/{z}/{x}/{y}.png&quot;,\n",
       "                {&quot;attribution&quot;: &quot;Data by \\u0026copy; \\u003ca href=\\&quot;http://openstreetmap.org\\&quot;\\u003eOpenStreetMap\\u003c/a\\u003e, under \\u003ca href=\\&quot;http://www.openstreetmap.org/copyright\\&quot;\\u003eODbL\\u003c/a\\u003e.&quot;, &quot;detectRetina&quot;: false, &quot;maxNativeZoom&quot;: 18, &quot;maxZoom&quot;: 18, &quot;minZoom&quot;: 0, &quot;noWrap&quot;: false, &quot;opacity&quot;: 1, &quot;subdomains&quot;: &quot;abc&quot;, &quot;tms&quot;: false}\n",
       "            ).addTo(map_734ef1c242a36cc4e095865505f1ec66);\n",
       "        \n",
       "    \n",
       "            var marker_b4e165c5dfb5274aabe5e9ddae703058 = L.marker(\n",
       "                [37.4203331, -121.9535324],\n",
       "                {}\n",
       "            ).addTo(map_734ef1c242a36cc4e095865505f1ec66);\n",
       "        \n",
       "    \n",
       "        var popup_f69af7a2881626491eefba023ca8cfa5 = L.popup({&quot;maxWidth&quot;: &quot;100%&quot;});\n",
       "\n",
       "        \n",
       "            var html_84bbeed048dedeafb6c6ac4d398b0782 = $(`&lt;div id=&quot;html_84bbeed048dedeafb6c6ac4d398b0782&quot; style=&quot;width: 100.0%; height: 100.0%;&quot;&gt;&lt;!DOCTYPE html&gt;     &lt;html&gt;     &lt;img src=https://therealdeal.com/sanfrancisco/wp-content/uploads/2022/01/SFO-Redwood-City-robotics-company-leases-158K-sf-site-of-new-San-Jose-HQ-MAIN-r1-705x439.jpg width=&quot;256&quot; height=&quot;156&quot;&gt;&lt;br&gt;______________________________________&lt;br&gt;     Company: &lt;strong&gt;&lt;a href=&quot;https://therealdeal.com/sanfrancisco/2022/01/06/redwood-city-robotics-company-leases-158k-sf-for-new-san-jose-hq/&quot;&gt;Procept BioRobotics&lt;/a&gt;&lt;/strong&gt;&lt;br&gt;     Address(es) leased/subleased: &lt;em&gt;150-160 Baytech Drive, San Jose&lt;/em&gt;&lt;br&gt;&lt;br&gt;     Net size of expansion: &lt;strong&gt;&lt;em&gt;About 110K sf &lt;/strong&gt;&lt;/em&gt;&lt;br&gt;     &lt;/html&gt;     &lt;/div&gt;`)[0];\n",
       "            popup_f69af7a2881626491eefba023ca8cfa5.setContent(html_84bbeed048dedeafb6c6ac4d398b0782);\n",
       "        \n",
       "\n",
       "        marker_b4e165c5dfb5274aabe5e9ddae703058.bindPopup(popup_f69af7a2881626491eefba023ca8cfa5)\n",
       "        ;\n",
       "\n",
       "        \n",
       "    \n",
       "    \n",
       "            var marker_6c565fc38057d643e815cf62b5034da2 = L.marker(\n",
       "                [37.3820063, -121.9813465],\n",
       "                {}\n",
       "            ).addTo(map_734ef1c242a36cc4e095865505f1ec66);\n",
       "        \n",
       "    \n",
       "        var popup_b5952634da830f0f85456e6e40501171 = L.popup({&quot;maxWidth&quot;: &quot;100%&quot;});\n",
       "\n",
       "        \n",
       "            var html_18dd1b93b222965608b6a291098c4cb7 = $(`&lt;div id=&quot;html_18dd1b93b222965608b6a291098c4cb7&quot; style=&quot;width: 100.0%; height: 100.0%;&quot;&gt;&lt;!DOCTYPE html&gt;     &lt;html&gt;     &lt;img src=https://therealdeal.com/sanfrancisco/wp-content/uploads/2022/04/SFO-Applied-Materials-signs-246K-sf-office-sublease-in-Santa-Clara-as-business-booms-MAIN-705x439.jpg width=&quot;256&quot; height=&quot;156&quot;&gt;&lt;br&gt;______________________________________&lt;br&gt;     Company: &lt;strong&gt;&lt;a href=&quot;https://therealdeal.com/sanfrancisco/2022/05/02/bright-spot-for-santa-clara-office-market-as-applied-materials-subleases-246k-sf-from-hpe/&quot;&gt;Applied Materials&lt;/a&gt; &lt;/strong&gt;&lt;br&gt;     Address(es) leased/subleased: &lt;em&gt;3333 Scott Boulevard, Santa Clara&lt;/em&gt;&lt;br&gt;&lt;br&gt;     Net size of expansion: &lt;strong&gt;&lt;em&gt;246K sf&lt;/strong&gt;&lt;/em&gt;&lt;br&gt;     &lt;/html&gt;     &lt;/div&gt;`)[0];\n",
       "            popup_b5952634da830f0f85456e6e40501171.setContent(html_18dd1b93b222965608b6a291098c4cb7);\n",
       "        \n",
       "\n",
       "        marker_6c565fc38057d643e815cf62b5034da2.bindPopup(popup_b5952634da830f0f85456e6e40501171)\n",
       "        ;\n",
       "\n",
       "        \n",
       "    \n",
       "    \n",
       "            var marker_a5808396b9dd6650c59ac22db8825f34 = L.marker(\n",
       "                [37.65485049999999, -122.3967284],\n",
       "                {}\n",
       "            ).addTo(map_734ef1c242a36cc4e095865505f1ec66);\n",
       "        \n",
       "    \n",
       "        var popup_94f199c1f0b454dbf3ec151ac765d2da = L.popup({&quot;maxWidth&quot;: &quot;100%&quot;});\n",
       "\n",
       "        \n",
       "            var html_c9480e5d9d1557c460e8ebe85842b2c9 = $(`&lt;div id=&quot;html_c9480e5d9d1557c460e8ebe85842b2c9&quot; style=&quot;width: 100.0%; height: 100.0%;&quot;&gt;&lt;!DOCTYPE html&gt;     &lt;html&gt;     &lt;img src=https://therealdeal.com/sanfrancisco/wp-content/uploads/2022/01/Main_relocation.jpg width=&quot;256&quot; height=&quot;156&quot;&gt;&lt;br&gt;______________________________________&lt;br&gt;     Company: &lt;strong&gt;&lt;a href=&quot;https://therealdeal.com/sanfrancisco/2022/01/27/gene-editing-firm-signs-85k-sf-lease-to-relocate-expand-south-sf-headquarters/&quot;&gt;Graphite Bio&lt;/a&gt; &lt;/strong&gt;&lt;br&gt;     Address(es) leased/subleased: &lt;em&gt;233 East Grand Avenue, South San Francisco&lt;/em&gt;&lt;br&gt;&lt;br&gt;     Net size of expansion: &lt;strong&gt;&lt;em&gt;66K sf&lt;/strong&gt;&lt;/em&gt;&lt;br&gt;     &lt;/html&gt;     &lt;/div&gt;`)[0];\n",
       "            popup_94f199c1f0b454dbf3ec151ac765d2da.setContent(html_c9480e5d9d1557c460e8ebe85842b2c9);\n",
       "        \n",
       "\n",
       "        marker_a5808396b9dd6650c59ac22db8825f34.bindPopup(popup_94f199c1f0b454dbf3ec151ac765d2da)\n",
       "        ;\n",
       "\n",
       "        \n",
       "    \n",
       "    \n",
       "            var marker_20f80aa88b355a1860b72d9bb3c7ab7e = L.marker(\n",
       "                [37.7913266, -122.3963941],\n",
       "                {}\n",
       "            ).addTo(map_734ef1c242a36cc4e095865505f1ec66);\n",
       "        \n",
       "    \n",
       "        var popup_2011358780b6135b9bacedbf78c4254c = L.popup({&quot;maxWidth&quot;: &quot;100%&quot;});\n",
       "\n",
       "        \n",
       "            var html_51f0d3fe5e25f688755bca26b4b03711 = $(`&lt;div id=&quot;html_51f0d3fe5e25f688755bca26b4b03711&quot; style=&quot;width: 100.0%; height: 100.0%;&quot;&gt;&lt;!DOCTYPE html&gt;     &lt;html&gt;     &lt;img src=https://therealdeal.com/sanfrancisco/wp-content/uploads/2022/06/Iconiq-Capital-moves-HQ-across-SFs-Financial-District-705x466.jpg width=&quot;256&quot; height=&quot;156&quot;&gt;&lt;br&gt;______________________________________&lt;br&gt;     Company: &lt;strong&gt;&lt;a href=&quot;https://therealdeal.com/sanfrancisco/2022/06/07/iconiq-capital-moves-hq-across-sfs-financial-district/&quot;&gt;Iconiq Capital&lt;/a&gt; &lt;/strong&gt;&lt;br&gt;     Address(es) leased/subleased: &lt;em&gt;300 Mission Street, San Francisco&lt;/em&gt;&lt;br&gt;&lt;br&gt;     Net size of expansion: &lt;strong&gt;&lt;em&gt;About 43K sf&lt;/strong&gt;&lt;/em&gt;&lt;br&gt;     &lt;/html&gt;     &lt;/div&gt;`)[0];\n",
       "            popup_2011358780b6135b9bacedbf78c4254c.setContent(html_51f0d3fe5e25f688755bca26b4b03711);\n",
       "        \n",
       "\n",
       "        marker_20f80aa88b355a1860b72d9bb3c7ab7e.bindPopup(popup_2011358780b6135b9bacedbf78c4254c)\n",
       "        ;\n",
       "\n",
       "        \n",
       "    \n",
       "    \n",
       "            var marker_2b629be4dd4041bc44322c1a6831723f = L.marker(\n",
       "                [37.3833106, -121.9726404],\n",
       "                {}\n",
       "            ).addTo(map_734ef1c242a36cc4e095865505f1ec66);\n",
       "        \n",
       "    \n",
       "        var popup_035adff0e6d4ff769b138a616ea6cfa9 = L.popup({&quot;maxWidth&quot;: &quot;100%&quot;});\n",
       "\n",
       "        \n",
       "            var html_2828734a0e82ffc25e025277d8138052 = $(`&lt;div id=&quot;html_2828734a0e82ffc25e025277d8138052&quot; style=&quot;width: 100.0%; height: 100.0%;&quot;&gt;&lt;!DOCTYPE html&gt;     &lt;html&gt;     &lt;img src=https://therealdeal.com/sanfrancisco/wp-content/uploads/2022/06/main-SF-Pure-Storage-upgrades-HQ-in-move-to-Santa-Clara-705x439.jpg width=&quot;256&quot; height=&quot;156&quot;&gt;&lt;br&gt;______________________________________&lt;br&gt;     Company: &lt;strong&gt;&lt;a href=&quot;https://therealdeal.com/sanfrancisco/2022/06/06/pure-storage-takes-330k-sf-in-santa-clara-sublease/&quot;&gt;Pure Storage&lt;/a&gt; &lt;/strong&gt;&lt;br&gt;     Address(es) leased/subleased: &lt;em&gt;2555 and 2565 Augustine Drive, Santa Clara&lt;/em&gt;&lt;br&gt;&lt;br&gt;     Net size of expansion: &lt;strong&gt;&lt;em&gt;About 80K sf&lt;/strong&gt;&lt;/em&gt;&lt;br&gt;     &lt;/html&gt;     &lt;/div&gt;`)[0];\n",
       "            popup_035adff0e6d4ff769b138a616ea6cfa9.setContent(html_2828734a0e82ffc25e025277d8138052);\n",
       "        \n",
       "\n",
       "        marker_2b629be4dd4041bc44322c1a6831723f.bindPopup(popup_035adff0e6d4ff769b138a616ea6cfa9)\n",
       "        ;\n",
       "\n",
       "        \n",
       "    \n",
       "    \n",
       "            var marker_a2a20ba96c6a9807dbcb75a32b5e6cc1 = L.marker(\n",
       "                [37.3945198, -122.0503021],\n",
       "                {}\n",
       "            ).addTo(map_734ef1c242a36cc4e095865505f1ec66);\n",
       "        \n",
       "    \n",
       "        var popup_ae19e5e66cb5d95eb78f50aa4b77c6d9 = L.popup({&quot;maxWidth&quot;: &quot;100%&quot;});\n",
       "\n",
       "        \n",
       "            var html_9abe35350aefab91dc5cb9e5be7eaee7 = $(`&lt;div id=&quot;html_9abe35350aefab91dc5cb9e5be7eaee7&quot; style=&quot;width: 100.0%; height: 100.0%;&quot;&gt;&lt;!DOCTYPE html&gt;     &lt;html&gt;     &lt;img src=https://therealdeal.com/sanfrancisco/wp-content/uploads/2022/04/main_SF_Synopsys-705x439.jpg width=&quot;256&quot; height=&quot;156&quot;&gt;&lt;br&gt;______________________________________&lt;br&gt;     Company: &lt;strong&gt;&lt;a href=&quot;https://therealdeal.com/sanfrancisco/2022/04/28/waymo-grows-mountain-view-hq-on-170k-sf-office-sublease/&quot;&gt;Waymo&lt;/a&gt; &lt;/strong&gt;&lt;br&gt;     Address(es) leased/subleased: &lt;em&gt;690 East Middlefield Road, Mountain View&lt;/em&gt;&lt;br&gt;&lt;br&gt;     Net size of expansion: &lt;strong&gt;&lt;em&gt;About 170K sf &lt;/strong&gt;&lt;/em&gt;&lt;br&gt;     &lt;/html&gt;     &lt;/div&gt;`)[0];\n",
       "            popup_ae19e5e66cb5d95eb78f50aa4b77c6d9.setContent(html_9abe35350aefab91dc5cb9e5be7eaee7);\n",
       "        \n",
       "\n",
       "        marker_a2a20ba96c6a9807dbcb75a32b5e6cc1.bindPopup(popup_ae19e5e66cb5d95eb78f50aa4b77c6d9)\n",
       "        ;\n",
       "\n",
       "        \n",
       "    \n",
       "    \n",
       "            var marker_8a580cb0ac58c2feef470e20ac3e651e = L.marker(\n",
       "                [37.3932985, -122.0297389],\n",
       "                {}\n",
       "            ).addTo(map_734ef1c242a36cc4e095865505f1ec66);\n",
       "        \n",
       "    \n",
       "        var popup_1e1ebe2728fb0d76d64b009c6ab6561e = L.popup({&quot;maxWidth&quot;: &quot;100%&quot;});\n",
       "\n",
       "        \n",
       "            var html_9469c877a64e695f80412c5594c2ad09 = $(`&lt;div id=&quot;html_9469c877a64e695f80412c5594c2ad09&quot; style=&quot;width: 100.0%; height: 100.0%;&quot;&gt;&lt;!DOCTYPE html&gt;     &lt;html&gt;     &lt;img src=https://therealdeal.com/sanfrancisco/wp-content/uploads/2022/06/Apple-takes-Sunnyvale-office-campus-its-second-in-12-months-705x466.jpg width=&quot;256&quot; height=&quot;156&quot;&gt;&lt;br&gt;______________________________________&lt;br&gt;     Company: &lt;strong&gt;&lt;a href=&quot;https://therealdeal.com/sanfrancisco/2022/06/01/apple-takes-another-sunnyvale-campus/&quot;&gt;Apple&lt;/a&gt; &lt;/strong&gt;&lt;br&gt;     Address(es) leased/subleased: &lt;em&gt;625 and 655 North Mathilda Avenue, Sunnyvale&lt;/em&gt;&lt;br&gt;&lt;br&gt;     Net size of expansion: &lt;strong&gt;&lt;em&gt;382.5K sf &lt;/strong&gt;&lt;/em&gt;&lt;br&gt;     &lt;/html&gt;     &lt;/div&gt;`)[0];\n",
       "            popup_1e1ebe2728fb0d76d64b009c6ab6561e.setContent(html_9469c877a64e695f80412c5594c2ad09);\n",
       "        \n",
       "\n",
       "        marker_8a580cb0ac58c2feef470e20ac3e651e.bindPopup(popup_1e1ebe2728fb0d76d64b009c6ab6561e)\n",
       "        ;\n",
       "\n",
       "        \n",
       "    \n",
       "    \n",
       "            var marker_4178546a29ef629012f6bdb22c46c73d = L.marker(\n",
       "                [37.3781396, -121.9670131],\n",
       "                {}\n",
       "            ).addTo(map_734ef1c242a36cc4e095865505f1ec66);\n",
       "        \n",
       "    \n",
       "        var popup_0a09242a571712e9eda24e7809e28c0c = L.popup({&quot;maxWidth&quot;: &quot;100%&quot;});\n",
       "\n",
       "        \n",
       "            var html_bed6eb27ba03c08976e2167499bb4e88 = $(`&lt;div id=&quot;html_bed6eb27ba03c08976e2167499bb4e88&quot; style=&quot;width: 100.0%; height: 100.0%;&quot;&gt;&lt;!DOCTYPE html&gt;     &lt;html&gt;     &lt;img src=https://therealdeal.com/sanfrancisco/wp-content/uploads/2022/04/main-Amazon-adds-160K-sf-at-Santa-Clara-office-705x439.jpg width=&quot;256&quot; height=&quot;156&quot;&gt;&lt;br&gt;______________________________________&lt;br&gt;     Company: &lt;strong&gt;&lt;a href=&quot;https://therealdeal.com/sanfrancisco/2022/04/19/amazon-adds-160k-sf-at-santa-clara-office/&quot;&gt;Amazon&lt;/a&gt;&lt;/strong&gt;&lt;br&gt;     Address(es) leased/subleased: &lt;em&gt;3075 Olcott Street, Santa Clara&lt;/em&gt;&lt;br&gt;&lt;br&gt;     Net size of expansion: &lt;strong&gt;&lt;em&gt;160K sf&lt;/strong&gt;&lt;/em&gt;&lt;br&gt;     &lt;/html&gt;     &lt;/div&gt;`)[0];\n",
       "            popup_0a09242a571712e9eda24e7809e28c0c.setContent(html_bed6eb27ba03c08976e2167499bb4e88);\n",
       "        \n",
       "\n",
       "        marker_4178546a29ef629012f6bdb22c46c73d.bindPopup(popup_0a09242a571712e9eda24e7809e28c0c)\n",
       "        ;\n",
       "\n",
       "        \n",
       "    \n",
       "    \n",
       "            var marker_45034264862cf92f07fd98a4bc0f57ae = L.marker(\n",
       "                [37.6571069, -122.3889004],\n",
       "                {}\n",
       "            ).addTo(map_734ef1c242a36cc4e095865505f1ec66);\n",
       "        \n",
       "    \n",
       "        var popup_10b6cb0ff6dbc9eb09ed17c3754ec7cc = L.popup({&quot;maxWidth&quot;: &quot;100%&quot;});\n",
       "\n",
       "        \n",
       "            var html_749e86ec632d4f1080706b8358583d69 = $(`&lt;div id=&quot;html_749e86ec632d4f1080706b8358583d69&quot; style=&quot;width: 100.0%; height: 100.0%;&quot;&gt;&lt;!DOCTYPE html&gt;     &lt;html&gt;     &lt;img src=https://therealdeal.com/sanfrancisco/wp-content/uploads/2022/05/LA-Biotech-startup-leases-142K-sf-RD-building-in-South-San-Francisco-MAIN-705x439.jpg width=&quot;256&quot; height=&quot;156&quot;&gt;&lt;br&gt;______________________________________&lt;br&gt;     Company: &lt;strong&gt;&lt;a href=&quot;https://therealdeal.com/sanfrancisco/2022/05/16/biotech-startup-takes-entire-spec-development-in-south-sf/&quot;&gt;InterVenn&lt;/a&gt; Biosciences&lt;/strong&gt;&lt;br&gt;     Address(es) leased/subleased: &lt;em&gt;499 Forbes Boulevard, South San Francisco&lt;/em&gt;&lt;br&gt;&lt;br&gt;     Net size of expansion: &lt;strong&gt;&lt;em&gt;142K sf&lt;/strong&gt;&lt;/em&gt;&lt;br&gt;     &lt;/html&gt;     &lt;/div&gt;`)[0];\n",
       "            popup_10b6cb0ff6dbc9eb09ed17c3754ec7cc.setContent(html_749e86ec632d4f1080706b8358583d69);\n",
       "        \n",
       "\n",
       "        marker_45034264862cf92f07fd98a4bc0f57ae.bindPopup(popup_10b6cb0ff6dbc9eb09ed17c3754ec7cc)\n",
       "        ;\n",
       "\n",
       "        \n",
       "    \n",
       "    \n",
       "            var marker_7ba0ef1e995eb73b23af8b49fd31125c = L.marker(\n",
       "                [37.704481, -122.1401864],\n",
       "                {}\n",
       "            ).addTo(map_734ef1c242a36cc4e095865505f1ec66);\n",
       "        \n",
       "    \n",
       "        var popup_3c5da3eacc7e774c936aef206fb47062 = L.popup({&quot;maxWidth&quot;: &quot;100%&quot;});\n",
       "\n",
       "        \n",
       "            var html_5b910849d00c093c80827a8141d87ac4 = $(`&lt;div id=&quot;html_5b910849d00c093c80827a8141d87ac4&quot; style=&quot;width: 100.0%; height: 100.0%;&quot;&gt;&lt;!DOCTYPE html&gt;     &lt;html&gt;     &lt;img src=https://therealdeal.com/sanfrancisco/wp-content/uploads/2022/04/main_LA_Amazon-705x439.jpg width=&quot;256&quot; height=&quot;156&quot;&gt;&lt;br&gt;______________________________________&lt;br&gt;     Company: &lt;strong&gt;&lt;a href=&quot;https://therealdeal.com/sanfrancisco/2022/04/21/amazon-offloads-137k-sf-industrial-building-in-san-leandro/&quot;&gt;Third Wave&lt;/a&gt; Automation&lt;/strong&gt;&lt;br&gt;     Address(es) leased/subleased: &lt;em&gt;100 Halcyon Drive, San Leandro&lt;/em&gt;&lt;br&gt;&lt;br&gt;     Net size of expansion: &lt;strong&gt;&lt;em&gt;About 137K sf&lt;/strong&gt;&lt;/em&gt;&lt;br&gt;     &lt;/html&gt;     &lt;/div&gt;`)[0];\n",
       "            popup_3c5da3eacc7e774c936aef206fb47062.setContent(html_5b910849d00c093c80827a8141d87ac4);\n",
       "        \n",
       "\n",
       "        marker_7ba0ef1e995eb73b23af8b49fd31125c.bindPopup(popup_3c5da3eacc7e774c936aef206fb47062)\n",
       "        ;\n",
       "\n",
       "        \n",
       "    \n",
       "    \n",
       "            var marker_673e3d0cefc58d5d6d4580b1145043e9 = L.marker(\n",
       "                [37.7018472, -122.1378715],\n",
       "                {}\n",
       "            ).addTo(map_734ef1c242a36cc4e095865505f1ec66);\n",
       "        \n",
       "    \n",
       "        var popup_2c993bc0370ceeba4fc64a02db04bcb8 = L.popup({&quot;maxWidth&quot;: &quot;100%&quot;});\n",
       "\n",
       "        \n",
       "            var html_23b9255ab041f231b786a065ac25c78d = $(`&lt;div id=&quot;html_23b9255ab041f231b786a065ac25c78d&quot; style=&quot;width: 100.0%; height: 100.0%;&quot;&gt;&lt;!DOCTYPE html&gt;     &lt;html&gt;     &lt;img src=https://therealdeal.com/sanfrancisco/wp-content/uploads/2022/04/Amazon-finds-taker-for-300K-sf-industrial-sublease-in-East-Bay-705x431.jpg width=&quot;256&quot; height=&quot;156&quot;&gt;&lt;br&gt;______________________________________&lt;br&gt;     Company: &lt;strong&gt;&lt;a href=&quot;https://therealdeal.com/sanfrancisco/2022/04/01/amazon-finds-taker-for-300k-sf-industrial-sublease-in-east-bay/&quot;&gt;Dependable Highway&lt;/a&gt; Express&lt;/strong&gt;&lt;br&gt;     Address(es) leased/subleased: &lt;em&gt;200 Halcyon Drive, San Leandro &lt;/em&gt;&lt;br&gt;&lt;br&gt;     Net size of expansion: &lt;strong&gt;&lt;em&gt;About 44K sf&lt;/strong&gt;&lt;/em&gt;&lt;br&gt;     &lt;/html&gt;     &lt;/div&gt;`)[0];\n",
       "            popup_2c993bc0370ceeba4fc64a02db04bcb8.setContent(html_23b9255ab041f231b786a065ac25c78d);\n",
       "        \n",
       "\n",
       "        marker_673e3d0cefc58d5d6d4580b1145043e9.bindPopup(popup_2c993bc0370ceeba4fc64a02db04bcb8)\n",
       "        ;\n",
       "\n",
       "        \n",
       "    \n",
       "    \n",
       "            var marker_45948a1ae409cacd3802201682a4c3a2 = L.marker(\n",
       "                [37.9996751, -122.3400053],\n",
       "                {}\n",
       "            ).addTo(map_734ef1c242a36cc4e095865505f1ec66);\n",
       "        \n",
       "    \n",
       "        var popup_6fc0a7fecfa5f99306804466f9d4dc4b = L.popup({&quot;maxWidth&quot;: &quot;100%&quot;});\n",
       "\n",
       "        \n",
       "            var html_3ce5193334dcb5dd74e71966b08ed93d = $(`&lt;div id=&quot;html_3ce5193334dcb5dd74e71966b08ed93d&quot; style=&quot;width: 100.0%; height: 100.0%;&quot;&gt;&lt;!DOCTYPE html&gt;     &lt;html&gt;     &lt;img src=https://therealdeal.com/sanfrancisco/wp-content/uploads/2022/02/SFO-Amazon-leases-204K-sf-in-Pinole-Point-Commerce-Center-in-Richmond-MAIN-r1-705x439.jpg width=&quot;256&quot; height=&quot;156&quot;&gt;&lt;br&gt;______________________________________&lt;br&gt;     Company: &lt;strong&gt;&lt;a href=&quot;https://therealdeal.com/sanfrancisco/2022/02/14/amazon-leases-204k-sf-in-pinole-point-commerce-center-in-richmond/&quot;&gt;Amazon&lt;/a&gt;&lt;/strong&gt;&lt;br&gt;     Address(es) leased/subleased: &lt;em&gt;6045 Giant Highway, Richmond&lt;/em&gt;&lt;br&gt;&lt;br&gt;     Net size of expansion: &lt;strong&gt;&lt;em&gt;203.5K sf&lt;/strong&gt;&lt;/em&gt;&lt;br&gt;     &lt;/html&gt;     &lt;/div&gt;`)[0];\n",
       "            popup_6fc0a7fecfa5f99306804466f9d4dc4b.setContent(html_3ce5193334dcb5dd74e71966b08ed93d);\n",
       "        \n",
       "\n",
       "        marker_45948a1ae409cacd3802201682a4c3a2.bindPopup(popup_6fc0a7fecfa5f99306804466f9d4dc4b)\n",
       "        ;\n",
       "\n",
       "        \n",
       "    \n",
       "    \n",
       "            var marker_685b2ba4cca825e9a650dd3bd79ca742 = L.marker(\n",
       "                [37.7770186, -122.416524],\n",
       "                {}\n",
       "            ).addTo(map_734ef1c242a36cc4e095865505f1ec66);\n",
       "        \n",
       "    \n",
       "        var popup_904d11d7b7c568fd14b02c1a7968002b = L.popup({&quot;maxWidth&quot;: &quot;100%&quot;});\n",
       "\n",
       "        \n",
       "            var html_da1bcb2237424c21154deb1b3794f0aa = $(`&lt;div id=&quot;html_da1bcb2237424c21154deb1b3794f0aa&quot; style=&quot;width: 100.0%; height: 100.0%;&quot;&gt;&lt;!DOCTYPE html&gt;     &lt;html&gt;     &lt;img src=https://therealdeal.com/sanfrancisco/wp-content/uploads/2022/01/main-Twitter-expands-SF-headquarters-even-as-remote-work-rises-705x439.jpg width=&quot;256&quot; height=&quot;156&quot;&gt;&lt;br&gt;______________________________________&lt;br&gt;     Company: &lt;strong&gt;&lt;a href=&quot;https://therealdeal.com/sanfrancisco/2022/01/19/twitter-expands-sf-headquarters-even-as-remote-work-rises/&quot;&gt;Twitter&lt;/a&gt;&lt;/strong&gt;&lt;br&gt;     Address(es) leased/subleased: &lt;em&gt;1355 Market Street, San Francisco&lt;/em&gt;&lt;br&gt;&lt;br&gt;     Net size of expansion: &lt;strong&gt;&lt;em&gt;About 80K sf&lt;/strong&gt;&lt;/em&gt;&lt;br&gt;     &lt;/html&gt;     &lt;/div&gt;`)[0];\n",
       "            popup_904d11d7b7c568fd14b02c1a7968002b.setContent(html_da1bcb2237424c21154deb1b3794f0aa);\n",
       "        \n",
       "\n",
       "        marker_685b2ba4cca825e9a650dd3bd79ca742.bindPopup(popup_904d11d7b7c568fd14b02c1a7968002b)\n",
       "        ;\n",
       "\n",
       "        \n",
       "    \n",
       "    \n",
       "            var marker_f0abb975fb204b79af8b06599599212c = L.marker(\n",
       "                [37.813554, -122.3098877],\n",
       "                {}\n",
       "            ).addTo(map_734ef1c242a36cc4e095865505f1ec66);\n",
       "        \n",
       "    \n",
       "        var popup_13a6283110a975e04ffc305e007b59e1 = L.popup({&quot;maxWidth&quot;: &quot;100%&quot;});\n",
       "\n",
       "        \n",
       "            var html_76cb9d275fdc504298f1ea6ae1f278dc = $(`&lt;div id=&quot;html_76cb9d275fdc504298f1ea6ae1f278dc&quot; style=&quot;width: 100.0%; height: 100.0%;&quot;&gt;&lt;!DOCTYPE html&gt;     &lt;html&gt;     &lt;img src=https://therealdeal.com/sanfrancisco/wp-content/uploads/2022/03/CenterPoint-leases-its-460K-industrial-Oakland-Port-to-PCC-Logistics-705x431.jpg width=&quot;256&quot; height=&quot;156&quot;&gt;&lt;br&gt;______________________________________&lt;br&gt;     Company: &lt;strong&gt;&lt;a href=&quot;https://therealdeal.com/sanfrancisco/2022/03/25/pcc-logistics-leases-460k-sf-from-centerpoint-port-of-oakland/&quot;&gt;PCC Logistics&lt;/a&gt; &lt;/strong&gt;&lt;br&gt;     Address(es) leased/subleased: &lt;em&gt;1300 Maritime Street, Oakland&lt;/em&gt;&lt;br&gt;&lt;br&gt;     Net size of expansion: &lt;strong&gt;&lt;em&gt;460K sf&lt;/strong&gt;&lt;/em&gt;&lt;br&gt;     &lt;/html&gt;     &lt;/div&gt;`)[0];\n",
       "            popup_13a6283110a975e04ffc305e007b59e1.setContent(html_76cb9d275fdc504298f1ea6ae1f278dc);\n",
       "        \n",
       "\n",
       "        marker_f0abb975fb204b79af8b06599599212c.bindPopup(popup_13a6283110a975e04ffc305e007b59e1)\n",
       "        ;\n",
       "\n",
       "        \n",
       "    \n",
       "    \n",
       "            var marker_dd86368f28bd310d67898e315ab577b4 = L.marker(\n",
       "                [37.5993766, -122.3835841],\n",
       "                {}\n",
       "            ).addTo(map_734ef1c242a36cc4e095865505f1ec66);\n",
       "        \n",
       "    \n",
       "        var popup_2d706fe366175211da08f66f5062669f = L.popup({&quot;maxWidth&quot;: &quot;100%&quot;});\n",
       "\n",
       "        \n",
       "            var html_01b980e4b1558f37e9cc2cdbc1d05511 = $(`&lt;div id=&quot;html_01b980e4b1558f37e9cc2cdbc1d05511&quot; style=&quot;width: 100.0%; height: 100.0%;&quot;&gt;&lt;!DOCTYPE html&gt;     &lt;html&gt;     &lt;img src=https://therealdeal.com/sanfrancisco/wp-content/uploads/2022/06/main-Alexandria-leases-285K-sf-at-new-Millbrae-campus-to-Eikon-Therapeutics-705x439.jpg width=&quot;256&quot; height=&quot;156&quot;&gt;&lt;br&gt;______________________________________&lt;br&gt;     Company: &lt;strong&gt;&lt;a href=&quot;https://therealdeal.com/sanfrancisco/2022/06/17/alexandria-leases-285k-sf-at-new-millbrae-campus-to-eikon-therapeutics/&quot;&gt;Eikon Therapeutics&lt;/a&gt; &lt;/strong&gt;&lt;br&gt;     Address(es) leased/subleased: &lt;em&gt;30 Rollins Road, Millbrae &lt;/em&gt;&lt;br&gt;&lt;br&gt;     Net size of expansion: &lt;strong&gt;&lt;em&gt;213K sf&lt;/strong&gt;&lt;/em&gt;&lt;br&gt;     &lt;/html&gt;     &lt;/div&gt;`)[0];\n",
       "            popup_2d706fe366175211da08f66f5062669f.setContent(html_01b980e4b1558f37e9cc2cdbc1d05511);\n",
       "        \n",
       "\n",
       "        marker_dd86368f28bd310d67898e315ab577b4.bindPopup(popup_2d706fe366175211da08f66f5062669f)\n",
       "        ;\n",
       "\n",
       "        \n",
       "    \n",
       "    \n",
       "            var marker_35ffa879b13f4647f99a83ecae3d84c2 = L.marker(\n",
       "                [37.7559665, -122.2071395],\n",
       "                {}\n",
       "            ).addTo(map_734ef1c242a36cc4e095865505f1ec66);\n",
       "        \n",
       "    \n",
       "        var popup_722541bcc6901e0e15cc46f3f7836fec = L.popup({&quot;maxWidth&quot;: &quot;100%&quot;});\n",
       "\n",
       "        \n",
       "            var html_8829d944614876f7ddfa9cc05d131bf8 = $(`&lt;div id=&quot;html_8829d944614876f7ddfa9cc05d131bf8&quot; style=&quot;width: 100.0%; height: 100.0%;&quot;&gt;&lt;!DOCTYPE html&gt;     &lt;html&gt;     &lt;img src=https://therealdeal.com/sanfrancisco/wp-content/uploads/2022/06/main-SF-Tire-company-pre-leases-warehouse-space-in-Oakland-705x439.jpg width=&quot;256&quot; height=&quot;156&quot;&gt;&lt;br&gt;______________________________________&lt;br&gt;     Company: &lt;strong&gt;&lt;a href=&quot;https://therealdeal.com/sanfrancisco/2022/06/27/supply-chain-troubles-assist-prologis-latest-industrial-lease-in-oakland/?utm_source=internal&amp;utm_medium=widget&amp;utm_campaign=feature_posts&quot;&gt;TireHub&lt;/a&gt;&lt;/strong&gt;&lt;br&gt;     Address(es) leased/subleased: &lt;em&gt;6345 Coliseum Way, Oakland&lt;/em&gt;&lt;br&gt;&lt;br&gt;     Net size of expansion: &lt;strong&gt;&lt;em&gt;60K sf&lt;/strong&gt;&lt;/em&gt;&lt;br&gt;     &lt;/html&gt;     &lt;/div&gt;`)[0];\n",
       "            popup_722541bcc6901e0e15cc46f3f7836fec.setContent(html_8829d944614876f7ddfa9cc05d131bf8);\n",
       "        \n",
       "\n",
       "        marker_35ffa879b13f4647f99a83ecae3d84c2.bindPopup(popup_722541bcc6901e0e15cc46f3f7836fec)\n",
       "        ;\n",
       "\n",
       "        \n",
       "    \n",
       "    \n",
       "            var marker_a5697c0a5ebb08feadd4f90b2ec9e3f0 = L.marker(\n",
       "                [37.4138973, -121.9499774],\n",
       "                {}\n",
       "            ).addTo(map_734ef1c242a36cc4e095865505f1ec66);\n",
       "        \n",
       "    \n",
       "        var popup_aec895ffb7c6b2d2a0bbe52fb6205fc3 = L.popup({&quot;maxWidth&quot;: &quot;100%&quot;});\n",
       "\n",
       "        \n",
       "            var html_80d05e9dc1098bcd5d59259bedeb299b = $(`&lt;div id=&quot;html_80d05e9dc1098bcd5d59259bedeb299b&quot; style=&quot;width: 100.0%; height: 100.0%;&quot;&gt;&lt;!DOCTYPE html&gt;     &lt;html&gt;     &lt;img src=https://therealdeal.com/sanfrancisco/wp-content/uploads/2022/06/Main_logitech-705x439.jpg width=&quot;256&quot; height=&quot;156&quot;&gt;&lt;br&gt;______________________________________&lt;br&gt;     Company: &lt;strong&gt;&lt;a href=&quot;https://therealdeal.com/sanfrancisco/2022/06/30/logitech-lease-ends-six-year-drought-at-assembly-campus-in-sj/&quot;&gt;Logitech&lt;/a&gt; &lt;/strong&gt;&lt;br&gt;     Address(es) leased/subleased: &lt;em&gt;3930 North First Street, San Jose &lt;/em&gt;&lt;br&gt;&lt;br&gt;     Net size of expansion: &lt;strong&gt;&lt;em&gt;About 86K sf&lt;/strong&gt;&lt;/em&gt;&lt;br&gt;     &lt;/html&gt;     &lt;/div&gt;`)[0];\n",
       "            popup_aec895ffb7c6b2d2a0bbe52fb6205fc3.setContent(html_80d05e9dc1098bcd5d59259bedeb299b);\n",
       "        \n",
       "\n",
       "        marker_a5697c0a5ebb08feadd4f90b2ec9e3f0.bindPopup(popup_aec895ffb7c6b2d2a0bbe52fb6205fc3)\n",
       "        ;\n",
       "\n",
       "        \n",
       "    \n",
       "    \n",
       "            var marker_4e161936fb09f25c019e0d45edd74317 = L.marker(\n",
       "                [37.7735873, -122.4005342],\n",
       "                {}\n",
       "            ).addTo(map_734ef1c242a36cc4e095865505f1ec66);\n",
       "        \n",
       "    \n",
       "        var popup_93320016e1a4ba32374814d530bd292d = L.popup({&quot;maxWidth&quot;: &quot;100%&quot;});\n",
       "\n",
       "        \n",
       "            var html_b3f6a38b4532bf1b85c3e7a6de80eed2 = $(`&lt;div id=&quot;html_b3f6a38b4532bf1b85c3e7a6de80eed2&quot; style=&quot;width: 100.0%; height: 100.0%;&quot;&gt;&lt;!DOCTYPE html&gt;     &lt;html&gt;     &lt;img src=https://therealdeal.com/sanfrancisco/wp-content/uploads/2022/07/main_SF_Google-New-Office-705x439.jpg width=&quot;256&quot; height=&quot;156&quot;&gt;&lt;br&gt;______________________________________&lt;br&gt;     Company: &lt;strong&gt;&lt;a href=&quot;https://therealdeal.com/sanfrancisco/2022/07/05/google-cloud-subleases-300k-sf-in-soma-office-building/&quot;&gt;Google Cloud&lt;/a&gt;&lt;/strong&gt;&lt;br&gt;     Address(es) leased/subleased: &lt;em&gt;510 Townsend Street, San Francisco&lt;/em&gt;&lt;br&gt;&lt;br&gt;     Net size of expansion: &lt;strong&gt;&lt;em&gt;300K sf&lt;/strong&gt;&lt;/em&gt;&lt;br&gt;     &lt;/html&gt;     &lt;/div&gt;`)[0];\n",
       "            popup_93320016e1a4ba32374814d530bd292d.setContent(html_b3f6a38b4532bf1b85c3e7a6de80eed2);\n",
       "        \n",
       "\n",
       "        marker_4e161936fb09f25c019e0d45edd74317.bindPopup(popup_93320016e1a4ba32374814d530bd292d)\n",
       "        ;\n",
       "\n",
       "        \n",
       "    \n",
       "    \n",
       "            map_734ef1c242a36cc4e095865505f1ec66.fitBounds(\n",
       "                [37.610794194444445, -122.19012813333335],\n",
       "                {&quot;maxZoom&quot;: 15}\n",
       "            );\n",
       "        \n",
       "&lt;/script&gt;\" style=\"position:absolute;width:100%;height:100%;left:0;top:0;border:none !important;\" allowfullscreen webkitallowfullscreen mozallowfullscreen></iframe></div></div>"
      ],
      "text/plain": [
       "<folium.folium.Map at 0x1448925f0>"
      ]
     },
     "execution_count": 44,
     "metadata": {},
     "output_type": "execute_result"
    }
   ],
   "source": [
    "import folium\n",
    "import branca\n",
    "\n",
    "f = folium.Figure(width=750, height=750)\n",
    "m = folium.Map(location=df[[\"lat\", \"lon\"]].mean().to_list(),zoom_start=9)\n",
    "\n",
    "title_html = '''\n",
    "              <h3 align=\"center\" style=\"font-size:16px\"><b>{}</b></h3>\n",
    "             '''.format(f'Bay Area companies expanding their footprints, January 2022 to July 2022')\n",
    "\n",
    "for i in range(0,len(df)):\n",
    "    html = popup_html(i)\n",
    "    iframe = branca.element.IFrame(html=html)\n",
    "    popup = folium.Popup(folium.Html(html, script=True))\n",
    "    folium.Marker([df['lat'].iloc[i],df['lon'].iloc[i]],\n",
    "                 popup=popup).add_to(m)\n",
    "\n",
    "m.get_root().html.add_child(folium.Element(title_html))\n",
    "m.fit_bounds(bounds=df[['lat','lon']].mean().to_list(),max_zoom=15)\n",
    "# m.add_to(f)\n",
    "m"
   ]
  },
  {
   "cell_type": "code",
   "execution_count": 45,
   "metadata": {},
   "outputs": [],
   "source": [
    "m.save('index.html')"
   ]
  },
  {
   "cell_type": "markdown",
   "metadata": {},
   "source": [
    "## Map URL snagger"
   ]
  },
  {
   "cell_type": "markdown",
   "metadata": {},
   "source": [
    "Map template URL: `https://trd-digital.github.io/trd-news-interactive-maps/{map-folder-name}`"
   ]
  },
  {
   "cell_type": "code",
   "execution_count": 41,
   "metadata": {},
   "outputs": [],
   "source": [
    "base_name = 'https://trd-digital.github.io/trd-news-interactive-maps/'"
   ]
  },
  {
   "cell_type": "code",
   "execution_count": 42,
   "metadata": {},
   "outputs": [
    {
     "name": "stdout",
     "output_type": "stream",
     "text": [
      "https://trd-digital.github.io/trd-news-interactive-maps/bay_area_company_footprint_expansion\n"
     ]
    }
   ],
   "source": [
    "cwd = os.getcwd()\n",
    "\n",
    "cwd = cwd.split('/')\n",
    "\n",
    "final_name = base_name + cwd[-1]\n",
    "print(final_name)"
   ]
  }
 ],
 "metadata": {
  "kernelspec": {
   "display_name": "Python 3 (ipykernel)",
   "language": "python",
   "name": "python3"
  },
  "language_info": {
   "codemirror_mode": {
    "name": "ipython",
    "version": 3
   },
   "file_extension": ".py",
   "mimetype": "text/x-python",
   "name": "python",
   "nbconvert_exporter": "python",
   "pygments_lexer": "ipython3",
   "version": "3.10.3"
  },
  "toc": {
   "base_numbering": 1,
   "nav_menu": {},
   "number_sections": true,
   "sideBar": true,
   "skip_h1_title": false,
   "title_cell": "Table of Contents",
   "title_sidebar": "Contents",
   "toc_cell": false,
   "toc_position": {},
   "toc_section_display": true,
   "toc_window_display": false
  }
 },
 "nbformat": 4,
 "nbformat_minor": 4
}
