{
 "cells": [
  {
   "cell_type": "markdown",
   "metadata": {},
   "source": [
    "## Imports"
   ]
  },
  {
   "cell_type": "code",
   "execution_count": 25,
   "metadata": {},
   "outputs": [],
   "source": [
    "from geopy.geocoders import GoogleV3\n",
    "from bs4 import BeautifulSoup\n",
    "import requests\n",
    "import time\n",
    "import pandas as pd\n",
    "import numpy as np\n",
    "import urllib3\n",
    "import re\n",
    "from textwrap import shorten\n",
    "import os"
   ]
  },
  {
   "cell_type": "code",
   "execution_count": 26,
   "metadata": {},
   "outputs": [],
   "source": [
    "df = pd.read_csv('Bay Area companies expanding their footprints, Jan. 1, 2022 to July 5, 2022 - Sheet1.csv')"
   ]
  },
  {
   "cell_type": "code",
   "execution_count": 27,
   "metadata": {},
   "outputs": [
    {
     "data": {
      "text/plain": [
       "Index(['Company name', 'Home city', 'Category ',\n",
       "       'Address(es) company expanded into ',\n",
       "       'Net size of expansion, in square feet',\n",
       "       'Direct lease, purchase or sublease?', 'Sublessor (if sublease)',\n",
       "       'Date TRD wrote about expansion', 'Link to story'],\n",
       "      dtype='object')"
      ]
     },
     "execution_count": 27,
     "metadata": {},
     "output_type": "execute_result"
    }
   ],
   "source": [
    "df.columns"
   ]
  },
  {
   "cell_type": "markdown",
   "metadata": {},
   "source": [
    "## Image URL collector"
   ]
  },
  {
   "cell_type": "code",
   "execution_count": 28,
   "metadata": {},
   "outputs": [],
   "source": [
    "# Drop last n rows of a df. In case there are sums that need clipped\n",
    "# df.drop(df.tail(n).index, inplace=True)"
   ]
  },
  {
   "cell_type": "code",
   "execution_count": 29,
   "metadata": {},
   "outputs": [],
   "source": [
    "df['image_links'] = ''\n",
    "links = []\n",
    "for url in df['Link to story']:\n",
    "    try:\n",
    "        page = requests.get(url)\n",
    "        soup = BeautifulSoup(page.content, 'html.parser')\n",
    "        images = soup.find_all('img')\n",
    "        counter = 0\n",
    "        for image in images:\n",
    "            counter += 1\n",
    "            if 'jpg' in image['src']:\n",
    "                links.append(image['src'])\n",
    "                if counter == len(images):\n",
    "                    links.append('no image found')\n",
    "                break\n",
    "    except:\n",
    "        links.append('no_image')\n",
    "\n",
    "df['image_links'] = links"
   ]
  },
  {
   "cell_type": "markdown",
   "metadata": {},
   "source": [
    "## Article link formatter"
   ]
  },
  {
   "cell_type": "code",
   "execution_count": 30,
   "metadata": {},
   "outputs": [
    {
     "data": {
      "text/plain": [
       "18"
      ]
     },
     "execution_count": 30,
     "metadata": {},
     "output_type": "execute_result"
    }
   ],
   "source": [
    "len(links)"
   ]
  },
  {
   "cell_type": "code",
   "execution_count": 31,
   "metadata": {},
   "outputs": [
    {
     "data": {
      "text/plain": [
       "0            Procept BioRobotics\n",
       "1             Applied Materials \n",
       "2                  Graphite Bio \n",
       "3                Iconiq Capital \n",
       "4                  Pure Storage \n",
       "5                         Waymo \n",
       "6                         Apple \n",
       "7                         Amazon\n",
       "8          InterVenn Biosciences\n",
       "9          Third Wave Automation\n",
       "10    Dependable Highway Express\n",
       "11                        Amazon\n",
       "12                       Twitter\n",
       "13                PCC Logistics \n",
       "14           Eikon Therapeutics \n",
       "15                       TireHub\n",
       "16                     Logitech \n",
       "17                  Google Cloud\n",
       "Name: Company name, dtype: object"
      ]
     },
     "execution_count": 31,
     "metadata": {},
     "output_type": "execute_result"
    }
   ],
   "source": [
    "df['Company name']"
   ]
  },
  {
   "cell_type": "code",
   "execution_count": 32,
   "metadata": {},
   "outputs": [
    {
     "data": {
      "text/plain": [
       "0     <a href=\"https://therealdeal.com/sanfrancisco/...\n",
       "1     <a href=\"https://therealdeal.com/sanfrancisco/...\n",
       "2     <a href=\"https://therealdeal.com/sanfrancisco/...\n",
       "3     <a href=\"https://therealdeal.com/sanfrancisco/...\n",
       "4     <a href=\"https://therealdeal.com/sanfrancisco/...\n",
       "5     <a href=\"https://therealdeal.com/sanfrancisco/...\n",
       "6     <a href=\"https://therealdeal.com/sanfrancisco/...\n",
       "7     <a href=\"https://therealdeal.com/sanfrancisco/...\n",
       "8     <a href=\"https://therealdeal.com/sanfrancisco/...\n",
       "9     <a href=\"https://therealdeal.com/sanfrancisco/...\n",
       "10    <a href=\"https://therealdeal.com/sanfrancisco/...\n",
       "11    <a href=\"https://therealdeal.com/sanfrancisco/...\n",
       "12    <a href=\"https://therealdeal.com/sanfrancisco/...\n",
       "13    <a href=\"https://therealdeal.com/sanfrancisco/...\n",
       "14    <a href=\"https://therealdeal.com/sanfrancisco/...\n",
       "15    <a href=\"https://therealdeal.com/sanfrancisco/...\n",
       "16    <a href=\"https://therealdeal.com/sanfrancisco/...\n",
       "17    <a href=\"https://therealdeal.com/sanfrancisco/...\n",
       "Name: description_link, dtype: object"
      ]
     },
     "execution_count": 32,
     "metadata": {},
     "output_type": "execute_result"
    }
   ],
   "source": [
    "df[\"short_description\"] = df[\"Company name\"].apply(lambda s: shorten(s, width=20, placeholder=\"\"))\n",
    "df['remaining_desc'] = df.apply(lambda row : row['Company name'].replace(str(row['short_description']), ''), axis=1)\n",
    "df['remaining_desc']\n",
    "\n",
    "df[\"description_link\"] = '<a href=\"' + df[\"Link to story\"] + '\">' + df[\"short_description\"] + \"</a>\" + df[\"remaining_desc\"]\n",
    "df['description_link']"
   ]
  },
  {
   "cell_type": "code",
   "execution_count": 33,
   "metadata": {},
   "outputs": [
    {
     "data": {
      "text/plain": [
       "'<a href=\"https://therealdeal.com/sanfrancisco/2022/01/06/redwood-city-robotics-company-leases-158k-sf-for-new-san-jose-hq/\">Procept BioRobotics</a>'"
      ]
     },
     "execution_count": 33,
     "metadata": {},
     "output_type": "execute_result"
    }
   ],
   "source": [
    "df.description_link[0]"
   ]
  },
  {
   "cell_type": "markdown",
   "metadata": {},
   "source": [
    "## Google Maps API Geolocater Setup"
   ]
  },
  {
   "cell_type": "code",
   "execution_count": 34,
   "metadata": {},
   "outputs": [],
   "source": [
    "%store -r google_maps_API_Key\n",
    "geolocator = GoogleV3(api_key=google_maps_API_Key)"
   ]
  },
  {
   "cell_type": "code",
   "execution_count": 35,
   "metadata": {},
   "outputs": [],
   "source": [
    "df['geo_address'] = df['Address(es) company expanded into '] + ' CA'\n",
    "df['loc'] = df['geo_address'].apply(geolocator.geocode, timeout=10)\n",
    "df['point'] = df['loc'].apply(lambda loc: tuple(loc.point) if loc else None)\n",
    "df[['lat','lon','altitude']] = pd.DataFrame(df['point'].to_list(),index=df.index)"
   ]
  },
  {
   "cell_type": "markdown",
   "metadata": {},
   "source": [
    "## HTML popup formatter"
   ]
  },
  {
   "cell_type": "code",
   "execution_count": 43,
   "metadata": {},
   "outputs": [],
   "source": [
    "def popup_html(row):\n",
    "    i = row\n",
    "    address = df['Address(es) company expanded into '].iloc[i]\n",
    "    developer = df['Net size of expansion, in square feet'].iloc[i]\n",
    "    description = df['description_link'].iloc[i]\n",
    "    image = df['image_links'].iloc[i]\n",
    "    \n",
    "    html = '''<!DOCTYPE html>\n",
    "    <html>\n",
    "    <img src={} width=\"256\" height=\"156\">'''.format(image) + '''<br>______________________________________<br>\n",
    "    Company: <strong>{}'''.format(description) + '''</strong><br>\n",
    "    Address(es) leased/subleased: <em>{}'''.format(address) + '''</em><br><br>\n",
    "    Net size of expansion: <strong><em>{}'''.format(developer) + '''</strong></em><br>\n",
    "    </html>\n",
    "    '''\n",
    "    return html\n"
   ]
  },
  {
   "cell_type": "markdown",
   "metadata": {},
   "source": [
    "### HTML reservoir"
   ]
  },
  {
   "cell_type": "code",
   "execution_count": 37,
   "metadata": {},
   "outputs": [],
   "source": [
    "#     Developer(s): <strong><em>{}'''.format(developer) + '''</strong></em><br><br>"
   ]
  },
  {
   "cell_type": "markdown",
   "metadata": {},
   "source": [
    "## Map Maker"
   ]
  },
  {
   "cell_type": "code",
   "execution_count": 38,
   "metadata": {},
   "outputs": [
    {
     "data": {
      "text/plain": [
       "'<a href=\"https://therealdeal.com/sanfrancisco/2022/01/06/redwood-city-robotics-company-leases-158k-sf-for-new-san-jose-hq/\">Procept BioRobotics</a>'"
      ]
     },
     "execution_count": 38,
     "metadata": {},
     "output_type": "execute_result"
    }
   ],
   "source": [
    "df.description_link[0]"
   ]
  },
  {
   "cell_type": "code",
   "execution_count": 46,
   "metadata": {},
   "outputs": [
    {
     "data": {
      "text/html": [
       "<div style=\"width:100%;\"><div style=\"position:relative;width:100%;height:0;padding-bottom:60%;\"><span style=\"color:#565656\">Make this Notebook Trusted to load map: File -> Trust Notebook</span><iframe srcdoc=\"&lt;!DOCTYPE html&gt;\n",
       "&lt;head&gt;    \n",
       "    &lt;meta http-equiv=&quot;content-type&quot; content=&quot;text/html; charset=UTF-8&quot; /&gt;\n",
       "    \n",
       "        &lt;script&gt;\n",
       "            L_NO_TOUCH = false;\n",
       "            L_DISABLE_3D = false;\n",
       "        &lt;/script&gt;\n",
       "    \n",
       "    &lt;style&gt;html, body {width: 100%;height: 100%;margin: 0;padding: 0;}&lt;/style&gt;\n",
       "    &lt;style&gt;#map {position:absolute;top:0;bottom:0;right:0;left:0;}&lt;/style&gt;\n",
       "    &lt;script src=&quot;https://cdn.jsdelivr.net/npm/leaflet@1.6.0/dist/leaflet.js&quot;&gt;&lt;/script&gt;\n",
       "    &lt;script src=&quot;https://code.jquery.com/jquery-1.12.4.min.js&quot;&gt;&lt;/script&gt;\n",
       "    &lt;script src=&quot;https://maxcdn.bootstrapcdn.com/bootstrap/3.2.0/js/bootstrap.min.js&quot;&gt;&lt;/script&gt;\n",
       "    &lt;script src=&quot;https://cdnjs.cloudflare.com/ajax/libs/Leaflet.awesome-markers/2.0.2/leaflet.awesome-markers.js&quot;&gt;&lt;/script&gt;\n",
       "    &lt;link rel=&quot;stylesheet&quot; href=&quot;https://cdn.jsdelivr.net/npm/leaflet@1.6.0/dist/leaflet.css&quot;/&gt;\n",
       "    &lt;link rel=&quot;stylesheet&quot; href=&quot;https://maxcdn.bootstrapcdn.com/bootstrap/3.2.0/css/bootstrap.min.css&quot;/&gt;\n",
       "    &lt;link rel=&quot;stylesheet&quot; href=&quot;https://maxcdn.bootstrapcdn.com/bootstrap/3.2.0/css/bootstrap-theme.min.css&quot;/&gt;\n",
       "    &lt;link rel=&quot;stylesheet&quot; href=&quot;https://maxcdn.bootstrapcdn.com/font-awesome/4.6.3/css/font-awesome.min.css&quot;/&gt;\n",
       "    &lt;link rel=&quot;stylesheet&quot; href=&quot;https://cdnjs.cloudflare.com/ajax/libs/Leaflet.awesome-markers/2.0.2/leaflet.awesome-markers.css&quot;/&gt;\n",
       "    &lt;link rel=&quot;stylesheet&quot; href=&quot;https://cdn.jsdelivr.net/gh/python-visualization/folium/folium/templates/leaflet.awesome.rotate.min.css&quot;/&gt;\n",
       "    \n",
       "            &lt;meta name=&quot;viewport&quot; content=&quot;width=device-width,\n",
       "                initial-scale=1.0, maximum-scale=1.0, user-scalable=no&quot; /&gt;\n",
       "            &lt;style&gt;\n",
       "                #map_249d868c35853b5d6599f072fe8beb4c {\n",
       "                    position: relative;\n",
       "                    width: 100.0%;\n",
       "                    height: 100.0%;\n",
       "                    left: 0.0%;\n",
       "                    top: 0.0%;\n",
       "                }\n",
       "            &lt;/style&gt;\n",
       "        \n",
       "&lt;/head&gt;\n",
       "&lt;body&gt;    \n",
       "    \n",
       "              &lt;h3 align=&quot;center&quot; style=&quot;font-size:16px&quot;&gt;&lt;b&gt;Bay Area companies that expanded their footprints, January 2022 to July 2022&lt;/b&gt;&lt;/h3&gt;\n",
       "             \n",
       "    \n",
       "            &lt;div class=&quot;folium-map&quot; id=&quot;map_249d868c35853b5d6599f072fe8beb4c&quot; &gt;&lt;/div&gt;\n",
       "        \n",
       "&lt;/body&gt;\n",
       "&lt;script&gt;    \n",
       "    \n",
       "            var map_249d868c35853b5d6599f072fe8beb4c = L.map(\n",
       "                &quot;map_249d868c35853b5d6599f072fe8beb4c&quot;,\n",
       "                {\n",
       "                    center: [37.610794194444445, -122.19012813333335],\n",
       "                    crs: L.CRS.EPSG3857,\n",
       "                    zoom: 9,\n",
       "                    zoomControl: true,\n",
       "                    preferCanvas: false,\n",
       "                }\n",
       "            );\n",
       "\n",
       "            \n",
       "\n",
       "        \n",
       "    \n",
       "            var tile_layer_f2127327265b00fa1f29a2511d64f413 = L.tileLayer(\n",
       "                &quot;https://{s}.tile.openstreetmap.org/{z}/{x}/{y}.png&quot;,\n",
       "                {&quot;attribution&quot;: &quot;Data by \\u0026copy; \\u003ca href=\\&quot;http://openstreetmap.org\\&quot;\\u003eOpenStreetMap\\u003c/a\\u003e, under \\u003ca href=\\&quot;http://www.openstreetmap.org/copyright\\&quot;\\u003eODbL\\u003c/a\\u003e.&quot;, &quot;detectRetina&quot;: false, &quot;maxNativeZoom&quot;: 18, &quot;maxZoom&quot;: 18, &quot;minZoom&quot;: 0, &quot;noWrap&quot;: false, &quot;opacity&quot;: 1, &quot;subdomains&quot;: &quot;abc&quot;, &quot;tms&quot;: false}\n",
       "            ).addTo(map_249d868c35853b5d6599f072fe8beb4c);\n",
       "        \n",
       "    \n",
       "            var marker_b75b4842d6aac51862cde5585cbee1b9 = L.marker(\n",
       "                [37.4203331, -121.9535324],\n",
       "                {}\n",
       "            ).addTo(map_249d868c35853b5d6599f072fe8beb4c);\n",
       "        \n",
       "    \n",
       "        var popup_3b250a6cfdc7ef1b332c9d736bc89eb7 = L.popup({&quot;maxWidth&quot;: &quot;100%&quot;});\n",
       "\n",
       "        \n",
       "            var html_52f0aa41c06738089e5c5c309c0e0487 = $(`&lt;div id=&quot;html_52f0aa41c06738089e5c5c309c0e0487&quot; style=&quot;width: 100.0%; height: 100.0%;&quot;&gt;&lt;!DOCTYPE html&gt;     &lt;html&gt;     &lt;img src=https://therealdeal.com/sanfrancisco/wp-content/uploads/2022/01/SFO-Redwood-City-robotics-company-leases-158K-sf-site-of-new-San-Jose-HQ-MAIN-r1-705x439.jpg width=&quot;256&quot; height=&quot;156&quot;&gt;&lt;br&gt;______________________________________&lt;br&gt;     Company: &lt;strong&gt;&lt;a href=&quot;https://therealdeal.com/sanfrancisco/2022/01/06/redwood-city-robotics-company-leases-158k-sf-for-new-san-jose-hq/&quot;&gt;Procept BioRobotics&lt;/a&gt;&lt;/strong&gt;&lt;br&gt;     Address(es) leased/subleased: &lt;em&gt;150-160 Baytech Drive, San Jose&lt;/em&gt;&lt;br&gt;&lt;br&gt;     Net size of expansion: &lt;strong&gt;&lt;em&gt;About 110K sf &lt;/strong&gt;&lt;/em&gt;&lt;br&gt;     &lt;/html&gt;     &lt;/div&gt;`)[0];\n",
       "            popup_3b250a6cfdc7ef1b332c9d736bc89eb7.setContent(html_52f0aa41c06738089e5c5c309c0e0487);\n",
       "        \n",
       "\n",
       "        marker_b75b4842d6aac51862cde5585cbee1b9.bindPopup(popup_3b250a6cfdc7ef1b332c9d736bc89eb7)\n",
       "        ;\n",
       "\n",
       "        \n",
       "    \n",
       "    \n",
       "            var marker_37ac6c46f25159ee1f14c11291be78a8 = L.marker(\n",
       "                [37.3820063, -121.9813465],\n",
       "                {}\n",
       "            ).addTo(map_249d868c35853b5d6599f072fe8beb4c);\n",
       "        \n",
       "    \n",
       "        var popup_8779b1d223e2f911d0f2ff38ce82ff1f = L.popup({&quot;maxWidth&quot;: &quot;100%&quot;});\n",
       "\n",
       "        \n",
       "            var html_6b68a47dc8b743b34238ba5ae50387e6 = $(`&lt;div id=&quot;html_6b68a47dc8b743b34238ba5ae50387e6&quot; style=&quot;width: 100.0%; height: 100.0%;&quot;&gt;&lt;!DOCTYPE html&gt;     &lt;html&gt;     &lt;img src=https://therealdeal.com/sanfrancisco/wp-content/uploads/2022/04/SFO-Applied-Materials-signs-246K-sf-office-sublease-in-Santa-Clara-as-business-booms-MAIN-705x439.jpg width=&quot;256&quot; height=&quot;156&quot;&gt;&lt;br&gt;______________________________________&lt;br&gt;     Company: &lt;strong&gt;&lt;a href=&quot;https://therealdeal.com/sanfrancisco/2022/05/02/bright-spot-for-santa-clara-office-market-as-applied-materials-subleases-246k-sf-from-hpe/&quot;&gt;Applied Materials&lt;/a&gt; &lt;/strong&gt;&lt;br&gt;     Address(es) leased/subleased: &lt;em&gt;3333 Scott Boulevard, Santa Clara&lt;/em&gt;&lt;br&gt;&lt;br&gt;     Net size of expansion: &lt;strong&gt;&lt;em&gt;246K sf&lt;/strong&gt;&lt;/em&gt;&lt;br&gt;     &lt;/html&gt;     &lt;/div&gt;`)[0];\n",
       "            popup_8779b1d223e2f911d0f2ff38ce82ff1f.setContent(html_6b68a47dc8b743b34238ba5ae50387e6);\n",
       "        \n",
       "\n",
       "        marker_37ac6c46f25159ee1f14c11291be78a8.bindPopup(popup_8779b1d223e2f911d0f2ff38ce82ff1f)\n",
       "        ;\n",
       "\n",
       "        \n",
       "    \n",
       "    \n",
       "            var marker_d99ef935e1c26b467c3f92ff6ff72ce1 = L.marker(\n",
       "                [37.65485049999999, -122.3967284],\n",
       "                {}\n",
       "            ).addTo(map_249d868c35853b5d6599f072fe8beb4c);\n",
       "        \n",
       "    \n",
       "        var popup_605f6ad2301d27722fb17cf8adc145f0 = L.popup({&quot;maxWidth&quot;: &quot;100%&quot;});\n",
       "\n",
       "        \n",
       "            var html_0ad8a6f5d22417d08b6e8734d6ee2299 = $(`&lt;div id=&quot;html_0ad8a6f5d22417d08b6e8734d6ee2299&quot; style=&quot;width: 100.0%; height: 100.0%;&quot;&gt;&lt;!DOCTYPE html&gt;     &lt;html&gt;     &lt;img src=https://therealdeal.com/sanfrancisco/wp-content/uploads/2022/01/Main_relocation.jpg width=&quot;256&quot; height=&quot;156&quot;&gt;&lt;br&gt;______________________________________&lt;br&gt;     Company: &lt;strong&gt;&lt;a href=&quot;https://therealdeal.com/sanfrancisco/2022/01/27/gene-editing-firm-signs-85k-sf-lease-to-relocate-expand-south-sf-headquarters/&quot;&gt;Graphite Bio&lt;/a&gt; &lt;/strong&gt;&lt;br&gt;     Address(es) leased/subleased: &lt;em&gt;233 East Grand Avenue, South San Francisco&lt;/em&gt;&lt;br&gt;&lt;br&gt;     Net size of expansion: &lt;strong&gt;&lt;em&gt;66K sf&lt;/strong&gt;&lt;/em&gt;&lt;br&gt;     &lt;/html&gt;     &lt;/div&gt;`)[0];\n",
       "            popup_605f6ad2301d27722fb17cf8adc145f0.setContent(html_0ad8a6f5d22417d08b6e8734d6ee2299);\n",
       "        \n",
       "\n",
       "        marker_d99ef935e1c26b467c3f92ff6ff72ce1.bindPopup(popup_605f6ad2301d27722fb17cf8adc145f0)\n",
       "        ;\n",
       "\n",
       "        \n",
       "    \n",
       "    \n",
       "            var marker_681634d0f238de8e102cabd23760f65a = L.marker(\n",
       "                [37.7913266, -122.3963941],\n",
       "                {}\n",
       "            ).addTo(map_249d868c35853b5d6599f072fe8beb4c);\n",
       "        \n",
       "    \n",
       "        var popup_8e283d53f1905792595d890a1ea174e2 = L.popup({&quot;maxWidth&quot;: &quot;100%&quot;});\n",
       "\n",
       "        \n",
       "            var html_57470b113c1e62d4110825e008cc8d76 = $(`&lt;div id=&quot;html_57470b113c1e62d4110825e008cc8d76&quot; style=&quot;width: 100.0%; height: 100.0%;&quot;&gt;&lt;!DOCTYPE html&gt;     &lt;html&gt;     &lt;img src=https://therealdeal.com/sanfrancisco/wp-content/uploads/2022/06/Iconiq-Capital-moves-HQ-across-SFs-Financial-District-705x466.jpg width=&quot;256&quot; height=&quot;156&quot;&gt;&lt;br&gt;______________________________________&lt;br&gt;     Company: &lt;strong&gt;&lt;a href=&quot;https://therealdeal.com/sanfrancisco/2022/06/07/iconiq-capital-moves-hq-across-sfs-financial-district/&quot;&gt;Iconiq Capital&lt;/a&gt; &lt;/strong&gt;&lt;br&gt;     Address(es) leased/subleased: &lt;em&gt;300 Mission Street, San Francisco&lt;/em&gt;&lt;br&gt;&lt;br&gt;     Net size of expansion: &lt;strong&gt;&lt;em&gt;About 43K sf&lt;/strong&gt;&lt;/em&gt;&lt;br&gt;     &lt;/html&gt;     &lt;/div&gt;`)[0];\n",
       "            popup_8e283d53f1905792595d890a1ea174e2.setContent(html_57470b113c1e62d4110825e008cc8d76);\n",
       "        \n",
       "\n",
       "        marker_681634d0f238de8e102cabd23760f65a.bindPopup(popup_8e283d53f1905792595d890a1ea174e2)\n",
       "        ;\n",
       "\n",
       "        \n",
       "    \n",
       "    \n",
       "            var marker_fe86c71e42454445e3c49d74af802453 = L.marker(\n",
       "                [37.3833106, -121.9726404],\n",
       "                {}\n",
       "            ).addTo(map_249d868c35853b5d6599f072fe8beb4c);\n",
       "        \n",
       "    \n",
       "        var popup_58e6865553d4deff777648518e907cfc = L.popup({&quot;maxWidth&quot;: &quot;100%&quot;});\n",
       "\n",
       "        \n",
       "            var html_170d09e8aaa4e8f725441c2b60b6b956 = $(`&lt;div id=&quot;html_170d09e8aaa4e8f725441c2b60b6b956&quot; style=&quot;width: 100.0%; height: 100.0%;&quot;&gt;&lt;!DOCTYPE html&gt;     &lt;html&gt;     &lt;img src=https://therealdeal.com/sanfrancisco/wp-content/uploads/2022/06/main-SF-Pure-Storage-upgrades-HQ-in-move-to-Santa-Clara-705x439.jpg width=&quot;256&quot; height=&quot;156&quot;&gt;&lt;br&gt;______________________________________&lt;br&gt;     Company: &lt;strong&gt;&lt;a href=&quot;https://therealdeal.com/sanfrancisco/2022/06/06/pure-storage-takes-330k-sf-in-santa-clara-sublease/&quot;&gt;Pure Storage&lt;/a&gt; &lt;/strong&gt;&lt;br&gt;     Address(es) leased/subleased: &lt;em&gt;2555 and 2565 Augustine Drive, Santa Clara&lt;/em&gt;&lt;br&gt;&lt;br&gt;     Net size of expansion: &lt;strong&gt;&lt;em&gt;About 80K sf&lt;/strong&gt;&lt;/em&gt;&lt;br&gt;     &lt;/html&gt;     &lt;/div&gt;`)[0];\n",
       "            popup_58e6865553d4deff777648518e907cfc.setContent(html_170d09e8aaa4e8f725441c2b60b6b956);\n",
       "        \n",
       "\n",
       "        marker_fe86c71e42454445e3c49d74af802453.bindPopup(popup_58e6865553d4deff777648518e907cfc)\n",
       "        ;\n",
       "\n",
       "        \n",
       "    \n",
       "    \n",
       "            var marker_a30e60b60cb51b76c462a1551ab3c3db = L.marker(\n",
       "                [37.3945198, -122.0503021],\n",
       "                {}\n",
       "            ).addTo(map_249d868c35853b5d6599f072fe8beb4c);\n",
       "        \n",
       "    \n",
       "        var popup_a95b3f987c8e3aac6a600687f2f5c774 = L.popup({&quot;maxWidth&quot;: &quot;100%&quot;});\n",
       "\n",
       "        \n",
       "            var html_7c0aaefc9b90a40568e0c06828a4ecf6 = $(`&lt;div id=&quot;html_7c0aaefc9b90a40568e0c06828a4ecf6&quot; style=&quot;width: 100.0%; height: 100.0%;&quot;&gt;&lt;!DOCTYPE html&gt;     &lt;html&gt;     &lt;img src=https://therealdeal.com/sanfrancisco/wp-content/uploads/2022/04/main_SF_Synopsys-705x439.jpg width=&quot;256&quot; height=&quot;156&quot;&gt;&lt;br&gt;______________________________________&lt;br&gt;     Company: &lt;strong&gt;&lt;a href=&quot;https://therealdeal.com/sanfrancisco/2022/04/28/waymo-grows-mountain-view-hq-on-170k-sf-office-sublease/&quot;&gt;Waymo&lt;/a&gt; &lt;/strong&gt;&lt;br&gt;     Address(es) leased/subleased: &lt;em&gt;690 East Middlefield Road, Mountain View&lt;/em&gt;&lt;br&gt;&lt;br&gt;     Net size of expansion: &lt;strong&gt;&lt;em&gt;About 170K sf &lt;/strong&gt;&lt;/em&gt;&lt;br&gt;     &lt;/html&gt;     &lt;/div&gt;`)[0];\n",
       "            popup_a95b3f987c8e3aac6a600687f2f5c774.setContent(html_7c0aaefc9b90a40568e0c06828a4ecf6);\n",
       "        \n",
       "\n",
       "        marker_a30e60b60cb51b76c462a1551ab3c3db.bindPopup(popup_a95b3f987c8e3aac6a600687f2f5c774)\n",
       "        ;\n",
       "\n",
       "        \n",
       "    \n",
       "    \n",
       "            var marker_20289675d17a2ffb7688513cd210ee3e = L.marker(\n",
       "                [37.3932985, -122.0297389],\n",
       "                {}\n",
       "            ).addTo(map_249d868c35853b5d6599f072fe8beb4c);\n",
       "        \n",
       "    \n",
       "        var popup_135186cddf1f57a138cbc1add900e34d = L.popup({&quot;maxWidth&quot;: &quot;100%&quot;});\n",
       "\n",
       "        \n",
       "            var html_a1b79076bab82fd98e65bd497a58fccb = $(`&lt;div id=&quot;html_a1b79076bab82fd98e65bd497a58fccb&quot; style=&quot;width: 100.0%; height: 100.0%;&quot;&gt;&lt;!DOCTYPE html&gt;     &lt;html&gt;     &lt;img src=https://therealdeal.com/sanfrancisco/wp-content/uploads/2022/06/Apple-takes-Sunnyvale-office-campus-its-second-in-12-months-705x466.jpg width=&quot;256&quot; height=&quot;156&quot;&gt;&lt;br&gt;______________________________________&lt;br&gt;     Company: &lt;strong&gt;&lt;a href=&quot;https://therealdeal.com/sanfrancisco/2022/06/01/apple-takes-another-sunnyvale-campus/&quot;&gt;Apple&lt;/a&gt; &lt;/strong&gt;&lt;br&gt;     Address(es) leased/subleased: &lt;em&gt;625 and 655 North Mathilda Avenue, Sunnyvale&lt;/em&gt;&lt;br&gt;&lt;br&gt;     Net size of expansion: &lt;strong&gt;&lt;em&gt;382.5K sf &lt;/strong&gt;&lt;/em&gt;&lt;br&gt;     &lt;/html&gt;     &lt;/div&gt;`)[0];\n",
       "            popup_135186cddf1f57a138cbc1add900e34d.setContent(html_a1b79076bab82fd98e65bd497a58fccb);\n",
       "        \n",
       "\n",
       "        marker_20289675d17a2ffb7688513cd210ee3e.bindPopup(popup_135186cddf1f57a138cbc1add900e34d)\n",
       "        ;\n",
       "\n",
       "        \n",
       "    \n",
       "    \n",
       "            var marker_6233ef472d42762d3b39a65f049f612a = L.marker(\n",
       "                [37.3781396, -121.9670131],\n",
       "                {}\n",
       "            ).addTo(map_249d868c35853b5d6599f072fe8beb4c);\n",
       "        \n",
       "    \n",
       "        var popup_7562f098be35a71f4daa29df5f3443a5 = L.popup({&quot;maxWidth&quot;: &quot;100%&quot;});\n",
       "\n",
       "        \n",
       "            var html_6ad200c4ff4eff0b6ecaf95eeda6f267 = $(`&lt;div id=&quot;html_6ad200c4ff4eff0b6ecaf95eeda6f267&quot; style=&quot;width: 100.0%; height: 100.0%;&quot;&gt;&lt;!DOCTYPE html&gt;     &lt;html&gt;     &lt;img src=https://therealdeal.com/sanfrancisco/wp-content/uploads/2022/04/main-Amazon-adds-160K-sf-at-Santa-Clara-office-705x439.jpg width=&quot;256&quot; height=&quot;156&quot;&gt;&lt;br&gt;______________________________________&lt;br&gt;     Company: &lt;strong&gt;&lt;a href=&quot;https://therealdeal.com/sanfrancisco/2022/04/19/amazon-adds-160k-sf-at-santa-clara-office/&quot;&gt;Amazon&lt;/a&gt;&lt;/strong&gt;&lt;br&gt;     Address(es) leased/subleased: &lt;em&gt;3075 Olcott Street, Santa Clara&lt;/em&gt;&lt;br&gt;&lt;br&gt;     Net size of expansion: &lt;strong&gt;&lt;em&gt;160K sf&lt;/strong&gt;&lt;/em&gt;&lt;br&gt;     &lt;/html&gt;     &lt;/div&gt;`)[0];\n",
       "            popup_7562f098be35a71f4daa29df5f3443a5.setContent(html_6ad200c4ff4eff0b6ecaf95eeda6f267);\n",
       "        \n",
       "\n",
       "        marker_6233ef472d42762d3b39a65f049f612a.bindPopup(popup_7562f098be35a71f4daa29df5f3443a5)\n",
       "        ;\n",
       "\n",
       "        \n",
       "    \n",
       "    \n",
       "            var marker_2231ee02ab79a92568456b8ccebbea96 = L.marker(\n",
       "                [37.6571069, -122.3889004],\n",
       "                {}\n",
       "            ).addTo(map_249d868c35853b5d6599f072fe8beb4c);\n",
       "        \n",
       "    \n",
       "        var popup_de10383d0b9d56fe7eaa338078806822 = L.popup({&quot;maxWidth&quot;: &quot;100%&quot;});\n",
       "\n",
       "        \n",
       "            var html_f83c13d900386b4dd00c95832e59ee92 = $(`&lt;div id=&quot;html_f83c13d900386b4dd00c95832e59ee92&quot; style=&quot;width: 100.0%; height: 100.0%;&quot;&gt;&lt;!DOCTYPE html&gt;     &lt;html&gt;     &lt;img src=https://therealdeal.com/sanfrancisco/wp-content/uploads/2022/05/LA-Biotech-startup-leases-142K-sf-RD-building-in-South-San-Francisco-MAIN-705x439.jpg width=&quot;256&quot; height=&quot;156&quot;&gt;&lt;br&gt;______________________________________&lt;br&gt;     Company: &lt;strong&gt;&lt;a href=&quot;https://therealdeal.com/sanfrancisco/2022/05/16/biotech-startup-takes-entire-spec-development-in-south-sf/&quot;&gt;InterVenn&lt;/a&gt; Biosciences&lt;/strong&gt;&lt;br&gt;     Address(es) leased/subleased: &lt;em&gt;499 Forbes Boulevard, South San Francisco&lt;/em&gt;&lt;br&gt;&lt;br&gt;     Net size of expansion: &lt;strong&gt;&lt;em&gt;142K sf&lt;/strong&gt;&lt;/em&gt;&lt;br&gt;     &lt;/html&gt;     &lt;/div&gt;`)[0];\n",
       "            popup_de10383d0b9d56fe7eaa338078806822.setContent(html_f83c13d900386b4dd00c95832e59ee92);\n",
       "        \n",
       "\n",
       "        marker_2231ee02ab79a92568456b8ccebbea96.bindPopup(popup_de10383d0b9d56fe7eaa338078806822)\n",
       "        ;\n",
       "\n",
       "        \n",
       "    \n",
       "    \n",
       "            var marker_2be78d8e5618e9ae6a1d021a53b7f56e = L.marker(\n",
       "                [37.704481, -122.1401864],\n",
       "                {}\n",
       "            ).addTo(map_249d868c35853b5d6599f072fe8beb4c);\n",
       "        \n",
       "    \n",
       "        var popup_d020fcee454c1312af8fb207e64f252e = L.popup({&quot;maxWidth&quot;: &quot;100%&quot;});\n",
       "\n",
       "        \n",
       "            var html_c03e46d35d304d4e100bd6a8e59734b5 = $(`&lt;div id=&quot;html_c03e46d35d304d4e100bd6a8e59734b5&quot; style=&quot;width: 100.0%; height: 100.0%;&quot;&gt;&lt;!DOCTYPE html&gt;     &lt;html&gt;     &lt;img src=https://therealdeal.com/sanfrancisco/wp-content/uploads/2022/04/main_LA_Amazon-705x439.jpg width=&quot;256&quot; height=&quot;156&quot;&gt;&lt;br&gt;______________________________________&lt;br&gt;     Company: &lt;strong&gt;&lt;a href=&quot;https://therealdeal.com/sanfrancisco/2022/04/21/amazon-offloads-137k-sf-industrial-building-in-san-leandro/&quot;&gt;Third Wave&lt;/a&gt; Automation&lt;/strong&gt;&lt;br&gt;     Address(es) leased/subleased: &lt;em&gt;100 Halcyon Drive, San Leandro&lt;/em&gt;&lt;br&gt;&lt;br&gt;     Net size of expansion: &lt;strong&gt;&lt;em&gt;About 137K sf&lt;/strong&gt;&lt;/em&gt;&lt;br&gt;     &lt;/html&gt;     &lt;/div&gt;`)[0];\n",
       "            popup_d020fcee454c1312af8fb207e64f252e.setContent(html_c03e46d35d304d4e100bd6a8e59734b5);\n",
       "        \n",
       "\n",
       "        marker_2be78d8e5618e9ae6a1d021a53b7f56e.bindPopup(popup_d020fcee454c1312af8fb207e64f252e)\n",
       "        ;\n",
       "\n",
       "        \n",
       "    \n",
       "    \n",
       "            var marker_dcbfd46234c7b287766f7d2c041440da = L.marker(\n",
       "                [37.7018472, -122.1378715],\n",
       "                {}\n",
       "            ).addTo(map_249d868c35853b5d6599f072fe8beb4c);\n",
       "        \n",
       "    \n",
       "        var popup_056f0566362328fb167f0dd1496e3d5d = L.popup({&quot;maxWidth&quot;: &quot;100%&quot;});\n",
       "\n",
       "        \n",
       "            var html_3c99074a3c6e126afce7ce6b4edca54e = $(`&lt;div id=&quot;html_3c99074a3c6e126afce7ce6b4edca54e&quot; style=&quot;width: 100.0%; height: 100.0%;&quot;&gt;&lt;!DOCTYPE html&gt;     &lt;html&gt;     &lt;img src=https://therealdeal.com/sanfrancisco/wp-content/uploads/2022/04/Amazon-finds-taker-for-300K-sf-industrial-sublease-in-East-Bay-705x431.jpg width=&quot;256&quot; height=&quot;156&quot;&gt;&lt;br&gt;______________________________________&lt;br&gt;     Company: &lt;strong&gt;&lt;a href=&quot;https://therealdeal.com/sanfrancisco/2022/04/01/amazon-finds-taker-for-300k-sf-industrial-sublease-in-east-bay/&quot;&gt;Dependable Highway&lt;/a&gt; Express&lt;/strong&gt;&lt;br&gt;     Address(es) leased/subleased: &lt;em&gt;200 Halcyon Drive, San Leandro &lt;/em&gt;&lt;br&gt;&lt;br&gt;     Net size of expansion: &lt;strong&gt;&lt;em&gt;About 44K sf&lt;/strong&gt;&lt;/em&gt;&lt;br&gt;     &lt;/html&gt;     &lt;/div&gt;`)[0];\n",
       "            popup_056f0566362328fb167f0dd1496e3d5d.setContent(html_3c99074a3c6e126afce7ce6b4edca54e);\n",
       "        \n",
       "\n",
       "        marker_dcbfd46234c7b287766f7d2c041440da.bindPopup(popup_056f0566362328fb167f0dd1496e3d5d)\n",
       "        ;\n",
       "\n",
       "        \n",
       "    \n",
       "    \n",
       "            var marker_abfc037f60f39eee877f5823a78b4152 = L.marker(\n",
       "                [37.9996751, -122.3400053],\n",
       "                {}\n",
       "            ).addTo(map_249d868c35853b5d6599f072fe8beb4c);\n",
       "        \n",
       "    \n",
       "        var popup_c8052560a85f3bcb02faad3b01d79dfd = L.popup({&quot;maxWidth&quot;: &quot;100%&quot;});\n",
       "\n",
       "        \n",
       "            var html_aa2e1195667218ea39e070ae6a223fd5 = $(`&lt;div id=&quot;html_aa2e1195667218ea39e070ae6a223fd5&quot; style=&quot;width: 100.0%; height: 100.0%;&quot;&gt;&lt;!DOCTYPE html&gt;     &lt;html&gt;     &lt;img src=https://therealdeal.com/sanfrancisco/wp-content/uploads/2022/02/SFO-Amazon-leases-204K-sf-in-Pinole-Point-Commerce-Center-in-Richmond-MAIN-r1-705x439.jpg width=&quot;256&quot; height=&quot;156&quot;&gt;&lt;br&gt;______________________________________&lt;br&gt;     Company: &lt;strong&gt;&lt;a href=&quot;https://therealdeal.com/sanfrancisco/2022/02/14/amazon-leases-204k-sf-in-pinole-point-commerce-center-in-richmond/&quot;&gt;Amazon&lt;/a&gt;&lt;/strong&gt;&lt;br&gt;     Address(es) leased/subleased: &lt;em&gt;6045 Giant Highway, Richmond&lt;/em&gt;&lt;br&gt;&lt;br&gt;     Net size of expansion: &lt;strong&gt;&lt;em&gt;203.5K sf&lt;/strong&gt;&lt;/em&gt;&lt;br&gt;     &lt;/html&gt;     &lt;/div&gt;`)[0];\n",
       "            popup_c8052560a85f3bcb02faad3b01d79dfd.setContent(html_aa2e1195667218ea39e070ae6a223fd5);\n",
       "        \n",
       "\n",
       "        marker_abfc037f60f39eee877f5823a78b4152.bindPopup(popup_c8052560a85f3bcb02faad3b01d79dfd)\n",
       "        ;\n",
       "\n",
       "        \n",
       "    \n",
       "    \n",
       "            var marker_e11a088189d896e20dccbb92f7526cf5 = L.marker(\n",
       "                [37.7770186, -122.416524],\n",
       "                {}\n",
       "            ).addTo(map_249d868c35853b5d6599f072fe8beb4c);\n",
       "        \n",
       "    \n",
       "        var popup_6f1727aebca9ce4fd6ed8b9f6e79d20c = L.popup({&quot;maxWidth&quot;: &quot;100%&quot;});\n",
       "\n",
       "        \n",
       "            var html_a5ee8cdbe9c9ec9884c6af51d3d0a154 = $(`&lt;div id=&quot;html_a5ee8cdbe9c9ec9884c6af51d3d0a154&quot; style=&quot;width: 100.0%; height: 100.0%;&quot;&gt;&lt;!DOCTYPE html&gt;     &lt;html&gt;     &lt;img src=https://therealdeal.com/sanfrancisco/wp-content/uploads/2022/01/main-Twitter-expands-SF-headquarters-even-as-remote-work-rises-705x439.jpg width=&quot;256&quot; height=&quot;156&quot;&gt;&lt;br&gt;______________________________________&lt;br&gt;     Company: &lt;strong&gt;&lt;a href=&quot;https://therealdeal.com/sanfrancisco/2022/01/19/twitter-expands-sf-headquarters-even-as-remote-work-rises/&quot;&gt;Twitter&lt;/a&gt;&lt;/strong&gt;&lt;br&gt;     Address(es) leased/subleased: &lt;em&gt;1355 Market Street, San Francisco&lt;/em&gt;&lt;br&gt;&lt;br&gt;     Net size of expansion: &lt;strong&gt;&lt;em&gt;About 80K sf&lt;/strong&gt;&lt;/em&gt;&lt;br&gt;     &lt;/html&gt;     &lt;/div&gt;`)[0];\n",
       "            popup_6f1727aebca9ce4fd6ed8b9f6e79d20c.setContent(html_a5ee8cdbe9c9ec9884c6af51d3d0a154);\n",
       "        \n",
       "\n",
       "        marker_e11a088189d896e20dccbb92f7526cf5.bindPopup(popup_6f1727aebca9ce4fd6ed8b9f6e79d20c)\n",
       "        ;\n",
       "\n",
       "        \n",
       "    \n",
       "    \n",
       "            var marker_7374877c746ddb461c2a46208d57b997 = L.marker(\n",
       "                [37.813554, -122.3098877],\n",
       "                {}\n",
       "            ).addTo(map_249d868c35853b5d6599f072fe8beb4c);\n",
       "        \n",
       "    \n",
       "        var popup_c497d3d20f4b3c50239521197e3beb53 = L.popup({&quot;maxWidth&quot;: &quot;100%&quot;});\n",
       "\n",
       "        \n",
       "            var html_3466abfd702a82a18266138a459a86d7 = $(`&lt;div id=&quot;html_3466abfd702a82a18266138a459a86d7&quot; style=&quot;width: 100.0%; height: 100.0%;&quot;&gt;&lt;!DOCTYPE html&gt;     &lt;html&gt;     &lt;img src=https://therealdeal.com/sanfrancisco/wp-content/uploads/2022/03/CenterPoint-leases-its-460K-industrial-Oakland-Port-to-PCC-Logistics-705x431.jpg width=&quot;256&quot; height=&quot;156&quot;&gt;&lt;br&gt;______________________________________&lt;br&gt;     Company: &lt;strong&gt;&lt;a href=&quot;https://therealdeal.com/sanfrancisco/2022/03/25/pcc-logistics-leases-460k-sf-from-centerpoint-port-of-oakland/&quot;&gt;PCC Logistics&lt;/a&gt; &lt;/strong&gt;&lt;br&gt;     Address(es) leased/subleased: &lt;em&gt;1300 Maritime Street, Oakland&lt;/em&gt;&lt;br&gt;&lt;br&gt;     Net size of expansion: &lt;strong&gt;&lt;em&gt;460K sf&lt;/strong&gt;&lt;/em&gt;&lt;br&gt;     &lt;/html&gt;     &lt;/div&gt;`)[0];\n",
       "            popup_c497d3d20f4b3c50239521197e3beb53.setContent(html_3466abfd702a82a18266138a459a86d7);\n",
       "        \n",
       "\n",
       "        marker_7374877c746ddb461c2a46208d57b997.bindPopup(popup_c497d3d20f4b3c50239521197e3beb53)\n",
       "        ;\n",
       "\n",
       "        \n",
       "    \n",
       "    \n",
       "            var marker_cac5aa2c140f3abb90b10fd87aef07c2 = L.marker(\n",
       "                [37.5993766, -122.3835841],\n",
       "                {}\n",
       "            ).addTo(map_249d868c35853b5d6599f072fe8beb4c);\n",
       "        \n",
       "    \n",
       "        var popup_f8417dfeaadf39552eca511bf257ee9f = L.popup({&quot;maxWidth&quot;: &quot;100%&quot;});\n",
       "\n",
       "        \n",
       "            var html_320d94b434272501896fd5090c266b88 = $(`&lt;div id=&quot;html_320d94b434272501896fd5090c266b88&quot; style=&quot;width: 100.0%; height: 100.0%;&quot;&gt;&lt;!DOCTYPE html&gt;     &lt;html&gt;     &lt;img src=https://therealdeal.com/sanfrancisco/wp-content/uploads/2022/06/main-Alexandria-leases-285K-sf-at-new-Millbrae-campus-to-Eikon-Therapeutics-705x439.jpg width=&quot;256&quot; height=&quot;156&quot;&gt;&lt;br&gt;______________________________________&lt;br&gt;     Company: &lt;strong&gt;&lt;a href=&quot;https://therealdeal.com/sanfrancisco/2022/06/17/alexandria-leases-285k-sf-at-new-millbrae-campus-to-eikon-therapeutics/&quot;&gt;Eikon Therapeutics&lt;/a&gt; &lt;/strong&gt;&lt;br&gt;     Address(es) leased/subleased: &lt;em&gt;30 Rollins Road, Millbrae &lt;/em&gt;&lt;br&gt;&lt;br&gt;     Net size of expansion: &lt;strong&gt;&lt;em&gt;213K sf&lt;/strong&gt;&lt;/em&gt;&lt;br&gt;     &lt;/html&gt;     &lt;/div&gt;`)[0];\n",
       "            popup_f8417dfeaadf39552eca511bf257ee9f.setContent(html_320d94b434272501896fd5090c266b88);\n",
       "        \n",
       "\n",
       "        marker_cac5aa2c140f3abb90b10fd87aef07c2.bindPopup(popup_f8417dfeaadf39552eca511bf257ee9f)\n",
       "        ;\n",
       "\n",
       "        \n",
       "    \n",
       "    \n",
       "            var marker_350e4b290898b2e684de2e6d8e30c12c = L.marker(\n",
       "                [37.7559665, -122.2071395],\n",
       "                {}\n",
       "            ).addTo(map_249d868c35853b5d6599f072fe8beb4c);\n",
       "        \n",
       "    \n",
       "        var popup_423ad5ce10fe5a7c78707d99977c6ae4 = L.popup({&quot;maxWidth&quot;: &quot;100%&quot;});\n",
       "\n",
       "        \n",
       "            var html_64fd4dbb32968eae88af0d006ce660d2 = $(`&lt;div id=&quot;html_64fd4dbb32968eae88af0d006ce660d2&quot; style=&quot;width: 100.0%; height: 100.0%;&quot;&gt;&lt;!DOCTYPE html&gt;     &lt;html&gt;     &lt;img src=https://therealdeal.com/sanfrancisco/wp-content/uploads/2022/06/main-SF-Tire-company-pre-leases-warehouse-space-in-Oakland-705x439.jpg width=&quot;256&quot; height=&quot;156&quot;&gt;&lt;br&gt;______________________________________&lt;br&gt;     Company: &lt;strong&gt;&lt;a href=&quot;https://therealdeal.com/sanfrancisco/2022/06/27/supply-chain-troubles-assist-prologis-latest-industrial-lease-in-oakland/?utm_source=internal&amp;utm_medium=widget&amp;utm_campaign=feature_posts&quot;&gt;TireHub&lt;/a&gt;&lt;/strong&gt;&lt;br&gt;     Address(es) leased/subleased: &lt;em&gt;6345 Coliseum Way, Oakland&lt;/em&gt;&lt;br&gt;&lt;br&gt;     Net size of expansion: &lt;strong&gt;&lt;em&gt;60K sf&lt;/strong&gt;&lt;/em&gt;&lt;br&gt;     &lt;/html&gt;     &lt;/div&gt;`)[0];\n",
       "            popup_423ad5ce10fe5a7c78707d99977c6ae4.setContent(html_64fd4dbb32968eae88af0d006ce660d2);\n",
       "        \n",
       "\n",
       "        marker_350e4b290898b2e684de2e6d8e30c12c.bindPopup(popup_423ad5ce10fe5a7c78707d99977c6ae4)\n",
       "        ;\n",
       "\n",
       "        \n",
       "    \n",
       "    \n",
       "            var marker_475445effd2bbe0e3f089b5514fdc19f = L.marker(\n",
       "                [37.4138973, -121.9499774],\n",
       "                {}\n",
       "            ).addTo(map_249d868c35853b5d6599f072fe8beb4c);\n",
       "        \n",
       "    \n",
       "        var popup_3723e0026a8fd680a0bd69ed10072bc0 = L.popup({&quot;maxWidth&quot;: &quot;100%&quot;});\n",
       "\n",
       "        \n",
       "            var html_b49eb5d4c5fe3d89378be0705d9db7d0 = $(`&lt;div id=&quot;html_b49eb5d4c5fe3d89378be0705d9db7d0&quot; style=&quot;width: 100.0%; height: 100.0%;&quot;&gt;&lt;!DOCTYPE html&gt;     &lt;html&gt;     &lt;img src=https://therealdeal.com/sanfrancisco/wp-content/uploads/2022/06/Main_logitech-705x439.jpg width=&quot;256&quot; height=&quot;156&quot;&gt;&lt;br&gt;______________________________________&lt;br&gt;     Company: &lt;strong&gt;&lt;a href=&quot;https://therealdeal.com/sanfrancisco/2022/06/30/logitech-lease-ends-six-year-drought-at-assembly-campus-in-sj/&quot;&gt;Logitech&lt;/a&gt; &lt;/strong&gt;&lt;br&gt;     Address(es) leased/subleased: &lt;em&gt;3930 North First Street, San Jose &lt;/em&gt;&lt;br&gt;&lt;br&gt;     Net size of expansion: &lt;strong&gt;&lt;em&gt;About 86K sf&lt;/strong&gt;&lt;/em&gt;&lt;br&gt;     &lt;/html&gt;     &lt;/div&gt;`)[0];\n",
       "            popup_3723e0026a8fd680a0bd69ed10072bc0.setContent(html_b49eb5d4c5fe3d89378be0705d9db7d0);\n",
       "        \n",
       "\n",
       "        marker_475445effd2bbe0e3f089b5514fdc19f.bindPopup(popup_3723e0026a8fd680a0bd69ed10072bc0)\n",
       "        ;\n",
       "\n",
       "        \n",
       "    \n",
       "    \n",
       "            var marker_ce967c3a8dc9ab59b93d616bfb937a3b = L.marker(\n",
       "                [37.7735873, -122.4005342],\n",
       "                {}\n",
       "            ).addTo(map_249d868c35853b5d6599f072fe8beb4c);\n",
       "        \n",
       "    \n",
       "        var popup_ad355a192ef31f7b36d9d900ca126949 = L.popup({&quot;maxWidth&quot;: &quot;100%&quot;});\n",
       "\n",
       "        \n",
       "            var html_6979df0b996038d8485d7b4709695237 = $(`&lt;div id=&quot;html_6979df0b996038d8485d7b4709695237&quot; style=&quot;width: 100.0%; height: 100.0%;&quot;&gt;&lt;!DOCTYPE html&gt;     &lt;html&gt;     &lt;img src=https://therealdeal.com/sanfrancisco/wp-content/uploads/2022/07/main_SF_Google-New-Office-705x439.jpg width=&quot;256&quot; height=&quot;156&quot;&gt;&lt;br&gt;______________________________________&lt;br&gt;     Company: &lt;strong&gt;&lt;a href=&quot;https://therealdeal.com/sanfrancisco/2022/07/05/google-cloud-subleases-300k-sf-in-soma-office-building/&quot;&gt;Google Cloud&lt;/a&gt;&lt;/strong&gt;&lt;br&gt;     Address(es) leased/subleased: &lt;em&gt;510 Townsend Street, San Francisco&lt;/em&gt;&lt;br&gt;&lt;br&gt;     Net size of expansion: &lt;strong&gt;&lt;em&gt;300K sf&lt;/strong&gt;&lt;/em&gt;&lt;br&gt;     &lt;/html&gt;     &lt;/div&gt;`)[0];\n",
       "            popup_ad355a192ef31f7b36d9d900ca126949.setContent(html_6979df0b996038d8485d7b4709695237);\n",
       "        \n",
       "\n",
       "        marker_ce967c3a8dc9ab59b93d616bfb937a3b.bindPopup(popup_ad355a192ef31f7b36d9d900ca126949)\n",
       "        ;\n",
       "\n",
       "        \n",
       "    \n",
       "    \n",
       "            map_249d868c35853b5d6599f072fe8beb4c.fitBounds(\n",
       "                [37.610794194444445, -122.19012813333335],\n",
       "                {&quot;maxZoom&quot;: 15}\n",
       "            );\n",
       "        \n",
       "&lt;/script&gt;\" style=\"position:absolute;width:100%;height:100%;left:0;top:0;border:none !important;\" allowfullscreen webkitallowfullscreen mozallowfullscreen></iframe></div></div>"
      ],
      "text/plain": [
       "<folium.folium.Map at 0x125734fd0>"
      ]
     },
     "execution_count": 46,
     "metadata": {},
     "output_type": "execute_result"
    }
   ],
   "source": [
    "import folium\n",
    "import branca\n",
    "\n",
    "f = folium.Figure(width=750, height=750)\n",
    "m = folium.Map(location=df[[\"lat\", \"lon\"]].mean().to_list(),zoom_start=9)\n",
    "\n",
    "title_html = '''\n",
    "              <h3 align=\"center\" style=\"font-size:16px\"><b>{}</b></h3>\n",
    "             '''.format(f'Bay Area companies that expanded their footprints, January 2022 to July 2022')\n",
    "\n",
    "for i in range(0,len(df)):\n",
    "    html = popup_html(i)\n",
    "    iframe = branca.element.IFrame(html=html)\n",
    "    popup = folium.Popup(folium.Html(html, script=True))\n",
    "    folium.Marker([df['lat'].iloc[i],df['lon'].iloc[i]],\n",
    "                 popup=popup).add_to(m)\n",
    "\n",
    "m.get_root().html.add_child(folium.Element(title_html))\n",
    "m.fit_bounds(bounds=df[['lat','lon']].mean().to_list(),max_zoom=15)\n",
    "# m.add_to(f)\n",
    "m"
   ]
  },
  {
   "cell_type": "code",
   "execution_count": 45,
   "metadata": {},
   "outputs": [],
   "source": [
    "m.save('index.html')"
   ]
  },
  {
   "cell_type": "markdown",
   "metadata": {},
   "source": [
    "## Map URL snagger"
   ]
  },
  {
   "cell_type": "markdown",
   "metadata": {},
   "source": [
    "Map template URL: `https://trd-digital.github.io/trd-news-interactive-maps/{map-folder-name}`"
   ]
  },
  {
   "cell_type": "code",
   "execution_count": 41,
   "metadata": {},
   "outputs": [],
   "source": [
    "base_name = 'https://trd-digital.github.io/trd-news-interactive-maps/'"
   ]
  },
  {
   "cell_type": "code",
   "execution_count": 42,
   "metadata": {},
   "outputs": [
    {
     "name": "stdout",
     "output_type": "stream",
     "text": [
      "https://trd-digital.github.io/trd-news-interactive-maps/bay_area_company_footprint_expansion\n"
     ]
    }
   ],
   "source": [
    "cwd = os.getcwd()\n",
    "\n",
    "cwd = cwd.split('/')\n",
    "\n",
    "final_name = base_name + cwd[-1]\n",
    "print(final_name)"
   ]
  }
 ],
 "metadata": {
  "kernelspec": {
   "display_name": "Python 3 (ipykernel)",
   "language": "python",
   "name": "python3"
  },
  "language_info": {
   "codemirror_mode": {
    "name": "ipython",
    "version": 3
   },
   "file_extension": ".py",
   "mimetype": "text/x-python",
   "name": "python",
   "nbconvert_exporter": "python",
   "pygments_lexer": "ipython3",
   "version": "3.10.3"
  },
  "toc": {
   "base_numbering": 1,
   "nav_menu": {},
   "number_sections": true,
   "sideBar": true,
   "skip_h1_title": false,
   "title_cell": "Table of Contents",
   "title_sidebar": "Contents",
   "toc_cell": false,
   "toc_position": {},
   "toc_section_display": true,
   "toc_window_display": false
  }
 },
 "nbformat": 4,
 "nbformat_minor": 4
}
