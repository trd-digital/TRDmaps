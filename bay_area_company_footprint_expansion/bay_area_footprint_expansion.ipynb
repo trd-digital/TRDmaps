{
 "cells": [
  {
   "cell_type": "markdown",
   "metadata": {},
   "source": [
    "## Imports"
   ]
  },
  {
   "cell_type": "code",
   "execution_count": 20,
   "metadata": {},
   "outputs": [],
   "source": [
    "from geopy.geocoders import GoogleV3\n",
    "from bs4 import BeautifulSoup\n",
    "import requests\n",
    "import time\n",
    "import pandas as pd\n",
    "import numpy as np\n",
    "import urllib3\n",
    "import re\n",
    "from textwrap import shorten\n",
    "import os"
   ]
  },
  {
   "cell_type": "code",
   "execution_count": 21,
   "metadata": {},
   "outputs": [],
   "source": [
    "df = pd.read_csv('Bay Area companies expanding their footprints, Jan. 1, 2022 to July 5, 2022 - Sheet1.csv')"
   ]
  },
  {
   "cell_type": "code",
   "execution_count": 22,
   "metadata": {},
   "outputs": [
    {
     "data": {
      "text/plain": [
       "Index(['Company name', 'Home city', 'Category ',\n",
       "       'Address(es) company expanded into ',\n",
       "       'Net size of expansion, in square feet',\n",
       "       'Direct lease, purchase or sublease?', 'Sublessor (if sublease)',\n",
       "       'Date TRD wrote about expansion', 'Link to story'],\n",
       "      dtype='object')"
      ]
     },
     "execution_count": 22,
     "metadata": {},
     "output_type": "execute_result"
    }
   ],
   "source": [
    "df.columns"
   ]
  },
  {
   "cell_type": "markdown",
   "metadata": {},
   "source": [
    "## Image URL collector"
   ]
  },
  {
   "cell_type": "code",
   "execution_count": 23,
   "metadata": {},
   "outputs": [],
   "source": [
    "# Drop last n rows of a df. In case there are sums that need clipped\n",
    "# df.drop(df.tail(n).index, inplace=True)"
   ]
  },
  {
   "cell_type": "code",
   "execution_count": 24,
   "metadata": {},
   "outputs": [],
   "source": [
    "df['image_links'] = ''\n",
    "links = []\n",
    "for url in df['Link to story']:\n",
    "    try:\n",
    "        page = requests.get(url)\n",
    "        soup = BeautifulSoup(page.content, 'html.parser')\n",
    "        images = soup.find_all('img')\n",
    "        counter = 0\n",
    "        for image in images:\n",
    "            counter += 1\n",
    "            if 'jpg' in image['src']:\n",
    "                links.append(image['src'])\n",
    "                if counter == len(images):\n",
    "                    links.append('no image found')\n",
    "                break\n",
    "    except:\n",
    "        links.append('no_image')\n",
    "\n",
    "df['image_links'] = links"
   ]
  },
  {
   "cell_type": "markdown",
   "metadata": {},
   "source": [
    "## Article link formatter"
   ]
  },
  {
   "cell_type": "code",
   "execution_count": 25,
   "metadata": {},
   "outputs": [
    {
     "data": {
      "text/plain": [
       "18"
      ]
     },
     "execution_count": 25,
     "metadata": {},
     "output_type": "execute_result"
    }
   ],
   "source": [
    "len(links)"
   ]
  },
  {
   "cell_type": "code",
   "execution_count": 26,
   "metadata": {},
   "outputs": [
    {
     "data": {
      "text/plain": [
       "0            Procept BioRobotics\n",
       "1             Applied Materials \n",
       "2                  Graphite Bio \n",
       "3                Iconiq Capital \n",
       "4                  Pure Storage \n",
       "5                         Waymo \n",
       "6                         Apple \n",
       "7                         Amazon\n",
       "8          InterVenn Biosciences\n",
       "9          Third Wave Automation\n",
       "10    Dependable Highway Express\n",
       "11                        Amazon\n",
       "12                       Twitter\n",
       "13                PCC Logistics \n",
       "14           Eikon Therapeutics \n",
       "15                       TireHub\n",
       "16                     Logitech \n",
       "17                  Google Cloud\n",
       "Name: Company name, dtype: object"
      ]
     },
     "execution_count": 26,
     "metadata": {},
     "output_type": "execute_result"
    }
   ],
   "source": [
    "df['Company name']"
   ]
  },
  {
   "cell_type": "code",
   "execution_count": 27,
   "metadata": {},
   "outputs": [
    {
     "data": {
      "text/plain": [
       "0     <a href=\"https://therealdeal.com/sanfrancisco/...\n",
       "1     <a href=\"https://therealdeal.com/sanfrancisco/...\n",
       "2     <a href=\"https://therealdeal.com/sanfrancisco/...\n",
       "3     <a href=\"https://therealdeal.com/sanfrancisco/...\n",
       "4     <a href=\"https://therealdeal.com/sanfrancisco/...\n",
       "5     <a href=\"https://therealdeal.com/sanfrancisco/...\n",
       "6     <a href=\"https://therealdeal.com/sanfrancisco/...\n",
       "7     <a href=\"https://therealdeal.com/sanfrancisco/...\n",
       "8     <a href=\"https://therealdeal.com/sanfrancisco/...\n",
       "9     <a href=\"https://therealdeal.com/sanfrancisco/...\n",
       "10    <a href=\"https://therealdeal.com/sanfrancisco/...\n",
       "11    <a href=\"https://therealdeal.com/sanfrancisco/...\n",
       "12    <a href=\"https://therealdeal.com/sanfrancisco/...\n",
       "13    <a href=\"https://therealdeal.com/sanfrancisco/...\n",
       "14    <a href=\"https://therealdeal.com/sanfrancisco/...\n",
       "15    <a href=\"https://therealdeal.com/sanfrancisco/...\n",
       "16    <a href=\"https://therealdeal.com/sanfrancisco/...\n",
       "17    <a href=\"https://therealdeal.com/sanfrancisco/...\n",
       "Name: description_link, dtype: object"
      ]
     },
     "execution_count": 27,
     "metadata": {},
     "output_type": "execute_result"
    }
   ],
   "source": [
    "df[\"short_description\"] = df[\"Company name\"].apply(lambda s: shorten(s, width=20, placeholder=\"\"))\n",
    "df['remaining_desc'] = df.apply(lambda row : row['Company name'].replace(str(row['short_description']), ''), axis=1)\n",
    "df['remaining_desc']\n",
    "\n",
    "df[\"description_link\"] = '<a href=\"' + df[\"Link to story\"] + '\" target=\"_blank\" rel=\"noopener noreferrer\">' + df[\"short_description\"] + \"</a>\" + df[\"remaining_desc\"]\n",
    "df['description_link']"
   ]
  },
  {
   "cell_type": "code",
   "execution_count": 28,
   "metadata": {},
   "outputs": [
    {
     "data": {
      "text/plain": [
       "'<a href=\"https://therealdeal.com/sanfrancisco/2022/01/06/redwood-city-robotics-company-leases-158k-sf-for-new-san-jose-hq/\" target=\"_blank\" rel=\"noopener noreferrer\">Procept BioRobotics</a>'"
      ]
     },
     "execution_count": 28,
     "metadata": {},
     "output_type": "execute_result"
    }
   ],
   "source": [
    "df.description_link[0]"
   ]
  },
  {
   "cell_type": "markdown",
   "metadata": {},
   "source": [
    "## Google Maps API Geolocater Setup"
   ]
  },
  {
   "cell_type": "code",
   "execution_count": 29,
   "metadata": {},
   "outputs": [],
   "source": [
    "%store -r google_maps_API_Key\n",
    "geolocator = GoogleV3(api_key=google_maps_API_Key)"
   ]
  },
  {
   "cell_type": "code",
   "execution_count": 30,
   "metadata": {},
   "outputs": [],
   "source": [
    "df['geo_address'] = df['Address(es) company expanded into '] + ' CA'\n",
    "df['loc'] = df['geo_address'].apply(geolocator.geocode, timeout=10)\n",
    "df['point'] = df['loc'].apply(lambda loc: tuple(loc.point) if loc else None)\n",
    "df[['lat','lon','altitude']] = pd.DataFrame(df['point'].to_list(),index=df.index)"
   ]
  },
  {
   "cell_type": "markdown",
   "metadata": {},
   "source": [
    "## HTML popup formatter"
   ]
  },
  {
   "cell_type": "code",
   "execution_count": 31,
   "metadata": {},
   "outputs": [],
   "source": [
    "def popup_html(row):\n",
    "    i = row\n",
    "    address = df['Address(es) company expanded into '].iloc[i]\n",
    "    developer = df['Net size of expansion, in square feet'].iloc[i]\n",
    "    description = df['description_link'].iloc[i]\n",
    "    image = df['image_links'].iloc[i]\n",
    "    \n",
    "    html = '''<!DOCTYPE html>\n",
    "    <html>\n",
    "    <img src={} width=\"256\" height=\"156\">'''.format(image) + '''<br>______________________________________<br>\n",
    "    Company: <strong>{}'''.format(description) + '''</strong><br>\n",
    "    Address(es) leased/subleased: <em>{}'''.format(address) + '''</em><br>\n",
    "    Net size of expansion: <strong><em>{}'''.format(developer) + '''</strong></em><br>\n",
    "    </html>\n",
    "    '''\n",
    "    return html\n"
   ]
  },
  {
   "cell_type": "markdown",
   "metadata": {},
   "source": [
    "### HTML reservoir"
   ]
  },
  {
   "cell_type": "code",
   "execution_count": 32,
   "metadata": {},
   "outputs": [],
   "source": [
    "#     Developer(s): <strong><em>{}'''.format(developer) + '''</strong></em><br><br>"
   ]
  },
  {
   "cell_type": "markdown",
   "metadata": {},
   "source": [
    "## Map Maker"
   ]
  },
  {
   "cell_type": "code",
   "execution_count": 33,
   "metadata": {},
   "outputs": [
    {
     "data": {
      "text/plain": [
       "'<a href=\"https://therealdeal.com/sanfrancisco/2022/01/06/redwood-city-robotics-company-leases-158k-sf-for-new-san-jose-hq/\" target=\"_blank\" rel=\"noopener noreferrer\">Procept BioRobotics</a>'"
      ]
     },
     "execution_count": 33,
     "metadata": {},
     "output_type": "execute_result"
    }
   ],
   "source": [
    "df.description_link[0]"
   ]
  },
  {
   "cell_type": "code",
   "execution_count": 34,
   "metadata": {},
   "outputs": [
    {
     "data": {
      "text/html": [
       "<div style=\"width:100%;\"><div style=\"position:relative;width:100%;height:0;padding-bottom:60%;\"><span style=\"color:#565656\">Make this Notebook Trusted to load map: File -> Trust Notebook</span><iframe srcdoc=\"&lt;!DOCTYPE html&gt;\n",
       "&lt;head&gt;    \n",
       "    &lt;meta http-equiv=&quot;content-type&quot; content=&quot;text/html; charset=UTF-8&quot; /&gt;\n",
       "    \n",
       "        &lt;script&gt;\n",
       "            L_NO_TOUCH = false;\n",
       "            L_DISABLE_3D = false;\n",
       "        &lt;/script&gt;\n",
       "    \n",
       "    &lt;style&gt;html, body {width: 100%;height: 100%;margin: 0;padding: 0;}&lt;/style&gt;\n",
       "    &lt;style&gt;#map {position:absolute;top:0;bottom:0;right:0;left:0;}&lt;/style&gt;\n",
       "    &lt;script src=&quot;https://cdn.jsdelivr.net/npm/leaflet@1.6.0/dist/leaflet.js&quot;&gt;&lt;/script&gt;\n",
       "    &lt;script src=&quot;https://code.jquery.com/jquery-1.12.4.min.js&quot;&gt;&lt;/script&gt;\n",
       "    &lt;script src=&quot;https://maxcdn.bootstrapcdn.com/bootstrap/3.2.0/js/bootstrap.min.js&quot;&gt;&lt;/script&gt;\n",
       "    &lt;script src=&quot;https://cdnjs.cloudflare.com/ajax/libs/Leaflet.awesome-markers/2.0.2/leaflet.awesome-markers.js&quot;&gt;&lt;/script&gt;\n",
       "    &lt;link rel=&quot;stylesheet&quot; href=&quot;https://cdn.jsdelivr.net/npm/leaflet@1.6.0/dist/leaflet.css&quot;/&gt;\n",
       "    &lt;link rel=&quot;stylesheet&quot; href=&quot;https://maxcdn.bootstrapcdn.com/bootstrap/3.2.0/css/bootstrap.min.css&quot;/&gt;\n",
       "    &lt;link rel=&quot;stylesheet&quot; href=&quot;https://maxcdn.bootstrapcdn.com/bootstrap/3.2.0/css/bootstrap-theme.min.css&quot;/&gt;\n",
       "    &lt;link rel=&quot;stylesheet&quot; href=&quot;https://maxcdn.bootstrapcdn.com/font-awesome/4.6.3/css/font-awesome.min.css&quot;/&gt;\n",
       "    &lt;link rel=&quot;stylesheet&quot; href=&quot;https://cdnjs.cloudflare.com/ajax/libs/Leaflet.awesome-markers/2.0.2/leaflet.awesome-markers.css&quot;/&gt;\n",
       "    &lt;link rel=&quot;stylesheet&quot; href=&quot;https://cdn.jsdelivr.net/gh/python-visualization/folium/folium/templates/leaflet.awesome.rotate.min.css&quot;/&gt;\n",
       "    \n",
       "            &lt;meta name=&quot;viewport&quot; content=&quot;width=device-width,\n",
       "                initial-scale=1.0, maximum-scale=1.0, user-scalable=no&quot; /&gt;\n",
       "            &lt;style&gt;\n",
       "                #map_c57006a2c380b91b2d69228cd0ec74f9 {\n",
       "                    position: relative;\n",
       "                    width: 100.0%;\n",
       "                    height: 100.0%;\n",
       "                    left: 0.0%;\n",
       "                    top: 0.0%;\n",
       "                }\n",
       "            &lt;/style&gt;\n",
       "        \n",
       "&lt;/head&gt;\n",
       "&lt;body&gt;    \n",
       "    \n",
       "              &lt;h3 align=&quot;center&quot; style=&quot;font-size:16px&quot;&gt;&lt;b&gt;Bay Area companies that expanded their footprints, January 2022 to July 2022&lt;/b&gt;&lt;/h3&gt;\n",
       "             \n",
       "    \n",
       "            &lt;div class=&quot;folium-map&quot; id=&quot;map_c57006a2c380b91b2d69228cd0ec74f9&quot; &gt;&lt;/div&gt;\n",
       "        \n",
       "&lt;/body&gt;\n",
       "&lt;script&gt;    \n",
       "    \n",
       "            var map_c57006a2c380b91b2d69228cd0ec74f9 = L.map(\n",
       "                &quot;map_c57006a2c380b91b2d69228cd0ec74f9&quot;,\n",
       "                {\n",
       "                    center: [37.61090403333334, -122.19016106111111],\n",
       "                    crs: L.CRS.EPSG3857,\n",
       "                    zoom: 9,\n",
       "                    zoomControl: true,\n",
       "                    preferCanvas: false,\n",
       "                }\n",
       "            );\n",
       "\n",
       "            \n",
       "\n",
       "        \n",
       "    \n",
       "            var tile_layer_7edb7dff7646d36e82c98acd010e0221 = L.tileLayer(\n",
       "                &quot;https://{s}.tile.openstreetmap.org/{z}/{x}/{y}.png&quot;,\n",
       "                {&quot;attribution&quot;: &quot;Data by \\u0026copy; \\u003ca href=\\&quot;http://openstreetmap.org\\&quot;\\u003eOpenStreetMap\\u003c/a\\u003e, under \\u003ca href=\\&quot;http://www.openstreetmap.org/copyright\\&quot;\\u003eODbL\\u003c/a\\u003e.&quot;, &quot;detectRetina&quot;: false, &quot;maxNativeZoom&quot;: 18, &quot;maxZoom&quot;: 18, &quot;minZoom&quot;: 0, &quot;noWrap&quot;: false, &quot;opacity&quot;: 1, &quot;subdomains&quot;: &quot;abc&quot;, &quot;tms&quot;: false}\n",
       "            ).addTo(map_c57006a2c380b91b2d69228cd0ec74f9);\n",
       "        \n",
       "    \n",
       "            var marker_79b7b6377666a7dea0be206eded3e0ca = L.marker(\n",
       "                [37.4203331, -121.9535324],\n",
       "                {}\n",
       "            ).addTo(map_c57006a2c380b91b2d69228cd0ec74f9);\n",
       "        \n",
       "    \n",
       "        var popup_0a8ea05d359e7555772b572c89a3ac4b = L.popup({&quot;maxWidth&quot;: &quot;100%&quot;});\n",
       "\n",
       "        \n",
       "            var html_55f337d7de091e82819ae98f1b68fec7 = $(`&lt;div id=&quot;html_55f337d7de091e82819ae98f1b68fec7&quot; style=&quot;width: 100.0%; height: 100.0%;&quot;&gt;&lt;!DOCTYPE html&gt;     &lt;html&gt;     &lt;img src=https://therealdeal.com/sanfrancisco/wp-content/uploads/2022/01/SFO-Redwood-City-robotics-company-leases-158K-sf-site-of-new-San-Jose-HQ-MAIN-r1-705x439.jpg width=&quot;256&quot; height=&quot;156&quot;&gt;&lt;br&gt;______________________________________&lt;br&gt;     Company: &lt;strong&gt;&lt;a href=&quot;https://therealdeal.com/sanfrancisco/2022/01/06/redwood-city-robotics-company-leases-158k-sf-for-new-san-jose-hq/&quot; target=&quot;_blank&quot; rel=&quot;noopener noreferrer&quot;&gt;Procept BioRobotics&lt;/a&gt;&lt;/strong&gt;&lt;br&gt;     Address(es) leased/subleased: &lt;em&gt;150-160 Baytech Drive, San Jose&lt;/em&gt;&lt;br&gt;     Net size of expansion: &lt;strong&gt;&lt;em&gt;About 110K sf &lt;/strong&gt;&lt;/em&gt;&lt;br&gt;     &lt;/html&gt;     &lt;/div&gt;`)[0];\n",
       "            popup_0a8ea05d359e7555772b572c89a3ac4b.setContent(html_55f337d7de091e82819ae98f1b68fec7);\n",
       "        \n",
       "\n",
       "        marker_79b7b6377666a7dea0be206eded3e0ca.bindPopup(popup_0a8ea05d359e7555772b572c89a3ac4b)\n",
       "        ;\n",
       "\n",
       "        \n",
       "    \n",
       "    \n",
       "            var marker_37438dcc00988464e314fad10c5b6bac = L.marker(\n",
       "                [37.3820063, -121.9813465],\n",
       "                {}\n",
       "            ).addTo(map_c57006a2c380b91b2d69228cd0ec74f9);\n",
       "        \n",
       "    \n",
       "        var popup_8352c2be893aff9762107e6bd4008257 = L.popup({&quot;maxWidth&quot;: &quot;100%&quot;});\n",
       "\n",
       "        \n",
       "            var html_4e7ce7a50f0b47c501adf2db8b42c709 = $(`&lt;div id=&quot;html_4e7ce7a50f0b47c501adf2db8b42c709&quot; style=&quot;width: 100.0%; height: 100.0%;&quot;&gt;&lt;!DOCTYPE html&gt;     &lt;html&gt;     &lt;img src=https://therealdeal.com/sanfrancisco/wp-content/uploads/2022/04/SFO-Applied-Materials-signs-246K-sf-office-sublease-in-Santa-Clara-as-business-booms-MAIN-705x439.jpg width=&quot;256&quot; height=&quot;156&quot;&gt;&lt;br&gt;______________________________________&lt;br&gt;     Company: &lt;strong&gt;&lt;a href=&quot;https://therealdeal.com/sanfrancisco/2022/05/02/bright-spot-for-santa-clara-office-market-as-applied-materials-subleases-246k-sf-from-hpe/&quot; target=&quot;_blank&quot; rel=&quot;noopener noreferrer&quot;&gt;Applied Materials&lt;/a&gt; &lt;/strong&gt;&lt;br&gt;     Address(es) leased/subleased: &lt;em&gt;3333 Scott Boulevard, Santa Clara&lt;/em&gt;&lt;br&gt;     Net size of expansion: &lt;strong&gt;&lt;em&gt;246K sf&lt;/strong&gt;&lt;/em&gt;&lt;br&gt;     &lt;/html&gt;     &lt;/div&gt;`)[0];\n",
       "            popup_8352c2be893aff9762107e6bd4008257.setContent(html_4e7ce7a50f0b47c501adf2db8b42c709);\n",
       "        \n",
       "\n",
       "        marker_37438dcc00988464e314fad10c5b6bac.bindPopup(popup_8352c2be893aff9762107e6bd4008257)\n",
       "        ;\n",
       "\n",
       "        \n",
       "    \n",
       "    \n",
       "            var marker_1496a7c76f84380b7f90ee6e19c5e115 = L.marker(\n",
       "                [37.65485049999999, -122.3967284],\n",
       "                {}\n",
       "            ).addTo(map_c57006a2c380b91b2d69228cd0ec74f9);\n",
       "        \n",
       "    \n",
       "        var popup_1a9c47e84af87756046faf43d6df40f8 = L.popup({&quot;maxWidth&quot;: &quot;100%&quot;});\n",
       "\n",
       "        \n",
       "            var html_6eedaac3606de202123c3267c13dcb1f = $(`&lt;div id=&quot;html_6eedaac3606de202123c3267c13dcb1f&quot; style=&quot;width: 100.0%; height: 100.0%;&quot;&gt;&lt;!DOCTYPE html&gt;     &lt;html&gt;     &lt;img src=https://therealdeal.com/sanfrancisco/wp-content/uploads/2022/01/Main_relocation.jpg width=&quot;256&quot; height=&quot;156&quot;&gt;&lt;br&gt;______________________________________&lt;br&gt;     Company: &lt;strong&gt;&lt;a href=&quot;https://therealdeal.com/sanfrancisco/2022/01/27/gene-editing-firm-signs-85k-sf-lease-to-relocate-expand-south-sf-headquarters/&quot; target=&quot;_blank&quot; rel=&quot;noopener noreferrer&quot;&gt;Graphite Bio&lt;/a&gt; &lt;/strong&gt;&lt;br&gt;     Address(es) leased/subleased: &lt;em&gt;233 East Grand Avenue, South San Francisco&lt;/em&gt;&lt;br&gt;     Net size of expansion: &lt;strong&gt;&lt;em&gt;66K sf&lt;/strong&gt;&lt;/em&gt;&lt;br&gt;     &lt;/html&gt;     &lt;/div&gt;`)[0];\n",
       "            popup_1a9c47e84af87756046faf43d6df40f8.setContent(html_6eedaac3606de202123c3267c13dcb1f);\n",
       "        \n",
       "\n",
       "        marker_1496a7c76f84380b7f90ee6e19c5e115.bindPopup(popup_1a9c47e84af87756046faf43d6df40f8)\n",
       "        ;\n",
       "\n",
       "        \n",
       "    \n",
       "    \n",
       "            var marker_92c55bc1fc01d0e2e9e6830c274d9129 = L.marker(\n",
       "                [37.7913316, -122.3963924],\n",
       "                {}\n",
       "            ).addTo(map_c57006a2c380b91b2d69228cd0ec74f9);\n",
       "        \n",
       "    \n",
       "        var popup_147d282a87ce5d0f5f77158ee9a79756 = L.popup({&quot;maxWidth&quot;: &quot;100%&quot;});\n",
       "\n",
       "        \n",
       "            var html_e5112ced4c8f34081583276990fad66a = $(`&lt;div id=&quot;html_e5112ced4c8f34081583276990fad66a&quot; style=&quot;width: 100.0%; height: 100.0%;&quot;&gt;&lt;!DOCTYPE html&gt;     &lt;html&gt;     &lt;img src=https://therealdeal.com/sanfrancisco/wp-content/uploads/2022/06/Iconiq-Capital-moves-HQ-across-SFs-Financial-District-705x466.jpg width=&quot;256&quot; height=&quot;156&quot;&gt;&lt;br&gt;______________________________________&lt;br&gt;     Company: &lt;strong&gt;&lt;a href=&quot;https://therealdeal.com/sanfrancisco/2022/06/07/iconiq-capital-moves-hq-across-sfs-financial-district/&quot; target=&quot;_blank&quot; rel=&quot;noopener noreferrer&quot;&gt;Iconiq Capital&lt;/a&gt; &lt;/strong&gt;&lt;br&gt;     Address(es) leased/subleased: &lt;em&gt;300 Mission Street, San Francisco&lt;/em&gt;&lt;br&gt;     Net size of expansion: &lt;strong&gt;&lt;em&gt;About 43K sf&lt;/strong&gt;&lt;/em&gt;&lt;br&gt;     &lt;/html&gt;     &lt;/div&gt;`)[0];\n",
       "            popup_147d282a87ce5d0f5f77158ee9a79756.setContent(html_e5112ced4c8f34081583276990fad66a);\n",
       "        \n",
       "\n",
       "        marker_92c55bc1fc01d0e2e9e6830c274d9129.bindPopup(popup_147d282a87ce5d0f5f77158ee9a79756)\n",
       "        ;\n",
       "\n",
       "        \n",
       "    \n",
       "    \n",
       "            var marker_9624ab2443a2392c341ff19c08ef1eaf = L.marker(\n",
       "                [37.3833106, -121.9726404],\n",
       "                {}\n",
       "            ).addTo(map_c57006a2c380b91b2d69228cd0ec74f9);\n",
       "        \n",
       "    \n",
       "        var popup_5f5244192ce50ec6994c59ce79120789 = L.popup({&quot;maxWidth&quot;: &quot;100%&quot;});\n",
       "\n",
       "        \n",
       "            var html_b3fd3aa4887142e2fe4fa5164084e2e8 = $(`&lt;div id=&quot;html_b3fd3aa4887142e2fe4fa5164084e2e8&quot; style=&quot;width: 100.0%; height: 100.0%;&quot;&gt;&lt;!DOCTYPE html&gt;     &lt;html&gt;     &lt;img src=https://therealdeal.com/sanfrancisco/wp-content/uploads/2022/06/main-SF-Pure-Storage-upgrades-HQ-in-move-to-Santa-Clara-705x439.jpg width=&quot;256&quot; height=&quot;156&quot;&gt;&lt;br&gt;______________________________________&lt;br&gt;     Company: &lt;strong&gt;&lt;a href=&quot;https://therealdeal.com/sanfrancisco/2022/06/06/pure-storage-takes-330k-sf-in-santa-clara-sublease/&quot; target=&quot;_blank&quot; rel=&quot;noopener noreferrer&quot;&gt;Pure Storage&lt;/a&gt; &lt;/strong&gt;&lt;br&gt;     Address(es) leased/subleased: &lt;em&gt;2555 and 2565 Augustine Drive, Santa Clara&lt;/em&gt;&lt;br&gt;     Net size of expansion: &lt;strong&gt;&lt;em&gt;About 80K sf&lt;/strong&gt;&lt;/em&gt;&lt;br&gt;     &lt;/html&gt;     &lt;/div&gt;`)[0];\n",
       "            popup_5f5244192ce50ec6994c59ce79120789.setContent(html_b3fd3aa4887142e2fe4fa5164084e2e8);\n",
       "        \n",
       "\n",
       "        marker_9624ab2443a2392c341ff19c08ef1eaf.bindPopup(popup_5f5244192ce50ec6994c59ce79120789)\n",
       "        ;\n",
       "\n",
       "        \n",
       "    \n",
       "    \n",
       "            var marker_b7cb6067f6832a2935e3a00861eaf7e6 = L.marker(\n",
       "                [37.3945198, -122.0503021],\n",
       "                {}\n",
       "            ).addTo(map_c57006a2c380b91b2d69228cd0ec74f9);\n",
       "        \n",
       "    \n",
       "        var popup_5e8df498a55c13de4890f0011161a0fa = L.popup({&quot;maxWidth&quot;: &quot;100%&quot;});\n",
       "\n",
       "        \n",
       "            var html_d47b5e9d12bed75c4eaa1d0279f3602a = $(`&lt;div id=&quot;html_d47b5e9d12bed75c4eaa1d0279f3602a&quot; style=&quot;width: 100.0%; height: 100.0%;&quot;&gt;&lt;!DOCTYPE html&gt;     &lt;html&gt;     &lt;img src=https://therealdeal.com/sanfrancisco/wp-content/uploads/2022/04/main_SF_Synopsys-705x439.jpg width=&quot;256&quot; height=&quot;156&quot;&gt;&lt;br&gt;______________________________________&lt;br&gt;     Company: &lt;strong&gt;&lt;a href=&quot;https://therealdeal.com/sanfrancisco/2022/04/28/waymo-grows-mountain-view-hq-on-170k-sf-office-sublease/&quot; target=&quot;_blank&quot; rel=&quot;noopener noreferrer&quot;&gt;Waymo&lt;/a&gt; &lt;/strong&gt;&lt;br&gt;     Address(es) leased/subleased: &lt;em&gt;690 East Middlefield Road, Mountain View&lt;/em&gt;&lt;br&gt;     Net size of expansion: &lt;strong&gt;&lt;em&gt;About 170K sf &lt;/strong&gt;&lt;/em&gt;&lt;br&gt;     &lt;/html&gt;     &lt;/div&gt;`)[0];\n",
       "            popup_5e8df498a55c13de4890f0011161a0fa.setContent(html_d47b5e9d12bed75c4eaa1d0279f3602a);\n",
       "        \n",
       "\n",
       "        marker_b7cb6067f6832a2935e3a00861eaf7e6.bindPopup(popup_5e8df498a55c13de4890f0011161a0fa)\n",
       "        ;\n",
       "\n",
       "        \n",
       "    \n",
       "    \n",
       "            var marker_44e6386df85d57b0881cf187c9b0a616 = L.marker(\n",
       "                [37.3932985, -122.0297389],\n",
       "                {}\n",
       "            ).addTo(map_c57006a2c380b91b2d69228cd0ec74f9);\n",
       "        \n",
       "    \n",
       "        var popup_64c1fda962293ff8dac9e4dee782644e = L.popup({&quot;maxWidth&quot;: &quot;100%&quot;});\n",
       "\n",
       "        \n",
       "            var html_6d650335f6507b99a3173ae63f60a67c = $(`&lt;div id=&quot;html_6d650335f6507b99a3173ae63f60a67c&quot; style=&quot;width: 100.0%; height: 100.0%;&quot;&gt;&lt;!DOCTYPE html&gt;     &lt;html&gt;     &lt;img src=https://therealdeal.com/sanfrancisco/wp-content/uploads/2022/06/Apple-takes-Sunnyvale-office-campus-its-second-in-12-months-705x466.jpg width=&quot;256&quot; height=&quot;156&quot;&gt;&lt;br&gt;______________________________________&lt;br&gt;     Company: &lt;strong&gt;&lt;a href=&quot;https://therealdeal.com/sanfrancisco/2022/06/01/apple-takes-another-sunnyvale-campus/&quot; target=&quot;_blank&quot; rel=&quot;noopener noreferrer&quot;&gt;Apple&lt;/a&gt; &lt;/strong&gt;&lt;br&gt;     Address(es) leased/subleased: &lt;em&gt;625 and 655 North Mathilda Avenue, Sunnyvale&lt;/em&gt;&lt;br&gt;     Net size of expansion: &lt;strong&gt;&lt;em&gt;382.5K sf &lt;/strong&gt;&lt;/em&gt;&lt;br&gt;     &lt;/html&gt;     &lt;/div&gt;`)[0];\n",
       "            popup_64c1fda962293ff8dac9e4dee782644e.setContent(html_6d650335f6507b99a3173ae63f60a67c);\n",
       "        \n",
       "\n",
       "        marker_44e6386df85d57b0881cf187c9b0a616.bindPopup(popup_64c1fda962293ff8dac9e4dee782644e)\n",
       "        ;\n",
       "\n",
       "        \n",
       "    \n",
       "    \n",
       "            var marker_fb51d50b3e69e76702a848729b81a761 = L.marker(\n",
       "                [37.37813870000001, -121.9670133],\n",
       "                {}\n",
       "            ).addTo(map_c57006a2c380b91b2d69228cd0ec74f9);\n",
       "        \n",
       "    \n",
       "        var popup_801edded47703d974841b02db9851073 = L.popup({&quot;maxWidth&quot;: &quot;100%&quot;});\n",
       "\n",
       "        \n",
       "            var html_cd6157d7e5de6f3154c9c66fa59ae6a7 = $(`&lt;div id=&quot;html_cd6157d7e5de6f3154c9c66fa59ae6a7&quot; style=&quot;width: 100.0%; height: 100.0%;&quot;&gt;&lt;!DOCTYPE html&gt;     &lt;html&gt;     &lt;img src=https://therealdeal.com/sanfrancisco/wp-content/uploads/2022/04/main-Amazon-adds-160K-sf-at-Santa-Clara-office-705x439.jpg width=&quot;256&quot; height=&quot;156&quot;&gt;&lt;br&gt;______________________________________&lt;br&gt;     Company: &lt;strong&gt;&lt;a href=&quot;https://therealdeal.com/sanfrancisco/2022/04/19/amazon-adds-160k-sf-at-santa-clara-office/&quot; target=&quot;_blank&quot; rel=&quot;noopener noreferrer&quot;&gt;Amazon&lt;/a&gt;&lt;/strong&gt;&lt;br&gt;     Address(es) leased/subleased: &lt;em&gt;3075 Olcott Street, Santa Clara&lt;/em&gt;&lt;br&gt;     Net size of expansion: &lt;strong&gt;&lt;em&gt;160K sf&lt;/strong&gt;&lt;/em&gt;&lt;br&gt;     &lt;/html&gt;     &lt;/div&gt;`)[0];\n",
       "            popup_801edded47703d974841b02db9851073.setContent(html_cd6157d7e5de6f3154c9c66fa59ae6a7);\n",
       "        \n",
       "\n",
       "        marker_fb51d50b3e69e76702a848729b81a761.bindPopup(popup_801edded47703d974841b02db9851073)\n",
       "        ;\n",
       "\n",
       "        \n",
       "    \n",
       "    \n",
       "            var marker_a193b88f675505fc3e9691e42f576739 = L.marker(\n",
       "                [37.6571069, -122.3889004],\n",
       "                {}\n",
       "            ).addTo(map_c57006a2c380b91b2d69228cd0ec74f9);\n",
       "        \n",
       "    \n",
       "        var popup_d473ce8ec2cdcb88392457ef9e40acb5 = L.popup({&quot;maxWidth&quot;: &quot;100%&quot;});\n",
       "\n",
       "        \n",
       "            var html_459edd79531495460b4a61c768582bef = $(`&lt;div id=&quot;html_459edd79531495460b4a61c768582bef&quot; style=&quot;width: 100.0%; height: 100.0%;&quot;&gt;&lt;!DOCTYPE html&gt;     &lt;html&gt;     &lt;img src=https://therealdeal.com/sanfrancisco/wp-content/uploads/2022/05/LA-Biotech-startup-leases-142K-sf-RD-building-in-South-San-Francisco-MAIN-705x439.jpg width=&quot;256&quot; height=&quot;156&quot;&gt;&lt;br&gt;______________________________________&lt;br&gt;     Company: &lt;strong&gt;&lt;a href=&quot;https://therealdeal.com/sanfrancisco/2022/05/16/biotech-startup-takes-entire-spec-development-in-south-sf/&quot; target=&quot;_blank&quot; rel=&quot;noopener noreferrer&quot;&gt;InterVenn&lt;/a&gt; Biosciences&lt;/strong&gt;&lt;br&gt;     Address(es) leased/subleased: &lt;em&gt;499 Forbes Boulevard, South San Francisco&lt;/em&gt;&lt;br&gt;     Net size of expansion: &lt;strong&gt;&lt;em&gt;142K sf&lt;/strong&gt;&lt;/em&gt;&lt;br&gt;     &lt;/html&gt;     &lt;/div&gt;`)[0];\n",
       "            popup_d473ce8ec2cdcb88392457ef9e40acb5.setContent(html_459edd79531495460b4a61c768582bef);\n",
       "        \n",
       "\n",
       "        marker_a193b88f675505fc3e9691e42f576739.bindPopup(popup_d473ce8ec2cdcb88392457ef9e40acb5)\n",
       "        ;\n",
       "\n",
       "        \n",
       "    \n",
       "    \n",
       "            var marker_0e1ba30113370b2dfd7cf16453e2f9d9 = L.marker(\n",
       "                [37.704481, -122.1401864],\n",
       "                {}\n",
       "            ).addTo(map_c57006a2c380b91b2d69228cd0ec74f9);\n",
       "        \n",
       "    \n",
       "        var popup_cf9eb6792fe2a2b8f0f8027ed284847b = L.popup({&quot;maxWidth&quot;: &quot;100%&quot;});\n",
       "\n",
       "        \n",
       "            var html_48d461a598f192649e45428d75769d3e = $(`&lt;div id=&quot;html_48d461a598f192649e45428d75769d3e&quot; style=&quot;width: 100.0%; height: 100.0%;&quot;&gt;&lt;!DOCTYPE html&gt;     &lt;html&gt;     &lt;img src=https://therealdeal.com/sanfrancisco/wp-content/uploads/2022/04/main_LA_Amazon-705x439.jpg width=&quot;256&quot; height=&quot;156&quot;&gt;&lt;br&gt;______________________________________&lt;br&gt;     Company: &lt;strong&gt;&lt;a href=&quot;https://therealdeal.com/sanfrancisco/2022/04/21/amazon-offloads-137k-sf-industrial-building-in-san-leandro/&quot; target=&quot;_blank&quot; rel=&quot;noopener noreferrer&quot;&gt;Third Wave&lt;/a&gt; Automation&lt;/strong&gt;&lt;br&gt;     Address(es) leased/subleased: &lt;em&gt;100 Halcyon Drive, San Leandro&lt;/em&gt;&lt;br&gt;     Net size of expansion: &lt;strong&gt;&lt;em&gt;About 137K sf&lt;/strong&gt;&lt;/em&gt;&lt;br&gt;     &lt;/html&gt;     &lt;/div&gt;`)[0];\n",
       "            popup_cf9eb6792fe2a2b8f0f8027ed284847b.setContent(html_48d461a598f192649e45428d75769d3e);\n",
       "        \n",
       "\n",
       "        marker_0e1ba30113370b2dfd7cf16453e2f9d9.bindPopup(popup_cf9eb6792fe2a2b8f0f8027ed284847b)\n",
       "        ;\n",
       "\n",
       "        \n",
       "    \n",
       "    \n",
       "            var marker_6f6d7067212f1abe7f48734df6f35f7e = L.marker(\n",
       "                [37.7041115, -122.138617],\n",
       "                {}\n",
       "            ).addTo(map_c57006a2c380b91b2d69228cd0ec74f9);\n",
       "        \n",
       "    \n",
       "        var popup_15f257dc57a0cbb1d0494a898a8efe5a = L.popup({&quot;maxWidth&quot;: &quot;100%&quot;});\n",
       "\n",
       "        \n",
       "            var html_2151673f6c8ec038a1d6ca08ad9d6c80 = $(`&lt;div id=&quot;html_2151673f6c8ec038a1d6ca08ad9d6c80&quot; style=&quot;width: 100.0%; height: 100.0%;&quot;&gt;&lt;!DOCTYPE html&gt;     &lt;html&gt;     &lt;img src=https://therealdeal.com/sanfrancisco/wp-content/uploads/2022/04/Amazon-finds-taker-for-300K-sf-industrial-sublease-in-East-Bay-705x431.jpg width=&quot;256&quot; height=&quot;156&quot;&gt;&lt;br&gt;______________________________________&lt;br&gt;     Company: &lt;strong&gt;&lt;a href=&quot;https://therealdeal.com/sanfrancisco/2022/04/01/amazon-finds-taker-for-300k-sf-industrial-sublease-in-east-bay/&quot; target=&quot;_blank&quot; rel=&quot;noopener noreferrer&quot;&gt;Dependable Highway&lt;/a&gt; Express&lt;/strong&gt;&lt;br&gt;     Address(es) leased/subleased: &lt;em&gt;200 Halcyon Drive, San Leandro &lt;/em&gt;&lt;br&gt;     Net size of expansion: &lt;strong&gt;&lt;em&gt;About 44K sf&lt;/strong&gt;&lt;/em&gt;&lt;br&gt;     &lt;/html&gt;     &lt;/div&gt;`)[0];\n",
       "            popup_15f257dc57a0cbb1d0494a898a8efe5a.setContent(html_2151673f6c8ec038a1d6ca08ad9d6c80);\n",
       "        \n",
       "\n",
       "        marker_6f6d7067212f1abe7f48734df6f35f7e.bindPopup(popup_15f257dc57a0cbb1d0494a898a8efe5a)\n",
       "        ;\n",
       "\n",
       "        \n",
       "    \n",
       "    \n",
       "            var marker_ef595e14943eb27b8686e83e85b54012 = L.marker(\n",
       "                [37.9996751, -122.3400053],\n",
       "                {}\n",
       "            ).addTo(map_c57006a2c380b91b2d69228cd0ec74f9);\n",
       "        \n",
       "    \n",
       "        var popup_8fcc4aacdb4d66f16e7a8fcba4a430ac = L.popup({&quot;maxWidth&quot;: &quot;100%&quot;});\n",
       "\n",
       "        \n",
       "            var html_170bf1e980d52c6705e73e7ce9166262 = $(`&lt;div id=&quot;html_170bf1e980d52c6705e73e7ce9166262&quot; style=&quot;width: 100.0%; height: 100.0%;&quot;&gt;&lt;!DOCTYPE html&gt;     &lt;html&gt;     &lt;img src=https://therealdeal.com/sanfrancisco/wp-content/uploads/2022/02/SFO-Amazon-leases-204K-sf-in-Pinole-Point-Commerce-Center-in-Richmond-MAIN-r1-705x439.jpg width=&quot;256&quot; height=&quot;156&quot;&gt;&lt;br&gt;______________________________________&lt;br&gt;     Company: &lt;strong&gt;&lt;a href=&quot;https://therealdeal.com/sanfrancisco/2022/02/14/amazon-leases-204k-sf-in-pinole-point-commerce-center-in-richmond/&quot; target=&quot;_blank&quot; rel=&quot;noopener noreferrer&quot;&gt;Amazon&lt;/a&gt;&lt;/strong&gt;&lt;br&gt;     Address(es) leased/subleased: &lt;em&gt;6045 Giant Highway, Richmond&lt;/em&gt;&lt;br&gt;     Net size of expansion: &lt;strong&gt;&lt;em&gt;203.5K sf&lt;/strong&gt;&lt;/em&gt;&lt;br&gt;     &lt;/html&gt;     &lt;/div&gt;`)[0];\n",
       "            popup_8fcc4aacdb4d66f16e7a8fcba4a430ac.setContent(html_170bf1e980d52c6705e73e7ce9166262);\n",
       "        \n",
       "\n",
       "        marker_ef595e14943eb27b8686e83e85b54012.bindPopup(popup_8fcc4aacdb4d66f16e7a8fcba4a430ac)\n",
       "        ;\n",
       "\n",
       "        \n",
       "    \n",
       "    \n",
       "            var marker_36559ccd50b5b3f103014be5d9e69d8e = L.marker(\n",
       "                [37.7766511, -122.4167879],\n",
       "                {}\n",
       "            ).addTo(map_c57006a2c380b91b2d69228cd0ec74f9);\n",
       "        \n",
       "    \n",
       "        var popup_f10f8c119e6989489e1e68a407c87e09 = L.popup({&quot;maxWidth&quot;: &quot;100%&quot;});\n",
       "\n",
       "        \n",
       "            var html_7dacb3c86aaace3c2484652689b3bf0a = $(`&lt;div id=&quot;html_7dacb3c86aaace3c2484652689b3bf0a&quot; style=&quot;width: 100.0%; height: 100.0%;&quot;&gt;&lt;!DOCTYPE html&gt;     &lt;html&gt;     &lt;img src=https://therealdeal.com/sanfrancisco/wp-content/uploads/2022/01/main-Twitter-expands-SF-headquarters-even-as-remote-work-rises-705x439.jpg width=&quot;256&quot; height=&quot;156&quot;&gt;&lt;br&gt;______________________________________&lt;br&gt;     Company: &lt;strong&gt;&lt;a href=&quot;https://therealdeal.com/sanfrancisco/2022/01/19/twitter-expands-sf-headquarters-even-as-remote-work-rises/&quot; target=&quot;_blank&quot; rel=&quot;noopener noreferrer&quot;&gt;Twitter&lt;/a&gt;&lt;/strong&gt;&lt;br&gt;     Address(es) leased/subleased: &lt;em&gt;1355 Market Street, San Francisco&lt;/em&gt;&lt;br&gt;     Net size of expansion: &lt;strong&gt;&lt;em&gt;About 80K sf&lt;/strong&gt;&lt;/em&gt;&lt;br&gt;     &lt;/html&gt;     &lt;/div&gt;`)[0];\n",
       "            popup_f10f8c119e6989489e1e68a407c87e09.setContent(html_7dacb3c86aaace3c2484652689b3bf0a);\n",
       "        \n",
       "\n",
       "        marker_36559ccd50b5b3f103014be5d9e69d8e.bindPopup(popup_f10f8c119e6989489e1e68a407c87e09)\n",
       "        ;\n",
       "\n",
       "        \n",
       "    \n",
       "    \n",
       "            var marker_f57accfe7641cc0783fef09e5a487187 = L.marker(\n",
       "                [37.813554, -122.3098877],\n",
       "                {}\n",
       "            ).addTo(map_c57006a2c380b91b2d69228cd0ec74f9);\n",
       "        \n",
       "    \n",
       "        var popup_0034d0bdeb94277640f5c7c79a2a6ff3 = L.popup({&quot;maxWidth&quot;: &quot;100%&quot;});\n",
       "\n",
       "        \n",
       "            var html_c731526f9a03080d1f1460f5e2b704c9 = $(`&lt;div id=&quot;html_c731526f9a03080d1f1460f5e2b704c9&quot; style=&quot;width: 100.0%; height: 100.0%;&quot;&gt;&lt;!DOCTYPE html&gt;     &lt;html&gt;     &lt;img src=https://therealdeal.com/sanfrancisco/wp-content/uploads/2022/03/CenterPoint-leases-its-460K-industrial-Oakland-Port-to-PCC-Logistics-705x431.jpg width=&quot;256&quot; height=&quot;156&quot;&gt;&lt;br&gt;______________________________________&lt;br&gt;     Company: &lt;strong&gt;&lt;a href=&quot;https://therealdeal.com/sanfrancisco/2022/03/25/pcc-logistics-leases-460k-sf-from-centerpoint-port-of-oakland/&quot; target=&quot;_blank&quot; rel=&quot;noopener noreferrer&quot;&gt;PCC Logistics&lt;/a&gt; &lt;/strong&gt;&lt;br&gt;     Address(es) leased/subleased: &lt;em&gt;1300 Maritime Street, Oakland&lt;/em&gt;&lt;br&gt;     Net size of expansion: &lt;strong&gt;&lt;em&gt;460K sf&lt;/strong&gt;&lt;/em&gt;&lt;br&gt;     &lt;/html&gt;     &lt;/div&gt;`)[0];\n",
       "            popup_0034d0bdeb94277640f5c7c79a2a6ff3.setContent(html_c731526f9a03080d1f1460f5e2b704c9);\n",
       "        \n",
       "\n",
       "        marker_f57accfe7641cc0783fef09e5a487187.bindPopup(popup_0034d0bdeb94277640f5c7c79a2a6ff3)\n",
       "        ;\n",
       "\n",
       "        \n",
       "    \n",
       "    \n",
       "            var marker_dbc6bbfc54101cb20bf652f1e8f89df2 = L.marker(\n",
       "                [37.5993766, -122.3835841],\n",
       "                {}\n",
       "            ).addTo(map_c57006a2c380b91b2d69228cd0ec74f9);\n",
       "        \n",
       "    \n",
       "        var popup_e9f549d80e6b0e75efe0fbebb286ade0 = L.popup({&quot;maxWidth&quot;: &quot;100%&quot;});\n",
       "\n",
       "        \n",
       "            var html_61e18651b161e291a8909160bba65e02 = $(`&lt;div id=&quot;html_61e18651b161e291a8909160bba65e02&quot; style=&quot;width: 100.0%; height: 100.0%;&quot;&gt;&lt;!DOCTYPE html&gt;     &lt;html&gt;     &lt;img src=https://therealdeal.com/sanfrancisco/wp-content/uploads/2022/06/main-Alexandria-leases-285K-sf-at-new-Millbrae-campus-to-Eikon-Therapeutics-705x439.jpg width=&quot;256&quot; height=&quot;156&quot;&gt;&lt;br&gt;______________________________________&lt;br&gt;     Company: &lt;strong&gt;&lt;a href=&quot;https://therealdeal.com/sanfrancisco/2022/06/17/alexandria-leases-285k-sf-at-new-millbrae-campus-to-eikon-therapeutics/&quot; target=&quot;_blank&quot; rel=&quot;noopener noreferrer&quot;&gt;Eikon Therapeutics&lt;/a&gt; &lt;/strong&gt;&lt;br&gt;     Address(es) leased/subleased: &lt;em&gt;30 Rollins Road, Millbrae &lt;/em&gt;&lt;br&gt;     Net size of expansion: &lt;strong&gt;&lt;em&gt;213K sf&lt;/strong&gt;&lt;/em&gt;&lt;br&gt;     &lt;/html&gt;     &lt;/div&gt;`)[0];\n",
       "            popup_e9f549d80e6b0e75efe0fbebb286ade0.setContent(html_61e18651b161e291a8909160bba65e02);\n",
       "        \n",
       "\n",
       "        marker_dbc6bbfc54101cb20bf652f1e8f89df2.bindPopup(popup_e9f549d80e6b0e75efe0fbebb286ade0)\n",
       "        ;\n",
       "\n",
       "        \n",
       "    \n",
       "    \n",
       "            var marker_5fdd0b14fcfa3d6a7b93fd2b9260b61b = L.marker(\n",
       "                [37.7560427, -122.2067243],\n",
       "                {}\n",
       "            ).addTo(map_c57006a2c380b91b2d69228cd0ec74f9);\n",
       "        \n",
       "    \n",
       "        var popup_a2b43ba8ff9c2c8acfac3c32eb936132 = L.popup({&quot;maxWidth&quot;: &quot;100%&quot;});\n",
       "\n",
       "        \n",
       "            var html_5da4a375e34882d1a688dfb526be8b24 = $(`&lt;div id=&quot;html_5da4a375e34882d1a688dfb526be8b24&quot; style=&quot;width: 100.0%; height: 100.0%;&quot;&gt;&lt;!DOCTYPE html&gt;     &lt;html&gt;     &lt;img src=https://therealdeal.com/sanfrancisco/wp-content/uploads/2022/06/main-SF-Tire-company-pre-leases-warehouse-space-in-Oakland-705x439.jpg width=&quot;256&quot; height=&quot;156&quot;&gt;&lt;br&gt;______________________________________&lt;br&gt;     Company: &lt;strong&gt;&lt;a href=&quot;https://therealdeal.com/sanfrancisco/2022/06/27/supply-chain-troubles-assist-prologis-latest-industrial-lease-in-oakland/?utm_source=internal&amp;utm_medium=widget&amp;utm_campaign=feature_posts&quot; target=&quot;_blank&quot; rel=&quot;noopener noreferrer&quot;&gt;TireHub&lt;/a&gt;&lt;/strong&gt;&lt;br&gt;     Address(es) leased/subleased: &lt;em&gt;6345 Coliseum Way, Oakland&lt;/em&gt;&lt;br&gt;     Net size of expansion: &lt;strong&gt;&lt;em&gt;60K sf&lt;/strong&gt;&lt;/em&gt;&lt;br&gt;     &lt;/html&gt;     &lt;/div&gt;`)[0];\n",
       "            popup_a2b43ba8ff9c2c8acfac3c32eb936132.setContent(html_5da4a375e34882d1a688dfb526be8b24);\n",
       "        \n",
       "\n",
       "        marker_5fdd0b14fcfa3d6a7b93fd2b9260b61b.bindPopup(popup_a2b43ba8ff9c2c8acfac3c32eb936132)\n",
       "        ;\n",
       "\n",
       "        \n",
       "    \n",
       "    \n",
       "            var marker_d1b180a9f7c89c0a69de02a692ee0a61 = L.marker(\n",
       "                [37.4138973, -121.9499774],\n",
       "                {}\n",
       "            ).addTo(map_c57006a2c380b91b2d69228cd0ec74f9);\n",
       "        \n",
       "    \n",
       "        var popup_f736d3463b2f04254221bc0916b347d4 = L.popup({&quot;maxWidth&quot;: &quot;100%&quot;});\n",
       "\n",
       "        \n",
       "            var html_d1eb1e3ff022a887fdc8af5772180117 = $(`&lt;div id=&quot;html_d1eb1e3ff022a887fdc8af5772180117&quot; style=&quot;width: 100.0%; height: 100.0%;&quot;&gt;&lt;!DOCTYPE html&gt;     &lt;html&gt;     &lt;img src=https://therealdeal.com/sanfrancisco/wp-content/uploads/2022/06/Main_logitech-705x439.jpg width=&quot;256&quot; height=&quot;156&quot;&gt;&lt;br&gt;______________________________________&lt;br&gt;     Company: &lt;strong&gt;&lt;a href=&quot;https://therealdeal.com/sanfrancisco/2022/06/30/logitech-lease-ends-six-year-drought-at-assembly-campus-in-sj/&quot; target=&quot;_blank&quot; rel=&quot;noopener noreferrer&quot;&gt;Logitech&lt;/a&gt; &lt;/strong&gt;&lt;br&gt;     Address(es) leased/subleased: &lt;em&gt;3930 North First Street, San Jose &lt;/em&gt;&lt;br&gt;     Net size of expansion: &lt;strong&gt;&lt;em&gt;About 86K sf&lt;/strong&gt;&lt;/em&gt;&lt;br&gt;     &lt;/html&gt;     &lt;/div&gt;`)[0];\n",
       "            popup_f736d3463b2f04254221bc0916b347d4.setContent(html_d1eb1e3ff022a887fdc8af5772180117);\n",
       "        \n",
       "\n",
       "        marker_d1b180a9f7c89c0a69de02a692ee0a61.bindPopup(popup_f736d3463b2f04254221bc0916b347d4)\n",
       "        ;\n",
       "\n",
       "        \n",
       "    \n",
       "    \n",
       "            var marker_20ba5089a60c9376939153c2da7ea55b = L.marker(\n",
       "                [37.7735873, -122.4005342],\n",
       "                {}\n",
       "            ).addTo(map_c57006a2c380b91b2d69228cd0ec74f9);\n",
       "        \n",
       "    \n",
       "        var popup_a74f8a80ee96713fcb6bba9ea309303c = L.popup({&quot;maxWidth&quot;: &quot;100%&quot;});\n",
       "\n",
       "        \n",
       "            var html_6eabb476af898f715ebe90db228c5f3a = $(`&lt;div id=&quot;html_6eabb476af898f715ebe90db228c5f3a&quot; style=&quot;width: 100.0%; height: 100.0%;&quot;&gt;&lt;!DOCTYPE html&gt;     &lt;html&gt;     &lt;img src=https://therealdeal.com/sanfrancisco/wp-content/uploads/2022/07/main_SF_Google-New-Office-705x439.jpg width=&quot;256&quot; height=&quot;156&quot;&gt;&lt;br&gt;______________________________________&lt;br&gt;     Company: &lt;strong&gt;&lt;a href=&quot;https://therealdeal.com/sanfrancisco/2022/07/05/google-cloud-subleases-300k-sf-in-soma-office-building/&quot; target=&quot;_blank&quot; rel=&quot;noopener noreferrer&quot;&gt;Google Cloud&lt;/a&gt;&lt;/strong&gt;&lt;br&gt;     Address(es) leased/subleased: &lt;em&gt;510 Townsend Street, San Francisco&lt;/em&gt;&lt;br&gt;     Net size of expansion: &lt;strong&gt;&lt;em&gt;300K sf&lt;/strong&gt;&lt;/em&gt;&lt;br&gt;     &lt;/html&gt;     &lt;/div&gt;`)[0];\n",
       "            popup_a74f8a80ee96713fcb6bba9ea309303c.setContent(html_6eabb476af898f715ebe90db228c5f3a);\n",
       "        \n",
       "\n",
       "        marker_20ba5089a60c9376939153c2da7ea55b.bindPopup(popup_a74f8a80ee96713fcb6bba9ea309303c)\n",
       "        ;\n",
       "\n",
       "        \n",
       "    \n",
       "    \n",
       "            map_c57006a2c380b91b2d69228cd0ec74f9.fitBounds(\n",
       "                [37.61090403333334, -122.19016106111111],\n",
       "                {&quot;maxZoom&quot;: 15}\n",
       "            );\n",
       "        \n",
       "&lt;/script&gt;\" style=\"position:absolute;width:100%;height:100%;left:0;top:0;border:none !important;\" allowfullscreen webkitallowfullscreen mozallowfullscreen></iframe></div></div>"
      ],
      "text/plain": [
       "<folium.folium.Map at 0x1370011b0>"
      ]
     },
     "execution_count": 34,
     "metadata": {},
     "output_type": "execute_result"
    }
   ],
   "source": [
    "import folium\n",
    "import branca\n",
    "\n",
    "f = folium.Figure(width=750, height=750)\n",
    "m = folium.Map(location=df[[\"lat\", \"lon\"]].mean().to_list(),zoom_start=9)\n",
    "\n",
    "title_html = '''\n",
    "              <h3 align=\"center\" style=\"font-size:16px\"><b>{}</b></h3>\n",
    "             '''.format(f'Bay Area companies that expanded their footprints, January 2022 to July 2022')\n",
    "\n",
    "for i in range(0,len(df)):\n",
    "    html = popup_html(i)\n",
    "    iframe = branca.element.IFrame(html=html)\n",
    "    popup = folium.Popup(folium.Html(html, script=True))\n",
    "    folium.Marker([df['lat'].iloc[i],df['lon'].iloc[i]],\n",
    "                 popup=popup).add_to(m)\n",
    "\n",
    "m.get_root().html.add_child(folium.Element(title_html))\n",
    "m.fit_bounds(bounds=df[['lat','lon']].mean().to_list(),max_zoom=15)\n",
    "# m.add_to(f)\n",
    "m"
   ]
  },
  {
   "cell_type": "code",
   "execution_count": 35,
   "metadata": {},
   "outputs": [],
   "source": [
    "m.save('index.html')"
   ]
  },
  {
   "cell_type": "markdown",
   "metadata": {},
   "source": [
    "## Map URL snagger"
   ]
  },
  {
   "cell_type": "markdown",
   "metadata": {},
   "source": [
    "Map template URL: `https://trd-digital.github.io/trd-news-interactive-maps/{map-folder-name}`"
   ]
  },
  {
   "cell_type": "code",
   "execution_count": 36,
   "metadata": {},
   "outputs": [],
   "source": [
    "base_name = 'https://trd-digital.github.io/trd-news-interactive-maps/'"
   ]
  },
  {
   "cell_type": "code",
   "execution_count": 37,
   "metadata": {},
   "outputs": [
    {
     "name": "stdout",
     "output_type": "stream",
     "text": [
      "https://trd-digital.github.io/trd-news-interactive-maps/bay_area_company_footprint_expansion\n"
     ]
    }
   ],
   "source": [
    "cwd = os.getcwd()\n",
    "\n",
    "cwd = cwd.split('/')\n",
    "\n",
    "final_name = base_name + cwd[-1]\n",
    "print(final_name)"
   ]
  }
 ],
 "metadata": {
  "kernelspec": {
   "display_name": "Python 3 (ipykernel)",
   "language": "python",
   "name": "python3"
  },
  "language_info": {
   "codemirror_mode": {
    "name": "ipython",
    "version": 3
   },
   "file_extension": ".py",
   "mimetype": "text/x-python",
   "name": "python",
   "nbconvert_exporter": "python",
   "pygments_lexer": "ipython3",
   "version": "3.10.3"
  },
  "toc": {
   "base_numbering": 1,
   "nav_menu": {},
   "number_sections": true,
   "sideBar": true,
   "skip_h1_title": false,
   "title_cell": "Table of Contents",
   "title_sidebar": "Contents",
   "toc_cell": false,
   "toc_position": {},
   "toc_section_display": true,
   "toc_window_display": false
  }
 },
 "nbformat": 4,
 "nbformat_minor": 4
}
