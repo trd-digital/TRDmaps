{
 "cells": [
  {
   "cell_type": "markdown",
   "id": "282c57c3",
   "metadata": {},
   "source": [
    "## Imports"
   ]
  },
  {
   "cell_type": "code",
   "execution_count": 1,
   "id": "54c15242",
   "metadata": {},
   "outputs": [],
   "source": [
    "import pandas as pd\n",
    "import numpy as np\n",
    "import re\n",
    "import os\n",
    "import folium\n",
    "import geopandas as gpd\n",
    "import glob\n",
    "from datetime import datetime, timedelta"
   ]
  },
  {
   "cell_type": "markdown",
   "id": "7c620cf8",
   "metadata": {},
   "source": [
    "## Data Read-in"
   ]
  },
  {
   "cell_type": "code",
   "execution_count": 2,
   "id": "788cfd9b",
   "metadata": {},
   "outputs": [
    {
     "name": "stdout",
     "output_type": "stream",
     "text": [
      "2940\n"
     ]
    }
   ],
   "source": [
    "csv_files = glob.glob('*.csv')\n",
    "\n",
    "df_list = []\n",
    "\n",
    "for csv_file in csv_files:\n",
    "    df = pd.read_csv(csv_file)\n",
    "    df_list.append(df)\n",
    "    \n",
    "df = pd.concat(df_list,ignore_index=True)\n",
    "\n",
    "print(len(df))"
   ]
  },
  {
   "cell_type": "code",
   "execution_count": 3,
   "id": "563417a4",
   "metadata": {},
   "outputs": [],
   "source": [
    "gdf = gpd.read_file('Miami-Dade_Boundary.geojson')"
   ]
  },
  {
   "cell_type": "markdown",
   "id": "5cdf738a",
   "metadata": {},
   "source": [
    "## Previous month's values\n",
    "\n",
    "Get values from here:\n",
    "\n",
    "https://docs.google.com/spreadsheets/d/1GWlqTIzCB29pDVDjd-iBVejVGGsLiAd0P6fq4LM83WI/edit?usp=sharing"
   ]
  },
  {
   "cell_type": "code",
   "execution_count": 4,
   "id": "1cd3e074",
   "metadata": {},
   "outputs": [
    {
     "name": "stdout",
     "output_type": "stream",
     "text": [
      "Input total condo units sold previous (not last) month:\n",
      "704\n"
     ]
    }
   ],
   "source": [
    "print('Input total condo units sold previous (not last) month:')\n",
    "total_condos_sold_2nd_month = input()"
   ]
  },
  {
   "cell_type": "code",
   "execution_count": 5,
   "id": "229637ce",
   "metadata": {},
   "outputs": [
    {
     "name": "stdout",
     "output_type": "stream",
     "text": [
      "Input total sales volume ($$$ million) from previous (not last) month:\n",
      "558715499\n"
     ]
    }
   ],
   "source": [
    "print('Input total sales volume ($$$ million) from previous (not last) month:')\n",
    "sales_volume_2nd_month = input()"
   ]
  },
  {
   "cell_type": "code",
   "execution_count": 6,
   "id": "081faeec",
   "metadata": {},
   "outputs": [
    {
     "name": "stdout",
     "output_type": "stream",
     "text": [
      "Input median sales price from previous (not last) month:\n",
      "402500\n"
     ]
    }
   ],
   "source": [
    "print('Input median sales price from previous (not last) month:')\n",
    "median_sales_price_2nd_month = input()"
   ]
  },
  {
   "cell_type": "code",
   "execution_count": 7,
   "id": "cdac5fe9",
   "metadata": {},
   "outputs": [
    {
     "name": "stdout",
     "output_type": "stream",
     "text": [
      "Input median psf from previous (not last) month:\n",
      "424\n"
     ]
    }
   ],
   "source": [
    "print('Input median psf from previous (not last) month:')\n",
    "median_psf_2nd_month = input()"
   ]
  },
  {
   "cell_type": "markdown",
   "id": "b03ce742",
   "metadata": {},
   "source": [
    "## Data Clean"
   ]
  },
  {
   "cell_type": "code",
   "execution_count": 8,
   "id": "1f2a52a3",
   "metadata": {},
   "outputs": [],
   "source": [
    "df = df.rename(columns={'URL (SEE https://www.redfin.com/buy-a-home/comparative-market-analysis FOR INFO ON PRICING)':'URL'})"
   ]
  },
  {
   "cell_type": "code",
   "execution_count": 9,
   "id": "5f45bf08",
   "metadata": {},
   "outputs": [],
   "source": [
    "df = df.dropna(subset=['SOLD DATE'])"
   ]
  },
  {
   "cell_type": "code",
   "execution_count": 10,
   "id": "25d1852d",
   "metadata": {},
   "outputs": [
    {
     "name": "stdout",
     "output_type": "stream",
     "text": [
      "Report month: March ---- Month before report month: February\n"
     ]
    }
   ],
   "source": [
    "# Get the current date\n",
    "current_date = datetime.now()\n",
    "\n",
    "# Calculate the first day of the current month\n",
    "first_day_of_current_month = current_date.replace(day=1)\n",
    "\n",
    "# Get the last day of the previous month by subtracting one day from the first day of the current month\n",
    "last_day_of_previous_month = first_day_of_current_month - timedelta(days=1)\n",
    "\n",
    "# Get the month name of the previous month\n",
    "previous_month_name = last_day_of_previous_month.strftime(\"%B\")\n",
    "\n",
    "# ---- Get the name of the month, as a string, from two months ago.\n",
    "# ---- Meaning, if the current month is January, return November.\n",
    "\n",
    "# Get the first day of the previous month by subtracting one day from the first day of the current month\n",
    "first_day_of_previous_month = first_day_of_current_month - timedelta(days=1)\n",
    "\n",
    "# Get the first day of the month before the last by subtracting one day from the first day of the previous month\n",
    "first_day_of_month_before_last = first_day_of_previous_month.replace(day=1) - timedelta(days=1)\n",
    "\n",
    "# Get the month name of the month before the last\n",
    "month_before_last_name = first_day_of_month_before_last.strftime(\"%B\")\n",
    "\n",
    "print(f'Report month: {previous_month_name} ---- Month before report month: {month_before_last_name}')"
   ]
  },
  {
   "cell_type": "code",
   "execution_count": 11,
   "id": "9b9d20ba",
   "metadata": {},
   "outputs": [],
   "source": [
    "# Define list of desired months (excluding current month)\n",
    "desired_months = [previous_month_name]\n",
    "\n",
    "# Filter DataFrame to include only entries from desired months\n",
    "df_filtered = df[df['SOLD DATE'].str.split('-', expand=True)[0].isin(desired_months)]\n",
    "\n",
    "# Reset the index\n",
    "df_filtered = df_filtered.reset_index(drop=True)"
   ]
  },
  {
   "cell_type": "code",
   "execution_count": 12,
   "id": "ab2d002c",
   "metadata": {},
   "outputs": [
    {
     "name": "stdout",
     "output_type": "stream",
     "text": [
      "PRICE\n",
      "False    835\n",
      "Name: count, dtype: int64\n",
      "-------\n",
      "$/SQUARE FEET\n",
      "False    827\n",
      "True       8\n",
      "Name: count, dtype: int64\n",
      "-------\n",
      "YEAR BUILT\n",
      "False    835\n",
      "Name: count, dtype: int64\n",
      "-------\n"
     ]
    }
   ],
   "source": [
    "# Data checks\n",
    "print(df_filtered['PRICE'].isna().value_counts())\n",
    "print('-------')\n",
    "print(df_filtered['$/SQUARE FEET'].isna().value_counts())\n",
    "print('-------')\n",
    "print(df_filtered['YEAR BUILT'].isna().value_counts())\n",
    "print('-------')"
   ]
  },
  {
   "cell_type": "code",
   "execution_count": 13,
   "id": "446eb268",
   "metadata": {},
   "outputs": [
    {
     "name": "stdout",
     "output_type": "stream",
     "text": [
      "https://www.redfin.com/FL/Sunny-Isles-Beach/17550-Collins-Ave-33160/unit-705/home/177822983\n"
     ]
    }
   ],
   "source": [
    "sorted_df = df_filtered.sort_values(by='YEAR BUILT', ascending=False)\n",
    "second_newest_building = sorted_df.iloc[2]\n",
    "print(second_newest_building['URL'])"
   ]
  },
  {
   "cell_type": "code",
   "execution_count": 14,
   "id": "61663e76",
   "metadata": {},
   "outputs": [
    {
     "data": {
      "text/html": [
       "<div>\n",
       "<style scoped>\n",
       "    .dataframe tbody tr th:only-of-type {\n",
       "        vertical-align: middle;\n",
       "    }\n",
       "\n",
       "    .dataframe tbody tr th {\n",
       "        vertical-align: top;\n",
       "    }\n",
       "\n",
       "    .dataframe thead th {\n",
       "        text-align: right;\n",
       "    }\n",
       "</style>\n",
       "<table border=\"1\" class=\"dataframe\">\n",
       "  <thead>\n",
       "    <tr style=\"text-align: right;\">\n",
       "      <th></th>\n",
       "      <th>SALE TYPE</th>\n",
       "      <th>SOLD DATE</th>\n",
       "      <th>PROPERTY TYPE</th>\n",
       "      <th>ADDRESS</th>\n",
       "      <th>CITY</th>\n",
       "      <th>STATE OR PROVINCE</th>\n",
       "      <th>ZIP OR POSTAL CODE</th>\n",
       "      <th>PRICE</th>\n",
       "      <th>BEDS</th>\n",
       "      <th>BATHS</th>\n",
       "      <th>...</th>\n",
       "      <th>STATUS</th>\n",
       "      <th>NEXT OPEN HOUSE START TIME</th>\n",
       "      <th>NEXT OPEN HOUSE END TIME</th>\n",
       "      <th>URL</th>\n",
       "      <th>SOURCE</th>\n",
       "      <th>MLS#</th>\n",
       "      <th>FAVORITE</th>\n",
       "      <th>INTERESTED</th>\n",
       "      <th>LATITUDE</th>\n",
       "      <th>LONGITUDE</th>\n",
       "    </tr>\n",
       "  </thead>\n",
       "  <tbody>\n",
       "  </tbody>\n",
       "</table>\n",
       "<p>0 rows × 27 columns</p>\n",
       "</div>"
      ],
      "text/plain": [
       "Empty DataFrame\n",
       "Columns: [SALE TYPE, SOLD DATE, PROPERTY TYPE, ADDRESS, CITY, STATE OR PROVINCE, ZIP OR POSTAL CODE, PRICE, BEDS, BATHS, LOCATION, SQUARE FEET, LOT SIZE, YEAR BUILT, DAYS ON MARKET, $/SQUARE FEET, HOA/MONTH, STATUS, NEXT OPEN HOUSE START TIME, NEXT OPEN HOUSE END TIME, URL, SOURCE, MLS#, FAVORITE, INTERESTED, LATITUDE, LONGITUDE]\n",
       "Index: []\n",
       "\n",
       "[0 rows x 27 columns]"
      ]
     },
     "execution_count": 14,
     "metadata": {},
     "output_type": "execute_result"
    }
   ],
   "source": [
    "df_filtered.loc[df_filtered['PRICE'] == '0']"
   ]
  },
  {
   "cell_type": "code",
   "execution_count": 15,
   "id": "b0376d17",
   "metadata": {},
   "outputs": [],
   "source": [
    "df_filtered['PRICE'] = pd.to_numeric(df_filtered['PRICE'])\n",
    "df_filtered['$/SQUARE FEET'] = pd.to_numeric(df_filtered['$/SQUARE FEET'])\n",
    "df_filtered['YEAR BUILT'] = pd.to_numeric(df_filtered['YEAR BUILT'])\n",
    "df_filtered['LATITUDE'] = pd.to_numeric(df_filtered['LATITUDE'])\n",
    "df_filtered['LONGITUDE'] = pd.to_numeric(df_filtered['LONGITUDE'])"
   ]
  },
  {
   "cell_type": "code",
   "execution_count": 16,
   "id": "22be7f44",
   "metadata": {},
   "outputs": [],
   "source": [
    "df_filtered = df_filtered.drop_duplicates().reset_index(drop=True)"
   ]
  },
  {
   "cell_type": "code",
   "execution_count": 17,
   "id": "86329244",
   "metadata": {},
   "outputs": [],
   "source": [
    "# df_filtered = df_filtered[df_filtered['ADDRESS'] != '1901 Brickell Ave Unit B109']"
   ]
  },
  {
   "cell_type": "code",
   "execution_count": 17,
   "id": "a5e15306",
   "metadata": {},
   "outputs": [
    {
     "data": {
      "text/html": [
       "<div>\n",
       "<style scoped>\n",
       "    .dataframe tbody tr th:only-of-type {\n",
       "        vertical-align: middle;\n",
       "    }\n",
       "\n",
       "    .dataframe tbody tr th {\n",
       "        vertical-align: top;\n",
       "    }\n",
       "\n",
       "    .dataframe thead th {\n",
       "        text-align: right;\n",
       "    }\n",
       "</style>\n",
       "<table border=\"1\" class=\"dataframe\">\n",
       "  <thead>\n",
       "    <tr style=\"text-align: right;\">\n",
       "      <th></th>\n",
       "      <th>SALE TYPE</th>\n",
       "      <th>SOLD DATE</th>\n",
       "      <th>PROPERTY TYPE</th>\n",
       "      <th>ADDRESS</th>\n",
       "      <th>CITY</th>\n",
       "      <th>STATE OR PROVINCE</th>\n",
       "      <th>ZIP OR POSTAL CODE</th>\n",
       "      <th>PRICE</th>\n",
       "      <th>BEDS</th>\n",
       "      <th>BATHS</th>\n",
       "      <th>...</th>\n",
       "      <th>STATUS</th>\n",
       "      <th>NEXT OPEN HOUSE START TIME</th>\n",
       "      <th>NEXT OPEN HOUSE END TIME</th>\n",
       "      <th>URL</th>\n",
       "      <th>SOURCE</th>\n",
       "      <th>MLS#</th>\n",
       "      <th>FAVORITE</th>\n",
       "      <th>INTERESTED</th>\n",
       "      <th>LATITUDE</th>\n",
       "      <th>LONGITUDE</th>\n",
       "    </tr>\n",
       "  </thead>\n",
       "  <tbody>\n",
       "    <tr>\n",
       "      <th>483</th>\n",
       "      <td>PAST SALE</td>\n",
       "      <td>March-13-2024</td>\n",
       "      <td>Condo/Co-op</td>\n",
       "      <td>7918 Harbor Island Dr #307</td>\n",
       "      <td>North Bay Village</td>\n",
       "      <td>FL</td>\n",
       "      <td>33141.0</td>\n",
       "      <td>795.0</td>\n",
       "      <td>3.0</td>\n",
       "      <td>2.0</td>\n",
       "      <td>...</td>\n",
       "      <td>Sold</td>\n",
       "      <td>NaN</td>\n",
       "      <td>NaN</td>\n",
       "      <td>https://www.redfin.com/FL/North-Bay-Village/79...</td>\n",
       "      <td>MARMLS</td>\n",
       "      <td>A11213085</td>\n",
       "      <td>N</td>\n",
       "      <td>Y</td>\n",
       "      <td>25.850058</td>\n",
       "      <td>-80.158078</td>\n",
       "    </tr>\n",
       "    <tr>\n",
       "      <th>460</th>\n",
       "      <td>PAST SALE</td>\n",
       "      <td>March-21-2024</td>\n",
       "      <td>Condo/Co-op</td>\n",
       "      <td>18900 NE 3rd Ct #530</td>\n",
       "      <td>Miami</td>\n",
       "      <td>FL</td>\n",
       "      <td>33179.0</td>\n",
       "      <td>80000.0</td>\n",
       "      <td>1.0</td>\n",
       "      <td>1.0</td>\n",
       "      <td>...</td>\n",
       "      <td>Sold</td>\n",
       "      <td>NaN</td>\n",
       "      <td>NaN</td>\n",
       "      <td>https://www.redfin.com/FL/Miami/18900-NE-3rd-C...</td>\n",
       "      <td>MARMLS</td>\n",
       "      <td>A11530726</td>\n",
       "      <td>N</td>\n",
       "      <td>Y</td>\n",
       "      <td>25.948300</td>\n",
       "      <td>-80.194539</td>\n",
       "    </tr>\n",
       "    <tr>\n",
       "      <th>477</th>\n",
       "      <td>PAST SALE</td>\n",
       "      <td>March-4-2024</td>\n",
       "      <td>Condo/Co-op</td>\n",
       "      <td>15610 NE 6th Ave Unit 12B</td>\n",
       "      <td>Miami</td>\n",
       "      <td>FL</td>\n",
       "      <td>33162.0</td>\n",
       "      <td>81000.0</td>\n",
       "      <td>1.0</td>\n",
       "      <td>1.0</td>\n",
       "      <td>...</td>\n",
       "      <td>Sold</td>\n",
       "      <td>NaN</td>\n",
       "      <td>NaN</td>\n",
       "      <td>https://www.redfin.com/FL/Miami/15610-NE-6th-A...</td>\n",
       "      <td>Beaches MLS</td>\n",
       "      <td>F10400314</td>\n",
       "      <td>N</td>\n",
       "      <td>Y</td>\n",
       "      <td>25.918155</td>\n",
       "      <td>-80.188500</td>\n",
       "    </tr>\n",
       "    <tr>\n",
       "      <th>479</th>\n",
       "      <td>PAST SALE</td>\n",
       "      <td>March-26-2024</td>\n",
       "      <td>Condo/Co-op</td>\n",
       "      <td>18700 NE 3rd Ct #603</td>\n",
       "      <td>Miami</td>\n",
       "      <td>FL</td>\n",
       "      <td>33179.0</td>\n",
       "      <td>85000.0</td>\n",
       "      <td>1.0</td>\n",
       "      <td>1.0</td>\n",
       "      <td>...</td>\n",
       "      <td>Sold</td>\n",
       "      <td>NaN</td>\n",
       "      <td>NaN</td>\n",
       "      <td>https://www.redfin.com/FL/Miami/18700-NE-3rd-C...</td>\n",
       "      <td>MARMLS</td>\n",
       "      <td>A11452788</td>\n",
       "      <td>N</td>\n",
       "      <td>Y</td>\n",
       "      <td>25.947261</td>\n",
       "      <td>-80.194442</td>\n",
       "    </tr>\n",
       "    <tr>\n",
       "      <th>465</th>\n",
       "      <td>PAST SALE</td>\n",
       "      <td>March-5-2024</td>\n",
       "      <td>Condo/Co-op</td>\n",
       "      <td>16750 NE 14th Ave Unit H308</td>\n",
       "      <td>North Miami Beach</td>\n",
       "      <td>FL</td>\n",
       "      <td>33162.0</td>\n",
       "      <td>90000.0</td>\n",
       "      <td>1.0</td>\n",
       "      <td>1.0</td>\n",
       "      <td>...</td>\n",
       "      <td>Sold</td>\n",
       "      <td>NaN</td>\n",
       "      <td>NaN</td>\n",
       "      <td>https://www.redfin.com/FL/Miami/16750-NE-14th-...</td>\n",
       "      <td>Beaches MLS</td>\n",
       "      <td>F10418462</td>\n",
       "      <td>N</td>\n",
       "      <td>Y</td>\n",
       "      <td>25.929986</td>\n",
       "      <td>-80.172815</td>\n",
       "    </tr>\n",
       "    <tr>\n",
       "      <th>471</th>\n",
       "      <td>PAST SALE</td>\n",
       "      <td>March-15-2024</td>\n",
       "      <td>Condo/Co-op</td>\n",
       "      <td>16699 Collins Ave #1401</td>\n",
       "      <td>Sunny Isles Beach</td>\n",
       "      <td>FL</td>\n",
       "      <td>33160.0</td>\n",
       "      <td>98000.0</td>\n",
       "      <td>2.0</td>\n",
       "      <td>2.5</td>\n",
       "      <td>...</td>\n",
       "      <td>Sold</td>\n",
       "      <td>NaN</td>\n",
       "      <td>NaN</td>\n",
       "      <td>https://www.redfin.com/FL/Sunny-Isles-Beach/16...</td>\n",
       "      <td>MARMLS</td>\n",
       "      <td>A11504575</td>\n",
       "      <td>N</td>\n",
       "      <td>Y</td>\n",
       "      <td>25.930189</td>\n",
       "      <td>-80.121367</td>\n",
       "    </tr>\n",
       "    <tr>\n",
       "      <th>461</th>\n",
       "      <td>PAST SALE</td>\n",
       "      <td>March-12-2024</td>\n",
       "      <td>Condo/Co-op</td>\n",
       "      <td>130 NE 202nd Ter Unit S22</td>\n",
       "      <td>Miami Gardens</td>\n",
       "      <td>FL</td>\n",
       "      <td>33179.0</td>\n",
       "      <td>120000.0</td>\n",
       "      <td>1.0</td>\n",
       "      <td>1.0</td>\n",
       "      <td>...</td>\n",
       "      <td>Sold</td>\n",
       "      <td>NaN</td>\n",
       "      <td>NaN</td>\n",
       "      <td>https://www.redfin.com/FL/Miami/130-NE-202nd-T...</td>\n",
       "      <td>MARMLS</td>\n",
       "      <td>A11524524</td>\n",
       "      <td>N</td>\n",
       "      <td>Y</td>\n",
       "      <td>25.959050</td>\n",
       "      <td>-80.199487</td>\n",
       "    </tr>\n",
       "    <tr>\n",
       "      <th>451</th>\n",
       "      <td>PAST SALE</td>\n",
       "      <td>March-7-2024</td>\n",
       "      <td>Condo/Co-op</td>\n",
       "      <td>19201 Collins Ave #1141</td>\n",
       "      <td>Sunny Isles Beach</td>\n",
       "      <td>FL</td>\n",
       "      <td>33160.0</td>\n",
       "      <td>132600.0</td>\n",
       "      <td>0.0</td>\n",
       "      <td>1.0</td>\n",
       "      <td>...</td>\n",
       "      <td>Sold</td>\n",
       "      <td>NaN</td>\n",
       "      <td>NaN</td>\n",
       "      <td>https://www.redfin.com/FL/Sunny-Isles-Beach/19...</td>\n",
       "      <td>MARMLS</td>\n",
       "      <td>A11524978</td>\n",
       "      <td>N</td>\n",
       "      <td>Y</td>\n",
       "      <td>25.954318</td>\n",
       "      <td>-80.119900</td>\n",
       "    </tr>\n",
       "    <tr>\n",
       "      <th>456</th>\n",
       "      <td>PAST SALE</td>\n",
       "      <td>March-14-2024</td>\n",
       "      <td>Condo/Co-op</td>\n",
       "      <td>19201 Collins Ave #501</td>\n",
       "      <td>Sunny Isles Beach</td>\n",
       "      <td>FL</td>\n",
       "      <td>33160.0</td>\n",
       "      <td>132990.0</td>\n",
       "      <td>0.0</td>\n",
       "      <td>1.0</td>\n",
       "      <td>...</td>\n",
       "      <td>Sold</td>\n",
       "      <td>NaN</td>\n",
       "      <td>NaN</td>\n",
       "      <td>https://www.redfin.com/FL/Sunny-Isles-Beach/19...</td>\n",
       "      <td>MARMLS</td>\n",
       "      <td>A11530895</td>\n",
       "      <td>N</td>\n",
       "      <td>Y</td>\n",
       "      <td>25.954318</td>\n",
       "      <td>-80.119900</td>\n",
       "    </tr>\n",
       "    <tr>\n",
       "      <th>455</th>\n",
       "      <td>PAST SALE</td>\n",
       "      <td>March-8-2024</td>\n",
       "      <td>Condo/Co-op</td>\n",
       "      <td>486 NW 165th St Rd Unit B-303</td>\n",
       "      <td>Miami</td>\n",
       "      <td>FL</td>\n",
       "      <td>33169.0</td>\n",
       "      <td>133000.0</td>\n",
       "      <td>1.0</td>\n",
       "      <td>1.0</td>\n",
       "      <td>...</td>\n",
       "      <td>Sold</td>\n",
       "      <td>NaN</td>\n",
       "      <td>NaN</td>\n",
       "      <td>https://www.redfin.com/FL/Miami/486-NW-165th-S...</td>\n",
       "      <td>MARMLS</td>\n",
       "      <td>A11524223</td>\n",
       "      <td>N</td>\n",
       "      <td>Y</td>\n",
       "      <td>25.923777</td>\n",
       "      <td>-80.207624</td>\n",
       "    </tr>\n",
       "    <tr>\n",
       "      <th>448</th>\n",
       "      <td>PAST SALE</td>\n",
       "      <td>March-27-2024</td>\n",
       "      <td>Condo/Co-op</td>\n",
       "      <td>1351 NE Miami Gardens Dr Unit 1121 E</td>\n",
       "      <td>Miami Gardens</td>\n",
       "      <td>FL</td>\n",
       "      <td>33179.0</td>\n",
       "      <td>135000.0</td>\n",
       "      <td>1.0</td>\n",
       "      <td>1.0</td>\n",
       "      <td>...</td>\n",
       "      <td>Sold</td>\n",
       "      <td>NaN</td>\n",
       "      <td>NaN</td>\n",
       "      <td>https://www.redfin.com/FL/Miami/1351-NE-Miami-...</td>\n",
       "      <td>MARMLS</td>\n",
       "      <td>A11514409</td>\n",
       "      <td>N</td>\n",
       "      <td>Y</td>\n",
       "      <td>25.945838</td>\n",
       "      <td>-80.174826</td>\n",
       "    </tr>\n",
       "    <tr>\n",
       "      <th>474</th>\n",
       "      <td>PAST SALE</td>\n",
       "      <td>March-22-2024</td>\n",
       "      <td>Condo/Co-op</td>\n",
       "      <td>1680 NE 191st St Unit 218-2</td>\n",
       "      <td>Miami</td>\n",
       "      <td>FL</td>\n",
       "      <td>33179.0</td>\n",
       "      <td>135000.0</td>\n",
       "      <td>1.0</td>\n",
       "      <td>1.0</td>\n",
       "      <td>...</td>\n",
       "      <td>Sold</td>\n",
       "      <td>NaN</td>\n",
       "      <td>NaN</td>\n",
       "      <td>https://www.redfin.com/FL/Miami/1680-NE-191st-...</td>\n",
       "      <td>MARMLS</td>\n",
       "      <td>A11502959</td>\n",
       "      <td>N</td>\n",
       "      <td>Y</td>\n",
       "      <td>25.949477</td>\n",
       "      <td>-80.168976</td>\n",
       "    </tr>\n",
       "    <tr>\n",
       "      <th>473</th>\n",
       "      <td>PAST SALE</td>\n",
       "      <td>March-1-2024</td>\n",
       "      <td>Condo/Co-op</td>\n",
       "      <td>6511 NW 12th Ave #14</td>\n",
       "      <td>Miami</td>\n",
       "      <td>FL</td>\n",
       "      <td>33150.0</td>\n",
       "      <td>135000.0</td>\n",
       "      <td>1.0</td>\n",
       "      <td>1.0</td>\n",
       "      <td>...</td>\n",
       "      <td>Sold</td>\n",
       "      <td>NaN</td>\n",
       "      <td>NaN</td>\n",
       "      <td>https://www.redfin.com/FL/Miami/6511-NW-12th-A...</td>\n",
       "      <td>MARMLS</td>\n",
       "      <td>A11494314</td>\n",
       "      <td>N</td>\n",
       "      <td>Y</td>\n",
       "      <td>25.834641</td>\n",
       "      <td>-80.216441</td>\n",
       "    </tr>\n",
       "    <tr>\n",
       "      <th>472</th>\n",
       "      <td>PAST SALE</td>\n",
       "      <td>March-29-2024</td>\n",
       "      <td>Condo/Co-op</td>\n",
       "      <td>486 NW 165th St Rd Unit B-102</td>\n",
       "      <td>Miami</td>\n",
       "      <td>FL</td>\n",
       "      <td>33169.0</td>\n",
       "      <td>145000.0</td>\n",
       "      <td>2.0</td>\n",
       "      <td>2.0</td>\n",
       "      <td>...</td>\n",
       "      <td>Sold</td>\n",
       "      <td>NaN</td>\n",
       "      <td>NaN</td>\n",
       "      <td>https://www.redfin.com/FL/Miami/486-NW-165th-S...</td>\n",
       "      <td>MARMLS</td>\n",
       "      <td>A11510524</td>\n",
       "      <td>N</td>\n",
       "      <td>Y</td>\n",
       "      <td>25.923777</td>\n",
       "      <td>-80.207624</td>\n",
       "    </tr>\n",
       "    <tr>\n",
       "      <th>481</th>\n",
       "      <td>PAST SALE</td>\n",
       "      <td>March-29-2024</td>\n",
       "      <td>Condo/Co-op</td>\n",
       "      <td>484 NW 165th Street Rd #314</td>\n",
       "      <td>Miami</td>\n",
       "      <td>FL</td>\n",
       "      <td>33169.0</td>\n",
       "      <td>148000.0</td>\n",
       "      <td>1.0</td>\n",
       "      <td>1.0</td>\n",
       "      <td>...</td>\n",
       "      <td>Sold</td>\n",
       "      <td>NaN</td>\n",
       "      <td>NaN</td>\n",
       "      <td>https://www.redfin.com/FL/Miami/484-NW-165th-S...</td>\n",
       "      <td>MARMLS</td>\n",
       "      <td>A11451482</td>\n",
       "      <td>N</td>\n",
       "      <td>Y</td>\n",
       "      <td>25.923653</td>\n",
       "      <td>-80.206771</td>\n",
       "    </tr>\n",
       "    <tr>\n",
       "      <th>476</th>\n",
       "      <td>PAST SALE</td>\n",
       "      <td>March-25-2024</td>\n",
       "      <td>Condo/Co-op</td>\n",
       "      <td>441 NE 195th St #404</td>\n",
       "      <td>North Miami Beach</td>\n",
       "      <td>FL</td>\n",
       "      <td>33179.0</td>\n",
       "      <td>149900.0</td>\n",
       "      <td>1.0</td>\n",
       "      <td>1.5</td>\n",
       "      <td>...</td>\n",
       "      <td>Sold</td>\n",
       "      <td>NaN</td>\n",
       "      <td>NaN</td>\n",
       "      <td>https://www.redfin.com/FL/Miami/441-NE-195th-S...</td>\n",
       "      <td>MARMLS</td>\n",
       "      <td>A11494599</td>\n",
       "      <td>N</td>\n",
       "      <td>Y</td>\n",
       "      <td>25.957012</td>\n",
       "      <td>-80.191073</td>\n",
       "    </tr>\n",
       "    <tr>\n",
       "      <th>466</th>\n",
       "      <td>PAST SALE</td>\n",
       "      <td>March-12-2024</td>\n",
       "      <td>Condo/Co-op</td>\n",
       "      <td>14840 Naranja Lakes Blvd Unit C4D</td>\n",
       "      <td>Homestead</td>\n",
       "      <td>FL</td>\n",
       "      <td>33032.0</td>\n",
       "      <td>150000.0</td>\n",
       "      <td>2.0</td>\n",
       "      <td>1.5</td>\n",
       "      <td>...</td>\n",
       "      <td>Sold</td>\n",
       "      <td>NaN</td>\n",
       "      <td>NaN</td>\n",
       "      <td>https://www.redfin.com/FL/Homestead/14840-Nara...</td>\n",
       "      <td>MARMLS</td>\n",
       "      <td>A11516113</td>\n",
       "      <td>N</td>\n",
       "      <td>Y</td>\n",
       "      <td>25.509002</td>\n",
       "      <td>-80.432670</td>\n",
       "    </tr>\n",
       "    <tr>\n",
       "      <th>464</th>\n",
       "      <td>PAST SALE</td>\n",
       "      <td>March-25-2024</td>\n",
       "      <td>Condo/Co-op</td>\n",
       "      <td>2025 NE 164th St #707</td>\n",
       "      <td>North Miami Beach</td>\n",
       "      <td>FL</td>\n",
       "      <td>33162.0</td>\n",
       "      <td>155000.0</td>\n",
       "      <td>1.0</td>\n",
       "      <td>1.5</td>\n",
       "      <td>...</td>\n",
       "      <td>Sold</td>\n",
       "      <td>NaN</td>\n",
       "      <td>NaN</td>\n",
       "      <td>https://www.redfin.com/FL/North-Miami-Beach/20...</td>\n",
       "      <td>MARMLS</td>\n",
       "      <td>A11527401</td>\n",
       "      <td>N</td>\n",
       "      <td>Y</td>\n",
       "      <td>25.927607</td>\n",
       "      <td>-80.159386</td>\n",
       "    </tr>\n",
       "    <tr>\n",
       "      <th>482</th>\n",
       "      <td>PAST SALE</td>\n",
       "      <td>March-5-2024</td>\n",
       "      <td>Condo/Co-op</td>\n",
       "      <td>13499 Biscayne Blvd #504</td>\n",
       "      <td>North Miami</td>\n",
       "      <td>FL</td>\n",
       "      <td>33181.0</td>\n",
       "      <td>157000.0</td>\n",
       "      <td>1.0</td>\n",
       "      <td>1.5</td>\n",
       "      <td>...</td>\n",
       "      <td>Sold</td>\n",
       "      <td>NaN</td>\n",
       "      <td>NaN</td>\n",
       "      <td>https://www.redfin.com/FL/North-Miami/13499-Bi...</td>\n",
       "      <td>MARMLS</td>\n",
       "      <td>A11386542</td>\n",
       "      <td>N</td>\n",
       "      <td>Y</td>\n",
       "      <td>25.899600</td>\n",
       "      <td>-80.159691</td>\n",
       "    </tr>\n",
       "    <tr>\n",
       "      <th>450</th>\n",
       "      <td>PAST SALE</td>\n",
       "      <td>March-28-2024</td>\n",
       "      <td>Condo/Co-op</td>\n",
       "      <td>505 NW 177th St #235</td>\n",
       "      <td>Miami Gardens</td>\n",
       "      <td>FL</td>\n",
       "      <td>33169.0</td>\n",
       "      <td>160000.0</td>\n",
       "      <td>1.0</td>\n",
       "      <td>1.0</td>\n",
       "      <td>...</td>\n",
       "      <td>Sold</td>\n",
       "      <td>NaN</td>\n",
       "      <td>NaN</td>\n",
       "      <td>https://www.redfin.com/FL/Miami/505-NW-177th-S...</td>\n",
       "      <td>MARMLS</td>\n",
       "      <td>A11542275</td>\n",
       "      <td>N</td>\n",
       "      <td>Y</td>\n",
       "      <td>25.938136</td>\n",
       "      <td>-80.209610</td>\n",
       "    </tr>\n",
       "  </tbody>\n",
       "</table>\n",
       "<p>20 rows × 27 columns</p>\n",
       "</div>"
      ],
      "text/plain": [
       "     SALE TYPE      SOLD DATE PROPERTY TYPE  \\\n",
       "483  PAST SALE  March-13-2024   Condo/Co-op   \n",
       "460  PAST SALE  March-21-2024   Condo/Co-op   \n",
       "477  PAST SALE   March-4-2024   Condo/Co-op   \n",
       "479  PAST SALE  March-26-2024   Condo/Co-op   \n",
       "465  PAST SALE   March-5-2024   Condo/Co-op   \n",
       "471  PAST SALE  March-15-2024   Condo/Co-op   \n",
       "461  PAST SALE  March-12-2024   Condo/Co-op   \n",
       "451  PAST SALE   March-7-2024   Condo/Co-op   \n",
       "456  PAST SALE  March-14-2024   Condo/Co-op   \n",
       "455  PAST SALE   March-8-2024   Condo/Co-op   \n",
       "448  PAST SALE  March-27-2024   Condo/Co-op   \n",
       "474  PAST SALE  March-22-2024   Condo/Co-op   \n",
       "473  PAST SALE   March-1-2024   Condo/Co-op   \n",
       "472  PAST SALE  March-29-2024   Condo/Co-op   \n",
       "481  PAST SALE  March-29-2024   Condo/Co-op   \n",
       "476  PAST SALE  March-25-2024   Condo/Co-op   \n",
       "466  PAST SALE  March-12-2024   Condo/Co-op   \n",
       "464  PAST SALE  March-25-2024   Condo/Co-op   \n",
       "482  PAST SALE   March-5-2024   Condo/Co-op   \n",
       "450  PAST SALE  March-28-2024   Condo/Co-op   \n",
       "\n",
       "                                  ADDRESS               CITY  \\\n",
       "483            7918 Harbor Island Dr #307  North Bay Village   \n",
       "460                  18900 NE 3rd Ct #530              Miami   \n",
       "477             15610 NE 6th Ave Unit 12B              Miami   \n",
       "479                  18700 NE 3rd Ct #603              Miami   \n",
       "465           16750 NE 14th Ave Unit H308  North Miami Beach   \n",
       "471               16699 Collins Ave #1401  Sunny Isles Beach   \n",
       "461             130 NE 202nd Ter Unit S22      Miami Gardens   \n",
       "451               19201 Collins Ave #1141  Sunny Isles Beach   \n",
       "456                19201 Collins Ave #501  Sunny Isles Beach   \n",
       "455         486 NW 165th St Rd Unit B-303              Miami   \n",
       "448  1351 NE Miami Gardens Dr Unit 1121 E      Miami Gardens   \n",
       "474           1680 NE 191st St Unit 218-2              Miami   \n",
       "473                  6511 NW 12th Ave #14              Miami   \n",
       "472         486 NW 165th St Rd Unit B-102              Miami   \n",
       "481           484 NW 165th Street Rd #314              Miami   \n",
       "476                  441 NE 195th St #404  North Miami Beach   \n",
       "466     14840 Naranja Lakes Blvd Unit C4D          Homestead   \n",
       "464                 2025 NE 164th St #707  North Miami Beach   \n",
       "482              13499 Biscayne Blvd #504        North Miami   \n",
       "450                  505 NW 177th St #235      Miami Gardens   \n",
       "\n",
       "    STATE OR PROVINCE  ZIP OR POSTAL CODE     PRICE  BEDS  BATHS  ... STATUS  \\\n",
       "483                FL             33141.0     795.0   3.0    2.0  ...   Sold   \n",
       "460                FL             33179.0   80000.0   1.0    1.0  ...   Sold   \n",
       "477                FL             33162.0   81000.0   1.0    1.0  ...   Sold   \n",
       "479                FL             33179.0   85000.0   1.0    1.0  ...   Sold   \n",
       "465                FL             33162.0   90000.0   1.0    1.0  ...   Sold   \n",
       "471                FL             33160.0   98000.0   2.0    2.5  ...   Sold   \n",
       "461                FL             33179.0  120000.0   1.0    1.0  ...   Sold   \n",
       "451                FL             33160.0  132600.0   0.0    1.0  ...   Sold   \n",
       "456                FL             33160.0  132990.0   0.0    1.0  ...   Sold   \n",
       "455                FL             33169.0  133000.0   1.0    1.0  ...   Sold   \n",
       "448                FL             33179.0  135000.0   1.0    1.0  ...   Sold   \n",
       "474                FL             33179.0  135000.0   1.0    1.0  ...   Sold   \n",
       "473                FL             33150.0  135000.0   1.0    1.0  ...   Sold   \n",
       "472                FL             33169.0  145000.0   2.0    2.0  ...   Sold   \n",
       "481                FL             33169.0  148000.0   1.0    1.0  ...   Sold   \n",
       "476                FL             33179.0  149900.0   1.0    1.5  ...   Sold   \n",
       "466                FL             33032.0  150000.0   2.0    1.5  ...   Sold   \n",
       "464                FL             33162.0  155000.0   1.0    1.5  ...   Sold   \n",
       "482                FL             33181.0  157000.0   1.0    1.5  ...   Sold   \n",
       "450                FL             33169.0  160000.0   1.0    1.0  ...   Sold   \n",
       "\n",
       "     NEXT OPEN HOUSE START TIME  NEXT OPEN HOUSE END TIME  \\\n",
       "483                         NaN                       NaN   \n",
       "460                         NaN                       NaN   \n",
       "477                         NaN                       NaN   \n",
       "479                         NaN                       NaN   \n",
       "465                         NaN                       NaN   \n",
       "471                         NaN                       NaN   \n",
       "461                         NaN                       NaN   \n",
       "451                         NaN                       NaN   \n",
       "456                         NaN                       NaN   \n",
       "455                         NaN                       NaN   \n",
       "448                         NaN                       NaN   \n",
       "474                         NaN                       NaN   \n",
       "473                         NaN                       NaN   \n",
       "472                         NaN                       NaN   \n",
       "481                         NaN                       NaN   \n",
       "476                         NaN                       NaN   \n",
       "466                         NaN                       NaN   \n",
       "464                         NaN                       NaN   \n",
       "482                         NaN                       NaN   \n",
       "450                         NaN                       NaN   \n",
       "\n",
       "                                                   URL       SOURCE  \\\n",
       "483  https://www.redfin.com/FL/North-Bay-Village/79...       MARMLS   \n",
       "460  https://www.redfin.com/FL/Miami/18900-NE-3rd-C...       MARMLS   \n",
       "477  https://www.redfin.com/FL/Miami/15610-NE-6th-A...  Beaches MLS   \n",
       "479  https://www.redfin.com/FL/Miami/18700-NE-3rd-C...       MARMLS   \n",
       "465  https://www.redfin.com/FL/Miami/16750-NE-14th-...  Beaches MLS   \n",
       "471  https://www.redfin.com/FL/Sunny-Isles-Beach/16...       MARMLS   \n",
       "461  https://www.redfin.com/FL/Miami/130-NE-202nd-T...       MARMLS   \n",
       "451  https://www.redfin.com/FL/Sunny-Isles-Beach/19...       MARMLS   \n",
       "456  https://www.redfin.com/FL/Sunny-Isles-Beach/19...       MARMLS   \n",
       "455  https://www.redfin.com/FL/Miami/486-NW-165th-S...       MARMLS   \n",
       "448  https://www.redfin.com/FL/Miami/1351-NE-Miami-...       MARMLS   \n",
       "474  https://www.redfin.com/FL/Miami/1680-NE-191st-...       MARMLS   \n",
       "473  https://www.redfin.com/FL/Miami/6511-NW-12th-A...       MARMLS   \n",
       "472  https://www.redfin.com/FL/Miami/486-NW-165th-S...       MARMLS   \n",
       "481  https://www.redfin.com/FL/Miami/484-NW-165th-S...       MARMLS   \n",
       "476  https://www.redfin.com/FL/Miami/441-NE-195th-S...       MARMLS   \n",
       "466  https://www.redfin.com/FL/Homestead/14840-Nara...       MARMLS   \n",
       "464  https://www.redfin.com/FL/North-Miami-Beach/20...       MARMLS   \n",
       "482  https://www.redfin.com/FL/North-Miami/13499-Bi...       MARMLS   \n",
       "450  https://www.redfin.com/FL/Miami/505-NW-177th-S...       MARMLS   \n",
       "\n",
       "          MLS#  FAVORITE INTERESTED   LATITUDE  LONGITUDE  \n",
       "483  A11213085         N          Y  25.850058 -80.158078  \n",
       "460  A11530726         N          Y  25.948300 -80.194539  \n",
       "477  F10400314         N          Y  25.918155 -80.188500  \n",
       "479  A11452788         N          Y  25.947261 -80.194442  \n",
       "465  F10418462         N          Y  25.929986 -80.172815  \n",
       "471  A11504575         N          Y  25.930189 -80.121367  \n",
       "461  A11524524         N          Y  25.959050 -80.199487  \n",
       "451  A11524978         N          Y  25.954318 -80.119900  \n",
       "456  A11530895         N          Y  25.954318 -80.119900  \n",
       "455  A11524223         N          Y  25.923777 -80.207624  \n",
       "448  A11514409         N          Y  25.945838 -80.174826  \n",
       "474  A11502959         N          Y  25.949477 -80.168976  \n",
       "473  A11494314         N          Y  25.834641 -80.216441  \n",
       "472  A11510524         N          Y  25.923777 -80.207624  \n",
       "481  A11451482         N          Y  25.923653 -80.206771  \n",
       "476  A11494599         N          Y  25.957012 -80.191073  \n",
       "466  A11516113         N          Y  25.509002 -80.432670  \n",
       "464  A11527401         N          Y  25.927607 -80.159386  \n",
       "482  A11386542         N          Y  25.899600 -80.159691  \n",
       "450  A11542275         N          Y  25.938136 -80.209610  \n",
       "\n",
       "[20 rows x 27 columns]"
      ]
     },
     "execution_count": 17,
     "metadata": {},
     "output_type": "execute_result"
    }
   ],
   "source": [
    "df_filtered.sort_values(by='PRICE',ascending=True).head(20)"
   ]
  },
  {
   "cell_type": "code",
   "execution_count": 19,
   "id": "e6256bce",
   "metadata": {},
   "outputs": [
    {
     "name": "stdout",
     "output_type": "stream",
     "text": [
      "https://www.redfin.com/FL/Miami/18900-NE-3rd-Ct-33179/unit-530/home/43010506\n"
     ]
    }
   ],
   "source": [
    "print(df_filtered['URL'].iloc[460])"
   ]
  },
  {
   "cell_type": "code",
   "execution_count": 20,
   "id": "fe440217",
   "metadata": {},
   "outputs": [],
   "source": [
    "# Correct the prices, if needed\n",
    "df_filtered.at[483,'PRICE']=(795_000)\n",
    "\n",
    "# Correct the psf, if needed\n",
    "df_filtered.at[483,'$/SQUARE FEET']=(795_000/1336)"
   ]
  },
  {
   "cell_type": "code",
   "execution_count": 21,
   "id": "e3877a57",
   "metadata": {},
   "outputs": [],
   "source": [
    "### If needed, drop the row with the lowest price\n",
    "# min_value_index = df_filtered['PRICE'].idxmin()\n",
    "# df_filtered = df_filtered.drop(min_value_index)"
   ]
  },
  {
   "cell_type": "code",
   "execution_count": 21,
   "id": "42d775ef",
   "metadata": {},
   "outputs": [
    {
     "data": {
      "text/html": [
       "<div>\n",
       "<style scoped>\n",
       "    .dataframe tbody tr th:only-of-type {\n",
       "        vertical-align: middle;\n",
       "    }\n",
       "\n",
       "    .dataframe tbody tr th {\n",
       "        vertical-align: top;\n",
       "    }\n",
       "\n",
       "    .dataframe thead th {\n",
       "        text-align: right;\n",
       "    }\n",
       "</style>\n",
       "<table border=\"1\" class=\"dataframe\">\n",
       "  <thead>\n",
       "    <tr style=\"text-align: right;\">\n",
       "      <th></th>\n",
       "      <th>PRICE</th>\n",
       "      <th>ADDRESS</th>\n",
       "      <th>CITY</th>\n",
       "      <th>$/SQUARE FEET</th>\n",
       "    </tr>\n",
       "  </thead>\n",
       "  <tbody>\n",
       "    <tr>\n",
       "      <th>471</th>\n",
       "      <td>98000.0</td>\n",
       "      <td>16699 Collins Ave #1401</td>\n",
       "      <td>Sunny Isles Beach</td>\n",
       "      <td>60.0</td>\n",
       "    </tr>\n",
       "    <tr>\n",
       "      <th>460</th>\n",
       "      <td>80000.0</td>\n",
       "      <td>18900 NE 3rd Ct #530</td>\n",
       "      <td>Miami</td>\n",
       "      <td>94.0</td>\n",
       "    </tr>\n",
       "    <tr>\n",
       "      <th>479</th>\n",
       "      <td>85000.0</td>\n",
       "      <td>18700 NE 3rd Ct #603</td>\n",
       "      <td>Miami</td>\n",
       "      <td>100.0</td>\n",
       "    </tr>\n",
       "    <tr>\n",
       "      <th>462</th>\n",
       "      <td>160000.0</td>\n",
       "      <td>1770 NE 191st St Unit 616-1</td>\n",
       "      <td>Miami</td>\n",
       "      <td>122.0</td>\n",
       "    </tr>\n",
       "    <tr>\n",
       "      <th>477</th>\n",
       "      <td>81000.0</td>\n",
       "      <td>15610 NE 6th Ave Unit 12B</td>\n",
       "      <td>Miami</td>\n",
       "      <td>131.0</td>\n",
       "    </tr>\n",
       "    <tr>\n",
       "      <th>465</th>\n",
       "      <td>90000.0</td>\n",
       "      <td>16750 NE 14th Ave Unit H308</td>\n",
       "      <td>North Miami Beach</td>\n",
       "      <td>131.0</td>\n",
       "    </tr>\n",
       "    <tr>\n",
       "      <th>472</th>\n",
       "      <td>145000.0</td>\n",
       "      <td>486 NW 165th St Rd Unit B-102</td>\n",
       "      <td>Miami</td>\n",
       "      <td>140.0</td>\n",
       "    </tr>\n",
       "    <tr>\n",
       "      <th>466</th>\n",
       "      <td>150000.0</td>\n",
       "      <td>14840 Naranja Lakes Blvd Unit C4D</td>\n",
       "      <td>Homestead</td>\n",
       "      <td>140.0</td>\n",
       "    </tr>\n",
       "    <tr>\n",
       "      <th>453</th>\n",
       "      <td>161500.0</td>\n",
       "      <td>10852 N Kendall Dr #305</td>\n",
       "      <td>Miami</td>\n",
       "      <td>142.0</td>\n",
       "    </tr>\n",
       "    <tr>\n",
       "      <th>474</th>\n",
       "      <td>135000.0</td>\n",
       "      <td>1680 NE 191st St Unit 218-2</td>\n",
       "      <td>Miami</td>\n",
       "      <td>149.0</td>\n",
       "    </tr>\n",
       "    <tr>\n",
       "      <th>564</th>\n",
       "      <td>227000.0</td>\n",
       "      <td>1690 NE 191st St Unit 308-1</td>\n",
       "      <td>Miami</td>\n",
       "      <td>158.0</td>\n",
       "    </tr>\n",
       "    <tr>\n",
       "      <th>476</th>\n",
       "      <td>149900.0</td>\n",
       "      <td>441 NE 195th St #404</td>\n",
       "      <td>North Miami Beach</td>\n",
       "      <td>161.0</td>\n",
       "    </tr>\n",
       "    <tr>\n",
       "      <th>455</th>\n",
       "      <td>133000.0</td>\n",
       "      <td>486 NW 165th St Rd Unit B-303</td>\n",
       "      <td>Miami</td>\n",
       "      <td>161.0</td>\n",
       "    </tr>\n",
       "    <tr>\n",
       "      <th>459</th>\n",
       "      <td>175000.0</td>\n",
       "      <td>11925 NE 2nd Ave Unit B101</td>\n",
       "      <td>North Miami</td>\n",
       "      <td>167.0</td>\n",
       "    </tr>\n",
       "    <tr>\n",
       "      <th>448</th>\n",
       "      <td>135000.0</td>\n",
       "      <td>1351 NE Miami Gardens Dr Unit 1121 E</td>\n",
       "      <td>Miami Gardens</td>\n",
       "      <td>169.0</td>\n",
       "    </tr>\n",
       "    <tr>\n",
       "      <th>492</th>\n",
       "      <td>230000.0</td>\n",
       "      <td>630 NW 214th St #105</td>\n",
       "      <td>Miami Gardens</td>\n",
       "      <td>171.0</td>\n",
       "    </tr>\n",
       "    <tr>\n",
       "      <th>617</th>\n",
       "      <td>210000.0</td>\n",
       "      <td>1543 SE 25th St #207</td>\n",
       "      <td>Homestead</td>\n",
       "      <td>178.0</td>\n",
       "    </tr>\n",
       "    <tr>\n",
       "      <th>481</th>\n",
       "      <td>148000.0</td>\n",
       "      <td>484 NW 165th Street Rd #314</td>\n",
       "      <td>Miami</td>\n",
       "      <td>179.0</td>\n",
       "    </tr>\n",
       "    <tr>\n",
       "      <th>598</th>\n",
       "      <td>220000.0</td>\n",
       "      <td>1300 NE Miami Gardens Dr Unit 821E</td>\n",
       "      <td>Miami</td>\n",
       "      <td>180.0</td>\n",
       "    </tr>\n",
       "    <tr>\n",
       "      <th>461</th>\n",
       "      <td>120000.0</td>\n",
       "      <td>130 NE 202nd Ter Unit S22</td>\n",
       "      <td>Miami Gardens</td>\n",
       "      <td>182.0</td>\n",
       "    </tr>\n",
       "  </tbody>\n",
       "</table>\n",
       "</div>"
      ],
      "text/plain": [
       "        PRICE                               ADDRESS               CITY  \\\n",
       "471   98000.0               16699 Collins Ave #1401  Sunny Isles Beach   \n",
       "460   80000.0                  18900 NE 3rd Ct #530              Miami   \n",
       "479   85000.0                  18700 NE 3rd Ct #603              Miami   \n",
       "462  160000.0           1770 NE 191st St Unit 616-1              Miami   \n",
       "477   81000.0             15610 NE 6th Ave Unit 12B              Miami   \n",
       "465   90000.0           16750 NE 14th Ave Unit H308  North Miami Beach   \n",
       "472  145000.0         486 NW 165th St Rd Unit B-102              Miami   \n",
       "466  150000.0     14840 Naranja Lakes Blvd Unit C4D          Homestead   \n",
       "453  161500.0               10852 N Kendall Dr #305              Miami   \n",
       "474  135000.0           1680 NE 191st St Unit 218-2              Miami   \n",
       "564  227000.0           1690 NE 191st St Unit 308-1              Miami   \n",
       "476  149900.0                  441 NE 195th St #404  North Miami Beach   \n",
       "455  133000.0         486 NW 165th St Rd Unit B-303              Miami   \n",
       "459  175000.0            11925 NE 2nd Ave Unit B101        North Miami   \n",
       "448  135000.0  1351 NE Miami Gardens Dr Unit 1121 E      Miami Gardens   \n",
       "492  230000.0                  630 NW 214th St #105      Miami Gardens   \n",
       "617  210000.0                  1543 SE 25th St #207          Homestead   \n",
       "481  148000.0           484 NW 165th Street Rd #314              Miami   \n",
       "598  220000.0    1300 NE Miami Gardens Dr Unit 821E              Miami   \n",
       "461  120000.0             130 NE 202nd Ter Unit S22      Miami Gardens   \n",
       "\n",
       "     $/SQUARE FEET  \n",
       "471           60.0  \n",
       "460           94.0  \n",
       "479          100.0  \n",
       "462          122.0  \n",
       "477          131.0  \n",
       "465          131.0  \n",
       "472          140.0  \n",
       "466          140.0  \n",
       "453          142.0  \n",
       "474          149.0  \n",
       "564          158.0  \n",
       "476          161.0  \n",
       "455          161.0  \n",
       "459          167.0  \n",
       "448          169.0  \n",
       "492          171.0  \n",
       "617          178.0  \n",
       "481          179.0  \n",
       "598          180.0  \n",
       "461          182.0  "
      ]
     },
     "execution_count": 21,
     "metadata": {},
     "output_type": "execute_result"
    }
   ],
   "source": [
    "# Find problem psf by searching for low values\n",
    "df_filtered.sort_values(by='$/SQUARE FEET',ascending=True).head(20)[['PRICE','ADDRESS','CITY','$/SQUARE FEET']]"
   ]
  },
  {
   "cell_type": "code",
   "execution_count": 23,
   "id": "6895cf71",
   "metadata": {},
   "outputs": [],
   "source": [
    "# # Drop sales that aren't condos but labeled as such\n",
    "# df_filtered = df_filtered.drop(1320)"
   ]
  },
  {
   "cell_type": "markdown",
   "id": "103ad9df",
   "metadata": {},
   "source": [
    "## Make Maps"
   ]
  },
  {
   "cell_type": "code",
   "execution_count": 22,
   "id": "42ad9d63",
   "metadata": {},
   "outputs": [],
   "source": [
    "### Create a price column formatted as currency ###\n",
    "df_filtered['PRICE_AS_CURRENCY'] = df_filtered['PRICE'].apply(lambda x: \"${:,.0f}\".format(x))\n",
    "### Set formatting for Beds, Baths ###\n",
    "df_filtered['YEAR BUILT DISPLAY'] = df_filtered['YEAR BUILT'].apply(lambda x: '{:.0f}'.format(x))\n",
    "df_filtered['PRICE_SQUARE_FEET_AS_CURRENCY'] = df_filtered['$/SQUARE FEET'].apply(lambda x: '${:,.0f}'.format(x))"
   ]
  },
  {
   "cell_type": "code",
   "execution_count": 23,
   "id": "f42ba6b5",
   "metadata": {},
   "outputs": [],
   "source": [
    "df_filtered = df_filtered.sort_values(by=['PRICE'], ascending=False)\n",
    "### Insert different colors for top 10 sales vs. the rest ###\n",
    "df_filtered['COLOR'] = ''\n",
    "### Create RANK column ###\n",
    "df_filtered['RANK'] = 0\n",
    "### Insert RANK values ###\n",
    "df_filtered['RANK'] = range(1, len(df_filtered) + 1)\n",
    "# use numpy to assign values to the 'COLOR' column\n",
    "df_filtered['COLOR'] = np.where(df_filtered['RANK'] <= 10, 'orange', 'blue')"
   ]
  },
  {
   "cell_type": "markdown",
   "id": "99380454",
   "metadata": {},
   "source": [
    "## HTML Popup Formatter"
   ]
  },
  {
   "cell_type": "code",
   "execution_count": 24,
   "id": "6ffa151c",
   "metadata": {},
   "outputs": [],
   "source": [
    "### Define list of columns to drop from DF ###\n",
    "columns_drop = ['SALE TYPE','PROPERTY TYPE','STATE OR PROVINCE','ZIP OR POSTAL CODE','HOA/MONTH','STATUS','NEXT OPEN HOUSE START TIME','NEXT OPEN HOUSE END TIME','SOURCE','MLS#','FAVORITE','INTERESTED','SQUARE FEET','LOT SIZE']"
   ]
  },
  {
   "cell_type": "code",
   "execution_count": 25,
   "id": "b214f9e8",
   "metadata": {},
   "outputs": [],
   "source": [
    "### Drop the columns ###\n",
    "df_filtered = df_filtered.drop(columns=columns_drop)"
   ]
  },
  {
   "cell_type": "code",
   "execution_count": 26,
   "id": "d12c2830",
   "metadata": {},
   "outputs": [],
   "source": [
    "def popup_html(row):\n",
    "    Price = row['PRICE_AS_CURRENCY']\n",
    "    Address = row['ADDRESS']\n",
    "    City = row['CITY']\n",
    "    sold_date = row['SOLD DATE']\n",
    "    beds = row['BEDS']\n",
    "    baths = row['BATHS']\n",
    "    psf = row['PRICE_SQUARE_FEET_AS_CURRENCY']\n",
    "    year_built = row['YEAR BUILT DISPLAY']\n",
    "    rank = row['RANK']\n",
    "    \n",
    "    html = '''<!DOCTYPE html>\n",
    "    <html>\n",
    "    <strong>Price: </strong>{}'''.format(Price) + '''<br>\n",
    "    <strong>Address: </strong>{}'''.format(Address) + '''<br>\n",
    "    <strong>City: </strong>{}'''.format(City) + '''<br>\n",
    "    <strong>Sold: </strong>{}'''.format(sold_date) + '''<br>\n",
    "    <strong>Beds: </strong>{}'''.format(beds) + '''<br>\n",
    "    <strong>Baths: </strong>{}'''.format(baths) + '''<br>\n",
    "    <strong>Price per sf: </strong>{}'''.format(psf) + '''<br>\n",
    "    <strong>Year Built: </strong>{}'''.format(year_built) + '''<br>\n",
    "    <strong>Price Rank: </strong>{}'''.format(rank) + '''\n",
    "    </html>\n",
    "    '''\n",
    "    return html"
   ]
  },
  {
   "cell_type": "code",
   "execution_count": 27,
   "id": "b7fe13d2",
   "metadata": {},
   "outputs": [
    {
     "data": {
      "text/plain": [
       "<folium.map.LayerControl at 0x7fca71dda1f0>"
      ]
     },
     "execution_count": 27,
     "metadata": {},
     "output_type": "execute_result"
    }
   ],
   "source": [
    "### Create map container ###\n",
    "m = folium.Map(location=df_filtered[[\"LATITUDE\", \"LONGITUDE\"]].mean().to_list(),zoom_start=10,tiles=None)\n",
    "\n",
    "### Create title ###\n",
    "title_html = '''\n",
    "              <h3 align=\"center\" style=\"font-size:16px\"><b>{}</b></h3>\n",
    "             '''.format(f\"{previous_month_name} 2024 Condo Sales\")\n",
    "\n",
    "m.get_root().html.add_child(folium.Element(title_html))\n",
    "\n",
    "# Create two FeatureGroups for different color pins\n",
    "fg_blue = folium.FeatureGroup(name='All other sales')\n",
    "fg_orange = folium.FeatureGroup(name='Top 10 Sales')\n",
    "\n",
    "folium.GeoJson(gdf,tooltip='Miami-Dade County',name='Miami-Dade County').add_to(m)\n",
    "\n",
    "for index, row in df_filtered.iterrows():\n",
    "    # Add the markers to the appropriate FeatureGroup based on the color\n",
    "    if row['COLOR'] == 'blue':\n",
    "        marker = folium.Marker(\n",
    "            location=[row['LATITUDE'], row['LONGITUDE']],\n",
    "            radius=5,\n",
    "            fill=True,\n",
    "            icon=folium.Icon(color=row['COLOR']),\n",
    "            popup=folium.Popup(popup_html(row), max_width=400))\n",
    "        marker.add_to(fg_blue)\n",
    "    else:\n",
    "        marker = folium.Marker(\n",
    "            location=[row['LATITUDE'], row['LONGITUDE']],\n",
    "            radius=5,\n",
    "            fill=True,\n",
    "            icon=folium.Icon(color=row['COLOR']),\n",
    "            popup=folium.Popup(popup_html(row), max_width=400))\n",
    "        marker.add_to(fg_orange)\n",
    "\n",
    "# Add the FeatureGroups to the map\n",
    "fg_orange.add_to(m)\n",
    "fg_blue.add_to(m)\n",
    "\n",
    "folium.TileLayer('OpenStreetMap',control=False).add_to(m)\n",
    "\n",
    "# Add LayerControl to the map\n",
    "folium.map.LayerControl(collapsed=False).add_to(m)\n",
    "\n",
    "# Display map\n",
    "# m"
   ]
  },
  {
   "cell_type": "code",
   "execution_count": 28,
   "id": "a704af7f",
   "metadata": {},
   "outputs": [],
   "source": [
    "m.save('index.html')"
   ]
  },
  {
   "cell_type": "markdown",
   "id": "81b7dc98",
   "metadata": {},
   "source": [
    "## Summary Info"
   ]
  },
  {
   "cell_type": "code",
   "execution_count": 29,
   "id": "6910bd5b",
   "metadata": {},
   "outputs": [],
   "source": [
    "BR = '\\n'\n",
    "\n",
    "ME = '\\033[1m' + 'Most Expensive' + '\\033[0m'\n",
    "LE = '\\033[1m' + 'Least Expensive' + '\\033[0m'\n",
    "\n",
    "MAX_PSF = '\\033[1m' + 'Highest Price Per Square Foot' + '\\033[0m'\n",
    "MIN_PSF = '\\033[1m' + 'Lowest Price Per Square Foot' + '\\033[0m'\n",
    "\n",
    "Newest = '\\033[1m' + 'Newest' + '\\033[0m'\n",
    "Oldest = '\\033[1m' + 'Oldest' + '\\033[0m'"
   ]
  },
  {
   "cell_type": "code",
   "execution_count": 30,
   "id": "9d2c1b97",
   "metadata": {},
   "outputs": [
    {
     "data": {
      "text/plain": [
       "Index(['SOLD DATE', 'ADDRESS', 'CITY', 'PRICE', 'BEDS', 'BATHS', 'LOCATION',\n",
       "       'YEAR BUILT', 'DAYS ON MARKET', '$/SQUARE FEET', 'URL', 'LATITUDE',\n",
       "       'LONGITUDE', 'PRICE_AS_CURRENCY', 'YEAR BUILT DISPLAY',\n",
       "       'PRICE_SQUARE_FEET_AS_CURRENCY', 'COLOR', 'RANK'],\n",
       "      dtype='object')"
      ]
     },
     "execution_count": 30,
     "metadata": {},
     "output_type": "execute_result"
    }
   ],
   "source": [
    "df_filtered.columns"
   ]
  },
  {
   "cell_type": "code",
   "execution_count": 31,
   "id": "81280824",
   "metadata": {},
   "outputs": [],
   "source": [
    "df_filtered['FULL_ADDRESS'] = df_filtered['ADDRESS'] + ' ' + df_filtered['CITY']"
   ]
  },
  {
   "cell_type": "code",
   "execution_count": 32,
   "id": "4677d727",
   "metadata": {},
   "outputs": [
    {
     "name": "stdout",
     "output_type": "stream",
     "text": [
      "https://www.redfin.com/FL/Miami-Beach/100-Collins-Ave-33139/unit-308/home/43249643\n"
     ]
    }
   ],
   "source": [
    "print(df_filtered.loc[df_filtered['YEAR BUILT'].idxmin()]['URL'])"
   ]
  },
  {
   "cell_type": "code",
   "execution_count": 33,
   "id": "39ff9917",
   "metadata": {},
   "outputs": [
    {
     "name": "stdout",
     "output_type": "stream",
     "text": [
      "\u001b[1mMost Expensive\u001b[0m\n",
      "SURF CLUB CONDO, 9111 Collins Ave Unit N-PH4 Surfside | Price $48,000,000 | $6,587 psf | Year built: 2017\n",
      "\u001b[1mLeast Expensive\u001b[0m\n",
      "STAR LAKES ESTATES NO 5 C, 18900 NE 3rd Ct #530 Miami | Price $80,000 | $94 psf | Year built: 1968\n",
      "\u001b[1mHighest Price Per Square Foot\u001b[0m\n",
      "SURF CLUB CONDO, 9111 Collins Ave Unit N-PH4 Surfside | Price $48,000,000 | $6,587 psf | Year built: 2017\n",
      "\u001b[1mLowest Price Per Square Foot\u001b[0m\n",
      "LA PERLA CONDO, 16699 Collins Ave #1401 Sunny Isles Beach | Price $98,000 | $60 psf | Year built: 2006\n",
      "\u001b[1mNewest\u001b[0m\n",
      "AURORA SUNNY ISLES, 17550 Collins Ave Ph 03 Sunny Isles Beach | Price $3,150,000 | $nan psf | Year built: 2024\n",
      "\u001b[1mOldest\u001b[0m\n",
      "THE MERCURY SOUTH BEACH, 100 Collins Ave #308 Miami Beach | Price $590,000 | $766 psf | Year built: 1921\n"
     ]
    }
   ],
   "source": [
    "print(f\"{ME}{BR}{df_filtered.loc[df_filtered['PRICE'].idxmax()]['LOCATION']}, {df_filtered.loc[df_filtered['PRICE'].idxmax()]['FULL_ADDRESS']} | Price ${df_filtered.loc[df_filtered['PRICE'].idxmax()]['PRICE']:,.0f} | ${df_filtered.loc[df_filtered['PRICE'].idxmax()]['$/SQUARE FEET']:,.0f} psf | Year built: {df_filtered.loc[df_filtered['PRICE'].idxmax()]['YEAR BUILT']:.0f}\")\n",
    "print(f\"{LE}{BR}{df_filtered.loc[df_filtered['PRICE'].idxmin()]['LOCATION']}, {df_filtered.loc[df_filtered['PRICE'].idxmin()]['FULL_ADDRESS']} | Price ${df_filtered.loc[df_filtered['PRICE'].idxmin()]['PRICE']:,.0f} | ${df_filtered.loc[df_filtered['PRICE'].idxmin()]['$/SQUARE FEET']:,.0f} psf | Year built: {df_filtered.loc[df_filtered['PRICE'].idxmin()]['YEAR BUILT']:.0f}\")\n",
    "\n",
    "print(f\"{MAX_PSF}{BR}{df_filtered.loc[df_filtered['$/SQUARE FEET'].idxmax()]['LOCATION']}, {df_filtered.loc[df_filtered['$/SQUARE FEET'].idxmax()]['FULL_ADDRESS']} | Price ${df_filtered.loc[df_filtered['$/SQUARE FEET'].idxmax()]['PRICE']:,.0f} | ${df_filtered.loc[df_filtered['$/SQUARE FEET'].idxmax()]['$/SQUARE FEET']:,.0f} psf | Year built: {df_filtered.loc[df_filtered['$/SQUARE FEET'].idxmax()]['YEAR BUILT']:.0f}\")\n",
    "print(f\"{MIN_PSF}{BR}{df_filtered.loc[df_filtered['$/SQUARE FEET'].idxmin()]['LOCATION']}, {df_filtered.loc[df_filtered['$/SQUARE FEET'].idxmin()]['FULL_ADDRESS']} | Price ${df_filtered.loc[df_filtered['$/SQUARE FEET'].idxmin()]['PRICE']:,.0f} | ${df_filtered.loc[df_filtered['$/SQUARE FEET'].idxmin()]['$/SQUARE FEET']:,.0f} psf | Year built: {df_filtered.loc[df_filtered['$/SQUARE FEET'].idxmin()]['YEAR BUILT']:.0f}\")\n",
    "\n",
    "print(f\"{Newest}{BR}{df_filtered.loc[df_filtered['YEAR BUILT'].idxmax()]['LOCATION']}, {df_filtered.loc[df_filtered['YEAR BUILT'].idxmax()]['FULL_ADDRESS']} | Price ${df_filtered.loc[df_filtered['YEAR BUILT'].idxmax()]['PRICE']:,.0f} | ${df_filtered.loc[df_filtered['YEAR BUILT'].idxmax()]['$/SQUARE FEET']:,.0f} psf | Year built: {df_filtered.loc[df_filtered['YEAR BUILT'].idxmax()]['YEAR BUILT']:.0f}\")\n",
    "print(f\"{Oldest}{BR}{df_filtered.loc[df_filtered['YEAR BUILT'].idxmin()]['LOCATION']}, {df_filtered.loc[df_filtered['YEAR BUILT'].idxmin()]['FULL_ADDRESS']} | Price ${df_filtered.loc[df_filtered['YEAR BUILT'].idxmin()]['PRICE']:,.0f} | ${df_filtered.loc[df_filtered['YEAR BUILT'].idxmin()]['$/SQUARE FEET']:,.0f} psf | Year built: {df_filtered.loc[df_filtered['YEAR BUILT'].idxmin()]['YEAR BUILT']:.0f}\")"
   ]
  },
  {
   "cell_type": "markdown",
   "id": "707dd49b",
   "metadata": {},
   "source": [
    "## Map URL Snagger"
   ]
  },
  {
   "cell_type": "code",
   "execution_count": 34,
   "id": "81e05274",
   "metadata": {},
   "outputs": [
    {
     "name": "stdout",
     "output_type": "stream",
     "text": [
      "https://trd-digital.github.io/trd-news-interactive-maps/MD_condo_sales_month_ending_mar_2024\n"
     ]
    }
   ],
   "source": [
    "base_name = 'https://trd-digital.github.io/trd-news-interactive-maps/'\n",
    "\n",
    "cwd = os.getcwd()\n",
    "\n",
    "cwd = cwd.split('/')\n",
    "\n",
    "final_name = base_name + cwd[-1]\n",
    "print(final_name)"
   ]
  },
  {
   "cell_type": "markdown",
   "id": "fe5031c3",
   "metadata": {},
   "source": [
    "## Get Summary Data"
   ]
  },
  {
   "cell_type": "code",
   "execution_count": 35,
   "id": "15cba208",
   "metadata": {},
   "outputs": [
    {
     "name": "stdout",
     "output_type": "stream",
     "text": [
      "SALES INFO\n",
      "Number of sales: 796\n",
      "--------\n",
      "Total sale price: $693,818,797\n",
      "--------\n",
      "Median sale price: $455,000\n",
      "--------\n",
      "Max sale price: $48,000,000\n",
      "--------\n",
      "Min sale price: $80,000\n",
      "------------------------------------------------\n",
      "PSF INFO\n",
      "Max price per square foot: $6,587\n",
      "--------\n",
      "Min price per square foot: $60\n",
      "--------\n",
      "Median price per square foot: $460\n",
      "------------------------------------------------\n",
      "CONDO AGES\n",
      "Newest building: 2024.0\n",
      "----------\n",
      "Oldest building: 1921.0\n",
      "----------\n",
      "Average building age: 1990.6243718592964\n"
     ]
    }
   ],
   "source": [
    "print('SALES INFO')\n",
    "print(f'Number of sales: {len(df_filtered)}')\n",
    "print('--------')\n",
    "print(f'Total sale price: ${df_filtered[\"PRICE\"].sum():,.0f}')\n",
    "print('--------')\n",
    "print(f'Median sale price: ${df_filtered[\"PRICE\"].median():,.0f}')\n",
    "print('--------')\n",
    "print(f'Max sale price: ${df_filtered[\"PRICE\"].max():,.0f}')\n",
    "print('--------')\n",
    "print(f'Min sale price: ${df_filtered[\"PRICE\"].min():,.0f}')\n",
    "print('------------------------------------------------')\n",
    "print('PSF INFO')\n",
    "print(f'Max price per square foot: ${df_filtered[\"$/SQUARE FEET\"].max():,.0f}')\n",
    "print('--------')\n",
    "print(f'Min price per square foot: ${df_filtered[\"$/SQUARE FEET\"].min():,.0f}')\n",
    "print('--------')\n",
    "print(f'Median price per square foot: ${df_filtered[\"$/SQUARE FEET\"].median():,.0f}')\n",
    "print('------------------------------------------------')\n",
    "print('CONDO AGES')\n",
    "print(f'Newest building: {df_filtered[\"YEAR BUILT\"].max()}')\n",
    "print('----------')\n",
    "print(f'Oldest building: {df_filtered[\"YEAR BUILT\"].min()}')\n",
    "print('----------')\n",
    "print(f'Average building age: {df_filtered[\"YEAR BUILT\"].mean()}')"
   ]
  },
  {
   "cell_type": "code",
   "execution_count": 36,
   "id": "a7db05bf",
   "metadata": {},
   "outputs": [],
   "source": [
    "most_expensive_muni_condo_name = df_filtered.loc[df_filtered['PRICE'].idxmax()]['LOCATION']\n",
    "most_expensive_muni_location = df_filtered.loc[df_filtered['PRICE'].idxmax()]['CITY']\n",
    "\n",
    "least_expensive_muni_condo_name = df_filtered.loc[df_filtered['PRICE'].idxmin()]['LOCATION']\n",
    "least_expensive_muni_location = df_filtered.loc[df_filtered['PRICE'].idxmin()]['CITY']"
   ]
  },
  {
   "cell_type": "markdown",
   "id": "3a2b0666",
   "metadata": {},
   "source": [
    "# GENERATE STORY TEMPLATE\n",
    "\n",
    "# STOP! DID YOU UPDATE VALUES FROM THE PREVIOUS MONTH?"
   ]
  },
  {
   "cell_type": "code",
   "execution_count": 37,
   "id": "b79b8847",
   "metadata": {},
   "outputs": [],
   "source": [
    "## Calculate the increase/descrease between both months\n",
    "subject_month_sales_volume = df_filtered[\"PRICE\"].sum()\n",
    "prior_month_sales_volume = int(sales_volume_2nd_month)  # Example value, replace with actual value\n",
    "\n",
    "subject_month_closings = len(df_filtered)\n",
    "prior_month_closings = int(total_condos_sold_2nd_month)\n",
    "\n",
    "# Subtract the smaller value from the larger one\n",
    "if subject_month_sales_volume > prior_month_sales_volume:\n",
    "    hed_rf = 'jumps'\n",
    "    nut_graf = 'rising'\n",
    "    social = 'higher'\n",
    "    seo = 'increases'\n",
    "elif prior_month_sales_volume > subject_month_sales_volume:\n",
    "    hed_rf = 'drops'\n",
    "    nut_graf = 'falling'\n",
    "    social = 'lower'\n",
    "    seo = 'decreases'\n",
    "else:\n",
    "    hed_rf = 'equals'\n",
    "    nut_graf = 'equaling'\n",
    "    social = 'equal'\n",
    "    seo = \"doesn't change\"\n",
    "      \n",
    "if subject_month_closings > prior_month_closings:\n",
    "    dek_rf = 'rose'\n",
    "    graf = 'up'\n",
    "elif prior_month_closings > subject_month_closings:\n",
    "    dek_rf ='falls'\n",
    "    graf = 'down'\n",
    "else:\n",
    "    dek_rf = 'equals'\n",
    "    graf = 'flat'"
   ]
  },
  {
   "cell_type": "code",
   "execution_count": 38,
   "id": "09ea10bd",
   "metadata": {},
   "outputs": [
    {
     "data": {
      "text/plain": [
       "796"
      ]
     },
     "execution_count": 38,
     "metadata": {},
     "output_type": "execute_result"
    }
   ],
   "source": [
    "subject_month_closings"
   ]
  },
  {
   "cell_type": "code",
   "execution_count": 39,
   "id": "21a74c22",
   "metadata": {},
   "outputs": [
    {
     "data": {
      "text/plain": [
       "558715499"
      ]
     },
     "execution_count": 39,
     "metadata": {},
     "output_type": "execute_result"
    }
   ],
   "source": [
    "prior_month_sales_volume"
   ]
  },
  {
   "cell_type": "code",
   "execution_count": 40,
   "id": "984264b3",
   "metadata": {},
   "outputs": [
    {
     "data": {
      "text/plain": [
       "704"
      ]
     },
     "execution_count": 40,
     "metadata": {},
     "output_type": "execute_result"
    }
   ],
   "source": [
    "prior_month_closings"
   ]
  },
  {
   "cell_type": "code",
   "execution_count": 41,
   "id": "246d9fac",
   "metadata": {},
   "outputs": [],
   "source": [
    "story_string = f'''\n",
    "\\033[1mHED:\\033[0m Miami-Dade County condo sales dollar volume {hed_rf} in {previous_month_name} to ${round(df_filtered[\"PRICE\"].sum()/1_000_000)}M \n",
    "\\033[1mDEK:\\033[0m Number of closings {dek_rf} to {len(df_filtered)} from {total_condos_sold_2nd_month} in {month_before_last_name}\n",
    "\\033[1mFEATURED HED:\\033[0m\n",
    "\\033[1mSEO HED:\\033[0m Miami-Dade County {previous_month_name} Condo Sales Report \n",
    "\\033[1mSEO DESCRIPTION:\\033[0m Miami-Dade County’s condo sales volume {hed_rf} to ${round(df_filtered[\"PRICE\"].sum()/1_000_000)} million in {previous_month_name}.\n",
    "\\033[1mAUTHOR:\\033[0m Adam Farence\n",
    "\\033[1mRESEARCH:\\033[0m \n",
    "\\033[1mSocial:\\033[0m Miami-Dade County had ${round(df_filtered[\"PRICE\"].sum()/1_000_000):,.0f} million in condo sales in {previous_month_name}, {social} than ${round(int(sales_volume_2nd_month)/1_000_000)} million from {month_before_last_name}, @afarence reports \n",
    "\\033[1mART:\\033[0m \n",
    "\n",
    "CHANGE ME\n",
    "\n",
    "*Please provide credits for any images that you share\n",
    "\\033[1mSTORY TYPE:\\033[0m Report\n",
    "\\033[1mSECTOR\\033[0m (formerly CATEGORY): Residential Real Estate\n",
    "\\033[1mTAGS:\\033[0m condo sales, Miami-Dade County, monthly condo sales, condos, condo market, {most_expensive_muni_condo_name.title()}, {most_expensive_muni_location}\n",
    "\n",
    "\\033[1mNeighborhood:\\033[0m \n",
    "\\033[1mProperty:\\033[0m\n",
    "\\033[1mProperty Type:\\033[0m\n",
    "\\033[1mCompanies:\\033[0m \n",
    "\\033[1mPeople:\\033[0m\n",
    "\\033[1mIssues:\\033[0m\n",
    "\\033[1mRegion:\\033[0m\n",
    "\n",
    "\n",
    "Miami-Dade County’s NEWS PEG HERE.\n",
    "\n",
    "{previous_month_name} condo sales totaled ${round(df_filtered[\"PRICE\"].sum()/1_000_000)} million, {nut_graf} from ${int(sales_volume_2nd_month)/1_000_000:.0f} million in {month_before_last_name}. Brokers closed {len(df_filtered)} sales last month, {graf} from {total_condos_sold_2nd_month} sales in {month_before_last_name} and XXX in XXX, Multiple Listing Service data from Redfin show.\n",
    "\n",
    "{previous_month_name} sale prices ranged from ${df_filtered[\"PRICE\"].min():,.0f} to ${df_filtered[\"PRICE\"].max()/1_000_000:,.0f} million, with a median sale price of ${df_filtered[\"PRICE\"].median():,.0f}. The price per square foot ranged from ${df_filtered[\"$/SQUARE FEET\"].min():,.0f} to ${df_filtered[\"$/SQUARE FEET\"].max():,.0f}, with a median of ${df_filtered[\"$/SQUARE FEET\"].median():,.0f} per square foot.\n",
    "\n",
    "In {month_before_last_name}, sales closed with a median price of ${int(median_sales_price_2nd_month):,.0f}, and ${median_psf_2nd_month} per square foot.\n",
    "\n",
    "A ${df_filtered[\"PRICE\"].max()/1_000_000:,.0f} million closing at {most_expensive_muni_condo_name.title()} took the title of priciest sale last month. {df_filtered.loc[df_filtered['PRICE'].idxmax()]['FULL_ADDRESS']} sold for ${df_filtered.loc[df_filtered['PRICE'].idxmax()]['$/SQUARE FEET']:,.0f} per square foot after XX days on the market. XXX with XXX had the listing, and XXX with XXX represented the buyer.\n",
    "\n",
    "The sale price was \\033[1mmore/less\\033[0m than {month_before_last_name}'s priciest sale. WHEN XXXX \n",
    "\n",
    "In contrast, {previous_month_name}'s cheapest sale was an {least_expensive_muni_condo_name} in {least_expensive_muni_location}, at {df_filtered.loc[df_filtered['PRICE'].idxmin()]['FULL_ADDRESS']}. Unit XXX traded for ${df_filtered['PRICE'].min():,.0f} — or ${df_filtered.loc[df_filtered['$/SQUARE FEET'].idxmin()]['$/SQUARE FEET']:,.0f} per square foot — after XXX days on the market. XXX with XXX handled both sides of the deal.\n",
    "\n",
    "<figure>\n",
    " <div class=\"container\">\n",
    "   <div class=\"iframe-wrap\">\n",
    "   <iframe src=\"{final_name}\" width=\"100%\" height=\"800\" frameBorder=\"0\" scrolling=\"no\"></iframe>\n",
    "  </div>\n",
    "</div>\n",
    "  <figcaption align=\"right\"><a href=\"https://leafletjs.com/\">Leaflet</a> map created by Adam Farence | Data by © <a href=\"https://www.openstreetmap.org/#map=4/38.01/-95.84\"> OpenStreetMap</a>, under <a href=\"https://www.openstreetmap.org/copyright\">ODbl.</a></figcaption>\n",
    "</figure>\n",
    "\n",
    "Here’s a breakdown of {previous_month_name}’s notable condo sales:\n",
    "'''"
   ]
  },
  {
   "cell_type": "code",
   "execution_count": 46,
   "id": "533d7654",
   "metadata": {},
   "outputs": [
    {
     "name": "stdout",
     "output_type": "stream",
     "text": [
      "https://www.redfin.com/FL/Surfside/9111-Collins-Ave-33154/unit-N-PH4/home/190088407\n"
     ]
    }
   ],
   "source": [
    "# print(df_filtered['URL'].iloc[0])"
   ]
  },
  {
   "cell_type": "code",
   "execution_count": 42,
   "id": "f51fcff5",
   "metadata": {},
   "outputs": [
    {
     "name": "stdout",
     "output_type": "stream",
     "text": [
      "\n",
      "\u001b[1mHED:\u001b[0m Miami-Dade County condo sales dollar volume jumps in March to $694M \n",
      "\u001b[1mDEK:\u001b[0m Number of closings rose to 796 from 704 in February\n",
      "\u001b[1mFEATURED HED:\u001b[0m\n",
      "\u001b[1mSEO HED:\u001b[0m Miami-Dade County March Condo Sales Report \n",
      "\u001b[1mSEO DESCRIPTION:\u001b[0m Miami-Dade County’s condo sales volume jumps to $694 million in March.\n",
      "\u001b[1mAUTHOR:\u001b[0m Adam Farence\n",
      "\u001b[1mRESEARCH:\u001b[0m \n",
      "\u001b[1mSocial:\u001b[0m Miami-Dade County had $694 million in condo sales in March, higher than $559 million from February, @afarence reports \n",
      "\u001b[1mART:\u001b[0m \n",
      "\n",
      "CHANGE ME\n",
      "\n",
      "*Please provide credits for any images that you share\n",
      "\u001b[1mSTORY TYPE:\u001b[0m Report\n",
      "\u001b[1mSECTOR\u001b[0m (formerly CATEGORY): Residential Real Estate\n",
      "\u001b[1mTAGS:\u001b[0m condo sales, Miami-Dade County, monthly condo sales, condos, condo market, Surf Club Condo, Surfside\n",
      "\n",
      "\u001b[1mNeighborhood:\u001b[0m \n",
      "\u001b[1mProperty:\u001b[0m\n",
      "\u001b[1mProperty Type:\u001b[0m\n",
      "\u001b[1mCompanies:\u001b[0m \n",
      "\u001b[1mPeople:\u001b[0m\n",
      "\u001b[1mIssues:\u001b[0m\n",
      "\u001b[1mRegion:\u001b[0m\n",
      "\n",
      "\n",
      "Miami-Dade County’s NEWS PEG HERE.\n",
      "\n",
      "March condo sales totaled $694 million, rising from $559 million in February. Brokers closed 796 sales last month, up from 704 sales in February and XXX in XXX, Multiple Listing Service data from Redfin show.\n",
      "\n",
      "March sale prices ranged from $80,000 to $48 million, with a median sale price of $455,000. The price per square foot ranged from $60 to $6,587, with a median of $460 per square foot.\n",
      "\n",
      "In February, sales closed with a median price of $402,500, and $424 per square foot.\n",
      "\n",
      "A $48 million closing at Surf Club Condo took the title of priciest sale last month. 9111 Collins Ave Unit N-PH4 Surfside sold for $6,587 per square foot after XX days on the market. XXX with XXX had the listing, and XXX with XXX represented the buyer.\n",
      "\n",
      "The sale price was \u001b[1mmore/less\u001b[0m than February's priciest sale. WHEN XXXX \n",
      "\n",
      "In contrast, March's cheapest sale was an STAR LAKES ESTATES NO 5 C in Miami, at 18900 NE 3rd Ct #530 Miami. Unit XXX traded for $80,000 — or $60 per square foot — after XXX days on the market. XXX with XXX handled both sides of the deal.\n",
      "\n",
      "<figure>\n",
      " <div class=\"container\">\n",
      "   <div class=\"iframe-wrap\">\n",
      "   <iframe src=\"https://trd-digital.github.io/trd-news-interactive-maps/MD_condo_sales_month_ending_mar_2024\" width=\"100%\" height=\"800\" frameBorder=\"0\" scrolling=\"no\"></iframe>\n",
      "  </div>\n",
      "</div>\n",
      "  <figcaption align=\"right\"><a href=\"https://leafletjs.com/\">Leaflet</a> map created by Adam Farence | Data by © <a href=\"https://www.openstreetmap.org/#map=4/38.01/-95.84\"> OpenStreetMap</a>, under <a href=\"https://www.openstreetmap.org/copyright\">ODbl.</a></figcaption>\n",
      "</figure>\n",
      "\n",
      "Here’s a breakdown of March’s notable condo sales:\n",
      "\n",
      "\u001b[1mMost Expensive\u001b[0m\n",
      "SURF CLUB CONDO, 9111 Collins Ave Unit N-PH4 Surfside | Price $48,000,000 | $6,587 psf | Year built: 2017\n",
      "\u001b[1mLeast Expensive\u001b[0m\n",
      "STAR LAKES ESTATES NO 5 C, 18900 NE 3rd Ct #530 Miami | Price $80,000 | $94 psf | Year built: 1968\n",
      "\u001b[1mHighest Price Per Square Foot\u001b[0m\n",
      "SURF CLUB CONDO, 9111 Collins Ave Unit N-PH4 Surfside | Price $48,000,000 | $6,587 psf | Year built: 2017\n",
      "\u001b[1mLowest Price Per Square Foot\u001b[0m\n",
      "LA PERLA CONDO, 16699 Collins Ave #1401 Sunny Isles Beach | Price $98,000 | $60 psf | Year built: 2006\n",
      "\u001b[1mNewest\u001b[0m\n",
      "AURORA SUNNY ISLES, 17550 Collins Ave Ph 03 Sunny Isles Beach | Price $3,150,000 | $nan psf | Year built: 2024\n",
      "\u001b[1mOldest\u001b[0m\n",
      "THE MERCURY SOUTH BEACH, 100 Collins Ave #308 Miami Beach | Price $590,000 | $766 psf | Year built: 1921\n"
     ]
    }
   ],
   "source": [
    "print(story_string)\n",
    "\n",
    "print(f\"{ME}{BR}{df_filtered.loc[df_filtered['PRICE'].idxmax()]['LOCATION']}, {df_filtered.loc[df_filtered['PRICE'].idxmax()]['FULL_ADDRESS']} | Price ${df_filtered.loc[df_filtered['PRICE'].idxmax()]['PRICE']:,.0f} | ${df_filtered.loc[df_filtered['PRICE'].idxmax()]['$/SQUARE FEET']:,.0f} psf | Year built: {df_filtered.loc[df_filtered['PRICE'].idxmax()]['YEAR BUILT']:.0f}\")\n",
    "print(f\"{LE}{BR}{df_filtered.loc[df_filtered['PRICE'].idxmin()]['LOCATION']}, {df_filtered.loc[df_filtered['PRICE'].idxmin()]['FULL_ADDRESS']} | Price ${df_filtered.loc[df_filtered['PRICE'].idxmin()]['PRICE']:,.0f} | ${df_filtered.loc[df_filtered['PRICE'].idxmin()]['$/SQUARE FEET']:,.0f} psf | Year built: {df_filtered.loc[df_filtered['PRICE'].idxmin()]['YEAR BUILT']:.0f}\")\n",
    "\n",
    "print(f\"{MAX_PSF}{BR}{df_filtered.loc[df_filtered['$/SQUARE FEET'].idxmax()]['LOCATION']}, {df_filtered.loc[df_filtered['$/SQUARE FEET'].idxmax()]['FULL_ADDRESS']} | Price ${df_filtered.loc[df_filtered['$/SQUARE FEET'].idxmax()]['PRICE']:,.0f} | ${df_filtered.loc[df_filtered['$/SQUARE FEET'].idxmax()]['$/SQUARE FEET']:,.0f} psf | Year built: {df_filtered.loc[df_filtered['$/SQUARE FEET'].idxmax()]['YEAR BUILT']:.0f}\")\n",
    "print(f\"{MIN_PSF}{BR}{df_filtered.loc[df_filtered['$/SQUARE FEET'].idxmin()]['LOCATION']}, {df_filtered.loc[df_filtered['$/SQUARE FEET'].idxmin()]['FULL_ADDRESS']} | Price ${df_filtered.loc[df_filtered['$/SQUARE FEET'].idxmin()]['PRICE']:,.0f} | ${df_filtered.loc[df_filtered['$/SQUARE FEET'].idxmin()]['$/SQUARE FEET']:,.0f} psf | Year built: {df_filtered.loc[df_filtered['$/SQUARE FEET'].idxmin()]['YEAR BUILT']:.0f}\")\n",
    "\n",
    "print(f\"{Newest}{BR}{df_filtered.loc[df_filtered['YEAR BUILT'].idxmax()]['LOCATION']}, {df_filtered.loc[df_filtered['YEAR BUILT'].idxmax()]['FULL_ADDRESS']} | Price ${df_filtered.loc[df_filtered['YEAR BUILT'].idxmax()]['PRICE']:,.0f} | ${df_filtered.loc[df_filtered['YEAR BUILT'].idxmax()]['$/SQUARE FEET']:,.0f} psf | Year built: {df_filtered.loc[df_filtered['YEAR BUILT'].idxmax()]['YEAR BUILT']:.0f}\")\n",
    "print(f\"{Oldest}{BR}{df_filtered.loc[df_filtered['YEAR BUILT'].idxmin()]['LOCATION']}, {df_filtered.loc[df_filtered['YEAR BUILT'].idxmin()]['FULL_ADDRESS']} | Price ${df_filtered.loc[df_filtered['YEAR BUILT'].idxmin()]['PRICE']:,.0f} | ${df_filtered.loc[df_filtered['YEAR BUILT'].idxmin()]['$/SQUARE FEET']:,.0f} psf | Year built: {df_filtered.loc[df_filtered['YEAR BUILT'].idxmin()]['YEAR BUILT']:.0f}\")"
   ]
  },
  {
   "cell_type": "markdown",
   "id": "1237f8b2",
   "metadata": {},
   "source": [
    "# Print links for notable sales\n",
    "\n",
    "## Top sale"
   ]
  },
  {
   "cell_type": "code",
   "execution_count": 49,
   "id": "4c776293",
   "metadata": {},
   "outputs": [
    {
     "name": "stdout",
     "output_type": "stream",
     "text": [
      "https://www.redfin.com/FL/Surfside/9111-Collins-Ave-33154/unit-N-PH4/home/190088407\n"
     ]
    }
   ],
   "source": [
    "print(df_filtered.loc[df_filtered['PRICE'].idxmax()]['URL'])"
   ]
  },
  {
   "cell_type": "markdown",
   "id": "b1f63a6a",
   "metadata": {},
   "source": [
    "## Cheapest sale"
   ]
  },
  {
   "cell_type": "code",
   "execution_count": 56,
   "id": "967008ef",
   "metadata": {},
   "outputs": [
    {
     "name": "stdout",
     "output_type": "stream",
     "text": [
      "https://www.redfin.com/FL/Miami/18900-NE-3rd-Ct-33179/unit-530/home/43010506\n"
     ]
    }
   ],
   "source": [
    "print(df_filtered.loc[df_filtered['PRICE'].idxmin()]['URL'])"
   ]
  },
  {
   "cell_type": "markdown",
   "id": "0f56cc2b",
   "metadata": {},
   "source": [
    "## Highest PSF"
   ]
  },
  {
   "cell_type": "code",
   "execution_count": 51,
   "id": "001083a2",
   "metadata": {},
   "outputs": [
    {
     "name": "stdout",
     "output_type": "stream",
     "text": [
      "https://www.redfin.com/FL/Surfside/9111-Collins-Ave-33154/unit-N-PH4/home/190088407\n"
     ]
    }
   ],
   "source": [
    "print(df_filtered.loc[df_filtered['$/SQUARE FEET'].idxmax()]['URL'])"
   ]
  },
  {
   "cell_type": "markdown",
   "id": "e606b84a",
   "metadata": {},
   "source": [
    "## Lowest PSF"
   ]
  },
  {
   "cell_type": "code",
   "execution_count": 59,
   "id": "91b9b079",
   "metadata": {},
   "outputs": [
    {
     "name": "stdout",
     "output_type": "stream",
     "text": [
      "https://www.redfin.com/FL/Sunny-Isles-Beach/16699-Collins-Ave-33160/unit-1401/home/43379555\n"
     ]
    }
   ],
   "source": [
    "print(df_filtered.loc[df_filtered['$/SQUARE FEET'].idxmin()]['URL'])"
   ]
  },
  {
   "cell_type": "markdown",
   "id": "d6e5493b",
   "metadata": {},
   "source": [
    "## Newest"
   ]
  },
  {
   "cell_type": "code",
   "execution_count": 62,
   "id": "c2cc4988",
   "metadata": {},
   "outputs": [
    {
     "name": "stdout",
     "output_type": "stream",
     "text": [
      "https://www.redfin.com/FL/Sunny-Isles-Beach/17550-Collins-Ave-33160/unit-3/home/174971082\n"
     ]
    }
   ],
   "source": [
    "print(df_filtered.loc[df_filtered['YEAR BUILT'].idxmax()]['URL'])"
   ]
  },
  {
   "cell_type": "markdown",
   "id": "1d1ba957",
   "metadata": {},
   "source": [
    "## Oldest"
   ]
  },
  {
   "cell_type": "code",
   "execution_count": 61,
   "id": "51fa78ff",
   "metadata": {},
   "outputs": [
    {
     "name": "stdout",
     "output_type": "stream",
     "text": [
      "https://www.redfin.com/FL/Miami-Beach/100-Collins-Ave-33139/unit-308/home/43249643\n"
     ]
    }
   ],
   "source": [
    "print(df_filtered.loc[df_filtered['YEAR BUILT'].idxmin()]['URL'])"
   ]
  },
  {
   "cell_type": "markdown",
   "id": "6b274da8",
   "metadata": {},
   "source": [
    "## Time on Market Calculator"
   ]
  },
  {
   "cell_type": "code",
   "execution_count": 58,
   "id": "0d14e001",
   "metadata": {},
   "outputs": [
    {
     "name": "stdout",
     "output_type": "stream",
     "text": [
      "38\n"
     ]
    }
   ],
   "source": [
    "from datetime import datetime, timedelta\n",
    "\n",
    "################ YEAR, MONTH, DAY #######################\n",
    "\n",
    "date1 = datetime(2024, 2, 12) ## List (Earlier) date\n",
    "date2 = datetime(2024, 3, 21) ## Close (Later) date\n",
    "\n",
    "delta = date2 - date1\n",
    "num_days = delta.days\n",
    "\n",
    "print(num_days)"
   ]
  }
 ],
 "metadata": {
  "kernelspec": {
   "display_name": "Python 3 (ipykernel)",
   "language": "python",
   "name": "python3"
  },
  "language_info": {
   "codemirror_mode": {
    "name": "ipython",
    "version": 3
   },
   "file_extension": ".py",
   "mimetype": "text/x-python",
   "name": "python",
   "nbconvert_exporter": "python",
   "pygments_lexer": "ipython3",
   "version": "3.9.12"
  }
 },
 "nbformat": 4,
 "nbformat_minor": 5
}
