{
 "cells": [
  {
   "cell_type": "code",
   "execution_count": 63,
   "metadata": {},
   "outputs": [],
   "source": [
    "import googlemaps\n",
    "import pandas as pd\n",
    "import numpy as np\n",
    "import re\n",
    "import os\n",
    "import geopandas as gpd\n",
    "import folium\n",
    "from textwrap import shorten\n",
    "import requests\n",
    "\n",
    "from bs4 import BeautifulSoup"
   ]
  },
  {
   "cell_type": "code",
   "execution_count": 64,
   "metadata": {},
   "outputs": [],
   "source": [
    "%store -r google_maps_API_Key\n",
    "gmaps_key = googlemaps.Client(key=google_maps_API_Key)"
   ]
  },
  {
   "cell_type": "code",
   "execution_count": 65,
   "metadata": {},
   "outputs": [],
   "source": [
    "df = pd.read_csv('Condo_buyout_map_template_popup_pin - Sheet1.csv',dtype='str')"
   ]
  },
  {
   "cell_type": "code",
   "execution_count": 66,
   "metadata": {},
   "outputs": [],
   "source": [
    "df = df.fillna('Not Available')"
   ]
  },
  {
   "cell_type": "code",
   "execution_count": 67,
   "metadata": {},
   "outputs": [],
   "source": [
    "def geocode(add):\n",
    "    g = gmaps_key.geocode(add)\n",
    "    lat = g[0][\"geometry\"][\"location\"][\"lat\"]\n",
    "    lng = g[0][\"geometry\"][\"location\"][\"lng\"]\n",
    "    return (lat, lng)\n",
    "\n",
    "df['geocoded'] = df['full_address'].apply(geocode)"
   ]
  },
  {
   "cell_type": "code",
   "execution_count": 68,
   "metadata": {},
   "outputs": [],
   "source": [
    "df['geocoded'] = df['geocoded'].astype(str)\n",
    "df[['lat', 'lon']] = df['geocoded'].str.strip('()').str.split(', ', expand=True)\n",
    "df['lat'] = df['lat'].astype(float)\n",
    "df['lon'] = df['lon'].astype(float)"
   ]
  },
  {
   "cell_type": "markdown",
   "metadata": {},
   "source": [
    "## Image URL Collector"
   ]
  },
  {
   "cell_type": "code",
   "execution_count": 69,
   "metadata": {},
   "outputs": [],
   "source": [
    "df['image_links'] = ''\n",
    "links = []\n",
    "for url in df['story_link']:\n",
    "    try:\n",
    "        page = requests.get(url)\n",
    "        soup = BeautifulSoup(page.content, 'html.parser')\n",
    "        images = soup.find('img',{'class':'MainArtImage_image__2YtGm'})\n",
    "        images = images['src']\n",
    "        links.append(images)\n",
    "    except:\n",
    "        links.append('no_image')\n",
    "\n",
    "df['image_links'] = links"
   ]
  },
  {
   "cell_type": "code",
   "execution_count": 70,
   "metadata": {},
   "outputs": [],
   "source": [
    "# print(df['image_links'].iloc[0])"
   ]
  },
  {
   "cell_type": "code",
   "execution_count": 71,
   "metadata": {},
   "outputs": [
    {
     "data": {
      "text/plain": [
       "'https://static.therealdeal.com/wp-content/uploads/2023/07/Mast-Capital-Sued-Over-Miami-Beach-Condo-Buyout_Main-1400x875.jpg'"
      ]
     },
     "execution_count": 71,
     "metadata": {},
     "output_type": "execute_result"
    }
   ],
   "source": [
    "# df.at[20,'image_img']=('<img src=\"Aimco.jpg\" width=\"256\" height=\"156\">')\n",
    "df['image_links'].iloc[1]"
   ]
  },
  {
   "cell_type": "code",
   "execution_count": 72,
   "metadata": {},
   "outputs": [],
   "source": [
    "# df.at[4,'image_links']=('https://therealdeal.com/wp-content/uploads/2019/10/trd-logo-16x9.jpg')"
   ]
  },
  {
   "cell_type": "code",
   "execution_count": 73,
   "metadata": {},
   "outputs": [
    {
     "data": {
      "text/plain": [
       "0    <a href=\"https://therealdeal.com/miami/2023/05...\n",
       "1    <a href=\"https://therealdeal.com/miami/2023/07...\n",
       "2    <a href=\"https://therealdeal.com/miami/2023/03...\n",
       "3    <a href=\"https://therealdeal.com/miami/2023/06...\n",
       "4    <a href=\"https://therealdeal.com/miami/2023/05...\n",
       "5    <a href=\"https://therealdeal.com/miami/2023/06...\n",
       "6    <a href=\"https://therealdeal.com/miami/2022/10...\n",
       "Name: description_link, dtype: object"
      ]
     },
     "execution_count": 73,
     "metadata": {},
     "output_type": "execute_result"
    }
   ],
   "source": [
    "df[\"short_description\"] = df[\"description\"].apply(lambda s: shorten(s, width=20, placeholder=\"\"))\n",
    "df['remaining_desc'] = df.apply(lambda row : row['description'].replace(str(row['short_description']), ''), axis=1)\n",
    "df['remaining_desc']\n",
    "\n",
    "df[\"description_link\"] = '<a href=\"' + df[\"story_link\"] + '\" target=\"_blank\" rel=\"noopener noreferrer\">' + df[\"short_description\"] + \"</a>\" + df[\"remaining_desc\"]\n",
    "df['description_link']"
   ]
  },
  {
   "cell_type": "code",
   "execution_count": 83,
   "metadata": {},
   "outputs": [],
   "source": [
    "def popup_html(row):\n",
    "    i = row\n",
    "    address = df['full_address'].iloc[i]\n",
    "    name = df['name'].iloc[i]\n",
    "    buyers = df['buyers'].iloc[i]\n",
    "    price = df['price'].iloc[i]\n",
    "    status = df['status'].iloc[i]\n",
    "    legal_c = df['currently facing legal challenge?'].iloc[i]\n",
    "    image = df['image_links'].iloc[i]\n",
    "    description = df['description_link'].iloc[i]\n",
    "    \n",
    "    html = '''<!DOCTYPE html>\n",
    "    <html>\n",
    "    <img src={} width=\"256\" height=\"156\">'''.format(image) + '''<br>______________________________________<br>\n",
    "    <strong>Address: </strong>{}'''.format(address) + '''<br>\n",
    "    <strong>Name: </strong>{}'''.format(name) + '''<br>\n",
    "    <strong>Buyers: </strong>{}'''.format(buyers) + '''<br>\n",
    "    <strong>Price: </strong>{}'''.format(price) + '''<br>\n",
    "    <strong>Status: </strong>{}'''.format(status) + '''<br>\n",
    "    <strong>Currently Legally Challenged: </strong>{}'''.format(legal_c) + '''<br>\n",
    "    {}'''.format(description) + '''<br>\n",
    "    </html>\n",
    "    '''\n",
    "    return html"
   ]
  },
  {
   "cell_type": "code",
   "execution_count": 84,
   "metadata": {
    "scrolled": false
   },
   "outputs": [
    {
     "data": {
      "text/html": [
       "<div style=\"width:100%;\"><div style=\"position:relative;width:100%;height:0;padding-bottom:60%;\"><span style=\"color:#565656\">Make this Notebook Trusted to load map: File -> Trust Notebook</span><iframe srcdoc=\"&lt;!DOCTYPE html&gt;\n",
       "&lt;head&gt;    \n",
       "    &lt;meta http-equiv=&quot;content-type&quot; content=&quot;text/html; charset=UTF-8&quot; /&gt;\n",
       "    \n",
       "        &lt;script&gt;\n",
       "            L_NO_TOUCH = false;\n",
       "            L_DISABLE_3D = false;\n",
       "        &lt;/script&gt;\n",
       "    \n",
       "    &lt;style&gt;html, body {width: 100%;height: 100%;margin: 0;padding: 0;}&lt;/style&gt;\n",
       "    &lt;style&gt;#map {position:absolute;top:0;bottom:0;right:0;left:0;}&lt;/style&gt;\n",
       "    &lt;script src=&quot;https://cdn.jsdelivr.net/npm/leaflet@1.6.0/dist/leaflet.js&quot;&gt;&lt;/script&gt;\n",
       "    &lt;script src=&quot;https://code.jquery.com/jquery-1.12.4.min.js&quot;&gt;&lt;/script&gt;\n",
       "    &lt;script src=&quot;https://maxcdn.bootstrapcdn.com/bootstrap/3.2.0/js/bootstrap.min.js&quot;&gt;&lt;/script&gt;\n",
       "    &lt;script src=&quot;https://cdnjs.cloudflare.com/ajax/libs/Leaflet.awesome-markers/2.0.2/leaflet.awesome-markers.js&quot;&gt;&lt;/script&gt;\n",
       "    &lt;link rel=&quot;stylesheet&quot; href=&quot;https://cdn.jsdelivr.net/npm/leaflet@1.6.0/dist/leaflet.css&quot;/&gt;\n",
       "    &lt;link rel=&quot;stylesheet&quot; href=&quot;https://maxcdn.bootstrapcdn.com/bootstrap/3.2.0/css/bootstrap.min.css&quot;/&gt;\n",
       "    &lt;link rel=&quot;stylesheet&quot; href=&quot;https://maxcdn.bootstrapcdn.com/bootstrap/3.2.0/css/bootstrap-theme.min.css&quot;/&gt;\n",
       "    &lt;link rel=&quot;stylesheet&quot; href=&quot;https://maxcdn.bootstrapcdn.com/font-awesome/4.6.3/css/font-awesome.min.css&quot;/&gt;\n",
       "    &lt;link rel=&quot;stylesheet&quot; href=&quot;https://cdnjs.cloudflare.com/ajax/libs/Leaflet.awesome-markers/2.0.2/leaflet.awesome-markers.css&quot;/&gt;\n",
       "    &lt;link rel=&quot;stylesheet&quot; href=&quot;https://cdn.jsdelivr.net/gh/python-visualization/folium/folium/templates/leaflet.awesome.rotate.min.css&quot;/&gt;\n",
       "    \n",
       "            &lt;meta name=&quot;viewport&quot; content=&quot;width=device-width,\n",
       "                initial-scale=1.0, maximum-scale=1.0, user-scalable=no&quot; /&gt;\n",
       "            &lt;style&gt;\n",
       "                #map_3e160a21281560276c1562f840b84fb2 {\n",
       "                    position: relative;\n",
       "                    width: 100.0%;\n",
       "                    height: 100.0%;\n",
       "                    left: 0.0%;\n",
       "                    top: 0.0%;\n",
       "                }\n",
       "            &lt;/style&gt;\n",
       "        \n",
       "&lt;/head&gt;\n",
       "&lt;body&gt;    \n",
       "    \n",
       "              &lt;h3 align=&quot;center&quot; style=&quot;font-size:16px&quot;&gt;&lt;b&gt;Condo Buyouts&lt;/b&gt;&lt;/h3&gt;\n",
       "             \n",
       "    \n",
       "            &lt;div class=&quot;folium-map&quot; id=&quot;map_3e160a21281560276c1562f840b84fb2&quot; &gt;&lt;/div&gt;\n",
       "        \n",
       "&lt;/body&gt;\n",
       "&lt;script&gt;    \n",
       "    \n",
       "            var map_3e160a21281560276c1562f840b84fb2 = L.map(\n",
       "                &quot;map_3e160a21281560276c1562f840b84fb2&quot;,\n",
       "                {\n",
       "                    center: [25.942281714285713, -80.12363224285714],\n",
       "                    crs: L.CRS.EPSG3857,\n",
       "                    zoom: 8,\n",
       "                    zoomControl: true,\n",
       "                    preferCanvas: false,\n",
       "                }\n",
       "            );\n",
       "\n",
       "            \n",
       "\n",
       "        \n",
       "    \n",
       "            var tile_layer_37971aaa996bad6863b9d388ad5bb205 = L.tileLayer(\n",
       "                &quot;https://{s}.tile.openstreetmap.org/{z}/{x}/{y}.png&quot;,\n",
       "                {&quot;attribution&quot;: &quot;Data by \\u0026copy; \\u003ca href=\\&quot;http://openstreetmap.org\\&quot;\\u003eOpenStreetMap\\u003c/a\\u003e, under \\u003ca href=\\&quot;http://www.openstreetmap.org/copyright\\&quot;\\u003eODbL\\u003c/a\\u003e.&quot;, &quot;detectRetina&quot;: false, &quot;maxNativeZoom&quot;: 18, &quot;maxZoom&quot;: 18, &quot;minZoom&quot;: 0, &quot;noWrap&quot;: false, &quot;opacity&quot;: 1, &quot;subdomains&quot;: &quot;abc&quot;, &quot;tms&quot;: false}\n",
       "            ).addTo(map_3e160a21281560276c1562f840b84fb2);\n",
       "        \n",
       "    \n",
       "            var marker_b7898a923cfed6afd4fad6eff3e7cc50 = L.marker(\n",
       "                [25.7975549, -80.18641679999999],\n",
       "                {}\n",
       "            ).addTo(map_3e160a21281560276c1562f840b84fb2);\n",
       "        \n",
       "    \n",
       "        var popup_5b3171c2c010c121d788ec435341f77e = L.popup({&quot;maxWidth&quot;: &quot;100%&quot;});\n",
       "\n",
       "        \n",
       "            \n",
       "                var html_c6153c5873a71609051bfeedf8da5ead = $(`&lt;div id=&quot;html_c6153c5873a71609051bfeedf8da5ead&quot; style=&quot;width: 100.0%; height: 100.0%;&quot;&gt;&lt;!DOCTYPE html&gt;     &lt;html&gt;     &lt;img src=https://static.therealdeal.com/wp-content/uploads/2023/05/main_MIA_Biscayne21-1400x875.jpg width=&quot;256&quot; height=&quot;156&quot;&gt;&lt;br&gt;______________________________________&lt;br&gt;     &lt;strong&gt;Address: &lt;/strong&gt;2121 North Bayshore Drive in Miami&lt;br&gt;     &lt;strong&gt;Name: &lt;/strong&gt;Biscayne 21&lt;br&gt;     &lt;strong&gt;Buyers: &lt;/strong&gt;Two Roads Development&lt;br&gt;     &lt;strong&gt;Price: &lt;/strong&gt;$150M &lt;br&gt;     &lt;strong&gt;Status: &lt;/strong&gt;Completed&lt;br&gt;     &lt;strong&gt;Currently Legally Challenged: &lt;/strong&gt;Yes&lt;br&gt;     &lt;a href=&quot;https://therealdeal.com/miami/2023/05/24/edgewater-condo-owners-sue-developer-two-roads-over-termination/&quot; target=&quot;_blank&quot; rel=&quot;noopener noreferrer&quot;&gt;Two Roads paid $150&lt;/a&gt; million for the majority of Biscayne 21, a 13-story, 192-unit condo building, last year. A group of remaining owners are fighting the developer’s termination of the condominium in court.  &lt;br&gt;     &lt;/html&gt;     &lt;/div&gt;`)[0];\n",
       "                popup_5b3171c2c010c121d788ec435341f77e.setContent(html_c6153c5873a71609051bfeedf8da5ead);\n",
       "            \n",
       "        \n",
       "\n",
       "        marker_b7898a923cfed6afd4fad6eff3e7cc50.bindPopup(popup_5b3171c2c010c121d788ec435341f77e)\n",
       "        ;\n",
       "\n",
       "        \n",
       "    \n",
       "    \n",
       "            var marker_906b237c07968e26ec7587d873f03498 = L.marker(\n",
       "                [25.831677, -80.120971],\n",
       "                {}\n",
       "            ).addTo(map_3e160a21281560276c1562f840b84fb2);\n",
       "        \n",
       "    \n",
       "        var popup_ddd1d7c43a81743f78bf6e9863435503 = L.popup({&quot;maxWidth&quot;: &quot;100%&quot;});\n",
       "\n",
       "        \n",
       "            \n",
       "                var html_0acffc55679fa9a8fb093350862a0a66 = $(`&lt;div id=&quot;html_0acffc55679fa9a8fb093350862a0a66&quot; style=&quot;width: 100.0%; height: 100.0%;&quot;&gt;&lt;!DOCTYPE html&gt;     &lt;html&gt;     &lt;img src=https://static.therealdeal.com/wp-content/uploads/2023/07/Mast-Capital-Sued-Over-Miami-Beach-Condo-Buyout_Main-1400x875.jpg width=&quot;256&quot; height=&quot;156&quot;&gt;&lt;br&gt;______________________________________&lt;br&gt;     &lt;strong&gt;Address: &lt;/strong&gt;5313 Collins Avenue&lt;br&gt;     &lt;strong&gt;Name: &lt;/strong&gt;Amethyst&lt;br&gt;     &lt;strong&gt;Buyers: &lt;/strong&gt;Mast Capital; Terra &lt;br&gt;     &lt;strong&gt;Price: &lt;/strong&gt;Not Available&lt;br&gt;     &lt;strong&gt;Status: &lt;/strong&gt;In Contract; Offers made&lt;br&gt;     &lt;strong&gt;Currently Legally Challenged: &lt;/strong&gt;Yes&lt;br&gt;     &lt;a href=&quot;https://therealdeal.com/miami/2023/07/14/mast-capital-sued-over-troubled-oceanfront-condo-buyout-in-miami-beach/&quot; target=&quot;_blank&quot; rel=&quot;noopener noreferrer&quot;&gt;Mast Capital has&lt;/a&gt; been pursuing a buyout of Amethyst, an 11-story, 120-unit condominium in Miami Beach, for more than 2.5 years. Terra recently made offers to owners in the building ranging from $550,000 to $850,000 per unit. &lt;br&gt;     &lt;/html&gt;     &lt;/div&gt;`)[0];\n",
       "                popup_ddd1d7c43a81743f78bf6e9863435503.setContent(html_0acffc55679fa9a8fb093350862a0a66);\n",
       "            \n",
       "        \n",
       "\n",
       "        marker_906b237c07968e26ec7587d873f03498.bindPopup(popup_ddd1d7c43a81743f78bf6e9863435503)\n",
       "        ;\n",
       "\n",
       "        \n",
       "    \n",
       "    \n",
       "            var marker_3ec399a2757fcac9b5c732c7d519559a = L.marker(\n",
       "                [25.8343741, -80.1202116],\n",
       "                {}\n",
       "            ).addTo(map_3e160a21281560276c1562f840b84fb2);\n",
       "        \n",
       "    \n",
       "        var popup_3c874cc4ca891ae42b64e605a1d9d159 = L.popup({&quot;maxWidth&quot;: &quot;100%&quot;});\n",
       "\n",
       "        \n",
       "            \n",
       "                var html_f51f25410fa1ab79401cffcf607686bf = $(`&lt;div id=&quot;html_f51f25410fa1ab79401cffcf607686bf&quot; style=&quot;width: 100.0%; height: 100.0%;&quot;&gt;&lt;!DOCTYPE html&gt;     &lt;html&gt;     &lt;img src=https://static.therealdeal.com/wp-content/uploads/2023/03/main_MIA_Terra-Castle-Beach-1400x875.jpg width=&quot;256&quot; height=&quot;156&quot;&gt;&lt;br&gt;______________________________________&lt;br&gt;     &lt;strong&gt;Address: &lt;/strong&gt;5445 Collins Avenue in Miami Beach&lt;br&gt;     &lt;strong&gt;Name: &lt;/strong&gt;Castle Beach Club&lt;br&gt;     &lt;strong&gt;Buyers: &lt;/strong&gt;Terra &lt;br&gt;     &lt;strong&gt;Price: &lt;/strong&gt;$500M&lt;br&gt;     &lt;strong&gt;Status: &lt;/strong&gt;Offers made&lt;br&gt;     &lt;strong&gt;Currently Legally Challenged: &lt;/strong&gt;No&lt;br&gt;     &lt;a href=&quot;https://therealdeal.com/miami/2023/03/20/terra-offers-500m-for-aging-oceanfront-miami-beach-condo-building/&quot; target=&quot;_blank&quot; rel=&quot;noopener noreferrer&quot;&gt;David Martin’s Terra&lt;/a&gt; offered owners at the Castle Beach Club condominium building in Miami Beach $500 million for the 18-story, roughly 570-unit condominium in March. Related Group and 13th Floor Investments withdrew their bid for the same amount last year.   &lt;br&gt;     &lt;/html&gt;     &lt;/div&gt;`)[0];\n",
       "                popup_3c874cc4ca891ae42b64e605a1d9d159.setContent(html_f51f25410fa1ab79401cffcf607686bf);\n",
       "            \n",
       "        \n",
       "\n",
       "        marker_3ec399a2757fcac9b5c732c7d519559a.bindPopup(popup_3c874cc4ca891ae42b64e605a1d9d159)\n",
       "        ;\n",
       "\n",
       "        \n",
       "    \n",
       "    \n",
       "            var marker_10d22699e079e2415eeffdc2c0439672 = L.marker(\n",
       "                [25.8452431, -80.1198764],\n",
       "                {}\n",
       "            ).addTo(map_3e160a21281560276c1562f840b84fb2);\n",
       "        \n",
       "    \n",
       "        var popup_9c11a08ff9714a784637ee82cd287c27 = L.popup({&quot;maxWidth&quot;: &quot;100%&quot;});\n",
       "\n",
       "        \n",
       "            \n",
       "                var html_be07569b61442c46a30f28aa2c081878 = $(`&lt;div id=&quot;html_be07569b61442c46a30f28aa2c081878&quot; style=&quot;width: 100.0%; height: 100.0%;&quot;&gt;&lt;!DOCTYPE html&gt;     &lt;html&gt;     &lt;img src=https://static.therealdeal.com/wp-content/uploads/2023/06/Meruelo-Cancels-200M-Purchase-of-Casablanca-Miami-Beach_Main-1400x875.jpg width=&quot;256&quot; height=&quot;156&quot;&gt;&lt;br&gt;______________________________________&lt;br&gt;     &lt;strong&gt;Address: &lt;/strong&gt;6345 Collins Avenue in Miami Beach&lt;br&gt;     &lt;strong&gt;Name: &lt;/strong&gt;Casablaca &lt;br&gt;     &lt;strong&gt;Buyers: &lt;/strong&gt;Richard Meruelo&lt;br&gt;     &lt;strong&gt;Price: &lt;/strong&gt;$200M &lt;br&gt;     &lt;strong&gt;Status: &lt;/strong&gt;Canceled&lt;br&gt;     &lt;strong&gt;Currently Legally Challenged: &lt;/strong&gt;No&lt;br&gt;     &lt;a href=&quot;https://therealdeal.com/miami/2023/06/29/meruelo-backs-out-of-200m-bid-for-casablanca-miami-beach/&quot; target=&quot;_blank&quot; rel=&quot;noopener noreferrer&quot;&gt;In June, Richard&lt;/a&gt; Meruelo backed out of a $200 million buyout offer for the historic oceanfront Casablanca resort in Miami Beach after securing buy-in from more than 95 percent of unit owners. The 10-story condo-hotel has about 350 residential and commercial units.&lt;br&gt;     &lt;/html&gt;     &lt;/div&gt;`)[0];\n",
       "                popup_9c11a08ff9714a784637ee82cd287c27.setContent(html_be07569b61442c46a30f28aa2c081878);\n",
       "            \n",
       "        \n",
       "\n",
       "        marker_10d22699e079e2415eeffdc2c0439672.bindPopup(popup_9c11a08ff9714a784637ee82cd287c27)\n",
       "        ;\n",
       "\n",
       "        \n",
       "    \n",
       "    \n",
       "            var marker_69139f0ea8e8dd12df9ae02932606d08 = L.marker(\n",
       "                [25.8545286, -80.1575787],\n",
       "                {}\n",
       "            ).addTo(map_3e160a21281560276c1562f840b84fb2);\n",
       "        \n",
       "    \n",
       "        var popup_89a2e5c26d7f404287b5e3501f0a2a2a = L.popup({&quot;maxWidth&quot;: &quot;100%&quot;});\n",
       "\n",
       "        \n",
       "            \n",
       "                var html_b71ae5bd09e6ac06a541e3c039d82813 = $(`&lt;div id=&quot;html_b71ae5bd09e6ac06a541e3c039d82813&quot; style=&quot;width: 100.0%; height: 100.0%;&quot;&gt;&lt;!DOCTYPE html&gt;     &lt;html&gt;     &lt;img src=https://static.therealdeal.com/wp-content/uploads/2023/05/MIA-Macklowe-assembling-waterfront-land-in-North-Bay-Village-MAIN-r1-1400x875.jpg width=&quot;256&quot; height=&quot;156&quot;&gt;&lt;br&gt;______________________________________&lt;br&gt;     &lt;strong&gt;Address: &lt;/strong&gt;8000, 8010 and 8020 East Drive in North Bay Village&lt;br&gt;     &lt;strong&gt;Name: &lt;/strong&gt;Biscayne Sea Club &lt;br&gt;     &lt;strong&gt;Buyers: &lt;/strong&gt;Macklowe Properties&lt;br&gt;     &lt;strong&gt;Price: &lt;/strong&gt;$48M &lt;br&gt;     &lt;strong&gt;Status: &lt;/strong&gt;In litigation&lt;br&gt;     &lt;strong&gt;Currently Legally Challenged: &lt;/strong&gt;Yes&lt;br&gt;     &lt;a href=&quot;https://therealdeal.com/miami/2023/05/19/macklowe-assembling-waterfront-development-site-in-north-bay-village/&quot; target=&quot;_blank&quot; rel=&quot;noopener noreferrer&quot;&gt;New York developer&lt;/a&gt; Harry Macklowe has been assembling a large waterfront development site in North Bay Village. That includes the expected $47.7 million acquisition of the 3-acre Biscayne Sea Club co-op at 8000, 8010 and 8020 East Drive. Court filings show the sale was supposed to close June 1, but no closings have been recorded. Macklowe did not respond to requests for comment.&lt;br&gt;     &lt;/html&gt;     &lt;/div&gt;`)[0];\n",
       "                popup_89a2e5c26d7f404287b5e3501f0a2a2a.setContent(html_b71ae5bd09e6ac06a541e3c039d82813);\n",
       "            \n",
       "        \n",
       "\n",
       "        marker_69139f0ea8e8dd12df9ae02932606d08.bindPopup(popup_89a2e5c26d7f404287b5e3501f0a2a2a)\n",
       "        ;\n",
       "\n",
       "        \n",
       "    \n",
       "    \n",
       "            var marker_716b1abc2c6becb6f8a48111e6d7b4c3 = L.marker(\n",
       "                [25.8098006, -80.1230121],\n",
       "                {}\n",
       "            ).addTo(map_3e160a21281560276c1562f840b84fb2);\n",
       "        \n",
       "    \n",
       "        var popup_58be0780f8548c9caa864ef85eee5d3e = L.popup({&quot;maxWidth&quot;: &quot;100%&quot;});\n",
       "\n",
       "        \n",
       "            \n",
       "                var html_8e605a0869b5f05ce257173ab74bce57 = $(`&lt;div id=&quot;html_8e605a0869b5f05ce257173ab74bce57&quot; style=&quot;width: 100.0%; height: 100.0%;&quot;&gt;&lt;!DOCTYPE html&gt;     &lt;html&gt;     &lt;img src=https://static.therealdeal.com/wp-content/uploads/2023/06/main_MIA_13thFloorMiamiBeach-1400x875.jpg width=&quot;256&quot; height=&quot;156&quot;&gt;&lt;br&gt;______________________________________&lt;br&gt;     &lt;strong&gt;Address: &lt;/strong&gt;3611 Collins Avenue in Miami Beach&lt;br&gt;     &lt;strong&gt;Name: &lt;/strong&gt;Westgate South Beach Oceanfront Resort&lt;br&gt;     &lt;strong&gt;Buyers: &lt;/strong&gt;13th Floor Investments, Opera Acquisitions&lt;br&gt;     &lt;strong&gt;Price: &lt;/strong&gt;$73M&lt;br&gt;     &lt;strong&gt;Status: &lt;/strong&gt;Closed&lt;br&gt;     &lt;strong&gt;Currently Legally Challenged: &lt;/strong&gt;No&lt;br&gt;     &lt;a href=&quot;https://therealdeal.com/miami/2023/06/27/13th-floor-opera-pay-73m-for-oceanfront-miami-beach-timeshare-resort/&quot; target=&quot;_blank&quot; rel=&quot;noopener noreferrer&quot;&gt;13th Floor&lt;/a&gt; Investments joined with Opera Acquisitions to buy a Miami Beach timeshare resort for $73 million. The sale of the 46-unit building closed in June, a year after  and Opera bought out all the owners of the 109-unit adjacent property for about $30 million.  &lt;br&gt;     &lt;/html&gt;     &lt;/div&gt;`)[0];\n",
       "                popup_58be0780f8548c9caa864ef85eee5d3e.setContent(html_8e605a0869b5f05ce257173ab74bce57);\n",
       "            \n",
       "        \n",
       "\n",
       "        marker_716b1abc2c6becb6f8a48111e6d7b4c3.bindPopup(popup_58be0780f8548c9caa864ef85eee5d3e)\n",
       "        ;\n",
       "\n",
       "        \n",
       "    \n",
       "    \n",
       "            var marker_807aedb721ddd36bc9a23e9b340eb2a1 = L.marker(\n",
       "                [26.6227937, -80.0373591],\n",
       "                {}\n",
       "            ).addTo(map_3e160a21281560276c1562f840b84fb2);\n",
       "        \n",
       "    \n",
       "        var popup_40b67da97af5c30c439916ac640d2faa = L.popup({&quot;maxWidth&quot;: &quot;100%&quot;});\n",
       "\n",
       "        \n",
       "            \n",
       "                var html_2e0e18ed397560a8b54f0a257afdbd14 = $(`&lt;div id=&quot;html_2e0e18ed397560a8b54f0a257afdbd14&quot; style=&quot;width: 100.0%; height: 100.0%;&quot;&gt;&lt;!DOCTYPE html&gt;     &lt;html&gt;     &lt;img src=https://static.therealdeal.com/wp-content/uploads/2022/10/main-MIA-Doronin-buys-aging-waterfront-Palm-Beach-co-ops-for-147M.jpg width=&quot;256&quot; height=&quot;156&quot;&gt;&lt;br&gt;______________________________________&lt;br&gt;     &lt;strong&gt;Address: &lt;/strong&gt;2730 South Ocean Boulevard and 2720 South Ocean Boulevard in Palm Beach&lt;br&gt;     &lt;strong&gt;Name: &lt;/strong&gt;The Ambassador Palm Beach Hotel &amp; Residences and Edgewater House&lt;br&gt;     &lt;strong&gt;Buyers: &lt;/strong&gt;OKO Group and Cain International&lt;br&gt;     &lt;strong&gt;Price: &lt;/strong&gt;$147M&lt;br&gt;     &lt;strong&gt;Status: &lt;/strong&gt;Closed &lt;br&gt;     &lt;strong&gt;Currently Legally Challenged: &lt;/strong&gt;No&lt;br&gt;     &lt;a href=&quot;https://therealdeal.com/miami/2022/10/21/doronin-partner-buy-aging-waterfront-palm-beach-co-ops-for-147m/&quot; target=&quot;_blank&quot; rel=&quot;noopener noreferrer&quot;&gt;In October, Vlad&lt;/a&gt; Doronin’s OKO Group and partner Cain International paid nearly $147 million for two co-ops in Palm Beach: The Ambassador Palm Beach Hotel &amp; Residences at 2730 South Ocean Boulevard, as well as the Edgewater House at 2720 South Ocean Boulevard for $48.6 million. &lt;br&gt;     &lt;/html&gt;     &lt;/div&gt;`)[0];\n",
       "                popup_40b67da97af5c30c439916ac640d2faa.setContent(html_2e0e18ed397560a8b54f0a257afdbd14);\n",
       "            \n",
       "        \n",
       "\n",
       "        marker_807aedb721ddd36bc9a23e9b340eb2a1.bindPopup(popup_40b67da97af5c30c439916ac640d2faa)\n",
       "        ;\n",
       "\n",
       "        \n",
       "    \n",
       "    \n",
       "            map_3e160a21281560276c1562f840b84fb2.fitBounds(\n",
       "                [25.942281714285713, -80.12363224285714],\n",
       "                {&quot;maxZoom&quot;: 15}\n",
       "            );\n",
       "        \n",
       "&lt;/script&gt;\" style=\"position:absolute;width:100%;height:100%;left:0;top:0;border:none !important;\" allowfullscreen webkitallowfullscreen mozallowfullscreen></iframe></div></div>"
      ],
      "text/plain": [
       "<folium.folium.Map at 0x7f85515e7d00>"
      ]
     },
     "execution_count": 84,
     "metadata": {},
     "output_type": "execute_result"
    }
   ],
   "source": [
    "import branca\n",
    "\n",
    "m = folium.Map(location=df[[\"lat\", \"lon\"]].mean().to_list(),zoom_start=8)\n",
    "\n",
    "title_html = '''\n",
    "              <h3 align=\"center\" style=\"font-size:16px\"><b>{}</b></h3>\n",
    "             '''.format(f'Condo Buyouts')\n",
    "\n",
    "for i in range(0,len(df)):\n",
    "    html = popup_html(i)\n",
    "    iframe = branca.element.IFrame(html=html)\n",
    "    popup = folium.Popup(folium.Html(html, script=True))\n",
    "    folium.Marker([df['lat'].iloc[i],df['lon'].iloc[i]],\n",
    "                 popup=popup).add_to(m)\n",
    "\n",
    "m.get_root().html.add_child(folium.Element(title_html))\n",
    "m.fit_bounds(bounds=df[['lat','lon']].mean().to_list(),max_zoom=15)\n",
    "# m.add_to(f)\n",
    "m"
   ]
  },
  {
   "cell_type": "code",
   "execution_count": 85,
   "metadata": {},
   "outputs": [],
   "source": [
    "m.save('index.html')"
   ]
  },
  {
   "cell_type": "markdown",
   "metadata": {},
   "source": [
    "## Map URL Snagger"
   ]
  },
  {
   "cell_type": "code",
   "execution_count": 82,
   "metadata": {},
   "outputs": [
    {
     "name": "stdout",
     "output_type": "stream",
     "text": [
      "https://trd-digital.github.io/trd-news-interactive-maps/SoFla_condo_buyouts\n"
     ]
    }
   ],
   "source": [
    "base_name = 'https://trd-digital.github.io/trd-news-interactive-maps/'\n",
    "\n",
    "cwd = os.getcwd()\n",
    "\n",
    "cwd = cwd.split('/')\n",
    "\n",
    "final_name = base_name + cwd[-1]\n",
    "print(final_name)"
   ]
  }
 ],
 "metadata": {
  "kernelspec": {
   "display_name": "Python 3 (ipykernel)",
   "language": "python",
   "name": "python3"
  },
  "language_info": {
   "codemirror_mode": {
    "name": "ipython",
    "version": 3
   },
   "file_extension": ".py",
   "mimetype": "text/x-python",
   "name": "python",
   "nbconvert_exporter": "python",
   "pygments_lexer": "ipython3",
   "version": "3.9.12"
  },
  "toc": {
   "base_numbering": 1,
   "nav_menu": {},
   "number_sections": true,
   "sideBar": true,
   "skip_h1_title": false,
   "title_cell": "Table of Contents",
   "title_sidebar": "Contents",
   "toc_cell": false,
   "toc_position": {},
   "toc_section_display": true,
   "toc_window_display": false
  }
 },
 "nbformat": 4,
 "nbformat_minor": 4
}
