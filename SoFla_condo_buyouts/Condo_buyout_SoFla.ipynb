{
 "cells": [
  {
   "cell_type": "code",
   "execution_count": 2,
   "metadata": {},
   "outputs": [],
   "source": [
    "import googlemaps\n",
    "import pandas as pd\n",
    "import numpy as np\n",
    "import re\n",
    "import os\n",
    "import geopandas as gpd\n",
    "import folium\n",
    "from textwrap import shorten\n",
    "import requests\n",
    "\n",
    "from bs4 import BeautifulSoup"
   ]
  },
  {
   "cell_type": "code",
   "execution_count": 3,
   "metadata": {},
   "outputs": [],
   "source": [
    "%store -r google_maps_API_Key\n",
    "gmaps_key = googlemaps.Client(key=google_maps_API_Key)"
   ]
  },
  {
   "cell_type": "code",
   "execution_count": 4,
   "metadata": {},
   "outputs": [],
   "source": [
    "df = pd.read_csv('Condo_buyout_map_template_popup_pin - Sheet1.csv',dtype='str')"
   ]
  },
  {
   "cell_type": "code",
   "execution_count": 5,
   "metadata": {},
   "outputs": [],
   "source": [
    "df = df.fillna('Not Available')"
   ]
  },
  {
   "cell_type": "code",
   "execution_count": 6,
   "metadata": {},
   "outputs": [],
   "source": [
    "def geocode(add):\n",
    "    g = gmaps_key.geocode(add)\n",
    "    lat = g[0][\"geometry\"][\"location\"][\"lat\"]\n",
    "    lng = g[0][\"geometry\"][\"location\"][\"lng\"]\n",
    "    return (lat, lng)\n",
    "\n",
    "df['geocoded'] = df['full_address'].apply(geocode)"
   ]
  },
  {
   "cell_type": "code",
   "execution_count": 7,
   "metadata": {},
   "outputs": [],
   "source": [
    "df['geocoded'] = df['geocoded'].astype(str)\n",
    "df[['lat', 'lon']] = df['geocoded'].str.strip('()').str.split(', ', expand=True)\n",
    "df['lat'] = df['lat'].astype(float)\n",
    "df['lon'] = df['lon'].astype(float)"
   ]
  },
  {
   "cell_type": "markdown",
   "metadata": {},
   "source": [
    "## Image URL Collector"
   ]
  },
  {
   "cell_type": "code",
   "execution_count": 8,
   "metadata": {},
   "outputs": [],
   "source": [
    "df['image_links'] = ''\n",
    "links = []\n",
    "for url in df['story_link']:\n",
    "    try:\n",
    "        page = requests.get(url)\n",
    "        soup = BeautifulSoup(page.content, 'html.parser')\n",
    "        images = soup.find('img',{'class':'MainArtImage_image__2YtGm'})\n",
    "        images = images['src']\n",
    "        links.append(images)\n",
    "    except:\n",
    "        links.append('no_image')\n",
    "\n",
    "df['image_links'] = links"
   ]
  },
  {
   "cell_type": "code",
   "execution_count": 9,
   "metadata": {},
   "outputs": [],
   "source": [
    "# print(df['image_links'].iloc[0])"
   ]
  },
  {
   "cell_type": "code",
   "execution_count": 10,
   "metadata": {},
   "outputs": [
    {
     "data": {
      "text/plain": [
       "'https://static.therealdeal.com/wp-content/uploads/2023/07/Mast-Capital-Sued-Over-Miami-Beach-Condo-Buyout_Main-1400x875.jpg'"
      ]
     },
     "execution_count": 10,
     "metadata": {},
     "output_type": "execute_result"
    }
   ],
   "source": [
    "# df.at[20,'image_img']=('<img src=\"Aimco.jpg\" width=\"256\" height=\"156\">')\n",
    "df['image_links'].iloc[1]"
   ]
  },
  {
   "cell_type": "code",
   "execution_count": 11,
   "metadata": {},
   "outputs": [],
   "source": [
    "# df.at[4,'image_links']=('https://therealdeal.com/wp-content/uploads/2019/10/trd-logo-16x9.jpg')"
   ]
  },
  {
   "cell_type": "code",
   "execution_count": 12,
   "metadata": {},
   "outputs": [
    {
     "data": {
      "text/plain": [
       "0    <a href=\"https://therealdeal.com/miami/2023/05...\n",
       "1    <a href=\"https://therealdeal.com/miami/2023/07...\n",
       "2    <a href=\"https://therealdeal.com/miami/2023/03...\n",
       "3    <a href=\"https://therealdeal.com/miami/2023/06...\n",
       "4    <a href=\"https://therealdeal.com/miami/2023/05...\n",
       "5    <a href=\"https://therealdeal.com/miami/2023/06...\n",
       "6    <a href=\"https://therealdeal.com/miami/2022/10...\n",
       "Name: description_link, dtype: object"
      ]
     },
     "execution_count": 12,
     "metadata": {},
     "output_type": "execute_result"
    }
   ],
   "source": [
    "df[\"short_description\"] = df[\"description\"].apply(lambda s: shorten(s, width=20, placeholder=\"\"))\n",
    "df['remaining_desc'] = df.apply(lambda row : row['description'].replace(str(row['short_description']), ''), axis=1)\n",
    "df['remaining_desc']\n",
    "\n",
    "df[\"description_link\"] = '<a href=\"' + df[\"story_link\"] + '\" target=\"_blank\" rel=\"noopener noreferrer\">' + df[\"short_description\"] + \"</a>\" + df[\"remaining_desc\"]\n",
    "df['description_link']"
   ]
  },
  {
   "cell_type": "code",
   "execution_count": 19,
   "metadata": {},
   "outputs": [],
   "source": [
    "df.at[4,'status']=('TBD')"
   ]
  },
  {
   "cell_type": "code",
   "execution_count": 20,
   "metadata": {},
   "outputs": [],
   "source": [
    "def popup_html(row):\n",
    "    i = row\n",
    "    address = df['full_address'].iloc[i]\n",
    "    name = df['name'].iloc[i]\n",
    "    buyers = df['buyers'].iloc[i]\n",
    "    price = df['price'].iloc[i]\n",
    "    status = df['status'].iloc[i]\n",
    "    legal_c = df['currently facing legal challenge?'].iloc[i]\n",
    "    image = df['image_links'].iloc[i]\n",
    "    description = df['description_link'].iloc[i]\n",
    "    \n",
    "    html = '''<!DOCTYPE html>\n",
    "    <html>\n",
    "    <img src={} width=\"256\" height=\"156\">'''.format(image) + '''<br>______________________________________<br>\n",
    "    <strong>Address: </strong>{}'''.format(address) + '''<br>\n",
    "    <strong>Name: </strong>{}'''.format(name) + '''<br>\n",
    "    <strong>Buyers: </strong>{}'''.format(buyers) + '''<br>\n",
    "    <strong>Price: </strong>{}'''.format(price) + '''<br>\n",
    "    <strong>Status: </strong>{}'''.format(status) + '''<br>\n",
    "    <strong>Lawsuits? </strong>{}'''.format(legal_c) + '''<br>\n",
    "    {}'''.format(description) + '''<br>\n",
    "    </html>\n",
    "    '''\n",
    "    return html"
   ]
  },
  {
   "cell_type": "code",
   "execution_count": 21,
   "metadata": {
    "scrolled": false
   },
   "outputs": [
    {
     "data": {
      "text/html": [
       "<div style=\"width:100%;\"><div style=\"position:relative;width:100%;height:0;padding-bottom:60%;\"><span style=\"color:#565656\">Make this Notebook Trusted to load map: File -> Trust Notebook</span><iframe srcdoc=\"&lt;!DOCTYPE html&gt;\n",
       "&lt;head&gt;    \n",
       "    &lt;meta http-equiv=&quot;content-type&quot; content=&quot;text/html; charset=UTF-8&quot; /&gt;\n",
       "    \n",
       "        &lt;script&gt;\n",
       "            L_NO_TOUCH = false;\n",
       "            L_DISABLE_3D = false;\n",
       "        &lt;/script&gt;\n",
       "    \n",
       "    &lt;style&gt;html, body {width: 100%;height: 100%;margin: 0;padding: 0;}&lt;/style&gt;\n",
       "    &lt;style&gt;#map {position:absolute;top:0;bottom:0;right:0;left:0;}&lt;/style&gt;\n",
       "    &lt;script src=&quot;https://cdn.jsdelivr.net/npm/leaflet@1.6.0/dist/leaflet.js&quot;&gt;&lt;/script&gt;\n",
       "    &lt;script src=&quot;https://code.jquery.com/jquery-1.12.4.min.js&quot;&gt;&lt;/script&gt;\n",
       "    &lt;script src=&quot;https://maxcdn.bootstrapcdn.com/bootstrap/3.2.0/js/bootstrap.min.js&quot;&gt;&lt;/script&gt;\n",
       "    &lt;script src=&quot;https://cdnjs.cloudflare.com/ajax/libs/Leaflet.awesome-markers/2.0.2/leaflet.awesome-markers.js&quot;&gt;&lt;/script&gt;\n",
       "    &lt;link rel=&quot;stylesheet&quot; href=&quot;https://cdn.jsdelivr.net/npm/leaflet@1.6.0/dist/leaflet.css&quot;/&gt;\n",
       "    &lt;link rel=&quot;stylesheet&quot; href=&quot;https://maxcdn.bootstrapcdn.com/bootstrap/3.2.0/css/bootstrap.min.css&quot;/&gt;\n",
       "    &lt;link rel=&quot;stylesheet&quot; href=&quot;https://maxcdn.bootstrapcdn.com/bootstrap/3.2.0/css/bootstrap-theme.min.css&quot;/&gt;\n",
       "    &lt;link rel=&quot;stylesheet&quot; href=&quot;https://maxcdn.bootstrapcdn.com/font-awesome/4.6.3/css/font-awesome.min.css&quot;/&gt;\n",
       "    &lt;link rel=&quot;stylesheet&quot; href=&quot;https://cdnjs.cloudflare.com/ajax/libs/Leaflet.awesome-markers/2.0.2/leaflet.awesome-markers.css&quot;/&gt;\n",
       "    &lt;link rel=&quot;stylesheet&quot; href=&quot;https://cdn.jsdelivr.net/gh/python-visualization/folium/folium/templates/leaflet.awesome.rotate.min.css&quot;/&gt;\n",
       "    \n",
       "            &lt;meta name=&quot;viewport&quot; content=&quot;width=device-width,\n",
       "                initial-scale=1.0, maximum-scale=1.0, user-scalable=no&quot; /&gt;\n",
       "            &lt;style&gt;\n",
       "                #map_bce89e2fb2a88fa1d8acba0e443bf4ed {\n",
       "                    position: relative;\n",
       "                    width: 100.0%;\n",
       "                    height: 100.0%;\n",
       "                    left: 0.0%;\n",
       "                    top: 0.0%;\n",
       "                }\n",
       "            &lt;/style&gt;\n",
       "        \n",
       "&lt;/head&gt;\n",
       "&lt;body&gt;    \n",
       "    \n",
       "              &lt;h3 align=&quot;center&quot; style=&quot;font-size:16px&quot;&gt;&lt;b&gt;Condo Buyouts&lt;/b&gt;&lt;/h3&gt;\n",
       "             \n",
       "    \n",
       "            &lt;div class=&quot;folium-map&quot; id=&quot;map_bce89e2fb2a88fa1d8acba0e443bf4ed&quot; &gt;&lt;/div&gt;\n",
       "        \n",
       "&lt;/body&gt;\n",
       "&lt;script&gt;    \n",
       "    \n",
       "            var map_bce89e2fb2a88fa1d8acba0e443bf4ed = L.map(\n",
       "                &quot;map_bce89e2fb2a88fa1d8acba0e443bf4ed&quot;,\n",
       "                {\n",
       "                    center: [25.942281714285713, -80.12363224285714],\n",
       "                    crs: L.CRS.EPSG3857,\n",
       "                    zoom: 8,\n",
       "                    zoomControl: true,\n",
       "                    preferCanvas: false,\n",
       "                }\n",
       "            );\n",
       "\n",
       "            \n",
       "\n",
       "        \n",
       "    \n",
       "            var tile_layer_b37344a7c192632891782d7706e13ec0 = L.tileLayer(\n",
       "                &quot;https://{s}.tile.openstreetmap.org/{z}/{x}/{y}.png&quot;,\n",
       "                {&quot;attribution&quot;: &quot;Data by \\u0026copy; \\u003ca href=\\&quot;http://openstreetmap.org\\&quot;\\u003eOpenStreetMap\\u003c/a\\u003e, under \\u003ca href=\\&quot;http://www.openstreetmap.org/copyright\\&quot;\\u003eODbL\\u003c/a\\u003e.&quot;, &quot;detectRetina&quot;: false, &quot;maxNativeZoom&quot;: 18, &quot;maxZoom&quot;: 18, &quot;minZoom&quot;: 0, &quot;noWrap&quot;: false, &quot;opacity&quot;: 1, &quot;subdomains&quot;: &quot;abc&quot;, &quot;tms&quot;: false}\n",
       "            ).addTo(map_bce89e2fb2a88fa1d8acba0e443bf4ed);\n",
       "        \n",
       "    \n",
       "            var marker_b8f6167b6d666a46dbe033c2e64c32aa = L.marker(\n",
       "                [25.7975549, -80.18641679999999],\n",
       "                {}\n",
       "            ).addTo(map_bce89e2fb2a88fa1d8acba0e443bf4ed);\n",
       "        \n",
       "    \n",
       "        var popup_2dc76040e1638e44a40fa2a770130d89 = L.popup({&quot;maxWidth&quot;: &quot;100%&quot;});\n",
       "\n",
       "        \n",
       "            \n",
       "                var html_f5fcffe044dc17e7bacc1442d1805652 = $(`&lt;div id=&quot;html_f5fcffe044dc17e7bacc1442d1805652&quot; style=&quot;width: 100.0%; height: 100.0%;&quot;&gt;&lt;!DOCTYPE html&gt;     &lt;html&gt;     &lt;img src=https://static.therealdeal.com/wp-content/uploads/2023/05/main_MIA_Biscayne21-1400x875.jpg width=&quot;256&quot; height=&quot;156&quot;&gt;&lt;br&gt;______________________________________&lt;br&gt;     &lt;strong&gt;Address: &lt;/strong&gt;2121 North Bayshore Drive in Miami&lt;br&gt;     &lt;strong&gt;Name: &lt;/strong&gt;Biscayne 21&lt;br&gt;     &lt;strong&gt;Buyers: &lt;/strong&gt;Two Roads Development&lt;br&gt;     &lt;strong&gt;Price: &lt;/strong&gt;$150M &lt;br&gt;     &lt;strong&gt;Status: &lt;/strong&gt;Completed&lt;br&gt;     &lt;strong&gt;Lawsuits? &lt;/strong&gt;Yes&lt;br&gt;     &lt;a href=&quot;https://therealdeal.com/miami/2023/05/24/edgewater-condo-owners-sue-developer-two-roads-over-termination/&quot; target=&quot;_blank&quot; rel=&quot;noopener noreferrer&quot;&gt;Two Roads paid $150&lt;/a&gt; million for the majority of Biscayne 21, a 13-story, 192-unit condo building, last year. A group of remaining owners are fighting the developer’s termination of the condominium in court.  &lt;br&gt;     &lt;/html&gt;     &lt;/div&gt;`)[0];\n",
       "                popup_2dc76040e1638e44a40fa2a770130d89.setContent(html_f5fcffe044dc17e7bacc1442d1805652);\n",
       "            \n",
       "        \n",
       "\n",
       "        marker_b8f6167b6d666a46dbe033c2e64c32aa.bindPopup(popup_2dc76040e1638e44a40fa2a770130d89)\n",
       "        ;\n",
       "\n",
       "        \n",
       "    \n",
       "    \n",
       "            var marker_bc5a504c4cdd6d8e466ee17f01cc6043 = L.marker(\n",
       "                [25.831677, -80.120971],\n",
       "                {}\n",
       "            ).addTo(map_bce89e2fb2a88fa1d8acba0e443bf4ed);\n",
       "        \n",
       "    \n",
       "        var popup_9f6532c6385bc8dc4c05d6440ef73194 = L.popup({&quot;maxWidth&quot;: &quot;100%&quot;});\n",
       "\n",
       "        \n",
       "            \n",
       "                var html_d5bf746139f326fa45dd56b50e6c485c = $(`&lt;div id=&quot;html_d5bf746139f326fa45dd56b50e6c485c&quot; style=&quot;width: 100.0%; height: 100.0%;&quot;&gt;&lt;!DOCTYPE html&gt;     &lt;html&gt;     &lt;img src=https://static.therealdeal.com/wp-content/uploads/2023/07/Mast-Capital-Sued-Over-Miami-Beach-Condo-Buyout_Main-1400x875.jpg width=&quot;256&quot; height=&quot;156&quot;&gt;&lt;br&gt;______________________________________&lt;br&gt;     &lt;strong&gt;Address: &lt;/strong&gt;5313 Collins Avenue&lt;br&gt;     &lt;strong&gt;Name: &lt;/strong&gt;Amethyst&lt;br&gt;     &lt;strong&gt;Buyers: &lt;/strong&gt;Mast Capital; Terra &lt;br&gt;     &lt;strong&gt;Price: &lt;/strong&gt;Not Available&lt;br&gt;     &lt;strong&gt;Status: &lt;/strong&gt;In Contract; Offers made&lt;br&gt;     &lt;strong&gt;Lawsuits? &lt;/strong&gt;Yes&lt;br&gt;     &lt;a href=&quot;https://therealdeal.com/miami/2023/07/14/mast-capital-sued-over-troubled-oceanfront-condo-buyout-in-miami-beach/&quot; target=&quot;_blank&quot; rel=&quot;noopener noreferrer&quot;&gt;Mast Capital has&lt;/a&gt; been pursuing a buyout of Amethyst, an 11-story, 120-unit condominium in Miami Beach, for more than 2.5 years. Terra recently made offers to owners in the building ranging from $550,000 to $850,000 per unit. &lt;br&gt;     &lt;/html&gt;     &lt;/div&gt;`)[0];\n",
       "                popup_9f6532c6385bc8dc4c05d6440ef73194.setContent(html_d5bf746139f326fa45dd56b50e6c485c);\n",
       "            \n",
       "        \n",
       "\n",
       "        marker_bc5a504c4cdd6d8e466ee17f01cc6043.bindPopup(popup_9f6532c6385bc8dc4c05d6440ef73194)\n",
       "        ;\n",
       "\n",
       "        \n",
       "    \n",
       "    \n",
       "            var marker_53279e83f381477f87cdcae1f1ad9729 = L.marker(\n",
       "                [25.8343741, -80.1202116],\n",
       "                {}\n",
       "            ).addTo(map_bce89e2fb2a88fa1d8acba0e443bf4ed);\n",
       "        \n",
       "    \n",
       "        var popup_fc012dfcd8751c415835211b0f67e262 = L.popup({&quot;maxWidth&quot;: &quot;100%&quot;});\n",
       "\n",
       "        \n",
       "            \n",
       "                var html_853fa58c03c850230476462f0724e6e4 = $(`&lt;div id=&quot;html_853fa58c03c850230476462f0724e6e4&quot; style=&quot;width: 100.0%; height: 100.0%;&quot;&gt;&lt;!DOCTYPE html&gt;     &lt;html&gt;     &lt;img src=https://static.therealdeal.com/wp-content/uploads/2023/03/main_MIA_Terra-Castle-Beach-1400x875.jpg width=&quot;256&quot; height=&quot;156&quot;&gt;&lt;br&gt;______________________________________&lt;br&gt;     &lt;strong&gt;Address: &lt;/strong&gt;5445 Collins Avenue in Miami Beach&lt;br&gt;     &lt;strong&gt;Name: &lt;/strong&gt;Castle Beach Club&lt;br&gt;     &lt;strong&gt;Buyers: &lt;/strong&gt;Terra &lt;br&gt;     &lt;strong&gt;Price: &lt;/strong&gt;$500M&lt;br&gt;     &lt;strong&gt;Status: &lt;/strong&gt;Offers made&lt;br&gt;     &lt;strong&gt;Lawsuits? &lt;/strong&gt;No&lt;br&gt;     &lt;a href=&quot;https://therealdeal.com/miami/2023/03/20/terra-offers-500m-for-aging-oceanfront-miami-beach-condo-building/&quot; target=&quot;_blank&quot; rel=&quot;noopener noreferrer&quot;&gt;David Martin’s Terra&lt;/a&gt; offered owners at the Castle Beach Club condominium building in Miami Beach $500 million for the 18-story, roughly 570-unit condominium in March. Related Group and 13th Floor Investments withdrew their bid for the same amount last year.   &lt;br&gt;     &lt;/html&gt;     &lt;/div&gt;`)[0];\n",
       "                popup_fc012dfcd8751c415835211b0f67e262.setContent(html_853fa58c03c850230476462f0724e6e4);\n",
       "            \n",
       "        \n",
       "\n",
       "        marker_53279e83f381477f87cdcae1f1ad9729.bindPopup(popup_fc012dfcd8751c415835211b0f67e262)\n",
       "        ;\n",
       "\n",
       "        \n",
       "    \n",
       "    \n",
       "            var marker_1b22d85368a4ce0931b6a20fa49d1a57 = L.marker(\n",
       "                [25.8452431, -80.1198764],\n",
       "                {}\n",
       "            ).addTo(map_bce89e2fb2a88fa1d8acba0e443bf4ed);\n",
       "        \n",
       "    \n",
       "        var popup_0a849a6fa545b10e4652423e3b7810d7 = L.popup({&quot;maxWidth&quot;: &quot;100%&quot;});\n",
       "\n",
       "        \n",
       "            \n",
       "                var html_2a22b948fb0122f174216e82b82ab00c = $(`&lt;div id=&quot;html_2a22b948fb0122f174216e82b82ab00c&quot; style=&quot;width: 100.0%; height: 100.0%;&quot;&gt;&lt;!DOCTYPE html&gt;     &lt;html&gt;     &lt;img src=https://static.therealdeal.com/wp-content/uploads/2023/06/Meruelo-Cancels-200M-Purchase-of-Casablanca-Miami-Beach_Main-1400x875.jpg width=&quot;256&quot; height=&quot;156&quot;&gt;&lt;br&gt;______________________________________&lt;br&gt;     &lt;strong&gt;Address: &lt;/strong&gt;6345 Collins Avenue in Miami Beach&lt;br&gt;     &lt;strong&gt;Name: &lt;/strong&gt;Casablaca &lt;br&gt;     &lt;strong&gt;Buyers: &lt;/strong&gt;Richard Meruelo&lt;br&gt;     &lt;strong&gt;Price: &lt;/strong&gt;$200M &lt;br&gt;     &lt;strong&gt;Status: &lt;/strong&gt;Canceled&lt;br&gt;     &lt;strong&gt;Lawsuits? &lt;/strong&gt;No&lt;br&gt;     &lt;a href=&quot;https://therealdeal.com/miami/2023/06/29/meruelo-backs-out-of-200m-bid-for-casablanca-miami-beach/&quot; target=&quot;_blank&quot; rel=&quot;noopener noreferrer&quot;&gt;In June, Richard&lt;/a&gt; Meruelo backed out of a $200 million buyout offer for the historic oceanfront Casablanca resort in Miami Beach after securing buy-in from more than 95 percent of unit owners. The 10-story condo-hotel has about 350 residential and commercial units.&lt;br&gt;     &lt;/html&gt;     &lt;/div&gt;`)[0];\n",
       "                popup_0a849a6fa545b10e4652423e3b7810d7.setContent(html_2a22b948fb0122f174216e82b82ab00c);\n",
       "            \n",
       "        \n",
       "\n",
       "        marker_1b22d85368a4ce0931b6a20fa49d1a57.bindPopup(popup_0a849a6fa545b10e4652423e3b7810d7)\n",
       "        ;\n",
       "\n",
       "        \n",
       "    \n",
       "    \n",
       "            var marker_90562f0995f480265fa3d21b7483235a = L.marker(\n",
       "                [25.8545286, -80.1575787],\n",
       "                {}\n",
       "            ).addTo(map_bce89e2fb2a88fa1d8acba0e443bf4ed);\n",
       "        \n",
       "    \n",
       "        var popup_52637391e8a146952116bd084990c4bd = L.popup({&quot;maxWidth&quot;: &quot;100%&quot;});\n",
       "\n",
       "        \n",
       "            \n",
       "                var html_9b5371b838129c55ef705e4ce353fd3b = $(`&lt;div id=&quot;html_9b5371b838129c55ef705e4ce353fd3b&quot; style=&quot;width: 100.0%; height: 100.0%;&quot;&gt;&lt;!DOCTYPE html&gt;     &lt;html&gt;     &lt;img src=https://static.therealdeal.com/wp-content/uploads/2023/05/MIA-Macklowe-assembling-waterfront-land-in-North-Bay-Village-MAIN-r1-1400x875.jpg width=&quot;256&quot; height=&quot;156&quot;&gt;&lt;br&gt;______________________________________&lt;br&gt;     &lt;strong&gt;Address: &lt;/strong&gt;8000, 8010 and 8020 East Drive in North Bay Village&lt;br&gt;     &lt;strong&gt;Name: &lt;/strong&gt;Biscayne Sea Club &lt;br&gt;     &lt;strong&gt;Buyers: &lt;/strong&gt;Macklowe Properties&lt;br&gt;     &lt;strong&gt;Price: &lt;/strong&gt;$48M &lt;br&gt;     &lt;strong&gt;Status: &lt;/strong&gt;TBD&lt;br&gt;     &lt;strong&gt;Lawsuits? &lt;/strong&gt;Yes&lt;br&gt;     &lt;a href=&quot;https://therealdeal.com/miami/2023/05/19/macklowe-assembling-waterfront-development-site-in-north-bay-village/&quot; target=&quot;_blank&quot; rel=&quot;noopener noreferrer&quot;&gt;New York developer&lt;/a&gt; Harry Macklowe has been assembling a large waterfront development site in North Bay Village. That includes the expected $47.7 million acquisition of the 3-acre Biscayne Sea Club co-op at 8000, 8010 and 8020 East Drive. Court filings show the sale was supposed to close June 1, but no closings have been recorded. Macklowe did not respond to requests for comment.&lt;br&gt;     &lt;/html&gt;     &lt;/div&gt;`)[0];\n",
       "                popup_52637391e8a146952116bd084990c4bd.setContent(html_9b5371b838129c55ef705e4ce353fd3b);\n",
       "            \n",
       "        \n",
       "\n",
       "        marker_90562f0995f480265fa3d21b7483235a.bindPopup(popup_52637391e8a146952116bd084990c4bd)\n",
       "        ;\n",
       "\n",
       "        \n",
       "    \n",
       "    \n",
       "            var marker_c9737cb60d3d6f3de18ecdf756db4941 = L.marker(\n",
       "                [25.8098006, -80.1230121],\n",
       "                {}\n",
       "            ).addTo(map_bce89e2fb2a88fa1d8acba0e443bf4ed);\n",
       "        \n",
       "    \n",
       "        var popup_793c0e04e7226a7edca7b4b2421ffd54 = L.popup({&quot;maxWidth&quot;: &quot;100%&quot;});\n",
       "\n",
       "        \n",
       "            \n",
       "                var html_02cae96a1b099481536eb5acd6f9382e = $(`&lt;div id=&quot;html_02cae96a1b099481536eb5acd6f9382e&quot; style=&quot;width: 100.0%; height: 100.0%;&quot;&gt;&lt;!DOCTYPE html&gt;     &lt;html&gt;     &lt;img src=https://static.therealdeal.com/wp-content/uploads/2023/06/main_MIA_13thFloorMiamiBeach-1400x875.jpg width=&quot;256&quot; height=&quot;156&quot;&gt;&lt;br&gt;______________________________________&lt;br&gt;     &lt;strong&gt;Address: &lt;/strong&gt;3611 Collins Avenue in Miami Beach&lt;br&gt;     &lt;strong&gt;Name: &lt;/strong&gt;Westgate South Beach Oceanfront Resort&lt;br&gt;     &lt;strong&gt;Buyers: &lt;/strong&gt;13th Floor Investments, Opera Acquisitions&lt;br&gt;     &lt;strong&gt;Price: &lt;/strong&gt;$73M&lt;br&gt;     &lt;strong&gt;Status: &lt;/strong&gt;Closed&lt;br&gt;     &lt;strong&gt;Lawsuits? &lt;/strong&gt;No&lt;br&gt;     &lt;a href=&quot;https://therealdeal.com/miami/2023/06/27/13th-floor-opera-pay-73m-for-oceanfront-miami-beach-timeshare-resort/&quot; target=&quot;_blank&quot; rel=&quot;noopener noreferrer&quot;&gt;13th Floor&lt;/a&gt; Investments joined with Opera Acquisitions to buy a Miami Beach timeshare resort for $73 million. The sale of the 46-unit building closed in June, a year after  and Opera bought out all the owners of the 109-unit adjacent property for about $30 million.  &lt;br&gt;     &lt;/html&gt;     &lt;/div&gt;`)[0];\n",
       "                popup_793c0e04e7226a7edca7b4b2421ffd54.setContent(html_02cae96a1b099481536eb5acd6f9382e);\n",
       "            \n",
       "        \n",
       "\n",
       "        marker_c9737cb60d3d6f3de18ecdf756db4941.bindPopup(popup_793c0e04e7226a7edca7b4b2421ffd54)\n",
       "        ;\n",
       "\n",
       "        \n",
       "    \n",
       "    \n",
       "            var marker_2c8fb03109722c641480a1755191a50f = L.marker(\n",
       "                [26.6227937, -80.0373591],\n",
       "                {}\n",
       "            ).addTo(map_bce89e2fb2a88fa1d8acba0e443bf4ed);\n",
       "        \n",
       "    \n",
       "        var popup_c49448c06d0eb1861788293a18a9f9e7 = L.popup({&quot;maxWidth&quot;: &quot;100%&quot;});\n",
       "\n",
       "        \n",
       "            \n",
       "                var html_452ab41d9dffd5f676d6c7c33c8282e6 = $(`&lt;div id=&quot;html_452ab41d9dffd5f676d6c7c33c8282e6&quot; style=&quot;width: 100.0%; height: 100.0%;&quot;&gt;&lt;!DOCTYPE html&gt;     &lt;html&gt;     &lt;img src=https://static.therealdeal.com/wp-content/uploads/2022/10/main-MIA-Doronin-buys-aging-waterfront-Palm-Beach-co-ops-for-147M.jpg width=&quot;256&quot; height=&quot;156&quot;&gt;&lt;br&gt;______________________________________&lt;br&gt;     &lt;strong&gt;Address: &lt;/strong&gt;2730 South Ocean Boulevard and 2720 South Ocean Boulevard in Palm Beach&lt;br&gt;     &lt;strong&gt;Name: &lt;/strong&gt;The Ambassador Palm Beach Hotel &amp; Residences and Edgewater House&lt;br&gt;     &lt;strong&gt;Buyers: &lt;/strong&gt;OKO Group and Cain International&lt;br&gt;     &lt;strong&gt;Price: &lt;/strong&gt;$147M&lt;br&gt;     &lt;strong&gt;Status: &lt;/strong&gt;Closed &lt;br&gt;     &lt;strong&gt;Lawsuits? &lt;/strong&gt;No&lt;br&gt;     &lt;a href=&quot;https://therealdeal.com/miami/2022/10/21/doronin-partner-buy-aging-waterfront-palm-beach-co-ops-for-147m/&quot; target=&quot;_blank&quot; rel=&quot;noopener noreferrer&quot;&gt;In October, Vlad&lt;/a&gt; Doronin’s OKO Group and partner Cain International paid nearly $147 million for two co-ops in Palm Beach: The Ambassador Palm Beach Hotel &amp; Residences at 2730 South Ocean Boulevard, as well as the Edgewater House at 2720 South Ocean Boulevard for $48.6 million. &lt;br&gt;     &lt;/html&gt;     &lt;/div&gt;`)[0];\n",
       "                popup_c49448c06d0eb1861788293a18a9f9e7.setContent(html_452ab41d9dffd5f676d6c7c33c8282e6);\n",
       "            \n",
       "        \n",
       "\n",
       "        marker_2c8fb03109722c641480a1755191a50f.bindPopup(popup_c49448c06d0eb1861788293a18a9f9e7)\n",
       "        ;\n",
       "\n",
       "        \n",
       "    \n",
       "    \n",
       "            map_bce89e2fb2a88fa1d8acba0e443bf4ed.fitBounds(\n",
       "                [25.942281714285713, -80.12363224285714],\n",
       "                {&quot;maxZoom&quot;: 15}\n",
       "            );\n",
       "        \n",
       "&lt;/script&gt;\" style=\"position:absolute;width:100%;height:100%;left:0;top:0;border:none !important;\" allowfullscreen webkitallowfullscreen mozallowfullscreen></iframe></div></div>"
      ],
      "text/plain": [
       "<folium.folium.Map at 0x7f925a57de20>"
      ]
     },
     "execution_count": 21,
     "metadata": {},
     "output_type": "execute_result"
    }
   ],
   "source": [
    "import branca\n",
    "\n",
    "m = folium.Map(location=df[[\"lat\", \"lon\"]].mean().to_list(),zoom_start=8)\n",
    "\n",
    "title_html = '''\n",
    "              <h3 align=\"center\" style=\"font-size:16px\"><b>{}</b></h3>\n",
    "             '''.format(f'Condo Buyouts')\n",
    "\n",
    "for i in range(0,len(df)):\n",
    "    html = popup_html(i)\n",
    "    iframe = branca.element.IFrame(html=html)\n",
    "    popup = folium.Popup(folium.Html(html, script=True))\n",
    "    folium.Marker([df['lat'].iloc[i],df['lon'].iloc[i]],\n",
    "                 popup=popup).add_to(m)\n",
    "\n",
    "m.get_root().html.add_child(folium.Element(title_html))\n",
    "m.fit_bounds(bounds=df[['lat','lon']].mean().to_list(),max_zoom=15)\n",
    "# m.add_to(f)\n",
    "m"
   ]
  },
  {
   "cell_type": "code",
   "execution_count": 22,
   "metadata": {},
   "outputs": [],
   "source": [
    "m.save('index.html')"
   ]
  },
  {
   "cell_type": "markdown",
   "metadata": {},
   "source": [
    "## Map URL Snagger"
   ]
  },
  {
   "cell_type": "code",
   "execution_count": 23,
   "metadata": {},
   "outputs": [
    {
     "name": "stdout",
     "output_type": "stream",
     "text": [
      "https://trd-digital.github.io/trd-news-interactive-maps/SoFla_condo_buyouts\n"
     ]
    }
   ],
   "source": [
    "base_name = 'https://trd-digital.github.io/trd-news-interactive-maps/'\n",
    "\n",
    "cwd = os.getcwd()\n",
    "\n",
    "cwd = cwd.split('/')\n",
    "\n",
    "final_name = base_name + cwd[-1]\n",
    "print(final_name)"
   ]
  }
 ],
 "metadata": {
  "kernelspec": {
   "display_name": "Python 3 (ipykernel)",
   "language": "python",
   "name": "python3"
  },
  "language_info": {
   "codemirror_mode": {
    "name": "ipython",
    "version": 3
   },
   "file_extension": ".py",
   "mimetype": "text/x-python",
   "name": "python",
   "nbconvert_exporter": "python",
   "pygments_lexer": "ipython3",
   "version": "3.9.12"
  },
  "toc": {
   "base_numbering": 1,
   "nav_menu": {},
   "number_sections": true,
   "sideBar": true,
   "skip_h1_title": false,
   "title_cell": "Table of Contents",
   "title_sidebar": "Contents",
   "toc_cell": false,
   "toc_position": {},
   "toc_section_display": true,
   "toc_window_display": false
  }
 },
 "nbformat": 4,
 "nbformat_minor": 4
}
