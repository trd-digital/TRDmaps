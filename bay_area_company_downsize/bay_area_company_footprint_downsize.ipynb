{
 "cells": [
  {
   "cell_type": "markdown",
   "metadata": {},
   "source": [
    "## Imports"
   ]
  },
  {
   "cell_type": "code",
   "execution_count": 51,
   "metadata": {},
   "outputs": [],
   "source": [
    "from geopy.geocoders import GoogleV3\n",
    "from bs4 import BeautifulSoup\n",
    "import requests\n",
    "import time\n",
    "import pandas as pd\n",
    "import numpy as np\n",
    "import urllib3\n",
    "import re\n",
    "from textwrap import shorten\n",
    "import os"
   ]
  },
  {
   "cell_type": "code",
   "execution_count": 52,
   "metadata": {},
   "outputs": [],
   "source": [
    "df = pd.read_csv('Bay Area companies that decided to downsize their footprints, Jan. 1, 2022 to July 5, 2022 - Sheet1.csv')"
   ]
  },
  {
   "cell_type": "code",
   "execution_count": 53,
   "metadata": {},
   "outputs": [
    {
     "data": {
      "text/plain": [
       "0     450 Mission Bay Boulevard and 360 Third Street...\n",
       "1     690 East Middlefield Road, Mountain View, upon...\n",
       "2             425 and 525 Market Street, San Francisco \n",
       "3                  235 Montgomery Street, San Francisco\n",
       "4                     270 Brannan Street, San Francisco\n",
       "5                     1455 Market Street, San Francisco\n",
       "6     101 Spear Street, San Francisco. Twilio is not...\n",
       "7                     300 Mission Street, San Francisco\n",
       "8            2555 and 2565 Augustine Drive, Santa Clara\n",
       "9                     180 Howard Street, San Francisco \n",
       "10                     425 Market Street, San Francisco\n",
       "11                 101 California Street, San Francisco\n",
       "12              2975 and 3001 Stender Way, Santa Clara \n",
       "13                       150 Rose Orchard Way, San Jose\n",
       "Name: Address(es) of space company vacated or plans to vacate, in sf, dtype: object"
      ]
     },
     "execution_count": 53,
     "metadata": {},
     "output_type": "execute_result"
    }
   ],
   "source": [
    "df['Address(es) of space company vacated or plans to vacate, in sf']"
   ]
  },
  {
   "cell_type": "markdown",
   "metadata": {},
   "source": [
    "## Image URL collector"
   ]
  },
  {
   "cell_type": "code",
   "execution_count": 54,
   "metadata": {},
   "outputs": [],
   "source": [
    "# Drop last n rows of a df. In case there are sums that need clipped\n",
    "# df.drop(df.tail(n).index, inplace=True)"
   ]
  },
  {
   "cell_type": "code",
   "execution_count": 55,
   "metadata": {},
   "outputs": [],
   "source": [
    "df['image_links'] = ''\n",
    "links = []\n",
    "for url in df['Link to story']:\n",
    "    try:\n",
    "        page = requests.get(url)\n",
    "        soup = BeautifulSoup(page.content, 'html.parser')\n",
    "        images = soup.find_all('img')\n",
    "        counter = 0\n",
    "        for image in images:\n",
    "            counter += 1\n",
    "            if 'jpg' in image['src']:\n",
    "                links.append(image['src'])\n",
    "                if counter == len(images):\n",
    "                    links.append('no image found')\n",
    "                break\n",
    "    except:\n",
    "        links.append('no_image')\n",
    "\n",
    "df['image_links'] = links"
   ]
  },
  {
   "cell_type": "markdown",
   "metadata": {},
   "source": [
    "## Article link formatter"
   ]
  },
  {
   "cell_type": "code",
   "execution_count": 56,
   "metadata": {},
   "outputs": [
    {
     "data": {
      "text/plain": [
       "14"
      ]
     },
     "execution_count": 56,
     "metadata": {},
     "output_type": "execute_result"
    }
   ],
   "source": [
    "len(links)"
   ]
  },
  {
   "cell_type": "code",
   "execution_count": 57,
   "metadata": {},
   "outputs": [
    {
     "data": {
      "text/plain": [
       "0                 Nektar Therapeutics \n",
       "1                            Synopsys \n",
       "2                             Sephora \n",
       "3               Farella Braun + Martel\n",
       "4                              Splunk \n",
       "5                               Block \n",
       "6                               Twilio\n",
       "7                            Autodesk \n",
       "8                       Analog Devices\n",
       "9              State Bar of California\n",
       "10                             PayPal \n",
       "11    Merrill (formerly Merrill Lynch)\n",
       "12                             Onsemi \n",
       "13                                Arm \n",
       "Name: Company name, dtype: object"
      ]
     },
     "execution_count": 57,
     "metadata": {},
     "output_type": "execute_result"
    }
   ],
   "source": [
    "df['Company name']"
   ]
  },
  {
   "cell_type": "code",
   "execution_count": 58,
   "metadata": {},
   "outputs": [
    {
     "data": {
      "text/plain": [
       "0     <a href=\"https://therealdeal.com/sanfrancisco/...\n",
       "1     <a href=\"https://therealdeal.com/sanfrancisco/...\n",
       "2     <a href=\"https://therealdeal.com/sanfrancisco/...\n",
       "3     <a href=\"https://therealdeal.com/sanfrancisco/...\n",
       "4     <a href=\"https://therealdeal.com/sanfrancisco/...\n",
       "5     <a href=\"https://therealdeal.com/sanfrancisco/...\n",
       "6     <a href=\"https://therealdeal.com/sanfrancisco/...\n",
       "7     <a href=\"https://therealdeal.com/sanfrancisco/...\n",
       "8     <a href=\"https://therealdeal.com/sanfrancisco/...\n",
       "9     <a href=\"https://therealdeal.com/sanfrancisco/...\n",
       "10    <a href=\"https://therealdeal.com/sanfrancisco/...\n",
       "11    <a href=\"https://therealdeal.com/sanfrancisco/...\n",
       "12    <a href=\"https://therealdeal.com/sanfrancisco/...\n",
       "13    <a href=\"https://therealdeal.com/sanfrancisco/...\n",
       "Name: description_link, dtype: object"
      ]
     },
     "execution_count": 58,
     "metadata": {},
     "output_type": "execute_result"
    }
   ],
   "source": [
    "df[\"short_description\"] = df[\"Company name\"].apply(lambda s: shorten(s, width=20, placeholder=\"\"))\n",
    "df['remaining_desc'] = df.apply(lambda row : row['Company name'].replace(str(row['short_description']), ''), axis=1)\n",
    "df['remaining_desc']\n",
    "\n",
    "df[\"description_link\"] = '<a href=\"' + df[\"Link to story\"] + '\">' + df[\"short_description\"] + \"</a>\" + df[\"remaining_desc\"]\n",
    "df['description_link']"
   ]
  },
  {
   "cell_type": "code",
   "execution_count": 59,
   "metadata": {},
   "outputs": [
    {
     "data": {
      "text/plain": [
       "'<a href=\"https://therealdeal.com/sanfrancisco/2022/04/27/nektar-therapeutics-looks-to-sublease-200k-sf-in-mission-bay/\">Nektar Therapeutics</a> '"
      ]
     },
     "execution_count": 59,
     "metadata": {},
     "output_type": "execute_result"
    }
   ],
   "source": [
    "df.description_link[0]"
   ]
  },
  {
   "cell_type": "markdown",
   "metadata": {},
   "source": [
    "## Google Maps API Geolocater Setup"
   ]
  },
  {
   "cell_type": "code",
   "execution_count": 60,
   "metadata": {},
   "outputs": [],
   "source": [
    "%store -r google_maps_API_Key\n",
    "geolocator = GoogleV3(api_key=google_maps_API_Key)"
   ]
  },
  {
   "cell_type": "code",
   "execution_count": 61,
   "metadata": {},
   "outputs": [],
   "source": [
    "df['geo_address'] = df['Address(es) of space company vacated or plans to vacate, in sf'] + ' CA'\n",
    "df['loc'] = df['geo_address'].apply(geolocator.geocode, timeout=10)\n",
    "df['point'] = df['loc'].apply(lambda loc: tuple(loc.point) if loc else None)\n",
    "df[['lat','lon','altitude']] = pd.DataFrame(df['point'].to_list(),index=df.index)"
   ]
  },
  {
   "cell_type": "markdown",
   "metadata": {},
   "source": [
    "## HTML popup formatter"
   ]
  },
  {
   "cell_type": "code",
   "execution_count": 62,
   "metadata": {},
   "outputs": [
    {
     "data": {
      "text/plain": [
       "Index(['Company name', 'Home city', 'Category',\n",
       "       'Amount of space company vacated or plans to vacate, in sf',\n",
       "       'Amount of space company leased or subleased during same time period, in sf',\n",
       "       'Net decline in footprint, in sf',\n",
       "       'Address(es) of space company vacated or plans to vacate, in sf',\n",
       "       'Address(es) of space company leased or subleased during same time period, in sf',\n",
       "       'Date TRD wrote about downsizing plans', 'Link to story', 'image_links',\n",
       "       'short_description', 'remaining_desc', 'description_link',\n",
       "       'geo_address', 'loc', 'point', 'lat', 'lon', 'altitude'],\n",
       "      dtype='object')"
      ]
     },
     "execution_count": 62,
     "metadata": {},
     "output_type": "execute_result"
    }
   ],
   "source": [
    "df.columns"
   ]
  },
  {
   "cell_type": "code",
   "execution_count": 71,
   "metadata": {},
   "outputs": [],
   "source": [
    "def popup_html(row):\n",
    "    i = row\n",
    "    address = df['Address(es) of space company vacated or plans to vacate, in sf'].iloc[i]\n",
    "    developer = df['Net decline in footprint, in sf'].iloc[i]\n",
    "    description = df['description_link'].iloc[i]\n",
    "    image = df['image_links'].iloc[i]\n",
    "    sf_plan_vacate = df['Amount of space company vacated or plans to vacate, in sf'].iloc[i]\n",
    "    \n",
    "    html = '''<!DOCTYPE html>\n",
    "    <html>\n",
    "    <img src={} width=\"256\" height=\"156\">'''.format(image) + '''<br>______________________________________<br>\n",
    "    Company: <strong>{}'''.format(description) + '''</strong><br>\n",
    "    Address(es) vacated or to be vacated: <em>{}'''.format(address) + '''</em><br>\n",
    "    Net decline in footprint: <strong><em>{}'''.format(developer) + '''</strong></em><br><br>\n",
    "    Amount of space vacated or to be vacated: <strong><em>{}'''.format(sf_plan_vacate) + '''</strong></em>   \n",
    "    </html>\n",
    "    '''\n",
    "    return html\n"
   ]
  },
  {
   "cell_type": "markdown",
   "metadata": {},
   "source": [
    "### HTML reservoir"
   ]
  },
  {
   "cell_type": "code",
   "execution_count": 65,
   "metadata": {},
   "outputs": [],
   "source": [
    "#     Developer(s): <strong><em>{}'''.format(developer) + '''</strong></em><br><br>"
   ]
  },
  {
   "cell_type": "markdown",
   "metadata": {},
   "source": [
    "## Map Maker"
   ]
  },
  {
   "cell_type": "code",
   "execution_count": 66,
   "metadata": {},
   "outputs": [
    {
     "data": {
      "text/plain": [
       "'<a href=\"https://therealdeal.com/sanfrancisco/2022/04/27/nektar-therapeutics-looks-to-sublease-200k-sf-in-mission-bay/\">Nektar Therapeutics</a> '"
      ]
     },
     "execution_count": 66,
     "metadata": {},
     "output_type": "execute_result"
    }
   ],
   "source": [
    "df.description_link[0]"
   ]
  },
  {
   "cell_type": "code",
   "execution_count": 72,
   "metadata": {},
   "outputs": [
    {
     "data": {
      "text/html": [
       "<div style=\"width:100%;\"><div style=\"position:relative;width:100%;height:0;padding-bottom:60%;\"><span style=\"color:#565656\">Make this Notebook Trusted to load map: File -> Trust Notebook</span><iframe srcdoc=\"&lt;!DOCTYPE html&gt;\n",
       "&lt;head&gt;    \n",
       "    &lt;meta http-equiv=&quot;content-type&quot; content=&quot;text/html; charset=UTF-8&quot; /&gt;\n",
       "    \n",
       "        &lt;script&gt;\n",
       "            L_NO_TOUCH = false;\n",
       "            L_DISABLE_3D = false;\n",
       "        &lt;/script&gt;\n",
       "    \n",
       "    &lt;style&gt;html, body {width: 100%;height: 100%;margin: 0;padding: 0;}&lt;/style&gt;\n",
       "    &lt;style&gt;#map {position:absolute;top:0;bottom:0;right:0;left:0;}&lt;/style&gt;\n",
       "    &lt;script src=&quot;https://cdn.jsdelivr.net/npm/leaflet@1.6.0/dist/leaflet.js&quot;&gt;&lt;/script&gt;\n",
       "    &lt;script src=&quot;https://code.jquery.com/jquery-1.12.4.min.js&quot;&gt;&lt;/script&gt;\n",
       "    &lt;script src=&quot;https://maxcdn.bootstrapcdn.com/bootstrap/3.2.0/js/bootstrap.min.js&quot;&gt;&lt;/script&gt;\n",
       "    &lt;script src=&quot;https://cdnjs.cloudflare.com/ajax/libs/Leaflet.awesome-markers/2.0.2/leaflet.awesome-markers.js&quot;&gt;&lt;/script&gt;\n",
       "    &lt;link rel=&quot;stylesheet&quot; href=&quot;https://cdn.jsdelivr.net/npm/leaflet@1.6.0/dist/leaflet.css&quot;/&gt;\n",
       "    &lt;link rel=&quot;stylesheet&quot; href=&quot;https://maxcdn.bootstrapcdn.com/bootstrap/3.2.0/css/bootstrap.min.css&quot;/&gt;\n",
       "    &lt;link rel=&quot;stylesheet&quot; href=&quot;https://maxcdn.bootstrapcdn.com/bootstrap/3.2.0/css/bootstrap-theme.min.css&quot;/&gt;\n",
       "    &lt;link rel=&quot;stylesheet&quot; href=&quot;https://maxcdn.bootstrapcdn.com/font-awesome/4.6.3/css/font-awesome.min.css&quot;/&gt;\n",
       "    &lt;link rel=&quot;stylesheet&quot; href=&quot;https://cdnjs.cloudflare.com/ajax/libs/Leaflet.awesome-markers/2.0.2/leaflet.awesome-markers.css&quot;/&gt;\n",
       "    &lt;link rel=&quot;stylesheet&quot; href=&quot;https://cdn.jsdelivr.net/gh/python-visualization/folium/folium/templates/leaflet.awesome.rotate.min.css&quot;/&gt;\n",
       "    \n",
       "            &lt;meta name=&quot;viewport&quot; content=&quot;width=device-width,\n",
       "                initial-scale=1.0, maximum-scale=1.0, user-scalable=no&quot; /&gt;\n",
       "            &lt;style&gt;\n",
       "                #map_f65be22d96967b0c5a2931ec10aa498d {\n",
       "                    position: relative;\n",
       "                    width: 100.0%;\n",
       "                    height: 100.0%;\n",
       "                    left: 0.0%;\n",
       "                    top: 0.0%;\n",
       "                }\n",
       "            &lt;/style&gt;\n",
       "        \n",
       "&lt;/head&gt;\n",
       "&lt;body&gt;    \n",
       "    \n",
       "              &lt;h3 align=&quot;center&quot; style=&quot;font-size:16px&quot;&gt;&lt;b&gt;Bay Area companies that decided to downsize their footprints, January 2022 to July 2022&lt;/b&gt;&lt;/h3&gt;\n",
       "             \n",
       "    \n",
       "            &lt;div class=&quot;folium-map&quot; id=&quot;map_f65be22d96967b0c5a2931ec10aa498d&quot; &gt;&lt;/div&gt;\n",
       "        \n",
       "&lt;/body&gt;\n",
       "&lt;script&gt;    \n",
       "    \n",
       "            var map_f65be22d96967b0c5a2931ec10aa498d = L.map(\n",
       "                &quot;map_f65be22d96967b0c5a2931ec10aa498d&quot;,\n",
       "                {\n",
       "                    center: [37.675174121428576, -122.2803131357143],\n",
       "                    crs: L.CRS.EPSG3857,\n",
       "                    zoom: 9,\n",
       "                    zoomControl: true,\n",
       "                    preferCanvas: false,\n",
       "                }\n",
       "            );\n",
       "\n",
       "            \n",
       "\n",
       "        \n",
       "    \n",
       "            var tile_layer_4cf799ac2fe18475695b0c03b7498eb0 = L.tileLayer(\n",
       "                &quot;https://{s}.tile.openstreetmap.org/{z}/{x}/{y}.png&quot;,\n",
       "                {&quot;attribution&quot;: &quot;Data by \\u0026copy; \\u003ca href=\\&quot;http://openstreetmap.org\\&quot;\\u003eOpenStreetMap\\u003c/a\\u003e, under \\u003ca href=\\&quot;http://www.openstreetmap.org/copyright\\&quot;\\u003eODbL\\u003c/a\\u003e.&quot;, &quot;detectRetina&quot;: false, &quot;maxNativeZoom&quot;: 18, &quot;maxZoom&quot;: 18, &quot;minZoom&quot;: 0, &quot;noWrap&quot;: false, &quot;opacity&quot;: 1, &quot;subdomains&quot;: &quot;abc&quot;, &quot;tms&quot;: false}\n",
       "            ).addTo(map_f65be22d96967b0c5a2931ec10aa498d);\n",
       "        \n",
       "    \n",
       "            var marker_fe944ce574da57f3106a2b294fcc3bd5 = L.marker(\n",
       "                [37.78267840000001, -122.3983676],\n",
       "                {}\n",
       "            ).addTo(map_f65be22d96967b0c5a2931ec10aa498d);\n",
       "        \n",
       "    \n",
       "        var popup_a702f041ea3c3367833df79d3451d9f4 = L.popup({&quot;maxWidth&quot;: &quot;100%&quot;});\n",
       "\n",
       "        \n",
       "            var html_0ba39723b4f6938404e22221639a9f24 = $(`&lt;div id=&quot;html_0ba39723b4f6938404e22221639a9f24&quot; style=&quot;width: 100.0%; height: 100.0%;&quot;&gt;&lt;!DOCTYPE html&gt;     &lt;html&gt;     &lt;img src=https://therealdeal.com/sanfrancisco/wp-content/uploads/2022/04/MSF-Nektar-Therapeutics-to-jettison-500-jobs-and-200K-sf-of-office-space-705x439.jpg width=&quot;256&quot; height=&quot;156&quot;&gt;&lt;br&gt;______________________________________&lt;br&gt;     Company: &lt;strong&gt;&lt;a href=&quot;https://therealdeal.com/sanfrancisco/2022/04/27/nektar-therapeutics-looks-to-sublease-200k-sf-in-mission-bay/&quot;&gt;Nektar Therapeutics&lt;/a&gt; &lt;/strong&gt;&lt;br&gt;     Address(es) vacated or to be vacated: &lt;em&gt;450 Mission Bay Boulevard and 360 Third Street, San Francisco&lt;/em&gt;&lt;br&gt;     Net decline in footprint: &lt;strong&gt;&lt;em&gt;About 200K sf &lt;/strong&gt;&lt;/em&gt;&lt;br&gt;&lt;br&gt;     Amount of space vacated or to be vacated: &lt;strong&gt;&lt;em&gt;Almost 200K sf &lt;/strong&gt;&lt;/em&gt;        &lt;/html&gt;     &lt;/div&gt;`)[0];\n",
       "            popup_a702f041ea3c3367833df79d3451d9f4.setContent(html_0ba39723b4f6938404e22221639a9f24);\n",
       "        \n",
       "\n",
       "        marker_fe944ce574da57f3106a2b294fcc3bd5.bindPopup(popup_a702f041ea3c3367833df79d3451d9f4)\n",
       "        ;\n",
       "\n",
       "        \n",
       "    \n",
       "    \n",
       "            var marker_9ce73740da9ca3c45b82ff79df446918 = L.marker(\n",
       "                [37.3945198, -122.0503021],\n",
       "                {}\n",
       "            ).addTo(map_f65be22d96967b0c5a2931ec10aa498d);\n",
       "        \n",
       "    \n",
       "        var popup_e037bd645d6fd50cff9da4d19a6353ea = L.popup({&quot;maxWidth&quot;: &quot;100%&quot;});\n",
       "\n",
       "        \n",
       "            var html_79f7ad1ae6ba501983595f586b0e33a9 = $(`&lt;div id=&quot;html_79f7ad1ae6ba501983595f586b0e33a9&quot; style=&quot;width: 100.0%; height: 100.0%;&quot;&gt;&lt;!DOCTYPE html&gt;     &lt;html&gt;     &lt;img src=https://therealdeal.com/sanfrancisco/wp-content/uploads/2022/04/main_SF_Synopsys-705x439.jpg width=&quot;256&quot; height=&quot;156&quot;&gt;&lt;br&gt;______________________________________&lt;br&gt;     Company: &lt;strong&gt;&lt;a href=&quot;https://therealdeal.com/sanfrancisco/2022/04/28/waymo-grows-mountain-view-hq-on-170k-sf-office-sublease/&quot;&gt;Synopsys&lt;/a&gt; &lt;/strong&gt;&lt;br&gt;     Address(es) vacated or to be vacated: &lt;em&gt;690 East Middlefield Road, Mountain View, upon the expiration of lease agreement with its landlord. Synopsys is subleasing the building to Waymo and has shifted employees from the property to its Sunnyvale campus.&lt;/em&gt;&lt;br&gt;     Net decline in footprint: &lt;strong&gt;&lt;em&gt;18K sf &lt;/strong&gt;&lt;/em&gt;&lt;br&gt;&lt;br&gt;     Amount of space vacated or to be vacated: &lt;strong&gt;&lt;em&gt;About 170K sf&lt;/strong&gt;&lt;/em&gt;        &lt;/html&gt;     &lt;/div&gt;`)[0];\n",
       "            popup_e037bd645d6fd50cff9da4d19a6353ea.setContent(html_79f7ad1ae6ba501983595f586b0e33a9);\n",
       "        \n",
       "\n",
       "        marker_9ce73740da9ca3c45b82ff79df446918.bindPopup(popup_e037bd645d6fd50cff9da4d19a6353ea)\n",
       "        ;\n",
       "\n",
       "        \n",
       "    \n",
       "    \n",
       "            var marker_2334ee080547efc44145774ec10e3c34 = L.marker(\n",
       "                [37.790507, -122.3990375],\n",
       "                {}\n",
       "            ).addTo(map_f65be22d96967b0c5a2931ec10aa498d);\n",
       "        \n",
       "    \n",
       "        var popup_463fcb141d3b2bffd58dd5f97d2d14f2 = L.popup({&quot;maxWidth&quot;: &quot;100%&quot;});\n",
       "\n",
       "        \n",
       "            var html_4b25d00b15669d6cc4787f18784b1c47 = $(`&lt;div id=&quot;html_4b25d00b15669d6cc4787f18784b1c47&quot; style=&quot;width: 100.0%; height: 100.0%;&quot;&gt;&lt;!DOCTYPE html&gt;     &lt;html&gt;     &lt;img src=https://therealdeal.com/sanfrancisco/wp-content/uploads/2022/01/SFO-Sephora-takes-286K-sf-in-SF-citys-biggest-Covid-era-office-lease-FEATUREIMG.jpg width=&quot;256&quot; height=&quot;156&quot;&gt;&lt;br&gt;______________________________________&lt;br&gt;     Company: &lt;strong&gt;&lt;a href=&quot;https://therealdeal.com/sanfrancisco/2022/01/14/sephora-takes-286k-sf-in-sf-citys-biggest-covid-era-office-lease/&quot;&gt;Sephora&lt;/a&gt; &lt;/strong&gt;&lt;br&gt;     Address(es) vacated or to be vacated: &lt;em&gt;425 and 525 Market Street, San Francisco &lt;/em&gt;&lt;br&gt;     Net decline in footprint: &lt;strong&gt;&lt;em&gt;23K sf&lt;/strong&gt;&lt;/em&gt;&lt;br&gt;&lt;br&gt;     Amount of space vacated or to be vacated: &lt;strong&gt;&lt;em&gt;309K sf &lt;/strong&gt;&lt;/em&gt;        &lt;/html&gt;     &lt;/div&gt;`)[0];\n",
       "            popup_463fcb141d3b2bffd58dd5f97d2d14f2.setContent(html_4b25d00b15669d6cc4787f18784b1c47);\n",
       "        \n",
       "\n",
       "        marker_2334ee080547efc44145774ec10e3c34.bindPopup(popup_463fcb141d3b2bffd58dd5f97d2d14f2)\n",
       "        ;\n",
       "\n",
       "        \n",
       "    \n",
       "    \n",
       "            var marker_302b9d7382a41548af6c8b37e90a7715 = L.marker(\n",
       "                [37.7913674, -122.4028796],\n",
       "                {}\n",
       "            ).addTo(map_f65be22d96967b0c5a2931ec10aa498d);\n",
       "        \n",
       "    \n",
       "        var popup_437f2c7dcbf2f8547e6bc93f1c120dfa = L.popup({&quot;maxWidth&quot;: &quot;100%&quot;});\n",
       "\n",
       "        \n",
       "            var html_803da8d3dabaad7113d360d92ec97243 = $(`&lt;div id=&quot;html_803da8d3dabaad7113d360d92ec97243&quot; style=&quot;width: 100.0%; height: 100.0%;&quot;&gt;&lt;!DOCTYPE html&gt;     &lt;html&gt;     &lt;img src=https://therealdeal.com/sanfrancisco/wp-content/uploads/2022/06/main-SF-Farella-Braun-Martel-to-downsize-HQ-in-San-Francisco-705x439.jpg width=&quot;256&quot; height=&quot;156&quot;&gt;&lt;br&gt;______________________________________&lt;br&gt;     Company: &lt;strong&gt;&lt;a href=&quot;https://therealdeal.com/sanfrancisco/2022/06/06/farella-braun-martel-to-downsize-hq-in-san-francisco/&quot;&gt;Farella Braun +&lt;/a&gt; Martel&lt;/strong&gt;&lt;br&gt;     Address(es) vacated or to be vacated: &lt;em&gt;235 Montgomery Street, San Francisco&lt;/em&gt;&lt;br&gt;     Net decline in footprint: &lt;strong&gt;&lt;em&gt;85K sf&lt;/strong&gt;&lt;/em&gt;&lt;br&gt;&lt;br&gt;     Amount of space vacated or to be vacated: &lt;strong&gt;&lt;em&gt;125K sf&lt;/strong&gt;&lt;/em&gt;        &lt;/html&gt;     &lt;/div&gt;`)[0];\n",
       "            popup_437f2c7dcbf2f8547e6bc93f1c120dfa.setContent(html_803da8d3dabaad7113d360d92ec97243);\n",
       "        \n",
       "\n",
       "        marker_302b9d7382a41548af6c8b37e90a7715.bindPopup(popup_437f2c7dcbf2f8547e6bc93f1c120dfa)\n",
       "        ;\n",
       "\n",
       "        \n",
       "    \n",
       "    \n",
       "            var marker_61e5060a65afe73bf721f41a3ac323e2 = L.marker(\n",
       "                [37.7827679, -122.3913735],\n",
       "                {}\n",
       "            ).addTo(map_f65be22d96967b0c5a2931ec10aa498d);\n",
       "        \n",
       "    \n",
       "        var popup_abed4c9b1460b57b24b5d8e8ed280316 = L.popup({&quot;maxWidth&quot;: &quot;100%&quot;});\n",
       "\n",
       "        \n",
       "            var html_01d8925dc1ee7835fac6b27a2731d165 = $(`&lt;div id=&quot;html_01d8925dc1ee7835fac6b27a2731d165&quot; style=&quot;width: 100.0%; height: 100.0%;&quot;&gt;&lt;!DOCTYPE html&gt;     &lt;html&gt;     &lt;img src=https://therealdeal.com/sanfrancisco/wp-content/uploads/2022/05/main-Splunk-vacates-SF-headquarters-trims-100K-sf-in-move-next-door--705x439.jpg width=&quot;256&quot; height=&quot;156&quot;&gt;&lt;br&gt;______________________________________&lt;br&gt;     Company: &lt;strong&gt;&lt;a href=&quot;https://therealdeal.com/sanfrancisco/2022/05/09/splunk-vacates-sf-headquarters-trims-100k-sf-in-move-next-door/&quot;&gt;Splunk&lt;/a&gt; &lt;/strong&gt;&lt;br&gt;     Address(es) vacated or to be vacated: &lt;em&gt;270 Brannan Street, San Francisco&lt;/em&gt;&lt;br&gt;     Net decline in footprint: &lt;strong&gt;&lt;em&gt;115K sf&lt;/strong&gt;&lt;/em&gt;&lt;br&gt;&lt;br&gt;     Amount of space vacated or to be vacated: &lt;strong&gt;&lt;em&gt;115K sf &lt;/strong&gt;&lt;/em&gt;        &lt;/html&gt;     &lt;/div&gt;`)[0];\n",
       "            popup_abed4c9b1460b57b24b5d8e8ed280316.setContent(html_01d8925dc1ee7835fac6b27a2731d165);\n",
       "        \n",
       "\n",
       "        marker_61e5060a65afe73bf721f41a3ac323e2.bindPopup(popup_abed4c9b1460b57b24b5d8e8ed280316)\n",
       "        ;\n",
       "\n",
       "        \n",
       "    \n",
       "    \n",
       "            var marker_a66df47a042493bc06bbf9c91f4c5801 = L.marker(\n",
       "                [37.7749419, -122.417114],\n",
       "                {}\n",
       "            ).addTo(map_f65be22d96967b0c5a2931ec10aa498d);\n",
       "        \n",
       "    \n",
       "        var popup_0c0ea6a879981a2222d58e2f2f949944 = L.popup({&quot;maxWidth&quot;: &quot;100%&quot;});\n",
       "\n",
       "        \n",
       "            var html_620f95a40ec7c3bae9fe8e576bb4aac4 = $(`&lt;div id=&quot;html_620f95a40ec7c3bae9fe8e576bb4aac4&quot; style=&quot;width: 100.0%; height: 100.0%;&quot;&gt;&lt;!DOCTYPE html&gt;     &lt;html&gt;     &lt;img src=https://therealdeal.com/sanfrancisco/wp-content/uploads/2022/06/Block-to-pull-out-of-SFs-Mid-Market-after-delisting-HQ-705x466.jpg width=&quot;256&quot; height=&quot;156&quot;&gt;&lt;br&gt;______________________________________&lt;br&gt;     Company: &lt;strong&gt;&lt;a href=&quot;https://therealdeal.com/sanfrancisco/2022/06/16/block-to-pull-out-of-sfs-mid-market-after-delisting-hq/&quot;&gt;Block&lt;/a&gt; &lt;/strong&gt;&lt;br&gt;     Address(es) vacated or to be vacated: &lt;em&gt;1455 Market Street, San Francisco&lt;/em&gt;&lt;br&gt;     Net decline in footprint: &lt;strong&gt;&lt;em&gt;470K sf&lt;/strong&gt;&lt;/em&gt;&lt;br&gt;&lt;br&gt;     Amount of space vacated or to be vacated: &lt;strong&gt;&lt;em&gt;470K sf&lt;/strong&gt;&lt;/em&gt;        &lt;/html&gt;     &lt;/div&gt;`)[0];\n",
       "            popup_0c0ea6a879981a2222d58e2f2f949944.setContent(html_620f95a40ec7c3bae9fe8e576bb4aac4);\n",
       "        \n",
       "\n",
       "        marker_a66df47a042493bc06bbf9c91f4c5801.bindPopup(popup_0c0ea6a879981a2222d58e2f2f949944)\n",
       "        ;\n",
       "\n",
       "        \n",
       "    \n",
       "    \n",
       "            var marker_52215b76d9555dc2e3e47744293c4c66 = L.marker(\n",
       "                [37.792549, -122.3930995],\n",
       "                {}\n",
       "            ).addTo(map_f65be22d96967b0c5a2931ec10aa498d);\n",
       "        \n",
       "    \n",
       "        var popup_9945573db1b32194d3ff87a9f529845f = L.popup({&quot;maxWidth&quot;: &quot;100%&quot;});\n",
       "\n",
       "        \n",
       "            var html_951234410b12ffbdac9e91d05ada1d37 = $(`&lt;div id=&quot;html_951234410b12ffbdac9e91d05ada1d37&quot; style=&quot;width: 100.0%; height: 100.0%;&quot;&gt;&lt;!DOCTYPE html&gt;     &lt;html&gt;     &lt;img src=https://therealdeal.com/sanfrancisco/wp-content/uploads/2022/06/Twilio-goes-remote-first-downsizes-HQ-offices-in-San-Francisco-705x466.jpg width=&quot;256&quot; height=&quot;156&quot;&gt;&lt;br&gt;______________________________________&lt;br&gt;     Company: &lt;strong&gt;&lt;a href=&quot;https://therealdeal.com/sanfrancisco/2022/06/09/twilio-downsizes-san-francisco-hq-goes-remote-first/&quot;&gt;Twilio&lt;/a&gt;&lt;/strong&gt;&lt;br&gt;     Address(es) vacated or to be vacated: &lt;em&gt;101 Spear Street, San Francisco. Twilio is not vacating the entire property but is instead downsizing to two floors of offices from five.&lt;/em&gt;&lt;br&gt;     Net decline in footprint: &lt;strong&gt;&lt;em&gt;Three floors of offices, exact square footage unknown&lt;/strong&gt;&lt;/em&gt;&lt;br&gt;&lt;br&gt;     Amount of space vacated or to be vacated: &lt;strong&gt;&lt;em&gt;Three floors of offices. The company now occupies two floors in San Francisco&#x27;s Rincon Center after previously leasing five, which contained about 241K sf of space combined. &lt;/strong&gt;&lt;/em&gt;        &lt;/html&gt;     &lt;/div&gt;`)[0];\n",
       "            popup_9945573db1b32194d3ff87a9f529845f.setContent(html_951234410b12ffbdac9e91d05ada1d37);\n",
       "        \n",
       "\n",
       "        marker_52215b76d9555dc2e3e47744293c4c66.bindPopup(popup_9945573db1b32194d3ff87a9f529845f)\n",
       "        ;\n",
       "\n",
       "        \n",
       "    \n",
       "    \n",
       "            var marker_6374be15cbbecd2bc80da865c122d786 = L.marker(\n",
       "                [37.7913266, -122.3963941],\n",
       "                {}\n",
       "            ).addTo(map_f65be22d96967b0c5a2931ec10aa498d);\n",
       "        \n",
       "    \n",
       "        var popup_97481b38524a375408b97ab454e4a2ba = L.popup({&quot;maxWidth&quot;: &quot;100%&quot;});\n",
       "\n",
       "        \n",
       "            var html_ea6ba50b9317173a597107124c21c456 = $(`&lt;div id=&quot;html_ea6ba50b9317173a597107124c21c456&quot; style=&quot;width: 100.0%; height: 100.0%;&quot;&gt;&lt;!DOCTYPE html&gt;     &lt;html&gt;     &lt;img src=https://therealdeal.com/sanfrancisco/wp-content/uploads/2022/01/SFO-Autodesk-to-close-117K-sf-San-Francisco-office-eight-months-after-opening-it-MAIN.jpg width=&quot;256&quot; height=&quot;156&quot;&gt;&lt;br&gt;______________________________________&lt;br&gt;     Company: &lt;strong&gt;&lt;a href=&quot;https://therealdeal.com/sanfrancisco/2022/01/12/autodesk-to-close-117k-sf-san-francisco-office-eight-months-after-opening-it/&quot;&gt;Autodesk&lt;/a&gt; &lt;/strong&gt;&lt;br&gt;     Address(es) vacated or to be vacated: &lt;em&gt;300 Mission Street, San Francisco&lt;/em&gt;&lt;br&gt;     Net decline in footprint: &lt;strong&gt;&lt;em&gt;117K sf&lt;/strong&gt;&lt;/em&gt;&lt;br&gt;&lt;br&gt;     Amount of space vacated or to be vacated: &lt;strong&gt;&lt;em&gt;117K sf &lt;/strong&gt;&lt;/em&gt;        &lt;/html&gt;     &lt;/div&gt;`)[0];\n",
       "            popup_97481b38524a375408b97ab454e4a2ba.setContent(html_ea6ba50b9317173a597107124c21c456);\n",
       "        \n",
       "\n",
       "        marker_6374be15cbbecd2bc80da865c122d786.bindPopup(popup_97481b38524a375408b97ab454e4a2ba)\n",
       "        ;\n",
       "\n",
       "        \n",
       "    \n",
       "    \n",
       "            var marker_88ee0a471d0761b996d70a825f9f63cc = L.marker(\n",
       "                [37.3833106, -121.9726404],\n",
       "                {}\n",
       "            ).addTo(map_f65be22d96967b0c5a2931ec10aa498d);\n",
       "        \n",
       "    \n",
       "        var popup_0bad9fefbfb305633449eb9e6c621889 = L.popup({&quot;maxWidth&quot;: &quot;100%&quot;});\n",
       "\n",
       "        \n",
       "            var html_ff2d7342bfcdfaaaa7bbb1370074ce77 = $(`&lt;div id=&quot;html_ff2d7342bfcdfaaaa7bbb1370074ce77&quot; style=&quot;width: 100.0%; height: 100.0%;&quot;&gt;&lt;!DOCTYPE html&gt;     &lt;html&gt;     &lt;img src=https://therealdeal.com/sanfrancisco/wp-content/uploads/2022/06/main-SF-Pure-Storage-upgrades-HQ-in-move-to-Santa-Clara-705x439.jpg width=&quot;256&quot; height=&quot;156&quot;&gt;&lt;br&gt;______________________________________&lt;br&gt;     Company: &lt;strong&gt;&lt;a href=&quot;https://therealdeal.com/sanfrancisco/2022/06/06/pure-storage-takes-330k-sf-in-santa-clara-sublease/&quot;&gt;Analog Devices&lt;/a&gt;&lt;/strong&gt;&lt;br&gt;     Address(es) vacated or to be vacated: &lt;em&gt;2555 and 2565 Augustine Drive, Santa Clara&lt;/em&gt;&lt;br&gt;     Net decline in footprint: &lt;strong&gt;&lt;em&gt;About 330K sf&lt;/strong&gt;&lt;/em&gt;&lt;br&gt;&lt;br&gt;     Amount of space vacated or to be vacated: &lt;strong&gt;&lt;em&gt;About 330K sf&lt;/strong&gt;&lt;/em&gt;        &lt;/html&gt;     &lt;/div&gt;`)[0];\n",
       "            popup_0bad9fefbfb305633449eb9e6c621889.setContent(html_ff2d7342bfcdfaaaa7bbb1370074ce77);\n",
       "        \n",
       "\n",
       "        marker_88ee0a471d0761b996d70a825f9f63cc.bindPopup(popup_0bad9fefbfb305633449eb9e6c621889)\n",
       "        ;\n",
       "\n",
       "        \n",
       "    \n",
       "    \n",
       "            var marker_7f5d97d0f0c22186753c470475165ca9 = L.marker(\n",
       "                [37.791073, -122.393397],\n",
       "                {}\n",
       "            ).addTo(map_f65be22d96967b0c5a2931ec10aa498d);\n",
       "        \n",
       "    \n",
       "        var popup_4bbb7913b1c6b987822b64bc8d01bbb1 = L.popup({&quot;maxWidth&quot;: &quot;100%&quot;});\n",
       "\n",
       "        \n",
       "            var html_ddb7ae573d95a9c7937e27b43255c38d = $(`&lt;div id=&quot;html_ddb7ae573d95a9c7937e27b43255c38d&quot; style=&quot;width: 100.0%; height: 100.0%;&quot;&gt;&lt;!DOCTYPE html&gt;     &lt;html&gt;     &lt;img src=https://therealdeal.com/sanfrancisco/wp-content/uploads/2022/05/main-SF-State-Bar-to-sell-250K-sf-HQ-building-in-San-Francisco-705x439.jpg width=&quot;256&quot; height=&quot;156&quot;&gt;&lt;br&gt;______________________________________&lt;br&gt;     Company: &lt;strong&gt;&lt;a href=&quot;https://therealdeal.com/sanfrancisco/2022/05/12/state-bar-to-sell-250k-sf-hq-building-in-san-francisco/&quot;&gt;State Bar of&lt;/a&gt; California&lt;/strong&gt;&lt;br&gt;     Address(es) vacated or to be vacated: &lt;em&gt;180 Howard Street, San Francisco &lt;/em&gt;&lt;br&gt;     Net decline in footprint: &lt;strong&gt;&lt;em&gt;To be determined. The State Bar plans to find a new space in the Bay Area, either through a purchase or a lease. &lt;/strong&gt;&lt;/em&gt;&lt;br&gt;&lt;br&gt;     Amount of space vacated or to be vacated: &lt;strong&gt;&lt;em&gt;250K sf&lt;/strong&gt;&lt;/em&gt;        &lt;/html&gt;     &lt;/div&gt;`)[0];\n",
       "            popup_4bbb7913b1c6b987822b64bc8d01bbb1.setContent(html_ddb7ae573d95a9c7937e27b43255c38d);\n",
       "        \n",
       "\n",
       "        marker_7f5d97d0f0c22186753c470475165ca9.bindPopup(popup_4bbb7913b1c6b987822b64bc8d01bbb1)\n",
       "        ;\n",
       "\n",
       "        \n",
       "    \n",
       "    \n",
       "            var marker_a3755693d24502103bec260d3cc9347e = L.marker(\n",
       "                [37.7899519, -122.3947492],\n",
       "                {}\n",
       "            ).addTo(map_f65be22d96967b0c5a2931ec10aa498d);\n",
       "        \n",
       "    \n",
       "        var popup_8bec13178ce8a3d6ae2e6fa8c013a1e3 = L.popup({&quot;maxWidth&quot;: &quot;100%&quot;});\n",
       "\n",
       "        \n",
       "            var html_17d64a46af7360adef4afd9ef620c9bb = $(`&lt;div id=&quot;html_17d64a46af7360adef4afd9ef620c9bb&quot; style=&quot;width: 100.0%; height: 100.0%;&quot;&gt;&lt;!DOCTYPE html&gt;     &lt;html&gt;     &lt;img src=https://therealdeal.com/sanfrancisco/wp-content/uploads/2022/04/main-PayPal-subsidiary-trades-office-in-DTSF-for-remote-work-San-Jose-option-705x439.jpg width=&quot;256&quot; height=&quot;156&quot;&gt;&lt;br&gt;______________________________________&lt;br&gt;     Company: &lt;strong&gt;&lt;a href=&quot;https://therealdeal.com/sanfrancisco/2022/04/28/paypal-subsidiary-trades-office-in-dtsf-for-remote-work-san-jose-option/&quot;&gt;PayPal&lt;/a&gt; &lt;/strong&gt;&lt;br&gt;     Address(es) vacated or to be vacated: &lt;em&gt;425 Market Street, San Francisco&lt;/em&gt;&lt;br&gt;     Net decline in footprint: &lt;strong&gt;&lt;em&gt;About 80K sf&lt;/strong&gt;&lt;/em&gt;&lt;br&gt;&lt;br&gt;     Amount of space vacated or to be vacated: &lt;strong&gt;&lt;em&gt;About 80K sf&lt;/strong&gt;&lt;/em&gt;        &lt;/html&gt;     &lt;/div&gt;`)[0];\n",
       "            popup_8bec13178ce8a3d6ae2e6fa8c013a1e3.setContent(html_17d64a46af7360adef4afd9ef620c9bb);\n",
       "        \n",
       "\n",
       "        marker_a3755693d24502103bec260d3cc9347e.bindPopup(popup_8bec13178ce8a3d6ae2e6fa8c013a1e3)\n",
       "        ;\n",
       "\n",
       "        \n",
       "    \n",
       "    \n",
       "            var marker_ffa8127cea1f9f8c3fb8ff5379f3e020 = L.marker(\n",
       "                [37.7927653, -122.3979675],\n",
       "                {}\n",
       "            ).addTo(map_f65be22d96967b0c5a2931ec10aa498d);\n",
       "        \n",
       "    \n",
       "        var popup_d9fccfbdb37c0afb26e19c95f15d31dd = L.popup({&quot;maxWidth&quot;: &quot;100%&quot;});\n",
       "\n",
       "        \n",
       "            var html_29246d74c2087511074d5c28ce68443d = $(`&lt;div id=&quot;html_29246d74c2087511074d5c28ce68443d&quot; style=&quot;width: 100.0%; height: 100.0%;&quot;&gt;&lt;!DOCTYPE html&gt;     &lt;html&gt;     &lt;img src=https://therealdeal.com/sanfrancisco/wp-content/uploads/2022/02/main_SF_Merrill-Lynch-705x439.jpg width=&quot;256&quot; height=&quot;156&quot;&gt;&lt;br&gt;______________________________________&lt;br&gt;     Company: &lt;strong&gt;&lt;a href=&quot;https://therealdeal.com/sanfrancisco/2022/02/04/merrill-lynch-to-leave-the-san-francisco-building-its-called-home-for-more-than-20-years/&quot;&gt;Merrill (formerly&lt;/a&gt; Merrill Lynch)&lt;/strong&gt;&lt;br&gt;     Address(es) vacated or to be vacated: &lt;em&gt;101 California Street, San Francisco&lt;/em&gt;&lt;br&gt;     Net decline in footprint: &lt;strong&gt;&lt;em&gt;About 102K sf&lt;/strong&gt;&lt;/em&gt;&lt;br&gt;&lt;br&gt;     Amount of space vacated or to be vacated: &lt;strong&gt;&lt;em&gt;About 102K sf&lt;/strong&gt;&lt;/em&gt;        &lt;/html&gt;     &lt;/div&gt;`)[0];\n",
       "            popup_d9fccfbdb37c0afb26e19c95f15d31dd.setContent(html_29246d74c2087511074d5c28ce68443d);\n",
       "        \n",
       "\n",
       "        marker_ffa8127cea1f9f8c3fb8ff5379f3e020.bindPopup(popup_d9fccfbdb37c0afb26e19c95f15d31dd)\n",
       "        ;\n",
       "\n",
       "        \n",
       "    \n",
       "    \n",
       "            var marker_38f1106ed2edc7d9d1c156cb76f95cbc = L.marker(\n",
       "                [37.3772795, -121.9696175],\n",
       "                {}\n",
       "            ).addTo(map_f65be22d96967b0c5a2931ec10aa498d);\n",
       "        \n",
       "    \n",
       "        var popup_2376ca6244a0a9cd0f52041ac98e9102 = L.popup({&quot;maxWidth&quot;: &quot;100%&quot;});\n",
       "\n",
       "        \n",
       "            var html_5e10aaedfef2b8e93cf1df32ec6c11cb = $(`&lt;div id=&quot;html_5e10aaedfef2b8e93cf1df32ec6c11cb&quot; style=&quot;width: 100.0%; height: 100.0%;&quot;&gt;&lt;!DOCTYPE html&gt;     &lt;html&gt;     &lt;img src=https://therealdeal.com/sanfrancisco/wp-content/uploads/2022/06/Chipmaker-with-27B-market-cap-signs-92K-sf-office-lease-in-North-San-Jose-705x466.jpg width=&quot;256&quot; height=&quot;156&quot;&gt;&lt;br&gt;______________________________________&lt;br&gt;     Company: &lt;strong&gt;&lt;a href=&quot;https://therealdeal.com/sanfrancisco/2022/06/10/27b-chipmaker-signs-92k-sf-office-lease-in-north-san-jose/&quot;&gt;Onsemi&lt;/a&gt; &lt;/strong&gt;&lt;br&gt;     Address(es) vacated or to be vacated: &lt;em&gt;2975 and 3001 Stender Way, Santa Clara &lt;/em&gt;&lt;br&gt;     Net decline in footprint: &lt;strong&gt;&lt;em&gt;Almost 18K sf&lt;/strong&gt;&lt;/em&gt;&lt;br&gt;&lt;br&gt;     Amount of space vacated or to be vacated: &lt;strong&gt;&lt;em&gt;About 110K sf&lt;/strong&gt;&lt;/em&gt;        &lt;/html&gt;     &lt;/div&gt;`)[0];\n",
       "            popup_2376ca6244a0a9cd0f52041ac98e9102.setContent(html_5e10aaedfef2b8e93cf1df32ec6c11cb);\n",
       "        \n",
       "\n",
       "        marker_38f1106ed2edc7d9d1c156cb76f95cbc.bindPopup(popup_2376ca6244a0a9cd0f52041ac98e9102)\n",
       "        ;\n",
       "\n",
       "        \n",
       "    \n",
       "    \n",
       "            var marker_506f1e7917616c65f559f9bcf41fdd6e = L.marker(\n",
       "                [37.4173994, -121.9474444],\n",
       "                {}\n",
       "            ).addTo(map_f65be22d96967b0c5a2931ec10aa498d);\n",
       "        \n",
       "    \n",
       "        var popup_a34f735deb5730fb0aa898f4abc1f65a = L.popup({&quot;maxWidth&quot;: &quot;100%&quot;});\n",
       "\n",
       "        \n",
       "            var html_0762ac0d28588b910a8d2e891fe9b329 = $(`&lt;div id=&quot;html_0762ac0d28588b910a8d2e891fe9b329&quot; style=&quot;width: 100.0%; height: 100.0%;&quot;&gt;&lt;!DOCTYPE html&gt;     &lt;html&gt;     &lt;img src=https://therealdeal.com/sanfrancisco/wp-content/uploads/2022/06/Chipmaker-with-27B-market-cap-signs-92K-sf-office-lease-in-North-San-Jose-705x466.jpg width=&quot;256&quot; height=&quot;156&quot;&gt;&lt;br&gt;______________________________________&lt;br&gt;     Company: &lt;strong&gt;&lt;a href=&quot;https://therealdeal.com/sanfrancisco/2022/06/10/27b-chipmaker-signs-92k-sf-office-lease-in-north-san-jose/&quot;&gt;Arm&lt;/a&gt; &lt;/strong&gt;&lt;br&gt;     Address(es) vacated or to be vacated: &lt;em&gt;150 Rose Orchard Way, San Jose&lt;/em&gt;&lt;br&gt;     Net decline in footprint: &lt;strong&gt;&lt;em&gt;92.5K sf&lt;/strong&gt;&lt;/em&gt;&lt;br&gt;&lt;br&gt;     Amount of space vacated or to be vacated: &lt;strong&gt;&lt;em&gt;92.5K sf&lt;/strong&gt;&lt;/em&gt;        &lt;/html&gt;     &lt;/div&gt;`)[0];\n",
       "            popup_a34f735deb5730fb0aa898f4abc1f65a.setContent(html_0762ac0d28588b910a8d2e891fe9b329);\n",
       "        \n",
       "\n",
       "        marker_506f1e7917616c65f559f9bcf41fdd6e.bindPopup(popup_a34f735deb5730fb0aa898f4abc1f65a)\n",
       "        ;\n",
       "\n",
       "        \n",
       "    \n",
       "    \n",
       "            map_f65be22d96967b0c5a2931ec10aa498d.fitBounds(\n",
       "                [37.675174121428576, -122.2803131357143],\n",
       "                {&quot;maxZoom&quot;: 15}\n",
       "            );\n",
       "        \n",
       "&lt;/script&gt;\" style=\"position:absolute;width:100%;height:100%;left:0;top:0;border:none !important;\" allowfullscreen webkitallowfullscreen mozallowfullscreen></iframe></div></div>"
      ],
      "text/plain": [
       "<folium.folium.Map at 0x169654940>"
      ]
     },
     "execution_count": 72,
     "metadata": {},
     "output_type": "execute_result"
    }
   ],
   "source": [
    "import folium\n",
    "import branca\n",
    "\n",
    "f = folium.Figure(width=750, height=750)\n",
    "m = folium.Map(location=df[[\"lat\", \"lon\"]].mean().to_list(),zoom_start=9)\n",
    "\n",
    "title_html = '''\n",
    "              <h3 align=\"center\" style=\"font-size:16px\"><b>{}</b></h3>\n",
    "             '''.format(f'Bay Area companies that decided to downsize their footprints, January 2022 to July 2022')\n",
    "\n",
    "for i in range(0,len(df)):\n",
    "    html = popup_html(i)\n",
    "    iframe = branca.element.IFrame(html=html)\n",
    "    popup = folium.Popup(folium.Html(html, script=True))\n",
    "    folium.Marker([df['lat'].iloc[i],df['lon'].iloc[i]],\n",
    "                 popup=popup).add_to(m)\n",
    "\n",
    "m.get_root().html.add_child(folium.Element(title_html))\n",
    "m.fit_bounds(bounds=df[['lat','lon']].mean().to_list(),max_zoom=15)\n",
    "# m.add_to(f)\n",
    "m"
   ]
  },
  {
   "cell_type": "code",
   "execution_count": 73,
   "metadata": {},
   "outputs": [],
   "source": [
    "m.save('index.html')"
   ]
  },
  {
   "cell_type": "markdown",
   "metadata": {},
   "source": [
    "## Map URL snagger"
   ]
  },
  {
   "cell_type": "markdown",
   "metadata": {},
   "source": [
    "Map template URL: `https://trd-digital.github.io/trd-news-interactive-maps/{map-folder-name}`"
   ]
  },
  {
   "cell_type": "code",
   "execution_count": 69,
   "metadata": {},
   "outputs": [],
   "source": [
    "base_name = 'https://trd-digital.github.io/trd-news-interactive-maps/'"
   ]
  },
  {
   "cell_type": "code",
   "execution_count": 70,
   "metadata": {},
   "outputs": [
    {
     "name": "stdout",
     "output_type": "stream",
     "text": [
      "https://trd-digital.github.io/trd-news-interactive-maps/bay_area_company_downsize\n"
     ]
    }
   ],
   "source": [
    "cwd = os.getcwd()\n",
    "\n",
    "cwd = cwd.split('/')\n",
    "\n",
    "final_name = base_name + cwd[-1]\n",
    "print(final_name)"
   ]
  }
 ],
 "metadata": {
  "kernelspec": {
   "display_name": "Python 3 (ipykernel)",
   "language": "python",
   "name": "python3"
  },
  "language_info": {
   "codemirror_mode": {
    "name": "ipython",
    "version": 3
   },
   "file_extension": ".py",
   "mimetype": "text/x-python",
   "name": "python",
   "nbconvert_exporter": "python",
   "pygments_lexer": "ipython3",
   "version": "3.10.3"
  },
  "toc": {
   "base_numbering": 1,
   "nav_menu": {},
   "number_sections": true,
   "sideBar": true,
   "skip_h1_title": false,
   "title_cell": "Table of Contents",
   "title_sidebar": "Contents",
   "toc_cell": false,
   "toc_position": {},
   "toc_section_display": true,
   "toc_window_display": false
  }
 },
 "nbformat": 4,
 "nbformat_minor": 4
}
