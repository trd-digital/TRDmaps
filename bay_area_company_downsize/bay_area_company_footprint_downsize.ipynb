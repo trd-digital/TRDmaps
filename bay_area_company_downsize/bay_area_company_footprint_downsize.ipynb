{
 "cells": [
  {
   "cell_type": "markdown",
   "metadata": {},
   "source": [
    "## Imports"
   ]
  },
  {
   "cell_type": "code",
   "execution_count": 1,
   "metadata": {},
   "outputs": [],
   "source": [
    "from geopy.geocoders import GoogleV3\n",
    "from bs4 import BeautifulSoup\n",
    "import requests\n",
    "import time\n",
    "import pandas as pd\n",
    "import numpy as np\n",
    "import urllib3\n",
    "import re\n",
    "from textwrap import shorten\n",
    "import os"
   ]
  },
  {
   "cell_type": "code",
   "execution_count": 2,
   "metadata": {},
   "outputs": [],
   "source": [
    "df = pd.read_csv('Bay Area companies that decided to downsize their footprints, Jan. 1, 2022 to July 5, 2022 - Sheet1.csv')"
   ]
  },
  {
   "cell_type": "code",
   "execution_count": 3,
   "metadata": {},
   "outputs": [
    {
     "data": {
      "text/plain": [
       "Index(['Company name', 'Home city', 'Category',\n",
       "       'Amount of space company vacated or plans to vacate, in sf',\n",
       "       'Amount of space company leased or subleased during same time period, in sf',\n",
       "       'Net decline in footprint, in sf',\n",
       "       'Address(es) of space company vacated or plans to vacate, in sf',\n",
       "       'Address(es) of space company leased or subleased during same time period, in sf',\n",
       "       'Date TRD wrote about downsizing plans', 'Link to story'],\n",
       "      dtype='object')"
      ]
     },
     "execution_count": 3,
     "metadata": {},
     "output_type": "execute_result"
    }
   ],
   "source": [
    "df.columns"
   ]
  },
  {
   "cell_type": "markdown",
   "metadata": {},
   "source": [
    "## Image URL collector"
   ]
  },
  {
   "cell_type": "code",
   "execution_count": 63,
   "metadata": {},
   "outputs": [],
   "source": [
    "# Drop last n rows of a df. In case there are sums that need clipped\n",
    "# df.drop(df.tail(n).index, inplace=True)"
   ]
  },
  {
   "cell_type": "code",
   "execution_count": 4,
   "metadata": {},
   "outputs": [],
   "source": [
    "df['image_links'] = ''\n",
    "links = []\n",
    "for url in df['Link to story']:\n",
    "    try:\n",
    "        page = requests.get(url)\n",
    "        soup = BeautifulSoup(page.content, 'html.parser')\n",
    "        images = soup.find_all('img')\n",
    "        counter = 0\n",
    "        for image in images:\n",
    "            counter += 1\n",
    "            if 'jpg' in image['src']:\n",
    "                links.append(image['src'])\n",
    "                if counter == len(images):\n",
    "                    links.append('no image found')\n",
    "                break\n",
    "    except:\n",
    "        links.append('no_image')\n",
    "\n",
    "df['image_links'] = links"
   ]
  },
  {
   "cell_type": "markdown",
   "metadata": {},
   "source": [
    "## Article link formatter"
   ]
  },
  {
   "cell_type": "code",
   "execution_count": 5,
   "metadata": {},
   "outputs": [
    {
     "data": {
      "text/plain": [
       "14"
      ]
     },
     "execution_count": 5,
     "metadata": {},
     "output_type": "execute_result"
    }
   ],
   "source": [
    "len(links)"
   ]
  },
  {
   "cell_type": "code",
   "execution_count": 6,
   "metadata": {},
   "outputs": [
    {
     "data": {
      "text/plain": [
       "0                 Nektar Therapeutics \n",
       "1                            Synopsys \n",
       "2                             Sephora \n",
       "3               Farella Braun + Martel\n",
       "4                              Splunk \n",
       "5                               Block \n",
       "6                               Twilio\n",
       "7                            Autodesk \n",
       "8                       Analog Devices\n",
       "9              State Bar of California\n",
       "10                             PayPal \n",
       "11    Merrill (formerly Merrill Lynch)\n",
       "12                             Onsemi \n",
       "13                                Arm \n",
       "Name: Company name, dtype: object"
      ]
     },
     "execution_count": 6,
     "metadata": {},
     "output_type": "execute_result"
    }
   ],
   "source": [
    "df['Company name']"
   ]
  },
  {
   "cell_type": "code",
   "execution_count": 7,
   "metadata": {},
   "outputs": [
    {
     "data": {
      "text/plain": [
       "0     <a href=\"https://therealdeal.com/sanfrancisco/...\n",
       "1     <a href=\"https://therealdeal.com/sanfrancisco/...\n",
       "2     <a href=\"https://therealdeal.com/sanfrancisco/...\n",
       "3     <a href=\"https://therealdeal.com/sanfrancisco/...\n",
       "4     <a href=\"https://therealdeal.com/sanfrancisco/...\n",
       "5     <a href=\"https://therealdeal.com/sanfrancisco/...\n",
       "6     <a href=\"https://therealdeal.com/sanfrancisco/...\n",
       "7     <a href=\"https://therealdeal.com/sanfrancisco/...\n",
       "8     <a href=\"https://therealdeal.com/sanfrancisco/...\n",
       "9     <a href=\"https://therealdeal.com/sanfrancisco/...\n",
       "10    <a href=\"https://therealdeal.com/sanfrancisco/...\n",
       "11    <a href=\"https://therealdeal.com/sanfrancisco/...\n",
       "12    <a href=\"https://therealdeal.com/sanfrancisco/...\n",
       "13    <a href=\"https://therealdeal.com/sanfrancisco/...\n",
       "Name: description_link, dtype: object"
      ]
     },
     "execution_count": 7,
     "metadata": {},
     "output_type": "execute_result"
    }
   ],
   "source": [
    "df[\"short_description\"] = df[\"Company name\"].apply(lambda s: shorten(s, width=20, placeholder=\"\"))\n",
    "df['remaining_desc'] = df.apply(lambda row : row['Company name'].replace(str(row['short_description']), ''), axis=1)\n",
    "df['remaining_desc']\n",
    "\n",
    "df[\"description_link\"] = '<a href=\"' + df[\"Link to story\"] + '\">' + df[\"short_description\"] + \"</a>\" + df[\"remaining_desc\"]\n",
    "df['description_link']"
   ]
  },
  {
   "cell_type": "code",
   "execution_count": 8,
   "metadata": {},
   "outputs": [
    {
     "data": {
      "text/plain": [
       "'<a href=\"https://therealdeal.com/sanfrancisco/2022/04/27/nektar-therapeutics-looks-to-sublease-200k-sf-in-mission-bay/\">Nektar Therapeutics</a> '"
      ]
     },
     "execution_count": 8,
     "metadata": {},
     "output_type": "execute_result"
    }
   ],
   "source": [
    "df.description_link[0]"
   ]
  },
  {
   "cell_type": "markdown",
   "metadata": {},
   "source": [
    "## Google Maps API Geolocater Setup"
   ]
  },
  {
   "cell_type": "code",
   "execution_count": 9,
   "metadata": {},
   "outputs": [],
   "source": [
    "%store -r google_maps_API_Key\n",
    "geolocator = GoogleV3(api_key=google_maps_API_Key)"
   ]
  },
  {
   "cell_type": "code",
   "execution_count": 10,
   "metadata": {},
   "outputs": [],
   "source": [
    "df['geo_address'] = df['Address(es) of space company vacated or plans to vacate, in sf'] + ' CA'\n",
    "df['loc'] = df['geo_address'].apply(geolocator.geocode, timeout=10)\n",
    "df['point'] = df['loc'].apply(lambda loc: tuple(loc.point) if loc else None)\n",
    "df[['lat','lon','altitude']] = pd.DataFrame(df['point'].to_list(),index=df.index)"
   ]
  },
  {
   "cell_type": "markdown",
   "metadata": {},
   "source": [
    "## HTML popup formatter"
   ]
  },
  {
   "cell_type": "code",
   "execution_count": 11,
   "metadata": {},
   "outputs": [],
   "source": [
    "def popup_html(row):\n",
    "    i = row\n",
    "    address = df['Address(es) of space company leased or subleased during same time period, in sf'].iloc[i]\n",
    "    developer = df['Net decline in footprint, in sf'].iloc[i]\n",
    "    description = df['description_link'].iloc[i]\n",
    "    image = df['image_links'].iloc[i]\n",
    "    \n",
    "    html = '''<!DOCTYPE html>\n",
    "    <html>\n",
    "    <img src={} width=\"256\" height=\"156\">'''.format(image) + '''<br>______________________________________<br>\n",
    "    Address: <em>{}'''.format(address) + '''</em><br>\n",
    "    Size of property: <strong><em>{}'''.format(developer) + '''</strong></em><br><br>\n",
    "    Company Name: <strong>{}'''.format(description) + '''</strong></html>\n",
    "    '''\n",
    "    return html\n"
   ]
  },
  {
   "cell_type": "markdown",
   "metadata": {},
   "source": [
    "### HTML reservoir"
   ]
  },
  {
   "cell_type": "code",
   "execution_count": 72,
   "metadata": {},
   "outputs": [],
   "source": [
    "#     Developer(s): <strong><em>{}'''.format(developer) + '''</strong></em><br><br>"
   ]
  },
  {
   "cell_type": "markdown",
   "metadata": {},
   "source": [
    "## Map Maker"
   ]
  },
  {
   "cell_type": "code",
   "execution_count": 12,
   "metadata": {},
   "outputs": [
    {
     "data": {
      "text/plain": [
       "'<a href=\"https://therealdeal.com/sanfrancisco/2022/04/27/nektar-therapeutics-looks-to-sublease-200k-sf-in-mission-bay/\">Nektar Therapeutics</a> '"
      ]
     },
     "execution_count": 12,
     "metadata": {},
     "output_type": "execute_result"
    }
   ],
   "source": [
    "df.description_link[0]"
   ]
  },
  {
   "cell_type": "code",
   "execution_count": 13,
   "metadata": {},
   "outputs": [
    {
     "data": {
      "text/html": [
       "<div style=\"width:100%;\"><div style=\"position:relative;width:100%;height:0;padding-bottom:60%;\"><span style=\"color:#565656\">Make this Notebook Trusted to load map: File -> Trust Notebook</span><iframe srcdoc=\"&lt;!DOCTYPE html&gt;\n",
       "&lt;head&gt;    \n",
       "    &lt;meta http-equiv=&quot;content-type&quot; content=&quot;text/html; charset=UTF-8&quot; /&gt;\n",
       "    \n",
       "        &lt;script&gt;\n",
       "            L_NO_TOUCH = false;\n",
       "            L_DISABLE_3D = false;\n",
       "        &lt;/script&gt;\n",
       "    \n",
       "    &lt;style&gt;html, body {width: 100%;height: 100%;margin: 0;padding: 0;}&lt;/style&gt;\n",
       "    &lt;style&gt;#map {position:absolute;top:0;bottom:0;right:0;left:0;}&lt;/style&gt;\n",
       "    &lt;script src=&quot;https://cdn.jsdelivr.net/npm/leaflet@1.6.0/dist/leaflet.js&quot;&gt;&lt;/script&gt;\n",
       "    &lt;script src=&quot;https://code.jquery.com/jquery-1.12.4.min.js&quot;&gt;&lt;/script&gt;\n",
       "    &lt;script src=&quot;https://maxcdn.bootstrapcdn.com/bootstrap/3.2.0/js/bootstrap.min.js&quot;&gt;&lt;/script&gt;\n",
       "    &lt;script src=&quot;https://cdnjs.cloudflare.com/ajax/libs/Leaflet.awesome-markers/2.0.2/leaflet.awesome-markers.js&quot;&gt;&lt;/script&gt;\n",
       "    &lt;link rel=&quot;stylesheet&quot; href=&quot;https://cdn.jsdelivr.net/npm/leaflet@1.6.0/dist/leaflet.css&quot;/&gt;\n",
       "    &lt;link rel=&quot;stylesheet&quot; href=&quot;https://maxcdn.bootstrapcdn.com/bootstrap/3.2.0/css/bootstrap.min.css&quot;/&gt;\n",
       "    &lt;link rel=&quot;stylesheet&quot; href=&quot;https://maxcdn.bootstrapcdn.com/bootstrap/3.2.0/css/bootstrap-theme.min.css&quot;/&gt;\n",
       "    &lt;link rel=&quot;stylesheet&quot; href=&quot;https://maxcdn.bootstrapcdn.com/font-awesome/4.6.3/css/font-awesome.min.css&quot;/&gt;\n",
       "    &lt;link rel=&quot;stylesheet&quot; href=&quot;https://cdnjs.cloudflare.com/ajax/libs/Leaflet.awesome-markers/2.0.2/leaflet.awesome-markers.css&quot;/&gt;\n",
       "    &lt;link rel=&quot;stylesheet&quot; href=&quot;https://cdn.jsdelivr.net/gh/python-visualization/folium/folium/templates/leaflet.awesome.rotate.min.css&quot;/&gt;\n",
       "    \n",
       "            &lt;meta name=&quot;viewport&quot; content=&quot;width=device-width,\n",
       "                initial-scale=1.0, maximum-scale=1.0, user-scalable=no&quot; /&gt;\n",
       "            &lt;style&gt;\n",
       "                #map_7b36f21de37c0e67e3039ac4bc1cbdd2 {\n",
       "                    position: relative;\n",
       "                    width: 100.0%;\n",
       "                    height: 100.0%;\n",
       "                    left: 0.0%;\n",
       "                    top: 0.0%;\n",
       "                }\n",
       "            &lt;/style&gt;\n",
       "        \n",
       "&lt;/head&gt;\n",
       "&lt;body&gt;    \n",
       "    \n",
       "              &lt;h3 align=&quot;center&quot; style=&quot;font-size:16px&quot;&gt;&lt;b&gt;Bay Area companies that decided to downsize their footprints, Jan. 1, 2022 to July 5, 2022&lt;/b&gt;&lt;/h3&gt;\n",
       "             \n",
       "    \n",
       "            &lt;div class=&quot;folium-map&quot; id=&quot;map_7b36f21de37c0e67e3039ac4bc1cbdd2&quot; &gt;&lt;/div&gt;\n",
       "        \n",
       "&lt;/body&gt;\n",
       "&lt;script&gt;    \n",
       "    \n",
       "            var map_7b36f21de37c0e67e3039ac4bc1cbdd2 = L.map(\n",
       "                &quot;map_7b36f21de37c0e67e3039ac4bc1cbdd2&quot;,\n",
       "                {\n",
       "                    center: [37.675174121428576, -122.2803131357143],\n",
       "                    crs: L.CRS.EPSG3857,\n",
       "                    zoom: 9,\n",
       "                    zoomControl: true,\n",
       "                    preferCanvas: false,\n",
       "                }\n",
       "            );\n",
       "\n",
       "            \n",
       "\n",
       "        \n",
       "    \n",
       "            var tile_layer_7b1b23c0700ac6037226a9a62cd26193 = L.tileLayer(\n",
       "                &quot;https://{s}.tile.openstreetmap.org/{z}/{x}/{y}.png&quot;,\n",
       "                {&quot;attribution&quot;: &quot;Data by \\u0026copy; \\u003ca href=\\&quot;http://openstreetmap.org\\&quot;\\u003eOpenStreetMap\\u003c/a\\u003e, under \\u003ca href=\\&quot;http://www.openstreetmap.org/copyright\\&quot;\\u003eODbL\\u003c/a\\u003e.&quot;, &quot;detectRetina&quot;: false, &quot;maxNativeZoom&quot;: 18, &quot;maxZoom&quot;: 18, &quot;minZoom&quot;: 0, &quot;noWrap&quot;: false, &quot;opacity&quot;: 1, &quot;subdomains&quot;: &quot;abc&quot;, &quot;tms&quot;: false}\n",
       "            ).addTo(map_7b36f21de37c0e67e3039ac4bc1cbdd2);\n",
       "        \n",
       "    \n",
       "            var marker_2e41e51bd58e5cd6b186a9c30be07842 = L.marker(\n",
       "                [37.78267840000001, -122.3983676],\n",
       "                {}\n",
       "            ).addTo(map_7b36f21de37c0e67e3039ac4bc1cbdd2);\n",
       "        \n",
       "    \n",
       "        var popup_9bdc95db29f6aeb58607049b33b66d31 = L.popup({&quot;maxWidth&quot;: &quot;100%&quot;});\n",
       "\n",
       "        \n",
       "            var html_c9f28cf028aac637a5651b2b914cc7d7 = $(`&lt;div id=&quot;html_c9f28cf028aac637a5651b2b914cc7d7&quot; style=&quot;width: 100.0%; height: 100.0%;&quot;&gt;&lt;!DOCTYPE html&gt;     &lt;html&gt;     &lt;img src=https://therealdeal.com/sanfrancisco/wp-content/uploads/2022/04/MSF-Nektar-Therapeutics-to-jettison-500-jobs-and-200K-sf-of-office-space-705x439.jpg width=&quot;256&quot; height=&quot;156&quot;&gt;&lt;br&gt;______________________________________&lt;br&gt;     Address: &lt;em&gt;nan&lt;/em&gt;&lt;br&gt;     Size of property: &lt;strong&gt;&lt;em&gt;About 200K sf &lt;/strong&gt;&lt;/em&gt;&lt;br&gt;&lt;br&gt;     Company Name: &lt;strong&gt;&lt;a href=&quot;https://therealdeal.com/sanfrancisco/2022/04/27/nektar-therapeutics-looks-to-sublease-200k-sf-in-mission-bay/&quot;&gt;Nektar Therapeutics&lt;/a&gt; &lt;/strong&gt;&lt;/html&gt;     &lt;/div&gt;`)[0];\n",
       "            popup_9bdc95db29f6aeb58607049b33b66d31.setContent(html_c9f28cf028aac637a5651b2b914cc7d7);\n",
       "        \n",
       "\n",
       "        marker_2e41e51bd58e5cd6b186a9c30be07842.bindPopup(popup_9bdc95db29f6aeb58607049b33b66d31)\n",
       "        ;\n",
       "\n",
       "        \n",
       "    \n",
       "    \n",
       "            var marker_ab2cb376dd3e758bd650401f476220ee = L.marker(\n",
       "                [37.3945198, -122.0503021],\n",
       "                {}\n",
       "            ).addTo(map_7b36f21de37c0e67e3039ac4bc1cbdd2);\n",
       "        \n",
       "    \n",
       "        var popup_bbf5463d8ec6fec92bea797cda4881b0 = L.popup({&quot;maxWidth&quot;: &quot;100%&quot;});\n",
       "\n",
       "        \n",
       "            var html_d8a78100e55838ef5d898bae53dcf390 = $(`&lt;div id=&quot;html_d8a78100e55838ef5d898bae53dcf390&quot; style=&quot;width: 100.0%; height: 100.0%;&quot;&gt;&lt;!DOCTYPE html&gt;     &lt;html&gt;     &lt;img src=https://therealdeal.com/sanfrancisco/wp-content/uploads/2022/04/main_SF_Synopsys-705x439.jpg width=&quot;256&quot; height=&quot;156&quot;&gt;&lt;br&gt;______________________________________&lt;br&gt;     Address: &lt;em&gt;675 Almanor Avenue, Sunnyvale &lt;/em&gt;&lt;br&gt;     Size of property: &lt;strong&gt;&lt;em&gt;18K sf &lt;/strong&gt;&lt;/em&gt;&lt;br&gt;&lt;br&gt;     Company Name: &lt;strong&gt;&lt;a href=&quot;https://therealdeal.com/sanfrancisco/2022/04/28/waymo-grows-mountain-view-hq-on-170k-sf-office-sublease/&quot;&gt;Synopsys&lt;/a&gt; &lt;/strong&gt;&lt;/html&gt;     &lt;/div&gt;`)[0];\n",
       "            popup_bbf5463d8ec6fec92bea797cda4881b0.setContent(html_d8a78100e55838ef5d898bae53dcf390);\n",
       "        \n",
       "\n",
       "        marker_ab2cb376dd3e758bd650401f476220ee.bindPopup(popup_bbf5463d8ec6fec92bea797cda4881b0)\n",
       "        ;\n",
       "\n",
       "        \n",
       "    \n",
       "    \n",
       "            var marker_f52f77abe3b30188673cf75be96f12d9 = L.marker(\n",
       "                [37.790507, -122.3990375],\n",
       "                {}\n",
       "            ).addTo(map_7b36f21de37c0e67e3039ac4bc1cbdd2);\n",
       "        \n",
       "    \n",
       "        var popup_8da3135f3db507f46f7687a8eb212f7b = L.popup({&quot;maxWidth&quot;: &quot;100%&quot;});\n",
       "\n",
       "        \n",
       "            var html_4525e26330c481bd26013995862eb596 = $(`&lt;div id=&quot;html_4525e26330c481bd26013995862eb596&quot; style=&quot;width: 100.0%; height: 100.0%;&quot;&gt;&lt;!DOCTYPE html&gt;     &lt;html&gt;     &lt;img src=https://therealdeal.com/sanfrancisco/wp-content/uploads/2022/01/SFO-Sephora-takes-286K-sf-in-SF-citys-biggest-Covid-era-office-lease-FEATUREIMG.jpg width=&quot;256&quot; height=&quot;156&quot;&gt;&lt;br&gt;______________________________________&lt;br&gt;     Address: &lt;em&gt;350 Mission Street, San Francisco&lt;/em&gt;&lt;br&gt;     Size of property: &lt;strong&gt;&lt;em&gt;23K sf&lt;/strong&gt;&lt;/em&gt;&lt;br&gt;&lt;br&gt;     Company Name: &lt;strong&gt;&lt;a href=&quot;https://therealdeal.com/sanfrancisco/2022/01/14/sephora-takes-286k-sf-in-sf-citys-biggest-covid-era-office-lease/&quot;&gt;Sephora&lt;/a&gt; &lt;/strong&gt;&lt;/html&gt;     &lt;/div&gt;`)[0];\n",
       "            popup_8da3135f3db507f46f7687a8eb212f7b.setContent(html_4525e26330c481bd26013995862eb596);\n",
       "        \n",
       "\n",
       "        marker_f52f77abe3b30188673cf75be96f12d9.bindPopup(popup_8da3135f3db507f46f7687a8eb212f7b)\n",
       "        ;\n",
       "\n",
       "        \n",
       "    \n",
       "    \n",
       "            var marker_e99081493ade5a7cb35b8c567520167c = L.marker(\n",
       "                [37.7913674, -122.4028796],\n",
       "                {}\n",
       "            ).addTo(map_7b36f21de37c0e67e3039ac4bc1cbdd2);\n",
       "        \n",
       "    \n",
       "        var popup_0624ea6853fb194adcfe18f48250a050 = L.popup({&quot;maxWidth&quot;: &quot;100%&quot;});\n",
       "\n",
       "        \n",
       "            var html_7b3a82f2d8d15102f4e651ae45248231 = $(`&lt;div id=&quot;html_7b3a82f2d8d15102f4e651ae45248231&quot; style=&quot;width: 100.0%; height: 100.0%;&quot;&gt;&lt;!DOCTYPE html&gt;     &lt;html&gt;     &lt;img src=https://therealdeal.com/sanfrancisco/wp-content/uploads/2022/06/main-SF-Farella-Braun-Martel-to-downsize-HQ-in-San-Francisco-705x439.jpg width=&quot;256&quot; height=&quot;156&quot;&gt;&lt;br&gt;______________________________________&lt;br&gt;     Address: &lt;em&gt;1 Bush Street, San Francisco&lt;/em&gt;&lt;br&gt;     Size of property: &lt;strong&gt;&lt;em&gt;85K sf&lt;/strong&gt;&lt;/em&gt;&lt;br&gt;&lt;br&gt;     Company Name: &lt;strong&gt;&lt;a href=&quot;https://therealdeal.com/sanfrancisco/2022/06/06/farella-braun-martel-to-downsize-hq-in-san-francisco/&quot;&gt;Farella Braun +&lt;/a&gt; Martel&lt;/strong&gt;&lt;/html&gt;     &lt;/div&gt;`)[0];\n",
       "            popup_0624ea6853fb194adcfe18f48250a050.setContent(html_7b3a82f2d8d15102f4e651ae45248231);\n",
       "        \n",
       "\n",
       "        marker_e99081493ade5a7cb35b8c567520167c.bindPopup(popup_0624ea6853fb194adcfe18f48250a050)\n",
       "        ;\n",
       "\n",
       "        \n",
       "    \n",
       "    \n",
       "            var marker_3175ad7da028bf3cfb337e55f8066a3b = L.marker(\n",
       "                [37.7827679, -122.3913735],\n",
       "                {}\n",
       "            ).addTo(map_7b36f21de37c0e67e3039ac4bc1cbdd2);\n",
       "        \n",
       "    \n",
       "        var popup_848cbfd1ae3f4c053b04075027134304 = L.popup({&quot;maxWidth&quot;: &quot;100%&quot;});\n",
       "\n",
       "        \n",
       "            var html_53e1a6aa2f5d56721fde7d425ff0517e = $(`&lt;div id=&quot;html_53e1a6aa2f5d56721fde7d425ff0517e&quot; style=&quot;width: 100.0%; height: 100.0%;&quot;&gt;&lt;!DOCTYPE html&gt;     &lt;html&gt;     &lt;img src=https://therealdeal.com/sanfrancisco/wp-content/uploads/2022/05/main-Splunk-vacates-SF-headquarters-trims-100K-sf-in-move-next-door--705x439.jpg width=&quot;256&quot; height=&quot;156&quot;&gt;&lt;br&gt;______________________________________&lt;br&gt;     Address: &lt;em&gt;nan&lt;/em&gt;&lt;br&gt;     Size of property: &lt;strong&gt;&lt;em&gt;115K sf&lt;/strong&gt;&lt;/em&gt;&lt;br&gt;&lt;br&gt;     Company Name: &lt;strong&gt;&lt;a href=&quot;https://therealdeal.com/sanfrancisco/2022/05/09/splunk-vacates-sf-headquarters-trims-100k-sf-in-move-next-door/&quot;&gt;Splunk&lt;/a&gt; &lt;/strong&gt;&lt;/html&gt;     &lt;/div&gt;`)[0];\n",
       "            popup_848cbfd1ae3f4c053b04075027134304.setContent(html_53e1a6aa2f5d56721fde7d425ff0517e);\n",
       "        \n",
       "\n",
       "        marker_3175ad7da028bf3cfb337e55f8066a3b.bindPopup(popup_848cbfd1ae3f4c053b04075027134304)\n",
       "        ;\n",
       "\n",
       "        \n",
       "    \n",
       "    \n",
       "            var marker_f659ff5def5521a7f235e3504389157b = L.marker(\n",
       "                [37.7749419, -122.417114],\n",
       "                {}\n",
       "            ).addTo(map_7b36f21de37c0e67e3039ac4bc1cbdd2);\n",
       "        \n",
       "    \n",
       "        var popup_6f028b3f43d1e221cb42634a79c32e80 = L.popup({&quot;maxWidth&quot;: &quot;100%&quot;});\n",
       "\n",
       "        \n",
       "            var html_546ad5d78e9cea8e87847c2997b35f4a = $(`&lt;div id=&quot;html_546ad5d78e9cea8e87847c2997b35f4a&quot; style=&quot;width: 100.0%; height: 100.0%;&quot;&gt;&lt;!DOCTYPE html&gt;     &lt;html&gt;     &lt;img src=https://therealdeal.com/sanfrancisco/wp-content/uploads/2022/06/Block-to-pull-out-of-SFs-Mid-Market-after-delisting-HQ-705x466.jpg width=&quot;256&quot; height=&quot;156&quot;&gt;&lt;br&gt;______________________________________&lt;br&gt;     Address: &lt;em&gt;nan&lt;/em&gt;&lt;br&gt;     Size of property: &lt;strong&gt;&lt;em&gt;470K sf&lt;/strong&gt;&lt;/em&gt;&lt;br&gt;&lt;br&gt;     Company Name: &lt;strong&gt;&lt;a href=&quot;https://therealdeal.com/sanfrancisco/2022/06/16/block-to-pull-out-of-sfs-mid-market-after-delisting-hq/&quot;&gt;Block&lt;/a&gt; &lt;/strong&gt;&lt;/html&gt;     &lt;/div&gt;`)[0];\n",
       "            popup_6f028b3f43d1e221cb42634a79c32e80.setContent(html_546ad5d78e9cea8e87847c2997b35f4a);\n",
       "        \n",
       "\n",
       "        marker_f659ff5def5521a7f235e3504389157b.bindPopup(popup_6f028b3f43d1e221cb42634a79c32e80)\n",
       "        ;\n",
       "\n",
       "        \n",
       "    \n",
       "    \n",
       "            var marker_fb925e7c791afefd6c18720ee28b892e = L.marker(\n",
       "                [37.792549, -122.3930995],\n",
       "                {}\n",
       "            ).addTo(map_7b36f21de37c0e67e3039ac4bc1cbdd2);\n",
       "        \n",
       "    \n",
       "        var popup_0bef2290467182dd645fd509811f7f08 = L.popup({&quot;maxWidth&quot;: &quot;100%&quot;});\n",
       "\n",
       "        \n",
       "            var html_27e8d24bb2af3b5ff2fbe01af0fd70a0 = $(`&lt;div id=&quot;html_27e8d24bb2af3b5ff2fbe01af0fd70a0&quot; style=&quot;width: 100.0%; height: 100.0%;&quot;&gt;&lt;!DOCTYPE html&gt;     &lt;html&gt;     &lt;img src=https://therealdeal.com/sanfrancisco/wp-content/uploads/2022/06/Twilio-goes-remote-first-downsizes-HQ-offices-in-San-Francisco-705x466.jpg width=&quot;256&quot; height=&quot;156&quot;&gt;&lt;br&gt;______________________________________&lt;br&gt;     Address: &lt;em&gt;nan&lt;/em&gt;&lt;br&gt;     Size of property: &lt;strong&gt;&lt;em&gt;Three floors of offices, exact square footage unknown&lt;/strong&gt;&lt;/em&gt;&lt;br&gt;&lt;br&gt;     Company Name: &lt;strong&gt;&lt;a href=&quot;https://therealdeal.com/sanfrancisco/2022/06/09/twilio-downsizes-san-francisco-hq-goes-remote-first/&quot;&gt;Twilio&lt;/a&gt;&lt;/strong&gt;&lt;/html&gt;     &lt;/div&gt;`)[0];\n",
       "            popup_0bef2290467182dd645fd509811f7f08.setContent(html_27e8d24bb2af3b5ff2fbe01af0fd70a0);\n",
       "        \n",
       "\n",
       "        marker_fb925e7c791afefd6c18720ee28b892e.bindPopup(popup_0bef2290467182dd645fd509811f7f08)\n",
       "        ;\n",
       "\n",
       "        \n",
       "    \n",
       "    \n",
       "            var marker_4ec98bc952b3355e28b52b347bb50189 = L.marker(\n",
       "                [37.7913266, -122.3963941],\n",
       "                {}\n",
       "            ).addTo(map_7b36f21de37c0e67e3039ac4bc1cbdd2);\n",
       "        \n",
       "    \n",
       "        var popup_11069f2cbd0be3945a5a40680a268f13 = L.popup({&quot;maxWidth&quot;: &quot;100%&quot;});\n",
       "\n",
       "        \n",
       "            var html_e418ba3bddfa4006eb9a6eacf5c6fdf6 = $(`&lt;div id=&quot;html_e418ba3bddfa4006eb9a6eacf5c6fdf6&quot; style=&quot;width: 100.0%; height: 100.0%;&quot;&gt;&lt;!DOCTYPE html&gt;     &lt;html&gt;     &lt;img src=https://therealdeal.com/sanfrancisco/wp-content/uploads/2022/01/SFO-Autodesk-to-close-117K-sf-San-Francisco-office-eight-months-after-opening-it-MAIN.jpg width=&quot;256&quot; height=&quot;156&quot;&gt;&lt;br&gt;______________________________________&lt;br&gt;     Address: &lt;em&gt;nan&lt;/em&gt;&lt;br&gt;     Size of property: &lt;strong&gt;&lt;em&gt;117K sf&lt;/strong&gt;&lt;/em&gt;&lt;br&gt;&lt;br&gt;     Company Name: &lt;strong&gt;&lt;a href=&quot;https://therealdeal.com/sanfrancisco/2022/01/12/autodesk-to-close-117k-sf-san-francisco-office-eight-months-after-opening-it/&quot;&gt;Autodesk&lt;/a&gt; &lt;/strong&gt;&lt;/html&gt;     &lt;/div&gt;`)[0];\n",
       "            popup_11069f2cbd0be3945a5a40680a268f13.setContent(html_e418ba3bddfa4006eb9a6eacf5c6fdf6);\n",
       "        \n",
       "\n",
       "        marker_4ec98bc952b3355e28b52b347bb50189.bindPopup(popup_11069f2cbd0be3945a5a40680a268f13)\n",
       "        ;\n",
       "\n",
       "        \n",
       "    \n",
       "    \n",
       "            var marker_9211e1b38a2902d1820c0b2a71da1b7b = L.marker(\n",
       "                [37.3833106, -121.9726404],\n",
       "                {}\n",
       "            ).addTo(map_7b36f21de37c0e67e3039ac4bc1cbdd2);\n",
       "        \n",
       "    \n",
       "        var popup_8b170244c0e2ba08d3edb33331eb4f00 = L.popup({&quot;maxWidth&quot;: &quot;100%&quot;});\n",
       "\n",
       "        \n",
       "            var html_16b05c580929296b9a1671ef12a3d737 = $(`&lt;div id=&quot;html_16b05c580929296b9a1671ef12a3d737&quot; style=&quot;width: 100.0%; height: 100.0%;&quot;&gt;&lt;!DOCTYPE html&gt;     &lt;html&gt;     &lt;img src=https://therealdeal.com/sanfrancisco/wp-content/uploads/2022/06/main-SF-Pure-Storage-upgrades-HQ-in-move-to-Santa-Clara-705x439.jpg width=&quot;256&quot; height=&quot;156&quot;&gt;&lt;br&gt;______________________________________&lt;br&gt;     Address: &lt;em&gt;nan&lt;/em&gt;&lt;br&gt;     Size of property: &lt;strong&gt;&lt;em&gt;About 330K sf&lt;/strong&gt;&lt;/em&gt;&lt;br&gt;&lt;br&gt;     Company Name: &lt;strong&gt;&lt;a href=&quot;https://therealdeal.com/sanfrancisco/2022/06/06/pure-storage-takes-330k-sf-in-santa-clara-sublease/&quot;&gt;Analog Devices&lt;/a&gt;&lt;/strong&gt;&lt;/html&gt;     &lt;/div&gt;`)[0];\n",
       "            popup_8b170244c0e2ba08d3edb33331eb4f00.setContent(html_16b05c580929296b9a1671ef12a3d737);\n",
       "        \n",
       "\n",
       "        marker_9211e1b38a2902d1820c0b2a71da1b7b.bindPopup(popup_8b170244c0e2ba08d3edb33331eb4f00)\n",
       "        ;\n",
       "\n",
       "        \n",
       "    \n",
       "    \n",
       "            var marker_1f3462003ba7372e24cba15d31acc32b = L.marker(\n",
       "                [37.791073, -122.393397],\n",
       "                {}\n",
       "            ).addTo(map_7b36f21de37c0e67e3039ac4bc1cbdd2);\n",
       "        \n",
       "    \n",
       "        var popup_d485e3a0539cf7860bbff9da032a498f = L.popup({&quot;maxWidth&quot;: &quot;100%&quot;});\n",
       "\n",
       "        \n",
       "            var html_5d95670cafc4c999b012849d36a3a771 = $(`&lt;div id=&quot;html_5d95670cafc4c999b012849d36a3a771&quot; style=&quot;width: 100.0%; height: 100.0%;&quot;&gt;&lt;!DOCTYPE html&gt;     &lt;html&gt;     &lt;img src=https://therealdeal.com/sanfrancisco/wp-content/uploads/2022/05/main-SF-State-Bar-to-sell-250K-sf-HQ-building-in-San-Francisco-705x439.jpg width=&quot;256&quot; height=&quot;156&quot;&gt;&lt;br&gt;______________________________________&lt;br&gt;     Address: &lt;em&gt;nan&lt;/em&gt;&lt;br&gt;     Size of property: &lt;strong&gt;&lt;em&gt;To be determined. The State Bar plans to find a new space in the Bay Area, either through a purchase or a lease. &lt;/strong&gt;&lt;/em&gt;&lt;br&gt;&lt;br&gt;     Company Name: &lt;strong&gt;&lt;a href=&quot;https://therealdeal.com/sanfrancisco/2022/05/12/state-bar-to-sell-250k-sf-hq-building-in-san-francisco/&quot;&gt;State Bar of&lt;/a&gt; California&lt;/strong&gt;&lt;/html&gt;     &lt;/div&gt;`)[0];\n",
       "            popup_d485e3a0539cf7860bbff9da032a498f.setContent(html_5d95670cafc4c999b012849d36a3a771);\n",
       "        \n",
       "\n",
       "        marker_1f3462003ba7372e24cba15d31acc32b.bindPopup(popup_d485e3a0539cf7860bbff9da032a498f)\n",
       "        ;\n",
       "\n",
       "        \n",
       "    \n",
       "    \n",
       "            var marker_f669fadf9a7d45b44ab76a6f6c38c274 = L.marker(\n",
       "                [37.7899519, -122.3947492],\n",
       "                {}\n",
       "            ).addTo(map_7b36f21de37c0e67e3039ac4bc1cbdd2);\n",
       "        \n",
       "    \n",
       "        var popup_5056d3e8707a6c4397b5ff7d1f9119e9 = L.popup({&quot;maxWidth&quot;: &quot;100%&quot;});\n",
       "\n",
       "        \n",
       "            var html_1af0b8f3ada012d127dbc1a85a1b2a67 = $(`&lt;div id=&quot;html_1af0b8f3ada012d127dbc1a85a1b2a67&quot; style=&quot;width: 100.0%; height: 100.0%;&quot;&gt;&lt;!DOCTYPE html&gt;     &lt;html&gt;     &lt;img src=https://therealdeal.com/sanfrancisco/wp-content/uploads/2022/04/main-PayPal-subsidiary-trades-office-in-DTSF-for-remote-work-San-Jose-option-705x439.jpg width=&quot;256&quot; height=&quot;156&quot;&gt;&lt;br&gt;______________________________________&lt;br&gt;     Address: &lt;em&gt;N/A &lt;/em&gt;&lt;br&gt;     Size of property: &lt;strong&gt;&lt;em&gt;About 80K sf&lt;/strong&gt;&lt;/em&gt;&lt;br&gt;&lt;br&gt;     Company Name: &lt;strong&gt;&lt;a href=&quot;https://therealdeal.com/sanfrancisco/2022/04/28/paypal-subsidiary-trades-office-in-dtsf-for-remote-work-san-jose-option/&quot;&gt;PayPal&lt;/a&gt; &lt;/strong&gt;&lt;/html&gt;     &lt;/div&gt;`)[0];\n",
       "            popup_5056d3e8707a6c4397b5ff7d1f9119e9.setContent(html_1af0b8f3ada012d127dbc1a85a1b2a67);\n",
       "        \n",
       "\n",
       "        marker_f669fadf9a7d45b44ab76a6f6c38c274.bindPopup(popup_5056d3e8707a6c4397b5ff7d1f9119e9)\n",
       "        ;\n",
       "\n",
       "        \n",
       "    \n",
       "    \n",
       "            var marker_2b6860d57f8a427f73948ecaedb6ee26 = L.marker(\n",
       "                [37.7927653, -122.3979675],\n",
       "                {}\n",
       "            ).addTo(map_7b36f21de37c0e67e3039ac4bc1cbdd2);\n",
       "        \n",
       "    \n",
       "        var popup_a40e322b63ee2561dd2582dba0dd6882 = L.popup({&quot;maxWidth&quot;: &quot;100%&quot;});\n",
       "\n",
       "        \n",
       "            var html_397b798321e6f109fc4c7c689d8e57ce = $(`&lt;div id=&quot;html_397b798321e6f109fc4c7c689d8e57ce&quot; style=&quot;width: 100.0%; height: 100.0%;&quot;&gt;&lt;!DOCTYPE html&gt;     &lt;html&gt;     &lt;img src=https://therealdeal.com/sanfrancisco/wp-content/uploads/2022/02/main_SF_Merrill-Lynch-705x439.jpg width=&quot;256&quot; height=&quot;156&quot;&gt;&lt;br&gt;______________________________________&lt;br&gt;     Address: &lt;em&gt;nan&lt;/em&gt;&lt;br&gt;     Size of property: &lt;strong&gt;&lt;em&gt;About 102K sf&lt;/strong&gt;&lt;/em&gt;&lt;br&gt;&lt;br&gt;     Company Name: &lt;strong&gt;&lt;a href=&quot;https://therealdeal.com/sanfrancisco/2022/02/04/merrill-lynch-to-leave-the-san-francisco-building-its-called-home-for-more-than-20-years/&quot;&gt;Merrill (formerly&lt;/a&gt; Merrill Lynch)&lt;/strong&gt;&lt;/html&gt;     &lt;/div&gt;`)[0];\n",
       "            popup_a40e322b63ee2561dd2582dba0dd6882.setContent(html_397b798321e6f109fc4c7c689d8e57ce);\n",
       "        \n",
       "\n",
       "        marker_2b6860d57f8a427f73948ecaedb6ee26.bindPopup(popup_a40e322b63ee2561dd2582dba0dd6882)\n",
       "        ;\n",
       "\n",
       "        \n",
       "    \n",
       "    \n",
       "            var marker_69403456e2a624e1d38bf2bc27e86fcf = L.marker(\n",
       "                [37.3772795, -121.9696175],\n",
       "                {}\n",
       "            ).addTo(map_7b36f21de37c0e67e3039ac4bc1cbdd2);\n",
       "        \n",
       "    \n",
       "        var popup_e0ac0fb3c15208b748700f5469473df5 = L.popup({&quot;maxWidth&quot;: &quot;100%&quot;});\n",
       "\n",
       "        \n",
       "            var html_b06f02c1ea001327db7935de2aa5bacd = $(`&lt;div id=&quot;html_b06f02c1ea001327db7935de2aa5bacd&quot; style=&quot;width: 100.0%; height: 100.0%;&quot;&gt;&lt;!DOCTYPE html&gt;     &lt;html&gt;     &lt;img src=https://therealdeal.com/sanfrancisco/wp-content/uploads/2022/06/Chipmaker-with-27B-market-cap-signs-92K-sf-office-lease-in-North-San-Jose-705x466.jpg width=&quot;256&quot; height=&quot;156&quot;&gt;&lt;br&gt;______________________________________&lt;br&gt;     Address: &lt;em&gt;150 Rose Orchard Way, San Jose &lt;/em&gt;&lt;br&gt;     Size of property: &lt;strong&gt;&lt;em&gt;Almost 18K sf&lt;/strong&gt;&lt;/em&gt;&lt;br&gt;&lt;br&gt;     Company Name: &lt;strong&gt;&lt;a href=&quot;https://therealdeal.com/sanfrancisco/2022/06/10/27b-chipmaker-signs-92k-sf-office-lease-in-north-san-jose/&quot;&gt;Onsemi&lt;/a&gt; &lt;/strong&gt;&lt;/html&gt;     &lt;/div&gt;`)[0];\n",
       "            popup_e0ac0fb3c15208b748700f5469473df5.setContent(html_b06f02c1ea001327db7935de2aa5bacd);\n",
       "        \n",
       "\n",
       "        marker_69403456e2a624e1d38bf2bc27e86fcf.bindPopup(popup_e0ac0fb3c15208b748700f5469473df5)\n",
       "        ;\n",
       "\n",
       "        \n",
       "    \n",
       "    \n",
       "            var marker_a12e2892bc93bc63a2f410c045e2f65d = L.marker(\n",
       "                [37.4173994, -121.9474444],\n",
       "                {}\n",
       "            ).addTo(map_7b36f21de37c0e67e3039ac4bc1cbdd2);\n",
       "        \n",
       "    \n",
       "        var popup_26867cd54280465044034ddbfd897628 = L.popup({&quot;maxWidth&quot;: &quot;100%&quot;});\n",
       "\n",
       "        \n",
       "            var html_9e4ac29c330ab13b27975a45a6590e30 = $(`&lt;div id=&quot;html_9e4ac29c330ab13b27975a45a6590e30&quot; style=&quot;width: 100.0%; height: 100.0%;&quot;&gt;&lt;!DOCTYPE html&gt;     &lt;html&gt;     &lt;img src=https://therealdeal.com/sanfrancisco/wp-content/uploads/2022/06/Chipmaker-with-27B-market-cap-signs-92K-sf-office-lease-in-North-San-Jose-705x466.jpg width=&quot;256&quot; height=&quot;156&quot;&gt;&lt;br&gt;______________________________________&lt;br&gt;     Address: &lt;em&gt;nan&lt;/em&gt;&lt;br&gt;     Size of property: &lt;strong&gt;&lt;em&gt;92.5K sf&lt;/strong&gt;&lt;/em&gt;&lt;br&gt;&lt;br&gt;     Company Name: &lt;strong&gt;&lt;a href=&quot;https://therealdeal.com/sanfrancisco/2022/06/10/27b-chipmaker-signs-92k-sf-office-lease-in-north-san-jose/&quot;&gt;Arm&lt;/a&gt; &lt;/strong&gt;&lt;/html&gt;     &lt;/div&gt;`)[0];\n",
       "            popup_26867cd54280465044034ddbfd897628.setContent(html_9e4ac29c330ab13b27975a45a6590e30);\n",
       "        \n",
       "\n",
       "        marker_a12e2892bc93bc63a2f410c045e2f65d.bindPopup(popup_26867cd54280465044034ddbfd897628)\n",
       "        ;\n",
       "\n",
       "        \n",
       "    \n",
       "    \n",
       "            map_7b36f21de37c0e67e3039ac4bc1cbdd2.fitBounds(\n",
       "                [37.675174121428576, -122.2803131357143],\n",
       "                {&quot;maxZoom&quot;: 15}\n",
       "            );\n",
       "        \n",
       "&lt;/script&gt;\" style=\"position:absolute;width:100%;height:100%;left:0;top:0;border:none !important;\" allowfullscreen webkitallowfullscreen mozallowfullscreen></iframe></div></div>"
      ],
      "text/plain": [
       "<folium.folium.Map at 0x111f12920>"
      ]
     },
     "execution_count": 13,
     "metadata": {},
     "output_type": "execute_result"
    }
   ],
   "source": [
    "import folium\n",
    "import branca\n",
    "\n",
    "f = folium.Figure(width=750, height=750)\n",
    "m = folium.Map(location=df[[\"lat\", \"lon\"]].mean().to_list(),zoom_start=9)\n",
    "\n",
    "title_html = '''\n",
    "              <h3 align=\"center\" style=\"font-size:16px\"><b>{}</b></h3>\n",
    "             '''.format(f'Bay Area companies that decided to downsize their footprints, Jan. 1, 2022 to July 5, 2022')\n",
    "\n",
    "for i in range(0,len(df)):\n",
    "    html = popup_html(i)\n",
    "    iframe = branca.element.IFrame(html=html)\n",
    "    popup = folium.Popup(folium.Html(html, script=True))\n",
    "    folium.Marker([df['lat'].iloc[i],df['lon'].iloc[i]],\n",
    "                 popup=popup).add_to(m)\n",
    "\n",
    "m.get_root().html.add_child(folium.Element(title_html))\n",
    "m.fit_bounds(bounds=df[['lat','lon']].mean().to_list(),max_zoom=15)\n",
    "# m.add_to(f)\n",
    "m"
   ]
  },
  {
   "cell_type": "code",
   "execution_count": 15,
   "metadata": {},
   "outputs": [],
   "source": [
    "m.save('index.html')"
   ]
  },
  {
   "cell_type": "markdown",
   "metadata": {},
   "source": [
    "## Map URL snagger"
   ]
  },
  {
   "cell_type": "markdown",
   "metadata": {},
   "source": [
    "Map template URL: `https://trd-digital.github.io/trd-news-interactive-maps/{map-folder-name}`"
   ]
  },
  {
   "cell_type": "code",
   "execution_count": 16,
   "metadata": {},
   "outputs": [],
   "source": [
    "base_name = 'https://trd-digital.github.io/trd-news-interactive-maps/'"
   ]
  },
  {
   "cell_type": "code",
   "execution_count": 17,
   "metadata": {},
   "outputs": [
    {
     "name": "stdout",
     "output_type": "stream",
     "text": [
      "https://trd-digital.github.io/trd-news-interactive-maps/bay_area_company_footprint_expansion\n"
     ]
    }
   ],
   "source": [
    "cwd = os.getcwd()\n",
    "\n",
    "cwd = cwd.split('/')\n",
    "\n",
    "final_name = base_name + cwd[-1]\n",
    "print(final_name)"
   ]
  }
 ],
 "metadata": {
  "kernelspec": {
   "display_name": "Python 3 (ipykernel)",
   "language": "python",
   "name": "python3"
  },
  "language_info": {
   "codemirror_mode": {
    "name": "ipython",
    "version": 3
   },
   "file_extension": ".py",
   "mimetype": "text/x-python",
   "name": "python",
   "nbconvert_exporter": "python",
   "pygments_lexer": "ipython3",
   "version": "3.10.3"
  },
  "toc": {
   "base_numbering": 1,
   "nav_menu": {},
   "number_sections": true,
   "sideBar": true,
   "skip_h1_title": false,
   "title_cell": "Table of Contents",
   "title_sidebar": "Contents",
   "toc_cell": false,
   "toc_position": {},
   "toc_section_display": true,
   "toc_window_display": false
  }
 },
 "nbformat": 4,
 "nbformat_minor": 4
}
