{
 "cells": [
  {
   "cell_type": "markdown",
   "metadata": {},
   "source": [
    "## Imports"
   ]
  },
  {
   "cell_type": "code",
   "execution_count": 1,
   "metadata": {},
   "outputs": [],
   "source": [
    "import googlemaps\n",
    "import pandas as pd\n",
    "import numpy as np\n",
    "import re\n",
    "import os\n",
    "import geopandas as gpd\n",
    "import folium\n",
    "import tabula"
   ]
  },
  {
   "cell_type": "markdown",
   "metadata": {},
   "source": [
    "## Read-in"
   ]
  },
  {
   "cell_type": "code",
   "execution_count": 2,
   "metadata": {},
   "outputs": [],
   "source": [
    "# Gotta figure out how to get rid of the java error.\n",
    "# SO: https://stackoverflow.com/questions/54817211/java-command-is-not-found-from-this-python-process-please-ensure-java-is-inst\n",
    "\n",
    "dsf = tabula.read_pdf('condo.pdf', pages='all')"
   ]
  },
  {
   "cell_type": "markdown",
   "metadata": {},
   "source": [
    "## Clean Data"
   ]
  },
  {
   "cell_type": "code",
   "execution_count": 3,
   "metadata": {},
   "outputs": [],
   "source": [
    "df = dsf[0]\n",
    "df.columns = df.iloc[0]\n",
    "df = df[1:]\n",
    "df = df.drop(columns=df.columns[0])\n",
    "df = df.replace(np.nan, 'Not Available', regex=True)\n",
    "df = df.rename(columns={'Building / Address / City': 'building_address_city','Days on\\rMarket':'days_on_market',\\\n",
    "                        'Price /\\rSq. Ft.':'price_per_sqft'})\n",
    "df['building_address_city'] = df['building_address_city'].str.replace('^0', '', regex=True)\n",
    "df['geo_address'] = df['building_address_city']\n",
    "df['geo_address'] = df['geo_address'].map(lambda x: re.sub(r'\\r', ' ', x))\n",
    "df = df.replace('\\n',' ',regex=True)\n",
    "pattern = r'^(?P<building_name>[\\d\\s]*[A-Za-z\\s]+)\\s(?P<address>.+)\\s(?P<city>[A-Za-z\\s]+)$'\n",
    "df2 = df['geo_address']\n",
    "df2 = df2.to_frame()\n",
    "df2[['building_name', 'address', 'city']] = df2['geo_address'].str.extract(pattern, expand=True)"
   ]
  },
  {
   "cell_type": "markdown",
   "metadata": {},
   "source": [
    "Review this later (it's about how to properly merge DFs): https://pandas.pydata.org/pandas-docs/stable/user_guide/merging.html"
   ]
  },
  {
   "cell_type": "markdown",
   "metadata": {},
   "source": [
    "## Geocode"
   ]
  },
  {
   "cell_type": "code",
   "execution_count": 4,
   "metadata": {},
   "outputs": [],
   "source": [
    "result = pd.merge(df,df2,left_index=True, right_index=True)\n",
    "df = result\n",
    "df = df.drop(columns='city')"
   ]
  },
  {
   "cell_type": "code",
   "execution_count": 5,
   "metadata": {},
   "outputs": [],
   "source": [
    "%store -r google_maps_API_Key\n",
    "gmaps_key = googlemaps.Client(key=google_maps_API_Key)"
   ]
  },
  {
   "cell_type": "code",
   "execution_count": 6,
   "metadata": {},
   "outputs": [],
   "source": [
    "def geocode(add):\n",
    "    g = gmaps_key.geocode(add)\n",
    "    lat = g[0][\"geometry\"][\"location\"][\"lat\"]\n",
    "    lng = g[0][\"geometry\"][\"location\"][\"lng\"]\n",
    "    return (lat, lng)\n",
    "\n",
    "df['geocoded'] = df['geo_address_x'].apply(geocode)"
   ]
  },
  {
   "cell_type": "code",
   "execution_count": 7,
   "metadata": {},
   "outputs": [],
   "source": [
    "df['geocoded'] = df['geocoded'].astype(str)\n",
    "df[['lat', 'lon']] = df['geocoded'].str.strip('()').str.split(', ', expand=True)\n",
    "df['lat'] = df['lat'].astype(float)\n",
    "df['lon'] = df['lon'].astype(float)"
   ]
  },
  {
   "cell_type": "markdown",
   "metadata": {},
   "source": [
    "Folium documentation link: https://python-visualization.github.io/folium/index.html\n",
    "\n",
    "Folium is the library that lets us use leaflet with Python, since it's meant to be used with JavaScript.\n",
    "\n",
    "For adding titles: https://stackoverflow.com/questions/61928013/adding-a-title-or-text-to-a-folium-map"
   ]
  },
  {
   "cell_type": "markdown",
   "metadata": {},
   "source": [
    "## Correction section"
   ]
  },
  {
   "cell_type": "code",
   "execution_count": 8,
   "metadata": {},
   "outputs": [],
   "source": [
    "# df.at[index#,'col_name']"
   ]
  },
  {
   "cell_type": "markdown",
   "metadata": {},
   "source": [
    "## Format Data"
   ]
  },
  {
   "cell_type": "code",
   "execution_count": 9,
   "metadata": {},
   "outputs": [],
   "source": [
    "### Insert NaNs if needed ###\n",
    "df = df.replace('N/A', np.nan)"
   ]
  },
  {
   "cell_type": "code",
   "execution_count": 10,
   "metadata": {},
   "outputs": [],
   "source": [
    "df['int_Sale_Price'] = df['Sale Price'].str.replace('$','',regex=False)"
   ]
  },
  {
   "cell_type": "code",
   "execution_count": 11,
   "metadata": {},
   "outputs": [],
   "source": [
    "df['int_Sale_Price'] = df['int_Sale_Price'].str.replace(',','',regex=False)"
   ]
  },
  {
   "cell_type": "code",
   "execution_count": 12,
   "metadata": {},
   "outputs": [],
   "source": [
    "df['int_Sale_Price'] = pd.to_numeric(df['int_Sale_Price'])"
   ]
  },
  {
   "cell_type": "code",
   "execution_count": 13,
   "metadata": {},
   "outputs": [],
   "source": [
    "df['price_per_sqft'] = df['price_per_sqft'].str.replace('$','',regex=False)\n",
    "df['price_per_sqft'] = df['price_per_sqft'].str.replace(',','',regex=False)\n",
    "df['price_per_sqft'] = pd.to_numeric(df['price_per_sqft'])\n",
    "\n",
    "df['days_on_market'] = pd.to_numeric(df['days_on_market'])"
   ]
  },
  {
   "cell_type": "markdown",
   "metadata": {},
   "source": [
    "## Color-code top sale"
   ]
  },
  {
   "cell_type": "code",
   "execution_count": 14,
   "metadata": {},
   "outputs": [],
   "source": [
    "### Insert RANK values ###\n",
    "df['RANK'] = range(1, len(df) + 1)\n",
    "# use numpy to assign values to the 'COLOR' column\n",
    "df['COLOR'] = np.where(df['RANK'] <= 1, 'orange', 'blue')"
   ]
  },
  {
   "cell_type": "markdown",
   "metadata": {},
   "source": [
    "## HTML Popup Formatter"
   ]
  },
  {
   "cell_type": "code",
   "execution_count": 15,
   "metadata": {},
   "outputs": [
    {
     "data": {
      "text/plain": [
       "Index(['building_address_city', 'Close Date', 'days_on_market', 'Sale Price',\n",
       "       'Sq. Ft.', 'price_per_sqft', 'Agent', 'Listing Broker', 'Buyer Agent',\n",
       "       'Buyer Broker', 'geo_address_x', 'geo_address_y', 'building_name',\n",
       "       'address', 'geocoded', 'lat', 'lon', 'int_Sale_Price', 'RANK', 'COLOR'],\n",
       "      dtype='object')"
      ]
     },
     "execution_count": 15,
     "metadata": {},
     "output_type": "execute_result"
    }
   ],
   "source": [
    "df.columns"
   ]
  },
  {
   "cell_type": "code",
   "execution_count": 16,
   "metadata": {},
   "outputs": [],
   "source": [
    "def popup_html(row):\n",
    "    building_name = row['building_name']\n",
    "    price = row['Sale Price']\n",
    "    days_on_market = row['days_on_market']\n",
    "    listing_agent = row['Agent']\n",
    "    buyers_agent = row['Buyer Agent']\n",
    "    psf = row['price_per_sqft']\n",
    "    address = row['address']\n",
    "    \n",
    "    html = '''<!DOCTYPE html>\n",
    "    <html>\n",
    "    <strong>Building Name: </strong>{}'''.format(building_name) + '''<br>\n",
    "    <strong>Sale Price: </strong>{}'''.format(price) + '''<br>\n",
    "    <strong>Days on Market: </strong>{}'''.format(days_on_market) + '''<br>\n",
    "    <strong>Listing Agent: </strong>{}'''.format(listing_agent) + '''<br>\n",
    "    <strong>Buyer's Agent: </strong>{}'''.format(buyers_agent) + '''<br>\n",
    "    <strong>Price sq ft: </strong>${}'''.format(psf) + '''<br>\n",
    "    <strong>Address: </strong>{}'''.format(address) + '''<br>\n",
    "    </html>\n",
    "    '''\n",
    "    return html"
   ]
  },
  {
   "cell_type": "code",
   "execution_count": 23,
   "metadata": {},
   "outputs": [
    {
     "data": {
      "text/html": [
       "<div style=\"width:100%;\"><div style=\"position:relative;width:100%;height:0;padding-bottom:60%;\"><span style=\"color:#565656\">Make this Notebook Trusted to load map: File -> Trust Notebook</span><iframe srcdoc=\"&lt;!DOCTYPE html&gt;\n",
       "&lt;head&gt;    \n",
       "    &lt;meta http-equiv=&quot;content-type&quot; content=&quot;text/html; charset=UTF-8&quot; /&gt;\n",
       "    \n",
       "        &lt;script&gt;\n",
       "            L_NO_TOUCH = false;\n",
       "            L_DISABLE_3D = false;\n",
       "        &lt;/script&gt;\n",
       "    \n",
       "    &lt;style&gt;html, body {width: 100%;height: 100%;margin: 0;padding: 0;}&lt;/style&gt;\n",
       "    &lt;style&gt;#map {position:absolute;top:0;bottom:0;right:0;left:0;}&lt;/style&gt;\n",
       "    &lt;script src=&quot;https://cdn.jsdelivr.net/npm/leaflet@1.6.0/dist/leaflet.js&quot;&gt;&lt;/script&gt;\n",
       "    &lt;script src=&quot;https://code.jquery.com/jquery-1.12.4.min.js&quot;&gt;&lt;/script&gt;\n",
       "    &lt;script src=&quot;https://maxcdn.bootstrapcdn.com/bootstrap/3.2.0/js/bootstrap.min.js&quot;&gt;&lt;/script&gt;\n",
       "    &lt;script src=&quot;https://cdnjs.cloudflare.com/ajax/libs/Leaflet.awesome-markers/2.0.2/leaflet.awesome-markers.js&quot;&gt;&lt;/script&gt;\n",
       "    &lt;link rel=&quot;stylesheet&quot; href=&quot;https://cdn.jsdelivr.net/npm/leaflet@1.6.0/dist/leaflet.css&quot;/&gt;\n",
       "    &lt;link rel=&quot;stylesheet&quot; href=&quot;https://maxcdn.bootstrapcdn.com/bootstrap/3.2.0/css/bootstrap.min.css&quot;/&gt;\n",
       "    &lt;link rel=&quot;stylesheet&quot; href=&quot;https://maxcdn.bootstrapcdn.com/bootstrap/3.2.0/css/bootstrap-theme.min.css&quot;/&gt;\n",
       "    &lt;link rel=&quot;stylesheet&quot; href=&quot;https://maxcdn.bootstrapcdn.com/font-awesome/4.6.3/css/font-awesome.min.css&quot;/&gt;\n",
       "    &lt;link rel=&quot;stylesheet&quot; href=&quot;https://cdnjs.cloudflare.com/ajax/libs/Leaflet.awesome-markers/2.0.2/leaflet.awesome-markers.css&quot;/&gt;\n",
       "    &lt;link rel=&quot;stylesheet&quot; href=&quot;https://cdn.jsdelivr.net/gh/python-visualization/folium/folium/templates/leaflet.awesome.rotate.min.css&quot;/&gt;\n",
       "    \n",
       "            &lt;meta name=&quot;viewport&quot; content=&quot;width=device-width,\n",
       "                initial-scale=1.0, maximum-scale=1.0, user-scalable=no&quot; /&gt;\n",
       "            &lt;style&gt;\n",
       "                #map_811d828371d647f927cd667bdb9768d1 {\n",
       "                    position: relative;\n",
       "                    width: 100.0%;\n",
       "                    height: 100.0%;\n",
       "                    left: 0.0%;\n",
       "                    top: 0.0%;\n",
       "                }\n",
       "            &lt;/style&gt;\n",
       "        \n",
       "&lt;/head&gt;\n",
       "&lt;body&gt;    \n",
       "    \n",
       "              &lt;h3 align=&quot;center&quot; style=&quot;font-size:16px&quot;&gt;&lt;b&gt;Recent Miami-Dade Condo Sales &lt;/b&gt;&lt;/h3&gt;\n",
       "             \n",
       "    \n",
       "                &lt;p align=&quot;center&quot; style=&quot;vertical-align: bottom; font-size:13px&quot;&gt;&lt;i&gt;July 9th - July 15th&lt;/i&gt;&lt;/p&gt;\n",
       "                \n",
       "    \n",
       "            &lt;div class=&quot;folium-map&quot; id=&quot;map_811d828371d647f927cd667bdb9768d1&quot; &gt;&lt;/div&gt;\n",
       "        \n",
       "&lt;/body&gt;\n",
       "&lt;script&gt;    \n",
       "    \n",
       "            var map_811d828371d647f927cd667bdb9768d1 = L.map(\n",
       "                &quot;map_811d828371d647f927cd667bdb9768d1&quot;,\n",
       "                {\n",
       "                    center: [25.80935528, -80.16837862],\n",
       "                    crs: L.CRS.EPSG3857,\n",
       "                    zoom: 9.5,\n",
       "                    zoomControl: true,\n",
       "                    preferCanvas: false,\n",
       "                }\n",
       "            );\n",
       "\n",
       "            \n",
       "\n",
       "        \n",
       "    \n",
       "            var feature_group_5afcb8cdb901acf16495bf8bc8c93c82 = L.featureGroup(\n",
       "                {}\n",
       "            ).addTo(map_811d828371d647f927cd667bdb9768d1);\n",
       "        \n",
       "    \n",
       "            var marker_1c64d523505def99be4a9eb2d4480608 = L.marker(\n",
       "                [25.7287205, -80.23808009999999],\n",
       "                {&quot;fill&quot;: true, &quot;radius&quot;: 5}\n",
       "            ).addTo(feature_group_5afcb8cdb901acf16495bf8bc8c93c82);\n",
       "        \n",
       "    \n",
       "            var icon_bc0b57b2d4c5fe893682d0853fa03715 = L.AwesomeMarkers.icon(\n",
       "                {&quot;extraClasses&quot;: &quot;fa-rotate-0&quot;, &quot;icon&quot;: &quot;info-sign&quot;, &quot;iconColor&quot;: &quot;white&quot;, &quot;markerColor&quot;: &quot;orange&quot;, &quot;prefix&quot;: &quot;glyphicon&quot;}\n",
       "            );\n",
       "            marker_1c64d523505def99be4a9eb2d4480608.setIcon(icon_bc0b57b2d4c5fe893682d0853fa03715);\n",
       "        \n",
       "    \n",
       "        var popup_b108c3a1691ad0b24d354ccb1a79e65b = L.popup({&quot;maxWidth&quot;: 400});\n",
       "\n",
       "        \n",
       "            \n",
       "                var html_e696ae90c0519513138546ccb905e28b = $(`&lt;div id=&quot;html_e696ae90c0519513138546ccb905e28b&quot; style=&quot;width: 100.0%; height: 100.0%;&quot;&gt;&lt;!DOCTYPE html&gt;     &lt;html&gt;     &lt;strong&gt;Building Name: &lt;/strong&gt;Park Grove&lt;br&gt;     &lt;strong&gt;Sale Price: &lt;/strong&gt;$17,500,000.00&lt;br&gt;     &lt;strong&gt;Days on Market: &lt;/strong&gt;314&lt;br&gt;     &lt;strong&gt;Listing Agent: &lt;/strong&gt;Jessica Adams&lt;br&gt;     &lt;strong&gt;Buyer&#x27;s Agent: &lt;/strong&gt;Angelina Escorcia&lt;br&gt;     &lt;strong&gt;Price sq ft: &lt;/strong&gt;$2526.35&lt;br&gt;     &lt;strong&gt;Address: &lt;/strong&gt;2821 S Bayshore Dr UPH-A&lt;br&gt;     &lt;/html&gt;     &lt;/div&gt;`)[0];\n",
       "                popup_b108c3a1691ad0b24d354ccb1a79e65b.setContent(html_e696ae90c0519513138546ccb905e28b);\n",
       "            \n",
       "        \n",
       "\n",
       "        marker_1c64d523505def99be4a9eb2d4480608.bindPopup(popup_b108c3a1691ad0b24d354ccb1a79e65b)\n",
       "        ;\n",
       "\n",
       "        \n",
       "    \n",
       "    \n",
       "            var feature_group_63a907e032d1911bb85d62f6817b37ff = L.featureGroup(\n",
       "                {}\n",
       "            ).addTo(map_811d828371d647f927cd667bdb9768d1);\n",
       "        \n",
       "    \n",
       "            var marker_9ae734a14944c7e0df130b5d699e2d1d = L.marker(\n",
       "                [25.8422691, -80.1203074],\n",
       "                {&quot;fill&quot;: true, &quot;radius&quot;: 5}\n",
       "            ).addTo(feature_group_63a907e032d1911bb85d62f6817b37ff);\n",
       "        \n",
       "    \n",
       "            var icon_dc34d88128f7d93b01795e6d44180679 = L.AwesomeMarkers.icon(\n",
       "                {&quot;extraClasses&quot;: &quot;fa-rotate-0&quot;, &quot;icon&quot;: &quot;info-sign&quot;, &quot;iconColor&quot;: &quot;white&quot;, &quot;markerColor&quot;: &quot;blue&quot;, &quot;prefix&quot;: &quot;glyphicon&quot;}\n",
       "            );\n",
       "            marker_9ae734a14944c7e0df130b5d699e2d1d.setIcon(icon_dc34d88128f7d93b01795e6d44180679);\n",
       "        \n",
       "    \n",
       "        var popup_74440241fbff3f230e0fecc46ec6acf0 = L.popup({&quot;maxWidth&quot;: 400});\n",
       "\n",
       "        \n",
       "            \n",
       "                var html_3b974d79276447f38a26347a25a4d23f = $(`&lt;div id=&quot;html_3b974d79276447f38a26347a25a4d23f&quot; style=&quot;width: 100.0%; height: 100.0%;&quot;&gt;&lt;!DOCTYPE html&gt;     &lt;html&gt;     &lt;strong&gt;Building Name: &lt;/strong&gt;The Bath Club&lt;br&gt;     &lt;strong&gt;Sale Price: &lt;/strong&gt;$4,600,000.00&lt;br&gt;     &lt;strong&gt;Days on Market: &lt;/strong&gt;282&lt;br&gt;     &lt;strong&gt;Listing Agent: &lt;/strong&gt;Filippo Incorvaia&lt;br&gt;     &lt;strong&gt;Buyer&#x27;s Agent: &lt;/strong&gt;Daniela Pellicciotti&lt;br&gt;     &lt;strong&gt;Price sq ft: &lt;/strong&gt;$1554.58&lt;br&gt;     &lt;strong&gt;Address: &lt;/strong&gt;5959 Collins Ave 1807 Miami&lt;br&gt;     &lt;/html&gt;     &lt;/div&gt;`)[0];\n",
       "                popup_74440241fbff3f230e0fecc46ec6acf0.setContent(html_3b974d79276447f38a26347a25a4d23f);\n",
       "            \n",
       "        \n",
       "\n",
       "        marker_9ae734a14944c7e0df130b5d699e2d1d.bindPopup(popup_74440241fbff3f230e0fecc46ec6acf0)\n",
       "        ;\n",
       "\n",
       "        \n",
       "    \n",
       "    \n",
       "            var marker_40a14c98952459f459981ef2f6cfb175 = L.marker(\n",
       "                [25.948195, -80.1204099],\n",
       "                {&quot;fill&quot;: true, &quot;radius&quot;: 5}\n",
       "            ).addTo(feature_group_63a907e032d1911bb85d62f6817b37ff);\n",
       "        \n",
       "    \n",
       "            var icon_0f0786261a0ae0e7e30d5c9491c180a5 = L.AwesomeMarkers.icon(\n",
       "                {&quot;extraClasses&quot;: &quot;fa-rotate-0&quot;, &quot;icon&quot;: &quot;info-sign&quot;, &quot;iconColor&quot;: &quot;white&quot;, &quot;markerColor&quot;: &quot;blue&quot;, &quot;prefix&quot;: &quot;glyphicon&quot;}\n",
       "            );\n",
       "            marker_40a14c98952459f459981ef2f6cfb175.setIcon(icon_0f0786261a0ae0e7e30d5c9491c180a5);\n",
       "        \n",
       "    \n",
       "        var popup_b7452965b8bfc18355d94e36e10bd513 = L.popup({&quot;maxWidth&quot;: 400});\n",
       "\n",
       "        \n",
       "            \n",
       "                var html_09ff444100a9f989781f1ba3b89a31fc = $(`&lt;div id=&quot;html_09ff444100a9f989781f1ba3b89a31fc&quot; style=&quot;width: 100.0%; height: 100.0%;&quot;&gt;&lt;!DOCTYPE html&gt;     &lt;html&gt;     &lt;strong&gt;Building Name: &lt;/strong&gt;Porsche Deesign Tower&lt;br&gt;     &lt;strong&gt;Sale Price: &lt;/strong&gt;$3,990,000.00&lt;br&gt;     &lt;strong&gt;Days on Market: &lt;/strong&gt;60&lt;br&gt;     &lt;strong&gt;Listing Agent: &lt;/strong&gt;Fernando Pettineroli&lt;br&gt;     &lt;strong&gt;Buyer&#x27;s Agent: &lt;/strong&gt;Alfredo Yaffe&lt;br&gt;     &lt;strong&gt;Price sq ft: &lt;/strong&gt;$1168.37&lt;br&gt;     &lt;strong&gt;Address: &lt;/strong&gt;18555 Collins Ave 905 Sunny Isles&lt;br&gt;     &lt;/html&gt;     &lt;/div&gt;`)[0];\n",
       "                popup_b7452965b8bfc18355d94e36e10bd513.setContent(html_09ff444100a9f989781f1ba3b89a31fc);\n",
       "            \n",
       "        \n",
       "\n",
       "        marker_40a14c98952459f459981ef2f6cfb175.bindPopup(popup_b7452965b8bfc18355d94e36e10bd513)\n",
       "        ;\n",
       "\n",
       "        \n",
       "    \n",
       "    \n",
       "            var marker_3fe548b61d8b266cf4dc3b2cf2074b4e = L.marker(\n",
       "                [25.7287205, -80.23808009999999],\n",
       "                {&quot;fill&quot;: true, &quot;radius&quot;: 5}\n",
       "            ).addTo(feature_group_63a907e032d1911bb85d62f6817b37ff);\n",
       "        \n",
       "    \n",
       "            var icon_41536f0cc4986ed9b9faddf4bb2bf7a6 = L.AwesomeMarkers.icon(\n",
       "                {&quot;extraClasses&quot;: &quot;fa-rotate-0&quot;, &quot;icon&quot;: &quot;info-sign&quot;, &quot;iconColor&quot;: &quot;white&quot;, &quot;markerColor&quot;: &quot;blue&quot;, &quot;prefix&quot;: &quot;glyphicon&quot;}\n",
       "            );\n",
       "            marker_3fe548b61d8b266cf4dc3b2cf2074b4e.setIcon(icon_41536f0cc4986ed9b9faddf4bb2bf7a6);\n",
       "        \n",
       "    \n",
       "        var popup_13f9e60912a38bd96d7be8952a64783a = L.popup({&quot;maxWidth&quot;: 400});\n",
       "\n",
       "        \n",
       "            \n",
       "                var html_139a0d476cfd5122082975d8e84b86b4 = $(`&lt;div id=&quot;html_139a0d476cfd5122082975d8e84b86b4&quot; style=&quot;width: 100.0%; height: 100.0%;&quot;&gt;&lt;!DOCTYPE html&gt;     &lt;html&gt;     &lt;strong&gt;Building Name: &lt;/strong&gt;Two Park Grove Condo&lt;br&gt;     &lt;strong&gt;Sale Price: &lt;/strong&gt;$3,975,000.00&lt;br&gt;     &lt;strong&gt;Days on Market: &lt;/strong&gt;93&lt;br&gt;     &lt;strong&gt;Listing Agent: &lt;/strong&gt;Jennifer Price PA&lt;br&gt;     &lt;strong&gt;Buyer&#x27;s Agent: &lt;/strong&gt;Jessica Adams&lt;br&gt;     &lt;strong&gt;Price sq ft: &lt;/strong&gt;$1553.95&lt;br&gt;     &lt;strong&gt;Address: &lt;/strong&gt;2821 S Bayshore Dr 7D&lt;br&gt;     &lt;/html&gt;     &lt;/div&gt;`)[0];\n",
       "                popup_13f9e60912a38bd96d7be8952a64783a.setContent(html_139a0d476cfd5122082975d8e84b86b4);\n",
       "            \n",
       "        \n",
       "\n",
       "        marker_3fe548b61d8b266cf4dc3b2cf2074b4e.bindPopup(popup_13f9e60912a38bd96d7be8952a64783a)\n",
       "        ;\n",
       "\n",
       "        \n",
       "    \n",
       "    \n",
       "            var marker_468e732a07d4200e428504889ea3909d = L.marker(\n",
       "                [25.9344014, -80.1210054],\n",
       "                {&quot;fill&quot;: true, &quot;radius&quot;: 5}\n",
       "            ).addTo(feature_group_63a907e032d1911bb85d62f6817b37ff);\n",
       "        \n",
       "    \n",
       "            var icon_2565ffbd00ac696603326821e0ccdf1e = L.AwesomeMarkers.icon(\n",
       "                {&quot;extraClasses&quot;: &quot;fa-rotate-0&quot;, &quot;icon&quot;: &quot;info-sign&quot;, &quot;iconColor&quot;: &quot;white&quot;, &quot;markerColor&quot;: &quot;blue&quot;, &quot;prefix&quot;: &quot;glyphicon&quot;}\n",
       "            );\n",
       "            marker_468e732a07d4200e428504889ea3909d.setIcon(icon_2565ffbd00ac696603326821e0ccdf1e);\n",
       "        \n",
       "    \n",
       "        var popup_3c14f4f261fc81c16f5ff890316a1f02 = L.popup({&quot;maxWidth&quot;: 400});\n",
       "\n",
       "        \n",
       "            \n",
       "                var html_65e74988ecc1a54abc20f8b742270471 = $(`&lt;div id=&quot;html_65e74988ecc1a54abc20f8b742270471&quot; style=&quot;width: 100.0%; height: 100.0%;&quot;&gt;&lt;!DOCTYPE html&gt;     &lt;html&gt;     &lt;strong&gt;Building Name: &lt;/strong&gt;Jade Ocean&lt;br&gt;     &lt;strong&gt;Sale Price: &lt;/strong&gt;$2,625,000.00&lt;br&gt;     &lt;strong&gt;Days on Market: &lt;/strong&gt;32&lt;br&gt;     &lt;strong&gt;Listing Agent: &lt;/strong&gt;Lourdes Patron Trueba&lt;br&gt;     &lt;strong&gt;Buyer&#x27;s Agent: &lt;/strong&gt;Jorge Valdes&lt;br&gt;     &lt;strong&gt;Price sq ft: &lt;/strong&gt;$1342.02&lt;br&gt;     &lt;strong&gt;Address: &lt;/strong&gt;17121 Collins Ave 1201 Sunny Isles&lt;br&gt;     &lt;/html&gt;     &lt;/div&gt;`)[0];\n",
       "                popup_3c14f4f261fc81c16f5ff890316a1f02.setContent(html_65e74988ecc1a54abc20f8b742270471);\n",
       "            \n",
       "        \n",
       "\n",
       "        marker_468e732a07d4200e428504889ea3909d.bindPopup(popup_3c14f4f261fc81c16f5ff890316a1f02)\n",
       "        ;\n",
       "\n",
       "        \n",
       "    \n",
       "    \n",
       "            var marker_09a8d2b005d521681748c0837e6f8606 = L.marker(\n",
       "                [25.6846614, -80.15690060000001],\n",
       "                {&quot;fill&quot;: true, &quot;radius&quot;: 5}\n",
       "            ).addTo(feature_group_63a907e032d1911bb85d62f6817b37ff);\n",
       "        \n",
       "    \n",
       "            var icon_cf2d8ec1d93427d5df3540fe1688f1c9 = L.AwesomeMarkers.icon(\n",
       "                {&quot;extraClasses&quot;: &quot;fa-rotate-0&quot;, &quot;icon&quot;: &quot;info-sign&quot;, &quot;iconColor&quot;: &quot;white&quot;, &quot;markerColor&quot;: &quot;blue&quot;, &quot;prefix&quot;: &quot;glyphicon&quot;}\n",
       "            );\n",
       "            marker_09a8d2b005d521681748c0837e6f8606.setIcon(icon_cf2d8ec1d93427d5df3540fe1688f1c9);\n",
       "        \n",
       "    \n",
       "        var popup_42971b72c4ad1ec50103fb86fc916513 = L.popup({&quot;maxWidth&quot;: 400});\n",
       "\n",
       "        \n",
       "            \n",
       "                var html_59fd304b5c30720c2e7a934d677ce232 = $(`&lt;div id=&quot;html_59fd304b5c30720c2e7a934d677ce232&quot; style=&quot;width: 100.0%; height: 100.0%;&quot;&gt;&lt;!DOCTYPE html&gt;     &lt;html&gt;     &lt;strong&gt;Building Name: &lt;/strong&gt;nan&lt;br&gt;     &lt;strong&gt;Sale Price: &lt;/strong&gt;$2,500,000.00&lt;br&gt;     &lt;strong&gt;Days on Market: &lt;/strong&gt;125&lt;br&gt;     &lt;strong&gt;Listing Agent: &lt;/strong&gt;Giulietta Ulloa&lt;br&gt;     &lt;strong&gt;Buyer&#x27;s Agent: &lt;/strong&gt;Giulietta Ulloa&lt;br&gt;     &lt;strong&gt;Price sq ft: &lt;/strong&gt;$896.7&lt;br&gt;     &lt;strong&gt;Address: &lt;/strong&gt;nan&lt;br&gt;     &lt;/html&gt;     &lt;/div&gt;`)[0];\n",
       "                popup_42971b72c4ad1ec50103fb86fc916513.setContent(html_59fd304b5c30720c2e7a934d677ce232);\n",
       "            \n",
       "        \n",
       "\n",
       "        marker_09a8d2b005d521681748c0837e6f8606.bindPopup(popup_42971b72c4ad1ec50103fb86fc916513)\n",
       "        ;\n",
       "\n",
       "        \n",
       "    \n",
       "    \n",
       "            var marker_81b88e753a009dc629e49ac83022cb1f = L.marker(\n",
       "                [25.9356109, -80.121168],\n",
       "                {&quot;fill&quot;: true, &quot;radius&quot;: 5}\n",
       "            ).addTo(feature_group_63a907e032d1911bb85d62f6817b37ff);\n",
       "        \n",
       "    \n",
       "            var icon_0599730c84b745a0de2b2d262aa6cecb = L.AwesomeMarkers.icon(\n",
       "                {&quot;extraClasses&quot;: &quot;fa-rotate-0&quot;, &quot;icon&quot;: &quot;info-sign&quot;, &quot;iconColor&quot;: &quot;white&quot;, &quot;markerColor&quot;: &quot;blue&quot;, &quot;prefix&quot;: &quot;glyphicon&quot;}\n",
       "            );\n",
       "            marker_81b88e753a009dc629e49ac83022cb1f.setIcon(icon_0599730c84b745a0de2b2d262aa6cecb);\n",
       "        \n",
       "    \n",
       "        var popup_12fc14059ec9c2bceafda5caa1b68dbf = L.popup({&quot;maxWidth&quot;: 400});\n",
       "\n",
       "        \n",
       "            \n",
       "                var html_a10864d2e24bba36af5a28ca6bd69d56 = $(`&lt;div id=&quot;html_a10864d2e24bba36af5a28ca6bd69d56&quot; style=&quot;width: 100.0%; height: 100.0%;&quot;&gt;&lt;!DOCTYPE html&gt;     &lt;html&gt;     &lt;strong&gt;Building Name: &lt;/strong&gt;Ocean Four&lt;br&gt;     &lt;strong&gt;Sale Price: &lt;/strong&gt;$2,380,000.00&lt;br&gt;     &lt;strong&gt;Days on Market: &lt;/strong&gt;212&lt;br&gt;     &lt;strong&gt;Listing Agent: &lt;/strong&gt;Vadim Yushkevich&lt;br&gt;     &lt;strong&gt;Buyer&#x27;s Agent: &lt;/strong&gt;Marcia Stern&lt;br&gt;     &lt;strong&gt;Price sq ft: &lt;/strong&gt;$863.88&lt;br&gt;     &lt;strong&gt;Address: &lt;/strong&gt;17201 Collins Ave 1101 Sunny Isles&lt;br&gt;     &lt;/html&gt;     &lt;/div&gt;`)[0];\n",
       "                popup_12fc14059ec9c2bceafda5caa1b68dbf.setContent(html_a10864d2e24bba36af5a28ca6bd69d56);\n",
       "            \n",
       "        \n",
       "\n",
       "        marker_81b88e753a009dc629e49ac83022cb1f.bindPopup(popup_12fc14059ec9c2bceafda5caa1b68dbf)\n",
       "        ;\n",
       "\n",
       "        \n",
       "    \n",
       "    \n",
       "            var marker_ce25f65e8de5a0ae987ed1213855ba40 = L.marker(\n",
       "                [25.7911556, -80.1468362],\n",
       "                {&quot;fill&quot;: true, &quot;radius&quot;: 5}\n",
       "            ).addTo(feature_group_63a907e032d1911bb85d62f6817b37ff);\n",
       "        \n",
       "    \n",
       "            var icon_0f5ad0550b729dd31276cd1977f9b14f = L.AwesomeMarkers.icon(\n",
       "                {&quot;extraClasses&quot;: &quot;fa-rotate-0&quot;, &quot;icon&quot;: &quot;info-sign&quot;, &quot;iconColor&quot;: &quot;white&quot;, &quot;markerColor&quot;: &quot;blue&quot;, &quot;prefix&quot;: &quot;glyphicon&quot;}\n",
       "            );\n",
       "            marker_ce25f65e8de5a0ae987ed1213855ba40.setIcon(icon_0f5ad0550b729dd31276cd1977f9b14f);\n",
       "        \n",
       "    \n",
       "        var popup_3028bc538f7c4eafbbf853866db84656 = L.popup({&quot;maxWidth&quot;: 400});\n",
       "\n",
       "        \n",
       "            \n",
       "                var html_5b6b291d124158859347d817233d1f2b = $(`&lt;div id=&quot;html_5b6b291d124158859347d817233d1f2b&quot; style=&quot;width: 100.0%; height: 100.0%;&quot;&gt;&lt;!DOCTYPE html&gt;     &lt;html&gt;     &lt;strong&gt;Building Name: &lt;/strong&gt;The Grand Venetian&lt;br&gt;     &lt;strong&gt;Sale Price: &lt;/strong&gt;$2,200,000.00&lt;br&gt;     &lt;strong&gt;Days on Market: &lt;/strong&gt;88&lt;br&gt;     &lt;strong&gt;Listing Agent: &lt;/strong&gt;Milagros Alvarez&lt;br&gt;     &lt;strong&gt;Buyer&#x27;s Agent: &lt;/strong&gt;Anna Sherrill&lt;br&gt;     &lt;strong&gt;Price sq ft: &lt;/strong&gt;$1503.76&lt;br&gt;     &lt;strong&gt;Address: &lt;/strong&gt;10 Venetian Way 1103 Miami&lt;br&gt;     &lt;/html&gt;     &lt;/div&gt;`)[0];\n",
       "                popup_3028bc538f7c4eafbbf853866db84656.setContent(html_5b6b291d124158859347d817233d1f2b);\n",
       "            \n",
       "        \n",
       "\n",
       "        marker_ce25f65e8de5a0ae987ed1213855ba40.bindPopup(popup_3028bc538f7c4eafbbf853866db84656)\n",
       "        ;\n",
       "\n",
       "        \n",
       "    \n",
       "    \n",
       "            var marker_5f8a65789a2397e06c08390bcd2ca9b4 = L.marker(\n",
       "                [25.7304972, -80.23797019999999],\n",
       "                {&quot;fill&quot;: true, &quot;radius&quot;: 5}\n",
       "            ).addTo(feature_group_63a907e032d1911bb85d62f6817b37ff);\n",
       "        \n",
       "    \n",
       "            var icon_96148dfd7248a4e01f8bcefc89f1f0b5 = L.AwesomeMarkers.icon(\n",
       "                {&quot;extraClasses&quot;: &quot;fa-rotate-0&quot;, &quot;icon&quot;: &quot;info-sign&quot;, &quot;iconColor&quot;: &quot;white&quot;, &quot;markerColor&quot;: &quot;blue&quot;, &quot;prefix&quot;: &quot;glyphicon&quot;}\n",
       "            );\n",
       "            marker_5f8a65789a2397e06c08390bcd2ca9b4.setIcon(icon_96148dfd7248a4e01f8bcefc89f1f0b5);\n",
       "        \n",
       "    \n",
       "        var popup_4d3bdbd92d03d22476715dbc4bc79ed7 = L.popup({&quot;maxWidth&quot;: 400});\n",
       "\n",
       "        \n",
       "            \n",
       "                var html_79370f46831a8f4325df3f62caa3c9f4 = $(`&lt;div id=&quot;html_79370f46831a8f4325df3f62caa3c9f4&quot; style=&quot;width: 100.0%; height: 100.0%;&quot;&gt;&lt;!DOCTYPE html&gt;     &lt;html&gt;     &lt;strong&gt;Building Name: &lt;/strong&gt;Ritz Carlton Residences&lt;br&gt;     &lt;strong&gt;Sale Price: &lt;/strong&gt;$2,150,000.00&lt;br&gt;     &lt;strong&gt;Days on Market: &lt;/strong&gt;112&lt;br&gt;     &lt;strong&gt;Listing Agent: &lt;/strong&gt;Nina Giambalvo&lt;br&gt;     &lt;strong&gt;Buyer&#x27;s Agent: &lt;/strong&gt;Astrid Miniet&lt;br&gt;     &lt;strong&gt;Price sq ft: &lt;/strong&gt;$965.42&lt;br&gt;     &lt;strong&gt;Address: &lt;/strong&gt;3350 SW 27 Ave 1502 Coconut&lt;br&gt;     &lt;/html&gt;     &lt;/div&gt;`)[0];\n",
       "                popup_4d3bdbd92d03d22476715dbc4bc79ed7.setContent(html_79370f46831a8f4325df3f62caa3c9f4);\n",
       "            \n",
       "        \n",
       "\n",
       "        marker_5f8a65789a2397e06c08390bcd2ca9b4.bindPopup(popup_4d3bdbd92d03d22476715dbc4bc79ed7)\n",
       "        ;\n",
       "\n",
       "        \n",
       "    \n",
       "    \n",
       "            var marker_5915633565d1f3c79f77c21953ec0aa9 = L.marker(\n",
       "                [25.7693212, -80.18302829999999],\n",
       "                {&quot;fill&quot;: true, &quot;radius&quot;: 5}\n",
       "            ).addTo(feature_group_63a907e032d1911bb85d62f6817b37ff);\n",
       "        \n",
       "    \n",
       "            var icon_802755bfaa611cbd91ec01f1a4120999 = L.AwesomeMarkers.icon(\n",
       "                {&quot;extraClasses&quot;: &quot;fa-rotate-0&quot;, &quot;icon&quot;: &quot;info-sign&quot;, &quot;iconColor&quot;: &quot;white&quot;, &quot;markerColor&quot;: &quot;blue&quot;, &quot;prefix&quot;: &quot;glyphicon&quot;}\n",
       "            );\n",
       "            marker_5915633565d1f3c79f77c21953ec0aa9.setIcon(icon_802755bfaa611cbd91ec01f1a4120999);\n",
       "        \n",
       "    \n",
       "        var popup_bc562c3071dc5ab49c1e637e1dcc6195 = L.popup({&quot;maxWidth&quot;: 400});\n",
       "\n",
       "        \n",
       "            \n",
       "                var html_1062c47c3559768506473b72fc90e0b3 = $(`&lt;div id=&quot;html_1062c47c3559768506473b72fc90e0b3&quot; style=&quot;width: 100.0%; height: 100.0%;&quot;&gt;&lt;!DOCTYPE html&gt;     &lt;html&gt;     &lt;strong&gt;Building Name: &lt;/strong&gt;Three Tequesta Point&lt;br&gt;     &lt;strong&gt;Sale Price: &lt;/strong&gt;$2,085,000.00&lt;br&gt;     &lt;strong&gt;Days on Market: &lt;/strong&gt;77&lt;br&gt;     &lt;strong&gt;Listing Agent: &lt;/strong&gt;Geane Brito&lt;br&gt;     &lt;strong&gt;Buyer&#x27;s Agent: &lt;/strong&gt;Geane Brito&lt;br&gt;     &lt;strong&gt;Price sq ft: &lt;/strong&gt;$886.1&lt;br&gt;     &lt;strong&gt;Address: &lt;/strong&gt;848 Brickell Key Dr 3301&lt;br&gt;     &lt;/html&gt;     &lt;/div&gt;`)[0];\n",
       "                popup_bc562c3071dc5ab49c1e637e1dcc6195.setContent(html_1062c47c3559768506473b72fc90e0b3);\n",
       "            \n",
       "        \n",
       "\n",
       "        marker_5915633565d1f3c79f77c21953ec0aa9.bindPopup(popup_bc562c3071dc5ab49c1e637e1dcc6195)\n",
       "        ;\n",
       "\n",
       "        \n",
       "    \n",
       "    \n",
       "            var tile_layer_e5be4b0596b36e64b51ff638fc92b348 = L.tileLayer(\n",
       "                &quot;https://{s}.tile.openstreetmap.org/{z}/{x}/{y}.png&quot;,\n",
       "                {&quot;attribution&quot;: &quot;Data by \\u0026copy; \\u003ca href=\\&quot;http://openstreetmap.org\\&quot;\\u003eOpenStreetMap\\u003c/a\\u003e, under \\u003ca href=\\&quot;http://www.openstreetmap.org/copyright\\&quot;\\u003eODbL\\u003c/a\\u003e.&quot;, &quot;detectRetina&quot;: false, &quot;maxNativeZoom&quot;: 18, &quot;maxZoom&quot;: 18, &quot;minZoom&quot;: 0, &quot;noWrap&quot;: false, &quot;opacity&quot;: 1, &quot;subdomains&quot;: &quot;abc&quot;, &quot;tms&quot;: false}\n",
       "            ).addTo(map_811d828371d647f927cd667bdb9768d1);\n",
       "        \n",
       "    \n",
       "            var layer_control_f99a82b00ab2b131ad0532dd9ab76d41 = {\n",
       "                base_layers : {\n",
       "                },\n",
       "                overlays :  {\n",
       "                    &quot;Top Sale&quot; : feature_group_5afcb8cdb901acf16495bf8bc8c93c82,\n",
       "                    &quot;All other sales&quot; : feature_group_63a907e032d1911bb85d62f6817b37ff,\n",
       "                },\n",
       "            };\n",
       "            L.control.layers(\n",
       "                layer_control_f99a82b00ab2b131ad0532dd9ab76d41.base_layers,\n",
       "                layer_control_f99a82b00ab2b131ad0532dd9ab76d41.overlays,\n",
       "                {&quot;autoZIndex&quot;: true, &quot;collapsed&quot;: false, &quot;position&quot;: &quot;topright&quot;}\n",
       "            ).addTo(map_811d828371d647f927cd667bdb9768d1);\n",
       "        \n",
       "&lt;/script&gt;\" style=\"position:absolute;width:100%;height:100%;left:0;top:0;border:none !important;\" allowfullscreen webkitallowfullscreen mozallowfullscreen></iframe></div></div>"
      ],
      "text/plain": [
       "<folium.folium.Map at 0x7fb1e1f5ea90>"
      ]
     },
     "execution_count": 23,
     "metadata": {},
     "output_type": "execute_result"
    }
   ],
   "source": [
    "import folium\n",
    "from folium.plugins import MarkerCluster\n",
    "\n",
    "m = folium.Map(location=df[[\"lat\", \"lon\"]].mean().to_list(), zoom_start=10)\n",
    "\n",
    "title_html = '''\n",
    "              <h3 align=\"center\" style=\"font-size:16px\"><b>{}</b></h3>\n",
    "             '''.format(f'Recent Miami-Dade Condo Sales ')\n",
    "\n",
    "caption_html = '''\n",
    "                <p align=\"center\" style=\"vertical-align: bottom; font-size:13px\"><i>{}</i></p>\n",
    "                '''.format('July 9th - July 15th')\n",
    "\n",
    "\n",
    "### Create map container ###\n",
    "m = folium.Map(location=df[[\"lat\", \"lon\"]].mean().to_list(),zoom_start=9.5,tiles=None)\n",
    "\n",
    "# Create two FeatureGroups for different color pins\n",
    "fg_blue = folium.FeatureGroup(name='All other sales')\n",
    "fg_orange = folium.FeatureGroup(name='Top Sale')\n",
    "\n",
    "for index, row in df.iterrows():\n",
    "    # Add the markers to the appropriate FeatureGroup based on the color\n",
    "    if row['COLOR'] == 'blue':\n",
    "        marker = folium.Marker(\n",
    "            location=[row['lat'], row['lon']],\n",
    "            radius=5,\n",
    "            fill=True,\n",
    "            icon=folium.Icon(color=row['COLOR']),\n",
    "            popup=folium.Popup(popup_html(row), max_width=400))\n",
    "        marker.add_to(fg_blue)\n",
    "    else:\n",
    "        marker = folium.Marker(\n",
    "            location=[row['lat'], row['lon']],\n",
    "            radius=5,\n",
    "            fill=True,\n",
    "            icon=folium.Icon(color=row['COLOR']),\n",
    "            popup=folium.Popup(popup_html(row), max_width=400))\n",
    "        marker.add_to(fg_orange)\n",
    "\n",
    "# Add the FeatureGroups to the map\n",
    "fg_orange.add_to(m)\n",
    "fg_blue.add_to(m)\n",
    "\n",
    "folium.TileLayer('OpenStreetMap',control=False).add_to(m)\n",
    "\n",
    "# Add LayerControl to the map\n",
    "folium.map.LayerControl(collapsed=False).add_to(m)\n",
    "m.get_root().html.add_child(folium.Element(title_html))\n",
    "m.get_root().html.add_child(folium.Element(caption_html))\n",
    "            \n",
    "# Display map\n",
    "m"
   ]
  },
  {
   "cell_type": "code",
   "execution_count": 24,
   "metadata": {},
   "outputs": [],
   "source": [
    "m.save('index.html')"
   ]
  },
  {
   "cell_type": "markdown",
   "metadata": {},
   "source": [
    "## Data snagger"
   ]
  },
  {
   "cell_type": "code",
   "execution_count": 25,
   "metadata": {},
   "outputs": [],
   "source": [
    "### Set up formatting ###\n",
    "BR = '\\n'\n",
    "\n",
    "ME = '\\033[1m' + 'Most Expensive' + '\\033[0m'\n",
    "LE = '\\033[1m' + 'Least Expensive' + '\\033[0m'\n",
    "\n",
    "MAX_PSF = '\\033[1m' + 'Highest Price Per Square Foot' + '\\033[0m'\n",
    "MIN_PSF = '\\033[1m' + 'Lowest Price Per Square Foot' + '\\033[0m'\n",
    "\n",
    "DAYS_MAX = '\\033[1m' + 'Most Days on Market' + '\\033[0m'\n",
    "DAYS_MIN = '\\033[1m' + 'Fewest Days on Market' + '\\033[0m'"
   ]
  },
  {
   "cell_type": "code",
   "execution_count": 26,
   "metadata": {},
   "outputs": [
    {
     "name": "stdout",
     "output_type": "stream",
     "text": [
      "\u001b[1mMost Expensive\u001b[0m\n",
      "Park Grove, 2821 S Bayshore Dr UPH-A | Price $17,500,000 | $2,526 psf | Listing agent: Jessica Adams with One Sotheby's International Re | Buyer's agent: Angelina Escorcia with Luxe Properties | Days on market: 314\n",
      "\u001b[1mLeast Expensive\u001b[0m\n",
      "Three Tequesta Point, 848 Brickell Key Dr 3301 | Price $2,085,000 | $886 psf | Listing agent: Geane Brito with Compass Florida, LLC. | Buyer's agent: Geane Brito with Compass Florida, LLC. | Days on market: 77\n",
      "\u001b[1mHighest Price Per Square Foot\u001b[0m\n",
      "Park Grove, 2821 S Bayshore Dr UPH-A | Price $17,500,000 | $2,526 psf | Listing agent: Jessica Adams with One Sotheby's International Re | Buyer's agent: Angelina Escorcia with Luxe Properties | Days on market: 314\n",
      "\u001b[1mLowest Price Per Square Foot\u001b[0m\n",
      "Ocean Four, 17201 Collins Ave 1101 Sunny Isles | Price $2,380,000 | $864 psf | Listing agent: Vadim Yushkevich with Alpha Realty LLC | Buyer's agent: Marcia Stern with Premier Brokers International | Days on market: 212\n",
      "\u001b[1mMost Days on Market\u001b[0m\n",
      "Park Grove, 2821 S Bayshore Dr UPH-A | Price $17,500,000 | $2,526 psf | Listing agent: Jessica Adams with One Sotheby's International Re | Buyer's agent: Angelina Escorcia with Luxe Properties | Days on market: 314\n",
      "\u001b[1mFewest Days on Market\u001b[0m\n",
      "Jade Ocean, 17121 Collins Ave 1201 Sunny Isles | Price $2,625,000 | $1,342 psf | Listing agent: Lourdes Patron Trueba with Patron Real Estate Solutions, Corp. | Buyer's agent: Jorge Valdes with Douglas Elliman | Days on market: 32\n"
     ]
    }
   ],
   "source": [
    "### Highest and lowest sale price ###\n",
    "print(f\"{ME}{BR}{df.loc[df['int_Sale_Price'].idxmax()]['building_name']}, {df.loc[df['int_Sale_Price'].idxmax()]['address']} | Price ${df.loc[df['int_Sale_Price'].idxmax()]['int_Sale_Price']:,.0f} | ${df.loc[df['int_Sale_Price'].idxmax()]['price_per_sqft']:,.0f} psf | Listing agent: {df.loc[df['int_Sale_Price'].idxmax()]['Agent']} with {df.loc[df['int_Sale_Price'].idxmax()]['Listing Broker']} | Buyer's agent: {df.loc[df['int_Sale_Price'].idxmax()]['Buyer Agent']} with {df.loc[df['int_Sale_Price'].idxmax()]['Buyer Broker']} | Days on market: {df.loc[df['int_Sale_Price'].idxmax()]['days_on_market']}\")\n",
    "print(f\"{LE}{BR}{df.loc[df['int_Sale_Price'].idxmin()]['building_name']}, {df.loc[df['int_Sale_Price'].idxmin()]['address']} | Price ${df.loc[df['int_Sale_Price'].idxmin()]['int_Sale_Price']:,.0f} | ${df.loc[df['int_Sale_Price'].idxmin()]['price_per_sqft']:,.0f} psf | Listing agent: {df.loc[df['int_Sale_Price'].idxmin()]['Agent']} with {df.loc[df['int_Sale_Price'].idxmin()]['Listing Broker']} | Buyer's agent: {df.loc[df['int_Sale_Price'].idxmin()]['Buyer Agent']} with {df.loc[df['int_Sale_Price'].idxmin()]['Buyer Broker']} | Days on market: {df.loc[df['int_Sale_Price'].idxmin()]['days_on_market']}\")\n",
    "### Highest and lowest psf ###\n",
    "print(f\"{MAX_PSF}{BR}{df.loc[df['price_per_sqft'].idxmax()]['building_name']}, {df.loc[df['price_per_sqft'].idxmax()]['address']} | Price ${df.loc[df['price_per_sqft'].idxmax()]['int_Sale_Price']:,.0f} | ${df.loc[df['price_per_sqft'].idxmax()]['price_per_sqft']:,.0f} psf | Listing agent: {df.loc[df['price_per_sqft'].idxmax()]['Agent']} with {df.loc[df['price_per_sqft'].idxmax()]['Listing Broker']} | Buyer's agent: {df.loc[df['price_per_sqft'].idxmax()]['Buyer Agent']} with {df.loc[df['price_per_sqft'].idxmax()]['Buyer Broker']} | Days on market: {df.loc[df['price_per_sqft'].idxmax()]['days_on_market']}\")\n",
    "print(f\"{MIN_PSF}{BR}{df.loc[df['price_per_sqft'].idxmin()]['building_name']}, {df.loc[df['price_per_sqft'].idxmin()]['address']} | Price ${df.loc[df['price_per_sqft'].idxmin()]['int_Sale_Price']:,.0f} | ${df.loc[df['price_per_sqft'].idxmin()]['price_per_sqft']:,.0f} psf | Listing agent: {df.loc[df['price_per_sqft'].idxmin()]['Agent']} with {df.loc[df['price_per_sqft'].idxmin()]['Listing Broker']} | Buyer's agent: {df.loc[df['price_per_sqft'].idxmin()]['Buyer Agent']} with {df.loc[df['price_per_sqft'].idxmin()]['Buyer Broker']} | Days on market: {df.loc[df['price_per_sqft'].idxmin()]['days_on_market']}\")\n",
    "### Highest and lowest days on market ###\n",
    "print(f\"{DAYS_MAX}{BR}{df.loc[df['days_on_market'].idxmax()]['building_name']}, {df.loc[df['days_on_market'].idxmax()]['address']} | Price ${df.loc[df['days_on_market'].idxmax()]['int_Sale_Price']:,.0f} | ${df.loc[df['days_on_market'].idxmax()]['price_per_sqft']:,.0f} psf | Listing agent: {df.loc[df['days_on_market'].idxmax()]['Agent']} with {df.loc[df['days_on_market'].idxmax()]['Listing Broker']} | Buyer's agent: {df.loc[df['days_on_market'].idxmax()]['Buyer Agent']} with {df.loc[df['days_on_market'].idxmax()]['Buyer Broker']} | Days on market: {df.loc[df['days_on_market'].idxmax()]['days_on_market']}\")\n",
    "print(f\"{DAYS_MIN}{BR}{df.loc[df['days_on_market'].idxmin()]['building_name']}, {df.loc[df['days_on_market'].idxmin()]['address']} | Price ${df.loc[df['days_on_market'].idxmin()]['int_Sale_Price']:,.0f} | ${df.loc[df['days_on_market'].idxmin()]['price_per_sqft']:,.0f} psf | Listing agent: {df.loc[df['days_on_market'].idxmin()]['Agent']} with {df.loc[df['days_on_market'].idxmin()]['Listing Broker']} | Buyer's agent: {df.loc[df['days_on_market'].idxmin()]['Buyer Agent']} with {df.loc[df['days_on_market'].idxmin()]['Buyer Broker']} | Days on market: {df.loc[df['days_on_market'].idxmin()]['days_on_market']}\")"
   ]
  },
  {
   "cell_type": "markdown",
   "metadata": {},
   "source": [
    "## Map URL snagger"
   ]
  },
  {
   "cell_type": "markdown",
   "metadata": {},
   "source": [
    "Map template URL: `https://trd-digital.github.io/trd-news-interactive-maps/{map-folder-name}`"
   ]
  },
  {
   "cell_type": "code",
   "execution_count": 27,
   "metadata": {},
   "outputs": [],
   "source": [
    "base_name = 'https://trd-digital.github.io/trd-news-interactive-maps/'"
   ]
  },
  {
   "cell_type": "code",
   "execution_count": 28,
   "metadata": {},
   "outputs": [
    {
     "name": "stdout",
     "output_type": "stream",
     "text": [
      "https://trd-digital.github.io/trd-news-interactive-maps/condo_sales_week_ending_07172023\n"
     ]
    }
   ],
   "source": [
    "cwd = os.getcwd()\n",
    "\n",
    "cwd = cwd.split('/')\n",
    "\n",
    "final_name = base_name + cwd[-1]\n",
    "print(final_name)"
   ]
  }
 ],
 "metadata": {
  "kernelspec": {
   "display_name": "Python 3 (ipykernel)",
   "language": "python",
   "name": "python3"
  },
  "language_info": {
   "codemirror_mode": {
    "name": "ipython",
    "version": 3
   },
   "file_extension": ".py",
   "mimetype": "text/x-python",
   "name": "python",
   "nbconvert_exporter": "python",
   "pygments_lexer": "ipython3",
   "version": "3.9.12"
  },
  "toc": {
   "base_numbering": 1,
   "nav_menu": {},
   "number_sections": true,
   "sideBar": true,
   "skip_h1_title": false,
   "title_cell": "Table of Contents",
   "title_sidebar": "Contents",
   "toc_cell": false,
   "toc_position": {},
   "toc_section_display": true,
   "toc_window_display": false
  }
 },
 "nbformat": 4,
 "nbformat_minor": 4
}
