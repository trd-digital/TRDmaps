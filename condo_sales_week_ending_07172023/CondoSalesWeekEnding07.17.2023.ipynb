{
 "cells": [
  {
   "cell_type": "markdown",
   "metadata": {},
   "source": [
    "## Imports"
   ]
  },
  {
   "cell_type": "code",
   "execution_count": 21,
   "metadata": {},
   "outputs": [],
   "source": [
    "import googlemaps\n",
    "import pandas as pd\n",
    "import numpy as np\n",
    "import re\n",
    "import os\n",
    "import geopandas as gpd\n",
    "import folium\n",
    "import tabula"
   ]
  },
  {
   "cell_type": "markdown",
   "metadata": {},
   "source": [
    "## Read-in"
   ]
  },
  {
   "cell_type": "code",
   "execution_count": 22,
   "metadata": {},
   "outputs": [],
   "source": [
    "# Gotta figure out how to get rid of the java error.\n",
    "# SO: https://stackoverflow.com/questions/54817211/java-command-is-not-found-from-this-python-process-please-ensure-java-is-inst\n",
    "\n",
    "dsf = tabula.read_pdf('condo.pdf', pages='all')"
   ]
  },
  {
   "cell_type": "markdown",
   "metadata": {},
   "source": [
    "## Clean Data"
   ]
  },
  {
   "cell_type": "code",
   "execution_count": 23,
   "metadata": {},
   "outputs": [],
   "source": [
    "df = dsf[0]\n",
    "df.columns = df.iloc[0]\n",
    "df = df[1:]\n",
    "df = df.drop(columns=df.columns[0])\n",
    "df = df.replace(np.nan, 'Not Available', regex=True)\n",
    "df = df.rename(columns={'Building / Address / City': 'building_address_city','Days on\\rMarket':'days_on_market',\\\n",
    "                        'Price /\\rSq. Ft.':'price_per_sqft'})\n",
    "df['building_address_city'] = df['building_address_city'].str.replace('^0', '', regex=True)\n",
    "df['geo_address'] = df['building_address_city']\n",
    "df['geo_address'] = df['geo_address'].map(lambda x: re.sub(r'\\r', ' ', x))\n",
    "df = df.replace('\\n',' ',regex=True)\n",
    "pattern = r'^(?P<building_name>[\\d\\s]*[A-Za-z\\s]+)\\s(?P<address>.+)\\s(?P<city>[A-Za-z\\s]+)$'\n",
    "df2 = df['geo_address']\n",
    "df2 = df2.to_frame()\n",
    "df2[['building_name', 'address', 'city']] = df2['geo_address'].str.extract(pattern, expand=True)"
   ]
  },
  {
   "cell_type": "markdown",
   "metadata": {},
   "source": [
    "Review this later (it's about how to properly merge DFs): https://pandas.pydata.org/pandas-docs/stable/user_guide/merging.html"
   ]
  },
  {
   "cell_type": "markdown",
   "metadata": {},
   "source": [
    "## Geocode"
   ]
  },
  {
   "cell_type": "code",
   "execution_count": 24,
   "metadata": {},
   "outputs": [],
   "source": [
    "result = pd.merge(df,df2,left_index=True, right_index=True)\n",
    "df = result\n",
    "df = df.drop(columns='city')"
   ]
  },
  {
   "cell_type": "code",
   "execution_count": 25,
   "metadata": {},
   "outputs": [],
   "source": [
    "%store -r google_maps_API_Key\n",
    "gmaps_key = googlemaps.Client(key=google_maps_API_Key)"
   ]
  },
  {
   "cell_type": "code",
   "execution_count": 26,
   "metadata": {},
   "outputs": [],
   "source": [
    "def geocode(add):\n",
    "    g = gmaps_key.geocode(add)\n",
    "    lat = g[0][\"geometry\"][\"location\"][\"lat\"]\n",
    "    lng = g[0][\"geometry\"][\"location\"][\"lng\"]\n",
    "    return (lat, lng)\n",
    "\n",
    "df['geocoded'] = df['geo_address_x'].apply(geocode)"
   ]
  },
  {
   "cell_type": "code",
   "execution_count": 27,
   "metadata": {},
   "outputs": [],
   "source": [
    "df['geocoded'] = df['geocoded'].astype(str)\n",
    "df[['lat', 'lon']] = df['geocoded'].str.strip('()').str.split(', ', expand=True)\n",
    "df['lat'] = df['lat'].astype(float)\n",
    "df['lon'] = df['lon'].astype(float)"
   ]
  },
  {
   "cell_type": "markdown",
   "metadata": {},
   "source": [
    "Folium documentation link: https://python-visualization.github.io/folium/index.html\n",
    "\n",
    "Folium is the library that lets us use leaflet with Python, since it's meant to be used with JavaScript.\n",
    "\n",
    "For adding titles: https://stackoverflow.com/questions/61928013/adding-a-title-or-text-to-a-folium-map"
   ]
  },
  {
   "cell_type": "markdown",
   "metadata": {},
   "source": [
    "## Correction section"
   ]
  },
  {
   "cell_type": "code",
   "execution_count": 28,
   "metadata": {},
   "outputs": [],
   "source": [
    "# df.at[index#,'col_name']"
   ]
  },
  {
   "cell_type": "markdown",
   "metadata": {},
   "source": [
    "## Format Data"
   ]
  },
  {
   "cell_type": "code",
   "execution_count": 29,
   "metadata": {},
   "outputs": [],
   "source": [
    "### Insert NaNs if needed ###\n",
    "df = df.replace('N/A', np.nan)"
   ]
  },
  {
   "cell_type": "code",
   "execution_count": 30,
   "metadata": {},
   "outputs": [],
   "source": [
    "df['int_Sale_Price'] = df['Sale Price'].str.replace('$','',regex=False)"
   ]
  },
  {
   "cell_type": "code",
   "execution_count": 31,
   "metadata": {},
   "outputs": [],
   "source": [
    "df['int_Sale_Price'] = df['int_Sale_Price'].str.replace(',','',regex=False)"
   ]
  },
  {
   "cell_type": "code",
   "execution_count": 32,
   "metadata": {},
   "outputs": [],
   "source": [
    "df['int_Sale_Price'] = pd.to_numeric(df['int_Sale_Price'])"
   ]
  },
  {
   "cell_type": "code",
   "execution_count": 33,
   "metadata": {},
   "outputs": [],
   "source": [
    "df['price_per_sqft'] = df['price_per_sqft'].str.replace('$','',regex=False)\n",
    "df['price_per_sqft'] = df['price_per_sqft'].str.replace(',','',regex=False)\n",
    "df['price_per_sqft'] = pd.to_numeric(df['price_per_sqft'])\n",
    "\n",
    "df['days_on_market'] = pd.to_numeric(df['days_on_market'])"
   ]
  },
  {
   "cell_type": "markdown",
   "metadata": {},
   "source": [
    "## Color-code top sale"
   ]
  },
  {
   "cell_type": "code",
   "execution_count": 34,
   "metadata": {},
   "outputs": [],
   "source": [
    "### Insert RANK values ###\n",
    "df['RANK'] = range(1, len(df) + 1)\n",
    "# use numpy to assign values to the 'COLOR' column\n",
    "df['COLOR'] = np.where(df['RANK'] <= 1, 'orange', 'blue')"
   ]
  },
  {
   "cell_type": "markdown",
   "metadata": {},
   "source": [
    "## HTML Popup Formatter"
   ]
  },
  {
   "cell_type": "code",
   "execution_count": 35,
   "metadata": {},
   "outputs": [
    {
     "data": {
      "text/plain": [
       "Index(['building_address_city', 'Close Date', 'days_on_market', 'Sale Price',\n",
       "       'Sq. Ft.', 'price_per_sqft', 'Agent', 'Listing Broker', 'Buyer Agent',\n",
       "       'Buyer Broker', 'geo_address_x', 'geo_address_y', 'building_name',\n",
       "       'address', 'geocoded', 'lat', 'lon', 'int_Sale_Price', 'RANK', 'COLOR'],\n",
       "      dtype='object')"
      ]
     },
     "execution_count": 35,
     "metadata": {},
     "output_type": "execute_result"
    }
   ],
   "source": [
    "df.columns"
   ]
  },
  {
   "cell_type": "code",
   "execution_count": 36,
   "metadata": {},
   "outputs": [],
   "source": [
    "def popup_html(row):\n",
    "    building_name = row['building_name']\n",
    "    price = row['Sale Price']\n",
    "    days_on_market = row['days_on_market']\n",
    "    listing_agent = row['Agent']\n",
    "    buyers_agent = row['Buyer Agent']\n",
    "    psf = row['price_per_sqft']\n",
    "    address = row['address']\n",
    "    \n",
    "    html = '''<!DOCTYPE html>\n",
    "    <html>\n",
    "    <strong>Building Name: </strong>{}'''.format(building_name) + '''<br>\n",
    "    <strong>Sale Price: </strong>{}'''.format(price) + '''<br>\n",
    "    <strong>Days on Market: </strong>{}'''.format(days_on_market) + '''<br>\n",
    "    <strong>Listing Agent: </strong>{}'''.format(listing_agent) + '''<br>\n",
    "    <strong>Buyer's Agent: </strong>{}'''.format(buyers_agent) + '''<br>\n",
    "    <strong>Price sq ft: </strong>${}'''.format(psf) + '''<br>\n",
    "    <strong>Address: </strong>{}'''.format(address) + '''<br>\n",
    "    </html>\n",
    "    '''\n",
    "    return html"
   ]
  },
  {
   "cell_type": "code",
   "execution_count": 37,
   "metadata": {},
   "outputs": [
    {
     "data": {
      "text/html": [
       "<div style=\"width:100%;\"><div style=\"position:relative;width:100%;height:0;padding-bottom:60%;\"><span style=\"color:#565656\">Make this Notebook Trusted to load map: File -> Trust Notebook</span><iframe srcdoc=\"&lt;!DOCTYPE html&gt;\n",
       "&lt;head&gt;    \n",
       "    &lt;meta http-equiv=&quot;content-type&quot; content=&quot;text/html; charset=UTF-8&quot; /&gt;\n",
       "    \n",
       "        &lt;script&gt;\n",
       "            L_NO_TOUCH = false;\n",
       "            L_DISABLE_3D = false;\n",
       "        &lt;/script&gt;\n",
       "    \n",
       "    &lt;style&gt;html, body {width: 100%;height: 100%;margin: 0;padding: 0;}&lt;/style&gt;\n",
       "    &lt;style&gt;#map {position:absolute;top:0;bottom:0;right:0;left:0;}&lt;/style&gt;\n",
       "    &lt;script src=&quot;https://cdn.jsdelivr.net/npm/leaflet@1.6.0/dist/leaflet.js&quot;&gt;&lt;/script&gt;\n",
       "    &lt;script src=&quot;https://code.jquery.com/jquery-1.12.4.min.js&quot;&gt;&lt;/script&gt;\n",
       "    &lt;script src=&quot;https://maxcdn.bootstrapcdn.com/bootstrap/3.2.0/js/bootstrap.min.js&quot;&gt;&lt;/script&gt;\n",
       "    &lt;script src=&quot;https://cdnjs.cloudflare.com/ajax/libs/Leaflet.awesome-markers/2.0.2/leaflet.awesome-markers.js&quot;&gt;&lt;/script&gt;\n",
       "    &lt;link rel=&quot;stylesheet&quot; href=&quot;https://cdn.jsdelivr.net/npm/leaflet@1.6.0/dist/leaflet.css&quot;/&gt;\n",
       "    &lt;link rel=&quot;stylesheet&quot; href=&quot;https://maxcdn.bootstrapcdn.com/bootstrap/3.2.0/css/bootstrap.min.css&quot;/&gt;\n",
       "    &lt;link rel=&quot;stylesheet&quot; href=&quot;https://maxcdn.bootstrapcdn.com/bootstrap/3.2.0/css/bootstrap-theme.min.css&quot;/&gt;\n",
       "    &lt;link rel=&quot;stylesheet&quot; href=&quot;https://maxcdn.bootstrapcdn.com/font-awesome/4.6.3/css/font-awesome.min.css&quot;/&gt;\n",
       "    &lt;link rel=&quot;stylesheet&quot; href=&quot;https://cdnjs.cloudflare.com/ajax/libs/Leaflet.awesome-markers/2.0.2/leaflet.awesome-markers.css&quot;/&gt;\n",
       "    &lt;link rel=&quot;stylesheet&quot; href=&quot;https://cdn.jsdelivr.net/gh/python-visualization/folium/folium/templates/leaflet.awesome.rotate.min.css&quot;/&gt;\n",
       "    \n",
       "            &lt;meta name=&quot;viewport&quot; content=&quot;width=device-width,\n",
       "                initial-scale=1.0, maximum-scale=1.0, user-scalable=no&quot; /&gt;\n",
       "            &lt;style&gt;\n",
       "                #map_ea380eff450644972e4c7d6733b8efaa {\n",
       "                    position: relative;\n",
       "                    width: 100.0%;\n",
       "                    height: 100.0%;\n",
       "                    left: 0.0%;\n",
       "                    top: 0.0%;\n",
       "                }\n",
       "            &lt;/style&gt;\n",
       "        \n",
       "&lt;/head&gt;\n",
       "&lt;body&gt;    \n",
       "    \n",
       "              &lt;h3 align=&quot;center&quot; style=&quot;font-size:16px&quot;&gt;&lt;b&gt;Recent Miami-Dade Condo Sales &lt;/b&gt;&lt;/h3&gt;\n",
       "             \n",
       "    \n",
       "                &lt;p align=&quot;center&quot; style=&quot;vertical-align: bottom; font-size:13px&quot;&gt;&lt;i&gt;July 2nd - July 8th&lt;/i&gt;&lt;/p&gt;\n",
       "                \n",
       "    \n",
       "            &lt;div class=&quot;folium-map&quot; id=&quot;map_ea380eff450644972e4c7d6733b8efaa&quot; &gt;&lt;/div&gt;\n",
       "        \n",
       "&lt;/body&gt;\n",
       "&lt;script&gt;    \n",
       "    \n",
       "            var map_ea380eff450644972e4c7d6733b8efaa = L.map(\n",
       "                &quot;map_ea380eff450644972e4c7d6733b8efaa&quot;,\n",
       "                {\n",
       "                    center: [25.78103103, -80.16387826],\n",
       "                    crs: L.CRS.EPSG3857,\n",
       "                    zoom: 9.5,\n",
       "                    zoomControl: true,\n",
       "                    preferCanvas: false,\n",
       "                }\n",
       "            );\n",
       "\n",
       "            \n",
       "\n",
       "        \n",
       "    \n",
       "            var feature_group_09acd0b3ab7236dec24dfdcf45309692 = L.featureGroup(\n",
       "                {}\n",
       "            ).addTo(map_ea380eff450644972e4c7d6733b8efaa);\n",
       "        \n",
       "    \n",
       "            var marker_1119cfdcd793664a025a8e1a6fa48a2f = L.marker(\n",
       "                [25.7840774, -80.1425416],\n",
       "                {&quot;fill&quot;: true, &quot;radius&quot;: 5}\n",
       "            ).addTo(feature_group_09acd0b3ab7236dec24dfdcf45309692);\n",
       "        \n",
       "    \n",
       "            var icon_44b618c988b417963507c463727c7165 = L.AwesomeMarkers.icon(\n",
       "                {&quot;extraClasses&quot;: &quot;fa-rotate-0&quot;, &quot;icon&quot;: &quot;info-sign&quot;, &quot;iconColor&quot;: &quot;white&quot;, &quot;markerColor&quot;: &quot;orange&quot;, &quot;prefix&quot;: &quot;glyphicon&quot;}\n",
       "            );\n",
       "            marker_1119cfdcd793664a025a8e1a6fa48a2f.setIcon(icon_44b618c988b417963507c463727c7165);\n",
       "        \n",
       "    \n",
       "        var popup_e0bae4656dd7948f6f27a11a65387593 = L.popup({&quot;maxWidth&quot;: 400});\n",
       "\n",
       "        \n",
       "            \n",
       "                var html_90c16f93a763b8a594d987b33cfdaa5d = $(`&lt;div id=&quot;html_90c16f93a763b8a594d987b33cfdaa5d&quot; style=&quot;width: 100.0%; height: 100.0%;&quot;&gt;&lt;!DOCTYPE html&gt;     &lt;html&gt;     &lt;strong&gt;Building Name: &lt;/strong&gt;Monad Terrace&lt;br&gt;     &lt;strong&gt;Sale Price: &lt;/strong&gt;$4,000,000.00&lt;br&gt;     &lt;strong&gt;Days on Market: &lt;/strong&gt;286&lt;br&gt;     &lt;strong&gt;Listing Agent: &lt;/strong&gt;Ann Nortmann PA&lt;br&gt;     &lt;strong&gt;Buyer&#x27;s Agent: &lt;/strong&gt;Todd Nordstrom&lt;br&gt;     &lt;strong&gt;Price sq ft: &lt;/strong&gt;$1486.44&lt;br&gt;     &lt;strong&gt;Address: &lt;/strong&gt;1300 Monad Terr 9B Miami&lt;br&gt;     &lt;/html&gt;     &lt;/div&gt;`)[0];\n",
       "                popup_e0bae4656dd7948f6f27a11a65387593.setContent(html_90c16f93a763b8a594d987b33cfdaa5d);\n",
       "            \n",
       "        \n",
       "\n",
       "        marker_1119cfdcd793664a025a8e1a6fa48a2f.bindPopup(popup_e0bae4656dd7948f6f27a11a65387593)\n",
       "        ;\n",
       "\n",
       "        \n",
       "    \n",
       "    \n",
       "            var feature_group_508b33daed0a381aea4cf7034884cb77 = L.featureGroup(\n",
       "                {}\n",
       "            ).addTo(map_ea380eff450644972e4c7d6733b8efaa);\n",
       "        \n",
       "    \n",
       "            var marker_3e5e542b4d34b62cf7d06381220bbf0b = L.marker(\n",
       "                [25.7599996, -80.1891629],\n",
       "                {&quot;fill&quot;: true, &quot;radius&quot;: 5}\n",
       "            ).addTo(feature_group_508b33daed0a381aea4cf7034884cb77);\n",
       "        \n",
       "    \n",
       "            var icon_178bba4c6a0ee1d657a6c9cce9f4ad0e = L.AwesomeMarkers.icon(\n",
       "                {&quot;extraClasses&quot;: &quot;fa-rotate-0&quot;, &quot;icon&quot;: &quot;info-sign&quot;, &quot;iconColor&quot;: &quot;white&quot;, &quot;markerColor&quot;: &quot;blue&quot;, &quot;prefix&quot;: &quot;glyphicon&quot;}\n",
       "            );\n",
       "            marker_3e5e542b4d34b62cf7d06381220bbf0b.setIcon(icon_178bba4c6a0ee1d657a6c9cce9f4ad0e);\n",
       "        \n",
       "    \n",
       "        var popup_d07b10daf805940404637b7a6942743a = L.popup({&quot;maxWidth&quot;: 400});\n",
       "\n",
       "        \n",
       "            \n",
       "                var html_da751d17bbb3710005ab14655272e68f = $(`&lt;div id=&quot;html_da751d17bbb3710005ab14655272e68f&quot; style=&quot;width: 100.0%; height: 100.0%;&quot;&gt;&lt;!DOCTYPE html&gt;     &lt;html&gt;     &lt;strong&gt;Building Name: &lt;/strong&gt;Jade at Brickell Bay&lt;br&gt;     &lt;strong&gt;Sale Price: &lt;/strong&gt;$3,975,000.00&lt;br&gt;     &lt;strong&gt;Days on Market: &lt;/strong&gt;78&lt;br&gt;     &lt;strong&gt;Listing Agent: &lt;/strong&gt;Scott Shuffield&lt;br&gt;     &lt;strong&gt;Buyer&#x27;s Agent: &lt;/strong&gt;Morgan Saliny&lt;br&gt;     &lt;strong&gt;Price sq ft: &lt;/strong&gt;$1163.98&lt;br&gt;     &lt;strong&gt;Address: &lt;/strong&gt;1331 Brickell Bay Dr 3811&lt;br&gt;     &lt;/html&gt;     &lt;/div&gt;`)[0];\n",
       "                popup_d07b10daf805940404637b7a6942743a.setContent(html_da751d17bbb3710005ab14655272e68f);\n",
       "            \n",
       "        \n",
       "\n",
       "        marker_3e5e542b4d34b62cf7d06381220bbf0b.bindPopup(popup_d07b10daf805940404637b7a6942743a)\n",
       "        ;\n",
       "\n",
       "        \n",
       "    \n",
       "    \n",
       "            var marker_406b263620bab3b2ce43e5ae8dc94d5f = L.marker(\n",
       "                [25.7840774, -80.1425416],\n",
       "                {&quot;fill&quot;: true, &quot;radius&quot;: 5}\n",
       "            ).addTo(feature_group_508b33daed0a381aea4cf7034884cb77);\n",
       "        \n",
       "    \n",
       "            var icon_ccd4e349c12aee6e7410540bb8c12f97 = L.AwesomeMarkers.icon(\n",
       "                {&quot;extraClasses&quot;: &quot;fa-rotate-0&quot;, &quot;icon&quot;: &quot;info-sign&quot;, &quot;iconColor&quot;: &quot;white&quot;, &quot;markerColor&quot;: &quot;blue&quot;, &quot;prefix&quot;: &quot;glyphicon&quot;}\n",
       "            );\n",
       "            marker_406b263620bab3b2ce43e5ae8dc94d5f.setIcon(icon_ccd4e349c12aee6e7410540bb8c12f97);\n",
       "        \n",
       "    \n",
       "        var popup_bb0ff93c741cecd0038b7755189c212f = L.popup({&quot;maxWidth&quot;: 400});\n",
       "\n",
       "        \n",
       "            \n",
       "                var html_ef94f2b1990fded1c93d1bc176fdd096 = $(`&lt;div id=&quot;html_ef94f2b1990fded1c93d1bc176fdd096&quot; style=&quot;width: 100.0%; height: 100.0%;&quot;&gt;&lt;!DOCTYPE html&gt;     &lt;html&gt;     &lt;strong&gt;Building Name: &lt;/strong&gt;Monad Terrace&lt;br&gt;     &lt;strong&gt;Sale Price: &lt;/strong&gt;$3,750,000.00&lt;br&gt;     &lt;strong&gt;Days on Market: &lt;/strong&gt;90&lt;br&gt;     &lt;strong&gt;Listing Agent: &lt;/strong&gt;Todd Nordstrom&lt;br&gt;     &lt;strong&gt;Buyer&#x27;s Agent: &lt;/strong&gt;Joseph Schafer&lt;br&gt;     &lt;strong&gt;Price sq ft: &lt;/strong&gt;$1652.71&lt;br&gt;     &lt;strong&gt;Address: &lt;/strong&gt;1300 Monad Terr 6D Miami&lt;br&gt;     &lt;/html&gt;     &lt;/div&gt;`)[0];\n",
       "                popup_bb0ff93c741cecd0038b7755189c212f.setContent(html_ef94f2b1990fded1c93d1bc176fdd096);\n",
       "            \n",
       "        \n",
       "\n",
       "        marker_406b263620bab3b2ce43e5ae8dc94d5f.bindPopup(popup_bb0ff93c741cecd0038b7755189c212f)\n",
       "        ;\n",
       "\n",
       "        \n",
       "    \n",
       "    \n",
       "            var marker_2243de1d1aa408c0c29bbe7117ce987b = L.marker(\n",
       "                [25.9519943, -80.11997],\n",
       "                {&quot;fill&quot;: true, &quot;radius&quot;: 5}\n",
       "            ).addTo(feature_group_508b33daed0a381aea4cf7034884cb77);\n",
       "        \n",
       "    \n",
       "            var icon_3442916d374bdec73974cb0e8dc96765 = L.AwesomeMarkers.icon(\n",
       "                {&quot;extraClasses&quot;: &quot;fa-rotate-0&quot;, &quot;icon&quot;: &quot;info-sign&quot;, &quot;iconColor&quot;: &quot;white&quot;, &quot;markerColor&quot;: &quot;blue&quot;, &quot;prefix&quot;: &quot;glyphicon&quot;}\n",
       "            );\n",
       "            marker_2243de1d1aa408c0c29bbe7117ce987b.setIcon(icon_3442916d374bdec73974cb0e8dc96765);\n",
       "        \n",
       "    \n",
       "        var popup_0646c540fe2b7f9b7f1cb54efe77fc8e = L.popup({&quot;maxWidth&quot;: 400});\n",
       "\n",
       "        \n",
       "            \n",
       "                var html_85d7854ca456036cf79c93ad146cfc9d = $(`&lt;div id=&quot;html_85d7854ca456036cf79c93ad146cfc9d&quot; style=&quot;width: 100.0%; height: 100.0%;&quot;&gt;&lt;!DOCTYPE html&gt;     &lt;html&gt;     &lt;strong&gt;Building Name: &lt;/strong&gt;Residences by Armani Casa&lt;br&gt;     &lt;strong&gt;Sale Price: &lt;/strong&gt;$3,300,000.00&lt;br&gt;     &lt;strong&gt;Days on Market: &lt;/strong&gt;134&lt;br&gt;     &lt;strong&gt;Listing Agent: &lt;/strong&gt;Adriana Pavluk&lt;br&gt;     &lt;strong&gt;Buyer&#x27;s Agent: &lt;/strong&gt;Mariela Hopen&lt;br&gt;     &lt;strong&gt;Price sq ft: &lt;/strong&gt;$1872.87&lt;br&gt;     &lt;strong&gt;Address: &lt;/strong&gt;18975 Collins Ave 5404 Sunny Isles&lt;br&gt;     &lt;/html&gt;     &lt;/div&gt;`)[0];\n",
       "                popup_0646c540fe2b7f9b7f1cb54efe77fc8e.setContent(html_85d7854ca456036cf79c93ad146cfc9d);\n",
       "            \n",
       "        \n",
       "\n",
       "        marker_2243de1d1aa408c0c29bbe7117ce987b.bindPopup(popup_0646c540fe2b7f9b7f1cb54efe77fc8e)\n",
       "        ;\n",
       "\n",
       "        \n",
       "    \n",
       "    \n",
       "            var marker_b7a619dd50adc0b5e66da9a1ed3e5e07 = L.marker(\n",
       "                [25.6376869, -80.2897418],\n",
       "                {&quot;fill&quot;: true, &quot;radius&quot;: 5}\n",
       "            ).addTo(feature_group_508b33daed0a381aea4cf7034884cb77);\n",
       "        \n",
       "    \n",
       "            var icon_f8d69e3162fc6db71b12acf191c26ed3 = L.AwesomeMarkers.icon(\n",
       "                {&quot;extraClasses&quot;: &quot;fa-rotate-0&quot;, &quot;icon&quot;: &quot;info-sign&quot;, &quot;iconColor&quot;: &quot;white&quot;, &quot;markerColor&quot;: &quot;blue&quot;, &quot;prefix&quot;: &quot;glyphicon&quot;}\n",
       "            );\n",
       "            marker_b7a619dd50adc0b5e66da9a1ed3e5e07.setIcon(icon_f8d69e3162fc6db71b12acf191c26ed3);\n",
       "        \n",
       "    \n",
       "        var popup_f7ddb4c90cb2c567a23c990fc60346f7 = L.popup({&quot;maxWidth&quot;: 400});\n",
       "\n",
       "        \n",
       "            \n",
       "                var html_30d15acad6a6b53e3b692c833b5bdef5 = $(`&lt;div id=&quot;html_30d15acad6a6b53e3b692c833b5bdef5&quot; style=&quot;width: 100.0%; height: 100.0%;&quot;&gt;&lt;!DOCTYPE html&gt;     &lt;html&gt;     &lt;strong&gt;Building Name: &lt;/strong&gt;Milano at Deering Bay&lt;br&gt;     &lt;strong&gt;Sale Price: &lt;/strong&gt;$1,900,000.00&lt;br&gt;     &lt;strong&gt;Days on Market: &lt;/strong&gt;62&lt;br&gt;     &lt;strong&gt;Listing Agent: &lt;/strong&gt;Edith Neuwahl&lt;br&gt;     &lt;strong&gt;Buyer&#x27;s Agent: &lt;/strong&gt;Marilyn Miguel&lt;br&gt;     &lt;strong&gt;Price sq ft: &lt;/strong&gt;$639.3&lt;br&gt;     &lt;strong&gt;Address: &lt;/strong&gt;13621 Deering Bay Dr 903 Coral&lt;br&gt;     &lt;/html&gt;     &lt;/div&gt;`)[0];\n",
       "                popup_f7ddb4c90cb2c567a23c990fc60346f7.setContent(html_30d15acad6a6b53e3b692c833b5bdef5);\n",
       "            \n",
       "        \n",
       "\n",
       "        marker_b7a619dd50adc0b5e66da9a1ed3e5e07.bindPopup(popup_f7ddb4c90cb2c567a23c990fc60346f7)\n",
       "        ;\n",
       "\n",
       "        \n",
       "    \n",
       "    \n",
       "            var marker_1e6cde033d966f39116eaa4c012cb97e = L.marker(\n",
       "                [25.765952, -80.1930337],\n",
       "                {&quot;fill&quot;: true, &quot;radius&quot;: 5}\n",
       "            ).addTo(feature_group_508b33daed0a381aea4cf7034884cb77);\n",
       "        \n",
       "    \n",
       "            var icon_5bce4e403e5f8455be5bc056ede3877f = L.AwesomeMarkers.icon(\n",
       "                {&quot;extraClasses&quot;: &quot;fa-rotate-0&quot;, &quot;icon&quot;: &quot;info-sign&quot;, &quot;iconColor&quot;: &quot;white&quot;, &quot;markerColor&quot;: &quot;blue&quot;, &quot;prefix&quot;: &quot;glyphicon&quot;}\n",
       "            );\n",
       "            marker_1e6cde033d966f39116eaa4c012cb97e.setIcon(icon_5bce4e403e5f8455be5bc056ede3877f);\n",
       "        \n",
       "    \n",
       "        var popup_c44197a4c82ac852b699a4148653b08c = L.popup({&quot;maxWidth&quot;: 400});\n",
       "\n",
       "        \n",
       "            \n",
       "                var html_4cce32043f9b3642745a154902e2ac3c = $(`&lt;div id=&quot;html_4cce32043f9b3642745a154902e2ac3c&quot; style=&quot;width: 100.0%; height: 100.0%;&quot;&gt;&lt;!DOCTYPE html&gt;     &lt;html&gt;     &lt;strong&gt;Building Name: &lt;/strong&gt;SLS Lux&lt;br&gt;     &lt;strong&gt;Sale Price: &lt;/strong&gt;$1,440,000.00&lt;br&gt;     &lt;strong&gt;Days on Market: &lt;/strong&gt;84&lt;br&gt;     &lt;strong&gt;Listing Agent: &lt;/strong&gt;Joao Carvalho&lt;br&gt;     &lt;strong&gt;Buyer&#x27;s Agent: &lt;/strong&gt;Prince Hassan&lt;br&gt;     &lt;strong&gt;Price sq ft: &lt;/strong&gt;$993.1&lt;br&gt;     &lt;strong&gt;Address: &lt;/strong&gt;801 S Miami Ave 2509&lt;br&gt;     &lt;/html&gt;     &lt;/div&gt;`)[0];\n",
       "                popup_c44197a4c82ac852b699a4148653b08c.setContent(html_4cce32043f9b3642745a154902e2ac3c);\n",
       "            \n",
       "        \n",
       "\n",
       "        marker_1e6cde033d966f39116eaa4c012cb97e.bindPopup(popup_c44197a4c82ac852b699a4148653b08c)\n",
       "        ;\n",
       "\n",
       "        \n",
       "    \n",
       "    \n",
       "            var marker_99d712b8b65efd51c7b28967ad9b0755 = L.marker(\n",
       "                [25.6834508, -80.15741469999999],\n",
       "                {&quot;fill&quot;: true, &quot;radius&quot;: 5}\n",
       "            ).addTo(feature_group_508b33daed0a381aea4cf7034884cb77);\n",
       "        \n",
       "    \n",
       "            var icon_d04cd66aca5731996bfb5a3ffb4fd12a = L.AwesomeMarkers.icon(\n",
       "                {&quot;extraClasses&quot;: &quot;fa-rotate-0&quot;, &quot;icon&quot;: &quot;info-sign&quot;, &quot;iconColor&quot;: &quot;white&quot;, &quot;markerColor&quot;: &quot;blue&quot;, &quot;prefix&quot;: &quot;glyphicon&quot;}\n",
       "            );\n",
       "            marker_99d712b8b65efd51c7b28967ad9b0755.setIcon(icon_d04cd66aca5731996bfb5a3ffb4fd12a);\n",
       "        \n",
       "    \n",
       "        var popup_4b02509cd12904d566cde27afb9395f2 = L.popup({&quot;maxWidth&quot;: 400});\n",
       "\n",
       "        \n",
       "            \n",
       "                var html_3c821e81514c188f89b1ded01450d75d = $(`&lt;div id=&quot;html_3c821e81514c188f89b1ded01450d75d&quot; style=&quot;width: 100.0%; height: 100.0%;&quot;&gt;&lt;!DOCTYPE html&gt;     &lt;html&gt;     &lt;strong&gt;Building Name: &lt;/strong&gt;Towers of Key Biscayne&lt;br&gt;     &lt;strong&gt;Sale Price: &lt;/strong&gt;$1,250,000.00&lt;br&gt;     &lt;strong&gt;Days on Market: &lt;/strong&gt;7&lt;br&gt;     &lt;strong&gt;Listing Agent: &lt;/strong&gt;Alexandra Sierra&lt;br&gt;     &lt;strong&gt;Buyer&#x27;s Agent: &lt;/strong&gt;Maureen Jauregui&lt;br&gt;     &lt;strong&gt;Price sq ft: &lt;/strong&gt;$887.15&lt;br&gt;     &lt;strong&gt;Address: &lt;/strong&gt;1111 Crandon Blvd B305 Key&lt;br&gt;     &lt;/html&gt;     &lt;/div&gt;`)[0];\n",
       "                popup_4b02509cd12904d566cde27afb9395f2.setContent(html_3c821e81514c188f89b1ded01450d75d);\n",
       "            \n",
       "        \n",
       "\n",
       "        marker_99d712b8b65efd51c7b28967ad9b0755.bindPopup(popup_4b02509cd12904d566cde27afb9395f2)\n",
       "        ;\n",
       "\n",
       "        \n",
       "    \n",
       "    \n",
       "            var marker_d74beadb75906e0560fb4323bb0d2a2f = L.marker(\n",
       "                [25.798778, -80.127191],\n",
       "                {&quot;fill&quot;: true, &quot;radius&quot;: 5}\n",
       "            ).addTo(feature_group_508b33daed0a381aea4cf7034884cb77);\n",
       "        \n",
       "    \n",
       "            var icon_6e4a5471212066636f656fc666d70851 = L.AwesomeMarkers.icon(\n",
       "                {&quot;extraClasses&quot;: &quot;fa-rotate-0&quot;, &quot;icon&quot;: &quot;info-sign&quot;, &quot;iconColor&quot;: &quot;white&quot;, &quot;markerColor&quot;: &quot;blue&quot;, &quot;prefix&quot;: &quot;glyphicon&quot;}\n",
       "            );\n",
       "            marker_d74beadb75906e0560fb4323bb0d2a2f.setIcon(icon_6e4a5471212066636f656fc666d70851);\n",
       "        \n",
       "    \n",
       "        var popup_64cab2b577d7051207a5903940769338 = L.popup({&quot;maxWidth&quot;: 400});\n",
       "\n",
       "        \n",
       "            \n",
       "                var html_a6887152a7f80c4dacb876ae19c9c771 = $(`&lt;div id=&quot;html_a6887152a7f80c4dacb876ae19c9c771&quot; style=&quot;width: 100.0%; height: 100.0%;&quot;&gt;&lt;!DOCTYPE html&gt;     &lt;html&gt;     &lt;strong&gt;Building Name: &lt;/strong&gt;Roney Palace Condo&lt;br&gt;     &lt;strong&gt;Sale Price: &lt;/strong&gt;$1,150,000.00&lt;br&gt;     &lt;strong&gt;Days on Market: &lt;/strong&gt;34&lt;br&gt;     &lt;strong&gt;Listing Agent: &lt;/strong&gt;Maria Fernanda Bustamante&lt;br&gt;     &lt;strong&gt;Buyer&#x27;s Agent: &lt;/strong&gt;Priscilla Haisley&lt;br&gt;     &lt;strong&gt;Price sq ft: &lt;/strong&gt;$1369.05&lt;br&gt;     &lt;strong&gt;Address: &lt;/strong&gt;2301 Collins Ave 1417 Miami&lt;br&gt;     &lt;/html&gt;     &lt;/div&gt;`)[0];\n",
       "                popup_64cab2b577d7051207a5903940769338.setContent(html_a6887152a7f80c4dacb876ae19c9c771);\n",
       "            \n",
       "        \n",
       "\n",
       "        marker_d74beadb75906e0560fb4323bb0d2a2f.bindPopup(popup_64cab2b577d7051207a5903940769338)\n",
       "        ;\n",
       "\n",
       "        \n",
       "    \n",
       "    \n",
       "            var marker_213c07c9876c3d6d6596d263d08b562f = L.marker(\n",
       "                [25.699304, -80.157096],\n",
       "                {&quot;fill&quot;: true, &quot;radius&quot;: 5}\n",
       "            ).addTo(feature_group_508b33daed0a381aea4cf7034884cb77);\n",
       "        \n",
       "    \n",
       "            var icon_047556e6ad05f973c6fe7ebde53f0a9d = L.AwesomeMarkers.icon(\n",
       "                {&quot;extraClasses&quot;: &quot;fa-rotate-0&quot;, &quot;icon&quot;: &quot;info-sign&quot;, &quot;iconColor&quot;: &quot;white&quot;, &quot;markerColor&quot;: &quot;blue&quot;, &quot;prefix&quot;: &quot;glyphicon&quot;}\n",
       "            );\n",
       "            marker_213c07c9876c3d6d6596d263d08b562f.setIcon(icon_047556e6ad05f973c6fe7ebde53f0a9d);\n",
       "        \n",
       "    \n",
       "        var popup_653e4b37891f463748c096e8f41da5c6 = L.popup({&quot;maxWidth&quot;: 400});\n",
       "\n",
       "        \n",
       "            \n",
       "                var html_76569a492fd4662a12932b701f635ed6 = $(`&lt;div id=&quot;html_76569a492fd4662a12932b701f635ed6&quot; style=&quot;width: 100.0%; height: 100.0%;&quot;&gt;&lt;!DOCTYPE html&gt;     &lt;html&gt;     &lt;strong&gt;Building Name: &lt;/strong&gt;Commodore South&lt;br&gt;     &lt;strong&gt;Sale Price: &lt;/strong&gt;$1,150,000.00&lt;br&gt;     &lt;strong&gt;Days on Market: &lt;/strong&gt;72&lt;br&gt;     &lt;strong&gt;Listing Agent: &lt;/strong&gt;Amelia Courtney&lt;br&gt;     &lt;strong&gt;Buyer&#x27;s Agent: &lt;/strong&gt;Thania Vernon&lt;br&gt;     &lt;strong&gt;Price sq ft: &lt;/strong&gt;$912.7&lt;br&gt;     &lt;strong&gt;Address: &lt;/strong&gt;199 Ocean Lane Dr 611 Key&lt;br&gt;     &lt;/html&gt;     &lt;/div&gt;`)[0];\n",
       "                popup_653e4b37891f463748c096e8f41da5c6.setContent(html_76569a492fd4662a12932b701f635ed6);\n",
       "            \n",
       "        \n",
       "\n",
       "        marker_213c07c9876c3d6d6596d263d08b562f.bindPopup(popup_653e4b37891f463748c096e8f41da5c6)\n",
       "        ;\n",
       "\n",
       "        \n",
       "    \n",
       "    \n",
       "            var marker_86f0b0eeb13097cac3cf7bc69624c394 = L.marker(\n",
       "                [25.9449899, -80.12008929999999],\n",
       "                {&quot;fill&quot;: true, &quot;radius&quot;: 5}\n",
       "            ).addTo(feature_group_508b33daed0a381aea4cf7034884cb77);\n",
       "        \n",
       "    \n",
       "            var icon_7e0033121b753e5476961be8fccde133 = L.AwesomeMarkers.icon(\n",
       "                {&quot;extraClasses&quot;: &quot;fa-rotate-0&quot;, &quot;icon&quot;: &quot;info-sign&quot;, &quot;iconColor&quot;: &quot;white&quot;, &quot;markerColor&quot;: &quot;blue&quot;, &quot;prefix&quot;: &quot;glyphicon&quot;}\n",
       "            );\n",
       "            marker_86f0b0eeb13097cac3cf7bc69624c394.setIcon(icon_7e0033121b753e5476961be8fccde133);\n",
       "        \n",
       "    \n",
       "        var popup_612a6fb40f839e094dcd59c311dcbb20 = L.popup({&quot;maxWidth&quot;: 400});\n",
       "\n",
       "        \n",
       "            \n",
       "                var html_33f9fab9600d91c31a7015022e6e64a0 = $(`&lt;div id=&quot;html_33f9fab9600d91c31a7015022e6e64a0&quot; style=&quot;width: 100.0%; height: 100.0%;&quot;&gt;&lt;!DOCTYPE html&gt;     &lt;html&gt;     &lt;strong&gt;Building Name: &lt;/strong&gt;Trump Royale&lt;br&gt;     &lt;strong&gt;Sale Price: &lt;/strong&gt;$1,150,000.00&lt;br&gt;     &lt;strong&gt;Days on Market: &lt;/strong&gt;236&lt;br&gt;     &lt;strong&gt;Listing Agent: &lt;/strong&gt;Vanessa Frank PA&lt;br&gt;     &lt;strong&gt;Buyer&#x27;s Agent: &lt;/strong&gt;Nicole Faur&lt;br&gt;     &lt;strong&gt;Price sq ft: &lt;/strong&gt;$892.16&lt;br&gt;     &lt;strong&gt;Address: &lt;/strong&gt;18201 Collins Ave 3601A Sunny Isles&lt;br&gt;     &lt;/html&gt;     &lt;/div&gt;`)[0];\n",
       "                popup_612a6fb40f839e094dcd59c311dcbb20.setContent(html_33f9fab9600d91c31a7015022e6e64a0);\n",
       "            \n",
       "        \n",
       "\n",
       "        marker_86f0b0eeb13097cac3cf7bc69624c394.bindPopup(popup_612a6fb40f839e094dcd59c311dcbb20)\n",
       "        ;\n",
       "\n",
       "        \n",
       "    \n",
       "    \n",
       "            var tile_layer_98301a4ce12f09dfc1ede13734e90b36 = L.tileLayer(\n",
       "                &quot;https://{s}.tile.openstreetmap.org/{z}/{x}/{y}.png&quot;,\n",
       "                {&quot;attribution&quot;: &quot;Data by \\u0026copy; \\u003ca href=\\&quot;http://openstreetmap.org\\&quot;\\u003eOpenStreetMap\\u003c/a\\u003e, under \\u003ca href=\\&quot;http://www.openstreetmap.org/copyright\\&quot;\\u003eODbL\\u003c/a\\u003e.&quot;, &quot;detectRetina&quot;: false, &quot;maxNativeZoom&quot;: 18, &quot;maxZoom&quot;: 18, &quot;minZoom&quot;: 0, &quot;noWrap&quot;: false, &quot;opacity&quot;: 1, &quot;subdomains&quot;: &quot;abc&quot;, &quot;tms&quot;: false}\n",
       "            ).addTo(map_ea380eff450644972e4c7d6733b8efaa);\n",
       "        \n",
       "    \n",
       "            var layer_control_4060e48c448b8325e2446fc01f8047ca = {\n",
       "                base_layers : {\n",
       "                },\n",
       "                overlays :  {\n",
       "                    &quot;Top Sale&quot; : feature_group_09acd0b3ab7236dec24dfdcf45309692,\n",
       "                    &quot;All other sales&quot; : feature_group_508b33daed0a381aea4cf7034884cb77,\n",
       "                },\n",
       "            };\n",
       "            L.control.layers(\n",
       "                layer_control_4060e48c448b8325e2446fc01f8047ca.base_layers,\n",
       "                layer_control_4060e48c448b8325e2446fc01f8047ca.overlays,\n",
       "                {&quot;autoZIndex&quot;: true, &quot;collapsed&quot;: false, &quot;position&quot;: &quot;topright&quot;}\n",
       "            ).addTo(map_ea380eff450644972e4c7d6733b8efaa);\n",
       "        \n",
       "&lt;/script&gt;\" style=\"position:absolute;width:100%;height:100%;left:0;top:0;border:none !important;\" allowfullscreen webkitallowfullscreen mozallowfullscreen></iframe></div></div>"
      ],
      "text/plain": [
       "<folium.folium.Map at 0x7fdb70056850>"
      ]
     },
     "execution_count": 37,
     "metadata": {},
     "output_type": "execute_result"
    }
   ],
   "source": [
    "import folium\n",
    "from folium.plugins import MarkerCluster\n",
    "\n",
    "m = folium.Map(location=df[[\"lat\", \"lon\"]].mean().to_list(), zoom_start=10)\n",
    "\n",
    "title_html = '''\n",
    "              <h3 align=\"center\" style=\"font-size:16px\"><b>{}</b></h3>\n",
    "             '''.format(f'Recent Miami-Dade Condo Sales ')\n",
    "\n",
    "caption_html = '''\n",
    "                <p align=\"center\" style=\"vertical-align: bottom; font-size:13px\"><i>{}</i></p>\n",
    "                '''.format('July 2nd - July 8th')\n",
    "\n",
    "\n",
    "### Create map container ###\n",
    "m = folium.Map(location=df[[\"lat\", \"lon\"]].mean().to_list(),zoom_start=9.5,tiles=None)\n",
    "\n",
    "# Create two FeatureGroups for different color pins\n",
    "fg_blue = folium.FeatureGroup(name='All other sales')\n",
    "fg_orange = folium.FeatureGroup(name='Top Sale')\n",
    "\n",
    "for index, row in df.iterrows():\n",
    "    # Add the markers to the appropriate FeatureGroup based on the color\n",
    "    if row['COLOR'] == 'blue':\n",
    "        marker = folium.Marker(\n",
    "            location=[row['lat'], row['lon']],\n",
    "            radius=5,\n",
    "            fill=True,\n",
    "            icon=folium.Icon(color=row['COLOR']),\n",
    "            popup=folium.Popup(popup_html(row), max_width=400))\n",
    "        marker.add_to(fg_blue)\n",
    "    else:\n",
    "        marker = folium.Marker(\n",
    "            location=[row['lat'], row['lon']],\n",
    "            radius=5,\n",
    "            fill=True,\n",
    "            icon=folium.Icon(color=row['COLOR']),\n",
    "            popup=folium.Popup(popup_html(row), max_width=400))\n",
    "        marker.add_to(fg_orange)\n",
    "\n",
    "# Add the FeatureGroups to the map\n",
    "fg_orange.add_to(m)\n",
    "fg_blue.add_to(m)\n",
    "\n",
    "folium.TileLayer('OpenStreetMap',control=False).add_to(m)\n",
    "\n",
    "# Add LayerControl to the map\n",
    "folium.map.LayerControl(collapsed=False).add_to(m)\n",
    "m.get_root().html.add_child(folium.Element(title_html))\n",
    "m.get_root().html.add_child(folium.Element(caption_html))\n",
    "            \n",
    "# Display map\n",
    "m"
   ]
  },
  {
   "cell_type": "code",
   "execution_count": 38,
   "metadata": {},
   "outputs": [],
   "source": [
    "m.save('index.html')"
   ]
  },
  {
   "cell_type": "markdown",
   "metadata": {},
   "source": [
    "## Data snagger"
   ]
  },
  {
   "cell_type": "code",
   "execution_count": 39,
   "metadata": {},
   "outputs": [],
   "source": [
    "### Set up formatting ###\n",
    "BR = '\\n'\n",
    "\n",
    "ME = '\\033[1m' + 'Most Expensive' + '\\033[0m'\n",
    "LE = '\\033[1m' + 'Least Expensive' + '\\033[0m'\n",
    "\n",
    "MAX_PSF = '\\033[1m' + 'Highest Price Per Square Foot' + '\\033[0m'\n",
    "MIN_PSF = '\\033[1m' + 'Lowest Price Per Square Foot' + '\\033[0m'\n",
    "\n",
    "DAYS_MAX = '\\033[1m' + 'Most Days on Market' + '\\033[0m'\n",
    "DAYS_MIN = '\\033[1m' + 'Fewest Days on Market' + '\\033[0m'"
   ]
  },
  {
   "cell_type": "code",
   "execution_count": 40,
   "metadata": {},
   "outputs": [
    {
     "name": "stdout",
     "output_type": "stream",
     "text": [
      "\u001b[1mMost Expensive\u001b[0m\n",
      "Monad Terrace, 1300 Monad Terr 9B Miami | Price $4,000,000 | $1,486 psf | Listing agent: Ann Nortmann PA with Compass Florida, LLC. | Buyer's agent: Todd Nordstrom with Douglas Elliman | Days on market: 286\n",
      "\u001b[1mLeast Expensive\u001b[0m\n",
      "Roney Palace Condo, 2301 Collins Ave 1417 Miami | Price $1,150,000 | $1,369 psf | Listing agent: Maria Fernanda Bustamante with Luxe Living Realty | Buyer's agent: Priscilla Haisley with Compass Florida, LLC. | Days on market: 34\n",
      "\u001b[1mHighest Price Per Square Foot\u001b[0m\n",
      "Residences by Armani Casa, 18975 Collins Ave 5404 Sunny Isles | Price $3,300,000 | $1,873 psf | Listing agent: Adriana Pavluk with London Foster Realty | Buyer's agent: Mariela Hopen with London Foster Realty | Days on market: 134\n",
      "\u001b[1mLowest Price Per Square Foot\u001b[0m\n",
      "Milano at Deering Bay, 13621 Deering Bay Dr 903 Coral | Price $1,900,000 | $639 psf | Listing agent: Edith Neuwahl with Ancona Real Estate Inc | Buyer's agent: Marilyn Miguel with London Foster Realty | Days on market: 62\n",
      "\u001b[1mMost Days on Market\u001b[0m\n",
      "Monad Terrace, 1300 Monad Terr 9B Miami | Price $4,000,000 | $1,486 psf | Listing agent: Ann Nortmann PA with Compass Florida, LLC. | Buyer's agent: Todd Nordstrom with Douglas Elliman | Days on market: 286\n",
      "\u001b[1mFewest Days on Market\u001b[0m\n",
      "Towers of Key Biscayne, 1111 Crandon Blvd B305 Key | Price $1,250,000 | $887 psf | Listing agent: Alexandra Sierra with One Sotheby's International Re | Buyer's agent: Maureen Jauregui with Finvarb Realty, Inc. | Days on market: 7\n"
     ]
    }
   ],
   "source": [
    "### Highest and lowest sale price ###\n",
    "print(f\"{ME}{BR}{df.loc[df['int_Sale_Price'].idxmax()]['building_name']}, {df.loc[df['int_Sale_Price'].idxmax()]['address']} | Price ${df.loc[df['int_Sale_Price'].idxmax()]['int_Sale_Price']:,.0f} | ${df.loc[df['int_Sale_Price'].idxmax()]['price_per_sqft']:,.0f} psf | Listing agent: {df.loc[df['int_Sale_Price'].idxmax()]['Agent']} with {df.loc[df['int_Sale_Price'].idxmax()]['Listing Broker']} | Buyer's agent: {df.loc[df['int_Sale_Price'].idxmax()]['Buyer Agent']} with {df.loc[df['int_Sale_Price'].idxmax()]['Buyer Broker']} | Days on market: {df.loc[df['int_Sale_Price'].idxmax()]['days_on_market']}\")\n",
    "print(f\"{LE}{BR}{df.loc[df['int_Sale_Price'].idxmin()]['building_name']}, {df.loc[df['int_Sale_Price'].idxmin()]['address']} | Price ${df.loc[df['int_Sale_Price'].idxmin()]['int_Sale_Price']:,.0f} | ${df.loc[df['int_Sale_Price'].idxmin()]['price_per_sqft']:,.0f} psf | Listing agent: {df.loc[df['int_Sale_Price'].idxmin()]['Agent']} with {df.loc[df['int_Sale_Price'].idxmin()]['Listing Broker']} | Buyer's agent: {df.loc[df['int_Sale_Price'].idxmin()]['Buyer Agent']} with {df.loc[df['int_Sale_Price'].idxmin()]['Buyer Broker']} | Days on market: {df.loc[df['int_Sale_Price'].idxmin()]['days_on_market']}\")\n",
    "### Highest and lowest psf ###\n",
    "print(f\"{MAX_PSF}{BR}{df.loc[df['price_per_sqft'].idxmax()]['building_name']}, {df.loc[df['price_per_sqft'].idxmax()]['address']} | Price ${df.loc[df['price_per_sqft'].idxmax()]['int_Sale_Price']:,.0f} | ${df.loc[df['price_per_sqft'].idxmax()]['price_per_sqft']:,.0f} psf | Listing agent: {df.loc[df['price_per_sqft'].idxmax()]['Agent']} with {df.loc[df['price_per_sqft'].idxmax()]['Listing Broker']} | Buyer's agent: {df.loc[df['price_per_sqft'].idxmax()]['Buyer Agent']} with {df.loc[df['price_per_sqft'].idxmax()]['Buyer Broker']} | Days on market: {df.loc[df['price_per_sqft'].idxmax()]['days_on_market']}\")\n",
    "print(f\"{MIN_PSF}{BR}{df.loc[df['price_per_sqft'].idxmin()]['building_name']}, {df.loc[df['price_per_sqft'].idxmin()]['address']} | Price ${df.loc[df['price_per_sqft'].idxmin()]['int_Sale_Price']:,.0f} | ${df.loc[df['price_per_sqft'].idxmin()]['price_per_sqft']:,.0f} psf | Listing agent: {df.loc[df['price_per_sqft'].idxmin()]['Agent']} with {df.loc[df['price_per_sqft'].idxmin()]['Listing Broker']} | Buyer's agent: {df.loc[df['price_per_sqft'].idxmin()]['Buyer Agent']} with {df.loc[df['price_per_sqft'].idxmin()]['Buyer Broker']} | Days on market: {df.loc[df['price_per_sqft'].idxmin()]['days_on_market']}\")\n",
    "### Highest and lowest days on market ###\n",
    "print(f\"{DAYS_MAX}{BR}{df.loc[df['days_on_market'].idxmax()]['building_name']}, {df.loc[df['days_on_market'].idxmax()]['address']} | Price ${df.loc[df['days_on_market'].idxmax()]['int_Sale_Price']:,.0f} | ${df.loc[df['days_on_market'].idxmax()]['price_per_sqft']:,.0f} psf | Listing agent: {df.loc[df['days_on_market'].idxmax()]['Agent']} with {df.loc[df['days_on_market'].idxmax()]['Listing Broker']} | Buyer's agent: {df.loc[df['days_on_market'].idxmax()]['Buyer Agent']} with {df.loc[df['days_on_market'].idxmax()]['Buyer Broker']} | Days on market: {df.loc[df['days_on_market'].idxmax()]['days_on_market']}\")\n",
    "print(f\"{DAYS_MIN}{BR}{df.loc[df['days_on_market'].idxmin()]['building_name']}, {df.loc[df['days_on_market'].idxmin()]['address']} | Price ${df.loc[df['days_on_market'].idxmin()]['int_Sale_Price']:,.0f} | ${df.loc[df['days_on_market'].idxmin()]['price_per_sqft']:,.0f} psf | Listing agent: {df.loc[df['days_on_market'].idxmin()]['Agent']} with {df.loc[df['days_on_market'].idxmin()]['Listing Broker']} | Buyer's agent: {df.loc[df['days_on_market'].idxmin()]['Buyer Agent']} with {df.loc[df['days_on_market'].idxmin()]['Buyer Broker']} | Days on market: {df.loc[df['days_on_market'].idxmin()]['days_on_market']}\")"
   ]
  },
  {
   "cell_type": "markdown",
   "metadata": {},
   "source": [
    "## Map URL snagger"
   ]
  },
  {
   "cell_type": "markdown",
   "metadata": {},
   "source": [
    "Map template URL: `https://trd-digital.github.io/trd-news-interactive-maps/{map-folder-name}`"
   ]
  },
  {
   "cell_type": "code",
   "execution_count": 41,
   "metadata": {},
   "outputs": [],
   "source": [
    "base_name = 'https://trd-digital.github.io/trd-news-interactive-maps/'"
   ]
  },
  {
   "cell_type": "code",
   "execution_count": 42,
   "metadata": {},
   "outputs": [
    {
     "name": "stdout",
     "output_type": "stream",
     "text": [
      "https://trd-digital.github.io/trd-news-interactive-maps/condo_sales_week_ending_07102023\n"
     ]
    }
   ],
   "source": [
    "cwd = os.getcwd()\n",
    "\n",
    "cwd = cwd.split('/')\n",
    "\n",
    "final_name = base_name + cwd[-1]\n",
    "print(final_name)"
   ]
  }
 ],
 "metadata": {
  "kernelspec": {
   "display_name": "Python 3 (ipykernel)",
   "language": "python",
   "name": "python3"
  },
  "language_info": {
   "codemirror_mode": {
    "name": "ipython",
    "version": 3
   },
   "file_extension": ".py",
   "mimetype": "text/x-python",
   "name": "python",
   "nbconvert_exporter": "python",
   "pygments_lexer": "ipython3",
   "version": "3.9.12"
  },
  "toc": {
   "base_numbering": 1,
   "nav_menu": {},
   "number_sections": true,
   "sideBar": true,
   "skip_h1_title": false,
   "title_cell": "Table of Contents",
   "title_sidebar": "Contents",
   "toc_cell": false,
   "toc_position": {},
   "toc_section_display": true,
   "toc_window_display": false
  }
 },
 "nbformat": 4,
 "nbformat_minor": 4
}
