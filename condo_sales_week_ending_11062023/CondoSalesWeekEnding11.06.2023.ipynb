{
 "cells": [
  {
   "cell_type": "markdown",
   "metadata": {},
   "source": [
    "## Imports"
   ]
  },
  {
   "cell_type": "code",
   "execution_count": 22,
   "metadata": {},
   "outputs": [],
   "source": [
    "import googlemaps\n",
    "import pandas as pd\n",
    "import numpy as np\n",
    "import re\n",
    "import os\n",
    "import geopandas as gpd\n",
    "import folium\n",
    "import tabula"
   ]
  },
  {
   "cell_type": "markdown",
   "metadata": {},
   "source": [
    "## Read-in"
   ]
  },
  {
   "cell_type": "code",
   "execution_count": 23,
   "metadata": {},
   "outputs": [],
   "source": [
    "# Gotta figure out how to get rid of the java error.\n",
    "# SO: https://stackoverflow.com/questions/54817211/java-command-is-not-found-from-this-python-process-please-ensure-java-is-inst\n",
    "\n",
    "dsf = tabula.read_pdf('condo.pdf', pages='all')"
   ]
  },
  {
   "cell_type": "markdown",
   "metadata": {},
   "source": [
    "## Clean Data"
   ]
  },
  {
   "cell_type": "code",
   "execution_count": 24,
   "metadata": {},
   "outputs": [],
   "source": [
    "df = dsf[0]\n",
    "df.columns = df.iloc[0]\n",
    "df = df[1:]\n",
    "df = df.drop(columns=df.columns[0])\n",
    "df = df.replace(np.nan, 'Not Available', regex=True)\n",
    "df = df.rename(columns={'Building / Address / City': 'building_address_city','Days on\\rMarket':'days_on_market',\\\n",
    "                        'Price /\\rSq. Ft.':'price_per_sqft'})\n",
    "df['building_address_city'] = df['building_address_city'].str.replace('^0', '', regex=True)\n",
    "df['geo_address'] = df['building_address_city']\n",
    "df['geo_address'] = df['geo_address'].map(lambda x: re.sub(r'\\r', ' ', x))\n",
    "df = df.replace('\\n',' ',regex=True)\n",
    "pattern = r'^(?P<building_name>[\\d\\s]*[A-Za-z\\s]+)\\s(?P<address>.+)\\s(?P<city>[A-Za-z\\s]+)$'\n",
    "df2 = df['geo_address']\n",
    "df2 = df2.to_frame()\n",
    "df2[['building_name', 'address', 'city']] = df2['geo_address'].str.extract(pattern, expand=True)"
   ]
  },
  {
   "cell_type": "markdown",
   "metadata": {},
   "source": [
    "Review this later (it's about how to properly merge DFs): https://pandas.pydata.org/pandas-docs/stable/user_guide/merging.html"
   ]
  },
  {
   "cell_type": "markdown",
   "metadata": {},
   "source": [
    "## Geocode"
   ]
  },
  {
   "cell_type": "code",
   "execution_count": 25,
   "metadata": {},
   "outputs": [],
   "source": [
    "result = pd.merge(df,df2,left_index=True, right_index=True)\n",
    "df = result\n",
    "df = df.drop(columns='city')"
   ]
  },
  {
   "cell_type": "code",
   "execution_count": 26,
   "metadata": {},
   "outputs": [],
   "source": [
    "%store -r google_maps_API_Key\n",
    "gmaps_key = googlemaps.Client(key=google_maps_API_Key)"
   ]
  },
  {
   "cell_type": "code",
   "execution_count": 27,
   "metadata": {},
   "outputs": [],
   "source": [
    "def geocode(add):\n",
    "    g = gmaps_key.geocode(add)\n",
    "    lat = g[0][\"geometry\"][\"location\"][\"lat\"]\n",
    "    lng = g[0][\"geometry\"][\"location\"][\"lng\"]\n",
    "    return (lat, lng)\n",
    "\n",
    "df['geocoded'] = df['geo_address_x'].apply(geocode)"
   ]
  },
  {
   "cell_type": "code",
   "execution_count": 28,
   "metadata": {},
   "outputs": [],
   "source": [
    "df['geocoded'] = df['geocoded'].astype(str)\n",
    "df[['lat', 'lon']] = df['geocoded'].str.strip('()').str.split(', ', expand=True)\n",
    "df['lat'] = df['lat'].astype(float)\n",
    "df['lon'] = df['lon'].astype(float)"
   ]
  },
  {
   "cell_type": "markdown",
   "metadata": {},
   "source": [
    "Folium documentation link: https://python-visualization.github.io/folium/index.html\n",
    "\n",
    "Folium is the library that lets us use leaflet with Python, since it's meant to be used with JavaScript.\n",
    "\n",
    "For adding titles: https://stackoverflow.com/questions/61928013/adding-a-title-or-text-to-a-folium-map"
   ]
  },
  {
   "cell_type": "markdown",
   "metadata": {},
   "source": [
    "## Correction section"
   ]
  },
  {
   "cell_type": "code",
   "execution_count": 29,
   "metadata": {},
   "outputs": [],
   "source": [
    "# df.at[index#,'col_name']"
   ]
  },
  {
   "cell_type": "markdown",
   "metadata": {},
   "source": [
    "## Format Data"
   ]
  },
  {
   "cell_type": "code",
   "execution_count": 30,
   "metadata": {},
   "outputs": [],
   "source": [
    "### Insert NaNs if needed ###\n",
    "df = df.replace('N/A', np.nan)"
   ]
  },
  {
   "cell_type": "code",
   "execution_count": 31,
   "metadata": {},
   "outputs": [],
   "source": [
    "df['int_Sale_Price'] = df['Sale Price'].str.replace('$','',regex=False)"
   ]
  },
  {
   "cell_type": "code",
   "execution_count": 32,
   "metadata": {},
   "outputs": [],
   "source": [
    "df['int_Sale_Price'] = df['int_Sale_Price'].str.replace(',','',regex=False)"
   ]
  },
  {
   "cell_type": "code",
   "execution_count": 33,
   "metadata": {},
   "outputs": [],
   "source": [
    "df['int_Sale_Price'] = pd.to_numeric(df['int_Sale_Price'])"
   ]
  },
  {
   "cell_type": "code",
   "execution_count": 34,
   "metadata": {},
   "outputs": [],
   "source": [
    "df['price_per_sqft'] = df['price_per_sqft'].str.replace('$','',regex=False)\n",
    "df['price_per_sqft'] = df['price_per_sqft'].str.replace(',','',regex=False)\n",
    "df['price_per_sqft'] = pd.to_numeric(df['price_per_sqft'])\n",
    "\n",
    "df['days_on_market'] = pd.to_numeric(df['days_on_market'])"
   ]
  },
  {
   "cell_type": "markdown",
   "metadata": {},
   "source": [
    "## Color-code top sale"
   ]
  },
  {
   "cell_type": "code",
   "execution_count": 35,
   "metadata": {},
   "outputs": [],
   "source": [
    "### Insert RANK values ###\n",
    "df['RANK'] = range(1, len(df) + 1)\n",
    "# use numpy to assign values to the 'COLOR' column\n",
    "df['COLOR'] = np.where(df['RANK'] <= 1, 'orange', 'blue')"
   ]
  },
  {
   "cell_type": "markdown",
   "metadata": {},
   "source": [
    "## HTML Popup Formatter"
   ]
  },
  {
   "cell_type": "code",
   "execution_count": 36,
   "metadata": {},
   "outputs": [
    {
     "data": {
      "text/plain": [
       "Index(['building_address_city', 'Close Date', 'days_on_market', 'Sale Price',\n",
       "       'Sq. Ft.', 'price_per_sqft', 'Agent', 'Listing Broker', 'Buyer Agent',\n",
       "       'Buyer Broker', 'geo_address_x', 'geo_address_y', 'building_name',\n",
       "       'address', 'geocoded', 'lat', 'lon', 'int_Sale_Price', 'RANK', 'COLOR'],\n",
       "      dtype='object')"
      ]
     },
     "execution_count": 36,
     "metadata": {},
     "output_type": "execute_result"
    }
   ],
   "source": [
    "df.columns"
   ]
  },
  {
   "cell_type": "code",
   "execution_count": 37,
   "metadata": {},
   "outputs": [],
   "source": [
    "def popup_html(row):\n",
    "    building_name = row['building_name']\n",
    "    price = row['Sale Price']\n",
    "    days_on_market = row['days_on_market']\n",
    "    listing_agent = row['Agent']\n",
    "    buyers_agent = row['Buyer Agent']\n",
    "    psf = row['price_per_sqft']\n",
    "    address = row['address']\n",
    "    \n",
    "    html = '''<!DOCTYPE html>\n",
    "    <html>\n",
    "    <strong>Building Name: </strong>{}'''.format(building_name) + '''<br>\n",
    "    <strong>Sale Price: </strong>{}'''.format(price) + '''<br>\n",
    "    <strong>Days on Market: </strong>{}'''.format(days_on_market) + '''<br>\n",
    "    <strong>Listing Agent: </strong>{}'''.format(listing_agent) + '''<br>\n",
    "    <strong>Buyer's Agent: </strong>{}'''.format(buyers_agent) + '''<br>\n",
    "    <strong>Price sq ft: </strong>${}'''.format(psf) + '''<br>\n",
    "    <strong>Address: </strong>{}'''.format(address) + '''<br>\n",
    "    </html>\n",
    "    '''\n",
    "    return html"
   ]
  },
  {
   "cell_type": "code",
   "execution_count": 38,
   "metadata": {},
   "outputs": [
    {
     "data": {
      "text/html": [
       "<div style=\"width:100%;\"><div style=\"position:relative;width:100%;height:0;padding-bottom:60%;\"><span style=\"color:#565656\">Make this Notebook Trusted to load map: File -> Trust Notebook</span><iframe srcdoc=\"&lt;!DOCTYPE html&gt;\n",
       "&lt;head&gt;    \n",
       "    &lt;meta http-equiv=&quot;content-type&quot; content=&quot;text/html; charset=UTF-8&quot; /&gt;\n",
       "    \n",
       "        &lt;script&gt;\n",
       "            L_NO_TOUCH = false;\n",
       "            L_DISABLE_3D = false;\n",
       "        &lt;/script&gt;\n",
       "    \n",
       "    &lt;style&gt;html, body {width: 100%;height: 100%;margin: 0;padding: 0;}&lt;/style&gt;\n",
       "    &lt;style&gt;#map {position:absolute;top:0;bottom:0;right:0;left:0;}&lt;/style&gt;\n",
       "    &lt;script src=&quot;https://cdn.jsdelivr.net/npm/leaflet@1.6.0/dist/leaflet.js&quot;&gt;&lt;/script&gt;\n",
       "    &lt;script src=&quot;https://code.jquery.com/jquery-1.12.4.min.js&quot;&gt;&lt;/script&gt;\n",
       "    &lt;script src=&quot;https://maxcdn.bootstrapcdn.com/bootstrap/3.2.0/js/bootstrap.min.js&quot;&gt;&lt;/script&gt;\n",
       "    &lt;script src=&quot;https://cdnjs.cloudflare.com/ajax/libs/Leaflet.awesome-markers/2.0.2/leaflet.awesome-markers.js&quot;&gt;&lt;/script&gt;\n",
       "    &lt;link rel=&quot;stylesheet&quot; href=&quot;https://cdn.jsdelivr.net/npm/leaflet@1.6.0/dist/leaflet.css&quot;/&gt;\n",
       "    &lt;link rel=&quot;stylesheet&quot; href=&quot;https://maxcdn.bootstrapcdn.com/bootstrap/3.2.0/css/bootstrap.min.css&quot;/&gt;\n",
       "    &lt;link rel=&quot;stylesheet&quot; href=&quot;https://maxcdn.bootstrapcdn.com/bootstrap/3.2.0/css/bootstrap-theme.min.css&quot;/&gt;\n",
       "    &lt;link rel=&quot;stylesheet&quot; href=&quot;https://maxcdn.bootstrapcdn.com/font-awesome/4.6.3/css/font-awesome.min.css&quot;/&gt;\n",
       "    &lt;link rel=&quot;stylesheet&quot; href=&quot;https://cdnjs.cloudflare.com/ajax/libs/Leaflet.awesome-markers/2.0.2/leaflet.awesome-markers.css&quot;/&gt;\n",
       "    &lt;link rel=&quot;stylesheet&quot; href=&quot;https://cdn.jsdelivr.net/gh/python-visualization/folium/folium/templates/leaflet.awesome.rotate.min.css&quot;/&gt;\n",
       "    \n",
       "            &lt;meta name=&quot;viewport&quot; content=&quot;width=device-width,\n",
       "                initial-scale=1.0, maximum-scale=1.0, user-scalable=no&quot; /&gt;\n",
       "            &lt;style&gt;\n",
       "                #map_f4201a6f5a9595c0ff996ec9df48473e {\n",
       "                    position: relative;\n",
       "                    width: 100.0%;\n",
       "                    height: 100.0%;\n",
       "                    left: 0.0%;\n",
       "                    top: 0.0%;\n",
       "                }\n",
       "            &lt;/style&gt;\n",
       "        \n",
       "&lt;/head&gt;\n",
       "&lt;body&gt;    \n",
       "    \n",
       "              &lt;h3 align=&quot;center&quot; style=&quot;font-size:16px&quot;&gt;&lt;b&gt;Recent Miami-Dade Condo Sales &lt;/b&gt;&lt;/h3&gt;\n",
       "             \n",
       "    \n",
       "                &lt;p align=&quot;center&quot; style=&quot;vertical-align: bottom; font-size:13px&quot;&gt;&lt;i&gt;October 29th - November 4th&lt;/i&gt;&lt;/p&gt;\n",
       "                \n",
       "    \n",
       "            &lt;div class=&quot;folium-map&quot; id=&quot;map_f4201a6f5a9595c0ff996ec9df48473e&quot; &gt;&lt;/div&gt;\n",
       "        \n",
       "&lt;/body&gt;\n",
       "&lt;script&gt;    \n",
       "    \n",
       "            var map_f4201a6f5a9595c0ff996ec9df48473e = L.map(\n",
       "                &quot;map_f4201a6f5a9595c0ff996ec9df48473e&quot;,\n",
       "                {\n",
       "                    center: [25.876176169999997, -80.13027359999998],\n",
       "                    crs: L.CRS.EPSG3857,\n",
       "                    zoom: 9.5,\n",
       "                    zoomControl: true,\n",
       "                    preferCanvas: false,\n",
       "                }\n",
       "            );\n",
       "\n",
       "            \n",
       "\n",
       "        \n",
       "    \n",
       "            var feature_group_13be6d8e797aaa42985c3c38eaeac4a2 = L.featureGroup(\n",
       "                {}\n",
       "            ).addTo(map_f4201a6f5a9595c0ff996ec9df48473e);\n",
       "        \n",
       "    \n",
       "            var marker_e9f71eea1b201fff77d4c63ffc454381 = L.marker(\n",
       "                [25.883, -80.12183999999999],\n",
       "                {&quot;fill&quot;: true, &quot;radius&quot;: 5}\n",
       "            ).addTo(feature_group_13be6d8e797aaa42985c3c38eaeac4a2);\n",
       "        \n",
       "    \n",
       "            var icon_fb38f9120d4fd28cfe84e75e07de24b6 = L.AwesomeMarkers.icon(\n",
       "                {&quot;extraClasses&quot;: &quot;fa-rotate-0&quot;, &quot;icon&quot;: &quot;info-sign&quot;, &quot;iconColor&quot;: &quot;white&quot;, &quot;markerColor&quot;: &quot;orange&quot;, &quot;prefix&quot;: &quot;glyphicon&quot;}\n",
       "            );\n",
       "            marker_e9f71eea1b201fff77d4c63ffc454381.setIcon(icon_fb38f9120d4fd28cfe84e75e07de24b6);\n",
       "        \n",
       "    \n",
       "        var popup_d7491ab342181674d8b432dcb9544c1f = L.popup({&quot;maxWidth&quot;: 400});\n",
       "\n",
       "        \n",
       "            \n",
       "                var html_0ac2eba95d4bf677a022481bb313d2e5 = $(`&lt;div id=&quot;html_0ac2eba95d4bf677a022481bb313d2e5&quot; style=&quot;width: 100.0%; height: 100.0%;&quot;&gt;&lt;!DOCTYPE html&gt;     &lt;html&gt;     &lt;strong&gt;Building Name: &lt;/strong&gt;Fendi Chateau Residences&lt;br&gt;     &lt;strong&gt;Sale Price: &lt;/strong&gt;$27,100,000.00&lt;br&gt;     &lt;strong&gt;Days on Market: &lt;/strong&gt;nan&lt;br&gt;     &lt;strong&gt;Listing Agent: &lt;/strong&gt;Jon Mann&lt;br&gt;     &lt;strong&gt;Buyer&#x27;s Agent: &lt;/strong&gt;Arno De Vos&lt;br&gt;     &lt;strong&gt;Price sq ft: &lt;/strong&gt;$3996.46&lt;br&gt;     &lt;strong&gt;Address: &lt;/strong&gt;9349 Collins Ave 1001&lt;br&gt;     &lt;/html&gt;     &lt;/div&gt;`)[0];\n",
       "                popup_d7491ab342181674d8b432dcb9544c1f.setContent(html_0ac2eba95d4bf677a022481bb313d2e5);\n",
       "            \n",
       "        \n",
       "\n",
       "        marker_e9f71eea1b201fff77d4c63ffc454381.bindPopup(popup_d7491ab342181674d8b432dcb9544c1f)\n",
       "        ;\n",
       "\n",
       "        \n",
       "    \n",
       "    \n",
       "            var feature_group_074067dbff13ca04790d1f8dd6cd6e45 = L.featureGroup(\n",
       "                {}\n",
       "            ).addTo(map_f4201a6f5a9595c0ff996ec9df48473e);\n",
       "        \n",
       "    \n",
       "            var marker_3e6536305e8294ba6149ad867b2b5fbf = L.marker(\n",
       "                [25.9423323, -80.12016559999999],\n",
       "                {&quot;fill&quot;: true, &quot;radius&quot;: 5}\n",
       "            ).addTo(feature_group_074067dbff13ca04790d1f8dd6cd6e45);\n",
       "        \n",
       "    \n",
       "            var icon_84356d45be588080ef06aa6306db51cc = L.AwesomeMarkers.icon(\n",
       "                {&quot;extraClasses&quot;: &quot;fa-rotate-0&quot;, &quot;icon&quot;: &quot;info-sign&quot;, &quot;iconColor&quot;: &quot;white&quot;, &quot;markerColor&quot;: &quot;blue&quot;, &quot;prefix&quot;: &quot;glyphicon&quot;}\n",
       "            );\n",
       "            marker_3e6536305e8294ba6149ad867b2b5fbf.setIcon(icon_84356d45be588080ef06aa6306db51cc);\n",
       "        \n",
       "    \n",
       "        var popup_2674d62f74a447539e50b0580b23a842 = L.popup({&quot;maxWidth&quot;: 400});\n",
       "\n",
       "        \n",
       "            \n",
       "                var html_a6588584ad56c58f91af2550613be1e5 = $(`&lt;div id=&quot;html_a6588584ad56c58f91af2550613be1e5&quot; style=&quot;width: 100.0%; height: 100.0%;&quot;&gt;&lt;!DOCTYPE html&gt;     &lt;html&gt;     &lt;strong&gt;Building Name: &lt;/strong&gt;Estates at Acqualina&lt;br&gt;     &lt;strong&gt;Sale Price: &lt;/strong&gt;$11,950,000.00&lt;br&gt;     &lt;strong&gt;Days on Market: &lt;/strong&gt;112.0&lt;br&gt;     &lt;strong&gt;Listing Agent: &lt;/strong&gt;Yansy Checa&lt;br&gt;     &lt;strong&gt;Buyer&#x27;s Agent: &lt;/strong&gt;Leonore Aguirre-Sibilo&lt;br&gt;     &lt;strong&gt;Price sq ft: &lt;/strong&gt;$nan&lt;br&gt;     &lt;strong&gt;Address: &lt;/strong&gt;17975 Collins Ave 2001 Sunny Isles&lt;br&gt;     &lt;/html&gt;     &lt;/div&gt;`)[0];\n",
       "                popup_2674d62f74a447539e50b0580b23a842.setContent(html_a6588584ad56c58f91af2550613be1e5);\n",
       "            \n",
       "        \n",
       "\n",
       "        marker_3e6536305e8294ba6149ad867b2b5fbf.bindPopup(popup_2674d62f74a447539e50b0580b23a842)\n",
       "        ;\n",
       "\n",
       "        \n",
       "    \n",
       "    \n",
       "            var marker_4144be475af199499f1cba1592dad050 = L.marker(\n",
       "                [25.8782765, -80.1214182],\n",
       "                {&quot;fill&quot;: true, &quot;radius&quot;: 5}\n",
       "            ).addTo(feature_group_074067dbff13ca04790d1f8dd6cd6e45);\n",
       "        \n",
       "    \n",
       "            var icon_2bbea60a8c39e93b3a4e4b9f0519eeea = L.AwesomeMarkers.icon(\n",
       "                {&quot;extraClasses&quot;: &quot;fa-rotate-0&quot;, &quot;icon&quot;: &quot;info-sign&quot;, &quot;iconColor&quot;: &quot;white&quot;, &quot;markerColor&quot;: &quot;blue&quot;, &quot;prefix&quot;: &quot;glyphicon&quot;}\n",
       "            );\n",
       "            marker_4144be475af199499f1cba1592dad050.setIcon(icon_2bbea60a8c39e93b3a4e4b9f0519eeea);\n",
       "        \n",
       "    \n",
       "        var popup_b38d3ee61a4c92192d9b3b64803f8e03 = L.popup({&quot;maxWidth&quot;: 400});\n",
       "\n",
       "        \n",
       "            \n",
       "                var html_922fe86061c2c8e4329e2737478145c5 = $(`&lt;div id=&quot;html_922fe86061c2c8e4329e2737478145c5&quot; style=&quot;width: 100.0%; height: 100.0%;&quot;&gt;&lt;!DOCTYPE html&gt;     &lt;html&gt;     &lt;strong&gt;Building Name: &lt;/strong&gt;The Surf Club&lt;br&gt;     &lt;strong&gt;Sale Price: &lt;/strong&gt;$7,500,000.00&lt;br&gt;     &lt;strong&gt;Days on Market: &lt;/strong&gt;54.0&lt;br&gt;     &lt;strong&gt;Listing Agent: &lt;/strong&gt;Ximena Penuela&lt;br&gt;     &lt;strong&gt;Buyer&#x27;s Agent: &lt;/strong&gt;Ximena Penuela&lt;br&gt;     &lt;strong&gt;Price sq ft: &lt;/strong&gt;$4114.1&lt;br&gt;     &lt;strong&gt;Address: &lt;/strong&gt;9111 Collins Ave N-913&lt;br&gt;     &lt;/html&gt;     &lt;/div&gt;`)[0];\n",
       "                popup_b38d3ee61a4c92192d9b3b64803f8e03.setContent(html_922fe86061c2c8e4329e2737478145c5);\n",
       "            \n",
       "        \n",
       "\n",
       "        marker_4144be475af199499f1cba1592dad050.bindPopup(popup_b38d3ee61a4c92192d9b3b64803f8e03)\n",
       "        ;\n",
       "\n",
       "        \n",
       "    \n",
       "    \n",
       "            var marker_8bf5b17c9911a323eeaba8f3be23a491 = L.marker(\n",
       "                [25.799494, -80.1268322],\n",
       "                {&quot;fill&quot;: true, &quot;radius&quot;: 5}\n",
       "            ).addTo(feature_group_074067dbff13ca04790d1f8dd6cd6e45);\n",
       "        \n",
       "    \n",
       "            var icon_8e78ed797e43cabc1b76d883c2c9754e = L.AwesomeMarkers.icon(\n",
       "                {&quot;extraClasses&quot;: &quot;fa-rotate-0&quot;, &quot;icon&quot;: &quot;info-sign&quot;, &quot;iconColor&quot;: &quot;white&quot;, &quot;markerColor&quot;: &quot;blue&quot;, &quot;prefix&quot;: &quot;glyphicon&quot;}\n",
       "            );\n",
       "            marker_8bf5b17c9911a323eeaba8f3be23a491.setIcon(icon_8e78ed797e43cabc1b76d883c2c9754e);\n",
       "        \n",
       "    \n",
       "        var popup_32844a5204dd75d54efaac760e0f9c18 = L.popup({&quot;maxWidth&quot;: 400});\n",
       "\n",
       "        \n",
       "            \n",
       "                var html_6fc250e8734ae8d0ce9a26e3ac1edc24 = $(`&lt;div id=&quot;html_6fc250e8734ae8d0ce9a26e3ac1edc24&quot; style=&quot;width: 100.0%; height: 100.0%;&quot;&gt;&lt;!DOCTYPE html&gt;     &lt;html&gt;     &lt;strong&gt;Building Name: &lt;/strong&gt;One Residence&lt;br&gt;     &lt;strong&gt;Sale Price: &lt;/strong&gt;$6,000,000.00&lt;br&gt;     &lt;strong&gt;Days on Market: &lt;/strong&gt;563.0&lt;br&gt;     &lt;strong&gt;Listing Agent: &lt;/strong&gt;Dora Puig&lt;br&gt;     &lt;strong&gt;Buyer&#x27;s Agent: &lt;/strong&gt;Michael Martirena&lt;br&gt;     &lt;strong&gt;Price sq ft: &lt;/strong&gt;$2827.52&lt;br&gt;     &lt;strong&gt;Address: &lt;/strong&gt;102 24th St 1119 Miami &lt;br&gt;     &lt;/html&gt;     &lt;/div&gt;`)[0];\n",
       "                popup_32844a5204dd75d54efaac760e0f9c18.setContent(html_6fc250e8734ae8d0ce9a26e3ac1edc24);\n",
       "            \n",
       "        \n",
       "\n",
       "        marker_8bf5b17c9911a323eeaba8f3be23a491.bindPopup(popup_32844a5204dd75d54efaac760e0f9c18)\n",
       "        ;\n",
       "\n",
       "        \n",
       "    \n",
       "    \n",
       "            var marker_20357f3ac896961ae1b7dbbbc37402d3 = L.marker(\n",
       "                [25.9519943, -80.11997],\n",
       "                {&quot;fill&quot;: true, &quot;radius&quot;: 5}\n",
       "            ).addTo(feature_group_074067dbff13ca04790d1f8dd6cd6e45);\n",
       "        \n",
       "    \n",
       "            var icon_e2624c6642a9274f4771104a53562e71 = L.AwesomeMarkers.icon(\n",
       "                {&quot;extraClasses&quot;: &quot;fa-rotate-0&quot;, &quot;icon&quot;: &quot;info-sign&quot;, &quot;iconColor&quot;: &quot;white&quot;, &quot;markerColor&quot;: &quot;blue&quot;, &quot;prefix&quot;: &quot;glyphicon&quot;}\n",
       "            );\n",
       "            marker_20357f3ac896961ae1b7dbbbc37402d3.setIcon(icon_e2624c6642a9274f4771104a53562e71);\n",
       "        \n",
       "    \n",
       "        var popup_3ec7d4c5b39efc9d4795a7d9088d34b3 = L.popup({&quot;maxWidth&quot;: 400});\n",
       "\n",
       "        \n",
       "            \n",
       "                var html_33d3f07b006847725830db972c73fdfd = $(`&lt;div id=&quot;html_33d3f07b006847725830db972c73fdfd&quot; style=&quot;width: 100.0%; height: 100.0%;&quot;&gt;&lt;!DOCTYPE html&gt;     &lt;html&gt;     &lt;strong&gt;Building Name: &lt;/strong&gt;Armani Casa&lt;br&gt;     &lt;strong&gt;Sale Price: &lt;/strong&gt;$4,200,000.00&lt;br&gt;     &lt;strong&gt;Days on Market: &lt;/strong&gt;55.0&lt;br&gt;     &lt;strong&gt;Listing Agent: &lt;/strong&gt;Daniel Tzinker&lt;br&gt;     &lt;strong&gt;Buyer&#x27;s Agent: &lt;/strong&gt;Miguel De Las Salas&lt;br&gt;     &lt;strong&gt;Price sq ft: &lt;/strong&gt;$1701.78&lt;br&gt;     &lt;strong&gt;Address: &lt;/strong&gt;18975 Collins Ave 2601 Sunny Isles&lt;br&gt;     &lt;/html&gt;     &lt;/div&gt;`)[0];\n",
       "                popup_3ec7d4c5b39efc9d4795a7d9088d34b3.setContent(html_33d3f07b006847725830db972c73fdfd);\n",
       "            \n",
       "        \n",
       "\n",
       "        marker_20357f3ac896961ae1b7dbbbc37402d3.bindPopup(popup_3ec7d4c5b39efc9d4795a7d9088d34b3)\n",
       "        ;\n",
       "\n",
       "        \n",
       "    \n",
       "    \n",
       "            var marker_835b0ae9797137db2113a93f74399fe1 = L.marker(\n",
       "                [25.693091, -80.157996],\n",
       "                {&quot;fill&quot;: true, &quot;radius&quot;: 5}\n",
       "            ).addTo(feature_group_074067dbff13ca04790d1f8dd6cd6e45);\n",
       "        \n",
       "    \n",
       "            var icon_398bd952b3814aa96d13d4bb3d54c7cf = L.AwesomeMarkers.icon(\n",
       "                {&quot;extraClasses&quot;: &quot;fa-rotate-0&quot;, &quot;icon&quot;: &quot;info-sign&quot;, &quot;iconColor&quot;: &quot;white&quot;, &quot;markerColor&quot;: &quot;blue&quot;, &quot;prefix&quot;: &quot;glyphicon&quot;}\n",
       "            );\n",
       "            marker_835b0ae9797137db2113a93f74399fe1.setIcon(icon_398bd952b3814aa96d13d4bb3d54c7cf);\n",
       "        \n",
       "    \n",
       "        var popup_32e0b2350a1081af3f7026d7d6977cb4 = L.popup({&quot;maxWidth&quot;: 400});\n",
       "\n",
       "        \n",
       "            \n",
       "                var html_bc938838519572a85421b4a414508744 = $(`&lt;div id=&quot;html_bc938838519572a85421b4a414508744&quot; style=&quot;width: 100.0%; height: 100.0%;&quot;&gt;&lt;!DOCTYPE html&gt;     &lt;html&gt;     &lt;strong&gt;Building Name: &lt;/strong&gt;Grand Bay Tower Condo&lt;br&gt;     &lt;strong&gt;Sale Price: &lt;/strong&gt;$3,750,000.00&lt;br&gt;     &lt;strong&gt;Days on Market: &lt;/strong&gt;177.0&lt;br&gt;     &lt;strong&gt;Listing Agent: &lt;/strong&gt;Juanita Lopez&lt;br&gt;     &lt;strong&gt;Buyer&#x27;s Agent: &lt;/strong&gt;Carlos Mandiola&lt;br&gt;     &lt;strong&gt;Price sq ft: &lt;/strong&gt;$1279.86&lt;br&gt;     &lt;strong&gt;Address: &lt;/strong&gt;430 Grand Bay Dr 505 Key&lt;br&gt;     &lt;/html&gt;     &lt;/div&gt;`)[0];\n",
       "                popup_32e0b2350a1081af3f7026d7d6977cb4.setContent(html_bc938838519572a85421b4a414508744);\n",
       "            \n",
       "        \n",
       "\n",
       "        marker_835b0ae9797137db2113a93f74399fe1.bindPopup(popup_32e0b2350a1081af3f7026d7d6977cb4)\n",
       "        ;\n",
       "\n",
       "        \n",
       "    \n",
       "    \n",
       "            var marker_ecfa0adff0d94fb0557eba955b5c0408 = L.marker(\n",
       "                [25.9335265, -80.1211546],\n",
       "                {&quot;fill&quot;: true, &quot;radius&quot;: 5}\n",
       "            ).addTo(feature_group_074067dbff13ca04790d1f8dd6cd6e45);\n",
       "        \n",
       "    \n",
       "            var icon_dfcafb913079cb6488b805840e9be6f5 = L.AwesomeMarkers.icon(\n",
       "                {&quot;extraClasses&quot;: &quot;fa-rotate-0&quot;, &quot;icon&quot;: &quot;info-sign&quot;, &quot;iconColor&quot;: &quot;white&quot;, &quot;markerColor&quot;: &quot;blue&quot;, &quot;prefix&quot;: &quot;glyphicon&quot;}\n",
       "            );\n",
       "            marker_ecfa0adff0d94fb0557eba955b5c0408.setIcon(icon_dfcafb913079cb6488b805840e9be6f5);\n",
       "        \n",
       "    \n",
       "        var popup_3299a8334a70e9d14990ce3781de5066 = L.popup({&quot;maxWidth&quot;: 400});\n",
       "\n",
       "        \n",
       "            \n",
       "                var html_108edeb3f45a75b29e5a14709376da00 = $(`&lt;div id=&quot;html_108edeb3f45a75b29e5a14709376da00&quot; style=&quot;width: 100.0%; height: 100.0%;&quot;&gt;&lt;!DOCTYPE html&gt;     &lt;html&gt;     &lt;strong&gt;Building Name: &lt;/strong&gt;Jade Beach Condo&lt;br&gt;     &lt;strong&gt;Sale Price: &lt;/strong&gt;$3,475,000.00&lt;br&gt;     &lt;strong&gt;Days on Market: &lt;/strong&gt;197.0&lt;br&gt;     &lt;strong&gt;Listing Agent: &lt;/strong&gt;Aracely Farias&lt;br&gt;     &lt;strong&gt;Buyer&#x27;s Agent: &lt;/strong&gt;Mary Cases&lt;br&gt;     &lt;strong&gt;Price sq ft: &lt;/strong&gt;$1451.55&lt;br&gt;     &lt;strong&gt;Address: &lt;/strong&gt;17001 Collins Ave 2301 Sunny Isles&lt;br&gt;     &lt;/html&gt;     &lt;/div&gt;`)[0];\n",
       "                popup_3299a8334a70e9d14990ce3781de5066.setContent(html_108edeb3f45a75b29e5a14709376da00);\n",
       "            \n",
       "        \n",
       "\n",
       "        marker_ecfa0adff0d94fb0557eba955b5c0408.bindPopup(popup_3299a8334a70e9d14990ce3781de5066)\n",
       "        ;\n",
       "\n",
       "        \n",
       "    \n",
       "    \n",
       "            var marker_fc39fc31a44442d97065a4e63ac60478 = L.marker(\n",
       "                [25.9462832, -80.1308059],\n",
       "                {&quot;fill&quot;: true, &quot;radius&quot;: 5}\n",
       "            ).addTo(feature_group_074067dbff13ca04790d1f8dd6cd6e45);\n",
       "        \n",
       "    \n",
       "            var icon_907197124b66322e2b04083766c3e812 = L.AwesomeMarkers.icon(\n",
       "                {&quot;extraClasses&quot;: &quot;fa-rotate-0&quot;, &quot;icon&quot;: &quot;info-sign&quot;, &quot;iconColor&quot;: &quot;white&quot;, &quot;markerColor&quot;: &quot;blue&quot;, &quot;prefix&quot;: &quot;glyphicon&quot;}\n",
       "            );\n",
       "            marker_fc39fc31a44442d97065a4e63ac60478.setIcon(icon_907197124b66322e2b04083766c3e812);\n",
       "        \n",
       "    \n",
       "        var popup_f8d027a34129f71b271bfddc105834db = L.popup({&quot;maxWidth&quot;: 400});\n",
       "\n",
       "        \n",
       "            \n",
       "                var html_168da730ac3fe46367089ba47d82a792 = $(`&lt;div id=&quot;html_168da730ac3fe46367089ba47d82a792&quot; style=&quot;width: 100.0%; height: 100.0%;&quot;&gt;&lt;!DOCTYPE html&gt;     &lt;html&gt;     &lt;strong&gt;Building Name: &lt;/strong&gt;Prive Condo&lt;br&gt;     &lt;strong&gt;Sale Price: &lt;/strong&gt;$3,163,000.00&lt;br&gt;     &lt;strong&gt;Days on Market: &lt;/strong&gt;175.0&lt;br&gt;     &lt;strong&gt;Listing Agent: &lt;/strong&gt;Chad Carroll&lt;br&gt;     &lt;strong&gt;Buyer&#x27;s Agent: &lt;/strong&gt;Franco Tommasi&lt;br&gt;     &lt;strong&gt;Price sq ft: &lt;/strong&gt;$1150.18&lt;br&gt;     &lt;strong&gt;Address: &lt;/strong&gt;5000 Island Estates Dr 802&lt;br&gt;     &lt;/html&gt;     &lt;/div&gt;`)[0];\n",
       "                popup_f8d027a34129f71b271bfddc105834db.setContent(html_168da730ac3fe46367089ba47d82a792);\n",
       "            \n",
       "        \n",
       "\n",
       "        marker_fc39fc31a44442d97065a4e63ac60478.bindPopup(popup_f8d027a34129f71b271bfddc105834db)\n",
       "        ;\n",
       "\n",
       "        \n",
       "    \n",
       "    \n",
       "            var marker_7db5e7efb8b409c03ef43afe79a1a1da = L.marker(\n",
       "                [25.9426083, -80.1357173],\n",
       "                {&quot;fill&quot;: true, &quot;radius&quot;: 5}\n",
       "            ).addTo(feature_group_074067dbff13ca04790d1f8dd6cd6e45);\n",
       "        \n",
       "    \n",
       "            var icon_b6187f7cb36485b70a58a7895c985b6c = L.AwesomeMarkers.icon(\n",
       "                {&quot;extraClasses&quot;: &quot;fa-rotate-0&quot;, &quot;icon&quot;: &quot;info-sign&quot;, &quot;iconColor&quot;: &quot;white&quot;, &quot;markerColor&quot;: &quot;blue&quot;, &quot;prefix&quot;: &quot;glyphicon&quot;}\n",
       "            );\n",
       "            marker_7db5e7efb8b409c03ef43afe79a1a1da.setIcon(icon_b6187f7cb36485b70a58a7895c985b6c);\n",
       "        \n",
       "    \n",
       "        var popup_4392c76229fc4aa1e55dcc142107cc2d = L.popup({&quot;maxWidth&quot;: 400});\n",
       "\n",
       "        \n",
       "            \n",
       "                var html_e1982bd4a849797f53f73898569388c5 = $(`&lt;div id=&quot;html_e1982bd4a849797f53f73898569388c5&quot; style=&quot;width: 100.0%; height: 100.0%;&quot;&gt;&lt;!DOCTYPE html&gt;     &lt;html&gt;     &lt;strong&gt;Building Name: &lt;/strong&gt;Williams Island&lt;br&gt;     &lt;strong&gt;Sale Price: &lt;/strong&gt;$2,418,000.00&lt;br&gt;     &lt;strong&gt;Days on Market: &lt;/strong&gt;31.0&lt;br&gt;     &lt;strong&gt;Listing Agent: &lt;/strong&gt;Joel Matus&lt;br&gt;     &lt;strong&gt;Buyer&#x27;s Agent: &lt;/strong&gt;Perla Bursztein&lt;br&gt;     &lt;strong&gt;Price sq ft: &lt;/strong&gt;$851.41&lt;br&gt;     &lt;strong&gt;Address: &lt;/strong&gt;6000 Island Blvd 2507&lt;br&gt;     &lt;/html&gt;     &lt;/div&gt;`)[0];\n",
       "                popup_4392c76229fc4aa1e55dcc142107cc2d.setContent(html_e1982bd4a849797f53f73898569388c5);\n",
       "            \n",
       "        \n",
       "\n",
       "        marker_7db5e7efb8b409c03ef43afe79a1a1da.bindPopup(popup_4392c76229fc4aa1e55dcc142107cc2d)\n",
       "        ;\n",
       "\n",
       "        \n",
       "    \n",
       "    \n",
       "            var marker_99dd44c02f8d1e82c0e03ba5dbb284df = L.marker(\n",
       "                [25.7911556, -80.1468362],\n",
       "                {&quot;fill&quot;: true, &quot;radius&quot;: 5}\n",
       "            ).addTo(feature_group_074067dbff13ca04790d1f8dd6cd6e45);\n",
       "        \n",
       "    \n",
       "            var icon_1777d5a5374bca828734092507838252 = L.AwesomeMarkers.icon(\n",
       "                {&quot;extraClasses&quot;: &quot;fa-rotate-0&quot;, &quot;icon&quot;: &quot;info-sign&quot;, &quot;iconColor&quot;: &quot;white&quot;, &quot;markerColor&quot;: &quot;blue&quot;, &quot;prefix&quot;: &quot;glyphicon&quot;}\n",
       "            );\n",
       "            marker_99dd44c02f8d1e82c0e03ba5dbb284df.setIcon(icon_1777d5a5374bca828734092507838252);\n",
       "        \n",
       "    \n",
       "        var popup_93c3c8fddb809d6d8e942a8f350193d9 = L.popup({&quot;maxWidth&quot;: 400});\n",
       "\n",
       "        \n",
       "            \n",
       "                var html_17569efc41559d52bf530c329651d845 = $(`&lt;div id=&quot;html_17569efc41559d52bf530c329651d845&quot; style=&quot;width: 100.0%; height: 100.0%;&quot;&gt;&lt;!DOCTYPE html&gt;     &lt;html&gt;     &lt;strong&gt;Building Name: &lt;/strong&gt;Grand Venetian&lt;br&gt;     &lt;strong&gt;Sale Price: &lt;/strong&gt;$2,295,000.00&lt;br&gt;     &lt;strong&gt;Days on Market: &lt;/strong&gt;9.0&lt;br&gt;     &lt;strong&gt;Listing Agent: &lt;/strong&gt;Scott Diffenderfer&lt;br&gt;     &lt;strong&gt;Buyer&#x27;s Agent: &lt;/strong&gt;Chrysta Dwyer Hammon&lt;br&gt;     &lt;strong&gt;Price sq ft: &lt;/strong&gt;$1553.83&lt;br&gt;     &lt;strong&gt;Address: &lt;/strong&gt;10 Venetian Way 1204 Miami &lt;br&gt;     &lt;/html&gt;     &lt;/div&gt;`)[0];\n",
       "                popup_93c3c8fddb809d6d8e942a8f350193d9.setContent(html_17569efc41559d52bf530c329651d845);\n",
       "            \n",
       "        \n",
       "\n",
       "        marker_99dd44c02f8d1e82c0e03ba5dbb284df.bindPopup(popup_93c3c8fddb809d6d8e942a8f350193d9)\n",
       "        ;\n",
       "\n",
       "        \n",
       "    \n",
       "    \n",
       "            var tile_layer_59015cc8dfbfc8bc459bfd02b1297b24 = L.tileLayer(\n",
       "                &quot;https://{s}.tile.openstreetmap.org/{z}/{x}/{y}.png&quot;,\n",
       "                {&quot;attribution&quot;: &quot;Data by \\u0026copy; \\u003ca href=\\&quot;http://openstreetmap.org\\&quot;\\u003eOpenStreetMap\\u003c/a\\u003e, under \\u003ca href=\\&quot;http://www.openstreetmap.org/copyright\\&quot;\\u003eODbL\\u003c/a\\u003e.&quot;, &quot;detectRetina&quot;: false, &quot;maxNativeZoom&quot;: 18, &quot;maxZoom&quot;: 18, &quot;minZoom&quot;: 0, &quot;noWrap&quot;: false, &quot;opacity&quot;: 1, &quot;subdomains&quot;: &quot;abc&quot;, &quot;tms&quot;: false}\n",
       "            ).addTo(map_f4201a6f5a9595c0ff996ec9df48473e);\n",
       "        \n",
       "    \n",
       "            var layer_control_126c44e5af50fa16f4540fc7685c84ee = {\n",
       "                base_layers : {\n",
       "                },\n",
       "                overlays :  {\n",
       "                    &quot;Top Sale&quot; : feature_group_13be6d8e797aaa42985c3c38eaeac4a2,\n",
       "                    &quot;All other sales&quot; : feature_group_074067dbff13ca04790d1f8dd6cd6e45,\n",
       "                },\n",
       "            };\n",
       "            L.control.layers(\n",
       "                layer_control_126c44e5af50fa16f4540fc7685c84ee.base_layers,\n",
       "                layer_control_126c44e5af50fa16f4540fc7685c84ee.overlays,\n",
       "                {&quot;autoZIndex&quot;: true, &quot;collapsed&quot;: false, &quot;position&quot;: &quot;topright&quot;}\n",
       "            ).addTo(map_f4201a6f5a9595c0ff996ec9df48473e);\n",
       "        \n",
       "&lt;/script&gt;\" style=\"position:absolute;width:100%;height:100%;left:0;top:0;border:none !important;\" allowfullscreen webkitallowfullscreen mozallowfullscreen></iframe></div></div>"
      ],
      "text/plain": [
       "<folium.folium.Map at 0x7f7b2244c940>"
      ]
     },
     "execution_count": 38,
     "metadata": {},
     "output_type": "execute_result"
    }
   ],
   "source": [
    "import folium\n",
    "from folium.plugins import MarkerCluster\n",
    "\n",
    "m = folium.Map(location=df[[\"lat\", \"lon\"]].mean().to_list(), zoom_start=10)\n",
    "\n",
    "title_html = '''\n",
    "              <h3 align=\"center\" style=\"font-size:16px\"><b>{}</b></h3>\n",
    "             '''.format(f'Recent Miami-Dade Condo Sales ')\n",
    "\n",
    "caption_html = '''\n",
    "                <p align=\"center\" style=\"vertical-align: bottom; font-size:13px\"><i>{}</i></p>\n",
    "                '''.format('October 29th - November 4th')\n",
    "\n",
    "\n",
    "### Create map container ###\n",
    "m = folium.Map(location=df[[\"lat\", \"lon\"]].mean().to_list(),zoom_start=9.5,tiles=None)\n",
    "\n",
    "# Create two FeatureGroups for different color pins\n",
    "fg_blue = folium.FeatureGroup(name='All other sales')\n",
    "fg_orange = folium.FeatureGroup(name='Top Sale')\n",
    "\n",
    "for index, row in df.iterrows():\n",
    "    # Add the markers to the appropriate FeatureGroup based on the color\n",
    "    if row['COLOR'] == 'blue':\n",
    "        marker = folium.Marker(\n",
    "            location=[row['lat'], row['lon']],\n",
    "            radius=5,\n",
    "            fill=True,\n",
    "            icon=folium.Icon(color=row['COLOR']),\n",
    "            popup=folium.Popup(popup_html(row), max_width=400))\n",
    "        marker.add_to(fg_blue)\n",
    "    else:\n",
    "        marker = folium.Marker(\n",
    "            location=[row['lat'], row['lon']],\n",
    "            radius=5,\n",
    "            fill=True,\n",
    "            icon=folium.Icon(color=row['COLOR']),\n",
    "            popup=folium.Popup(popup_html(row), max_width=400))\n",
    "        marker.add_to(fg_orange)\n",
    "\n",
    "# Add the FeatureGroups to the map\n",
    "fg_orange.add_to(m)\n",
    "fg_blue.add_to(m)\n",
    "\n",
    "folium.TileLayer('OpenStreetMap',control=False).add_to(m)\n",
    "\n",
    "# Add LayerControl to the map\n",
    "folium.map.LayerControl(collapsed=False).add_to(m)\n",
    "m.get_root().html.add_child(folium.Element(title_html))\n",
    "m.get_root().html.add_child(folium.Element(caption_html))\n",
    "            \n",
    "# Display map\n",
    "m"
   ]
  },
  {
   "cell_type": "code",
   "execution_count": 39,
   "metadata": {},
   "outputs": [],
   "source": [
    "m.save('index.html')"
   ]
  },
  {
   "cell_type": "markdown",
   "metadata": {},
   "source": [
    "## Data snagger"
   ]
  },
  {
   "cell_type": "code",
   "execution_count": 40,
   "metadata": {},
   "outputs": [],
   "source": [
    "### Set up formatting ###\n",
    "BR = '\\n'\n",
    "\n",
    "ME = '\\033[1m' + 'Most Expensive' + '\\033[0m'\n",
    "LE = '\\033[1m' + 'Least Expensive' + '\\033[0m'\n",
    "\n",
    "MAX_PSF = '\\033[1m' + 'Highest Price Per Square Foot' + '\\033[0m'\n",
    "MIN_PSF = '\\033[1m' + 'Lowest Price Per Square Foot' + '\\033[0m'\n",
    "\n",
    "DAYS_MAX = '\\033[1m' + 'Most Days on Market' + '\\033[0m'\n",
    "DAYS_MIN = '\\033[1m' + 'Fewest Days on Market' + '\\033[0m'"
   ]
  },
  {
   "cell_type": "code",
   "execution_count": 41,
   "metadata": {},
   "outputs": [
    {
     "name": "stdout",
     "output_type": "stream",
     "text": [
      "\u001b[1mMost Expensive\u001b[0m\n",
      "Fendi Chateau Residences, 9349 Collins Ave 1001 | Price $27,100,000 | $3,996 psf | Listing agent: Jon Mann with Coldwell Banker | Buyer's agent: Arno De Vos with De Vos Real Estate | Days on market: nan\n",
      "\u001b[1mLeast Expensive\u001b[0m\n",
      "Grand Venetian, 10 Venetian Way 1204 Miami  | Price $2,295,000 | $1,554 psf | Listing agent: Scott Diffenderfer with Compass Florida LLC | Buyer's agent: Chrysta Dwyer Hammon with One Sotheby's International Re | Days on market: 9.0\n",
      "\u001b[1mHighest Price Per Square Foot\u001b[0m\n",
      "The Surf Club, 9111 Collins Ave N-913 | Price $7,500,000 | $4,114 psf | Listing agent: Ximena Penuela with Fort Realty, LLC | Buyer's agent: Ximena Penuela with Clarte Realty | Days on market: 54.0\n",
      "\u001b[1mLowest Price Per Square Foot\u001b[0m\n",
      "Williams Island, 6000 Island Blvd 2507 | Price $2,418,000 | $851 psf | Listing agent: Joel Matus with Williams Island Realty, LLC | Buyer's agent: Perla Bursztein with Compass Florida LLC | Days on market: 31.0\n",
      "\u001b[1mMost Days on Market\u001b[0m\n",
      "One Residence, 102 24th St 1119 Miami  | Price $6,000,000 | $2,828 psf | Listing agent: Dora Puig with Luxe Living Realty | Buyer's agent: Michael Martirena with Compass Florida LLC | Days on market: 563.0\n",
      "\u001b[1mFewest Days on Market\u001b[0m\n",
      "Grand Venetian, 10 Venetian Way 1204 Miami  | Price $2,295,000 | $1,554 psf | Listing agent: Scott Diffenderfer with Compass Florida LLC | Buyer's agent: Chrysta Dwyer Hammon with One Sotheby's International Re | Days on market: 9.0\n"
     ]
    }
   ],
   "source": [
    "### Highest and lowest sale price ###\n",
    "print(f\"{ME}{BR}{df.loc[df['int_Sale_Price'].idxmax()]['building_name']}, {df.loc[df['int_Sale_Price'].idxmax()]['address']} | Price ${df.loc[df['int_Sale_Price'].idxmax()]['int_Sale_Price']:,.0f} | ${df.loc[df['int_Sale_Price'].idxmax()]['price_per_sqft']:,.0f} psf | Listing agent: {df.loc[df['int_Sale_Price'].idxmax()]['Agent']} with {df.loc[df['int_Sale_Price'].idxmax()]['Listing Broker']} | Buyer's agent: {df.loc[df['int_Sale_Price'].idxmax()]['Buyer Agent']} with {df.loc[df['int_Sale_Price'].idxmax()]['Buyer Broker']} | Days on market: {df.loc[df['int_Sale_Price'].idxmax()]['days_on_market']}\")\n",
    "print(f\"{LE}{BR}{df.loc[df['int_Sale_Price'].idxmin()]['building_name']}, {df.loc[df['int_Sale_Price'].idxmin()]['address']} | Price ${df.loc[df['int_Sale_Price'].idxmin()]['int_Sale_Price']:,.0f} | ${df.loc[df['int_Sale_Price'].idxmin()]['price_per_sqft']:,.0f} psf | Listing agent: {df.loc[df['int_Sale_Price'].idxmin()]['Agent']} with {df.loc[df['int_Sale_Price'].idxmin()]['Listing Broker']} | Buyer's agent: {df.loc[df['int_Sale_Price'].idxmin()]['Buyer Agent']} with {df.loc[df['int_Sale_Price'].idxmin()]['Buyer Broker']} | Days on market: {df.loc[df['int_Sale_Price'].idxmin()]['days_on_market']}\")\n",
    "### Highest and lowest psf ###\n",
    "print(f\"{MAX_PSF}{BR}{df.loc[df['price_per_sqft'].idxmax()]['building_name']}, {df.loc[df['price_per_sqft'].idxmax()]['address']} | Price ${df.loc[df['price_per_sqft'].idxmax()]['int_Sale_Price']:,.0f} | ${df.loc[df['price_per_sqft'].idxmax()]['price_per_sqft']:,.0f} psf | Listing agent: {df.loc[df['price_per_sqft'].idxmax()]['Agent']} with {df.loc[df['price_per_sqft'].idxmax()]['Listing Broker']} | Buyer's agent: {df.loc[df['price_per_sqft'].idxmax()]['Buyer Agent']} with {df.loc[df['price_per_sqft'].idxmax()]['Buyer Broker']} | Days on market: {df.loc[df['price_per_sqft'].idxmax()]['days_on_market']}\")\n",
    "print(f\"{MIN_PSF}{BR}{df.loc[df['price_per_sqft'].idxmin()]['building_name']}, {df.loc[df['price_per_sqft'].idxmin()]['address']} | Price ${df.loc[df['price_per_sqft'].idxmin()]['int_Sale_Price']:,.0f} | ${df.loc[df['price_per_sqft'].idxmin()]['price_per_sqft']:,.0f} psf | Listing agent: {df.loc[df['price_per_sqft'].idxmin()]['Agent']} with {df.loc[df['price_per_sqft'].idxmin()]['Listing Broker']} | Buyer's agent: {df.loc[df['price_per_sqft'].idxmin()]['Buyer Agent']} with {df.loc[df['price_per_sqft'].idxmin()]['Buyer Broker']} | Days on market: {df.loc[df['price_per_sqft'].idxmin()]['days_on_market']}\")\n",
    "### Highest and lowest days on market ###\n",
    "print(f\"{DAYS_MAX}{BR}{df.loc[df['days_on_market'].idxmax()]['building_name']}, {df.loc[df['days_on_market'].idxmax()]['address']} | Price ${df.loc[df['days_on_market'].idxmax()]['int_Sale_Price']:,.0f} | ${df.loc[df['days_on_market'].idxmax()]['price_per_sqft']:,.0f} psf | Listing agent: {df.loc[df['days_on_market'].idxmax()]['Agent']} with {df.loc[df['days_on_market'].idxmax()]['Listing Broker']} | Buyer's agent: {df.loc[df['days_on_market'].idxmax()]['Buyer Agent']} with {df.loc[df['days_on_market'].idxmax()]['Buyer Broker']} | Days on market: {df.loc[df['days_on_market'].idxmax()]['days_on_market']}\")\n",
    "print(f\"{DAYS_MIN}{BR}{df.loc[df['days_on_market'].idxmin()]['building_name']}, {df.loc[df['days_on_market'].idxmin()]['address']} | Price ${df.loc[df['days_on_market'].idxmin()]['int_Sale_Price']:,.0f} | ${df.loc[df['days_on_market'].idxmin()]['price_per_sqft']:,.0f} psf | Listing agent: {df.loc[df['days_on_market'].idxmin()]['Agent']} with {df.loc[df['days_on_market'].idxmin()]['Listing Broker']} | Buyer's agent: {df.loc[df['days_on_market'].idxmin()]['Buyer Agent']} with {df.loc[df['days_on_market'].idxmin()]['Buyer Broker']} | Days on market: {df.loc[df['days_on_market'].idxmin()]['days_on_market']}\")"
   ]
  },
  {
   "cell_type": "code",
   "execution_count": 42,
   "metadata": {},
   "outputs": [
    {
     "data": {
      "text/plain": [
       "152.55555555555554"
      ]
     },
     "execution_count": 42,
     "metadata": {},
     "output_type": "execute_result"
    }
   ],
   "source": [
    "df['days_on_market'].mean()"
   ]
  },
  {
   "cell_type": "markdown",
   "metadata": {},
   "source": [
    "## Map URL snagger"
   ]
  },
  {
   "cell_type": "markdown",
   "metadata": {},
   "source": [
    "Map template URL: `https://trd-digital.github.io/trd-news-interactive-maps/{map-folder-name}`"
   ]
  },
  {
   "cell_type": "code",
   "execution_count": 43,
   "metadata": {},
   "outputs": [],
   "source": [
    "base_name = 'https://trd-digital.github.io/trd-news-interactive-maps/'"
   ]
  },
  {
   "cell_type": "code",
   "execution_count": 44,
   "metadata": {},
   "outputs": [
    {
     "name": "stdout",
     "output_type": "stream",
     "text": [
      "https://trd-digital.github.io/trd-news-interactive-maps/condo_sales_week_ending_11062023\n"
     ]
    }
   ],
   "source": [
    "cwd = os.getcwd()\n",
    "\n",
    "cwd = cwd.split('/')\n",
    "\n",
    "final_name = base_name + cwd[-1]\n",
    "print(final_name)"
   ]
  }
 ],
 "metadata": {
  "kernelspec": {
   "display_name": "Python 3 (ipykernel)",
   "language": "python",
   "name": "python3"
  },
  "language_info": {
   "codemirror_mode": {
    "name": "ipython",
    "version": 3
   },
   "file_extension": ".py",
   "mimetype": "text/x-python",
   "name": "python",
   "nbconvert_exporter": "python",
   "pygments_lexer": "ipython3",
   "version": "3.9.12"
  },
  "toc": {
   "base_numbering": 1,
   "nav_menu": {},
   "number_sections": true,
   "sideBar": true,
   "skip_h1_title": false,
   "title_cell": "Table of Contents",
   "title_sidebar": "Contents",
   "toc_cell": false,
   "toc_position": {},
   "toc_section_display": true,
   "toc_window_display": false
  }
 },
 "nbformat": 4,
 "nbformat_minor": 4
}
