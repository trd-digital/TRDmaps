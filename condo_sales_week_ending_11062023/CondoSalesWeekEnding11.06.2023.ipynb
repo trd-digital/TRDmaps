{
 "cells": [
  {
   "cell_type": "markdown",
   "metadata": {},
   "source": [
    "## Imports"
   ]
  },
  {
   "cell_type": "code",
   "execution_count": 1,
   "metadata": {},
   "outputs": [],
   "source": [
    "import googlemaps\n",
    "import pandas as pd\n",
    "import numpy as np\n",
    "import re\n",
    "import os\n",
    "import geopandas as gpd\n",
    "import folium\n",
    "import tabula"
   ]
  },
  {
   "cell_type": "markdown",
   "metadata": {},
   "source": [
    "## Read-in"
   ]
  },
  {
   "cell_type": "code",
   "execution_count": 2,
   "metadata": {},
   "outputs": [],
   "source": [
    "# Gotta figure out how to get rid of the java error.\n",
    "# SO: https://stackoverflow.com/questions/54817211/java-command-is-not-found-from-this-python-process-please-ensure-java-is-inst\n",
    "\n",
    "dsf = tabula.read_pdf('condo.pdf', pages='all')"
   ]
  },
  {
   "cell_type": "markdown",
   "metadata": {},
   "source": [
    "## Clean Data"
   ]
  },
  {
   "cell_type": "code",
   "execution_count": 3,
   "metadata": {},
   "outputs": [],
   "source": [
    "df = dsf[0]\n",
    "df.columns = df.iloc[0]\n",
    "df = df[1:]\n",
    "df = df.drop(columns=df.columns[0])\n",
    "df = df.replace(np.nan, 'Not Available', regex=True)\n",
    "df = df.rename(columns={'Building / Address / City': 'building_address_city','Days on\\rMarket':'days_on_market',\\\n",
    "                        'Price /\\rSq. Ft.':'price_per_sqft'})\n",
    "df['building_address_city'] = df['building_address_city'].str.replace('^0', '', regex=True)\n",
    "df['geo_address'] = df['building_address_city']\n",
    "df['geo_address'] = df['geo_address'].map(lambda x: re.sub(r'\\r', ' ', x))\n",
    "df = df.replace('\\n',' ',regex=True)\n",
    "pattern = r'^(?P<building_name>[\\d\\s]*[A-Za-z\\s]+)\\s(?P<address>.+)\\s(?P<city>[A-Za-z\\s]+)$'\n",
    "df2 = df['geo_address']\n",
    "df2 = df2.to_frame()\n",
    "df2[['building_name', 'address', 'city']] = df2['geo_address'].str.extract(pattern, expand=True)"
   ]
  },
  {
   "cell_type": "markdown",
   "metadata": {},
   "source": [
    "Review this later (it's about how to properly merge DFs): https://pandas.pydata.org/pandas-docs/stable/user_guide/merging.html"
   ]
  },
  {
   "cell_type": "markdown",
   "metadata": {},
   "source": [
    "## Geocode"
   ]
  },
  {
   "cell_type": "code",
   "execution_count": 4,
   "metadata": {},
   "outputs": [],
   "source": [
    "result = pd.merge(df,df2,left_index=True, right_index=True)\n",
    "df = result\n",
    "df = df.drop(columns='city')"
   ]
  },
  {
   "cell_type": "code",
   "execution_count": 5,
   "metadata": {},
   "outputs": [],
   "source": [
    "%store -r google_maps_API_Key\n",
    "gmaps_key = googlemaps.Client(key=google_maps_API_Key)"
   ]
  },
  {
   "cell_type": "code",
   "execution_count": 6,
   "metadata": {},
   "outputs": [],
   "source": [
    "def geocode(add):\n",
    "    g = gmaps_key.geocode(add)\n",
    "    lat = g[0][\"geometry\"][\"location\"][\"lat\"]\n",
    "    lng = g[0][\"geometry\"][\"location\"][\"lng\"]\n",
    "    return (lat, lng)\n",
    "\n",
    "df['geocoded'] = df['geo_address_x'].apply(geocode)"
   ]
  },
  {
   "cell_type": "code",
   "execution_count": 7,
   "metadata": {},
   "outputs": [],
   "source": [
    "df['geocoded'] = df['geocoded'].astype(str)\n",
    "df[['lat', 'lon']] = df['geocoded'].str.strip('()').str.split(', ', expand=True)\n",
    "df['lat'] = df['lat'].astype(float)\n",
    "df['lon'] = df['lon'].astype(float)"
   ]
  },
  {
   "cell_type": "markdown",
   "metadata": {},
   "source": [
    "Folium documentation link: https://python-visualization.github.io/folium/index.html\n",
    "\n",
    "Folium is the library that lets us use leaflet with Python, since it's meant to be used with JavaScript.\n",
    "\n",
    "For adding titles: https://stackoverflow.com/questions/61928013/adding-a-title-or-text-to-a-folium-map"
   ]
  },
  {
   "cell_type": "markdown",
   "metadata": {},
   "source": [
    "## Correction section"
   ]
  },
  {
   "cell_type": "code",
   "execution_count": 8,
   "metadata": {},
   "outputs": [],
   "source": [
    "# df.at[index#,'col_name']"
   ]
  },
  {
   "cell_type": "markdown",
   "metadata": {},
   "source": [
    "## Format Data"
   ]
  },
  {
   "cell_type": "code",
   "execution_count": 9,
   "metadata": {},
   "outputs": [],
   "source": [
    "### Insert NaNs if needed ###\n",
    "df = df.replace('N/A', np.nan)"
   ]
  },
  {
   "cell_type": "code",
   "execution_count": 10,
   "metadata": {},
   "outputs": [],
   "source": [
    "df['int_Sale_Price'] = df['Sale Price'].str.replace('$','',regex=False)"
   ]
  },
  {
   "cell_type": "code",
   "execution_count": 11,
   "metadata": {},
   "outputs": [],
   "source": [
    "df['int_Sale_Price'] = df['int_Sale_Price'].str.replace(',','',regex=False)"
   ]
  },
  {
   "cell_type": "code",
   "execution_count": 12,
   "metadata": {},
   "outputs": [],
   "source": [
    "df['int_Sale_Price'] = pd.to_numeric(df['int_Sale_Price'])"
   ]
  },
  {
   "cell_type": "code",
   "execution_count": 13,
   "metadata": {},
   "outputs": [],
   "source": [
    "df['price_per_sqft'] = df['price_per_sqft'].str.replace('$','',regex=False)\n",
    "df['price_per_sqft'] = df['price_per_sqft'].str.replace(',','',regex=False)\n",
    "df['price_per_sqft'] = pd.to_numeric(df['price_per_sqft'])\n",
    "\n",
    "df['days_on_market'] = pd.to_numeric(df['days_on_market'])"
   ]
  },
  {
   "cell_type": "markdown",
   "metadata": {},
   "source": [
    "## Color-code top sale"
   ]
  },
  {
   "cell_type": "code",
   "execution_count": 14,
   "metadata": {},
   "outputs": [],
   "source": [
    "### Insert RANK values ###\n",
    "df['RANK'] = range(1, len(df) + 1)\n",
    "# use numpy to assign values to the 'COLOR' column\n",
    "df['COLOR'] = np.where(df['RANK'] <= 1, 'orange', 'blue')"
   ]
  },
  {
   "cell_type": "markdown",
   "metadata": {},
   "source": [
    "## HTML Popup Formatter"
   ]
  },
  {
   "cell_type": "code",
   "execution_count": 15,
   "metadata": {},
   "outputs": [
    {
     "data": {
      "text/plain": [
       "Index(['building_address_city', 'Close Date', 'days_on_market', 'Sale Price',\n",
       "       'Sq. Ft.', 'price_per_sqft', 'Agent', 'Listing Broker', 'Buyer Agent',\n",
       "       'Buyer Broker', 'geo_address_x', 'geo_address_y', 'building_name',\n",
       "       'address', 'geocoded', 'lat', 'lon', 'int_Sale_Price', 'RANK', 'COLOR'],\n",
       "      dtype='object')"
      ]
     },
     "execution_count": 15,
     "metadata": {},
     "output_type": "execute_result"
    }
   ],
   "source": [
    "df.columns"
   ]
  },
  {
   "cell_type": "code",
   "execution_count": 16,
   "metadata": {},
   "outputs": [],
   "source": [
    "def popup_html(row):\n",
    "    building_name = row['building_name']\n",
    "    price = row['Sale Price']\n",
    "    days_on_market = row['days_on_market']\n",
    "    listing_agent = row['Agent']\n",
    "    buyers_agent = row['Buyer Agent']\n",
    "    psf = row['price_per_sqft']\n",
    "    address = row['address']\n",
    "    \n",
    "    html = '''<!DOCTYPE html>\n",
    "    <html>\n",
    "    <strong>Building Name: </strong>{}'''.format(building_name) + '''<br>\n",
    "    <strong>Sale Price: </strong>{}'''.format(price) + '''<br>\n",
    "    <strong>Days on Market: </strong>{}'''.format(days_on_market) + '''<br>\n",
    "    <strong>Listing Agent: </strong>{}'''.format(listing_agent) + '''<br>\n",
    "    <strong>Buyer's Agent: </strong>{}'''.format(buyers_agent) + '''<br>\n",
    "    <strong>Price sq ft: </strong>${}'''.format(psf) + '''<br>\n",
    "    <strong>Address: </strong>{}'''.format(address) + '''<br>\n",
    "    </html>\n",
    "    '''\n",
    "    return html"
   ]
  },
  {
   "cell_type": "code",
   "execution_count": 17,
   "metadata": {},
   "outputs": [
    {
     "data": {
      "text/html": [
       "<div style=\"width:100%;\"><div style=\"position:relative;width:100%;height:0;padding-bottom:60%;\"><span style=\"color:#565656\">Make this Notebook Trusted to load map: File -> Trust Notebook</span><iframe srcdoc=\"&lt;!DOCTYPE html&gt;\n",
       "&lt;head&gt;    \n",
       "    &lt;meta http-equiv=&quot;content-type&quot; content=&quot;text/html; charset=UTF-8&quot; /&gt;\n",
       "    \n",
       "        &lt;script&gt;\n",
       "            L_NO_TOUCH = false;\n",
       "            L_DISABLE_3D = false;\n",
       "        &lt;/script&gt;\n",
       "    \n",
       "    &lt;style&gt;html, body {width: 100%;height: 100%;margin: 0;padding: 0;}&lt;/style&gt;\n",
       "    &lt;style&gt;#map {position:absolute;top:0;bottom:0;right:0;left:0;}&lt;/style&gt;\n",
       "    &lt;script src=&quot;https://cdn.jsdelivr.net/npm/leaflet@1.6.0/dist/leaflet.js&quot;&gt;&lt;/script&gt;\n",
       "    &lt;script src=&quot;https://code.jquery.com/jquery-1.12.4.min.js&quot;&gt;&lt;/script&gt;\n",
       "    &lt;script src=&quot;https://maxcdn.bootstrapcdn.com/bootstrap/3.2.0/js/bootstrap.min.js&quot;&gt;&lt;/script&gt;\n",
       "    &lt;script src=&quot;https://cdnjs.cloudflare.com/ajax/libs/Leaflet.awesome-markers/2.0.2/leaflet.awesome-markers.js&quot;&gt;&lt;/script&gt;\n",
       "    &lt;link rel=&quot;stylesheet&quot; href=&quot;https://cdn.jsdelivr.net/npm/leaflet@1.6.0/dist/leaflet.css&quot;/&gt;\n",
       "    &lt;link rel=&quot;stylesheet&quot; href=&quot;https://maxcdn.bootstrapcdn.com/bootstrap/3.2.0/css/bootstrap.min.css&quot;/&gt;\n",
       "    &lt;link rel=&quot;stylesheet&quot; href=&quot;https://maxcdn.bootstrapcdn.com/bootstrap/3.2.0/css/bootstrap-theme.min.css&quot;/&gt;\n",
       "    &lt;link rel=&quot;stylesheet&quot; href=&quot;https://maxcdn.bootstrapcdn.com/font-awesome/4.6.3/css/font-awesome.min.css&quot;/&gt;\n",
       "    &lt;link rel=&quot;stylesheet&quot; href=&quot;https://cdnjs.cloudflare.com/ajax/libs/Leaflet.awesome-markers/2.0.2/leaflet.awesome-markers.css&quot;/&gt;\n",
       "    &lt;link rel=&quot;stylesheet&quot; href=&quot;https://cdn.jsdelivr.net/gh/python-visualization/folium/folium/templates/leaflet.awesome.rotate.min.css&quot;/&gt;\n",
       "    \n",
       "            &lt;meta name=&quot;viewport&quot; content=&quot;width=device-width,\n",
       "                initial-scale=1.0, maximum-scale=1.0, user-scalable=no&quot; /&gt;\n",
       "            &lt;style&gt;\n",
       "                #map_2364f340dc7ab0da2c2e3653523676ea {\n",
       "                    position: relative;\n",
       "                    width: 100.0%;\n",
       "                    height: 100.0%;\n",
       "                    left: 0.0%;\n",
       "                    top: 0.0%;\n",
       "                }\n",
       "            &lt;/style&gt;\n",
       "        \n",
       "&lt;/head&gt;\n",
       "&lt;body&gt;    \n",
       "    \n",
       "              &lt;h3 align=&quot;center&quot; style=&quot;font-size:16px&quot;&gt;&lt;b&gt;Recent Miami-Dade Condo Sales &lt;/b&gt;&lt;/h3&gt;\n",
       "             \n",
       "    \n",
       "                &lt;p align=&quot;center&quot; style=&quot;vertical-align: bottom; font-size:13px&quot;&gt;&lt;i&gt;October 22nd - October 28th&lt;/i&gt;&lt;/p&gt;\n",
       "                \n",
       "    \n",
       "            &lt;div class=&quot;folium-map&quot; id=&quot;map_2364f340dc7ab0da2c2e3653523676ea&quot; &gt;&lt;/div&gt;\n",
       "        \n",
       "&lt;/body&gt;\n",
       "&lt;script&gt;    \n",
       "    \n",
       "            var map_2364f340dc7ab0da2c2e3653523676ea = L.map(\n",
       "                &quot;map_2364f340dc7ab0da2c2e3653523676ea&quot;,\n",
       "                {\n",
       "                    center: [25.79551295, -80.16115698000002],\n",
       "                    crs: L.CRS.EPSG3857,\n",
       "                    zoom: 9.5,\n",
       "                    zoomControl: true,\n",
       "                    preferCanvas: false,\n",
       "                }\n",
       "            );\n",
       "\n",
       "            \n",
       "\n",
       "        \n",
       "    \n",
       "            var feature_group_f246b51748c30e626016e6b55ddad4ce = L.featureGroup(\n",
       "                {}\n",
       "            ).addTo(map_2364f340dc7ab0da2c2e3653523676ea);\n",
       "        \n",
       "    \n",
       "            var marker_74b4693e1931216f069e8dd73afe6670 = L.marker(\n",
       "                [25.8884913, -80.1228812],\n",
       "                {&quot;fill&quot;: true, &quot;radius&quot;: 5}\n",
       "            ).addTo(feature_group_f246b51748c30e626016e6b55ddad4ce);\n",
       "        \n",
       "    \n",
       "            var icon_9c38a5645b03d074c4dfc8816fb92acb = L.AwesomeMarkers.icon(\n",
       "                {&quot;extraClasses&quot;: &quot;fa-rotate-0&quot;, &quot;icon&quot;: &quot;info-sign&quot;, &quot;iconColor&quot;: &quot;white&quot;, &quot;markerColor&quot;: &quot;orange&quot;, &quot;prefix&quot;: &quot;glyphicon&quot;}\n",
       "            );\n",
       "            marker_74b4693e1931216f069e8dd73afe6670.setIcon(icon_9c38a5645b03d074c4dfc8816fb92acb);\n",
       "        \n",
       "    \n",
       "        var popup_282a5240e02047a7574c86dae49966cf = L.popup({&quot;maxWidth&quot;: 400});\n",
       "\n",
       "        \n",
       "            \n",
       "                var html_12b81d9437d1b713472a4deeaffda7e5 = $(`&lt;div id=&quot;html_12b81d9437d1b713472a4deeaffda7e5&quot; style=&quot;width: 100.0%; height: 100.0%;&quot;&gt;&lt;!DOCTYPE html&gt;     &lt;html&gt;     &lt;strong&gt;Building Name: &lt;/strong&gt;St Regis Bal Harbour&lt;br&gt;     &lt;strong&gt;Sale Price: &lt;/strong&gt;$10,550,000.00&lt;br&gt;     &lt;strong&gt;Days on Market: &lt;/strong&gt;1&lt;br&gt;     &lt;strong&gt;Listing Agent: &lt;/strong&gt;Comp Sale&lt;br&gt;     &lt;strong&gt;Buyer&#x27;s Agent: &lt;/strong&gt;Sergio Balinotti&lt;br&gt;     &lt;strong&gt;Price sq ft: &lt;/strong&gt;$2993.76&lt;br&gt;     &lt;strong&gt;Address: &lt;/strong&gt;9701 Collins Ave 2401S Bal&lt;br&gt;     &lt;/html&gt;     &lt;/div&gt;`)[0];\n",
       "                popup_282a5240e02047a7574c86dae49966cf.setContent(html_12b81d9437d1b713472a4deeaffda7e5);\n",
       "            \n",
       "        \n",
       "\n",
       "        marker_74b4693e1931216f069e8dd73afe6670.bindPopup(popup_282a5240e02047a7574c86dae49966cf)\n",
       "        ;\n",
       "\n",
       "        \n",
       "    \n",
       "    \n",
       "            var feature_group_f2c907a6af4e076b8c791ba0a1dd1261 = L.featureGroup(\n",
       "                {}\n",
       "            ).addTo(map_2364f340dc7ab0da2c2e3653523676ea);\n",
       "        \n",
       "    \n",
       "            var marker_f2ece94d239522bfbced1ddb93619f92 = L.marker(\n",
       "                [25.9519943, -80.11997],\n",
       "                {&quot;fill&quot;: true, &quot;radius&quot;: 5}\n",
       "            ).addTo(feature_group_f2c907a6af4e076b8c791ba0a1dd1261);\n",
       "        \n",
       "    \n",
       "            var icon_f4bff2717fcc7235d6d62ebf57e45890 = L.AwesomeMarkers.icon(\n",
       "                {&quot;extraClasses&quot;: &quot;fa-rotate-0&quot;, &quot;icon&quot;: &quot;info-sign&quot;, &quot;iconColor&quot;: &quot;white&quot;, &quot;markerColor&quot;: &quot;blue&quot;, &quot;prefix&quot;: &quot;glyphicon&quot;}\n",
       "            );\n",
       "            marker_f2ece94d239522bfbced1ddb93619f92.setIcon(icon_f4bff2717fcc7235d6d62ebf57e45890);\n",
       "        \n",
       "    \n",
       "        var popup_e703e274e6824ff9c6543f915f108c58 = L.popup({&quot;maxWidth&quot;: 400});\n",
       "\n",
       "        \n",
       "            \n",
       "                var html_3b9fc04cbd502a9c7861408e7fcb114c = $(`&lt;div id=&quot;html_3b9fc04cbd502a9c7861408e7fcb114c&quot; style=&quot;width: 100.0%; height: 100.0%;&quot;&gt;&lt;!DOCTYPE html&gt;     &lt;html&gt;     &lt;strong&gt;Building Name: &lt;/strong&gt;Armani Casa&lt;br&gt;     &lt;strong&gt;Sale Price: &lt;/strong&gt;$2,475,000.00&lt;br&gt;     &lt;strong&gt;Days on Market: &lt;/strong&gt;266&lt;br&gt;     &lt;strong&gt;Listing Agent: &lt;/strong&gt;Pola Benchimol Levy&lt;br&gt;     &lt;strong&gt;Buyer&#x27;s Agent: &lt;/strong&gt;Paolo Scattarreggia&lt;br&gt;     &lt;strong&gt;Price sq ft: &lt;/strong&gt;$1578.44&lt;br&gt;     &lt;strong&gt;Address: &lt;/strong&gt;18975 Collins Ave 1704 Sunny Isles&lt;br&gt;     &lt;/html&gt;     &lt;/div&gt;`)[0];\n",
       "                popup_e703e274e6824ff9c6543f915f108c58.setContent(html_3b9fc04cbd502a9c7861408e7fcb114c);\n",
       "            \n",
       "        \n",
       "\n",
       "        marker_f2ece94d239522bfbced1ddb93619f92.bindPopup(popup_e703e274e6824ff9c6543f915f108c58)\n",
       "        ;\n",
       "\n",
       "        \n",
       "    \n",
       "    \n",
       "            var marker_e236e7aa06586ade97e1dc24d2f637e6 = L.marker(\n",
       "                [25.773207, -80.1329191],\n",
       "                {&quot;fill&quot;: true, &quot;radius&quot;: 5}\n",
       "            ).addTo(feature_group_f2c907a6af4e076b8c791ba0a1dd1261);\n",
       "        \n",
       "    \n",
       "            var icon_f510ca5a8030dbf964625e08ba8153da = L.AwesomeMarkers.icon(\n",
       "                {&quot;extraClasses&quot;: &quot;fa-rotate-0&quot;, &quot;icon&quot;: &quot;info-sign&quot;, &quot;iconColor&quot;: &quot;white&quot;, &quot;markerColor&quot;: &quot;blue&quot;, &quot;prefix&quot;: &quot;glyphicon&quot;}\n",
       "            );\n",
       "            marker_e236e7aa06586ade97e1dc24d2f637e6.setIcon(icon_f510ca5a8030dbf964625e08ba8153da);\n",
       "        \n",
       "    \n",
       "        var popup_de353b38514598c4ad467e16243c8ae5 = L.popup({&quot;maxWidth&quot;: 400});\n",
       "\n",
       "        \n",
       "            \n",
       "                var html_0bddeee89621f85fe3dd4ed8cba4d943 = $(`&lt;div id=&quot;html_0bddeee89621f85fe3dd4ed8cba4d943&quot; style=&quot;width: 100.0%; height: 100.0%;&quot;&gt;&lt;!DOCTYPE html&gt;     &lt;html&gt;     &lt;strong&gt;Building Name: &lt;/strong&gt;The President Condo&lt;br&gt;     &lt;strong&gt;Sale Price: &lt;/strong&gt;$1,650,000.00&lt;br&gt;     &lt;strong&gt;Days on Market: &lt;/strong&gt;16&lt;br&gt;     &lt;strong&gt;Listing Agent: &lt;/strong&gt;Desare Kohn-Laski PA&lt;br&gt;     &lt;strong&gt;Buyer&#x27;s Agent: &lt;/strong&gt;Luca Migliore&lt;br&gt;     &lt;strong&gt;Price sq ft: &lt;/strong&gt;$891.89&lt;br&gt;     &lt;strong&gt;Address: &lt;/strong&gt;361 Collins A10 Miami&lt;br&gt;     &lt;/html&gt;     &lt;/div&gt;`)[0];\n",
       "                popup_de353b38514598c4ad467e16243c8ae5.setContent(html_0bddeee89621f85fe3dd4ed8cba4d943);\n",
       "            \n",
       "        \n",
       "\n",
       "        marker_e236e7aa06586ade97e1dc24d2f637e6.bindPopup(popup_de353b38514598c4ad467e16243c8ae5)\n",
       "        ;\n",
       "\n",
       "        \n",
       "    \n",
       "    \n",
       "            var marker_088e593b883bd6e985a6dd0b61c4dd7a = L.marker(\n",
       "                [25.7705273, -80.1895438],\n",
       "                {&quot;fill&quot;: true, &quot;radius&quot;: 5}\n",
       "            ).addTo(feature_group_f2c907a6af4e076b8c791ba0a1dd1261);\n",
       "        \n",
       "    \n",
       "            var icon_058e39e68ca8af5d5a41704cd5cb0490 = L.AwesomeMarkers.icon(\n",
       "                {&quot;extraClasses&quot;: &quot;fa-rotate-0&quot;, &quot;icon&quot;: &quot;info-sign&quot;, &quot;iconColor&quot;: &quot;white&quot;, &quot;markerColor&quot;: &quot;blue&quot;, &quot;prefix&quot;: &quot;glyphicon&quot;}\n",
       "            );\n",
       "            marker_088e593b883bd6e985a6dd0b61c4dd7a.setIcon(icon_058e39e68ca8af5d5a41704cd5cb0490);\n",
       "        \n",
       "    \n",
       "        var popup_8bcc76d4334a0952956ec3715205e98e = L.popup({&quot;maxWidth&quot;: 400});\n",
       "\n",
       "        \n",
       "            \n",
       "                var html_4b7a8b8a2a48923c9c46efd6c3ca022c = $(`&lt;div id=&quot;html_4b7a8b8a2a48923c9c46efd6c3ca022c&quot; style=&quot;width: 100.0%; height: 100.0%;&quot;&gt;&lt;!DOCTYPE html&gt;     &lt;html&gt;     &lt;strong&gt;Building Name: &lt;/strong&gt;Epic West Condo&lt;br&gt;     &lt;strong&gt;Sale Price: &lt;/strong&gt;$1,300,000.00&lt;br&gt;     &lt;strong&gt;Days on Market: &lt;/strong&gt;126&lt;br&gt;     &lt;strong&gt;Listing Agent: &lt;/strong&gt;Roberto Malca&lt;br&gt;     &lt;strong&gt;Buyer&#x27;s Agent: &lt;/strong&gt;Felipe Quintero&lt;br&gt;     &lt;strong&gt;Price sq ft: &lt;/strong&gt;$789.79&lt;br&gt;     &lt;strong&gt;Address: &lt;/strong&gt;200 Biscayne Blvd Way 5310&lt;br&gt;     &lt;/html&gt;     &lt;/div&gt;`)[0];\n",
       "                popup_8bcc76d4334a0952956ec3715205e98e.setContent(html_4b7a8b8a2a48923c9c46efd6c3ca022c);\n",
       "            \n",
       "        \n",
       "\n",
       "        marker_088e593b883bd6e985a6dd0b61c4dd7a.bindPopup(popup_8bcc76d4334a0952956ec3715205e98e)\n",
       "        ;\n",
       "\n",
       "        \n",
       "    \n",
       "    \n",
       "            var marker_ba52b1d94f65dfe0cabc128fc90a6f5b = L.marker(\n",
       "                [25.6999647, -80.15673220000001],\n",
       "                {&quot;fill&quot;: true, &quot;radius&quot;: 5}\n",
       "            ).addTo(feature_group_f2c907a6af4e076b8c791ba0a1dd1261);\n",
       "        \n",
       "    \n",
       "            var icon_12ba87d3ff72c7982542a9242c5288cd = L.AwesomeMarkers.icon(\n",
       "                {&quot;extraClasses&quot;: &quot;fa-rotate-0&quot;, &quot;icon&quot;: &quot;info-sign&quot;, &quot;iconColor&quot;: &quot;white&quot;, &quot;markerColor&quot;: &quot;blue&quot;, &quot;prefix&quot;: &quot;glyphicon&quot;}\n",
       "            );\n",
       "            marker_ba52b1d94f65dfe0cabc128fc90a6f5b.setIcon(icon_12ba87d3ff72c7982542a9242c5288cd);\n",
       "        \n",
       "    \n",
       "        var popup_b716614661a18f3dfdcd2293ba1638bd = L.popup({&quot;maxWidth&quot;: 400});\n",
       "\n",
       "        \n",
       "            \n",
       "                var html_1c54b35c79617bd6534aef24f7271a8e = $(`&lt;div id=&quot;html_1c54b35c79617bd6534aef24f7271a8e&quot; style=&quot;width: 100.0%; height: 100.0%;&quot;&gt;&lt;!DOCTYPE html&gt;     &lt;html&gt;     &lt;strong&gt;Building Name: &lt;/strong&gt;The Commodore Club&lt;br&gt;     &lt;strong&gt;Sale Price: &lt;/strong&gt;$1,235,000.00&lt;br&gt;     &lt;strong&gt;Days on Market: &lt;/strong&gt;2&lt;br&gt;     &lt;strong&gt;Listing Agent: &lt;/strong&gt;Sergio Martins&lt;br&gt;     &lt;strong&gt;Buyer&#x27;s Agent: &lt;/strong&gt;Sergio Martins&lt;br&gt;     &lt;strong&gt;Price sq ft: &lt;/strong&gt;$980.16&lt;br&gt;     &lt;strong&gt;Address: &lt;/strong&gt;177 Ocean Lane Dr 1204 Key&lt;br&gt;     &lt;/html&gt;     &lt;/div&gt;`)[0];\n",
       "                popup_b716614661a18f3dfdcd2293ba1638bd.setContent(html_1c54b35c79617bd6534aef24f7271a8e);\n",
       "            \n",
       "        \n",
       "\n",
       "        marker_ba52b1d94f65dfe0cabc128fc90a6f5b.bindPopup(popup_b716614661a18f3dfdcd2293ba1638bd)\n",
       "        ;\n",
       "\n",
       "        \n",
       "    \n",
       "    \n",
       "            var marker_bd2bd897dd50efa5506f7e85ce873ec1 = L.marker(\n",
       "                [25.7650099, -80.19016859999999],\n",
       "                {&quot;fill&quot;: true, &quot;radius&quot;: 5}\n",
       "            ).addTo(feature_group_f2c907a6af4e076b8c791ba0a1dd1261);\n",
       "        \n",
       "    \n",
       "            var icon_3c98b8b7b8192673cdfb4e6958e5720f = L.AwesomeMarkers.icon(\n",
       "                {&quot;extraClasses&quot;: &quot;fa-rotate-0&quot;, &quot;icon&quot;: &quot;info-sign&quot;, &quot;iconColor&quot;: &quot;white&quot;, &quot;markerColor&quot;: &quot;blue&quot;, &quot;prefix&quot;: &quot;glyphicon&quot;}\n",
       "            );\n",
       "            marker_bd2bd897dd50efa5506f7e85ce873ec1.setIcon(icon_3c98b8b7b8192673cdfb4e6958e5720f);\n",
       "        \n",
       "    \n",
       "        var popup_31b0ca2952342b06c688f940c5331402 = L.popup({&quot;maxWidth&quot;: 400});\n",
       "\n",
       "        \n",
       "            \n",
       "                var html_6d5c83992eaaf623cdeafeda275dcc60 = $(`&lt;div id=&quot;html_6d5c83992eaaf623cdeafeda275dcc60&quot; style=&quot;width: 100.0%; height: 100.0%;&quot;&gt;&lt;!DOCTYPE html&gt;     &lt;html&gt;     &lt;strong&gt;Building Name: &lt;/strong&gt;The Plaza&lt;br&gt;     &lt;strong&gt;Sale Price: &lt;/strong&gt;$1,166,000.00&lt;br&gt;     &lt;strong&gt;Days on Market: &lt;/strong&gt;13&lt;br&gt;     &lt;strong&gt;Listing Agent: &lt;/strong&gt;Hector Vazquez&lt;br&gt;     &lt;strong&gt;Buyer&#x27;s Agent: &lt;/strong&gt;Hector Valdes&lt;br&gt;     &lt;strong&gt;Price sq ft: &lt;/strong&gt;$912.36&lt;br&gt;     &lt;strong&gt;Address: &lt;/strong&gt;950 Brickell Bay Dr 5411&lt;br&gt;     &lt;/html&gt;     &lt;/div&gt;`)[0];\n",
       "                popup_31b0ca2952342b06c688f940c5331402.setContent(html_6d5c83992eaaf623cdeafeda275dcc60);\n",
       "            \n",
       "        \n",
       "\n",
       "        marker_bd2bd897dd50efa5506f7e85ce873ec1.bindPopup(popup_31b0ca2952342b06c688f940c5331402)\n",
       "        ;\n",
       "\n",
       "        \n",
       "    \n",
       "    \n",
       "            var marker_5db4107bce4b82e095dba13d1ffc0a76 = L.marker(\n",
       "                [25.7686263, -80.18963269999999],\n",
       "                {&quot;fill&quot;: true, &quot;radius&quot;: 5}\n",
       "            ).addTo(feature_group_f2c907a6af4e076b8c791ba0a1dd1261);\n",
       "        \n",
       "    \n",
       "            var icon_a614935fd8d508076f89bc385d1b67e5 = L.AwesomeMarkers.icon(\n",
       "                {&quot;extraClasses&quot;: &quot;fa-rotate-0&quot;, &quot;icon&quot;: &quot;info-sign&quot;, &quot;iconColor&quot;: &quot;white&quot;, &quot;markerColor&quot;: &quot;blue&quot;, &quot;prefix&quot;: &quot;glyphicon&quot;}\n",
       "            );\n",
       "            marker_5db4107bce4b82e095dba13d1ffc0a76.setIcon(icon_a614935fd8d508076f89bc385d1b67e5);\n",
       "        \n",
       "    \n",
       "        var popup_7ce42737f369ff085488036a213d1c52 = L.popup({&quot;maxWidth&quot;: 400});\n",
       "\n",
       "        \n",
       "            \n",
       "                var html_c94464db4a91e53f5c5d658a2dac51fb = $(`&lt;div id=&quot;html_c94464db4a91e53f5c5d658a2dac51fb&quot; style=&quot;width: 100.0%; height: 100.0%;&quot;&gt;&lt;!DOCTYPE html&gt;     &lt;html&gt;     &lt;strong&gt;Building Name: &lt;/strong&gt;Icon Brickell Condo&lt;br&gt;     &lt;strong&gt;Sale Price: &lt;/strong&gt;$1,100,000.00&lt;br&gt;     &lt;strong&gt;Days on Market: &lt;/strong&gt;57&lt;br&gt;     &lt;strong&gt;Listing Agent: &lt;/strong&gt;Claudia Wong&lt;br&gt;     &lt;strong&gt;Buyer&#x27;s Agent: &lt;/strong&gt;Salesperson Non Member&lt;br&gt;     &lt;strong&gt;Price sq ft: &lt;/strong&gt;$793.65&lt;br&gt;     &lt;strong&gt;Address: &lt;/strong&gt;3 485 Brickell Ave 3702&lt;br&gt;     &lt;/html&gt;     &lt;/div&gt;`)[0];\n",
       "                popup_7ce42737f369ff085488036a213d1c52.setContent(html_c94464db4a91e53f5c5d658a2dac51fb);\n",
       "            \n",
       "        \n",
       "\n",
       "        marker_5db4107bce4b82e095dba13d1ffc0a76.bindPopup(popup_7ce42737f369ff085488036a213d1c52)\n",
       "        ;\n",
       "\n",
       "        \n",
       "    \n",
       "    \n",
       "            var marker_0231bcccc156cca64ebc55986fa80e01 = L.marker(\n",
       "                [25.769595, -80.1324885],\n",
       "                {&quot;fill&quot;: true, &quot;radius&quot;: 5}\n",
       "            ).addTo(feature_group_f2c907a6af4e076b8c791ba0a1dd1261);\n",
       "        \n",
       "    \n",
       "            var icon_9e3f3bbd529bda4daca08c22eb3f8481 = L.AwesomeMarkers.icon(\n",
       "                {&quot;extraClasses&quot;: &quot;fa-rotate-0&quot;, &quot;icon&quot;: &quot;info-sign&quot;, &quot;iconColor&quot;: &quot;white&quot;, &quot;markerColor&quot;: &quot;blue&quot;, &quot;prefix&quot;: &quot;glyphicon&quot;}\n",
       "            );\n",
       "            marker_0231bcccc156cca64ebc55986fa80e01.setIcon(icon_9e3f3bbd529bda4daca08c22eb3f8481);\n",
       "        \n",
       "    \n",
       "        var popup_6d1e12383b438789ea537398c9e11fad = L.popup({&quot;maxWidth&quot;: 400});\n",
       "\n",
       "        \n",
       "            \n",
       "                var html_639574a3a876b0a701568c499a193fca = $(`&lt;div id=&quot;html_639574a3a876b0a701568c499a193fca&quot; style=&quot;width: 100.0%; height: 100.0%;&quot;&gt;&lt;!DOCTYPE html&gt;     &lt;html&gt;     &lt;strong&gt;Building Name: &lt;/strong&gt;Bentley Beach Condo&lt;br&gt;     &lt;strong&gt;Sale Price: &lt;/strong&gt;$1,064,000.00&lt;br&gt;     &lt;strong&gt;Days on Market: &lt;/strong&gt;92&lt;br&gt;     &lt;strong&gt;Listing Agent: &lt;/strong&gt;Joanna Gutierrez&lt;br&gt;     &lt;strong&gt;Buyer&#x27;s Agent: &lt;/strong&gt;Jorge Martinez&lt;br&gt;     &lt;strong&gt;Price sq ft: &lt;/strong&gt;$1488.11&lt;br&gt;     &lt;strong&gt;Address: &lt;/strong&gt;101 Ocean Dr 717 Miami&lt;br&gt;     &lt;/html&gt;     &lt;/div&gt;`)[0];\n",
       "                popup_6d1e12383b438789ea537398c9e11fad.setContent(html_639574a3a876b0a701568c499a193fca);\n",
       "            \n",
       "        \n",
       "\n",
       "        marker_0231bcccc156cca64ebc55986fa80e01.bindPopup(popup_6d1e12383b438789ea537398c9e11fad)\n",
       "        ;\n",
       "\n",
       "        \n",
       "    \n",
       "    \n",
       "            var marker_1df483678b0e1cd1d3402eee03157690 = L.marker(\n",
       "                [25.7650099, -80.19016859999999],\n",
       "                {&quot;fill&quot;: true, &quot;radius&quot;: 5}\n",
       "            ).addTo(feature_group_f2c907a6af4e076b8c791ba0a1dd1261);\n",
       "        \n",
       "    \n",
       "            var icon_3a19d080e3ef59d0f9fb16ca509aa3a4 = L.AwesomeMarkers.icon(\n",
       "                {&quot;extraClasses&quot;: &quot;fa-rotate-0&quot;, &quot;icon&quot;: &quot;info-sign&quot;, &quot;iconColor&quot;: &quot;white&quot;, &quot;markerColor&quot;: &quot;blue&quot;, &quot;prefix&quot;: &quot;glyphicon&quot;}\n",
       "            );\n",
       "            marker_1df483678b0e1cd1d3402eee03157690.setIcon(icon_3a19d080e3ef59d0f9fb16ca509aa3a4);\n",
       "        \n",
       "    \n",
       "        var popup_c766b60442b4445019eb9e8bd84a85ea = L.popup({&quot;maxWidth&quot;: 400});\n",
       "\n",
       "        \n",
       "            \n",
       "                var html_c1292ec0361aaf8072e2e74adba320cf = $(`&lt;div id=&quot;html_c1292ec0361aaf8072e2e74adba320cf&quot; style=&quot;width: 100.0%; height: 100.0%;&quot;&gt;&lt;!DOCTYPE html&gt;     &lt;html&gt;     &lt;strong&gt;Building Name: &lt;/strong&gt;The Plaza&lt;br&gt;     &lt;strong&gt;Sale Price: &lt;/strong&gt;$975,000.00&lt;br&gt;     &lt;strong&gt;Days on Market: &lt;/strong&gt;39&lt;br&gt;     &lt;strong&gt;Listing Agent: &lt;/strong&gt;Jennifer Brough&lt;br&gt;     &lt;strong&gt;Buyer&#x27;s Agent: &lt;/strong&gt;Aldo Rivera&lt;br&gt;     &lt;strong&gt;Price sq ft: &lt;/strong&gt;$762.91&lt;br&gt;     &lt;strong&gt;Address: &lt;/strong&gt;950 Brickell Bay Dr 3710&lt;br&gt;     &lt;/html&gt;     &lt;/div&gt;`)[0];\n",
       "                popup_c766b60442b4445019eb9e8bd84a85ea.setContent(html_c1292ec0361aaf8072e2e74adba320cf);\n",
       "            \n",
       "        \n",
       "\n",
       "        marker_1df483678b0e1cd1d3402eee03157690.bindPopup(popup_c766b60442b4445019eb9e8bd84a85ea)\n",
       "        ;\n",
       "\n",
       "        \n",
       "    \n",
       "    \n",
       "            var marker_2595792c6211bc6452e788024845021c = L.marker(\n",
       "                [25.8027038, -80.1870651],\n",
       "                {&quot;fill&quot;: true, &quot;radius&quot;: 5}\n",
       "            ).addTo(feature_group_f2c907a6af4e076b8c791ba0a1dd1261);\n",
       "        \n",
       "    \n",
       "            var icon_1c677fd2a856e5331d78d97526aff3cd = L.AwesomeMarkers.icon(\n",
       "                {&quot;extraClasses&quot;: &quot;fa-rotate-0&quot;, &quot;icon&quot;: &quot;info-sign&quot;, &quot;iconColor&quot;: &quot;white&quot;, &quot;markerColor&quot;: &quot;blue&quot;, &quot;prefix&quot;: &quot;glyphicon&quot;}\n",
       "            );\n",
       "            marker_2595792c6211bc6452e788024845021c.setIcon(icon_1c677fd2a856e5331d78d97526aff3cd);\n",
       "        \n",
       "    \n",
       "        var popup_77f51444b8be985bb2d6764a87a6c3ed = L.popup({&quot;maxWidth&quot;: 400});\n",
       "\n",
       "        \n",
       "            \n",
       "                var html_d07e2962a4d1b39a7d76f37a01000974 = $(`&lt;div id=&quot;html_d07e2962a4d1b39a7d76f37a01000974&quot; style=&quot;width: 100.0%; height: 100.0%;&quot;&gt;&lt;!DOCTYPE html&gt;     &lt;html&gt;     &lt;strong&gt;Building Name: &lt;/strong&gt;Bay House&lt;br&gt;     &lt;strong&gt;Sale Price: &lt;/strong&gt;$960,000.00&lt;br&gt;     &lt;strong&gt;Days on Market: &lt;/strong&gt;16&lt;br&gt;     &lt;strong&gt;Listing Agent: &lt;/strong&gt;Andrea Andrada&lt;br&gt;     &lt;strong&gt;Buyer&#x27;s Agent: &lt;/strong&gt;Brett Phang Sang&lt;br&gt;     &lt;strong&gt;Price sq ft: &lt;/strong&gt;$620.56&lt;br&gt;     &lt;strong&gt;Address: &lt;/strong&gt;600 NE 27th St 2301&lt;br&gt;     &lt;/html&gt;     &lt;/div&gt;`)[0];\n",
       "                popup_77f51444b8be985bb2d6764a87a6c3ed.setContent(html_d07e2962a4d1b39a7d76f37a01000974);\n",
       "            \n",
       "        \n",
       "\n",
       "        marker_2595792c6211bc6452e788024845021c.bindPopup(popup_77f51444b8be985bb2d6764a87a6c3ed)\n",
       "        ;\n",
       "\n",
       "        \n",
       "    \n",
       "    \n",
       "            var tile_layer_a5467f42a100a7d2d6547c372cb03036 = L.tileLayer(\n",
       "                &quot;https://{s}.tile.openstreetmap.org/{z}/{x}/{y}.png&quot;,\n",
       "                {&quot;attribution&quot;: &quot;Data by \\u0026copy; \\u003ca href=\\&quot;http://openstreetmap.org\\&quot;\\u003eOpenStreetMap\\u003c/a\\u003e, under \\u003ca href=\\&quot;http://www.openstreetmap.org/copyright\\&quot;\\u003eODbL\\u003c/a\\u003e.&quot;, &quot;detectRetina&quot;: false, &quot;maxNativeZoom&quot;: 18, &quot;maxZoom&quot;: 18, &quot;minZoom&quot;: 0, &quot;noWrap&quot;: false, &quot;opacity&quot;: 1, &quot;subdomains&quot;: &quot;abc&quot;, &quot;tms&quot;: false}\n",
       "            ).addTo(map_2364f340dc7ab0da2c2e3653523676ea);\n",
       "        \n",
       "    \n",
       "            var layer_control_3a556a3e0008877448e16a399bc1dcdd = {\n",
       "                base_layers : {\n",
       "                },\n",
       "                overlays :  {\n",
       "                    &quot;Top Sale&quot; : feature_group_f246b51748c30e626016e6b55ddad4ce,\n",
       "                    &quot;All other sales&quot; : feature_group_f2c907a6af4e076b8c791ba0a1dd1261,\n",
       "                },\n",
       "            };\n",
       "            L.control.layers(\n",
       "                layer_control_3a556a3e0008877448e16a399bc1dcdd.base_layers,\n",
       "                layer_control_3a556a3e0008877448e16a399bc1dcdd.overlays,\n",
       "                {&quot;autoZIndex&quot;: true, &quot;collapsed&quot;: false, &quot;position&quot;: &quot;topright&quot;}\n",
       "            ).addTo(map_2364f340dc7ab0da2c2e3653523676ea);\n",
       "        \n",
       "&lt;/script&gt;\" style=\"position:absolute;width:100%;height:100%;left:0;top:0;border:none !important;\" allowfullscreen webkitallowfullscreen mozallowfullscreen></iframe></div></div>"
      ],
      "text/plain": [
       "<folium.folium.Map at 0x7fd0db8837f0>"
      ]
     },
     "execution_count": 17,
     "metadata": {},
     "output_type": "execute_result"
    }
   ],
   "source": [
    "import folium\n",
    "from folium.plugins import MarkerCluster\n",
    "\n",
    "m = folium.Map(location=df[[\"lat\", \"lon\"]].mean().to_list(), zoom_start=10)\n",
    "\n",
    "title_html = '''\n",
    "              <h3 align=\"center\" style=\"font-size:16px\"><b>{}</b></h3>\n",
    "             '''.format(f'Recent Miami-Dade Condo Sales ')\n",
    "\n",
    "caption_html = '''\n",
    "                <p align=\"center\" style=\"vertical-align: bottom; font-size:13px\"><i>{}</i></p>\n",
    "                '''.format('October 22nd - October 28th')\n",
    "\n",
    "\n",
    "### Create map container ###\n",
    "m = folium.Map(location=df[[\"lat\", \"lon\"]].mean().to_list(),zoom_start=9.5,tiles=None)\n",
    "\n",
    "# Create two FeatureGroups for different color pins\n",
    "fg_blue = folium.FeatureGroup(name='All other sales')\n",
    "fg_orange = folium.FeatureGroup(name='Top Sale')\n",
    "\n",
    "for index, row in df.iterrows():\n",
    "    # Add the markers to the appropriate FeatureGroup based on the color\n",
    "    if row['COLOR'] == 'blue':\n",
    "        marker = folium.Marker(\n",
    "            location=[row['lat'], row['lon']],\n",
    "            radius=5,\n",
    "            fill=True,\n",
    "            icon=folium.Icon(color=row['COLOR']),\n",
    "            popup=folium.Popup(popup_html(row), max_width=400))\n",
    "        marker.add_to(fg_blue)\n",
    "    else:\n",
    "        marker = folium.Marker(\n",
    "            location=[row['lat'], row['lon']],\n",
    "            radius=5,\n",
    "            fill=True,\n",
    "            icon=folium.Icon(color=row['COLOR']),\n",
    "            popup=folium.Popup(popup_html(row), max_width=400))\n",
    "        marker.add_to(fg_orange)\n",
    "\n",
    "# Add the FeatureGroups to the map\n",
    "fg_orange.add_to(m)\n",
    "fg_blue.add_to(m)\n",
    "\n",
    "folium.TileLayer('OpenStreetMap',control=False).add_to(m)\n",
    "\n",
    "# Add LayerControl to the map\n",
    "folium.map.LayerControl(collapsed=False).add_to(m)\n",
    "m.get_root().html.add_child(folium.Element(title_html))\n",
    "m.get_root().html.add_child(folium.Element(caption_html))\n",
    "            \n",
    "# Display map\n",
    "m"
   ]
  },
  {
   "cell_type": "code",
   "execution_count": 18,
   "metadata": {},
   "outputs": [],
   "source": [
    "m.save('index.html')"
   ]
  },
  {
   "cell_type": "markdown",
   "metadata": {},
   "source": [
    "## Data snagger"
   ]
  },
  {
   "cell_type": "code",
   "execution_count": 19,
   "metadata": {},
   "outputs": [],
   "source": [
    "### Set up formatting ###\n",
    "BR = '\\n'\n",
    "\n",
    "ME = '\\033[1m' + 'Most Expensive' + '\\033[0m'\n",
    "LE = '\\033[1m' + 'Least Expensive' + '\\033[0m'\n",
    "\n",
    "MAX_PSF = '\\033[1m' + 'Highest Price Per Square Foot' + '\\033[0m'\n",
    "MIN_PSF = '\\033[1m' + 'Lowest Price Per Square Foot' + '\\033[0m'\n",
    "\n",
    "DAYS_MAX = '\\033[1m' + 'Most Days on Market' + '\\033[0m'\n",
    "DAYS_MIN = '\\033[1m' + 'Fewest Days on Market' + '\\033[0m'"
   ]
  },
  {
   "cell_type": "code",
   "execution_count": 20,
   "metadata": {},
   "outputs": [
    {
     "name": "stdout",
     "output_type": "stream",
     "text": [
      "\u001b[1mMost Expensive\u001b[0m\n",
      "St Regis Bal Harbour, 9701 Collins Ave 2401S Bal | Price $10,550,000 | $2,994 psf | Listing agent: Comp Sale with Comp Only Sales | Buyer's agent: Sergio Balinotti with BRG International , LLC | Days on market: 1\n",
      "\u001b[1mLeast Expensive\u001b[0m\n",
      "Bay House, 600 NE 27th St 2301 | Price $960,000 | $621 psf | Listing agent: Andrea Andrada with Coppola Intl Realty LLC | Buyer's agent: Brett Phang Sang with First World Realty Group,LLC | Days on market: 16\n",
      "\u001b[1mHighest Price Per Square Foot\u001b[0m\n",
      "St Regis Bal Harbour, 9701 Collins Ave 2401S Bal | Price $10,550,000 | $2,994 psf | Listing agent: Comp Sale with Comp Only Sales | Buyer's agent: Sergio Balinotti with BRG International , LLC | Days on market: 1\n",
      "\u001b[1mLowest Price Per Square Foot\u001b[0m\n",
      "Bay House, 600 NE 27th St 2301 | Price $960,000 | $621 psf | Listing agent: Andrea Andrada with Coppola Intl Realty LLC | Buyer's agent: Brett Phang Sang with First World Realty Group,LLC | Days on market: 16\n",
      "\u001b[1mMost Days on Market\u001b[0m\n",
      "Armani Casa, 18975 Collins Ave 1704 Sunny Isles | Price $2,475,000 | $1,578 psf | Listing agent: Pola Benchimol Levy with EXP Realty, LLC | Buyer's agent: Paolo Scattarreggia with MLR Realty Inc | Days on market: 266\n",
      "\u001b[1mFewest Days on Market\u001b[0m\n",
      "St Regis Bal Harbour, 9701 Collins Ave 2401S Bal | Price $10,550,000 | $2,994 psf | Listing agent: Comp Sale with Comp Only Sales | Buyer's agent: Sergio Balinotti with BRG International , LLC | Days on market: 1\n"
     ]
    }
   ],
   "source": [
    "### Highest and lowest sale price ###\n",
    "print(f\"{ME}{BR}{df.loc[df['int_Sale_Price'].idxmax()]['building_name']}, {df.loc[df['int_Sale_Price'].idxmax()]['address']} | Price ${df.loc[df['int_Sale_Price'].idxmax()]['int_Sale_Price']:,.0f} | ${df.loc[df['int_Sale_Price'].idxmax()]['price_per_sqft']:,.0f} psf | Listing agent: {df.loc[df['int_Sale_Price'].idxmax()]['Agent']} with {df.loc[df['int_Sale_Price'].idxmax()]['Listing Broker']} | Buyer's agent: {df.loc[df['int_Sale_Price'].idxmax()]['Buyer Agent']} with {df.loc[df['int_Sale_Price'].idxmax()]['Buyer Broker']} | Days on market: {df.loc[df['int_Sale_Price'].idxmax()]['days_on_market']}\")\n",
    "print(f\"{LE}{BR}{df.loc[df['int_Sale_Price'].idxmin()]['building_name']}, {df.loc[df['int_Sale_Price'].idxmin()]['address']} | Price ${df.loc[df['int_Sale_Price'].idxmin()]['int_Sale_Price']:,.0f} | ${df.loc[df['int_Sale_Price'].idxmin()]['price_per_sqft']:,.0f} psf | Listing agent: {df.loc[df['int_Sale_Price'].idxmin()]['Agent']} with {df.loc[df['int_Sale_Price'].idxmin()]['Listing Broker']} | Buyer's agent: {df.loc[df['int_Sale_Price'].idxmin()]['Buyer Agent']} with {df.loc[df['int_Sale_Price'].idxmin()]['Buyer Broker']} | Days on market: {df.loc[df['int_Sale_Price'].idxmin()]['days_on_market']}\")\n",
    "### Highest and lowest psf ###\n",
    "print(f\"{MAX_PSF}{BR}{df.loc[df['price_per_sqft'].idxmax()]['building_name']}, {df.loc[df['price_per_sqft'].idxmax()]['address']} | Price ${df.loc[df['price_per_sqft'].idxmax()]['int_Sale_Price']:,.0f} | ${df.loc[df['price_per_sqft'].idxmax()]['price_per_sqft']:,.0f} psf | Listing agent: {df.loc[df['price_per_sqft'].idxmax()]['Agent']} with {df.loc[df['price_per_sqft'].idxmax()]['Listing Broker']} | Buyer's agent: {df.loc[df['price_per_sqft'].idxmax()]['Buyer Agent']} with {df.loc[df['price_per_sqft'].idxmax()]['Buyer Broker']} | Days on market: {df.loc[df['price_per_sqft'].idxmax()]['days_on_market']}\")\n",
    "print(f\"{MIN_PSF}{BR}{df.loc[df['price_per_sqft'].idxmin()]['building_name']}, {df.loc[df['price_per_sqft'].idxmin()]['address']} | Price ${df.loc[df['price_per_sqft'].idxmin()]['int_Sale_Price']:,.0f} | ${df.loc[df['price_per_sqft'].idxmin()]['price_per_sqft']:,.0f} psf | Listing agent: {df.loc[df['price_per_sqft'].idxmin()]['Agent']} with {df.loc[df['price_per_sqft'].idxmin()]['Listing Broker']} | Buyer's agent: {df.loc[df['price_per_sqft'].idxmin()]['Buyer Agent']} with {df.loc[df['price_per_sqft'].idxmin()]['Buyer Broker']} | Days on market: {df.loc[df['price_per_sqft'].idxmin()]['days_on_market']}\")\n",
    "### Highest and lowest days on market ###\n",
    "print(f\"{DAYS_MAX}{BR}{df.loc[df['days_on_market'].idxmax()]['building_name']}, {df.loc[df['days_on_market'].idxmax()]['address']} | Price ${df.loc[df['days_on_market'].idxmax()]['int_Sale_Price']:,.0f} | ${df.loc[df['days_on_market'].idxmax()]['price_per_sqft']:,.0f} psf | Listing agent: {df.loc[df['days_on_market'].idxmax()]['Agent']} with {df.loc[df['days_on_market'].idxmax()]['Listing Broker']} | Buyer's agent: {df.loc[df['days_on_market'].idxmax()]['Buyer Agent']} with {df.loc[df['days_on_market'].idxmax()]['Buyer Broker']} | Days on market: {df.loc[df['days_on_market'].idxmax()]['days_on_market']}\")\n",
    "print(f\"{DAYS_MIN}{BR}{df.loc[df['days_on_market'].idxmin()]['building_name']}, {df.loc[df['days_on_market'].idxmin()]['address']} | Price ${df.loc[df['days_on_market'].idxmin()]['int_Sale_Price']:,.0f} | ${df.loc[df['days_on_market'].idxmin()]['price_per_sqft']:,.0f} psf | Listing agent: {df.loc[df['days_on_market'].idxmin()]['Agent']} with {df.loc[df['days_on_market'].idxmin()]['Listing Broker']} | Buyer's agent: {df.loc[df['days_on_market'].idxmin()]['Buyer Agent']} with {df.loc[df['days_on_market'].idxmin()]['Buyer Broker']} | Days on market: {df.loc[df['days_on_market'].idxmin()]['days_on_market']}\")"
   ]
  },
  {
   "cell_type": "code",
   "execution_count": 21,
   "metadata": {},
   "outputs": [
    {
     "data": {
      "text/plain": [
       "62.8"
      ]
     },
     "execution_count": 21,
     "metadata": {},
     "output_type": "execute_result"
    }
   ],
   "source": [
    "df['days_on_market'].mean()"
   ]
  },
  {
   "cell_type": "markdown",
   "metadata": {},
   "source": [
    "## Map URL snagger"
   ]
  },
  {
   "cell_type": "markdown",
   "metadata": {},
   "source": [
    "Map template URL: `https://trd-digital.github.io/trd-news-interactive-maps/{map-folder-name}`"
   ]
  },
  {
   "cell_type": "code",
   "execution_count": 22,
   "metadata": {},
   "outputs": [],
   "source": [
    "base_name = 'https://trd-digital.github.io/trd-news-interactive-maps/'"
   ]
  },
  {
   "cell_type": "code",
   "execution_count": 23,
   "metadata": {},
   "outputs": [
    {
     "name": "stdout",
     "output_type": "stream",
     "text": [
      "https://trd-digital.github.io/trd-news-interactive-maps/condo_sales_week_ending_10282023\n"
     ]
    }
   ],
   "source": [
    "cwd = os.getcwd()\n",
    "\n",
    "cwd = cwd.split('/')\n",
    "\n",
    "final_name = base_name + cwd[-1]\n",
    "print(final_name)"
   ]
  }
 ],
 "metadata": {
  "kernelspec": {
   "display_name": "Python 3 (ipykernel)",
   "language": "python",
   "name": "python3"
  },
  "language_info": {
   "codemirror_mode": {
    "name": "ipython",
    "version": 3
   },
   "file_extension": ".py",
   "mimetype": "text/x-python",
   "name": "python",
   "nbconvert_exporter": "python",
   "pygments_lexer": "ipython3",
   "version": "3.9.12"
  },
  "toc": {
   "base_numbering": 1,
   "nav_menu": {},
   "number_sections": true,
   "sideBar": true,
   "skip_h1_title": false,
   "title_cell": "Table of Contents",
   "title_sidebar": "Contents",
   "toc_cell": false,
   "toc_position": {},
   "toc_section_display": true,
   "toc_window_display": false
  }
 },
 "nbformat": 4,
 "nbformat_minor": 4
}
