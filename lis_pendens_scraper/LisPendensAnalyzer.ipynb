{
 "cells": [
  {
   "cell_type": "markdown",
   "id": "1007560e",
   "metadata": {},
   "source": [
    "## Imports"
   ]
  },
  {
   "cell_type": "code",
   "execution_count": 1,
   "id": "39ad15d5",
   "metadata": {},
   "outputs": [],
   "source": [
    "import googlemaps\n",
    "import pandas as pd\n",
    "import numpy as np\n",
    "import re\n",
    "import os\n",
    "import geopandas as gpd\n",
    "import folium"
   ]
  },
  {
   "cell_type": "markdown",
   "id": "90fe750d",
   "metadata": {},
   "source": [
    "## Read-in"
   ]
  },
  {
   "cell_type": "code",
   "execution_count": 2,
   "id": "7e8994b2",
   "metadata": {},
   "outputs": [],
   "source": [
    "df = pd.read_csv('LISF_February_and_March.csv',dtype='str')"
   ]
  },
  {
   "cell_type": "markdown",
   "id": "fac82a59",
   "metadata": {},
   "source": [
    "## Clean, drop, and convert"
   ]
  },
  {
   "cell_type": "code",
   "execution_count": 3,
   "id": "46c7d2fa",
   "metadata": {},
   "outputs": [],
   "source": [
    "df = df.drop(columns=['Unnamed: 0.2','Unnamed: 0.1','Unnamed: 0'])"
   ]
  },
  {
   "cell_type": "code",
   "execution_count": 4,
   "id": "c8760fbf",
   "metadata": {},
   "outputs": [],
   "source": [
    "df = df.drop_duplicates()"
   ]
  },
  {
   "cell_type": "code",
   "execution_count": 5,
   "id": "fe62ac5d",
   "metadata": {},
   "outputs": [],
   "source": [
    "df['Doc Recorded'] = pd.to_datetime(df['Doc Recorded'])"
   ]
  },
  {
   "cell_type": "markdown",
   "id": "4ffeb043",
   "metadata": {},
   "source": [
    "## Data Stuff"
   ]
  },
  {
   "cell_type": "code",
   "execution_count": 6,
   "id": "f4354a59",
   "metadata": {},
   "outputs": [
    {
     "name": "stdout",
     "output_type": "stream",
     "text": [
      "Number of February dates: 807\n"
     ]
    }
   ],
   "source": [
    "# Count number of February dates\n",
    "feb_dates_count = len(df.loc[df['Doc Recorded'].dt.month == 2])\n",
    "\n",
    "print(f'Number of February dates: {feb_dates_count}')"
   ]
  },
  {
   "cell_type": "code",
   "execution_count": 7,
   "id": "ac072fca",
   "metadata": {},
   "outputs": [
    {
     "name": "stdout",
     "output_type": "stream",
     "text": [
      "Number of March dates: 1010\n"
     ]
    }
   ],
   "source": [
    "# Count number of February dates\n",
    "mar_dates_count = len(df.loc[df['Doc Recorded'].dt.month == 3])\n",
    "\n",
    "print(f'Number of March dates: {mar_dates_count}')"
   ]
  },
  {
   "cell_type": "code",
   "execution_count": 8,
   "id": "a3d120f5",
   "metadata": {},
   "outputs": [],
   "source": [
    "# split the '1st PIN' column into two columns\n",
    "df[['folio_number', 'address']] = df['1st PIN'].str.split(' ', 1, expand=True)\n",
    "# Add Illinois\n",
    "df['geo_address'] = df['address'] + ' Illinois'"
   ]
  },
  {
   "cell_type": "code",
   "execution_count": 9,
   "id": "9a9f3629",
   "metadata": {},
   "outputs": [],
   "source": [
    "df['1st Grantor'] = df['1st Grantor'].fillna('NA')\n",
    "df['1st Grantee'] = df['1st Grantee'].fillna('NA')"
   ]
  },
  {
   "cell_type": "code",
   "execution_count": 10,
   "id": "b63d1e5d",
   "metadata": {},
   "outputs": [],
   "source": [
    "municipal_authority = ['city', 'town', 'municipality', 'village']  # list of municipal authority keywords\n",
    "df = df[~df['1st Grantor'].str.contains('|'.join(municipal_authority), case=False) & \n",
    "        ~df['1st Grantee'].str.contains('|'.join(municipal_authority), case=False)]"
   ]
  },
  {
   "cell_type": "code",
   "execution_count": 11,
   "id": "7db90a80",
   "metadata": {},
   "outputs": [],
   "source": [
    "%store -r google_maps_API_Key\n",
    "gmaps_key = googlemaps.Client(key=google_maps_API_Key)"
   ]
  },
  {
   "cell_type": "code",
   "execution_count": 12,
   "id": "bf8f54a6",
   "metadata": {},
   "outputs": [],
   "source": [
    "df = df.dropna(subset='address')"
   ]
  },
  {
   "cell_type": "code",
   "execution_count": 13,
   "id": "e7d35d76",
   "metadata": {},
   "outputs": [],
   "source": [
    "def geocode(add):\n",
    "    g = gmaps_key.geocode(add)\n",
    "    lat = g[0][\"geometry\"][\"location\"][\"lat\"]\n",
    "    lng = g[0][\"geometry\"][\"location\"][\"lng\"]\n",
    "    return (lat, lng)\n",
    "\n",
    "df['geocoded'] = df['geo_address'].apply(geocode)"
   ]
  },
  {
   "cell_type": "code",
   "execution_count": 14,
   "id": "0bfd15fa",
   "metadata": {},
   "outputs": [],
   "source": [
    "df['geocoded'] = df['geocoded'].astype(str)\n",
    "df[['lat', 'lon']] = df['geocoded'].str.strip('()').str.split(', ', expand=True)\n",
    "df['lat'] = df['lat'].astype(float)\n",
    "df['lon'] = df['lon'].astype(float)"
   ]
  },
  {
   "cell_type": "code",
   "execution_count": 25,
   "id": "d1ba02f1",
   "metadata": {},
   "outputs": [],
   "source": [
    "# create new column and assign colors based on month\n",
    "df['COLOR'] = df['Doc Recorded'].apply(lambda x: 'pink' if x.month == 2 else 'red' if x.month == 3 else '')"
   ]
  },
  {
   "cell_type": "code",
   "execution_count": 26,
   "id": "fe20c260",
   "metadata": {},
   "outputs": [
    {
     "data": {
      "text/plain": [
       "red     778\n",
       "pink    662\n",
       "Name: COLOR, dtype: int64"
      ]
     },
     "execution_count": 26,
     "metadata": {},
     "output_type": "execute_result"
    }
   ],
   "source": [
    "df['COLOR'].value_counts()"
   ]
  },
  {
   "cell_type": "markdown",
   "id": "c8f43554",
   "metadata": {},
   "source": [
    "## HTML Popup Formatter"
   ]
  },
  {
   "cell_type": "code",
   "execution_count": 16,
   "id": "1d08f6b9",
   "metadata": {},
   "outputs": [
    {
     "data": {
      "text/plain": [
       "Index(['View Doc', 'Doc Number', 'Doc Recorded', 'Doc Executed', 'Doc Type',\n",
       "       'Consi. Amt.', '1st Grantor', '1st Grantee', 'Assoc. Doc#', '1st PIN',\n",
       "       'deed_urls', 'folio_number', 'address', 'geo_address', 'geocoded',\n",
       "       'lat', 'lon'],\n",
       "      dtype='object')"
      ]
     },
     "execution_count": 16,
     "metadata": {},
     "output_type": "execute_result"
    }
   ],
   "source": [
    "df.columns"
   ]
  },
  {
   "cell_type": "code",
   "execution_count": 33,
   "id": "ab87e9af",
   "metadata": {},
   "outputs": [],
   "source": [
    "def popup_html(row):\n",
    "    grantor = row['1st Grantor']\n",
    "    grantee = row['1st Grantee']\n",
    "    folio = row['folio_number']\n",
    "    address = row['address']\n",
    "    \n",
    "    html = '''<!DOCTYPE html>\n",
    "    <html>\n",
    "    <strong>Lendor: </strong>{}'''.format(grantor) + '''<br>\n",
    "    <strong>Lendee: </strong>{}'''.format(grantee) + '''<br>\n",
    "    <strong>PIN: </strong>{}'''.format(folio) + '''<br>\n",
    "    <strong>Address: </strong>{}'''.format(address) + '''<br>\n",
    "    </html>\n",
    "    '''\n",
    "    return html"
   ]
  },
  {
   "cell_type": "code",
   "execution_count": 36,
   "id": "88cbbca3",
   "metadata": {},
   "outputs": [
    {
     "data": {
      "text/plain": [
       "<branca.element.Element at 0x7fcf3a678fa0>"
      ]
     },
     "execution_count": 36,
     "metadata": {},
     "output_type": "execute_result"
    }
   ],
   "source": [
    "import folium\n",
    "from folium.plugins import MarkerCluster\n",
    "\n",
    "m = folium.Map(location=df[[\"lat\", \"lon\"]].mean().to_list(), zoom_start=10)\n",
    "\n",
    "title_html = '''\n",
    "              <h3 align=\"center\" style=\"font-size:16px\"><b>{}</b></h3>\n",
    "             '''.format(f'Cook County Foreclosures')\n",
    "\n",
    "caption_html = '''\n",
    "                <p align=\"center\" style=\"vertical-align: bottom; font-size:13px\"><i>{}</i></p>\n",
    "                '''.format('February & March')\n",
    "\n",
    "\n",
    "### Create map container ###\n",
    "m = folium.Map(location=df[[\"lat\", \"lon\"]].mean().to_list(),zoom_start=9.5,tiles=None)\n",
    "\n",
    "# Create two FeatureGroups for different color pins\n",
    "fg_pink = folium.FeatureGroup(name='February')\n",
    "fg_red = folium.FeatureGroup(name='March')\n",
    "\n",
    "for index, row in df.iterrows():\n",
    "    # Add the markers to the appropriate FeatureGroup based on the color\n",
    "    if row['COLOR'] == 'pink':\n",
    "        marker = folium.Marker(\n",
    "            location=[row['lat'], row['lon']],\n",
    "            radius=5,\n",
    "            fill=True,\n",
    "            icon=folium.Icon(color=row['COLOR']),\n",
    "            popup=folium.Popup(popup_html(row), max_width=400))\n",
    "        marker.add_to(fg_pink)\n",
    "    else:\n",
    "        marker = folium.Marker(\n",
    "            location=[row['lat'], row['lon']],\n",
    "            radius=5,\n",
    "            fill=True,\n",
    "            icon=folium.Icon(color=row['COLOR']),\n",
    "            popup=folium.Popup(popup_html(row), max_width=400))\n",
    "        marker.add_to(fg_red)\n",
    "\n",
    "# Add the FeatureGroups to the map\n",
    "fg_pink.add_to(m)\n",
    "fg_red.add_to(m)\n",
    "\n",
    "folium.TileLayer('OpenStreetMap',control=False).add_to(m)\n",
    "\n",
    "# Add LayerControl to the map\n",
    "folium.map.LayerControl(collapsed=False).add_to(m)\n",
    "m.get_root().html.add_child(folium.Element(title_html))\n",
    "m.get_root().html.add_child(folium.Element(caption_html))\n",
    "            \n",
    "# Display map"
   ]
  },
  {
   "cell_type": "code",
   "execution_count": 37,
   "id": "de775adb",
   "metadata": {},
   "outputs": [],
   "source": [
    "m.save('index.html')"
   ]
  },
  {
   "cell_type": "markdown",
   "id": "fd3a05b7",
   "metadata": {},
   "source": [
    "## Map URL Snagger"
   ]
  },
  {
   "cell_type": "code",
   "execution_count": 2,
   "id": "28a4f251",
   "metadata": {},
   "outputs": [
    {
     "name": "stdout",
     "output_type": "stream",
     "text": [
      "https://trd-digital.github.io/trd-news-interactive-maps/lis_pendens_scraper\n"
     ]
    }
   ],
   "source": [
    "base_name = 'https://trd-digital.github.io/trd-news-interactive-maps/'\n",
    "\n",
    "cwd = os.getcwd()\n",
    "\n",
    "cwd = cwd.split('/')\n",
    "\n",
    "final_name = base_name + cwd[-1]\n",
    "print(final_name)"
   ]
  },
  {
   "cell_type": "markdown",
   "id": "d306111c",
   "metadata": {},
   "source": [
    "## Stats for story"
   ]
  },
  {
   "cell_type": "code",
   "execution_count": 42,
   "id": "79736bdc",
   "metadata": {},
   "outputs": [
    {
     "name": "stdout",
     "output_type": "stream",
     "text": [
      "Number of February dates: 662\n",
      "Number of March dates: 778\n"
     ]
    }
   ],
   "source": [
    "# Count number of February dates\n",
    "feb_dates_count = len(df.loc[df['Doc Recorded'].dt.month == 2])\n",
    "\n",
    "print(f'Number of February dates: {feb_dates_count}')\n",
    "\n",
    "# Count number of February dates\n",
    "mar_dates_count = len(df.loc[df['Doc Recorded'].dt.month == 3])\n",
    "\n",
    "print(f'Number of March dates: {mar_dates_count}')"
   ]
  },
  {
   "cell_type": "code",
   "execution_count": 43,
   "id": "ffd59c35",
   "metadata": {},
   "outputs": [],
   "source": [
    "feb = df.loc[df['Doc Recorded'].dt.month == 2]\n",
    "mar = df.loc[df['Doc Recorded'].dt.month == 3]"
   ]
  },
  {
   "cell_type": "code",
   "execution_count": 51,
   "id": "a425240e",
   "metadata": {},
   "outputs": [
    {
     "data": {
      "text/plain": [
       "NATIONSTAR MTG LLC                        40\n",
       "US BK NATL ASSN                           39\n",
       "US BK NATL ASSN TR                        37\n",
       "LAKEVIEW LOAN SERVICING LLC               35\n",
       "NEWREZ LLC                                32\n",
       "US BK TRUST NATL ASSN TR                  28\n",
       "WILMINGTON SAV FUND SOC FSB TR            26\n",
       "WELLS FARGO BK NA                         21\n",
       "FREEDOM MTG CORP                          18\n",
       "PENNYMAC LOAN SERVICES LLC                17\n",
       "CARRINGTON MTG SERVICES LLC               16\n",
       "MIDFIRST BK                               14\n",
       "DEUTSCHE BK NATL TRUST CO TR              13\n",
       "LOANDEPOTCOM LLC                          11\n",
       "JPMORGAN CHASE BK NATL ASSN               10\n",
       "PNC BK NATL ASSN                           9\n",
       "THE BK OF NEW YORK MELLON TR               9\n",
       "FEDERAL HOME LOAN MTG CORP TR              7\n",
       "ROCKET MTG LLC                             7\n",
       "FIFTH THIRD BK NATL ASSN                   7\n",
       "UNITED WHOLESALE MTG LLC                   6\n",
       "CITIZENS BK NA                             5\n",
       "SELECT PORTFOLIO SERVICING INC             5\n",
       "GOLBERT CHARLES P GDN                      5\n",
       "SPECIALIZED LOAN SERVICING LLC             5\n",
       "MORTGAGE ASSETS MGMT LLC                   5\n",
       "LOANCARE LLC                               4\n",
       "PHH MTG CORP                               4\n",
       "PEOPLES BK                                 4\n",
       "BANK OF AMER NA                            4\n",
       "GN BK                                      4\n",
       "WEBB TIFFANY TR                            4\n",
       "PLANET HOME LENDG LLC                      4\n",
       "CITIMORTGAGE INC                           4\n",
       "CROSSCOUNTRY MTG LLC                       4\n",
       "HSBC BK USA NATL ASSN TR                   4\n",
       "CHICAGO                                    4\n",
       "WELLS FARGO BK NA TR                       4\n",
       "GUARANTEED RATE INC                        3\n",
       "BAD GREMLIN LLC                            3\n",
       "US BK TRUST CO NATL ASSN TR                3\n",
       "FIFTH THIRD BK NA                          3\n",
       "GREENLINE DEV INC                          3\n",
       "BMO HARRIS BK NA                           3\n",
       "US BK NA TR                                3\n",
       "SERVIS ONE INC                             3\n",
       "BRENDAN MTG INC                            3\n",
       "DDV LAW LTD                                3\n",
       "SELF HELP VENTURES FUND                    2\n",
       "WELLS FARGO BK NATL ASSN TR                2\n",
       "UNITED STATES OF AMER                      2\n",
       "WILMINGTON TRUST NATL ASSN TR              2\n",
       "M&T BK                                     2\n",
       "LEVITA ANGELA M TR                         2\n",
       "BANK OF NEW YORK MELLON TRUST CO NA TR     2\n",
       "CITIBANK NA                                2\n",
       "DATA MTG INC                               2\n",
       "THE MONEY SOURCE INC                       2\n",
       "TVC MTG TRUST 2020-RTL1                    2\n",
       "MCLP ASSET CO INC                          2\n",
       "Name: 1st Grantor, dtype: int64"
      ]
     },
     "execution_count": 51,
     "metadata": {},
     "output_type": "execute_result"
    }
   ],
   "source": [
    "feb['1st Grantor'].value_counts().head(60)"
   ]
  },
  {
   "cell_type": "code",
   "execution_count": 50,
   "id": "765e0ffc",
   "metadata": {},
   "outputs": [
    {
     "data": {
      "text/plain": [
       "UNKNOWN                                               8\n",
       "CHICAGO TITLE LAND TRUST CO TR                        4\n",
       "HAB GRP LLC                                           4\n",
       "THE MRW ANNUITY TRUST I                               2\n",
       "ROJAS MARICELA HERNANDEZ                              2\n",
       "                                                     ..\n",
       "MAEBANE DAVID W                                       1\n",
       "MARTINEZ DARIO                                        1\n",
       "UNKNOWN HEIRS OF CARL JOHNSON                         1\n",
       "CARBAJAL MAYRA                                        1\n",
       "6606-08 NORTH SEELEY BUILDING CONDOMINIUM ASSOCIAT    1\n",
       "Name: 1st Grantee, Length: 638, dtype: int64"
      ]
     },
     "execution_count": 50,
     "metadata": {},
     "output_type": "execute_result"
    }
   ],
   "source": [
    "feb['1st Grantee'].value_counts()"
   ]
  },
  {
   "cell_type": "code",
   "execution_count": 47,
   "id": "3beca349",
   "metadata": {},
   "outputs": [
    {
     "data": {
      "text/plain": [
       "US BK NATL ASSN                    56\n",
       "LAKEVIEW LOAN SERVICING LLC        46\n",
       "US BK NATL ASSN TR                 42\n",
       "NATIONSTAR MTG LLC                 39\n",
       "US BK TRUST NATL ASSN TR           36\n",
       "                                   ..\n",
       "ATAR NASRIN                         1\n",
       "SANTANDER BK NA                     1\n",
       "MAO SONGAN                          1\n",
       "ANTLER MTG LOAN TRUST 2021-RTL1     1\n",
       "THE BK OF NEW YORK MELLOM TR        1\n",
       "Name: 1st Grantor, Length: 196, dtype: int64"
      ]
     },
     "execution_count": 47,
     "metadata": {},
     "output_type": "execute_result"
    }
   ],
   "source": [
    "mar['1st Grantor'].value_counts()"
   ]
  },
  {
   "cell_type": "code",
   "execution_count": 52,
   "id": "e09990a5",
   "metadata": {},
   "outputs": [
    {
     "data": {
      "text/plain": [
       "CHICAGO TITLE LAND TRUST CO TR    7\n",
       "UNKNOWN                           4\n",
       "DELEE HOLDINGS LLC                3\n",
       "SMITH JAMES                       3\n",
       "BONILLA JOSE FABIAN               2\n",
       "                                 ..\n",
       "STEINFINK DEBRA B                 1\n",
       "RIOS GUIDO J                      1\n",
       "LYTLE DOUGLAS GDN                 1\n",
       "RICHARDSON GERALD                 1\n",
       "NAVARRO RENATO J                  1\n",
       "Name: 1st Grantee, Length: 759, dtype: int64"
      ]
     },
     "execution_count": 52,
     "metadata": {},
     "output_type": "execute_result"
    }
   ],
   "source": [
    "mar['1st Grantee'].value_counts()"
   ]
  },
  {
   "cell_type": "code",
   "execution_count": 54,
   "id": "a18fc45f",
   "metadata": {},
   "outputs": [],
   "source": [
    "df.to_csv('feb_mar_foreclosures.csv')"
   ]
  }
 ],
 "metadata": {
  "kernelspec": {
   "display_name": "Python 3 (ipykernel)",
   "language": "python",
   "name": "python3"
  },
  "language_info": {
   "codemirror_mode": {
    "name": "ipython",
    "version": 3
   },
   "file_extension": ".py",
   "mimetype": "text/x-python",
   "name": "python",
   "nbconvert_exporter": "python",
   "pygments_lexer": "ipython3",
   "version": "3.9.12"
  }
 },
 "nbformat": 4,
 "nbformat_minor": 5
}
