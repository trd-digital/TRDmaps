{
 "cells": [
  {
   "cell_type": "markdown",
   "id": "ceaadf10",
   "metadata": {},
   "source": [
    "## Imports"
   ]
  },
  {
   "cell_type": "code",
   "execution_count": 1,
   "id": "307ea395",
   "metadata": {},
   "outputs": [],
   "source": [
    "import googlemaps\n",
    "import pandas as pd\n",
    "import numpy as np\n",
    "import re\n",
    "import os\n",
    "import geopandas as gpd\n",
    "import folium\n",
    "from datetime import datetime, timedelta\n",
    "import glob"
   ]
  },
  {
   "cell_type": "code",
   "execution_count": 2,
   "id": "6bbccad4",
   "metadata": {},
   "outputs": [],
   "source": [
    "filename = glob.glob('redfin*.csv')\n",
    "filename = filename[0]"
   ]
  },
  {
   "cell_type": "code",
   "execution_count": 3,
   "id": "54364e58",
   "metadata": {},
   "outputs": [],
   "source": [
    "df = pd.read_csv(filename)\n",
    "df = df.rename(columns={'URL (SEE https://www.redfin.com/buy-a-home/comparative-market-analysis FOR INFO ON PRICING)':'URL'})"
   ]
  },
  {
   "cell_type": "code",
   "execution_count": 4,
   "id": "a77a8419",
   "metadata": {},
   "outputs": [],
   "source": [
    "remove_string = 'In accordance with local MLS rules, some MLS listings are not included in the download'\n",
    "df = df[~df['SALE TYPE'].str.contains(remove_string)]\n",
    "df = df.sort_values(by='PRICE',ascending=False)\n",
    "df_top_ten = df.head(10)"
   ]
  },
  {
   "cell_type": "code",
   "execution_count": 6,
   "id": "f0f8b93d",
   "metadata": {},
   "outputs": [],
   "source": [
    "df['SOLD DATE'] = pd.to_datetime(df['SOLD DATE'])"
   ]
  },
  {
   "cell_type": "code",
   "execution_count": 7,
   "id": "2e3a995f",
   "metadata": {},
   "outputs": [],
   "source": [
    "# Define the date range\n",
    "start_date = '2024-05-20'\n",
    "end_date = '2024-05-26'\n",
    "\n",
    "# Filter rows where 'SOLD DATE' is within the specified range\n",
    "second_week_df = df[(df['SOLD DATE'] >= start_date) & (df['SOLD DATE'] <= end_date)]"
   ]
  },
  {
   "cell_type": "code",
   "execution_count": 8,
   "id": "bec00a4b",
   "metadata": {},
   "outputs": [
    {
     "name": "stdout",
     "output_type": "stream",
     "text": [
      "63\n"
     ]
    }
   ],
   "source": [
    "print(len(second_week_df))"
   ]
  },
  {
   "cell_type": "code",
   "execution_count": 9,
   "id": "1b88d7c2",
   "metadata": {},
   "outputs": [
    {
     "data": {
      "text/plain": [
       "225502.50793650793"
      ]
     },
     "execution_count": 9,
     "metadata": {},
     "output_type": "execute_result"
    }
   ],
   "source": [
    "second_week_df['PRICE'].mean()"
   ]
  },
  {
   "cell_type": "code",
   "execution_count": 10,
   "id": "caef35fa",
   "metadata": {},
   "outputs": [
    {
     "data": {
      "text/plain": [
       "292.1166666666667"
      ]
     },
     "execution_count": 10,
     "metadata": {},
     "output_type": "execute_result"
    }
   ],
   "source": [
    "second_week_df['$/SQUARE FEET'].mean()"
   ]
  },
  {
   "cell_type": "code",
   "execution_count": 11,
   "id": "c7bfe325",
   "metadata": {},
   "outputs": [
    {
     "data": {
      "text/plain": [
       "14206658.0"
      ]
     },
     "execution_count": 11,
     "metadata": {},
     "output_type": "execute_result"
    }
   ],
   "source": [
    "second_week_df['PRICE'].sum()"
   ]
  }
 ],
 "metadata": {
  "kernelspec": {
   "display_name": "Python 3 (ipykernel)",
   "language": "python",
   "name": "python3"
  },
  "language_info": {
   "codemirror_mode": {
    "name": "ipython",
    "version": 3
   },
   "file_extension": ".py",
   "mimetype": "text/x-python",
   "name": "python",
   "nbconvert_exporter": "python",
   "pygments_lexer": "ipython3",
   "version": "3.9.12"
  }
 },
 "nbformat": 4,
 "nbformat_minor": 5
}
