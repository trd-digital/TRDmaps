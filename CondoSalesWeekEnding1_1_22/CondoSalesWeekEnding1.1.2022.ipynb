{
 "cells": [
  {
   "cell_type": "code",
   "execution_count": 3,
   "metadata": {},
   "outputs": [],
   "source": [
    "from geopy.geocoders import GoogleV3\n",
    "import numpy as np\n",
    "import geocoder\n",
    "import json\n",
    "import pandas as pd\n",
    "from geojson import Feature, FeatureCollection, Point\n",
    "import tabula\n",
    "import re"
   ]
  },
  {
   "cell_type": "code",
   "execution_count": 4,
   "metadata": {},
   "outputs": [],
   "source": [
    "# Gotta figure out how to get rid of the java error.\n",
    "# SO: https://stackoverflow.com/questions/54817211/java-command-is-not-found-from-this-python-process-please-ensure-java-is-inst\n",
    "\n",
    "dsf = tabula.read_pdf('condo.pdf', pages='all',lattice=True)"
   ]
  },
  {
   "cell_type": "code",
   "execution_count": 5,
   "metadata": {},
   "outputs": [],
   "source": [
    "df = dsf[0]\n",
    "df.columns = df.iloc[0]\n",
    "df = df.drop(df.index[0])\n",
    "### This next line gets ride of the Nan ###\n",
    "df = df.iloc[: , 1:]\n",
    "df = df.replace(np.nan, 'Not Available', regex=True)\n",
    "df = df.rename(columns={'Building / Address / City': 'building_address_city','Days on\\rMarket':'days_on_market',\\\n",
    "                        'Price /\\rSq. Ft.':'price_per_sqft'})\n",
    "df['geo_address'] = df['building_address_city']\n",
    "df['geo_address'] = df['geo_address'].map(lambda x: re.sub(r'\\r', ' ', x))\n",
    "df = df.replace('\\n',' ',regex=True)\n",
    "df2 = df['geo_address'].str.extract(r'(?P<building_name>\\D*)(?P<address_only>\\d.*)', expand=True)"
   ]
  },
  {
   "cell_type": "markdown",
   "metadata": {},
   "source": [
    "Review this later (it's about how to properly merge DFs): https://pandas.pydata.org/pandas-docs/stable/user_guide/merging.html"
   ]
  },
  {
   "cell_type": "code",
   "execution_count": 6,
   "metadata": {},
   "outputs": [],
   "source": [
    "result = pd.merge(df,df2,left_index=True, right_index=True)\n",
    "df = result"
   ]
  },
  {
   "cell_type": "code",
   "execution_count": 7,
   "metadata": {},
   "outputs": [],
   "source": [
    "%store -r google_maps_API_Key\n",
    "geolocator = GoogleV3(api_key=google_maps_API_Key)"
   ]
  },
  {
   "cell_type": "code",
   "execution_count": 8,
   "metadata": {},
   "outputs": [],
   "source": [
    "df['loc'] = df['address_only'].apply(geolocator.geocode, timeout=10)"
   ]
  },
  {
   "cell_type": "code",
   "execution_count": 9,
   "metadata": {},
   "outputs": [
    {
     "data": {
      "text/plain": [
       "1     (2201 Collins Ave, Miami Beach, FL 33139, USA,...\n",
       "2     (1000 South Pointe Dr, Miami Beach, FL 33139, ...\n",
       "3     (1000 Biscayne Blvd, Miami, FL 33132, USA, (25...\n",
       "4     (1000 Biscayne Blvd, Miami, FL 33132, USA, (25...\n",
       "5     (3535 Hiawatha Ave, Miami, FL 33133, USA, (25....\n",
       "6     (15701 Collins Ave Suite 4401, Sunny Isles Bea...\n",
       "7     (17475 Collins Ave, Sunny Isles Beach, FL 3316...\n",
       "8     (5000 Island Estates Dr, Aventura, FL 33160, U...\n",
       "9     (450 Alton Rd, Miami Beach, FL 33139, USA, (25...\n",
       "10    (1348 SW 22nd Terrace, Miami, FL 33145, USA, (...\n",
       "Name: loc, dtype: object"
      ]
     },
     "execution_count": 9,
     "metadata": {},
     "output_type": "execute_result"
    }
   ],
   "source": [
    "df['loc']"
   ]
  },
  {
   "cell_type": "code",
   "execution_count": 10,
   "metadata": {},
   "outputs": [],
   "source": [
    "df['point'] = df['loc'].apply(lambda loc: tuple(loc.point) if loc else None)"
   ]
  },
  {
   "cell_type": "markdown",
   "metadata": {},
   "source": [
    "Columns must be same length as key explained\n",
    "- https://cumsum.wordpress.com/2021/06/01/pandas-valueerror-columns-must-be-same-length-as-key/\n",
    "\n",
    "Creating `df2` based on `df` row indicies.\n",
    "\n",
    "https://datascience.stackexchange.com/questions/77033/creating-a-new-dataframe-with-specific-row-numbers-from-another\n",
    "\n",
    "What's tripping this error is when the lat/lon/alititude generator is fed a Nan value to parse - it's effectively trying to split a `null` value into three separate parts - which is impossible.\n",
    "\n",
    "The code below effectively caputres the anatomy of this error. It creates a new `df` based on a list of indicies from an existing one. Row `56` has no `point` since the `geocoder` couldn't find coordinates for it. The other three do. Splitting the `point` column fails only when row `56` - with `null` values - is attempted.\n",
    "```\n",
    "df2 = df.iloc[[56,57,58,59],:]\n",
    "df2[['lat','lon','altitude']] = pd.DataFrame(df2['point'].to_list(),index=df2.index)\n",
    "```"
   ]
  },
  {
   "cell_type": "code",
   "execution_count": 12,
   "metadata": {},
   "outputs": [
    {
     "data": {
      "text/plain": [
       "Index(['building_address_city', 'List Date', 'Close Date', 'days_on_market',\n",
       "       'Sale Price', 'Sq. Ft.', 'price_per_sqft', 'Agent', 'Buyer Agent',\n",
       "       'geo_address', 'building_name', 'address_only', 'loc', 'point', 'lat',\n",
       "       'lon', 'altitude'],\n",
       "      dtype='object')"
      ]
     },
     "execution_count": 12,
     "metadata": {},
     "output_type": "execute_result"
    }
   ],
   "source": [
    "df.columns"
   ]
  },
  {
   "cell_type": "code",
   "execution_count": 21,
   "metadata": {},
   "outputs": [],
   "source": [
    "df[['lat','lon','altitude']] = pd.DataFrame(df['point'].to_list(),index=df.index)\n",
    "\n",
    "df.at[1,'Agent']='Eloy Carmenate & Mick Duchon'"
   ]
  },
  {
   "cell_type": "markdown",
   "metadata": {},
   "source": [
    "Folium documentation link: https://python-visualization.github.io/folium/index.html\n",
    "\n",
    "Folium is the library that lets us use leaflet with Python, since it's meant to be used with JavaScript.\n",
    "\n",
    "For adding titles: https://stackoverflow.com/questions/61928013/adding-a-title-or-text-to-a-folium-map"
   ]
  },
  {
   "cell_type": "code",
   "execution_count": 22,
   "metadata": {},
   "outputs": [
    {
     "data": {
      "text/plain": [
       "Index(['building_address_city', 'List Date', 'Close Date', 'days_on_market',\n",
       "       'Sale Price', 'Sq. Ft.', 'price_per_sqft', 'Agent', 'Buyer Agent',\n",
       "       'geo_address', 'building_name', 'address_only', 'loc', 'point', 'lat',\n",
       "       'lon', 'altitude'],\n",
       "      dtype='object')"
      ]
     },
     "execution_count": 22,
     "metadata": {},
     "output_type": "execute_result"
    }
   ],
   "source": [
    "df.columns"
   ]
  },
  {
   "cell_type": "code",
   "execution_count": 23,
   "metadata": {},
   "outputs": [
    {
     "data": {
      "text/plain": [
       "1        W South Beach Residences \n",
       "2             Murano at Portofino \n",
       "3             One Thousand Museum \n",
       "4             One Thousand Museum \n",
       "5     Residences at Vizcaya Condo \n",
       "6        Ritz Carlton Sunny Isles \n",
       "7             Chateau Beach Condo \n",
       "8                     Prive Condo \n",
       "9                Icon South Beach \n",
       "10                East Shenandoah \n",
       "Name: building_name, dtype: object"
      ]
     },
     "execution_count": 23,
     "metadata": {},
     "output_type": "execute_result"
    }
   ],
   "source": [
    "df.building_name"
   ]
  },
  {
   "cell_type": "code",
   "execution_count": 24,
   "metadata": {},
   "outputs": [
    {
     "data": {
      "text/html": [
       "<div style=\"width:100%;\"><div style=\"position:relative;width:100%;height:0;padding-bottom:60%;\"><span style=\"color:#565656\">Make this Notebook Trusted to load map: File -> Trust Notebook</span><iframe src=\"about:blank\" style=\"position:absolute;width:100%;height:100%;left:0;top:0;border:none !important;\" data-html=%3C%21DOCTYPE%20html%3E%0A%3Chead%3E%20%20%20%20%0A%20%20%20%20%3Cmeta%20http-equiv%3D%22content-type%22%20content%3D%22text/html%3B%20charset%3DUTF-8%22%20/%3E%0A%20%20%20%20%0A%20%20%20%20%20%20%20%20%3Cscript%3E%0A%20%20%20%20%20%20%20%20%20%20%20%20L_NO_TOUCH%20%3D%20false%3B%0A%20%20%20%20%20%20%20%20%20%20%20%20L_DISABLE_3D%20%3D%20false%3B%0A%20%20%20%20%20%20%20%20%3C/script%3E%0A%20%20%20%20%0A%20%20%20%20%3Cstyle%3Ehtml%2C%20body%20%7Bwidth%3A%20100%25%3Bheight%3A%20100%25%3Bmargin%3A%200%3Bpadding%3A%200%3B%7D%3C/style%3E%0A%20%20%20%20%3Cstyle%3E%23map%20%7Bposition%3Aabsolute%3Btop%3A0%3Bbottom%3A0%3Bright%3A0%3Bleft%3A0%3B%7D%3C/style%3E%0A%20%20%20%20%3Cscript%20src%3D%22https%3A//cdn.jsdelivr.net/npm/leaflet%401.6.0/dist/leaflet.js%22%3E%3C/script%3E%0A%20%20%20%20%3Cscript%20src%3D%22https%3A//code.jquery.com/jquery-1.12.4.min.js%22%3E%3C/script%3E%0A%20%20%20%20%3Cscript%20src%3D%22https%3A//maxcdn.bootstrapcdn.com/bootstrap/3.2.0/js/bootstrap.min.js%22%3E%3C/script%3E%0A%20%20%20%20%3Cscript%20src%3D%22https%3A//cdnjs.cloudflare.com/ajax/libs/Leaflet.awesome-markers/2.0.2/leaflet.awesome-markers.js%22%3E%3C/script%3E%0A%20%20%20%20%3Clink%20rel%3D%22stylesheet%22%20href%3D%22https%3A//cdn.jsdelivr.net/npm/leaflet%401.6.0/dist/leaflet.css%22/%3E%0A%20%20%20%20%3Clink%20rel%3D%22stylesheet%22%20href%3D%22https%3A//maxcdn.bootstrapcdn.com/bootstrap/3.2.0/css/bootstrap.min.css%22/%3E%0A%20%20%20%20%3Clink%20rel%3D%22stylesheet%22%20href%3D%22https%3A//maxcdn.bootstrapcdn.com/bootstrap/3.2.0/css/bootstrap-theme.min.css%22/%3E%0A%20%20%20%20%3Clink%20rel%3D%22stylesheet%22%20href%3D%22https%3A//maxcdn.bootstrapcdn.com/font-awesome/4.6.3/css/font-awesome.min.css%22/%3E%0A%20%20%20%20%3Clink%20rel%3D%22stylesheet%22%20href%3D%22https%3A//cdnjs.cloudflare.com/ajax/libs/Leaflet.awesome-markers/2.0.2/leaflet.awesome-markers.css%22/%3E%0A%20%20%20%20%3Clink%20rel%3D%22stylesheet%22%20href%3D%22https%3A//cdn.jsdelivr.net/gh/python-visualization/folium/folium/templates/leaflet.awesome.rotate.min.css%22/%3E%0A%20%20%20%20%0A%20%20%20%20%20%20%20%20%20%20%20%20%3Cmeta%20name%3D%22viewport%22%20content%3D%22width%3Ddevice-width%2C%0A%20%20%20%20%20%20%20%20%20%20%20%20%20%20%20%20initial-scale%3D1.0%2C%20maximum-scale%3D1.0%2C%20user-scalable%3Dno%22%20/%3E%0A%20%20%20%20%20%20%20%20%20%20%20%20%3Cstyle%3E%0A%20%20%20%20%20%20%20%20%20%20%20%20%20%20%20%20%23map_d95ccb2217cf46cba811a522256e602f%20%7B%0A%20%20%20%20%20%20%20%20%20%20%20%20%20%20%20%20%20%20%20%20position%3A%20relative%3B%0A%20%20%20%20%20%20%20%20%20%20%20%20%20%20%20%20%20%20%20%20width%3A%20100.0%25%3B%0A%20%20%20%20%20%20%20%20%20%20%20%20%20%20%20%20%20%20%20%20height%3A%20100.0%25%3B%0A%20%20%20%20%20%20%20%20%20%20%20%20%20%20%20%20%20%20%20%20left%3A%200.0%25%3B%0A%20%20%20%20%20%20%20%20%20%20%20%20%20%20%20%20%20%20%20%20top%3A%200.0%25%3B%0A%20%20%20%20%20%20%20%20%20%20%20%20%20%20%20%20%7D%0A%20%20%20%20%20%20%20%20%20%20%20%20%3C/style%3E%0A%20%20%20%20%20%20%20%20%0A%20%20%20%20%3Cscript%20src%3D%22https%3A//cdnjs.cloudflare.com/ajax/libs/leaflet.markercluster/1.1.0/leaflet.markercluster.js%22%3E%3C/script%3E%0A%20%20%20%20%3Clink%20rel%3D%22stylesheet%22%20href%3D%22https%3A//cdnjs.cloudflare.com/ajax/libs/leaflet.markercluster/1.1.0/MarkerCluster.css%22/%3E%0A%20%20%20%20%3Clink%20rel%3D%22stylesheet%22%20href%3D%22https%3A//cdnjs.cloudflare.com/ajax/libs/leaflet.markercluster/1.1.0/MarkerCluster.Default.css%22/%3E%0A%3C/head%3E%0A%3Cbody%3E%20%20%20%20%0A%20%20%20%20%0A%20%20%20%20%20%20%20%20%20%20%20%20%20%20%3Ch3%20align%3D%22center%22%20style%3D%22font-size%3A16px%22%3E%3Cb%3ERecent%20Miami-Dade%20Condo%20Sales%20%3C/b%3E%3C/h3%3E%0A%20%20%20%20%20%20%20%20%20%20%20%20%20%0A%20%20%20%20%0A%20%20%20%20%20%20%20%20%20%20%20%20%20%20%20%20%3Cp%20align%3D%22center%22%20style%3D%22vertical-align%3A%20bottom%3B%20font-size%3A13px%22%3E%3Ci%3EDecember%2026th%20-%20January%201st%3C/i%3E%3C/p%3E%0A%20%20%20%20%20%20%20%20%20%20%20%20%20%20%20%20%0A%20%20%20%20%0A%20%20%20%20%20%20%20%20%20%20%20%20%3Cdiv%20class%3D%22folium-map%22%20id%3D%22map_d95ccb2217cf46cba811a522256e602f%22%20%3E%3C/div%3E%0A%20%20%20%20%20%20%20%20%0A%3C/body%3E%0A%3Cscript%3E%20%20%20%20%0A%20%20%20%20%0A%20%20%20%20%20%20%20%20%20%20%20%20var%20map_d95ccb2217cf46cba811a522256e602f%20%3D%20L.map%28%0A%20%20%20%20%20%20%20%20%20%20%20%20%20%20%20%20%22map_d95ccb2217cf46cba811a522256e602f%22%2C%0A%20%20%20%20%20%20%20%20%20%20%20%20%20%20%20%20%7B%0A%20%20%20%20%20%20%20%20%20%20%20%20%20%20%20%20%20%20%20%20center%3A%20%5B25.820455779999996%2C%20-80.15957512%5D%2C%0A%20%20%20%20%20%20%20%20%20%20%20%20%20%20%20%20%20%20%20%20crs%3A%20L.CRS.EPSG3857%2C%0A%20%20%20%20%20%20%20%20%20%20%20%20%20%20%20%20%20%20%20%20zoom%3A%2011%2C%0A%20%20%20%20%20%20%20%20%20%20%20%20%20%20%20%20%20%20%20%20zoomControl%3A%20true%2C%0A%20%20%20%20%20%20%20%20%20%20%20%20%20%20%20%20%20%20%20%20preferCanvas%3A%20false%2C%0A%20%20%20%20%20%20%20%20%20%20%20%20%20%20%20%20%7D%0A%20%20%20%20%20%20%20%20%20%20%20%20%29%3B%0A%0A%20%20%20%20%20%20%20%20%20%20%20%20%0A%0A%20%20%20%20%20%20%20%20%0A%20%20%20%20%0A%20%20%20%20%20%20%20%20%20%20%20%20var%20tile_layer_040cf70842b04015a73cbc6bf0d08582%20%3D%20L.tileLayer%28%0A%20%20%20%20%20%20%20%20%20%20%20%20%20%20%20%20%22https%3A//%7Bs%7D.tile.openstreetmap.org/%7Bz%7D/%7Bx%7D/%7By%7D.png%22%2C%0A%20%20%20%20%20%20%20%20%20%20%20%20%20%20%20%20%7B%22attribution%22%3A%20%22Data%20by%20%5Cu0026copy%3B%20%5Cu003ca%20href%3D%5C%22http%3A//openstreetmap.org%5C%22%5Cu003eOpenStreetMap%5Cu003c/a%5Cu003e%2C%20under%20%5Cu003ca%20href%3D%5C%22http%3A//www.openstreetmap.org/copyright%5C%22%5Cu003eODbL%5Cu003c/a%5Cu003e.%22%2C%20%22detectRetina%22%3A%20false%2C%20%22maxNativeZoom%22%3A%2018%2C%20%22maxZoom%22%3A%2018%2C%20%22minZoom%22%3A%200%2C%20%22noWrap%22%3A%20false%2C%20%22opacity%22%3A%201%2C%20%22subdomains%22%3A%20%22abc%22%2C%20%22tms%22%3A%20false%7D%0A%20%20%20%20%20%20%20%20%20%20%20%20%29.addTo%28map_d95ccb2217cf46cba811a522256e602f%29%3B%0A%20%20%20%20%20%20%20%20%0A%20%20%20%20%0A%20%20%20%20%20%20%20%20%20%20%20%20var%20marker_cluster_594e37ca51ff47c6a88c202010a9988c%20%3D%20L.markerClusterGroup%28%0A%20%20%20%20%20%20%20%20%20%20%20%20%20%20%20%20%7B%7D%0A%20%20%20%20%20%20%20%20%20%20%20%20%29%3B%0A%20%20%20%20%20%20%20%20%20%20%20%20map_d95ccb2217cf46cba811a522256e602f.addLayer%28marker_cluster_594e37ca51ff47c6a88c202010a9988c%29%3B%0A%20%20%20%20%20%20%20%20%0A%20%20%20%20%0A%20%20%20%20%20%20%20%20%20%20%20%20var%20marker_78ebb4ec58f84614af03926afaa3ef12%20%3D%20L.marker%28%0A%20%20%20%20%20%20%20%20%20%20%20%20%20%20%20%20%5B25.7973813%2C%20-80.1271903%5D%2C%0A%20%20%20%20%20%20%20%20%20%20%20%20%20%20%20%20%7B%7D%0A%20%20%20%20%20%20%20%20%20%20%20%20%29.addTo%28marker_cluster_594e37ca51ff47c6a88c202010a9988c%29%3B%0A%20%20%20%20%20%20%20%20%0A%20%20%20%20%0A%20%20%20%20%20%20%20%20%20%20%20%20marker_78ebb4ec58f84614af03926afaa3ef12.bindTooltip%28%0A%20%20%20%20%20%20%20%20%20%20%20%20%20%20%20%20%60%3Cdiv%3E%0A%20%20%20%20%20%20%20%20%20%20%20%20%20%20%20%20%20%20%20%20%20Building%20Address%3A%20%3Cstrong%3EW%20South%20Beach%20Residences%20%3C/strong%3E%3Cbr%3E%20%20%20%20Sale%20Price%3A%20%3Cstrong%3E%2410%2C300%2C000.00%3C/strong%3E%3Cbr%3EDays%20on%20Market%3A%20%20%20%20%20%3Cstrong%3E25%3C/strong%3E%3Cbr%3EListing%20Agent%3A%20%3Cstrong%3EEloy%20Carmenate%20%26%20Mick%20Duchon%20%20%20%20%20%3C/strong%3E%3Cbr%3EBuying%20Agent%3A%20%3Cstrong%3EJonathan%20Azoulay%3C/strong%3E%3Cbr%3ESquare%20Feet%3A%20%20%20%20%20%3Cstrong%3E4752%3C/strong%3E%3Cbr%3EAddress%3A%20%3Cstrong%3E2201%20Collins%20Ave%20UPH1%20Miami%20Beach%3C/strong%3E%0A%20%20%20%20%20%20%20%20%20%20%20%20%20%20%20%20%20%3C/div%3E%60%2C%0A%20%20%20%20%20%20%20%20%20%20%20%20%20%20%20%20%7B%22sticky%22%3A%20true%7D%0A%20%20%20%20%20%20%20%20%20%20%20%20%29%3B%0A%20%20%20%20%20%20%20%20%0A%20%20%20%20%0A%20%20%20%20%20%20%20%20%20%20%20%20var%20marker_b73eb98ef70c4543b6d87861f01fb789%20%3D%20L.marker%28%0A%20%20%20%20%20%20%20%20%20%20%20%20%20%20%20%20%5B25.7683443%2C%20-80.1373909%5D%2C%0A%20%20%20%20%20%20%20%20%20%20%20%20%20%20%20%20%7B%7D%0A%20%20%20%20%20%20%20%20%20%20%20%20%29.addTo%28marker_cluster_594e37ca51ff47c6a88c202010a9988c%29%3B%0A%20%20%20%20%20%20%20%20%0A%20%20%20%20%0A%20%20%20%20%20%20%20%20%20%20%20%20marker_b73eb98ef70c4543b6d87861f01fb789.bindTooltip%28%0A%20%20%20%20%20%20%20%20%20%20%20%20%20%20%20%20%60%3Cdiv%3E%0A%20%20%20%20%20%20%20%20%20%20%20%20%20%20%20%20%20%20%20%20%20Building%20Address%3A%20%3Cstrong%3EMurano%20at%20Portofino%20%3C/strong%3E%3Cbr%3E%20%20%20%20Sale%20Price%3A%20%3Cstrong%3E%248%2C350%2C000.00%3C/strong%3E%3Cbr%3EDays%20on%20Market%3A%20%20%20%20%20%3Cstrong%3E49%3C/strong%3E%3Cbr%3EListing%20Agent%3A%20%3Cstrong%3EDora%20Puig%20%20%20%20%20%3C/strong%3E%3Cbr%3EBuying%20Agent%3A%20%3Cstrong%3EFrancis%20Hawley%3C/strong%3E%3Cbr%3ESquare%20Feet%3A%20%20%20%20%20%3Cstrong%3E3365%3C/strong%3E%3Cbr%3EAddress%3A%20%3Cstrong%3E1000%20S%20Pointe%20Dr%202001%20Miami%20Beach%3C/strong%3E%0A%20%20%20%20%20%20%20%20%20%20%20%20%20%20%20%20%20%3C/div%3E%60%2C%0A%20%20%20%20%20%20%20%20%20%20%20%20%20%20%20%20%7B%22sticky%22%3A%20true%7D%0A%20%20%20%20%20%20%20%20%20%20%20%20%29%3B%0A%20%20%20%20%20%20%20%20%0A%20%20%20%20%0A%20%20%20%20%20%20%20%20%20%20%20%20var%20marker_5cf5e910364244cf853ec9849f529186%20%3D%20L.marker%28%0A%20%20%20%20%20%20%20%20%20%20%20%20%20%20%20%20%5B25.7841815%2C%20-80.1902008%5D%2C%0A%20%20%20%20%20%20%20%20%20%20%20%20%20%20%20%20%7B%7D%0A%20%20%20%20%20%20%20%20%20%20%20%20%29.addTo%28marker_cluster_594e37ca51ff47c6a88c202010a9988c%29%3B%0A%20%20%20%20%20%20%20%20%0A%20%20%20%20%0A%20%20%20%20%20%20%20%20%20%20%20%20marker_5cf5e910364244cf853ec9849f529186.bindTooltip%28%0A%20%20%20%20%20%20%20%20%20%20%20%20%20%20%20%20%60%3Cdiv%3E%0A%20%20%20%20%20%20%20%20%20%20%20%20%20%20%20%20%20%20%20%20%20Building%20Address%3A%20%3Cstrong%3EOne%20Thousand%20Museum%20%3C/strong%3E%3Cbr%3E%20%20%20%20Sale%20Price%3A%20%3Cstrong%3E%246%2C650%2C000.00%3C/strong%3E%3Cbr%3EDays%20on%20Market%3A%20%20%20%20%20%3Cstrong%3E159%3C/strong%3E%3Cbr%3EListing%20Agent%3A%20%3Cstrong%3EMacarena%20Gomez%20%20%20%20%20%3C/strong%3E%3Cbr%3EBuying%20Agent%3A%20%3Cstrong%3EBrandon%20Perdeck%3C/strong%3E%3Cbr%3ESquare%20Feet%3A%20%20%20%20%20%3Cstrong%3E5507%3C/strong%3E%3Cbr%3EAddress%3A%20%3Cstrong%3E1000%20Biscayne%20Blvd%203002%20Miami%3C/strong%3E%0A%20%20%20%20%20%20%20%20%20%20%20%20%20%20%20%20%20%3C/div%3E%60%2C%0A%20%20%20%20%20%20%20%20%20%20%20%20%20%20%20%20%7B%22sticky%22%3A%20true%7D%0A%20%20%20%20%20%20%20%20%20%20%20%20%29%3B%0A%20%20%20%20%20%20%20%20%0A%20%20%20%20%0A%20%20%20%20%20%20%20%20%20%20%20%20var%20marker_5d173c6ca8b147a396309efbaeb49298%20%3D%20L.marker%28%0A%20%20%20%20%20%20%20%20%20%20%20%20%20%20%20%20%5B25.7841815%2C%20-80.1902008%5D%2C%0A%20%20%20%20%20%20%20%20%20%20%20%20%20%20%20%20%7B%7D%0A%20%20%20%20%20%20%20%20%20%20%20%20%29.addTo%28marker_cluster_594e37ca51ff47c6a88c202010a9988c%29%3B%0A%20%20%20%20%20%20%20%20%0A%20%20%20%20%0A%20%20%20%20%20%20%20%20%20%20%20%20marker_5d173c6ca8b147a396309efbaeb49298.bindTooltip%28%0A%20%20%20%20%20%20%20%20%20%20%20%20%20%20%20%20%60%3Cdiv%3E%0A%20%20%20%20%20%20%20%20%20%20%20%20%20%20%20%20%20%20%20%20%20Building%20Address%3A%20%3Cstrong%3EOne%20Thousand%20Museum%20%3C/strong%3E%3Cbr%3E%20%20%20%20Sale%20Price%3A%20%3Cstrong%3E%246%2C335%2C000.00%3C/strong%3E%3Cbr%3EDays%20on%20Market%3A%20%20%20%20%20%3Cstrong%3E53%3C/strong%3E%3Cbr%3EListing%20Agent%3A%20%3Cstrong%3EAnna%20Sherrill%20%20%20%20%20%3C/strong%3E%3Cbr%3EBuying%20Agent%3A%20%3Cstrong%3EKaren%20Stauber%3C/strong%3E%3Cbr%3ESquare%20Feet%3A%20%20%20%20%20%3Cstrong%3E4600%3C/strong%3E%3Cbr%3EAddress%3A%20%3Cstrong%3E1000%20Biscayne%20Blvd%202902%20Miami%3C/strong%3E%0A%20%20%20%20%20%20%20%20%20%20%20%20%20%20%20%20%20%3C/div%3E%60%2C%0A%20%20%20%20%20%20%20%20%20%20%20%20%20%20%20%20%7B%22sticky%22%3A%20true%7D%0A%20%20%20%20%20%20%20%20%20%20%20%20%29%3B%0A%20%20%20%20%20%20%20%20%0A%20%20%20%20%0A%20%20%20%20%20%20%20%20%20%20%20%20var%20marker_cc4c8f226f754f0a87d83c8c8a16c92e%20%3D%20L.marker%28%0A%20%20%20%20%20%20%20%20%20%20%20%20%20%20%20%20%5B25.739869%2C%20-80.2189729%5D%2C%0A%20%20%20%20%20%20%20%20%20%20%20%20%20%20%20%20%7B%7D%0A%20%20%20%20%20%20%20%20%20%20%20%20%29.addTo%28marker_cluster_594e37ca51ff47c6a88c202010a9988c%29%3B%0A%20%20%20%20%20%20%20%20%0A%20%20%20%20%0A%20%20%20%20%20%20%20%20%20%20%20%20marker_cc4c8f226f754f0a87d83c8c8a16c92e.bindTooltip%28%0A%20%20%20%20%20%20%20%20%20%20%20%20%20%20%20%20%60%3Cdiv%3E%0A%20%20%20%20%20%20%20%20%20%20%20%20%20%20%20%20%20%20%20%20%20Building%20Address%3A%20%3Cstrong%3EResidences%20at%20Vizcaya%20Condo%20%3C/strong%3E%3Cbr%3E%20%20%20%20Sale%20Price%3A%20%3Cstrong%3E%245%2C400%2C000.00%3C/strong%3E%3Cbr%3EDays%20on%20Market%3A%20%20%20%20%20%3Cstrong%3E10%3C/strong%3E%3Cbr%3EListing%20Agent%3A%20%3Cstrong%3EGeraldine%20Pichardo%20%20%20%20%20%3C/strong%3E%3Cbr%3EBuying%20Agent%3A%20%3Cstrong%3EFabian%20Dominguez%3C/strong%3E%3Cbr%3ESquare%20Feet%3A%20%20%20%20%20%3Cstrong%3E4453%3C/strong%3E%3Cbr%3EAddress%3A%20%3Cstrong%3E3535%20Hiawatha%20Ave%20403%20Miami%3C/strong%3E%0A%20%20%20%20%20%20%20%20%20%20%20%20%20%20%20%20%20%3C/div%3E%60%2C%0A%20%20%20%20%20%20%20%20%20%20%20%20%20%20%20%20%7B%22sticky%22%3A%20true%7D%0A%20%20%20%20%20%20%20%20%20%20%20%20%29%3B%0A%20%20%20%20%20%20%20%20%0A%20%20%20%20%0A%20%20%20%20%20%20%20%20%20%20%20%20var%20marker_909799e996d44d8e9a5d4013339da605%20%3D%20L.marker%28%0A%20%20%20%20%20%20%20%20%20%20%20%20%20%20%20%20%5B25.9220815%2C%20-80.1219976%5D%2C%0A%20%20%20%20%20%20%20%20%20%20%20%20%20%20%20%20%7B%7D%0A%20%20%20%20%20%20%20%20%20%20%20%20%29.addTo%28marker_cluster_594e37ca51ff47c6a88c202010a9988c%29%3B%0A%20%20%20%20%20%20%20%20%0A%20%20%20%20%0A%20%20%20%20%20%20%20%20%20%20%20%20marker_909799e996d44d8e9a5d4013339da605.bindTooltip%28%0A%20%20%20%20%20%20%20%20%20%20%20%20%20%20%20%20%60%3Cdiv%3E%0A%20%20%20%20%20%20%20%20%20%20%20%20%20%20%20%20%20%20%20%20%20Building%20Address%3A%20%3Cstrong%3ERitz%20Carlton%20Sunny%20Isles%20%3C/strong%3E%3Cbr%3E%20%20%20%20Sale%20Price%3A%20%3Cstrong%3E%244%2C725%2C000.00%3C/strong%3E%3Cbr%3EDays%20on%20Market%3A%20%20%20%20%20%3Cstrong%3E46%3C/strong%3E%3Cbr%3EListing%20Agent%3A%20%3Cstrong%3ERyan%20Farbstein%20%20%20%20%20%3C/strong%3E%3Cbr%3EBuying%20Agent%3A%20%3Cstrong%3ECatalina%20Vanoy%3C/strong%3E%3Cbr%3ESquare%20Feet%3A%20%20%20%20%20%3Cstrong%3E2475%3C/strong%3E%3Cbr%3EAddress%3A%20%3Cstrong%3E15701%20Collins%20Ave%202802%20Sunny%20Isles%20Beach%3C/strong%3E%0A%20%20%20%20%20%20%20%20%20%20%20%20%20%20%20%20%20%3C/div%3E%60%2C%0A%20%20%20%20%20%20%20%20%20%20%20%20%20%20%20%20%7B%22sticky%22%3A%20true%7D%0A%20%20%20%20%20%20%20%20%20%20%20%20%29%3B%0A%20%20%20%20%20%20%20%20%0A%20%20%20%20%0A%20%20%20%20%20%20%20%20%20%20%20%20var%20marker_aebaaaccd10c4a32b8b7863cd8123d1e%20%3D%20L.marker%28%0A%20%20%20%20%20%20%20%20%20%20%20%20%20%20%20%20%5B25.9378917%2C%20-80.12093329999999%5D%2C%0A%20%20%20%20%20%20%20%20%20%20%20%20%20%20%20%20%7B%7D%0A%20%20%20%20%20%20%20%20%20%20%20%20%29.addTo%28marker_cluster_594e37ca51ff47c6a88c202010a9988c%29%3B%0A%20%20%20%20%20%20%20%20%0A%20%20%20%20%0A%20%20%20%20%20%20%20%20%20%20%20%20marker_aebaaaccd10c4a32b8b7863cd8123d1e.bindTooltip%28%0A%20%20%20%20%20%20%20%20%20%20%20%20%20%20%20%20%60%3Cdiv%3E%0A%20%20%20%20%20%20%20%20%20%20%20%20%20%20%20%20%20%20%20%20%20Building%20Address%3A%20%3Cstrong%3EChateau%20Beach%20Condo%20%3C/strong%3E%3Cbr%3E%20%20%20%20Sale%20Price%3A%20%3Cstrong%3E%244%2C200%2C000.00%3C/strong%3E%3Cbr%3EDays%20on%20Market%3A%20%20%20%20%20%3Cstrong%3E945%3C/strong%3E%3Cbr%3EListing%20Agent%3A%20%3Cstrong%3EVadim%20Yushkevich%20%20%20%20%20%3C/strong%3E%3Cbr%3EBuying%20Agent%3A%20%3Cstrong%3EAdam%20Schwartz%3C/strong%3E%3Cbr%3ESquare%20Feet%3A%20%20%20%20%20%3Cstrong%3E4105%3C/strong%3E%3Cbr%3EAddress%3A%20%3Cstrong%3E17475%20Collins%20Ave%202701%20Sunny%20Isles%20Beach%3C/strong%3E%0A%20%20%20%20%20%20%20%20%20%20%20%20%20%20%20%20%20%3C/div%3E%60%2C%0A%20%20%20%20%20%20%20%20%20%20%20%20%20%20%20%20%7B%22sticky%22%3A%20true%7D%0A%20%20%20%20%20%20%20%20%20%20%20%20%29%3B%0A%20%20%20%20%20%20%20%20%0A%20%20%20%20%0A%20%20%20%20%20%20%20%20%20%20%20%20var%20marker_d761fe3e65fa4546af57fe9219cb4bf5%20%3D%20L.marker%28%0A%20%20%20%20%20%20%20%20%20%20%20%20%20%20%20%20%5B25.9470842%2C%20-80.1306458%5D%2C%0A%20%20%20%20%20%20%20%20%20%20%20%20%20%20%20%20%7B%7D%0A%20%20%20%20%20%20%20%20%20%20%20%20%29.addTo%28marker_cluster_594e37ca51ff47c6a88c202010a9988c%29%3B%0A%20%20%20%20%20%20%20%20%0A%20%20%20%20%0A%20%20%20%20%20%20%20%20%20%20%20%20marker_d761fe3e65fa4546af57fe9219cb4bf5.bindTooltip%28%0A%20%20%20%20%20%20%20%20%20%20%20%20%20%20%20%20%60%3Cdiv%3E%0A%20%20%20%20%20%20%20%20%20%20%20%20%20%20%20%20%20%20%20%20%20Building%20Address%3A%20%3Cstrong%3EPrive%20Condo%20%3C/strong%3E%3Cbr%3E%20%20%20%20Sale%20Price%3A%20%3Cstrong%3E%243%2C550%2C000.00%3C/strong%3E%3Cbr%3EDays%20on%20Market%3A%20%20%20%20%20%3Cstrong%3E594%3C/strong%3E%3Cbr%3EListing%20Agent%3A%20%3Cstrong%3ERichard%20Goihman%20%20%20%20%20%3C/strong%3E%3Cbr%3EBuying%20Agent%3A%20%3Cstrong%3EMarci%20Varca%3C/strong%3E%3Cbr%3ESquare%20Feet%3A%20%20%20%20%20%3Cstrong%3E4517%3C/strong%3E%3Cbr%3EAddress%3A%20%3Cstrong%3E5000%20Island%20Estates%20Dr%20905%20Aventura%3C/strong%3E%0A%20%20%20%20%20%20%20%20%20%20%20%20%20%20%20%20%20%3C/div%3E%60%2C%0A%20%20%20%20%20%20%20%20%20%20%20%20%20%20%20%20%7B%22sticky%22%3A%20true%7D%0A%20%20%20%20%20%20%20%20%20%20%20%20%29%3B%0A%20%20%20%20%20%20%20%20%0A%20%20%20%20%0A%20%20%20%20%20%20%20%20%20%20%20%20var%20marker_5383913e5d324986bed293aa5c6d6fca%20%3D%20L.marker%28%0A%20%20%20%20%20%20%20%20%20%20%20%20%20%20%20%20%5B25.7735347%2C%20-80.14088799999999%5D%2C%0A%20%20%20%20%20%20%20%20%20%20%20%20%20%20%20%20%7B%7D%0A%20%20%20%20%20%20%20%20%20%20%20%20%29.addTo%28marker_cluster_594e37ca51ff47c6a88c202010a9988c%29%3B%0A%20%20%20%20%20%20%20%20%0A%20%20%20%20%0A%20%20%20%20%20%20%20%20%20%20%20%20marker_5383913e5d324986bed293aa5c6d6fca.bindTooltip%28%0A%20%20%20%20%20%20%20%20%20%20%20%20%20%20%20%20%60%3Cdiv%3E%0A%20%20%20%20%20%20%20%20%20%20%20%20%20%20%20%20%20%20%20%20%20Building%20Address%3A%20%3Cstrong%3EIcon%20South%20Beach%20%3C/strong%3E%3Cbr%3E%20%20%20%20Sale%20Price%3A%20%3Cstrong%3E%243%2C335%2C000.00%3C/strong%3E%3Cbr%3EDays%20on%20Market%3A%20%20%20%20%20%3Cstrong%3E11%3C/strong%3E%3Cbr%3EListing%20Agent%3A%20%3Cstrong%3ENancy%20Batchelor%20PA%20%20%20%20%20%3C/strong%3E%3Cbr%3EBuying%20Agent%3A%20%3Cstrong%3EAnna%20Sherrill%3C/strong%3E%3Cbr%3ESquare%20Feet%3A%20%20%20%20%20%3Cstrong%3E2145%3C/strong%3E%3Cbr%3EAddress%3A%20%3Cstrong%3E450%20Alton%20Rd%201501%20Miami%20Beach%3C/strong%3E%0A%20%20%20%20%20%20%20%20%20%20%20%20%20%20%20%20%20%3C/div%3E%60%2C%0A%20%20%20%20%20%20%20%20%20%20%20%20%20%20%20%20%7B%22sticky%22%3A%20true%7D%0A%20%20%20%20%20%20%20%20%20%20%20%20%29%3B%0A%20%20%20%20%20%20%20%20%0A%20%20%20%20%0A%20%20%20%20%20%20%20%20%20%20%20%20var%20marker_8a9c3b3e64504e36be6af8afc47117ae%20%3D%20L.marker%28%0A%20%20%20%20%20%20%20%20%20%20%20%20%20%20%20%20%5B25.7500081%2C%20-80.2173308%5D%2C%0A%20%20%20%20%20%20%20%20%20%20%20%20%20%20%20%20%7B%7D%0A%20%20%20%20%20%20%20%20%20%20%20%20%29.addTo%28marker_cluster_594e37ca51ff47c6a88c202010a9988c%29%3B%0A%20%20%20%20%20%20%20%20%0A%20%20%20%20%0A%20%20%20%20%20%20%20%20%20%20%20%20marker_8a9c3b3e64504e36be6af8afc47117ae.bindTooltip%28%0A%20%20%20%20%20%20%20%20%20%20%20%20%20%20%20%20%60%3Cdiv%3E%0A%20%20%20%20%20%20%20%20%20%20%20%20%20%20%20%20%20%20%20%20%20Building%20Address%3A%20%3Cstrong%3EEast%20Shenandoah%20%3C/strong%3E%3Cbr%3E%20%20%20%20Sale%20Price%3A%20%3Cstrong%3E%243%2C157%2C614.00%3C/strong%3E%3Cbr%3EDays%20on%20Market%3A%20%20%20%20%20%3Cstrong%3E99%3C/strong%3E%3Cbr%3EListing%20Agent%3A%20%3Cstrong%3EJulian%20Johnston%20%20%20%20%20%3C/strong%3E%3Cbr%3EBuying%20Agent%3A%20%3Cstrong%3EMichelle%20Halfon%3C/strong%3E%3Cbr%3ESquare%20Feet%3A%20%20%20%20%20%3Cstrong%3E3246%3C/strong%3E%3Cbr%3EAddress%3A%20%3Cstrong%3E1348%20SW%2022%20Ter%201348%20Miami%3C/strong%3E%0A%20%20%20%20%20%20%20%20%20%20%20%20%20%20%20%20%20%3C/div%3E%60%2C%0A%20%20%20%20%20%20%20%20%20%20%20%20%20%20%20%20%7B%22sticky%22%3A%20true%7D%0A%20%20%20%20%20%20%20%20%20%20%20%20%29%3B%0A%20%20%20%20%20%20%20%20%0A%3C/script%3E onload=\"this.contentDocument.open();this.contentDocument.write(    decodeURIComponent(this.getAttribute('data-html')));this.contentDocument.close();\" allowfullscreen webkitallowfullscreen mozallowfullscreen></iframe></div></div>"
      ],
      "text/plain": [
       "<folium.folium.Map at 0x2294c067a00>"
      ]
     },
     "execution_count": 24,
     "metadata": {},
     "output_type": "execute_result"
    }
   ],
   "source": [
    "import folium\n",
    "from folium.plugins import MarkerCluster\n",
    "\n",
    "m = folium.Map(location=df[[\"lat\", \"lon\"]].mean().to_list(), zoom_start=11)\n",
    "title_html = '''\n",
    "              <h3 align=\"center\" style=\"font-size:16px\"><b>{}</b></h3>\n",
    "             '''.format(f'Recent Miami-Dade Condo Sales ')\n",
    "\n",
    "caption_html = '''\n",
    "                <p align=\"center\" style=\"vertical-align: bottom; font-size:13px\"><i>{}</i></p>\n",
    "                '''.format('December 26th - January 1st')\n",
    "\n",
    "marker_cluster = MarkerCluster().add_to(m)\n",
    "\n",
    "for i,r in df.iterrows():\n",
    "    location = (r[\"lat\"], r[\"lon\"])\n",
    "    info = (r[\"Sale Price\"], r[\"days_on_market\"], r[\"Agent\"], r['Buyer Agent'], r['Sq. Ft.'], r['address_only'], r['building_name'])\n",
    "    info = list(info)\n",
    "    new_line = '<br>'\n",
    "    bold_start = '<strong>'\n",
    "    bold_end = '</strong>'\n",
    "    text = f'Building Address: {bold_start}{info[-1]}{bold_end}{new_line}\\\n",
    "    Sale Price: {bold_start}{info[0]}{bold_end}{new_line}Days on Market: \\\n",
    "    {bold_start}{info[1]}{bold_end}{new_line}Listing Agent: {bold_start}{info[2]} \\\n",
    "    {bold_end}{new_line}Buying Agent: {bold_start}{info[3]}{bold_end}{new_line}Square Feet: \\\n",
    "    {bold_start}{info[4]}{bold_end}{new_line}Address: {bold_start}{info[5]}{bold_end}'\n",
    "    folium.Marker(location=location,\n",
    "                      tooltip=text)\\\n",
    "    .add_to(marker_cluster)\n",
    "\n",
    "m.get_root().html.add_child(folium.Element(title_html))\n",
    "m.get_root().html.add_child(folium.Element(caption_html))\n",
    "\n",
    "m"
   ]
  },
  {
   "cell_type": "code",
   "execution_count": 25,
   "metadata": {},
   "outputs": [],
   "source": [
    "m.save('index.html')"
   ]
  },
  {
   "cell_type": "code",
   "execution_count": null,
   "metadata": {},
   "outputs": [],
   "source": []
  }
 ],
 "metadata": {
  "kernelspec": {
   "display_name": "Python 3",
   "language": "python",
   "name": "python3"
  },
  "language_info": {
   "codemirror_mode": {
    "name": "ipython",
    "version": 3
   },
   "file_extension": ".py",
   "mimetype": "text/x-python",
   "name": "python",
   "nbconvert_exporter": "python",
   "pygments_lexer": "ipython3",
   "version": "3.8.6"
  },
  "toc": {
   "base_numbering": 1,
   "nav_menu": {},
   "number_sections": true,
   "sideBar": true,
   "skip_h1_title": false,
   "title_cell": "Table of Contents",
   "title_sidebar": "Contents",
   "toc_cell": false,
   "toc_position": {},
   "toc_section_display": true,
   "toc_window_display": false
  }
 },
 "nbformat": 4,
 "nbformat_minor": 4
}
