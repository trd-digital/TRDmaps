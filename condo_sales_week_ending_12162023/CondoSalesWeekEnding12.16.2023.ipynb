{
 "cells": [
  {
   "cell_type": "markdown",
   "metadata": {},
   "source": [
    "## Imports"
   ]
  },
  {
   "cell_type": "code",
   "execution_count": 1,
   "metadata": {},
   "outputs": [],
   "source": [
    "import googlemaps\n",
    "import pandas as pd\n",
    "import numpy as np\n",
    "import re\n",
    "import os\n",
    "import geopandas as gpd\n",
    "import folium\n",
    "import tabula"
   ]
  },
  {
   "cell_type": "markdown",
   "metadata": {},
   "source": [
    "## Read-in"
   ]
  },
  {
   "cell_type": "code",
   "execution_count": 2,
   "metadata": {},
   "outputs": [],
   "source": [
    "# Gotta figure out how to get rid of the java error.\n",
    "# SO: https://stackoverflow.com/questions/54817211/java-command-is-not-found-from-this-python-process-please-ensure-java-is-inst\n",
    "\n",
    "dsf = tabula.read_pdf('condo.pdf', pages='all')"
   ]
  },
  {
   "cell_type": "markdown",
   "metadata": {},
   "source": [
    "## Clean Data"
   ]
  },
  {
   "cell_type": "code",
   "execution_count": 3,
   "metadata": {},
   "outputs": [],
   "source": [
    "df = dsf[0]\n",
    "df.columns = df.iloc[0]\n",
    "df = df[1:]\n",
    "df = df.drop(columns=df.columns[0])\n",
    "df = df.replace(np.nan, 'Not Available', regex=True)\n",
    "df = df.rename(columns={'Building / Address / City': 'building_address_city','Days on\\rMarket':'days_on_market',\\\n",
    "                        'Price /\\rSq. Ft.':'price_per_sqft'})\n",
    "df['building_address_city'] = df['building_address_city'].str.replace('^0', '', regex=True)\n",
    "df['geo_address'] = df['building_address_city']\n",
    "df['geo_address'] = df['geo_address'].map(lambda x: re.sub(r'\\r', ' ', x))\n",
    "df = df.replace('\\n',' ',regex=True)\n",
    "pattern = r'^(?P<building_name>[\\d\\s]*[A-Za-z\\s]+)\\s(?P<address>.+)\\s(?P<city>[A-Za-z\\s]+)$'\n",
    "df2 = df['geo_address']\n",
    "df2 = df2.to_frame()\n",
    "df2[['building_name', 'address', 'city']] = df2['geo_address'].str.extract(pattern, expand=True)"
   ]
  },
  {
   "cell_type": "markdown",
   "metadata": {},
   "source": [
    "Review this later (it's about how to properly merge DFs): https://pandas.pydata.org/pandas-docs/stable/user_guide/merging.html"
   ]
  },
  {
   "cell_type": "markdown",
   "metadata": {},
   "source": [
    "## Geocode"
   ]
  },
  {
   "cell_type": "code",
   "execution_count": 4,
   "metadata": {},
   "outputs": [],
   "source": [
    "result = pd.merge(df,df2,left_index=True, right_index=True)\n",
    "df = result\n",
    "df = df.drop(columns='city')"
   ]
  },
  {
   "cell_type": "code",
   "execution_count": 5,
   "metadata": {},
   "outputs": [],
   "source": [
    "%store -r google_maps_API_Key\n",
    "gmaps_key = googlemaps.Client(key=google_maps_API_Key)"
   ]
  },
  {
   "cell_type": "code",
   "execution_count": 6,
   "metadata": {},
   "outputs": [],
   "source": [
    "def geocode(add):\n",
    "    g = gmaps_key.geocode(add)\n",
    "    lat = g[0][\"geometry\"][\"location\"][\"lat\"]\n",
    "    lng = g[0][\"geometry\"][\"location\"][\"lng\"]\n",
    "    return (lat, lng)\n",
    "\n",
    "df['geocoded'] = df['geo_address_x'].apply(geocode)"
   ]
  },
  {
   "cell_type": "code",
   "execution_count": 7,
   "metadata": {},
   "outputs": [],
   "source": [
    "df['geocoded'] = df['geocoded'].astype(str)\n",
    "df[['lat', 'lon']] = df['geocoded'].str.strip('()').str.split(', ', expand=True)\n",
    "df['lat'] = df['lat'].astype(float)\n",
    "df['lon'] = df['lon'].astype(float)"
   ]
  },
  {
   "cell_type": "markdown",
   "metadata": {},
   "source": [
    "Folium documentation link: https://python-visualization.github.io/folium/index.html\n",
    "\n",
    "Folium is the library that lets us use leaflet with Python, since it's meant to be used with JavaScript.\n",
    "\n",
    "For adding titles: https://stackoverflow.com/questions/61928013/adding-a-title-or-text-to-a-folium-map"
   ]
  },
  {
   "cell_type": "markdown",
   "metadata": {},
   "source": [
    "## Correction section"
   ]
  },
  {
   "cell_type": "code",
   "execution_count": 8,
   "metadata": {},
   "outputs": [],
   "source": [
    "# df.at[index#,'col_name']"
   ]
  },
  {
   "cell_type": "markdown",
   "metadata": {},
   "source": [
    "## Format Data"
   ]
  },
  {
   "cell_type": "code",
   "execution_count": 9,
   "metadata": {},
   "outputs": [],
   "source": [
    "### Insert NaNs if needed ###\n",
    "df = df.replace('N/A', np.nan)"
   ]
  },
  {
   "cell_type": "code",
   "execution_count": 10,
   "metadata": {},
   "outputs": [],
   "source": [
    "df['int_Sale_Price'] = df['Sale Price'].str.replace('$','',regex=False)"
   ]
  },
  {
   "cell_type": "code",
   "execution_count": 11,
   "metadata": {},
   "outputs": [],
   "source": [
    "df['int_Sale_Price'] = df['int_Sale_Price'].str.replace(',','',regex=False)"
   ]
  },
  {
   "cell_type": "code",
   "execution_count": 12,
   "metadata": {},
   "outputs": [],
   "source": [
    "df['int_Sale_Price'] = pd.to_numeric(df['int_Sale_Price'])"
   ]
  },
  {
   "cell_type": "code",
   "execution_count": 13,
   "metadata": {},
   "outputs": [],
   "source": [
    "df['price_per_sqft'] = df['price_per_sqft'].str.replace('$','',regex=False)\n",
    "df['price_per_sqft'] = df['price_per_sqft'].str.replace(',','',regex=False)\n",
    "df['price_per_sqft'] = pd.to_numeric(df['price_per_sqft'])\n",
    "\n",
    "df['days_on_market'] = pd.to_numeric(df['days_on_market'])"
   ]
  },
  {
   "cell_type": "markdown",
   "metadata": {},
   "source": [
    "## Color-code top sale"
   ]
  },
  {
   "cell_type": "code",
   "execution_count": 14,
   "metadata": {},
   "outputs": [],
   "source": [
    "### Insert RANK values ###\n",
    "df['RANK'] = range(1, len(df) + 1)\n",
    "# use numpy to assign values to the 'COLOR' column\n",
    "df['COLOR'] = np.where(df['RANK'] <= 1, 'orange', 'blue')"
   ]
  },
  {
   "cell_type": "markdown",
   "metadata": {},
   "source": [
    "## HTML Popup Formatter"
   ]
  },
  {
   "cell_type": "code",
   "execution_count": 15,
   "metadata": {},
   "outputs": [
    {
     "data": {
      "text/plain": [
       "Index(['building_address_city', 'Close Date', 'days_on_market', 'Sale Price',\n",
       "       'Sq. Ft.', 'price_per_sqft', 'Agent', 'Listing Broker', 'Buyer Agent',\n",
       "       'Buyer Broker', 'geo_address_x', 'geo_address_y', 'building_name',\n",
       "       'address', 'geocoded', 'lat', 'lon', 'int_Sale_Price', 'RANK', 'COLOR'],\n",
       "      dtype='object')"
      ]
     },
     "execution_count": 15,
     "metadata": {},
     "output_type": "execute_result"
    }
   ],
   "source": [
    "df.columns"
   ]
  },
  {
   "cell_type": "code",
   "execution_count": 16,
   "metadata": {},
   "outputs": [],
   "source": [
    "def popup_html(row):\n",
    "    building_name = row['building_name']\n",
    "    price = row['Sale Price']\n",
    "    days_on_market = row['days_on_market']\n",
    "    listing_agent = row['Agent']\n",
    "    buyers_agent = row['Buyer Agent']\n",
    "    psf = row['price_per_sqft']\n",
    "    address = row['address']\n",
    "    \n",
    "    html = '''<!DOCTYPE html>\n",
    "    <html>\n",
    "    <strong>Building Name: </strong>{}'''.format(building_name) + '''<br>\n",
    "    <strong>Sale Price: </strong>{}'''.format(price) + '''<br>\n",
    "    <strong>Days on Market: </strong>{}'''.format(days_on_market) + '''<br>\n",
    "    <strong>Listing Agent: </strong>{}'''.format(listing_agent) + '''<br>\n",
    "    <strong>Buyer's Agent: </strong>{}'''.format(buyers_agent) + '''<br>\n",
    "    <strong>Price sq ft: </strong>${}'''.format(psf) + '''<br>\n",
    "    <strong>Address: </strong>{}'''.format(address) + '''<br>\n",
    "    </html>\n",
    "    '''\n",
    "    return html"
   ]
  },
  {
   "cell_type": "code",
   "execution_count": 17,
   "metadata": {},
   "outputs": [
    {
     "data": {
      "text/html": [
       "<div style=\"width:100%;\"><div style=\"position:relative;width:100%;height:0;padding-bottom:60%;\"><span style=\"color:#565656\">Make this Notebook Trusted to load map: File -> Trust Notebook</span><iframe srcdoc=\"&lt;!DOCTYPE html&gt;\n",
       "&lt;head&gt;    \n",
       "    &lt;meta http-equiv=&quot;content-type&quot; content=&quot;text/html; charset=UTF-8&quot; /&gt;\n",
       "    \n",
       "        &lt;script&gt;\n",
       "            L_NO_TOUCH = false;\n",
       "            L_DISABLE_3D = false;\n",
       "        &lt;/script&gt;\n",
       "    \n",
       "    &lt;style&gt;html, body {width: 100%;height: 100%;margin: 0;padding: 0;}&lt;/style&gt;\n",
       "    &lt;style&gt;#map {position:absolute;top:0;bottom:0;right:0;left:0;}&lt;/style&gt;\n",
       "    &lt;script src=&quot;https://cdn.jsdelivr.net/npm/leaflet@1.6.0/dist/leaflet.js&quot;&gt;&lt;/script&gt;\n",
       "    &lt;script src=&quot;https://code.jquery.com/jquery-1.12.4.min.js&quot;&gt;&lt;/script&gt;\n",
       "    &lt;script src=&quot;https://maxcdn.bootstrapcdn.com/bootstrap/3.2.0/js/bootstrap.min.js&quot;&gt;&lt;/script&gt;\n",
       "    &lt;script src=&quot;https://cdnjs.cloudflare.com/ajax/libs/Leaflet.awesome-markers/2.0.2/leaflet.awesome-markers.js&quot;&gt;&lt;/script&gt;\n",
       "    &lt;link rel=&quot;stylesheet&quot; href=&quot;https://cdn.jsdelivr.net/npm/leaflet@1.6.0/dist/leaflet.css&quot;/&gt;\n",
       "    &lt;link rel=&quot;stylesheet&quot; href=&quot;https://maxcdn.bootstrapcdn.com/bootstrap/3.2.0/css/bootstrap.min.css&quot;/&gt;\n",
       "    &lt;link rel=&quot;stylesheet&quot; href=&quot;https://maxcdn.bootstrapcdn.com/bootstrap/3.2.0/css/bootstrap-theme.min.css&quot;/&gt;\n",
       "    &lt;link rel=&quot;stylesheet&quot; href=&quot;https://maxcdn.bootstrapcdn.com/font-awesome/4.6.3/css/font-awesome.min.css&quot;/&gt;\n",
       "    &lt;link rel=&quot;stylesheet&quot; href=&quot;https://cdnjs.cloudflare.com/ajax/libs/Leaflet.awesome-markers/2.0.2/leaflet.awesome-markers.css&quot;/&gt;\n",
       "    &lt;link rel=&quot;stylesheet&quot; href=&quot;https://cdn.jsdelivr.net/gh/python-visualization/folium/folium/templates/leaflet.awesome.rotate.min.css&quot;/&gt;\n",
       "    \n",
       "            &lt;meta name=&quot;viewport&quot; content=&quot;width=device-width,\n",
       "                initial-scale=1.0, maximum-scale=1.0, user-scalable=no&quot; /&gt;\n",
       "            &lt;style&gt;\n",
       "                #map_01a4b910205ed3ed09005da8a82b5aa0 {\n",
       "                    position: relative;\n",
       "                    width: 100.0%;\n",
       "                    height: 100.0%;\n",
       "                    left: 0.0%;\n",
       "                    top: 0.0%;\n",
       "                }\n",
       "            &lt;/style&gt;\n",
       "        \n",
       "&lt;/head&gt;\n",
       "&lt;body&gt;    \n",
       "    \n",
       "              &lt;h3 align=&quot;center&quot; style=&quot;font-size:16px&quot;&gt;&lt;b&gt;Recent Miami-Dade Condo Sales &lt;/b&gt;&lt;/h3&gt;\n",
       "             \n",
       "    \n",
       "                &lt;p align=&quot;center&quot; style=&quot;vertical-align: bottom; font-size:13px&quot;&gt;&lt;i&gt;November 26th - December 2nd&lt;/i&gt;&lt;/p&gt;\n",
       "                \n",
       "    \n",
       "            &lt;div class=&quot;folium-map&quot; id=&quot;map_01a4b910205ed3ed09005da8a82b5aa0&quot; &gt;&lt;/div&gt;\n",
       "        \n",
       "&lt;/body&gt;\n",
       "&lt;script&gt;    \n",
       "    \n",
       "            var map_01a4b910205ed3ed09005da8a82b5aa0 = L.map(\n",
       "                &quot;map_01a4b910205ed3ed09005da8a82b5aa0&quot;,\n",
       "                {\n",
       "                    center: [25.84423076, -80.16570861],\n",
       "                    crs: L.CRS.EPSG3857,\n",
       "                    zoom: 9.5,\n",
       "                    zoomControl: true,\n",
       "                    preferCanvas: false,\n",
       "                }\n",
       "            );\n",
       "\n",
       "            \n",
       "\n",
       "        \n",
       "    \n",
       "            var feature_group_02b30580cb6b302740a07a3749f10113 = L.featureGroup(\n",
       "                {}\n",
       "            ).addTo(map_01a4b910205ed3ed09005da8a82b5aa0);\n",
       "        \n",
       "    \n",
       "            var marker_eb90aa5bec132497abd205b08fa87999 = L.marker(\n",
       "                [25.8888332, -80.1225323],\n",
       "                {&quot;fill&quot;: true, &quot;radius&quot;: 5}\n",
       "            ).addTo(feature_group_02b30580cb6b302740a07a3749f10113);\n",
       "        \n",
       "    \n",
       "            var icon_9516ef88bb230c718b1a75b90e2fa693 = L.AwesomeMarkers.icon(\n",
       "                {&quot;extraClasses&quot;: &quot;fa-rotate-0&quot;, &quot;icon&quot;: &quot;info-sign&quot;, &quot;iconColor&quot;: &quot;white&quot;, &quot;markerColor&quot;: &quot;orange&quot;, &quot;prefix&quot;: &quot;glyphicon&quot;}\n",
       "            );\n",
       "            marker_eb90aa5bec132497abd205b08fa87999.setIcon(icon_9516ef88bb230c718b1a75b90e2fa693);\n",
       "        \n",
       "    \n",
       "        var popup_2fcfdc22617e5f63e13c3bfcc4ceaa5b = L.popup({&quot;maxWidth&quot;: 400});\n",
       "\n",
       "        \n",
       "            \n",
       "                var html_d6f8c0f5e5d02edaa27a709cda50de9a = $(`&lt;div id=&quot;html_d6f8c0f5e5d02edaa27a709cda50de9a&quot; style=&quot;width: 100.0%; height: 100.0%;&quot;&gt;&lt;!DOCTYPE html&gt;     &lt;html&gt;     &lt;strong&gt;Building Name: &lt;/strong&gt;nan&lt;br&gt;     &lt;strong&gt;Sale Price: &lt;/strong&gt;$4,300,000.00&lt;br&gt;     &lt;strong&gt;Days on Market: &lt;/strong&gt;42&lt;br&gt;     &lt;strong&gt;Listing Agent: &lt;/strong&gt;Darin Tansey&lt;br&gt;     &lt;strong&gt;Buyer&#x27;s Agent: &lt;/strong&gt;Matias Alem&lt;br&gt;     &lt;strong&gt;Price sq ft: &lt;/strong&gt;$2025.44&lt;br&gt;     &lt;strong&gt;Address: &lt;/strong&gt;nan&lt;br&gt;     &lt;/html&gt;     &lt;/div&gt;`)[0];\n",
       "                popup_2fcfdc22617e5f63e13c3bfcc4ceaa5b.setContent(html_d6f8c0f5e5d02edaa27a709cda50de9a);\n",
       "            \n",
       "        \n",
       "\n",
       "        marker_eb90aa5bec132497abd205b08fa87999.bindPopup(popup_2fcfdc22617e5f63e13c3bfcc4ceaa5b)\n",
       "        ;\n",
       "\n",
       "        \n",
       "    \n",
       "    \n",
       "            var feature_group_d7173d41d3926627350d7da7638f1d88 = L.featureGroup(\n",
       "                {}\n",
       "            ).addTo(map_01a4b910205ed3ed09005da8a82b5aa0);\n",
       "        \n",
       "    \n",
       "            var marker_6a79ff2e349e9e430dae0c2636e591f8 = L.marker(\n",
       "                [25.951464, -80.133588],\n",
       "                {&quot;fill&quot;: true, &quot;radius&quot;: 5}\n",
       "            ).addTo(feature_group_d7173d41d3926627350d7da7638f1d88);\n",
       "        \n",
       "    \n",
       "            var icon_ba550ff732c288456e5e6792109b25db = L.AwesomeMarkers.icon(\n",
       "                {&quot;extraClasses&quot;: &quot;fa-rotate-0&quot;, &quot;icon&quot;: &quot;info-sign&quot;, &quot;iconColor&quot;: &quot;white&quot;, &quot;markerColor&quot;: &quot;blue&quot;, &quot;prefix&quot;: &quot;glyphicon&quot;}\n",
       "            );\n",
       "            marker_6a79ff2e349e9e430dae0c2636e591f8.setIcon(icon_ba550ff732c288456e5e6792109b25db);\n",
       "        \n",
       "    \n",
       "        var popup_7011149b817287db41ad1fa68cca6638 = L.popup({&quot;maxWidth&quot;: 400});\n",
       "\n",
       "        \n",
       "            \n",
       "                var html_03941b2d52e191a9b79a920d75c6a89c = $(`&lt;div id=&quot;html_03941b2d52e191a9b79a920d75c6a89c&quot; style=&quot;width: 100.0%; height: 100.0%;&quot;&gt;&lt;!DOCTYPE html&gt;     &lt;html&gt;     &lt;strong&gt;Building Name: &lt;/strong&gt;Hidden Bay&lt;br&gt;     &lt;strong&gt;Sale Price: &lt;/strong&gt;$3,500,000.00&lt;br&gt;     &lt;strong&gt;Days on Market: &lt;/strong&gt;212&lt;br&gt;     &lt;strong&gt;Listing Agent: &lt;/strong&gt;Denise Rubin&lt;br&gt;     &lt;strong&gt;Buyer&#x27;s Agent: &lt;/strong&gt;Denise Rubin&lt;br&gt;     &lt;strong&gt;Price sq ft: &lt;/strong&gt;$857.84&lt;br&gt;     &lt;strong&gt;Address: &lt;/strong&gt;3370 Hidden Bay Dr 3313&lt;br&gt;     &lt;/html&gt;     &lt;/div&gt;`)[0];\n",
       "                popup_7011149b817287db41ad1fa68cca6638.setContent(html_03941b2d52e191a9b79a920d75c6a89c);\n",
       "            \n",
       "        \n",
       "\n",
       "        marker_6a79ff2e349e9e430dae0c2636e591f8.bindPopup(popup_7011149b817287db41ad1fa68cca6638)\n",
       "        ;\n",
       "\n",
       "        \n",
       "    \n",
       "    \n",
       "            var marker_4d007ed5ecc7e1bb925791a57299804f = L.marker(\n",
       "                [25.6927596, -80.15979569999999],\n",
       "                {&quot;fill&quot;: true, &quot;radius&quot;: 5}\n",
       "            ).addTo(feature_group_d7173d41d3926627350d7da7638f1d88);\n",
       "        \n",
       "    \n",
       "            var icon_50f44cf8ccf6c7b2577280fe314d26fd = L.AwesomeMarkers.icon(\n",
       "                {&quot;extraClasses&quot;: &quot;fa-rotate-0&quot;, &quot;icon&quot;: &quot;info-sign&quot;, &quot;iconColor&quot;: &quot;white&quot;, &quot;markerColor&quot;: &quot;blue&quot;, &quot;prefix&quot;: &quot;glyphicon&quot;}\n",
       "            );\n",
       "            marker_4d007ed5ecc7e1bb925791a57299804f.setIcon(icon_50f44cf8ccf6c7b2577280fe314d26fd);\n",
       "        \n",
       "    \n",
       "        var popup_7cdb8a4127278f85f325304d1deaf629 = L.popup({&quot;maxWidth&quot;: 400});\n",
       "\n",
       "        \n",
       "            \n",
       "                var html_c72bb1e6a1d2ea9f7ad57c55058675f4 = $(`&lt;div id=&quot;html_c72bb1e6a1d2ea9f7ad57c55058675f4&quot; style=&quot;width: 100.0%; height: 100.0%;&quot;&gt;&lt;!DOCTYPE html&gt;     &lt;html&gt;     &lt;strong&gt;Building Name: &lt;/strong&gt;Grand Bay&lt;br&gt;     &lt;strong&gt;Sale Price: &lt;/strong&gt;$3,100,000.00&lt;br&gt;     &lt;strong&gt;Days on Market: &lt;/strong&gt;129&lt;br&gt;     &lt;strong&gt;Listing Agent: &lt;/strong&gt;Alfredo Ferro&lt;br&gt;     &lt;strong&gt;Buyer&#x27;s Agent: &lt;/strong&gt;Frank DeValdivielso Jr.&lt;br&gt;     &lt;strong&gt;Price sq ft: &lt;/strong&gt;$953.85&lt;br&gt;     &lt;strong&gt;Address: &lt;/strong&gt;445 Grand Bay Dr 104 Key&lt;br&gt;     &lt;/html&gt;     &lt;/div&gt;`)[0];\n",
       "                popup_7cdb8a4127278f85f325304d1deaf629.setContent(html_c72bb1e6a1d2ea9f7ad57c55058675f4);\n",
       "            \n",
       "        \n",
       "\n",
       "        marker_4d007ed5ecc7e1bb925791a57299804f.bindPopup(popup_7cdb8a4127278f85f325304d1deaf629)\n",
       "        ;\n",
       "\n",
       "        \n",
       "    \n",
       "    \n",
       "            var marker_8e01613bee2bcebc653a45df176b8763 = L.marker(\n",
       "                [25.7990967, -80.18572309999999],\n",
       "                {&quot;fill&quot;: true, &quot;radius&quot;: 5}\n",
       "            ).addTo(feature_group_d7173d41d3926627350d7da7638f1d88);\n",
       "        \n",
       "    \n",
       "            var icon_917cd0be4b76f172e66e255974572c26 = L.AwesomeMarkers.icon(\n",
       "                {&quot;extraClasses&quot;: &quot;fa-rotate-0&quot;, &quot;icon&quot;: &quot;info-sign&quot;, &quot;iconColor&quot;: &quot;white&quot;, &quot;markerColor&quot;: &quot;blue&quot;, &quot;prefix&quot;: &quot;glyphicon&quot;}\n",
       "            );\n",
       "            marker_8e01613bee2bcebc653a45df176b8763.setIcon(icon_917cd0be4b76f172e66e255974572c26);\n",
       "        \n",
       "    \n",
       "        var popup_47466263a5dd92550ba9be9b1a2ca78c = L.popup({&quot;maxWidth&quot;: 400});\n",
       "\n",
       "        \n",
       "            \n",
       "                var html_42c3083fd88b1fae4ac764ce0f3a8826 = $(`&lt;div id=&quot;html_42c3083fd88b1fae4ac764ce0f3a8826&quot; style=&quot;width: 100.0%; height: 100.0%;&quot;&gt;&lt;!DOCTYPE html&gt;     &lt;html&gt;     &lt;strong&gt;Building Name: &lt;/strong&gt;Elysee&lt;br&gt;     &lt;strong&gt;Sale Price: &lt;/strong&gt;$2,950,000.00&lt;br&gt;     &lt;strong&gt;Days on Market: &lt;/strong&gt;255&lt;br&gt;     &lt;strong&gt;Listing Agent: &lt;/strong&gt;Juan Mora&lt;br&gt;     &lt;strong&gt;Buyer&#x27;s Agent: &lt;/strong&gt;David Vazquez PA&lt;br&gt;     &lt;strong&gt;Price sq ft: &lt;/strong&gt;$1075.46&lt;br&gt;     &lt;strong&gt;Address: &lt;/strong&gt;788 NE 23rd St  801&lt;br&gt;     &lt;/html&gt;     &lt;/div&gt;`)[0];\n",
       "                popup_47466263a5dd92550ba9be9b1a2ca78c.setContent(html_42c3083fd88b1fae4ac764ce0f3a8826);\n",
       "            \n",
       "        \n",
       "\n",
       "        marker_8e01613bee2bcebc653a45df176b8763.bindPopup(popup_47466263a5dd92550ba9be9b1a2ca78c)\n",
       "        ;\n",
       "\n",
       "        \n",
       "    \n",
       "    \n",
       "            var marker_fc8fadb329727f62842ad29716dbd33d = L.marker(\n",
       "                [25.9489901, -80.1355354],\n",
       "                {&quot;fill&quot;: true, &quot;radius&quot;: 5}\n",
       "            ).addTo(feature_group_d7173d41d3926627350d7da7638f1d88);\n",
       "        \n",
       "    \n",
       "            var icon_9c4d71172fc55e64b8c77bfcf24ebded = L.AwesomeMarkers.icon(\n",
       "                {&quot;extraClasses&quot;: &quot;fa-rotate-0&quot;, &quot;icon&quot;: &quot;info-sign&quot;, &quot;iconColor&quot;: &quot;white&quot;, &quot;markerColor&quot;: &quot;blue&quot;, &quot;prefix&quot;: &quot;glyphicon&quot;}\n",
       "            );\n",
       "            marker_fc8fadb329727f62842ad29716dbd33d.setIcon(icon_9c4d71172fc55e64b8c77bfcf24ebded);\n",
       "        \n",
       "    \n",
       "        var popup_17b2a9fdd5c16af8bdac7286a4585001 = L.popup({&quot;maxWidth&quot;: 400});\n",
       "\n",
       "        \n",
       "            \n",
       "                var html_357c62617ac4cffce4ef7e456c2c0163 = $(`&lt;div id=&quot;html_357c62617ac4cffce4ef7e456c2c0163&quot; style=&quot;width: 100.0%; height: 100.0%;&quot;&gt;&lt;!DOCTYPE html&gt;     &lt;html&gt;     &lt;strong&gt;Building Name: &lt;/strong&gt;Echo Condo&lt;br&gt;     &lt;strong&gt;Sale Price: &lt;/strong&gt;$2,700,000.00&lt;br&gt;     &lt;strong&gt;Days on Market: &lt;/strong&gt;32&lt;br&gt;     &lt;strong&gt;Listing Agent: &lt;/strong&gt;Daniel Tzinker&lt;br&gt;     &lt;strong&gt;Buyer&#x27;s Agent: &lt;/strong&gt;Natallia Ivanova&lt;br&gt;     &lt;strong&gt;Price sq ft: &lt;/strong&gt;$863.72&lt;br&gt;     &lt;strong&gt;Address: &lt;/strong&gt;3300 NE 188th St 917&lt;br&gt;     &lt;/html&gt;     &lt;/div&gt;`)[0];\n",
       "                popup_17b2a9fdd5c16af8bdac7286a4585001.setContent(html_357c62617ac4cffce4ef7e456c2c0163);\n",
       "            \n",
       "        \n",
       "\n",
       "        marker_fc8fadb329727f62842ad29716dbd33d.bindPopup(popup_17b2a9fdd5c16af8bdac7286a4585001)\n",
       "        ;\n",
       "\n",
       "        \n",
       "    \n",
       "    \n",
       "            var marker_9d18065bcf8a2d85411e71b72943f7af = L.marker(\n",
       "                [25.760372, -80.190197],\n",
       "                {&quot;fill&quot;: true, &quot;radius&quot;: 5}\n",
       "            ).addTo(feature_group_d7173d41d3926627350d7da7638f1d88);\n",
       "        \n",
       "    \n",
       "            var icon_75c7c94606f0a16755c556822ca8446b = L.AwesomeMarkers.icon(\n",
       "                {&quot;extraClasses&quot;: &quot;fa-rotate-0&quot;, &quot;icon&quot;: &quot;info-sign&quot;, &quot;iconColor&quot;: &quot;white&quot;, &quot;markerColor&quot;: &quot;blue&quot;, &quot;prefix&quot;: &quot;glyphicon&quot;}\n",
       "            );\n",
       "            marker_9d18065bcf8a2d85411e71b72943f7af.setIcon(icon_75c7c94606f0a16755c556822ca8446b);\n",
       "        \n",
       "    \n",
       "        var popup_2b242f53c79cbc446df7e5256fd1a7e9 = L.popup({&quot;maxWidth&quot;: 400});\n",
       "\n",
       "        \n",
       "            \n",
       "                var html_6c48936c88f5df66633f29388a176743 = $(`&lt;div id=&quot;html_6c48936c88f5df66633f29388a176743&quot; style=&quot;width: 100.0%; height: 100.0%;&quot;&gt;&lt;!DOCTYPE html&gt;     &lt;html&gt;     &lt;strong&gt;Building Name: &lt;/strong&gt;Brickell House&lt;br&gt;     &lt;strong&gt;Sale Price: &lt;/strong&gt;$1,920,000.00&lt;br&gt;     &lt;strong&gt;Days on Market: &lt;/strong&gt;91&lt;br&gt;     &lt;strong&gt;Listing Agent: &lt;/strong&gt;Cenk Fikri&lt;br&gt;     &lt;strong&gt;Buyer&#x27;s Agent: &lt;/strong&gt;Claudia Pinzon&lt;br&gt;     &lt;strong&gt;Price sq ft: &lt;/strong&gt;$811.84&lt;br&gt;     &lt;strong&gt;Address: &lt;/strong&gt;1300 Brickell Bay Dr 4204&lt;br&gt;     &lt;/html&gt;     &lt;/div&gt;`)[0];\n",
       "                popup_2b242f53c79cbc446df7e5256fd1a7e9.setContent(html_6c48936c88f5df66633f29388a176743);\n",
       "            \n",
       "        \n",
       "\n",
       "        marker_9d18065bcf8a2d85411e71b72943f7af.bindPopup(popup_2b242f53c79cbc446df7e5256fd1a7e9)\n",
       "        ;\n",
       "\n",
       "        \n",
       "    \n",
       "    \n",
       "            var marker_9eaa3f2458a4a6f0904c91153c37c341 = L.marker(\n",
       "                [25.9730612, -80.12504779999999],\n",
       "                {&quot;fill&quot;: true, &quot;radius&quot;: 5}\n",
       "            ).addTo(feature_group_d7173d41d3926627350d7da7638f1d88);\n",
       "        \n",
       "    \n",
       "            var icon_fcc77b9b40fce3c24c47d7425617b48e = L.AwesomeMarkers.icon(\n",
       "                {&quot;extraClasses&quot;: &quot;fa-rotate-0&quot;, &quot;icon&quot;: &quot;info-sign&quot;, &quot;iconColor&quot;: &quot;white&quot;, &quot;markerColor&quot;: &quot;blue&quot;, &quot;prefix&quot;: &quot;glyphicon&quot;}\n",
       "            );\n",
       "            marker_9eaa3f2458a4a6f0904c91153c37c341.setIcon(icon_fcc77b9b40fce3c24c47d7425617b48e);\n",
       "        \n",
       "    \n",
       "        var popup_c07d559f2360b2ef9c2a6c94c8baeefd = L.popup({&quot;maxWidth&quot;: 400});\n",
       "\n",
       "        \n",
       "            \n",
       "                var html_579e3061ea6636f668aec337f623f7ea = $(`&lt;div id=&quot;html_579e3061ea6636f668aec337f623f7ea&quot; style=&quot;width: 100.0%; height: 100.0%;&quot;&gt;&lt;!DOCTYPE html&gt;     &lt;html&gt;     &lt;strong&gt;Building Name: &lt;/strong&gt;Atlantic&lt;br&gt;     &lt;strong&gt;Sale Price: &lt;/strong&gt;$1,765,000.00&lt;br&gt;     &lt;strong&gt;Days on Market: &lt;/strong&gt;193&lt;br&gt;     &lt;strong&gt;Listing Agent: &lt;/strong&gt;Cassio Galiza PA&lt;br&gt;     &lt;strong&gt;Buyer&#x27;s Agent: &lt;/strong&gt;Silvia Olivera PA&lt;br&gt;     &lt;strong&gt;Price sq ft: &lt;/strong&gt;$556.26&lt;br&gt;     &lt;strong&gt;Address: &lt;/strong&gt;1 at the Point 21200 Point Pl 1204&lt;br&gt;     &lt;/html&gt;     &lt;/div&gt;`)[0];\n",
       "                popup_c07d559f2360b2ef9c2a6c94c8baeefd.setContent(html_579e3061ea6636f668aec337f623f7ea);\n",
       "            \n",
       "        \n",
       "\n",
       "        marker_9eaa3f2458a4a6f0904c91153c37c341.bindPopup(popup_c07d559f2360b2ef9c2a6c94c8baeefd)\n",
       "        ;\n",
       "\n",
       "        \n",
       "    \n",
       "    \n",
       "            var marker_9e3e34ad92990e5d843994b46e1075a1 = L.marker(\n",
       "                [25.7277303, -80.2394842],\n",
       "                {&quot;fill&quot;: true, &quot;radius&quot;: 5}\n",
       "            ).addTo(feature_group_d7173d41d3926627350d7da7638f1d88);\n",
       "        \n",
       "    \n",
       "            var icon_54a86a337e8e2618272a4c34b697708b = L.AwesomeMarkers.icon(\n",
       "                {&quot;extraClasses&quot;: &quot;fa-rotate-0&quot;, &quot;icon&quot;: &quot;info-sign&quot;, &quot;iconColor&quot;: &quot;white&quot;, &quot;markerColor&quot;: &quot;blue&quot;, &quot;prefix&quot;: &quot;glyphicon&quot;}\n",
       "            );\n",
       "            marker_9e3e34ad92990e5d843994b46e1075a1.setIcon(icon_54a86a337e8e2618272a4c34b697708b);\n",
       "        \n",
       "    \n",
       "        var popup_7e7cb676bd450477c924f6ad7a2886c7 = L.popup({&quot;maxWidth&quot;: 400});\n",
       "\n",
       "        \n",
       "            \n",
       "                var html_19834ae7ca9ede88ac5d3be78ac3d8d4 = $(`&lt;div id=&quot;html_19834ae7ca9ede88ac5d3be78ac3d8d4&quot; style=&quot;width: 100.0%; height: 100.0%;&quot;&gt;&lt;!DOCTYPE html&gt;     &lt;html&gt;     &lt;strong&gt;Building Name: &lt;/strong&gt;Yacht Harbour Condo&lt;br&gt;     &lt;strong&gt;Sale Price: &lt;/strong&gt;$1,565,000.00&lt;br&gt;     &lt;strong&gt;Days on Market: &lt;/strong&gt;18&lt;br&gt;     &lt;strong&gt;Listing Agent: &lt;/strong&gt;Maria Nardi&lt;br&gt;     &lt;strong&gt;Buyer&#x27;s Agent: &lt;/strong&gt;Carlos Fonseca&lt;br&gt;     &lt;strong&gt;Price sq ft: &lt;/strong&gt;$986.14&lt;br&gt;     &lt;strong&gt;Address: &lt;/strong&gt;2901 S Bayshore Dr 7C&lt;br&gt;     &lt;/html&gt;     &lt;/div&gt;`)[0];\n",
       "                popup_7e7cb676bd450477c924f6ad7a2886c7.setContent(html_19834ae7ca9ede88ac5d3be78ac3d8d4);\n",
       "            \n",
       "        \n",
       "\n",
       "        marker_9e3e34ad92990e5d843994b46e1075a1.bindPopup(popup_7e7cb676bd450477c924f6ad7a2886c7)\n",
       "        ;\n",
       "\n",
       "        \n",
       "    \n",
       "    \n",
       "            var marker_cfb990c0e5dd34736871b4bc69593d2c = L.marker(\n",
       "                [25.7277303, -80.2394842],\n",
       "                {&quot;fill&quot;: true, &quot;radius&quot;: 5}\n",
       "            ).addTo(feature_group_d7173d41d3926627350d7da7638f1d88);\n",
       "        \n",
       "    \n",
       "            var icon_99c4f5ac2e0fce80be790c24ca88fa33 = L.AwesomeMarkers.icon(\n",
       "                {&quot;extraClasses&quot;: &quot;fa-rotate-0&quot;, &quot;icon&quot;: &quot;info-sign&quot;, &quot;iconColor&quot;: &quot;white&quot;, &quot;markerColor&quot;: &quot;blue&quot;, &quot;prefix&quot;: &quot;glyphicon&quot;}\n",
       "            );\n",
       "            marker_cfb990c0e5dd34736871b4bc69593d2c.setIcon(icon_99c4f5ac2e0fce80be790c24ca88fa33);\n",
       "        \n",
       "    \n",
       "        var popup_1a9bb4e6dd822fa7b3c51a4b4432345b = L.popup({&quot;maxWidth&quot;: 400});\n",
       "\n",
       "        \n",
       "            \n",
       "                var html_77e5c2f7caf79793ec9b33c2204c5081 = $(`&lt;div id=&quot;html_77e5c2f7caf79793ec9b33c2204c5081&quot; style=&quot;width: 100.0%; height: 100.0%;&quot;&gt;&lt;!DOCTYPE html&gt;     &lt;html&gt;     &lt;strong&gt;Building Name: &lt;/strong&gt;Yacht Harbour Condo&lt;br&gt;     &lt;strong&gt;Sale Price: &lt;/strong&gt;$1,565,000.00&lt;br&gt;     &lt;strong&gt;Days on Market: &lt;/strong&gt;35&lt;br&gt;     &lt;strong&gt;Listing Agent: &lt;/strong&gt;Maria Nardi&lt;br&gt;     &lt;strong&gt;Buyer&#x27;s Agent: &lt;/strong&gt;Carlos Fonseca&lt;br&gt;     &lt;strong&gt;Price sq ft: &lt;/strong&gt;$986.14&lt;br&gt;     &lt;strong&gt;Address: &lt;/strong&gt;2901 S Bayshore Dr 7B&lt;br&gt;     &lt;/html&gt;     &lt;/div&gt;`)[0];\n",
       "                popup_1a9bb4e6dd822fa7b3c51a4b4432345b.setContent(html_77e5c2f7caf79793ec9b33c2204c5081);\n",
       "            \n",
       "        \n",
       "\n",
       "        marker_cfb990c0e5dd34736871b4bc69593d2c.bindPopup(popup_1a9bb4e6dd822fa7b3c51a4b4432345b)\n",
       "        ;\n",
       "\n",
       "        \n",
       "    \n",
       "    \n",
       "            var marker_4a6635d772d4a5babe9d3a2911335f49 = L.marker(\n",
       "                [25.9722702, -80.12569839999999],\n",
       "                {&quot;fill&quot;: true, &quot;radius&quot;: 5}\n",
       "            ).addTo(feature_group_d7173d41d3926627350d7da7638f1d88);\n",
       "        \n",
       "    \n",
       "            var icon_ff78c87a26dc89b02c83162b41b99fe0 = L.AwesomeMarkers.icon(\n",
       "                {&quot;extraClasses&quot;: &quot;fa-rotate-0&quot;, &quot;icon&quot;: &quot;info-sign&quot;, &quot;iconColor&quot;: &quot;white&quot;, &quot;markerColor&quot;: &quot;blue&quot;, &quot;prefix&quot;: &quot;glyphicon&quot;}\n",
       "            );\n",
       "            marker_4a6635d772d4a5babe9d3a2911335f49.setIcon(icon_ff78c87a26dc89b02c83162b41b99fe0);\n",
       "        \n",
       "    \n",
       "        var popup_0698d5c701e3f1396fa4147a743f8f85 = L.popup({&quot;maxWidth&quot;: 400});\n",
       "\n",
       "        \n",
       "            \n",
       "                var html_340eb2273dae8ca4fd388293657526ef = $(`&lt;div id=&quot;html_340eb2273dae8ca4fd388293657526ef&quot; style=&quot;width: 100.0%; height: 100.0%;&quot;&gt;&lt;!DOCTYPE html&gt;     &lt;html&gt;     &lt;strong&gt;Building Name: &lt;/strong&gt;The Point of Aventura&lt;br&gt;     &lt;strong&gt;Sale Price: &lt;/strong&gt;$1,320,000.00&lt;br&gt;     &lt;strong&gt;Days on Market: &lt;/strong&gt;81&lt;br&gt;     &lt;strong&gt;Listing Agent: &lt;/strong&gt;Ronit Razon&lt;br&gt;     &lt;strong&gt;Buyer&#x27;s Agent: &lt;/strong&gt;Yosef Razon&lt;br&gt;     &lt;strong&gt;Price sq ft: &lt;/strong&gt;$540.98&lt;br&gt;     &lt;strong&gt;Address: &lt;/strong&gt;21050 Point Place PH3106&lt;br&gt;     &lt;/html&gt;     &lt;/div&gt;`)[0];\n",
       "                popup_0698d5c701e3f1396fa4147a743f8f85.setContent(html_340eb2273dae8ca4fd388293657526ef);\n",
       "            \n",
       "        \n",
       "\n",
       "        marker_4a6635d772d4a5babe9d3a2911335f49.bindPopup(popup_0698d5c701e3f1396fa4147a743f8f85)\n",
       "        ;\n",
       "\n",
       "        \n",
       "    \n",
       "    \n",
       "            var tile_layer_7901caa702c41df8ab25a40c920ca5c0 = L.tileLayer(\n",
       "                &quot;https://{s}.tile.openstreetmap.org/{z}/{x}/{y}.png&quot;,\n",
       "                {&quot;attribution&quot;: &quot;Data by \\u0026copy; \\u003ca href=\\&quot;http://openstreetmap.org\\&quot;\\u003eOpenStreetMap\\u003c/a\\u003e, under \\u003ca href=\\&quot;http://www.openstreetmap.org/copyright\\&quot;\\u003eODbL\\u003c/a\\u003e.&quot;, &quot;detectRetina&quot;: false, &quot;maxNativeZoom&quot;: 18, &quot;maxZoom&quot;: 18, &quot;minZoom&quot;: 0, &quot;noWrap&quot;: false, &quot;opacity&quot;: 1, &quot;subdomains&quot;: &quot;abc&quot;, &quot;tms&quot;: false}\n",
       "            ).addTo(map_01a4b910205ed3ed09005da8a82b5aa0);\n",
       "        \n",
       "    \n",
       "            var layer_control_c97eeb6f48b9b8f4ef44643c41c2c012 = {\n",
       "                base_layers : {\n",
       "                },\n",
       "                overlays :  {\n",
       "                    &quot;Top Sale&quot; : feature_group_02b30580cb6b302740a07a3749f10113,\n",
       "                    &quot;All other sales&quot; : feature_group_d7173d41d3926627350d7da7638f1d88,\n",
       "                },\n",
       "            };\n",
       "            L.control.layers(\n",
       "                layer_control_c97eeb6f48b9b8f4ef44643c41c2c012.base_layers,\n",
       "                layer_control_c97eeb6f48b9b8f4ef44643c41c2c012.overlays,\n",
       "                {&quot;autoZIndex&quot;: true, &quot;collapsed&quot;: false, &quot;position&quot;: &quot;topright&quot;}\n",
       "            ).addTo(map_01a4b910205ed3ed09005da8a82b5aa0);\n",
       "        \n",
       "&lt;/script&gt;\" style=\"position:absolute;width:100%;height:100%;left:0;top:0;border:none !important;\" allowfullscreen webkitallowfullscreen mozallowfullscreen></iframe></div></div>"
      ],
      "text/plain": [
       "<folium.folium.Map at 0x7fe6d9fcc970>"
      ]
     },
     "execution_count": 17,
     "metadata": {},
     "output_type": "execute_result"
    }
   ],
   "source": [
    "import folium\n",
    "from folium.plugins import MarkerCluster\n",
    "\n",
    "m = folium.Map(location=df[[\"lat\", \"lon\"]].mean().to_list(), zoom_start=10)\n",
    "\n",
    "title_html = '''\n",
    "              <h3 align=\"center\" style=\"font-size:16px\"><b>{}</b></h3>\n",
    "             '''.format(f'Recent Miami-Dade Condo Sales ')\n",
    "\n",
    "caption_html = '''\n",
    "                <p align=\"center\" style=\"vertical-align: bottom; font-size:13px\"><i>{}</i></p>\n",
    "                '''.format('November 26th - December 2nd')\n",
    "\n",
    "\n",
    "### Create map container ###\n",
    "m = folium.Map(location=df[[\"lat\", \"lon\"]].mean().to_list(),zoom_start=9.5,tiles=None)\n",
    "\n",
    "# Create two FeatureGroups for different color pins\n",
    "fg_blue = folium.FeatureGroup(name='All other sales')\n",
    "fg_orange = folium.FeatureGroup(name='Top Sale')\n",
    "\n",
    "for index, row in df.iterrows():\n",
    "    # Add the markers to the appropriate FeatureGroup based on the color\n",
    "    if row['COLOR'] == 'blue':\n",
    "        marker = folium.Marker(\n",
    "            location=[row['lat'], row['lon']],\n",
    "            radius=5,\n",
    "            fill=True,\n",
    "            icon=folium.Icon(color=row['COLOR']),\n",
    "            popup=folium.Popup(popup_html(row), max_width=400))\n",
    "        marker.add_to(fg_blue)\n",
    "    else:\n",
    "        marker = folium.Marker(\n",
    "            location=[row['lat'], row['lon']],\n",
    "            radius=5,\n",
    "            fill=True,\n",
    "            icon=folium.Icon(color=row['COLOR']),\n",
    "            popup=folium.Popup(popup_html(row), max_width=400))\n",
    "        marker.add_to(fg_orange)\n",
    "\n",
    "# Add the FeatureGroups to the map\n",
    "fg_orange.add_to(m)\n",
    "fg_blue.add_to(m)\n",
    "\n",
    "folium.TileLayer('OpenStreetMap',control=False).add_to(m)\n",
    "\n",
    "# Add LayerControl to the map\n",
    "folium.map.LayerControl(collapsed=False).add_to(m)\n",
    "m.get_root().html.add_child(folium.Element(title_html))\n",
    "m.get_root().html.add_child(folium.Element(caption_html))\n",
    "            \n",
    "# Display map\n",
    "m"
   ]
  },
  {
   "cell_type": "code",
   "execution_count": 18,
   "metadata": {},
   "outputs": [],
   "source": [
    "m.save('index.html')"
   ]
  },
  {
   "cell_type": "markdown",
   "metadata": {},
   "source": [
    "## Data snagger"
   ]
  },
  {
   "cell_type": "code",
   "execution_count": 23,
   "metadata": {},
   "outputs": [],
   "source": [
    "### Set up formatting ###\n",
    "BR = '\\n'\n",
    "\n",
    "ME = '\\033[1m' + 'Most Expensive' + '\\033[0m'\n",
    "LE = '\\033[1m' + 'Least Expensive' + '\\033[0m'\n",
    "\n",
    "MAX_PSF = '\\033[1m' + 'Highest Price Per Square Foot' + '\\033[0m'\n",
    "MIN_PSF = '\\033[1m' + 'Lowest Price Per Square Foot' + '\\033[0m'\n",
    "\n",
    "DAYS_MAX = '\\033[1m' + 'Most Days on Market' + '\\033[0m'\n",
    "DAYS_MIN = '\\033[1m' + 'Fewest Days on Market' + '\\033[0m'"
   ]
  },
  {
   "cell_type": "code",
   "execution_count": 20,
   "metadata": {},
   "outputs": [
    {
     "name": "stdout",
     "output_type": "stream",
     "text": [
      "\u001b[1mMost Expensive\u001b[0m\n",
      "nan, nan | Price $4,300,000 | $2,025 psf | Listing agent: Darin Tansey with Douglas Elliman | Buyer's agent: Matias Alem with BRG International , LLC | Days on market: 42\n",
      "\u001b[1mLeast Expensive\u001b[0m\n",
      "The Point of Aventura, 21050 Point Place PH3106 | Price $1,320,000 | $541 psf | Listing agent: Ronit Razon with Related ISG Realty, LLC. | Buyer's agent: Yosef Razon with Related ISG Realty, LLC. | Days on market: 81\n",
      "\u001b[1mHighest Price Per Square Foot\u001b[0m\n",
      "nan, nan | Price $4,300,000 | $2,025 psf | Listing agent: Darin Tansey with Douglas Elliman | Buyer's agent: Matias Alem with BRG International , LLC | Days on market: 42\n",
      "\u001b[1mLowest Price Per Square Foot\u001b[0m\n",
      "The Point of Aventura, 21050 Point Place PH3106 | Price $1,320,000 | $541 psf | Listing agent: Ronit Razon with Related ISG Realty, LLC. | Buyer's agent: Yosef Razon with Related ISG Realty, LLC. | Days on market: 81\n",
      "\u001b[1mMost Days on Market\u001b[0m\n",
      "Elysee, 788 NE 23rd St  801 | Price $2,950,000 | $1,075 psf | Listing agent: Juan Mora with Atlas Rockstone Int'l Realty | Buyer's agent: David Vazquez PA with Douglas Elliman | Days on market: 255\n",
      "\u001b[1mFewest Days on Market\u001b[0m\n",
      "Yacht Harbour Condo, 2901 S Bayshore Dr 7C | Price $1,565,000 | $986 psf | Listing agent: Maria Nardi with Gilvan Realty Corp. | Buyer's agent: Carlos Fonseca with Gilvan Realty Corp. | Days on market: 18\n"
     ]
    }
   ],
   "source": [
    "### Highest and lowest sale price ###\n",
    "print(f\"{ME}{BR}{df.loc[df['int_Sale_Price'].idxmax()]['building_name']}, {df.loc[df['int_Sale_Price'].idxmax()]['address']} | Price ${df.loc[df['int_Sale_Price'].idxmax()]['int_Sale_Price']:,.0f} | ${df.loc[df['int_Sale_Price'].idxmax()]['price_per_sqft']:,.0f} psf | Listing agent: {df.loc[df['int_Sale_Price'].idxmax()]['Agent']} with {df.loc[df['int_Sale_Price'].idxmax()]['Listing Broker']} | Buyer's agent: {df.loc[df['int_Sale_Price'].idxmax()]['Buyer Agent']} with {df.loc[df['int_Sale_Price'].idxmax()]['Buyer Broker']} | Days on market: {df.loc[df['int_Sale_Price'].idxmax()]['days_on_market']}\")\n",
    "print(f\"{LE}{BR}{df.loc[df['int_Sale_Price'].idxmin()]['building_name']}, {df.loc[df['int_Sale_Price'].idxmin()]['address']} | Price ${df.loc[df['int_Sale_Price'].idxmin()]['int_Sale_Price']:,.0f} | ${df.loc[df['int_Sale_Price'].idxmin()]['price_per_sqft']:,.0f} psf | Listing agent: {df.loc[df['int_Sale_Price'].idxmin()]['Agent']} with {df.loc[df['int_Sale_Price'].idxmin()]['Listing Broker']} | Buyer's agent: {df.loc[df['int_Sale_Price'].idxmin()]['Buyer Agent']} with {df.loc[df['int_Sale_Price'].idxmin()]['Buyer Broker']} | Days on market: {df.loc[df['int_Sale_Price'].idxmin()]['days_on_market']}\")\n",
    "### Highest and lowest psf ###\n",
    "print(f\"{MAX_PSF}{BR}{df.loc[df['price_per_sqft'].idxmax()]['building_name']}, {df.loc[df['price_per_sqft'].idxmax()]['address']} | Price ${df.loc[df['price_per_sqft'].idxmax()]['int_Sale_Price']:,.0f} | ${df.loc[df['price_per_sqft'].idxmax()]['price_per_sqft']:,.0f} psf | Listing agent: {df.loc[df['price_per_sqft'].idxmax()]['Agent']} with {df.loc[df['price_per_sqft'].idxmax()]['Listing Broker']} | Buyer's agent: {df.loc[df['price_per_sqft'].idxmax()]['Buyer Agent']} with {df.loc[df['price_per_sqft'].idxmax()]['Buyer Broker']} | Days on market: {df.loc[df['price_per_sqft'].idxmax()]['days_on_market']}\")\n",
    "print(f\"{MIN_PSF}{BR}{df.loc[df['price_per_sqft'].idxmin()]['building_name']}, {df.loc[df['price_per_sqft'].idxmin()]['address']} | Price ${df.loc[df['price_per_sqft'].idxmin()]['int_Sale_Price']:,.0f} | ${df.loc[df['price_per_sqft'].idxmin()]['price_per_sqft']:,.0f} psf | Listing agent: {df.loc[df['price_per_sqft'].idxmin()]['Agent']} with {df.loc[df['price_per_sqft'].idxmin()]['Listing Broker']} | Buyer's agent: {df.loc[df['price_per_sqft'].idxmin()]['Buyer Agent']} with {df.loc[df['price_per_sqft'].idxmin()]['Buyer Broker']} | Days on market: {df.loc[df['price_per_sqft'].idxmin()]['days_on_market']}\")\n",
    "### Highest and lowest days on market ###\n",
    "print(f\"{DAYS_MAX}{BR}{df.loc[df['days_on_market'].idxmax()]['building_name']}, {df.loc[df['days_on_market'].idxmax()]['address']} | Price ${df.loc[df['days_on_market'].idxmax()]['int_Sale_Price']:,.0f} | ${df.loc[df['days_on_market'].idxmax()]['price_per_sqft']:,.0f} psf | Listing agent: {df.loc[df['days_on_market'].idxmax()]['Agent']} with {df.loc[df['days_on_market'].idxmax()]['Listing Broker']} | Buyer's agent: {df.loc[df['days_on_market'].idxmax()]['Buyer Agent']} with {df.loc[df['days_on_market'].idxmax()]['Buyer Broker']} | Days on market: {df.loc[df['days_on_market'].idxmax()]['days_on_market']}\")\n",
    "print(f\"{DAYS_MIN}{BR}{df.loc[df['days_on_market'].idxmin()]['building_name']}, {df.loc[df['days_on_market'].idxmin()]['address']} | Price ${df.loc[df['days_on_market'].idxmin()]['int_Sale_Price']:,.0f} | ${df.loc[df['days_on_market'].idxmin()]['price_per_sqft']:,.0f} psf | Listing agent: {df.loc[df['days_on_market'].idxmin()]['Agent']} with {df.loc[df['days_on_market'].idxmin()]['Listing Broker']} | Buyer's agent: {df.loc[df['days_on_market'].idxmin()]['Buyer Agent']} with {df.loc[df['days_on_market'].idxmin()]['Buyer Broker']} | Days on market: {df.loc[df['days_on_market'].idxmin()]['days_on_market']}\")"
   ]
  },
  {
   "cell_type": "code",
   "execution_count": 21,
   "metadata": {},
   "outputs": [
    {
     "data": {
      "text/plain": [
       "108.8"
      ]
     },
     "execution_count": 21,
     "metadata": {},
     "output_type": "execute_result"
    }
   ],
   "source": [
    "df['days_on_market'].mean()"
   ]
  },
  {
   "cell_type": "markdown",
   "metadata": {},
   "source": [
    "## Map URL snagger"
   ]
  },
  {
   "cell_type": "markdown",
   "metadata": {},
   "source": [
    "Map template URL: `https://trd-digital.github.io/trd-news-interactive-maps/{map-folder-name}`"
   ]
  },
  {
   "cell_type": "code",
   "execution_count": 22,
   "metadata": {},
   "outputs": [
    {
     "name": "stdout",
     "output_type": "stream",
     "text": [
      "https://trd-digital.github.io/trd-news-interactive-maps/condo_sales_week_ending_12162023\n"
     ]
    }
   ],
   "source": [
    "base_name = 'https://trd-digital.github.io/trd-news-interactive-maps/'\n",
    "\n",
    "cwd = os.getcwd()\n",
    "\n",
    "cwd = cwd.split('/')\n",
    "\n",
    "final_name = base_name + cwd[-1]\n",
    "print(final_name)"
   ]
  }
 ],
 "metadata": {
  "kernelspec": {
   "display_name": "Python 3 (ipykernel)",
   "language": "python",
   "name": "python3"
  },
  "language_info": {
   "codemirror_mode": {
    "name": "ipython",
    "version": 3
   },
   "file_extension": ".py",
   "mimetype": "text/x-python",
   "name": "python",
   "nbconvert_exporter": "python",
   "pygments_lexer": "ipython3",
   "version": "3.9.12"
  },
  "toc": {
   "base_numbering": 1,
   "nav_menu": {},
   "number_sections": true,
   "sideBar": true,
   "skip_h1_title": false,
   "title_cell": "Table of Contents",
   "title_sidebar": "Contents",
   "toc_cell": false,
   "toc_position": {},
   "toc_section_display": true,
   "toc_window_display": false
  }
 },
 "nbformat": 4,
 "nbformat_minor": 4
}
