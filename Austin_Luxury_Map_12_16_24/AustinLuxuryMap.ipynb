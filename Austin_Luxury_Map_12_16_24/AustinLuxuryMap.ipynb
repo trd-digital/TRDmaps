{
 "cells": [
  {
   "cell_type": "markdown",
   "id": "e10034d4",
   "metadata": {},
   "source": [
    "# Imports"
   ]
  },
  {
   "cell_type": "code",
   "execution_count": 1,
   "id": "8766abcc",
   "metadata": {},
   "outputs": [],
   "source": [
    "import pandas as pd\n",
    "import geopandas as gpd\n",
    "import googlemaps\n",
    "from shapely.geometry import Point\n",
    "import os\n",
    "import numpy as np\n",
    "import re\n",
    "from textwrap import shorten\n",
    "from bs4 import BeautifulSoup\n",
    "import gspread"
   ]
  },
  {
   "cell_type": "markdown",
   "id": "d6f64639",
   "metadata": {},
   "source": [
    "## Data read-in"
   ]
  },
  {
   "cell_type": "code",
   "execution_count": 3,
   "id": "b490dbe3",
   "metadata": {},
   "outputs": [],
   "source": [
    "df = pd.read_csv('Austin luxury map - 12_16.csv')"
   ]
  },
  {
   "cell_type": "code",
   "execution_count": 4,
   "id": "4e6ca750",
   "metadata": {},
   "outputs": [
    {
     "data": {
      "text/html": [
       "<div>\n",
       "<style scoped>\n",
       "    .dataframe tbody tr th:only-of-type {\n",
       "        vertical-align: middle;\n",
       "    }\n",
       "\n",
       "    .dataframe tbody tr th {\n",
       "        vertical-align: top;\n",
       "    }\n",
       "\n",
       "    .dataframe thead th {\n",
       "        text-align: right;\n",
       "    }\n",
       "</style>\n",
       "<table border=\"1\" class=\"dataframe\">\n",
       "  <thead>\n",
       "    <tr style=\"text-align: right;\">\n",
       "      <th></th>\n",
       "      <th>Address</th>\n",
       "      <th>Price</th>\n",
       "      <th>Price psf</th>\n",
       "    </tr>\n",
       "  </thead>\n",
       "  <tbody>\n",
       "    <tr>\n",
       "      <th>0</th>\n",
       "      <td>2104 Island Wood Rd Austin, Texas 78733</td>\n",
       "      <td>$4.95 million</td>\n",
       "      <td>$1,006</td>\n",
       "    </tr>\n",
       "    <tr>\n",
       "      <th>1</th>\n",
       "      <td>4901 Peralta Ln Austin, Texas 78735</td>\n",
       "      <td>$4.25 million</td>\n",
       "      <td>$894</td>\n",
       "    </tr>\n",
       "    <tr>\n",
       "      <th>2</th>\n",
       "      <td>5814 Trailridge Dr, Austin, Texas 78731</td>\n",
       "      <td>$3.6 million</td>\n",
       "      <td>$709</td>\n",
       "    </tr>\n",
       "    <tr>\n",
       "      <th>3</th>\n",
       "      <td>6108 Mountainclimb Dr, Austin, Texas 78731</td>\n",
       "      <td>$2.85 million</td>\n",
       "      <td>$744</td>\n",
       "    </tr>\n",
       "    <tr>\n",
       "      <th>4</th>\n",
       "      <td>7913 Brightman Ln, Austin, Texas 78733</td>\n",
       "      <td>$2.5 million</td>\n",
       "      <td>$528</td>\n",
       "    </tr>\n",
       "    <tr>\n",
       "      <th>5</th>\n",
       "      <td>8204 Hickory Creek Dr, Austin, Texas 78735</td>\n",
       "      <td>$2.35 million</td>\n",
       "      <td>$648</td>\n",
       "    </tr>\n",
       "    <tr>\n",
       "      <th>6</th>\n",
       "      <td>1710 Palma Plz, Austin, Texas 78703</td>\n",
       "      <td>$2.2 million</td>\n",
       "      <td>$852</td>\n",
       "    </tr>\n",
       "  </tbody>\n",
       "</table>\n",
       "</div>"
      ],
      "text/plain": [
       "                                      Address          Price Price psf\n",
       "0     2104 Island Wood Rd Austin, Texas 78733  $4.95 million    $1,006\n",
       "1         4901 Peralta Ln Austin, Texas 78735  $4.25 million      $894\n",
       "2     5814 Trailridge Dr, Austin, Texas 78731   $3.6 million      $709\n",
       "3  6108 Mountainclimb Dr, Austin, Texas 78731  $2.85 million      $744\n",
       "4      7913 Brightman Ln, Austin, Texas 78733   $2.5 million      $528\n",
       "5  8204 Hickory Creek Dr, Austin, Texas 78735  $2.35 million      $648\n",
       "6         1710 Palma Plz, Austin, Texas 78703   $2.2 million      $852"
      ]
     },
     "execution_count": 4,
     "metadata": {},
     "output_type": "execute_result"
    }
   ],
   "source": [
    "df"
   ]
  },
  {
   "cell_type": "code",
   "execution_count": 5,
   "id": "528a2875",
   "metadata": {},
   "outputs": [],
   "source": [
    "# df['Description'].iloc[0]"
   ]
  },
  {
   "cell_type": "markdown",
   "id": "f8e40528",
   "metadata": {},
   "source": [
    "## Geocode"
   ]
  },
  {
   "cell_type": "code",
   "execution_count": 5,
   "id": "80ec2c80",
   "metadata": {},
   "outputs": [
    {
     "data": {
      "text/plain": [
       "Index(['Address', 'Price', 'Price psf'], dtype='object')"
      ]
     },
     "execution_count": 5,
     "metadata": {},
     "output_type": "execute_result"
    }
   ],
   "source": [
    "df.columns"
   ]
  },
  {
   "cell_type": "code",
   "execution_count": 6,
   "id": "a0023d81",
   "metadata": {},
   "outputs": [],
   "source": [
    "%store -r google_maps_API_Key\n",
    "gmaps_key = googlemaps.Client(key=google_maps_API_Key)"
   ]
  },
  {
   "cell_type": "code",
   "execution_count": 7,
   "id": "1eeeda8c",
   "metadata": {},
   "outputs": [],
   "source": [
    "def geocode(add):\n",
    "    g = gmaps_key.geocode(add)\n",
    "    lat = g[0][\"geometry\"][\"location\"][\"lat\"]\n",
    "    lng = g[0][\"geometry\"][\"location\"][\"lng\"]\n",
    "    return (lat, lng)\n",
    "\n",
    "df['geocoded'] = df['Address'].apply(geocode)"
   ]
  },
  {
   "cell_type": "code",
   "execution_count": 8,
   "id": "09e9384a",
   "metadata": {},
   "outputs": [
    {
     "data": {
      "text/html": [
       "<div>\n",
       "<style scoped>\n",
       "    .dataframe tbody tr th:only-of-type {\n",
       "        vertical-align: middle;\n",
       "    }\n",
       "\n",
       "    .dataframe tbody tr th {\n",
       "        vertical-align: top;\n",
       "    }\n",
       "\n",
       "    .dataframe thead th {\n",
       "        text-align: right;\n",
       "    }\n",
       "</style>\n",
       "<table border=\"1\" class=\"dataframe\">\n",
       "  <thead>\n",
       "    <tr style=\"text-align: right;\">\n",
       "      <th></th>\n",
       "      <th>Address</th>\n",
       "      <th>Price</th>\n",
       "      <th>Price psf</th>\n",
       "      <th>geocoded</th>\n",
       "      <th>geometry</th>\n",
       "    </tr>\n",
       "  </thead>\n",
       "  <tbody>\n",
       "    <tr>\n",
       "      <th>0</th>\n",
       "      <td>2104 Island Wood Rd Austin, Texas 78733</td>\n",
       "      <td>$4.95 million</td>\n",
       "      <td>$1,006</td>\n",
       "      <td>(30.337473, -97.8476592)</td>\n",
       "      <td>POINT (-97.84766 30.33747)</td>\n",
       "    </tr>\n",
       "    <tr>\n",
       "      <th>1</th>\n",
       "      <td>4901 Peralta Ln Austin, Texas 78735</td>\n",
       "      <td>$4.25 million</td>\n",
       "      <td>$894</td>\n",
       "      <td>(30.2622931, -97.87434300000001)</td>\n",
       "      <td>POINT (-97.87434 30.26229)</td>\n",
       "    </tr>\n",
       "    <tr>\n",
       "      <th>2</th>\n",
       "      <td>5814 Trailridge Dr, Austin, Texas 78731</td>\n",
       "      <td>$3.6 million</td>\n",
       "      <td>$709</td>\n",
       "      <td>(30.3418244, -97.7584292)</td>\n",
       "      <td>POINT (-97.75843 30.34182)</td>\n",
       "    </tr>\n",
       "    <tr>\n",
       "      <th>3</th>\n",
       "      <td>6108 Mountainclimb Dr, Austin, Texas 78731</td>\n",
       "      <td>$2.85 million</td>\n",
       "      <td>$744</td>\n",
       "      <td>(30.3476547, -97.7642297)</td>\n",
       "      <td>POINT (-97.76423 30.34765)</td>\n",
       "    </tr>\n",
       "    <tr>\n",
       "      <th>4</th>\n",
       "      <td>7913 Brightman Ln, Austin, Texas 78733</td>\n",
       "      <td>$2.5 million</td>\n",
       "      <td>$528</td>\n",
       "      <td>(30.3192302, -97.84546069999999)</td>\n",
       "      <td>POINT (-97.84546 30.31923)</td>\n",
       "    </tr>\n",
       "    <tr>\n",
       "      <th>5</th>\n",
       "      <td>8204 Hickory Creek Dr, Austin, Texas 78735</td>\n",
       "      <td>$2.35 million</td>\n",
       "      <td>$648</td>\n",
       "      <td>(30.2809165, -97.86600290000001)</td>\n",
       "      <td>POINT (-97.86600 30.28092)</td>\n",
       "    </tr>\n",
       "    <tr>\n",
       "      <th>6</th>\n",
       "      <td>1710 Palma Plz, Austin, Texas 78703</td>\n",
       "      <td>$2.2 million</td>\n",
       "      <td>$852</td>\n",
       "      <td>(30.2833637, -97.76166309999999)</td>\n",
       "      <td>POINT (-97.76166 30.28336)</td>\n",
       "    </tr>\n",
       "  </tbody>\n",
       "</table>\n",
       "</div>"
      ],
      "text/plain": [
       "                                      Address          Price Price psf  \\\n",
       "0     2104 Island Wood Rd Austin, Texas 78733  $4.95 million    $1,006   \n",
       "1         4901 Peralta Ln Austin, Texas 78735  $4.25 million      $894   \n",
       "2     5814 Trailridge Dr, Austin, Texas 78731   $3.6 million      $709   \n",
       "3  6108 Mountainclimb Dr, Austin, Texas 78731  $2.85 million      $744   \n",
       "4      7913 Brightman Ln, Austin, Texas 78733   $2.5 million      $528   \n",
       "5  8204 Hickory Creek Dr, Austin, Texas 78735  $2.35 million      $648   \n",
       "6         1710 Palma Plz, Austin, Texas 78703   $2.2 million      $852   \n",
       "\n",
       "                           geocoded                    geometry  \n",
       "0          (30.337473, -97.8476592)  POINT (-97.84766 30.33747)  \n",
       "1  (30.2622931, -97.87434300000001)  POINT (-97.87434 30.26229)  \n",
       "2         (30.3418244, -97.7584292)  POINT (-97.75843 30.34182)  \n",
       "3         (30.3476547, -97.7642297)  POINT (-97.76423 30.34765)  \n",
       "4  (30.3192302, -97.84546069999999)  POINT (-97.84546 30.31923)  \n",
       "5  (30.2809165, -97.86600290000001)  POINT (-97.86600 30.28092)  \n",
       "6  (30.2833637, -97.76166309999999)  POINT (-97.76166 30.28336)  "
      ]
     },
     "execution_count": 8,
     "metadata": {},
     "output_type": "execute_result"
    }
   ],
   "source": [
    "# Convert 'geocoded' column into Shapely Point objects\n",
    "df['geometry'] = df['geocoded'].apply(lambda coords: Point(coords[1], coords[0]))\n",
    "\n",
    "# Create a GeoDataFrame\n",
    "gdf = gpd.GeoDataFrame(df, geometry='geometry')\n",
    "\n",
    "# Set the CRS to WGS84 (EPSG:4326)\n",
    "gdf.set_crs(epsg=4326, inplace=True)"
   ]
  },
  {
   "cell_type": "code",
   "execution_count": 9,
   "id": "13cdeafd",
   "metadata": {},
   "outputs": [
    {
     "data": {
      "text/plain": [
       "Index(['Address', 'Price', 'Price psf', 'geocoded', 'geometry'], dtype='object')"
      ]
     },
     "execution_count": 9,
     "metadata": {},
     "output_type": "execute_result"
    }
   ],
   "source": [
    "gdf.columns"
   ]
  },
  {
   "cell_type": "code",
   "execution_count": 10,
   "id": "34d9d3d3",
   "metadata": {},
   "outputs": [],
   "source": [
    "gdf = gdf.drop(columns={'geocoded':'Details'})"
   ]
  },
  {
   "cell_type": "code",
   "execution_count": 11,
   "id": "5bf8893a",
   "metadata": {},
   "outputs": [
    {
     "name": "stderr",
     "output_type": "stream",
     "text": [
      "/var/folders/rq/0_j_rksd7psgdycg9c1qwf6m0000gp/T/ipykernel_67422/2323350875.py:3: FutureWarning: DataFrame.applymap has been deprecated. Use DataFrame.map instead.\n",
      "  gdf = gdf.applymap(lambda x: x.strip() if isinstance(x, str) else x)  # Trim whitespace from string values\n"
     ]
    }
   ],
   "source": [
    "# Strip whitespace from all string columns\n",
    "gdf.columns = gdf.columns.str.strip()  # Trim whitespace from column names\n",
    "gdf = gdf.applymap(lambda x: x.strip() if isinstance(x, str) else x)  # Trim whitespace from string values"
   ]
  },
  {
   "cell_type": "code",
   "execution_count": 12,
   "id": "389be2c6",
   "metadata": {},
   "outputs": [],
   "source": [
    "# Convert all data to strings if possible, or remove complex structures\n",
    "for col in gdf.columns:\n",
    "    if gdf[col].dtype == object:\n",
    "        try:\n",
    "            gdf[col] = gdf[col].astype(str)\n",
    "        except Exception as e:\n",
    "            print(f\"Could not convert column {col}: {e}\")\n",
    "            gdf.drop(columns=[col], inplace=True)\n"
   ]
  },
  {
   "cell_type": "code",
   "execution_count": 13,
   "id": "cab17d01",
   "metadata": {},
   "outputs": [],
   "source": [
    "gdf.to_file('data.geojson', driver='GeoJSON')"
   ]
  },
  {
   "cell_type": "code",
   "execution_count": 14,
   "id": "81bf86af",
   "metadata": {},
   "outputs": [
    {
     "name": "stdout",
     "output_type": "stream",
     "text": [
      "https://trd-digital.github.io/trd-news-interactive-maps/Austin_Luxury_Map_12_16_24\n"
     ]
    }
   ],
   "source": [
    "base_name = 'https://trd-digital.github.io/trd-news-interactive-maps/'\n",
    "\n",
    "cwd = os.getcwd()\n",
    "\n",
    "cwd = cwd.split('/')\n",
    "\n",
    "final_name = base_name + cwd[-1]\n",
    "print(final_name)"
   ]
  },
  {
   "cell_type": "code",
   "execution_count": 15,
   "id": "17012fae",
   "metadata": {},
   "outputs": [
    {
     "data": {
      "text/plain": [
       "Index(['Address', 'Price', 'Price psf', 'geometry'], dtype='object')"
      ]
     },
     "execution_count": 15,
     "metadata": {},
     "output_type": "execute_result"
    }
   ],
   "source": [
    "gdf.columns"
   ]
  },
  {
   "cell_type": "markdown",
   "id": "487c7bf9",
   "metadata": {},
   "source": [
    "<a href=\"https://therealdeal.com/chicago/2024/04/03/david-gassman-sells-chicago-apartment-portfolio-for-72m/\"> 6954 North Sheridan Road, Chicago</a>"
   ]
  }
 ],
 "metadata": {
  "kernelspec": {
   "display_name": "Python 3 (ipykernel)",
   "language": "python",
   "name": "python3"
  },
  "language_info": {
   "codemirror_mode": {
    "name": "ipython",
    "version": 3
   },
   "file_extension": ".py",
   "mimetype": "text/x-python",
   "name": "python",
   "nbconvert_exporter": "python",
   "pygments_lexer": "ipython3",
   "version": "3.9.12"
  }
 },
 "nbformat": 4,
 "nbformat_minor": 5
}
