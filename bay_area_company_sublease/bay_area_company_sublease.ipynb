{
 "cells": [
  {
   "cell_type": "markdown",
   "metadata": {},
   "source": [
    "## Imports"
   ]
  },
  {
   "cell_type": "code",
   "execution_count": 30,
   "metadata": {},
   "outputs": [],
   "source": [
    "from geopy.geocoders import GoogleV3\n",
    "from bs4 import BeautifulSoup\n",
    "import requests\n",
    "import time\n",
    "import pandas as pd\n",
    "import numpy as np\n",
    "import urllib3\n",
    "import re\n",
    "from textwrap import shorten\n",
    "import os"
   ]
  },
  {
   "cell_type": "code",
   "execution_count": 31,
   "metadata": {},
   "outputs": [],
   "source": [
    "df = pd.read_csv('Bay Area companies that have decided to put space on market for sublease, Jan. 1, 2022, to July 5, 2022 - Sheet1.csv')"
   ]
  },
  {
   "cell_type": "code",
   "execution_count": 32,
   "metadata": {},
   "outputs": [
    {
     "data": {
      "text/plain": [
       "Index(['Company name ', 'Home city ', 'Category',\n",
       "       'Amount of space company listed for sublease or plans to list for sublease, in sf ',\n",
       "       'Address(es) of space company listed for sublease or plans to list for sublease ',\n",
       "       'Sublease taken?', 'Sublease term', 'Notes on sublease',\n",
       "       'Date TRD wrote about sublease', 'Link to story'],\n",
       "      dtype='object')"
      ]
     },
     "execution_count": 32,
     "metadata": {},
     "output_type": "execute_result"
    }
   ],
   "source": [
    "df.columns"
   ]
  },
  {
   "cell_type": "markdown",
   "metadata": {},
   "source": [
    "## Image URL collector"
   ]
  },
  {
   "cell_type": "code",
   "execution_count": 33,
   "metadata": {},
   "outputs": [],
   "source": [
    "# Drop last n rows of a df. In case there are sums that need clipped\n",
    "# df.drop(df.tail(n).index, inplace=True)"
   ]
  },
  {
   "cell_type": "code",
   "execution_count": 34,
   "metadata": {},
   "outputs": [],
   "source": [
    "df['image_links'] = ''\n",
    "links = []\n",
    "for url in df['Link to story']:\n",
    "    try:\n",
    "        page = requests.get(url)\n",
    "        soup = BeautifulSoup(page.content, 'html.parser')\n",
    "        images = soup.find_all('img')\n",
    "        counter = 0\n",
    "        for image in images:\n",
    "            counter += 1\n",
    "            if 'jpg' in image['src']:\n",
    "                links.append(image['src'])\n",
    "                if counter == len(images):\n",
    "                    links.append('no image found')\n",
    "                break\n",
    "    except:\n",
    "        links.append('no_image')\n",
    "\n",
    "df['image_links'] = links"
   ]
  },
  {
   "cell_type": "markdown",
   "metadata": {},
   "source": [
    "## Article link formatter"
   ]
  },
  {
   "cell_type": "code",
   "execution_count": 35,
   "metadata": {},
   "outputs": [
    {
     "data": {
      "text/plain": [
       "4"
      ]
     },
     "execution_count": 35,
     "metadata": {},
     "output_type": "execute_result"
    }
   ],
   "source": [
    "len(links)"
   ]
  },
  {
   "cell_type": "code",
   "execution_count": 36,
   "metadata": {},
   "outputs": [
    {
     "data": {
      "text/plain": [
       "0                   Slack\n",
       "1                   Yahoo\n",
       "2               Autodesk \n",
       "3    Nektar Therapeutics \n",
       "Name: Company name , dtype: object"
      ]
     },
     "execution_count": 36,
     "metadata": {},
     "output_type": "execute_result"
    }
   ],
   "source": [
    "df['Company name ']"
   ]
  },
  {
   "cell_type": "code",
   "execution_count": 37,
   "metadata": {},
   "outputs": [
    {
     "data": {
      "text/plain": [
       "0    <a href=\"https://therealdeal.com/sanfrancisco/...\n",
       "1    <a href=\"https://therealdeal.com/sanfrancisco/...\n",
       "2    <a href=\"https://therealdeal.com/sanfrancisco/...\n",
       "3    <a href=\"https://therealdeal.com/sanfrancisco/...\n",
       "Name: description_link, dtype: object"
      ]
     },
     "execution_count": 37,
     "metadata": {},
     "output_type": "execute_result"
    }
   ],
   "source": [
    "df[\"short_description\"] = df[\"Company name \"].apply(lambda s: shorten(s, width=20, placeholder=\"\"))\n",
    "df['remaining_desc'] = df.apply(lambda row : row['Company name '].replace(str(row['short_description']), ''), axis=1)\n",
    "df['remaining_desc']\n",
    "\n",
    "df[\"description_link\"] = '<a href=\"' + df[\"Link to story\"] + '\">' + df[\"short_description\"] + \"</a>\" + df[\"remaining_desc\"]\n",
    "df['description_link']"
   ]
  },
  {
   "cell_type": "code",
   "execution_count": 38,
   "metadata": {},
   "outputs": [
    {
     "data": {
      "text/plain": [
       "'<a href=\"https://therealdeal.com/sanfrancisco/2022/02/03/slack-lists-more-than-200000-sf-of-sf-office-space-for-sublease/\">Slack</a>'"
      ]
     },
     "execution_count": 38,
     "metadata": {},
     "output_type": "execute_result"
    }
   ],
   "source": [
    "df.description_link[0]"
   ]
  },
  {
   "cell_type": "markdown",
   "metadata": {},
   "source": [
    "## Google Maps API Geolocater Setup"
   ]
  },
  {
   "cell_type": "code",
   "execution_count": 39,
   "metadata": {},
   "outputs": [],
   "source": [
    "%store -r google_maps_API_Key\n",
    "geolocator = GoogleV3(api_key=google_maps_API_Key)"
   ]
  },
  {
   "cell_type": "code",
   "execution_count": 40,
   "metadata": {},
   "outputs": [],
   "source": [
    "df['geo_address'] = df['Address(es) of space company listed for sublease or plans to list for sublease '] + ' CA'\n",
    "df['loc'] = df['geo_address'].apply(geolocator.geocode, timeout=10)\n",
    "df['point'] = df['loc'].apply(lambda loc: tuple(loc.point) if loc else None)\n",
    "df[['lat','lon','altitude']] = pd.DataFrame(df['point'].to_list(),index=df.index)"
   ]
  },
  {
   "cell_type": "markdown",
   "metadata": {},
   "source": [
    "## Correction section"
   ]
  },
  {
   "cell_type": "code",
   "execution_count": 50,
   "metadata": {},
   "outputs": [
    {
     "data": {
      "text/html": [
       "<div>\n",
       "<style scoped>\n",
       "    .dataframe tbody tr th:only-of-type {\n",
       "        vertical-align: middle;\n",
       "    }\n",
       "\n",
       "    .dataframe tbody tr th {\n",
       "        vertical-align: top;\n",
       "    }\n",
       "\n",
       "    .dataframe thead th {\n",
       "        text-align: right;\n",
       "    }\n",
       "</style>\n",
       "<table border=\"1\" class=\"dataframe\">\n",
       "  <thead>\n",
       "    <tr style=\"text-align: right;\">\n",
       "      <th></th>\n",
       "      <th>Company name</th>\n",
       "      <th>Home city</th>\n",
       "      <th>Category</th>\n",
       "      <th>Amount of space company listed for sublease or plans to list for sublease, in sf</th>\n",
       "      <th>Address(es) of space company listed for sublease or plans to list for sublease</th>\n",
       "      <th>Sublease taken?</th>\n",
       "      <th>Sublease term</th>\n",
       "      <th>Notes on sublease</th>\n",
       "      <th>Date TRD wrote about sublease</th>\n",
       "      <th>Link to story</th>\n",
       "      <th>image_links</th>\n",
       "      <th>short_description</th>\n",
       "      <th>remaining_desc</th>\n",
       "      <th>description_link</th>\n",
       "      <th>geo_address</th>\n",
       "      <th>loc</th>\n",
       "      <th>point</th>\n",
       "      <th>lat</th>\n",
       "      <th>lon</th>\n",
       "      <th>altitude</th>\n",
       "    </tr>\n",
       "  </thead>\n",
       "  <tbody>\n",
       "    <tr>\n",
       "      <th>0</th>\n",
       "      <td>Slack</td>\n",
       "      <td>San Francisco</td>\n",
       "      <td>Office</td>\n",
       "      <td>About 208K sf</td>\n",
       "      <td>45 Fremont Street, San Francisco</td>\n",
       "      <td>No</td>\n",
       "      <td>Through 2030</td>\n",
       "      <td>NaN</td>\n",
       "      <td>02.03.2022</td>\n",
       "      <td>https://therealdeal.com/sanfrancisco/2022/02/0...</td>\n",
       "      <td>https://therealdeal.com/sanfrancisco/wp-conten...</td>\n",
       "      <td>Slack</td>\n",
       "      <td></td>\n",
       "      <td>&lt;a href=\"https://therealdeal.com/sanfrancisco/...</td>\n",
       "      <td>45 Fremont Street, San Francisco CA</td>\n",
       "      <td>(45 Fremont Street, 45 Fremont St, San Francis...</td>\n",
       "      <td>(37.7912489, -122.3971488, 0.0)</td>\n",
       "      <td>37.791249</td>\n",
       "      <td>-122.397149</td>\n",
       "      <td>0.0</td>\n",
       "    </tr>\n",
       "    <tr>\n",
       "      <th>1</th>\n",
       "      <td>Yahoo</td>\n",
       "      <td>San Jose</td>\n",
       "      <td>Office</td>\n",
       "      <td>About 361K sf that’s on top of about 297K sf l...</td>\n",
       "      <td>1189, 1193 and 1199 Coleman Avenue, San Jose</td>\n",
       "      <td>No</td>\n",
       "      <td>Through May 31, 2027</td>\n",
       "      <td>TikTok parent ByteDance is in talks with Yahoo...</td>\n",
       "      <td>06.09.2022</td>\n",
       "      <td>https://therealdeal.com/sanfrancisco/2022/06/0...</td>\n",
       "      <td>https://therealdeal.com/sanfrancisco/wp-conten...</td>\n",
       "      <td>Yahoo</td>\n",
       "      <td></td>\n",
       "      <td>&lt;a href=\"https://therealdeal.com/sanfrancisco/...</td>\n",
       "      <td>1189, 1193 and 1199 Coleman Avenue, San Jose CA</td>\n",
       "      <td>(1199 Coleman Ave, San Jose, CA 95110, USA, (3...</td>\n",
       "      <td>(37.3547373, -121.9308227, 0.0)</td>\n",
       "      <td>37.354737</td>\n",
       "      <td>-121.930823</td>\n",
       "      <td>0.0</td>\n",
       "    </tr>\n",
       "    <tr>\n",
       "      <th>2</th>\n",
       "      <td>Autodesk</td>\n",
       "      <td>San Rafael</td>\n",
       "      <td>Office</td>\n",
       "      <td>117K sf</td>\n",
       "      <td>300 Mission Street, San Francisco</td>\n",
       "      <td>No</td>\n",
       "      <td>NaN</td>\n",
       "      <td>Iconiq Capital, a wealth management firm, agre...</td>\n",
       "      <td>01.12.2022</td>\n",
       "      <td>https://therealdeal.com/sanfrancisco/2022/01/1...</td>\n",
       "      <td>https://therealdeal.com/sanfrancisco/wp-conten...</td>\n",
       "      <td>Autodesk</td>\n",
       "      <td></td>\n",
       "      <td>&lt;a href=\"https://therealdeal.com/sanfrancisco/...</td>\n",
       "      <td>300 Mission Street, San Francisco CA</td>\n",
       "      <td>(300 Mission St, San Francisco, CA 94105, USA,...</td>\n",
       "      <td>(37.7913266, -122.3963941, 0.0)</td>\n",
       "      <td>37.791327</td>\n",
       "      <td>-122.396394</td>\n",
       "      <td>0.0</td>\n",
       "    </tr>\n",
       "    <tr>\n",
       "      <th>3</th>\n",
       "      <td>Nektar Therapeutics</td>\n",
       "      <td>San Francisco</td>\n",
       "      <td>Office, life science</td>\n",
       "      <td>Almost 200K sf</td>\n",
       "      <td>450 Mission Bay Boulevard and 360 Third Street...</td>\n",
       "      <td>No</td>\n",
       "      <td>N/A. Nektar's leases on its San Francisco HQ a...</td>\n",
       "      <td>NaN</td>\n",
       "      <td>04.27.2022</td>\n",
       "      <td>https://therealdeal.com/sanfrancisco/2022/04/2...</td>\n",
       "      <td>https://therealdeal.com/sanfrancisco/wp-conten...</td>\n",
       "      <td>Nektar Therapeutics</td>\n",
       "      <td></td>\n",
       "      <td>&lt;a href=\"https://therealdeal.com/sanfrancisco/...</td>\n",
       "      <td>450 Mission Bay Boulevard and 360 Third Street...</td>\n",
       "      <td>(360 3rd St, San Francisco, CA 94107, USA, (37...</td>\n",
       "      <td>(37.78267840000001, -122.3983676, 0.0)</td>\n",
       "      <td>37.782678</td>\n",
       "      <td>-122.398368</td>\n",
       "      <td>0.0</td>\n",
       "    </tr>\n",
       "  </tbody>\n",
       "</table>\n",
       "</div>"
      ],
      "text/plain": [
       "          Company name      Home city               Category  \\\n",
       "0                 Slack  San Francisco                Office   \n",
       "1                 Yahoo      San Jose                Office    \n",
       "2             Autodesk     San Rafael                 Office   \n",
       "3  Nektar Therapeutics   San Francisco  Office, life science   \n",
       "\n",
       "  Amount of space company listed for sublease or plans to list for sublease, in sf   \\\n",
       "0                                     About 208K sf                                   \n",
       "1  About 361K sf that’s on top of about 297K sf l...                                  \n",
       "2                                           117K sf                                   \n",
       "3                                     Almost 200K sf                                  \n",
       "\n",
       "  Address(es) of space company listed for sublease or plans to list for sublease   \\\n",
       "0                   45 Fremont Street, San Francisco                                \n",
       "1       1189, 1193 and 1199 Coleman Avenue, San Jose                                \n",
       "2                  300 Mission Street, San Francisco                                \n",
       "3  450 Mission Bay Boulevard and 360 Third Street...                                \n",
       "\n",
       "  Sublease taken?                                      Sublease term  \\\n",
       "0              No                                       Through 2030   \n",
       "1              No                               Through May 31, 2027   \n",
       "2              No                                                NaN   \n",
       "3              No  N/A. Nektar's leases on its San Francisco HQ a...   \n",
       "\n",
       "                                   Notes on sublease  \\\n",
       "0                                                NaN   \n",
       "1  TikTok parent ByteDance is in talks with Yahoo...   \n",
       "2  Iconiq Capital, a wealth management firm, agre...   \n",
       "3                                                NaN   \n",
       "\n",
       "  Date TRD wrote about sublease  \\\n",
       "0                    02.03.2022   \n",
       "1                    06.09.2022   \n",
       "2                    01.12.2022   \n",
       "3                    04.27.2022   \n",
       "\n",
       "                                       Link to story  \\\n",
       "0  https://therealdeal.com/sanfrancisco/2022/02/0...   \n",
       "1  https://therealdeal.com/sanfrancisco/2022/06/0...   \n",
       "2  https://therealdeal.com/sanfrancisco/2022/01/1...   \n",
       "3  https://therealdeal.com/sanfrancisco/2022/04/2...   \n",
       "\n",
       "                                         image_links    short_description  \\\n",
       "0  https://therealdeal.com/sanfrancisco/wp-conten...                Slack   \n",
       "1  https://therealdeal.com/sanfrancisco/wp-conten...                Yahoo   \n",
       "2  https://therealdeal.com/sanfrancisco/wp-conten...             Autodesk   \n",
       "3  https://therealdeal.com/sanfrancisco/wp-conten...  Nektar Therapeutics   \n",
       "\n",
       "  remaining_desc                                   description_link  \\\n",
       "0                 <a href=\"https://therealdeal.com/sanfrancisco/...   \n",
       "1                 <a href=\"https://therealdeal.com/sanfrancisco/...   \n",
       "2                 <a href=\"https://therealdeal.com/sanfrancisco/...   \n",
       "3                 <a href=\"https://therealdeal.com/sanfrancisco/...   \n",
       "\n",
       "                                         geo_address  \\\n",
       "0                45 Fremont Street, San Francisco CA   \n",
       "1    1189, 1193 and 1199 Coleman Avenue, San Jose CA   \n",
       "2               300 Mission Street, San Francisco CA   \n",
       "3  450 Mission Bay Boulevard and 360 Third Street...   \n",
       "\n",
       "                                                 loc  \\\n",
       "0  (45 Fremont Street, 45 Fremont St, San Francis...   \n",
       "1  (1199 Coleman Ave, San Jose, CA 95110, USA, (3...   \n",
       "2  (300 Mission St, San Francisco, CA 94105, USA,...   \n",
       "3  (360 3rd St, San Francisco, CA 94107, USA, (37...   \n",
       "\n",
       "                                    point        lat         lon  altitude  \n",
       "0         (37.7912489, -122.3971488, 0.0)  37.791249 -122.397149       0.0  \n",
       "1         (37.3547373, -121.9308227, 0.0)  37.354737 -121.930823       0.0  \n",
       "2         (37.7913266, -122.3963941, 0.0)  37.791327 -122.396394       0.0  \n",
       "3  (37.78267840000001, -122.3983676, 0.0)  37.782678 -122.398368       0.0  "
      ]
     },
     "execution_count": 50,
     "metadata": {},
     "output_type": "execute_result"
    }
   ],
   "source": [
    "df"
   ]
  },
  {
   "cell_type": "code",
   "execution_count": 51,
   "metadata": {},
   "outputs": [],
   "source": [
    "df.at[1,'Amount of space company listed for sublease or plans to list for sublease, in sf ']=('About 361K sf that’s on top of about 297K sf listed for sublease at these addresses in 2021')"
   ]
  },
  {
   "cell_type": "markdown",
   "metadata": {},
   "source": [
    "## HTML popup formatter"
   ]
  },
  {
   "cell_type": "code",
   "execution_count": 42,
   "metadata": {},
   "outputs": [],
   "source": [
    "def popup_html(row):\n",
    "    i = row\n",
    "    address = df['Address(es) of space company listed for sublease or plans to list for sublease '].iloc[i]\n",
    "    developer = df['Amount of space company listed for sublease or plans to list for sublease, in sf '].iloc[i]\n",
    "    description = df['description_link'].iloc[i]\n",
    "    image = df['image_links'].iloc[i]\n",
    "    \n",
    "    html = '''<!DOCTYPE html>\n",
    "    <html>\n",
    "    <img src={} width=\"256\" height=\"156\">'''.format(image) + '''<br>______________________________________<br>\n",
    "    Company: <strong>{}'''.format(description) + '''</strong></html><br>\n",
    "    Address: <em>{}'''.format(address) + '''</em><br>\n",
    "    Size of sublease: <strong><em>{}'''.format(developer) + '''</strong></em><br><br>\n",
    "    '''\n",
    "    return html\n"
   ]
  },
  {
   "cell_type": "markdown",
   "metadata": {},
   "source": [
    "### HTML reservoir"
   ]
  },
  {
   "cell_type": "code",
   "execution_count": 43,
   "metadata": {},
   "outputs": [],
   "source": [
    "#     Developer(s): <strong><em>{}'''.format(developer) + '''</strong></em><br><br>"
   ]
  },
  {
   "cell_type": "markdown",
   "metadata": {},
   "source": [
    "## Map Maker"
   ]
  },
  {
   "cell_type": "code",
   "execution_count": 44,
   "metadata": {},
   "outputs": [
    {
     "data": {
      "text/plain": [
       "'<a href=\"https://therealdeal.com/sanfrancisco/2022/02/03/slack-lists-more-than-200000-sf-of-sf-office-space-for-sublease/\">Slack</a>'"
      ]
     },
     "execution_count": 44,
     "metadata": {},
     "output_type": "execute_result"
    }
   ],
   "source": [
    "df.description_link[0]"
   ]
  },
  {
   "cell_type": "code",
   "execution_count": 49,
   "metadata": {},
   "outputs": [
    {
     "data": {
      "text/html": [
       "<div style=\"width:100%;\"><div style=\"position:relative;width:100%;height:0;padding-bottom:60%;\"><span style=\"color:#565656\">Make this Notebook Trusted to load map: File -> Trust Notebook</span><iframe srcdoc=\"&lt;!DOCTYPE html&gt;\n",
       "&lt;head&gt;    \n",
       "    &lt;meta http-equiv=&quot;content-type&quot; content=&quot;text/html; charset=UTF-8&quot; /&gt;\n",
       "    \n",
       "        &lt;script&gt;\n",
       "            L_NO_TOUCH = false;\n",
       "            L_DISABLE_3D = false;\n",
       "        &lt;/script&gt;\n",
       "    \n",
       "    &lt;style&gt;html, body {width: 100%;height: 100%;margin: 0;padding: 0;}&lt;/style&gt;\n",
       "    &lt;style&gt;#map {position:absolute;top:0;bottom:0;right:0;left:0;}&lt;/style&gt;\n",
       "    &lt;script src=&quot;https://cdn.jsdelivr.net/npm/leaflet@1.6.0/dist/leaflet.js&quot;&gt;&lt;/script&gt;\n",
       "    &lt;script src=&quot;https://code.jquery.com/jquery-1.12.4.min.js&quot;&gt;&lt;/script&gt;\n",
       "    &lt;script src=&quot;https://maxcdn.bootstrapcdn.com/bootstrap/3.2.0/js/bootstrap.min.js&quot;&gt;&lt;/script&gt;\n",
       "    &lt;script src=&quot;https://cdnjs.cloudflare.com/ajax/libs/Leaflet.awesome-markers/2.0.2/leaflet.awesome-markers.js&quot;&gt;&lt;/script&gt;\n",
       "    &lt;link rel=&quot;stylesheet&quot; href=&quot;https://cdn.jsdelivr.net/npm/leaflet@1.6.0/dist/leaflet.css&quot;/&gt;\n",
       "    &lt;link rel=&quot;stylesheet&quot; href=&quot;https://maxcdn.bootstrapcdn.com/bootstrap/3.2.0/css/bootstrap.min.css&quot;/&gt;\n",
       "    &lt;link rel=&quot;stylesheet&quot; href=&quot;https://maxcdn.bootstrapcdn.com/bootstrap/3.2.0/css/bootstrap-theme.min.css&quot;/&gt;\n",
       "    &lt;link rel=&quot;stylesheet&quot; href=&quot;https://maxcdn.bootstrapcdn.com/font-awesome/4.6.3/css/font-awesome.min.css&quot;/&gt;\n",
       "    &lt;link rel=&quot;stylesheet&quot; href=&quot;https://cdnjs.cloudflare.com/ajax/libs/Leaflet.awesome-markers/2.0.2/leaflet.awesome-markers.css&quot;/&gt;\n",
       "    &lt;link rel=&quot;stylesheet&quot; href=&quot;https://cdn.jsdelivr.net/gh/python-visualization/folium/folium/templates/leaflet.awesome.rotate.min.css&quot;/&gt;\n",
       "    \n",
       "            &lt;meta name=&quot;viewport&quot; content=&quot;width=device-width,\n",
       "                initial-scale=1.0, maximum-scale=1.0, user-scalable=no&quot; /&gt;\n",
       "            &lt;style&gt;\n",
       "                #map_9d321ee392fc5a3571e610f49532315c {\n",
       "                    position: relative;\n",
       "                    width: 100.0%;\n",
       "                    height: 100.0%;\n",
       "                    left: 0.0%;\n",
       "                    top: 0.0%;\n",
       "                }\n",
       "            &lt;/style&gt;\n",
       "        \n",
       "&lt;/head&gt;\n",
       "&lt;body&gt;    \n",
       "    \n",
       "              &lt;h3 align=&quot;center&quot; style=&quot;font-size:16px&quot;&gt;&lt;b&gt;Bay Area companies that decided to put space on the market for sublease, January 2022 to July 2022&lt;/b&gt;&lt;/h3&gt;\n",
       "             \n",
       "    \n",
       "            &lt;div class=&quot;folium-map&quot; id=&quot;map_9d321ee392fc5a3571e610f49532315c&quot; &gt;&lt;/div&gt;\n",
       "        \n",
       "&lt;/body&gt;\n",
       "&lt;script&gt;    \n",
       "    \n",
       "            var map_9d321ee392fc5a3571e610f49532315c = L.map(\n",
       "                &quot;map_9d321ee392fc5a3571e610f49532315c&quot;,\n",
       "                {\n",
       "                    center: [37.6799978, -122.28068329999999],\n",
       "                    crs: L.CRS.EPSG3857,\n",
       "                    zoom: 9,\n",
       "                    zoomControl: true,\n",
       "                    preferCanvas: false,\n",
       "                }\n",
       "            );\n",
       "\n",
       "            \n",
       "\n",
       "        \n",
       "    \n",
       "            var tile_layer_123d4e9662e0403e0a9e0f2907aba1bd = L.tileLayer(\n",
       "                &quot;https://{s}.tile.openstreetmap.org/{z}/{x}/{y}.png&quot;,\n",
       "                {&quot;attribution&quot;: &quot;Data by \\u0026copy; \\u003ca href=\\&quot;http://openstreetmap.org\\&quot;\\u003eOpenStreetMap\\u003c/a\\u003e, under \\u003ca href=\\&quot;http://www.openstreetmap.org/copyright\\&quot;\\u003eODbL\\u003c/a\\u003e.&quot;, &quot;detectRetina&quot;: false, &quot;maxNativeZoom&quot;: 18, &quot;maxZoom&quot;: 18, &quot;minZoom&quot;: 0, &quot;noWrap&quot;: false, &quot;opacity&quot;: 1, &quot;subdomains&quot;: &quot;abc&quot;, &quot;tms&quot;: false}\n",
       "            ).addTo(map_9d321ee392fc5a3571e610f49532315c);\n",
       "        \n",
       "    \n",
       "            var marker_a23604d3736a49c77dcc6a3dd911171e = L.marker(\n",
       "                [37.7912489, -122.3971488],\n",
       "                {}\n",
       "            ).addTo(map_9d321ee392fc5a3571e610f49532315c);\n",
       "        \n",
       "    \n",
       "        var popup_b436eae072ea43b87f2b00ccf9d3f198 = L.popup({&quot;maxWidth&quot;: &quot;100%&quot;});\n",
       "\n",
       "        \n",
       "            var html_a759f2e7f250fdb4ca2a1c9a8e6ce7c7 = $(`&lt;div id=&quot;html_a759f2e7f250fdb4ca2a1c9a8e6ce7c7&quot; style=&quot;width: 100.0%; height: 100.0%;&quot;&gt;&lt;!DOCTYPE html&gt;     &lt;html&gt;     &lt;img src=https://therealdeal.com/sanfrancisco/wp-content/uploads/2022/02/SFO-Slack-lists-more-than-200000-sf-of-SF-office-space-for-sublease-MAIN-705x439.jpg width=&quot;256&quot; height=&quot;156&quot;&gt;&lt;br&gt;______________________________________&lt;br&gt;     Company: &lt;strong&gt;&lt;a href=&quot;https://therealdeal.com/sanfrancisco/2022/02/03/slack-lists-more-than-200000-sf-of-sf-office-space-for-sublease/&quot;&gt;Slack&lt;/a&gt;&lt;/strong&gt;&lt;/html&gt;&lt;br&gt;     Address: &lt;em&gt;45 Fremont Street, San Francisco&lt;/em&gt;&lt;br&gt;     Size of sublease: &lt;strong&gt;&lt;em&gt;About 208K sf &lt;/strong&gt;&lt;/em&gt;&lt;br&gt;&lt;br&gt;     &lt;/div&gt;`)[0];\n",
       "            popup_b436eae072ea43b87f2b00ccf9d3f198.setContent(html_a759f2e7f250fdb4ca2a1c9a8e6ce7c7);\n",
       "        \n",
       "\n",
       "        marker_a23604d3736a49c77dcc6a3dd911171e.bindPopup(popup_b436eae072ea43b87f2b00ccf9d3f198)\n",
       "        ;\n",
       "\n",
       "        \n",
       "    \n",
       "    \n",
       "            var marker_bd32f5fe0dfd5ccac81b9173b6807688 = L.marker(\n",
       "                [37.3547373, -121.9308227],\n",
       "                {}\n",
       "            ).addTo(map_9d321ee392fc5a3571e610f49532315c);\n",
       "        \n",
       "    \n",
       "        var popup_caab07b14d4be7646d7fcb8a55213012 = L.popup({&quot;maxWidth&quot;: &quot;100%&quot;});\n",
       "\n",
       "        \n",
       "            var html_9e9f2dbc42d13142e215622f94adb737 = $(`&lt;div id=&quot;html_9e9f2dbc42d13142e215622f94adb737&quot; style=&quot;width: 100.0%; height: 100.0%;&quot;&gt;&lt;!DOCTYPE html&gt;     &lt;html&gt;     &lt;img src=https://therealdeal.com/sanfrancisco/wp-content/uploads/2022/06/main-SF-TikTok-parent-eyeing-658K-sf-Yahoo-San-Jose-campus-sublease-705x439.jpg width=&quot;256&quot; height=&quot;156&quot;&gt;&lt;br&gt;______________________________________&lt;br&gt;     Company: &lt;strong&gt;&lt;a href=&quot;https://therealdeal.com/sanfrancisco/2022/06/09/tiktok-parent-eyes-658k-sf-yahoo-san-jose-campus-sublease/&quot;&gt;Yahoo&lt;/a&gt;&lt;/strong&gt;&lt;/html&gt;&lt;br&gt;     Address: &lt;em&gt;1189, 1193 and 1199 Coleman Avenue, San Jose&lt;/em&gt;&lt;br&gt;     Size of sublease: &lt;strong&gt;&lt;em&gt;About 361K sf that’s on top of about 297K sf listed for sublease at this address in 2021&lt;/strong&gt;&lt;/em&gt;&lt;br&gt;&lt;br&gt;     &lt;/div&gt;`)[0];\n",
       "            popup_caab07b14d4be7646d7fcb8a55213012.setContent(html_9e9f2dbc42d13142e215622f94adb737);\n",
       "        \n",
       "\n",
       "        marker_bd32f5fe0dfd5ccac81b9173b6807688.bindPopup(popup_caab07b14d4be7646d7fcb8a55213012)\n",
       "        ;\n",
       "\n",
       "        \n",
       "    \n",
       "    \n",
       "            var marker_fea4b46d8177f4ba2bb5c939ae39bf44 = L.marker(\n",
       "                [37.7913266, -122.3963941],\n",
       "                {}\n",
       "            ).addTo(map_9d321ee392fc5a3571e610f49532315c);\n",
       "        \n",
       "    \n",
       "        var popup_10a91b1165cf62cf1f7108d77226d863 = L.popup({&quot;maxWidth&quot;: &quot;100%&quot;});\n",
       "\n",
       "        \n",
       "            var html_4d038c76c8930b590b5cba9b12c1377a = $(`&lt;div id=&quot;html_4d038c76c8930b590b5cba9b12c1377a&quot; style=&quot;width: 100.0%; height: 100.0%;&quot;&gt;&lt;!DOCTYPE html&gt;     &lt;html&gt;     &lt;img src=https://therealdeal.com/sanfrancisco/wp-content/uploads/2022/01/SFO-Autodesk-to-close-117K-sf-San-Francisco-office-eight-months-after-opening-it-MAIN.jpg width=&quot;256&quot; height=&quot;156&quot;&gt;&lt;br&gt;______________________________________&lt;br&gt;     Company: &lt;strong&gt;&lt;a href=&quot;https://therealdeal.com/sanfrancisco/2022/01/12/autodesk-to-close-117k-sf-san-francisco-office-eight-months-after-opening-it/&quot;&gt;Autodesk&lt;/a&gt; &lt;/strong&gt;&lt;/html&gt;&lt;br&gt;     Address: &lt;em&gt;300 Mission Street, San Francisco&lt;/em&gt;&lt;br&gt;     Size of sublease: &lt;strong&gt;&lt;em&gt;117K sf &lt;/strong&gt;&lt;/em&gt;&lt;br&gt;&lt;br&gt;     &lt;/div&gt;`)[0];\n",
       "            popup_10a91b1165cf62cf1f7108d77226d863.setContent(html_4d038c76c8930b590b5cba9b12c1377a);\n",
       "        \n",
       "\n",
       "        marker_fea4b46d8177f4ba2bb5c939ae39bf44.bindPopup(popup_10a91b1165cf62cf1f7108d77226d863)\n",
       "        ;\n",
       "\n",
       "        \n",
       "    \n",
       "    \n",
       "            var marker_f4b860bf90980dc33fc0f178167241f4 = L.marker(\n",
       "                [37.78267840000001, -122.3983676],\n",
       "                {}\n",
       "            ).addTo(map_9d321ee392fc5a3571e610f49532315c);\n",
       "        \n",
       "    \n",
       "        var popup_f396f936a317570d65b93de506663db3 = L.popup({&quot;maxWidth&quot;: &quot;100%&quot;});\n",
       "\n",
       "        \n",
       "            var html_463c049093aa5897958592bd680acf05 = $(`&lt;div id=&quot;html_463c049093aa5897958592bd680acf05&quot; style=&quot;width: 100.0%; height: 100.0%;&quot;&gt;&lt;!DOCTYPE html&gt;     &lt;html&gt;     &lt;img src=https://therealdeal.com/sanfrancisco/wp-content/uploads/2022/04/MSF-Nektar-Therapeutics-to-jettison-500-jobs-and-200K-sf-of-office-space-705x439.jpg width=&quot;256&quot; height=&quot;156&quot;&gt;&lt;br&gt;______________________________________&lt;br&gt;     Company: &lt;strong&gt;&lt;a href=&quot;https://therealdeal.com/sanfrancisco/2022/04/27/nektar-therapeutics-looks-to-sublease-200k-sf-in-mission-bay/&quot;&gt;Nektar Therapeutics&lt;/a&gt; &lt;/strong&gt;&lt;/html&gt;&lt;br&gt;     Address: &lt;em&gt;450 Mission Bay Boulevard and 360 Third Street, San Francisco&lt;/em&gt;&lt;br&gt;     Size of sublease: &lt;strong&gt;&lt;em&gt;Almost 200K sf&lt;/strong&gt;&lt;/em&gt;&lt;br&gt;&lt;br&gt;     &lt;/div&gt;`)[0];\n",
       "            popup_f396f936a317570d65b93de506663db3.setContent(html_463c049093aa5897958592bd680acf05);\n",
       "        \n",
       "\n",
       "        marker_f4b860bf90980dc33fc0f178167241f4.bindPopup(popup_f396f936a317570d65b93de506663db3)\n",
       "        ;\n",
       "\n",
       "        \n",
       "    \n",
       "    \n",
       "            map_9d321ee392fc5a3571e610f49532315c.fitBounds(\n",
       "                [37.6799978, -122.28068329999999],\n",
       "                {&quot;maxZoom&quot;: 15}\n",
       "            );\n",
       "        \n",
       "&lt;/script&gt;\" style=\"position:absolute;width:100%;height:100%;left:0;top:0;border:none !important;\" allowfullscreen webkitallowfullscreen mozallowfullscreen></iframe></div></div>"
      ],
      "text/plain": [
       "<folium.folium.Map at 0x121db30d0>"
      ]
     },
     "execution_count": 49,
     "metadata": {},
     "output_type": "execute_result"
    }
   ],
   "source": [
    "import folium\n",
    "import branca\n",
    "\n",
    "f = folium.Figure(width=750, height=750)\n",
    "m = folium.Map(location=df[[\"lat\", \"lon\"]].mean().to_list(),zoom_start=9)\n",
    "\n",
    "title_html = '''\n",
    "              <h3 align=\"center\" style=\"font-size:16px\"><b>{}</b></h3>\n",
    "             '''.format(f'Bay Area companies that decided to put space on the market for sublease, January 2022 to July 2022')\n",
    "\n",
    "for i in range(0,len(df)):\n",
    "    html = popup_html(i)\n",
    "    iframe = branca.element.IFrame(html=html)\n",
    "    popup = folium.Popup(folium.Html(html, script=True))\n",
    "    folium.Marker([df['lat'].iloc[i],df['lon'].iloc[i]],\n",
    "                 popup=popup).add_to(m)\n",
    "\n",
    "m.get_root().html.add_child(folium.Element(title_html))\n",
    "m.fit_bounds(bounds=df[['lat','lon']].mean().to_list(),max_zoom=15)\n",
    "# m.add_to(f)\n",
    "m"
   ]
  },
  {
   "cell_type": "code",
   "execution_count": 46,
   "metadata": {},
   "outputs": [],
   "source": [
    "m.save('index.html')"
   ]
  },
  {
   "cell_type": "markdown",
   "metadata": {},
   "source": [
    "## Map URL snagger"
   ]
  },
  {
   "cell_type": "markdown",
   "metadata": {},
   "source": [
    "Map template URL: `https://trd-digital.github.io/trd-news-interactive-maps/{map-folder-name}`"
   ]
  },
  {
   "cell_type": "code",
   "execution_count": 47,
   "metadata": {},
   "outputs": [],
   "source": [
    "base_name = 'https://trd-digital.github.io/trd-news-interactive-maps/'"
   ]
  },
  {
   "cell_type": "code",
   "execution_count": 48,
   "metadata": {},
   "outputs": [
    {
     "name": "stdout",
     "output_type": "stream",
     "text": [
      "https://trd-digital.github.io/trd-news-interactive-maps/bay_area_company_sublease\n"
     ]
    }
   ],
   "source": [
    "cwd = os.getcwd()\n",
    "\n",
    "cwd = cwd.split('/')\n",
    "\n",
    "final_name = base_name + cwd[-1]\n",
    "print(final_name)"
   ]
  }
 ],
 "metadata": {
  "kernelspec": {
   "display_name": "Python 3 (ipykernel)",
   "language": "python",
   "name": "python3"
  },
  "language_info": {
   "codemirror_mode": {
    "name": "ipython",
    "version": 3
   },
   "file_extension": ".py",
   "mimetype": "text/x-python",
   "name": "python",
   "nbconvert_exporter": "python",
   "pygments_lexer": "ipython3",
   "version": "3.10.3"
  },
  "toc": {
   "base_numbering": 1,
   "nav_menu": {},
   "number_sections": true,
   "sideBar": true,
   "skip_h1_title": false,
   "title_cell": "Table of Contents",
   "title_sidebar": "Contents",
   "toc_cell": false,
   "toc_position": {},
   "toc_section_display": true,
   "toc_window_display": false
  }
 },
 "nbformat": 4,
 "nbformat_minor": 4
}
