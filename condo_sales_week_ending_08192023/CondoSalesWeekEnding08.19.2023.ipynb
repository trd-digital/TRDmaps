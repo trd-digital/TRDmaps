{
 "cells": [
  {
   "cell_type": "markdown",
   "metadata": {},
   "source": [
    "## Imports"
   ]
  },
  {
   "cell_type": "code",
   "execution_count": 3,
   "metadata": {},
   "outputs": [],
   "source": [
    "import googlemaps\n",
    "import pandas as pd\n",
    "import numpy as np\n",
    "import re\n",
    "import os\n",
    "import geopandas as gpd\n",
    "import folium\n",
    "import tabula"
   ]
  },
  {
   "cell_type": "markdown",
   "metadata": {},
   "source": [
    "## Read-in"
   ]
  },
  {
   "cell_type": "code",
   "execution_count": 4,
   "metadata": {},
   "outputs": [],
   "source": [
    "# Gotta figure out how to get rid of the java error.\n",
    "# SO: https://stackoverflow.com/questions/54817211/java-command-is-not-found-from-this-python-process-please-ensure-java-is-inst\n",
    "\n",
    "dsf = tabula.read_pdf('condo.pdf', pages='all')"
   ]
  },
  {
   "cell_type": "markdown",
   "metadata": {},
   "source": [
    "## Clean Data"
   ]
  },
  {
   "cell_type": "code",
   "execution_count": 5,
   "metadata": {},
   "outputs": [],
   "source": [
    "df = dsf[0]\n",
    "df.columns = df.iloc[0]\n",
    "df = df[1:]\n",
    "df = df.drop(columns=df.columns[0])\n",
    "df = df.replace(np.nan, 'Not Available', regex=True)\n",
    "df = df.rename(columns={'Building / Address / City': 'building_address_city','Days on\\rMarket':'days_on_market',\\\n",
    "                        'Price /\\rSq. Ft.':'price_per_sqft'})\n",
    "df['building_address_city'] = df['building_address_city'].str.replace('^0', '', regex=True)\n",
    "df['geo_address'] = df['building_address_city']\n",
    "df['geo_address'] = df['geo_address'].map(lambda x: re.sub(r'\\r', ' ', x))\n",
    "df = df.replace('\\n',' ',regex=True)\n",
    "pattern = r'^(?P<building_name>[\\d\\s]*[A-Za-z\\s]+)\\s(?P<address>.+)\\s(?P<city>[A-Za-z\\s]+)$'\n",
    "df2 = df['geo_address']\n",
    "df2 = df2.to_frame()\n",
    "df2[['building_name', 'address', 'city']] = df2['geo_address'].str.extract(pattern, expand=True)"
   ]
  },
  {
   "cell_type": "markdown",
   "metadata": {},
   "source": [
    "Review this later (it's about how to properly merge DFs): https://pandas.pydata.org/pandas-docs/stable/user_guide/merging.html"
   ]
  },
  {
   "cell_type": "markdown",
   "metadata": {},
   "source": [
    "## Geocode"
   ]
  },
  {
   "cell_type": "code",
   "execution_count": 6,
   "metadata": {},
   "outputs": [],
   "source": [
    "result = pd.merge(df,df2,left_index=True, right_index=True)\n",
    "df = result\n",
    "df = df.drop(columns='city')"
   ]
  },
  {
   "cell_type": "code",
   "execution_count": 7,
   "metadata": {},
   "outputs": [],
   "source": [
    "%store -r google_maps_API_Key\n",
    "gmaps_key = googlemaps.Client(key=google_maps_API_Key)"
   ]
  },
  {
   "cell_type": "code",
   "execution_count": 8,
   "metadata": {},
   "outputs": [],
   "source": [
    "def geocode(add):\n",
    "    g = gmaps_key.geocode(add)\n",
    "    lat = g[0][\"geometry\"][\"location\"][\"lat\"]\n",
    "    lng = g[0][\"geometry\"][\"location\"][\"lng\"]\n",
    "    return (lat, lng)\n",
    "\n",
    "df['geocoded'] = df['geo_address_x'].apply(geocode)"
   ]
  },
  {
   "cell_type": "code",
   "execution_count": 9,
   "metadata": {},
   "outputs": [],
   "source": [
    "df['geocoded'] = df['geocoded'].astype(str)\n",
    "df[['lat', 'lon']] = df['geocoded'].str.strip('()').str.split(', ', expand=True)\n",
    "df['lat'] = df['lat'].astype(float)\n",
    "df['lon'] = df['lon'].astype(float)"
   ]
  },
  {
   "cell_type": "markdown",
   "metadata": {},
   "source": [
    "Folium documentation link: https://python-visualization.github.io/folium/index.html\n",
    "\n",
    "Folium is the library that lets us use leaflet with Python, since it's meant to be used with JavaScript.\n",
    "\n",
    "For adding titles: https://stackoverflow.com/questions/61928013/adding-a-title-or-text-to-a-folium-map"
   ]
  },
  {
   "cell_type": "markdown",
   "metadata": {},
   "source": [
    "## Correction section"
   ]
  },
  {
   "cell_type": "code",
   "execution_count": 10,
   "metadata": {},
   "outputs": [],
   "source": [
    "# df.at[index#,'col_name']"
   ]
  },
  {
   "cell_type": "markdown",
   "metadata": {},
   "source": [
    "## Format Data"
   ]
  },
  {
   "cell_type": "code",
   "execution_count": 11,
   "metadata": {},
   "outputs": [],
   "source": [
    "### Insert NaNs if needed ###\n",
    "df = df.replace('N/A', np.nan)"
   ]
  },
  {
   "cell_type": "code",
   "execution_count": 12,
   "metadata": {},
   "outputs": [],
   "source": [
    "df['int_Sale_Price'] = df['Sale Price'].str.replace('$','',regex=False)"
   ]
  },
  {
   "cell_type": "code",
   "execution_count": 13,
   "metadata": {},
   "outputs": [],
   "source": [
    "df['int_Sale_Price'] = df['int_Sale_Price'].str.replace(',','',regex=False)"
   ]
  },
  {
   "cell_type": "code",
   "execution_count": 14,
   "metadata": {},
   "outputs": [],
   "source": [
    "df['int_Sale_Price'] = pd.to_numeric(df['int_Sale_Price'])"
   ]
  },
  {
   "cell_type": "code",
   "execution_count": 15,
   "metadata": {},
   "outputs": [],
   "source": [
    "df['price_per_sqft'] = df['price_per_sqft'].str.replace('$','',regex=False)\n",
    "df['price_per_sqft'] = df['price_per_sqft'].str.replace(',','',regex=False)\n",
    "df['price_per_sqft'] = pd.to_numeric(df['price_per_sqft'])\n",
    "\n",
    "df['days_on_market'] = pd.to_numeric(df['days_on_market'])"
   ]
  },
  {
   "cell_type": "markdown",
   "metadata": {},
   "source": [
    "## Color-code top sale"
   ]
  },
  {
   "cell_type": "code",
   "execution_count": 16,
   "metadata": {},
   "outputs": [],
   "source": [
    "### Insert RANK values ###\n",
    "df['RANK'] = range(1, len(df) + 1)\n",
    "# use numpy to assign values to the 'COLOR' column\n",
    "df['COLOR'] = np.where(df['RANK'] <= 1, 'orange', 'blue')"
   ]
  },
  {
   "cell_type": "markdown",
   "metadata": {},
   "source": [
    "## HTML Popup Formatter"
   ]
  },
  {
   "cell_type": "code",
   "execution_count": 17,
   "metadata": {},
   "outputs": [
    {
     "data": {
      "text/plain": [
       "Index(['building_address_city', 'Close Date', 'days_on_market', 'Sale Price',\n",
       "       'Sq. Ft.', 'price_per_sqft', 'Agent', 'Listing Broker', 'Buyer Agent',\n",
       "       'Buyer Broker', 'geo_address_x', 'geo_address_y', 'building_name',\n",
       "       'address', 'geocoded', 'lat', 'lon', 'int_Sale_Price', 'RANK', 'COLOR'],\n",
       "      dtype='object')"
      ]
     },
     "execution_count": 17,
     "metadata": {},
     "output_type": "execute_result"
    }
   ],
   "source": [
    "df.columns"
   ]
  },
  {
   "cell_type": "code",
   "execution_count": 18,
   "metadata": {},
   "outputs": [],
   "source": [
    "def popup_html(row):\n",
    "    building_name = row['building_name']\n",
    "    price = row['Sale Price']\n",
    "    days_on_market = row['days_on_market']\n",
    "    listing_agent = row['Agent']\n",
    "    buyers_agent = row['Buyer Agent']\n",
    "    psf = row['price_per_sqft']\n",
    "    address = row['address']\n",
    "    \n",
    "    html = '''<!DOCTYPE html>\n",
    "    <html>\n",
    "    <strong>Building Name: </strong>{}'''.format(building_name) + '''<br>\n",
    "    <strong>Sale Price: </strong>{}'''.format(price) + '''<br>\n",
    "    <strong>Days on Market: </strong>{}'''.format(days_on_market) + '''<br>\n",
    "    <strong>Listing Agent: </strong>{}'''.format(listing_agent) + '''<br>\n",
    "    <strong>Buyer's Agent: </strong>{}'''.format(buyers_agent) + '''<br>\n",
    "    <strong>Price sq ft: </strong>${}'''.format(psf) + '''<br>\n",
    "    <strong>Address: </strong>{}'''.format(address) + '''<br>\n",
    "    </html>\n",
    "    '''\n",
    "    return html"
   ]
  },
  {
   "cell_type": "code",
   "execution_count": 25,
   "metadata": {},
   "outputs": [
    {
     "data": {
      "text/html": [
       "<div style=\"width:100%;\"><div style=\"position:relative;width:100%;height:0;padding-bottom:60%;\"><span style=\"color:#565656\">Make this Notebook Trusted to load map: File -> Trust Notebook</span><iframe srcdoc=\"&lt;!DOCTYPE html&gt;\n",
       "&lt;head&gt;    \n",
       "    &lt;meta http-equiv=&quot;content-type&quot; content=&quot;text/html; charset=UTF-8&quot; /&gt;\n",
       "    \n",
       "        &lt;script&gt;\n",
       "            L_NO_TOUCH = false;\n",
       "            L_DISABLE_3D = false;\n",
       "        &lt;/script&gt;\n",
       "    \n",
       "    &lt;style&gt;html, body {width: 100%;height: 100%;margin: 0;padding: 0;}&lt;/style&gt;\n",
       "    &lt;style&gt;#map {position:absolute;top:0;bottom:0;right:0;left:0;}&lt;/style&gt;\n",
       "    &lt;script src=&quot;https://cdn.jsdelivr.net/npm/leaflet@1.6.0/dist/leaflet.js&quot;&gt;&lt;/script&gt;\n",
       "    &lt;script src=&quot;https://code.jquery.com/jquery-1.12.4.min.js&quot;&gt;&lt;/script&gt;\n",
       "    &lt;script src=&quot;https://maxcdn.bootstrapcdn.com/bootstrap/3.2.0/js/bootstrap.min.js&quot;&gt;&lt;/script&gt;\n",
       "    &lt;script src=&quot;https://cdnjs.cloudflare.com/ajax/libs/Leaflet.awesome-markers/2.0.2/leaflet.awesome-markers.js&quot;&gt;&lt;/script&gt;\n",
       "    &lt;link rel=&quot;stylesheet&quot; href=&quot;https://cdn.jsdelivr.net/npm/leaflet@1.6.0/dist/leaflet.css&quot;/&gt;\n",
       "    &lt;link rel=&quot;stylesheet&quot; href=&quot;https://maxcdn.bootstrapcdn.com/bootstrap/3.2.0/css/bootstrap.min.css&quot;/&gt;\n",
       "    &lt;link rel=&quot;stylesheet&quot; href=&quot;https://maxcdn.bootstrapcdn.com/bootstrap/3.2.0/css/bootstrap-theme.min.css&quot;/&gt;\n",
       "    &lt;link rel=&quot;stylesheet&quot; href=&quot;https://maxcdn.bootstrapcdn.com/font-awesome/4.6.3/css/font-awesome.min.css&quot;/&gt;\n",
       "    &lt;link rel=&quot;stylesheet&quot; href=&quot;https://cdnjs.cloudflare.com/ajax/libs/Leaflet.awesome-markers/2.0.2/leaflet.awesome-markers.css&quot;/&gt;\n",
       "    &lt;link rel=&quot;stylesheet&quot; href=&quot;https://cdn.jsdelivr.net/gh/python-visualization/folium/folium/templates/leaflet.awesome.rotate.min.css&quot;/&gt;\n",
       "    \n",
       "            &lt;meta name=&quot;viewport&quot; content=&quot;width=device-width,\n",
       "                initial-scale=1.0, maximum-scale=1.0, user-scalable=no&quot; /&gt;\n",
       "            &lt;style&gt;\n",
       "                #map_f4eb066286bf61f435b329fca3a1278c {\n",
       "                    position: relative;\n",
       "                    width: 100.0%;\n",
       "                    height: 100.0%;\n",
       "                    left: 0.0%;\n",
       "                    top: 0.0%;\n",
       "                }\n",
       "            &lt;/style&gt;\n",
       "        \n",
       "&lt;/head&gt;\n",
       "&lt;body&gt;    \n",
       "    \n",
       "              &lt;h3 align=&quot;center&quot; style=&quot;font-size:16px&quot;&gt;&lt;b&gt;Recent Miami-Dade Condo Sales &lt;/b&gt;&lt;/h3&gt;\n",
       "             \n",
       "    \n",
       "                &lt;p align=&quot;center&quot; style=&quot;vertical-align: bottom; font-size:13px&quot;&gt;&lt;i&gt;August 13th - August 21st&lt;/i&gt;&lt;/p&gt;\n",
       "                \n",
       "    \n",
       "            &lt;div class=&quot;folium-map&quot; id=&quot;map_f4eb066286bf61f435b329fca3a1278c&quot; &gt;&lt;/div&gt;\n",
       "        \n",
       "&lt;/body&gt;\n",
       "&lt;script&gt;    \n",
       "    \n",
       "            var map_f4eb066286bf61f435b329fca3a1278c = L.map(\n",
       "                &quot;map_f4eb066286bf61f435b329fca3a1278c&quot;,\n",
       "                {\n",
       "                    center: [25.85726485, -80.14076691999999],\n",
       "                    crs: L.CRS.EPSG3857,\n",
       "                    zoom: 9.5,\n",
       "                    zoomControl: true,\n",
       "                    preferCanvas: false,\n",
       "                }\n",
       "            );\n",
       "\n",
       "            \n",
       "\n",
       "        \n",
       "    \n",
       "            var feature_group_59365453d40ba55074b57f4765c579cd = L.featureGroup(\n",
       "                {}\n",
       "            ).addTo(map_f4eb066286bf61f435b329fca3a1278c);\n",
       "        \n",
       "    \n",
       "            var marker_f06ca3814727fcfb6469b1f80d42b809 = L.marker(\n",
       "                [25.8884913, -80.1228812],\n",
       "                {&quot;fill&quot;: true, &quot;radius&quot;: 5}\n",
       "            ).addTo(feature_group_59365453d40ba55074b57f4765c579cd);\n",
       "        \n",
       "    \n",
       "            var icon_45c5997779801224c2277ce09f7809f0 = L.AwesomeMarkers.icon(\n",
       "                {&quot;extraClasses&quot;: &quot;fa-rotate-0&quot;, &quot;icon&quot;: &quot;info-sign&quot;, &quot;iconColor&quot;: &quot;white&quot;, &quot;markerColor&quot;: &quot;orange&quot;, &quot;prefix&quot;: &quot;glyphicon&quot;}\n",
       "            );\n",
       "            marker_f06ca3814727fcfb6469b1f80d42b809.setIcon(icon_45c5997779801224c2277ce09f7809f0);\n",
       "        \n",
       "    \n",
       "        var popup_3ec56494a8eb31a8fad1f5abd6ca6883 = L.popup({&quot;maxWidth&quot;: 400});\n",
       "\n",
       "        \n",
       "            \n",
       "                var html_db39ffddc0cc215d2447d2005801dde2 = $(`&lt;div id=&quot;html_db39ffddc0cc215d2447d2005801dde2&quot; style=&quot;width: 100.0%; height: 100.0%;&quot;&gt;&lt;!DOCTYPE html&gt;     &lt;html&gt;     &lt;strong&gt;Building Name: &lt;/strong&gt;St Regis Bal Harbour&lt;br&gt;     &lt;strong&gt;Sale Price: &lt;/strong&gt;$10,500,000.00&lt;br&gt;     &lt;strong&gt;Days on Market: &lt;/strong&gt;141&lt;br&gt;     &lt;strong&gt;Listing Agent: &lt;/strong&gt;Ryan Mendell&lt;br&gt;     &lt;strong&gt;Buyer&#x27;s Agent: &lt;/strong&gt;Melissa Puig&lt;br&gt;     &lt;strong&gt;Price sq ft: &lt;/strong&gt;$2684.05&lt;br&gt;     &lt;strong&gt;Address: &lt;/strong&gt;9701 Collins Ave 1503S Bal&lt;br&gt;     &lt;/html&gt;     &lt;/div&gt;`)[0];\n",
       "                popup_3ec56494a8eb31a8fad1f5abd6ca6883.setContent(html_db39ffddc0cc215d2447d2005801dde2);\n",
       "            \n",
       "        \n",
       "\n",
       "        marker_f06ca3814727fcfb6469b1f80d42b809.bindPopup(popup_3ec56494a8eb31a8fad1f5abd6ca6883)\n",
       "        ;\n",
       "\n",
       "        \n",
       "    \n",
       "    \n",
       "            var feature_group_9818cc783f10feb68e0f5fbc2b96f8fc = L.featureGroup(\n",
       "                {}\n",
       "            ).addTo(map_f4eb066286bf61f435b329fca3a1278c);\n",
       "        \n",
       "    \n",
       "            var marker_c3f74317d2b620780f1676cb769f5af3 = L.marker(\n",
       "                [25.9349392, -80.12091819999999],\n",
       "                {&quot;fill&quot;: true, &quot;radius&quot;: 5}\n",
       "            ).addTo(feature_group_9818cc783f10feb68e0f5fbc2b96f8fc);\n",
       "        \n",
       "    \n",
       "            var icon_093c886e971cc273e520cd2f0da8cbde = L.AwesomeMarkers.icon(\n",
       "                {&quot;extraClasses&quot;: &quot;fa-rotate-0&quot;, &quot;icon&quot;: &quot;info-sign&quot;, &quot;iconColor&quot;: &quot;white&quot;, &quot;markerColor&quot;: &quot;blue&quot;, &quot;prefix&quot;: &quot;glyphicon&quot;}\n",
       "            );\n",
       "            marker_c3f74317d2b620780f1676cb769f5af3.setIcon(icon_093c886e971cc273e520cd2f0da8cbde);\n",
       "        \n",
       "    \n",
       "        var popup_0c731c707d21f73f59cb36f4d9a17d00 = L.popup({&quot;maxWidth&quot;: 400});\n",
       "\n",
       "        \n",
       "            \n",
       "                var html_4b17bec688db644d9aa77d0cb60a77a8 = $(`&lt;div id=&quot;html_4b17bec688db644d9aa77d0cb60a77a8&quot; style=&quot;width: 100.0%; height: 100.0%;&quot;&gt;&lt;!DOCTYPE html&gt;     &lt;html&gt;     &lt;strong&gt;Building Name: &lt;/strong&gt;Muse Residences&lt;br&gt;     &lt;strong&gt;Sale Price: &lt;/strong&gt;$5,450,000.00&lt;br&gt;     &lt;strong&gt;Days on Market: &lt;/strong&gt;3&lt;br&gt;     &lt;strong&gt;Listing Agent: &lt;/strong&gt;Sheerel Toledano&lt;br&gt;     &lt;strong&gt;Buyer&#x27;s Agent: &lt;/strong&gt;Valentina Wish&lt;br&gt;     &lt;strong&gt;Price sq ft: &lt;/strong&gt;$1705.79&lt;br&gt;     &lt;strong&gt;Address: &lt;/strong&gt;17141 Collins Ave 1601 Sunny Isles&lt;br&gt;     &lt;/html&gt;     &lt;/div&gt;`)[0];\n",
       "                popup_0c731c707d21f73f59cb36f4d9a17d00.setContent(html_4b17bec688db644d9aa77d0cb60a77a8);\n",
       "            \n",
       "        \n",
       "\n",
       "        marker_c3f74317d2b620780f1676cb769f5af3.bindPopup(popup_0c731c707d21f73f59cb36f4d9a17d00)\n",
       "        ;\n",
       "\n",
       "        \n",
       "    \n",
       "    \n",
       "            var marker_56785c50aa6e1c3e0dd748da8d0f84b1 = L.marker(\n",
       "                [25.706287, -80.2532669],\n",
       "                {&quot;fill&quot;: true, &quot;radius&quot;: 5}\n",
       "            ).addTo(feature_group_9818cc783f10feb68e0f5fbc2b96f8fc);\n",
       "        \n",
       "    \n",
       "            var icon_ad026fbd836fd3b369de21a3dab7431c = L.AwesomeMarkers.icon(\n",
       "                {&quot;extraClasses&quot;: &quot;fa-rotate-0&quot;, &quot;icon&quot;: &quot;info-sign&quot;, &quot;iconColor&quot;: &quot;white&quot;, &quot;markerColor&quot;: &quot;blue&quot;, &quot;prefix&quot;: &quot;glyphicon&quot;}\n",
       "            );\n",
       "            marker_56785c50aa6e1c3e0dd748da8d0f84b1.setIcon(icon_ad026fbd836fd3b369de21a3dab7431c);\n",
       "        \n",
       "    \n",
       "        var popup_49b1a6e55476864367e4254d72e85f4a = L.popup({&quot;maxWidth&quot;: 400});\n",
       "\n",
       "        \n",
       "            \n",
       "                var html_ceb409554e50533d13972dcce1c56b09 = $(`&lt;div id=&quot;html_ceb409554e50533d13972dcce1c56b09&quot; style=&quot;width: 100.0%; height: 100.0%;&quot;&gt;&lt;!DOCTYPE html&gt;     &lt;html&gt;     &lt;strong&gt;Building Name: &lt;/strong&gt;The Gables Condo&lt;br&gt;     &lt;strong&gt;Sale Price: &lt;/strong&gt;$2,850,000.00&lt;br&gt;     &lt;strong&gt;Days on Market: &lt;/strong&gt;86&lt;br&gt;     &lt;strong&gt;Listing Agent: &lt;/strong&gt;Allison Blumenthal&lt;br&gt;     &lt;strong&gt;Buyer&#x27;s Agent: &lt;/strong&gt;Arline Silver&lt;br&gt;     &lt;strong&gt;Price sq ft: &lt;/strong&gt;$966.1&lt;br&gt;     &lt;strong&gt;Address: &lt;/strong&gt;10 Edgewater Dr 11F Coral&lt;br&gt;     &lt;/html&gt;     &lt;/div&gt;`)[0];\n",
       "                popup_49b1a6e55476864367e4254d72e85f4a.setContent(html_ceb409554e50533d13972dcce1c56b09);\n",
       "            \n",
       "        \n",
       "\n",
       "        marker_56785c50aa6e1c3e0dd748da8d0f84b1.bindPopup(popup_49b1a6e55476864367e4254d72e85f4a)\n",
       "        ;\n",
       "\n",
       "        \n",
       "    \n",
       "    \n",
       "            var marker_35ef5d8afbdc6ec76350a55cd6cb9c89 = L.marker(\n",
       "                [25.8458696, -80.1197163],\n",
       "                {&quot;fill&quot;: true, &quot;radius&quot;: 5}\n",
       "            ).addTo(feature_group_9818cc783f10feb68e0f5fbc2b96f8fc);\n",
       "        \n",
       "    \n",
       "            var icon_5f15a3b02fe95eaac6238e5d18c2cd19 = L.AwesomeMarkers.icon(\n",
       "                {&quot;extraClasses&quot;: &quot;fa-rotate-0&quot;, &quot;icon&quot;: &quot;info-sign&quot;, &quot;iconColor&quot;: &quot;white&quot;, &quot;markerColor&quot;: &quot;blue&quot;, &quot;prefix&quot;: &quot;glyphicon&quot;}\n",
       "            );\n",
       "            marker_35ef5d8afbdc6ec76350a55cd6cb9c89.setIcon(icon_5f15a3b02fe95eaac6238e5d18c2cd19);\n",
       "        \n",
       "    \n",
       "        var popup_e9829a6917a8b4d558673a0058d99eb3 = L.popup({&quot;maxWidth&quot;: 400});\n",
       "\n",
       "        \n",
       "            \n",
       "                var html_5574f3d0c153fbdb14d306f8e4321c11 = $(`&lt;div id=&quot;html_5574f3d0c153fbdb14d306f8e4321c11&quot; style=&quot;width: 100.0%; height: 100.0%;&quot;&gt;&lt;!DOCTYPE html&gt;     &lt;html&gt;     &lt;strong&gt;Building Name: &lt;/strong&gt;Akoya Condo&lt;br&gt;     &lt;strong&gt;Sale Price: &lt;/strong&gt;$2,849,000.00&lt;br&gt;     &lt;strong&gt;Days on Market: &lt;/strong&gt;69&lt;br&gt;     &lt;strong&gt;Listing Agent: &lt;/strong&gt;Raul Rivero&lt;br&gt;     &lt;strong&gt;Buyer&#x27;s Agent: &lt;/strong&gt;Sergio Mannarino&lt;br&gt;     &lt;strong&gt;Price sq ft: &lt;/strong&gt;$1617.83&lt;br&gt;     &lt;strong&gt;Address: &lt;/strong&gt;6365 Collins Ave 3501 Miami&lt;br&gt;     &lt;/html&gt;     &lt;/div&gt;`)[0];\n",
       "                popup_e9829a6917a8b4d558673a0058d99eb3.setContent(html_5574f3d0c153fbdb14d306f8e4321c11);\n",
       "            \n",
       "        \n",
       "\n",
       "        marker_35ef5d8afbdc6ec76350a55cd6cb9c89.bindPopup(popup_e9829a6917a8b4d558673a0058d99eb3)\n",
       "        ;\n",
       "\n",
       "        \n",
       "    \n",
       "    \n",
       "            var marker_a716eda8a7858c29fec1e605f9b58ae5 = L.marker(\n",
       "                [25.9412405, -80.12074369999999],\n",
       "                {&quot;fill&quot;: true, &quot;radius&quot;: 5}\n",
       "            ).addTo(feature_group_9818cc783f10feb68e0f5fbc2b96f8fc);\n",
       "        \n",
       "    \n",
       "            var icon_050f2fa0e968510d8ec5b84ba0d5e873 = L.AwesomeMarkers.icon(\n",
       "                {&quot;extraClasses&quot;: &quot;fa-rotate-0&quot;, &quot;icon&quot;: &quot;info-sign&quot;, &quot;iconColor&quot;: &quot;white&quot;, &quot;markerColor&quot;: &quot;blue&quot;, &quot;prefix&quot;: &quot;glyphicon&quot;}\n",
       "            );\n",
       "            marker_a716eda8a7858c29fec1e605f9b58ae5.setIcon(icon_050f2fa0e968510d8ec5b84ba0d5e873);\n",
       "        \n",
       "    \n",
       "        var popup_cacf194dc13c1586e63e61bb12c90d15 = L.popup({&quot;maxWidth&quot;: 400});\n",
       "\n",
       "        \n",
       "            \n",
       "                var html_7eb6779ad840ec56676eadfffa20a8e1 = $(`&lt;div id=&quot;html_7eb6779ad840ec56676eadfffa20a8e1&quot; style=&quot;width: 100.0%; height: 100.0%;&quot;&gt;&lt;!DOCTYPE html&gt;     &lt;html&gt;     &lt;strong&gt;Building Name: &lt;/strong&gt;Acqualina Ocean Residence&lt;br&gt;     &lt;strong&gt;Sale Price: &lt;/strong&gt;$2,700,000.00&lt;br&gt;     &lt;strong&gt;Days on Market: &lt;/strong&gt;12&lt;br&gt;     &lt;strong&gt;Listing Agent: &lt;/strong&gt;Jelena Grady&lt;br&gt;     &lt;strong&gt;Buyer&#x27;s Agent: &lt;/strong&gt;Michelle Judd&lt;br&gt;     &lt;strong&gt;Price sq ft: &lt;/strong&gt;$1329.39&lt;br&gt;     &lt;strong&gt;Address: &lt;/strong&gt;17875 Collins Ave 3404 Sunny Isles&lt;br&gt;     &lt;/html&gt;     &lt;/div&gt;`)[0];\n",
       "                popup_cacf194dc13c1586e63e61bb12c90d15.setContent(html_7eb6779ad840ec56676eadfffa20a8e1);\n",
       "            \n",
       "        \n",
       "\n",
       "        marker_a716eda8a7858c29fec1e605f9b58ae5.bindPopup(popup_cacf194dc13c1586e63e61bb12c90d15)\n",
       "        ;\n",
       "\n",
       "        \n",
       "    \n",
       "    \n",
       "            var marker_863be087acffc904b31a7f59f0ab8307 = L.marker(\n",
       "                [25.6927337, -80.15914149999999],\n",
       "                {&quot;fill&quot;: true, &quot;radius&quot;: 5}\n",
       "            ).addTo(feature_group_9818cc783f10feb68e0f5fbc2b96f8fc);\n",
       "        \n",
       "    \n",
       "            var icon_fd0eb2eb7d59aeec1ee0fba05c78bfe3 = L.AwesomeMarkers.icon(\n",
       "                {&quot;extraClasses&quot;: &quot;fa-rotate-0&quot;, &quot;icon&quot;: &quot;info-sign&quot;, &quot;iconColor&quot;: &quot;white&quot;, &quot;markerColor&quot;: &quot;blue&quot;, &quot;prefix&quot;: &quot;glyphicon&quot;}\n",
       "            );\n",
       "            marker_863be087acffc904b31a7f59f0ab8307.setIcon(icon_fd0eb2eb7d59aeec1ee0fba05c78bfe3);\n",
       "        \n",
       "    \n",
       "        var popup_0e94c1e7833420aeeaf89008722bc824 = L.popup({&quot;maxWidth&quot;: 400});\n",
       "\n",
       "        \n",
       "            \n",
       "                var html_765535d25465282b1ce6ffaa3c2359b5 = $(`&lt;div id=&quot;html_765535d25465282b1ce6ffaa3c2359b5&quot; style=&quot;width: 100.0%; height: 100.0%;&quot;&gt;&lt;!DOCTYPE html&gt;     &lt;html&gt;     &lt;strong&gt;Building Name: &lt;/strong&gt;Grand Bay Residences&lt;br&gt;     &lt;strong&gt;Sale Price: &lt;/strong&gt;$2,500,000.00&lt;br&gt;     &lt;strong&gt;Days on Market: &lt;/strong&gt;65&lt;br&gt;     &lt;strong&gt;Listing Agent: &lt;/strong&gt;Nancy Bernstein&lt;br&gt;     &lt;strong&gt;Buyer&#x27;s Agent: &lt;/strong&gt;Angelica Gomez&lt;br&gt;     &lt;strong&gt;Price sq ft: &lt;/strong&gt;$847.46&lt;br&gt;     &lt;strong&gt;Address: &lt;/strong&gt;445 Grand Bay Dr 302 Key&lt;br&gt;     &lt;/html&gt;     &lt;/div&gt;`)[0];\n",
       "                popup_0e94c1e7833420aeeaf89008722bc824.setContent(html_765535d25465282b1ce6ffaa3c2359b5);\n",
       "            \n",
       "        \n",
       "\n",
       "        marker_863be087acffc904b31a7f59f0ab8307.bindPopup(popup_0e94c1e7833420aeeaf89008722bc824)\n",
       "        ;\n",
       "\n",
       "        \n",
       "    \n",
       "    \n",
       "            var marker_c0f1fea8e95f559ff7cc3eb986e5163a = L.marker(\n",
       "                [25.926267, -80.12156499999999],\n",
       "                {&quot;fill&quot;: true, &quot;radius&quot;: 5}\n",
       "            ).addTo(feature_group_9818cc783f10feb68e0f5fbc2b96f8fc);\n",
       "        \n",
       "    \n",
       "            var icon_f2ff9a9f178c0051cd50f4801cf4f7ef = L.AwesomeMarkers.icon(\n",
       "                {&quot;extraClasses&quot;: &quot;fa-rotate-0&quot;, &quot;icon&quot;: &quot;info-sign&quot;, &quot;iconColor&quot;: &quot;white&quot;, &quot;markerColor&quot;: &quot;blue&quot;, &quot;prefix&quot;: &quot;glyphicon&quot;}\n",
       "            );\n",
       "            marker_c0f1fea8e95f559ff7cc3eb986e5163a.setIcon(icon_f2ff9a9f178c0051cd50f4801cf4f7ef);\n",
       "        \n",
       "    \n",
       "        var popup_e470df0961f28f40412db568591edd6d = L.popup({&quot;maxWidth&quot;: 400});\n",
       "\n",
       "        \n",
       "            \n",
       "                var html_ed42b4bed60a05db476623806c262815 = $(`&lt;div id=&quot;html_ed42b4bed60a05db476623806c262815&quot; style=&quot;width: 100.0%; height: 100.0%;&quot;&gt;&lt;!DOCTYPE html&gt;     &lt;html&gt;     &lt;strong&gt;Building Name: &lt;/strong&gt;Turnberry Ocean Colony&lt;br&gt;     &lt;strong&gt;Sale Price: &lt;/strong&gt;$2,280,000.00&lt;br&gt;     &lt;strong&gt;Days on Market: &lt;/strong&gt;709&lt;br&gt;     &lt;strong&gt;Listing Agent: &lt;/strong&gt;Alejandro Mizrahi&lt;br&gt;     &lt;strong&gt;Buyer&#x27;s Agent: &lt;/strong&gt;Jessie Gesen&lt;br&gt;     &lt;strong&gt;Price sq ft: &lt;/strong&gt;$1015.59&lt;br&gt;     &lt;strong&gt;Address: &lt;/strong&gt;16051 Collins Ave 902 Sunny Isles&lt;br&gt;     &lt;/html&gt;     &lt;/div&gt;`)[0];\n",
       "                popup_e470df0961f28f40412db568591edd6d.setContent(html_ed42b4bed60a05db476623806c262815);\n",
       "            \n",
       "        \n",
       "\n",
       "        marker_c0f1fea8e95f559ff7cc3eb986e5163a.bindPopup(popup_e470df0961f28f40412db568591edd6d)\n",
       "        ;\n",
       "\n",
       "        \n",
       "    \n",
       "    \n",
       "            var marker_bd7329e658772fdac548b634ada9d3b1 = L.marker(\n",
       "                [25.7736596, -80.1411255],\n",
       "                {&quot;fill&quot;: true, &quot;radius&quot;: 5}\n",
       "            ).addTo(feature_group_9818cc783f10feb68e0f5fbc2b96f8fc);\n",
       "        \n",
       "    \n",
       "            var icon_8211e789ca6a147bdd21e276a3a582a0 = L.AwesomeMarkers.icon(\n",
       "                {&quot;extraClasses&quot;: &quot;fa-rotate-0&quot;, &quot;icon&quot;: &quot;info-sign&quot;, &quot;iconColor&quot;: &quot;white&quot;, &quot;markerColor&quot;: &quot;blue&quot;, &quot;prefix&quot;: &quot;glyphicon&quot;}\n",
       "            );\n",
       "            marker_bd7329e658772fdac548b634ada9d3b1.setIcon(icon_8211e789ca6a147bdd21e276a3a582a0);\n",
       "        \n",
       "    \n",
       "        var popup_3f21a720bdeba16031e8eb1bf977d6bd = L.popup({&quot;maxWidth&quot;: 400});\n",
       "\n",
       "        \n",
       "            \n",
       "                var html_53a35cc2ad05e6703af6f5e494e05a72 = $(`&lt;div id=&quot;html_53a35cc2ad05e6703af6f5e494e05a72&quot; style=&quot;width: 100.0%; height: 100.0%;&quot;&gt;&lt;!DOCTYPE html&gt;     &lt;html&gt;     &lt;strong&gt;Building Name: &lt;/strong&gt;Icon South Beach&lt;br&gt;     &lt;strong&gt;Sale Price: &lt;/strong&gt;$1,650,000.00&lt;br&gt;     &lt;strong&gt;Days on Market: &lt;/strong&gt;261&lt;br&gt;     &lt;strong&gt;Listing Agent: &lt;/strong&gt;Timothy Hartmann&lt;br&gt;     &lt;strong&gt;Buyer&#x27;s Agent: &lt;/strong&gt;Timothy Hartmann&lt;br&gt;     &lt;strong&gt;Price sq ft: &lt;/strong&gt;$1074.22&lt;br&gt;     &lt;strong&gt;Address: &lt;/strong&gt;450 Alton Rd 3704 Miami &lt;br&gt;     &lt;/html&gt;     &lt;/div&gt;`)[0];\n",
       "                popup_3f21a720bdeba16031e8eb1bf977d6bd.setContent(html_53a35cc2ad05e6703af6f5e494e05a72);\n",
       "            \n",
       "        \n",
       "\n",
       "        marker_bd7329e658772fdac548b634ada9d3b1.bindPopup(popup_3f21a720bdeba16031e8eb1bf977d6bd)\n",
       "        ;\n",
       "\n",
       "        \n",
       "    \n",
       "    \n",
       "            var marker_bea731531701d821b74ef23344ebdfa2 = L.marker(\n",
       "                [25.9652576, -80.1248626],\n",
       "                {&quot;fill&quot;: true, &quot;radius&quot;: 5}\n",
       "            ).addTo(feature_group_9818cc783f10feb68e0f5fbc2b96f8fc);\n",
       "        \n",
       "    \n",
       "            var icon_c12d594ba56117faaca1f14c582d90c5 = L.AwesomeMarkers.icon(\n",
       "                {&quot;extraClasses&quot;: &quot;fa-rotate-0&quot;, &quot;icon&quot;: &quot;info-sign&quot;, &quot;iconColor&quot;: &quot;white&quot;, &quot;markerColor&quot;: &quot;blue&quot;, &quot;prefix&quot;: &quot;glyphicon&quot;}\n",
       "            );\n",
       "            marker_bea731531701d821b74ef23344ebdfa2.setIcon(icon_c12d594ba56117faaca1f14c582d90c5);\n",
       "        \n",
       "    \n",
       "        var popup_042dd30a01eb263249d6684b1ff9ea30 = L.popup({&quot;maxWidth&quot;: 400});\n",
       "\n",
       "        \n",
       "            \n",
       "                var html_8dbe8c052c685c8ba7572b24df7d7486 = $(`&lt;div id=&quot;html_8dbe8c052c685c8ba7572b24df7d7486&quot; style=&quot;width: 100.0%; height: 100.0%;&quot;&gt;&lt;!DOCTYPE html&gt;     &lt;html&gt;     &lt;strong&gt;Building Name: &lt;/strong&gt;Hamptons South&lt;br&gt;     &lt;strong&gt;Sale Price: &lt;/strong&gt;$1,550,000.00&lt;br&gt;     &lt;strong&gt;Days on Market: &lt;/strong&gt;53&lt;br&gt;     &lt;strong&gt;Listing Agent: &lt;/strong&gt;Aaron Gurland&lt;br&gt;     &lt;strong&gt;Buyer&#x27;s Agent: &lt;/strong&gt;Jean Marc Chouraqui&lt;br&gt;     &lt;strong&gt;Price sq ft: &lt;/strong&gt;$472.56&lt;br&gt;     &lt;strong&gt;Address: &lt;/strong&gt;20201 E Country Club Dr 2605&lt;br&gt;     &lt;/html&gt;     &lt;/div&gt;`)[0];\n",
       "                popup_042dd30a01eb263249d6684b1ff9ea30.setContent(html_8dbe8c052c685c8ba7572b24df7d7486);\n",
       "            \n",
       "        \n",
       "\n",
       "        marker_bea731531701d821b74ef23344ebdfa2.bindPopup(popup_042dd30a01eb263249d6684b1ff9ea30)\n",
       "        ;\n",
       "\n",
       "        \n",
       "    \n",
       "    \n",
       "            var marker_fa89afde2392a0c50449a6d404bd7da9 = L.marker(\n",
       "                [25.897903, -80.12344829999999],\n",
       "                {&quot;fill&quot;: true, &quot;radius&quot;: 5}\n",
       "            ).addTo(feature_group_9818cc783f10feb68e0f5fbc2b96f8fc);\n",
       "        \n",
       "    \n",
       "            var icon_2e2e7242856c5581de6592e6d3860f09 = L.AwesomeMarkers.icon(\n",
       "                {&quot;extraClasses&quot;: &quot;fa-rotate-0&quot;, &quot;icon&quot;: &quot;info-sign&quot;, &quot;iconColor&quot;: &quot;white&quot;, &quot;markerColor&quot;: &quot;blue&quot;, &quot;prefix&quot;: &quot;glyphicon&quot;}\n",
       "            );\n",
       "            marker_fa89afde2392a0c50449a6d404bd7da9.setIcon(icon_2e2e7242856c5581de6592e6d3860f09);\n",
       "        \n",
       "    \n",
       "        var popup_d3d4494fc0791cf103cc113db8fbbd3e = L.popup({&quot;maxWidth&quot;: 400});\n",
       "\n",
       "        \n",
       "            \n",
       "                var html_3a7eee4d844b30bda401e87eb15b152d = $(`&lt;div id=&quot;html_3a7eee4d844b30bda401e87eb15b152d&quot; style=&quot;width: 100.0%; height: 100.0%;&quot;&gt;&lt;!DOCTYPE html&gt;     &lt;html&gt;     &lt;strong&gt;Building Name: &lt;/strong&gt;Harbour House&lt;br&gt;     &lt;strong&gt;Sale Price: &lt;/strong&gt;$1,500,000.00&lt;br&gt;     &lt;strong&gt;Days on Market: &lt;/strong&gt;577&lt;br&gt;     &lt;strong&gt;Listing Agent: &lt;/strong&gt;Adam Ziefer&lt;br&gt;     &lt;strong&gt;Buyer&#x27;s Agent: &lt;/strong&gt;Maria Tate&lt;br&gt;     &lt;strong&gt;Price sq ft: &lt;/strong&gt;$1025.99&lt;br&gt;     &lt;strong&gt;Address: &lt;/strong&gt;10275 Collins Ave 322 Bal&lt;br&gt;     &lt;/html&gt;     &lt;/div&gt;`)[0];\n",
       "                popup_d3d4494fc0791cf103cc113db8fbbd3e.setContent(html_3a7eee4d844b30bda401e87eb15b152d);\n",
       "            \n",
       "        \n",
       "\n",
       "        marker_fa89afde2392a0c50449a6d404bd7da9.bindPopup(popup_d3d4494fc0791cf103cc113db8fbbd3e)\n",
       "        ;\n",
       "\n",
       "        \n",
       "    \n",
       "    \n",
       "            var tile_layer_a7e0446f25b9708c78c0e2141f07c523 = L.tileLayer(\n",
       "                &quot;https://{s}.tile.openstreetmap.org/{z}/{x}/{y}.png&quot;,\n",
       "                {&quot;attribution&quot;: &quot;Data by \\u0026copy; \\u003ca href=\\&quot;http://openstreetmap.org\\&quot;\\u003eOpenStreetMap\\u003c/a\\u003e, under \\u003ca href=\\&quot;http://www.openstreetmap.org/copyright\\&quot;\\u003eODbL\\u003c/a\\u003e.&quot;, &quot;detectRetina&quot;: false, &quot;maxNativeZoom&quot;: 18, &quot;maxZoom&quot;: 18, &quot;minZoom&quot;: 0, &quot;noWrap&quot;: false, &quot;opacity&quot;: 1, &quot;subdomains&quot;: &quot;abc&quot;, &quot;tms&quot;: false}\n",
       "            ).addTo(map_f4eb066286bf61f435b329fca3a1278c);\n",
       "        \n",
       "    \n",
       "            var layer_control_1bd2a73ec51edb6146c6cf6afd541b65 = {\n",
       "                base_layers : {\n",
       "                },\n",
       "                overlays :  {\n",
       "                    &quot;Top Sale&quot; : feature_group_59365453d40ba55074b57f4765c579cd,\n",
       "                    &quot;All other sales&quot; : feature_group_9818cc783f10feb68e0f5fbc2b96f8fc,\n",
       "                },\n",
       "            };\n",
       "            L.control.layers(\n",
       "                layer_control_1bd2a73ec51edb6146c6cf6afd541b65.base_layers,\n",
       "                layer_control_1bd2a73ec51edb6146c6cf6afd541b65.overlays,\n",
       "                {&quot;autoZIndex&quot;: true, &quot;collapsed&quot;: false, &quot;position&quot;: &quot;topright&quot;}\n",
       "            ).addTo(map_f4eb066286bf61f435b329fca3a1278c);\n",
       "        \n",
       "&lt;/script&gt;\" style=\"position:absolute;width:100%;height:100%;left:0;top:0;border:none !important;\" allowfullscreen webkitallowfullscreen mozallowfullscreen></iframe></div></div>"
      ],
      "text/plain": [
       "<folium.folium.Map at 0x7f8948033430>"
      ]
     },
     "execution_count": 25,
     "metadata": {},
     "output_type": "execute_result"
    }
   ],
   "source": [
    "import folium\n",
    "from folium.plugins import MarkerCluster\n",
    "\n",
    "m = folium.Map(location=df[[\"lat\", \"lon\"]].mean().to_list(), zoom_start=10)\n",
    "\n",
    "title_html = '''\n",
    "              <h3 align=\"center\" style=\"font-size:16px\"><b>{}</b></h3>\n",
    "             '''.format(f'Recent Miami-Dade Condo Sales ')\n",
    "\n",
    "caption_html = '''\n",
    "                <p align=\"center\" style=\"vertical-align: bottom; font-size:13px\"><i>{}</i></p>\n",
    "                '''.format('August 13th - August 21st')\n",
    "\n",
    "\n",
    "### Create map container ###\n",
    "m = folium.Map(location=df[[\"lat\", \"lon\"]].mean().to_list(),zoom_start=9.5,tiles=None)\n",
    "\n",
    "# Create two FeatureGroups for different color pins\n",
    "fg_blue = folium.FeatureGroup(name='All other sales')\n",
    "fg_orange = folium.FeatureGroup(name='Top Sale')\n",
    "\n",
    "for index, row in df.iterrows():\n",
    "    # Add the markers to the appropriate FeatureGroup based on the color\n",
    "    if row['COLOR'] == 'blue':\n",
    "        marker = folium.Marker(\n",
    "            location=[row['lat'], row['lon']],\n",
    "            radius=5,\n",
    "            fill=True,\n",
    "            icon=folium.Icon(color=row['COLOR']),\n",
    "            popup=folium.Popup(popup_html(row), max_width=400))\n",
    "        marker.add_to(fg_blue)\n",
    "    else:\n",
    "        marker = folium.Marker(\n",
    "            location=[row['lat'], row['lon']],\n",
    "            radius=5,\n",
    "            fill=True,\n",
    "            icon=folium.Icon(color=row['COLOR']),\n",
    "            popup=folium.Popup(popup_html(row), max_width=400))\n",
    "        marker.add_to(fg_orange)\n",
    "\n",
    "# Add the FeatureGroups to the map\n",
    "fg_orange.add_to(m)\n",
    "fg_blue.add_to(m)\n",
    "\n",
    "folium.TileLayer('OpenStreetMap',control=False).add_to(m)\n",
    "\n",
    "# Add LayerControl to the map\n",
    "folium.map.LayerControl(collapsed=False).add_to(m)\n",
    "m.get_root().html.add_child(folium.Element(title_html))\n",
    "m.get_root().html.add_child(folium.Element(caption_html))\n",
    "            \n",
    "# Display map\n",
    "m"
   ]
  },
  {
   "cell_type": "code",
   "execution_count": 20,
   "metadata": {},
   "outputs": [],
   "source": [
    "m.save('index.html')"
   ]
  },
  {
   "cell_type": "markdown",
   "metadata": {},
   "source": [
    "## Data snagger"
   ]
  },
  {
   "cell_type": "code",
   "execution_count": 21,
   "metadata": {},
   "outputs": [],
   "source": [
    "### Set up formatting ###\n",
    "BR = '\\n'\n",
    "\n",
    "ME = '\\033[1m' + 'Most Expensive' + '\\033[0m'\n",
    "LE = '\\033[1m' + 'Least Expensive' + '\\033[0m'\n",
    "\n",
    "MAX_PSF = '\\033[1m' + 'Highest Price Per Square Foot' + '\\033[0m'\n",
    "MIN_PSF = '\\033[1m' + 'Lowest Price Per Square Foot' + '\\033[0m'\n",
    "\n",
    "DAYS_MAX = '\\033[1m' + 'Most Days on Market' + '\\033[0m'\n",
    "DAYS_MIN = '\\033[1m' + 'Fewest Days on Market' + '\\033[0m'"
   ]
  },
  {
   "cell_type": "code",
   "execution_count": 22,
   "metadata": {},
   "outputs": [
    {
     "name": "stdout",
     "output_type": "stream",
     "text": [
      "\u001b[1mMost Expensive\u001b[0m\n",
      "St Regis Bal Harbour, 9701 Collins Ave 1503S Bal | Price $10,500,000 | $2,684 psf | Listing agent: Ryan Mendell with Maxwell E Realty Inc | Buyer's agent: Melissa Puig with Beachfront Realty Inc | Days on market: 141\n",
      "\u001b[1mLeast Expensive\u001b[0m\n",
      "Harbour House, 10275 Collins Ave 322 Bal | Price $1,500,000 | $1,026 psf | Listing agent: Adam Ziefer with The Corcoran Group | Buyer's agent: Maria Tate with Coldwell Banker Realty | Days on market: 577\n",
      "\u001b[1mHighest Price Per Square Foot\u001b[0m\n",
      "St Regis Bal Harbour, 9701 Collins Ave 1503S Bal | Price $10,500,000 | $2,684 psf | Listing agent: Ryan Mendell with Maxwell E Realty Inc | Buyer's agent: Melissa Puig with Beachfront Realty Inc | Days on market: 141\n",
      "\u001b[1mLowest Price Per Square Foot\u001b[0m\n",
      "Hamptons South, 20201 E Country Club Dr 2605 | Price $1,550,000 | $473 psf | Listing agent: Aaron Gurland with Syncopated Real Estate, LLC | Buyer's agent: Jean Marc Chouraqui with Brokers, LLC | Days on market: 53\n",
      "\u001b[1mMost Days on Market\u001b[0m\n",
      "Turnberry Ocean Colony, 16051 Collins Ave 902 Sunny Isles | Price $2,280,000 | $1,016 psf | Listing agent: Alejandro Mizrahi with P & I Florida LLC | Buyer's agent: Jessie Gesen with Fortune Christie's Int'l Real Estate | Days on market: 709\n",
      "\u001b[1mFewest Days on Market\u001b[0m\n",
      "Muse Residences, 17141 Collins Ave 1601 Sunny Isles | Price $5,450,000 | $1,706 psf | Listing agent: Sheerel Toledano with Douglas Elliman | Buyer's agent: Valentina Wish with Beachfront Realty Inc | Days on market: 3\n"
     ]
    }
   ],
   "source": [
    "### Highest and lowest sale price ###\n",
    "print(f\"{ME}{BR}{df.loc[df['int_Sale_Price'].idxmax()]['building_name']}, {df.loc[df['int_Sale_Price'].idxmax()]['address']} | Price ${df.loc[df['int_Sale_Price'].idxmax()]['int_Sale_Price']:,.0f} | ${df.loc[df['int_Sale_Price'].idxmax()]['price_per_sqft']:,.0f} psf | Listing agent: {df.loc[df['int_Sale_Price'].idxmax()]['Agent']} with {df.loc[df['int_Sale_Price'].idxmax()]['Listing Broker']} | Buyer's agent: {df.loc[df['int_Sale_Price'].idxmax()]['Buyer Agent']} with {df.loc[df['int_Sale_Price'].idxmax()]['Buyer Broker']} | Days on market: {df.loc[df['int_Sale_Price'].idxmax()]['days_on_market']}\")\n",
    "print(f\"{LE}{BR}{df.loc[df['int_Sale_Price'].idxmin()]['building_name']}, {df.loc[df['int_Sale_Price'].idxmin()]['address']} | Price ${df.loc[df['int_Sale_Price'].idxmin()]['int_Sale_Price']:,.0f} | ${df.loc[df['int_Sale_Price'].idxmin()]['price_per_sqft']:,.0f} psf | Listing agent: {df.loc[df['int_Sale_Price'].idxmin()]['Agent']} with {df.loc[df['int_Sale_Price'].idxmin()]['Listing Broker']} | Buyer's agent: {df.loc[df['int_Sale_Price'].idxmin()]['Buyer Agent']} with {df.loc[df['int_Sale_Price'].idxmin()]['Buyer Broker']} | Days on market: {df.loc[df['int_Sale_Price'].idxmin()]['days_on_market']}\")\n",
    "### Highest and lowest psf ###\n",
    "print(f\"{MAX_PSF}{BR}{df.loc[df['price_per_sqft'].idxmax()]['building_name']}, {df.loc[df['price_per_sqft'].idxmax()]['address']} | Price ${df.loc[df['price_per_sqft'].idxmax()]['int_Sale_Price']:,.0f} | ${df.loc[df['price_per_sqft'].idxmax()]['price_per_sqft']:,.0f} psf | Listing agent: {df.loc[df['price_per_sqft'].idxmax()]['Agent']} with {df.loc[df['price_per_sqft'].idxmax()]['Listing Broker']} | Buyer's agent: {df.loc[df['price_per_sqft'].idxmax()]['Buyer Agent']} with {df.loc[df['price_per_sqft'].idxmax()]['Buyer Broker']} | Days on market: {df.loc[df['price_per_sqft'].idxmax()]['days_on_market']}\")\n",
    "print(f\"{MIN_PSF}{BR}{df.loc[df['price_per_sqft'].idxmin()]['building_name']}, {df.loc[df['price_per_sqft'].idxmin()]['address']} | Price ${df.loc[df['price_per_sqft'].idxmin()]['int_Sale_Price']:,.0f} | ${df.loc[df['price_per_sqft'].idxmin()]['price_per_sqft']:,.0f} psf | Listing agent: {df.loc[df['price_per_sqft'].idxmin()]['Agent']} with {df.loc[df['price_per_sqft'].idxmin()]['Listing Broker']} | Buyer's agent: {df.loc[df['price_per_sqft'].idxmin()]['Buyer Agent']} with {df.loc[df['price_per_sqft'].idxmin()]['Buyer Broker']} | Days on market: {df.loc[df['price_per_sqft'].idxmin()]['days_on_market']}\")\n",
    "### Highest and lowest days on market ###\n",
    "print(f\"{DAYS_MAX}{BR}{df.loc[df['days_on_market'].idxmax()]['building_name']}, {df.loc[df['days_on_market'].idxmax()]['address']} | Price ${df.loc[df['days_on_market'].idxmax()]['int_Sale_Price']:,.0f} | ${df.loc[df['days_on_market'].idxmax()]['price_per_sqft']:,.0f} psf | Listing agent: {df.loc[df['days_on_market'].idxmax()]['Agent']} with {df.loc[df['days_on_market'].idxmax()]['Listing Broker']} | Buyer's agent: {df.loc[df['days_on_market'].idxmax()]['Buyer Agent']} with {df.loc[df['days_on_market'].idxmax()]['Buyer Broker']} | Days on market: {df.loc[df['days_on_market'].idxmax()]['days_on_market']}\")\n",
    "print(f\"{DAYS_MIN}{BR}{df.loc[df['days_on_market'].idxmin()]['building_name']}, {df.loc[df['days_on_market'].idxmin()]['address']} | Price ${df.loc[df['days_on_market'].idxmin()]['int_Sale_Price']:,.0f} | ${df.loc[df['days_on_market'].idxmin()]['price_per_sqft']:,.0f} psf | Listing agent: {df.loc[df['days_on_market'].idxmin()]['Agent']} with {df.loc[df['days_on_market'].idxmin()]['Listing Broker']} | Buyer's agent: {df.loc[df['days_on_market'].idxmin()]['Buyer Agent']} with {df.loc[df['days_on_market'].idxmin()]['Buyer Broker']} | Days on market: {df.loc[df['days_on_market'].idxmin()]['days_on_market']}\")"
   ]
  },
  {
   "cell_type": "markdown",
   "metadata": {},
   "source": [
    "## Map URL snagger"
   ]
  },
  {
   "cell_type": "markdown",
   "metadata": {},
   "source": [
    "Map template URL: `https://trd-digital.github.io/trd-news-interactive-maps/{map-folder-name}`"
   ]
  },
  {
   "cell_type": "code",
   "execution_count": 23,
   "metadata": {},
   "outputs": [],
   "source": [
    "base_name = 'https://trd-digital.github.io/trd-news-interactive-maps/'"
   ]
  },
  {
   "cell_type": "code",
   "execution_count": 24,
   "metadata": {},
   "outputs": [
    {
     "name": "stdout",
     "output_type": "stream",
     "text": [
      "https://trd-digital.github.io/trd-news-interactive-maps/condo_sales_week_ending_08192023\n"
     ]
    }
   ],
   "source": [
    "cwd = os.getcwd()\n",
    "\n",
    "cwd = cwd.split('/')\n",
    "\n",
    "final_name = base_name + cwd[-1]\n",
    "print(final_name)"
   ]
  }
 ],
 "metadata": {
  "kernelspec": {
   "display_name": "Python 3 (ipykernel)",
   "language": "python",
   "name": "python3"
  },
  "language_info": {
   "codemirror_mode": {
    "name": "ipython",
    "version": 3
   },
   "file_extension": ".py",
   "mimetype": "text/x-python",
   "name": "python",
   "nbconvert_exporter": "python",
   "pygments_lexer": "ipython3",
   "version": "3.9.12"
  },
  "toc": {
   "base_numbering": 1,
   "nav_menu": {},
   "number_sections": true,
   "sideBar": true,
   "skip_h1_title": false,
   "title_cell": "Table of Contents",
   "title_sidebar": "Contents",
   "toc_cell": false,
   "toc_position": {},
   "toc_section_display": true,
   "toc_window_display": false
  }
 },
 "nbformat": 4,
 "nbformat_minor": 4
}
