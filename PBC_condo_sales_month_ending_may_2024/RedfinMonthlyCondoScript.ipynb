{
 "cells": [
  {
   "cell_type": "markdown",
   "id": "282c57c3",
   "metadata": {},
   "source": [
    "## Imports"
   ]
  },
  {
   "cell_type": "code",
   "execution_count": 1,
   "id": "54c15242",
   "metadata": {},
   "outputs": [],
   "source": [
    "import pandas as pd\n",
    "import numpy as np\n",
    "import re\n",
    "import os\n",
    "import folium\n",
    "import geopandas as gpd\n",
    "import glob\n",
    "from datetime import datetime, timedelta"
   ]
  },
  {
   "cell_type": "markdown",
   "id": "7c620cf8",
   "metadata": {},
   "source": [
    "## Data Read-in"
   ]
  },
  {
   "cell_type": "code",
   "execution_count": 2,
   "id": "788cfd9b",
   "metadata": {},
   "outputs": [
    {
     "name": "stdout",
     "output_type": "stream",
     "text": [
      "3054\n"
     ]
    }
   ],
   "source": [
    "csv_files = glob.glob('*.csv')\n",
    "\n",
    "df_list = []\n",
    "\n",
    "for csv_file in csv_files:\n",
    "    df = pd.read_csv(csv_file)\n",
    "    df_list.append(df)\n",
    "    \n",
    "df = pd.concat(df_list,ignore_index=True)\n",
    "\n",
    "print(len(df))"
   ]
  },
  {
   "cell_type": "code",
   "execution_count": 3,
   "id": "563417a4",
   "metadata": {},
   "outputs": [],
   "source": [
    "gdf = gpd.read_file('Palm_Beach_County_Boundary.geojson')"
   ]
  },
  {
   "cell_type": "markdown",
   "id": "5cdf738a",
   "metadata": {},
   "source": [
    "## Previous month's values\n",
    "\n",
    "Get values from here:\n",
    "\n",
    "https://docs.google.com/spreadsheets/d/1GWlqTIzCB29pDVDjd-iBVejVGGsLiAd0P6fq4LM83WI/edit?usp=sharing"
   ]
  },
  {
   "cell_type": "code",
   "execution_count": 4,
   "id": "7bbbad1d",
   "metadata": {},
   "outputs": [
    {
     "name": "stdout",
     "output_type": "stream",
     "text": [
      "Input County Name:\n",
      "Palm Beach County\n"
     ]
    }
   ],
   "source": [
    "print('Input County Name:')\n",
    "county_name = input()"
   ]
  },
  {
   "cell_type": "code",
   "execution_count": 5,
   "id": "1cd3e074",
   "metadata": {},
   "outputs": [
    {
     "name": "stdout",
     "output_type": "stream",
     "text": [
      "Input total condo units sold previous (not last) month:\n",
      "838\n"
     ]
    }
   ],
   "source": [
    "print('Input total condo units sold previous (not last) month:')\n",
    "total_condos_sold_2nd_month = input()"
   ]
  },
  {
   "cell_type": "code",
   "execution_count": 6,
   "id": "229637ce",
   "metadata": {},
   "outputs": [
    {
     "name": "stdout",
     "output_type": "stream",
     "text": [
      "Input total sales volume ($$$ million as 100_000_000) from previous (not last) month:\n",
      "489000000\n"
     ]
    }
   ],
   "source": [
    "print('Input total sales volume ($$$ million as 100_000_000) from previous (not last) month:')\n",
    "sales_volume_2nd_month = input()"
   ]
  },
  {
   "cell_type": "code",
   "execution_count": 7,
   "id": "081faeec",
   "metadata": {},
   "outputs": [
    {
     "name": "stdout",
     "output_type": "stream",
     "text": [
      "Input median sales price from previous (not last) month:\n",
      "290000\n"
     ]
    }
   ],
   "source": [
    "print('Input median sales price from previous (not last) month:')\n",
    "median_sales_price_2nd_month = input()"
   ]
  },
  {
   "cell_type": "code",
   "execution_count": 8,
   "id": "cdac5fe9",
   "metadata": {},
   "outputs": [
    {
     "name": "stdout",
     "output_type": "stream",
     "text": [
      "Input median psf from previous (not last) month:\n",
      "252\n"
     ]
    }
   ],
   "source": [
    "print('Input median psf from previous (not last) month:')\n",
    "median_psf_2nd_month = input()"
   ]
  },
  {
   "cell_type": "markdown",
   "id": "b03ce742",
   "metadata": {},
   "source": [
    "## Data Clean"
   ]
  },
  {
   "cell_type": "code",
   "execution_count": 9,
   "id": "1f2a52a3",
   "metadata": {},
   "outputs": [],
   "source": [
    "df = df.rename(columns={'URL (SEE https://www.redfin.com/buy-a-home/comparative-market-analysis FOR INFO ON PRICING)':'URL'})"
   ]
  },
  {
   "cell_type": "code",
   "execution_count": 10,
   "id": "5f45bf08",
   "metadata": {},
   "outputs": [],
   "source": [
    "df = df.dropna(subset=['SOLD DATE'])"
   ]
  },
  {
   "cell_type": "code",
   "execution_count": 11,
   "id": "25d1852d",
   "metadata": {},
   "outputs": [
    {
     "name": "stdout",
     "output_type": "stream",
     "text": [
      "Report month: May ---- Month before report month: April\n"
     ]
    }
   ],
   "source": [
    "# Get the current date\n",
    "current_date = datetime.now()\n",
    "\n",
    "# Calculate the first day of the current month\n",
    "first_day_of_current_month = current_date.replace(day=1)\n",
    "\n",
    "# Get the last day of the previous month by subtracting one day from the first day of the current month\n",
    "last_day_of_previous_month = first_day_of_current_month - timedelta(days=1)\n",
    "\n",
    "# Get the month name of the previous month\n",
    "previous_month_name = last_day_of_previous_month.strftime(\"%B\")\n",
    "\n",
    "# ---- Get the name of the month, as a string, from two months ago.\n",
    "# ---- Meaning, if the current month is January, return November.\n",
    "\n",
    "# Get the first day of the previous month by subtracting one day from the first day of the current month\n",
    "first_day_of_previous_month = first_day_of_current_month - timedelta(days=1)\n",
    "\n",
    "# Get the first day of the month before the last by subtracting one day from the first day of the previous month\n",
    "first_day_of_month_before_last = first_day_of_previous_month.replace(day=1) - timedelta(days=1)\n",
    "\n",
    "# Get the month name of the month before the last\n",
    "month_before_last_name = first_day_of_month_before_last.strftime(\"%B\")\n",
    "\n",
    "print(f'Report month: {previous_month_name} ---- Month before report month: {month_before_last_name}')"
   ]
  },
  {
   "cell_type": "code",
   "execution_count": 12,
   "id": "9b9d20ba",
   "metadata": {},
   "outputs": [],
   "source": [
    "# Define list of desired months (excluding current month)\n",
    "desired_months = [previous_month_name]\n",
    "\n",
    "# Filter DataFrame to include only entries from desired months\n",
    "df_filtered = df[df['SOLD DATE'].str.split('-', expand=True)[0].isin(desired_months)]\n",
    "\n",
    "# Reset the index\n",
    "df_filtered = df_filtered.reset_index(drop=True)"
   ]
  },
  {
   "cell_type": "code",
   "execution_count": 13,
   "id": "ab2d002c",
   "metadata": {},
   "outputs": [
    {
     "name": "stdout",
     "output_type": "stream",
     "text": [
      "PRICE\n",
      "False    856\n",
      "Name: count, dtype: int64\n",
      "-------\n",
      "$/SQUARE FEET\n",
      "False    856\n",
      "Name: count, dtype: int64\n",
      "-------\n",
      "YEAR BUILT\n",
      "False    856\n",
      "Name: count, dtype: int64\n",
      "-------\n"
     ]
    }
   ],
   "source": [
    "# Data checks\n",
    "print(df_filtered['PRICE'].isna().value_counts())\n",
    "print('-------')\n",
    "print(df_filtered['$/SQUARE FEET'].isna().value_counts())\n",
    "print('-------')\n",
    "print(df_filtered['YEAR BUILT'].isna().value_counts())\n",
    "print('-------')"
   ]
  },
  {
   "cell_type": "code",
   "execution_count": 14,
   "id": "446eb268",
   "metadata": {},
   "outputs": [
    {
     "name": "stdout",
     "output_type": "stream",
     "text": [
      "https://www.redfin.com/FL/Riviera-Beach/3100-N-Ocean-Dr-33404/unit-1602-P/home/188497931\n"
     ]
    }
   ],
   "source": [
    "sorted_df = df_filtered.sort_values(by='YEAR BUILT', ascending=False)\n",
    "second_newest_building = sorted_df.iloc[2]\n",
    "print(second_newest_building['URL'])"
   ]
  },
  {
   "cell_type": "code",
   "execution_count": 15,
   "id": "61663e76",
   "metadata": {},
   "outputs": [
    {
     "data": {
      "text/html": [
       "<div>\n",
       "<style scoped>\n",
       "    .dataframe tbody tr th:only-of-type {\n",
       "        vertical-align: middle;\n",
       "    }\n",
       "\n",
       "    .dataframe tbody tr th {\n",
       "        vertical-align: top;\n",
       "    }\n",
       "\n",
       "    .dataframe thead th {\n",
       "        text-align: right;\n",
       "    }\n",
       "</style>\n",
       "<table border=\"1\" class=\"dataframe\">\n",
       "  <thead>\n",
       "    <tr style=\"text-align: right;\">\n",
       "      <th></th>\n",
       "      <th>SALE TYPE</th>\n",
       "      <th>SOLD DATE</th>\n",
       "      <th>PROPERTY TYPE</th>\n",
       "      <th>ADDRESS</th>\n",
       "      <th>CITY</th>\n",
       "      <th>STATE OR PROVINCE</th>\n",
       "      <th>ZIP OR POSTAL CODE</th>\n",
       "      <th>PRICE</th>\n",
       "      <th>BEDS</th>\n",
       "      <th>BATHS</th>\n",
       "      <th>...</th>\n",
       "      <th>STATUS</th>\n",
       "      <th>NEXT OPEN HOUSE START TIME</th>\n",
       "      <th>NEXT OPEN HOUSE END TIME</th>\n",
       "      <th>URL</th>\n",
       "      <th>SOURCE</th>\n",
       "      <th>MLS#</th>\n",
       "      <th>FAVORITE</th>\n",
       "      <th>INTERESTED</th>\n",
       "      <th>LATITUDE</th>\n",
       "      <th>LONGITUDE</th>\n",
       "    </tr>\n",
       "  </thead>\n",
       "  <tbody>\n",
       "  </tbody>\n",
       "</table>\n",
       "<p>0 rows × 27 columns</p>\n",
       "</div>"
      ],
      "text/plain": [
       "Empty DataFrame\n",
       "Columns: [SALE TYPE, SOLD DATE, PROPERTY TYPE, ADDRESS, CITY, STATE OR PROVINCE, ZIP OR POSTAL CODE, PRICE, BEDS, BATHS, LOCATION, SQUARE FEET, LOT SIZE, YEAR BUILT, DAYS ON MARKET, $/SQUARE FEET, HOA/MONTH, STATUS, NEXT OPEN HOUSE START TIME, NEXT OPEN HOUSE END TIME, URL, SOURCE, MLS#, FAVORITE, INTERESTED, LATITUDE, LONGITUDE]\n",
       "Index: []\n",
       "\n",
       "[0 rows x 27 columns]"
      ]
     },
     "execution_count": 15,
     "metadata": {},
     "output_type": "execute_result"
    }
   ],
   "source": [
    "df_filtered.loc[df_filtered['PRICE'] == '0']"
   ]
  },
  {
   "cell_type": "code",
   "execution_count": 16,
   "id": "b0376d17",
   "metadata": {},
   "outputs": [],
   "source": [
    "df_filtered['PRICE'] = pd.to_numeric(df_filtered['PRICE'])\n",
    "df_filtered['$/SQUARE FEET'] = pd.to_numeric(df_filtered['$/SQUARE FEET'])\n",
    "df_filtered['YEAR BUILT'] = pd.to_numeric(df_filtered['YEAR BUILT'])\n",
    "df_filtered['LATITUDE'] = pd.to_numeric(df_filtered['LATITUDE'])\n",
    "df_filtered['LONGITUDE'] = pd.to_numeric(df_filtered['LONGITUDE'])"
   ]
  },
  {
   "cell_type": "code",
   "execution_count": 17,
   "id": "22be7f44",
   "metadata": {},
   "outputs": [],
   "source": [
    "df_filtered = df_filtered.drop_duplicates().reset_index(drop=True)"
   ]
  },
  {
   "cell_type": "code",
   "execution_count": 26,
   "id": "a5e15306",
   "metadata": {},
   "outputs": [
    {
     "data": {
      "text/html": [
       "<div>\n",
       "<style scoped>\n",
       "    .dataframe tbody tr th:only-of-type {\n",
       "        vertical-align: middle;\n",
       "    }\n",
       "\n",
       "    .dataframe tbody tr th {\n",
       "        vertical-align: top;\n",
       "    }\n",
       "\n",
       "    .dataframe thead th {\n",
       "        text-align: right;\n",
       "    }\n",
       "</style>\n",
       "<table border=\"1\" class=\"dataframe\">\n",
       "  <thead>\n",
       "    <tr style=\"text-align: right;\">\n",
       "      <th></th>\n",
       "      <th>SALE TYPE</th>\n",
       "      <th>SOLD DATE</th>\n",
       "      <th>PROPERTY TYPE</th>\n",
       "      <th>ADDRESS</th>\n",
       "      <th>CITY</th>\n",
       "      <th>STATE OR PROVINCE</th>\n",
       "      <th>ZIP OR POSTAL CODE</th>\n",
       "      <th>PRICE</th>\n",
       "      <th>BEDS</th>\n",
       "      <th>BATHS</th>\n",
       "      <th>...</th>\n",
       "      <th>STATUS</th>\n",
       "      <th>NEXT OPEN HOUSE START TIME</th>\n",
       "      <th>NEXT OPEN HOUSE END TIME</th>\n",
       "      <th>URL</th>\n",
       "      <th>SOURCE</th>\n",
       "      <th>MLS#</th>\n",
       "      <th>FAVORITE</th>\n",
       "      <th>INTERESTED</th>\n",
       "      <th>LATITUDE</th>\n",
       "      <th>LONGITUDE</th>\n",
       "    </tr>\n",
       "  </thead>\n",
       "  <tbody>\n",
       "    <tr>\n",
       "      <th>561</th>\n",
       "      <td>PAST SALE</td>\n",
       "      <td>May-28-2024</td>\n",
       "      <td>Condo/Co-op</td>\n",
       "      <td>3001 Linton Blvd Unit 111C</td>\n",
       "      <td>Delray Beach</td>\n",
       "      <td>FL</td>\n",
       "      <td>33445.0</td>\n",
       "      <td>235.0</td>\n",
       "      <td>2.0</td>\n",
       "      <td>2.0</td>\n",
       "      <td>...</td>\n",
       "      <td>Sold</td>\n",
       "      <td>NaN</td>\n",
       "      <td>NaN</td>\n",
       "      <td>https://www.redfin.com/FL/Delray-Beach/3001-Li...</td>\n",
       "      <td>MARMLS</td>\n",
       "      <td>A11516989</td>\n",
       "      <td>N</td>\n",
       "      <td>Y</td>\n",
       "      <td>26.440089</td>\n",
       "      <td>-80.107045</td>\n",
       "    </tr>\n",
       "    <tr>\n",
       "      <th>572</th>\n",
       "      <td>PAST SALE</td>\n",
       "      <td>May-17-2024</td>\n",
       "      <td>Condo/Co-op</td>\n",
       "      <td>18 Westgate Ln Unit D</td>\n",
       "      <td>Boynton Beach</td>\n",
       "      <td>FL</td>\n",
       "      <td>33436.0</td>\n",
       "      <td>2000.0</td>\n",
       "      <td>2.0</td>\n",
       "      <td>2.0</td>\n",
       "      <td>...</td>\n",
       "      <td>Sold</td>\n",
       "      <td>NaN</td>\n",
       "      <td>NaN</td>\n",
       "      <td>https://www.redfin.com/FL/Boynton-Beach/18-Wes...</td>\n",
       "      <td>Beaches MLS</td>\n",
       "      <td>RX-10942131</td>\n",
       "      <td>N</td>\n",
       "      <td>Y</td>\n",
       "      <td>26.486472</td>\n",
       "      <td>-80.111977</td>\n",
       "    </tr>\n",
       "    <tr>\n",
       "      <th>549</th>\n",
       "      <td>PAST SALE</td>\n",
       "      <td>May-29-2024</td>\n",
       "      <td>Condo/Co-op</td>\n",
       "      <td>48 Stratford Ln Unit A</td>\n",
       "      <td>Boynton Beach</td>\n",
       "      <td>FL</td>\n",
       "      <td>33436.0</td>\n",
       "      <td>3500.0</td>\n",
       "      <td>2.0</td>\n",
       "      <td>2.0</td>\n",
       "      <td>...</td>\n",
       "      <td>Sold</td>\n",
       "      <td>NaN</td>\n",
       "      <td>NaN</td>\n",
       "      <td>https://www.redfin.com/FL/Boynton-Beach/48-Str...</td>\n",
       "      <td>Beaches MLS</td>\n",
       "      <td>RX-10981619</td>\n",
       "      <td>N</td>\n",
       "      <td>Y</td>\n",
       "      <td>26.487817</td>\n",
       "      <td>-80.109413</td>\n",
       "    </tr>\n",
       "    <tr>\n",
       "      <th>557</th>\n",
       "      <td>PAST SALE</td>\n",
       "      <td>May-31-2024</td>\n",
       "      <td>Condo/Co-op</td>\n",
       "      <td>11 Southport Ln Unit E</td>\n",
       "      <td>Boynton Beach</td>\n",
       "      <td>FL</td>\n",
       "      <td>33436.0</td>\n",
       "      <td>8000.0</td>\n",
       "      <td>2.0</td>\n",
       "      <td>2.0</td>\n",
       "      <td>...</td>\n",
       "      <td>Sold</td>\n",
       "      <td>NaN</td>\n",
       "      <td>NaN</td>\n",
       "      <td>https://www.redfin.com/FL/Boynton-Beach/11-Sou...</td>\n",
       "      <td>Beaches MLS</td>\n",
       "      <td>RX-10959650</td>\n",
       "      <td>N</td>\n",
       "      <td>Y</td>\n",
       "      <td>26.485645</td>\n",
       "      <td>-80.101124</td>\n",
       "    </tr>\n",
       "    <tr>\n",
       "      <th>547</th>\n",
       "      <td>PAST SALE</td>\n",
       "      <td>May-31-2024</td>\n",
       "      <td>Condo/Co-op</td>\n",
       "      <td>9307 Pecky Cypress Ln Unit 17D</td>\n",
       "      <td>Boca Raton</td>\n",
       "      <td>FL</td>\n",
       "      <td>33428.0</td>\n",
       "      <td>30000.0</td>\n",
       "      <td>2.0</td>\n",
       "      <td>2.0</td>\n",
       "      <td>...</td>\n",
       "      <td>Sold</td>\n",
       "      <td>NaN</td>\n",
       "      <td>NaN</td>\n",
       "      <td>https://www.redfin.com/FL/Boca-Raton/9307-Peck...</td>\n",
       "      <td>MARMLS</td>\n",
       "      <td>A11567825</td>\n",
       "      <td>N</td>\n",
       "      <td>Y</td>\n",
       "      <td>26.357701</td>\n",
       "      <td>-80.193217</td>\n",
       "    </tr>\n",
       "    <tr>\n",
       "      <th>580</th>\n",
       "      <td>PAST SALE</td>\n",
       "      <td>May-22-2024</td>\n",
       "      <td>Condo/Co-op</td>\n",
       "      <td>35 Southport Ln Unit H</td>\n",
       "      <td>Boynton Beach</td>\n",
       "      <td>FL</td>\n",
       "      <td>33436.0</td>\n",
       "      <td>42500.0</td>\n",
       "      <td>2.0</td>\n",
       "      <td>2.0</td>\n",
       "      <td>...</td>\n",
       "      <td>Sold</td>\n",
       "      <td>NaN</td>\n",
       "      <td>NaN</td>\n",
       "      <td>https://www.redfin.com/FL/Boynton-Beach/35-Sou...</td>\n",
       "      <td>Beaches MLS</td>\n",
       "      <td>RX-10895385</td>\n",
       "      <td>N</td>\n",
       "      <td>Y</td>\n",
       "      <td>26.485317</td>\n",
       "      <td>-80.102331</td>\n",
       "    </tr>\n",
       "    <tr>\n",
       "      <th>541</th>\n",
       "      <td>PAST SALE</td>\n",
       "      <td>May-7-2024</td>\n",
       "      <td>Condo/Co-op</td>\n",
       "      <td>12002 Iguana Bay</td>\n",
       "      <td>Boynton Beach</td>\n",
       "      <td>FL</td>\n",
       "      <td>33436.0</td>\n",
       "      <td>60000.0</td>\n",
       "      <td>2.0</td>\n",
       "      <td>1.0</td>\n",
       "      <td>...</td>\n",
       "      <td>Sold</td>\n",
       "      <td>NaN</td>\n",
       "      <td>NaN</td>\n",
       "      <td>https://www.redfin.com/FL/Boynton-Beach/12002-...</td>\n",
       "      <td>Beaches MLS</td>\n",
       "      <td>RX-10982541</td>\n",
       "      <td>N</td>\n",
       "      <td>Y</td>\n",
       "      <td>26.542053</td>\n",
       "      <td>-80.117494</td>\n",
       "    </tr>\n",
       "    <tr>\n",
       "      <th>558</th>\n",
       "      <td>PAST SALE</td>\n",
       "      <td>May-6-2024</td>\n",
       "      <td>Condo/Co-op</td>\n",
       "      <td>42 Stratford Ln Unit E</td>\n",
       "      <td>Boynton Beach</td>\n",
       "      <td>FL</td>\n",
       "      <td>33436.0</td>\n",
       "      <td>64900.0</td>\n",
       "      <td>2.0</td>\n",
       "      <td>2.0</td>\n",
       "      <td>...</td>\n",
       "      <td>Sold</td>\n",
       "      <td>NaN</td>\n",
       "      <td>NaN</td>\n",
       "      <td>https://www.redfin.com/FL/Boynton-Beach/42-Str...</td>\n",
       "      <td>Beaches MLS</td>\n",
       "      <td>RX-10961482</td>\n",
       "      <td>N</td>\n",
       "      <td>Y</td>\n",
       "      <td>26.485777</td>\n",
       "      <td>-80.106050</td>\n",
       "    </tr>\n",
       "    <tr>\n",
       "      <th>542</th>\n",
       "      <td>PAST SALE</td>\n",
       "      <td>May-10-2024</td>\n",
       "      <td>Condo/Co-op</td>\n",
       "      <td>111 Flanders C</td>\n",
       "      <td>Delray Beach</td>\n",
       "      <td>FL</td>\n",
       "      <td>33484.0</td>\n",
       "      <td>65000.0</td>\n",
       "      <td>1.0</td>\n",
       "      <td>1.5</td>\n",
       "      <td>...</td>\n",
       "      <td>Sold</td>\n",
       "      <td>NaN</td>\n",
       "      <td>NaN</td>\n",
       "      <td>https://www.redfin.com/FL/Delray-Beach/111-Fla...</td>\n",
       "      <td>Beaches MLS</td>\n",
       "      <td>RX-10976486</td>\n",
       "      <td>N</td>\n",
       "      <td>Y</td>\n",
       "      <td>26.439539</td>\n",
       "      <td>-80.145267</td>\n",
       "    </tr>\n",
       "    <tr>\n",
       "      <th>573</th>\n",
       "      <td>PAST SALE</td>\n",
       "      <td>May-10-2024</td>\n",
       "      <td>Condo/Co-op</td>\n",
       "      <td>2213 NE 1st Ct #204</td>\n",
       "      <td>Boynton Beach</td>\n",
       "      <td>FL</td>\n",
       "      <td>33435.0</td>\n",
       "      <td>65000.0</td>\n",
       "      <td>1.0</td>\n",
       "      <td>1.5</td>\n",
       "      <td>...</td>\n",
       "      <td>Sold</td>\n",
       "      <td>NaN</td>\n",
       "      <td>NaN</td>\n",
       "      <td>https://www.redfin.com/FL/Boynton-Beach/2213-N...</td>\n",
       "      <td>Beaches MLS</td>\n",
       "      <td>RX-10938160</td>\n",
       "      <td>N</td>\n",
       "      <td>Y</td>\n",
       "      <td>26.549978</td>\n",
       "      <td>-80.064232</td>\n",
       "    </tr>\n",
       "    <tr>\n",
       "      <th>560</th>\n",
       "      <td>PAST SALE</td>\n",
       "      <td>May-13-2024</td>\n",
       "      <td>Condo/Co-op</td>\n",
       "      <td>226 Canterbury J</td>\n",
       "      <td>West Palm Beach</td>\n",
       "      <td>FL</td>\n",
       "      <td>33417.0</td>\n",
       "      <td>68000.0</td>\n",
       "      <td>1.0</td>\n",
       "      <td>1.0</td>\n",
       "      <td>...</td>\n",
       "      <td>Sold</td>\n",
       "      <td>NaN</td>\n",
       "      <td>NaN</td>\n",
       "      <td>https://www.redfin.com/FL/West-Palm-Beach/226-...</td>\n",
       "      <td>Beaches MLS</td>\n",
       "      <td>RX-10961436</td>\n",
       "      <td>N</td>\n",
       "      <td>Y</td>\n",
       "      <td>26.720227</td>\n",
       "      <td>-80.132277</td>\n",
       "    </tr>\n",
       "    <tr>\n",
       "      <th>544</th>\n",
       "      <td>PAST SALE</td>\n",
       "      <td>May-3-2024</td>\n",
       "      <td>Condo/Co-op</td>\n",
       "      <td>2769 Garden Dr S #212</td>\n",
       "      <td>Lake Worth</td>\n",
       "      <td>FL</td>\n",
       "      <td>33461.0</td>\n",
       "      <td>70000.0</td>\n",
       "      <td>2.0</td>\n",
       "      <td>1.5</td>\n",
       "      <td>...</td>\n",
       "      <td>Sold</td>\n",
       "      <td>NaN</td>\n",
       "      <td>NaN</td>\n",
       "      <td>https://www.redfin.com/FL/Lake-Worth/2769-Gard...</td>\n",
       "      <td>Beaches MLS</td>\n",
       "      <td>RX-10969248</td>\n",
       "      <td>N</td>\n",
       "      <td>Y</td>\n",
       "      <td>26.633543</td>\n",
       "      <td>-80.084630</td>\n",
       "    </tr>\n",
       "    <tr>\n",
       "      <th>555</th>\n",
       "      <td>PAST SALE</td>\n",
       "      <td>May-20-2024</td>\n",
       "      <td>Condo/Co-op</td>\n",
       "      <td>547 Saxony Dr Unit L</td>\n",
       "      <td>Delray Beach</td>\n",
       "      <td>FL</td>\n",
       "      <td>33446.0</td>\n",
       "      <td>70000.0</td>\n",
       "      <td>1.0</td>\n",
       "      <td>1.5</td>\n",
       "      <td>...</td>\n",
       "      <td>Sold</td>\n",
       "      <td>NaN</td>\n",
       "      <td>NaN</td>\n",
       "      <td>https://www.redfin.com/FL/Delray-Beach/547-Sax...</td>\n",
       "      <td>Beaches MLS</td>\n",
       "      <td>RX-10957689</td>\n",
       "      <td>N</td>\n",
       "      <td>Y</td>\n",
       "      <td>26.440263</td>\n",
       "      <td>-80.150386</td>\n",
       "    </tr>\n",
       "    <tr>\n",
       "      <th>563</th>\n",
       "      <td>PAST SALE</td>\n",
       "      <td>May-3-2024</td>\n",
       "      <td>Condo/Co-op</td>\n",
       "      <td>2724 S Garden Dr #309</td>\n",
       "      <td>Lake Worth</td>\n",
       "      <td>FL</td>\n",
       "      <td>33461.0</td>\n",
       "      <td>71000.0</td>\n",
       "      <td>2.0</td>\n",
       "      <td>1.0</td>\n",
       "      <td>...</td>\n",
       "      <td>Sold</td>\n",
       "      <td>NaN</td>\n",
       "      <td>NaN</td>\n",
       "      <td>https://www.redfin.com/FL/Lake-Worth/2724-Gard...</td>\n",
       "      <td>Beaches MLS</td>\n",
       "      <td>RX-10939216</td>\n",
       "      <td>N</td>\n",
       "      <td>Y</td>\n",
       "      <td>26.632562</td>\n",
       "      <td>-80.084117</td>\n",
       "    </tr>\n",
       "    <tr>\n",
       "      <th>565</th>\n",
       "      <td>PAST SALE</td>\n",
       "      <td>May-14-2024</td>\n",
       "      <td>Condo/Co-op</td>\n",
       "      <td>790 Lori Dr #266</td>\n",
       "      <td>Palm Springs</td>\n",
       "      <td>FL</td>\n",
       "      <td>33461.0</td>\n",
       "      <td>72000.0</td>\n",
       "      <td>1.0</td>\n",
       "      <td>1.5</td>\n",
       "      <td>...</td>\n",
       "      <td>Sold</td>\n",
       "      <td>NaN</td>\n",
       "      <td>NaN</td>\n",
       "      <td>https://www.redfin.com/FL/Palm-Springs/790-Lor...</td>\n",
       "      <td>Beaches MLS</td>\n",
       "      <td>RX-10954682</td>\n",
       "      <td>N</td>\n",
       "      <td>Y</td>\n",
       "      <td>26.646672</td>\n",
       "      <td>-80.095674</td>\n",
       "    </tr>\n",
       "    <tr>\n",
       "      <th>567</th>\n",
       "      <td>PAST SALE</td>\n",
       "      <td>May-3-2024</td>\n",
       "      <td>Condo/Co-op</td>\n",
       "      <td>1843 Bridgewood Dr</td>\n",
       "      <td>Boca Raton</td>\n",
       "      <td>FL</td>\n",
       "      <td>33434.0</td>\n",
       "      <td>72000.0</td>\n",
       "      <td>2.0</td>\n",
       "      <td>2.0</td>\n",
       "      <td>...</td>\n",
       "      <td>Sold</td>\n",
       "      <td>NaN</td>\n",
       "      <td>NaN</td>\n",
       "      <td>https://www.redfin.com/FL/Boca-Raton/1843-Brid...</td>\n",
       "      <td>Beaches MLS</td>\n",
       "      <td>RX-10939302</td>\n",
       "      <td>N</td>\n",
       "      <td>Y</td>\n",
       "      <td>26.373894</td>\n",
       "      <td>-80.164420</td>\n",
       "    </tr>\n",
       "    <tr>\n",
       "      <th>578</th>\n",
       "      <td>PAST SALE</td>\n",
       "      <td>May-17-2024</td>\n",
       "      <td>Condo/Co-op</td>\n",
       "      <td>387 Sheffield P</td>\n",
       "      <td>West Palm Beach</td>\n",
       "      <td>FL</td>\n",
       "      <td>33417.0</td>\n",
       "      <td>75000.0</td>\n",
       "      <td>1.0</td>\n",
       "      <td>1.0</td>\n",
       "      <td>...</td>\n",
       "      <td>Sold</td>\n",
       "      <td>NaN</td>\n",
       "      <td>NaN</td>\n",
       "      <td>https://www.redfin.com/FL/West-Palm-Beach/387-...</td>\n",
       "      <td>Beaches MLS</td>\n",
       "      <td>RX-10928184</td>\n",
       "      <td>N</td>\n",
       "      <td>Y</td>\n",
       "      <td>26.721227</td>\n",
       "      <td>-80.124362</td>\n",
       "    </tr>\n",
       "    <tr>\n",
       "      <th>554</th>\n",
       "      <td>PAST SALE</td>\n",
       "      <td>May-31-2024</td>\n",
       "      <td>Condo/Co-op</td>\n",
       "      <td>375 Tuscany G</td>\n",
       "      <td>Delray Beach</td>\n",
       "      <td>FL</td>\n",
       "      <td>33446.0</td>\n",
       "      <td>75000.0</td>\n",
       "      <td>1.0</td>\n",
       "      <td>1.5</td>\n",
       "      <td>...</td>\n",
       "      <td>Sold</td>\n",
       "      <td>NaN</td>\n",
       "      <td>NaN</td>\n",
       "      <td>https://www.redfin.com/FL/Delray-Beach/375-Tus...</td>\n",
       "      <td>Beaches MLS</td>\n",
       "      <td>RX-10976449</td>\n",
       "      <td>N</td>\n",
       "      <td>Y</td>\n",
       "      <td>26.448051</td>\n",
       "      <td>-80.153636</td>\n",
       "    </tr>\n",
       "    <tr>\n",
       "      <th>551</th>\n",
       "      <td>PAST SALE</td>\n",
       "      <td>May-23-2024</td>\n",
       "      <td>Condo/Co-op</td>\n",
       "      <td>103 Sheffield E</td>\n",
       "      <td>West Palm Beach</td>\n",
       "      <td>FL</td>\n",
       "      <td>33417.0</td>\n",
       "      <td>78000.0</td>\n",
       "      <td>1.0</td>\n",
       "      <td>1.0</td>\n",
       "      <td>...</td>\n",
       "      <td>Sold</td>\n",
       "      <td>NaN</td>\n",
       "      <td>NaN</td>\n",
       "      <td>https://www.redfin.com/FL/West-Palm-Beach/103-...</td>\n",
       "      <td>Beaches MLS</td>\n",
       "      <td>RX-10974655</td>\n",
       "      <td>N</td>\n",
       "      <td>Y</td>\n",
       "      <td>26.718804</td>\n",
       "      <td>-80.125252</td>\n",
       "    </tr>\n",
       "    <tr>\n",
       "      <th>550</th>\n",
       "      <td>PAST SALE</td>\n",
       "      <td>May-3-2024</td>\n",
       "      <td>Condo/Co-op</td>\n",
       "      <td>25 Saxony A</td>\n",
       "      <td>Delray Beach</td>\n",
       "      <td>FL</td>\n",
       "      <td>33446.0</td>\n",
       "      <td>80000.0</td>\n",
       "      <td>2.0</td>\n",
       "      <td>2.0</td>\n",
       "      <td>...</td>\n",
       "      <td>Sold</td>\n",
       "      <td>NaN</td>\n",
       "      <td>NaN</td>\n",
       "      <td>https://www.redfin.com/FL/Delray-Beach/25-Saxo...</td>\n",
       "      <td>Beaches MLS</td>\n",
       "      <td>RX-10973053</td>\n",
       "      <td>N</td>\n",
       "      <td>Y</td>\n",
       "      <td>26.440263</td>\n",
       "      <td>-80.150386</td>\n",
       "    </tr>\n",
       "  </tbody>\n",
       "</table>\n",
       "<p>20 rows × 27 columns</p>\n",
       "</div>"
      ],
      "text/plain": [
       "     SALE TYPE    SOLD DATE PROPERTY TYPE                         ADDRESS  \\\n",
       "561  PAST SALE  May-28-2024   Condo/Co-op      3001 Linton Blvd Unit 111C   \n",
       "572  PAST SALE  May-17-2024   Condo/Co-op           18 Westgate Ln Unit D   \n",
       "549  PAST SALE  May-29-2024   Condo/Co-op          48 Stratford Ln Unit A   \n",
       "557  PAST SALE  May-31-2024   Condo/Co-op          11 Southport Ln Unit E   \n",
       "547  PAST SALE  May-31-2024   Condo/Co-op  9307 Pecky Cypress Ln Unit 17D   \n",
       "580  PAST SALE  May-22-2024   Condo/Co-op          35 Southport Ln Unit H   \n",
       "541  PAST SALE   May-7-2024   Condo/Co-op                12002 Iguana Bay   \n",
       "558  PAST SALE   May-6-2024   Condo/Co-op          42 Stratford Ln Unit E   \n",
       "542  PAST SALE  May-10-2024   Condo/Co-op                  111 Flanders C   \n",
       "573  PAST SALE  May-10-2024   Condo/Co-op             2213 NE 1st Ct #204   \n",
       "560  PAST SALE  May-13-2024   Condo/Co-op                226 Canterbury J   \n",
       "544  PAST SALE   May-3-2024   Condo/Co-op           2769 Garden Dr S #212   \n",
       "555  PAST SALE  May-20-2024   Condo/Co-op            547 Saxony Dr Unit L   \n",
       "563  PAST SALE   May-3-2024   Condo/Co-op           2724 S Garden Dr #309   \n",
       "565  PAST SALE  May-14-2024   Condo/Co-op                790 Lori Dr #266   \n",
       "567  PAST SALE   May-3-2024   Condo/Co-op              1843 Bridgewood Dr   \n",
       "578  PAST SALE  May-17-2024   Condo/Co-op                 387 Sheffield P   \n",
       "554  PAST SALE  May-31-2024   Condo/Co-op                   375 Tuscany G   \n",
       "551  PAST SALE  May-23-2024   Condo/Co-op                 103 Sheffield E   \n",
       "550  PAST SALE   May-3-2024   Condo/Co-op                     25 Saxony A   \n",
       "\n",
       "                CITY STATE OR PROVINCE  ZIP OR POSTAL CODE    PRICE  BEDS  \\\n",
       "561     Delray Beach                FL             33445.0    235.0   2.0   \n",
       "572    Boynton Beach                FL             33436.0   2000.0   2.0   \n",
       "549    Boynton Beach                FL             33436.0   3500.0   2.0   \n",
       "557    Boynton Beach                FL             33436.0   8000.0   2.0   \n",
       "547       Boca Raton                FL             33428.0  30000.0   2.0   \n",
       "580    Boynton Beach                FL             33436.0  42500.0   2.0   \n",
       "541    Boynton Beach                FL             33436.0  60000.0   2.0   \n",
       "558    Boynton Beach                FL             33436.0  64900.0   2.0   \n",
       "542     Delray Beach                FL             33484.0  65000.0   1.0   \n",
       "573    Boynton Beach                FL             33435.0  65000.0   1.0   \n",
       "560  West Palm Beach                FL             33417.0  68000.0   1.0   \n",
       "544       Lake Worth                FL             33461.0  70000.0   2.0   \n",
       "555     Delray Beach                FL             33446.0  70000.0   1.0   \n",
       "563       Lake Worth                FL             33461.0  71000.0   2.0   \n",
       "565     Palm Springs                FL             33461.0  72000.0   1.0   \n",
       "567       Boca Raton                FL             33434.0  72000.0   2.0   \n",
       "578  West Palm Beach                FL             33417.0  75000.0   1.0   \n",
       "554     Delray Beach                FL             33446.0  75000.0   1.0   \n",
       "551  West Palm Beach                FL             33417.0  78000.0   1.0   \n",
       "550     Delray Beach                FL             33446.0  80000.0   2.0   \n",
       "\n",
       "     BATHS  ... STATUS  NEXT OPEN HOUSE START TIME  NEXT OPEN HOUSE END TIME  \\\n",
       "561    2.0  ...   Sold                         NaN                       NaN   \n",
       "572    2.0  ...   Sold                         NaN                       NaN   \n",
       "549    2.0  ...   Sold                         NaN                       NaN   \n",
       "557    2.0  ...   Sold                         NaN                       NaN   \n",
       "547    2.0  ...   Sold                         NaN                       NaN   \n",
       "580    2.0  ...   Sold                         NaN                       NaN   \n",
       "541    1.0  ...   Sold                         NaN                       NaN   \n",
       "558    2.0  ...   Sold                         NaN                       NaN   \n",
       "542    1.5  ...   Sold                         NaN                       NaN   \n",
       "573    1.5  ...   Sold                         NaN                       NaN   \n",
       "560    1.0  ...   Sold                         NaN                       NaN   \n",
       "544    1.5  ...   Sold                         NaN                       NaN   \n",
       "555    1.5  ...   Sold                         NaN                       NaN   \n",
       "563    1.0  ...   Sold                         NaN                       NaN   \n",
       "565    1.5  ...   Sold                         NaN                       NaN   \n",
       "567    2.0  ...   Sold                         NaN                       NaN   \n",
       "578    1.0  ...   Sold                         NaN                       NaN   \n",
       "554    1.5  ...   Sold                         NaN                       NaN   \n",
       "551    1.0  ...   Sold                         NaN                       NaN   \n",
       "550    2.0  ...   Sold                         NaN                       NaN   \n",
       "\n",
       "                                                   URL       SOURCE  \\\n",
       "561  https://www.redfin.com/FL/Delray-Beach/3001-Li...       MARMLS   \n",
       "572  https://www.redfin.com/FL/Boynton-Beach/18-Wes...  Beaches MLS   \n",
       "549  https://www.redfin.com/FL/Boynton-Beach/48-Str...  Beaches MLS   \n",
       "557  https://www.redfin.com/FL/Boynton-Beach/11-Sou...  Beaches MLS   \n",
       "547  https://www.redfin.com/FL/Boca-Raton/9307-Peck...       MARMLS   \n",
       "580  https://www.redfin.com/FL/Boynton-Beach/35-Sou...  Beaches MLS   \n",
       "541  https://www.redfin.com/FL/Boynton-Beach/12002-...  Beaches MLS   \n",
       "558  https://www.redfin.com/FL/Boynton-Beach/42-Str...  Beaches MLS   \n",
       "542  https://www.redfin.com/FL/Delray-Beach/111-Fla...  Beaches MLS   \n",
       "573  https://www.redfin.com/FL/Boynton-Beach/2213-N...  Beaches MLS   \n",
       "560  https://www.redfin.com/FL/West-Palm-Beach/226-...  Beaches MLS   \n",
       "544  https://www.redfin.com/FL/Lake-Worth/2769-Gard...  Beaches MLS   \n",
       "555  https://www.redfin.com/FL/Delray-Beach/547-Sax...  Beaches MLS   \n",
       "563  https://www.redfin.com/FL/Lake-Worth/2724-Gard...  Beaches MLS   \n",
       "565  https://www.redfin.com/FL/Palm-Springs/790-Lor...  Beaches MLS   \n",
       "567  https://www.redfin.com/FL/Boca-Raton/1843-Brid...  Beaches MLS   \n",
       "578  https://www.redfin.com/FL/West-Palm-Beach/387-...  Beaches MLS   \n",
       "554  https://www.redfin.com/FL/Delray-Beach/375-Tus...  Beaches MLS   \n",
       "551  https://www.redfin.com/FL/West-Palm-Beach/103-...  Beaches MLS   \n",
       "550  https://www.redfin.com/FL/Delray-Beach/25-Saxo...  Beaches MLS   \n",
       "\n",
       "            MLS#  FAVORITE INTERESTED   LATITUDE  LONGITUDE  \n",
       "561    A11516989         N          Y  26.440089 -80.107045  \n",
       "572  RX-10942131         N          Y  26.486472 -80.111977  \n",
       "549  RX-10981619         N          Y  26.487817 -80.109413  \n",
       "557  RX-10959650         N          Y  26.485645 -80.101124  \n",
       "547    A11567825         N          Y  26.357701 -80.193217  \n",
       "580  RX-10895385         N          Y  26.485317 -80.102331  \n",
       "541  RX-10982541         N          Y  26.542053 -80.117494  \n",
       "558  RX-10961482         N          Y  26.485777 -80.106050  \n",
       "542  RX-10976486         N          Y  26.439539 -80.145267  \n",
       "573  RX-10938160         N          Y  26.549978 -80.064232  \n",
       "560  RX-10961436         N          Y  26.720227 -80.132277  \n",
       "544  RX-10969248         N          Y  26.633543 -80.084630  \n",
       "555  RX-10957689         N          Y  26.440263 -80.150386  \n",
       "563  RX-10939216         N          Y  26.632562 -80.084117  \n",
       "565  RX-10954682         N          Y  26.646672 -80.095674  \n",
       "567  RX-10939302         N          Y  26.373894 -80.164420  \n",
       "578  RX-10928184         N          Y  26.721227 -80.124362  \n",
       "554  RX-10976449         N          Y  26.448051 -80.153636  \n",
       "551  RX-10974655         N          Y  26.718804 -80.125252  \n",
       "550  RX-10973053         N          Y  26.440263 -80.150386  \n",
       "\n",
       "[20 rows x 27 columns]"
      ]
     },
     "execution_count": 26,
     "metadata": {},
     "output_type": "execute_result"
    }
   ],
   "source": [
    "df_filtered.sort_values(by='PRICE',ascending=True).head(20)"
   ]
  },
  {
   "cell_type": "code",
   "execution_count": 27,
   "id": "e6256bce",
   "metadata": {},
   "outputs": [
    {
     "name": "stdout",
     "output_type": "stream",
     "text": [
      "https://www.redfin.com/FL/Lake-Worth/2724-Garden-Dr-S-33461/unit-309/home/42293453\n"
     ]
    }
   ],
   "source": [
    "print(df_filtered['URL'].iloc[561])"
   ]
  },
  {
   "cell_type": "code",
   "execution_count": 25,
   "id": "bdd112db",
   "metadata": {},
   "outputs": [],
   "source": [
    "df_filtered = df_filtered.drop(index=556)"
   ]
  },
  {
   "cell_type": "code",
   "execution_count": 21,
   "id": "fe440217",
   "metadata": {},
   "outputs": [],
   "source": [
    "# # Correct the prices, if needed\n",
    "# df_filtered.at[171,'PRICE']=(135_000)\n",
    "\n",
    "# # Correct the psf, if needed\n",
    "# df_filtered.at[171,'$/SQUARE FEET']=(135_000/1048)"
   ]
  },
  {
   "cell_type": "code",
   "execution_count": 22,
   "id": "e3877a57",
   "metadata": {},
   "outputs": [],
   "source": [
    "### If needed, drop the row with the lowest price\n",
    "# min_value_index = df_filtered['PRICE'].idxmin()\n",
    "# df_filtered = df_filtered.drop(min_value_index)"
   ]
  },
  {
   "cell_type": "code",
   "execution_count": 23,
   "id": "7e529e83",
   "metadata": {},
   "outputs": [],
   "source": [
    "# print(df_filtered['URL'].iloc[291])"
   ]
  },
  {
   "cell_type": "code",
   "execution_count": 50,
   "id": "c759bddd",
   "metadata": {},
   "outputs": [],
   "source": [
    "df_filtered = df_filtered.drop(index=561)"
   ]
  },
  {
   "cell_type": "code",
   "execution_count": 53,
   "id": "9cb535b5",
   "metadata": {},
   "outputs": [],
   "source": [
    "df_filtered = df_filtered.drop(index=[572,549,557])"
   ]
  },
  {
   "cell_type": "code",
   "execution_count": 66,
   "id": "91feb56f",
   "metadata": {},
   "outputs": [],
   "source": [
    "df_filtered.reset_index(inplace=True)"
   ]
  },
  {
   "cell_type": "code",
   "execution_count": 68,
   "id": "1831e6de",
   "metadata": {},
   "outputs": [],
   "source": [
    "df_filtered = df_filtered.drop(columns=['level_0','index'])"
   ]
  },
  {
   "cell_type": "code",
   "execution_count": 70,
   "id": "a967f103",
   "metadata": {},
   "outputs": [
    {
     "name": "stdout",
     "output_type": "stream",
     "text": [
      "https://www.redfin.com/FL/Boca-Raton/9307-Pecky-Cypress-Ln-33428/unit-17D/home/42252817\n"
     ]
    }
   ],
   "source": [
    "print(df_filtered.iloc[778]['URL'])"
   ]
  },
  {
   "cell_type": "code",
   "execution_count": 71,
   "id": "489213e9",
   "metadata": {},
   "outputs": [
    {
     "data": {
      "text/plain": [
       "Index(['SOLD DATE', 'ADDRESS', 'CITY', 'PRICE', 'BEDS', 'BATHS', 'LOCATION',\n",
       "       'YEAR BUILT', 'DAYS ON MARKET', '$/SQUARE FEET', 'URL', 'LATITUDE',\n",
       "       'LONGITUDE', 'PRICE_AS_CURRENCY', 'YEAR BUILT DISPLAY',\n",
       "       'PRICE_SQUARE_FEET_AS_CURRENCY', 'COLOR', 'RANK', 'FULL_ADDRESS'],\n",
       "      dtype='object')"
      ]
     },
     "execution_count": 71,
     "metadata": {},
     "output_type": "execute_result"
    }
   ],
   "source": [
    "df_filtered.columns"
   ]
  },
  {
   "cell_type": "code",
   "execution_count": 73,
   "id": "7d3a7e72",
   "metadata": {},
   "outputs": [],
   "source": [
    "df_filtered.at[778,'PRICE']=(300_000)\n",
    "df_filtered.at[778,'$/SQUARE FEET']=(300_000/1266)"
   ]
  },
  {
   "cell_type": "code",
   "execution_count": 74,
   "id": "42d775ef",
   "metadata": {},
   "outputs": [
    {
     "data": {
      "text/html": [
       "<div>\n",
       "<style scoped>\n",
       "    .dataframe tbody tr th:only-of-type {\n",
       "        vertical-align: middle;\n",
       "    }\n",
       "\n",
       "    .dataframe tbody tr th {\n",
       "        vertical-align: top;\n",
       "    }\n",
       "\n",
       "    .dataframe thead th {\n",
       "        text-align: right;\n",
       "    }\n",
       "</style>\n",
       "<table border=\"1\" class=\"dataframe\">\n",
       "  <thead>\n",
       "    <tr style=\"text-align: right;\">\n",
       "      <th></th>\n",
       "      <th>PRICE</th>\n",
       "      <th>ADDRESS</th>\n",
       "      <th>CITY</th>\n",
       "      <th>$/SQUARE FEET</th>\n",
       "    </tr>\n",
       "  </thead>\n",
       "  <tbody>\n",
       "    <tr>\n",
       "      <th>777</th>\n",
       "      <td>42500.0</td>\n",
       "      <td>35 Southport Ln Unit H</td>\n",
       "      <td>Boynton Beach</td>\n",
       "      <td>30.0</td>\n",
       "    </tr>\n",
       "    <tr>\n",
       "      <th>775</th>\n",
       "      <td>64900.0</td>\n",
       "      <td>42 Stratford Ln Unit E</td>\n",
       "      <td>Boynton Beach</td>\n",
       "      <td>47.0</td>\n",
       "    </tr>\n",
       "    <tr>\n",
       "      <th>767</th>\n",
       "      <td>72000.0</td>\n",
       "      <td>1843 Bridgewood Dr</td>\n",
       "      <td>Boca Raton</td>\n",
       "      <td>69.0</td>\n",
       "    </tr>\n",
       "    <tr>\n",
       "      <th>771</th>\n",
       "      <td>70000.0</td>\n",
       "      <td>2769 Garden Dr S #212</td>\n",
       "      <td>Lake Worth</td>\n",
       "      <td>78.0</td>\n",
       "    </tr>\n",
       "    <tr>\n",
       "      <th>769</th>\n",
       "      <td>71000.0</td>\n",
       "      <td>2724 S Garden Dr #309</td>\n",
       "      <td>Lake Worth</td>\n",
       "      <td>79.0</td>\n",
       "    </tr>\n",
       "    <tr>\n",
       "      <th>776</th>\n",
       "      <td>60000.0</td>\n",
       "      <td>12002 Iguana Bay</td>\n",
       "      <td>Boynton Beach</td>\n",
       "      <td>83.0</td>\n",
       "    </tr>\n",
       "    <tr>\n",
       "      <th>682</th>\n",
       "      <td>139000.0</td>\n",
       "      <td>50 Stratford Ln Unit G</td>\n",
       "      <td>Boynton Beach</td>\n",
       "      <td>85.0</td>\n",
       "    </tr>\n",
       "    <tr>\n",
       "      <th>773</th>\n",
       "      <td>65000.0</td>\n",
       "      <td>111 Flanders C</td>\n",
       "      <td>Delray Beach</td>\n",
       "      <td>86.0</td>\n",
       "    </tr>\n",
       "    <tr>\n",
       "      <th>715</th>\n",
       "      <td>120000.0</td>\n",
       "      <td>31 Southport Ln Unit F</td>\n",
       "      <td>Boynton Beach</td>\n",
       "      <td>87.0</td>\n",
       "    </tr>\n",
       "    <tr>\n",
       "      <th>763</th>\n",
       "      <td>80000.0</td>\n",
       "      <td>25 Saxony A</td>\n",
       "      <td>Delray Beach</td>\n",
       "      <td>91.0</td>\n",
       "    </tr>\n",
       "    <tr>\n",
       "      <th>768</th>\n",
       "      <td>72000.0</td>\n",
       "      <td>790 Lori Dr #266</td>\n",
       "      <td>Palm Springs</td>\n",
       "      <td>91.0</td>\n",
       "    </tr>\n",
       "    <tr>\n",
       "      <th>751</th>\n",
       "      <td>96500.0</td>\n",
       "      <td>1853 Bridgewood Dr #1853</td>\n",
       "      <td>Boca Raton</td>\n",
       "      <td>92.0</td>\n",
       "    </tr>\n",
       "    <tr>\n",
       "      <th>752</th>\n",
       "      <td>95000.0</td>\n",
       "      <td>312 NE 17th Ave #202</td>\n",
       "      <td>Boynton Beach</td>\n",
       "      <td>93.0</td>\n",
       "    </tr>\n",
       "    <tr>\n",
       "      <th>654</th>\n",
       "      <td>150000.0</td>\n",
       "      <td>3 E Stratford Dr Unit F</td>\n",
       "      <td>Boynton Beach</td>\n",
       "      <td>95.0</td>\n",
       "    </tr>\n",
       "    <tr>\n",
       "      <th>770</th>\n",
       "      <td>70000.0</td>\n",
       "      <td>547 Saxony Dr Unit L</td>\n",
       "      <td>Delray Beach</td>\n",
       "      <td>96.0</td>\n",
       "    </tr>\n",
       "    <tr>\n",
       "      <th>762</th>\n",
       "      <td>85000.0</td>\n",
       "      <td>354 Saxony H</td>\n",
       "      <td>Delray Beach</td>\n",
       "      <td>98.0</td>\n",
       "    </tr>\n",
       "    <tr>\n",
       "      <th>560</th>\n",
       "      <td>200000.0</td>\n",
       "      <td>6 Westgate Ln Unit D</td>\n",
       "      <td>Boynton Beach</td>\n",
       "      <td>99.0</td>\n",
       "    </tr>\n",
       "    <tr>\n",
       "      <th>759</th>\n",
       "      <td>90000.0</td>\n",
       "      <td>2724 S Garden Dr #204</td>\n",
       "      <td>Lake Worth Beach</td>\n",
       "      <td>101.0</td>\n",
       "    </tr>\n",
       "    <tr>\n",
       "      <th>701</th>\n",
       "      <td>126000.0</td>\n",
       "      <td>20321 Boca West Dr #1402</td>\n",
       "      <td>Boca Raton</td>\n",
       "      <td>103.0</td>\n",
       "    </tr>\n",
       "    <tr>\n",
       "      <th>774</th>\n",
       "      <td>65000.0</td>\n",
       "      <td>2213 NE 1st Ct #204</td>\n",
       "      <td>Boynton Beach</td>\n",
       "      <td>103.0</td>\n",
       "    </tr>\n",
       "  </tbody>\n",
       "</table>\n",
       "</div>"
      ],
      "text/plain": [
       "        PRICE                   ADDRESS              CITY  $/SQUARE FEET\n",
       "777   42500.0    35 Southport Ln Unit H     Boynton Beach           30.0\n",
       "775   64900.0    42 Stratford Ln Unit E     Boynton Beach           47.0\n",
       "767   72000.0        1843 Bridgewood Dr        Boca Raton           69.0\n",
       "771   70000.0     2769 Garden Dr S #212        Lake Worth           78.0\n",
       "769   71000.0     2724 S Garden Dr #309        Lake Worth           79.0\n",
       "776   60000.0          12002 Iguana Bay     Boynton Beach           83.0\n",
       "682  139000.0    50 Stratford Ln Unit G     Boynton Beach           85.0\n",
       "773   65000.0            111 Flanders C      Delray Beach           86.0\n",
       "715  120000.0    31 Southport Ln Unit F     Boynton Beach           87.0\n",
       "763   80000.0               25 Saxony A      Delray Beach           91.0\n",
       "768   72000.0          790 Lori Dr #266      Palm Springs           91.0\n",
       "751   96500.0  1853 Bridgewood Dr #1853        Boca Raton           92.0\n",
       "752   95000.0      312 NE 17th Ave #202     Boynton Beach           93.0\n",
       "654  150000.0   3 E Stratford Dr Unit F     Boynton Beach           95.0\n",
       "770   70000.0      547 Saxony Dr Unit L      Delray Beach           96.0\n",
       "762   85000.0              354 Saxony H      Delray Beach           98.0\n",
       "560  200000.0      6 Westgate Ln Unit D     Boynton Beach           99.0\n",
       "759   90000.0     2724 S Garden Dr #204  Lake Worth Beach          101.0\n",
       "701  126000.0  20321 Boca West Dr #1402        Boca Raton          103.0\n",
       "774   65000.0       2213 NE 1st Ct #204     Boynton Beach          103.0"
      ]
     },
     "execution_count": 74,
     "metadata": {},
     "output_type": "execute_result"
    }
   ],
   "source": [
    "# Find problem psf by searching for low values\n",
    "df_filtered.sort_values(by='$/SQUARE FEET',ascending=True).head(20)[['PRICE','ADDRESS','CITY','$/SQUARE FEET']]"
   ]
  },
  {
   "cell_type": "code",
   "execution_count": 25,
   "id": "6895cf71",
   "metadata": {},
   "outputs": [],
   "source": [
    "# # Drop sales that aren't condos but labeled as such\n",
    "# df_filtered = df_filtered.drop(1320)"
   ]
  },
  {
   "cell_type": "markdown",
   "id": "103ad9df",
   "metadata": {},
   "source": [
    "## Make Maps"
   ]
  },
  {
   "cell_type": "code",
   "execution_count": 75,
   "id": "42ad9d63",
   "metadata": {},
   "outputs": [],
   "source": [
    "### Create a price column formatted as currency ###\n",
    "df_filtered['PRICE_AS_CURRENCY'] = df_filtered['PRICE'].apply(lambda x: \"${:,.0f}\".format(x))\n",
    "### Set formatting for Beds, Baths ###\n",
    "df_filtered['YEAR BUILT DISPLAY'] = df_filtered['YEAR BUILT'].apply(lambda x: '{:.0f}'.format(x))\n",
    "df_filtered['PRICE_SQUARE_FEET_AS_CURRENCY'] = df_filtered['$/SQUARE FEET'].apply(lambda x: '${:,.0f}'.format(x))"
   ]
  },
  {
   "cell_type": "code",
   "execution_count": 76,
   "id": "f42ba6b5",
   "metadata": {},
   "outputs": [],
   "source": [
    "df_filtered = df_filtered.sort_values(by=['PRICE'], ascending=False)\n",
    "### Insert different colors for top 10 sales vs. the rest ###\n",
    "df_filtered['COLOR'] = ''\n",
    "### Create RANK column ###\n",
    "df_filtered['RANK'] = 0\n",
    "### Insert RANK values ###\n",
    "df_filtered['RANK'] = range(1, len(df_filtered) + 1)\n",
    "# use numpy to assign values to the 'COLOR' column\n",
    "df_filtered['COLOR'] = np.where(df_filtered['RANK'] <= 10, 'orange', 'blue')"
   ]
  },
  {
   "cell_type": "markdown",
   "id": "99380454",
   "metadata": {},
   "source": [
    "## HTML Popup Formatter"
   ]
  },
  {
   "cell_type": "code",
   "execution_count": 77,
   "id": "6ffa151c",
   "metadata": {},
   "outputs": [],
   "source": [
    "### Define list of columns to drop from DF ###\n",
    "columns_drop = ['SALE TYPE','PROPERTY TYPE','STATE OR PROVINCE','ZIP OR POSTAL CODE','HOA/MONTH','STATUS','NEXT OPEN HOUSE START TIME','NEXT OPEN HOUSE END TIME','SOURCE','MLS#','FAVORITE','INTERESTED','SQUARE FEET','LOT SIZE']"
   ]
  },
  {
   "cell_type": "code",
   "execution_count": 78,
   "id": "b214f9e8",
   "metadata": {},
   "outputs": [
    {
     "ename": "KeyError",
     "evalue": "\"['SALE TYPE', 'PROPERTY TYPE', 'STATE OR PROVINCE', 'ZIP OR POSTAL CODE', 'HOA/MONTH', 'STATUS', 'NEXT OPEN HOUSE START TIME', 'NEXT OPEN HOUSE END TIME', 'SOURCE', 'MLS#', 'FAVORITE', 'INTERESTED', 'SQUARE FEET', 'LOT SIZE'] not found in axis\"",
     "output_type": "error",
     "traceback": [
      "\u001b[0;31m---------------------------------------------------------------------------\u001b[0m",
      "\u001b[0;31mKeyError\u001b[0m                                  Traceback (most recent call last)",
      "Cell \u001b[0;32mIn[78], line 2\u001b[0m\n\u001b[1;32m      1\u001b[0m \u001b[38;5;66;03m### Drop the columns ###\u001b[39;00m\n\u001b[0;32m----> 2\u001b[0m df_filtered \u001b[38;5;241m=\u001b[39m \u001b[43mdf_filtered\u001b[49m\u001b[38;5;241;43m.\u001b[39;49m\u001b[43mdrop\u001b[49m\u001b[43m(\u001b[49m\u001b[43mcolumns\u001b[49m\u001b[38;5;241;43m=\u001b[39;49m\u001b[43mcolumns_drop\u001b[49m\u001b[43m)\u001b[49m\n",
      "File \u001b[0;32m~/opt/anaconda3/lib/python3.9/site-packages/pandas/core/frame.py:5568\u001b[0m, in \u001b[0;36mDataFrame.drop\u001b[0;34m(self, labels, axis, index, columns, level, inplace, errors)\u001b[0m\n\u001b[1;32m   5420\u001b[0m \u001b[38;5;28;01mdef\u001b[39;00m \u001b[38;5;21mdrop\u001b[39m(\n\u001b[1;32m   5421\u001b[0m     \u001b[38;5;28mself\u001b[39m,\n\u001b[1;32m   5422\u001b[0m     labels: IndexLabel \u001b[38;5;241m|\u001b[39m \u001b[38;5;28;01mNone\u001b[39;00m \u001b[38;5;241m=\u001b[39m \u001b[38;5;28;01mNone\u001b[39;00m,\n\u001b[0;32m   (...)\u001b[0m\n\u001b[1;32m   5429\u001b[0m     errors: IgnoreRaise \u001b[38;5;241m=\u001b[39m \u001b[38;5;124m\"\u001b[39m\u001b[38;5;124mraise\u001b[39m\u001b[38;5;124m\"\u001b[39m,\n\u001b[1;32m   5430\u001b[0m ) \u001b[38;5;241m-\u001b[39m\u001b[38;5;241m>\u001b[39m DataFrame \u001b[38;5;241m|\u001b[39m \u001b[38;5;28;01mNone\u001b[39;00m:\n\u001b[1;32m   5431\u001b[0m     \u001b[38;5;124;03m\"\"\"\u001b[39;00m\n\u001b[1;32m   5432\u001b[0m \u001b[38;5;124;03m    Drop specified labels from rows or columns.\u001b[39;00m\n\u001b[1;32m   5433\u001b[0m \n\u001b[0;32m   (...)\u001b[0m\n\u001b[1;32m   5566\u001b[0m \u001b[38;5;124;03m            weight  1.0     0.8\u001b[39;00m\n\u001b[1;32m   5567\u001b[0m \u001b[38;5;124;03m    \"\"\"\u001b[39;00m\n\u001b[0;32m-> 5568\u001b[0m     \u001b[38;5;28;01mreturn\u001b[39;00m \u001b[38;5;28;43msuper\u001b[39;49m\u001b[43m(\u001b[49m\u001b[43m)\u001b[49m\u001b[38;5;241;43m.\u001b[39;49m\u001b[43mdrop\u001b[49m\u001b[43m(\u001b[49m\n\u001b[1;32m   5569\u001b[0m \u001b[43m        \u001b[49m\u001b[43mlabels\u001b[49m\u001b[38;5;241;43m=\u001b[39;49m\u001b[43mlabels\u001b[49m\u001b[43m,\u001b[49m\n\u001b[1;32m   5570\u001b[0m \u001b[43m        \u001b[49m\u001b[43maxis\u001b[49m\u001b[38;5;241;43m=\u001b[39;49m\u001b[43maxis\u001b[49m\u001b[43m,\u001b[49m\n\u001b[1;32m   5571\u001b[0m \u001b[43m        \u001b[49m\u001b[43mindex\u001b[49m\u001b[38;5;241;43m=\u001b[39;49m\u001b[43mindex\u001b[49m\u001b[43m,\u001b[49m\n\u001b[1;32m   5572\u001b[0m \u001b[43m        \u001b[49m\u001b[43mcolumns\u001b[49m\u001b[38;5;241;43m=\u001b[39;49m\u001b[43mcolumns\u001b[49m\u001b[43m,\u001b[49m\n\u001b[1;32m   5573\u001b[0m \u001b[43m        \u001b[49m\u001b[43mlevel\u001b[49m\u001b[38;5;241;43m=\u001b[39;49m\u001b[43mlevel\u001b[49m\u001b[43m,\u001b[49m\n\u001b[1;32m   5574\u001b[0m \u001b[43m        \u001b[49m\u001b[43minplace\u001b[49m\u001b[38;5;241;43m=\u001b[39;49m\u001b[43minplace\u001b[49m\u001b[43m,\u001b[49m\n\u001b[1;32m   5575\u001b[0m \u001b[43m        \u001b[49m\u001b[43merrors\u001b[49m\u001b[38;5;241;43m=\u001b[39;49m\u001b[43merrors\u001b[49m\u001b[43m,\u001b[49m\n\u001b[1;32m   5576\u001b[0m \u001b[43m    \u001b[49m\u001b[43m)\u001b[49m\n",
      "File \u001b[0;32m~/opt/anaconda3/lib/python3.9/site-packages/pandas/core/generic.py:4782\u001b[0m, in \u001b[0;36mNDFrame.drop\u001b[0;34m(self, labels, axis, index, columns, level, inplace, errors)\u001b[0m\n\u001b[1;32m   4780\u001b[0m \u001b[38;5;28;01mfor\u001b[39;00m axis, labels \u001b[38;5;129;01min\u001b[39;00m axes\u001b[38;5;241m.\u001b[39mitems():\n\u001b[1;32m   4781\u001b[0m     \u001b[38;5;28;01mif\u001b[39;00m labels \u001b[38;5;129;01mis\u001b[39;00m \u001b[38;5;129;01mnot\u001b[39;00m \u001b[38;5;28;01mNone\u001b[39;00m:\n\u001b[0;32m-> 4782\u001b[0m         obj \u001b[38;5;241m=\u001b[39m \u001b[43mobj\u001b[49m\u001b[38;5;241;43m.\u001b[39;49m\u001b[43m_drop_axis\u001b[49m\u001b[43m(\u001b[49m\u001b[43mlabels\u001b[49m\u001b[43m,\u001b[49m\u001b[43m \u001b[49m\u001b[43maxis\u001b[49m\u001b[43m,\u001b[49m\u001b[43m \u001b[49m\u001b[43mlevel\u001b[49m\u001b[38;5;241;43m=\u001b[39;49m\u001b[43mlevel\u001b[49m\u001b[43m,\u001b[49m\u001b[43m \u001b[49m\u001b[43merrors\u001b[49m\u001b[38;5;241;43m=\u001b[39;49m\u001b[43merrors\u001b[49m\u001b[43m)\u001b[49m\n\u001b[1;32m   4784\u001b[0m \u001b[38;5;28;01mif\u001b[39;00m inplace:\n\u001b[1;32m   4785\u001b[0m     \u001b[38;5;28mself\u001b[39m\u001b[38;5;241m.\u001b[39m_update_inplace(obj)\n",
      "File \u001b[0;32m~/opt/anaconda3/lib/python3.9/site-packages/pandas/core/generic.py:4824\u001b[0m, in \u001b[0;36mNDFrame._drop_axis\u001b[0;34m(self, labels, axis, level, errors, only_slice)\u001b[0m\n\u001b[1;32m   4822\u001b[0m         new_axis \u001b[38;5;241m=\u001b[39m axis\u001b[38;5;241m.\u001b[39mdrop(labels, level\u001b[38;5;241m=\u001b[39mlevel, errors\u001b[38;5;241m=\u001b[39merrors)\n\u001b[1;32m   4823\u001b[0m     \u001b[38;5;28;01melse\u001b[39;00m:\n\u001b[0;32m-> 4824\u001b[0m         new_axis \u001b[38;5;241m=\u001b[39m \u001b[43maxis\u001b[49m\u001b[38;5;241;43m.\u001b[39;49m\u001b[43mdrop\u001b[49m\u001b[43m(\u001b[49m\u001b[43mlabels\u001b[49m\u001b[43m,\u001b[49m\u001b[43m \u001b[49m\u001b[43merrors\u001b[49m\u001b[38;5;241;43m=\u001b[39;49m\u001b[43merrors\u001b[49m\u001b[43m)\u001b[49m\n\u001b[1;32m   4825\u001b[0m     indexer \u001b[38;5;241m=\u001b[39m axis\u001b[38;5;241m.\u001b[39mget_indexer(new_axis)\n\u001b[1;32m   4827\u001b[0m \u001b[38;5;66;03m# Case for non-unique axis\u001b[39;00m\n\u001b[1;32m   4828\u001b[0m \u001b[38;5;28;01melse\u001b[39;00m:\n",
      "File \u001b[0;32m~/opt/anaconda3/lib/python3.9/site-packages/pandas/core/indexes/base.py:7069\u001b[0m, in \u001b[0;36mIndex.drop\u001b[0;34m(self, labels, errors)\u001b[0m\n\u001b[1;32m   7067\u001b[0m \u001b[38;5;28;01mif\u001b[39;00m mask\u001b[38;5;241m.\u001b[39many():\n\u001b[1;32m   7068\u001b[0m     \u001b[38;5;28;01mif\u001b[39;00m errors \u001b[38;5;241m!=\u001b[39m \u001b[38;5;124m\"\u001b[39m\u001b[38;5;124mignore\u001b[39m\u001b[38;5;124m\"\u001b[39m:\n\u001b[0;32m-> 7069\u001b[0m         \u001b[38;5;28;01mraise\u001b[39;00m \u001b[38;5;167;01mKeyError\u001b[39;00m(\u001b[38;5;124mf\u001b[39m\u001b[38;5;124m\"\u001b[39m\u001b[38;5;132;01m{\u001b[39;00mlabels[mask]\u001b[38;5;241m.\u001b[39mtolist()\u001b[38;5;132;01m}\u001b[39;00m\u001b[38;5;124m not found in axis\u001b[39m\u001b[38;5;124m\"\u001b[39m)\n\u001b[1;32m   7070\u001b[0m     indexer \u001b[38;5;241m=\u001b[39m indexer[\u001b[38;5;241m~\u001b[39mmask]\n\u001b[1;32m   7071\u001b[0m \u001b[38;5;28;01mreturn\u001b[39;00m \u001b[38;5;28mself\u001b[39m\u001b[38;5;241m.\u001b[39mdelete(indexer)\n",
      "\u001b[0;31mKeyError\u001b[0m: \"['SALE TYPE', 'PROPERTY TYPE', 'STATE OR PROVINCE', 'ZIP OR POSTAL CODE', 'HOA/MONTH', 'STATUS', 'NEXT OPEN HOUSE START TIME', 'NEXT OPEN HOUSE END TIME', 'SOURCE', 'MLS#', 'FAVORITE', 'INTERESTED', 'SQUARE FEET', 'LOT SIZE'] not found in axis\""
     ]
    }
   ],
   "source": [
    "### Drop the columns ###\n",
    "df_filtered = df_filtered.drop(columns=columns_drop)"
   ]
  },
  {
   "cell_type": "code",
   "execution_count": 79,
   "id": "d12c2830",
   "metadata": {},
   "outputs": [],
   "source": [
    "def popup_html(row):\n",
    "    Price = row['PRICE_AS_CURRENCY']\n",
    "    Address = row['ADDRESS']\n",
    "    City = row['CITY']\n",
    "    sold_date = row['SOLD DATE']\n",
    "    beds = row['BEDS']\n",
    "    baths = row['BATHS']\n",
    "    psf = row['PRICE_SQUARE_FEET_AS_CURRENCY']\n",
    "    year_built = row['YEAR BUILT DISPLAY']\n",
    "    rank = row['RANK']\n",
    "    \n",
    "    html = '''<!DOCTYPE html>\n",
    "    <html>\n",
    "    <strong>Price: </strong>{}'''.format(Price) + '''<br>\n",
    "    <strong>Address: </strong>{}'''.format(Address) + '''<br>\n",
    "    <strong>City: </strong>{}'''.format(City) + '''<br>\n",
    "    <strong>Sold: </strong>{}'''.format(sold_date) + '''<br>\n",
    "    <strong>Beds: </strong>{}'''.format(beds) + '''<br>\n",
    "    <strong>Baths: </strong>{}'''.format(baths) + '''<br>\n",
    "    <strong>Price per sf: </strong>{}'''.format(psf) + '''<br>\n",
    "    <strong>Year Built: </strong>{}'''.format(year_built) + '''<br>\n",
    "    <strong>Price Rank: </strong>{}'''.format(rank) + '''\n",
    "    </html>\n",
    "    '''\n",
    "    return html"
   ]
  },
  {
   "cell_type": "code",
   "execution_count": 80,
   "id": "b7fe13d2",
   "metadata": {},
   "outputs": [
    {
     "data": {
      "text/plain": [
       "<folium.map.LayerControl at 0x7f8af8513d00>"
      ]
     },
     "execution_count": 80,
     "metadata": {},
     "output_type": "execute_result"
    }
   ],
   "source": [
    "### Create map container ###\n",
    "m = folium.Map(location=df_filtered[[\"LATITUDE\", \"LONGITUDE\"]].mean().to_list(),zoom_start=10,tiles=None)\n",
    "\n",
    "### Create title ###\n",
    "title_html = '''\n",
    "              <h3 align=\"center\" style=\"font-size:16px\"><b>{}</b></h3>\n",
    "             '''.format(f\"{previous_month_name} 2024 Condo Sales\")\n",
    "\n",
    "m.get_root().html.add_child(folium.Element(title_html))\n",
    "\n",
    "# Create two FeatureGroups for different color pins\n",
    "fg_blue = folium.FeatureGroup(name='All other sales')\n",
    "fg_orange = folium.FeatureGroup(name='Top 10 Sales')\n",
    "\n",
    "folium.GeoJson(gdf,tooltip='Palm Beach County',name='Palm Beach County').add_to(m)\n",
    "\n",
    "for index, row in df_filtered.iterrows():\n",
    "    # Add the markers to the appropriate FeatureGroup based on the color\n",
    "    if row['COLOR'] == 'blue':\n",
    "        marker = folium.Marker(\n",
    "            location=[row['LATITUDE'], row['LONGITUDE']],\n",
    "            radius=5,\n",
    "            fill=True,\n",
    "            icon=folium.Icon(color=row['COLOR']),\n",
    "            popup=folium.Popup(popup_html(row), max_width=400))\n",
    "        marker.add_to(fg_blue)\n",
    "    else:\n",
    "        marker = folium.Marker(\n",
    "            location=[row['LATITUDE'], row['LONGITUDE']],\n",
    "            radius=5,\n",
    "            fill=True,\n",
    "            icon=folium.Icon(color=row['COLOR']),\n",
    "            popup=folium.Popup(popup_html(row), max_width=400))\n",
    "        marker.add_to(fg_orange)\n",
    "\n",
    "# Add the FeatureGroups to the map\n",
    "fg_orange.add_to(m)\n",
    "fg_blue.add_to(m)\n",
    "\n",
    "folium.TileLayer('OpenStreetMap',control=False).add_to(m)\n",
    "\n",
    "# Add LayerControl to the map\n",
    "folium.map.LayerControl(collapsed=False).add_to(m)\n",
    "\n",
    "# Display map\n",
    "# m"
   ]
  },
  {
   "cell_type": "code",
   "execution_count": 81,
   "id": "a704af7f",
   "metadata": {},
   "outputs": [],
   "source": [
    "m.save('index.html')"
   ]
  },
  {
   "cell_type": "markdown",
   "id": "81b7dc98",
   "metadata": {},
   "source": [
    "## Summary Info"
   ]
  },
  {
   "cell_type": "code",
   "execution_count": 82,
   "id": "6910bd5b",
   "metadata": {},
   "outputs": [],
   "source": [
    "BR = '\\n'\n",
    "\n",
    "ME = '\\033[1m' + 'Most Expensive' + '\\033[0m'\n",
    "LE = '\\033[1m' + 'Least Expensive' + '\\033[0m'\n",
    "\n",
    "MAX_PSF = '\\033[1m' + 'Highest Price Per Square Foot' + '\\033[0m'\n",
    "MIN_PSF = '\\033[1m' + 'Lowest Price Per Square Foot' + '\\033[0m'\n",
    "\n",
    "Newest = '\\033[1m' + 'Newest' + '\\033[0m'\n",
    "Oldest = '\\033[1m' + 'Oldest' + '\\033[0m'"
   ]
  },
  {
   "cell_type": "code",
   "execution_count": 83,
   "id": "9d2c1b97",
   "metadata": {},
   "outputs": [
    {
     "data": {
      "text/plain": [
       "Index(['SOLD DATE', 'ADDRESS', 'CITY', 'PRICE', 'BEDS', 'BATHS', 'LOCATION',\n",
       "       'YEAR BUILT', 'DAYS ON MARKET', '$/SQUARE FEET', 'URL', 'LATITUDE',\n",
       "       'LONGITUDE', 'PRICE_AS_CURRENCY', 'YEAR BUILT DISPLAY',\n",
       "       'PRICE_SQUARE_FEET_AS_CURRENCY', 'COLOR', 'RANK', 'FULL_ADDRESS'],\n",
       "      dtype='object')"
      ]
     },
     "execution_count": 83,
     "metadata": {},
     "output_type": "execute_result"
    }
   ],
   "source": [
    "df_filtered.columns"
   ]
  },
  {
   "cell_type": "code",
   "execution_count": 84,
   "id": "81280824",
   "metadata": {},
   "outputs": [],
   "source": [
    "df_filtered['FULL_ADDRESS'] = df_filtered['ADDRESS'] + ' ' + df_filtered['CITY']"
   ]
  },
  {
   "cell_type": "code",
   "execution_count": 85,
   "id": "4677d727",
   "metadata": {},
   "outputs": [
    {
     "name": "stdout",
     "output_type": "stream",
     "text": [
      "https://www.redfin.com/FL/Palm-Beach/235-Sunrise-Ave-33480/unit-2032/home/42439870\n"
     ]
    }
   ],
   "source": [
    "print(df_filtered.loc[df_filtered['YEAR BUILT'].idxmin()]['URL'])"
   ]
  },
  {
   "cell_type": "code",
   "execution_count": 86,
   "id": "39ff9917",
   "metadata": {},
   "outputs": [
    {
     "name": "stdout",
     "output_type": "stream",
     "text": [
      "\u001b[1mMost Expensive\u001b[0m\n",
      "Bristol Condo, 1100 S Flagler Dr #602 West Palm Beach | Price $12,000,000 | $2,786 psf | Year built: 2019\n",
      "\u001b[1mLeast Expensive\u001b[0m\n",
      "Southport AT Hunters Run Condo, 35 Southport Ln Unit H Boynton Beach | Price $42,500 | $30 psf | Year built: 1980\n",
      "\u001b[1mHighest Price Per Square Foot\u001b[0m\n",
      "Winthrop House, 100 Worth Ave #309 Palm Beach | Price $6,500,000 | $3,055 psf | Year built: 1970\n",
      "\u001b[1mLowest Price Per Square Foot\u001b[0m\n",
      "Southport AT Hunters Run Condo, 35 Southport Ln Unit H Boynton Beach | Price $42,500 | $30 psf | Year built: 1980\n",
      "\u001b[1mNewest\u001b[0m\n",
      "La Clara, 200 Arkona Ct #1702 West Palm Beach | Price $2,700,000 | $1,781 psf | Year built: 2023\n",
      "\u001b[1mOldest\u001b[0m\n",
      "Palm Beach Hotel Condo, 235 Sunrise Ave #2032 Palm Beach | Price $385,000 | $1,421 psf | Year built: 1925\n"
     ]
    }
   ],
   "source": [
    "print(f\"{ME}{BR}{df_filtered.loc[df_filtered['PRICE'].idxmax()]['LOCATION']}, {df_filtered.loc[df_filtered['PRICE'].idxmax()]['FULL_ADDRESS']} | Price ${df_filtered.loc[df_filtered['PRICE'].idxmax()]['PRICE']:,.0f} | ${df_filtered.loc[df_filtered['PRICE'].idxmax()]['$/SQUARE FEET']:,.0f} psf | Year built: {df_filtered.loc[df_filtered['PRICE'].idxmax()]['YEAR BUILT']:.0f}\")\n",
    "print(f\"{LE}{BR}{df_filtered.loc[df_filtered['PRICE'].idxmin()]['LOCATION']}, {df_filtered.loc[df_filtered['PRICE'].idxmin()]['FULL_ADDRESS']} | Price ${df_filtered.loc[df_filtered['PRICE'].idxmin()]['PRICE']:,.0f} | ${df_filtered.loc[df_filtered['PRICE'].idxmin()]['$/SQUARE FEET']:,.0f} psf | Year built: {df_filtered.loc[df_filtered['PRICE'].idxmin()]['YEAR BUILT']:.0f}\")\n",
    "\n",
    "print(f\"{MAX_PSF}{BR}{df_filtered.loc[df_filtered['$/SQUARE FEET'].idxmax()]['LOCATION']}, {df_filtered.loc[df_filtered['$/SQUARE FEET'].idxmax()]['FULL_ADDRESS']} | Price ${df_filtered.loc[df_filtered['$/SQUARE FEET'].idxmax()]['PRICE']:,.0f} | ${df_filtered.loc[df_filtered['$/SQUARE FEET'].idxmax()]['$/SQUARE FEET']:,.0f} psf | Year built: {df_filtered.loc[df_filtered['$/SQUARE FEET'].idxmax()]['YEAR BUILT']:.0f}\")\n",
    "print(f\"{MIN_PSF}{BR}{df_filtered.loc[df_filtered['$/SQUARE FEET'].idxmin()]['LOCATION']}, {df_filtered.loc[df_filtered['$/SQUARE FEET'].idxmin()]['FULL_ADDRESS']} | Price ${df_filtered.loc[df_filtered['$/SQUARE FEET'].idxmin()]['PRICE']:,.0f} | ${df_filtered.loc[df_filtered['$/SQUARE FEET'].idxmin()]['$/SQUARE FEET']:,.0f} psf | Year built: {df_filtered.loc[df_filtered['$/SQUARE FEET'].idxmin()]['YEAR BUILT']:.0f}\")\n",
    "\n",
    "print(f\"{Newest}{BR}{df_filtered.loc[df_filtered['YEAR BUILT'].idxmax()]['LOCATION']}, {df_filtered.loc[df_filtered['YEAR BUILT'].idxmax()]['FULL_ADDRESS']} | Price ${df_filtered.loc[df_filtered['YEAR BUILT'].idxmax()]['PRICE']:,.0f} | ${df_filtered.loc[df_filtered['YEAR BUILT'].idxmax()]['$/SQUARE FEET']:,.0f} psf | Year built: {df_filtered.loc[df_filtered['YEAR BUILT'].idxmax()]['YEAR BUILT']:.0f}\")\n",
    "print(f\"{Oldest}{BR}{df_filtered.loc[df_filtered['YEAR BUILT'].idxmin()]['LOCATION']}, {df_filtered.loc[df_filtered['YEAR BUILT'].idxmin()]['FULL_ADDRESS']} | Price ${df_filtered.loc[df_filtered['YEAR BUILT'].idxmin()]['PRICE']:,.0f} | ${df_filtered.loc[df_filtered['YEAR BUILT'].idxmin()]['$/SQUARE FEET']:,.0f} psf | Year built: {df_filtered.loc[df_filtered['YEAR BUILT'].idxmin()]['YEAR BUILT']:.0f}\")"
   ]
  },
  {
   "cell_type": "markdown",
   "id": "707dd49b",
   "metadata": {},
   "source": [
    "## Map URL Snagger"
   ]
  },
  {
   "cell_type": "code",
   "execution_count": 87,
   "id": "81e05274",
   "metadata": {},
   "outputs": [
    {
     "name": "stdout",
     "output_type": "stream",
     "text": [
      "https://trd-digital.github.io/trd-news-interactive-maps/PBC_condo_sales_month_ending_may_2024\n"
     ]
    }
   ],
   "source": [
    "base_name = 'https://trd-digital.github.io/trd-news-interactive-maps/'\n",
    "\n",
    "cwd = os.getcwd()\n",
    "\n",
    "cwd = cwd.split('/')\n",
    "\n",
    "final_name = base_name + cwd[-1]\n",
    "print(final_name)"
   ]
  },
  {
   "cell_type": "markdown",
   "id": "fe5031c3",
   "metadata": {},
   "source": [
    "## Get Summary Data"
   ]
  },
  {
   "cell_type": "code",
   "execution_count": 88,
   "id": "15cba208",
   "metadata": {},
   "outputs": [
    {
     "name": "stdout",
     "output_type": "stream",
     "text": [
      "SALES INFO\n",
      "Number of sales: 779\n",
      "--------\n",
      "Total sale price: $438,593,246\n",
      "--------\n",
      "Median sale price: $290,000\n",
      "--------\n",
      "Max sale price: $12,000,000\n",
      "--------\n",
      "Min sale price: $42,500\n",
      "------------------------------------------------\n",
      "PSF INFO\n",
      "Max price per square foot: $3,055\n",
      "--------\n",
      "Min price per square foot: $30\n",
      "--------\n",
      "Median price per square foot: $247\n",
      "------------------------------------------------\n",
      "CONDO AGES\n",
      "Newest building: 2023.0\n",
      "----------\n",
      "Oldest building: 1925.0\n",
      "----------\n",
      "Average building age: 1983.3170731707316\n"
     ]
    }
   ],
   "source": [
    "print('SALES INFO')\n",
    "print(f'Number of sales: {len(df_filtered)}')\n",
    "print('--------')\n",
    "print(f'Total sale price: ${df_filtered[\"PRICE\"].sum():,.0f}')\n",
    "print('--------')\n",
    "print(f'Median sale price: ${df_filtered[\"PRICE\"].median():,.0f}')\n",
    "print('--------')\n",
    "print(f'Max sale price: ${df_filtered[\"PRICE\"].max():,.0f}')\n",
    "print('--------')\n",
    "print(f'Min sale price: ${df_filtered[\"PRICE\"].min():,.0f}')\n",
    "print('------------------------------------------------')\n",
    "print('PSF INFO')\n",
    "print(f'Max price per square foot: ${df_filtered[\"$/SQUARE FEET\"].max():,.0f}')\n",
    "print('--------')\n",
    "print(f'Min price per square foot: ${df_filtered[\"$/SQUARE FEET\"].min():,.0f}')\n",
    "print('--------')\n",
    "print(f'Median price per square foot: ${df_filtered[\"$/SQUARE FEET\"].median():,.0f}')\n",
    "print('------------------------------------------------')\n",
    "print('CONDO AGES')\n",
    "print(f'Newest building: {df_filtered[\"YEAR BUILT\"].max()}')\n",
    "print('----------')\n",
    "print(f'Oldest building: {df_filtered[\"YEAR BUILT\"].min()}')\n",
    "print('----------')\n",
    "print(f'Average building age: {df_filtered[\"YEAR BUILT\"].mean()}')"
   ]
  },
  {
   "cell_type": "code",
   "execution_count": 89,
   "id": "a7db05bf",
   "metadata": {},
   "outputs": [],
   "source": [
    "most_expensive_muni_condo_name = df_filtered.loc[df_filtered['PRICE'].idxmax()]['LOCATION']\n",
    "most_expensive_muni_location = df_filtered.loc[df_filtered['PRICE'].idxmax()]['CITY']\n",
    "\n",
    "least_expensive_muni_condo_name = df_filtered.loc[df_filtered['PRICE'].idxmin()]['LOCATION']\n",
    "least_expensive_muni_location = df_filtered.loc[df_filtered['PRICE'].idxmin()]['CITY']"
   ]
  },
  {
   "cell_type": "markdown",
   "id": "3a2b0666",
   "metadata": {},
   "source": [
    "# GENERATE STORY TEMPLATE\n",
    "\n",
    "# STOP! DID YOU UPDATE VALUES FROM THE PREVIOUS MONTH?"
   ]
  },
  {
   "cell_type": "code",
   "execution_count": 90,
   "id": "b79b8847",
   "metadata": {},
   "outputs": [],
   "source": [
    "## Calculate the increase/descrease between both months\n",
    "subject_month_sales_volume = df_filtered[\"PRICE\"].sum()\n",
    "prior_month_sales_volume = int(sales_volume_2nd_month)  # Example value, replace with actual value\n",
    "\n",
    "subject_month_closings = len(df_filtered)\n",
    "prior_month_closings = int(total_condos_sold_2nd_month)\n",
    "\n",
    "# Subtract the smaller value from the larger one\n",
    "if subject_month_sales_volume > prior_month_sales_volume:\n",
    "    hed_rf = 'jumps'\n",
    "    nut_graf = 'rising'\n",
    "    second_nut_graf_ref = 'up'\n",
    "    social = 'higher'\n",
    "    seo = 'increased'\n",
    "elif prior_month_sales_volume > subject_month_sales_volume:\n",
    "    hed_rf = 'drops'\n",
    "    nut_graf = 'falling'\n",
    "    second_nut_graf_ref = 'down'\n",
    "    social = 'lower'\n",
    "    seo = 'decreased'\n",
    "else:\n",
    "    hed_rf = 'equals'\n",
    "    nut_graf = 'equaling'\n",
    "    second_nut_graf_ref = 'on par with'\n",
    "    social = 'equal'\n",
    "    seo = \"did't change\"\n",
    "    \n",
    "    \n",
    "if subject_month_closings > prior_month_closings:\n",
    "    dek_rf = 'rose'\n",
    "elif prior_month_closings > subject_month_closings:\n",
    "    dek_rf ='fell'\n",
    "else:\n",
    "    dek_rf = 'equaled'"
   ]
  },
  {
   "cell_type": "code",
   "execution_count": 91,
   "id": "246d9fac",
   "metadata": {},
   "outputs": [],
   "source": [
    "story_string = f'''\n",
    "\\033[1mHED:\\033[0m {county_name} condo sales dollar volume {hed_rf} in {previous_month_name} to ${round(df_filtered[\"PRICE\"].sum()/1_000_000)}M \n",
    "\\033[1mDEK:\\033[0m Number of closings {dek_rf} to {len(df_filtered)} from {total_condos_sold_2nd_month} in {month_before_last_name}\n",
    "\\033[1mFEATURED HED:\\033[0m\n",
    "\\033[1mSEO HED:\\033[0m {county_name} {previous_month_name} Condo Sales Report \n",
    "\\033[1mSEO DESCRIPTION:\\033[0m {county_name}’s condo sales volume {hed_rf} to ${round(df_filtered[\"PRICE\"].sum()/1_000_000)} million in {previous_month_name}.\n",
    "\\033[1mAUTHOR:\\033[0m Adam Farence\n",
    "\\033[1mRESEARCH:\\033[0m \n",
    "\\033[1mSocial:\\033[0m {county_name} had ${round(df_filtered[\"PRICE\"].sum()/1_000_000):,.0f} million in condo sales in {previous_month_name}, {social} than ${round(int(sales_volume_2nd_month)/1_000_000)} million from {month_before_last_name}, @afarence reports \n",
    "\\033[1mART:\\033[0m \n",
    "\n",
    "CHANGE ME\n",
    "\n",
    "*Please provide credits for any images that you share\n",
    "\\033[1mSTORY TYPE:\\033[0m Report\n",
    "\\033[1mSECTOR\\033[0m (formerly CATEGORY): Residential Real Estate\n",
    "\\033[1mTAGS:\\033[0m condo sales, {county_name}, monthly condo sales, condos, condo market, {most_expensive_muni_condo_name.title()}, {most_expensive_muni_location}\n",
    "\n",
    "\\033[1mNeighborhood:\\033[0m \n",
    "\\033[1mProperty:\\033[0m\n",
    "\\033[1mProperty Type:\\033[0m\n",
    "\\033[1mCompanies:\\033[0m \n",
    "\\033[1mPeople:\\033[0m\n",
    "\\033[1mIssues:\\033[0m\n",
    "\\033[1mRegion:\\033[0m\n",
    "\n",
    "{county_name}’s NEWS PEG HERE.\n",
    "\n",
    "{previous_month_name} condo sales totaled ${round(df_filtered[\"PRICE\"].sum()/1_000_000)} million, {nut_graf} from ${int(sales_volume_2nd_month)/1_000_000:.0f} million in {month_before_last_name}. Brokers closed {len(df_filtered)} sales last month, {second_nut_graf_ref} from {total_condos_sold_2nd_month} sales in {month_before_last_name} and XXX in XXX, Multiple Listing Service data from Redfin show.\n",
    "\n",
    "{previous_month_name} sale prices ranged from ${df_filtered[\"PRICE\"].min():,.0f} to ${df_filtered[\"PRICE\"].max()/1_000_000:,.0f} million, with a median sale price of ${df_filtered[\"PRICE\"].median():,.0f}. The price per square foot ranged from ${df_filtered[\"$/SQUARE FEET\"].min():,.0f} to ${df_filtered[\"$/SQUARE FEET\"].max():,.0f}, with a median of ${df_filtered[\"$/SQUARE FEET\"].median():,.0f} per square foot.\n",
    "\n",
    "In {month_before_last_name}, sales closed with a median price of ${int(median_sales_price_2nd_month):,.0f}, and ${median_psf_2nd_month} per square foot.\n",
    "\n",
    "A ${df_filtered[\"PRICE\"].max()/1_000_000:,.0f} million closing at {most_expensive_muni_condo_name.title()} took the title of priciest sale last month. {df_filtered.loc[df_filtered['PRICE'].idxmax()]['FULL_ADDRESS']} sold for ${df_filtered.loc[df_filtered['PRICE'].idxmax()]['$/SQUARE FEET']:,.0f} per square foot after XX days on the market. XXX with XXX had the listing, and XXX with XXX represented the buyer.\n",
    "\n",
    "The sale price was \\033[1mmore/less\\033[0m than {month_before_last_name}'s priciest sale. Unit XXXX \n",
    "\n",
    "In contrast, {previous_month_name}'s cheapest sale was an {least_expensive_muni_condo_name} in {least_expensive_muni_location}, at {df_filtered.loc[df_filtered['PRICE'].idxmin()]['FULL_ADDRESS']}. Unit XXX traded for ${df_filtered['PRICE'].min():,.0f} — or ${df_filtered.loc[df_filtered['PRICE'].idxmin()]['$/SQUARE FEET']:,.0f} per square foot — after XXX days on the market. XXX with XXX handled both sides of the deal.\n",
    "\n",
    "<figure>\n",
    " <div class=\"container\">\n",
    "   <div class=\"iframe-wrap\">\n",
    "   <iframe src=\"{final_name}\" width=\"100%\" height=\"800\" frameBorder=\"0\" scrolling=\"no\"></iframe>\n",
    "  </div>\n",
    "</div>\n",
    "  <figcaption align=\"right\"><a href=\"https://leafletjs.com/\">Leaflet</a> map created by Adam Farence | Data by © <a href=\"https://www.openstreetmap.org/#map=4/38.01/-95.84\"> OpenStreetMap</a>, under <a href=\"https://www.openstreetmap.org/copyright\">ODbl.</a></figcaption>\n",
    "</figure>\n",
    "\n",
    "Here’s a breakdown of {previous_month_name}’s notable condo sales:\n",
    "'''"
   ]
  },
  {
   "cell_type": "code",
   "execution_count": 92,
   "id": "f51fcff5",
   "metadata": {},
   "outputs": [
    {
     "name": "stdout",
     "output_type": "stream",
     "text": [
      "\n",
      "\u001b[1mHED:\u001b[0m Palm Beach County condo sales dollar volume drops in May to $439M \n",
      "\u001b[1mDEK:\u001b[0m Number of closings fell to 779 from 838 in April\n",
      "\u001b[1mFEATURED HED:\u001b[0m\n",
      "\u001b[1mSEO HED:\u001b[0m Palm Beach County May Condo Sales Report \n",
      "\u001b[1mSEO DESCRIPTION:\u001b[0m Palm Beach County’s condo sales volume drops to $439 million in May.\n",
      "\u001b[1mAUTHOR:\u001b[0m Adam Farence\n",
      "\u001b[1mRESEARCH:\u001b[0m \n",
      "\u001b[1mSocial:\u001b[0m Palm Beach County had $439 million in condo sales in May, lower than $489 million from April, @afarence reports \n",
      "\u001b[1mART:\u001b[0m \n",
      "\n",
      "CHANGE ME\n",
      "\n",
      "*Please provide credits for any images that you share\n",
      "\u001b[1mSTORY TYPE:\u001b[0m Report\n",
      "\u001b[1mSECTOR\u001b[0m (formerly CATEGORY): Residential Real Estate\n",
      "\u001b[1mTAGS:\u001b[0m condo sales, Palm Beach County, monthly condo sales, condos, condo market, Bristol Condo, West Palm Beach\n",
      "\n",
      "\u001b[1mNeighborhood:\u001b[0m \n",
      "\u001b[1mProperty:\u001b[0m\n",
      "\u001b[1mProperty Type:\u001b[0m\n",
      "\u001b[1mCompanies:\u001b[0m \n",
      "\u001b[1mPeople:\u001b[0m\n",
      "\u001b[1mIssues:\u001b[0m\n",
      "\u001b[1mRegion:\u001b[0m\n",
      "\n",
      "Palm Beach County’s NEWS PEG HERE.\n",
      "\n",
      "May condo sales totaled $439 million, falling from $489 million in April. Brokers closed 779 sales last month, down from 838 sales in April and XXX in XXX, Multiple Listing Service data from Redfin show.\n",
      "\n",
      "May sale prices ranged from $42,500 to $12 million, with a median sale price of $290,000. The price per square foot ranged from $30 to $3,055, with a median of $247 per square foot.\n",
      "\n",
      "In April, sales closed with a median price of $290,000, and $252 per square foot.\n",
      "\n",
      "A $12 million closing at Bristol Condo took the title of priciest sale last month. 1100 S Flagler Dr #602 West Palm Beach sold for $2,786 per square foot after XX days on the market. XXX with XXX had the listing, and XXX with XXX represented the buyer.\n",
      "\n",
      "The sale price was \u001b[1mmore/less\u001b[0m than April's priciest sale. Unit XXXX \n",
      "\n",
      "In contrast, May's cheapest sale was an Southport AT Hunters Run Condo in Boynton Beach, at 35 Southport Ln Unit H Boynton Beach. Unit XXX traded for $42,500 — or $30 per square foot — after XXX days on the market. XXX with XXX handled both sides of the deal.\n",
      "\n",
      "<figure>\n",
      " <div class=\"container\">\n",
      "   <div class=\"iframe-wrap\">\n",
      "   <iframe src=\"https://trd-digital.github.io/trd-news-interactive-maps/PBC_condo_sales_month_ending_may_2024\" width=\"100%\" height=\"800\" frameBorder=\"0\" scrolling=\"no\"></iframe>\n",
      "  </div>\n",
      "</div>\n",
      "  <figcaption align=\"right\"><a href=\"https://leafletjs.com/\">Leaflet</a> map created by Adam Farence | Data by © <a href=\"https://www.openstreetmap.org/#map=4/38.01/-95.84\"> OpenStreetMap</a>, under <a href=\"https://www.openstreetmap.org/copyright\">ODbl.</a></figcaption>\n",
      "</figure>\n",
      "\n",
      "Here’s a breakdown of May’s notable condo sales:\n",
      "\n",
      "\u001b[1mMost Expensive\u001b[0m\n",
      "Bristol Condo, 1100 S Flagler Dr #602 West Palm Beach | Price $12,000,000 | $2,786 psf | Year built: 2019\n",
      "\u001b[1mLeast Expensive\u001b[0m\n",
      "Southport AT Hunters Run Condo, 35 Southport Ln Unit H Boynton Beach | Price $42,500 | $30 psf | Year built: 1980\n",
      "\u001b[1mHighest Price Per Square Foot\u001b[0m\n",
      "Winthrop House, 100 Worth Ave #309 Palm Beach | Price $6,500,000 | $3,055 psf | Year built: 1970\n",
      "\u001b[1mLowest Price Per Square Foot\u001b[0m\n",
      "Southport AT Hunters Run Condo, 35 Southport Ln Unit H Boynton Beach | Price $42,500 | $30 psf | Year built: 1980\n",
      "\u001b[1mNewest\u001b[0m\n",
      "La Clara, 200 Arkona Ct #1702 West Palm Beach | Price $2,700,000 | $1,781 psf | Year built: 2023\n",
      "\u001b[1mOldest\u001b[0m\n",
      "Palm Beach Hotel Condo, 235 Sunrise Ave #2032 Palm Beach | Price $385,000 | $1,421 psf | Year built: 1925\n"
     ]
    }
   ],
   "source": [
    "print(story_string)\n",
    "\n",
    "print(f\"{ME}{BR}{df_filtered.loc[df_filtered['PRICE'].idxmax()]['LOCATION']}, {df_filtered.loc[df_filtered['PRICE'].idxmax()]['FULL_ADDRESS']} | Price ${df_filtered.loc[df_filtered['PRICE'].idxmax()]['PRICE']:,.0f} | ${df_filtered.loc[df_filtered['PRICE'].idxmax()]['$/SQUARE FEET']:,.0f} psf | Year built: {df_filtered.loc[df_filtered['PRICE'].idxmax()]['YEAR BUILT']:.0f}\")\n",
    "print(f\"{LE}{BR}{df_filtered.loc[df_filtered['PRICE'].idxmin()]['LOCATION']}, {df_filtered.loc[df_filtered['PRICE'].idxmin()]['FULL_ADDRESS']} | Price ${df_filtered.loc[df_filtered['PRICE'].idxmin()]['PRICE']:,.0f} | ${df_filtered.loc[df_filtered['PRICE'].idxmin()]['$/SQUARE FEET']:,.0f} psf | Year built: {df_filtered.loc[df_filtered['PRICE'].idxmin()]['YEAR BUILT']:.0f}\")\n",
    "\n",
    "print(f\"{MAX_PSF}{BR}{df_filtered.loc[df_filtered['$/SQUARE FEET'].idxmax()]['LOCATION']}, {df_filtered.loc[df_filtered['$/SQUARE FEET'].idxmax()]['FULL_ADDRESS']} | Price ${df_filtered.loc[df_filtered['$/SQUARE FEET'].idxmax()]['PRICE']:,.0f} | ${df_filtered.loc[df_filtered['$/SQUARE FEET'].idxmax()]['$/SQUARE FEET']:,.0f} psf | Year built: {df_filtered.loc[df_filtered['$/SQUARE FEET'].idxmax()]['YEAR BUILT']:.0f}\")\n",
    "print(f\"{MIN_PSF}{BR}{df_filtered.loc[df_filtered['$/SQUARE FEET'].idxmin()]['LOCATION']}, {df_filtered.loc[df_filtered['$/SQUARE FEET'].idxmin()]['FULL_ADDRESS']} | Price ${df_filtered.loc[df_filtered['$/SQUARE FEET'].idxmin()]['PRICE']:,.0f} | ${df_filtered.loc[df_filtered['$/SQUARE FEET'].idxmin()]['$/SQUARE FEET']:,.0f} psf | Year built: {df_filtered.loc[df_filtered['$/SQUARE FEET'].idxmin()]['YEAR BUILT']:.0f}\")\n",
    "\n",
    "print(f\"{Newest}{BR}{df_filtered.loc[df_filtered['YEAR BUILT'].idxmax()]['LOCATION']}, {df_filtered.loc[df_filtered['YEAR BUILT'].idxmax()]['FULL_ADDRESS']} | Price ${df_filtered.loc[df_filtered['YEAR BUILT'].idxmax()]['PRICE']:,.0f} | ${df_filtered.loc[df_filtered['YEAR BUILT'].idxmax()]['$/SQUARE FEET']:,.0f} psf | Year built: {df_filtered.loc[df_filtered['YEAR BUILT'].idxmax()]['YEAR BUILT']:.0f}\")\n",
    "print(f\"{Oldest}{BR}{df_filtered.loc[df_filtered['YEAR BUILT'].idxmin()]['LOCATION']}, {df_filtered.loc[df_filtered['YEAR BUILT'].idxmin()]['FULL_ADDRESS']} | Price ${df_filtered.loc[df_filtered['YEAR BUILT'].idxmin()]['PRICE']:,.0f} | ${df_filtered.loc[df_filtered['YEAR BUILT'].idxmin()]['$/SQUARE FEET']:,.0f} psf | Year built: {df_filtered.loc[df_filtered['YEAR BUILT'].idxmin()]['YEAR BUILT']:.0f}\")"
   ]
  },
  {
   "cell_type": "markdown",
   "id": "1237f8b2",
   "metadata": {},
   "source": [
    "# Print links for notable sales\n",
    "\n",
    "## Top sale"
   ]
  },
  {
   "cell_type": "code",
   "execution_count": 100,
   "id": "4c776293",
   "metadata": {},
   "outputs": [
    {
     "name": "stdout",
     "output_type": "stream",
     "text": [
      "https://www.redfin.com/FL/West-Palm-Beach/1100-S-Flagler-Dr-33401/unit-602/home/168183408\n"
     ]
    }
   ],
   "source": [
    "print(df_filtered.loc[df_filtered['PRICE'].idxmax()]['URL'])"
   ]
  },
  {
   "cell_type": "markdown",
   "id": "b1f63a6a",
   "metadata": {},
   "source": [
    "## Cheapest sale"
   ]
  },
  {
   "cell_type": "code",
   "execution_count": 101,
   "id": "967008ef",
   "metadata": {},
   "outputs": [
    {
     "name": "stdout",
     "output_type": "stream",
     "text": [
      "https://www.redfin.com/FL/Boynton-Beach/35-Southport-Ln-33436/unit-H/home/42351789\n"
     ]
    }
   ],
   "source": [
    "print(df_filtered.loc[df_filtered['PRICE'].idxmin()]['URL'])"
   ]
  },
  {
   "cell_type": "markdown",
   "id": "0f56cc2b",
   "metadata": {},
   "source": [
    "## Highest PSF"
   ]
  },
  {
   "cell_type": "code",
   "execution_count": 102,
   "id": "001083a2",
   "metadata": {},
   "outputs": [
    {
     "name": "stdout",
     "output_type": "stream",
     "text": [
      "https://www.redfin.com/FL/Palm-Beach/100-Worth-Ave-33480/unit-309/home/42435946\n"
     ]
    }
   ],
   "source": [
    "print(df_filtered.loc[df_filtered['$/SQUARE FEET'].idxmax()]['URL'])"
   ]
  },
  {
   "cell_type": "markdown",
   "id": "e606b84a",
   "metadata": {},
   "source": [
    "## Lowest PSF"
   ]
  },
  {
   "cell_type": "code",
   "execution_count": 109,
   "id": "91b9b079",
   "metadata": {},
   "outputs": [
    {
     "name": "stdout",
     "output_type": "stream",
     "text": [
      "https://www.redfin.com/FL/Boynton-Beach/35-Southport-Ln-33436/unit-H/home/42351789\n"
     ]
    }
   ],
   "source": [
    "print(df_filtered.loc[df_filtered['$/SQUARE FEET'].idxmin()]['URL'])"
   ]
  },
  {
   "cell_type": "markdown",
   "id": "d6e5493b",
   "metadata": {},
   "source": [
    "## Newest"
   ]
  },
  {
   "cell_type": "code",
   "execution_count": 110,
   "id": "c2cc4988",
   "metadata": {},
   "outputs": [
    {
     "name": "stdout",
     "output_type": "stream",
     "text": [
      "https://www.redfin.com/FL/West-Palm-Beach/200-Arkona-Ct-33401/unit-1702/home/186145249\n"
     ]
    }
   ],
   "source": [
    "print(df_filtered.loc[df_filtered['YEAR BUILT'].idxmax()]['URL'])"
   ]
  },
  {
   "cell_type": "markdown",
   "id": "1d1ba957",
   "metadata": {},
   "source": [
    "## Oldest"
   ]
  },
  {
   "cell_type": "code",
   "execution_count": 111,
   "id": "51fa78ff",
   "metadata": {},
   "outputs": [
    {
     "name": "stdout",
     "output_type": "stream",
     "text": [
      "https://www.redfin.com/FL/Palm-Beach/235-Sunrise-Ave-33480/unit-2032/home/42439870\n"
     ]
    }
   ],
   "source": [
    "print(df_filtered.loc[df_filtered['YEAR BUILT'].idxmin()]['URL'])"
   ]
  },
  {
   "cell_type": "markdown",
   "id": "6b274da8",
   "metadata": {},
   "source": [
    "## Time on Market Calculator"
   ]
  },
  {
   "cell_type": "code",
   "execution_count": 108,
   "id": "0d14e001",
   "metadata": {},
   "outputs": [
    {
     "name": "stdout",
     "output_type": "stream",
     "text": [
      "51\n"
     ]
    }
   ],
   "source": [
    "from datetime import datetime, timedelta\n",
    "\n",
    "################ YEAR, MONTH, DAY #######################\n",
    "\n",
    "date1 = datetime(2024, 4, 1) ## List (Earlier) date\n",
    "date2 = datetime(2024, 5, 22) ## Close (Later) date\n",
    "\n",
    "delta = date2 - date1\n",
    "num_days = delta.days\n",
    "\n",
    "print(num_days)"
   ]
  }
 ],
 "metadata": {
  "kernelspec": {
   "display_name": "Python 3 (ipykernel)",
   "language": "python",
   "name": "python3"
  },
  "language_info": {
   "codemirror_mode": {
    "name": "ipython",
    "version": 3
   },
   "file_extension": ".py",
   "mimetype": "text/x-python",
   "name": "python",
   "nbconvert_exporter": "python",
   "pygments_lexer": "ipython3",
   "version": "3.9.12"
  }
 },
 "nbformat": 4,
 "nbformat_minor": 5
}
