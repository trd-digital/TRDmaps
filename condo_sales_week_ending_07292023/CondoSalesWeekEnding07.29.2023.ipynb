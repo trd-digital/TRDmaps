{
 "cells": [
  {
   "cell_type": "markdown",
   "metadata": {},
   "source": [
    "## Imports"
   ]
  },
  {
   "cell_type": "code",
   "execution_count": 50,
   "metadata": {},
   "outputs": [],
   "source": [
    "import googlemaps\n",
    "import pandas as pd\n",
    "import numpy as np\n",
    "import re\n",
    "import os\n",
    "import geopandas as gpd\n",
    "import folium\n",
    "import tabula"
   ]
  },
  {
   "cell_type": "markdown",
   "metadata": {},
   "source": [
    "## Read-in"
   ]
  },
  {
   "cell_type": "code",
   "execution_count": 51,
   "metadata": {},
   "outputs": [],
   "source": [
    "# Gotta figure out how to get rid of the java error.\n",
    "# SO: https://stackoverflow.com/questions/54817211/java-command-is-not-found-from-this-python-process-please-ensure-java-is-inst\n",
    "\n",
    "dsf = tabula.read_pdf('condo.pdf', pages='all')"
   ]
  },
  {
   "cell_type": "markdown",
   "metadata": {},
   "source": [
    "## Clean Data"
   ]
  },
  {
   "cell_type": "code",
   "execution_count": 52,
   "metadata": {},
   "outputs": [],
   "source": [
    "df = dsf[0]\n",
    "df.columns = df.iloc[0]\n",
    "df = df[1:]\n",
    "df = df.drop(columns=df.columns[0])\n",
    "df = df.replace(np.nan, 'Not Available', regex=True)\n",
    "df = df.rename(columns={'Building / Address / City': 'building_address_city','Days on\\rMarket':'days_on_market',\\\n",
    "                        'Price /\\rSq. Ft.':'price_per_sqft'})\n",
    "df['building_address_city'] = df['building_address_city'].str.replace('^0', '', regex=True)\n",
    "df['geo_address'] = df['building_address_city']\n",
    "df['geo_address'] = df['geo_address'].map(lambda x: re.sub(r'\\r', ' ', x))\n",
    "df = df.replace('\\n',' ',regex=True)\n",
    "pattern = r'^(?P<building_name>[\\d\\s]*[A-Za-z\\s]+)\\s(?P<address>.+)\\s(?P<city>[A-Za-z\\s]+)$'\n",
    "df2 = df['geo_address']\n",
    "df2 = df2.to_frame()\n",
    "df2[['building_name', 'address', 'city']] = df2['geo_address'].str.extract(pattern, expand=True)"
   ]
  },
  {
   "cell_type": "markdown",
   "metadata": {},
   "source": [
    "Review this later (it's about how to properly merge DFs): https://pandas.pydata.org/pandas-docs/stable/user_guide/merging.html"
   ]
  },
  {
   "cell_type": "markdown",
   "metadata": {},
   "source": [
    "## Geocode"
   ]
  },
  {
   "cell_type": "code",
   "execution_count": 53,
   "metadata": {},
   "outputs": [],
   "source": [
    "result = pd.merge(df,df2,left_index=True, right_index=True)\n",
    "df = result\n",
    "df = df.drop(columns='city')"
   ]
  },
  {
   "cell_type": "code",
   "execution_count": 54,
   "metadata": {},
   "outputs": [],
   "source": [
    "%store -r google_maps_API_Key\n",
    "gmaps_key = googlemaps.Client(key=google_maps_API_Key)"
   ]
  },
  {
   "cell_type": "code",
   "execution_count": 55,
   "metadata": {},
   "outputs": [],
   "source": [
    "def geocode(add):\n",
    "    g = gmaps_key.geocode(add)\n",
    "    lat = g[0][\"geometry\"][\"location\"][\"lat\"]\n",
    "    lng = g[0][\"geometry\"][\"location\"][\"lng\"]\n",
    "    return (lat, lng)\n",
    "\n",
    "df['geocoded'] = df['geo_address_x'].apply(geocode)"
   ]
  },
  {
   "cell_type": "code",
   "execution_count": 56,
   "metadata": {},
   "outputs": [],
   "source": [
    "df['geocoded'] = df['geocoded'].astype(str)\n",
    "df[['lat', 'lon']] = df['geocoded'].str.strip('()').str.split(', ', expand=True)\n",
    "df['lat'] = df['lat'].astype(float)\n",
    "df['lon'] = df['lon'].astype(float)"
   ]
  },
  {
   "cell_type": "markdown",
   "metadata": {},
   "source": [
    "Folium documentation link: https://python-visualization.github.io/folium/index.html\n",
    "\n",
    "Folium is the library that lets us use leaflet with Python, since it's meant to be used with JavaScript.\n",
    "\n",
    "For adding titles: https://stackoverflow.com/questions/61928013/adding-a-title-or-text-to-a-folium-map"
   ]
  },
  {
   "cell_type": "markdown",
   "metadata": {},
   "source": [
    "## Correction section"
   ]
  },
  {
   "cell_type": "code",
   "execution_count": 57,
   "metadata": {},
   "outputs": [],
   "source": [
    "# df.at[index#,'col_name']"
   ]
  },
  {
   "cell_type": "markdown",
   "metadata": {},
   "source": [
    "## Format Data"
   ]
  },
  {
   "cell_type": "code",
   "execution_count": 58,
   "metadata": {},
   "outputs": [],
   "source": [
    "### Insert NaNs if needed ###\n",
    "df = df.replace('N/A', np.nan)"
   ]
  },
  {
   "cell_type": "code",
   "execution_count": 59,
   "metadata": {},
   "outputs": [],
   "source": [
    "df['int_Sale_Price'] = df['Sale Price'].str.replace('$','',regex=False)"
   ]
  },
  {
   "cell_type": "code",
   "execution_count": 60,
   "metadata": {},
   "outputs": [],
   "source": [
    "df['int_Sale_Price'] = df['int_Sale_Price'].str.replace(',','',regex=False)"
   ]
  },
  {
   "cell_type": "code",
   "execution_count": 61,
   "metadata": {},
   "outputs": [],
   "source": [
    "df['int_Sale_Price'] = pd.to_numeric(df['int_Sale_Price'])"
   ]
  },
  {
   "cell_type": "code",
   "execution_count": 62,
   "metadata": {},
   "outputs": [],
   "source": [
    "df['price_per_sqft'] = df['price_per_sqft'].str.replace('$','',regex=False)\n",
    "df['price_per_sqft'] = df['price_per_sqft'].str.replace(',','',regex=False)\n",
    "df['price_per_sqft'] = pd.to_numeric(df['price_per_sqft'])\n",
    "\n",
    "df['days_on_market'] = pd.to_numeric(df['days_on_market'])"
   ]
  },
  {
   "cell_type": "markdown",
   "metadata": {},
   "source": [
    "## Color-code top sale"
   ]
  },
  {
   "cell_type": "code",
   "execution_count": 63,
   "metadata": {},
   "outputs": [],
   "source": [
    "### Insert RANK values ###\n",
    "df['RANK'] = range(1, len(df) + 1)\n",
    "# use numpy to assign values to the 'COLOR' column\n",
    "df['COLOR'] = np.where(df['RANK'] <= 1, 'orange', 'blue')"
   ]
  },
  {
   "cell_type": "markdown",
   "metadata": {},
   "source": [
    "## HTML Popup Formatter"
   ]
  },
  {
   "cell_type": "code",
   "execution_count": 64,
   "metadata": {},
   "outputs": [],
   "source": [
    "df.at[1,'building_name']=('Fendi Château')"
   ]
  },
  {
   "cell_type": "code",
   "execution_count": 65,
   "metadata": {},
   "outputs": [
    {
     "data": {
      "text/plain": [
       "Index(['building_address_city', 'Close Date', 'days_on_market', 'Sale Price',\n",
       "       'Sq. Ft.', 'price_per_sqft', 'Agent', 'Listing Broker', 'Buyer Agent',\n",
       "       'Buyer Broker', 'geo_address_x', 'geo_address_y', 'building_name',\n",
       "       'address', 'geocoded', 'lat', 'lon', 'int_Sale_Price', 'RANK', 'COLOR'],\n",
       "      dtype='object')"
      ]
     },
     "execution_count": 65,
     "metadata": {},
     "output_type": "execute_result"
    }
   ],
   "source": [
    "df.columns"
   ]
  },
  {
   "cell_type": "code",
   "execution_count": 66,
   "metadata": {},
   "outputs": [],
   "source": [
    "def popup_html(row):\n",
    "    building_name = row['building_name']\n",
    "    price = row['Sale Price']\n",
    "    days_on_market = row['days_on_market']\n",
    "    listing_agent = row['Agent']\n",
    "    buyers_agent = row['Buyer Agent']\n",
    "    psf = row['price_per_sqft']\n",
    "    address = row['address']\n",
    "    \n",
    "    html = '''<!DOCTYPE html>\n",
    "    <html>\n",
    "    <strong>Building Name: </strong>{}'''.format(building_name) + '''<br>\n",
    "    <strong>Sale Price: </strong>{}'''.format(price) + '''<br>\n",
    "    <strong>Days on Market: </strong>{}'''.format(days_on_market) + '''<br>\n",
    "    <strong>Listing Agent: </strong>{}'''.format(listing_agent) + '''<br>\n",
    "    <strong>Buyer's Agent: </strong>{}'''.format(buyers_agent) + '''<br>\n",
    "    <strong>Price sq ft: </strong>${}'''.format(psf) + '''<br>\n",
    "    <strong>Address: </strong>{}'''.format(address) + '''<br>\n",
    "    </html>\n",
    "    '''\n",
    "    return html"
   ]
  },
  {
   "cell_type": "code",
   "execution_count": 67,
   "metadata": {},
   "outputs": [
    {
     "data": {
      "text/html": [
       "<div style=\"width:100%;\"><div style=\"position:relative;width:100%;height:0;padding-bottom:60%;\"><span style=\"color:#565656\">Make this Notebook Trusted to load map: File -> Trust Notebook</span><iframe srcdoc=\"&lt;!DOCTYPE html&gt;\n",
       "&lt;head&gt;    \n",
       "    &lt;meta http-equiv=&quot;content-type&quot; content=&quot;text/html; charset=UTF-8&quot; /&gt;\n",
       "    \n",
       "        &lt;script&gt;\n",
       "            L_NO_TOUCH = false;\n",
       "            L_DISABLE_3D = false;\n",
       "        &lt;/script&gt;\n",
       "    \n",
       "    &lt;style&gt;html, body {width: 100%;height: 100%;margin: 0;padding: 0;}&lt;/style&gt;\n",
       "    &lt;style&gt;#map {position:absolute;top:0;bottom:0;right:0;left:0;}&lt;/style&gt;\n",
       "    &lt;script src=&quot;https://cdn.jsdelivr.net/npm/leaflet@1.6.0/dist/leaflet.js&quot;&gt;&lt;/script&gt;\n",
       "    &lt;script src=&quot;https://code.jquery.com/jquery-1.12.4.min.js&quot;&gt;&lt;/script&gt;\n",
       "    &lt;script src=&quot;https://maxcdn.bootstrapcdn.com/bootstrap/3.2.0/js/bootstrap.min.js&quot;&gt;&lt;/script&gt;\n",
       "    &lt;script src=&quot;https://cdnjs.cloudflare.com/ajax/libs/Leaflet.awesome-markers/2.0.2/leaflet.awesome-markers.js&quot;&gt;&lt;/script&gt;\n",
       "    &lt;link rel=&quot;stylesheet&quot; href=&quot;https://cdn.jsdelivr.net/npm/leaflet@1.6.0/dist/leaflet.css&quot;/&gt;\n",
       "    &lt;link rel=&quot;stylesheet&quot; href=&quot;https://maxcdn.bootstrapcdn.com/bootstrap/3.2.0/css/bootstrap.min.css&quot;/&gt;\n",
       "    &lt;link rel=&quot;stylesheet&quot; href=&quot;https://maxcdn.bootstrapcdn.com/bootstrap/3.2.0/css/bootstrap-theme.min.css&quot;/&gt;\n",
       "    &lt;link rel=&quot;stylesheet&quot; href=&quot;https://maxcdn.bootstrapcdn.com/font-awesome/4.6.3/css/font-awesome.min.css&quot;/&gt;\n",
       "    &lt;link rel=&quot;stylesheet&quot; href=&quot;https://cdnjs.cloudflare.com/ajax/libs/Leaflet.awesome-markers/2.0.2/leaflet.awesome-markers.css&quot;/&gt;\n",
       "    &lt;link rel=&quot;stylesheet&quot; href=&quot;https://cdn.jsdelivr.net/gh/python-visualization/folium/folium/templates/leaflet.awesome.rotate.min.css&quot;/&gt;\n",
       "    \n",
       "            &lt;meta name=&quot;viewport&quot; content=&quot;width=device-width,\n",
       "                initial-scale=1.0, maximum-scale=1.0, user-scalable=no&quot; /&gt;\n",
       "            &lt;style&gt;\n",
       "                #map_7f56f9efd8e1efd11340523d45b5ae75 {\n",
       "                    position: relative;\n",
       "                    width: 100.0%;\n",
       "                    height: 100.0%;\n",
       "                    left: 0.0%;\n",
       "                    top: 0.0%;\n",
       "                }\n",
       "            &lt;/style&gt;\n",
       "        \n",
       "&lt;/head&gt;\n",
       "&lt;body&gt;    \n",
       "    \n",
       "              &lt;h3 align=&quot;center&quot; style=&quot;font-size:16px&quot;&gt;&lt;b&gt;Recent Miami-Dade Condo Sales &lt;/b&gt;&lt;/h3&gt;\n",
       "             \n",
       "    \n",
       "                &lt;p align=&quot;center&quot; style=&quot;vertical-align: bottom; font-size:13px&quot;&gt;&lt;i&gt;July 23rd - July 29th&lt;/i&gt;&lt;/p&gt;\n",
       "                \n",
       "    \n",
       "            &lt;div class=&quot;folium-map&quot; id=&quot;map_7f56f9efd8e1efd11340523d45b5ae75&quot; &gt;&lt;/div&gt;\n",
       "        \n",
       "&lt;/body&gt;\n",
       "&lt;script&gt;    \n",
       "    \n",
       "            var map_7f56f9efd8e1efd11340523d45b5ae75 = L.map(\n",
       "                &quot;map_7f56f9efd8e1efd11340523d45b5ae75&quot;,\n",
       "                {\n",
       "                    center: [25.786850300000005, -80.18410031],\n",
       "                    crs: L.CRS.EPSG3857,\n",
       "                    zoom: 9.5,\n",
       "                    zoomControl: true,\n",
       "                    preferCanvas: false,\n",
       "                }\n",
       "            );\n",
       "\n",
       "            \n",
       "\n",
       "        \n",
       "    \n",
       "            var feature_group_873a0158026ef8e2f43434943ea7c9b2 = L.featureGroup(\n",
       "                {}\n",
       "            ).addTo(map_7f56f9efd8e1efd11340523d45b5ae75);\n",
       "        \n",
       "    \n",
       "            var marker_e810eec28c4c5ca08be6558f8c2d9c2d = L.marker(\n",
       "                [25.883, -80.12183999999999],\n",
       "                {&quot;fill&quot;: true, &quot;radius&quot;: 5}\n",
       "            ).addTo(feature_group_873a0158026ef8e2f43434943ea7c9b2);\n",
       "        \n",
       "    \n",
       "            var icon_f701f7e5f3736d9e028950653ec5cbd5 = L.AwesomeMarkers.icon(\n",
       "                {&quot;extraClasses&quot;: &quot;fa-rotate-0&quot;, &quot;icon&quot;: &quot;info-sign&quot;, &quot;iconColor&quot;: &quot;white&quot;, &quot;markerColor&quot;: &quot;orange&quot;, &quot;prefix&quot;: &quot;glyphicon&quot;}\n",
       "            );\n",
       "            marker_e810eec28c4c5ca08be6558f8c2d9c2d.setIcon(icon_f701f7e5f3736d9e028950653ec5cbd5);\n",
       "        \n",
       "    \n",
       "        var popup_b9d7d5368ba2b7cd492ae59a91d0c389 = L.popup({&quot;maxWidth&quot;: 400});\n",
       "\n",
       "        \n",
       "            \n",
       "                var html_430bf4cc33dfa929190ce2d4b384623f = $(`&lt;div id=&quot;html_430bf4cc33dfa929190ce2d4b384623f&quot; style=&quot;width: 100.0%; height: 100.0%;&quot;&gt;&lt;!DOCTYPE html&gt;     &lt;html&gt;     &lt;strong&gt;Building Name: &lt;/strong&gt;Fendi Château&lt;br&gt;     &lt;strong&gt;Sale Price: &lt;/strong&gt;$10,200,000.00&lt;br&gt;     &lt;strong&gt;Days on Market: &lt;/strong&gt;1&lt;br&gt;     &lt;strong&gt;Listing Agent: &lt;/strong&gt;Mariana Niro&lt;br&gt;     &lt;strong&gt;Buyer&#x27;s Agent: &lt;/strong&gt;Daniel Tzinker&lt;br&gt;     &lt;strong&gt;Price sq ft: &lt;/strong&gt;$3056.64&lt;br&gt;     &lt;strong&gt;Address: &lt;/strong&gt;Château 9349 Collins Ave 705&lt;br&gt;     &lt;/html&gt;     &lt;/div&gt;`)[0];\n",
       "                popup_b9d7d5368ba2b7cd492ae59a91d0c389.setContent(html_430bf4cc33dfa929190ce2d4b384623f);\n",
       "            \n",
       "        \n",
       "\n",
       "        marker_e810eec28c4c5ca08be6558f8c2d9c2d.bindPopup(popup_b9d7d5368ba2b7cd492ae59a91d0c389)\n",
       "        ;\n",
       "\n",
       "        \n",
       "    \n",
       "    \n",
       "            var feature_group_e699540c0ede1eab9ec345ca6f83d01f = L.featureGroup(\n",
       "                {}\n",
       "            ).addTo(map_7f56f9efd8e1efd11340523d45b5ae75);\n",
       "        \n",
       "    \n",
       "            var marker_ff0830baf0829f92d3bce132b6e6420b = L.marker(\n",
       "                [25.7285637, -80.23781679999999],\n",
       "                {&quot;fill&quot;: true, &quot;radius&quot;: 5}\n",
       "            ).addTo(feature_group_e699540c0ede1eab9ec345ca6f83d01f);\n",
       "        \n",
       "    \n",
       "            var icon_0b7518bd3b39122da6306b8ebeb29143 = L.AwesomeMarkers.icon(\n",
       "                {&quot;extraClasses&quot;: &quot;fa-rotate-0&quot;, &quot;icon&quot;: &quot;info-sign&quot;, &quot;iconColor&quot;: &quot;white&quot;, &quot;markerColor&quot;: &quot;blue&quot;, &quot;prefix&quot;: &quot;glyphicon&quot;}\n",
       "            );\n",
       "            marker_ff0830baf0829f92d3bce132b6e6420b.setIcon(icon_0b7518bd3b39122da6306b8ebeb29143);\n",
       "        \n",
       "    \n",
       "        var popup_a5c2850cdf3e0acf1de62527ded68144 = L.popup({&quot;maxWidth&quot;: 400});\n",
       "\n",
       "        \n",
       "            \n",
       "                var html_25966b546e861abf92680582d77e0ed5 = $(`&lt;div id=&quot;html_25966b546e861abf92680582d77e0ed5&quot; style=&quot;width: 100.0%; height: 100.0%;&quot;&gt;&lt;!DOCTYPE html&gt;     &lt;html&gt;     &lt;strong&gt;Building Name: &lt;/strong&gt;Park Grove&lt;br&gt;     &lt;strong&gt;Sale Price: &lt;/strong&gt;$4,850,000.00&lt;br&gt;     &lt;strong&gt;Days on Market: &lt;/strong&gt;38&lt;br&gt;     &lt;strong&gt;Listing Agent: &lt;/strong&gt;Andres Vidal PA&lt;br&gt;     &lt;strong&gt;Buyer&#x27;s Agent: &lt;/strong&gt;Andres Vidal PA&lt;br&gt;     &lt;strong&gt;Price sq ft: &lt;/strong&gt;$1907.2&lt;br&gt;     &lt;strong&gt;Address: &lt;/strong&gt;2811 S Bayshore Dr 8B&lt;br&gt;     &lt;/html&gt;     &lt;/div&gt;`)[0];\n",
       "                popup_a5c2850cdf3e0acf1de62527ded68144.setContent(html_25966b546e861abf92680582d77e0ed5);\n",
       "            \n",
       "        \n",
       "\n",
       "        marker_ff0830baf0829f92d3bce132b6e6420b.bindPopup(popup_a5c2850cdf3e0acf1de62527ded68144)\n",
       "        ;\n",
       "\n",
       "        \n",
       "    \n",
       "    \n",
       "            var marker_ed74ca85000bf1711b41be374fdec1ad = L.marker(\n",
       "                [25.7306755, -80.2371172],\n",
       "                {&quot;fill&quot;: true, &quot;radius&quot;: 5}\n",
       "            ).addTo(feature_group_e699540c0ede1eab9ec345ca6f83d01f);\n",
       "        \n",
       "    \n",
       "            var icon_28056224bd1abc34b0b5880674f11904 = L.AwesomeMarkers.icon(\n",
       "                {&quot;extraClasses&quot;: &quot;fa-rotate-0&quot;, &quot;icon&quot;: &quot;info-sign&quot;, &quot;iconColor&quot;: &quot;white&quot;, &quot;markerColor&quot;: &quot;blue&quot;, &quot;prefix&quot;: &quot;glyphicon&quot;}\n",
       "            );\n",
       "            marker_ed74ca85000bf1711b41be374fdec1ad.setIcon(icon_28056224bd1abc34b0b5880674f11904);\n",
       "        \n",
       "    \n",
       "        var popup_37aed3a6bc6bfc6bd8b35b26a4a2ebe5 = L.popup({&quot;maxWidth&quot;: 400});\n",
       "\n",
       "        \n",
       "            \n",
       "                var html_00be517f4366aa3516416aacca84c35b = $(`&lt;div id=&quot;html_00be517f4366aa3516416aacca84c35b&quot; style=&quot;width: 100.0%; height: 100.0%;&quot;&gt;&lt;!DOCTYPE html&gt;     &lt;html&gt;     &lt;strong&gt;Building Name: &lt;/strong&gt;Grove at Grand Bay&lt;br&gt;     &lt;strong&gt;Sale Price: &lt;/strong&gt;$3,250,000.00&lt;br&gt;     &lt;strong&gt;Days on Market: &lt;/strong&gt;17&lt;br&gt;     &lt;strong&gt;Listing Agent: &lt;/strong&gt;Berenice Elguezabal&lt;br&gt;     &lt;strong&gt;Buyer&#x27;s Agent: &lt;/strong&gt;Isabel Dohse&lt;br&gt;     &lt;strong&gt;Price sq ft: &lt;/strong&gt;$1843.45&lt;br&gt;     &lt;strong&gt;Address: &lt;/strong&gt;2669 S Bayshore Dr 1202N&lt;br&gt;     &lt;/html&gt;     &lt;/div&gt;`)[0];\n",
       "                popup_37aed3a6bc6bfc6bd8b35b26a4a2ebe5.setContent(html_00be517f4366aa3516416aacca84c35b);\n",
       "            \n",
       "        \n",
       "\n",
       "        marker_ed74ca85000bf1711b41be374fdec1ad.bindPopup(popup_37aed3a6bc6bfc6bd8b35b26a4a2ebe5)\n",
       "        ;\n",
       "\n",
       "        \n",
       "    \n",
       "    \n",
       "            var marker_3ab2ac22b3d9232f55ed75ca1672027d = L.marker(\n",
       "                [25.7966829, -80.1876694],\n",
       "                {&quot;fill&quot;: true, &quot;radius&quot;: 5}\n",
       "            ).addTo(feature_group_e699540c0ede1eab9ec345ca6f83d01f);\n",
       "        \n",
       "    \n",
       "            var icon_9c239a28f193e7010772036f70f71ce4 = L.AwesomeMarkers.icon(\n",
       "                {&quot;extraClasses&quot;: &quot;fa-rotate-0&quot;, &quot;icon&quot;: &quot;info-sign&quot;, &quot;iconColor&quot;: &quot;white&quot;, &quot;markerColor&quot;: &quot;blue&quot;, &quot;prefix&quot;: &quot;glyphicon&quot;}\n",
       "            );\n",
       "            marker_3ab2ac22b3d9232f55ed75ca1672027d.setIcon(icon_9c239a28f193e7010772036f70f71ce4);\n",
       "        \n",
       "    \n",
       "        var popup_aeea6ba07370df17bf6ccca9cecdc4c0 = L.popup({&quot;maxWidth&quot;: 400});\n",
       "\n",
       "        \n",
       "            \n",
       "                var html_453d1795b8ae23b1cb8aabf8e63a6a5e = $(`&lt;div id=&quot;html_453d1795b8ae23b1cb8aabf8e63a6a5e&quot; style=&quot;width: 100.0%; height: 100.0%;&quot;&gt;&lt;!DOCTYPE html&gt;     &lt;html&gt;     &lt;strong&gt;Building Name: &lt;/strong&gt;Paramount Bay&lt;br&gt;     &lt;strong&gt;Sale Price: &lt;/strong&gt;$2,150,000.00&lt;br&gt;     &lt;strong&gt;Days on Market: &lt;/strong&gt;133&lt;br&gt;     &lt;strong&gt;Listing Agent: &lt;/strong&gt;M Cristina Fontoura&lt;br&gt;     &lt;strong&gt;Buyer&#x27;s Agent: &lt;/strong&gt;Ashlee Harry&lt;br&gt;     &lt;strong&gt;Price sq ft: &lt;/strong&gt;$976.83&lt;br&gt;     &lt;strong&gt;Address: &lt;/strong&gt;2020 N Bayshore Dr 3902 Miami&lt;br&gt;     &lt;/html&gt;     &lt;/div&gt;`)[0];\n",
       "                popup_aeea6ba07370df17bf6ccca9cecdc4c0.setContent(html_453d1795b8ae23b1cb8aabf8e63a6a5e);\n",
       "            \n",
       "        \n",
       "\n",
       "        marker_3ab2ac22b3d9232f55ed75ca1672027d.bindPopup(popup_aeea6ba07370df17bf6ccca9cecdc4c0)\n",
       "        ;\n",
       "\n",
       "        \n",
       "    \n",
       "    \n",
       "            var marker_db09314cce6135230e5b39fc1bb4168f = L.marker(\n",
       "                [25.8071448, -80.1856208],\n",
       "                {&quot;fill&quot;: true, &quot;radius&quot;: 5}\n",
       "            ).addTo(feature_group_e699540c0ede1eab9ec345ca6f83d01f);\n",
       "        \n",
       "    \n",
       "            var icon_49c310b80dc79a4ffb33055318f7aa91 = L.AwesomeMarkers.icon(\n",
       "                {&quot;extraClasses&quot;: &quot;fa-rotate-0&quot;, &quot;icon&quot;: &quot;info-sign&quot;, &quot;iconColor&quot;: &quot;white&quot;, &quot;markerColor&quot;: &quot;blue&quot;, &quot;prefix&quot;: &quot;glyphicon&quot;}\n",
       "            );\n",
       "            marker_db09314cce6135230e5b39fc1bb4168f.setIcon(icon_49c310b80dc79a4ffb33055318f7aa91);\n",
       "        \n",
       "    \n",
       "        var popup_af1db64ef467b142ce608634f4a3b675 = L.popup({&quot;maxWidth&quot;: 400});\n",
       "\n",
       "        \n",
       "            \n",
       "                var html_b358e7a527e38114cff946be19753d08 = $(`&lt;div id=&quot;html_b358e7a527e38114cff946be19753d08&quot; style=&quot;width: 100.0%; height: 100.0%;&quot;&gt;&lt;!DOCTYPE html&gt;     &lt;html&gt;     &lt;strong&gt;Building Name: &lt;/strong&gt;One Paraiso&lt;br&gt;     &lt;strong&gt;Sale Price: &lt;/strong&gt;$1,750,000.00&lt;br&gt;     &lt;strong&gt;Days on Market: &lt;/strong&gt;14&lt;br&gt;     &lt;strong&gt;Listing Agent: &lt;/strong&gt;Jose Del Corral&lt;br&gt;     &lt;strong&gt;Buyer&#x27;s Agent: &lt;/strong&gt;Pattaraporn Karnjanasiriwan&lt;br&gt;     &lt;strong&gt;Price sq ft: &lt;/strong&gt;$1070.99&lt;br&gt;     &lt;strong&gt;Address: &lt;/strong&gt;3131 NE 7th Ave 1501&lt;br&gt;     &lt;/html&gt;     &lt;/div&gt;`)[0];\n",
       "                popup_af1db64ef467b142ce608634f4a3b675.setContent(html_b358e7a527e38114cff946be19753d08);\n",
       "            \n",
       "        \n",
       "\n",
       "        marker_db09314cce6135230e5b39fc1bb4168f.bindPopup(popup_af1db64ef467b142ce608634f4a3b675)\n",
       "        ;\n",
       "\n",
       "        \n",
       "    \n",
       "    \n",
       "            var marker_1643597a0e3757e5229bfa6ff771bf58 = L.marker(\n",
       "                [25.6857044, -80.15754919999999],\n",
       "                {&quot;fill&quot;: true, &quot;radius&quot;: 5}\n",
       "            ).addTo(feature_group_e699540c0ede1eab9ec345ca6f83d01f);\n",
       "        \n",
       "    \n",
       "            var icon_dd76130b86fd06c02ae709a229b19ea4 = L.AwesomeMarkers.icon(\n",
       "                {&quot;extraClasses&quot;: &quot;fa-rotate-0&quot;, &quot;icon&quot;: &quot;info-sign&quot;, &quot;iconColor&quot;: &quot;white&quot;, &quot;markerColor&quot;: &quot;blue&quot;, &quot;prefix&quot;: &quot;glyphicon&quot;}\n",
       "            );\n",
       "            marker_1643597a0e3757e5229bfa6ff771bf58.setIcon(icon_dd76130b86fd06c02ae709a229b19ea4);\n",
       "        \n",
       "    \n",
       "        var popup_18d49bc79c5094155b0567129702f58f = L.popup({&quot;maxWidth&quot;: 400});\n",
       "\n",
       "        \n",
       "            \n",
       "                var html_f6b23a74c4ad0a9d4dbc5cdb71c215d2 = $(`&lt;div id=&quot;html_f6b23a74c4ad0a9d4dbc5cdb71c215d2&quot; style=&quot;width: 100.0%; height: 100.0%;&quot;&gt;&lt;!DOCTYPE html&gt;     &lt;html&gt;     &lt;strong&gt;Building Name: &lt;/strong&gt;Casa Del Mar&lt;br&gt;     &lt;strong&gt;Sale Price: &lt;/strong&gt;$1,625,000.00&lt;br&gt;     &lt;strong&gt;Days on Market: &lt;/strong&gt;165&lt;br&gt;     &lt;strong&gt;Listing Agent: &lt;/strong&gt;Dulce Garcia&lt;br&gt;     &lt;strong&gt;Buyer&#x27;s Agent: &lt;/strong&gt;German Botero&lt;br&gt;     &lt;strong&gt;Price sq ft: &lt;/strong&gt;$866.67&lt;br&gt;     &lt;strong&gt;Address: &lt;/strong&gt;881 Ocean Dr 10D Key&lt;br&gt;     &lt;/html&gt;     &lt;/div&gt;`)[0];\n",
       "                popup_18d49bc79c5094155b0567129702f58f.setContent(html_f6b23a74c4ad0a9d4dbc5cdb71c215d2);\n",
       "            \n",
       "        \n",
       "\n",
       "        marker_1643597a0e3757e5229bfa6ff771bf58.bindPopup(popup_18d49bc79c5094155b0567129702f58f)\n",
       "        ;\n",
       "\n",
       "        \n",
       "    \n",
       "    \n",
       "            var marker_a6fc91ceef385ffb360be9e52fe3650b = L.marker(\n",
       "                [25.7351295, -80.21874609999999],\n",
       "                {&quot;fill&quot;: true, &quot;radius&quot;: 5}\n",
       "            ).addTo(feature_group_e699540c0ede1eab9ec345ca6f83d01f);\n",
       "        \n",
       "    \n",
       "            var icon_ee30e96608e45913ce18e639cad12c91 = L.AwesomeMarkers.icon(\n",
       "                {&quot;extraClasses&quot;: &quot;fa-rotate-0&quot;, &quot;icon&quot;: &quot;info-sign&quot;, &quot;iconColor&quot;: &quot;white&quot;, &quot;markerColor&quot;: &quot;blue&quot;, &quot;prefix&quot;: &quot;glyphicon&quot;}\n",
       "            );\n",
       "            marker_a6fc91ceef385ffb360be9e52fe3650b.setIcon(icon_ee30e96608e45913ce18e639cad12c91);\n",
       "        \n",
       "    \n",
       "        var popup_85bd7ce9dee8fac492a2e4093dfd2367 = L.popup({&quot;maxWidth&quot;: 400});\n",
       "\n",
       "        \n",
       "            \n",
       "                var html_078a5b839c55071661a9b85503a1d2d9 = $(`&lt;div id=&quot;html_078a5b839c55071661a9b85503a1d2d9&quot; style=&quot;width: 100.0%; height: 100.0%;&quot;&gt;&lt;!DOCTYPE html&gt;     &lt;html&gt;     &lt;strong&gt;Building Name: &lt;/strong&gt;Grove Isle Condo&lt;br&gt;     &lt;strong&gt;Sale Price: &lt;/strong&gt;$1,475,000.00&lt;br&gt;     &lt;strong&gt;Days on Market: &lt;/strong&gt;75&lt;br&gt;     &lt;strong&gt;Listing Agent: &lt;/strong&gt;David Sporn&lt;br&gt;     &lt;strong&gt;Buyer&#x27;s Agent: &lt;/strong&gt;Jill Penman&lt;br&gt;     &lt;strong&gt;Price sq ft: &lt;/strong&gt;$898.29&lt;br&gt;     &lt;strong&gt;Address: &lt;/strong&gt;1 Grove Isle Dr A908&lt;br&gt;     &lt;/html&gt;     &lt;/div&gt;`)[0];\n",
       "                popup_85bd7ce9dee8fac492a2e4093dfd2367.setContent(html_078a5b839c55071661a9b85503a1d2d9);\n",
       "            \n",
       "        \n",
       "\n",
       "        marker_a6fc91ceef385ffb360be9e52fe3650b.bindPopup(popup_85bd7ce9dee8fac492a2e4093dfd2367)\n",
       "        ;\n",
       "\n",
       "        \n",
       "    \n",
       "    \n",
       "            var marker_4fd91758623e153a35d92bce2e9d490e = L.marker(\n",
       "                [25.7692906, -80.1849189],\n",
       "                {&quot;fill&quot;: true, &quot;radius&quot;: 5}\n",
       "            ).addTo(feature_group_e699540c0ede1eab9ec345ca6f83d01f);\n",
       "        \n",
       "    \n",
       "            var icon_75a5cddb268ebdd97cb426ac87550ff4 = L.AwesomeMarkers.icon(\n",
       "                {&quot;extraClasses&quot;: &quot;fa-rotate-0&quot;, &quot;icon&quot;: &quot;info-sign&quot;, &quot;iconColor&quot;: &quot;white&quot;, &quot;markerColor&quot;: &quot;blue&quot;, &quot;prefix&quot;: &quot;glyphicon&quot;}\n",
       "            );\n",
       "            marker_4fd91758623e153a35d92bce2e9d490e.setIcon(icon_75a5cddb268ebdd97cb426ac87550ff4);\n",
       "        \n",
       "    \n",
       "        var popup_bc84db8120d6a466ff8ffe038877b4c8 = L.popup({&quot;maxWidth&quot;: 400});\n",
       "\n",
       "        \n",
       "            \n",
       "                var html_7ee8c948e14a3dbd01f28748e6e4798f = $(`&lt;div id=&quot;html_7ee8c948e14a3dbd01f28748e6e4798f&quot; style=&quot;width: 100.0%; height: 100.0%;&quot;&gt;&lt;!DOCTYPE html&gt;     &lt;html&gt;     &lt;strong&gt;Building Name: &lt;/strong&gt;One Tequesta Point&lt;br&gt;     &lt;strong&gt;Sale Price: &lt;/strong&gt;$1,375,000.00&lt;br&gt;     &lt;strong&gt;Days on Market: &lt;/strong&gt;40&lt;br&gt;     &lt;strong&gt;Listing Agent: &lt;/strong&gt;Maria &quot;Millie&quot; Rodriguez&lt;br&gt;     &lt;strong&gt;Buyer&#x27;s Agent: &lt;/strong&gt;Santiago Ortega&lt;br&gt;     &lt;strong&gt;Price sq ft: &lt;/strong&gt;$670.73&lt;br&gt;     &lt;strong&gt;Address: &lt;/strong&gt;888 Brickell Key Dr 1103&lt;br&gt;     &lt;/html&gt;     &lt;/div&gt;`)[0];\n",
       "                popup_bc84db8120d6a466ff8ffe038877b4c8.setContent(html_7ee8c948e14a3dbd01f28748e6e4798f);\n",
       "            \n",
       "        \n",
       "\n",
       "        marker_4fd91758623e153a35d92bce2e9d490e.bindPopup(popup_bc84db8120d6a466ff8ffe038877b4c8)\n",
       "        ;\n",
       "\n",
       "        \n",
       "    \n",
       "    \n",
       "            var marker_caceb50416f7bc6a8f14dcbcda2316a7 = L.marker(\n",
       "                [25.9652576, -80.1248626],\n",
       "                {&quot;fill&quot;: true, &quot;radius&quot;: 5}\n",
       "            ).addTo(feature_group_e699540c0ede1eab9ec345ca6f83d01f);\n",
       "        \n",
       "    \n",
       "            var icon_b9461c4ea1b3786e2a996d7fa07112fc = L.AwesomeMarkers.icon(\n",
       "                {&quot;extraClasses&quot;: &quot;fa-rotate-0&quot;, &quot;icon&quot;: &quot;info-sign&quot;, &quot;iconColor&quot;: &quot;white&quot;, &quot;markerColor&quot;: &quot;blue&quot;, &quot;prefix&quot;: &quot;glyphicon&quot;}\n",
       "            );\n",
       "            marker_caceb50416f7bc6a8f14dcbcda2316a7.setIcon(icon_b9461c4ea1b3786e2a996d7fa07112fc);\n",
       "        \n",
       "    \n",
       "        var popup_dc2307aeb539d6602db715cf556082c9 = L.popup({&quot;maxWidth&quot;: 400});\n",
       "\n",
       "        \n",
       "            \n",
       "                var html_992689a39e2d026140d343485e6837f1 = $(`&lt;div id=&quot;html_992689a39e2d026140d343485e6837f1&quot; style=&quot;width: 100.0%; height: 100.0%;&quot;&gt;&lt;!DOCTYPE html&gt;     &lt;html&gt;     &lt;strong&gt;Building Name: &lt;/strong&gt;Hamptons South Condo&lt;br&gt;     &lt;strong&gt;Sale Price: &lt;/strong&gt;$1,350,000.00&lt;br&gt;     &lt;strong&gt;Days on Market: &lt;/strong&gt;52&lt;br&gt;     &lt;strong&gt;Listing Agent: &lt;/strong&gt;Jonathan Eisenband&lt;br&gt;     &lt;strong&gt;Buyer&#x27;s Agent: &lt;/strong&gt;Jonathan Eisenband&lt;br&gt;     &lt;strong&gt;Price sq ft: &lt;/strong&gt;$413.86&lt;br&gt;     &lt;strong&gt;Address: &lt;/strong&gt;20201 E Country Club Dr 602&lt;br&gt;     &lt;/html&gt;     &lt;/div&gt;`)[0];\n",
       "                popup_dc2307aeb539d6602db715cf556082c9.setContent(html_992689a39e2d026140d343485e6837f1);\n",
       "            \n",
       "        \n",
       "\n",
       "        marker_caceb50416f7bc6a8f14dcbcda2316a7.bindPopup(popup_dc2307aeb539d6602db715cf556082c9)\n",
       "        ;\n",
       "\n",
       "        \n",
       "    \n",
       "    \n",
       "            var marker_17934ddc258fe9b57087593015388131 = L.marker(\n",
       "                [25.767054, -80.18486209999999],\n",
       "                {&quot;fill&quot;: true, &quot;radius&quot;: 5}\n",
       "            ).addTo(feature_group_e699540c0ede1eab9ec345ca6f83d01f);\n",
       "        \n",
       "    \n",
       "            var icon_0c60821ce5435a837d2cd8f09eb6a9bd = L.AwesomeMarkers.icon(\n",
       "                {&quot;extraClasses&quot;: &quot;fa-rotate-0&quot;, &quot;icon&quot;: &quot;info-sign&quot;, &quot;iconColor&quot;: &quot;white&quot;, &quot;markerColor&quot;: &quot;blue&quot;, &quot;prefix&quot;: &quot;glyphicon&quot;}\n",
       "            );\n",
       "            marker_17934ddc258fe9b57087593015388131.setIcon(icon_0c60821ce5435a837d2cd8f09eb6a9bd);\n",
       "        \n",
       "    \n",
       "        var popup_ba32ca3fabf0d1c26fa2cf3e7d6863bf = L.popup({&quot;maxWidth&quot;: 400});\n",
       "\n",
       "        \n",
       "            \n",
       "                var html_09258ef544d19ac706dd5a7f6efa43d0 = $(`&lt;div id=&quot;html_09258ef544d19ac706dd5a7f6efa43d0&quot; style=&quot;width: 100.0%; height: 100.0%;&quot;&gt;&lt;!DOCTYPE html&gt;     &lt;html&gt;     &lt;strong&gt;Building Name: &lt;/strong&gt;Brickell Key One&lt;br&gt;     &lt;strong&gt;Sale Price: &lt;/strong&gt;$1,350,000.00&lt;br&gt;     &lt;strong&gt;Days on Market: &lt;/strong&gt;37&lt;br&gt;     &lt;strong&gt;Listing Agent: &lt;/strong&gt;Gina Gonzalez&lt;br&gt;     &lt;strong&gt;Buyer&#x27;s Agent: &lt;/strong&gt;Adriana Motta&lt;br&gt;     &lt;strong&gt;Price sq ft: &lt;/strong&gt;$497.79&lt;br&gt;     &lt;strong&gt;Address: &lt;/strong&gt;520 Brickell Key Dr APH10&lt;br&gt;     &lt;/html&gt;     &lt;/div&gt;`)[0];\n",
       "                popup_ba32ca3fabf0d1c26fa2cf3e7d6863bf.setContent(html_09258ef544d19ac706dd5a7f6efa43d0);\n",
       "            \n",
       "        \n",
       "\n",
       "        marker_17934ddc258fe9b57087593015388131.bindPopup(popup_ba32ca3fabf0d1c26fa2cf3e7d6863bf)\n",
       "        ;\n",
       "\n",
       "        \n",
       "    \n",
       "    \n",
       "            var tile_layer_c847cd7c67d8ebe074d42c13781aa893 = L.tileLayer(\n",
       "                &quot;https://{s}.tile.openstreetmap.org/{z}/{x}/{y}.png&quot;,\n",
       "                {&quot;attribution&quot;: &quot;Data by \\u0026copy; \\u003ca href=\\&quot;http://openstreetmap.org\\&quot;\\u003eOpenStreetMap\\u003c/a\\u003e, under \\u003ca href=\\&quot;http://www.openstreetmap.org/copyright\\&quot;\\u003eODbL\\u003c/a\\u003e.&quot;, &quot;detectRetina&quot;: false, &quot;maxNativeZoom&quot;: 18, &quot;maxZoom&quot;: 18, &quot;minZoom&quot;: 0, &quot;noWrap&quot;: false, &quot;opacity&quot;: 1, &quot;subdomains&quot;: &quot;abc&quot;, &quot;tms&quot;: false}\n",
       "            ).addTo(map_7f56f9efd8e1efd11340523d45b5ae75);\n",
       "        \n",
       "    \n",
       "            var layer_control_89d2b03045958547d75aef390e9ad4e2 = {\n",
       "                base_layers : {\n",
       "                },\n",
       "                overlays :  {\n",
       "                    &quot;Top Sale&quot; : feature_group_873a0158026ef8e2f43434943ea7c9b2,\n",
       "                    &quot;All other sales&quot; : feature_group_e699540c0ede1eab9ec345ca6f83d01f,\n",
       "                },\n",
       "            };\n",
       "            L.control.layers(\n",
       "                layer_control_89d2b03045958547d75aef390e9ad4e2.base_layers,\n",
       "                layer_control_89d2b03045958547d75aef390e9ad4e2.overlays,\n",
       "                {&quot;autoZIndex&quot;: true, &quot;collapsed&quot;: false, &quot;position&quot;: &quot;topright&quot;}\n",
       "            ).addTo(map_7f56f9efd8e1efd11340523d45b5ae75);\n",
       "        \n",
       "&lt;/script&gt;\" style=\"position:absolute;width:100%;height:100%;left:0;top:0;border:none !important;\" allowfullscreen webkitallowfullscreen mozallowfullscreen></iframe></div></div>"
      ],
      "text/plain": [
       "<folium.folium.Map at 0x7fbc44154fd0>"
      ]
     },
     "execution_count": 67,
     "metadata": {},
     "output_type": "execute_result"
    }
   ],
   "source": [
    "import folium\n",
    "from folium.plugins import MarkerCluster\n",
    "\n",
    "m = folium.Map(location=df[[\"lat\", \"lon\"]].mean().to_list(), zoom_start=10)\n",
    "\n",
    "title_html = '''\n",
    "              <h3 align=\"center\" style=\"font-size:16px\"><b>{}</b></h3>\n",
    "             '''.format(f'Recent Miami-Dade Condo Sales ')\n",
    "\n",
    "caption_html = '''\n",
    "                <p align=\"center\" style=\"vertical-align: bottom; font-size:13px\"><i>{}</i></p>\n",
    "                '''.format('July 23rd - July 29th')\n",
    "\n",
    "\n",
    "### Create map container ###\n",
    "m = folium.Map(location=df[[\"lat\", \"lon\"]].mean().to_list(),zoom_start=9.5,tiles=None)\n",
    "\n",
    "# Create two FeatureGroups for different color pins\n",
    "fg_blue = folium.FeatureGroup(name='All other sales')\n",
    "fg_orange = folium.FeatureGroup(name='Top Sale')\n",
    "\n",
    "for index, row in df.iterrows():\n",
    "    # Add the markers to the appropriate FeatureGroup based on the color\n",
    "    if row['COLOR'] == 'blue':\n",
    "        marker = folium.Marker(\n",
    "            location=[row['lat'], row['lon']],\n",
    "            radius=5,\n",
    "            fill=True,\n",
    "            icon=folium.Icon(color=row['COLOR']),\n",
    "            popup=folium.Popup(popup_html(row), max_width=400))\n",
    "        marker.add_to(fg_blue)\n",
    "    else:\n",
    "        marker = folium.Marker(\n",
    "            location=[row['lat'], row['lon']],\n",
    "            radius=5,\n",
    "            fill=True,\n",
    "            icon=folium.Icon(color=row['COLOR']),\n",
    "            popup=folium.Popup(popup_html(row), max_width=400))\n",
    "        marker.add_to(fg_orange)\n",
    "\n",
    "# Add the FeatureGroups to the map\n",
    "fg_orange.add_to(m)\n",
    "fg_blue.add_to(m)\n",
    "\n",
    "folium.TileLayer('OpenStreetMap',control=False).add_to(m)\n",
    "\n",
    "# Add LayerControl to the map\n",
    "folium.map.LayerControl(collapsed=False).add_to(m)\n",
    "m.get_root().html.add_child(folium.Element(title_html))\n",
    "m.get_root().html.add_child(folium.Element(caption_html))\n",
    "            \n",
    "# Display map\n",
    "m"
   ]
  },
  {
   "cell_type": "code",
   "execution_count": 68,
   "metadata": {},
   "outputs": [],
   "source": [
    "m.save('index.html')"
   ]
  },
  {
   "cell_type": "markdown",
   "metadata": {},
   "source": [
    "## Data snagger"
   ]
  },
  {
   "cell_type": "code",
   "execution_count": 69,
   "metadata": {},
   "outputs": [],
   "source": [
    "### Set up formatting ###\n",
    "BR = '\\n'\n",
    "\n",
    "ME = '\\033[1m' + 'Most Expensive' + '\\033[0m'\n",
    "LE = '\\033[1m' + 'Least Expensive' + '\\033[0m'\n",
    "\n",
    "MAX_PSF = '\\033[1m' + 'Highest Price Per Square Foot' + '\\033[0m'\n",
    "MIN_PSF = '\\033[1m' + 'Lowest Price Per Square Foot' + '\\033[0m'\n",
    "\n",
    "DAYS_MAX = '\\033[1m' + 'Most Days on Market' + '\\033[0m'\n",
    "DAYS_MIN = '\\033[1m' + 'Fewest Days on Market' + '\\033[0m'"
   ]
  },
  {
   "cell_type": "code",
   "execution_count": 70,
   "metadata": {},
   "outputs": [
    {
     "name": "stdout",
     "output_type": "stream",
     "text": [
      "\u001b[1mMost Expensive\u001b[0m\n",
      "Fendi Château, Château 9349 Collins Ave 705 | Price $10,200,000 | $3,057 psf | Listing agent: Mariana Niro with Serhant | Buyer's agent: Daniel Tzinker with The Agency Florida LLC | Days on market: 1\n",
      "\u001b[1mLeast Expensive\u001b[0m\n",
      "Hamptons South Condo, 20201 E Country Club Dr 602 | Price $1,350,000 | $414 psf | Listing agent: Jonathan Eisenband with Onecore Realty, Inc. | Buyer's agent: Jonathan Eisenband with Onecore Realty, Inc. | Days on market: 52\n",
      "\u001b[1mHighest Price Per Square Foot\u001b[0m\n",
      "Fendi Château, Château 9349 Collins Ave 705 | Price $10,200,000 | $3,057 psf | Listing agent: Mariana Niro with Serhant | Buyer's agent: Daniel Tzinker with The Agency Florida LLC | Days on market: 1\n",
      "\u001b[1mLowest Price Per Square Foot\u001b[0m\n",
      "Hamptons South Condo, 20201 E Country Club Dr 602 | Price $1,350,000 | $414 psf | Listing agent: Jonathan Eisenband with Onecore Realty, Inc. | Buyer's agent: Jonathan Eisenband with Onecore Realty, Inc. | Days on market: 52\n",
      "\u001b[1mMost Days on Market\u001b[0m\n",
      "Casa Del Mar, 881 Ocean Dr 10D Key | Price $1,625,000 | $867 psf | Listing agent: Dulce Garcia with Gables Gate Enterprises Inc. | Buyer's agent: German Botero with Fortune Christie's Int'l Real Estate | Days on market: 165\n",
      "\u001b[1mFewest Days on Market\u001b[0m\n",
      "Fendi Château, Château 9349 Collins Ave 705 | Price $10,200,000 | $3,057 psf | Listing agent: Mariana Niro with Serhant | Buyer's agent: Daniel Tzinker with The Agency Florida LLC | Days on market: 1\n"
     ]
    }
   ],
   "source": [
    "### Highest and lowest sale price ###\n",
    "print(f\"{ME}{BR}{df.loc[df['int_Sale_Price'].idxmax()]['building_name']}, {df.loc[df['int_Sale_Price'].idxmax()]['address']} | Price ${df.loc[df['int_Sale_Price'].idxmax()]['int_Sale_Price']:,.0f} | ${df.loc[df['int_Sale_Price'].idxmax()]['price_per_sqft']:,.0f} psf | Listing agent: {df.loc[df['int_Sale_Price'].idxmax()]['Agent']} with {df.loc[df['int_Sale_Price'].idxmax()]['Listing Broker']} | Buyer's agent: {df.loc[df['int_Sale_Price'].idxmax()]['Buyer Agent']} with {df.loc[df['int_Sale_Price'].idxmax()]['Buyer Broker']} | Days on market: {df.loc[df['int_Sale_Price'].idxmax()]['days_on_market']}\")\n",
    "print(f\"{LE}{BR}{df.loc[df['int_Sale_Price'].idxmin()]['building_name']}, {df.loc[df['int_Sale_Price'].idxmin()]['address']} | Price ${df.loc[df['int_Sale_Price'].idxmin()]['int_Sale_Price']:,.0f} | ${df.loc[df['int_Sale_Price'].idxmin()]['price_per_sqft']:,.0f} psf | Listing agent: {df.loc[df['int_Sale_Price'].idxmin()]['Agent']} with {df.loc[df['int_Sale_Price'].idxmin()]['Listing Broker']} | Buyer's agent: {df.loc[df['int_Sale_Price'].idxmin()]['Buyer Agent']} with {df.loc[df['int_Sale_Price'].idxmin()]['Buyer Broker']} | Days on market: {df.loc[df['int_Sale_Price'].idxmin()]['days_on_market']}\")\n",
    "### Highest and lowest psf ###\n",
    "print(f\"{MAX_PSF}{BR}{df.loc[df['price_per_sqft'].idxmax()]['building_name']}, {df.loc[df['price_per_sqft'].idxmax()]['address']} | Price ${df.loc[df['price_per_sqft'].idxmax()]['int_Sale_Price']:,.0f} | ${df.loc[df['price_per_sqft'].idxmax()]['price_per_sqft']:,.0f} psf | Listing agent: {df.loc[df['price_per_sqft'].idxmax()]['Agent']} with {df.loc[df['price_per_sqft'].idxmax()]['Listing Broker']} | Buyer's agent: {df.loc[df['price_per_sqft'].idxmax()]['Buyer Agent']} with {df.loc[df['price_per_sqft'].idxmax()]['Buyer Broker']} | Days on market: {df.loc[df['price_per_sqft'].idxmax()]['days_on_market']}\")\n",
    "print(f\"{MIN_PSF}{BR}{df.loc[df['price_per_sqft'].idxmin()]['building_name']}, {df.loc[df['price_per_sqft'].idxmin()]['address']} | Price ${df.loc[df['price_per_sqft'].idxmin()]['int_Sale_Price']:,.0f} | ${df.loc[df['price_per_sqft'].idxmin()]['price_per_sqft']:,.0f} psf | Listing agent: {df.loc[df['price_per_sqft'].idxmin()]['Agent']} with {df.loc[df['price_per_sqft'].idxmin()]['Listing Broker']} | Buyer's agent: {df.loc[df['price_per_sqft'].idxmin()]['Buyer Agent']} with {df.loc[df['price_per_sqft'].idxmin()]['Buyer Broker']} | Days on market: {df.loc[df['price_per_sqft'].idxmin()]['days_on_market']}\")\n",
    "### Highest and lowest days on market ###\n",
    "print(f\"{DAYS_MAX}{BR}{df.loc[df['days_on_market'].idxmax()]['building_name']}, {df.loc[df['days_on_market'].idxmax()]['address']} | Price ${df.loc[df['days_on_market'].idxmax()]['int_Sale_Price']:,.0f} | ${df.loc[df['days_on_market'].idxmax()]['price_per_sqft']:,.0f} psf | Listing agent: {df.loc[df['days_on_market'].idxmax()]['Agent']} with {df.loc[df['days_on_market'].idxmax()]['Listing Broker']} | Buyer's agent: {df.loc[df['days_on_market'].idxmax()]['Buyer Agent']} with {df.loc[df['days_on_market'].idxmax()]['Buyer Broker']} | Days on market: {df.loc[df['days_on_market'].idxmax()]['days_on_market']}\")\n",
    "print(f\"{DAYS_MIN}{BR}{df.loc[df['days_on_market'].idxmin()]['building_name']}, {df.loc[df['days_on_market'].idxmin()]['address']} | Price ${df.loc[df['days_on_market'].idxmin()]['int_Sale_Price']:,.0f} | ${df.loc[df['days_on_market'].idxmin()]['price_per_sqft']:,.0f} psf | Listing agent: {df.loc[df['days_on_market'].idxmin()]['Agent']} with {df.loc[df['days_on_market'].idxmin()]['Listing Broker']} | Buyer's agent: {df.loc[df['days_on_market'].idxmin()]['Buyer Agent']} with {df.loc[df['days_on_market'].idxmin()]['Buyer Broker']} | Days on market: {df.loc[df['days_on_market'].idxmin()]['days_on_market']}\")"
   ]
  },
  {
   "cell_type": "markdown",
   "metadata": {},
   "source": [
    "## Map URL snagger"
   ]
  },
  {
   "cell_type": "markdown",
   "metadata": {},
   "source": [
    "Map template URL: `https://trd-digital.github.io/trd-news-interactive-maps/{map-folder-name}`"
   ]
  },
  {
   "cell_type": "code",
   "execution_count": 71,
   "metadata": {},
   "outputs": [],
   "source": [
    "base_name = 'https://trd-digital.github.io/trd-news-interactive-maps/'"
   ]
  },
  {
   "cell_type": "code",
   "execution_count": 72,
   "metadata": {},
   "outputs": [
    {
     "name": "stdout",
     "output_type": "stream",
     "text": [
      "https://trd-digital.github.io/trd-news-interactive-maps/condo_sales_week_ending_07292023\n"
     ]
    }
   ],
   "source": [
    "cwd = os.getcwd()\n",
    "\n",
    "cwd = cwd.split('/')\n",
    "\n",
    "final_name = base_name + cwd[-1]\n",
    "print(final_name)"
   ]
  }
 ],
 "metadata": {
  "kernelspec": {
   "display_name": "Python 3 (ipykernel)",
   "language": "python",
   "name": "python3"
  },
  "language_info": {
   "codemirror_mode": {
    "name": "ipython",
    "version": 3
   },
   "file_extension": ".py",
   "mimetype": "text/x-python",
   "name": "python",
   "nbconvert_exporter": "python",
   "pygments_lexer": "ipython3",
   "version": "3.9.12"
  },
  "toc": {
   "base_numbering": 1,
   "nav_menu": {},
   "number_sections": true,
   "sideBar": true,
   "skip_h1_title": false,
   "title_cell": "Table of Contents",
   "title_sidebar": "Contents",
   "toc_cell": false,
   "toc_position": {},
   "toc_section_display": true,
   "toc_window_display": false
  }
 },
 "nbformat": 4,
 "nbformat_minor": 4
}
