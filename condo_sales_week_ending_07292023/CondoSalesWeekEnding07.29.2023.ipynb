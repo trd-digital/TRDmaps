{
 "cells": [
  {
   "cell_type": "markdown",
   "metadata": {},
   "source": [
    "## Imports"
   ]
  },
  {
   "cell_type": "code",
   "execution_count": 1,
   "metadata": {},
   "outputs": [],
   "source": [
    "import googlemaps\n",
    "import pandas as pd\n",
    "import numpy as np\n",
    "import re\n",
    "import os\n",
    "import geopandas as gpd\n",
    "import folium\n",
    "import tabula"
   ]
  },
  {
   "cell_type": "markdown",
   "metadata": {},
   "source": [
    "## Read-in"
   ]
  },
  {
   "cell_type": "code",
   "execution_count": 2,
   "metadata": {},
   "outputs": [],
   "source": [
    "# Gotta figure out how to get rid of the java error.\n",
    "# SO: https://stackoverflow.com/questions/54817211/java-command-is-not-found-from-this-python-process-please-ensure-java-is-inst\n",
    "\n",
    "dsf = tabula.read_pdf('condo.pdf', pages='all')"
   ]
  },
  {
   "cell_type": "markdown",
   "metadata": {},
   "source": [
    "## Clean Data"
   ]
  },
  {
   "cell_type": "code",
   "execution_count": 3,
   "metadata": {},
   "outputs": [],
   "source": [
    "df = dsf[0]\n",
    "df.columns = df.iloc[0]\n",
    "df = df[1:]\n",
    "df = df.drop(columns=df.columns[0])\n",
    "df = df.replace(np.nan, 'Not Available', regex=True)\n",
    "df = df.rename(columns={'Building / Address / City': 'building_address_city','Days on\\rMarket':'days_on_market',\\\n",
    "                        'Price /\\rSq. Ft.':'price_per_sqft'})\n",
    "df['building_address_city'] = df['building_address_city'].str.replace('^0', '', regex=True)\n",
    "df['geo_address'] = df['building_address_city']\n",
    "df['geo_address'] = df['geo_address'].map(lambda x: re.sub(r'\\r', ' ', x))\n",
    "df = df.replace('\\n',' ',regex=True)\n",
    "pattern = r'^(?P<building_name>[\\d\\s]*[A-Za-z\\s]+)\\s(?P<address>.+)\\s(?P<city>[A-Za-z\\s]+)$'\n",
    "df2 = df['geo_address']\n",
    "df2 = df2.to_frame()\n",
    "df2[['building_name', 'address', 'city']] = df2['geo_address'].str.extract(pattern, expand=True)"
   ]
  },
  {
   "cell_type": "markdown",
   "metadata": {},
   "source": [
    "Review this later (it's about how to properly merge DFs): https://pandas.pydata.org/pandas-docs/stable/user_guide/merging.html"
   ]
  },
  {
   "cell_type": "markdown",
   "metadata": {},
   "source": [
    "## Geocode"
   ]
  },
  {
   "cell_type": "code",
   "execution_count": 4,
   "metadata": {},
   "outputs": [],
   "source": [
    "result = pd.merge(df,df2,left_index=True, right_index=True)\n",
    "df = result\n",
    "df = df.drop(columns='city')"
   ]
  },
  {
   "cell_type": "code",
   "execution_count": 5,
   "metadata": {},
   "outputs": [],
   "source": [
    "%store -r google_maps_API_Key\n",
    "gmaps_key = googlemaps.Client(key=google_maps_API_Key)"
   ]
  },
  {
   "cell_type": "code",
   "execution_count": 6,
   "metadata": {},
   "outputs": [],
   "source": [
    "def geocode(add):\n",
    "    g = gmaps_key.geocode(add)\n",
    "    lat = g[0][\"geometry\"][\"location\"][\"lat\"]\n",
    "    lng = g[0][\"geometry\"][\"location\"][\"lng\"]\n",
    "    return (lat, lng)\n",
    "\n",
    "df['geocoded'] = df['geo_address_x'].apply(geocode)"
   ]
  },
  {
   "cell_type": "code",
   "execution_count": 7,
   "metadata": {},
   "outputs": [],
   "source": [
    "df['geocoded'] = df['geocoded'].astype(str)\n",
    "df[['lat', 'lon']] = df['geocoded'].str.strip('()').str.split(', ', expand=True)\n",
    "df['lat'] = df['lat'].astype(float)\n",
    "df['lon'] = df['lon'].astype(float)"
   ]
  },
  {
   "cell_type": "markdown",
   "metadata": {},
   "source": [
    "Folium documentation link: https://python-visualization.github.io/folium/index.html\n",
    "\n",
    "Folium is the library that lets us use leaflet with Python, since it's meant to be used with JavaScript.\n",
    "\n",
    "For adding titles: https://stackoverflow.com/questions/61928013/adding-a-title-or-text-to-a-folium-map"
   ]
  },
  {
   "cell_type": "markdown",
   "metadata": {},
   "source": [
    "## Correction section"
   ]
  },
  {
   "cell_type": "code",
   "execution_count": 8,
   "metadata": {},
   "outputs": [],
   "source": [
    "# df.at[index#,'col_name']"
   ]
  },
  {
   "cell_type": "markdown",
   "metadata": {},
   "source": [
    "## Format Data"
   ]
  },
  {
   "cell_type": "code",
   "execution_count": 9,
   "metadata": {},
   "outputs": [],
   "source": [
    "### Insert NaNs if needed ###\n",
    "df = df.replace('N/A', np.nan)"
   ]
  },
  {
   "cell_type": "code",
   "execution_count": 10,
   "metadata": {},
   "outputs": [],
   "source": [
    "df['int_Sale_Price'] = df['Sale Price'].str.replace('$','',regex=False)"
   ]
  },
  {
   "cell_type": "code",
   "execution_count": 11,
   "metadata": {},
   "outputs": [],
   "source": [
    "df['int_Sale_Price'] = df['int_Sale_Price'].str.replace(',','',regex=False)"
   ]
  },
  {
   "cell_type": "code",
   "execution_count": 12,
   "metadata": {},
   "outputs": [],
   "source": [
    "df['int_Sale_Price'] = pd.to_numeric(df['int_Sale_Price'])"
   ]
  },
  {
   "cell_type": "code",
   "execution_count": 13,
   "metadata": {},
   "outputs": [],
   "source": [
    "df['price_per_sqft'] = df['price_per_sqft'].str.replace('$','',regex=False)\n",
    "df['price_per_sqft'] = df['price_per_sqft'].str.replace(',','',regex=False)\n",
    "df['price_per_sqft'] = pd.to_numeric(df['price_per_sqft'])\n",
    "\n",
    "df['days_on_market'] = pd.to_numeric(df['days_on_market'])"
   ]
  },
  {
   "cell_type": "markdown",
   "metadata": {},
   "source": [
    "## Color-code top sale"
   ]
  },
  {
   "cell_type": "code",
   "execution_count": 14,
   "metadata": {},
   "outputs": [],
   "source": [
    "### Insert RANK values ###\n",
    "df['RANK'] = range(1, len(df) + 1)\n",
    "# use numpy to assign values to the 'COLOR' column\n",
    "df['COLOR'] = np.where(df['RANK'] <= 1, 'orange', 'blue')"
   ]
  },
  {
   "cell_type": "markdown",
   "metadata": {},
   "source": [
    "## HTML Popup Formatter"
   ]
  },
  {
   "cell_type": "code",
   "execution_count": 15,
   "metadata": {},
   "outputs": [
    {
     "data": {
      "text/plain": [
       "Index(['building_address_city', 'Close Date', 'days_on_market', 'Sale Price',\n",
       "       'Sq. Ft.', 'price_per_sqft', 'Agent', 'Listing Broker', 'Buyer Agent',\n",
       "       'Buyer Broker', 'geo_address_x', 'geo_address_y', 'building_name',\n",
       "       'address', 'geocoded', 'lat', 'lon', 'int_Sale_Price', 'RANK', 'COLOR'],\n",
       "      dtype='object')"
      ]
     },
     "execution_count": 15,
     "metadata": {},
     "output_type": "execute_result"
    }
   ],
   "source": [
    "df.columns"
   ]
  },
  {
   "cell_type": "code",
   "execution_count": 16,
   "metadata": {},
   "outputs": [],
   "source": [
    "def popup_html(row):\n",
    "    building_name = row['building_name']\n",
    "    price = row['Sale Price']\n",
    "    days_on_market = row['days_on_market']\n",
    "    listing_agent = row['Agent']\n",
    "    buyers_agent = row['Buyer Agent']\n",
    "    psf = row['price_per_sqft']\n",
    "    address = row['address']\n",
    "    \n",
    "    html = '''<!DOCTYPE html>\n",
    "    <html>\n",
    "    <strong>Building Name: </strong>{}'''.format(building_name) + '''<br>\n",
    "    <strong>Sale Price: </strong>{}'''.format(price) + '''<br>\n",
    "    <strong>Days on Market: </strong>{}'''.format(days_on_market) + '''<br>\n",
    "    <strong>Listing Agent: </strong>{}'''.format(listing_agent) + '''<br>\n",
    "    <strong>Buyer's Agent: </strong>{}'''.format(buyers_agent) + '''<br>\n",
    "    <strong>Price sq ft: </strong>${}'''.format(psf) + '''<br>\n",
    "    <strong>Address: </strong>{}'''.format(address) + '''<br>\n",
    "    </html>\n",
    "    '''\n",
    "    return html"
   ]
  },
  {
   "cell_type": "code",
   "execution_count": 23,
   "metadata": {},
   "outputs": [
    {
     "data": {
      "text/html": [
       "<div style=\"width:100%;\"><div style=\"position:relative;width:100%;height:0;padding-bottom:60%;\"><span style=\"color:#565656\">Make this Notebook Trusted to load map: File -> Trust Notebook</span><iframe srcdoc=\"&lt;!DOCTYPE html&gt;\n",
       "&lt;head&gt;    \n",
       "    &lt;meta http-equiv=&quot;content-type&quot; content=&quot;text/html; charset=UTF-8&quot; /&gt;\n",
       "    \n",
       "        &lt;script&gt;\n",
       "            L_NO_TOUCH = false;\n",
       "            L_DISABLE_3D = false;\n",
       "        &lt;/script&gt;\n",
       "    \n",
       "    &lt;style&gt;html, body {width: 100%;height: 100%;margin: 0;padding: 0;}&lt;/style&gt;\n",
       "    &lt;style&gt;#map {position:absolute;top:0;bottom:0;right:0;left:0;}&lt;/style&gt;\n",
       "    &lt;script src=&quot;https://cdn.jsdelivr.net/npm/leaflet@1.6.0/dist/leaflet.js&quot;&gt;&lt;/script&gt;\n",
       "    &lt;script src=&quot;https://code.jquery.com/jquery-1.12.4.min.js&quot;&gt;&lt;/script&gt;\n",
       "    &lt;script src=&quot;https://maxcdn.bootstrapcdn.com/bootstrap/3.2.0/js/bootstrap.min.js&quot;&gt;&lt;/script&gt;\n",
       "    &lt;script src=&quot;https://cdnjs.cloudflare.com/ajax/libs/Leaflet.awesome-markers/2.0.2/leaflet.awesome-markers.js&quot;&gt;&lt;/script&gt;\n",
       "    &lt;link rel=&quot;stylesheet&quot; href=&quot;https://cdn.jsdelivr.net/npm/leaflet@1.6.0/dist/leaflet.css&quot;/&gt;\n",
       "    &lt;link rel=&quot;stylesheet&quot; href=&quot;https://maxcdn.bootstrapcdn.com/bootstrap/3.2.0/css/bootstrap.min.css&quot;/&gt;\n",
       "    &lt;link rel=&quot;stylesheet&quot; href=&quot;https://maxcdn.bootstrapcdn.com/bootstrap/3.2.0/css/bootstrap-theme.min.css&quot;/&gt;\n",
       "    &lt;link rel=&quot;stylesheet&quot; href=&quot;https://maxcdn.bootstrapcdn.com/font-awesome/4.6.3/css/font-awesome.min.css&quot;/&gt;\n",
       "    &lt;link rel=&quot;stylesheet&quot; href=&quot;https://cdnjs.cloudflare.com/ajax/libs/Leaflet.awesome-markers/2.0.2/leaflet.awesome-markers.css&quot;/&gt;\n",
       "    &lt;link rel=&quot;stylesheet&quot; href=&quot;https://cdn.jsdelivr.net/gh/python-visualization/folium/folium/templates/leaflet.awesome.rotate.min.css&quot;/&gt;\n",
       "    \n",
       "            &lt;meta name=&quot;viewport&quot; content=&quot;width=device-width,\n",
       "                initial-scale=1.0, maximum-scale=1.0, user-scalable=no&quot; /&gt;\n",
       "            &lt;style&gt;\n",
       "                #map_1b0d98f896a8bbfa42b751aecbc4adf1 {\n",
       "                    position: relative;\n",
       "                    width: 100.0%;\n",
       "                    height: 100.0%;\n",
       "                    left: 0.0%;\n",
       "                    top: 0.0%;\n",
       "                }\n",
       "            &lt;/style&gt;\n",
       "        \n",
       "&lt;/head&gt;\n",
       "&lt;body&gt;    \n",
       "    \n",
       "              &lt;h3 align=&quot;center&quot; style=&quot;font-size:16px&quot;&gt;&lt;b&gt;Recent Miami-Dade Condo Sales &lt;/b&gt;&lt;/h3&gt;\n",
       "             \n",
       "    \n",
       "                &lt;p align=&quot;center&quot; style=&quot;vertical-align: bottom; font-size:13px&quot;&gt;&lt;i&gt;July 23rd - July 29th&lt;/i&gt;&lt;/p&gt;\n",
       "                \n",
       "    \n",
       "            &lt;div class=&quot;folium-map&quot; id=&quot;map_1b0d98f896a8bbfa42b751aecbc4adf1&quot; &gt;&lt;/div&gt;\n",
       "        \n",
       "&lt;/body&gt;\n",
       "&lt;script&gt;    \n",
       "    \n",
       "            var map_1b0d98f896a8bbfa42b751aecbc4adf1 = L.map(\n",
       "                &quot;map_1b0d98f896a8bbfa42b751aecbc4adf1&quot;,\n",
       "                {\n",
       "                    center: [25.786852349999997, -80.18408524],\n",
       "                    crs: L.CRS.EPSG3857,\n",
       "                    zoom: 9.5,\n",
       "                    zoomControl: true,\n",
       "                    preferCanvas: false,\n",
       "                }\n",
       "            );\n",
       "\n",
       "            \n",
       "\n",
       "        \n",
       "    \n",
       "            var feature_group_98383861cb5c348e35afc5ea07c5b741 = L.featureGroup(\n",
       "                {}\n",
       "            ).addTo(map_1b0d98f896a8bbfa42b751aecbc4adf1);\n",
       "        \n",
       "    \n",
       "            var marker_76bab772f15b5cf280d25caeb410c1ad = L.marker(\n",
       "                [25.8830205, -80.1216893],\n",
       "                {&quot;fill&quot;: true, &quot;radius&quot;: 5}\n",
       "            ).addTo(feature_group_98383861cb5c348e35afc5ea07c5b741);\n",
       "        \n",
       "    \n",
       "            var icon_e93ff9f11911bc04217f44731dbf14db = L.AwesomeMarkers.icon(\n",
       "                {&quot;extraClasses&quot;: &quot;fa-rotate-0&quot;, &quot;icon&quot;: &quot;info-sign&quot;, &quot;iconColor&quot;: &quot;white&quot;, &quot;markerColor&quot;: &quot;orange&quot;, &quot;prefix&quot;: &quot;glyphicon&quot;}\n",
       "            );\n",
       "            marker_76bab772f15b5cf280d25caeb410c1ad.setIcon(icon_e93ff9f11911bc04217f44731dbf14db);\n",
       "        \n",
       "    \n",
       "        var popup_fed2297c497ae5c663b8731fb7b16e73 = L.popup({&quot;maxWidth&quot;: 400});\n",
       "\n",
       "        \n",
       "            \n",
       "                var html_c8e73f98423314b2fbe6f29af5218d54 = $(`&lt;div id=&quot;html_c8e73f98423314b2fbe6f29af5218d54&quot; style=&quot;width: 100.0%; height: 100.0%;&quot;&gt;&lt;!DOCTYPE html&gt;     &lt;html&gt;     &lt;strong&gt;Building Name: &lt;/strong&gt;Chateau Ocean&lt;br&gt;     &lt;strong&gt;Sale Price: &lt;/strong&gt;$10,200,000.00&lt;br&gt;     &lt;strong&gt;Days on Market: &lt;/strong&gt;1&lt;br&gt;     &lt;strong&gt;Listing Agent: &lt;/strong&gt;Mariana Niro&lt;br&gt;     &lt;strong&gt;Buyer&#x27;s Agent: &lt;/strong&gt;Daniel Tzinker&lt;br&gt;     &lt;strong&gt;Price sq ft: &lt;/strong&gt;$3056.64&lt;br&gt;     &lt;strong&gt;Address: &lt;/strong&gt;9349 Collins Ave 705&lt;br&gt;     &lt;/html&gt;     &lt;/div&gt;`)[0];\n",
       "                popup_fed2297c497ae5c663b8731fb7b16e73.setContent(html_c8e73f98423314b2fbe6f29af5218d54);\n",
       "            \n",
       "        \n",
       "\n",
       "        marker_76bab772f15b5cf280d25caeb410c1ad.bindPopup(popup_fed2297c497ae5c663b8731fb7b16e73)\n",
       "        ;\n",
       "\n",
       "        \n",
       "    \n",
       "    \n",
       "            var feature_group_4c1e28df3e588b6587a8d4e630f0f5d9 = L.featureGroup(\n",
       "                {}\n",
       "            ).addTo(map_1b0d98f896a8bbfa42b751aecbc4adf1);\n",
       "        \n",
       "    \n",
       "            var marker_22f6ff418a880bf6219f68a667714a48 = L.marker(\n",
       "                [25.7285637, -80.23781679999999],\n",
       "                {&quot;fill&quot;: true, &quot;radius&quot;: 5}\n",
       "            ).addTo(feature_group_4c1e28df3e588b6587a8d4e630f0f5d9);\n",
       "        \n",
       "    \n",
       "            var icon_1ab196dfb0a7802c20df31cd40344f65 = L.AwesomeMarkers.icon(\n",
       "                {&quot;extraClasses&quot;: &quot;fa-rotate-0&quot;, &quot;icon&quot;: &quot;info-sign&quot;, &quot;iconColor&quot;: &quot;white&quot;, &quot;markerColor&quot;: &quot;blue&quot;, &quot;prefix&quot;: &quot;glyphicon&quot;}\n",
       "            );\n",
       "            marker_22f6ff418a880bf6219f68a667714a48.setIcon(icon_1ab196dfb0a7802c20df31cd40344f65);\n",
       "        \n",
       "    \n",
       "        var popup_3d9c749b9040da6d1ec1efa0e371df74 = L.popup({&quot;maxWidth&quot;: 400});\n",
       "\n",
       "        \n",
       "            \n",
       "                var html_fc14d8c6876fe32e47431d91fdefeee1 = $(`&lt;div id=&quot;html_fc14d8c6876fe32e47431d91fdefeee1&quot; style=&quot;width: 100.0%; height: 100.0%;&quot;&gt;&lt;!DOCTYPE html&gt;     &lt;html&gt;     &lt;strong&gt;Building Name: &lt;/strong&gt;Park Grove&lt;br&gt;     &lt;strong&gt;Sale Price: &lt;/strong&gt;$4,850,000.00&lt;br&gt;     &lt;strong&gt;Days on Market: &lt;/strong&gt;38&lt;br&gt;     &lt;strong&gt;Listing Agent: &lt;/strong&gt;Andres Vidal PA&lt;br&gt;     &lt;strong&gt;Buyer&#x27;s Agent: &lt;/strong&gt;Andres Vidal PA&lt;br&gt;     &lt;strong&gt;Price sq ft: &lt;/strong&gt;$1907.2&lt;br&gt;     &lt;strong&gt;Address: &lt;/strong&gt;2811 S Bayshore Dr 8B&lt;br&gt;     &lt;/html&gt;     &lt;/div&gt;`)[0];\n",
       "                popup_3d9c749b9040da6d1ec1efa0e371df74.setContent(html_fc14d8c6876fe32e47431d91fdefeee1);\n",
       "            \n",
       "        \n",
       "\n",
       "        marker_22f6ff418a880bf6219f68a667714a48.bindPopup(popup_3d9c749b9040da6d1ec1efa0e371df74)\n",
       "        ;\n",
       "\n",
       "        \n",
       "    \n",
       "    \n",
       "            var marker_9e0cca411b217b181d3256d9a1ef8362 = L.marker(\n",
       "                [25.7306755, -80.2371172],\n",
       "                {&quot;fill&quot;: true, &quot;radius&quot;: 5}\n",
       "            ).addTo(feature_group_4c1e28df3e588b6587a8d4e630f0f5d9);\n",
       "        \n",
       "    \n",
       "            var icon_c0cb191d9ba2a251aa3e73dcc9603547 = L.AwesomeMarkers.icon(\n",
       "                {&quot;extraClasses&quot;: &quot;fa-rotate-0&quot;, &quot;icon&quot;: &quot;info-sign&quot;, &quot;iconColor&quot;: &quot;white&quot;, &quot;markerColor&quot;: &quot;blue&quot;, &quot;prefix&quot;: &quot;glyphicon&quot;}\n",
       "            );\n",
       "            marker_9e0cca411b217b181d3256d9a1ef8362.setIcon(icon_c0cb191d9ba2a251aa3e73dcc9603547);\n",
       "        \n",
       "    \n",
       "        var popup_4fbdb72c3faa6a9fb455538e609fa049 = L.popup({&quot;maxWidth&quot;: 400});\n",
       "\n",
       "        \n",
       "            \n",
       "                var html_f03b9ef7c2618d4742133955671e957e = $(`&lt;div id=&quot;html_f03b9ef7c2618d4742133955671e957e&quot; style=&quot;width: 100.0%; height: 100.0%;&quot;&gt;&lt;!DOCTYPE html&gt;     &lt;html&gt;     &lt;strong&gt;Building Name: &lt;/strong&gt;Grove at Grand Bay&lt;br&gt;     &lt;strong&gt;Sale Price: &lt;/strong&gt;$3,250,000.00&lt;br&gt;     &lt;strong&gt;Days on Market: &lt;/strong&gt;17&lt;br&gt;     &lt;strong&gt;Listing Agent: &lt;/strong&gt;Berenice Elguezabal&lt;br&gt;     &lt;strong&gt;Buyer&#x27;s Agent: &lt;/strong&gt;Isabel Dohse&lt;br&gt;     &lt;strong&gt;Price sq ft: &lt;/strong&gt;$1843.45&lt;br&gt;     &lt;strong&gt;Address: &lt;/strong&gt;2669 S Bayshore Dr 1202N&lt;br&gt;     &lt;/html&gt;     &lt;/div&gt;`)[0];\n",
       "                popup_4fbdb72c3faa6a9fb455538e609fa049.setContent(html_f03b9ef7c2618d4742133955671e957e);\n",
       "            \n",
       "        \n",
       "\n",
       "        marker_9e0cca411b217b181d3256d9a1ef8362.bindPopup(popup_4fbdb72c3faa6a9fb455538e609fa049)\n",
       "        ;\n",
       "\n",
       "        \n",
       "    \n",
       "    \n",
       "            var marker_e57daa691e168aea0e3ef826dbc5e49f = L.marker(\n",
       "                [25.7966829, -80.1876694],\n",
       "                {&quot;fill&quot;: true, &quot;radius&quot;: 5}\n",
       "            ).addTo(feature_group_4c1e28df3e588b6587a8d4e630f0f5d9);\n",
       "        \n",
       "    \n",
       "            var icon_a4f8d843bccef1ad7749e2e2259f7a60 = L.AwesomeMarkers.icon(\n",
       "                {&quot;extraClasses&quot;: &quot;fa-rotate-0&quot;, &quot;icon&quot;: &quot;info-sign&quot;, &quot;iconColor&quot;: &quot;white&quot;, &quot;markerColor&quot;: &quot;blue&quot;, &quot;prefix&quot;: &quot;glyphicon&quot;}\n",
       "            );\n",
       "            marker_e57daa691e168aea0e3ef826dbc5e49f.setIcon(icon_a4f8d843bccef1ad7749e2e2259f7a60);\n",
       "        \n",
       "    \n",
       "        var popup_2725b57ac9f7b6255ff2a3b1e9c0bfdc = L.popup({&quot;maxWidth&quot;: 400});\n",
       "\n",
       "        \n",
       "            \n",
       "                var html_0777bbccff81228e47fc800149ca63e4 = $(`&lt;div id=&quot;html_0777bbccff81228e47fc800149ca63e4&quot; style=&quot;width: 100.0%; height: 100.0%;&quot;&gt;&lt;!DOCTYPE html&gt;     &lt;html&gt;     &lt;strong&gt;Building Name: &lt;/strong&gt;Paramount Bay&lt;br&gt;     &lt;strong&gt;Sale Price: &lt;/strong&gt;$2,150,000.00&lt;br&gt;     &lt;strong&gt;Days on Market: &lt;/strong&gt;133&lt;br&gt;     &lt;strong&gt;Listing Agent: &lt;/strong&gt;M Cristina Fontoura&lt;br&gt;     &lt;strong&gt;Buyer&#x27;s Agent: &lt;/strong&gt;Ashlee Harry&lt;br&gt;     &lt;strong&gt;Price sq ft: &lt;/strong&gt;$976.83&lt;br&gt;     &lt;strong&gt;Address: &lt;/strong&gt;2020 N Bayshore Dr 3902 Miami&lt;br&gt;     &lt;/html&gt;     &lt;/div&gt;`)[0];\n",
       "                popup_2725b57ac9f7b6255ff2a3b1e9c0bfdc.setContent(html_0777bbccff81228e47fc800149ca63e4);\n",
       "            \n",
       "        \n",
       "\n",
       "        marker_e57daa691e168aea0e3ef826dbc5e49f.bindPopup(popup_2725b57ac9f7b6255ff2a3b1e9c0bfdc)\n",
       "        ;\n",
       "\n",
       "        \n",
       "    \n",
       "    \n",
       "            var marker_f87ec6258ce80434522982f4bf70f551 = L.marker(\n",
       "                [25.8071448, -80.1856208],\n",
       "                {&quot;fill&quot;: true, &quot;radius&quot;: 5}\n",
       "            ).addTo(feature_group_4c1e28df3e588b6587a8d4e630f0f5d9);\n",
       "        \n",
       "    \n",
       "            var icon_491d5df2ba5659040d80e8d33d75c28b = L.AwesomeMarkers.icon(\n",
       "                {&quot;extraClasses&quot;: &quot;fa-rotate-0&quot;, &quot;icon&quot;: &quot;info-sign&quot;, &quot;iconColor&quot;: &quot;white&quot;, &quot;markerColor&quot;: &quot;blue&quot;, &quot;prefix&quot;: &quot;glyphicon&quot;}\n",
       "            );\n",
       "            marker_f87ec6258ce80434522982f4bf70f551.setIcon(icon_491d5df2ba5659040d80e8d33d75c28b);\n",
       "        \n",
       "    \n",
       "        var popup_70008cf7548978f2642e0bb92cac9263 = L.popup({&quot;maxWidth&quot;: 400});\n",
       "\n",
       "        \n",
       "            \n",
       "                var html_f37a112897b51c5e151124624f6bea50 = $(`&lt;div id=&quot;html_f37a112897b51c5e151124624f6bea50&quot; style=&quot;width: 100.0%; height: 100.0%;&quot;&gt;&lt;!DOCTYPE html&gt;     &lt;html&gt;     &lt;strong&gt;Building Name: &lt;/strong&gt;One Paraiso&lt;br&gt;     &lt;strong&gt;Sale Price: &lt;/strong&gt;$1,750,000.00&lt;br&gt;     &lt;strong&gt;Days on Market: &lt;/strong&gt;14&lt;br&gt;     &lt;strong&gt;Listing Agent: &lt;/strong&gt;Jose Del Corral&lt;br&gt;     &lt;strong&gt;Buyer&#x27;s Agent: &lt;/strong&gt;Pattaraporn Karnjanasiriwan&lt;br&gt;     &lt;strong&gt;Price sq ft: &lt;/strong&gt;$1070.99&lt;br&gt;     &lt;strong&gt;Address: &lt;/strong&gt;3131 NE 7th Ave 1501&lt;br&gt;     &lt;/html&gt;     &lt;/div&gt;`)[0];\n",
       "                popup_70008cf7548978f2642e0bb92cac9263.setContent(html_f37a112897b51c5e151124624f6bea50);\n",
       "            \n",
       "        \n",
       "\n",
       "        marker_f87ec6258ce80434522982f4bf70f551.bindPopup(popup_70008cf7548978f2642e0bb92cac9263)\n",
       "        ;\n",
       "\n",
       "        \n",
       "    \n",
       "    \n",
       "            var marker_3f38ce36bc3c2f37018b7d5295dacbf5 = L.marker(\n",
       "                [25.6857044, -80.15754919999999],\n",
       "                {&quot;fill&quot;: true, &quot;radius&quot;: 5}\n",
       "            ).addTo(feature_group_4c1e28df3e588b6587a8d4e630f0f5d9);\n",
       "        \n",
       "    \n",
       "            var icon_ce656d934effbf0c9b9ef5cf41ac324b = L.AwesomeMarkers.icon(\n",
       "                {&quot;extraClasses&quot;: &quot;fa-rotate-0&quot;, &quot;icon&quot;: &quot;info-sign&quot;, &quot;iconColor&quot;: &quot;white&quot;, &quot;markerColor&quot;: &quot;blue&quot;, &quot;prefix&quot;: &quot;glyphicon&quot;}\n",
       "            );\n",
       "            marker_3f38ce36bc3c2f37018b7d5295dacbf5.setIcon(icon_ce656d934effbf0c9b9ef5cf41ac324b);\n",
       "        \n",
       "    \n",
       "        var popup_6d2f7f0babdf90c1d345c67e19556477 = L.popup({&quot;maxWidth&quot;: 400});\n",
       "\n",
       "        \n",
       "            \n",
       "                var html_6deecb5d6531c87030b42ee05151a7ce = $(`&lt;div id=&quot;html_6deecb5d6531c87030b42ee05151a7ce&quot; style=&quot;width: 100.0%; height: 100.0%;&quot;&gt;&lt;!DOCTYPE html&gt;     &lt;html&gt;     &lt;strong&gt;Building Name: &lt;/strong&gt;Casa Del Mar&lt;br&gt;     &lt;strong&gt;Sale Price: &lt;/strong&gt;$1,625,000.00&lt;br&gt;     &lt;strong&gt;Days on Market: &lt;/strong&gt;165&lt;br&gt;     &lt;strong&gt;Listing Agent: &lt;/strong&gt;Dulce Garcia&lt;br&gt;     &lt;strong&gt;Buyer&#x27;s Agent: &lt;/strong&gt;German Botero&lt;br&gt;     &lt;strong&gt;Price sq ft: &lt;/strong&gt;$866.67&lt;br&gt;     &lt;strong&gt;Address: &lt;/strong&gt;881 Ocean Dr 10D Key&lt;br&gt;     &lt;/html&gt;     &lt;/div&gt;`)[0];\n",
       "                popup_6d2f7f0babdf90c1d345c67e19556477.setContent(html_6deecb5d6531c87030b42ee05151a7ce);\n",
       "            \n",
       "        \n",
       "\n",
       "        marker_3f38ce36bc3c2f37018b7d5295dacbf5.bindPopup(popup_6d2f7f0babdf90c1d345c67e19556477)\n",
       "        ;\n",
       "\n",
       "        \n",
       "    \n",
       "    \n",
       "            var marker_4e587445abdaf58927e8c88b686431eb = L.marker(\n",
       "                [25.7351295, -80.21874609999999],\n",
       "                {&quot;fill&quot;: true, &quot;radius&quot;: 5}\n",
       "            ).addTo(feature_group_4c1e28df3e588b6587a8d4e630f0f5d9);\n",
       "        \n",
       "    \n",
       "            var icon_f5b641ba0bbbefe1a5a1f5ad80f95a59 = L.AwesomeMarkers.icon(\n",
       "                {&quot;extraClasses&quot;: &quot;fa-rotate-0&quot;, &quot;icon&quot;: &quot;info-sign&quot;, &quot;iconColor&quot;: &quot;white&quot;, &quot;markerColor&quot;: &quot;blue&quot;, &quot;prefix&quot;: &quot;glyphicon&quot;}\n",
       "            );\n",
       "            marker_4e587445abdaf58927e8c88b686431eb.setIcon(icon_f5b641ba0bbbefe1a5a1f5ad80f95a59);\n",
       "        \n",
       "    \n",
       "        var popup_0b8a45fe8e7193494da8937d1a4695b9 = L.popup({&quot;maxWidth&quot;: 400});\n",
       "\n",
       "        \n",
       "            \n",
       "                var html_ca91b81bd5cafd880902c5182fbbd02d = $(`&lt;div id=&quot;html_ca91b81bd5cafd880902c5182fbbd02d&quot; style=&quot;width: 100.0%; height: 100.0%;&quot;&gt;&lt;!DOCTYPE html&gt;     &lt;html&gt;     &lt;strong&gt;Building Name: &lt;/strong&gt;Grove Isle Condo&lt;br&gt;     &lt;strong&gt;Sale Price: &lt;/strong&gt;$1,475,000.00&lt;br&gt;     &lt;strong&gt;Days on Market: &lt;/strong&gt;75&lt;br&gt;     &lt;strong&gt;Listing Agent: &lt;/strong&gt;David Sporn&lt;br&gt;     &lt;strong&gt;Buyer&#x27;s Agent: &lt;/strong&gt;Jill Penman&lt;br&gt;     &lt;strong&gt;Price sq ft: &lt;/strong&gt;$898.29&lt;br&gt;     &lt;strong&gt;Address: &lt;/strong&gt;1 Grove Isle Dr A908&lt;br&gt;     &lt;/html&gt;     &lt;/div&gt;`)[0];\n",
       "                popup_0b8a45fe8e7193494da8937d1a4695b9.setContent(html_ca91b81bd5cafd880902c5182fbbd02d);\n",
       "            \n",
       "        \n",
       "\n",
       "        marker_4e587445abdaf58927e8c88b686431eb.bindPopup(popup_0b8a45fe8e7193494da8937d1a4695b9)\n",
       "        ;\n",
       "\n",
       "        \n",
       "    \n",
       "    \n",
       "            var marker_1cf19a4def08fba8d1cf93cca2c46dac = L.marker(\n",
       "                [25.7692906, -80.1849189],\n",
       "                {&quot;fill&quot;: true, &quot;radius&quot;: 5}\n",
       "            ).addTo(feature_group_4c1e28df3e588b6587a8d4e630f0f5d9);\n",
       "        \n",
       "    \n",
       "            var icon_2d69484f053994a60177033cb60bf2fa = L.AwesomeMarkers.icon(\n",
       "                {&quot;extraClasses&quot;: &quot;fa-rotate-0&quot;, &quot;icon&quot;: &quot;info-sign&quot;, &quot;iconColor&quot;: &quot;white&quot;, &quot;markerColor&quot;: &quot;blue&quot;, &quot;prefix&quot;: &quot;glyphicon&quot;}\n",
       "            );\n",
       "            marker_1cf19a4def08fba8d1cf93cca2c46dac.setIcon(icon_2d69484f053994a60177033cb60bf2fa);\n",
       "        \n",
       "    \n",
       "        var popup_aaacb2bb8a3924b8a2e0aa2236656168 = L.popup({&quot;maxWidth&quot;: 400});\n",
       "\n",
       "        \n",
       "            \n",
       "                var html_2f2aeb168254cff80953bef06628e2d2 = $(`&lt;div id=&quot;html_2f2aeb168254cff80953bef06628e2d2&quot; style=&quot;width: 100.0%; height: 100.0%;&quot;&gt;&lt;!DOCTYPE html&gt;     &lt;html&gt;     &lt;strong&gt;Building Name: &lt;/strong&gt;One Tequesta Point&lt;br&gt;     &lt;strong&gt;Sale Price: &lt;/strong&gt;$1,375,000.00&lt;br&gt;     &lt;strong&gt;Days on Market: &lt;/strong&gt;40&lt;br&gt;     &lt;strong&gt;Listing Agent: &lt;/strong&gt;Maria &quot;Millie&quot; Rodriguez&lt;br&gt;     &lt;strong&gt;Buyer&#x27;s Agent: &lt;/strong&gt;Santiago Ortega&lt;br&gt;     &lt;strong&gt;Price sq ft: &lt;/strong&gt;$670.73&lt;br&gt;     &lt;strong&gt;Address: &lt;/strong&gt;888 Brickell Key Dr 1103&lt;br&gt;     &lt;/html&gt;     &lt;/div&gt;`)[0];\n",
       "                popup_aaacb2bb8a3924b8a2e0aa2236656168.setContent(html_2f2aeb168254cff80953bef06628e2d2);\n",
       "            \n",
       "        \n",
       "\n",
       "        marker_1cf19a4def08fba8d1cf93cca2c46dac.bindPopup(popup_aaacb2bb8a3924b8a2e0aa2236656168)\n",
       "        ;\n",
       "\n",
       "        \n",
       "    \n",
       "    \n",
       "            var marker_92b218fa89d947ab4211be8026d06a6e = L.marker(\n",
       "                [25.9652576, -80.1248626],\n",
       "                {&quot;fill&quot;: true, &quot;radius&quot;: 5}\n",
       "            ).addTo(feature_group_4c1e28df3e588b6587a8d4e630f0f5d9);\n",
       "        \n",
       "    \n",
       "            var icon_bde67a635e671a10309bef311a97b162 = L.AwesomeMarkers.icon(\n",
       "                {&quot;extraClasses&quot;: &quot;fa-rotate-0&quot;, &quot;icon&quot;: &quot;info-sign&quot;, &quot;iconColor&quot;: &quot;white&quot;, &quot;markerColor&quot;: &quot;blue&quot;, &quot;prefix&quot;: &quot;glyphicon&quot;}\n",
       "            );\n",
       "            marker_92b218fa89d947ab4211be8026d06a6e.setIcon(icon_bde67a635e671a10309bef311a97b162);\n",
       "        \n",
       "    \n",
       "        var popup_749687b22328cacb83e87df27ea23413 = L.popup({&quot;maxWidth&quot;: 400});\n",
       "\n",
       "        \n",
       "            \n",
       "                var html_bdf9c7802f8ec435d54b7acce305a225 = $(`&lt;div id=&quot;html_bdf9c7802f8ec435d54b7acce305a225&quot; style=&quot;width: 100.0%; height: 100.0%;&quot;&gt;&lt;!DOCTYPE html&gt;     &lt;html&gt;     &lt;strong&gt;Building Name: &lt;/strong&gt;Hamptons South Condo&lt;br&gt;     &lt;strong&gt;Sale Price: &lt;/strong&gt;$1,350,000.00&lt;br&gt;     &lt;strong&gt;Days on Market: &lt;/strong&gt;52&lt;br&gt;     &lt;strong&gt;Listing Agent: &lt;/strong&gt;Jonathan Eisenband&lt;br&gt;     &lt;strong&gt;Buyer&#x27;s Agent: &lt;/strong&gt;Jonathan Eisenband&lt;br&gt;     &lt;strong&gt;Price sq ft: &lt;/strong&gt;$413.86&lt;br&gt;     &lt;strong&gt;Address: &lt;/strong&gt;20201 E Country Club Dr 602&lt;br&gt;     &lt;/html&gt;     &lt;/div&gt;`)[0];\n",
       "                popup_749687b22328cacb83e87df27ea23413.setContent(html_bdf9c7802f8ec435d54b7acce305a225);\n",
       "            \n",
       "        \n",
       "\n",
       "        marker_92b218fa89d947ab4211be8026d06a6e.bindPopup(popup_749687b22328cacb83e87df27ea23413)\n",
       "        ;\n",
       "\n",
       "        \n",
       "    \n",
       "    \n",
       "            var marker_885813fb784365375b839f46ec375307 = L.marker(\n",
       "                [25.767054, -80.18486209999999],\n",
       "                {&quot;fill&quot;: true, &quot;radius&quot;: 5}\n",
       "            ).addTo(feature_group_4c1e28df3e588b6587a8d4e630f0f5d9);\n",
       "        \n",
       "    \n",
       "            var icon_a9a3b9b17e9e3b5b5d6c11eb77e1d6e2 = L.AwesomeMarkers.icon(\n",
       "                {&quot;extraClasses&quot;: &quot;fa-rotate-0&quot;, &quot;icon&quot;: &quot;info-sign&quot;, &quot;iconColor&quot;: &quot;white&quot;, &quot;markerColor&quot;: &quot;blue&quot;, &quot;prefix&quot;: &quot;glyphicon&quot;}\n",
       "            );\n",
       "            marker_885813fb784365375b839f46ec375307.setIcon(icon_a9a3b9b17e9e3b5b5d6c11eb77e1d6e2);\n",
       "        \n",
       "    \n",
       "        var popup_644b31ae5155067ef06e586ce24e995e = L.popup({&quot;maxWidth&quot;: 400});\n",
       "\n",
       "        \n",
       "            \n",
       "                var html_335993e7986ad940a74d84fe553fd0bf = $(`&lt;div id=&quot;html_335993e7986ad940a74d84fe553fd0bf&quot; style=&quot;width: 100.0%; height: 100.0%;&quot;&gt;&lt;!DOCTYPE html&gt;     &lt;html&gt;     &lt;strong&gt;Building Name: &lt;/strong&gt;Brickell Key One&lt;br&gt;     &lt;strong&gt;Sale Price: &lt;/strong&gt;$1,350,000.00&lt;br&gt;     &lt;strong&gt;Days on Market: &lt;/strong&gt;37&lt;br&gt;     &lt;strong&gt;Listing Agent: &lt;/strong&gt;Gina Gonzalez&lt;br&gt;     &lt;strong&gt;Buyer&#x27;s Agent: &lt;/strong&gt;Adriana Motta&lt;br&gt;     &lt;strong&gt;Price sq ft: &lt;/strong&gt;$497.79&lt;br&gt;     &lt;strong&gt;Address: &lt;/strong&gt;520 Brickell Key Dr APH10&lt;br&gt;     &lt;/html&gt;     &lt;/div&gt;`)[0];\n",
       "                popup_644b31ae5155067ef06e586ce24e995e.setContent(html_335993e7986ad940a74d84fe553fd0bf);\n",
       "            \n",
       "        \n",
       "\n",
       "        marker_885813fb784365375b839f46ec375307.bindPopup(popup_644b31ae5155067ef06e586ce24e995e)\n",
       "        ;\n",
       "\n",
       "        \n",
       "    \n",
       "    \n",
       "            var tile_layer_ea0dd33af1b47d6fb99dc453eadb3c01 = L.tileLayer(\n",
       "                &quot;https://{s}.tile.openstreetmap.org/{z}/{x}/{y}.png&quot;,\n",
       "                {&quot;attribution&quot;: &quot;Data by \\u0026copy; \\u003ca href=\\&quot;http://openstreetmap.org\\&quot;\\u003eOpenStreetMap\\u003c/a\\u003e, under \\u003ca href=\\&quot;http://www.openstreetmap.org/copyright\\&quot;\\u003eODbL\\u003c/a\\u003e.&quot;, &quot;detectRetina&quot;: false, &quot;maxNativeZoom&quot;: 18, &quot;maxZoom&quot;: 18, &quot;minZoom&quot;: 0, &quot;noWrap&quot;: false, &quot;opacity&quot;: 1, &quot;subdomains&quot;: &quot;abc&quot;, &quot;tms&quot;: false}\n",
       "            ).addTo(map_1b0d98f896a8bbfa42b751aecbc4adf1);\n",
       "        \n",
       "    \n",
       "            var layer_control_6b4254be7a6486d3f24a45558a02e2bb = {\n",
       "                base_layers : {\n",
       "                },\n",
       "                overlays :  {\n",
       "                    &quot;Top Sale&quot; : feature_group_98383861cb5c348e35afc5ea07c5b741,\n",
       "                    &quot;All other sales&quot; : feature_group_4c1e28df3e588b6587a8d4e630f0f5d9,\n",
       "                },\n",
       "            };\n",
       "            L.control.layers(\n",
       "                layer_control_6b4254be7a6486d3f24a45558a02e2bb.base_layers,\n",
       "                layer_control_6b4254be7a6486d3f24a45558a02e2bb.overlays,\n",
       "                {&quot;autoZIndex&quot;: true, &quot;collapsed&quot;: false, &quot;position&quot;: &quot;topright&quot;}\n",
       "            ).addTo(map_1b0d98f896a8bbfa42b751aecbc4adf1);\n",
       "        \n",
       "&lt;/script&gt;\" style=\"position:absolute;width:100%;height:100%;left:0;top:0;border:none !important;\" allowfullscreen webkitallowfullscreen mozallowfullscreen></iframe></div></div>"
      ],
      "text/plain": [
       "<folium.folium.Map at 0x7fbc41c74b80>"
      ]
     },
     "execution_count": 23,
     "metadata": {},
     "output_type": "execute_result"
    }
   ],
   "source": [
    "import folium\n",
    "from folium.plugins import MarkerCluster\n",
    "\n",
    "m = folium.Map(location=df[[\"lat\", \"lon\"]].mean().to_list(), zoom_start=10)\n",
    "\n",
    "title_html = '''\n",
    "              <h3 align=\"center\" style=\"font-size:16px\"><b>{}</b></h3>\n",
    "             '''.format(f'Recent Miami-Dade Condo Sales ')\n",
    "\n",
    "caption_html = '''\n",
    "                <p align=\"center\" style=\"vertical-align: bottom; font-size:13px\"><i>{}</i></p>\n",
    "                '''.format('July 23rd - July 29th')\n",
    "\n",
    "\n",
    "### Create map container ###\n",
    "m = folium.Map(location=df[[\"lat\", \"lon\"]].mean().to_list(),zoom_start=9.5,tiles=None)\n",
    "\n",
    "# Create two FeatureGroups for different color pins\n",
    "fg_blue = folium.FeatureGroup(name='All other sales')\n",
    "fg_orange = folium.FeatureGroup(name='Top Sale')\n",
    "\n",
    "for index, row in df.iterrows():\n",
    "    # Add the markers to the appropriate FeatureGroup based on the color\n",
    "    if row['COLOR'] == 'blue':\n",
    "        marker = folium.Marker(\n",
    "            location=[row['lat'], row['lon']],\n",
    "            radius=5,\n",
    "            fill=True,\n",
    "            icon=folium.Icon(color=row['COLOR']),\n",
    "            popup=folium.Popup(popup_html(row), max_width=400))\n",
    "        marker.add_to(fg_blue)\n",
    "    else:\n",
    "        marker = folium.Marker(\n",
    "            location=[row['lat'], row['lon']],\n",
    "            radius=5,\n",
    "            fill=True,\n",
    "            icon=folium.Icon(color=row['COLOR']),\n",
    "            popup=folium.Popup(popup_html(row), max_width=400))\n",
    "        marker.add_to(fg_orange)\n",
    "\n",
    "# Add the FeatureGroups to the map\n",
    "fg_orange.add_to(m)\n",
    "fg_blue.add_to(m)\n",
    "\n",
    "folium.TileLayer('OpenStreetMap',control=False).add_to(m)\n",
    "\n",
    "# Add LayerControl to the map\n",
    "folium.map.LayerControl(collapsed=False).add_to(m)\n",
    "m.get_root().html.add_child(folium.Element(title_html))\n",
    "m.get_root().html.add_child(folium.Element(caption_html))\n",
    "            \n",
    "# Display map\n",
    "m"
   ]
  },
  {
   "cell_type": "code",
   "execution_count": 24,
   "metadata": {},
   "outputs": [],
   "source": [
    "m.save('index.html')"
   ]
  },
  {
   "cell_type": "markdown",
   "metadata": {},
   "source": [
    "## Data snagger"
   ]
  },
  {
   "cell_type": "code",
   "execution_count": 19,
   "metadata": {},
   "outputs": [],
   "source": [
    "### Set up formatting ###\n",
    "BR = '\\n'\n",
    "\n",
    "ME = '\\033[1m' + 'Most Expensive' + '\\033[0m'\n",
    "LE = '\\033[1m' + 'Least Expensive' + '\\033[0m'\n",
    "\n",
    "MAX_PSF = '\\033[1m' + 'Highest Price Per Square Foot' + '\\033[0m'\n",
    "MIN_PSF = '\\033[1m' + 'Lowest Price Per Square Foot' + '\\033[0m'\n",
    "\n",
    "DAYS_MAX = '\\033[1m' + 'Most Days on Market' + '\\033[0m'\n",
    "DAYS_MIN = '\\033[1m' + 'Fewest Days on Market' + '\\033[0m'"
   ]
  },
  {
   "cell_type": "code",
   "execution_count": 20,
   "metadata": {},
   "outputs": [
    {
     "name": "stdout",
     "output_type": "stream",
     "text": [
      "\u001b[1mMost Expensive\u001b[0m\n",
      "Chateau Ocean, 9349 Collins Ave 705 | Price $10,200,000 | $3,057 psf | Listing agent: Mariana Niro with Serhant | Buyer's agent: Daniel Tzinker with The Agency Florida LLC | Days on market: 1\n",
      "\u001b[1mLeast Expensive\u001b[0m\n",
      "Hamptons South Condo, 20201 E Country Club Dr 602 | Price $1,350,000 | $414 psf | Listing agent: Jonathan Eisenband with Onecore Realty, Inc. | Buyer's agent: Jonathan Eisenband with Onecore Realty, Inc. | Days on market: 52\n",
      "\u001b[1mHighest Price Per Square Foot\u001b[0m\n",
      "Chateau Ocean, 9349 Collins Ave 705 | Price $10,200,000 | $3,057 psf | Listing agent: Mariana Niro with Serhant | Buyer's agent: Daniel Tzinker with The Agency Florida LLC | Days on market: 1\n",
      "\u001b[1mLowest Price Per Square Foot\u001b[0m\n",
      "Hamptons South Condo, 20201 E Country Club Dr 602 | Price $1,350,000 | $414 psf | Listing agent: Jonathan Eisenband with Onecore Realty, Inc. | Buyer's agent: Jonathan Eisenband with Onecore Realty, Inc. | Days on market: 52\n",
      "\u001b[1mMost Days on Market\u001b[0m\n",
      "Casa Del Mar, 881 Ocean Dr 10D Key | Price $1,625,000 | $867 psf | Listing agent: Dulce Garcia with Gables Gate Enterprises Inc. | Buyer's agent: German Botero with Fortune Christie's Int'l Real Estate | Days on market: 165\n",
      "\u001b[1mFewest Days on Market\u001b[0m\n",
      "Chateau Ocean, 9349 Collins Ave 705 | Price $10,200,000 | $3,057 psf | Listing agent: Mariana Niro with Serhant | Buyer's agent: Daniel Tzinker with The Agency Florida LLC | Days on market: 1\n"
     ]
    }
   ],
   "source": [
    "### Highest and lowest sale price ###\n",
    "print(f\"{ME}{BR}{df.loc[df['int_Sale_Price'].idxmax()]['building_name']}, {df.loc[df['int_Sale_Price'].idxmax()]['address']} | Price ${df.loc[df['int_Sale_Price'].idxmax()]['int_Sale_Price']:,.0f} | ${df.loc[df['int_Sale_Price'].idxmax()]['price_per_sqft']:,.0f} psf | Listing agent: {df.loc[df['int_Sale_Price'].idxmax()]['Agent']} with {df.loc[df['int_Sale_Price'].idxmax()]['Listing Broker']} | Buyer's agent: {df.loc[df['int_Sale_Price'].idxmax()]['Buyer Agent']} with {df.loc[df['int_Sale_Price'].idxmax()]['Buyer Broker']} | Days on market: {df.loc[df['int_Sale_Price'].idxmax()]['days_on_market']}\")\n",
    "print(f\"{LE}{BR}{df.loc[df['int_Sale_Price'].idxmin()]['building_name']}, {df.loc[df['int_Sale_Price'].idxmin()]['address']} | Price ${df.loc[df['int_Sale_Price'].idxmin()]['int_Sale_Price']:,.0f} | ${df.loc[df['int_Sale_Price'].idxmin()]['price_per_sqft']:,.0f} psf | Listing agent: {df.loc[df['int_Sale_Price'].idxmin()]['Agent']} with {df.loc[df['int_Sale_Price'].idxmin()]['Listing Broker']} | Buyer's agent: {df.loc[df['int_Sale_Price'].idxmin()]['Buyer Agent']} with {df.loc[df['int_Sale_Price'].idxmin()]['Buyer Broker']} | Days on market: {df.loc[df['int_Sale_Price'].idxmin()]['days_on_market']}\")\n",
    "### Highest and lowest psf ###\n",
    "print(f\"{MAX_PSF}{BR}{df.loc[df['price_per_sqft'].idxmax()]['building_name']}, {df.loc[df['price_per_sqft'].idxmax()]['address']} | Price ${df.loc[df['price_per_sqft'].idxmax()]['int_Sale_Price']:,.0f} | ${df.loc[df['price_per_sqft'].idxmax()]['price_per_sqft']:,.0f} psf | Listing agent: {df.loc[df['price_per_sqft'].idxmax()]['Agent']} with {df.loc[df['price_per_sqft'].idxmax()]['Listing Broker']} | Buyer's agent: {df.loc[df['price_per_sqft'].idxmax()]['Buyer Agent']} with {df.loc[df['price_per_sqft'].idxmax()]['Buyer Broker']} | Days on market: {df.loc[df['price_per_sqft'].idxmax()]['days_on_market']}\")\n",
    "print(f\"{MIN_PSF}{BR}{df.loc[df['price_per_sqft'].idxmin()]['building_name']}, {df.loc[df['price_per_sqft'].idxmin()]['address']} | Price ${df.loc[df['price_per_sqft'].idxmin()]['int_Sale_Price']:,.0f} | ${df.loc[df['price_per_sqft'].idxmin()]['price_per_sqft']:,.0f} psf | Listing agent: {df.loc[df['price_per_sqft'].idxmin()]['Agent']} with {df.loc[df['price_per_sqft'].idxmin()]['Listing Broker']} | Buyer's agent: {df.loc[df['price_per_sqft'].idxmin()]['Buyer Agent']} with {df.loc[df['price_per_sqft'].idxmin()]['Buyer Broker']} | Days on market: {df.loc[df['price_per_sqft'].idxmin()]['days_on_market']}\")\n",
    "### Highest and lowest days on market ###\n",
    "print(f\"{DAYS_MAX}{BR}{df.loc[df['days_on_market'].idxmax()]['building_name']}, {df.loc[df['days_on_market'].idxmax()]['address']} | Price ${df.loc[df['days_on_market'].idxmax()]['int_Sale_Price']:,.0f} | ${df.loc[df['days_on_market'].idxmax()]['price_per_sqft']:,.0f} psf | Listing agent: {df.loc[df['days_on_market'].idxmax()]['Agent']} with {df.loc[df['days_on_market'].idxmax()]['Listing Broker']} | Buyer's agent: {df.loc[df['days_on_market'].idxmax()]['Buyer Agent']} with {df.loc[df['days_on_market'].idxmax()]['Buyer Broker']} | Days on market: {df.loc[df['days_on_market'].idxmax()]['days_on_market']}\")\n",
    "print(f\"{DAYS_MIN}{BR}{df.loc[df['days_on_market'].idxmin()]['building_name']}, {df.loc[df['days_on_market'].idxmin()]['address']} | Price ${df.loc[df['days_on_market'].idxmin()]['int_Sale_Price']:,.0f} | ${df.loc[df['days_on_market'].idxmin()]['price_per_sqft']:,.0f} psf | Listing agent: {df.loc[df['days_on_market'].idxmin()]['Agent']} with {df.loc[df['days_on_market'].idxmin()]['Listing Broker']} | Buyer's agent: {df.loc[df['days_on_market'].idxmin()]['Buyer Agent']} with {df.loc[df['days_on_market'].idxmin()]['Buyer Broker']} | Days on market: {df.loc[df['days_on_market'].idxmin()]['days_on_market']}\")"
   ]
  },
  {
   "cell_type": "markdown",
   "metadata": {},
   "source": [
    "## Map URL snagger"
   ]
  },
  {
   "cell_type": "markdown",
   "metadata": {},
   "source": [
    "Map template URL: `https://trd-digital.github.io/trd-news-interactive-maps/{map-folder-name}`"
   ]
  },
  {
   "cell_type": "code",
   "execution_count": 21,
   "metadata": {},
   "outputs": [],
   "source": [
    "base_name = 'https://trd-digital.github.io/trd-news-interactive-maps/'"
   ]
  },
  {
   "cell_type": "code",
   "execution_count": 22,
   "metadata": {},
   "outputs": [
    {
     "name": "stdout",
     "output_type": "stream",
     "text": [
      "https://trd-digital.github.io/trd-news-interactive-maps/condo_sales_week_ending_07292023\n"
     ]
    }
   ],
   "source": [
    "cwd = os.getcwd()\n",
    "\n",
    "cwd = cwd.split('/')\n",
    "\n",
    "final_name = base_name + cwd[-1]\n",
    "print(final_name)"
   ]
  }
 ],
 "metadata": {
  "kernelspec": {
   "display_name": "Python 3 (ipykernel)",
   "language": "python",
   "name": "python3"
  },
  "language_info": {
   "codemirror_mode": {
    "name": "ipython",
    "version": 3
   },
   "file_extension": ".py",
   "mimetype": "text/x-python",
   "name": "python",
   "nbconvert_exporter": "python",
   "pygments_lexer": "ipython3",
   "version": "3.9.12"
  },
  "toc": {
   "base_numbering": 1,
   "nav_menu": {},
   "number_sections": true,
   "sideBar": true,
   "skip_h1_title": false,
   "title_cell": "Table of Contents",
   "title_sidebar": "Contents",
   "toc_cell": false,
   "toc_position": {},
   "toc_section_display": true,
   "toc_window_display": false
  }
 },
 "nbformat": 4,
 "nbformat_minor": 4
}
