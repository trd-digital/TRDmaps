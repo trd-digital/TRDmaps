{
 "cells": [
  {
   "cell_type": "markdown",
   "metadata": {},
   "source": [
    "## Imports"
   ]
  },
  {
   "cell_type": "code",
   "execution_count": 1,
   "metadata": {},
   "outputs": [],
   "source": [
    "import googlemaps\n",
    "import pandas as pd\n",
    "import numpy as np\n",
    "import re\n",
    "import os\n",
    "import geopandas as gpd\n",
    "import folium\n",
    "import tabula\n",
    "from datetime import datetime, timedelta"
   ]
  },
  {
   "cell_type": "markdown",
   "metadata": {},
   "source": [
    "## Read-in"
   ]
  },
  {
   "cell_type": "code",
   "execution_count": 2,
   "metadata": {},
   "outputs": [],
   "source": [
    "# Gotta figure out how to get rid of the java error.\n",
    "# SO: https://stackoverflow.com/questions/54817211/java-command-is-not-found-from-this-python-process-please-ensure-java-is-inst\n",
    "dsf = tabula.read_pdf('condo.pdf', pages='all')"
   ]
  },
  {
   "cell_type": "markdown",
   "metadata": {},
   "source": [
    "## Current Week's Values"
   ]
  },
  {
   "cell_type": "code",
   "execution_count": 3,
   "metadata": {},
   "outputs": [
    {
     "name": "stdout",
     "output_type": "stream",
     "text": [
      "Input Week Starting Date:\n"
     ]
    },
    {
     "ename": "KeyboardInterrupt",
     "evalue": "Interrupted by user",
     "output_type": "error",
     "traceback": [
      "\u001b[0;31m---------------------------------------------------------------------------\u001b[0m",
      "\u001b[0;31mKeyboardInterrupt\u001b[0m                         Traceback (most recent call last)",
      "Cell \u001b[0;32mIn[3], line 2\u001b[0m\n\u001b[1;32m      1\u001b[0m \u001b[38;5;28mprint\u001b[39m(\u001b[38;5;124m'\u001b[39m\u001b[38;5;124mInput Week Starting Date:\u001b[39m\u001b[38;5;124m'\u001b[39m)\n\u001b[0;32m----> 2\u001b[0m week_starting \u001b[38;5;241m=\u001b[39m \u001b[38;5;28;43minput\u001b[39;49m\u001b[43m(\u001b[49m\u001b[43m)\u001b[49m\n\u001b[1;32m      3\u001b[0m \u001b[38;5;28mprint\u001b[39m(\u001b[38;5;124m'\u001b[39m\u001b[38;5;124mInput Week Ending Date:\u001b[39m\u001b[38;5;124m'\u001b[39m)\n\u001b[1;32m      4\u001b[0m week_ending \u001b[38;5;241m=\u001b[39m \u001b[38;5;28minput\u001b[39m()\n",
      "File \u001b[0;32m~/opt/anaconda3/lib/python3.9/site-packages/ipykernel/kernelbase.py:1075\u001b[0m, in \u001b[0;36mKernel.raw_input\u001b[0;34m(self, prompt)\u001b[0m\n\u001b[1;32m   1071\u001b[0m \u001b[38;5;28;01mif\u001b[39;00m \u001b[38;5;129;01mnot\u001b[39;00m \u001b[38;5;28mself\u001b[39m\u001b[38;5;241m.\u001b[39m_allow_stdin:\n\u001b[1;32m   1072\u001b[0m     \u001b[38;5;28;01mraise\u001b[39;00m StdinNotImplementedError(\n\u001b[1;32m   1073\u001b[0m         \u001b[38;5;124m\"\u001b[39m\u001b[38;5;124mraw_input was called, but this frontend does not support input requests.\u001b[39m\u001b[38;5;124m\"\u001b[39m\n\u001b[1;32m   1074\u001b[0m     )\n\u001b[0;32m-> 1075\u001b[0m \u001b[38;5;28;01mreturn\u001b[39;00m \u001b[38;5;28;43mself\u001b[39;49m\u001b[38;5;241;43m.\u001b[39;49m\u001b[43m_input_request\u001b[49m\u001b[43m(\u001b[49m\n\u001b[1;32m   1076\u001b[0m \u001b[43m    \u001b[49m\u001b[38;5;28;43mstr\u001b[39;49m\u001b[43m(\u001b[49m\u001b[43mprompt\u001b[49m\u001b[43m)\u001b[49m\u001b[43m,\u001b[49m\n\u001b[1;32m   1077\u001b[0m \u001b[43m    \u001b[49m\u001b[38;5;28;43mself\u001b[39;49m\u001b[38;5;241;43m.\u001b[39;49m\u001b[43m_parent_ident\u001b[49m\u001b[43m[\u001b[49m\u001b[38;5;124;43m\"\u001b[39;49m\u001b[38;5;124;43mshell\u001b[39;49m\u001b[38;5;124;43m\"\u001b[39;49m\u001b[43m]\u001b[49m\u001b[43m,\u001b[49m\n\u001b[1;32m   1078\u001b[0m \u001b[43m    \u001b[49m\u001b[38;5;28;43mself\u001b[39;49m\u001b[38;5;241;43m.\u001b[39;49m\u001b[43mget_parent\u001b[49m\u001b[43m(\u001b[49m\u001b[38;5;124;43m\"\u001b[39;49m\u001b[38;5;124;43mshell\u001b[39;49m\u001b[38;5;124;43m\"\u001b[39;49m\u001b[43m)\u001b[49m\u001b[43m,\u001b[49m\n\u001b[1;32m   1079\u001b[0m \u001b[43m    \u001b[49m\u001b[43mpassword\u001b[49m\u001b[38;5;241;43m=\u001b[39;49m\u001b[38;5;28;43;01mFalse\u001b[39;49;00m\u001b[43m,\u001b[49m\n\u001b[1;32m   1080\u001b[0m \u001b[43m\u001b[49m\u001b[43m)\u001b[49m\n",
      "File \u001b[0;32m~/opt/anaconda3/lib/python3.9/site-packages/ipykernel/kernelbase.py:1120\u001b[0m, in \u001b[0;36mKernel._input_request\u001b[0;34m(self, prompt, ident, parent, password)\u001b[0m\n\u001b[1;32m   1117\u001b[0m             \u001b[38;5;28;01mbreak\u001b[39;00m\n\u001b[1;32m   1118\u001b[0m \u001b[38;5;28;01mexcept\u001b[39;00m \u001b[38;5;167;01mKeyboardInterrupt\u001b[39;00m:\n\u001b[1;32m   1119\u001b[0m     \u001b[38;5;66;03m# re-raise KeyboardInterrupt, to truncate traceback\u001b[39;00m\n\u001b[0;32m-> 1120\u001b[0m     \u001b[38;5;28;01mraise\u001b[39;00m \u001b[38;5;167;01mKeyboardInterrupt\u001b[39;00m(\u001b[38;5;124m\"\u001b[39m\u001b[38;5;124mInterrupted by user\u001b[39m\u001b[38;5;124m\"\u001b[39m) \u001b[38;5;28;01mfrom\u001b[39;00m \u001b[38;5;28mNone\u001b[39m\n\u001b[1;32m   1121\u001b[0m \u001b[38;5;28;01mexcept\u001b[39;00m \u001b[38;5;167;01mException\u001b[39;00m:\n\u001b[1;32m   1122\u001b[0m     \u001b[38;5;28mself\u001b[39m\u001b[38;5;241m.\u001b[39mlog\u001b[38;5;241m.\u001b[39mwarning(\u001b[38;5;124m\"\u001b[39m\u001b[38;5;124mInvalid Message:\u001b[39m\u001b[38;5;124m\"\u001b[39m, exc_info\u001b[38;5;241m=\u001b[39m\u001b[38;5;28;01mTrue\u001b[39;00m)\n",
      "\u001b[0;31mKeyboardInterrupt\u001b[0m: Interrupted by user"
     ]
    }
   ],
   "source": [
    "print('Input Week Starting Date:')\n",
    "week_starting = input()\n",
    "print('Input Week Ending Date:')\n",
    "week_ending = input()\n",
    "print('Input Current Week Condo Sales (num of units sold):')\n",
    "current_week_condo_sales = input()\n",
    "print('Input Average Sale Price:')\n",
    "average_sale_price = input()\n",
    "print('Input Average PSF:')\n",
    "average_price_psf = input()\n",
    "print('Input Average Days on Market:')\n",
    "average_days_on_market = input()\n",
    "print('Input Current Week Condo Sales Total (ex: $XX million):')\n",
    "current_week_condo_sales_total = input()\n",
    "print('Input Top Image URL from condo:')\n",
    "top_condo_image_url = input()"
   ]
  },
  {
   "cell_type": "markdown",
   "metadata": {},
   "source": [
    "## Previous Week's Values"
   ]
  },
  {
   "cell_type": "code",
   "execution_count": null,
   "metadata": {},
   "outputs": [],
   "source": [
    "print('Input Previous Week Condo Sales Total (number units sold):')\n",
    "previous_week_condo_sales = input()\n",
    "print('Input Previous Week Condo Average Sales Price:')\n",
    "previous_week_average_sales_price = input()\n",
    "print('Input Previous Week Condo Average PSF:')\n",
    "previous_week_average_psf = input()\n",
    "print('Input Previous Week Condo Sales total (ex: $XX million)')\n",
    "previous_week_condo_sales_total = input()"
   ]
  },
  {
   "cell_type": "markdown",
   "metadata": {},
   "source": [
    "## Clean Data"
   ]
  },
  {
   "cell_type": "code",
   "execution_count": null,
   "metadata": {},
   "outputs": [],
   "source": [
    "df = dsf[0]\n",
    "df.columns = df.iloc[0]\n",
    "df = df[1:]\n",
    "df = df.drop(columns=df.columns[0])\n",
    "df = df.replace(np.nan, 'Not Available', regex=True)\n",
    "df = df.rename(columns={'Building / Address / City': 'building_address_city','Days on\\rMarket':'days_on_market',\\\n",
    "                        'Price /\\rSq. Ft.':'price_per_sqft'})\n",
    "df['building_address_city'] = df['building_address_city'].str.replace('^0', '', regex=True)\n",
    "df['geo_address'] = df['building_address_city']\n",
    "df['geo_address'] = df['geo_address'].map(lambda x: re.sub(r'\\r', ' ', x))\n",
    "df = df.replace('\\n',' ',regex=True)\n",
    "pattern = r'^(?P<building_name>[\\d\\s]*[A-Za-z\\s]+)\\s(?P<address>.+)\\s(?P<city>[A-Za-z\\s]+)$'\n",
    "df2 = df['geo_address']\n",
    "df2 = df2.to_frame()\n",
    "df2[['building_name', 'address', 'city']] = df2['geo_address'].str.extract(pattern, expand=True)"
   ]
  },
  {
   "cell_type": "markdown",
   "metadata": {},
   "source": [
    "Review this later (it's about how to properly merge DFs): https://pandas.pydata.org/pandas-docs/stable/user_guide/merging.html"
   ]
  },
  {
   "cell_type": "markdown",
   "metadata": {},
   "source": [
    "## Geocode"
   ]
  },
  {
   "cell_type": "code",
   "execution_count": null,
   "metadata": {},
   "outputs": [],
   "source": [
    "result = pd.merge(df,df2,left_index=True, right_index=True)\n",
    "df = result\n",
    "df = df.drop(columns='city')"
   ]
  },
  {
   "cell_type": "code",
   "execution_count": null,
   "metadata": {},
   "outputs": [],
   "source": [
    "%store -r google_maps_API_Key\n",
    "gmaps_key = googlemaps.Client(key=google_maps_API_Key)"
   ]
  },
  {
   "cell_type": "code",
   "execution_count": null,
   "metadata": {},
   "outputs": [],
   "source": [
    "def geocode(add):\n",
    "    g = gmaps_key.geocode(add)\n",
    "    lat = g[0][\"geometry\"][\"location\"][\"lat\"]\n",
    "    lng = g[0][\"geometry\"][\"location\"][\"lng\"]\n",
    "    return (lat, lng)\n",
    "\n",
    "df['geocoded'] = df['geo_address_x'].apply(geocode)"
   ]
  },
  {
   "cell_type": "code",
   "execution_count": null,
   "metadata": {},
   "outputs": [],
   "source": [
    "df['geocoded'] = df['geocoded'].astype(str)\n",
    "df[['lat', 'lon']] = df['geocoded'].str.strip('()').str.split(', ', expand=True)\n",
    "df['lat'] = df['lat'].astype(float)\n",
    "df['lon'] = df['lon'].astype(float)"
   ]
  },
  {
   "cell_type": "markdown",
   "metadata": {},
   "source": [
    "Folium documentation link: https://python-visualization.github.io/folium/index.html\n",
    "\n",
    "Folium is the library that lets us use leaflet with Python, since it's meant to be used with JavaScript.\n",
    "\n",
    "For adding titles: https://stackoverflow.com/questions/61928013/adding-a-title-or-text-to-a-folium-map"
   ]
  },
  {
   "cell_type": "markdown",
   "metadata": {},
   "source": [
    "## Correction section"
   ]
  },
  {
   "cell_type": "code",
   "execution_count": null,
   "metadata": {},
   "outputs": [],
   "source": [
    "# df.at[index#,'col_name']"
   ]
  },
  {
   "cell_type": "markdown",
   "metadata": {},
   "source": [
    "## Format Data"
   ]
  },
  {
   "cell_type": "code",
   "execution_count": null,
   "metadata": {},
   "outputs": [],
   "source": [
    "### Insert NaNs if needed ###\n",
    "df = df.replace('N/A', np.nan)"
   ]
  },
  {
   "cell_type": "code",
   "execution_count": null,
   "metadata": {},
   "outputs": [],
   "source": [
    "df['int_Sale_Price'] = df['Sale Price'].str.replace('$','',regex=False)"
   ]
  },
  {
   "cell_type": "code",
   "execution_count": null,
   "metadata": {},
   "outputs": [],
   "source": [
    "df['int_Sale_Price'] = df['int_Sale_Price'].str.replace(',','',regex=False)"
   ]
  },
  {
   "cell_type": "code",
   "execution_count": null,
   "metadata": {},
   "outputs": [],
   "source": [
    "df['int_Sale_Price'] = pd.to_numeric(df['int_Sale_Price'])"
   ]
  },
  {
   "cell_type": "code",
   "execution_count": null,
   "metadata": {},
   "outputs": [],
   "source": [
    "df['price_per_sqft'] = df['price_per_sqft'].str.replace('$','',regex=False)\n",
    "df['price_per_sqft'] = df['price_per_sqft'].str.replace(',','',regex=False)\n",
    "df['price_per_sqft'] = pd.to_numeric(df['price_per_sqft'])\n",
    "\n",
    "df['days_on_market'] = pd.to_numeric(df['days_on_market'])"
   ]
  },
  {
   "cell_type": "markdown",
   "metadata": {},
   "source": [
    "## Color-code top sale"
   ]
  },
  {
   "cell_type": "code",
   "execution_count": null,
   "metadata": {},
   "outputs": [],
   "source": [
    "### Insert RANK values ###\n",
    "df['RANK'] = range(1, len(df) + 1)\n",
    "# use numpy to assign values to the 'COLOR' column\n",
    "df['COLOR'] = np.where(df['RANK'] <= 1, 'orange', 'blue')"
   ]
  },
  {
   "cell_type": "markdown",
   "metadata": {},
   "source": [
    "## HTML Popup Formatter"
   ]
  },
  {
   "cell_type": "code",
   "execution_count": null,
   "metadata": {},
   "outputs": [],
   "source": [
    "df.columns"
   ]
  },
  {
   "cell_type": "code",
   "execution_count": null,
   "metadata": {},
   "outputs": [],
   "source": [
    "def popup_html(row):\n",
    "    building_name = row['building_name']\n",
    "    price = row['Sale Price']\n",
    "    days_on_market = row['days_on_market']\n",
    "    listing_agent = row['Agent']\n",
    "    buyers_agent = row['Buyer Agent']\n",
    "    psf = row['price_per_sqft']\n",
    "    address = row['address']\n",
    "    \n",
    "    html = '''<!DOCTYPE html>\n",
    "    <html>\n",
    "    <strong>Building Name: </strong>{}'''.format(building_name) + '''<br>\n",
    "    <strong>Sale Price: </strong>{}'''.format(price) + '''<br>\n",
    "    <strong>Days on Market: </strong>{}'''.format(days_on_market) + '''<br>\n",
    "    <strong>Listing Agent: </strong>{}'''.format(listing_agent) + '''<br>\n",
    "    <strong>Buyer's Agent: </strong>{}'''.format(buyers_agent) + '''<br>\n",
    "    <strong>Price sq ft: </strong>${}'''.format(psf) + '''<br>\n",
    "    <strong>Address: </strong>{}'''.format(address) + '''<br>\n",
    "    </html>\n",
    "    '''\n",
    "    return html"
   ]
  },
  {
   "cell_type": "code",
   "execution_count": null,
   "metadata": {},
   "outputs": [],
   "source": [
    "import folium\n",
    "from folium.plugins import MarkerCluster\n",
    "\n",
    "m = folium.Map(location=df[[\"lat\", \"lon\"]].mean().to_list(), zoom_start=10)\n",
    "\n",
    "title_html = '''\n",
    "              <h3 align=\"center\" style=\"font-size:16px\"><b>{}</b></h3>\n",
    "             '''.format(f'Recent Miami-Dade Condo Sales ')\n",
    "\n",
    "caption_html = '''\n",
    "                <p align=\"center\" style=\"vertical-align: bottom; font-size:13px\"><i>{}</i></p>\n",
    "                '''.format(f'{week_starting} - {week_ending}')\n",
    "\n",
    "\n",
    "### Create map container ###\n",
    "m = folium.Map(location=df[[\"lat\", \"lon\"]].mean().to_list(),zoom_start=9.5,tiles=None)\n",
    "\n",
    "# Create two FeatureGroups for different color pins\n",
    "fg_blue = folium.FeatureGroup(name='All other sales')\n",
    "fg_orange = folium.FeatureGroup(name='Top Sale')\n",
    "\n",
    "for index, row in df.iterrows():\n",
    "    # Add the markers to the appropriate FeatureGroup based on the color\n",
    "    if row['COLOR'] == 'blue':\n",
    "        marker = folium.Marker(\n",
    "            location=[row['lat'], row['lon']],\n",
    "            radius=5,\n",
    "            fill=True,\n",
    "            icon=folium.Icon(color=row['COLOR']),\n",
    "            popup=folium.Popup(popup_html(row), max_width=400))\n",
    "        marker.add_to(fg_blue)\n",
    "    else:\n",
    "        marker = folium.Marker(\n",
    "            location=[row['lat'], row['lon']],\n",
    "            radius=5,\n",
    "            fill=True,\n",
    "            icon=folium.Icon(color=row['COLOR']),\n",
    "            popup=folium.Popup(popup_html(row), max_width=400))\n",
    "        marker.add_to(fg_orange)\n",
    "\n",
    "# Add the FeatureGroups to the map\n",
    "fg_orange.add_to(m)\n",
    "fg_blue.add_to(m)\n",
    "\n",
    "folium.TileLayer('OpenStreetMap',control=False).add_to(m)\n",
    "\n",
    "# Add LayerControl to the map\n",
    "folium.map.LayerControl(collapsed=False).add_to(m)\n",
    "m.get_root().html.add_child(folium.Element(title_html))\n",
    "m.get_root().html.add_child(folium.Element(caption_html))\n",
    "            \n",
    "# Display map\n",
    "m"
   ]
  },
  {
   "cell_type": "code",
   "execution_count": null,
   "metadata": {},
   "outputs": [],
   "source": [
    "m.save('index.html')"
   ]
  },
  {
   "cell_type": "markdown",
   "metadata": {},
   "source": [
    "## Data snagger"
   ]
  },
  {
   "cell_type": "code",
   "execution_count": null,
   "metadata": {},
   "outputs": [],
   "source": [
    "### Set up formatting ###\n",
    "BR = '\\n'\n",
    "\n",
    "ME = '\\033[1m' + 'Most Expensive' + '\\033[0m'\n",
    "LE = '\\033[1m' + 'Least Expensive' + '\\033[0m'\n",
    "\n",
    "MAX_PSF = '\\033[1m' + 'Highest Price Per Square Foot' + '\\033[0m'\n",
    "MIN_PSF = '\\033[1m' + 'Lowest Price Per Square Foot' + '\\033[0m'\n",
    "\n",
    "DAYS_MAX = '\\033[1m' + 'Most Days on Market' + '\\033[0m'\n",
    "DAYS_MIN = '\\033[1m' + 'Fewest Days on Market' + '\\033[0m'"
   ]
  },
  {
   "cell_type": "code",
   "execution_count": null,
   "metadata": {},
   "outputs": [],
   "source": [
    "### Highest and lowest sale price ###\n",
    "print(f\"{ME}{BR}{df.loc[df['int_Sale_Price'].idxmax()]['building_name']}, {df.loc[df['int_Sale_Price'].idxmax()]['address']} | Price ${df.loc[df['int_Sale_Price'].idxmax()]['int_Sale_Price']:,.0f} | ${df.loc[df['int_Sale_Price'].idxmax()]['price_per_sqft']:,.0f} psf | Listing agent: {df.loc[df['int_Sale_Price'].idxmax()]['Agent']} with {df.loc[df['int_Sale_Price'].idxmax()]['Listing Broker']} | Buyer's agent: {df.loc[df['int_Sale_Price'].idxmax()]['Buyer Agent']} with {df.loc[df['int_Sale_Price'].idxmax()]['Buyer Broker']} | Days on market: {df.loc[df['int_Sale_Price'].idxmax()]['days_on_market']}\")\n",
    "print(f\"{LE}{BR}{df.loc[df['int_Sale_Price'].idxmin()]['building_name']}, {df.loc[df['int_Sale_Price'].idxmin()]['address']} | Price ${df.loc[df['int_Sale_Price'].idxmin()]['int_Sale_Price']:,.0f} | ${df.loc[df['int_Sale_Price'].idxmin()]['price_per_sqft']:,.0f} psf | Listing agent: {df.loc[df['int_Sale_Price'].idxmin()]['Agent']} with {df.loc[df['int_Sale_Price'].idxmin()]['Listing Broker']} | Buyer's agent: {df.loc[df['int_Sale_Price'].idxmin()]['Buyer Agent']} with {df.loc[df['int_Sale_Price'].idxmin()]['Buyer Broker']} | Days on market: {df.loc[df['int_Sale_Price'].idxmin()]['days_on_market']}\")\n",
    "### Highest and lowest psf ###\n",
    "print(f\"{MAX_PSF}{BR}{df.loc[df['price_per_sqft'].idxmax()]['building_name']}, {df.loc[df['price_per_sqft'].idxmax()]['address']} | Price ${df.loc[df['price_per_sqft'].idxmax()]['int_Sale_Price']:,.0f} | ${df.loc[df['price_per_sqft'].idxmax()]['price_per_sqft']:,.0f} psf | Listing agent: {df.loc[df['price_per_sqft'].idxmax()]['Agent']} with {df.loc[df['price_per_sqft'].idxmax()]['Listing Broker']} | Buyer's agent: {df.loc[df['price_per_sqft'].idxmax()]['Buyer Agent']} with {df.loc[df['price_per_sqft'].idxmax()]['Buyer Broker']} | Days on market: {df.loc[df['price_per_sqft'].idxmax()]['days_on_market']}\")\n",
    "print(f\"{MIN_PSF}{BR}{df.loc[df['price_per_sqft'].idxmin()]['building_name']}, {df.loc[df['price_per_sqft'].idxmin()]['address']} | Price ${df.loc[df['price_per_sqft'].idxmin()]['int_Sale_Price']:,.0f} | ${df.loc[df['price_per_sqft'].idxmin()]['price_per_sqft']:,.0f} psf | Listing agent: {df.loc[df['price_per_sqft'].idxmin()]['Agent']} with {df.loc[df['price_per_sqft'].idxmin()]['Listing Broker']} | Buyer's agent: {df.loc[df['price_per_sqft'].idxmin()]['Buyer Agent']} with {df.loc[df['price_per_sqft'].idxmin()]['Buyer Broker']} | Days on market: {df.loc[df['price_per_sqft'].idxmin()]['days_on_market']}\")\n",
    "### Highest and lowest days on market ###\n",
    "print(f\"{DAYS_MAX}{BR}{df.loc[df['days_on_market'].idxmax()]['building_name']}, {df.loc[df['days_on_market'].idxmax()]['address']} | Price ${df.loc[df['days_on_market'].idxmax()]['int_Sale_Price']:,.0f} | ${df.loc[df['days_on_market'].idxmax()]['price_per_sqft']:,.0f} psf | Listing agent: {df.loc[df['days_on_market'].idxmax()]['Agent']} with {df.loc[df['days_on_market'].idxmax()]['Listing Broker']} | Buyer's agent: {df.loc[df['days_on_market'].idxmax()]['Buyer Agent']} with {df.loc[df['days_on_market'].idxmax()]['Buyer Broker']} | Days on market: {df.loc[df['days_on_market'].idxmax()]['days_on_market']}\")\n",
    "print(f\"{DAYS_MIN}{BR}{df.loc[df['days_on_market'].idxmin()]['building_name']}, {df.loc[df['days_on_market'].idxmin()]['address']} | Price ${df.loc[df['days_on_market'].idxmin()]['int_Sale_Price']:,.0f} | ${df.loc[df['days_on_market'].idxmin()]['price_per_sqft']:,.0f} psf | Listing agent: {df.loc[df['days_on_market'].idxmin()]['Agent']} with {df.loc[df['days_on_market'].idxmin()]['Listing Broker']} | Buyer's agent: {df.loc[df['days_on_market'].idxmin()]['Buyer Agent']} with {df.loc[df['days_on_market'].idxmin()]['Buyer Broker']} | Days on market: {df.loc[df['days_on_market'].idxmin()]['days_on_market']}\")"
   ]
  },
  {
   "cell_type": "code",
   "execution_count": null,
   "metadata": {},
   "outputs": [],
   "source": [
    "df['days_on_market'].mean()"
   ]
  },
  {
   "cell_type": "markdown",
   "metadata": {},
   "source": [
    "## Map URL snagger"
   ]
  },
  {
   "cell_type": "markdown",
   "metadata": {},
   "source": [
    "Map template URL: `https://trd-digital.github.io/trd-news-interactive-maps/{map-folder-name}`"
   ]
  },
  {
   "cell_type": "code",
   "execution_count": null,
   "metadata": {},
   "outputs": [],
   "source": [
    "base_name = 'https://trd-digital.github.io/trd-news-interactive-maps/'\n",
    "\n",
    "cwd = os.getcwd()\n",
    "\n",
    "cwd = cwd.split('/')\n",
    "\n",
    "final_name = base_name + cwd[-1]\n",
    "print(final_name)"
   ]
  },
  {
   "cell_type": "markdown",
   "metadata": {},
   "source": [
    "# CREATE TEMPLATE "
   ]
  },
  {
   "cell_type": "code",
   "execution_count": null,
   "metadata": {},
   "outputs": [],
   "source": [
    "df['muni_name'] = df['building_address_city'].str.split('\\r').str[-1]"
   ]
  },
  {
   "cell_type": "code",
   "execution_count": null,
   "metadata": {},
   "outputs": [],
   "source": [
    "muni_set = set(df['muni_name'])"
   ]
  },
  {
   "cell_type": "code",
   "execution_count": null,
   "metadata": {},
   "outputs": [],
   "source": [
    "df['building_address_city_clean'] = df['building_address_city'].str.split('\\r')"
   ]
  },
  {
   "cell_type": "code",
   "execution_count": null,
   "metadata": {},
   "outputs": [],
   "source": [
    "top_sale = df.at[1, 'building_address_city_clean']\n",
    "second_top_sale = df.at[2,'building_address_city_clean']"
   ]
  },
  {
   "cell_type": "code",
   "execution_count": null,
   "metadata": {},
   "outputs": [],
   "source": [
    "### Average Sales Price ###\n",
    "if float(average_sale_price) > float(previous_week_average_sales_price):\n",
    "    change = 'higher'\n",
    "    difference = float(average_sale_price) - float(previous_week_average_sales_price)\n",
    "else:\n",
    "    change = 'lower'\n",
    "    difference = float(previous_week_average_sales_price) - float(average_sale_price)\n",
    "    \n",
    "### Total condo dollar volume ###\n",
    "if float(current_week_condo_sales_total) > float(previous_week_condo_sales_total):\n",
    "    seo_head = 'Rises'\n",
    "elif float(previous_week_condo_sales_total) < float(current_week_condo_sales_total):\n",
    "    seo_head = 'Falls'\n",
    "else:\n",
    "    seo_head = 'Unchanged'\n",
    "    \n",
    "\n",
    "### Average PSF ###    \n",
    "if float(average_price_psf) > float(previous_week_average_psf):\n",
    "    psf_rf = 'rose'\n",
    "elif float(average_price_psf) < float(previous_week_average_psf):\n",
    "    psf_rf ='fell'\n",
    "else:\n",
    "    psf_rf = 'equaled'"
   ]
  },
  {
   "cell_type": "code",
   "execution_count": null,
   "metadata": {},
   "outputs": [],
   "source": [
    "difference"
   ]
  },
  {
   "cell_type": "code",
   "execution_count": null,
   "metadata": {},
   "outputs": [],
   "source": [
    "story_string = f'''\n",
    "\\033[1mHED:\\033[0m {df.loc[df['int_Sale_Price'].idxmax()]['building_name']} tops Miami-Dade weekly condo sales \n",
    "\\033[1mDEK:\\033[0m Top 10 sales ranged from {df.at[10,'Sale Price']} to {df.at[1,'Sale Price']}\n",
    "\\033[1mFEATURED HED:\\033[0m\n",
    "\\033[1mSEO HED:\\033[0m Miami-Dade County Weekly Condo Report \n",
    "\\033[1mSEO DESCRIPTION:\\033[0m Miami-Dade County’s condo sales XXXXXXX\n",
    "\\033[1mAUTHOR:\\033[0m Adam Farence\n",
    "\\033[1mRESEARCH:\\033[0m \n",
    "\\033[1mSocial:\\033[0m #MiamiDade condo sales XXXXX\n",
    "\\033[1mART:\\033[0m\n",
    "\n",
    "Credit condo.com with the image below and the PDF chart in the story\n",
    "{top_condo_image_url}\n",
    "\n",
    "Interactive map\n",
    "\n",
    "*Please provide credits for any images that you share\n",
    "\\033[1mSTORY TYPE:\\033[0m Report\n",
    "\\033[1mSECTOR\\033[0m (formerly CATEGORY): Residential Real Estate\n",
    "\\033[1mTAGS:\\033[0m condo sales, Miami-Dade County, weekly condo sales, {', '.join(str(x) for x in muni_set)}\n",
    "\n",
    "\\033[1mNeighborhood:\\033[0m \n",
    "\\033[1mProperty:\\033[0m\n",
    "\\033[1mProperty Type:\\033[0m\n",
    "\\033[1mCompanies:\\033[0m \n",
    "\\033[1mPeople:\\033[0m\n",
    "\\033[1mIssues:\\033[0m\n",
    "\\033[1mRegion:\\033[0m\n",
    "\\033[1m[]Show in Yahoo Feed\\033[0m\n",
    "\n",
    "\n",
    "\n",
    "Miami-Dade County’s NEWS PEG HERE.\n",
    "\n",
    "Brokers closed {int(current_week_condo_sales):,.0f} condo sales totaling ${float(current_week_condo_sales_total):,.0f} from {week_starting} to {week_ending}. The previous week, brokers closed {previous_week_condo_sales} condo sales totaling ${int(previous_week_condo_sales_total):,.0f}.\n",
    "\n",
    "Last week’s units sold for an average of ${float(average_sale_price):,.0f}, {change} than the ${float(previous_week_average_sales_price):,.0f} sales average from the previous week. The average price per square foot {psf_rf} to ${average_price_psf} from ${previous_week_average_psf}, according to data from condo.com. Condos closed after an average of {average_days_on_market} days on the market.\n",
    "\n",
    "For the top 10 sales, prices ranged from {df.at[10,'Sale Price']} to {df.at[1,'Sale Price']}. \n",
    "\n",
    "{top_sale[0]}, at {top_sale[1]} in {top_sale[2]} took the top spot with a {df.at[1,'Sale Price']} million closing. {df.at[1,'Agent']} with {df.at[1,'Listing Broker']} had the listing. {df.at[1,'Buyer Agent']} with {df.at[1,'Buyer Broker']} represented the buyer. The sale closed after {df.at[1,'days_on_market']} days on the market at ${df.at[1,'price_per_sqft']} per square foot.\n",
    "\n",
    "{second_top_sale[0]} in {second_top_sale[2]}, at {second_top_sale[1]}, closed for the second highest amount, {df.at[2,'Sale Price']}, or ${df.at[2,'price_per_sqft']} per square foot, after {df.at[2,'days_on_market']} days on the market. {df.at[2,'Agent']} with {df.at[2,'Listing Broker']} had the listing. {df.at[2,'Buyer Agent']} with {df.at[2,'Buyer Broker']} represented the buyer.\n",
    "\n",
    "<figure>\n",
    " <div class=\"container\">\n",
    "   <div class=\"iframe-wrap\">\n",
    "   <iframe src=\"{final_name}\" width=\"100%\" height=\"800\" frameBorder=\"0\" scrolling=\"no\"></iframe>\n",
    "  </div>\n",
    "</div>\n",
    "  <figcaption align=\"right\"><a href=\"https://leafletjs.com/\">Leaflet</a> map created by Adam Farence | Data by © <a href=\"https://www.openstreetmap.org/#map=4/38.01/-95.84\"> OpenStreetMap</a>, under <a href=\"https://www.openstreetmap.org/copyright\">ODbl.</a></figcaption>\n",
    "</figure>\n",
    "\n",
    "Here’s a breakdown of the top 10 sales from {week_starting} to {week_ending}:\n",
    "'''\n",
    "\n",
    "# print(story_string)"
   ]
  },
  {
   "cell_type": "code",
   "execution_count": null,
   "metadata": {},
   "outputs": [],
   "source": [
    "story_checklist = '''\n",
    "\\033[1mRemember to...:\\033[0m\n",
    "\n",
    "1. Double check all names. Sometimes names differ between the hed and the body of the story.\n",
    "    For example, \"Surf Club Four Seasons\" in the HED and \"Four Seasons Residences at the Surfclub\"\n",
    "    in the body.\n",
    "    \n",
    "2. Add in context, if available. When there's a high-priced condo sale, check and see if there's\n",
    "    a story. If there is, add in some extra details and link back to it.\n",
    "    \n",
    "3. Add in a screenshot of the sales chart.\n",
    "'''"
   ]
  },
  {
   "cell_type": "code",
   "execution_count": null,
   "metadata": {},
   "outputs": [],
   "source": [
    "df.columns"
   ]
  },
  {
   "cell_type": "code",
   "execution_count": null,
   "metadata": {},
   "outputs": [],
   "source": [
    "# # Convert each list in 'list_column' to a separate DataFrame and concatenate\n",
    "# list_df = pd.DataFrame(df['building_address_city_clean'].tolist(), index=df.index)\n",
    "\n",
    "# # Naming the new columns\n",
    "# list_df.columns = ['building', 'address', 'city']\n",
    "\n",
    "# # Concatenate the new DataFrame with the original DataFrame\n",
    "# df = pd.concat([df, list_df], axis=1).drop('building_address_city_clean', axis=1)"
   ]
  },
  {
   "cell_type": "code",
   "execution_count": null,
   "metadata": {},
   "outputs": [],
   "source": [
    "df.columns"
   ]
  },
  {
   "cell_type": "code",
   "execution_count": null,
   "metadata": {},
   "outputs": [],
   "source": [
    "print(story_string)\n",
    "\n",
    "### Highest and lowest sale price ###\n",
    "print(f\"{ME}{BR}{df.loc[df['int_Sale_Price'].idxmax()]['building_name']}, {df.loc[df['int_Sale_Price'].idxmax()]['address']} | Price ${df.loc[df['int_Sale_Price'].idxmax()]['int_Sale_Price']:,.0f} | ${df.loc[df['int_Sale_Price'].idxmax()]['price_per_sqft']:,.0f} psf | Listing agent: {df.loc[df['int_Sale_Price'].idxmax()]['Agent']} with {df.loc[df['int_Sale_Price'].idxmax()]['Listing Broker']} | Buyer's agent: {df.loc[df['int_Sale_Price'].idxmax()]['Buyer Agent']} with {df.loc[df['int_Sale_Price'].idxmax()]['Buyer Broker']} | Days on market: {df.loc[df['int_Sale_Price'].idxmax()]['days_on_market']}\")\n",
    "print(f\"{LE}{BR}{df.loc[df['int_Sale_Price'].idxmin()]['building_name']}, {df.loc[df['int_Sale_Price'].idxmin()]['address']} | Price ${df.loc[df['int_Sale_Price'].idxmin()]['int_Sale_Price']:,.0f} | ${df.loc[df['int_Sale_Price'].idxmin()]['price_per_sqft']:,.0f} psf | Listing agent: {df.loc[df['int_Sale_Price'].idxmin()]['Agent']} with {df.loc[df['int_Sale_Price'].idxmin()]['Listing Broker']} | Buyer's agent: {df.loc[df['int_Sale_Price'].idxmin()]['Buyer Agent']} with {df.loc[df['int_Sale_Price'].idxmin()]['Buyer Broker']} | Days on market: {df.loc[df['int_Sale_Price'].idxmin()]['days_on_market']}\")\n",
    "### Highest and lowest psf ###\n",
    "print(f\"{MAX_PSF}{BR}{df.loc[df['price_per_sqft'].idxmax()]['building_name']}, {df.loc[df['price_per_sqft'].idxmax()]['address']} | Price ${df.loc[df['price_per_sqft'].idxmax()]['int_Sale_Price']:,.0f} | ${df.loc[df['price_per_sqft'].idxmax()]['price_per_sqft']:,.0f} psf | Listing agent: {df.loc[df['price_per_sqft'].idxmax()]['Agent']} with {df.loc[df['price_per_sqft'].idxmax()]['Listing Broker']} | Buyer's agent: {df.loc[df['price_per_sqft'].idxmax()]['Buyer Agent']} with {df.loc[df['price_per_sqft'].idxmax()]['Buyer Broker']} | Days on market: {df.loc[df['price_per_sqft'].idxmax()]['days_on_market']}\")\n",
    "print(f\"{MIN_PSF}{BR}{df.loc[df['price_per_sqft'].idxmin()]['building_name']}, {df.loc[df['price_per_sqft'].idxmin()]['address']} | Price ${df.loc[df['price_per_sqft'].idxmin()]['int_Sale_Price']:,.0f} | ${df.loc[df['price_per_sqft'].idxmin()]['price_per_sqft']:,.0f} psf | Listing agent: {df.loc[df['price_per_sqft'].idxmin()]['Agent']} with {df.loc[df['price_per_sqft'].idxmin()]['Listing Broker']} | Buyer's agent: {df.loc[df['price_per_sqft'].idxmin()]['Buyer Agent']} with {df.loc[df['price_per_sqft'].idxmin()]['Buyer Broker']} | Days on market: {df.loc[df['price_per_sqft'].idxmin()]['days_on_market']}\")\n",
    "### Highest and lowest days on market ###\n",
    "print(f\"{DAYS_MAX}{BR}{df.loc[df['days_on_market'].idxmax()]['building_name']}, {df.loc[df['days_on_market'].idxmax()]['address']} | Price ${df.loc[df['days_on_market'].idxmax()]['int_Sale_Price']:,.0f} | ${df.loc[df['days_on_market'].idxmax()]['price_per_sqft']:,.0f} psf | Listing agent: {df.loc[df['days_on_market'].idxmax()]['Agent']} with {df.loc[df['days_on_market'].idxmax()]['Listing Broker']} | Buyer's agent: {df.loc[df['days_on_market'].idxmax()]['Buyer Agent']} with {df.loc[df['days_on_market'].idxmax()]['Buyer Broker']} | Days on market: {df.loc[df['days_on_market'].idxmax()]['days_on_market']}\")\n",
    "print(f\"{DAYS_MIN}{BR}{df.loc[df['days_on_market'].idxmin()]['building_name']}, {df.loc[df['days_on_market'].idxmin()]['address']} | Price ${df.loc[df['days_on_market'].idxmin()]['int_Sale_Price']:,.0f} | ${df.loc[df['days_on_market'].idxmin()]['price_per_sqft']:,.0f} psf | Listing agent: {df.loc[df['days_on_market'].idxmin()]['Agent']} with {df.loc[df['days_on_market'].idxmin()]['Listing Broker']} | Buyer's agent: {df.loc[df['days_on_market'].idxmin()]['Buyer Agent']} with {df.loc[df['days_on_market'].idxmin()]['Buyer Broker']} | Days on market: {df.loc[df['days_on_market'].idxmin()]['days_on_market']}\")\n",
    "\n",
    "print(story_checklist)"
   ]
  }
 ],
 "metadata": {
  "kernelspec": {
   "display_name": "Python 3 (ipykernel)",
   "language": "python",
   "name": "python3"
  },
  "language_info": {
   "codemirror_mode": {
    "name": "ipython",
    "version": 3
   },
   "file_extension": ".py",
   "mimetype": "text/x-python",
   "name": "python",
   "nbconvert_exporter": "python",
   "pygments_lexer": "ipython3",
   "version": "3.9.12"
  },
  "toc": {
   "base_numbering": 1,
   "nav_menu": {},
   "number_sections": true,
   "sideBar": true,
   "skip_h1_title": false,
   "title_cell": "Table of Contents",
   "title_sidebar": "Contents",
   "toc_cell": false,
   "toc_position": {},
   "toc_section_display": true,
   "toc_window_display": false
  }
 },
 "nbformat": 4,
 "nbformat_minor": 4
}
