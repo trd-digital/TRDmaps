{
 "cells": [
  {
   "cell_type": "markdown",
   "id": "282c57c3",
   "metadata": {},
   "source": [
    "## Imports"
   ]
  },
  {
   "cell_type": "code",
   "execution_count": 45,
   "id": "54c15242",
   "metadata": {},
   "outputs": [],
   "source": [
    "import pandas as pd\n",
    "import numpy as np\n",
    "import re\n",
    "import os\n",
    "import folium\n",
    "import geopandas as gpd\n",
    "import glob\n",
    "from datetime import datetime, timedelta\n",
    "from tqdm.notebook import tqdm\n",
    "import requests\n",
    "import time"
   ]
  },
  {
   "cell_type": "markdown",
   "id": "7c620cf8",
   "metadata": {},
   "source": [
    "## Data Read-in"
   ]
  },
  {
   "cell_type": "code",
   "execution_count": 2,
   "id": "788cfd9b",
   "metadata": {},
   "outputs": [
    {
     "name": "stdout",
     "output_type": "stream",
     "text": [
      "3461\n"
     ]
    }
   ],
   "source": [
    "csv_files = glob.glob('*.csv')\n",
    "\n",
    "df_list = []\n",
    "\n",
    "for csv_file in csv_files:\n",
    "    df = pd.read_csv(csv_file)\n",
    "    df_list.append(df)\n",
    "    \n",
    "df = pd.concat(df_list,ignore_index=True)\n",
    "\n",
    "print(len(df))"
   ]
  },
  {
   "cell_type": "code",
   "execution_count": 3,
   "id": "563417a4",
   "metadata": {},
   "outputs": [],
   "source": [
    "gdf = gpd.read_file('countyboundary')"
   ]
  },
  {
   "cell_type": "markdown",
   "id": "5cdf738a",
   "metadata": {},
   "source": [
    "## Previous month's values\n",
    "\n",
    "Get values from here:\n",
    "\n",
    "https://docs.google.com/spreadsheets/d/1GWlqTIzCB29pDVDjd-iBVejVGGsLiAd0P6fq4LM83WI/edit?usp=sharing"
   ]
  },
  {
   "cell_type": "code",
   "execution_count": 4,
   "id": "7bbbad1d",
   "metadata": {},
   "outputs": [
    {
     "name": "stdout",
     "output_type": "stream",
     "text": [
      "Input County Name:\n",
      "Broward County\n"
     ]
    }
   ],
   "source": [
    "print('Input County Name:')\n",
    "county_name = input()"
   ]
  },
  {
   "cell_type": "code",
   "execution_count": 5,
   "id": "1cd3e074",
   "metadata": {},
   "outputs": [
    {
     "name": "stdout",
     "output_type": "stream",
     "text": [
      "Input total condo units sold previous (not last) month:\n",
      "824\n"
     ]
    }
   ],
   "source": [
    "print('Input total condo units sold previous (not last) month:')\n",
    "total_condos_sold_2nd_month = input()"
   ]
  },
  {
   "cell_type": "code",
   "execution_count": 6,
   "id": "229637ce",
   "metadata": {},
   "outputs": [
    {
     "name": "stdout",
     "output_type": "stream",
     "text": [
      "Input total sales volume ($$$ million) from previous (not last) month:\n",
      "261000000\n"
     ]
    }
   ],
   "source": [
    "print('Input total sales volume ($$$ million) from previous (not last) month:')\n",
    "sales_volume_2nd_month = input()"
   ]
  },
  {
   "cell_type": "code",
   "execution_count": 7,
   "id": "081faeec",
   "metadata": {},
   "outputs": [
    {
     "name": "stdout",
     "output_type": "stream",
     "text": [
      "Input median sales price from previous (not last) month:\n",
      "235000\n"
     ]
    }
   ],
   "source": [
    "print('Input median sales price from previous (not last) month:')\n",
    "median_sales_price_2nd_month = input()"
   ]
  },
  {
   "cell_type": "code",
   "execution_count": 8,
   "id": "cdac5fe9",
   "metadata": {},
   "outputs": [
    {
     "name": "stdout",
     "output_type": "stream",
     "text": [
      "Input median psf from previous (not last) month:\n",
      "232\n"
     ]
    }
   ],
   "source": [
    "print('Input median psf from previous (not last) month:')\n",
    "median_psf_2nd_month = input()"
   ]
  },
  {
   "cell_type": "markdown",
   "id": "b03ce742",
   "metadata": {},
   "source": [
    "## Data Clean"
   ]
  },
  {
   "cell_type": "code",
   "execution_count": 9,
   "id": "1f2a52a3",
   "metadata": {},
   "outputs": [],
   "source": [
    "df = df.rename(columns={'URL (SEE https://www.redfin.com/buy-a-home/comparative-market-analysis FOR INFO ON PRICING)':'URL'})"
   ]
  },
  {
   "cell_type": "code",
   "execution_count": 10,
   "id": "5f45bf08",
   "metadata": {},
   "outputs": [],
   "source": [
    "df = df.dropna(subset=['SOLD DATE'])"
   ]
  },
  {
   "cell_type": "code",
   "execution_count": 11,
   "id": "25d1852d",
   "metadata": {},
   "outputs": [
    {
     "name": "stdout",
     "output_type": "stream",
     "text": [
      "Report month: August ---- Month before report month: July\n"
     ]
    }
   ],
   "source": [
    "# Get the current date\n",
    "current_date = datetime.now()\n",
    "\n",
    "# Calculate the first day of the current month\n",
    "first_day_of_current_month = current_date.replace(day=1)\n",
    "\n",
    "# Get the last day of the previous month by subtracting one day from the first day of the current month\n",
    "last_day_of_previous_month = first_day_of_current_month - timedelta(days=1)\n",
    "\n",
    "# Get the month name of the previous month\n",
    "previous_month_name = last_day_of_previous_month.strftime(\"%B\")\n",
    "\n",
    "# ---- Get the name of the month, as a string, from two months ago.\n",
    "# ---- Meaning, if the current month is January, return November.\n",
    "\n",
    "# Get the first day of the previous month by subtracting one day from the first day of the current month\n",
    "first_day_of_previous_month = first_day_of_current_month - timedelta(days=1)\n",
    "\n",
    "# Get the first day of the month before the last by subtracting one day from the first day of the previous month\n",
    "first_day_of_month_before_last = first_day_of_previous_month.replace(day=1) - timedelta(days=1)\n",
    "\n",
    "# Get the month name of the month before the last\n",
    "month_before_last_name = first_day_of_month_before_last.strftime(\"%B\")\n",
    "\n",
    "print(f'Report month: {previous_month_name} ---- Month before report month: {month_before_last_name}')"
   ]
  },
  {
   "cell_type": "code",
   "execution_count": 12,
   "id": "9b9d20ba",
   "metadata": {},
   "outputs": [],
   "source": [
    "# Define list of desired months (excluding current month)\n",
    "desired_months = [previous_month_name]\n",
    "\n",
    "# Filter DataFrame to include only entries from desired months\n",
    "df_filtered = df[df['SOLD DATE'].str.split('-', expand=True)[0].isin(desired_months)]\n",
    "\n",
    "# Reset the index\n",
    "df_filtered = df_filtered.reset_index(drop=True)"
   ]
  },
  {
   "cell_type": "code",
   "execution_count": 13,
   "id": "ab2d002c",
   "metadata": {},
   "outputs": [
    {
     "name": "stdout",
     "output_type": "stream",
     "text": [
      "PRICE\n",
      "False    965\n",
      "Name: count, dtype: int64\n",
      "-------\n",
      "$/SQUARE FEET\n",
      "False    961\n",
      "True       4\n",
      "Name: count, dtype: int64\n",
      "-------\n",
      "YEAR BUILT\n",
      "False    965\n",
      "Name: count, dtype: int64\n",
      "-------\n"
     ]
    }
   ],
   "source": [
    "# Data checks\n",
    "print(df_filtered['PRICE'].isna().value_counts())\n",
    "print('-------')\n",
    "print(df_filtered['$/SQUARE FEET'].isna().value_counts())\n",
    "print('-------')\n",
    "print(df_filtered['YEAR BUILT'].isna().value_counts())\n",
    "print('-------')"
   ]
  },
  {
   "cell_type": "code",
   "execution_count": 14,
   "id": "446eb268",
   "metadata": {},
   "outputs": [
    {
     "name": "stdout",
     "output_type": "stream",
     "text": [
      "https://www.redfin.com/FL/Fort-Lauderdale/100-E-Las-Olas-Blvd-33301/unit-3701/home/147485697\n"
     ]
    }
   ],
   "source": [
    "sorted_df = df_filtered.sort_values(by='YEAR BUILT', ascending=False)\n",
    "second_newest_building = sorted_df.iloc[2]\n",
    "print(second_newest_building['URL'])"
   ]
  },
  {
   "cell_type": "code",
   "execution_count": 15,
   "id": "61663e76",
   "metadata": {},
   "outputs": [
    {
     "data": {
      "text/html": [
       "<div>\n",
       "<style scoped>\n",
       "    .dataframe tbody tr th:only-of-type {\n",
       "        vertical-align: middle;\n",
       "    }\n",
       "\n",
       "    .dataframe tbody tr th {\n",
       "        vertical-align: top;\n",
       "    }\n",
       "\n",
       "    .dataframe thead th {\n",
       "        text-align: right;\n",
       "    }\n",
       "</style>\n",
       "<table border=\"1\" class=\"dataframe\">\n",
       "  <thead>\n",
       "    <tr style=\"text-align: right;\">\n",
       "      <th></th>\n",
       "      <th>SALE TYPE</th>\n",
       "      <th>SOLD DATE</th>\n",
       "      <th>PROPERTY TYPE</th>\n",
       "      <th>ADDRESS</th>\n",
       "      <th>CITY</th>\n",
       "      <th>STATE OR PROVINCE</th>\n",
       "      <th>ZIP OR POSTAL CODE</th>\n",
       "      <th>PRICE</th>\n",
       "      <th>BEDS</th>\n",
       "      <th>BATHS</th>\n",
       "      <th>...</th>\n",
       "      <th>STATUS</th>\n",
       "      <th>NEXT OPEN HOUSE START TIME</th>\n",
       "      <th>NEXT OPEN HOUSE END TIME</th>\n",
       "      <th>URL</th>\n",
       "      <th>SOURCE</th>\n",
       "      <th>MLS#</th>\n",
       "      <th>FAVORITE</th>\n",
       "      <th>INTERESTED</th>\n",
       "      <th>LATITUDE</th>\n",
       "      <th>LONGITUDE</th>\n",
       "    </tr>\n",
       "  </thead>\n",
       "  <tbody>\n",
       "  </tbody>\n",
       "</table>\n",
       "<p>0 rows × 27 columns</p>\n",
       "</div>"
      ],
      "text/plain": [
       "Empty DataFrame\n",
       "Columns: [SALE TYPE, SOLD DATE, PROPERTY TYPE, ADDRESS, CITY, STATE OR PROVINCE, ZIP OR POSTAL CODE, PRICE, BEDS, BATHS, LOCATION, SQUARE FEET, LOT SIZE, YEAR BUILT, DAYS ON MARKET, $/SQUARE FEET, HOA/MONTH, STATUS, NEXT OPEN HOUSE START TIME, NEXT OPEN HOUSE END TIME, URL, SOURCE, MLS#, FAVORITE, INTERESTED, LATITUDE, LONGITUDE]\n",
       "Index: []\n",
       "\n",
       "[0 rows x 27 columns]"
      ]
     },
     "execution_count": 15,
     "metadata": {},
     "output_type": "execute_result"
    }
   ],
   "source": [
    "df_filtered.loc[df_filtered['PRICE'] == '0']"
   ]
  },
  {
   "cell_type": "code",
   "execution_count": 16,
   "id": "b0376d17",
   "metadata": {},
   "outputs": [],
   "source": [
    "df_filtered['PRICE'] = pd.to_numeric(df_filtered['PRICE'])\n",
    "df_filtered['$/SQUARE FEET'] = pd.to_numeric(df_filtered['$/SQUARE FEET'])\n",
    "df_filtered['YEAR BUILT'] = pd.to_numeric(df_filtered['YEAR BUILT'])\n",
    "df_filtered['LATITUDE'] = pd.to_numeric(df_filtered['LATITUDE'])\n",
    "df_filtered['LONGITUDE'] = pd.to_numeric(df_filtered['LONGITUDE'])"
   ]
  },
  {
   "cell_type": "code",
   "execution_count": 17,
   "id": "22be7f44",
   "metadata": {},
   "outputs": [],
   "source": [
    "df_filtered = df_filtered.drop_duplicates().reset_index(drop=True)"
   ]
  },
  {
   "cell_type": "code",
   "execution_count": 18,
   "id": "a5e15306",
   "metadata": {},
   "outputs": [
    {
     "data": {
      "text/html": [
       "<div>\n",
       "<style scoped>\n",
       "    .dataframe tbody tr th:only-of-type {\n",
       "        vertical-align: middle;\n",
       "    }\n",
       "\n",
       "    .dataframe tbody tr th {\n",
       "        vertical-align: top;\n",
       "    }\n",
       "\n",
       "    .dataframe thead th {\n",
       "        text-align: right;\n",
       "    }\n",
       "</style>\n",
       "<table border=\"1\" class=\"dataframe\">\n",
       "  <thead>\n",
       "    <tr style=\"text-align: right;\">\n",
       "      <th></th>\n",
       "      <th>SALE TYPE</th>\n",
       "      <th>SOLD DATE</th>\n",
       "      <th>PROPERTY TYPE</th>\n",
       "      <th>ADDRESS</th>\n",
       "      <th>CITY</th>\n",
       "      <th>STATE OR PROVINCE</th>\n",
       "      <th>ZIP OR POSTAL CODE</th>\n",
       "      <th>PRICE</th>\n",
       "      <th>BEDS</th>\n",
       "      <th>BATHS</th>\n",
       "      <th>...</th>\n",
       "      <th>STATUS</th>\n",
       "      <th>NEXT OPEN HOUSE START TIME</th>\n",
       "      <th>NEXT OPEN HOUSE END TIME</th>\n",
       "      <th>URL</th>\n",
       "      <th>SOURCE</th>\n",
       "      <th>MLS#</th>\n",
       "      <th>FAVORITE</th>\n",
       "      <th>INTERESTED</th>\n",
       "      <th>LATITUDE</th>\n",
       "      <th>LONGITUDE</th>\n",
       "    </tr>\n",
       "  </thead>\n",
       "  <tbody>\n",
       "    <tr>\n",
       "      <th>29</th>\n",
       "      <td>PAST SALE</td>\n",
       "      <td>August-22-2024</td>\n",
       "      <td>Condo/Co-op</td>\n",
       "      <td>3690 Inverrary Dr Unit 1N</td>\n",
       "      <td>Lauderhill</td>\n",
       "      <td>FL</td>\n",
       "      <td>33319.0</td>\n",
       "      <td>122.0</td>\n",
       "      <td>1.0</td>\n",
       "      <td>1.5</td>\n",
       "      <td>...</td>\n",
       "      <td>Sold</td>\n",
       "      <td>NaN</td>\n",
       "      <td>NaN</td>\n",
       "      <td>https://www.redfin.com/FL/Lauderhill/3690-Inve...</td>\n",
       "      <td>Beaches MLS</td>\n",
       "      <td>F10446207</td>\n",
       "      <td>N</td>\n",
       "      <td>Y</td>\n",
       "      <td>26.171291</td>\n",
       "      <td>-80.230322</td>\n",
       "    </tr>\n",
       "    <tr>\n",
       "      <th>50</th>\n",
       "      <td>PAST SALE</td>\n",
       "      <td>August-15-2024</td>\n",
       "      <td>Condo/Co-op</td>\n",
       "      <td>4270 NW 89th Ave #101</td>\n",
       "      <td>Coral Springs</td>\n",
       "      <td>FL</td>\n",
       "      <td>33065.0</td>\n",
       "      <td>188.0</td>\n",
       "      <td>2.0</td>\n",
       "      <td>2.0</td>\n",
       "      <td>...</td>\n",
       "      <td>Sold</td>\n",
       "      <td>NaN</td>\n",
       "      <td>NaN</td>\n",
       "      <td>https://www.redfin.com/FL/Coral-Springs/4270-N...</td>\n",
       "      <td>MARMLS</td>\n",
       "      <td>A11576877</td>\n",
       "      <td>N</td>\n",
       "      <td>Y</td>\n",
       "      <td>26.282147</td>\n",
       "      <td>-80.245441</td>\n",
       "    </tr>\n",
       "    <tr>\n",
       "      <th>80</th>\n",
       "      <td>PAST SALE</td>\n",
       "      <td>August-26-2024</td>\n",
       "      <td>Condo/Co-op</td>\n",
       "      <td>4304 NW 9th Ave Unit 2-3B</td>\n",
       "      <td>Deerfield Beach</td>\n",
       "      <td>FL</td>\n",
       "      <td>33064.0</td>\n",
       "      <td>200.0</td>\n",
       "      <td>2.0</td>\n",
       "      <td>2.0</td>\n",
       "      <td>...</td>\n",
       "      <td>Sold</td>\n",
       "      <td>NaN</td>\n",
       "      <td>NaN</td>\n",
       "      <td>https://www.redfin.com/FL/Deerfield-Beach/4304...</td>\n",
       "      <td>Beaches MLS</td>\n",
       "      <td>F10408643</td>\n",
       "      <td>N</td>\n",
       "      <td>Y</td>\n",
       "      <td>26.283701</td>\n",
       "      <td>-80.134083</td>\n",
       "    </tr>\n",
       "    <tr>\n",
       "      <th>22</th>\n",
       "      <td>PAST SALE</td>\n",
       "      <td>August-29-2024</td>\n",
       "      <td>Condo/Co-op</td>\n",
       "      <td>301 N Pine Island Rd #102</td>\n",
       "      <td>Plantation</td>\n",
       "      <td>FL</td>\n",
       "      <td>33324.0</td>\n",
       "      <td>260.0</td>\n",
       "      <td>2.0</td>\n",
       "      <td>2.0</td>\n",
       "      <td>...</td>\n",
       "      <td>Sold</td>\n",
       "      <td>NaN</td>\n",
       "      <td>NaN</td>\n",
       "      <td>https://www.redfin.com/FL/Plantation/301-N-Pin...</td>\n",
       "      <td>MARMLS</td>\n",
       "      <td>A11617580</td>\n",
       "      <td>N</td>\n",
       "      <td>Y</td>\n",
       "      <td>26.123358</td>\n",
       "      <td>-80.264762</td>\n",
       "    </tr>\n",
       "    <tr>\n",
       "      <th>28</th>\n",
       "      <td>PAST SALE</td>\n",
       "      <td>August-1-2024</td>\n",
       "      <td>Condo/Co-op</td>\n",
       "      <td>1470 N Dixie Hwy #33</td>\n",
       "      <td>Fort Lauderdale</td>\n",
       "      <td>FL</td>\n",
       "      <td>33304.0</td>\n",
       "      <td>21000.0</td>\n",
       "      <td>2.0</td>\n",
       "      <td>1.0</td>\n",
       "      <td>...</td>\n",
       "      <td>Sold</td>\n",
       "      <td>NaN</td>\n",
       "      <td>NaN</td>\n",
       "      <td>https://www.redfin.com/FL/Fort-Lauderdale/1470...</td>\n",
       "      <td>MARMLS</td>\n",
       "      <td>A11588584</td>\n",
       "      <td>N</td>\n",
       "      <td>Y</td>\n",
       "      <td>26.146156</td>\n",
       "      <td>-80.134920</td>\n",
       "    </tr>\n",
       "    <tr>\n",
       "      <th>4</th>\n",
       "      <td>PAST SALE</td>\n",
       "      <td>August-15-2024</td>\n",
       "      <td>Condo/Co-op</td>\n",
       "      <td>2705 NW 104 Ave #301</td>\n",
       "      <td>Sunrise</td>\n",
       "      <td>FL</td>\n",
       "      <td>33322.0</td>\n",
       "      <td>24300.0</td>\n",
       "      <td>2.0</td>\n",
       "      <td>2.0</td>\n",
       "      <td>...</td>\n",
       "      <td>Sold</td>\n",
       "      <td>NaN</td>\n",
       "      <td>NaN</td>\n",
       "      <td>https://www.redfin.com/FL/Sunrise/2705-NW-104t...</td>\n",
       "      <td>MARMLS</td>\n",
       "      <td>A11576992</td>\n",
       "      <td>N</td>\n",
       "      <td>Y</td>\n",
       "      <td>26.159423</td>\n",
       "      <td>-80.288916</td>\n",
       "    </tr>\n",
       "    <tr>\n",
       "      <th>59</th>\n",
       "      <td>PAST SALE</td>\n",
       "      <td>August-23-2024</td>\n",
       "      <td>Condo/Co-op</td>\n",
       "      <td>1759 NW 81st Way #1759</td>\n",
       "      <td>Plantation</td>\n",
       "      <td>FL</td>\n",
       "      <td>33322.0</td>\n",
       "      <td>30000.0</td>\n",
       "      <td>2.0</td>\n",
       "      <td>2.0</td>\n",
       "      <td>...</td>\n",
       "      <td>Sold</td>\n",
       "      <td>NaN</td>\n",
       "      <td>NaN</td>\n",
       "      <td>https://www.redfin.com/FL/Plantation/1759-NW-8...</td>\n",
       "      <td>MARMLS</td>\n",
       "      <td>A11549882</td>\n",
       "      <td>N</td>\n",
       "      <td>Y</td>\n",
       "      <td>26.145025</td>\n",
       "      <td>-80.260291</td>\n",
       "    </tr>\n",
       "    <tr>\n",
       "      <th>83</th>\n",
       "      <td>PAST SALE</td>\n",
       "      <td>August-29-2024</td>\n",
       "      <td>Condo/Co-op</td>\n",
       "      <td>9601 Sunrise Lakes Blvd #106</td>\n",
       "      <td>Sunrise</td>\n",
       "      <td>FL</td>\n",
       "      <td>33322.0</td>\n",
       "      <td>59000.0</td>\n",
       "      <td>1.0</td>\n",
       "      <td>1.0</td>\n",
       "      <td>...</td>\n",
       "      <td>Sold</td>\n",
       "      <td>NaN</td>\n",
       "      <td>NaN</td>\n",
       "      <td>https://www.redfin.com/FL/Sunrise/9601-Sunrise...</td>\n",
       "      <td>Beaches MLS</td>\n",
       "      <td>F10421054</td>\n",
       "      <td>N</td>\n",
       "      <td>Y</td>\n",
       "      <td>26.163650</td>\n",
       "      <td>-80.275854</td>\n",
       "    </tr>\n",
       "    <tr>\n",
       "      <th>77</th>\n",
       "      <td>PAST SALE</td>\n",
       "      <td>August-23-2024</td>\n",
       "      <td>Condo/Co-op</td>\n",
       "      <td>9480 Sunrise Lakes Blvd #306</td>\n",
       "      <td>Sunrise</td>\n",
       "      <td>FL</td>\n",
       "      <td>33322.0</td>\n",
       "      <td>60000.0</td>\n",
       "      <td>1.0</td>\n",
       "      <td>1.0</td>\n",
       "      <td>...</td>\n",
       "      <td>Sold</td>\n",
       "      <td>NaN</td>\n",
       "      <td>NaN</td>\n",
       "      <td>https://www.redfin.com/FL/Sunrise/9480-Sunrise...</td>\n",
       "      <td>Beaches MLS</td>\n",
       "      <td>F10427195</td>\n",
       "      <td>N</td>\n",
       "      <td>Y</td>\n",
       "      <td>26.159441</td>\n",
       "      <td>-80.278265</td>\n",
       "    </tr>\n",
       "    <tr>\n",
       "      <th>61</th>\n",
       "      <td>PAST SALE</td>\n",
       "      <td>August-30-2024</td>\n",
       "      <td>Condo/Co-op</td>\n",
       "      <td>8100 SW 24th St #310</td>\n",
       "      <td>North Lauderdale</td>\n",
       "      <td>FL</td>\n",
       "      <td>33068.0</td>\n",
       "      <td>60000.0</td>\n",
       "      <td>1.0</td>\n",
       "      <td>1.5</td>\n",
       "      <td>...</td>\n",
       "      <td>Sold</td>\n",
       "      <td>NaN</td>\n",
       "      <td>NaN</td>\n",
       "      <td>https://www.redfin.com/FL/North-Lauderdale/810...</td>\n",
       "      <td>Beaches MLS</td>\n",
       "      <td>F10435611</td>\n",
       "      <td>N</td>\n",
       "      <td>Y</td>\n",
       "      <td>26.199049</td>\n",
       "      <td>-80.236998</td>\n",
       "    </tr>\n",
       "    <tr>\n",
       "      <th>3</th>\n",
       "      <td>PAST SALE</td>\n",
       "      <td>August-28-2024</td>\n",
       "      <td>Condo/Co-op</td>\n",
       "      <td>5750 NW 64th Ave #304</td>\n",
       "      <td>Tamarac</td>\n",
       "      <td>FL</td>\n",
       "      <td>33319.0</td>\n",
       "      <td>65000.0</td>\n",
       "      <td>2.0</td>\n",
       "      <td>2.0</td>\n",
       "      <td>...</td>\n",
       "      <td>Sold</td>\n",
       "      <td>NaN</td>\n",
       "      <td>NaN</td>\n",
       "      <td>https://www.redfin.com/FL/Tamarac/5750-NW-64th...</td>\n",
       "      <td>Beaches MLS</td>\n",
       "      <td>F10450785</td>\n",
       "      <td>N</td>\n",
       "      <td>Y</td>\n",
       "      <td>26.196477</td>\n",
       "      <td>-80.235329</td>\n",
       "    </tr>\n",
       "    <tr>\n",
       "      <th>45</th>\n",
       "      <td>PAST SALE</td>\n",
       "      <td>August-9-2024</td>\n",
       "      <td>Condo/Co-op</td>\n",
       "      <td>9601 Sunrise Lakes Blvd #206</td>\n",
       "      <td>Sunrise</td>\n",
       "      <td>FL</td>\n",
       "      <td>33322.0</td>\n",
       "      <td>70000.0</td>\n",
       "      <td>1.0</td>\n",
       "      <td>1.0</td>\n",
       "      <td>...</td>\n",
       "      <td>Sold</td>\n",
       "      <td>NaN</td>\n",
       "      <td>NaN</td>\n",
       "      <td>https://www.redfin.com/FL/Sunrise/9601-Sunrise...</td>\n",
       "      <td>MARMLS</td>\n",
       "      <td>A11581825</td>\n",
       "      <td>N</td>\n",
       "      <td>Y</td>\n",
       "      <td>26.163650</td>\n",
       "      <td>-80.275854</td>\n",
       "    </tr>\n",
       "    <tr>\n",
       "      <th>49</th>\n",
       "      <td>PAST SALE</td>\n",
       "      <td>August-16-2024</td>\n",
       "      <td>Condo/Co-op</td>\n",
       "      <td>9351 Lime Bay Blvd #209</td>\n",
       "      <td>Tamarac</td>\n",
       "      <td>FL</td>\n",
       "      <td>33321.0</td>\n",
       "      <td>70000.0</td>\n",
       "      <td>1.0</td>\n",
       "      <td>1.5</td>\n",
       "      <td>...</td>\n",
       "      <td>Sold</td>\n",
       "      <td>NaN</td>\n",
       "      <td>NaN</td>\n",
       "      <td>https://www.redfin.com/FL/Tamarac/9351-Lime-Ba...</td>\n",
       "      <td>Beaches MLS</td>\n",
       "      <td>F10429893</td>\n",
       "      <td>N</td>\n",
       "      <td>Y</td>\n",
       "      <td>26.207404</td>\n",
       "      <td>-80.277558</td>\n",
       "    </tr>\n",
       "    <tr>\n",
       "      <th>16</th>\n",
       "      <td>PAST SALE</td>\n",
       "      <td>August-23-2024</td>\n",
       "      <td>Condo/Co-op</td>\n",
       "      <td>231 Oakridge N #231</td>\n",
       "      <td>Deerfield Beach</td>\n",
       "      <td>FL</td>\n",
       "      <td>33442.0</td>\n",
       "      <td>70000.0</td>\n",
       "      <td>1.0</td>\n",
       "      <td>1.5</td>\n",
       "      <td>...</td>\n",
       "      <td>Sold</td>\n",
       "      <td>NaN</td>\n",
       "      <td>NaN</td>\n",
       "      <td>https://www.redfin.com/FL/Deerfield-Beach/231-...</td>\n",
       "      <td>Beaches MLS</td>\n",
       "      <td>F10445338</td>\n",
       "      <td>N</td>\n",
       "      <td>Y</td>\n",
       "      <td>26.306198</td>\n",
       "      <td>-80.141062</td>\n",
       "    </tr>\n",
       "    <tr>\n",
       "      <th>51</th>\n",
       "      <td>PAST SALE</td>\n",
       "      <td>August-22-2024</td>\n",
       "      <td>Condo/Co-op</td>\n",
       "      <td>8100 SW 24th St #112</td>\n",
       "      <td>North Lauderdale</td>\n",
       "      <td>FL</td>\n",
       "      <td>33068.0</td>\n",
       "      <td>72500.0</td>\n",
       "      <td>2.0</td>\n",
       "      <td>2.0</td>\n",
       "      <td>...</td>\n",
       "      <td>Sold</td>\n",
       "      <td>NaN</td>\n",
       "      <td>NaN</td>\n",
       "      <td>https://www.redfin.com/FL/North-Lauderdale/810...</td>\n",
       "      <td>Beaches MLS</td>\n",
       "      <td>F10432285</td>\n",
       "      <td>N</td>\n",
       "      <td>Y</td>\n",
       "      <td>26.199049</td>\n",
       "      <td>-80.236998</td>\n",
       "    </tr>\n",
       "    <tr>\n",
       "      <th>11</th>\n",
       "      <td>PAST SALE</td>\n",
       "      <td>August-29-2024</td>\n",
       "      <td>Condo/Co-op</td>\n",
       "      <td>7305 W Atlantic Blvd #204</td>\n",
       "      <td>Margate</td>\n",
       "      <td>FL</td>\n",
       "      <td>33063.0</td>\n",
       "      <td>72599.0</td>\n",
       "      <td>1.0</td>\n",
       "      <td>1.0</td>\n",
       "      <td>...</td>\n",
       "      <td>Sold</td>\n",
       "      <td>NaN</td>\n",
       "      <td>NaN</td>\n",
       "      <td>https://www.redfin.com/FL/Margate/7305-W-Atlan...</td>\n",
       "      <td>Beaches MLS</td>\n",
       "      <td>F10448487</td>\n",
       "      <td>N</td>\n",
       "      <td>Y</td>\n",
       "      <td>26.235806</td>\n",
       "      <td>-80.223208</td>\n",
       "    </tr>\n",
       "    <tr>\n",
       "      <th>48</th>\n",
       "      <td>PAST SALE</td>\n",
       "      <td>August-13-2024</td>\n",
       "      <td>Condo/Co-op</td>\n",
       "      <td>2061 NW 47th Ter #214</td>\n",
       "      <td>Lauderhill</td>\n",
       "      <td>FL</td>\n",
       "      <td>33313.0</td>\n",
       "      <td>75000.0</td>\n",
       "      <td>1.0</td>\n",
       "      <td>1.5</td>\n",
       "      <td>...</td>\n",
       "      <td>Sold</td>\n",
       "      <td>NaN</td>\n",
       "      <td>NaN</td>\n",
       "      <td>https://www.redfin.com/FL/Lauderhill/2061-NW-4...</td>\n",
       "      <td>MARMLS</td>\n",
       "      <td>A11580434</td>\n",
       "      <td>N</td>\n",
       "      <td>Y</td>\n",
       "      <td>26.152376</td>\n",
       "      <td>-80.213143</td>\n",
       "    </tr>\n",
       "    <tr>\n",
       "      <th>23</th>\n",
       "      <td>PAST SALE</td>\n",
       "      <td>August-9-2024</td>\n",
       "      <td>Condo/Co-op</td>\n",
       "      <td>2501 NW 41st Ave #402</td>\n",
       "      <td>Lauderhill</td>\n",
       "      <td>FL</td>\n",
       "      <td>33313.0</td>\n",
       "      <td>75000.0</td>\n",
       "      <td>1.0</td>\n",
       "      <td>1.0</td>\n",
       "      <td>...</td>\n",
       "      <td>Sold</td>\n",
       "      <td>NaN</td>\n",
       "      <td>NaN</td>\n",
       "      <td>https://www.redfin.com/FL/Lauderhill/2501-NW-4...</td>\n",
       "      <td>MARMLS</td>\n",
       "      <td>A11579927</td>\n",
       "      <td>N</td>\n",
       "      <td>Y</td>\n",
       "      <td>26.157702</td>\n",
       "      <td>-80.204542</td>\n",
       "    </tr>\n",
       "    <tr>\n",
       "      <th>36</th>\n",
       "      <td>PAST SALE</td>\n",
       "      <td>August-6-2024</td>\n",
       "      <td>Condo/Co-op</td>\n",
       "      <td>9460 Sunrise Lakes Blvd #205</td>\n",
       "      <td>Sunrise</td>\n",
       "      <td>FL</td>\n",
       "      <td>33322.0</td>\n",
       "      <td>77000.0</td>\n",
       "      <td>1.0</td>\n",
       "      <td>1.0</td>\n",
       "      <td>...</td>\n",
       "      <td>Sold</td>\n",
       "      <td>NaN</td>\n",
       "      <td>NaN</td>\n",
       "      <td>https://www.redfin.com/FL/Sunrise/9460-Sunrise...</td>\n",
       "      <td>Beaches MLS</td>\n",
       "      <td>F10438624</td>\n",
       "      <td>N</td>\n",
       "      <td>Y</td>\n",
       "      <td>26.158737</td>\n",
       "      <td>-80.278344</td>\n",
       "    </tr>\n",
       "    <tr>\n",
       "      <th>70</th>\n",
       "      <td>PAST SALE</td>\n",
       "      <td>August-13-2024</td>\n",
       "      <td>Condo/Co-op</td>\n",
       "      <td>504 Tilford W #504</td>\n",
       "      <td>Deerfield Beach</td>\n",
       "      <td>FL</td>\n",
       "      <td>33442.0</td>\n",
       "      <td>80000.0</td>\n",
       "      <td>1.0</td>\n",
       "      <td>1.5</td>\n",
       "      <td>...</td>\n",
       "      <td>Sold</td>\n",
       "      <td>NaN</td>\n",
       "      <td>NaN</td>\n",
       "      <td>https://www.redfin.com/FL/Deerfield-Beach/504-...</td>\n",
       "      <td>Beaches MLS</td>\n",
       "      <td>F10404655</td>\n",
       "      <td>N</td>\n",
       "      <td>Y</td>\n",
       "      <td>26.309960</td>\n",
       "      <td>-80.149685</td>\n",
       "    </tr>\n",
       "  </tbody>\n",
       "</table>\n",
       "<p>20 rows × 27 columns</p>\n",
       "</div>"
      ],
      "text/plain": [
       "    SALE TYPE       SOLD DATE PROPERTY TYPE                       ADDRESS  \\\n",
       "29  PAST SALE  August-22-2024   Condo/Co-op     3690 Inverrary Dr Unit 1N   \n",
       "50  PAST SALE  August-15-2024   Condo/Co-op         4270 NW 89th Ave #101   \n",
       "80  PAST SALE  August-26-2024   Condo/Co-op     4304 NW 9th Ave Unit 2-3B   \n",
       "22  PAST SALE  August-29-2024   Condo/Co-op     301 N Pine Island Rd #102   \n",
       "28  PAST SALE   August-1-2024   Condo/Co-op          1470 N Dixie Hwy #33   \n",
       "4   PAST SALE  August-15-2024   Condo/Co-op          2705 NW 104 Ave #301   \n",
       "59  PAST SALE  August-23-2024   Condo/Co-op        1759 NW 81st Way #1759   \n",
       "83  PAST SALE  August-29-2024   Condo/Co-op  9601 Sunrise Lakes Blvd #106   \n",
       "77  PAST SALE  August-23-2024   Condo/Co-op  9480 Sunrise Lakes Blvd #306   \n",
       "61  PAST SALE  August-30-2024   Condo/Co-op          8100 SW 24th St #310   \n",
       "3   PAST SALE  August-28-2024   Condo/Co-op         5750 NW 64th Ave #304   \n",
       "45  PAST SALE   August-9-2024   Condo/Co-op  9601 Sunrise Lakes Blvd #206   \n",
       "49  PAST SALE  August-16-2024   Condo/Co-op       9351 Lime Bay Blvd #209   \n",
       "16  PAST SALE  August-23-2024   Condo/Co-op           231 Oakridge N #231   \n",
       "51  PAST SALE  August-22-2024   Condo/Co-op          8100 SW 24th St #112   \n",
       "11  PAST SALE  August-29-2024   Condo/Co-op     7305 W Atlantic Blvd #204   \n",
       "48  PAST SALE  August-13-2024   Condo/Co-op         2061 NW 47th Ter #214   \n",
       "23  PAST SALE   August-9-2024   Condo/Co-op         2501 NW 41st Ave #402   \n",
       "36  PAST SALE   August-6-2024   Condo/Co-op  9460 Sunrise Lakes Blvd #205   \n",
       "70  PAST SALE  August-13-2024   Condo/Co-op            504 Tilford W #504   \n",
       "\n",
       "                CITY STATE OR PROVINCE ZIP OR POSTAL CODE    PRICE  BEDS  \\\n",
       "29        Lauderhill                FL            33319.0    122.0   1.0   \n",
       "50     Coral Springs                FL            33065.0    188.0   2.0   \n",
       "80   Deerfield Beach                FL            33064.0    200.0   2.0   \n",
       "22        Plantation                FL            33324.0    260.0   2.0   \n",
       "28   Fort Lauderdale                FL            33304.0  21000.0   2.0   \n",
       "4            Sunrise                FL            33322.0  24300.0   2.0   \n",
       "59        Plantation                FL            33322.0  30000.0   2.0   \n",
       "83           Sunrise                FL            33322.0  59000.0   1.0   \n",
       "77           Sunrise                FL            33322.0  60000.0   1.0   \n",
       "61  North Lauderdale                FL            33068.0  60000.0   1.0   \n",
       "3            Tamarac                FL            33319.0  65000.0   2.0   \n",
       "45           Sunrise                FL            33322.0  70000.0   1.0   \n",
       "49           Tamarac                FL            33321.0  70000.0   1.0   \n",
       "16   Deerfield Beach                FL            33442.0  70000.0   1.0   \n",
       "51  North Lauderdale                FL            33068.0  72500.0   2.0   \n",
       "11           Margate                FL            33063.0  72599.0   1.0   \n",
       "48        Lauderhill                FL            33313.0  75000.0   1.0   \n",
       "23        Lauderhill                FL            33313.0  75000.0   1.0   \n",
       "36           Sunrise                FL            33322.0  77000.0   1.0   \n",
       "70   Deerfield Beach                FL            33442.0  80000.0   1.0   \n",
       "\n",
       "    BATHS  ... STATUS  NEXT OPEN HOUSE START TIME  NEXT OPEN HOUSE END TIME  \\\n",
       "29    1.5  ...   Sold                         NaN                       NaN   \n",
       "50    2.0  ...   Sold                         NaN                       NaN   \n",
       "80    2.0  ...   Sold                         NaN                       NaN   \n",
       "22    2.0  ...   Sold                         NaN                       NaN   \n",
       "28    1.0  ...   Sold                         NaN                       NaN   \n",
       "4     2.0  ...   Sold                         NaN                       NaN   \n",
       "59    2.0  ...   Sold                         NaN                       NaN   \n",
       "83    1.0  ...   Sold                         NaN                       NaN   \n",
       "77    1.0  ...   Sold                         NaN                       NaN   \n",
       "61    1.5  ...   Sold                         NaN                       NaN   \n",
       "3     2.0  ...   Sold                         NaN                       NaN   \n",
       "45    1.0  ...   Sold                         NaN                       NaN   \n",
       "49    1.5  ...   Sold                         NaN                       NaN   \n",
       "16    1.5  ...   Sold                         NaN                       NaN   \n",
       "51    2.0  ...   Sold                         NaN                       NaN   \n",
       "11    1.0  ...   Sold                         NaN                       NaN   \n",
       "48    1.5  ...   Sold                         NaN                       NaN   \n",
       "23    1.0  ...   Sold                         NaN                       NaN   \n",
       "36    1.0  ...   Sold                         NaN                       NaN   \n",
       "70    1.5  ...   Sold                         NaN                       NaN   \n",
       "\n",
       "                                                  URL       SOURCE       MLS#  \\\n",
       "29  https://www.redfin.com/FL/Lauderhill/3690-Inve...  Beaches MLS  F10446207   \n",
       "50  https://www.redfin.com/FL/Coral-Springs/4270-N...       MARMLS  A11576877   \n",
       "80  https://www.redfin.com/FL/Deerfield-Beach/4304...  Beaches MLS  F10408643   \n",
       "22  https://www.redfin.com/FL/Plantation/301-N-Pin...       MARMLS  A11617580   \n",
       "28  https://www.redfin.com/FL/Fort-Lauderdale/1470...       MARMLS  A11588584   \n",
       "4   https://www.redfin.com/FL/Sunrise/2705-NW-104t...       MARMLS  A11576992   \n",
       "59  https://www.redfin.com/FL/Plantation/1759-NW-8...       MARMLS  A11549882   \n",
       "83  https://www.redfin.com/FL/Sunrise/9601-Sunrise...  Beaches MLS  F10421054   \n",
       "77  https://www.redfin.com/FL/Sunrise/9480-Sunrise...  Beaches MLS  F10427195   \n",
       "61  https://www.redfin.com/FL/North-Lauderdale/810...  Beaches MLS  F10435611   \n",
       "3   https://www.redfin.com/FL/Tamarac/5750-NW-64th...  Beaches MLS  F10450785   \n",
       "45  https://www.redfin.com/FL/Sunrise/9601-Sunrise...       MARMLS  A11581825   \n",
       "49  https://www.redfin.com/FL/Tamarac/9351-Lime-Ba...  Beaches MLS  F10429893   \n",
       "16  https://www.redfin.com/FL/Deerfield-Beach/231-...  Beaches MLS  F10445338   \n",
       "51  https://www.redfin.com/FL/North-Lauderdale/810...  Beaches MLS  F10432285   \n",
       "11  https://www.redfin.com/FL/Margate/7305-W-Atlan...  Beaches MLS  F10448487   \n",
       "48  https://www.redfin.com/FL/Lauderhill/2061-NW-4...       MARMLS  A11580434   \n",
       "23  https://www.redfin.com/FL/Lauderhill/2501-NW-4...       MARMLS  A11579927   \n",
       "36  https://www.redfin.com/FL/Sunrise/9460-Sunrise...  Beaches MLS  F10438624   \n",
       "70  https://www.redfin.com/FL/Deerfield-Beach/504-...  Beaches MLS  F10404655   \n",
       "\n",
       "    FAVORITE INTERESTED   LATITUDE  LONGITUDE  \n",
       "29         N          Y  26.171291 -80.230322  \n",
       "50         N          Y  26.282147 -80.245441  \n",
       "80         N          Y  26.283701 -80.134083  \n",
       "22         N          Y  26.123358 -80.264762  \n",
       "28         N          Y  26.146156 -80.134920  \n",
       "4          N          Y  26.159423 -80.288916  \n",
       "59         N          Y  26.145025 -80.260291  \n",
       "83         N          Y  26.163650 -80.275854  \n",
       "77         N          Y  26.159441 -80.278265  \n",
       "61         N          Y  26.199049 -80.236998  \n",
       "3          N          Y  26.196477 -80.235329  \n",
       "45         N          Y  26.163650 -80.275854  \n",
       "49         N          Y  26.207404 -80.277558  \n",
       "16         N          Y  26.306198 -80.141062  \n",
       "51         N          Y  26.199049 -80.236998  \n",
       "11         N          Y  26.235806 -80.223208  \n",
       "48         N          Y  26.152376 -80.213143  \n",
       "23         N          Y  26.157702 -80.204542  \n",
       "36         N          Y  26.158737 -80.278344  \n",
       "70         N          Y  26.309960 -80.149685  \n",
       "\n",
       "[20 rows x 27 columns]"
      ]
     },
     "execution_count": 18,
     "metadata": {},
     "output_type": "execute_result"
    }
   ],
   "source": [
    "df_filtered.sort_values(by='PRICE',ascending=True).head(20)"
   ]
  },
  {
   "cell_type": "code",
   "execution_count": 28,
   "id": "e6256bce",
   "metadata": {},
   "outputs": [
    {
     "name": "stdout",
     "output_type": "stream",
     "text": [
      "https://www.redfin.com/FL/North-Lauderdale/8100-SW-24th-St-33068/unit-310/home/41561916\n"
     ]
    }
   ],
   "source": [
    "print(df_filtered['URL'].iloc[61])"
   ]
  },
  {
   "cell_type": "code",
   "execution_count": 29,
   "id": "fe440217",
   "metadata": {},
   "outputs": [],
   "source": [
    "# Correct the prices, if needed\n",
    "df_filtered.at[29,'PRICE']=(122_000)\n",
    "df_filtered.at[50,'PRICE']=(188_000)\n",
    "df_filtered.at[80,'PRICE']=(200_000)\n",
    "df_filtered.at[22,'PRICE']=(260_000)\n",
    "df_filtered.at[28,'PRICE']=(210_000)\n",
    "df_filtered.at[4,'PRICE']=(243_000)\n",
    "df_filtered.at[59,'PRICE']=(300_000)\n",
    "\n",
    "# Correct the psf, if needed\n",
    "df_filtered.at[29,'$/SQUARE FEET']=(122_000/800)\n",
    "df_filtered.at[50,'$/SQUARE FEET']=(188_000/1070)\n",
    "df_filtered.at[80,'$/SQUARE FEET']=(200_000/1290)\n",
    "df_filtered.at[22,'$/SQUARE FEET']=(260_000/1275)\n",
    "df_filtered.at[28,'$/SQUARE FEET']=(210_000/733)\n",
    "df_filtered.at[4,'$/SQUARE FEET']=(243_000/1370)\n",
    "df_filtered.at[59,'$/SQUARE FEET']=(300_000/1034)"
   ]
  },
  {
   "cell_type": "code",
   "execution_count": 61,
   "id": "e3877a57",
   "metadata": {},
   "outputs": [],
   "source": [
    "### If needed, drop the row with the lowest price\n",
    "# min_value_index = df_filtered['PRICE'].idxmin()\n",
    "# df_filtered = df_filtered.drop(min_value_index)"
   ]
  },
  {
   "cell_type": "code",
   "execution_count": 24,
   "id": "7e529e83",
   "metadata": {},
   "outputs": [],
   "source": [
    "# print(df_filtered['URL'].iloc[528])"
   ]
  },
  {
   "cell_type": "code",
   "execution_count": 30,
   "id": "42d775ef",
   "metadata": {},
   "outputs": [
    {
     "data": {
      "text/html": [
       "<div>\n",
       "<style scoped>\n",
       "    .dataframe tbody tr th:only-of-type {\n",
       "        vertical-align: middle;\n",
       "    }\n",
       "\n",
       "    .dataframe tbody tr th {\n",
       "        vertical-align: top;\n",
       "    }\n",
       "\n",
       "    .dataframe thead th {\n",
       "        text-align: right;\n",
       "    }\n",
       "</style>\n",
       "<table border=\"1\" class=\"dataframe\">\n",
       "  <thead>\n",
       "    <tr style=\"text-align: right;\">\n",
       "      <th></th>\n",
       "      <th>PRICE</th>\n",
       "      <th>ADDRESS</th>\n",
       "      <th>CITY</th>\n",
       "      <th>$/SQUARE FEET</th>\n",
       "    </tr>\n",
       "  </thead>\n",
       "  <tbody>\n",
       "    <tr>\n",
       "      <th>51</th>\n",
       "      <td>72500.0</td>\n",
       "      <td>8100 SW 24th St #112</td>\n",
       "      <td>North Lauderdale</td>\n",
       "      <td>56.0</td>\n",
       "    </tr>\n",
       "    <tr>\n",
       "      <th>61</th>\n",
       "      <td>60000.0</td>\n",
       "      <td>8100 SW 24th St #310</td>\n",
       "      <td>North Lauderdale</td>\n",
       "      <td>71.0</td>\n",
       "    </tr>\n",
       "    <tr>\n",
       "      <th>3</th>\n",
       "      <td>65000.0</td>\n",
       "      <td>5750 NW 64th Ave #304</td>\n",
       "      <td>Tamarac</td>\n",
       "      <td>74.0</td>\n",
       "    </tr>\n",
       "    <tr>\n",
       "      <th>48</th>\n",
       "      <td>75000.0</td>\n",
       "      <td>2061 NW 47th Ter #214</td>\n",
       "      <td>Lauderhill</td>\n",
       "      <td>81.0</td>\n",
       "    </tr>\n",
       "    <tr>\n",
       "      <th>30</th>\n",
       "      <td>90000.0</td>\n",
       "      <td>2850 Somerset Dr Unit 309L</td>\n",
       "      <td>Lauderdale Lakes</td>\n",
       "      <td>89.0</td>\n",
       "    </tr>\n",
       "    <tr>\n",
       "      <th>38</th>\n",
       "      <td>95000.0</td>\n",
       "      <td>3571 Inverrary Dr #103</td>\n",
       "      <td>Lauderhill</td>\n",
       "      <td>89.0</td>\n",
       "    </tr>\n",
       "    <tr>\n",
       "      <th>292</th>\n",
       "      <td>130000.0</td>\n",
       "      <td>6200 S Falls Circle Dr #108</td>\n",
       "      <td>Lauderhill</td>\n",
       "      <td>90.0</td>\n",
       "    </tr>\n",
       "    <tr>\n",
       "      <th>83</th>\n",
       "      <td>59000.0</td>\n",
       "      <td>9601 Sunrise Lakes Blvd #106</td>\n",
       "      <td>Sunrise</td>\n",
       "      <td>92.0</td>\n",
       "    </tr>\n",
       "    <tr>\n",
       "      <th>49</th>\n",
       "      <td>70000.0</td>\n",
       "      <td>9351 Lime Bay Blvd #209</td>\n",
       "      <td>Tamarac</td>\n",
       "      <td>93.0</td>\n",
       "    </tr>\n",
       "    <tr>\n",
       "      <th>52</th>\n",
       "      <td>80000.0</td>\n",
       "      <td>10303 Sunrise Lakes Blvd #206</td>\n",
       "      <td>Sunrise</td>\n",
       "      <td>93.0</td>\n",
       "    </tr>\n",
       "    <tr>\n",
       "      <th>2</th>\n",
       "      <td>86000.0</td>\n",
       "      <td>3301 Spanish Moss Ter #420</td>\n",
       "      <td>Lauderhill</td>\n",
       "      <td>94.0</td>\n",
       "    </tr>\n",
       "    <tr>\n",
       "      <th>77</th>\n",
       "      <td>60000.0</td>\n",
       "      <td>9480 Sunrise Lakes Blvd #306</td>\n",
       "      <td>Sunrise</td>\n",
       "      <td>94.0</td>\n",
       "    </tr>\n",
       "    <tr>\n",
       "      <th>54</th>\n",
       "      <td>110000.0</td>\n",
       "      <td>7051 Environ Blvd #433</td>\n",
       "      <td>Lauderhill</td>\n",
       "      <td>96.0</td>\n",
       "    </tr>\n",
       "    <tr>\n",
       "      <th>14</th>\n",
       "      <td>105000.0</td>\n",
       "      <td>4090 NW 42nd Ave #305</td>\n",
       "      <td>Lauderdale Lakes</td>\n",
       "      <td>97.0</td>\n",
       "    </tr>\n",
       "    <tr>\n",
       "      <th>23</th>\n",
       "      <td>75000.0</td>\n",
       "      <td>2501 NW 41st Ave #402</td>\n",
       "      <td>Lauderhill</td>\n",
       "      <td>99.0</td>\n",
       "    </tr>\n",
       "    <tr>\n",
       "      <th>78</th>\n",
       "      <td>112500.0</td>\n",
       "      <td>6301 N Falls Cir Dr #405</td>\n",
       "      <td>Lauderhill</td>\n",
       "      <td>100.0</td>\n",
       "    </tr>\n",
       "    <tr>\n",
       "      <th>13</th>\n",
       "      <td>95000.0</td>\n",
       "      <td>1490 NW 43rd Ave #301</td>\n",
       "      <td>Lauderhill</td>\n",
       "      <td>100.0</td>\n",
       "    </tr>\n",
       "    <tr>\n",
       "      <th>16</th>\n",
       "      <td>70000.0</td>\n",
       "      <td>231 Oakridge N #231</td>\n",
       "      <td>Deerfield Beach</td>\n",
       "      <td>100.0</td>\n",
       "    </tr>\n",
       "    <tr>\n",
       "      <th>60</th>\n",
       "      <td>124500.0</td>\n",
       "      <td>4751 NW 21st St #508</td>\n",
       "      <td>Lauderhill</td>\n",
       "      <td>105.0</td>\n",
       "    </tr>\n",
       "    <tr>\n",
       "      <th>297</th>\n",
       "      <td>135000.0</td>\n",
       "      <td>4940 E Sabal Palm Blvd #303</td>\n",
       "      <td>Tamarac</td>\n",
       "      <td>106.0</td>\n",
       "    </tr>\n",
       "  </tbody>\n",
       "</table>\n",
       "</div>"
      ],
      "text/plain": [
       "        PRICE                        ADDRESS              CITY  $/SQUARE FEET\n",
       "51    72500.0           8100 SW 24th St #112  North Lauderdale           56.0\n",
       "61    60000.0           8100 SW 24th St #310  North Lauderdale           71.0\n",
       "3     65000.0          5750 NW 64th Ave #304           Tamarac           74.0\n",
       "48    75000.0          2061 NW 47th Ter #214        Lauderhill           81.0\n",
       "30    90000.0     2850 Somerset Dr Unit 309L  Lauderdale Lakes           89.0\n",
       "38    95000.0         3571 Inverrary Dr #103        Lauderhill           89.0\n",
       "292  130000.0    6200 S Falls Circle Dr #108        Lauderhill           90.0\n",
       "83    59000.0   9601 Sunrise Lakes Blvd #106           Sunrise           92.0\n",
       "49    70000.0        9351 Lime Bay Blvd #209           Tamarac           93.0\n",
       "52    80000.0  10303 Sunrise Lakes Blvd #206           Sunrise           93.0\n",
       "2     86000.0     3301 Spanish Moss Ter #420        Lauderhill           94.0\n",
       "77    60000.0   9480 Sunrise Lakes Blvd #306           Sunrise           94.0\n",
       "54   110000.0         7051 Environ Blvd #433        Lauderhill           96.0\n",
       "14   105000.0          4090 NW 42nd Ave #305  Lauderdale Lakes           97.0\n",
       "23    75000.0          2501 NW 41st Ave #402        Lauderhill           99.0\n",
       "78   112500.0       6301 N Falls Cir Dr #405        Lauderhill          100.0\n",
       "13    95000.0          1490 NW 43rd Ave #301        Lauderhill          100.0\n",
       "16    70000.0            231 Oakridge N #231   Deerfield Beach          100.0\n",
       "60   124500.0           4751 NW 21st St #508        Lauderhill          105.0\n",
       "297  135000.0    4940 E Sabal Palm Blvd #303           Tamarac          106.0"
      ]
     },
     "execution_count": 30,
     "metadata": {},
     "output_type": "execute_result"
    }
   ],
   "source": [
    "# Find problem psf by searching for low values\n",
    "df_filtered.sort_values(by='$/SQUARE FEET',ascending=True).head(20)[['PRICE','ADDRESS','CITY','$/SQUARE FEET']]"
   ]
  },
  {
   "cell_type": "code",
   "execution_count": 63,
   "id": "6895cf71",
   "metadata": {},
   "outputs": [],
   "source": [
    "# # Drop sales that aren't condos but labeled as such\n",
    "# df_filtered = df_filtered.drop(1320)"
   ]
  },
  {
   "cell_type": "markdown",
   "id": "103ad9df",
   "metadata": {},
   "source": [
    "## Make Maps"
   ]
  },
  {
   "cell_type": "code",
   "execution_count": 31,
   "id": "42ad9d63",
   "metadata": {},
   "outputs": [],
   "source": [
    "### Create a price column formatted as currency ###\n",
    "df_filtered['PRICE_AS_CURRENCY'] = df_filtered['PRICE'].apply(lambda x: \"${:,.0f}\".format(x))\n",
    "### Set formatting for Beds, Baths ###\n",
    "df_filtered['YEAR BUILT DISPLAY'] = df_filtered['YEAR BUILT'].apply(lambda x: '{:.0f}'.format(x))\n",
    "df_filtered['PRICE_SQUARE_FEET_AS_CURRENCY'] = df_filtered['$/SQUARE FEET'].apply(lambda x: '${:,.0f}'.format(x))"
   ]
  },
  {
   "cell_type": "code",
   "execution_count": 32,
   "id": "f42ba6b5",
   "metadata": {},
   "outputs": [],
   "source": [
    "df_filtered = df_filtered.sort_values(by=['PRICE'], ascending=False)\n",
    "### Insert different colors for top 10 sales vs. the rest ###\n",
    "df_filtered['COLOR'] = ''\n",
    "### Create RANK column ###\n",
    "df_filtered['RANK'] = 0\n",
    "### Insert RANK values ###\n",
    "df_filtered['RANK'] = range(1, len(df_filtered) + 1)\n",
    "# use numpy to assign values to the 'COLOR' column\n",
    "df_filtered['COLOR'] = np.where(df_filtered['RANK'] <= 10, 'orange', 'blue')"
   ]
  },
  {
   "cell_type": "markdown",
   "id": "99380454",
   "metadata": {},
   "source": [
    "## HTML Popup Formatter"
   ]
  },
  {
   "cell_type": "code",
   "execution_count": 33,
   "id": "6ffa151c",
   "metadata": {},
   "outputs": [],
   "source": [
    "### Define list of columns to drop from DF ###\n",
    "columns_drop = ['SALE TYPE','PROPERTY TYPE','STATE OR PROVINCE','ZIP OR POSTAL CODE','HOA/MONTH','STATUS','NEXT OPEN HOUSE START TIME','NEXT OPEN HOUSE END TIME','SOURCE','MLS#','FAVORITE','INTERESTED','SQUARE FEET','LOT SIZE']"
   ]
  },
  {
   "cell_type": "code",
   "execution_count": 34,
   "id": "b214f9e8",
   "metadata": {},
   "outputs": [],
   "source": [
    "### Drop the columns ###\n",
    "df_filtered = df_filtered.drop(columns=columns_drop)"
   ]
  },
  {
   "cell_type": "code",
   "execution_count": 35,
   "id": "d12c2830",
   "metadata": {},
   "outputs": [],
   "source": [
    "def popup_html(row):\n",
    "    Price = row['PRICE_AS_CURRENCY']\n",
    "    Address = row['ADDRESS']\n",
    "    City = row['CITY']\n",
    "    sold_date = row['SOLD DATE']\n",
    "    beds = row['BEDS']\n",
    "    baths = row['BATHS']\n",
    "    psf = row['PRICE_SQUARE_FEET_AS_CURRENCY']\n",
    "    year_built = row['YEAR BUILT DISPLAY']\n",
    "    rank = row['RANK']\n",
    "    \n",
    "    html = '''<!DOCTYPE html>\n",
    "    <html>\n",
    "    <strong>Price: </strong>{}'''.format(Price) + '''<br>\n",
    "    <strong>Address: </strong>{}'''.format(Address) + '''<br>\n",
    "    <strong>City: </strong>{}'''.format(City) + '''<br>\n",
    "    <strong>Sold: </strong>{}'''.format(sold_date) + '''<br>\n",
    "    <strong>Beds: </strong>{}'''.format(beds) + '''<br>\n",
    "    <strong>Baths: </strong>{}'''.format(baths) + '''<br>\n",
    "    <strong>Price per sf: </strong>{}'''.format(psf) + '''<br>\n",
    "    <strong>Year Built: </strong>{}'''.format(year_built) + '''<br>\n",
    "    <strong>Price Rank: </strong>{}'''.format(rank) + '''\n",
    "    </html>\n",
    "    '''\n",
    "    return html"
   ]
  },
  {
   "cell_type": "code",
   "execution_count": 36,
   "id": "b7fe13d2",
   "metadata": {},
   "outputs": [
    {
     "data": {
      "text/plain": [
       "<folium.map.LayerControl at 0x7fea78303dc0>"
      ]
     },
     "execution_count": 36,
     "metadata": {},
     "output_type": "execute_result"
    }
   ],
   "source": [
    "### Create map container ###\n",
    "m = folium.Map(location=df_filtered[[\"LATITUDE\", \"LONGITUDE\"]].mean().to_list(),zoom_start=10,tiles=None)\n",
    "\n",
    "### Create title ###\n",
    "title_html = '''\n",
    "              <h3 align=\"center\" style=\"font-size:16px\"><b>{}</b></h3>\n",
    "             '''.format(f\"{previous_month_name} 2024 Condo Sales\")\n",
    "\n",
    "m.get_root().html.add_child(folium.Element(title_html))\n",
    "\n",
    "# Create two FeatureGroups for different color pins\n",
    "fg_blue = folium.FeatureGroup(name='All other sales')\n",
    "fg_orange = folium.FeatureGroup(name='Top 10 Sales')\n",
    "\n",
    "folium.GeoJson(gdf,tooltip=f'{county_name}',name=f'{county_name}').add_to(m)\n",
    "\n",
    "for index, row in df_filtered.iterrows():\n",
    "    # Add the markers to the appropriate FeatureGroup based on the color\n",
    "    if row['COLOR'] == 'blue':\n",
    "        marker = folium.Marker(\n",
    "            location=[row['LATITUDE'], row['LONGITUDE']],\n",
    "            radius=5,\n",
    "            fill=True,\n",
    "            icon=folium.Icon(color=row['COLOR']),\n",
    "            popup=folium.Popup(popup_html(row), max_width=400))\n",
    "        marker.add_to(fg_blue)\n",
    "    else:\n",
    "        marker = folium.Marker(\n",
    "            location=[row['LATITUDE'], row['LONGITUDE']],\n",
    "            radius=5,\n",
    "            fill=True,\n",
    "            icon=folium.Icon(color=row['COLOR']),\n",
    "            popup=folium.Popup(popup_html(row), max_width=400))\n",
    "        marker.add_to(fg_orange)\n",
    "\n",
    "# Add the FeatureGroups to the map\n",
    "fg_orange.add_to(m)\n",
    "fg_blue.add_to(m)\n",
    "\n",
    "folium.TileLayer('OpenStreetMap',control=False).add_to(m)\n",
    "\n",
    "# Add LayerControl to the map\n",
    "folium.map.LayerControl(collapsed=False).add_to(m)\n",
    "\n",
    "# Display map\n",
    "# m"
   ]
  },
  {
   "cell_type": "code",
   "execution_count": 37,
   "id": "a704af7f",
   "metadata": {},
   "outputs": [],
   "source": [
    "m.save('index.html')"
   ]
  },
  {
   "cell_type": "markdown",
   "id": "81b7dc98",
   "metadata": {},
   "source": [
    "## Summary Info"
   ]
  },
  {
   "cell_type": "code",
   "execution_count": 38,
   "id": "6910bd5b",
   "metadata": {},
   "outputs": [],
   "source": [
    "BR = '\\n'\n",
    "\n",
    "ME = '\\033[1m' + 'Most Expensive' + '\\033[0m'\n",
    "LE = '\\033[1m' + 'Least Expensive' + '\\033[0m'\n",
    "\n",
    "MAX_PSF = '\\033[1m' + 'Highest Price Per Square Foot' + '\\033[0m'\n",
    "MIN_PSF = '\\033[1m' + 'Lowest Price Per Square Foot' + '\\033[0m'\n",
    "\n",
    "Newest = '\\033[1m' + 'Newest' + '\\033[0m'\n",
    "Oldest = '\\033[1m' + 'Oldest' + '\\033[0m'"
   ]
  },
  {
   "cell_type": "code",
   "execution_count": 39,
   "id": "9d2c1b97",
   "metadata": {},
   "outputs": [
    {
     "data": {
      "text/plain": [
       "Index(['SOLD DATE', 'ADDRESS', 'CITY', 'PRICE', 'BEDS', 'BATHS', 'LOCATION',\n",
       "       'YEAR BUILT', 'DAYS ON MARKET', '$/SQUARE FEET', 'URL', 'LATITUDE',\n",
       "       'LONGITUDE', 'PRICE_AS_CURRENCY', 'YEAR BUILT DISPLAY',\n",
       "       'PRICE_SQUARE_FEET_AS_CURRENCY', 'COLOR', 'RANK'],\n",
       "      dtype='object')"
      ]
     },
     "execution_count": 39,
     "metadata": {},
     "output_type": "execute_result"
    }
   ],
   "source": [
    "df_filtered.columns"
   ]
  },
  {
   "cell_type": "code",
   "execution_count": 40,
   "id": "81280824",
   "metadata": {},
   "outputs": [],
   "source": [
    "df_filtered['FULL_ADDRESS'] = df_filtered['ADDRESS'] + ' ' + df_filtered['CITY']"
   ]
  },
  {
   "cell_type": "code",
   "execution_count": 41,
   "id": "4677d727",
   "metadata": {},
   "outputs": [
    {
     "name": "stdout",
     "output_type": "stream",
     "text": [
      "https://www.redfin.com/FL/Fort-Lauderdale/1060-SE-14th-Pl-33316/unit-16D/home/41806742\n"
     ]
    }
   ],
   "source": [
    "print(df_filtered.loc[df_filtered['YEAR BUILT'].idxmin()]['URL'])"
   ]
  },
  {
   "cell_type": "code",
   "execution_count": 42,
   "id": "39ff9917",
   "metadata": {},
   "outputs": [
    {
     "name": "stdout",
     "output_type": "stream",
     "text": [
      "\u001b[1mMost Expensive\u001b[0m\n",
      "Four Seasons, 525 N Ft Lauderdale Beach Blvd #801 Fort Lauderdale | Price $4,750,000 | $2,339 psf | Year built: 2022\n",
      "\u001b[1mLeast Expensive\u001b[0m\n",
      "Sunrise Lakes Phase 3, 9601 Sunrise Lakes Blvd #106 Sunrise | Price $59,000 | $92 psf | Year built: 1980\n",
      "\u001b[1mHighest Price Per Square Foot\u001b[0m\n",
      "Four Seasons, 525 N Ft Lauderdale Beach Blvd #801 Fort Lauderdale | Price $4,750,000 | $2,339 psf | Year built: 2022\n",
      "\u001b[1mLowest Price Per Square Foot\u001b[0m\n",
      "Oakbrook, 8100 SW 24th St #112 North Lauderdale | Price $72,500 | $56 psf | Year built: 1973\n",
      "\u001b[1mNewest\u001b[0m\n",
      "Four Seasons, 525 N Ft Lauderdale Beach Blvd #801 Fort Lauderdale | Price $4,750,000 | $2,339 psf | Year built: 2022\n",
      "\u001b[1mOldest\u001b[0m\n",
      "Cliff Lake Villas, 1060 SE 14th Pl Unit 16D Fort Lauderdale | Price $177,000 | $221 psf | Year built: 1958\n"
     ]
    }
   ],
   "source": [
    "print(f\"{ME}{BR}{df_filtered.loc[df_filtered['PRICE'].idxmax()]['LOCATION']}, {df_filtered.loc[df_filtered['PRICE'].idxmax()]['FULL_ADDRESS']} | Price ${df_filtered.loc[df_filtered['PRICE'].idxmax()]['PRICE']:,.0f} | ${df_filtered.loc[df_filtered['PRICE'].idxmax()]['$/SQUARE FEET']:,.0f} psf | Year built: {df_filtered.loc[df_filtered['PRICE'].idxmax()]['YEAR BUILT']:.0f}\")\n",
    "print(f\"{LE}{BR}{df_filtered.loc[df_filtered['PRICE'].idxmin()]['LOCATION']}, {df_filtered.loc[df_filtered['PRICE'].idxmin()]['FULL_ADDRESS']} | Price ${df_filtered.loc[df_filtered['PRICE'].idxmin()]['PRICE']:,.0f} | ${df_filtered.loc[df_filtered['PRICE'].idxmin()]['$/SQUARE FEET']:,.0f} psf | Year built: {df_filtered.loc[df_filtered['PRICE'].idxmin()]['YEAR BUILT']:.0f}\")\n",
    "\n",
    "print(f\"{MAX_PSF}{BR}{df_filtered.loc[df_filtered['$/SQUARE FEET'].idxmax()]['LOCATION']}, {df_filtered.loc[df_filtered['$/SQUARE FEET'].idxmax()]['FULL_ADDRESS']} | Price ${df_filtered.loc[df_filtered['$/SQUARE FEET'].idxmax()]['PRICE']:,.0f} | ${df_filtered.loc[df_filtered['$/SQUARE FEET'].idxmax()]['$/SQUARE FEET']:,.0f} psf | Year built: {df_filtered.loc[df_filtered['$/SQUARE FEET'].idxmax()]['YEAR BUILT']:.0f}\")\n",
    "print(f\"{MIN_PSF}{BR}{df_filtered.loc[df_filtered['$/SQUARE FEET'].idxmin()]['LOCATION']}, {df_filtered.loc[df_filtered['$/SQUARE FEET'].idxmin()]['FULL_ADDRESS']} | Price ${df_filtered.loc[df_filtered['$/SQUARE FEET'].idxmin()]['PRICE']:,.0f} | ${df_filtered.loc[df_filtered['$/SQUARE FEET'].idxmin()]['$/SQUARE FEET']:,.0f} psf | Year built: {df_filtered.loc[df_filtered['$/SQUARE FEET'].idxmin()]['YEAR BUILT']:.0f}\")\n",
    "\n",
    "print(f\"{Newest}{BR}{df_filtered.loc[df_filtered['YEAR BUILT'].idxmax()]['LOCATION']}, {df_filtered.loc[df_filtered['YEAR BUILT'].idxmax()]['FULL_ADDRESS']} | Price ${df_filtered.loc[df_filtered['YEAR BUILT'].idxmax()]['PRICE']:,.0f} | ${df_filtered.loc[df_filtered['YEAR BUILT'].idxmax()]['$/SQUARE FEET']:,.0f} psf | Year built: {df_filtered.loc[df_filtered['YEAR BUILT'].idxmax()]['YEAR BUILT']:.0f}\")\n",
    "print(f\"{Oldest}{BR}{df_filtered.loc[df_filtered['YEAR BUILT'].idxmin()]['LOCATION']}, {df_filtered.loc[df_filtered['YEAR BUILT'].idxmin()]['FULL_ADDRESS']} | Price ${df_filtered.loc[df_filtered['YEAR BUILT'].idxmin()]['PRICE']:,.0f} | ${df_filtered.loc[df_filtered['YEAR BUILT'].idxmin()]['$/SQUARE FEET']:,.0f} psf | Year built: {df_filtered.loc[df_filtered['YEAR BUILT'].idxmin()]['YEAR BUILT']:.0f}\")"
   ]
  },
  {
   "cell_type": "markdown",
   "id": "707dd49b",
   "metadata": {},
   "source": [
    "## Map URL Snagger"
   ]
  },
  {
   "cell_type": "code",
   "execution_count": 43,
   "id": "81e05274",
   "metadata": {},
   "outputs": [
    {
     "name": "stdout",
     "output_type": "stream",
     "text": [
      "https://trd-digital.github.io/trd-news-interactive-maps/BC_condo_sales_month_ending_august_2024\n"
     ]
    }
   ],
   "source": [
    "base_name = 'https://trd-digital.github.io/trd-news-interactive-maps/'\n",
    "\n",
    "cwd = os.getcwd()\n",
    "\n",
    "cwd = cwd.split('/')\n",
    "\n",
    "final_name = base_name + cwd[-1]\n",
    "print(final_name)"
   ]
  },
  {
   "cell_type": "markdown",
   "id": "fe5031c3",
   "metadata": {},
   "source": [
    "## Get Summary Data"
   ]
  },
  {
   "cell_type": "code",
   "execution_count": 44,
   "id": "15cba208",
   "metadata": {},
   "outputs": [
    {
     "name": "stdout",
     "output_type": "stream",
     "text": [
      "SALES INFO\n",
      "Number of sales: 824\n",
      "--------\n",
      "Total sale price: $252,801,246\n",
      "--------\n",
      "Median sale price: $226,250\n",
      "--------\n",
      "Max sale price: $4,750,000\n",
      "--------\n",
      "Min sale price: $59,000\n",
      "------------------------------------------------\n",
      "PSF INFO\n",
      "Max price per square foot: $2,339\n",
      "--------\n",
      "Min price per square foot: $56\n",
      "--------\n",
      "Median price per square foot: $224\n",
      "------------------------------------------------\n",
      "CONDO AGES\n",
      "Newest building: 2022.0\n",
      "----------\n",
      "Oldest building: 1958.0\n",
      "----------\n",
      "Average building age: 1980.2014563106795\n"
     ]
    }
   ],
   "source": [
    "print('SALES INFO')\n",
    "print(f'Number of sales: {len(df_filtered)}')\n",
    "print('--------')\n",
    "print(f'Total sale price: ${df_filtered[\"PRICE\"].sum():,.0f}')\n",
    "print('--------')\n",
    "print(f'Median sale price: ${df_filtered[\"PRICE\"].median():,.0f}')\n",
    "print('--------')\n",
    "print(f'Max sale price: ${df_filtered[\"PRICE\"].max():,.0f}')\n",
    "print('--------')\n",
    "print(f'Min sale price: ${df_filtered[\"PRICE\"].min():,.0f}')\n",
    "print('------------------------------------------------')\n",
    "print('PSF INFO')\n",
    "print(f'Max price per square foot: ${df_filtered[\"$/SQUARE FEET\"].max():,.0f}')\n",
    "print('--------')\n",
    "print(f'Min price per square foot: ${df_filtered[\"$/SQUARE FEET\"].min():,.0f}')\n",
    "print('--------')\n",
    "print(f'Median price per square foot: ${df_filtered[\"$/SQUARE FEET\"].median():,.0f}')\n",
    "print('------------------------------------------------')\n",
    "print('CONDO AGES')\n",
    "print(f'Newest building: {df_filtered[\"YEAR BUILT\"].max()}')\n",
    "print('----------')\n",
    "print(f'Oldest building: {df_filtered[\"YEAR BUILT\"].min()}')\n",
    "print('----------')\n",
    "print(f'Average building age: {df_filtered[\"YEAR BUILT\"].mean()}')"
   ]
  },
  {
   "cell_type": "markdown",
   "id": "970cab84",
   "metadata": {},
   "source": [
    "## Collect Agent Data"
   ]
  },
  {
   "cell_type": "code",
   "execution_count": 46,
   "id": "02afd7e8",
   "metadata": {},
   "outputs": [],
   "source": [
    "def process_response(url):\n",
    "    try:\n",
    "        \n",
    "        base_url = \"https://redfin-com-data.p.rapidapi.com/properties/detail-by-url\"\n",
    "\n",
    "        querystring = {\"url\":url}\n",
    "\n",
    "        headers = {\n",
    "            \"x-rapidapi-key\": \"00191da588msh8450293d26e3515p1bbd40jsn56510b513b61\",\n",
    "            \"x-rapidapi-host\": \"redfin-com-data.p.rapidapi.com\"\n",
    "        }\n",
    "\n",
    "        response = requests.get(base_url, headers=headers, params=querystring)\n",
    "\n",
    "#         print(response.status_code)\n",
    "#         print(url)\n",
    "        time.sleep(0.2)\n",
    "\n",
    "        response.raise_for_status()\n",
    "        data = response.json()\n",
    "\n",
    "        # Initialize default values for listing and buyer agents data\n",
    "        list_agent_name_1 = None\n",
    "        list_broker_name_1 = None\n",
    "        list_agent_name_2 = None\n",
    "        list_broker_name_2 = None\n",
    "        \n",
    "        buy_agent_name_1 = None\n",
    "        buy_broker_name_1 = None\n",
    "        buy_agent_name_2 = None\n",
    "        buy_broker_name_2 = None\n",
    "        \n",
    "        # Extract listing agents data if it exists\n",
    "        listing_agents = data.get('data', {}).get('mainHouseInfoPanelInfo', {}).get('mainHouseInfo', {}).get('listingAgents', [])\n",
    "        if len(listing_agents) > 0:\n",
    "            list_agent_name_1 = listing_agents[0].get('agentInfo', {}).get('agentName')\n",
    "            list_broker_name_1 = listing_agents[0].get('brokerName')\n",
    "        if len(listing_agents) > 1:\n",
    "            list_agent_name_2 = listing_agents[1].get('agentInfo', {}).get('agentName')\n",
    "            list_broker_name_2 = listing_agents[1].get('brokerName')\n",
    "            \n",
    "        # Extract listing agents data if it exists\n",
    "        buying_agents = data.get('data', {}).get('mainHouseInfoPanelInfo', {}).get('mainHouseInfo', {}).get('buyingAgents', [])\n",
    "        if len(buying_agents) > 0:\n",
    "            buy_agent_name_1 = buying_agents[0].get('agentInfo', {}).get('agentName')\n",
    "            buy_broker_name_1 = buying_agents[0].get('brokerName')\n",
    "        if len(buying_agents) > 1:\n",
    "            buy_agent_name_2 = buying_agents[1].get('agentInfo', {}).get('agentName')\n",
    "            buy_broker_name_2 = buying_agents[1].get('brokerName')\n",
    "\n",
    "\n",
    "        return {\n",
    "            'url': url,\n",
    "            'list_agent_name_1': list_agent_name_1,\n",
    "            'list_broker_name_1': list_broker_name_1,\n",
    "            'list_agent_name_2': list_agent_name_2,\n",
    "            'list_broker_name_2': list_broker_name_2,\n",
    "            'buy_agent_name_1': buy_agent_name_1,\n",
    "            'buy_broker_name_1': buy_broker_name_1,\n",
    "            'buy_agent_name_2': buy_agent_name_2,\n",
    "            'buy_broker_name_2': buy_broker_name_2,\n",
    "        }\n",
    "    except requests.exceptions.RequestException as e:\n",
    "        print(f\"Error fetching data from {url}: {e}\")\n",
    "        return {\n",
    "            'url': url,\n",
    "            'list_agent_name_1': None,\n",
    "            'list_broker_name_1': None,\n",
    "            'list_agent_name_2': None,\n",
    "            'list_broker_name_2': None,\n",
    "            'buy_agent_name_1': None,\n",
    "            'buy_broker_name_1': None,\n",
    "            'buy_agent_name_2': None,\n",
    "            'buy_broker_name_2': None,\n",
    "        }"
   ]
  },
  {
   "cell_type": "code",
   "execution_count": 47,
   "id": "3d5e6197",
   "metadata": {},
   "outputs": [],
   "source": [
    "df_filtered.reset_index(inplace=True,drop=True)"
   ]
  },
  {
   "cell_type": "code",
   "execution_count": 48,
   "id": "d06f8a69",
   "metadata": {},
   "outputs": [],
   "source": [
    "max_price_index = df_filtered['PRICE'].idxmax()\n",
    "min_price_index = df_filtered['PRICE'].idxmin()\n",
    "\n",
    "max_price_psf_index = df_filtered['$/SQUARE FEET'].idxmax()\n",
    "min_price_psf_index = df_filtered['$/SQUARE FEET'].idxmin()\n",
    "\n",
    "max_year_built_index = df_filtered['YEAR BUILT'].idxmax()\n",
    "min_year_built_index = df_filtered['YEAR BUILT'].idxmin()"
   ]
  },
  {
   "cell_type": "code",
   "execution_count": 49,
   "id": "d5e373c1",
   "metadata": {},
   "outputs": [],
   "source": [
    "index_list = [max_price_index,min_price_index,\n",
    "             max_price_psf_index,min_price_psf_index,\n",
    "             max_year_built_index,min_year_built_index]"
   ]
  },
  {
   "cell_type": "code",
   "execution_count": 50,
   "id": "97dd678a",
   "metadata": {},
   "outputs": [],
   "source": [
    "response_list = []\n",
    "\n",
    "for index, row in df_filtered.iterrows():\n",
    "    if index in index_list:\n",
    "        response_list.append(process_response(row['URL']))\n",
    "        \n",
    "response_df = pd.DataFrame(response_list)\n",
    "\n",
    "merged_df = pd.merge(left=df_filtered,left_on='URL',right=response_df, right_on='url',how='outer')"
   ]
  },
  {
   "cell_type": "code",
   "execution_count": 51,
   "id": "cc9976e6",
   "metadata": {},
   "outputs": [
    {
     "data": {
      "text/plain": [
       "array([nan, \"Shannon O'Brien\", 'Nicholas Foley', 'David Mohabir',\n",
       "       'Mervin Moss'], dtype=object)"
      ]
     },
     "execution_count": 51,
     "metadata": {},
     "output_type": "execute_result"
    }
   ],
   "source": [
    "### Test to see if data was collected\n",
    "merged_df['list_agent_name_1'].unique()"
   ]
  },
  {
   "cell_type": "code",
   "execution_count": 52,
   "id": "83c61f6f",
   "metadata": {},
   "outputs": [],
   "source": [
    "df_filtered = merged_df"
   ]
  },
  {
   "cell_type": "code",
   "execution_count": 53,
   "id": "4176ba07",
   "metadata": {},
   "outputs": [
    {
     "name": "stdout",
     "output_type": "stream",
     "text": [
      "\u001b[1mMost Expensive\u001b[0m\n",
      "Four Seasons, 525 N Ft Lauderdale Beach Blvd #801 Fort Lauderdale | Price $4,750,000 | $2,339 psf | Year built: 2022 | Listing agents: Nicholas Foley with Compass Florida, LLC. and None with None | Buyer's agents: Robin Gervais with Best of Luxury Realty Corp. and Tracey Schmitt with Best of Luxury Realty Corp.\n",
      "\u001b[1mLeast Expensive\u001b[0m\n",
      "Sunrise Lakes Phase 3, 9601 Sunrise Lakes Blvd #106 Sunrise | Price $59,000 | $92 psf | Year built: 1980 | Listing agents: Mervin Moss with RE/MAX Direct and None with None | Buyer's agents: Veronica Paladines with Dezer Platinum Realty LLC and None with None\n",
      "\u001b[1mHighest Price Per Square Foot\u001b[0m\n",
      "Four Seasons, 525 N Ft Lauderdale Beach Blvd #801 Fort Lauderdale | Price $4,750,000 | $2,339 psf | Year built: 2022 | Listing agents: Nicholas Foley with Compass Florida, LLC. and None with None | Buyer's agents: Robin Gervais with Best of Luxury Realty Corp. and Tracey Schmitt with Best of Luxury Realty Corp.\n",
      "\u001b[1mLowest Price Per Square Foot\u001b[0m\n",
      "Oakbrook, 8100 SW 24th St #112 North Lauderdale | Price $72,500 | $56 psf | Year built: 1973 | Listing agents: David Mohabir with RE/MAX Interaction Realty and None with None | Buyer's agents: Anwar Naamani with The Keyes Company and None with None\n",
      "\u001b[1mNewest\u001b[0m\n",
      "Four Seasons, 525 N Ft Lauderdale Beach Blvd #801 Fort Lauderdale | Price $4,750,000 | $2,339 psf | Year built: 2022 | Listing agents: Nicholas Foley with Compass Florida, LLC. and None with None | Buyer's agents: Robin Gervais with Best of Luxury Realty Corp. and Tracey Schmitt with Best of Luxury Realty Corp.\n",
      "\u001b[1mOldest\u001b[0m\n",
      "Cliff Lake Villas, 1060 SE 14th Pl Unit 16D Fort Lauderdale | Price $177,000 | $221 psf | Year built: 1958 | Listing agents: Shannon O'Brien with Bass Realty and Investments, and None with None | Buyer's agents: Tyler Smith with Best of Luxury Realty Corp. and None with None\n"
     ]
    }
   ],
   "source": [
    "print(f\"{ME}{BR}{df_filtered.loc[df_filtered['PRICE'].idxmax()]['LOCATION']}, {df_filtered.loc[df_filtered['PRICE'].idxmax()]['FULL_ADDRESS']} | Price ${df_filtered.loc[df_filtered['PRICE'].idxmax()]['PRICE']:,.0f} | ${df_filtered.loc[df_filtered['PRICE'].idxmax()]['$/SQUARE FEET']:,.0f} psf | Year built: {df_filtered.loc[df_filtered['PRICE'].idxmax()]['YEAR BUILT']:.0f} | Listing agents: {df_filtered.loc[df_filtered['PRICE'].idxmax()]['list_agent_name_1']} with {df_filtered.loc[df_filtered['PRICE'].idxmax()]['list_broker_name_1']} and {df_filtered.loc[df_filtered['PRICE'].idxmax()]['list_agent_name_2']} with {df_filtered.loc[df_filtered['PRICE'].idxmax()]['list_broker_name_2']} | Buyer's agents: {df_filtered.loc[df_filtered['PRICE'].idxmax()]['buy_agent_name_1']} with {df_filtered.loc[df_filtered['PRICE'].idxmax()]['buy_broker_name_1']} and {df_filtered.loc[df_filtered['PRICE'].idxmax()]['buy_agent_name_2']} with {df_filtered.loc[df_filtered['PRICE'].idxmax()]['buy_broker_name_2']}\")\n",
    "print(f\"{LE}{BR}{df_filtered.loc[df_filtered['PRICE'].idxmin()]['LOCATION']}, {df_filtered.loc[df_filtered['PRICE'].idxmin()]['FULL_ADDRESS']} | Price ${df_filtered.loc[df_filtered['PRICE'].idxmin()]['PRICE']:,.0f} | ${df_filtered.loc[df_filtered['PRICE'].idxmin()]['$/SQUARE FEET']:,.0f} psf | Year built: {df_filtered.loc[df_filtered['PRICE'].idxmin()]['YEAR BUILT']:.0f} | Listing agents: {df_filtered.loc[df_filtered['PRICE'].idxmin()]['list_agent_name_1']} with {df_filtered.loc[df_filtered['PRICE'].idxmin()]['list_broker_name_1']} and {df_filtered.loc[df_filtered['PRICE'].idxmin()]['list_agent_name_2']} with {df_filtered.loc[df_filtered['PRICE'].idxmin()]['list_broker_name_2']} | Buyer's agents: {df_filtered.loc[df_filtered['PRICE'].idxmin()]['buy_agent_name_1']} with {df_filtered.loc[df_filtered['PRICE'].idxmin()]['buy_broker_name_1']} and {df_filtered.loc[df_filtered['PRICE'].idxmin()]['buy_agent_name_2']} with {df_filtered.loc[df_filtered['PRICE'].idxmin()]['buy_broker_name_2']}\")\n",
    "\n",
    "print(f\"{MAX_PSF}{BR}{df_filtered.loc[df_filtered['$/SQUARE FEET'].idxmax()]['LOCATION']}, {df_filtered.loc[df_filtered['$/SQUARE FEET'].idxmax()]['FULL_ADDRESS']} | Price ${df_filtered.loc[df_filtered['$/SQUARE FEET'].idxmax()]['PRICE']:,.0f} | ${df_filtered.loc[df_filtered['$/SQUARE FEET'].idxmax()]['$/SQUARE FEET']:,.0f} psf | Year built: {df_filtered.loc[df_filtered['$/SQUARE FEET'].idxmax()]['YEAR BUILT']:.0f} | Listing agents: {df_filtered.loc[df_filtered['$/SQUARE FEET'].idxmax()]['list_agent_name_1']} with {df_filtered.loc[df_filtered['$/SQUARE FEET'].idxmax()]['list_broker_name_1']} and {df_filtered.loc[df_filtered['$/SQUARE FEET'].idxmax()]['list_agent_name_2']} with {df_filtered.loc[df_filtered['$/SQUARE FEET'].idxmax()]['list_broker_name_2']} | Buyer's agents: {df_filtered.loc[df_filtered['$/SQUARE FEET'].idxmax()]['buy_agent_name_1']} with {df_filtered.loc[df_filtered['$/SQUARE FEET'].idxmax()]['buy_broker_name_1']} and {df_filtered.loc[df_filtered['$/SQUARE FEET'].idxmax()]['buy_agent_name_2']} with {df_filtered.loc[df_filtered['$/SQUARE FEET'].idxmax()]['buy_broker_name_2']}\")\n",
    "print(f\"{MIN_PSF}{BR}{df_filtered.loc[df_filtered['$/SQUARE FEET'].idxmin()]['LOCATION']}, {df_filtered.loc[df_filtered['$/SQUARE FEET'].idxmin()]['FULL_ADDRESS']} | Price ${df_filtered.loc[df_filtered['$/SQUARE FEET'].idxmin()]['PRICE']:,.0f} | ${df_filtered.loc[df_filtered['$/SQUARE FEET'].idxmin()]['$/SQUARE FEET']:,.0f} psf | Year built: {df_filtered.loc[df_filtered['$/SQUARE FEET'].idxmin()]['YEAR BUILT']:.0f} | Listing agents: {df_filtered.loc[df_filtered['$/SQUARE FEET'].idxmin()]['list_agent_name_1']} with {df_filtered.loc[df_filtered['$/SQUARE FEET'].idxmin()]['list_broker_name_1']} and {df_filtered.loc[df_filtered['$/SQUARE FEET'].idxmin()]['list_agent_name_2']} with {df_filtered.loc[df_filtered['$/SQUARE FEET'].idxmin()]['list_broker_name_2']} | Buyer's agents: {df_filtered.loc[df_filtered['$/SQUARE FEET'].idxmin()]['buy_agent_name_1']} with {df_filtered.loc[df_filtered['$/SQUARE FEET'].idxmin()]['buy_broker_name_1']} and {df_filtered.loc[df_filtered['$/SQUARE FEET'].idxmin()]['buy_agent_name_2']} with {df_filtered.loc[df_filtered['$/SQUARE FEET'].idxmin()]['buy_broker_name_2']}\")\n",
    "\n",
    "print(f\"{Newest}{BR}{df_filtered.loc[df_filtered['YEAR BUILT'].idxmax()]['LOCATION']}, {df_filtered.loc[df_filtered['YEAR BUILT'].idxmax()]['FULL_ADDRESS']} | Price ${df_filtered.loc[df_filtered['YEAR BUILT'].idxmax()]['PRICE']:,.0f} | ${df_filtered.loc[df_filtered['YEAR BUILT'].idxmax()]['$/SQUARE FEET']:,.0f} psf | Year built: {df_filtered.loc[df_filtered['YEAR BUILT'].idxmax()]['YEAR BUILT']:.0f} | Listing agents: {df_filtered.loc[df_filtered['YEAR BUILT'].idxmax()]['list_agent_name_1']} with {df_filtered.loc[df_filtered['YEAR BUILT'].idxmax()]['list_broker_name_1']} and {df_filtered.loc[df_filtered['YEAR BUILT'].idxmax()]['list_agent_name_2']} with {df_filtered.loc[df_filtered['YEAR BUILT'].idxmax()]['list_broker_name_2']} | Buyer's agents: {df_filtered.loc[df_filtered['YEAR BUILT'].idxmax()]['buy_agent_name_1']} with {df_filtered.loc[df_filtered['YEAR BUILT'].idxmax()]['buy_broker_name_1']} and {df_filtered.loc[df_filtered['YEAR BUILT'].idxmax()]['buy_agent_name_2']} with {df_filtered.loc[df_filtered['YEAR BUILT'].idxmax()]['buy_broker_name_2']}\")\n",
    "print(f\"{Oldest}{BR}{df_filtered.loc[df_filtered['YEAR BUILT'].idxmin()]['LOCATION']}, {df_filtered.loc[df_filtered['YEAR BUILT'].idxmin()]['FULL_ADDRESS']} | Price ${df_filtered.loc[df_filtered['YEAR BUILT'].idxmin()]['PRICE']:,.0f} | ${df_filtered.loc[df_filtered['YEAR BUILT'].idxmin()]['$/SQUARE FEET']:,.0f} psf | Year built: {df_filtered.loc[df_filtered['YEAR BUILT'].idxmin()]['YEAR BUILT']:.0f} | Listing agents: {df_filtered.loc[df_filtered['YEAR BUILT'].idxmin()]['list_agent_name_1']} with {df_filtered.loc[df_filtered['YEAR BUILT'].idxmin()]['list_broker_name_1']} and {df_filtered.loc[df_filtered['YEAR BUILT'].idxmin()]['list_agent_name_2']} with {df_filtered.loc[df_filtered['YEAR BUILT'].idxmin()]['list_broker_name_2']} | Buyer's agents: {df_filtered.loc[df_filtered['YEAR BUILT'].idxmin()]['buy_agent_name_1']} with {df_filtered.loc[df_filtered['YEAR BUILT'].idxmin()]['buy_broker_name_1']} and {df_filtered.loc[df_filtered['YEAR BUILT'].idxmin()]['buy_agent_name_2']} with {df_filtered.loc[df_filtered['YEAR BUILT'].idxmin()]['buy_broker_name_2']}\")"
   ]
  },
  {
   "cell_type": "markdown",
   "id": "df76613c",
   "metadata": {},
   "source": [
    "## Get condo names and locations for most and least expensive"
   ]
  },
  {
   "cell_type": "code",
   "execution_count": 54,
   "id": "a7db05bf",
   "metadata": {},
   "outputs": [],
   "source": [
    "most_expensive_muni_condo_name = df_filtered.loc[df_filtered['PRICE'].idxmax()]['LOCATION']\n",
    "most_expensive_muni_location = df_filtered.loc[df_filtered['PRICE'].idxmax()]['CITY']\n",
    "\n",
    "least_expensive_muni_condo_name = df_filtered.loc[df_filtered['PRICE'].idxmin()]['LOCATION']\n",
    "least_expensive_muni_location = df_filtered.loc[df_filtered['PRICE'].idxmin()]['CITY']"
   ]
  },
  {
   "cell_type": "code",
   "execution_count": 55,
   "id": "8771c3d0",
   "metadata": {},
   "outputs": [],
   "source": [
    "## Calculate the increase/descrease between both months\n",
    "subject_month_sales_volume = df_filtered[\"PRICE\"].sum()\n",
    "prior_month_sales_volume = int(sales_volume_2nd_month)  # Example value, replace with actual value\n",
    "\n",
    "subject_month_closings = len(df_filtered)\n",
    "prior_month_closings = int(total_condos_sold_2nd_month)\n",
    "\n",
    "# Subtract the smaller value from the larger one\n",
    "if subject_month_sales_volume > prior_month_sales_volume:\n",
    "    hed_rf = 'jumps'\n",
    "    nut_graf = 'rising'\n",
    "    second_nut_graf_ref = 'up'\n",
    "    social = 'higher'\n",
    "    seo = 'increased'\n",
    "elif prior_month_sales_volume > subject_month_sales_volume:\n",
    "    hed_rf = 'drops'\n",
    "    nut_graf = 'falling'\n",
    "    second_nut_graf_ref = 'down'\n",
    "    social = 'lower'\n",
    "    seo = 'dropped'\n",
    "else:\n",
    "    hed_rf = 'equals'\n",
    "    nut_graf = 'equaling'\n",
    "    second_nut_graf_ref = 'on par with'\n",
    "    social = 'equal'\n",
    "    seo = \"did't change\"\n",
    "    \n",
    "    \n",
    "if subject_month_closings > prior_month_closings:\n",
    "    dek_rf = 'rose'\n",
    "elif prior_month_closings > subject_month_closings:\n",
    "    dek_rf ='fell'\n",
    "else:\n",
    "    dek_rf = 'equaled'"
   ]
  },
  {
   "cell_type": "code",
   "execution_count": 56,
   "id": "0c45fda2",
   "metadata": {},
   "outputs": [
    {
     "data": {
      "text/plain": [
       "Index(['SOLD DATE', 'ADDRESS', 'CITY', 'PRICE', 'BEDS', 'BATHS', 'LOCATION',\n",
       "       'YEAR BUILT', 'DAYS ON MARKET', '$/SQUARE FEET', 'URL', 'LATITUDE',\n",
       "       'LONGITUDE', 'PRICE_AS_CURRENCY', 'YEAR BUILT DISPLAY',\n",
       "       'PRICE_SQUARE_FEET_AS_CURRENCY', 'COLOR', 'RANK', 'FULL_ADDRESS', 'url',\n",
       "       'list_agent_name_1', 'list_broker_name_1', 'list_agent_name_2',\n",
       "       'list_broker_name_2', 'buy_agent_name_1', 'buy_broker_name_1',\n",
       "       'buy_agent_name_2', 'buy_broker_name_2'],\n",
       "      dtype='object')"
      ]
     },
     "execution_count": 56,
     "metadata": {},
     "output_type": "execute_result"
    }
   ],
   "source": [
    "df_filtered.columns"
   ]
  },
  {
   "cell_type": "code",
   "execution_count": 57,
   "id": "06e6aaa9",
   "metadata": {},
   "outputs": [
    {
     "name": "stdout",
     "output_type": "stream",
     "text": [
      "\n",
      "\n",
      "\n",
      "TOP SALE LISTING AGENTS:\n",
      "\n",
      "Nicholas Foley with Compass Florida, LLC. and None with None\n",
      "\n",
      "TOP SALE BUYER AGENTS:\n",
      "\n",
      "Robin Gervais with Best of Luxury Realty Corp. and Tracey Schmitt with Best of Luxury Realty Corp.\n",
      "\n",
      "BOTTOM SALE LISTING AGENTS:\n",
      "\n",
      "Mervin Moss with RE/MAX Direct and None with None\n",
      "\n",
      "BOTTOM SALE BUYER AGENTS:\n",
      "\n",
      "Veronica Paladines with Dezer Platinum Realty LLC and None with None\n",
      "\n",
      "\n"
     ]
    }
   ],
   "source": [
    "# Get values for the top sale (max price)\n",
    "top_sale_listing_agent_1 = df_filtered.loc[df_filtered[\"PRICE\"].idxmax(), 'list_agent_name_1']\n",
    "top_sale_listing_broker_1 = df_filtered.loc[df_filtered[\"PRICE\"].idxmax(), 'list_broker_name_1']\n",
    "top_sale_listing_agent_2 = df_filtered.loc[df_filtered[\"PRICE\"].idxmax(), 'list_agent_name_2']\n",
    "top_sale_listing_broker_2 = df_filtered.loc[df_filtered[\"PRICE\"].idxmax(), 'list_broker_name_2']\n",
    "top_sale_buyer_agent_1 = df_filtered.loc[df_filtered[\"PRICE\"].idxmax(), 'buy_agent_name_1']\n",
    "top_sale_buyer_broker_1 = df_filtered.loc[df_filtered[\"PRICE\"].idxmax(), 'buy_broker_name_1']\n",
    "top_sale_buyer_agent_2 = df_filtered.loc[df_filtered[\"PRICE\"].idxmax(), 'buy_agent_name_2']\n",
    "top_sale_buyer_broker_2 = df_filtered.loc[df_filtered[\"PRICE\"].idxmax(), 'buy_broker_name_2']\n",
    "\n",
    "# Get values for the bottom sale (min price)\n",
    "bottom_sale_listing_agent_1 = df_filtered.loc[df_filtered[\"PRICE\"].idxmin(), 'list_agent_name_1']\n",
    "bottom_sale_listing_broker_1 = df_filtered.loc[df_filtered[\"PRICE\"].idxmin(), 'list_broker_name_1']\n",
    "bottom_sale_listing_agent_2 = df_filtered.loc[df_filtered[\"PRICE\"].idxmin(), 'list_agent_name_2']\n",
    "bottom_sale_listing_broker_2 = df_filtered.loc[df_filtered[\"PRICE\"].idxmin(), 'list_broker_name_2']\n",
    "bottom_sale_buyer_agent_1 = df_filtered.loc[df_filtered[\"PRICE\"].idxmin(), 'buy_agent_name_1']\n",
    "bottom_sale_buyer_broker_1 = df_filtered.loc[df_filtered[\"PRICE\"].idxmin(), 'buy_broker_name_1']\n",
    "bottom_sale_buyer_agent_2 = df_filtered.loc[df_filtered[\"PRICE\"].idxmin(), 'buy_agent_name_2']\n",
    "bottom_sale_buyer_broker_2 = df_filtered.loc[df_filtered[\"PRICE\"].idxmin(), 'buy_broker_name_2']\n",
    "\n",
    "# Now create the formatted string\n",
    "test_string = f'''\n",
    "\n",
    "\n",
    "TOP SALE LISTING AGENTS:\n",
    "\n",
    "{top_sale_listing_agent_1} with {top_sale_listing_broker_1} and {top_sale_listing_agent_2} with {top_sale_listing_broker_2}\n",
    "\n",
    "TOP SALE BUYER AGENTS:\n",
    "\n",
    "{top_sale_buyer_agent_1} with {top_sale_buyer_broker_1} and {top_sale_buyer_agent_2} with {top_sale_buyer_broker_2}\n",
    "\n",
    "BOTTOM SALE LISTING AGENTS:\n",
    "\n",
    "{bottom_sale_listing_agent_1} with {bottom_sale_listing_broker_1} and {bottom_sale_listing_agent_2} with {bottom_sale_listing_broker_2}\n",
    "\n",
    "BOTTOM SALE BUYER AGENTS:\n",
    "\n",
    "{bottom_sale_buyer_agent_1} with {bottom_sale_buyer_broker_1} and {bottom_sale_buyer_agent_2} with {bottom_sale_buyer_broker_2}\n",
    "\n",
    "'''\n",
    "\n",
    "print(test_string)\n"
   ]
  },
  {
   "cell_type": "code",
   "execution_count": 58,
   "id": "c18857f2",
   "metadata": {},
   "outputs": [],
   "source": [
    "story_string = f'''\n",
    "\\033[1mHED:\\033[0m {county_name} condo sales dollar volume {hed_rf} in {previous_month_name} to ${round(df_filtered[\"PRICE\"].sum()/1_000_000)}M \n",
    "\\033[1mDEK:\\033[0m Number of closings {dek_rf} to {len(df_filtered)} from {total_condos_sold_2nd_month} in {month_before_last_name}\n",
    "\\033[1mFEATURED HED:\\033[0m\n",
    "\\033[1mSEO HED:\\033[0m {county_name} {previous_month_name} Condo Sales Report \n",
    "\\033[1mSEO DESCRIPTION:\\033[0m {county_name}’s condo sales volume {seo} to ${round(df_filtered[\"PRICE\"].sum()/1_000_000)} million in {previous_month_name}.\n",
    "\\033[1mAUTHOR:\\033[0m Adam Farence\n",
    "\\033[1mRESEARCH:\\033[0m  \n",
    "\\033[1mSocial:\\033[0m {county_name} had ${round(df_filtered[\"PRICE\"].sum()/1_000_000):,.0f} million in condo sales in {previous_month_name}, {social} than ${round(int(sales_volume_2nd_month)/1_000_000)} million from {month_before_last_name}, @afarence reports \n",
    "\\033[1mART:\\033[0m \n",
    "\n",
    "CHANGE ME\n",
    "\n",
    "*Please provide credits for any images that you share\n",
    "\\033[1mSTORY TYPE:\\033[0m Report\n",
    "\\033[1mSECTOR\\033[0m (formerly CATEGORY): Residential Real Estate\n",
    "\\033[1mTAGS:\\033[0m condo sales, {county_name}, monthly condo sales, condos, condo market, {most_expensive_muni_condo_name.title()}, {most_expensive_muni_location}\n",
    "\n",
    "\\033[1mNeighborhood:\\033[0m \n",
    "\\033[1mProperty:\\033[0m\n",
    "\\033[1mProperty Type:\\033[0m\n",
    "\\033[1mCompanies:\\033[0m \n",
    "\\033[1mPeople:\\033[0m\n",
    "\\033[1mIssues:\\033[0m\n",
    "\\033[1mRegion:\\033[0m\n",
    "\n",
    "{county_name}’s NEWS PEG HERE.\n",
    "\n",
    "{previous_month_name} condo sales totaled ${round(df_filtered[\"PRICE\"].sum()/1_000_000)} million, {nut_graf} from ${int(sales_volume_2nd_month)/1_000_000:.0f} million in {month_before_last_name}. Brokers closed {len(df_filtered)} sales last month, {second_nut_graf_ref} from {total_condos_sold_2nd_month} sales in {month_before_last_name} and XXX in XXX, Multiple Listing Service data from Redfin show.\n",
    "\n",
    "{previous_month_name} sale prices ranged from ${df_filtered[\"PRICE\"].min():,.0f} to ${df_filtered[\"PRICE\"].max():,.0f} million, with a median sale price of ${df_filtered[\"PRICE\"].median():,.0f}. The price per square foot ranged from ${df_filtered[\"$/SQUARE FEET\"].min():,.0f} to ${df_filtered[\"$/SQUARE FEET\"].max():,.0f}, with a median of ${df_filtered[\"$/SQUARE FEET\"].median():,.0f} per square foot.\n",
    "\n",
    "In {month_before_last_name}, sales closed with a median price of ${int(median_sales_price_2nd_month):,.0f}, and ${median_psf_2nd_month} per square foot.\n",
    "\n",
    "A ${df_filtered[\"PRICE\"].max():,.0f} million closing at {most_expensive_muni_condo_name.title()} took the title of priciest sale last month. {df_filtered.loc[df_filtered['PRICE'].idxmax()]['FULL_ADDRESS']} sold for ${df_filtered.loc[df_filtered['PRICE'].idxmax()]['$/SQUARE FEET']:,.0f} per square foot after XX days on the market. XXX with XXX had the listing, and XXX with XXX represented the buyer.\n",
    "\n",
    "TOP SALE LISTING AGENTS:\n",
    "\n",
    "{top_sale_listing_agent_1} with {top_sale_listing_broker_1} and {top_sale_listing_agent_2} with {top_sale_listing_broker_2}\n",
    "\n",
    "TOP SALE BUYER AGENTS:\n",
    "\n",
    "{top_sale_buyer_agent_1} with {top_sale_buyer_broker_1} and {top_sale_buyer_agent_2} with {top_sale_buyer_broker_2}\n",
    "\n",
    "The sale price was \\033[1mmore/less\\033[0m than {month_before_last_name}'s priciest sale. Unit XXXX \n",
    "\n",
    "In contrast, {previous_month_name}'s cheapest sale was an {least_expensive_muni_condo_name} in {least_expensive_muni_location}, at {df_filtered.loc[df_filtered['PRICE'].idxmin()]['FULL_ADDRESS']}. Unit XXX traded for ${df_filtered['PRICE'].min():,.0f} — or ${df_filtered.loc[df_filtered['PRICE'].idxmin()]['$/SQUARE FEET']:,.0f} per square foot — after XXX days on the market. XXX with XXX handled both sides of the deal.\n",
    "\n",
    "BOTTOM SALE LISTING AGENTS:\n",
    "\n",
    "{bottom_sale_listing_agent_1} with {bottom_sale_listing_broker_1} and {bottom_sale_listing_agent_2} with {bottom_sale_listing_broker_2}\n",
    "\n",
    "BOTTOM SALE BUYER AGENTS:\n",
    "\n",
    "{bottom_sale_buyer_agent_1} with {bottom_sale_buyer_broker_1} and {bottom_sale_buyer_agent_2} with {bottom_sale_buyer_broker_2}\n",
    "\n",
    "<figure>\n",
    " <div class=\"container\">\n",
    "   <div class=\"iframe-wrap\">\n",
    "   <iframe src=\"{final_name}\" width=\"100%\" height=\"800\" frameBorder=\"0\" scrolling=\"no\"></iframe>\n",
    "  </div>\n",
    "</div>\n",
    "  <figcaption align=\"right\"><a href=\"https://leafletjs.com/\">Leaflet</a> map created by Adam Farence | Data by © <a href=\"https://www.openstreetmap.org/#map=4/38.01/-95.84\"> OpenStreetMap</a>, under <a href=\"https://www.openstreetmap.org/copyright\">ODbl.</a></figcaption>\n",
    "</figure>\n",
    "\n",
    "Here’s a breakdown of {previous_month_name}’s notable condo sales:\n",
    "'''"
   ]
  },
  {
   "cell_type": "code",
   "execution_count": 59,
   "id": "cab66f0c",
   "metadata": {},
   "outputs": [
    {
     "name": "stdout",
     "output_type": "stream",
     "text": [
      "\n",
      "\u001b[1mHED:\u001b[0m Broward County condo sales dollar volume drops in August to $253M \n",
      "\u001b[1mDEK:\u001b[0m Number of closings equaled to 824 from 824 in July\n",
      "\u001b[1mFEATURED HED:\u001b[0m\n",
      "\u001b[1mSEO HED:\u001b[0m Broward County August Condo Sales Report \n",
      "\u001b[1mSEO DESCRIPTION:\u001b[0m Broward County’s condo sales volume dropped to $253 million in August.\n",
      "\u001b[1mAUTHOR:\u001b[0m Adam Farence\n",
      "\u001b[1mRESEARCH:\u001b[0m  \n",
      "\u001b[1mSocial:\u001b[0m Broward County had $253 million in condo sales in August, lower than $261 million from July, @afarence reports \n",
      "\u001b[1mART:\u001b[0m \n",
      "\n",
      "CHANGE ME\n",
      "\n",
      "*Please provide credits for any images that you share\n",
      "\u001b[1mSTORY TYPE:\u001b[0m Report\n",
      "\u001b[1mSECTOR\u001b[0m (formerly CATEGORY): Residential Real Estate\n",
      "\u001b[1mTAGS:\u001b[0m condo sales, Broward County, monthly condo sales, condos, condo market, Four Seasons, Fort Lauderdale\n",
      "\n",
      "\u001b[1mNeighborhood:\u001b[0m \n",
      "\u001b[1mProperty:\u001b[0m\n",
      "\u001b[1mProperty Type:\u001b[0m\n",
      "\u001b[1mCompanies:\u001b[0m \n",
      "\u001b[1mPeople:\u001b[0m\n",
      "\u001b[1mIssues:\u001b[0m\n",
      "\u001b[1mRegion:\u001b[0m\n",
      "\n",
      "Broward County’s NEWS PEG HERE.\n",
      "\n",
      "August condo sales totaled $253 million, falling from $261 million in July. Brokers closed 824 sales last month, down from 824 sales in July and XXX in XXX, Multiple Listing Service data from Redfin show.\n",
      "\n",
      "August sale prices ranged from $59,000 to $4,750,000 million, with a median sale price of $226,250. The price per square foot ranged from $56 to $2,339, with a median of $224 per square foot.\n",
      "\n",
      "In July, sales closed with a median price of $235,000, and $232 per square foot.\n",
      "\n",
      "A $4,750,000 million closing at Four Seasons took the title of priciest sale last month. 525 N Ft Lauderdale Beach Blvd #801 Fort Lauderdale sold for $2,339 per square foot after XX days on the market. XXX with XXX had the listing, and XXX with XXX represented the buyer.\n",
      "\n",
      "TOP SALE LISTING AGENTS:\n",
      "\n",
      "Nicholas Foley with Compass Florida, LLC. and None with None\n",
      "\n",
      "TOP SALE BUYER AGENTS:\n",
      "\n",
      "Robin Gervais with Best of Luxury Realty Corp. and Tracey Schmitt with Best of Luxury Realty Corp.\n",
      "\n",
      "The sale price was \u001b[1mmore/less\u001b[0m than July's priciest sale. Unit XXXX \n",
      "\n",
      "In contrast, August's cheapest sale was an Sunrise Lakes Phase 3 in Sunrise, at 9601 Sunrise Lakes Blvd #106 Sunrise. Unit XXX traded for $59,000 — or $92 per square foot — after XXX days on the market. XXX with XXX handled both sides of the deal.\n",
      "\n",
      "BOTTOM SALE LISTING AGENTS:\n",
      "\n",
      "Mervin Moss with RE/MAX Direct and None with None\n",
      "\n",
      "BOTTOM SALE BUYER AGENTS:\n",
      "\n",
      "Veronica Paladines with Dezer Platinum Realty LLC and None with None\n",
      "\n",
      "<figure>\n",
      " <div class=\"container\">\n",
      "   <div class=\"iframe-wrap\">\n",
      "   <iframe src=\"https://trd-digital.github.io/trd-news-interactive-maps/BC_condo_sales_month_ending_august_2024\" width=\"100%\" height=\"800\" frameBorder=\"0\" scrolling=\"no\"></iframe>\n",
      "  </div>\n",
      "</div>\n",
      "  <figcaption align=\"right\"><a href=\"https://leafletjs.com/\">Leaflet</a> map created by Adam Farence | Data by © <a href=\"https://www.openstreetmap.org/#map=4/38.01/-95.84\"> OpenStreetMap</a>, under <a href=\"https://www.openstreetmap.org/copyright\">ODbl.</a></figcaption>\n",
      "</figure>\n",
      "\n",
      "Here’s a breakdown of August’s notable condo sales:\n",
      "\n",
      "\u001b[1mMost Expensive\u001b[0m\n",
      "Four Seasons, 525 N Ft Lauderdale Beach Blvd #801 Fort Lauderdale | Price $4,750,000 | $2,339 psf | Year built: 2022 | Listing agents: Nicholas Foley with Compass Florida, LLC. and None with None | Buyer's agents: Robin Gervais with Best of Luxury Realty Corp. and Tracey Schmitt with Best of Luxury Realty Corp.\n",
      "\u001b[1mLeast Expensive\u001b[0m\n",
      "Sunrise Lakes Phase 3, 9601 Sunrise Lakes Blvd #106 Sunrise | Price $59,000 | $92 psf | Year built: 1980 | Listing agents: Mervin Moss with RE/MAX Direct and None with None | Buyer's agents: Veronica Paladines with Dezer Platinum Realty LLC and None with None\n",
      "\u001b[1mHighest Price Per Square Foot\u001b[0m\n",
      "Four Seasons, 525 N Ft Lauderdale Beach Blvd #801 Fort Lauderdale | Price $4,750,000 | $2,339 psf | Year built: 2022 | Listing agents: Nicholas Foley with Compass Florida, LLC. and None with None | Buyer's agents: Robin Gervais with Best of Luxury Realty Corp. and Tracey Schmitt with Best of Luxury Realty Corp.\n",
      "\u001b[1mLowest Price Per Square Foot\u001b[0m\n",
      "Oakbrook, 8100 SW 24th St #112 North Lauderdale | Price $72,500 | $56 psf | Year built: 1973 | Listing agents: David Mohabir with RE/MAX Interaction Realty and None with None | Buyer's agents: Anwar Naamani with The Keyes Company and None with None\n",
      "\u001b[1mNewest\u001b[0m\n",
      "Four Seasons, 525 N Ft Lauderdale Beach Blvd #801 Fort Lauderdale | Price $4,750,000 | $2,339 psf | Year built: 2022 | Listing agents: Nicholas Foley with Compass Florida, LLC. and None with None | Buyer's agents: Robin Gervais with Best of Luxury Realty Corp. and Tracey Schmitt with Best of Luxury Realty Corp.\n",
      "\u001b[1mOldest\u001b[0m\n",
      "Cliff Lake Villas, 1060 SE 14th Pl Unit 16D Fort Lauderdale | Price $177,000 | $221 psf | Year built: 1958 | Listing agents: Shannon O'Brien with Bass Realty and Investments, and None with None | Buyer's agents: Tyler Smith with Best of Luxury Realty Corp. and None with None\n"
     ]
    }
   ],
   "source": [
    "print(story_string)\n",
    "\n",
    "print(f\"{ME}{BR}{df_filtered.loc[df_filtered['PRICE'].idxmax()]['LOCATION']}, {df_filtered.loc[df_filtered['PRICE'].idxmax()]['FULL_ADDRESS']} | Price ${df_filtered.loc[df_filtered['PRICE'].idxmax()]['PRICE']:,.0f} | ${df_filtered.loc[df_filtered['PRICE'].idxmax()]['$/SQUARE FEET']:,.0f} psf | Year built: {df_filtered.loc[df_filtered['PRICE'].idxmax()]['YEAR BUILT']:.0f} | Listing agents: {df_filtered.loc[df_filtered['PRICE'].idxmax()]['list_agent_name_1']} with {df_filtered.loc[df_filtered['PRICE'].idxmax()]['list_broker_name_1']} and {df_filtered.loc[df_filtered['PRICE'].idxmax()]['list_agent_name_2']} with {df_filtered.loc[df_filtered['PRICE'].idxmax()]['list_broker_name_2']} | Buyer's agents: {df_filtered.loc[df_filtered['PRICE'].idxmax()]['buy_agent_name_1']} with {df_filtered.loc[df_filtered['PRICE'].idxmax()]['buy_broker_name_1']} and {df_filtered.loc[df_filtered['PRICE'].idxmax()]['buy_agent_name_2']} with {df_filtered.loc[df_filtered['PRICE'].idxmax()]['buy_broker_name_2']}\")\n",
    "print(f\"{LE}{BR}{df_filtered.loc[df_filtered['PRICE'].idxmin()]['LOCATION']}, {df_filtered.loc[df_filtered['PRICE'].idxmin()]['FULL_ADDRESS']} | Price ${df_filtered.loc[df_filtered['PRICE'].idxmin()]['PRICE']:,.0f} | ${df_filtered.loc[df_filtered['PRICE'].idxmin()]['$/SQUARE FEET']:,.0f} psf | Year built: {df_filtered.loc[df_filtered['PRICE'].idxmin()]['YEAR BUILT']:.0f} | Listing agents: {df_filtered.loc[df_filtered['PRICE'].idxmin()]['list_agent_name_1']} with {df_filtered.loc[df_filtered['PRICE'].idxmin()]['list_broker_name_1']} and {df_filtered.loc[df_filtered['PRICE'].idxmin()]['list_agent_name_2']} with {df_filtered.loc[df_filtered['PRICE'].idxmin()]['list_broker_name_2']} | Buyer's agents: {df_filtered.loc[df_filtered['PRICE'].idxmin()]['buy_agent_name_1']} with {df_filtered.loc[df_filtered['PRICE'].idxmin()]['buy_broker_name_1']} and {df_filtered.loc[df_filtered['PRICE'].idxmin()]['buy_agent_name_2']} with {df_filtered.loc[df_filtered['PRICE'].idxmin()]['buy_broker_name_2']}\")\n",
    "\n",
    "print(f\"{MAX_PSF}{BR}{df_filtered.loc[df_filtered['$/SQUARE FEET'].idxmax()]['LOCATION']}, {df_filtered.loc[df_filtered['$/SQUARE FEET'].idxmax()]['FULL_ADDRESS']} | Price ${df_filtered.loc[df_filtered['$/SQUARE FEET'].idxmax()]['PRICE']:,.0f} | ${df_filtered.loc[df_filtered['$/SQUARE FEET'].idxmax()]['$/SQUARE FEET']:,.0f} psf | Year built: {df_filtered.loc[df_filtered['$/SQUARE FEET'].idxmax()]['YEAR BUILT']:.0f} | Listing agents: {df_filtered.loc[df_filtered['$/SQUARE FEET'].idxmax()]['list_agent_name_1']} with {df_filtered.loc[df_filtered['$/SQUARE FEET'].idxmax()]['list_broker_name_1']} and {df_filtered.loc[df_filtered['$/SQUARE FEET'].idxmax()]['list_agent_name_2']} with {df_filtered.loc[df_filtered['$/SQUARE FEET'].idxmax()]['list_broker_name_2']} | Buyer's agents: {df_filtered.loc[df_filtered['$/SQUARE FEET'].idxmax()]['buy_agent_name_1']} with {df_filtered.loc[df_filtered['$/SQUARE FEET'].idxmax()]['buy_broker_name_1']} and {df_filtered.loc[df_filtered['$/SQUARE FEET'].idxmax()]['buy_agent_name_2']} with {df_filtered.loc[df_filtered['$/SQUARE FEET'].idxmax()]['buy_broker_name_2']}\")\n",
    "print(f\"{MIN_PSF}{BR}{df_filtered.loc[df_filtered['$/SQUARE FEET'].idxmin()]['LOCATION']}, {df_filtered.loc[df_filtered['$/SQUARE FEET'].idxmin()]['FULL_ADDRESS']} | Price ${df_filtered.loc[df_filtered['$/SQUARE FEET'].idxmin()]['PRICE']:,.0f} | ${df_filtered.loc[df_filtered['$/SQUARE FEET'].idxmin()]['$/SQUARE FEET']:,.0f} psf | Year built: {df_filtered.loc[df_filtered['$/SQUARE FEET'].idxmin()]['YEAR BUILT']:.0f} | Listing agents: {df_filtered.loc[df_filtered['$/SQUARE FEET'].idxmin()]['list_agent_name_1']} with {df_filtered.loc[df_filtered['$/SQUARE FEET'].idxmin()]['list_broker_name_1']} and {df_filtered.loc[df_filtered['$/SQUARE FEET'].idxmin()]['list_agent_name_2']} with {df_filtered.loc[df_filtered['$/SQUARE FEET'].idxmin()]['list_broker_name_2']} | Buyer's agents: {df_filtered.loc[df_filtered['$/SQUARE FEET'].idxmin()]['buy_agent_name_1']} with {df_filtered.loc[df_filtered['$/SQUARE FEET'].idxmin()]['buy_broker_name_1']} and {df_filtered.loc[df_filtered['$/SQUARE FEET'].idxmin()]['buy_agent_name_2']} with {df_filtered.loc[df_filtered['$/SQUARE FEET'].idxmin()]['buy_broker_name_2']}\")\n",
    "\n",
    "print(f\"{Newest}{BR}{df_filtered.loc[df_filtered['YEAR BUILT'].idxmax()]['LOCATION']}, {df_filtered.loc[df_filtered['YEAR BUILT'].idxmax()]['FULL_ADDRESS']} | Price ${df_filtered.loc[df_filtered['YEAR BUILT'].idxmax()]['PRICE']:,.0f} | ${df_filtered.loc[df_filtered['YEAR BUILT'].idxmax()]['$/SQUARE FEET']:,.0f} psf | Year built: {df_filtered.loc[df_filtered['YEAR BUILT'].idxmax()]['YEAR BUILT']:.0f} | Listing agents: {df_filtered.loc[df_filtered['YEAR BUILT'].idxmax()]['list_agent_name_1']} with {df_filtered.loc[df_filtered['YEAR BUILT'].idxmax()]['list_broker_name_1']} and {df_filtered.loc[df_filtered['YEAR BUILT'].idxmax()]['list_agent_name_2']} with {df_filtered.loc[df_filtered['YEAR BUILT'].idxmax()]['list_broker_name_2']} | Buyer's agents: {df_filtered.loc[df_filtered['YEAR BUILT'].idxmax()]['buy_agent_name_1']} with {df_filtered.loc[df_filtered['YEAR BUILT'].idxmax()]['buy_broker_name_1']} and {df_filtered.loc[df_filtered['YEAR BUILT'].idxmax()]['buy_agent_name_2']} with {df_filtered.loc[df_filtered['YEAR BUILT'].idxmax()]['buy_broker_name_2']}\")\n",
    "print(f\"{Oldest}{BR}{df_filtered.loc[df_filtered['YEAR BUILT'].idxmin()]['LOCATION']}, {df_filtered.loc[df_filtered['YEAR BUILT'].idxmin()]['FULL_ADDRESS']} | Price ${df_filtered.loc[df_filtered['YEAR BUILT'].idxmin()]['PRICE']:,.0f} | ${df_filtered.loc[df_filtered['YEAR BUILT'].idxmin()]['$/SQUARE FEET']:,.0f} psf | Year built: {df_filtered.loc[df_filtered['YEAR BUILT'].idxmin()]['YEAR BUILT']:.0f} | Listing agents: {df_filtered.loc[df_filtered['YEAR BUILT'].idxmin()]['list_agent_name_1']} with {df_filtered.loc[df_filtered['YEAR BUILT'].idxmin()]['list_broker_name_1']} and {df_filtered.loc[df_filtered['YEAR BUILT'].idxmin()]['list_agent_name_2']} with {df_filtered.loc[df_filtered['YEAR BUILT'].idxmin()]['list_broker_name_2']} | Buyer's agents: {df_filtered.loc[df_filtered['YEAR BUILT'].idxmin()]['buy_agent_name_1']} with {df_filtered.loc[df_filtered['YEAR BUILT'].idxmin()]['buy_broker_name_1']} and {df_filtered.loc[df_filtered['YEAR BUILT'].idxmin()]['buy_agent_name_2']} with {df_filtered.loc[df_filtered['YEAR BUILT'].idxmin()]['buy_broker_name_2']}\")"
   ]
  },
  {
   "cell_type": "markdown",
   "id": "1237f8b2",
   "metadata": {},
   "source": [
    "# Print links for notable sales\n",
    "\n",
    "## Top sale"
   ]
  },
  {
   "cell_type": "code",
   "execution_count": 60,
   "id": "4c776293",
   "metadata": {},
   "outputs": [
    {
     "name": "stdout",
     "output_type": "stream",
     "text": [
      "https://www.redfin.com/FL/Fort-Lauderdale/525-N-Fort-Lauderdale-Beach-Blvd-33304/unit-801/home/116680919\n"
     ]
    }
   ],
   "source": [
    "print(df_filtered.loc[df_filtered['PRICE'].idxmax()]['URL'])"
   ]
  },
  {
   "cell_type": "markdown",
   "id": "b1f63a6a",
   "metadata": {},
   "source": [
    "## Cheapest sale"
   ]
  },
  {
   "cell_type": "code",
   "execution_count": 66,
   "id": "967008ef",
   "metadata": {},
   "outputs": [
    {
     "name": "stdout",
     "output_type": "stream",
     "text": [
      "https://www.redfin.com/FL/Sunrise/9601-Sunrise-Lakes-Blvd-33322/unit-106/home/41606477\n"
     ]
    }
   ],
   "source": [
    "print(df_filtered.loc[df_filtered['PRICE'].idxmin()]['URL'])"
   ]
  },
  {
   "cell_type": "markdown",
   "id": "0f56cc2b",
   "metadata": {},
   "source": [
    "## Highest PSF"
   ]
  },
  {
   "cell_type": "code",
   "execution_count": 67,
   "id": "001083a2",
   "metadata": {},
   "outputs": [
    {
     "name": "stdout",
     "output_type": "stream",
     "text": [
      "https://www.redfin.com/FL/Fort-Lauderdale/525-N-Fort-Lauderdale-Beach-Blvd-33304/unit-801/home/116680919\n"
     ]
    }
   ],
   "source": [
    "print(df_filtered.loc[df_filtered['$/SQUARE FEET'].idxmax()]['URL'])"
   ]
  },
  {
   "cell_type": "markdown",
   "id": "e606b84a",
   "metadata": {},
   "source": [
    "## Lowest PSF"
   ]
  },
  {
   "cell_type": "code",
   "execution_count": 68,
   "id": "91b9b079",
   "metadata": {},
   "outputs": [
    {
     "name": "stdout",
     "output_type": "stream",
     "text": [
      "https://www.redfin.com/FL/North-Lauderdale/8100-SW-24th-St-33068/unit-112/home/41562495\n"
     ]
    }
   ],
   "source": [
    "print(df_filtered.loc[df_filtered['$/SQUARE FEET'].idxmin()]['URL'])"
   ]
  },
  {
   "cell_type": "markdown",
   "id": "d6e5493b",
   "metadata": {},
   "source": [
    "## Newest"
   ]
  },
  {
   "cell_type": "code",
   "execution_count": 69,
   "id": "c2cc4988",
   "metadata": {},
   "outputs": [
    {
     "name": "stdout",
     "output_type": "stream",
     "text": [
      "https://www.redfin.com/FL/Fort-Lauderdale/525-N-Fort-Lauderdale-Beach-Blvd-33304/unit-801/home/116680919\n"
     ]
    }
   ],
   "source": [
    "print(df_filtered.loc[df_filtered['YEAR BUILT'].idxmax()]['URL'])"
   ]
  },
  {
   "cell_type": "markdown",
   "id": "1d1ba957",
   "metadata": {},
   "source": [
    "## Oldest"
   ]
  },
  {
   "cell_type": "code",
   "execution_count": 70,
   "id": "51fa78ff",
   "metadata": {},
   "outputs": [
    {
     "name": "stdout",
     "output_type": "stream",
     "text": [
      "https://www.redfin.com/FL/Fort-Lauderdale/1060-SE-14th-Pl-33316/unit-16D/home/41806742\n"
     ]
    }
   ],
   "source": [
    "print(df_filtered.loc[df_filtered['YEAR BUILT'].idxmin()]['URL'])"
   ]
  },
  {
   "cell_type": "markdown",
   "id": "6b274da8",
   "metadata": {},
   "source": [
    "## Time on Market Calculator"
   ]
  },
  {
   "cell_type": "code",
   "execution_count": 72,
   "id": "0d14e001",
   "metadata": {},
   "outputs": [
    {
     "name": "stdout",
     "output_type": "stream",
     "text": [
      "209\n"
     ]
    }
   ],
   "source": [
    "from datetime import datetime, timedelta\n",
    "\n",
    "################ YEAR, MONTH, DAY #######################\n",
    "\n",
    "date1 = datetime(2024, 2, 2) ## List (Earlier) date\n",
    "date2 = datetime(2024, 8, 29) ## Close (Later) date\n",
    "\n",
    "delta = date2 - date1\n",
    "num_days = delta.days\n",
    "\n",
    "print(num_days)"
   ]
  },
  {
   "cell_type": "markdown",
   "id": "cced793f",
   "metadata": {},
   "source": [
    "## Access second highest (or whatever is needed)"
   ]
  },
  {
   "cell_type": "code",
   "execution_count": 58,
   "id": "016dcd2c",
   "metadata": {},
   "outputs": [],
   "source": [
    "# ### Second highest ###\n",
    "# # Sort the DataFrame by '$/SQUARE FEET' in descending order\n",
    "# second_highest = df_filtered.sort_values(by='$/SQUARE FEET', ascending=False)\n",
    "\n",
    "# # Get the URL of the entry with the second highest '$/SQUARE FEET' value\n",
    "# second_highest_url = second_highest.iloc[1]['URL']  # `.iloc[1]` accesses the second row\n",
    "\n",
    "# print(second_highest_url)"
   ]
  }
 ],
 "metadata": {
  "kernelspec": {
   "display_name": "Python 3 (ipykernel)",
   "language": "python",
   "name": "python3"
  },
  "language_info": {
   "codemirror_mode": {
    "name": "ipython",
    "version": 3
   },
   "file_extension": ".py",
   "mimetype": "text/x-python",
   "name": "python",
   "nbconvert_exporter": "python",
   "pygments_lexer": "ipython3",
   "version": "3.9.12"
  }
 },
 "nbformat": 4,
 "nbformat_minor": 5
}
