{
 "cells": [
  {
   "cell_type": "markdown",
   "id": "1000252d",
   "metadata": {},
   "source": [
    "## Imports"
   ]
  },
  {
   "cell_type": "code",
   "execution_count": 28,
   "id": "b813df65",
   "metadata": {},
   "outputs": [],
   "source": [
    "import googlemaps\n",
    "import pandas as pd\n",
    "import numpy as np\n",
    "import re\n",
    "import os\n",
    "import geopandas as gpd\n",
    "import folium"
   ]
  },
  {
   "cell_type": "code",
   "execution_count": 24,
   "id": "b5c26cb5",
   "metadata": {},
   "outputs": [],
   "source": [
    "df = pd.read_csv('HFZ_purchaed_properties.csv', dtype='str')"
   ]
  },
  {
   "cell_type": "code",
   "execution_count": 25,
   "id": "61312692",
   "metadata": {},
   "outputs": [],
   "source": [
    "df['Full_address'] = df['Index'] + ' ' + df['#'] + ' ' + df['(PIN)'] + ' ' + df['Address']"
   ]
  },
  {
   "cell_type": "code",
   "execution_count": 29,
   "id": "a9a7c478",
   "metadata": {},
   "outputs": [],
   "source": [
    "%store -r google_maps_API_Key\n",
    "gmaps_key = googlemaps.Client(key=google_maps_API_Key)"
   ]
  },
  {
   "cell_type": "code",
   "execution_count": 31,
   "id": "50d8f037",
   "metadata": {},
   "outputs": [],
   "source": [
    "def geocode(add):\n",
    "    g = gmaps_key.geocode(add)\n",
    "    lat = g[0][\"geometry\"][\"location\"][\"lat\"]\n",
    "    lng = g[0][\"geometry\"][\"location\"][\"lng\"]\n",
    "    return (lat, lng)\n",
    "\n",
    "df['geocoded'] = df['Full_address'].apply(geocode)"
   ]
  },
  {
   "cell_type": "code",
   "execution_count": 32,
   "id": "84bcccb8",
   "metadata": {},
   "outputs": [],
   "source": [
    "df['geocoded'] = df['geocoded'].astype(str)\n",
    "df[['lat', 'lon']] = df['geocoded'].str.strip('()').str.split(', ', expand=True)\n",
    "df['lat'] = df['lat'].astype(float)\n",
    "df['lon'] = df['lon'].astype(float)"
   ]
  },
  {
   "cell_type": "code",
   "execution_count": 47,
   "id": "7f905f12",
   "metadata": {},
   "outputs": [
    {
     "data": {
      "text/plain": [
       "Index(['Unnamed: 0', 'Property', 'Index', '#', '(PIN)', 'Address', 'PropType',\n",
       "       'Unit', 'S', 'T', 'R', 'Subdiv', 'Lot', 'Block', 'Part', 'Lot.1',\n",
       "       'Bldg', 'Full_address', 'geocoded', 'lat', 'lon'],\n",
       "      dtype='object')"
      ]
     },
     "execution_count": 47,
     "metadata": {},
     "output_type": "execute_result"
    }
   ],
   "source": [
    "df.columns"
   ]
  },
  {
   "cell_type": "code",
   "execution_count": 60,
   "id": "d9cd4b27",
   "metadata": {},
   "outputs": [],
   "source": [
    "df2 = df.loc[df['Full_address'] == '7507 N CLARK ST']\n",
    "df2 = df2.head(1)"
   ]
  },
  {
   "cell_type": "code",
   "execution_count": 36,
   "id": "0d25ec4b",
   "metadata": {},
   "outputs": [],
   "source": [
    "def popup_html(row):\n",
    "    address = row['Full_address']\n",
    "    \n",
    "    html = '''<!DOCTYPE html>\n",
    "    <html>\n",
    "    <strong>Address: </strong>{}'''.format(address) + '''<br>\n",
    "    </html>\n",
    "    '''\n",
    "    return html"
   ]
  },
  {
   "cell_type": "code",
   "execution_count": 62,
   "id": "7106ff1b",
   "metadata": {
    "scrolled": false
   },
   "outputs": [
    {
     "data": {
      "text/html": [
       "<div style=\"width:100%;\"><div style=\"position:relative;width:100%;height:0;padding-bottom:60%;\"><span style=\"color:#565656\">Make this Notebook Trusted to load map: File -> Trust Notebook</span><iframe srcdoc=\"&lt;!DOCTYPE html&gt;\n",
       "&lt;head&gt;    \n",
       "    &lt;meta http-equiv=&quot;content-type&quot; content=&quot;text/html; charset=UTF-8&quot; /&gt;\n",
       "    \n",
       "        &lt;script&gt;\n",
       "            L_NO_TOUCH = false;\n",
       "            L_DISABLE_3D = false;\n",
       "        &lt;/script&gt;\n",
       "    \n",
       "    &lt;style&gt;html, body {width: 100%;height: 100%;margin: 0;padding: 0;}&lt;/style&gt;\n",
       "    &lt;style&gt;#map {position:absolute;top:0;bottom:0;right:0;left:0;}&lt;/style&gt;\n",
       "    &lt;script src=&quot;https://cdn.jsdelivr.net/npm/leaflet@1.6.0/dist/leaflet.js&quot;&gt;&lt;/script&gt;\n",
       "    &lt;script src=&quot;https://code.jquery.com/jquery-1.12.4.min.js&quot;&gt;&lt;/script&gt;\n",
       "    &lt;script src=&quot;https://maxcdn.bootstrapcdn.com/bootstrap/3.2.0/js/bootstrap.min.js&quot;&gt;&lt;/script&gt;\n",
       "    &lt;script src=&quot;https://cdnjs.cloudflare.com/ajax/libs/Leaflet.awesome-markers/2.0.2/leaflet.awesome-markers.js&quot;&gt;&lt;/script&gt;\n",
       "    &lt;link rel=&quot;stylesheet&quot; href=&quot;https://cdn.jsdelivr.net/npm/leaflet@1.6.0/dist/leaflet.css&quot;/&gt;\n",
       "    &lt;link rel=&quot;stylesheet&quot; href=&quot;https://maxcdn.bootstrapcdn.com/bootstrap/3.2.0/css/bootstrap.min.css&quot;/&gt;\n",
       "    &lt;link rel=&quot;stylesheet&quot; href=&quot;https://maxcdn.bootstrapcdn.com/bootstrap/3.2.0/css/bootstrap-theme.min.css&quot;/&gt;\n",
       "    &lt;link rel=&quot;stylesheet&quot; href=&quot;https://maxcdn.bootstrapcdn.com/font-awesome/4.6.3/css/font-awesome.min.css&quot;/&gt;\n",
       "    &lt;link rel=&quot;stylesheet&quot; href=&quot;https://cdnjs.cloudflare.com/ajax/libs/Leaflet.awesome-markers/2.0.2/leaflet.awesome-markers.css&quot;/&gt;\n",
       "    &lt;link rel=&quot;stylesheet&quot; href=&quot;https://cdn.jsdelivr.net/gh/python-visualization/folium/folium/templates/leaflet.awesome.rotate.min.css&quot;/&gt;\n",
       "    \n",
       "            &lt;meta name=&quot;viewport&quot; content=&quot;width=device-width,\n",
       "                initial-scale=1.0, maximum-scale=1.0, user-scalable=no&quot; /&gt;\n",
       "            &lt;style&gt;\n",
       "                #map_7ad7e1741c25e4da2a8c14d1c74353b9 {\n",
       "                    position: relative;\n",
       "                    width: 100.0%;\n",
       "                    height: 100.0%;\n",
       "                    left: 0.0%;\n",
       "                    top: 0.0%;\n",
       "                }\n",
       "            &lt;/style&gt;\n",
       "        \n",
       "&lt;/head&gt;\n",
       "&lt;body&gt;    \n",
       "    \n",
       "              &lt;h3 align=&quot;center&quot; style=&quot;font-size:16px&quot;&gt;&lt;b&gt;Ashkenazy purchase in Rogers Park&lt;/b&gt;&lt;/h3&gt;\n",
       "             \n",
       "    \n",
       "            &lt;div class=&quot;folium-map&quot; id=&quot;map_7ad7e1741c25e4da2a8c14d1c74353b9&quot; &gt;&lt;/div&gt;\n",
       "        \n",
       "&lt;/body&gt;\n",
       "&lt;script&gt;    \n",
       "    \n",
       "            var map_7ad7e1741c25e4da2a8c14d1c74353b9 = L.map(\n",
       "                &quot;map_7ad7e1741c25e4da2a8c14d1c74353b9&quot;,\n",
       "                {\n",
       "                    center: [42.018346, -87.6736778],\n",
       "                    crs: L.CRS.EPSG3857,\n",
       "                    zoom: 16,\n",
       "                    zoomControl: true,\n",
       "                    preferCanvas: false,\n",
       "                }\n",
       "            );\n",
       "\n",
       "            \n",
       "\n",
       "        \n",
       "    \n",
       "            var marker_096af73a7f3d7bd6aca05fa34d91fdc9 = L.marker(\n",
       "                [42.018346, -87.6736778],\n",
       "                {&quot;fill&quot;: true, &quot;radius&quot;: 5}\n",
       "            ).addTo(map_7ad7e1741c25e4da2a8c14d1c74353b9);\n",
       "        \n",
       "    \n",
       "        var popup_cfa948dc33a3f3d26d947e50c0f8ac3d = L.popup({&quot;maxWidth&quot;: 400});\n",
       "\n",
       "        \n",
       "            \n",
       "                var html_bb1c038dc43596b5a732c37d575ad169 = $(`&lt;div id=&quot;html_bb1c038dc43596b5a732c37d575ad169&quot; style=&quot;width: 100.0%; height: 100.0%;&quot;&gt;&lt;!DOCTYPE html&gt;     &lt;html&gt;     &lt;strong&gt;Address: &lt;/strong&gt;7507 N CLARK ST&lt;br&gt;     &lt;/html&gt;     &lt;/div&gt;`)[0];\n",
       "                popup_cfa948dc33a3f3d26d947e50c0f8ac3d.setContent(html_bb1c038dc43596b5a732c37d575ad169);\n",
       "            \n",
       "        \n",
       "\n",
       "        marker_096af73a7f3d7bd6aca05fa34d91fdc9.bindPopup(popup_cfa948dc33a3f3d26d947e50c0f8ac3d)\n",
       "        ;\n",
       "\n",
       "        \n",
       "    \n",
       "    \n",
       "            var tile_layer_c39e326d3ebc0d388b6343141ed7968d = L.tileLayer(\n",
       "                &quot;https://{s}.tile.openstreetmap.org/{z}/{x}/{y}.png&quot;,\n",
       "                {&quot;attribution&quot;: &quot;Data by \\u0026copy; \\u003ca href=\\&quot;http://openstreetmap.org\\&quot;\\u003eOpenStreetMap\\u003c/a\\u003e, under \\u003ca href=\\&quot;http://www.openstreetmap.org/copyright\\&quot;\\u003eODbL\\u003c/a\\u003e.&quot;, &quot;detectRetina&quot;: false, &quot;maxNativeZoom&quot;: 18, &quot;maxZoom&quot;: 18, &quot;minZoom&quot;: 0, &quot;noWrap&quot;: false, &quot;opacity&quot;: 1, &quot;subdomains&quot;: &quot;abc&quot;, &quot;tms&quot;: false}\n",
       "            ).addTo(map_7ad7e1741c25e4da2a8c14d1c74353b9);\n",
       "        \n",
       "    \n",
       "            var layer_control_f2a912a0d331693187657f676b913624 = {\n",
       "                base_layers : {\n",
       "                },\n",
       "                overlays :  {\n",
       "                },\n",
       "            };\n",
       "            L.control.layers(\n",
       "                layer_control_f2a912a0d331693187657f676b913624.base_layers,\n",
       "                layer_control_f2a912a0d331693187657f676b913624.overlays,\n",
       "                {&quot;autoZIndex&quot;: true, &quot;collapsed&quot;: false, &quot;position&quot;: &quot;topright&quot;}\n",
       "            ).addTo(map_7ad7e1741c25e4da2a8c14d1c74353b9);\n",
       "        \n",
       "&lt;/script&gt;\" style=\"position:absolute;width:100%;height:100%;left:0;top:0;border:none !important;\" allowfullscreen webkitallowfullscreen mozallowfullscreen></iframe></div></div>"
      ],
      "text/plain": [
       "<folium.folium.Map at 0x7fb780b09ac0>"
      ]
     },
     "execution_count": 62,
     "metadata": {},
     "output_type": "execute_result"
    }
   ],
   "source": [
    "import folium\n",
    "from folium.plugins import MarkerCluster\n",
    "\n",
    "m = folium.Map(location=df2[[\"lat\", \"lon\"]].mean().to_list(), zoom_start=13)\n",
    "\n",
    "title_html = '''\n",
    "              <h3 align=\"center\" style=\"font-size:16px\"><b>{}</b></h3>\n",
    "             '''.format(f'Ashkenazy purchase in Rogers Park')\n",
    "\n",
    "\n",
    "### Create map container ###\n",
    "m = folium.Map(location=df2[[\"lat\", \"lon\"]].mean().to_list(),zoom_start=16,tiles=None)\n",
    "\n",
    "for index, row in df2.iterrows():\n",
    "    marker = folium.Marker(\n",
    "        location=[row['lat'], row['lon']],\n",
    "        radius=5,\n",
    "        fill=True,\n",
    "        popup=folium.Popup(popup_html(row), max_width=400))\n",
    "    marker.add_to(m)\n",
    "\n",
    "folium.TileLayer('OpenStreetMap',control=False).add_to(m)\n",
    "\n",
    "# Add LayerControl to the map\n",
    "folium.map.LayerControl(collapsed=False).add_to(m)\n",
    "m.get_root().html.add_child(folium.Element(title_html))\n",
    "            \n",
    "# Display map\n",
    "m"
   ]
  },
  {
   "cell_type": "code",
   "execution_count": 63,
   "id": "3f29c60c",
   "metadata": {},
   "outputs": [],
   "source": [
    "m.save('index.html')"
   ]
  },
  {
   "cell_type": "markdown",
   "id": "8b17b625",
   "metadata": {},
   "source": [
    "## Map URL Snagger"
   ]
  },
  {
   "cell_type": "code",
   "execution_count": 64,
   "id": "66e469b8",
   "metadata": {},
   "outputs": [],
   "source": [
    "base_name = 'https://trd-digital.github.io/trd-news-interactive-maps/'"
   ]
  },
  {
   "cell_type": "code",
   "execution_count": 65,
   "id": "5ebfdccc",
   "metadata": {},
   "outputs": [
    {
     "name": "stdout",
     "output_type": "stream",
     "text": [
      "https://trd-digital.github.io/trd-news-interactive-maps/CHI_HFZ_purchase\n"
     ]
    }
   ],
   "source": [
    "cwd = os.getcwd()\n",
    "\n",
    "cwd = cwd.split('/')\n",
    "\n",
    "final_name = base_name + cwd[-1]\n",
    "print(final_name)"
   ]
  }
 ],
 "metadata": {
  "kernelspec": {
   "display_name": "Python 3 (ipykernel)",
   "language": "python",
   "name": "python3"
  },
  "language_info": {
   "codemirror_mode": {
    "name": "ipython",
    "version": 3
   },
   "file_extension": ".py",
   "mimetype": "text/x-python",
   "name": "python",
   "nbconvert_exporter": "python",
   "pygments_lexer": "ipython3",
   "version": "3.9.12"
  }
 },
 "nbformat": 4,
 "nbformat_minor": 5
}
