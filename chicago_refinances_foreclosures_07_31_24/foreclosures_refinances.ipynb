{
 "cells": [
  {
   "cell_type": "markdown",
   "id": "d7292ea1",
   "metadata": {},
   "source": [
    "## Goal:\n",
    "\n",
    "- Create a map of foreclosures and refinances according to Emma's spreadsheet."
   ]
  },
  {
   "cell_type": "markdown",
   "id": "45ce8b1c",
   "metadata": {},
   "source": [
    "## Imports"
   ]
  },
  {
   "cell_type": "code",
   "execution_count": 1,
   "id": "9a3a46b9",
   "metadata": {},
   "outputs": [],
   "source": [
    "import pandas as pd\n",
    "import geopandas as gpd\n",
    "import googlemaps\n",
    "from shapely.geometry import Point\n",
    "import os"
   ]
  },
  {
   "cell_type": "markdown",
   "id": "b41aaf4a",
   "metadata": {},
   "source": [
    "## Data read in"
   ]
  },
  {
   "cell_type": "code",
   "execution_count": 2,
   "id": "4be7d5a5",
   "metadata": {},
   "outputs": [],
   "source": [
    "refinances = pd.read_clipboard()\n",
    "refinances.to_csv(\"refinances.csv\")"
   ]
  },
  {
   "cell_type": "code",
   "execution_count": 3,
   "id": "3f4efd05",
   "metadata": {},
   "outputs": [],
   "source": [
    "foreclosures = pd.read_clipboard()\n",
    "foreclosures.to_csv(\"foreclosures.csv\")"
   ]
  },
  {
   "cell_type": "code",
   "execution_count": 4,
   "id": "d3523fd6",
   "metadata": {},
   "outputs": [],
   "source": [
    "refinances = pd.read_csv(\"refinances.csv\")\n",
    "refinances = refinances.drop(columns='Unnamed: 0')\n",
    "\n",
    "foreclosures = pd.read_csv(\"foreclosures.csv\")\n",
    "foreclosures = foreclosures.drop(columns='Unnamed: 0')"
   ]
  },
  {
   "cell_type": "code",
   "execution_count": 5,
   "id": "7869ce71",
   "metadata": {},
   "outputs": [],
   "source": [
    "concat_df = pd.concat([refinances,foreclosures])"
   ]
  },
  {
   "cell_type": "code",
   "execution_count": 6,
   "id": "011f4ecb",
   "metadata": {},
   "outputs": [],
   "source": [
    "concat_df['full_address'] = concat_df['address'] + ' IL'"
   ]
  },
  {
   "cell_type": "markdown",
   "id": "f73e152c",
   "metadata": {},
   "source": [
    "## Geocode"
   ]
  },
  {
   "cell_type": "code",
   "execution_count": 7,
   "id": "59230848",
   "metadata": {},
   "outputs": [],
   "source": [
    "%store -r google_maps_API_Key\n",
    "gmaps_key = googlemaps.Client(key=google_maps_API_Key)"
   ]
  },
  {
   "cell_type": "code",
   "execution_count": 8,
   "id": "3bdcbaa4",
   "metadata": {},
   "outputs": [
    {
     "name": "stderr",
     "output_type": "stream",
     "text": [
      "/Users/afarence/opt/anaconda3/lib/python3.9/site-packages/pandas/core/dtypes/cast.py:131: ShapelyDeprecationWarning: The array interface is deprecated and will no longer work in Shapely 2.0. Convert the '.coords' to a numpy array instead.\n",
      "  arr = construct_1d_object_array_from_listlike(values)\n"
     ]
    },
    {
     "data": {
      "text/html": [
       "<div>\n",
       "<style scoped>\n",
       "    .dataframe tbody tr th:only-of-type {\n",
       "        vertical-align: middle;\n",
       "    }\n",
       "\n",
       "    .dataframe tbody tr th {\n",
       "        vertical-align: top;\n",
       "    }\n",
       "\n",
       "    .dataframe thead th {\n",
       "        text-align: right;\n",
       "    }\n",
       "</style>\n",
       "<table border=\"1\" class=\"dataframe\">\n",
       "  <thead>\n",
       "    <tr style=\"text-align: right;\">\n",
       "      <th></th>\n",
       "      <th>building name</th>\n",
       "      <th>borrower</th>\n",
       "      <th>lender</th>\n",
       "      <th>loan amount</th>\n",
       "      <th>address</th>\n",
       "      <th>loan_int</th>\n",
       "      <th>loan_sh</th>\n",
       "      <th>type</th>\n",
       "      <th>full_address</th>\n",
       "      <th>geocoded</th>\n",
       "      <th>lat</th>\n",
       "      <th>lon</th>\n",
       "      <th>geometry</th>\n",
       "    </tr>\n",
       "  </thead>\n",
       "  <tbody>\n",
       "    <tr>\n",
       "      <th>0</th>\n",
       "      <td>The Archer</td>\n",
       "      <td>Strategic Properties of North America</td>\n",
       "      <td>Redwood Trust</td>\n",
       "      <td>$26 million</td>\n",
       "      <td>1211 North La Salle Street, Chicago</td>\n",
       "      <td>26000000</td>\n",
       "      <td>$26M</td>\n",
       "      <td>Foreclosure</td>\n",
       "      <td>1211 North La Salle Street, Chicago IL</td>\n",
       "      <td>(41.9042995, -87.6326984)</td>\n",
       "      <td>41.904300</td>\n",
       "      <td>-87.632698</td>\n",
       "      <td>POINT (-87.63270 41.90430)</td>\n",
       "    </tr>\n",
       "    <tr>\n",
       "      <th>1</th>\n",
       "      <td>1411 South Michigan</td>\n",
       "      <td>Russland Capital</td>\n",
       "      <td>Ares Management</td>\n",
       "      <td>$80 million</td>\n",
       "      <td>1411 South Michigan Avenue, Chicago</td>\n",
       "      <td>80000000</td>\n",
       "      <td>$80M</td>\n",
       "      <td>Foreclosure</td>\n",
       "      <td>1411 South Michigan Avenue, Chicago IL</td>\n",
       "      <td>(41.8637181, -87.623818)</td>\n",
       "      <td>41.863718</td>\n",
       "      <td>-87.623818</td>\n",
       "      <td>POINT (-87.62382 41.86372)</td>\n",
       "    </tr>\n",
       "    <tr>\n",
       "      <th>2</th>\n",
       "      <td>21 East Chestnut</td>\n",
       "      <td>**Jos. Cacciatore &amp; Co. Real Estate</td>\n",
       "      <td>HIG</td>\n",
       "      <td>$50 million</td>\n",
       "      <td>21 East Chestnut Street, Chicago</td>\n",
       "      <td>50000000</td>\n",
       "      <td>$50M</td>\n",
       "      <td>Foreclosure</td>\n",
       "      <td>21 East Chestnut Street, Chicago IL</td>\n",
       "      <td>(41.898133, -87.62718)</td>\n",
       "      <td>41.898133</td>\n",
       "      <td>-87.627180</td>\n",
       "      <td>POINT (-87.62718 41.89813)</td>\n",
       "    </tr>\n",
       "    <tr>\n",
       "      <th>3</th>\n",
       "      <td>The Residences at Payton Place</td>\n",
       "      <td>CA Ventures</td>\n",
       "      <td>TPG Real Estate Finance Trust</td>\n",
       "      <td>$80 million</td>\n",
       "      <td>3401 West Payton Place, Arlington Heights</td>\n",
       "      <td>80000000</td>\n",
       "      <td>$80M</td>\n",
       "      <td>Foreclosure</td>\n",
       "      <td>3401 West Payton Place, Arlington Heights IL</td>\n",
       "      <td>(42.0893153, -88.02316909999999)</td>\n",
       "      <td>42.089315</td>\n",
       "      <td>-88.023169</td>\n",
       "      <td>POINT (-88.02317 42.08932)</td>\n",
       "    </tr>\n",
       "    <tr>\n",
       "      <th>0</th>\n",
       "      <td>The Archer</td>\n",
       "      <td>Strategic Properties of North America</td>\n",
       "      <td>Redwood Trust</td>\n",
       "      <td>$26 million</td>\n",
       "      <td>1211 North La Salle Street, Chicago</td>\n",
       "      <td>26000000</td>\n",
       "      <td>$26M</td>\n",
       "      <td>Foreclosure</td>\n",
       "      <td>1211 North La Salle Street, Chicago IL</td>\n",
       "      <td>(41.9042995, -87.6326984)</td>\n",
       "      <td>41.904300</td>\n",
       "      <td>-87.632698</td>\n",
       "      <td>POINT (-87.63270 41.90430)</td>\n",
       "    </tr>\n",
       "    <tr>\n",
       "      <th>1</th>\n",
       "      <td>1411 South Michigan</td>\n",
       "      <td>Russland Capital</td>\n",
       "      <td>Ares Management</td>\n",
       "      <td>$80 million</td>\n",
       "      <td>1411 South Michigan Avenue, Chicago</td>\n",
       "      <td>80000000</td>\n",
       "      <td>$80M</td>\n",
       "      <td>Foreclosure</td>\n",
       "      <td>1411 South Michigan Avenue, Chicago IL</td>\n",
       "      <td>(41.8637181, -87.623818)</td>\n",
       "      <td>41.863718</td>\n",
       "      <td>-87.623818</td>\n",
       "      <td>POINT (-87.62382 41.86372)</td>\n",
       "    </tr>\n",
       "    <tr>\n",
       "      <th>2</th>\n",
       "      <td>21 East Chestnut</td>\n",
       "      <td>**Jos. Cacciatore &amp; Co. Real Estate</td>\n",
       "      <td>HIG</td>\n",
       "      <td>$50 million</td>\n",
       "      <td>21 East Chestnut Street, Chicago</td>\n",
       "      <td>50000000</td>\n",
       "      <td>$50M</td>\n",
       "      <td>Foreclosure</td>\n",
       "      <td>21 East Chestnut Street, Chicago IL</td>\n",
       "      <td>(41.898133, -87.62718)</td>\n",
       "      <td>41.898133</td>\n",
       "      <td>-87.627180</td>\n",
       "      <td>POINT (-87.62718 41.89813)</td>\n",
       "    </tr>\n",
       "    <tr>\n",
       "      <th>3</th>\n",
       "      <td>The Residences at Payton Place</td>\n",
       "      <td>CA Ventures</td>\n",
       "      <td>TPG Real Estate Finance Trust</td>\n",
       "      <td>$80 million</td>\n",
       "      <td>3401 West Payton Place, Arlington Heights</td>\n",
       "      <td>80000000</td>\n",
       "      <td>$80M</td>\n",
       "      <td>Foreclosure</td>\n",
       "      <td>3401 West Payton Place, Arlington Heights IL</td>\n",
       "      <td>(42.0893153, -88.02316909999999)</td>\n",
       "      <td>42.089315</td>\n",
       "      <td>-88.023169</td>\n",
       "      <td>POINT (-88.02317 42.08932)</td>\n",
       "    </tr>\n",
       "  </tbody>\n",
       "</table>\n",
       "</div>"
      ],
      "text/plain": [
       "                    building name                               borrower  \\\n",
       "0                      The Archer  Strategic Properties of North America   \n",
       "1             1411 South Michigan                       Russland Capital   \n",
       "2                21 East Chestnut    **Jos. Cacciatore & Co. Real Estate   \n",
       "3  The Residences at Payton Place                            CA Ventures   \n",
       "0                      The Archer  Strategic Properties of North America   \n",
       "1             1411 South Michigan                       Russland Capital   \n",
       "2                21 East Chestnut    **Jos. Cacciatore & Co. Real Estate   \n",
       "3  The Residences at Payton Place                            CA Ventures   \n",
       "\n",
       "                          lender  loan amount  \\\n",
       "0                  Redwood Trust  $26 million   \n",
       "1                Ares Management  $80 million   \n",
       "2                            HIG  $50 million   \n",
       "3  TPG Real Estate Finance Trust  $80 million   \n",
       "0                  Redwood Trust  $26 million   \n",
       "1                Ares Management  $80 million   \n",
       "2                            HIG  $50 million   \n",
       "3  TPG Real Estate Finance Trust  $80 million   \n",
       "\n",
       "                                     address  loan_int loan_sh         type  \\\n",
       "0        1211 North La Salle Street, Chicago  26000000    $26M  Foreclosure   \n",
       "1        1411 South Michigan Avenue, Chicago  80000000    $80M  Foreclosure   \n",
       "2           21 East Chestnut Street, Chicago  50000000    $50M  Foreclosure   \n",
       "3  3401 West Payton Place, Arlington Heights  80000000    $80M  Foreclosure   \n",
       "0        1211 North La Salle Street, Chicago  26000000    $26M  Foreclosure   \n",
       "1        1411 South Michigan Avenue, Chicago  80000000    $80M  Foreclosure   \n",
       "2           21 East Chestnut Street, Chicago  50000000    $50M  Foreclosure   \n",
       "3  3401 West Payton Place, Arlington Heights  80000000    $80M  Foreclosure   \n",
       "\n",
       "                                   full_address  \\\n",
       "0        1211 North La Salle Street, Chicago IL   \n",
       "1        1411 South Michigan Avenue, Chicago IL   \n",
       "2           21 East Chestnut Street, Chicago IL   \n",
       "3  3401 West Payton Place, Arlington Heights IL   \n",
       "0        1211 North La Salle Street, Chicago IL   \n",
       "1        1411 South Michigan Avenue, Chicago IL   \n",
       "2           21 East Chestnut Street, Chicago IL   \n",
       "3  3401 West Payton Place, Arlington Heights IL   \n",
       "\n",
       "                           geocoded        lat        lon  \\\n",
       "0         (41.9042995, -87.6326984)  41.904300 -87.632698   \n",
       "1          (41.8637181, -87.623818)  41.863718 -87.623818   \n",
       "2            (41.898133, -87.62718)  41.898133 -87.627180   \n",
       "3  (42.0893153, -88.02316909999999)  42.089315 -88.023169   \n",
       "0         (41.9042995, -87.6326984)  41.904300 -87.632698   \n",
       "1          (41.8637181, -87.623818)  41.863718 -87.623818   \n",
       "2            (41.898133, -87.62718)  41.898133 -87.627180   \n",
       "3  (42.0893153, -88.02316909999999)  42.089315 -88.023169   \n",
       "\n",
       "                     geometry  \n",
       "0  POINT (-87.63270 41.90430)  \n",
       "1  POINT (-87.62382 41.86372)  \n",
       "2  POINT (-87.62718 41.89813)  \n",
       "3  POINT (-88.02317 42.08932)  \n",
       "0  POINT (-87.63270 41.90430)  \n",
       "1  POINT (-87.62382 41.86372)  \n",
       "2  POINT (-87.62718 41.89813)  \n",
       "3  POINT (-88.02317 42.08932)  "
      ]
     },
     "execution_count": 8,
     "metadata": {},
     "output_type": "execute_result"
    }
   ],
   "source": [
    "# Define the geocode function\n",
    "def geocode(add):\n",
    "    g = gmaps_key.geocode(add)\n",
    "    if g:\n",
    "        lat = g[0][\"geometry\"][\"location\"][\"lat\"]\n",
    "        lng = g[0][\"geometry\"][\"location\"][\"lng\"]\n",
    "        return (lat, lng)\n",
    "    else:\n",
    "        return None\n",
    "\n",
    "# Apply geocoding to the 'Full_Address' column and store the results in the 'geocoded' column\n",
    "concat_df['geocoded'] = concat_df['full_address'].apply(geocode)\n",
    "\n",
    "# Split 'geocoded' into 'lat' and 'lon', handling None values\n",
    "concat_df[['lat', 'lon']] = concat_df['geocoded'].apply(lambda x: (None, None) if x is None else x).apply(pd.Series)\n",
    "\n",
    "# Convert 'lat' and 'lon' to floats\n",
    "concat_df['lat'] = concat_df['lat'].astype(float)\n",
    "concat_df['lon'] = concat_df['lon'].astype(float)\n",
    "\n",
    "# Create the 'geometry' column with Point objects\n",
    "concat_df['geometry'] = concat_df.apply(lambda row: Point(row['lon'], row['lat']) if pd.notnull(row['lat']) and pd.notnull(row['lon']) else None, axis=1)\n",
    "\n",
    "# Drop rows where geometry is None\n",
    "concat_df = concat_df.dropna(subset=['geometry'])\n",
    "\n",
    "# Create a GeoDataFrame\n",
    "gdf = gpd.GeoDataFrame(concat_df, geometry='geometry')\n",
    "\n",
    "# Set CRS (Coordinate Reference System) to WGS 84 (EPSG:4326)\n",
    "gdf.set_crs(epsg=4326, inplace=True)\n"
   ]
  },
  {
   "cell_type": "code",
   "execution_count": 9,
   "id": "ddafd4c1",
   "metadata": {},
   "outputs": [
    {
     "name": "stdout",
     "output_type": "stream",
     "text": [
      "$26,000,000\n",
      "------------------\n",
      "$80,000,000\n"
     ]
    }
   ],
   "source": [
    "print(f'${gdf.loan_int.min():,}')\n",
    "print('------------------')\n",
    "print(f'${gdf.loan_int.max():,}')"
   ]
  },
  {
   "cell_type": "code",
   "execution_count": 10,
   "id": "e8880909",
   "metadata": {},
   "outputs": [],
   "source": [
    "# Convert all data to strings if possible, or remove complex structures\n",
    "for col in gdf.columns:\n",
    "    if gdf[col].dtype == object:\n",
    "        try:\n",
    "            gdf[col] = gdf[col].astype(str)\n",
    "        except Exception as e:\n",
    "            print(f\"Could not convert column {col}: {e}\")\n",
    "            gdf.drop(columns=[col], inplace=True)\n"
   ]
  },
  {
   "cell_type": "code",
   "execution_count": 11,
   "id": "b5d80e76",
   "metadata": {},
   "outputs": [],
   "source": [
    "gdf.to_file('output.geojson', driver='GeoJSON')"
   ]
  },
  {
   "cell_type": "code",
   "execution_count": 12,
   "id": "ed928880",
   "metadata": {},
   "outputs": [
    {
     "name": "stdout",
     "output_type": "stream",
     "text": [
      "https://trd-digital.github.io/trd-news-interactive-maps/chicago_refinances_foreclosures_07_31_24\n"
     ]
    }
   ],
   "source": [
    "base_name = 'https://trd-digital.github.io/trd-news-interactive-maps/'\n",
    "\n",
    "cwd = os.getcwd()\n",
    "\n",
    "cwd = cwd.split('/')\n",
    "\n",
    "final_name = base_name + cwd[-1]\n",
    "print(final_name)"
   ]
  }
 ],
 "metadata": {
  "kernelspec": {
   "display_name": "Python 3 (ipykernel)",
   "language": "python",
   "name": "python3"
  },
  "language_info": {
   "codemirror_mode": {
    "name": "ipython",
    "version": 3
   },
   "file_extension": ".py",
   "mimetype": "text/x-python",
   "name": "python",
   "nbconvert_exporter": "python",
   "pygments_lexer": "ipython3",
   "version": "3.9.12"
  }
 },
 "nbformat": 4,
 "nbformat_minor": 5
}
