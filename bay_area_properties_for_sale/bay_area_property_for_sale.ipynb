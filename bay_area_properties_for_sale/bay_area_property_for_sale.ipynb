{
 "cells": [
  {
   "cell_type": "markdown",
   "metadata": {},
   "source": [
    "## Imports"
   ]
  },
  {
   "cell_type": "code",
   "execution_count": 60,
   "metadata": {},
   "outputs": [],
   "source": [
    "from geopy.geocoders import GoogleV3\n",
    "from bs4 import BeautifulSoup\n",
    "import requests\n",
    "import time\n",
    "import pandas as pd\n",
    "import numpy as np\n",
    "import urllib3\n",
    "import re\n",
    "from textwrap import shorten\n",
    "import os"
   ]
  },
  {
   "cell_type": "code",
   "execution_count": 61,
   "metadata": {},
   "outputs": [],
   "source": [
    "df = pd.read_csv('Bay Area companies that decided to put property up for sale, Jan. 1, 2022, to July 5, 2022 - Sheet1.csv')"
   ]
  },
  {
   "cell_type": "code",
   "execution_count": 62,
   "metadata": {},
   "outputs": [
    {
     "data": {
      "text/plain": [
       "Index(['Company name ', 'Home city ', 'Category ',\n",
       "       'Address(es) company put or plans to put on the market for sale ',\n",
       "       'Size of the property company put or plans to put on the market for sale, in sf',\n",
       "       'Asking price ', 'Taker found? ',\n",
       "       'Date TRD wrote about property coming to market for sale',\n",
       "       'Link to story'],\n",
       "      dtype='object')"
      ]
     },
     "execution_count": 62,
     "metadata": {},
     "output_type": "execute_result"
    }
   ],
   "source": [
    "df.columns"
   ]
  },
  {
   "cell_type": "markdown",
   "metadata": {},
   "source": [
    "## Image URL collector"
   ]
  },
  {
   "cell_type": "code",
   "execution_count": 63,
   "metadata": {},
   "outputs": [],
   "source": [
    "# Drop last n rows of a df. In case there are sums that need clipped\n",
    "# df.drop(df.tail(n).index, inplace=True)"
   ]
  },
  {
   "cell_type": "code",
   "execution_count": 64,
   "metadata": {},
   "outputs": [],
   "source": [
    "df['image_links'] = ''\n",
    "links = []\n",
    "for url in df['Link to story']:\n",
    "    try:\n",
    "        page = requests.get(url)\n",
    "        soup = BeautifulSoup(page.content, 'html.parser')\n",
    "        images = soup.find_all('img')\n",
    "        counter = 0\n",
    "        for image in images:\n",
    "            counter += 1\n",
    "            if 'jpg' in image['src']:\n",
    "                links.append(image['src'])\n",
    "                if counter == len(images):\n",
    "                    links.append('no image found')\n",
    "                break\n",
    "    except:\n",
    "        links.append('no_image')\n",
    "\n",
    "df['image_links'] = links"
   ]
  },
  {
   "cell_type": "markdown",
   "metadata": {},
   "source": [
    "## Article link formatter"
   ]
  },
  {
   "cell_type": "code",
   "execution_count": 65,
   "metadata": {},
   "outputs": [
    {
     "data": {
      "text/plain": [
       "'https://therealdeal.com/sanfrancisco/wp-content/uploads/2022/05/main-SF-State-Bar-to-sell-250K-sf-HQ-building-in-San-Francisco-705x439.jpg'"
      ]
     },
     "execution_count": 65,
     "metadata": {},
     "output_type": "execute_result"
    }
   ],
   "source": [
    "links[0]"
   ]
  },
  {
   "cell_type": "code",
   "execution_count": 66,
   "metadata": {},
   "outputs": [
    {
     "data": {
      "text/plain": [
       "0    State Bar of California \n",
       "1                Wells Fargo \n",
       "2                         UBS\n",
       "3                    Chevron \n",
       "Name: Company name , dtype: object"
      ]
     },
     "execution_count": 66,
     "metadata": {},
     "output_type": "execute_result"
    }
   ],
   "source": [
    "df['Company name ']"
   ]
  },
  {
   "cell_type": "code",
   "execution_count": 84,
   "metadata": {},
   "outputs": [
    {
     "data": {
      "text/plain": [
       "0    <a href=\"https://therealdeal.com/sanfrancisco/...\n",
       "1    <a href=\"https://therealdeal.com/sanfrancisco/...\n",
       "2    <a href=\"https://therealdeal.com/sanfrancisco/...\n",
       "3    <a href=\"https://therealdeal.com/sanfrancisco/...\n",
       "Name: description_link, dtype: object"
      ]
     },
     "execution_count": 84,
     "metadata": {},
     "output_type": "execute_result"
    }
   ],
   "source": [
    "df[\"short_description\"] = df[\"Company name \"].apply(lambda s: shorten(s, width=20, placeholder=\"\"))\n",
    "df['remaining_desc'] = df.apply(lambda row : row['Company name '].replace(str(row['short_description']), ''), axis=1)\n",
    "df['remaining_desc']\n",
    "\n",
    "df[\"description_link\"] = '<a href=\"' + df[\"Link to story\"] + '\">' + df[\"short_description\"] + \"</a>\" + df[\"remaining_desc\"]\n",
    "df['description_link']"
   ]
  },
  {
   "cell_type": "code",
   "execution_count": 68,
   "metadata": {},
   "outputs": [
    {
     "data": {
      "text/plain": [
       "'<a href=\"https://therealdeal.com/sanfrancisco/2022/05/12/state-bar-to-sell-250k-sf-hq-building-in-san-francisco/\">State</a> Bar of California '"
      ]
     },
     "execution_count": 68,
     "metadata": {},
     "output_type": "execute_result"
    }
   ],
   "source": [
    "df.description_link[0]"
   ]
  },
  {
   "cell_type": "markdown",
   "metadata": {},
   "source": [
    "## Google Maps API Geolocater Setup"
   ]
  },
  {
   "cell_type": "code",
   "execution_count": 85,
   "metadata": {},
   "outputs": [],
   "source": [
    "%store -r google_maps_API_Key\n",
    "geolocator = GoogleV3(api_key=google_maps_API_Key)"
   ]
  },
  {
   "cell_type": "code",
   "execution_count": 86,
   "metadata": {},
   "outputs": [],
   "source": [
    "df['geo_address'] = df['Address(es) company put or plans to put on the market for sale '] + ' CA'\n",
    "df['loc'] = df['geo_address'].apply(geolocator.geocode, timeout=10)\n",
    "df['point'] = df['loc'].apply(lambda loc: tuple(loc.point) if loc else None)\n",
    "df[['lat','lon','altitude']] = pd.DataFrame(df['point'].to_list(),index=df.index)"
   ]
  },
  {
   "cell_type": "markdown",
   "metadata": {},
   "source": [
    "## HTML popup formatter"
   ]
  },
  {
   "cell_type": "code",
   "execution_count": 87,
   "metadata": {},
   "outputs": [],
   "source": [
    "def popup_html(row):\n",
    "    i = row\n",
    "    address = df['Address(es) company put or plans to put on the market for sale '].iloc[i]\n",
    "    developer = df['Size of the property company put or plans to put on the market for sale, in sf'].iloc[i]\n",
    "    description = df['description_link'].iloc[i]\n",
    "    image = df['image_links'].iloc[i]\n",
    "    \n",
    "    html = '''<!DOCTYPE html>\n",
    "    <html>\n",
    "    <img src={} width=\"256\" height=\"156\">'''.format(image) + '''<br>______________________________________<br>\n",
    "    Address: <em>{}'''.format(address) + '''</em><br>\n",
    "    Size of property: <strong><em>{}'''.format(developer) + '''</strong></em><br><br>\n",
    "    Company Name: <strong>{}'''.format(description) + '''</strong></html>\n",
    "    '''\n",
    "    return html\n"
   ]
  },
  {
   "cell_type": "markdown",
   "metadata": {},
   "source": [
    "### HTML reservoir"
   ]
  },
  {
   "cell_type": "code",
   "execution_count": 72,
   "metadata": {},
   "outputs": [],
   "source": [
    "#     Developer(s): <strong><em>{}'''.format(developer) + '''</strong></em><br><br>"
   ]
  },
  {
   "cell_type": "markdown",
   "metadata": {},
   "source": [
    "## Map Maker"
   ]
  },
  {
   "cell_type": "code",
   "execution_count": 88,
   "metadata": {},
   "outputs": [
    {
     "data": {
      "text/plain": [
       "'<a href=\"https://therealdeal.com/sanfrancisco/2022/05/12/state-bar-to-sell-250k-sf-hq-building-in-san-francisco/\">State Bar of</a> California '"
      ]
     },
     "execution_count": 88,
     "metadata": {},
     "output_type": "execute_result"
    }
   ],
   "source": [
    "df.description_link[0]"
   ]
  },
  {
   "cell_type": "code",
   "execution_count": 89,
   "metadata": {},
   "outputs": [
    {
     "data": {
      "text/html": [
       "<div style=\"width:100%;\"><div style=\"position:relative;width:100%;height:0;padding-bottom:60%;\"><span style=\"color:#565656\">Make this Notebook Trusted to load map: File -> Trust Notebook</span><iframe srcdoc=\"&lt;!DOCTYPE html&gt;\n",
       "&lt;head&gt;    \n",
       "    &lt;meta http-equiv=&quot;content-type&quot; content=&quot;text/html; charset=UTF-8&quot; /&gt;\n",
       "    \n",
       "        &lt;script&gt;\n",
       "            L_NO_TOUCH = false;\n",
       "            L_DISABLE_3D = false;\n",
       "        &lt;/script&gt;\n",
       "    \n",
       "    &lt;style&gt;html, body {width: 100%;height: 100%;margin: 0;padding: 0;}&lt;/style&gt;\n",
       "    &lt;style&gt;#map {position:absolute;top:0;bottom:0;right:0;left:0;}&lt;/style&gt;\n",
       "    &lt;script src=&quot;https://cdn.jsdelivr.net/npm/leaflet@1.6.0/dist/leaflet.js&quot;&gt;&lt;/script&gt;\n",
       "    &lt;script src=&quot;https://code.jquery.com/jquery-1.12.4.min.js&quot;&gt;&lt;/script&gt;\n",
       "    &lt;script src=&quot;https://maxcdn.bootstrapcdn.com/bootstrap/3.2.0/js/bootstrap.min.js&quot;&gt;&lt;/script&gt;\n",
       "    &lt;script src=&quot;https://cdnjs.cloudflare.com/ajax/libs/Leaflet.awesome-markers/2.0.2/leaflet.awesome-markers.js&quot;&gt;&lt;/script&gt;\n",
       "    &lt;link rel=&quot;stylesheet&quot; href=&quot;https://cdn.jsdelivr.net/npm/leaflet@1.6.0/dist/leaflet.css&quot;/&gt;\n",
       "    &lt;link rel=&quot;stylesheet&quot; href=&quot;https://maxcdn.bootstrapcdn.com/bootstrap/3.2.0/css/bootstrap.min.css&quot;/&gt;\n",
       "    &lt;link rel=&quot;stylesheet&quot; href=&quot;https://maxcdn.bootstrapcdn.com/bootstrap/3.2.0/css/bootstrap-theme.min.css&quot;/&gt;\n",
       "    &lt;link rel=&quot;stylesheet&quot; href=&quot;https://maxcdn.bootstrapcdn.com/font-awesome/4.6.3/css/font-awesome.min.css&quot;/&gt;\n",
       "    &lt;link rel=&quot;stylesheet&quot; href=&quot;https://cdnjs.cloudflare.com/ajax/libs/Leaflet.awesome-markers/2.0.2/leaflet.awesome-markers.css&quot;/&gt;\n",
       "    &lt;link rel=&quot;stylesheet&quot; href=&quot;https://cdn.jsdelivr.net/gh/python-visualization/folium/folium/templates/leaflet.awesome.rotate.min.css&quot;/&gt;\n",
       "    \n",
       "            &lt;meta name=&quot;viewport&quot; content=&quot;width=device-width,\n",
       "                initial-scale=1.0, maximum-scale=1.0, user-scalable=no&quot; /&gt;\n",
       "            &lt;style&gt;\n",
       "                #map_12d0cd254f41b39495efc3c28536aa37 {\n",
       "                    position: relative;\n",
       "                    width: 100.0%;\n",
       "                    height: 100.0%;\n",
       "                    left: 0.0%;\n",
       "                    top: 0.0%;\n",
       "                }\n",
       "            &lt;/style&gt;\n",
       "        \n",
       "&lt;/head&gt;\n",
       "&lt;body&gt;    \n",
       "    \n",
       "              &lt;h3 align=&quot;center&quot; style=&quot;font-size:16px&quot;&gt;&lt;b&gt;Bay Area companies that decided to put property up for sale, Jan. 1, 2022, to July 5, 2022&lt;/b&gt;&lt;/h3&gt;\n",
       "             \n",
       "    \n",
       "            &lt;div class=&quot;folium-map&quot; id=&quot;map_12d0cd254f41b39495efc3c28536aa37&quot; &gt;&lt;/div&gt;\n",
       "        \n",
       "&lt;/body&gt;\n",
       "&lt;script&gt;    \n",
       "    \n",
       "            var map_12d0cd254f41b39495efc3c28536aa37 = L.map(\n",
       "                &quot;map_12d0cd254f41b39495efc3c28536aa37&quot;,\n",
       "                {\n",
       "                    center: [37.783371024999994, -122.28878695],\n",
       "                    crs: L.CRS.EPSG3857,\n",
       "                    zoom: 11,\n",
       "                    zoomControl: true,\n",
       "                    preferCanvas: false,\n",
       "                }\n",
       "            );\n",
       "\n",
       "            \n",
       "\n",
       "        \n",
       "    \n",
       "            var tile_layer_c3ae5dede354f2de8b0a82f76aaa3ec6 = L.tileLayer(\n",
       "                &quot;https://{s}.tile.openstreetmap.org/{z}/{x}/{y}.png&quot;,\n",
       "                {&quot;attribution&quot;: &quot;Data by \\u0026copy; \\u003ca href=\\&quot;http://openstreetmap.org\\&quot;\\u003eOpenStreetMap\\u003c/a\\u003e, under \\u003ca href=\\&quot;http://www.openstreetmap.org/copyright\\&quot;\\u003eODbL\\u003c/a\\u003e.&quot;, &quot;detectRetina&quot;: false, &quot;maxNativeZoom&quot;: 18, &quot;maxZoom&quot;: 18, &quot;minZoom&quot;: 0, &quot;noWrap&quot;: false, &quot;opacity&quot;: 1, &quot;subdomains&quot;: &quot;abc&quot;, &quot;tms&quot;: false}\n",
       "            ).addTo(map_12d0cd254f41b39495efc3c28536aa37);\n",
       "        \n",
       "    \n",
       "            var marker_1d89343e29cbc3f39e822c8f5766784f = L.marker(\n",
       "                [37.791073, -122.393397],\n",
       "                {}\n",
       "            ).addTo(map_12d0cd254f41b39495efc3c28536aa37);\n",
       "        \n",
       "    \n",
       "        var popup_2231bdf7df3e3c0ea414d55cbcb40fe9 = L.popup({&quot;maxWidth&quot;: &quot;100%&quot;});\n",
       "\n",
       "        \n",
       "            var html_c35064534052ce23e15d20b0c760fcc3 = $(`&lt;div id=&quot;html_c35064534052ce23e15d20b0c760fcc3&quot; style=&quot;width: 100.0%; height: 100.0%;&quot;&gt;&lt;!DOCTYPE html&gt;     &lt;html&gt;     &lt;img src=https://therealdeal.com/sanfrancisco/wp-content/uploads/2022/05/main-SF-State-Bar-to-sell-250K-sf-HQ-building-in-San-Francisco-705x439.jpg width=&quot;256&quot; height=&quot;156&quot;&gt;&lt;br&gt;______________________________________&lt;br&gt;     Address: &lt;em&gt;180 Howard Street, San Francisco&lt;/em&gt;&lt;br&gt;     Size of property: &lt;strong&gt;&lt;em&gt;250K sf&lt;/strong&gt;&lt;/em&gt;&lt;br&gt;&lt;br&gt;     Company Name: &lt;strong&gt;&lt;a href=&quot;https://therealdeal.com/sanfrancisco/2022/05/12/state-bar-to-sell-250k-sf-hq-building-in-san-francisco/&quot;&gt;State Bar of&lt;/a&gt; California &lt;/strong&gt;&lt;/html&gt;     &lt;/div&gt;`)[0];\n",
       "            popup_2231bdf7df3e3c0ea414d55cbcb40fe9.setContent(html_c35064534052ce23e15d20b0c760fcc3);\n",
       "        \n",
       "\n",
       "        marker_1d89343e29cbc3f39e822c8f5766784f.bindPopup(popup_2231bdf7df3e3c0ea414d55cbcb40fe9)\n",
       "        ;\n",
       "\n",
       "        \n",
       "    \n",
       "    \n",
       "            var marker_1cbf32b2bc041d7c232ff28774961077 = L.marker(\n",
       "                [37.7931088, -122.4036319],\n",
       "                {}\n",
       "            ).addTo(map_12d0cd254f41b39495efc3c28536aa37);\n",
       "        \n",
       "    \n",
       "        var popup_ab9d63e3137ffa639ae84690cec98993 = L.popup({&quot;maxWidth&quot;: &quot;100%&quot;});\n",
       "\n",
       "        \n",
       "            var html_8cd844d54bc484f1e1b68c5eb9b1abd1 = $(`&lt;div id=&quot;html_8cd844d54bc484f1e1b68c5eb9b1abd1&quot; style=&quot;width: 100.0%; height: 100.0%;&quot;&gt;&lt;!DOCTYPE html&gt;     &lt;html&gt;     &lt;img src=https://therealdeal.com/sanfrancisco/wp-content/uploads/2022/04/main-Wells-Fargo-to-sell-SF-one-office-tower-renew-lease-on-another-705x439.jpg width=&quot;256&quot; height=&quot;156&quot;&gt;&lt;br&gt;______________________________________&lt;br&gt;     Address: &lt;em&gt;550 California Street, San Francisco &lt;/em&gt;&lt;br&gt;     Size of property: &lt;strong&gt;&lt;em&gt;About 333K sf&lt;/strong&gt;&lt;/em&gt;&lt;br&gt;&lt;br&gt;     Company Name: &lt;strong&gt;&lt;a href=&quot;https://therealdeal.com/sanfrancisco/2022/04/12/wells-fargo-to-sell-sf-one-office-tower-renew-lease-on-another/&quot;&gt;Wells Fargo&lt;/a&gt; &lt;/strong&gt;&lt;/html&gt;     &lt;/div&gt;`)[0];\n",
       "            popup_ab9d63e3137ffa639ae84690cec98993.setContent(html_8cd844d54bc484f1e1b68c5eb9b1abd1);\n",
       "        \n",
       "\n",
       "        marker_1cbf32b2bc041d7c232ff28774961077.bindPopup(popup_ab9d63e3137ffa639ae84690cec98993)\n",
       "        ;\n",
       "\n",
       "        \n",
       "    \n",
       "    \n",
       "            var marker_057d6f2741c4cdaf628ff4fef23914bf = L.marker(\n",
       "                [37.79079189999999, -122.3984543],\n",
       "                {}\n",
       "            ).addTo(map_12d0cd254f41b39495efc3c28536aa37);\n",
       "        \n",
       "    \n",
       "        var popup_783932bca0bf359ec57f4e5c7f7c2d6b = L.popup({&quot;maxWidth&quot;: &quot;100%&quot;});\n",
       "\n",
       "        \n",
       "            var html_4afa91ea5f1f013e6caa9ea05f75914e = $(`&lt;div id=&quot;html_4afa91ea5f1f013e6caa9ea05f75914e&quot; style=&quot;width: 100.0%; height: 100.0%;&quot;&gt;&lt;!DOCTYPE html&gt;     &lt;html&gt;     &lt;img src=https://therealdeal.com/sanfrancisco/wp-content/uploads/2022/06/main_SF_UBS-705x439.jpg width=&quot;256&quot; height=&quot;156&quot;&gt;&lt;br&gt;______________________________________&lt;br&gt;     Address: &lt;em&gt;455 Market Street, San Francisco&lt;/em&gt;&lt;br&gt;     Size of property: &lt;strong&gt;&lt;em&gt;About 372K sf&lt;/strong&gt;&lt;/em&gt;&lt;br&gt;&lt;br&gt;     Company Name: &lt;strong&gt;&lt;a href=&quot;https://therealdeal.com/sanfrancisco/2022/06/13/ubs-lists-sf-office-tower-for-280m/&quot;&gt;UBS&lt;/a&gt;&lt;/strong&gt;&lt;/html&gt;     &lt;/div&gt;`)[0];\n",
       "            popup_783932bca0bf359ec57f4e5c7f7c2d6b.setContent(html_4afa91ea5f1f013e6caa9ea05f75914e);\n",
       "        \n",
       "\n",
       "        marker_057d6f2741c4cdaf628ff4fef23914bf.bindPopup(popup_783932bca0bf359ec57f4e5c7f7c2d6b)\n",
       "        ;\n",
       "\n",
       "        \n",
       "    \n",
       "    \n",
       "            var marker_666361b85326a68b3626350e9bbf89ca = L.marker(\n",
       "                [37.7585104, -121.9596646],\n",
       "                {}\n",
       "            ).addTo(map_12d0cd254f41b39495efc3c28536aa37);\n",
       "        \n",
       "    \n",
       "        var popup_bce475733eeb8b6f3a395c64d429ed99 = L.popup({&quot;maxWidth&quot;: &quot;100%&quot;});\n",
       "\n",
       "        \n",
       "            var html_0a2ba3f72ca12061b1d0e2dfa05408d1 = $(`&lt;div id=&quot;html_0a2ba3f72ca12061b1d0e2dfa05408d1&quot; style=&quot;width: 100.0%; height: 100.0%;&quot;&gt;&lt;!DOCTYPE html&gt;     &lt;html&gt;     &lt;img src=https://therealdeal.com/sanfrancisco/wp-content/uploads/2022/06/Chevron-to-sell-92-acre-HQ-campus-in-San-Ramon-705x466.jpg width=&quot;256&quot; height=&quot;156&quot;&gt;&lt;br&gt;______________________________________&lt;br&gt;     Address: &lt;em&gt;6001 Bollinger Canyon Road, San Ramon &lt;/em&gt;&lt;br&gt;     Size of property: &lt;strong&gt;&lt;em&gt;1.4M sf &lt;/strong&gt;&lt;/em&gt;&lt;br&gt;&lt;br&gt;     Company Name: &lt;strong&gt;&lt;a href=&quot;https://therealdeal.com/sanfrancisco/2022/06/27/chevron-to-sell-92-acre-hq-campus-in-san-ramon/&quot;&gt;Chevron&lt;/a&gt; &lt;/strong&gt;&lt;/html&gt;     &lt;/div&gt;`)[0];\n",
       "            popup_bce475733eeb8b6f3a395c64d429ed99.setContent(html_0a2ba3f72ca12061b1d0e2dfa05408d1);\n",
       "        \n",
       "\n",
       "        marker_666361b85326a68b3626350e9bbf89ca.bindPopup(popup_bce475733eeb8b6f3a395c64d429ed99)\n",
       "        ;\n",
       "\n",
       "        \n",
       "    \n",
       "    \n",
       "            map_12d0cd254f41b39495efc3c28536aa37.fitBounds(\n",
       "                [37.783371024999994, -122.28878695],\n",
       "                {&quot;maxZoom&quot;: 15}\n",
       "            );\n",
       "        \n",
       "&lt;/script&gt;\" style=\"position:absolute;width:100%;height:100%;left:0;top:0;border:none !important;\" allowfullscreen webkitallowfullscreen mozallowfullscreen></iframe></div></div>"
      ],
      "text/plain": [
       "<folium.folium.Map at 0x16b4998a0>"
      ]
     },
     "execution_count": 89,
     "metadata": {},
     "output_type": "execute_result"
    }
   ],
   "source": [
    "import folium\n",
    "import branca\n",
    "\n",
    "f = folium.Figure(width=750, height=750)\n",
    "m = folium.Map(location=df[[\"lat\", \"lon\"]].mean().to_list(),zoom_start=11)\n",
    "\n",
    "title_html = '''\n",
    "              <h3 align=\"center\" style=\"font-size:16px\"><b>{}</b></h3>\n",
    "             '''.format(f'Bay Area companies that decided to put property up for sale, Jan. 1, 2022, to July 5, 2022')\n",
    "\n",
    "for i in range(0,len(df)):\n",
    "    html = popup_html(i)\n",
    "    iframe = branca.element.IFrame(html=html)\n",
    "    popup = folium.Popup(folium.Html(html, script=True))\n",
    "    folium.Marker([df['lat'].iloc[i],df['lon'].iloc[i]],\n",
    "                 popup=popup).add_to(m)\n",
    "\n",
    "m.get_root().html.add_child(folium.Element(title_html))\n",
    "m.fit_bounds(bounds=df[['lat','lon']].mean().to_list(),max_zoom=15)\n",
    "# m.add_to(f)\n",
    "m"
   ]
  },
  {
   "cell_type": "code",
   "execution_count": 90,
   "metadata": {},
   "outputs": [],
   "source": [
    "m.save('index.html')"
   ]
  },
  {
   "cell_type": "markdown",
   "metadata": {},
   "source": [
    "## Map URL snagger"
   ]
  },
  {
   "cell_type": "markdown",
   "metadata": {},
   "source": [
    "Map template URL: `https://trd-digital.github.io/trd-news-interactive-maps/{map-folder-name}`"
   ]
  },
  {
   "cell_type": "code",
   "execution_count": 91,
   "metadata": {},
   "outputs": [],
   "source": [
    "base_name = 'https://trd-digital.github.io/trd-news-interactive-maps/'"
   ]
  },
  {
   "cell_type": "code",
   "execution_count": 92,
   "metadata": {},
   "outputs": [
    {
     "name": "stdout",
     "output_type": "stream",
     "text": [
      "https://trd-digital.github.io/trd-news-interactive-maps/bay_area_properties_for_sale\n"
     ]
    }
   ],
   "source": [
    "cwd = os.getcwd()\n",
    "\n",
    "cwd = cwd.split('/')\n",
    "\n",
    "final_name = base_name  + cwd[-1]\n",
    "print(final_name)"
   ]
  }
 ],
 "metadata": {
  "kernelspec": {
   "display_name": "Python 3 (ipykernel)",
   "language": "python",
   "name": "python3"
  },
  "language_info": {
   "codemirror_mode": {
    "name": "ipython",
    "version": 3
   },
   "file_extension": ".py",
   "mimetype": "text/x-python",
   "name": "python",
   "nbconvert_exporter": "python",
   "pygments_lexer": "ipython3",
   "version": "3.10.3"
  },
  "toc": {
   "base_numbering": 1,
   "nav_menu": {},
   "number_sections": true,
   "sideBar": true,
   "skip_h1_title": false,
   "title_cell": "Table of Contents",
   "title_sidebar": "Contents",
   "toc_cell": false,
   "toc_position": {},
   "toc_section_display": true,
   "toc_window_display": false
  }
 },
 "nbformat": 4,
 "nbformat_minor": 4
}
