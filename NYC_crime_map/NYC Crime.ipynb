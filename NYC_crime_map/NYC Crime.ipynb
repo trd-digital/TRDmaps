{
 "cells": [
  {
   "cell_type": "code",
   "execution_count": 1,
   "id": "5e4d2f7e",
   "metadata": {
    "id": "5e4d2f7e"
   },
   "outputs": [],
   "source": [
    "import pandas as pd\n",
    "import numpy as np\n",
    "import geopandas as gpd\n",
    "\n",
    "#Keep all crimes\n",
    "#Separate analysis with only violent crimes\n",
    "#MOM analysis of price change "
   ]
  },
  {
   "cell_type": "markdown",
   "id": "cfa85257",
   "metadata": {},
   "source": [
    "## PD set options"
   ]
  },
  {
   "cell_type": "code",
   "execution_count": 2,
   "id": "da54989b",
   "metadata": {},
   "outputs": [],
   "source": [
    "pd.set_option('display.max_rows', 500)\n",
    "pd.set_option('display.max_columns', 500)\n",
    "pd.set_option('display.width', 1000)\n",
    "pd.set_option('use_inf_as_na',True)"
   ]
  },
  {
   "cell_type": "code",
   "execution_count": 3,
   "id": "aZf1T8IcSurA",
   "metadata": {
    "id": "aZf1T8IcSurA"
   },
   "outputs": [],
   "source": [
    "df = pd.read_csv(r'NYPD_Complaint_Data_Current__Year_To_Date_.csv')"
   ]
  },
  {
   "cell_type": "code",
   "execution_count": 4,
   "id": "38b6fef5",
   "metadata": {
    "id": "38b6fef5"
   },
   "outputs": [],
   "source": [
    "df = df.rename(columns={'CMPLNT_NUM':'Complaint Number','ADDR_PCT_CD':'Precinct',\n",
    "                  'BORO_NM':'Borough','CMPLNT_FR_DT':'Occurrence Date',\n",
    "                  'CMPLNT_FR_TM':'Occurrence Time','CMPLNT_TO_DT':'Occurrence End',\n",
    "                  'CMPLNT_TO_TM':'Occurrence End Time','CRM_ATPT_CPTD_CD':'Crime Sux?',\n",
    "                  'HADEVELOPT':'NYCHA Dev','HOUSING_PSA':'Development Level Code','JURISDICTION_CODE':'Agency',\n",
    "                  'JURIS_DESC':'Jurisdiction Code Description','KY_CD':'Offense Code','LAW_CAT_CD':'Level of Offense',\n",
    "                  'LOC_OF_OCCUR_DESC':'Specific Location','OFNS_DESC':'Offense Description',\n",
    "                  'PARKS_NM':'Park Name','PATROL_BORO':'Patrol Boro Name','PD_CD':'Internal Offense Code',\n",
    "                  'PD_DESC':'Internal Offense Description','PREM_TYP_DESC':'Location Description',\n",
    "                  'RPT_DT':'Report Date','STATION_NAME':'Station Name','SUSP_AGE_GROUP':'Suspect Age',\n",
    "                  'SUSP_RACE':'Suspect Race','SUSP_SEX':'Suspect Sex','TRANSIT_DISTRICT':'Transit District',\n",
    "                  'VIC_AGE_GROUP':'Victim Age','VIC_RACE':'Victim Race','VIC_SEX':'Victim Sex'})                "
   ]
  },
  {
   "cell_type": "code",
   "execution_count": 5,
   "id": "17d69414",
   "metadata": {
    "id": "17d69414"
   },
   "outputs": [],
   "source": [
    "df.drop(['Occurrence End','Occurrence End Time','Agency','Offense Code','Patrol Boro Name','Internal Offense Code','Report Date',\n",
    "        'Suspect Age','Suspect Race','Suspect Sex','Crime Sux?','Victim Age',\n",
    "         'Victim Sex','Victim Race'], axis=1, inplace=True)"
   ]
  },
  {
   "cell_type": "code",
   "execution_count": 6,
   "id": "2135b03a",
   "metadata": {
    "id": "2135b03a"
   },
   "outputs": [],
   "source": [
    "df = df[df['Borough'] != 'STATEN ISLAND']"
   ]
  },
  {
   "cell_type": "markdown",
   "id": "822358f5",
   "metadata": {
    "id": "822358f5"
   },
   "source": [
    "Keeping this as markdown as it will likely be helpful when we do our violent crimes analysis\n",
    "\n",
    "df = df[df['Offense Description'] != 'OTHER STATE LAWS (NON PENAL LAW)']\n",
    "df = df[df['Offense Description'] != 'DISRUPTION OF A RELIGIOUS SERV']\n",
    "df = df[df['Offense Description'] != 'ANTICIPATORY OFFENSES']\n",
    "df = df[df['Offense Description'] != 'NEW YORK CITY HEALTH CODE']\n",
    "df = df[df['Offense Description'] != 'INTOXICATED/IMPAIRED DRIVING']\n",
    "df = df[df['Offense Description'] != 'HOMICIDE-NEGLIGENT-VEHICLE']\n",
    "df = df[df['Offense Description'] != '(null)']\n",
    "df = df[df['Offense Description'] != 'NYS LAWS-UNCLASSIFIED VIOLATION']\n",
    "df = df[df['Offense Description'] != 'JOSTLING']\n",
    "#df = df[df['Offense Description'] != 'LOITERING/GAMBLING (CARDS, DIC JOSTLING)']\n",
    "df = df[df['Offense Description'] != 'ESCAPE 3'] #ESCAPE FROM CUSTODY\n",
    "df = df[df['Offense Description'] != 'HOMICIDE-NEGLIGENT, UNCLASSIFIE'] #UNSURE ABOUT THIS ONE \n",
    "df = df[df['Offense Description'] != 'UNLAWFUL POSS. WEAP. ON SCHOOL']\n",
    "#df = df[df['Offense Description'] != 'DISORDERLY CONDUCT']\n",
    "#df = df[df['Offense Description'] != 'CHILD ABANDONMENT/NON SUPPORT']\n",
    "df = df[df['Offense Description'] != 'ALCOHOLIC BEVERAGE CONTROL LAW']\n",
    "#df = df[df['Offense Description'] != 'PROSTITUTION & RELATED OFFENSES']\n",
    "df = df[df['Offense Description'] != 'FRAUDULENT ACCOSTING']\n",
    "#df = df[df['Offense Description'] != 'CANNABIS RELATED OFFENSES']\n",
    "df = df[df['Offense Description'] != 'OTHER STATE LAWS']\n",
    "df = df[df['Offense Description'] != 'AGRICULTURE & MRKTS LAW-UNCLASSIFIED']\n",
    "df = df[df['Offense Description'] != 'GAMBLING']\n",
    "df = df[df['Offense Description'] != 'THEFT OF SERVICES']\n",
    "#df = df[df['Offense Description'] != \"BURGLAR'S TOOLS\"]\n",
    "df = df[df['Offense Description'] != 'OTHER STATE LAWS (NON PENAL LA']\n",
    "df = df[df['Offense Description'] != 'ADMINISTRATIVE CODE']\n",
    "df = df[df['Offense Description'] != 'UNAUTHORIZED USE OF A VEHICLE']\n",
    "df = df[df['Offense Description'] != 'POSSESSION OF STOLEN PROPERTY']\n",
    "df = df[df['Offense Description'] != 'FRAUDS']\n",
    "df = df[df['Offense Description'] != 'THEFT-FRAUD']\n",
    "df = df[df['Offense Description'] != 'INTOXICATED & IMPAIRED DRIVING']\n",
    "df = df[df['Offense Description'] != 'OFFENSES INVOLVING FRAUD']\n",
    "df = df[df['Offense Description'] != 'FORGERY']\n",
    "df = df[df['Offense Description'] != 'OFFENSES AGAINST PUBLIC ADMINI']\n",
    "df = df[df['Offense Description'] != 'DANGEROUS DRUGS'] #UNSURE ABOUT THIS ONE \n",
    "df = df[df['Offense Description'] != 'VEHICLE AND TRAFFIC LAWS']\n",
    "df = df[df['Offense Description'] != 'VEHICLE AND TRAFFIC LAWS']\n",
    "\n",
    "\n",
    "\n",
    "\n",
    "\n",
    "\n",
    "Potential next steps:\n",
    "\n",
    "1. Breaking out data by month and quarter -- I have code for this somewhere\n",
    "2. Getting it on a map(s)\n",
    "3. Mapping our deals data \n",
    "\n",
    "\n",
    "\n"
   ]
  },
  {
   "cell_type": "code",
   "execution_count": 7,
   "id": "e748a9dc",
   "metadata": {
    "id": "e748a9dc"
   },
   "outputs": [],
   "source": [
    "df['DATE'] = pd.to_datetime(df['Occurrence Date'])"
   ]
  },
  {
   "cell_type": "code",
   "execution_count": 8,
   "id": "2e48c8b5",
   "metadata": {},
   "outputs": [
    {
     "data": {
      "text/html": [
       "<div>\n",
       "<style scoped>\n",
       "    .dataframe tbody tr th:only-of-type {\n",
       "        vertical-align: middle;\n",
       "    }\n",
       "\n",
       "    .dataframe tbody tr th {\n",
       "        vertical-align: top;\n",
       "    }\n",
       "\n",
       "    .dataframe thead th {\n",
       "        text-align: right;\n",
       "    }\n",
       "</style>\n",
       "<table border=\"1\" class=\"dataframe\">\n",
       "  <thead>\n",
       "    <tr style=\"text-align: right;\">\n",
       "      <th></th>\n",
       "      <th>Complaint Number</th>\n",
       "      <th>Precinct</th>\n",
       "      <th>Borough</th>\n",
       "      <th>Occurrence Date</th>\n",
       "      <th>Occurrence Time</th>\n",
       "      <th>NYCHA Dev</th>\n",
       "      <th>Development Level Code</th>\n",
       "      <th>Jurisdiction Code Description</th>\n",
       "      <th>Level of Offense</th>\n",
       "      <th>Specific Location</th>\n",
       "      <th>Offense Description</th>\n",
       "      <th>Park Name</th>\n",
       "      <th>Internal Offense Description</th>\n",
       "      <th>Location Description</th>\n",
       "      <th>Station Name</th>\n",
       "      <th>Transit District</th>\n",
       "      <th>X_COORD_CD</th>\n",
       "      <th>Y_COORD_CD</th>\n",
       "      <th>Latitude</th>\n",
       "      <th>Longitude</th>\n",
       "      <th>Lat_Lon</th>\n",
       "      <th>New Georeferenced Column</th>\n",
       "      <th>Zip Codes</th>\n",
       "      <th>Community Districts</th>\n",
       "      <th>Borough Boundaries</th>\n",
       "      <th>City Council Districts</th>\n",
       "      <th>Police Precincts</th>\n",
       "      <th>DATE</th>\n",
       "    </tr>\n",
       "  </thead>\n",
       "  <tbody>\n",
       "    <tr>\n",
       "      <th>0</th>\n",
       "      <td>238496477</td>\n",
       "      <td>10.0</td>\n",
       "      <td>MANHATTAN</td>\n",
       "      <td>01/01/2022</td>\n",
       "      <td>02:55:00</td>\n",
       "      <td>(null)</td>\n",
       "      <td>NaN</td>\n",
       "      <td>N.Y. POLICE DEPT</td>\n",
       "      <td>MISDEMEANOR</td>\n",
       "      <td>INSIDE</td>\n",
       "      <td>PETIT LARCENY</td>\n",
       "      <td>(null)</td>\n",
       "      <td>LARCENY,PETIT FROM BUILDING,UN</td>\n",
       "      <td>OTHER</td>\n",
       "      <td>(null)</td>\n",
       "      <td>NaN</td>\n",
       "      <td>984685.0</td>\n",
       "      <td>209908.0</td>\n",
       "      <td>40.742827</td>\n",
       "      <td>-73.998428</td>\n",
       "      <td>(40.742827, -73.998428)</td>\n",
       "      <td>POINT (-73.998428 40.742827)</td>\n",
       "      <td>12074.0</td>\n",
       "      <td>12.0</td>\n",
       "      <td>4.0</td>\n",
       "      <td>10.0</td>\n",
       "      <td>6.0</td>\n",
       "      <td>2022-01-01</td>\n",
       "    </tr>\n",
       "    <tr>\n",
       "      <th>1</th>\n",
       "      <td>241159861</td>\n",
       "      <td>70.0</td>\n",
       "      <td>BROOKLYN</td>\n",
       "      <td>01/01/2022</td>\n",
       "      <td>10:27:00</td>\n",
       "      <td>(null)</td>\n",
       "      <td>NaN</td>\n",
       "      <td>N.Y. POLICE DEPT</td>\n",
       "      <td>MISDEMEANOR</td>\n",
       "      <td>INSIDE</td>\n",
       "      <td>PETIT LARCENY</td>\n",
       "      <td>(null)</td>\n",
       "      <td>LARCENY,PETIT FROM BUILDING,UNATTENDED, PACKAG...</td>\n",
       "      <td>RESIDENCE - APT. HOUSE</td>\n",
       "      <td>(null)</td>\n",
       "      <td>NaN</td>\n",
       "      <td>994524.0</td>\n",
       "      <td>175697.0</td>\n",
       "      <td>40.648921</td>\n",
       "      <td>-73.962975</td>\n",
       "      <td>(40.648921, -73.962975)</td>\n",
       "      <td>POINT (-73.962975 40.648921)</td>\n",
       "      <td>13510.0</td>\n",
       "      <td>60.0</td>\n",
       "      <td>2.0</td>\n",
       "      <td>11.0</td>\n",
       "      <td>43.0</td>\n",
       "      <td>2022-01-01</td>\n",
       "    </tr>\n",
       "    <tr>\n",
       "      <th>2</th>\n",
       "      <td>238539279</td>\n",
       "      <td>1.0</td>\n",
       "      <td>MANHATTAN</td>\n",
       "      <td>01/01/2022</td>\n",
       "      <td>03:50:00</td>\n",
       "      <td>(null)</td>\n",
       "      <td>NaN</td>\n",
       "      <td>N.Y. POLICE DEPT</td>\n",
       "      <td>FELONY</td>\n",
       "      <td>OPPOSITE OF</td>\n",
       "      <td>CRIMINAL MISCHIEF &amp; RELATED OF</td>\n",
       "      <td>(null)</td>\n",
       "      <td>MISCHIEF, CRIMINAL 3 &amp; 2, OF M</td>\n",
       "      <td>OPEN AREAS (OPEN LOTS)</td>\n",
       "      <td>(null)</td>\n",
       "      <td>NaN</td>\n",
       "      <td>983316.0</td>\n",
       "      <td>202389.0</td>\n",
       "      <td>40.722189</td>\n",
       "      <td>-74.003369</td>\n",
       "      <td>(40.722189, -74.003369)</td>\n",
       "      <td>POINT (-74.003369 40.722189)</td>\n",
       "      <td>12076.0</td>\n",
       "      <td>57.0</td>\n",
       "      <td>4.0</td>\n",
       "      <td>32.0</td>\n",
       "      <td>1.0</td>\n",
       "      <td>2022-01-01</td>\n",
       "    </tr>\n",
       "    <tr>\n",
       "      <th>4</th>\n",
       "      <td>238526904</td>\n",
       "      <td>84.0</td>\n",
       "      <td>BROOKLYN</td>\n",
       "      <td>01/01/2022</td>\n",
       "      <td>23:05:00</td>\n",
       "      <td>(null)</td>\n",
       "      <td>NaN</td>\n",
       "      <td>N.Y. POLICE DEPT</td>\n",
       "      <td>FELONY</td>\n",
       "      <td>INSIDE</td>\n",
       "      <td>FELONY ASSAULT</td>\n",
       "      <td>(null)</td>\n",
       "      <td>ASSAULT POLICE/PEACE OFFICER</td>\n",
       "      <td>OTHER</td>\n",
       "      <td>(null)</td>\n",
       "      <td>NaN</td>\n",
       "      <td>987295.0</td>\n",
       "      <td>190704.0</td>\n",
       "      <td>40.690115</td>\n",
       "      <td>-73.989019</td>\n",
       "      <td>(40.690115, -73.989019)</td>\n",
       "      <td>POINT (-73.989019 40.690115)</td>\n",
       "      <td>16865.0</td>\n",
       "      <td>68.0</td>\n",
       "      <td>2.0</td>\n",
       "      <td>38.0</td>\n",
       "      <td>54.0</td>\n",
       "      <td>2022-01-01</td>\n",
       "    </tr>\n",
       "    <tr>\n",
       "      <th>6</th>\n",
       "      <td>238495885</td>\n",
       "      <td>13.0</td>\n",
       "      <td>MANHATTAN</td>\n",
       "      <td>01/01/2022</td>\n",
       "      <td>01:10:00</td>\n",
       "      <td>(null)</td>\n",
       "      <td>NaN</td>\n",
       "      <td>N.Y. POLICE DEPT</td>\n",
       "      <td>FELONY</td>\n",
       "      <td>FRONT OF</td>\n",
       "      <td>GRAND LARCENY</td>\n",
       "      <td>(null)</td>\n",
       "      <td>LARCENY,GRAND FROM VEHICLE/MOTORCYCLE</td>\n",
       "      <td>STREET</td>\n",
       "      <td>(null)</td>\n",
       "      <td>NaN</td>\n",
       "      <td>985473.0</td>\n",
       "      <td>209471.0</td>\n",
       "      <td>40.741629</td>\n",
       "      <td>-73.995584</td>\n",
       "      <td>(40.741629, -73.995584)</td>\n",
       "      <td>POINT (-73.995584 40.741629)</td>\n",
       "      <td>12074.0</td>\n",
       "      <td>12.0</td>\n",
       "      <td>4.0</td>\n",
       "      <td>10.0</td>\n",
       "      <td>7.0</td>\n",
       "      <td>2022-01-01</td>\n",
       "    </tr>\n",
       "    <tr>\n",
       "      <th>...</th>\n",
       "      <td>...</td>\n",
       "      <td>...</td>\n",
       "      <td>...</td>\n",
       "      <td>...</td>\n",
       "      <td>...</td>\n",
       "      <td>...</td>\n",
       "      <td>...</td>\n",
       "      <td>...</td>\n",
       "      <td>...</td>\n",
       "      <td>...</td>\n",
       "      <td>...</td>\n",
       "      <td>...</td>\n",
       "      <td>...</td>\n",
       "      <td>...</td>\n",
       "      <td>...</td>\n",
       "      <td>...</td>\n",
       "      <td>...</td>\n",
       "      <td>...</td>\n",
       "      <td>...</td>\n",
       "      <td>...</td>\n",
       "      <td>...</td>\n",
       "      <td>...</td>\n",
       "      <td>...</td>\n",
       "      <td>...</td>\n",
       "      <td>...</td>\n",
       "      <td>...</td>\n",
       "      <td>...</td>\n",
       "      <td>...</td>\n",
       "    </tr>\n",
       "    <tr>\n",
       "      <th>520590</th>\n",
       "      <td>261164231</td>\n",
       "      <td>73.0</td>\n",
       "      <td>BROOKLYN</td>\n",
       "      <td>12/31/2022</td>\n",
       "      <td>00:45:00</td>\n",
       "      <td>(null)</td>\n",
       "      <td>379.0</td>\n",
       "      <td>N.Y. HOUSING POLICE</td>\n",
       "      <td>VIOLATION</td>\n",
       "      <td>INSIDE</td>\n",
       "      <td>HARRASSMENT 2</td>\n",
       "      <td>(null)</td>\n",
       "      <td>HARASSMENT,SUBD 1,CIVILIAN</td>\n",
       "      <td>RESIDENCE - PUBLIC HOUSING</td>\n",
       "      <td>(null)</td>\n",
       "      <td>NaN</td>\n",
       "      <td>1010707.0</td>\n",
       "      <td>182887.0</td>\n",
       "      <td>40.668621</td>\n",
       "      <td>-73.904627</td>\n",
       "      <td>(40.668621, -73.904627)</td>\n",
       "      <td>POINT (-73.904627 40.668621)</td>\n",
       "      <td>17614.0</td>\n",
       "      <td>55.0</td>\n",
       "      <td>2.0</td>\n",
       "      <td>17.0</td>\n",
       "      <td>46.0</td>\n",
       "      <td>2022-12-31</td>\n",
       "    </tr>\n",
       "    <tr>\n",
       "      <th>520591</th>\n",
       "      <td>261179625</td>\n",
       "      <td>81.0</td>\n",
       "      <td>BROOKLYN</td>\n",
       "      <td>12/31/2022</td>\n",
       "      <td>19:50:00</td>\n",
       "      <td>(null)</td>\n",
       "      <td>NaN</td>\n",
       "      <td>N.Y. POLICE DEPT</td>\n",
       "      <td>FELONY</td>\n",
       "      <td>INSIDE</td>\n",
       "      <td>BURGLARY</td>\n",
       "      <td>(null)</td>\n",
       "      <td>BURGLARY,COMMERCIAL,NIGHT</td>\n",
       "      <td>COMMERCIAL BUILDING</td>\n",
       "      <td>(null)</td>\n",
       "      <td>NaN</td>\n",
       "      <td>1002882.0</td>\n",
       "      <td>192219.0</td>\n",
       "      <td>40.694256</td>\n",
       "      <td>-73.932807</td>\n",
       "      <td>(40.694256, -73.932807)</td>\n",
       "      <td>POINT (-73.932807 40.694256)</td>\n",
       "      <td>18181.0</td>\n",
       "      <td>69.0</td>\n",
       "      <td>2.0</td>\n",
       "      <td>49.0</td>\n",
       "      <td>52.0</td>\n",
       "      <td>2022-12-31</td>\n",
       "    </tr>\n",
       "    <tr>\n",
       "      <th>520592</th>\n",
       "      <td>261176818</td>\n",
       "      <td>75.0</td>\n",
       "      <td>BROOKLYN</td>\n",
       "      <td>12/31/2022</td>\n",
       "      <td>17:20:00</td>\n",
       "      <td>(null)</td>\n",
       "      <td>NaN</td>\n",
       "      <td>N.Y. POLICE DEPT</td>\n",
       "      <td>MISDEMEANOR</td>\n",
       "      <td>FRONT OF</td>\n",
       "      <td>VEHICLE AND TRAFFIC LAWS</td>\n",
       "      <td>(null)</td>\n",
       "      <td>LEAVING SCENE-ACCIDENT-PERSONA</td>\n",
       "      <td>STREET</td>\n",
       "      <td>(null)</td>\n",
       "      <td>NaN</td>\n",
       "      <td>1014109.0</td>\n",
       "      <td>180072.0</td>\n",
       "      <td>40.660884</td>\n",
       "      <td>-73.892375</td>\n",
       "      <td>(40.660884, -73.892375)</td>\n",
       "      <td>POINT (-73.892375 40.660884)</td>\n",
       "      <td>17214.0</td>\n",
       "      <td>45.0</td>\n",
       "      <td>2.0</td>\n",
       "      <td>25.0</td>\n",
       "      <td>47.0</td>\n",
       "      <td>2022-12-31</td>\n",
       "    </tr>\n",
       "    <tr>\n",
       "      <th>520593</th>\n",
       "      <td>261173481</td>\n",
       "      <td>111.0</td>\n",
       "      <td>QUEENS</td>\n",
       "      <td>12/31/2022</td>\n",
       "      <td>14:15:00</td>\n",
       "      <td>(null)</td>\n",
       "      <td>NaN</td>\n",
       "      <td>N.Y. POLICE DEPT</td>\n",
       "      <td>VIOLATION</td>\n",
       "      <td>INSIDE</td>\n",
       "      <td>HARRASSMENT 2</td>\n",
       "      <td>(null)</td>\n",
       "      <td>HARASSMENT,SUBD 1,CIVILIAN</td>\n",
       "      <td>RESIDENCE-HOUSE</td>\n",
       "      <td>(null)</td>\n",
       "      <td>NaN</td>\n",
       "      <td>1054245.0</td>\n",
       "      <td>222202.0</td>\n",
       "      <td>40.776294</td>\n",
       "      <td>-73.747276</td>\n",
       "      <td>(40.776294, -73.747276)</td>\n",
       "      <td>POINT (-73.747276 40.776294)</td>\n",
       "      <td>14505.0</td>\n",
       "      <td>26.0</td>\n",
       "      <td>3.0</td>\n",
       "      <td>20.0</td>\n",
       "      <td>69.0</td>\n",
       "      <td>2022-12-31</td>\n",
       "    </tr>\n",
       "    <tr>\n",
       "      <th>520594</th>\n",
       "      <td>261180819</td>\n",
       "      <td>69.0</td>\n",
       "      <td>BROOKLYN</td>\n",
       "      <td>12/31/2022</td>\n",
       "      <td>05:01:00</td>\n",
       "      <td>(null)</td>\n",
       "      <td>NaN</td>\n",
       "      <td>N.Y. POLICE DEPT</td>\n",
       "      <td>MISDEMEANOR</td>\n",
       "      <td>REAR OF</td>\n",
       "      <td>PETIT LARCENY</td>\n",
       "      <td>(null)</td>\n",
       "      <td>LARCENY,PETIT FROM AUTO</td>\n",
       "      <td>OTHER</td>\n",
       "      <td>(null)</td>\n",
       "      <td>NaN</td>\n",
       "      <td>1014940.0</td>\n",
       "      <td>171832.0</td>\n",
       "      <td>40.638263</td>\n",
       "      <td>-73.889418</td>\n",
       "      <td>(40.638263, -73.889418)</td>\n",
       "      <td>POINT (-73.889418 40.638263)</td>\n",
       "      <td>13827.0</td>\n",
       "      <td>5.0</td>\n",
       "      <td>2.0</td>\n",
       "      <td>8.0</td>\n",
       "      <td>42.0</td>\n",
       "      <td>2022-12-31</td>\n",
       "    </tr>\n",
       "  </tbody>\n",
       "</table>\n",
       "<p>498540 rows × 28 columns</p>\n",
       "</div>"
      ],
      "text/plain": [
       "       Complaint Number  Precinct    Borough Occurrence Date Occurrence Time NYCHA Dev  Development Level Code Jurisdiction Code Description Level of Offense Specific Location             Offense Description Park Name                       Internal Offense Description        Location Description Station Name  Transit District  X_COORD_CD  Y_COORD_CD   Latitude  Longitude                  Lat_Lon      New Georeferenced Column  Zip Codes  Community Districts  Borough Boundaries  City Council Districts  Police Precincts       DATE\n",
       "0             238496477      10.0  MANHATTAN      01/01/2022        02:55:00    (null)                     NaN              N.Y. POLICE DEPT      MISDEMEANOR            INSIDE                   PETIT LARCENY    (null)                     LARCENY,PETIT FROM BUILDING,UN                       OTHER       (null)               NaN    984685.0    209908.0  40.742827 -73.998428  (40.742827, -73.998428)  POINT (-73.998428 40.742827)    12074.0                 12.0                 4.0                    10.0               6.0 2022-01-01\n",
       "1             241159861      70.0   BROOKLYN      01/01/2022        10:27:00    (null)                     NaN              N.Y. POLICE DEPT      MISDEMEANOR            INSIDE                   PETIT LARCENY    (null)  LARCENY,PETIT FROM BUILDING,UNATTENDED, PACKAG...      RESIDENCE - APT. HOUSE       (null)               NaN    994524.0    175697.0  40.648921 -73.962975  (40.648921, -73.962975)  POINT (-73.962975 40.648921)    13510.0                 60.0                 2.0                    11.0              43.0 2022-01-01\n",
       "2             238539279       1.0  MANHATTAN      01/01/2022        03:50:00    (null)                     NaN              N.Y. POLICE DEPT           FELONY       OPPOSITE OF  CRIMINAL MISCHIEF & RELATED OF    (null)                     MISCHIEF, CRIMINAL 3 & 2, OF M      OPEN AREAS (OPEN LOTS)       (null)               NaN    983316.0    202389.0  40.722189 -74.003369  (40.722189, -74.003369)  POINT (-74.003369 40.722189)    12076.0                 57.0                 4.0                    32.0               1.0 2022-01-01\n",
       "4             238526904      84.0   BROOKLYN      01/01/2022        23:05:00    (null)                     NaN              N.Y. POLICE DEPT           FELONY            INSIDE                  FELONY ASSAULT    (null)                       ASSAULT POLICE/PEACE OFFICER                       OTHER       (null)               NaN    987295.0    190704.0  40.690115 -73.989019  (40.690115, -73.989019)  POINT (-73.989019 40.690115)    16865.0                 68.0                 2.0                    38.0              54.0 2022-01-01\n",
       "6             238495885      13.0  MANHATTAN      01/01/2022        01:10:00    (null)                     NaN              N.Y. POLICE DEPT           FELONY          FRONT OF                   GRAND LARCENY    (null)              LARCENY,GRAND FROM VEHICLE/MOTORCYCLE                      STREET       (null)               NaN    985473.0    209471.0  40.741629 -73.995584  (40.741629, -73.995584)  POINT (-73.995584 40.741629)    12074.0                 12.0                 4.0                    10.0               7.0 2022-01-01\n",
       "...                 ...       ...        ...             ...             ...       ...                     ...                           ...              ...               ...                             ...       ...                                                ...                         ...          ...               ...         ...         ...        ...        ...                      ...                           ...        ...                  ...                 ...                     ...               ...        ...\n",
       "520590        261164231      73.0   BROOKLYN      12/31/2022        00:45:00    (null)                   379.0           N.Y. HOUSING POLICE        VIOLATION            INSIDE                   HARRASSMENT 2    (null)                         HARASSMENT,SUBD 1,CIVILIAN  RESIDENCE - PUBLIC HOUSING       (null)               NaN   1010707.0    182887.0  40.668621 -73.904627  (40.668621, -73.904627)  POINT (-73.904627 40.668621)    17614.0                 55.0                 2.0                    17.0              46.0 2022-12-31\n",
       "520591        261179625      81.0   BROOKLYN      12/31/2022        19:50:00    (null)                     NaN              N.Y. POLICE DEPT           FELONY            INSIDE                        BURGLARY    (null)                          BURGLARY,COMMERCIAL,NIGHT         COMMERCIAL BUILDING       (null)               NaN   1002882.0    192219.0  40.694256 -73.932807  (40.694256, -73.932807)  POINT (-73.932807 40.694256)    18181.0                 69.0                 2.0                    49.0              52.0 2022-12-31\n",
       "520592        261176818      75.0   BROOKLYN      12/31/2022        17:20:00    (null)                     NaN              N.Y. POLICE DEPT      MISDEMEANOR          FRONT OF        VEHICLE AND TRAFFIC LAWS    (null)                     LEAVING SCENE-ACCIDENT-PERSONA                      STREET       (null)               NaN   1014109.0    180072.0  40.660884 -73.892375  (40.660884, -73.892375)  POINT (-73.892375 40.660884)    17214.0                 45.0                 2.0                    25.0              47.0 2022-12-31\n",
       "520593        261173481     111.0     QUEENS      12/31/2022        14:15:00    (null)                     NaN              N.Y. POLICE DEPT        VIOLATION            INSIDE                   HARRASSMENT 2    (null)                         HARASSMENT,SUBD 1,CIVILIAN             RESIDENCE-HOUSE       (null)               NaN   1054245.0    222202.0  40.776294 -73.747276  (40.776294, -73.747276)  POINT (-73.747276 40.776294)    14505.0                 26.0                 3.0                    20.0              69.0 2022-12-31\n",
       "520594        261180819      69.0   BROOKLYN      12/31/2022        05:01:00    (null)                     NaN              N.Y. POLICE DEPT      MISDEMEANOR           REAR OF                   PETIT LARCENY    (null)                            LARCENY,PETIT FROM AUTO                       OTHER       (null)               NaN   1014940.0    171832.0  40.638263 -73.889418  (40.638263, -73.889418)  POINT (-73.889418 40.638263)    13827.0                  5.0                 2.0                     8.0              42.0 2022-12-31\n",
       "\n",
       "[498540 rows x 28 columns]"
      ]
     },
     "execution_count": 8,
     "metadata": {},
     "output_type": "execute_result"
    }
   ],
   "source": [
    "df"
   ]
  },
  {
   "cell_type": "code",
   "execution_count": null,
   "id": "8114eb2e",
   "metadata": {},
   "outputs": [],
   "source": []
  },
  {
   "cell_type": "code",
   "execution_count": 9,
   "id": "enHuNLEKerTI",
   "metadata": {
    "id": "enHuNLEKerTI"
   },
   "outputs": [],
   "source": [
    "#!pip install altair\n",
    "#mport altair as alt"
   ]
  },
  {
   "cell_type": "code",
   "execution_count": 10,
   "id": "TVfatbs-mF29",
   "metadata": {
    "id": "TVfatbs-mF29"
   },
   "outputs": [],
   "source": [
    "#from google.colab import drive\n",
    "#drive.mount('/content/drive', force_remount=True)"
   ]
  },
  {
   "cell_type": "code",
   "execution_count": 11,
   "id": "pzqjd-Loeuf5",
   "metadata": {
    "id": "pzqjd-Loeuf5"
   },
   "outputs": [],
   "source": [
    "shapefile = gpd.read_file('https://data.cityofnewyork.us/api/geospatial/d3qk-pfyz?method=export&format=Shapefile')\n"
   ]
  },
  {
   "cell_type": "code",
   "execution_count": 12,
   "id": "ZoW_wiChn_0I",
   "metadata": {
    "colab": {
     "base_uri": "https://localhost:8080/",
     "height": 206
    },
    "executionInfo": {
     "elapsed": 30,
     "status": "ok",
     "timestamp": 1680031519670,
     "user": {
      "displayName": "Harrison Connery",
      "userId": "04062276839637067262"
     },
     "user_tz": 240
    },
    "id": "ZoW_wiChn_0I",
    "outputId": "e4d2aa66-81f1-42d8-8a61-1794ab3ca679"
   },
   "outputs": [
    {
     "data": {
      "text/html": [
       "<div>\n",
       "<style scoped>\n",
       "    .dataframe tbody tr th:only-of-type {\n",
       "        vertical-align: middle;\n",
       "    }\n",
       "\n",
       "    .dataframe tbody tr th {\n",
       "        vertical-align: top;\n",
       "    }\n",
       "\n",
       "    .dataframe thead th {\n",
       "        text-align: right;\n",
       "    }\n",
       "</style>\n",
       "<table border=\"1\" class=\"dataframe\">\n",
       "  <thead>\n",
       "    <tr style=\"text-align: right;\">\n",
       "      <th></th>\n",
       "      <th>borocode</th>\n",
       "      <th>boroname</th>\n",
       "      <th>countyfips</th>\n",
       "      <th>ntacode</th>\n",
       "      <th>ntaname</th>\n",
       "      <th>shape_area</th>\n",
       "      <th>shape_leng</th>\n",
       "      <th>geometry</th>\n",
       "    </tr>\n",
       "  </thead>\n",
       "  <tbody>\n",
       "    <tr>\n",
       "      <th>0</th>\n",
       "      <td>3.0</td>\n",
       "      <td>Brooklyn</td>\n",
       "      <td>047</td>\n",
       "      <td>BK43</td>\n",
       "      <td>Midwood</td>\n",
       "      <td>3.579964e+07</td>\n",
       "      <td>27996.591274</td>\n",
       "      <td>POLYGON ((-73.94733 40.62917, -73.94687 40.626...</td>\n",
       "    </tr>\n",
       "    <tr>\n",
       "      <th>1</th>\n",
       "      <td>3.0</td>\n",
       "      <td>Brooklyn</td>\n",
       "      <td>047</td>\n",
       "      <td>BK75</td>\n",
       "      <td>Bedford</td>\n",
       "      <td>3.262983e+07</td>\n",
       "      <td>29992.919174</td>\n",
       "      <td>POLYGON ((-73.94193 40.70073, -73.94439 40.700...</td>\n",
       "    </tr>\n",
       "    <tr>\n",
       "      <th>2</th>\n",
       "      <td>2.0</td>\n",
       "      <td>Bronx</td>\n",
       "      <td>005</td>\n",
       "      <td>BX40</td>\n",
       "      <td>Fordham South</td>\n",
       "      <td>6.307284e+06</td>\n",
       "      <td>15878.272921</td>\n",
       "      <td>POLYGON ((-73.89138 40.86170, -73.89106 40.861...</td>\n",
       "    </tr>\n",
       "    <tr>\n",
       "      <th>3</th>\n",
       "      <td>3.0</td>\n",
       "      <td>Brooklyn</td>\n",
       "      <td>047</td>\n",
       "      <td>BK88</td>\n",
       "      <td>Borough Park</td>\n",
       "      <td>5.400502e+07</td>\n",
       "      <td>39247.227722</td>\n",
       "      <td>POLYGON ((-73.97605 40.63128, -73.97717 40.630...</td>\n",
       "    </tr>\n",
       "    <tr>\n",
       "      <th>4</th>\n",
       "      <td>3.0</td>\n",
       "      <td>Brooklyn</td>\n",
       "      <td>047</td>\n",
       "      <td>BK96</td>\n",
       "      <td>Rugby-Remsen Village</td>\n",
       "      <td>3.270695e+07</td>\n",
       "      <td>30957.853395</td>\n",
       "      <td>POLYGON ((-73.90856 40.65210, -73.90945 40.651...</td>\n",
       "    </tr>\n",
       "  </tbody>\n",
       "</table>\n",
       "</div>"
      ],
      "text/plain": [
       "   borocode  boroname countyfips ntacode               ntaname    shape_area    shape_leng                                           geometry\n",
       "0       3.0  Brooklyn        047    BK43               Midwood  3.579964e+07  27996.591274  POLYGON ((-73.94733 40.62917, -73.94687 40.626...\n",
       "1       3.0  Brooklyn        047    BK75               Bedford  3.262983e+07  29992.919174  POLYGON ((-73.94193 40.70073, -73.94439 40.700...\n",
       "2       2.0     Bronx        005    BX40         Fordham South  6.307284e+06  15878.272921  POLYGON ((-73.89138 40.86170, -73.89106 40.861...\n",
       "3       3.0  Brooklyn        047    BK88          Borough Park  5.400502e+07  39247.227722  POLYGON ((-73.97605 40.63128, -73.97717 40.630...\n",
       "4       3.0  Brooklyn        047    BK96  Rugby-Remsen Village  3.270695e+07  30957.853395  POLYGON ((-73.90856 40.65210, -73.90945 40.651..."
      ]
     },
     "execution_count": 12,
     "metadata": {},
     "output_type": "execute_result"
    }
   ],
   "source": [
    "shapefile.head(5)"
   ]
  },
  {
   "cell_type": "code",
   "execution_count": 13,
   "id": "P8CnTtiCfDKO",
   "metadata": {
    "id": "P8CnTtiCfDKO"
   },
   "outputs": [],
   "source": [
    "GEO = gpd.GeoDataFrame(df, geometry=gpd.points_from_xy(df.Longitude,df.Latitude,crs='epsg:26916'))"
   ]
  },
  {
   "cell_type": "code",
   "execution_count": 14,
   "id": "6HHobhsQqkCX",
   "metadata": {
    "colab": {
     "base_uri": "https://localhost:8080/",
     "height": 214
    },
    "executionInfo": {
     "elapsed": 29,
     "status": "ok",
     "timestamp": 1680031519671,
     "user": {
      "displayName": "Harrison Connery",
      "userId": "04062276839637067262"
     },
     "user_tz": 240
    },
    "id": "6HHobhsQqkCX",
    "outputId": "e89d0c65-595a-4b9b-8a74-f921e7eac582"
   },
   "outputs": [
    {
     "data": {
      "text/html": [
       "<div>\n",
       "<style scoped>\n",
       "    .dataframe tbody tr th:only-of-type {\n",
       "        vertical-align: middle;\n",
       "    }\n",
       "\n",
       "    .dataframe tbody tr th {\n",
       "        vertical-align: top;\n",
       "    }\n",
       "\n",
       "    .dataframe thead th {\n",
       "        text-align: right;\n",
       "    }\n",
       "</style>\n",
       "<table border=\"1\" class=\"dataframe\">\n",
       "  <thead>\n",
       "    <tr style=\"text-align: right;\">\n",
       "      <th></th>\n",
       "      <th>Complaint Number</th>\n",
       "      <th>Precinct</th>\n",
       "      <th>Borough</th>\n",
       "      <th>Occurrence Date</th>\n",
       "      <th>Occurrence Time</th>\n",
       "      <th>NYCHA Dev</th>\n",
       "      <th>Development Level Code</th>\n",
       "      <th>Jurisdiction Code Description</th>\n",
       "      <th>Level of Offense</th>\n",
       "      <th>Specific Location</th>\n",
       "      <th>Offense Description</th>\n",
       "      <th>Park Name</th>\n",
       "      <th>Internal Offense Description</th>\n",
       "      <th>Location Description</th>\n",
       "      <th>Station Name</th>\n",
       "      <th>Transit District</th>\n",
       "      <th>X_COORD_CD</th>\n",
       "      <th>Y_COORD_CD</th>\n",
       "      <th>Latitude</th>\n",
       "      <th>Longitude</th>\n",
       "      <th>Lat_Lon</th>\n",
       "      <th>New Georeferenced Column</th>\n",
       "      <th>Zip Codes</th>\n",
       "      <th>Community Districts</th>\n",
       "      <th>Borough Boundaries</th>\n",
       "      <th>City Council Districts</th>\n",
       "      <th>Police Precincts</th>\n",
       "      <th>DATE</th>\n",
       "      <th>geometry</th>\n",
       "    </tr>\n",
       "  </thead>\n",
       "  <tbody>\n",
       "    <tr>\n",
       "      <th>0</th>\n",
       "      <td>238496477</td>\n",
       "      <td>10.0</td>\n",
       "      <td>MANHATTAN</td>\n",
       "      <td>01/01/2022</td>\n",
       "      <td>02:55:00</td>\n",
       "      <td>(null)</td>\n",
       "      <td>NaN</td>\n",
       "      <td>N.Y. POLICE DEPT</td>\n",
       "      <td>MISDEMEANOR</td>\n",
       "      <td>INSIDE</td>\n",
       "      <td>PETIT LARCENY</td>\n",
       "      <td>(null)</td>\n",
       "      <td>LARCENY,PETIT FROM BUILDING,UN</td>\n",
       "      <td>OTHER</td>\n",
       "      <td>(null)</td>\n",
       "      <td>NaN</td>\n",
       "      <td>984685.0</td>\n",
       "      <td>209908.0</td>\n",
       "      <td>40.742827</td>\n",
       "      <td>-73.998428</td>\n",
       "      <td>(40.742827, -73.998428)</td>\n",
       "      <td>POINT (-73.998428 40.742827)</td>\n",
       "      <td>12074.0</td>\n",
       "      <td>12.0</td>\n",
       "      <td>4.0</td>\n",
       "      <td>10.0</td>\n",
       "      <td>6.0</td>\n",
       "      <td>2022-01-01</td>\n",
       "      <td>POINT (-73.998 40.743)</td>\n",
       "    </tr>\n",
       "  </tbody>\n",
       "</table>\n",
       "</div>"
      ],
      "text/plain": [
       "  Complaint Number  Precinct    Borough Occurrence Date Occurrence Time NYCHA Dev  Development Level Code Jurisdiction Code Description Level of Offense Specific Location Offense Description Park Name    Internal Offense Description Location Description Station Name  Transit District  X_COORD_CD  Y_COORD_CD   Latitude  Longitude                  Lat_Lon      New Georeferenced Column  Zip Codes  Community Districts  Borough Boundaries  City Council Districts  Police Precincts       DATE                geometry\n",
       "0        238496477      10.0  MANHATTAN      01/01/2022        02:55:00    (null)                     NaN              N.Y. POLICE DEPT      MISDEMEANOR            INSIDE       PETIT LARCENY    (null)  LARCENY,PETIT FROM BUILDING,UN                OTHER       (null)               NaN    984685.0    209908.0  40.742827 -73.998428  (40.742827, -73.998428)  POINT (-73.998428 40.742827)    12074.0                 12.0                 4.0                    10.0               6.0 2022-01-01  POINT (-73.998 40.743)"
      ]
     },
     "execution_count": 14,
     "metadata": {},
     "output_type": "execute_result"
    }
   ],
   "source": [
    "df.head(1)"
   ]
  },
  {
   "cell_type": "code",
   "execution_count": 15,
   "id": "o2HQvA-bqfYO",
   "metadata": {
    "id": "o2HQvA-bqfYO"
   },
   "outputs": [],
   "source": [
    "gdf = gpd.GeoDataFrame(\n",
    "    df, geometry=gpd.points_from_xy(x=df.Longitude, y=df.Latitude,crs='epsg:26916')\n",
    ")"
   ]
  },
  {
   "cell_type": "code",
   "execution_count": 16,
   "id": "KsRkAVKZq4Cs",
   "metadata": {
    "colab": {
     "base_uri": "https://localhost:8080/",
     "height": 214
    },
    "executionInfo": {
     "elapsed": 28,
     "status": "ok",
     "timestamp": 1680031519671,
     "user": {
      "displayName": "Harrison Connery",
      "userId": "04062276839637067262"
     },
     "user_tz": 240
    },
    "id": "KsRkAVKZq4Cs",
    "outputId": "546f9658-2958-429f-d2bb-2a16297167a0"
   },
   "outputs": [
    {
     "data": {
      "text/html": [
       "<div>\n",
       "<style scoped>\n",
       "    .dataframe tbody tr th:only-of-type {\n",
       "        vertical-align: middle;\n",
       "    }\n",
       "\n",
       "    .dataframe tbody tr th {\n",
       "        vertical-align: top;\n",
       "    }\n",
       "\n",
       "    .dataframe thead th {\n",
       "        text-align: right;\n",
       "    }\n",
       "</style>\n",
       "<table border=\"1\" class=\"dataframe\">\n",
       "  <thead>\n",
       "    <tr style=\"text-align: right;\">\n",
       "      <th></th>\n",
       "      <th>Complaint Number</th>\n",
       "      <th>Precinct</th>\n",
       "      <th>Borough</th>\n",
       "      <th>Occurrence Date</th>\n",
       "      <th>Occurrence Time</th>\n",
       "      <th>NYCHA Dev</th>\n",
       "      <th>Development Level Code</th>\n",
       "      <th>Jurisdiction Code Description</th>\n",
       "      <th>Level of Offense</th>\n",
       "      <th>Specific Location</th>\n",
       "      <th>Offense Description</th>\n",
       "      <th>Park Name</th>\n",
       "      <th>Internal Offense Description</th>\n",
       "      <th>Location Description</th>\n",
       "      <th>Station Name</th>\n",
       "      <th>Transit District</th>\n",
       "      <th>X_COORD_CD</th>\n",
       "      <th>Y_COORD_CD</th>\n",
       "      <th>Latitude</th>\n",
       "      <th>Longitude</th>\n",
       "      <th>Lat_Lon</th>\n",
       "      <th>New Georeferenced Column</th>\n",
       "      <th>Zip Codes</th>\n",
       "      <th>Community Districts</th>\n",
       "      <th>Borough Boundaries</th>\n",
       "      <th>City Council Districts</th>\n",
       "      <th>Police Precincts</th>\n",
       "      <th>DATE</th>\n",
       "      <th>geometry</th>\n",
       "    </tr>\n",
       "  </thead>\n",
       "  <tbody>\n",
       "    <tr>\n",
       "      <th>0</th>\n",
       "      <td>238496477</td>\n",
       "      <td>10.0</td>\n",
       "      <td>MANHATTAN</td>\n",
       "      <td>01/01/2022</td>\n",
       "      <td>02:55:00</td>\n",
       "      <td>(null)</td>\n",
       "      <td>NaN</td>\n",
       "      <td>N.Y. POLICE DEPT</td>\n",
       "      <td>MISDEMEANOR</td>\n",
       "      <td>INSIDE</td>\n",
       "      <td>PETIT LARCENY</td>\n",
       "      <td>(null)</td>\n",
       "      <td>LARCENY,PETIT FROM BUILDING,UN</td>\n",
       "      <td>OTHER</td>\n",
       "      <td>(null)</td>\n",
       "      <td>NaN</td>\n",
       "      <td>984685.0</td>\n",
       "      <td>209908.0</td>\n",
       "      <td>40.742827</td>\n",
       "      <td>-73.998428</td>\n",
       "      <td>(40.742827, -73.998428)</td>\n",
       "      <td>POINT (-73.998428 40.742827)</td>\n",
       "      <td>12074.0</td>\n",
       "      <td>12.0</td>\n",
       "      <td>4.0</td>\n",
       "      <td>10.0</td>\n",
       "      <td>6.0</td>\n",
       "      <td>2022-01-01</td>\n",
       "      <td>POINT (-73.998 40.743)</td>\n",
       "    </tr>\n",
       "  </tbody>\n",
       "</table>\n",
       "</div>"
      ],
      "text/plain": [
       "  Complaint Number  Precinct    Borough Occurrence Date Occurrence Time NYCHA Dev  Development Level Code Jurisdiction Code Description Level of Offense Specific Location Offense Description Park Name    Internal Offense Description Location Description Station Name  Transit District  X_COORD_CD  Y_COORD_CD   Latitude  Longitude                  Lat_Lon      New Georeferenced Column  Zip Codes  Community Districts  Borough Boundaries  City Council Districts  Police Precincts       DATE                geometry\n",
       "0        238496477      10.0  MANHATTAN      01/01/2022        02:55:00    (null)                     NaN              N.Y. POLICE DEPT      MISDEMEANOR            INSIDE       PETIT LARCENY    (null)  LARCENY,PETIT FROM BUILDING,UN                OTHER       (null)               NaN    984685.0    209908.0  40.742827 -73.998428  (40.742827, -73.998428)  POINT (-73.998428 40.742827)    12074.0                 12.0                 4.0                    10.0               6.0 2022-01-01  POINT (-73.998 40.743)"
      ]
     },
     "execution_count": 16,
     "metadata": {},
     "output_type": "execute_result"
    }
   ],
   "source": [
    "gdf.head(1)"
   ]
  },
  {
   "cell_type": "code",
   "execution_count": 17,
   "id": "GIT72IA8qFZu",
   "metadata": {
    "colab": {
     "base_uri": "https://localhost:8080/"
    },
    "executionInfo": {
     "elapsed": 3766,
     "status": "ok",
     "timestamp": 1680031523410,
     "user": {
      "displayName": "Harrison Connery",
      "userId": "04062276839637067262"
     },
     "user_tz": 240
    },
    "id": "GIT72IA8qFZu",
    "outputId": "7fbaac4c-2c73-4eaa-cd9b-219f5e4f8df1"
   },
   "outputs": [
    {
     "name": "stderr",
     "output_type": "stream",
     "text": [
      "/Users/afarence/opt/anaconda3/lib/python3.9/site-packages/geopandas/geodataframe.py:2090: UserWarning: CRS mismatch between the CRS of left geometries and the CRS of right geometries.\n",
      "Use `to_crs()` to reproject one of the input geometries to match the CRS of the other.\n",
      "\n",
      "Left CRS: GEOGCS[\"WGS84(DD)\",DATUM[\"WGS84\",SPHEROID[\"WGS84\", ...\n",
      "Right CRS: EPSG:26916\n",
      "\n",
      "  return geopandas.sjoin(left_df=self, right_df=df, *args, **kwargs)\n"
     ]
    }
   ],
   "source": [
    "joint_df = shapefile.sjoin(GEO, how=\"left\")"
   ]
  },
  {
   "cell_type": "code",
   "execution_count": 18,
   "id": "FCGJHx36rZEg",
   "metadata": {
    "colab": {
     "base_uri": "https://localhost:8080/",
     "height": 248
    },
    "executionInfo": {
     "elapsed": 14,
     "status": "ok",
     "timestamp": 1680031523411,
     "user": {
      "displayName": "Harrison Connery",
      "userId": "04062276839637067262"
     },
     "user_tz": 240
    },
    "id": "FCGJHx36rZEg",
    "outputId": "61872aeb-a4b7-4a21-e3c7-59ef5f59e560"
   },
   "outputs": [
    {
     "data": {
      "text/html": [
       "<div>\n",
       "<style scoped>\n",
       "    .dataframe tbody tr th:only-of-type {\n",
       "        vertical-align: middle;\n",
       "    }\n",
       "\n",
       "    .dataframe tbody tr th {\n",
       "        vertical-align: top;\n",
       "    }\n",
       "\n",
       "    .dataframe thead th {\n",
       "        text-align: right;\n",
       "    }\n",
       "</style>\n",
       "<table border=\"1\" class=\"dataframe\">\n",
       "  <thead>\n",
       "    <tr style=\"text-align: right;\">\n",
       "      <th></th>\n",
       "      <th>borocode</th>\n",
       "      <th>boroname</th>\n",
       "      <th>countyfips</th>\n",
       "      <th>ntacode</th>\n",
       "      <th>ntaname</th>\n",
       "      <th>shape_area</th>\n",
       "      <th>shape_leng</th>\n",
       "      <th>geometry</th>\n",
       "      <th>index_right</th>\n",
       "      <th>Complaint Number</th>\n",
       "      <th>Precinct</th>\n",
       "      <th>Borough</th>\n",
       "      <th>Occurrence Date</th>\n",
       "      <th>Occurrence Time</th>\n",
       "      <th>NYCHA Dev</th>\n",
       "      <th>Development Level Code</th>\n",
       "      <th>Jurisdiction Code Description</th>\n",
       "      <th>Level of Offense</th>\n",
       "      <th>Specific Location</th>\n",
       "      <th>Offense Description</th>\n",
       "      <th>Park Name</th>\n",
       "      <th>Internal Offense Description</th>\n",
       "      <th>Location Description</th>\n",
       "      <th>Station Name</th>\n",
       "      <th>Transit District</th>\n",
       "      <th>X_COORD_CD</th>\n",
       "      <th>Y_COORD_CD</th>\n",
       "      <th>Latitude</th>\n",
       "      <th>Longitude</th>\n",
       "      <th>Lat_Lon</th>\n",
       "      <th>New Georeferenced Column</th>\n",
       "      <th>Zip Codes</th>\n",
       "      <th>Community Districts</th>\n",
       "      <th>Borough Boundaries</th>\n",
       "      <th>City Council Districts</th>\n",
       "      <th>Police Precincts</th>\n",
       "      <th>DATE</th>\n",
       "    </tr>\n",
       "  </thead>\n",
       "  <tbody>\n",
       "    <tr>\n",
       "      <th>0</th>\n",
       "      <td>3.0</td>\n",
       "      <td>Brooklyn</td>\n",
       "      <td>047</td>\n",
       "      <td>BK43</td>\n",
       "      <td>Midwood</td>\n",
       "      <td>3.579964e+07</td>\n",
       "      <td>27996.591274</td>\n",
       "      <td>POLYGON ((-73.94733 40.62917, -73.94687 40.626...</td>\n",
       "      <td>3136.0</td>\n",
       "      <td>238689292</td>\n",
       "      <td>70.0</td>\n",
       "      <td>BROOKLYN</td>\n",
       "      <td>01/03/2022</td>\n",
       "      <td>21:00:00</td>\n",
       "      <td>(null)</td>\n",
       "      <td>NaN</td>\n",
       "      <td>N.Y. POLICE DEPT</td>\n",
       "      <td>VIOLATION</td>\n",
       "      <td>FRONT OF</td>\n",
       "      <td>HARRASSMENT 2</td>\n",
       "      <td>(null)</td>\n",
       "      <td>HARASSMENT,SUBD 1,CIVILIAN</td>\n",
       "      <td>RESIDENCE - APT. HOUSE</td>\n",
       "      <td>(null)</td>\n",
       "      <td>NaN</td>\n",
       "      <td>995106.0</td>\n",
       "      <td>168844.0</td>\n",
       "      <td>40.63011</td>\n",
       "      <td>-73.960888</td>\n",
       "      <td>(40.63011, -73.960888)</td>\n",
       "      <td>POINT (-73.960888 40.63011)</td>\n",
       "      <td>13513.0</td>\n",
       "      <td>60.0</td>\n",
       "      <td>2.0</td>\n",
       "      <td>26.0</td>\n",
       "      <td>43.0</td>\n",
       "      <td>2022-01-03</td>\n",
       "    </tr>\n",
       "  </tbody>\n",
       "</table>\n",
       "</div>"
      ],
      "text/plain": [
       "   borocode  boroname countyfips ntacode  ntaname    shape_area    shape_leng                                           geometry  index_right Complaint Number  Precinct   Borough Occurrence Date Occurrence Time NYCHA Dev  Development Level Code Jurisdiction Code Description Level of Offense Specific Location Offense Description Park Name Internal Offense Description    Location Description Station Name  Transit District  X_COORD_CD  Y_COORD_CD  Latitude  Longitude                 Lat_Lon     New Georeferenced Column  Zip Codes  Community Districts  Borough Boundaries  City Council Districts  Police Precincts       DATE\n",
       "0       3.0  Brooklyn        047    BK43  Midwood  3.579964e+07  27996.591274  POLYGON ((-73.94733 40.62917, -73.94687 40.626...       3136.0        238689292      70.0  BROOKLYN      01/03/2022        21:00:00    (null)                     NaN              N.Y. POLICE DEPT        VIOLATION          FRONT OF       HARRASSMENT 2    (null)   HARASSMENT,SUBD 1,CIVILIAN  RESIDENCE - APT. HOUSE       (null)               NaN    995106.0    168844.0  40.63011 -73.960888  (40.63011, -73.960888)  POINT (-73.960888 40.63011)    13513.0                 60.0                 2.0                    26.0              43.0 2022-01-03"
      ]
     },
     "execution_count": 18,
     "metadata": {},
     "output_type": "execute_result"
    }
   ],
   "source": [
    "joint_df.head(1)"
   ]
  },
  {
   "cell_type": "code",
   "execution_count": 19,
   "id": "UXZqoO63v7B_",
   "metadata": {
    "colab": {
     "base_uri": "https://localhost:8080/"
    },
    "executionInfo": {
     "elapsed": 12,
     "status": "ok",
     "timestamp": 1680031523411,
     "user": {
      "displayName": "Harrison Connery",
      "userId": "04062276839637067262"
     },
     "user_tz": 240
    },
    "id": "UXZqoO63v7B_",
    "outputId": "7d45a96b-c585-4ce1-b1e3-c16d956e5544"
   },
   "outputs": [
    {
     "data": {
      "text/plain": [
       "Index(['borocode', 'boroname', 'countyfips', 'ntacode', 'ntaname', 'shape_area', 'shape_leng', 'geometry', 'index_right', 'Complaint Number', 'Precinct', 'Borough', 'Occurrence Date', 'Occurrence Time', 'NYCHA Dev', 'Development Level Code', 'Jurisdiction Code Description', 'Level of Offense', 'Specific Location', 'Offense Description', 'Park Name', 'Internal Offense Description', 'Location Description', 'Station Name', 'Transit District', 'X_COORD_CD', 'Y_COORD_CD', 'Latitude', 'Longitude', 'Lat_Lon', 'New Georeferenced Column', 'Zip Codes', 'Community Districts', 'Borough Boundaries', 'City Council Districts', 'Police Precincts', 'DATE'], dtype='object')"
      ]
     },
     "execution_count": 19,
     "metadata": {},
     "output_type": "execute_result"
    }
   ],
   "source": [
    "joint_df.columns"
   ]
  },
  {
   "cell_type": "code",
   "execution_count": 20,
   "id": "4C71xqvis1OF",
   "metadata": {
    "id": "4C71xqvis1OF"
   },
   "outputs": [],
   "source": [
    "count_df = joint_df['ntaname'].value_counts()"
   ]
  },
  {
   "cell_type": "code",
   "execution_count": 21,
   "id": "0pTfDjqfs1QX",
   "metadata": {
    "id": "0pTfDjqfs1QX"
   },
   "outputs": [],
   "source": [
    "count_df = count_df.to_frame().reset_index()"
   ]
  },
  {
   "cell_type": "code",
   "execution_count": 22,
   "id": "xeeZMZpas1Ss",
   "metadata": {
    "id": "xeeZMZpas1Ss"
   },
   "outputs": [],
   "source": [
    "count_df = count_df.rename(columns={'index':'ntaname','ntaname':'count'})"
   ]
  },
  {
   "cell_type": "code",
   "execution_count": 23,
   "id": "z0uxrtuJs1Xa",
   "metadata": {
    "colab": {
     "base_uri": "https://localhost:8080/",
     "height": 248
    },
    "executionInfo": {
     "elapsed": 10,
     "status": "ok",
     "timestamp": 1680031523412,
     "user": {
      "displayName": "Harrison Connery",
      "userId": "04062276839637067262"
     },
     "user_tz": 240
    },
    "id": "z0uxrtuJs1Xa",
    "outputId": "c17f5b88-afa7-40db-c39a-1f502102c350"
   },
   "outputs": [
    {
     "data": {
      "text/html": [
       "<div>\n",
       "<style scoped>\n",
       "    .dataframe tbody tr th:only-of-type {\n",
       "        vertical-align: middle;\n",
       "    }\n",
       "\n",
       "    .dataframe tbody tr th {\n",
       "        vertical-align: top;\n",
       "    }\n",
       "\n",
       "    .dataframe thead th {\n",
       "        text-align: right;\n",
       "    }\n",
       "</style>\n",
       "<table border=\"1\" class=\"dataframe\">\n",
       "  <thead>\n",
       "    <tr style=\"text-align: right;\">\n",
       "      <th></th>\n",
       "      <th>borocode</th>\n",
       "      <th>boroname</th>\n",
       "      <th>countyfips</th>\n",
       "      <th>ntacode</th>\n",
       "      <th>ntaname</th>\n",
       "      <th>shape_area</th>\n",
       "      <th>shape_leng</th>\n",
       "      <th>geometry</th>\n",
       "      <th>index_right</th>\n",
       "      <th>Complaint Number</th>\n",
       "      <th>Precinct</th>\n",
       "      <th>Borough</th>\n",
       "      <th>Occurrence Date</th>\n",
       "      <th>Occurrence Time</th>\n",
       "      <th>NYCHA Dev</th>\n",
       "      <th>Development Level Code</th>\n",
       "      <th>Jurisdiction Code Description</th>\n",
       "      <th>Level of Offense</th>\n",
       "      <th>Specific Location</th>\n",
       "      <th>Offense Description</th>\n",
       "      <th>Park Name</th>\n",
       "      <th>Internal Offense Description</th>\n",
       "      <th>Location Description</th>\n",
       "      <th>Station Name</th>\n",
       "      <th>Transit District</th>\n",
       "      <th>X_COORD_CD</th>\n",
       "      <th>Y_COORD_CD</th>\n",
       "      <th>Latitude</th>\n",
       "      <th>Longitude</th>\n",
       "      <th>Lat_Lon</th>\n",
       "      <th>New Georeferenced Column</th>\n",
       "      <th>Zip Codes</th>\n",
       "      <th>Community Districts</th>\n",
       "      <th>Borough Boundaries</th>\n",
       "      <th>City Council Districts</th>\n",
       "      <th>Police Precincts</th>\n",
       "      <th>DATE</th>\n",
       "      <th>count</th>\n",
       "    </tr>\n",
       "  </thead>\n",
       "  <tbody>\n",
       "    <tr>\n",
       "      <th>0</th>\n",
       "      <td>3.0</td>\n",
       "      <td>Brooklyn</td>\n",
       "      <td>047</td>\n",
       "      <td>BK43</td>\n",
       "      <td>Midwood</td>\n",
       "      <td>3.579964e+07</td>\n",
       "      <td>27996.591274</td>\n",
       "      <td>POLYGON ((-73.94733 40.62917, -73.94687 40.626...</td>\n",
       "      <td>3136.0</td>\n",
       "      <td>238689292</td>\n",
       "      <td>70.0</td>\n",
       "      <td>BROOKLYN</td>\n",
       "      <td>01/03/2022</td>\n",
       "      <td>21:00:00</td>\n",
       "      <td>(null)</td>\n",
       "      <td>NaN</td>\n",
       "      <td>N.Y. POLICE DEPT</td>\n",
       "      <td>VIOLATION</td>\n",
       "      <td>FRONT OF</td>\n",
       "      <td>HARRASSMENT 2</td>\n",
       "      <td>(null)</td>\n",
       "      <td>HARASSMENT,SUBD 1,CIVILIAN</td>\n",
       "      <td>RESIDENCE - APT. HOUSE</td>\n",
       "      <td>(null)</td>\n",
       "      <td>NaN</td>\n",
       "      <td>995106.0</td>\n",
       "      <td>168844.0</td>\n",
       "      <td>40.63011</td>\n",
       "      <td>-73.960888</td>\n",
       "      <td>(40.63011, -73.960888)</td>\n",
       "      <td>POINT (-73.960888 40.63011)</td>\n",
       "      <td>13513.0</td>\n",
       "      <td>60.0</td>\n",
       "      <td>2.0</td>\n",
       "      <td>26.0</td>\n",
       "      <td>43.0</td>\n",
       "      <td>2022-01-03</td>\n",
       "      <td>1339</td>\n",
       "    </tr>\n",
       "  </tbody>\n",
       "</table>\n",
       "</div>"
      ],
      "text/plain": [
       "   borocode  boroname countyfips ntacode  ntaname    shape_area    shape_leng                                           geometry  index_right Complaint Number  Precinct   Borough Occurrence Date Occurrence Time NYCHA Dev  Development Level Code Jurisdiction Code Description Level of Offense Specific Location Offense Description Park Name Internal Offense Description    Location Description Station Name  Transit District  X_COORD_CD  Y_COORD_CD  Latitude  Longitude                 Lat_Lon     New Georeferenced Column  Zip Codes  Community Districts  Borough Boundaries  City Council Districts  Police Precincts       DATE  count\n",
       "0       3.0  Brooklyn        047    BK43  Midwood  3.579964e+07  27996.591274  POLYGON ((-73.94733 40.62917, -73.94687 40.626...       3136.0        238689292      70.0  BROOKLYN      01/03/2022        21:00:00    (null)                     NaN              N.Y. POLICE DEPT        VIOLATION          FRONT OF       HARRASSMENT 2    (null)   HARASSMENT,SUBD 1,CIVILIAN  RESIDENCE - APT. HOUSE       (null)               NaN    995106.0    168844.0  40.63011 -73.960888  (40.63011, -73.960888)  POINT (-73.960888 40.63011)    13513.0                 60.0                 2.0                    26.0              43.0 2022-01-03   1339"
      ]
     },
     "execution_count": 23,
     "metadata": {},
     "output_type": "execute_result"
    }
   ],
   "source": [
    "last_df = joint_df.merge(count_df,on='ntaname')\n",
    "last_df.head(1)"
   ]
  },
  {
   "cell_type": "code",
   "execution_count": 24,
   "id": "-bEIKKnHsqpy",
   "metadata": {
    "colab": {
     "base_uri": "https://localhost:8080/"
    },
    "executionInfo": {
     "elapsed": 4,
     "status": "ok",
     "timestamp": 1680032176018,
     "user": {
      "displayName": "Harrison Connery",
      "userId": "04062276839637067262"
     },
     "user_tz": 240
    },
    "id": "-bEIKKnHsqpy",
    "outputId": "798bdece-1352-46c5-bf87-d291e6f612c1"
   },
   "outputs": [
    {
     "data": {
      "text/plain": [
       "DataTransformerRegistry.enable('default')"
      ]
     },
     "execution_count": 24,
     "metadata": {},
     "output_type": "execute_result"
    }
   ],
   "source": [
    "import altair as alt\n",
    "alt.data_transformers.enable('default', max_rows=None)\n"
   ]
  },
  {
   "cell_type": "code",
   "execution_count": null,
   "id": "-wSeWMd2fjLL",
   "metadata": {
    "id": "-wSeWMd2fjLL"
   },
   "outputs": [],
   "source": [
    "citymap = alt.Chart(last_df).mark_geoshape(\n",
    "     fill='transparent',\n",
    "      stroke='gray',\n",
    "          strokeWidth=0.5,\n",
    "   ).encode(\n",
    "      tooltip=[alt.Tooltip('count:N',title='Count')]\n",
    "  ).properties(\n",
    "       width=800,\n",
    "       height=800\n",
    "   )\n",
    "  \n",
    "citymap"
   ]
  },
  {
   "cell_type": "code",
   "execution_count": null,
   "id": "SwHRjoXufjUg",
   "metadata": {
    "colab": {
     "base_uri": "https://localhost:8080/",
     "height": 381
    },
    "executionInfo": {
     "elapsed": 89489,
     "status": "error",
     "timestamp": 1680032121902,
     "user": {
      "displayName": "Harrison Connery",
      "userId": "04062276839637067262"
     },
     "user_tz": 240
    },
    "id": "SwHRjoXufjUg",
    "outputId": "f8edb706-3a6a-416c-bd97-410e13ae6b2d"
   },
   "outputs": [],
   "source": [
    "#crimemap = alt.Chart(last_df).mark_geoshape().encode(\n",
    "    color=alt.Color('count:Q',\n",
    "      legend=alt.Legend(title='Number of crimes'),\n",
    "      scale=alt.Scale(scheme='lightorange',\n",
    "        domain=[0,1])),\n",
    "    tooltip=[alt.Tooltip('ntaname',title='Neighborhood'),\n",
    "      alt.Tooltip('Number of crimes by neighborhood')]\n",
    ").project(\n",
    "    type='albersUsa'\n",
    ").properties(\n",
    "    title='City-wide crime',\n",
    "    width=700,\n",
    "    height=450\n",
    ").configure_view(\n",
    "    strokeWidth=0\n",
    ")\n",
    "\n",
    "crimemap"
   ]
  },
  {
   "cell_type": "code",
   "execution_count": null,
   "id": "dVjqU4fwfzEr",
   "metadata": {
    "id": "dVjqU4fwfzEr"
   },
   "outputs": [],
   "source": [
    "# map = citymap + crimemap"
   ]
  },
  {
   "cell_type": "code",
   "execution_count": null,
   "id": "2FZX-7-9gfHT",
   "metadata": {
    "id": "2FZX-7-9gfHT"
   },
   "outputs": [],
   "source": [
    "# #map\n",
    "# alt.data_transformers.enable('default', max_rows=None)\n"
   ]
  },
  {
   "cell_type": "code",
   "execution_count": null,
   "id": "HrCexGMQgf3i",
   "metadata": {
    "id": "HrCexGMQgf3i"
   },
   "outputs": [],
   "source": [
    "# map\n"
   ]
  }
 ],
 "metadata": {
  "accelerator": "GPU",
  "colab": {
   "machine_shape": "hm",
   "provenance": []
  },
  "gpuClass": "premium",
  "kernelspec": {
   "display_name": "Python 3 (ipykernel)",
   "language": "python",
   "name": "python3"
  },
  "language_info": {
   "codemirror_mode": {
    "name": "ipython",
    "version": 3
   },
   "file_extension": ".py",
   "mimetype": "text/x-python",
   "name": "python",
   "nbconvert_exporter": "python",
   "pygments_lexer": "ipython3",
   "version": "3.9.12"
  }
 },
 "nbformat": 4,
 "nbformat_minor": 5
}
