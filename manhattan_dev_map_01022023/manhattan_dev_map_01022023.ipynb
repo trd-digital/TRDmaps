{
 "cells": [
  {
   "cell_type": "markdown",
   "metadata": {},
   "source": [
    "## Imports"
   ]
  },
  {
   "cell_type": "code",
   "execution_count": 54,
   "metadata": {},
   "outputs": [],
   "source": [
    "from geopy.geocoders import GoogleV3\n",
    "from bs4 import BeautifulSoup\n",
    "import requests\n",
    "import time\n",
    "import pandas as pd\n",
    "import numpy as np\n",
    "import urllib3\n",
    "import re\n",
    "from textwrap import shorten\n",
    "import os\n",
    "import geopandas as gpd"
   ]
  },
  {
   "cell_type": "markdown",
   "metadata": {},
   "source": [
    "## Read-in"
   ]
  },
  {
   "cell_type": "code",
   "execution_count": 55,
   "metadata": {},
   "outputs": [],
   "source": [
    "df = pd.read_csv('Sites list (2).xlsx - Sheet1.csv')"
   ]
  },
  {
   "cell_type": "code",
   "execution_count": 56,
   "metadata": {},
   "outputs": [],
   "source": [
    "df['full_address'] = df['Address'] + ' Manhattan, NY'"
   ]
  },
  {
   "cell_type": "markdown",
   "metadata": {},
   "source": [
    "## Google Maps API Geolocater Setup"
   ]
  },
  {
   "cell_type": "code",
   "execution_count": 57,
   "metadata": {},
   "outputs": [],
   "source": [
    "%store -r google_maps_API_Key\n",
    "geolocator = GoogleV3(api_key=google_maps_API_Key)"
   ]
  },
  {
   "cell_type": "code",
   "execution_count": null,
   "metadata": {},
   "outputs": [],
   "source": [
    "df['geo_address'] = df['full_address']\n",
    "df['loc'] = df['geo_address'].apply(geolocator.geocode, timeout=10)\n",
    "df['point'] = df['loc'].apply(lambda loc: tuple(loc.point) if loc else None)\n",
    "df[['lat','lon','altitude']] = pd.DataFrame(df['point'].to_list(),index=df.index)"
   ]
  },
  {
   "cell_type": "markdown",
   "metadata": {},
   "source": [
    "## Correction Section"
   ]
  },
  {
   "cell_type": "code",
   "execution_count": null,
   "metadata": {},
   "outputs": [],
   "source": [
    "df.columns"
   ]
  },
  {
   "cell_type": "code",
   "execution_count": null,
   "metadata": {},
   "outputs": [],
   "source": [
    "df = df.dropna(subset='Address')"
   ]
  },
  {
   "cell_type": "code",
   "execution_count": null,
   "metadata": {},
   "outputs": [],
   "source": [
    "df = df.fillna('Not provided')"
   ]
  },
  {
   "cell_type": "markdown",
   "metadata": {},
   "source": [
    "## Add colors to DF"
   ]
  },
  {
   "cell_type": "code",
   "execution_count": null,
   "metadata": {},
   "outputs": [],
   "source": [
    "df['Color'] = ''\n",
    "df.loc[df['Type'] == 'Public', 'Color'] = 'Purple'\n",
    "df.loc[df['Type'] == 'Private', 'Color'] = 'Green'\n",
    "df.loc[df['Type'] == 'Mixed', 'Color'] = 'Orange'"
   ]
  },
  {
   "cell_type": "markdown",
   "metadata": {},
   "source": [
    "## Separate DF into private, public and mixed sub-DFs"
   ]
  },
  {
   "cell_type": "code",
   "execution_count": null,
   "metadata": {},
   "outputs": [],
   "source": [
    "df_Public = df.loc[df['Type'] == 'Public'] ## Purple\n",
    "df_Private = df.loc[df['Type'] == 'Private'] ## Green\n",
    "df_Mixed = df.loc[df['Type'] == 'Mixed'] ## Orange"
   ]
  },
  {
   "cell_type": "code",
   "execution_count": null,
   "metadata": {},
   "outputs": [],
   "source": [
    "df.Type.value_counts()"
   ]
  },
  {
   "cell_type": "markdown",
   "metadata": {},
   "source": [
    "## HTML popup formatter"
   ]
  },
  {
   "cell_type": "code",
   "execution_count": null,
   "metadata": {},
   "outputs": [],
   "source": [
    "def popup_html(row):\n",
    "    i = row\n",
    "    Address = df['Address'].iloc[i]\n",
    "    Type = df['Type'].iloc[i]\n",
    "    Owner = df['Owner'].iloc[i]\n",
    "    Current_Use = df['Current Use'].iloc[i]\n",
    "    Zoning = df['Zoning'].iloc[i]\n",
    "    Commercial_Overlay = df['Commercial Overlay'].iloc[i]\n",
    "    Max_Units = df['Max Units'].iloc[i]\n",
    "    Proposed_Units = df['Proposed Units'].iloc[i]\n",
    "    Affordability = df['Affordability'].iloc[i]\n",
    "    Prez_comments = df['MBPO Comments'].iloc[i]\n",
    "    \n",
    "    \n",
    "    html = '''<!DOCTYPE html>\n",
    "    <html>\n",
    "    <strong>Address: </strong>{}'''.format(Address) + '''<br>\n",
    "    <strong>Type: </strong>{}'''.format(Type) + '''<br>\n",
    "    <strong>Owner: </strong>{}'''.format(Owner) + '''<br>\n",
    "    <strong>Current Use: </strong>{}'''.format(Current_Use) + '''<br>\n",
    "    <strong>Zoning: </strong>{}'''.format(Zoning) + '''<br>\n",
    "    <strong>Commercial Overlay: </strong>{}'''.format(Commercial_Overlay) + '''<br>\n",
    "    <strong>Max Units: </strong>{}'''.format(Max_Units) + '''<br>\n",
    "    <strong>Proposed Units: </strong>{}'''.format(Proposed_Units) + '''<br>\n",
    "    <strong>Affordability: </strong>{}'''.format(Affordability) + '''<br>\n",
    "    <strong>Comments: </strong>{}'''.format(Prez_comments) + '''\n",
    "    </html>\n",
    "    '''\n",
    "    return html\n"
   ]
  },
  {
   "cell_type": "markdown",
   "metadata": {},
   "source": [
    "## Map Maker"
   ]
  },
  {
   "cell_type": "code",
   "execution_count": null,
   "metadata": {
    "scrolled": false
   },
   "outputs": [],
   "source": [
    "import folium\n",
    "import branca\n",
    "\n",
    "### Create map container ###\n",
    "m = folium.Map(location=df[[\"lat\", \"lon\"]].mean().to_list(),zoom_start=10.5,tiles=None)\n",
    "\n",
    "### Create title ###\n",
    "title_html = '''\n",
    "              <h3 align=\"center\" style=\"font-size:16px\"><b>{}</b></h3>\n",
    "             '''.format(f\"Manhattan Development Opportunities\")\n",
    "\n",
    "m.get_root().html.add_child(folium.Element(title_html))\n",
    "\n",
    "### Create Public Pins ###\n",
    "for i in range(0,len(df_Public)):\n",
    "    html = popup_html(i)\n",
    "    iframe = branca.element.IFrame(html=html)\n",
    "    popup = folium.Popup(folium.Html(html, script=True), min_width=400, max_width=400)\n",
    "    folium.Marker([df['lat'].iloc[i],df['lon'].iloc[i]],\n",
    "                 popup=popup, icon=folium.Icon(color='purple')).add_to(m)\n",
    "    \n",
    "### Create Private Pins ###\n",
    "for i in range(0,len(df_Private)):\n",
    "    html = popup_html(i)\n",
    "    iframe = branca.element.IFrame(html=html)\n",
    "    popup = folium.Popup(folium.Html(html, script=True), min_width=400, max_width=400)\n",
    "    folium.Marker([df['lat'].iloc[i],df['lon'].iloc[i]],\n",
    "                 popup=popup, icon=folium.Icon(color='green')).add_to(m)\n",
    "    \n",
    "### Create Mixed Pins ###\n",
    "for i in range(0,len(df_Mixed)):\n",
    "    html = popup_html(i)\n",
    "    iframe = branca.element.IFrame(html=html)\n",
    "    popup = folium.Popup(folium.Html(html, script=True), min_width=400, max_width=400)\n",
    "    folium.Marker([df['lat'].iloc[i],df['lon'].iloc[i]],\n",
    "                 popup=popup, icon=folium.Icon(color='orange')).add_to(m)\n",
    "    \n",
    "\n",
    "lgd_txt = '<span style=\"color: {col};\">{txt}</span>'\n",
    "\n",
    "### Create legend ###\n",
    "for i, r in df.iterrows():\n",
    "    fg = folium.FeatureGroup(name=lgd_txt.format(txt=r['Type'] + ' ' + '= ' + r['Color'],col=r['Color']))\n",
    "    m.add_child(fg)\n",
    "    \n",
    "folium.TileLayer('Open Street Map',control=False).add_to(m)\n",
    "    \n",
    "folium.map.LayerControl('topleft', collapsed=False).add_to(m)\n",
    "\n",
    "m"
   ]
  },
  {
   "cell_type": "code",
   "execution_count": null,
   "metadata": {},
   "outputs": [],
   "source": [
    "m.save('index.html')"
   ]
  },
  {
   "cell_type": "markdown",
   "metadata": {},
   "source": [
    "## Map URL snagger"
   ]
  },
  {
   "cell_type": "markdown",
   "metadata": {},
   "source": [
    "Map template URL: `https://trd-digital.github.io/trd-news-interactive-maps/{map-folder-name}`"
   ]
  },
  {
   "cell_type": "code",
   "execution_count": null,
   "metadata": {},
   "outputs": [],
   "source": [
    "base_name = 'https://trd-digital.github.io/trd-news-interactive-maps/'"
   ]
  },
  {
   "cell_type": "code",
   "execution_count": null,
   "metadata": {},
   "outputs": [],
   "source": [
    "cwd = os.getcwd()\n",
    "\n",
    "cwd = cwd.split('/')\n",
    "\n",
    "final_name = base_name + cwd[-1]\n",
    "print(final_name)"
   ]
  },
  {
   "cell_type": "markdown",
   "metadata": {},
   "source": [
    "## Data Check"
   ]
  },
  {
   "cell_type": "code",
   "execution_count": null,
   "metadata": {},
   "outputs": [],
   "source": [
    "df.Owner.value_counts().head(60)"
   ]
  },
  {
   "cell_type": "code",
   "execution_count": null,
   "metadata": {},
   "outputs": [],
   "source": [
    "df.loc[df['Owner'] == 'Shermans Creek Dev. Co.']"
   ]
  }
 ],
 "metadata": {
  "kernelspec": {
   "display_name": "Python 3 (ipykernel)",
   "language": "python",
   "name": "python3"
  },
  "language_info": {
   "codemirror_mode": {
    "name": "ipython",
    "version": 3
   },
   "file_extension": ".py",
   "mimetype": "text/x-python",
   "name": "python",
   "nbconvert_exporter": "python",
   "pygments_lexer": "ipython3",
   "version": "3.9.12"
  },
  "toc": {
   "base_numbering": 1,
   "nav_menu": {},
   "number_sections": true,
   "sideBar": true,
   "skip_h1_title": false,
   "title_cell": "Table of Contents",
   "title_sidebar": "Contents",
   "toc_cell": false,
   "toc_position": {},
   "toc_section_display": true,
   "toc_window_display": false
  }
 },
 "nbformat": 4,
 "nbformat_minor": 4
}
