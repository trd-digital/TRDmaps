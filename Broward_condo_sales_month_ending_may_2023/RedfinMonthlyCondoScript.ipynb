{
 "cells": [
  {
   "cell_type": "markdown",
   "id": "282c57c3",
   "metadata": {},
   "source": [
    "## Imports"
   ]
  },
  {
   "cell_type": "code",
   "execution_count": 12,
   "id": "54c15242",
   "metadata": {},
   "outputs": [],
   "source": [
    "import pandas as pd\n",
    "import numpy as np\n",
    "import re\n",
    "import os\n",
    "import folium"
   ]
  },
  {
   "cell_type": "markdown",
   "id": "7c620cf8",
   "metadata": {},
   "source": [
    "## Data Read-in"
   ]
  },
  {
   "cell_type": "code",
   "execution_count": 36,
   "id": "cf911fa0",
   "metadata": {},
   "outputs": [],
   "source": [
    "df = pd.read_csv('redfin_2023-06-07-02-46-31.csv')"
   ]
  },
  {
   "cell_type": "markdown",
   "id": "b03ce742",
   "metadata": {},
   "source": [
    "## Data Clean"
   ]
  },
  {
   "cell_type": "code",
   "execution_count": 37,
   "id": "1f2a52a3",
   "metadata": {},
   "outputs": [],
   "source": [
    "df = df.rename(columns={'URL (SEE https://www.redfin.com/buy-a-home/comparative-market-analysis FOR INFO ON PRICING)':'URL'})"
   ]
  },
  {
   "cell_type": "code",
   "execution_count": 38,
   "id": "5f45bf08",
   "metadata": {},
   "outputs": [],
   "source": [
    "df = df.dropna(subset=['SOLD DATE'])"
   ]
  },
  {
   "cell_type": "code",
   "execution_count": 39,
   "id": "9b9d20ba",
   "metadata": {},
   "outputs": [],
   "source": [
    "# Define list of desired months (excluding current month)\n",
    "desired_months = ['May']\n",
    "\n",
    "# Filter DataFrame to include only entries from desired months\n",
    "df_filtered = df[df['SOLD DATE'].str.split('-', expand=True)[0].isin(desired_months)]\n",
    "\n",
    "# Reset the index\n",
    "df_filtered = df_filtered.reset_index(drop=True)"
   ]
  },
  {
   "cell_type": "code",
   "execution_count": 40,
   "id": "ab2d002c",
   "metadata": {},
   "outputs": [
    {
     "name": "stdout",
     "output_type": "stream",
     "text": [
      "PRICE\n",
      "False    1162\n",
      "Name: count, dtype: int64\n",
      "-------\n",
      "$/SQUARE FEET\n",
      "False    1148\n",
      "True       14\n",
      "Name: count, dtype: int64\n",
      "-------\n",
      "YEAR BUILT\n",
      "False    1162\n",
      "Name: count, dtype: int64\n",
      "-------\n"
     ]
    }
   ],
   "source": [
    "# Data checks\n",
    "print(df_filtered['PRICE'].isna().value_counts())\n",
    "print('-------')\n",
    "print(df_filtered['$/SQUARE FEET'].isna().value_counts())\n",
    "print('-------')\n",
    "print(df_filtered['YEAR BUILT'].isna().value_counts())\n",
    "print('-------')"
   ]
  },
  {
   "cell_type": "code",
   "execution_count": 41,
   "id": "b0376d17",
   "metadata": {},
   "outputs": [],
   "source": [
    "df_filtered['PRICE'] = pd.to_numeric(df_filtered['PRICE'])\n",
    "df_filtered['$/SQUARE FEET'] = pd.to_numeric(df_filtered['$/SQUARE FEET'])\n",
    "df_filtered['YEAR BUILT'] = pd.to_numeric(df_filtered['YEAR BUILT'])\n",
    "df_filtered['LATITUDE'] = pd.to_numeric(df_filtered['LATITUDE'])\n",
    "df_filtered['LONGITUDE'] = pd.to_numeric(df_filtered['LONGITUDE'])"
   ]
  },
  {
   "cell_type": "code",
   "execution_count": 42,
   "id": "a5e15306",
   "metadata": {},
   "outputs": [],
   "source": [
    "df_filtered = df_filtered.sort_values(by='PRICE',ascending=True).reset_index(inplace=False)\n",
    "df_filtered = df_filtered.drop(columns='index')"
   ]
  },
  {
   "cell_type": "code",
   "execution_count": 43,
   "id": "d5eec097",
   "metadata": {},
   "outputs": [
    {
     "data": {
      "text/html": [
       "<div>\n",
       "<style scoped>\n",
       "    .dataframe tbody tr th:only-of-type {\n",
       "        vertical-align: middle;\n",
       "    }\n",
       "\n",
       "    .dataframe tbody tr th {\n",
       "        vertical-align: top;\n",
       "    }\n",
       "\n",
       "    .dataframe thead th {\n",
       "        text-align: right;\n",
       "    }\n",
       "</style>\n",
       "<table border=\"1\" class=\"dataframe\">\n",
       "  <thead>\n",
       "    <tr style=\"text-align: right;\">\n",
       "      <th></th>\n",
       "      <th>SALE TYPE</th>\n",
       "      <th>SOLD DATE</th>\n",
       "      <th>PROPERTY TYPE</th>\n",
       "      <th>ADDRESS</th>\n",
       "      <th>CITY</th>\n",
       "      <th>STATE OR PROVINCE</th>\n",
       "      <th>ZIP OR POSTAL CODE</th>\n",
       "      <th>PRICE</th>\n",
       "      <th>BEDS</th>\n",
       "      <th>BATHS</th>\n",
       "      <th>...</th>\n",
       "      <th>STATUS</th>\n",
       "      <th>NEXT OPEN HOUSE START TIME</th>\n",
       "      <th>NEXT OPEN HOUSE END TIME</th>\n",
       "      <th>URL</th>\n",
       "      <th>SOURCE</th>\n",
       "      <th>MLS#</th>\n",
       "      <th>FAVORITE</th>\n",
       "      <th>INTERESTED</th>\n",
       "      <th>LATITUDE</th>\n",
       "      <th>LONGITUDE</th>\n",
       "    </tr>\n",
       "  </thead>\n",
       "  <tbody>\n",
       "    <tr>\n",
       "      <th>0</th>\n",
       "      <td>PAST SALE</td>\n",
       "      <td>May-31-2023</td>\n",
       "      <td>Condo/Co-op</td>\n",
       "      <td>2030 S Ocean Dr #710</td>\n",
       "      <td>Hallandale Beach</td>\n",
       "      <td>FL</td>\n",
       "      <td>33009.0</td>\n",
       "      <td>440.0</td>\n",
       "      <td>2.0</td>\n",
       "      <td>2.0</td>\n",
       "      <td>...</td>\n",
       "      <td>Sold</td>\n",
       "      <td>NaN</td>\n",
       "      <td>NaN</td>\n",
       "      <td>https://www.redfin.com/FL/Hallandale-Beach/203...</td>\n",
       "      <td>MARMLS</td>\n",
       "      <td>A11349064</td>\n",
       "      <td>N</td>\n",
       "      <td>Y</td>\n",
       "      <td>25.978036</td>\n",
       "      <td>-80.119391</td>\n",
       "    </tr>\n",
       "    <tr>\n",
       "      <th>1</th>\n",
       "      <td>PAST SALE</td>\n",
       "      <td>May-11-2023</td>\n",
       "      <td>Condo/Co-op</td>\n",
       "      <td>1061 45 St #8</td>\n",
       "      <td>Deerfield Beach</td>\n",
       "      <td>FL</td>\n",
       "      <td>33064.0</td>\n",
       "      <td>18000.0</td>\n",
       "      <td>2.0</td>\n",
       "      <td>2.0</td>\n",
       "      <td>...</td>\n",
       "      <td>Sold</td>\n",
       "      <td>NaN</td>\n",
       "      <td>NaN</td>\n",
       "      <td>https://www.redfin.com/FL/Deerfield-Beach/1061...</td>\n",
       "      <td>Beaches MLS</td>\n",
       "      <td>F10367385</td>\n",
       "      <td>N</td>\n",
       "      <td>Y</td>\n",
       "      <td>26.285551</td>\n",
       "      <td>-80.138541</td>\n",
       "    </tr>\n",
       "    <tr>\n",
       "      <th>2</th>\n",
       "      <td>PAST SALE</td>\n",
       "      <td>May-24-2023</td>\n",
       "      <td>Condo/Co-op</td>\n",
       "      <td>2851 S Palm Aire Dr #209</td>\n",
       "      <td>Pompano Beach</td>\n",
       "      <td>FL</td>\n",
       "      <td>33069.0</td>\n",
       "      <td>21200.0</td>\n",
       "      <td>2.0</td>\n",
       "      <td>2.0</td>\n",
       "      <td>...</td>\n",
       "      <td>Sold</td>\n",
       "      <td>NaN</td>\n",
       "      <td>NaN</td>\n",
       "      <td>https://www.redfin.com/FL/Pompano-Beach/2851-S...</td>\n",
       "      <td>MARMLS</td>\n",
       "      <td>A11375423</td>\n",
       "      <td>N</td>\n",
       "      <td>Y</td>\n",
       "      <td>26.216672</td>\n",
       "      <td>-80.161742</td>\n",
       "    </tr>\n",
       "    <tr>\n",
       "      <th>3</th>\n",
       "      <td>PAST SALE</td>\n",
       "      <td>May-19-2023</td>\n",
       "      <td>Condo/Co-op</td>\n",
       "      <td>9041 Sunrise Lakes Blvd #211</td>\n",
       "      <td>Sunrise</td>\n",
       "      <td>FL</td>\n",
       "      <td>33322.0</td>\n",
       "      <td>65000.0</td>\n",
       "      <td>1.0</td>\n",
       "      <td>1.0</td>\n",
       "      <td>...</td>\n",
       "      <td>Sold</td>\n",
       "      <td>NaN</td>\n",
       "      <td>NaN</td>\n",
       "      <td>https://www.redfin.com/FL/Sunrise/9041-Sunrise...</td>\n",
       "      <td>Beaches MLS</td>\n",
       "      <td>F10371722</td>\n",
       "      <td>N</td>\n",
       "      <td>Y</td>\n",
       "      <td>26.163517</td>\n",
       "      <td>-80.272356</td>\n",
       "    </tr>\n",
       "    <tr>\n",
       "      <th>4</th>\n",
       "      <td>PAST SALE</td>\n",
       "      <td>May-5-2023</td>\n",
       "      <td>Condo/Co-op</td>\n",
       "      <td>2271 NW 47th Ter #214</td>\n",
       "      <td>Lauderhill</td>\n",
       "      <td>FL</td>\n",
       "      <td>33313.0</td>\n",
       "      <td>70000.0</td>\n",
       "      <td>1.0</td>\n",
       "      <td>1.5</td>\n",
       "      <td>...</td>\n",
       "      <td>Sold</td>\n",
       "      <td>NaN</td>\n",
       "      <td>NaN</td>\n",
       "      <td>https://www.redfin.com/FL/Lauderhill/2271-NW-4...</td>\n",
       "      <td>Beaches MLS</td>\n",
       "      <td>F10370572</td>\n",
       "      <td>N</td>\n",
       "      <td>Y</td>\n",
       "      <td>26.155254</td>\n",
       "      <td>-80.213700</td>\n",
       "    </tr>\n",
       "    <tr>\n",
       "      <th>...</th>\n",
       "      <td>...</td>\n",
       "      <td>...</td>\n",
       "      <td>...</td>\n",
       "      <td>...</td>\n",
       "      <td>...</td>\n",
       "      <td>...</td>\n",
       "      <td>...</td>\n",
       "      <td>...</td>\n",
       "      <td>...</td>\n",
       "      <td>...</td>\n",
       "      <td>...</td>\n",
       "      <td>...</td>\n",
       "      <td>...</td>\n",
       "      <td>...</td>\n",
       "      <td>...</td>\n",
       "      <td>...</td>\n",
       "      <td>...</td>\n",
       "      <td>...</td>\n",
       "      <td>...</td>\n",
       "      <td>...</td>\n",
       "      <td>...</td>\n",
       "    </tr>\n",
       "    <tr>\n",
       "      <th>1157</th>\n",
       "      <td>PAST SALE</td>\n",
       "      <td>May-26-2023</td>\n",
       "      <td>Condo/Co-op</td>\n",
       "      <td>2200 N Ocean Blvd Unit N702</td>\n",
       "      <td>Fort Lauderdale</td>\n",
       "      <td>FL</td>\n",
       "      <td>33305.0</td>\n",
       "      <td>3850000.0</td>\n",
       "      <td>3.0</td>\n",
       "      <td>3.5</td>\n",
       "      <td>...</td>\n",
       "      <td>Sold</td>\n",
       "      <td>NaN</td>\n",
       "      <td>NaN</td>\n",
       "      <td>https://www.redfin.com/FL/Fort-Lauderdale/2200...</td>\n",
       "      <td>Beaches MLS</td>\n",
       "      <td>F10374536</td>\n",
       "      <td>N</td>\n",
       "      <td>Y</td>\n",
       "      <td>26.157109</td>\n",
       "      <td>-80.100473</td>\n",
       "    </tr>\n",
       "    <tr>\n",
       "      <th>1158</th>\n",
       "      <td>PAST SALE</td>\n",
       "      <td>May-19-2023</td>\n",
       "      <td>Condo/Co-op</td>\n",
       "      <td>2000 S Ocean Dr Unit 21B</td>\n",
       "      <td>Hallandale Beach</td>\n",
       "      <td>FL</td>\n",
       "      <td>33009.0</td>\n",
       "      <td>4000000.0</td>\n",
       "      <td>3.0</td>\n",
       "      <td>3.5</td>\n",
       "      <td>...</td>\n",
       "      <td>Sold</td>\n",
       "      <td>NaN</td>\n",
       "      <td>NaN</td>\n",
       "      <td>https://www.redfin.com/FL/Hallandale-Beach/200...</td>\n",
       "      <td>MARMLS</td>\n",
       "      <td>A11357515</td>\n",
       "      <td>N</td>\n",
       "      <td>Y</td>\n",
       "      <td>25.978824</td>\n",
       "      <td>-80.119610</td>\n",
       "    </tr>\n",
       "    <tr>\n",
       "      <th>1159</th>\n",
       "      <td>PAST SALE</td>\n",
       "      <td>May-23-2023</td>\n",
       "      <td>Condo/Co-op</td>\n",
       "      <td>701 N Fort Lauderdale Beach Blvd #702</td>\n",
       "      <td>Fort Lauderdale</td>\n",
       "      <td>FL</td>\n",
       "      <td>33304.0</td>\n",
       "      <td>4200000.0</td>\n",
       "      <td>4.0</td>\n",
       "      <td>4.5</td>\n",
       "      <td>...</td>\n",
       "      <td>Sold</td>\n",
       "      <td>NaN</td>\n",
       "      <td>NaN</td>\n",
       "      <td>https://www.redfin.com/FL/Fort-Lauderdale/701-...</td>\n",
       "      <td>Beaches MLS</td>\n",
       "      <td>F10358526</td>\n",
       "      <td>N</td>\n",
       "      <td>Y</td>\n",
       "      <td>26.132895</td>\n",
       "      <td>-80.104208</td>\n",
       "    </tr>\n",
       "    <tr>\n",
       "      <th>1160</th>\n",
       "      <td>PAST SALE</td>\n",
       "      <td>May-18-2023</td>\n",
       "      <td>Condo/Co-op</td>\n",
       "      <td>100 Las Olas Blvd Ph 4603</td>\n",
       "      <td>Fort Lauderdale</td>\n",
       "      <td>FL</td>\n",
       "      <td>33301.0</td>\n",
       "      <td>5000000.0</td>\n",
       "      <td>5.0</td>\n",
       "      <td>6.5</td>\n",
       "      <td>...</td>\n",
       "      <td>Sold</td>\n",
       "      <td>NaN</td>\n",
       "      <td>NaN</td>\n",
       "      <td>https://www.redfin.com/FL/Fort-Lauderdale/100-...</td>\n",
       "      <td>Beaches MLS</td>\n",
       "      <td>F10360678</td>\n",
       "      <td>N</td>\n",
       "      <td>Y</td>\n",
       "      <td>26.118855</td>\n",
       "      <td>-80.141485</td>\n",
       "    </tr>\n",
       "    <tr>\n",
       "      <th>1161</th>\n",
       "      <td>PAST SALE</td>\n",
       "      <td>May-12-2023</td>\n",
       "      <td>Condo/Co-op</td>\n",
       "      <td>525 N Ft Lauderdale Bch Blvd #2102</td>\n",
       "      <td>Fort Lauderdale</td>\n",
       "      <td>FL</td>\n",
       "      <td>33304.0</td>\n",
       "      <td>13250000.0</td>\n",
       "      <td>5.0</td>\n",
       "      <td>6.5</td>\n",
       "      <td>...</td>\n",
       "      <td>Sold</td>\n",
       "      <td>NaN</td>\n",
       "      <td>NaN</td>\n",
       "      <td>https://www.redfin.com/FL/Fort-Lauderdale/525-...</td>\n",
       "      <td>Beaches MLS</td>\n",
       "      <td>F10322944</td>\n",
       "      <td>N</td>\n",
       "      <td>Y</td>\n",
       "      <td>26.130776</td>\n",
       "      <td>-80.103262</td>\n",
       "    </tr>\n",
       "  </tbody>\n",
       "</table>\n",
       "<p>1162 rows × 27 columns</p>\n",
       "</div>"
      ],
      "text/plain": [
       "      SALE TYPE    SOLD DATE PROPERTY TYPE   \n",
       "0     PAST SALE  May-31-2023   Condo/Co-op  \\\n",
       "1     PAST SALE  May-11-2023   Condo/Co-op   \n",
       "2     PAST SALE  May-24-2023   Condo/Co-op   \n",
       "3     PAST SALE  May-19-2023   Condo/Co-op   \n",
       "4     PAST SALE   May-5-2023   Condo/Co-op   \n",
       "...         ...          ...           ...   \n",
       "1157  PAST SALE  May-26-2023   Condo/Co-op   \n",
       "1158  PAST SALE  May-19-2023   Condo/Co-op   \n",
       "1159  PAST SALE  May-23-2023   Condo/Co-op   \n",
       "1160  PAST SALE  May-18-2023   Condo/Co-op   \n",
       "1161  PAST SALE  May-12-2023   Condo/Co-op   \n",
       "\n",
       "                                    ADDRESS              CITY   \n",
       "0                      2030 S Ocean Dr #710  Hallandale Beach  \\\n",
       "1                             1061 45 St #8   Deerfield Beach   \n",
       "2                  2851 S Palm Aire Dr #209     Pompano Beach   \n",
       "3              9041 Sunrise Lakes Blvd #211           Sunrise   \n",
       "4                     2271 NW 47th Ter #214        Lauderhill   \n",
       "...                                     ...               ...   \n",
       "1157            2200 N Ocean Blvd Unit N702   Fort Lauderdale   \n",
       "1158               2000 S Ocean Dr Unit 21B  Hallandale Beach   \n",
       "1159  701 N Fort Lauderdale Beach Blvd #702   Fort Lauderdale   \n",
       "1160              100 Las Olas Blvd Ph 4603   Fort Lauderdale   \n",
       "1161     525 N Ft Lauderdale Bch Blvd #2102   Fort Lauderdale   \n",
       "\n",
       "     STATE OR PROVINCE  ZIP OR POSTAL CODE       PRICE  BEDS  BATHS  ...   \n",
       "0                   FL             33009.0       440.0   2.0    2.0  ...  \\\n",
       "1                   FL             33064.0     18000.0   2.0    2.0  ...   \n",
       "2                   FL             33069.0     21200.0   2.0    2.0  ...   \n",
       "3                   FL             33322.0     65000.0   1.0    1.0  ...   \n",
       "4                   FL             33313.0     70000.0   1.0    1.5  ...   \n",
       "...                ...                 ...         ...   ...    ...  ...   \n",
       "1157                FL             33305.0   3850000.0   3.0    3.5  ...   \n",
       "1158                FL             33009.0   4000000.0   3.0    3.5  ...   \n",
       "1159                FL             33304.0   4200000.0   4.0    4.5  ...   \n",
       "1160                FL             33301.0   5000000.0   5.0    6.5  ...   \n",
       "1161                FL             33304.0  13250000.0   5.0    6.5  ...   \n",
       "\n",
       "     STATUS  NEXT OPEN HOUSE START TIME  NEXT OPEN HOUSE END TIME   \n",
       "0      Sold                         NaN                       NaN  \\\n",
       "1      Sold                         NaN                       NaN   \n",
       "2      Sold                         NaN                       NaN   \n",
       "3      Sold                         NaN                       NaN   \n",
       "4      Sold                         NaN                       NaN   \n",
       "...     ...                         ...                       ...   \n",
       "1157   Sold                         NaN                       NaN   \n",
       "1158   Sold                         NaN                       NaN   \n",
       "1159   Sold                         NaN                       NaN   \n",
       "1160   Sold                         NaN                       NaN   \n",
       "1161   Sold                         NaN                       NaN   \n",
       "\n",
       "                                                    URL       SOURCE   \n",
       "0     https://www.redfin.com/FL/Hallandale-Beach/203...       MARMLS  \\\n",
       "1     https://www.redfin.com/FL/Deerfield-Beach/1061...  Beaches MLS   \n",
       "2     https://www.redfin.com/FL/Pompano-Beach/2851-S...       MARMLS   \n",
       "3     https://www.redfin.com/FL/Sunrise/9041-Sunrise...  Beaches MLS   \n",
       "4     https://www.redfin.com/FL/Lauderhill/2271-NW-4...  Beaches MLS   \n",
       "...                                                 ...          ...   \n",
       "1157  https://www.redfin.com/FL/Fort-Lauderdale/2200...  Beaches MLS   \n",
       "1158  https://www.redfin.com/FL/Hallandale-Beach/200...       MARMLS   \n",
       "1159  https://www.redfin.com/FL/Fort-Lauderdale/701-...  Beaches MLS   \n",
       "1160  https://www.redfin.com/FL/Fort-Lauderdale/100-...  Beaches MLS   \n",
       "1161  https://www.redfin.com/FL/Fort-Lauderdale/525-...  Beaches MLS   \n",
       "\n",
       "           MLS#  FAVORITE INTERESTED   LATITUDE  LONGITUDE  \n",
       "0     A11349064         N          Y  25.978036 -80.119391  \n",
       "1     F10367385         N          Y  26.285551 -80.138541  \n",
       "2     A11375423         N          Y  26.216672 -80.161742  \n",
       "3     F10371722         N          Y  26.163517 -80.272356  \n",
       "4     F10370572         N          Y  26.155254 -80.213700  \n",
       "...         ...       ...        ...        ...        ...  \n",
       "1157  F10374536         N          Y  26.157109 -80.100473  \n",
       "1158  A11357515         N          Y  25.978824 -80.119610  \n",
       "1159  F10358526         N          Y  26.132895 -80.104208  \n",
       "1160  F10360678         N          Y  26.118855 -80.141485  \n",
       "1161  F10322944         N          Y  26.130776 -80.103262  \n",
       "\n",
       "[1162 rows x 27 columns]"
      ]
     },
     "execution_count": 43,
     "metadata": {},
     "output_type": "execute_result"
    }
   ],
   "source": [
    "df_filtered"
   ]
  },
  {
   "cell_type": "code",
   "execution_count": 48,
   "id": "e6256bce",
   "metadata": {},
   "outputs": [
    {
     "name": "stdout",
     "output_type": "stream",
     "text": [
      "https://www.redfin.com/FL/Lauderhill/2271-NW-47th-Ter-33313/unit-214/home/41594768\n"
     ]
    }
   ],
   "source": [
    "print(df_filtered['URL'].iloc[4])"
   ]
  },
  {
   "cell_type": "code",
   "execution_count": 49,
   "id": "fe440217",
   "metadata": {},
   "outputs": [],
   "source": [
    "# Correct the prices, if needed\n",
    "df_filtered.at[0,'PRICE']=(440000)\n",
    "df_filtered.at[1,'PRICE']=(180000)\n",
    "df_filtered.at[2,'PRICE']=(212000)\n",
    "df_filtered.at[3,'PRICE']=(650000)"
   ]
  },
  {
   "cell_type": "code",
   "execution_count": 50,
   "id": "3725c1e3",
   "metadata": {},
   "outputs": [
    {
     "data": {
      "text/html": [
       "<div>\n",
       "<style scoped>\n",
       "    .dataframe tbody tr th:only-of-type {\n",
       "        vertical-align: middle;\n",
       "    }\n",
       "\n",
       "    .dataframe tbody tr th {\n",
       "        vertical-align: top;\n",
       "    }\n",
       "\n",
       "    .dataframe thead th {\n",
       "        text-align: right;\n",
       "    }\n",
       "</style>\n",
       "<table border=\"1\" class=\"dataframe\">\n",
       "  <thead>\n",
       "    <tr style=\"text-align: right;\">\n",
       "      <th></th>\n",
       "      <th>SOLD DATE</th>\n",
       "      <th>ADDRESS</th>\n",
       "      <th>CITY</th>\n",
       "      <th>$/SQUARE FEET</th>\n",
       "      <th>PRICE</th>\n",
       "      <th>SQUARE FEET</th>\n",
       "    </tr>\n",
       "  </thead>\n",
       "  <tbody>\n",
       "  </tbody>\n",
       "</table>\n",
       "</div>"
      ],
      "text/plain": [
       "Empty DataFrame\n",
       "Columns: [SOLD DATE, ADDRESS, CITY, $/SQUARE FEET, PRICE, SQUARE FEET]\n",
       "Index: []"
      ]
     },
     "execution_count": 50,
     "metadata": {},
     "output_type": "execute_result"
    }
   ],
   "source": [
    "# Find problem psf by searching for a '0' value\n",
    "df_filtered.loc[df_filtered['$/SQUARE FEET'] == '0'][['SOLD DATE','ADDRESS','CITY','$/SQUARE FEET','PRICE','SQUARE FEET']]"
   ]
  },
  {
   "cell_type": "code",
   "execution_count": 51,
   "id": "daf6c8ee",
   "metadata": {},
   "outputs": [],
   "source": [
    "# Corrections, if needed\n",
    "df_filtered.at[0,'$/SQUARE FEET']=(440000/1248)\n",
    "# df_filtered.at[1,'$/SQUARE FEET']=(180000/1075)\n",
    "df_filtered.at[2,'$/SQUARE FEET']=(212000/1120)\n",
    "df_filtered.at[3,'$/SQUARE FEET']=(650000/620)"
   ]
  },
  {
   "cell_type": "code",
   "execution_count": 52,
   "id": "42d775ef",
   "metadata": {},
   "outputs": [
    {
     "data": {
      "text/html": [
       "<div>\n",
       "<style scoped>\n",
       "    .dataframe tbody tr th:only-of-type {\n",
       "        vertical-align: middle;\n",
       "    }\n",
       "\n",
       "    .dataframe tbody tr th {\n",
       "        vertical-align: top;\n",
       "    }\n",
       "\n",
       "    .dataframe thead th {\n",
       "        text-align: right;\n",
       "    }\n",
       "</style>\n",
       "<table border=\"1\" class=\"dataframe\">\n",
       "  <thead>\n",
       "    <tr style=\"text-align: right;\">\n",
       "      <th></th>\n",
       "      <th>PRICE</th>\n",
       "      <th>ADDRESS</th>\n",
       "      <th>CITY</th>\n",
       "      <th>$/SQUARE FEET</th>\n",
       "    </tr>\n",
       "  </thead>\n",
       "  <tbody>\n",
       "    <tr>\n",
       "      <th>4</th>\n",
       "      <td>70000.0</td>\n",
       "      <td>2271 NW 47th Ter #214</td>\n",
       "      <td>Lauderhill</td>\n",
       "      <td>76.0</td>\n",
       "    </tr>\n",
       "    <tr>\n",
       "      <th>11</th>\n",
       "      <td>80000.0</td>\n",
       "      <td>3506 NW 49th Ave #415</td>\n",
       "      <td>Lauderdale Lakes</td>\n",
       "      <td>85.0</td>\n",
       "    </tr>\n",
       "    <tr>\n",
       "      <th>12</th>\n",
       "      <td>81500.0</td>\n",
       "      <td>1380 NW 43rd Ter #309</td>\n",
       "      <td>Lauderhill</td>\n",
       "      <td>88.0</td>\n",
       "    </tr>\n",
       "    <tr>\n",
       "      <th>22</th>\n",
       "      <td>90000.0</td>\n",
       "      <td>5985 Del Lago Cir #312</td>\n",
       "      <td>Sunrise</td>\n",
       "      <td>91.0</td>\n",
       "    </tr>\n",
       "    <tr>\n",
       "      <th>5</th>\n",
       "      <td>70000.0</td>\n",
       "      <td>1280 NW 43rd Ave #204</td>\n",
       "      <td>Lauderhill</td>\n",
       "      <td>96.0</td>\n",
       "    </tr>\n",
       "    <tr>\n",
       "      <th>125</th>\n",
       "      <td>132000.0</td>\n",
       "      <td>4960 E Sabal Palm Blvd #311</td>\n",
       "      <td>Tamarac</td>\n",
       "      <td>98.0</td>\n",
       "    </tr>\n",
       "    <tr>\n",
       "      <th>6</th>\n",
       "      <td>71250.0</td>\n",
       "      <td>3511 Inverrary Dr #205</td>\n",
       "      <td>Lauderhill</td>\n",
       "      <td>98.0</td>\n",
       "    </tr>\n",
       "    <tr>\n",
       "      <th>19</th>\n",
       "      <td>88000.0</td>\n",
       "      <td>8100 SW 24th St #109</td>\n",
       "      <td>North Lauderdale</td>\n",
       "      <td>101.0</td>\n",
       "    </tr>\n",
       "    <tr>\n",
       "      <th>29</th>\n",
       "      <td>95000.0</td>\n",
       "      <td>4851 NW 21st St #510</td>\n",
       "      <td>Lauderhill</td>\n",
       "      <td>102.0</td>\n",
       "    </tr>\n",
       "    <tr>\n",
       "      <th>34</th>\n",
       "      <td>96000.0</td>\n",
       "      <td>2606 Nassau Bnd Unit B2</td>\n",
       "      <td>Coconut Creek</td>\n",
       "      <td>102.0</td>\n",
       "    </tr>\n",
       "    <tr>\n",
       "      <th>103</th>\n",
       "      <td>125000.0</td>\n",
       "      <td>3301 Spanish Moss Ter #302</td>\n",
       "      <td>Lauderhill</td>\n",
       "      <td>102.0</td>\n",
       "    </tr>\n",
       "    <tr>\n",
       "      <th>42</th>\n",
       "      <td>102000.0</td>\n",
       "      <td>4851 NW 21st St #514</td>\n",
       "      <td>Lauderhill</td>\n",
       "      <td>102.0</td>\n",
       "    </tr>\n",
       "    <tr>\n",
       "      <th>84</th>\n",
       "      <td>120000.0</td>\n",
       "      <td>3102 Portofino Pt Unit H4</td>\n",
       "      <td>Coconut Creek</td>\n",
       "      <td>103.0</td>\n",
       "    </tr>\n",
       "    <tr>\n",
       "      <th>82</th>\n",
       "      <td>120000.0</td>\n",
       "      <td>7041 Environ Blvd #127</td>\n",
       "      <td>Lauderhill</td>\n",
       "      <td>105.0</td>\n",
       "    </tr>\n",
       "    <tr>\n",
       "      <th>59</th>\n",
       "      <td>110000.0</td>\n",
       "      <td>5495 NW 10th Ct #307</td>\n",
       "      <td>Plantation</td>\n",
       "      <td>106.0</td>\n",
       "    </tr>\n",
       "    <tr>\n",
       "      <th>86</th>\n",
       "      <td>120000.0</td>\n",
       "      <td>6301 N Falls Circle Dr #203</td>\n",
       "      <td>Lauderhill</td>\n",
       "      <td>106.0</td>\n",
       "    </tr>\n",
       "    <tr>\n",
       "      <th>99</th>\n",
       "      <td>124900.0</td>\n",
       "      <td>2401 Antigua Cir Unit K1</td>\n",
       "      <td>Coconut Creek</td>\n",
       "      <td>108.0</td>\n",
       "    </tr>\n",
       "    <tr>\n",
       "      <th>120</th>\n",
       "      <td>130000.0</td>\n",
       "      <td>3360 Spanish Moss Ter #410</td>\n",
       "      <td>Lauderhill</td>\n",
       "      <td>108.0</td>\n",
       "    </tr>\n",
       "    <tr>\n",
       "      <th>117</th>\n",
       "      <td>130000.0</td>\n",
       "      <td>4702 Martinique Dr Unit A2</td>\n",
       "      <td>Coconut Creek</td>\n",
       "      <td>108.0</td>\n",
       "    </tr>\n",
       "    <tr>\n",
       "      <th>156</th>\n",
       "      <td>140000.0</td>\n",
       "      <td>4940 E Sabal Palm Blvd #101</td>\n",
       "      <td>Tamarac</td>\n",
       "      <td>110.0</td>\n",
       "    </tr>\n",
       "  </tbody>\n",
       "</table>\n",
       "</div>"
      ],
      "text/plain": [
       "        PRICE                      ADDRESS              CITY  $/SQUARE FEET\n",
       "4     70000.0        2271 NW 47th Ter #214        Lauderhill           76.0\n",
       "11    80000.0        3506 NW 49th Ave #415  Lauderdale Lakes           85.0\n",
       "12    81500.0        1380 NW 43rd Ter #309        Lauderhill           88.0\n",
       "22    90000.0       5985 Del Lago Cir #312           Sunrise           91.0\n",
       "5     70000.0        1280 NW 43rd Ave #204        Lauderhill           96.0\n",
       "125  132000.0  4960 E Sabal Palm Blvd #311           Tamarac           98.0\n",
       "6     71250.0       3511 Inverrary Dr #205        Lauderhill           98.0\n",
       "19    88000.0         8100 SW 24th St #109  North Lauderdale          101.0\n",
       "29    95000.0         4851 NW 21st St #510        Lauderhill          102.0\n",
       "34    96000.0      2606 Nassau Bnd Unit B2     Coconut Creek          102.0\n",
       "103  125000.0   3301 Spanish Moss Ter #302        Lauderhill          102.0\n",
       "42   102000.0         4851 NW 21st St #514        Lauderhill          102.0\n",
       "84   120000.0    3102 Portofino Pt Unit H4     Coconut Creek          103.0\n",
       "82   120000.0       7041 Environ Blvd #127        Lauderhill          105.0\n",
       "59   110000.0         5495 NW 10th Ct #307        Plantation          106.0\n",
       "86   120000.0  6301 N Falls Circle Dr #203        Lauderhill          106.0\n",
       "99   124900.0     2401 Antigua Cir Unit K1     Coconut Creek          108.0\n",
       "120  130000.0   3360 Spanish Moss Ter #410        Lauderhill          108.0\n",
       "117  130000.0   4702 Martinique Dr Unit A2     Coconut Creek          108.0\n",
       "156  140000.0  4940 E Sabal Palm Blvd #101           Tamarac          110.0"
      ]
     },
     "execution_count": 52,
     "metadata": {},
     "output_type": "execute_result"
    }
   ],
   "source": [
    "# Find problem psf by searching for low values\n",
    "df_filtered.sort_values(by='$/SQUARE FEET',ascending=True).head(20)[['PRICE','ADDRESS','CITY','$/SQUARE FEET']]"
   ]
  },
  {
   "cell_type": "code",
   "execution_count": 53,
   "id": "a30838e9",
   "metadata": {},
   "outputs": [
    {
     "name": "stdout",
     "output_type": "stream",
     "text": [
      "https://www.redfin.com/FL/Lauderhill/2271-NW-47th-Ter-33313/unit-214/home/41594768\n"
     ]
    }
   ],
   "source": [
    "print(df_filtered.URL.iloc[4])"
   ]
  },
  {
   "cell_type": "code",
   "execution_count": 79,
   "id": "6895cf71",
   "metadata": {},
   "outputs": [],
   "source": [
    "# # Drop sales that aren't condos but labeled as such\n",
    "# df_filtered = df_filtered.drop(1320)"
   ]
  },
  {
   "cell_type": "markdown",
   "id": "103ad9df",
   "metadata": {},
   "source": [
    "## Make Maps"
   ]
  },
  {
   "cell_type": "code",
   "execution_count": 55,
   "id": "42ad9d63",
   "metadata": {},
   "outputs": [],
   "source": [
    "### Create a price column formatted as currency ###\n",
    "df_filtered['PRICE_AS_CURRENCY'] = df_filtered['PRICE'].apply(lambda x: \"${:,.0f}\".format(x))\n",
    "### Set formatting for Beds, Baths ###\n",
    "df_filtered['YEAR BUILT DISPLAY'] = df_filtered['YEAR BUILT'].apply(lambda x: '{:.0f}'.format(x))\n",
    "df_filtered['PRICE_SQUARE_FEET_AS_CURRENCY'] = df_filtered['$/SQUARE FEET'].apply(lambda x: '${:,.0f}'.format(x))"
   ]
  },
  {
   "cell_type": "code",
   "execution_count": 56,
   "id": "f42ba6b5",
   "metadata": {},
   "outputs": [],
   "source": [
    "df_filtered = df_filtered.sort_values(by=['PRICE'], ascending=False)\n",
    "### Insert different colors for top 10 sales vs. the rest ###\n",
    "df_filtered['COLOR'] = ''\n",
    "### Create RANK column ###\n",
    "df_filtered['RANK'] = 0\n",
    "### Insert RANK values ###\n",
    "df_filtered['RANK'] = range(1, len(df_filtered) + 1)\n",
    "# use numpy to assign values to the 'COLOR' column\n",
    "df_filtered['COLOR'] = np.where(df_filtered['RANK'] <= 10, 'orange', 'blue')"
   ]
  },
  {
   "cell_type": "markdown",
   "id": "99380454",
   "metadata": {},
   "source": [
    "## HTML Popup Formatter"
   ]
  },
  {
   "cell_type": "code",
   "execution_count": 57,
   "id": "6ffa151c",
   "metadata": {},
   "outputs": [],
   "source": [
    "### Define list of columns to drop from DF ###\n",
    "columns_drop = ['SALE TYPE','PROPERTY TYPE','STATE OR PROVINCE','ZIP OR POSTAL CODE','HOA/MONTH','STATUS','NEXT OPEN HOUSE START TIME','NEXT OPEN HOUSE END TIME','SOURCE','MLS#','FAVORITE','INTERESTED','SQUARE FEET','LOT SIZE']"
   ]
  },
  {
   "cell_type": "code",
   "execution_count": 58,
   "id": "b214f9e8",
   "metadata": {},
   "outputs": [],
   "source": [
    "### Drop the columns ###\n",
    "df_filtered = df_filtered.drop(columns=columns_drop)"
   ]
  },
  {
   "cell_type": "code",
   "execution_count": 59,
   "id": "d12c2830",
   "metadata": {},
   "outputs": [],
   "source": [
    "def popup_html(row):\n",
    "    Price = row['PRICE_AS_CURRENCY']\n",
    "    Address = row['ADDRESS']\n",
    "    City = row['CITY']\n",
    "    sold_date = row['SOLD DATE']\n",
    "    beds = row['BEDS']\n",
    "    baths = row['BATHS']\n",
    "    psf = row['PRICE_SQUARE_FEET_AS_CURRENCY']\n",
    "    year_built = row['YEAR BUILT DISPLAY']\n",
    "    rank = row['RANK']\n",
    "    \n",
    "    html = '''<!DOCTYPE html>\n",
    "    <html>\n",
    "    <strong>Price: </strong>{}'''.format(Price) + '''<br>\n",
    "    <strong>Address: </strong>{}'''.format(Address) + '''<br>\n",
    "    <strong>City: </strong>{}'''.format(City) + '''<br>\n",
    "    <strong>Sold: </strong>{}'''.format(sold_date) + '''<br>\n",
    "    <strong>Beds: </strong>{}'''.format(beds) + '''<br>\n",
    "    <strong>Baths: </strong>{}'''.format(baths) + '''<br>\n",
    "    <strong>Price per sf: </strong>{}'''.format(psf) + '''<br>\n",
    "    <strong>Year Built: </strong>{}'''.format(year_built) + '''<br>\n",
    "    <strong>Price Rank: </strong>{}'''.format(rank) + '''\n",
    "    </html>\n",
    "    '''\n",
    "    return html"
   ]
  },
  {
   "cell_type": "code",
   "execution_count": 60,
   "id": "b7fe13d2",
   "metadata": {},
   "outputs": [
    {
     "data": {
      "text/plain": [
       "<folium.map.LayerControl at 0x7fcb22db3dc0>"
      ]
     },
     "execution_count": 60,
     "metadata": {},
     "output_type": "execute_result"
    }
   ],
   "source": [
    "### Create map container ###\n",
    "m = folium.Map(location=df_filtered[[\"LATITUDE\", \"LONGITUDE\"]].mean().to_list(),zoom_start=10,tiles=None)\n",
    "\n",
    "### Create title ###\n",
    "title_html = '''\n",
    "              <h3 align=\"center\" style=\"font-size:16px\"><b>{}</b></h3>\n",
    "             '''.format(f\"May 2023 Condo Sales\")\n",
    "\n",
    "m.get_root().html.add_child(folium.Element(title_html))\n",
    "\n",
    "# Create two FeatureGroups for different color pins\n",
    "fg_blue = folium.FeatureGroup(name='All other sales')\n",
    "fg_orange = folium.FeatureGroup(name='Top 10 Sales')\n",
    "\n",
    "for index, row in df_filtered.iterrows():\n",
    "    # Add the markers to the appropriate FeatureGroup based on the color\n",
    "    if row['COLOR'] == 'blue':\n",
    "        marker = folium.Marker(\n",
    "            location=[row['LATITUDE'], row['LONGITUDE']],\n",
    "            radius=5,\n",
    "            fill=True,\n",
    "            icon=folium.Icon(color=row['COLOR']),\n",
    "            popup=folium.Popup(popup_html(row), max_width=400))\n",
    "        marker.add_to(fg_blue)\n",
    "    else:\n",
    "        marker = folium.Marker(\n",
    "            location=[row['LATITUDE'], row['LONGITUDE']],\n",
    "            radius=5,\n",
    "            fill=True,\n",
    "            icon=folium.Icon(color=row['COLOR']),\n",
    "            popup=folium.Popup(popup_html(row), max_width=400))\n",
    "        marker.add_to(fg_orange)\n",
    "\n",
    "# Add the FeatureGroups to the map\n",
    "fg_orange.add_to(m)\n",
    "fg_blue.add_to(m)\n",
    "\n",
    "folium.TileLayer('OpenStreetMap',control=False).add_to(m)\n",
    "\n",
    "# Add LayerControl to the map\n",
    "folium.map.LayerControl(collapsed=False).add_to(m)\n",
    "\n",
    "# Display map"
   ]
  },
  {
   "cell_type": "code",
   "execution_count": 61,
   "id": "a704af7f",
   "metadata": {},
   "outputs": [],
   "source": [
    "m.save('index.html')"
   ]
  },
  {
   "cell_type": "markdown",
   "id": "81b7dc98",
   "metadata": {},
   "source": [
    "## Summary Info"
   ]
  },
  {
   "cell_type": "code",
   "execution_count": 62,
   "id": "6910bd5b",
   "metadata": {},
   "outputs": [],
   "source": [
    "BR = '\\n'\n",
    "\n",
    "ME = '\\033[1m' + 'Most Expensive' + '\\033[0m'\n",
    "LE = '\\033[1m' + 'Least Expensive' + '\\033[0m'\n",
    "\n",
    "MAX_PSF = '\\033[1m' + 'Highest Price Per Square Foot' + '\\033[0m'\n",
    "MIN_PSF = '\\033[1m' + 'Lowest Price Per Square Foot' + '\\033[0m'\n",
    "\n",
    "Newest = '\\033[1m' + 'Newest' + '\\033[0m'\n",
    "Oldest = '\\033[1m' + 'Oldest' + '\\033[0m'"
   ]
  },
  {
   "cell_type": "code",
   "execution_count": 63,
   "id": "9d2c1b97",
   "metadata": {},
   "outputs": [
    {
     "data": {
      "text/plain": [
       "Index(['SOLD DATE', 'ADDRESS', 'CITY', 'PRICE', 'BEDS', 'BATHS', 'LOCATION',\n",
       "       'YEAR BUILT', 'DAYS ON MARKET', '$/SQUARE FEET', 'URL', 'LATITUDE',\n",
       "       'LONGITUDE', 'PRICE_AS_CURRENCY', 'YEAR BUILT DISPLAY',\n",
       "       'PRICE_SQUARE_FEET_AS_CURRENCY', 'COLOR', 'RANK'],\n",
       "      dtype='object')"
      ]
     },
     "execution_count": 63,
     "metadata": {},
     "output_type": "execute_result"
    }
   ],
   "source": [
    "df_filtered.columns"
   ]
  },
  {
   "cell_type": "code",
   "execution_count": 64,
   "id": "81280824",
   "metadata": {},
   "outputs": [],
   "source": [
    "df_filtered['FULL_ADDRESS'] = df_filtered['ADDRESS'] + ' ' + df_filtered['CITY']"
   ]
  },
  {
   "cell_type": "code",
   "execution_count": 74,
   "id": "4677d727",
   "metadata": {},
   "outputs": [
    {
     "name": "stdout",
     "output_type": "stream",
     "text": [
      "https://www.redfin.com/FL/Hillsboro-Beach/1187-Hillsboro-Mile-33062/unit-12E/home/41516406\n"
     ]
    }
   ],
   "source": [
    "print(df_filtered.loc[df_filtered['YEAR BUILT'].idxmin()]['URL'])"
   ]
  },
  {
   "cell_type": "code",
   "execution_count": 66,
   "id": "39ff9917",
   "metadata": {},
   "outputs": [
    {
     "name": "stdout",
     "output_type": "stream",
     "text": [
      "\u001b[1mMost Expensive\u001b[0m\n",
      "Four Seasons, 525 N Ft Lauderdale Bch Blvd #2102 Fort Lauderdale | Price $13,250,000 | $2,133 psf | Year built: 2022\n",
      "\u001b[1mLeast Expensive\u001b[0m\n",
      "PARK SOUTH TEN INC CONDO, 1280 NW 43rd Ave #204 Lauderhill | Price $70,000 | $96 psf | Year built: 1970\n",
      "\u001b[1mHighest Price Per Square Foot\u001b[0m\n",
      "Four Seasons, 525 N Ft Lauderdale Bch Blvd #2102 Fort Lauderdale | Price $13,250,000 | $2,133 psf | Year built: 2022\n",
      "\u001b[1mLowest Price Per Square Foot\u001b[0m\n",
      "Castle Gardens, 2271 NW 47th Ter #214 Lauderhill | Price $70,000 | $76 psf | Year built: 1972\n",
      "\u001b[1mNewest\u001b[0m\n",
      "Four Seasons, 525 N Ft Lauderdale Bch Blvd #2102 Fort Lauderdale | Price $13,250,000 | $2,133 psf | Year built: 2022\n",
      "\u001b[1mOldest\u001b[0m\n",
      "Virginia Kaye -east, 1187 Hillsboro Mile Unit 12E Hillsboro Beach | Price $500,000 | $980 psf | Year built: 1950\n"
     ]
    }
   ],
   "source": [
    "print(f\"{ME}{BR}{df_filtered.loc[df_filtered['PRICE'].idxmax()]['LOCATION']}, {df_filtered.loc[df_filtered['PRICE'].idxmax()]['FULL_ADDRESS']} | Price ${df_filtered.loc[df_filtered['PRICE'].idxmax()]['PRICE']:,.0f} | ${df_filtered.loc[df_filtered['PRICE'].idxmax()]['$/SQUARE FEET']:,.0f} psf | Year built: {df_filtered.loc[df_filtered['PRICE'].idxmax()]['YEAR BUILT']:.0f}\")\n",
    "print(f\"{LE}{BR}{df_filtered.loc[df_filtered['PRICE'].idxmin()]['LOCATION']}, {df_filtered.loc[df_filtered['PRICE'].idxmin()]['FULL_ADDRESS']} | Price ${df_filtered.loc[df_filtered['PRICE'].idxmin()]['PRICE']:,.0f} | ${df_filtered.loc[df_filtered['PRICE'].idxmin()]['$/SQUARE FEET']:,.0f} psf | Year built: {df_filtered.loc[df_filtered['PRICE'].idxmin()]['YEAR BUILT']:.0f}\")\n",
    "\n",
    "print(f\"{MAX_PSF}{BR}{df_filtered.loc[df_filtered['$/SQUARE FEET'].idxmax()]['LOCATION']}, {df_filtered.loc[df_filtered['$/SQUARE FEET'].idxmax()]['FULL_ADDRESS']} | Price ${df_filtered.loc[df_filtered['$/SQUARE FEET'].idxmax()]['PRICE']:,.0f} | ${df_filtered.loc[df_filtered['$/SQUARE FEET'].idxmax()]['$/SQUARE FEET']:,.0f} psf | Year built: {df_filtered.loc[df_filtered['$/SQUARE FEET'].idxmax()]['YEAR BUILT']:.0f}\")\n",
    "print(f\"{MIN_PSF}{BR}{df_filtered.loc[df_filtered['$/SQUARE FEET'].idxmin()]['LOCATION']}, {df_filtered.loc[df_filtered['$/SQUARE FEET'].idxmin()]['FULL_ADDRESS']} | Price ${df_filtered.loc[df_filtered['$/SQUARE FEET'].idxmin()]['PRICE']:,.0f} | ${df_filtered.loc[df_filtered['$/SQUARE FEET'].idxmin()]['$/SQUARE FEET']:,.0f} psf | Year built: {df_filtered.loc[df_filtered['$/SQUARE FEET'].idxmin()]['YEAR BUILT']:.0f}\")\n",
    "\n",
    "print(f\"{Newest}{BR}{df_filtered.loc[df_filtered['YEAR BUILT'].idxmax()]['LOCATION']}, {df_filtered.loc[df_filtered['YEAR BUILT'].idxmax()]['FULL_ADDRESS']} | Price ${df_filtered.loc[df_filtered['YEAR BUILT'].idxmax()]['PRICE']:,.0f} | ${df_filtered.loc[df_filtered['YEAR BUILT'].idxmax()]['$/SQUARE FEET']:,.0f} psf | Year built: {df_filtered.loc[df_filtered['YEAR BUILT'].idxmax()]['YEAR BUILT']:.0f}\")\n",
    "print(f\"{Oldest}{BR}{df_filtered.loc[df_filtered['YEAR BUILT'].idxmin()]['LOCATION']}, {df_filtered.loc[df_filtered['YEAR BUILT'].idxmin()]['FULL_ADDRESS']} | Price ${df_filtered.loc[df_filtered['YEAR BUILT'].idxmin()]['PRICE']:,.0f} | ${df_filtered.loc[df_filtered['YEAR BUILT'].idxmin()]['$/SQUARE FEET']:,.0f} psf | Year built: {df_filtered.loc[df_filtered['YEAR BUILT'].idxmin()]['YEAR BUILT']:.0f}\")"
   ]
  },
  {
   "cell_type": "markdown",
   "id": "ed99af3b",
   "metadata": {},
   "source": [
    "## Time on Market Calculator"
   ]
  },
  {
   "cell_type": "code",
   "execution_count": 92,
   "id": "06b0be85",
   "metadata": {},
   "outputs": [],
   "source": [
    "# print(df_Current.loc[df_Current['YEAR BUILT'].idxmin()])"
   ]
  },
  {
   "cell_type": "code",
   "execution_count": 76,
   "id": "036b4037",
   "metadata": {},
   "outputs": [
    {
     "name": "stdout",
     "output_type": "stream",
     "text": [
      "429\n"
     ]
    }
   ],
   "source": [
    "from datetime import datetime, timedelta\n",
    "\n",
    "date1 = datetime(2022, 3, 6) ## List (Earlier) date\n",
    "date2 = datetime(2023, 5, 9) ## Close (Later) date\n",
    "\n",
    "delta = date2 - date1\n",
    "num_days = delta.days\n",
    "\n",
    "print(num_days)"
   ]
  },
  {
   "cell_type": "markdown",
   "id": "707dd49b",
   "metadata": {},
   "source": [
    "## Map URL Snagger"
   ]
  },
  {
   "cell_type": "code",
   "execution_count": 67,
   "id": "b60bbb6f",
   "metadata": {},
   "outputs": [],
   "source": [
    "base_name = 'https://trd-digital.github.io/trd-news-interactive-maps/'"
   ]
  },
  {
   "cell_type": "code",
   "execution_count": 69,
   "id": "81e05274",
   "metadata": {},
   "outputs": [
    {
     "name": "stdout",
     "output_type": "stream",
     "text": [
      "https://trd-digital.github.io/trd-news-interactive-maps/Broward_condo_sales_month_ending_may_2023\n"
     ]
    }
   ],
   "source": [
    "cwd = os.getcwd()\n",
    "\n",
    "cwd = cwd.split('/')\n",
    "\n",
    "final_name = base_name + cwd[-1]\n",
    "print(final_name)"
   ]
  },
  {
   "cell_type": "markdown",
   "id": "fe5031c3",
   "metadata": {},
   "source": [
    "## Get Summary Data"
   ]
  },
  {
   "cell_type": "code",
   "execution_count": 70,
   "id": "15cba208",
   "metadata": {},
   "outputs": [
    {
     "name": "stdout",
     "output_type": "stream",
     "text": [
      "SALES INFO\n",
      "Number of sales: 1162\n",
      "--------\n",
      "Total sale price: $413,857,616\n",
      "--------\n",
      "Median sale price: $240,000\n",
      "--------\n",
      "Max sale price: $13,250,000\n",
      "--------\n",
      "Min sale price: $70,000\n",
      "------------------------------------------------\n",
      "PSF INFO\n",
      "Max price per square foot: $2,133\n",
      "--------\n",
      "Min price per square foot: $76\n",
      "--------\n",
      "Median price per square foot: $234\n",
      "------------------------------------------------\n",
      "CONDO AGES\n",
      "Newest building: 2022.0\n",
      "----------\n",
      "Oldest building: 1950.0\n",
      "----------\n",
      "Average building age: 1981.4139414802066\n"
     ]
    }
   ],
   "source": [
    "print('SALES INFO')\n",
    "print(f'Number of sales: {len(df_filtered)}')\n",
    "print('--------')\n",
    "print(f'Total sale price: ${df_filtered[\"PRICE\"].sum():,.0f}')\n",
    "print('--------')\n",
    "print(f'Median sale price: ${df_filtered[\"PRICE\"].median():,.0f}')\n",
    "print('--------')\n",
    "print(f'Max sale price: ${df_filtered[\"PRICE\"].max():,.0f}')\n",
    "print('--------')\n",
    "print(f'Min sale price: ${df_filtered[\"PRICE\"].min():,.0f}')\n",
    "print('------------------------------------------------')\n",
    "print('PSF INFO')\n",
    "print(f'Max price per square foot: ${df_filtered[\"$/SQUARE FEET\"].max():,.0f}')\n",
    "print('--------')\n",
    "print(f'Min price per square foot: ${df_filtered[\"$/SQUARE FEET\"].min():,.0f}')\n",
    "print('--------')\n",
    "print(f'Median price per square foot: ${df_filtered[\"$/SQUARE FEET\"].median():,.0f}')\n",
    "print('------------------------------------------------')\n",
    "print('CONDO AGES')\n",
    "print(f'Newest building: {df_filtered[\"YEAR BUILT\"].max()}')\n",
    "print('----------')\n",
    "print(f'Oldest building: {df_filtered[\"YEAR BUILT\"].min()}')\n",
    "print('----------')\n",
    "print(f'Average building age: {df_filtered[\"YEAR BUILT\"].mean()}')"
   ]
  }
 ],
 "metadata": {
  "kernelspec": {
   "display_name": "Python 3 (ipykernel)",
   "language": "python",
   "name": "python3"
  },
  "language_info": {
   "codemirror_mode": {
    "name": "ipython",
    "version": 3
   },
   "file_extension": ".py",
   "mimetype": "text/x-python",
   "name": "python",
   "nbconvert_exporter": "python",
   "pygments_lexer": "ipython3",
   "version": "3.9.12"
  }
 },
 "nbformat": 4,
 "nbformat_minor": 5
}
