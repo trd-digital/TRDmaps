{
 "cells": [
  {
   "cell_type": "code",
   "execution_count": 1,
   "id": "47c9fe99",
   "metadata": {},
   "outputs": [],
   "source": [
    "import pandas as pd\n",
    "import geopandas as gpd\n",
    "import os"
   ]
  },
  {
   "cell_type": "code",
   "execution_count": 50,
   "id": "c3a85119",
   "metadata": {},
   "outputs": [
    {
     "data": {
      "text/plain": [
       "445.44544544544544"
      ]
     },
     "execution_count": 50,
     "metadata": {},
     "output_type": "execute_result"
    }
   ],
   "source": [
    "445_000.0/999"
   ]
  },
  {
   "cell_type": "code",
   "execution_count": 49,
   "id": "ecc6354e",
   "metadata": {},
   "outputs": [
    {
     "data": {
      "text/html": [
       "<div>\n",
       "<style scoped>\n",
       "    .dataframe tbody tr th:only-of-type {\n",
       "        vertical-align: middle;\n",
       "    }\n",
       "\n",
       "    .dataframe tbody tr th {\n",
       "        vertical-align: top;\n",
       "    }\n",
       "\n",
       "    .dataframe thead th {\n",
       "        text-align: right;\n",
       "    }\n",
       "</style>\n",
       "<table border=\"1\" class=\"dataframe\">\n",
       "  <thead>\n",
       "    <tr style=\"text-align: right;\">\n",
       "      <th></th>\n",
       "      <th>community</th>\n",
       "      <th>area</th>\n",
       "      <th>shape_area</th>\n",
       "      <th>perimeter</th>\n",
       "      <th>area_num_1</th>\n",
       "      <th>area_numbe</th>\n",
       "      <th>comarea_id</th>\n",
       "      <th>comarea</th>\n",
       "      <th>shape_len</th>\n",
       "      <th>Final_Brokerage</th>\n",
       "      <th>count</th>\n",
       "      <th>Price</th>\n",
       "      <th>brokerage_info</th>\n",
       "      <th>geometry</th>\n",
       "    </tr>\n",
       "  </thead>\n",
       "  <tbody>\n",
       "    <tr>\n",
       "      <th>5005</th>\n",
       "      <td>NEAR NORTH SIDE</td>\n",
       "      <td>0</td>\n",
       "      <td>76675895.9728</td>\n",
       "      <td>0</td>\n",
       "      <td>8</td>\n",
       "      <td>8</td>\n",
       "      <td>0</td>\n",
       "      <td>0</td>\n",
       "      <td>57293.1649516</td>\n",
       "      <td>@properties Christie's International Real Estate</td>\n",
       "      <td>999</td>\n",
       "      <td>445000.0</td>\n",
       "      <td>2 Independent Realty LLC (1), 312 Estates LLC ...</td>\n",
       "      <td>MULTIPOLYGON (((-87.62446 41.91157, -87.62459 ...</td>\n",
       "    </tr>\n",
       "  </tbody>\n",
       "</table>\n",
       "</div>"
      ],
      "text/plain": [
       "            community area     shape_area perimeter area_num_1 area_numbe  \\\n",
       "5005  NEAR NORTH SIDE    0  76675895.9728         0          8          8   \n",
       "\n",
       "     comarea_id comarea      shape_len  \\\n",
       "5005          0       0  57293.1649516   \n",
       "\n",
       "                                       Final_Brokerage  count     Price  \\\n",
       "5005  @properties Christie's International Real Estate    999  445000.0   \n",
       "\n",
       "                                         brokerage_info  \\\n",
       "5005  2 Independent Realty LLC (1), 312 Estates LLC ...   \n",
       "\n",
       "                                               geometry  \n",
       "5005  MULTIPOLYGON (((-87.62446 41.91157, -87.62459 ...  "
      ]
     },
     "execution_count": 49,
     "metadata": {},
     "output_type": "execute_result"
    }
   ],
   "source": [
    "gdf[gdf['count'] == gdf['count'].max()]"
   ]
  },
  {
   "cell_type": "code",
   "execution_count": 2,
   "id": "2e4894fd",
   "metadata": {},
   "outputs": [],
   "source": [
    "gdf = gpd.read_file(\"brokerage_community_data.geojson\")"
   ]
  },
  {
   "cell_type": "code",
   "execution_count": 5,
   "id": "b67454f6",
   "metadata": {},
   "outputs": [],
   "source": [
    "gdf_boundaries = gpd.read_file(\"Boundaries - Community Areas (current).geojson\")"
   ]
  },
  {
   "cell_type": "markdown",
   "id": "0f2156b4",
   "metadata": {},
   "source": [
    "Looking for a heat map by total sales volume, not by number of deals (not sure if that is how you did it already or if this would require a change)<br><br>\n",
    "Please get rid of the \"median price\" displayed for each community area and can we instead display \"total sales volume\" for each community area. We would still like to see each area's total number of deals as well<br><br>\n",
    "Where we show the top brokerage in each area and then their sales, it reads a bit confusing. Instead of labeling it \"Top Brokerage\" and \"Number of Brokerage Sales,\" can we instead label them \"Top Brokerage\" and \"Top Brokerage's Sales\" - or \"Top Brokerage Number of Sales\""
   ]
  },
  {
   "cell_type": "code",
   "execution_count": 6,
   "id": "97199ba9",
   "metadata": {},
   "outputs": [],
   "source": [
    "count_sum_gdf = gdf.groupby(\"community\").agg({'count':'sum','Price':'sum'})"
   ]
  },
  {
   "cell_type": "code",
   "execution_count": 19,
   "id": "9bd704fa",
   "metadata": {},
   "outputs": [],
   "source": [
    "count_sum_gdf_merged = pd.merge(left=count_sum_gdf, left_on=\"community\", how=\"inner\", right=gdf_boundaries,\n",
    "                               right_on=\"community\")"
   ]
  },
  {
   "cell_type": "code",
   "execution_count": 21,
   "id": "58557b51",
   "metadata": {},
   "outputs": [
    {
     "data": {
      "text/plain": [
       "Index(['community', 'area', 'shape_area', 'perimeter', 'area_num_1',\n",
       "       'area_numbe', 'comarea_id', 'comarea', 'shape_len', 'geometry'],\n",
       "      dtype='object')"
      ]
     },
     "execution_count": 21,
     "metadata": {},
     "output_type": "execute_result"
    }
   ],
   "source": [
    "gdf_boundaries.columns"
   ]
  },
  {
   "cell_type": "code",
   "execution_count": 23,
   "id": "bdab2edd",
   "metadata": {},
   "outputs": [],
   "source": [
    "count_sum_gdf_merged_final = count_sum_gdf_merged.drop(columns=['area', 'shape_area', 'perimeter', 'area_num_1',\n",
    "       'area_numbe', 'comarea_id', 'comarea', 'shape_len'])"
   ]
  },
  {
   "cell_type": "code",
   "execution_count": 46,
   "id": "aa607f73",
   "metadata": {},
   "outputs": [
    {
     "data": {
      "text/html": [
       "<div>\n",
       "<style scoped>\n",
       "    .dataframe tbody tr th:only-of-type {\n",
       "        vertical-align: middle;\n",
       "    }\n",
       "\n",
       "    .dataframe tbody tr th {\n",
       "        vertical-align: top;\n",
       "    }\n",
       "\n",
       "    .dataframe thead th {\n",
       "        text-align: right;\n",
       "    }\n",
       "</style>\n",
       "<table border=\"1\" class=\"dataframe\">\n",
       "  <thead>\n",
       "    <tr style=\"text-align: right;\">\n",
       "      <th></th>\n",
       "      <th>community</th>\n",
       "      <th>area</th>\n",
       "      <th>shape_area</th>\n",
       "      <th>perimeter</th>\n",
       "      <th>area_num_1</th>\n",
       "      <th>area_numbe</th>\n",
       "      <th>comarea_id</th>\n",
       "      <th>comarea</th>\n",
       "      <th>shape_len</th>\n",
       "      <th>Final_Brokerage</th>\n",
       "      <th>count</th>\n",
       "      <th>Price</th>\n",
       "      <th>brokerage_info</th>\n",
       "      <th>geometry</th>\n",
       "    </tr>\n",
       "  </thead>\n",
       "  <tbody>\n",
       "    <tr>\n",
       "      <th>1213</th>\n",
       "      <td>ALBANY PARK</td>\n",
       "      <td>0</td>\n",
       "      <td>53542230.8191</td>\n",
       "      <td>0</td>\n",
       "      <td>14</td>\n",
       "      <td>14</td>\n",
       "      <td>0</td>\n",
       "      <td>0</td>\n",
       "      <td>39339.0164387</td>\n",
       "      <td>@properties Christie's International Real Estate</td>\n",
       "      <td>100</td>\n",
       "      <td>485000.0</td>\n",
       "      <td>@properties Christie's International Real Esta...</td>\n",
       "      <td>MULTIPOLYGON (((-87.70404 41.97355, -87.70403 ...</td>\n",
       "    </tr>\n",
       "    <tr>\n",
       "      <th>1247</th>\n",
       "      <td>ALBANY PARK</td>\n",
       "      <td>0</td>\n",
       "      <td>53542230.8191</td>\n",
       "      <td>0</td>\n",
       "      <td>14</td>\n",
       "      <td>14</td>\n",
       "      <td>0</td>\n",
       "      <td>0</td>\n",
       "      <td>39339.0164387</td>\n",
       "      <td>Compass</td>\n",
       "      <td>60</td>\n",
       "      <td>477500.0</td>\n",
       "      <td>@properties Christie's International Real Esta...</td>\n",
       "      <td>MULTIPOLYGON (((-87.70404 41.97355, -87.70403 ...</td>\n",
       "    </tr>\n",
       "    <tr>\n",
       "      <th>1256</th>\n",
       "      <td>ALBANY PARK</td>\n",
       "      <td>0</td>\n",
       "      <td>53542230.8191</td>\n",
       "      <td>0</td>\n",
       "      <td>14</td>\n",
       "      <td>14</td>\n",
       "      <td>0</td>\n",
       "      <td>0</td>\n",
       "      <td>39339.0164387</td>\n",
       "      <td>Dream Town Real Estate</td>\n",
       "      <td>54</td>\n",
       "      <td>672500.0</td>\n",
       "      <td>@properties Christie's International Real Esta...</td>\n",
       "      <td>MULTIPOLYGON (((-87.70404 41.97355, -87.70403 ...</td>\n",
       "    </tr>\n",
       "    <tr>\n",
       "      <th>1220</th>\n",
       "      <td>ALBANY PARK</td>\n",
       "      <td>0</td>\n",
       "      <td>53542230.8191</td>\n",
       "      <td>0</td>\n",
       "      <td>14</td>\n",
       "      <td>14</td>\n",
       "      <td>0</td>\n",
       "      <td>0</td>\n",
       "      <td>39339.0164387</td>\n",
       "      <td>Baird &amp; Warner</td>\n",
       "      <td>32</td>\n",
       "      <td>442500.0</td>\n",
       "      <td>@properties Christie's International Real Esta...</td>\n",
       "      <td>MULTIPOLYGON (((-87.70404 41.97355, -87.70403 ...</td>\n",
       "    </tr>\n",
       "    <tr>\n",
       "      <th>1246</th>\n",
       "      <td>ALBANY PARK</td>\n",
       "      <td>0</td>\n",
       "      <td>53542230.8191</td>\n",
       "      <td>0</td>\n",
       "      <td>14</td>\n",
       "      <td>14</td>\n",
       "      <td>0</td>\n",
       "      <td>0</td>\n",
       "      <td>39339.0164387</td>\n",
       "      <td>Coldwell Banker Realty</td>\n",
       "      <td>32</td>\n",
       "      <td>434000.0</td>\n",
       "      <td>@properties Christie's International Real Esta...</td>\n",
       "      <td>MULTIPOLYGON (((-87.70404 41.97355, -87.70403 ...</td>\n",
       "    </tr>\n",
       "    <tr>\n",
       "      <th>...</th>\n",
       "      <td>...</td>\n",
       "      <td>...</td>\n",
       "      <td>...</td>\n",
       "      <td>...</td>\n",
       "      <td>...</td>\n",
       "      <td>...</td>\n",
       "      <td>...</td>\n",
       "      <td>...</td>\n",
       "      <td>...</td>\n",
       "      <td>...</td>\n",
       "      <td>...</td>\n",
       "      <td>...</td>\n",
       "      <td>...</td>\n",
       "      <td>...</td>\n",
       "    </tr>\n",
       "    <tr>\n",
       "      <th>732</th>\n",
       "      <td>WOODLAWN</td>\n",
       "      <td>0</td>\n",
       "      <td>57815179.512</td>\n",
       "      <td>0</td>\n",
       "      <td>42</td>\n",
       "      <td>42</td>\n",
       "      <td>0</td>\n",
       "      <td>0</td>\n",
       "      <td>46936.9592443</td>\n",
       "      <td>Tabs Realty Group LLC</td>\n",
       "      <td>1</td>\n",
       "      <td>594000.0</td>\n",
       "      <td>33 Realty (1), 5th Group Corp (1), @properties...</td>\n",
       "      <td>MULTIPOLYGON (((-87.57714 41.78615, -87.57714 ...</td>\n",
       "    </tr>\n",
       "    <tr>\n",
       "      <th>733</th>\n",
       "      <td>WOODLAWN</td>\n",
       "      <td>0</td>\n",
       "      <td>57815179.512</td>\n",
       "      <td>0</td>\n",
       "      <td>42</td>\n",
       "      <td>42</td>\n",
       "      <td>0</td>\n",
       "      <td>0</td>\n",
       "      <td>46936.9592443</td>\n",
       "      <td>The Margie Smigel Group, LLC</td>\n",
       "      <td>1</td>\n",
       "      <td>305000.0</td>\n",
       "      <td>33 Realty (1), 5th Group Corp (1), @properties...</td>\n",
       "      <td>MULTIPOLYGON (((-87.57714 41.78615, -87.57714 ...</td>\n",
       "    </tr>\n",
       "    <tr>\n",
       "      <th>734</th>\n",
       "      <td>WOODLAWN</td>\n",
       "      <td>0</td>\n",
       "      <td>57815179.512</td>\n",
       "      <td>0</td>\n",
       "      <td>42</td>\n",
       "      <td>42</td>\n",
       "      <td>0</td>\n",
       "      <td>0</td>\n",
       "      <td>46936.9592443</td>\n",
       "      <td>Top Care Realty LLC</td>\n",
       "      <td>1</td>\n",
       "      <td>155000.0</td>\n",
       "      <td>33 Realty (1), 5th Group Corp (1), @properties...</td>\n",
       "      <td>MULTIPOLYGON (((-87.57714 41.78615, -87.57714 ...</td>\n",
       "    </tr>\n",
       "    <tr>\n",
       "      <th>735</th>\n",
       "      <td>WOODLAWN</td>\n",
       "      <td>0</td>\n",
       "      <td>57815179.512</td>\n",
       "      <td>0</td>\n",
       "      <td>42</td>\n",
       "      <td>42</td>\n",
       "      <td>0</td>\n",
       "      <td>0</td>\n",
       "      <td>46936.9592443</td>\n",
       "      <td>Turn-Key Realty, LLC</td>\n",
       "      <td>1</td>\n",
       "      <td>815000.0</td>\n",
       "      <td>33 Realty (1), 5th Group Corp (1), @properties...</td>\n",
       "      <td>MULTIPOLYGON (((-87.57714 41.78615, -87.57714 ...</td>\n",
       "    </tr>\n",
       "    <tr>\n",
       "      <th>737</th>\n",
       "      <td>WOODLAWN</td>\n",
       "      <td>0</td>\n",
       "      <td>57815179.512</td>\n",
       "      <td>0</td>\n",
       "      <td>42</td>\n",
       "      <td>42</td>\n",
       "      <td>0</td>\n",
       "      <td>0</td>\n",
       "      <td>46936.9592443</td>\n",
       "      <td>Worth Clark Realty</td>\n",
       "      <td>1</td>\n",
       "      <td>290000.0</td>\n",
       "      <td>33 Realty (1), 5th Group Corp (1), @properties...</td>\n",
       "      <td>MULTIPOLYGON (((-87.57714 41.78615, -87.57714 ...</td>\n",
       "    </tr>\n",
       "  </tbody>\n",
       "</table>\n",
       "<p>10370 rows × 14 columns</p>\n",
       "</div>"
      ],
      "text/plain": [
       "        community area     shape_area perimeter area_num_1 area_numbe  \\\n",
       "1213  ALBANY PARK    0  53542230.8191         0         14         14   \n",
       "1247  ALBANY PARK    0  53542230.8191         0         14         14   \n",
       "1256  ALBANY PARK    0  53542230.8191         0         14         14   \n",
       "1220  ALBANY PARK    0  53542230.8191         0         14         14   \n",
       "1246  ALBANY PARK    0  53542230.8191         0         14         14   \n",
       "...           ...  ...            ...       ...        ...        ...   \n",
       "732      WOODLAWN    0   57815179.512         0         42         42   \n",
       "733      WOODLAWN    0   57815179.512         0         42         42   \n",
       "734      WOODLAWN    0   57815179.512         0         42         42   \n",
       "735      WOODLAWN    0   57815179.512         0         42         42   \n",
       "737      WOODLAWN    0   57815179.512         0         42         42   \n",
       "\n",
       "     comarea_id comarea      shape_len  \\\n",
       "1213          0       0  39339.0164387   \n",
       "1247          0       0  39339.0164387   \n",
       "1256          0       0  39339.0164387   \n",
       "1220          0       0  39339.0164387   \n",
       "1246          0       0  39339.0164387   \n",
       "...         ...     ...            ...   \n",
       "732           0       0  46936.9592443   \n",
       "733           0       0  46936.9592443   \n",
       "734           0       0  46936.9592443   \n",
       "735           0       0  46936.9592443   \n",
       "737           0       0  46936.9592443   \n",
       "\n",
       "                                       Final_Brokerage  count     Price  \\\n",
       "1213  @properties Christie's International Real Estate    100  485000.0   \n",
       "1247                                           Compass     60  477500.0   \n",
       "1256                            Dream Town Real Estate     54  672500.0   \n",
       "1220                                    Baird & Warner     32  442500.0   \n",
       "1246                            Coldwell Banker Realty     32  434000.0   \n",
       "...                                                ...    ...       ...   \n",
       "732                              Tabs Realty Group LLC      1  594000.0   \n",
       "733                       The Margie Smigel Group, LLC      1  305000.0   \n",
       "734                                Top Care Realty LLC      1  155000.0   \n",
       "735                               Turn-Key Realty, LLC      1  815000.0   \n",
       "737                                 Worth Clark Realty      1  290000.0   \n",
       "\n",
       "                                         brokerage_info  \\\n",
       "1213  @properties Christie's International Real Esta...   \n",
       "1247  @properties Christie's International Real Esta...   \n",
       "1256  @properties Christie's International Real Esta...   \n",
       "1220  @properties Christie's International Real Esta...   \n",
       "1246  @properties Christie's International Real Esta...   \n",
       "...                                                 ...   \n",
       "732   33 Realty (1), 5th Group Corp (1), @properties...   \n",
       "733   33 Realty (1), 5th Group Corp (1), @properties...   \n",
       "734   33 Realty (1), 5th Group Corp (1), @properties...   \n",
       "735   33 Realty (1), 5th Group Corp (1), @properties...   \n",
       "737   33 Realty (1), 5th Group Corp (1), @properties...   \n",
       "\n",
       "                                               geometry  \n",
       "1213  MULTIPOLYGON (((-87.70404 41.97355, -87.70403 ...  \n",
       "1247  MULTIPOLYGON (((-87.70404 41.97355, -87.70403 ...  \n",
       "1256  MULTIPOLYGON (((-87.70404 41.97355, -87.70403 ...  \n",
       "1220  MULTIPOLYGON (((-87.70404 41.97355, -87.70403 ...  \n",
       "1246  MULTIPOLYGON (((-87.70404 41.97355, -87.70403 ...  \n",
       "...                                                 ...  \n",
       "732   MULTIPOLYGON (((-87.57714 41.78615, -87.57714 ...  \n",
       "733   MULTIPOLYGON (((-87.57714 41.78615, -87.57714 ...  \n",
       "734   MULTIPOLYGON (((-87.57714 41.78615, -87.57714 ...  \n",
       "735   MULTIPOLYGON (((-87.57714 41.78615, -87.57714 ...  \n",
       "737   MULTIPOLYGON (((-87.57714 41.78615, -87.57714 ...  \n",
       "\n",
       "[10370 rows x 14 columns]"
      ]
     },
     "execution_count": 46,
     "metadata": {},
     "output_type": "execute_result"
    }
   ],
   "source": [
    "gdf_sorted"
   ]
  },
  {
   "cell_type": "code",
   "execution_count": 10,
   "id": "f6e438a6",
   "metadata": {},
   "outputs": [],
   "source": [
    "gdf_sorted = gdf.sort_values(by=[\"community\",\"count\"], ascending=[True,False])\n",
    "\n",
    "top_brokerages = gdf_sorted.groupby(\"community\").first().reset_index()"
   ]
  },
  {
   "cell_type": "code",
   "execution_count": 14,
   "id": "ba332ef6",
   "metadata": {},
   "outputs": [],
   "source": [
    "top_brokerages_final = top_brokerages[[\"community\",\"Final_Brokerage\",\"count\",\"Price\",\"geometry\"]]"
   ]
  },
  {
   "cell_type": "code",
   "execution_count": 25,
   "id": "5de5dea7",
   "metadata": {},
   "outputs": [],
   "source": [
    "# Check if it's already a GeoDataFrame\n",
    "if not isinstance(count_sum_gdf_merged_final, gpd.GeoDataFrame):\n",
    "    # If it's a DataFrame, convert it to a GeoDataFrame and specify the geometry column\n",
    "    count_sum_gdf_merged_final = gpd.GeoDataFrame(count_sum_gdf_merged_final, geometry='geometry')\n",
    "\n",
    "# Now save it to GeoJSON\n",
    "count_sum_gdf_merged_final.to_file(\"count_sum_gdf.geojson\", driver=\"GeoJSON\")"
   ]
  },
  {
   "cell_type": "code",
   "execution_count": 26,
   "id": "3766dc61",
   "metadata": {},
   "outputs": [],
   "source": [
    "top_brokerages_final.to_file(\"top_brokerages.geojson\",driver=\"GeoJSON\")"
   ]
  },
  {
   "cell_type": "code",
   "execution_count": 28,
   "id": "fbd0100f",
   "metadata": {},
   "outputs": [
    {
     "data": {
      "text/html": [
       "<div>\n",
       "<style scoped>\n",
       "    .dataframe tbody tr th:only-of-type {\n",
       "        vertical-align: middle;\n",
       "    }\n",
       "\n",
       "    .dataframe tbody tr th {\n",
       "        vertical-align: top;\n",
       "    }\n",
       "\n",
       "    .dataframe thead th {\n",
       "        text-align: right;\n",
       "    }\n",
       "</style>\n",
       "<table border=\"1\" class=\"dataframe\">\n",
       "  <thead>\n",
       "    <tr style=\"text-align: right;\">\n",
       "      <th></th>\n",
       "      <th>community</th>\n",
       "      <th>count</th>\n",
       "      <th>Price</th>\n",
       "      <th>geometry</th>\n",
       "    </tr>\n",
       "  </thead>\n",
       "  <tbody>\n",
       "    <tr>\n",
       "      <th>0</th>\n",
       "      <td>ALBANY PARK</td>\n",
       "      <td>620</td>\n",
       "      <td>63971905.0</td>\n",
       "      <td>MULTIPOLYGON (((-87.70404 41.97355, -87.70403 ...</td>\n",
       "    </tr>\n",
       "    <tr>\n",
       "      <th>1</th>\n",
       "      <td>ARCHER HEIGHTS</td>\n",
       "      <td>116</td>\n",
       "      <td>18485050.0</td>\n",
       "      <td>MULTIPOLYGON (((-87.71437 41.82604, -87.71436 ...</td>\n",
       "    </tr>\n",
       "    <tr>\n",
       "      <th>2</th>\n",
       "      <td>ARMOUR SQUARE</td>\n",
       "      <td>90</td>\n",
       "      <td>15671900.0</td>\n",
       "      <td>MULTIPOLYGON (((-87.62917 41.84556, -87.62947 ...</td>\n",
       "    </tr>\n",
       "    <tr>\n",
       "      <th>3</th>\n",
       "      <td>ASHBURN</td>\n",
       "      <td>554</td>\n",
       "      <td>48842681.0</td>\n",
       "      <td>MULTIPOLYGON (((-87.71255 41.75734, -87.71252 ...</td>\n",
       "    </tr>\n",
       "    <tr>\n",
       "      <th>4</th>\n",
       "      <td>AUBURN GRESHAM</td>\n",
       "      <td>581</td>\n",
       "      <td>49005008.0</td>\n",
       "      <td>MULTIPOLYGON (((-87.63990 41.75615, -87.63990 ...</td>\n",
       "    </tr>\n",
       "    <tr>\n",
       "      <th>...</th>\n",
       "      <td>...</td>\n",
       "      <td>...</td>\n",
       "      <td>...</td>\n",
       "      <td>...</td>\n",
       "    </tr>\n",
       "    <tr>\n",
       "      <th>72</th>\n",
       "      <td>WEST LAWN</td>\n",
       "      <td>260</td>\n",
       "      <td>31971632.0</td>\n",
       "      <td>MULTIPOLYGON (((-87.71255 41.75734, -87.71278 ...</td>\n",
       "    </tr>\n",
       "    <tr>\n",
       "      <th>73</th>\n",
       "      <td>WEST PULLMAN</td>\n",
       "      <td>411</td>\n",
       "      <td>32671425.0</td>\n",
       "      <td>MULTIPOLYGON (((-87.61828 41.65911, -87.61829 ...</td>\n",
       "    </tr>\n",
       "    <tr>\n",
       "      <th>74</th>\n",
       "      <td>WEST RIDGE</td>\n",
       "      <td>807</td>\n",
       "      <td>59002067.0</td>\n",
       "      <td>MULTIPOLYGON (((-87.68465 42.01948, -87.68464 ...</td>\n",
       "    </tr>\n",
       "    <tr>\n",
       "      <th>75</th>\n",
       "      <td>WEST TOWN</td>\n",
       "      <td>2808</td>\n",
       "      <td>169075378.5</td>\n",
       "      <td>MULTIPOLYGON (((-87.65686 41.91078, -87.65685 ...</td>\n",
       "    </tr>\n",
       "    <tr>\n",
       "      <th>76</th>\n",
       "      <td>WOODLAWN</td>\n",
       "      <td>333</td>\n",
       "      <td>38168237.5</td>\n",
       "      <td>MULTIPOLYGON (((-87.57714 41.78615, -87.57714 ...</td>\n",
       "    </tr>\n",
       "  </tbody>\n",
       "</table>\n",
       "<p>77 rows × 4 columns</p>\n",
       "</div>"
      ],
      "text/plain": [
       "         community  count        Price  \\\n",
       "0      ALBANY PARK    620   63971905.0   \n",
       "1   ARCHER HEIGHTS    116   18485050.0   \n",
       "2    ARMOUR SQUARE     90   15671900.0   \n",
       "3          ASHBURN    554   48842681.0   \n",
       "4   AUBURN GRESHAM    581   49005008.0   \n",
       "..             ...    ...          ...   \n",
       "72       WEST LAWN    260   31971632.0   \n",
       "73    WEST PULLMAN    411   32671425.0   \n",
       "74      WEST RIDGE    807   59002067.0   \n",
       "75       WEST TOWN   2808  169075378.5   \n",
       "76        WOODLAWN    333   38168237.5   \n",
       "\n",
       "                                             geometry  \n",
       "0   MULTIPOLYGON (((-87.70404 41.97355, -87.70403 ...  \n",
       "1   MULTIPOLYGON (((-87.71437 41.82604, -87.71436 ...  \n",
       "2   MULTIPOLYGON (((-87.62917 41.84556, -87.62947 ...  \n",
       "3   MULTIPOLYGON (((-87.71255 41.75734, -87.71252 ...  \n",
       "4   MULTIPOLYGON (((-87.63990 41.75615, -87.63990 ...  \n",
       "..                                                ...  \n",
       "72  MULTIPOLYGON (((-87.71255 41.75734, -87.71278 ...  \n",
       "73  MULTIPOLYGON (((-87.61828 41.65911, -87.61829 ...  \n",
       "74  MULTIPOLYGON (((-87.68465 42.01948, -87.68464 ...  \n",
       "75  MULTIPOLYGON (((-87.65686 41.91078, -87.65685 ...  \n",
       "76  MULTIPOLYGON (((-87.57714 41.78615, -87.57714 ...  \n",
       "\n",
       "[77 rows x 4 columns]"
      ]
     },
     "execution_count": 28,
     "metadata": {},
     "output_type": "execute_result"
    }
   ],
   "source": [
    "count_sum_gdf_merged_final"
   ]
  },
  {
   "cell_type": "code",
   "execution_count": 29,
   "id": "1984af95",
   "metadata": {},
   "outputs": [],
   "source": [
    "top_brokerages_final = top_brokerages_final.rename(columns={'count':'brokerage_count','Price':'brokerage_price'})\n"
   ]
  },
  {
   "cell_type": "code",
   "execution_count": 31,
   "id": "60cc94b0",
   "metadata": {},
   "outputs": [],
   "source": [
    "final_merged_gdf = pd.merge(left=count_sum_gdf_merged_final, left_on='community', how='inner',\n",
    "                           right=top_brokerages_final, right_on='community')"
   ]
  },
  {
   "cell_type": "code",
   "execution_count": 35,
   "id": "2123f6d0",
   "metadata": {},
   "outputs": [],
   "source": [
    "final_merged_gdf = final_merged_gdf.drop(columns='geometry_x')\n",
    "final_merged_gdf = final_merged_gdf.rename(columns={'geometry_y':'geometry'})"
   ]
  },
  {
   "cell_type": "code",
   "execution_count": 36,
   "id": "6ea762b3",
   "metadata": {},
   "outputs": [],
   "source": [
    "final_merged_gdf.to_file(\"final_merged_gdf.geojson\",driver=\"GeoJSON\")"
   ]
  },
  {
   "cell_type": "code",
   "execution_count": 39,
   "id": "ca75bd6e",
   "metadata": {},
   "outputs": [
    {
     "data": {
      "text/plain": [
       "169075378.5"
      ]
     },
     "execution_count": 39,
     "metadata": {},
     "output_type": "execute_result"
    }
   ],
   "source": [
    "final_merged_gdf['Price'].max()"
   ]
  },
  {
   "cell_type": "code",
   "execution_count": 41,
   "id": "bcfe8de2",
   "metadata": {},
   "outputs": [
    {
     "data": {
      "text/plain": [
       "21134422.3125"
      ]
     },
     "execution_count": 41,
     "metadata": {},
     "output_type": "execute_result"
    }
   ],
   "source": [
    "169075378.5/8"
   ]
  },
  {
   "cell_type": "code",
   "execution_count": 40,
   "id": "feaa07fa",
   "metadata": {},
   "outputs": [
    {
     "data": {
      "text/plain": [
       "640000.0"
      ]
     },
     "execution_count": 40,
     "metadata": {},
     "output_type": "execute_result"
    }
   ],
   "source": [
    "final_merged_gdf['Price'].min()"
   ]
  },
  {
   "cell_type": "code",
   "execution_count": 62,
   "id": "02fe7930",
   "metadata": {},
   "outputs": [
    {
     "data": {
      "text/plain": [
       "Final_Brokerage\n",
       "@properties Christie's International Real Estate    4790\n",
       "Berkshire Hathaway HomeServices Chicago               81\n",
       "Bloom/Sanchez Realty, Inc.                            42\n",
       "Century 21 S.G.R., Inc.                               13\n",
       "Coldwell Banker Realty                               793\n",
       "Compass                                             1169\n",
       "Healy Real Estate                                     35\n",
       "Kale Realty                                            9\n",
       "Keller Williams ONEChicago                             5\n",
       "RE/MAX MI CASA                                       314\n",
       "Realty of Chicago LLC                                 54\n",
       "Name: brokerage_count, dtype: int64"
      ]
     },
     "execution_count": 62,
     "metadata": {},
     "output_type": "execute_result"
    }
   ],
   "source": [
    "final_merged_gdf.groupby('Final_Brokerage')['brokerage_count'].sum()"
   ]
  },
  {
   "cell_type": "code",
   "execution_count": 51,
   "id": "0646cb62",
   "metadata": {},
   "outputs": [
    {
     "data": {
      "text/plain": [
       "4850.0"
      ]
     },
     "execution_count": 51,
     "metadata": {},
     "output_type": "execute_result"
    }
   ],
   "source": [
    "485000.0/100"
   ]
  },
  {
   "cell_type": "code",
   "execution_count": 60,
   "id": "0b2d061e",
   "metadata": {},
   "outputs": [
    {
     "data": {
      "text/plain": [
       "10370"
      ]
     },
     "execution_count": 60,
     "metadata": {},
     "output_type": "execute_result"
    }
   ],
   "source": [
    "len(gdf)"
   ]
  },
  {
   "cell_type": "code",
   "execution_count": 59,
   "id": "ad852263",
   "metadata": {},
   "outputs": [
    {
     "data": {
      "text/plain": [
       "47236"
      ]
     },
     "execution_count": 59,
     "metadata": {},
     "output_type": "execute_result"
    }
   ],
   "source": [
    "gdf['count'].sum()"
   ]
  },
  {
   "cell_type": "code",
   "execution_count": 55,
   "id": "827e6842",
   "metadata": {},
   "outputs": [
    {
     "name": "stdout",
     "output_type": "stream",
     "text": [
      "$3,789,985,326.0\n"
     ]
    }
   ],
   "source": [
    "print(f'${final_merged_gdf[\"Price\"].sum():,}')"
   ]
  },
  {
   "cell_type": "code",
   "execution_count": 43,
   "id": "86a93cf2",
   "metadata": {},
   "outputs": [
    {
     "name": "stdout",
     "output_type": "stream",
     "text": [
      "https://trd-digital.github.io/trd-news-interactive-maps/CookCountyNeighborhoods_FiniteMap_10_30_24\n"
     ]
    }
   ],
   "source": [
    "base_name = 'https://trd-digital.github.io/trd-news-interactive-maps/'\n",
    "\n",
    "cwd = os.getcwd()\n",
    "\n",
    "cwd = cwd.split('/')\n",
    "\n",
    "final_name = base_name + cwd[-1]\n",
    "print(final_name)"
   ]
  }
 ],
 "metadata": {
  "kernelspec": {
   "display_name": "Python 3 (ipykernel)",
   "language": "python",
   "name": "python3"
  },
  "language_info": {
   "codemirror_mode": {
    "name": "ipython",
    "version": 3
   },
   "file_extension": ".py",
   "mimetype": "text/x-python",
   "name": "python",
   "nbconvert_exporter": "python",
   "pygments_lexer": "ipython3",
   "version": "3.9.12"
  }
 },
 "nbformat": 4,
 "nbformat_minor": 5
}
