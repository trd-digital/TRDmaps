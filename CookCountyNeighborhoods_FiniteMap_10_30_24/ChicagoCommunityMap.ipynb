{
 "cells": [
  {
   "cell_type": "code",
   "execution_count": 1,
   "id": "47c9fe99",
   "metadata": {},
   "outputs": [],
   "source": [
    "import pandas as pd\n",
    "import geopandas as gpd"
   ]
  },
  {
   "cell_type": "code",
   "execution_count": 2,
   "id": "2e4894fd",
   "metadata": {},
   "outputs": [],
   "source": [
    "gdf = gpd.read_file(\"brokerage_community_data.geojson\")"
   ]
  },
  {
   "cell_type": "code",
   "execution_count": 5,
   "id": "b67454f6",
   "metadata": {},
   "outputs": [],
   "source": [
    "gdf_boundaries = gpd.read_file(\"Boundaries - Community Areas (current).geojson\")"
   ]
  },
  {
   "cell_type": "markdown",
   "id": "0f2156b4",
   "metadata": {},
   "source": [
    "Looking for a heat map by total sales volume, not by number of deals (not sure if that is how you did it already or if this would require a change)<br><br>\n",
    "Please get rid of the \"median price\" displayed for each community area and can we instead display \"total sales volume\" for each community area. We would still like to see each area's total number of deals as well<br><br>\n",
    "Where we show the top brokerage in each area and then their sales, it reads a bit confusing. Instead of labeling it \"Top Brokerage\" and \"Number of Brokerage Sales,\" can we instead label them \"Top Brokerage\" and \"Top Brokerage's Sales\" - or \"Top Brokerage Number of Sales\""
   ]
  },
  {
   "cell_type": "code",
   "execution_count": 6,
   "id": "97199ba9",
   "metadata": {},
   "outputs": [],
   "source": [
    "count_sum_gdf = gdf.groupby(\"community\").agg({'count':'sum','Price':'sum'})"
   ]
  },
  {
   "cell_type": "code",
   "execution_count": 19,
   "id": "a9a73049",
   "metadata": {},
   "outputs": [],
   "source": [
    "count_sum_gdf_merged = pd.merge(left=count_sum_gdf, left_on=\"community\", how=\"inner\", right=gdf_boundaries,\n",
    "                               right_on=\"community\")"
   ]
  },
  {
   "cell_type": "code",
   "execution_count": 21,
   "id": "444c48c2",
   "metadata": {},
   "outputs": [
    {
     "data": {
      "text/plain": [
       "Index(['community', 'area', 'shape_area', 'perimeter', 'area_num_1',\n",
       "       'area_numbe', 'comarea_id', 'comarea', 'shape_len', 'geometry'],\n",
       "      dtype='object')"
      ]
     },
     "execution_count": 21,
     "metadata": {},
     "output_type": "execute_result"
    }
   ],
   "source": [
    "gdf_boundaries.columns"
   ]
  },
  {
   "cell_type": "code",
   "execution_count": 23,
   "id": "862d2a72",
   "metadata": {},
   "outputs": [],
   "source": [
    "count_sum_gdf_merged_final = count_sum_gdf_merged.drop(columns=['area', 'shape_area', 'perimeter', 'area_num_1',\n",
    "       'area_numbe', 'comarea_id', 'comarea', 'shape_len'])"
   ]
  },
  {
   "cell_type": "code",
   "execution_count": 10,
   "id": "f6e438a6",
   "metadata": {},
   "outputs": [],
   "source": [
    "gdf_sorted = gdf.sort_values(by=[\"community\",\"count\"], ascending=[True,False])\n",
    "\n",
    "top_brokerages = gdf_sorted.groupby(\"community\").first().reset_index()"
   ]
  },
  {
   "cell_type": "code",
   "execution_count": 14,
   "id": "ba332ef6",
   "metadata": {},
   "outputs": [],
   "source": [
    "top_brokerages_final = top_brokerages[[\"community\",\"Final_Brokerage\",\"count\",\"Price\",\"geometry\"]]"
   ]
  },
  {
   "cell_type": "code",
   "execution_count": 25,
   "id": "19ee23c8",
   "metadata": {},
   "outputs": [],
   "source": [
    "# Check if it's already a GeoDataFrame\n",
    "if not isinstance(count_sum_gdf_merged_final, gpd.GeoDataFrame):\n",
    "    # If it's a DataFrame, convert it to a GeoDataFrame and specify the geometry column\n",
    "    count_sum_gdf_merged_final = gpd.GeoDataFrame(count_sum_gdf_merged_final, geometry='geometry')\n",
    "\n",
    "# Now save it to GeoJSON\n",
    "count_sum_gdf_merged_final.to_file(\"count_sum_gdf.geojson\", driver=\"GeoJSON\")"
   ]
  },
  {
   "cell_type": "code",
   "execution_count": 26,
   "id": "335f3b82",
   "metadata": {},
   "outputs": [],
   "source": [
    "top_brokerages_final.to_file(\"top_brokerages.geojson\",driver=\"GeoJSON\")"
   ]
  },
  {
   "cell_type": "code",
   "execution_count": 28,
   "id": "973f331e",
   "metadata": {},
   "outputs": [
    {
     "data": {
      "text/html": [
       "<div>\n",
       "<style scoped>\n",
       "    .dataframe tbody tr th:only-of-type {\n",
       "        vertical-align: middle;\n",
       "    }\n",
       "\n",
       "    .dataframe tbody tr th {\n",
       "        vertical-align: top;\n",
       "    }\n",
       "\n",
       "    .dataframe thead th {\n",
       "        text-align: right;\n",
       "    }\n",
       "</style>\n",
       "<table border=\"1\" class=\"dataframe\">\n",
       "  <thead>\n",
       "    <tr style=\"text-align: right;\">\n",
       "      <th></th>\n",
       "      <th>community</th>\n",
       "      <th>count</th>\n",
       "      <th>Price</th>\n",
       "      <th>geometry</th>\n",
       "    </tr>\n",
       "  </thead>\n",
       "  <tbody>\n",
       "    <tr>\n",
       "      <th>0</th>\n",
       "      <td>ALBANY PARK</td>\n",
       "      <td>620</td>\n",
       "      <td>63971905.0</td>\n",
       "      <td>MULTIPOLYGON (((-87.70404 41.97355, -87.70403 ...</td>\n",
       "    </tr>\n",
       "    <tr>\n",
       "      <th>1</th>\n",
       "      <td>ARCHER HEIGHTS</td>\n",
       "      <td>116</td>\n",
       "      <td>18485050.0</td>\n",
       "      <td>MULTIPOLYGON (((-87.71437 41.82604, -87.71436 ...</td>\n",
       "    </tr>\n",
       "    <tr>\n",
       "      <th>2</th>\n",
       "      <td>ARMOUR SQUARE</td>\n",
       "      <td>90</td>\n",
       "      <td>15671900.0</td>\n",
       "      <td>MULTIPOLYGON (((-87.62917 41.84556, -87.62947 ...</td>\n",
       "    </tr>\n",
       "    <tr>\n",
       "      <th>3</th>\n",
       "      <td>ASHBURN</td>\n",
       "      <td>554</td>\n",
       "      <td>48842681.0</td>\n",
       "      <td>MULTIPOLYGON (((-87.71255 41.75734, -87.71252 ...</td>\n",
       "    </tr>\n",
       "    <tr>\n",
       "      <th>4</th>\n",
       "      <td>AUBURN GRESHAM</td>\n",
       "      <td>581</td>\n",
       "      <td>49005008.0</td>\n",
       "      <td>MULTIPOLYGON (((-87.63990 41.75615, -87.63990 ...</td>\n",
       "    </tr>\n",
       "    <tr>\n",
       "      <th>...</th>\n",
       "      <td>...</td>\n",
       "      <td>...</td>\n",
       "      <td>...</td>\n",
       "      <td>...</td>\n",
       "    </tr>\n",
       "    <tr>\n",
       "      <th>72</th>\n",
       "      <td>WEST LAWN</td>\n",
       "      <td>260</td>\n",
       "      <td>31971632.0</td>\n",
       "      <td>MULTIPOLYGON (((-87.71255 41.75734, -87.71278 ...</td>\n",
       "    </tr>\n",
       "    <tr>\n",
       "      <th>73</th>\n",
       "      <td>WEST PULLMAN</td>\n",
       "      <td>411</td>\n",
       "      <td>32671425.0</td>\n",
       "      <td>MULTIPOLYGON (((-87.61828 41.65911, -87.61829 ...</td>\n",
       "    </tr>\n",
       "    <tr>\n",
       "      <th>74</th>\n",
       "      <td>WEST RIDGE</td>\n",
       "      <td>807</td>\n",
       "      <td>59002067.0</td>\n",
       "      <td>MULTIPOLYGON (((-87.68465 42.01948, -87.68464 ...</td>\n",
       "    </tr>\n",
       "    <tr>\n",
       "      <th>75</th>\n",
       "      <td>WEST TOWN</td>\n",
       "      <td>2808</td>\n",
       "      <td>169075378.5</td>\n",
       "      <td>MULTIPOLYGON (((-87.65686 41.91078, -87.65685 ...</td>\n",
       "    </tr>\n",
       "    <tr>\n",
       "      <th>76</th>\n",
       "      <td>WOODLAWN</td>\n",
       "      <td>333</td>\n",
       "      <td>38168237.5</td>\n",
       "      <td>MULTIPOLYGON (((-87.57714 41.78615, -87.57714 ...</td>\n",
       "    </tr>\n",
       "  </tbody>\n",
       "</table>\n",
       "<p>77 rows × 4 columns</p>\n",
       "</div>"
      ],
      "text/plain": [
       "         community  count        Price  \\\n",
       "0      ALBANY PARK    620   63971905.0   \n",
       "1   ARCHER HEIGHTS    116   18485050.0   \n",
       "2    ARMOUR SQUARE     90   15671900.0   \n",
       "3          ASHBURN    554   48842681.0   \n",
       "4   AUBURN GRESHAM    581   49005008.0   \n",
       "..             ...    ...          ...   \n",
       "72       WEST LAWN    260   31971632.0   \n",
       "73    WEST PULLMAN    411   32671425.0   \n",
       "74      WEST RIDGE    807   59002067.0   \n",
       "75       WEST TOWN   2808  169075378.5   \n",
       "76        WOODLAWN    333   38168237.5   \n",
       "\n",
       "                                             geometry  \n",
       "0   MULTIPOLYGON (((-87.70404 41.97355, -87.70403 ...  \n",
       "1   MULTIPOLYGON (((-87.71437 41.82604, -87.71436 ...  \n",
       "2   MULTIPOLYGON (((-87.62917 41.84556, -87.62947 ...  \n",
       "3   MULTIPOLYGON (((-87.71255 41.75734, -87.71252 ...  \n",
       "4   MULTIPOLYGON (((-87.63990 41.75615, -87.63990 ...  \n",
       "..                                                ...  \n",
       "72  MULTIPOLYGON (((-87.71255 41.75734, -87.71278 ...  \n",
       "73  MULTIPOLYGON (((-87.61828 41.65911, -87.61829 ...  \n",
       "74  MULTIPOLYGON (((-87.68465 42.01948, -87.68464 ...  \n",
       "75  MULTIPOLYGON (((-87.65686 41.91078, -87.65685 ...  \n",
       "76  MULTIPOLYGON (((-87.57714 41.78615, -87.57714 ...  \n",
       "\n",
       "[77 rows x 4 columns]"
      ]
     },
     "execution_count": 28,
     "metadata": {},
     "output_type": "execute_result"
    }
   ],
   "source": [
    "count_sum_gdf_merged_final"
   ]
  },
  {
   "cell_type": "code",
   "execution_count": 29,
   "id": "029cef5e",
   "metadata": {},
   "outputs": [],
   "source": [
    "top_brokerages_final = top_brokerages_final.rename(columns={'count':'brokerage_count','Price':'brokerage_price'})\n"
   ]
  },
  {
   "cell_type": "code",
   "execution_count": 31,
   "id": "1cfd74c0",
   "metadata": {},
   "outputs": [],
   "source": [
    "final_merged_gdf = pd.merge(left=count_sum_gdf_merged_final, left_on='community', how='inner',\n",
    "                           right=top_brokerages_final, right_on='community')"
   ]
  },
  {
   "cell_type": "code",
   "execution_count": 35,
   "id": "7d60b98e",
   "metadata": {},
   "outputs": [],
   "source": [
    "final_merged_gdf = final_merged_gdf.drop(columns='geometry_x')\n",
    "final_merged_gdf = final_merged_gdf.rename(columns={'geometry_y':'geometry'})"
   ]
  },
  {
   "cell_type": "code",
   "execution_count": 36,
   "id": "4ebc252e",
   "metadata": {},
   "outputs": [],
   "source": [
    "final_merged_gdf.to_file(\"final_merged_gdf.geojson\",driver=\"GeoJSON\")"
   ]
  },
  {
   "cell_type": "code",
   "execution_count": 39,
   "id": "9f1fa87f",
   "metadata": {},
   "outputs": [
    {
     "data": {
      "text/plain": [
       "169075378.5"
      ]
     },
     "execution_count": 39,
     "metadata": {},
     "output_type": "execute_result"
    }
   ],
   "source": [
    "final_merged_gdf['Price'].max()"
   ]
  },
  {
   "cell_type": "code",
   "execution_count": 41,
   "id": "1b2fb2e3",
   "metadata": {},
   "outputs": [
    {
     "data": {
      "text/plain": [
       "21134422.3125"
      ]
     },
     "execution_count": 41,
     "metadata": {},
     "output_type": "execute_result"
    }
   ],
   "source": [
    "169075378.5/8"
   ]
  },
  {
   "cell_type": "code",
   "execution_count": 40,
   "id": "d1841e54",
   "metadata": {},
   "outputs": [
    {
     "data": {
      "text/plain": [
       "640000.0"
      ]
     },
     "execution_count": 40,
     "metadata": {},
     "output_type": "execute_result"
    }
   ],
   "source": [
    "final_merged_gdf['Price'].min()"
   ]
  }
 ],
 "metadata": {
  "kernelspec": {
   "display_name": "Python 3 (ipykernel)",
   "language": "python",
   "name": "python3"
  },
  "language_info": {
   "codemirror_mode": {
    "name": "ipython",
    "version": 3
   },
   "file_extension": ".py",
   "mimetype": "text/x-python",
   "name": "python",
   "nbconvert_exporter": "python",
   "pygments_lexer": "ipython3",
   "version": "3.9.12"
  }
 },
 "nbformat": 4,
 "nbformat_minor": 5
}
