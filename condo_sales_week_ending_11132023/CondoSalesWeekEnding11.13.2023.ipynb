{
 "cells": [
  {
   "cell_type": "markdown",
   "metadata": {},
   "source": [
    "## Imports"
   ]
  },
  {
   "cell_type": "code",
   "execution_count": 1,
   "metadata": {},
   "outputs": [],
   "source": [
    "import googlemaps\n",
    "import pandas as pd\n",
    "import numpy as np\n",
    "import re\n",
    "import os\n",
    "import geopandas as gpd\n",
    "import folium\n",
    "import tabula"
   ]
  },
  {
   "cell_type": "markdown",
   "metadata": {},
   "source": [
    "## Read-in"
   ]
  },
  {
   "cell_type": "code",
   "execution_count": 2,
   "metadata": {},
   "outputs": [],
   "source": [
    "# Gotta figure out how to get rid of the java error.\n",
    "# SO: https://stackoverflow.com/questions/54817211/java-command-is-not-found-from-this-python-process-please-ensure-java-is-inst\n",
    "\n",
    "dsf = tabula.read_pdf('condo.pdf', pages='all')"
   ]
  },
  {
   "cell_type": "markdown",
   "metadata": {},
   "source": [
    "## Clean Data"
   ]
  },
  {
   "cell_type": "code",
   "execution_count": 3,
   "metadata": {},
   "outputs": [],
   "source": [
    "df = dsf[0]\n",
    "df.columns = df.iloc[0]\n",
    "df = df[1:]\n",
    "df = df.drop(columns=df.columns[0])\n",
    "df = df.replace(np.nan, 'Not Available', regex=True)\n",
    "df = df.rename(columns={'Building / Address / City': 'building_address_city','Days on\\rMarket':'days_on_market',\\\n",
    "                        'Price /\\rSq. Ft.':'price_per_sqft'})\n",
    "df['building_address_city'] = df['building_address_city'].str.replace('^0', '', regex=True)\n",
    "df['geo_address'] = df['building_address_city']\n",
    "df['geo_address'] = df['geo_address'].map(lambda x: re.sub(r'\\r', ' ', x))\n",
    "df = df.replace('\\n',' ',regex=True)\n",
    "pattern = r'^(?P<building_name>[\\d\\s]*[A-Za-z\\s]+)\\s(?P<address>.+)\\s(?P<city>[A-Za-z\\s]+)$'\n",
    "df2 = df['geo_address']\n",
    "df2 = df2.to_frame()\n",
    "df2[['building_name', 'address', 'city']] = df2['geo_address'].str.extract(pattern, expand=True)"
   ]
  },
  {
   "cell_type": "markdown",
   "metadata": {},
   "source": [
    "Review this later (it's about how to properly merge DFs): https://pandas.pydata.org/pandas-docs/stable/user_guide/merging.html"
   ]
  },
  {
   "cell_type": "markdown",
   "metadata": {},
   "source": [
    "## Geocode"
   ]
  },
  {
   "cell_type": "code",
   "execution_count": 4,
   "metadata": {},
   "outputs": [],
   "source": [
    "result = pd.merge(df,df2,left_index=True, right_index=True)\n",
    "df = result\n",
    "df = df.drop(columns='city')"
   ]
  },
  {
   "cell_type": "code",
   "execution_count": 5,
   "metadata": {},
   "outputs": [],
   "source": [
    "%store -r google_maps_API_Key\n",
    "gmaps_key = googlemaps.Client(key=google_maps_API_Key)"
   ]
  },
  {
   "cell_type": "code",
   "execution_count": 6,
   "metadata": {},
   "outputs": [],
   "source": [
    "def geocode(add):\n",
    "    g = gmaps_key.geocode(add)\n",
    "    lat = g[0][\"geometry\"][\"location\"][\"lat\"]\n",
    "    lng = g[0][\"geometry\"][\"location\"][\"lng\"]\n",
    "    return (lat, lng)\n",
    "\n",
    "df['geocoded'] = df['geo_address_x'].apply(geocode)"
   ]
  },
  {
   "cell_type": "code",
   "execution_count": 7,
   "metadata": {},
   "outputs": [],
   "source": [
    "df['geocoded'] = df['geocoded'].astype(str)\n",
    "df[['lat', 'lon']] = df['geocoded'].str.strip('()').str.split(', ', expand=True)\n",
    "df['lat'] = df['lat'].astype(float)\n",
    "df['lon'] = df['lon'].astype(float)"
   ]
  },
  {
   "cell_type": "markdown",
   "metadata": {},
   "source": [
    "Folium documentation link: https://python-visualization.github.io/folium/index.html\n",
    "\n",
    "Folium is the library that lets us use leaflet with Python, since it's meant to be used with JavaScript.\n",
    "\n",
    "For adding titles: https://stackoverflow.com/questions/61928013/adding-a-title-or-text-to-a-folium-map"
   ]
  },
  {
   "cell_type": "markdown",
   "metadata": {},
   "source": [
    "## Correction section"
   ]
  },
  {
   "cell_type": "code",
   "execution_count": 8,
   "metadata": {},
   "outputs": [],
   "source": [
    "# df.at[index#,'col_name']"
   ]
  },
  {
   "cell_type": "markdown",
   "metadata": {},
   "source": [
    "## Format Data"
   ]
  },
  {
   "cell_type": "code",
   "execution_count": 9,
   "metadata": {},
   "outputs": [],
   "source": [
    "### Insert NaNs if needed ###\n",
    "df = df.replace('N/A', np.nan)"
   ]
  },
  {
   "cell_type": "code",
   "execution_count": 10,
   "metadata": {},
   "outputs": [],
   "source": [
    "df['int_Sale_Price'] = df['Sale Price'].str.replace('$','',regex=False)"
   ]
  },
  {
   "cell_type": "code",
   "execution_count": 11,
   "metadata": {},
   "outputs": [],
   "source": [
    "df['int_Sale_Price'] = df['int_Sale_Price'].str.replace(',','',regex=False)"
   ]
  },
  {
   "cell_type": "code",
   "execution_count": 12,
   "metadata": {},
   "outputs": [],
   "source": [
    "df['int_Sale_Price'] = pd.to_numeric(df['int_Sale_Price'])"
   ]
  },
  {
   "cell_type": "code",
   "execution_count": 13,
   "metadata": {},
   "outputs": [],
   "source": [
    "df['price_per_sqft'] = df['price_per_sqft'].str.replace('$','',regex=False)\n",
    "df['price_per_sqft'] = df['price_per_sqft'].str.replace(',','',regex=False)\n",
    "df['price_per_sqft'] = pd.to_numeric(df['price_per_sqft'])\n",
    "\n",
    "df['days_on_market'] = pd.to_numeric(df['days_on_market'])"
   ]
  },
  {
   "cell_type": "markdown",
   "metadata": {},
   "source": [
    "## Color-code top sale"
   ]
  },
  {
   "cell_type": "code",
   "execution_count": 14,
   "metadata": {},
   "outputs": [],
   "source": [
    "### Insert RANK values ###\n",
    "df['RANK'] = range(1, len(df) + 1)\n",
    "# use numpy to assign values to the 'COLOR' column\n",
    "df['COLOR'] = np.where(df['RANK'] <= 1, 'orange', 'blue')"
   ]
  },
  {
   "cell_type": "markdown",
   "metadata": {},
   "source": [
    "## HTML Popup Formatter"
   ]
  },
  {
   "cell_type": "code",
   "execution_count": 15,
   "metadata": {},
   "outputs": [
    {
     "data": {
      "text/plain": [
       "Index(['building_address_city', 'Close Date', 'days_on_market', 'Sale Price',\n",
       "       'Sq. Ft.', 'price_per_sqft', 'Agent', 'Listing Broker', 'Buyer Agent',\n",
       "       'Buyer Broker', 'geo_address_x', 'geo_address_y', 'building_name',\n",
       "       'address', 'geocoded', 'lat', 'lon', 'int_Sale_Price', 'RANK', 'COLOR'],\n",
       "      dtype='object')"
      ]
     },
     "execution_count": 15,
     "metadata": {},
     "output_type": "execute_result"
    }
   ],
   "source": [
    "df.columns"
   ]
  },
  {
   "cell_type": "code",
   "execution_count": 16,
   "metadata": {},
   "outputs": [],
   "source": [
    "def popup_html(row):\n",
    "    building_name = row['building_name']\n",
    "    price = row['Sale Price']\n",
    "    days_on_market = row['days_on_market']\n",
    "    listing_agent = row['Agent']\n",
    "    buyers_agent = row['Buyer Agent']\n",
    "    psf = row['price_per_sqft']\n",
    "    address = row['address']\n",
    "    \n",
    "    html = '''<!DOCTYPE html>\n",
    "    <html>\n",
    "    <strong>Building Name: </strong>{}'''.format(building_name) + '''<br>\n",
    "    <strong>Sale Price: </strong>{}'''.format(price) + '''<br>\n",
    "    <strong>Days on Market: </strong>{}'''.format(days_on_market) + '''<br>\n",
    "    <strong>Listing Agent: </strong>{}'''.format(listing_agent) + '''<br>\n",
    "    <strong>Buyer's Agent: </strong>{}'''.format(buyers_agent) + '''<br>\n",
    "    <strong>Price sq ft: </strong>${}'''.format(psf) + '''<br>\n",
    "    <strong>Address: </strong>{}'''.format(address) + '''<br>\n",
    "    </html>\n",
    "    '''\n",
    "    return html"
   ]
  },
  {
   "cell_type": "code",
   "execution_count": 17,
   "metadata": {},
   "outputs": [
    {
     "data": {
      "text/html": [
       "<div style=\"width:100%;\"><div style=\"position:relative;width:100%;height:0;padding-bottom:60%;\"><span style=\"color:#565656\">Make this Notebook Trusted to load map: File -> Trust Notebook</span><iframe srcdoc=\"&lt;!DOCTYPE html&gt;\n",
       "&lt;head&gt;    \n",
       "    &lt;meta http-equiv=&quot;content-type&quot; content=&quot;text/html; charset=UTF-8&quot; /&gt;\n",
       "    \n",
       "        &lt;script&gt;\n",
       "            L_NO_TOUCH = false;\n",
       "            L_DISABLE_3D = false;\n",
       "        &lt;/script&gt;\n",
       "    \n",
       "    &lt;style&gt;html, body {width: 100%;height: 100%;margin: 0;padding: 0;}&lt;/style&gt;\n",
       "    &lt;style&gt;#map {position:absolute;top:0;bottom:0;right:0;left:0;}&lt;/style&gt;\n",
       "    &lt;script src=&quot;https://cdn.jsdelivr.net/npm/leaflet@1.6.0/dist/leaflet.js&quot;&gt;&lt;/script&gt;\n",
       "    &lt;script src=&quot;https://code.jquery.com/jquery-1.12.4.min.js&quot;&gt;&lt;/script&gt;\n",
       "    &lt;script src=&quot;https://maxcdn.bootstrapcdn.com/bootstrap/3.2.0/js/bootstrap.min.js&quot;&gt;&lt;/script&gt;\n",
       "    &lt;script src=&quot;https://cdnjs.cloudflare.com/ajax/libs/Leaflet.awesome-markers/2.0.2/leaflet.awesome-markers.js&quot;&gt;&lt;/script&gt;\n",
       "    &lt;link rel=&quot;stylesheet&quot; href=&quot;https://cdn.jsdelivr.net/npm/leaflet@1.6.0/dist/leaflet.css&quot;/&gt;\n",
       "    &lt;link rel=&quot;stylesheet&quot; href=&quot;https://maxcdn.bootstrapcdn.com/bootstrap/3.2.0/css/bootstrap.min.css&quot;/&gt;\n",
       "    &lt;link rel=&quot;stylesheet&quot; href=&quot;https://maxcdn.bootstrapcdn.com/bootstrap/3.2.0/css/bootstrap-theme.min.css&quot;/&gt;\n",
       "    &lt;link rel=&quot;stylesheet&quot; href=&quot;https://maxcdn.bootstrapcdn.com/font-awesome/4.6.3/css/font-awesome.min.css&quot;/&gt;\n",
       "    &lt;link rel=&quot;stylesheet&quot; href=&quot;https://cdnjs.cloudflare.com/ajax/libs/Leaflet.awesome-markers/2.0.2/leaflet.awesome-markers.css&quot;/&gt;\n",
       "    &lt;link rel=&quot;stylesheet&quot; href=&quot;https://cdn.jsdelivr.net/gh/python-visualization/folium/folium/templates/leaflet.awesome.rotate.min.css&quot;/&gt;\n",
       "    \n",
       "            &lt;meta name=&quot;viewport&quot; content=&quot;width=device-width,\n",
       "                initial-scale=1.0, maximum-scale=1.0, user-scalable=no&quot; /&gt;\n",
       "            &lt;style&gt;\n",
       "                #map_c1fc255e9a6e9f6b108a5f05184e1e28 {\n",
       "                    position: relative;\n",
       "                    width: 100.0%;\n",
       "                    height: 100.0%;\n",
       "                    left: 0.0%;\n",
       "                    top: 0.0%;\n",
       "                }\n",
       "            &lt;/style&gt;\n",
       "        \n",
       "&lt;/head&gt;\n",
       "&lt;body&gt;    \n",
       "    \n",
       "              &lt;h3 align=&quot;center&quot; style=&quot;font-size:16px&quot;&gt;&lt;b&gt;Recent Miami-Dade Condo Sales &lt;/b&gt;&lt;/h3&gt;\n",
       "             \n",
       "    \n",
       "                &lt;p align=&quot;center&quot; style=&quot;vertical-align: bottom; font-size:13px&quot;&gt;&lt;i&gt;October 29th - November 4th&lt;/i&gt;&lt;/p&gt;\n",
       "                \n",
       "    \n",
       "            &lt;div class=&quot;folium-map&quot; id=&quot;map_c1fc255e9a6e9f6b108a5f05184e1e28&quot; &gt;&lt;/div&gt;\n",
       "        \n",
       "&lt;/body&gt;\n",
       "&lt;script&gt;    \n",
       "    \n",
       "            var map_c1fc255e9a6e9f6b108a5f05184e1e28 = L.map(\n",
       "                &quot;map_c1fc255e9a6e9f6b108a5f05184e1e28&quot;,\n",
       "                {\n",
       "                    center: [25.79615406, -80.17481398999999],\n",
       "                    crs: L.CRS.EPSG3857,\n",
       "                    zoom: 9.5,\n",
       "                    zoomControl: true,\n",
       "                    preferCanvas: false,\n",
       "                }\n",
       "            );\n",
       "\n",
       "            \n",
       "\n",
       "        \n",
       "    \n",
       "            var feature_group_6f6cca298684b7722acf1169f595e991 = L.featureGroup(\n",
       "                {}\n",
       "            ).addTo(map_c1fc255e9a6e9f6b108a5f05184e1e28);\n",
       "        \n",
       "    \n",
       "            var marker_24cf6e1670b2ce5924b68efd7130a5f2 = L.marker(\n",
       "                [25.7284731, -80.2381924],\n",
       "                {&quot;fill&quot;: true, &quot;radius&quot;: 5}\n",
       "            ).addTo(feature_group_6f6cca298684b7722acf1169f595e991);\n",
       "        \n",
       "    \n",
       "            var icon_65cbd79c5a9a7ef0e425ed1155c229d6 = L.AwesomeMarkers.icon(\n",
       "                {&quot;extraClasses&quot;: &quot;fa-rotate-0&quot;, &quot;icon&quot;: &quot;info-sign&quot;, &quot;iconColor&quot;: &quot;white&quot;, &quot;markerColor&quot;: &quot;orange&quot;, &quot;prefix&quot;: &quot;glyphicon&quot;}\n",
       "            );\n",
       "            marker_24cf6e1670b2ce5924b68efd7130a5f2.setIcon(icon_65cbd79c5a9a7ef0e425ed1155c229d6);\n",
       "        \n",
       "    \n",
       "        var popup_8cfecfbdbba923bbb7d37cd7dd0e6e36 = L.popup({&quot;maxWidth&quot;: 400});\n",
       "\n",
       "        \n",
       "            \n",
       "                var html_a57ded2efde5f8a2ccdbc8018b3bbc3e = $(`&lt;div id=&quot;html_a57ded2efde5f8a2ccdbc8018b3bbc3e&quot; style=&quot;width: 100.0%; height: 100.0%;&quot;&gt;&lt;!DOCTYPE html&gt;     &lt;html&gt;     &lt;strong&gt;Building Name: &lt;/strong&gt;One Park Grove Condo&lt;br&gt;     &lt;strong&gt;Sale Price: &lt;/strong&gt;$8,500,000.00&lt;br&gt;     &lt;strong&gt;Days on Market: &lt;/strong&gt;30&lt;br&gt;     &lt;strong&gt;Listing Agent: &lt;/strong&gt;David Siddons&lt;br&gt;     &lt;strong&gt;Buyer&#x27;s Agent: &lt;/strong&gt;Pietro Belmonte&lt;br&gt;     &lt;strong&gt;Price sq ft: &lt;/strong&gt;$2617.8&lt;br&gt;     &lt;strong&gt;Address: &lt;/strong&gt;2811 S Bayshore Dr 7A&lt;br&gt;     &lt;/html&gt;     &lt;/div&gt;`)[0];\n",
       "                popup_8cfecfbdbba923bbb7d37cd7dd0e6e36.setContent(html_a57ded2efde5f8a2ccdbc8018b3bbc3e);\n",
       "            \n",
       "        \n",
       "\n",
       "        marker_24cf6e1670b2ce5924b68efd7130a5f2.bindPopup(popup_8cfecfbdbba923bbb7d37cd7dd0e6e36)\n",
       "        ;\n",
       "\n",
       "        \n",
       "    \n",
       "    \n",
       "            var feature_group_1bac54fb6382f21bf609d71cec9b8a35 = L.featureGroup(\n",
       "                {}\n",
       "            ).addTo(map_c1fc255e9a6e9f6b108a5f05184e1e28);\n",
       "        \n",
       "    \n",
       "            var marker_5ac4fc7c5ddf0fa62195dd4908b3f742 = L.marker(\n",
       "                [25.9537166, -80.1196968],\n",
       "                {&quot;fill&quot;: true, &quot;radius&quot;: 5}\n",
       "            ).addTo(feature_group_1bac54fb6382f21bf609d71cec9b8a35);\n",
       "        \n",
       "    \n",
       "            var icon_d98279c01d17004b2c0b248c5325387b = L.AwesomeMarkers.icon(\n",
       "                {&quot;extraClasses&quot;: &quot;fa-rotate-0&quot;, &quot;icon&quot;: &quot;info-sign&quot;, &quot;iconColor&quot;: &quot;white&quot;, &quot;markerColor&quot;: &quot;blue&quot;, &quot;prefix&quot;: &quot;glyphicon&quot;}\n",
       "            );\n",
       "            marker_5ac4fc7c5ddf0fa62195dd4908b3f742.setIcon(icon_d98279c01d17004b2c0b248c5325387b);\n",
       "        \n",
       "    \n",
       "        var popup_220d8d89135cfb462ba109c775f64c57 = L.popup({&quot;maxWidth&quot;: 400});\n",
       "\n",
       "        \n",
       "            \n",
       "                var html_837ccec35149d260991809b766b89967 = $(`&lt;div id=&quot;html_837ccec35149d260991809b766b89967&quot; style=&quot;width: 100.0%; height: 100.0%;&quot;&gt;&lt;!DOCTYPE html&gt;     &lt;html&gt;     &lt;strong&gt;Building Name: &lt;/strong&gt;Ocean Two&lt;br&gt;     &lt;strong&gt;Sale Price: &lt;/strong&gt;$2,250,000.00&lt;br&gt;     &lt;strong&gt;Days on Market: &lt;/strong&gt;106&lt;br&gt;     &lt;strong&gt;Listing Agent: &lt;/strong&gt;Amanda McLaughlin&lt;br&gt;     &lt;strong&gt;Buyer&#x27;s Agent: &lt;/strong&gt;Amanda McLaughlin&lt;br&gt;     &lt;strong&gt;Price sq ft: &lt;/strong&gt;$844.28&lt;br&gt;     &lt;strong&gt;Address: &lt;/strong&gt;19111 Collins Ave 2001 Sunny Isles&lt;br&gt;     &lt;/html&gt;     &lt;/div&gt;`)[0];\n",
       "                popup_220d8d89135cfb462ba109c775f64c57.setContent(html_837ccec35149d260991809b766b89967);\n",
       "            \n",
       "        \n",
       "\n",
       "        marker_5ac4fc7c5ddf0fa62195dd4908b3f742.bindPopup(popup_220d8d89135cfb462ba109c775f64c57)\n",
       "        ;\n",
       "\n",
       "        \n",
       "    \n",
       "    \n",
       "            var marker_acc095395b3924bf5c0cc5a74c537a8a = L.marker(\n",
       "                [25.6857044, -80.15754919999999],\n",
       "                {&quot;fill&quot;: true, &quot;radius&quot;: 5}\n",
       "            ).addTo(feature_group_1bac54fb6382f21bf609d71cec9b8a35);\n",
       "        \n",
       "    \n",
       "            var icon_b36b58413898aac765a5278fe83176d4 = L.AwesomeMarkers.icon(\n",
       "                {&quot;extraClasses&quot;: &quot;fa-rotate-0&quot;, &quot;icon&quot;: &quot;info-sign&quot;, &quot;iconColor&quot;: &quot;white&quot;, &quot;markerColor&quot;: &quot;blue&quot;, &quot;prefix&quot;: &quot;glyphicon&quot;}\n",
       "            );\n",
       "            marker_acc095395b3924bf5c0cc5a74c537a8a.setIcon(icon_b36b58413898aac765a5278fe83176d4);\n",
       "        \n",
       "    \n",
       "        var popup_eff1d451fe6a8941ec47576ba4b94713 = L.popup({&quot;maxWidth&quot;: 400});\n",
       "\n",
       "        \n",
       "            \n",
       "                var html_0e64b2f07dc4dcbadd413387f29faea5 = $(`&lt;div id=&quot;html_0e64b2f07dc4dcbadd413387f29faea5&quot; style=&quot;width: 100.0%; height: 100.0%;&quot;&gt;&lt;!DOCTYPE html&gt;     &lt;html&gt;     &lt;strong&gt;Building Name: &lt;/strong&gt;Casa Del Mar&lt;br&gt;     &lt;strong&gt;Sale Price: &lt;/strong&gt;$2,250,000.00&lt;br&gt;     &lt;strong&gt;Days on Market: &lt;/strong&gt;95&lt;br&gt;     &lt;strong&gt;Listing Agent: &lt;/strong&gt;Dolores Urdapilleta&lt;br&gt;     &lt;strong&gt;Buyer&#x27;s Agent: &lt;/strong&gt;Maria Peterfy-Shaya&lt;br&gt;     &lt;strong&gt;Price sq ft: &lt;/strong&gt;$1200.0&lt;br&gt;     &lt;strong&gt;Address: &lt;/strong&gt;881 Ocean Dr 27D Key&lt;br&gt;     &lt;/html&gt;     &lt;/div&gt;`)[0];\n",
       "                popup_eff1d451fe6a8941ec47576ba4b94713.setContent(html_0e64b2f07dc4dcbadd413387f29faea5);\n",
       "            \n",
       "        \n",
       "\n",
       "        marker_acc095395b3924bf5c0cc5a74c537a8a.bindPopup(popup_eff1d451fe6a8941ec47576ba4b94713)\n",
       "        ;\n",
       "\n",
       "        \n",
       "    \n",
       "    \n",
       "            var marker_cee946a575b145d1091f6e90c43ea9d2 = L.marker(\n",
       "                [25.7873169, -80.1293566],\n",
       "                {&quot;fill&quot;: true, &quot;radius&quot;: 5}\n",
       "            ).addTo(feature_group_1bac54fb6382f21bf609d71cec9b8a35);\n",
       "        \n",
       "    \n",
       "            var icon_fb25e75fb1cd4745942b0fd8c8e87b56 = L.AwesomeMarkers.icon(\n",
       "                {&quot;extraClasses&quot;: &quot;fa-rotate-0&quot;, &quot;icon&quot;: &quot;info-sign&quot;, &quot;iconColor&quot;: &quot;white&quot;, &quot;markerColor&quot;: &quot;blue&quot;, &quot;prefix&quot;: &quot;glyphicon&quot;}\n",
       "            );\n",
       "            marker_cee946a575b145d1091f6e90c43ea9d2.setIcon(icon_fb25e75fb1cd4745942b0fd8c8e87b56);\n",
       "        \n",
       "    \n",
       "        var popup_173539681751ee6061b50d662a9140f6 = L.popup({&quot;maxWidth&quot;: 400});\n",
       "\n",
       "        \n",
       "            \n",
       "                var html_48e52800141196c3cece98964baf6440 = $(`&lt;div id=&quot;html_48e52800141196c3cece98964baf6440&quot; style=&quot;width: 100.0%; height: 100.0%;&quot;&gt;&lt;!DOCTYPE html&gt;     &lt;html&gt;     &lt;strong&gt;Building Name: &lt;/strong&gt;Il Villaggio on South Beach&lt;br&gt;     &lt;strong&gt;Sale Price: &lt;/strong&gt;$2,100,000.00&lt;br&gt;     &lt;strong&gt;Days on Market: &lt;/strong&gt;11&lt;br&gt;     &lt;strong&gt;Listing Agent: &lt;/strong&gt;Maritza Cuellar&lt;br&gt;     &lt;strong&gt;Buyer&#x27;s Agent: &lt;/strong&gt;Maritza Cuellar&lt;br&gt;     &lt;strong&gt;Price sq ft: &lt;/strong&gt;$1448.28&lt;br&gt;     &lt;strong&gt;Address: &lt;/strong&gt;1455 Ocean Dr 810 Miami &lt;br&gt;     &lt;/html&gt;     &lt;/div&gt;`)[0];\n",
       "                popup_173539681751ee6061b50d662a9140f6.setContent(html_48e52800141196c3cece98964baf6440);\n",
       "            \n",
       "        \n",
       "\n",
       "        marker_cee946a575b145d1091f6e90c43ea9d2.bindPopup(popup_173539681751ee6061b50d662a9140f6)\n",
       "        ;\n",
       "\n",
       "        \n",
       "    \n",
       "    \n",
       "            var marker_5a0ca0460d24ade1f17b5208c0b21ad3 = L.marker(\n",
       "                [25.7845605, -80.190427],\n",
       "                {&quot;fill&quot;: true, &quot;radius&quot;: 5}\n",
       "            ).addTo(feature_group_1bac54fb6382f21bf609d71cec9b8a35);\n",
       "        \n",
       "    \n",
       "            var icon_ed987cfe022faace18a40694cfddf7db = L.AwesomeMarkers.icon(\n",
       "                {&quot;extraClasses&quot;: &quot;fa-rotate-0&quot;, &quot;icon&quot;: &quot;info-sign&quot;, &quot;iconColor&quot;: &quot;white&quot;, &quot;markerColor&quot;: &quot;blue&quot;, &quot;prefix&quot;: &quot;glyphicon&quot;}\n",
       "            );\n",
       "            marker_5a0ca0460d24ade1f17b5208c0b21ad3.setIcon(icon_ed987cfe022faace18a40694cfddf7db);\n",
       "        \n",
       "    \n",
       "        var popup_c1637a5e310fb3be9c919d6f9ffe3168 = L.popup({&quot;maxWidth&quot;: 400});\n",
       "\n",
       "        \n",
       "            \n",
       "                var html_8abecf264694d268ffa04602dd15e5e4 = $(`&lt;div id=&quot;html_8abecf264694d268ffa04602dd15e5e4&quot; style=&quot;width: 100.0%; height: 100.0%;&quot;&gt;&lt;!DOCTYPE html&gt;     &lt;html&gt;     &lt;strong&gt;Building Name: &lt;/strong&gt;Ten Museum  Park&lt;br&gt;     &lt;strong&gt;Sale Price: &lt;/strong&gt;$1,900,000.00&lt;br&gt;     &lt;strong&gt;Days on Market: &lt;/strong&gt;76&lt;br&gt;     &lt;strong&gt;Listing Agent: &lt;/strong&gt;Latanya Preston&lt;br&gt;     &lt;strong&gt;Buyer&#x27;s Agent: &lt;/strong&gt;Darin Feldman PA&lt;br&gt;     &lt;strong&gt;Price sq ft: &lt;/strong&gt;$1095.1&lt;br&gt;     &lt;strong&gt;Address: &lt;/strong&gt;1040 Biscayne Blvd 3701&lt;br&gt;     &lt;/html&gt;     &lt;/div&gt;`)[0];\n",
       "                popup_c1637a5e310fb3be9c919d6f9ffe3168.setContent(html_8abecf264694d268ffa04602dd15e5e4);\n",
       "            \n",
       "        \n",
       "\n",
       "        marker_5a0ca0460d24ade1f17b5208c0b21ad3.bindPopup(popup_c1637a5e310fb3be9c919d6f9ffe3168)\n",
       "        ;\n",
       "\n",
       "        \n",
       "    \n",
       "    \n",
       "            var marker_4986f2bba44702a77111a6085ee35552 = L.marker(\n",
       "                [25.7966829, -80.1876694],\n",
       "                {&quot;fill&quot;: true, &quot;radius&quot;: 5}\n",
       "            ).addTo(feature_group_1bac54fb6382f21bf609d71cec9b8a35);\n",
       "        \n",
       "    \n",
       "            var icon_cfa06be96aa134baa3cf158cb664a52c = L.AwesomeMarkers.icon(\n",
       "                {&quot;extraClasses&quot;: &quot;fa-rotate-0&quot;, &quot;icon&quot;: &quot;info-sign&quot;, &quot;iconColor&quot;: &quot;white&quot;, &quot;markerColor&quot;: &quot;blue&quot;, &quot;prefix&quot;: &quot;glyphicon&quot;}\n",
       "            );\n",
       "            marker_4986f2bba44702a77111a6085ee35552.setIcon(icon_cfa06be96aa134baa3cf158cb664a52c);\n",
       "        \n",
       "    \n",
       "        var popup_29a2b860e5acbb581121a950ff9bd336 = L.popup({&quot;maxWidth&quot;: 400});\n",
       "\n",
       "        \n",
       "            \n",
       "                var html_2f90f357de32a94ad2e27873448daece = $(`&lt;div id=&quot;html_2f90f357de32a94ad2e27873448daece&quot; style=&quot;width: 100.0%; height: 100.0%;&quot;&gt;&lt;!DOCTYPE html&gt;     &lt;html&gt;     &lt;strong&gt;Building Name: &lt;/strong&gt;Paramount Bay Condo&lt;br&gt;     &lt;strong&gt;Sale Price: &lt;/strong&gt;$1,580,000.00&lt;br&gt;     &lt;strong&gt;Days on Market: &lt;/strong&gt;200&lt;br&gt;     &lt;strong&gt;Listing Agent: &lt;/strong&gt;Anjianette Beltran&lt;br&gt;     &lt;strong&gt;Buyer&#x27;s Agent: &lt;/strong&gt;Free Valente&lt;br&gt;     &lt;strong&gt;Price sq ft: &lt;/strong&gt;$944.41&lt;br&gt;     &lt;strong&gt;Address: &lt;/strong&gt;2020 N Bayshore Dr 2707&lt;br&gt;     &lt;/html&gt;     &lt;/div&gt;`)[0];\n",
       "                popup_29a2b860e5acbb581121a950ff9bd336.setContent(html_2f90f357de32a94ad2e27873448daece);\n",
       "            \n",
       "        \n",
       "\n",
       "        marker_4986f2bba44702a77111a6085ee35552.bindPopup(popup_29a2b860e5acbb581121a950ff9bd336)\n",
       "        ;\n",
       "\n",
       "        \n",
       "    \n",
       "    \n",
       "            var marker_641987f92a764f56980a3491784436b1 = L.marker(\n",
       "                [25.7902301, -80.1464419],\n",
       "                {&quot;fill&quot;: true, &quot;radius&quot;: 5}\n",
       "            ).addTo(feature_group_1bac54fb6382f21bf609d71cec9b8a35);\n",
       "        \n",
       "    \n",
       "            var icon_ff129c8f43de3cb9d7928c7e21a7a693 = L.AwesomeMarkers.icon(\n",
       "                {&quot;extraClasses&quot;: &quot;fa-rotate-0&quot;, &quot;icon&quot;: &quot;info-sign&quot;, &quot;iconColor&quot;: &quot;white&quot;, &quot;markerColor&quot;: &quot;blue&quot;, &quot;prefix&quot;: &quot;glyphicon&quot;}\n",
       "            );\n",
       "            marker_641987f92a764f56980a3491784436b1.setIcon(icon_ff129c8f43de3cb9d7928c7e21a7a693);\n",
       "        \n",
       "    \n",
       "        var popup_c4787c0c1106858e8166f5272e84782d = L.popup({&quot;maxWidth&quot;: 400});\n",
       "\n",
       "        \n",
       "            \n",
       "                var html_9f11d855d69ce9897298ada76c8a82af = $(`&lt;div id=&quot;html_9f11d855d69ce9897298ada76c8a82af&quot; style=&quot;width: 100.0%; height: 100.0%;&quot;&gt;&lt;!DOCTYPE html&gt;     &lt;html&gt;     &lt;strong&gt;Building Name: &lt;/strong&gt;Belle Plazza Condo&lt;br&gt;     &lt;strong&gt;Sale Price: &lt;/strong&gt;$1,525,000.00&lt;br&gt;     &lt;strong&gt;Days on Market: &lt;/strong&gt;36&lt;br&gt;     &lt;strong&gt;Listing Agent: &lt;/strong&gt;Diego Tarantino&lt;br&gt;     &lt;strong&gt;Buyer&#x27;s Agent: &lt;/strong&gt;Diego Tarantino&lt;br&gt;     &lt;strong&gt;Price sq ft: &lt;/strong&gt;$803.48&lt;br&gt;     &lt;strong&gt;Address: &lt;/strong&gt;20 Island Ave PH04 Miami&lt;br&gt;     &lt;/html&gt;     &lt;/div&gt;`)[0];\n",
       "                popup_c4787c0c1106858e8166f5272e84782d.setContent(html_9f11d855d69ce9897298ada76c8a82af);\n",
       "            \n",
       "        \n",
       "\n",
       "        marker_641987f92a764f56980a3491784436b1.bindPopup(popup_c4787c0c1106858e8166f5272e84782d)\n",
       "        ;\n",
       "\n",
       "        \n",
       "    \n",
       "    \n",
       "            var marker_b5c78e8a00064948948c2ee964e3ed76 = L.marker(\n",
       "                [25.9341525, -80.1491166],\n",
       "                {&quot;fill&quot;: true, &quot;radius&quot;: 5}\n",
       "            ).addTo(feature_group_1bac54fb6382f21bf609d71cec9b8a35);\n",
       "        \n",
       "    \n",
       "            var icon_a70d40e971e0b92c9652d00008a849cb = L.AwesomeMarkers.icon(\n",
       "                {&quot;extraClasses&quot;: &quot;fa-rotate-0&quot;, &quot;icon&quot;: &quot;info-sign&quot;, &quot;iconColor&quot;: &quot;white&quot;, &quot;markerColor&quot;: &quot;blue&quot;, &quot;prefix&quot;: &quot;glyphicon&quot;}\n",
       "            );\n",
       "            marker_b5c78e8a00064948948c2ee964e3ed76.setIcon(icon_a70d40e971e0b92c9652d00008a849cb);\n",
       "        \n",
       "    \n",
       "        var popup_812df07a886d32dd430acc2106b17994 = L.popup({&quot;maxWidth&quot;: 400});\n",
       "\n",
       "        \n",
       "            \n",
       "                var html_62ab3829a343fa0e011a75b6e7beecdb = $(`&lt;div id=&quot;html_62ab3829a343fa0e011a75b6e7beecdb&quot; style=&quot;width: 100.0%; height: 100.0%;&quot;&gt;&lt;!DOCTYPE html&gt;     &lt;html&gt;     &lt;strong&gt;Building Name: &lt;/strong&gt;Marina Palms Residences&lt;br&gt;     &lt;strong&gt;Sale Price: &lt;/strong&gt;$1,275,000.00&lt;br&gt;     &lt;strong&gt;Days on Market: &lt;/strong&gt;193&lt;br&gt;     &lt;strong&gt;Listing Agent: &lt;/strong&gt;Elsa Rodriguez&lt;br&gt;     &lt;strong&gt;Buyer&#x27;s Agent: &lt;/strong&gt;Steven Pesso&lt;br&gt;     &lt;strong&gt;Price sq ft: &lt;/strong&gt;$669.64&lt;br&gt;     &lt;strong&gt;Address: &lt;/strong&gt;17111 Biscayne Blvd 1507 North Miami&lt;br&gt;     &lt;/html&gt;     &lt;/div&gt;`)[0];\n",
       "                popup_812df07a886d32dd430acc2106b17994.setContent(html_62ab3829a343fa0e011a75b6e7beecdb);\n",
       "            \n",
       "        \n",
       "\n",
       "        marker_b5c78e8a00064948948c2ee964e3ed76.bindPopup(popup_812df07a886d32dd430acc2106b17994)\n",
       "        ;\n",
       "\n",
       "        \n",
       "    \n",
       "    \n",
       "            var marker_18b85869daa60157fba7ed94e67e63ab = L.marker(\n",
       "                [25.7320773, -80.24005729999999],\n",
       "                {&quot;fill&quot;: true, &quot;radius&quot;: 5}\n",
       "            ).addTo(feature_group_1bac54fb6382f21bf609d71cec9b8a35);\n",
       "        \n",
       "    \n",
       "            var icon_771b450238004292f0afcd60eaf0ae25 = L.AwesomeMarkers.icon(\n",
       "                {&quot;extraClasses&quot;: &quot;fa-rotate-0&quot;, &quot;icon&quot;: &quot;info-sign&quot;, &quot;iconColor&quot;: &quot;white&quot;, &quot;markerColor&quot;: &quot;blue&quot;, &quot;prefix&quot;: &quot;glyphicon&quot;}\n",
       "            );\n",
       "            marker_18b85869daa60157fba7ed94e67e63ab.setIcon(icon_771b450238004292f0afcd60eaf0ae25);\n",
       "        \n",
       "    \n",
       "        var popup_c61329c1f991bd6dbf0b079423149f25 = L.popup({&quot;maxWidth&quot;: 400});\n",
       "\n",
       "        \n",
       "            \n",
       "                var html_e61518dc6443a63c7438cd6123b698d2 = $(`&lt;div id=&quot;html_e61518dc6443a63c7438cd6123b698d2&quot; style=&quot;width: 100.0%; height: 100.0%;&quot;&gt;&lt;!DOCTYPE html&gt;     &lt;html&gt;     &lt;strong&gt;Building Name: &lt;/strong&gt;Grove Park Villas Condo&lt;br&gt;     &lt;strong&gt;Sale Price: &lt;/strong&gt;$1,240,000.00&lt;br&gt;     &lt;strong&gt;Days on Market: &lt;/strong&gt;13&lt;br&gt;     &lt;strong&gt;Listing Agent: &lt;/strong&gt;Valaree Byrne&lt;br&gt;     &lt;strong&gt;Buyer&#x27;s Agent: &lt;/strong&gt;Valaree Byrne&lt;br&gt;     &lt;strong&gt;Price sq ft: &lt;/strong&gt;$805.19&lt;br&gt;     &lt;strong&gt;Address: &lt;/strong&gt;2909 Day Ave 1C&lt;br&gt;     &lt;/html&gt;     &lt;/div&gt;`)[0];\n",
       "                popup_c61329c1f991bd6dbf0b079423149f25.setContent(html_e61518dc6443a63c7438cd6123b698d2);\n",
       "            \n",
       "        \n",
       "\n",
       "        marker_18b85869daa60157fba7ed94e67e63ab.bindPopup(popup_c61329c1f991bd6dbf0b079423149f25)\n",
       "        ;\n",
       "\n",
       "        \n",
       "    \n",
       "    \n",
       "            var marker_ba7738fa011f0a59fd9f49325315196f = L.marker(\n",
       "                [25.7686263, -80.18963269999999],\n",
       "                {&quot;fill&quot;: true, &quot;radius&quot;: 5}\n",
       "            ).addTo(feature_group_1bac54fb6382f21bf609d71cec9b8a35);\n",
       "        \n",
       "    \n",
       "            var icon_5795168f8db2904e42e55bb8bd980d4e = L.AwesomeMarkers.icon(\n",
       "                {&quot;extraClasses&quot;: &quot;fa-rotate-0&quot;, &quot;icon&quot;: &quot;info-sign&quot;, &quot;iconColor&quot;: &quot;white&quot;, &quot;markerColor&quot;: &quot;blue&quot;, &quot;prefix&quot;: &quot;glyphicon&quot;}\n",
       "            );\n",
       "            marker_ba7738fa011f0a59fd9f49325315196f.setIcon(icon_5795168f8db2904e42e55bb8bd980d4e);\n",
       "        \n",
       "    \n",
       "        var popup_b15b94a502afa4773395e35471eea651 = L.popup({&quot;maxWidth&quot;: 400});\n",
       "\n",
       "        \n",
       "            \n",
       "                var html_d014cd43f2bd1ed4401f4c9ee0b4adc2 = $(`&lt;div id=&quot;html_d014cd43f2bd1ed4401f4c9ee0b4adc2&quot; style=&quot;width: 100.0%; height: 100.0%;&quot;&gt;&lt;!DOCTYPE html&gt;     &lt;html&gt;     &lt;strong&gt;Building Name: &lt;/strong&gt;Icon Brickell&lt;br&gt;     &lt;strong&gt;Sale Price: &lt;/strong&gt;$1,200,000.00&lt;br&gt;     &lt;strong&gt;Days on Market: &lt;/strong&gt;4&lt;br&gt;     &lt;strong&gt;Listing Agent: &lt;/strong&gt;Matthew Van Wie&lt;br&gt;     &lt;strong&gt;Buyer&#x27;s Agent: &lt;/strong&gt;Antonio Yunez&lt;br&gt;     &lt;strong&gt;Price sq ft: &lt;/strong&gt;$933.13&lt;br&gt;     &lt;strong&gt;Address: &lt;/strong&gt;485 Brickell Ave 4004&lt;br&gt;     &lt;/html&gt;     &lt;/div&gt;`)[0];\n",
       "                popup_b15b94a502afa4773395e35471eea651.setContent(html_d014cd43f2bd1ed4401f4c9ee0b4adc2);\n",
       "            \n",
       "        \n",
       "\n",
       "        marker_ba7738fa011f0a59fd9f49325315196f.bindPopup(popup_b15b94a502afa4773395e35471eea651)\n",
       "        ;\n",
       "\n",
       "        \n",
       "    \n",
       "    \n",
       "            var tile_layer_1873780e553d435d9c92f7d5720faaf4 = L.tileLayer(\n",
       "                &quot;https://{s}.tile.openstreetmap.org/{z}/{x}/{y}.png&quot;,\n",
       "                {&quot;attribution&quot;: &quot;Data by \\u0026copy; \\u003ca href=\\&quot;http://openstreetmap.org\\&quot;\\u003eOpenStreetMap\\u003c/a\\u003e, under \\u003ca href=\\&quot;http://www.openstreetmap.org/copyright\\&quot;\\u003eODbL\\u003c/a\\u003e.&quot;, &quot;detectRetina&quot;: false, &quot;maxNativeZoom&quot;: 18, &quot;maxZoom&quot;: 18, &quot;minZoom&quot;: 0, &quot;noWrap&quot;: false, &quot;opacity&quot;: 1, &quot;subdomains&quot;: &quot;abc&quot;, &quot;tms&quot;: false}\n",
       "            ).addTo(map_c1fc255e9a6e9f6b108a5f05184e1e28);\n",
       "        \n",
       "    \n",
       "            var layer_control_2c92fc09211f6bef5235cfc4d8f547fe = {\n",
       "                base_layers : {\n",
       "                },\n",
       "                overlays :  {\n",
       "                    &quot;Top Sale&quot; : feature_group_6f6cca298684b7722acf1169f595e991,\n",
       "                    &quot;All other sales&quot; : feature_group_1bac54fb6382f21bf609d71cec9b8a35,\n",
       "                },\n",
       "            };\n",
       "            L.control.layers(\n",
       "                layer_control_2c92fc09211f6bef5235cfc4d8f547fe.base_layers,\n",
       "                layer_control_2c92fc09211f6bef5235cfc4d8f547fe.overlays,\n",
       "                {&quot;autoZIndex&quot;: true, &quot;collapsed&quot;: false, &quot;position&quot;: &quot;topright&quot;}\n",
       "            ).addTo(map_c1fc255e9a6e9f6b108a5f05184e1e28);\n",
       "        \n",
       "&lt;/script&gt;\" style=\"position:absolute;width:100%;height:100%;left:0;top:0;border:none !important;\" allowfullscreen webkitallowfullscreen mozallowfullscreen></iframe></div></div>"
      ],
      "text/plain": [
       "<folium.folium.Map at 0x7fab33b09e80>"
      ]
     },
     "execution_count": 17,
     "metadata": {},
     "output_type": "execute_result"
    }
   ],
   "source": [
    "import folium\n",
    "from folium.plugins import MarkerCluster\n",
    "\n",
    "m = folium.Map(location=df[[\"lat\", \"lon\"]].mean().to_list(), zoom_start=10)\n",
    "\n",
    "title_html = '''\n",
    "              <h3 align=\"center\" style=\"font-size:16px\"><b>{}</b></h3>\n",
    "             '''.format(f'Recent Miami-Dade Condo Sales ')\n",
    "\n",
    "caption_html = '''\n",
    "                <p align=\"center\" style=\"vertical-align: bottom; font-size:13px\"><i>{}</i></p>\n",
    "                '''.format('October 29th - November 4th')\n",
    "\n",
    "\n",
    "### Create map container ###\n",
    "m = folium.Map(location=df[[\"lat\", \"lon\"]].mean().to_list(),zoom_start=9.5,tiles=None)\n",
    "\n",
    "# Create two FeatureGroups for different color pins\n",
    "fg_blue = folium.FeatureGroup(name='All other sales')\n",
    "fg_orange = folium.FeatureGroup(name='Top Sale')\n",
    "\n",
    "for index, row in df.iterrows():\n",
    "    # Add the markers to the appropriate FeatureGroup based on the color\n",
    "    if row['COLOR'] == 'blue':\n",
    "        marker = folium.Marker(\n",
    "            location=[row['lat'], row['lon']],\n",
    "            radius=5,\n",
    "            fill=True,\n",
    "            icon=folium.Icon(color=row['COLOR']),\n",
    "            popup=folium.Popup(popup_html(row), max_width=400))\n",
    "        marker.add_to(fg_blue)\n",
    "    else:\n",
    "        marker = folium.Marker(\n",
    "            location=[row['lat'], row['lon']],\n",
    "            radius=5,\n",
    "            fill=True,\n",
    "            icon=folium.Icon(color=row['COLOR']),\n",
    "            popup=folium.Popup(popup_html(row), max_width=400))\n",
    "        marker.add_to(fg_orange)\n",
    "\n",
    "# Add the FeatureGroups to the map\n",
    "fg_orange.add_to(m)\n",
    "fg_blue.add_to(m)\n",
    "\n",
    "folium.TileLayer('OpenStreetMap',control=False).add_to(m)\n",
    "\n",
    "# Add LayerControl to the map\n",
    "folium.map.LayerControl(collapsed=False).add_to(m)\n",
    "m.get_root().html.add_child(folium.Element(title_html))\n",
    "m.get_root().html.add_child(folium.Element(caption_html))\n",
    "            \n",
    "# Display map\n",
    "m"
   ]
  },
  {
   "cell_type": "code",
   "execution_count": 18,
   "metadata": {},
   "outputs": [],
   "source": [
    "m.save('index.html')"
   ]
  },
  {
   "cell_type": "markdown",
   "metadata": {},
   "source": [
    "## Data snagger"
   ]
  },
  {
   "cell_type": "code",
   "execution_count": 19,
   "metadata": {},
   "outputs": [],
   "source": [
    "### Set up formatting ###\n",
    "BR = '\\n'\n",
    "\n",
    "ME = '\\033[1m' + 'Most Expensive' + '\\033[0m'\n",
    "LE = '\\033[1m' + 'Least Expensive' + '\\033[0m'\n",
    "\n",
    "MAX_PSF = '\\033[1m' + 'Highest Price Per Square Foot' + '\\033[0m'\n",
    "MIN_PSF = '\\033[1m' + 'Lowest Price Per Square Foot' + '\\033[0m'\n",
    "\n",
    "DAYS_MAX = '\\033[1m' + 'Most Days on Market' + '\\033[0m'\n",
    "DAYS_MIN = '\\033[1m' + 'Fewest Days on Market' + '\\033[0m'"
   ]
  },
  {
   "cell_type": "code",
   "execution_count": 20,
   "metadata": {},
   "outputs": [
    {
     "name": "stdout",
     "output_type": "stream",
     "text": [
      "\u001b[1mMost Expensive\u001b[0m\n",
      "One Park Grove Condo, 2811 S Bayshore Dr 7A | Price $8,500,000 | $2,618 psf | Listing agent: David Siddons with Douglas Elliman | Buyer's agent: Pietro Belmonte with Douglas Elliman | Days on market: 30\n",
      "\u001b[1mLeast Expensive\u001b[0m\n",
      "Icon Brickell, 485 Brickell Ave 4004 | Price $1,200,000 | $933 psf | Listing agent: Matthew Van Wie with Serhant | Buyer's agent: Antonio Yunez with Fortune International Realty | Days on market: 4\n",
      "\u001b[1mHighest Price Per Square Foot\u001b[0m\n",
      "One Park Grove Condo, 2811 S Bayshore Dr 7A | Price $8,500,000 | $2,618 psf | Listing agent: David Siddons with Douglas Elliman | Buyer's agent: Pietro Belmonte with Douglas Elliman | Days on market: 30\n",
      "\u001b[1mLowest Price Per Square Foot\u001b[0m\n",
      "Marina Palms Residences, 17111 Biscayne Blvd 1507 North Miami | Price $1,275,000 | $670 psf | Listing agent: Elsa Rodriguez with Fortune International Realty | Buyer's agent: Steven Pesso with United Realty Group Inc | Days on market: 193\n",
      "\u001b[1mMost Days on Market\u001b[0m\n",
      "Paramount Bay Condo, 2020 N Bayshore Dr 2707 | Price $1,580,000 | $944 psf | Listing agent: Anjianette Beltran with Cervera Real Estate Inc. | Buyer's agent: Free Valente with Coldwell Banker Realty | Days on market: 200\n",
      "\u001b[1mFewest Days on Market\u001b[0m\n",
      "Icon Brickell, 485 Brickell Ave 4004 | Price $1,200,000 | $933 psf | Listing agent: Matthew Van Wie with Serhant | Buyer's agent: Antonio Yunez with Fortune International Realty | Days on market: 4\n"
     ]
    }
   ],
   "source": [
    "### Highest and lowest sale price ###\n",
    "print(f\"{ME}{BR}{df.loc[df['int_Sale_Price'].idxmax()]['building_name']}, {df.loc[df['int_Sale_Price'].idxmax()]['address']} | Price ${df.loc[df['int_Sale_Price'].idxmax()]['int_Sale_Price']:,.0f} | ${df.loc[df['int_Sale_Price'].idxmax()]['price_per_sqft']:,.0f} psf | Listing agent: {df.loc[df['int_Sale_Price'].idxmax()]['Agent']} with {df.loc[df['int_Sale_Price'].idxmax()]['Listing Broker']} | Buyer's agent: {df.loc[df['int_Sale_Price'].idxmax()]['Buyer Agent']} with {df.loc[df['int_Sale_Price'].idxmax()]['Buyer Broker']} | Days on market: {df.loc[df['int_Sale_Price'].idxmax()]['days_on_market']}\")\n",
    "print(f\"{LE}{BR}{df.loc[df['int_Sale_Price'].idxmin()]['building_name']}, {df.loc[df['int_Sale_Price'].idxmin()]['address']} | Price ${df.loc[df['int_Sale_Price'].idxmin()]['int_Sale_Price']:,.0f} | ${df.loc[df['int_Sale_Price'].idxmin()]['price_per_sqft']:,.0f} psf | Listing agent: {df.loc[df['int_Sale_Price'].idxmin()]['Agent']} with {df.loc[df['int_Sale_Price'].idxmin()]['Listing Broker']} | Buyer's agent: {df.loc[df['int_Sale_Price'].idxmin()]['Buyer Agent']} with {df.loc[df['int_Sale_Price'].idxmin()]['Buyer Broker']} | Days on market: {df.loc[df['int_Sale_Price'].idxmin()]['days_on_market']}\")\n",
    "### Highest and lowest psf ###\n",
    "print(f\"{MAX_PSF}{BR}{df.loc[df['price_per_sqft'].idxmax()]['building_name']}, {df.loc[df['price_per_sqft'].idxmax()]['address']} | Price ${df.loc[df['price_per_sqft'].idxmax()]['int_Sale_Price']:,.0f} | ${df.loc[df['price_per_sqft'].idxmax()]['price_per_sqft']:,.0f} psf | Listing agent: {df.loc[df['price_per_sqft'].idxmax()]['Agent']} with {df.loc[df['price_per_sqft'].idxmax()]['Listing Broker']} | Buyer's agent: {df.loc[df['price_per_sqft'].idxmax()]['Buyer Agent']} with {df.loc[df['price_per_sqft'].idxmax()]['Buyer Broker']} | Days on market: {df.loc[df['price_per_sqft'].idxmax()]['days_on_market']}\")\n",
    "print(f\"{MIN_PSF}{BR}{df.loc[df['price_per_sqft'].idxmin()]['building_name']}, {df.loc[df['price_per_sqft'].idxmin()]['address']} | Price ${df.loc[df['price_per_sqft'].idxmin()]['int_Sale_Price']:,.0f} | ${df.loc[df['price_per_sqft'].idxmin()]['price_per_sqft']:,.0f} psf | Listing agent: {df.loc[df['price_per_sqft'].idxmin()]['Agent']} with {df.loc[df['price_per_sqft'].idxmin()]['Listing Broker']} | Buyer's agent: {df.loc[df['price_per_sqft'].idxmin()]['Buyer Agent']} with {df.loc[df['price_per_sqft'].idxmin()]['Buyer Broker']} | Days on market: {df.loc[df['price_per_sqft'].idxmin()]['days_on_market']}\")\n",
    "### Highest and lowest days on market ###\n",
    "print(f\"{DAYS_MAX}{BR}{df.loc[df['days_on_market'].idxmax()]['building_name']}, {df.loc[df['days_on_market'].idxmax()]['address']} | Price ${df.loc[df['days_on_market'].idxmax()]['int_Sale_Price']:,.0f} | ${df.loc[df['days_on_market'].idxmax()]['price_per_sqft']:,.0f} psf | Listing agent: {df.loc[df['days_on_market'].idxmax()]['Agent']} with {df.loc[df['days_on_market'].idxmax()]['Listing Broker']} | Buyer's agent: {df.loc[df['days_on_market'].idxmax()]['Buyer Agent']} with {df.loc[df['days_on_market'].idxmax()]['Buyer Broker']} | Days on market: {df.loc[df['days_on_market'].idxmax()]['days_on_market']}\")\n",
    "print(f\"{DAYS_MIN}{BR}{df.loc[df['days_on_market'].idxmin()]['building_name']}, {df.loc[df['days_on_market'].idxmin()]['address']} | Price ${df.loc[df['days_on_market'].idxmin()]['int_Sale_Price']:,.0f} | ${df.loc[df['days_on_market'].idxmin()]['price_per_sqft']:,.0f} psf | Listing agent: {df.loc[df['days_on_market'].idxmin()]['Agent']} with {df.loc[df['days_on_market'].idxmin()]['Listing Broker']} | Buyer's agent: {df.loc[df['days_on_market'].idxmin()]['Buyer Agent']} with {df.loc[df['days_on_market'].idxmin()]['Buyer Broker']} | Days on market: {df.loc[df['days_on_market'].idxmin()]['days_on_market']}\")"
   ]
  },
  {
   "cell_type": "code",
   "execution_count": 21,
   "metadata": {},
   "outputs": [
    {
     "data": {
      "text/plain": [
       "76.4"
      ]
     },
     "execution_count": 21,
     "metadata": {},
     "output_type": "execute_result"
    }
   ],
   "source": [
    "df['days_on_market'].mean()"
   ]
  },
  {
   "cell_type": "markdown",
   "metadata": {},
   "source": [
    "## Map URL snagger"
   ]
  },
  {
   "cell_type": "markdown",
   "metadata": {},
   "source": [
    "Map template URL: `https://trd-digital.github.io/trd-news-interactive-maps/{map-folder-name}`"
   ]
  },
  {
   "cell_type": "code",
   "execution_count": 22,
   "metadata": {},
   "outputs": [],
   "source": [
    "base_name = 'https://trd-digital.github.io/trd-news-interactive-maps/'"
   ]
  },
  {
   "cell_type": "code",
   "execution_count": 23,
   "metadata": {},
   "outputs": [
    {
     "name": "stdout",
     "output_type": "stream",
     "text": [
      "https://trd-digital.github.io/trd-news-interactive-maps/condo_sales_week_ending_11132023\n"
     ]
    }
   ],
   "source": [
    "cwd = os.getcwd()\n",
    "\n",
    "cwd = cwd.split('/')\n",
    "\n",
    "final_name = base_name + cwd[-1]\n",
    "print(final_name)"
   ]
  }
 ],
 "metadata": {
  "kernelspec": {
   "display_name": "Python 3 (ipykernel)",
   "language": "python",
   "name": "python3"
  },
  "language_info": {
   "codemirror_mode": {
    "name": "ipython",
    "version": 3
   },
   "file_extension": ".py",
   "mimetype": "text/x-python",
   "name": "python",
   "nbconvert_exporter": "python",
   "pygments_lexer": "ipython3",
   "version": "3.9.12"
  },
  "toc": {
   "base_numbering": 1,
   "nav_menu": {},
   "number_sections": true,
   "sideBar": true,
   "skip_h1_title": false,
   "title_cell": "Table of Contents",
   "title_sidebar": "Contents",
   "toc_cell": false,
   "toc_position": {},
   "toc_section_display": true,
   "toc_window_display": false
  }
 },
 "nbformat": 4,
 "nbformat_minor": 4
}
