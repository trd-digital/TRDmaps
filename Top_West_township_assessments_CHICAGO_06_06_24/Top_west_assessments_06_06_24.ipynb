{
 "cells": [
  {
   "cell_type": "markdown",
   "id": "d857546b",
   "metadata": {},
   "source": [
    "## Imports"
   ]
  },
  {
   "cell_type": "code",
   "execution_count": 1,
   "id": "ba12a980",
   "metadata": {},
   "outputs": [],
   "source": [
    "import pandas as pd\n",
    "import geopandas as gpd\n",
    "import os\n",
    "from geopy.geocoders import GoogleV3\n",
    "import geocoder\n",
    "from shapely.geometry import Point"
   ]
  },
  {
   "cell_type": "markdown",
   "id": "cd0cf20d",
   "metadata": {},
   "source": [
    "## Data read-in"
   ]
  },
  {
   "cell_type": "code",
   "execution_count": 2,
   "id": "dd909a27",
   "metadata": {},
   "outputs": [],
   "source": [
    "df = pd.read_csv(\"Top West township assessments - industrial.csv\")"
   ]
  },
  {
   "cell_type": "markdown",
   "id": "690eef51",
   "metadata": {},
   "source": [
    "## Data work"
   ]
  },
  {
   "cell_type": "code",
   "execution_count": 3,
   "id": "eac52c61",
   "metadata": {},
   "outputs": [],
   "source": [
    "df = df.rename(columns={'2021 vaue':'2021 value',\n",
    "                       '2024 value ':'2024 value',\n",
    "                       'percent change in initial assessment ':'percent change in initial assessment'})"
   ]
  },
  {
   "cell_type": "code",
   "execution_count": 4,
   "id": "d46b2eae",
   "metadata": {},
   "outputs": [
    {
     "data": {
      "text/plain": [
       "Index(['PIN', 'name', 'address', '2021 value', '2024 value',\n",
       "       'percent change in initial assessment'],\n",
       "      dtype='object')"
      ]
     },
     "execution_count": 4,
     "metadata": {},
     "output_type": "execute_result"
    }
   ],
   "source": [
    "df.columns"
   ]
  },
  {
   "cell_type": "code",
   "execution_count": 5,
   "id": "02e5a892",
   "metadata": {},
   "outputs": [],
   "source": [
    "df[['2021 value int', '2024 value int']] = df[['2021 value', '2024 value']].replace({'\\$': '', ',': ''}, \n",
    "                                                                                    regex=True)\n",
    "\n",
    "df[['2021 value int', '2024 value int']] = df[['2021 value int', '2024 value int']].astype(int)"
   ]
  },
  {
   "cell_type": "code",
   "execution_count": 6,
   "id": "31b35ff6",
   "metadata": {},
   "outputs": [],
   "source": [
    "df['percent change in initial assessment int'] = df['percent change in initial assessment'].replace('%',regex=True)"
   ]
  },
  {
   "cell_type": "code",
   "execution_count": 7,
   "id": "3d57a88d",
   "metadata": {},
   "outputs": [],
   "source": [
    "df['name'] = df['name'].fillna('Not available')"
   ]
  },
  {
   "cell_type": "code",
   "execution_count": 8,
   "id": "4be47a07",
   "metadata": {},
   "outputs": [],
   "source": [
    "df['address_full'] = df['address'] + ' Chicago, IL'"
   ]
  },
  {
   "cell_type": "code",
   "execution_count": 9,
   "id": "203d3a82",
   "metadata": {},
   "outputs": [],
   "source": [
    "%store -r google_maps_API_Key\n",
    "geolocator = GoogleV3(api_key=google_maps_API_Key)"
   ]
  },
  {
   "cell_type": "code",
   "execution_count": 10,
   "id": "1e56d6df",
   "metadata": {},
   "outputs": [],
   "source": [
    "df['geocoded'] = df['address_full'].apply(geolocator.geocode, timeout=10)"
   ]
  },
  {
   "cell_type": "code",
   "execution_count": 11,
   "id": "9e2f2e5c",
   "metadata": {},
   "outputs": [],
   "source": [
    "df['point'] = df['geocoded'].apply(lambda loc: tuple(loc.point) if loc else None)"
   ]
  },
  {
   "cell_type": "code",
   "execution_count": 12,
   "id": "bab21e70",
   "metadata": {},
   "outputs": [],
   "source": [
    "df[['lat','lon','altitude']] = pd.DataFrame(df['point'].to_list(),index=df.index)"
   ]
  },
  {
   "cell_type": "code",
   "execution_count": 13,
   "id": "d573914c",
   "metadata": {},
   "outputs": [
    {
     "data": {
      "text/html": [
       "<div>\n",
       "<style scoped>\n",
       "    .dataframe tbody tr th:only-of-type {\n",
       "        vertical-align: middle;\n",
       "    }\n",
       "\n",
       "    .dataframe tbody tr th {\n",
       "        vertical-align: top;\n",
       "    }\n",
       "\n",
       "    .dataframe thead th {\n",
       "        text-align: right;\n",
       "    }\n",
       "</style>\n",
       "<table border=\"1\" class=\"dataframe\">\n",
       "  <thead>\n",
       "    <tr style=\"text-align: right;\">\n",
       "      <th></th>\n",
       "      <th>PIN</th>\n",
       "      <th>name</th>\n",
       "      <th>address</th>\n",
       "      <th>2021 value</th>\n",
       "      <th>2024 value</th>\n",
       "      <th>percent change in initial assessment</th>\n",
       "      <th>2021 value int</th>\n",
       "      <th>2024 value int</th>\n",
       "      <th>percent change in initial assessment int</th>\n",
       "      <th>address_full</th>\n",
       "      <th>geocoded</th>\n",
       "      <th>point</th>\n",
       "      <th>lat</th>\n",
       "      <th>lon</th>\n",
       "      <th>altitude</th>\n",
       "      <th>geometry</th>\n",
       "    </tr>\n",
       "  </thead>\n",
       "  <tbody>\n",
       "    <tr>\n",
       "      <th>0</th>\n",
       "      <td>17-05-306-007-0000</td>\n",
       "      <td>Not available</td>\n",
       "      <td>1220 West Cortez</td>\n",
       "      <td>$15,110,480</td>\n",
       "      <td>$153,010,000</td>\n",
       "      <td>913%</td>\n",
       "      <td>15110480</td>\n",
       "      <td>153010000</td>\n",
       "      <td>913%</td>\n",
       "      <td>1220 West Cortez Chicago, IL</td>\n",
       "      <td>(1220 W Cortez St, Chicago, IL 60642, USA, (41...</td>\n",
       "      <td>(41.9012462, -87.6579593, 0.0)</td>\n",
       "      <td>41.901246</td>\n",
       "      <td>-87.657959</td>\n",
       "      <td>0.0</td>\n",
       "      <td>POINT (-87.65796 41.90125)</td>\n",
       "    </tr>\n",
       "    <tr>\n",
       "      <th>1</th>\n",
       "      <td>16-35-300-039-0000</td>\n",
       "      <td>Not available</td>\n",
       "      <td>3501 South Pulaski</td>\n",
       "      <td>$17,945,328</td>\n",
       "      <td>$113,828,000</td>\n",
       "      <td>534%</td>\n",
       "      <td>17945328</td>\n",
       "      <td>113828000</td>\n",
       "      <td>534%</td>\n",
       "      <td>3501 South Pulaski Chicago, IL</td>\n",
       "      <td>(3501 S Pulaski Rd, Chicago, IL 60623, USA, (4...</td>\n",
       "      <td>(41.8308907, -87.72343219999999, 0.0)</td>\n",
       "      <td>41.830891</td>\n",
       "      <td>-87.723432</td>\n",
       "      <td>0.0</td>\n",
       "      <td>POINT (-87.72343 41.83089)</td>\n",
       "    </tr>\n",
       "    <tr>\n",
       "      <th>2</th>\n",
       "      <td>17-09-100-004-0000</td>\n",
       "      <td>Not available</td>\n",
       "      <td>655 West Chicago</td>\n",
       "      <td>$76,519,928</td>\n",
       "      <td>$57,987,250</td>\n",
       "      <td>-24%</td>\n",
       "      <td>76519928</td>\n",
       "      <td>57987250</td>\n",
       "      <td>-24%</td>\n",
       "      <td>655 West Chicago Chicago, IL</td>\n",
       "      <td>(655 W Chicago Ave, Chicago, IL 60654, USA, (4...</td>\n",
       "      <td>(41.8959156, -87.6451605, 0.0)</td>\n",
       "      <td>41.895916</td>\n",
       "      <td>-87.645161</td>\n",
       "      <td>0.0</td>\n",
       "      <td>POINT (-87.64516 41.89592)</td>\n",
       "    </tr>\n",
       "    <tr>\n",
       "      <th>3</th>\n",
       "      <td>16-24-223-001-0000</td>\n",
       "      <td>Not available</td>\n",
       "      <td>2558 West 16th</td>\n",
       "      <td>$64,839,414</td>\n",
       "      <td>$56,178,000</td>\n",
       "      <td>-13%</td>\n",
       "      <td>64839414</td>\n",
       "      <td>56178000</td>\n",
       "      <td>-13%</td>\n",
       "      <td>2558 West 16th Chicago, IL</td>\n",
       "      <td>(2558 W 16th St, Chicago, IL 60608, USA, (41.8...</td>\n",
       "      <td>(41.8602243, -87.6898621, 0.0)</td>\n",
       "      <td>41.860224</td>\n",
       "      <td>-87.689862</td>\n",
       "      <td>0.0</td>\n",
       "      <td>POINT (-87.68986 41.86022)</td>\n",
       "    </tr>\n",
       "    <tr>\n",
       "      <th>4</th>\n",
       "      <td>16-16-310-011-0000</td>\n",
       "      <td>Not available</td>\n",
       "      <td>5490 West Roosevelt</td>\n",
       "      <td>$45,751,016</td>\n",
       "      <td>$42,784,000</td>\n",
       "      <td>-6%</td>\n",
       "      <td>45751016</td>\n",
       "      <td>42784000</td>\n",
       "      <td>-6%</td>\n",
       "      <td>5490 West Roosevelt Chicago, IL</td>\n",
       "      <td>(5490 W Roosevelt Rd, Chicago, IL 60644, USA, ...</td>\n",
       "      <td>(41.8672149, -87.7617156, 0.0)</td>\n",
       "      <td>41.867215</td>\n",
       "      <td>-87.761716</td>\n",
       "      <td>0.0</td>\n",
       "      <td>POINT (-87.76172 41.86721)</td>\n",
       "    </tr>\n",
       "  </tbody>\n",
       "</table>\n",
       "</div>"
      ],
      "text/plain": [
       "                  PIN           name              address   2021 value  \\\n",
       "0  17-05-306-007-0000  Not available     1220 West Cortez  $15,110,480   \n",
       "1  16-35-300-039-0000  Not available   3501 South Pulaski  $17,945,328   \n",
       "2  17-09-100-004-0000  Not available     655 West Chicago  $76,519,928   \n",
       "3  16-24-223-001-0000  Not available       2558 West 16th  $64,839,414   \n",
       "4  16-16-310-011-0000  Not available  5490 West Roosevelt  $45,751,016   \n",
       "\n",
       "     2024 value percent change in initial assessment  2021 value int  \\\n",
       "0  $153,010,000                                 913%        15110480   \n",
       "1  $113,828,000                                 534%        17945328   \n",
       "2   $57,987,250                                 -24%        76519928   \n",
       "3   $56,178,000                                 -13%        64839414   \n",
       "4   $42,784,000                                  -6%        45751016   \n",
       "\n",
       "   2024 value int percent change in initial assessment int  \\\n",
       "0       153010000                                     913%   \n",
       "1       113828000                                     534%   \n",
       "2        57987250                                     -24%   \n",
       "3        56178000                                     -13%   \n",
       "4        42784000                                      -6%   \n",
       "\n",
       "                      address_full  \\\n",
       "0     1220 West Cortez Chicago, IL   \n",
       "1   3501 South Pulaski Chicago, IL   \n",
       "2     655 West Chicago Chicago, IL   \n",
       "3       2558 West 16th Chicago, IL   \n",
       "4  5490 West Roosevelt Chicago, IL   \n",
       "\n",
       "                                            geocoded  \\\n",
       "0  (1220 W Cortez St, Chicago, IL 60642, USA, (41...   \n",
       "1  (3501 S Pulaski Rd, Chicago, IL 60623, USA, (4...   \n",
       "2  (655 W Chicago Ave, Chicago, IL 60654, USA, (4...   \n",
       "3  (2558 W 16th St, Chicago, IL 60608, USA, (41.8...   \n",
       "4  (5490 W Roosevelt Rd, Chicago, IL 60644, USA, ...   \n",
       "\n",
       "                                   point        lat        lon  altitude  \\\n",
       "0         (41.9012462, -87.6579593, 0.0)  41.901246 -87.657959       0.0   \n",
       "1  (41.8308907, -87.72343219999999, 0.0)  41.830891 -87.723432       0.0   \n",
       "2         (41.8959156, -87.6451605, 0.0)  41.895916 -87.645161       0.0   \n",
       "3         (41.8602243, -87.6898621, 0.0)  41.860224 -87.689862       0.0   \n",
       "4         (41.8672149, -87.7617156, 0.0)  41.867215 -87.761716       0.0   \n",
       "\n",
       "                     geometry  \n",
       "0  POINT (-87.65796 41.90125)  \n",
       "1  POINT (-87.72343 41.83089)  \n",
       "2  POINT (-87.64516 41.89592)  \n",
       "3  POINT (-87.68986 41.86022)  \n",
       "4  POINT (-87.76172 41.86721)  "
      ]
     },
     "execution_count": 13,
     "metadata": {},
     "output_type": "execute_result"
    }
   ],
   "source": [
    "gdf = gpd.GeoDataFrame(df, geometry=gpd.points_from_xy(df.lon, df.lat))\n",
    "\n",
    "# Optionally, set the coordinate reference system (CRS) for the GeoDataFrame\n",
    "gdf.set_crs(epsg=4326, inplace=True)  # EPSG 4326 is the standard WGS 84 latitude and longitude system"
   ]
  },
  {
   "cell_type": "code",
   "execution_count": 14,
   "id": "40a1ed3c",
   "metadata": {},
   "outputs": [],
   "source": [
    "gdf[['geocoded','point']] = gdf[['geocoded','point']].astype(str)"
   ]
  },
  {
   "cell_type": "code",
   "execution_count": 15,
   "id": "777ec3b8",
   "metadata": {},
   "outputs": [],
   "source": [
    "# Export to GeoJSON\n",
    "gdf.to_file(\"top_west_assessments_06_06_24.geojson\", driver='GeoJSON')"
   ]
  }
 ],
 "metadata": {
  "kernelspec": {
   "display_name": "Python 3 (ipykernel)",
   "language": "python",
   "name": "python3"
  },
  "language_info": {
   "codemirror_mode": {
    "name": "ipython",
    "version": 3
   },
   "file_extension": ".py",
   "mimetype": "text/x-python",
   "name": "python",
   "nbconvert_exporter": "python",
   "pygments_lexer": "ipython3",
   "version": "3.9.12"
  }
 },
 "nbformat": 4,
 "nbformat_minor": 5
}
