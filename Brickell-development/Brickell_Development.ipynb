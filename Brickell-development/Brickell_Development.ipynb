{
 "cells": [
  {
   "cell_type": "code",
   "execution_count": 1,
   "metadata": {},
   "outputs": [],
   "source": [
    "from geopy.geocoders import GoogleV3\n",
    "import numpy as np\n",
    "import geocoder\n",
    "import pandas as pd\n",
    "import geopandas as gpd\n",
    "import textwrap\n",
    "from geojson import Feature, FeatureCollection, Point"
   ]
  },
  {
   "cell_type": "code",
   "execution_count": 2,
   "metadata": {},
   "outputs": [],
   "source": [
    "%store -r google_maps_API_Key\n",
    "geolocator = GoogleV3(api_key=google_maps_API_Key)"
   ]
  },
  {
   "cell_type": "code",
   "execution_count": 3,
   "metadata": {},
   "outputs": [],
   "source": [
    "df = pd.read_csv('Miami Neighborhoods New Construction - Brickell.csv')"
   ]
  },
  {
   "cell_type": "code",
   "execution_count": 4,
   "metadata": {},
   "outputs": [
    {
     "name": "stderr",
     "output_type": "stream",
     "text": [
      "C:\\Users\\aefar\\AppData\\Local\\Programs\\Python\\Python38\\lib\\site-packages\\geopandas\\array.py:524: ShapelyDeprecationWarning: The array interface is deprecated and will no longer work in Shapely 2.0. Convert the '.coords' to a numpy array instead.\n",
      "  return _unary_geo(\"centroid\", self)\n",
      "C:\\Users\\aefar\\AppData\\Local\\Programs\\Python\\Python38\\lib\\site-packages\\geopandas\\geoseries.py:133: ShapelyDeprecationWarning: The array interface is deprecated and will no longer work in Shapely 2.0. Convert the '.coords' to a numpy array instead.\n",
      "  data = from_shapely(s.values)\n"
     ]
    }
   ],
   "source": [
    "gpd.io.file.fiona.drvsupport.supported_drivers['KML'] = 'rw'\n",
    "project_gdf = gpd.read_file('Brickell.kml', driver = 'KML')\n",
    "project_gdf['center_point'] = project_gdf.geometry.centroid"
   ]
  },
  {
   "cell_type": "code",
   "execution_count": 5,
   "metadata": {},
   "outputs": [
    {
     "data": {
      "text/html": [
       "<div>\n",
       "<style scoped>\n",
       "    .dataframe tbody tr th:only-of-type {\n",
       "        vertical-align: middle;\n",
       "    }\n",
       "\n",
       "    .dataframe tbody tr th {\n",
       "        vertical-align: top;\n",
       "    }\n",
       "\n",
       "    .dataframe thead th {\n",
       "        text-align: right;\n",
       "    }\n",
       "</style>\n",
       "<table border=\"1\" class=\"dataframe\">\n",
       "  <thead>\n",
       "    <tr style=\"text-align: right;\">\n",
       "      <th></th>\n",
       "      <th>Name</th>\n",
       "      <th>Description</th>\n",
       "      <th>geometry</th>\n",
       "      <th>center_point</th>\n",
       "    </tr>\n",
       "  </thead>\n",
       "  <tbody>\n",
       "    <tr>\n",
       "      <th>0</th>\n",
       "      <td>Brickell</td>\n",
       "      <td></td>\n",
       "      <td>POLYGON Z ((-80.19989 25.74976 0.00000, -80.19...</td>\n",
       "      <td>POINT (-80.19475 25.76096)</td>\n",
       "    </tr>\n",
       "  </tbody>\n",
       "</table>\n",
       "</div>"
      ],
      "text/plain": [
       "       Name Description                                           geometry  \\\n",
       "0  Brickell              POLYGON Z ((-80.19989 25.74976 0.00000, -80.19...   \n",
       "\n",
       "                 center_point  \n",
       "0  POINT (-80.19475 25.76096)  "
      ]
     },
     "execution_count": 5,
     "metadata": {},
     "output_type": "execute_result"
    }
   ],
   "source": [
    "project_gdf"
   ]
  },
  {
   "cell_type": "code",
   "execution_count": 6,
   "metadata": {},
   "outputs": [
    {
     "data": {
      "text/html": [
       "<div>\n",
       "<style scoped>\n",
       "    .dataframe tbody tr th:only-of-type {\n",
       "        vertical-align: middle;\n",
       "    }\n",
       "\n",
       "    .dataframe tbody tr th {\n",
       "        vertical-align: top;\n",
       "    }\n",
       "\n",
       "    .dataframe thead th {\n",
       "        text-align: right;\n",
       "    }\n",
       "</style>\n",
       "<table border=\"1\" class=\"dataframe\">\n",
       "  <thead>\n",
       "    <tr style=\"text-align: right;\">\n",
       "      <th></th>\n",
       "      <th>address</th>\n",
       "      <th>developer</th>\n",
       "      <th>units</th>\n",
       "      <th>acerage</th>\n",
       "      <th>price_sale</th>\n",
       "      <th>price_loan</th>\n",
       "      <th>loan_financer</th>\n",
       "      <th>category</th>\n",
       "      <th>description</th>\n",
       "      <th>story_link</th>\n",
       "      <th>story_attribution</th>\n",
       "    </tr>\n",
       "  </thead>\n",
       "  <tbody>\n",
       "    <tr>\n",
       "      <th>0</th>\n",
       "      <td>888 Brickell Avenue, Miami FL</td>\n",
       "      <td>JDS Development Group, Major Food Group</td>\n",
       "      <td>259.0</td>\n",
       "      <td>NaN</td>\n",
       "      <td>na</td>\n",
       "      <td>na</td>\n",
       "      <td>na</td>\n",
       "      <td>proposed</td>\n",
       "      <td>&lt;a href=\"https://therealdeal.com/miami/2022/05...</td>\n",
       "      <td>https://therealdeal.com/miami/2022/05/25/jds-m...</td>\n",
       "      <td>NaN</td>\n",
       "    </tr>\n",
       "    <tr>\n",
       "      <th>1</th>\n",
       "      <td>102 Southwest Eighth Street, Miami FL</td>\n",
       "      <td>PMG</td>\n",
       "      <td>803.0</td>\n",
       "      <td>NaN</td>\n",
       "      <td>na</td>\n",
       "      <td>na</td>\n",
       "      <td>NaN</td>\n",
       "      <td>proposed</td>\n",
       "      <td>&lt;a href=\"https://therealdeal.com/miami/2022/04...</td>\n",
       "      <td>https://therealdeal.com/miami/2022/04/20/pmg-p...</td>\n",
       "      <td>NaN</td>\n",
       "    </tr>\n",
       "    <tr>\n",
       "      <th>2</th>\n",
       "      <td>609 Brickell Avenue, Miami FL</td>\n",
       "      <td>13th Floor Investments &amp; Key International</td>\n",
       "      <td>NaN</td>\n",
       "      <td>2.2</td>\n",
       "      <td>na</td>\n",
       "      <td>na</td>\n",
       "      <td>NaN</td>\n",
       "      <td>proposed</td>\n",
       "      <td>&lt;a href=\"https://therealdeal.com/miami/2022/02...</td>\n",
       "      <td>https://therealdeal.com/miami/2022/02/28/brick...</td>\n",
       "      <td>NaN</td>\n",
       "    </tr>\n",
       "    <tr>\n",
       "      <th>3</th>\n",
       "      <td>90 Southwest Eighth Street, Miami, FL 33130</td>\n",
       "      <td>Gazit Globe Group</td>\n",
       "      <td>504.0</td>\n",
       "      <td>NaN</td>\n",
       "      <td>29500000</td>\n",
       "      <td>na</td>\n",
       "      <td>NaN</td>\n",
       "      <td>planned</td>\n",
       "      <td>&lt;a href=\"https://therealdeal.com/miami/2022/02...</td>\n",
       "      <td>https://therealdeal.com/miami/2022/02/18/gazit...</td>\n",
       "      <td>NaN</td>\n",
       "    </tr>\n",
       "    <tr>\n",
       "      <th>4</th>\n",
       "      <td>1420 South Miami Avenue, Miami, FL 33130</td>\n",
       "      <td>Mast Capital</td>\n",
       "      <td>1250.0</td>\n",
       "      <td>NaN</td>\n",
       "      <td>103000000</td>\n",
       "      <td>na</td>\n",
       "      <td>NaN</td>\n",
       "      <td>planned</td>\n",
       "      <td>&lt;a href=\"https://therealdeal.com/miami/2021/12...</td>\n",
       "      <td>https://therealdeal.com/miami/2021/12/27/769192/</td>\n",
       "      <td>NaN</td>\n",
       "    </tr>\n",
       "    <tr>\n",
       "      <th>5</th>\n",
       "      <td>99 Southwest Seventh Street, Miami, FL</td>\n",
       "      <td>Harvey Hernandez</td>\n",
       "      <td>NaN</td>\n",
       "      <td>1.6</td>\n",
       "      <td>50500000</td>\n",
       "      <td>55000000</td>\n",
       "      <td>NaN</td>\n",
       "      <td>planned</td>\n",
       "      <td>&lt;a href=\"https://therealdeal.com/miami/2021/09...</td>\n",
       "      <td>https://therealdeal.com/miami/2021/09/15/harve...</td>\n",
       "      <td>NaN</td>\n",
       "    </tr>\n",
       "    <tr>\n",
       "      <th>6</th>\n",
       "      <td>175 Southeast 25th Road, Miami FL</td>\n",
       "      <td>OKO Group</td>\n",
       "      <td>135.0</td>\n",
       "      <td>NaN</td>\n",
       "      <td>na</td>\n",
       "      <td>128300000</td>\n",
       "      <td>Bank OZK</td>\n",
       "      <td>under construction</td>\n",
       "      <td>&lt;a href=\"https://therealdeal.com/miami/2021/04...</td>\n",
       "      <td>https://therealdeal.com/miami/2021/04/20/billi...</td>\n",
       "      <td>NaN</td>\n",
       "    </tr>\n",
       "    <tr>\n",
       "      <th>7</th>\n",
       "      <td>1 Southside Park, Miami FL</td>\n",
       "      <td>JDS Development Group (Michael Stern)</td>\n",
       "      <td>1000.0</td>\n",
       "      <td>1.5</td>\n",
       "      <td>23500000</td>\n",
       "      <td>na</td>\n",
       "      <td>NaN</td>\n",
       "      <td>under construction</td>\n",
       "      <td>&lt;a href=\"https://therealdeal.com/miami/2021/04...</td>\n",
       "      <td>https://therealdeal.com/miami/2021/04/09/micha...</td>\n",
       "      <td>NaN</td>\n",
       "    </tr>\n",
       "    <tr>\n",
       "      <th>8</th>\n",
       "      <td>444 Brickell Avenue, Miami FL</td>\n",
       "      <td>The Related Group, Baccarat</td>\n",
       "      <td>1400.0</td>\n",
       "      <td>4.0</td>\n",
       "      <td>104000000</td>\n",
       "      <td>na</td>\n",
       "      <td>NaN</td>\n",
       "      <td>planned</td>\n",
       "      <td>&lt;a href=\"https://therealdeal.com/miami/2021/02...</td>\n",
       "      <td>https://therealdeal.com/miami/2021/02/04/relat...</td>\n",
       "      <td>NaN</td>\n",
       "    </tr>\n",
       "    <tr>\n",
       "      <th>9</th>\n",
       "      <td>1809 Brickell Avenue, Miami, FL</td>\n",
       "      <td>Related Group &amp; Integra Investments</td>\n",
       "      <td>354.0</td>\n",
       "      <td>3.0</td>\n",
       "      <td>14000000</td>\n",
       "      <td>na</td>\n",
       "      <td>NaN</td>\n",
       "      <td>planned</td>\n",
       "      <td>&lt;a href=\"https://therealdeal.com/miami/2021/12...</td>\n",
       "      <td>https://therealdeal.com/miami/2021/12/16/relat...</td>\n",
       "      <td>NaN</td>\n",
       "    </tr>\n",
       "    <tr>\n",
       "      <th>10</th>\n",
       "      <td>1399 Southwest First Avenue, Miami FL</td>\n",
       "      <td>Eichner's Continuum Company, TSG Group</td>\n",
       "      <td>500.0</td>\n",
       "      <td>1.0</td>\n",
       "      <td>31750000</td>\n",
       "      <td>53000000</td>\n",
       "      <td>NaN</td>\n",
       "      <td>planned</td>\n",
       "      <td>&lt;a href=\"https://therealdeal.com/miami/2020/12...</td>\n",
       "      <td>https://therealdeal.com/miami/2020/12/11/conti...</td>\n",
       "      <td>NaN</td>\n",
       "    </tr>\n",
       "    <tr>\n",
       "      <th>11</th>\n",
       "      <td>239 Southwest 9th Street, Miami FL</td>\n",
       "      <td>Habitat Group</td>\n",
       "      <td>297.0</td>\n",
       "      <td>NaN</td>\n",
       "      <td>9500000</td>\n",
       "      <td>24000000</td>\n",
       "      <td>Ocean Bank</td>\n",
       "      <td>under construction</td>\n",
       "      <td>&lt;a href=\"https://therealdeal.com/miami/2019/11...</td>\n",
       "      <td>https://therealdeal.com/miami/2019/11/14/habit...</td>\n",
       "      <td>NaN</td>\n",
       "    </tr>\n",
       "  </tbody>\n",
       "</table>\n",
       "</div>"
      ],
      "text/plain": [
       "                                        address  \\\n",
       "0                 888 Brickell Avenue, Miami FL   \n",
       "1         102 Southwest Eighth Street, Miami FL   \n",
       "2                 609 Brickell Avenue, Miami FL   \n",
       "3   90 Southwest Eighth Street, Miami, FL 33130   \n",
       "4      1420 South Miami Avenue, Miami, FL 33130   \n",
       "5        99 Southwest Seventh Street, Miami, FL   \n",
       "6             175 Southeast 25th Road, Miami FL   \n",
       "7                    1 Southside Park, Miami FL   \n",
       "8                 444 Brickell Avenue, Miami FL   \n",
       "9               1809 Brickell Avenue, Miami, FL   \n",
       "10        1399 Southwest First Avenue, Miami FL   \n",
       "11           239 Southwest 9th Street, Miami FL   \n",
       "\n",
       "                                     developer   units  acerage price_sale  \\\n",
       "0      JDS Development Group, Major Food Group   259.0      NaN         na   \n",
       "1                                          PMG   803.0      NaN         na   \n",
       "2   13th Floor Investments & Key International     NaN      2.2         na   \n",
       "3                            Gazit Globe Group   504.0      NaN   29500000   \n",
       "4                                 Mast Capital  1250.0      NaN  103000000   \n",
       "5                             Harvey Hernandez     NaN      1.6   50500000   \n",
       "6                                    OKO Group   135.0      NaN         na   \n",
       "7        JDS Development Group (Michael Stern)  1000.0      1.5   23500000   \n",
       "8                  The Related Group, Baccarat  1400.0      4.0  104000000   \n",
       "9          Related Group & Integra Investments   354.0      3.0   14000000   \n",
       "10      Eichner's Continuum Company, TSG Group   500.0      1.0   31750000   \n",
       "11                               Habitat Group   297.0      NaN    9500000   \n",
       "\n",
       "   price_loan loan_financer            category  \\\n",
       "0          na            na            proposed   \n",
       "1          na           NaN            proposed   \n",
       "2          na           NaN            proposed   \n",
       "3          na           NaN             planned   \n",
       "4          na           NaN             planned   \n",
       "5    55000000           NaN             planned   \n",
       "6   128300000      Bank OZK  under construction   \n",
       "7          na           NaN  under construction   \n",
       "8          na           NaN             planned   \n",
       "9          na           NaN             planned   \n",
       "10   53000000           NaN             planned   \n",
       "11   24000000    Ocean Bank  under construction   \n",
       "\n",
       "                                          description  \\\n",
       "0   <a href=\"https://therealdeal.com/miami/2022/05...   \n",
       "1   <a href=\"https://therealdeal.com/miami/2022/04...   \n",
       "2   <a href=\"https://therealdeal.com/miami/2022/02...   \n",
       "3   <a href=\"https://therealdeal.com/miami/2022/02...   \n",
       "4   <a href=\"https://therealdeal.com/miami/2021/12...   \n",
       "5   <a href=\"https://therealdeal.com/miami/2021/09...   \n",
       "6   <a href=\"https://therealdeal.com/miami/2021/04...   \n",
       "7   <a href=\"https://therealdeal.com/miami/2021/04...   \n",
       "8   <a href=\"https://therealdeal.com/miami/2021/02...   \n",
       "9   <a href=\"https://therealdeal.com/miami/2021/12...   \n",
       "10  <a href=\"https://therealdeal.com/miami/2020/12...   \n",
       "11  <a href=\"https://therealdeal.com/miami/2019/11...   \n",
       "\n",
       "                                           story_link  story_attribution  \n",
       "0   https://therealdeal.com/miami/2022/05/25/jds-m...                NaN  \n",
       "1   https://therealdeal.com/miami/2022/04/20/pmg-p...                NaN  \n",
       "2   https://therealdeal.com/miami/2022/02/28/brick...                NaN  \n",
       "3   https://therealdeal.com/miami/2022/02/18/gazit...                NaN  \n",
       "4    https://therealdeal.com/miami/2021/12/27/769192/                NaN  \n",
       "5   https://therealdeal.com/miami/2021/09/15/harve...                NaN  \n",
       "6   https://therealdeal.com/miami/2021/04/20/billi...                NaN  \n",
       "7   https://therealdeal.com/miami/2021/04/09/micha...                NaN  \n",
       "8   https://therealdeal.com/miami/2021/02/04/relat...                NaN  \n",
       "9   https://therealdeal.com/miami/2021/12/16/relat...                NaN  \n",
       "10  https://therealdeal.com/miami/2020/12/11/conti...                NaN  \n",
       "11  https://therealdeal.com/miami/2019/11/14/habit...                NaN  "
      ]
     },
     "execution_count": 6,
     "metadata": {},
     "output_type": "execute_result"
    }
   ],
   "source": [
    "df"
   ]
  },
  {
   "cell_type": "code",
   "execution_count": 7,
   "metadata": {},
   "outputs": [],
   "source": [
    "df['loc'] = df['address'].apply(geolocator.geocode, timeout=10)"
   ]
  },
  {
   "cell_type": "code",
   "execution_count": 8,
   "metadata": {},
   "outputs": [
    {
     "data": {
      "text/plain": [
       "0     (888 Brickell Ave, Miami, FL 33131, USA, (25.7...\n",
       "1     (102 SE 8th St, Miami, FL 33131, USA, (25.7664...\n",
       "2     (609 Brickell Ave, Miami, FL 33131, USA, (25.7...\n",
       "3     (90 SW 8th St, Miami, FL 33130, USA, (25.76606...\n",
       "4     (1420 S Miami Ave, Miami, FL 33130, USA, (25.7...\n",
       "5     (99 SW 7th St, Miami, FL 33130, USA, (25.76748...\n",
       "6     (175 SE 25th Rd, Miami, FL 33129, USA, (25.749...\n",
       "7     (Southside Park, 140 SW 11th St, Miami, FL 331...\n",
       "8     (444 Brickell Ave, Miami, FL 33131, USA, (25.7...\n",
       "9     (1809 Brickell Ave, Miami, FL 33129, USA, (25....\n",
       "10    (1399 SW 1st Ave, Miami, FL 33130, USA, (25.76...\n",
       "11    (239 SW 9th St, Miami, FL 33130, USA, (25.7655...\n",
       "Name: loc, dtype: object"
      ]
     },
     "execution_count": 8,
     "metadata": {},
     "output_type": "execute_result"
    }
   ],
   "source": [
    "df['loc']"
   ]
  },
  {
   "cell_type": "code",
   "execution_count": 9,
   "metadata": {},
   "outputs": [],
   "source": [
    "df['point'] = df['loc'].apply(lambda loc: tuple(loc.point) if loc else None)"
   ]
  },
  {
   "cell_type": "code",
   "execution_count": 10,
   "metadata": {},
   "outputs": [],
   "source": [
    "df[['lat','lon','altitude']] = pd.DataFrame(df['point'].to_list(),index=df.index)"
   ]
  },
  {
   "cell_type": "code",
   "execution_count": 11,
   "metadata": {},
   "outputs": [],
   "source": [
    "# df['image_img_test'] = ' '"
   ]
  },
  {
   "cell_type": "code",
   "execution_count": 12,
   "metadata": {},
   "outputs": [],
   "source": [
    "# df.at[0,'image_img_test']=('<img src=\"Sean_Combs_2010.jpg\" width=\"256\" height=\"174\">')\n",
    "# df.at[1,'image_img_test']=('<img src=\"Sean_Combs_2010.jpg\" width=\"256\" height=\"174\">')\n",
    "# df.at[2,'image_img_test']=('<img src=\"DJ_Khaled_2012.jpg\" width=\"256\" height=\"188\">')\n",
    "# df.at[3,'image_img_test']=('<img src=\"LIL_WAYNE.jpg\" width=\"256\" height=\"252\">')\n",
    "# df.at[4,'image_img_test']=('<img src=\"Lil_Pump.jpg\" width=\"256\" height=\"190\">')\n",
    "# df.at[5,'image_img_test']=('<img src=\"Tripplie_Redd.jpg\" width=\"256\" height=\"170\">')\n",
    "# df.at[6,'image_img_test']=('<img src=\"Rick_Ross.jpg\" width=\"256\" height=\"199\">')\n",
    "# df.at[7,'image_img_test']=('<img src=\"Kodak_Black.jpg\" width=\"256\" height=\"136\">')"
   ]
  },
  {
   "cell_type": "code",
   "execution_count": 13,
   "metadata": {},
   "outputs": [
    {
     "data": {
      "text/plain": [
       "Index(['address', 'developer', 'units', 'acerage', 'price_sale', 'price_loan',\n",
       "       'loan_financer', 'category', 'description', 'story_link',\n",
       "       'story_attribution', 'loc', 'point', 'lat', 'lon', 'altitude'],\n",
       "      dtype='object')"
      ]
     },
     "execution_count": 13,
     "metadata": {},
     "output_type": "execute_result"
    }
   ],
   "source": [
    "df.columns"
   ]
  },
  {
   "cell_type": "code",
   "execution_count": 14,
   "metadata": {},
   "outputs": [
    {
     "data": {
      "text/html": [
       "<div style=\"width:100%;\"><div style=\"position:relative;width:100%;height:0;padding-bottom:60%;\"><span style=\"color:#565656\">Make this Notebook Trusted to load map: File -> Trust Notebook</span><iframe src=\"about:blank\" style=\"position:absolute;width:100%;height:100%;left:0;top:0;border:none !important;\" data-html=%3C%21DOCTYPE%20html%3E%0A%3Chead%3E%20%20%20%20%0A%20%20%20%20%3Cmeta%20http-equiv%3D%22content-type%22%20content%3D%22text/html%3B%20charset%3DUTF-8%22%20/%3E%0A%20%20%20%20%0A%20%20%20%20%20%20%20%20%3Cscript%3E%0A%20%20%20%20%20%20%20%20%20%20%20%20L_NO_TOUCH%20%3D%20false%3B%0A%20%20%20%20%20%20%20%20%20%20%20%20L_DISABLE_3D%20%3D%20false%3B%0A%20%20%20%20%20%20%20%20%3C/script%3E%0A%20%20%20%20%0A%20%20%20%20%3Cstyle%3Ehtml%2C%20body%20%7Bwidth%3A%20100%25%3Bheight%3A%20100%25%3Bmargin%3A%200%3Bpadding%3A%200%3B%7D%3C/style%3E%0A%20%20%20%20%3Cstyle%3E%23map%20%7Bposition%3Aabsolute%3Btop%3A0%3Bbottom%3A0%3Bright%3A0%3Bleft%3A0%3B%7D%3C/style%3E%0A%20%20%20%20%3Cscript%20src%3D%22https%3A//cdn.jsdelivr.net/npm/leaflet%401.6.0/dist/leaflet.js%22%3E%3C/script%3E%0A%20%20%20%20%3Cscript%20src%3D%22https%3A//code.jquery.com/jquery-1.12.4.min.js%22%3E%3C/script%3E%0A%20%20%20%20%3Cscript%20src%3D%22https%3A//maxcdn.bootstrapcdn.com/bootstrap/3.2.0/js/bootstrap.min.js%22%3E%3C/script%3E%0A%20%20%20%20%3Cscript%20src%3D%22https%3A//cdnjs.cloudflare.com/ajax/libs/Leaflet.awesome-markers/2.0.2/leaflet.awesome-markers.js%22%3E%3C/script%3E%0A%20%20%20%20%3Clink%20rel%3D%22stylesheet%22%20href%3D%22https%3A//cdn.jsdelivr.net/npm/leaflet%401.6.0/dist/leaflet.css%22/%3E%0A%20%20%20%20%3Clink%20rel%3D%22stylesheet%22%20href%3D%22https%3A//maxcdn.bootstrapcdn.com/bootstrap/3.2.0/css/bootstrap.min.css%22/%3E%0A%20%20%20%20%3Clink%20rel%3D%22stylesheet%22%20href%3D%22https%3A//maxcdn.bootstrapcdn.com/bootstrap/3.2.0/css/bootstrap-theme.min.css%22/%3E%0A%20%20%20%20%3Clink%20rel%3D%22stylesheet%22%20href%3D%22https%3A//maxcdn.bootstrapcdn.com/font-awesome/4.6.3/css/font-awesome.min.css%22/%3E%0A%20%20%20%20%3Clink%20rel%3D%22stylesheet%22%20href%3D%22https%3A//cdnjs.cloudflare.com/ajax/libs/Leaflet.awesome-markers/2.0.2/leaflet.awesome-markers.css%22/%3E%0A%20%20%20%20%3Clink%20rel%3D%22stylesheet%22%20href%3D%22https%3A//cdn.jsdelivr.net/gh/python-visualization/folium/folium/templates/leaflet.awesome.rotate.min.css%22/%3E%0A%20%20%20%20%0A%20%20%20%20%20%20%20%20%20%20%20%20%3Cmeta%20name%3D%22viewport%22%20content%3D%22width%3Ddevice-width%2C%0A%20%20%20%20%20%20%20%20%20%20%20%20%20%20%20%20initial-scale%3D1.0%2C%20maximum-scale%3D1.0%2C%20user-scalable%3Dno%22%20/%3E%0A%20%20%20%20%20%20%20%20%20%20%20%20%3Cstyle%3E%0A%20%20%20%20%20%20%20%20%20%20%20%20%20%20%20%20%23map_3afdc977fb394b53a549b5216e79f476%20%7B%0A%20%20%20%20%20%20%20%20%20%20%20%20%20%20%20%20%20%20%20%20position%3A%20relative%3B%0A%20%20%20%20%20%20%20%20%20%20%20%20%20%20%20%20%20%20%20%20width%3A%20100.0%25%3B%0A%20%20%20%20%20%20%20%20%20%20%20%20%20%20%20%20%20%20%20%20height%3A%20100.0%25%3B%0A%20%20%20%20%20%20%20%20%20%20%20%20%20%20%20%20%20%20%20%20left%3A%200.0%25%3B%0A%20%20%20%20%20%20%20%20%20%20%20%20%20%20%20%20%20%20%20%20top%3A%200.0%25%3B%0A%20%20%20%20%20%20%20%20%20%20%20%20%20%20%20%20%7D%0A%20%20%20%20%20%20%20%20%20%20%20%20%3C/style%3E%0A%20%20%20%20%20%20%20%20%0A%3C/head%3E%0A%3Cbody%3E%20%20%20%20%0A%20%20%20%20%0A%20%20%20%20%20%20%20%20%20%20%20%20%20%20%3Ch3%20align%3D%22center%22%20style%3D%22font-size%3A16px%22%3E%3Cb%3ENew%20Development%20in%20Brickell%3C/b%3E%3C/h3%3E%0A%20%20%20%20%20%20%20%20%20%20%20%20%20%0A%20%20%20%20%0A%20%20%20%20%20%20%20%20%20%20%20%20%3Cdiv%20class%3D%22folium-map%22%20id%3D%22map_3afdc977fb394b53a549b5216e79f476%22%20%3E%3C/div%3E%0A%20%20%20%20%20%20%20%20%0A%3C/body%3E%0A%3Cscript%3E%20%20%20%20%0A%20%20%20%20%0A%20%20%20%20%20%20%20%20%20%20%20%20var%20map_3afdc977fb394b53a549b5216e79f476%20%3D%20L.map%28%0A%20%20%20%20%20%20%20%20%20%20%20%20%20%20%20%20%22map_3afdc977fb394b53a549b5216e79f476%22%2C%0A%20%20%20%20%20%20%20%20%20%20%20%20%20%20%20%20%7B%0A%20%20%20%20%20%20%20%20%20%20%20%20%20%20%20%20%20%20%20%20center%3A%20%5B25.762883000000002%2C%20-80.194406975%5D%2C%0A%20%20%20%20%20%20%20%20%20%20%20%20%20%20%20%20%20%20%20%20crs%3A%20L.CRS.EPSG3857%2C%0A%20%20%20%20%20%20%20%20%20%20%20%20%20%20%20%20%20%20%20%20zoom%3A%2014.5%2C%0A%20%20%20%20%20%20%20%20%20%20%20%20%20%20%20%20%20%20%20%20zoomControl%3A%20true%2C%0A%20%20%20%20%20%20%20%20%20%20%20%20%20%20%20%20%20%20%20%20preferCanvas%3A%20false%2C%0A%20%20%20%20%20%20%20%20%20%20%20%20%20%20%20%20%7D%0A%20%20%20%20%20%20%20%20%20%20%20%20%29%3B%0A%0A%20%20%20%20%20%20%20%20%20%20%20%20%0A%0A%20%20%20%20%20%20%20%20%0A%20%20%20%20%0A%20%20%20%20%20%20%20%20%20%20%20%20var%20tile_layer_a97928b6d27545f6bae93092185907ba%20%3D%20L.tileLayer%28%0A%20%20%20%20%20%20%20%20%20%20%20%20%20%20%20%20%22https%3A//%7Bs%7D.tile.openstreetmap.org/%7Bz%7D/%7Bx%7D/%7By%7D.png%22%2C%0A%20%20%20%20%20%20%20%20%20%20%20%20%20%20%20%20%7B%22attribution%22%3A%20%22Data%20by%20%5Cu0026copy%3B%20%5Cu003ca%20href%3D%5C%22http%3A//openstreetmap.org%5C%22%5Cu003eOpenStreetMap%5Cu003c/a%5Cu003e%2C%20under%20%5Cu003ca%20href%3D%5C%22http%3A//www.openstreetmap.org/copyright%5C%22%5Cu003eODbL%5Cu003c/a%5Cu003e.%22%2C%20%22detectRetina%22%3A%20false%2C%20%22maxNativeZoom%22%3A%2018%2C%20%22maxZoom%22%3A%2018%2C%20%22minZoom%22%3A%200%2C%20%22noWrap%22%3A%20false%2C%20%22opacity%22%3A%201%2C%20%22subdomains%22%3A%20%22abc%22%2C%20%22tms%22%3A%20false%7D%0A%20%20%20%20%20%20%20%20%20%20%20%20%29.addTo%28map_3afdc977fb394b53a549b5216e79f476%29%3B%0A%20%20%20%20%20%20%20%20%0A%20%20%20%20%0A%0A%20%20%20%20%20%20%20%20function%20geo_json_de614f99c84643d7bce6ef7d0515d6b2_onEachFeature%28feature%2C%20layer%29%20%7B%0A%20%20%20%20%20%20%20%20%20%20%20%20layer.on%28%7B%0A%20%20%20%20%20%20%20%20%20%20%20%20%7D%29%3B%0A%20%20%20%20%20%20%20%20%7D%3B%0A%20%20%20%20%20%20%20%20var%20geo_json_de614f99c84643d7bce6ef7d0515d6b2%20%3D%20L.geoJson%28null%2C%20%7B%0A%20%20%20%20%20%20%20%20%20%20%20%20%20%20%20%20onEachFeature%3A%20geo_json_de614f99c84643d7bce6ef7d0515d6b2_onEachFeature%2C%0A%20%20%20%20%20%20%20%20%20%20%20%20%0A%20%20%20%20%20%20%20%20%7D%29%3B%0A%0A%20%20%20%20%20%20%20%20function%20geo_json_de614f99c84643d7bce6ef7d0515d6b2_add%20%28data%29%20%7B%0A%20%20%20%20%20%20%20%20%20%20%20%20geo_json_de614f99c84643d7bce6ef7d0515d6b2%0A%20%20%20%20%20%20%20%20%20%20%20%20%20%20%20%20.addData%28data%29%0A%20%20%20%20%20%20%20%20%20%20%20%20%20%20%20%20.addTo%28map_3afdc977fb394b53a549b5216e79f476%29%3B%0A%20%20%20%20%20%20%20%20%7D%0A%20%20%20%20%20%20%20%20%20%20%20%20geo_json_de614f99c84643d7bce6ef7d0515d6b2_add%28%7B%22bbox%22%3A%20%5B-80.2055368665995%2C%2025.74821235490068%2C%20-80.18279101874228%2C%2025.77012937428663%5D%2C%20%22features%22%3A%20%5B%7B%22bbox%22%3A%20%5B-80.2055368665995%2C%2025.74821235490068%2C%20-80.18279101874228%2C%2025.77012937428663%5D%2C%20%22geometry%22%3A%20%7B%22coordinates%22%3A%20%5B%5B%5B-80.19988747410984%2C%2025.74976449047574%2C%200.0%5D%2C%20%5B-80.19730704011616%2C%2025.75245851343437%2C%200.0%5D%2C%20%5B-80.19407373851587%2C%2025.75448207340648%2C%200.0%5D%2C%20%5B-80.19094358121323%2C%2025.75640157406727%2C%200.0%5D%2C%20%5B-80.19086844557789%2C%2025.75645258410231%2C%200.0%5D%2C%20%5B-80.19075581999316%2C%2025.75652881338211%2C%200.0%5D%2C%20%5B-80.1906483108031%2C%2025.75657556667785%2C%200.0%5D%2C%20%5B-80.19055125713118%2C%2025.75674615801364%2C%200.0%5D%2C%20%5B-80.19050814215427%2C%2025.75680158146596%2C%200.0%5D%2C%20%5B-80.19042708115619%2C%2025.75688291047524%2C%200.0%5D%2C%20%5B-80.19029199845384%2C%2025.75689610270557%2C%200.0%5D%2C%20%5B-80.1901459185358%2C%2025.75696907376395%2C%200.0%5D%2C%20%5B-80.19001070865217%2C%2025.75698217954284%2C%200.0%5D%2C%20%5B-80.1898642921068%2C%2025.75705527918618%2C%200.0%5D%2C%20%5B-80.18972327843761%2C%2025.75709844349258%2C%200.0%5D%2C%20%5B-80.18959787011539%2C%2025.75723585768341%2C%200.0%5D%2C%20%5B-80.18954276052976%2C%2025.75735210710767%2C%200.0%5D%2C%20%5B-80.18948766095524%2C%2025.7574684123091%2C%200.0%5D%2C%20%5B-80.18943794652083%2C%2025.75755498081095%2C%200.0%5D%2C%20%5B-80.18932309184709%2C%2025.75763298238187%2C%200.0%5D%2C%20%5B-80.18923483320322%2C%2025.75774585051484%2C%200.0%5D%2C%20%5B-80.18917896469284%2C%2025.75786333862574%2C%200.0%5D%2C%20%5B-80.18908459917799%2C%2025.75800710719178%2C%200.0%5D%2C%20%5B-80.18903419104142%2C%2025.75809471257371%2C%200.0%5D%2C%20%5B-80.18901064791989%2C%2025.75821725484879%2C%200.0%5D%2C%20%5B-80.18898210240934%2C%2025.75836934959538%2C%200.0%5D%2C%20%5B-80.18895845908055%2C%2025.75849240727909%2C%200.0%5D%2C%20%5B-80.18896183931065%2C%2025.75865063436713%2C%200.0%5D%2C%20%5B-80.18897115524621%2C%2025.75877830030479%2C%200.0%5D%2C%20%5B-80.18897455734702%2C%2025.75893720489177%2C%200.0%5D%2C%20%5B-80.18902292914652%2C%2025.7590384253666%2C%200.0%5D%2C%20%5B-80.18903825484529%2C%2025.75913571353779%2C%200.0%5D%2C%20%5B-80.18900859421211%2C%2025.75929138311393%2C%200.0%5D%2C%20%5B-80.18898481364037%2C%2025.75941619303602%2C%200.0%5D%2C%20%5B-80.18899377489426%2C%2025.75954605953131%2C%200.0%5D%2C%20%5B-80.18896378715364%2C%2025.75970304550307%2C%200.0%5D%2C%20%5B-80.18896716569199%2C%2025.75986425214619%2C%200.0%5D%2C%20%5B-80.18893760633726%2C%2025.76002106150212%2C%200.0%5D%2C%20%5B-80.18894842608675%2C%2025.76014874469087%2C%200.0%5D%2C%20%5B-80.18895780290599%2C%2025.7602793120193%2C%200.0%5D%2C%20%5B-80.1889339905675%2C%2025.76040564514805%2C%200.0%5D%2C%20%5B-80.18893741930039%2C%2025.76056837105474%2C%200.0%5D%2C%20%5B-80.18891352457084%2C%2025.76069527253417%2C%200.0%5D%2C%20%5B-80.18888348408291%2C%2025.76085445125323%2C%200.0%5D%2C%20%5B-80.18886542017319%2C%2025.76095015254695%2C%200.0%5D%2C%20%5B-80.18884119156775%2C%2025.76107817407035%2C%200.0%5D%2C%20%5B-80.18881691410662%2C%2025.7612064506491%2C%200.0%5D%2C%20%5B-80.18885975019823%2C%2025.76134347378513%2C%200.0%5D%2C%20%5B-80.18886904231395%2C%2025.76147654404555%2C%200.0%5D%2C%20%5B-80.18883864802848%2C%2025.76163786885126%2C%200.0%5D%2C%20%5B-80.18888254015334%2C%2025.76177384328748%2C%200.0%5D%2C%20%5B-80.18889571485576%2C%2025.76189949305011%2C%200.0%5D%2C%20%5B-80.18890299199211%2C%2025.76203809056299%2C%200.0%5D%2C%20%5B-80.18887842749668%2C%2025.76216859220809%2C%200.0%5D%2C%20%5B-80.18884802619522%2C%2025.76233126757592%2C%200.0%5D%2C%20%5B-80.18881754981616%2C%2025.76249434184552%2C%200.0%5D%2C%20%5B-80.18886076666175%2C%2025.76263390625613%2C%200.0%5D%2C%20%5B-80.18883022680097%2C%2025.76279773921551%2C%200.0%5D%2C%20%5B-80.18879290892869%2C%2025.76299619738396%2C%200.0%5D%2C%20%5B-80.18876067782348%2C%2025.76316449579028%2C%200.0%5D%2C%20%5B-80.18873611565066%2C%2025.7632964623878%2C%200.0%5D%2C%20%5B-80.18869926011236%2C%2025.76349471393891%2C%200.0%5D%2C%20%5B-80.18866862951735%2C%2025.76365997042098%2C%200.0%5D%2C%20%5B-80.1886388522957%2C%2025.76382339025946%2C%200.0%5D%2C%20%5B-80.1886177552968%2C%2025.76394766787457%2C%200.0%5D%2C%20%5B-80.18859330332064%2C%2025.7640801503607%2C%200.0%5D%2C%20%5B-80.1885688064783%2C%2025.76421287533382%2C%200.0%5D%2C%20%5B-80.18857807341035%2C%2025.76435135653941%2C%200.0%5D%2C%20%5B-80.1885473696321%2C%2025.76451792721056%2C%200.0%5D%2C%20%5B-80.18854415015772%2C%2025.7647243169557%2C%200.0%5D%2C%20%5B-80.18851299140822%2C%2025.76489260681625%2C%200.0%5D%2C%20%5B-80.18848175708018%2C%2025.76506130394945%2C%200.0%5D%2C%20%5B-80.18846298015431%2C%2025.7651627179047%2C%200.0%5D%2C%20%5B-80.18843162445765%2C%2025.76533206986386%2C%200.0%5D%2C%20%5B-80.18839764067204%2C%2025.76550847034121%2C%200.0%5D%2C%20%5B-80.18836226385864%2C%2025.76568880612951%2C%200.0%5D%2C%20%5B-80.18836897203431%2C%2025.76583687942716%2C%200.0%5D%2C%20%5B-80.1883786346222%2C%2025.76597752720609%2C%200.0%5D%2C%20%5B-80.18835358835659%2C%2025.76611394980895%2C%200.0%5D%2C%20%5B-80.18836974254101%2C%2025.76622032632408%2C%200.0%5D%2C%20%5B-80.18833160006166%2C%2025.76642703728247%2C%200.0%5D%2C%20%5B-80.18830610909032%2C%2025.76656518290781%2C%200.0%5D%2C%20%5B-80.18830912562153%2C%2025.7667425484144%2C%200.0%5D%2C%20%5B-80.18828355637004%2C%2025.76688130937012%2C%200.0%5D%2C%20%5B-80.18824505499025%2C%2025.76709011386571%2C%200.0%5D%2C%20%5B-80.18822572079932%2C%2025.76719486304725%2C%200.0%5D%2C%20%5B-80.18819343307779%2C%2025.76736979467092%2C%200.0%5D%2C%20%5B-80.18820268243435%2C%2025.76751438320692%2C%200.0%5D%2C%20%5B-80.18821195108742%2C%2025.76765925799358%2C%200.0%5D%2C%20%5B-80.18822123759969%2C%2025.76780441909447%2C%200.0%5D%2C%20%5B-80.1882305427665%2C%2025.76794987112236%2C%200.0%5D%2C%20%5B-80.18819772859652%2C%2025.7681277438096%2C%200.0%5D%2C%20%5B-80.18816423887235%2C%2025.76830783988213%2C%200.0%5D%2C%20%5B-80.18813276469331%2C%2025.76848214620672%2C%200.0%5D%2C%20%5B-80.18814165379017%2C%2025.76863009886405%2C%200.0%5D%2C%20%5B-80.18811517615217%2C%2025.76877381176848%2C%200.0%5D%2C%20%5B-80.18808864206767%2C%2025.76891783168177%2C%200.0%5D%2C%20%5B-80.18809760083171%2C%2025.76906645231638%2C%200.0%5D%2C%20%5B-80.18722643354391%2C%2025.76926972190528%2C%200.0%5D%2C%20%5B-80.18717963638935%2C%2025.76912477622434%2C%200.0%5D%2C%20%5B-80.18717142611416%2C%2025.76897649373213%2C%200.0%5D%2C%20%5B-80.18716323254895%2C%2025.76882851263875%2C%200.0%5D%2C%20%5B-80.18711972240921%2C%2025.76867612396067%2C%200.0%5D%2C%20%5B-80.18711106154271%2C%2025.76853011933177%2C%200.0%5D%2C%20%5B-80.18703256196896%2C%2025.76837329652857%2C%200.0%5D%2C%20%5B-80.18698899247869%2C%2025.7682226230914%2C%200.0%5D%2C%20%5B-80.18694526271791%2C%2025.76807284272406%2C%200.0%5D%2C%20%5B-80.18690205915341%2C%2025.76792227862399%2C%200.0%5D%2C%20%5B-80.18682418569398%2C%2025.76776647791435%2C%200.0%5D%2C%20%5B-80.18673963527685%2C%2025.76764616572238%2C%200.0%5D%2C%20%5B-80.1866965945676%2C%2025.76749682632207%2C%200.0%5D%2C%20%5B-80.18661229632058%2C%2025.76737695368454%2C%200.0%5D%2C%20%5B-80.18656951165623%2C%2025.76722802270003%2C%200.0%5D%2C%20%5B-80.18652719265589%2C%2025.76707855082947%2C%200.0%5D%2C%20%5B-80.1864492174618%2C%2025.76692647706738%2C%200.0%5D%2C%20%5B-80.18644074125014%2C%2025.76678487823308%2C%200.0%5D%2C%20%5B-80.18643257485071%2C%2025.76664292204146%2C%200.0%5D%2C%20%5B-80.18638991943276%2C%2025.76649590085385%2C%200.0%5D%2C%20%5B-80.18634738656655%2C%2025.76634906999578%2C%200.0%5D%2C%20%5B-80.18627058093546%2C%2025.76619707435312%2C%200.0%5D%2C%20%5B-80.18619392985838%2C%2025.76604538205719%2C%200.0%5D%2C%20%5B-80.18611083087632%2C%2025.76592774903276%2C%200.0%5D%2C%20%5B-80.18596667459056%2C%2025.76576454890095%2C%200.0%5D%2C%20%5B-80.18587692581481%2C%2025.76568166647401%2C%200.0%5D%2C%20%5B-80.18576096529728%2C%2025.76555771981152%2C%200.0%5D%2C%20%5B-80.1856437094584%2C%2025.76543665198456%2C%200.0%5D%2C%20%5B-80.18556479727371%2C%2025.76531418341023%2C%200.0%5D%2C%20%5B-80.18545187912585%2C%2025.76518691294928%2C%200.0%5D%2C%20%5B-80.18537142141518%2C%2025.76506826635792%2C%200.0%5D%2C%20%5B-80.18529015039648%2C%2025.76495141183605%2C%200.0%5D%2C%20%5B-80.18524793019138%2C%2025.76480960419648%2C%200.0%5D%2C%20%5B-80.18517131731979%2C%2025.76466358891207%2C%200.0%5D%2C%20%5B-80.18512839749627%2C%2025.76452356316948%2C%200.0%5D%2C%20%5B-80.18504417608668%2C%2025.76441269346516%2C%200.0%5D%2C%20%5B-80.18500059312129%2C%2025.76427420256385%2C%200.0%5D%2C%20%5B-80.1849520378915%2C%2025.76416633676106%2C%200.0%5D%2C%20%5B-80.18486905942302%2C%2025.76405434746956%2C%200.0%5D%2C%20%5B-80.18478617825907%2C%2025.76394248724972%2C%200.0%5D%2C%20%5B-80.18466291558305%2C%2025.76385830912018%2C%200.0%5D%2C%20%5B-80.18454003052149%2C%2025.76377383609016%2C%200.0%5D%2C%20%5B-80.18441559466436%2C%2025.76386045472276%2C%200.0%5D%2C%20%5B-80.18431086254168%2C%2025.7640184873228%2C%200.0%5D%2C%20%5B-80.18425481172402%2C%2025.76411433696747%2C%200.0%5D%2C%20%5B-80.18415775501177%2C%2025.76423835942423%2C%200.0%5D%2C%20%5B-80.18406116689489%2C%2025.76436173354968%2C%200.0%5D%2C%20%5B-80.18402543291842%2C%2025.76452873915318%2C%200.0%5D%2C%20%5B-80.18391819796103%2C%2025.76469043020809%2C%200.0%5D%2C%20%5B-80.18389584094427%2C%2025.76479213030009%2C%200.0%5D%2C%20%5B-80.18383098045743%2C%2025.76492404898591%2C%200.0%5D%2C%20%5B-80.18379339938475%2C%2025.76509440477665%2C%200.0%5D%2C%20%5B-80.18372713377522%2C%2025.76522854755609%2C%200.0%5D%2C%20%5B-80.18368922227809%2C%2025.7653998499372%2C%200.0%5D%2C%20%5B-80.18362431395757%2C%2025.76553235702053%2C%200.0%5D%2C%20%5B-80.18355931970453%2C%2025.76566506349893%2C%200.0%5D%2C%20%5B-80.18352895221838%2C%2025.76580265016925%2C%200.0%5D%2C%20%5B-80.18349851088807%2C%2025.76594052656314%2C%200.0%5D%2C%20%5B-80.18346800873547%2C%2025.76607868007988%2C%200.0%5D%2C%20%5B-80.18342979445687%2C%2025.76625176460312%2C%200.0%5D%2C%20%5B-80.18337614701656%2C%2025.76649479533193%2C%200.0%5D%2C%20%5B-80.18336847414835%2C%2025.7665295733366%2C%200.0%5D%2C%20%5B-80.18332236116584%2C%2025.76673860477217%2C%200.0%5D%2C%20%5B-80.18328498580138%2C%2025.76691154619715%2C%200.0%5D%2C%20%5B-80.18324023105215%2C%2025.76711928474371%2C%200.0%5D%2C%20%5B-80.18321032610754%2C%2025.76725809437944%2C%200.0%5D%2C%20%5B-80.18315786036813%2C%2025.76750161974731%2C%200.0%5D%2C%20%5B-80.18311984143125%2C%2025.76767672375131%2C%200.0%5D%2C%20%5B-80.18308743322277%2C%2025.76782009801932%2C%200.0%5D%2C%20%5B-80.18304013687708%2C%2025.76803349270714%2C%200.0%5D%2C%20%5B-80.18300918426141%2C%2025.76817508347615%2C%200.0%5D%2C%20%5B-80.18297118641097%2C%2025.7683512298328%2C%200.0%5D%2C%20%5B-80.18293451933401%2C%2025.76852551978948%2C%200.0%5D%2C%20%5B-80.18290433103593%2C%2025.76866649711748%2C%200.0%5D%2C%20%5B-80.18287408911988%2C%2025.76880772569054%2C%200.0%5D%2C%20%5B-80.18283522179644%2C%2025.76898621712829%2C%200.0%5D%2C%20%5B-80.18279101874228%2C%2025.76917369250704%2C%200.0%5D%2C%20%5B-80.18280152338812%2C%2025.76928877911789%2C%200.0%5D%2C%20%5B-80.1829416327887%2C%2025.76933456207649%2C%200.0%5D%2C%20%5B-80.18307755619213%2C%2025.76938730275618%2C%200.0%5D%2C%20%5B-80.18320199597551%2C%2025.76948260858211%2C%200.0%5D%2C%20%5B-80.183367954137%2C%2025.76955026046894%2C%200.0%5D%2C%20%5B-80.18357832739586%2C%2025.76958512446803%2C%200.0%5D%2C%20%5B-80.18371861183807%2C%2025.76960850186884%2C%200.0%5D%2C%20%5B-80.1838614487851%2C%2025.76962728696203%2C%200.0%5D%2C%20%5B-80.18403999471055%2C%2025.76965076783007%2C%200.0%5D%2C%20%5B-80.1842440754926%2C%2025.76956016414104%2C%200.0%5D%2C%20%5B-80.18443803142546%2C%2025.76951018020627%2C%200.0%5D%2C%20%5B-80.1845803760613%2C%2025.76952947565119%2C%200.0%5D%2C%20%5B-80.18476676637538%2C%2025.76951538687514%2C%200.0%5D%2C%20%5B-80.18499733406284%2C%2025.76946717087646%2C%200.0%5D%2C%20%5B-80.18511249272905%2C%2025.76944308924367%2C%200.0%5D%2C%20%5B-80.18517425853646%2C%2025.76933080241628%2C%200.0%5D%2C%20%5B-80.18549455129865%2C%2025.76937234931334%2C%200.0%5D%2C%20%5B-80.18571333656557%2C%2025.76938831093074%2C%200.0%5D%2C%20%5B-80.18599483620929%2C%2025.7694321613047%2C%200.0%5D%2C%20%5B-80.1862375971526%2C%2025.76947944518346%2C%200.0%5D%2C%20%5B-80.18641108260937%2C%2025.76951362636588%2C%200.0%5D%2C%20%5B-80.18655415230388%2C%2025.76953067053259%2C%200.0%5D%2C%20%5B-80.18669753779781%2C%2025.76954683848443%2C%200.0%5D%2C%20%5B-80.18685549559339%2C%2025.76948866861702%2C%200.0%5D%2C%20%5B-80.18711519833936%2C%2025.76928627161563%2C%200.0%5D%2C%20%5B-80.18719234282658%2C%2025.76926130106565%2C%200.0%5D%2C%20%5B-80.18785968160171%2C%2025.76937015682289%2C%200.0%5D%2C%20%5B-80.18785294786726%2C%2025.7694064769033%2C%200.0%5D%2C%20%5B-80.18789715874581%2C%2025.76956114866546%2C%200.0%5D%2C%20%5B-80.18802636849543%2C%2025.769651652311%2C%200.0%5D%2C%20%5B-80.18816326666692%2C%2025.76970287756321%2C%200.0%5D%2C%20%5B-80.1883423858728%2C%2025.7697223066528%2C%200.0%5D%2C%20%5B-80.18848541741525%2C%2025.76973855676496%2C%200.0%5D%2C%20%5B-80.18863410159946%2C%2025.7697212754498%2C%200.0%5D%2C%20%5B-80.18881745254863%2C%2025.7697116644348%2C%200.0%5D%2C%20%5B-80.18904246617782%2C%2025.76967134348947%2C%200.0%5D%2C%20%5B-80.18926779925859%2C%2025.76962926728468%2C%200.0%5D%2C%20%5B-80.18937481100865%2C%2025.76964167095198%2C%200.0%5D%2C%20%5B-80.18955313031455%2C%2025.76966231853134%2C%200.0%5D%2C%20%5B-80.1896957086148%2C%2025.76967900552212%2C%200.0%5D%2C%20%5B-80.18983788827805%2C%2025.76969734342785%2C%200.0%5D%2C%20%5B-80.19001560592432%2C%2025.76972026416095%2C%200.0%5D%2C%20%5B-80.19019318774353%2C%2025.76974381283196%2C%200.0%5D%2C%20%5B-80.1903350157156%2C%2025.76976388641847%2C%200.0%5D%2C%20%5B-80.1904708806874%2C%2025.76982015900543%2C%200.0%5D%2C%20%5B-80.19061293281081%2C%2025.76983944281166%2C%200.0%5D%2C%20%5B-80.19079061110216%2C%2025.76986296264455%2C%200.0%5D%2C%20%5B-80.19096839509969%2C%2025.76988595655187%2C%200.0%5D%2C%20%5B-80.19118173015809%2C%2025.76991334053102%2C%200.0%5D%2C%20%5B-80.19135950548419%2C%2025.76993616153642%2C%200.0%5D%2C%20%5B-80.19153727191333%2C%2025.76995898050448%2C%200.0%5D%2C%20%5B-80.19171502768182%2C%2025.76998179718563%2C%200.0%5D%2C%20%5B-80.19192832347899%2C%2025.77000917689317%2C%200.0%5D%2C%20%5B-80.19207022906032%2C%2025.77003020800658%2C%200.0%5D%2C%20%5B-80.19221245271785%2C%2025.77004830517572%2C%200.0%5D%2C%20%5B-80.19236019058168%2C%2025.77002987950041%2C%200.0%5D%2C%20%5B-80.19248852828669%2C%2025.76990049112564%2C%200.0%5D%2C%20%5B-80.19264130043098%2C%2025.76984761011082%2C%200.0%5D%2C%20%5B-80.1927638833563%2C%2025.76975357572739%2C%200.0%5D%2C%20%5B-80.19285089948569%2C%2025.76965432935383%2C%200.0%5D%2C%20%5B-80.1929431212752%2C%2025.76951907867064%2C%200.0%5D%2C%20%5B-80.19306519482824%2C%2025.76942493570702%2C%200.0%5D%2C%20%5B-80.19318705897452%2C%2025.76933128832265%2C%200.0%5D%2C%20%5B-80.19330877262709%2C%2025.76923710924641%2C%200.0%5D%2C%20%5B-80.19343031389708%2C%2025.76914242984361%2C%200.0%5D%2C%20%5B-80.19358682601194%2C%2025.76905536662389%2C%200.0%5D%2C%20%5B-80.19370792217208%2C%2025.76896271385851%2C%200.0%5D%2C%20%5B-80.1938589744744%2C%2025.76891049753655%2C%200.0%5D%2C%20%5B-80.19401490531232%2C%2025.76882228842765%2C%200.0%5D%2C%20%5B-80.19417060576447%2C%2025.7687340749088%2C%200.0%5D%2C%20%5B-80.1943260643494%2C%2025.7686455207838%2C%200.0%5D%2C%20%5B-80.19444126575459%2C%2025.76858789007176%2C%200.0%5D%2C%20%5B-80.19459147561852%2C%2025.7685363650488%2C%200.0%5D%2C%20%5B-80.1947463495517%2C%2025.76844860595973%2C%200.0%5D%2C%20%5B-80.1948914017285%2C%2025.76843103277341%2C%200.0%5D%2C%20%5B-80.19506666514116%2C%2025.76845340220062%2C%200.0%5D%2C%20%5B-80.19521159960568%2C%2025.76843641909134%2C%200.0%5D%2C%20%5B-80.19535627827157%2C%2025.76841847000382%2C%200.0%5D%2C%20%5B-80.19550095956338%2C%2025.76840036335171%2C%200.0%5D%2C%20%5B-80.19565022439771%2C%2025.76834650146943%2C%200.0%5D%2C%20%5B-80.19579467994079%2C%2025.76832834151661%2C%200.0%5D%2C%20%5B-80.19596944771087%2C%2025.76835075574182%2C%200.0%5D%2C%20%5B-80.19610985077988%2C%2025.76837128907527%2C%200.0%5D%2C%20%5B-80.19628527800816%2C%2025.76839785325281%2C%200.0%5D%2C%20%5B-80.19642544237085%2C%2025.76841718941129%2C%200.0%5D%2C%20%5B-80.1965653671096%2C%2025.76843479186834%2C%200.0%5D%2C%20%5B-80.19674023861167%2C%2025.76845676386234%2C%200.0%5D%2C%20%5B-80.19694583933486%2C%2025.76851862833625%2C%200.0%5D%2C%20%5B-80.19708579997018%2C%2025.76853630056702%2C%200.0%5D%2C%20%5B-80.19722150822423%2C%2025.76858941946003%2C%200.0%5D%2C%20%5B-80.19735778841401%2C%2025.76864511131688%2C%200.0%5D%2C%20%5B-80.19749006423493%2C%2025.76873628456782%2C%200.0%5D%2C%20%5B-80.19758295453137%2C%2025.76885690755548%2C%200.0%5D%2C%20%5B-80.19771928732183%2C%2025.76891129171706%2C%200.0%5D%2C%20%5B-80.19785563451921%2C%2025.76896547392234%2C%200.0%5D%2C%20%5B-80.19799210974783%2C%2025.76901971483649%2C%200.0%5D%2C%20%5B-80.19812461468756%2C%2025.76910940136613%2C%200.0%5D%2C%20%5B-80.19830004933206%2C%2025.76913158902107%2C%200.0%5D%2C%20%5B-80.1984014314628%2C%2025.76918066789853%2C%200.0%5D%2C%20%5B-80.19853412164949%2C%2025.76927001605397%2C%200.0%5D%2C%20%5B-80.19866694208255%2C%2025.769359450025%2C%200.0%5D%2C%20%5B-80.19879611868471%2C%2025.76948488358017%2C%200.0%5D%2C%20%5B-80.19892936402239%2C%2025.76957512620897%2C%200.0%5D%2C%20%5B-80.19902014480711%2C%2025.76973290264544%2C%200.0%5D%2C%20%5B-80.19904029726256%2C%2025.76988117779061%2C%200.0%5D%2C%20%5B-80.19917020696384%2C%2025.77000748898384%2C%200.0%5D%2C%20%5B-80.19926500320484%2C%2025.77012937428663%2C%200.0%5D%2C%20%5B-80.19940994234936%2C%2025.77011161086575%2C%200.0%5D%2C%20%5B-80.19949506320505%2C%2025.76997615271049%2C%200.0%5D%2C%20%5B-80.1995797907714%2C%2025.76984035044609%2C%200.0%5D%2C%20%5B-80.19959426298468%2C%2025.7696969511152%2C%200.0%5D%2C%20%5B-80.19967943455087%2C%2025.76956407742262%2C%200.0%5D%2C%20%5B-80.19976406270472%2C%2025.76943037720516%2C%200.0%5D%2C%20%5B-80.19981357023211%2C%2025.76929272354693%2C%200.0%5D%2C%20%5B-80.19986257577106%2C%2025.76915411824856%2C%200.0%5D%2C%20%5B-80.19991125509017%2C%2025.76901512723694%2C%200.0%5D%2C%20%5B-80.19992844222323%2C%2025.76883682751667%2C%200.0%5D%2C%20%5B-80.19994569847641%2C%2025.76865930768854%2C%200.0%5D%2C%20%5B-80.19999451549556%2C%2025.76852258448604%2C%200.0%5D%2C%20%5B-80.20000813778918%2C%2025.76838082353937%2C%200.0%5D%2C%20%5B-80.20002109513807%2C%2025.76823765363867%2C%200.0%5D%2C%20%5B-80.20003688604892%2C%2025.7680580669269%2C%200.0%5D%2C%20%5B-80.20001478498592%2C%2025.76791021033052%2C%200.0%5D%2C%20%5B-80.2000279059152%2C%2025.76776880529671%2C%200.0%5D%2C%20%5B-80.20004463052614%2C%2025.7675933857117%2C%200.0%5D%2C%20%5B-80.2000579747476%2C%2025.7674533838731%2C%200.0%5D%2C%20%5B-80.2000369664744%2C%2025.76730985833973%2C%200.0%5D%2C%20%5B-80.20005071766555%2C%2025.76717161440171%2C%200.0%5D%2C%20%5B-80.19999546829018%2C%2025.76702472446334%2C%200.0%5D%2C%20%5B-80.19997440001158%2C%2025.76688156011481%2C%200.0%5D%2C%20%5B-80.19991919185787%2C%2025.76673487035374%2C%200.0%5D%2C%20%5B-80.19989853266415%2C%2025.76659306670044%2C%200.0%5D%2C%20%5B-80.19987810520642%2C%2025.76645204108231%2C%200.0%5D%2C%20%5B-80.19982277298654%2C%2025.76630519108944%2C%200.0%5D%2C%20%5B-80.19983640923556%2C%2025.76616835656881%2C%200.0%5D%2C%20%5B-80.19985020989668%2C%2025.76603219268385%2C%200.0%5D%2C%20%5B-80.19986378831837%2C%2025.76589585449715%2C%200.0%5D%2C%20%5B-80.19984315598099%2C%2025.76575535020471%2C%200.0%5D%2C%20%5B-80.19982272386353%2C%2025.76561554744329%2C%200.0%5D%2C%20%5B-80.19980203638636%2C%2025.76547527466721%2C%200.0%5D%2C%20%5B-80.19981580775551%2C%2025.76529823726322%2C%200.0%5D%2C%20%5B-80.19982635471513%2C%2025.76511400371684%2C%200.0%5D%2C%20%5B-80.1998398220322%2C%2025.76497966047605%2C%200.0%5D%2C%20%5B-80.19982067040179%2C%2025.7648443987197%2C%200.0%5D%2C%20%5B-80.19983821214798%2C%2025.76467892289021%2C%200.0%5D%2C%20%5B-80.199819752611%2C%2025.76454570020891%2C%200.0%5D%2C%20%5B-80.19976908737502%2C%2025.76441205172055%2C%200.0%5D%2C%20%5B-80.19978291159559%2C%2025.76427979531248%2C%200.0%5D%2C%20%5B-80.19972905216518%2C%2025.76413871836616%2C%200.0%5D%2C%20%5B-80.19961985952243%2C%2025.76389422485174%2C%200.0%5D%2C%20%5B-80.19956003059113%2C%2025.76382121552947%2C%200.0%5D%2C%20%5B-80.19951199569509%2C%2025.76361183248218%2C%200.0%5D%2C%20%5B-80.19944373134992%2C%2025.76330718310703%2C%200.0%5D%2C%20%5B-80.19960208980807%2C%2025.75840894175528%2C%200.0%5D%2C%20%5B-80.1996050182854%2C%2025.75837809116237%2C%200.0%5D%2C%20%5B-80.19958624820298%2C%2025.75825316383982%2C%200.0%5D%2C%20%5B-80.19960120503553%2C%2025.75809994726205%2C%200.0%5D%2C%20%5B-80.19961313926459%2C%2025.7579776937944%2C%200.0%5D%2C%20%5B-80.19962801659307%2C%2025.75782527716274%2C%200.0%5D%2C%20%5B-80.19965192149137%2C%2025.75768449193174%2C%200.0%5D%2C%20%5B-80.19973251659398%2C%2025.7575767308505%2C%200.0%5D%2C%20%5B-80.19974732029672%2C%2025.75745893231256%2C%200.0%5D%2C%20%5B-80.19975971288295%2C%2025.75733862466139%2C%200.0%5D%2C%20%5B-80.19977483549668%2C%2025.7571882878718%2C%200.0%5D%2C%20%5B-80.19981930031909%2C%2025.75707275145012%2C%200.0%5D%2C%20%5B-80.1998343433912%2C%2025.75692309058995%2C%200.0%5D%2C%20%5B-80.19988154356128%2C%2025.75677825104488%2C%200.0%5D%2C%20%5B-80.19995782051463%2C%2025.75666794228455%2C%200.0%5D%2C%20%5B-80.20003394281699%2C%2025.7565578555831%2C%200.0%5D%2C%20%5B-80.20004607009918%2C%2025.75643951644593%2C%200.0%5D%2C%20%5B-80.20009243193746%2C%2025.75629564789281%2C%200.0%5D%2C%20%5B-80.20016658024332%2C%2025.75618491240728%2C%200.0%5D%2C%20%5B-80.20029651675678%2C%2025.75610818697013%2C%200.0%5D%2C%20%5B-80.20043225300644%2C%2025.7560052118625%2C%200.0%5D%2C%20%5B-80.20061740637011%2C%2025.75579515480815%2C%200.0%5D%2C%20%5B-80.2055368665995%2C%2025.75244538039246%2C%200.0%5D%2C%20%5B-80.20179209985619%2C%2025.74821235490068%2C%200.0%5D%2C%20%5B-80.19988747410984%2C%2025.74976449047574%2C%200.0%5D%5D%5D%2C%20%22type%22%3A%20%22Polygon%22%7D%2C%20%22id%22%3A%20%220%22%2C%20%22properties%22%3A%20%7B%7D%2C%20%22type%22%3A%20%22Feature%22%7D%5D%2C%20%22type%22%3A%20%22FeatureCollection%22%7D%29%3B%0A%0A%20%20%20%20%20%20%20%20%0A%20%20%20%20%0A%20%20%20%20%20%20%20%20%20%20%20%20var%20marker_926f802790ac4d53862a29599673a87c%20%3D%20L.marker%28%0A%20%20%20%20%20%20%20%20%20%20%20%20%20%20%20%20%5B25.7645295%2C%20-80.1915385%5D%2C%0A%20%20%20%20%20%20%20%20%20%20%20%20%20%20%20%20%7B%7D%0A%20%20%20%20%20%20%20%20%20%20%20%20%29.addTo%28map_3afdc977fb394b53a549b5216e79f476%29%3B%0A%20%20%20%20%20%20%20%20%0A%20%20%20%20%0A%20%20%20%20%20%20%20%20var%20popup_cc9888192b55446abbee1aa631a928fa%20%3D%20L.popup%28%7B%22maxWidth%22%3A%20300%7D%29%3B%0A%0A%20%20%20%20%20%20%20%20%0A%20%20%20%20%20%20%20%20%20%20%20%20var%20html_327327de345947f4aa2703f7419a188e%20%3D%20%24%28%60%3Cdiv%20id%3D%22html_327327de345947f4aa2703f7419a188e%22%20style%3D%22width%3A%20100.0%25%3B%20height%3A%20100.0%25%3B%22%3EAddress%3A%20%3Cstrong%3E888%20Brickell%20Avenue%2C%20Miami%20FL%3C/strong%3E%3Cbr%3E%20%20%20%20Developer%28s%29%3A%20%3Cstrong%3E%3Cem%3EJDS%20Development%20Group%2C%20Major%20Food%20Group%3C/em%3E%3C/strong%3E%3Cbr%3E%20%20%20%20%3Cstrong%3E%3Ca%20href%3D%22https%3A//therealdeal.com/miami/2022/05/25/jds-major-food-group-to-launch-condo-sales-of-brickell-skyscraper/%3Futm_source%3Dinternal%26utm_medium%3Darticle_aside%26utm_campaign%3Dtrd_list_posts%26utm_content%3Dtrending_now%22%3EJDS%20plans%20a%20259-unit%20tower%3C/a%3E%20with%20prices%20from%20%241.6M%20to%20%2411M%2C%20excluding%20penthouses.%20The%20building%20will%20include%20a%20private%20club%20and%20food%2C%20beverage%20concepts%20operated%20by%20Major%20Food%20Group.%3C/strong%3E%3Cbr%3E%3C/div%3E%60%29%5B0%5D%3B%0A%20%20%20%20%20%20%20%20%20%20%20%20popup_cc9888192b55446abbee1aa631a928fa.setContent%28html_327327de345947f4aa2703f7419a188e%29%3B%0A%20%20%20%20%20%20%20%20%0A%0A%20%20%20%20%20%20%20%20marker_926f802790ac4d53862a29599673a87c.bindPopup%28popup_cc9888192b55446abbee1aa631a928fa%29%0A%20%20%20%20%20%20%20%20%3B%0A%0A%20%20%20%20%20%20%20%20%0A%20%20%20%20%0A%20%20%20%20%0A%20%20%20%20%20%20%20%20%20%20%20%20var%20marker_9572095f88b6461e845be541639fc380%20%3D%20L.marker%28%0A%20%20%20%20%20%20%20%20%20%20%20%20%20%20%20%20%5B25.7664534%2C%20-80.192037%5D%2C%0A%20%20%20%20%20%20%20%20%20%20%20%20%20%20%20%20%7B%7D%0A%20%20%20%20%20%20%20%20%20%20%20%20%29.addTo%28map_3afdc977fb394b53a549b5216e79f476%29%3B%0A%20%20%20%20%20%20%20%20%0A%20%20%20%20%0A%20%20%20%20%20%20%20%20var%20popup_7a8ae40c62524adcb29f3378ee2ed28a%20%3D%20L.popup%28%7B%22maxWidth%22%3A%20300%7D%29%3B%0A%0A%20%20%20%20%20%20%20%20%0A%20%20%20%20%20%20%20%20%20%20%20%20var%20html_cc2697e615a845f1aa6c4006fdd634d8%20%3D%20%24%28%60%3Cdiv%20id%3D%22html_cc2697e615a845f1aa6c4006fdd634d8%22%20style%3D%22width%3A%20100.0%25%3B%20height%3A%20100.0%25%3B%22%3EAddress%3A%20%3Cstrong%3E102%20Southwest%20Eighth%20Street%2C%20Miami%20FL%3C/strong%3E%3Cbr%3E%20%20%20%20Developer%28s%29%3A%20%3Cstrong%3E%3Cem%3EPMG%3C/em%3E%3C/strong%3E%3Cbr%3E%20%20%20%20%3Cstrong%3E%3Ca%20href%3D%22https%3A//therealdeal.com/miami/2022/04/20/pmg-proposes-pair-of-brickell-resi-towers-with-over-800-units/%22%3EPMG%20plans%20a%201.5%20million-square-foot%20project%3C/a%3E%20with%20a%2031-story%20tower%20and%2046-story%20tower%20on%201.2%20acres.%20The%20towers%20would%20share%20a%20one-story%20lobby%2C%2011-story%20garage%20and%20pool%20decks%20on%20the%2013th%20and%2031st%20floors.%3C/strong%3E%3Cbr%3E%3C/div%3E%60%29%5B0%5D%3B%0A%20%20%20%20%20%20%20%20%20%20%20%20popup_7a8ae40c62524adcb29f3378ee2ed28a.setContent%28html_cc2697e615a845f1aa6c4006fdd634d8%29%3B%0A%20%20%20%20%20%20%20%20%0A%0A%20%20%20%20%20%20%20%20marker_9572095f88b6461e845be541639fc380.bindPopup%28popup_7a8ae40c62524adcb29f3378ee2ed28a%29%0A%20%20%20%20%20%20%20%20%3B%0A%0A%20%20%20%20%20%20%20%20%0A%20%20%20%20%0A%20%20%20%20%0A%20%20%20%20%20%20%20%20%20%20%20%20var%20marker_d92089ddfb9b4cf6809fd039ecca9cb3%20%3D%20L.marker%28%0A%20%20%20%20%20%20%20%20%20%20%20%20%20%20%20%20%5B25.7676664%2C%20-80.1895552%5D%2C%0A%20%20%20%20%20%20%20%20%20%20%20%20%20%20%20%20%7B%7D%0A%20%20%20%20%20%20%20%20%20%20%20%20%29.addTo%28map_3afdc977fb394b53a549b5216e79f476%29%3B%0A%20%20%20%20%20%20%20%20%0A%20%20%20%20%0A%20%20%20%20%20%20%20%20var%20popup_60cb9c09685747279fece30dbe768b7b%20%3D%20L.popup%28%7B%22maxWidth%22%3A%20300%7D%29%3B%0A%0A%20%20%20%20%20%20%20%20%0A%20%20%20%20%20%20%20%20%20%20%20%20var%20html_7007798bcf0a41fd9ffd50a7cd0e52f3%20%3D%20%24%28%60%3Cdiv%20id%3D%22html_7007798bcf0a41fd9ffd50a7cd0e52f3%22%20style%3D%22width%3A%20100.0%25%3B%20height%3A%20100.0%25%3B%22%3EAddress%3A%20%3Cstrong%3E609%20Brickell%20Avenue%2C%20Miami%20FL%3C/strong%3E%3Cbr%3E%20%20%20%20Developer%28s%29%3A%20%3Cstrong%3E%3Cem%3E13th%20Floor%20Investments%20%26%20Key%20International%3C/em%3E%3C/strong%3E%3Cbr%3E%20%20%20%20%3Cstrong%3E%3Ca%20href%3D%22https%3A//therealdeal.com/miami/2022/02/28/brickell-church-sale-holdout-could-scuttle-240m-deal-with-13th-floor-key-international/%22%3EThe%20developers%20propose%20an%2080-story%20condo%20tower%3C/a%3E%20to%20be%20built%20on%20church%20property.%20The%20developer%20has%20yet%20to%20purchase%20the%20land.%20A%20parishioner%20opposes%20the%20deal%20and%20seeks%20to%20block%20its%20passage.%3C/strong%3E%3Cbr%3E%3C/div%3E%60%29%5B0%5D%3B%0A%20%20%20%20%20%20%20%20%20%20%20%20popup_60cb9c09685747279fece30dbe768b7b.setContent%28html_7007798bcf0a41fd9ffd50a7cd0e52f3%29%3B%0A%20%20%20%20%20%20%20%20%0A%0A%20%20%20%20%20%20%20%20marker_d92089ddfb9b4cf6809fd039ecca9cb3.bindPopup%28popup_60cb9c09685747279fece30dbe768b7b%29%0A%20%20%20%20%20%20%20%20%3B%0A%0A%20%20%20%20%20%20%20%20%0A%20%20%20%20%0A%20%20%20%20%0A%20%20%20%20%20%20%20%20%20%20%20%20var%20marker_372043a87321465abacdb11f856b23ab%20%3D%20L.marker%28%0A%20%20%20%20%20%20%20%20%20%20%20%20%20%20%20%20%5B25.7660695%2C%20-80.1949727%5D%2C%0A%20%20%20%20%20%20%20%20%20%20%20%20%20%20%20%20%7B%7D%0A%20%20%20%20%20%20%20%20%20%20%20%20%29.addTo%28map_3afdc977fb394b53a549b5216e79f476%29%3B%0A%20%20%20%20%20%20%20%20%0A%20%20%20%20%0A%20%20%20%20%20%20%20%20var%20popup_fab5d710c5ee4811858d99ec492981bd%20%3D%20L.popup%28%7B%22maxWidth%22%3A%20300%7D%29%3B%0A%0A%20%20%20%20%20%20%20%20%0A%20%20%20%20%20%20%20%20%20%20%20%20var%20html_31894e7d19dd4418b1381b7ed46db598%20%3D%20%24%28%60%3Cdiv%20id%3D%22html_31894e7d19dd4418b1381b7ed46db598%22%20style%3D%22width%3A%20100.0%25%3B%20height%3A%20100.0%25%3B%22%3EAddress%3A%20%3Cstrong%3E90%20Southwest%20Eighth%20Street%2C%20Miami%2C%20FL%2033130%3C/strong%3E%3Cbr%3E%20%20%20%20Developer%28s%29%3A%20%3Cstrong%3E%3Cem%3EGazit%20Globe%20Group%3C/em%3E%3C/strong%3E%3Cbr%3E%20%20%20%20%3Cstrong%3E%3Ca%20href%3D%22https%3A//therealdeal.com/miami/2022/02/18/gazit-globe-proposes-504-unit-apartment-tower-in-brickell/%22%3EGazit%20Globe%E2%80%99s%20U.S.%20subsidiary%2C%20Gazit%20Horizons%3C/a%3E%2C%20wants%20to%20develop%20the%20643-foot%20tall%20%E2%80%94%20or%20more%20than%2050-story%20%E2%80%94%20Brickell%20Gateway%20tower%20on%20a%20half-acre%20lot%20steps%20from%20Metrorail%20and%20Metromover.%20Gazit%20Horizons%20bought%20the%20property%20in%202017%20for%20%2429.5%20million.%3C/strong%3E%3Cbr%3E%3C/div%3E%60%29%5B0%5D%3B%0A%20%20%20%20%20%20%20%20%20%20%20%20popup_fab5d710c5ee4811858d99ec492981bd.setContent%28html_31894e7d19dd4418b1381b7ed46db598%29%3B%0A%20%20%20%20%20%20%20%20%0A%0A%20%20%20%20%20%20%20%20marker_372043a87321465abacdb11f856b23ab.bindPopup%28popup_fab5d710c5ee4811858d99ec492981bd%29%0A%20%20%20%20%20%20%20%20%3B%0A%0A%20%20%20%20%20%20%20%20%0A%20%20%20%20%0A%20%20%20%20%0A%20%20%20%20%20%20%20%20%20%20%20%20var%20marker_9915af0886964e51a24553f5861cc55d%20%3D%20L.marker%28%0A%20%20%20%20%20%20%20%20%20%20%20%20%20%20%20%20%5B25.76014%2C%20-80.1939079%5D%2C%0A%20%20%20%20%20%20%20%20%20%20%20%20%20%20%20%20%7B%7D%0A%20%20%20%20%20%20%20%20%20%20%20%20%29.addTo%28map_3afdc977fb394b53a549b5216e79f476%29%3B%0A%20%20%20%20%20%20%20%20%0A%20%20%20%20%0A%20%20%20%20%20%20%20%20var%20popup_b25344200d6b42c9a6b867ea6c79f36b%20%3D%20L.popup%28%7B%22maxWidth%22%3A%20300%7D%29%3B%0A%0A%20%20%20%20%20%20%20%20%0A%20%20%20%20%20%20%20%20%20%20%20%20var%20html_b8c6a37309fb423dbc10c11a0abf011a%20%3D%20%24%28%60%3Cdiv%20id%3D%22html_b8c6a37309fb423dbc10c11a0abf011a%22%20style%3D%22width%3A%20100.0%25%3B%20height%3A%20100.0%25%3B%22%3EAddress%3A%20%3Cstrong%3E1420%20South%20Miami%20Avenue%2C%20Miami%2C%20FL%2033130%3C/strong%3E%3Cbr%3E%20%20%20%20Developer%28s%29%3A%20%3Cstrong%3E%3Cem%3EMast%20Capital%3C/em%3E%3C/strong%3E%3Cbr%3E%20%20%20%20%3Cstrong%3E%3Ca%20href%3D%22https%3A//therealdeal.com/miami/2021/12/27/769192/%22%3EAn%2080-story%20condo%20tower%3C/a%3E%20Mast%20Capital%3C/a%3E%20plans%20a%20multi-tower%20project%20with%20a%20total%20of%201%2C250%20units.%20It%20would%20include%20an%2080-story%20condo%20tower%20with%20about%20400%20units%2C%20and%20two%20multifamily%20buildings%20with%20850%20apartments.%20Mast%20paid%20%24103%20million%20for%20the%20site%20in%20December.%3C/strong%3E%3Cbr%3E%3C/div%3E%60%29%5B0%5D%3B%0A%20%20%20%20%20%20%20%20%20%20%20%20popup_b25344200d6b42c9a6b867ea6c79f36b.setContent%28html_b8c6a37309fb423dbc10c11a0abf011a%29%3B%0A%20%20%20%20%20%20%20%20%0A%0A%20%20%20%20%20%20%20%20marker_9915af0886964e51a24553f5861cc55d.bindPopup%28popup_b25344200d6b42c9a6b867ea6c79f36b%29%0A%20%20%20%20%20%20%20%20%3B%0A%0A%20%20%20%20%20%20%20%20%0A%20%20%20%20%0A%20%20%20%20%0A%20%20%20%20%20%20%20%20%20%20%20%20var%20marker_e4e8f3080260442abf2b00d677814424%20%3D%20L.marker%28%0A%20%20%20%20%20%20%20%20%20%20%20%20%20%20%20%20%5B25.7674854%2C%20-80.19533059999999%5D%2C%0A%20%20%20%20%20%20%20%20%20%20%20%20%20%20%20%20%7B%7D%0A%20%20%20%20%20%20%20%20%20%20%20%20%29.addTo%28map_3afdc977fb394b53a549b5216e79f476%29%3B%0A%20%20%20%20%20%20%20%20%0A%20%20%20%20%0A%20%20%20%20%20%20%20%20var%20popup_cbe659c42934413492201e523b64d5fd%20%3D%20L.popup%28%7B%22maxWidth%22%3A%20300%7D%29%3B%0A%0A%20%20%20%20%20%20%20%20%0A%20%20%20%20%20%20%20%20%20%20%20%20var%20html_bacaba3874ee43208a53aaee0c28386e%20%3D%20%24%28%60%3Cdiv%20id%3D%22html_bacaba3874ee43208a53aaee0c28386e%22%20style%3D%22width%3A%20100.0%25%3B%20height%3A%20100.0%25%3B%22%3EAddress%3A%20%3Cstrong%3E99%20Southwest%20Seventh%20Street%2C%20Miami%2C%20FL%3C/strong%3E%3Cbr%3E%20%20%20%20Developer%28s%29%3A%20%3Cstrong%3E%3Cem%3EHarvey%20Hernandez%3C/em%3E%3C/strong%3E%3Cbr%3E%20%20%20%20%3Cstrong%3E%3Ca%20href%3D%22https%3A//therealdeal.com/miami/2021/09/15/harvey-hernandez-plans-three-tower-project-on-riverfront-brickell-site/%22%3EHarvey%20Hernandez%20wants%20to%20build%3C/a%3E%20a%201.6-acre%2C%20%20three-tower%20residential%20and%20marina%20project%20called%20Lofty%20Brickell.%20Hernandez%20launched%20sales%20of%20the%20first%20tower%20last%20year.%20%20Hernandez%20paid%20%2450.5%20million%20for%20the%20site%20in%20September.%3C/strong%3E%3Cbr%3E%3C/div%3E%60%29%5B0%5D%3B%0A%20%20%20%20%20%20%20%20%20%20%20%20popup_cbe659c42934413492201e523b64d5fd.setContent%28html_bacaba3874ee43208a53aaee0c28386e%29%3B%0A%20%20%20%20%20%20%20%20%0A%0A%20%20%20%20%20%20%20%20marker_e4e8f3080260442abf2b00d677814424.bindPopup%28popup_cbe659c42934413492201e523b64d5fd%29%0A%20%20%20%20%20%20%20%20%3B%0A%0A%20%20%20%20%20%20%20%20%0A%20%20%20%20%0A%20%20%20%20%0A%20%20%20%20%20%20%20%20%20%20%20%20var%20marker_16f7906ba19b46689581e4b55b8eb454%20%3D%20L.marker%28%0A%20%20%20%20%20%20%20%20%20%20%20%20%20%20%20%20%5B25.7493325%2C%20-80.2012364%5D%2C%0A%20%20%20%20%20%20%20%20%20%20%20%20%20%20%20%20%7B%7D%0A%20%20%20%20%20%20%20%20%20%20%20%20%29.addTo%28map_3afdc977fb394b53a549b5216e79f476%29%3B%0A%20%20%20%20%20%20%20%20%0A%20%20%20%20%0A%20%20%20%20%20%20%20%20var%20popup_88850e65d56e48f6a31b25c68e24f062%20%3D%20L.popup%28%7B%22maxWidth%22%3A%20300%7D%29%3B%0A%0A%20%20%20%20%20%20%20%20%0A%20%20%20%20%20%20%20%20%20%20%20%20var%20html_d2fbddf75a9d4ea78987c311c9c4c41d%20%3D%20%24%28%60%3Cdiv%20id%3D%22html_d2fbddf75a9d4ea78987c311c9c4c41d%22%20style%3D%22width%3A%20100.0%25%3B%20height%3A%20100.0%25%3B%22%3EAddress%3A%20%3Cstrong%3E175%20Southeast%2025th%20Road%2C%20Miami%20FL%3C/strong%3E%3Cbr%3E%20%20%20%20Developer%28s%29%3A%20%3Cstrong%3E%3Cem%3EOKO%20Group%3C/em%3E%3C/strong%3E%3Cbr%3E%20%20%20%20%3Cstrong%3E%3Ca%20href%3D%22https%3A//therealdeal.com/miami/2021/04/20/billionaire-vlad-doronin-partner-score-128m-construction-loan-for-brickell-condo-tower/%22%3EBillionaire%20Vlad%20Doronin%E2%80%99s%20OKO%20Group%3C/a%3E%20and%20Jonathan%20Goldstein%E2%80%99s%20Cain%20International%20are%20building%20the%2047-story%2C%20135-unit%20tower%20with%20%24128.3%20million%20in%20financing%20from%20Bank%20OZK.%20The%20developers%20broke%20ground%20on%20the%20project%20in%202020%20after%20launching%20sales%20in%202018.%3C/strong%3E%3Cbr%3E%3C/div%3E%60%29%5B0%5D%3B%0A%20%20%20%20%20%20%20%20%20%20%20%20popup_88850e65d56e48f6a31b25c68e24f062.setContent%28html_d2fbddf75a9d4ea78987c311c9c4c41d%29%3B%0A%20%20%20%20%20%20%20%20%0A%0A%20%20%20%20%20%20%20%20marker_16f7906ba19b46689581e4b55b8eb454.bindPopup%28popup_88850e65d56e48f6a31b25c68e24f062%29%0A%20%20%20%20%20%20%20%20%3B%0A%0A%20%20%20%20%20%20%20%20%0A%20%20%20%20%0A%20%20%20%20%0A%20%20%20%20%20%20%20%20%20%20%20%20var%20marker_e408df47cbd94c41ae7d92151993ceba%20%3D%20L.marker%28%0A%20%20%20%20%20%20%20%20%20%20%20%20%20%20%20%20%5B25.7629989%2C%20-80.1960471%5D%2C%0A%20%20%20%20%20%20%20%20%20%20%20%20%20%20%20%20%7B%7D%0A%20%20%20%20%20%20%20%20%20%20%20%20%29.addTo%28map_3afdc977fb394b53a549b5216e79f476%29%3B%0A%20%20%20%20%20%20%20%20%0A%20%20%20%20%0A%20%20%20%20%20%20%20%20var%20popup_30b84e7f277249b19d4741a80e275a99%20%3D%20L.popup%28%7B%22maxWidth%22%3A%20300%7D%29%3B%0A%0A%20%20%20%20%20%20%20%20%0A%20%20%20%20%20%20%20%20%20%20%20%20var%20html_4d824f64073b43e2ae01c7bd844bcf89%20%3D%20%24%28%60%3Cdiv%20id%3D%22html_4d824f64073b43e2ae01c7bd844bcf89%22%20style%3D%22width%3A%20100.0%25%3B%20height%3A%20100.0%25%3B%22%3EAddress%3A%20%3Cstrong%3E1%20Southside%20Park%2C%20Miami%20FL%3C/strong%3E%3Cbr%3E%20%20%20%20Developer%28s%29%3A%20%3Cstrong%3E%3Cem%3EJDS%20Development%20Group%20%28Michael%20Stern%29%3C/em%3E%3C/strong%3E%3Cbr%3E%20%20%20%20%3Cstrong%3E%3Ca%20href%3D%22https%3A//therealdeal.com/miami/2021/04/09/michael-sterns-tower-site-deemed-brownfield-paving-way-for-tax-breaks/%22%3EMichael%20Stern%E2%80%99s%20JDS%3C/a%3E%20recently%20broke%20ground%20on%201%20Southside%20Park%2C%20a%20752-foot-tall%20tower.%20The%20mixed-use%20project%20calls%20for%201%2C000%20residential%20units.%20Last%20year%2C%20the%20Miami%20City%20Commission%20unanimously%20approved%20a%20resolution%20designating%20the%201.5-acre%20site%20as%20a%20brownfield%20due%20to%20heightened%20levels%20of%20arsenic.%20The%20designation%20allows%20Stern%20to%20pursue%20state%20tax%20credits%20and%20grants%20from%20the%20federal%20EPA.%20Part%20of%20the%20development%20agreement%20with%20the%20city%20includes%20building%20a%20fire%20department%20on%20the%20ground%20floor.%20Stern%20paid%20%2423.5%20million%20for%20the%20land%20in%202020.%3C/strong%3E%3Cbr%3E%3C/div%3E%60%29%5B0%5D%3B%0A%20%20%20%20%20%20%20%20%20%20%20%20popup_30b84e7f277249b19d4741a80e275a99.setContent%28html_4d824f64073b43e2ae01c7bd844bcf89%29%3B%0A%20%20%20%20%20%20%20%20%0A%0A%20%20%20%20%20%20%20%20marker_e408df47cbd94c41ae7d92151993ceba.bindPopup%28popup_30b84e7f277249b19d4741a80e275a99%29%0A%20%20%20%20%20%20%20%20%3B%0A%0A%20%20%20%20%20%20%20%20%0A%20%20%20%20%0A%20%20%20%20%0A%20%20%20%20%20%20%20%20%20%20%20%20var%20marker_4f5059f8e7df4e5b92fd1a65b0bd6749%20%3D%20L.marker%28%0A%20%20%20%20%20%20%20%20%20%20%20%20%20%20%20%20%5B25.7690781%2C%20-80.19032330000002%5D%2C%0A%20%20%20%20%20%20%20%20%20%20%20%20%20%20%20%20%7B%7D%0A%20%20%20%20%20%20%20%20%20%20%20%20%29.addTo%28map_3afdc977fb394b53a549b5216e79f476%29%3B%0A%20%20%20%20%20%20%20%20%0A%20%20%20%20%0A%20%20%20%20%20%20%20%20var%20popup_6e9c99988d3d414ba453f0f6082f7d15%20%3D%20L.popup%28%7B%22maxWidth%22%3A%20300%7D%29%3B%0A%0A%20%20%20%20%20%20%20%20%0A%20%20%20%20%20%20%20%20%20%20%20%20var%20html_5fd4f9e8e20a4ce2b1926bce6c2edeb7%20%3D%20%24%28%60%3Cdiv%20id%3D%22html_5fd4f9e8e20a4ce2b1926bce6c2edeb7%22%20style%3D%22width%3A%20100.0%25%3B%20height%3A%20100.0%25%3B%22%3EAddress%3A%20%3Cstrong%3E444%20Brickell%20Avenue%2C%20Miami%20FL%3C/strong%3E%3Cbr%3E%20%20%20%20Developer%28s%29%3A%20%3Cstrong%3E%3Cem%3EThe%20Related%20Group%2C%20Baccarat%3C/em%3E%3C/strong%3E%3Cbr%3E%20%20%20%20%3Cstrong%3E%3Ca%20href%3D%22https%3A//therealdeal.com/miami/2021/02/04/related-to-partner-with-baccarat-on-major-brickell-high-rise-development/%22%3ERelated%20Group%3C/a%3E%20is%20moving%20forward%20with%20a%20three-tower%20mixed-use%20luxury%20project%20on%20the%204-acre%20property.%20Related%20last%20year%20launched%20sales%20of%20the%20first%20building%2C%20a%2075-story%2C%20324-unit%20Baccarat-branded%20condo%20tower.%20Related%20paid%20%24104%20million%20for%20the%20site%20in%202013.%3C/strong%3E%3Cbr%3E%3C/div%3E%60%29%5B0%5D%3B%0A%20%20%20%20%20%20%20%20%20%20%20%20popup_6e9c99988d3d414ba453f0f6082f7d15.setContent%28html_5fd4f9e8e20a4ce2b1926bce6c2edeb7%29%3B%0A%20%20%20%20%20%20%20%20%0A%0A%20%20%20%20%20%20%20%20marker_4f5059f8e7df4e5b92fd1a65b0bd6749.bindPopup%28popup_6e9c99988d3d414ba453f0f6082f7d15%29%0A%20%20%20%20%20%20%20%20%3B%0A%0A%20%20%20%20%20%20%20%20%0A%20%20%20%20%0A%20%20%20%20%0A%20%20%20%20%20%20%20%20%20%20%20%20var%20marker_72c8026edbf2400282e0a48f06b31283%20%3D%20L.marker%28%0A%20%20%20%20%20%20%20%20%20%20%20%20%20%20%20%20%5B25.7542214%2C%20-80.1950473%5D%2C%0A%20%20%20%20%20%20%20%20%20%20%20%20%20%20%20%20%7B%7D%0A%20%20%20%20%20%20%20%20%20%20%20%20%29.addTo%28map_3afdc977fb394b53a549b5216e79f476%29%3B%0A%20%20%20%20%20%20%20%20%0A%20%20%20%20%0A%20%20%20%20%20%20%20%20var%20popup_768bb9fac63848928c9fbe9e1f3a64d3%20%3D%20L.popup%28%7B%22maxWidth%22%3A%20300%7D%29%3B%0A%0A%20%20%20%20%20%20%20%20%0A%20%20%20%20%20%20%20%20%20%20%20%20var%20html_1d694c1ce5c348e09032478b6e37623b%20%3D%20%24%28%60%3Cdiv%20id%3D%22html_1d694c1ce5c348e09032478b6e37623b%22%20style%3D%22width%3A%20100.0%25%3B%20height%3A%20100.0%25%3B%22%3EAddress%3A%20%3Cstrong%3E1809%20Brickell%20Avenue%2C%20Miami%2C%20FL%3C/strong%3E%3Cbr%3E%20%20%20%20Developer%28s%29%3A%20%3Cstrong%3E%3Cem%3ERelated%20Group%20%26%20Integra%20Investments%3C/em%3E%3C/strong%3E%3Cbr%3E%20%20%20%20%3Cstrong%3E%3Ca%20href%3D%22https%3A//therealdeal.com/miami/2021/12/16/related-integra-plan-two-tower-st-regis-condo-development-in-miamis-brickell/%22%3ERelated%20and%20Integra%20Investments%3C/a%3E%20plan%20a%20pair%20of%20St.%20Regis-branded%20condo%20towers%20designed%20by%20Robert%20A.M.%20Stern%20Architects%20totaling%20354%20units%20on%20the%20waterfront%20site.%3C/strong%3E%3Cbr%3E%3C/div%3E%60%29%5B0%5D%3B%0A%20%20%20%20%20%20%20%20%20%20%20%20popup_768bb9fac63848928c9fbe9e1f3a64d3.setContent%28html_1d694c1ce5c348e09032478b6e37623b%29%3B%0A%20%20%20%20%20%20%20%20%0A%0A%20%20%20%20%20%20%20%20marker_72c8026edbf2400282e0a48f06b31283.bindPopup%28popup_768bb9fac63848928c9fbe9e1f3a64d3%29%0A%20%20%20%20%20%20%20%20%3B%0A%0A%20%20%20%20%20%20%20%20%0A%20%20%20%20%0A%20%20%20%20%0A%20%20%20%20%20%20%20%20%20%20%20%20var%20marker_11a1559ad72e405d9136a5eb75b832a7%20%3D%20L.marker%28%0A%20%20%20%20%20%20%20%20%20%20%20%20%20%20%20%20%5B25.7610484%2C%20-80.194724%5D%2C%0A%20%20%20%20%20%20%20%20%20%20%20%20%20%20%20%20%7B%7D%0A%20%20%20%20%20%20%20%20%20%20%20%20%29.addTo%28map_3afdc977fb394b53a549b5216e79f476%29%3B%0A%20%20%20%20%20%20%20%20%0A%20%20%20%20%0A%20%20%20%20%20%20%20%20var%20popup_efd51e6be78144729ea0d62cc9dfa424%20%3D%20L.popup%28%7B%22maxWidth%22%3A%20300%7D%29%3B%0A%0A%20%20%20%20%20%20%20%20%0A%20%20%20%20%20%20%20%20%20%20%20%20var%20html_6985cce58e7943f1ba584a6608947e74%20%3D%20%24%28%60%3Cdiv%20id%3D%22html_6985cce58e7943f1ba584a6608947e74%22%20style%3D%22width%3A%20100.0%25%3B%20height%3A%20100.0%25%3B%22%3EAddress%3A%20%3Cstrong%3E1399%20Southwest%20First%20Avenue%2C%20Miami%20FL%3C/strong%3E%3Cbr%3E%20%20%20%20Developer%28s%29%3A%20%3Cstrong%3E%3Cem%3EEichner%27s%20Continuum%20Company%2C%20TSG%20Group%3C/em%3E%3C/strong%3E%3Cbr%3E%20%20%20%20%3Cstrong%3E%3Ca%20href%3D%22https%3A//therealdeal.com/miami/2020/12/11/continuum-2-0-bruce-eichner-teams-with-tsg-to-develop-brickell-tower/%22%3EContinuum%20South%20Beach%20developer%3C/a%3E%20Ian%20Bruce%20Eichner%20and%20TSG%20Group%20proposed%20a%2070-plus%20story%20condo%20tower.%20The%20site%20is%20home%20to%20a%20commercial%20building%20currently%20leased%20to%20the%20Consulate%20General%20of%20Mexico.%3C/strong%3E%3Cbr%3E%3C/div%3E%60%29%5B0%5D%3B%0A%20%20%20%20%20%20%20%20%20%20%20%20popup_efd51e6be78144729ea0d62cc9dfa424.setContent%28html_6985cce58e7943f1ba584a6608947e74%29%3B%0A%20%20%20%20%20%20%20%20%0A%0A%20%20%20%20%20%20%20%20marker_11a1559ad72e405d9136a5eb75b832a7.bindPopup%28popup_efd51e6be78144729ea0d62cc9dfa424%29%0A%20%20%20%20%20%20%20%20%3B%0A%0A%20%20%20%20%20%20%20%20%0A%20%20%20%20%0A%20%20%20%20%0A%20%20%20%20%20%20%20%20%20%20%20%20var%20marker_3c6e3aee2c6043bebfd067205ee66503%20%3D%20L.marker%28%0A%20%20%20%20%20%20%20%20%20%20%20%20%20%20%20%20%5B25.7655725%2C%20-80.1981637%5D%2C%0A%20%20%20%20%20%20%20%20%20%20%20%20%20%20%20%20%7B%7D%0A%20%20%20%20%20%20%20%20%20%20%20%20%29.addTo%28map_3afdc977fb394b53a549b5216e79f476%29%3B%0A%20%20%20%20%20%20%20%20%0A%20%20%20%20%0A%20%20%20%20%20%20%20%20var%20popup_03c43d0b631e489c91ba212491168398%20%3D%20L.popup%28%7B%22maxWidth%22%3A%20300%7D%29%3B%0A%0A%20%20%20%20%20%20%20%20%0A%20%20%20%20%20%20%20%20%20%20%20%20var%20html_b4d0942544b54a5e8c7abc5837e350e4%20%3D%20%24%28%60%3Cdiv%20id%3D%22html_b4d0942544b54a5e8c7abc5837e350e4%22%20style%3D%22width%3A%20100.0%25%3B%20height%3A%20100.0%25%3B%22%3EAddress%3A%20%3Cstrong%3E239%20Southwest%209th%20Street%2C%20Miami%20FL%3C/strong%3E%3Cbr%3E%20%20%20%20Developer%28s%29%3A%20%3Cstrong%3E%3Cem%3EHabitat%20Group%3C/em%3E%3C/strong%3E%3Cbr%3E%20%20%20%20%3Cstrong%3E%3Ca%20href%3D%22https%3A//therealdeal.com/miami/2019/11/14/habitat-moves-forward-with-west-brickell-condo-hotel-project/%22%3EHabitat%20Group%20%3C/a%3Eis%20developing%20the%20three-tower%20Smart%20Brickell%20project%20with%20condos%20and%20a%20hotel%20component.%20The%20first%20building%20is%20expected%20to%20be%20completed%20in%20the%20third%20quarter%20of%20this%20year%2C%20according%20to%20Santiago%20Vanegas%2C%20CEO%20of%20Habitat%20Group.%20The%20second%20tower%20is%20expected%20to%20be%20completed%20in%20the%20fourth%20quarter%20of%202024.%20Both%20will%20have%20100%20units.%20The%20final%20tower%20will%20have%20113%20units%20and%20is%20expected%20to%20be%20delivered%20in%20the%20second%20quarter%20of%202025%20Tower%201%20is%2095%20percent%20presold%2C%20Tower%202%20is%2080%20percent%20presold%20and%20the%20third%20tower%20is%20sold%20out%2C%20Vanegas%20said.%3C/strong%3E%3Cbr%3E%3C/div%3E%60%29%5B0%5D%3B%0A%20%20%20%20%20%20%20%20%20%20%20%20popup_03c43d0b631e489c91ba212491168398.setContent%28html_b4d0942544b54a5e8c7abc5837e350e4%29%3B%0A%20%20%20%20%20%20%20%20%0A%0A%20%20%20%20%20%20%20%20marker_3c6e3aee2c6043bebfd067205ee66503.bindPopup%28popup_03c43d0b631e489c91ba212491168398%29%0A%20%20%20%20%20%20%20%20%3B%0A%0A%20%20%20%20%20%20%20%20%0A%20%20%20%20%0A%3C/script%3E onload=\"this.contentDocument.open();this.contentDocument.write(    decodeURIComponent(this.getAttribute('data-html')));this.contentDocument.close();\" allowfullscreen webkitallowfullscreen mozallowfullscreen></iframe></div></div>"
      ],
      "text/plain": [
       "<folium.folium.Map at 0x22ff834f760>"
      ]
     },
     "execution_count": 14,
     "metadata": {},
     "output_type": "execute_result"
    }
   ],
   "source": [
    "import folium\n",
    "from folium.plugins import MarkerCluster\n",
    "import textwrap\n",
    "\n",
    "m = folium.Map(location=df[[\"lat\", \"lon\"]].mean().to_list(), zoom_start=14.5)\n",
    "title_html = '''\n",
    "              <h3 align=\"center\" style=\"font-size:16px\"><b>{}</b></h3>\n",
    "             '''.format(f'New Development in Brickell')\n",
    "\n",
    "for i, r in project_gdf.iterrows():\n",
    "    sim_geo = gpd.GeoSeries(r['geometry'])\n",
    "    geo_j = sim_geo.to_json()\n",
    "    geo_j = folium.GeoJson(data=geo_j)\n",
    "    geo_j.add_to(m)\n",
    "\n",
    "\n",
    "for i,r in df.iterrows():\n",
    "    location = (r[\"lat\"], r[\"lon\"])\n",
    "    info = (r[\"address\"], r[\"developer\"], r[\"description\"])\n",
    "    info = list(info)\n",
    "    new_line = '<br>'\n",
    "    bold_start = '<strong>'\n",
    "    bold_end = '</strong>'\n",
    "    italic_start = '<em>'\n",
    "    italic_end = '</em>'\n",
    "    text = f'Address: {bold_start}{info[0]}{bold_end}{new_line}\\\n",
    "    Developer(s): {bold_start}{italic_start}{info[1]}{italic_end}{bold_end}{new_line}\\\n",
    "    {bold_start}{info[2]}{bold_end}{new_line}'\n",
    "#     text = text.replace(\". \",\".<br>\")\n",
    "    popup = folium.Popup(text, max_width=300)\n",
    "    folium.Marker(location=location,\n",
    "                      popup=popup)\\\n",
    "    .add_to(m)\n",
    "\n",
    "m.get_root().html.add_child(folium.Element(title_html))\n",
    "\n",
    "m"
   ]
  },
  {
   "cell_type": "code",
   "execution_count": 15,
   "metadata": {},
   "outputs": [],
   "source": [
    "m.save('index.html')"
   ]
  },
  {
   "cell_type": "code",
   "execution_count": null,
   "metadata": {},
   "outputs": [],
   "source": []
  },
  {
   "cell_type": "code",
   "execution_count": null,
   "metadata": {},
   "outputs": [],
   "source": []
  }
 ],
 "metadata": {
  "kernelspec": {
   "display_name": "Python 3",
   "language": "python",
   "name": "python3"
  },
  "language_info": {
   "codemirror_mode": {
    "name": "ipython",
    "version": 3
   },
   "file_extension": ".py",
   "mimetype": "text/x-python",
   "name": "python",
   "nbconvert_exporter": "python",
   "pygments_lexer": "ipython3",
   "version": "3.8.6"
  },
  "toc": {
   "base_numbering": 1,
   "nav_menu": {},
   "number_sections": true,
   "sideBar": true,
   "skip_h1_title": false,
   "title_cell": "Table of Contents",
   "title_sidebar": "Contents",
   "toc_cell": false,
   "toc_position": {},
   "toc_section_display": true,
   "toc_window_display": false
  }
 },
 "nbformat": 4,
 "nbformat_minor": 4
}
