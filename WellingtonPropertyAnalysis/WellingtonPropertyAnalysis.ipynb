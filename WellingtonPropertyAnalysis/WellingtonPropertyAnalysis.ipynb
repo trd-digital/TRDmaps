{
 "cells": [
  {
   "cell_type": "markdown",
   "id": "bada64ae",
   "metadata": {},
   "source": [
    "## Imports"
   ]
  },
  {
   "cell_type": "code",
   "execution_count": 1,
   "id": "a0c4557e",
   "metadata": {},
   "outputs": [],
   "source": [
    "import googlemaps\n",
    "import pandas as pd\n",
    "import numpy as np\n",
    "import re\n",
    "import os\n",
    "import geopandas as gpd\n",
    "import folium\n",
    "from shapely.geometry import Polygon\n",
    "from pyproj import CRS\n",
    "import math\n",
    "from shapely.ops import cascaded_union\n",
    "from shapely.geometry import Polygon"
   ]
  },
  {
   "cell_type": "markdown",
   "id": "3980bad9",
   "metadata": {},
   "source": [
    "## PD Set Options"
   ]
  },
  {
   "cell_type": "code",
   "execution_count": 2,
   "id": "06d4109c",
   "metadata": {},
   "outputs": [],
   "source": [
    "pd.set_option('display.max_columns',None)"
   ]
  },
  {
   "cell_type": "markdown",
   "id": "23982faa",
   "metadata": {},
   "source": [
    "## Links"
   ]
  },
  {
   "cell_type": "markdown",
   "id": "42be7041",
   "metadata": {},
   "source": [
    "DOR Use code descriptions: https://gis-mdc.opendata.arcgis.com/datasets/MDC::dor-code/explore\n",
    "\n",
    "Palm Beach Property Appraiser Data (from the property appraiser): https://opendata2-pbcgov.opendata.arcgis.com/datasets/PBCGOV::parcels-and-property-details-webmercator/explore?location=26.643652%2C-80.455993%2C10.00&showTable=true"
   ]
  },
  {
   "cell_type": "markdown",
   "id": "cee38386",
   "metadata": {},
   "source": [
    "## Data read-in"
   ]
  },
  {
   "cell_type": "code",
   "execution_count": 3,
   "id": "c4d5058e",
   "metadata": {},
   "outputs": [],
   "source": [
    "# Direct from the Property Appraiser\n",
    "PalmBeach_PA = pd.read_csv('Parcels_and_Property_Details_WebMercator.csv', low_memory=False)"
   ]
  },
  {
   "cell_type": "code",
   "execution_count": 4,
   "id": "1d861bc4",
   "metadata": {},
   "outputs": [],
   "source": [
    "# Read in geographic data\n",
    "PalmBeach_geo = gpd.read_file('palmbeach_2022pin')\n",
    "\n",
    "# Set the desired CRS\n",
    "target_crs = CRS.from_epsg(4326)\n",
    "\n",
    "# Change it to the desired crs\n",
    "PalmBeach_geo = PalmBeach_geo.to_crs(target_crs)"
   ]
  },
  {
   "cell_type": "code",
   "execution_count": 6,
   "id": "1134134f",
   "metadata": {},
   "outputs": [],
   "source": [
    "# Load in Property Appraiser data\n",
    "PalmBeach_data = gpd.read_file('NAL60F202201.dbf')\n",
    "# Drop the empty 'geometry' column\n",
    "PalmBeach_data = PalmBeach_data.drop(columns='geometry')"
   ]
  },
  {
   "cell_type": "markdown",
   "id": "8c1b309c",
   "metadata": {},
   "source": [
    "## Filter and Merge"
   ]
  },
  {
   "cell_type": "code",
   "execution_count": 7,
   "id": "a2c7802e",
   "metadata": {},
   "outputs": [],
   "source": [
    "# DOR Data\n",
    "PalmBeach_merged = pd.merge(PalmBeach_geo, PalmBeach_data, left_on='PARCELNO', right_on='PARCEL_ID')\n",
    "PalmBeachWellington = PalmBeach_merged[PalmBeach_merged['PHY_CITY'] == 'WELLINGTON']"
   ]
  },
  {
   "cell_type": "code",
   "execution_count": 8,
   "id": "87673ddd",
   "metadata": {},
   "outputs": [],
   "source": [
    "# Property Appraiser Data filtered to a property use with 'EQUESTRIAN' in it\n",
    "PalmBeach_PA_Wellington = PalmBeach_PA[PalmBeach_PA['PARCEL_NUMBER'].str.startswith('73')]\n",
    "PalmBeach_PA_Wellington_Equestrian = PalmBeach_PA[PalmBeach_PA['PROPERTY_USE'].str.contains('EQUESTRIAN',na=False)]\n",
    "# Get rid of unnecessary columns\n",
    "PalmBeach_PA_Wellington_Equestrian = PalmBeach_PA_Wellington_Equestrian[['PARCEL_NUMBER','OWNER_NAME1','OWNER_NAME2','PADDR1','PROPERTY_USE']]"
   ]
  },
  {
   "cell_type": "markdown",
   "id": "b83ecbdc",
   "metadata": {},
   "source": [
    "I need to merge the DOR data with the PA data, since the DOR data has previous sales information and the PA data has the equestrian property use codes"
   ]
  },
  {
   "cell_type": "code",
   "execution_count": 9,
   "id": "c725b47e",
   "metadata": {},
   "outputs": [
    {
     "name": "stdout",
     "output_type": "stream",
     "text": [
      "22857\n",
      "--------\n",
      "23547\n",
      "--------\n",
      "1668\n"
     ]
    }
   ],
   "source": [
    "print(len(PalmBeachWellington))\n",
    "print('--------')\n",
    "print(len(PalmBeach_PA_Wellington))\n",
    "print('--------')\n",
    "print(len(PalmBeach_PA_Wellington_Equestrian))"
   ]
  },
  {
   "cell_type": "code",
   "execution_count": 10,
   "id": "ff90a376",
   "metadata": {},
   "outputs": [
    {
     "name": "stdout",
     "output_type": "stream",
     "text": [
      "817\n"
     ]
    }
   ],
   "source": [
    "final_PalmBeach_Wellington_Equestrian = pd.merge(PalmBeachWellington, PalmBeach_PA_Wellington_Equestrian, left_on='PARCELNO', right_on='PARCEL_NUMBER')\n",
    "print(len(final_PalmBeach_Wellington_Equestrian))"
   ]
  },
  {
   "cell_type": "code",
   "execution_count": 11,
   "id": "a345a481",
   "metadata": {},
   "outputs": [],
   "source": [
    "keep_columns = [\n",
    "    'PARCELNO',\n",
    "    'geometry',\n",
    "    'LND_SQFOOT',\n",
    "    'SALE_PRC1',\n",
    "    'SALE_YR1',\n",
    "    'SALE_MO1',\n",
    "    'SALE_PRC2',\n",
    "    'SALE_YR2',\n",
    "    'SALE_MO2',\n",
    "    'OWN_NAME',\n",
    "    'OWN_ADDR1',\n",
    "    'OWN_ADDR2',\n",
    "    'OWN_CITY',\n",
    "    'OWN_STATE',\n",
    "    'PHY_ADDR1',\n",
    "    'PHY_CITY',\n",
    "    'PROPERTY_USE'\n",
    "]\n",
    "\n",
    "final_PalmBeach_Wellington_Equestrian = final_PalmBeach_Wellington_Equestrian.loc[:, keep_columns]"
   ]
  },
  {
   "cell_type": "code",
   "execution_count": 24,
   "id": "5926233f",
   "metadata": {},
   "outputs": [],
   "source": [
    "flips = final_PalmBeach_Wellington_Equestrian[final_PalmBeach_Wellington_Equestrian['SALE_YR2'] == 2022.0]\n",
    "flips['pct_change'] = flips[['SALE_PRC1','SALE_PRC2']].pct_change(axis=1)['SALE_PRC2']"
   ]
  },
  {
   "cell_type": "code",
   "execution_count": 28,
   "id": "e69ad0dd",
   "metadata": {},
   "outputs": [
    {
     "name": "stderr",
     "output_type": "stream",
     "text": [
      "/Users/afarence/opt/anaconda3/lib/python3.9/site-packages/geopandas/geodataframe.py:1472: SettingWithCopyWarning: \n",
      "A value is trying to be set on a copy of a slice from a DataFrame.\n",
      "Try using .loc[row_indexer,col_indexer] = value instead\n",
      "\n",
      "See the caveats in the documentation: https://pandas.pydata.org/pandas-docs/stable/user_guide/indexing.html#returning-a-view-versus-a-copy\n",
      "  super().__setitem__(key, value)\n"
     ]
    }
   ],
   "source": [
    "all_w_flips = PalmBeachWellington[PalmBeachWellington['SALE_YR2'] == 2022.0]\n",
    "all_w_flips['pct_change'] = all_w_flips[['SALE_PRC1','SALE_PRC2']].pct_change(axis=1)['SALE_PRC2']"
   ]
  },
  {
   "cell_type": "code",
   "execution_count": 43,
   "id": "35289485",
   "metadata": {},
   "outputs": [
    {
     "name": "stderr",
     "output_type": "stream",
     "text": [
      "/Users/afarence/opt/anaconda3/lib/python3.9/site-packages/geopandas/geodataframe.py:1472: SettingWithCopyWarning: \n",
      "A value is trying to be set on a copy of a slice from a DataFrame.\n",
      "Try using .loc[row_indexer,col_indexer] = value instead\n",
      "\n",
      "See the caveats in the documentation: https://pandas.pydata.org/pandas-docs/stable/user_guide/indexing.html#returning-a-view-versus-a-copy\n",
      "  super().__setitem__(key, value)\n"
     ]
    }
   ],
   "source": [
    "all_pbc_flips = PalmBeach_merged[PalmBeach_merged['SALE_YR2'] == 2022.0]\n",
    "all_pbc_flips['pct_change'] = all_pbc_flips[['SALE_PRC1','SALE_PRC2']].pct_change(axis=1)['SALE_PRC2']"
   ]
  },
  {
   "cell_type": "code",
   "execution_count": 57,
   "id": "e870a62e",
   "metadata": {},
   "outputs": [
    {
     "name": "stdout",
     "output_type": "stream",
     "text": [
      "Wellington-equestrian property flips median price change: 0.01\n",
      "Number of Wellington-equestrian flips: 9\n",
      "-----------\n",
      "Wellington property flips (ALL) median price change: 0.21\n",
      "Number of Wellington flips: 272\n"
     ]
    }
   ],
   "source": [
    "print(f\"Wellington-equestrian property flips median price change: {flips['pct_change'].median():.2}\")\n",
    "print(f\"Number of Wellington-equestrian flips: {len(flips)}\")\n",
    "print('-----------')\n",
    "print(f\"Wellington property flips (ALL) median price change: {all_w_flips['pct_change'].median():.2}\")\n",
    "print(f\"Number of Wellington flips: {len(all_w_flips)}\")"
   ]
  },
  {
   "cell_type": "code",
   "execution_count": 31,
   "id": "dc72a25c",
   "metadata": {},
   "outputs": [
    {
     "data": {
      "text/plain": [
       "0.2133641674780915"
      ]
     },
     "execution_count": 31,
     "metadata": {},
     "output_type": "execute_result"
    }
   ],
   "source": [
    "all_w_flips['pct_change'].median()"
   ]
  },
  {
   "cell_type": "code",
   "execution_count": 50,
   "id": "295eaddc",
   "metadata": {},
   "outputs": [],
   "source": [
    "all_w_flips.to_csv('all_wellington_flips.csv')\n",
    "flips.to_csv('wellington_equestrian_flips.csv')"
   ]
  },
  {
   "cell_type": "code",
   "execution_count": 12,
   "id": "ce5e73ee",
   "metadata": {},
   "outputs": [
    {
     "data": {
      "text/plain": [
       "SALE_YR2\n",
       "0.0       806\n",
       "2022.0      9\n",
       "2021.0      2\n",
       "Name: count, dtype: int64"
      ]
     },
     "execution_count": 12,
     "metadata": {},
     "output_type": "execute_result"
    }
   ],
   "source": [
    "final_PalmBeach_Wellington_Equestrian['SALE_YR2'].value_counts()"
   ]
  },
  {
   "cell_type": "code",
   "execution_count": 13,
   "id": "f15ab159",
   "metadata": {},
   "outputs": [
    {
     "data": {
      "text/plain": [
       "SALE_YR1\n",
       "0.0       664\n",
       "2021.0     89\n",
       "2022.0     64\n",
       "Name: count, dtype: int64"
      ]
     },
     "execution_count": 13,
     "metadata": {},
     "output_type": "execute_result"
    }
   ],
   "source": [
    "final_PalmBeach_Wellington_Equestrian['SALE_YR1'].value_counts()"
   ]
  },
  {
   "cell_type": "code",
   "execution_count": 19,
   "id": "dd7f07d0",
   "metadata": {},
   "outputs": [
    {
     "data": {
      "text/html": [
       "<div>\n",
       "<style scoped>\n",
       "    .dataframe tbody tr th:only-of-type {\n",
       "        vertical-align: middle;\n",
       "    }\n",
       "\n",
       "    .dataframe tbody tr th {\n",
       "        vertical-align: top;\n",
       "    }\n",
       "\n",
       "    .dataframe thead th {\n",
       "        text-align: right;\n",
       "    }\n",
       "</style>\n",
       "<table border=\"1\" class=\"dataframe\">\n",
       "  <thead>\n",
       "    <tr style=\"text-align: right;\">\n",
       "      <th></th>\n",
       "      <th>SALE_PRC1</th>\n",
       "    </tr>\n",
       "    <tr>\n",
       "      <th>SALE_YR1</th>\n",
       "      <th></th>\n",
       "    </tr>\n",
       "  </thead>\n",
       "  <tbody>\n",
       "    <tr>\n",
       "      <th>0.0</th>\n",
       "      <td>0.0</td>\n",
       "    </tr>\n",
       "    <tr>\n",
       "      <th>2021.0</th>\n",
       "      <td>2750000.0</td>\n",
       "    </tr>\n",
       "    <tr>\n",
       "      <th>2022.0</th>\n",
       "      <td>4250000.0</td>\n",
       "    </tr>\n",
       "  </tbody>\n",
       "</table>\n",
       "</div>"
      ],
      "text/plain": [
       "          SALE_PRC1\n",
       "SALE_YR1           \n",
       "0.0             0.0\n",
       "2021.0    2750000.0\n",
       "2022.0    4250000.0"
      ]
     },
     "execution_count": 19,
     "metadata": {},
     "output_type": "execute_result"
    }
   ],
   "source": [
    "# final_PalmBeach_Wellington_Equestrian.sort_values(by='SALE_PRC1',ascending=False)\n",
    "final_PalmBeach_Wellington_Equestrian.groupby('SALE_YR1').agg({'SALE_PRC1':'median'})"
   ]
  },
  {
   "cell_type": "code",
   "execution_count": 21,
   "id": "ebb2f83e",
   "metadata": {},
   "outputs": [
    {
     "data": {
      "text/html": [
       "<div>\n",
       "<style scoped>\n",
       "    .dataframe tbody tr th:only-of-type {\n",
       "        vertical-align: middle;\n",
       "    }\n",
       "\n",
       "    .dataframe tbody tr th {\n",
       "        vertical-align: top;\n",
       "    }\n",
       "\n",
       "    .dataframe thead th {\n",
       "        text-align: right;\n",
       "    }\n",
       "</style>\n",
       "<table border=\"1\" class=\"dataframe\">\n",
       "  <thead>\n",
       "    <tr style=\"text-align: right;\">\n",
       "      <th></th>\n",
       "      <th>SALE_PRC2</th>\n",
       "    </tr>\n",
       "    <tr>\n",
       "      <th>SALE_YR2</th>\n",
       "      <th></th>\n",
       "    </tr>\n",
       "  </thead>\n",
       "  <tbody>\n",
       "    <tr>\n",
       "      <th>0.0</th>\n",
       "      <td>0.0</td>\n",
       "    </tr>\n",
       "    <tr>\n",
       "      <th>2021.0</th>\n",
       "      <td>10.0</td>\n",
       "    </tr>\n",
       "    <tr>\n",
       "      <th>2022.0</th>\n",
       "      <td>4500000.0</td>\n",
       "    </tr>\n",
       "  </tbody>\n",
       "</table>\n",
       "</div>"
      ],
      "text/plain": [
       "          SALE_PRC2\n",
       "SALE_YR2           \n",
       "0.0             0.0\n",
       "2021.0         10.0\n",
       "2022.0    4500000.0"
      ]
     },
     "execution_count": 21,
     "metadata": {},
     "output_type": "execute_result"
    }
   ],
   "source": [
    "final_PalmBeach_Wellington_Equestrian.groupby('SALE_YR2').agg({'SALE_PRC2':'median'})"
   ]
  }
 ],
 "metadata": {
  "kernelspec": {
   "display_name": "Python 3 (ipykernel)",
   "language": "python",
   "name": "python3"
  },
  "language_info": {
   "codemirror_mode": {
    "name": "ipython",
    "version": 3
   },
   "file_extension": ".py",
   "mimetype": "text/x-python",
   "name": "python",
   "nbconvert_exporter": "python",
   "pygments_lexer": "ipython3",
   "version": "3.9.12"
  }
 },
 "nbformat": 4,
 "nbformat_minor": 5
}
