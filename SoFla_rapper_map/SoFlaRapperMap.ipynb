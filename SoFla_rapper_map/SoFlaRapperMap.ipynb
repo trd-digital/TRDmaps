{
 "cells": [
  {
   "cell_type": "code",
   "execution_count": 1,
   "metadata": {},
   "outputs": [],
   "source": [
    "from geopy.geocoders import GoogleV3\n",
    "import numpy as np\n",
    "import geocoder\n",
    "import pandas as pd\n",
    "import base64\n",
    "from geojson import Feature, FeatureCollection, Point"
   ]
  },
  {
   "cell_type": "code",
   "execution_count": 2,
   "metadata": {},
   "outputs": [],
   "source": [
    "%store -r google_maps_API_Key\n",
    "geolocator = GoogleV3(api_key=google_maps_API_Key)"
   ]
  },
  {
   "cell_type": "code",
   "execution_count": 3,
   "metadata": {},
   "outputs": [],
   "source": [
    "df = pd.read_csv('so_fla_rappers.csv')"
   ]
  },
  {
   "cell_type": "code",
   "execution_count": 4,
   "metadata": {},
   "outputs": [
    {
     "data": {
      "text/html": [
       "<div>\n",
       "<style scoped>\n",
       "    .dataframe tbody tr th:only-of-type {\n",
       "        vertical-align: middle;\n",
       "    }\n",
       "\n",
       "    .dataframe tbody tr th {\n",
       "        vertical-align: top;\n",
       "    }\n",
       "\n",
       "    .dataframe thead th {\n",
       "        text-align: right;\n",
       "    }\n",
       "</style>\n",
       "<table border=\"1\" class=\"dataframe\">\n",
       "  <thead>\n",
       "    <tr style=\"text-align: right;\">\n",
       "      <th></th>\n",
       "      <th>rapper</th>\n",
       "      <th>address</th>\n",
       "      <th>display_address</th>\n",
       "      <th>price</th>\n",
       "      <th>date_bought</th>\n",
       "      <th>image_url</th>\n",
       "      <th>attribution_url</th>\n",
       "    </tr>\n",
       "  </thead>\n",
       "  <tbody>\n",
       "    <tr>\n",
       "      <th>0</th>\n",
       "      <td>Sean \"P. Diddy\" Combs</td>\n",
       "      <td>1 Star Island Drive, Miami Beach, Fl 33139</td>\n",
       "      <td>1 Star Island Drive, Miami Beach</td>\n",
       "      <td>$35 million</td>\n",
       "      <td>July 2021</td>\n",
       "      <td>https://en.wikipedia.org/wiki/Sean_Combs#/medi...</td>\n",
       "      <td>&lt;a href=\"https://commons.wikimedia.org/wiki/Fi...</td>\n",
       "    </tr>\n",
       "    <tr>\n",
       "      <th>1</th>\n",
       "      <td>Sean \"P. Diddy\" Combs</td>\n",
       "      <td>2 Star Island Drive, Miami Beach, Fl 33139</td>\n",
       "      <td>1 Star Island Drive, Miami Beach</td>\n",
       "      <td>$15 million</td>\n",
       "      <td>November 2003</td>\n",
       "      <td>https://en.wikipedia.org/wiki/Sean_Combs#/medi...</td>\n",
       "      <td>&lt;a href=\"https://commons.wikimedia.org/wiki/Fi...</td>\n",
       "    </tr>\n",
       "    <tr>\n",
       "      <th>2</th>\n",
       "      <td>DJ Khaled</td>\n",
       "      <td>4609 Pine Tree Drive, Miami Beach, FL 33140</td>\n",
       "      <td>4609 Pine Tree Drive, Miami Beach</td>\n",
       "      <td>$21.7 million</td>\n",
       "      <td>September 2018</td>\n",
       "      <td>https://en.wikipedia.org/wiki/DJ_Khaled#/media...</td>\n",
       "      <td>&lt;a href=\"https://commons.wikimedia.org/wiki/Fi...</td>\n",
       "    </tr>\n",
       "    <tr>\n",
       "      <th>3</th>\n",
       "      <td>Lil Wayne</td>\n",
       "      <td>6480 Allison Road, Miami Beach, FL 33141</td>\n",
       "      <td>4609 Pine Tree Drive, Miami Beach</td>\n",
       "      <td>$16.7 million</td>\n",
       "      <td>November 2018</td>\n",
       "      <td>https://en.wikipedia.org/wiki/Lil_Wayne#/media...</td>\n",
       "      <td>&lt;a href=\"https://commons.wikimedia.org/wiki/Fi...</td>\n",
       "    </tr>\n",
       "    <tr>\n",
       "      <th>4</th>\n",
       "      <td>Lil Pump</td>\n",
       "      <td>1510 Bay Drive, Miami Beach, FL 33141</td>\n",
       "      <td>1510 Bay Drive, Miami Beach</td>\n",
       "      <td>$4.6 million</td>\n",
       "      <td>July 2019</td>\n",
       "      <td>https://en.wikipedia.org/wiki/Lil_Pump#/media/...</td>\n",
       "      <td>&lt;a href=\"https://commons.wikimedia.org/wiki/Fi...</td>\n",
       "    </tr>\n",
       "    <tr>\n",
       "      <th>5</th>\n",
       "      <td>Trippie Redd</td>\n",
       "      <td>5600 Southwest 136th Avenue, Southwest Ranches...</td>\n",
       "      <td>5600 Southwest 136th Avenue, Southwest Ranches</td>\n",
       "      <td>$7.5 million</td>\n",
       "      <td>May 2022</td>\n",
       "      <td>https://en.wikipedia.org/wiki/Trippie_Redd#/me...</td>\n",
       "      <td>&lt;a href=\"https://commons.wikimedia.org/wiki/Fi...</td>\n",
       "    </tr>\n",
       "    <tr>\n",
       "      <th>6</th>\n",
       "      <td>Rick Ross</td>\n",
       "      <td>16800 Bershire Court, Southwest Ranches, FL 33331</td>\n",
       "      <td>16800 Bershire Court, Southwest Ranches</td>\n",
       "      <td>$3.5 million</td>\n",
       "      <td>March 2021</td>\n",
       "      <td>https://en.wikipedia.org/wiki/Rick_Ross</td>\n",
       "      <td>&lt;a href=\"https://commons.wikimedia.org/wiki/Fi...</td>\n",
       "    </tr>\n",
       "    <tr>\n",
       "      <th>7</th>\n",
       "      <td>Kodak Black</td>\n",
       "      <td>10031 Vestal Place, Coral Springs</td>\n",
       "      <td>10031 Vestal Place, Coral Springs</td>\n",
       "      <td>$1.8 million</td>\n",
       "      <td>February 2022</td>\n",
       "      <td>https://en.wikipedia.org/wiki/Kodak_Black#/med...</td>\n",
       "      <td>&lt;a href=\"https://commons.wikimedia.org/wiki/Fi...</td>\n",
       "    </tr>\n",
       "  </tbody>\n",
       "</table>\n",
       "</div>"
      ],
      "text/plain": [
       "                  rapper                                            address  \\\n",
       "0  Sean \"P. Diddy\" Combs         1 Star Island Drive, Miami Beach, Fl 33139   \n",
       "1  Sean \"P. Diddy\" Combs         2 Star Island Drive, Miami Beach, Fl 33139   \n",
       "2              DJ Khaled        4609 Pine Tree Drive, Miami Beach, FL 33140   \n",
       "3              Lil Wayne           6480 Allison Road, Miami Beach, FL 33141   \n",
       "4               Lil Pump              1510 Bay Drive, Miami Beach, FL 33141   \n",
       "5           Trippie Redd  5600 Southwest 136th Avenue, Southwest Ranches...   \n",
       "6              Rick Ross  16800 Bershire Court, Southwest Ranches, FL 33331   \n",
       "7            Kodak Black                  10031 Vestal Place, Coral Springs   \n",
       "\n",
       "                                  display_address          price  \\\n",
       "0                1 Star Island Drive, Miami Beach    $35 million   \n",
       "1                1 Star Island Drive, Miami Beach    $15 million   \n",
       "2               4609 Pine Tree Drive, Miami Beach  $21.7 million   \n",
       "3               4609 Pine Tree Drive, Miami Beach  $16.7 million   \n",
       "4                     1510 Bay Drive, Miami Beach   $4.6 million   \n",
       "5  5600 Southwest 136th Avenue, Southwest Ranches   $7.5 million   \n",
       "6         16800 Bershire Court, Southwest Ranches   $3.5 million   \n",
       "7               10031 Vestal Place, Coral Springs   $1.8 million   \n",
       "\n",
       "      date_bought                                          image_url  \\\n",
       "0       July 2021  https://en.wikipedia.org/wiki/Sean_Combs#/medi...   \n",
       "1   November 2003  https://en.wikipedia.org/wiki/Sean_Combs#/medi...   \n",
       "2  September 2018  https://en.wikipedia.org/wiki/DJ_Khaled#/media...   \n",
       "3   November 2018  https://en.wikipedia.org/wiki/Lil_Wayne#/media...   \n",
       "4       July 2019  https://en.wikipedia.org/wiki/Lil_Pump#/media/...   \n",
       "5        May 2022  https://en.wikipedia.org/wiki/Trippie_Redd#/me...   \n",
       "6      March 2021            https://en.wikipedia.org/wiki/Rick_Ross   \n",
       "7   February 2022  https://en.wikipedia.org/wiki/Kodak_Black#/med...   \n",
       "\n",
       "                                     attribution_url  \n",
       "0  <a href=\"https://commons.wikimedia.org/wiki/Fi...  \n",
       "1  <a href=\"https://commons.wikimedia.org/wiki/Fi...  \n",
       "2  <a href=\"https://commons.wikimedia.org/wiki/Fi...  \n",
       "3  <a href=\"https://commons.wikimedia.org/wiki/Fi...  \n",
       "4  <a href=\"https://commons.wikimedia.org/wiki/Fi...  \n",
       "5  <a href=\"https://commons.wikimedia.org/wiki/Fi...  \n",
       "6  <a href=\"https://commons.wikimedia.org/wiki/Fi...  \n",
       "7  <a href=\"https://commons.wikimedia.org/wiki/Fi...  "
      ]
     },
     "execution_count": 4,
     "metadata": {},
     "output_type": "execute_result"
    }
   ],
   "source": [
    "df"
   ]
  },
  {
   "cell_type": "code",
   "execution_count": 5,
   "metadata": {},
   "outputs": [],
   "source": [
    "df['loc'] = df['address'].apply(geolocator.geocode, timeout=10)"
   ]
  },
  {
   "cell_type": "code",
   "execution_count": 6,
   "metadata": {},
   "outputs": [
    {
     "data": {
      "text/plain": [
       "0    (1 W Star Island Dr, Miami Beach, FL 33139, US...\n",
       "1    (2 W Star Island Dr, Miami Beach, FL 33139, US...\n",
       "2    (4609 Pine Tree Dr, Miami Beach, FL 33140, USA...\n",
       "3    (6480 Allison Rd, Miami Beach, FL 33141, USA, ...\n",
       "4    (1510 Bay Dr, Miami Beach, FL 33141, USA, (25....\n",
       "5    (5600 SW 136th Ave, Southwest Ranches, FL 3333...\n",
       "6    (16800 Berkshire Ct, Southwest Ranches, FL 333...\n",
       "7    (10031 Vestal Pl, Coral Springs, FL 33071, USA...\n",
       "Name: loc, dtype: object"
      ]
     },
     "execution_count": 6,
     "metadata": {},
     "output_type": "execute_result"
    }
   ],
   "source": [
    "df['loc']"
   ]
  },
  {
   "cell_type": "code",
   "execution_count": 7,
   "metadata": {},
   "outputs": [],
   "source": [
    "df['point'] = df['loc'].apply(lambda loc: tuple(loc.point) if loc else None)"
   ]
  },
  {
   "cell_type": "code",
   "execution_count": 8,
   "metadata": {},
   "outputs": [],
   "source": [
    "df[['lat','lon','altitude']] = pd.DataFrame(df['point'].to_list(),index=df.index)"
   ]
  },
  {
   "cell_type": "code",
   "execution_count": 9,
   "metadata": {},
   "outputs": [],
   "source": [
    "df['image_img_test'] = ' '"
   ]
  },
  {
   "cell_type": "code",
   "execution_count": 10,
   "metadata": {},
   "outputs": [],
   "source": [
    "df.at[0,'image_img_test']=('<img src=\"Sean_Combs_2010.jpg\" width=\"256\" height=\"174\">')\n",
    "df.at[1,'image_img_test']=('<img src=\"Sean_Combs_2010.jpg\" width=\"256\" height=\"174\">')\n",
    "df.at[2,'image_img_test']=('<img src=\"DJ_Khaled_2012.jpg\" width=\"256\" height=\"188\">')\n",
    "df.at[3,'image_img_test']=('<img src=\"LIL_WAYNE.jpg\" width=\"256\" height=\"252\">')\n",
    "df.at[4,'image_img_test']=('<img src=\"Lil_Pump.jpg\" width=\"256\" height=\"190\">')\n",
    "df.at[5,'image_img_test']=('<img src=\"Tripplie_Redd.jpg\" width=\"256\" height=\"170\">')\n",
    "df.at[6,'image_img_test']=('<img src=\"Rick_Ross.jpg\" width=\"256\" height=\"199\">')\n",
    "df.at[7,'image_img_test']=('<img src=\"Kodak_Black.jpg\" width=\"256\" height=\"136\">')"
   ]
  },
  {
   "cell_type": "code",
   "execution_count": 11,
   "metadata": {},
   "outputs": [
    {
     "data": {
      "text/plain": [
       "Index(['rapper', 'address', 'display_address', 'price', 'date_bought',\n",
       "       'image_url', 'attribution_url', 'loc', 'point', 'lat', 'lon',\n",
       "       'altitude', 'image_img_test'],\n",
       "      dtype='object')"
      ]
     },
     "execution_count": 11,
     "metadata": {},
     "output_type": "execute_result"
    }
   ],
   "source": [
    "df.columns"
   ]
  },
  {
   "cell_type": "code",
   "execution_count": 18,
   "metadata": {},
   "outputs": [
    {
     "data": {
      "text/html": [
       "<div style=\"width:100%;\"><div style=\"position:relative;width:100%;height:0;padding-bottom:60%;\"><span style=\"color:#565656\">Make this Notebook Trusted to load map: File -> Trust Notebook</span><iframe src=\"about:blank\" style=\"position:absolute;width:100%;height:100%;left:0;top:0;border:none !important;\" data-html=%3C%21DOCTYPE%20html%3E%0A%3Chead%3E%20%20%20%20%0A%20%20%20%20%3Cmeta%20http-equiv%3D%22content-type%22%20content%3D%22text/html%3B%20charset%3DUTF-8%22%20/%3E%0A%20%20%20%20%0A%20%20%20%20%20%20%20%20%3Cscript%3E%0A%20%20%20%20%20%20%20%20%20%20%20%20L_NO_TOUCH%20%3D%20false%3B%0A%20%20%20%20%20%20%20%20%20%20%20%20L_DISABLE_3D%20%3D%20false%3B%0A%20%20%20%20%20%20%20%20%3C/script%3E%0A%20%20%20%20%0A%20%20%20%20%3Cstyle%3Ehtml%2C%20body%20%7Bwidth%3A%20100%25%3Bheight%3A%20100%25%3Bmargin%3A%200%3Bpadding%3A%200%3B%7D%3C/style%3E%0A%20%20%20%20%3Cstyle%3E%23map%20%7Bposition%3Aabsolute%3Btop%3A0%3Bbottom%3A0%3Bright%3A0%3Bleft%3A0%3B%7D%3C/style%3E%0A%20%20%20%20%3Cscript%20src%3D%22https%3A//cdn.jsdelivr.net/npm/leaflet%401.6.0/dist/leaflet.js%22%3E%3C/script%3E%0A%20%20%20%20%3Cscript%20src%3D%22https%3A//code.jquery.com/jquery-1.12.4.min.js%22%3E%3C/script%3E%0A%20%20%20%20%3Cscript%20src%3D%22https%3A//maxcdn.bootstrapcdn.com/bootstrap/3.2.0/js/bootstrap.min.js%22%3E%3C/script%3E%0A%20%20%20%20%3Cscript%20src%3D%22https%3A//cdnjs.cloudflare.com/ajax/libs/Leaflet.awesome-markers/2.0.2/leaflet.awesome-markers.js%22%3E%3C/script%3E%0A%20%20%20%20%3Clink%20rel%3D%22stylesheet%22%20href%3D%22https%3A//cdn.jsdelivr.net/npm/leaflet%401.6.0/dist/leaflet.css%22/%3E%0A%20%20%20%20%3Clink%20rel%3D%22stylesheet%22%20href%3D%22https%3A//maxcdn.bootstrapcdn.com/bootstrap/3.2.0/css/bootstrap.min.css%22/%3E%0A%20%20%20%20%3Clink%20rel%3D%22stylesheet%22%20href%3D%22https%3A//maxcdn.bootstrapcdn.com/bootstrap/3.2.0/css/bootstrap-theme.min.css%22/%3E%0A%20%20%20%20%3Clink%20rel%3D%22stylesheet%22%20href%3D%22https%3A//maxcdn.bootstrapcdn.com/font-awesome/4.6.3/css/font-awesome.min.css%22/%3E%0A%20%20%20%20%3Clink%20rel%3D%22stylesheet%22%20href%3D%22https%3A//cdnjs.cloudflare.com/ajax/libs/Leaflet.awesome-markers/2.0.2/leaflet.awesome-markers.css%22/%3E%0A%20%20%20%20%3Clink%20rel%3D%22stylesheet%22%20href%3D%22https%3A//cdn.jsdelivr.net/gh/python-visualization/folium/folium/templates/leaflet.awesome.rotate.min.css%22/%3E%0A%20%20%20%20%0A%20%20%20%20%20%20%20%20%20%20%20%20%3Cmeta%20name%3D%22viewport%22%20content%3D%22width%3Ddevice-width%2C%0A%20%20%20%20%20%20%20%20%20%20%20%20%20%20%20%20initial-scale%3D1.0%2C%20maximum-scale%3D1.0%2C%20user-scalable%3Dno%22%20/%3E%0A%20%20%20%20%20%20%20%20%20%20%20%20%3Cstyle%3E%0A%20%20%20%20%20%20%20%20%20%20%20%20%20%20%20%20%23map_ef1c240aecac44d8957428b06802063b%20%7B%0A%20%20%20%20%20%20%20%20%20%20%20%20%20%20%20%20%20%20%20%20position%3A%20relative%3B%0A%20%20%20%20%20%20%20%20%20%20%20%20%20%20%20%20%20%20%20%20width%3A%20100.0%25%3B%0A%20%20%20%20%20%20%20%20%20%20%20%20%20%20%20%20%20%20%20%20height%3A%20100.0%25%3B%0A%20%20%20%20%20%20%20%20%20%20%20%20%20%20%20%20%20%20%20%20left%3A%200.0%25%3B%0A%20%20%20%20%20%20%20%20%20%20%20%20%20%20%20%20%20%20%20%20top%3A%200.0%25%3B%0A%20%20%20%20%20%20%20%20%20%20%20%20%20%20%20%20%7D%0A%20%20%20%20%20%20%20%20%20%20%20%20%3C/style%3E%0A%20%20%20%20%20%20%20%20%0A%3C/head%3E%0A%3Cbody%3E%20%20%20%20%0A%20%20%20%20%0A%20%20%20%20%20%20%20%20%20%20%20%20%20%20%3Ch3%20align%3D%22center%22%20style%3D%22font-size%3A16px%22%3E%3Cb%3EHere%27s%20where%20big%20time%20rappers%20bought%20homes%20in%20South%20Florida%3C/b%3E%3C/h3%3E%0A%20%20%20%20%20%20%20%20%20%20%20%20%20%0A%20%20%20%20%0A%20%20%20%20%20%20%20%20%20%20%20%20%3Cdiv%20class%3D%22folium-map%22%20id%3D%22map_ef1c240aecac44d8957428b06802063b%22%20%3E%3C/div%3E%0A%20%20%20%20%20%20%20%20%0A%3C/body%3E%0A%3Cscript%3E%20%20%20%20%0A%20%20%20%20%0A%20%20%20%20%20%20%20%20%20%20%20%20var%20map_ef1c240aecac44d8957428b06802063b%20%3D%20L.map%28%0A%20%20%20%20%20%20%20%20%20%20%20%20%20%20%20%20%22map_ef1c240aecac44d8957428b06802063b%22%2C%0A%20%20%20%20%20%20%20%20%20%20%20%20%20%20%20%20%7B%0A%20%20%20%20%20%20%20%20%20%20%20%20%20%20%20%20%20%20%20%20center%3A%20%5B25.927384375%2C%20-80.20570355%5D%2C%0A%20%20%20%20%20%20%20%20%20%20%20%20%20%20%20%20%20%20%20%20crs%3A%20L.CRS.EPSG3857%2C%0A%20%20%20%20%20%20%20%20%20%20%20%20%20%20%20%20%20%20%20%20zoom%3A%209.75%2C%0A%20%20%20%20%20%20%20%20%20%20%20%20%20%20%20%20%20%20%20%20zoomControl%3A%20true%2C%0A%20%20%20%20%20%20%20%20%20%20%20%20%20%20%20%20%20%20%20%20preferCanvas%3A%20false%2C%0A%20%20%20%20%20%20%20%20%20%20%20%20%20%20%20%20%7D%0A%20%20%20%20%20%20%20%20%20%20%20%20%29%3B%0A%0A%20%20%20%20%20%20%20%20%20%20%20%20%0A%0A%20%20%20%20%20%20%20%20%0A%20%20%20%20%0A%20%20%20%20%20%20%20%20%20%20%20%20var%20tile_layer_0c17c977f1274a1b89f71d538ef8aeb0%20%3D%20L.tileLayer%28%0A%20%20%20%20%20%20%20%20%20%20%20%20%20%20%20%20%22https%3A//%7Bs%7D.tile.openstreetmap.org/%7Bz%7D/%7Bx%7D/%7By%7D.png%22%2C%0A%20%20%20%20%20%20%20%20%20%20%20%20%20%20%20%20%7B%22attribution%22%3A%20%22Data%20by%20%5Cu0026copy%3B%20%5Cu003ca%20href%3D%5C%22http%3A//openstreetmap.org%5C%22%5Cu003eOpenStreetMap%5Cu003c/a%5Cu003e%2C%20under%20%5Cu003ca%20href%3D%5C%22http%3A//www.openstreetmap.org/copyright%5C%22%5Cu003eODbL%5Cu003c/a%5Cu003e.%22%2C%20%22detectRetina%22%3A%20false%2C%20%22maxNativeZoom%22%3A%2018%2C%20%22maxZoom%22%3A%2018%2C%20%22minZoom%22%3A%200%2C%20%22noWrap%22%3A%20false%2C%20%22opacity%22%3A%201%2C%20%22subdomains%22%3A%20%22abc%22%2C%20%22tms%22%3A%20false%7D%0A%20%20%20%20%20%20%20%20%20%20%20%20%29.addTo%28map_ef1c240aecac44d8957428b06802063b%29%3B%0A%20%20%20%20%20%20%20%20%0A%20%20%20%20%0A%20%20%20%20%20%20%20%20%20%20%20%20var%20marker_7f7877864fbe48039722b3fc8d21f698%20%3D%20L.marker%28%0A%20%20%20%20%20%20%20%20%20%20%20%20%20%20%20%20%5B25.7745914%2C%20-80.1510354%5D%2C%0A%20%20%20%20%20%20%20%20%20%20%20%20%20%20%20%20%7B%7D%0A%20%20%20%20%20%20%20%20%20%20%20%20%29.addTo%28map_ef1c240aecac44d8957428b06802063b%29%3B%0A%20%20%20%20%20%20%20%20%0A%20%20%20%20%0A%20%20%20%20%20%20%20%20%20%20%20%20marker_7f7877864fbe48039722b3fc8d21f698.bindTooltip%28%0A%20%20%20%20%20%20%20%20%20%20%20%20%20%20%20%20%60%3Cdiv%3E%0A%20%20%20%20%20%20%20%20%20%20%20%20%20%20%20%20%20%20%20%20%20%3Cimg%20src%3D%22Sean_Combs_2010.jpg%22%20width%3D%22256%22%20height%3D%22174%22%3E%3Cbr%3E%20%20%20%20%20%3Cem%3E%3Ca%20href%3D%22https%3A//commons.wikimedia.org/wiki/File%3ASean_Combs_2010.jpg%22%3EReckless%20Dream%20Photography%3C/a%3E%20%3Ca%20href%3D%22https%3A//creativecommons.org/licenses/by/2.0%22%3ECC%20BY%202.0%3C/a%3E%2C%3Cbr%3E%20via%20Wikimedia%20Commons%3C/em%3E%3Cbr%3E%20%20%20%20Rapper%3A%20%3Cstrong%3ESean%20%22P.%20Diddy%22%20Combs%3C/strong%3E%3Cbr%3E%20%20%20%20%20Address%3A%20%3Cstrong%3E1%20Star%20Island%20Drive%2C%3Cbr%3E%20Miami%20Beach%3C/strong%3E%3Cbr%3EPrice%3A%20%20%20%20%20%3Cstrong%3E%2435%20million%3C/strong%3E%3Cbr%3EDate%20bought%3A%20%3Cstrong%3EJuly%202021%3C/strong%3E%0A%20%20%20%20%20%20%20%20%20%20%20%20%20%20%20%20%20%3C/div%3E%60%2C%0A%20%20%20%20%20%20%20%20%20%20%20%20%20%20%20%20%7B%22sticky%22%3A%20true%7D%0A%20%20%20%20%20%20%20%20%20%20%20%20%29%3B%0A%20%20%20%20%20%20%20%20%0A%20%20%20%20%0A%20%20%20%20%20%20%20%20%20%20%20%20var%20marker_778f090cc29943258a695d77fd1a381d%20%3D%20L.marker%28%0A%20%20%20%20%20%20%20%20%20%20%20%20%20%20%20%20%5B25.7750363%2C%20-80.1511881%5D%2C%0A%20%20%20%20%20%20%20%20%20%20%20%20%20%20%20%20%7B%7D%0A%20%20%20%20%20%20%20%20%20%20%20%20%29.addTo%28map_ef1c240aecac44d8957428b06802063b%29%3B%0A%20%20%20%20%20%20%20%20%0A%20%20%20%20%0A%20%20%20%20%20%20%20%20%20%20%20%20marker_778f090cc29943258a695d77fd1a381d.bindTooltip%28%0A%20%20%20%20%20%20%20%20%20%20%20%20%20%20%20%20%60%3Cdiv%3E%0A%20%20%20%20%20%20%20%20%20%20%20%20%20%20%20%20%20%20%20%20%20%3Cimg%20src%3D%22Sean_Combs_2010.jpg%22%20width%3D%22256%22%20height%3D%22174%22%3E%3Cbr%3E%20%20%20%20%20%3Cem%3E%3Ca%20href%3D%22https%3A//commons.wikimedia.org/wiki/File%3ASean_Combs_2010.jpg%22%3EReckless%20Dream%20Photography%3C/a%3E%20%3Ca%20href%3D%22https%3A//creativecommons.org/licenses/by/2.0%22%3ECC%20BY%202.0%3C/a%3E%2C%3Cbr%3E%20via%20Wikimedia%20Commons%3C/em%3E%3Cbr%3E%20%20%20%20Rapper%3A%20%3Cstrong%3ESean%20%22P.%20Diddy%22%20Combs%3C/strong%3E%3Cbr%3E%20%20%20%20%20Address%3A%20%3Cstrong%3E1%20Star%20Island%20Drive%2C%3Cbr%3E%20Miami%20Beach%3C/strong%3E%3Cbr%3EPrice%3A%20%20%20%20%20%3Cstrong%3E%2415%20million%3C/strong%3E%3Cbr%3EDate%20bought%3A%20%3Cstrong%3ENovember%202003%3C/strong%3E%0A%20%20%20%20%20%20%20%20%20%20%20%20%20%20%20%20%20%3C/div%3E%60%2C%0A%20%20%20%20%20%20%20%20%20%20%20%20%20%20%20%20%7B%22sticky%22%3A%20true%7D%0A%20%20%20%20%20%20%20%20%20%20%20%20%29%3B%0A%20%20%20%20%20%20%20%20%0A%20%20%20%20%0A%20%20%20%20%20%20%20%20%20%20%20%20var%20marker_42317a8f716c4ac593742f7712fd7b49%20%3D%20L.marker%28%0A%20%20%20%20%20%20%20%20%20%20%20%20%20%20%20%20%5B25.8210968%2C%20-80.12501879999999%5D%2C%0A%20%20%20%20%20%20%20%20%20%20%20%20%20%20%20%20%7B%7D%0A%20%20%20%20%20%20%20%20%20%20%20%20%29.addTo%28map_ef1c240aecac44d8957428b06802063b%29%3B%0A%20%20%20%20%20%20%20%20%0A%20%20%20%20%0A%20%20%20%20%20%20%20%20%20%20%20%20marker_42317a8f716c4ac593742f7712fd7b49.bindTooltip%28%0A%20%20%20%20%20%20%20%20%20%20%20%20%20%20%20%20%60%3Cdiv%3E%0A%20%20%20%20%20%20%20%20%20%20%20%20%20%20%20%20%20%20%20%20%20%3Cimg%20src%3D%22DJ_Khaled_2012.jpg%22%20width%3D%22256%22%20height%3D%22188%22%3E%3Cbr%3E%20%20%20%20%20%3Cem%3E%3Ca%20href%3D%22https%3A//commons.wikimedia.org/wiki/File%3ADJ_Khaled_2012_%28cropped%29.jpg%22%3EMeghan%20Roberts%3C/a%3E%20%3Ca%20href%3D%22https%3A//creativecommons.org/licenses/by/2.0%22%3ECC%20BY%202.0%3C/a%3E%2C%3Cbr%3E%20via%20Wikimedia%20Commons%3C/em%3E%3Cbr%3E%20%20%20%20Rapper%3A%20%3Cstrong%3EDJ%20Khaled%3C/strong%3E%3Cbr%3E%20%20%20%20%20Address%3A%20%3Cstrong%3E4609%20Pine%20Tree%20Drive%2C%3Cbr%3E%20Miami%20Beach%3C/strong%3E%3Cbr%3EPrice%3A%20%20%20%20%20%3Cstrong%3E%2421.7%20million%3C/strong%3E%3Cbr%3EDate%20bought%3A%20%3Cstrong%3ESeptember%202018%3C/strong%3E%0A%20%20%20%20%20%20%20%20%20%20%20%20%20%20%20%20%20%3C/div%3E%60%2C%0A%20%20%20%20%20%20%20%20%20%20%20%20%20%20%20%20%7B%22sticky%22%3A%20true%7D%0A%20%20%20%20%20%20%20%20%20%20%20%20%29%3B%0A%20%20%20%20%20%20%20%20%0A%20%20%20%20%0A%20%20%20%20%20%20%20%20%20%20%20%20var%20marker_00e60886d381403bbbe9f547a6722fa1%20%3D%20L.marker%28%0A%20%20%20%20%20%20%20%20%20%20%20%20%20%20%20%20%5B25.8472256%2C%20-80.1245825%5D%2C%0A%20%20%20%20%20%20%20%20%20%20%20%20%20%20%20%20%7B%7D%0A%20%20%20%20%20%20%20%20%20%20%20%20%29.addTo%28map_ef1c240aecac44d8957428b06802063b%29%3B%0A%20%20%20%20%20%20%20%20%0A%20%20%20%20%0A%20%20%20%20%20%20%20%20%20%20%20%20marker_00e60886d381403bbbe9f547a6722fa1.bindTooltip%28%0A%20%20%20%20%20%20%20%20%20%20%20%20%20%20%20%20%60%3Cdiv%3E%0A%20%20%20%20%20%20%20%20%20%20%20%20%20%20%20%20%20%20%20%20%20%3Cimg%20src%3D%22LIL_WAYNE.jpg%22%20width%3D%22256%22%20height%3D%22252%22%3E%3Cbr%3E%20%20%20%20%20%3Cem%3E%3Ca%20href%3D%22https%3A//commons.wikimedia.org/wiki/File%3ALIL_WAYNE_BY_CHRIS_ALLMEID.jpg%22%3EChris%20Allmeid%3C/a%3E%20%3Ca%20href%3D%22https%3A//creativecommons.org/licenses/by-sa/4.0%22%3ECC%20BY-SA%204.0%3C/a%3E%2C%3Cbr%3E%20via%20Wikimedia%20Commons%3C/em%3E%3Cbr%3E%20%20%20%20Rapper%3A%20%3Cstrong%3ELil%20Wayne%3C/strong%3E%3Cbr%3E%20%20%20%20%20Address%3A%20%3Cstrong%3E4609%20Pine%20Tree%20Drive%2C%3Cbr%3E%20Miami%20Beach%3C/strong%3E%3Cbr%3EPrice%3A%20%20%20%20%20%3Cstrong%3E%2416.7%20million%3C/strong%3E%3Cbr%3EDate%20bought%3A%20%3Cstrong%3ENovember%202018%3C/strong%3E%0A%20%20%20%20%20%20%20%20%20%20%20%20%20%20%20%20%20%3C/div%3E%60%2C%0A%20%20%20%20%20%20%20%20%20%20%20%20%20%20%20%20%7B%22sticky%22%3A%20true%7D%0A%20%20%20%20%20%20%20%20%20%20%20%20%29%3B%0A%20%20%20%20%20%20%20%20%0A%20%20%20%20%0A%20%20%20%20%20%20%20%20%20%20%20%20var%20marker_2a3edcfeaa144d18b5674dcaec7029a8%20%3D%20L.marker%28%0A%20%20%20%20%20%20%20%20%20%20%20%20%20%20%20%20%5B25.8511102%2C%20-80.13359009999999%5D%2C%0A%20%20%20%20%20%20%20%20%20%20%20%20%20%20%20%20%7B%7D%0A%20%20%20%20%20%20%20%20%20%20%20%20%29.addTo%28map_ef1c240aecac44d8957428b06802063b%29%3B%0A%20%20%20%20%20%20%20%20%0A%20%20%20%20%0A%20%20%20%20%20%20%20%20%20%20%20%20marker_2a3edcfeaa144d18b5674dcaec7029a8.bindTooltip%28%0A%20%20%20%20%20%20%20%20%20%20%20%20%20%20%20%20%60%3Cdiv%3E%0A%20%20%20%20%20%20%20%20%20%20%20%20%20%20%20%20%20%20%20%20%20%3Cimg%20src%3D%22Lil_Pump.jpg%22%20width%3D%22256%22%20height%3D%22190%22%3E%3Cbr%3E%20%20%20%20%20%3Cem%3E%3Ca%20href%3D%22https%3A//commons.wikimedia.org/wiki/File%3ALil_Pump_Icebox_2018_%28cropped%29.jpg%22%3EIcebox%3C/a%3E%20%3Ca%20href%3D%22https%3A//creativecommons.org/licenses/by/3.0%22%3ECC%20BY%203.0%3C/a%3E%2C%3Cbr%3E%20via%20Wikimedia%20Commons%3C/em%3E%3Cbr%3E%20%20%20%20Rapper%3A%20%3Cstrong%3ELil%20Pump%3C/strong%3E%3Cbr%3E%20%20%20%20%20Address%3A%20%3Cstrong%3E1510%20Bay%20Drive%2C%3Cbr%3E%20Miami%20Beach%3C/strong%3E%3Cbr%3EPrice%3A%20%20%20%20%20%3Cstrong%3E%244.6%20million%3C/strong%3E%3Cbr%3EDate%20bought%3A%20%3Cstrong%3EJuly%202019%3C/strong%3E%0A%20%20%20%20%20%20%20%20%20%20%20%20%20%20%20%20%20%3C/div%3E%60%2C%0A%20%20%20%20%20%20%20%20%20%20%20%20%20%20%20%20%7B%22sticky%22%3A%20true%7D%0A%20%20%20%20%20%20%20%20%20%20%20%20%29%3B%0A%20%20%20%20%20%20%20%20%0A%20%20%20%20%0A%20%20%20%20%20%20%20%20%20%20%20%20var%20marker_e61b752286bf47b48776394216a2126d%20%3D%20L.marker%28%0A%20%20%20%20%20%20%20%20%20%20%20%20%20%20%20%20%5B26.0491034%2C%20-80.32853490000001%5D%2C%0A%20%20%20%20%20%20%20%20%20%20%20%20%20%20%20%20%7B%7D%0A%20%20%20%20%20%20%20%20%20%20%20%20%29.addTo%28map_ef1c240aecac44d8957428b06802063b%29%3B%0A%20%20%20%20%20%20%20%20%0A%20%20%20%20%0A%20%20%20%20%20%20%20%20%20%20%20%20marker_e61b752286bf47b48776394216a2126d.bindTooltip%28%0A%20%20%20%20%20%20%20%20%20%20%20%20%20%20%20%20%60%3Cdiv%3E%0A%20%20%20%20%20%20%20%20%20%20%20%20%20%20%20%20%20%20%20%20%20%3Cimg%20src%3D%22Tripplie_Redd.jpg%22%20width%3D%22256%22%20height%3D%22170%22%3E%3Cbr%3E%20%20%20%20%20%3Cem%3E%3Ca%20href%3D%22https%3A//commons.wikimedia.org/wiki/File%3ATripplie_Redd_-_Openair_Frauenfeld_2019_04.jpg%22%3EFrank%20Schwichtenberg%3C/a%3E%20%3Ca%20href%3D%22https%3A//creativecommons.org/licenses/by-sa/4.0%22%3ECC%20BY-SA%204.0%3C/a%3E%2C%3Cbr%3E%20via%20Wikimedia%20Commons%3C/em%3E%3Cbr%3E%20%20%20%20Rapper%3A%20%3Cstrong%3ETrippie%20Redd%3C/strong%3E%3Cbr%3E%20%20%20%20%20Address%3A%20%3Cstrong%3E5600%20Southwest%20136th%20Avenue%2C%3Cbr%3E%20Southwest%20Ranches%3C/strong%3E%3Cbr%3EPrice%3A%20%20%20%20%20%3Cstrong%3E%247.5%20million%3C/strong%3E%3Cbr%3EDate%20bought%3A%20%3Cstrong%3EMay%202022%3C/strong%3E%0A%20%20%20%20%20%20%20%20%20%20%20%20%20%20%20%20%20%3C/div%3E%60%2C%0A%20%20%20%20%20%20%20%20%20%20%20%20%20%20%20%20%7B%22sticky%22%3A%20true%7D%0A%20%20%20%20%20%20%20%20%20%20%20%20%29%3B%0A%20%20%20%20%20%20%20%20%0A%20%20%20%20%0A%20%20%20%20%20%20%20%20%20%20%20%20var%20marker_a1f9678b2b94430cbff674ee6ef1fa07%20%3D%20L.marker%28%0A%20%20%20%20%20%20%20%20%20%20%20%20%20%20%20%20%5B26.046621%2C%20-80.3739988%5D%2C%0A%20%20%20%20%20%20%20%20%20%20%20%20%20%20%20%20%7B%7D%0A%20%20%20%20%20%20%20%20%20%20%20%20%29.addTo%28map_ef1c240aecac44d8957428b06802063b%29%3B%0A%20%20%20%20%20%20%20%20%0A%20%20%20%20%0A%20%20%20%20%20%20%20%20%20%20%20%20marker_a1f9678b2b94430cbff674ee6ef1fa07.bindTooltip%28%0A%20%20%20%20%20%20%20%20%20%20%20%20%20%20%20%20%60%3Cdiv%3E%0A%20%20%20%20%20%20%20%20%20%20%20%20%20%20%20%20%20%20%20%20%20%3Cimg%20src%3D%22Rick_Ross.jpg%22%20width%3D%22256%22%20height%3D%22199%22%3E%3Cbr%3E%20%20%20%20%20%3Cem%3E%3Ca%20href%3D%22https%3A//commons.wikimedia.org/wiki/File%3ARick_Ross_The_Mastermind_Tour_June_15%2C%3Cbr%3E_2014_Toronto_%2814590434716%29_%28cropped%29.jpg%22%3EThe%20Come%20Up%20Show%20from%20Canada%3C/a%3E%20%3Ca%20href%3D%22https%3A//creativecommons.org/licenses/by/2.0%22%3ECC%20BY%202.0%3C/a%3E%2C%3Cbr%3E%20via%20Wikimedia%20Commons%3C/em%3E%3Cbr%3E%20%20%20%20Rapper%3A%20%3Cstrong%3ERick%20Ross%3C/strong%3E%3Cbr%3E%20%20%20%20%20Address%3A%20%3Cstrong%3E16800%20Bershire%20Court%2C%3Cbr%3E%20Southwest%20Ranches%3C/strong%3E%3Cbr%3EPrice%3A%20%20%20%20%20%3Cstrong%3E%243.5%20million%3C/strong%3E%3Cbr%3EDate%20bought%3A%20%3Cstrong%3EMarch%202021%3C/strong%3E%0A%20%20%20%20%20%20%20%20%20%20%20%20%20%20%20%20%20%3C/div%3E%60%2C%0A%20%20%20%20%20%20%20%20%20%20%20%20%20%20%20%20%7B%22sticky%22%3A%20true%7D%0A%20%20%20%20%20%20%20%20%20%20%20%20%29%3B%0A%20%20%20%20%20%20%20%20%0A%20%20%20%20%0A%20%20%20%20%20%20%20%20%20%20%20%20var%20marker_226ed91c7b37404e9c86557026997b40%20%3D%20L.marker%28%0A%20%20%20%20%20%20%20%20%20%20%20%20%20%20%20%20%5B26.2542903%2C%20-80.2576798%5D%2C%0A%20%20%20%20%20%20%20%20%20%20%20%20%20%20%20%20%7B%7D%0A%20%20%20%20%20%20%20%20%20%20%20%20%29.addTo%28map_ef1c240aecac44d8957428b06802063b%29%3B%0A%20%20%20%20%20%20%20%20%0A%20%20%20%20%0A%20%20%20%20%20%20%20%20%20%20%20%20marker_226ed91c7b37404e9c86557026997b40.bindTooltip%28%0A%20%20%20%20%20%20%20%20%20%20%20%20%20%20%20%20%60%3Cdiv%3E%0A%20%20%20%20%20%20%20%20%20%20%20%20%20%20%20%20%20%20%20%20%20%3Cimg%20src%3D%22Kodak_Black.jpg%22%20width%3D%22256%22%20height%3D%22136%22%3E%3Cbr%3E%20%20%20%20%20%3Cem%3E%3Ca%20href%3D%22https%3A//commons.wikimedia.org/wiki/File%3AKodak_Black_Press_Photo_by_David_Cabrera.jpg%22%3EDavid%20Cabrera%3C/a%3E%20%3Ca%20href%3D%22https%3A//creativecommons.org/licenses/by-sa/4.0%22%3ECC%20BY-SA%204.0%3C/a%3E%2C%3Cbr%3E%20via%20Wikimedia%20Commons%3C/em%3E%3Cbr%3E%20%20%20%20Rapper%3A%20%3Cstrong%3EKodak%20Black%3C/strong%3E%3Cbr%3E%20%20%20%20%20Address%3A%20%3Cstrong%3E10031%20Vestal%20Place%2C%3Cbr%3E%20Coral%20Springs%3C/strong%3E%3Cbr%3EPrice%3A%20%20%20%20%20%3Cstrong%3E%241.8%20million%3C/strong%3E%3Cbr%3EDate%20bought%3A%20%3Cstrong%3EFebruary%202022%3C/strong%3E%0A%20%20%20%20%20%20%20%20%20%20%20%20%20%20%20%20%20%3C/div%3E%60%2C%0A%20%20%20%20%20%20%20%20%20%20%20%20%20%20%20%20%7B%22sticky%22%3A%20true%7D%0A%20%20%20%20%20%20%20%20%20%20%20%20%29%3B%0A%20%20%20%20%20%20%20%20%0A%3C/script%3E onload=\"this.contentDocument.open();this.contentDocument.write(    decodeURIComponent(this.getAttribute('data-html')));this.contentDocument.close();\" allowfullscreen webkitallowfullscreen mozallowfullscreen></iframe></div></div>"
      ],
      "text/plain": [
       "<folium.folium.Map at 0x28041a192b0>"
      ]
     },
     "execution_count": 18,
     "metadata": {},
     "output_type": "execute_result"
    }
   ],
   "source": [
    "import folium\n",
    "from folium.plugins import MarkerCluster\n",
    "import textwrap\n",
    "\n",
    "m = folium.Map(location=df[[\"lat\", \"lon\"]].mean().to_list(), zoom_start=9.75)\n",
    "title_html = '''\n",
    "              <h3 align=\"center\" style=\"font-size:16px\"><b>{}</b></h3>\n",
    "             '''.format(f'Here\\'s where big time rappers bought homes in South Florida')\n",
    "\n",
    "# marker_cluster = MarkerCluster().add_to(m)\n",
    "\n",
    "for i,r in df.iterrows():\n",
    "    location = (r[\"lat\"], r[\"lon\"])\n",
    "    info = (r[\"rapper\"], r[\"display_address\"], r[\"price\"], r['date_bought'], r['image_img_test'], r['attribution_url'])\n",
    "    info = list(info)\n",
    "    new_line = '<br>'\n",
    "    bold_start = '<strong>'\n",
    "    bold_end = '</strong>'\n",
    "    italic_start = '<em>'\n",
    "    italic_end = '</em>'\n",
    "    text = f'{info[-2]}{new_line} \\\n",
    "    {italic_start}{info[-1]}{italic_end}{new_line}\\\n",
    "    Rapper: {bold_start}{info[0]}{bold_end}{new_line} \\\n",
    "    Address: {bold_start}{info[1]}{bold_end}{new_line}Price: \\\n",
    "    {bold_start}{info[2]}{bold_end}{new_line}Date bought: {bold_start}{info[3]}{bold_end}'\n",
    "    text = text.replace(\",\",\",<br>\")\n",
    "    folium.Marker(location=location,\n",
    "                      tooltip=text)\\\n",
    "    .add_to(m)\n",
    "\n",
    "m.get_root().html.add_child(folium.Element(title_html))\n",
    "\n",
    "m"
   ]
  },
  {
   "cell_type": "code",
   "execution_count": 19,
   "metadata": {},
   "outputs": [],
   "source": [
    "m.save('index.html')"
   ]
  },
  {
   "cell_type": "code",
   "execution_count": null,
   "metadata": {},
   "outputs": [],
   "source": []
  },
  {
   "cell_type": "code",
   "execution_count": null,
   "metadata": {},
   "outputs": [],
   "source": []
  }
 ],
 "metadata": {
  "kernelspec": {
   "display_name": "Python 3",
   "language": "python",
   "name": "python3"
  },
  "language_info": {
   "codemirror_mode": {
    "name": "ipython",
    "version": 3
   },
   "file_extension": ".py",
   "mimetype": "text/x-python",
   "name": "python",
   "nbconvert_exporter": "python",
   "pygments_lexer": "ipython3",
   "version": "3.8.6"
  },
  "toc": {
   "base_numbering": 1,
   "nav_menu": {},
   "number_sections": true,
   "sideBar": true,
   "skip_h1_title": false,
   "title_cell": "Table of Contents",
   "title_sidebar": "Contents",
   "toc_cell": false,
   "toc_position": {},
   "toc_section_display": true,
   "toc_window_display": false
  }
 },
 "nbformat": 4,
 "nbformat_minor": 4
}
