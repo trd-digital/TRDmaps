{
 "cells": [
  {
   "cell_type": "code",
   "execution_count": 10,
   "id": "d0817064",
   "metadata": {},
   "outputs": [],
   "source": [
    "import pandas as pd\n",
    "from pandas_geojson import to_geojson, write_geojson"
   ]
  },
  {
   "cell_type": "code",
   "execution_count": 14,
   "id": "3651a5e5",
   "metadata": {},
   "outputs": [],
   "source": [
    "df = pd.read_json('Chicago_story_map_data.json')\n",
    "df = df.loc[df['PUB_YEAR'] > 2016]\n",
    "df = df.loc[df['PUB_YEAR'] < 2023]"
   ]
  },
  {
   "cell_type": "code",
   "execution_count": 15,
   "id": "73e572d9",
   "metadata": {},
   "outputs": [
    {
     "data": {
      "text/plain": [
       "Index(['URL', 'URL_2', 'HED', 'DEK', 'ADDRESS', 'description_link', 'PUB_YEAR',\n",
       "       'geo_address', 'loc', 'point', 'lat', 'lon', 'altitude'],\n",
       "      dtype='object')"
      ]
     },
     "execution_count": 15,
     "metadata": {},
     "output_type": "execute_result"
    }
   ],
   "source": [
    "df.columns"
   ]
  },
  {
   "cell_type": "code",
   "execution_count": 16,
   "id": "5be75e99",
   "metadata": {},
   "outputs": [],
   "source": [
    "geo_json = to_geojson(df=df, lat='lat', lon='lon',\n",
    "                     properties=['HED','DEK','description_link','PUB_YEAR','geo_address'])\n",
    "write_geojson(geo_json, filename='Chicago.geojson', indent=4)"
   ]
  }
 ],
 "metadata": {
  "kernelspec": {
   "display_name": "Python 3 (ipykernel)",
   "language": "python",
   "name": "python3"
  },
  "language_info": {
   "codemirror_mode": {
    "name": "ipython",
    "version": 3
   },
   "file_extension": ".py",
   "mimetype": "text/x-python",
   "name": "python",
   "nbconvert_exporter": "python",
   "pygments_lexer": "ipython3",
   "version": "3.9.12"
  }
 },
 "nbformat": 4,
 "nbformat_minor": 5
}
