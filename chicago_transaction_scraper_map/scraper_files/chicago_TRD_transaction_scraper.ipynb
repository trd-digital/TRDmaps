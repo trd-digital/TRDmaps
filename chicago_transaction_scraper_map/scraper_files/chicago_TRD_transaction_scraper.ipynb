{
 "cells": [
  {
   "cell_type": "markdown",
   "id": "d6c89b50",
   "metadata": {},
   "source": [
    "## TO DO:\n",
    "\n",
    "1. Modify the parser to pull the entire story text instead of just the parts tagged as `<p>`, so it'll pull Miranda's stuff as well.\n",
    "2. Run scraper for first 8,000 URLs, since it keeps getting hung up for whatever reason.\n",
    "3. Put the 8,000 results into a DF and then use Python magic to figure out which URLs need scraped, then get the rest of them.\n",
    "4. Pester A3 for all of 2020's URLs."
   ]
  },
  {
   "cell_type": "markdown",
   "id": "a811c0dc",
   "metadata": {},
   "source": [
    "## Imports"
   ]
  },
  {
   "cell_type": "code",
   "execution_count": 6,
   "id": "4c1dd1d6",
   "metadata": {},
   "outputs": [],
   "source": [
    "from geopy.geocoders import GoogleV3\n",
    "from bs4 import BeautifulSoup\n",
    "import requests\n",
    "import time\n",
    "import pandas as pd\n",
    "import numpy as np\n",
    "import urllib3\n",
    "import re\n",
    "from textwrap import shorten\n",
    "import os\n",
    "import geopandas as gpd\n",
    "from IPython.display import clear_output"
   ]
  },
  {
   "cell_type": "markdown",
   "id": "386568bb",
   "metadata": {},
   "source": [
    "## Set Options"
   ]
  },
  {
   "cell_type": "code",
   "execution_count": 137,
   "id": "5bb7d93a",
   "metadata": {},
   "outputs": [],
   "source": [
    "pd.set_option('display.max_columns', 10)\n",
    "pd.set_option('display.max_rows', 1000) ### Default\n",
    "pd.set_option('display.max_colwidth', 100) ### Default 50"
   ]
  },
  {
   "cell_type": "markdown",
   "id": "bb6c2ffd",
   "metadata": {},
   "source": [
    "## Data Read-in"
   ]
  },
  {
   "cell_type": "markdown",
   "id": "d4e72640",
   "metadata": {},
   "source": [
    "<em>All</em> Chicago URLs"
   ]
  },
  {
   "cell_type": "code",
   "execution_count": 3,
   "id": "c8eaced7",
   "metadata": {},
   "outputs": [],
   "source": [
    "df = pd.read_csv('Chicago URLS by year - 2017.csv',header=None)\n",
    "df2 = pd.read_csv('Chicago URLS by year - 2018.csv',header=None)\n",
    "df3 = pd.read_csv('Chicago URLS by year - 2019.csv',header=None)\n",
    "df4 = pd.read_csv('Chicago URLS by year - 2020.csv',header=None)\n",
    "df5 = pd.read_csv('Chicago URLS by year - 2021.csv',header=None)\n",
    "df6 = pd.read_csv('Chicago URLS by year - 2022.csv',header=None)"
   ]
  },
  {
   "cell_type": "code",
   "execution_count": 4,
   "id": "6e6f0fe3",
   "metadata": {},
   "outputs": [],
   "source": [
    "frames = [df,df2,df3,df4,df5,df6]\n",
    "df = pd.concat(frames)\n",
    "df = df.reset_index(drop=True)\n",
    "df = df.rename(columns={0:'URL'})"
   ]
  },
  {
   "cell_type": "code",
   "execution_count": 8,
   "id": "87fb6814",
   "metadata": {},
   "outputs": [
    {
     "data": {
      "text/plain": [
       "12222"
      ]
     },
     "execution_count": 8,
     "metadata": {},
     "output_type": "execute_result"
    }
   ],
   "source": [
    "len(df)"
   ]
  },
  {
   "cell_type": "code",
   "execution_count": 9,
   "id": "5d322fc5",
   "metadata": {},
   "outputs": [],
   "source": [
    "# df1 = df.iloc[:7000,:]\n",
    "# df2 = df.iloc[7000:,:]"
   ]
  },
  {
   "cell_type": "code",
   "execution_count": 36,
   "id": "c1acd19a",
   "metadata": {},
   "outputs": [],
   "source": [
    "# print(len(df1))\n",
    "# print('------')\n",
    "# print(len(df2))"
   ]
  },
  {
   "cell_type": "code",
   "execution_count": 11,
   "id": "4b49a37d",
   "metadata": {},
   "outputs": [],
   "source": [
    "# ### Original Data set - kept for backup\n",
    "# df = pd.read_csv('TRD_CHI-Coverage-Valid-2022-12-01 - Table.csv')\n",
    "# df = df.drop(columns='Last crawled')"
   ]
  },
  {
   "cell_type": "markdown",
   "id": "edfdf697",
   "metadata": {},
   "source": [
    "## Test Ground"
   ]
  },
  {
   "cell_type": "code",
   "execution_count": 12,
   "id": "d8eb6c9d",
   "metadata": {},
   "outputs": [],
   "source": [
    "# page = requests.get('https://therealdeal.com/2022/12/08/adams-announces-moonshot-goal-500k-new-homes/?utm_source=internal&utm_medium=article_aside&utm_campaign=trd_list_posts&utm_content=trending_now')\n",
    "# soup = BeautifulSoup(page.content, 'html.parser')"
   ]
  },
  {
   "cell_type": "code",
   "execution_count": 13,
   "id": "b73bb1a6",
   "metadata": {},
   "outputs": [],
   "source": [
    "# soup.find('h1').text.strip() ### Title\n",
    "# soup.find('h2').text.strip() ### Subhead\n",
    "# soup.find('div', class_='col-7 col-md-3 order-md-3 text-right').text.strip() ### Pub_Date\n",
    "# soup.find_all('p')[2].text.strip() ### Lede"
   ]
  },
  {
   "cell_type": "code",
   "execution_count": 14,
   "id": "0f5e5730",
   "metadata": {},
   "outputs": [],
   "source": [
    "# story_text = soup\n",
    "# story_text_clean = []\n",
    "# for p in story_text:\n",
    "#     p = p.text.strip()\n",
    "#     story_text_clean.append(p)\n",
    "# story_text_clean = [''.join(story_text_clean)]\n",
    "# story_text_clean"
   ]
  },
  {
   "cell_type": "code",
   "execution_count": 15,
   "id": "f28dcd2a",
   "metadata": {},
   "outputs": [],
   "source": [
    "# story_headlines = soup.find_all('h3')\n",
    "# story_headlines_clean = []\n",
    "# for h3 in story_headlines:\n",
    "#     h3 = h3.text.strip()\n",
    "#     story_headlines_clean.append(h3)\n",
    "# story_headlines_clean = [''.join(story_headlines_clean)]"
   ]
  },
  {
   "cell_type": "code",
   "execution_count": 16,
   "id": "88c71566",
   "metadata": {},
   "outputs": [],
   "source": [
    "# story_text = soup.find_all('p')[2:]\n",
    "# story_text_clean = []\n",
    "# for p in story_text:\n",
    "#     p = p.text.strip()\n",
    "#     story_text_clean.append(p)\n",
    "# story_text_clean = [''.join(story_text_clean)]"
   ]
  },
  {
   "cell_type": "markdown",
   "id": "a8c00968",
   "metadata": {},
   "source": [
    "TO DO: Fix image scraper to get PNGs...or succesfull append something"
   ]
  },
  {
   "cell_type": "code",
   "execution_count": 17,
   "id": "12377c5f",
   "metadata": {},
   "outputs": [],
   "source": [
    "# images = soup.find_all('img')\n",
    "# for image in images:\n",
    "#     if 'jpg' in image['src']:\n",
    "#         print(image['src'])"
   ]
  },
  {
   "cell_type": "code",
   "execution_count": 18,
   "id": "e690411c",
   "metadata": {},
   "outputs": [],
   "source": [
    "# images = soup.find_all('img')\n",
    "# png_list = []\n",
    "# for image in images:\n",
    "#     if 'png' in image['src']:\n",
    "#         png_list.append(image['src'])\n",
    "# print(png_list[-1])"
   ]
  },
  {
   "cell_type": "markdown",
   "id": "1cb82010",
   "metadata": {},
   "source": [
    "## Scraper"
   ]
  },
  {
   "cell_type": "code",
   "execution_count": 19,
   "id": "ba246f82",
   "metadata": {},
   "outputs": [],
   "source": [
    "### Create Lists\n",
    "\n",
    "url_list = []\n",
    "hed_list = []\n",
    "dek_list = []\n",
    "pub_date_list = []\n",
    "lede_list = []\n",
    "story_text_list = []\n",
    "story_headline_list = []"
   ]
  },
  {
   "cell_type": "code",
   "execution_count": 20,
   "id": "f12b991b",
   "metadata": {
    "scrolled": true
   },
   "outputs": [
    {
     "name": "stdout",
     "output_type": "stream",
     "text": [
      "12221\n",
      "https://therealdeal.com/chicago/?p=381293\n",
      "DEK fail https://therealdeal.com/chicago/?p=381293 ERROR: 'NoneType' object has no attribute 'text'\n",
      "PUB_DATE fail https://therealdeal.com/chicago/?p=381293 ERROR: 'NoneType' object has no attribute 'text'\n"
     ]
    }
   ],
   "source": [
    "counter = 1\n",
    "for url in df['URL']:\n",
    "    if counter > 13000:\n",
    "        break\n",
    "    else:\n",
    "        try:\n",
    "            page = requests.get(url)\n",
    "            soup = BeautifulSoup(page.content, 'html.parser')\n",
    "            counter = counter + 1\n",
    "            clear_output(wait=True)\n",
    "            url_list.append(url)\n",
    "            print(counter)\n",
    "            print(url)\n",
    "            \n",
    "            ####################\n",
    "            # HED #\n",
    "            \n",
    "            try:\n",
    "                hed_1 = soup.find('h1').text.strip()\n",
    "                hed_list.append(hed_1)\n",
    "            except Exception as e:\n",
    "                print(f'HED fail {url} ERROR: {e}')\n",
    "                hed_list.append(f'HED FAIL {url} ERROR: {e}')\n",
    "            \n",
    "            ####################\n",
    "            # DEK #\n",
    "            \n",
    "            try:\n",
    "                dek_1 = soup.find('h2').text.strip()\n",
    "                dek_list.append(dek_1)\n",
    "            except Exception as e:\n",
    "                print(f'DEK fail {url} ERROR: {e}')\n",
    "                dek_list.append(f'DEK FAIL {url} ERROR: {e}')\n",
    "                \n",
    "            ####################  \n",
    "            # PUB_DATE #\n",
    "            \n",
    "            try:\n",
    "                pub_date_1 = soup.find('div', class_='col-7 col-md-3 order-md-3 text-right').text.strip()\n",
    "                pub_date_list.append(pub_date_1)\n",
    "            except Exception as e:\n",
    "                print(f'PUB_DATE fail {url} ERROR: {e}')\n",
    "                pub_date_list.append(f'PUB_DATE FAIL {url} ERROR: {e}')\n",
    "            \n",
    "            ####################\n",
    "            # LEDE #\n",
    "            \n",
    "            try:  \n",
    "                lede_1 = soup.find_all('p')[2].text.strip()\n",
    "                lede_list.append(lede_1)\n",
    "            except Exception as e:\n",
    "                print(f'LEDE fail {url} ERROR: {e}')\n",
    "                lede_list.append(f'LEDE FAIL {url} ERROR: {e}')\n",
    "                \n",
    "            ####################\n",
    "            # STORY TEXT & H3 headlines #\n",
    "                \n",
    "            try:\n",
    "                story_text = soup.find_all('p')[2:]\n",
    "                story_text_clean = []\n",
    "                for p in story_text:\n",
    "                    p = p.text.strip()\n",
    "                    story_text_clean.append(p)\n",
    "                story_text_clean = [''.join(story_text_clean)]\n",
    "                story_text_list.append(story_text_clean)\n",
    "                \n",
    "            except Exception as e:\n",
    "                print(f'STORY TEXT fail {url} ERROR: {e}')\n",
    "                story_text_list.append(f'STORY TEXT FAIL {url} ERROR: {e}')\n",
    "                \n",
    "            try:\n",
    "                story_headlines = soup.find_all('h3')\n",
    "                story_headlines_clean = []\n",
    "                for h3 in story_headlines:\n",
    "                    h3 = h3.text.strip()\n",
    "                    story_headlines_clean.append(h3)\n",
    "                story_headlines_clean = [''.join(story_headlines_clean)]\n",
    "                story_headline_list.append(story_headlines_clean)\n",
    "                \n",
    "            except Exception as e:\n",
    "                print(f'STORY H3 fail {url} ERROR: {e}')\n",
    "                story_headline_list.append(f'STORY H3 FAIL {url} ERROR: {e}')\n",
    "\n",
    "        except Exception as e:\n",
    "            print(f'{url} - FAIL: {e}')\n",
    "            url_list.append(f'{url} - FAIL: {e}')\n",
    "            hed_list.append(f'{url} - FAIL: {e}')\n",
    "            dek_list.append(f'{url} - FAIL: {e}')\n",
    "            pub_date_list.append(f'{url} - FAIL: {e}')\n",
    "            lede_list.append(f'{url} - FAIL: {e}')\n",
    "            story_text_list.append(f'{url} - FAIL: {e}')\n",
    "            story_headline_list.append(f'{url} - FAIL: {e}')"
   ]
  },
  {
   "cell_type": "code",
   "execution_count": 21,
   "id": "a78136bc",
   "metadata": {},
   "outputs": [
    {
     "name": "stdout",
     "output_type": "stream",
     "text": [
      "12222\n",
      "---------\n",
      "12222\n",
      "---------\n",
      "12222\n",
      "---------\n",
      "12222\n",
      "---------\n",
      "12222\n",
      "---------\n",
      "12222\n",
      "---------\n",
      "12222\n",
      "---------\n"
     ]
    }
   ],
   "source": [
    "print(len(url_list))\n",
    "print('---------')\n",
    "print(len(hed_list))\n",
    "print('---------')\n",
    "print(len(dek_list))\n",
    "print('---------')\n",
    "print(len(pub_date_list))\n",
    "print('---------')\n",
    "print(len(lede_list))\n",
    "print('---------')\n",
    "print(len(story_text_list))\n",
    "print('---------')\n",
    "print(len(story_headline_list))\n",
    "print('---------')"
   ]
  },
  {
   "cell_type": "code",
   "execution_count": 22,
   "id": "3a8424b0",
   "metadata": {},
   "outputs": [],
   "source": [
    "df['URL_2'] = url_list\n",
    "df['HED'] = hed_list\n",
    "df['DEK'] = dek_list\n",
    "df['PUB_DATE'] = pub_date_list\n",
    "df['LEDE'] = lede_list\n",
    "df['STORY_TEXT'] = story_text_list\n",
    "df['STORY_H3_HEADLINES'] = story_headline_list"
   ]
  },
  {
   "cell_type": "markdown",
   "id": "38d16318",
   "metadata": {},
   "source": [
    "## Parser Playground"
   ]
  },
  {
   "cell_type": "code",
   "execution_count": 126,
   "id": "09183b7f",
   "metadata": {},
   "outputs": [],
   "source": [
    "df['STORY_TEXT'] = df['STORY_TEXT'].astype(str)"
   ]
  },
  {
   "cell_type": "code",
   "execution_count": 29,
   "id": "0c3e6d4a",
   "metadata": {},
   "outputs": [],
   "source": [
    "# df['URL'].iloc[20]"
   ]
  },
  {
   "cell_type": "code",
   "execution_count": 158,
   "id": "59bd951d",
   "metadata": {},
   "outputs": [
    {
     "data": {
      "text/plain": [
       "True     7708\n",
       "False    4514\n",
       "Name: ADDRESS, dtype: int64"
      ]
     },
     "execution_count": 158,
     "metadata": {},
     "output_type": "execute_result"
    }
   ],
   "source": [
    "df['ADDRESS'] = df['STORY_TEXT'].str.extract(r'(?P<ADDRESS>[1-9][0-9]* (?:\\w+\\W+){1,6}(?:Avenue|Ave|Boulevard|Blvd|Broadway|Court|Drive|Dr|Huron|Place|Road|Rd|Street|St))')\n",
    "df['ADDRESS'].isna().value_counts()"
   ]
  },
  {
   "cell_type": "code",
   "execution_count": 162,
   "id": "551b9cb8",
   "metadata": {},
   "outputs": [],
   "source": [
    "# df['STORY_TEXT'].iloc[236]"
   ]
  },
  {
   "cell_type": "code",
   "execution_count": 165,
   "id": "7e210ff8",
   "metadata": {
    "scrolled": false
   },
   "outputs": [],
   "source": [
    "# x = 11000\n",
    "# y = x + 1000\n",
    "# df[['URL','ADDRESS','HED']].iloc[x:y]"
   ]
  },
  {
   "cell_type": "code",
   "execution_count": 33,
   "id": "e96ef211",
   "metadata": {},
   "outputs": [],
   "source": [
    "# df = df.drop(columns='SOUP')"
   ]
  },
  {
   "cell_type": "code",
   "execution_count": 34,
   "id": "09e2dad6",
   "metadata": {},
   "outputs": [],
   "source": [
    "# df.to_csv('Chicago_sample.csv')"
   ]
  },
  {
   "cell_type": "markdown",
   "id": "06ce5af6",
   "metadata": {},
   "source": [
    "## Link Formatter"
   ]
  },
  {
   "cell_type": "code",
   "execution_count": 166,
   "id": "a37e8c56",
   "metadata": {},
   "outputs": [],
   "source": [
    "df[\"short_description\"] = df[\"LEDE\"].apply(lambda s: shorten(s, width=20, placeholder=\"\"))\n",
    "df['remaining_desc'] = df.apply(lambda row : row['LEDE'].replace(str(row['short_description']), ''), axis=1)\n",
    "df['remaining_desc']\n",
    "\n",
    "df[\"description_link\"] = '<a href=\"' + df[\"URL\"] + '\" target=\"_blank\" rel=\"noopener noreferrer\">' + df[\"short_description\"] + \"</a>\" + df[\"remaining_desc\"]\n",
    "# df['description_link']"
   ]
  },
  {
   "cell_type": "code",
   "execution_count": 167,
   "id": "b45cd2b5",
   "metadata": {},
   "outputs": [],
   "source": [
    "df['PUB_YEAR'] = df['PUB_DATE'].str.extract(r'(\\d{4})')"
   ]
  },
  {
   "cell_type": "markdown",
   "id": "f1b76b5b",
   "metadata": {},
   "source": [
    "## Geocoder Setup"
   ]
  },
  {
   "cell_type": "code",
   "execution_count": 168,
   "id": "690949df",
   "metadata": {},
   "outputs": [],
   "source": [
    "%store -r google_maps_API_Key\n",
    "geolocator = GoogleV3(api_key=google_maps_API_Key)"
   ]
  },
  {
   "cell_type": "code",
   "execution_count": 169,
   "id": "79b50f6c",
   "metadata": {},
   "outputs": [],
   "source": [
    "df['geo_address'] = df['ADDRESS'] + ' Chicago, IL'\n",
    "df['loc'] = df['geo_address'].apply(geolocator.geocode, timeout=10)\n",
    "df['point'] = df['loc'].apply(lambda loc: tuple(loc.point) if loc else None)\n",
    "df[['lat','lon','altitude']] = pd.DataFrame(df['point'].to_list(),index=df.index)"
   ]
  },
  {
   "cell_type": "code",
   "execution_count": 174,
   "id": "c7e15276",
   "metadata": {},
   "outputs": [],
   "source": [
    "df.to_json('Chicago_story_map_data.json')"
   ]
  },
  {
   "cell_type": "code",
   "execution_count": 175,
   "id": "613d9c29",
   "metadata": {},
   "outputs": [
    {
     "data": {
      "text/plain": [
       "Index(['URL', 'URL_2', 'HED', 'DEK', 'PUB_DATE', 'LEDE', 'STORY_TEXT',\n",
       "       'STORY_H3_HEADLINES', 'ADDRESS', 'short_description', 'remaining_desc',\n",
       "       'description_link', 'PUB_YEAR', 'geo_address', 'loc', 'point', 'lat',\n",
       "       'lon', 'altitude'],\n",
       "      dtype='object')"
      ]
     },
     "execution_count": 175,
     "metadata": {},
     "output_type": "execute_result"
    }
   ],
   "source": [
    "df.columns"
   ]
  },
  {
   "cell_type": "code",
   "execution_count": 240,
   "id": "ac50e83f",
   "metadata": {},
   "outputs": [],
   "source": [
    "df2 = df.drop(columns=['STORY_H3_HEADLINES','PUB_DATE','STORY_TEXT','short_description','LEDE','remaining_desc'])\n",
    "df2 = df2.dropna(subset='loc')\n",
    "df2.drop(df2.loc[df2['DEK'].str.contains('fail')].index, inplace=True)\n",
    "df2.drop(df2.loc[df2['HED'].str.contains('fail')].index, inplace=True)\n",
    "df2.reset_index(inplace=True)\n",
    "df2 = df2.drop(columns='index')"
   ]
  },
  {
   "cell_type": "code",
   "execution_count": 251,
   "id": "e5e293ac",
   "metadata": {},
   "outputs": [],
   "source": [
    "# from pandas_geojson import to_geojson"
   ]
  },
  {
   "cell_type": "code",
   "execution_count": 221,
   "id": "d6aca4d7",
   "metadata": {},
   "outputs": [
    {
     "data": {
      "text/plain": [
       "Index(['URL', 'URL_2', 'HED', 'DEK', 'ADDRESS', 'description_link', 'PUB_YEAR',\n",
       "       'geo_address', 'loc', 'point', 'lat', 'lon', 'altitude'],\n",
       "      dtype='object')"
      ]
     },
     "execution_count": 221,
     "metadata": {},
     "output_type": "execute_result"
    }
   ],
   "source": [
    "df2.columns"
   ]
  },
  {
   "cell_type": "code",
   "execution_count": 218,
   "id": "af8f673c",
   "metadata": {},
   "outputs": [
    {
     "data": {
      "text/plain": [
       "False    4336\n",
       "Name: URL_2, dtype: int64"
      ]
     },
     "execution_count": 218,
     "metadata": {},
     "output_type": "execute_result"
    }
   ],
   "source": [
    "# df2['URL_2'].str.contains('FAIL').value_counts()"
   ]
  },
  {
   "cell_type": "code",
   "execution_count": 250,
   "id": "5e25be53",
   "metadata": {},
   "outputs": [],
   "source": [
    "df2.to_csv('Chicago_story_map_data.csv', sep='|')\n",
    "df2.to_json('Chicago_story_map_data.json')"
   ]
  },
  {
   "cell_type": "code",
   "execution_count": 252,
   "id": "eeef4e02",
   "metadata": {},
   "outputs": [
    {
     "data": {
      "text/html": [
       "<div>\n",
       "<style scoped>\n",
       "    .dataframe tbody tr th:only-of-type {\n",
       "        vertical-align: middle;\n",
       "    }\n",
       "\n",
       "    .dataframe tbody tr th {\n",
       "        vertical-align: top;\n",
       "    }\n",
       "\n",
       "    .dataframe thead th {\n",
       "        text-align: right;\n",
       "    }\n",
       "</style>\n",
       "<table border=\"1\" class=\"dataframe\">\n",
       "  <thead>\n",
       "    <tr style=\"text-align: right;\">\n",
       "      <th></th>\n",
       "      <th>URL</th>\n",
       "      <th>URL_2</th>\n",
       "      <th>HED</th>\n",
       "      <th>DEK</th>\n",
       "      <th>ADDRESS</th>\n",
       "      <th>...</th>\n",
       "      <th>loc</th>\n",
       "      <th>point</th>\n",
       "      <th>lat</th>\n",
       "      <th>lon</th>\n",
       "      <th>altitude</th>\n",
       "    </tr>\n",
       "  </thead>\n",
       "  <tbody>\n",
       "    <tr>\n",
       "      <th>0</th>\n",
       "      <td>https://therealdeal.com/chicago/?p=317106</td>\n",
       "      <td>https://therealdeal.com/chicago/?p=317106</td>\n",
       "      <td>Real estate’s diversity problem</td>\n",
       "      <td>An entrenched culture marked by privately held family firms has largely blocked out minorities a...</td>\n",
       "      <td>108 Leonard Street</td>\n",
       "      <td>...</td>\n",
       "      <td>(N Leonard Ave, Chicago, IL, USA, (41.9872007, -87.7682537))</td>\n",
       "      <td>(41.9872007, -87.7682537, 0.0)</td>\n",
       "      <td>41.987201</td>\n",
       "      <td>-87.768254</td>\n",
       "      <td>0.0</td>\n",
       "    </tr>\n",
       "    <tr>\n",
       "      <th>1</th>\n",
       "      <td>https://therealdeal.com/chicago/?p=350083</td>\n",
       "      <td>https://therealdeal.com/chicago/?p=350083</td>\n",
       "      <td>An insider’s guide to real estate syndication</td>\n",
       "      <td>How the popular investment model works, and who you need to know to get it done</td>\n",
       "      <td>432 Park Avenue</td>\n",
       "      <td>...</td>\n",
       "      <td>(N North Park Avenue, Chicago, IL, USA, (41.9106866, -87.636645))</td>\n",
       "      <td>(41.9106866, -87.636645, 0.0)</td>\n",
       "      <td>41.910687</td>\n",
       "      <td>-87.636645</td>\n",
       "      <td>0.0</td>\n",
       "    </tr>\n",
       "    <tr>\n",
       "      <th>2</th>\n",
       "      <td>https://therealdeal.com/chicago/?p=302451</td>\n",
       "      <td>https://therealdeal.com/chicago/?p=302451</td>\n",
       "      <td>Highgate: The quiet hotel powerhouse</td>\n",
       "      <td>As investors in the sector retreat, Highgate has doubled down, becoming Manhattan’s most active ...</td>\n",
       "      <td>650 Madison Avenue</td>\n",
       "      <td>...</td>\n",
       "      <td>(650 W Madison St, Chicago, IL 60661, USA, (41.8821492, -87.64469369999999))</td>\n",
       "      <td>(41.8821492, -87.64469369999999, 0.0)</td>\n",
       "      <td>41.882149</td>\n",
       "      <td>-87.644694</td>\n",
       "      <td>0.0</td>\n",
       "    </tr>\n",
       "    <tr>\n",
       "      <th>3</th>\n",
       "      <td>https://therealdeal.com/chicago/?p=122962</td>\n",
       "      <td>https://therealdeal.com/chicago/?p=122962</td>\n",
       "      <td>Flagship Apple store on North Michigan could fetch up to $175M: report</td>\n",
       "      <td>Walton Street Capital wants to unload the retail portion of its office tower</td>\n",
       "      <td>401 North Michigan Avenue</td>\n",
       "      <td>...</td>\n",
       "      <td>(401 N Michigan Ave, Chicago, IL 60606, USA, (41.88955600000001, -87.6230294))</td>\n",
       "      <td>(41.88955600000001, -87.6230294, 0.0)</td>\n",
       "      <td>41.889556</td>\n",
       "      <td>-87.623029</td>\n",
       "      <td>0.0</td>\n",
       "    </tr>\n",
       "    <tr>\n",
       "      <th>4</th>\n",
       "      <td>https://therealdeal.com/chicago/?p=123010</td>\n",
       "      <td>https://therealdeal.com/chicago/?p=123010</td>\n",
       "      <td>Drugmaker Depomed shifts headquarters to Lake Forest</td>\n",
       "      <td>The new space is in an office park alongside other pharmaceutical firms</td>\n",
       "      <td>100 South Saunders Road</td>\n",
       "      <td>...</td>\n",
       "      <td>(100 Saunders Rd, Lake Forest, IL 60045, USA, (42.238585, -87.8989811))</td>\n",
       "      <td>(42.238585, -87.8989811, 0.0)</td>\n",
       "      <td>42.238585</td>\n",
       "      <td>-87.898981</td>\n",
       "      <td>0.0</td>\n",
       "    </tr>\n",
       "    <tr>\n",
       "      <th>...</th>\n",
       "      <td>...</td>\n",
       "      <td>...</td>\n",
       "      <td>...</td>\n",
       "      <td>...</td>\n",
       "      <td>...</td>\n",
       "      <td>...</td>\n",
       "      <td>...</td>\n",
       "      <td>...</td>\n",
       "      <td>...</td>\n",
       "      <td>...</td>\n",
       "      <td>...</td>\n",
       "    </tr>\n",
       "    <tr>\n",
       "      <th>4309</th>\n",
       "      <td>https://therealdeal.com/chicago/?p=382415</td>\n",
       "      <td>https://therealdeal.com/chicago/?p=382415</td>\n",
       "      <td>Glencoe’s priciest home this year could be demolished for new digs</td>\n",
       "      <td>Mansion sold for full ask in less than a week on the market</td>\n",
       "      <td>333 Surfside Place</td>\n",
       "      <td>...</td>\n",
       "      <td>(Chicago, IL, USA, (41.8781136, -87.6297982))</td>\n",
       "      <td>(41.8781136, -87.6297982, 0.0)</td>\n",
       "      <td>41.878114</td>\n",
       "      <td>-87.629798</td>\n",
       "      <td>0.0</td>\n",
       "    </tr>\n",
       "    <tr>\n",
       "      <th>4310</th>\n",
       "      <td>https://therealdeal.com/chicago/?p=382448</td>\n",
       "      <td>https://therealdeal.com/chicago/?p=382448</td>\n",
       "      <td>Joint venture on South Loop mixed-use tower gets OK’d</td>\n",
       "      <td>Tower will include 164 resi units</td>\n",
       "      <td>626 South Wabash Avenue</td>\n",
       "      <td>...</td>\n",
       "      <td>(626 S Wabash Ave, Chicago, IL 60605, USA, (41.8737364, -87.62597570000001))</td>\n",
       "      <td>(41.8737364, -87.62597570000001, 0.0)</td>\n",
       "      <td>41.873736</td>\n",
       "      <td>-87.625976</td>\n",
       "      <td>0.0</td>\n",
       "    </tr>\n",
       "    <tr>\n",
       "      <th>4311</th>\n",
       "      <td>https://therealdeal.com/chicago/?p=382463</td>\n",
       "      <td>https://therealdeal.com/chicago/?p=382463</td>\n",
       "      <td>Vista Property plans another West Loop office project</td>\n",
       "      <td>New York developer has multiple projects ongoing across downtown</td>\n",
       "      <td>640 West Randolph Street</td>\n",
       "      <td>...</td>\n",
       "      <td>(640 W Randolph St, Chicago, IL 60661, USA, (41.8848249, -87.6446948))</td>\n",
       "      <td>(41.8848249, -87.6446948, 0.0)</td>\n",
       "      <td>41.884825</td>\n",
       "      <td>-87.644695</td>\n",
       "      <td>0.0</td>\n",
       "    </tr>\n",
       "    <tr>\n",
       "      <th>4312</th>\n",
       "      <td>https://therealdeal.com/chicago/?p=382514</td>\n",
       "      <td>https://therealdeal.com/chicago/?p=382514</td>\n",
       "      <td>Will new Board of Review commissioners quell feud with Kaegi?</td>\n",
       "      <td>Samantha Steele, George Cardenas join Larry Rogers Jr.</td>\n",
       "      <td>20 years while St</td>\n",
       "      <td>...</td>\n",
       "      <td>(Chicago, IL, USA, (41.8781136, -87.6297982))</td>\n",
       "      <td>(41.8781136, -87.6297982, 0.0)</td>\n",
       "      <td>41.878114</td>\n",
       "      <td>-87.629798</td>\n",
       "      <td>0.0</td>\n",
       "    </tr>\n",
       "    <tr>\n",
       "      <th>4313</th>\n",
       "      <td>https://therealdeal.com/chicago/?p=382574</td>\n",
       "      <td>https://therealdeal.com/chicago/?p=382574</td>\n",
       "      <td>Will adjacent Lincoln Park homes listed for $5.3M survive a sale?</td>\n",
       "      <td>Combined listing of two homes emphasizes potential lot size</td>\n",
       "      <td>1909 North Orchard Street</td>\n",
       "      <td>...</td>\n",
       "      <td>(1909 N Orchard St, Chicago, IL 60614, USA, (41.91639989999999, -87.6456717))</td>\n",
       "      <td>(41.91639989999999, -87.6456717, 0.0)</td>\n",
       "      <td>41.916400</td>\n",
       "      <td>-87.645672</td>\n",
       "      <td>0.0</td>\n",
       "    </tr>\n",
       "  </tbody>\n",
       "</table>\n",
       "<p>4314 rows × 13 columns</p>\n",
       "</div>"
      ],
      "text/plain": [
       "                                            URL  \\\n",
       "0     https://therealdeal.com/chicago/?p=317106   \n",
       "1     https://therealdeal.com/chicago/?p=350083   \n",
       "2     https://therealdeal.com/chicago/?p=302451   \n",
       "3     https://therealdeal.com/chicago/?p=122962   \n",
       "4     https://therealdeal.com/chicago/?p=123010   \n",
       "...                                         ...   \n",
       "4309  https://therealdeal.com/chicago/?p=382415   \n",
       "4310  https://therealdeal.com/chicago/?p=382448   \n",
       "4311  https://therealdeal.com/chicago/?p=382463   \n",
       "4312  https://therealdeal.com/chicago/?p=382514   \n",
       "4313  https://therealdeal.com/chicago/?p=382574   \n",
       "\n",
       "                                          URL_2  \\\n",
       "0     https://therealdeal.com/chicago/?p=317106   \n",
       "1     https://therealdeal.com/chicago/?p=350083   \n",
       "2     https://therealdeal.com/chicago/?p=302451   \n",
       "3     https://therealdeal.com/chicago/?p=122962   \n",
       "4     https://therealdeal.com/chicago/?p=123010   \n",
       "...                                         ...   \n",
       "4309  https://therealdeal.com/chicago/?p=382415   \n",
       "4310  https://therealdeal.com/chicago/?p=382448   \n",
       "4311  https://therealdeal.com/chicago/?p=382463   \n",
       "4312  https://therealdeal.com/chicago/?p=382514   \n",
       "4313  https://therealdeal.com/chicago/?p=382574   \n",
       "\n",
       "                                                                         HED  \\\n",
       "0                                            Real estate’s diversity problem   \n",
       "1                              An insider’s guide to real estate syndication   \n",
       "2                                       Highgate: The quiet hotel powerhouse   \n",
       "3     Flagship Apple store on North Michigan could fetch up to $175M: report   \n",
       "4                       Drugmaker Depomed shifts headquarters to Lake Forest   \n",
       "...                                                                      ...   \n",
       "4309      Glencoe’s priciest home this year could be demolished for new digs   \n",
       "4310                   Joint venture on South Loop mixed-use tower gets OK’d   \n",
       "4311                   Vista Property plans another West Loop office project   \n",
       "4312           Will new Board of Review commissioners quell feud with Kaegi?   \n",
       "4313       Will adjacent Lincoln Park homes listed for $5.3M survive a sale?   \n",
       "\n",
       "                                                                                                      DEK  \\\n",
       "0     An entrenched culture marked by privately held family firms has largely blocked out minorities a...   \n",
       "1                         How the popular investment model works, and who you need to know to get it done   \n",
       "2     As investors in the sector retreat, Highgate has doubled down, becoming Manhattan’s most active ...   \n",
       "3                            Walton Street Capital wants to unload the retail portion of its office tower   \n",
       "4                                 The new space is in an office park alongside other pharmaceutical firms   \n",
       "...                                                                                                   ...   \n",
       "4309                                          Mansion sold for full ask in less than a week on the market   \n",
       "4310                                                                    Tower will include 164 resi units   \n",
       "4311                                     New York developer has multiple projects ongoing across downtown   \n",
       "4312                                               Samantha Steele, George Cardenas join Larry Rogers Jr.   \n",
       "4313                                          Combined listing of two homes emphasizes potential lot size   \n",
       "\n",
       "                        ADDRESS  ...  \\\n",
       "0            108 Leonard Street  ...   \n",
       "1               432 Park Avenue  ...   \n",
       "2            650 Madison Avenue  ...   \n",
       "3     401 North Michigan Avenue  ...   \n",
       "4       100 South Saunders Road  ...   \n",
       "...                         ...  ...   \n",
       "4309         333 Surfside Place  ...   \n",
       "4310    626 South Wabash Avenue  ...   \n",
       "4311   640 West Randolph Street  ...   \n",
       "4312          20 years while St  ...   \n",
       "4313  1909 North Orchard Street  ...   \n",
       "\n",
       "                                                                                 loc  \\\n",
       "0                       (N Leonard Ave, Chicago, IL, USA, (41.9872007, -87.7682537))   \n",
       "1                  (N North Park Avenue, Chicago, IL, USA, (41.9106866, -87.636645))   \n",
       "2       (650 W Madison St, Chicago, IL 60661, USA, (41.8821492, -87.64469369999999))   \n",
       "3     (401 N Michigan Ave, Chicago, IL 60606, USA, (41.88955600000001, -87.6230294))   \n",
       "4            (100 Saunders Rd, Lake Forest, IL 60045, USA, (42.238585, -87.8989811))   \n",
       "...                                                                              ...   \n",
       "4309                                   (Chicago, IL, USA, (41.8781136, -87.6297982))   \n",
       "4310    (626 S Wabash Ave, Chicago, IL 60605, USA, (41.8737364, -87.62597570000001))   \n",
       "4311          (640 W Randolph St, Chicago, IL 60661, USA, (41.8848249, -87.6446948))   \n",
       "4312                                   (Chicago, IL, USA, (41.8781136, -87.6297982))   \n",
       "4313   (1909 N Orchard St, Chicago, IL 60614, USA, (41.91639989999999, -87.6456717))   \n",
       "\n",
       "                                      point        lat        lon altitude  \n",
       "0            (41.9872007, -87.7682537, 0.0)  41.987201 -87.768254      0.0  \n",
       "1             (41.9106866, -87.636645, 0.0)  41.910687 -87.636645      0.0  \n",
       "2     (41.8821492, -87.64469369999999, 0.0)  41.882149 -87.644694      0.0  \n",
       "3     (41.88955600000001, -87.6230294, 0.0)  41.889556 -87.623029      0.0  \n",
       "4             (42.238585, -87.8989811, 0.0)  42.238585 -87.898981      0.0  \n",
       "...                                     ...        ...        ...      ...  \n",
       "4309         (41.8781136, -87.6297982, 0.0)  41.878114 -87.629798      0.0  \n",
       "4310  (41.8737364, -87.62597570000001, 0.0)  41.873736 -87.625976      0.0  \n",
       "4311         (41.8848249, -87.6446948, 0.0)  41.884825 -87.644695      0.0  \n",
       "4312         (41.8781136, -87.6297982, 0.0)  41.878114 -87.629798      0.0  \n",
       "4313  (41.91639989999999, -87.6456717, 0.0)  41.916400 -87.645672      0.0  \n",
       "\n",
       "[4314 rows x 13 columns]"
      ]
     },
     "execution_count": 252,
     "metadata": {},
     "output_type": "execute_result"
    }
   ],
   "source": [
    "df2"
   ]
  },
  {
   "cell_type": "code",
   "execution_count": 171,
   "id": "ce30ba9c",
   "metadata": {},
   "outputs": [
    {
     "data": {
      "text/html": [
       "<div>\n",
       "<style scoped>\n",
       "    .dataframe tbody tr th:only-of-type {\n",
       "        vertical-align: middle;\n",
       "    }\n",
       "\n",
       "    .dataframe tbody tr th {\n",
       "        vertical-align: top;\n",
       "    }\n",
       "\n",
       "    .dataframe thead th {\n",
       "        text-align: right;\n",
       "    }\n",
       "</style>\n",
       "<table border=\"1\" class=\"dataframe\">\n",
       "  <thead>\n",
       "    <tr style=\"text-align: right;\">\n",
       "      <th></th>\n",
       "      <th>geo_address</th>\n",
       "      <th>lat</th>\n",
       "      <th>lon</th>\n",
       "      <th>altitude</th>\n",
       "    </tr>\n",
       "  </thead>\n",
       "  <tbody>\n",
       "    <tr>\n",
       "      <th>0</th>\n",
       "      <td>108 Leonard Street Chicago, IL</td>\n",
       "      <td>41.987201</td>\n",
       "      <td>-87.768254</td>\n",
       "      <td>0.0</td>\n",
       "    </tr>\n",
       "    <tr>\n",
       "      <th>1</th>\n",
       "      <td>NaN</td>\n",
       "      <td>NaN</td>\n",
       "      <td>NaN</td>\n",
       "      <td>NaN</td>\n",
       "    </tr>\n",
       "    <tr>\n",
       "      <th>2</th>\n",
       "      <td>300 South Grand Avenue Chicago, IL</td>\n",
       "      <td>41.931535</td>\n",
       "      <td>-87.929152</td>\n",
       "      <td>0.0</td>\n",
       "    </tr>\n",
       "    <tr>\n",
       "      <th>3</th>\n",
       "      <td>432 Park Avenue Chicago, IL</td>\n",
       "      <td>41.910687</td>\n",
       "      <td>-87.636645</td>\n",
       "      <td>0.0</td>\n",
       "    </tr>\n",
       "    <tr>\n",
       "      <th>4</th>\n",
       "      <td>NaN</td>\n",
       "      <td>NaN</td>\n",
       "      <td>NaN</td>\n",
       "      <td>NaN</td>\n",
       "    </tr>\n",
       "    <tr>\n",
       "      <th>...</th>\n",
       "      <td>...</td>\n",
       "      <td>...</td>\n",
       "      <td>...</td>\n",
       "      <td>...</td>\n",
       "    </tr>\n",
       "    <tr>\n",
       "      <th>12217</th>\n",
       "      <td>20 years while St Chicago, IL</td>\n",
       "      <td>41.878114</td>\n",
       "      <td>-87.629798</td>\n",
       "      <td>0.0</td>\n",
       "    </tr>\n",
       "    <tr>\n",
       "      <th>12218</th>\n",
       "      <td>NaN</td>\n",
       "      <td>NaN</td>\n",
       "      <td>NaN</td>\n",
       "      <td>NaN</td>\n",
       "    </tr>\n",
       "    <tr>\n",
       "      <th>12219</th>\n",
       "      <td>NaN</td>\n",
       "      <td>NaN</td>\n",
       "      <td>NaN</td>\n",
       "      <td>NaN</td>\n",
       "    </tr>\n",
       "    <tr>\n",
       "      <th>12220</th>\n",
       "      <td>1909 North Orchard Street Chicago, IL</td>\n",
       "      <td>41.916400</td>\n",
       "      <td>-87.645672</td>\n",
       "      <td>0.0</td>\n",
       "    </tr>\n",
       "    <tr>\n",
       "      <th>12221</th>\n",
       "      <td>NaN</td>\n",
       "      <td>NaN</td>\n",
       "      <td>NaN</td>\n",
       "      <td>NaN</td>\n",
       "    </tr>\n",
       "  </tbody>\n",
       "</table>\n",
       "<p>12222 rows × 4 columns</p>\n",
       "</div>"
      ],
      "text/plain": [
       "                                 geo_address        lat        lon  altitude\n",
       "0             108 Leonard Street Chicago, IL  41.987201 -87.768254       0.0\n",
       "1                                        NaN        NaN        NaN       NaN\n",
       "2         300 South Grand Avenue Chicago, IL  41.931535 -87.929152       0.0\n",
       "3                432 Park Avenue Chicago, IL  41.910687 -87.636645       0.0\n",
       "4                                        NaN        NaN        NaN       NaN\n",
       "...                                      ...        ...        ...       ...\n",
       "12217          20 years while St Chicago, IL  41.878114 -87.629798       0.0\n",
       "12218                                    NaN        NaN        NaN       NaN\n",
       "12219                                    NaN        NaN        NaN       NaN\n",
       "12220  1909 North Orchard Street Chicago, IL  41.916400 -87.645672       0.0\n",
       "12221                                    NaN        NaN        NaN       NaN\n",
       "\n",
       "[12222 rows x 4 columns]"
      ]
     },
     "execution_count": 171,
     "metadata": {},
     "output_type": "execute_result"
    }
   ],
   "source": [
    "df[['geo_address','lat','lon','altitude']]"
   ]
  },
  {
   "cell_type": "markdown",
   "id": "3d90e2eb",
   "metadata": {},
   "source": [
    "## Code graveyard"
   ]
  },
  {
   "cell_type": "code",
   "execution_count": 35,
   "id": "331057d4",
   "metadata": {},
   "outputs": [],
   "source": [
    "            ####################\n",
    "            # IMAGES #\n",
    "            \n",
    "#             try:            \n",
    "#                 images = soup.find_all('img')\n",
    "#                 image_found = False\n",
    "#                 try:\n",
    "#                     while image_found == False:\n",
    "#                         png_list = []\n",
    "#                         for image in images:\n",
    "#                             if 'jpg' in image['src']:\n",
    "#                                 image_list.append(image['src'])\n",
    "#                                 print(image['src'])\n",
    "#                                 image_found = True\n",
    "#                             break\n",
    "#                         if image_found == False:\n",
    "#                             for image in images:\n",
    "#                                 if 'png' in image['src']:\n",
    "#                                     png_list.append(image['src'])\n",
    "#                                     image_found = True\n",
    "#                             image_list.append(png_list[-1])\n",
    "#                             print(png_list[-1])\n",
    "#                 except Exception as e:\n",
    "#                     print(f'No dice: {e}')\n",
    "#                 print('------')\n",
    "#             except Exception as e:\n",
    "#                 print('find_image_fail')\n",
    "            \n",
    "            ####################"
   ]
  },
  {
   "cell_type": "markdown",
   "id": "c3a4e90d",
   "metadata": {},
   "source": [
    "## Map URL snagger"
   ]
  },
  {
   "cell_type": "markdown",
   "id": "0a2716e1",
   "metadata": {},
   "source": [
    "Map template URL: `https://trd-digital.github.io/trd-news-interactive-maps/{map-folder-name}`"
   ]
  },
  {
   "cell_type": "code",
   "execution_count": 1,
   "id": "dd425ea2",
   "metadata": {},
   "outputs": [],
   "source": [
    "base_name = 'https://trd-digital.github.io/trd-news-interactive-maps/'"
   ]
  },
  {
   "cell_type": "code",
   "execution_count": 8,
   "id": "a7c9c79e",
   "metadata": {},
   "outputs": [
    {
     "name": "stdout",
     "output_type": "stream",
     "text": [
      "https://trd-digital.github.io/trd-news-interactive-maps/chicago_transaction_scraper_map\n"
     ]
    }
   ],
   "source": [
    "cwd = 'chicago_transaction_scraper_map'\n",
    "\n",
    "cwd = cwd.split('/')\n",
    "\n",
    "final_name = base_name + cwd[-1]\n",
    "print(final_name)"
   ]
  }
 ],
 "metadata": {
  "kernelspec": {
   "display_name": "Python 3 (ipykernel)",
   "language": "python",
   "name": "python3"
  },
  "language_info": {
   "codemirror_mode": {
    "name": "ipython",
    "version": 3
   },
   "file_extension": ".py",
   "mimetype": "text/x-python",
   "name": "python",
   "nbconvert_exporter": "python",
   "pygments_lexer": "ipython3",
   "version": "3.9.12"
  }
 },
 "nbformat": 4,
 "nbformat_minor": 5
}
