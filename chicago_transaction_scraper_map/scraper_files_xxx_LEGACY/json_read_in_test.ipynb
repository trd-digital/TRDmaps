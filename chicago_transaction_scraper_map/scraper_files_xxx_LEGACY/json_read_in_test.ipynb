{
 "cells": [
  {
   "cell_type": "code",
   "execution_count": 32,
   "id": "d0817064",
   "metadata": {},
   "outputs": [],
   "source": [
    "# import pandas as pd\n",
    "# from pandas_geojson import to_geojson, write_geojson\n",
    "# import json"
   ]
  },
  {
   "cell_type": "code",
   "execution_count": 14,
   "id": "3651a5e5",
   "metadata": {},
   "outputs": [],
   "source": [
    "# df = pd.read_json('Chicago_story_map_data.json')\n",
    "# df = df.loc[df['PUB_YEAR'] > 2016]\n",
    "# df = df.loc[df['PUB_YEAR'] < 2023]"
   ]
  },
  {
   "cell_type": "code",
   "execution_count": 58,
   "id": "1b2aeb95",
   "metadata": {},
   "outputs": [],
   "source": [
    "# df = pd.read_json('Chicago.geojson',orient='type')\n",
    "# df"
   ]
  },
  {
   "cell_type": "code",
   "execution_count": null,
   "id": "c99bc2e4",
   "metadata": {},
   "outputs": [],
   "source": [
    "# geo_json = to_geojson(df=df, lat='lat', lon='lon',\n",
    "#                      properties=['HED','DEK','description_link','PUB_YEAR','geo_address'])\n",
    "# write_geojson(geo_json, filename='Chicago.geojson', indent=4)"
   ]
  },
  {
   "cell_type": "markdown",
   "id": "ceabac53",
   "metadata": {},
   "source": [
    "## To export data to a CSV for Company-wide use"
   ]
  },
  {
   "cell_type": "code",
   "execution_count": 43,
   "id": "d66d3404",
   "metadata": {},
   "outputs": [],
   "source": [
    "# Chi = open('Chicago.geojson','r')\n",
    "# data = json.load(Chi)\n",
    "# pd.json_normalize(data)"
   ]
  },
  {
   "cell_type": "code",
   "execution_count": 56,
   "id": "aca0de64",
   "metadata": {},
   "outputs": [],
   "source": [
    "# df2 = pd.json_normalize(data, record_path=['features'])\n",
    "# df2 = df2.drop(columns=['type','properties.DEK'])\n",
    "# df2.to_csv('test.csv')"
   ]
  },
  {
   "cell_type": "code",
   "execution_count": 57,
   "id": "4a389ca7",
   "metadata": {},
   "outputs": [],
   "source": [
    "# df"
   ]
  }
 ],
 "metadata": {
  "kernelspec": {
   "display_name": "Python 3 (ipykernel)",
   "language": "python",
   "name": "python3"
  },
  "language_info": {
   "codemirror_mode": {
    "name": "ipython",
    "version": 3
   },
   "file_extension": ".py",
   "mimetype": "text/x-python",
   "name": "python",
   "nbconvert_exporter": "python",
   "pygments_lexer": "ipython3",
   "version": "3.9.12"
  }
 },
 "nbformat": 4,
 "nbformat_minor": 5
}
