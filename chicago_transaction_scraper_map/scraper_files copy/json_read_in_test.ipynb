{
 "cells": [
  {
   "cell_type": "code",
   "execution_count": 2,
   "id": "d0817064",
   "metadata": {},
   "outputs": [],
   "source": [
    "import pandas as pd\n",
    "from pandas_geojson import to_geojson, write_geojson\n",
    "import json"
   ]
  },
  {
   "cell_type": "code",
   "execution_count": 5,
   "id": "3651a5e5",
   "metadata": {},
   "outputs": [],
   "source": [
    "df = pd.read_csv('ChicagoStoryData - Story_Data_Markup_II.csv')\n",
    "df = df.loc[df['PUB_YEAR'] > 2016]\n",
    "df = df.loc[df['PUB_YEAR'] < 2023]"
   ]
  },
  {
   "cell_type": "code",
   "execution_count": 6,
   "id": "65b43787",
   "metadata": {},
   "outputs": [
    {
     "data": {
      "text/plain": [
       "2022    665\n",
       "2019    224\n",
       "2021    171\n",
       "2018    153\n",
       "2020    103\n",
       "Name: PUB_YEAR, dtype: int64"
      ]
     },
     "execution_count": 6,
     "metadata": {},
     "output_type": "execute_result"
    }
   ],
   "source": [
    "df.PUB_YEAR.value_counts()"
   ]
  },
  {
   "cell_type": "code",
   "execution_count": 7,
   "id": "df1f6f10",
   "metadata": {},
   "outputs": [],
   "source": [
    "df_2018 = df.loc[df['PUB_YEAR'] == 2018]\n",
    "df_2019 = df.loc[df['PUB_YEAR'] == 2019]\n",
    "df_2020 = df.loc[df['PUB_YEAR'] == 2020]\n",
    "df_2021 = df.loc[df['PUB_YEAR'] == 2021]\n",
    "df_2022 = df.loc[df['PUB_YEAR'] == 2022]"
   ]
  },
  {
   "cell_type": "code",
   "execution_count": 8,
   "id": "c99bc2e4",
   "metadata": {},
   "outputs": [],
   "source": [
    "geo_json = to_geojson(df=df_2018, lat='lat', lon='lon',\n",
    "                     properties=['HED','DEK','description_link','PUB_YEAR','geo_address'])\n",
    "write_geojson(geo_json, filename='Chicago_2018.geojson', indent=4)"
   ]
  },
  {
   "cell_type": "code",
   "execution_count": 9,
   "id": "3997443c",
   "metadata": {},
   "outputs": [],
   "source": [
    "geo_json = to_geojson(df=df_2019, lat='lat', lon='lon',\n",
    "                     properties=['HED','DEK','description_link','PUB_YEAR','geo_address'])\n",
    "write_geojson(geo_json, filename='Chicago_2019.geojson', indent=4)"
   ]
  },
  {
   "cell_type": "code",
   "execution_count": 10,
   "id": "9d7f4fc1",
   "metadata": {},
   "outputs": [],
   "source": [
    "geo_json = to_geojson(df=df_2020, lat='lat', lon='lon',\n",
    "                     properties=['HED','DEK','description_link','PUB_YEAR','geo_address'])\n",
    "write_geojson(geo_json, filename='Chicago_2020.geojson', indent=4)"
   ]
  },
  {
   "cell_type": "code",
   "execution_count": 11,
   "id": "b22d8674",
   "metadata": {},
   "outputs": [],
   "source": [
    "geo_json = to_geojson(df=df_2021, lat='lat', lon='lon',\n",
    "                     properties=['HED','DEK','description_link','PUB_YEAR','geo_address'])\n",
    "write_geojson(geo_json, filename='Chicago_2021.geojson', indent=4)"
   ]
  },
  {
   "cell_type": "code",
   "execution_count": 12,
   "id": "67fd4cc8",
   "metadata": {},
   "outputs": [],
   "source": [
    "geo_json = to_geojson(df=df_2022, lat='lat', lon='lon',\n",
    "                     properties=['HED','DEK','description_link','PUB_YEAR','geo_address'])\n",
    "write_geojson(geo_json, filename='Chicago_2022.geojson', indent=4)"
   ]
  },
  {
   "cell_type": "markdown",
   "id": "ceabac53",
   "metadata": {},
   "source": [
    "## To export data to a CSV for Company-wide use"
   ]
  },
  {
   "cell_type": "code",
   "execution_count": 43,
   "id": "d66d3404",
   "metadata": {},
   "outputs": [],
   "source": [
    "# Chi = open('Chicago.geojson','r')\n",
    "# data = json.load(Chi)\n",
    "# pd.json_normalize(data)"
   ]
  },
  {
   "cell_type": "code",
   "execution_count": 56,
   "id": "aca0de64",
   "metadata": {},
   "outputs": [],
   "source": [
    "# df2 = pd.json_normalize(data, record_path=['features'])\n",
    "# df2 = df2.drop(columns=['type','properties.DEK'])\n",
    "# df2.to_csv('test.csv')"
   ]
  },
  {
   "cell_type": "code",
   "execution_count": 57,
   "id": "4a389ca7",
   "metadata": {},
   "outputs": [],
   "source": [
    "# df"
   ]
  }
 ],
 "metadata": {
  "kernelspec": {
   "display_name": "Python 3 (ipykernel)",
   "language": "python",
   "name": "python3"
  },
  "language_info": {
   "codemirror_mode": {
    "name": "ipython",
    "version": 3
   },
   "file_extension": ".py",
   "mimetype": "text/x-python",
   "name": "python",
   "nbconvert_exporter": "python",
   "pygments_lexer": "ipython3",
   "version": "3.9.12"
  }
 },
 "nbformat": 4,
 "nbformat_minor": 5
}
