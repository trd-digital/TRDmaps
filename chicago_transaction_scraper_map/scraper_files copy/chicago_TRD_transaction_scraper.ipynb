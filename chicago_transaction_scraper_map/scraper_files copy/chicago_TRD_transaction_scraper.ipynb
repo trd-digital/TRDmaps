{
 "cells": [
  {
   "cell_type": "markdown",
   "id": "d6c89b50",
   "metadata": {},
   "source": [
    "## TO DO:\n",
    "\n",
    "1. Modify the parser to pull the entire story text instead of just the parts tagged as `<p>`, so it'll pull Miranda's stuff as well.\n",
    "2. Run scraper for first 8,000 URLs, since it keeps getting hung up for whatever reason.\n",
    "3. Put the 8,000 results into a DF and then use Python magic to figure out which URLs need scraped, then get the rest of them.\n",
    "4. Pester A3 for all of 2020's URLs."
   ]
  },
  {
   "cell_type": "markdown",
   "id": "a811c0dc",
   "metadata": {},
   "source": [
    "## Imports"
   ]
  },
  {
   "cell_type": "code",
   "execution_count": 1,
   "id": "4c1dd1d6",
   "metadata": {},
   "outputs": [],
   "source": [
    "from geopy.geocoders import GoogleV3\n",
    "from bs4 import BeautifulSoup\n",
    "import requests\n",
    "import time\n",
    "import pandas as pd\n",
    "import numpy as np\n",
    "import urllib3\n",
    "import re\n",
    "from textwrap import shorten\n",
    "import os\n",
    "import geopandas as gpd\n",
    "from IPython.display import clear_output"
   ]
  },
  {
   "cell_type": "markdown",
   "id": "386568bb",
   "metadata": {},
   "source": [
    "## Set Options"
   ]
  },
  {
   "cell_type": "code",
   "execution_count": 2,
   "id": "5bb7d93a",
   "metadata": {},
   "outputs": [],
   "source": [
    "pd.set_option('display.max_columns', 10)\n",
    "pd.set_option('display.max_rows', 20) ### Default 20\n",
    "pd.set_option('display.max_colwidth', 1000) ### Default 50"
   ]
  },
  {
   "cell_type": "markdown",
   "id": "bb6c2ffd",
   "metadata": {},
   "source": [
    "## Data Read-in"
   ]
  },
  {
   "cell_type": "markdown",
   "id": "d4e72640",
   "metadata": {},
   "source": [
    "<em>All</em> Chicago URLs"
   ]
  },
  {
   "cell_type": "code",
   "execution_count": 3,
   "id": "c8eaced7",
   "metadata": {},
   "outputs": [],
   "source": [
    "df = pd.read_csv('Chicago Stories no Cross post_Piano + GA 2020_Table - Sheet1.csv')"
   ]
  },
  {
   "cell_type": "code",
   "execution_count": 4,
   "id": "6e6f0fe3",
   "metadata": {},
   "outputs": [
    {
     "data": {
      "text/plain": [
       "Index(['URL', 'Tags'], dtype='object')"
      ]
     },
     "execution_count": 4,
     "metadata": {},
     "output_type": "execute_result"
    }
   ],
   "source": [
    "df.columns"
   ]
  },
  {
   "cell_type": "code",
   "execution_count": 5,
   "id": "87fb6814",
   "metadata": {},
   "outputs": [
    {
     "data": {
      "text/plain": [
       "2023"
      ]
     },
     "execution_count": 5,
     "metadata": {},
     "output_type": "execute_result"
    }
   ],
   "source": [
    "len(df)"
   ]
  },
  {
   "cell_type": "markdown",
   "id": "edfdf697",
   "metadata": {},
   "source": [
    "## Test Ground"
   ]
  },
  {
   "cell_type": "code",
   "execution_count": 6,
   "id": "d8eb6c9d",
   "metadata": {},
   "outputs": [],
   "source": [
    "# page = requests.get('https://therealdeal.com/chicago/2022/11/01/developer-sells-9m-land-for-super-pricey-planned-lincoln-park-mansion/')\n",
    "# soup = BeautifulSoup(page.content, 'html.parser')"
   ]
  },
  {
   "cell_type": "code",
   "execution_count": 7,
   "id": "b73bb1a6",
   "metadata": {},
   "outputs": [],
   "source": [
    "# soup.find('h1').text.strip() ### Title\n",
    "# soup.find('h2').text.strip() ### Subhead\n",
    "# soup.find('div', class_='col-7 col-md-3 order-md-3 text-right').text.strip() ### Pub_Date\n",
    "# soup.find_all('p')[2].text.strip() ### Lede"
   ]
  },
  {
   "cell_type": "code",
   "execution_count": 8,
   "id": "ccfa33ef",
   "metadata": {},
   "outputs": [],
   "source": [
    "# soup.find_all('p')[1].text.strip() ### Lede"
   ]
  },
  {
   "cell_type": "code",
   "execution_count": 9,
   "id": "0f5e5730",
   "metadata": {},
   "outputs": [],
   "source": [
    "# story_text = soup\n",
    "# story_text_clean = []\n",
    "# for p in story_text:\n",
    "#     p = p.text.strip()\n",
    "#     story_text_clean.append(p)\n",
    "# story_text_clean = [''.join(story_text_clean)]\n",
    "# story_text_clean"
   ]
  },
  {
   "cell_type": "code",
   "execution_count": 10,
   "id": "f28dcd2a",
   "metadata": {},
   "outputs": [],
   "source": [
    "# story_headlines = soup.find_all('h3')\n",
    "# story_headlines_clean = []\n",
    "# for h3 in story_headlines:\n",
    "#     h3 = h3.text.strip()\n",
    "#     story_headlines_clean.append(h3)\n",
    "# story_headlines_clean = [''.join(story_headlines_clean)]"
   ]
  },
  {
   "cell_type": "code",
   "execution_count": 11,
   "id": "88c71566",
   "metadata": {},
   "outputs": [],
   "source": [
    "# story_text = soup.find_all('p')[2:]\n",
    "# story_text_clean = []\n",
    "# for p in story_text:\n",
    "#     p = p.text.strip()\n",
    "#     story_text_clean.append(p)\n",
    "# story_text_clean = [''.join(story_text_clean)]"
   ]
  },
  {
   "cell_type": "markdown",
   "id": "a8c00968",
   "metadata": {},
   "source": [
    "TO DO: Fix image scraper to get PNGs...or succesfull append something"
   ]
  },
  {
   "cell_type": "code",
   "execution_count": 12,
   "id": "12377c5f",
   "metadata": {},
   "outputs": [],
   "source": [
    "# images = soup.find_all('img')\n",
    "# for image in images:\n",
    "#     if 'jpg' in image['src']:\n",
    "#         print(image['src'])"
   ]
  },
  {
   "cell_type": "code",
   "execution_count": 13,
   "id": "e690411c",
   "metadata": {},
   "outputs": [],
   "source": [
    "# images = soup.find_all('img')\n",
    "# png_list = []\n",
    "# for image in images:\n",
    "#     if 'png' in image['src']:\n",
    "#         png_list.append(image['src'])\n",
    "# print(png_list[-1])"
   ]
  },
  {
   "cell_type": "markdown",
   "id": "1cb82010",
   "metadata": {},
   "source": [
    "## Scraper"
   ]
  },
  {
   "cell_type": "code",
   "execution_count": 14,
   "id": "ba246f82",
   "metadata": {},
   "outputs": [],
   "source": [
    "### Create Lists\n",
    "\n",
    "url_list = []\n",
    "hed_list = []\n",
    "dek_list = []\n",
    "pub_date_list = []\n",
    "lede_list = []\n",
    "story_text_list = []\n",
    "story_headline_list = []"
   ]
  },
  {
   "cell_type": "code",
   "execution_count": 15,
   "id": "f12b991b",
   "metadata": {
    "scrolled": true
   },
   "outputs": [
    {
     "name": "stdout",
     "output_type": "stream",
     "text": [
      "2024\n",
      "https://therealdeal.com/chicago/2018/03/27/investor-group-takes-over-landmark-delaware-building/\n"
     ]
    }
   ],
   "source": [
    "counter = 1\n",
    "for url in df['URL']:\n",
    "    if counter > 3000:\n",
    "        break\n",
    "    else:\n",
    "        try:\n",
    "            page = requests.get(url)\n",
    "            soup = BeautifulSoup(page.content, 'html.parser')\n",
    "            counter = counter + 1\n",
    "            clear_output(wait=True)\n",
    "            url_list.append(url)\n",
    "            print(counter)\n",
    "            print(url)\n",
    "            \n",
    "            ####################\n",
    "            # HED #\n",
    "            \n",
    "            try:\n",
    "                hed_1 = soup.find('h1').text.strip()\n",
    "                hed_list.append(hed_1)\n",
    "            except Exception as e:\n",
    "                print(f'HED FAIL {url} ERROR: {e}')\n",
    "                hed_list.append(f'HED FAIL {url} ERROR: {e}')\n",
    "            \n",
    "            ####################\n",
    "            # DEK #\n",
    "            \n",
    "            try:\n",
    "                dek_1 = soup.find('h2').text.strip()\n",
    "                dek_list.append(dek_1)\n",
    "            except Exception as e:\n",
    "                print(f'DEK FAIL {url} ERROR: {e}')\n",
    "                dek_list.append(f'DEK FAIL {url} ERROR: {e}')\n",
    "                \n",
    "            ####################  \n",
    "            # PUB_DATE #\n",
    "            \n",
    "            try:\n",
    "                pub_date_1 = soup.find('div', class_='col-7 col-md-3 order-md-3 text-right').text.strip()\n",
    "                pub_date_list.append(pub_date_1)\n",
    "            except Exception as e:\n",
    "                print(f'PUB_DATE fail {url} ERROR: {e}')\n",
    "                pub_date_list.append(f'PUB_DATE FAIL {url} ERROR: {e}')\n",
    "            \n",
    "            ####################\n",
    "            # LEDE #\n",
    "            \n",
    "            try:  \n",
    "                lede_1 = soup.find_all('p')[2].text.strip()\n",
    "                lede_list.append(lede_1)\n",
    "            except Exception as e:\n",
    "                print(f'LEDE fail {url} ERROR: {e}')\n",
    "                lede_list.append(f'LEDE FAIL {url} ERROR: {e}')\n",
    "                \n",
    "            ####################\n",
    "            # STORY TEXT & H3 headlines #\n",
    "                \n",
    "            try:\n",
    "                story_text = soup.find_all('p')[1:]\n",
    "                story_text_clean = []\n",
    "                for p in story_text:\n",
    "                    p = p.text.strip()\n",
    "                    story_text_clean.append(p)\n",
    "                story_text_clean = [''.join(story_text_clean)]\n",
    "                story_text_list.append(story_text_clean)\n",
    "                \n",
    "            except Exception as e:\n",
    "                print(f'STORY TEXT FAIL {url} ERROR: {e}')\n",
    "                story_text_list.append(f'STORY TEXT FAIL {url} ERROR: {e}')\n",
    "                \n",
    "            try:\n",
    "                story_headlines = soup.find_all('h3')\n",
    "                story_headlines_clean = []\n",
    "                for h3 in story_headlines:\n",
    "                    h3 = h3.text.strip()\n",
    "                    story_headlines_clean.append(h3)\n",
    "                story_headlines_clean = [''.join(story_headlines_clean)]\n",
    "                story_headline_list.append(story_headlines_clean)\n",
    "                \n",
    "            except Exception as e:\n",
    "                print(f'STORY H3 FAIL {url} ERROR: {e}')\n",
    "                story_headline_list.append(f'STORY H3 FAIL {url} ERROR: {e}')\n",
    "\n",
    "        except Exception as e:\n",
    "            print(f'{url} - FAIL: {e}')\n",
    "            url_list.append(f'{url} - FAIL: {e}')\n",
    "            hed_list.append(f'{url} - FAIL: {e}')\n",
    "            dek_list.append(f'{url} - FAIL: {e}')\n",
    "            pub_date_list.append(f'{url} - FAIL: {e}')\n",
    "            lede_list.append(f'{url} - FAIL: {e}')\n",
    "            story_text_list.append(f'{url} - FAIL: {e}')\n",
    "            story_headline_list.append(f'{url} - FAIL: {e}')"
   ]
  },
  {
   "cell_type": "code",
   "execution_count": 16,
   "id": "a78136bc",
   "metadata": {},
   "outputs": [
    {
     "name": "stdout",
     "output_type": "stream",
     "text": [
      "2023\n",
      "---------\n",
      "2023\n",
      "---------\n",
      "2023\n",
      "---------\n",
      "2023\n",
      "---------\n",
      "2023\n",
      "---------\n",
      "2023\n",
      "---------\n",
      "2023\n",
      "---------\n"
     ]
    }
   ],
   "source": [
    "print(len(url_list))\n",
    "print('---------')\n",
    "print(len(hed_list))\n",
    "print('---------')\n",
    "print(len(dek_list))\n",
    "print('---------')\n",
    "print(len(pub_date_list))\n",
    "print('---------')\n",
    "print(len(lede_list))\n",
    "print('---------')\n",
    "print(len(story_text_list))\n",
    "print('---------')\n",
    "print(len(story_headline_list))\n",
    "print('---------')"
   ]
  },
  {
   "cell_type": "code",
   "execution_count": 17,
   "id": "3a8424b0",
   "metadata": {},
   "outputs": [],
   "source": [
    "df['URL_2'] = url_list\n",
    "df['HED'] = hed_list\n",
    "df['DEK'] = dek_list\n",
    "df['PUB_DATE'] = pub_date_list\n",
    "df['LEDE'] = lede_list\n",
    "df['STORY_TEXT'] = story_text_list\n",
    "df['STORY_H3_HEADLINES'] = story_headline_list"
   ]
  },
  {
   "cell_type": "markdown",
   "id": "38d16318",
   "metadata": {},
   "source": [
    "## Parser Playground"
   ]
  },
  {
   "cell_type": "code",
   "execution_count": 18,
   "id": "09183b7f",
   "metadata": {},
   "outputs": [],
   "source": [
    "df['STORY_TEXT'] = df['STORY_TEXT'].astype(str)"
   ]
  },
  {
   "cell_type": "code",
   "execution_count": 19,
   "id": "59bd951d",
   "metadata": {},
   "outputs": [
    {
     "data": {
      "text/plain": [
       "False    1409\n",
       "True      614\n",
       "Name: ADDRESS, dtype: int64"
      ]
     },
     "execution_count": 19,
     "metadata": {},
     "output_type": "execute_result"
    }
   ],
   "source": [
    "df['ADDRESS'] = df['STORY_TEXT'].str.extract(r'(?P<ADDRESS>[1-9][0-9]* (?:\\w+\\W+){1,6}(?:Avenue|Ave|Boulevard|Blvd|Broadway|Court|Deerpath|Drive|Dr|Highway|Huron|Place|Road|Rd|Street|St))')\n",
    "df['ADDRESS'].isna().value_counts()"
   ]
  },
  {
   "cell_type": "code",
   "execution_count": 20,
   "id": "551b9cb8",
   "metadata": {
    "scrolled": false
   },
   "outputs": [],
   "source": [
    "# df[['URL','ADDRESS']]"
   ]
  },
  {
   "cell_type": "code",
   "execution_count": 21,
   "id": "c1f8c353",
   "metadata": {},
   "outputs": [
    {
     "data": {
      "text/plain": [
       "False    1409\n",
       "Name: ADDRESS, dtype: int64"
      ]
     },
     "execution_count": 21,
     "metadata": {},
     "output_type": "execute_result"
    }
   ],
   "source": [
    "df = df.dropna(subset='ADDRESS')\n",
    "df['ADDRESS'].isna().value_counts()"
   ]
  },
  {
   "cell_type": "code",
   "execution_count": 22,
   "id": "09e2dad6",
   "metadata": {},
   "outputs": [],
   "source": [
    "# df.to_csv('Chicago_sample.csv')"
   ]
  },
  {
   "cell_type": "markdown",
   "id": "06ce5af6",
   "metadata": {},
   "source": [
    "## Link Formatter"
   ]
  },
  {
   "cell_type": "code",
   "execution_count": 23,
   "id": "a37e8c56",
   "metadata": {},
   "outputs": [],
   "source": [
    "df[\"short_description\"] = df[\"LEDE\"].apply(lambda s: shorten(s, width=20, placeholder=\"\"))\n",
    "df['remaining_desc'] = df.apply(lambda row : row['LEDE'].replace(str(row['short_description']), ''), axis=1)\n",
    "df['remaining_desc']\n",
    "\n",
    "df[\"description_link\"] = '<a href=\"' + df[\"URL\"] + '\" target=\"_blank\" rel=\"noopener noreferrer\">' + df[\"short_description\"] + \"</a>\" + df[\"remaining_desc\"]\n",
    "# df['description_link']"
   ]
  },
  {
   "cell_type": "code",
   "execution_count": 24,
   "id": "b45cd2b5",
   "metadata": {},
   "outputs": [],
   "source": [
    "df['PUB_YEAR'] = df['PUB_DATE'].str.extract(r'(\\d{4})')"
   ]
  },
  {
   "cell_type": "markdown",
   "id": "f1b76b5b",
   "metadata": {},
   "source": [
    "## Geocoder Setup"
   ]
  },
  {
   "cell_type": "code",
   "execution_count": 25,
   "id": "690949df",
   "metadata": {},
   "outputs": [],
   "source": [
    "%store -r google_maps_API_Key\n",
    "geolocator = GoogleV3(api_key=google_maps_API_Key)"
   ]
  },
  {
   "cell_type": "code",
   "execution_count": 26,
   "id": "79b50f6c",
   "metadata": {},
   "outputs": [],
   "source": [
    "df['geo_address'] = df['ADDRESS'] + ' Chicago, IL'\n",
    "df['loc'] = df['geo_address'].apply(geolocator.geocode, timeout=10)\n",
    "df['point'] = df['loc'].apply(lambda loc: tuple(loc.point) if loc else None)\n",
    "df[['lat','lon','altitude']] = pd.DataFrame(df['point'].to_list(),index=df.index)"
   ]
  },
  {
   "cell_type": "code",
   "execution_count": 38,
   "id": "f6ccaa8f",
   "metadata": {},
   "outputs": [
    {
     "data": {
      "text/html": [
       "<div>\n",
       "<style scoped>\n",
       "    .dataframe tbody tr th:only-of-type {\n",
       "        vertical-align: middle;\n",
       "    }\n",
       "\n",
       "    .dataframe tbody tr th {\n",
       "        vertical-align: top;\n",
       "    }\n",
       "\n",
       "    .dataframe thead th {\n",
       "        text-align: right;\n",
       "    }\n",
       "</style>\n",
       "<table border=\"1\" class=\"dataframe\">\n",
       "  <thead>\n",
       "    <tr style=\"text-align: right;\">\n",
       "      <th></th>\n",
       "      <th>URL</th>\n",
       "      <th>Tags</th>\n",
       "      <th>URL_2</th>\n",
       "      <th>HED</th>\n",
       "      <th>DEK</th>\n",
       "      <th>...</th>\n",
       "      <th>loc</th>\n",
       "      <th>point</th>\n",
       "      <th>lat</th>\n",
       "      <th>lon</th>\n",
       "      <th>altitude</th>\n",
       "    </tr>\n",
       "  </thead>\n",
       "  <tbody>\n",
       "    <tr>\n",
       "      <th>2</th>\n",
       "      <td>https://therealdeal.com/chicago/2022/12/09/northwest-side-factory-turned-into-65m-after-rebuild-from-destructive-fire/</td>\n",
       "      <td>meter,chicago,hermosa,industrial market,northwest side</td>\n",
       "      <td>https://therealdeal.com/chicago/2022/12/09/northwest-side-factory-turned-into-65m-after-rebuild-from-destructive-fire/</td>\n",
       "      <td>Northwest Side factory turned into $65M after rebuild from destructive fire</td>\n",
       "      <td>Newly Weds Foods transferred site to Charles Angell in 2002</td>\n",
       "      <td>...</td>\n",
       "      <td>(4125 W Wrightwood Ave, Chicago, IL 60639, USA, (41.9273659, -87.73049789999999))</td>\n",
       "      <td>(41.9273659, -87.73049789999999, 0.0)</td>\n",
       "      <td>41.927366</td>\n",
       "      <td>-87.730498</td>\n",
       "      <td>0.0</td>\n",
       "    </tr>\n",
       "    <tr>\n",
       "      <th>3</th>\n",
       "      <td>https://therealdeal.com/chicago/2022/12/09/herro-looks-set-to-relist-palmolive-building-condo-with-2m-trim/</td>\n",
       "      <td>meter,gold coast,housing market,luxury real estate,palmolive building,residential real estate</td>\n",
       "      <td>https://therealdeal.com/chicago/2022/12/09/herro-looks-set-to-relist-palmolive-building-condo-with-2m-trim/</td>\n",
       "      <td>Herro looks set to relist Palmolive Building condo with $2M trim</td>\n",
       "      <td>31st floor of historic building on Mag Mile had star turn in Elle Decor</td>\n",
       "      <td>...</td>\n",
       "      <td>(159 E Walton Pl, Chicago, IL 60611, USA, (41.8997872, -87.6234987))</td>\n",
       "      <td>(41.8997872, -87.6234987, 0.0)</td>\n",
       "      <td>41.899787</td>\n",
       "      <td>-87.623499</td>\n",
       "      <td>0.0</td>\n",
       "    </tr>\n",
       "    <tr>\n",
       "      <th>4</th>\n",
       "      <td>https://therealdeal.com/chicago/2022/12/09/arlington-heights-condos-deconverted-for-10m/</td>\n",
       "      <td>meter,arlington heights,condo deconversions,condo market,multifamily market,suburban chicago</td>\n",
       "      <td>https://therealdeal.com/chicago/2022/12/09/arlington-heights-condos-deconverted-for-10m/</td>\n",
       "      <td>Arlington Heights condos deconverted for $10M</td>\n",
       "      <td>Interra Realty brokered deal representing both sellers and buyer</td>\n",
       "      <td>...</td>\n",
       "      <td>(Chicago, IL, USA, (41.8781136, -87.6297982))</td>\n",
       "      <td>(41.8781136, -87.6297982, 0.0)</td>\n",
       "      <td>41.878114</td>\n",
       "      <td>-87.629798</td>\n",
       "      <td>0.0</td>\n",
       "    </tr>\n",
       "    <tr>\n",
       "      <th>5</th>\n",
       "      <td>https://therealdeal.com/chicago/2022/12/08/t2-starts-teardown-of-mount-prospect-fire-police-building-for-six-story-project/</td>\n",
       "      <td>meter,mount prospect,multifamily market,suburban chicago,t2</td>\n",
       "      <td>https://therealdeal.com/chicago/2022/12/08/t2-starts-teardown-of-mount-prospect-fire-police-building-for-six-story-project/</td>\n",
       "      <td>T2 starts teardown of Mount Prospect fire, police building for six-story project</td>\n",
       "      <td>Wheaton-based developer plans 88 units for suburb’s downtown</td>\n",
       "      <td>...</td>\n",
       "      <td>(112 E Northwest Hwy, Des Plaines, IL 60016, USA, (42.0558293, -87.91948269999999))</td>\n",
       "      <td>(42.0558293, -87.91948269999999, 0.0)</td>\n",
       "      <td>42.055829</td>\n",
       "      <td>-87.919483</td>\n",
       "      <td>0.0</td>\n",
       "    </tr>\n",
       "    <tr>\n",
       "      <th>6</th>\n",
       "      <td>https://therealdeal.com/chicago/2022/12/08/glenview-complex-sells-for-discount-in-rare-multifamily-loss/</td>\n",
       "      <td>meter,fortress investment group,multifamily market,suburban chicago</td>\n",
       "      <td>https://therealdeal.com/chicago/2022/12/08/glenview-complex-sells-for-discount-in-rare-multifamily-loss/</td>\n",
       "      <td>Glenview complex sells for discount in rare multifamily loss</td>\n",
       "      <td>BJB Properties bought the 425-unit complex for $67.2M</td>\n",
       "      <td>...</td>\n",
       "      <td>(4300 W Lake St, Chicago, IL 60624, USA, (41.88628509999999, -87.7338357))</td>\n",
       "      <td>(41.88628509999999, -87.7338357, 0.0)</td>\n",
       "      <td>41.886285</td>\n",
       "      <td>-87.733836</td>\n",
       "      <td>0.0</td>\n",
       "    </tr>\n",
       "    <tr>\n",
       "      <th>...</th>\n",
       "      <td>...</td>\n",
       "      <td>...</td>\n",
       "      <td>...</td>\n",
       "      <td>...</td>\n",
       "      <td>...</td>\n",
       "      <td>...</td>\n",
       "      <td>...</td>\n",
       "      <td>...</td>\n",
       "      <td>...</td>\n",
       "      <td>...</td>\n",
       "      <td>...</td>\n",
       "    </tr>\n",
       "    <tr>\n",
       "      <th>2017</th>\n",
       "      <td>https://therealdeal.com/chicago/2018/04/03/blackstone-takes-out-record-1-3b-refi-for-willis-tower/</td>\n",
       "      <td>archive-paywall,blackstone group,commercial real estate,real estate finance,willis tower</td>\n",
       "      <td>https://therealdeal.com/chicago/2018/04/03/blackstone-takes-out-record-1-3b-refi-for-willis-tower/</td>\n",
       "      <td>Blackstone takes out record $1.3B+ refi for Willis Tower</td>\n",
       "      <td>Firm paid $1.3B for city's tallest skyscraper in 2015</td>\n",
       "      <td>...</td>\n",
       "      <td>(N Morgan St, Chicago, IL, USA, (41.8889966, -87.652239))</td>\n",
       "      <td>(41.8889966, -87.652239, 0.0)</td>\n",
       "      <td>41.888997</td>\n",
       "      <td>-87.652239</td>\n",
       "      <td>0.0</td>\n",
       "    </tr>\n",
       "    <tr>\n",
       "      <th>2018</th>\n",
       "      <td>https://therealdeal.com/chicago/2018/04/02/will-compass-chicago-ambitions-send-rivals-spinning/</td>\n",
       "      <td>archive-paywall,@properties,compass,residential real estate,tech</td>\n",
       "      <td>https://therealdeal.com/chicago/2018/04/02/will-compass-chicago-ambitions-send-rivals-spinning/</td>\n",
       "      <td>Will Compass’ Chicago ambitions send its rivals spinning?</td>\n",
       "      <td>“We are not some evil empire trying to take over the world.”</td>\n",
       "      <td>...</td>\n",
       "      <td>(3033 N Clark St, Chicago, IL 60657, USA, (41.9372941, -87.6483622))</td>\n",
       "      <td>(41.9372941, -87.6483622, 0.0)</td>\n",
       "      <td>41.937294</td>\n",
       "      <td>-87.648362</td>\n",
       "      <td>0.0</td>\n",
       "    </tr>\n",
       "    <tr>\n",
       "      <th>2020</th>\n",
       "      <td>https://therealdeal.com/chicago/2018/04/02/601w-companies-closes-on-sullivan-center-office-space/</td>\n",
       "      <td>archive-paywall,601w companies,aon center,commercial real estate</td>\n",
       "      <td>https://therealdeal.com/chicago/2018/04/02/601w-companies-closes-on-sullivan-center-office-space/</td>\n",
       "      <td>601W Companies closes on Sullivan Center office space</td>\n",
       "      <td>The firm also has taken out a $88 million loan on a foreclosed West Loop office tower</td>\n",
       "      <td>...</td>\n",
       "      <td>(1 S State St, Chicago, IL 60603, USA, (41.8817916, -87.62752479999999))</td>\n",
       "      <td>(41.8817916, -87.62752479999999, 0.0)</td>\n",
       "      <td>41.881792</td>\n",
       "      <td>-87.627525</td>\n",
       "      <td>0.0</td>\n",
       "    </tr>\n",
       "    <tr>\n",
       "      <th>2021</th>\n",
       "      <td>https://therealdeal.com/chicago/2018/03/30/bill-and-giuliana-rancic-asking-triple-purchase-price-on-gold-coast-townhouse/</td>\n",
       "      <td>archive-paywall,celebrity real estate,residential real estate</td>\n",
       "      <td>https://therealdeal.com/chicago/2018/03/30/bill-and-giuliana-rancic-asking-triple-purchase-price-on-gold-coast-townhouse/</td>\n",
       "      <td>Bill and Giuliana Rancic asking triple purchase price on Gold Coast townhouse</td>\n",
       "      <td>“The Apprentice-Season 1” winner and his wife gut renovated the 1886 home</td>\n",
       "      <td>...</td>\n",
       "      <td>(105 E Bellevue Pl, Chicago, IL 60611, USA, (41.9013233, -87.6254831))</td>\n",
       "      <td>(41.9013233, -87.6254831, 0.0)</td>\n",
       "      <td>41.901323</td>\n",
       "      <td>-87.625483</td>\n",
       "      <td>0.0</td>\n",
       "    </tr>\n",
       "    <tr>\n",
       "      <th>2022</th>\n",
       "      <td>https://therealdeal.com/chicago/2018/03/27/investor-group-takes-over-landmark-delaware-building/</td>\n",
       "      <td>archive-paywall,commercial real estate</td>\n",
       "      <td>https://therealdeal.com/chicago/2018/03/27/investor-group-takes-over-landmark-delaware-building/</td>\n",
       "      <td>A group of investors are taking over the landmark Delaware Building</td>\n",
       "      <td>Led by attorney Steven DeGraff, the new owners could redevelop the property for co-working or housing</td>\n",
       "      <td>...</td>\n",
       "      <td>(36 W Randolph St, Chicago, IL 60601, USA, (41.8845976, -87.6291814))</td>\n",
       "      <td>(41.8845976, -87.6291814, 0.0)</td>\n",
       "      <td>41.884598</td>\n",
       "      <td>-87.629181</td>\n",
       "      <td>0.0</td>\n",
       "    </tr>\n",
       "  </tbody>\n",
       "</table>\n",
       "<p>1409 rows × 20 columns</p>\n",
       "</div>"
      ],
      "text/plain": [
       "                                                                                                                              URL  \\\n",
       "2          https://therealdeal.com/chicago/2022/12/09/northwest-side-factory-turned-into-65m-after-rebuild-from-destructive-fire/   \n",
       "3                     https://therealdeal.com/chicago/2022/12/09/herro-looks-set-to-relist-palmolive-building-condo-with-2m-trim/   \n",
       "4                                        https://therealdeal.com/chicago/2022/12/09/arlington-heights-condos-deconverted-for-10m/   \n",
       "5     https://therealdeal.com/chicago/2022/12/08/t2-starts-teardown-of-mount-prospect-fire-police-building-for-six-story-project/   \n",
       "6                        https://therealdeal.com/chicago/2022/12/08/glenview-complex-sells-for-discount-in-rare-multifamily-loss/   \n",
       "...                                                                                                                           ...   \n",
       "2017                           https://therealdeal.com/chicago/2018/04/03/blackstone-takes-out-record-1-3b-refi-for-willis-tower/   \n",
       "2018                              https://therealdeal.com/chicago/2018/04/02/will-compass-chicago-ambitions-send-rivals-spinning/   \n",
       "2020                            https://therealdeal.com/chicago/2018/04/02/601w-companies-closes-on-sullivan-center-office-space/   \n",
       "2021    https://therealdeal.com/chicago/2018/03/30/bill-and-giuliana-rancic-asking-triple-purchase-price-on-gold-coast-townhouse/   \n",
       "2022                             https://therealdeal.com/chicago/2018/03/27/investor-group-takes-over-landmark-delaware-building/   \n",
       "\n",
       "                                                                                               Tags  \\\n",
       "2                                            meter,chicago,hermosa,industrial market,northwest side   \n",
       "3     meter,gold coast,housing market,luxury real estate,palmolive building,residential real estate   \n",
       "4      meter,arlington heights,condo deconversions,condo market,multifamily market,suburban chicago   \n",
       "5                                       meter,mount prospect,multifamily market,suburban chicago,t2   \n",
       "6                               meter,fortress investment group,multifamily market,suburban chicago   \n",
       "...                                                                                             ...   \n",
       "2017       archive-paywall,blackstone group,commercial real estate,real estate finance,willis tower   \n",
       "2018                               archive-paywall,@properties,compass,residential real estate,tech   \n",
       "2020                               archive-paywall,601w companies,aon center,commercial real estate   \n",
       "2021                                  archive-paywall,celebrity real estate,residential real estate   \n",
       "2022                                                         archive-paywall,commercial real estate   \n",
       "\n",
       "                                                                                                                            URL_2  \\\n",
       "2          https://therealdeal.com/chicago/2022/12/09/northwest-side-factory-turned-into-65m-after-rebuild-from-destructive-fire/   \n",
       "3                     https://therealdeal.com/chicago/2022/12/09/herro-looks-set-to-relist-palmolive-building-condo-with-2m-trim/   \n",
       "4                                        https://therealdeal.com/chicago/2022/12/09/arlington-heights-condos-deconverted-for-10m/   \n",
       "5     https://therealdeal.com/chicago/2022/12/08/t2-starts-teardown-of-mount-prospect-fire-police-building-for-six-story-project/   \n",
       "6                        https://therealdeal.com/chicago/2022/12/08/glenview-complex-sells-for-discount-in-rare-multifamily-loss/   \n",
       "...                                                                                                                           ...   \n",
       "2017                           https://therealdeal.com/chicago/2018/04/03/blackstone-takes-out-record-1-3b-refi-for-willis-tower/   \n",
       "2018                              https://therealdeal.com/chicago/2018/04/02/will-compass-chicago-ambitions-send-rivals-spinning/   \n",
       "2020                            https://therealdeal.com/chicago/2018/04/02/601w-companies-closes-on-sullivan-center-office-space/   \n",
       "2021    https://therealdeal.com/chicago/2018/03/30/bill-and-giuliana-rancic-asking-triple-purchase-price-on-gold-coast-townhouse/   \n",
       "2022                             https://therealdeal.com/chicago/2018/03/27/investor-group-takes-over-landmark-delaware-building/   \n",
       "\n",
       "                                                                                   HED  \\\n",
       "2          Northwest Side factory turned into $65M after rebuild from destructive fire   \n",
       "3                     Herro looks set to relist Palmolive Building condo with $2M trim   \n",
       "4                                        Arlington Heights condos deconverted for $10M   \n",
       "5     T2 starts teardown of Mount Prospect fire, police building for six-story project   \n",
       "6                         Glenview complex sells for discount in rare multifamily loss   \n",
       "...                                                                                ...   \n",
       "2017                          Blackstone takes out record $1.3B+ refi for Willis Tower   \n",
       "2018                         Will Compass’ Chicago ambitions send its rivals spinning?   \n",
       "2020                             601W Companies closes on Sullivan Center office space   \n",
       "2021     Bill and Giuliana Rancic asking triple purchase price on Gold Coast townhouse   \n",
       "2022               A group of investors are taking over the landmark Delaware Building   \n",
       "\n",
       "                                                                                                        DEK  \\\n",
       "2                                               Newly Weds Foods transferred site to Charles Angell in 2002   \n",
       "3                                   31st floor of historic building on Mag Mile had star turn in Elle Decor   \n",
       "4                                          Interra Realty brokered deal representing both sellers and buyer   \n",
       "5                                              Wheaton-based developer plans 88 units for suburb’s downtown   \n",
       "6                                                     BJB Properties bought the 425-unit complex for $67.2M   \n",
       "...                                                                                                     ...   \n",
       "2017                                                  Firm paid $1.3B for city's tallest skyscraper in 2015   \n",
       "2018                                           “We are not some evil empire trying to take over the world.”   \n",
       "2020                  The firm also has taken out a $88 million loan on a foreclosed West Loop office tower   \n",
       "2021                              “The Apprentice-Season 1” winner and his wife gut renovated the 1886 home   \n",
       "2022  Led by attorney Steven DeGraff, the new owners could redevelop the property for co-working or housing   \n",
       "\n",
       "      ...  \\\n",
       "2     ...   \n",
       "3     ...   \n",
       "4     ...   \n",
       "5     ...   \n",
       "6     ...   \n",
       "...   ...   \n",
       "2017  ...   \n",
       "2018  ...   \n",
       "2020  ...   \n",
       "2021  ...   \n",
       "2022  ...   \n",
       "\n",
       "                                                                                      loc  \\\n",
       "2       (4125 W Wrightwood Ave, Chicago, IL 60639, USA, (41.9273659, -87.73049789999999))   \n",
       "3                    (159 E Walton Pl, Chicago, IL 60611, USA, (41.8997872, -87.6234987))   \n",
       "4                                           (Chicago, IL, USA, (41.8781136, -87.6297982))   \n",
       "5     (112 E Northwest Hwy, Des Plaines, IL 60016, USA, (42.0558293, -87.91948269999999))   \n",
       "6              (4300 W Lake St, Chicago, IL 60624, USA, (41.88628509999999, -87.7338357))   \n",
       "...                                                                                   ...   \n",
       "2017                            (N Morgan St, Chicago, IL, USA, (41.8889966, -87.652239))   \n",
       "2018                 (3033 N Clark St, Chicago, IL 60657, USA, (41.9372941, -87.6483622))   \n",
       "2020             (1 S State St, Chicago, IL 60603, USA, (41.8817916, -87.62752479999999))   \n",
       "2021               (105 E Bellevue Pl, Chicago, IL 60611, USA, (41.9013233, -87.6254831))   \n",
       "2022                (36 W Randolph St, Chicago, IL 60601, USA, (41.8845976, -87.6291814))   \n",
       "\n",
       "                                      point        lat        lon altitude  \n",
       "2     (41.9273659, -87.73049789999999, 0.0)  41.927366 -87.730498      0.0  \n",
       "3            (41.8997872, -87.6234987, 0.0)  41.899787 -87.623499      0.0  \n",
       "4            (41.8781136, -87.6297982, 0.0)  41.878114 -87.629798      0.0  \n",
       "5     (42.0558293, -87.91948269999999, 0.0)  42.055829 -87.919483      0.0  \n",
       "6     (41.88628509999999, -87.7338357, 0.0)  41.886285 -87.733836      0.0  \n",
       "...                                     ...        ...        ...      ...  \n",
       "2017          (41.8889966, -87.652239, 0.0)  41.888997 -87.652239      0.0  \n",
       "2018         (41.9372941, -87.6483622, 0.0)  41.937294 -87.648362      0.0  \n",
       "2020  (41.8817916, -87.62752479999999, 0.0)  41.881792 -87.627525      0.0  \n",
       "2021         (41.9013233, -87.6254831, 0.0)  41.901323 -87.625483      0.0  \n",
       "2022         (41.8845976, -87.6291814, 0.0)  41.884598 -87.629181      0.0  \n",
       "\n",
       "[1409 rows x 20 columns]"
      ]
     },
     "execution_count": 38,
     "metadata": {},
     "output_type": "execute_result"
    }
   ],
   "source": [
    "df"
   ]
  },
  {
   "cell_type": "code",
   "execution_count": 39,
   "id": "613d9c29",
   "metadata": {},
   "outputs": [
    {
     "data": {
      "text/plain": [
       "Index(['URL', 'Tags', 'URL_2', 'HED', 'DEK', 'PUB_DATE', 'LEDE', 'STORY_TEXT',\n",
       "       'STORY_H3_HEADLINES', 'ADDRESS', 'short_description', 'remaining_desc',\n",
       "       'description_link', 'PUB_YEAR', 'geo_address', 'loc', 'point', 'lat',\n",
       "       'lon', 'altitude'],\n",
       "      dtype='object')"
      ]
     },
     "execution_count": 39,
     "metadata": {},
     "output_type": "execute_result"
    }
   ],
   "source": [
    "df.columns"
   ]
  },
  {
   "cell_type": "code",
   "execution_count": 40,
   "id": "ac50e83f",
   "metadata": {},
   "outputs": [],
   "source": [
    "df2 = df.drop(columns=['STORY_H3_HEADLINES','PUB_DATE','STORY_TEXT','short_description','LEDE','remaining_desc'])\n",
    "df2 = df2.dropna(subset='loc')\n",
    "df2.drop(df2.loc[df2['DEK'].str.contains('FAIL')].index, inplace=True)\n",
    "df2.drop(df2.loc[df2['HED'].str.contains('FAIL')].index, inplace=True)\n",
    "df2.reset_index(inplace=True)\n",
    "df2 = df2.drop(columns='index')"
   ]
  },
  {
   "cell_type": "code",
   "execution_count": 44,
   "id": "e5e293ac",
   "metadata": {},
   "outputs": [],
   "source": [
    "from pandas_geojson import to_geojson, write_geojson"
   ]
  },
  {
   "cell_type": "code",
   "execution_count": 42,
   "id": "af8f673c",
   "metadata": {},
   "outputs": [
    {
     "data": {
      "text/plain": [
       "False    1401\n",
       "Name: URL_2, dtype: int64"
      ]
     },
     "execution_count": 42,
     "metadata": {},
     "output_type": "execute_result"
    }
   ],
   "source": [
    "df2['URL_2'].str.contains('FAIL').value_counts()"
   ]
  },
  {
   "cell_type": "code",
   "execution_count": 47,
   "id": "fa9d921e",
   "metadata": {},
   "outputs": [
    {
     "data": {
      "text/plain": [
       "2022    715\n",
       "2019    233\n",
       "2021    179\n",
       "2018    163\n",
       "2020    111\n",
       "Name: PUB_YEAR, dtype: int64"
      ]
     },
     "execution_count": 47,
     "metadata": {},
     "output_type": "execute_result"
    }
   ],
   "source": [
    "df2.PUB_YEAR.value_counts()"
   ]
  },
  {
   "cell_type": "code",
   "execution_count": 58,
   "id": "4167514d",
   "metadata": {},
   "outputs": [],
   "source": [
    "df_2018 = df2.loc[df2['PUB_YEAR'] == '2018']\n",
    "df_2019 = df2.loc[df2['PUB_YEAR'] == '2019']\n",
    "df_2020 = df2.loc[df2['PUB_YEAR'] == '2020']\n",
    "df_2021 = df2.loc[df2['PUB_YEAR'] == '2021']\n",
    "df_2022 = df2.loc[df2['PUB_YEAR'] == '2022']"
   ]
  },
  {
   "cell_type": "code",
   "execution_count": 63,
   "id": "5e25be53",
   "metadata": {},
   "outputs": [],
   "source": [
    "geo_json = to_geojson(df=df_2022, lat='lat', lon='lon',\n",
    "                     properties=['HED','DEK','description_link','PUB_YEAR','geo_address'])\n",
    "write_geojson(geo_json, filename='Chicago_2022.geojson', indent=4)"
   ]
  },
  {
   "cell_type": "code",
   "execution_count": 64,
   "id": "eeef4e02",
   "metadata": {},
   "outputs": [],
   "source": [
    "df2.to_csv('Chicago_data_final.csv')"
   ]
  },
  {
   "cell_type": "code",
   "execution_count": 34,
   "id": "ce30ba9c",
   "metadata": {},
   "outputs": [],
   "source": [
    "# df[['geo_address','lat','lon','altitude']]"
   ]
  },
  {
   "cell_type": "markdown",
   "id": "3d90e2eb",
   "metadata": {},
   "source": [
    "## Code graveyard"
   ]
  },
  {
   "cell_type": "code",
   "execution_count": 35,
   "id": "331057d4",
   "metadata": {},
   "outputs": [],
   "source": [
    "            ####################\n",
    "            # IMAGES #\n",
    "            \n",
    "#             try:            \n",
    "#                 images = soup.find_all('img')\n",
    "#                 image_found = False\n",
    "#                 try:\n",
    "#                     while image_found == False:\n",
    "#                         png_list = []\n",
    "#                         for image in images:\n",
    "#                             if 'jpg' in image['src']:\n",
    "#                                 image_list.append(image['src'])\n",
    "#                                 print(image['src'])\n",
    "#                                 image_found = True\n",
    "#                             break\n",
    "#                         if image_found == False:\n",
    "#                             for image in images:\n",
    "#                                 if 'png' in image['src']:\n",
    "#                                     png_list.append(image['src'])\n",
    "#                                     image_found = True\n",
    "#                             image_list.append(png_list[-1])\n",
    "#                             print(png_list[-1])\n",
    "#                 except Exception as e:\n",
    "#                     print(f'No dice: {e}')\n",
    "#                 print('------')\n",
    "#             except Exception as e:\n",
    "#                 print('find_image_fail')\n",
    "            \n",
    "            ####################"
   ]
  },
  {
   "cell_type": "markdown",
   "id": "c3a4e90d",
   "metadata": {},
   "source": [
    "## Map URL snagger"
   ]
  },
  {
   "cell_type": "markdown",
   "id": "0a2716e1",
   "metadata": {},
   "source": [
    "Map template URL: `https://trd-digital.github.io/trd-news-interactive-maps/{map-folder-name}`"
   ]
  },
  {
   "cell_type": "code",
   "execution_count": 36,
   "id": "dd425ea2",
   "metadata": {},
   "outputs": [],
   "source": [
    "base_name = 'https://trd-digital.github.io/trd-news-interactive-maps/'"
   ]
  },
  {
   "cell_type": "code",
   "execution_count": 37,
   "id": "a7c9c79e",
   "metadata": {},
   "outputs": [
    {
     "name": "stdout",
     "output_type": "stream",
     "text": [
      "https://trd-digital.github.io/trd-news-interactive-maps/chicago_transaction_scraper_map\n"
     ]
    }
   ],
   "source": [
    "cwd = 'chicago_transaction_scraper_map'\n",
    "\n",
    "cwd = cwd.split('/')\n",
    "\n",
    "final_name = base_name + cwd[-1]\n",
    "print(final_name)"
   ]
  }
 ],
 "metadata": {
  "kernelspec": {
   "display_name": "Python 3 (ipykernel)",
   "language": "python",
   "name": "python3"
  },
  "language_info": {
   "codemirror_mode": {
    "name": "ipython",
    "version": 3
   },
   "file_extension": ".py",
   "mimetype": "text/x-python",
   "name": "python",
   "nbconvert_exporter": "python",
   "pygments_lexer": "ipython3",
   "version": "3.9.12"
  }
 },
 "nbformat": 4,
 "nbformat_minor": 5
}
