{
 "cells": [
  {
   "cell_type": "code",
   "execution_count": null,
   "id": "d5cb0bc1",
   "metadata": {},
   "outputs": [],
   "source": [
    "import pandas as pd\n",
    "import folium\n",
    "import numpy as np\n",
    "import os\n",
    "import googlemaps\n",
    "import requests\n",
    "from textwrap import shorten\n",
    "from bs4 import BeautifulSoup\n",
    "import re"
   ]
  },
  {
   "cell_type": "code",
   "execution_count": null,
   "id": "e0a5203d",
   "metadata": {},
   "outputs": [],
   "source": [
    "# Path to your text file\n",
    "file_path = 'Info for map of foreclosure lawsuits.txt'\n",
    "\n",
    "# Initialize variables to store data\n",
    "properties = []\n",
    "current_property = {}\n",
    "\n",
    "# Read and parse the data\n",
    "with open(file_path, 'r') as file:\n",
    "    lines = [line.strip() for line in file if line.strip()]\n",
    "\n",
    "for line in lines:\n",
    "    if not line.startswith('*'):  # Address lines now have no asterisk\n",
    "        if current_property:  # Check if there's an existing property being processed\n",
    "            properties.append(current_property)  # Save the current property data\n",
    "            current_property = {}  # Reset for the next property\n",
    "        current_property['Address'] = line  # Save the address\n",
    "    elif line.startswith('*'):  # Detail lines still start with '*'\n",
    "        # Remove the '* ' from the beginning and split the line at the colon\n",
    "        key, value = line[1:].strip().split(': ')\n",
    "        current_property[key.strip()] = value.strip()\n",
    "\n",
    "# Don't forget to add the last property\n",
    "if current_property:\n",
    "    properties.append(current_property)\n",
    "\n",
    "# Convert the list of dictionaries to a DataFrame\n",
    "df = pd.DataFrame(properties)\n",
    "\n",
    "# Display the DataFrame\n",
    "print(df)"
   ]
  },
  {
   "cell_type": "code",
   "execution_count": null,
   "id": "c4dc0a6b",
   "metadata": {},
   "outputs": [],
   "source": [
    "df.head(20)"
   ]
  },
  {
   "cell_type": "markdown",
   "id": "5f34ae49",
   "metadata": {},
   "source": [
    "## Geocode"
   ]
  },
  {
   "cell_type": "code",
   "execution_count": null,
   "id": "5f05de3b",
   "metadata": {},
   "outputs": [],
   "source": [
    "%store -r google_maps_API_Key\n",
    "gmaps_key = googlemaps.Client(key=google_maps_API_Key)"
   ]
  },
  {
   "cell_type": "code",
   "execution_count": null,
   "id": "1a694c47",
   "metadata": {},
   "outputs": [],
   "source": [
    "df['Address'] = df['Address'] + ' Chicago, IL'"
   ]
  },
  {
   "cell_type": "code",
   "execution_count": null,
   "id": "407fc447",
   "metadata": {},
   "outputs": [],
   "source": [
    "# Define the geocode function\n",
    "def geocode(add):\n",
    "    g = gmaps_key.geocode(add)\n",
    "    if g:\n",
    "        lat = g[0][\"geometry\"][\"location\"][\"lat\"]\n",
    "        lng = g[0][\"geometry\"][\"location\"][\"lng\"]\n",
    "        return (lat, lng)\n",
    "    else:\n",
    "        return None\n",
    "\n",
    "# Apply geocoding to the 'geo_address' column and store the results in 'geocoded' column\n",
    "df['geocoded'] = df['Address'].apply(geocode)"
   ]
  },
  {
   "cell_type": "code",
   "execution_count": null,
   "id": "a5f53afa",
   "metadata": {},
   "outputs": [],
   "source": [
    "df['geocoded'] = df['geocoded'].astype(str)\n",
    "df[['lat', 'lon']] = df['geocoded'].apply(lambda x: (None, None) if x == 'None' else x.strip('()').split(', ', 1)).apply(pd.Series)\n",
    "df['lat'] = df['lat'].astype(float)\n",
    "df['lon'] = df['lon'].astype(float)"
   ]
  },
  {
   "cell_type": "code",
   "execution_count": null,
   "id": "0d2f0966",
   "metadata": {},
   "outputs": [],
   "source": [
    "df.at[2,\"Address\"]=(\"8031 S. Martin Luther King Drive\")\n",
    "df.at[2,\"lat\"]=(41.74820010669799)\n",
    "df.at[2,\"lon\"]=(-87.61452224447761)"
   ]
  },
  {
   "cell_type": "code",
   "execution_count": null,
   "id": "7716bfd9",
   "metadata": {},
   "outputs": [],
   "source": [
    "df"
   ]
  },
  {
   "cell_type": "markdown",
   "id": "31307db7",
   "metadata": {},
   "source": [
    "## Map Maker"
   ]
  },
  {
   "cell_type": "code",
   "execution_count": null,
   "id": "f62ede7e",
   "metadata": {},
   "outputs": [],
   "source": [
    "def popup_html(row_index, max_chars=30):\n",
    "    \"\"\"Generate HTML content for the popup with line breaks for long text.\"\"\"\n",
    "    # Define a style for the popup\n",
    "    style = \"min-width:300px; max-width:400px; font-size:12px;\"  # Adjust max-width to your preference\n",
    "    popup_content = f'<div class=\"popup-content\" style=\"{style}\">'\n",
    "\n",
    "    # Columns to exclude\n",
    "    exclude_columns = ['geocoded', 'lat', 'lon']\n",
    "\n",
    "    # Dynamically add data for each column except excluded ones\n",
    "    for column in [col for col in df.columns if col not in exclude_columns]:\n",
    "        value = df.at[row_index, column]\n",
    "        value_str = str(value).strip()\n",
    "        if pd.notnull(value) and value_str != \"\":\n",
    "            # Check if the string exceeds the maximum character length\n",
    "            if len(value_str) > max_chars and column == \"Address\":\n",
    "                # Insert a <br> tag every max_chars characters\n",
    "                value_str = '<br>'.join(value_str[i:i+max_chars] for i in range(0, len(value_str), max_chars))\n",
    "            popup_content += f'<strong>{column}:</strong> {value_str}<br>'\n",
    "    popup_content += '</div>'\n",
    "    return popup_content\n",
    "\n",
    "m = folium.Map(location=df[[\"lat\", \"lon\"]].mean().to_list(),zoom_start=9.5,tiles=None)\n",
    "\n",
    "# Add the custom Mapbox tile layer\n",
    "folium.TileLayer(\n",
    "    tiles = 'https://api.mapbox.com/styles/v1/mapbox/streets-v11/tiles/256/{z}/{x}/{y}@2x?access_token=pk.eyJ1IjoidHJkZGF0YSIsImEiOiJjamc2bTc2YmUxY2F3MnZxZGh2amR2MTY5In0.QlOWqB-yQNrNlXD0KQ9IvQ',\n",
    "    attr = 'Mapbox',\n",
    "    name = 'Streets',\n",
    "    overlay = False,\n",
    "    control = True,\n",
    "    show = True,\n",
    "    min_zoom = 11,\n",
    "    max_zoom = 30\n",
    "    ).add_to(m)\n",
    "\n",
    "# Loop through the DataFrame to create markers\n",
    "for i in range(len(df)):\n",
    "    # Create popup HTML content\n",
    "    popup_content = popup_html(i)\n",
    "    \n",
    "    # Create a custom icon\n",
    "    icon = folium.Icon(color='red')\n",
    "    \n",
    "    # Create a marker with a popup\n",
    "    marker = folium.CircleMarker(\n",
    "        location=[df.iloc[i]['lat'], df.iloc[i]['lon']],\n",
    "        popup=popup_content,\n",
    "        color='red',\n",
    "        width=400,\n",
    "        fill=True,\n",
    "        radius=7\n",
    "    ).add_to(m)\n",
    "\n",
    "m"
   ]
  },
  {
   "cell_type": "code",
   "execution_count": null,
   "id": "6f412da2",
   "metadata": {},
   "outputs": [],
   "source": [
    "m.save('index.html')"
   ]
  },
  {
   "cell_type": "code",
   "execution_count": null,
   "id": "42d603fb",
   "metadata": {},
   "outputs": [],
   "source": [
    "base_name = 'https://trd-digital.github.io/trd-news-interactive-maps/'\n",
    "\n",
    "cwd = os.getcwd()\n",
    "\n",
    "cwd = cwd.split('/')\n",
    "\n",
    "final_name = base_name + cwd[-1]\n",
    "print(final_name)"
   ]
  }
 ],
 "metadata": {
  "kernelspec": {
   "display_name": "Python 3 (ipykernel)",
   "language": "python",
   "name": "python3"
  },
  "language_info": {
   "codemirror_mode": {
    "name": "ipython",
    "version": 3
   },
   "file_extension": ".py",
   "mimetype": "text/x-python",
   "name": "python",
   "nbconvert_exporter": "python",
   "pygments_lexer": "ipython3",
   "version": "3.9.12"
  }
 },
 "nbformat": 4,
 "nbformat_minor": 5
}
