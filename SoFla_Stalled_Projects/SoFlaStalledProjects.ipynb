{
 "cells": [
  {
   "cell_type": "markdown",
   "id": "e10034d4",
   "metadata": {},
   "source": [
    "# Imports"
   ]
  },
  {
   "cell_type": "code",
   "execution_count": 1,
   "id": "8766abcc",
   "metadata": {},
   "outputs": [],
   "source": [
    "import pandas as pd\n",
    "import geopandas as gpd\n",
    "import googlemaps\n",
    "from shapely.geometry import Point\n",
    "import os\n",
    "import numpy as np\n",
    "import re\n",
    "from textwrap import shorten\n",
    "from bs4 import BeautifulSoup\n",
    "import gspread"
   ]
  },
  {
   "cell_type": "markdown",
   "id": "d6f64639",
   "metadata": {},
   "source": [
    "## Data read-in"
   ]
  },
  {
   "cell_type": "code",
   "execution_count": 2,
   "id": "b490dbe3",
   "metadata": {},
   "outputs": [],
   "source": [
    "df = pd.read_csv('Stalled Projects in South Florida - Sheet1.csv')"
   ]
  },
  {
   "cell_type": "code",
   "execution_count": 3,
   "id": "833361e4",
   "metadata": {},
   "outputs": [],
   "source": [
    "# # Drop the 'URL' column if you no longer need it\n",
    "# df = df.drop(columns=['URL'])"
   ]
  },
  {
   "cell_type": "code",
   "execution_count": 4,
   "id": "528a2875",
   "metadata": {},
   "outputs": [],
   "source": [
    "# df['Description'].iloc[0]"
   ]
  },
  {
   "cell_type": "markdown",
   "id": "f8e40528",
   "metadata": {},
   "source": [
    "## Geocode"
   ]
  },
  {
   "cell_type": "code",
   "execution_count": 5,
   "id": "80ec2c80",
   "metadata": {},
   "outputs": [
    {
     "data": {
      "text/plain": [
       "Index(['Project Name ', 'Address', 'Google coordinates for map', 'Developer',\n",
       "       'Status', 'Caption for map', 'Reporter', 'Art for map'],\n",
       "      dtype='object')"
      ]
     },
     "execution_count": 5,
     "metadata": {},
     "output_type": "execute_result"
    }
   ],
   "source": [
    "df.columns"
   ]
  },
  {
   "cell_type": "code",
   "execution_count": 6,
   "id": "1eeeda8c",
   "metadata": {},
   "outputs": [
    {
     "name": "stderr",
     "output_type": "stream",
     "text": [
      "/Users/afarence/opt/anaconda3/lib/python3.9/site-packages/pandas/core/dtypes/cast.py:131: ShapelyDeprecationWarning: The array interface is deprecated and will no longer work in Shapely 2.0. Convert the '.coords' to a numpy array instead.\n",
      "  arr = construct_1d_object_array_from_listlike(values)\n"
     ]
    },
    {
     "data": {
      "text/html": [
       "<div>\n",
       "<style scoped>\n",
       "    .dataframe tbody tr th:only-of-type {\n",
       "        vertical-align: middle;\n",
       "    }\n",
       "\n",
       "    .dataframe tbody tr th {\n",
       "        vertical-align: top;\n",
       "    }\n",
       "\n",
       "    .dataframe thead th {\n",
       "        text-align: right;\n",
       "    }\n",
       "</style>\n",
       "<table border=\"1\" class=\"dataframe\">\n",
       "  <thead>\n",
       "    <tr style=\"text-align: right;\">\n",
       "      <th></th>\n",
       "      <th>Project Name</th>\n",
       "      <th>Address</th>\n",
       "      <th>Google coordinates for map</th>\n",
       "      <th>Developer</th>\n",
       "      <th>Status</th>\n",
       "      <th>Caption for map</th>\n",
       "      <th>Reporter</th>\n",
       "      <th>Art for map</th>\n",
       "      <th>latitude</th>\n",
       "      <th>longitude</th>\n",
       "      <th>geometry</th>\n",
       "    </tr>\n",
       "  </thead>\n",
       "  <tbody>\n",
       "    <tr>\n",
       "      <th>0</th>\n",
       "      <td>American Dream Mall</td>\n",
       "      <td>Between I-75 and the Florida Turnpike</td>\n",
       "      <td>25.940768724223318, -80.35430834436464</td>\n",
       "      <td>Ghermezian family's Triple Five</td>\n",
       "      <td>Stalled</td>\n",
       "      <td>The 2018 rezoning of the property allows Tripl...</td>\n",
       "      <td>KK</td>\n",
       "      <td>NaN</td>\n",
       "      <td>25.940769</td>\n",
       "      <td>-80.354308</td>\n",
       "      <td>POINT (-80.35431 25.94077)</td>\n",
       "    </tr>\n",
       "    <tr>\n",
       "      <th>1</th>\n",
       "      <td>Metropica</td>\n",
       "      <td>1800 Northwest 136th Street in Sunrise</td>\n",
       "      <td>26.15006299314875, -80.32921473437446</td>\n",
       "      <td>Joseph Kavana's Metropica Lands LLC</td>\n",
       "      <td>Stalled</td>\n",
       "      <td>The 65-acre mixed-use, master-planned communit...</td>\n",
       "      <td>KK</td>\n",
       "      <td>NaN</td>\n",
       "      <td>26.150063</td>\n",
       "      <td>-80.329215</td>\n",
       "      <td>POINT (-80.32921 26.15006)</td>\n",
       "    </tr>\n",
       "    <tr>\n",
       "      <th>2</th>\n",
       "      <td>Magic City Innovation District</td>\n",
       "      <td>Between Northeast 60th Street and 64th Street ...</td>\n",
       "      <td>25.832092902164383, -80.1903505634395</td>\n",
       "      <td>The master developers are Plaza Equity Partner...</td>\n",
       "      <td>Slow moving</td>\n",
       "      <td>The Magic City Innovation District is a roughl...</td>\n",
       "      <td>Lidia</td>\n",
       "      <td>Pls. see link in Art section of Google Doc</td>\n",
       "      <td>25.832093</td>\n",
       "      <td>-80.190351</td>\n",
       "      <td>POINT (-80.19035 25.83209)</td>\n",
       "    </tr>\n",
       "    <tr>\n",
       "      <th>3</th>\n",
       "      <td>Miami Produce Center</td>\n",
       "      <td>2140 Northwest 12th Avenue, Miami FL</td>\n",
       "      <td>25.797111205113104, -80.21650974708585</td>\n",
       "      <td>Robert Wennett</td>\n",
       "      <td>Stalled</td>\n",
       "      <td>Developer Robert Wennett scored approval in 20...</td>\n",
       "      <td>Lidia</td>\n",
       "      <td>attached on Monday.com</td>\n",
       "      <td>25.797111</td>\n",
       "      <td>-80.216510</td>\n",
       "      <td>POINT (-80.21651 25.79711)</td>\n",
       "    </tr>\n",
       "    <tr>\n",
       "      <th>4</th>\n",
       "      <td>One River Point, now Faena Residences</td>\n",
       "      <td>24 Southwest Fourth Street in Miami</td>\n",
       "      <td>25.769806330026157, -80.19419873439219</td>\n",
       "      <td>Shahab Karmely's KAR Properties and Edgardo De...</td>\n",
       "      <td>Revived</td>\n",
       "      <td>Shahab Karmely, then backed by hedge fund mana...</td>\n",
       "      <td>KK</td>\n",
       "      <td>NaN</td>\n",
       "      <td>25.769806</td>\n",
       "      <td>-80.194199</td>\n",
       "      <td>POINT (-80.19420 25.76981)</td>\n",
       "    </tr>\n",
       "    <tr>\n",
       "      <th>5</th>\n",
       "      <td>The River District</td>\n",
       "      <td>242 Southwest Fifth Street in Miami\\n501 South...</td>\n",
       "      <td>25.769622274497042, -80.1987194</td>\n",
       "      <td>Chetrit Group</td>\n",
       "      <td>Revived</td>\n",
       "      <td>In 2015, the Miami City Commission approved a ...</td>\n",
       "      <td>KK</td>\n",
       "      <td>NaN</td>\n",
       "      <td>25.769622</td>\n",
       "      <td>-80.198719</td>\n",
       "      <td>POINT (-80.19872 25.76962)</td>\n",
       "    </tr>\n",
       "    <tr>\n",
       "      <th>6</th>\n",
       "      <td>Moishe Mana's downtown Miami district</td>\n",
       "      <td>NaN</td>\n",
       "      <td>25.77410091137202, -80.19084997145112</td>\n",
       "      <td>NaN</td>\n",
       "      <td>Slow moving</td>\n",
       "      <td>It's been more than a decade since Moishe Mana...</td>\n",
       "      <td>Lidia</td>\n",
       "      <td>Attached on Monday.com</td>\n",
       "      <td>25.774101</td>\n",
       "      <td>-80.190850</td>\n",
       "      <td>POINT (-80.19085 25.77410)</td>\n",
       "    </tr>\n",
       "    <tr>\n",
       "      <th>7</th>\n",
       "      <td>Moishe Mana's Wynwood project</td>\n",
       "      <td>NaN</td>\n",
       "      <td>25.799384787383566, -80.20388432958792</td>\n",
       "      <td>NaN</td>\n",
       "      <td>Slow moving</td>\n",
       "      <td>Moishe Mana's Wynwood special area plan is amo...</td>\n",
       "      <td>Lidia</td>\n",
       "      <td>Attached on Monday.com</td>\n",
       "      <td>25.799385</td>\n",
       "      <td>-80.203884</td>\n",
       "      <td>POINT (-80.20388 25.79938)</td>\n",
       "    </tr>\n",
       "    <tr>\n",
       "      <th>8</th>\n",
       "      <td>Sabal Palm Village at Flagler Trail</td>\n",
       "      <td>NaN</td>\n",
       "      <td>25.823925571753556, -80.1894693873888</td>\n",
       "      <td>NaN</td>\n",
       "      <td>Stalled</td>\n",
       "      <td>SPV Realty, tied to New Yorker Justin Podolsky...</td>\n",
       "      <td>Lidia</td>\n",
       "      <td>attached on Monday.com</td>\n",
       "      <td>25.823926</td>\n",
       "      <td>-80.189469</td>\n",
       "      <td>POINT (-80.18947 25.82393)</td>\n",
       "    </tr>\n",
       "    <tr>\n",
       "      <th>9</th>\n",
       "      <td>Miami Beach Convention Center</td>\n",
       "      <td>NaN</td>\n",
       "      <td>25.79263962496994, -80.1344550831726</td>\n",
       "      <td>NaN</td>\n",
       "      <td>Revived</td>\n",
       "      <td>Miami Beach voters approved a referendum for t...</td>\n",
       "      <td>Lidia</td>\n",
       "      <td>attached on Monday.com</td>\n",
       "      <td>25.792640</td>\n",
       "      <td>-80.134455</td>\n",
       "      <td>POINT (-80.13446 25.79264)</td>\n",
       "    </tr>\n",
       "    <tr>\n",
       "      <th>10</th>\n",
       "      <td>Bahia Mar in Fort Lauderdale</td>\n",
       "      <td>801 Seabreeze Boulevard in Fort Lauderdale</td>\n",
       "      <td>26.1114789802284, -80.10604654232753</td>\n",
       "      <td>Tate Capital, Rok Acquisitions and Related Group</td>\n",
       "      <td>Revived</td>\n",
       "      <td>The planned $1 billion-plus redevelopment of B...</td>\n",
       "      <td>KK</td>\n",
       "      <td>NaN</td>\n",
       "      <td>26.111479</td>\n",
       "      <td>-80.106047</td>\n",
       "      <td>POINT (-80.10605 26.11148)</td>\n",
       "    </tr>\n",
       "  </tbody>\n",
       "</table>\n",
       "</div>"
      ],
      "text/plain": [
       "                             Project Name   \\\n",
       "0                     American Dream Mall    \n",
       "1                                Metropica   \n",
       "2          Magic City Innovation District    \n",
       "3                     Miami Produce Center   \n",
       "4    One River Point, now Faena Residences   \n",
       "5                      The River District    \n",
       "6   Moishe Mana's downtown Miami district    \n",
       "7           Moishe Mana's Wynwood project    \n",
       "8     Sabal Palm Village at Flagler Trail    \n",
       "9            Miami Beach Convention Center   \n",
       "10           Bahia Mar in Fort Lauderdale    \n",
       "\n",
       "                                              Address  \\\n",
       "0               Between I-75 and the Florida Turnpike   \n",
       "1              1800 Northwest 136th Street in Sunrise   \n",
       "2   Between Northeast 60th Street and 64th Street ...   \n",
       "3                2140 Northwest 12th Avenue, Miami FL   \n",
       "4                 24 Southwest Fourth Street in Miami   \n",
       "5   242 Southwest Fifth Street in Miami\\n501 South...   \n",
       "6                                                 NaN   \n",
       "7                                                 NaN   \n",
       "8                                                 NaN   \n",
       "9                                                 NaN   \n",
       "10         801 Seabreeze Boulevard in Fort Lauderdale   \n",
       "\n",
       "                Google coordinates for map  \\\n",
       "0   25.940768724223318, -80.35430834436464   \n",
       "1    26.15006299314875, -80.32921473437446   \n",
       "2    25.832092902164383, -80.1903505634395   \n",
       "3   25.797111205113104, -80.21650974708585   \n",
       "4   25.769806330026157, -80.19419873439219   \n",
       "5         25.769622274497042, -80.1987194    \n",
       "6    25.77410091137202, -80.19084997145112   \n",
       "7   25.799384787383566, -80.20388432958792   \n",
       "8    25.823925571753556, -80.1894693873888   \n",
       "9     25.79263962496994, -80.1344550831726   \n",
       "10    26.1114789802284, -80.10604654232753   \n",
       "\n",
       "                                            Developer        Status  \\\n",
       "0                     Ghermezian family's Triple Five       Stalled   \n",
       "1                 Joseph Kavana's Metropica Lands LLC       Stalled   \n",
       "2   The master developers are Plaza Equity Partner...  Slow moving    \n",
       "3                                      Robert Wennett      Stalled    \n",
       "4   Shahab Karmely's KAR Properties and Edgardo De...       Revived   \n",
       "5                                       Chetrit Group       Revived   \n",
       "6                                                 NaN  Slow moving    \n",
       "7                                                 NaN  Slow moving    \n",
       "8                                                 NaN       Stalled   \n",
       "9                                                 NaN       Revived   \n",
       "10   Tate Capital, Rok Acquisitions and Related Group       Revived   \n",
       "\n",
       "                                      Caption for map Reporter  \\\n",
       "0   The 2018 rezoning of the property allows Tripl...       KK   \n",
       "1   The 65-acre mixed-use, master-planned communit...       KK   \n",
       "2   The Magic City Innovation District is a roughl...    Lidia   \n",
       "3   Developer Robert Wennett scored approval in 20...    Lidia   \n",
       "4   Shahab Karmely, then backed by hedge fund mana...       KK   \n",
       "5   In 2015, the Miami City Commission approved a ...       KK   \n",
       "6   It's been more than a decade since Moishe Mana...   Lidia    \n",
       "7   Moishe Mana's Wynwood special area plan is amo...   Lidia    \n",
       "8   SPV Realty, tied to New Yorker Justin Podolsky...   Lidia    \n",
       "9   Miami Beach voters approved a referendum for t...    Lidia   \n",
       "10  The planned $1 billion-plus redevelopment of B...       KK   \n",
       "\n",
       "                                   Art for map   latitude  longitude  \\\n",
       "0                                          NaN  25.940769 -80.354308   \n",
       "1                                          NaN  26.150063 -80.329215   \n",
       "2   Pls. see link in Art section of Google Doc  25.832093 -80.190351   \n",
       "3                       attached on Monday.com  25.797111 -80.216510   \n",
       "4                                          NaN  25.769806 -80.194199   \n",
       "5                                          NaN  25.769622 -80.198719   \n",
       "6                       Attached on Monday.com  25.774101 -80.190850   \n",
       "7                       Attached on Monday.com  25.799385 -80.203884   \n",
       "8                       attached on Monday.com  25.823926 -80.189469   \n",
       "9                       attached on Monday.com  25.792640 -80.134455   \n",
       "10                                         NaN  26.111479 -80.106047   \n",
       "\n",
       "                      geometry  \n",
       "0   POINT (-80.35431 25.94077)  \n",
       "1   POINT (-80.32921 26.15006)  \n",
       "2   POINT (-80.19035 25.83209)  \n",
       "3   POINT (-80.21651 25.79711)  \n",
       "4   POINT (-80.19420 25.76981)  \n",
       "5   POINT (-80.19872 25.76962)  \n",
       "6   POINT (-80.19085 25.77410)  \n",
       "7   POINT (-80.20388 25.79938)  \n",
       "8   POINT (-80.18947 25.82393)  \n",
       "9   POINT (-80.13446 25.79264)  \n",
       "10  POINT (-80.10605 26.11148)  "
      ]
     },
     "execution_count": 6,
     "metadata": {},
     "output_type": "execute_result"
    }
   ],
   "source": [
    "import pandas as pd\n",
    "import geopandas as gpd\n",
    "from shapely.geometry import Point\n",
    "\n",
    "# Assuming 'Google coordinates for map' contains comma-separated latitude and longitude\n",
    "# Step 1: Split the coordinates into two columns if needed\n",
    "df[['latitude', 'longitude']] = df['Google coordinates for map'].str.split(', ', expand=True).astype(float)\n",
    "\n",
    "# Step 2: Create Point geometries from latitude and longitude\n",
    "df['geometry'] = df.apply(lambda row: Point(row['longitude'], row['latitude']), axis=1)\n",
    "\n",
    "# Step 3: Convert to GeoDataFrame\n",
    "gdf = gpd.GeoDataFrame(df, geometry='geometry')\n",
    "\n",
    "# Step 4: Set the CRS to WGS 84 (EPSG:4326)\n",
    "gdf.set_crs(epsg=4326, inplace=True)\n",
    "\n",
    "# Now `gdf` is a GeoDataFrame with valid geometry"
   ]
  },
  {
   "cell_type": "code",
   "execution_count": 7,
   "id": "13cdeafd",
   "metadata": {},
   "outputs": [
    {
     "data": {
      "text/plain": [
       "Index(['Project Name ', 'Address', 'Google coordinates for map', 'Developer',\n",
       "       'Status', 'Caption for map', 'Reporter', 'Art for map', 'latitude',\n",
       "       'longitude', 'geometry'],\n",
       "      dtype='object')"
      ]
     },
     "execution_count": 7,
     "metadata": {},
     "output_type": "execute_result"
    }
   ],
   "source": [
    "gdf.columns"
   ]
  },
  {
   "cell_type": "code",
   "execution_count": 8,
   "id": "34d9d3d3",
   "metadata": {},
   "outputs": [],
   "source": [
    "gdf = gdf.rename(columns={'Caption for map':'Details'})"
   ]
  },
  {
   "cell_type": "code",
   "execution_count": 9,
   "id": "5bf8893a",
   "metadata": {},
   "outputs": [
    {
     "name": "stderr",
     "output_type": "stream",
     "text": [
      "/var/folders/rq/0_j_rksd7psgdycg9c1qwf6m0000gp/T/ipykernel_72902/2323350875.py:3: FutureWarning: DataFrame.applymap has been deprecated. Use DataFrame.map instead.\n",
      "  gdf = gdf.applymap(lambda x: x.strip() if isinstance(x, str) else x)  # Trim whitespace from string values\n"
     ]
    }
   ],
   "source": [
    "# Strip whitespace from all string columns\n",
    "gdf.columns = gdf.columns.str.strip()  # Trim whitespace from column names\n",
    "gdf = gdf.applymap(lambda x: x.strip() if isinstance(x, str) else x)  # Trim whitespace from string values"
   ]
  },
  {
   "cell_type": "code",
   "execution_count": 10,
   "id": "389be2c6",
   "metadata": {},
   "outputs": [],
   "source": [
    "# Convert all data to strings if possible, or remove complex structures\n",
    "for col in gdf.columns:\n",
    "    if gdf[col].dtype == object:\n",
    "        try:\n",
    "            gdf[col] = gdf[col].astype(str)\n",
    "        except Exception as e:\n",
    "            print(f\"Could not convert column {col}: {e}\")\n",
    "            gdf.drop(columns=[col], inplace=True)\n"
   ]
  },
  {
   "cell_type": "code",
   "execution_count": 11,
   "id": "cab17d01",
   "metadata": {},
   "outputs": [],
   "source": [
    "gdf.to_file('data.geojson', driver='GeoJSON')"
   ]
  },
  {
   "cell_type": "code",
   "execution_count": 12,
   "id": "81bf86af",
   "metadata": {},
   "outputs": [
    {
     "name": "stdout",
     "output_type": "stream",
     "text": [
      "https://trd-digital.github.io/trd-news-interactive-maps/SoFla_Stalled_Projects\n"
     ]
    }
   ],
   "source": [
    "base_name = 'https://trd-digital.github.io/trd-news-interactive-maps/'\n",
    "\n",
    "cwd = os.getcwd()\n",
    "\n",
    "cwd = cwd.split('/')\n",
    "\n",
    "final_name = base_name + cwd[-1]\n",
    "print(final_name)"
   ]
  },
  {
   "cell_type": "code",
   "execution_count": 13,
   "id": "17012fae",
   "metadata": {},
   "outputs": [
    {
     "data": {
      "text/plain": [
       "Index(['Project Name', 'Address', 'Google coordinates for map', 'Developer',\n",
       "       'Status', 'Details', 'Reporter', 'Art for map', 'latitude', 'longitude',\n",
       "       'geometry'],\n",
       "      dtype='object')"
      ]
     },
     "execution_count": 13,
     "metadata": {},
     "output_type": "execute_result"
    }
   ],
   "source": [
    "gdf.columns"
   ]
  },
  {
   "cell_type": "markdown",
   "id": "487c7bf9",
   "metadata": {},
   "source": [
    "<a href=\"https://therealdeal.com/chicago/2024/04/03/david-gassman-sells-chicago-apartment-portfolio-for-72m/\"> 6954 North Sheridan Road, Chicago</a>"
   ]
  }
 ],
 "metadata": {
  "kernelspec": {
   "display_name": "Python 3 (ipykernel)",
   "language": "python",
   "name": "python3"
  },
  "language_info": {
   "codemirror_mode": {
    "name": "ipython",
    "version": 3
   },
   "file_extension": ".py",
   "mimetype": "text/x-python",
   "name": "python",
   "nbconvert_exporter": "python",
   "pygments_lexer": "ipython3",
   "version": "3.9.12"
  }
 },
 "nbformat": 4,
 "nbformat_minor": 5
}
