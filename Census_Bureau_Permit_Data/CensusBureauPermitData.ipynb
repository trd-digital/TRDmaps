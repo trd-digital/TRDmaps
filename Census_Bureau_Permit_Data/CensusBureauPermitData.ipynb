{
 "cells": [
  {
   "cell_type": "markdown",
   "id": "c7595f77",
   "metadata": {},
   "source": [
    "## Links\n",
    "\n",
    "Data link: https://www.census.gov/construction/bps/msamonthly.html"
   ]
  },
  {
   "cell_type": "markdown",
   "id": "6b694a05",
   "metadata": {},
   "source": [
    "## Imports"
   ]
  },
  {
   "cell_type": "code",
   "execution_count": 1,
   "id": "90324bef",
   "metadata": {},
   "outputs": [],
   "source": [
    "import pandas as pd\n",
    "import numpy as np\n",
    "import glob\n",
    "import os"
   ]
  },
  {
   "cell_type": "markdown",
   "id": "0e76d0ab",
   "metadata": {},
   "source": [
    "## Data read-in"
   ]
  },
  {
   "cell_type": "code",
   "execution_count": 2,
   "id": "709c85d2",
   "metadata": {},
   "outputs": [],
   "source": [
    "xls_files = glob.glob('*.xls')\n",
    "\n",
    "# df_list = []\n",
    "\n",
    "# for xls_file in xls_files:\n",
    "#     df = pd.read_csv(xls_file)\n",
    "#     df_list.append(df)\n",
    "    \n",
    "# df = pd.concat(df_list,ignore_index=True)\n",
    "\n",
    "# print(len(df))"
   ]
  },
  {
   "cell_type": "code",
   "execution_count": 3,
   "id": "31de4c5e",
   "metadata": {},
   "outputs": [],
   "source": [
    "df_2023 = pd.read_excel('msaannual_2023prelim.xls','MSA Units',header=7)\n",
    "df_2023 = df_2023.dropna(thresh=4)\n",
    "df_2023['Year'] = 2023 "
   ]
  },
  {
   "cell_type": "code",
   "execution_count": 4,
   "id": "2b0fb5b3",
   "metadata": {},
   "outputs": [],
   "source": [
    "df_2022 = pd.read_excel('msaannual_202299.xls','MSA Units',header=5)\n",
    "df_2022 = df_2022.dropna(thresh=4)\n",
    "df_2022['Year'] = 2022"
   ]
  },
  {
   "cell_type": "code",
   "execution_count": 5,
   "id": "7eda88e2",
   "metadata": {},
   "outputs": [],
   "source": [
    "df_2021 = pd.read_excel('msaannual_202199.xls','MSA Units',header=5)\n",
    "df_2021 = df_2021.dropna(thresh=4)\n",
    "df_2021['Year'] = 2021"
   ]
  },
  {
   "cell_type": "code",
   "execution_count": 6,
   "id": "592899d2",
   "metadata": {},
   "outputs": [],
   "source": [
    "df_2020 = pd.read_excel('msaannual_202099.xls','MSA Units',header=5)\n",
    "df_2020 = df_2020.dropna(thresh=4)\n",
    "df_2020['Year'] = 2020 "
   ]
  },
  {
   "cell_type": "code",
   "execution_count": 7,
   "id": "2dc535b7",
   "metadata": {},
   "outputs": [],
   "source": [
    "df_2019 = pd.read_excel('msaannual_201999.xls','MSA Units',header=5)\n",
    "df_2019 = df_2019.dropna(thresh=4)\n",
    "df_2019['Year'] = 2019"
   ]
  },
  {
   "cell_type": "code",
   "execution_count": 8,
   "id": "8d51cd6e",
   "metadata": {},
   "outputs": [
    {
     "name": "stdout",
     "output_type": "stream",
     "text": [
      "384\n",
      "384\n",
      "384\n",
      "384\n",
      "384\n"
     ]
    }
   ],
   "source": [
    "# Check length of dataframes\n",
    "df_list = [df_2023,df_2022,df_2021,df_2020,df_2019]\n",
    "\n",
    "for df in df_list:\n",
    "    print(len(df))"
   ]
  },
  {
   "cell_type": "code",
   "execution_count": 27,
   "id": "31136805",
   "metadata": {},
   "outputs": [
    {
     "data": {
      "text/plain": [
       "CSA                                                                                   429.0\n",
       "CBSA                                                                                38060.0\n",
       "Name                                      Phoenix-Mesa-Chandler, AZ                     ...\n",
       "Total                                                                               45637.0\n",
       "1 Unit                                                                              24810.0\n",
       "2 Units                                                                              1746.0\n",
       "3 and 4 Units                                                                         149.0\n",
       "5 Units or More                                                                     18932.0\n",
       "Num of Structures With 5 Units or More                                                537.0\n",
       "Year                                                                                   2023\n",
       "Name: 271, dtype: object"
      ]
     },
     "execution_count": 27,
     "metadata": {},
     "output_type": "execute_result"
    }
   ],
   "source": [
    "df_2023.sort_values(by='Total',ascending=False).iloc[2]"
   ]
  },
  {
   "cell_type": "code",
   "execution_count": 44,
   "id": "9fcc4cf1",
   "metadata": {},
   "outputs": [
    {
     "data": {
      "text/plain": [
       "226    Miami-Fort Lauderdale-Pompano Beach, FL       ...\n",
       "Name: Name, dtype: object"
      ]
     },
     "execution_count": 44,
     "metadata": {},
     "output_type": "execute_result"
    }
   ],
   "source": [
    "df_2023[df_2023['Name'].str.contains('Miami')]['Name']"
   ]
  },
  {
   "cell_type": "code",
   "execution_count": 32,
   "id": "9c6465d2",
   "metadata": {},
   "outputs": [
    {
     "name": "stdout",
     "output_type": "stream",
     "text": [
      "Top Names:\n",
      " ['Houston-The Woodlands-Sugar Land, TX | Year: 2023', 'Dallas-Fort Worth-Arlington, TX | Year: 2022', 'Dallas-Fort Worth-Arlington, TX | Year: 2021', 'Houston-The Woodlands-Sugar Land, TX | Year: 2020', 'Houston-The Woodlands-Sugar Land, TX | Year: 2019']\n",
      "----------\n",
      "Second Names:\n",
      " ['Dallas-Fort Worth-Arlington, TX | Year: 2023', 'Houston-The Woodlands-Sugar Land, TX | Year: 2022', 'Houston-The Woodlands-Sugar Land, TX | Year: 2021', 'Dallas-Fort Worth-Arlington, TX | Year: 2020', 'Dallas-Fort Worth-Arlington, TX | Year: 2019']\n",
      "----------\n",
      "Third Names:\n",
      " ['Phoenix-Mesa-Chandler, AZ | Year: 2023', 'New York-Newark-Jersey City, NY-NJ-PA | Year: 2022', 'New York-Newark-Jersey City, NY-NJ-PA | Year: 2021', 'New York-Newark-Jersey City, NY-NJ-PA | Year: 2020', 'New York-Newark-Jersey City, NY-NJ-PA | Year: 2019']\n",
      "----------\n",
      "Fourth Names:\n",
      " ['New York-Newark-Jersey City, NY-NJ-PA | Year: 2023', 'Atlanta-Sandy Springs-Alpharetta, GA | Year: 2022', 'Austin-Round Rock-Georgetown, TX | Year: 2021', 'Phoenix-Mesa-Chandler, AZ | Year: 2020', 'Phoenix-Mesa-Chandler, AZ | Year: 2019']\n",
      "----------\n",
      "Fifth Names:\n",
      " ['Austin-Round Rock-Georgetown, TX | Year: 2023', 'Phoenix-Mesa-Chandler, AZ | Year: 2022', 'Phoenix-Mesa-Chandler, AZ | Year: 2021', 'Austin-Round Rock-Georgetown, TX | Year: 2020', 'Atlanta-Sandy Springs-Alpharetta, GA | Year: 2019']\n"
     ]
    }
   ],
   "source": [
    "# Initialize empty lists to store the names with the highest 'Total' from each DataFrame\n",
    "top_names = []\n",
    "second_names = []\n",
    "third_names = []\n",
    "fourth_names = []\n",
    "fifth_names = []\n",
    "\n",
    "for df in df_list:\n",
    "    # Sort the DataFrame by 'Total' in descending order\n",
    "    sorted_df = df.sort_values(by='Total', ascending=False)\n",
    "    \n",
    "    # Assuming 'Year' is consistent across each df in df_list\n",
    "    year = str(sorted_df['Year'].iloc[0])\n",
    "    \n",
    "    # Extract the top five names and their associated year\n",
    "    for i, names_list in enumerate([top_names, second_names, third_names, fourth_names, fifth_names], start=0):\n",
    "        name = sorted_df['Name'].iloc[i].strip() + ' | Year: ' + year\n",
    "        names_list.append(name)\n",
    "\n",
    "# Now each list contains the names in descending order of 'Total' from each DataFrame in 'df_list'\n",
    "print(\"Top Names:\\n\", top_names)\n",
    "print('----------')\n",
    "print(\"Second Names:\\n\", second_names)\n",
    "print('----------')\n",
    "print(\"Third Names:\\n\", third_names)\n",
    "print('----------')\n",
    "print(\"Fourth Names:\\n\", fourth_names)\n",
    "print('----------')\n",
    "print(\"Fifth Names:\\n\", fifth_names)"
   ]
  },
  {
   "cell_type": "markdown",
   "id": "87419d39",
   "metadata": {},
   "source": [
    "## Miami Metro area permit comparison"
   ]
  },
  {
   "cell_type": "code",
   "execution_count": 46,
   "id": "c02ba63a",
   "metadata": {},
   "outputs": [
    {
     "name": "stdout",
     "output_type": "stream",
     "text": [
      "Year: 2023\n",
      "Permits for 'Miami-Fort Lauderdale-Pompano Beach, FL': 21329.0\n",
      "Number of metros with a higher value: 12\n",
      "Number of metros with a lower value: 371\n",
      "\n",
      "Year: 2022\n",
      "Permits for 'Miami-Fort Lauderdale-Pompano Beach, FL': 20021.0\n",
      "Number of metros with a higher value: 18\n",
      "Number of metros with a lower value: 365\n",
      "\n",
      "Year: 2021\n",
      "Permits for 'Miami-Fort Lauderdale-Pompano Beach, FL': 25313.0\n",
      "Number of metros with a higher value: 15\n",
      "Number of metros with a lower value: 368\n",
      "\n",
      "Year: 2020\n",
      "Permits for 'Miami-Fort Lauderdale-Pompano Beach, FL': 21758.0\n",
      "Number of metros with a higher value: 13\n",
      "Number of metros with a lower value: 370\n",
      "\n",
      "Year: 2019\n",
      "Permits for 'Miami-Fort Lauderdale-Pompano Beach, FL': 20688.0\n",
      "Number of metros with a higher value: 14\n",
      "Number of metros with a lower value: 369\n",
      "\n"
     ]
    }
   ],
   "source": [
    "# Assuming df_list is just a list of DataFrames without explicit year pairing\n",
    "df_list = [df_2023, df_2022, df_2021, df_2020, df_2019]  # Example list of your DataFrames\n",
    "\n",
    "for df in df_list:\n",
    "    specified_value = df.loc[df['Name'].str.contains('Miami-Fort Lauderdale-Pompano Beach, FL'), 'Total'].iloc[0]\n",
    "    year = str(df['Year'].iloc[0])  # Assuming the first entry's Year applies to the whole DataFrame\n",
    "    higher_count = (df['Total'] > specified_value).sum()\n",
    "    lower_count = (df['Total'] < specified_value).sum()\n",
    "    \n",
    "    print(f\"Year: {year}\")\n",
    "    print(f\"Permits for 'Miami-Fort Lauderdale-Pompano Beach, FL': {specified_value}\")\n",
    "    print(f\"Number of metros with a higher value: {higher_count}\")\n",
    "    print(f\"Number of metros with a lower value: {lower_count}\\n\")"
   ]
  },
  {
   "cell_type": "markdown",
   "id": "2501ea68",
   "metadata": {},
   "source": [
    "## Plotly Visual"
   ]
  },
  {
   "cell_type": "code",
   "execution_count": 48,
   "id": "c2384179",
   "metadata": {},
   "outputs": [],
   "source": [
    "# Concatenate all DataFrames into one, assuming each has a 'Year' column\n",
    "combined_df = pd.concat(df_list)"
   ]
  },
  {
   "cell_type": "code",
   "execution_count": 50,
   "id": "99cb2f7e",
   "metadata": {},
   "outputs": [
    {
     "data": {
      "application/vnd.plotly.v1+json": {
       "config": {
        "plotlyServerURL": "https://plot.ly"
       },
       "data": [
        {
         "hovertemplate": "<b>%{hovertext}</b><br><br>Name=Abilene, TX                                                 <br>Year=%{x}<br>Total=%{y}<extra></extra>",
         "hovertext": [
          "Abilene, TX                                                 ",
          "Abilene, TX                                                 ",
          "Abilene, TX                                                 ",
          "Abilene, TX                                                 ",
          "Abilene, TX                                                 "
         ],
         "legendgroup": "Abilene, TX                                                 ",
         "marker": {
          "color": "#636efa",
          "symbol": "circle"
         },
         "mode": "markers",
         "name": "Abilene, TX                                                 ",
         "showlegend": true,
         "type": "scattergl",
         "x": [
          2023,
          2022,
          2021,
          2020,
          2019
         ],
         "xaxis": "x",
         "y": [
          456,
          799,
          883,
          663,
          370
         ],
         "yaxis": "y"
        },
        {
         "hovertemplate": "<b>%{hovertext}</b><br><br>Name=Akron, OH                                                   <br>Year=%{x}<br>Total=%{y}<extra></extra>",
         "hovertext": [
          "Akron, OH                                                   ",
          "Akron, OH                                                   ",
          "Akron, OH                                                   ",
          "Akron, OH                                                   ",
          "Akron, OH                                                   "
         ],
         "legendgroup": "Akron, OH                                                   ",
         "marker": {
          "color": "#EF553B",
          "symbol": "circle"
         },
         "mode": "markers",
         "name": "Akron, OH                                                   ",
         "showlegend": true,
         "type": "scattergl",
         "x": [
          2023,
          2022,
          2021,
          2020,
          2019
         ],
         "xaxis": "x",
         "y": [
          985,
          3047,
          1215,
          914,
          945
         ],
         "yaxis": "y"
        },
        {
         "hovertemplate": "<b>%{hovertext}</b><br><br>Name=Albany, GA                                                  <br>Year=%{x}<br>Total=%{y}<extra></extra>",
         "hovertext": [
          "Albany, GA                                                  ",
          "Albany, GA                                                  ",
          "Albany, GA                                                  ",
          "Albany, GA                                                  ",
          "Albany, GA                                                  "
         ],
         "legendgroup": "Albany, GA                                                  ",
         "marker": {
          "color": "#00cc96",
          "symbol": "circle"
         },
         "mode": "markers",
         "name": "Albany, GA                                                  ",
         "showlegend": true,
         "type": "scattergl",
         "x": [
          2023,
          2022,
          2021,
          2020,
          2019
         ],
         "xaxis": "x",
         "y": [
          182,
          202,
          224,
          367,
          402
         ],
         "yaxis": "y"
        },
        {
         "hovertemplate": "<b>%{hovertext}</b><br><br>Name=Albany-Lebanon, OR                                          <br>Year=%{x}<br>Total=%{y}<extra></extra>",
         "hovertext": [
          "Albany-Lebanon, OR                                          ",
          "Albany-Lebanon, OR                                          ",
          "Albany-Lebanon, OR                                          ",
          "Albany-Lebanon, OR                                          ",
          "Albany-Lebanon, OR                                          "
         ],
         "legendgroup": "Albany-Lebanon, OR                                          ",
         "marker": {
          "color": "#ab63fa",
          "symbol": "circle"
         },
         "mode": "markers",
         "name": "Albany-Lebanon, OR                                          ",
         "showlegend": true,
         "type": "scattergl",
         "x": [
          2023,
          2022,
          2021,
          2020,
          2019
         ],
         "xaxis": "x",
         "y": [
          324,
          327,
          620,
          796,
          716
         ],
         "yaxis": "y"
        },
        {
         "hovertemplate": "<b>%{hovertext}</b><br><br>Name=Albany-Schenectady-Troy, NY                                 <br>Year=%{x}<br>Total=%{y}<extra></extra>",
         "hovertext": [
          "Albany-Schenectady-Troy, NY                                 ",
          "Albany-Schenectady-Troy, NY                                 ",
          "Albany-Schenectady-Troy, NY                                 ",
          "Albany-Schenectady-Troy, NY                                 ",
          "Albany-Schenectady-Troy, NY                                 "
         ],
         "legendgroup": "Albany-Schenectady-Troy, NY                                 ",
         "marker": {
          "color": "#FFA15A",
          "symbol": "circle"
         },
         "mode": "markers",
         "name": "Albany-Schenectady-Troy, NY                                 ",
         "showlegend": true,
         "type": "scattergl",
         "x": [
          2023,
          2022,
          2021,
          2020,
          2019
         ],
         "xaxis": "x",
         "y": [
          1952,
          2615,
          2697,
          2046,
          1870
         ],
         "yaxis": "y"
        },
        {
         "hovertemplate": "<b>%{hovertext}</b><br><br>Name=Albuquerque, NM                                             <br>Year=%{x}<br>Total=%{y}<extra></extra>",
         "hovertext": [
          "Albuquerque, NM                                             ",
          "Albuquerque, NM                                             ",
          "Albuquerque, NM                                             ",
          "Albuquerque, NM                                             ",
          "Albuquerque, NM                                             "
         ],
         "legendgroup": "Albuquerque, NM                                             ",
         "marker": {
          "color": "#19d3f3",
          "symbol": "circle"
         },
         "mode": "markers",
         "name": "Albuquerque, NM                                             ",
         "showlegend": true,
         "type": "scattergl",
         "x": [
          2023,
          2022,
          2021,
          2020,
          2019
         ],
         "xaxis": "x",
         "y": [
          2977,
          3057,
          4021,
          2014,
          2148
         ],
         "yaxis": "y"
        },
        {
         "hovertemplate": "<b>%{hovertext}</b><br><br>Name=Alexandria, LA                                              <br>Year=%{x}<br>Total=%{y}<extra></extra>",
         "hovertext": [
          "Alexandria, LA                                              ",
          "Alexandria, LA                                              ",
          "Alexandria, LA                                              ",
          "Alexandria, LA                                              ",
          "Alexandria, LA                                              "
         ],
         "legendgroup": "Alexandria, LA                                              ",
         "marker": {
          "color": "#FF6692",
          "symbol": "circle"
         },
         "mode": "markers",
         "name": "Alexandria, LA                                              ",
         "showlegend": true,
         "type": "scattergl",
         "x": [
          2023,
          2022,
          2021,
          2020,
          2019
         ],
         "xaxis": "x",
         "y": [
          242,
          353,
          289,
          313,
          333
         ],
         "yaxis": "y"
        },
        {
         "hovertemplate": "<b>%{hovertext}</b><br><br>Name=Allentown-Bethlehem-Easton, PA-NJ                           <br>Year=%{x}<br>Total=%{y}<extra></extra>",
         "hovertext": [
          "Allentown-Bethlehem-Easton, PA-NJ                           ",
          "Allentown-Bethlehem-Easton, PA-NJ                           ",
          "Allentown-Bethlehem-Easton, PA-NJ                           ",
          "Allentown-Bethlehem-Easton, PA-NJ                           ",
          "Allentown-Bethlehem-Easton, PA-NJ                           "
         ],
         "legendgroup": "Allentown-Bethlehem-Easton, PA-NJ                           ",
         "marker": {
          "color": "#B6E880",
          "symbol": "circle"
         },
         "mode": "markers",
         "name": "Allentown-Bethlehem-Easton, PA-NJ                           ",
         "showlegend": true,
         "type": "scattergl",
         "x": [
          2023,
          2022,
          2021,
          2020,
          2019
         ],
         "xaxis": "x",
         "y": [
          1772,
          2309,
          2606,
          1688,
          1345
         ],
         "yaxis": "y"
        },
        {
         "hovertemplate": "<b>%{hovertext}</b><br><br>Name=Altoona, PA                                                 <br>Year=%{x}<br>Total=%{y}<extra></extra>",
         "hovertext": [
          "Altoona, PA                                                 ",
          "Altoona, PA                                                 ",
          "Altoona, PA                                                 ",
          "Altoona, PA                                                 ",
          "Altoona, PA                                                 "
         ],
         "legendgroup": "Altoona, PA                                                 ",
         "marker": {
          "color": "#FF97FF",
          "symbol": "circle"
         },
         "mode": "markers",
         "name": "Altoona, PA                                                 ",
         "showlegend": true,
         "type": "scattergl",
         "x": [
          2023,
          2022,
          2021,
          2020,
          2019
         ],
         "xaxis": "x",
         "y": [
          63,
          123,
          94,
          96,
          111
         ],
         "yaxis": "y"
        },
        {
         "hovertemplate": "<b>%{hovertext}</b><br><br>Name=Amarillo, TX                                                <br>Year=%{x}<br>Total=%{y}<extra></extra>",
         "hovertext": [
          "Amarillo, TX                                                ",
          "Amarillo, TX                                                ",
          "Amarillo, TX                                                ",
          "Amarillo, TX                                                ",
          "Amarillo, TX                                                "
         ],
         "legendgroup": "Amarillo, TX                                                ",
         "marker": {
          "color": "#FECB52",
          "symbol": "circle"
         },
         "mode": "markers",
         "name": "Amarillo, TX                                                ",
         "showlegend": true,
         "type": "scattergl",
         "x": [
          2023,
          2022,
          2021,
          2020,
          2019
         ],
         "xaxis": "x",
         "y": [
          681,
          982,
          736,
          1022,
          584
         ],
         "yaxis": "y"
        },
        {
         "hovertemplate": "<b>%{hovertext}</b><br><br>Name=Ames, IA                                                    <br>Year=%{x}<br>Total=%{y}<extra></extra>",
         "hovertext": [
          "Ames, IA                                                    ",
          "Ames, IA                                                    ",
          "Ames, IA                                                    ",
          "Ames, IA                                                    ",
          "Ames, IA                                                    "
         ],
         "legendgroup": "Ames, IA                                                    ",
         "marker": {
          "color": "#636efa",
          "symbol": "circle"
         },
         "mode": "markers",
         "name": "Ames, IA                                                    ",
         "showlegend": true,
         "type": "scattergl",
         "x": [
          2023,
          2022,
          2021,
          2020,
          2019
         ],
         "xaxis": "x",
         "y": [
          239,
          331,
          394,
          270,
          549
         ],
         "yaxis": "y"
        },
        {
         "hovertemplate": "<b>%{hovertext}</b><br><br>Name=Anchorage, AK                                               <br>Year=%{x}<br>Total=%{y}<extra></extra>",
         "hovertext": [
          "Anchorage, AK                                               ",
          "Anchorage, AK                                               ",
          "Anchorage, AK                                               ",
          "Anchorage, AK                                               ",
          "Anchorage, AK                                               "
         ],
         "legendgroup": "Anchorage, AK                                               ",
         "marker": {
          "color": "#EF553B",
          "symbol": "circle"
         },
         "mode": "markers",
         "name": "Anchorage, AK                                               ",
         "showlegend": true,
         "type": "scattergl",
         "x": [
          2023,
          2022,
          2021,
          2020,
          2019
         ],
         "xaxis": "x",
         "y": [
          373,
          213,
          1183,
          1030,
          1163
         ],
         "yaxis": "y"
        },
        {
         "hovertemplate": "<b>%{hovertext}</b><br><br>Name=Ann Arbor, MI                                               <br>Year=%{x}<br>Total=%{y}<extra></extra>",
         "hovertext": [
          "Ann Arbor, MI                                               ",
          "Ann Arbor, MI                                               ",
          "Ann Arbor, MI                                               ",
          "Ann Arbor, MI                                               ",
          "Ann Arbor, MI                                               "
         ],
         "legendgroup": "Ann Arbor, MI                                               ",
         "marker": {
          "color": "#00cc96",
          "symbol": "circle"
         },
         "mode": "markers",
         "name": "Ann Arbor, MI                                               ",
         "showlegend": true,
         "type": "scattergl",
         "x": [
          2023,
          2022,
          2021,
          2020,
          2019
         ],
         "xaxis": "x",
         "y": [
          1303,
          629,
          916,
          1065,
          815
         ],
         "yaxis": "y"
        },
        {
         "hovertemplate": "<b>%{hovertext}</b><br><br>Name=Anniston-Oxford, AL                                         <br>Year=%{x}<br>Total=%{y}<extra></extra>",
         "hovertext": [
          "Anniston-Oxford, AL                                         ",
          "Anniston-Oxford, AL                                         ",
          "Anniston-Oxford, AL                                         ",
          "Anniston-Oxford, AL                                         ",
          "Anniston-Oxford, AL                                         "
         ],
         "legendgroup": "Anniston-Oxford, AL                                         ",
         "marker": {
          "color": "#ab63fa",
          "symbol": "circle"
         },
         "mode": "markers",
         "name": "Anniston-Oxford, AL                                         ",
         "showlegend": true,
         "type": "scattergl",
         "x": [
          2023,
          2022,
          2021,
          2020,
          2019
         ],
         "xaxis": "x",
         "y": [
          57,
          78,
          68,
          102,
          105
         ],
         "yaxis": "y"
        },
        {
         "hovertemplate": "<b>%{hovertext}</b><br><br>Name=Appleton, WI                                                <br>Year=%{x}<br>Total=%{y}<extra></extra>",
         "hovertext": [
          "Appleton, WI                                                ",
          "Appleton, WI                                                ",
          "Appleton, WI                                                ",
          "Appleton, WI                                                ",
          "Appleton, WI                                                "
         ],
         "legendgroup": "Appleton, WI                                                ",
         "marker": {
          "color": "#FFA15A",
          "symbol": "circle"
         },
         "mode": "markers",
         "name": "Appleton, WI                                                ",
         "showlegend": true,
         "type": "scattergl",
         "x": [
          2023,
          2022,
          2021,
          2020,
          2019
         ],
         "xaxis": "x",
         "y": [
          779,
          767,
          1429,
          1311,
          577
         ],
         "yaxis": "y"
        },
        {
         "hovertemplate": "<b>%{hovertext}</b><br><br>Name=Asheville, NC                                               <br>Year=%{x}<br>Total=%{y}<extra></extra>",
         "hovertext": [
          "Asheville, NC                                               ",
          "Asheville, NC                                               ",
          "Asheville, NC                                               ",
          "Asheville, NC                                               ",
          "Asheville, NC                                               "
         ],
         "legendgroup": "Asheville, NC                                               ",
         "marker": {
          "color": "#19d3f3",
          "symbol": "circle"
         },
         "mode": "markers",
         "name": "Asheville, NC                                               ",
         "showlegend": true,
         "type": "scattergl",
         "x": [
          2023,
          2022,
          2021,
          2020,
          2019
         ],
         "xaxis": "x",
         "y": [
          3831,
          3531,
          4238,
          3432,
          3254
         ],
         "yaxis": "y"
        },
        {
         "hovertemplate": "<b>%{hovertext}</b><br><br>Name=Athens-Clarke County, GA                                    <br>Year=%{x}<br>Total=%{y}<extra></extra>",
         "hovertext": [
          "Athens-Clarke County, GA                                    ",
          "Athens-Clarke County, GA                                    ",
          "Athens-Clarke County, GA                                    ",
          "Athens-Clarke County, GA                                    ",
          "Athens-Clarke County, GA                                    "
         ],
         "legendgroup": "Athens-Clarke County, GA                                    ",
         "marker": {
          "color": "#FF6692",
          "symbol": "circle"
         },
         "mode": "markers",
         "name": "Athens-Clarke County, GA                                    ",
         "showlegend": true,
         "type": "scattergl",
         "x": [
          2023,
          2022,
          2021,
          2020,
          2019
         ],
         "xaxis": "x",
         "y": [
          1020,
          2345,
          1848,
          1218,
          1591
         ],
         "yaxis": "y"
        },
        {
         "hovertemplate": "<b>%{hovertext}</b><br><br>Name=Atlanta-Sandy Springs-Alpharetta, GA                        <br>Year=%{x}<br>Total=%{y}<extra></extra>",
         "hovertext": [
          "Atlanta-Sandy Springs-Alpharetta, GA                        ",
          "Atlanta-Sandy Springs-Alpharetta, GA                        ",
          "Atlanta-Sandy Springs-Alpharetta, GA                        ",
          "Atlanta-Sandy Springs-Alpharetta, GA                        ",
          "Atlanta-Sandy Springs-Alpharetta, GA                        "
         ],
         "legendgroup": "Atlanta-Sandy Springs-Alpharetta, GA                        ",
         "marker": {
          "color": "#B6E880",
          "symbol": "circle"
         },
         "mode": "markers",
         "name": "Atlanta-Sandy Springs-Alpharetta, GA                        ",
         "showlegend": true,
         "type": "scattergl",
         "x": [
          2023,
          2022,
          2021,
          2020,
          2019
         ],
         "xaxis": "x",
         "y": [
          38589,
          48107,
          39466,
          32346,
          32836
         ],
         "yaxis": "y"
        },
        {
         "hovertemplate": "<b>%{hovertext}</b><br><br>Name=Atlantic City-Hammonton, NJ                                 <br>Year=%{x}<br>Total=%{y}<extra></extra>",
         "hovertext": [
          "Atlantic City-Hammonton, NJ                                 ",
          "Atlantic City-Hammonton, NJ                                 ",
          "Atlantic City-Hammonton, NJ                                 ",
          "Atlantic City-Hammonton, NJ                                 ",
          "Atlantic City-Hammonton, NJ                                 "
         ],
         "legendgroup": "Atlantic City-Hammonton, NJ                                 ",
         "marker": {
          "color": "#FF97FF",
          "symbol": "circle"
         },
         "mode": "markers",
         "name": "Atlantic City-Hammonton, NJ                                 ",
         "showlegend": true,
         "type": "scattergl",
         "x": [
          2023,
          2022,
          2021,
          2020,
          2019
         ],
         "xaxis": "x",
         "y": [
          406,
          762,
          804,
          667,
          957
         ],
         "yaxis": "y"
        },
        {
         "hovertemplate": "<b>%{hovertext}</b><br><br>Name=Auburn-Opelika, AL                                          <br>Year=%{x}<br>Total=%{y}<extra></extra>",
         "hovertext": [
          "Auburn-Opelika, AL                                          ",
          "Auburn-Opelika, AL                                          ",
          "Auburn-Opelika, AL                                          ",
          "Auburn-Opelika, AL                                          ",
          "Auburn-Opelika, AL                                          "
         ],
         "legendgroup": "Auburn-Opelika, AL                                          ",
         "marker": {
          "color": "#FECB52",
          "symbol": "circle"
         },
         "mode": "markers",
         "name": "Auburn-Opelika, AL                                          ",
         "showlegend": true,
         "type": "scattergl",
         "x": [
          2023,
          2022,
          2021,
          2020,
          2019
         ],
         "xaxis": "x",
         "y": [
          1403,
          2192,
          1851,
          2221,
          2091
         ],
         "yaxis": "y"
        },
        {
         "hovertemplate": "<b>%{hovertext}</b><br><br>Name=Augusta-Richmond County, GA-SC                              <br>Year=%{x}<br>Total=%{y}<extra></extra>",
         "hovertext": [
          "Augusta-Richmond County, GA-SC                              ",
          "Augusta-Richmond County, GA-SC                              ",
          "Augusta-Richmond County, GA-SC                              ",
          "Augusta-Richmond County, GA-SC                              ",
          "Augusta-Richmond County, GA-SC                              "
         ],
         "legendgroup": "Augusta-Richmond County, GA-SC                              ",
         "marker": {
          "color": "#636efa",
          "symbol": "circle"
         },
         "mode": "markers",
         "name": "Augusta-Richmond County, GA-SC                              ",
         "showlegend": true,
         "type": "scattergl",
         "x": [
          2023,
          2022,
          2021,
          2020,
          2019
         ],
         "xaxis": "x",
         "y": [
          3550,
          4190,
          4280,
          3556,
          3201
         ],
         "yaxis": "y"
        },
        {
         "hovertemplate": "<b>%{hovertext}</b><br><br>Name=Austin-Round Rock-Georgetown, TX                            <br>Year=%{x}<br>Total=%{y}<extra></extra>",
         "hovertext": [
          "Austin-Round Rock-Georgetown, TX                            ",
          "Austin-Round Rock-Georgetown, TX                            ",
          "Austin-Round Rock-Georgetown, TX                            ",
          "Austin-Round Rock-Georgetown, TX                            ",
          "Austin-Round Rock-Georgetown, TX                            "
         ],
         "legendgroup": "Austin-Round Rock-Georgetown, TX                            ",
         "marker": {
          "color": "#EF553B",
          "symbol": "circle"
         },
         "mode": "markers",
         "name": "Austin-Round Rock-Georgetown, TX                            ",
         "showlegend": true,
         "type": "scattergl",
         "x": [
          2023,
          2022,
          2021,
          2020,
          2019
         ],
         "xaxis": "x",
         "y": [
          38599,
          42364,
          50907,
          42264,
          32037
         ],
         "yaxis": "y"
        },
        {
         "hovertemplate": "<b>%{hovertext}</b><br><br>Name=Bakersfield, CA                                             <br>Year=%{x}<br>Total=%{y}<extra></extra>",
         "hovertext": [
          "Bakersfield, CA                                             ",
          "Bakersfield, CA                                             ",
          "Bakersfield, CA                                             ",
          "Bakersfield, CA                                             ",
          "Bakersfield, CA                                             "
         ],
         "legendgroup": "Bakersfield, CA                                             ",
         "marker": {
          "color": "#00cc96",
          "symbol": "circle"
         },
         "mode": "markers",
         "name": "Bakersfield, CA                                             ",
         "showlegend": true,
         "type": "scattergl",
         "x": [
          2023,
          2022,
          2021,
          2020,
          2019
         ],
         "xaxis": "x",
         "y": [
          2462,
          2688,
          2293,
          2502,
          2261
         ],
         "yaxis": "y"
        },
        {
         "hovertemplate": "<b>%{hovertext}</b><br><br>Name=Baltimore-Columbia-Towson, MD                               <br>Year=%{x}<br>Total=%{y}<extra></extra>",
         "hovertext": [
          "Baltimore-Columbia-Towson, MD                               ",
          "Baltimore-Columbia-Towson, MD                               ",
          "Baltimore-Columbia-Towson, MD                               ",
          "Baltimore-Columbia-Towson, MD                               ",
          "Baltimore-Columbia-Towson, MD                               "
         ],
         "legendgroup": "Baltimore-Columbia-Towson, MD                               ",
         "marker": {
          "color": "#ab63fa",
          "symbol": "circle"
         },
         "mode": "markers",
         "name": "Baltimore-Columbia-Towson, MD                               ",
         "showlegend": true,
         "type": "scattergl",
         "x": [
          2023,
          2022,
          2021,
          2020,
          2019
         ],
         "xaxis": "x",
         "y": [
          7236,
          6588,
          7834,
          8094,
          6967
         ],
         "yaxis": "y"
        },
        {
         "hovertemplate": "<b>%{hovertext}</b><br><br>Name=Bangor, ME                                                  <br>Year=%{x}<br>Total=%{y}<extra></extra>",
         "hovertext": [
          "Bangor, ME                                                  ",
          "Bangor, ME                                                  ",
          "Bangor, ME                                                  ",
          "Bangor, ME                                                  ",
          "Bangor, ME                                                  "
         ],
         "legendgroup": "Bangor, ME                                                  ",
         "marker": {
          "color": "#FFA15A",
          "symbol": "circle"
         },
         "mode": "markers",
         "name": "Bangor, ME                                                  ",
         "showlegend": true,
         "type": "scattergl",
         "x": [
          2023,
          2022,
          2021,
          2020,
          2019
         ],
         "xaxis": "x",
         "y": [
          303,
          430,
          368,
          337,
          266
         ],
         "yaxis": "y"
        },
        {
         "hovertemplate": "<b>%{hovertext}</b><br><br>Name=Barnstable Town, MA                                         <br>Year=%{x}<br>Total=%{y}<extra></extra>",
         "hovertext": [
          "Barnstable Town, MA                                         ",
          "Barnstable Town, MA                                         ",
          "Barnstable Town, MA                                         ",
          "Barnstable Town, MA                                         ",
          "Barnstable Town, MA                                         "
         ],
         "legendgroup": "Barnstable Town, MA                                         ",
         "marker": {
          "color": "#19d3f3",
          "symbol": "circle"
         },
         "mode": "markers",
         "name": "Barnstable Town, MA                                         ",
         "showlegend": true,
         "type": "scattergl",
         "x": [
          2023,
          2022,
          2021,
          2020,
          2019
         ],
         "xaxis": "x",
         "y": [
          528,
          887,
          672,
          592,
          513
         ],
         "yaxis": "y"
        },
        {
         "hovertemplate": "<b>%{hovertext}</b><br><br>Name=Baton Rouge, LA                                             <br>Year=%{x}<br>Total=%{y}<extra></extra>",
         "hovertext": [
          "Baton Rouge, LA                                             ",
          "Baton Rouge, LA                                             ",
          "Baton Rouge, LA                                             ",
          "Baton Rouge, LA                                             ",
          "Baton Rouge, LA                                             "
         ],
         "legendgroup": "Baton Rouge, LA                                             ",
         "marker": {
          "color": "#FF6692",
          "symbol": "circle"
         },
         "mode": "markers",
         "name": "Baton Rouge, LA                                             ",
         "showlegend": true,
         "type": "scattergl",
         "x": [
          2023,
          2022,
          2021,
          2020,
          2019
         ],
         "xaxis": "x",
         "y": [
          3272,
          3773,
          4460,
          3780,
          3622
         ],
         "yaxis": "y"
        },
        {
         "hovertemplate": "<b>%{hovertext}</b><br><br>Name=Battle Creek, MI                                            <br>Year=%{x}<br>Total=%{y}<extra></extra>",
         "hovertext": [
          "Battle Creek, MI                                            ",
          "Battle Creek, MI                                            ",
          "Battle Creek, MI                                            ",
          "Battle Creek, MI                                            ",
          "Battle Creek, MI                                            "
         ],
         "legendgroup": "Battle Creek, MI                                            ",
         "marker": {
          "color": "#B6E880",
          "symbol": "circle"
         },
         "mode": "markers",
         "name": "Battle Creek, MI                                            ",
         "showlegend": true,
         "type": "scattergl",
         "x": [
          2023,
          2022,
          2021,
          2020,
          2019
         ],
         "xaxis": "x",
         "y": [
          78,
          95,
          108,
          90,
          56
         ],
         "yaxis": "y"
        },
        {
         "hovertemplate": "<b>%{hovertext}</b><br><br>Name=Bay City, MI                                                <br>Year=%{x}<br>Total=%{y}<extra></extra>",
         "hovertext": [
          "Bay City, MI                                                ",
          "Bay City, MI                                                ",
          "Bay City, MI                                                ",
          "Bay City, MI                                                ",
          "Bay City, MI                                                "
         ],
         "legendgroup": "Bay City, MI                                                ",
         "marker": {
          "color": "#FF97FF",
          "symbol": "circle"
         },
         "mode": "markers",
         "name": "Bay City, MI                                                ",
         "showlegend": true,
         "type": "scattergl",
         "x": [
          2023,
          2022,
          2021,
          2020,
          2019
         ],
         "xaxis": "x",
         "y": [
          42,
          67,
          74,
          135,
          83
         ],
         "yaxis": "y"
        },
        {
         "hovertemplate": "<b>%{hovertext}</b><br><br>Name=Beaumont-Port Arthur, TX                                    <br>Year=%{x}<br>Total=%{y}<extra></extra>",
         "hovertext": [
          "Beaumont-Port Arthur, TX                                    ",
          "Beaumont-Port Arthur, TX                                    ",
          "Beaumont-Port Arthur, TX                                    ",
          "Beaumont-Port Arthur, TX                                    ",
          "Beaumont-Port Arthur, TX                                    "
         ],
         "legendgroup": "Beaumont-Port Arthur, TX                                    ",
         "marker": {
          "color": "#FECB52",
          "symbol": "circle"
         },
         "mode": "markers",
         "name": "Beaumont-Port Arthur, TX                                    ",
         "showlegend": true,
         "type": "scattergl",
         "x": [
          2023,
          2022,
          2021,
          2020,
          2019
         ],
         "xaxis": "x",
         "y": [
          1054,
          1368,
          1585,
          1753,
          1363
         ],
         "yaxis": "y"
        },
        {
         "hovertemplate": "<b>%{hovertext}</b><br><br>Name=Beckley, WV                                                 <br>Year=%{x}<br>Total=%{y}<extra></extra>",
         "hovertext": [
          "Beckley, WV                                                 ",
          "Beckley, WV                                                 ",
          "Beckley, WV                                                 ",
          "Beckley, WV                                                 ",
          "Beckley, WV                                                 "
         ],
         "legendgroup": "Beckley, WV                                                 ",
         "marker": {
          "color": "#636efa",
          "symbol": "circle"
         },
         "mode": "markers",
         "name": "Beckley, WV                                                 ",
         "showlegend": true,
         "type": "scattergl",
         "x": [
          2023,
          2022,
          2021,
          2020,
          2019
         ],
         "xaxis": "x",
         "y": [
          94,
          104,
          103,
          75,
          77
         ],
         "yaxis": "y"
        },
        {
         "hovertemplate": "<b>%{hovertext}</b><br><br>Name=Bellingham, WA                                              <br>Year=%{x}<br>Total=%{y}<extra></extra>",
         "hovertext": [
          "Bellingham, WA                                              ",
          "Bellingham, WA                                              ",
          "Bellingham, WA                                              ",
          "Bellingham, WA                                              ",
          "Bellingham, WA                                              "
         ],
         "legendgroup": "Bellingham, WA                                              ",
         "marker": {
          "color": "#EF553B",
          "symbol": "circle"
         },
         "mode": "markers",
         "name": "Bellingham, WA                                              ",
         "showlegend": true,
         "type": "scattergl",
         "x": [
          2023,
          2022,
          2021,
          2020,
          2019
         ],
         "xaxis": "x",
         "y": [
          905,
          1614,
          1871,
          1382,
          1821
         ],
         "yaxis": "y"
        },
        {
         "hovertemplate": "<b>%{hovertext}</b><br><br>Name=Bend, OR                                                    <br>Year=%{x}<br>Total=%{y}<extra></extra>",
         "hovertext": [
          "Bend, OR                                                    ",
          "Bend, OR                                                    ",
          "Bend, OR                                                    ",
          "Bend, OR                                                    ",
          "Bend, OR                                                    "
         ],
         "legendgroup": "Bend, OR                                                    ",
         "marker": {
          "color": "#00cc96",
          "symbol": "circle"
         },
         "mode": "markers",
         "name": "Bend, OR                                                    ",
         "showlegend": true,
         "type": "scattergl",
         "x": [
          2023,
          2022,
          2021,
          2020,
          2019
         ],
         "xaxis": "x",
         "y": [
          2397,
          2113,
          2737,
          2338,
          2028
         ],
         "yaxis": "y"
        },
        {
         "hovertemplate": "<b>%{hovertext}</b><br><br>Name=Billings, MT                                                <br>Year=%{x}<br>Total=%{y}<extra></extra>",
         "hovertext": [
          "Billings, MT                                                ",
          "Billings, MT                                                ",
          "Billings, MT                                                ",
          "Billings, MT                                                ",
          "Billings, MT                                                "
         ],
         "legendgroup": "Billings, MT                                                ",
         "marker": {
          "color": "#ab63fa",
          "symbol": "circle"
         },
         "mode": "markers",
         "name": "Billings, MT                                                ",
         "showlegend": true,
         "type": "scattergl",
         "x": [
          2023,
          2022,
          2021,
          2020,
          2019
         ],
         "xaxis": "x",
         "y": [
          351,
          1202,
          979,
          1435,
          1154
         ],
         "yaxis": "y"
        },
        {
         "hovertemplate": "<b>%{hovertext}</b><br><br>Name=Binghamton, NY                                              <br>Year=%{x}<br>Total=%{y}<extra></extra>",
         "hovertext": [
          "Binghamton, NY                                              ",
          "Binghamton, NY                                              ",
          "Binghamton, NY                                              ",
          "Binghamton, NY                                              ",
          "Binghamton, NY                                              "
         ],
         "legendgroup": "Binghamton, NY                                              ",
         "marker": {
          "color": "#FFA15A",
          "symbol": "circle"
         },
         "mode": "markers",
         "name": "Binghamton, NY                                              ",
         "showlegend": true,
         "type": "scattergl",
         "x": [
          2023,
          2022,
          2021,
          2020,
          2019
         ],
         "xaxis": "x",
         "y": [
          336,
          452,
          499,
          446,
          351
         ],
         "yaxis": "y"
        },
        {
         "hovertemplate": "<b>%{hovertext}</b><br><br>Name=Birmingham-Hoover, AL                                       <br>Year=%{x}<br>Total=%{y}<extra></extra>",
         "hovertext": [
          "Birmingham-Hoover, AL                                       ",
          "Birmingham-Hoover, AL                                       ",
          "Birmingham-Hoover, AL                                       ",
          "Birmingham-Hoover, AL                                       ",
          "Birmingham-Hoover, AL                                       "
         ],
         "legendgroup": "Birmingham-Hoover, AL                                       ",
         "marker": {
          "color": "#19d3f3",
          "symbol": "circle"
         },
         "mode": "markers",
         "name": "Birmingham-Hoover, AL                                       ",
         "showlegend": true,
         "type": "scattergl",
         "x": [
          2023,
          2022,
          2021,
          2020,
          2019
         ],
         "xaxis": "x",
         "y": [
          3287,
          4147,
          3984,
          3845,
          3202
         ],
         "yaxis": "y"
        },
        {
         "hovertemplate": "<b>%{hovertext}</b><br><br>Name=Bismarck, ND                                                <br>Year=%{x}<br>Total=%{y}<extra></extra>",
         "hovertext": [
          "Bismarck, ND                                                ",
          "Bismarck, ND                                                ",
          "Bismarck, ND                                                ",
          "Bismarck, ND                                                ",
          "Bismarck, ND                                                "
         ],
         "legendgroup": "Bismarck, ND                                                ",
         "marker": {
          "color": "#FF6692",
          "symbol": "circle"
         },
         "mode": "markers",
         "name": "Bismarck, ND                                                ",
         "showlegend": true,
         "type": "scattergl",
         "x": [
          2023,
          2022,
          2021,
          2020,
          2019
         ],
         "xaxis": "x",
         "y": [
          291,
          610,
          792,
          715,
          631
         ],
         "yaxis": "y"
        },
        {
         "hovertemplate": "<b>%{hovertext}</b><br><br>Name=Blacksburg-Christiansburg, VA                               <br>Year=%{x}<br>Total=%{y}<extra></extra>",
         "hovertext": [
          "Blacksburg-Christiansburg, VA                               ",
          "Blacksburg-Christiansburg, VA                               ",
          "Blacksburg-Christiansburg, VA                               ",
          "Blacksburg-Christiansburg, VA                               ",
          "Blacksburg-Christiansburg, VA                               "
         ],
         "legendgroup": "Blacksburg-Christiansburg, VA                               ",
         "marker": {
          "color": "#B6E880",
          "symbol": "circle"
         },
         "mode": "markers",
         "name": "Blacksburg-Christiansburg, VA                               ",
         "showlegend": true,
         "type": "scattergl",
         "x": [
          2023,
          2022,
          2021,
          2020,
          2019
         ],
         "xaxis": "x",
         "y": [
          490,
          500,
          386,
          1748,
          632
         ],
         "yaxis": "y"
        },
        {
         "hovertemplate": "<b>%{hovertext}</b><br><br>Name=Bloomington, IL                                             <br>Year=%{x}<br>Total=%{y}<extra></extra>",
         "hovertext": [
          "Bloomington, IL                                             ",
          "Bloomington, IL                                             ",
          "Bloomington, IL                                             ",
          "Bloomington, IL                                             ",
          "Bloomington, IL                                             "
         ],
         "legendgroup": "Bloomington, IL                                             ",
         "marker": {
          "color": "#FF97FF",
          "symbol": "circle"
         },
         "mode": "markers",
         "name": "Bloomington, IL                                             ",
         "showlegend": true,
         "type": "scattergl",
         "x": [
          2023,
          2022,
          2021,
          2020,
          2019
         ],
         "xaxis": "x",
         "y": [
          244,
          437,
          283,
          265,
          192
         ],
         "yaxis": "y"
        },
        {
         "hovertemplate": "<b>%{hovertext}</b><br><br>Name=Bloomington, IN                                             <br>Year=%{x}<br>Total=%{y}<extra></extra>",
         "hovertext": [
          "Bloomington, IN                                             ",
          "Bloomington, IN                                             ",
          "Bloomington, IN                                             ",
          "Bloomington, IN                                             ",
          "Bloomington, IN                                             "
         ],
         "legendgroup": "Bloomington, IN                                             ",
         "marker": {
          "color": "#FECB52",
          "symbol": "circle"
         },
         "mode": "markers",
         "name": "Bloomington, IN                                             ",
         "showlegend": true,
         "type": "scattergl",
         "x": [
          2023,
          2022,
          2021,
          2020,
          2019
         ],
         "xaxis": "x",
         "y": [
          569,
          552,
          2086,
          650,
          762
         ],
         "yaxis": "y"
        },
        {
         "hovertemplate": "<b>%{hovertext}</b><br><br>Name=Bloomsburg-Berwick, PA                                      <br>Year=%{x}<br>Total=%{y}<extra></extra>",
         "hovertext": [
          "Bloomsburg-Berwick, PA                                      ",
          "Bloomsburg-Berwick, PA                                      ",
          "Bloomsburg-Berwick, PA                                      ",
          "Bloomsburg-Berwick, PA                                      ",
          "Bloomsburg-Berwick, PA                                      "
         ],
         "legendgroup": "Bloomsburg-Berwick, PA                                      ",
         "marker": {
          "color": "#636efa",
          "symbol": "circle"
         },
         "mode": "markers",
         "name": "Bloomsburg-Berwick, PA                                      ",
         "showlegend": true,
         "type": "scattergl",
         "x": [
          2023,
          2022,
          2021,
          2020,
          2019
         ],
         "xaxis": "x",
         "y": [
          113,
          135,
          159,
          90,
          111
         ],
         "yaxis": "y"
        },
        {
         "hovertemplate": "<b>%{hovertext}</b><br><br>Name=Boise City, ID                                              <br>Year=%{x}<br>Total=%{y}<extra></extra>",
         "hovertext": [
          "Boise City, ID                                              ",
          "Boise City, ID                                              ",
          "Boise City, ID                                              ",
          "Boise City, ID                                              ",
          "Boise City, ID                                              "
         ],
         "legendgroup": "Boise City, ID                                              ",
         "marker": {
          "color": "#EF553B",
          "symbol": "circle"
         },
         "mode": "markers",
         "name": "Boise City, ID                                              ",
         "showlegend": true,
         "type": "scattergl",
         "x": [
          2023,
          2022,
          2021,
          2020,
          2019
         ],
         "xaxis": "x",
         "y": [
          9882,
          10475,
          12196,
          9762,
          10632
         ],
         "yaxis": "y"
        },
        {
         "hovertemplate": "<b>%{hovertext}</b><br><br>Name=Boston-Cambridge-Newton, MA-NH                              <br>Year=%{x}<br>Total=%{y}<extra></extra>",
         "hovertext": [
          "Boston-Cambridge-Newton, MA-NH                              ",
          "Boston-Cambridge-Newton, MA-NH                              ",
          "Boston-Cambridge-Newton, MA-NH                              ",
          "Boston-Cambridge-Newton, MA-NH                              ",
          "Boston-Cambridge-Newton, MA-NH                              "
         ],
         "legendgroup": "Boston-Cambridge-Newton, MA-NH                              ",
         "marker": {
          "color": "#00cc96",
          "symbol": "circle"
         },
         "mode": "markers",
         "name": "Boston-Cambridge-Newton, MA-NH                              ",
         "showlegend": true,
         "type": "scattergl",
         "x": [
          2023,
          2022,
          2021,
          2020,
          2019
         ],
         "xaxis": "x",
         "y": [
          10580,
          14454,
          16602,
          14248,
          15088
         ],
         "yaxis": "y"
        },
        {
         "hovertemplate": "<b>%{hovertext}</b><br><br>Name=Boulder, CO                                                 <br>Year=%{x}<br>Total=%{y}<extra></extra>",
         "hovertext": [
          "Boulder, CO                                                 ",
          "Boulder, CO                                                 ",
          "Boulder, CO                                                 ",
          "Boulder, CO                                                 ",
          "Boulder, CO                                                 "
         ],
         "legendgroup": "Boulder, CO                                                 ",
         "marker": {
          "color": "#ab63fa",
          "symbol": "circle"
         },
         "mode": "markers",
         "name": "Boulder, CO                                                 ",
         "showlegend": true,
         "type": "scattergl",
         "x": [
          2023,
          2022,
          2021,
          2020,
          2019
         ],
         "xaxis": "x",
         "y": [
          1646,
          1642,
          1237,
          1634,
          1650
         ],
         "yaxis": "y"
        },
        {
         "hovertemplate": "<b>%{hovertext}</b><br><br>Name=Bowling Green, KY                                           <br>Year=%{x}<br>Total=%{y}<extra></extra>",
         "hovertext": [
          "Bowling Green, KY                                           ",
          "Bowling Green, KY                                           ",
          "Bowling Green, KY                                           ",
          "Bowling Green, KY                                           ",
          "Bowling Green, KY                                           "
         ],
         "legendgroup": "Bowling Green, KY                                           ",
         "marker": {
          "color": "#FFA15A",
          "symbol": "circle"
         },
         "mode": "markers",
         "name": "Bowling Green, KY                                           ",
         "showlegend": true,
         "type": "scattergl",
         "x": [
          2023,
          2022,
          2021,
          2020,
          2019
         ],
         "xaxis": "x",
         "y": [
          1448,
          1636,
          2137,
          978,
          762
         ],
         "yaxis": "y"
        },
        {
         "hovertemplate": "<b>%{hovertext}</b><br><br>Name=Bremerton-Silverdale-Port Orchard, WA                       <br>Year=%{x}<br>Total=%{y}<extra></extra>",
         "hovertext": [
          "Bremerton-Silverdale-Port Orchard, WA                       ",
          "Bremerton-Silverdale-Port Orchard, WA                       ",
          "Bremerton-Silverdale-Port Orchard, WA                       ",
          "Bremerton-Silverdale-Port Orchard, WA                       ",
          "Bremerton-Silverdale-Port Orchard, WA                       "
         ],
         "legendgroup": "Bremerton-Silverdale-Port Orchard, WA                       ",
         "marker": {
          "color": "#19d3f3",
          "symbol": "circle"
         },
         "mode": "markers",
         "name": "Bremerton-Silverdale-Port Orchard, WA                       ",
         "showlegend": true,
         "type": "scattergl",
         "x": [
          2023,
          2022,
          2021,
          2020,
          2019
         ],
         "xaxis": "x",
         "y": [
          2258,
          1701,
          2285,
          1285,
          1117
         ],
         "yaxis": "y"
        },
        {
         "hovertemplate": "<b>%{hovertext}</b><br><br>Name=Bridgeport-Stamford-Norwalk, CT                             <br>Year=%{x}<br>Total=%{y}<extra></extra>",
         "hovertext": [
          "Bridgeport-Stamford-Norwalk, CT                             ",
          "Bridgeport-Stamford-Norwalk, CT                             ",
          "Bridgeport-Stamford-Norwalk, CT                             ",
          "Bridgeport-Stamford-Norwalk, CT                             ",
          "Bridgeport-Stamford-Norwalk, CT                             "
         ],
         "legendgroup": "Bridgeport-Stamford-Norwalk, CT                             ",
         "marker": {
          "color": "#FF6692",
          "symbol": "circle"
         },
         "mode": "markers",
         "name": "Bridgeport-Stamford-Norwalk, CT                             ",
         "showlegend": true,
         "type": "scattergl",
         "x": [
          2023,
          2022,
          2021,
          2020,
          2019
         ],
         "xaxis": "x",
         "y": [
          1506,
          1668,
          1292,
          1862,
          2326
         ],
         "yaxis": "y"
        },
        {
         "hovertemplate": "<b>%{hovertext}</b><br><br>Name=Brownsville-Harlingen, TX                                   <br>Year=%{x}<br>Total=%{y}<extra></extra>",
         "hovertext": [
          "Brownsville-Harlingen, TX                                   ",
          "Brownsville-Harlingen, TX                                   ",
          "Brownsville-Harlingen, TX                                   ",
          "Brownsville-Harlingen, TX                                   ",
          "Brownsville-Harlingen, TX                                   "
         ],
         "legendgroup": "Brownsville-Harlingen, TX                                   ",
         "marker": {
          "color": "#B6E880",
          "symbol": "circle"
         },
         "mode": "markers",
         "name": "Brownsville-Harlingen, TX                                   ",
         "showlegend": true,
         "type": "scattergl",
         "x": [
          2023,
          2022,
          2021,
          2020,
          2019
         ],
         "xaxis": "x",
         "y": [
          1958,
          2509,
          2052,
          1904,
          1817
         ],
         "yaxis": "y"
        },
        {
         "hovertemplate": "<b>%{hovertext}</b><br><br>Name=Brunswick, GA                                               <br>Year=%{x}<br>Total=%{y}<extra></extra>",
         "hovertext": [
          "Brunswick, GA                                               ",
          "Brunswick, GA                                               ",
          "Brunswick, GA                                               ",
          "Brunswick, GA                                               ",
          "Brunswick, GA                                               "
         ],
         "legendgroup": "Brunswick, GA                                               ",
         "marker": {
          "color": "#FF97FF",
          "symbol": "circle"
         },
         "mode": "markers",
         "name": "Brunswick, GA                                               ",
         "showlegend": true,
         "type": "scattergl",
         "x": [
          2023,
          2022,
          2021,
          2020,
          2019
         ],
         "xaxis": "x",
         "y": [
          785,
          1568,
          723,
          542,
          460
         ],
         "yaxis": "y"
        },
        {
         "hovertemplate": "<b>%{hovertext}</b><br><br>Name=Buffalo-Cheektowaga, NY                                     <br>Year=%{x}<br>Total=%{y}<extra></extra>",
         "hovertext": [
          "Buffalo-Cheektowaga, NY                                     ",
          "Buffalo-Cheektowaga, NY                                     ",
          "Buffalo-Cheektowaga, NY                                     ",
          "Buffalo-Cheektowaga, NY                                     ",
          "Buffalo-Cheektowaga, NY                                     "
         ],
         "legendgroup": "Buffalo-Cheektowaga, NY                                     ",
         "marker": {
          "color": "#FECB52",
          "symbol": "circle"
         },
         "mode": "markers",
         "name": "Buffalo-Cheektowaga, NY                                     ",
         "showlegend": true,
         "type": "scattergl",
         "x": [
          2023,
          2022,
          2021,
          2020,
          2019
         ],
         "xaxis": "x",
         "y": [
          1292,
          1597,
          1553,
          1444,
          1693
         ],
         "yaxis": "y"
        },
        {
         "hovertemplate": "<b>%{hovertext}</b><br><br>Name=Burlington, NC                                              <br>Year=%{x}<br>Total=%{y}<extra></extra>",
         "hovertext": [
          "Burlington, NC                                              ",
          "Burlington, NC                                              ",
          "Burlington, NC                                              ",
          "Burlington, NC                                              ",
          "Burlington, NC                                              "
         ],
         "legendgroup": "Burlington, NC                                              ",
         "marker": {
          "color": "#636efa",
          "symbol": "circle"
         },
         "mode": "markers",
         "name": "Burlington, NC                                              ",
         "showlegend": true,
         "type": "scattergl",
         "x": [
          2023,
          2022,
          2021,
          2020,
          2019
         ],
         "xaxis": "x",
         "y": [
          2730,
          1949,
          2294,
          1784,
          1407
         ],
         "yaxis": "y"
        },
        {
         "hovertemplate": "<b>%{hovertext}</b><br><br>Name=Burlington-South Burlington, VT                             <br>Year=%{x}<br>Total=%{y}<extra></extra>",
         "hovertext": [
          "Burlington-South Burlington, VT                             ",
          "Burlington-South Burlington, VT                             ",
          "Burlington-South Burlington, VT                             ",
          "Burlington-South Burlington, VT                             ",
          "Burlington-South Burlington, VT                             "
         ],
         "legendgroup": "Burlington-South Burlington, VT                             ",
         "marker": {
          "color": "#EF553B",
          "symbol": "circle"
         },
         "mode": "markers",
         "name": "Burlington-South Burlington, VT                             ",
         "showlegend": true,
         "type": "scattergl",
         "x": [
          2023,
          2022,
          2021,
          2020,
          2019
         ],
         "xaxis": "x",
         "y": [
          1187,
          1022,
          1049,
          1103,
          867
         ],
         "yaxis": "y"
        },
        {
         "hovertemplate": "<b>%{hovertext}</b><br><br>Name=California-Lexington Park, MD                               <br>Year=%{x}<br>Total=%{y}<extra></extra>",
         "hovertext": [
          "California-Lexington Park, MD                               ",
          "California-Lexington Park, MD                               ",
          "California-Lexington Park, MD                               ",
          "California-Lexington Park, MD                               ",
          "California-Lexington Park, MD                               "
         ],
         "legendgroup": "California-Lexington Park, MD                               ",
         "marker": {
          "color": "#00cc96",
          "symbol": "circle"
         },
         "mode": "markers",
         "name": "California-Lexington Park, MD                               ",
         "showlegend": true,
         "type": "scattergl",
         "x": [
          2023,
          2022,
          2021,
          2020,
          2019
         ],
         "xaxis": "x",
         "y": [
          386,
          238,
          359,
          555,
          689
         ],
         "yaxis": "y"
        },
        {
         "hovertemplate": "<b>%{hovertext}</b><br><br>Name=Canton-Massillon, OH                                        <br>Year=%{x}<br>Total=%{y}<extra></extra>",
         "hovertext": [
          "Canton-Massillon, OH                                        ",
          "Canton-Massillon, OH                                        ",
          "Canton-Massillon, OH                                        ",
          "Canton-Massillon, OH                                        ",
          "Canton-Massillon, OH                                        "
         ],
         "legendgroup": "Canton-Massillon, OH                                        ",
         "marker": {
          "color": "#ab63fa",
          "symbol": "circle"
         },
         "mode": "markers",
         "name": "Canton-Massillon, OH                                        ",
         "showlegend": true,
         "type": "scattergl",
         "x": [
          2023,
          2022,
          2021,
          2020,
          2019
         ],
         "xaxis": "x",
         "y": [
          509,
          810,
          953,
          690,
          624
         ],
         "yaxis": "y"
        },
        {
         "hovertemplate": "<b>%{hovertext}</b><br><br>Name=Cape Coral-Fort Myers, FL                                   <br>Year=%{x}<br>Total=%{y}<extra></extra>",
         "hovertext": [
          "Cape Coral-Fort Myers, FL                                   ",
          "Cape Coral-Fort Myers, FL                                   ",
          "Cape Coral-Fort Myers, FL                                   ",
          "Cape Coral-Fort Myers, FL                                   ",
          "Cape Coral-Fort Myers, FL                                   "
         ],
         "legendgroup": "Cape Coral-Fort Myers, FL                                   ",
         "marker": {
          "color": "#FFA15A",
          "symbol": "circle"
         },
         "mode": "markers",
         "name": "Cape Coral-Fort Myers, FL                                   ",
         "showlegend": true,
         "type": "scattergl",
         "x": [
          2023,
          2022,
          2021,
          2020,
          2019
         ],
         "xaxis": "x",
         "y": [
          13556,
          13621,
          13394,
          10673,
          9105
         ],
         "yaxis": "y"
        },
        {
         "hovertemplate": "<b>%{hovertext}</b><br><br>Name=Cape Girardeau, MO-IL                                       <br>Year=%{x}<br>Total=%{y}<extra></extra>",
         "hovertext": [
          "Cape Girardeau, MO-IL                                       ",
          "Cape Girardeau, MO-IL                                       ",
          "Cape Girardeau, MO-IL                                       ",
          "Cape Girardeau, MO-IL                                       ",
          "Cape Girardeau, MO-IL                                       "
         ],
         "legendgroup": "Cape Girardeau, MO-IL                                       ",
         "marker": {
          "color": "#19d3f3",
          "symbol": "circle"
         },
         "mode": "markers",
         "name": "Cape Girardeau, MO-IL                                       ",
         "showlegend": true,
         "type": "scattergl",
         "x": [
          2023,
          2022,
          2021,
          2020,
          2019
         ],
         "xaxis": "x",
         "y": [
          78,
          148,
          177,
          141,
          795
         ],
         "yaxis": "y"
        },
        {
         "hovertemplate": "<b>%{hovertext}</b><br><br>Name=Carbondale-Marion, IL                                       <br>Year=%{x}<br>Total=%{y}<extra></extra>",
         "hovertext": [
          "Carbondale-Marion, IL                                       ",
          "Carbondale-Marion, IL                                       ",
          "Carbondale-Marion, IL                                       ",
          "Carbondale-Marion, IL                                       ",
          "Carbondale-Marion, IL                                       "
         ],
         "legendgroup": "Carbondale-Marion, IL                                       ",
         "marker": {
          "color": "#FF6692",
          "symbol": "circle"
         },
         "mode": "markers",
         "name": "Carbondale-Marion, IL                                       ",
         "showlegend": true,
         "type": "scattergl",
         "x": [
          2023,
          2022,
          2021,
          2020,
          2019
         ],
         "xaxis": "x",
         "y": [
          129,
          150,
          99,
          183,
          182
         ],
         "yaxis": "y"
        },
        {
         "hovertemplate": "<b>%{hovertext}</b><br><br>Name=Carson City, NV                                             <br>Year=%{x}<br>Total=%{y}<extra></extra>",
         "hovertext": [
          "Carson City, NV                                             ",
          "Carson City, NV                                             ",
          "Carson City, NV                                             ",
          "Carson City, NV                                             ",
          "Carson City, NV                                             "
         ],
         "legendgroup": "Carson City, NV                                             ",
         "marker": {
          "color": "#B6E880",
          "symbol": "circle"
         },
         "mode": "markers",
         "name": "Carson City, NV                                             ",
         "showlegend": true,
         "type": "scattergl",
         "x": [
          2023,
          2022,
          2021,
          2020,
          2019
         ],
         "xaxis": "x",
         "y": [
          242,
          272,
          307,
          263,
          248
         ],
         "yaxis": "y"
        },
        {
         "hovertemplate": "<b>%{hovertext}</b><br><br>Name=Casper, WY                                                  <br>Year=%{x}<br>Total=%{y}<extra></extra>",
         "hovertext": [
          "Casper, WY                                                  ",
          "Casper, WY                                                  ",
          "Casper, WY                                                  ",
          "Casper, WY                                                  ",
          "Casper, WY                                                  "
         ],
         "legendgroup": "Casper, WY                                                  ",
         "marker": {
          "color": "#FF97FF",
          "symbol": "circle"
         },
         "mode": "markers",
         "name": "Casper, WY                                                  ",
         "showlegend": true,
         "type": "scattergl",
         "x": [
          2023,
          2022,
          2021,
          2020,
          2019
         ],
         "xaxis": "x",
         "y": [
          129,
          207,
          275,
          208,
          177
         ],
         "yaxis": "y"
        },
        {
         "hovertemplate": "<b>%{hovertext}</b><br><br>Name=Cedar Rapids, IA                                            <br>Year=%{x}<br>Total=%{y}<extra></extra>",
         "hovertext": [
          "Cedar Rapids, IA                                            ",
          "Cedar Rapids, IA                                            ",
          "Cedar Rapids, IA                                            ",
          "Cedar Rapids, IA                                            ",
          "Cedar Rapids, IA                                            "
         ],
         "legendgroup": "Cedar Rapids, IA                                            ",
         "marker": {
          "color": "#FECB52",
          "symbol": "circle"
         },
         "mode": "markers",
         "name": "Cedar Rapids, IA                                            ",
         "showlegend": true,
         "type": "scattergl",
         "x": [
          2023,
          2022,
          2021,
          2020,
          2019
         ],
         "xaxis": "x",
         "y": [
          753,
          947,
          898,
          644,
          814
         ],
         "yaxis": "y"
        },
        {
         "hovertemplate": "<b>%{hovertext}</b><br><br>Name=Chambersburg-Waynesboro, PA                                 <br>Year=%{x}<br>Total=%{y}<extra></extra>",
         "hovertext": [
          "Chambersburg-Waynesboro, PA                                 ",
          "Chambersburg-Waynesboro, PA                                 ",
          "Chambersburg-Waynesboro, PA                                 ",
          "Chambersburg-Waynesboro, PA                                 ",
          "Chambersburg-Waynesboro, PA                                 "
         ],
         "legendgroup": "Chambersburg-Waynesboro, PA                                 ",
         "marker": {
          "color": "#636efa",
          "symbol": "circle"
         },
         "mode": "markers",
         "name": "Chambersburg-Waynesboro, PA                                 ",
         "showlegend": true,
         "type": "scattergl",
         "x": [
          2023,
          2022,
          2021,
          2020,
          2019
         ],
         "xaxis": "x",
         "y": [
          410,
          410,
          382,
          330,
          293
         ],
         "yaxis": "y"
        },
        {
         "hovertemplate": "<b>%{hovertext}</b><br><br>Name=Champaign-Urbana, IL                                        <br>Year=%{x}<br>Total=%{y}<extra></extra>",
         "hovertext": [
          "Champaign-Urbana, IL                                        ",
          "Champaign-Urbana, IL                                        ",
          "Champaign-Urbana, IL                                        ",
          "Champaign-Urbana, IL                                        ",
          "Champaign-Urbana, IL                                        "
         ],
         "legendgroup": "Champaign-Urbana, IL                                        ",
         "marker": {
          "color": "#EF553B",
          "symbol": "circle"
         },
         "mode": "markers",
         "name": "Champaign-Urbana, IL                                        ",
         "showlegend": true,
         "type": "scattergl",
         "x": [
          2023,
          2022,
          2021,
          2020,
          2019
         ],
         "xaxis": "x",
         "y": [
          574,
          920,
          616,
          1547,
          1175
         ],
         "yaxis": "y"
        },
        {
         "hovertemplate": "<b>%{hovertext}</b><br><br>Name=Charleston, WV                                              <br>Year=%{x}<br>Total=%{y}<extra></extra>",
         "hovertext": [
          "Charleston, WV                                              ",
          "Charleston, WV                                              ",
          "Charleston, WV                                              ",
          "Charleston, WV                                              ",
          "Charleston, WV                                              "
         ],
         "legendgroup": "Charleston, WV                                              ",
         "marker": {
          "color": "#00cc96",
          "symbol": "circle"
         },
         "mode": "markers",
         "name": "Charleston, WV                                              ",
         "showlegend": true,
         "type": "scattergl",
         "x": [
          2023,
          2022,
          2021,
          2020,
          2019
         ],
         "xaxis": "x",
         "y": [
          188,
          160,
          260,
          336,
          318
         ],
         "yaxis": "y"
        },
        {
         "hovertemplate": "<b>%{hovertext}</b><br><br>Name=Charleston-North Charleston, SC                             <br>Year=%{x}<br>Total=%{y}<extra></extra>",
         "hovertext": [
          "Charleston-North Charleston, SC                             ",
          "Charleston-North Charleston, SC                             ",
          "Charleston-North Charleston, SC                             ",
          "Charleston-North Charleston, SC                             ",
          "Charleston-North Charleston, SC                             "
         ],
         "legendgroup": "Charleston-North Charleston, SC                             ",
         "marker": {
          "color": "#ab63fa",
          "symbol": "circle"
         },
         "mode": "markers",
         "name": "Charleston-North Charleston, SC                             ",
         "showlegend": true,
         "type": "scattergl",
         "x": [
          2023,
          2022,
          2021,
          2020,
          2019
         ],
         "xaxis": "x",
         "y": [
          8496,
          9323,
          8282,
          8604,
          6695
         ],
         "yaxis": "y"
        },
        {
         "hovertemplate": "<b>%{hovertext}</b><br><br>Name=Charlotte-Concord-Gastonia, NC-SC                           <br>Year=%{x}<br>Total=%{y}<extra></extra>",
         "hovertext": [
          "Charlotte-Concord-Gastonia, NC-SC                           ",
          "Charlotte-Concord-Gastonia, NC-SC                           ",
          "Charlotte-Concord-Gastonia, NC-SC                           ",
          "Charlotte-Concord-Gastonia, NC-SC                           ",
          "Charlotte-Concord-Gastonia, NC-SC                           "
         ],
         "legendgroup": "Charlotte-Concord-Gastonia, NC-SC                           ",
         "marker": {
          "color": "#FFA15A",
          "symbol": "circle"
         },
         "mode": "markers",
         "name": "Charlotte-Concord-Gastonia, NC-SC                           ",
         "showlegend": true,
         "type": "scattergl",
         "x": [
          2023,
          2022,
          2021,
          2020,
          2019
         ],
         "xaxis": "x",
         "y": [
          29361,
          27212,
          30126,
          26548,
          24637
         ],
         "yaxis": "y"
        },
        {
         "hovertemplate": "<b>%{hovertext}</b><br><br>Name=Charlottesville, VA                                         <br>Year=%{x}<br>Total=%{y}<extra></extra>",
         "hovertext": [
          "Charlottesville, VA                                         ",
          "Charlottesville, VA                                         ",
          "Charlottesville, VA                                         ",
          "Charlottesville, VA                                         ",
          "Charlottesville, VA                                         "
         ],
         "legendgroup": "Charlottesville, VA                                         ",
         "marker": {
          "color": "#19d3f3",
          "symbol": "circle"
         },
         "mode": "markers",
         "name": "Charlottesville, VA                                         ",
         "showlegend": true,
         "type": "scattergl",
         "x": [
          2023,
          2022,
          2021,
          2020,
          2019
         ],
         "xaxis": "x",
         "y": [
          1315,
          1500,
          1427,
          1673,
          1375
         ],
         "yaxis": "y"
        },
        {
         "hovertemplate": "<b>%{hovertext}</b><br><br>Name=Chattanooga, TN-GA                                          <br>Year=%{x}<br>Total=%{y}<extra></extra>",
         "hovertext": [
          "Chattanooga, TN-GA                                          ",
          "Chattanooga, TN-GA                                          ",
          "Chattanooga, TN-GA                                          ",
          "Chattanooga, TN-GA                                          ",
          "Chattanooga, TN-GA                                          "
         ],
         "legendgroup": "Chattanooga, TN-GA                                          ",
         "marker": {
          "color": "#FF6692",
          "symbol": "circle"
         },
         "mode": "markers",
         "name": "Chattanooga, TN-GA                                          ",
         "showlegend": true,
         "type": "scattergl",
         "x": [
          2023,
          2022,
          2021,
          2020,
          2019
         ],
         "xaxis": "x",
         "y": [
          3011,
          3081,
          3673,
          3061,
          2697
         ],
         "yaxis": "y"
        },
        {
         "hovertemplate": "<b>%{hovertext}</b><br><br>Name=Cheyenne, WY                                                <br>Year=%{x}<br>Total=%{y}<extra></extra>",
         "hovertext": [
          "Cheyenne, WY                                                ",
          "Cheyenne, WY                                                ",
          "Cheyenne, WY                                                ",
          "Cheyenne, WY                                                ",
          "Cheyenne, WY                                                "
         ],
         "legendgroup": "Cheyenne, WY                                                ",
         "marker": {
          "color": "#B6E880",
          "symbol": "circle"
         },
         "mode": "markers",
         "name": "Cheyenne, WY                                                ",
         "showlegend": true,
         "type": "scattergl",
         "x": [
          2023,
          2022,
          2021,
          2020,
          2019
         ],
         "xaxis": "x",
         "y": [
          284,
          1163,
          737,
          550,
          432
         ],
         "yaxis": "y"
        },
        {
         "hovertemplate": "<b>%{hovertext}</b><br><br>Name=Chicago-Naperville-Elgin, IL-IN-WI                          <br>Year=%{x}<br>Total=%{y}<extra></extra>",
         "hovertext": [
          "Chicago-Naperville-Elgin, IL-IN-WI                          ",
          "Chicago-Naperville-Elgin, IL-IN-WI                          ",
          "Chicago-Naperville-Elgin, IL-IN-WI                          ",
          "Chicago-Naperville-Elgin, IL-IN-WI                          ",
          "Chicago-Naperville-Elgin, IL-IN-WI                          "
         ],
         "legendgroup": "Chicago-Naperville-Elgin, IL-IN-WI                          ",
         "marker": {
          "color": "#FF97FF",
          "symbol": "circle"
         },
         "mode": "markers",
         "name": "Chicago-Naperville-Elgin, IL-IN-WI                          ",
         "showlegend": true,
         "type": "scattergl",
         "x": [
          2023,
          2022,
          2021,
          2020,
          2019
         ],
         "xaxis": "x",
         "y": [
          14821,
          17636,
          18511,
          14995,
          18085
         ],
         "yaxis": "y"
        },
        {
         "hovertemplate": "<b>%{hovertext}</b><br><br>Name=Chico, CA                                                   <br>Year=%{x}<br>Total=%{y}<extra></extra>",
         "hovertext": [
          "Chico, CA                                                   ",
          "Chico, CA                                                   ",
          "Chico, CA                                                   ",
          "Chico, CA                                                   ",
          "Chico, CA                                                   "
         ],
         "legendgroup": "Chico, CA                                                   ",
         "marker": {
          "color": "#FECB52",
          "symbol": "circle"
         },
         "mode": "markers",
         "name": "Chico, CA                                                   ",
         "showlegend": true,
         "type": "scattergl",
         "x": [
          2023,
          2022,
          2021,
          2020,
          2019
         ],
         "xaxis": "x",
         "y": [
          929,
          1853,
          2050,
          1837,
          1426
         ],
         "yaxis": "y"
        },
        {
         "hovertemplate": "<b>%{hovertext}</b><br><br>Name=Cincinnati, OH-KY-IN                                        <br>Year=%{x}<br>Total=%{y}<extra></extra>",
         "hovertext": [
          "Cincinnati, OH-KY-IN                                        ",
          "Cincinnati, OH-KY-IN                                        ",
          "Cincinnati, OH-KY-IN                                        ",
          "Cincinnati, OH-KY-IN                                        ",
          "Cincinnati, OH-KY-IN                                        "
         ],
         "legendgroup": "Cincinnati, OH-KY-IN                                        ",
         "marker": {
          "color": "#636efa",
          "symbol": "circle"
         },
         "mode": "markers",
         "name": "Cincinnati, OH-KY-IN                                        ",
         "showlegend": true,
         "type": "scattergl",
         "x": [
          2023,
          2022,
          2021,
          2020,
          2019
         ],
         "xaxis": "x",
         "y": [
          6246,
          6210,
          8429,
          7297,
          6023
         ],
         "yaxis": "y"
        },
        {
         "hovertemplate": "<b>%{hovertext}</b><br><br>Name=Clarksville, TN-KY                                          <br>Year=%{x}<br>Total=%{y}<extra></extra>",
         "hovertext": [
          "Clarksville, TN-KY                                          ",
          "Clarksville, TN-KY                                          ",
          "Clarksville, TN-KY                                          ",
          "Clarksville, TN-KY                                          ",
          "Clarksville, TN-KY                                          "
         ],
         "legendgroup": "Clarksville, TN-KY                                          ",
         "marker": {
          "color": "#EF553B",
          "symbol": "circle"
         },
         "mode": "markers",
         "name": "Clarksville, TN-KY                                          ",
         "showlegend": true,
         "type": "scattergl",
         "x": [
          2023,
          2022,
          2021,
          2020,
          2019
         ],
         "xaxis": "x",
         "y": [
          2932,
          4093,
          4112,
          3805,
          2657
         ],
         "yaxis": "y"
        },
        {
         "hovertemplate": "<b>%{hovertext}</b><br><br>Name=Cleveland, TN                                               <br>Year=%{x}<br>Total=%{y}<extra></extra>",
         "hovertext": [
          "Cleveland, TN                                               ",
          "Cleveland, TN                                               ",
          "Cleveland, TN                                               ",
          "Cleveland, TN                                               ",
          "Cleveland, TN                                               "
         ],
         "legendgroup": "Cleveland, TN                                               ",
         "marker": {
          "color": "#00cc96",
          "symbol": "circle"
         },
         "mode": "markers",
         "name": "Cleveland, TN                                               ",
         "showlegend": true,
         "type": "scattergl",
         "x": [
          2023,
          2022,
          2021,
          2020,
          2019
         ],
         "xaxis": "x",
         "y": [
          821,
          924,
          790,
          713,
          755
         ],
         "yaxis": "y"
        },
        {
         "hovertemplate": "<b>%{hovertext}</b><br><br>Name=Cleveland-Elyria, OH                                        <br>Year=%{x}<br>Total=%{y}<extra></extra>",
         "hovertext": [
          "Cleveland-Elyria, OH                                        ",
          "Cleveland-Elyria, OH                                        ",
          "Cleveland-Elyria, OH                                        ",
          "Cleveland-Elyria, OH                                        ",
          "Cleveland-Elyria, OH                                        "
         ],
         "legendgroup": "Cleveland-Elyria, OH                                        ",
         "marker": {
          "color": "#ab63fa",
          "symbol": "circle"
         },
         "mode": "markers",
         "name": "Cleveland-Elyria, OH                                        ",
         "showlegend": true,
         "type": "scattergl",
         "x": [
          2023,
          2022,
          2021,
          2020,
          2019
         ],
         "xaxis": "x",
         "y": [
          3276,
          3735,
          3340,
          3374,
          3032
         ],
         "yaxis": "y"
        },
        {
         "hovertemplate": "<b>%{hovertext}</b><br><br>Name=Coeur dAlene, ID                                            <br>Year=%{x}<br>Total=%{y}<extra></extra>",
         "hovertext": [
          "Coeur dAlene, ID                                            ",
          "Coeur dAlene, ID                                            ",
          "Coeur dAlene, ID                                            ",
          "Coeur dAlene, ID                                            ",
          "Coeur dAlene, ID                                            "
         ],
         "legendgroup": "Coeur dAlene, ID                                            ",
         "marker": {
          "color": "#FFA15A",
          "symbol": "circle"
         },
         "mode": "markers",
         "name": "Coeur dAlene, ID                                            ",
         "showlegend": true,
         "type": "scattergl",
         "x": [
          2023,
          2022,
          2021,
          2020,
          2019
         ],
         "xaxis": "x",
         "y": [
          2046,
          2039,
          2426,
          2929,
          2526
         ],
         "yaxis": "y"
        },
        {
         "hovertemplate": "<b>%{hovertext}</b><br><br>Name=College Station-Bryan, TX                                   <br>Year=%{x}<br>Total=%{y}<extra></extra>",
         "hovertext": [
          "College Station-Bryan, TX                                   ",
          "College Station-Bryan, TX                                   ",
          "College Station-Bryan, TX                                   ",
          "College Station-Bryan, TX                                   ",
          "College Station-Bryan, TX                                   "
         ],
         "legendgroup": "College Station-Bryan, TX                                   ",
         "marker": {
          "color": "#19d3f3",
          "symbol": "circle"
         },
         "mode": "markers",
         "name": "College Station-Bryan, TX                                   ",
         "showlegend": true,
         "type": "scattergl",
         "x": [
          2023,
          2022,
          2021,
          2020,
          2019
         ],
         "xaxis": "x",
         "y": [
          1443,
          1775,
          2300,
          2103,
          1480
         ],
         "yaxis": "y"
        },
        {
         "hovertemplate": "<b>%{hovertext}</b><br><br>Name=Colorado Springs, CO                                        <br>Year=%{x}<br>Total=%{y}<extra></extra>",
         "hovertext": [
          "Colorado Springs, CO                                        ",
          "Colorado Springs, CO                                        ",
          "Colorado Springs, CO                                        ",
          "Colorado Springs, CO                                        ",
          "Colorado Springs, CO                                        "
         ],
         "legendgroup": "Colorado Springs, CO                                        ",
         "marker": {
          "color": "#FF6692",
          "symbol": "circle"
         },
         "mode": "markers",
         "name": "Colorado Springs, CO                                        ",
         "showlegend": true,
         "type": "scattergl",
         "x": [
          2023,
          2022,
          2021,
          2020,
          2019
         ],
         "xaxis": "x",
         "y": [
          5291,
          8844,
          9335,
          6932,
          5508
         ],
         "yaxis": "y"
        },
        {
         "hovertemplate": "<b>%{hovertext}</b><br><br>Name=Columbia, MO                                                <br>Year=%{x}<br>Total=%{y}<extra></extra>",
         "hovertext": [
          "Columbia, MO                                                ",
          "Columbia, MO                                                ",
          "Columbia, MO                                                ",
          "Columbia, MO                                                ",
          "Columbia, MO                                                "
         ],
         "legendgroup": "Columbia, MO                                                ",
         "marker": {
          "color": "#B6E880",
          "symbol": "circle"
         },
         "mode": "markers",
         "name": "Columbia, MO                                                ",
         "showlegend": true,
         "type": "scattergl",
         "x": [
          2023,
          2022,
          2021,
          2020,
          2019
         ],
         "xaxis": "x",
         "y": [
          669,
          779,
          1029,
          934,
          799
         ],
         "yaxis": "y"
        },
        {
         "hovertemplate": "<b>%{hovertext}</b><br><br>Name=Columbia, SC                                                <br>Year=%{x}<br>Total=%{y}<extra></extra>",
         "hovertext": [
          "Columbia, SC                                                ",
          "Columbia, SC                                                ",
          "Columbia, SC                                                ",
          "Columbia, SC                                                ",
          "Columbia, SC                                                "
         ],
         "legendgroup": "Columbia, SC                                                ",
         "marker": {
          "color": "#FF97FF",
          "symbol": "circle"
         },
         "mode": "markers",
         "name": "Columbia, SC                                                ",
         "showlegend": true,
         "type": "scattergl",
         "x": [
          2023,
          2022,
          2021,
          2020,
          2019
         ],
         "xaxis": "x",
         "y": [
          5480,
          5804,
          6881,
          4872,
          4424
         ],
         "yaxis": "y"
        },
        {
         "hovertemplate": "<b>%{hovertext}</b><br><br>Name=Columbus, GA-AL                                             <br>Year=%{x}<br>Total=%{y}<extra></extra>",
         "hovertext": [
          "Columbus, GA-AL                                             ",
          "Columbus, GA-AL                                             ",
          "Columbus, GA-AL                                             ",
          "Columbus, GA-AL                                             ",
          "Columbus, GA-AL                                             "
         ],
         "legendgroup": "Columbus, GA-AL                                             ",
         "marker": {
          "color": "#FECB52",
          "symbol": "circle"
         },
         "mode": "markers",
         "name": "Columbus, GA-AL                                             ",
         "showlegend": true,
         "type": "scattergl",
         "x": [
          2023,
          2022,
          2021,
          2020,
          2019
         ],
         "xaxis": "x",
         "y": [
          647,
          1648,
          1133,
          1828,
          1097
         ],
         "yaxis": "y"
        },
        {
         "hovertemplate": "<b>%{hovertext}</b><br><br>Name=Columbus, IN                                                <br>Year=%{x}<br>Total=%{y}<extra></extra>",
         "hovertext": [
          "Columbus, IN                                                ",
          "Columbus, IN                                                ",
          "Columbus, IN                                                ",
          "Columbus, IN                                                ",
          "Columbus, IN                                                "
         ],
         "legendgroup": "Columbus, IN                                                ",
         "marker": {
          "color": "#636efa",
          "symbol": "circle"
         },
         "mode": "markers",
         "name": "Columbus, IN                                                ",
         "showlegend": true,
         "type": "scattergl",
         "x": [
          2023,
          2022,
          2021,
          2020,
          2019
         ],
         "xaxis": "x",
         "y": [
          156,
          209,
          231,
          169,
          189
         ],
         "yaxis": "y"
        },
        {
         "hovertemplate": "<b>%{hovertext}</b><br><br>Name=Columbus, OH                                                <br>Year=%{x}<br>Total=%{y}<extra></extra>",
         "hovertext": [
          "Columbus, OH                                                ",
          "Columbus, OH                                                ",
          "Columbus, OH                                                ",
          "Columbus, OH                                                ",
          "Columbus, OH                                                "
         ],
         "legendgroup": "Columbus, OH                                                ",
         "marker": {
          "color": "#EF553B",
          "symbol": "circle"
         },
         "mode": "markers",
         "name": "Columbus, OH                                                ",
         "showlegend": true,
         "type": "scattergl",
         "x": [
          2023,
          2022,
          2021,
          2020,
          2019
         ],
         "xaxis": "x",
         "y": [
          11439,
          12095,
          12062,
          12358,
          8090
         ],
         "yaxis": "y"
        },
        {
         "hovertemplate": "<b>%{hovertext}</b><br><br>Name=Corpus Christi, TX                                          <br>Year=%{x}<br>Total=%{y}<extra></extra>",
         "hovertext": [
          "Corpus Christi, TX                                          ",
          "Corpus Christi, TX                                          ",
          "Corpus Christi, TX                                          ",
          "Corpus Christi, TX                                          ",
          "Corpus Christi, TX                                          "
         ],
         "legendgroup": "Corpus Christi, TX                                          ",
         "marker": {
          "color": "#00cc96",
          "symbol": "circle"
         },
         "mode": "markers",
         "name": "Corpus Christi, TX                                          ",
         "showlegend": true,
         "type": "scattergl",
         "x": [
          2023,
          2022,
          2021,
          2020,
          2019
         ],
         "xaxis": "x",
         "y": [
          1790,
          1900,
          2575,
          1923,
          1815
         ],
         "yaxis": "y"
        },
        {
         "hovertemplate": "<b>%{hovertext}</b><br><br>Name=Corvallis, OR                                               <br>Year=%{x}<br>Total=%{y}<extra></extra>",
         "hovertext": [
          "Corvallis, OR                                               ",
          "Corvallis, OR                                               ",
          "Corvallis, OR                                               ",
          "Corvallis, OR                                               ",
          "Corvallis, OR                                               "
         ],
         "legendgroup": "Corvallis, OR                                               ",
         "marker": {
          "color": "#ab63fa",
          "symbol": "circle"
         },
         "mode": "markers",
         "name": "Corvallis, OR                                               ",
         "showlegend": true,
         "type": "scattergl",
         "x": [
          2023,
          2022,
          2021,
          2020,
          2019
         ],
         "xaxis": "x",
         "y": [
          404,
          286,
          284,
          302,
          542
         ],
         "yaxis": "y"
        },
        {
         "hovertemplate": "<b>%{hovertext}</b><br><br>Name=Crestview-Fort Walton Beach-Destin, FL                      <br>Year=%{x}<br>Total=%{y}<extra></extra>",
         "hovertext": [
          "Crestview-Fort Walton Beach-Destin, FL                      ",
          "Crestview-Fort Walton Beach-Destin, FL                      ",
          "Crestview-Fort Walton Beach-Destin, FL                      ",
          "Crestview-Fort Walton Beach-Destin, FL                      ",
          "Crestview-Fort Walton Beach-Destin, FL                      "
         ],
         "legendgroup": "Crestview-Fort Walton Beach-Destin, FL                      ",
         "marker": {
          "color": "#FFA15A",
          "symbol": "circle"
         },
         "mode": "markers",
         "name": "Crestview-Fort Walton Beach-Destin, FL                      ",
         "showlegend": true,
         "type": "scattergl",
         "x": [
          2023,
          2022,
          2021,
          2020,
          2019
         ],
         "xaxis": "x",
         "y": [
          5596,
          4122,
          3892,
          2755,
          3544
         ],
         "yaxis": "y"
        },
        {
         "hovertemplate": "<b>%{hovertext}</b><br><br>Name=Cumberland, MD-WV                                           <br>Year=%{x}<br>Total=%{y}<extra></extra>",
         "hovertext": [
          "Cumberland, MD-WV                                           ",
          "Cumberland, MD-WV                                           ",
          "Cumberland, MD-WV                                           ",
          "Cumberland, MD-WV                                           ",
          "Cumberland, MD-WV                                           "
         ],
         "legendgroup": "Cumberland, MD-WV                                           ",
         "marker": {
          "color": "#19d3f3",
          "symbol": "circle"
         },
         "mode": "markers",
         "name": "Cumberland, MD-WV                                           ",
         "showlegend": true,
         "type": "scattergl",
         "x": [
          2023,
          2022,
          2021,
          2020,
          2019
         ],
         "xaxis": "x",
         "y": [
          70,
          66,
          69,
          94,
          105
         ],
         "yaxis": "y"
        },
        {
         "hovertemplate": "<b>%{hovertext}</b><br><br>Name=Dallas-Fort Worth-Arlington, TX                             <br>Year=%{x}<br>Total=%{y}<extra></extra>",
         "hovertext": [
          "Dallas-Fort Worth-Arlington, TX                             ",
          "Dallas-Fort Worth-Arlington, TX                             ",
          "Dallas-Fort Worth-Arlington, TX                             ",
          "Dallas-Fort Worth-Arlington, TX                             ",
          "Dallas-Fort Worth-Arlington, TX                             "
         ],
         "legendgroup": "Dallas-Fort Worth-Arlington, TX                             ",
         "marker": {
          "color": "#FF6692",
          "symbol": "circle"
         },
         "mode": "markers",
         "name": "Dallas-Fort Worth-Arlington, TX                             ",
         "showlegend": true,
         "type": "scattergl",
         "x": [
          2023,
          2022,
          2021,
          2020,
          2019
         ],
         "xaxis": "x",
         "y": [
          66557,
          77894,
          78705,
          60812,
          62708
         ],
         "yaxis": "y"
        },
        {
         "hovertemplate": "<b>%{hovertext}</b><br><br>Name=Dalton, GA                                                  <br>Year=%{x}<br>Total=%{y}<extra></extra>",
         "hovertext": [
          "Dalton, GA                                                  ",
          "Dalton, GA                                                  ",
          "Dalton, GA                                                  ",
          "Dalton, GA                                                  ",
          "Dalton, GA                                                  "
         ],
         "legendgroup": "Dalton, GA                                                  ",
         "marker": {
          "color": "#B6E880",
          "symbol": "circle"
         },
         "mode": "markers",
         "name": "Dalton, GA                                                  ",
         "showlegend": true,
         "type": "scattergl",
         "x": [
          2023,
          2022,
          2021,
          2020,
          2019
         ],
         "xaxis": "x",
         "y": [
          466,
          480,
          732,
          445,
          326
         ],
         "yaxis": "y"
        },
        {
         "hovertemplate": "<b>%{hovertext}</b><br><br>Name=Danville, IL                                                <br>Year=%{x}<br>Total=%{y}<extra></extra>",
         "hovertext": [
          "Danville, IL                                                ",
          "Danville, IL                                                ",
          "Danville, IL                                                ",
          "Danville, IL                                                ",
          "Danville, IL                                                "
         ],
         "legendgroup": "Danville, IL                                                ",
         "marker": {
          "color": "#FF97FF",
          "symbol": "circle"
         },
         "mode": "markers",
         "name": "Danville, IL                                                ",
         "showlegend": true,
         "type": "scattergl",
         "x": [
          2023,
          2022,
          2021,
          2020,
          2019
         ],
         "xaxis": "x",
         "y": [
          3,
          2,
          6,
          7,
          12
         ],
         "yaxis": "y"
        },
        {
         "hovertemplate": "<b>%{hovertext}</b><br><br>Name=Daphne-Fairhope-Foley, AL                                   <br>Year=%{x}<br>Total=%{y}<extra></extra>",
         "hovertext": [
          "Daphne-Fairhope-Foley, AL                                   ",
          "Daphne-Fairhope-Foley, AL                                   ",
          "Daphne-Fairhope-Foley, AL                                   ",
          "Daphne-Fairhope-Foley, AL                                   ",
          "Daphne-Fairhope-Foley, AL                                   "
         ],
         "legendgroup": "Daphne-Fairhope-Foley, AL                                   ",
         "marker": {
          "color": "#FECB52",
          "symbol": "circle"
         },
         "mode": "markers",
         "name": "Daphne-Fairhope-Foley, AL                                   ",
         "showlegend": true,
         "type": "scattergl",
         "x": [
          2023,
          2022,
          2021,
          2020,
          2019
         ],
         "xaxis": "x",
         "y": [
          4368,
          3417,
          3705,
          3614,
          3150
         ],
         "yaxis": "y"
        },
        {
         "hovertemplate": "<b>%{hovertext}</b><br><br>Name=Davenport-Moline-Rock Island, IA-IL                         <br>Year=%{x}<br>Total=%{y}<extra></extra>",
         "hovertext": [
          "Davenport-Moline-Rock Island, IA-IL                         ",
          "Davenport-Moline-Rock Island, IA-IL                         ",
          "Davenport-Moline-Rock Island, IA-IL                         ",
          "Davenport-Moline-Rock Island, IA-IL                         ",
          "Davenport-Moline-Rock Island, IA-IL                         "
         ],
         "legendgroup": "Davenport-Moline-Rock Island, IA-IL                         ",
         "marker": {
          "color": "#636efa",
          "symbol": "circle"
         },
         "mode": "markers",
         "name": "Davenport-Moline-Rock Island, IA-IL                         ",
         "showlegend": true,
         "type": "scattergl",
         "x": [
          2023,
          2022,
          2021,
          2020,
          2019
         ],
         "xaxis": "x",
         "y": [
          616,
          597,
          629,
          582,
          801
         ],
         "yaxis": "y"
        },
        {
         "hovertemplate": "<b>%{hovertext}</b><br><br>Name=Dayton-Kettering, OH                                        <br>Year=%{x}<br>Total=%{y}<extra></extra>",
         "hovertext": [
          "Dayton-Kettering, OH                                        ",
          "Dayton-Kettering, OH                                        ",
          "Dayton-Kettering, OH                                        ",
          "Dayton-Kettering, OH                                        ",
          "Dayton-Kettering, OH                                        "
         ],
         "legendgroup": "Dayton-Kettering, OH                                        ",
         "marker": {
          "color": "#EF553B",
          "symbol": "circle"
         },
         "mode": "markers",
         "name": "Dayton-Kettering, OH                                        ",
         "showlegend": true,
         "type": "scattergl",
         "x": [
          2023,
          2022,
          2021,
          2020,
          2019
         ],
         "xaxis": "x",
         "y": [
          1760,
          2265,
          2039,
          1699,
          1231
         ],
         "yaxis": "y"
        },
        {
         "hovertemplate": "<b>%{hovertext}</b><br><br>Name=Decatur, AL                                                 <br>Year=%{x}<br>Total=%{y}<extra></extra>",
         "hovertext": [
          "Decatur, AL                                                 ",
          "Decatur, AL                                                 ",
          "Decatur, AL                                                 ",
          "Decatur, AL                                                 ",
          "Decatur, AL                                                 "
         ],
         "legendgroup": "Decatur, AL                                                 ",
         "marker": {
          "color": "#00cc96",
          "symbol": "circle"
         },
         "mode": "markers",
         "name": "Decatur, AL                                                 ",
         "showlegend": true,
         "type": "scattergl",
         "x": [
          2023,
          2022,
          2021,
          2020,
          2019
         ],
         "xaxis": "x",
         "y": [
          305,
          279,
          226,
          224,
          177
         ],
         "yaxis": "y"
        },
        {
         "hovertemplate": "<b>%{hovertext}</b><br><br>Name=Decatur, IL                                                 <br>Year=%{x}<br>Total=%{y}<extra></extra>",
         "hovertext": [
          "Decatur, IL                                                 ",
          "Decatur, IL                                                 ",
          "Decatur, IL                                                 ",
          "Decatur, IL                                                 ",
          "Decatur, IL                                                 "
         ],
         "legendgroup": "Decatur, IL                                                 ",
         "marker": {
          "color": "#ab63fa",
          "symbol": "circle"
         },
         "mode": "markers",
         "name": "Decatur, IL                                                 ",
         "showlegend": true,
         "type": "scattergl",
         "x": [
          2023,
          2022,
          2021,
          2020,
          2019
         ],
         "xaxis": "x",
         "y": [
          33,
          21,
          33,
          31,
          35
         ],
         "yaxis": "y"
        },
        {
         "hovertemplate": "<b>%{hovertext}</b><br><br>Name=Deltona-Daytona Beach-Ormond Beach, FL                      <br>Year=%{x}<br>Total=%{y}<extra></extra>",
         "hovertext": [
          "Deltona-Daytona Beach-Ormond Beach, FL                      ",
          "Deltona-Daytona Beach-Ormond Beach, FL                      ",
          "Deltona-Daytona Beach-Ormond Beach, FL                      ",
          "Deltona-Daytona Beach-Ormond Beach, FL                      ",
          "Deltona-Daytona Beach-Ormond Beach, FL                      "
         ],
         "legendgroup": "Deltona-Daytona Beach-Ormond Beach, FL                      ",
         "marker": {
          "color": "#FFA15A",
          "symbol": "circle"
         },
         "mode": "markers",
         "name": "Deltona-Daytona Beach-Ormond Beach, FL                      ",
         "showlegend": true,
         "type": "scattergl",
         "x": [
          2023,
          2022,
          2021,
          2020,
          2019
         ],
         "xaxis": "x",
         "y": [
          7097,
          8536,
          8214,
          6443,
          4753
         ],
         "yaxis": "y"
        },
        {
         "hovertemplate": "<b>%{hovertext}</b><br><br>Name=Denver-Aurora-Lakewood, CO                                  <br>Year=%{x}<br>Total=%{y}<extra></extra>",
         "hovertext": [
          "Denver-Aurora-Lakewood, CO                                  ",
          "Denver-Aurora-Lakewood, CO                                  ",
          "Denver-Aurora-Lakewood, CO                                  ",
          "Denver-Aurora-Lakewood, CO                                  ",
          "Denver-Aurora-Lakewood, CO                                  "
         ],
         "legendgroup": "Denver-Aurora-Lakewood, CO                                  ",
         "marker": {
          "color": "#19d3f3",
          "symbol": "circle"
         },
         "mode": "markers",
         "name": "Denver-Aurora-Lakewood, CO                                  ",
         "showlegend": true,
         "type": "scattergl",
         "x": [
          2023,
          2022,
          2021,
          2020,
          2019
         ],
         "xaxis": "x",
         "y": [
          20623,
          23476,
          30006,
          19732,
          19308
         ],
         "yaxis": "y"
        },
        {
         "hovertemplate": "<b>%{hovertext}</b><br><br>Name=Des Moines-West Des Moines, IA                              <br>Year=%{x}<br>Total=%{y}<extra></extra>",
         "hovertext": [
          "Des Moines-West Des Moines, IA                              ",
          "Des Moines-West Des Moines, IA                              ",
          "Des Moines-West Des Moines, IA                              ",
          "Des Moines-West Des Moines, IA                              ",
          "Des Moines-West Des Moines, IA                              "
         ],
         "legendgroup": "Des Moines-West Des Moines, IA                              ",
         "marker": {
          "color": "#FF6692",
          "symbol": "circle"
         },
         "mode": "markers",
         "name": "Des Moines-West Des Moines, IA                              ",
         "showlegend": true,
         "type": "scattergl",
         "x": [
          2023,
          2022,
          2021,
          2020,
          2019
         ],
         "xaxis": "x",
         "y": [
          5017,
          6122,
          6969,
          6508,
          5269
         ],
         "yaxis": "y"
        },
        {
         "hovertemplate": "<b>%{hovertext}</b><br><br>Name=Detroit-Warren-Dearborn, MI                                 <br>Year=%{x}<br>Total=%{y}<extra></extra>",
         "hovertext": [
          "Detroit-Warren-Dearborn, MI                                 ",
          "Detroit-Warren-Dearborn, MI                                 ",
          "Detroit-Warren-Dearborn, MI                                 ",
          "Detroit-Warren-Dearborn, MI                                 ",
          "Detroit-Warren-Dearborn, MI                                 "
         ],
         "legendgroup": "Detroit-Warren-Dearborn, MI                                 ",
         "marker": {
          "color": "#B6E880",
          "symbol": "circle"
         },
         "mode": "markers",
         "name": "Detroit-Warren-Dearborn, MI                                 ",
         "showlegend": true,
         "type": "scattergl",
         "x": [
          2023,
          2022,
          2021,
          2020,
          2019
         ],
         "xaxis": "x",
         "y": [
          6197,
          7945,
          8598,
          7165,
          7813
         ],
         "yaxis": "y"
        },
        {
         "hovertemplate": "<b>%{hovertext}</b><br><br>Name=Dothan, AL                                                  <br>Year=%{x}<br>Total=%{y}<extra></extra>",
         "hovertext": [
          "Dothan, AL                                                  ",
          "Dothan, AL                                                  ",
          "Dothan, AL                                                  ",
          "Dothan, AL                                                  ",
          "Dothan, AL                                                  "
         ],
         "legendgroup": "Dothan, AL                                                  ",
         "marker": {
          "color": "#FF97FF",
          "symbol": "circle"
         },
         "mode": "markers",
         "name": "Dothan, AL                                                  ",
         "showlegend": true,
         "type": "scattergl",
         "x": [
          2023,
          2022,
          2021,
          2020,
          2019
         ],
         "xaxis": "x",
         "y": [
          480,
          498,
          494,
          488,
          423
         ],
         "yaxis": "y"
        },
        {
         "hovertemplate": "<b>%{hovertext}</b><br><br>Name=Dover, DE                                                   <br>Year=%{x}<br>Total=%{y}<extra></extra>",
         "hovertext": [
          "Dover, DE                                                   ",
          "Dover, DE                                                   ",
          "Dover, DE                                                   ",
          "Dover, DE                                                   ",
          "Dover, DE                                                   "
         ],
         "legendgroup": "Dover, DE                                                   ",
         "marker": {
          "color": "#FECB52",
          "symbol": "circle"
         },
         "mode": "markers",
         "name": "Dover, DE                                                   ",
         "showlegend": true,
         "type": "scattergl",
         "x": [
          2023,
          2022,
          2021,
          2020,
          2019
         ],
         "xaxis": "x",
         "y": [
          1105,
          1056,
          1873,
          2136,
          1340
         ],
         "yaxis": "y"
        },
        {
         "hovertemplate": "<b>%{hovertext}</b><br><br>Name=Dubuque, IA                                                 <br>Year=%{x}<br>Total=%{y}<extra></extra>",
         "hovertext": [
          "Dubuque, IA                                                 ",
          "Dubuque, IA                                                 ",
          "Dubuque, IA                                                 ",
          "Dubuque, IA                                                 ",
          "Dubuque, IA                                                 "
         ],
         "legendgroup": "Dubuque, IA                                                 ",
         "marker": {
          "color": "#636efa",
          "symbol": "circle"
         },
         "mode": "markers",
         "name": "Dubuque, IA                                                 ",
         "showlegend": true,
         "type": "scattergl",
         "x": [
          2023,
          2022,
          2021,
          2020,
          2019
         ],
         "xaxis": "x",
         "y": [
          196,
          163,
          537,
          277,
          262
         ],
         "yaxis": "y"
        },
        {
         "hovertemplate": "<b>%{hovertext}</b><br><br>Name=Duluth, MN-WI                                               <br>Year=%{x}<br>Total=%{y}<extra></extra>",
         "hovertext": [
          "Duluth, MN-WI                                               ",
          "Duluth, MN-WI                                               ",
          "Duluth, MN-WI                                               ",
          "Duluth, MN-WI                                               ",
          "Duluth, MN-WI                                               "
         ],
         "legendgroup": "Duluth, MN-WI                                               ",
         "marker": {
          "color": "#EF553B",
          "symbol": "circle"
         },
         "mode": "markers",
         "name": "Duluth, MN-WI                                               ",
         "showlegend": true,
         "type": "scattergl",
         "x": [
          2023,
          2022,
          2021,
          2020,
          2019
         ],
         "xaxis": "x",
         "y": [
          835,
          761,
          708,
          565,
          1032
         ],
         "yaxis": "y"
        },
        {
         "hovertemplate": "<b>%{hovertext}</b><br><br>Name=Durham-Chapel Hill, NC                                      <br>Year=%{x}<br>Total=%{y}<extra></extra>",
         "hovertext": [
          "Durham-Chapel Hill, NC                                      ",
          "Durham-Chapel Hill, NC                                      ",
          "Durham-Chapel Hill, NC                                      ",
          "Durham-Chapel Hill, NC                                      ",
          "Durham-Chapel Hill, NC                                      "
         ],
         "legendgroup": "Durham-Chapel Hill, NC                                      ",
         "marker": {
          "color": "#00cc96",
          "symbol": "circle"
         },
         "mode": "markers",
         "name": "Durham-Chapel Hill, NC                                      ",
         "showlegend": true,
         "type": "scattergl",
         "x": [
          2023,
          2022,
          2021,
          2020,
          2019
         ],
         "xaxis": "x",
         "y": [
          7243,
          6392,
          5900,
          5505,
          5795
         ],
         "yaxis": "y"
        },
        {
         "hovertemplate": "<b>%{hovertext}</b><br><br>Name=East Stroudsburg, PA                                        <br>Year=%{x}<br>Total=%{y}<extra></extra>",
         "hovertext": [
          "East Stroudsburg, PA                                        ",
          "East Stroudsburg, PA                                        ",
          "East Stroudsburg, PA                                        ",
          "East Stroudsburg, PA                                        ",
          "East Stroudsburg, PA                                        "
         ],
         "legendgroup": "East Stroudsburg, PA                                        ",
         "marker": {
          "color": "#ab63fa",
          "symbol": "circle"
         },
         "mode": "markers",
         "name": "East Stroudsburg, PA                                        ",
         "showlegend": true,
         "type": "scattergl",
         "x": [
          2023,
          2022,
          2021,
          2020,
          2019
         ],
         "xaxis": "x",
         "y": [
          239,
          251,
          370,
          212,
          176
         ],
         "yaxis": "y"
        },
        {
         "hovertemplate": "<b>%{hovertext}</b><br><br>Name=Eau Claire, WI                                              <br>Year=%{x}<br>Total=%{y}<extra></extra>",
         "hovertext": [
          "Eau Claire, WI                                              ",
          "Eau Claire, WI                                              ",
          "Eau Claire, WI                                              ",
          "Eau Claire, WI                                              ",
          "Eau Claire, WI                                              "
         ],
         "legendgroup": "Eau Claire, WI                                              ",
         "marker": {
          "color": "#FFA15A",
          "symbol": "circle"
         },
         "mode": "markers",
         "name": "Eau Claire, WI                                              ",
         "showlegend": true,
         "type": "scattergl",
         "x": [
          2023,
          2022,
          2021,
          2020,
          2019
         ],
         "xaxis": "x",
         "y": [
          1508,
          1030,
          1279,
          992,
          745
         ],
         "yaxis": "y"
        },
        {
         "hovertemplate": "<b>%{hovertext}</b><br><br>Name=El Centro, CA                                               <br>Year=%{x}<br>Total=%{y}<extra></extra>",
         "hovertext": [
          "El Centro, CA                                               ",
          "El Centro, CA                                               ",
          "El Centro, CA                                               ",
          "El Centro, CA                                               ",
          "El Centro, CA                                               "
         ],
         "legendgroup": "El Centro, CA                                               ",
         "marker": {
          "color": "#19d3f3",
          "symbol": "circle"
         },
         "mode": "markers",
         "name": "El Centro, CA                                               ",
         "showlegend": true,
         "type": "scattergl",
         "x": [
          2023,
          2022,
          2021,
          2020,
          2019
         ],
         "xaxis": "x",
         "y": [
          280,
          551,
          555,
          480,
          398
         ],
         "yaxis": "y"
        },
        {
         "hovertemplate": "<b>%{hovertext}</b><br><br>Name=El Paso, TX                                                 <br>Year=%{x}<br>Total=%{y}<extra></extra>",
         "hovertext": [
          "El Paso, TX                                                 ",
          "El Paso, TX                                                 ",
          "El Paso, TX                                                 ",
          "El Paso, TX                                                 ",
          "El Paso, TX                                                 "
         ],
         "legendgroup": "El Paso, TX                                                 ",
         "marker": {
          "color": "#FF6692",
          "symbol": "circle"
         },
         "mode": "markers",
         "name": "El Paso, TX                                                 ",
         "showlegend": true,
         "type": "scattergl",
         "x": [
          2023,
          2022,
          2021,
          2020,
          2019
         ],
         "xaxis": "x",
         "y": [
          2265,
          2466,
          2989,
          2562,
          3066
         ],
         "yaxis": "y"
        },
        {
         "hovertemplate": "<b>%{hovertext}</b><br><br>Name=Elizabethtown-Fort Knox, KY                                 <br>Year=%{x}<br>Total=%{y}<extra></extra>",
         "hovertext": [
          "Elizabethtown-Fort Knox, KY                                 ",
          "Elizabethtown-Fort Knox, KY                                 ",
          "Elizabethtown-Fort Knox, KY                                 ",
          "Elizabethtown-Fort Knox, KY                                 ",
          "Elizabethtown-Fort Knox, KY                                 "
         ],
         "legendgroup": "Elizabethtown-Fort Knox, KY                                 ",
         "marker": {
          "color": "#B6E880",
          "symbol": "circle"
         },
         "mode": "markers",
         "name": "Elizabethtown-Fort Knox, KY                                 ",
         "showlegend": true,
         "type": "scattergl",
         "x": [
          2023,
          2022,
          2021,
          2020,
          2019
         ],
         "xaxis": "x",
         "y": [
          1856,
          1171,
          526,
          762,
          491
         ],
         "yaxis": "y"
        },
        {
         "hovertemplate": "<b>%{hovertext}</b><br><br>Name=Elkhart-Goshen, IN                                          <br>Year=%{x}<br>Total=%{y}<extra></extra>",
         "hovertext": [
          "Elkhart-Goshen, IN                                          ",
          "Elkhart-Goshen, IN                                          ",
          "Elkhart-Goshen, IN                                          ",
          "Elkhart-Goshen, IN                                          ",
          "Elkhart-Goshen, IN                                          "
         ],
         "legendgroup": "Elkhart-Goshen, IN                                          ",
         "marker": {
          "color": "#FF97FF",
          "symbol": "circle"
         },
         "mode": "markers",
         "name": "Elkhart-Goshen, IN                                          ",
         "showlegend": true,
         "type": "scattergl",
         "x": [
          2023,
          2022,
          2021,
          2020,
          2019
         ],
         "xaxis": "x",
         "y": [
          287,
          387,
          458,
          488,
          350
         ],
         "yaxis": "y"
        },
        {
         "hovertemplate": "<b>%{hovertext}</b><br><br>Name=Elmira, NY                                                  <br>Year=%{x}<br>Total=%{y}<extra></extra>",
         "hovertext": [
          "Elmira, NY                                                  ",
          "Elmira, NY                                                  ",
          "Elmira, NY                                                  ",
          "Elmira, NY                                                  ",
          "Elmira, NY                                                  "
         ],
         "legendgroup": "Elmira, NY                                                  ",
         "marker": {
          "color": "#FECB52",
          "symbol": "circle"
         },
         "mode": "markers",
         "name": "Elmira, NY                                                  ",
         "showlegend": true,
         "type": "scattergl",
         "x": [
          2023,
          2022,
          2021,
          2020,
          2019
         ],
         "xaxis": "x",
         "y": [
          79,
          81,
          138,
          184,
          220
         ],
         "yaxis": "y"
        },
        {
         "hovertemplate": "<b>%{hovertext}</b><br><br>Name=Enid, OK                                                    <br>Year=%{x}<br>Total=%{y}<extra></extra>",
         "hovertext": [
          "Enid, OK                                                    ",
          "Enid, OK                                                    ",
          "Enid, OK                                                    ",
          "Enid, OK                                                    ",
          "Enid, OK                                                    "
         ],
         "legendgroup": "Enid, OK                                                    ",
         "marker": {
          "color": "#636efa",
          "symbol": "circle"
         },
         "mode": "markers",
         "name": "Enid, OK                                                    ",
         "showlegend": true,
         "type": "scattergl",
         "x": [
          2023,
          2022,
          2021,
          2020,
          2019
         ],
         "xaxis": "x",
         "y": [
          10,
          46,
          35,
          23,
          26
         ],
         "yaxis": "y"
        },
        {
         "hovertemplate": "<b>%{hovertext}</b><br><br>Name=Erie, PA                                                    <br>Year=%{x}<br>Total=%{y}<extra></extra>",
         "hovertext": [
          "Erie, PA                                                    ",
          "Erie, PA                                                    ",
          "Erie, PA                                                    ",
          "Erie, PA                                                    ",
          "Erie, PA                                                    "
         ],
         "legendgroup": "Erie, PA                                                    ",
         "marker": {
          "color": "#EF553B",
          "symbol": "circle"
         },
         "mode": "markers",
         "name": "Erie, PA                                                    ",
         "showlegend": true,
         "type": "scattergl",
         "x": [
          2023,
          2022,
          2021,
          2020,
          2019
         ],
         "xaxis": "x",
         "y": [
          202,
          238,
          217,
          201,
          161
         ],
         "yaxis": "y"
        },
        {
         "hovertemplate": "<b>%{hovertext}</b><br><br>Name=Eugene-Springfield, OR                                      <br>Year=%{x}<br>Total=%{y}<extra></extra>",
         "hovertext": [
          "Eugene-Springfield, OR                                      ",
          "Eugene-Springfield, OR                                      ",
          "Eugene-Springfield, OR                                      ",
          "Eugene-Springfield, OR                                      ",
          "Eugene-Springfield, OR                                      "
         ],
         "legendgroup": "Eugene-Springfield, OR                                      ",
         "marker": {
          "color": "#00cc96",
          "symbol": "circle"
         },
         "mode": "markers",
         "name": "Eugene-Springfield, OR                                      ",
         "showlegend": true,
         "type": "scattergl",
         "x": [
          2023,
          2022,
          2021,
          2020,
          2019
         ],
         "xaxis": "x",
         "y": [
          1239,
          1759,
          2136,
          1391,
          1071
         ],
         "yaxis": "y"
        },
        {
         "hovertemplate": "<b>%{hovertext}</b><br><br>Name=Evansville, IN-KY                                           <br>Year=%{x}<br>Total=%{y}<extra></extra>",
         "hovertext": [
          "Evansville, IN-KY                                           ",
          "Evansville, IN-KY                                           ",
          "Evansville, IN-KY                                           ",
          "Evansville, IN-KY                                           ",
          "Evansville, IN-KY                                           "
         ],
         "legendgroup": "Evansville, IN-KY                                           ",
         "marker": {
          "color": "#ab63fa",
          "symbol": "circle"
         },
         "mode": "markers",
         "name": "Evansville, IN-KY                                           ",
         "showlegend": true,
         "type": "scattergl",
         "x": [
          2023,
          2022,
          2021,
          2020,
          2019
         ],
         "xaxis": "x",
         "y": [
          902,
          1186,
          1349,
          1121,
          930
         ],
         "yaxis": "y"
        },
        {
         "hovertemplate": "<b>%{hovertext}</b><br><br>Name=Fairbanks, AK                                               <br>Year=%{x}<br>Total=%{y}<extra></extra>",
         "hovertext": [
          "Fairbanks, AK                                               ",
          "Fairbanks, AK                                               ",
          "Fairbanks, AK                                               ",
          "Fairbanks, AK                                               ",
          "Fairbanks, AK                                               "
         ],
         "legendgroup": "Fairbanks, AK                                               ",
         "marker": {
          "color": "#FFA15A",
          "symbol": "circle"
         },
         "mode": "markers",
         "name": "Fairbanks, AK                                               ",
         "showlegend": true,
         "type": "scattergl",
         "x": [
          2023,
          2022,
          2021,
          2020,
          2019
         ],
         "xaxis": "x",
         "y": [
          49,
          27,
          36,
          19,
          22
         ],
         "yaxis": "y"
        },
        {
         "hovertemplate": "<b>%{hovertext}</b><br><br>Name=Fargo, ND-MN                                                <br>Year=%{x}<br>Total=%{y}<extra></extra>",
         "hovertext": [
          "Fargo, ND-MN                                                ",
          "Fargo, ND-MN                                                ",
          "Fargo, ND-MN                                                ",
          "Fargo, ND-MN                                                ",
          "Fargo, ND-MN                                                "
         ],
         "legendgroup": "Fargo, ND-MN                                                ",
         "marker": {
          "color": "#19d3f3",
          "symbol": "circle"
         },
         "mode": "markers",
         "name": "Fargo, ND-MN                                                ",
         "showlegend": true,
         "type": "scattergl",
         "x": [
          2023,
          2022,
          2021,
          2020,
          2019
         ],
         "xaxis": "x",
         "y": [
          2106,
          2314,
          2289,
          1976,
          1425
         ],
         "yaxis": "y"
        },
        {
         "hovertemplate": "<b>%{hovertext}</b><br><br>Name=Farmington, NM                                              <br>Year=%{x}<br>Total=%{y}<extra></extra>",
         "hovertext": [
          "Farmington, NM                                              ",
          "Farmington, NM                                              ",
          "Farmington, NM                                              ",
          "Farmington, NM                                              ",
          "Farmington, NM                                              "
         ],
         "legendgroup": "Farmington, NM                                              ",
         "marker": {
          "color": "#FF6692",
          "symbol": "circle"
         },
         "mode": "markers",
         "name": "Farmington, NM                                              ",
         "showlegend": true,
         "type": "scattergl",
         "x": [
          2023,
          2022,
          2021,
          2020,
          2019
         ],
         "xaxis": "x",
         "y": [
          117,
          143,
          97,
          98,
          89
         ],
         "yaxis": "y"
        },
        {
         "hovertemplate": "<b>%{hovertext}</b><br><br>Name=Fayetteville, NC                                            <br>Year=%{x}<br>Total=%{y}<extra></extra>",
         "hovertext": [
          "Fayetteville, NC                                            ",
          "Fayetteville, NC                                            ",
          "Fayetteville, NC                                            ",
          "Fayetteville, NC                                            ",
          "Fayetteville, NC                                            "
         ],
         "legendgroup": "Fayetteville, NC                                            ",
         "marker": {
          "color": "#B6E880",
          "symbol": "circle"
         },
         "mode": "markers",
         "name": "Fayetteville, NC                                            ",
         "showlegend": true,
         "type": "scattergl",
         "x": [
          2023,
          2022,
          2021,
          2020,
          2019
         ],
         "xaxis": "x",
         "y": [
          2547,
          2483,
          2307,
          1960,
          1839
         ],
         "yaxis": "y"
        },
        {
         "hovertemplate": "<b>%{hovertext}</b><br><br>Name=Fayetteville-Springdale-Rogers, AR-MO                       <br>Year=%{x}<br>Total=%{y}<extra></extra>",
         "hovertext": [
          "Fayetteville-Springdale-Rogers, AR-MO                       ",
          "Fayetteville-Springdale-Rogers, AR-MO                       ",
          "Fayetteville-Springdale-Rogers, AR-MO                       ",
          "Fayetteville-Springdale-Rogers, AR-MO                       ",
          "Fayetteville-Springdale-Rogers, AR-MO                       "
         ],
         "legendgroup": "Fayetteville-Springdale-Rogers, AR-MO                       ",
         "marker": {
          "color": "#FF97FF",
          "symbol": "circle"
         },
         "mode": "markers",
         "name": "Fayetteville-Springdale-Rogers, AR-MO                       ",
         "showlegend": true,
         "type": "scattergl",
         "x": [
          2023,
          2022,
          2021,
          2020,
          2019
         ],
         "xaxis": "x",
         "y": [
          6865,
          7246,
          7120,
          6365,
          6905
         ],
         "yaxis": "y"
        },
        {
         "hovertemplate": "<b>%{hovertext}</b><br><br>Name=Flagstaff, AZ                                               <br>Year=%{x}<br>Total=%{y}<extra></extra>",
         "hovertext": [
          "Flagstaff, AZ                                               ",
          "Flagstaff, AZ                                               ",
          "Flagstaff, AZ                                               ",
          "Flagstaff, AZ                                               ",
          "Flagstaff, AZ                                               "
         ],
         "legendgroup": "Flagstaff, AZ                                               ",
         "marker": {
          "color": "#FECB52",
          "symbol": "circle"
         },
         "mode": "markers",
         "name": "Flagstaff, AZ                                               ",
         "showlegend": true,
         "type": "scattergl",
         "x": [
          2023,
          2022,
          2021,
          2020,
          2019
         ],
         "xaxis": "x",
         "y": [
          1132,
          738,
          1051,
          941,
          728
         ],
         "yaxis": "y"
        },
        {
         "hovertemplate": "<b>%{hovertext}</b><br><br>Name=Flint, MI                                                   <br>Year=%{x}<br>Total=%{y}<extra></extra>",
         "hovertext": [
          "Flint, MI                                                   ",
          "Flint, MI                                                   ",
          "Flint, MI                                                   ",
          "Flint, MI                                                   ",
          "Flint, MI                                                   "
         ],
         "legendgroup": "Flint, MI                                                   ",
         "marker": {
          "color": "#636efa",
          "symbol": "circle"
         },
         "mode": "markers",
         "name": "Flint, MI                                                   ",
         "showlegend": true,
         "type": "scattergl",
         "x": [
          2023,
          2022,
          2021,
          2020,
          2019
         ],
         "xaxis": "x",
         "y": [
          393,
          410,
          510,
          485,
          576
         ],
         "yaxis": "y"
        },
        {
         "hovertemplate": "<b>%{hovertext}</b><br><br>Name=Florence, SC                                                <br>Year=%{x}<br>Total=%{y}<extra></extra>",
         "hovertext": [
          "Florence, SC                                                ",
          "Florence, SC                                                ",
          "Florence, SC                                                ",
          "Florence, SC                                                ",
          "Florence, SC                                                "
         ],
         "legendgroup": "Florence, SC                                                ",
         "marker": {
          "color": "#EF553B",
          "symbol": "circle"
         },
         "mode": "markers",
         "name": "Florence, SC                                                ",
         "showlegend": true,
         "type": "scattergl",
         "x": [
          2023,
          2022,
          2021,
          2020,
          2019
         ],
         "xaxis": "x",
         "y": [
          716,
          759,
          766,
          764,
          1129
         ],
         "yaxis": "y"
        },
        {
         "hovertemplate": "<b>%{hovertext}</b><br><br>Name=Florence-Muscle Shoals, AL                                  <br>Year=%{x}<br>Total=%{y}<extra></extra>",
         "hovertext": [
          "Florence-Muscle Shoals, AL                                  ",
          "Florence-Muscle Shoals, AL                                  ",
          "Florence-Muscle Shoals, AL                                  ",
          "Florence-Muscle Shoals, AL                                  ",
          "Florence-Muscle Shoals, AL                                  "
         ],
         "legendgroup": "Florence-Muscle Shoals, AL                                  ",
         "marker": {
          "color": "#00cc96",
          "symbol": "circle"
         },
         "mode": "markers",
         "name": "Florence-Muscle Shoals, AL                                  ",
         "showlegend": true,
         "type": "scattergl",
         "x": [
          2023,
          2022,
          2021,
          2020,
          2019
         ],
         "xaxis": "x",
         "y": [
          196,
          274,
          359,
          296,
          281
         ],
         "yaxis": "y"
        },
        {
         "hovertemplate": "<b>%{hovertext}</b><br><br>Name=Fond du Lac, WI                                             <br>Year=%{x}<br>Total=%{y}<extra></extra>",
         "hovertext": [
          "Fond du Lac, WI                                             ",
          "Fond du Lac, WI                                             ",
          "Fond du Lac, WI                                             ",
          "Fond du Lac, WI                                             ",
          "Fond du Lac, WI                                             "
         ],
         "legendgroup": "Fond du Lac, WI                                             ",
         "marker": {
          "color": "#ab63fa",
          "symbol": "circle"
         },
         "mode": "markers",
         "name": "Fond du Lac, WI                                             ",
         "showlegend": true,
         "type": "scattergl",
         "x": [
          2023,
          2022,
          2021,
          2020,
          2019
         ],
         "xaxis": "x",
         "y": [
          114,
          142,
          235,
          148,
          255
         ],
         "yaxis": "y"
        },
        {
         "hovertemplate": "<b>%{hovertext}</b><br><br>Name=Fort Collins, CO                                            <br>Year=%{x}<br>Total=%{y}<extra></extra>",
         "hovertext": [
          "Fort Collins, CO                                            ",
          "Fort Collins, CO                                            ",
          "Fort Collins, CO                                            ",
          "Fort Collins, CO                                            ",
          "Fort Collins, CO                                            "
         ],
         "legendgroup": "Fort Collins, CO                                            ",
         "marker": {
          "color": "#FFA15A",
          "symbol": "circle"
         },
         "mode": "markers",
         "name": "Fort Collins, CO                                            ",
         "showlegend": true,
         "type": "scattergl",
         "x": [
          2023,
          2022,
          2021,
          2020,
          2019
         ],
         "xaxis": "x",
         "y": [
          2681,
          2572,
          3221,
          2565,
          2490
         ],
         "yaxis": "y"
        },
        {
         "hovertemplate": "<b>%{hovertext}</b><br><br>Name=Fort Smith, AR-OK                                           <br>Year=%{x}<br>Total=%{y}<extra></extra>",
         "hovertext": [
          "Fort Smith, AR-OK                                           ",
          "Fort Smith, AR-OK                                           ",
          "Fort Smith, AR-OK                                           ",
          "Fort Smith, AR-OK                                           ",
          "Fort Smith, AR-OK                                           "
         ],
         "legendgroup": "Fort Smith, AR-OK                                           ",
         "marker": {
          "color": "#19d3f3",
          "symbol": "circle"
         },
         "mode": "markers",
         "name": "Fort Smith, AR-OK                                           ",
         "showlegend": true,
         "type": "scattergl",
         "x": [
          2023,
          2022,
          2021,
          2020,
          2019
         ],
         "xaxis": "x",
         "y": [
          681,
          732,
          662,
          655,
          609
         ],
         "yaxis": "y"
        },
        {
         "hovertemplate": "<b>%{hovertext}</b><br><br>Name=Fort Wayne, IN                                              <br>Year=%{x}<br>Total=%{y}<extra></extra>",
         "hovertext": [
          "Fort Wayne, IN                                              ",
          "Fort Wayne, IN                                              ",
          "Fort Wayne, IN                                              ",
          "Fort Wayne, IN                                              ",
          "Fort Wayne, IN                                              "
         ],
         "legendgroup": "Fort Wayne, IN                                              ",
         "marker": {
          "color": "#FF6692",
          "symbol": "circle"
         },
         "mode": "markers",
         "name": "Fort Wayne, IN                                              ",
         "showlegend": true,
         "type": "scattergl",
         "x": [
          2023,
          2022,
          2021,
          2020,
          2019
         ],
         "xaxis": "x",
         "y": [
          2493,
          2335,
          1978,
          1786,
          1956
         ],
         "yaxis": "y"
        },
        {
         "hovertemplate": "<b>%{hovertext}</b><br><br>Name=Fresno, CA                                                  <br>Year=%{x}<br>Total=%{y}<extra></extra>",
         "hovertext": [
          "Fresno, CA                                                  ",
          "Fresno, CA                                                  ",
          "Fresno, CA                                                  ",
          "Fresno, CA                                                  ",
          "Fresno, CA                                                  "
         ],
         "legendgroup": "Fresno, CA                                                  ",
         "marker": {
          "color": "#B6E880",
          "symbol": "circle"
         },
         "mode": "markers",
         "name": "Fresno, CA                                                  ",
         "showlegend": true,
         "type": "scattergl",
         "x": [
          2023,
          2022,
          2021,
          2020,
          2019
         ],
         "xaxis": "x",
         "y": [
          3223,
          3662,
          3902,
          3130,
          3393
         ],
         "yaxis": "y"
        },
        {
         "hovertemplate": "<b>%{hovertext}</b><br><br>Name=Gadsden, AL                                                 <br>Year=%{x}<br>Total=%{y}<extra></extra>",
         "hovertext": [
          "Gadsden, AL                                                 ",
          "Gadsden, AL                                                 ",
          "Gadsden, AL                                                 ",
          "Gadsden, AL                                                 ",
          "Gadsden, AL                                                 "
         ],
         "legendgroup": "Gadsden, AL                                                 ",
         "marker": {
          "color": "#FF97FF",
          "symbol": "circle"
         },
         "mode": "markers",
         "name": "Gadsden, AL                                                 ",
         "showlegend": true,
         "type": "scattergl",
         "x": [
          2023,
          2022,
          2021,
          2020,
          2019
         ],
         "xaxis": "x",
         "y": [
          122,
          157,
          188,
          113,
          71
         ],
         "yaxis": "y"
        },
        {
         "hovertemplate": "<b>%{hovertext}</b><br><br>Name=Gainesville, FL                                             <br>Year=%{x}<br>Total=%{y}<extra></extra>",
         "hovertext": [
          "Gainesville, FL                                             ",
          "Gainesville, FL                                             ",
          "Gainesville, FL                                             ",
          "Gainesville, FL                                             ",
          "Gainesville, FL                                             "
         ],
         "legendgroup": "Gainesville, FL                                             ",
         "marker": {
          "color": "#FECB52",
          "symbol": "circle"
         },
         "mode": "markers",
         "name": "Gainesville, FL                                             ",
         "showlegend": true,
         "type": "scattergl",
         "x": [
          2023,
          2022,
          2021,
          2020,
          2019
         ],
         "xaxis": "x",
         "y": [
          2267,
          3137,
          2743,
          2080,
          2567
         ],
         "yaxis": "y"
        },
        {
         "hovertemplate": "<b>%{hovertext}</b><br><br>Name=Gainesville, GA                                             <br>Year=%{x}<br>Total=%{y}<extra></extra>",
         "hovertext": [
          "Gainesville, GA                                             ",
          "Gainesville, GA                                             ",
          "Gainesville, GA                                             ",
          "Gainesville, GA                                             ",
          "Gainesville, GA                                             "
         ],
         "legendgroup": "Gainesville, GA                                             ",
         "marker": {
          "color": "#636efa",
          "symbol": "circle"
         },
         "mode": "markers",
         "name": "Gainesville, GA                                             ",
         "showlegend": true,
         "type": "scattergl",
         "x": [
          2023,
          2022,
          2021,
          2020,
          2019
         ],
         "xaxis": "x",
         "y": [
          1326,
          2067,
          2249,
          1706,
          1479
         ],
         "yaxis": "y"
        },
        {
         "hovertemplate": "<b>%{hovertext}</b><br><br>Name=Gettysburg, PA                                              <br>Year=%{x}<br>Total=%{y}<extra></extra>",
         "hovertext": [
          "Gettysburg, PA                                              ",
          "Gettysburg, PA                                              ",
          "Gettysburg, PA                                              ",
          "Gettysburg, PA                                              ",
          "Gettysburg, PA                                              "
         ],
         "legendgroup": "Gettysburg, PA                                              ",
         "marker": {
          "color": "#EF553B",
          "symbol": "circle"
         },
         "mode": "markers",
         "name": "Gettysburg, PA                                              ",
         "showlegend": true,
         "type": "scattergl",
         "x": [
          2023,
          2022,
          2021,
          2020,
          2019
         ],
         "xaxis": "x",
         "y": [
          338,
          394,
          438,
          226,
          220
         ],
         "yaxis": "y"
        },
        {
         "hovertemplate": "<b>%{hovertext}</b><br><br>Name=Glens Falls, NY                                             <br>Year=%{x}<br>Total=%{y}<extra></extra>",
         "hovertext": [
          "Glens Falls, NY                                             ",
          "Glens Falls, NY                                             ",
          "Glens Falls, NY                                             ",
          "Glens Falls, NY                                             ",
          "Glens Falls, NY                                             "
         ],
         "legendgroup": "Glens Falls, NY                                             ",
         "marker": {
          "color": "#00cc96",
          "symbol": "circle"
         },
         "mode": "markers",
         "name": "Glens Falls, NY                                             ",
         "showlegend": true,
         "type": "scattergl",
         "x": [
          2023,
          2022,
          2021,
          2020,
          2019
         ],
         "xaxis": "x",
         "y": [
          232,
          292,
          384,
          306,
          241
         ],
         "yaxis": "y"
        },
        {
         "hovertemplate": "<b>%{hovertext}</b><br><br>Name=Goldsboro, NC                                               <br>Year=%{x}<br>Total=%{y}<extra></extra>",
         "hovertext": [
          "Goldsboro, NC                                               ",
          "Goldsboro, NC                                               ",
          "Goldsboro, NC                                               ",
          "Goldsboro, NC                                               ",
          "Goldsboro, NC                                               "
         ],
         "legendgroup": "Goldsboro, NC                                               ",
         "marker": {
          "color": "#ab63fa",
          "symbol": "circle"
         },
         "mode": "markers",
         "name": "Goldsboro, NC                                               ",
         "showlegend": true,
         "type": "scattergl",
         "x": [
          2023,
          2022,
          2021,
          2020,
          2019
         ],
         "xaxis": "x",
         "y": [
          538,
          418,
          482,
          414,
          323
         ],
         "yaxis": "y"
        },
        {
         "hovertemplate": "<b>%{hovertext}</b><br><br>Name=Grand Forks, ND-MN                                          <br>Year=%{x}<br>Total=%{y}<extra></extra>",
         "hovertext": [
          "Grand Forks, ND-MN                                          ",
          "Grand Forks, ND-MN                                          ",
          "Grand Forks, ND-MN                                          ",
          "Grand Forks, ND-MN                                          ",
          "Grand Forks, ND-MN                                          "
         ],
         "legendgroup": "Grand Forks, ND-MN                                          ",
         "marker": {
          "color": "#FFA15A",
          "symbol": "circle"
         },
         "mode": "markers",
         "name": "Grand Forks, ND-MN                                          ",
         "showlegend": true,
         "type": "scattergl",
         "x": [
          2023,
          2022,
          2021,
          2020,
          2019
         ],
         "xaxis": "x",
         "y": [
          163,
          165,
          227,
          488,
          195
         ],
         "yaxis": "y"
        },
        {
         "hovertemplate": "<b>%{hovertext}</b><br><br>Name=Grand Island, NE                                            <br>Year=%{x}<br>Total=%{y}<extra></extra>",
         "hovertext": [
          "Grand Island, NE                                            ",
          "Grand Island, NE                                            ",
          "Grand Island, NE                                            ",
          "Grand Island, NE                                            ",
          "Grand Island, NE                                            "
         ],
         "legendgroup": "Grand Island, NE                                            ",
         "marker": {
          "color": "#19d3f3",
          "symbol": "circle"
         },
         "mode": "markers",
         "name": "Grand Island, NE                                            ",
         "showlegend": true,
         "type": "scattergl",
         "x": [
          2023,
          2022,
          2021,
          2020,
          2019
         ],
         "xaxis": "x",
         "y": [
          399,
          234,
          305,
          271,
          177
         ],
         "yaxis": "y"
        },
        {
         "hovertemplate": "<b>%{hovertext}</b><br><br>Name=Grand Junction, CO                                          <br>Year=%{x}<br>Total=%{y}<extra></extra>",
         "hovertext": [
          "Grand Junction, CO                                          ",
          "Grand Junction, CO                                          ",
          "Grand Junction, CO                                          ",
          "Grand Junction, CO                                          ",
          "Grand Junction, CO                                          "
         ],
         "legendgroup": "Grand Junction, CO                                          ",
         "marker": {
          "color": "#FF6692",
          "symbol": "circle"
         },
         "mode": "markers",
         "name": "Grand Junction, CO                                          ",
         "showlegend": true,
         "type": "scattergl",
         "x": [
          2023,
          2022,
          2021,
          2020,
          2019
         ],
         "xaxis": "x",
         "y": [
          1206,
          969,
          1231,
          1004,
          818
         ],
         "yaxis": "y"
        },
        {
         "hovertemplate": "<b>%{hovertext}</b><br><br>Name=Grand Rapids-Kentwood, MI                                   <br>Year=%{x}<br>Total=%{y}<extra></extra>",
         "hovertext": [
          "Grand Rapids-Kentwood, MI                                   ",
          "Grand Rapids-Kentwood, MI                                   ",
          "Grand Rapids-Kentwood, MI                                   ",
          "Grand Rapids-Kentwood, MI                                   ",
          "Grand Rapids-Kentwood, MI                                   "
         ],
         "legendgroup": "Grand Rapids-Kentwood, MI                                   ",
         "marker": {
          "color": "#B6E880",
          "symbol": "circle"
         },
         "mode": "markers",
         "name": "Grand Rapids-Kentwood, MI                                   ",
         "showlegend": true,
         "type": "scattergl",
         "x": [
          2023,
          2022,
          2021,
          2020,
          2019
         ],
         "xaxis": "x",
         "y": [
          3716,
          4198,
          3705,
          3436,
          4155
         ],
         "yaxis": "y"
        },
        {
         "hovertemplate": "<b>%{hovertext}</b><br><br>Name=Grants Pass, OR                                             <br>Year=%{x}<br>Total=%{y}<extra></extra>",
         "hovertext": [
          "Grants Pass, OR                                             ",
          "Grants Pass, OR                                             ",
          "Grants Pass, OR                                             ",
          "Grants Pass, OR                                             ",
          "Grants Pass, OR                                             "
         ],
         "legendgroup": "Grants Pass, OR                                             ",
         "marker": {
          "color": "#FF97FF",
          "symbol": "circle"
         },
         "mode": "markers",
         "name": "Grants Pass, OR                                             ",
         "showlegend": true,
         "type": "scattergl",
         "x": [
          2023,
          2022,
          2021,
          2020,
          2019
         ],
         "xaxis": "x",
         "y": [
          209,
          338,
          333,
          316,
          231
         ],
         "yaxis": "y"
        },
        {
         "hovertemplate": "<b>%{hovertext}</b><br><br>Name=Great Falls, MT                                             <br>Year=%{x}<br>Total=%{y}<extra></extra>",
         "hovertext": [
          "Great Falls, MT                                             ",
          "Great Falls, MT                                             ",
          "Great Falls, MT                                             ",
          "Great Falls, MT                                             ",
          "Great Falls, MT                                             "
         ],
         "legendgroup": "Great Falls, MT                                             ",
         "marker": {
          "color": "#FECB52",
          "symbol": "circle"
         },
         "mode": "markers",
         "name": "Great Falls, MT                                             ",
         "showlegend": true,
         "type": "scattergl",
         "x": [
          2023,
          2022,
          2021,
          2020,
          2019
         ],
         "xaxis": "x",
         "y": [
          151,
          543,
          272,
          151,
          134
         ],
         "yaxis": "y"
        },
        {
         "hovertemplate": "<b>%{hovertext}</b><br><br>Name=Greeley, CO                                                 <br>Year=%{x}<br>Total=%{y}<extra></extra>",
         "hovertext": [
          "Greeley, CO                                                 ",
          "Greeley, CO                                                 ",
          "Greeley, CO                                                 ",
          "Greeley, CO                                                 ",
          "Greeley, CO                                                 "
         ],
         "legendgroup": "Greeley, CO                                                 ",
         "marker": {
          "color": "#636efa",
          "symbol": "circle"
         },
         "mode": "markers",
         "name": "Greeley, CO                                                 ",
         "showlegend": true,
         "type": "scattergl",
         "x": [
          2023,
          2022,
          2021,
          2020,
          2019
         ],
         "xaxis": "x",
         "y": [
          3719,
          6143,
          5268,
          4185,
          4387
         ],
         "yaxis": "y"
        },
        {
         "hovertemplate": "<b>%{hovertext}</b><br><br>Name=Green Bay, WI                                               <br>Year=%{x}<br>Total=%{y}<extra></extra>",
         "hovertext": [
          "Green Bay, WI                                               ",
          "Green Bay, WI                                               ",
          "Green Bay, WI                                               ",
          "Green Bay, WI                                               ",
          "Green Bay, WI                                               "
         ],
         "legendgroup": "Green Bay, WI                                               ",
         "marker": {
          "color": "#EF553B",
          "symbol": "circle"
         },
         "mode": "markers",
         "name": "Green Bay, WI                                               ",
         "showlegend": true,
         "type": "scattergl",
         "x": [
          2023,
          2022,
          2021,
          2020,
          2019
         ],
         "xaxis": "x",
         "y": [
          1050,
          1249,
          1408,
          1433,
          1130
         ],
         "yaxis": "y"
        },
        {
         "hovertemplate": "<b>%{hovertext}</b><br><br>Name=Greensboro-High Point, NC                                   <br>Year=%{x}<br>Total=%{y}<extra></extra>",
         "hovertext": [
          "Greensboro-High Point, NC                                   ",
          "Greensboro-High Point, NC                                   ",
          "Greensboro-High Point, NC                                   ",
          "Greensboro-High Point, NC                                   ",
          "Greensboro-High Point, NC                                   "
         ],
         "legendgroup": "Greensboro-High Point, NC                                   ",
         "marker": {
          "color": "#00cc96",
          "symbol": "circle"
         },
         "mode": "markers",
         "name": "Greensboro-High Point, NC                                   ",
         "showlegend": true,
         "type": "scattergl",
         "x": [
          2023,
          2022,
          2021,
          2020,
          2019
         ],
         "xaxis": "x",
         "y": [
          3493,
          2993,
          3964,
          3147,
          2423
         ],
         "yaxis": "y"
        },
        {
         "hovertemplate": "<b>%{hovertext}</b><br><br>Name=Greenville, NC                                              <br>Year=%{x}<br>Total=%{y}<extra></extra>",
         "hovertext": [
          "Greenville, NC                                              ",
          "Greenville, NC                                              ",
          "Greenville, NC                                              ",
          "Greenville, NC                                              ",
          "Greenville, NC                                              "
         ],
         "legendgroup": "Greenville, NC                                              ",
         "marker": {
          "color": "#ab63fa",
          "symbol": "circle"
         },
         "mode": "markers",
         "name": "Greenville, NC                                              ",
         "showlegend": true,
         "type": "scattergl",
         "x": [
          2023,
          2022,
          2021,
          2020,
          2019
         ],
         "xaxis": "x",
         "y": [
          1369,
          928,
          1275,
          719,
          1030
         ],
         "yaxis": "y"
        },
        {
         "hovertemplate": "<b>%{hovertext}</b><br><br>Name=Greenville-Anderson, SC                                     <br>Year=%{x}<br>Total=%{y}<extra></extra>",
         "hovertext": [
          "Greenville-Anderson, SC                                     ",
          "Greenville-Anderson, SC                                     ",
          "Greenville-Anderson, SC                                     ",
          "Greenville-Anderson, SC                                     ",
          "Greenville-Anderson, SC                                     "
         ],
         "legendgroup": "Greenville-Anderson, SC                                     ",
         "marker": {
          "color": "#FFA15A",
          "symbol": "circle"
         },
         "mode": "markers",
         "name": "Greenville-Anderson, SC                                     ",
         "showlegend": true,
         "type": "scattergl",
         "x": [
          2023,
          2022,
          2021,
          2020,
          2019
         ],
         "xaxis": "x",
         "y": [
          7728,
          8244,
          10604,
          8734,
          6563
         ],
         "yaxis": "y"
        },
        {
         "hovertemplate": "<b>%{hovertext}</b><br><br>Name=Gulfport-Biloxi, MS                                         <br>Year=%{x}<br>Total=%{y}<extra></extra>",
         "hovertext": [
          "Gulfport-Biloxi, MS                                         ",
          "Gulfport-Biloxi, MS                                         ",
          "Gulfport-Biloxi, MS                                         ",
          "Gulfport-Biloxi, MS                                         ",
          "Gulfport-Biloxi, MS                                         "
         ],
         "legendgroup": "Gulfport-Biloxi, MS                                         ",
         "marker": {
          "color": "#19d3f3",
          "symbol": "circle"
         },
         "mode": "markers",
         "name": "Gulfport-Biloxi, MS                                         ",
         "showlegend": true,
         "type": "scattergl",
         "x": [
          2023,
          2022,
          2021,
          2020,
          2019
         ],
         "xaxis": "x",
         "y": [
          3036,
          2903,
          2769,
          3021,
          2256
         ],
         "yaxis": "y"
        },
        {
         "hovertemplate": "<b>%{hovertext}</b><br><br>Name=Hagerstown-Martinsburg, MD-WV                               <br>Year=%{x}<br>Total=%{y}<extra></extra>",
         "hovertext": [
          "Hagerstown-Martinsburg, MD-WV                               ",
          "Hagerstown-Martinsburg, MD-WV                               ",
          "Hagerstown-Martinsburg, MD-WV                               ",
          "Hagerstown-Martinsburg, MD-WV                               ",
          "Hagerstown-Martinsburg, MD-WV                               "
         ],
         "legendgroup": "Hagerstown-Martinsburg, MD-WV                               ",
         "marker": {
          "color": "#FF6692",
          "symbol": "circle"
         },
         "mode": "markers",
         "name": "Hagerstown-Martinsburg, MD-WV                               ",
         "showlegend": true,
         "type": "scattergl",
         "x": [
          2023,
          2022,
          2021,
          2020,
          2019
         ],
         "xaxis": "x",
         "y": [
          1753,
          2148,
          1768,
          1742,
          1565
         ],
         "yaxis": "y"
        },
        {
         "hovertemplate": "<b>%{hovertext}</b><br><br>Name=Hammond, LA                                                 <br>Year=%{x}<br>Total=%{y}<extra></extra>",
         "hovertext": [
          "Hammond, LA                                                 ",
          "Hammond, LA                                                 ",
          "Hammond, LA                                                 ",
          "Hammond, LA                                                 ",
          "Hammond, LA                                                 "
         ],
         "legendgroup": "Hammond, LA                                                 ",
         "marker": {
          "color": "#B6E880",
          "symbol": "circle"
         },
         "mode": "markers",
         "name": "Hammond, LA                                                 ",
         "showlegend": true,
         "type": "scattergl",
         "x": [
          2023,
          2022,
          2021,
          2020,
          2019
         ],
         "xaxis": "x",
         "y": [
          1213,
          1458,
          1508,
          1577,
          988
         ],
         "yaxis": "y"
        },
        {
         "hovertemplate": "<b>%{hovertext}</b><br><br>Name=Hanford-Corcoran, CA                                        <br>Year=%{x}<br>Total=%{y}<extra></extra>",
         "hovertext": [
          "Hanford-Corcoran, CA                                        ",
          "Hanford-Corcoran, CA                                        ",
          "Hanford-Corcoran, CA                                        ",
          "Hanford-Corcoran, CA                                        ",
          "Hanford-Corcoran, CA                                        "
         ],
         "legendgroup": "Hanford-Corcoran, CA                                        ",
         "marker": {
          "color": "#FF97FF",
          "symbol": "circle"
         },
         "mode": "markers",
         "name": "Hanford-Corcoran, CA                                        ",
         "showlegend": true,
         "type": "scattergl",
         "x": [
          2023,
          2022,
          2021,
          2020,
          2019
         ],
         "xaxis": "x",
         "y": [
          747,
          436,
          508,
          306,
          409
         ],
         "yaxis": "y"
        },
        {
         "hovertemplate": "<b>%{hovertext}</b><br><br>Name=Harrisburg-Carlisle, PA                                     <br>Year=%{x}<br>Total=%{y}<extra></extra>",
         "hovertext": [
          "Harrisburg-Carlisle, PA                                     ",
          "Harrisburg-Carlisle, PA                                     ",
          "Harrisburg-Carlisle, PA                                     ",
          "Harrisburg-Carlisle, PA                                     ",
          "Harrisburg-Carlisle, PA                                     "
         ],
         "legendgroup": "Harrisburg-Carlisle, PA                                     ",
         "marker": {
          "color": "#FECB52",
          "symbol": "circle"
         },
         "mode": "markers",
         "name": "Harrisburg-Carlisle, PA                                     ",
         "showlegend": true,
         "type": "scattergl",
         "x": [
          2023,
          2022,
          2021,
          2020,
          2019
         ],
         "xaxis": "x",
         "y": [
          1883,
          2711,
          1542,
          1460,
          2018
         ],
         "yaxis": "y"
        },
        {
         "hovertemplate": "<b>%{hovertext}</b><br><br>Name=Harrisonburg, VA                                            <br>Year=%{x}<br>Total=%{y}<extra></extra>",
         "hovertext": [
          "Harrisonburg, VA                                            ",
          "Harrisonburg, VA                                            ",
          "Harrisonburg, VA                                            ",
          "Harrisonburg, VA                                            ",
          "Harrisonburg, VA                                            "
         ],
         "legendgroup": "Harrisonburg, VA                                            ",
         "marker": {
          "color": "#636efa",
          "symbol": "circle"
         },
         "mode": "markers",
         "name": "Harrisonburg, VA                                            ",
         "showlegend": true,
         "type": "scattergl",
         "x": [
          2023,
          2022,
          2021,
          2020,
          2019
         ],
         "xaxis": "x",
         "y": [
          595,
          710,
          655,
          596,
          361
         ],
         "yaxis": "y"
        },
        {
         "hovertemplate": "<b>%{hovertext}</b><br><br>Name=Hartford-East Hartford-Middletown, CT                       <br>Year=%{x}<br>Total=%{y}<extra></extra>",
         "hovertext": [
          "Hartford-East Hartford-Middletown, CT                       ",
          "Hartford-East Hartford-Middletown, CT                       ",
          "Hartford-East Hartford-Middletown, CT                       ",
          "Hartford-East Hartford-Middletown, CT                       ",
          "Hartford-East Hartford-Middletown, CT                       "
         ],
         "legendgroup": "Hartford-East Hartford-Middletown, CT                       ",
         "marker": {
          "color": "#EF553B",
          "symbol": "circle"
         },
         "mode": "markers",
         "name": "Hartford-East Hartford-Middletown, CT                       ",
         "showlegend": true,
         "type": "scattergl",
         "x": [
          2023,
          2022,
          2021,
          2020,
          2019
         ],
         "xaxis": "x",
         "y": [
          1919,
          1917,
          1508,
          1399,
          1263
         ],
         "yaxis": "y"
        },
        {
         "hovertemplate": "<b>%{hovertext}</b><br><br>Name=Hattiesburg, MS                                             <br>Year=%{x}<br>Total=%{y}<extra></extra>",
         "hovertext": [
          "Hattiesburg, MS                                             ",
          "Hattiesburg, MS                                             ",
          "Hattiesburg, MS                                             ",
          "Hattiesburg, MS                                             ",
          "Hattiesburg, MS                                             "
         ],
         "legendgroup": "Hattiesburg, MS                                             ",
         "marker": {
          "color": "#00cc96",
          "symbol": "circle"
         },
         "mode": "markers",
         "name": "Hattiesburg, MS                                             ",
         "showlegend": true,
         "type": "scattergl",
         "x": [
          2023,
          2022,
          2021,
          2020,
          2019
         ],
         "xaxis": "x",
         "y": [
          133,
          154,
          153,
          144,
          138
         ],
         "yaxis": "y"
        },
        {
         "hovertemplate": "<b>%{hovertext}</b><br><br>Name=Hickory-Lenoir-Morganton, NC                                <br>Year=%{x}<br>Total=%{y}<extra></extra>",
         "hovertext": [
          "Hickory-Lenoir-Morganton, NC                                ",
          "Hickory-Lenoir-Morganton, NC                                ",
          "Hickory-Lenoir-Morganton, NC                                ",
          "Hickory-Lenoir-Morganton, NC                                ",
          "Hickory-Lenoir-Morganton, NC                                "
         ],
         "legendgroup": "Hickory-Lenoir-Morganton, NC                                ",
         "marker": {
          "color": "#ab63fa",
          "symbol": "circle"
         },
         "mode": "markers",
         "name": "Hickory-Lenoir-Morganton, NC                                ",
         "showlegend": true,
         "type": "scattergl",
         "x": [
          2023,
          2022,
          2021,
          2020,
          2019
         ],
         "xaxis": "x",
         "y": [
          2379,
          2637,
          1880,
          1567,
          1308
         ],
         "yaxis": "y"
        },
        {
         "hovertemplate": "<b>%{hovertext}</b><br><br>Name=Hilton Head Island-Bluffton, SC                             <br>Year=%{x}<br>Total=%{y}<extra></extra>",
         "hovertext": [
          "Hilton Head Island-Bluffton, SC                             ",
          "Hilton Head Island-Bluffton, SC                             ",
          "Hilton Head Island-Bluffton, SC                             ",
          "Hilton Head Island-Bluffton, SC                             ",
          "Hilton Head Island-Bluffton, SC                             "
         ],
         "legendgroup": "Hilton Head Island-Bluffton, SC                             ",
         "marker": {
          "color": "#FFA15A",
          "symbol": "circle"
         },
         "mode": "markers",
         "name": "Hilton Head Island-Bluffton, SC                             ",
         "showlegend": true,
         "type": "scattergl",
         "x": [
          2023,
          2022,
          2021,
          2020,
          2019
         ],
         "xaxis": "x",
         "y": [
          2978,
          2951,
          3698,
          2977,
          2886
         ],
         "yaxis": "y"
        },
        {
         "hovertemplate": "<b>%{hovertext}</b><br><br>Name=Hinesville, GA                                              <br>Year=%{x}<br>Total=%{y}<extra></extra>",
         "hovertext": [
          "Hinesville, GA                                              ",
          "Hinesville, GA                                              ",
          "Hinesville, GA                                              ",
          "Hinesville, GA                                              ",
          "Hinesville, GA                                              "
         ],
         "legendgroup": "Hinesville, GA                                              ",
         "marker": {
          "color": "#19d3f3",
          "symbol": "circle"
         },
         "mode": "markers",
         "name": "Hinesville, GA                                              ",
         "showlegend": true,
         "type": "scattergl",
         "x": [
          2023,
          2022,
          2021,
          2020,
          2019
         ],
         "xaxis": "x",
         "y": [
          711,
          844,
          837,
          721,
          959
         ],
         "yaxis": "y"
        },
        {
         "hovertemplate": "<b>%{hovertext}</b><br><br>Name=Homosassa Springs, FL                                       <br>Year=%{x}<br>Total=%{y}<extra></extra>",
         "hovertext": [
          "Homosassa Springs, FL                                       ",
          "Homosassa Springs, FL                                       ",
          "Homosassa Springs, FL                                       ",
          "Homosassa Springs, FL                                       ",
          "Homosassa Springs, FL                                       "
         ],
         "legendgroup": "Homosassa Springs, FL                                       ",
         "marker": {
          "color": "#FF6692",
          "symbol": "circle"
         },
         "mode": "markers",
         "name": "Homosassa Springs, FL                                       ",
         "showlegend": true,
         "type": "scattergl",
         "x": [
          2023,
          2022,
          2021,
          2020,
          2019
         ],
         "xaxis": "x",
         "y": [
          1580,
          1628,
          1983,
          927,
          865
         ],
         "yaxis": "y"
        },
        {
         "hovertemplate": "<b>%{hovertext}</b><br><br>Name=Hot Springs, AR                                             <br>Year=%{x}<br>Total=%{y}<extra></extra>",
         "hovertext": [
          "Hot Springs, AR                                             ",
          "Hot Springs, AR                                             ",
          "Hot Springs, AR                                             ",
          "Hot Springs, AR                                             ",
          "Hot Springs, AR                                             "
         ],
         "legendgroup": "Hot Springs, AR                                             ",
         "marker": {
          "color": "#B6E880",
          "symbol": "circle"
         },
         "mode": "markers",
         "name": "Hot Springs, AR                                             ",
         "showlegend": true,
         "type": "scattergl",
         "x": [
          2023,
          2022,
          2021,
          2020,
          2019
         ],
         "xaxis": "x",
         "y": [
          76,
          99,
          330,
          88,
          118
         ],
         "yaxis": "y"
        },
        {
         "hovertemplate": "<b>%{hovertext}</b><br><br>Name=Houma-Thibodaux, LA                                         <br>Year=%{x}<br>Total=%{y}<extra></extra>",
         "hovertext": [
          "Houma-Thibodaux, LA                                         ",
          "Houma-Thibodaux, LA                                         ",
          "Houma-Thibodaux, LA                                         ",
          "Houma-Thibodaux, LA                                         ",
          "Houma-Thibodaux, LA                                         "
         ],
         "legendgroup": "Houma-Thibodaux, LA                                         ",
         "marker": {
          "color": "#FF97FF",
          "symbol": "circle"
         },
         "mode": "markers",
         "name": "Houma-Thibodaux, LA                                         ",
         "showlegend": true,
         "type": "scattergl",
         "x": [
          2023,
          2022,
          2021,
          2020,
          2019
         ],
         "xaxis": "x",
         "y": [
          615,
          872,
          587,
          547,
          521
         ],
         "yaxis": "y"
        },
        {
         "hovertemplate": "<b>%{hovertext}</b><br><br>Name=Houston-The Woodlands-Sugar Land, TX                        <br>Year=%{x}<br>Total=%{y}<extra></extra>",
         "hovertext": [
          "Houston-The Woodlands-Sugar Land, TX                        ",
          "Houston-The Woodlands-Sugar Land, TX                        ",
          "Houston-The Woodlands-Sugar Land, TX                        ",
          "Houston-The Woodlands-Sugar Land, TX                        ",
          "Houston-The Woodlands-Sugar Land, TX                        "
         ],
         "legendgroup": "Houston-The Woodlands-Sugar Land, TX                        ",
         "marker": {
          "color": "#FECB52",
          "symbol": "circle"
         },
         "mode": "markers",
         "name": "Houston-The Woodlands-Sugar Land, TX                        ",
         "showlegend": true,
         "type": "scattergl",
         "x": [
          2023,
          2022,
          2021,
          2020,
          2019
         ],
         "xaxis": "x",
         "y": [
          68336,
          75728,
          69263,
          70540,
          63672
         ],
         "yaxis": "y"
        },
        {
         "hovertemplate": "<b>%{hovertext}</b><br><br>Name=Huntington-Ashland, WV-KY-OH                                <br>Year=%{x}<br>Total=%{y}<extra></extra>",
         "hovertext": [
          "Huntington-Ashland, WV-KY-OH                                ",
          "Huntington-Ashland, WV-KY-OH                                ",
          "Huntington-Ashland, WV-KY-OH                                ",
          "Huntington-Ashland, WV-KY-OH                                ",
          "Huntington-Ashland, WV-KY-OH                                "
         ],
         "legendgroup": "Huntington-Ashland, WV-KY-OH                                ",
         "marker": {
          "color": "#636efa",
          "symbol": "circle"
         },
         "mode": "markers",
         "name": "Huntington-Ashland, WV-KY-OH                                ",
         "showlegend": true,
         "type": "scattergl",
         "x": [
          2023,
          2022,
          2021,
          2020,
          2019
         ],
         "xaxis": "x",
         "y": [
          261,
          255,
          305,
          254,
          253
         ],
         "yaxis": "y"
        },
        {
         "hovertemplate": "<b>%{hovertext}</b><br><br>Name=Huntsville, AL                                              <br>Year=%{x}<br>Total=%{y}<extra></extra>",
         "hovertext": [
          "Huntsville, AL                                              ",
          "Huntsville, AL                                              ",
          "Huntsville, AL                                              ",
          "Huntsville, AL                                              ",
          "Huntsville, AL                                              "
         ],
         "legendgroup": "Huntsville, AL                                              ",
         "marker": {
          "color": "#EF553B",
          "symbol": "circle"
         },
         "mode": "markers",
         "name": "Huntsville, AL                                              ",
         "showlegend": true,
         "type": "scattergl",
         "x": [
          2023,
          2022,
          2021,
          2020,
          2019
         ],
         "xaxis": "x",
         "y": [
          5943,
          4035,
          6172,
          4341,
          3566
         ],
         "yaxis": "y"
        },
        {
         "hovertemplate": "<b>%{hovertext}</b><br><br>Name=Idaho Falls, ID                                             <br>Year=%{x}<br>Total=%{y}<extra></extra>",
         "hovertext": [
          "Idaho Falls, ID                                             ",
          "Idaho Falls, ID                                             ",
          "Idaho Falls, ID                                             ",
          "Idaho Falls, ID                                             ",
          "Idaho Falls, ID                                             "
         ],
         "legendgroup": "Idaho Falls, ID                                             ",
         "marker": {
          "color": "#00cc96",
          "symbol": "circle"
         },
         "mode": "markers",
         "name": "Idaho Falls, ID                                             ",
         "showlegend": true,
         "type": "scattergl",
         "x": [
          2023,
          2022,
          2021,
          2020,
          2019
         ],
         "xaxis": "x",
         "y": [
          1774,
          1380,
          1478,
          1173,
          1096
         ],
         "yaxis": "y"
        },
        {
         "hovertemplate": "<b>%{hovertext}</b><br><br>Name=Indianapolis-Carmel-Anderson, IN                            <br>Year=%{x}<br>Total=%{y}<extra></extra>",
         "hovertext": [
          "Indianapolis-Carmel-Anderson, IN                            ",
          "Indianapolis-Carmel-Anderson, IN                            ",
          "Indianapolis-Carmel-Anderson, IN                            ",
          "Indianapolis-Carmel-Anderson, IN                            ",
          "Indianapolis-Carmel-Anderson, IN                            "
         ],
         "legendgroup": "Indianapolis-Carmel-Anderson, IN                            ",
         "marker": {
          "color": "#ab63fa",
          "symbol": "circle"
         },
         "mode": "markers",
         "name": "Indianapolis-Carmel-Anderson, IN                            ",
         "showlegend": true,
         "type": "scattergl",
         "x": [
          2023,
          2022,
          2021,
          2020,
          2019
         ],
         "xaxis": "x",
         "y": [
          12588,
          13493,
          13451,
          10998,
          9721
         ],
         "yaxis": "y"
        },
        {
         "hovertemplate": "<b>%{hovertext}</b><br><br>Name=Iowa City, IA                                               <br>Year=%{x}<br>Total=%{y}<extra></extra>",
         "hovertext": [
          "Iowa City, IA                                               ",
          "Iowa City, IA                                               ",
          "Iowa City, IA                                               ",
          "Iowa City, IA                                               ",
          "Iowa City, IA                                               "
         ],
         "legendgroup": "Iowa City, IA                                               ",
         "marker": {
          "color": "#FFA15A",
          "symbol": "circle"
         },
         "mode": "markers",
         "name": "Iowa City, IA                                               ",
         "showlegend": true,
         "type": "scattergl",
         "x": [
          2023,
          2022,
          2021,
          2020,
          2019
         ],
         "xaxis": "x",
         "y": [
          1252,
          1429,
          1167,
          1019,
          1152
         ],
         "yaxis": "y"
        },
        {
         "hovertemplate": "<b>%{hovertext}</b><br><br>Name=Ithaca, NY                                                  <br>Year=%{x}<br>Total=%{y}<extra></extra>",
         "hovertext": [
          "Ithaca, NY                                                  ",
          "Ithaca, NY                                                  ",
          "Ithaca, NY                                                  ",
          "Ithaca, NY                                                  ",
          "Ithaca, NY                                                  "
         ],
         "legendgroup": "Ithaca, NY                                                  ",
         "marker": {
          "color": "#19d3f3",
          "symbol": "circle"
         },
         "mode": "markers",
         "name": "Ithaca, NY                                                  ",
         "showlegend": true,
         "type": "scattergl",
         "x": [
          2023,
          2022,
          2021,
          2020,
          2019
         ],
         "xaxis": "x",
         "y": [
          221,
          239,
          644,
          329,
          823
         ],
         "yaxis": "y"
        },
        {
         "hovertemplate": "<b>%{hovertext}</b><br><br>Name=Jackson, MI                                                 <br>Year=%{x}<br>Total=%{y}<extra></extra>",
         "hovertext": [
          "Jackson, MI                                                 ",
          "Jackson, MI                                                 ",
          "Jackson, MI                                                 ",
          "Jackson, MI                                                 ",
          "Jackson, MI                                                 "
         ],
         "legendgroup": "Jackson, MI                                                 ",
         "marker": {
          "color": "#FF6692",
          "symbol": "circle"
         },
         "mode": "markers",
         "name": "Jackson, MI                                                 ",
         "showlegend": true,
         "type": "scattergl",
         "x": [
          2023,
          2022,
          2021,
          2020,
          2019
         ],
         "xaxis": "x",
         "y": [
          147,
          141,
          176,
          159,
          386
         ],
         "yaxis": "y"
        },
        {
         "hovertemplate": "<b>%{hovertext}</b><br><br>Name=Jackson, MS                                                 <br>Year=%{x}<br>Total=%{y}<extra></extra>",
         "hovertext": [
          "Jackson, MS                                                 ",
          "Jackson, MS                                                 ",
          "Jackson, MS                                                 ",
          "Jackson, MS                                                 ",
          "Jackson, MS                                                 "
         ],
         "legendgroup": "Jackson, MS                                                 ",
         "marker": {
          "color": "#B6E880",
          "symbol": "circle"
         },
         "mode": "markers",
         "name": "Jackson, MS                                                 ",
         "showlegend": true,
         "type": "scattergl",
         "x": [
          2023,
          2022,
          2021,
          2020,
          2019
         ],
         "xaxis": "x",
         "y": [
          1220,
          1234,
          1416,
          1178,
          1371
         ],
         "yaxis": "y"
        },
        {
         "hovertemplate": "<b>%{hovertext}</b><br><br>Name=Jackson, TN                                                 <br>Year=%{x}<br>Total=%{y}<extra></extra>",
         "hovertext": [
          "Jackson, TN                                                 ",
          "Jackson, TN                                                 ",
          "Jackson, TN                                                 ",
          "Jackson, TN                                                 ",
          "Jackson, TN                                                 "
         ],
         "legendgroup": "Jackson, TN                                                 ",
         "marker": {
          "color": "#FF97FF",
          "symbol": "circle"
         },
         "mode": "markers",
         "name": "Jackson, TN                                                 ",
         "showlegend": true,
         "type": "scattergl",
         "x": [
          2023,
          2022,
          2021,
          2020,
          2019
         ],
         "xaxis": "x",
         "y": [
          408,
          456,
          537,
          475,
          450
         ],
         "yaxis": "y"
        },
        {
         "hovertemplate": "<b>%{hovertext}</b><br><br>Name=Jacksonville, FL                                            <br>Year=%{x}<br>Total=%{y}<extra></extra>",
         "hovertext": [
          "Jacksonville, FL                                            ",
          "Jacksonville, FL                                            ",
          "Jacksonville, FL                                            ",
          "Jacksonville, FL                                            ",
          "Jacksonville, FL                                            "
         ],
         "legendgroup": "Jacksonville, FL                                            ",
         "marker": {
          "color": "#FECB52",
          "symbol": "circle"
         },
         "mode": "markers",
         "name": "Jacksonville, FL                                            ",
         "showlegend": true,
         "type": "scattergl",
         "x": [
          2023,
          2022,
          2021,
          2020,
          2019
         ],
         "xaxis": "x",
         "y": [
          20253,
          23169,
          22738,
          17246,
          14687
         ],
         "yaxis": "y"
        },
        {
         "hovertemplate": "<b>%{hovertext}</b><br><br>Name=Jacksonville, NC                                            <br>Year=%{x}<br>Total=%{y}<extra></extra>",
         "hovertext": [
          "Jacksonville, NC                                            ",
          "Jacksonville, NC                                            ",
          "Jacksonville, NC                                            ",
          "Jacksonville, NC                                            ",
          "Jacksonville, NC                                            "
         ],
         "legendgroup": "Jacksonville, NC                                            ",
         "marker": {
          "color": "#636efa",
          "symbol": "circle"
         },
         "mode": "markers",
         "name": "Jacksonville, NC                                            ",
         "showlegend": true,
         "type": "scattergl",
         "x": [
          2023,
          2022,
          2021,
          2020,
          2019
         ],
         "xaxis": "x",
         "y": [
          1419,
          1322,
          1597,
          1435,
          1331
         ],
         "yaxis": "y"
        },
        {
         "hovertemplate": "<b>%{hovertext}</b><br><br>Name=Janesville-Beloit, WI                                       <br>Year=%{x}<br>Total=%{y}<extra></extra>",
         "hovertext": [
          "Janesville-Beloit, WI                                       ",
          "Janesville-Beloit, WI                                       ",
          "Janesville-Beloit, WI                                       ",
          "Janesville-Beloit, WI                                       ",
          "Janesville-Beloit, WI                                       "
         ],
         "legendgroup": "Janesville-Beloit, WI                                       ",
         "marker": {
          "color": "#EF553B",
          "symbol": "circle"
         },
         "mode": "markers",
         "name": "Janesville-Beloit, WI                                       ",
         "showlegend": true,
         "type": "scattergl",
         "x": [
          2023,
          2022,
          2021,
          2020,
          2019
         ],
         "xaxis": "x",
         "y": [
          321,
          396,
          617,
          671,
          644
         ],
         "yaxis": "y"
        },
        {
         "hovertemplate": "<b>%{hovertext}</b><br><br>Name=Jefferson City, MO                                          <br>Year=%{x}<br>Total=%{y}<extra></extra>",
         "hovertext": [
          "Jefferson City, MO                                          ",
          "Jefferson City, MO                                          ",
          "Jefferson City, MO                                          ",
          "Jefferson City, MO                                          ",
          "Jefferson City, MO                                          "
         ],
         "legendgroup": "Jefferson City, MO                                          ",
         "marker": {
          "color": "#00cc96",
          "symbol": "circle"
         },
         "mode": "markers",
         "name": "Jefferson City, MO                                          ",
         "showlegend": true,
         "type": "scattergl",
         "x": [
          2023,
          2022,
          2021,
          2020,
          2019
         ],
         "xaxis": "x",
         "y": [
          198,
          179,
          246,
          253,
          270
         ],
         "yaxis": "y"
        },
        {
         "hovertemplate": "<b>%{hovertext}</b><br><br>Name=Johnson City, TN                                            <br>Year=%{x}<br>Total=%{y}<extra></extra>",
         "hovertext": [
          "Johnson City, TN                                            ",
          "Johnson City, TN                                            ",
          "Johnson City, TN                                            ",
          "Johnson City, TN                                            ",
          "Johnson City, TN                                            "
         ],
         "legendgroup": "Johnson City, TN                                            ",
         "marker": {
          "color": "#ab63fa",
          "symbol": "circle"
         },
         "mode": "markers",
         "name": "Johnson City, TN                                            ",
         "showlegend": true,
         "type": "scattergl",
         "x": [
          2023,
          2022,
          2021,
          2020,
          2019
         ],
         "xaxis": "x",
         "y": [
          1033,
          1024,
          819,
          1051,
          718
         ],
         "yaxis": "y"
        },
        {
         "hovertemplate": "<b>%{hovertext}</b><br><br>Name=Johnstown, PA                                               <br>Year=%{x}<br>Total=%{y}<extra></extra>",
         "hovertext": [
          "Johnstown, PA                                               ",
          "Johnstown, PA                                               ",
          "Johnstown, PA                                               ",
          "Johnstown, PA                                               ",
          "Johnstown, PA                                               "
         ],
         "legendgroup": "Johnstown, PA                                               ",
         "marker": {
          "color": "#FFA15A",
          "symbol": "circle"
         },
         "mode": "markers",
         "name": "Johnstown, PA                                               ",
         "showlegend": true,
         "type": "scattergl",
         "x": [
          2023,
          2022,
          2021,
          2020,
          2019
         ],
         "xaxis": "x",
         "y": [
          72,
          94,
          62,
          59,
          54
         ],
         "yaxis": "y"
        },
        {
         "hovertemplate": "<b>%{hovertext}</b><br><br>Name=Jonesboro, AR                                               <br>Year=%{x}<br>Total=%{y}<extra></extra>",
         "hovertext": [
          "Jonesboro, AR                                               ",
          "Jonesboro, AR                                               ",
          "Jonesboro, AR                                               ",
          "Jonesboro, AR                                               ",
          "Jonesboro, AR                                               "
         ],
         "legendgroup": "Jonesboro, AR                                               ",
         "marker": {
          "color": "#19d3f3",
          "symbol": "circle"
         },
         "mode": "markers",
         "name": "Jonesboro, AR                                               ",
         "showlegend": true,
         "type": "scattergl",
         "x": [
          2023,
          2022,
          2021,
          2020,
          2019
         ],
         "xaxis": "x",
         "y": [
          1023,
          1149,
          1147,
          1058,
          889
         ],
         "yaxis": "y"
        },
        {
         "hovertemplate": "<b>%{hovertext}</b><br><br>Name=Joplin, MO                                                  <br>Year=%{x}<br>Total=%{y}<extra></extra>",
         "hovertext": [
          "Joplin, MO                                                  ",
          "Joplin, MO                                                  ",
          "Joplin, MO                                                  ",
          "Joplin, MO                                                  ",
          "Joplin, MO                                                  "
         ],
         "legendgroup": "Joplin, MO                                                  ",
         "marker": {
          "color": "#FF6692",
          "symbol": "circle"
         },
         "mode": "markers",
         "name": "Joplin, MO                                                  ",
         "showlegend": true,
         "type": "scattergl",
         "x": [
          2023,
          2022,
          2021,
          2020,
          2019
         ],
         "xaxis": "x",
         "y": [
          769,
          1197,
          991,
          973,
          704
         ],
         "yaxis": "y"
        },
        {
         "hovertemplate": "<b>%{hovertext}</b><br><br>Name=Kahului-Wailuku-Lahaina, HI                                 <br>Year=%{x}<br>Total=%{y}<extra></extra>",
         "hovertext": [
          "Kahului-Wailuku-Lahaina, HI                                 ",
          "Kahului-Wailuku-Lahaina, HI                                 ",
          "Kahului-Wailuku-Lahaina, HI                                 ",
          "Kahului-Wailuku-Lahaina, HI                                 ",
          "Kahului-Wailuku-Lahaina, HI                                 "
         ],
         "legendgroup": "Kahului-Wailuku-Lahaina, HI                                 ",
         "marker": {
          "color": "#B6E880",
          "symbol": "circle"
         },
         "mode": "markers",
         "name": "Kahului-Wailuku-Lahaina, HI                                 ",
         "showlegend": true,
         "type": "scattergl",
         "x": [
          2023,
          2022,
          2021,
          2020,
          2019
         ],
         "xaxis": "x",
         "y": [
          606,
          684,
          880,
          526,
          657
         ],
         "yaxis": "y"
        },
        {
         "hovertemplate": "<b>%{hovertext}</b><br><br>Name=Kalamazoo-Portage, MI                                       <br>Year=%{x}<br>Total=%{y}<extra></extra>",
         "hovertext": [
          "Kalamazoo-Portage, MI                                       ",
          "Kalamazoo-Portage, MI                                       ",
          "Kalamazoo-Portage, MI                                       ",
          "Kalamazoo-Portage, MI                                       ",
          "Kalamazoo-Portage, MI                                       "
         ],
         "legendgroup": "Kalamazoo-Portage, MI                                       ",
         "marker": {
          "color": "#FF97FF",
          "symbol": "circle"
         },
         "mode": "markers",
         "name": "Kalamazoo-Portage, MI                                       ",
         "showlegend": true,
         "type": "scattergl",
         "x": [
          2023,
          2022,
          2021,
          2020,
          2019
         ],
         "xaxis": "x",
         "y": [
          709,
          457,
          419,
          496,
          642
         ],
         "yaxis": "y"
        },
        {
         "hovertemplate": "<b>%{hovertext}</b><br><br>Name=Kankakee, IL                                                <br>Year=%{x}<br>Total=%{y}<extra></extra>",
         "hovertext": [
          "Kankakee, IL                                                ",
          "Kankakee, IL                                                ",
          "Kankakee, IL                                                ",
          "Kankakee, IL                                                ",
          "Kankakee, IL                                                "
         ],
         "legendgroup": "Kankakee, IL                                                ",
         "marker": {
          "color": "#FECB52",
          "symbol": "circle"
         },
         "mode": "markers",
         "name": "Kankakee, IL                                                ",
         "showlegend": true,
         "type": "scattergl",
         "x": [
          2023,
          2022,
          2021,
          2020,
          2019
         ],
         "xaxis": "x",
         "y": [
          60,
          116,
          140,
          93,
          85
         ],
         "yaxis": "y"
        },
        {
         "hovertemplate": "<b>%{hovertext}</b><br><br>Name=Kansas City, MO-KS                                          <br>Year=%{x}<br>Total=%{y}<extra></extra>",
         "hovertext": [
          "Kansas City, MO-KS                                          ",
          "Kansas City, MO-KS                                          ",
          "Kansas City, MO-KS                                          ",
          "Kansas City, MO-KS                                          ",
          "Kansas City, MO-KS                                          "
         ],
         "legendgroup": "Kansas City, MO-KS                                          ",
         "marker": {
          "color": "#636efa",
          "symbol": "circle"
         },
         "mode": "markers",
         "name": "Kansas City, MO-KS                                          ",
         "showlegend": true,
         "type": "scattergl",
         "x": [
          2023,
          2022,
          2021,
          2020,
          2019
         ],
         "xaxis": "x",
         "y": [
          7473,
          11219,
          11254,
          10728,
          9347
         ],
         "yaxis": "y"
        },
        {
         "hovertemplate": "<b>%{hovertext}</b><br><br>Name=Kennewick-Richland, WA                                      <br>Year=%{x}<br>Total=%{y}<extra></extra>",
         "hovertext": [
          "Kennewick-Richland, WA                                      ",
          "Kennewick-Richland, WA                                      ",
          "Kennewick-Richland, WA                                      ",
          "Kennewick-Richland, WA                                      ",
          "Kennewick-Richland, WA                                      "
         ],
         "legendgroup": "Kennewick-Richland, WA                                      ",
         "marker": {
          "color": "#EF553B",
          "symbol": "circle"
         },
         "mode": "markers",
         "name": "Kennewick-Richland, WA                                      ",
         "showlegend": true,
         "type": "scattergl",
         "x": [
          2023,
          2022,
          2021,
          2020,
          2019
         ],
         "xaxis": "x",
         "y": [
          2059,
          1886,
          2149,
          1965,
          2141
         ],
         "yaxis": "y"
        },
        {
         "hovertemplate": "<b>%{hovertext}</b><br><br>Name=Killeen-Temple, TX                                          <br>Year=%{x}<br>Total=%{y}<extra></extra>",
         "hovertext": [
          "Killeen-Temple, TX                                          ",
          "Killeen-Temple, TX                                          ",
          "Killeen-Temple, TX                                          ",
          "Killeen-Temple, TX                                          ",
          "Killeen-Temple, TX                                          "
         ],
         "legendgroup": "Killeen-Temple, TX                                          ",
         "marker": {
          "color": "#00cc96",
          "symbol": "circle"
         },
         "mode": "markers",
         "name": "Killeen-Temple, TX                                          ",
         "showlegend": true,
         "type": "scattergl",
         "x": [
          2023,
          2022,
          2021,
          2020,
          2019
         ],
         "xaxis": "x",
         "y": [
          3523,
          4016,
          4312,
          3629,
          2579
         ],
         "yaxis": "y"
        },
        {
         "hovertemplate": "<b>%{hovertext}</b><br><br>Name=Kingsport-Bristol, TN-VA                                    <br>Year=%{x}<br>Total=%{y}<extra></extra>",
         "hovertext": [
          "Kingsport-Bristol, TN-VA                                    ",
          "Kingsport-Bristol, TN-VA                                    ",
          "Kingsport-Bristol, TN-VA                                    ",
          "Kingsport-Bristol, TN-VA                                    ",
          "Kingsport-Bristol, TN-VA                                    "
         ],
         "legendgroup": "Kingsport-Bristol, TN-VA                                    ",
         "marker": {
          "color": "#ab63fa",
          "symbol": "circle"
         },
         "mode": "markers",
         "name": "Kingsport-Bristol, TN-VA                                    ",
         "showlegend": true,
         "type": "scattergl",
         "x": [
          2023,
          2022,
          2021,
          2020,
          2019
         ],
         "xaxis": "x",
         "y": [
          803,
          939,
          679,
          734,
          597
         ],
         "yaxis": "y"
        },
        {
         "hovertemplate": "<b>%{hovertext}</b><br><br>Name=Kingston, NY                                                <br>Year=%{x}<br>Total=%{y}<extra></extra>",
         "hovertext": [
          "Kingston, NY                                                ",
          "Kingston, NY                                                ",
          "Kingston, NY                                                ",
          "Kingston, NY                                                ",
          "Kingston, NY                                                "
         ],
         "legendgroup": "Kingston, NY                                                ",
         "marker": {
          "color": "#FFA15A",
          "symbol": "circle"
         },
         "mode": "markers",
         "name": "Kingston, NY                                                ",
         "showlegend": true,
         "type": "scattergl",
         "x": [
          2023,
          2022,
          2021,
          2020,
          2019
         ],
         "xaxis": "x",
         "y": [
          347,
          446,
          342,
          265,
          389
         ],
         "yaxis": "y"
        },
        {
         "hovertemplate": "<b>%{hovertext}</b><br><br>Name=Knoxville, TN                                               <br>Year=%{x}<br>Total=%{y}<extra></extra>",
         "hovertext": [
          "Knoxville, TN                                               ",
          "Knoxville, TN                                               ",
          "Knoxville, TN                                               ",
          "Knoxville, TN                                               ",
          "Knoxville, TN                                               "
         ],
         "legendgroup": "Knoxville, TN                                               ",
         "marker": {
          "color": "#19d3f3",
          "symbol": "circle"
         },
         "mode": "markers",
         "name": "Knoxville, TN                                               ",
         "showlegend": true,
         "type": "scattergl",
         "x": [
          2023,
          2022,
          2021,
          2020,
          2019
         ],
         "xaxis": "x",
         "y": [
          6380,
          4838,
          5990,
          5396,
          3947
         ],
         "yaxis": "y"
        },
        {
         "hovertemplate": "<b>%{hovertext}</b><br><br>Name=Kokomo, IN                                                  <br>Year=%{x}<br>Total=%{y}<extra></extra>",
         "hovertext": [
          "Kokomo, IN                                                  ",
          "Kokomo, IN                                                  ",
          "Kokomo, IN                                                  ",
          "Kokomo, IN                                                  ",
          "Kokomo, IN                                                  "
         ],
         "legendgroup": "Kokomo, IN                                                  ",
         "marker": {
          "color": "#FF6692",
          "symbol": "circle"
         },
         "mode": "markers",
         "name": "Kokomo, IN                                                  ",
         "showlegend": true,
         "type": "scattergl",
         "x": [
          2023,
          2022,
          2021,
          2020,
          2019
         ],
         "xaxis": "x",
         "y": [
          144,
          164,
          190,
          162,
          239
         ],
         "yaxis": "y"
        },
        {
         "hovertemplate": "<b>%{hovertext}</b><br><br>Name=La Crosse-Onalaska, WI-MN                                   <br>Year=%{x}<br>Total=%{y}<extra></extra>",
         "hovertext": [
          "La Crosse-Onalaska, WI-MN                                   ",
          "La Crosse-Onalaska, WI-MN                                   ",
          "La Crosse-Onalaska, WI-MN                                   ",
          "La Crosse-Onalaska, WI-MN                                   ",
          "La Crosse-Onalaska, WI-MN                                   "
         ],
         "legendgroup": "La Crosse-Onalaska, WI-MN                                   ",
         "marker": {
          "color": "#B6E880",
          "symbol": "circle"
         },
         "mode": "markers",
         "name": "La Crosse-Onalaska, WI-MN                                   ",
         "showlegend": true,
         "type": "scattergl",
         "x": [
          2023,
          2022,
          2021,
          2020,
          2019
         ],
         "xaxis": "x",
         "y": [
          469,
          401,
          694,
          379,
          541
         ],
         "yaxis": "y"
        },
        {
         "hovertemplate": "<b>%{hovertext}</b><br><br>Name=Lafayette, LA                                               <br>Year=%{x}<br>Total=%{y}<extra></extra>",
         "hovertext": [
          "Lafayette, LA                                               ",
          "Lafayette, LA                                               ",
          "Lafayette, LA                                               ",
          "Lafayette, LA                                               ",
          "Lafayette, LA                                               "
         ],
         "legendgroup": "Lafayette, LA                                               ",
         "marker": {
          "color": "#FF97FF",
          "symbol": "circle"
         },
         "mode": "markers",
         "name": "Lafayette, LA                                               ",
         "showlegend": true,
         "type": "scattergl",
         "x": [
          2023,
          2022,
          2021,
          2020,
          2019
         ],
         "xaxis": "x",
         "y": [
          2389,
          2071,
          3044,
          2550,
          1666
         ],
         "yaxis": "y"
        },
        {
         "hovertemplate": "<b>%{hovertext}</b><br><br>Name=Lafayette-West Lafayette, IN                                <br>Year=%{x}<br>Total=%{y}<extra></extra>",
         "hovertext": [
          "Lafayette-West Lafayette, IN                                ",
          "Lafayette-West Lafayette, IN                                ",
          "Lafayette-West Lafayette, IN                                ",
          "Lafayette-West Lafayette, IN                                ",
          "Lafayette-West Lafayette, IN                                "
         ],
         "legendgroup": "Lafayette-West Lafayette, IN                                ",
         "marker": {
          "color": "#FECB52",
          "symbol": "circle"
         },
         "mode": "markers",
         "name": "Lafayette-West Lafayette, IN                                ",
         "showlegend": true,
         "type": "scattergl",
         "x": [
          2023,
          2022,
          2021,
          2020,
          2019
         ],
         "xaxis": "x",
         "y": [
          2105,
          1538,
          1212,
          1397,
          1350
         ],
         "yaxis": "y"
        },
        {
         "hovertemplate": "<b>%{hovertext}</b><br><br>Name=Lake Charles, LA                                            <br>Year=%{x}<br>Total=%{y}<extra></extra>",
         "hovertext": [
          "Lake Charles, LA                                            ",
          "Lake Charles, LA                                            ",
          "Lake Charles, LA                                            ",
          "Lake Charles, LA                                            ",
          "Lake Charles, LA                                            "
         ],
         "legendgroup": "Lake Charles, LA                                            ",
         "marker": {
          "color": "#636efa",
          "symbol": "circle"
         },
         "mode": "markers",
         "name": "Lake Charles, LA                                            ",
         "showlegend": true,
         "type": "scattergl",
         "x": [
          2023,
          2022,
          2021,
          2020,
          2019
         ],
         "xaxis": "x",
         "y": [
          1016,
          1122,
          1064,
          1230,
          1386
         ],
         "yaxis": "y"
        },
        {
         "hovertemplate": "<b>%{hovertext}</b><br><br>Name=Lake Havasu City-Kingman, AZ                                <br>Year=%{x}<br>Total=%{y}<extra></extra>",
         "hovertext": [
          "Lake Havasu City-Kingman, AZ                                ",
          "Lake Havasu City-Kingman, AZ                                ",
          "Lake Havasu City-Kingman, AZ                                ",
          "Lake Havasu City-Kingman, AZ                                ",
          "Lake Havasu City-Kingman, AZ                                "
         ],
         "legendgroup": "Lake Havasu City-Kingman, AZ                                ",
         "marker": {
          "color": "#EF553B",
          "symbol": "circle"
         },
         "mode": "markers",
         "name": "Lake Havasu City-Kingman, AZ                                ",
         "showlegend": true,
         "type": "scattergl",
         "x": [
          2023,
          2022,
          2021,
          2020,
          2019
         ],
         "xaxis": "x",
         "y": [
          2174,
          2079,
          1637,
          1403,
          1111
         ],
         "yaxis": "y"
        },
        {
         "hovertemplate": "<b>%{hovertext}</b><br><br>Name=Lakeland-Winter Haven, FL                                   <br>Year=%{x}<br>Total=%{y}<extra></extra>",
         "hovertext": [
          "Lakeland-Winter Haven, FL                                   ",
          "Lakeland-Winter Haven, FL                                   ",
          "Lakeland-Winter Haven, FL                                   ",
          "Lakeland-Winter Haven, FL                                   ",
          "Lakeland-Winter Haven, FL                                   "
         ],
         "legendgroup": "Lakeland-Winter Haven, FL                                   ",
         "marker": {
          "color": "#00cc96",
          "symbol": "circle"
         },
         "mode": "markers",
         "name": "Lakeland-Winter Haven, FL                                   ",
         "showlegend": true,
         "type": "scattergl",
         "x": [
          2023,
          2022,
          2021,
          2020,
          2019
         ],
         "xaxis": "x",
         "y": [
          12513,
          12211,
          13071,
          9492,
          8726
         ],
         "yaxis": "y"
        },
        {
         "hovertemplate": "<b>%{hovertext}</b><br><br>Name=Lancaster, PA                                               <br>Year=%{x}<br>Total=%{y}<extra></extra>",
         "hovertext": [
          "Lancaster, PA                                               ",
          "Lancaster, PA                                               ",
          "Lancaster, PA                                               ",
          "Lancaster, PA                                               ",
          "Lancaster, PA                                               "
         ],
         "legendgroup": "Lancaster, PA                                               ",
         "marker": {
          "color": "#ab63fa",
          "symbol": "circle"
         },
         "mode": "markers",
         "name": "Lancaster, PA                                               ",
         "showlegend": true,
         "type": "scattergl",
         "x": [
          2023,
          2022,
          2021,
          2020,
          2019
         ],
         "xaxis": "x",
         "y": [
          1366,
          1429,
          1039,
          1338,
          1496
         ],
         "yaxis": "y"
        },
        {
         "hovertemplate": "<b>%{hovertext}</b><br><br>Name=Lansing-East Lansing, MI                                    <br>Year=%{x}<br>Total=%{y}<extra></extra>",
         "hovertext": [
          "Lansing-East Lansing, MI                                    ",
          "Lansing-East Lansing, MI                                    ",
          "Lansing-East Lansing, MI                                    ",
          "Lansing-East Lansing, MI                                    ",
          "Lansing-East Lansing, MI                                    "
         ],
         "legendgroup": "Lansing-East Lansing, MI                                    ",
         "marker": {
          "color": "#FFA15A",
          "symbol": "circle"
         },
         "mode": "markers",
         "name": "Lansing-East Lansing, MI                                    ",
         "showlegend": true,
         "type": "scattergl",
         "x": [
          2023,
          2022,
          2021,
          2020,
          2019
         ],
         "xaxis": "x",
         "y": [
          952,
          972,
          1016,
          1100,
          1026
         ],
         "yaxis": "y"
        },
        {
         "hovertemplate": "<b>%{hovertext}</b><br><br>Name=Laredo, TX                                                  <br>Year=%{x}<br>Total=%{y}<extra></extra>",
         "hovertext": [
          "Laredo, TX                                                  ",
          "Laredo, TX                                                  ",
          "Laredo, TX                                                  ",
          "Laredo, TX                                                  ",
          "Laredo, TX                                                  "
         ],
         "legendgroup": "Laredo, TX                                                  ",
         "marker": {
          "color": "#19d3f3",
          "symbol": "circle"
         },
         "mode": "markers",
         "name": "Laredo, TX                                                  ",
         "showlegend": true,
         "type": "scattergl",
         "x": [
          2023,
          2022,
          2021,
          2020,
          2019
         ],
         "xaxis": "x",
         "y": [
          1221,
          1272,
          1684,
          1447,
          1602
         ],
         "yaxis": "y"
        },
        {
         "hovertemplate": "<b>%{hovertext}</b><br><br>Name=Las Cruces, NM                                              <br>Year=%{x}<br>Total=%{y}<extra></extra>",
         "hovertext": [
          "Las Cruces, NM                                              ",
          "Las Cruces, NM                                              ",
          "Las Cruces, NM                                              ",
          "Las Cruces, NM                                              ",
          "Las Cruces, NM                                              "
         ],
         "legendgroup": "Las Cruces, NM                                              ",
         "marker": {
          "color": "#FF6692",
          "symbol": "circle"
         },
         "mode": "markers",
         "name": "Las Cruces, NM                                              ",
         "showlegend": true,
         "type": "scattergl",
         "x": [
          2023,
          2022,
          2021,
          2020,
          2019
         ],
         "xaxis": "x",
         "y": [
          873,
          1105,
          1338,
          1109,
          978
         ],
         "yaxis": "y"
        },
        {
         "hovertemplate": "<b>%{hovertext}</b><br><br>Name=Las Vegas-Henderson-Paradise, NV                            <br>Year=%{x}<br>Total=%{y}<extra></extra>",
         "hovertext": [
          "Las Vegas-Henderson-Paradise, NV                            ",
          "Las Vegas-Henderson-Paradise, NV                            ",
          "Las Vegas-Henderson-Paradise, NV                            ",
          "Las Vegas-Henderson-Paradise, NV                            ",
          "Las Vegas-Henderson-Paradise, NV                            "
         ],
         "legendgroup": "Las Vegas-Henderson-Paradise, NV                            ",
         "marker": {
          "color": "#B6E880",
          "symbol": "circle"
         },
         "mode": "markers",
         "name": "Las Vegas-Henderson-Paradise, NV                            ",
         "showlegend": true,
         "type": "scattergl",
         "x": [
          2023,
          2022,
          2021,
          2020,
          2019
         ],
         "xaxis": "x",
         "y": [
          13073,
          13066,
          16307,
          14100,
          13903
         ],
         "yaxis": "y"
        },
        {
         "hovertemplate": "<b>%{hovertext}</b><br><br>Name=Lawrence, KS                                                <br>Year=%{x}<br>Total=%{y}<extra></extra>",
         "hovertext": [
          "Lawrence, KS                                                ",
          "Lawrence, KS                                                ",
          "Lawrence, KS                                                ",
          "Lawrence, KS                                                ",
          "Lawrence, KS                                                "
         ],
         "legendgroup": "Lawrence, KS                                                ",
         "marker": {
          "color": "#FF97FF",
          "symbol": "circle"
         },
         "mode": "markers",
         "name": "Lawrence, KS                                                ",
         "showlegend": true,
         "type": "scattergl",
         "x": [
          2023,
          2022,
          2021,
          2020,
          2019
         ],
         "xaxis": "x",
         "y": [
          223,
          401,
          518,
          414,
          455
         ],
         "yaxis": "y"
        },
        {
         "hovertemplate": "<b>%{hovertext}</b><br><br>Name=Lawton, OK                                                  <br>Year=%{x}<br>Total=%{y}<extra></extra>",
         "hovertext": [
          "Lawton, OK                                                  ",
          "Lawton, OK                                                  ",
          "Lawton, OK                                                  ",
          "Lawton, OK                                                  ",
          "Lawton, OK                                                  "
         ],
         "legendgroup": "Lawton, OK                                                  ",
         "marker": {
          "color": "#FECB52",
          "symbol": "circle"
         },
         "mode": "markers",
         "name": "Lawton, OK                                                  ",
         "showlegend": true,
         "type": "scattergl",
         "x": [
          2023,
          2022,
          2021,
          2020,
          2019
         ],
         "xaxis": "x",
         "y": [
          153,
          79,
          117,
          103,
          67
         ],
         "yaxis": "y"
        },
        {
         "hovertemplate": "<b>%{hovertext}</b><br><br>Name=Lebanon, PA                                                 <br>Year=%{x}<br>Total=%{y}<extra></extra>",
         "hovertext": [
          "Lebanon, PA                                                 ",
          "Lebanon, PA                                                 ",
          "Lebanon, PA                                                 ",
          "Lebanon, PA                                                 ",
          "Lebanon, PA                                                 "
         ],
         "legendgroup": "Lebanon, PA                                                 ",
         "marker": {
          "color": "#636efa",
          "symbol": "circle"
         },
         "mode": "markers",
         "name": "Lebanon, PA                                                 ",
         "showlegend": true,
         "type": "scattergl",
         "x": [
          2023,
          2022,
          2021,
          2020,
          2019
         ],
         "xaxis": "x",
         "y": [
          253,
          364,
          507,
          434,
          322
         ],
         "yaxis": "y"
        },
        {
         "hovertemplate": "<b>%{hovertext}</b><br><br>Name=Lewiston, ID-WA                                             <br>Year=%{x}<br>Total=%{y}<extra></extra>",
         "hovertext": [
          "Lewiston, ID-WA                                             ",
          "Lewiston, ID-WA                                             ",
          "Lewiston, ID-WA                                             ",
          "Lewiston, ID-WA                                             ",
          "Lewiston, ID-WA                                             "
         ],
         "legendgroup": "Lewiston, ID-WA                                             ",
         "marker": {
          "color": "#EF553B",
          "symbol": "circle"
         },
         "mode": "markers",
         "name": "Lewiston, ID-WA                                             ",
         "showlegend": true,
         "type": "scattergl",
         "x": [
          2023,
          2022,
          2021,
          2020,
          2019
         ],
         "xaxis": "x",
         "y": [
          137,
          134,
          127,
          260,
          181
         ],
         "yaxis": "y"
        },
        {
         "hovertemplate": "<b>%{hovertext}</b><br><br>Name=Lewiston-Auburn, ME                                         <br>Year=%{x}<br>Total=%{y}<extra></extra>",
         "hovertext": [
          "Lewiston-Auburn, ME                                         ",
          "Lewiston-Auburn, ME                                         ",
          "Lewiston-Auburn, ME                                         ",
          "Lewiston-Auburn, ME                                         ",
          "Lewiston-Auburn, ME                                         "
         ],
         "legendgroup": "Lewiston-Auburn, ME                                         ",
         "marker": {
          "color": "#00cc96",
          "symbol": "circle"
         },
         "mode": "markers",
         "name": "Lewiston-Auburn, ME                                         ",
         "showlegend": true,
         "type": "scattergl",
         "x": [
          2023,
          2022,
          2021,
          2020,
          2019
         ],
         "xaxis": "x",
         "y": [
          319,
          484,
          221,
          275,
          228
         ],
         "yaxis": "y"
        },
        {
         "hovertemplate": "<b>%{hovertext}</b><br><br>Name=Lexington-Fayette, KY                                       <br>Year=%{x}<br>Total=%{y}<extra></extra>",
         "hovertext": [
          "Lexington-Fayette, KY                                       ",
          "Lexington-Fayette, KY                                       ",
          "Lexington-Fayette, KY                                       ",
          "Lexington-Fayette, KY                                       ",
          "Lexington-Fayette, KY                                       "
         ],
         "legendgroup": "Lexington-Fayette, KY                                       ",
         "marker": {
          "color": "#ab63fa",
          "symbol": "circle"
         },
         "mode": "markers",
         "name": "Lexington-Fayette, KY                                       ",
         "showlegend": true,
         "type": "scattergl",
         "x": [
          2023,
          2022,
          2021,
          2020,
          2019
         ],
         "xaxis": "x",
         "y": [
          2365,
          2709,
          2943,
          2330,
          2246
         ],
         "yaxis": "y"
        },
        {
         "hovertemplate": "<b>%{hovertext}</b><br><br>Name=Lima, OH                                                    <br>Year=%{x}<br>Total=%{y}<extra></extra>",
         "hovertext": [
          "Lima, OH                                                    ",
          "Lima, OH                                                    ",
          "Lima, OH                                                    ",
          "Lima, OH                                                    ",
          "Lima, OH                                                    "
         ],
         "legendgroup": "Lima, OH                                                    ",
         "marker": {
          "color": "#FFA15A",
          "symbol": "circle"
         },
         "mode": "markers",
         "name": "Lima, OH                                                    ",
         "showlegend": true,
         "type": "scattergl",
         "x": [
          2023,
          2022,
          2021,
          2020,
          2019
         ],
         "xaxis": "x",
         "y": [
          91,
          109,
          226,
          175,
          191
         ],
         "yaxis": "y"
        },
        {
         "hovertemplate": "<b>%{hovertext}</b><br><br>Name=Lincoln, NE                                                 <br>Year=%{x}<br>Total=%{y}<extra></extra>",
         "hovertext": [
          "Lincoln, NE                                                 ",
          "Lincoln, NE                                                 ",
          "Lincoln, NE                                                 ",
          "Lincoln, NE                                                 ",
          "Lincoln, NE                                                 "
         ],
         "legendgroup": "Lincoln, NE                                                 ",
         "marker": {
          "color": "#19d3f3",
          "symbol": "circle"
         },
         "mode": "markers",
         "name": "Lincoln, NE                                                 ",
         "showlegend": true,
         "type": "scattergl",
         "x": [
          2023,
          2022,
          2021,
          2020,
          2019
         ],
         "xaxis": "x",
         "y": [
          2140,
          3349,
          2607,
          2038,
          2098
         ],
         "yaxis": "y"
        },
        {
         "hovertemplate": "<b>%{hovertext}</b><br><br>Name=Little Rock-North Little Rock-Conway, AR                    <br>Year=%{x}<br>Total=%{y}<extra></extra>",
         "hovertext": [
          "Little Rock-North Little Rock-Conway, AR                    ",
          "Little Rock-North Little Rock-Conway, AR                    ",
          "Little Rock-North Little Rock-Conway, AR                    ",
          "Little Rock-North Little Rock-Conway, AR                    ",
          "Little Rock-North Little Rock-Conway, AR                    "
         ],
         "legendgroup": "Little Rock-North Little Rock-Conway, AR                    ",
         "marker": {
          "color": "#FF6692",
          "symbol": "circle"
         },
         "mode": "markers",
         "name": "Little Rock-North Little Rock-Conway, AR                    ",
         "showlegend": true,
         "type": "scattergl",
         "x": [
          2023,
          2022,
          2021,
          2020,
          2019
         ],
         "xaxis": "x",
         "y": [
          2655,
          3338,
          3635,
          3081,
          3005
         ],
         "yaxis": "y"
        },
        {
         "hovertemplate": "<b>%{hovertext}</b><br><br>Name=Logan, UT-ID                                                <br>Year=%{x}<br>Total=%{y}<extra></extra>",
         "hovertext": [
          "Logan, UT-ID                                                ",
          "Logan, UT-ID                                                ",
          "Logan, UT-ID                                                ",
          "Logan, UT-ID                                                ",
          "Logan, UT-ID                                                "
         ],
         "legendgroup": "Logan, UT-ID                                                ",
         "marker": {
          "color": "#B6E880",
          "symbol": "circle"
         },
         "mode": "markers",
         "name": "Logan, UT-ID                                                ",
         "showlegend": true,
         "type": "scattergl",
         "x": [
          2023,
          2022,
          2021,
          2020,
          2019
         ],
         "xaxis": "x",
         "y": [
          1030,
          1108,
          1309,
          1701,
          1679
         ],
         "yaxis": "y"
        },
        {
         "hovertemplate": "<b>%{hovertext}</b><br><br>Name=Longview, TX                                                <br>Year=%{x}<br>Total=%{y}<extra></extra>",
         "hovertext": [
          "Longview, TX                                                ",
          "Longview, TX                                                ",
          "Longview, TX                                                ",
          "Longview, TX                                                ",
          "Longview, TX                                                "
         ],
         "legendgroup": "Longview, TX                                                ",
         "marker": {
          "color": "#FF97FF",
          "symbol": "circle"
         },
         "mode": "markers",
         "name": "Longview, TX                                                ",
         "showlegend": true,
         "type": "scattergl",
         "x": [
          2023,
          2022,
          2021,
          2020,
          2019
         ],
         "xaxis": "x",
         "y": [
          546,
          745,
          579,
          387,
          276
         ],
         "yaxis": "y"
        },
        {
         "hovertemplate": "<b>%{hovertext}</b><br><br>Name=Longview, WA                                                <br>Year=%{x}<br>Total=%{y}<extra></extra>",
         "hovertext": [
          "Longview, WA                                                ",
          "Longview, WA                                                ",
          "Longview, WA                                                ",
          "Longview, WA                                                ",
          "Longview, WA                                                "
         ],
         "legendgroup": "Longview, WA                                                ",
         "marker": {
          "color": "#FECB52",
          "symbol": "circle"
         },
         "mode": "markers",
         "name": "Longview, WA                                                ",
         "showlegend": true,
         "type": "scattergl",
         "x": [
          2023,
          2022,
          2021,
          2020,
          2019
         ],
         "xaxis": "x",
         "y": [
          305,
          585,
          348,
          346,
          351
         ],
         "yaxis": "y"
        },
        {
         "hovertemplate": "<b>%{hovertext}</b><br><br>Name=Los Angeles-Long Beach-Anaheim, CA                          <br>Year=%{x}<br>Total=%{y}<extra></extra>",
         "hovertext": [
          "Los Angeles-Long Beach-Anaheim, CA                          ",
          "Los Angeles-Long Beach-Anaheim, CA                          ",
          "Los Angeles-Long Beach-Anaheim, CA                          ",
          "Los Angeles-Long Beach-Anaheim, CA                          ",
          "Los Angeles-Long Beach-Anaheim, CA                          "
         ],
         "legendgroup": "Los Angeles-Long Beach-Anaheim, CA                          ",
         "marker": {
          "color": "#636efa",
          "symbol": "circle"
         },
         "mode": "markers",
         "name": "Los Angeles-Long Beach-Anaheim, CA                          ",
         "showlegend": true,
         "type": "scattergl",
         "x": [
          2023,
          2022,
          2021,
          2020,
          2019
         ],
         "xaxis": "x",
         "y": [
          30691,
          32510,
          31151,
          26930,
          30554
         ],
         "yaxis": "y"
        },
        {
         "hovertemplate": "<b>%{hovertext}</b><br><br>Name=Louisville-Jefferson County, KY-IN                          <br>Year=%{x}<br>Total=%{y}<extra></extra>",
         "hovertext": [
          "Louisville-Jefferson County, KY-IN                          ",
          "Louisville-Jefferson County, KY-IN                          ",
          "Louisville-Jefferson County, KY-IN                          ",
          "Louisville-Jefferson County, KY-IN                          ",
          "Louisville-Jefferson County, KY-IN                          "
         ],
         "legendgroup": "Louisville-Jefferson County, KY-IN                          ",
         "marker": {
          "color": "#EF553B",
          "symbol": "circle"
         },
         "mode": "markers",
         "name": "Louisville-Jefferson County, KY-IN                          ",
         "showlegend": true,
         "type": "scattergl",
         "x": [
          2023,
          2022,
          2021,
          2020,
          2019
         ],
         "xaxis": "x",
         "y": [
          6810,
          5456,
          5508,
          4551,
          5766
         ],
         "yaxis": "y"
        },
        {
         "hovertemplate": "<b>%{hovertext}</b><br><br>Name=Lubbock, TX                                                 <br>Year=%{x}<br>Total=%{y}<extra></extra>",
         "hovertext": [
          "Lubbock, TX                                                 ",
          "Lubbock, TX                                                 ",
          "Lubbock, TX                                                 ",
          "Lubbock, TX                                                 ",
          "Lubbock, TX                                                 "
         ],
         "legendgroup": "Lubbock, TX                                                 ",
         "marker": {
          "color": "#00cc96",
          "symbol": "circle"
         },
         "mode": "markers",
         "name": "Lubbock, TX                                                 ",
         "showlegend": true,
         "type": "scattergl",
         "x": [
          2023,
          2022,
          2021,
          2020,
          2019
         ],
         "xaxis": "x",
         "y": [
          2514,
          3279,
          3404,
          3857,
          2254
         ],
         "yaxis": "y"
        },
        {
         "hovertemplate": "<b>%{hovertext}</b><br><br>Name=Lynchburg, VA                                               <br>Year=%{x}<br>Total=%{y}<extra></extra>",
         "hovertext": [
          "Lynchburg, VA                                               ",
          "Lynchburg, VA                                               ",
          "Lynchburg, VA                                               ",
          "Lynchburg, VA                                               ",
          "Lynchburg, VA                                               "
         ],
         "legendgroup": "Lynchburg, VA                                               ",
         "marker": {
          "color": "#ab63fa",
          "symbol": "circle"
         },
         "mode": "markers",
         "name": "Lynchburg, VA                                               ",
         "showlegend": true,
         "type": "scattergl",
         "x": [
          2023,
          2022,
          2021,
          2020,
          2019
         ],
         "xaxis": "x",
         "y": [
          1092,
          805,
          692,
          920,
          582
         ],
         "yaxis": "y"
        },
        {
         "hovertemplate": "<b>%{hovertext}</b><br><br>Name=Macon-Bibb County, GA                                       <br>Year=%{x}<br>Total=%{y}<extra></extra>",
         "hovertext": [
          "Macon-Bibb County, GA                                       ",
          "Macon-Bibb County, GA                                       ",
          "Macon-Bibb County, GA                                       ",
          "Macon-Bibb County, GA                                       "
         ],
         "legendgroup": "Macon-Bibb County, GA                                       ",
         "marker": {
          "color": "#FFA15A",
          "symbol": "circle"
         },
         "mode": "markers",
         "name": "Macon-Bibb County, GA                                       ",
         "showlegend": true,
         "type": "scattergl",
         "x": [
          2023,
          2022,
          2021,
          2020
         ],
         "xaxis": "x",
         "y": [
          567,
          622,
          563,
          522
         ],
         "yaxis": "y"
        },
        {
         "hovertemplate": "<b>%{hovertext}</b><br><br>Name=Madera, CA                                                  <br>Year=%{x}<br>Total=%{y}<extra></extra>",
         "hovertext": [
          "Madera, CA                                                  ",
          "Madera, CA                                                  ",
          "Madera, CA                                                  ",
          "Madera, CA                                                  ",
          "Madera, CA                                                  "
         ],
         "legendgroup": "Madera, CA                                                  ",
         "marker": {
          "color": "#19d3f3",
          "symbol": "circle"
         },
         "mode": "markers",
         "name": "Madera, CA                                                  ",
         "showlegend": true,
         "type": "scattergl",
         "x": [
          2023,
          2022,
          2021,
          2020,
          2019
         ],
         "xaxis": "x",
         "y": [
          1109,
          966,
          1066,
          852,
          644
         ],
         "yaxis": "y"
        },
        {
         "hovertemplate": "<b>%{hovertext}</b><br><br>Name=Madison, WI                                                 <br>Year=%{x}<br>Total=%{y}<extra></extra>",
         "hovertext": [
          "Madison, WI                                                 ",
          "Madison, WI                                                 ",
          "Madison, WI                                                 ",
          "Madison, WI                                                 ",
          "Madison, WI                                                 "
         ],
         "legendgroup": "Madison, WI                                                 ",
         "marker": {
          "color": "#FF6692",
          "symbol": "circle"
         },
         "mode": "markers",
         "name": "Madison, WI                                                 ",
         "showlegend": true,
         "type": "scattergl",
         "x": [
          2023,
          2022,
          2021,
          2020,
          2019
         ],
         "xaxis": "x",
         "y": [
          5255,
          5579,
          7194,
          5268,
          3343
         ],
         "yaxis": "y"
        },
        {
         "hovertemplate": "<b>%{hovertext}</b><br><br>Name=Manchester-Nashua, NH                                       <br>Year=%{x}<br>Total=%{y}<extra></extra>",
         "hovertext": [
          "Manchester-Nashua, NH                                       ",
          "Manchester-Nashua, NH                                       ",
          "Manchester-Nashua, NH                                       ",
          "Manchester-Nashua, NH                                       ",
          "Manchester-Nashua, NH                                       "
         ],
         "legendgroup": "Manchester-Nashua, NH                                       ",
         "marker": {
          "color": "#B6E880",
          "symbol": "circle"
         },
         "mode": "markers",
         "name": "Manchester-Nashua, NH                                       ",
         "showlegend": true,
         "type": "scattergl",
         "x": [
          2023,
          2022,
          2021,
          2020,
          2019
         ],
         "xaxis": "x",
         "y": [
          1382,
          847,
          1342,
          868,
          1252
         ],
         "yaxis": "y"
        },
        {
         "hovertemplate": "<b>%{hovertext}</b><br><br>Name=Manhattan, KS                                               <br>Year=%{x}<br>Total=%{y}<extra></extra>",
         "hovertext": [
          "Manhattan, KS                                               ",
          "Manhattan, KS                                               ",
          "Manhattan, KS                                               ",
          "Manhattan, KS                                               ",
          "Manhattan, KS                                               "
         ],
         "legendgroup": "Manhattan, KS                                               ",
         "marker": {
          "color": "#FF97FF",
          "symbol": "circle"
         },
         "mode": "markers",
         "name": "Manhattan, KS                                               ",
         "showlegend": true,
         "type": "scattergl",
         "x": [
          2023,
          2022,
          2021,
          2020,
          2019
         ],
         "xaxis": "x",
         "y": [
          263,
          301,
          278,
          405,
          336
         ],
         "yaxis": "y"
        },
        {
         "hovertemplate": "<b>%{hovertext}</b><br><br>Name=Mankato, MN                                                 <br>Year=%{x}<br>Total=%{y}<extra></extra>",
         "hovertext": [
          "Mankato, MN                                                 ",
          "Mankato, MN                                                 ",
          "Mankato, MN                                                 ",
          "Mankato, MN                                                 ",
          "Mankato, MN                                                 "
         ],
         "legendgroup": "Mankato, MN                                                 ",
         "marker": {
          "color": "#FECB52",
          "symbol": "circle"
         },
         "mode": "markers",
         "name": "Mankato, MN                                                 ",
         "showlegend": true,
         "type": "scattergl",
         "x": [
          2023,
          2022,
          2021,
          2020,
          2019
         ],
         "xaxis": "x",
         "y": [
          588,
          609,
          480,
          450,
          237
         ],
         "yaxis": "y"
        },
        {
         "hovertemplate": "<b>%{hovertext}</b><br><br>Name=Mansfield, OH                                               <br>Year=%{x}<br>Total=%{y}<extra></extra>",
         "hovertext": [
          "Mansfield, OH                                               ",
          "Mansfield, OH                                               ",
          "Mansfield, OH                                               ",
          "Mansfield, OH                                               ",
          "Mansfield, OH                                               "
         ],
         "legendgroup": "Mansfield, OH                                               ",
         "marker": {
          "color": "#636efa",
          "symbol": "circle"
         },
         "mode": "markers",
         "name": "Mansfield, OH                                               ",
         "showlegend": true,
         "type": "scattergl",
         "x": [
          2023,
          2022,
          2021,
          2020,
          2019
         ],
         "xaxis": "x",
         "y": [
          132,
          247,
          115,
          205,
          61
         ],
         "yaxis": "y"
        },
        {
         "hovertemplate": "<b>%{hovertext}</b><br><br>Name=McAllen-Edinburg-Mission, TX                                <br>Year=%{x}<br>Total=%{y}<extra></extra>",
         "hovertext": [
          "McAllen-Edinburg-Mission, TX                                ",
          "McAllen-Edinburg-Mission, TX                                ",
          "McAllen-Edinburg-Mission, TX                                ",
          "McAllen-Edinburg-Mission, TX                                ",
          "McAllen-Edinburg-Mission, TX                                "
         ],
         "legendgroup": "McAllen-Edinburg-Mission, TX                                ",
         "marker": {
          "color": "#EF553B",
          "symbol": "circle"
         },
         "mode": "markers",
         "name": "McAllen-Edinburg-Mission, TX                                ",
         "showlegend": true,
         "type": "scattergl",
         "x": [
          2023,
          2022,
          2021,
          2020,
          2019
         ],
         "xaxis": "x",
         "y": [
          6625,
          5926,
          6055,
          4894,
          5370
         ],
         "yaxis": "y"
        },
        {
         "hovertemplate": "<b>%{hovertext}</b><br><br>Name=Medford, OR                                                 <br>Year=%{x}<br>Total=%{y}<extra></extra>",
         "hovertext": [
          "Medford, OR                                                 ",
          "Medford, OR                                                 ",
          "Medford, OR                                                 ",
          "Medford, OR                                                 ",
          "Medford, OR                                                 "
         ],
         "legendgroup": "Medford, OR                                                 ",
         "marker": {
          "color": "#00cc96",
          "symbol": "circle"
         },
         "mode": "markers",
         "name": "Medford, OR                                                 ",
         "showlegend": true,
         "type": "scattergl",
         "x": [
          2023,
          2022,
          2021,
          2020,
          2019
         ],
         "xaxis": "x",
         "y": [
          1384,
          1080,
          1142,
          886,
          921
         ],
         "yaxis": "y"
        },
        {
         "hovertemplate": "<b>%{hovertext}</b><br><br>Name=Memphis, TN-MS-AR                                           <br>Year=%{x}<br>Total=%{y}<extra></extra>",
         "hovertext": [
          "Memphis, TN-MS-AR                                           ",
          "Memphis, TN-MS-AR                                           ",
          "Memphis, TN-MS-AR                                           ",
          "Memphis, TN-MS-AR                                           ",
          "Memphis, TN-MS-AR                                           "
         ],
         "legendgroup": "Memphis, TN-MS-AR                                           ",
         "marker": {
          "color": "#ab63fa",
          "symbol": "circle"
         },
         "mode": "markers",
         "name": "Memphis, TN-MS-AR                                           ",
         "showlegend": true,
         "type": "scattergl",
         "x": [
          2023,
          2022,
          2021,
          2020,
          2019
         ],
         "xaxis": "x",
         "y": [
          4104,
          4302,
          5205,
          4797,
          3674
         ],
         "yaxis": "y"
        },
        {
         "hovertemplate": "<b>%{hovertext}</b><br><br>Name=Merced, CA                                                  <br>Year=%{x}<br>Total=%{y}<extra></extra>",
         "hovertext": [
          "Merced, CA                                                  ",
          "Merced, CA                                                  ",
          "Merced, CA                                                  ",
          "Merced, CA                                                  ",
          "Merced, CA                                                  "
         ],
         "legendgroup": "Merced, CA                                                  ",
         "marker": {
          "color": "#FFA15A",
          "symbol": "circle"
         },
         "mode": "markers",
         "name": "Merced, CA                                                  ",
         "showlegend": true,
         "type": "scattergl",
         "x": [
          2023,
          2022,
          2021,
          2020,
          2019
         ],
         "xaxis": "x",
         "y": [
          404,
          730,
          1017,
          1019,
          948
         ],
         "yaxis": "y"
        },
        {
         "hovertemplate": "<b>%{hovertext}</b><br><br>Name=Miami-Fort Lauderdale-Pompano Beach, FL                     <br>Year=%{x}<br>Total=%{y}<extra></extra>",
         "hovertext": [
          "Miami-Fort Lauderdale-Pompano Beach, FL                     ",
          "Miami-Fort Lauderdale-Pompano Beach, FL                     ",
          "Miami-Fort Lauderdale-Pompano Beach, FL                     ",
          "Miami-Fort Lauderdale-Pompano Beach, FL                     ",
          "Miami-Fort Lauderdale-Pompano Beach, FL                     "
         ],
         "legendgroup": "Miami-Fort Lauderdale-Pompano Beach, FL                     ",
         "marker": {
          "color": "#19d3f3",
          "symbol": "circle"
         },
         "mode": "markers",
         "name": "Miami-Fort Lauderdale-Pompano Beach, FL                     ",
         "showlegend": true,
         "type": "scattergl",
         "x": [
          2023,
          2022,
          2021,
          2020,
          2019
         ],
         "xaxis": "x",
         "y": [
          21329,
          20021,
          25313,
          21758,
          20688
         ],
         "yaxis": "y"
        },
        {
         "hovertemplate": "<b>%{hovertext}</b><br><br>Name=Michigan City-La Porte, IN                                  <br>Year=%{x}<br>Total=%{y}<extra></extra>",
         "hovertext": [
          "Michigan City-La Porte, IN                                  ",
          "Michigan City-La Porte, IN                                  ",
          "Michigan City-La Porte, IN                                  ",
          "Michigan City-La Porte, IN                                  ",
          "Michigan City-La Porte, IN                                  "
         ],
         "legendgroup": "Michigan City-La Porte, IN                                  ",
         "marker": {
          "color": "#FF6692",
          "symbol": "circle"
         },
         "mode": "markers",
         "name": "Michigan City-La Porte, IN                                  ",
         "showlegend": true,
         "type": "scattergl",
         "x": [
          2023,
          2022,
          2021,
          2020,
          2019
         ],
         "xaxis": "x",
         "y": [
          235,
          322,
          138,
          120,
          115
         ],
         "yaxis": "y"
        },
        {
         "hovertemplate": "<b>%{hovertext}</b><br><br>Name=Midland, MI                                                 <br>Year=%{x}<br>Total=%{y}<extra></extra>",
         "hovertext": [
          "Midland, MI                                                 ",
          "Midland, MI                                                 ",
          "Midland, MI                                                 ",
          "Midland, MI                                                 ",
          "Midland, MI                                                 "
         ],
         "legendgroup": "Midland, MI                                                 ",
         "marker": {
          "color": "#B6E880",
          "symbol": "circle"
         },
         "mode": "markers",
         "name": "Midland, MI                                                 ",
         "showlegend": true,
         "type": "scattergl",
         "x": [
          2023,
          2022,
          2021,
          2020,
          2019
         ],
         "xaxis": "x",
         "y": [
          137,
          130,
          159,
          123,
          114
         ],
         "yaxis": "y"
        },
        {
         "hovertemplate": "<b>%{hovertext}</b><br><br>Name=Midland, TX                                                 <br>Year=%{x}<br>Total=%{y}<extra></extra>",
         "hovertext": [
          "Midland, TX                                                 ",
          "Midland, TX                                                 ",
          "Midland, TX                                                 ",
          "Midland, TX                                                 ",
          "Midland, TX                                                 "
         ],
         "legendgroup": "Midland, TX                                                 ",
         "marker": {
          "color": "#FF97FF",
          "symbol": "circle"
         },
         "mode": "markers",
         "name": "Midland, TX                                                 ",
         "showlegend": true,
         "type": "scattergl",
         "x": [
          2023,
          2022,
          2021,
          2020,
          2019
         ],
         "xaxis": "x",
         "y": [
          818,
          594,
          872,
          1292,
          1306
         ],
         "yaxis": "y"
        },
        {
         "hovertemplate": "<b>%{hovertext}</b><br><br>Name=Milwaukee-Waukesha, WI                                      <br>Year=%{x}<br>Total=%{y}<extra></extra>",
         "hovertext": [
          "Milwaukee-Waukesha, WI                                      ",
          "Milwaukee-Waukesha, WI                                      ",
          "Milwaukee-Waukesha, WI                                      ",
          "Milwaukee-Waukesha, WI                                      ",
          "Milwaukee-Waukesha, WI                                      "
         ],
         "legendgroup": "Milwaukee-Waukesha, WI                                      ",
         "marker": {
          "color": "#FECB52",
          "symbol": "circle"
         },
         "mode": "markers",
         "name": "Milwaukee-Waukesha, WI                                      ",
         "showlegend": true,
         "type": "scattergl",
         "x": [
          2023,
          2022,
          2021,
          2020,
          2019
         ],
         "xaxis": "x",
         "y": [
          2517,
          3166,
          2929,
          2698,
          2419
         ],
         "yaxis": "y"
        },
        {
         "hovertemplate": "<b>%{hovertext}</b><br><br>Name=Minneapolis-St. Paul-Bloomington, MN-WI                     <br>Year=%{x}<br>Total=%{y}<extra></extra>",
         "hovertext": [
          "Minneapolis-St. Paul-Bloomington, MN-WI                     ",
          "Minneapolis-St. Paul-Bloomington, MN-WI                     ",
          "Minneapolis-St. Paul-Bloomington, MN-WI                     ",
          "Minneapolis-St. Paul-Bloomington, MN-WI                     ",
          "Minneapolis-St. Paul-Bloomington, MN-WI                     "
         ],
         "legendgroup": "Minneapolis-St. Paul-Bloomington, MN-WI                     ",
         "marker": {
          "color": "#636efa",
          "symbol": "circle"
         },
         "mode": "markers",
         "name": "Minneapolis-St. Paul-Bloomington, MN-WI                     ",
         "showlegend": true,
         "type": "scattergl",
         "x": [
          2023,
          2022,
          2021,
          2020,
          2019
         ],
         "xaxis": "x",
         "y": [
          17943,
          23725,
          26077,
          22341,
          22414
         ],
         "yaxis": "y"
        },
        {
         "hovertemplate": "<b>%{hovertext}</b><br><br>Name=Missoula, MT                                                <br>Year=%{x}<br>Total=%{y}<extra></extra>",
         "hovertext": [
          "Missoula, MT                                                ",
          "Missoula, MT                                                ",
          "Missoula, MT                                                ",
          "Missoula, MT                                                ",
          "Missoula, MT                                                "
         ],
         "legendgroup": "Missoula, MT                                                ",
         "marker": {
          "color": "#EF553B",
          "symbol": "circle"
         },
         "mode": "markers",
         "name": "Missoula, MT                                                ",
         "showlegend": true,
         "type": "scattergl",
         "x": [
          2023,
          2022,
          2021,
          2020,
          2019
         ],
         "xaxis": "x",
         "y": [
          656,
          1078,
          1798,
          789,
          664
         ],
         "yaxis": "y"
        },
        {
         "hovertemplate": "<b>%{hovertext}</b><br><br>Name=Mobile, AL                                                  <br>Year=%{x}<br>Total=%{y}<extra></extra>",
         "hovertext": [
          "Mobile, AL                                                  ",
          "Mobile, AL                                                  ",
          "Mobile, AL                                                  ",
          "Mobile, AL                                                  ",
          "Mobile, AL                                                  "
         ],
         "legendgroup": "Mobile, AL                                                  ",
         "marker": {
          "color": "#00cc96",
          "symbol": "circle"
         },
         "mode": "markers",
         "name": "Mobile, AL                                                  ",
         "showlegend": true,
         "type": "scattergl",
         "x": [
          2023,
          2022,
          2021,
          2020,
          2019
         ],
         "xaxis": "x",
         "y": [
          905,
          750,
          1022,
          937,
          746
         ],
         "yaxis": "y"
        },
        {
         "hovertemplate": "<b>%{hovertext}</b><br><br>Name=Modesto, CA                                                 <br>Year=%{x}<br>Total=%{y}<extra></extra>",
         "hovertext": [
          "Modesto, CA                                                 ",
          "Modesto, CA                                                 ",
          "Modesto, CA                                                 ",
          "Modesto, CA                                                 ",
          "Modesto, CA                                                 "
         ],
         "legendgroup": "Modesto, CA                                                 ",
         "marker": {
          "color": "#ab63fa",
          "symbol": "circle"
         },
         "mode": "markers",
         "name": "Modesto, CA                                                 ",
         "showlegend": true,
         "type": "scattergl",
         "x": [
          2023,
          2022,
          2021,
          2020,
          2019
         ],
         "xaxis": "x",
         "y": [
          805,
          674,
          811,
          552,
          699
         ],
         "yaxis": "y"
        },
        {
         "hovertemplate": "<b>%{hovertext}</b><br><br>Name=Monroe, LA                                                  <br>Year=%{x}<br>Total=%{y}<extra></extra>",
         "hovertext": [
          "Monroe, LA                                                  ",
          "Monroe, LA                                                  ",
          "Monroe, LA                                                  ",
          "Monroe, LA                                                  ",
          "Monroe, LA                                                  "
         ],
         "legendgroup": "Monroe, LA                                                  ",
         "marker": {
          "color": "#FFA15A",
          "symbol": "circle"
         },
         "mode": "markers",
         "name": "Monroe, LA                                                  ",
         "showlegend": true,
         "type": "scattergl",
         "x": [
          2023,
          2022,
          2021,
          2020,
          2019
         ],
         "xaxis": "x",
         "y": [
          410,
          489,
          620,
          466,
          516
         ],
         "yaxis": "y"
        },
        {
         "hovertemplate": "<b>%{hovertext}</b><br><br>Name=Monroe, MI                                                  <br>Year=%{x}<br>Total=%{y}<extra></extra>",
         "hovertext": [
          "Monroe, MI                                                  ",
          "Monroe, MI                                                  ",
          "Monroe, MI                                                  ",
          "Monroe, MI                                                  ",
          "Monroe, MI                                                  "
         ],
         "legendgroup": "Monroe, MI                                                  ",
         "marker": {
          "color": "#19d3f3",
          "symbol": "circle"
         },
         "mode": "markers",
         "name": "Monroe, MI                                                  ",
         "showlegend": true,
         "type": "scattergl",
         "x": [
          2023,
          2022,
          2021,
          2020,
          2019
         ],
         "xaxis": "x",
         "y": [
          253,
          266,
          265,
          367,
          323
         ],
         "yaxis": "y"
        },
        {
         "hovertemplate": "<b>%{hovertext}</b><br><br>Name=Montgomery, AL                                              <br>Year=%{x}<br>Total=%{y}<extra></extra>",
         "hovertext": [
          "Montgomery, AL                                              ",
          "Montgomery, AL                                              ",
          "Montgomery, AL                                              ",
          "Montgomery, AL                                              ",
          "Montgomery, AL                                              "
         ],
         "legendgroup": "Montgomery, AL                                              ",
         "marker": {
          "color": "#FF6692",
          "symbol": "circle"
         },
         "mode": "markers",
         "name": "Montgomery, AL                                              ",
         "showlegend": true,
         "type": "scattergl",
         "x": [
          2023,
          2022,
          2021,
          2020,
          2019
         ],
         "xaxis": "x",
         "y": [
          837,
          797,
          1014,
          979,
          775
         ],
         "yaxis": "y"
        },
        {
         "hovertemplate": "<b>%{hovertext}</b><br><br>Name=Morgantown, WV                                              <br>Year=%{x}<br>Total=%{y}<extra></extra>",
         "hovertext": [
          "Morgantown, WV                                              ",
          "Morgantown, WV                                              ",
          "Morgantown, WV                                              ",
          "Morgantown, WV                                              ",
          "Morgantown, WV                                              "
         ],
         "legendgroup": "Morgantown, WV                                              ",
         "marker": {
          "color": "#B6E880",
          "symbol": "circle"
         },
         "mode": "markers",
         "name": "Morgantown, WV                                              ",
         "showlegend": true,
         "type": "scattergl",
         "x": [
          2023,
          2022,
          2021,
          2020,
          2019
         ],
         "xaxis": "x",
         "y": [
          16,
          11,
          21,
          25,
          34
         ],
         "yaxis": "y"
        },
        {
         "hovertemplate": "<b>%{hovertext}</b><br><br>Name=Morristown, TN                                              <br>Year=%{x}<br>Total=%{y}<extra></extra>",
         "hovertext": [
          "Morristown, TN                                              ",
          "Morristown, TN                                              ",
          "Morristown, TN                                              ",
          "Morristown, TN                                              ",
          "Morristown, TN                                              "
         ],
         "legendgroup": "Morristown, TN                                              ",
         "marker": {
          "color": "#FF97FF",
          "symbol": "circle"
         },
         "mode": "markers",
         "name": "Morristown, TN                                              ",
         "showlegend": true,
         "type": "scattergl",
         "x": [
          2023,
          2022,
          2021,
          2020,
          2019
         ],
         "xaxis": "x",
         "y": [
          833,
          969,
          993,
          548,
          454
         ],
         "yaxis": "y"
        },
        {
         "hovertemplate": "<b>%{hovertext}</b><br><br>Name=Mount Vernon-Anacortes, WA                                  <br>Year=%{x}<br>Total=%{y}<extra></extra>",
         "hovertext": [
          "Mount Vernon-Anacortes, WA                                  ",
          "Mount Vernon-Anacortes, WA                                  ",
          "Mount Vernon-Anacortes, WA                                  ",
          "Mount Vernon-Anacortes, WA                                  ",
          "Mount Vernon-Anacortes, WA                                  "
         ],
         "legendgroup": "Mount Vernon-Anacortes, WA                                  ",
         "marker": {
          "color": "#FECB52",
          "symbol": "circle"
         },
         "mode": "markers",
         "name": "Mount Vernon-Anacortes, WA                                  ",
         "showlegend": true,
         "type": "scattergl",
         "x": [
          2023,
          2022,
          2021,
          2020,
          2019
         ],
         "xaxis": "x",
         "y": [
          487,
          579,
          914,
          561,
          518
         ],
         "yaxis": "y"
        },
        {
         "hovertemplate": "<b>%{hovertext}</b><br><br>Name=Muncie, IN                                                  <br>Year=%{x}<br>Total=%{y}<extra></extra>",
         "hovertext": [
          "Muncie, IN                                                  ",
          "Muncie, IN                                                  ",
          "Muncie, IN                                                  ",
          "Muncie, IN                                                  ",
          "Muncie, IN                                                  "
         ],
         "legendgroup": "Muncie, IN                                                  ",
         "marker": {
          "color": "#636efa",
          "symbol": "circle"
         },
         "mode": "markers",
         "name": "Muncie, IN                                                  ",
         "showlegend": true,
         "type": "scattergl",
         "x": [
          2023,
          2022,
          2021,
          2020,
          2019
         ],
         "xaxis": "x",
         "y": [
          94,
          201,
          113,
          171,
          58
         ],
         "yaxis": "y"
        },
        {
         "hovertemplate": "<b>%{hovertext}</b><br><br>Name=Muskegon, MI                                                <br>Year=%{x}<br>Total=%{y}<extra></extra>",
         "hovertext": [
          "Muskegon, MI                                                ",
          "Muskegon, MI                                                ",
          "Muskegon, MI                                                ",
          "Muskegon, MI                                                ",
          "Muskegon, MI                                                "
         ],
         "legendgroup": "Muskegon, MI                                                ",
         "marker": {
          "color": "#EF553B",
          "symbol": "circle"
         },
         "mode": "markers",
         "name": "Muskegon, MI                                                ",
         "showlegend": true,
         "type": "scattergl",
         "x": [
          2023,
          2022,
          2021,
          2020,
          2019
         ],
         "xaxis": "x",
         "y": [
          344,
          548,
          328,
          268,
          339
         ],
         "yaxis": "y"
        },
        {
         "hovertemplate": "<b>%{hovertext}</b><br><br>Name=Myrtle Beach-Conway-North Myrtle Beach, SC-NC               <br>Year=%{x}<br>Total=%{y}<extra></extra>",
         "hovertext": [
          "Myrtle Beach-Conway-North Myrtle Beach, SC-NC               ",
          "Myrtle Beach-Conway-North Myrtle Beach, SC-NC               ",
          "Myrtle Beach-Conway-North Myrtle Beach, SC-NC               ",
          "Myrtle Beach-Conway-North Myrtle Beach, SC-NC               ",
          "Myrtle Beach-Conway-North Myrtle Beach, SC-NC               "
         ],
         "legendgroup": "Myrtle Beach-Conway-North Myrtle Beach, SC-NC               ",
         "marker": {
          "color": "#00cc96",
          "symbol": "circle"
         },
         "mode": "markers",
         "name": "Myrtle Beach-Conway-North Myrtle Beach, SC-NC               ",
         "showlegend": true,
         "type": "scattergl",
         "x": [
          2023,
          2022,
          2021,
          2020,
          2019
         ],
         "xaxis": "x",
         "y": [
          13072,
          11983,
          12219,
          9139,
          7840
         ],
         "yaxis": "y"
        },
        {
         "hovertemplate": "<b>%{hovertext}</b><br><br>Name=Napa, CA                                                    <br>Year=%{x}<br>Total=%{y}<extra></extra>",
         "hovertext": [
          "Napa, CA                                                    ",
          "Napa, CA                                                    ",
          "Napa, CA                                                    ",
          "Napa, CA                                                    ",
          "Napa, CA                                                    "
         ],
         "legendgroup": "Napa, CA                                                    ",
         "marker": {
          "color": "#ab63fa",
          "symbol": "circle"
         },
         "mode": "markers",
         "name": "Napa, CA                                                    ",
         "showlegend": true,
         "type": "scattergl",
         "x": [
          2023,
          2022,
          2021,
          2020,
          2019
         ],
         "xaxis": "x",
         "y": [
          338,
          1100,
          1204,
          770,
          749
         ],
         "yaxis": "y"
        },
        {
         "hovertemplate": "<b>%{hovertext}</b><br><br>Name=Naples-Marco Island, FL                                     <br>Year=%{x}<br>Total=%{y}<extra></extra>",
         "hovertext": [
          "Naples-Marco Island, FL                                     ",
          "Naples-Marco Island, FL                                     ",
          "Naples-Marco Island, FL                                     ",
          "Naples-Marco Island, FL                                     ",
          "Naples-Marco Island, FL                                     "
         ],
         "legendgroup": "Naples-Marco Island, FL                                     ",
         "marker": {
          "color": "#FFA15A",
          "symbol": "circle"
         },
         "mode": "markers",
         "name": "Naples-Marco Island, FL                                     ",
         "showlegend": true,
         "type": "scattergl",
         "x": [
          2023,
          2022,
          2021,
          2020,
          2019
         ],
         "xaxis": "x",
         "y": [
          3633,
          5517,
          6766,
          4473,
          3991
         ],
         "yaxis": "y"
        },
        {
         "hovertemplate": "<b>%{hovertext}</b><br><br>Name=Nashville-Davidson--Murfreesboro--Franklin, TN              <br>Year=%{x}<br>Total=%{y}<extra></extra>",
         "hovertext": [
          "Nashville-Davidson--Murfreesboro--Franklin, TN              ",
          "Nashville-Davidson--Murfreesboro--Franklin, TN              ",
          "Nashville-Davidson--Murfreesboro--Franklin, TN              ",
          "Nashville-Davidson--Murfreesboro--Franklin, TN              ",
          "Nashville-Davidson--Murfreesboro--Franklin, TN              "
         ],
         "legendgroup": "Nashville-Davidson--Murfreesboro--Franklin, TN              ",
         "marker": {
          "color": "#19d3f3",
          "symbol": "circle"
         },
         "mode": "markers",
         "name": "Nashville-Davidson--Murfreesboro--Franklin, TN              ",
         "showlegend": true,
         "type": "scattergl",
         "x": [
          2023,
          2022,
          2021,
          2020,
          2019
         ],
         "xaxis": "x",
         "y": [
          23903,
          28192,
          32191,
          27158,
          22702
         ],
         "yaxis": "y"
        },
        {
         "hovertemplate": "<b>%{hovertext}</b><br><br>Name=New Bern, NC                                                <br>Year=%{x}<br>Total=%{y}<extra></extra>",
         "hovertext": [
          "New Bern, NC                                                ",
          "New Bern, NC                                                ",
          "New Bern, NC                                                ",
          "New Bern, NC                                                ",
          "New Bern, NC                                                "
         ],
         "legendgroup": "New Bern, NC                                                ",
         "marker": {
          "color": "#FF6692",
          "symbol": "circle"
         },
         "mode": "markers",
         "name": "New Bern, NC                                                ",
         "showlegend": true,
         "type": "scattergl",
         "x": [
          2023,
          2022,
          2021,
          2020,
          2019
         ],
         "xaxis": "x",
         "y": [
          619,
          690,
          406,
          735,
          552
         ],
         "yaxis": "y"
        },
        {
         "hovertemplate": "<b>%{hovertext}</b><br><br>Name=New Haven-Milford, CT                                       <br>Year=%{x}<br>Total=%{y}<extra></extra>",
         "hovertext": [
          "New Haven-Milford, CT                                       ",
          "New Haven-Milford, CT                                       ",
          "New Haven-Milford, CT                                       ",
          "New Haven-Milford, CT                                       ",
          "New Haven-Milford, CT                                       "
         ],
         "legendgroup": "New Haven-Milford, CT                                       ",
         "marker": {
          "color": "#B6E880",
          "symbol": "circle"
         },
         "mode": "markers",
         "name": "New Haven-Milford, CT                                       ",
         "showlegend": true,
         "type": "scattergl",
         "x": [
          2023,
          2022,
          2021,
          2020,
          2019
         ],
         "xaxis": "x",
         "y": [
          1652,
          1263,
          983,
          1373,
          1453
         ],
         "yaxis": "y"
        },
        {
         "hovertemplate": "<b>%{hovertext}</b><br><br>Name=New Orleans-Metairie, LA                                    <br>Year=%{x}<br>Total=%{y}<extra></extra>",
         "hovertext": [
          "New Orleans-Metairie, LA                                    ",
          "New Orleans-Metairie, LA                                    ",
          "New Orleans-Metairie, LA                                    ",
          "New Orleans-Metairie, LA                                    ",
          "New Orleans-Metairie, LA                                    "
         ],
         "legendgroup": "New Orleans-Metairie, LA                                    ",
         "marker": {
          "color": "#FF97FF",
          "symbol": "circle"
         },
         "mode": "markers",
         "name": "New Orleans-Metairie, LA                                    ",
         "showlegend": true,
         "type": "scattergl",
         "x": [
          2023,
          2022,
          2021,
          2020,
          2019
         ],
         "xaxis": "x",
         "y": [
          3101,
          4166,
          5282,
          4348,
          4026
         ],
         "yaxis": "y"
        },
        {
         "hovertemplate": "<b>%{hovertext}</b><br><br>Name=New York-Newark-Jersey City, NY-NJ-PA                       <br>Year=%{x}<br>Total=%{y}<extra></extra>",
         "hovertext": [
          "New York-Newark-Jersey City, NY-NJ-PA                       ",
          "New York-Newark-Jersey City, NY-NJ-PA                       ",
          "New York-Newark-Jersey City, NY-NJ-PA                       ",
          "New York-Newark-Jersey City, NY-NJ-PA                       ",
          "New York-Newark-Jersey City, NY-NJ-PA                       "
         ],
         "legendgroup": "New York-Newark-Jersey City, NY-NJ-PA                       ",
         "marker": {
          "color": "#FECB52",
          "symbol": "circle"
         },
         "mode": "markers",
         "name": "New York-Newark-Jersey City, NY-NJ-PA                       ",
         "showlegend": true,
         "type": "scattergl",
         "x": [
          2023,
          2022,
          2021,
          2020,
          2019
         ],
         "xaxis": "x",
         "y": [
          39941,
          58412,
          56661,
          54835,
          61168
         ],
         "yaxis": "y"
        },
        {
         "hovertemplate": "<b>%{hovertext}</b><br><br>Name=Niles, MI                                                   <br>Year=%{x}<br>Total=%{y}<extra></extra>",
         "hovertext": [
          "Niles, MI                                                   ",
          "Niles, MI                                                   ",
          "Niles, MI                                                   ",
          "Niles, MI                                                   ",
          "Niles, MI                                                   "
         ],
         "legendgroup": "Niles, MI                                                   ",
         "marker": {
          "color": "#636efa",
          "symbol": "circle"
         },
         "mode": "markers",
         "name": "Niles, MI                                                   ",
         "showlegend": true,
         "type": "scattergl",
         "x": [
          2023,
          2022,
          2021,
          2020,
          2019
         ],
         "xaxis": "x",
         "y": [
          342,
          287,
          331,
          260,
          206
         ],
         "yaxis": "y"
        },
        {
         "hovertemplate": "<b>%{hovertext}</b><br><br>Name=North Port-Sarasota-Bradenton, FL                           <br>Year=%{x}<br>Total=%{y}<extra></extra>",
         "hovertext": [
          "North Port-Sarasota-Bradenton, FL                           ",
          "North Port-Sarasota-Bradenton, FL                           ",
          "North Port-Sarasota-Bradenton, FL                           ",
          "North Port-Sarasota-Bradenton, FL                           ",
          "North Port-Sarasota-Bradenton, FL                           "
         ],
         "legendgroup": "North Port-Sarasota-Bradenton, FL                           ",
         "marker": {
          "color": "#EF553B",
          "symbol": "circle"
         },
         "mode": "markers",
         "name": "North Port-Sarasota-Bradenton, FL                           ",
         "showlegend": true,
         "type": "scattergl",
         "x": [
          2023,
          2022,
          2021,
          2020,
          2019
         ],
         "xaxis": "x",
         "y": [
          15919,
          15780,
          15924,
          9489,
          10009
         ],
         "yaxis": "y"
        },
        {
         "hovertemplate": "<b>%{hovertext}</b><br><br>Name=Norwich-New London, CT                                      <br>Year=%{x}<br>Total=%{y}<extra></extra>",
         "hovertext": [
          "Norwich-New London, CT                                      ",
          "Norwich-New London, CT                                      ",
          "Norwich-New London, CT                                      ",
          "Norwich-New London, CT                                      ",
          "Norwich-New London, CT                                      "
         ],
         "legendgroup": "Norwich-New London, CT                                      ",
         "marker": {
          "color": "#00cc96",
          "symbol": "circle"
         },
         "mode": "markers",
         "name": "Norwich-New London, CT                                      ",
         "showlegend": true,
         "type": "scattergl",
         "x": [
          2023,
          2022,
          2021,
          2020,
          2019
         ],
         "xaxis": "x",
         "y": [
          346,
          445,
          456,
          456,
          537
         ],
         "yaxis": "y"
        },
        {
         "hovertemplate": "<b>%{hovertext}</b><br><br>Name=Ocala, FL                                                   <br>Year=%{x}<br>Total=%{y}<extra></extra>",
         "hovertext": [
          "Ocala, FL                                                   ",
          "Ocala, FL                                                   ",
          "Ocala, FL                                                   ",
          "Ocala, FL                                                   ",
          "Ocala, FL                                                   "
         ],
         "legendgroup": "Ocala, FL                                                   ",
         "marker": {
          "color": "#ab63fa",
          "symbol": "circle"
         },
         "mode": "markers",
         "name": "Ocala, FL                                                   ",
         "showlegend": true,
         "type": "scattergl",
         "x": [
          2023,
          2022,
          2021,
          2020,
          2019
         ],
         "xaxis": "x",
         "y": [
          5197,
          6489,
          6229,
          3827,
          2367
         ],
         "yaxis": "y"
        },
        {
         "hovertemplate": "<b>%{hovertext}</b><br><br>Name=Ocean City, NJ                                              <br>Year=%{x}<br>Total=%{y}<extra></extra>",
         "hovertext": [
          "Ocean City, NJ                                              ",
          "Ocean City, NJ                                              ",
          "Ocean City, NJ                                              ",
          "Ocean City, NJ                                              ",
          "Ocean City, NJ                                              "
         ],
         "legendgroup": "Ocean City, NJ                                              ",
         "marker": {
          "color": "#FFA15A",
          "symbol": "circle"
         },
         "mode": "markers",
         "name": "Ocean City, NJ                                              ",
         "showlegend": true,
         "type": "scattergl",
         "x": [
          2023,
          2022,
          2021,
          2020,
          2019
         ],
         "xaxis": "x",
         "y": [
          805,
          838,
          917,
          675,
          863
         ],
         "yaxis": "y"
        },
        {
         "hovertemplate": "<b>%{hovertext}</b><br><br>Name=Odessa, TX                                                  <br>Year=%{x}<br>Total=%{y}<extra></extra>",
         "hovertext": [
          "Odessa, TX                                                  ",
          "Odessa, TX                                                  ",
          "Odessa, TX                                                  ",
          "Odessa, TX                                                  ",
          "Odessa, TX                                                  "
         ],
         "legendgroup": "Odessa, TX                                                  ",
         "marker": {
          "color": "#19d3f3",
          "symbol": "circle"
         },
         "mode": "markers",
         "name": "Odessa, TX                                                  ",
         "showlegend": true,
         "type": "scattergl",
         "x": [
          2023,
          2022,
          2021,
          2020,
          2019
         ],
         "xaxis": "x",
         "y": [
          829,
          888,
          1406,
          1188,
          1782
         ],
         "yaxis": "y"
        },
        {
         "hovertemplate": "<b>%{hovertext}</b><br><br>Name=Ogden-Clearfield, UT                                        <br>Year=%{x}<br>Total=%{y}<extra></extra>",
         "hovertext": [
          "Ogden-Clearfield, UT                                        ",
          "Ogden-Clearfield, UT                                        ",
          "Ogden-Clearfield, UT                                        ",
          "Ogden-Clearfield, UT                                        ",
          "Ogden-Clearfield, UT                                        "
         ],
         "legendgroup": "Ogden-Clearfield, UT                                        ",
         "marker": {
          "color": "#FF6692",
          "symbol": "circle"
         },
         "mode": "markers",
         "name": "Ogden-Clearfield, UT                                        ",
         "showlegend": true,
         "type": "scattergl",
         "x": [
          2023,
          2022,
          2021,
          2020,
          2019
         ],
         "xaxis": "x",
         "y": [
          3323,
          5027,
          7482,
          5462,
          3895
         ],
         "yaxis": "y"
        },
        {
         "hovertemplate": "<b>%{hovertext}</b><br><br>Name=Oklahoma City, OK                                           <br>Year=%{x}<br>Total=%{y}<extra></extra>",
         "hovertext": [
          "Oklahoma City, OK                                           ",
          "Oklahoma City, OK                                           ",
          "Oklahoma City, OK                                           ",
          "Oklahoma City, OK                                           ",
          "Oklahoma City, OK                                           "
         ],
         "legendgroup": "Oklahoma City, OK                                           ",
         "marker": {
          "color": "#B6E880",
          "symbol": "circle"
         },
         "mode": "markers",
         "name": "Oklahoma City, OK                                           ",
         "showlegend": true,
         "type": "scattergl",
         "x": [
          2023,
          2022,
          2021,
          2020,
          2019
         ],
         "xaxis": "x",
         "y": [
          6458,
          6911,
          8080,
          7431,
          6557
         ],
         "yaxis": "y"
        },
        {
         "hovertemplate": "<b>%{hovertext}</b><br><br>Name=Olympia-Lacey-Tumwater, WA                                  <br>Year=%{x}<br>Total=%{y}<extra></extra>",
         "hovertext": [
          "Olympia-Lacey-Tumwater, WA                                  ",
          "Olympia-Lacey-Tumwater, WA                                  ",
          "Olympia-Lacey-Tumwater, WA                                  ",
          "Olympia-Lacey-Tumwater, WA                                  ",
          "Olympia-Lacey-Tumwater, WA                                  "
         ],
         "legendgroup": "Olympia-Lacey-Tumwater, WA                                  ",
         "marker": {
          "color": "#FF97FF",
          "symbol": "circle"
         },
         "mode": "markers",
         "name": "Olympia-Lacey-Tumwater, WA                                  ",
         "showlegend": true,
         "type": "scattergl",
         "x": [
          2023,
          2022,
          2021,
          2020,
          2019
         ],
         "xaxis": "x",
         "y": [
          1512,
          1538,
          2054,
          1161,
          1713
         ],
         "yaxis": "y"
        },
        {
         "hovertemplate": "<b>%{hovertext}</b><br><br>Name=Omaha-Council Bluffs, NE-IA                                 <br>Year=%{x}<br>Total=%{y}<extra></extra>",
         "hovertext": [
          "Omaha-Council Bluffs, NE-IA                                 ",
          "Omaha-Council Bluffs, NE-IA                                 ",
          "Omaha-Council Bluffs, NE-IA                                 ",
          "Omaha-Council Bluffs, NE-IA                                 ",
          "Omaha-Council Bluffs, NE-IA                                 "
         ],
         "legendgroup": "Omaha-Council Bluffs, NE-IA                                 ",
         "marker": {
          "color": "#FECB52",
          "symbol": "circle"
         },
         "mode": "markers",
         "name": "Omaha-Council Bluffs, NE-IA                                 ",
         "showlegend": true,
         "type": "scattergl",
         "x": [
          2023,
          2022,
          2021,
          2020,
          2019
         ],
         "xaxis": "x",
         "y": [
          4705,
          6120,
          6382,
          5473,
          4100
         ],
         "yaxis": "y"
        },
        {
         "hovertemplate": "<b>%{hovertext}</b><br><br>Name=Orlando-Kissimmee-Sanford, FL                               <br>Year=%{x}<br>Total=%{y}<extra></extra>",
         "hovertext": [
          "Orlando-Kissimmee-Sanford, FL                               ",
          "Orlando-Kissimmee-Sanford, FL                               ",
          "Orlando-Kissimmee-Sanford, FL                               ",
          "Orlando-Kissimmee-Sanford, FL                               ",
          "Orlando-Kissimmee-Sanford, FL                               "
         ],
         "legendgroup": "Orlando-Kissimmee-Sanford, FL                               ",
         "marker": {
          "color": "#636efa",
          "symbol": "circle"
         },
         "mode": "markers",
         "name": "Orlando-Kissimmee-Sanford, FL                               ",
         "showlegend": true,
         "type": "scattergl",
         "x": [
          2023,
          2022,
          2021,
          2020,
          2019
         ],
         "xaxis": "x",
         "y": [
          25774,
          28683,
          30618,
          24499,
          24470
         ],
         "yaxis": "y"
        },
        {
         "hovertemplate": "<b>%{hovertext}</b><br><br>Name=Oshkosh-Neenah, WI                                          <br>Year=%{x}<br>Total=%{y}<extra></extra>",
         "hovertext": [
          "Oshkosh-Neenah, WI                                          ",
          "Oshkosh-Neenah, WI                                          ",
          "Oshkosh-Neenah, WI                                          ",
          "Oshkosh-Neenah, WI                                          ",
          "Oshkosh-Neenah, WI                                          "
         ],
         "legendgroup": "Oshkosh-Neenah, WI                                          ",
         "marker": {
          "color": "#EF553B",
          "symbol": "circle"
         },
         "mode": "markers",
         "name": "Oshkosh-Neenah, WI                                          ",
         "showlegend": true,
         "type": "scattergl",
         "x": [
          2023,
          2022,
          2021,
          2020,
          2019
         ],
         "xaxis": "x",
         "y": [
          423,
          459,
          948,
          554,
          334
         ],
         "yaxis": "y"
        },
        {
         "hovertemplate": "<b>%{hovertext}</b><br><br>Name=Owensboro, KY                                               <br>Year=%{x}<br>Total=%{y}<extra></extra>",
         "hovertext": [
          "Owensboro, KY                                               ",
          "Owensboro, KY                                               ",
          "Owensboro, KY                                               ",
          "Owensboro, KY                                               ",
          "Owensboro, KY                                               "
         ],
         "legendgroup": "Owensboro, KY                                               ",
         "marker": {
          "color": "#00cc96",
          "symbol": "circle"
         },
         "mode": "markers",
         "name": "Owensboro, KY                                               ",
         "showlegend": true,
         "type": "scattergl",
         "x": [
          2023,
          2022,
          2021,
          2020,
          2019
         ],
         "xaxis": "x",
         "y": [
          293,
          247,
          398,
          348,
          325
         ],
         "yaxis": "y"
        },
        {
         "hovertemplate": "<b>%{hovertext}</b><br><br>Name=Oxnard-Thousand Oaks-Ventura, CA                            <br>Year=%{x}<br>Total=%{y}<extra></extra>",
         "hovertext": [
          "Oxnard-Thousand Oaks-Ventura, CA                            ",
          "Oxnard-Thousand Oaks-Ventura, CA                            ",
          "Oxnard-Thousand Oaks-Ventura, CA                            ",
          "Oxnard-Thousand Oaks-Ventura, CA                            ",
          "Oxnard-Thousand Oaks-Ventura, CA                            "
         ],
         "legendgroup": "Oxnard-Thousand Oaks-Ventura, CA                            ",
         "marker": {
          "color": "#ab63fa",
          "symbol": "circle"
         },
         "mode": "markers",
         "name": "Oxnard-Thousand Oaks-Ventura, CA                            ",
         "showlegend": true,
         "type": "scattergl",
         "x": [
          2023,
          2022,
          2021,
          2020,
          2019
         ],
         "xaxis": "x",
         "y": [
          1089,
          1368,
          1477,
          1501,
          1146
         ],
         "yaxis": "y"
        },
        {
         "hovertemplate": "<b>%{hovertext}</b><br><br>Name=Palm Bay-Melbourne-Titusville, FL                           <br>Year=%{x}<br>Total=%{y}<extra></extra>",
         "hovertext": [
          "Palm Bay-Melbourne-Titusville, FL                           ",
          "Palm Bay-Melbourne-Titusville, FL                           ",
          "Palm Bay-Melbourne-Titusville, FL                           ",
          "Palm Bay-Melbourne-Titusville, FL                           ",
          "Palm Bay-Melbourne-Titusville, FL                           "
         ],
         "legendgroup": "Palm Bay-Melbourne-Titusville, FL                           ",
         "marker": {
          "color": "#FFA15A",
          "symbol": "circle"
         },
         "mode": "markers",
         "name": "Palm Bay-Melbourne-Titusville, FL                           ",
         "showlegend": true,
         "type": "scattergl",
         "x": [
          2023,
          2022,
          2021,
          2020,
          2019
         ],
         "xaxis": "x",
         "y": [
          6534,
          5258,
          5174,
          4739,
          4202
         ],
         "yaxis": "y"
        },
        {
         "hovertemplate": "<b>%{hovertext}</b><br><br>Name=Panama City, FL                                             <br>Year=%{x}<br>Total=%{y}<extra></extra>",
         "hovertext": [
          "Panama City, FL                                             ",
          "Panama City, FL                                             ",
          "Panama City, FL                                             ",
          "Panama City, FL                                             ",
          "Panama City, FL                                             "
         ],
         "legendgroup": "Panama City, FL                                             ",
         "marker": {
          "color": "#19d3f3",
          "symbol": "circle"
         },
         "mode": "markers",
         "name": "Panama City, FL                                             ",
         "showlegend": true,
         "type": "scattergl",
         "x": [
          2023,
          2022,
          2021,
          2020,
          2019
         ],
         "xaxis": "x",
         "y": [
          2317,
          2288,
          2610,
          2846,
          1795
         ],
         "yaxis": "y"
        },
        {
         "hovertemplate": "<b>%{hovertext}</b><br><br>Name=Parkersburg-Vienna, WV                                      <br>Year=%{x}<br>Total=%{y}<extra></extra>",
         "hovertext": [
          "Parkersburg-Vienna, WV                                      ",
          "Parkersburg-Vienna, WV                                      ",
          "Parkersburg-Vienna, WV                                      ",
          "Parkersburg-Vienna, WV                                      ",
          "Parkersburg-Vienna, WV                                      "
         ],
         "legendgroup": "Parkersburg-Vienna, WV                                      ",
         "marker": {
          "color": "#FF6692",
          "symbol": "circle"
         },
         "mode": "markers",
         "name": "Parkersburg-Vienna, WV                                      ",
         "showlegend": true,
         "type": "scattergl",
         "x": [
          2023,
          2022,
          2021,
          2020,
          2019
         ],
         "xaxis": "x",
         "y": [
          96,
          66,
          109,
          83,
          142
         ],
         "yaxis": "y"
        },
        {
         "hovertemplate": "<b>%{hovertext}</b><br><br>Name=Pensacola-Ferry Pass-Brent, FL                              <br>Year=%{x}<br>Total=%{y}<extra></extra>",
         "hovertext": [
          "Pensacola-Ferry Pass-Brent, FL                              ",
          "Pensacola-Ferry Pass-Brent, FL                              ",
          "Pensacola-Ferry Pass-Brent, FL                              ",
          "Pensacola-Ferry Pass-Brent, FL                              ",
          "Pensacola-Ferry Pass-Brent, FL                              "
         ],
         "legendgroup": "Pensacola-Ferry Pass-Brent, FL                              ",
         "marker": {
          "color": "#B6E880",
          "symbol": "circle"
         },
         "mode": "markers",
         "name": "Pensacola-Ferry Pass-Brent, FL                              ",
         "showlegend": true,
         "type": "scattergl",
         "x": [
          2023,
          2022,
          2021,
          2020,
          2019
         ],
         "xaxis": "x",
         "y": [
          2824,
          3519,
          4051,
          4391,
          3222
         ],
         "yaxis": "y"
        },
        {
         "hovertemplate": "<b>%{hovertext}</b><br><br>Name=Peoria, IL                                                  <br>Year=%{x}<br>Total=%{y}<extra></extra>",
         "hovertext": [
          "Peoria, IL                                                  ",
          "Peoria, IL                                                  ",
          "Peoria, IL                                                  ",
          "Peoria, IL                                                  ",
          "Peoria, IL                                                  "
         ],
         "legendgroup": "Peoria, IL                                                  ",
         "marker": {
          "color": "#FF97FF",
          "symbol": "circle"
         },
         "mode": "markers",
         "name": "Peoria, IL                                                  ",
         "showlegend": true,
         "type": "scattergl",
         "x": [
          2023,
          2022,
          2021,
          2020,
          2019
         ],
         "xaxis": "x",
         "y": [
          202,
          291,
          379,
          272,
          308
         ],
         "yaxis": "y"
        },
        {
         "hovertemplate": "<b>%{hovertext}</b><br><br>Name=Philadelphia-Camden-Wilmington, PA-NJ-DE-MD                 <br>Year=%{x}<br>Total=%{y}<extra></extra>",
         "hovertext": [
          "Philadelphia-Camden-Wilmington, PA-NJ-DE-MD                 ",
          "Philadelphia-Camden-Wilmington, PA-NJ-DE-MD                 ",
          "Philadelphia-Camden-Wilmington, PA-NJ-DE-MD                 ",
          "Philadelphia-Camden-Wilmington, PA-NJ-DE-MD                 ",
          "Philadelphia-Camden-Wilmington, PA-NJ-DE-MD                 "
         ],
         "legendgroup": "Philadelphia-Camden-Wilmington, PA-NJ-DE-MD                 ",
         "marker": {
          "color": "#FECB52",
          "symbol": "circle"
         },
         "mode": "markers",
         "name": "Philadelphia-Camden-Wilmington, PA-NJ-DE-MD                 ",
         "showlegend": true,
         "type": "scattergl",
         "x": [
          2023,
          2022,
          2021,
          2020,
          2019
         ],
         "xaxis": "x",
         "y": [
          13476,
          14413,
          36307,
          16201,
          15607
         ],
         "yaxis": "y"
        },
        {
         "hovertemplate": "<b>%{hovertext}</b><br><br>Name=Phoenix-Mesa-Chandler, AZ                                   <br>Year=%{x}<br>Total=%{y}<extra></extra>",
         "hovertext": [
          "Phoenix-Mesa-Chandler, AZ                                   ",
          "Phoenix-Mesa-Chandler, AZ                                   ",
          "Phoenix-Mesa-Chandler, AZ                                   ",
          "Phoenix-Mesa-Chandler, AZ                                   ",
          "Phoenix-Mesa-Chandler, AZ                                   "
         ],
         "legendgroup": "Phoenix-Mesa-Chandler, AZ                                   ",
         "marker": {
          "color": "#636efa",
          "symbol": "circle"
         },
         "mode": "markers",
         "name": "Phoenix-Mesa-Chandler, AZ                                   ",
         "showlegend": true,
         "type": "scattergl",
         "x": [
          2023,
          2022,
          2021,
          2020,
          2019
         ],
         "xaxis": "x",
         "y": [
          45637,
          47267,
          50581,
          48219,
          35873
         ],
         "yaxis": "y"
        },
        {
         "hovertemplate": "<b>%{hovertext}</b><br><br>Name=Pine Bluff, AR                                              <br>Year=%{x}<br>Total=%{y}<extra></extra>",
         "hovertext": [
          "Pine Bluff, AR                                              ",
          "Pine Bluff, AR                                              ",
          "Pine Bluff, AR                                              ",
          "Pine Bluff, AR                                              ",
          "Pine Bluff, AR                                              "
         ],
         "legendgroup": "Pine Bluff, AR                                              ",
         "marker": {
          "color": "#EF553B",
          "symbol": "circle"
         },
         "mode": "markers",
         "name": "Pine Bluff, AR                                              ",
         "showlegend": true,
         "type": "scattergl",
         "x": [
          2023,
          2022,
          2021,
          2020,
          2019
         ],
         "xaxis": "x",
         "y": [
          97,
          63,
          46,
          73,
          43
         ],
         "yaxis": "y"
        },
        {
         "hovertemplate": "<b>%{hovertext}</b><br><br>Name=Pittsburgh, PA                                              <br>Year=%{x}<br>Total=%{y}<extra></extra>",
         "hovertext": [
          "Pittsburgh, PA                                              ",
          "Pittsburgh, PA                                              ",
          "Pittsburgh, PA                                              ",
          "Pittsburgh, PA                                              ",
          "Pittsburgh, PA                                              "
         ],
         "legendgroup": "Pittsburgh, PA                                              ",
         "marker": {
          "color": "#00cc96",
          "symbol": "circle"
         },
         "mode": "markers",
         "name": "Pittsburgh, PA                                              ",
         "showlegend": true,
         "type": "scattergl",
         "x": [
          2023,
          2022,
          2021,
          2020,
          2019
         ],
         "xaxis": "x",
         "y": [
          5423,
          5665,
          5223,
          4824,
          3984
         ],
         "yaxis": "y"
        },
        {
         "hovertemplate": "<b>%{hovertext}</b><br><br>Name=Pittsfield, MA                                              <br>Year=%{x}<br>Total=%{y}<extra></extra>",
         "hovertext": [
          "Pittsfield, MA                                              ",
          "Pittsfield, MA                                              ",
          "Pittsfield, MA                                              ",
          "Pittsfield, MA                                              ",
          "Pittsfield, MA                                              "
         ],
         "legendgroup": "Pittsfield, MA                                              ",
         "marker": {
          "color": "#ab63fa",
          "symbol": "circle"
         },
         "mode": "markers",
         "name": "Pittsfield, MA                                              ",
         "showlegend": true,
         "type": "scattergl",
         "x": [
          2023,
          2022,
          2021,
          2020,
          2019
         ],
         "xaxis": "x",
         "y": [
          114,
          126,
          193,
          211,
          276
         ],
         "yaxis": "y"
        },
        {
         "hovertemplate": "<b>%{hovertext}</b><br><br>Name=Pocatello, ID                                               <br>Year=%{x}<br>Total=%{y}<extra></extra>",
         "hovertext": [
          "Pocatello, ID                                               ",
          "Pocatello, ID                                               ",
          "Pocatello, ID                                               ",
          "Pocatello, ID                                               ",
          "Pocatello, ID                                               "
         ],
         "legendgroup": "Pocatello, ID                                               ",
         "marker": {
          "color": "#FFA15A",
          "symbol": "circle"
         },
         "mode": "markers",
         "name": "Pocatello, ID                                               ",
         "showlegend": true,
         "type": "scattergl",
         "x": [
          2023,
          2022,
          2021,
          2020,
          2019
         ],
         "xaxis": "x",
         "y": [
          344,
          542,
          510,
          772,
          315
         ],
         "yaxis": "y"
        },
        {
         "hovertemplate": "<b>%{hovertext}</b><br><br>Name=Port St. Lucie, FL                                          <br>Year=%{x}<br>Total=%{y}<extra></extra>",
         "hovertext": [
          "Port St. Lucie, FL                                          ",
          "Port St. Lucie, FL                                          ",
          "Port St. Lucie, FL                                          ",
          "Port St. Lucie, FL                                          ",
          "Port St. Lucie, FL                                          "
         ],
         "legendgroup": "Port St. Lucie, FL                                          ",
         "marker": {
          "color": "#19d3f3",
          "symbol": "circle"
         },
         "mode": "markers",
         "name": "Port St. Lucie, FL                                          ",
         "showlegend": true,
         "type": "scattergl",
         "x": [
          2023,
          2022,
          2021,
          2020,
          2019
         ],
         "xaxis": "x",
         "y": [
          6137,
          7804,
          8403,
          5238,
          4277
         ],
         "yaxis": "y"
        },
        {
         "hovertemplate": "<b>%{hovertext}</b><br><br>Name=Portland-South Portland, ME                                 <br>Year=%{x}<br>Total=%{y}<extra></extra>",
         "hovertext": [
          "Portland-South Portland, ME                                 ",
          "Portland-South Portland, ME                                 ",
          "Portland-South Portland, ME                                 ",
          "Portland-South Portland, ME                                 ",
          "Portland-South Portland, ME                                 "
         ],
         "legendgroup": "Portland-South Portland, ME                                 ",
         "marker": {
          "color": "#FF6692",
          "symbol": "circle"
         },
         "mode": "markers",
         "name": "Portland-South Portland, ME                                 ",
         "showlegend": true,
         "type": "scattergl",
         "x": [
          2023,
          2022,
          2021,
          2020,
          2019
         ],
         "xaxis": "x",
         "y": [
          2972,
          3764,
          3712,
          2855,
          2875
         ],
         "yaxis": "y"
        },
        {
         "hovertemplate": "<b>%{hovertext}</b><br><br>Name=Portland-Vancouver-Hillsboro, OR-WA                         <br>Year=%{x}<br>Total=%{y}<extra></extra>",
         "hovertext": [
          "Portland-Vancouver-Hillsboro, OR-WA                         ",
          "Portland-Vancouver-Hillsboro, OR-WA                         ",
          "Portland-Vancouver-Hillsboro, OR-WA                         ",
          "Portland-Vancouver-Hillsboro, OR-WA                         ",
          "Portland-Vancouver-Hillsboro, OR-WA                         "
         ],
         "legendgroup": "Portland-Vancouver-Hillsboro, OR-WA                         ",
         "marker": {
          "color": "#B6E880",
          "symbol": "circle"
         },
         "mode": "markers",
         "name": "Portland-Vancouver-Hillsboro, OR-WA                         ",
         "showlegend": true,
         "type": "scattergl",
         "x": [
          2023,
          2022,
          2021,
          2020,
          2019
         ],
         "xaxis": "x",
         "y": [
          11294,
          12978,
          15023,
          13446,
          16815
         ],
         "yaxis": "y"
        },
        {
         "hovertemplate": "<b>%{hovertext}</b><br><br>Name=Poughkeepsie-Newburgh-Middletown, NY                        <br>Year=%{x}<br>Total=%{y}<extra></extra>",
         "hovertext": [
          "Poughkeepsie-Newburgh-Middletown, NY                        ",
          "Poughkeepsie-Newburgh-Middletown, NY                        ",
          "Poughkeepsie-Newburgh-Middletown, NY                        ",
          "Poughkeepsie-Newburgh-Middletown, NY                        ",
          "Poughkeepsie-Newburgh-Middletown, NY                        "
         ],
         "legendgroup": "Poughkeepsie-Newburgh-Middletown, NY                        ",
         "marker": {
          "color": "#FF97FF",
          "symbol": "circle"
         },
         "mode": "markers",
         "name": "Poughkeepsie-Newburgh-Middletown, NY                        ",
         "showlegend": true,
         "type": "scattergl",
         "x": [
          2023,
          2022,
          2021,
          2020,
          2019
         ],
         "xaxis": "x",
         "y": [
          1733,
          1792,
          2282,
          1696,
          1913
         ],
         "yaxis": "y"
        },
        {
         "hovertemplate": "<b>%{hovertext}</b><br><br>Name=Prescott Valley-Prescott, AZ                                <br>Year=%{x}<br>Total=%{y}<extra></extra>",
         "hovertext": [
          "Prescott Valley-Prescott, AZ                                ",
          "Prescott Valley-Prescott, AZ                                ",
          "Prescott Valley-Prescott, AZ                                ",
          "Prescott Valley-Prescott, AZ                                ",
          "Prescott Valley-Prescott, AZ                                "
         ],
         "legendgroup": "Prescott Valley-Prescott, AZ                                ",
         "marker": {
          "color": "#FECB52",
          "symbol": "circle"
         },
         "mode": "markers",
         "name": "Prescott Valley-Prescott, AZ                                ",
         "showlegend": true,
         "type": "scattergl",
         "x": [
          2023,
          2022,
          2021,
          2020,
          2019
         ],
         "xaxis": "x",
         "y": [
          1577,
          2366,
          2481,
          1891,
          2180
         ],
         "yaxis": "y"
        },
        {
         "hovertemplate": "<b>%{hovertext}</b><br><br>Name=Providence-Warwick, RI-MA                                   <br>Year=%{x}<br>Total=%{y}<extra></extra>",
         "hovertext": [
          "Providence-Warwick, RI-MA                                   ",
          "Providence-Warwick, RI-MA                                   ",
          "Providence-Warwick, RI-MA                                   ",
          "Providence-Warwick, RI-MA                                   ",
          "Providence-Warwick, RI-MA                                   "
         ],
         "legendgroup": "Providence-Warwick, RI-MA                                   ",
         "marker": {
          "color": "#636efa",
          "symbol": "circle"
         },
         "mode": "markers",
         "name": "Providence-Warwick, RI-MA                                   ",
         "showlegend": true,
         "type": "scattergl",
         "x": [
          2023,
          2022,
          2021,
          2020,
          2019
         ],
         "xaxis": "x",
         "y": [
          1909,
          2122,
          2258,
          2068,
          2048
         ],
         "yaxis": "y"
        },
        {
         "hovertemplate": "<b>%{hovertext}</b><br><br>Name=Provo-Orem, UT                                              <br>Year=%{x}<br>Total=%{y}<extra></extra>",
         "hovertext": [
          "Provo-Orem, UT                                              ",
          "Provo-Orem, UT                                              ",
          "Provo-Orem, UT                                              ",
          "Provo-Orem, UT                                              ",
          "Provo-Orem, UT                                              "
         ],
         "legendgroup": "Provo-Orem, UT                                              ",
         "marker": {
          "color": "#EF553B",
          "symbol": "circle"
         },
         "mode": "markers",
         "name": "Provo-Orem, UT                                              ",
         "showlegend": true,
         "type": "scattergl",
         "x": [
          2023,
          2022,
          2021,
          2020,
          2019
         ],
         "xaxis": "x",
         "y": [
          6175,
          8287,
          11175,
          7967,
          6947
         ],
         "yaxis": "y"
        },
        {
         "hovertemplate": "<b>%{hovertext}</b><br><br>Name=Pueblo, CO                                                  <br>Year=%{x}<br>Total=%{y}<extra></extra>",
         "hovertext": [
          "Pueblo, CO                                                  ",
          "Pueblo, CO                                                  ",
          "Pueblo, CO                                                  ",
          "Pueblo, CO                                                  ",
          "Pueblo, CO                                                  "
         ],
         "legendgroup": "Pueblo, CO                                                  ",
         "marker": {
          "color": "#00cc96",
          "symbol": "circle"
         },
         "mode": "markers",
         "name": "Pueblo, CO                                                  ",
         "showlegend": true,
         "type": "scattergl",
         "x": [
          2023,
          2022,
          2021,
          2020,
          2019
         ],
         "xaxis": "x",
         "y": [
          297,
          497,
          742,
          579,
          488
         ],
         "yaxis": "y"
        },
        {
         "hovertemplate": "<b>%{hovertext}</b><br><br>Name=Punta Gorda, FL                                             <br>Year=%{x}<br>Total=%{y}<extra></extra>",
         "hovertext": [
          "Punta Gorda, FL                                             ",
          "Punta Gorda, FL                                             ",
          "Punta Gorda, FL                                             ",
          "Punta Gorda, FL                                             ",
          "Punta Gorda, FL                                             "
         ],
         "legendgroup": "Punta Gorda, FL                                             ",
         "marker": {
          "color": "#ab63fa",
          "symbol": "circle"
         },
         "mode": "markers",
         "name": "Punta Gorda, FL                                             ",
         "showlegend": true,
         "type": "scattergl",
         "x": [
          2023,
          2022,
          2021,
          2020,
          2019
         ],
         "xaxis": "x",
         "y": [
          4429,
          5676,
          4830,
          2933,
          2329
         ],
         "yaxis": "y"
        },
        {
         "hovertemplate": "<b>%{hovertext}</b><br><br>Name=Racine, WI                                                  <br>Year=%{x}<br>Total=%{y}<extra></extra>",
         "hovertext": [
          "Racine, WI                                                  ",
          "Racine, WI                                                  ",
          "Racine, WI                                                  ",
          "Racine, WI                                                  ",
          "Racine, WI                                                  "
         ],
         "legendgroup": "Racine, WI                                                  ",
         "marker": {
          "color": "#FFA15A",
          "symbol": "circle"
         },
         "mode": "markers",
         "name": "Racine, WI                                                  ",
         "showlegend": true,
         "type": "scattergl",
         "x": [
          2023,
          2022,
          2021,
          2020,
          2019
         ],
         "xaxis": "x",
         "y": [
          208,
          163,
          245,
          224,
          322
         ],
         "yaxis": "y"
        },
        {
         "hovertemplate": "<b>%{hovertext}</b><br><br>Name=Raleigh-Cary, NC                                            <br>Year=%{x}<br>Total=%{y}<extra></extra>",
         "hovertext": [
          "Raleigh-Cary, NC                                            ",
          "Raleigh-Cary, NC                                            ",
          "Raleigh-Cary, NC                                            ",
          "Raleigh-Cary, NC                                            ",
          "Raleigh-Cary, NC                                            "
         ],
         "legendgroup": "Raleigh-Cary, NC                                            ",
         "marker": {
          "color": "#19d3f3",
          "symbol": "circle"
         },
         "mode": "markers",
         "name": "Raleigh-Cary, NC                                            ",
         "showlegend": true,
         "type": "scattergl",
         "x": [
          2023,
          2022,
          2021,
          2020,
          2019
         ],
         "xaxis": "x",
         "y": [
          20619,
          21568,
          21649,
          16958,
          13320
         ],
         "yaxis": "y"
        },
        {
         "hovertemplate": "<b>%{hovertext}</b><br><br>Name=Rapid City, SD                                              <br>Year=%{x}<br>Total=%{y}<extra></extra>",
         "hovertext": [
          "Rapid City, SD                                              ",
          "Rapid City, SD                                              ",
          "Rapid City, SD                                              ",
          "Rapid City, SD                                              ",
          "Rapid City, SD                                              "
         ],
         "legendgroup": "Rapid City, SD                                              ",
         "marker": {
          "color": "#FF6692",
          "symbol": "circle"
         },
         "mode": "markers",
         "name": "Rapid City, SD                                              ",
         "showlegend": true,
         "type": "scattergl",
         "x": [
          2023,
          2022,
          2021,
          2020,
          2019
         ],
         "xaxis": "x",
         "y": [
          1552,
          1645,
          1562,
          1320,
          722
         ],
         "yaxis": "y"
        },
        {
         "hovertemplate": "<b>%{hovertext}</b><br><br>Name=Reading, PA                                                 <br>Year=%{x}<br>Total=%{y}<extra></extra>",
         "hovertext": [
          "Reading, PA                                                 ",
          "Reading, PA                                                 ",
          "Reading, PA                                                 ",
          "Reading, PA                                                 ",
          "Reading, PA                                                 "
         ],
         "legendgroup": "Reading, PA                                                 ",
         "marker": {
          "color": "#B6E880",
          "symbol": "circle"
         },
         "mode": "markers",
         "name": "Reading, PA                                                 ",
         "showlegend": true,
         "type": "scattergl",
         "x": [
          2023,
          2022,
          2021,
          2020,
          2019
         ],
         "xaxis": "x",
         "y": [
          393,
          386,
          493,
          515,
          628
         ],
         "yaxis": "y"
        },
        {
         "hovertemplate": "<b>%{hovertext}</b><br><br>Name=Redding, CA                                                 <br>Year=%{x}<br>Total=%{y}<extra></extra>",
         "hovertext": [
          "Redding, CA                                                 ",
          "Redding, CA                                                 ",
          "Redding, CA                                                 ",
          "Redding, CA                                                 ",
          "Redding, CA                                                 "
         ],
         "legendgroup": "Redding, CA                                                 ",
         "marker": {
          "color": "#FF97FF",
          "symbol": "circle"
         },
         "mode": "markers",
         "name": "Redding, CA                                                 ",
         "showlegend": true,
         "type": "scattergl",
         "x": [
          2023,
          2022,
          2021,
          2020,
          2019
         ],
         "xaxis": "x",
         "y": [
          209,
          375,
          368,
          393,
          544
         ],
         "yaxis": "y"
        },
        {
         "hovertemplate": "<b>%{hovertext}</b><br><br>Name=Reno, NV                                                    <br>Year=%{x}<br>Total=%{y}<extra></extra>",
         "hovertext": [
          "Reno, NV                                                    ",
          "Reno, NV                                                    ",
          "Reno, NV                                                    ",
          "Reno, NV                                                    ",
          "Reno, NV                                                    "
         ],
         "legendgroup": "Reno, NV                                                    ",
         "marker": {
          "color": "#FECB52",
          "symbol": "circle"
         },
         "mode": "markers",
         "name": "Reno, NV                                                    ",
         "showlegend": true,
         "type": "scattergl",
         "x": [
          2023,
          2022,
          2021,
          2020,
          2019
         ],
         "xaxis": "x",
         "y": [
          4271,
          5812,
          5337,
          4504,
          5263
         ],
         "yaxis": "y"
        },
        {
         "hovertemplate": "<b>%{hovertext}</b><br><br>Name=Richmond, VA                                                <br>Year=%{x}<br>Total=%{y}<extra></extra>",
         "hovertext": [
          "Richmond, VA                                                ",
          "Richmond, VA                                                ",
          "Richmond, VA                                                ",
          "Richmond, VA                                                ",
          "Richmond, VA                                                "
         ],
         "legendgroup": "Richmond, VA                                                ",
         "marker": {
          "color": "#636efa",
          "symbol": "circle"
         },
         "mode": "markers",
         "name": "Richmond, VA                                                ",
         "showlegend": true,
         "type": "scattergl",
         "x": [
          2023,
          2022,
          2021,
          2020,
          2019
         ],
         "xaxis": "x",
         "y": [
          9976,
          10414,
          9547,
          8190,
          8340
         ],
         "yaxis": "y"
        },
        {
         "hovertemplate": "<b>%{hovertext}</b><br><br>Name=Riverside-San Bernardino-Ontario, CA                        <br>Year=%{x}<br>Total=%{y}<extra></extra>",
         "hovertext": [
          "Riverside-San Bernardino-Ontario, CA                        ",
          "Riverside-San Bernardino-Ontario, CA                        ",
          "Riverside-San Bernardino-Ontario, CA                        ",
          "Riverside-San Bernardino-Ontario, CA                        ",
          "Riverside-San Bernardino-Ontario, CA                        "
         ],
         "legendgroup": "Riverside-San Bernardino-Ontario, CA                        ",
         "marker": {
          "color": "#EF553B",
          "symbol": "circle"
         },
         "mode": "markers",
         "name": "Riverside-San Bernardino-Ontario, CA                        ",
         "showlegend": true,
         "type": "scattergl",
         "x": [
          2023,
          2022,
          2021,
          2020,
          2019
         ],
         "xaxis": "x",
         "y": [
          19710,
          16747,
          15606,
          15232,
          14599
         ],
         "yaxis": "y"
        },
        {
         "hovertemplate": "<b>%{hovertext}</b><br><br>Name=Roanoke, VA                                                 <br>Year=%{x}<br>Total=%{y}<extra></extra>",
         "hovertext": [
          "Roanoke, VA                                                 ",
          "Roanoke, VA                                                 ",
          "Roanoke, VA                                                 ",
          "Roanoke, VA                                                 ",
          "Roanoke, VA                                                 "
         ],
         "legendgroup": "Roanoke, VA                                                 ",
         "marker": {
          "color": "#00cc96",
          "symbol": "circle"
         },
         "mode": "markers",
         "name": "Roanoke, VA                                                 ",
         "showlegend": true,
         "type": "scattergl",
         "x": [
          2023,
          2022,
          2021,
          2020,
          2019
         ],
         "xaxis": "x",
         "y": [
          622,
          771,
          869,
          769,
          702
         ],
         "yaxis": "y"
        },
        {
         "hovertemplate": "<b>%{hovertext}</b><br><br>Name=Rochester, MN                                               <br>Year=%{x}<br>Total=%{y}<extra></extra>",
         "hovertext": [
          "Rochester, MN                                               ",
          "Rochester, MN                                               ",
          "Rochester, MN                                               ",
          "Rochester, MN                                               ",
          "Rochester, MN                                               "
         ],
         "legendgroup": "Rochester, MN                                               ",
         "marker": {
          "color": "#ab63fa",
          "symbol": "circle"
         },
         "mode": "markers",
         "name": "Rochester, MN                                               ",
         "showlegend": true,
         "type": "scattergl",
         "x": [
          2023,
          2022,
          2021,
          2020,
          2019
         ],
         "xaxis": "x",
         "y": [
          1089,
          1721,
          1135,
          906,
          1111
         ],
         "yaxis": "y"
        },
        {
         "hovertemplate": "<b>%{hovertext}</b><br><br>Name=Rochester, NY                                               <br>Year=%{x}<br>Total=%{y}<extra></extra>",
         "hovertext": [
          "Rochester, NY                                               ",
          "Rochester, NY                                               ",
          "Rochester, NY                                               ",
          "Rochester, NY                                               ",
          "Rochester, NY                                               "
         ],
         "legendgroup": "Rochester, NY                                               ",
         "marker": {
          "color": "#FFA15A",
          "symbol": "circle"
         },
         "mode": "markers",
         "name": "Rochester, NY                                               ",
         "showlegend": true,
         "type": "scattergl",
         "x": [
          2023,
          2022,
          2021,
          2020,
          2019
         ],
         "xaxis": "x",
         "y": [
          1560,
          2586,
          1774,
          2242,
          2021
         ],
         "yaxis": "y"
        },
        {
         "hovertemplate": "<b>%{hovertext}</b><br><br>Name=Rockford, IL                                                <br>Year=%{x}<br>Total=%{y}<extra></extra>",
         "hovertext": [
          "Rockford, IL                                                ",
          "Rockford, IL                                                ",
          "Rockford, IL                                                ",
          "Rockford, IL                                                ",
          "Rockford, IL                                                "
         ],
         "legendgroup": "Rockford, IL                                                ",
         "marker": {
          "color": "#19d3f3",
          "symbol": "circle"
         },
         "mode": "markers",
         "name": "Rockford, IL                                                ",
         "showlegend": true,
         "type": "scattergl",
         "x": [
          2023,
          2022,
          2021,
          2020,
          2019
         ],
         "xaxis": "x",
         "y": [
          196,
          318,
          280,
          192,
          300
         ],
         "yaxis": "y"
        },
        {
         "hovertemplate": "<b>%{hovertext}</b><br><br>Name=Rocky Mount, NC                                             <br>Year=%{x}<br>Total=%{y}<extra></extra>",
         "hovertext": [
          "Rocky Mount, NC                                             ",
          "Rocky Mount, NC                                             ",
          "Rocky Mount, NC                                             ",
          "Rocky Mount, NC                                             ",
          "Rocky Mount, NC                                             "
         ],
         "legendgroup": "Rocky Mount, NC                                             ",
         "marker": {
          "color": "#FF6692",
          "symbol": "circle"
         },
         "mode": "markers",
         "name": "Rocky Mount, NC                                             ",
         "showlegend": true,
         "type": "scattergl",
         "x": [
          2023,
          2022,
          2021,
          2020,
          2019
         ],
         "xaxis": "x",
         "y": [
          614,
          427,
          640,
          339,
          232
         ],
         "yaxis": "y"
        },
        {
         "hovertemplate": "<b>%{hovertext}</b><br><br>Name=Rome, GA                                                    <br>Year=%{x}<br>Total=%{y}<extra></extra>",
         "hovertext": [
          "Rome, GA                                                    ",
          "Rome, GA                                                    ",
          "Rome, GA                                                    ",
          "Rome, GA                                                    ",
          "Rome, GA                                                    "
         ],
         "legendgroup": "Rome, GA                                                    ",
         "marker": {
          "color": "#B6E880",
          "symbol": "circle"
         },
         "mode": "markers",
         "name": "Rome, GA                                                    ",
         "showlegend": true,
         "type": "scattergl",
         "x": [
          2023,
          2022,
          2021,
          2020,
          2019
         ],
         "xaxis": "x",
         "y": [
          327,
          310,
          204,
          282,
          263
         ],
         "yaxis": "y"
        },
        {
         "hovertemplate": "<b>%{hovertext}</b><br><br>Name=Sacramento-Roseville-Folsom, CA                             <br>Year=%{x}<br>Total=%{y}<extra></extra>",
         "hovertext": [
          "Sacramento-Roseville-Folsom, CA                             ",
          "Sacramento-Roseville-Folsom, CA                             ",
          "Sacramento-Roseville-Folsom, CA                             ",
          "Sacramento-Roseville-Folsom, CA                             ",
          "Sacramento-Roseville-Folsom, CA                             "
         ],
         "legendgroup": "Sacramento-Roseville-Folsom, CA                             ",
         "marker": {
          "color": "#FF97FF",
          "symbol": "circle"
         },
         "mode": "markers",
         "name": "Sacramento-Roseville-Folsom, CA                             ",
         "showlegend": true,
         "type": "scattergl",
         "x": [
          2023,
          2022,
          2021,
          2020,
          2019
         ],
         "xaxis": "x",
         "y": [
          11917,
          10800,
          12434,
          11164,
          9431
         ],
         "yaxis": "y"
        },
        {
         "hovertemplate": "<b>%{hovertext}</b><br><br>Name=Saginaw, MI                                                 <br>Year=%{x}<br>Total=%{y}<extra></extra>",
         "hovertext": [
          "Saginaw, MI                                                 ",
          "Saginaw, MI                                                 ",
          "Saginaw, MI                                                 ",
          "Saginaw, MI                                                 ",
          "Saginaw, MI                                                 "
         ],
         "legendgroup": "Saginaw, MI                                                 ",
         "marker": {
          "color": "#FECB52",
          "symbol": "circle"
         },
         "mode": "markers",
         "name": "Saginaw, MI                                                 ",
         "showlegend": true,
         "type": "scattergl",
         "x": [
          2023,
          2022,
          2021,
          2020,
          2019
         ],
         "xaxis": "x",
         "y": [
          173,
          175,
          195,
          245,
          248
         ],
         "yaxis": "y"
        },
        {
         "hovertemplate": "<b>%{hovertext}</b><br><br>Name=Salem, OR                                                   <br>Year=%{x}<br>Total=%{y}<extra></extra>",
         "hovertext": [
          "Salem, OR                                                   ",
          "Salem, OR                                                   ",
          "Salem, OR                                                   ",
          "Salem, OR                                                   ",
          "Salem, OR                                                   "
         ],
         "legendgroup": "Salem, OR                                                   ",
         "marker": {
          "color": "#636efa",
          "symbol": "circle"
         },
         "mode": "markers",
         "name": "Salem, OR                                                   ",
         "showlegend": true,
         "type": "scattergl",
         "x": [
          2023,
          2022,
          2021,
          2020,
          2019
         ],
         "xaxis": "x",
         "y": [
          1987,
          2817,
          2154,
          2008,
          2036
         ],
         "yaxis": "y"
        },
        {
         "hovertemplate": "<b>%{hovertext}</b><br><br>Name=Salinas, CA                                                 <br>Year=%{x}<br>Total=%{y}<extra></extra>",
         "hovertext": [
          "Salinas, CA                                                 ",
          "Salinas, CA                                                 ",
          "Salinas, CA                                                 ",
          "Salinas, CA                                                 ",
          "Salinas, CA                                                 "
         ],
         "legendgroup": "Salinas, CA                                                 ",
         "marker": {
          "color": "#EF553B",
          "symbol": "circle"
         },
         "mode": "markers",
         "name": "Salinas, CA                                                 ",
         "showlegend": true,
         "type": "scattergl",
         "x": [
          2023,
          2022,
          2021,
          2020,
          2019
         ],
         "xaxis": "x",
         "y": [
          595,
          1086,
          882,
          753,
          480
         ],
         "yaxis": "y"
        },
        {
         "hovertemplate": "<b>%{hovertext}</b><br><br>Name=Salisbury, MD-DE                                            <br>Year=%{x}<br>Total=%{y}<extra></extra>",
         "hovertext": [
          "Salisbury, MD-DE                                            ",
          "Salisbury, MD-DE                                            ",
          "Salisbury, MD-DE                                            ",
          "Salisbury, MD-DE                                            ",
          "Salisbury, MD-DE                                            "
         ],
         "legendgroup": "Salisbury, MD-DE                                            ",
         "marker": {
          "color": "#00cc96",
          "symbol": "circle"
         },
         "mode": "markers",
         "name": "Salisbury, MD-DE                                            ",
         "showlegend": true,
         "type": "scattergl",
         "x": [
          2023,
          2022,
          2021,
          2020,
          2019
         ],
         "xaxis": "x",
         "y": [
          4899,
          4919,
          5552,
          5108,
          4074
         ],
         "yaxis": "y"
        },
        {
         "hovertemplate": "<b>%{hovertext}</b><br><br>Name=Salt Lake City, UT                                          <br>Year=%{x}<br>Total=%{y}<extra></extra>",
         "hovertext": [
          "Salt Lake City, UT                                          ",
          "Salt Lake City, UT                                          ",
          "Salt Lake City, UT                                          ",
          "Salt Lake City, UT                                          ",
          "Salt Lake City, UT                                          "
         ],
         "legendgroup": "Salt Lake City, UT                                          ",
         "marker": {
          "color": "#ab63fa",
          "symbol": "circle"
         },
         "mode": "markers",
         "name": "Salt Lake City, UT                                          ",
         "showlegend": true,
         "type": "scattergl",
         "x": [
          2023,
          2022,
          2021,
          2020,
          2019
         ],
         "xaxis": "x",
         "y": [
          9199,
          10102,
          11642,
          11033,
          10680
         ],
         "yaxis": "y"
        },
        {
         "hovertemplate": "<b>%{hovertext}</b><br><br>Name=San Angelo, TX                                              <br>Year=%{x}<br>Total=%{y}<extra></extra>",
         "hovertext": [
          "San Angelo, TX                                              ",
          "San Angelo, TX                                              ",
          "San Angelo, TX                                              ",
          "San Angelo, TX                                              ",
          "San Angelo, TX                                              "
         ],
         "legendgroup": "San Angelo, TX                                              ",
         "marker": {
          "color": "#FFA15A",
          "symbol": "circle"
         },
         "mode": "markers",
         "name": "San Angelo, TX                                              ",
         "showlegend": true,
         "type": "scattergl",
         "x": [
          2023,
          2022,
          2021,
          2020,
          2019
         ],
         "xaxis": "x",
         "y": [
          252,
          322,
          333,
          686,
          283
         ],
         "yaxis": "y"
        },
        {
         "hovertemplate": "<b>%{hovertext}</b><br><br>Name=San Antonio-New Braunfels, TX                               <br>Year=%{x}<br>Total=%{y}<extra></extra>",
         "hovertext": [
          "San Antonio-New Braunfels, TX                               ",
          "San Antonio-New Braunfels, TX                               ",
          "San Antonio-New Braunfels, TX                               ",
          "San Antonio-New Braunfels, TX                               ",
          "San Antonio-New Braunfels, TX                               "
         ],
         "legendgroup": "San Antonio-New Braunfels, TX                               ",
         "marker": {
          "color": "#19d3f3",
          "symbol": "circle"
         },
         "mode": "markers",
         "name": "San Antonio-New Braunfels, TX                               ",
         "showlegend": true,
         "type": "scattergl",
         "x": [
          2023,
          2022,
          2021,
          2020,
          2019
         ],
         "xaxis": "x",
         "y": [
          16519,
          24339,
          22264,
          16697,
          15895
         ],
         "yaxis": "y"
        },
        {
         "hovertemplate": "<b>%{hovertext}</b><br><br>Name=San Diego-Chula Vista-Carlsbad, CA                          <br>Year=%{x}<br>Total=%{y}<extra></extra>",
         "hovertext": [
          "San Diego-Chula Vista-Carlsbad, CA                          ",
          "San Diego-Chula Vista-Carlsbad, CA                          ",
          "San Diego-Chula Vista-Carlsbad, CA                          ",
          "San Diego-Chula Vista-Carlsbad, CA                          ",
          "San Diego-Chula Vista-Carlsbad, CA                          "
         ],
         "legendgroup": "San Diego-Chula Vista-Carlsbad, CA                          ",
         "marker": {
          "color": "#FF6692",
          "symbol": "circle"
         },
         "mode": "markers",
         "name": "San Diego-Chula Vista-Carlsbad, CA                          ",
         "showlegend": true,
         "type": "scattergl",
         "x": [
          2023,
          2022,
          2021,
          2020,
          2019
         ],
         "xaxis": "x",
         "y": [
          11468,
          9346,
          10048,
          9472,
          8216
         ],
         "yaxis": "y"
        },
        {
         "hovertemplate": "<b>%{hovertext}</b><br><br>Name=San Francisco-Oakland-Berkeley, CA                          <br>Year=%{x}<br>Total=%{y}<extra></extra>",
         "hovertext": [
          "San Francisco-Oakland-Berkeley, CA                          ",
          "San Francisco-Oakland-Berkeley, CA                          ",
          "San Francisco-Oakland-Berkeley, CA                          ",
          "San Francisco-Oakland-Berkeley, CA                          ",
          "San Francisco-Oakland-Berkeley, CA                          "
         ],
         "legendgroup": "San Francisco-Oakland-Berkeley, CA                          ",
         "marker": {
          "color": "#B6E880",
          "symbol": "circle"
         },
         "mode": "markers",
         "name": "San Francisco-Oakland-Berkeley, CA                          ",
         "showlegend": true,
         "type": "scattergl",
         "x": [
          2023,
          2022,
          2021,
          2020,
          2019
         ],
         "xaxis": "x",
         "y": [
          7478,
          11204,
          13606,
          10156,
          13881
         ],
         "yaxis": "y"
        },
        {
         "hovertemplate": "<b>%{hovertext}</b><br><br>Name=San Jose-Sunnyvale-Santa Clara, CA                          <br>Year=%{x}<br>Total=%{y}<extra></extra>",
         "hovertext": [
          "San Jose-Sunnyvale-Santa Clara, CA                          ",
          "San Jose-Sunnyvale-Santa Clara, CA                          ",
          "San Jose-Sunnyvale-Santa Clara, CA                          ",
          "San Jose-Sunnyvale-Santa Clara, CA                          ",
          "San Jose-Sunnyvale-Santa Clara, CA                          "
         ],
         "legendgroup": "San Jose-Sunnyvale-Santa Clara, CA                          ",
         "marker": {
          "color": "#FF97FF",
          "symbol": "circle"
         },
         "mode": "markers",
         "name": "San Jose-Sunnyvale-Santa Clara, CA                          ",
         "showlegend": true,
         "type": "scattergl",
         "x": [
          2023,
          2022,
          2021,
          2020,
          2019
         ],
         "xaxis": "x",
         "y": [
          6288,
          8207,
          4529,
          5851,
          6230
         ],
         "yaxis": "y"
        },
        {
         "hovertemplate": "<b>%{hovertext}</b><br><br>Name=San Luis Obispo-Paso Robles, CA                             <br>Year=%{x}<br>Total=%{y}<extra></extra>",
         "hovertext": [
          "San Luis Obispo-Paso Robles, CA                             ",
          "San Luis Obispo-Paso Robles, CA                             ",
          "San Luis Obispo-Paso Robles, CA                             ",
          "San Luis Obispo-Paso Robles, CA                             ",
          "San Luis Obispo-Paso Robles, CA                             "
         ],
         "legendgroup": "San Luis Obispo-Paso Robles, CA                             ",
         "marker": {
          "color": "#FECB52",
          "symbol": "circle"
         },
         "mode": "markers",
         "name": "San Luis Obispo-Paso Robles, CA                             ",
         "showlegend": true,
         "type": "scattergl",
         "x": [
          2023,
          2022,
          2021,
          2020,
          2019
         ],
         "xaxis": "x",
         "y": [
          997,
          1111,
          1120,
          911,
          1094
         ],
         "yaxis": "y"
        },
        {
         "hovertemplate": "<b>%{hovertext}</b><br><br>Name=Santa Cruz-Watsonville, CA                                  <br>Year=%{x}<br>Total=%{y}<extra></extra>",
         "hovertext": [
          "Santa Cruz-Watsonville, CA                                  ",
          "Santa Cruz-Watsonville, CA                                  ",
          "Santa Cruz-Watsonville, CA                                  ",
          "Santa Cruz-Watsonville, CA                                  ",
          "Santa Cruz-Watsonville, CA                                  "
         ],
         "legendgroup": "Santa Cruz-Watsonville, CA                                  ",
         "marker": {
          "color": "#636efa",
          "symbol": "circle"
         },
         "mode": "markers",
         "name": "Santa Cruz-Watsonville, CA                                  ",
         "showlegend": true,
         "type": "scattergl",
         "x": [
          2023,
          2022,
          2021,
          2020,
          2019
         ],
         "xaxis": "x",
         "y": [
          546,
          608,
          598,
          244,
          429
         ],
         "yaxis": "y"
        },
        {
         "hovertemplate": "<b>%{hovertext}</b><br><br>Name=Santa Fe, NM                                                <br>Year=%{x}<br>Total=%{y}<extra></extra>",
         "hovertext": [
          "Santa Fe, NM                                                ",
          "Santa Fe, NM                                                ",
          "Santa Fe, NM                                                ",
          "Santa Fe, NM                                                ",
          "Santa Fe, NM                                                "
         ],
         "legendgroup": "Santa Fe, NM                                                ",
         "marker": {
          "color": "#EF553B",
          "symbol": "circle"
         },
         "mode": "markers",
         "name": "Santa Fe, NM                                                ",
         "showlegend": true,
         "type": "scattergl",
         "x": [
          2023,
          2022,
          2021,
          2020,
          2019
         ],
         "xaxis": "x",
         "y": [
          926,
          590,
          840,
          577,
          589
         ],
         "yaxis": "y"
        },
        {
         "hovertemplate": "<b>%{hovertext}</b><br><br>Name=Santa Maria-Santa Barbara, CA                               <br>Year=%{x}<br>Total=%{y}<extra></extra>",
         "hovertext": [
          "Santa Maria-Santa Barbara, CA                               ",
          "Santa Maria-Santa Barbara, CA                               ",
          "Santa Maria-Santa Barbara, CA                               ",
          "Santa Maria-Santa Barbara, CA                               ",
          "Santa Maria-Santa Barbara, CA                               "
         ],
         "legendgroup": "Santa Maria-Santa Barbara, CA                               ",
         "marker": {
          "color": "#00cc96",
          "symbol": "circle"
         },
         "mode": "markers",
         "name": "Santa Maria-Santa Barbara, CA                               ",
         "showlegend": true,
         "type": "scattergl",
         "x": [
          2023,
          2022,
          2021,
          2020,
          2019
         ],
         "xaxis": "x",
         "y": [
          449,
          1096,
          1152,
          1027,
          1175
         ],
         "yaxis": "y"
        },
        {
         "hovertemplate": "<b>%{hovertext}</b><br><br>Name=Santa Rosa-Petaluma, CA                                     <br>Year=%{x}<br>Total=%{y}<extra></extra>",
         "hovertext": [
          "Santa Rosa-Petaluma, CA                                     ",
          "Santa Rosa-Petaluma, CA                                     ",
          "Santa Rosa-Petaluma, CA                                     ",
          "Santa Rosa-Petaluma, CA                                     ",
          "Santa Rosa-Petaluma, CA                                     "
         ],
         "legendgroup": "Santa Rosa-Petaluma, CA                                     ",
         "marker": {
          "color": "#ab63fa",
          "symbol": "circle"
         },
         "mode": "markers",
         "name": "Santa Rosa-Petaluma, CA                                     ",
         "showlegend": true,
         "type": "scattergl",
         "x": [
          2023,
          2022,
          2021,
          2020,
          2019
         ],
         "xaxis": "x",
         "y": [
          2353,
          2264,
          2618,
          1395,
          2429
         ],
         "yaxis": "y"
        },
        {
         "hovertemplate": "<b>%{hovertext}</b><br><br>Name=Savannah, GA                                                <br>Year=%{x}<br>Total=%{y}<extra></extra>",
         "hovertext": [
          "Savannah, GA                                                ",
          "Savannah, GA                                                ",
          "Savannah, GA                                                ",
          "Savannah, GA                                                ",
          "Savannah, GA                                                "
         ],
         "legendgroup": "Savannah, GA                                                ",
         "marker": {
          "color": "#FFA15A",
          "symbol": "circle"
         },
         "mode": "markers",
         "name": "Savannah, GA                                                ",
         "showlegend": true,
         "type": "scattergl",
         "x": [
          2023,
          2022,
          2021,
          2020,
          2019
         ],
         "xaxis": "x",
         "y": [
          3408,
          3194,
          3227,
          3026,
          2591
         ],
         "yaxis": "y"
        },
        {
         "hovertemplate": "<b>%{hovertext}</b><br><br>Name=Scranton--Wilkes-Barre, PA                                  <br>Year=%{x}<br>Total=%{y}<extra></extra>",
         "hovertext": [
          "Scranton--Wilkes-Barre, PA                                  ",
          "Scranton--Wilkes-Barre, PA                                  ",
          "Scranton--Wilkes-Barre, PA                                  ",
          "Scranton--Wilkes-Barre, PA                                  ",
          "Scranton--Wilkes-Barre, PA                                  "
         ],
         "legendgroup": "Scranton--Wilkes-Barre, PA                                  ",
         "marker": {
          "color": "#19d3f3",
          "symbol": "circle"
         },
         "mode": "markers",
         "name": "Scranton--Wilkes-Barre, PA                                  ",
         "showlegend": true,
         "type": "scattergl",
         "x": [
          2023,
          2022,
          2021,
          2020,
          2019
         ],
         "xaxis": "x",
         "y": [
          497,
          609,
          644,
          584,
          528
         ],
         "yaxis": "y"
        },
        {
         "hovertemplate": "<b>%{hovertext}</b><br><br>Name=Seattle-Tacoma-Bellevue, WA                                 <br>Year=%{x}<br>Total=%{y}<extra></extra>",
         "hovertext": [
          "Seattle-Tacoma-Bellevue, WA                                 ",
          "Seattle-Tacoma-Bellevue, WA                                 ",
          "Seattle-Tacoma-Bellevue, WA                                 ",
          "Seattle-Tacoma-Bellevue, WA                                 ",
          "Seattle-Tacoma-Bellevue, WA                                 "
         ],
         "legendgroup": "Seattle-Tacoma-Bellevue, WA                                 ",
         "marker": {
          "color": "#FF6692",
          "symbol": "circle"
         },
         "mode": "markers",
         "name": "Seattle-Tacoma-Bellevue, WA                                 ",
         "showlegend": true,
         "type": "scattergl",
         "x": [
          2023,
          2022,
          2021,
          2020,
          2019
         ],
         "xaxis": "x",
         "y": [
          17254,
          26661,
          30743,
          23039,
          26599
         ],
         "yaxis": "y"
        },
        {
         "hovertemplate": "<b>%{hovertext}</b><br><br>Name=Sebastian-Vero Beach, FL                                    <br>Year=%{x}<br>Total=%{y}<extra></extra>",
         "hovertext": [
          "Sebastian-Vero Beach, FL                                    ",
          "Sebastian-Vero Beach, FL                                    ",
          "Sebastian-Vero Beach, FL                                    ",
          "Sebastian-Vero Beach, FL                                    ",
          "Sebastian-Vero Beach, FL                                    "
         ],
         "legendgroup": "Sebastian-Vero Beach, FL                                    ",
         "marker": {
          "color": "#B6E880",
          "symbol": "circle"
         },
         "mode": "markers",
         "name": "Sebastian-Vero Beach, FL                                    ",
         "showlegend": true,
         "type": "scattergl",
         "x": [
          2023,
          2022,
          2021,
          2020,
          2019
         ],
         "xaxis": "x",
         "y": [
          1009,
          1183,
          1592,
          1162,
          1459
         ],
         "yaxis": "y"
        },
        {
         "hovertemplate": "<b>%{hovertext}</b><br><br>Name=Sebring-Avon Park, FL                                       <br>Year=%{x}<br>Total=%{y}<extra></extra>",
         "hovertext": [
          "Sebring-Avon Park, FL                                       ",
          "Sebring-Avon Park, FL                                       ",
          "Sebring-Avon Park, FL                                       ",
          "Sebring-Avon Park, FL                                       ",
          "Sebring-Avon Park, FL                                       "
         ],
         "legendgroup": "Sebring-Avon Park, FL                                       ",
         "marker": {
          "color": "#FF97FF",
          "symbol": "circle"
         },
         "mode": "markers",
         "name": "Sebring-Avon Park, FL                                       ",
         "showlegend": true,
         "type": "scattergl",
         "x": [
          2023,
          2022,
          2021,
          2020,
          2019
         ],
         "xaxis": "x",
         "y": [
          712,
          663,
          644,
          384,
          253
         ],
         "yaxis": "y"
        },
        {
         "hovertemplate": "<b>%{hovertext}</b><br><br>Name=Sheboygan, WI                                               <br>Year=%{x}<br>Total=%{y}<extra></extra>",
         "hovertext": [
          "Sheboygan, WI                                               ",
          "Sheboygan, WI                                               ",
          "Sheboygan, WI                                               ",
          "Sheboygan, WI                                               ",
          "Sheboygan, WI                                               "
         ],
         "legendgroup": "Sheboygan, WI                                               ",
         "marker": {
          "color": "#FECB52",
          "symbol": "circle"
         },
         "mode": "markers",
         "name": "Sheboygan, WI                                               ",
         "showlegend": true,
         "type": "scattergl",
         "x": [
          2023,
          2022,
          2021,
          2020,
          2019
         ],
         "xaxis": "x",
         "y": [
          539,
          146,
          268,
          365,
          186
         ],
         "yaxis": "y"
        },
        {
         "hovertemplate": "<b>%{hovertext}</b><br><br>Name=Sherman-Denison, TX                                         <br>Year=%{x}<br>Total=%{y}<extra></extra>",
         "hovertext": [
          "Sherman-Denison, TX                                         ",
          "Sherman-Denison, TX                                         ",
          "Sherman-Denison, TX                                         ",
          "Sherman-Denison, TX                                         ",
          "Sherman-Denison, TX                                         "
         ],
         "legendgroup": "Sherman-Denison, TX                                         ",
         "marker": {
          "color": "#636efa",
          "symbol": "circle"
         },
         "mode": "markers",
         "name": "Sherman-Denison, TX                                         ",
         "showlegend": true,
         "type": "scattergl",
         "x": [
          2023,
          2022,
          2021,
          2020,
          2019
         ],
         "xaxis": "x",
         "y": [
          2449,
          2220,
          1048,
          1181,
          998
         ],
         "yaxis": "y"
        },
        {
         "hovertemplate": "<b>%{hovertext}</b><br><br>Name=Shreveport-Bossier City, LA                                 <br>Year=%{x}<br>Total=%{y}<extra></extra>",
         "hovertext": [
          "Shreveport-Bossier City, LA                                 ",
          "Shreveport-Bossier City, LA                                 ",
          "Shreveport-Bossier City, LA                                 ",
          "Shreveport-Bossier City, LA                                 ",
          "Shreveport-Bossier City, LA                                 "
         ],
         "legendgroup": "Shreveport-Bossier City, LA                                 ",
         "marker": {
          "color": "#EF553B",
          "symbol": "circle"
         },
         "mode": "markers",
         "name": "Shreveport-Bossier City, LA                                 ",
         "showlegend": true,
         "type": "scattergl",
         "x": [
          2023,
          2022,
          2021,
          2020,
          2019
         ],
         "xaxis": "x",
         "y": [
          922,
          915,
          1136,
          1000,
          1040
         ],
         "yaxis": "y"
        },
        {
         "hovertemplate": "<b>%{hovertext}</b><br><br>Name=Sierra Vista-Douglas, AZ                                    <br>Year=%{x}<br>Total=%{y}<extra></extra>",
         "hovertext": [
          "Sierra Vista-Douglas, AZ                                    ",
          "Sierra Vista-Douglas, AZ                                    ",
          "Sierra Vista-Douglas, AZ                                    ",
          "Sierra Vista-Douglas, AZ                                    ",
          "Sierra Vista-Douglas, AZ                                    "
         ],
         "legendgroup": "Sierra Vista-Douglas, AZ                                    ",
         "marker": {
          "color": "#00cc96",
          "symbol": "circle"
         },
         "mode": "markers",
         "name": "Sierra Vista-Douglas, AZ                                    ",
         "showlegend": true,
         "type": "scattergl",
         "x": [
          2023,
          2022,
          2021,
          2020,
          2019
         ],
         "xaxis": "x",
         "y": [
          506,
          529,
          434,
          337,
          254
         ],
         "yaxis": "y"
        },
        {
         "hovertemplate": "<b>%{hovertext}</b><br><br>Name=Sioux City, IA-NE-SD                                        <br>Year=%{x}<br>Total=%{y}<extra></extra>",
         "hovertext": [
          "Sioux City, IA-NE-SD                                        ",
          "Sioux City, IA-NE-SD                                        ",
          "Sioux City, IA-NE-SD                                        ",
          "Sioux City, IA-NE-SD                                        ",
          "Sioux City, IA-NE-SD                                        "
         ],
         "legendgroup": "Sioux City, IA-NE-SD                                        ",
         "marker": {
          "color": "#ab63fa",
          "symbol": "circle"
         },
         "mode": "markers",
         "name": "Sioux City, IA-NE-SD                                        ",
         "showlegend": true,
         "type": "scattergl",
         "x": [
          2023,
          2022,
          2021,
          2020,
          2019
         ],
         "xaxis": "x",
         "y": [
          352,
          449,
          457,
          779,
          579
         ],
         "yaxis": "y"
        },
        {
         "hovertemplate": "<b>%{hovertext}</b><br><br>Name=Sioux Falls, SD                                             <br>Year=%{x}<br>Total=%{y}<extra></extra>",
         "hovertext": [
          "Sioux Falls, SD                                             ",
          "Sioux Falls, SD                                             ",
          "Sioux Falls, SD                                             ",
          "Sioux Falls, SD                                             ",
          "Sioux Falls, SD                                             "
         ],
         "legendgroup": "Sioux Falls, SD                                             ",
         "marker": {
          "color": "#FFA15A",
          "symbol": "circle"
         },
         "mode": "markers",
         "name": "Sioux Falls, SD                                             ",
         "showlegend": true,
         "type": "scattergl",
         "x": [
          2023,
          2022,
          2021,
          2020,
          2019
         ],
         "xaxis": "x",
         "y": [
          3448,
          5554,
          3986,
          3550,
          2119
         ],
         "yaxis": "y"
        },
        {
         "hovertemplate": "<b>%{hovertext}</b><br><br>Name=South Bend-Mishawaka, IN-MI                                 <br>Year=%{x}<br>Total=%{y}<extra></extra>",
         "hovertext": [
          "South Bend-Mishawaka, IN-MI                                 ",
          "South Bend-Mishawaka, IN-MI                                 ",
          "South Bend-Mishawaka, IN-MI                                 ",
          "South Bend-Mishawaka, IN-MI                                 ",
          "South Bend-Mishawaka, IN-MI                                 "
         ],
         "legendgroup": "South Bend-Mishawaka, IN-MI                                 ",
         "marker": {
          "color": "#19d3f3",
          "symbol": "circle"
         },
         "mode": "markers",
         "name": "South Bend-Mishawaka, IN-MI                                 ",
         "showlegend": true,
         "type": "scattergl",
         "x": [
          2023,
          2022,
          2021,
          2020,
          2019
         ],
         "xaxis": "x",
         "y": [
          434,
          742,
          492,
          555,
          428
         ],
         "yaxis": "y"
        },
        {
         "hovertemplate": "<b>%{hovertext}</b><br><br>Name=Spartanburg, SC                                             <br>Year=%{x}<br>Total=%{y}<extra></extra>",
         "hovertext": [
          "Spartanburg, SC                                             ",
          "Spartanburg, SC                                             ",
          "Spartanburg, SC                                             ",
          "Spartanburg, SC                                             ",
          "Spartanburg, SC                                             "
         ],
         "legendgroup": "Spartanburg, SC                                             ",
         "marker": {
          "color": "#FF6692",
          "symbol": "circle"
         },
         "mode": "markers",
         "name": "Spartanburg, SC                                             ",
         "showlegend": true,
         "type": "scattergl",
         "x": [
          2023,
          2022,
          2021,
          2020,
          2019
         ],
         "xaxis": "x",
         "y": [
          2867,
          2596,
          3614,
          2876,
          2599
         ],
         "yaxis": "y"
        },
        {
         "hovertemplate": "<b>%{hovertext}</b><br><br>Name=Spokane-Spokane Valley, WA                                  <br>Year=%{x}<br>Total=%{y}<extra></extra>",
         "hovertext": [
          "Spokane-Spokane Valley, WA                                  ",
          "Spokane-Spokane Valley, WA                                  ",
          "Spokane-Spokane Valley, WA                                  ",
          "Spokane-Spokane Valley, WA                                  ",
          "Spokane-Spokane Valley, WA                                  "
         ],
         "legendgroup": "Spokane-Spokane Valley, WA                                  ",
         "marker": {
          "color": "#B6E880",
          "symbol": "circle"
         },
         "mode": "markers",
         "name": "Spokane-Spokane Valley, WA                                  ",
         "showlegend": true,
         "type": "scattergl",
         "x": [
          2023,
          2022,
          2021,
          2020,
          2019
         ],
         "xaxis": "x",
         "y": [
          3904,
          4022,
          3415,
          3362,
          3300
         ],
         "yaxis": "y"
        },
        {
         "hovertemplate": "<b>%{hovertext}</b><br><br>Name=Springfield, IL                                             <br>Year=%{x}<br>Total=%{y}<extra></extra>",
         "hovertext": [
          "Springfield, IL                                             ",
          "Springfield, IL                                             ",
          "Springfield, IL                                             ",
          "Springfield, IL                                             ",
          "Springfield, IL                                             "
         ],
         "legendgroup": "Springfield, IL                                             ",
         "marker": {
          "color": "#FF97FF",
          "symbol": "circle"
         },
         "mode": "markers",
         "name": "Springfield, IL                                             ",
         "showlegend": true,
         "type": "scattergl",
         "x": [
          2023,
          2022,
          2021,
          2020,
          2019
         ],
         "xaxis": "x",
         "y": [
          201,
          210,
          332,
          335,
          329
         ],
         "yaxis": "y"
        },
        {
         "hovertemplate": "<b>%{hovertext}</b><br><br>Name=Springfield, MA                                             <br>Year=%{x}<br>Total=%{y}<extra></extra>",
         "hovertext": [
          "Springfield, MA                                             ",
          "Springfield, MA                                             ",
          "Springfield, MA                                             ",
          "Springfield, MA                                             ",
          "Springfield, MA                                             "
         ],
         "legendgroup": "Springfield, MA                                             ",
         "marker": {
          "color": "#FECB52",
          "symbol": "circle"
         },
         "mode": "markers",
         "name": "Springfield, MA                                             ",
         "showlegend": true,
         "type": "scattergl",
         "x": [
          2023,
          2022,
          2021,
          2020,
          2019
         ],
         "xaxis": "x",
         "y": [
          624,
          740,
          745,
          760,
          794
         ],
         "yaxis": "y"
        },
        {
         "hovertemplate": "<b>%{hovertext}</b><br><br>Name=Springfield, MO                                             <br>Year=%{x}<br>Total=%{y}<extra></extra>",
         "hovertext": [
          "Springfield, MO                                             ",
          "Springfield, MO                                             ",
          "Springfield, MO                                             ",
          "Springfield, MO                                             ",
          "Springfield, MO                                             "
         ],
         "legendgroup": "Springfield, MO                                             ",
         "marker": {
          "color": "#636efa",
          "symbol": "circle"
         },
         "mode": "markers",
         "name": "Springfield, MO                                             ",
         "showlegend": true,
         "type": "scattergl",
         "x": [
          2023,
          2022,
          2021,
          2020,
          2019
         ],
         "xaxis": "x",
         "y": [
          2167,
          1706,
          2638,
          2213,
          1621
         ],
         "yaxis": "y"
        },
        {
         "hovertemplate": "<b>%{hovertext}</b><br><br>Name=Springfield, OH                                             <br>Year=%{x}<br>Total=%{y}<extra></extra>",
         "hovertext": [
          "Springfield, OH                                             ",
          "Springfield, OH                                             ",
          "Springfield, OH                                             ",
          "Springfield, OH                                             ",
          "Springfield, OH                                             "
         ],
         "legendgroup": "Springfield, OH                                             ",
         "marker": {
          "color": "#EF553B",
          "symbol": "circle"
         },
         "mode": "markers",
         "name": "Springfield, OH                                             ",
         "showlegend": true,
         "type": "scattergl",
         "x": [
          2023,
          2022,
          2021,
          2020,
          2019
         ],
         "xaxis": "x",
         "y": [
          215,
          183,
          199,
          139,
          76
         ],
         "yaxis": "y"
        },
        {
         "hovertemplate": "<b>%{hovertext}</b><br><br>Name=St. Cloud, MN                                               <br>Year=%{x}<br>Total=%{y}<extra></extra>",
         "hovertext": [
          "St. Cloud, MN                                               ",
          "St. Cloud, MN                                               ",
          "St. Cloud, MN                                               ",
          "St. Cloud, MN                                               ",
          "St. Cloud, MN                                               "
         ],
         "legendgroup": "St. Cloud, MN                                               ",
         "marker": {
          "color": "#00cc96",
          "symbol": "circle"
         },
         "mode": "markers",
         "name": "St. Cloud, MN                                               ",
         "showlegend": true,
         "type": "scattergl",
         "x": [
          2023,
          2022,
          2021,
          2020,
          2019
         ],
         "xaxis": "x",
         "y": [
          567,
          696,
          624,
          615,
          718
         ],
         "yaxis": "y"
        },
        {
         "hovertemplate": "<b>%{hovertext}</b><br><br>Name=St. George, UT                                              <br>Year=%{x}<br>Total=%{y}<extra></extra>",
         "hovertext": [
          "St. George, UT                                              ",
          "St. George, UT                                              ",
          "St. George, UT                                              ",
          "St. George, UT                                              ",
          "St. George, UT                                              "
         ],
         "legendgroup": "St. George, UT                                              ",
         "marker": {
          "color": "#ab63fa",
          "symbol": "circle"
         },
         "mode": "markers",
         "name": "St. George, UT                                              ",
         "showlegend": true,
         "type": "scattergl",
         "x": [
          2023,
          2022,
          2021,
          2020,
          2019
         ],
         "xaxis": "x",
         "y": [
          2841,
          3196,
          3484,
          3314,
          3557
         ],
         "yaxis": "y"
        },
        {
         "hovertemplate": "<b>%{hovertext}</b><br><br>Name=St. Joseph, MO-KS                                           <br>Year=%{x}<br>Total=%{y}<extra></extra>",
         "hovertext": [
          "St. Joseph, MO-KS                                           ",
          "St. Joseph, MO-KS                                           ",
          "St. Joseph, MO-KS                                           ",
          "St. Joseph, MO-KS                                           ",
          "St. Joseph, MO-KS                                           "
         ],
         "legendgroup": "St. Joseph, MO-KS                                           ",
         "marker": {
          "color": "#FFA15A",
          "symbol": "circle"
         },
         "mode": "markers",
         "name": "St. Joseph, MO-KS                                           ",
         "showlegend": true,
         "type": "scattergl",
         "x": [
          2023,
          2022,
          2021,
          2020,
          2019
         ],
         "xaxis": "x",
         "y": [
          96,
          95,
          108,
          256,
          220
         ],
         "yaxis": "y"
        },
        {
         "hovertemplate": "<b>%{hovertext}</b><br><br>Name=St. Louis, MO-IL                                            <br>Year=%{x}<br>Total=%{y}<extra></extra>",
         "hovertext": [
          "St. Louis, MO-IL                                            ",
          "St. Louis, MO-IL                                            ",
          "St. Louis, MO-IL                                            ",
          "St. Louis, MO-IL                                            ",
          "St. Louis, MO-IL                                            "
         ],
         "legendgroup": "St. Louis, MO-IL                                            ",
         "marker": {
          "color": "#19d3f3",
          "symbol": "circle"
         },
         "mode": "markers",
         "name": "St. Louis, MO-IL                                            ",
         "showlegend": true,
         "type": "scattergl",
         "x": [
          2023,
          2022,
          2021,
          2020,
          2019
         ],
         "xaxis": "x",
         "y": [
          7300,
          9131,
          8326,
          7863,
          7054
         ],
         "yaxis": "y"
        },
        {
         "hovertemplate": "<b>%{hovertext}</b><br><br>Name=State College, PA                                           <br>Year=%{x}<br>Total=%{y}<extra></extra>",
         "hovertext": [
          "State College, PA                                           ",
          "State College, PA                                           ",
          "State College, PA                                           ",
          "State College, PA                                           ",
          "State College, PA                                           "
         ],
         "legendgroup": "State College, PA                                           ",
         "marker": {
          "color": "#FF6692",
          "symbol": "circle"
         },
         "mode": "markers",
         "name": "State College, PA                                           ",
         "showlegend": true,
         "type": "scattergl",
         "x": [
          2023,
          2022,
          2021,
          2020,
          2019
         ],
         "xaxis": "x",
         "y": [
          355,
          657,
          654,
          380,
          441
         ],
         "yaxis": "y"
        },
        {
         "hovertemplate": "<b>%{hovertext}</b><br><br>Name=Staunton, VA                                                <br>Year=%{x}<br>Total=%{y}<extra></extra>",
         "hovertext": [
          "Staunton, VA                                                ",
          "Staunton, VA                                                ",
          "Staunton, VA                                                ",
          "Staunton, VA                                                ",
          "Staunton, VA                                                "
         ],
         "legendgroup": "Staunton, VA                                                ",
         "marker": {
          "color": "#B6E880",
          "symbol": "circle"
         },
         "mode": "markers",
         "name": "Staunton, VA                                                ",
         "showlegend": true,
         "type": "scattergl",
         "x": [
          2023,
          2022,
          2021,
          2020,
          2019
         ],
         "xaxis": "x",
         "y": [
          605,
          442,
          413,
          501,
          654
         ],
         "yaxis": "y"
        },
        {
         "hovertemplate": "<b>%{hovertext}</b><br><br>Name=Stockton, CA                                                <br>Year=%{x}<br>Total=%{y}<extra></extra>",
         "hovertext": [
          "Stockton, CA                                                ",
          "Stockton, CA                                                ",
          "Stockton, CA                                                ",
          "Stockton, CA                                                ",
          "Stockton, CA                                                "
         ],
         "legendgroup": "Stockton, CA                                                ",
         "marker": {
          "color": "#FF97FF",
          "symbol": "circle"
         },
         "mode": "markers",
         "name": "Stockton, CA                                                ",
         "showlegend": true,
         "type": "scattergl",
         "x": [
          2023,
          2022,
          2021,
          2020,
          2019
         ],
         "xaxis": "x",
         "y": [
          2170,
          3751,
          4389,
          3914,
          3499
         ],
         "yaxis": "y"
        },
        {
         "hovertemplate": "<b>%{hovertext}</b><br><br>Name=Sumter, SC                                                  <br>Year=%{x}<br>Total=%{y}<extra></extra>",
         "hovertext": [
          "Sumter, SC                                                  ",
          "Sumter, SC                                                  ",
          "Sumter, SC                                                  ",
          "Sumter, SC                                                  ",
          "Sumter, SC                                                  "
         ],
         "legendgroup": "Sumter, SC                                                  ",
         "marker": {
          "color": "#FECB52",
          "symbol": "circle"
         },
         "mode": "markers",
         "name": "Sumter, SC                                                  ",
         "showlegend": true,
         "type": "scattergl",
         "x": [
          2023,
          2022,
          2021,
          2020,
          2019
         ],
         "xaxis": "x",
         "y": [
          472,
          502,
          472,
          408,
          407
         ],
         "yaxis": "y"
        },
        {
         "hovertemplate": "<b>%{hovertext}</b><br><br>Name=Syracuse, NY                                                <br>Year=%{x}<br>Total=%{y}<extra></extra>",
         "hovertext": [
          "Syracuse, NY                                                ",
          "Syracuse, NY                                                ",
          "Syracuse, NY                                                ",
          "Syracuse, NY                                                ",
          "Syracuse, NY                                                "
         ],
         "legendgroup": "Syracuse, NY                                                ",
         "marker": {
          "color": "#636efa",
          "symbol": "circle"
         },
         "mode": "markers",
         "name": "Syracuse, NY                                                ",
         "showlegend": true,
         "type": "scattergl",
         "x": [
          2023,
          2022,
          2021,
          2020,
          2019
         ],
         "xaxis": "x",
         "y": [
          526,
          580,
          693,
          777,
          757
         ],
         "yaxis": "y"
        },
        {
         "hovertemplate": "<b>%{hovertext}</b><br><br>Name=Tallahassee, FL                                             <br>Year=%{x}<br>Total=%{y}<extra></extra>",
         "hovertext": [
          "Tallahassee, FL                                             ",
          "Tallahassee, FL                                             ",
          "Tallahassee, FL                                             ",
          "Tallahassee, FL                                             ",
          "Tallahassee, FL                                             "
         ],
         "legendgroup": "Tallahassee, FL                                             ",
         "marker": {
          "color": "#EF553B",
          "symbol": "circle"
         },
         "mode": "markers",
         "name": "Tallahassee, FL                                             ",
         "showlegend": true,
         "type": "scattergl",
         "x": [
          2023,
          2022,
          2021,
          2020,
          2019
         ],
         "xaxis": "x",
         "y": [
          2694,
          3056,
          2905,
          2445,
          2345
         ],
         "yaxis": "y"
        },
        {
         "hovertemplate": "<b>%{hovertext}</b><br><br>Name=Tampa-St. Petersburg-Clearwater, FL                         <br>Year=%{x}<br>Total=%{y}<extra></extra>",
         "hovertext": [
          "Tampa-St. Petersburg-Clearwater, FL                         ",
          "Tampa-St. Petersburg-Clearwater, FL                         ",
          "Tampa-St. Petersburg-Clearwater, FL                         ",
          "Tampa-St. Petersburg-Clearwater, FL                         ",
          "Tampa-St. Petersburg-Clearwater, FL                         "
         ],
         "legendgroup": "Tampa-St. Petersburg-Clearwater, FL                         ",
         "marker": {
          "color": "#00cc96",
          "symbol": "circle"
         },
         "mode": "markers",
         "name": "Tampa-St. Petersburg-Clearwater, FL                         ",
         "showlegend": true,
         "type": "scattergl",
         "x": [
          2023,
          2022,
          2021,
          2020,
          2019
         ],
         "xaxis": "x",
         "y": [
          25395,
          29969,
          24831,
          20348,
          23540
         ],
         "yaxis": "y"
        },
        {
         "hovertemplate": "<b>%{hovertext}</b><br><br>Name=Terre Haute, IN                                             <br>Year=%{x}<br>Total=%{y}<extra></extra>",
         "hovertext": [
          "Terre Haute, IN                                             ",
          "Terre Haute, IN                                             ",
          "Terre Haute, IN                                             ",
          "Terre Haute, IN                                             ",
          "Terre Haute, IN                                             "
         ],
         "legendgroup": "Terre Haute, IN                                             ",
         "marker": {
          "color": "#ab63fa",
          "symbol": "circle"
         },
         "mode": "markers",
         "name": "Terre Haute, IN                                             ",
         "showlegend": true,
         "type": "scattergl",
         "x": [
          2023,
          2022,
          2021,
          2020,
          2019
         ],
         "xaxis": "x",
         "y": [
          149,
          216,
          170,
          140,
          87
         ],
         "yaxis": "y"
        },
        {
         "hovertemplate": "<b>%{hovertext}</b><br><br>Name=Texarkana, TX-AR                                            <br>Year=%{x}<br>Total=%{y}<extra></extra>",
         "hovertext": [
          "Texarkana, TX-AR                                            ",
          "Texarkana, TX-AR                                            ",
          "Texarkana, TX-AR                                            ",
          "Texarkana, TX-AR                                            ",
          "Texarkana, TX-AR                                            "
         ],
         "legendgroup": "Texarkana, TX-AR                                            ",
         "marker": {
          "color": "#FFA15A",
          "symbol": "circle"
         },
         "mode": "markers",
         "name": "Texarkana, TX-AR                                            ",
         "showlegend": true,
         "type": "scattergl",
         "x": [
          2023,
          2022,
          2021,
          2020,
          2019
         ],
         "xaxis": "x",
         "y": [
          217,
          161,
          259,
          96,
          82
         ],
         "yaxis": "y"
        },
        {
         "hovertemplate": "<b>%{hovertext}</b><br><br>Name=The Villages, FL                                            <br>Year=%{x}<br>Total=%{y}<extra></extra>",
         "hovertext": [
          "The Villages, FL                                            ",
          "The Villages, FL                                            ",
          "The Villages, FL                                            ",
          "The Villages, FL                                            ",
          "The Villages, FL                                            "
         ],
         "legendgroup": "The Villages, FL                                            ",
         "marker": {
          "color": "#19d3f3",
          "symbol": "circle"
         },
         "mode": "markers",
         "name": "The Villages, FL                                            ",
         "showlegend": true,
         "type": "scattergl",
         "x": [
          2023,
          2022,
          2021,
          2020,
          2019
         ],
         "xaxis": "x",
         "y": [
          3339,
          4551,
          4611,
          3698,
          2928
         ],
         "yaxis": "y"
        },
        {
         "hovertemplate": "<b>%{hovertext}</b><br><br>Name=Toledo, OH                                                  <br>Year=%{x}<br>Total=%{y}<extra></extra>",
         "hovertext": [
          "Toledo, OH                                                  ",
          "Toledo, OH                                                  ",
          "Toledo, OH                                                  ",
          "Toledo, OH                                                  ",
          "Toledo, OH                                                  "
         ],
         "legendgroup": "Toledo, OH                                                  ",
         "marker": {
          "color": "#FF6692",
          "symbol": "circle"
         },
         "mode": "markers",
         "name": "Toledo, OH                                                  ",
         "showlegend": true,
         "type": "scattergl",
         "x": [
          2023,
          2022,
          2021,
          2020,
          2019
         ],
         "xaxis": "x",
         "y": [
          1352,
          1119,
          1210,
          1557,
          1414
         ],
         "yaxis": "y"
        },
        {
         "hovertemplate": "<b>%{hovertext}</b><br><br>Name=Topeka, KS                                                  <br>Year=%{x}<br>Total=%{y}<extra></extra>",
         "hovertext": [
          "Topeka, KS                                                  ",
          "Topeka, KS                                                  ",
          "Topeka, KS                                                  ",
          "Topeka, KS                                                  ",
          "Topeka, KS                                                  "
         ],
         "legendgroup": "Topeka, KS                                                  ",
         "marker": {
          "color": "#B6E880",
          "symbol": "circle"
         },
         "mode": "markers",
         "name": "Topeka, KS                                                  ",
         "showlegend": true,
         "type": "scattergl",
         "x": [
          2023,
          2022,
          2021,
          2020,
          2019
         ],
         "xaxis": "x",
         "y": [
          345,
          429,
          717,
          544,
          322
         ],
         "yaxis": "y"
        },
        {
         "hovertemplate": "<b>%{hovertext}</b><br><br>Name=Trenton-Princeton, NJ                                       <br>Year=%{x}<br>Total=%{y}<extra></extra>",
         "hovertext": [
          "Trenton-Princeton, NJ                                       ",
          "Trenton-Princeton, NJ                                       ",
          "Trenton-Princeton, NJ                                       ",
          "Trenton-Princeton, NJ                                       ",
          "Trenton-Princeton, NJ                                       "
         ],
         "legendgroup": "Trenton-Princeton, NJ                                       ",
         "marker": {
          "color": "#FF97FF",
          "symbol": "circle"
         },
         "mode": "markers",
         "name": "Trenton-Princeton, NJ                                       ",
         "showlegend": true,
         "type": "scattergl",
         "x": [
          2023,
          2022,
          2021,
          2020,
          2019
         ],
         "xaxis": "x",
         "y": [
          978,
          643,
          544,
          832,
          538
         ],
         "yaxis": "y"
        },
        {
         "hovertemplate": "<b>%{hovertext}</b><br><br>Name=Tucson, AZ                                                  <br>Year=%{x}<br>Total=%{y}<extra></extra>",
         "hovertext": [
          "Tucson, AZ                                                  ",
          "Tucson, AZ                                                  ",
          "Tucson, AZ                                                  ",
          "Tucson, AZ                                                  ",
          "Tucson, AZ                                                  "
         ],
         "legendgroup": "Tucson, AZ                                                  ",
         "marker": {
          "color": "#FECB52",
          "symbol": "circle"
         },
         "mode": "markers",
         "name": "Tucson, AZ                                                  ",
         "showlegend": true,
         "type": "scattergl",
         "x": [
          2023,
          2022,
          2021,
          2020,
          2019
         ],
         "xaxis": "x",
         "y": [
          5255,
          5714,
          6284,
          4958,
          4313
         ],
         "yaxis": "y"
        },
        {
         "hovertemplate": "<b>%{hovertext}</b><br><br>Name=Tulsa, OK                                                   <br>Year=%{x}<br>Total=%{y}<extra></extra>",
         "hovertext": [
          "Tulsa, OK                                                   ",
          "Tulsa, OK                                                   ",
          "Tulsa, OK                                                   ",
          "Tulsa, OK                                                   ",
          "Tulsa, OK                                                   "
         ],
         "legendgroup": "Tulsa, OK                                                   ",
         "marker": {
          "color": "#636efa",
          "symbol": "circle"
         },
         "mode": "markers",
         "name": "Tulsa, OK                                                   ",
         "showlegend": true,
         "type": "scattergl",
         "x": [
          2023,
          2022,
          2021,
          2020,
          2019
         ],
         "xaxis": "x",
         "y": [
          5111,
          5123,
          4920,
          4924,
          4306
         ],
         "yaxis": "y"
        },
        {
         "hovertemplate": "<b>%{hovertext}</b><br><br>Name=Tuscaloosa, AL                                              <br>Year=%{x}<br>Total=%{y}<extra></extra>",
         "hovertext": [
          "Tuscaloosa, AL                                              ",
          "Tuscaloosa, AL                                              ",
          "Tuscaloosa, AL                                              ",
          "Tuscaloosa, AL                                              ",
          "Tuscaloosa, AL                                              "
         ],
         "legendgroup": "Tuscaloosa, AL                                              ",
         "marker": {
          "color": "#EF553B",
          "symbol": "circle"
         },
         "mode": "markers",
         "name": "Tuscaloosa, AL                                              ",
         "showlegend": true,
         "type": "scattergl",
         "x": [
          2023,
          2022,
          2021,
          2020,
          2019
         ],
         "xaxis": "x",
         "y": [
          696,
          1043,
          1496,
          1269,
          1474
         ],
         "yaxis": "y"
        },
        {
         "hovertemplate": "<b>%{hovertext}</b><br><br>Name=Twin Falls, ID                                              <br>Year=%{x}<br>Total=%{y}<extra></extra>",
         "hovertext": [
          "Twin Falls, ID                                              ",
          "Twin Falls, ID                                              ",
          "Twin Falls, ID                                              ",
          "Twin Falls, ID                                              ",
          "Twin Falls, ID                                              "
         ],
         "legendgroup": "Twin Falls, ID                                              ",
         "marker": {
          "color": "#00cc96",
          "symbol": "circle"
         },
         "mode": "markers",
         "name": "Twin Falls, ID                                              ",
         "showlegend": true,
         "type": "scattergl",
         "x": [
          2023,
          2022,
          2021,
          2020,
          2019
         ],
         "xaxis": "x",
         "y": [
          455,
          605,
          1068,
          1053,
          835
         ],
         "yaxis": "y"
        },
        {
         "hovertemplate": "<b>%{hovertext}</b><br><br>Name=Tyler, TX                                                   <br>Year=%{x}<br>Total=%{y}<extra></extra>",
         "hovertext": [
          "Tyler, TX                                                   ",
          "Tyler, TX                                                   ",
          "Tyler, TX                                                   ",
          "Tyler, TX                                                   ",
          "Tyler, TX                                                   "
         ],
         "legendgroup": "Tyler, TX                                                   ",
         "marker": {
          "color": "#ab63fa",
          "symbol": "circle"
         },
         "mode": "markers",
         "name": "Tyler, TX                                                   ",
         "showlegend": true,
         "type": "scattergl",
         "x": [
          2023,
          2022,
          2021,
          2020,
          2019
         ],
         "xaxis": "x",
         "y": [
          757,
          830,
          912,
          828,
          657
         ],
         "yaxis": "y"
        },
        {
         "hovertemplate": "<b>%{hovertext}</b><br><br>Name=Urban Honolulu, HI                                          <br>Year=%{x}<br>Total=%{y}<extra></extra>",
         "hovertext": [
          "Urban Honolulu, HI                                          ",
          "Urban Honolulu, HI                                          ",
          "Urban Honolulu, HI                                          ",
          "Urban Honolulu, HI                                          ",
          "Urban Honolulu, HI                                          "
         ],
         "legendgroup": "Urban Honolulu, HI                                          ",
         "marker": {
          "color": "#FFA15A",
          "symbol": "circle"
         },
         "mode": "markers",
         "name": "Urban Honolulu, HI                                          ",
         "showlegend": true,
         "type": "scattergl",
         "x": [
          2023,
          2022,
          2021,
          2020,
          2019
         ],
         "xaxis": "x",
         "y": [
          1851,
          2553,
          1438,
          1621,
          2279
         ],
         "yaxis": "y"
        },
        {
         "hovertemplate": "<b>%{hovertext}</b><br><br>Name=Utica-Rome, NY                                              <br>Year=%{x}<br>Total=%{y}<extra></extra>",
         "hovertext": [
          "Utica-Rome, NY                                              ",
          "Utica-Rome, NY                                              ",
          "Utica-Rome, NY                                              ",
          "Utica-Rome, NY                                              ",
          "Utica-Rome, NY                                              "
         ],
         "legendgroup": "Utica-Rome, NY                                              ",
         "marker": {
          "color": "#19d3f3",
          "symbol": "circle"
         },
         "mode": "markers",
         "name": "Utica-Rome, NY                                              ",
         "showlegend": true,
         "type": "scattergl",
         "x": [
          2023,
          2022,
          2021,
          2020,
          2019
         ],
         "xaxis": "x",
         "y": [
          242,
          324,
          456,
          414,
          352
         ],
         "yaxis": "y"
        },
        {
         "hovertemplate": "<b>%{hovertext}</b><br><br>Name=Valdosta, GA                                                <br>Year=%{x}<br>Total=%{y}<extra></extra>",
         "hovertext": [
          "Valdosta, GA                                                ",
          "Valdosta, GA                                                ",
          "Valdosta, GA                                                ",
          "Valdosta, GA                                                ",
          "Valdosta, GA                                                "
         ],
         "legendgroup": "Valdosta, GA                                                ",
         "marker": {
          "color": "#FF6692",
          "symbol": "circle"
         },
         "mode": "markers",
         "name": "Valdosta, GA                                                ",
         "showlegend": true,
         "type": "scattergl",
         "x": [
          2023,
          2022,
          2021,
          2020,
          2019
         ],
         "xaxis": "x",
         "y": [
          913,
          1302,
          1535,
          1366,
          1276
         ],
         "yaxis": "y"
        },
        {
         "hovertemplate": "<b>%{hovertext}</b><br><br>Name=Vallejo, CA                                                 <br>Year=%{x}<br>Total=%{y}<extra></extra>",
         "hovertext": [
          "Vallejo, CA                                                 ",
          "Vallejo, CA                                                 ",
          "Vallejo, CA                                                 ",
          "Vallejo, CA                                                 ",
          "Vallejo, CA                                                 "
         ],
         "legendgroup": "Vallejo, CA                                                 ",
         "marker": {
          "color": "#B6E880",
          "symbol": "circle"
         },
         "mode": "markers",
         "name": "Vallejo, CA                                                 ",
         "showlegend": true,
         "type": "scattergl",
         "x": [
          2023,
          2022,
          2021,
          2020,
          2019
         ],
         "xaxis": "x",
         "y": [
          1416,
          1154,
          1378,
          1733,
          1089
         ],
         "yaxis": "y"
        },
        {
         "hovertemplate": "<b>%{hovertext}</b><br><br>Name=Victoria, TX                                                <br>Year=%{x}<br>Total=%{y}<extra></extra>",
         "hovertext": [
          "Victoria, TX                                                ",
          "Victoria, TX                                                ",
          "Victoria, TX                                                ",
          "Victoria, TX                                                ",
          "Victoria, TX                                                "
         ],
         "legendgroup": "Victoria, TX                                                ",
         "marker": {
          "color": "#FF97FF",
          "symbol": "circle"
         },
         "mode": "markers",
         "name": "Victoria, TX                                                ",
         "showlegend": true,
         "type": "scattergl",
         "x": [
          2023,
          2022,
          2021,
          2020,
          2019
         ],
         "xaxis": "x",
         "y": [
          90,
          204,
          391,
          132,
          201
         ],
         "yaxis": "y"
        },
        {
         "hovertemplate": "<b>%{hovertext}</b><br><br>Name=Vineland-Bridgeton, NJ                                      <br>Year=%{x}<br>Total=%{y}<extra></extra>",
         "hovertext": [
          "Vineland-Bridgeton, NJ                                      ",
          "Vineland-Bridgeton, NJ                                      ",
          "Vineland-Bridgeton, NJ                                      ",
          "Vineland-Bridgeton, NJ                                      ",
          "Vineland-Bridgeton, NJ                                      "
         ],
         "legendgroup": "Vineland-Bridgeton, NJ                                      ",
         "marker": {
          "color": "#FECB52",
          "symbol": "circle"
         },
         "mode": "markers",
         "name": "Vineland-Bridgeton, NJ                                      ",
         "showlegend": true,
         "type": "scattergl",
         "x": [
          2023,
          2022,
          2021,
          2020,
          2019
         ],
         "xaxis": "x",
         "y": [
          112,
          120,
          185,
          179,
          132
         ],
         "yaxis": "y"
        },
        {
         "hovertemplate": "<b>%{hovertext}</b><br><br>Name=Virginia Beach-Norfolk-Newport News, VA-NC                  <br>Year=%{x}<br>Total=%{y}<extra></extra>",
         "hovertext": [
          "Virginia Beach-Norfolk-Newport News, VA-NC                  ",
          "Virginia Beach-Norfolk-Newport News, VA-NC                  ",
          "Virginia Beach-Norfolk-Newport News, VA-NC                  ",
          "Virginia Beach-Norfolk-Newport News, VA-NC                  ",
          "Virginia Beach-Norfolk-Newport News, VA-NC                  "
         ],
         "legendgroup": "Virginia Beach-Norfolk-Newport News, VA-NC                  ",
         "marker": {
          "color": "#636efa",
          "symbol": "circle"
         },
         "mode": "markers",
         "name": "Virginia Beach-Norfolk-Newport News, VA-NC                  ",
         "showlegend": true,
         "type": "scattergl",
         "x": [
          2023,
          2022,
          2021,
          2020,
          2019
         ],
         "xaxis": "x",
         "y": [
          6114,
          6313,
          7377,
          6951,
          5908
         ],
         "yaxis": "y"
        },
        {
         "hovertemplate": "<b>%{hovertext}</b><br><br>Name=Visalia, CA                                                 <br>Year=%{x}<br>Total=%{y}<extra></extra>",
         "hovertext": [
          "Visalia, CA                                                 ",
          "Visalia, CA                                                 ",
          "Visalia, CA                                                 ",
          "Visalia, CA                                                 ",
          "Visalia, CA                                                 "
         ],
         "legendgroup": "Visalia, CA                                                 ",
         "marker": {
          "color": "#EF553B",
          "symbol": "circle"
         },
         "mode": "markers",
         "name": "Visalia, CA                                                 ",
         "showlegend": true,
         "type": "scattergl",
         "x": [
          2023,
          2022,
          2021,
          2020,
          2019
         ],
         "xaxis": "x",
         "y": [
          1175,
          2385,
          1510,
          1575,
          1872
         ],
         "yaxis": "y"
        },
        {
         "hovertemplate": "<b>%{hovertext}</b><br><br>Name=Waco, TX                                                    <br>Year=%{x}<br>Total=%{y}<extra></extra>",
         "hovertext": [
          "Waco, TX                                                    ",
          "Waco, TX                                                    ",
          "Waco, TX                                                    ",
          "Waco, TX                                                    ",
          "Waco, TX                                                    "
         ],
         "legendgroup": "Waco, TX                                                    ",
         "marker": {
          "color": "#00cc96",
          "symbol": "circle"
         },
         "mode": "markers",
         "name": "Waco, TX                                                    ",
         "showlegend": true,
         "type": "scattergl",
         "x": [
          2023,
          2022,
          2021,
          2020,
          2019
         ],
         "xaxis": "x",
         "y": [
          1741,
          1349,
          1107,
          1214,
          1222
         ],
         "yaxis": "y"
        },
        {
         "hovertemplate": "<b>%{hovertext}</b><br><br>Name=Walla Walla, WA                                             <br>Year=%{x}<br>Total=%{y}<extra></extra>",
         "hovertext": [
          "Walla Walla, WA                                             ",
          "Walla Walla, WA                                             ",
          "Walla Walla, WA                                             ",
          "Walla Walla, WA                                             ",
          "Walla Walla, WA                                             "
         ],
         "legendgroup": "Walla Walla, WA                                             ",
         "marker": {
          "color": "#ab63fa",
          "symbol": "circle"
         },
         "mode": "markers",
         "name": "Walla Walla, WA                                             ",
         "showlegend": true,
         "type": "scattergl",
         "x": [
          2023,
          2022,
          2021,
          2020,
          2019
         ],
         "xaxis": "x",
         "y": [
          242,
          178,
          261,
          154,
          190
         ],
         "yaxis": "y"
        },
        {
         "hovertemplate": "<b>%{hovertext}</b><br><br>Name=Warner Robins, GA                                           <br>Year=%{x}<br>Total=%{y}<extra></extra>",
         "hovertext": [
          "Warner Robins, GA                                           ",
          "Warner Robins, GA                                           ",
          "Warner Robins, GA                                           ",
          "Warner Robins, GA                                           ",
          "Warner Robins, GA                                           "
         ],
         "legendgroup": "Warner Robins, GA                                           ",
         "marker": {
          "color": "#FFA15A",
          "symbol": "circle"
         },
         "mode": "markers",
         "name": "Warner Robins, GA                                           ",
         "showlegend": true,
         "type": "scattergl",
         "x": [
          2023,
          2022,
          2021,
          2020,
          2019
         ],
         "xaxis": "x",
         "y": [
          1845,
          2495,
          1534,
          1307,
          1282
         ],
         "yaxis": "y"
        },
        {
         "hovertemplate": "<b>%{hovertext}</b><br><br>Name=Washington-Arlington-Alexandria, DC-VA-MD-WV                <br>Year=%{x}<br>Total=%{y}<extra></extra>",
         "hovertext": [
          "Washington-Arlington-Alexandria, DC-VA-MD-WV                ",
          "Washington-Arlington-Alexandria, DC-VA-MD-WV                ",
          "Washington-Arlington-Alexandria, DC-VA-MD-WV                ",
          "Washington-Arlington-Alexandria, DC-VA-MD-WV                ",
          "Washington-Arlington-Alexandria, DC-VA-MD-WV                "
         ],
         "legendgroup": "Washington-Arlington-Alexandria, DC-VA-MD-WV                ",
         "marker": {
          "color": "#19d3f3",
          "symbol": "circle"
         },
         "mode": "markers",
         "name": "Washington-Arlington-Alexandria, DC-VA-MD-WV                ",
         "showlegend": true,
         "type": "scattergl",
         "x": [
          2023,
          2022,
          2021,
          2020,
          2019
         ],
         "xaxis": "x",
         "y": [
          23034,
          32393,
          27414,
          25166,
          26804
         ],
         "yaxis": "y"
        },
        {
         "hovertemplate": "<b>%{hovertext}</b><br><br>Name=Waterloo-Cedar Falls, IA                                    <br>Year=%{x}<br>Total=%{y}<extra></extra>",
         "hovertext": [
          "Waterloo-Cedar Falls, IA                                    ",
          "Waterloo-Cedar Falls, IA                                    ",
          "Waterloo-Cedar Falls, IA                                    ",
          "Waterloo-Cedar Falls, IA                                    ",
          "Waterloo-Cedar Falls, IA                                    "
         ],
         "legendgroup": "Waterloo-Cedar Falls, IA                                    ",
         "marker": {
          "color": "#FF6692",
          "symbol": "circle"
         },
         "mode": "markers",
         "name": "Waterloo-Cedar Falls, IA                                    ",
         "showlegend": true,
         "type": "scattergl",
         "x": [
          2023,
          2022,
          2021,
          2020,
          2019
         ],
         "xaxis": "x",
         "y": [
          484,
          264,
          205,
          351,
          489
         ],
         "yaxis": "y"
        },
        {
         "hovertemplate": "<b>%{hovertext}</b><br><br>Name=Watertown-Fort Drum, NY                                     <br>Year=%{x}<br>Total=%{y}<extra></extra>",
         "hovertext": [
          "Watertown-Fort Drum, NY                                     ",
          "Watertown-Fort Drum, NY                                     ",
          "Watertown-Fort Drum, NY                                     ",
          "Watertown-Fort Drum, NY                                     ",
          "Watertown-Fort Drum, NY                                     "
         ],
         "legendgroup": "Watertown-Fort Drum, NY                                     ",
         "marker": {
          "color": "#B6E880",
          "symbol": "circle"
         },
         "mode": "markers",
         "name": "Watertown-Fort Drum, NY                                     ",
         "showlegend": true,
         "type": "scattergl",
         "x": [
          2023,
          2022,
          2021,
          2020,
          2019
         ],
         "xaxis": "x",
         "y": [
          190,
          179,
          161,
          129,
          138
         ],
         "yaxis": "y"
        },
        {
         "hovertemplate": "<b>%{hovertext}</b><br><br>Name=Wausau-Weston, WI                                           <br>Year=%{x}<br>Total=%{y}<extra></extra>",
         "hovertext": [
          "Wausau-Weston, WI                                           ",
          "Wausau-Weston, WI                                           ",
          "Wausau-Weston, WI                                           ",
          "Wausau-Weston, WI                                           ",
          "Wausau-Weston, WI                                           "
         ],
         "legendgroup": "Wausau-Weston, WI                                           ",
         "marker": {
          "color": "#FF97FF",
          "symbol": "circle"
         },
         "mode": "markers",
         "name": "Wausau-Weston, WI                                           ",
         "showlegend": true,
         "type": "scattergl",
         "x": [
          2023,
          2022,
          2021,
          2020,
          2019
         ],
         "xaxis": "x",
         "y": [
          573,
          487,
          680,
          532,
          579
         ],
         "yaxis": "y"
        },
        {
         "hovertemplate": "<b>%{hovertext}</b><br><br>Name=Weirton-Steubenville, WV-OH                                 <br>Year=%{x}<br>Total=%{y}<extra></extra>",
         "hovertext": [
          "Weirton-Steubenville, WV-OH                                 ",
          "Weirton-Steubenville, WV-OH                                 ",
          "Weirton-Steubenville, WV-OH                                 ",
          "Weirton-Steubenville, WV-OH                                 ",
          "Weirton-Steubenville, WV-OH                                 "
         ],
         "legendgroup": "Weirton-Steubenville, WV-OH                                 ",
         "marker": {
          "color": "#FECB52",
          "symbol": "circle"
         },
         "mode": "markers",
         "name": "Weirton-Steubenville, WV-OH                                 ",
         "showlegend": true,
         "type": "scattergl",
         "x": [
          2023,
          2022,
          2021,
          2020,
          2019
         ],
         "xaxis": "x",
         "y": [
          15,
          33,
          34,
          30,
          25
         ],
         "yaxis": "y"
        },
        {
         "hovertemplate": "<b>%{hovertext}</b><br><br>Name=Wenatchee, WA                                               <br>Year=%{x}<br>Total=%{y}<extra></extra>",
         "hovertext": [
          "Wenatchee, WA                                               ",
          "Wenatchee, WA                                               ",
          "Wenatchee, WA                                               ",
          "Wenatchee, WA                                               ",
          "Wenatchee, WA                                               "
         ],
         "legendgroup": "Wenatchee, WA                                               ",
         "marker": {
          "color": "#636efa",
          "symbol": "circle"
         },
         "mode": "markers",
         "name": "Wenatchee, WA                                               ",
         "showlegend": true,
         "type": "scattergl",
         "x": [
          2023,
          2022,
          2021,
          2020,
          2019
         ],
         "xaxis": "x",
         "y": [
          589,
          861,
          1000,
          991,
          955
         ],
         "yaxis": "y"
        },
        {
         "hovertemplate": "<b>%{hovertext}</b><br><br>Name=Wheeling, WV-OH                                             <br>Year=%{x}<br>Total=%{y}<extra></extra>",
         "hovertext": [
          "Wheeling, WV-OH                                             ",
          "Wheeling, WV-OH                                             ",
          "Wheeling, WV-OH                                             ",
          "Wheeling, WV-OH                                             ",
          "Wheeling, WV-OH                                             "
         ],
         "legendgroup": "Wheeling, WV-OH                                             ",
         "marker": {
          "color": "#EF553B",
          "symbol": "circle"
         },
         "mode": "markers",
         "name": "Wheeling, WV-OH                                             ",
         "showlegend": true,
         "type": "scattergl",
         "x": [
          2023,
          2022,
          2021,
          2020,
          2019
         ],
         "xaxis": "x",
         "y": [
          13,
          18,
          96,
          55,
          12
         ],
         "yaxis": "y"
        },
        {
         "hovertemplate": "<b>%{hovertext}</b><br><br>Name=Wichita Falls, TX                                           <br>Year=%{x}<br>Total=%{y}<extra></extra>",
         "hovertext": [
          "Wichita Falls, TX                                           ",
          "Wichita Falls, TX                                           ",
          "Wichita Falls, TX                                           ",
          "Wichita Falls, TX                                           ",
          "Wichita Falls, TX                                           "
         ],
         "legendgroup": "Wichita Falls, TX                                           ",
         "marker": {
          "color": "#00cc96",
          "symbol": "circle"
         },
         "mode": "markers",
         "name": "Wichita Falls, TX                                           ",
         "showlegend": true,
         "type": "scattergl",
         "x": [
          2023,
          2022,
          2021,
          2020,
          2019
         ],
         "xaxis": "x",
         "y": [
          263,
          378,
          191,
          238,
          189
         ],
         "yaxis": "y"
        },
        {
         "hovertemplate": "<b>%{hovertext}</b><br><br>Name=Wichita, KS                                                 <br>Year=%{x}<br>Total=%{y}<extra></extra>",
         "hovertext": [
          "Wichita, KS                                                 ",
          "Wichita, KS                                                 ",
          "Wichita, KS                                                 ",
          "Wichita, KS                                                 ",
          "Wichita, KS                                                 "
         ],
         "legendgroup": "Wichita, KS                                                 ",
         "marker": {
          "color": "#ab63fa",
          "symbol": "circle"
         },
         "mode": "markers",
         "name": "Wichita, KS                                                 ",
         "showlegend": true,
         "type": "scattergl",
         "x": [
          2023,
          2022,
          2021,
          2020,
          2019
         ],
         "xaxis": "x",
         "y": [
          2676,
          2850,
          2384,
          2024,
          2126
         ],
         "yaxis": "y"
        },
        {
         "hovertemplate": "<b>%{hovertext}</b><br><br>Name=Williamsport, PA                                            <br>Year=%{x}<br>Total=%{y}<extra></extra>",
         "hovertext": [
          "Williamsport, PA                                            ",
          "Williamsport, PA                                            ",
          "Williamsport, PA                                            ",
          "Williamsport, PA                                            ",
          "Williamsport, PA                                            "
         ],
         "legendgroup": "Williamsport, PA                                            ",
         "marker": {
          "color": "#FFA15A",
          "symbol": "circle"
         },
         "mode": "markers",
         "name": "Williamsport, PA                                            ",
         "showlegend": true,
         "type": "scattergl",
         "x": [
          2023,
          2022,
          2021,
          2020,
          2019
         ],
         "xaxis": "x",
         "y": [
          87,
          113,
          56,
          52,
          78
         ],
         "yaxis": "y"
        },
        {
         "hovertemplate": "<b>%{hovertext}</b><br><br>Name=Wilmington, NC                                              <br>Year=%{x}<br>Total=%{y}<extra></extra>",
         "hovertext": [
          "Wilmington, NC                                              ",
          "Wilmington, NC                                              ",
          "Wilmington, NC                                              ",
          "Wilmington, NC                                              ",
          "Wilmington, NC                                              "
         ],
         "legendgroup": "Wilmington, NC                                              ",
         "marker": {
          "color": "#19d3f3",
          "symbol": "circle"
         },
         "mode": "markers",
         "name": "Wilmington, NC                                              ",
         "showlegend": true,
         "type": "scattergl",
         "x": [
          2023,
          2022,
          2021,
          2020,
          2019
         ],
         "xaxis": "x",
         "y": [
          3829,
          4421,
          4418,
          3857,
          3575
         ],
         "yaxis": "y"
        },
        {
         "hovertemplate": "<b>%{hovertext}</b><br><br>Name=Winchester, VA-WV                                           <br>Year=%{x}<br>Total=%{y}<extra></extra>",
         "hovertext": [
          "Winchester, VA-WV                                           ",
          "Winchester, VA-WV                                           ",
          "Winchester, VA-WV                                           ",
          "Winchester, VA-WV                                           ",
          "Winchester, VA-WV                                           "
         ],
         "legendgroup": "Winchester, VA-WV                                           ",
         "marker": {
          "color": "#FF6692",
          "symbol": "circle"
         },
         "mode": "markers",
         "name": "Winchester, VA-WV                                           ",
         "showlegend": true,
         "type": "scattergl",
         "x": [
          2023,
          2022,
          2021,
          2020,
          2019
         ],
         "xaxis": "x",
         "y": [
          1002,
          1041,
          1022,
          798,
          896
         ],
         "yaxis": "y"
        },
        {
         "hovertemplate": "<b>%{hovertext}</b><br><br>Name=Winston-Salem, NC                                           <br>Year=%{x}<br>Total=%{y}<extra></extra>",
         "hovertext": [
          "Winston-Salem, NC                                           ",
          "Winston-Salem, NC                                           ",
          "Winston-Salem, NC                                           ",
          "Winston-Salem, NC                                           ",
          "Winston-Salem, NC                                           "
         ],
         "legendgroup": "Winston-Salem, NC                                           ",
         "marker": {
          "color": "#B6E880",
          "symbol": "circle"
         },
         "mode": "markers",
         "name": "Winston-Salem, NC                                           ",
         "showlegend": true,
         "type": "scattergl",
         "x": [
          2023,
          2022,
          2021,
          2020,
          2019
         ],
         "xaxis": "x",
         "y": [
          5028,
          4050,
          4206,
          4216,
          3334
         ],
         "yaxis": "y"
        },
        {
         "hovertemplate": "<b>%{hovertext}</b><br><br>Name=Worcester, MA-CT                                            <br>Year=%{x}<br>Total=%{y}<extra></extra>",
         "hovertext": [
          "Worcester, MA-CT                                            ",
          "Worcester, MA-CT                                            ",
          "Worcester, MA-CT                                            ",
          "Worcester, MA-CT                                            ",
          "Worcester, MA-CT                                            "
         ],
         "legendgroup": "Worcester, MA-CT                                            ",
         "marker": {
          "color": "#FF97FF",
          "symbol": "circle"
         },
         "mode": "markers",
         "name": "Worcester, MA-CT                                            ",
         "showlegend": true,
         "type": "scattergl",
         "x": [
          2023,
          2022,
          2021,
          2020,
          2019
         ],
         "xaxis": "x",
         "y": [
          1388,
          2252,
          2053,
          1830,
          1917
         ],
         "yaxis": "y"
        },
        {
         "hovertemplate": "<b>%{hovertext}</b><br><br>Name=Yakima, WA                                                  <br>Year=%{x}<br>Total=%{y}<extra></extra>",
         "hovertext": [
          "Yakima, WA                                                  ",
          "Yakima, WA                                                  ",
          "Yakima, WA                                                  ",
          "Yakima, WA                                                  ",
          "Yakima, WA                                                  "
         ],
         "legendgroup": "Yakima, WA                                                  ",
         "marker": {
          "color": "#FECB52",
          "symbol": "circle"
         },
         "mode": "markers",
         "name": "Yakima, WA                                                  ",
         "showlegend": true,
         "type": "scattergl",
         "x": [
          2023,
          2022,
          2021,
          2020,
          2019
         ],
         "xaxis": "x",
         "y": [
          648,
          706,
          1103,
          575,
          1043
         ],
         "yaxis": "y"
        },
        {
         "hovertemplate": "<b>%{hovertext}</b><br><br>Name=York-Hanover, PA                                            <br>Year=%{x}<br>Total=%{y}<extra></extra>",
         "hovertext": [
          "York-Hanover, PA                                            ",
          "York-Hanover, PA                                            ",
          "York-Hanover, PA                                            ",
          "York-Hanover, PA                                            ",
          "York-Hanover, PA                                            "
         ],
         "legendgroup": "York-Hanover, PA                                            ",
         "marker": {
          "color": "#636efa",
          "symbol": "circle"
         },
         "mode": "markers",
         "name": "York-Hanover, PA                                            ",
         "showlegend": true,
         "type": "scattergl",
         "x": [
          2023,
          2022,
          2021,
          2020,
          2019
         ],
         "xaxis": "x",
         "y": [
          1143,
          1362,
          1316,
          1204,
          1313
         ],
         "yaxis": "y"
        },
        {
         "hovertemplate": "<b>%{hovertext}</b><br><br>Name=Youngstown-Warren-Boardman, OH-PA                           <br>Year=%{x}<br>Total=%{y}<extra></extra>",
         "hovertext": [
          "Youngstown-Warren-Boardman, OH-PA                           ",
          "Youngstown-Warren-Boardman, OH-PA                           ",
          "Youngstown-Warren-Boardman, OH-PA                           ",
          "Youngstown-Warren-Boardman, OH-PA                           ",
          "Youngstown-Warren-Boardman, OH-PA                           "
         ],
         "legendgroup": "Youngstown-Warren-Boardman, OH-PA                           ",
         "marker": {
          "color": "#EF553B",
          "symbol": "circle"
         },
         "mode": "markers",
         "name": "Youngstown-Warren-Boardman, OH-PA                           ",
         "showlegend": true,
         "type": "scattergl",
         "x": [
          2023,
          2022,
          2021,
          2020,
          2019
         ],
         "xaxis": "x",
         "y": [
          299,
          364,
          400,
          324,
          330
         ],
         "yaxis": "y"
        },
        {
         "hovertemplate": "<b>%{hovertext}</b><br><br>Name=Yuba City, CA                                               <br>Year=%{x}<br>Total=%{y}<extra></extra>",
         "hovertext": [
          "Yuba City, CA                                               ",
          "Yuba City, CA                                               ",
          "Yuba City, CA                                               ",
          "Yuba City, CA                                               ",
          "Yuba City, CA                                               "
         ],
         "legendgroup": "Yuba City, CA                                               ",
         "marker": {
          "color": "#00cc96",
          "symbol": "circle"
         },
         "mode": "markers",
         "name": "Yuba City, CA                                               ",
         "showlegend": true,
         "type": "scattergl",
         "x": [
          2023,
          2022,
          2021,
          2020,
          2019
         ],
         "xaxis": "x",
         "y": [
          624,
          738,
          981,
          586,
          678
         ],
         "yaxis": "y"
        },
        {
         "hovertemplate": "<b>%{hovertext}</b><br><br>Name=Yuma, AZ                                                    <br>Year=%{x}<br>Total=%{y}<extra></extra>",
         "hovertext": [
          "Yuma, AZ                                                    ",
          "Yuma, AZ                                                    ",
          "Yuma, AZ                                                    ",
          "Yuma, AZ                                                    ",
          "Yuma, AZ                                                    "
         ],
         "legendgroup": "Yuma, AZ                                                    ",
         "marker": {
          "color": "#ab63fa",
          "symbol": "circle"
         },
         "mode": "markers",
         "name": "Yuma, AZ                                                    ",
         "showlegend": true,
         "type": "scattergl",
         "x": [
          2023,
          2022,
          2021,
          2020,
          2019
         ],
         "xaxis": "x",
         "y": [
          873,
          852,
          1291,
          1290,
          1206
         ],
         "yaxis": "y"
        },
        {
         "hovertemplate": "<b>%{hovertext}</b><br><br>Name=Macon, GA                                                   <br>Year=%{x}<br>Total=%{y}<extra></extra>",
         "hovertext": [
          "Macon, GA                                                   "
         ],
         "legendgroup": "Macon, GA                                                   ",
         "marker": {
          "color": "#FFA15A",
          "symbol": "circle"
         },
         "mode": "markers",
         "name": "Macon, GA                                                   ",
         "showlegend": true,
         "type": "scattergl",
         "x": [
          2019
         ],
         "xaxis": "x",
         "y": [
          420
         ],
         "yaxis": "y"
        }
       ],
       "layout": {
        "legend": {
         "title": {
          "text": "Metro Area"
         },
         "tracegroupgap": 0
        },
        "template": {
         "data": {
          "bar": [
           {
            "error_x": {
             "color": "#2a3f5f"
            },
            "error_y": {
             "color": "#2a3f5f"
            },
            "marker": {
             "line": {
              "color": "#E5ECF6",
              "width": 0.5
             },
             "pattern": {
              "fillmode": "overlay",
              "size": 10,
              "solidity": 0.2
             }
            },
            "type": "bar"
           }
          ],
          "barpolar": [
           {
            "marker": {
             "line": {
              "color": "#E5ECF6",
              "width": 0.5
             },
             "pattern": {
              "fillmode": "overlay",
              "size": 10,
              "solidity": 0.2
             }
            },
            "type": "barpolar"
           }
          ],
          "carpet": [
           {
            "aaxis": {
             "endlinecolor": "#2a3f5f",
             "gridcolor": "white",
             "linecolor": "white",
             "minorgridcolor": "white",
             "startlinecolor": "#2a3f5f"
            },
            "baxis": {
             "endlinecolor": "#2a3f5f",
             "gridcolor": "white",
             "linecolor": "white",
             "minorgridcolor": "white",
             "startlinecolor": "#2a3f5f"
            },
            "type": "carpet"
           }
          ],
          "choropleth": [
           {
            "colorbar": {
             "outlinewidth": 0,
             "ticks": ""
            },
            "type": "choropleth"
           }
          ],
          "contour": [
           {
            "colorbar": {
             "outlinewidth": 0,
             "ticks": ""
            },
            "colorscale": [
             [
              0,
              "#0d0887"
             ],
             [
              0.1111111111111111,
              "#46039f"
             ],
             [
              0.2222222222222222,
              "#7201a8"
             ],
             [
              0.3333333333333333,
              "#9c179e"
             ],
             [
              0.4444444444444444,
              "#bd3786"
             ],
             [
              0.5555555555555556,
              "#d8576b"
             ],
             [
              0.6666666666666666,
              "#ed7953"
             ],
             [
              0.7777777777777778,
              "#fb9f3a"
             ],
             [
              0.8888888888888888,
              "#fdca26"
             ],
             [
              1,
              "#f0f921"
             ]
            ],
            "type": "contour"
           }
          ],
          "contourcarpet": [
           {
            "colorbar": {
             "outlinewidth": 0,
             "ticks": ""
            },
            "type": "contourcarpet"
           }
          ],
          "heatmap": [
           {
            "colorbar": {
             "outlinewidth": 0,
             "ticks": ""
            },
            "colorscale": [
             [
              0,
              "#0d0887"
             ],
             [
              0.1111111111111111,
              "#46039f"
             ],
             [
              0.2222222222222222,
              "#7201a8"
             ],
             [
              0.3333333333333333,
              "#9c179e"
             ],
             [
              0.4444444444444444,
              "#bd3786"
             ],
             [
              0.5555555555555556,
              "#d8576b"
             ],
             [
              0.6666666666666666,
              "#ed7953"
             ],
             [
              0.7777777777777778,
              "#fb9f3a"
             ],
             [
              0.8888888888888888,
              "#fdca26"
             ],
             [
              1,
              "#f0f921"
             ]
            ],
            "type": "heatmap"
           }
          ],
          "heatmapgl": [
           {
            "colorbar": {
             "outlinewidth": 0,
             "ticks": ""
            },
            "colorscale": [
             [
              0,
              "#0d0887"
             ],
             [
              0.1111111111111111,
              "#46039f"
             ],
             [
              0.2222222222222222,
              "#7201a8"
             ],
             [
              0.3333333333333333,
              "#9c179e"
             ],
             [
              0.4444444444444444,
              "#bd3786"
             ],
             [
              0.5555555555555556,
              "#d8576b"
             ],
             [
              0.6666666666666666,
              "#ed7953"
             ],
             [
              0.7777777777777778,
              "#fb9f3a"
             ],
             [
              0.8888888888888888,
              "#fdca26"
             ],
             [
              1,
              "#f0f921"
             ]
            ],
            "type": "heatmapgl"
           }
          ],
          "histogram": [
           {
            "marker": {
             "pattern": {
              "fillmode": "overlay",
              "size": 10,
              "solidity": 0.2
             }
            },
            "type": "histogram"
           }
          ],
          "histogram2d": [
           {
            "colorbar": {
             "outlinewidth": 0,
             "ticks": ""
            },
            "colorscale": [
             [
              0,
              "#0d0887"
             ],
             [
              0.1111111111111111,
              "#46039f"
             ],
             [
              0.2222222222222222,
              "#7201a8"
             ],
             [
              0.3333333333333333,
              "#9c179e"
             ],
             [
              0.4444444444444444,
              "#bd3786"
             ],
             [
              0.5555555555555556,
              "#d8576b"
             ],
             [
              0.6666666666666666,
              "#ed7953"
             ],
             [
              0.7777777777777778,
              "#fb9f3a"
             ],
             [
              0.8888888888888888,
              "#fdca26"
             ],
             [
              1,
              "#f0f921"
             ]
            ],
            "type": "histogram2d"
           }
          ],
          "histogram2dcontour": [
           {
            "colorbar": {
             "outlinewidth": 0,
             "ticks": ""
            },
            "colorscale": [
             [
              0,
              "#0d0887"
             ],
             [
              0.1111111111111111,
              "#46039f"
             ],
             [
              0.2222222222222222,
              "#7201a8"
             ],
             [
              0.3333333333333333,
              "#9c179e"
             ],
             [
              0.4444444444444444,
              "#bd3786"
             ],
             [
              0.5555555555555556,
              "#d8576b"
             ],
             [
              0.6666666666666666,
              "#ed7953"
             ],
             [
              0.7777777777777778,
              "#fb9f3a"
             ],
             [
              0.8888888888888888,
              "#fdca26"
             ],
             [
              1,
              "#f0f921"
             ]
            ],
            "type": "histogram2dcontour"
           }
          ],
          "mesh3d": [
           {
            "colorbar": {
             "outlinewidth": 0,
             "ticks": ""
            },
            "type": "mesh3d"
           }
          ],
          "parcoords": [
           {
            "line": {
             "colorbar": {
              "outlinewidth": 0,
              "ticks": ""
             }
            },
            "type": "parcoords"
           }
          ],
          "pie": [
           {
            "automargin": true,
            "type": "pie"
           }
          ],
          "scatter": [
           {
            "marker": {
             "colorbar": {
              "outlinewidth": 0,
              "ticks": ""
             }
            },
            "type": "scatter"
           }
          ],
          "scatter3d": [
           {
            "line": {
             "colorbar": {
              "outlinewidth": 0,
              "ticks": ""
             }
            },
            "marker": {
             "colorbar": {
              "outlinewidth": 0,
              "ticks": ""
             }
            },
            "type": "scatter3d"
           }
          ],
          "scattercarpet": [
           {
            "marker": {
             "colorbar": {
              "outlinewidth": 0,
              "ticks": ""
             }
            },
            "type": "scattercarpet"
           }
          ],
          "scattergeo": [
           {
            "marker": {
             "colorbar": {
              "outlinewidth": 0,
              "ticks": ""
             }
            },
            "type": "scattergeo"
           }
          ],
          "scattergl": [
           {
            "marker": {
             "colorbar": {
              "outlinewidth": 0,
              "ticks": ""
             }
            },
            "type": "scattergl"
           }
          ],
          "scattermapbox": [
           {
            "marker": {
             "colorbar": {
              "outlinewidth": 0,
              "ticks": ""
             }
            },
            "type": "scattermapbox"
           }
          ],
          "scatterpolar": [
           {
            "marker": {
             "colorbar": {
              "outlinewidth": 0,
              "ticks": ""
             }
            },
            "type": "scatterpolar"
           }
          ],
          "scatterpolargl": [
           {
            "marker": {
             "colorbar": {
              "outlinewidth": 0,
              "ticks": ""
             }
            },
            "type": "scatterpolargl"
           }
          ],
          "scatterternary": [
           {
            "marker": {
             "colorbar": {
              "outlinewidth": 0,
              "ticks": ""
             }
            },
            "type": "scatterternary"
           }
          ],
          "surface": [
           {
            "colorbar": {
             "outlinewidth": 0,
             "ticks": ""
            },
            "colorscale": [
             [
              0,
              "#0d0887"
             ],
             [
              0.1111111111111111,
              "#46039f"
             ],
             [
              0.2222222222222222,
              "#7201a8"
             ],
             [
              0.3333333333333333,
              "#9c179e"
             ],
             [
              0.4444444444444444,
              "#bd3786"
             ],
             [
              0.5555555555555556,
              "#d8576b"
             ],
             [
              0.6666666666666666,
              "#ed7953"
             ],
             [
              0.7777777777777778,
              "#fb9f3a"
             ],
             [
              0.8888888888888888,
              "#fdca26"
             ],
             [
              1,
              "#f0f921"
             ]
            ],
            "type": "surface"
           }
          ],
          "table": [
           {
            "cells": {
             "fill": {
              "color": "#EBF0F8"
             },
             "line": {
              "color": "white"
             }
            },
            "header": {
             "fill": {
              "color": "#C8D4E3"
             },
             "line": {
              "color": "white"
             }
            },
            "type": "table"
           }
          ]
         },
         "layout": {
          "annotationdefaults": {
           "arrowcolor": "#2a3f5f",
           "arrowhead": 0,
           "arrowwidth": 1
          },
          "autotypenumbers": "strict",
          "coloraxis": {
           "colorbar": {
            "outlinewidth": 0,
            "ticks": ""
           }
          },
          "colorscale": {
           "diverging": [
            [
             0,
             "#8e0152"
            ],
            [
             0.1,
             "#c51b7d"
            ],
            [
             0.2,
             "#de77ae"
            ],
            [
             0.3,
             "#f1b6da"
            ],
            [
             0.4,
             "#fde0ef"
            ],
            [
             0.5,
             "#f7f7f7"
            ],
            [
             0.6,
             "#e6f5d0"
            ],
            [
             0.7,
             "#b8e186"
            ],
            [
             0.8,
             "#7fbc41"
            ],
            [
             0.9,
             "#4d9221"
            ],
            [
             1,
             "#276419"
            ]
           ],
           "sequential": [
            [
             0,
             "#0d0887"
            ],
            [
             0.1111111111111111,
             "#46039f"
            ],
            [
             0.2222222222222222,
             "#7201a8"
            ],
            [
             0.3333333333333333,
             "#9c179e"
            ],
            [
             0.4444444444444444,
             "#bd3786"
            ],
            [
             0.5555555555555556,
             "#d8576b"
            ],
            [
             0.6666666666666666,
             "#ed7953"
            ],
            [
             0.7777777777777778,
             "#fb9f3a"
            ],
            [
             0.8888888888888888,
             "#fdca26"
            ],
            [
             1,
             "#f0f921"
            ]
           ],
           "sequentialminus": [
            [
             0,
             "#0d0887"
            ],
            [
             0.1111111111111111,
             "#46039f"
            ],
            [
             0.2222222222222222,
             "#7201a8"
            ],
            [
             0.3333333333333333,
             "#9c179e"
            ],
            [
             0.4444444444444444,
             "#bd3786"
            ],
            [
             0.5555555555555556,
             "#d8576b"
            ],
            [
             0.6666666666666666,
             "#ed7953"
            ],
            [
             0.7777777777777778,
             "#fb9f3a"
            ],
            [
             0.8888888888888888,
             "#fdca26"
            ],
            [
             1,
             "#f0f921"
            ]
           ]
          },
          "colorway": [
           "#636efa",
           "#EF553B",
           "#00cc96",
           "#ab63fa",
           "#FFA15A",
           "#19d3f3",
           "#FF6692",
           "#B6E880",
           "#FF97FF",
           "#FECB52"
          ],
          "font": {
           "color": "#2a3f5f"
          },
          "geo": {
           "bgcolor": "white",
           "lakecolor": "white",
           "landcolor": "#E5ECF6",
           "showlakes": true,
           "showland": true,
           "subunitcolor": "white"
          },
          "hoverlabel": {
           "align": "left"
          },
          "hovermode": "closest",
          "mapbox": {
           "style": "light"
          },
          "paper_bgcolor": "white",
          "plot_bgcolor": "#E5ECF6",
          "polar": {
           "angularaxis": {
            "gridcolor": "white",
            "linecolor": "white",
            "ticks": ""
           },
           "bgcolor": "#E5ECF6",
           "radialaxis": {
            "gridcolor": "white",
            "linecolor": "white",
            "ticks": ""
           }
          },
          "scene": {
           "xaxis": {
            "backgroundcolor": "#E5ECF6",
            "gridcolor": "white",
            "gridwidth": 2,
            "linecolor": "white",
            "showbackground": true,
            "ticks": "",
            "zerolinecolor": "white"
           },
           "yaxis": {
            "backgroundcolor": "#E5ECF6",
            "gridcolor": "white",
            "gridwidth": 2,
            "linecolor": "white",
            "showbackground": true,
            "ticks": "",
            "zerolinecolor": "white"
           },
           "zaxis": {
            "backgroundcolor": "#E5ECF6",
            "gridcolor": "white",
            "gridwidth": 2,
            "linecolor": "white",
            "showbackground": true,
            "ticks": "",
            "zerolinecolor": "white"
           }
          },
          "shapedefaults": {
           "line": {
            "color": "#2a3f5f"
           }
          },
          "ternary": {
           "aaxis": {
            "gridcolor": "white",
            "linecolor": "white",
            "ticks": ""
           },
           "baxis": {
            "gridcolor": "white",
            "linecolor": "white",
            "ticks": ""
           },
           "bgcolor": "#E5ECF6",
           "caxis": {
            "gridcolor": "white",
            "linecolor": "white",
            "ticks": ""
           }
          },
          "title": {
           "x": 0.05
          },
          "xaxis": {
           "automargin": true,
           "gridcolor": "white",
           "linecolor": "white",
           "ticks": "",
           "title": {
            "standoff": 15
           },
           "zerolinecolor": "white",
           "zerolinewidth": 2
          },
          "yaxis": {
           "automargin": true,
           "gridcolor": "white",
           "linecolor": "white",
           "ticks": "",
           "title": {
            "standoff": 15
           },
           "zerolinecolor": "white",
           "zerolinewidth": 2
          }
         }
        },
        "title": {
         "text": "Total by Year for Each Metro Area"
        },
        "xaxis": {
         "anchor": "y",
         "domain": [
          0,
          1
         ],
         "title": {
          "text": "Year"
         }
        },
        "yaxis": {
         "anchor": "x",
         "domain": [
          0,
          1
         ],
         "title": {
          "text": "Total"
         }
        }
       }
      },
      "text/html": [
       "<div>                            <div id=\"623f5d95-85d1-4516-a933-74b36fd88377\" class=\"plotly-graph-div\" style=\"height:525px; width:100%;\"></div>            <script type=\"text/javascript\">                require([\"plotly\"], function(Plotly) {                    window.PLOTLYENV=window.PLOTLYENV || {};                                    if (document.getElementById(\"623f5d95-85d1-4516-a933-74b36fd88377\")) {                    Plotly.newPlot(                        \"623f5d95-85d1-4516-a933-74b36fd88377\",                        [{\"hovertemplate\":\"<b>%{hovertext}</b><br><br>Name=Abilene, TX                                                 <br>Year=%{x}<br>Total=%{y}<extra></extra>\",\"hovertext\":[\"Abilene, TX                                                 \",\"Abilene, TX                                                 \",\"Abilene, TX                                                 \",\"Abilene, TX                                                 \",\"Abilene, TX                                                 \"],\"legendgroup\":\"Abilene, TX                                                 \",\"marker\":{\"color\":\"#636efa\",\"symbol\":\"circle\"},\"mode\":\"markers\",\"name\":\"Abilene, TX                                                 \",\"showlegend\":true,\"x\":[2023,2022,2021,2020,2019],\"xaxis\":\"x\",\"y\":[456.0,799.0,883.0,663.0,370.0],\"yaxis\":\"y\",\"type\":\"scattergl\"},{\"hovertemplate\":\"<b>%{hovertext}</b><br><br>Name=Akron, OH                                                   <br>Year=%{x}<br>Total=%{y}<extra></extra>\",\"hovertext\":[\"Akron, OH                                                   \",\"Akron, OH                                                   \",\"Akron, OH                                                   \",\"Akron, OH                                                   \",\"Akron, OH                                                   \"],\"legendgroup\":\"Akron, OH                                                   \",\"marker\":{\"color\":\"#EF553B\",\"symbol\":\"circle\"},\"mode\":\"markers\",\"name\":\"Akron, OH                                                   \",\"showlegend\":true,\"x\":[2023,2022,2021,2020,2019],\"xaxis\":\"x\",\"y\":[985.0,3047.0,1215.0,914.0,945.0],\"yaxis\":\"y\",\"type\":\"scattergl\"},{\"hovertemplate\":\"<b>%{hovertext}</b><br><br>Name=Albany, GA                                                  <br>Year=%{x}<br>Total=%{y}<extra></extra>\",\"hovertext\":[\"Albany, GA                                                  \",\"Albany, GA                                                  \",\"Albany, GA                                                  \",\"Albany, GA                                                  \",\"Albany, GA                                                  \"],\"legendgroup\":\"Albany, GA                                                  \",\"marker\":{\"color\":\"#00cc96\",\"symbol\":\"circle\"},\"mode\":\"markers\",\"name\":\"Albany, GA                                                  \",\"showlegend\":true,\"x\":[2023,2022,2021,2020,2019],\"xaxis\":\"x\",\"y\":[182.0,202.0,224.0,367.0,402.0],\"yaxis\":\"y\",\"type\":\"scattergl\"},{\"hovertemplate\":\"<b>%{hovertext}</b><br><br>Name=Albany-Lebanon, OR                                          <br>Year=%{x}<br>Total=%{y}<extra></extra>\",\"hovertext\":[\"Albany-Lebanon, OR                                          \",\"Albany-Lebanon, OR                                          \",\"Albany-Lebanon, OR                                          \",\"Albany-Lebanon, OR                                          \",\"Albany-Lebanon, OR                                          \"],\"legendgroup\":\"Albany-Lebanon, OR                                          \",\"marker\":{\"color\":\"#ab63fa\",\"symbol\":\"circle\"},\"mode\":\"markers\",\"name\":\"Albany-Lebanon, OR                                          \",\"showlegend\":true,\"x\":[2023,2022,2021,2020,2019],\"xaxis\":\"x\",\"y\":[324.0,327.0,620.0,796.0,716.0],\"yaxis\":\"y\",\"type\":\"scattergl\"},{\"hovertemplate\":\"<b>%{hovertext}</b><br><br>Name=Albany-Schenectady-Troy, NY                                 <br>Year=%{x}<br>Total=%{y}<extra></extra>\",\"hovertext\":[\"Albany-Schenectady-Troy, NY                                 \",\"Albany-Schenectady-Troy, NY                                 \",\"Albany-Schenectady-Troy, NY                                 \",\"Albany-Schenectady-Troy, NY                                 \",\"Albany-Schenectady-Troy, NY                                 \"],\"legendgroup\":\"Albany-Schenectady-Troy, NY                                 \",\"marker\":{\"color\":\"#FFA15A\",\"symbol\":\"circle\"},\"mode\":\"markers\",\"name\":\"Albany-Schenectady-Troy, NY                                 \",\"showlegend\":true,\"x\":[2023,2022,2021,2020,2019],\"xaxis\":\"x\",\"y\":[1952.0,2615.0,2697.0,2046.0,1870.0],\"yaxis\":\"y\",\"type\":\"scattergl\"},{\"hovertemplate\":\"<b>%{hovertext}</b><br><br>Name=Albuquerque, NM                                             <br>Year=%{x}<br>Total=%{y}<extra></extra>\",\"hovertext\":[\"Albuquerque, NM                                             \",\"Albuquerque, NM                                             \",\"Albuquerque, NM                                             \",\"Albuquerque, NM                                             \",\"Albuquerque, NM                                             \"],\"legendgroup\":\"Albuquerque, NM                                             \",\"marker\":{\"color\":\"#19d3f3\",\"symbol\":\"circle\"},\"mode\":\"markers\",\"name\":\"Albuquerque, NM                                             \",\"showlegend\":true,\"x\":[2023,2022,2021,2020,2019],\"xaxis\":\"x\",\"y\":[2977.0,3057.0,4021.0,2014.0,2148.0],\"yaxis\":\"y\",\"type\":\"scattergl\"},{\"hovertemplate\":\"<b>%{hovertext}</b><br><br>Name=Alexandria, LA                                              <br>Year=%{x}<br>Total=%{y}<extra></extra>\",\"hovertext\":[\"Alexandria, LA                                              \",\"Alexandria, LA                                              \",\"Alexandria, LA                                              \",\"Alexandria, LA                                              \",\"Alexandria, LA                                              \"],\"legendgroup\":\"Alexandria, LA                                              \",\"marker\":{\"color\":\"#FF6692\",\"symbol\":\"circle\"},\"mode\":\"markers\",\"name\":\"Alexandria, LA                                              \",\"showlegend\":true,\"x\":[2023,2022,2021,2020,2019],\"xaxis\":\"x\",\"y\":[242.0,353.0,289.0,313.0,333.0],\"yaxis\":\"y\",\"type\":\"scattergl\"},{\"hovertemplate\":\"<b>%{hovertext}</b><br><br>Name=Allentown-Bethlehem-Easton, PA-NJ                           <br>Year=%{x}<br>Total=%{y}<extra></extra>\",\"hovertext\":[\"Allentown-Bethlehem-Easton, PA-NJ                           \",\"Allentown-Bethlehem-Easton, PA-NJ                           \",\"Allentown-Bethlehem-Easton, PA-NJ                           \",\"Allentown-Bethlehem-Easton, PA-NJ                           \",\"Allentown-Bethlehem-Easton, PA-NJ                           \"],\"legendgroup\":\"Allentown-Bethlehem-Easton, PA-NJ                           \",\"marker\":{\"color\":\"#B6E880\",\"symbol\":\"circle\"},\"mode\":\"markers\",\"name\":\"Allentown-Bethlehem-Easton, PA-NJ                           \",\"showlegend\":true,\"x\":[2023,2022,2021,2020,2019],\"xaxis\":\"x\",\"y\":[1772.0,2309.0,2606.0,1688.0,1345.0],\"yaxis\":\"y\",\"type\":\"scattergl\"},{\"hovertemplate\":\"<b>%{hovertext}</b><br><br>Name=Altoona, PA                                                 <br>Year=%{x}<br>Total=%{y}<extra></extra>\",\"hovertext\":[\"Altoona, PA                                                 \",\"Altoona, PA                                                 \",\"Altoona, PA                                                 \",\"Altoona, PA                                                 \",\"Altoona, PA                                                 \"],\"legendgroup\":\"Altoona, PA                                                 \",\"marker\":{\"color\":\"#FF97FF\",\"symbol\":\"circle\"},\"mode\":\"markers\",\"name\":\"Altoona, PA                                                 \",\"showlegend\":true,\"x\":[2023,2022,2021,2020,2019],\"xaxis\":\"x\",\"y\":[63.0,123.0,94.0,96.0,111.0],\"yaxis\":\"y\",\"type\":\"scattergl\"},{\"hovertemplate\":\"<b>%{hovertext}</b><br><br>Name=Amarillo, TX                                                <br>Year=%{x}<br>Total=%{y}<extra></extra>\",\"hovertext\":[\"Amarillo, TX                                                \",\"Amarillo, TX                                                \",\"Amarillo, TX                                                \",\"Amarillo, TX                                                \",\"Amarillo, TX                                                \"],\"legendgroup\":\"Amarillo, TX                                                \",\"marker\":{\"color\":\"#FECB52\",\"symbol\":\"circle\"},\"mode\":\"markers\",\"name\":\"Amarillo, TX                                                \",\"showlegend\":true,\"x\":[2023,2022,2021,2020,2019],\"xaxis\":\"x\",\"y\":[681.0,982.0,736.0,1022.0,584.0],\"yaxis\":\"y\",\"type\":\"scattergl\"},{\"hovertemplate\":\"<b>%{hovertext}</b><br><br>Name=Ames, IA                                                    <br>Year=%{x}<br>Total=%{y}<extra></extra>\",\"hovertext\":[\"Ames, IA                                                    \",\"Ames, IA                                                    \",\"Ames, IA                                                    \",\"Ames, IA                                                    \",\"Ames, IA                                                    \"],\"legendgroup\":\"Ames, IA                                                    \",\"marker\":{\"color\":\"#636efa\",\"symbol\":\"circle\"},\"mode\":\"markers\",\"name\":\"Ames, IA                                                    \",\"showlegend\":true,\"x\":[2023,2022,2021,2020,2019],\"xaxis\":\"x\",\"y\":[239.0,331.0,394.0,270.0,549.0],\"yaxis\":\"y\",\"type\":\"scattergl\"},{\"hovertemplate\":\"<b>%{hovertext}</b><br><br>Name=Anchorage, AK                                               <br>Year=%{x}<br>Total=%{y}<extra></extra>\",\"hovertext\":[\"Anchorage, AK                                               \",\"Anchorage, AK                                               \",\"Anchorage, AK                                               \",\"Anchorage, AK                                               \",\"Anchorage, AK                                               \"],\"legendgroup\":\"Anchorage, AK                                               \",\"marker\":{\"color\":\"#EF553B\",\"symbol\":\"circle\"},\"mode\":\"markers\",\"name\":\"Anchorage, AK                                               \",\"showlegend\":true,\"x\":[2023,2022,2021,2020,2019],\"xaxis\":\"x\",\"y\":[373.0,213.0,1183.0,1030.0,1163.0],\"yaxis\":\"y\",\"type\":\"scattergl\"},{\"hovertemplate\":\"<b>%{hovertext}</b><br><br>Name=Ann Arbor, MI                                               <br>Year=%{x}<br>Total=%{y}<extra></extra>\",\"hovertext\":[\"Ann Arbor, MI                                               \",\"Ann Arbor, MI                                               \",\"Ann Arbor, MI                                               \",\"Ann Arbor, MI                                               \",\"Ann Arbor, MI                                               \"],\"legendgroup\":\"Ann Arbor, MI                                               \",\"marker\":{\"color\":\"#00cc96\",\"symbol\":\"circle\"},\"mode\":\"markers\",\"name\":\"Ann Arbor, MI                                               \",\"showlegend\":true,\"x\":[2023,2022,2021,2020,2019],\"xaxis\":\"x\",\"y\":[1303.0,629.0,916.0,1065.0,815.0],\"yaxis\":\"y\",\"type\":\"scattergl\"},{\"hovertemplate\":\"<b>%{hovertext}</b><br><br>Name=Anniston-Oxford, AL                                         <br>Year=%{x}<br>Total=%{y}<extra></extra>\",\"hovertext\":[\"Anniston-Oxford, AL                                         \",\"Anniston-Oxford, AL                                         \",\"Anniston-Oxford, AL                                         \",\"Anniston-Oxford, AL                                         \",\"Anniston-Oxford, AL                                         \"],\"legendgroup\":\"Anniston-Oxford, AL                                         \",\"marker\":{\"color\":\"#ab63fa\",\"symbol\":\"circle\"},\"mode\":\"markers\",\"name\":\"Anniston-Oxford, AL                                         \",\"showlegend\":true,\"x\":[2023,2022,2021,2020,2019],\"xaxis\":\"x\",\"y\":[57.0,78.0,68.0,102.0,105.0],\"yaxis\":\"y\",\"type\":\"scattergl\"},{\"hovertemplate\":\"<b>%{hovertext}</b><br><br>Name=Appleton, WI                                                <br>Year=%{x}<br>Total=%{y}<extra></extra>\",\"hovertext\":[\"Appleton, WI                                                \",\"Appleton, WI                                                \",\"Appleton, WI                                                \",\"Appleton, WI                                                \",\"Appleton, WI                                                \"],\"legendgroup\":\"Appleton, WI                                                \",\"marker\":{\"color\":\"#FFA15A\",\"symbol\":\"circle\"},\"mode\":\"markers\",\"name\":\"Appleton, WI                                                \",\"showlegend\":true,\"x\":[2023,2022,2021,2020,2019],\"xaxis\":\"x\",\"y\":[779.0,767.0,1429.0,1311.0,577.0],\"yaxis\":\"y\",\"type\":\"scattergl\"},{\"hovertemplate\":\"<b>%{hovertext}</b><br><br>Name=Asheville, NC                                               <br>Year=%{x}<br>Total=%{y}<extra></extra>\",\"hovertext\":[\"Asheville, NC                                               \",\"Asheville, NC                                               \",\"Asheville, NC                                               \",\"Asheville, NC                                               \",\"Asheville, NC                                               \"],\"legendgroup\":\"Asheville, NC                                               \",\"marker\":{\"color\":\"#19d3f3\",\"symbol\":\"circle\"},\"mode\":\"markers\",\"name\":\"Asheville, NC                                               \",\"showlegend\":true,\"x\":[2023,2022,2021,2020,2019],\"xaxis\":\"x\",\"y\":[3831.0,3531.0,4238.0,3432.0,3254.0],\"yaxis\":\"y\",\"type\":\"scattergl\"},{\"hovertemplate\":\"<b>%{hovertext}</b><br><br>Name=Athens-Clarke County, GA                                    <br>Year=%{x}<br>Total=%{y}<extra></extra>\",\"hovertext\":[\"Athens-Clarke County, GA                                    \",\"Athens-Clarke County, GA                                    \",\"Athens-Clarke County, GA                                    \",\"Athens-Clarke County, GA                                    \",\"Athens-Clarke County, GA                                    \"],\"legendgroup\":\"Athens-Clarke County, GA                                    \",\"marker\":{\"color\":\"#FF6692\",\"symbol\":\"circle\"},\"mode\":\"markers\",\"name\":\"Athens-Clarke County, GA                                    \",\"showlegend\":true,\"x\":[2023,2022,2021,2020,2019],\"xaxis\":\"x\",\"y\":[1020.0,2345.0,1848.0,1218.0,1591.0],\"yaxis\":\"y\",\"type\":\"scattergl\"},{\"hovertemplate\":\"<b>%{hovertext}</b><br><br>Name=Atlanta-Sandy Springs-Alpharetta, GA                        <br>Year=%{x}<br>Total=%{y}<extra></extra>\",\"hovertext\":[\"Atlanta-Sandy Springs-Alpharetta, GA                        \",\"Atlanta-Sandy Springs-Alpharetta, GA                        \",\"Atlanta-Sandy Springs-Alpharetta, GA                        \",\"Atlanta-Sandy Springs-Alpharetta, GA                        \",\"Atlanta-Sandy Springs-Alpharetta, GA                        \"],\"legendgroup\":\"Atlanta-Sandy Springs-Alpharetta, GA                        \",\"marker\":{\"color\":\"#B6E880\",\"symbol\":\"circle\"},\"mode\":\"markers\",\"name\":\"Atlanta-Sandy Springs-Alpharetta, GA                        \",\"showlegend\":true,\"x\":[2023,2022,2021,2020,2019],\"xaxis\":\"x\",\"y\":[38589.0,48107.0,39466.0,32346.0,32836.0],\"yaxis\":\"y\",\"type\":\"scattergl\"},{\"hovertemplate\":\"<b>%{hovertext}</b><br><br>Name=Atlantic City-Hammonton, NJ                                 <br>Year=%{x}<br>Total=%{y}<extra></extra>\",\"hovertext\":[\"Atlantic City-Hammonton, NJ                                 \",\"Atlantic City-Hammonton, NJ                                 \",\"Atlantic City-Hammonton, NJ                                 \",\"Atlantic City-Hammonton, NJ                                 \",\"Atlantic City-Hammonton, NJ                                 \"],\"legendgroup\":\"Atlantic City-Hammonton, NJ                                 \",\"marker\":{\"color\":\"#FF97FF\",\"symbol\":\"circle\"},\"mode\":\"markers\",\"name\":\"Atlantic City-Hammonton, NJ                                 \",\"showlegend\":true,\"x\":[2023,2022,2021,2020,2019],\"xaxis\":\"x\",\"y\":[406.0,762.0,804.0,667.0,957.0],\"yaxis\":\"y\",\"type\":\"scattergl\"},{\"hovertemplate\":\"<b>%{hovertext}</b><br><br>Name=Auburn-Opelika, AL                                          <br>Year=%{x}<br>Total=%{y}<extra></extra>\",\"hovertext\":[\"Auburn-Opelika, AL                                          \",\"Auburn-Opelika, AL                                          \",\"Auburn-Opelika, AL                                          \",\"Auburn-Opelika, AL                                          \",\"Auburn-Opelika, AL                                          \"],\"legendgroup\":\"Auburn-Opelika, AL                                          \",\"marker\":{\"color\":\"#FECB52\",\"symbol\":\"circle\"},\"mode\":\"markers\",\"name\":\"Auburn-Opelika, AL                                          \",\"showlegend\":true,\"x\":[2023,2022,2021,2020,2019],\"xaxis\":\"x\",\"y\":[1403.0,2192.0,1851.0,2221.0,2091.0],\"yaxis\":\"y\",\"type\":\"scattergl\"},{\"hovertemplate\":\"<b>%{hovertext}</b><br><br>Name=Augusta-Richmond County, GA-SC                              <br>Year=%{x}<br>Total=%{y}<extra></extra>\",\"hovertext\":[\"Augusta-Richmond County, GA-SC                              \",\"Augusta-Richmond County, GA-SC                              \",\"Augusta-Richmond County, GA-SC                              \",\"Augusta-Richmond County, GA-SC                              \",\"Augusta-Richmond County, GA-SC                              \"],\"legendgroup\":\"Augusta-Richmond County, GA-SC                              \",\"marker\":{\"color\":\"#636efa\",\"symbol\":\"circle\"},\"mode\":\"markers\",\"name\":\"Augusta-Richmond County, GA-SC                              \",\"showlegend\":true,\"x\":[2023,2022,2021,2020,2019],\"xaxis\":\"x\",\"y\":[3550.0,4190.0,4280.0,3556.0,3201.0],\"yaxis\":\"y\",\"type\":\"scattergl\"},{\"hovertemplate\":\"<b>%{hovertext}</b><br><br>Name=Austin-Round Rock-Georgetown, TX                            <br>Year=%{x}<br>Total=%{y}<extra></extra>\",\"hovertext\":[\"Austin-Round Rock-Georgetown, TX                            \",\"Austin-Round Rock-Georgetown, TX                            \",\"Austin-Round Rock-Georgetown, TX                            \",\"Austin-Round Rock-Georgetown, TX                            \",\"Austin-Round Rock-Georgetown, TX                            \"],\"legendgroup\":\"Austin-Round Rock-Georgetown, TX                            \",\"marker\":{\"color\":\"#EF553B\",\"symbol\":\"circle\"},\"mode\":\"markers\",\"name\":\"Austin-Round Rock-Georgetown, TX                            \",\"showlegend\":true,\"x\":[2023,2022,2021,2020,2019],\"xaxis\":\"x\",\"y\":[38599.0,42364.0,50907.0,42264.0,32037.0],\"yaxis\":\"y\",\"type\":\"scattergl\"},{\"hovertemplate\":\"<b>%{hovertext}</b><br><br>Name=Bakersfield, CA                                             <br>Year=%{x}<br>Total=%{y}<extra></extra>\",\"hovertext\":[\"Bakersfield, CA                                             \",\"Bakersfield, CA                                             \",\"Bakersfield, CA                                             \",\"Bakersfield, CA                                             \",\"Bakersfield, CA                                             \"],\"legendgroup\":\"Bakersfield, CA                                             \",\"marker\":{\"color\":\"#00cc96\",\"symbol\":\"circle\"},\"mode\":\"markers\",\"name\":\"Bakersfield, CA                                             \",\"showlegend\":true,\"x\":[2023,2022,2021,2020,2019],\"xaxis\":\"x\",\"y\":[2462.0,2688.0,2293.0,2502.0,2261.0],\"yaxis\":\"y\",\"type\":\"scattergl\"},{\"hovertemplate\":\"<b>%{hovertext}</b><br><br>Name=Baltimore-Columbia-Towson, MD                               <br>Year=%{x}<br>Total=%{y}<extra></extra>\",\"hovertext\":[\"Baltimore-Columbia-Towson, MD                               \",\"Baltimore-Columbia-Towson, MD                               \",\"Baltimore-Columbia-Towson, MD                               \",\"Baltimore-Columbia-Towson, MD                               \",\"Baltimore-Columbia-Towson, MD                               \"],\"legendgroup\":\"Baltimore-Columbia-Towson, MD                               \",\"marker\":{\"color\":\"#ab63fa\",\"symbol\":\"circle\"},\"mode\":\"markers\",\"name\":\"Baltimore-Columbia-Towson, MD                               \",\"showlegend\":true,\"x\":[2023,2022,2021,2020,2019],\"xaxis\":\"x\",\"y\":[7236.0,6588.0,7834.0,8094.0,6967.0],\"yaxis\":\"y\",\"type\":\"scattergl\"},{\"hovertemplate\":\"<b>%{hovertext}</b><br><br>Name=Bangor, ME                                                  <br>Year=%{x}<br>Total=%{y}<extra></extra>\",\"hovertext\":[\"Bangor, ME                                                  \",\"Bangor, ME                                                  \",\"Bangor, ME                                                  \",\"Bangor, ME                                                  \",\"Bangor, ME                                                  \"],\"legendgroup\":\"Bangor, ME                                                  \",\"marker\":{\"color\":\"#FFA15A\",\"symbol\":\"circle\"},\"mode\":\"markers\",\"name\":\"Bangor, ME                                                  \",\"showlegend\":true,\"x\":[2023,2022,2021,2020,2019],\"xaxis\":\"x\",\"y\":[303.0,430.0,368.0,337.0,266.0],\"yaxis\":\"y\",\"type\":\"scattergl\"},{\"hovertemplate\":\"<b>%{hovertext}</b><br><br>Name=Barnstable Town, MA                                         <br>Year=%{x}<br>Total=%{y}<extra></extra>\",\"hovertext\":[\"Barnstable Town, MA                                         \",\"Barnstable Town, MA                                         \",\"Barnstable Town, MA                                         \",\"Barnstable Town, MA                                         \",\"Barnstable Town, MA                                         \"],\"legendgroup\":\"Barnstable Town, MA                                         \",\"marker\":{\"color\":\"#19d3f3\",\"symbol\":\"circle\"},\"mode\":\"markers\",\"name\":\"Barnstable Town, MA                                         \",\"showlegend\":true,\"x\":[2023,2022,2021,2020,2019],\"xaxis\":\"x\",\"y\":[528.0,887.0,672.0,592.0,513.0],\"yaxis\":\"y\",\"type\":\"scattergl\"},{\"hovertemplate\":\"<b>%{hovertext}</b><br><br>Name=Baton Rouge, LA                                             <br>Year=%{x}<br>Total=%{y}<extra></extra>\",\"hovertext\":[\"Baton Rouge, LA                                             \",\"Baton Rouge, LA                                             \",\"Baton Rouge, LA                                             \",\"Baton Rouge, LA                                             \",\"Baton Rouge, LA                                             \"],\"legendgroup\":\"Baton Rouge, LA                                             \",\"marker\":{\"color\":\"#FF6692\",\"symbol\":\"circle\"},\"mode\":\"markers\",\"name\":\"Baton Rouge, LA                                             \",\"showlegend\":true,\"x\":[2023,2022,2021,2020,2019],\"xaxis\":\"x\",\"y\":[3272.0,3773.0,4460.0,3780.0,3622.0],\"yaxis\":\"y\",\"type\":\"scattergl\"},{\"hovertemplate\":\"<b>%{hovertext}</b><br><br>Name=Battle Creek, MI                                            <br>Year=%{x}<br>Total=%{y}<extra></extra>\",\"hovertext\":[\"Battle Creek, MI                                            \",\"Battle Creek, MI                                            \",\"Battle Creek, MI                                            \",\"Battle Creek, MI                                            \",\"Battle Creek, MI                                            \"],\"legendgroup\":\"Battle Creek, MI                                            \",\"marker\":{\"color\":\"#B6E880\",\"symbol\":\"circle\"},\"mode\":\"markers\",\"name\":\"Battle Creek, MI                                            \",\"showlegend\":true,\"x\":[2023,2022,2021,2020,2019],\"xaxis\":\"x\",\"y\":[78.0,95.0,108.0,90.0,56.0],\"yaxis\":\"y\",\"type\":\"scattergl\"},{\"hovertemplate\":\"<b>%{hovertext}</b><br><br>Name=Bay City, MI                                                <br>Year=%{x}<br>Total=%{y}<extra></extra>\",\"hovertext\":[\"Bay City, MI                                                \",\"Bay City, MI                                                \",\"Bay City, MI                                                \",\"Bay City, MI                                                \",\"Bay City, MI                                                \"],\"legendgroup\":\"Bay City, MI                                                \",\"marker\":{\"color\":\"#FF97FF\",\"symbol\":\"circle\"},\"mode\":\"markers\",\"name\":\"Bay City, MI                                                \",\"showlegend\":true,\"x\":[2023,2022,2021,2020,2019],\"xaxis\":\"x\",\"y\":[42.0,67.0,74.0,135.0,83.0],\"yaxis\":\"y\",\"type\":\"scattergl\"},{\"hovertemplate\":\"<b>%{hovertext}</b><br><br>Name=Beaumont-Port Arthur, TX                                    <br>Year=%{x}<br>Total=%{y}<extra></extra>\",\"hovertext\":[\"Beaumont-Port Arthur, TX                                    \",\"Beaumont-Port Arthur, TX                                    \",\"Beaumont-Port Arthur, TX                                    \",\"Beaumont-Port Arthur, TX                                    \",\"Beaumont-Port Arthur, TX                                    \"],\"legendgroup\":\"Beaumont-Port Arthur, TX                                    \",\"marker\":{\"color\":\"#FECB52\",\"symbol\":\"circle\"},\"mode\":\"markers\",\"name\":\"Beaumont-Port Arthur, TX                                    \",\"showlegend\":true,\"x\":[2023,2022,2021,2020,2019],\"xaxis\":\"x\",\"y\":[1054.0,1368.0,1585.0,1753.0,1363.0],\"yaxis\":\"y\",\"type\":\"scattergl\"},{\"hovertemplate\":\"<b>%{hovertext}</b><br><br>Name=Beckley, WV                                                 <br>Year=%{x}<br>Total=%{y}<extra></extra>\",\"hovertext\":[\"Beckley, WV                                                 \",\"Beckley, WV                                                 \",\"Beckley, WV                                                 \",\"Beckley, WV                                                 \",\"Beckley, WV                                                 \"],\"legendgroup\":\"Beckley, WV                                                 \",\"marker\":{\"color\":\"#636efa\",\"symbol\":\"circle\"},\"mode\":\"markers\",\"name\":\"Beckley, WV                                                 \",\"showlegend\":true,\"x\":[2023,2022,2021,2020,2019],\"xaxis\":\"x\",\"y\":[94.0,104.0,103.0,75.0,77.0],\"yaxis\":\"y\",\"type\":\"scattergl\"},{\"hovertemplate\":\"<b>%{hovertext}</b><br><br>Name=Bellingham, WA                                              <br>Year=%{x}<br>Total=%{y}<extra></extra>\",\"hovertext\":[\"Bellingham, WA                                              \",\"Bellingham, WA                                              \",\"Bellingham, WA                                              \",\"Bellingham, WA                                              \",\"Bellingham, WA                                              \"],\"legendgroup\":\"Bellingham, WA                                              \",\"marker\":{\"color\":\"#EF553B\",\"symbol\":\"circle\"},\"mode\":\"markers\",\"name\":\"Bellingham, WA                                              \",\"showlegend\":true,\"x\":[2023,2022,2021,2020,2019],\"xaxis\":\"x\",\"y\":[905.0,1614.0,1871.0,1382.0,1821.0],\"yaxis\":\"y\",\"type\":\"scattergl\"},{\"hovertemplate\":\"<b>%{hovertext}</b><br><br>Name=Bend, OR                                                    <br>Year=%{x}<br>Total=%{y}<extra></extra>\",\"hovertext\":[\"Bend, OR                                                    \",\"Bend, OR                                                    \",\"Bend, OR                                                    \",\"Bend, OR                                                    \",\"Bend, OR                                                    \"],\"legendgroup\":\"Bend, OR                                                    \",\"marker\":{\"color\":\"#00cc96\",\"symbol\":\"circle\"},\"mode\":\"markers\",\"name\":\"Bend, OR                                                    \",\"showlegend\":true,\"x\":[2023,2022,2021,2020,2019],\"xaxis\":\"x\",\"y\":[2397.0,2113.0,2737.0,2338.0,2028.0],\"yaxis\":\"y\",\"type\":\"scattergl\"},{\"hovertemplate\":\"<b>%{hovertext}</b><br><br>Name=Billings, MT                                                <br>Year=%{x}<br>Total=%{y}<extra></extra>\",\"hovertext\":[\"Billings, MT                                                \",\"Billings, MT                                                \",\"Billings, MT                                                \",\"Billings, MT                                                \",\"Billings, MT                                                \"],\"legendgroup\":\"Billings, MT                                                \",\"marker\":{\"color\":\"#ab63fa\",\"symbol\":\"circle\"},\"mode\":\"markers\",\"name\":\"Billings, MT                                                \",\"showlegend\":true,\"x\":[2023,2022,2021,2020,2019],\"xaxis\":\"x\",\"y\":[351.0,1202.0,979.0,1435.0,1154.0],\"yaxis\":\"y\",\"type\":\"scattergl\"},{\"hovertemplate\":\"<b>%{hovertext}</b><br><br>Name=Binghamton, NY                                              <br>Year=%{x}<br>Total=%{y}<extra></extra>\",\"hovertext\":[\"Binghamton, NY                                              \",\"Binghamton, NY                                              \",\"Binghamton, NY                                              \",\"Binghamton, NY                                              \",\"Binghamton, NY                                              \"],\"legendgroup\":\"Binghamton, NY                                              \",\"marker\":{\"color\":\"#FFA15A\",\"symbol\":\"circle\"},\"mode\":\"markers\",\"name\":\"Binghamton, NY                                              \",\"showlegend\":true,\"x\":[2023,2022,2021,2020,2019],\"xaxis\":\"x\",\"y\":[336.0,452.0,499.0,446.0,351.0],\"yaxis\":\"y\",\"type\":\"scattergl\"},{\"hovertemplate\":\"<b>%{hovertext}</b><br><br>Name=Birmingham-Hoover, AL                                       <br>Year=%{x}<br>Total=%{y}<extra></extra>\",\"hovertext\":[\"Birmingham-Hoover, AL                                       \",\"Birmingham-Hoover, AL                                       \",\"Birmingham-Hoover, AL                                       \",\"Birmingham-Hoover, AL                                       \",\"Birmingham-Hoover, AL                                       \"],\"legendgroup\":\"Birmingham-Hoover, AL                                       \",\"marker\":{\"color\":\"#19d3f3\",\"symbol\":\"circle\"},\"mode\":\"markers\",\"name\":\"Birmingham-Hoover, AL                                       \",\"showlegend\":true,\"x\":[2023,2022,2021,2020,2019],\"xaxis\":\"x\",\"y\":[3287.0,4147.0,3984.0,3845.0,3202.0],\"yaxis\":\"y\",\"type\":\"scattergl\"},{\"hovertemplate\":\"<b>%{hovertext}</b><br><br>Name=Bismarck, ND                                                <br>Year=%{x}<br>Total=%{y}<extra></extra>\",\"hovertext\":[\"Bismarck, ND                                                \",\"Bismarck, ND                                                \",\"Bismarck, ND                                                \",\"Bismarck, ND                                                \",\"Bismarck, ND                                                \"],\"legendgroup\":\"Bismarck, ND                                                \",\"marker\":{\"color\":\"#FF6692\",\"symbol\":\"circle\"},\"mode\":\"markers\",\"name\":\"Bismarck, ND                                                \",\"showlegend\":true,\"x\":[2023,2022,2021,2020,2019],\"xaxis\":\"x\",\"y\":[291.0,610.0,792.0,715.0,631.0],\"yaxis\":\"y\",\"type\":\"scattergl\"},{\"hovertemplate\":\"<b>%{hovertext}</b><br><br>Name=Blacksburg-Christiansburg, VA                               <br>Year=%{x}<br>Total=%{y}<extra></extra>\",\"hovertext\":[\"Blacksburg-Christiansburg, VA                               \",\"Blacksburg-Christiansburg, VA                               \",\"Blacksburg-Christiansburg, VA                               \",\"Blacksburg-Christiansburg, VA                               \",\"Blacksburg-Christiansburg, VA                               \"],\"legendgroup\":\"Blacksburg-Christiansburg, VA                               \",\"marker\":{\"color\":\"#B6E880\",\"symbol\":\"circle\"},\"mode\":\"markers\",\"name\":\"Blacksburg-Christiansburg, VA                               \",\"showlegend\":true,\"x\":[2023,2022,2021,2020,2019],\"xaxis\":\"x\",\"y\":[490.0,500.0,386.0,1748.0,632.0],\"yaxis\":\"y\",\"type\":\"scattergl\"},{\"hovertemplate\":\"<b>%{hovertext}</b><br><br>Name=Bloomington, IL                                             <br>Year=%{x}<br>Total=%{y}<extra></extra>\",\"hovertext\":[\"Bloomington, IL                                             \",\"Bloomington, IL                                             \",\"Bloomington, IL                                             \",\"Bloomington, IL                                             \",\"Bloomington, IL                                             \"],\"legendgroup\":\"Bloomington, IL                                             \",\"marker\":{\"color\":\"#FF97FF\",\"symbol\":\"circle\"},\"mode\":\"markers\",\"name\":\"Bloomington, IL                                             \",\"showlegend\":true,\"x\":[2023,2022,2021,2020,2019],\"xaxis\":\"x\",\"y\":[244.0,437.0,283.0,265.0,192.0],\"yaxis\":\"y\",\"type\":\"scattergl\"},{\"hovertemplate\":\"<b>%{hovertext}</b><br><br>Name=Bloomington, IN                                             <br>Year=%{x}<br>Total=%{y}<extra></extra>\",\"hovertext\":[\"Bloomington, IN                                             \",\"Bloomington, IN                                             \",\"Bloomington, IN                                             \",\"Bloomington, IN                                             \",\"Bloomington, IN                                             \"],\"legendgroup\":\"Bloomington, IN                                             \",\"marker\":{\"color\":\"#FECB52\",\"symbol\":\"circle\"},\"mode\":\"markers\",\"name\":\"Bloomington, IN                                             \",\"showlegend\":true,\"x\":[2023,2022,2021,2020,2019],\"xaxis\":\"x\",\"y\":[569.0,552.0,2086.0,650.0,762.0],\"yaxis\":\"y\",\"type\":\"scattergl\"},{\"hovertemplate\":\"<b>%{hovertext}</b><br><br>Name=Bloomsburg-Berwick, PA                                      <br>Year=%{x}<br>Total=%{y}<extra></extra>\",\"hovertext\":[\"Bloomsburg-Berwick, PA                                      \",\"Bloomsburg-Berwick, PA                                      \",\"Bloomsburg-Berwick, PA                                      \",\"Bloomsburg-Berwick, PA                                      \",\"Bloomsburg-Berwick, PA                                      \"],\"legendgroup\":\"Bloomsburg-Berwick, PA                                      \",\"marker\":{\"color\":\"#636efa\",\"symbol\":\"circle\"},\"mode\":\"markers\",\"name\":\"Bloomsburg-Berwick, PA                                      \",\"showlegend\":true,\"x\":[2023,2022,2021,2020,2019],\"xaxis\":\"x\",\"y\":[113.0,135.0,159.0,90.0,111.0],\"yaxis\":\"y\",\"type\":\"scattergl\"},{\"hovertemplate\":\"<b>%{hovertext}</b><br><br>Name=Boise City, ID                                              <br>Year=%{x}<br>Total=%{y}<extra></extra>\",\"hovertext\":[\"Boise City, ID                                              \",\"Boise City, ID                                              \",\"Boise City, ID                                              \",\"Boise City, ID                                              \",\"Boise City, ID                                              \"],\"legendgroup\":\"Boise City, ID                                              \",\"marker\":{\"color\":\"#EF553B\",\"symbol\":\"circle\"},\"mode\":\"markers\",\"name\":\"Boise City, ID                                              \",\"showlegend\":true,\"x\":[2023,2022,2021,2020,2019],\"xaxis\":\"x\",\"y\":[9882.0,10475.0,12196.0,9762.0,10632.0],\"yaxis\":\"y\",\"type\":\"scattergl\"},{\"hovertemplate\":\"<b>%{hovertext}</b><br><br>Name=Boston-Cambridge-Newton, MA-NH                              <br>Year=%{x}<br>Total=%{y}<extra></extra>\",\"hovertext\":[\"Boston-Cambridge-Newton, MA-NH                              \",\"Boston-Cambridge-Newton, MA-NH                              \",\"Boston-Cambridge-Newton, MA-NH                              \",\"Boston-Cambridge-Newton, MA-NH                              \",\"Boston-Cambridge-Newton, MA-NH                              \"],\"legendgroup\":\"Boston-Cambridge-Newton, MA-NH                              \",\"marker\":{\"color\":\"#00cc96\",\"symbol\":\"circle\"},\"mode\":\"markers\",\"name\":\"Boston-Cambridge-Newton, MA-NH                              \",\"showlegend\":true,\"x\":[2023,2022,2021,2020,2019],\"xaxis\":\"x\",\"y\":[10580.0,14454.0,16602.0,14248.0,15088.0],\"yaxis\":\"y\",\"type\":\"scattergl\"},{\"hovertemplate\":\"<b>%{hovertext}</b><br><br>Name=Boulder, CO                                                 <br>Year=%{x}<br>Total=%{y}<extra></extra>\",\"hovertext\":[\"Boulder, CO                                                 \",\"Boulder, CO                                                 \",\"Boulder, CO                                                 \",\"Boulder, CO                                                 \",\"Boulder, CO                                                 \"],\"legendgroup\":\"Boulder, CO                                                 \",\"marker\":{\"color\":\"#ab63fa\",\"symbol\":\"circle\"},\"mode\":\"markers\",\"name\":\"Boulder, CO                                                 \",\"showlegend\":true,\"x\":[2023,2022,2021,2020,2019],\"xaxis\":\"x\",\"y\":[1646.0,1642.0,1237.0,1634.0,1650.0],\"yaxis\":\"y\",\"type\":\"scattergl\"},{\"hovertemplate\":\"<b>%{hovertext}</b><br><br>Name=Bowling Green, KY                                           <br>Year=%{x}<br>Total=%{y}<extra></extra>\",\"hovertext\":[\"Bowling Green, KY                                           \",\"Bowling Green, KY                                           \",\"Bowling Green, KY                                           \",\"Bowling Green, KY                                           \",\"Bowling Green, KY                                           \"],\"legendgroup\":\"Bowling Green, KY                                           \",\"marker\":{\"color\":\"#FFA15A\",\"symbol\":\"circle\"},\"mode\":\"markers\",\"name\":\"Bowling Green, KY                                           \",\"showlegend\":true,\"x\":[2023,2022,2021,2020,2019],\"xaxis\":\"x\",\"y\":[1448.0,1636.0,2137.0,978.0,762.0],\"yaxis\":\"y\",\"type\":\"scattergl\"},{\"hovertemplate\":\"<b>%{hovertext}</b><br><br>Name=Bremerton-Silverdale-Port Orchard, WA                       <br>Year=%{x}<br>Total=%{y}<extra></extra>\",\"hovertext\":[\"Bremerton-Silverdale-Port Orchard, WA                       \",\"Bremerton-Silverdale-Port Orchard, WA                       \",\"Bremerton-Silverdale-Port Orchard, WA                       \",\"Bremerton-Silverdale-Port Orchard, WA                       \",\"Bremerton-Silverdale-Port Orchard, WA                       \"],\"legendgroup\":\"Bremerton-Silverdale-Port Orchard, WA                       \",\"marker\":{\"color\":\"#19d3f3\",\"symbol\":\"circle\"},\"mode\":\"markers\",\"name\":\"Bremerton-Silverdale-Port Orchard, WA                       \",\"showlegend\":true,\"x\":[2023,2022,2021,2020,2019],\"xaxis\":\"x\",\"y\":[2258.0,1701.0,2285.0,1285.0,1117.0],\"yaxis\":\"y\",\"type\":\"scattergl\"},{\"hovertemplate\":\"<b>%{hovertext}</b><br><br>Name=Bridgeport-Stamford-Norwalk, CT                             <br>Year=%{x}<br>Total=%{y}<extra></extra>\",\"hovertext\":[\"Bridgeport-Stamford-Norwalk, CT                             \",\"Bridgeport-Stamford-Norwalk, CT                             \",\"Bridgeport-Stamford-Norwalk, CT                             \",\"Bridgeport-Stamford-Norwalk, CT                             \",\"Bridgeport-Stamford-Norwalk, CT                             \"],\"legendgroup\":\"Bridgeport-Stamford-Norwalk, CT                             \",\"marker\":{\"color\":\"#FF6692\",\"symbol\":\"circle\"},\"mode\":\"markers\",\"name\":\"Bridgeport-Stamford-Norwalk, CT                             \",\"showlegend\":true,\"x\":[2023,2022,2021,2020,2019],\"xaxis\":\"x\",\"y\":[1506.0,1668.0,1292.0,1862.0,2326.0],\"yaxis\":\"y\",\"type\":\"scattergl\"},{\"hovertemplate\":\"<b>%{hovertext}</b><br><br>Name=Brownsville-Harlingen, TX                                   <br>Year=%{x}<br>Total=%{y}<extra></extra>\",\"hovertext\":[\"Brownsville-Harlingen, TX                                   \",\"Brownsville-Harlingen, TX                                   \",\"Brownsville-Harlingen, TX                                   \",\"Brownsville-Harlingen, TX                                   \",\"Brownsville-Harlingen, TX                                   \"],\"legendgroup\":\"Brownsville-Harlingen, TX                                   \",\"marker\":{\"color\":\"#B6E880\",\"symbol\":\"circle\"},\"mode\":\"markers\",\"name\":\"Brownsville-Harlingen, TX                                   \",\"showlegend\":true,\"x\":[2023,2022,2021,2020,2019],\"xaxis\":\"x\",\"y\":[1958.0,2509.0,2052.0,1904.0,1817.0],\"yaxis\":\"y\",\"type\":\"scattergl\"},{\"hovertemplate\":\"<b>%{hovertext}</b><br><br>Name=Brunswick, GA                                               <br>Year=%{x}<br>Total=%{y}<extra></extra>\",\"hovertext\":[\"Brunswick, GA                                               \",\"Brunswick, GA                                               \",\"Brunswick, GA                                               \",\"Brunswick, GA                                               \",\"Brunswick, GA                                               \"],\"legendgroup\":\"Brunswick, GA                                               \",\"marker\":{\"color\":\"#FF97FF\",\"symbol\":\"circle\"},\"mode\":\"markers\",\"name\":\"Brunswick, GA                                               \",\"showlegend\":true,\"x\":[2023,2022,2021,2020,2019],\"xaxis\":\"x\",\"y\":[785.0,1568.0,723.0,542.0,460.0],\"yaxis\":\"y\",\"type\":\"scattergl\"},{\"hovertemplate\":\"<b>%{hovertext}</b><br><br>Name=Buffalo-Cheektowaga, NY                                     <br>Year=%{x}<br>Total=%{y}<extra></extra>\",\"hovertext\":[\"Buffalo-Cheektowaga, NY                                     \",\"Buffalo-Cheektowaga, NY                                     \",\"Buffalo-Cheektowaga, NY                                     \",\"Buffalo-Cheektowaga, NY                                     \",\"Buffalo-Cheektowaga, NY                                     \"],\"legendgroup\":\"Buffalo-Cheektowaga, NY                                     \",\"marker\":{\"color\":\"#FECB52\",\"symbol\":\"circle\"},\"mode\":\"markers\",\"name\":\"Buffalo-Cheektowaga, NY                                     \",\"showlegend\":true,\"x\":[2023,2022,2021,2020,2019],\"xaxis\":\"x\",\"y\":[1292.0,1597.0,1553.0,1444.0,1693.0],\"yaxis\":\"y\",\"type\":\"scattergl\"},{\"hovertemplate\":\"<b>%{hovertext}</b><br><br>Name=Burlington, NC                                              <br>Year=%{x}<br>Total=%{y}<extra></extra>\",\"hovertext\":[\"Burlington, NC                                              \",\"Burlington, NC                                              \",\"Burlington, NC                                              \",\"Burlington, NC                                              \",\"Burlington, NC                                              \"],\"legendgroup\":\"Burlington, NC                                              \",\"marker\":{\"color\":\"#636efa\",\"symbol\":\"circle\"},\"mode\":\"markers\",\"name\":\"Burlington, NC                                              \",\"showlegend\":true,\"x\":[2023,2022,2021,2020,2019],\"xaxis\":\"x\",\"y\":[2730.0,1949.0,2294.0,1784.0,1407.0],\"yaxis\":\"y\",\"type\":\"scattergl\"},{\"hovertemplate\":\"<b>%{hovertext}</b><br><br>Name=Burlington-South Burlington, VT                             <br>Year=%{x}<br>Total=%{y}<extra></extra>\",\"hovertext\":[\"Burlington-South Burlington, VT                             \",\"Burlington-South Burlington, VT                             \",\"Burlington-South Burlington, VT                             \",\"Burlington-South Burlington, VT                             \",\"Burlington-South Burlington, VT                             \"],\"legendgroup\":\"Burlington-South Burlington, VT                             \",\"marker\":{\"color\":\"#EF553B\",\"symbol\":\"circle\"},\"mode\":\"markers\",\"name\":\"Burlington-South Burlington, VT                             \",\"showlegend\":true,\"x\":[2023,2022,2021,2020,2019],\"xaxis\":\"x\",\"y\":[1187.0,1022.0,1049.0,1103.0,867.0],\"yaxis\":\"y\",\"type\":\"scattergl\"},{\"hovertemplate\":\"<b>%{hovertext}</b><br><br>Name=California-Lexington Park, MD                               <br>Year=%{x}<br>Total=%{y}<extra></extra>\",\"hovertext\":[\"California-Lexington Park, MD                               \",\"California-Lexington Park, MD                               \",\"California-Lexington Park, MD                               \",\"California-Lexington Park, MD                               \",\"California-Lexington Park, MD                               \"],\"legendgroup\":\"California-Lexington Park, MD                               \",\"marker\":{\"color\":\"#00cc96\",\"symbol\":\"circle\"},\"mode\":\"markers\",\"name\":\"California-Lexington Park, MD                               \",\"showlegend\":true,\"x\":[2023,2022,2021,2020,2019],\"xaxis\":\"x\",\"y\":[386.0,238.0,359.0,555.0,689.0],\"yaxis\":\"y\",\"type\":\"scattergl\"},{\"hovertemplate\":\"<b>%{hovertext}</b><br><br>Name=Canton-Massillon, OH                                        <br>Year=%{x}<br>Total=%{y}<extra></extra>\",\"hovertext\":[\"Canton-Massillon, OH                                        \",\"Canton-Massillon, OH                                        \",\"Canton-Massillon, OH                                        \",\"Canton-Massillon, OH                                        \",\"Canton-Massillon, OH                                        \"],\"legendgroup\":\"Canton-Massillon, OH                                        \",\"marker\":{\"color\":\"#ab63fa\",\"symbol\":\"circle\"},\"mode\":\"markers\",\"name\":\"Canton-Massillon, OH                                        \",\"showlegend\":true,\"x\":[2023,2022,2021,2020,2019],\"xaxis\":\"x\",\"y\":[509.0,810.0,953.0,690.0,624.0],\"yaxis\":\"y\",\"type\":\"scattergl\"},{\"hovertemplate\":\"<b>%{hovertext}</b><br><br>Name=Cape Coral-Fort Myers, FL                                   <br>Year=%{x}<br>Total=%{y}<extra></extra>\",\"hovertext\":[\"Cape Coral-Fort Myers, FL                                   \",\"Cape Coral-Fort Myers, FL                                   \",\"Cape Coral-Fort Myers, FL                                   \",\"Cape Coral-Fort Myers, FL                                   \",\"Cape Coral-Fort Myers, FL                                   \"],\"legendgroup\":\"Cape Coral-Fort Myers, FL                                   \",\"marker\":{\"color\":\"#FFA15A\",\"symbol\":\"circle\"},\"mode\":\"markers\",\"name\":\"Cape Coral-Fort Myers, FL                                   \",\"showlegend\":true,\"x\":[2023,2022,2021,2020,2019],\"xaxis\":\"x\",\"y\":[13556.0,13621.0,13394.0,10673.0,9105.0],\"yaxis\":\"y\",\"type\":\"scattergl\"},{\"hovertemplate\":\"<b>%{hovertext}</b><br><br>Name=Cape Girardeau, MO-IL                                       <br>Year=%{x}<br>Total=%{y}<extra></extra>\",\"hovertext\":[\"Cape Girardeau, MO-IL                                       \",\"Cape Girardeau, MO-IL                                       \",\"Cape Girardeau, MO-IL                                       \",\"Cape Girardeau, MO-IL                                       \",\"Cape Girardeau, MO-IL                                       \"],\"legendgroup\":\"Cape Girardeau, MO-IL                                       \",\"marker\":{\"color\":\"#19d3f3\",\"symbol\":\"circle\"},\"mode\":\"markers\",\"name\":\"Cape Girardeau, MO-IL                                       \",\"showlegend\":true,\"x\":[2023,2022,2021,2020,2019],\"xaxis\":\"x\",\"y\":[78.0,148.0,177.0,141.0,795.0],\"yaxis\":\"y\",\"type\":\"scattergl\"},{\"hovertemplate\":\"<b>%{hovertext}</b><br><br>Name=Carbondale-Marion, IL                                       <br>Year=%{x}<br>Total=%{y}<extra></extra>\",\"hovertext\":[\"Carbondale-Marion, IL                                       \",\"Carbondale-Marion, IL                                       \",\"Carbondale-Marion, IL                                       \",\"Carbondale-Marion, IL                                       \",\"Carbondale-Marion, IL                                       \"],\"legendgroup\":\"Carbondale-Marion, IL                                       \",\"marker\":{\"color\":\"#FF6692\",\"symbol\":\"circle\"},\"mode\":\"markers\",\"name\":\"Carbondale-Marion, IL                                       \",\"showlegend\":true,\"x\":[2023,2022,2021,2020,2019],\"xaxis\":\"x\",\"y\":[129.0,150.0,99.0,183.0,182.0],\"yaxis\":\"y\",\"type\":\"scattergl\"},{\"hovertemplate\":\"<b>%{hovertext}</b><br><br>Name=Carson City, NV                                             <br>Year=%{x}<br>Total=%{y}<extra></extra>\",\"hovertext\":[\"Carson City, NV                                             \",\"Carson City, NV                                             \",\"Carson City, NV                                             \",\"Carson City, NV                                             \",\"Carson City, NV                                             \"],\"legendgroup\":\"Carson City, NV                                             \",\"marker\":{\"color\":\"#B6E880\",\"symbol\":\"circle\"},\"mode\":\"markers\",\"name\":\"Carson City, NV                                             \",\"showlegend\":true,\"x\":[2023,2022,2021,2020,2019],\"xaxis\":\"x\",\"y\":[242.0,272.0,307.0,263.0,248.0],\"yaxis\":\"y\",\"type\":\"scattergl\"},{\"hovertemplate\":\"<b>%{hovertext}</b><br><br>Name=Casper, WY                                                  <br>Year=%{x}<br>Total=%{y}<extra></extra>\",\"hovertext\":[\"Casper, WY                                                  \",\"Casper, WY                                                  \",\"Casper, WY                                                  \",\"Casper, WY                                                  \",\"Casper, WY                                                  \"],\"legendgroup\":\"Casper, WY                                                  \",\"marker\":{\"color\":\"#FF97FF\",\"symbol\":\"circle\"},\"mode\":\"markers\",\"name\":\"Casper, WY                                                  \",\"showlegend\":true,\"x\":[2023,2022,2021,2020,2019],\"xaxis\":\"x\",\"y\":[129.0,207.0,275.0,208.0,177.0],\"yaxis\":\"y\",\"type\":\"scattergl\"},{\"hovertemplate\":\"<b>%{hovertext}</b><br><br>Name=Cedar Rapids, IA                                            <br>Year=%{x}<br>Total=%{y}<extra></extra>\",\"hovertext\":[\"Cedar Rapids, IA                                            \",\"Cedar Rapids, IA                                            \",\"Cedar Rapids, IA                                            \",\"Cedar Rapids, IA                                            \",\"Cedar Rapids, IA                                            \"],\"legendgroup\":\"Cedar Rapids, IA                                            \",\"marker\":{\"color\":\"#FECB52\",\"symbol\":\"circle\"},\"mode\":\"markers\",\"name\":\"Cedar Rapids, IA                                            \",\"showlegend\":true,\"x\":[2023,2022,2021,2020,2019],\"xaxis\":\"x\",\"y\":[753.0,947.0,898.0,644.0,814.0],\"yaxis\":\"y\",\"type\":\"scattergl\"},{\"hovertemplate\":\"<b>%{hovertext}</b><br><br>Name=Chambersburg-Waynesboro, PA                                 <br>Year=%{x}<br>Total=%{y}<extra></extra>\",\"hovertext\":[\"Chambersburg-Waynesboro, PA                                 \",\"Chambersburg-Waynesboro, PA                                 \",\"Chambersburg-Waynesboro, PA                                 \",\"Chambersburg-Waynesboro, PA                                 \",\"Chambersburg-Waynesboro, PA                                 \"],\"legendgroup\":\"Chambersburg-Waynesboro, PA                                 \",\"marker\":{\"color\":\"#636efa\",\"symbol\":\"circle\"},\"mode\":\"markers\",\"name\":\"Chambersburg-Waynesboro, PA                                 \",\"showlegend\":true,\"x\":[2023,2022,2021,2020,2019],\"xaxis\":\"x\",\"y\":[410.0,410.0,382.0,330.0,293.0],\"yaxis\":\"y\",\"type\":\"scattergl\"},{\"hovertemplate\":\"<b>%{hovertext}</b><br><br>Name=Champaign-Urbana, IL                                        <br>Year=%{x}<br>Total=%{y}<extra></extra>\",\"hovertext\":[\"Champaign-Urbana, IL                                        \",\"Champaign-Urbana, IL                                        \",\"Champaign-Urbana, IL                                        \",\"Champaign-Urbana, IL                                        \",\"Champaign-Urbana, IL                                        \"],\"legendgroup\":\"Champaign-Urbana, IL                                        \",\"marker\":{\"color\":\"#EF553B\",\"symbol\":\"circle\"},\"mode\":\"markers\",\"name\":\"Champaign-Urbana, IL                                        \",\"showlegend\":true,\"x\":[2023,2022,2021,2020,2019],\"xaxis\":\"x\",\"y\":[574.0,920.0,616.0,1547.0,1175.0],\"yaxis\":\"y\",\"type\":\"scattergl\"},{\"hovertemplate\":\"<b>%{hovertext}</b><br><br>Name=Charleston, WV                                              <br>Year=%{x}<br>Total=%{y}<extra></extra>\",\"hovertext\":[\"Charleston, WV                                              \",\"Charleston, WV                                              \",\"Charleston, WV                                              \",\"Charleston, WV                                              \",\"Charleston, WV                                              \"],\"legendgroup\":\"Charleston, WV                                              \",\"marker\":{\"color\":\"#00cc96\",\"symbol\":\"circle\"},\"mode\":\"markers\",\"name\":\"Charleston, WV                                              \",\"showlegend\":true,\"x\":[2023,2022,2021,2020,2019],\"xaxis\":\"x\",\"y\":[188.0,160.0,260.0,336.0,318.0],\"yaxis\":\"y\",\"type\":\"scattergl\"},{\"hovertemplate\":\"<b>%{hovertext}</b><br><br>Name=Charleston-North Charleston, SC                             <br>Year=%{x}<br>Total=%{y}<extra></extra>\",\"hovertext\":[\"Charleston-North Charleston, SC                             \",\"Charleston-North Charleston, SC                             \",\"Charleston-North Charleston, SC                             \",\"Charleston-North Charleston, SC                             \",\"Charleston-North Charleston, SC                             \"],\"legendgroup\":\"Charleston-North Charleston, SC                             \",\"marker\":{\"color\":\"#ab63fa\",\"symbol\":\"circle\"},\"mode\":\"markers\",\"name\":\"Charleston-North Charleston, SC                             \",\"showlegend\":true,\"x\":[2023,2022,2021,2020,2019],\"xaxis\":\"x\",\"y\":[8496.0,9323.0,8282.0,8604.0,6695.0],\"yaxis\":\"y\",\"type\":\"scattergl\"},{\"hovertemplate\":\"<b>%{hovertext}</b><br><br>Name=Charlotte-Concord-Gastonia, NC-SC                           <br>Year=%{x}<br>Total=%{y}<extra></extra>\",\"hovertext\":[\"Charlotte-Concord-Gastonia, NC-SC                           \",\"Charlotte-Concord-Gastonia, NC-SC                           \",\"Charlotte-Concord-Gastonia, NC-SC                           \",\"Charlotte-Concord-Gastonia, NC-SC                           \",\"Charlotte-Concord-Gastonia, NC-SC                           \"],\"legendgroup\":\"Charlotte-Concord-Gastonia, NC-SC                           \",\"marker\":{\"color\":\"#FFA15A\",\"symbol\":\"circle\"},\"mode\":\"markers\",\"name\":\"Charlotte-Concord-Gastonia, NC-SC                           \",\"showlegend\":true,\"x\":[2023,2022,2021,2020,2019],\"xaxis\":\"x\",\"y\":[29361.0,27212.0,30126.0,26548.0,24637.0],\"yaxis\":\"y\",\"type\":\"scattergl\"},{\"hovertemplate\":\"<b>%{hovertext}</b><br><br>Name=Charlottesville, VA                                         <br>Year=%{x}<br>Total=%{y}<extra></extra>\",\"hovertext\":[\"Charlottesville, VA                                         \",\"Charlottesville, VA                                         \",\"Charlottesville, VA                                         \",\"Charlottesville, VA                                         \",\"Charlottesville, VA                                         \"],\"legendgroup\":\"Charlottesville, VA                                         \",\"marker\":{\"color\":\"#19d3f3\",\"symbol\":\"circle\"},\"mode\":\"markers\",\"name\":\"Charlottesville, VA                                         \",\"showlegend\":true,\"x\":[2023,2022,2021,2020,2019],\"xaxis\":\"x\",\"y\":[1315.0,1500.0,1427.0,1673.0,1375.0],\"yaxis\":\"y\",\"type\":\"scattergl\"},{\"hovertemplate\":\"<b>%{hovertext}</b><br><br>Name=Chattanooga, TN-GA                                          <br>Year=%{x}<br>Total=%{y}<extra></extra>\",\"hovertext\":[\"Chattanooga, TN-GA                                          \",\"Chattanooga, TN-GA                                          \",\"Chattanooga, TN-GA                                          \",\"Chattanooga, TN-GA                                          \",\"Chattanooga, TN-GA                                          \"],\"legendgroup\":\"Chattanooga, TN-GA                                          \",\"marker\":{\"color\":\"#FF6692\",\"symbol\":\"circle\"},\"mode\":\"markers\",\"name\":\"Chattanooga, TN-GA                                          \",\"showlegend\":true,\"x\":[2023,2022,2021,2020,2019],\"xaxis\":\"x\",\"y\":[3011.0,3081.0,3673.0,3061.0,2697.0],\"yaxis\":\"y\",\"type\":\"scattergl\"},{\"hovertemplate\":\"<b>%{hovertext}</b><br><br>Name=Cheyenne, WY                                                <br>Year=%{x}<br>Total=%{y}<extra></extra>\",\"hovertext\":[\"Cheyenne, WY                                                \",\"Cheyenne, WY                                                \",\"Cheyenne, WY                                                \",\"Cheyenne, WY                                                \",\"Cheyenne, WY                                                \"],\"legendgroup\":\"Cheyenne, WY                                                \",\"marker\":{\"color\":\"#B6E880\",\"symbol\":\"circle\"},\"mode\":\"markers\",\"name\":\"Cheyenne, WY                                                \",\"showlegend\":true,\"x\":[2023,2022,2021,2020,2019],\"xaxis\":\"x\",\"y\":[284.0,1163.0,737.0,550.0,432.0],\"yaxis\":\"y\",\"type\":\"scattergl\"},{\"hovertemplate\":\"<b>%{hovertext}</b><br><br>Name=Chicago-Naperville-Elgin, IL-IN-WI                          <br>Year=%{x}<br>Total=%{y}<extra></extra>\",\"hovertext\":[\"Chicago-Naperville-Elgin, IL-IN-WI                          \",\"Chicago-Naperville-Elgin, IL-IN-WI                          \",\"Chicago-Naperville-Elgin, IL-IN-WI                          \",\"Chicago-Naperville-Elgin, IL-IN-WI                          \",\"Chicago-Naperville-Elgin, IL-IN-WI                          \"],\"legendgroup\":\"Chicago-Naperville-Elgin, IL-IN-WI                          \",\"marker\":{\"color\":\"#FF97FF\",\"symbol\":\"circle\"},\"mode\":\"markers\",\"name\":\"Chicago-Naperville-Elgin, IL-IN-WI                          \",\"showlegend\":true,\"x\":[2023,2022,2021,2020,2019],\"xaxis\":\"x\",\"y\":[14821.0,17636.0,18511.0,14995.0,18085.0],\"yaxis\":\"y\",\"type\":\"scattergl\"},{\"hovertemplate\":\"<b>%{hovertext}</b><br><br>Name=Chico, CA                                                   <br>Year=%{x}<br>Total=%{y}<extra></extra>\",\"hovertext\":[\"Chico, CA                                                   \",\"Chico, CA                                                   \",\"Chico, CA                                                   \",\"Chico, CA                                                   \",\"Chico, CA                                                   \"],\"legendgroup\":\"Chico, CA                                                   \",\"marker\":{\"color\":\"#FECB52\",\"symbol\":\"circle\"},\"mode\":\"markers\",\"name\":\"Chico, CA                                                   \",\"showlegend\":true,\"x\":[2023,2022,2021,2020,2019],\"xaxis\":\"x\",\"y\":[929.0,1853.0,2050.0,1837.0,1426.0],\"yaxis\":\"y\",\"type\":\"scattergl\"},{\"hovertemplate\":\"<b>%{hovertext}</b><br><br>Name=Cincinnati, OH-KY-IN                                        <br>Year=%{x}<br>Total=%{y}<extra></extra>\",\"hovertext\":[\"Cincinnati, OH-KY-IN                                        \",\"Cincinnati, OH-KY-IN                                        \",\"Cincinnati, OH-KY-IN                                        \",\"Cincinnati, OH-KY-IN                                        \",\"Cincinnati, OH-KY-IN                                        \"],\"legendgroup\":\"Cincinnati, OH-KY-IN                                        \",\"marker\":{\"color\":\"#636efa\",\"symbol\":\"circle\"},\"mode\":\"markers\",\"name\":\"Cincinnati, OH-KY-IN                                        \",\"showlegend\":true,\"x\":[2023,2022,2021,2020,2019],\"xaxis\":\"x\",\"y\":[6246.0,6210.0,8429.0,7297.0,6023.0],\"yaxis\":\"y\",\"type\":\"scattergl\"},{\"hovertemplate\":\"<b>%{hovertext}</b><br><br>Name=Clarksville, TN-KY                                          <br>Year=%{x}<br>Total=%{y}<extra></extra>\",\"hovertext\":[\"Clarksville, TN-KY                                          \",\"Clarksville, TN-KY                                          \",\"Clarksville, TN-KY                                          \",\"Clarksville, TN-KY                                          \",\"Clarksville, TN-KY                                          \"],\"legendgroup\":\"Clarksville, TN-KY                                          \",\"marker\":{\"color\":\"#EF553B\",\"symbol\":\"circle\"},\"mode\":\"markers\",\"name\":\"Clarksville, TN-KY                                          \",\"showlegend\":true,\"x\":[2023,2022,2021,2020,2019],\"xaxis\":\"x\",\"y\":[2932.0,4093.0,4112.0,3805.0,2657.0],\"yaxis\":\"y\",\"type\":\"scattergl\"},{\"hovertemplate\":\"<b>%{hovertext}</b><br><br>Name=Cleveland, TN                                               <br>Year=%{x}<br>Total=%{y}<extra></extra>\",\"hovertext\":[\"Cleveland, TN                                               \",\"Cleveland, TN                                               \",\"Cleveland, TN                                               \",\"Cleveland, TN                                               \",\"Cleveland, TN                                               \"],\"legendgroup\":\"Cleveland, TN                                               \",\"marker\":{\"color\":\"#00cc96\",\"symbol\":\"circle\"},\"mode\":\"markers\",\"name\":\"Cleveland, TN                                               \",\"showlegend\":true,\"x\":[2023,2022,2021,2020,2019],\"xaxis\":\"x\",\"y\":[821.0,924.0,790.0,713.0,755.0],\"yaxis\":\"y\",\"type\":\"scattergl\"},{\"hovertemplate\":\"<b>%{hovertext}</b><br><br>Name=Cleveland-Elyria, OH                                        <br>Year=%{x}<br>Total=%{y}<extra></extra>\",\"hovertext\":[\"Cleveland-Elyria, OH                                        \",\"Cleveland-Elyria, OH                                        \",\"Cleveland-Elyria, OH                                        \",\"Cleveland-Elyria, OH                                        \",\"Cleveland-Elyria, OH                                        \"],\"legendgroup\":\"Cleveland-Elyria, OH                                        \",\"marker\":{\"color\":\"#ab63fa\",\"symbol\":\"circle\"},\"mode\":\"markers\",\"name\":\"Cleveland-Elyria, OH                                        \",\"showlegend\":true,\"x\":[2023,2022,2021,2020,2019],\"xaxis\":\"x\",\"y\":[3276.0,3735.0,3340.0,3374.0,3032.0],\"yaxis\":\"y\",\"type\":\"scattergl\"},{\"hovertemplate\":\"<b>%{hovertext}</b><br><br>Name=Coeur dAlene, ID                                            <br>Year=%{x}<br>Total=%{y}<extra></extra>\",\"hovertext\":[\"Coeur dAlene, ID                                            \",\"Coeur dAlene, ID                                            \",\"Coeur dAlene, ID                                            \",\"Coeur dAlene, ID                                            \",\"Coeur dAlene, ID                                            \"],\"legendgroup\":\"Coeur dAlene, ID                                            \",\"marker\":{\"color\":\"#FFA15A\",\"symbol\":\"circle\"},\"mode\":\"markers\",\"name\":\"Coeur dAlene, ID                                            \",\"showlegend\":true,\"x\":[2023,2022,2021,2020,2019],\"xaxis\":\"x\",\"y\":[2046.0,2039.0,2426.0,2929.0,2526.0],\"yaxis\":\"y\",\"type\":\"scattergl\"},{\"hovertemplate\":\"<b>%{hovertext}</b><br><br>Name=College Station-Bryan, TX                                   <br>Year=%{x}<br>Total=%{y}<extra></extra>\",\"hovertext\":[\"College Station-Bryan, TX                                   \",\"College Station-Bryan, TX                                   \",\"College Station-Bryan, TX                                   \",\"College Station-Bryan, TX                                   \",\"College Station-Bryan, TX                                   \"],\"legendgroup\":\"College Station-Bryan, TX                                   \",\"marker\":{\"color\":\"#19d3f3\",\"symbol\":\"circle\"},\"mode\":\"markers\",\"name\":\"College Station-Bryan, TX                                   \",\"showlegend\":true,\"x\":[2023,2022,2021,2020,2019],\"xaxis\":\"x\",\"y\":[1443.0,1775.0,2300.0,2103.0,1480.0],\"yaxis\":\"y\",\"type\":\"scattergl\"},{\"hovertemplate\":\"<b>%{hovertext}</b><br><br>Name=Colorado Springs, CO                                        <br>Year=%{x}<br>Total=%{y}<extra></extra>\",\"hovertext\":[\"Colorado Springs, CO                                        \",\"Colorado Springs, CO                                        \",\"Colorado Springs, CO                                        \",\"Colorado Springs, CO                                        \",\"Colorado Springs, CO                                        \"],\"legendgroup\":\"Colorado Springs, CO                                        \",\"marker\":{\"color\":\"#FF6692\",\"symbol\":\"circle\"},\"mode\":\"markers\",\"name\":\"Colorado Springs, CO                                        \",\"showlegend\":true,\"x\":[2023,2022,2021,2020,2019],\"xaxis\":\"x\",\"y\":[5291.0,8844.0,9335.0,6932.0,5508.0],\"yaxis\":\"y\",\"type\":\"scattergl\"},{\"hovertemplate\":\"<b>%{hovertext}</b><br><br>Name=Columbia, MO                                                <br>Year=%{x}<br>Total=%{y}<extra></extra>\",\"hovertext\":[\"Columbia, MO                                                \",\"Columbia, MO                                                \",\"Columbia, MO                                                \",\"Columbia, MO                                                \",\"Columbia, MO                                                \"],\"legendgroup\":\"Columbia, MO                                                \",\"marker\":{\"color\":\"#B6E880\",\"symbol\":\"circle\"},\"mode\":\"markers\",\"name\":\"Columbia, MO                                                \",\"showlegend\":true,\"x\":[2023,2022,2021,2020,2019],\"xaxis\":\"x\",\"y\":[669.0,779.0,1029.0,934.0,799.0],\"yaxis\":\"y\",\"type\":\"scattergl\"},{\"hovertemplate\":\"<b>%{hovertext}</b><br><br>Name=Columbia, SC                                                <br>Year=%{x}<br>Total=%{y}<extra></extra>\",\"hovertext\":[\"Columbia, SC                                                \",\"Columbia, SC                                                \",\"Columbia, SC                                                \",\"Columbia, SC                                                \",\"Columbia, SC                                                \"],\"legendgroup\":\"Columbia, SC                                                \",\"marker\":{\"color\":\"#FF97FF\",\"symbol\":\"circle\"},\"mode\":\"markers\",\"name\":\"Columbia, SC                                                \",\"showlegend\":true,\"x\":[2023,2022,2021,2020,2019],\"xaxis\":\"x\",\"y\":[5480.0,5804.0,6881.0,4872.0,4424.0],\"yaxis\":\"y\",\"type\":\"scattergl\"},{\"hovertemplate\":\"<b>%{hovertext}</b><br><br>Name=Columbus, GA-AL                                             <br>Year=%{x}<br>Total=%{y}<extra></extra>\",\"hovertext\":[\"Columbus, GA-AL                                             \",\"Columbus, GA-AL                                             \",\"Columbus, GA-AL                                             \",\"Columbus, GA-AL                                             \",\"Columbus, GA-AL                                             \"],\"legendgroup\":\"Columbus, GA-AL                                             \",\"marker\":{\"color\":\"#FECB52\",\"symbol\":\"circle\"},\"mode\":\"markers\",\"name\":\"Columbus, GA-AL                                             \",\"showlegend\":true,\"x\":[2023,2022,2021,2020,2019],\"xaxis\":\"x\",\"y\":[647.0,1648.0,1133.0,1828.0,1097.0],\"yaxis\":\"y\",\"type\":\"scattergl\"},{\"hovertemplate\":\"<b>%{hovertext}</b><br><br>Name=Columbus, IN                                                <br>Year=%{x}<br>Total=%{y}<extra></extra>\",\"hovertext\":[\"Columbus, IN                                                \",\"Columbus, IN                                                \",\"Columbus, IN                                                \",\"Columbus, IN                                                \",\"Columbus, IN                                                \"],\"legendgroup\":\"Columbus, IN                                                \",\"marker\":{\"color\":\"#636efa\",\"symbol\":\"circle\"},\"mode\":\"markers\",\"name\":\"Columbus, IN                                                \",\"showlegend\":true,\"x\":[2023,2022,2021,2020,2019],\"xaxis\":\"x\",\"y\":[156.0,209.0,231.0,169.0,189.0],\"yaxis\":\"y\",\"type\":\"scattergl\"},{\"hovertemplate\":\"<b>%{hovertext}</b><br><br>Name=Columbus, OH                                                <br>Year=%{x}<br>Total=%{y}<extra></extra>\",\"hovertext\":[\"Columbus, OH                                                \",\"Columbus, OH                                                \",\"Columbus, OH                                                \",\"Columbus, OH                                                \",\"Columbus, OH                                                \"],\"legendgroup\":\"Columbus, OH                                                \",\"marker\":{\"color\":\"#EF553B\",\"symbol\":\"circle\"},\"mode\":\"markers\",\"name\":\"Columbus, OH                                                \",\"showlegend\":true,\"x\":[2023,2022,2021,2020,2019],\"xaxis\":\"x\",\"y\":[11439.0,12095.0,12062.0,12358.0,8090.0],\"yaxis\":\"y\",\"type\":\"scattergl\"},{\"hovertemplate\":\"<b>%{hovertext}</b><br><br>Name=Corpus Christi, TX                                          <br>Year=%{x}<br>Total=%{y}<extra></extra>\",\"hovertext\":[\"Corpus Christi, TX                                          \",\"Corpus Christi, TX                                          \",\"Corpus Christi, TX                                          \",\"Corpus Christi, TX                                          \",\"Corpus Christi, TX                                          \"],\"legendgroup\":\"Corpus Christi, TX                                          \",\"marker\":{\"color\":\"#00cc96\",\"symbol\":\"circle\"},\"mode\":\"markers\",\"name\":\"Corpus Christi, TX                                          \",\"showlegend\":true,\"x\":[2023,2022,2021,2020,2019],\"xaxis\":\"x\",\"y\":[1790.0,1900.0,2575.0,1923.0,1815.0],\"yaxis\":\"y\",\"type\":\"scattergl\"},{\"hovertemplate\":\"<b>%{hovertext}</b><br><br>Name=Corvallis, OR                                               <br>Year=%{x}<br>Total=%{y}<extra></extra>\",\"hovertext\":[\"Corvallis, OR                                               \",\"Corvallis, OR                                               \",\"Corvallis, OR                                               \",\"Corvallis, OR                                               \",\"Corvallis, OR                                               \"],\"legendgroup\":\"Corvallis, OR                                               \",\"marker\":{\"color\":\"#ab63fa\",\"symbol\":\"circle\"},\"mode\":\"markers\",\"name\":\"Corvallis, OR                                               \",\"showlegend\":true,\"x\":[2023,2022,2021,2020,2019],\"xaxis\":\"x\",\"y\":[404.0,286.0,284.0,302.0,542.0],\"yaxis\":\"y\",\"type\":\"scattergl\"},{\"hovertemplate\":\"<b>%{hovertext}</b><br><br>Name=Crestview-Fort Walton Beach-Destin, FL                      <br>Year=%{x}<br>Total=%{y}<extra></extra>\",\"hovertext\":[\"Crestview-Fort Walton Beach-Destin, FL                      \",\"Crestview-Fort Walton Beach-Destin, FL                      \",\"Crestview-Fort Walton Beach-Destin, FL                      \",\"Crestview-Fort Walton Beach-Destin, FL                      \",\"Crestview-Fort Walton Beach-Destin, FL                      \"],\"legendgroup\":\"Crestview-Fort Walton Beach-Destin, FL                      \",\"marker\":{\"color\":\"#FFA15A\",\"symbol\":\"circle\"},\"mode\":\"markers\",\"name\":\"Crestview-Fort Walton Beach-Destin, FL                      \",\"showlegend\":true,\"x\":[2023,2022,2021,2020,2019],\"xaxis\":\"x\",\"y\":[5596.0,4122.0,3892.0,2755.0,3544.0],\"yaxis\":\"y\",\"type\":\"scattergl\"},{\"hovertemplate\":\"<b>%{hovertext}</b><br><br>Name=Cumberland, MD-WV                                           <br>Year=%{x}<br>Total=%{y}<extra></extra>\",\"hovertext\":[\"Cumberland, MD-WV                                           \",\"Cumberland, MD-WV                                           \",\"Cumberland, MD-WV                                           \",\"Cumberland, MD-WV                                           \",\"Cumberland, MD-WV                                           \"],\"legendgroup\":\"Cumberland, MD-WV                                           \",\"marker\":{\"color\":\"#19d3f3\",\"symbol\":\"circle\"},\"mode\":\"markers\",\"name\":\"Cumberland, MD-WV                                           \",\"showlegend\":true,\"x\":[2023,2022,2021,2020,2019],\"xaxis\":\"x\",\"y\":[70.0,66.0,69.0,94.0,105.0],\"yaxis\":\"y\",\"type\":\"scattergl\"},{\"hovertemplate\":\"<b>%{hovertext}</b><br><br>Name=Dallas-Fort Worth-Arlington, TX                             <br>Year=%{x}<br>Total=%{y}<extra></extra>\",\"hovertext\":[\"Dallas-Fort Worth-Arlington, TX                             \",\"Dallas-Fort Worth-Arlington, TX                             \",\"Dallas-Fort Worth-Arlington, TX                             \",\"Dallas-Fort Worth-Arlington, TX                             \",\"Dallas-Fort Worth-Arlington, TX                             \"],\"legendgroup\":\"Dallas-Fort Worth-Arlington, TX                             \",\"marker\":{\"color\":\"#FF6692\",\"symbol\":\"circle\"},\"mode\":\"markers\",\"name\":\"Dallas-Fort Worth-Arlington, TX                             \",\"showlegend\":true,\"x\":[2023,2022,2021,2020,2019],\"xaxis\":\"x\",\"y\":[66557.0,77894.0,78705.0,60812.0,62708.0],\"yaxis\":\"y\",\"type\":\"scattergl\"},{\"hovertemplate\":\"<b>%{hovertext}</b><br><br>Name=Dalton, GA                                                  <br>Year=%{x}<br>Total=%{y}<extra></extra>\",\"hovertext\":[\"Dalton, GA                                                  \",\"Dalton, GA                                                  \",\"Dalton, GA                                                  \",\"Dalton, GA                                                  \",\"Dalton, GA                                                  \"],\"legendgroup\":\"Dalton, GA                                                  \",\"marker\":{\"color\":\"#B6E880\",\"symbol\":\"circle\"},\"mode\":\"markers\",\"name\":\"Dalton, GA                                                  \",\"showlegend\":true,\"x\":[2023,2022,2021,2020,2019],\"xaxis\":\"x\",\"y\":[466.0,480.0,732.0,445.0,326.0],\"yaxis\":\"y\",\"type\":\"scattergl\"},{\"hovertemplate\":\"<b>%{hovertext}</b><br><br>Name=Danville, IL                                                <br>Year=%{x}<br>Total=%{y}<extra></extra>\",\"hovertext\":[\"Danville, IL                                                \",\"Danville, IL                                                \",\"Danville, IL                                                \",\"Danville, IL                                                \",\"Danville, IL                                                \"],\"legendgroup\":\"Danville, IL                                                \",\"marker\":{\"color\":\"#FF97FF\",\"symbol\":\"circle\"},\"mode\":\"markers\",\"name\":\"Danville, IL                                                \",\"showlegend\":true,\"x\":[2023,2022,2021,2020,2019],\"xaxis\":\"x\",\"y\":[3.0,2.0,6.0,7.0,12.0],\"yaxis\":\"y\",\"type\":\"scattergl\"},{\"hovertemplate\":\"<b>%{hovertext}</b><br><br>Name=Daphne-Fairhope-Foley, AL                                   <br>Year=%{x}<br>Total=%{y}<extra></extra>\",\"hovertext\":[\"Daphne-Fairhope-Foley, AL                                   \",\"Daphne-Fairhope-Foley, AL                                   \",\"Daphne-Fairhope-Foley, AL                                   \",\"Daphne-Fairhope-Foley, AL                                   \",\"Daphne-Fairhope-Foley, AL                                   \"],\"legendgroup\":\"Daphne-Fairhope-Foley, AL                                   \",\"marker\":{\"color\":\"#FECB52\",\"symbol\":\"circle\"},\"mode\":\"markers\",\"name\":\"Daphne-Fairhope-Foley, AL                                   \",\"showlegend\":true,\"x\":[2023,2022,2021,2020,2019],\"xaxis\":\"x\",\"y\":[4368.0,3417.0,3705.0,3614.0,3150.0],\"yaxis\":\"y\",\"type\":\"scattergl\"},{\"hovertemplate\":\"<b>%{hovertext}</b><br><br>Name=Davenport-Moline-Rock Island, IA-IL                         <br>Year=%{x}<br>Total=%{y}<extra></extra>\",\"hovertext\":[\"Davenport-Moline-Rock Island, IA-IL                         \",\"Davenport-Moline-Rock Island, IA-IL                         \",\"Davenport-Moline-Rock Island, IA-IL                         \",\"Davenport-Moline-Rock Island, IA-IL                         \",\"Davenport-Moline-Rock Island, IA-IL                         \"],\"legendgroup\":\"Davenport-Moline-Rock Island, IA-IL                         \",\"marker\":{\"color\":\"#636efa\",\"symbol\":\"circle\"},\"mode\":\"markers\",\"name\":\"Davenport-Moline-Rock Island, IA-IL                         \",\"showlegend\":true,\"x\":[2023,2022,2021,2020,2019],\"xaxis\":\"x\",\"y\":[616.0,597.0,629.0,582.0,801.0],\"yaxis\":\"y\",\"type\":\"scattergl\"},{\"hovertemplate\":\"<b>%{hovertext}</b><br><br>Name=Dayton-Kettering, OH                                        <br>Year=%{x}<br>Total=%{y}<extra></extra>\",\"hovertext\":[\"Dayton-Kettering, OH                                        \",\"Dayton-Kettering, OH                                        \",\"Dayton-Kettering, OH                                        \",\"Dayton-Kettering, OH                                        \",\"Dayton-Kettering, OH                                        \"],\"legendgroup\":\"Dayton-Kettering, OH                                        \",\"marker\":{\"color\":\"#EF553B\",\"symbol\":\"circle\"},\"mode\":\"markers\",\"name\":\"Dayton-Kettering, OH                                        \",\"showlegend\":true,\"x\":[2023,2022,2021,2020,2019],\"xaxis\":\"x\",\"y\":[1760.0,2265.0,2039.0,1699.0,1231.0],\"yaxis\":\"y\",\"type\":\"scattergl\"},{\"hovertemplate\":\"<b>%{hovertext}</b><br><br>Name=Decatur, AL                                                 <br>Year=%{x}<br>Total=%{y}<extra></extra>\",\"hovertext\":[\"Decatur, AL                                                 \",\"Decatur, AL                                                 \",\"Decatur, AL                                                 \",\"Decatur, AL                                                 \",\"Decatur, AL                                                 \"],\"legendgroup\":\"Decatur, AL                                                 \",\"marker\":{\"color\":\"#00cc96\",\"symbol\":\"circle\"},\"mode\":\"markers\",\"name\":\"Decatur, AL                                                 \",\"showlegend\":true,\"x\":[2023,2022,2021,2020,2019],\"xaxis\":\"x\",\"y\":[305.0,279.0,226.0,224.0,177.0],\"yaxis\":\"y\",\"type\":\"scattergl\"},{\"hovertemplate\":\"<b>%{hovertext}</b><br><br>Name=Decatur, IL                                                 <br>Year=%{x}<br>Total=%{y}<extra></extra>\",\"hovertext\":[\"Decatur, IL                                                 \",\"Decatur, IL                                                 \",\"Decatur, IL                                                 \",\"Decatur, IL                                                 \",\"Decatur, IL                                                 \"],\"legendgroup\":\"Decatur, IL                                                 \",\"marker\":{\"color\":\"#ab63fa\",\"symbol\":\"circle\"},\"mode\":\"markers\",\"name\":\"Decatur, IL                                                 \",\"showlegend\":true,\"x\":[2023,2022,2021,2020,2019],\"xaxis\":\"x\",\"y\":[33.0,21.0,33.0,31.0,35.0],\"yaxis\":\"y\",\"type\":\"scattergl\"},{\"hovertemplate\":\"<b>%{hovertext}</b><br><br>Name=Deltona-Daytona Beach-Ormond Beach, FL                      <br>Year=%{x}<br>Total=%{y}<extra></extra>\",\"hovertext\":[\"Deltona-Daytona Beach-Ormond Beach, FL                      \",\"Deltona-Daytona Beach-Ormond Beach, FL                      \",\"Deltona-Daytona Beach-Ormond Beach, FL                      \",\"Deltona-Daytona Beach-Ormond Beach, FL                      \",\"Deltona-Daytona Beach-Ormond Beach, FL                      \"],\"legendgroup\":\"Deltona-Daytona Beach-Ormond Beach, FL                      \",\"marker\":{\"color\":\"#FFA15A\",\"symbol\":\"circle\"},\"mode\":\"markers\",\"name\":\"Deltona-Daytona Beach-Ormond Beach, FL                      \",\"showlegend\":true,\"x\":[2023,2022,2021,2020,2019],\"xaxis\":\"x\",\"y\":[7097.0,8536.0,8214.0,6443.0,4753.0],\"yaxis\":\"y\",\"type\":\"scattergl\"},{\"hovertemplate\":\"<b>%{hovertext}</b><br><br>Name=Denver-Aurora-Lakewood, CO                                  <br>Year=%{x}<br>Total=%{y}<extra></extra>\",\"hovertext\":[\"Denver-Aurora-Lakewood, CO                                  \",\"Denver-Aurora-Lakewood, CO                                  \",\"Denver-Aurora-Lakewood, CO                                  \",\"Denver-Aurora-Lakewood, CO                                  \",\"Denver-Aurora-Lakewood, CO                                  \"],\"legendgroup\":\"Denver-Aurora-Lakewood, CO                                  \",\"marker\":{\"color\":\"#19d3f3\",\"symbol\":\"circle\"},\"mode\":\"markers\",\"name\":\"Denver-Aurora-Lakewood, CO                                  \",\"showlegend\":true,\"x\":[2023,2022,2021,2020,2019],\"xaxis\":\"x\",\"y\":[20623.0,23476.0,30006.0,19732.0,19308.0],\"yaxis\":\"y\",\"type\":\"scattergl\"},{\"hovertemplate\":\"<b>%{hovertext}</b><br><br>Name=Des Moines-West Des Moines, IA                              <br>Year=%{x}<br>Total=%{y}<extra></extra>\",\"hovertext\":[\"Des Moines-West Des Moines, IA                              \",\"Des Moines-West Des Moines, IA                              \",\"Des Moines-West Des Moines, IA                              \",\"Des Moines-West Des Moines, IA                              \",\"Des Moines-West Des Moines, IA                              \"],\"legendgroup\":\"Des Moines-West Des Moines, IA                              \",\"marker\":{\"color\":\"#FF6692\",\"symbol\":\"circle\"},\"mode\":\"markers\",\"name\":\"Des Moines-West Des Moines, IA                              \",\"showlegend\":true,\"x\":[2023,2022,2021,2020,2019],\"xaxis\":\"x\",\"y\":[5017.0,6122.0,6969.0,6508.0,5269.0],\"yaxis\":\"y\",\"type\":\"scattergl\"},{\"hovertemplate\":\"<b>%{hovertext}</b><br><br>Name=Detroit-Warren-Dearborn, MI                                 <br>Year=%{x}<br>Total=%{y}<extra></extra>\",\"hovertext\":[\"Detroit-Warren-Dearborn, MI                                 \",\"Detroit-Warren-Dearborn, MI                                 \",\"Detroit-Warren-Dearborn, MI                                 \",\"Detroit-Warren-Dearborn, MI                                 \",\"Detroit-Warren-Dearborn, MI                                 \"],\"legendgroup\":\"Detroit-Warren-Dearborn, MI                                 \",\"marker\":{\"color\":\"#B6E880\",\"symbol\":\"circle\"},\"mode\":\"markers\",\"name\":\"Detroit-Warren-Dearborn, MI                                 \",\"showlegend\":true,\"x\":[2023,2022,2021,2020,2019],\"xaxis\":\"x\",\"y\":[6197.0,7945.0,8598.0,7165.0,7813.0],\"yaxis\":\"y\",\"type\":\"scattergl\"},{\"hovertemplate\":\"<b>%{hovertext}</b><br><br>Name=Dothan, AL                                                  <br>Year=%{x}<br>Total=%{y}<extra></extra>\",\"hovertext\":[\"Dothan, AL                                                  \",\"Dothan, AL                                                  \",\"Dothan, AL                                                  \",\"Dothan, AL                                                  \",\"Dothan, AL                                                  \"],\"legendgroup\":\"Dothan, AL                                                  \",\"marker\":{\"color\":\"#FF97FF\",\"symbol\":\"circle\"},\"mode\":\"markers\",\"name\":\"Dothan, AL                                                  \",\"showlegend\":true,\"x\":[2023,2022,2021,2020,2019],\"xaxis\":\"x\",\"y\":[480.0,498.0,494.0,488.0,423.0],\"yaxis\":\"y\",\"type\":\"scattergl\"},{\"hovertemplate\":\"<b>%{hovertext}</b><br><br>Name=Dover, DE                                                   <br>Year=%{x}<br>Total=%{y}<extra></extra>\",\"hovertext\":[\"Dover, DE                                                   \",\"Dover, DE                                                   \",\"Dover, DE                                                   \",\"Dover, DE                                                   \",\"Dover, DE                                                   \"],\"legendgroup\":\"Dover, DE                                                   \",\"marker\":{\"color\":\"#FECB52\",\"symbol\":\"circle\"},\"mode\":\"markers\",\"name\":\"Dover, DE                                                   \",\"showlegend\":true,\"x\":[2023,2022,2021,2020,2019],\"xaxis\":\"x\",\"y\":[1105.0,1056.0,1873.0,2136.0,1340.0],\"yaxis\":\"y\",\"type\":\"scattergl\"},{\"hovertemplate\":\"<b>%{hovertext}</b><br><br>Name=Dubuque, IA                                                 <br>Year=%{x}<br>Total=%{y}<extra></extra>\",\"hovertext\":[\"Dubuque, IA                                                 \",\"Dubuque, IA                                                 \",\"Dubuque, IA                                                 \",\"Dubuque, IA                                                 \",\"Dubuque, IA                                                 \"],\"legendgroup\":\"Dubuque, IA                                                 \",\"marker\":{\"color\":\"#636efa\",\"symbol\":\"circle\"},\"mode\":\"markers\",\"name\":\"Dubuque, IA                                                 \",\"showlegend\":true,\"x\":[2023,2022,2021,2020,2019],\"xaxis\":\"x\",\"y\":[196.0,163.0,537.0,277.0,262.0],\"yaxis\":\"y\",\"type\":\"scattergl\"},{\"hovertemplate\":\"<b>%{hovertext}</b><br><br>Name=Duluth, MN-WI                                               <br>Year=%{x}<br>Total=%{y}<extra></extra>\",\"hovertext\":[\"Duluth, MN-WI                                               \",\"Duluth, MN-WI                                               \",\"Duluth, MN-WI                                               \",\"Duluth, MN-WI                                               \",\"Duluth, MN-WI                                               \"],\"legendgroup\":\"Duluth, MN-WI                                               \",\"marker\":{\"color\":\"#EF553B\",\"symbol\":\"circle\"},\"mode\":\"markers\",\"name\":\"Duluth, MN-WI                                               \",\"showlegend\":true,\"x\":[2023,2022,2021,2020,2019],\"xaxis\":\"x\",\"y\":[835.0,761.0,708.0,565.0,1032.0],\"yaxis\":\"y\",\"type\":\"scattergl\"},{\"hovertemplate\":\"<b>%{hovertext}</b><br><br>Name=Durham-Chapel Hill, NC                                      <br>Year=%{x}<br>Total=%{y}<extra></extra>\",\"hovertext\":[\"Durham-Chapel Hill, NC                                      \",\"Durham-Chapel Hill, NC                                      \",\"Durham-Chapel Hill, NC                                      \",\"Durham-Chapel Hill, NC                                      \",\"Durham-Chapel Hill, NC                                      \"],\"legendgroup\":\"Durham-Chapel Hill, NC                                      \",\"marker\":{\"color\":\"#00cc96\",\"symbol\":\"circle\"},\"mode\":\"markers\",\"name\":\"Durham-Chapel Hill, NC                                      \",\"showlegend\":true,\"x\":[2023,2022,2021,2020,2019],\"xaxis\":\"x\",\"y\":[7243.0,6392.0,5900.0,5505.0,5795.0],\"yaxis\":\"y\",\"type\":\"scattergl\"},{\"hovertemplate\":\"<b>%{hovertext}</b><br><br>Name=East Stroudsburg, PA                                        <br>Year=%{x}<br>Total=%{y}<extra></extra>\",\"hovertext\":[\"East Stroudsburg, PA                                        \",\"East Stroudsburg, PA                                        \",\"East Stroudsburg, PA                                        \",\"East Stroudsburg, PA                                        \",\"East Stroudsburg, PA                                        \"],\"legendgroup\":\"East Stroudsburg, PA                                        \",\"marker\":{\"color\":\"#ab63fa\",\"symbol\":\"circle\"},\"mode\":\"markers\",\"name\":\"East Stroudsburg, PA                                        \",\"showlegend\":true,\"x\":[2023,2022,2021,2020,2019],\"xaxis\":\"x\",\"y\":[239.0,251.0,370.0,212.0,176.0],\"yaxis\":\"y\",\"type\":\"scattergl\"},{\"hovertemplate\":\"<b>%{hovertext}</b><br><br>Name=Eau Claire, WI                                              <br>Year=%{x}<br>Total=%{y}<extra></extra>\",\"hovertext\":[\"Eau Claire, WI                                              \",\"Eau Claire, WI                                              \",\"Eau Claire, WI                                              \",\"Eau Claire, WI                                              \",\"Eau Claire, WI                                              \"],\"legendgroup\":\"Eau Claire, WI                                              \",\"marker\":{\"color\":\"#FFA15A\",\"symbol\":\"circle\"},\"mode\":\"markers\",\"name\":\"Eau Claire, WI                                              \",\"showlegend\":true,\"x\":[2023,2022,2021,2020,2019],\"xaxis\":\"x\",\"y\":[1508.0,1030.0,1279.0,992.0,745.0],\"yaxis\":\"y\",\"type\":\"scattergl\"},{\"hovertemplate\":\"<b>%{hovertext}</b><br><br>Name=El Centro, CA                                               <br>Year=%{x}<br>Total=%{y}<extra></extra>\",\"hovertext\":[\"El Centro, CA                                               \",\"El Centro, CA                                               \",\"El Centro, CA                                               \",\"El Centro, CA                                               \",\"El Centro, CA                                               \"],\"legendgroup\":\"El Centro, CA                                               \",\"marker\":{\"color\":\"#19d3f3\",\"symbol\":\"circle\"},\"mode\":\"markers\",\"name\":\"El Centro, CA                                               \",\"showlegend\":true,\"x\":[2023,2022,2021,2020,2019],\"xaxis\":\"x\",\"y\":[280.0,551.0,555.0,480.0,398.0],\"yaxis\":\"y\",\"type\":\"scattergl\"},{\"hovertemplate\":\"<b>%{hovertext}</b><br><br>Name=El Paso, TX                                                 <br>Year=%{x}<br>Total=%{y}<extra></extra>\",\"hovertext\":[\"El Paso, TX                                                 \",\"El Paso, TX                                                 \",\"El Paso, TX                                                 \",\"El Paso, TX                                                 \",\"El Paso, TX                                                 \"],\"legendgroup\":\"El Paso, TX                                                 \",\"marker\":{\"color\":\"#FF6692\",\"symbol\":\"circle\"},\"mode\":\"markers\",\"name\":\"El Paso, TX                                                 \",\"showlegend\":true,\"x\":[2023,2022,2021,2020,2019],\"xaxis\":\"x\",\"y\":[2265.0,2466.0,2989.0,2562.0,3066.0],\"yaxis\":\"y\",\"type\":\"scattergl\"},{\"hovertemplate\":\"<b>%{hovertext}</b><br><br>Name=Elizabethtown-Fort Knox, KY                                 <br>Year=%{x}<br>Total=%{y}<extra></extra>\",\"hovertext\":[\"Elizabethtown-Fort Knox, KY                                 \",\"Elizabethtown-Fort Knox, KY                                 \",\"Elizabethtown-Fort Knox, KY                                 \",\"Elizabethtown-Fort Knox, KY                                 \",\"Elizabethtown-Fort Knox, KY                                 \"],\"legendgroup\":\"Elizabethtown-Fort Knox, KY                                 \",\"marker\":{\"color\":\"#B6E880\",\"symbol\":\"circle\"},\"mode\":\"markers\",\"name\":\"Elizabethtown-Fort Knox, KY                                 \",\"showlegend\":true,\"x\":[2023,2022,2021,2020,2019],\"xaxis\":\"x\",\"y\":[1856.0,1171.0,526.0,762.0,491.0],\"yaxis\":\"y\",\"type\":\"scattergl\"},{\"hovertemplate\":\"<b>%{hovertext}</b><br><br>Name=Elkhart-Goshen, IN                                          <br>Year=%{x}<br>Total=%{y}<extra></extra>\",\"hovertext\":[\"Elkhart-Goshen, IN                                          \",\"Elkhart-Goshen, IN                                          \",\"Elkhart-Goshen, IN                                          \",\"Elkhart-Goshen, IN                                          \",\"Elkhart-Goshen, IN                                          \"],\"legendgroup\":\"Elkhart-Goshen, IN                                          \",\"marker\":{\"color\":\"#FF97FF\",\"symbol\":\"circle\"},\"mode\":\"markers\",\"name\":\"Elkhart-Goshen, IN                                          \",\"showlegend\":true,\"x\":[2023,2022,2021,2020,2019],\"xaxis\":\"x\",\"y\":[287.0,387.0,458.0,488.0,350.0],\"yaxis\":\"y\",\"type\":\"scattergl\"},{\"hovertemplate\":\"<b>%{hovertext}</b><br><br>Name=Elmira, NY                                                  <br>Year=%{x}<br>Total=%{y}<extra></extra>\",\"hovertext\":[\"Elmira, NY                                                  \",\"Elmira, NY                                                  \",\"Elmira, NY                                                  \",\"Elmira, NY                                                  \",\"Elmira, NY                                                  \"],\"legendgroup\":\"Elmira, NY                                                  \",\"marker\":{\"color\":\"#FECB52\",\"symbol\":\"circle\"},\"mode\":\"markers\",\"name\":\"Elmira, NY                                                  \",\"showlegend\":true,\"x\":[2023,2022,2021,2020,2019],\"xaxis\":\"x\",\"y\":[79.0,81.0,138.0,184.0,220.0],\"yaxis\":\"y\",\"type\":\"scattergl\"},{\"hovertemplate\":\"<b>%{hovertext}</b><br><br>Name=Enid, OK                                                    <br>Year=%{x}<br>Total=%{y}<extra></extra>\",\"hovertext\":[\"Enid, OK                                                    \",\"Enid, OK                                                    \",\"Enid, OK                                                    \",\"Enid, OK                                                    \",\"Enid, OK                                                    \"],\"legendgroup\":\"Enid, OK                                                    \",\"marker\":{\"color\":\"#636efa\",\"symbol\":\"circle\"},\"mode\":\"markers\",\"name\":\"Enid, OK                                                    \",\"showlegend\":true,\"x\":[2023,2022,2021,2020,2019],\"xaxis\":\"x\",\"y\":[10.0,46.0,35.0,23.0,26.0],\"yaxis\":\"y\",\"type\":\"scattergl\"},{\"hovertemplate\":\"<b>%{hovertext}</b><br><br>Name=Erie, PA                                                    <br>Year=%{x}<br>Total=%{y}<extra></extra>\",\"hovertext\":[\"Erie, PA                                                    \",\"Erie, PA                                                    \",\"Erie, PA                                                    \",\"Erie, PA                                                    \",\"Erie, PA                                                    \"],\"legendgroup\":\"Erie, PA                                                    \",\"marker\":{\"color\":\"#EF553B\",\"symbol\":\"circle\"},\"mode\":\"markers\",\"name\":\"Erie, PA                                                    \",\"showlegend\":true,\"x\":[2023,2022,2021,2020,2019],\"xaxis\":\"x\",\"y\":[202.0,238.0,217.0,201.0,161.0],\"yaxis\":\"y\",\"type\":\"scattergl\"},{\"hovertemplate\":\"<b>%{hovertext}</b><br><br>Name=Eugene-Springfield, OR                                      <br>Year=%{x}<br>Total=%{y}<extra></extra>\",\"hovertext\":[\"Eugene-Springfield, OR                                      \",\"Eugene-Springfield, OR                                      \",\"Eugene-Springfield, OR                                      \",\"Eugene-Springfield, OR                                      \",\"Eugene-Springfield, OR                                      \"],\"legendgroup\":\"Eugene-Springfield, OR                                      \",\"marker\":{\"color\":\"#00cc96\",\"symbol\":\"circle\"},\"mode\":\"markers\",\"name\":\"Eugene-Springfield, OR                                      \",\"showlegend\":true,\"x\":[2023,2022,2021,2020,2019],\"xaxis\":\"x\",\"y\":[1239.0,1759.0,2136.0,1391.0,1071.0],\"yaxis\":\"y\",\"type\":\"scattergl\"},{\"hovertemplate\":\"<b>%{hovertext}</b><br><br>Name=Evansville, IN-KY                                           <br>Year=%{x}<br>Total=%{y}<extra></extra>\",\"hovertext\":[\"Evansville, IN-KY                                           \",\"Evansville, IN-KY                                           \",\"Evansville, IN-KY                                           \",\"Evansville, IN-KY                                           \",\"Evansville, IN-KY                                           \"],\"legendgroup\":\"Evansville, IN-KY                                           \",\"marker\":{\"color\":\"#ab63fa\",\"symbol\":\"circle\"},\"mode\":\"markers\",\"name\":\"Evansville, IN-KY                                           \",\"showlegend\":true,\"x\":[2023,2022,2021,2020,2019],\"xaxis\":\"x\",\"y\":[902.0,1186.0,1349.0,1121.0,930.0],\"yaxis\":\"y\",\"type\":\"scattergl\"},{\"hovertemplate\":\"<b>%{hovertext}</b><br><br>Name=Fairbanks, AK                                               <br>Year=%{x}<br>Total=%{y}<extra></extra>\",\"hovertext\":[\"Fairbanks, AK                                               \",\"Fairbanks, AK                                               \",\"Fairbanks, AK                                               \",\"Fairbanks, AK                                               \",\"Fairbanks, AK                                               \"],\"legendgroup\":\"Fairbanks, AK                                               \",\"marker\":{\"color\":\"#FFA15A\",\"symbol\":\"circle\"},\"mode\":\"markers\",\"name\":\"Fairbanks, AK                                               \",\"showlegend\":true,\"x\":[2023,2022,2021,2020,2019],\"xaxis\":\"x\",\"y\":[49.0,27.0,36.0,19.0,22.0],\"yaxis\":\"y\",\"type\":\"scattergl\"},{\"hovertemplate\":\"<b>%{hovertext}</b><br><br>Name=Fargo, ND-MN                                                <br>Year=%{x}<br>Total=%{y}<extra></extra>\",\"hovertext\":[\"Fargo, ND-MN                                                \",\"Fargo, ND-MN                                                \",\"Fargo, ND-MN                                                \",\"Fargo, ND-MN                                                \",\"Fargo, ND-MN                                                \"],\"legendgroup\":\"Fargo, ND-MN                                                \",\"marker\":{\"color\":\"#19d3f3\",\"symbol\":\"circle\"},\"mode\":\"markers\",\"name\":\"Fargo, ND-MN                                                \",\"showlegend\":true,\"x\":[2023,2022,2021,2020,2019],\"xaxis\":\"x\",\"y\":[2106.0,2314.0,2289.0,1976.0,1425.0],\"yaxis\":\"y\",\"type\":\"scattergl\"},{\"hovertemplate\":\"<b>%{hovertext}</b><br><br>Name=Farmington, NM                                              <br>Year=%{x}<br>Total=%{y}<extra></extra>\",\"hovertext\":[\"Farmington, NM                                              \",\"Farmington, NM                                              \",\"Farmington, NM                                              \",\"Farmington, NM                                              \",\"Farmington, NM                                              \"],\"legendgroup\":\"Farmington, NM                                              \",\"marker\":{\"color\":\"#FF6692\",\"symbol\":\"circle\"},\"mode\":\"markers\",\"name\":\"Farmington, NM                                              \",\"showlegend\":true,\"x\":[2023,2022,2021,2020,2019],\"xaxis\":\"x\",\"y\":[117.0,143.0,97.0,98.0,89.0],\"yaxis\":\"y\",\"type\":\"scattergl\"},{\"hovertemplate\":\"<b>%{hovertext}</b><br><br>Name=Fayetteville, NC                                            <br>Year=%{x}<br>Total=%{y}<extra></extra>\",\"hovertext\":[\"Fayetteville, NC                                            \",\"Fayetteville, NC                                            \",\"Fayetteville, NC                                            \",\"Fayetteville, NC                                            \",\"Fayetteville, NC                                            \"],\"legendgroup\":\"Fayetteville, NC                                            \",\"marker\":{\"color\":\"#B6E880\",\"symbol\":\"circle\"},\"mode\":\"markers\",\"name\":\"Fayetteville, NC                                            \",\"showlegend\":true,\"x\":[2023,2022,2021,2020,2019],\"xaxis\":\"x\",\"y\":[2547.0,2483.0,2307.0,1960.0,1839.0],\"yaxis\":\"y\",\"type\":\"scattergl\"},{\"hovertemplate\":\"<b>%{hovertext}</b><br><br>Name=Fayetteville-Springdale-Rogers, AR-MO                       <br>Year=%{x}<br>Total=%{y}<extra></extra>\",\"hovertext\":[\"Fayetteville-Springdale-Rogers, AR-MO                       \",\"Fayetteville-Springdale-Rogers, AR-MO                       \",\"Fayetteville-Springdale-Rogers, AR-MO                       \",\"Fayetteville-Springdale-Rogers, AR-MO                       \",\"Fayetteville-Springdale-Rogers, AR-MO                       \"],\"legendgroup\":\"Fayetteville-Springdale-Rogers, AR-MO                       \",\"marker\":{\"color\":\"#FF97FF\",\"symbol\":\"circle\"},\"mode\":\"markers\",\"name\":\"Fayetteville-Springdale-Rogers, AR-MO                       \",\"showlegend\":true,\"x\":[2023,2022,2021,2020,2019],\"xaxis\":\"x\",\"y\":[6865.0,7246.0,7120.0,6365.0,6905.0],\"yaxis\":\"y\",\"type\":\"scattergl\"},{\"hovertemplate\":\"<b>%{hovertext}</b><br><br>Name=Flagstaff, AZ                                               <br>Year=%{x}<br>Total=%{y}<extra></extra>\",\"hovertext\":[\"Flagstaff, AZ                                               \",\"Flagstaff, AZ                                               \",\"Flagstaff, AZ                                               \",\"Flagstaff, AZ                                               \",\"Flagstaff, AZ                                               \"],\"legendgroup\":\"Flagstaff, AZ                                               \",\"marker\":{\"color\":\"#FECB52\",\"symbol\":\"circle\"},\"mode\":\"markers\",\"name\":\"Flagstaff, AZ                                               \",\"showlegend\":true,\"x\":[2023,2022,2021,2020,2019],\"xaxis\":\"x\",\"y\":[1132.0,738.0,1051.0,941.0,728.0],\"yaxis\":\"y\",\"type\":\"scattergl\"},{\"hovertemplate\":\"<b>%{hovertext}</b><br><br>Name=Flint, MI                                                   <br>Year=%{x}<br>Total=%{y}<extra></extra>\",\"hovertext\":[\"Flint, MI                                                   \",\"Flint, MI                                                   \",\"Flint, MI                                                   \",\"Flint, MI                                                   \",\"Flint, MI                                                   \"],\"legendgroup\":\"Flint, MI                                                   \",\"marker\":{\"color\":\"#636efa\",\"symbol\":\"circle\"},\"mode\":\"markers\",\"name\":\"Flint, MI                                                   \",\"showlegend\":true,\"x\":[2023,2022,2021,2020,2019],\"xaxis\":\"x\",\"y\":[393.0,410.0,510.0,485.0,576.0],\"yaxis\":\"y\",\"type\":\"scattergl\"},{\"hovertemplate\":\"<b>%{hovertext}</b><br><br>Name=Florence, SC                                                <br>Year=%{x}<br>Total=%{y}<extra></extra>\",\"hovertext\":[\"Florence, SC                                                \",\"Florence, SC                                                \",\"Florence, SC                                                \",\"Florence, SC                                                \",\"Florence, SC                                                \"],\"legendgroup\":\"Florence, SC                                                \",\"marker\":{\"color\":\"#EF553B\",\"symbol\":\"circle\"},\"mode\":\"markers\",\"name\":\"Florence, SC                                                \",\"showlegend\":true,\"x\":[2023,2022,2021,2020,2019],\"xaxis\":\"x\",\"y\":[716.0,759.0,766.0,764.0,1129.0],\"yaxis\":\"y\",\"type\":\"scattergl\"},{\"hovertemplate\":\"<b>%{hovertext}</b><br><br>Name=Florence-Muscle Shoals, AL                                  <br>Year=%{x}<br>Total=%{y}<extra></extra>\",\"hovertext\":[\"Florence-Muscle Shoals, AL                                  \",\"Florence-Muscle Shoals, AL                                  \",\"Florence-Muscle Shoals, AL                                  \",\"Florence-Muscle Shoals, AL                                  \",\"Florence-Muscle Shoals, AL                                  \"],\"legendgroup\":\"Florence-Muscle Shoals, AL                                  \",\"marker\":{\"color\":\"#00cc96\",\"symbol\":\"circle\"},\"mode\":\"markers\",\"name\":\"Florence-Muscle Shoals, AL                                  \",\"showlegend\":true,\"x\":[2023,2022,2021,2020,2019],\"xaxis\":\"x\",\"y\":[196.0,274.0,359.0,296.0,281.0],\"yaxis\":\"y\",\"type\":\"scattergl\"},{\"hovertemplate\":\"<b>%{hovertext}</b><br><br>Name=Fond du Lac, WI                                             <br>Year=%{x}<br>Total=%{y}<extra></extra>\",\"hovertext\":[\"Fond du Lac, WI                                             \",\"Fond du Lac, WI                                             \",\"Fond du Lac, WI                                             \",\"Fond du Lac, WI                                             \",\"Fond du Lac, WI                                             \"],\"legendgroup\":\"Fond du Lac, WI                                             \",\"marker\":{\"color\":\"#ab63fa\",\"symbol\":\"circle\"},\"mode\":\"markers\",\"name\":\"Fond du Lac, WI                                             \",\"showlegend\":true,\"x\":[2023,2022,2021,2020,2019],\"xaxis\":\"x\",\"y\":[114.0,142.0,235.0,148.0,255.0],\"yaxis\":\"y\",\"type\":\"scattergl\"},{\"hovertemplate\":\"<b>%{hovertext}</b><br><br>Name=Fort Collins, CO                                            <br>Year=%{x}<br>Total=%{y}<extra></extra>\",\"hovertext\":[\"Fort Collins, CO                                            \",\"Fort Collins, CO                                            \",\"Fort Collins, CO                                            \",\"Fort Collins, CO                                            \",\"Fort Collins, CO                                            \"],\"legendgroup\":\"Fort Collins, CO                                            \",\"marker\":{\"color\":\"#FFA15A\",\"symbol\":\"circle\"},\"mode\":\"markers\",\"name\":\"Fort Collins, CO                                            \",\"showlegend\":true,\"x\":[2023,2022,2021,2020,2019],\"xaxis\":\"x\",\"y\":[2681.0,2572.0,3221.0,2565.0,2490.0],\"yaxis\":\"y\",\"type\":\"scattergl\"},{\"hovertemplate\":\"<b>%{hovertext}</b><br><br>Name=Fort Smith, AR-OK                                           <br>Year=%{x}<br>Total=%{y}<extra></extra>\",\"hovertext\":[\"Fort Smith, AR-OK                                           \",\"Fort Smith, AR-OK                                           \",\"Fort Smith, AR-OK                                           \",\"Fort Smith, AR-OK                                           \",\"Fort Smith, AR-OK                                           \"],\"legendgroup\":\"Fort Smith, AR-OK                                           \",\"marker\":{\"color\":\"#19d3f3\",\"symbol\":\"circle\"},\"mode\":\"markers\",\"name\":\"Fort Smith, AR-OK                                           \",\"showlegend\":true,\"x\":[2023,2022,2021,2020,2019],\"xaxis\":\"x\",\"y\":[681.0,732.0,662.0,655.0,609.0],\"yaxis\":\"y\",\"type\":\"scattergl\"},{\"hovertemplate\":\"<b>%{hovertext}</b><br><br>Name=Fort Wayne, IN                                              <br>Year=%{x}<br>Total=%{y}<extra></extra>\",\"hovertext\":[\"Fort Wayne, IN                                              \",\"Fort Wayne, IN                                              \",\"Fort Wayne, IN                                              \",\"Fort Wayne, IN                                              \",\"Fort Wayne, IN                                              \"],\"legendgroup\":\"Fort Wayne, IN                                              \",\"marker\":{\"color\":\"#FF6692\",\"symbol\":\"circle\"},\"mode\":\"markers\",\"name\":\"Fort Wayne, IN                                              \",\"showlegend\":true,\"x\":[2023,2022,2021,2020,2019],\"xaxis\":\"x\",\"y\":[2493.0,2335.0,1978.0,1786.0,1956.0],\"yaxis\":\"y\",\"type\":\"scattergl\"},{\"hovertemplate\":\"<b>%{hovertext}</b><br><br>Name=Fresno, CA                                                  <br>Year=%{x}<br>Total=%{y}<extra></extra>\",\"hovertext\":[\"Fresno, CA                                                  \",\"Fresno, CA                                                  \",\"Fresno, CA                                                  \",\"Fresno, CA                                                  \",\"Fresno, CA                                                  \"],\"legendgroup\":\"Fresno, CA                                                  \",\"marker\":{\"color\":\"#B6E880\",\"symbol\":\"circle\"},\"mode\":\"markers\",\"name\":\"Fresno, CA                                                  \",\"showlegend\":true,\"x\":[2023,2022,2021,2020,2019],\"xaxis\":\"x\",\"y\":[3223.0,3662.0,3902.0,3130.0,3393.0],\"yaxis\":\"y\",\"type\":\"scattergl\"},{\"hovertemplate\":\"<b>%{hovertext}</b><br><br>Name=Gadsden, AL                                                 <br>Year=%{x}<br>Total=%{y}<extra></extra>\",\"hovertext\":[\"Gadsden, AL                                                 \",\"Gadsden, AL                                                 \",\"Gadsden, AL                                                 \",\"Gadsden, AL                                                 \",\"Gadsden, AL                                                 \"],\"legendgroup\":\"Gadsden, AL                                                 \",\"marker\":{\"color\":\"#FF97FF\",\"symbol\":\"circle\"},\"mode\":\"markers\",\"name\":\"Gadsden, AL                                                 \",\"showlegend\":true,\"x\":[2023,2022,2021,2020,2019],\"xaxis\":\"x\",\"y\":[122.0,157.0,188.0,113.0,71.0],\"yaxis\":\"y\",\"type\":\"scattergl\"},{\"hovertemplate\":\"<b>%{hovertext}</b><br><br>Name=Gainesville, FL                                             <br>Year=%{x}<br>Total=%{y}<extra></extra>\",\"hovertext\":[\"Gainesville, FL                                             \",\"Gainesville, FL                                             \",\"Gainesville, FL                                             \",\"Gainesville, FL                                             \",\"Gainesville, FL                                             \"],\"legendgroup\":\"Gainesville, FL                                             \",\"marker\":{\"color\":\"#FECB52\",\"symbol\":\"circle\"},\"mode\":\"markers\",\"name\":\"Gainesville, FL                                             \",\"showlegend\":true,\"x\":[2023,2022,2021,2020,2019],\"xaxis\":\"x\",\"y\":[2267.0,3137.0,2743.0,2080.0,2567.0],\"yaxis\":\"y\",\"type\":\"scattergl\"},{\"hovertemplate\":\"<b>%{hovertext}</b><br><br>Name=Gainesville, GA                                             <br>Year=%{x}<br>Total=%{y}<extra></extra>\",\"hovertext\":[\"Gainesville, GA                                             \",\"Gainesville, GA                                             \",\"Gainesville, GA                                             \",\"Gainesville, GA                                             \",\"Gainesville, GA                                             \"],\"legendgroup\":\"Gainesville, GA                                             \",\"marker\":{\"color\":\"#636efa\",\"symbol\":\"circle\"},\"mode\":\"markers\",\"name\":\"Gainesville, GA                                             \",\"showlegend\":true,\"x\":[2023,2022,2021,2020,2019],\"xaxis\":\"x\",\"y\":[1326.0,2067.0,2249.0,1706.0,1479.0],\"yaxis\":\"y\",\"type\":\"scattergl\"},{\"hovertemplate\":\"<b>%{hovertext}</b><br><br>Name=Gettysburg, PA                                              <br>Year=%{x}<br>Total=%{y}<extra></extra>\",\"hovertext\":[\"Gettysburg, PA                                              \",\"Gettysburg, PA                                              \",\"Gettysburg, PA                                              \",\"Gettysburg, PA                                              \",\"Gettysburg, PA                                              \"],\"legendgroup\":\"Gettysburg, PA                                              \",\"marker\":{\"color\":\"#EF553B\",\"symbol\":\"circle\"},\"mode\":\"markers\",\"name\":\"Gettysburg, PA                                              \",\"showlegend\":true,\"x\":[2023,2022,2021,2020,2019],\"xaxis\":\"x\",\"y\":[338.0,394.0,438.0,226.0,220.0],\"yaxis\":\"y\",\"type\":\"scattergl\"},{\"hovertemplate\":\"<b>%{hovertext}</b><br><br>Name=Glens Falls, NY                                             <br>Year=%{x}<br>Total=%{y}<extra></extra>\",\"hovertext\":[\"Glens Falls, NY                                             \",\"Glens Falls, NY                                             \",\"Glens Falls, NY                                             \",\"Glens Falls, NY                                             \",\"Glens Falls, NY                                             \"],\"legendgroup\":\"Glens Falls, NY                                             \",\"marker\":{\"color\":\"#00cc96\",\"symbol\":\"circle\"},\"mode\":\"markers\",\"name\":\"Glens Falls, NY                                             \",\"showlegend\":true,\"x\":[2023,2022,2021,2020,2019],\"xaxis\":\"x\",\"y\":[232.0,292.0,384.0,306.0,241.0],\"yaxis\":\"y\",\"type\":\"scattergl\"},{\"hovertemplate\":\"<b>%{hovertext}</b><br><br>Name=Goldsboro, NC                                               <br>Year=%{x}<br>Total=%{y}<extra></extra>\",\"hovertext\":[\"Goldsboro, NC                                               \",\"Goldsboro, NC                                               \",\"Goldsboro, NC                                               \",\"Goldsboro, NC                                               \",\"Goldsboro, NC                                               \"],\"legendgroup\":\"Goldsboro, NC                                               \",\"marker\":{\"color\":\"#ab63fa\",\"symbol\":\"circle\"},\"mode\":\"markers\",\"name\":\"Goldsboro, NC                                               \",\"showlegend\":true,\"x\":[2023,2022,2021,2020,2019],\"xaxis\":\"x\",\"y\":[538.0,418.0,482.0,414.0,323.0],\"yaxis\":\"y\",\"type\":\"scattergl\"},{\"hovertemplate\":\"<b>%{hovertext}</b><br><br>Name=Grand Forks, ND-MN                                          <br>Year=%{x}<br>Total=%{y}<extra></extra>\",\"hovertext\":[\"Grand Forks, ND-MN                                          \",\"Grand Forks, ND-MN                                          \",\"Grand Forks, ND-MN                                          \",\"Grand Forks, ND-MN                                          \",\"Grand Forks, ND-MN                                          \"],\"legendgroup\":\"Grand Forks, ND-MN                                          \",\"marker\":{\"color\":\"#FFA15A\",\"symbol\":\"circle\"},\"mode\":\"markers\",\"name\":\"Grand Forks, ND-MN                                          \",\"showlegend\":true,\"x\":[2023,2022,2021,2020,2019],\"xaxis\":\"x\",\"y\":[163.0,165.0,227.0,488.0,195.0],\"yaxis\":\"y\",\"type\":\"scattergl\"},{\"hovertemplate\":\"<b>%{hovertext}</b><br><br>Name=Grand Island, NE                                            <br>Year=%{x}<br>Total=%{y}<extra></extra>\",\"hovertext\":[\"Grand Island, NE                                            \",\"Grand Island, NE                                            \",\"Grand Island, NE                                            \",\"Grand Island, NE                                            \",\"Grand Island, NE                                            \"],\"legendgroup\":\"Grand Island, NE                                            \",\"marker\":{\"color\":\"#19d3f3\",\"symbol\":\"circle\"},\"mode\":\"markers\",\"name\":\"Grand Island, NE                                            \",\"showlegend\":true,\"x\":[2023,2022,2021,2020,2019],\"xaxis\":\"x\",\"y\":[399.0,234.0,305.0,271.0,177.0],\"yaxis\":\"y\",\"type\":\"scattergl\"},{\"hovertemplate\":\"<b>%{hovertext}</b><br><br>Name=Grand Junction, CO                                          <br>Year=%{x}<br>Total=%{y}<extra></extra>\",\"hovertext\":[\"Grand Junction, CO                                          \",\"Grand Junction, CO                                          \",\"Grand Junction, CO                                          \",\"Grand Junction, CO                                          \",\"Grand Junction, CO                                          \"],\"legendgroup\":\"Grand Junction, CO                                          \",\"marker\":{\"color\":\"#FF6692\",\"symbol\":\"circle\"},\"mode\":\"markers\",\"name\":\"Grand Junction, CO                                          \",\"showlegend\":true,\"x\":[2023,2022,2021,2020,2019],\"xaxis\":\"x\",\"y\":[1206.0,969.0,1231.0,1004.0,818.0],\"yaxis\":\"y\",\"type\":\"scattergl\"},{\"hovertemplate\":\"<b>%{hovertext}</b><br><br>Name=Grand Rapids-Kentwood, MI                                   <br>Year=%{x}<br>Total=%{y}<extra></extra>\",\"hovertext\":[\"Grand Rapids-Kentwood, MI                                   \",\"Grand Rapids-Kentwood, MI                                   \",\"Grand Rapids-Kentwood, MI                                   \",\"Grand Rapids-Kentwood, MI                                   \",\"Grand Rapids-Kentwood, MI                                   \"],\"legendgroup\":\"Grand Rapids-Kentwood, MI                                   \",\"marker\":{\"color\":\"#B6E880\",\"symbol\":\"circle\"},\"mode\":\"markers\",\"name\":\"Grand Rapids-Kentwood, MI                                   \",\"showlegend\":true,\"x\":[2023,2022,2021,2020,2019],\"xaxis\":\"x\",\"y\":[3716.0,4198.0,3705.0,3436.0,4155.0],\"yaxis\":\"y\",\"type\":\"scattergl\"},{\"hovertemplate\":\"<b>%{hovertext}</b><br><br>Name=Grants Pass, OR                                             <br>Year=%{x}<br>Total=%{y}<extra></extra>\",\"hovertext\":[\"Grants Pass, OR                                             \",\"Grants Pass, OR                                             \",\"Grants Pass, OR                                             \",\"Grants Pass, OR                                             \",\"Grants Pass, OR                                             \"],\"legendgroup\":\"Grants Pass, OR                                             \",\"marker\":{\"color\":\"#FF97FF\",\"symbol\":\"circle\"},\"mode\":\"markers\",\"name\":\"Grants Pass, OR                                             \",\"showlegend\":true,\"x\":[2023,2022,2021,2020,2019],\"xaxis\":\"x\",\"y\":[209.0,338.0,333.0,316.0,231.0],\"yaxis\":\"y\",\"type\":\"scattergl\"},{\"hovertemplate\":\"<b>%{hovertext}</b><br><br>Name=Great Falls, MT                                             <br>Year=%{x}<br>Total=%{y}<extra></extra>\",\"hovertext\":[\"Great Falls, MT                                             \",\"Great Falls, MT                                             \",\"Great Falls, MT                                             \",\"Great Falls, MT                                             \",\"Great Falls, MT                                             \"],\"legendgroup\":\"Great Falls, MT                                             \",\"marker\":{\"color\":\"#FECB52\",\"symbol\":\"circle\"},\"mode\":\"markers\",\"name\":\"Great Falls, MT                                             \",\"showlegend\":true,\"x\":[2023,2022,2021,2020,2019],\"xaxis\":\"x\",\"y\":[151.0,543.0,272.0,151.0,134.0],\"yaxis\":\"y\",\"type\":\"scattergl\"},{\"hovertemplate\":\"<b>%{hovertext}</b><br><br>Name=Greeley, CO                                                 <br>Year=%{x}<br>Total=%{y}<extra></extra>\",\"hovertext\":[\"Greeley, CO                                                 \",\"Greeley, CO                                                 \",\"Greeley, CO                                                 \",\"Greeley, CO                                                 \",\"Greeley, CO                                                 \"],\"legendgroup\":\"Greeley, CO                                                 \",\"marker\":{\"color\":\"#636efa\",\"symbol\":\"circle\"},\"mode\":\"markers\",\"name\":\"Greeley, CO                                                 \",\"showlegend\":true,\"x\":[2023,2022,2021,2020,2019],\"xaxis\":\"x\",\"y\":[3719.0,6143.0,5268.0,4185.0,4387.0],\"yaxis\":\"y\",\"type\":\"scattergl\"},{\"hovertemplate\":\"<b>%{hovertext}</b><br><br>Name=Green Bay, WI                                               <br>Year=%{x}<br>Total=%{y}<extra></extra>\",\"hovertext\":[\"Green Bay, WI                                               \",\"Green Bay, WI                                               \",\"Green Bay, WI                                               \",\"Green Bay, WI                                               \",\"Green Bay, WI                                               \"],\"legendgroup\":\"Green Bay, WI                                               \",\"marker\":{\"color\":\"#EF553B\",\"symbol\":\"circle\"},\"mode\":\"markers\",\"name\":\"Green Bay, WI                                               \",\"showlegend\":true,\"x\":[2023,2022,2021,2020,2019],\"xaxis\":\"x\",\"y\":[1050.0,1249.0,1408.0,1433.0,1130.0],\"yaxis\":\"y\",\"type\":\"scattergl\"},{\"hovertemplate\":\"<b>%{hovertext}</b><br><br>Name=Greensboro-High Point, NC                                   <br>Year=%{x}<br>Total=%{y}<extra></extra>\",\"hovertext\":[\"Greensboro-High Point, NC                                   \",\"Greensboro-High Point, NC                                   \",\"Greensboro-High Point, NC                                   \",\"Greensboro-High Point, NC                                   \",\"Greensboro-High Point, NC                                   \"],\"legendgroup\":\"Greensboro-High Point, NC                                   \",\"marker\":{\"color\":\"#00cc96\",\"symbol\":\"circle\"},\"mode\":\"markers\",\"name\":\"Greensboro-High Point, NC                                   \",\"showlegend\":true,\"x\":[2023,2022,2021,2020,2019],\"xaxis\":\"x\",\"y\":[3493.0,2993.0,3964.0,3147.0,2423.0],\"yaxis\":\"y\",\"type\":\"scattergl\"},{\"hovertemplate\":\"<b>%{hovertext}</b><br><br>Name=Greenville, NC                                              <br>Year=%{x}<br>Total=%{y}<extra></extra>\",\"hovertext\":[\"Greenville, NC                                              \",\"Greenville, NC                                              \",\"Greenville, NC                                              \",\"Greenville, NC                                              \",\"Greenville, NC                                              \"],\"legendgroup\":\"Greenville, NC                                              \",\"marker\":{\"color\":\"#ab63fa\",\"symbol\":\"circle\"},\"mode\":\"markers\",\"name\":\"Greenville, NC                                              \",\"showlegend\":true,\"x\":[2023,2022,2021,2020,2019],\"xaxis\":\"x\",\"y\":[1369.0,928.0,1275.0,719.0,1030.0],\"yaxis\":\"y\",\"type\":\"scattergl\"},{\"hovertemplate\":\"<b>%{hovertext}</b><br><br>Name=Greenville-Anderson, SC                                     <br>Year=%{x}<br>Total=%{y}<extra></extra>\",\"hovertext\":[\"Greenville-Anderson, SC                                     \",\"Greenville-Anderson, SC                                     \",\"Greenville-Anderson, SC                                     \",\"Greenville-Anderson, SC                                     \",\"Greenville-Anderson, SC                                     \"],\"legendgroup\":\"Greenville-Anderson, SC                                     \",\"marker\":{\"color\":\"#FFA15A\",\"symbol\":\"circle\"},\"mode\":\"markers\",\"name\":\"Greenville-Anderson, SC                                     \",\"showlegend\":true,\"x\":[2023,2022,2021,2020,2019],\"xaxis\":\"x\",\"y\":[7728.0,8244.0,10604.0,8734.0,6563.0],\"yaxis\":\"y\",\"type\":\"scattergl\"},{\"hovertemplate\":\"<b>%{hovertext}</b><br><br>Name=Gulfport-Biloxi, MS                                         <br>Year=%{x}<br>Total=%{y}<extra></extra>\",\"hovertext\":[\"Gulfport-Biloxi, MS                                         \",\"Gulfport-Biloxi, MS                                         \",\"Gulfport-Biloxi, MS                                         \",\"Gulfport-Biloxi, MS                                         \",\"Gulfport-Biloxi, MS                                         \"],\"legendgroup\":\"Gulfport-Biloxi, MS                                         \",\"marker\":{\"color\":\"#19d3f3\",\"symbol\":\"circle\"},\"mode\":\"markers\",\"name\":\"Gulfport-Biloxi, MS                                         \",\"showlegend\":true,\"x\":[2023,2022,2021,2020,2019],\"xaxis\":\"x\",\"y\":[3036.0,2903.0,2769.0,3021.0,2256.0],\"yaxis\":\"y\",\"type\":\"scattergl\"},{\"hovertemplate\":\"<b>%{hovertext}</b><br><br>Name=Hagerstown-Martinsburg, MD-WV                               <br>Year=%{x}<br>Total=%{y}<extra></extra>\",\"hovertext\":[\"Hagerstown-Martinsburg, MD-WV                               \",\"Hagerstown-Martinsburg, MD-WV                               \",\"Hagerstown-Martinsburg, MD-WV                               \",\"Hagerstown-Martinsburg, MD-WV                               \",\"Hagerstown-Martinsburg, MD-WV                               \"],\"legendgroup\":\"Hagerstown-Martinsburg, MD-WV                               \",\"marker\":{\"color\":\"#FF6692\",\"symbol\":\"circle\"},\"mode\":\"markers\",\"name\":\"Hagerstown-Martinsburg, MD-WV                               \",\"showlegend\":true,\"x\":[2023,2022,2021,2020,2019],\"xaxis\":\"x\",\"y\":[1753.0,2148.0,1768.0,1742.0,1565.0],\"yaxis\":\"y\",\"type\":\"scattergl\"},{\"hovertemplate\":\"<b>%{hovertext}</b><br><br>Name=Hammond, LA                                                 <br>Year=%{x}<br>Total=%{y}<extra></extra>\",\"hovertext\":[\"Hammond, LA                                                 \",\"Hammond, LA                                                 \",\"Hammond, LA                                                 \",\"Hammond, LA                                                 \",\"Hammond, LA                                                 \"],\"legendgroup\":\"Hammond, LA                                                 \",\"marker\":{\"color\":\"#B6E880\",\"symbol\":\"circle\"},\"mode\":\"markers\",\"name\":\"Hammond, LA                                                 \",\"showlegend\":true,\"x\":[2023,2022,2021,2020,2019],\"xaxis\":\"x\",\"y\":[1213.0,1458.0,1508.0,1577.0,988.0],\"yaxis\":\"y\",\"type\":\"scattergl\"},{\"hovertemplate\":\"<b>%{hovertext}</b><br><br>Name=Hanford-Corcoran, CA                                        <br>Year=%{x}<br>Total=%{y}<extra></extra>\",\"hovertext\":[\"Hanford-Corcoran, CA                                        \",\"Hanford-Corcoran, CA                                        \",\"Hanford-Corcoran, CA                                        \",\"Hanford-Corcoran, CA                                        \",\"Hanford-Corcoran, CA                                        \"],\"legendgroup\":\"Hanford-Corcoran, CA                                        \",\"marker\":{\"color\":\"#FF97FF\",\"symbol\":\"circle\"},\"mode\":\"markers\",\"name\":\"Hanford-Corcoran, CA                                        \",\"showlegend\":true,\"x\":[2023,2022,2021,2020,2019],\"xaxis\":\"x\",\"y\":[747.0,436.0,508.0,306.0,409.0],\"yaxis\":\"y\",\"type\":\"scattergl\"},{\"hovertemplate\":\"<b>%{hovertext}</b><br><br>Name=Harrisburg-Carlisle, PA                                     <br>Year=%{x}<br>Total=%{y}<extra></extra>\",\"hovertext\":[\"Harrisburg-Carlisle, PA                                     \",\"Harrisburg-Carlisle, PA                                     \",\"Harrisburg-Carlisle, PA                                     \",\"Harrisburg-Carlisle, PA                                     \",\"Harrisburg-Carlisle, PA                                     \"],\"legendgroup\":\"Harrisburg-Carlisle, PA                                     \",\"marker\":{\"color\":\"#FECB52\",\"symbol\":\"circle\"},\"mode\":\"markers\",\"name\":\"Harrisburg-Carlisle, PA                                     \",\"showlegend\":true,\"x\":[2023,2022,2021,2020,2019],\"xaxis\":\"x\",\"y\":[1883.0,2711.0,1542.0,1460.0,2018.0],\"yaxis\":\"y\",\"type\":\"scattergl\"},{\"hovertemplate\":\"<b>%{hovertext}</b><br><br>Name=Harrisonburg, VA                                            <br>Year=%{x}<br>Total=%{y}<extra></extra>\",\"hovertext\":[\"Harrisonburg, VA                                            \",\"Harrisonburg, VA                                            \",\"Harrisonburg, VA                                            \",\"Harrisonburg, VA                                            \",\"Harrisonburg, VA                                            \"],\"legendgroup\":\"Harrisonburg, VA                                            \",\"marker\":{\"color\":\"#636efa\",\"symbol\":\"circle\"},\"mode\":\"markers\",\"name\":\"Harrisonburg, VA                                            \",\"showlegend\":true,\"x\":[2023,2022,2021,2020,2019],\"xaxis\":\"x\",\"y\":[595.0,710.0,655.0,596.0,361.0],\"yaxis\":\"y\",\"type\":\"scattergl\"},{\"hovertemplate\":\"<b>%{hovertext}</b><br><br>Name=Hartford-East Hartford-Middletown, CT                       <br>Year=%{x}<br>Total=%{y}<extra></extra>\",\"hovertext\":[\"Hartford-East Hartford-Middletown, CT                       \",\"Hartford-East Hartford-Middletown, CT                       \",\"Hartford-East Hartford-Middletown, CT                       \",\"Hartford-East Hartford-Middletown, CT                       \",\"Hartford-East Hartford-Middletown, CT                       \"],\"legendgroup\":\"Hartford-East Hartford-Middletown, CT                       \",\"marker\":{\"color\":\"#EF553B\",\"symbol\":\"circle\"},\"mode\":\"markers\",\"name\":\"Hartford-East Hartford-Middletown, CT                       \",\"showlegend\":true,\"x\":[2023,2022,2021,2020,2019],\"xaxis\":\"x\",\"y\":[1919.0,1917.0,1508.0,1399.0,1263.0],\"yaxis\":\"y\",\"type\":\"scattergl\"},{\"hovertemplate\":\"<b>%{hovertext}</b><br><br>Name=Hattiesburg, MS                                             <br>Year=%{x}<br>Total=%{y}<extra></extra>\",\"hovertext\":[\"Hattiesburg, MS                                             \",\"Hattiesburg, MS                                             \",\"Hattiesburg, MS                                             \",\"Hattiesburg, MS                                             \",\"Hattiesburg, MS                                             \"],\"legendgroup\":\"Hattiesburg, MS                                             \",\"marker\":{\"color\":\"#00cc96\",\"symbol\":\"circle\"},\"mode\":\"markers\",\"name\":\"Hattiesburg, MS                                             \",\"showlegend\":true,\"x\":[2023,2022,2021,2020,2019],\"xaxis\":\"x\",\"y\":[133.0,154.0,153.0,144.0,138.0],\"yaxis\":\"y\",\"type\":\"scattergl\"},{\"hovertemplate\":\"<b>%{hovertext}</b><br><br>Name=Hickory-Lenoir-Morganton, NC                                <br>Year=%{x}<br>Total=%{y}<extra></extra>\",\"hovertext\":[\"Hickory-Lenoir-Morganton, NC                                \",\"Hickory-Lenoir-Morganton, NC                                \",\"Hickory-Lenoir-Morganton, NC                                \",\"Hickory-Lenoir-Morganton, NC                                \",\"Hickory-Lenoir-Morganton, NC                                \"],\"legendgroup\":\"Hickory-Lenoir-Morganton, NC                                \",\"marker\":{\"color\":\"#ab63fa\",\"symbol\":\"circle\"},\"mode\":\"markers\",\"name\":\"Hickory-Lenoir-Morganton, NC                                \",\"showlegend\":true,\"x\":[2023,2022,2021,2020,2019],\"xaxis\":\"x\",\"y\":[2379.0,2637.0,1880.0,1567.0,1308.0],\"yaxis\":\"y\",\"type\":\"scattergl\"},{\"hovertemplate\":\"<b>%{hovertext}</b><br><br>Name=Hilton Head Island-Bluffton, SC                             <br>Year=%{x}<br>Total=%{y}<extra></extra>\",\"hovertext\":[\"Hilton Head Island-Bluffton, SC                             \",\"Hilton Head Island-Bluffton, SC                             \",\"Hilton Head Island-Bluffton, SC                             \",\"Hilton Head Island-Bluffton, SC                             \",\"Hilton Head Island-Bluffton, SC                             \"],\"legendgroup\":\"Hilton Head Island-Bluffton, SC                             \",\"marker\":{\"color\":\"#FFA15A\",\"symbol\":\"circle\"},\"mode\":\"markers\",\"name\":\"Hilton Head Island-Bluffton, SC                             \",\"showlegend\":true,\"x\":[2023,2022,2021,2020,2019],\"xaxis\":\"x\",\"y\":[2978.0,2951.0,3698.0,2977.0,2886.0],\"yaxis\":\"y\",\"type\":\"scattergl\"},{\"hovertemplate\":\"<b>%{hovertext}</b><br><br>Name=Hinesville, GA                                              <br>Year=%{x}<br>Total=%{y}<extra></extra>\",\"hovertext\":[\"Hinesville, GA                                              \",\"Hinesville, GA                                              \",\"Hinesville, GA                                              \",\"Hinesville, GA                                              \",\"Hinesville, GA                                              \"],\"legendgroup\":\"Hinesville, GA                                              \",\"marker\":{\"color\":\"#19d3f3\",\"symbol\":\"circle\"},\"mode\":\"markers\",\"name\":\"Hinesville, GA                                              \",\"showlegend\":true,\"x\":[2023,2022,2021,2020,2019],\"xaxis\":\"x\",\"y\":[711.0,844.0,837.0,721.0,959.0],\"yaxis\":\"y\",\"type\":\"scattergl\"},{\"hovertemplate\":\"<b>%{hovertext}</b><br><br>Name=Homosassa Springs, FL                                       <br>Year=%{x}<br>Total=%{y}<extra></extra>\",\"hovertext\":[\"Homosassa Springs, FL                                       \",\"Homosassa Springs, FL                                       \",\"Homosassa Springs, FL                                       \",\"Homosassa Springs, FL                                       \",\"Homosassa Springs, FL                                       \"],\"legendgroup\":\"Homosassa Springs, FL                                       \",\"marker\":{\"color\":\"#FF6692\",\"symbol\":\"circle\"},\"mode\":\"markers\",\"name\":\"Homosassa Springs, FL                                       \",\"showlegend\":true,\"x\":[2023,2022,2021,2020,2019],\"xaxis\":\"x\",\"y\":[1580.0,1628.0,1983.0,927.0,865.0],\"yaxis\":\"y\",\"type\":\"scattergl\"},{\"hovertemplate\":\"<b>%{hovertext}</b><br><br>Name=Hot Springs, AR                                             <br>Year=%{x}<br>Total=%{y}<extra></extra>\",\"hovertext\":[\"Hot Springs, AR                                             \",\"Hot Springs, AR                                             \",\"Hot Springs, AR                                             \",\"Hot Springs, AR                                             \",\"Hot Springs, AR                                             \"],\"legendgroup\":\"Hot Springs, AR                                             \",\"marker\":{\"color\":\"#B6E880\",\"symbol\":\"circle\"},\"mode\":\"markers\",\"name\":\"Hot Springs, AR                                             \",\"showlegend\":true,\"x\":[2023,2022,2021,2020,2019],\"xaxis\":\"x\",\"y\":[76.0,99.0,330.0,88.0,118.0],\"yaxis\":\"y\",\"type\":\"scattergl\"},{\"hovertemplate\":\"<b>%{hovertext}</b><br><br>Name=Houma-Thibodaux, LA                                         <br>Year=%{x}<br>Total=%{y}<extra></extra>\",\"hovertext\":[\"Houma-Thibodaux, LA                                         \",\"Houma-Thibodaux, LA                                         \",\"Houma-Thibodaux, LA                                         \",\"Houma-Thibodaux, LA                                         \",\"Houma-Thibodaux, LA                                         \"],\"legendgroup\":\"Houma-Thibodaux, LA                                         \",\"marker\":{\"color\":\"#FF97FF\",\"symbol\":\"circle\"},\"mode\":\"markers\",\"name\":\"Houma-Thibodaux, LA                                         \",\"showlegend\":true,\"x\":[2023,2022,2021,2020,2019],\"xaxis\":\"x\",\"y\":[615.0,872.0,587.0,547.0,521.0],\"yaxis\":\"y\",\"type\":\"scattergl\"},{\"hovertemplate\":\"<b>%{hovertext}</b><br><br>Name=Houston-The Woodlands-Sugar Land, TX                        <br>Year=%{x}<br>Total=%{y}<extra></extra>\",\"hovertext\":[\"Houston-The Woodlands-Sugar Land, TX                        \",\"Houston-The Woodlands-Sugar Land, TX                        \",\"Houston-The Woodlands-Sugar Land, TX                        \",\"Houston-The Woodlands-Sugar Land, TX                        \",\"Houston-The Woodlands-Sugar Land, TX                        \"],\"legendgroup\":\"Houston-The Woodlands-Sugar Land, TX                        \",\"marker\":{\"color\":\"#FECB52\",\"symbol\":\"circle\"},\"mode\":\"markers\",\"name\":\"Houston-The Woodlands-Sugar Land, TX                        \",\"showlegend\":true,\"x\":[2023,2022,2021,2020,2019],\"xaxis\":\"x\",\"y\":[68336.0,75728.0,69263.0,70540.0,63672.0],\"yaxis\":\"y\",\"type\":\"scattergl\"},{\"hovertemplate\":\"<b>%{hovertext}</b><br><br>Name=Huntington-Ashland, WV-KY-OH                                <br>Year=%{x}<br>Total=%{y}<extra></extra>\",\"hovertext\":[\"Huntington-Ashland, WV-KY-OH                                \",\"Huntington-Ashland, WV-KY-OH                                \",\"Huntington-Ashland, WV-KY-OH                                \",\"Huntington-Ashland, WV-KY-OH                                \",\"Huntington-Ashland, WV-KY-OH                                \"],\"legendgroup\":\"Huntington-Ashland, WV-KY-OH                                \",\"marker\":{\"color\":\"#636efa\",\"symbol\":\"circle\"},\"mode\":\"markers\",\"name\":\"Huntington-Ashland, WV-KY-OH                                \",\"showlegend\":true,\"x\":[2023,2022,2021,2020,2019],\"xaxis\":\"x\",\"y\":[261.0,255.0,305.0,254.0,253.0],\"yaxis\":\"y\",\"type\":\"scattergl\"},{\"hovertemplate\":\"<b>%{hovertext}</b><br><br>Name=Huntsville, AL                                              <br>Year=%{x}<br>Total=%{y}<extra></extra>\",\"hovertext\":[\"Huntsville, AL                                              \",\"Huntsville, AL                                              \",\"Huntsville, AL                                              \",\"Huntsville, AL                                              \",\"Huntsville, AL                                              \"],\"legendgroup\":\"Huntsville, AL                                              \",\"marker\":{\"color\":\"#EF553B\",\"symbol\":\"circle\"},\"mode\":\"markers\",\"name\":\"Huntsville, AL                                              \",\"showlegend\":true,\"x\":[2023,2022,2021,2020,2019],\"xaxis\":\"x\",\"y\":[5943.0,4035.0,6172.0,4341.0,3566.0],\"yaxis\":\"y\",\"type\":\"scattergl\"},{\"hovertemplate\":\"<b>%{hovertext}</b><br><br>Name=Idaho Falls, ID                                             <br>Year=%{x}<br>Total=%{y}<extra></extra>\",\"hovertext\":[\"Idaho Falls, ID                                             \",\"Idaho Falls, ID                                             \",\"Idaho Falls, ID                                             \",\"Idaho Falls, ID                                             \",\"Idaho Falls, ID                                             \"],\"legendgroup\":\"Idaho Falls, ID                                             \",\"marker\":{\"color\":\"#00cc96\",\"symbol\":\"circle\"},\"mode\":\"markers\",\"name\":\"Idaho Falls, ID                                             \",\"showlegend\":true,\"x\":[2023,2022,2021,2020,2019],\"xaxis\":\"x\",\"y\":[1774.0,1380.0,1478.0,1173.0,1096.0],\"yaxis\":\"y\",\"type\":\"scattergl\"},{\"hovertemplate\":\"<b>%{hovertext}</b><br><br>Name=Indianapolis-Carmel-Anderson, IN                            <br>Year=%{x}<br>Total=%{y}<extra></extra>\",\"hovertext\":[\"Indianapolis-Carmel-Anderson, IN                            \",\"Indianapolis-Carmel-Anderson, IN                            \",\"Indianapolis-Carmel-Anderson, IN                            \",\"Indianapolis-Carmel-Anderson, IN                            \",\"Indianapolis-Carmel-Anderson, IN                            \"],\"legendgroup\":\"Indianapolis-Carmel-Anderson, IN                            \",\"marker\":{\"color\":\"#ab63fa\",\"symbol\":\"circle\"},\"mode\":\"markers\",\"name\":\"Indianapolis-Carmel-Anderson, IN                            \",\"showlegend\":true,\"x\":[2023,2022,2021,2020,2019],\"xaxis\":\"x\",\"y\":[12588.0,13493.0,13451.0,10998.0,9721.0],\"yaxis\":\"y\",\"type\":\"scattergl\"},{\"hovertemplate\":\"<b>%{hovertext}</b><br><br>Name=Iowa City, IA                                               <br>Year=%{x}<br>Total=%{y}<extra></extra>\",\"hovertext\":[\"Iowa City, IA                                               \",\"Iowa City, IA                                               \",\"Iowa City, IA                                               \",\"Iowa City, IA                                               \",\"Iowa City, IA                                               \"],\"legendgroup\":\"Iowa City, IA                                               \",\"marker\":{\"color\":\"#FFA15A\",\"symbol\":\"circle\"},\"mode\":\"markers\",\"name\":\"Iowa City, IA                                               \",\"showlegend\":true,\"x\":[2023,2022,2021,2020,2019],\"xaxis\":\"x\",\"y\":[1252.0,1429.0,1167.0,1019.0,1152.0],\"yaxis\":\"y\",\"type\":\"scattergl\"},{\"hovertemplate\":\"<b>%{hovertext}</b><br><br>Name=Ithaca, NY                                                  <br>Year=%{x}<br>Total=%{y}<extra></extra>\",\"hovertext\":[\"Ithaca, NY                                                  \",\"Ithaca, NY                                                  \",\"Ithaca, NY                                                  \",\"Ithaca, NY                                                  \",\"Ithaca, NY                                                  \"],\"legendgroup\":\"Ithaca, NY                                                  \",\"marker\":{\"color\":\"#19d3f3\",\"symbol\":\"circle\"},\"mode\":\"markers\",\"name\":\"Ithaca, NY                                                  \",\"showlegend\":true,\"x\":[2023,2022,2021,2020,2019],\"xaxis\":\"x\",\"y\":[221.0,239.0,644.0,329.0,823.0],\"yaxis\":\"y\",\"type\":\"scattergl\"},{\"hovertemplate\":\"<b>%{hovertext}</b><br><br>Name=Jackson, MI                                                 <br>Year=%{x}<br>Total=%{y}<extra></extra>\",\"hovertext\":[\"Jackson, MI                                                 \",\"Jackson, MI                                                 \",\"Jackson, MI                                                 \",\"Jackson, MI                                                 \",\"Jackson, MI                                                 \"],\"legendgroup\":\"Jackson, MI                                                 \",\"marker\":{\"color\":\"#FF6692\",\"symbol\":\"circle\"},\"mode\":\"markers\",\"name\":\"Jackson, MI                                                 \",\"showlegend\":true,\"x\":[2023,2022,2021,2020,2019],\"xaxis\":\"x\",\"y\":[147.0,141.0,176.0,159.0,386.0],\"yaxis\":\"y\",\"type\":\"scattergl\"},{\"hovertemplate\":\"<b>%{hovertext}</b><br><br>Name=Jackson, MS                                                 <br>Year=%{x}<br>Total=%{y}<extra></extra>\",\"hovertext\":[\"Jackson, MS                                                 \",\"Jackson, MS                                                 \",\"Jackson, MS                                                 \",\"Jackson, MS                                                 \",\"Jackson, MS                                                 \"],\"legendgroup\":\"Jackson, MS                                                 \",\"marker\":{\"color\":\"#B6E880\",\"symbol\":\"circle\"},\"mode\":\"markers\",\"name\":\"Jackson, MS                                                 \",\"showlegend\":true,\"x\":[2023,2022,2021,2020,2019],\"xaxis\":\"x\",\"y\":[1220.0,1234.0,1416.0,1178.0,1371.0],\"yaxis\":\"y\",\"type\":\"scattergl\"},{\"hovertemplate\":\"<b>%{hovertext}</b><br><br>Name=Jackson, TN                                                 <br>Year=%{x}<br>Total=%{y}<extra></extra>\",\"hovertext\":[\"Jackson, TN                                                 \",\"Jackson, TN                                                 \",\"Jackson, TN                                                 \",\"Jackson, TN                                                 \",\"Jackson, TN                                                 \"],\"legendgroup\":\"Jackson, TN                                                 \",\"marker\":{\"color\":\"#FF97FF\",\"symbol\":\"circle\"},\"mode\":\"markers\",\"name\":\"Jackson, TN                                                 \",\"showlegend\":true,\"x\":[2023,2022,2021,2020,2019],\"xaxis\":\"x\",\"y\":[408.0,456.0,537.0,475.0,450.0],\"yaxis\":\"y\",\"type\":\"scattergl\"},{\"hovertemplate\":\"<b>%{hovertext}</b><br><br>Name=Jacksonville, FL                                            <br>Year=%{x}<br>Total=%{y}<extra></extra>\",\"hovertext\":[\"Jacksonville, FL                                            \",\"Jacksonville, FL                                            \",\"Jacksonville, FL                                            \",\"Jacksonville, FL                                            \",\"Jacksonville, FL                                            \"],\"legendgroup\":\"Jacksonville, FL                                            \",\"marker\":{\"color\":\"#FECB52\",\"symbol\":\"circle\"},\"mode\":\"markers\",\"name\":\"Jacksonville, FL                                            \",\"showlegend\":true,\"x\":[2023,2022,2021,2020,2019],\"xaxis\":\"x\",\"y\":[20253.0,23169.0,22738.0,17246.0,14687.0],\"yaxis\":\"y\",\"type\":\"scattergl\"},{\"hovertemplate\":\"<b>%{hovertext}</b><br><br>Name=Jacksonville, NC                                            <br>Year=%{x}<br>Total=%{y}<extra></extra>\",\"hovertext\":[\"Jacksonville, NC                                            \",\"Jacksonville, NC                                            \",\"Jacksonville, NC                                            \",\"Jacksonville, NC                                            \",\"Jacksonville, NC                                            \"],\"legendgroup\":\"Jacksonville, NC                                            \",\"marker\":{\"color\":\"#636efa\",\"symbol\":\"circle\"},\"mode\":\"markers\",\"name\":\"Jacksonville, NC                                            \",\"showlegend\":true,\"x\":[2023,2022,2021,2020,2019],\"xaxis\":\"x\",\"y\":[1419.0,1322.0,1597.0,1435.0,1331.0],\"yaxis\":\"y\",\"type\":\"scattergl\"},{\"hovertemplate\":\"<b>%{hovertext}</b><br><br>Name=Janesville-Beloit, WI                                       <br>Year=%{x}<br>Total=%{y}<extra></extra>\",\"hovertext\":[\"Janesville-Beloit, WI                                       \",\"Janesville-Beloit, WI                                       \",\"Janesville-Beloit, WI                                       \",\"Janesville-Beloit, WI                                       \",\"Janesville-Beloit, WI                                       \"],\"legendgroup\":\"Janesville-Beloit, WI                                       \",\"marker\":{\"color\":\"#EF553B\",\"symbol\":\"circle\"},\"mode\":\"markers\",\"name\":\"Janesville-Beloit, WI                                       \",\"showlegend\":true,\"x\":[2023,2022,2021,2020,2019],\"xaxis\":\"x\",\"y\":[321.0,396.0,617.0,671.0,644.0],\"yaxis\":\"y\",\"type\":\"scattergl\"},{\"hovertemplate\":\"<b>%{hovertext}</b><br><br>Name=Jefferson City, MO                                          <br>Year=%{x}<br>Total=%{y}<extra></extra>\",\"hovertext\":[\"Jefferson City, MO                                          \",\"Jefferson City, MO                                          \",\"Jefferson City, MO                                          \",\"Jefferson City, MO                                          \",\"Jefferson City, MO                                          \"],\"legendgroup\":\"Jefferson City, MO                                          \",\"marker\":{\"color\":\"#00cc96\",\"symbol\":\"circle\"},\"mode\":\"markers\",\"name\":\"Jefferson City, MO                                          \",\"showlegend\":true,\"x\":[2023,2022,2021,2020,2019],\"xaxis\":\"x\",\"y\":[198.0,179.0,246.0,253.0,270.0],\"yaxis\":\"y\",\"type\":\"scattergl\"},{\"hovertemplate\":\"<b>%{hovertext}</b><br><br>Name=Johnson City, TN                                            <br>Year=%{x}<br>Total=%{y}<extra></extra>\",\"hovertext\":[\"Johnson City, TN                                            \",\"Johnson City, TN                                            \",\"Johnson City, TN                                            \",\"Johnson City, TN                                            \",\"Johnson City, TN                                            \"],\"legendgroup\":\"Johnson City, TN                                            \",\"marker\":{\"color\":\"#ab63fa\",\"symbol\":\"circle\"},\"mode\":\"markers\",\"name\":\"Johnson City, TN                                            \",\"showlegend\":true,\"x\":[2023,2022,2021,2020,2019],\"xaxis\":\"x\",\"y\":[1033.0,1024.0,819.0,1051.0,718.0],\"yaxis\":\"y\",\"type\":\"scattergl\"},{\"hovertemplate\":\"<b>%{hovertext}</b><br><br>Name=Johnstown, PA                                               <br>Year=%{x}<br>Total=%{y}<extra></extra>\",\"hovertext\":[\"Johnstown, PA                                               \",\"Johnstown, PA                                               \",\"Johnstown, PA                                               \",\"Johnstown, PA                                               \",\"Johnstown, PA                                               \"],\"legendgroup\":\"Johnstown, PA                                               \",\"marker\":{\"color\":\"#FFA15A\",\"symbol\":\"circle\"},\"mode\":\"markers\",\"name\":\"Johnstown, PA                                               \",\"showlegend\":true,\"x\":[2023,2022,2021,2020,2019],\"xaxis\":\"x\",\"y\":[72.0,94.0,62.0,59.0,54.0],\"yaxis\":\"y\",\"type\":\"scattergl\"},{\"hovertemplate\":\"<b>%{hovertext}</b><br><br>Name=Jonesboro, AR                                               <br>Year=%{x}<br>Total=%{y}<extra></extra>\",\"hovertext\":[\"Jonesboro, AR                                               \",\"Jonesboro, AR                                               \",\"Jonesboro, AR                                               \",\"Jonesboro, AR                                               \",\"Jonesboro, AR                                               \"],\"legendgroup\":\"Jonesboro, AR                                               \",\"marker\":{\"color\":\"#19d3f3\",\"symbol\":\"circle\"},\"mode\":\"markers\",\"name\":\"Jonesboro, AR                                               \",\"showlegend\":true,\"x\":[2023,2022,2021,2020,2019],\"xaxis\":\"x\",\"y\":[1023.0,1149.0,1147.0,1058.0,889.0],\"yaxis\":\"y\",\"type\":\"scattergl\"},{\"hovertemplate\":\"<b>%{hovertext}</b><br><br>Name=Joplin, MO                                                  <br>Year=%{x}<br>Total=%{y}<extra></extra>\",\"hovertext\":[\"Joplin, MO                                                  \",\"Joplin, MO                                                  \",\"Joplin, MO                                                  \",\"Joplin, MO                                                  \",\"Joplin, MO                                                  \"],\"legendgroup\":\"Joplin, MO                                                  \",\"marker\":{\"color\":\"#FF6692\",\"symbol\":\"circle\"},\"mode\":\"markers\",\"name\":\"Joplin, MO                                                  \",\"showlegend\":true,\"x\":[2023,2022,2021,2020,2019],\"xaxis\":\"x\",\"y\":[769.0,1197.0,991.0,973.0,704.0],\"yaxis\":\"y\",\"type\":\"scattergl\"},{\"hovertemplate\":\"<b>%{hovertext}</b><br><br>Name=Kahului-Wailuku-Lahaina, HI                                 <br>Year=%{x}<br>Total=%{y}<extra></extra>\",\"hovertext\":[\"Kahului-Wailuku-Lahaina, HI                                 \",\"Kahului-Wailuku-Lahaina, HI                                 \",\"Kahului-Wailuku-Lahaina, HI                                 \",\"Kahului-Wailuku-Lahaina, HI                                 \",\"Kahului-Wailuku-Lahaina, HI                                 \"],\"legendgroup\":\"Kahului-Wailuku-Lahaina, HI                                 \",\"marker\":{\"color\":\"#B6E880\",\"symbol\":\"circle\"},\"mode\":\"markers\",\"name\":\"Kahului-Wailuku-Lahaina, HI                                 \",\"showlegend\":true,\"x\":[2023,2022,2021,2020,2019],\"xaxis\":\"x\",\"y\":[606.0,684.0,880.0,526.0,657.0],\"yaxis\":\"y\",\"type\":\"scattergl\"},{\"hovertemplate\":\"<b>%{hovertext}</b><br><br>Name=Kalamazoo-Portage, MI                                       <br>Year=%{x}<br>Total=%{y}<extra></extra>\",\"hovertext\":[\"Kalamazoo-Portage, MI                                       \",\"Kalamazoo-Portage, MI                                       \",\"Kalamazoo-Portage, MI                                       \",\"Kalamazoo-Portage, MI                                       \",\"Kalamazoo-Portage, MI                                       \"],\"legendgroup\":\"Kalamazoo-Portage, MI                                       \",\"marker\":{\"color\":\"#FF97FF\",\"symbol\":\"circle\"},\"mode\":\"markers\",\"name\":\"Kalamazoo-Portage, MI                                       \",\"showlegend\":true,\"x\":[2023,2022,2021,2020,2019],\"xaxis\":\"x\",\"y\":[709.0,457.0,419.0,496.0,642.0],\"yaxis\":\"y\",\"type\":\"scattergl\"},{\"hovertemplate\":\"<b>%{hovertext}</b><br><br>Name=Kankakee, IL                                                <br>Year=%{x}<br>Total=%{y}<extra></extra>\",\"hovertext\":[\"Kankakee, IL                                                \",\"Kankakee, IL                                                \",\"Kankakee, IL                                                \",\"Kankakee, IL                                                \",\"Kankakee, IL                                                \"],\"legendgroup\":\"Kankakee, IL                                                \",\"marker\":{\"color\":\"#FECB52\",\"symbol\":\"circle\"},\"mode\":\"markers\",\"name\":\"Kankakee, IL                                                \",\"showlegend\":true,\"x\":[2023,2022,2021,2020,2019],\"xaxis\":\"x\",\"y\":[60.0,116.0,140.0,93.0,85.0],\"yaxis\":\"y\",\"type\":\"scattergl\"},{\"hovertemplate\":\"<b>%{hovertext}</b><br><br>Name=Kansas City, MO-KS                                          <br>Year=%{x}<br>Total=%{y}<extra></extra>\",\"hovertext\":[\"Kansas City, MO-KS                                          \",\"Kansas City, MO-KS                                          \",\"Kansas City, MO-KS                                          \",\"Kansas City, MO-KS                                          \",\"Kansas City, MO-KS                                          \"],\"legendgroup\":\"Kansas City, MO-KS                                          \",\"marker\":{\"color\":\"#636efa\",\"symbol\":\"circle\"},\"mode\":\"markers\",\"name\":\"Kansas City, MO-KS                                          \",\"showlegend\":true,\"x\":[2023,2022,2021,2020,2019],\"xaxis\":\"x\",\"y\":[7473.0,11219.0,11254.0,10728.0,9347.0],\"yaxis\":\"y\",\"type\":\"scattergl\"},{\"hovertemplate\":\"<b>%{hovertext}</b><br><br>Name=Kennewick-Richland, WA                                      <br>Year=%{x}<br>Total=%{y}<extra></extra>\",\"hovertext\":[\"Kennewick-Richland, WA                                      \",\"Kennewick-Richland, WA                                      \",\"Kennewick-Richland, WA                                      \",\"Kennewick-Richland, WA                                      \",\"Kennewick-Richland, WA                                      \"],\"legendgroup\":\"Kennewick-Richland, WA                                      \",\"marker\":{\"color\":\"#EF553B\",\"symbol\":\"circle\"},\"mode\":\"markers\",\"name\":\"Kennewick-Richland, WA                                      \",\"showlegend\":true,\"x\":[2023,2022,2021,2020,2019],\"xaxis\":\"x\",\"y\":[2059.0,1886.0,2149.0,1965.0,2141.0],\"yaxis\":\"y\",\"type\":\"scattergl\"},{\"hovertemplate\":\"<b>%{hovertext}</b><br><br>Name=Killeen-Temple, TX                                          <br>Year=%{x}<br>Total=%{y}<extra></extra>\",\"hovertext\":[\"Killeen-Temple, TX                                          \",\"Killeen-Temple, TX                                          \",\"Killeen-Temple, TX                                          \",\"Killeen-Temple, TX                                          \",\"Killeen-Temple, TX                                          \"],\"legendgroup\":\"Killeen-Temple, TX                                          \",\"marker\":{\"color\":\"#00cc96\",\"symbol\":\"circle\"},\"mode\":\"markers\",\"name\":\"Killeen-Temple, TX                                          \",\"showlegend\":true,\"x\":[2023,2022,2021,2020,2019],\"xaxis\":\"x\",\"y\":[3523.0,4016.0,4312.0,3629.0,2579.0],\"yaxis\":\"y\",\"type\":\"scattergl\"},{\"hovertemplate\":\"<b>%{hovertext}</b><br><br>Name=Kingsport-Bristol, TN-VA                                    <br>Year=%{x}<br>Total=%{y}<extra></extra>\",\"hovertext\":[\"Kingsport-Bristol, TN-VA                                    \",\"Kingsport-Bristol, TN-VA                                    \",\"Kingsport-Bristol, TN-VA                                    \",\"Kingsport-Bristol, TN-VA                                    \",\"Kingsport-Bristol, TN-VA                                    \"],\"legendgroup\":\"Kingsport-Bristol, TN-VA                                    \",\"marker\":{\"color\":\"#ab63fa\",\"symbol\":\"circle\"},\"mode\":\"markers\",\"name\":\"Kingsport-Bristol, TN-VA                                    \",\"showlegend\":true,\"x\":[2023,2022,2021,2020,2019],\"xaxis\":\"x\",\"y\":[803.0,939.0,679.0,734.0,597.0],\"yaxis\":\"y\",\"type\":\"scattergl\"},{\"hovertemplate\":\"<b>%{hovertext}</b><br><br>Name=Kingston, NY                                                <br>Year=%{x}<br>Total=%{y}<extra></extra>\",\"hovertext\":[\"Kingston, NY                                                \",\"Kingston, NY                                                \",\"Kingston, NY                                                \",\"Kingston, NY                                                \",\"Kingston, NY                                                \"],\"legendgroup\":\"Kingston, NY                                                \",\"marker\":{\"color\":\"#FFA15A\",\"symbol\":\"circle\"},\"mode\":\"markers\",\"name\":\"Kingston, NY                                                \",\"showlegend\":true,\"x\":[2023,2022,2021,2020,2019],\"xaxis\":\"x\",\"y\":[347.0,446.0,342.0,265.0,389.0],\"yaxis\":\"y\",\"type\":\"scattergl\"},{\"hovertemplate\":\"<b>%{hovertext}</b><br><br>Name=Knoxville, TN                                               <br>Year=%{x}<br>Total=%{y}<extra></extra>\",\"hovertext\":[\"Knoxville, TN                                               \",\"Knoxville, TN                                               \",\"Knoxville, TN                                               \",\"Knoxville, TN                                               \",\"Knoxville, TN                                               \"],\"legendgroup\":\"Knoxville, TN                                               \",\"marker\":{\"color\":\"#19d3f3\",\"symbol\":\"circle\"},\"mode\":\"markers\",\"name\":\"Knoxville, TN                                               \",\"showlegend\":true,\"x\":[2023,2022,2021,2020,2019],\"xaxis\":\"x\",\"y\":[6380.0,4838.0,5990.0,5396.0,3947.0],\"yaxis\":\"y\",\"type\":\"scattergl\"},{\"hovertemplate\":\"<b>%{hovertext}</b><br><br>Name=Kokomo, IN                                                  <br>Year=%{x}<br>Total=%{y}<extra></extra>\",\"hovertext\":[\"Kokomo, IN                                                  \",\"Kokomo, IN                                                  \",\"Kokomo, IN                                                  \",\"Kokomo, IN                                                  \",\"Kokomo, IN                                                  \"],\"legendgroup\":\"Kokomo, IN                                                  \",\"marker\":{\"color\":\"#FF6692\",\"symbol\":\"circle\"},\"mode\":\"markers\",\"name\":\"Kokomo, IN                                                  \",\"showlegend\":true,\"x\":[2023,2022,2021,2020,2019],\"xaxis\":\"x\",\"y\":[144.0,164.0,190.0,162.0,239.0],\"yaxis\":\"y\",\"type\":\"scattergl\"},{\"hovertemplate\":\"<b>%{hovertext}</b><br><br>Name=La Crosse-Onalaska, WI-MN                                   <br>Year=%{x}<br>Total=%{y}<extra></extra>\",\"hovertext\":[\"La Crosse-Onalaska, WI-MN                                   \",\"La Crosse-Onalaska, WI-MN                                   \",\"La Crosse-Onalaska, WI-MN                                   \",\"La Crosse-Onalaska, WI-MN                                   \",\"La Crosse-Onalaska, WI-MN                                   \"],\"legendgroup\":\"La Crosse-Onalaska, WI-MN                                   \",\"marker\":{\"color\":\"#B6E880\",\"symbol\":\"circle\"},\"mode\":\"markers\",\"name\":\"La Crosse-Onalaska, WI-MN                                   \",\"showlegend\":true,\"x\":[2023,2022,2021,2020,2019],\"xaxis\":\"x\",\"y\":[469.0,401.0,694.0,379.0,541.0],\"yaxis\":\"y\",\"type\":\"scattergl\"},{\"hovertemplate\":\"<b>%{hovertext}</b><br><br>Name=Lafayette, LA                                               <br>Year=%{x}<br>Total=%{y}<extra></extra>\",\"hovertext\":[\"Lafayette, LA                                               \",\"Lafayette, LA                                               \",\"Lafayette, LA                                               \",\"Lafayette, LA                                               \",\"Lafayette, LA                                               \"],\"legendgroup\":\"Lafayette, LA                                               \",\"marker\":{\"color\":\"#FF97FF\",\"symbol\":\"circle\"},\"mode\":\"markers\",\"name\":\"Lafayette, LA                                               \",\"showlegend\":true,\"x\":[2023,2022,2021,2020,2019],\"xaxis\":\"x\",\"y\":[2389.0,2071.0,3044.0,2550.0,1666.0],\"yaxis\":\"y\",\"type\":\"scattergl\"},{\"hovertemplate\":\"<b>%{hovertext}</b><br><br>Name=Lafayette-West Lafayette, IN                                <br>Year=%{x}<br>Total=%{y}<extra></extra>\",\"hovertext\":[\"Lafayette-West Lafayette, IN                                \",\"Lafayette-West Lafayette, IN                                \",\"Lafayette-West Lafayette, IN                                \",\"Lafayette-West Lafayette, IN                                \",\"Lafayette-West Lafayette, IN                                \"],\"legendgroup\":\"Lafayette-West Lafayette, IN                                \",\"marker\":{\"color\":\"#FECB52\",\"symbol\":\"circle\"},\"mode\":\"markers\",\"name\":\"Lafayette-West Lafayette, IN                                \",\"showlegend\":true,\"x\":[2023,2022,2021,2020,2019],\"xaxis\":\"x\",\"y\":[2105.0,1538.0,1212.0,1397.0,1350.0],\"yaxis\":\"y\",\"type\":\"scattergl\"},{\"hovertemplate\":\"<b>%{hovertext}</b><br><br>Name=Lake Charles, LA                                            <br>Year=%{x}<br>Total=%{y}<extra></extra>\",\"hovertext\":[\"Lake Charles, LA                                            \",\"Lake Charles, LA                                            \",\"Lake Charles, LA                                            \",\"Lake Charles, LA                                            \",\"Lake Charles, LA                                            \"],\"legendgroup\":\"Lake Charles, LA                                            \",\"marker\":{\"color\":\"#636efa\",\"symbol\":\"circle\"},\"mode\":\"markers\",\"name\":\"Lake Charles, LA                                            \",\"showlegend\":true,\"x\":[2023,2022,2021,2020,2019],\"xaxis\":\"x\",\"y\":[1016.0,1122.0,1064.0,1230.0,1386.0],\"yaxis\":\"y\",\"type\":\"scattergl\"},{\"hovertemplate\":\"<b>%{hovertext}</b><br><br>Name=Lake Havasu City-Kingman, AZ                                <br>Year=%{x}<br>Total=%{y}<extra></extra>\",\"hovertext\":[\"Lake Havasu City-Kingman, AZ                                \",\"Lake Havasu City-Kingman, AZ                                \",\"Lake Havasu City-Kingman, AZ                                \",\"Lake Havasu City-Kingman, AZ                                \",\"Lake Havasu City-Kingman, AZ                                \"],\"legendgroup\":\"Lake Havasu City-Kingman, AZ                                \",\"marker\":{\"color\":\"#EF553B\",\"symbol\":\"circle\"},\"mode\":\"markers\",\"name\":\"Lake Havasu City-Kingman, AZ                                \",\"showlegend\":true,\"x\":[2023,2022,2021,2020,2019],\"xaxis\":\"x\",\"y\":[2174.0,2079.0,1637.0,1403.0,1111.0],\"yaxis\":\"y\",\"type\":\"scattergl\"},{\"hovertemplate\":\"<b>%{hovertext}</b><br><br>Name=Lakeland-Winter Haven, FL                                   <br>Year=%{x}<br>Total=%{y}<extra></extra>\",\"hovertext\":[\"Lakeland-Winter Haven, FL                                   \",\"Lakeland-Winter Haven, FL                                   \",\"Lakeland-Winter Haven, FL                                   \",\"Lakeland-Winter Haven, FL                                   \",\"Lakeland-Winter Haven, FL                                   \"],\"legendgroup\":\"Lakeland-Winter Haven, FL                                   \",\"marker\":{\"color\":\"#00cc96\",\"symbol\":\"circle\"},\"mode\":\"markers\",\"name\":\"Lakeland-Winter Haven, FL                                   \",\"showlegend\":true,\"x\":[2023,2022,2021,2020,2019],\"xaxis\":\"x\",\"y\":[12513.0,12211.0,13071.0,9492.0,8726.0],\"yaxis\":\"y\",\"type\":\"scattergl\"},{\"hovertemplate\":\"<b>%{hovertext}</b><br><br>Name=Lancaster, PA                                               <br>Year=%{x}<br>Total=%{y}<extra></extra>\",\"hovertext\":[\"Lancaster, PA                                               \",\"Lancaster, PA                                               \",\"Lancaster, PA                                               \",\"Lancaster, PA                                               \",\"Lancaster, PA                                               \"],\"legendgroup\":\"Lancaster, PA                                               \",\"marker\":{\"color\":\"#ab63fa\",\"symbol\":\"circle\"},\"mode\":\"markers\",\"name\":\"Lancaster, PA                                               \",\"showlegend\":true,\"x\":[2023,2022,2021,2020,2019],\"xaxis\":\"x\",\"y\":[1366.0,1429.0,1039.0,1338.0,1496.0],\"yaxis\":\"y\",\"type\":\"scattergl\"},{\"hovertemplate\":\"<b>%{hovertext}</b><br><br>Name=Lansing-East Lansing, MI                                    <br>Year=%{x}<br>Total=%{y}<extra></extra>\",\"hovertext\":[\"Lansing-East Lansing, MI                                    \",\"Lansing-East Lansing, MI                                    \",\"Lansing-East Lansing, MI                                    \",\"Lansing-East Lansing, MI                                    \",\"Lansing-East Lansing, MI                                    \"],\"legendgroup\":\"Lansing-East Lansing, MI                                    \",\"marker\":{\"color\":\"#FFA15A\",\"symbol\":\"circle\"},\"mode\":\"markers\",\"name\":\"Lansing-East Lansing, MI                                    \",\"showlegend\":true,\"x\":[2023,2022,2021,2020,2019],\"xaxis\":\"x\",\"y\":[952.0,972.0,1016.0,1100.0,1026.0],\"yaxis\":\"y\",\"type\":\"scattergl\"},{\"hovertemplate\":\"<b>%{hovertext}</b><br><br>Name=Laredo, TX                                                  <br>Year=%{x}<br>Total=%{y}<extra></extra>\",\"hovertext\":[\"Laredo, TX                                                  \",\"Laredo, TX                                                  \",\"Laredo, TX                                                  \",\"Laredo, TX                                                  \",\"Laredo, TX                                                  \"],\"legendgroup\":\"Laredo, TX                                                  \",\"marker\":{\"color\":\"#19d3f3\",\"symbol\":\"circle\"},\"mode\":\"markers\",\"name\":\"Laredo, TX                                                  \",\"showlegend\":true,\"x\":[2023,2022,2021,2020,2019],\"xaxis\":\"x\",\"y\":[1221.0,1272.0,1684.0,1447.0,1602.0],\"yaxis\":\"y\",\"type\":\"scattergl\"},{\"hovertemplate\":\"<b>%{hovertext}</b><br><br>Name=Las Cruces, NM                                              <br>Year=%{x}<br>Total=%{y}<extra></extra>\",\"hovertext\":[\"Las Cruces, NM                                              \",\"Las Cruces, NM                                              \",\"Las Cruces, NM                                              \",\"Las Cruces, NM                                              \",\"Las Cruces, NM                                              \"],\"legendgroup\":\"Las Cruces, NM                                              \",\"marker\":{\"color\":\"#FF6692\",\"symbol\":\"circle\"},\"mode\":\"markers\",\"name\":\"Las Cruces, NM                                              \",\"showlegend\":true,\"x\":[2023,2022,2021,2020,2019],\"xaxis\":\"x\",\"y\":[873.0,1105.0,1338.0,1109.0,978.0],\"yaxis\":\"y\",\"type\":\"scattergl\"},{\"hovertemplate\":\"<b>%{hovertext}</b><br><br>Name=Las Vegas-Henderson-Paradise, NV                            <br>Year=%{x}<br>Total=%{y}<extra></extra>\",\"hovertext\":[\"Las Vegas-Henderson-Paradise, NV                            \",\"Las Vegas-Henderson-Paradise, NV                            \",\"Las Vegas-Henderson-Paradise, NV                            \",\"Las Vegas-Henderson-Paradise, NV                            \",\"Las Vegas-Henderson-Paradise, NV                            \"],\"legendgroup\":\"Las Vegas-Henderson-Paradise, NV                            \",\"marker\":{\"color\":\"#B6E880\",\"symbol\":\"circle\"},\"mode\":\"markers\",\"name\":\"Las Vegas-Henderson-Paradise, NV                            \",\"showlegend\":true,\"x\":[2023,2022,2021,2020,2019],\"xaxis\":\"x\",\"y\":[13073.0,13066.0,16307.0,14100.0,13903.0],\"yaxis\":\"y\",\"type\":\"scattergl\"},{\"hovertemplate\":\"<b>%{hovertext}</b><br><br>Name=Lawrence, KS                                                <br>Year=%{x}<br>Total=%{y}<extra></extra>\",\"hovertext\":[\"Lawrence, KS                                                \",\"Lawrence, KS                                                \",\"Lawrence, KS                                                \",\"Lawrence, KS                                                \",\"Lawrence, KS                                                \"],\"legendgroup\":\"Lawrence, KS                                                \",\"marker\":{\"color\":\"#FF97FF\",\"symbol\":\"circle\"},\"mode\":\"markers\",\"name\":\"Lawrence, KS                                                \",\"showlegend\":true,\"x\":[2023,2022,2021,2020,2019],\"xaxis\":\"x\",\"y\":[223.0,401.0,518.0,414.0,455.0],\"yaxis\":\"y\",\"type\":\"scattergl\"},{\"hovertemplate\":\"<b>%{hovertext}</b><br><br>Name=Lawton, OK                                                  <br>Year=%{x}<br>Total=%{y}<extra></extra>\",\"hovertext\":[\"Lawton, OK                                                  \",\"Lawton, OK                                                  \",\"Lawton, OK                                                  \",\"Lawton, OK                                                  \",\"Lawton, OK                                                  \"],\"legendgroup\":\"Lawton, OK                                                  \",\"marker\":{\"color\":\"#FECB52\",\"symbol\":\"circle\"},\"mode\":\"markers\",\"name\":\"Lawton, OK                                                  \",\"showlegend\":true,\"x\":[2023,2022,2021,2020,2019],\"xaxis\":\"x\",\"y\":[153.0,79.0,117.0,103.0,67.0],\"yaxis\":\"y\",\"type\":\"scattergl\"},{\"hovertemplate\":\"<b>%{hovertext}</b><br><br>Name=Lebanon, PA                                                 <br>Year=%{x}<br>Total=%{y}<extra></extra>\",\"hovertext\":[\"Lebanon, PA                                                 \",\"Lebanon, PA                                                 \",\"Lebanon, PA                                                 \",\"Lebanon, PA                                                 \",\"Lebanon, PA                                                 \"],\"legendgroup\":\"Lebanon, PA                                                 \",\"marker\":{\"color\":\"#636efa\",\"symbol\":\"circle\"},\"mode\":\"markers\",\"name\":\"Lebanon, PA                                                 \",\"showlegend\":true,\"x\":[2023,2022,2021,2020,2019],\"xaxis\":\"x\",\"y\":[253.0,364.0,507.0,434.0,322.0],\"yaxis\":\"y\",\"type\":\"scattergl\"},{\"hovertemplate\":\"<b>%{hovertext}</b><br><br>Name=Lewiston, ID-WA                                             <br>Year=%{x}<br>Total=%{y}<extra></extra>\",\"hovertext\":[\"Lewiston, ID-WA                                             \",\"Lewiston, ID-WA                                             \",\"Lewiston, ID-WA                                             \",\"Lewiston, ID-WA                                             \",\"Lewiston, ID-WA                                             \"],\"legendgroup\":\"Lewiston, ID-WA                                             \",\"marker\":{\"color\":\"#EF553B\",\"symbol\":\"circle\"},\"mode\":\"markers\",\"name\":\"Lewiston, ID-WA                                             \",\"showlegend\":true,\"x\":[2023,2022,2021,2020,2019],\"xaxis\":\"x\",\"y\":[137.0,134.0,127.0,260.0,181.0],\"yaxis\":\"y\",\"type\":\"scattergl\"},{\"hovertemplate\":\"<b>%{hovertext}</b><br><br>Name=Lewiston-Auburn, ME                                         <br>Year=%{x}<br>Total=%{y}<extra></extra>\",\"hovertext\":[\"Lewiston-Auburn, ME                                         \",\"Lewiston-Auburn, ME                                         \",\"Lewiston-Auburn, ME                                         \",\"Lewiston-Auburn, ME                                         \",\"Lewiston-Auburn, ME                                         \"],\"legendgroup\":\"Lewiston-Auburn, ME                                         \",\"marker\":{\"color\":\"#00cc96\",\"symbol\":\"circle\"},\"mode\":\"markers\",\"name\":\"Lewiston-Auburn, ME                                         \",\"showlegend\":true,\"x\":[2023,2022,2021,2020,2019],\"xaxis\":\"x\",\"y\":[319.0,484.0,221.0,275.0,228.0],\"yaxis\":\"y\",\"type\":\"scattergl\"},{\"hovertemplate\":\"<b>%{hovertext}</b><br><br>Name=Lexington-Fayette, KY                                       <br>Year=%{x}<br>Total=%{y}<extra></extra>\",\"hovertext\":[\"Lexington-Fayette, KY                                       \",\"Lexington-Fayette, KY                                       \",\"Lexington-Fayette, KY                                       \",\"Lexington-Fayette, KY                                       \",\"Lexington-Fayette, KY                                       \"],\"legendgroup\":\"Lexington-Fayette, KY                                       \",\"marker\":{\"color\":\"#ab63fa\",\"symbol\":\"circle\"},\"mode\":\"markers\",\"name\":\"Lexington-Fayette, KY                                       \",\"showlegend\":true,\"x\":[2023,2022,2021,2020,2019],\"xaxis\":\"x\",\"y\":[2365.0,2709.0,2943.0,2330.0,2246.0],\"yaxis\":\"y\",\"type\":\"scattergl\"},{\"hovertemplate\":\"<b>%{hovertext}</b><br><br>Name=Lima, OH                                                    <br>Year=%{x}<br>Total=%{y}<extra></extra>\",\"hovertext\":[\"Lima, OH                                                    \",\"Lima, OH                                                    \",\"Lima, OH                                                    \",\"Lima, OH                                                    \",\"Lima, OH                                                    \"],\"legendgroup\":\"Lima, OH                                                    \",\"marker\":{\"color\":\"#FFA15A\",\"symbol\":\"circle\"},\"mode\":\"markers\",\"name\":\"Lima, OH                                                    \",\"showlegend\":true,\"x\":[2023,2022,2021,2020,2019],\"xaxis\":\"x\",\"y\":[91.0,109.0,226.0,175.0,191.0],\"yaxis\":\"y\",\"type\":\"scattergl\"},{\"hovertemplate\":\"<b>%{hovertext}</b><br><br>Name=Lincoln, NE                                                 <br>Year=%{x}<br>Total=%{y}<extra></extra>\",\"hovertext\":[\"Lincoln, NE                                                 \",\"Lincoln, NE                                                 \",\"Lincoln, NE                                                 \",\"Lincoln, NE                                                 \",\"Lincoln, NE                                                 \"],\"legendgroup\":\"Lincoln, NE                                                 \",\"marker\":{\"color\":\"#19d3f3\",\"symbol\":\"circle\"},\"mode\":\"markers\",\"name\":\"Lincoln, NE                                                 \",\"showlegend\":true,\"x\":[2023,2022,2021,2020,2019],\"xaxis\":\"x\",\"y\":[2140.0,3349.0,2607.0,2038.0,2098.0],\"yaxis\":\"y\",\"type\":\"scattergl\"},{\"hovertemplate\":\"<b>%{hovertext}</b><br><br>Name=Little Rock-North Little Rock-Conway, AR                    <br>Year=%{x}<br>Total=%{y}<extra></extra>\",\"hovertext\":[\"Little Rock-North Little Rock-Conway, AR                    \",\"Little Rock-North Little Rock-Conway, AR                    \",\"Little Rock-North Little Rock-Conway, AR                    \",\"Little Rock-North Little Rock-Conway, AR                    \",\"Little Rock-North Little Rock-Conway, AR                    \"],\"legendgroup\":\"Little Rock-North Little Rock-Conway, AR                    \",\"marker\":{\"color\":\"#FF6692\",\"symbol\":\"circle\"},\"mode\":\"markers\",\"name\":\"Little Rock-North Little Rock-Conway, AR                    \",\"showlegend\":true,\"x\":[2023,2022,2021,2020,2019],\"xaxis\":\"x\",\"y\":[2655.0,3338.0,3635.0,3081.0,3005.0],\"yaxis\":\"y\",\"type\":\"scattergl\"},{\"hovertemplate\":\"<b>%{hovertext}</b><br><br>Name=Logan, UT-ID                                                <br>Year=%{x}<br>Total=%{y}<extra></extra>\",\"hovertext\":[\"Logan, UT-ID                                                \",\"Logan, UT-ID                                                \",\"Logan, UT-ID                                                \",\"Logan, UT-ID                                                \",\"Logan, UT-ID                                                \"],\"legendgroup\":\"Logan, UT-ID                                                \",\"marker\":{\"color\":\"#B6E880\",\"symbol\":\"circle\"},\"mode\":\"markers\",\"name\":\"Logan, UT-ID                                                \",\"showlegend\":true,\"x\":[2023,2022,2021,2020,2019],\"xaxis\":\"x\",\"y\":[1030.0,1108.0,1309.0,1701.0,1679.0],\"yaxis\":\"y\",\"type\":\"scattergl\"},{\"hovertemplate\":\"<b>%{hovertext}</b><br><br>Name=Longview, TX                                                <br>Year=%{x}<br>Total=%{y}<extra></extra>\",\"hovertext\":[\"Longview, TX                                                \",\"Longview, TX                                                \",\"Longview, TX                                                \",\"Longview, TX                                                \",\"Longview, TX                                                \"],\"legendgroup\":\"Longview, TX                                                \",\"marker\":{\"color\":\"#FF97FF\",\"symbol\":\"circle\"},\"mode\":\"markers\",\"name\":\"Longview, TX                                                \",\"showlegend\":true,\"x\":[2023,2022,2021,2020,2019],\"xaxis\":\"x\",\"y\":[546.0,745.0,579.0,387.0,276.0],\"yaxis\":\"y\",\"type\":\"scattergl\"},{\"hovertemplate\":\"<b>%{hovertext}</b><br><br>Name=Longview, WA                                                <br>Year=%{x}<br>Total=%{y}<extra></extra>\",\"hovertext\":[\"Longview, WA                                                \",\"Longview, WA                                                \",\"Longview, WA                                                \",\"Longview, WA                                                \",\"Longview, WA                                                \"],\"legendgroup\":\"Longview, WA                                                \",\"marker\":{\"color\":\"#FECB52\",\"symbol\":\"circle\"},\"mode\":\"markers\",\"name\":\"Longview, WA                                                \",\"showlegend\":true,\"x\":[2023,2022,2021,2020,2019],\"xaxis\":\"x\",\"y\":[305.0,585.0,348.0,346.0,351.0],\"yaxis\":\"y\",\"type\":\"scattergl\"},{\"hovertemplate\":\"<b>%{hovertext}</b><br><br>Name=Los Angeles-Long Beach-Anaheim, CA                          <br>Year=%{x}<br>Total=%{y}<extra></extra>\",\"hovertext\":[\"Los Angeles-Long Beach-Anaheim, CA                          \",\"Los Angeles-Long Beach-Anaheim, CA                          \",\"Los Angeles-Long Beach-Anaheim, CA                          \",\"Los Angeles-Long Beach-Anaheim, CA                          \",\"Los Angeles-Long Beach-Anaheim, CA                          \"],\"legendgroup\":\"Los Angeles-Long Beach-Anaheim, CA                          \",\"marker\":{\"color\":\"#636efa\",\"symbol\":\"circle\"},\"mode\":\"markers\",\"name\":\"Los Angeles-Long Beach-Anaheim, CA                          \",\"showlegend\":true,\"x\":[2023,2022,2021,2020,2019],\"xaxis\":\"x\",\"y\":[30691.0,32510.0,31151.0,26930.0,30554.0],\"yaxis\":\"y\",\"type\":\"scattergl\"},{\"hovertemplate\":\"<b>%{hovertext}</b><br><br>Name=Louisville-Jefferson County, KY-IN                          <br>Year=%{x}<br>Total=%{y}<extra></extra>\",\"hovertext\":[\"Louisville-Jefferson County, KY-IN                          \",\"Louisville-Jefferson County, KY-IN                          \",\"Louisville-Jefferson County, KY-IN                          \",\"Louisville-Jefferson County, KY-IN                          \",\"Louisville-Jefferson County, KY-IN                          \"],\"legendgroup\":\"Louisville-Jefferson County, KY-IN                          \",\"marker\":{\"color\":\"#EF553B\",\"symbol\":\"circle\"},\"mode\":\"markers\",\"name\":\"Louisville-Jefferson County, KY-IN                          \",\"showlegend\":true,\"x\":[2023,2022,2021,2020,2019],\"xaxis\":\"x\",\"y\":[6810.0,5456.0,5508.0,4551.0,5766.0],\"yaxis\":\"y\",\"type\":\"scattergl\"},{\"hovertemplate\":\"<b>%{hovertext}</b><br><br>Name=Lubbock, TX                                                 <br>Year=%{x}<br>Total=%{y}<extra></extra>\",\"hovertext\":[\"Lubbock, TX                                                 \",\"Lubbock, TX                                                 \",\"Lubbock, TX                                                 \",\"Lubbock, TX                                                 \",\"Lubbock, TX                                                 \"],\"legendgroup\":\"Lubbock, TX                                                 \",\"marker\":{\"color\":\"#00cc96\",\"symbol\":\"circle\"},\"mode\":\"markers\",\"name\":\"Lubbock, TX                                                 \",\"showlegend\":true,\"x\":[2023,2022,2021,2020,2019],\"xaxis\":\"x\",\"y\":[2514.0,3279.0,3404.0,3857.0,2254.0],\"yaxis\":\"y\",\"type\":\"scattergl\"},{\"hovertemplate\":\"<b>%{hovertext}</b><br><br>Name=Lynchburg, VA                                               <br>Year=%{x}<br>Total=%{y}<extra></extra>\",\"hovertext\":[\"Lynchburg, VA                                               \",\"Lynchburg, VA                                               \",\"Lynchburg, VA                                               \",\"Lynchburg, VA                                               \",\"Lynchburg, VA                                               \"],\"legendgroup\":\"Lynchburg, VA                                               \",\"marker\":{\"color\":\"#ab63fa\",\"symbol\":\"circle\"},\"mode\":\"markers\",\"name\":\"Lynchburg, VA                                               \",\"showlegend\":true,\"x\":[2023,2022,2021,2020,2019],\"xaxis\":\"x\",\"y\":[1092.0,805.0,692.0,920.0,582.0],\"yaxis\":\"y\",\"type\":\"scattergl\"},{\"hovertemplate\":\"<b>%{hovertext}</b><br><br>Name=Macon-Bibb County, GA                                       <br>Year=%{x}<br>Total=%{y}<extra></extra>\",\"hovertext\":[\"Macon-Bibb County, GA                                       \",\"Macon-Bibb County, GA                                       \",\"Macon-Bibb County, GA                                       \",\"Macon-Bibb County, GA                                       \"],\"legendgroup\":\"Macon-Bibb County, GA                                       \",\"marker\":{\"color\":\"#FFA15A\",\"symbol\":\"circle\"},\"mode\":\"markers\",\"name\":\"Macon-Bibb County, GA                                       \",\"showlegend\":true,\"x\":[2023,2022,2021,2020],\"xaxis\":\"x\",\"y\":[567.0,622.0,563.0,522.0],\"yaxis\":\"y\",\"type\":\"scattergl\"},{\"hovertemplate\":\"<b>%{hovertext}</b><br><br>Name=Madera, CA                                                  <br>Year=%{x}<br>Total=%{y}<extra></extra>\",\"hovertext\":[\"Madera, CA                                                  \",\"Madera, CA                                                  \",\"Madera, CA                                                  \",\"Madera, CA                                                  \",\"Madera, CA                                                  \"],\"legendgroup\":\"Madera, CA                                                  \",\"marker\":{\"color\":\"#19d3f3\",\"symbol\":\"circle\"},\"mode\":\"markers\",\"name\":\"Madera, CA                                                  \",\"showlegend\":true,\"x\":[2023,2022,2021,2020,2019],\"xaxis\":\"x\",\"y\":[1109.0,966.0,1066.0,852.0,644.0],\"yaxis\":\"y\",\"type\":\"scattergl\"},{\"hovertemplate\":\"<b>%{hovertext}</b><br><br>Name=Madison, WI                                                 <br>Year=%{x}<br>Total=%{y}<extra></extra>\",\"hovertext\":[\"Madison, WI                                                 \",\"Madison, WI                                                 \",\"Madison, WI                                                 \",\"Madison, WI                                                 \",\"Madison, WI                                                 \"],\"legendgroup\":\"Madison, WI                                                 \",\"marker\":{\"color\":\"#FF6692\",\"symbol\":\"circle\"},\"mode\":\"markers\",\"name\":\"Madison, WI                                                 \",\"showlegend\":true,\"x\":[2023,2022,2021,2020,2019],\"xaxis\":\"x\",\"y\":[5255.0,5579.0,7194.0,5268.0,3343.0],\"yaxis\":\"y\",\"type\":\"scattergl\"},{\"hovertemplate\":\"<b>%{hovertext}</b><br><br>Name=Manchester-Nashua, NH                                       <br>Year=%{x}<br>Total=%{y}<extra></extra>\",\"hovertext\":[\"Manchester-Nashua, NH                                       \",\"Manchester-Nashua, NH                                       \",\"Manchester-Nashua, NH                                       \",\"Manchester-Nashua, NH                                       \",\"Manchester-Nashua, NH                                       \"],\"legendgroup\":\"Manchester-Nashua, NH                                       \",\"marker\":{\"color\":\"#B6E880\",\"symbol\":\"circle\"},\"mode\":\"markers\",\"name\":\"Manchester-Nashua, NH                                       \",\"showlegend\":true,\"x\":[2023,2022,2021,2020,2019],\"xaxis\":\"x\",\"y\":[1382.0,847.0,1342.0,868.0,1252.0],\"yaxis\":\"y\",\"type\":\"scattergl\"},{\"hovertemplate\":\"<b>%{hovertext}</b><br><br>Name=Manhattan, KS                                               <br>Year=%{x}<br>Total=%{y}<extra></extra>\",\"hovertext\":[\"Manhattan, KS                                               \",\"Manhattan, KS                                               \",\"Manhattan, KS                                               \",\"Manhattan, KS                                               \",\"Manhattan, KS                                               \"],\"legendgroup\":\"Manhattan, KS                                               \",\"marker\":{\"color\":\"#FF97FF\",\"symbol\":\"circle\"},\"mode\":\"markers\",\"name\":\"Manhattan, KS                                               \",\"showlegend\":true,\"x\":[2023,2022,2021,2020,2019],\"xaxis\":\"x\",\"y\":[263.0,301.0,278.0,405.0,336.0],\"yaxis\":\"y\",\"type\":\"scattergl\"},{\"hovertemplate\":\"<b>%{hovertext}</b><br><br>Name=Mankato, MN                                                 <br>Year=%{x}<br>Total=%{y}<extra></extra>\",\"hovertext\":[\"Mankato, MN                                                 \",\"Mankato, MN                                                 \",\"Mankato, MN                                                 \",\"Mankato, MN                                                 \",\"Mankato, MN                                                 \"],\"legendgroup\":\"Mankato, MN                                                 \",\"marker\":{\"color\":\"#FECB52\",\"symbol\":\"circle\"},\"mode\":\"markers\",\"name\":\"Mankato, MN                                                 \",\"showlegend\":true,\"x\":[2023,2022,2021,2020,2019],\"xaxis\":\"x\",\"y\":[588.0,609.0,480.0,450.0,237.0],\"yaxis\":\"y\",\"type\":\"scattergl\"},{\"hovertemplate\":\"<b>%{hovertext}</b><br><br>Name=Mansfield, OH                                               <br>Year=%{x}<br>Total=%{y}<extra></extra>\",\"hovertext\":[\"Mansfield, OH                                               \",\"Mansfield, OH                                               \",\"Mansfield, OH                                               \",\"Mansfield, OH                                               \",\"Mansfield, OH                                               \"],\"legendgroup\":\"Mansfield, OH                                               \",\"marker\":{\"color\":\"#636efa\",\"symbol\":\"circle\"},\"mode\":\"markers\",\"name\":\"Mansfield, OH                                               \",\"showlegend\":true,\"x\":[2023,2022,2021,2020,2019],\"xaxis\":\"x\",\"y\":[132.0,247.0,115.0,205.0,61.0],\"yaxis\":\"y\",\"type\":\"scattergl\"},{\"hovertemplate\":\"<b>%{hovertext}</b><br><br>Name=McAllen-Edinburg-Mission, TX                                <br>Year=%{x}<br>Total=%{y}<extra></extra>\",\"hovertext\":[\"McAllen-Edinburg-Mission, TX                                \",\"McAllen-Edinburg-Mission, TX                                \",\"McAllen-Edinburg-Mission, TX                                \",\"McAllen-Edinburg-Mission, TX                                \",\"McAllen-Edinburg-Mission, TX                                \"],\"legendgroup\":\"McAllen-Edinburg-Mission, TX                                \",\"marker\":{\"color\":\"#EF553B\",\"symbol\":\"circle\"},\"mode\":\"markers\",\"name\":\"McAllen-Edinburg-Mission, TX                                \",\"showlegend\":true,\"x\":[2023,2022,2021,2020,2019],\"xaxis\":\"x\",\"y\":[6625.0,5926.0,6055.0,4894.0,5370.0],\"yaxis\":\"y\",\"type\":\"scattergl\"},{\"hovertemplate\":\"<b>%{hovertext}</b><br><br>Name=Medford, OR                                                 <br>Year=%{x}<br>Total=%{y}<extra></extra>\",\"hovertext\":[\"Medford, OR                                                 \",\"Medford, OR                                                 \",\"Medford, OR                                                 \",\"Medford, OR                                                 \",\"Medford, OR                                                 \"],\"legendgroup\":\"Medford, OR                                                 \",\"marker\":{\"color\":\"#00cc96\",\"symbol\":\"circle\"},\"mode\":\"markers\",\"name\":\"Medford, OR                                                 \",\"showlegend\":true,\"x\":[2023,2022,2021,2020,2019],\"xaxis\":\"x\",\"y\":[1384.0,1080.0,1142.0,886.0,921.0],\"yaxis\":\"y\",\"type\":\"scattergl\"},{\"hovertemplate\":\"<b>%{hovertext}</b><br><br>Name=Memphis, TN-MS-AR                                           <br>Year=%{x}<br>Total=%{y}<extra></extra>\",\"hovertext\":[\"Memphis, TN-MS-AR                                           \",\"Memphis, TN-MS-AR                                           \",\"Memphis, TN-MS-AR                                           \",\"Memphis, TN-MS-AR                                           \",\"Memphis, TN-MS-AR                                           \"],\"legendgroup\":\"Memphis, TN-MS-AR                                           \",\"marker\":{\"color\":\"#ab63fa\",\"symbol\":\"circle\"},\"mode\":\"markers\",\"name\":\"Memphis, TN-MS-AR                                           \",\"showlegend\":true,\"x\":[2023,2022,2021,2020,2019],\"xaxis\":\"x\",\"y\":[4104.0,4302.0,5205.0,4797.0,3674.0],\"yaxis\":\"y\",\"type\":\"scattergl\"},{\"hovertemplate\":\"<b>%{hovertext}</b><br><br>Name=Merced, CA                                                  <br>Year=%{x}<br>Total=%{y}<extra></extra>\",\"hovertext\":[\"Merced, CA                                                  \",\"Merced, CA                                                  \",\"Merced, CA                                                  \",\"Merced, CA                                                  \",\"Merced, CA                                                  \"],\"legendgroup\":\"Merced, CA                                                  \",\"marker\":{\"color\":\"#FFA15A\",\"symbol\":\"circle\"},\"mode\":\"markers\",\"name\":\"Merced, CA                                                  \",\"showlegend\":true,\"x\":[2023,2022,2021,2020,2019],\"xaxis\":\"x\",\"y\":[404.0,730.0,1017.0,1019.0,948.0],\"yaxis\":\"y\",\"type\":\"scattergl\"},{\"hovertemplate\":\"<b>%{hovertext}</b><br><br>Name=Miami-Fort Lauderdale-Pompano Beach, FL                     <br>Year=%{x}<br>Total=%{y}<extra></extra>\",\"hovertext\":[\"Miami-Fort Lauderdale-Pompano Beach, FL                     \",\"Miami-Fort Lauderdale-Pompano Beach, FL                     \",\"Miami-Fort Lauderdale-Pompano Beach, FL                     \",\"Miami-Fort Lauderdale-Pompano Beach, FL                     \",\"Miami-Fort Lauderdale-Pompano Beach, FL                     \"],\"legendgroup\":\"Miami-Fort Lauderdale-Pompano Beach, FL                     \",\"marker\":{\"color\":\"#19d3f3\",\"symbol\":\"circle\"},\"mode\":\"markers\",\"name\":\"Miami-Fort Lauderdale-Pompano Beach, FL                     \",\"showlegend\":true,\"x\":[2023,2022,2021,2020,2019],\"xaxis\":\"x\",\"y\":[21329.0,20021.0,25313.0,21758.0,20688.0],\"yaxis\":\"y\",\"type\":\"scattergl\"},{\"hovertemplate\":\"<b>%{hovertext}</b><br><br>Name=Michigan City-La Porte, IN                                  <br>Year=%{x}<br>Total=%{y}<extra></extra>\",\"hovertext\":[\"Michigan City-La Porte, IN                                  \",\"Michigan City-La Porte, IN                                  \",\"Michigan City-La Porte, IN                                  \",\"Michigan City-La Porte, IN                                  \",\"Michigan City-La Porte, IN                                  \"],\"legendgroup\":\"Michigan City-La Porte, IN                                  \",\"marker\":{\"color\":\"#FF6692\",\"symbol\":\"circle\"},\"mode\":\"markers\",\"name\":\"Michigan City-La Porte, IN                                  \",\"showlegend\":true,\"x\":[2023,2022,2021,2020,2019],\"xaxis\":\"x\",\"y\":[235.0,322.0,138.0,120.0,115.0],\"yaxis\":\"y\",\"type\":\"scattergl\"},{\"hovertemplate\":\"<b>%{hovertext}</b><br><br>Name=Midland, MI                                                 <br>Year=%{x}<br>Total=%{y}<extra></extra>\",\"hovertext\":[\"Midland, MI                                                 \",\"Midland, MI                                                 \",\"Midland, MI                                                 \",\"Midland, MI                                                 \",\"Midland, MI                                                 \"],\"legendgroup\":\"Midland, MI                                                 \",\"marker\":{\"color\":\"#B6E880\",\"symbol\":\"circle\"},\"mode\":\"markers\",\"name\":\"Midland, MI                                                 \",\"showlegend\":true,\"x\":[2023,2022,2021,2020,2019],\"xaxis\":\"x\",\"y\":[137.0,130.0,159.0,123.0,114.0],\"yaxis\":\"y\",\"type\":\"scattergl\"},{\"hovertemplate\":\"<b>%{hovertext}</b><br><br>Name=Midland, TX                                                 <br>Year=%{x}<br>Total=%{y}<extra></extra>\",\"hovertext\":[\"Midland, TX                                                 \",\"Midland, TX                                                 \",\"Midland, TX                                                 \",\"Midland, TX                                                 \",\"Midland, TX                                                 \"],\"legendgroup\":\"Midland, TX                                                 \",\"marker\":{\"color\":\"#FF97FF\",\"symbol\":\"circle\"},\"mode\":\"markers\",\"name\":\"Midland, TX                                                 \",\"showlegend\":true,\"x\":[2023,2022,2021,2020,2019],\"xaxis\":\"x\",\"y\":[818.0,594.0,872.0,1292.0,1306.0],\"yaxis\":\"y\",\"type\":\"scattergl\"},{\"hovertemplate\":\"<b>%{hovertext}</b><br><br>Name=Milwaukee-Waukesha, WI                                      <br>Year=%{x}<br>Total=%{y}<extra></extra>\",\"hovertext\":[\"Milwaukee-Waukesha, WI                                      \",\"Milwaukee-Waukesha, WI                                      \",\"Milwaukee-Waukesha, WI                                      \",\"Milwaukee-Waukesha, WI                                      \",\"Milwaukee-Waukesha, WI                                      \"],\"legendgroup\":\"Milwaukee-Waukesha, WI                                      \",\"marker\":{\"color\":\"#FECB52\",\"symbol\":\"circle\"},\"mode\":\"markers\",\"name\":\"Milwaukee-Waukesha, WI                                      \",\"showlegend\":true,\"x\":[2023,2022,2021,2020,2019],\"xaxis\":\"x\",\"y\":[2517.0,3166.0,2929.0,2698.0,2419.0],\"yaxis\":\"y\",\"type\":\"scattergl\"},{\"hovertemplate\":\"<b>%{hovertext}</b><br><br>Name=Minneapolis-St. Paul-Bloomington, MN-WI                     <br>Year=%{x}<br>Total=%{y}<extra></extra>\",\"hovertext\":[\"Minneapolis-St. Paul-Bloomington, MN-WI                     \",\"Minneapolis-St. Paul-Bloomington, MN-WI                     \",\"Minneapolis-St. Paul-Bloomington, MN-WI                     \",\"Minneapolis-St. Paul-Bloomington, MN-WI                     \",\"Minneapolis-St. Paul-Bloomington, MN-WI                     \"],\"legendgroup\":\"Minneapolis-St. Paul-Bloomington, MN-WI                     \",\"marker\":{\"color\":\"#636efa\",\"symbol\":\"circle\"},\"mode\":\"markers\",\"name\":\"Minneapolis-St. Paul-Bloomington, MN-WI                     \",\"showlegend\":true,\"x\":[2023,2022,2021,2020,2019],\"xaxis\":\"x\",\"y\":[17943.0,23725.0,26077.0,22341.0,22414.0],\"yaxis\":\"y\",\"type\":\"scattergl\"},{\"hovertemplate\":\"<b>%{hovertext}</b><br><br>Name=Missoula, MT                                                <br>Year=%{x}<br>Total=%{y}<extra></extra>\",\"hovertext\":[\"Missoula, MT                                                \",\"Missoula, MT                                                \",\"Missoula, MT                                                \",\"Missoula, MT                                                \",\"Missoula, MT                                                \"],\"legendgroup\":\"Missoula, MT                                                \",\"marker\":{\"color\":\"#EF553B\",\"symbol\":\"circle\"},\"mode\":\"markers\",\"name\":\"Missoula, MT                                                \",\"showlegend\":true,\"x\":[2023,2022,2021,2020,2019],\"xaxis\":\"x\",\"y\":[656.0,1078.0,1798.0,789.0,664.0],\"yaxis\":\"y\",\"type\":\"scattergl\"},{\"hovertemplate\":\"<b>%{hovertext}</b><br><br>Name=Mobile, AL                                                  <br>Year=%{x}<br>Total=%{y}<extra></extra>\",\"hovertext\":[\"Mobile, AL                                                  \",\"Mobile, AL                                                  \",\"Mobile, AL                                                  \",\"Mobile, AL                                                  \",\"Mobile, AL                                                  \"],\"legendgroup\":\"Mobile, AL                                                  \",\"marker\":{\"color\":\"#00cc96\",\"symbol\":\"circle\"},\"mode\":\"markers\",\"name\":\"Mobile, AL                                                  \",\"showlegend\":true,\"x\":[2023,2022,2021,2020,2019],\"xaxis\":\"x\",\"y\":[905.0,750.0,1022.0,937.0,746.0],\"yaxis\":\"y\",\"type\":\"scattergl\"},{\"hovertemplate\":\"<b>%{hovertext}</b><br><br>Name=Modesto, CA                                                 <br>Year=%{x}<br>Total=%{y}<extra></extra>\",\"hovertext\":[\"Modesto, CA                                                 \",\"Modesto, CA                                                 \",\"Modesto, CA                                                 \",\"Modesto, CA                                                 \",\"Modesto, CA                                                 \"],\"legendgroup\":\"Modesto, CA                                                 \",\"marker\":{\"color\":\"#ab63fa\",\"symbol\":\"circle\"},\"mode\":\"markers\",\"name\":\"Modesto, CA                                                 \",\"showlegend\":true,\"x\":[2023,2022,2021,2020,2019],\"xaxis\":\"x\",\"y\":[805.0,674.0,811.0,552.0,699.0],\"yaxis\":\"y\",\"type\":\"scattergl\"},{\"hovertemplate\":\"<b>%{hovertext}</b><br><br>Name=Monroe, LA                                                  <br>Year=%{x}<br>Total=%{y}<extra></extra>\",\"hovertext\":[\"Monroe, LA                                                  \",\"Monroe, LA                                                  \",\"Monroe, LA                                                  \",\"Monroe, LA                                                  \",\"Monroe, LA                                                  \"],\"legendgroup\":\"Monroe, LA                                                  \",\"marker\":{\"color\":\"#FFA15A\",\"symbol\":\"circle\"},\"mode\":\"markers\",\"name\":\"Monroe, LA                                                  \",\"showlegend\":true,\"x\":[2023,2022,2021,2020,2019],\"xaxis\":\"x\",\"y\":[410.0,489.0,620.0,466.0,516.0],\"yaxis\":\"y\",\"type\":\"scattergl\"},{\"hovertemplate\":\"<b>%{hovertext}</b><br><br>Name=Monroe, MI                                                  <br>Year=%{x}<br>Total=%{y}<extra></extra>\",\"hovertext\":[\"Monroe, MI                                                  \",\"Monroe, MI                                                  \",\"Monroe, MI                                                  \",\"Monroe, MI                                                  \",\"Monroe, MI                                                  \"],\"legendgroup\":\"Monroe, MI                                                  \",\"marker\":{\"color\":\"#19d3f3\",\"symbol\":\"circle\"},\"mode\":\"markers\",\"name\":\"Monroe, MI                                                  \",\"showlegend\":true,\"x\":[2023,2022,2021,2020,2019],\"xaxis\":\"x\",\"y\":[253.0,266.0,265.0,367.0,323.0],\"yaxis\":\"y\",\"type\":\"scattergl\"},{\"hovertemplate\":\"<b>%{hovertext}</b><br><br>Name=Montgomery, AL                                              <br>Year=%{x}<br>Total=%{y}<extra></extra>\",\"hovertext\":[\"Montgomery, AL                                              \",\"Montgomery, AL                                              \",\"Montgomery, AL                                              \",\"Montgomery, AL                                              \",\"Montgomery, AL                                              \"],\"legendgroup\":\"Montgomery, AL                                              \",\"marker\":{\"color\":\"#FF6692\",\"symbol\":\"circle\"},\"mode\":\"markers\",\"name\":\"Montgomery, AL                                              \",\"showlegend\":true,\"x\":[2023,2022,2021,2020,2019],\"xaxis\":\"x\",\"y\":[837.0,797.0,1014.0,979.0,775.0],\"yaxis\":\"y\",\"type\":\"scattergl\"},{\"hovertemplate\":\"<b>%{hovertext}</b><br><br>Name=Morgantown, WV                                              <br>Year=%{x}<br>Total=%{y}<extra></extra>\",\"hovertext\":[\"Morgantown, WV                                              \",\"Morgantown, WV                                              \",\"Morgantown, WV                                              \",\"Morgantown, WV                                              \",\"Morgantown, WV                                              \"],\"legendgroup\":\"Morgantown, WV                                              \",\"marker\":{\"color\":\"#B6E880\",\"symbol\":\"circle\"},\"mode\":\"markers\",\"name\":\"Morgantown, WV                                              \",\"showlegend\":true,\"x\":[2023,2022,2021,2020,2019],\"xaxis\":\"x\",\"y\":[16.0,11.0,21.0,25.0,34.0],\"yaxis\":\"y\",\"type\":\"scattergl\"},{\"hovertemplate\":\"<b>%{hovertext}</b><br><br>Name=Morristown, TN                                              <br>Year=%{x}<br>Total=%{y}<extra></extra>\",\"hovertext\":[\"Morristown, TN                                              \",\"Morristown, TN                                              \",\"Morristown, TN                                              \",\"Morristown, TN                                              \",\"Morristown, TN                                              \"],\"legendgroup\":\"Morristown, TN                                              \",\"marker\":{\"color\":\"#FF97FF\",\"symbol\":\"circle\"},\"mode\":\"markers\",\"name\":\"Morristown, TN                                              \",\"showlegend\":true,\"x\":[2023,2022,2021,2020,2019],\"xaxis\":\"x\",\"y\":[833.0,969.0,993.0,548.0,454.0],\"yaxis\":\"y\",\"type\":\"scattergl\"},{\"hovertemplate\":\"<b>%{hovertext}</b><br><br>Name=Mount Vernon-Anacortes, WA                                  <br>Year=%{x}<br>Total=%{y}<extra></extra>\",\"hovertext\":[\"Mount Vernon-Anacortes, WA                                  \",\"Mount Vernon-Anacortes, WA                                  \",\"Mount Vernon-Anacortes, WA                                  \",\"Mount Vernon-Anacortes, WA                                  \",\"Mount Vernon-Anacortes, WA                                  \"],\"legendgroup\":\"Mount Vernon-Anacortes, WA                                  \",\"marker\":{\"color\":\"#FECB52\",\"symbol\":\"circle\"},\"mode\":\"markers\",\"name\":\"Mount Vernon-Anacortes, WA                                  \",\"showlegend\":true,\"x\":[2023,2022,2021,2020,2019],\"xaxis\":\"x\",\"y\":[487.0,579.0,914.0,561.0,518.0],\"yaxis\":\"y\",\"type\":\"scattergl\"},{\"hovertemplate\":\"<b>%{hovertext}</b><br><br>Name=Muncie, IN                                                  <br>Year=%{x}<br>Total=%{y}<extra></extra>\",\"hovertext\":[\"Muncie, IN                                                  \",\"Muncie, IN                                                  \",\"Muncie, IN                                                  \",\"Muncie, IN                                                  \",\"Muncie, IN                                                  \"],\"legendgroup\":\"Muncie, IN                                                  \",\"marker\":{\"color\":\"#636efa\",\"symbol\":\"circle\"},\"mode\":\"markers\",\"name\":\"Muncie, IN                                                  \",\"showlegend\":true,\"x\":[2023,2022,2021,2020,2019],\"xaxis\":\"x\",\"y\":[94.0,201.0,113.0,171.0,58.0],\"yaxis\":\"y\",\"type\":\"scattergl\"},{\"hovertemplate\":\"<b>%{hovertext}</b><br><br>Name=Muskegon, MI                                                <br>Year=%{x}<br>Total=%{y}<extra></extra>\",\"hovertext\":[\"Muskegon, MI                                                \",\"Muskegon, MI                                                \",\"Muskegon, MI                                                \",\"Muskegon, MI                                                \",\"Muskegon, MI                                                \"],\"legendgroup\":\"Muskegon, MI                                                \",\"marker\":{\"color\":\"#EF553B\",\"symbol\":\"circle\"},\"mode\":\"markers\",\"name\":\"Muskegon, MI                                                \",\"showlegend\":true,\"x\":[2023,2022,2021,2020,2019],\"xaxis\":\"x\",\"y\":[344.0,548.0,328.0,268.0,339.0],\"yaxis\":\"y\",\"type\":\"scattergl\"},{\"hovertemplate\":\"<b>%{hovertext}</b><br><br>Name=Myrtle Beach-Conway-North Myrtle Beach, SC-NC               <br>Year=%{x}<br>Total=%{y}<extra></extra>\",\"hovertext\":[\"Myrtle Beach-Conway-North Myrtle Beach, SC-NC               \",\"Myrtle Beach-Conway-North Myrtle Beach, SC-NC               \",\"Myrtle Beach-Conway-North Myrtle Beach, SC-NC               \",\"Myrtle Beach-Conway-North Myrtle Beach, SC-NC               \",\"Myrtle Beach-Conway-North Myrtle Beach, SC-NC               \"],\"legendgroup\":\"Myrtle Beach-Conway-North Myrtle Beach, SC-NC               \",\"marker\":{\"color\":\"#00cc96\",\"symbol\":\"circle\"},\"mode\":\"markers\",\"name\":\"Myrtle Beach-Conway-North Myrtle Beach, SC-NC               \",\"showlegend\":true,\"x\":[2023,2022,2021,2020,2019],\"xaxis\":\"x\",\"y\":[13072.0,11983.0,12219.0,9139.0,7840.0],\"yaxis\":\"y\",\"type\":\"scattergl\"},{\"hovertemplate\":\"<b>%{hovertext}</b><br><br>Name=Napa, CA                                                    <br>Year=%{x}<br>Total=%{y}<extra></extra>\",\"hovertext\":[\"Napa, CA                                                    \",\"Napa, CA                                                    \",\"Napa, CA                                                    \",\"Napa, CA                                                    \",\"Napa, CA                                                    \"],\"legendgroup\":\"Napa, CA                                                    \",\"marker\":{\"color\":\"#ab63fa\",\"symbol\":\"circle\"},\"mode\":\"markers\",\"name\":\"Napa, CA                                                    \",\"showlegend\":true,\"x\":[2023,2022,2021,2020,2019],\"xaxis\":\"x\",\"y\":[338.0,1100.0,1204.0,770.0,749.0],\"yaxis\":\"y\",\"type\":\"scattergl\"},{\"hovertemplate\":\"<b>%{hovertext}</b><br><br>Name=Naples-Marco Island, FL                                     <br>Year=%{x}<br>Total=%{y}<extra></extra>\",\"hovertext\":[\"Naples-Marco Island, FL                                     \",\"Naples-Marco Island, FL                                     \",\"Naples-Marco Island, FL                                     \",\"Naples-Marco Island, FL                                     \",\"Naples-Marco Island, FL                                     \"],\"legendgroup\":\"Naples-Marco Island, FL                                     \",\"marker\":{\"color\":\"#FFA15A\",\"symbol\":\"circle\"},\"mode\":\"markers\",\"name\":\"Naples-Marco Island, FL                                     \",\"showlegend\":true,\"x\":[2023,2022,2021,2020,2019],\"xaxis\":\"x\",\"y\":[3633.0,5517.0,6766.0,4473.0,3991.0],\"yaxis\":\"y\",\"type\":\"scattergl\"},{\"hovertemplate\":\"<b>%{hovertext}</b><br><br>Name=Nashville-Davidson--Murfreesboro--Franklin, TN              <br>Year=%{x}<br>Total=%{y}<extra></extra>\",\"hovertext\":[\"Nashville-Davidson--Murfreesboro--Franklin, TN              \",\"Nashville-Davidson--Murfreesboro--Franklin, TN              \",\"Nashville-Davidson--Murfreesboro--Franklin, TN              \",\"Nashville-Davidson--Murfreesboro--Franklin, TN              \",\"Nashville-Davidson--Murfreesboro--Franklin, TN              \"],\"legendgroup\":\"Nashville-Davidson--Murfreesboro--Franklin, TN              \",\"marker\":{\"color\":\"#19d3f3\",\"symbol\":\"circle\"},\"mode\":\"markers\",\"name\":\"Nashville-Davidson--Murfreesboro--Franklin, TN              \",\"showlegend\":true,\"x\":[2023,2022,2021,2020,2019],\"xaxis\":\"x\",\"y\":[23903.0,28192.0,32191.0,27158.0,22702.0],\"yaxis\":\"y\",\"type\":\"scattergl\"},{\"hovertemplate\":\"<b>%{hovertext}</b><br><br>Name=New Bern, NC                                                <br>Year=%{x}<br>Total=%{y}<extra></extra>\",\"hovertext\":[\"New Bern, NC                                                \",\"New Bern, NC                                                \",\"New Bern, NC                                                \",\"New Bern, NC                                                \",\"New Bern, NC                                                \"],\"legendgroup\":\"New Bern, NC                                                \",\"marker\":{\"color\":\"#FF6692\",\"symbol\":\"circle\"},\"mode\":\"markers\",\"name\":\"New Bern, NC                                                \",\"showlegend\":true,\"x\":[2023,2022,2021,2020,2019],\"xaxis\":\"x\",\"y\":[619.0,690.0,406.0,735.0,552.0],\"yaxis\":\"y\",\"type\":\"scattergl\"},{\"hovertemplate\":\"<b>%{hovertext}</b><br><br>Name=New Haven-Milford, CT                                       <br>Year=%{x}<br>Total=%{y}<extra></extra>\",\"hovertext\":[\"New Haven-Milford, CT                                       \",\"New Haven-Milford, CT                                       \",\"New Haven-Milford, CT                                       \",\"New Haven-Milford, CT                                       \",\"New Haven-Milford, CT                                       \"],\"legendgroup\":\"New Haven-Milford, CT                                       \",\"marker\":{\"color\":\"#B6E880\",\"symbol\":\"circle\"},\"mode\":\"markers\",\"name\":\"New Haven-Milford, CT                                       \",\"showlegend\":true,\"x\":[2023,2022,2021,2020,2019],\"xaxis\":\"x\",\"y\":[1652.0,1263.0,983.0,1373.0,1453.0],\"yaxis\":\"y\",\"type\":\"scattergl\"},{\"hovertemplate\":\"<b>%{hovertext}</b><br><br>Name=New Orleans-Metairie, LA                                    <br>Year=%{x}<br>Total=%{y}<extra></extra>\",\"hovertext\":[\"New Orleans-Metairie, LA                                    \",\"New Orleans-Metairie, LA                                    \",\"New Orleans-Metairie, LA                                    \",\"New Orleans-Metairie, LA                                    \",\"New Orleans-Metairie, LA                                    \"],\"legendgroup\":\"New Orleans-Metairie, LA                                    \",\"marker\":{\"color\":\"#FF97FF\",\"symbol\":\"circle\"},\"mode\":\"markers\",\"name\":\"New Orleans-Metairie, LA                                    \",\"showlegend\":true,\"x\":[2023,2022,2021,2020,2019],\"xaxis\":\"x\",\"y\":[3101.0,4166.0,5282.0,4348.0,4026.0],\"yaxis\":\"y\",\"type\":\"scattergl\"},{\"hovertemplate\":\"<b>%{hovertext}</b><br><br>Name=New York-Newark-Jersey City, NY-NJ-PA                       <br>Year=%{x}<br>Total=%{y}<extra></extra>\",\"hovertext\":[\"New York-Newark-Jersey City, NY-NJ-PA                       \",\"New York-Newark-Jersey City, NY-NJ-PA                       \",\"New York-Newark-Jersey City, NY-NJ-PA                       \",\"New York-Newark-Jersey City, NY-NJ-PA                       \",\"New York-Newark-Jersey City, NY-NJ-PA                       \"],\"legendgroup\":\"New York-Newark-Jersey City, NY-NJ-PA                       \",\"marker\":{\"color\":\"#FECB52\",\"symbol\":\"circle\"},\"mode\":\"markers\",\"name\":\"New York-Newark-Jersey City, NY-NJ-PA                       \",\"showlegend\":true,\"x\":[2023,2022,2021,2020,2019],\"xaxis\":\"x\",\"y\":[39941.0,58412.0,56661.0,54835.0,61168.0],\"yaxis\":\"y\",\"type\":\"scattergl\"},{\"hovertemplate\":\"<b>%{hovertext}</b><br><br>Name=Niles, MI                                                   <br>Year=%{x}<br>Total=%{y}<extra></extra>\",\"hovertext\":[\"Niles, MI                                                   \",\"Niles, MI                                                   \",\"Niles, MI                                                   \",\"Niles, MI                                                   \",\"Niles, MI                                                   \"],\"legendgroup\":\"Niles, MI                                                   \",\"marker\":{\"color\":\"#636efa\",\"symbol\":\"circle\"},\"mode\":\"markers\",\"name\":\"Niles, MI                                                   \",\"showlegend\":true,\"x\":[2023,2022,2021,2020,2019],\"xaxis\":\"x\",\"y\":[342.0,287.0,331.0,260.0,206.0],\"yaxis\":\"y\",\"type\":\"scattergl\"},{\"hovertemplate\":\"<b>%{hovertext}</b><br><br>Name=North Port-Sarasota-Bradenton, FL                           <br>Year=%{x}<br>Total=%{y}<extra></extra>\",\"hovertext\":[\"North Port-Sarasota-Bradenton, FL                           \",\"North Port-Sarasota-Bradenton, FL                           \",\"North Port-Sarasota-Bradenton, FL                           \",\"North Port-Sarasota-Bradenton, FL                           \",\"North Port-Sarasota-Bradenton, FL                           \"],\"legendgroup\":\"North Port-Sarasota-Bradenton, FL                           \",\"marker\":{\"color\":\"#EF553B\",\"symbol\":\"circle\"},\"mode\":\"markers\",\"name\":\"North Port-Sarasota-Bradenton, FL                           \",\"showlegend\":true,\"x\":[2023,2022,2021,2020,2019],\"xaxis\":\"x\",\"y\":[15919.0,15780.0,15924.0,9489.0,10009.0],\"yaxis\":\"y\",\"type\":\"scattergl\"},{\"hovertemplate\":\"<b>%{hovertext}</b><br><br>Name=Norwich-New London, CT                                      <br>Year=%{x}<br>Total=%{y}<extra></extra>\",\"hovertext\":[\"Norwich-New London, CT                                      \",\"Norwich-New London, CT                                      \",\"Norwich-New London, CT                                      \",\"Norwich-New London, CT                                      \",\"Norwich-New London, CT                                      \"],\"legendgroup\":\"Norwich-New London, CT                                      \",\"marker\":{\"color\":\"#00cc96\",\"symbol\":\"circle\"},\"mode\":\"markers\",\"name\":\"Norwich-New London, CT                                      \",\"showlegend\":true,\"x\":[2023,2022,2021,2020,2019],\"xaxis\":\"x\",\"y\":[346.0,445.0,456.0,456.0,537.0],\"yaxis\":\"y\",\"type\":\"scattergl\"},{\"hovertemplate\":\"<b>%{hovertext}</b><br><br>Name=Ocala, FL                                                   <br>Year=%{x}<br>Total=%{y}<extra></extra>\",\"hovertext\":[\"Ocala, FL                                                   \",\"Ocala, FL                                                   \",\"Ocala, FL                                                   \",\"Ocala, FL                                                   \",\"Ocala, FL                                                   \"],\"legendgroup\":\"Ocala, FL                                                   \",\"marker\":{\"color\":\"#ab63fa\",\"symbol\":\"circle\"},\"mode\":\"markers\",\"name\":\"Ocala, FL                                                   \",\"showlegend\":true,\"x\":[2023,2022,2021,2020,2019],\"xaxis\":\"x\",\"y\":[5197.0,6489.0,6229.0,3827.0,2367.0],\"yaxis\":\"y\",\"type\":\"scattergl\"},{\"hovertemplate\":\"<b>%{hovertext}</b><br><br>Name=Ocean City, NJ                                              <br>Year=%{x}<br>Total=%{y}<extra></extra>\",\"hovertext\":[\"Ocean City, NJ                                              \",\"Ocean City, NJ                                              \",\"Ocean City, NJ                                              \",\"Ocean City, NJ                                              \",\"Ocean City, NJ                                              \"],\"legendgroup\":\"Ocean City, NJ                                              \",\"marker\":{\"color\":\"#FFA15A\",\"symbol\":\"circle\"},\"mode\":\"markers\",\"name\":\"Ocean City, NJ                                              \",\"showlegend\":true,\"x\":[2023,2022,2021,2020,2019],\"xaxis\":\"x\",\"y\":[805.0,838.0,917.0,675.0,863.0],\"yaxis\":\"y\",\"type\":\"scattergl\"},{\"hovertemplate\":\"<b>%{hovertext}</b><br><br>Name=Odessa, TX                                                  <br>Year=%{x}<br>Total=%{y}<extra></extra>\",\"hovertext\":[\"Odessa, TX                                                  \",\"Odessa, TX                                                  \",\"Odessa, TX                                                  \",\"Odessa, TX                                                  \",\"Odessa, TX                                                  \"],\"legendgroup\":\"Odessa, TX                                                  \",\"marker\":{\"color\":\"#19d3f3\",\"symbol\":\"circle\"},\"mode\":\"markers\",\"name\":\"Odessa, TX                                                  \",\"showlegend\":true,\"x\":[2023,2022,2021,2020,2019],\"xaxis\":\"x\",\"y\":[829.0,888.0,1406.0,1188.0,1782.0],\"yaxis\":\"y\",\"type\":\"scattergl\"},{\"hovertemplate\":\"<b>%{hovertext}</b><br><br>Name=Ogden-Clearfield, UT                                        <br>Year=%{x}<br>Total=%{y}<extra></extra>\",\"hovertext\":[\"Ogden-Clearfield, UT                                        \",\"Ogden-Clearfield, UT                                        \",\"Ogden-Clearfield, UT                                        \",\"Ogden-Clearfield, UT                                        \",\"Ogden-Clearfield, UT                                        \"],\"legendgroup\":\"Ogden-Clearfield, UT                                        \",\"marker\":{\"color\":\"#FF6692\",\"symbol\":\"circle\"},\"mode\":\"markers\",\"name\":\"Ogden-Clearfield, UT                                        \",\"showlegend\":true,\"x\":[2023,2022,2021,2020,2019],\"xaxis\":\"x\",\"y\":[3323.0,5027.0,7482.0,5462.0,3895.0],\"yaxis\":\"y\",\"type\":\"scattergl\"},{\"hovertemplate\":\"<b>%{hovertext}</b><br><br>Name=Oklahoma City, OK                                           <br>Year=%{x}<br>Total=%{y}<extra></extra>\",\"hovertext\":[\"Oklahoma City, OK                                           \",\"Oklahoma City, OK                                           \",\"Oklahoma City, OK                                           \",\"Oklahoma City, OK                                           \",\"Oklahoma City, OK                                           \"],\"legendgroup\":\"Oklahoma City, OK                                           \",\"marker\":{\"color\":\"#B6E880\",\"symbol\":\"circle\"},\"mode\":\"markers\",\"name\":\"Oklahoma City, OK                                           \",\"showlegend\":true,\"x\":[2023,2022,2021,2020,2019],\"xaxis\":\"x\",\"y\":[6458.0,6911.0,8080.0,7431.0,6557.0],\"yaxis\":\"y\",\"type\":\"scattergl\"},{\"hovertemplate\":\"<b>%{hovertext}</b><br><br>Name=Olympia-Lacey-Tumwater, WA                                  <br>Year=%{x}<br>Total=%{y}<extra></extra>\",\"hovertext\":[\"Olympia-Lacey-Tumwater, WA                                  \",\"Olympia-Lacey-Tumwater, WA                                  \",\"Olympia-Lacey-Tumwater, WA                                  \",\"Olympia-Lacey-Tumwater, WA                                  \",\"Olympia-Lacey-Tumwater, WA                                  \"],\"legendgroup\":\"Olympia-Lacey-Tumwater, WA                                  \",\"marker\":{\"color\":\"#FF97FF\",\"symbol\":\"circle\"},\"mode\":\"markers\",\"name\":\"Olympia-Lacey-Tumwater, WA                                  \",\"showlegend\":true,\"x\":[2023,2022,2021,2020,2019],\"xaxis\":\"x\",\"y\":[1512.0,1538.0,2054.0,1161.0,1713.0],\"yaxis\":\"y\",\"type\":\"scattergl\"},{\"hovertemplate\":\"<b>%{hovertext}</b><br><br>Name=Omaha-Council Bluffs, NE-IA                                 <br>Year=%{x}<br>Total=%{y}<extra></extra>\",\"hovertext\":[\"Omaha-Council Bluffs, NE-IA                                 \",\"Omaha-Council Bluffs, NE-IA                                 \",\"Omaha-Council Bluffs, NE-IA                                 \",\"Omaha-Council Bluffs, NE-IA                                 \",\"Omaha-Council Bluffs, NE-IA                                 \"],\"legendgroup\":\"Omaha-Council Bluffs, NE-IA                                 \",\"marker\":{\"color\":\"#FECB52\",\"symbol\":\"circle\"},\"mode\":\"markers\",\"name\":\"Omaha-Council Bluffs, NE-IA                                 \",\"showlegend\":true,\"x\":[2023,2022,2021,2020,2019],\"xaxis\":\"x\",\"y\":[4705.0,6120.0,6382.0,5473.0,4100.0],\"yaxis\":\"y\",\"type\":\"scattergl\"},{\"hovertemplate\":\"<b>%{hovertext}</b><br><br>Name=Orlando-Kissimmee-Sanford, FL                               <br>Year=%{x}<br>Total=%{y}<extra></extra>\",\"hovertext\":[\"Orlando-Kissimmee-Sanford, FL                               \",\"Orlando-Kissimmee-Sanford, FL                               \",\"Orlando-Kissimmee-Sanford, FL                               \",\"Orlando-Kissimmee-Sanford, FL                               \",\"Orlando-Kissimmee-Sanford, FL                               \"],\"legendgroup\":\"Orlando-Kissimmee-Sanford, FL                               \",\"marker\":{\"color\":\"#636efa\",\"symbol\":\"circle\"},\"mode\":\"markers\",\"name\":\"Orlando-Kissimmee-Sanford, FL                               \",\"showlegend\":true,\"x\":[2023,2022,2021,2020,2019],\"xaxis\":\"x\",\"y\":[25774.0,28683.0,30618.0,24499.0,24470.0],\"yaxis\":\"y\",\"type\":\"scattergl\"},{\"hovertemplate\":\"<b>%{hovertext}</b><br><br>Name=Oshkosh-Neenah, WI                                          <br>Year=%{x}<br>Total=%{y}<extra></extra>\",\"hovertext\":[\"Oshkosh-Neenah, WI                                          \",\"Oshkosh-Neenah, WI                                          \",\"Oshkosh-Neenah, WI                                          \",\"Oshkosh-Neenah, WI                                          \",\"Oshkosh-Neenah, WI                                          \"],\"legendgroup\":\"Oshkosh-Neenah, WI                                          \",\"marker\":{\"color\":\"#EF553B\",\"symbol\":\"circle\"},\"mode\":\"markers\",\"name\":\"Oshkosh-Neenah, WI                                          \",\"showlegend\":true,\"x\":[2023,2022,2021,2020,2019],\"xaxis\":\"x\",\"y\":[423.0,459.0,948.0,554.0,334.0],\"yaxis\":\"y\",\"type\":\"scattergl\"},{\"hovertemplate\":\"<b>%{hovertext}</b><br><br>Name=Owensboro, KY                                               <br>Year=%{x}<br>Total=%{y}<extra></extra>\",\"hovertext\":[\"Owensboro, KY                                               \",\"Owensboro, KY                                               \",\"Owensboro, KY                                               \",\"Owensboro, KY                                               \",\"Owensboro, KY                                               \"],\"legendgroup\":\"Owensboro, KY                                               \",\"marker\":{\"color\":\"#00cc96\",\"symbol\":\"circle\"},\"mode\":\"markers\",\"name\":\"Owensboro, KY                                               \",\"showlegend\":true,\"x\":[2023,2022,2021,2020,2019],\"xaxis\":\"x\",\"y\":[293.0,247.0,398.0,348.0,325.0],\"yaxis\":\"y\",\"type\":\"scattergl\"},{\"hovertemplate\":\"<b>%{hovertext}</b><br><br>Name=Oxnard-Thousand Oaks-Ventura, CA                            <br>Year=%{x}<br>Total=%{y}<extra></extra>\",\"hovertext\":[\"Oxnard-Thousand Oaks-Ventura, CA                            \",\"Oxnard-Thousand Oaks-Ventura, CA                            \",\"Oxnard-Thousand Oaks-Ventura, CA                            \",\"Oxnard-Thousand Oaks-Ventura, CA                            \",\"Oxnard-Thousand Oaks-Ventura, CA                            \"],\"legendgroup\":\"Oxnard-Thousand Oaks-Ventura, CA                            \",\"marker\":{\"color\":\"#ab63fa\",\"symbol\":\"circle\"},\"mode\":\"markers\",\"name\":\"Oxnard-Thousand Oaks-Ventura, CA                            \",\"showlegend\":true,\"x\":[2023,2022,2021,2020,2019],\"xaxis\":\"x\",\"y\":[1089.0,1368.0,1477.0,1501.0,1146.0],\"yaxis\":\"y\",\"type\":\"scattergl\"},{\"hovertemplate\":\"<b>%{hovertext}</b><br><br>Name=Palm Bay-Melbourne-Titusville, FL                           <br>Year=%{x}<br>Total=%{y}<extra></extra>\",\"hovertext\":[\"Palm Bay-Melbourne-Titusville, FL                           \",\"Palm Bay-Melbourne-Titusville, FL                           \",\"Palm Bay-Melbourne-Titusville, FL                           \",\"Palm Bay-Melbourne-Titusville, FL                           \",\"Palm Bay-Melbourne-Titusville, FL                           \"],\"legendgroup\":\"Palm Bay-Melbourne-Titusville, FL                           \",\"marker\":{\"color\":\"#FFA15A\",\"symbol\":\"circle\"},\"mode\":\"markers\",\"name\":\"Palm Bay-Melbourne-Titusville, FL                           \",\"showlegend\":true,\"x\":[2023,2022,2021,2020,2019],\"xaxis\":\"x\",\"y\":[6534.0,5258.0,5174.0,4739.0,4202.0],\"yaxis\":\"y\",\"type\":\"scattergl\"},{\"hovertemplate\":\"<b>%{hovertext}</b><br><br>Name=Panama City, FL                                             <br>Year=%{x}<br>Total=%{y}<extra></extra>\",\"hovertext\":[\"Panama City, FL                                             \",\"Panama City, FL                                             \",\"Panama City, FL                                             \",\"Panama City, FL                                             \",\"Panama City, FL                                             \"],\"legendgroup\":\"Panama City, FL                                             \",\"marker\":{\"color\":\"#19d3f3\",\"symbol\":\"circle\"},\"mode\":\"markers\",\"name\":\"Panama City, FL                                             \",\"showlegend\":true,\"x\":[2023,2022,2021,2020,2019],\"xaxis\":\"x\",\"y\":[2317.0,2288.0,2610.0,2846.0,1795.0],\"yaxis\":\"y\",\"type\":\"scattergl\"},{\"hovertemplate\":\"<b>%{hovertext}</b><br><br>Name=Parkersburg-Vienna, WV                                      <br>Year=%{x}<br>Total=%{y}<extra></extra>\",\"hovertext\":[\"Parkersburg-Vienna, WV                                      \",\"Parkersburg-Vienna, WV                                      \",\"Parkersburg-Vienna, WV                                      \",\"Parkersburg-Vienna, WV                                      \",\"Parkersburg-Vienna, WV                                      \"],\"legendgroup\":\"Parkersburg-Vienna, WV                                      \",\"marker\":{\"color\":\"#FF6692\",\"symbol\":\"circle\"},\"mode\":\"markers\",\"name\":\"Parkersburg-Vienna, WV                                      \",\"showlegend\":true,\"x\":[2023,2022,2021,2020,2019],\"xaxis\":\"x\",\"y\":[96.0,66.0,109.0,83.0,142.0],\"yaxis\":\"y\",\"type\":\"scattergl\"},{\"hovertemplate\":\"<b>%{hovertext}</b><br><br>Name=Pensacola-Ferry Pass-Brent, FL                              <br>Year=%{x}<br>Total=%{y}<extra></extra>\",\"hovertext\":[\"Pensacola-Ferry Pass-Brent, FL                              \",\"Pensacola-Ferry Pass-Brent, FL                              \",\"Pensacola-Ferry Pass-Brent, FL                              \",\"Pensacola-Ferry Pass-Brent, FL                              \",\"Pensacola-Ferry Pass-Brent, FL                              \"],\"legendgroup\":\"Pensacola-Ferry Pass-Brent, FL                              \",\"marker\":{\"color\":\"#B6E880\",\"symbol\":\"circle\"},\"mode\":\"markers\",\"name\":\"Pensacola-Ferry Pass-Brent, FL                              \",\"showlegend\":true,\"x\":[2023,2022,2021,2020,2019],\"xaxis\":\"x\",\"y\":[2824.0,3519.0,4051.0,4391.0,3222.0],\"yaxis\":\"y\",\"type\":\"scattergl\"},{\"hovertemplate\":\"<b>%{hovertext}</b><br><br>Name=Peoria, IL                                                  <br>Year=%{x}<br>Total=%{y}<extra></extra>\",\"hovertext\":[\"Peoria, IL                                                  \",\"Peoria, IL                                                  \",\"Peoria, IL                                                  \",\"Peoria, IL                                                  \",\"Peoria, IL                                                  \"],\"legendgroup\":\"Peoria, IL                                                  \",\"marker\":{\"color\":\"#FF97FF\",\"symbol\":\"circle\"},\"mode\":\"markers\",\"name\":\"Peoria, IL                                                  \",\"showlegend\":true,\"x\":[2023,2022,2021,2020,2019],\"xaxis\":\"x\",\"y\":[202.0,291.0,379.0,272.0,308.0],\"yaxis\":\"y\",\"type\":\"scattergl\"},{\"hovertemplate\":\"<b>%{hovertext}</b><br><br>Name=Philadelphia-Camden-Wilmington, PA-NJ-DE-MD                 <br>Year=%{x}<br>Total=%{y}<extra></extra>\",\"hovertext\":[\"Philadelphia-Camden-Wilmington, PA-NJ-DE-MD                 \",\"Philadelphia-Camden-Wilmington, PA-NJ-DE-MD                 \",\"Philadelphia-Camden-Wilmington, PA-NJ-DE-MD                 \",\"Philadelphia-Camden-Wilmington, PA-NJ-DE-MD                 \",\"Philadelphia-Camden-Wilmington, PA-NJ-DE-MD                 \"],\"legendgroup\":\"Philadelphia-Camden-Wilmington, PA-NJ-DE-MD                 \",\"marker\":{\"color\":\"#FECB52\",\"symbol\":\"circle\"},\"mode\":\"markers\",\"name\":\"Philadelphia-Camden-Wilmington, PA-NJ-DE-MD                 \",\"showlegend\":true,\"x\":[2023,2022,2021,2020,2019],\"xaxis\":\"x\",\"y\":[13476.0,14413.0,36307.0,16201.0,15607.0],\"yaxis\":\"y\",\"type\":\"scattergl\"},{\"hovertemplate\":\"<b>%{hovertext}</b><br><br>Name=Phoenix-Mesa-Chandler, AZ                                   <br>Year=%{x}<br>Total=%{y}<extra></extra>\",\"hovertext\":[\"Phoenix-Mesa-Chandler, AZ                                   \",\"Phoenix-Mesa-Chandler, AZ                                   \",\"Phoenix-Mesa-Chandler, AZ                                   \",\"Phoenix-Mesa-Chandler, AZ                                   \",\"Phoenix-Mesa-Chandler, AZ                                   \"],\"legendgroup\":\"Phoenix-Mesa-Chandler, AZ                                   \",\"marker\":{\"color\":\"#636efa\",\"symbol\":\"circle\"},\"mode\":\"markers\",\"name\":\"Phoenix-Mesa-Chandler, AZ                                   \",\"showlegend\":true,\"x\":[2023,2022,2021,2020,2019],\"xaxis\":\"x\",\"y\":[45637.0,47267.0,50581.0,48219.0,35873.0],\"yaxis\":\"y\",\"type\":\"scattergl\"},{\"hovertemplate\":\"<b>%{hovertext}</b><br><br>Name=Pine Bluff, AR                                              <br>Year=%{x}<br>Total=%{y}<extra></extra>\",\"hovertext\":[\"Pine Bluff, AR                                              \",\"Pine Bluff, AR                                              \",\"Pine Bluff, AR                                              \",\"Pine Bluff, AR                                              \",\"Pine Bluff, AR                                              \"],\"legendgroup\":\"Pine Bluff, AR                                              \",\"marker\":{\"color\":\"#EF553B\",\"symbol\":\"circle\"},\"mode\":\"markers\",\"name\":\"Pine Bluff, AR                                              \",\"showlegend\":true,\"x\":[2023,2022,2021,2020,2019],\"xaxis\":\"x\",\"y\":[97.0,63.0,46.0,73.0,43.0],\"yaxis\":\"y\",\"type\":\"scattergl\"},{\"hovertemplate\":\"<b>%{hovertext}</b><br><br>Name=Pittsburgh, PA                                              <br>Year=%{x}<br>Total=%{y}<extra></extra>\",\"hovertext\":[\"Pittsburgh, PA                                              \",\"Pittsburgh, PA                                              \",\"Pittsburgh, PA                                              \",\"Pittsburgh, PA                                              \",\"Pittsburgh, PA                                              \"],\"legendgroup\":\"Pittsburgh, PA                                              \",\"marker\":{\"color\":\"#00cc96\",\"symbol\":\"circle\"},\"mode\":\"markers\",\"name\":\"Pittsburgh, PA                                              \",\"showlegend\":true,\"x\":[2023,2022,2021,2020,2019],\"xaxis\":\"x\",\"y\":[5423.0,5665.0,5223.0,4824.0,3984.0],\"yaxis\":\"y\",\"type\":\"scattergl\"},{\"hovertemplate\":\"<b>%{hovertext}</b><br><br>Name=Pittsfield, MA                                              <br>Year=%{x}<br>Total=%{y}<extra></extra>\",\"hovertext\":[\"Pittsfield, MA                                              \",\"Pittsfield, MA                                              \",\"Pittsfield, MA                                              \",\"Pittsfield, MA                                              \",\"Pittsfield, MA                                              \"],\"legendgroup\":\"Pittsfield, MA                                              \",\"marker\":{\"color\":\"#ab63fa\",\"symbol\":\"circle\"},\"mode\":\"markers\",\"name\":\"Pittsfield, MA                                              \",\"showlegend\":true,\"x\":[2023,2022,2021,2020,2019],\"xaxis\":\"x\",\"y\":[114.0,126.0,193.0,211.0,276.0],\"yaxis\":\"y\",\"type\":\"scattergl\"},{\"hovertemplate\":\"<b>%{hovertext}</b><br><br>Name=Pocatello, ID                                               <br>Year=%{x}<br>Total=%{y}<extra></extra>\",\"hovertext\":[\"Pocatello, ID                                               \",\"Pocatello, ID                                               \",\"Pocatello, ID                                               \",\"Pocatello, ID                                               \",\"Pocatello, ID                                               \"],\"legendgroup\":\"Pocatello, ID                                               \",\"marker\":{\"color\":\"#FFA15A\",\"symbol\":\"circle\"},\"mode\":\"markers\",\"name\":\"Pocatello, ID                                               \",\"showlegend\":true,\"x\":[2023,2022,2021,2020,2019],\"xaxis\":\"x\",\"y\":[344.0,542.0,510.0,772.0,315.0],\"yaxis\":\"y\",\"type\":\"scattergl\"},{\"hovertemplate\":\"<b>%{hovertext}</b><br><br>Name=Port St. Lucie, FL                                          <br>Year=%{x}<br>Total=%{y}<extra></extra>\",\"hovertext\":[\"Port St. Lucie, FL                                          \",\"Port St. Lucie, FL                                          \",\"Port St. Lucie, FL                                          \",\"Port St. Lucie, FL                                          \",\"Port St. Lucie, FL                                          \"],\"legendgroup\":\"Port St. Lucie, FL                                          \",\"marker\":{\"color\":\"#19d3f3\",\"symbol\":\"circle\"},\"mode\":\"markers\",\"name\":\"Port St. Lucie, FL                                          \",\"showlegend\":true,\"x\":[2023,2022,2021,2020,2019],\"xaxis\":\"x\",\"y\":[6137.0,7804.0,8403.0,5238.0,4277.0],\"yaxis\":\"y\",\"type\":\"scattergl\"},{\"hovertemplate\":\"<b>%{hovertext}</b><br><br>Name=Portland-South Portland, ME                                 <br>Year=%{x}<br>Total=%{y}<extra></extra>\",\"hovertext\":[\"Portland-South Portland, ME                                 \",\"Portland-South Portland, ME                                 \",\"Portland-South Portland, ME                                 \",\"Portland-South Portland, ME                                 \",\"Portland-South Portland, ME                                 \"],\"legendgroup\":\"Portland-South Portland, ME                                 \",\"marker\":{\"color\":\"#FF6692\",\"symbol\":\"circle\"},\"mode\":\"markers\",\"name\":\"Portland-South Portland, ME                                 \",\"showlegend\":true,\"x\":[2023,2022,2021,2020,2019],\"xaxis\":\"x\",\"y\":[2972.0,3764.0,3712.0,2855.0,2875.0],\"yaxis\":\"y\",\"type\":\"scattergl\"},{\"hovertemplate\":\"<b>%{hovertext}</b><br><br>Name=Portland-Vancouver-Hillsboro, OR-WA                         <br>Year=%{x}<br>Total=%{y}<extra></extra>\",\"hovertext\":[\"Portland-Vancouver-Hillsboro, OR-WA                         \",\"Portland-Vancouver-Hillsboro, OR-WA                         \",\"Portland-Vancouver-Hillsboro, OR-WA                         \",\"Portland-Vancouver-Hillsboro, OR-WA                         \",\"Portland-Vancouver-Hillsboro, OR-WA                         \"],\"legendgroup\":\"Portland-Vancouver-Hillsboro, OR-WA                         \",\"marker\":{\"color\":\"#B6E880\",\"symbol\":\"circle\"},\"mode\":\"markers\",\"name\":\"Portland-Vancouver-Hillsboro, OR-WA                         \",\"showlegend\":true,\"x\":[2023,2022,2021,2020,2019],\"xaxis\":\"x\",\"y\":[11294.0,12978.0,15023.0,13446.0,16815.0],\"yaxis\":\"y\",\"type\":\"scattergl\"},{\"hovertemplate\":\"<b>%{hovertext}</b><br><br>Name=Poughkeepsie-Newburgh-Middletown, NY                        <br>Year=%{x}<br>Total=%{y}<extra></extra>\",\"hovertext\":[\"Poughkeepsie-Newburgh-Middletown, NY                        \",\"Poughkeepsie-Newburgh-Middletown, NY                        \",\"Poughkeepsie-Newburgh-Middletown, NY                        \",\"Poughkeepsie-Newburgh-Middletown, NY                        \",\"Poughkeepsie-Newburgh-Middletown, NY                        \"],\"legendgroup\":\"Poughkeepsie-Newburgh-Middletown, NY                        \",\"marker\":{\"color\":\"#FF97FF\",\"symbol\":\"circle\"},\"mode\":\"markers\",\"name\":\"Poughkeepsie-Newburgh-Middletown, NY                        \",\"showlegend\":true,\"x\":[2023,2022,2021,2020,2019],\"xaxis\":\"x\",\"y\":[1733.0,1792.0,2282.0,1696.0,1913.0],\"yaxis\":\"y\",\"type\":\"scattergl\"},{\"hovertemplate\":\"<b>%{hovertext}</b><br><br>Name=Prescott Valley-Prescott, AZ                                <br>Year=%{x}<br>Total=%{y}<extra></extra>\",\"hovertext\":[\"Prescott Valley-Prescott, AZ                                \",\"Prescott Valley-Prescott, AZ                                \",\"Prescott Valley-Prescott, AZ                                \",\"Prescott Valley-Prescott, AZ                                \",\"Prescott Valley-Prescott, AZ                                \"],\"legendgroup\":\"Prescott Valley-Prescott, AZ                                \",\"marker\":{\"color\":\"#FECB52\",\"symbol\":\"circle\"},\"mode\":\"markers\",\"name\":\"Prescott Valley-Prescott, AZ                                \",\"showlegend\":true,\"x\":[2023,2022,2021,2020,2019],\"xaxis\":\"x\",\"y\":[1577.0,2366.0,2481.0,1891.0,2180.0],\"yaxis\":\"y\",\"type\":\"scattergl\"},{\"hovertemplate\":\"<b>%{hovertext}</b><br><br>Name=Providence-Warwick, RI-MA                                   <br>Year=%{x}<br>Total=%{y}<extra></extra>\",\"hovertext\":[\"Providence-Warwick, RI-MA                                   \",\"Providence-Warwick, RI-MA                                   \",\"Providence-Warwick, RI-MA                                   \",\"Providence-Warwick, RI-MA                                   \",\"Providence-Warwick, RI-MA                                   \"],\"legendgroup\":\"Providence-Warwick, RI-MA                                   \",\"marker\":{\"color\":\"#636efa\",\"symbol\":\"circle\"},\"mode\":\"markers\",\"name\":\"Providence-Warwick, RI-MA                                   \",\"showlegend\":true,\"x\":[2023,2022,2021,2020,2019],\"xaxis\":\"x\",\"y\":[1909.0,2122.0,2258.0,2068.0,2048.0],\"yaxis\":\"y\",\"type\":\"scattergl\"},{\"hovertemplate\":\"<b>%{hovertext}</b><br><br>Name=Provo-Orem, UT                                              <br>Year=%{x}<br>Total=%{y}<extra></extra>\",\"hovertext\":[\"Provo-Orem, UT                                              \",\"Provo-Orem, UT                                              \",\"Provo-Orem, UT                                              \",\"Provo-Orem, UT                                              \",\"Provo-Orem, UT                                              \"],\"legendgroup\":\"Provo-Orem, UT                                              \",\"marker\":{\"color\":\"#EF553B\",\"symbol\":\"circle\"},\"mode\":\"markers\",\"name\":\"Provo-Orem, UT                                              \",\"showlegend\":true,\"x\":[2023,2022,2021,2020,2019],\"xaxis\":\"x\",\"y\":[6175.0,8287.0,11175.0,7967.0,6947.0],\"yaxis\":\"y\",\"type\":\"scattergl\"},{\"hovertemplate\":\"<b>%{hovertext}</b><br><br>Name=Pueblo, CO                                                  <br>Year=%{x}<br>Total=%{y}<extra></extra>\",\"hovertext\":[\"Pueblo, CO                                                  \",\"Pueblo, CO                                                  \",\"Pueblo, CO                                                  \",\"Pueblo, CO                                                  \",\"Pueblo, CO                                                  \"],\"legendgroup\":\"Pueblo, CO                                                  \",\"marker\":{\"color\":\"#00cc96\",\"symbol\":\"circle\"},\"mode\":\"markers\",\"name\":\"Pueblo, CO                                                  \",\"showlegend\":true,\"x\":[2023,2022,2021,2020,2019],\"xaxis\":\"x\",\"y\":[297.0,497.0,742.0,579.0,488.0],\"yaxis\":\"y\",\"type\":\"scattergl\"},{\"hovertemplate\":\"<b>%{hovertext}</b><br><br>Name=Punta Gorda, FL                                             <br>Year=%{x}<br>Total=%{y}<extra></extra>\",\"hovertext\":[\"Punta Gorda, FL                                             \",\"Punta Gorda, FL                                             \",\"Punta Gorda, FL                                             \",\"Punta Gorda, FL                                             \",\"Punta Gorda, FL                                             \"],\"legendgroup\":\"Punta Gorda, FL                                             \",\"marker\":{\"color\":\"#ab63fa\",\"symbol\":\"circle\"},\"mode\":\"markers\",\"name\":\"Punta Gorda, FL                                             \",\"showlegend\":true,\"x\":[2023,2022,2021,2020,2019],\"xaxis\":\"x\",\"y\":[4429.0,5676.0,4830.0,2933.0,2329.0],\"yaxis\":\"y\",\"type\":\"scattergl\"},{\"hovertemplate\":\"<b>%{hovertext}</b><br><br>Name=Racine, WI                                                  <br>Year=%{x}<br>Total=%{y}<extra></extra>\",\"hovertext\":[\"Racine, WI                                                  \",\"Racine, WI                                                  \",\"Racine, WI                                                  \",\"Racine, WI                                                  \",\"Racine, WI                                                  \"],\"legendgroup\":\"Racine, WI                                                  \",\"marker\":{\"color\":\"#FFA15A\",\"symbol\":\"circle\"},\"mode\":\"markers\",\"name\":\"Racine, WI                                                  \",\"showlegend\":true,\"x\":[2023,2022,2021,2020,2019],\"xaxis\":\"x\",\"y\":[208.0,163.0,245.0,224.0,322.0],\"yaxis\":\"y\",\"type\":\"scattergl\"},{\"hovertemplate\":\"<b>%{hovertext}</b><br><br>Name=Raleigh-Cary, NC                                            <br>Year=%{x}<br>Total=%{y}<extra></extra>\",\"hovertext\":[\"Raleigh-Cary, NC                                            \",\"Raleigh-Cary, NC                                            \",\"Raleigh-Cary, NC                                            \",\"Raleigh-Cary, NC                                            \",\"Raleigh-Cary, NC                                            \"],\"legendgroup\":\"Raleigh-Cary, NC                                            \",\"marker\":{\"color\":\"#19d3f3\",\"symbol\":\"circle\"},\"mode\":\"markers\",\"name\":\"Raleigh-Cary, NC                                            \",\"showlegend\":true,\"x\":[2023,2022,2021,2020,2019],\"xaxis\":\"x\",\"y\":[20619.0,21568.0,21649.0,16958.0,13320.0],\"yaxis\":\"y\",\"type\":\"scattergl\"},{\"hovertemplate\":\"<b>%{hovertext}</b><br><br>Name=Rapid City, SD                                              <br>Year=%{x}<br>Total=%{y}<extra></extra>\",\"hovertext\":[\"Rapid City, SD                                              \",\"Rapid City, SD                                              \",\"Rapid City, SD                                              \",\"Rapid City, SD                                              \",\"Rapid City, SD                                              \"],\"legendgroup\":\"Rapid City, SD                                              \",\"marker\":{\"color\":\"#FF6692\",\"symbol\":\"circle\"},\"mode\":\"markers\",\"name\":\"Rapid City, SD                                              \",\"showlegend\":true,\"x\":[2023,2022,2021,2020,2019],\"xaxis\":\"x\",\"y\":[1552.0,1645.0,1562.0,1320.0,722.0],\"yaxis\":\"y\",\"type\":\"scattergl\"},{\"hovertemplate\":\"<b>%{hovertext}</b><br><br>Name=Reading, PA                                                 <br>Year=%{x}<br>Total=%{y}<extra></extra>\",\"hovertext\":[\"Reading, PA                                                 \",\"Reading, PA                                                 \",\"Reading, PA                                                 \",\"Reading, PA                                                 \",\"Reading, PA                                                 \"],\"legendgroup\":\"Reading, PA                                                 \",\"marker\":{\"color\":\"#B6E880\",\"symbol\":\"circle\"},\"mode\":\"markers\",\"name\":\"Reading, PA                                                 \",\"showlegend\":true,\"x\":[2023,2022,2021,2020,2019],\"xaxis\":\"x\",\"y\":[393.0,386.0,493.0,515.0,628.0],\"yaxis\":\"y\",\"type\":\"scattergl\"},{\"hovertemplate\":\"<b>%{hovertext}</b><br><br>Name=Redding, CA                                                 <br>Year=%{x}<br>Total=%{y}<extra></extra>\",\"hovertext\":[\"Redding, CA                                                 \",\"Redding, CA                                                 \",\"Redding, CA                                                 \",\"Redding, CA                                                 \",\"Redding, CA                                                 \"],\"legendgroup\":\"Redding, CA                                                 \",\"marker\":{\"color\":\"#FF97FF\",\"symbol\":\"circle\"},\"mode\":\"markers\",\"name\":\"Redding, CA                                                 \",\"showlegend\":true,\"x\":[2023,2022,2021,2020,2019],\"xaxis\":\"x\",\"y\":[209.0,375.0,368.0,393.0,544.0],\"yaxis\":\"y\",\"type\":\"scattergl\"},{\"hovertemplate\":\"<b>%{hovertext}</b><br><br>Name=Reno, NV                                                    <br>Year=%{x}<br>Total=%{y}<extra></extra>\",\"hovertext\":[\"Reno, NV                                                    \",\"Reno, NV                                                    \",\"Reno, NV                                                    \",\"Reno, NV                                                    \",\"Reno, NV                                                    \"],\"legendgroup\":\"Reno, NV                                                    \",\"marker\":{\"color\":\"#FECB52\",\"symbol\":\"circle\"},\"mode\":\"markers\",\"name\":\"Reno, NV                                                    \",\"showlegend\":true,\"x\":[2023,2022,2021,2020,2019],\"xaxis\":\"x\",\"y\":[4271.0,5812.0,5337.0,4504.0,5263.0],\"yaxis\":\"y\",\"type\":\"scattergl\"},{\"hovertemplate\":\"<b>%{hovertext}</b><br><br>Name=Richmond, VA                                                <br>Year=%{x}<br>Total=%{y}<extra></extra>\",\"hovertext\":[\"Richmond, VA                                                \",\"Richmond, VA                                                \",\"Richmond, VA                                                \",\"Richmond, VA                                                \",\"Richmond, VA                                                \"],\"legendgroup\":\"Richmond, VA                                                \",\"marker\":{\"color\":\"#636efa\",\"symbol\":\"circle\"},\"mode\":\"markers\",\"name\":\"Richmond, VA                                                \",\"showlegend\":true,\"x\":[2023,2022,2021,2020,2019],\"xaxis\":\"x\",\"y\":[9976.0,10414.0,9547.0,8190.0,8340.0],\"yaxis\":\"y\",\"type\":\"scattergl\"},{\"hovertemplate\":\"<b>%{hovertext}</b><br><br>Name=Riverside-San Bernardino-Ontario, CA                        <br>Year=%{x}<br>Total=%{y}<extra></extra>\",\"hovertext\":[\"Riverside-San Bernardino-Ontario, CA                        \",\"Riverside-San Bernardino-Ontario, CA                        \",\"Riverside-San Bernardino-Ontario, CA                        \",\"Riverside-San Bernardino-Ontario, CA                        \",\"Riverside-San Bernardino-Ontario, CA                        \"],\"legendgroup\":\"Riverside-San Bernardino-Ontario, CA                        \",\"marker\":{\"color\":\"#EF553B\",\"symbol\":\"circle\"},\"mode\":\"markers\",\"name\":\"Riverside-San Bernardino-Ontario, CA                        \",\"showlegend\":true,\"x\":[2023,2022,2021,2020,2019],\"xaxis\":\"x\",\"y\":[19710.0,16747.0,15606.0,15232.0,14599.0],\"yaxis\":\"y\",\"type\":\"scattergl\"},{\"hovertemplate\":\"<b>%{hovertext}</b><br><br>Name=Roanoke, VA                                                 <br>Year=%{x}<br>Total=%{y}<extra></extra>\",\"hovertext\":[\"Roanoke, VA                                                 \",\"Roanoke, VA                                                 \",\"Roanoke, VA                                                 \",\"Roanoke, VA                                                 \",\"Roanoke, VA                                                 \"],\"legendgroup\":\"Roanoke, VA                                                 \",\"marker\":{\"color\":\"#00cc96\",\"symbol\":\"circle\"},\"mode\":\"markers\",\"name\":\"Roanoke, VA                                                 \",\"showlegend\":true,\"x\":[2023,2022,2021,2020,2019],\"xaxis\":\"x\",\"y\":[622.0,771.0,869.0,769.0,702.0],\"yaxis\":\"y\",\"type\":\"scattergl\"},{\"hovertemplate\":\"<b>%{hovertext}</b><br><br>Name=Rochester, MN                                               <br>Year=%{x}<br>Total=%{y}<extra></extra>\",\"hovertext\":[\"Rochester, MN                                               \",\"Rochester, MN                                               \",\"Rochester, MN                                               \",\"Rochester, MN                                               \",\"Rochester, MN                                               \"],\"legendgroup\":\"Rochester, MN                                               \",\"marker\":{\"color\":\"#ab63fa\",\"symbol\":\"circle\"},\"mode\":\"markers\",\"name\":\"Rochester, MN                                               \",\"showlegend\":true,\"x\":[2023,2022,2021,2020,2019],\"xaxis\":\"x\",\"y\":[1089.0,1721.0,1135.0,906.0,1111.0],\"yaxis\":\"y\",\"type\":\"scattergl\"},{\"hovertemplate\":\"<b>%{hovertext}</b><br><br>Name=Rochester, NY                                               <br>Year=%{x}<br>Total=%{y}<extra></extra>\",\"hovertext\":[\"Rochester, NY                                               \",\"Rochester, NY                                               \",\"Rochester, NY                                               \",\"Rochester, NY                                               \",\"Rochester, NY                                               \"],\"legendgroup\":\"Rochester, NY                                               \",\"marker\":{\"color\":\"#FFA15A\",\"symbol\":\"circle\"},\"mode\":\"markers\",\"name\":\"Rochester, NY                                               \",\"showlegend\":true,\"x\":[2023,2022,2021,2020,2019],\"xaxis\":\"x\",\"y\":[1560.0,2586.0,1774.0,2242.0,2021.0],\"yaxis\":\"y\",\"type\":\"scattergl\"},{\"hovertemplate\":\"<b>%{hovertext}</b><br><br>Name=Rockford, IL                                                <br>Year=%{x}<br>Total=%{y}<extra></extra>\",\"hovertext\":[\"Rockford, IL                                                \",\"Rockford, IL                                                \",\"Rockford, IL                                                \",\"Rockford, IL                                                \",\"Rockford, IL                                                \"],\"legendgroup\":\"Rockford, IL                                                \",\"marker\":{\"color\":\"#19d3f3\",\"symbol\":\"circle\"},\"mode\":\"markers\",\"name\":\"Rockford, IL                                                \",\"showlegend\":true,\"x\":[2023,2022,2021,2020,2019],\"xaxis\":\"x\",\"y\":[196.0,318.0,280.0,192.0,300.0],\"yaxis\":\"y\",\"type\":\"scattergl\"},{\"hovertemplate\":\"<b>%{hovertext}</b><br><br>Name=Rocky Mount, NC                                             <br>Year=%{x}<br>Total=%{y}<extra></extra>\",\"hovertext\":[\"Rocky Mount, NC                                             \",\"Rocky Mount, NC                                             \",\"Rocky Mount, NC                                             \",\"Rocky Mount, NC                                             \",\"Rocky Mount, NC                                             \"],\"legendgroup\":\"Rocky Mount, NC                                             \",\"marker\":{\"color\":\"#FF6692\",\"symbol\":\"circle\"},\"mode\":\"markers\",\"name\":\"Rocky Mount, NC                                             \",\"showlegend\":true,\"x\":[2023,2022,2021,2020,2019],\"xaxis\":\"x\",\"y\":[614.0,427.0,640.0,339.0,232.0],\"yaxis\":\"y\",\"type\":\"scattergl\"},{\"hovertemplate\":\"<b>%{hovertext}</b><br><br>Name=Rome, GA                                                    <br>Year=%{x}<br>Total=%{y}<extra></extra>\",\"hovertext\":[\"Rome, GA                                                    \",\"Rome, GA                                                    \",\"Rome, GA                                                    \",\"Rome, GA                                                    \",\"Rome, GA                                                    \"],\"legendgroup\":\"Rome, GA                                                    \",\"marker\":{\"color\":\"#B6E880\",\"symbol\":\"circle\"},\"mode\":\"markers\",\"name\":\"Rome, GA                                                    \",\"showlegend\":true,\"x\":[2023,2022,2021,2020,2019],\"xaxis\":\"x\",\"y\":[327.0,310.0,204.0,282.0,263.0],\"yaxis\":\"y\",\"type\":\"scattergl\"},{\"hovertemplate\":\"<b>%{hovertext}</b><br><br>Name=Sacramento-Roseville-Folsom, CA                             <br>Year=%{x}<br>Total=%{y}<extra></extra>\",\"hovertext\":[\"Sacramento-Roseville-Folsom, CA                             \",\"Sacramento-Roseville-Folsom, CA                             \",\"Sacramento-Roseville-Folsom, CA                             \",\"Sacramento-Roseville-Folsom, CA                             \",\"Sacramento-Roseville-Folsom, CA                             \"],\"legendgroup\":\"Sacramento-Roseville-Folsom, CA                             \",\"marker\":{\"color\":\"#FF97FF\",\"symbol\":\"circle\"},\"mode\":\"markers\",\"name\":\"Sacramento-Roseville-Folsom, CA                             \",\"showlegend\":true,\"x\":[2023,2022,2021,2020,2019],\"xaxis\":\"x\",\"y\":[11917.0,10800.0,12434.0,11164.0,9431.0],\"yaxis\":\"y\",\"type\":\"scattergl\"},{\"hovertemplate\":\"<b>%{hovertext}</b><br><br>Name=Saginaw, MI                                                 <br>Year=%{x}<br>Total=%{y}<extra></extra>\",\"hovertext\":[\"Saginaw, MI                                                 \",\"Saginaw, MI                                                 \",\"Saginaw, MI                                                 \",\"Saginaw, MI                                                 \",\"Saginaw, MI                                                 \"],\"legendgroup\":\"Saginaw, MI                                                 \",\"marker\":{\"color\":\"#FECB52\",\"symbol\":\"circle\"},\"mode\":\"markers\",\"name\":\"Saginaw, MI                                                 \",\"showlegend\":true,\"x\":[2023,2022,2021,2020,2019],\"xaxis\":\"x\",\"y\":[173.0,175.0,195.0,245.0,248.0],\"yaxis\":\"y\",\"type\":\"scattergl\"},{\"hovertemplate\":\"<b>%{hovertext}</b><br><br>Name=Salem, OR                                                   <br>Year=%{x}<br>Total=%{y}<extra></extra>\",\"hovertext\":[\"Salem, OR                                                   \",\"Salem, OR                                                   \",\"Salem, OR                                                   \",\"Salem, OR                                                   \",\"Salem, OR                                                   \"],\"legendgroup\":\"Salem, OR                                                   \",\"marker\":{\"color\":\"#636efa\",\"symbol\":\"circle\"},\"mode\":\"markers\",\"name\":\"Salem, OR                                                   \",\"showlegend\":true,\"x\":[2023,2022,2021,2020,2019],\"xaxis\":\"x\",\"y\":[1987.0,2817.0,2154.0,2008.0,2036.0],\"yaxis\":\"y\",\"type\":\"scattergl\"},{\"hovertemplate\":\"<b>%{hovertext}</b><br><br>Name=Salinas, CA                                                 <br>Year=%{x}<br>Total=%{y}<extra></extra>\",\"hovertext\":[\"Salinas, CA                                                 \",\"Salinas, CA                                                 \",\"Salinas, CA                                                 \",\"Salinas, CA                                                 \",\"Salinas, CA                                                 \"],\"legendgroup\":\"Salinas, CA                                                 \",\"marker\":{\"color\":\"#EF553B\",\"symbol\":\"circle\"},\"mode\":\"markers\",\"name\":\"Salinas, CA                                                 \",\"showlegend\":true,\"x\":[2023,2022,2021,2020,2019],\"xaxis\":\"x\",\"y\":[595.0,1086.0,882.0,753.0,480.0],\"yaxis\":\"y\",\"type\":\"scattergl\"},{\"hovertemplate\":\"<b>%{hovertext}</b><br><br>Name=Salisbury, MD-DE                                            <br>Year=%{x}<br>Total=%{y}<extra></extra>\",\"hovertext\":[\"Salisbury, MD-DE                                            \",\"Salisbury, MD-DE                                            \",\"Salisbury, MD-DE                                            \",\"Salisbury, MD-DE                                            \",\"Salisbury, MD-DE                                            \"],\"legendgroup\":\"Salisbury, MD-DE                                            \",\"marker\":{\"color\":\"#00cc96\",\"symbol\":\"circle\"},\"mode\":\"markers\",\"name\":\"Salisbury, MD-DE                                            \",\"showlegend\":true,\"x\":[2023,2022,2021,2020,2019],\"xaxis\":\"x\",\"y\":[4899.0,4919.0,5552.0,5108.0,4074.0],\"yaxis\":\"y\",\"type\":\"scattergl\"},{\"hovertemplate\":\"<b>%{hovertext}</b><br><br>Name=Salt Lake City, UT                                          <br>Year=%{x}<br>Total=%{y}<extra></extra>\",\"hovertext\":[\"Salt Lake City, UT                                          \",\"Salt Lake City, UT                                          \",\"Salt Lake City, UT                                          \",\"Salt Lake City, UT                                          \",\"Salt Lake City, UT                                          \"],\"legendgroup\":\"Salt Lake City, UT                                          \",\"marker\":{\"color\":\"#ab63fa\",\"symbol\":\"circle\"},\"mode\":\"markers\",\"name\":\"Salt Lake City, UT                                          \",\"showlegend\":true,\"x\":[2023,2022,2021,2020,2019],\"xaxis\":\"x\",\"y\":[9199.0,10102.0,11642.0,11033.0,10680.0],\"yaxis\":\"y\",\"type\":\"scattergl\"},{\"hovertemplate\":\"<b>%{hovertext}</b><br><br>Name=San Angelo, TX                                              <br>Year=%{x}<br>Total=%{y}<extra></extra>\",\"hovertext\":[\"San Angelo, TX                                              \",\"San Angelo, TX                                              \",\"San Angelo, TX                                              \",\"San Angelo, TX                                              \",\"San Angelo, TX                                              \"],\"legendgroup\":\"San Angelo, TX                                              \",\"marker\":{\"color\":\"#FFA15A\",\"symbol\":\"circle\"},\"mode\":\"markers\",\"name\":\"San Angelo, TX                                              \",\"showlegend\":true,\"x\":[2023,2022,2021,2020,2019],\"xaxis\":\"x\",\"y\":[252.0,322.0,333.0,686.0,283.0],\"yaxis\":\"y\",\"type\":\"scattergl\"},{\"hovertemplate\":\"<b>%{hovertext}</b><br><br>Name=San Antonio-New Braunfels, TX                               <br>Year=%{x}<br>Total=%{y}<extra></extra>\",\"hovertext\":[\"San Antonio-New Braunfels, TX                               \",\"San Antonio-New Braunfels, TX                               \",\"San Antonio-New Braunfels, TX                               \",\"San Antonio-New Braunfels, TX                               \",\"San Antonio-New Braunfels, TX                               \"],\"legendgroup\":\"San Antonio-New Braunfels, TX                               \",\"marker\":{\"color\":\"#19d3f3\",\"symbol\":\"circle\"},\"mode\":\"markers\",\"name\":\"San Antonio-New Braunfels, TX                               \",\"showlegend\":true,\"x\":[2023,2022,2021,2020,2019],\"xaxis\":\"x\",\"y\":[16519.0,24339.0,22264.0,16697.0,15895.0],\"yaxis\":\"y\",\"type\":\"scattergl\"},{\"hovertemplate\":\"<b>%{hovertext}</b><br><br>Name=San Diego-Chula Vista-Carlsbad, CA                          <br>Year=%{x}<br>Total=%{y}<extra></extra>\",\"hovertext\":[\"San Diego-Chula Vista-Carlsbad, CA                          \",\"San Diego-Chula Vista-Carlsbad, CA                          \",\"San Diego-Chula Vista-Carlsbad, CA                          \",\"San Diego-Chula Vista-Carlsbad, CA                          \",\"San Diego-Chula Vista-Carlsbad, CA                          \"],\"legendgroup\":\"San Diego-Chula Vista-Carlsbad, CA                          \",\"marker\":{\"color\":\"#FF6692\",\"symbol\":\"circle\"},\"mode\":\"markers\",\"name\":\"San Diego-Chula Vista-Carlsbad, CA                          \",\"showlegend\":true,\"x\":[2023,2022,2021,2020,2019],\"xaxis\":\"x\",\"y\":[11468.0,9346.0,10048.0,9472.0,8216.0],\"yaxis\":\"y\",\"type\":\"scattergl\"},{\"hovertemplate\":\"<b>%{hovertext}</b><br><br>Name=San Francisco-Oakland-Berkeley, CA                          <br>Year=%{x}<br>Total=%{y}<extra></extra>\",\"hovertext\":[\"San Francisco-Oakland-Berkeley, CA                          \",\"San Francisco-Oakland-Berkeley, CA                          \",\"San Francisco-Oakland-Berkeley, CA                          \",\"San Francisco-Oakland-Berkeley, CA                          \",\"San Francisco-Oakland-Berkeley, CA                          \"],\"legendgroup\":\"San Francisco-Oakland-Berkeley, CA                          \",\"marker\":{\"color\":\"#B6E880\",\"symbol\":\"circle\"},\"mode\":\"markers\",\"name\":\"San Francisco-Oakland-Berkeley, CA                          \",\"showlegend\":true,\"x\":[2023,2022,2021,2020,2019],\"xaxis\":\"x\",\"y\":[7478.0,11204.0,13606.0,10156.0,13881.0],\"yaxis\":\"y\",\"type\":\"scattergl\"},{\"hovertemplate\":\"<b>%{hovertext}</b><br><br>Name=San Jose-Sunnyvale-Santa Clara, CA                          <br>Year=%{x}<br>Total=%{y}<extra></extra>\",\"hovertext\":[\"San Jose-Sunnyvale-Santa Clara, CA                          \",\"San Jose-Sunnyvale-Santa Clara, CA                          \",\"San Jose-Sunnyvale-Santa Clara, CA                          \",\"San Jose-Sunnyvale-Santa Clara, CA                          \",\"San Jose-Sunnyvale-Santa Clara, CA                          \"],\"legendgroup\":\"San Jose-Sunnyvale-Santa Clara, CA                          \",\"marker\":{\"color\":\"#FF97FF\",\"symbol\":\"circle\"},\"mode\":\"markers\",\"name\":\"San Jose-Sunnyvale-Santa Clara, CA                          \",\"showlegend\":true,\"x\":[2023,2022,2021,2020,2019],\"xaxis\":\"x\",\"y\":[6288.0,8207.0,4529.0,5851.0,6230.0],\"yaxis\":\"y\",\"type\":\"scattergl\"},{\"hovertemplate\":\"<b>%{hovertext}</b><br><br>Name=San Luis Obispo-Paso Robles, CA                             <br>Year=%{x}<br>Total=%{y}<extra></extra>\",\"hovertext\":[\"San Luis Obispo-Paso Robles, CA                             \",\"San Luis Obispo-Paso Robles, CA                             \",\"San Luis Obispo-Paso Robles, CA                             \",\"San Luis Obispo-Paso Robles, CA                             \",\"San Luis Obispo-Paso Robles, CA                             \"],\"legendgroup\":\"San Luis Obispo-Paso Robles, CA                             \",\"marker\":{\"color\":\"#FECB52\",\"symbol\":\"circle\"},\"mode\":\"markers\",\"name\":\"San Luis Obispo-Paso Robles, CA                             \",\"showlegend\":true,\"x\":[2023,2022,2021,2020,2019],\"xaxis\":\"x\",\"y\":[997.0,1111.0,1120.0,911.0,1094.0],\"yaxis\":\"y\",\"type\":\"scattergl\"},{\"hovertemplate\":\"<b>%{hovertext}</b><br><br>Name=Santa Cruz-Watsonville, CA                                  <br>Year=%{x}<br>Total=%{y}<extra></extra>\",\"hovertext\":[\"Santa Cruz-Watsonville, CA                                  \",\"Santa Cruz-Watsonville, CA                                  \",\"Santa Cruz-Watsonville, CA                                  \",\"Santa Cruz-Watsonville, CA                                  \",\"Santa Cruz-Watsonville, CA                                  \"],\"legendgroup\":\"Santa Cruz-Watsonville, CA                                  \",\"marker\":{\"color\":\"#636efa\",\"symbol\":\"circle\"},\"mode\":\"markers\",\"name\":\"Santa Cruz-Watsonville, CA                                  \",\"showlegend\":true,\"x\":[2023,2022,2021,2020,2019],\"xaxis\":\"x\",\"y\":[546.0,608.0,598.0,244.0,429.0],\"yaxis\":\"y\",\"type\":\"scattergl\"},{\"hovertemplate\":\"<b>%{hovertext}</b><br><br>Name=Santa Fe, NM                                                <br>Year=%{x}<br>Total=%{y}<extra></extra>\",\"hovertext\":[\"Santa Fe, NM                                                \",\"Santa Fe, NM                                                \",\"Santa Fe, NM                                                \",\"Santa Fe, NM                                                \",\"Santa Fe, NM                                                \"],\"legendgroup\":\"Santa Fe, NM                                                \",\"marker\":{\"color\":\"#EF553B\",\"symbol\":\"circle\"},\"mode\":\"markers\",\"name\":\"Santa Fe, NM                                                \",\"showlegend\":true,\"x\":[2023,2022,2021,2020,2019],\"xaxis\":\"x\",\"y\":[926.0,590.0,840.0,577.0,589.0],\"yaxis\":\"y\",\"type\":\"scattergl\"},{\"hovertemplate\":\"<b>%{hovertext}</b><br><br>Name=Santa Maria-Santa Barbara, CA                               <br>Year=%{x}<br>Total=%{y}<extra></extra>\",\"hovertext\":[\"Santa Maria-Santa Barbara, CA                               \",\"Santa Maria-Santa Barbara, CA                               \",\"Santa Maria-Santa Barbara, CA                               \",\"Santa Maria-Santa Barbara, CA                               \",\"Santa Maria-Santa Barbara, CA                               \"],\"legendgroup\":\"Santa Maria-Santa Barbara, CA                               \",\"marker\":{\"color\":\"#00cc96\",\"symbol\":\"circle\"},\"mode\":\"markers\",\"name\":\"Santa Maria-Santa Barbara, CA                               \",\"showlegend\":true,\"x\":[2023,2022,2021,2020,2019],\"xaxis\":\"x\",\"y\":[449.0,1096.0,1152.0,1027.0,1175.0],\"yaxis\":\"y\",\"type\":\"scattergl\"},{\"hovertemplate\":\"<b>%{hovertext}</b><br><br>Name=Santa Rosa-Petaluma, CA                                     <br>Year=%{x}<br>Total=%{y}<extra></extra>\",\"hovertext\":[\"Santa Rosa-Petaluma, CA                                     \",\"Santa Rosa-Petaluma, CA                                     \",\"Santa Rosa-Petaluma, CA                                     \",\"Santa Rosa-Petaluma, CA                                     \",\"Santa Rosa-Petaluma, CA                                     \"],\"legendgroup\":\"Santa Rosa-Petaluma, CA                                     \",\"marker\":{\"color\":\"#ab63fa\",\"symbol\":\"circle\"},\"mode\":\"markers\",\"name\":\"Santa Rosa-Petaluma, CA                                     \",\"showlegend\":true,\"x\":[2023,2022,2021,2020,2019],\"xaxis\":\"x\",\"y\":[2353.0,2264.0,2618.0,1395.0,2429.0],\"yaxis\":\"y\",\"type\":\"scattergl\"},{\"hovertemplate\":\"<b>%{hovertext}</b><br><br>Name=Savannah, GA                                                <br>Year=%{x}<br>Total=%{y}<extra></extra>\",\"hovertext\":[\"Savannah, GA                                                \",\"Savannah, GA                                                \",\"Savannah, GA                                                \",\"Savannah, GA                                                \",\"Savannah, GA                                                \"],\"legendgroup\":\"Savannah, GA                                                \",\"marker\":{\"color\":\"#FFA15A\",\"symbol\":\"circle\"},\"mode\":\"markers\",\"name\":\"Savannah, GA                                                \",\"showlegend\":true,\"x\":[2023,2022,2021,2020,2019],\"xaxis\":\"x\",\"y\":[3408.0,3194.0,3227.0,3026.0,2591.0],\"yaxis\":\"y\",\"type\":\"scattergl\"},{\"hovertemplate\":\"<b>%{hovertext}</b><br><br>Name=Scranton--Wilkes-Barre, PA                                  <br>Year=%{x}<br>Total=%{y}<extra></extra>\",\"hovertext\":[\"Scranton--Wilkes-Barre, PA                                  \",\"Scranton--Wilkes-Barre, PA                                  \",\"Scranton--Wilkes-Barre, PA                                  \",\"Scranton--Wilkes-Barre, PA                                  \",\"Scranton--Wilkes-Barre, PA                                  \"],\"legendgroup\":\"Scranton--Wilkes-Barre, PA                                  \",\"marker\":{\"color\":\"#19d3f3\",\"symbol\":\"circle\"},\"mode\":\"markers\",\"name\":\"Scranton--Wilkes-Barre, PA                                  \",\"showlegend\":true,\"x\":[2023,2022,2021,2020,2019],\"xaxis\":\"x\",\"y\":[497.0,609.0,644.0,584.0,528.0],\"yaxis\":\"y\",\"type\":\"scattergl\"},{\"hovertemplate\":\"<b>%{hovertext}</b><br><br>Name=Seattle-Tacoma-Bellevue, WA                                 <br>Year=%{x}<br>Total=%{y}<extra></extra>\",\"hovertext\":[\"Seattle-Tacoma-Bellevue, WA                                 \",\"Seattle-Tacoma-Bellevue, WA                                 \",\"Seattle-Tacoma-Bellevue, WA                                 \",\"Seattle-Tacoma-Bellevue, WA                                 \",\"Seattle-Tacoma-Bellevue, WA                                 \"],\"legendgroup\":\"Seattle-Tacoma-Bellevue, WA                                 \",\"marker\":{\"color\":\"#FF6692\",\"symbol\":\"circle\"},\"mode\":\"markers\",\"name\":\"Seattle-Tacoma-Bellevue, WA                                 \",\"showlegend\":true,\"x\":[2023,2022,2021,2020,2019],\"xaxis\":\"x\",\"y\":[17254.0,26661.0,30743.0,23039.0,26599.0],\"yaxis\":\"y\",\"type\":\"scattergl\"},{\"hovertemplate\":\"<b>%{hovertext}</b><br><br>Name=Sebastian-Vero Beach, FL                                    <br>Year=%{x}<br>Total=%{y}<extra></extra>\",\"hovertext\":[\"Sebastian-Vero Beach, FL                                    \",\"Sebastian-Vero Beach, FL                                    \",\"Sebastian-Vero Beach, FL                                    \",\"Sebastian-Vero Beach, FL                                    \",\"Sebastian-Vero Beach, FL                                    \"],\"legendgroup\":\"Sebastian-Vero Beach, FL                                    \",\"marker\":{\"color\":\"#B6E880\",\"symbol\":\"circle\"},\"mode\":\"markers\",\"name\":\"Sebastian-Vero Beach, FL                                    \",\"showlegend\":true,\"x\":[2023,2022,2021,2020,2019],\"xaxis\":\"x\",\"y\":[1009.0,1183.0,1592.0,1162.0,1459.0],\"yaxis\":\"y\",\"type\":\"scattergl\"},{\"hovertemplate\":\"<b>%{hovertext}</b><br><br>Name=Sebring-Avon Park, FL                                       <br>Year=%{x}<br>Total=%{y}<extra></extra>\",\"hovertext\":[\"Sebring-Avon Park, FL                                       \",\"Sebring-Avon Park, FL                                       \",\"Sebring-Avon Park, FL                                       \",\"Sebring-Avon Park, FL                                       \",\"Sebring-Avon Park, FL                                       \"],\"legendgroup\":\"Sebring-Avon Park, FL                                       \",\"marker\":{\"color\":\"#FF97FF\",\"symbol\":\"circle\"},\"mode\":\"markers\",\"name\":\"Sebring-Avon Park, FL                                       \",\"showlegend\":true,\"x\":[2023,2022,2021,2020,2019],\"xaxis\":\"x\",\"y\":[712.0,663.0,644.0,384.0,253.0],\"yaxis\":\"y\",\"type\":\"scattergl\"},{\"hovertemplate\":\"<b>%{hovertext}</b><br><br>Name=Sheboygan, WI                                               <br>Year=%{x}<br>Total=%{y}<extra></extra>\",\"hovertext\":[\"Sheboygan, WI                                               \",\"Sheboygan, WI                                               \",\"Sheboygan, WI                                               \",\"Sheboygan, WI                                               \",\"Sheboygan, WI                                               \"],\"legendgroup\":\"Sheboygan, WI                                               \",\"marker\":{\"color\":\"#FECB52\",\"symbol\":\"circle\"},\"mode\":\"markers\",\"name\":\"Sheboygan, WI                                               \",\"showlegend\":true,\"x\":[2023,2022,2021,2020,2019],\"xaxis\":\"x\",\"y\":[539.0,146.0,268.0,365.0,186.0],\"yaxis\":\"y\",\"type\":\"scattergl\"},{\"hovertemplate\":\"<b>%{hovertext}</b><br><br>Name=Sherman-Denison, TX                                         <br>Year=%{x}<br>Total=%{y}<extra></extra>\",\"hovertext\":[\"Sherman-Denison, TX                                         \",\"Sherman-Denison, TX                                         \",\"Sherman-Denison, TX                                         \",\"Sherman-Denison, TX                                         \",\"Sherman-Denison, TX                                         \"],\"legendgroup\":\"Sherman-Denison, TX                                         \",\"marker\":{\"color\":\"#636efa\",\"symbol\":\"circle\"},\"mode\":\"markers\",\"name\":\"Sherman-Denison, TX                                         \",\"showlegend\":true,\"x\":[2023,2022,2021,2020,2019],\"xaxis\":\"x\",\"y\":[2449.0,2220.0,1048.0,1181.0,998.0],\"yaxis\":\"y\",\"type\":\"scattergl\"},{\"hovertemplate\":\"<b>%{hovertext}</b><br><br>Name=Shreveport-Bossier City, LA                                 <br>Year=%{x}<br>Total=%{y}<extra></extra>\",\"hovertext\":[\"Shreveport-Bossier City, LA                                 \",\"Shreveport-Bossier City, LA                                 \",\"Shreveport-Bossier City, LA                                 \",\"Shreveport-Bossier City, LA                                 \",\"Shreveport-Bossier City, LA                                 \"],\"legendgroup\":\"Shreveport-Bossier City, LA                                 \",\"marker\":{\"color\":\"#EF553B\",\"symbol\":\"circle\"},\"mode\":\"markers\",\"name\":\"Shreveport-Bossier City, LA                                 \",\"showlegend\":true,\"x\":[2023,2022,2021,2020,2019],\"xaxis\":\"x\",\"y\":[922.0,915.0,1136.0,1000.0,1040.0],\"yaxis\":\"y\",\"type\":\"scattergl\"},{\"hovertemplate\":\"<b>%{hovertext}</b><br><br>Name=Sierra Vista-Douglas, AZ                                    <br>Year=%{x}<br>Total=%{y}<extra></extra>\",\"hovertext\":[\"Sierra Vista-Douglas, AZ                                    \",\"Sierra Vista-Douglas, AZ                                    \",\"Sierra Vista-Douglas, AZ                                    \",\"Sierra Vista-Douglas, AZ                                    \",\"Sierra Vista-Douglas, AZ                                    \"],\"legendgroup\":\"Sierra Vista-Douglas, AZ                                    \",\"marker\":{\"color\":\"#00cc96\",\"symbol\":\"circle\"},\"mode\":\"markers\",\"name\":\"Sierra Vista-Douglas, AZ                                    \",\"showlegend\":true,\"x\":[2023,2022,2021,2020,2019],\"xaxis\":\"x\",\"y\":[506.0,529.0,434.0,337.0,254.0],\"yaxis\":\"y\",\"type\":\"scattergl\"},{\"hovertemplate\":\"<b>%{hovertext}</b><br><br>Name=Sioux City, IA-NE-SD                                        <br>Year=%{x}<br>Total=%{y}<extra></extra>\",\"hovertext\":[\"Sioux City, IA-NE-SD                                        \",\"Sioux City, IA-NE-SD                                        \",\"Sioux City, IA-NE-SD                                        \",\"Sioux City, IA-NE-SD                                        \",\"Sioux City, IA-NE-SD                                        \"],\"legendgroup\":\"Sioux City, IA-NE-SD                                        \",\"marker\":{\"color\":\"#ab63fa\",\"symbol\":\"circle\"},\"mode\":\"markers\",\"name\":\"Sioux City, IA-NE-SD                                        \",\"showlegend\":true,\"x\":[2023,2022,2021,2020,2019],\"xaxis\":\"x\",\"y\":[352.0,449.0,457.0,779.0,579.0],\"yaxis\":\"y\",\"type\":\"scattergl\"},{\"hovertemplate\":\"<b>%{hovertext}</b><br><br>Name=Sioux Falls, SD                                             <br>Year=%{x}<br>Total=%{y}<extra></extra>\",\"hovertext\":[\"Sioux Falls, SD                                             \",\"Sioux Falls, SD                                             \",\"Sioux Falls, SD                                             \",\"Sioux Falls, SD                                             \",\"Sioux Falls, SD                                             \"],\"legendgroup\":\"Sioux Falls, SD                                             \",\"marker\":{\"color\":\"#FFA15A\",\"symbol\":\"circle\"},\"mode\":\"markers\",\"name\":\"Sioux Falls, SD                                             \",\"showlegend\":true,\"x\":[2023,2022,2021,2020,2019],\"xaxis\":\"x\",\"y\":[3448.0,5554.0,3986.0,3550.0,2119.0],\"yaxis\":\"y\",\"type\":\"scattergl\"},{\"hovertemplate\":\"<b>%{hovertext}</b><br><br>Name=South Bend-Mishawaka, IN-MI                                 <br>Year=%{x}<br>Total=%{y}<extra></extra>\",\"hovertext\":[\"South Bend-Mishawaka, IN-MI                                 \",\"South Bend-Mishawaka, IN-MI                                 \",\"South Bend-Mishawaka, IN-MI                                 \",\"South Bend-Mishawaka, IN-MI                                 \",\"South Bend-Mishawaka, IN-MI                                 \"],\"legendgroup\":\"South Bend-Mishawaka, IN-MI                                 \",\"marker\":{\"color\":\"#19d3f3\",\"symbol\":\"circle\"},\"mode\":\"markers\",\"name\":\"South Bend-Mishawaka, IN-MI                                 \",\"showlegend\":true,\"x\":[2023,2022,2021,2020,2019],\"xaxis\":\"x\",\"y\":[434.0,742.0,492.0,555.0,428.0],\"yaxis\":\"y\",\"type\":\"scattergl\"},{\"hovertemplate\":\"<b>%{hovertext}</b><br><br>Name=Spartanburg, SC                                             <br>Year=%{x}<br>Total=%{y}<extra></extra>\",\"hovertext\":[\"Spartanburg, SC                                             \",\"Spartanburg, SC                                             \",\"Spartanburg, SC                                             \",\"Spartanburg, SC                                             \",\"Spartanburg, SC                                             \"],\"legendgroup\":\"Spartanburg, SC                                             \",\"marker\":{\"color\":\"#FF6692\",\"symbol\":\"circle\"},\"mode\":\"markers\",\"name\":\"Spartanburg, SC                                             \",\"showlegend\":true,\"x\":[2023,2022,2021,2020,2019],\"xaxis\":\"x\",\"y\":[2867.0,2596.0,3614.0,2876.0,2599.0],\"yaxis\":\"y\",\"type\":\"scattergl\"},{\"hovertemplate\":\"<b>%{hovertext}</b><br><br>Name=Spokane-Spokane Valley, WA                                  <br>Year=%{x}<br>Total=%{y}<extra></extra>\",\"hovertext\":[\"Spokane-Spokane Valley, WA                                  \",\"Spokane-Spokane Valley, WA                                  \",\"Spokane-Spokane Valley, WA                                  \",\"Spokane-Spokane Valley, WA                                  \",\"Spokane-Spokane Valley, WA                                  \"],\"legendgroup\":\"Spokane-Spokane Valley, WA                                  \",\"marker\":{\"color\":\"#B6E880\",\"symbol\":\"circle\"},\"mode\":\"markers\",\"name\":\"Spokane-Spokane Valley, WA                                  \",\"showlegend\":true,\"x\":[2023,2022,2021,2020,2019],\"xaxis\":\"x\",\"y\":[3904.0,4022.0,3415.0,3362.0,3300.0],\"yaxis\":\"y\",\"type\":\"scattergl\"},{\"hovertemplate\":\"<b>%{hovertext}</b><br><br>Name=Springfield, IL                                             <br>Year=%{x}<br>Total=%{y}<extra></extra>\",\"hovertext\":[\"Springfield, IL                                             \",\"Springfield, IL                                             \",\"Springfield, IL                                             \",\"Springfield, IL                                             \",\"Springfield, IL                                             \"],\"legendgroup\":\"Springfield, IL                                             \",\"marker\":{\"color\":\"#FF97FF\",\"symbol\":\"circle\"},\"mode\":\"markers\",\"name\":\"Springfield, IL                                             \",\"showlegend\":true,\"x\":[2023,2022,2021,2020,2019],\"xaxis\":\"x\",\"y\":[201.0,210.0,332.0,335.0,329.0],\"yaxis\":\"y\",\"type\":\"scattergl\"},{\"hovertemplate\":\"<b>%{hovertext}</b><br><br>Name=Springfield, MA                                             <br>Year=%{x}<br>Total=%{y}<extra></extra>\",\"hovertext\":[\"Springfield, MA                                             \",\"Springfield, MA                                             \",\"Springfield, MA                                             \",\"Springfield, MA                                             \",\"Springfield, MA                                             \"],\"legendgroup\":\"Springfield, MA                                             \",\"marker\":{\"color\":\"#FECB52\",\"symbol\":\"circle\"},\"mode\":\"markers\",\"name\":\"Springfield, MA                                             \",\"showlegend\":true,\"x\":[2023,2022,2021,2020,2019],\"xaxis\":\"x\",\"y\":[624.0,740.0,745.0,760.0,794.0],\"yaxis\":\"y\",\"type\":\"scattergl\"},{\"hovertemplate\":\"<b>%{hovertext}</b><br><br>Name=Springfield, MO                                             <br>Year=%{x}<br>Total=%{y}<extra></extra>\",\"hovertext\":[\"Springfield, MO                                             \",\"Springfield, MO                                             \",\"Springfield, MO                                             \",\"Springfield, MO                                             \",\"Springfield, MO                                             \"],\"legendgroup\":\"Springfield, MO                                             \",\"marker\":{\"color\":\"#636efa\",\"symbol\":\"circle\"},\"mode\":\"markers\",\"name\":\"Springfield, MO                                             \",\"showlegend\":true,\"x\":[2023,2022,2021,2020,2019],\"xaxis\":\"x\",\"y\":[2167.0,1706.0,2638.0,2213.0,1621.0],\"yaxis\":\"y\",\"type\":\"scattergl\"},{\"hovertemplate\":\"<b>%{hovertext}</b><br><br>Name=Springfield, OH                                             <br>Year=%{x}<br>Total=%{y}<extra></extra>\",\"hovertext\":[\"Springfield, OH                                             \",\"Springfield, OH                                             \",\"Springfield, OH                                             \",\"Springfield, OH                                             \",\"Springfield, OH                                             \"],\"legendgroup\":\"Springfield, OH                                             \",\"marker\":{\"color\":\"#EF553B\",\"symbol\":\"circle\"},\"mode\":\"markers\",\"name\":\"Springfield, OH                                             \",\"showlegend\":true,\"x\":[2023,2022,2021,2020,2019],\"xaxis\":\"x\",\"y\":[215.0,183.0,199.0,139.0,76.0],\"yaxis\":\"y\",\"type\":\"scattergl\"},{\"hovertemplate\":\"<b>%{hovertext}</b><br><br>Name=St. Cloud, MN                                               <br>Year=%{x}<br>Total=%{y}<extra></extra>\",\"hovertext\":[\"St. Cloud, MN                                               \",\"St. Cloud, MN                                               \",\"St. Cloud, MN                                               \",\"St. Cloud, MN                                               \",\"St. Cloud, MN                                               \"],\"legendgroup\":\"St. Cloud, MN                                               \",\"marker\":{\"color\":\"#00cc96\",\"symbol\":\"circle\"},\"mode\":\"markers\",\"name\":\"St. Cloud, MN                                               \",\"showlegend\":true,\"x\":[2023,2022,2021,2020,2019],\"xaxis\":\"x\",\"y\":[567.0,696.0,624.0,615.0,718.0],\"yaxis\":\"y\",\"type\":\"scattergl\"},{\"hovertemplate\":\"<b>%{hovertext}</b><br><br>Name=St. George, UT                                              <br>Year=%{x}<br>Total=%{y}<extra></extra>\",\"hovertext\":[\"St. George, UT                                              \",\"St. George, UT                                              \",\"St. George, UT                                              \",\"St. George, UT                                              \",\"St. George, UT                                              \"],\"legendgroup\":\"St. George, UT                                              \",\"marker\":{\"color\":\"#ab63fa\",\"symbol\":\"circle\"},\"mode\":\"markers\",\"name\":\"St. George, UT                                              \",\"showlegend\":true,\"x\":[2023,2022,2021,2020,2019],\"xaxis\":\"x\",\"y\":[2841.0,3196.0,3484.0,3314.0,3557.0],\"yaxis\":\"y\",\"type\":\"scattergl\"},{\"hovertemplate\":\"<b>%{hovertext}</b><br><br>Name=St. Joseph, MO-KS                                           <br>Year=%{x}<br>Total=%{y}<extra></extra>\",\"hovertext\":[\"St. Joseph, MO-KS                                           \",\"St. Joseph, MO-KS                                           \",\"St. Joseph, MO-KS                                           \",\"St. Joseph, MO-KS                                           \",\"St. Joseph, MO-KS                                           \"],\"legendgroup\":\"St. Joseph, MO-KS                                           \",\"marker\":{\"color\":\"#FFA15A\",\"symbol\":\"circle\"},\"mode\":\"markers\",\"name\":\"St. Joseph, MO-KS                                           \",\"showlegend\":true,\"x\":[2023,2022,2021,2020,2019],\"xaxis\":\"x\",\"y\":[96.0,95.0,108.0,256.0,220.0],\"yaxis\":\"y\",\"type\":\"scattergl\"},{\"hovertemplate\":\"<b>%{hovertext}</b><br><br>Name=St. Louis, MO-IL                                            <br>Year=%{x}<br>Total=%{y}<extra></extra>\",\"hovertext\":[\"St. Louis, MO-IL                                            \",\"St. Louis, MO-IL                                            \",\"St. Louis, MO-IL                                            \",\"St. Louis, MO-IL                                            \",\"St. Louis, MO-IL                                            \"],\"legendgroup\":\"St. Louis, MO-IL                                            \",\"marker\":{\"color\":\"#19d3f3\",\"symbol\":\"circle\"},\"mode\":\"markers\",\"name\":\"St. Louis, MO-IL                                            \",\"showlegend\":true,\"x\":[2023,2022,2021,2020,2019],\"xaxis\":\"x\",\"y\":[7300.0,9131.0,8326.0,7863.0,7054.0],\"yaxis\":\"y\",\"type\":\"scattergl\"},{\"hovertemplate\":\"<b>%{hovertext}</b><br><br>Name=State College, PA                                           <br>Year=%{x}<br>Total=%{y}<extra></extra>\",\"hovertext\":[\"State College, PA                                           \",\"State College, PA                                           \",\"State College, PA                                           \",\"State College, PA                                           \",\"State College, PA                                           \"],\"legendgroup\":\"State College, PA                                           \",\"marker\":{\"color\":\"#FF6692\",\"symbol\":\"circle\"},\"mode\":\"markers\",\"name\":\"State College, PA                                           \",\"showlegend\":true,\"x\":[2023,2022,2021,2020,2019],\"xaxis\":\"x\",\"y\":[355.0,657.0,654.0,380.0,441.0],\"yaxis\":\"y\",\"type\":\"scattergl\"},{\"hovertemplate\":\"<b>%{hovertext}</b><br><br>Name=Staunton, VA                                                <br>Year=%{x}<br>Total=%{y}<extra></extra>\",\"hovertext\":[\"Staunton, VA                                                \",\"Staunton, VA                                                \",\"Staunton, VA                                                \",\"Staunton, VA                                                \",\"Staunton, VA                                                \"],\"legendgroup\":\"Staunton, VA                                                \",\"marker\":{\"color\":\"#B6E880\",\"symbol\":\"circle\"},\"mode\":\"markers\",\"name\":\"Staunton, VA                                                \",\"showlegend\":true,\"x\":[2023,2022,2021,2020,2019],\"xaxis\":\"x\",\"y\":[605.0,442.0,413.0,501.0,654.0],\"yaxis\":\"y\",\"type\":\"scattergl\"},{\"hovertemplate\":\"<b>%{hovertext}</b><br><br>Name=Stockton, CA                                                <br>Year=%{x}<br>Total=%{y}<extra></extra>\",\"hovertext\":[\"Stockton, CA                                                \",\"Stockton, CA                                                \",\"Stockton, CA                                                \",\"Stockton, CA                                                \",\"Stockton, CA                                                \"],\"legendgroup\":\"Stockton, CA                                                \",\"marker\":{\"color\":\"#FF97FF\",\"symbol\":\"circle\"},\"mode\":\"markers\",\"name\":\"Stockton, CA                                                \",\"showlegend\":true,\"x\":[2023,2022,2021,2020,2019],\"xaxis\":\"x\",\"y\":[2170.0,3751.0,4389.0,3914.0,3499.0],\"yaxis\":\"y\",\"type\":\"scattergl\"},{\"hovertemplate\":\"<b>%{hovertext}</b><br><br>Name=Sumter, SC                                                  <br>Year=%{x}<br>Total=%{y}<extra></extra>\",\"hovertext\":[\"Sumter, SC                                                  \",\"Sumter, SC                                                  \",\"Sumter, SC                                                  \",\"Sumter, SC                                                  \",\"Sumter, SC                                                  \"],\"legendgroup\":\"Sumter, SC                                                  \",\"marker\":{\"color\":\"#FECB52\",\"symbol\":\"circle\"},\"mode\":\"markers\",\"name\":\"Sumter, SC                                                  \",\"showlegend\":true,\"x\":[2023,2022,2021,2020,2019],\"xaxis\":\"x\",\"y\":[472.0,502.0,472.0,408.0,407.0],\"yaxis\":\"y\",\"type\":\"scattergl\"},{\"hovertemplate\":\"<b>%{hovertext}</b><br><br>Name=Syracuse, NY                                                <br>Year=%{x}<br>Total=%{y}<extra></extra>\",\"hovertext\":[\"Syracuse, NY                                                \",\"Syracuse, NY                                                \",\"Syracuse, NY                                                \",\"Syracuse, NY                                                \",\"Syracuse, NY                                                \"],\"legendgroup\":\"Syracuse, NY                                                \",\"marker\":{\"color\":\"#636efa\",\"symbol\":\"circle\"},\"mode\":\"markers\",\"name\":\"Syracuse, NY                                                \",\"showlegend\":true,\"x\":[2023,2022,2021,2020,2019],\"xaxis\":\"x\",\"y\":[526.0,580.0,693.0,777.0,757.0],\"yaxis\":\"y\",\"type\":\"scattergl\"},{\"hovertemplate\":\"<b>%{hovertext}</b><br><br>Name=Tallahassee, FL                                             <br>Year=%{x}<br>Total=%{y}<extra></extra>\",\"hovertext\":[\"Tallahassee, FL                                             \",\"Tallahassee, FL                                             \",\"Tallahassee, FL                                             \",\"Tallahassee, FL                                             \",\"Tallahassee, FL                                             \"],\"legendgroup\":\"Tallahassee, FL                                             \",\"marker\":{\"color\":\"#EF553B\",\"symbol\":\"circle\"},\"mode\":\"markers\",\"name\":\"Tallahassee, FL                                             \",\"showlegend\":true,\"x\":[2023,2022,2021,2020,2019],\"xaxis\":\"x\",\"y\":[2694.0,3056.0,2905.0,2445.0,2345.0],\"yaxis\":\"y\",\"type\":\"scattergl\"},{\"hovertemplate\":\"<b>%{hovertext}</b><br><br>Name=Tampa-St. Petersburg-Clearwater, FL                         <br>Year=%{x}<br>Total=%{y}<extra></extra>\",\"hovertext\":[\"Tampa-St. Petersburg-Clearwater, FL                         \",\"Tampa-St. Petersburg-Clearwater, FL                         \",\"Tampa-St. Petersburg-Clearwater, FL                         \",\"Tampa-St. Petersburg-Clearwater, FL                         \",\"Tampa-St. Petersburg-Clearwater, FL                         \"],\"legendgroup\":\"Tampa-St. Petersburg-Clearwater, FL                         \",\"marker\":{\"color\":\"#00cc96\",\"symbol\":\"circle\"},\"mode\":\"markers\",\"name\":\"Tampa-St. Petersburg-Clearwater, FL                         \",\"showlegend\":true,\"x\":[2023,2022,2021,2020,2019],\"xaxis\":\"x\",\"y\":[25395.0,29969.0,24831.0,20348.0,23540.0],\"yaxis\":\"y\",\"type\":\"scattergl\"},{\"hovertemplate\":\"<b>%{hovertext}</b><br><br>Name=Terre Haute, IN                                             <br>Year=%{x}<br>Total=%{y}<extra></extra>\",\"hovertext\":[\"Terre Haute, IN                                             \",\"Terre Haute, IN                                             \",\"Terre Haute, IN                                             \",\"Terre Haute, IN                                             \",\"Terre Haute, IN                                             \"],\"legendgroup\":\"Terre Haute, IN                                             \",\"marker\":{\"color\":\"#ab63fa\",\"symbol\":\"circle\"},\"mode\":\"markers\",\"name\":\"Terre Haute, IN                                             \",\"showlegend\":true,\"x\":[2023,2022,2021,2020,2019],\"xaxis\":\"x\",\"y\":[149.0,216.0,170.0,140.0,87.0],\"yaxis\":\"y\",\"type\":\"scattergl\"},{\"hovertemplate\":\"<b>%{hovertext}</b><br><br>Name=Texarkana, TX-AR                                            <br>Year=%{x}<br>Total=%{y}<extra></extra>\",\"hovertext\":[\"Texarkana, TX-AR                                            \",\"Texarkana, TX-AR                                            \",\"Texarkana, TX-AR                                            \",\"Texarkana, TX-AR                                            \",\"Texarkana, TX-AR                                            \"],\"legendgroup\":\"Texarkana, TX-AR                                            \",\"marker\":{\"color\":\"#FFA15A\",\"symbol\":\"circle\"},\"mode\":\"markers\",\"name\":\"Texarkana, TX-AR                                            \",\"showlegend\":true,\"x\":[2023,2022,2021,2020,2019],\"xaxis\":\"x\",\"y\":[217.0,161.0,259.0,96.0,82.0],\"yaxis\":\"y\",\"type\":\"scattergl\"},{\"hovertemplate\":\"<b>%{hovertext}</b><br><br>Name=The Villages, FL                                            <br>Year=%{x}<br>Total=%{y}<extra></extra>\",\"hovertext\":[\"The Villages, FL                                            \",\"The Villages, FL                                            \",\"The Villages, FL                                            \",\"The Villages, FL                                            \",\"The Villages, FL                                            \"],\"legendgroup\":\"The Villages, FL                                            \",\"marker\":{\"color\":\"#19d3f3\",\"symbol\":\"circle\"},\"mode\":\"markers\",\"name\":\"The Villages, FL                                            \",\"showlegend\":true,\"x\":[2023,2022,2021,2020,2019],\"xaxis\":\"x\",\"y\":[3339.0,4551.0,4611.0,3698.0,2928.0],\"yaxis\":\"y\",\"type\":\"scattergl\"},{\"hovertemplate\":\"<b>%{hovertext}</b><br><br>Name=Toledo, OH                                                  <br>Year=%{x}<br>Total=%{y}<extra></extra>\",\"hovertext\":[\"Toledo, OH                                                  \",\"Toledo, OH                                                  \",\"Toledo, OH                                                  \",\"Toledo, OH                                                  \",\"Toledo, OH                                                  \"],\"legendgroup\":\"Toledo, OH                                                  \",\"marker\":{\"color\":\"#FF6692\",\"symbol\":\"circle\"},\"mode\":\"markers\",\"name\":\"Toledo, OH                                                  \",\"showlegend\":true,\"x\":[2023,2022,2021,2020,2019],\"xaxis\":\"x\",\"y\":[1352.0,1119.0,1210.0,1557.0,1414.0],\"yaxis\":\"y\",\"type\":\"scattergl\"},{\"hovertemplate\":\"<b>%{hovertext}</b><br><br>Name=Topeka, KS                                                  <br>Year=%{x}<br>Total=%{y}<extra></extra>\",\"hovertext\":[\"Topeka, KS                                                  \",\"Topeka, KS                                                  \",\"Topeka, KS                                                  \",\"Topeka, KS                                                  \",\"Topeka, KS                                                  \"],\"legendgroup\":\"Topeka, KS                                                  \",\"marker\":{\"color\":\"#B6E880\",\"symbol\":\"circle\"},\"mode\":\"markers\",\"name\":\"Topeka, KS                                                  \",\"showlegend\":true,\"x\":[2023,2022,2021,2020,2019],\"xaxis\":\"x\",\"y\":[345.0,429.0,717.0,544.0,322.0],\"yaxis\":\"y\",\"type\":\"scattergl\"},{\"hovertemplate\":\"<b>%{hovertext}</b><br><br>Name=Trenton-Princeton, NJ                                       <br>Year=%{x}<br>Total=%{y}<extra></extra>\",\"hovertext\":[\"Trenton-Princeton, NJ                                       \",\"Trenton-Princeton, NJ                                       \",\"Trenton-Princeton, NJ                                       \",\"Trenton-Princeton, NJ                                       \",\"Trenton-Princeton, NJ                                       \"],\"legendgroup\":\"Trenton-Princeton, NJ                                       \",\"marker\":{\"color\":\"#FF97FF\",\"symbol\":\"circle\"},\"mode\":\"markers\",\"name\":\"Trenton-Princeton, NJ                                       \",\"showlegend\":true,\"x\":[2023,2022,2021,2020,2019],\"xaxis\":\"x\",\"y\":[978.0,643.0,544.0,832.0,538.0],\"yaxis\":\"y\",\"type\":\"scattergl\"},{\"hovertemplate\":\"<b>%{hovertext}</b><br><br>Name=Tucson, AZ                                                  <br>Year=%{x}<br>Total=%{y}<extra></extra>\",\"hovertext\":[\"Tucson, AZ                                                  \",\"Tucson, AZ                                                  \",\"Tucson, AZ                                                  \",\"Tucson, AZ                                                  \",\"Tucson, AZ                                                  \"],\"legendgroup\":\"Tucson, AZ                                                  \",\"marker\":{\"color\":\"#FECB52\",\"symbol\":\"circle\"},\"mode\":\"markers\",\"name\":\"Tucson, AZ                                                  \",\"showlegend\":true,\"x\":[2023,2022,2021,2020,2019],\"xaxis\":\"x\",\"y\":[5255.0,5714.0,6284.0,4958.0,4313.0],\"yaxis\":\"y\",\"type\":\"scattergl\"},{\"hovertemplate\":\"<b>%{hovertext}</b><br><br>Name=Tulsa, OK                                                   <br>Year=%{x}<br>Total=%{y}<extra></extra>\",\"hovertext\":[\"Tulsa, OK                                                   \",\"Tulsa, OK                                                   \",\"Tulsa, OK                                                   \",\"Tulsa, OK                                                   \",\"Tulsa, OK                                                   \"],\"legendgroup\":\"Tulsa, OK                                                   \",\"marker\":{\"color\":\"#636efa\",\"symbol\":\"circle\"},\"mode\":\"markers\",\"name\":\"Tulsa, OK                                                   \",\"showlegend\":true,\"x\":[2023,2022,2021,2020,2019],\"xaxis\":\"x\",\"y\":[5111.0,5123.0,4920.0,4924.0,4306.0],\"yaxis\":\"y\",\"type\":\"scattergl\"},{\"hovertemplate\":\"<b>%{hovertext}</b><br><br>Name=Tuscaloosa, AL                                              <br>Year=%{x}<br>Total=%{y}<extra></extra>\",\"hovertext\":[\"Tuscaloosa, AL                                              \",\"Tuscaloosa, AL                                              \",\"Tuscaloosa, AL                                              \",\"Tuscaloosa, AL                                              \",\"Tuscaloosa, AL                                              \"],\"legendgroup\":\"Tuscaloosa, AL                                              \",\"marker\":{\"color\":\"#EF553B\",\"symbol\":\"circle\"},\"mode\":\"markers\",\"name\":\"Tuscaloosa, AL                                              \",\"showlegend\":true,\"x\":[2023,2022,2021,2020,2019],\"xaxis\":\"x\",\"y\":[696.0,1043.0,1496.0,1269.0,1474.0],\"yaxis\":\"y\",\"type\":\"scattergl\"},{\"hovertemplate\":\"<b>%{hovertext}</b><br><br>Name=Twin Falls, ID                                              <br>Year=%{x}<br>Total=%{y}<extra></extra>\",\"hovertext\":[\"Twin Falls, ID                                              \",\"Twin Falls, ID                                              \",\"Twin Falls, ID                                              \",\"Twin Falls, ID                                              \",\"Twin Falls, ID                                              \"],\"legendgroup\":\"Twin Falls, ID                                              \",\"marker\":{\"color\":\"#00cc96\",\"symbol\":\"circle\"},\"mode\":\"markers\",\"name\":\"Twin Falls, ID                                              \",\"showlegend\":true,\"x\":[2023,2022,2021,2020,2019],\"xaxis\":\"x\",\"y\":[455.0,605.0,1068.0,1053.0,835.0],\"yaxis\":\"y\",\"type\":\"scattergl\"},{\"hovertemplate\":\"<b>%{hovertext}</b><br><br>Name=Tyler, TX                                                   <br>Year=%{x}<br>Total=%{y}<extra></extra>\",\"hovertext\":[\"Tyler, TX                                                   \",\"Tyler, TX                                                   \",\"Tyler, TX                                                   \",\"Tyler, TX                                                   \",\"Tyler, TX                                                   \"],\"legendgroup\":\"Tyler, TX                                                   \",\"marker\":{\"color\":\"#ab63fa\",\"symbol\":\"circle\"},\"mode\":\"markers\",\"name\":\"Tyler, TX                                                   \",\"showlegend\":true,\"x\":[2023,2022,2021,2020,2019],\"xaxis\":\"x\",\"y\":[757.0,830.0,912.0,828.0,657.0],\"yaxis\":\"y\",\"type\":\"scattergl\"},{\"hovertemplate\":\"<b>%{hovertext}</b><br><br>Name=Urban Honolulu, HI                                          <br>Year=%{x}<br>Total=%{y}<extra></extra>\",\"hovertext\":[\"Urban Honolulu, HI                                          \",\"Urban Honolulu, HI                                          \",\"Urban Honolulu, HI                                          \",\"Urban Honolulu, HI                                          \",\"Urban Honolulu, HI                                          \"],\"legendgroup\":\"Urban Honolulu, HI                                          \",\"marker\":{\"color\":\"#FFA15A\",\"symbol\":\"circle\"},\"mode\":\"markers\",\"name\":\"Urban Honolulu, HI                                          \",\"showlegend\":true,\"x\":[2023,2022,2021,2020,2019],\"xaxis\":\"x\",\"y\":[1851.0,2553.0,1438.0,1621.0,2279.0],\"yaxis\":\"y\",\"type\":\"scattergl\"},{\"hovertemplate\":\"<b>%{hovertext}</b><br><br>Name=Utica-Rome, NY                                              <br>Year=%{x}<br>Total=%{y}<extra></extra>\",\"hovertext\":[\"Utica-Rome, NY                                              \",\"Utica-Rome, NY                                              \",\"Utica-Rome, NY                                              \",\"Utica-Rome, NY                                              \",\"Utica-Rome, NY                                              \"],\"legendgroup\":\"Utica-Rome, NY                                              \",\"marker\":{\"color\":\"#19d3f3\",\"symbol\":\"circle\"},\"mode\":\"markers\",\"name\":\"Utica-Rome, NY                                              \",\"showlegend\":true,\"x\":[2023,2022,2021,2020,2019],\"xaxis\":\"x\",\"y\":[242.0,324.0,456.0,414.0,352.0],\"yaxis\":\"y\",\"type\":\"scattergl\"},{\"hovertemplate\":\"<b>%{hovertext}</b><br><br>Name=Valdosta, GA                                                <br>Year=%{x}<br>Total=%{y}<extra></extra>\",\"hovertext\":[\"Valdosta, GA                                                \",\"Valdosta, GA                                                \",\"Valdosta, GA                                                \",\"Valdosta, GA                                                \",\"Valdosta, GA                                                \"],\"legendgroup\":\"Valdosta, GA                                                \",\"marker\":{\"color\":\"#FF6692\",\"symbol\":\"circle\"},\"mode\":\"markers\",\"name\":\"Valdosta, GA                                                \",\"showlegend\":true,\"x\":[2023,2022,2021,2020,2019],\"xaxis\":\"x\",\"y\":[913.0,1302.0,1535.0,1366.0,1276.0],\"yaxis\":\"y\",\"type\":\"scattergl\"},{\"hovertemplate\":\"<b>%{hovertext}</b><br><br>Name=Vallejo, CA                                                 <br>Year=%{x}<br>Total=%{y}<extra></extra>\",\"hovertext\":[\"Vallejo, CA                                                 \",\"Vallejo, CA                                                 \",\"Vallejo, CA                                                 \",\"Vallejo, CA                                                 \",\"Vallejo, CA                                                 \"],\"legendgroup\":\"Vallejo, CA                                                 \",\"marker\":{\"color\":\"#B6E880\",\"symbol\":\"circle\"},\"mode\":\"markers\",\"name\":\"Vallejo, CA                                                 \",\"showlegend\":true,\"x\":[2023,2022,2021,2020,2019],\"xaxis\":\"x\",\"y\":[1416.0,1154.0,1378.0,1733.0,1089.0],\"yaxis\":\"y\",\"type\":\"scattergl\"},{\"hovertemplate\":\"<b>%{hovertext}</b><br><br>Name=Victoria, TX                                                <br>Year=%{x}<br>Total=%{y}<extra></extra>\",\"hovertext\":[\"Victoria, TX                                                \",\"Victoria, TX                                                \",\"Victoria, TX                                                \",\"Victoria, TX                                                \",\"Victoria, TX                                                \"],\"legendgroup\":\"Victoria, TX                                                \",\"marker\":{\"color\":\"#FF97FF\",\"symbol\":\"circle\"},\"mode\":\"markers\",\"name\":\"Victoria, TX                                                \",\"showlegend\":true,\"x\":[2023,2022,2021,2020,2019],\"xaxis\":\"x\",\"y\":[90.0,204.0,391.0,132.0,201.0],\"yaxis\":\"y\",\"type\":\"scattergl\"},{\"hovertemplate\":\"<b>%{hovertext}</b><br><br>Name=Vineland-Bridgeton, NJ                                      <br>Year=%{x}<br>Total=%{y}<extra></extra>\",\"hovertext\":[\"Vineland-Bridgeton, NJ                                      \",\"Vineland-Bridgeton, NJ                                      \",\"Vineland-Bridgeton, NJ                                      \",\"Vineland-Bridgeton, NJ                                      \",\"Vineland-Bridgeton, NJ                                      \"],\"legendgroup\":\"Vineland-Bridgeton, NJ                                      \",\"marker\":{\"color\":\"#FECB52\",\"symbol\":\"circle\"},\"mode\":\"markers\",\"name\":\"Vineland-Bridgeton, NJ                                      \",\"showlegend\":true,\"x\":[2023,2022,2021,2020,2019],\"xaxis\":\"x\",\"y\":[112.0,120.0,185.0,179.0,132.0],\"yaxis\":\"y\",\"type\":\"scattergl\"},{\"hovertemplate\":\"<b>%{hovertext}</b><br><br>Name=Virginia Beach-Norfolk-Newport News, VA-NC                  <br>Year=%{x}<br>Total=%{y}<extra></extra>\",\"hovertext\":[\"Virginia Beach-Norfolk-Newport News, VA-NC                  \",\"Virginia Beach-Norfolk-Newport News, VA-NC                  \",\"Virginia Beach-Norfolk-Newport News, VA-NC                  \",\"Virginia Beach-Norfolk-Newport News, VA-NC                  \",\"Virginia Beach-Norfolk-Newport News, VA-NC                  \"],\"legendgroup\":\"Virginia Beach-Norfolk-Newport News, VA-NC                  \",\"marker\":{\"color\":\"#636efa\",\"symbol\":\"circle\"},\"mode\":\"markers\",\"name\":\"Virginia Beach-Norfolk-Newport News, VA-NC                  \",\"showlegend\":true,\"x\":[2023,2022,2021,2020,2019],\"xaxis\":\"x\",\"y\":[6114.0,6313.0,7377.0,6951.0,5908.0],\"yaxis\":\"y\",\"type\":\"scattergl\"},{\"hovertemplate\":\"<b>%{hovertext}</b><br><br>Name=Visalia, CA                                                 <br>Year=%{x}<br>Total=%{y}<extra></extra>\",\"hovertext\":[\"Visalia, CA                                                 \",\"Visalia, CA                                                 \",\"Visalia, CA                                                 \",\"Visalia, CA                                                 \",\"Visalia, CA                                                 \"],\"legendgroup\":\"Visalia, CA                                                 \",\"marker\":{\"color\":\"#EF553B\",\"symbol\":\"circle\"},\"mode\":\"markers\",\"name\":\"Visalia, CA                                                 \",\"showlegend\":true,\"x\":[2023,2022,2021,2020,2019],\"xaxis\":\"x\",\"y\":[1175.0,2385.0,1510.0,1575.0,1872.0],\"yaxis\":\"y\",\"type\":\"scattergl\"},{\"hovertemplate\":\"<b>%{hovertext}</b><br><br>Name=Waco, TX                                                    <br>Year=%{x}<br>Total=%{y}<extra></extra>\",\"hovertext\":[\"Waco, TX                                                    \",\"Waco, TX                                                    \",\"Waco, TX                                                    \",\"Waco, TX                                                    \",\"Waco, TX                                                    \"],\"legendgroup\":\"Waco, TX                                                    \",\"marker\":{\"color\":\"#00cc96\",\"symbol\":\"circle\"},\"mode\":\"markers\",\"name\":\"Waco, TX                                                    \",\"showlegend\":true,\"x\":[2023,2022,2021,2020,2019],\"xaxis\":\"x\",\"y\":[1741.0,1349.0,1107.0,1214.0,1222.0],\"yaxis\":\"y\",\"type\":\"scattergl\"},{\"hovertemplate\":\"<b>%{hovertext}</b><br><br>Name=Walla Walla, WA                                             <br>Year=%{x}<br>Total=%{y}<extra></extra>\",\"hovertext\":[\"Walla Walla, WA                                             \",\"Walla Walla, WA                                             \",\"Walla Walla, WA                                             \",\"Walla Walla, WA                                             \",\"Walla Walla, WA                                             \"],\"legendgroup\":\"Walla Walla, WA                                             \",\"marker\":{\"color\":\"#ab63fa\",\"symbol\":\"circle\"},\"mode\":\"markers\",\"name\":\"Walla Walla, WA                                             \",\"showlegend\":true,\"x\":[2023,2022,2021,2020,2019],\"xaxis\":\"x\",\"y\":[242.0,178.0,261.0,154.0,190.0],\"yaxis\":\"y\",\"type\":\"scattergl\"},{\"hovertemplate\":\"<b>%{hovertext}</b><br><br>Name=Warner Robins, GA                                           <br>Year=%{x}<br>Total=%{y}<extra></extra>\",\"hovertext\":[\"Warner Robins, GA                                           \",\"Warner Robins, GA                                           \",\"Warner Robins, GA                                           \",\"Warner Robins, GA                                           \",\"Warner Robins, GA                                           \"],\"legendgroup\":\"Warner Robins, GA                                           \",\"marker\":{\"color\":\"#FFA15A\",\"symbol\":\"circle\"},\"mode\":\"markers\",\"name\":\"Warner Robins, GA                                           \",\"showlegend\":true,\"x\":[2023,2022,2021,2020,2019],\"xaxis\":\"x\",\"y\":[1845.0,2495.0,1534.0,1307.0,1282.0],\"yaxis\":\"y\",\"type\":\"scattergl\"},{\"hovertemplate\":\"<b>%{hovertext}</b><br><br>Name=Washington-Arlington-Alexandria, DC-VA-MD-WV                <br>Year=%{x}<br>Total=%{y}<extra></extra>\",\"hovertext\":[\"Washington-Arlington-Alexandria, DC-VA-MD-WV                \",\"Washington-Arlington-Alexandria, DC-VA-MD-WV                \",\"Washington-Arlington-Alexandria, DC-VA-MD-WV                \",\"Washington-Arlington-Alexandria, DC-VA-MD-WV                \",\"Washington-Arlington-Alexandria, DC-VA-MD-WV                \"],\"legendgroup\":\"Washington-Arlington-Alexandria, DC-VA-MD-WV                \",\"marker\":{\"color\":\"#19d3f3\",\"symbol\":\"circle\"},\"mode\":\"markers\",\"name\":\"Washington-Arlington-Alexandria, DC-VA-MD-WV                \",\"showlegend\":true,\"x\":[2023,2022,2021,2020,2019],\"xaxis\":\"x\",\"y\":[23034.0,32393.0,27414.0,25166.0,26804.0],\"yaxis\":\"y\",\"type\":\"scattergl\"},{\"hovertemplate\":\"<b>%{hovertext}</b><br><br>Name=Waterloo-Cedar Falls, IA                                    <br>Year=%{x}<br>Total=%{y}<extra></extra>\",\"hovertext\":[\"Waterloo-Cedar Falls, IA                                    \",\"Waterloo-Cedar Falls, IA                                    \",\"Waterloo-Cedar Falls, IA                                    \",\"Waterloo-Cedar Falls, IA                                    \",\"Waterloo-Cedar Falls, IA                                    \"],\"legendgroup\":\"Waterloo-Cedar Falls, IA                                    \",\"marker\":{\"color\":\"#FF6692\",\"symbol\":\"circle\"},\"mode\":\"markers\",\"name\":\"Waterloo-Cedar Falls, IA                                    \",\"showlegend\":true,\"x\":[2023,2022,2021,2020,2019],\"xaxis\":\"x\",\"y\":[484.0,264.0,205.0,351.0,489.0],\"yaxis\":\"y\",\"type\":\"scattergl\"},{\"hovertemplate\":\"<b>%{hovertext}</b><br><br>Name=Watertown-Fort Drum, NY                                     <br>Year=%{x}<br>Total=%{y}<extra></extra>\",\"hovertext\":[\"Watertown-Fort Drum, NY                                     \",\"Watertown-Fort Drum, NY                                     \",\"Watertown-Fort Drum, NY                                     \",\"Watertown-Fort Drum, NY                                     \",\"Watertown-Fort Drum, NY                                     \"],\"legendgroup\":\"Watertown-Fort Drum, NY                                     \",\"marker\":{\"color\":\"#B6E880\",\"symbol\":\"circle\"},\"mode\":\"markers\",\"name\":\"Watertown-Fort Drum, NY                                     \",\"showlegend\":true,\"x\":[2023,2022,2021,2020,2019],\"xaxis\":\"x\",\"y\":[190.0,179.0,161.0,129.0,138.0],\"yaxis\":\"y\",\"type\":\"scattergl\"},{\"hovertemplate\":\"<b>%{hovertext}</b><br><br>Name=Wausau-Weston, WI                                           <br>Year=%{x}<br>Total=%{y}<extra></extra>\",\"hovertext\":[\"Wausau-Weston, WI                                           \",\"Wausau-Weston, WI                                           \",\"Wausau-Weston, WI                                           \",\"Wausau-Weston, WI                                           \",\"Wausau-Weston, WI                                           \"],\"legendgroup\":\"Wausau-Weston, WI                                           \",\"marker\":{\"color\":\"#FF97FF\",\"symbol\":\"circle\"},\"mode\":\"markers\",\"name\":\"Wausau-Weston, WI                                           \",\"showlegend\":true,\"x\":[2023,2022,2021,2020,2019],\"xaxis\":\"x\",\"y\":[573.0,487.0,680.0,532.0,579.0],\"yaxis\":\"y\",\"type\":\"scattergl\"},{\"hovertemplate\":\"<b>%{hovertext}</b><br><br>Name=Weirton-Steubenville, WV-OH                                 <br>Year=%{x}<br>Total=%{y}<extra></extra>\",\"hovertext\":[\"Weirton-Steubenville, WV-OH                                 \",\"Weirton-Steubenville, WV-OH                                 \",\"Weirton-Steubenville, WV-OH                                 \",\"Weirton-Steubenville, WV-OH                                 \",\"Weirton-Steubenville, WV-OH                                 \"],\"legendgroup\":\"Weirton-Steubenville, WV-OH                                 \",\"marker\":{\"color\":\"#FECB52\",\"symbol\":\"circle\"},\"mode\":\"markers\",\"name\":\"Weirton-Steubenville, WV-OH                                 \",\"showlegend\":true,\"x\":[2023,2022,2021,2020,2019],\"xaxis\":\"x\",\"y\":[15.0,33.0,34.0,30.0,25.0],\"yaxis\":\"y\",\"type\":\"scattergl\"},{\"hovertemplate\":\"<b>%{hovertext}</b><br><br>Name=Wenatchee, WA                                               <br>Year=%{x}<br>Total=%{y}<extra></extra>\",\"hovertext\":[\"Wenatchee, WA                                               \",\"Wenatchee, WA                                               \",\"Wenatchee, WA                                               \",\"Wenatchee, WA                                               \",\"Wenatchee, WA                                               \"],\"legendgroup\":\"Wenatchee, WA                                               \",\"marker\":{\"color\":\"#636efa\",\"symbol\":\"circle\"},\"mode\":\"markers\",\"name\":\"Wenatchee, WA                                               \",\"showlegend\":true,\"x\":[2023,2022,2021,2020,2019],\"xaxis\":\"x\",\"y\":[589.0,861.0,1000.0,991.0,955.0],\"yaxis\":\"y\",\"type\":\"scattergl\"},{\"hovertemplate\":\"<b>%{hovertext}</b><br><br>Name=Wheeling, WV-OH                                             <br>Year=%{x}<br>Total=%{y}<extra></extra>\",\"hovertext\":[\"Wheeling, WV-OH                                             \",\"Wheeling, WV-OH                                             \",\"Wheeling, WV-OH                                             \",\"Wheeling, WV-OH                                             \",\"Wheeling, WV-OH                                             \"],\"legendgroup\":\"Wheeling, WV-OH                                             \",\"marker\":{\"color\":\"#EF553B\",\"symbol\":\"circle\"},\"mode\":\"markers\",\"name\":\"Wheeling, WV-OH                                             \",\"showlegend\":true,\"x\":[2023,2022,2021,2020,2019],\"xaxis\":\"x\",\"y\":[13.0,18.0,96.0,55.0,12.0],\"yaxis\":\"y\",\"type\":\"scattergl\"},{\"hovertemplate\":\"<b>%{hovertext}</b><br><br>Name=Wichita Falls, TX                                           <br>Year=%{x}<br>Total=%{y}<extra></extra>\",\"hovertext\":[\"Wichita Falls, TX                                           \",\"Wichita Falls, TX                                           \",\"Wichita Falls, TX                                           \",\"Wichita Falls, TX                                           \",\"Wichita Falls, TX                                           \"],\"legendgroup\":\"Wichita Falls, TX                                           \",\"marker\":{\"color\":\"#00cc96\",\"symbol\":\"circle\"},\"mode\":\"markers\",\"name\":\"Wichita Falls, TX                                           \",\"showlegend\":true,\"x\":[2023,2022,2021,2020,2019],\"xaxis\":\"x\",\"y\":[263.0,378.0,191.0,238.0,189.0],\"yaxis\":\"y\",\"type\":\"scattergl\"},{\"hovertemplate\":\"<b>%{hovertext}</b><br><br>Name=Wichita, KS                                                 <br>Year=%{x}<br>Total=%{y}<extra></extra>\",\"hovertext\":[\"Wichita, KS                                                 \",\"Wichita, KS                                                 \",\"Wichita, KS                                                 \",\"Wichita, KS                                                 \",\"Wichita, KS                                                 \"],\"legendgroup\":\"Wichita, KS                                                 \",\"marker\":{\"color\":\"#ab63fa\",\"symbol\":\"circle\"},\"mode\":\"markers\",\"name\":\"Wichita, KS                                                 \",\"showlegend\":true,\"x\":[2023,2022,2021,2020,2019],\"xaxis\":\"x\",\"y\":[2676.0,2850.0,2384.0,2024.0,2126.0],\"yaxis\":\"y\",\"type\":\"scattergl\"},{\"hovertemplate\":\"<b>%{hovertext}</b><br><br>Name=Williamsport, PA                                            <br>Year=%{x}<br>Total=%{y}<extra></extra>\",\"hovertext\":[\"Williamsport, PA                                            \",\"Williamsport, PA                                            \",\"Williamsport, PA                                            \",\"Williamsport, PA                                            \",\"Williamsport, PA                                            \"],\"legendgroup\":\"Williamsport, PA                                            \",\"marker\":{\"color\":\"#FFA15A\",\"symbol\":\"circle\"},\"mode\":\"markers\",\"name\":\"Williamsport, PA                                            \",\"showlegend\":true,\"x\":[2023,2022,2021,2020,2019],\"xaxis\":\"x\",\"y\":[87.0,113.0,56.0,52.0,78.0],\"yaxis\":\"y\",\"type\":\"scattergl\"},{\"hovertemplate\":\"<b>%{hovertext}</b><br><br>Name=Wilmington, NC                                              <br>Year=%{x}<br>Total=%{y}<extra></extra>\",\"hovertext\":[\"Wilmington, NC                                              \",\"Wilmington, NC                                              \",\"Wilmington, NC                                              \",\"Wilmington, NC                                              \",\"Wilmington, NC                                              \"],\"legendgroup\":\"Wilmington, NC                                              \",\"marker\":{\"color\":\"#19d3f3\",\"symbol\":\"circle\"},\"mode\":\"markers\",\"name\":\"Wilmington, NC                                              \",\"showlegend\":true,\"x\":[2023,2022,2021,2020,2019],\"xaxis\":\"x\",\"y\":[3829.0,4421.0,4418.0,3857.0,3575.0],\"yaxis\":\"y\",\"type\":\"scattergl\"},{\"hovertemplate\":\"<b>%{hovertext}</b><br><br>Name=Winchester, VA-WV                                           <br>Year=%{x}<br>Total=%{y}<extra></extra>\",\"hovertext\":[\"Winchester, VA-WV                                           \",\"Winchester, VA-WV                                           \",\"Winchester, VA-WV                                           \",\"Winchester, VA-WV                                           \",\"Winchester, VA-WV                                           \"],\"legendgroup\":\"Winchester, VA-WV                                           \",\"marker\":{\"color\":\"#FF6692\",\"symbol\":\"circle\"},\"mode\":\"markers\",\"name\":\"Winchester, VA-WV                                           \",\"showlegend\":true,\"x\":[2023,2022,2021,2020,2019],\"xaxis\":\"x\",\"y\":[1002.0,1041.0,1022.0,798.0,896.0],\"yaxis\":\"y\",\"type\":\"scattergl\"},{\"hovertemplate\":\"<b>%{hovertext}</b><br><br>Name=Winston-Salem, NC                                           <br>Year=%{x}<br>Total=%{y}<extra></extra>\",\"hovertext\":[\"Winston-Salem, NC                                           \",\"Winston-Salem, NC                                           \",\"Winston-Salem, NC                                           \",\"Winston-Salem, NC                                           \",\"Winston-Salem, NC                                           \"],\"legendgroup\":\"Winston-Salem, NC                                           \",\"marker\":{\"color\":\"#B6E880\",\"symbol\":\"circle\"},\"mode\":\"markers\",\"name\":\"Winston-Salem, NC                                           \",\"showlegend\":true,\"x\":[2023,2022,2021,2020,2019],\"xaxis\":\"x\",\"y\":[5028.0,4050.0,4206.0,4216.0,3334.0],\"yaxis\":\"y\",\"type\":\"scattergl\"},{\"hovertemplate\":\"<b>%{hovertext}</b><br><br>Name=Worcester, MA-CT                                            <br>Year=%{x}<br>Total=%{y}<extra></extra>\",\"hovertext\":[\"Worcester, MA-CT                                            \",\"Worcester, MA-CT                                            \",\"Worcester, MA-CT                                            \",\"Worcester, MA-CT                                            \",\"Worcester, MA-CT                                            \"],\"legendgroup\":\"Worcester, MA-CT                                            \",\"marker\":{\"color\":\"#FF97FF\",\"symbol\":\"circle\"},\"mode\":\"markers\",\"name\":\"Worcester, MA-CT                                            \",\"showlegend\":true,\"x\":[2023,2022,2021,2020,2019],\"xaxis\":\"x\",\"y\":[1388.0,2252.0,2053.0,1830.0,1917.0],\"yaxis\":\"y\",\"type\":\"scattergl\"},{\"hovertemplate\":\"<b>%{hovertext}</b><br><br>Name=Yakima, WA                                                  <br>Year=%{x}<br>Total=%{y}<extra></extra>\",\"hovertext\":[\"Yakima, WA                                                  \",\"Yakima, WA                                                  \",\"Yakima, WA                                                  \",\"Yakima, WA                                                  \",\"Yakima, WA                                                  \"],\"legendgroup\":\"Yakima, WA                                                  \",\"marker\":{\"color\":\"#FECB52\",\"symbol\":\"circle\"},\"mode\":\"markers\",\"name\":\"Yakima, WA                                                  \",\"showlegend\":true,\"x\":[2023,2022,2021,2020,2019],\"xaxis\":\"x\",\"y\":[648.0,706.0,1103.0,575.0,1043.0],\"yaxis\":\"y\",\"type\":\"scattergl\"},{\"hovertemplate\":\"<b>%{hovertext}</b><br><br>Name=York-Hanover, PA                                            <br>Year=%{x}<br>Total=%{y}<extra></extra>\",\"hovertext\":[\"York-Hanover, PA                                            \",\"York-Hanover, PA                                            \",\"York-Hanover, PA                                            \",\"York-Hanover, PA                                            \",\"York-Hanover, PA                                            \"],\"legendgroup\":\"York-Hanover, PA                                            \",\"marker\":{\"color\":\"#636efa\",\"symbol\":\"circle\"},\"mode\":\"markers\",\"name\":\"York-Hanover, PA                                            \",\"showlegend\":true,\"x\":[2023,2022,2021,2020,2019],\"xaxis\":\"x\",\"y\":[1143.0,1362.0,1316.0,1204.0,1313.0],\"yaxis\":\"y\",\"type\":\"scattergl\"},{\"hovertemplate\":\"<b>%{hovertext}</b><br><br>Name=Youngstown-Warren-Boardman, OH-PA                           <br>Year=%{x}<br>Total=%{y}<extra></extra>\",\"hovertext\":[\"Youngstown-Warren-Boardman, OH-PA                           \",\"Youngstown-Warren-Boardman, OH-PA                           \",\"Youngstown-Warren-Boardman, OH-PA                           \",\"Youngstown-Warren-Boardman, OH-PA                           \",\"Youngstown-Warren-Boardman, OH-PA                           \"],\"legendgroup\":\"Youngstown-Warren-Boardman, OH-PA                           \",\"marker\":{\"color\":\"#EF553B\",\"symbol\":\"circle\"},\"mode\":\"markers\",\"name\":\"Youngstown-Warren-Boardman, OH-PA                           \",\"showlegend\":true,\"x\":[2023,2022,2021,2020,2019],\"xaxis\":\"x\",\"y\":[299.0,364.0,400.0,324.0,330.0],\"yaxis\":\"y\",\"type\":\"scattergl\"},{\"hovertemplate\":\"<b>%{hovertext}</b><br><br>Name=Yuba City, CA                                               <br>Year=%{x}<br>Total=%{y}<extra></extra>\",\"hovertext\":[\"Yuba City, CA                                               \",\"Yuba City, CA                                               \",\"Yuba City, CA                                               \",\"Yuba City, CA                                               \",\"Yuba City, CA                                               \"],\"legendgroup\":\"Yuba City, CA                                               \",\"marker\":{\"color\":\"#00cc96\",\"symbol\":\"circle\"},\"mode\":\"markers\",\"name\":\"Yuba City, CA                                               \",\"showlegend\":true,\"x\":[2023,2022,2021,2020,2019],\"xaxis\":\"x\",\"y\":[624.0,738.0,981.0,586.0,678.0],\"yaxis\":\"y\",\"type\":\"scattergl\"},{\"hovertemplate\":\"<b>%{hovertext}</b><br><br>Name=Yuma, AZ                                                    <br>Year=%{x}<br>Total=%{y}<extra></extra>\",\"hovertext\":[\"Yuma, AZ                                                    \",\"Yuma, AZ                                                    \",\"Yuma, AZ                                                    \",\"Yuma, AZ                                                    \",\"Yuma, AZ                                                    \"],\"legendgroup\":\"Yuma, AZ                                                    \",\"marker\":{\"color\":\"#ab63fa\",\"symbol\":\"circle\"},\"mode\":\"markers\",\"name\":\"Yuma, AZ                                                    \",\"showlegend\":true,\"x\":[2023,2022,2021,2020,2019],\"xaxis\":\"x\",\"y\":[873.0,852.0,1291.0,1290.0,1206.0],\"yaxis\":\"y\",\"type\":\"scattergl\"},{\"hovertemplate\":\"<b>%{hovertext}</b><br><br>Name=Macon, GA                                                   <br>Year=%{x}<br>Total=%{y}<extra></extra>\",\"hovertext\":[\"Macon, GA                                                   \"],\"legendgroup\":\"Macon, GA                                                   \",\"marker\":{\"color\":\"#FFA15A\",\"symbol\":\"circle\"},\"mode\":\"markers\",\"name\":\"Macon, GA                                                   \",\"showlegend\":true,\"x\":[2019],\"xaxis\":\"x\",\"y\":[420.0],\"yaxis\":\"y\",\"type\":\"scattergl\"}],                        {\"template\":{\"data\":{\"bar\":[{\"error_x\":{\"color\":\"#2a3f5f\"},\"error_y\":{\"color\":\"#2a3f5f\"},\"marker\":{\"line\":{\"color\":\"#E5ECF6\",\"width\":0.5},\"pattern\":{\"fillmode\":\"overlay\",\"size\":10,\"solidity\":0.2}},\"type\":\"bar\"}],\"barpolar\":[{\"marker\":{\"line\":{\"color\":\"#E5ECF6\",\"width\":0.5},\"pattern\":{\"fillmode\":\"overlay\",\"size\":10,\"solidity\":0.2}},\"type\":\"barpolar\"}],\"carpet\":[{\"aaxis\":{\"endlinecolor\":\"#2a3f5f\",\"gridcolor\":\"white\",\"linecolor\":\"white\",\"minorgridcolor\":\"white\",\"startlinecolor\":\"#2a3f5f\"},\"baxis\":{\"endlinecolor\":\"#2a3f5f\",\"gridcolor\":\"white\",\"linecolor\":\"white\",\"minorgridcolor\":\"white\",\"startlinecolor\":\"#2a3f5f\"},\"type\":\"carpet\"}],\"choropleth\":[{\"colorbar\":{\"outlinewidth\":0,\"ticks\":\"\"},\"type\":\"choropleth\"}],\"contour\":[{\"colorbar\":{\"outlinewidth\":0,\"ticks\":\"\"},\"colorscale\":[[0.0,\"#0d0887\"],[0.1111111111111111,\"#46039f\"],[0.2222222222222222,\"#7201a8\"],[0.3333333333333333,\"#9c179e\"],[0.4444444444444444,\"#bd3786\"],[0.5555555555555556,\"#d8576b\"],[0.6666666666666666,\"#ed7953\"],[0.7777777777777778,\"#fb9f3a\"],[0.8888888888888888,\"#fdca26\"],[1.0,\"#f0f921\"]],\"type\":\"contour\"}],\"contourcarpet\":[{\"colorbar\":{\"outlinewidth\":0,\"ticks\":\"\"},\"type\":\"contourcarpet\"}],\"heatmap\":[{\"colorbar\":{\"outlinewidth\":0,\"ticks\":\"\"},\"colorscale\":[[0.0,\"#0d0887\"],[0.1111111111111111,\"#46039f\"],[0.2222222222222222,\"#7201a8\"],[0.3333333333333333,\"#9c179e\"],[0.4444444444444444,\"#bd3786\"],[0.5555555555555556,\"#d8576b\"],[0.6666666666666666,\"#ed7953\"],[0.7777777777777778,\"#fb9f3a\"],[0.8888888888888888,\"#fdca26\"],[1.0,\"#f0f921\"]],\"type\":\"heatmap\"}],\"heatmapgl\":[{\"colorbar\":{\"outlinewidth\":0,\"ticks\":\"\"},\"colorscale\":[[0.0,\"#0d0887\"],[0.1111111111111111,\"#46039f\"],[0.2222222222222222,\"#7201a8\"],[0.3333333333333333,\"#9c179e\"],[0.4444444444444444,\"#bd3786\"],[0.5555555555555556,\"#d8576b\"],[0.6666666666666666,\"#ed7953\"],[0.7777777777777778,\"#fb9f3a\"],[0.8888888888888888,\"#fdca26\"],[1.0,\"#f0f921\"]],\"type\":\"heatmapgl\"}],\"histogram\":[{\"marker\":{\"pattern\":{\"fillmode\":\"overlay\",\"size\":10,\"solidity\":0.2}},\"type\":\"histogram\"}],\"histogram2d\":[{\"colorbar\":{\"outlinewidth\":0,\"ticks\":\"\"},\"colorscale\":[[0.0,\"#0d0887\"],[0.1111111111111111,\"#46039f\"],[0.2222222222222222,\"#7201a8\"],[0.3333333333333333,\"#9c179e\"],[0.4444444444444444,\"#bd3786\"],[0.5555555555555556,\"#d8576b\"],[0.6666666666666666,\"#ed7953\"],[0.7777777777777778,\"#fb9f3a\"],[0.8888888888888888,\"#fdca26\"],[1.0,\"#f0f921\"]],\"type\":\"histogram2d\"}],\"histogram2dcontour\":[{\"colorbar\":{\"outlinewidth\":0,\"ticks\":\"\"},\"colorscale\":[[0.0,\"#0d0887\"],[0.1111111111111111,\"#46039f\"],[0.2222222222222222,\"#7201a8\"],[0.3333333333333333,\"#9c179e\"],[0.4444444444444444,\"#bd3786\"],[0.5555555555555556,\"#d8576b\"],[0.6666666666666666,\"#ed7953\"],[0.7777777777777778,\"#fb9f3a\"],[0.8888888888888888,\"#fdca26\"],[1.0,\"#f0f921\"]],\"type\":\"histogram2dcontour\"}],\"mesh3d\":[{\"colorbar\":{\"outlinewidth\":0,\"ticks\":\"\"},\"type\":\"mesh3d\"}],\"parcoords\":[{\"line\":{\"colorbar\":{\"outlinewidth\":0,\"ticks\":\"\"}},\"type\":\"parcoords\"}],\"pie\":[{\"automargin\":true,\"type\":\"pie\"}],\"scatter\":[{\"marker\":{\"colorbar\":{\"outlinewidth\":0,\"ticks\":\"\"}},\"type\":\"scatter\"}],\"scatter3d\":[{\"line\":{\"colorbar\":{\"outlinewidth\":0,\"ticks\":\"\"}},\"marker\":{\"colorbar\":{\"outlinewidth\":0,\"ticks\":\"\"}},\"type\":\"scatter3d\"}],\"scattercarpet\":[{\"marker\":{\"colorbar\":{\"outlinewidth\":0,\"ticks\":\"\"}},\"type\":\"scattercarpet\"}],\"scattergeo\":[{\"marker\":{\"colorbar\":{\"outlinewidth\":0,\"ticks\":\"\"}},\"type\":\"scattergeo\"}],\"scattergl\":[{\"marker\":{\"colorbar\":{\"outlinewidth\":0,\"ticks\":\"\"}},\"type\":\"scattergl\"}],\"scattermapbox\":[{\"marker\":{\"colorbar\":{\"outlinewidth\":0,\"ticks\":\"\"}},\"type\":\"scattermapbox\"}],\"scatterpolar\":[{\"marker\":{\"colorbar\":{\"outlinewidth\":0,\"ticks\":\"\"}},\"type\":\"scatterpolar\"}],\"scatterpolargl\":[{\"marker\":{\"colorbar\":{\"outlinewidth\":0,\"ticks\":\"\"}},\"type\":\"scatterpolargl\"}],\"scatterternary\":[{\"marker\":{\"colorbar\":{\"outlinewidth\":0,\"ticks\":\"\"}},\"type\":\"scatterternary\"}],\"surface\":[{\"colorbar\":{\"outlinewidth\":0,\"ticks\":\"\"},\"colorscale\":[[0.0,\"#0d0887\"],[0.1111111111111111,\"#46039f\"],[0.2222222222222222,\"#7201a8\"],[0.3333333333333333,\"#9c179e\"],[0.4444444444444444,\"#bd3786\"],[0.5555555555555556,\"#d8576b\"],[0.6666666666666666,\"#ed7953\"],[0.7777777777777778,\"#fb9f3a\"],[0.8888888888888888,\"#fdca26\"],[1.0,\"#f0f921\"]],\"type\":\"surface\"}],\"table\":[{\"cells\":{\"fill\":{\"color\":\"#EBF0F8\"},\"line\":{\"color\":\"white\"}},\"header\":{\"fill\":{\"color\":\"#C8D4E3\"},\"line\":{\"color\":\"white\"}},\"type\":\"table\"}]},\"layout\":{\"annotationdefaults\":{\"arrowcolor\":\"#2a3f5f\",\"arrowhead\":0,\"arrowwidth\":1},\"autotypenumbers\":\"strict\",\"coloraxis\":{\"colorbar\":{\"outlinewidth\":0,\"ticks\":\"\"}},\"colorscale\":{\"diverging\":[[0,\"#8e0152\"],[0.1,\"#c51b7d\"],[0.2,\"#de77ae\"],[0.3,\"#f1b6da\"],[0.4,\"#fde0ef\"],[0.5,\"#f7f7f7\"],[0.6,\"#e6f5d0\"],[0.7,\"#b8e186\"],[0.8,\"#7fbc41\"],[0.9,\"#4d9221\"],[1,\"#276419\"]],\"sequential\":[[0.0,\"#0d0887\"],[0.1111111111111111,\"#46039f\"],[0.2222222222222222,\"#7201a8\"],[0.3333333333333333,\"#9c179e\"],[0.4444444444444444,\"#bd3786\"],[0.5555555555555556,\"#d8576b\"],[0.6666666666666666,\"#ed7953\"],[0.7777777777777778,\"#fb9f3a\"],[0.8888888888888888,\"#fdca26\"],[1.0,\"#f0f921\"]],\"sequentialminus\":[[0.0,\"#0d0887\"],[0.1111111111111111,\"#46039f\"],[0.2222222222222222,\"#7201a8\"],[0.3333333333333333,\"#9c179e\"],[0.4444444444444444,\"#bd3786\"],[0.5555555555555556,\"#d8576b\"],[0.6666666666666666,\"#ed7953\"],[0.7777777777777778,\"#fb9f3a\"],[0.8888888888888888,\"#fdca26\"],[1.0,\"#f0f921\"]]},\"colorway\":[\"#636efa\",\"#EF553B\",\"#00cc96\",\"#ab63fa\",\"#FFA15A\",\"#19d3f3\",\"#FF6692\",\"#B6E880\",\"#FF97FF\",\"#FECB52\"],\"font\":{\"color\":\"#2a3f5f\"},\"geo\":{\"bgcolor\":\"white\",\"lakecolor\":\"white\",\"landcolor\":\"#E5ECF6\",\"showlakes\":true,\"showland\":true,\"subunitcolor\":\"white\"},\"hoverlabel\":{\"align\":\"left\"},\"hovermode\":\"closest\",\"mapbox\":{\"style\":\"light\"},\"paper_bgcolor\":\"white\",\"plot_bgcolor\":\"#E5ECF6\",\"polar\":{\"angularaxis\":{\"gridcolor\":\"white\",\"linecolor\":\"white\",\"ticks\":\"\"},\"bgcolor\":\"#E5ECF6\",\"radialaxis\":{\"gridcolor\":\"white\",\"linecolor\":\"white\",\"ticks\":\"\"}},\"scene\":{\"xaxis\":{\"backgroundcolor\":\"#E5ECF6\",\"gridcolor\":\"white\",\"gridwidth\":2,\"linecolor\":\"white\",\"showbackground\":true,\"ticks\":\"\",\"zerolinecolor\":\"white\"},\"yaxis\":{\"backgroundcolor\":\"#E5ECF6\",\"gridcolor\":\"white\",\"gridwidth\":2,\"linecolor\":\"white\",\"showbackground\":true,\"ticks\":\"\",\"zerolinecolor\":\"white\"},\"zaxis\":{\"backgroundcolor\":\"#E5ECF6\",\"gridcolor\":\"white\",\"gridwidth\":2,\"linecolor\":\"white\",\"showbackground\":true,\"ticks\":\"\",\"zerolinecolor\":\"white\"}},\"shapedefaults\":{\"line\":{\"color\":\"#2a3f5f\"}},\"ternary\":{\"aaxis\":{\"gridcolor\":\"white\",\"linecolor\":\"white\",\"ticks\":\"\"},\"baxis\":{\"gridcolor\":\"white\",\"linecolor\":\"white\",\"ticks\":\"\"},\"bgcolor\":\"#E5ECF6\",\"caxis\":{\"gridcolor\":\"white\",\"linecolor\":\"white\",\"ticks\":\"\"}},\"title\":{\"x\":0.05},\"xaxis\":{\"automargin\":true,\"gridcolor\":\"white\",\"linecolor\":\"white\",\"ticks\":\"\",\"title\":{\"standoff\":15},\"zerolinecolor\":\"white\",\"zerolinewidth\":2},\"yaxis\":{\"automargin\":true,\"gridcolor\":\"white\",\"linecolor\":\"white\",\"ticks\":\"\",\"title\":{\"standoff\":15},\"zerolinecolor\":\"white\",\"zerolinewidth\":2}}},\"xaxis\":{\"anchor\":\"y\",\"domain\":[0.0,1.0],\"title\":{\"text\":\"Year\"}},\"yaxis\":{\"anchor\":\"x\",\"domain\":[0.0,1.0],\"title\":{\"text\":\"Total\"}},\"legend\":{\"title\":{\"text\":\"Metro Area\"},\"tracegroupgap\":0},\"title\":{\"text\":\"Total by Year for Each Metro Area\"}},                        {\"responsive\": true}                    ).then(function(){\n",
       "                            \n",
       "var gd = document.getElementById('623f5d95-85d1-4516-a933-74b36fd88377');\n",
       "var x = new MutationObserver(function (mutations, observer) {{\n",
       "        var display = window.getComputedStyle(gd).display;\n",
       "        if (!display || display === 'none') {{\n",
       "            console.log([gd, 'removed!']);\n",
       "            Plotly.purge(gd);\n",
       "            observer.disconnect();\n",
       "        }}\n",
       "}});\n",
       "\n",
       "// Listen for the removal of the full notebook cells\n",
       "var notebookContainer = gd.closest('#notebook-container');\n",
       "if (notebookContainer) {{\n",
       "    x.observe(notebookContainer, {childList: true});\n",
       "}}\n",
       "\n",
       "// Listen for the clearing of the current output cell\n",
       "var outputEl = gd.closest('.output');\n",
       "if (outputEl) {{\n",
       "    x.observe(outputEl, {childList: true});\n",
       "}}\n",
       "\n",
       "                        })                };                });            </script>        </div>"
      ]
     },
     "metadata": {},
     "output_type": "display_data"
    }
   ],
   "source": [
    "import plotly.express as px\n",
    "\n",
    "fig = px.scatter(combined_df, \n",
    "                 x='Year', \n",
    "                 y='Total', \n",
    "                 color='Name',  # Optional: Color code points by Name\n",
    "                 hover_name='Name',  # Show Name on hover\n",
    "                 title='Total by Year for Each Metro Area')\n",
    "\n",
    "fig.update_layout(xaxis_title='Year',\n",
    "                  yaxis_title='Total',\n",
    "                  legend_title='Metro Area')\n",
    "\n",
    "fig.write_html('index.html')\n",
    "fig.show()"
   ]
  },
  {
   "cell_type": "markdown",
   "id": "2c0cc7e1",
   "metadata": {},
   "source": [
    "## Image snagger"
   ]
  },
  {
   "cell_type": "code",
   "execution_count": 51,
   "id": "a3ce4e3e",
   "metadata": {},
   "outputs": [
    {
     "name": "stdout",
     "output_type": "stream",
     "text": [
      "https://trd-digital.github.io/trd-news-interactive-maps/Census_Bureau_Permit_Data\n"
     ]
    }
   ],
   "source": [
    "base_name = 'https://trd-digital.github.io/trd-news-interactive-maps/'\n",
    "\n",
    "cwd = os.getcwd()\n",
    "\n",
    "cwd = cwd.split('/')\n",
    "\n",
    "final_name = base_name + cwd[-1]\n",
    "print(final_name)"
   ]
  }
 ],
 "metadata": {
  "kernelspec": {
   "display_name": "Python 3 (ipykernel)",
   "language": "python",
   "name": "python3"
  },
  "language_info": {
   "codemirror_mode": {
    "name": "ipython",
    "version": 3
   },
   "file_extension": ".py",
   "mimetype": "text/x-python",
   "name": "python",
   "nbconvert_exporter": "python",
   "pygments_lexer": "ipython3",
   "version": "3.9.12"
  }
 },
 "nbformat": 4,
 "nbformat_minor": 5
}
