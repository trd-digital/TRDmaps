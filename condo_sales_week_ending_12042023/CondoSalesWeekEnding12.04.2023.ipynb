{
 "cells": [
  {
   "cell_type": "markdown",
   "metadata": {},
   "source": [
    "## Imports"
   ]
  },
  {
   "cell_type": "code",
   "execution_count": 31,
   "metadata": {},
   "outputs": [],
   "source": [
    "import googlemaps\n",
    "import pandas as pd\n",
    "import numpy as np\n",
    "import re\n",
    "import os\n",
    "import geopandas as gpd\n",
    "import folium\n",
    "import tabula"
   ]
  },
  {
   "cell_type": "markdown",
   "metadata": {},
   "source": [
    "## Read-in"
   ]
  },
  {
   "cell_type": "code",
   "execution_count": 32,
   "metadata": {},
   "outputs": [],
   "source": [
    "# Gotta figure out how to get rid of the java error.\n",
    "# SO: https://stackoverflow.com/questions/54817211/java-command-is-not-found-from-this-python-process-please-ensure-java-is-inst\n",
    "\n",
    "dsf = tabula.read_pdf('condo.pdf', pages='all')"
   ]
  },
  {
   "cell_type": "markdown",
   "metadata": {},
   "source": [
    "## Clean Data"
   ]
  },
  {
   "cell_type": "code",
   "execution_count": 33,
   "metadata": {},
   "outputs": [],
   "source": [
    "df = dsf[0]\n",
    "df.columns = df.iloc[0]\n",
    "df = df[1:]\n",
    "df = df.drop(columns=df.columns[0])\n",
    "df = df.replace(np.nan, 'Not Available', regex=True)\n",
    "df = df.rename(columns={'Building / Address / City': 'building_address_city','Days on\\rMarket':'days_on_market',\\\n",
    "                        'Price /\\rSq. Ft.':'price_per_sqft'})\n",
    "df['building_address_city'] = df['building_address_city'].str.replace('^0', '', regex=True)\n",
    "df['geo_address'] = df['building_address_city']\n",
    "df['geo_address'] = df['geo_address'].map(lambda x: re.sub(r'\\r', ' ', x))\n",
    "df = df.replace('\\n',' ',regex=True)\n",
    "pattern = r'^(?P<building_name>[\\d\\s]*[A-Za-z\\s]+)\\s(?P<address>.+)\\s(?P<city>[A-Za-z\\s]+)$'\n",
    "df2 = df['geo_address']\n",
    "df2 = df2.to_frame()\n",
    "df2[['building_name', 'address', 'city']] = df2['geo_address'].str.extract(pattern, expand=True)"
   ]
  },
  {
   "cell_type": "markdown",
   "metadata": {},
   "source": [
    "Review this later (it's about how to properly merge DFs): https://pandas.pydata.org/pandas-docs/stable/user_guide/merging.html"
   ]
  },
  {
   "cell_type": "markdown",
   "metadata": {},
   "source": [
    "## Geocode"
   ]
  },
  {
   "cell_type": "code",
   "execution_count": 34,
   "metadata": {},
   "outputs": [],
   "source": [
    "result = pd.merge(df,df2,left_index=True, right_index=True)\n",
    "df = result\n",
    "df = df.drop(columns='city')"
   ]
  },
  {
   "cell_type": "code",
   "execution_count": 35,
   "metadata": {},
   "outputs": [],
   "source": [
    "%store -r google_maps_API_Key\n",
    "gmaps_key = googlemaps.Client(key=google_maps_API_Key)"
   ]
  },
  {
   "cell_type": "code",
   "execution_count": 36,
   "metadata": {},
   "outputs": [],
   "source": [
    "def geocode(add):\n",
    "    g = gmaps_key.geocode(add)\n",
    "    lat = g[0][\"geometry\"][\"location\"][\"lat\"]\n",
    "    lng = g[0][\"geometry\"][\"location\"][\"lng\"]\n",
    "    return (lat, lng)\n",
    "\n",
    "df['geocoded'] = df['geo_address_x'].apply(geocode)"
   ]
  },
  {
   "cell_type": "code",
   "execution_count": 37,
   "metadata": {},
   "outputs": [],
   "source": [
    "df['geocoded'] = df['geocoded'].astype(str)\n",
    "df[['lat', 'lon']] = df['geocoded'].str.strip('()').str.split(', ', expand=True)\n",
    "df['lat'] = df['lat'].astype(float)\n",
    "df['lon'] = df['lon'].astype(float)"
   ]
  },
  {
   "cell_type": "markdown",
   "metadata": {},
   "source": [
    "Folium documentation link: https://python-visualization.github.io/folium/index.html\n",
    "\n",
    "Folium is the library that lets us use leaflet with Python, since it's meant to be used with JavaScript.\n",
    "\n",
    "For adding titles: https://stackoverflow.com/questions/61928013/adding-a-title-or-text-to-a-folium-map"
   ]
  },
  {
   "cell_type": "markdown",
   "metadata": {},
   "source": [
    "## Correction section"
   ]
  },
  {
   "cell_type": "code",
   "execution_count": 38,
   "metadata": {},
   "outputs": [],
   "source": [
    "# df.at[index#,'col_name']"
   ]
  },
  {
   "cell_type": "markdown",
   "metadata": {},
   "source": [
    "## Format Data"
   ]
  },
  {
   "cell_type": "code",
   "execution_count": 39,
   "metadata": {},
   "outputs": [],
   "source": [
    "### Insert NaNs if needed ###\n",
    "df = df.replace('N/A', np.nan)"
   ]
  },
  {
   "cell_type": "code",
   "execution_count": 40,
   "metadata": {},
   "outputs": [],
   "source": [
    "df['int_Sale_Price'] = df['Sale Price'].str.replace('$','',regex=False)"
   ]
  },
  {
   "cell_type": "code",
   "execution_count": 41,
   "metadata": {},
   "outputs": [],
   "source": [
    "df['int_Sale_Price'] = df['int_Sale_Price'].str.replace(',','',regex=False)"
   ]
  },
  {
   "cell_type": "code",
   "execution_count": 42,
   "metadata": {},
   "outputs": [],
   "source": [
    "df['int_Sale_Price'] = pd.to_numeric(df['int_Sale_Price'])"
   ]
  },
  {
   "cell_type": "code",
   "execution_count": 43,
   "metadata": {},
   "outputs": [],
   "source": [
    "df['price_per_sqft'] = df['price_per_sqft'].str.replace('$','',regex=False)\n",
    "df['price_per_sqft'] = df['price_per_sqft'].str.replace(',','',regex=False)\n",
    "df['price_per_sqft'] = pd.to_numeric(df['price_per_sqft'])\n",
    "\n",
    "df['days_on_market'] = pd.to_numeric(df['days_on_market'])"
   ]
  },
  {
   "cell_type": "markdown",
   "metadata": {},
   "source": [
    "## Color-code top sale"
   ]
  },
  {
   "cell_type": "code",
   "execution_count": 44,
   "metadata": {},
   "outputs": [],
   "source": [
    "### Insert RANK values ###\n",
    "df['RANK'] = range(1, len(df) + 1)\n",
    "# use numpy to assign values to the 'COLOR' column\n",
    "df['COLOR'] = np.where(df['RANK'] <= 1, 'orange', 'blue')"
   ]
  },
  {
   "cell_type": "markdown",
   "metadata": {},
   "source": [
    "## HTML Popup Formatter"
   ]
  },
  {
   "cell_type": "code",
   "execution_count": 45,
   "metadata": {},
   "outputs": [
    {
     "data": {
      "text/plain": [
       "Index(['building_address_city', 'Close Date', 'days_on_market', 'Sale Price',\n",
       "       'Sq. Ft.', 'price_per_sqft', 'Agent', 'Listing Broker', 'Buyer Agent',\n",
       "       'Buyer Broker', 'geo_address_x', 'geo_address_y', 'building_name',\n",
       "       'address', 'geocoded', 'lat', 'lon', 'int_Sale_Price', 'RANK', 'COLOR'],\n",
       "      dtype='object')"
      ]
     },
     "execution_count": 45,
     "metadata": {},
     "output_type": "execute_result"
    }
   ],
   "source": [
    "df.columns"
   ]
  },
  {
   "cell_type": "code",
   "execution_count": 46,
   "metadata": {},
   "outputs": [],
   "source": [
    "def popup_html(row):\n",
    "    building_name = row['building_name']\n",
    "    price = row['Sale Price']\n",
    "    days_on_market = row['days_on_market']\n",
    "    listing_agent = row['Agent']\n",
    "    buyers_agent = row['Buyer Agent']\n",
    "    psf = row['price_per_sqft']\n",
    "    address = row['address']\n",
    "    \n",
    "    html = '''<!DOCTYPE html>\n",
    "    <html>\n",
    "    <strong>Building Name: </strong>{}'''.format(building_name) + '''<br>\n",
    "    <strong>Sale Price: </strong>{}'''.format(price) + '''<br>\n",
    "    <strong>Days on Market: </strong>{}'''.format(days_on_market) + '''<br>\n",
    "    <strong>Listing Agent: </strong>{}'''.format(listing_agent) + '''<br>\n",
    "    <strong>Buyer's Agent: </strong>{}'''.format(buyers_agent) + '''<br>\n",
    "    <strong>Price sq ft: </strong>${}'''.format(psf) + '''<br>\n",
    "    <strong>Address: </strong>{}'''.format(address) + '''<br>\n",
    "    </html>\n",
    "    '''\n",
    "    return html"
   ]
  },
  {
   "cell_type": "code",
   "execution_count": 47,
   "metadata": {},
   "outputs": [
    {
     "data": {
      "text/html": [
       "<div style=\"width:100%;\"><div style=\"position:relative;width:100%;height:0;padding-bottom:60%;\"><span style=\"color:#565656\">Make this Notebook Trusted to load map: File -> Trust Notebook</span><iframe srcdoc=\"&lt;!DOCTYPE html&gt;\n",
       "&lt;head&gt;    \n",
       "    &lt;meta http-equiv=&quot;content-type&quot; content=&quot;text/html; charset=UTF-8&quot; /&gt;\n",
       "    \n",
       "        &lt;script&gt;\n",
       "            L_NO_TOUCH = false;\n",
       "            L_DISABLE_3D = false;\n",
       "        &lt;/script&gt;\n",
       "    \n",
       "    &lt;style&gt;html, body {width: 100%;height: 100%;margin: 0;padding: 0;}&lt;/style&gt;\n",
       "    &lt;style&gt;#map {position:absolute;top:0;bottom:0;right:0;left:0;}&lt;/style&gt;\n",
       "    &lt;script src=&quot;https://cdn.jsdelivr.net/npm/leaflet@1.6.0/dist/leaflet.js&quot;&gt;&lt;/script&gt;\n",
       "    &lt;script src=&quot;https://code.jquery.com/jquery-1.12.4.min.js&quot;&gt;&lt;/script&gt;\n",
       "    &lt;script src=&quot;https://maxcdn.bootstrapcdn.com/bootstrap/3.2.0/js/bootstrap.min.js&quot;&gt;&lt;/script&gt;\n",
       "    &lt;script src=&quot;https://cdnjs.cloudflare.com/ajax/libs/Leaflet.awesome-markers/2.0.2/leaflet.awesome-markers.js&quot;&gt;&lt;/script&gt;\n",
       "    &lt;link rel=&quot;stylesheet&quot; href=&quot;https://cdn.jsdelivr.net/npm/leaflet@1.6.0/dist/leaflet.css&quot;/&gt;\n",
       "    &lt;link rel=&quot;stylesheet&quot; href=&quot;https://maxcdn.bootstrapcdn.com/bootstrap/3.2.0/css/bootstrap.min.css&quot;/&gt;\n",
       "    &lt;link rel=&quot;stylesheet&quot; href=&quot;https://maxcdn.bootstrapcdn.com/bootstrap/3.2.0/css/bootstrap-theme.min.css&quot;/&gt;\n",
       "    &lt;link rel=&quot;stylesheet&quot; href=&quot;https://maxcdn.bootstrapcdn.com/font-awesome/4.6.3/css/font-awesome.min.css&quot;/&gt;\n",
       "    &lt;link rel=&quot;stylesheet&quot; href=&quot;https://cdnjs.cloudflare.com/ajax/libs/Leaflet.awesome-markers/2.0.2/leaflet.awesome-markers.css&quot;/&gt;\n",
       "    &lt;link rel=&quot;stylesheet&quot; href=&quot;https://cdn.jsdelivr.net/gh/python-visualization/folium/folium/templates/leaflet.awesome.rotate.min.css&quot;/&gt;\n",
       "    \n",
       "            &lt;meta name=&quot;viewport&quot; content=&quot;width=device-width,\n",
       "                initial-scale=1.0, maximum-scale=1.0, user-scalable=no&quot; /&gt;\n",
       "            &lt;style&gt;\n",
       "                #map_02f1c494f40f70c2f17c11c9d426562e {\n",
       "                    position: relative;\n",
       "                    width: 100.0%;\n",
       "                    height: 100.0%;\n",
       "                    left: 0.0%;\n",
       "                    top: 0.0%;\n",
       "                }\n",
       "            &lt;/style&gt;\n",
       "        \n",
       "&lt;/head&gt;\n",
       "&lt;body&gt;    \n",
       "    \n",
       "              &lt;h3 align=&quot;center&quot; style=&quot;font-size:16px&quot;&gt;&lt;b&gt;Recent Miami-Dade Condo Sales &lt;/b&gt;&lt;/h3&gt;\n",
       "             \n",
       "    \n",
       "                &lt;p align=&quot;center&quot; style=&quot;vertical-align: bottom; font-size:13px&quot;&gt;&lt;i&gt;November 26th - December 2nd&lt;/i&gt;&lt;/p&gt;\n",
       "                \n",
       "    \n",
       "            &lt;div class=&quot;folium-map&quot; id=&quot;map_02f1c494f40f70c2f17c11c9d426562e&quot; &gt;&lt;/div&gt;\n",
       "        \n",
       "&lt;/body&gt;\n",
       "&lt;script&gt;    \n",
       "    \n",
       "            var map_02f1c494f40f70c2f17c11c9d426562e = L.map(\n",
       "                &quot;map_02f1c494f40f70c2f17c11c9d426562e&quot;,\n",
       "                {\n",
       "                    center: [25.78450277, -80.15940782],\n",
       "                    crs: L.CRS.EPSG3857,\n",
       "                    zoom: 9.5,\n",
       "                    zoomControl: true,\n",
       "                    preferCanvas: false,\n",
       "                }\n",
       "            );\n",
       "\n",
       "            \n",
       "\n",
       "        \n",
       "    \n",
       "            var feature_group_9994aba83f7593add01bdce552653e92 = L.featureGroup(\n",
       "                {}\n",
       "            ).addTo(map_02f1c494f40f70c2f17c11c9d426562e);\n",
       "        \n",
       "    \n",
       "            var marker_5d96c732c0e693629f257a04a23889d1 = L.marker(\n",
       "                [25.7680133, -80.1363104],\n",
       "                {&quot;fill&quot;: true, &quot;radius&quot;: 5}\n",
       "            ).addTo(feature_group_9994aba83f7593add01bdce552653e92);\n",
       "        \n",
       "    \n",
       "            var icon_f73ab00adeb30ce66c349ae9c5241733 = L.AwesomeMarkers.icon(\n",
       "                {&quot;extraClasses&quot;: &quot;fa-rotate-0&quot;, &quot;icon&quot;: &quot;info-sign&quot;, &quot;iconColor&quot;: &quot;white&quot;, &quot;markerColor&quot;: &quot;orange&quot;, &quot;prefix&quot;: &quot;glyphicon&quot;}\n",
       "            );\n",
       "            marker_5d96c732c0e693629f257a04a23889d1.setIcon(icon_f73ab00adeb30ce66c349ae9c5241733);\n",
       "        \n",
       "    \n",
       "        var popup_693c802ca4e4587588f14414b5a789ac = L.popup({&quot;maxWidth&quot;: 400});\n",
       "\n",
       "        \n",
       "            \n",
       "                var html_2ffefe61d9796610c12a9e03aaea8c6b = $(`&lt;div id=&quot;html_2ffefe61d9796610c12a9e03aaea8c6b&quot; style=&quot;width: 100.0%; height: 100.0%;&quot;&gt;&lt;!DOCTYPE html&gt;     &lt;html&gt;     &lt;strong&gt;Building Name: &lt;/strong&gt;Apogee&lt;br&gt;     &lt;strong&gt;Sale Price: &lt;/strong&gt;$19,250,000.00&lt;br&gt;     &lt;strong&gt;Days on Market: &lt;/strong&gt;40&lt;br&gt;     &lt;strong&gt;Listing Agent: &lt;/strong&gt;Hillary Hertzberg&lt;br&gt;     &lt;strong&gt;Buyer&#x27;s Agent: &lt;/strong&gt;Leah Barney&lt;br&gt;     &lt;strong&gt;Price sq ft: &lt;/strong&gt;$4630.74&lt;br&gt;     &lt;strong&gt;Address: &lt;/strong&gt;800 S Pointe Dr 1504 Miami&lt;br&gt;     &lt;/html&gt;     &lt;/div&gt;`)[0];\n",
       "                popup_693c802ca4e4587588f14414b5a789ac.setContent(html_2ffefe61d9796610c12a9e03aaea8c6b);\n",
       "            \n",
       "        \n",
       "\n",
       "        marker_5d96c732c0e693629f257a04a23889d1.bindPopup(popup_693c802ca4e4587588f14414b5a789ac)\n",
       "        ;\n",
       "\n",
       "        \n",
       "    \n",
       "    \n",
       "            var feature_group_6ec76f172cbc921ef75d511ce451ea47 = L.featureGroup(\n",
       "                {}\n",
       "            ).addTo(map_02f1c494f40f70c2f17c11c9d426562e);\n",
       "        \n",
       "    \n",
       "            var marker_be645490577cde93685c3fdefbacb4f9 = L.marker(\n",
       "                [25.7672315, -80.1327611],\n",
       "                {&quot;fill&quot;: true, &quot;radius&quot;: 5}\n",
       "            ).addTo(feature_group_6ec76f172cbc921ef75d511ce451ea47);\n",
       "        \n",
       "    \n",
       "            var icon_ab182419cd4dfacfff9d670e4f9dd939 = L.AwesomeMarkers.icon(\n",
       "                {&quot;extraClasses&quot;: &quot;fa-rotate-0&quot;, &quot;icon&quot;: &quot;info-sign&quot;, &quot;iconColor&quot;: &quot;white&quot;, &quot;markerColor&quot;: &quot;blue&quot;, &quot;prefix&quot;: &quot;glyphicon&quot;}\n",
       "            );\n",
       "            marker_be645490577cde93685c3fdefbacb4f9.setIcon(icon_ab182419cd4dfacfff9d670e4f9dd939);\n",
       "        \n",
       "    \n",
       "        var popup_90049c71bed3cdea63b57b0d1e26e924 = L.popup({&quot;maxWidth&quot;: 400});\n",
       "\n",
       "        \n",
       "            \n",
       "                var html_afe77a158b3c82610259e5f70188a201 = $(`&lt;div id=&quot;html_afe77a158b3c82610259e5f70188a201&quot; style=&quot;width: 100.0%; height: 100.0%;&quot;&gt;&lt;!DOCTYPE html&gt;     &lt;html&gt;     &lt;strong&gt;Building Name: &lt;/strong&gt;Continuum on South Beach&lt;br&gt;     &lt;strong&gt;Sale Price: &lt;/strong&gt;$5,700,000.00&lt;br&gt;     &lt;strong&gt;Days on Market: &lt;/strong&gt;34&lt;br&gt;     &lt;strong&gt;Listing Agent: &lt;/strong&gt;Jorge Martinez&lt;br&gt;     &lt;strong&gt;Buyer&#x27;s Agent: &lt;/strong&gt;Jean-Louis Narboni&lt;br&gt;     &lt;strong&gt;Price sq ft: &lt;/strong&gt;$3573.67&lt;br&gt;     &lt;strong&gt;Address: &lt;/strong&gt;100 S Pointe Dr 1009 Miami&lt;br&gt;     &lt;/html&gt;     &lt;/div&gt;`)[0];\n",
       "                popup_90049c71bed3cdea63b57b0d1e26e924.setContent(html_afe77a158b3c82610259e5f70188a201);\n",
       "            \n",
       "        \n",
       "\n",
       "        marker_be645490577cde93685c3fdefbacb4f9.bindPopup(popup_90049c71bed3cdea63b57b0d1e26e924)\n",
       "        ;\n",
       "\n",
       "        \n",
       "    \n",
       "    \n",
       "            var marker_fee9157b890aaf1a76401a323f71e6e6 = L.marker(\n",
       "                [25.9327557, -80.1210054],\n",
       "                {&quot;fill&quot;: true, &quot;radius&quot;: 5}\n",
       "            ).addTo(feature_group_6ec76f172cbc921ef75d511ce451ea47);\n",
       "        \n",
       "    \n",
       "            var icon_dd3c50ed28e4db5faa684ef0aa736335 = L.AwesomeMarkers.icon(\n",
       "                {&quot;extraClasses&quot;: &quot;fa-rotate-0&quot;, &quot;icon&quot;: &quot;info-sign&quot;, &quot;iconColor&quot;: &quot;white&quot;, &quot;markerColor&quot;: &quot;blue&quot;, &quot;prefix&quot;: &quot;glyphicon&quot;}\n",
       "            );\n",
       "            marker_fee9157b890aaf1a76401a323f71e6e6.setIcon(icon_dd3c50ed28e4db5faa684ef0aa736335);\n",
       "        \n",
       "    \n",
       "        var popup_67fe20f69f374720b9bdca0066bad7bb = L.popup({&quot;maxWidth&quot;: 400});\n",
       "\n",
       "        \n",
       "            \n",
       "                var html_d8e2f1e05af418668ff0973cdf30c717 = $(`&lt;div id=&quot;html_d8e2f1e05af418668ff0973cdf30c717&quot; style=&quot;width: 100.0%; height: 100.0%;&quot;&gt;&lt;!DOCTYPE html&gt;     &lt;html&gt;     &lt;strong&gt;Building Name: &lt;/strong&gt;Jade Signature&lt;br&gt;     &lt;strong&gt;Sale Price: &lt;/strong&gt;$4,600,000.00&lt;br&gt;     &lt;strong&gt;Days on Market: &lt;/strong&gt;74&lt;br&gt;     &lt;strong&gt;Listing Agent: &lt;/strong&gt;Leonardo Borges&lt;br&gt;     &lt;strong&gt;Buyer&#x27;s Agent: &lt;/strong&gt;Scott Shuffield&lt;br&gt;     &lt;strong&gt;Price sq ft: &lt;/strong&gt;$1543.62&lt;br&gt;     &lt;strong&gt;Address: &lt;/strong&gt;16901 Collins Ave 2101 Sunny Isles&lt;br&gt;     &lt;/html&gt;     &lt;/div&gt;`)[0];\n",
       "                popup_67fe20f69f374720b9bdca0066bad7bb.setContent(html_d8e2f1e05af418668ff0973cdf30c717);\n",
       "            \n",
       "        \n",
       "\n",
       "        marker_fee9157b890aaf1a76401a323f71e6e6.bindPopup(popup_67fe20f69f374720b9bdca0066bad7bb)\n",
       "        ;\n",
       "\n",
       "        \n",
       "    \n",
       "    \n",
       "            var marker_6fde61289ca9bfafb94d87ee906c35a3 = L.marker(\n",
       "                [25.7584095, -80.14167259999999],\n",
       "                {&quot;fill&quot;: true, &quot;radius&quot;: 5}\n",
       "            ).addTo(feature_group_6ec76f172cbc921ef75d511ce451ea47);\n",
       "        \n",
       "    \n",
       "            var icon_d3bb1ecafa5952aa53f9ef2ec90e8e5e = L.AwesomeMarkers.icon(\n",
       "                {&quot;extraClasses&quot;: &quot;fa-rotate-0&quot;, &quot;icon&quot;: &quot;info-sign&quot;, &quot;iconColor&quot;: &quot;white&quot;, &quot;markerColor&quot;: &quot;blue&quot;, &quot;prefix&quot;: &quot;glyphicon&quot;}\n",
       "            );\n",
       "            marker_6fde61289ca9bfafb94d87ee906c35a3.setIcon(icon_d3bb1ecafa5952aa53f9ef2ec90e8e5e);\n",
       "        \n",
       "    \n",
       "        var popup_1f75060982456061670fe6442ce0a637 = L.popup({&quot;maxWidth&quot;: 400});\n",
       "\n",
       "        \n",
       "            \n",
       "                var html_39e54125894f7e0e0eddea8215e123c9 = $(`&lt;div id=&quot;html_39e54125894f7e0e0eddea8215e123c9&quot; style=&quot;width: 100.0%; height: 100.0%;&quot;&gt;&lt;!DOCTYPE html&gt;     &lt;html&gt;     &lt;strong&gt;Building Name: &lt;/strong&gt;Bayside Village East&lt;br&gt;     &lt;strong&gt;Sale Price: &lt;/strong&gt;$2,800,000.00&lt;br&gt;     &lt;strong&gt;Days on Market: &lt;/strong&gt;259&lt;br&gt;     &lt;strong&gt;Listing Agent: &lt;/strong&gt;Jorge Escasena&lt;br&gt;     &lt;strong&gt;Buyer&#x27;s Agent: &lt;/strong&gt;Karla Abaunza&lt;br&gt;     &lt;strong&gt;Price sq ft: &lt;/strong&gt;$1515.97&lt;br&gt;     &lt;strong&gt;Address: &lt;/strong&gt;2132 Fisher Island Dr 2132 Miami&lt;br&gt;     &lt;/html&gt;     &lt;/div&gt;`)[0];\n",
       "                popup_1f75060982456061670fe6442ce0a637.setContent(html_39e54125894f7e0e0eddea8215e123c9);\n",
       "            \n",
       "        \n",
       "\n",
       "        marker_6fde61289ca9bfafb94d87ee906c35a3.bindPopup(popup_1f75060982456061670fe6442ce0a637)\n",
       "        ;\n",
       "\n",
       "        \n",
       "    \n",
       "    \n",
       "            var marker_784545517c685335476bcac06f9b1eaa = L.marker(\n",
       "                [25.7577288, -80.1386049],\n",
       "                {&quot;fill&quot;: true, &quot;radius&quot;: 5}\n",
       "            ).addTo(feature_group_6ec76f172cbc921ef75d511ce451ea47);\n",
       "        \n",
       "    \n",
       "            var icon_3e3c8ee3c973c2a3f0d790e8373fbb8d = L.AwesomeMarkers.icon(\n",
       "                {&quot;extraClasses&quot;: &quot;fa-rotate-0&quot;, &quot;icon&quot;: &quot;info-sign&quot;, &quot;iconColor&quot;: &quot;white&quot;, &quot;markerColor&quot;: &quot;blue&quot;, &quot;prefix&quot;: &quot;glyphicon&quot;}\n",
       "            );\n",
       "            marker_784545517c685335476bcac06f9b1eaa.setIcon(icon_3e3c8ee3c973c2a3f0d790e8373fbb8d);\n",
       "        \n",
       "    \n",
       "        var popup_57732f1938f8ab80d41f3361dc5a411c = L.popup({&quot;maxWidth&quot;: 400});\n",
       "\n",
       "        \n",
       "            \n",
       "                var html_e533910309d95bac5b135d62ac188506 = $(`&lt;div id=&quot;html_e533910309d95bac5b135d62ac188506&quot; style=&quot;width: 100.0%; height: 100.0%;&quot;&gt;&lt;!DOCTYPE html&gt;     &lt;html&gt;     &lt;strong&gt;Building Name: &lt;/strong&gt;Seaside Village&lt;br&gt;     &lt;strong&gt;Sale Price: &lt;/strong&gt;$2,650,000.00&lt;br&gt;     &lt;strong&gt;Days on Market: &lt;/strong&gt;322&lt;br&gt;     &lt;strong&gt;Listing Agent: &lt;/strong&gt;Ana Viyella&lt;br&gt;     &lt;strong&gt;Buyer&#x27;s Agent: &lt;/strong&gt;Oliver Lloyd&lt;br&gt;     &lt;strong&gt;Price sq ft: &lt;/strong&gt;$1854.44&lt;br&gt;     &lt;strong&gt;Address: &lt;/strong&gt;19137 Fisher Island Dr 19137 Miami&lt;br&gt;     &lt;/html&gt;     &lt;/div&gt;`)[0];\n",
       "                popup_57732f1938f8ab80d41f3361dc5a411c.setContent(html_e533910309d95bac5b135d62ac188506);\n",
       "            \n",
       "        \n",
       "\n",
       "        marker_784545517c685335476bcac06f9b1eaa.bindPopup(popup_57732f1938f8ab80d41f3361dc5a411c)\n",
       "        ;\n",
       "\n",
       "        \n",
       "    \n",
       "    \n",
       "            var marker_e272f14f4970f78b51f6265fef1d8766 = L.marker(\n",
       "                [25.9392382, -80.1337739],\n",
       "                {&quot;fill&quot;: true, &quot;radius&quot;: 5}\n",
       "            ).addTo(feature_group_6ec76f172cbc921ef75d511ce451ea47);\n",
       "        \n",
       "    \n",
       "            var icon_f9cf2b22637db24403d3c410144d7492 = L.AwesomeMarkers.icon(\n",
       "                {&quot;extraClasses&quot;: &quot;fa-rotate-0&quot;, &quot;icon&quot;: &quot;info-sign&quot;, &quot;iconColor&quot;: &quot;white&quot;, &quot;markerColor&quot;: &quot;blue&quot;, &quot;prefix&quot;: &quot;glyphicon&quot;}\n",
       "            );\n",
       "            marker_e272f14f4970f78b51f6265fef1d8766.setIcon(icon_f9cf2b22637db24403d3c410144d7492);\n",
       "        \n",
       "    \n",
       "        var popup_eda7ae35a763593f9b9c38760dcbd473 = L.popup({&quot;maxWidth&quot;: 400});\n",
       "\n",
       "        \n",
       "            \n",
       "                var html_16902a9e62bcbb025d24d00ccdf2a9a2 = $(`&lt;div id=&quot;html_16902a9e62bcbb025d24d00ccdf2a9a2&quot; style=&quot;width: 100.0%; height: 100.0%;&quot;&gt;&lt;!DOCTYPE html&gt;     &lt;html&gt;     &lt;strong&gt;Building Name: &lt;/strong&gt;Williams Island&lt;br&gt;     &lt;strong&gt;Sale Price: &lt;/strong&gt;$2,625,000.00&lt;br&gt;     &lt;strong&gt;Days on Market: &lt;/strong&gt;112&lt;br&gt;     &lt;strong&gt;Listing Agent: &lt;/strong&gt;Joanne Perez&lt;br&gt;     &lt;strong&gt;Buyer&#x27;s Agent: &lt;/strong&gt;Lazaro Rivero&lt;br&gt;     &lt;strong&gt;Price sq ft: &lt;/strong&gt;$785.93&lt;br&gt;     &lt;strong&gt;Address: &lt;/strong&gt;2600 Island Blvd 605&lt;br&gt;     &lt;/html&gt;     &lt;/div&gt;`)[0];\n",
       "                popup_eda7ae35a763593f9b9c38760dcbd473.setContent(html_16902a9e62bcbb025d24d00ccdf2a9a2);\n",
       "            \n",
       "        \n",
       "\n",
       "        marker_e272f14f4970f78b51f6265fef1d8766.bindPopup(popup_eda7ae35a763593f9b9c38760dcbd473)\n",
       "        ;\n",
       "\n",
       "        \n",
       "    \n",
       "    \n",
       "            var marker_4d79b427261ae5f05d234e4d887ea164 = L.marker(\n",
       "                [25.7522301, -80.1994471],\n",
       "                {&quot;fill&quot;: true, &quot;radius&quot;: 5}\n",
       "            ).addTo(feature_group_6ec76f172cbc921ef75d511ce451ea47);\n",
       "        \n",
       "    \n",
       "            var icon_f1da9ff77e06d0e702ae8edaa36dab85 = L.AwesomeMarkers.icon(\n",
       "                {&quot;extraClasses&quot;: &quot;fa-rotate-0&quot;, &quot;icon&quot;: &quot;info-sign&quot;, &quot;iconColor&quot;: &quot;white&quot;, &quot;markerColor&quot;: &quot;blue&quot;, &quot;prefix&quot;: &quot;glyphicon&quot;}\n",
       "            );\n",
       "            marker_4d79b427261ae5f05d234e4d887ea164.setIcon(icon_f1da9ff77e06d0e702ae8edaa36dab85);\n",
       "        \n",
       "    \n",
       "        var popup_9bd05ab861558c38503818fd0343550c = L.popup({&quot;maxWidth&quot;: 400});\n",
       "\n",
       "        \n",
       "            \n",
       "                var html_01185944a4222cbc3d333c05d1e048b0 = $(`&lt;div id=&quot;html_01185944a4222cbc3d333c05d1e048b0&quot; style=&quot;width: 100.0%; height: 100.0%;&quot;&gt;&lt;!DOCTYPE html&gt;     &lt;html&gt;     &lt;strong&gt;Building Name: &lt;/strong&gt;Bristol Tower&lt;br&gt;     &lt;strong&gt;Sale Price: &lt;/strong&gt;$2,475,000.00&lt;br&gt;     &lt;strong&gt;Days on Market: &lt;/strong&gt;49&lt;br&gt;     &lt;strong&gt;Listing Agent: &lt;/strong&gt;Alicia Constain&lt;br&gt;     &lt;strong&gt;Buyer&#x27;s Agent: &lt;/strong&gt;Miriam Poggio&lt;br&gt;     &lt;strong&gt;Price sq ft: &lt;/strong&gt;$916.67&lt;br&gt;     &lt;strong&gt;Address: &lt;/strong&gt;2127 Brickell Ave 1403&lt;br&gt;     &lt;/html&gt;     &lt;/div&gt;`)[0];\n",
       "                popup_9bd05ab861558c38503818fd0343550c.setContent(html_01185944a4222cbc3d333c05d1e048b0);\n",
       "            \n",
       "        \n",
       "\n",
       "        marker_4d79b427261ae5f05d234e4d887ea164.bindPopup(popup_9bd05ab861558c38503818fd0343550c)\n",
       "        ;\n",
       "\n",
       "        \n",
       "    \n",
       "    \n",
       "            var marker_61094ca45861fbdd982ca5966b21b0ea = L.marker(\n",
       "                [25.6846614, -80.15690060000001],\n",
       "                {&quot;fill&quot;: true, &quot;radius&quot;: 5}\n",
       "            ).addTo(feature_group_6ec76f172cbc921ef75d511ce451ea47);\n",
       "        \n",
       "    \n",
       "            var icon_0c4cbb3b33cca697699fa3632d9cbee2 = L.AwesomeMarkers.icon(\n",
       "                {&quot;extraClasses&quot;: &quot;fa-rotate-0&quot;, &quot;icon&quot;: &quot;info-sign&quot;, &quot;iconColor&quot;: &quot;white&quot;, &quot;markerColor&quot;: &quot;blue&quot;, &quot;prefix&quot;: &quot;glyphicon&quot;}\n",
       "            );\n",
       "            marker_61094ca45861fbdd982ca5966b21b0ea.setIcon(icon_0c4cbb3b33cca697699fa3632d9cbee2);\n",
       "        \n",
       "    \n",
       "        var popup_3a3800d961f321a4f5205963a17a2da7 = L.popup({&quot;maxWidth&quot;: 400});\n",
       "\n",
       "        \n",
       "            \n",
       "                var html_fdc888ea1f3360be3ff80a5c35da27ca = $(`&lt;div id=&quot;html_fdc888ea1f3360be3ff80a5c35da27ca&quot; style=&quot;width: 100.0%; height: 100.0%;&quot;&gt;&lt;!DOCTYPE html&gt;     &lt;html&gt;     &lt;strong&gt;Building Name: &lt;/strong&gt;nan&lt;br&gt;     &lt;strong&gt;Sale Price: &lt;/strong&gt;$2,400,000.00&lt;br&gt;     &lt;strong&gt;Days on Market: &lt;/strong&gt;54&lt;br&gt;     &lt;strong&gt;Listing Agent: &lt;/strong&gt;Ashley Cusack&lt;br&gt;     &lt;strong&gt;Buyer&#x27;s Agent: &lt;/strong&gt;Nei Andreani&lt;br&gt;     &lt;strong&gt;Price sq ft: &lt;/strong&gt;$892.19&lt;br&gt;     &lt;strong&gt;Address: &lt;/strong&gt;nan&lt;br&gt;     &lt;/html&gt;     &lt;/div&gt;`)[0];\n",
       "                popup_3a3800d961f321a4f5205963a17a2da7.setContent(html_fdc888ea1f3360be3ff80a5c35da27ca);\n",
       "            \n",
       "        \n",
       "\n",
       "        marker_61094ca45861fbdd982ca5966b21b0ea.bindPopup(popup_3a3800d961f321a4f5205963a17a2da7)\n",
       "        ;\n",
       "\n",
       "        \n",
       "    \n",
       "    \n",
       "            var marker_68097ca431c0a05018e24a1a76172647 = L.marker(\n",
       "                [25.7554036, -80.195048],\n",
       "                {&quot;fill&quot;: true, &quot;radius&quot;: 5}\n",
       "            ).addTo(feature_group_6ec76f172cbc921ef75d511ce451ea47);\n",
       "        \n",
       "    \n",
       "            var icon_6a30e1bad72b9f243dce198809e10e68 = L.AwesomeMarkers.icon(\n",
       "                {&quot;extraClasses&quot;: &quot;fa-rotate-0&quot;, &quot;icon&quot;: &quot;info-sign&quot;, &quot;iconColor&quot;: &quot;white&quot;, &quot;markerColor&quot;: &quot;blue&quot;, &quot;prefix&quot;: &quot;glyphicon&quot;}\n",
       "            );\n",
       "            marker_68097ca431c0a05018e24a1a76172647.setIcon(icon_6a30e1bad72b9f243dce198809e10e68);\n",
       "        \n",
       "    \n",
       "        var popup_d65269e6540382c76f5720d3a7f05ca9 = L.popup({&quot;maxWidth&quot;: 400});\n",
       "\n",
       "        \n",
       "            \n",
       "                var html_bce47e0db03c45ea176625cf9a6cd9ad = $(`&lt;div id=&quot;html_bce47e0db03c45ea176625cf9a6cd9ad&quot; style=&quot;width: 100.0%; height: 100.0%;&quot;&gt;&lt;!DOCTYPE html&gt;     &lt;html&gt;     &lt;strong&gt;Building Name: &lt;/strong&gt;Santa Maria&lt;br&gt;     &lt;strong&gt;Sale Price: &lt;/strong&gt;$2,300,000.00&lt;br&gt;     &lt;strong&gt;Days on Market: &lt;/strong&gt;117&lt;br&gt;     &lt;strong&gt;Listing Agent: &lt;/strong&gt;Fabian Dominguez&lt;br&gt;     &lt;strong&gt;Buyer&#x27;s Agent: &lt;/strong&gt;Frederique Leforestier&lt;br&gt;     &lt;strong&gt;Price sq ft: &lt;/strong&gt;$891.47&lt;br&gt;     &lt;strong&gt;Address: &lt;/strong&gt;1643 Brickell Ave 805&lt;br&gt;     &lt;/html&gt;     &lt;/div&gt;`)[0];\n",
       "                popup_d65269e6540382c76f5720d3a7f05ca9.setContent(html_bce47e0db03c45ea176625cf9a6cd9ad);\n",
       "            \n",
       "        \n",
       "\n",
       "        marker_68097ca431c0a05018e24a1a76172647.bindPopup(popup_d65269e6540382c76f5720d3a7f05ca9)\n",
       "        ;\n",
       "\n",
       "        \n",
       "    \n",
       "    \n",
       "            var marker_b683dfe3f4a971eb11d049451de80368 = L.marker(\n",
       "                [25.7293556, -80.2385542],\n",
       "                {&quot;fill&quot;: true, &quot;radius&quot;: 5}\n",
       "            ).addTo(feature_group_6ec76f172cbc921ef75d511ce451ea47);\n",
       "        \n",
       "    \n",
       "            var icon_4cf387e95d9d553e452ccc44c4aa6aec = L.AwesomeMarkers.icon(\n",
       "                {&quot;extraClasses&quot;: &quot;fa-rotate-0&quot;, &quot;icon&quot;: &quot;info-sign&quot;, &quot;iconColor&quot;: &quot;white&quot;, &quot;markerColor&quot;: &quot;blue&quot;, &quot;prefix&quot;: &quot;glyphicon&quot;}\n",
       "            );\n",
       "            marker_b683dfe3f4a971eb11d049451de80368.setIcon(icon_4cf387e95d9d553e452ccc44c4aa6aec);\n",
       "        \n",
       "    \n",
       "        var popup_30b091719ed8ec5096cd42aeb52c2e01 = L.popup({&quot;maxWidth&quot;: 400});\n",
       "\n",
       "        \n",
       "            \n",
       "                var html_339e76bb6566227ca96146d995c26d42 = $(`&lt;div id=&quot;html_339e76bb6566227ca96146d995c26d42&quot; style=&quot;width: 100.0%; height: 100.0%;&quot;&gt;&lt;!DOCTYPE html&gt;     &lt;html&gt;     &lt;strong&gt;Building Name: &lt;/strong&gt;Park Grove&lt;br&gt;     &lt;strong&gt;Sale Price: &lt;/strong&gt;$2,175,000.00&lt;br&gt;     &lt;strong&gt;Days on Market: &lt;/strong&gt;41&lt;br&gt;     &lt;strong&gt;Listing Agent: &lt;/strong&gt;Michael Duchon&lt;br&gt;     &lt;strong&gt;Buyer&#x27;s Agent: &lt;/strong&gt;Brian Sehmann&lt;br&gt;     &lt;strong&gt;Price sq ft: &lt;/strong&gt;$1697.89&lt;br&gt;     &lt;strong&gt;Address: &lt;/strong&gt;2831 S Bayshore Dr 2201&lt;br&gt;     &lt;/html&gt;     &lt;/div&gt;`)[0];\n",
       "                popup_30b091719ed8ec5096cd42aeb52c2e01.setContent(html_339e76bb6566227ca96146d995c26d42);\n",
       "            \n",
       "        \n",
       "\n",
       "        marker_b683dfe3f4a971eb11d049451de80368.bindPopup(popup_30b091719ed8ec5096cd42aeb52c2e01)\n",
       "        ;\n",
       "\n",
       "        \n",
       "    \n",
       "    \n",
       "            var tile_layer_cdfad29bf4263a4e53b4171f681eaf42 = L.tileLayer(\n",
       "                &quot;https://{s}.tile.openstreetmap.org/{z}/{x}/{y}.png&quot;,\n",
       "                {&quot;attribution&quot;: &quot;Data by \\u0026copy; \\u003ca href=\\&quot;http://openstreetmap.org\\&quot;\\u003eOpenStreetMap\\u003c/a\\u003e, under \\u003ca href=\\&quot;http://www.openstreetmap.org/copyright\\&quot;\\u003eODbL\\u003c/a\\u003e.&quot;, &quot;detectRetina&quot;: false, &quot;maxNativeZoom&quot;: 18, &quot;maxZoom&quot;: 18, &quot;minZoom&quot;: 0, &quot;noWrap&quot;: false, &quot;opacity&quot;: 1, &quot;subdomains&quot;: &quot;abc&quot;, &quot;tms&quot;: false}\n",
       "            ).addTo(map_02f1c494f40f70c2f17c11c9d426562e);\n",
       "        \n",
       "    \n",
       "            var layer_control_5d9b6009696690d673bd1e091478a059 = {\n",
       "                base_layers : {\n",
       "                },\n",
       "                overlays :  {\n",
       "                    &quot;Top Sale&quot; : feature_group_9994aba83f7593add01bdce552653e92,\n",
       "                    &quot;All other sales&quot; : feature_group_6ec76f172cbc921ef75d511ce451ea47,\n",
       "                },\n",
       "            };\n",
       "            L.control.layers(\n",
       "                layer_control_5d9b6009696690d673bd1e091478a059.base_layers,\n",
       "                layer_control_5d9b6009696690d673bd1e091478a059.overlays,\n",
       "                {&quot;autoZIndex&quot;: true, &quot;collapsed&quot;: false, &quot;position&quot;: &quot;topright&quot;}\n",
       "            ).addTo(map_02f1c494f40f70c2f17c11c9d426562e);\n",
       "        \n",
       "&lt;/script&gt;\" style=\"position:absolute;width:100%;height:100%;left:0;top:0;border:none !important;\" allowfullscreen webkitallowfullscreen mozallowfullscreen></iframe></div></div>"
      ],
      "text/plain": [
       "<folium.folium.Map at 0x7fc4103792b0>"
      ]
     },
     "execution_count": 47,
     "metadata": {},
     "output_type": "execute_result"
    }
   ],
   "source": [
    "import folium\n",
    "from folium.plugins import MarkerCluster\n",
    "\n",
    "m = folium.Map(location=df[[\"lat\", \"lon\"]].mean().to_list(), zoom_start=10)\n",
    "\n",
    "title_html = '''\n",
    "              <h3 align=\"center\" style=\"font-size:16px\"><b>{}</b></h3>\n",
    "             '''.format(f'Recent Miami-Dade Condo Sales ')\n",
    "\n",
    "caption_html = '''\n",
    "                <p align=\"center\" style=\"vertical-align: bottom; font-size:13px\"><i>{}</i></p>\n",
    "                '''.format('November 26th - December 2nd')\n",
    "\n",
    "\n",
    "### Create map container ###\n",
    "m = folium.Map(location=df[[\"lat\", \"lon\"]].mean().to_list(),zoom_start=9.5,tiles=None)\n",
    "\n",
    "# Create two FeatureGroups for different color pins\n",
    "fg_blue = folium.FeatureGroup(name='All other sales')\n",
    "fg_orange = folium.FeatureGroup(name='Top Sale')\n",
    "\n",
    "for index, row in df.iterrows():\n",
    "    # Add the markers to the appropriate FeatureGroup based on the color\n",
    "    if row['COLOR'] == 'blue':\n",
    "        marker = folium.Marker(\n",
    "            location=[row['lat'], row['lon']],\n",
    "            radius=5,\n",
    "            fill=True,\n",
    "            icon=folium.Icon(color=row['COLOR']),\n",
    "            popup=folium.Popup(popup_html(row), max_width=400))\n",
    "        marker.add_to(fg_blue)\n",
    "    else:\n",
    "        marker = folium.Marker(\n",
    "            location=[row['lat'], row['lon']],\n",
    "            radius=5,\n",
    "            fill=True,\n",
    "            icon=folium.Icon(color=row['COLOR']),\n",
    "            popup=folium.Popup(popup_html(row), max_width=400))\n",
    "        marker.add_to(fg_orange)\n",
    "\n",
    "# Add the FeatureGroups to the map\n",
    "fg_orange.add_to(m)\n",
    "fg_blue.add_to(m)\n",
    "\n",
    "folium.TileLayer('OpenStreetMap',control=False).add_to(m)\n",
    "\n",
    "# Add LayerControl to the map\n",
    "folium.map.LayerControl(collapsed=False).add_to(m)\n",
    "m.get_root().html.add_child(folium.Element(title_html))\n",
    "m.get_root().html.add_child(folium.Element(caption_html))\n",
    "            \n",
    "# Display map\n",
    "m"
   ]
  },
  {
   "cell_type": "code",
   "execution_count": 48,
   "metadata": {},
   "outputs": [],
   "source": [
    "m.save('index.html')"
   ]
  },
  {
   "cell_type": "markdown",
   "metadata": {},
   "source": [
    "## Data snagger"
   ]
  },
  {
   "cell_type": "code",
   "execution_count": 49,
   "metadata": {},
   "outputs": [],
   "source": [
    "### Set up formatting ###\n",
    "BR = '\\n'\n",
    "\n",
    "ME = '\\033[1m' + 'Most Expensive' + '\\033[0m'\n",
    "LE = '\\033[1m' + 'Least Expensive' + '\\033[0m'\n",
    "\n",
    "MAX_PSF = '\\033[1m' + 'Highest Price Per Square Foot' + '\\033[0m'\n",
    "MIN_PSF = '\\033[1m' + 'Lowest Price Per Square Foot' + '\\033[0m'\n",
    "\n",
    "DAYS_MAX = '\\033[1m' + 'Most Days on Market' + '\\033[0m'\n",
    "DAYS_MIN = '\\033[1m' + 'Fewest Days on Market' + '\\033[0m'"
   ]
  },
  {
   "cell_type": "code",
   "execution_count": 50,
   "metadata": {},
   "outputs": [
    {
     "name": "stdout",
     "output_type": "stream",
     "text": [
      "\u001b[1mMost Expensive\u001b[0m\n",
      "Apogee, 800 S Pointe Dr 1504 Miami | Price $19,250,000 | $4,631 psf | Listing agent: Hillary Hertzberg with Coldwell Banker Realty | Buyer's agent: Leah Barney with Official | Days on market: 40\n",
      "\u001b[1mLeast Expensive\u001b[0m\n",
      "Park Grove, 2831 S Bayshore Dr 2201 | Price $2,175,000 | $1,698 psf | Listing agent: Michael Duchon with The Corcoran Group | Buyer's agent: Brian Sehmann with Compass Florida, LLC. | Days on market: 41\n",
      "\u001b[1mHighest Price Per Square Foot\u001b[0m\n",
      "Apogee, 800 S Pointe Dr 1504 Miami | Price $19,250,000 | $4,631 psf | Listing agent: Hillary Hertzberg with Coldwell Banker Realty | Buyer's agent: Leah Barney with Official | Days on market: 40\n",
      "\u001b[1mLowest Price Per Square Foot\u001b[0m\n",
      "Williams Island, 2600 Island Blvd 605 | Price $2,625,000 | $786 psf | Listing agent: Joanne Perez with Williams Island Realty, LLC | Buyer's agent: Lazaro Rivero with Rivero Real Estate , Inc. | Days on market: 112\n",
      "\u001b[1mMost Days on Market\u001b[0m\n",
      "Seaside Village, 19137 Fisher Island Dr 19137 Miami | Price $2,650,000 | $1,854 psf | Listing agent: Ana Viyella with Douglas Elliman | Buyer's agent: Oliver Lloyd with Douglas Elliman | Days on market: 322\n",
      "\u001b[1mFewest Days on Market\u001b[0m\n",
      "Continuum on South Beach, 100 S Pointe Dr 1009 Miami | Price $5,700,000 | $3,574 psf | Listing agent: Jorge Martinez with One Sotheby's International Re | Buyer's agent: Jean-Louis Narboni with MLR Realty Inc | Days on market: 34\n"
     ]
    }
   ],
   "source": [
    "### Highest and lowest sale price ###\n",
    "print(f\"{ME}{BR}{df.loc[df['int_Sale_Price'].idxmax()]['building_name']}, {df.loc[df['int_Sale_Price'].idxmax()]['address']} | Price ${df.loc[df['int_Sale_Price'].idxmax()]['int_Sale_Price']:,.0f} | ${df.loc[df['int_Sale_Price'].idxmax()]['price_per_sqft']:,.0f} psf | Listing agent: {df.loc[df['int_Sale_Price'].idxmax()]['Agent']} with {df.loc[df['int_Sale_Price'].idxmax()]['Listing Broker']} | Buyer's agent: {df.loc[df['int_Sale_Price'].idxmax()]['Buyer Agent']} with {df.loc[df['int_Sale_Price'].idxmax()]['Buyer Broker']} | Days on market: {df.loc[df['int_Sale_Price'].idxmax()]['days_on_market']}\")\n",
    "print(f\"{LE}{BR}{df.loc[df['int_Sale_Price'].idxmin()]['building_name']}, {df.loc[df['int_Sale_Price'].idxmin()]['address']} | Price ${df.loc[df['int_Sale_Price'].idxmin()]['int_Sale_Price']:,.0f} | ${df.loc[df['int_Sale_Price'].idxmin()]['price_per_sqft']:,.0f} psf | Listing agent: {df.loc[df['int_Sale_Price'].idxmin()]['Agent']} with {df.loc[df['int_Sale_Price'].idxmin()]['Listing Broker']} | Buyer's agent: {df.loc[df['int_Sale_Price'].idxmin()]['Buyer Agent']} with {df.loc[df['int_Sale_Price'].idxmin()]['Buyer Broker']} | Days on market: {df.loc[df['int_Sale_Price'].idxmin()]['days_on_market']}\")\n",
    "### Highest and lowest psf ###\n",
    "print(f\"{MAX_PSF}{BR}{df.loc[df['price_per_sqft'].idxmax()]['building_name']}, {df.loc[df['price_per_sqft'].idxmax()]['address']} | Price ${df.loc[df['price_per_sqft'].idxmax()]['int_Sale_Price']:,.0f} | ${df.loc[df['price_per_sqft'].idxmax()]['price_per_sqft']:,.0f} psf | Listing agent: {df.loc[df['price_per_sqft'].idxmax()]['Agent']} with {df.loc[df['price_per_sqft'].idxmax()]['Listing Broker']} | Buyer's agent: {df.loc[df['price_per_sqft'].idxmax()]['Buyer Agent']} with {df.loc[df['price_per_sqft'].idxmax()]['Buyer Broker']} | Days on market: {df.loc[df['price_per_sqft'].idxmax()]['days_on_market']}\")\n",
    "print(f\"{MIN_PSF}{BR}{df.loc[df['price_per_sqft'].idxmin()]['building_name']}, {df.loc[df['price_per_sqft'].idxmin()]['address']} | Price ${df.loc[df['price_per_sqft'].idxmin()]['int_Sale_Price']:,.0f} | ${df.loc[df['price_per_sqft'].idxmin()]['price_per_sqft']:,.0f} psf | Listing agent: {df.loc[df['price_per_sqft'].idxmin()]['Agent']} with {df.loc[df['price_per_sqft'].idxmin()]['Listing Broker']} | Buyer's agent: {df.loc[df['price_per_sqft'].idxmin()]['Buyer Agent']} with {df.loc[df['price_per_sqft'].idxmin()]['Buyer Broker']} | Days on market: {df.loc[df['price_per_sqft'].idxmin()]['days_on_market']}\")\n",
    "### Highest and lowest days on market ###\n",
    "print(f\"{DAYS_MAX}{BR}{df.loc[df['days_on_market'].idxmax()]['building_name']}, {df.loc[df['days_on_market'].idxmax()]['address']} | Price ${df.loc[df['days_on_market'].idxmax()]['int_Sale_Price']:,.0f} | ${df.loc[df['days_on_market'].idxmax()]['price_per_sqft']:,.0f} psf | Listing agent: {df.loc[df['days_on_market'].idxmax()]['Agent']} with {df.loc[df['days_on_market'].idxmax()]['Listing Broker']} | Buyer's agent: {df.loc[df['days_on_market'].idxmax()]['Buyer Agent']} with {df.loc[df['days_on_market'].idxmax()]['Buyer Broker']} | Days on market: {df.loc[df['days_on_market'].idxmax()]['days_on_market']}\")\n",
    "print(f\"{DAYS_MIN}{BR}{df.loc[df['days_on_market'].idxmin()]['building_name']}, {df.loc[df['days_on_market'].idxmin()]['address']} | Price ${df.loc[df['days_on_market'].idxmin()]['int_Sale_Price']:,.0f} | ${df.loc[df['days_on_market'].idxmin()]['price_per_sqft']:,.0f} psf | Listing agent: {df.loc[df['days_on_market'].idxmin()]['Agent']} with {df.loc[df['days_on_market'].idxmin()]['Listing Broker']} | Buyer's agent: {df.loc[df['days_on_market'].idxmin()]['Buyer Agent']} with {df.loc[df['days_on_market'].idxmin()]['Buyer Broker']} | Days on market: {df.loc[df['days_on_market'].idxmin()]['days_on_market']}\")"
   ]
  },
  {
   "cell_type": "code",
   "execution_count": 51,
   "metadata": {},
   "outputs": [
    {
     "data": {
      "text/plain": [
       "110.2"
      ]
     },
     "execution_count": 51,
     "metadata": {},
     "output_type": "execute_result"
    }
   ],
   "source": [
    "df['days_on_market'].mean()"
   ]
  },
  {
   "cell_type": "markdown",
   "metadata": {},
   "source": [
    "## Map URL snagger"
   ]
  },
  {
   "cell_type": "markdown",
   "metadata": {},
   "source": [
    "Map template URL: `https://trd-digital.github.io/trd-news-interactive-maps/{map-folder-name}`"
   ]
  },
  {
   "cell_type": "code",
   "execution_count": 52,
   "metadata": {},
   "outputs": [
    {
     "name": "stdout",
     "output_type": "stream",
     "text": [
      "https://trd-digital.github.io/trd-news-interactive-maps/condo_sales_week_ending_12042023\n"
     ]
    }
   ],
   "source": [
    "base_name = 'https://trd-digital.github.io/trd-news-interactive-maps/'\n",
    "\n",
    "cwd = os.getcwd()\n",
    "\n",
    "cwd = cwd.split('/')\n",
    "\n",
    "final_name = base_name + cwd[-1]\n",
    "print(final_name)"
   ]
  }
 ],
 "metadata": {
  "kernelspec": {
   "display_name": "Python 3 (ipykernel)",
   "language": "python",
   "name": "python3"
  },
  "language_info": {
   "codemirror_mode": {
    "name": "ipython",
    "version": 3
   },
   "file_extension": ".py",
   "mimetype": "text/x-python",
   "name": "python",
   "nbconvert_exporter": "python",
   "pygments_lexer": "ipython3",
   "version": "3.9.12"
  },
  "toc": {
   "base_numbering": 1,
   "nav_menu": {},
   "number_sections": true,
   "sideBar": true,
   "skip_h1_title": false,
   "title_cell": "Table of Contents",
   "title_sidebar": "Contents",
   "toc_cell": false,
   "toc_position": {},
   "toc_section_display": true,
   "toc_window_display": false
  }
 },
 "nbformat": 4,
 "nbformat_minor": 4
}
