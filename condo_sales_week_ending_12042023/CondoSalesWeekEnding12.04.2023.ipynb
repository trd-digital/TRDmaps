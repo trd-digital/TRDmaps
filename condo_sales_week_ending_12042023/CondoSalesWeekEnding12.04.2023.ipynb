{
 "cells": [
  {
   "cell_type": "markdown",
   "metadata": {},
   "source": [
    "## Imports"
   ]
  },
  {
   "cell_type": "code",
   "execution_count": 1,
   "metadata": {},
   "outputs": [],
   "source": [
    "import googlemaps\n",
    "import pandas as pd\n",
    "import numpy as np\n",
    "import re\n",
    "import os\n",
    "import geopandas as gpd\n",
    "import folium\n",
    "import tabula"
   ]
  },
  {
   "cell_type": "markdown",
   "metadata": {},
   "source": [
    "## Read-in"
   ]
  },
  {
   "cell_type": "code",
   "execution_count": 2,
   "metadata": {},
   "outputs": [],
   "source": [
    "# Gotta figure out how to get rid of the java error.\n",
    "# SO: https://stackoverflow.com/questions/54817211/java-command-is-not-found-from-this-python-process-please-ensure-java-is-inst\n",
    "\n",
    "dsf = tabula.read_pdf('condo.pdf', pages='all')"
   ]
  },
  {
   "cell_type": "markdown",
   "metadata": {},
   "source": [
    "## Clean Data"
   ]
  },
  {
   "cell_type": "code",
   "execution_count": 3,
   "metadata": {},
   "outputs": [],
   "source": [
    "df = dsf[0]\n",
    "df.columns = df.iloc[0]\n",
    "df = df[1:]\n",
    "df = df.drop(columns=df.columns[0])\n",
    "df = df.replace(np.nan, 'Not Available', regex=True)\n",
    "df = df.rename(columns={'Building / Address / City': 'building_address_city','Days on\\rMarket':'days_on_market',\\\n",
    "                        'Price /\\rSq. Ft.':'price_per_sqft'})\n",
    "df['building_address_city'] = df['building_address_city'].str.replace('^0', '', regex=True)\n",
    "df['geo_address'] = df['building_address_city']\n",
    "df['geo_address'] = df['geo_address'].map(lambda x: re.sub(r'\\r', ' ', x))\n",
    "df = df.replace('\\n',' ',regex=True)\n",
    "pattern = r'^(?P<building_name>[\\d\\s]*[A-Za-z\\s]+)\\s(?P<address>.+)\\s(?P<city>[A-Za-z\\s]+)$'\n",
    "df2 = df['geo_address']\n",
    "df2 = df2.to_frame()\n",
    "df2[['building_name', 'address', 'city']] = df2['geo_address'].str.extract(pattern, expand=True)"
   ]
  },
  {
   "cell_type": "markdown",
   "metadata": {},
   "source": [
    "Review this later (it's about how to properly merge DFs): https://pandas.pydata.org/pandas-docs/stable/user_guide/merging.html"
   ]
  },
  {
   "cell_type": "markdown",
   "metadata": {},
   "source": [
    "## Geocode"
   ]
  },
  {
   "cell_type": "code",
   "execution_count": 4,
   "metadata": {},
   "outputs": [],
   "source": [
    "result = pd.merge(df,df2,left_index=True, right_index=True)\n",
    "df = result\n",
    "df = df.drop(columns='city')"
   ]
  },
  {
   "cell_type": "code",
   "execution_count": 5,
   "metadata": {},
   "outputs": [],
   "source": [
    "%store -r google_maps_API_Key\n",
    "gmaps_key = googlemaps.Client(key=google_maps_API_Key)"
   ]
  },
  {
   "cell_type": "code",
   "execution_count": 6,
   "metadata": {},
   "outputs": [],
   "source": [
    "def geocode(add):\n",
    "    g = gmaps_key.geocode(add)\n",
    "    lat = g[0][\"geometry\"][\"location\"][\"lat\"]\n",
    "    lng = g[0][\"geometry\"][\"location\"][\"lng\"]\n",
    "    return (lat, lng)\n",
    "\n",
    "df['geocoded'] = df['geo_address_x'].apply(geocode)"
   ]
  },
  {
   "cell_type": "code",
   "execution_count": 7,
   "metadata": {},
   "outputs": [],
   "source": [
    "df['geocoded'] = df['geocoded'].astype(str)\n",
    "df[['lat', 'lon']] = df['geocoded'].str.strip('()').str.split(', ', expand=True)\n",
    "df['lat'] = df['lat'].astype(float)\n",
    "df['lon'] = df['lon'].astype(float)"
   ]
  },
  {
   "cell_type": "markdown",
   "metadata": {},
   "source": [
    "Folium documentation link: https://python-visualization.github.io/folium/index.html\n",
    "\n",
    "Folium is the library that lets us use leaflet with Python, since it's meant to be used with JavaScript.\n",
    "\n",
    "For adding titles: https://stackoverflow.com/questions/61928013/adding-a-title-or-text-to-a-folium-map"
   ]
  },
  {
   "cell_type": "markdown",
   "metadata": {},
   "source": [
    "## Correction section"
   ]
  },
  {
   "cell_type": "code",
   "execution_count": 8,
   "metadata": {},
   "outputs": [],
   "source": [
    "# df.at[index#,'col_name']"
   ]
  },
  {
   "cell_type": "markdown",
   "metadata": {},
   "source": [
    "## Format Data"
   ]
  },
  {
   "cell_type": "code",
   "execution_count": 9,
   "metadata": {},
   "outputs": [],
   "source": [
    "### Insert NaNs if needed ###\n",
    "df = df.replace('N/A', np.nan)"
   ]
  },
  {
   "cell_type": "code",
   "execution_count": 10,
   "metadata": {},
   "outputs": [],
   "source": [
    "df['int_Sale_Price'] = df['Sale Price'].str.replace('$','',regex=False)"
   ]
  },
  {
   "cell_type": "code",
   "execution_count": 11,
   "metadata": {},
   "outputs": [],
   "source": [
    "df['int_Sale_Price'] = df['int_Sale_Price'].str.replace(',','',regex=False)"
   ]
  },
  {
   "cell_type": "code",
   "execution_count": 12,
   "metadata": {},
   "outputs": [],
   "source": [
    "df['int_Sale_Price'] = pd.to_numeric(df['int_Sale_Price'])"
   ]
  },
  {
   "cell_type": "code",
   "execution_count": 13,
   "metadata": {},
   "outputs": [],
   "source": [
    "df['price_per_sqft'] = df['price_per_sqft'].str.replace('$','',regex=False)\n",
    "df['price_per_sqft'] = df['price_per_sqft'].str.replace(',','',regex=False)\n",
    "df['price_per_sqft'] = pd.to_numeric(df['price_per_sqft'])\n",
    "\n",
    "df['days_on_market'] = pd.to_numeric(df['days_on_market'])"
   ]
  },
  {
   "cell_type": "markdown",
   "metadata": {},
   "source": [
    "## Color-code top sale"
   ]
  },
  {
   "cell_type": "code",
   "execution_count": 14,
   "metadata": {},
   "outputs": [],
   "source": [
    "### Insert RANK values ###\n",
    "df['RANK'] = range(1, len(df) + 1)\n",
    "# use numpy to assign values to the 'COLOR' column\n",
    "df['COLOR'] = np.where(df['RANK'] <= 1, 'orange', 'blue')"
   ]
  },
  {
   "cell_type": "markdown",
   "metadata": {},
   "source": [
    "## HTML Popup Formatter"
   ]
  },
  {
   "cell_type": "code",
   "execution_count": 15,
   "metadata": {},
   "outputs": [
    {
     "data": {
      "text/plain": [
       "Index(['building_address_city', 'Close Date', 'days_on_market', 'Sale Price',\n",
       "       'Sq. Ft.', 'price_per_sqft', 'Agent', 'Listing Broker', 'Buyer Agent',\n",
       "       'Buyer Broker', 'geo_address_x', 'geo_address_y', 'building_name',\n",
       "       'address', 'geocoded', 'lat', 'lon', 'int_Sale_Price', 'RANK', 'COLOR'],\n",
       "      dtype='object')"
      ]
     },
     "execution_count": 15,
     "metadata": {},
     "output_type": "execute_result"
    }
   ],
   "source": [
    "df.columns"
   ]
  },
  {
   "cell_type": "code",
   "execution_count": 16,
   "metadata": {},
   "outputs": [],
   "source": [
    "def popup_html(row):\n",
    "    building_name = row['building_name']\n",
    "    price = row['Sale Price']\n",
    "    days_on_market = row['days_on_market']\n",
    "    listing_agent = row['Agent']\n",
    "    buyers_agent = row['Buyer Agent']\n",
    "    psf = row['price_per_sqft']\n",
    "    address = row['address']\n",
    "    \n",
    "    html = '''<!DOCTYPE html>\n",
    "    <html>\n",
    "    <strong>Building Name: </strong>{}'''.format(building_name) + '''<br>\n",
    "    <strong>Sale Price: </strong>{}'''.format(price) + '''<br>\n",
    "    <strong>Days on Market: </strong>{}'''.format(days_on_market) + '''<br>\n",
    "    <strong>Listing Agent: </strong>{}'''.format(listing_agent) + '''<br>\n",
    "    <strong>Buyer's Agent: </strong>{}'''.format(buyers_agent) + '''<br>\n",
    "    <strong>Price sq ft: </strong>${}'''.format(psf) + '''<br>\n",
    "    <strong>Address: </strong>{}'''.format(address) + '''<br>\n",
    "    </html>\n",
    "    '''\n",
    "    return html"
   ]
  },
  {
   "cell_type": "code",
   "execution_count": 24,
   "metadata": {},
   "outputs": [
    {
     "data": {
      "text/html": [
       "<div style=\"width:100%;\"><div style=\"position:relative;width:100%;height:0;padding-bottom:60%;\"><span style=\"color:#565656\">Make this Notebook Trusted to load map: File -> Trust Notebook</span><iframe srcdoc=\"&lt;!DOCTYPE html&gt;\n",
       "&lt;head&gt;    \n",
       "    &lt;meta http-equiv=&quot;content-type&quot; content=&quot;text/html; charset=UTF-8&quot; /&gt;\n",
       "    \n",
       "        &lt;script&gt;\n",
       "            L_NO_TOUCH = false;\n",
       "            L_DISABLE_3D = false;\n",
       "        &lt;/script&gt;\n",
       "    \n",
       "    &lt;style&gt;html, body {width: 100%;height: 100%;margin: 0;padding: 0;}&lt;/style&gt;\n",
       "    &lt;style&gt;#map {position:absolute;top:0;bottom:0;right:0;left:0;}&lt;/style&gt;\n",
       "    &lt;script src=&quot;https://cdn.jsdelivr.net/npm/leaflet@1.6.0/dist/leaflet.js&quot;&gt;&lt;/script&gt;\n",
       "    &lt;script src=&quot;https://code.jquery.com/jquery-1.12.4.min.js&quot;&gt;&lt;/script&gt;\n",
       "    &lt;script src=&quot;https://maxcdn.bootstrapcdn.com/bootstrap/3.2.0/js/bootstrap.min.js&quot;&gt;&lt;/script&gt;\n",
       "    &lt;script src=&quot;https://cdnjs.cloudflare.com/ajax/libs/Leaflet.awesome-markers/2.0.2/leaflet.awesome-markers.js&quot;&gt;&lt;/script&gt;\n",
       "    &lt;link rel=&quot;stylesheet&quot; href=&quot;https://cdn.jsdelivr.net/npm/leaflet@1.6.0/dist/leaflet.css&quot;/&gt;\n",
       "    &lt;link rel=&quot;stylesheet&quot; href=&quot;https://maxcdn.bootstrapcdn.com/bootstrap/3.2.0/css/bootstrap.min.css&quot;/&gt;\n",
       "    &lt;link rel=&quot;stylesheet&quot; href=&quot;https://maxcdn.bootstrapcdn.com/bootstrap/3.2.0/css/bootstrap-theme.min.css&quot;/&gt;\n",
       "    &lt;link rel=&quot;stylesheet&quot; href=&quot;https://maxcdn.bootstrapcdn.com/font-awesome/4.6.3/css/font-awesome.min.css&quot;/&gt;\n",
       "    &lt;link rel=&quot;stylesheet&quot; href=&quot;https://cdnjs.cloudflare.com/ajax/libs/Leaflet.awesome-markers/2.0.2/leaflet.awesome-markers.css&quot;/&gt;\n",
       "    &lt;link rel=&quot;stylesheet&quot; href=&quot;https://cdn.jsdelivr.net/gh/python-visualization/folium/folium/templates/leaflet.awesome.rotate.min.css&quot;/&gt;\n",
       "    \n",
       "            &lt;meta name=&quot;viewport&quot; content=&quot;width=device-width,\n",
       "                initial-scale=1.0, maximum-scale=1.0, user-scalable=no&quot; /&gt;\n",
       "            &lt;style&gt;\n",
       "                #map_e02a00e9820fdac270ca2f7b4b03cec3 {\n",
       "                    position: relative;\n",
       "                    width: 100.0%;\n",
       "                    height: 100.0%;\n",
       "                    left: 0.0%;\n",
       "                    top: 0.0%;\n",
       "                }\n",
       "            &lt;/style&gt;\n",
       "        \n",
       "&lt;/head&gt;\n",
       "&lt;body&gt;    \n",
       "    \n",
       "              &lt;h3 align=&quot;center&quot; style=&quot;font-size:16px&quot;&gt;&lt;b&gt;Recent Miami-Dade Condo Sales &lt;/b&gt;&lt;/h3&gt;\n",
       "             \n",
       "    \n",
       "                &lt;p align=&quot;center&quot; style=&quot;vertical-align: bottom; font-size:13px&quot;&gt;&lt;i&gt;November 26th - December 2nd&lt;/i&gt;&lt;/p&gt;\n",
       "                \n",
       "    \n",
       "            &lt;div class=&quot;folium-map&quot; id=&quot;map_e02a00e9820fdac270ca2f7b4b03cec3&quot; &gt;&lt;/div&gt;\n",
       "        \n",
       "&lt;/body&gt;\n",
       "&lt;script&gt;    \n",
       "    \n",
       "            var map_e02a00e9820fdac270ca2f7b4b03cec3 = L.map(\n",
       "                &quot;map_e02a00e9820fdac270ca2f7b4b03cec3&quot;,\n",
       "                {\n",
       "                    center: [25.784497820000002, -80.15940709],\n",
       "                    crs: L.CRS.EPSG3857,\n",
       "                    zoom: 9.5,\n",
       "                    zoomControl: true,\n",
       "                    preferCanvas: false,\n",
       "                }\n",
       "            );\n",
       "\n",
       "            \n",
       "\n",
       "        \n",
       "    \n",
       "            var feature_group_1b1db4e2522d64ff6c79d6b695005be4 = L.featureGroup(\n",
       "                {}\n",
       "            ).addTo(map_e02a00e9820fdac270ca2f7b4b03cec3);\n",
       "        \n",
       "    \n",
       "            var marker_3114d1d7b77bf1da9eb33ed438190e2a = L.marker(\n",
       "                [25.7679638, -80.13630309999999],\n",
       "                {&quot;fill&quot;: true, &quot;radius&quot;: 5}\n",
       "            ).addTo(feature_group_1b1db4e2522d64ff6c79d6b695005be4);\n",
       "        \n",
       "    \n",
       "            var icon_622d059e4071b5511e4dc1c1cf4e2a13 = L.AwesomeMarkers.icon(\n",
       "                {&quot;extraClasses&quot;: &quot;fa-rotate-0&quot;, &quot;icon&quot;: &quot;info-sign&quot;, &quot;iconColor&quot;: &quot;white&quot;, &quot;markerColor&quot;: &quot;orange&quot;, &quot;prefix&quot;: &quot;glyphicon&quot;}\n",
       "            );\n",
       "            marker_3114d1d7b77bf1da9eb33ed438190e2a.setIcon(icon_622d059e4071b5511e4dc1c1cf4e2a13);\n",
       "        \n",
       "    \n",
       "        var popup_5197d6b46c2a9796efc9d03189e2d643 = L.popup({&quot;maxWidth&quot;: 400});\n",
       "\n",
       "        \n",
       "            \n",
       "                var html_026c62610272c02ba33c93b348d86077 = $(`&lt;div id=&quot;html_026c62610272c02ba33c93b348d86077&quot; style=&quot;width: 100.0%; height: 100.0%;&quot;&gt;&lt;!DOCTYPE html&gt;     &lt;html&gt;     &lt;strong&gt;Building Name: &lt;/strong&gt;Apogee Condo&lt;br&gt;     &lt;strong&gt;Sale Price: &lt;/strong&gt;$19,250,000.00&lt;br&gt;     &lt;strong&gt;Days on Market: &lt;/strong&gt;40&lt;br&gt;     &lt;strong&gt;Listing Agent: &lt;/strong&gt;Hillary Hertzberg&lt;br&gt;     &lt;strong&gt;Buyer&#x27;s Agent: &lt;/strong&gt;Leah Barney&lt;br&gt;     &lt;strong&gt;Price sq ft: &lt;/strong&gt;$4630.74&lt;br&gt;     &lt;strong&gt;Address: &lt;/strong&gt;800 S Pointe Dr 1504 Miami&lt;br&gt;     &lt;/html&gt;     &lt;/div&gt;`)[0];\n",
       "                popup_5197d6b46c2a9796efc9d03189e2d643.setContent(html_026c62610272c02ba33c93b348d86077);\n",
       "            \n",
       "        \n",
       "\n",
       "        marker_3114d1d7b77bf1da9eb33ed438190e2a.bindPopup(popup_5197d6b46c2a9796efc9d03189e2d643)\n",
       "        ;\n",
       "\n",
       "        \n",
       "    \n",
       "    \n",
       "            var feature_group_6367be9ecc43092cefb27030f102fffc = L.featureGroup(\n",
       "                {}\n",
       "            ).addTo(map_e02a00e9820fdac270ca2f7b4b03cec3);\n",
       "        \n",
       "    \n",
       "            var marker_0e3d1f24b390a25685d23c86f9782ed5 = L.marker(\n",
       "                [25.7672315, -80.1327611],\n",
       "                {&quot;fill&quot;: true, &quot;radius&quot;: 5}\n",
       "            ).addTo(feature_group_6367be9ecc43092cefb27030f102fffc);\n",
       "        \n",
       "    \n",
       "            var icon_d63e521116bb51fb8882faaaf796e75d = L.AwesomeMarkers.icon(\n",
       "                {&quot;extraClasses&quot;: &quot;fa-rotate-0&quot;, &quot;icon&quot;: &quot;info-sign&quot;, &quot;iconColor&quot;: &quot;white&quot;, &quot;markerColor&quot;: &quot;blue&quot;, &quot;prefix&quot;: &quot;glyphicon&quot;}\n",
       "            );\n",
       "            marker_0e3d1f24b390a25685d23c86f9782ed5.setIcon(icon_d63e521116bb51fb8882faaaf796e75d);\n",
       "        \n",
       "    \n",
       "        var popup_1628b1eb9a38dbbb8476de084fcc8fa0 = L.popup({&quot;maxWidth&quot;: 400});\n",
       "\n",
       "        \n",
       "            \n",
       "                var html_30c5c5a7b0c558266216b2434cbb485a = $(`&lt;div id=&quot;html_30c5c5a7b0c558266216b2434cbb485a&quot; style=&quot;width: 100.0%; height: 100.0%;&quot;&gt;&lt;!DOCTYPE html&gt;     &lt;html&gt;     &lt;strong&gt;Building Name: &lt;/strong&gt;Continuum on South Beach&lt;br&gt;     &lt;strong&gt;Sale Price: &lt;/strong&gt;$5,700,000.00&lt;br&gt;     &lt;strong&gt;Days on Market: &lt;/strong&gt;34&lt;br&gt;     &lt;strong&gt;Listing Agent: &lt;/strong&gt;Jorge Martinez&lt;br&gt;     &lt;strong&gt;Buyer&#x27;s Agent: &lt;/strong&gt;Jean-Louis Narboni&lt;br&gt;     &lt;strong&gt;Price sq ft: &lt;/strong&gt;$3573.67&lt;br&gt;     &lt;strong&gt;Address: &lt;/strong&gt;100 S Pointe Dr 1009 Miami&lt;br&gt;     &lt;/html&gt;     &lt;/div&gt;`)[0];\n",
       "                popup_1628b1eb9a38dbbb8476de084fcc8fa0.setContent(html_30c5c5a7b0c558266216b2434cbb485a);\n",
       "            \n",
       "        \n",
       "\n",
       "        marker_0e3d1f24b390a25685d23c86f9782ed5.bindPopup(popup_1628b1eb9a38dbbb8476de084fcc8fa0)\n",
       "        ;\n",
       "\n",
       "        \n",
       "    \n",
       "    \n",
       "            var marker_e8f7ed0ce59ae9d60aa3b8d95e0e5911 = L.marker(\n",
       "                [25.9327557, -80.1210054],\n",
       "                {&quot;fill&quot;: true, &quot;radius&quot;: 5}\n",
       "            ).addTo(feature_group_6367be9ecc43092cefb27030f102fffc);\n",
       "        \n",
       "    \n",
       "            var icon_509661e35b8829a0b055d1b6d329e14e = L.AwesomeMarkers.icon(\n",
       "                {&quot;extraClasses&quot;: &quot;fa-rotate-0&quot;, &quot;icon&quot;: &quot;info-sign&quot;, &quot;iconColor&quot;: &quot;white&quot;, &quot;markerColor&quot;: &quot;blue&quot;, &quot;prefix&quot;: &quot;glyphicon&quot;}\n",
       "            );\n",
       "            marker_e8f7ed0ce59ae9d60aa3b8d95e0e5911.setIcon(icon_509661e35b8829a0b055d1b6d329e14e);\n",
       "        \n",
       "    \n",
       "        var popup_1d3c63ccd77150b74f0eea4f065378ea = L.popup({&quot;maxWidth&quot;: 400});\n",
       "\n",
       "        \n",
       "            \n",
       "                var html_68ca3036b8edc39bba64901b2b370f70 = $(`&lt;div id=&quot;html_68ca3036b8edc39bba64901b2b370f70&quot; style=&quot;width: 100.0%; height: 100.0%;&quot;&gt;&lt;!DOCTYPE html&gt;     &lt;html&gt;     &lt;strong&gt;Building Name: &lt;/strong&gt;Jade Signature&lt;br&gt;     &lt;strong&gt;Sale Price: &lt;/strong&gt;$4,600,000.00&lt;br&gt;     &lt;strong&gt;Days on Market: &lt;/strong&gt;74&lt;br&gt;     &lt;strong&gt;Listing Agent: &lt;/strong&gt;Leonardo Borges&lt;br&gt;     &lt;strong&gt;Buyer&#x27;s Agent: &lt;/strong&gt;Scott Shuffield&lt;br&gt;     &lt;strong&gt;Price sq ft: &lt;/strong&gt;$1543.62&lt;br&gt;     &lt;strong&gt;Address: &lt;/strong&gt;16901 Collins Ave 2101 Sunny Isles&lt;br&gt;     &lt;/html&gt;     &lt;/div&gt;`)[0];\n",
       "                popup_1d3c63ccd77150b74f0eea4f065378ea.setContent(html_68ca3036b8edc39bba64901b2b370f70);\n",
       "            \n",
       "        \n",
       "\n",
       "        marker_e8f7ed0ce59ae9d60aa3b8d95e0e5911.bindPopup(popup_1d3c63ccd77150b74f0eea4f065378ea)\n",
       "        ;\n",
       "\n",
       "        \n",
       "    \n",
       "    \n",
       "            var marker_29ff1749f0457192931d0f97db8e3e99 = L.marker(\n",
       "                [25.7584095, -80.14167259999999],\n",
       "                {&quot;fill&quot;: true, &quot;radius&quot;: 5}\n",
       "            ).addTo(feature_group_6367be9ecc43092cefb27030f102fffc);\n",
       "        \n",
       "    \n",
       "            var icon_922ea332e4df024c70e1cb9997b08da7 = L.AwesomeMarkers.icon(\n",
       "                {&quot;extraClasses&quot;: &quot;fa-rotate-0&quot;, &quot;icon&quot;: &quot;info-sign&quot;, &quot;iconColor&quot;: &quot;white&quot;, &quot;markerColor&quot;: &quot;blue&quot;, &quot;prefix&quot;: &quot;glyphicon&quot;}\n",
       "            );\n",
       "            marker_29ff1749f0457192931d0f97db8e3e99.setIcon(icon_922ea332e4df024c70e1cb9997b08da7);\n",
       "        \n",
       "    \n",
       "        var popup_6e729876b3cdf1685447a933b96329c9 = L.popup({&quot;maxWidth&quot;: 400});\n",
       "\n",
       "        \n",
       "            \n",
       "                var html_c09fbb2a82cba5c35e961e8f1dfe9da8 = $(`&lt;div id=&quot;html_c09fbb2a82cba5c35e961e8f1dfe9da8&quot; style=&quot;width: 100.0%; height: 100.0%;&quot;&gt;&lt;!DOCTYPE html&gt;     &lt;html&gt;     &lt;strong&gt;Building Name: &lt;/strong&gt;Bayside Village East&lt;br&gt;     &lt;strong&gt;Sale Price: &lt;/strong&gt;$2,800,000.00&lt;br&gt;     &lt;strong&gt;Days on Market: &lt;/strong&gt;259&lt;br&gt;     &lt;strong&gt;Listing Agent: &lt;/strong&gt;Jorge Escasena&lt;br&gt;     &lt;strong&gt;Buyer&#x27;s Agent: &lt;/strong&gt;Karla Abaunza&lt;br&gt;     &lt;strong&gt;Price sq ft: &lt;/strong&gt;$1515.97&lt;br&gt;     &lt;strong&gt;Address: &lt;/strong&gt;2132 Fisher Island Dr 2132 Miami&lt;br&gt;     &lt;/html&gt;     &lt;/div&gt;`)[0];\n",
       "                popup_6e729876b3cdf1685447a933b96329c9.setContent(html_c09fbb2a82cba5c35e961e8f1dfe9da8);\n",
       "            \n",
       "        \n",
       "\n",
       "        marker_29ff1749f0457192931d0f97db8e3e99.bindPopup(popup_6e729876b3cdf1685447a933b96329c9)\n",
       "        ;\n",
       "\n",
       "        \n",
       "    \n",
       "    \n",
       "            var marker_f0ce597e2aed7c39a1b70f6c9419b3a2 = L.marker(\n",
       "                [25.7577288, -80.1386049],\n",
       "                {&quot;fill&quot;: true, &quot;radius&quot;: 5}\n",
       "            ).addTo(feature_group_6367be9ecc43092cefb27030f102fffc);\n",
       "        \n",
       "    \n",
       "            var icon_5820e25df4d4eda4d01d45de3d4a4901 = L.AwesomeMarkers.icon(\n",
       "                {&quot;extraClasses&quot;: &quot;fa-rotate-0&quot;, &quot;icon&quot;: &quot;info-sign&quot;, &quot;iconColor&quot;: &quot;white&quot;, &quot;markerColor&quot;: &quot;blue&quot;, &quot;prefix&quot;: &quot;glyphicon&quot;}\n",
       "            );\n",
       "            marker_f0ce597e2aed7c39a1b70f6c9419b3a2.setIcon(icon_5820e25df4d4eda4d01d45de3d4a4901);\n",
       "        \n",
       "    \n",
       "        var popup_b50d8ce13edc573af9c7d39500e102bf = L.popup({&quot;maxWidth&quot;: 400});\n",
       "\n",
       "        \n",
       "            \n",
       "                var html_f0a218ffa5ad55956bfd80089de871cb = $(`&lt;div id=&quot;html_f0a218ffa5ad55956bfd80089de871cb&quot; style=&quot;width: 100.0%; height: 100.0%;&quot;&gt;&lt;!DOCTYPE html&gt;     &lt;html&gt;     &lt;strong&gt;Building Name: &lt;/strong&gt;Seaside Village&lt;br&gt;     &lt;strong&gt;Sale Price: &lt;/strong&gt;$2,650,000.00&lt;br&gt;     &lt;strong&gt;Days on Market: &lt;/strong&gt;322&lt;br&gt;     &lt;strong&gt;Listing Agent: &lt;/strong&gt;Ana Viyella&lt;br&gt;     &lt;strong&gt;Buyer&#x27;s Agent: &lt;/strong&gt;Oliver Lloyd&lt;br&gt;     &lt;strong&gt;Price sq ft: &lt;/strong&gt;$1854.44&lt;br&gt;     &lt;strong&gt;Address: &lt;/strong&gt;19137 Fisher Island Dr 19137 Miami&lt;br&gt;     &lt;/html&gt;     &lt;/div&gt;`)[0];\n",
       "                popup_b50d8ce13edc573af9c7d39500e102bf.setContent(html_f0a218ffa5ad55956bfd80089de871cb);\n",
       "            \n",
       "        \n",
       "\n",
       "        marker_f0ce597e2aed7c39a1b70f6c9419b3a2.bindPopup(popup_b50d8ce13edc573af9c7d39500e102bf)\n",
       "        ;\n",
       "\n",
       "        \n",
       "    \n",
       "    \n",
       "            var marker_029747235d052476b4703b49dae51fb8 = L.marker(\n",
       "                [25.9392382, -80.1337739],\n",
       "                {&quot;fill&quot;: true, &quot;radius&quot;: 5}\n",
       "            ).addTo(feature_group_6367be9ecc43092cefb27030f102fffc);\n",
       "        \n",
       "    \n",
       "            var icon_94b10d3a7c182339f4f44a25678a53bf = L.AwesomeMarkers.icon(\n",
       "                {&quot;extraClasses&quot;: &quot;fa-rotate-0&quot;, &quot;icon&quot;: &quot;info-sign&quot;, &quot;iconColor&quot;: &quot;white&quot;, &quot;markerColor&quot;: &quot;blue&quot;, &quot;prefix&quot;: &quot;glyphicon&quot;}\n",
       "            );\n",
       "            marker_029747235d052476b4703b49dae51fb8.setIcon(icon_94b10d3a7c182339f4f44a25678a53bf);\n",
       "        \n",
       "    \n",
       "        var popup_48040a3f7259245644b0022c1b41fd95 = L.popup({&quot;maxWidth&quot;: 400});\n",
       "\n",
       "        \n",
       "            \n",
       "                var html_08bc386dedf9bf2c86174dbe5dd7b1b9 = $(`&lt;div id=&quot;html_08bc386dedf9bf2c86174dbe5dd7b1b9&quot; style=&quot;width: 100.0%; height: 100.0%;&quot;&gt;&lt;!DOCTYPE html&gt;     &lt;html&gt;     &lt;strong&gt;Building Name: &lt;/strong&gt;Williams Island&lt;br&gt;     &lt;strong&gt;Sale Price: &lt;/strong&gt;$2,625,000.00&lt;br&gt;     &lt;strong&gt;Days on Market: &lt;/strong&gt;112&lt;br&gt;     &lt;strong&gt;Listing Agent: &lt;/strong&gt;Joanne Perez&lt;br&gt;     &lt;strong&gt;Buyer&#x27;s Agent: &lt;/strong&gt;Lazaro Rivero&lt;br&gt;     &lt;strong&gt;Price sq ft: &lt;/strong&gt;$785.93&lt;br&gt;     &lt;strong&gt;Address: &lt;/strong&gt;2600 Island Blvd 605&lt;br&gt;     &lt;/html&gt;     &lt;/div&gt;`)[0];\n",
       "                popup_48040a3f7259245644b0022c1b41fd95.setContent(html_08bc386dedf9bf2c86174dbe5dd7b1b9);\n",
       "            \n",
       "        \n",
       "\n",
       "        marker_029747235d052476b4703b49dae51fb8.bindPopup(popup_48040a3f7259245644b0022c1b41fd95)\n",
       "        ;\n",
       "\n",
       "        \n",
       "    \n",
       "    \n",
       "            var marker_16b3ac1234d6834a75ee74a6ef10d2b7 = L.marker(\n",
       "                [25.7522301, -80.1994471],\n",
       "                {&quot;fill&quot;: true, &quot;radius&quot;: 5}\n",
       "            ).addTo(feature_group_6367be9ecc43092cefb27030f102fffc);\n",
       "        \n",
       "    \n",
       "            var icon_54d378ff236c83e03cf53aa0dfb19dc2 = L.AwesomeMarkers.icon(\n",
       "                {&quot;extraClasses&quot;: &quot;fa-rotate-0&quot;, &quot;icon&quot;: &quot;info-sign&quot;, &quot;iconColor&quot;: &quot;white&quot;, &quot;markerColor&quot;: &quot;blue&quot;, &quot;prefix&quot;: &quot;glyphicon&quot;}\n",
       "            );\n",
       "            marker_16b3ac1234d6834a75ee74a6ef10d2b7.setIcon(icon_54d378ff236c83e03cf53aa0dfb19dc2);\n",
       "        \n",
       "    \n",
       "        var popup_85e775078701039f8710783de6ab687d = L.popup({&quot;maxWidth&quot;: 400});\n",
       "\n",
       "        \n",
       "            \n",
       "                var html_3bc190d96a8a6eedcb4f3a3c045b1476 = $(`&lt;div id=&quot;html_3bc190d96a8a6eedcb4f3a3c045b1476&quot; style=&quot;width: 100.0%; height: 100.0%;&quot;&gt;&lt;!DOCTYPE html&gt;     &lt;html&gt;     &lt;strong&gt;Building Name: &lt;/strong&gt;Bristol Tower&lt;br&gt;     &lt;strong&gt;Sale Price: &lt;/strong&gt;$2,475,000.00&lt;br&gt;     &lt;strong&gt;Days on Market: &lt;/strong&gt;49&lt;br&gt;     &lt;strong&gt;Listing Agent: &lt;/strong&gt;Alicia Constain&lt;br&gt;     &lt;strong&gt;Buyer&#x27;s Agent: &lt;/strong&gt;Miriam Poggio&lt;br&gt;     &lt;strong&gt;Price sq ft: &lt;/strong&gt;$916.67&lt;br&gt;     &lt;strong&gt;Address: &lt;/strong&gt;2127 Brickell Ave 1403&lt;br&gt;     &lt;/html&gt;     &lt;/div&gt;`)[0];\n",
       "                popup_85e775078701039f8710783de6ab687d.setContent(html_3bc190d96a8a6eedcb4f3a3c045b1476);\n",
       "            \n",
       "        \n",
       "\n",
       "        marker_16b3ac1234d6834a75ee74a6ef10d2b7.bindPopup(popup_85e775078701039f8710783de6ab687d)\n",
       "        ;\n",
       "\n",
       "        \n",
       "    \n",
       "    \n",
       "            var marker_0374cceee3a7f779db0422a730193ce1 = L.marker(\n",
       "                [25.6846614, -80.15690060000001],\n",
       "                {&quot;fill&quot;: true, &quot;radius&quot;: 5}\n",
       "            ).addTo(feature_group_6367be9ecc43092cefb27030f102fffc);\n",
       "        \n",
       "    \n",
       "            var icon_f48f64135f262f5990df46913567856c = L.AwesomeMarkers.icon(\n",
       "                {&quot;extraClasses&quot;: &quot;fa-rotate-0&quot;, &quot;icon&quot;: &quot;info-sign&quot;, &quot;iconColor&quot;: &quot;white&quot;, &quot;markerColor&quot;: &quot;blue&quot;, &quot;prefix&quot;: &quot;glyphicon&quot;}\n",
       "            );\n",
       "            marker_0374cceee3a7f779db0422a730193ce1.setIcon(icon_f48f64135f262f5990df46913567856c);\n",
       "        \n",
       "    \n",
       "        var popup_8174ffa53dc00c1b9b6438812db2ee80 = L.popup({&quot;maxWidth&quot;: 400});\n",
       "\n",
       "        \n",
       "            \n",
       "                var html_296b63e383cc1963dbad5bfaeaa909e5 = $(`&lt;div id=&quot;html_296b63e383cc1963dbad5bfaeaa909e5&quot; style=&quot;width: 100.0%; height: 100.0%;&quot;&gt;&lt;!DOCTYPE html&gt;     &lt;html&gt;     &lt;strong&gt;Building Name: &lt;/strong&gt;nan&lt;br&gt;     &lt;strong&gt;Sale Price: &lt;/strong&gt;$2,400,000.00&lt;br&gt;     &lt;strong&gt;Days on Market: &lt;/strong&gt;54&lt;br&gt;     &lt;strong&gt;Listing Agent: &lt;/strong&gt;Ashley Cusack&lt;br&gt;     &lt;strong&gt;Buyer&#x27;s Agent: &lt;/strong&gt;Nei Andreani&lt;br&gt;     &lt;strong&gt;Price sq ft: &lt;/strong&gt;$892.19&lt;br&gt;     &lt;strong&gt;Address: &lt;/strong&gt;nan&lt;br&gt;     &lt;/html&gt;     &lt;/div&gt;`)[0];\n",
       "                popup_8174ffa53dc00c1b9b6438812db2ee80.setContent(html_296b63e383cc1963dbad5bfaeaa909e5);\n",
       "            \n",
       "        \n",
       "\n",
       "        marker_0374cceee3a7f779db0422a730193ce1.bindPopup(popup_8174ffa53dc00c1b9b6438812db2ee80)\n",
       "        ;\n",
       "\n",
       "        \n",
       "    \n",
       "    \n",
       "            var marker_019c9005561c2e726b266931ff2d12a5 = L.marker(\n",
       "                [25.7554036, -80.195048],\n",
       "                {&quot;fill&quot;: true, &quot;radius&quot;: 5}\n",
       "            ).addTo(feature_group_6367be9ecc43092cefb27030f102fffc);\n",
       "        \n",
       "    \n",
       "            var icon_93cc3376c555082fd6ab8372b66ea187 = L.AwesomeMarkers.icon(\n",
       "                {&quot;extraClasses&quot;: &quot;fa-rotate-0&quot;, &quot;icon&quot;: &quot;info-sign&quot;, &quot;iconColor&quot;: &quot;white&quot;, &quot;markerColor&quot;: &quot;blue&quot;, &quot;prefix&quot;: &quot;glyphicon&quot;}\n",
       "            );\n",
       "            marker_019c9005561c2e726b266931ff2d12a5.setIcon(icon_93cc3376c555082fd6ab8372b66ea187);\n",
       "        \n",
       "    \n",
       "        var popup_c648cb499aaa3effd33f5b2734bed439 = L.popup({&quot;maxWidth&quot;: 400});\n",
       "\n",
       "        \n",
       "            \n",
       "                var html_259489201667e1e5874400faa92356b6 = $(`&lt;div id=&quot;html_259489201667e1e5874400faa92356b6&quot; style=&quot;width: 100.0%; height: 100.0%;&quot;&gt;&lt;!DOCTYPE html&gt;     &lt;html&gt;     &lt;strong&gt;Building Name: &lt;/strong&gt;Santa Maria&lt;br&gt;     &lt;strong&gt;Sale Price: &lt;/strong&gt;$2,300,000.00&lt;br&gt;     &lt;strong&gt;Days on Market: &lt;/strong&gt;117&lt;br&gt;     &lt;strong&gt;Listing Agent: &lt;/strong&gt;Fabian Dominguez&lt;br&gt;     &lt;strong&gt;Buyer&#x27;s Agent: &lt;/strong&gt;Frederique Leforestier&lt;br&gt;     &lt;strong&gt;Price sq ft: &lt;/strong&gt;$891.47&lt;br&gt;     &lt;strong&gt;Address: &lt;/strong&gt;1643 Brickell Ave 805&lt;br&gt;     &lt;/html&gt;     &lt;/div&gt;`)[0];\n",
       "                popup_c648cb499aaa3effd33f5b2734bed439.setContent(html_259489201667e1e5874400faa92356b6);\n",
       "            \n",
       "        \n",
       "\n",
       "        marker_019c9005561c2e726b266931ff2d12a5.bindPopup(popup_c648cb499aaa3effd33f5b2734bed439)\n",
       "        ;\n",
       "\n",
       "        \n",
       "    \n",
       "    \n",
       "            var marker_f7efc108abbc9ff6063e04da823cd44b = L.marker(\n",
       "                [25.7293556, -80.2385542],\n",
       "                {&quot;fill&quot;: true, &quot;radius&quot;: 5}\n",
       "            ).addTo(feature_group_6367be9ecc43092cefb27030f102fffc);\n",
       "        \n",
       "    \n",
       "            var icon_ef7c50d9ae2a007b9be676471a924624 = L.AwesomeMarkers.icon(\n",
       "                {&quot;extraClasses&quot;: &quot;fa-rotate-0&quot;, &quot;icon&quot;: &quot;info-sign&quot;, &quot;iconColor&quot;: &quot;white&quot;, &quot;markerColor&quot;: &quot;blue&quot;, &quot;prefix&quot;: &quot;glyphicon&quot;}\n",
       "            );\n",
       "            marker_f7efc108abbc9ff6063e04da823cd44b.setIcon(icon_ef7c50d9ae2a007b9be676471a924624);\n",
       "        \n",
       "    \n",
       "        var popup_139ff2b497ba0f421293469811c0b4e4 = L.popup({&quot;maxWidth&quot;: 400});\n",
       "\n",
       "        \n",
       "            \n",
       "                var html_4ee047ecb3863c4f55b44dfc2ed07cbe = $(`&lt;div id=&quot;html_4ee047ecb3863c4f55b44dfc2ed07cbe&quot; style=&quot;width: 100.0%; height: 100.0%;&quot;&gt;&lt;!DOCTYPE html&gt;     &lt;html&gt;     &lt;strong&gt;Building Name: &lt;/strong&gt;Park Grove&lt;br&gt;     &lt;strong&gt;Sale Price: &lt;/strong&gt;$2,175,000.00&lt;br&gt;     &lt;strong&gt;Days on Market: &lt;/strong&gt;41&lt;br&gt;     &lt;strong&gt;Listing Agent: &lt;/strong&gt;Michael Duchon&lt;br&gt;     &lt;strong&gt;Buyer&#x27;s Agent: &lt;/strong&gt;Brian Sehmann&lt;br&gt;     &lt;strong&gt;Price sq ft: &lt;/strong&gt;$1697.89&lt;br&gt;     &lt;strong&gt;Address: &lt;/strong&gt;2831 S Bayshore Dr 2201&lt;br&gt;     &lt;/html&gt;     &lt;/div&gt;`)[0];\n",
       "                popup_139ff2b497ba0f421293469811c0b4e4.setContent(html_4ee047ecb3863c4f55b44dfc2ed07cbe);\n",
       "            \n",
       "        \n",
       "\n",
       "        marker_f7efc108abbc9ff6063e04da823cd44b.bindPopup(popup_139ff2b497ba0f421293469811c0b4e4)\n",
       "        ;\n",
       "\n",
       "        \n",
       "    \n",
       "    \n",
       "            var tile_layer_b00e5da83bb8379f7611be52cf83842d = L.tileLayer(\n",
       "                &quot;https://{s}.tile.openstreetmap.org/{z}/{x}/{y}.png&quot;,\n",
       "                {&quot;attribution&quot;: &quot;Data by \\u0026copy; \\u003ca href=\\&quot;http://openstreetmap.org\\&quot;\\u003eOpenStreetMap\\u003c/a\\u003e, under \\u003ca href=\\&quot;http://www.openstreetmap.org/copyright\\&quot;\\u003eODbL\\u003c/a\\u003e.&quot;, &quot;detectRetina&quot;: false, &quot;maxNativeZoom&quot;: 18, &quot;maxZoom&quot;: 18, &quot;minZoom&quot;: 0, &quot;noWrap&quot;: false, &quot;opacity&quot;: 1, &quot;subdomains&quot;: &quot;abc&quot;, &quot;tms&quot;: false}\n",
       "            ).addTo(map_e02a00e9820fdac270ca2f7b4b03cec3);\n",
       "        \n",
       "    \n",
       "            var layer_control_508db5cdf4f4d3236e0e85a78224c76e = {\n",
       "                base_layers : {\n",
       "                },\n",
       "                overlays :  {\n",
       "                    &quot;Top Sale&quot; : feature_group_1b1db4e2522d64ff6c79d6b695005be4,\n",
       "                    &quot;All other sales&quot; : feature_group_6367be9ecc43092cefb27030f102fffc,\n",
       "                },\n",
       "            };\n",
       "            L.control.layers(\n",
       "                layer_control_508db5cdf4f4d3236e0e85a78224c76e.base_layers,\n",
       "                layer_control_508db5cdf4f4d3236e0e85a78224c76e.overlays,\n",
       "                {&quot;autoZIndex&quot;: true, &quot;collapsed&quot;: false, &quot;position&quot;: &quot;topright&quot;}\n",
       "            ).addTo(map_e02a00e9820fdac270ca2f7b4b03cec3);\n",
       "        \n",
       "&lt;/script&gt;\" style=\"position:absolute;width:100%;height:100%;left:0;top:0;border:none !important;\" allowfullscreen webkitallowfullscreen mozallowfullscreen></iframe></div></div>"
      ],
      "text/plain": [
       "<folium.folium.Map at 0x7fc440d51d00>"
      ]
     },
     "execution_count": 24,
     "metadata": {},
     "output_type": "execute_result"
    }
   ],
   "source": [
    "import folium\n",
    "from folium.plugins import MarkerCluster\n",
    "\n",
    "m = folium.Map(location=df[[\"lat\", \"lon\"]].mean().to_list(), zoom_start=10)\n",
    "\n",
    "title_html = '''\n",
    "              <h3 align=\"center\" style=\"font-size:16px\"><b>{}</b></h3>\n",
    "             '''.format(f'Recent Miami-Dade Condo Sales ')\n",
    "\n",
    "caption_html = '''\n",
    "                <p align=\"center\" style=\"vertical-align: bottom; font-size:13px\"><i>{}</i></p>\n",
    "                '''.format('November 26th - December 2nd')\n",
    "\n",
    "\n",
    "### Create map container ###\n",
    "m = folium.Map(location=df[[\"lat\", \"lon\"]].mean().to_list(),zoom_start=9.5,tiles=None)\n",
    "\n",
    "# Create two FeatureGroups for different color pins\n",
    "fg_blue = folium.FeatureGroup(name='All other sales')\n",
    "fg_orange = folium.FeatureGroup(name='Top Sale')\n",
    "\n",
    "for index, row in df.iterrows():\n",
    "    # Add the markers to the appropriate FeatureGroup based on the color\n",
    "    if row['COLOR'] == 'blue':\n",
    "        marker = folium.Marker(\n",
    "            location=[row['lat'], row['lon']],\n",
    "            radius=5,\n",
    "            fill=True,\n",
    "            icon=folium.Icon(color=row['COLOR']),\n",
    "            popup=folium.Popup(popup_html(row), max_width=400))\n",
    "        marker.add_to(fg_blue)\n",
    "    else:\n",
    "        marker = folium.Marker(\n",
    "            location=[row['lat'], row['lon']],\n",
    "            radius=5,\n",
    "            fill=True,\n",
    "            icon=folium.Icon(color=row['COLOR']),\n",
    "            popup=folium.Popup(popup_html(row), max_width=400))\n",
    "        marker.add_to(fg_orange)\n",
    "\n",
    "# Add the FeatureGroups to the map\n",
    "fg_orange.add_to(m)\n",
    "fg_blue.add_to(m)\n",
    "\n",
    "folium.TileLayer('OpenStreetMap',control=False).add_to(m)\n",
    "\n",
    "# Add LayerControl to the map\n",
    "folium.map.LayerControl(collapsed=False).add_to(m)\n",
    "m.get_root().html.add_child(folium.Element(title_html))\n",
    "m.get_root().html.add_child(folium.Element(caption_html))\n",
    "            \n",
    "# Display map\n",
    "m"
   ]
  },
  {
   "cell_type": "code",
   "execution_count": 25,
   "metadata": {},
   "outputs": [],
   "source": [
    "m.save('index.html')"
   ]
  },
  {
   "cell_type": "markdown",
   "metadata": {},
   "source": [
    "## Data snagger"
   ]
  },
  {
   "cell_type": "code",
   "execution_count": 26,
   "metadata": {},
   "outputs": [],
   "source": [
    "### Set up formatting ###\n",
    "BR = '\\n'\n",
    "\n",
    "ME = '\\033[1m' + 'Most Expensive' + '\\033[0m'\n",
    "LE = '\\033[1m' + 'Least Expensive' + '\\033[0m'\n",
    "\n",
    "MAX_PSF = '\\033[1m' + 'Highest Price Per Square Foot' + '\\033[0m'\n",
    "MIN_PSF = '\\033[1m' + 'Lowest Price Per Square Foot' + '\\033[0m'\n",
    "\n",
    "DAYS_MAX = '\\033[1m' + 'Most Days on Market' + '\\033[0m'\n",
    "DAYS_MIN = '\\033[1m' + 'Fewest Days on Market' + '\\033[0m'"
   ]
  },
  {
   "cell_type": "code",
   "execution_count": 27,
   "metadata": {},
   "outputs": [
    {
     "name": "stdout",
     "output_type": "stream",
     "text": [
      "\u001b[1mMost Expensive\u001b[0m\n",
      "Apogee Condo, 800 S Pointe Dr 1504 Miami | Price $19,250,000 | $4,631 psf | Listing agent: Hillary Hertzberg with Coldwell Banker Realty | Buyer's agent: Leah Barney with Official | Days on market: 40\n",
      "\u001b[1mLeast Expensive\u001b[0m\n",
      "Park Grove, 2831 S Bayshore Dr 2201 | Price $2,175,000 | $1,698 psf | Listing agent: Michael Duchon with The Corcoran Group | Buyer's agent: Brian Sehmann with Compass Florida, LLC. | Days on market: 41\n",
      "\u001b[1mHighest Price Per Square Foot\u001b[0m\n",
      "Apogee Condo, 800 S Pointe Dr 1504 Miami | Price $19,250,000 | $4,631 psf | Listing agent: Hillary Hertzberg with Coldwell Banker Realty | Buyer's agent: Leah Barney with Official | Days on market: 40\n",
      "\u001b[1mLowest Price Per Square Foot\u001b[0m\n",
      "Williams Island, 2600 Island Blvd 605 | Price $2,625,000 | $786 psf | Listing agent: Joanne Perez with Williams Island Realty, LLC | Buyer's agent: Lazaro Rivero with Rivero Real Estate , Inc. | Days on market: 112\n",
      "\u001b[1mMost Days on Market\u001b[0m\n",
      "Seaside Village, 19137 Fisher Island Dr 19137 Miami | Price $2,650,000 | $1,854 psf | Listing agent: Ana Viyella with Douglas Elliman | Buyer's agent: Oliver Lloyd with Douglas Elliman | Days on market: 322\n",
      "\u001b[1mFewest Days on Market\u001b[0m\n",
      "Continuum on South Beach, 100 S Pointe Dr 1009 Miami | Price $5,700,000 | $3,574 psf | Listing agent: Jorge Martinez with One Sotheby's International Re | Buyer's agent: Jean-Louis Narboni with MLR Realty Inc | Days on market: 34\n"
     ]
    }
   ],
   "source": [
    "### Highest and lowest sale price ###\n",
    "print(f\"{ME}{BR}{df.loc[df['int_Sale_Price'].idxmax()]['building_name']}, {df.loc[df['int_Sale_Price'].idxmax()]['address']} | Price ${df.loc[df['int_Sale_Price'].idxmax()]['int_Sale_Price']:,.0f} | ${df.loc[df['int_Sale_Price'].idxmax()]['price_per_sqft']:,.0f} psf | Listing agent: {df.loc[df['int_Sale_Price'].idxmax()]['Agent']} with {df.loc[df['int_Sale_Price'].idxmax()]['Listing Broker']} | Buyer's agent: {df.loc[df['int_Sale_Price'].idxmax()]['Buyer Agent']} with {df.loc[df['int_Sale_Price'].idxmax()]['Buyer Broker']} | Days on market: {df.loc[df['int_Sale_Price'].idxmax()]['days_on_market']}\")\n",
    "print(f\"{LE}{BR}{df.loc[df['int_Sale_Price'].idxmin()]['building_name']}, {df.loc[df['int_Sale_Price'].idxmin()]['address']} | Price ${df.loc[df['int_Sale_Price'].idxmin()]['int_Sale_Price']:,.0f} | ${df.loc[df['int_Sale_Price'].idxmin()]['price_per_sqft']:,.0f} psf | Listing agent: {df.loc[df['int_Sale_Price'].idxmin()]['Agent']} with {df.loc[df['int_Sale_Price'].idxmin()]['Listing Broker']} | Buyer's agent: {df.loc[df['int_Sale_Price'].idxmin()]['Buyer Agent']} with {df.loc[df['int_Sale_Price'].idxmin()]['Buyer Broker']} | Days on market: {df.loc[df['int_Sale_Price'].idxmin()]['days_on_market']}\")\n",
    "### Highest and lowest psf ###\n",
    "print(f\"{MAX_PSF}{BR}{df.loc[df['price_per_sqft'].idxmax()]['building_name']}, {df.loc[df['price_per_sqft'].idxmax()]['address']} | Price ${df.loc[df['price_per_sqft'].idxmax()]['int_Sale_Price']:,.0f} | ${df.loc[df['price_per_sqft'].idxmax()]['price_per_sqft']:,.0f} psf | Listing agent: {df.loc[df['price_per_sqft'].idxmax()]['Agent']} with {df.loc[df['price_per_sqft'].idxmax()]['Listing Broker']} | Buyer's agent: {df.loc[df['price_per_sqft'].idxmax()]['Buyer Agent']} with {df.loc[df['price_per_sqft'].idxmax()]['Buyer Broker']} | Days on market: {df.loc[df['price_per_sqft'].idxmax()]['days_on_market']}\")\n",
    "print(f\"{MIN_PSF}{BR}{df.loc[df['price_per_sqft'].idxmin()]['building_name']}, {df.loc[df['price_per_sqft'].idxmin()]['address']} | Price ${df.loc[df['price_per_sqft'].idxmin()]['int_Sale_Price']:,.0f} | ${df.loc[df['price_per_sqft'].idxmin()]['price_per_sqft']:,.0f} psf | Listing agent: {df.loc[df['price_per_sqft'].idxmin()]['Agent']} with {df.loc[df['price_per_sqft'].idxmin()]['Listing Broker']} | Buyer's agent: {df.loc[df['price_per_sqft'].idxmin()]['Buyer Agent']} with {df.loc[df['price_per_sqft'].idxmin()]['Buyer Broker']} | Days on market: {df.loc[df['price_per_sqft'].idxmin()]['days_on_market']}\")\n",
    "### Highest and lowest days on market ###\n",
    "print(f\"{DAYS_MAX}{BR}{df.loc[df['days_on_market'].idxmax()]['building_name']}, {df.loc[df['days_on_market'].idxmax()]['address']} | Price ${df.loc[df['days_on_market'].idxmax()]['int_Sale_Price']:,.0f} | ${df.loc[df['days_on_market'].idxmax()]['price_per_sqft']:,.0f} psf | Listing agent: {df.loc[df['days_on_market'].idxmax()]['Agent']} with {df.loc[df['days_on_market'].idxmax()]['Listing Broker']} | Buyer's agent: {df.loc[df['days_on_market'].idxmax()]['Buyer Agent']} with {df.loc[df['days_on_market'].idxmax()]['Buyer Broker']} | Days on market: {df.loc[df['days_on_market'].idxmax()]['days_on_market']}\")\n",
    "print(f\"{DAYS_MIN}{BR}{df.loc[df['days_on_market'].idxmin()]['building_name']}, {df.loc[df['days_on_market'].idxmin()]['address']} | Price ${df.loc[df['days_on_market'].idxmin()]['int_Sale_Price']:,.0f} | ${df.loc[df['days_on_market'].idxmin()]['price_per_sqft']:,.0f} psf | Listing agent: {df.loc[df['days_on_market'].idxmin()]['Agent']} with {df.loc[df['days_on_market'].idxmin()]['Listing Broker']} | Buyer's agent: {df.loc[df['days_on_market'].idxmin()]['Buyer Agent']} with {df.loc[df['days_on_market'].idxmin()]['Buyer Broker']} | Days on market: {df.loc[df['days_on_market'].idxmin()]['days_on_market']}\")"
   ]
  },
  {
   "cell_type": "code",
   "execution_count": 28,
   "metadata": {},
   "outputs": [
    {
     "data": {
      "text/plain": [
       "110.2"
      ]
     },
     "execution_count": 28,
     "metadata": {},
     "output_type": "execute_result"
    }
   ],
   "source": [
    "df['days_on_market'].mean()"
   ]
  },
  {
   "cell_type": "markdown",
   "metadata": {},
   "source": [
    "## Map URL snagger"
   ]
  },
  {
   "cell_type": "markdown",
   "metadata": {},
   "source": [
    "Map template URL: `https://trd-digital.github.io/trd-news-interactive-maps/{map-folder-name}`"
   ]
  },
  {
   "cell_type": "code",
   "execution_count": 30,
   "metadata": {},
   "outputs": [
    {
     "name": "stdout",
     "output_type": "stream",
     "text": [
      "https://trd-digital.github.io/trd-news-interactive-maps/condo_sales_week_ending_12042023\n"
     ]
    }
   ],
   "source": [
    "base_name = 'https://trd-digital.github.io/trd-news-interactive-maps/'\n",
    "\n",
    "cwd = os.getcwd()\n",
    "\n",
    "cwd = cwd.split('/')\n",
    "\n",
    "final_name = base_name + cwd[-1]\n",
    "print(final_name)"
   ]
  }
 ],
 "metadata": {
  "kernelspec": {
   "display_name": "Python 3 (ipykernel)",
   "language": "python",
   "name": "python3"
  },
  "language_info": {
   "codemirror_mode": {
    "name": "ipython",
    "version": 3
   },
   "file_extension": ".py",
   "mimetype": "text/x-python",
   "name": "python",
   "nbconvert_exporter": "python",
   "pygments_lexer": "ipython3",
   "version": "3.9.12"
  },
  "toc": {
   "base_numbering": 1,
   "nav_menu": {},
   "number_sections": true,
   "sideBar": true,
   "skip_h1_title": false,
   "title_cell": "Table of Contents",
   "title_sidebar": "Contents",
   "toc_cell": false,
   "toc_position": {},
   "toc_section_display": true,
   "toc_window_display": false
  }
 },
 "nbformat": 4,
 "nbformat_minor": 4
}
