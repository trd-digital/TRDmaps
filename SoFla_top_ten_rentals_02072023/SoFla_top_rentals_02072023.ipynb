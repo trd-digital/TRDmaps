{
 "cells": [
  {
   "cell_type": "markdown",
   "metadata": {},
   "source": [
    "## Imports"
   ]
  },
  {
   "cell_type": "code",
   "execution_count": 2,
   "metadata": {},
   "outputs": [],
   "source": [
    "import googlemaps\n",
    "import pandas as pd\n",
    "import numpy as np\n",
    "import re\n",
    "import os\n",
    "import geopandas as gpd\n",
    "import folium"
   ]
  },
  {
   "cell_type": "markdown",
   "metadata": {},
   "source": [
    "## Read-in"
   ]
  },
  {
   "cell_type": "code",
   "execution_count": 14,
   "metadata": {},
   "outputs": [],
   "source": [
    "df = pd.read_csv('SoFlaTopRentals_013122 - SoFla_rentals_Realtor_013122.csv')"
   ]
  },
  {
   "cell_type": "code",
   "execution_count": 15,
   "metadata": {},
   "outputs": [],
   "source": [
    "df = df.head(10)\n",
    "df = df.filter(items=['type','price_per_month','address','Listing agent '])"
   ]
  },
  {
   "cell_type": "code",
   "execution_count": 18,
   "metadata": {},
   "outputs": [],
   "source": [
    "df.at[0,'address']=('190 Palm Ave, Miami Beach, FL 33139')"
   ]
  },
  {
   "cell_type": "markdown",
   "metadata": {},
   "source": [
    "## Google Maps API Geolocater Setup"
   ]
  },
  {
   "cell_type": "code",
   "execution_count": 20,
   "metadata": {},
   "outputs": [],
   "source": [
    "%store -r google_maps_API_Key\n",
    "gmaps_key = googlemaps.Client(key=google_maps_API_Key)"
   ]
  },
  {
   "cell_type": "code",
   "execution_count": 22,
   "metadata": {},
   "outputs": [],
   "source": [
    "df['geo_address'] = df['address']"
   ]
  },
  {
   "cell_type": "code",
   "execution_count": 23,
   "metadata": {},
   "outputs": [],
   "source": [
    "def geocode(add):\n",
    "    g = gmaps_key.geocode(add)\n",
    "    lat = g[0][\"geometry\"][\"location\"][\"lat\"]\n",
    "    lng = g[0][\"geometry\"][\"location\"][\"lng\"]\n",
    "    return (lat, lng)\n",
    "\n",
    "df['geocoded'] = df['geo_address'].apply(geocode)"
   ]
  },
  {
   "cell_type": "code",
   "execution_count": 24,
   "metadata": {},
   "outputs": [],
   "source": [
    "df['geocoded'] = df['geocoded'].astype(str)\n",
    "df[['lat', 'lon']] = df['geocoded'].str.strip('()').str.split(', ', expand=True)\n",
    "df['lat'] = df['lat'].astype(float)\n",
    "df['lon'] = df['lon'].astype(float)"
   ]
  },
  {
   "cell_type": "markdown",
   "metadata": {},
   "source": [
    "## Correction Section"
   ]
  },
  {
   "cell_type": "code",
   "execution_count": 25,
   "metadata": {},
   "outputs": [
    {
     "data": {
      "text/plain": [
       "Index(['type', 'price_per_month', 'address', 'Listing agent ', 'geo_address',\n",
       "       'geocoded', 'lat', 'lon'],\n",
       "      dtype='object')"
      ]
     },
     "execution_count": 25,
     "metadata": {},
     "output_type": "execute_result"
    }
   ],
   "source": [
    "df.columns"
   ]
  },
  {
   "cell_type": "markdown",
   "metadata": {},
   "source": [
    "## HTML Popup Formatter"
   ]
  },
  {
   "cell_type": "code",
   "execution_count": 26,
   "metadata": {},
   "outputs": [],
   "source": [
    "def popup_html(row):\n",
    "    Address = row['address']\n",
    "    price_per_month = row['price_per_month']\n",
    "    List_Agent = row['Listing agent ']\n",
    "    Type = row['type']\n",
    "    \n",
    "    html = '''<!DOCTYPE html>\n",
    "    <html>\n",
    "    <strong>Address: </strong>{}'''.format(Address) + '''<br>\n",
    "    <strong>Price Per Month: </strong>{}'''.format(price_per_month) + '''<br>\n",
    "    <strong>Listing Agent: </strong>{}'''.format(List_Agent) + '''<br>\n",
    "    <strong>Description: </strong>{}'''.format(Type) + '''<br>\n",
    "    </html>\n",
    "    '''\n",
    "    return html"
   ]
  },
  {
   "cell_type": "code",
   "execution_count": 27,
   "metadata": {},
   "outputs": [
    {
     "data": {
      "text/plain": [
       "Index(['type', 'price_per_month', 'address', 'Listing agent ', 'geo_address',\n",
       "       'geocoded', 'lat', 'lon'],\n",
       "      dtype='object')"
      ]
     },
     "execution_count": 27,
     "metadata": {},
     "output_type": "execute_result"
    }
   ],
   "source": [
    "df.columns"
   ]
  },
  {
   "cell_type": "markdown",
   "metadata": {},
   "source": [
    "## Map Maker"
   ]
  },
  {
   "cell_type": "code",
   "execution_count": 30,
   "metadata": {
    "scrolled": false
   },
   "outputs": [
    {
     "data": {
      "text/html": [
       "<div style=\"width:100%;\"><div style=\"position:relative;width:100%;height:0;padding-bottom:60%;\"><span style=\"color:#565656\">Make this Notebook Trusted to load map: File -> Trust Notebook</span><iframe srcdoc=\"&lt;!DOCTYPE html&gt;\n",
       "&lt;head&gt;    \n",
       "    &lt;meta http-equiv=&quot;content-type&quot; content=&quot;text/html; charset=UTF-8&quot; /&gt;\n",
       "    \n",
       "        &lt;script&gt;\n",
       "            L_NO_TOUCH = false;\n",
       "            L_DISABLE_3D = false;\n",
       "        &lt;/script&gt;\n",
       "    \n",
       "    &lt;style&gt;html, body {width: 100%;height: 100%;margin: 0;padding: 0;}&lt;/style&gt;\n",
       "    &lt;style&gt;#map {position:absolute;top:0;bottom:0;right:0;left:0;}&lt;/style&gt;\n",
       "    &lt;script src=&quot;https://cdn.jsdelivr.net/npm/leaflet@1.6.0/dist/leaflet.js&quot;&gt;&lt;/script&gt;\n",
       "    &lt;script src=&quot;https://code.jquery.com/jquery-1.12.4.min.js&quot;&gt;&lt;/script&gt;\n",
       "    &lt;script src=&quot;https://maxcdn.bootstrapcdn.com/bootstrap/3.2.0/js/bootstrap.min.js&quot;&gt;&lt;/script&gt;\n",
       "    &lt;script src=&quot;https://cdnjs.cloudflare.com/ajax/libs/Leaflet.awesome-markers/2.0.2/leaflet.awesome-markers.js&quot;&gt;&lt;/script&gt;\n",
       "    &lt;link rel=&quot;stylesheet&quot; href=&quot;https://cdn.jsdelivr.net/npm/leaflet@1.6.0/dist/leaflet.css&quot;/&gt;\n",
       "    &lt;link rel=&quot;stylesheet&quot; href=&quot;https://maxcdn.bootstrapcdn.com/bootstrap/3.2.0/css/bootstrap.min.css&quot;/&gt;\n",
       "    &lt;link rel=&quot;stylesheet&quot; href=&quot;https://maxcdn.bootstrapcdn.com/bootstrap/3.2.0/css/bootstrap-theme.min.css&quot;/&gt;\n",
       "    &lt;link rel=&quot;stylesheet&quot; href=&quot;https://maxcdn.bootstrapcdn.com/font-awesome/4.6.3/css/font-awesome.min.css&quot;/&gt;\n",
       "    &lt;link rel=&quot;stylesheet&quot; href=&quot;https://cdnjs.cloudflare.com/ajax/libs/Leaflet.awesome-markers/2.0.2/leaflet.awesome-markers.css&quot;/&gt;\n",
       "    &lt;link rel=&quot;stylesheet&quot; href=&quot;https://cdn.jsdelivr.net/gh/python-visualization/folium/folium/templates/leaflet.awesome.rotate.min.css&quot;/&gt;\n",
       "    \n",
       "            &lt;meta name=&quot;viewport&quot; content=&quot;width=device-width,\n",
       "                initial-scale=1.0, maximum-scale=1.0, user-scalable=no&quot; /&gt;\n",
       "            &lt;style&gt;\n",
       "                #map_edda55825d413f026b54b46208531602 {\n",
       "                    position: relative;\n",
       "                    width: 100.0%;\n",
       "                    height: 100.0%;\n",
       "                    left: 0.0%;\n",
       "                    top: 0.0%;\n",
       "                }\n",
       "            &lt;/style&gt;\n",
       "        \n",
       "&lt;/head&gt;\n",
       "&lt;body&gt;    \n",
       "    \n",
       "              &lt;h3 align=&quot;center&quot; style=&quot;font-size:16px&quot;&gt;&lt;b&gt;Top Rental Listings in South Florida&lt;/b&gt;&lt;/h3&gt;\n",
       "             \n",
       "    \n",
       "            &lt;div class=&quot;folium-map&quot; id=&quot;map_edda55825d413f026b54b46208531602&quot; &gt;&lt;/div&gt;\n",
       "        \n",
       "&lt;/body&gt;\n",
       "&lt;script&gt;    \n",
       "    \n",
       "            var map_edda55825d413f026b54b46208531602 = L.map(\n",
       "                &quot;map_edda55825d413f026b54b46208531602&quot;,\n",
       "                {\n",
       "                    center: [25.79665263, -80.15431869],\n",
       "                    crs: L.CRS.EPSG3857,\n",
       "                    zoom: 10,\n",
       "                    zoomControl: true,\n",
       "                    preferCanvas: false,\n",
       "                }\n",
       "            );\n",
       "\n",
       "            \n",
       "\n",
       "        \n",
       "    \n",
       "            var tile_layer_28c7e49b3af45c17367827808e2ee575 = L.tileLayer(\n",
       "                &quot;https://{s}.tile.openstreetmap.org/{z}/{x}/{y}.png&quot;,\n",
       "                {&quot;attribution&quot;: &quot;Data by \\u0026copy; \\u003ca href=\\&quot;http://openstreetmap.org\\&quot;\\u003eOpenStreetMap\\u003c/a\\u003e, under \\u003ca href=\\&quot;http://www.openstreetmap.org/copyright\\&quot;\\u003eODbL\\u003c/a\\u003e.&quot;, &quot;detectRetina&quot;: false, &quot;maxNativeZoom&quot;: 18, &quot;maxZoom&quot;: 18, &quot;minZoom&quot;: 0, &quot;noWrap&quot;: false, &quot;opacity&quot;: 1, &quot;subdomains&quot;: &quot;abc&quot;, &quot;tms&quot;: false}\n",
       "            ).addTo(map_edda55825d413f026b54b46208531602);\n",
       "        \n",
       "    \n",
       "            var marker_1a94666c84e28c2be5172891f538e5bc = L.marker(\n",
       "                [25.780001, -80.1639402],\n",
       "                {}\n",
       "            ).addTo(map_edda55825d413f026b54b46208531602);\n",
       "        \n",
       "    \n",
       "        var popup_a5a3e45e92c22180d81dbe0ac19de7e3 = L.popup({&quot;maxWidth&quot;: 400});\n",
       "\n",
       "        \n",
       "            \n",
       "                var html_b9f552fc85765ef1419f02b97e994bed = $(`&lt;div id=&quot;html_b9f552fc85765ef1419f02b97e994bed&quot; style=&quot;width: 100.0%; height: 100.0%;&quot;&gt;&lt;!DOCTYPE html&gt;     &lt;html&gt;     &lt;strong&gt;Address: &lt;/strong&gt;190 Palm Ave, Miami Beach, FL 33139&lt;br&gt;     &lt;strong&gt;Price Per Month: &lt;/strong&gt;$350,000&lt;br&gt;     &lt;strong&gt;Listing Agent: &lt;/strong&gt;Maria Tartaglia with Tartaglia International Realty LLC&lt;br&gt;     &lt;strong&gt;Description: &lt;/strong&gt;For Rent - House&lt;br&gt;     &lt;/html&gt;     &lt;/div&gt;`)[0];\n",
       "                popup_a5a3e45e92c22180d81dbe0ac19de7e3.setContent(html_b9f552fc85765ef1419f02b97e994bed);\n",
       "            \n",
       "        \n",
       "\n",
       "        marker_1a94666c84e28c2be5172891f538e5bc.bindPopup(popup_a5a3e45e92c22180d81dbe0ac19de7e3)\n",
       "        ;\n",
       "\n",
       "        \n",
       "    \n",
       "    \n",
       "            var marker_1a66450a1fec55522a24c9b7936ae25c = L.marker(\n",
       "                [25.8366008, -80.13206339999999],\n",
       "                {}\n",
       "            ).addTo(map_edda55825d413f026b54b46208531602);\n",
       "        \n",
       "    \n",
       "        var popup_d32a339863c5fef0747f24430c56aca4 = L.popup({&quot;maxWidth&quot;: 400});\n",
       "\n",
       "        \n",
       "            \n",
       "                var html_b902669f530895ffc760b48762c6cd7a = $(`&lt;div id=&quot;html_b902669f530895ffc760b48762c6cd7a&quot; style=&quot;width: 100.0%; height: 100.0%;&quot;&gt;&lt;!DOCTYPE html&gt;     &lt;html&gt;     &lt;strong&gt;Address: &lt;/strong&gt;5718 N Bay RdMiami Beach, FL 33140&lt;br&gt;     &lt;strong&gt;Price Per Month: &lt;/strong&gt;$350,000&lt;br&gt;     &lt;strong&gt;Listing Agent: &lt;/strong&gt;David Hunt Solomon with BHHS EWM Realty&lt;br&gt;     &lt;strong&gt;Description: &lt;/strong&gt;For Rent - House&lt;br&gt;     &lt;/html&gt;     &lt;/div&gt;`)[0];\n",
       "                popup_d32a339863c5fef0747f24430c56aca4.setContent(html_b902669f530895ffc760b48762c6cd7a);\n",
       "            \n",
       "        \n",
       "\n",
       "        marker_1a66450a1fec55522a24c9b7936ae25c.bindPopup(popup_d32a339863c5fef0747f24430c56aca4)\n",
       "        ;\n",
       "\n",
       "        \n",
       "    \n",
       "    \n",
       "            var marker_070dbc61bd4a94a506927fd64ed18324 = L.marker(\n",
       "                [25.7791558, -80.1500027],\n",
       "                {}\n",
       "            ).addTo(map_edda55825d413f026b54b46208531602);\n",
       "        \n",
       "    \n",
       "        var popup_ebd890abf18ccb06d8cff8048693c25f = L.popup({&quot;maxWidth&quot;: 400});\n",
       "\n",
       "        \n",
       "            \n",
       "                var html_e33a5b78cdeeb2f1ae7244deb28c5c96 = $(`&lt;div id=&quot;html_e33a5b78cdeeb2f1ae7244deb28c5c96&quot; style=&quot;width: 100.0%; height: 100.0%;&quot;&gt;&lt;!DOCTYPE html&gt;     &lt;html&gt;     &lt;strong&gt;Address: &lt;/strong&gt;27 Star Island DrMiami Beach, FL 33139&lt;br&gt;     &lt;strong&gt;Price Per Month: &lt;/strong&gt;$325,000&lt;br&gt;     &lt;strong&gt;Listing Agent: &lt;/strong&gt;Alyssa Jansheski with The Inside Network&lt;br&gt;     &lt;strong&gt;Description: &lt;/strong&gt;For Rent - House&lt;br&gt;     &lt;/html&gt;     &lt;/div&gt;`)[0];\n",
       "                popup_ebd890abf18ccb06d8cff8048693c25f.setContent(html_e33a5b78cdeeb2f1ae7244deb28c5c96);\n",
       "            \n",
       "        \n",
       "\n",
       "        marker_070dbc61bd4a94a506927fd64ed18324.bindPopup(popup_ebd890abf18ccb06d8cff8048693c25f)\n",
       "        ;\n",
       "\n",
       "        \n",
       "    \n",
       "    \n",
       "            var marker_8b30c5399dff6d44055ff6bc3442c7c1 = L.marker(\n",
       "                [25.7868822, -80.1594246],\n",
       "                {}\n",
       "            ).addTo(map_edda55825d413f026b54b46208531602);\n",
       "        \n",
       "    \n",
       "        var popup_862700fe707a5c063b8209de6bfe33b5 = L.popup({&quot;maxWidth&quot;: 400});\n",
       "\n",
       "        \n",
       "            \n",
       "                var html_d79f6db85e88cfd4d82994e4ede30ac8 = $(`&lt;div id=&quot;html_d79f6db85e88cfd4d82994e4ede30ac8&quot; style=&quot;width: 100.0%; height: 100.0%;&quot;&gt;&lt;!DOCTYPE html&gt;     &lt;html&gt;     &lt;strong&gt;Address: &lt;/strong&gt;28 W Dilido DrMiami Beach, FL 33139&lt;br&gt;     &lt;strong&gt;Price Per Month: &lt;/strong&gt;$300,000&lt;br&gt;     &lt;strong&gt;Listing Agent: &lt;/strong&gt;Dina Goldentayer with Douglas Elliman&lt;br&gt;     &lt;strong&gt;Description: &lt;/strong&gt;For Rent - House&lt;br&gt;     &lt;/html&gt;     &lt;/div&gt;`)[0];\n",
       "                popup_862700fe707a5c063b8209de6bfe33b5.setContent(html_d79f6db85e88cfd4d82994e4ede30ac8);\n",
       "            \n",
       "        \n",
       "\n",
       "        marker_8b30c5399dff6d44055ff6bc3442c7c1.bindPopup(popup_862700fe707a5c063b8209de6bfe33b5)\n",
       "        ;\n",
       "\n",
       "        \n",
       "    \n",
       "    \n",
       "            var marker_2b507f9dc312793c816451774deb544b = L.marker(\n",
       "                [25.7792121, -80.16299430000001],\n",
       "                {}\n",
       "            ).addTo(map_edda55825d413f026b54b46208531602);\n",
       "        \n",
       "    \n",
       "        var popup_f848e8f7fb903db4f6cae030ba058c90 = L.popup({&quot;maxWidth&quot;: 400});\n",
       "\n",
       "        \n",
       "            \n",
       "                var html_df901319d14f95eb550554c30a9e2a6b = $(`&lt;div id=&quot;html_df901319d14f95eb550554c30a9e2a6b&quot; style=&quot;width: 100.0%; height: 100.0%;&quot;&gt;&lt;!DOCTYPE html&gt;     &lt;html&gt;     &lt;strong&gt;Address: &lt;/strong&gt;158 Palm AveMiami Beach, FL 33139&lt;br&gt;     &lt;strong&gt;Price Per Month: &lt;/strong&gt;$250,000&lt;br&gt;     &lt;strong&gt;Listing Agent: &lt;/strong&gt;Lourdes Alatriste with Douglas Elliman&lt;br&gt;     &lt;strong&gt;Description: &lt;/strong&gt;For Rent - House&lt;br&gt;     &lt;/html&gt;     &lt;/div&gt;`)[0];\n",
       "                popup_f848e8f7fb903db4f6cae030ba058c90.setContent(html_df901319d14f95eb550554c30a9e2a6b);\n",
       "            \n",
       "        \n",
       "\n",
       "        marker_2b507f9dc312793c816451774deb544b.bindPopup(popup_f848e8f7fb903db4f6cae030ba058c90)\n",
       "        ;\n",
       "\n",
       "        \n",
       "    \n",
       "    \n",
       "            var marker_3fd594172da62bf3cf1b0a3f0faf6d04 = L.marker(\n",
       "                [25.7775264, -80.1580989],\n",
       "                {}\n",
       "            ).addTo(map_edda55825d413f026b54b46208531602);\n",
       "        \n",
       "    \n",
       "        var popup_243a5ff5004cab7abde33a1620a9384a = L.popup({&quot;maxWidth&quot;: 400});\n",
       "\n",
       "        \n",
       "            \n",
       "                var html_ff406c988c537fdfdf8aabd1212edfc3 = $(`&lt;div id=&quot;html_ff406c988c537fdfdf8aabd1212edfc3&quot; style=&quot;width: 100.0%; height: 100.0%;&quot;&gt;&lt;!DOCTYPE html&gt;     &lt;html&gt;     &lt;strong&gt;Address: &lt;/strong&gt;30 Palm AveMiami Beach, FL 33139&lt;br&gt;     &lt;strong&gt;Price Per Month: &lt;/strong&gt;$250,000&lt;br&gt;     &lt;strong&gt;Listing Agent: &lt;/strong&gt;Jill Eber with NRT-Florida&lt;br&gt;     &lt;strong&gt;Description: &lt;/strong&gt;For Rent - House&lt;br&gt;     &lt;/html&gt;     &lt;/div&gt;`)[0];\n",
       "                popup_243a5ff5004cab7abde33a1620a9384a.setContent(html_ff406c988c537fdfdf8aabd1212edfc3);\n",
       "            \n",
       "        \n",
       "\n",
       "        marker_3fd594172da62bf3cf1b0a3f0faf6d04.bindPopup(popup_243a5ff5004cab7abde33a1620a9384a)\n",
       "        ;\n",
       "\n",
       "        \n",
       "    \n",
       "    \n",
       "            var marker_203f908b3f4871e5291223673f3ef356 = L.marker(\n",
       "                [25.6819574, -80.1711586],\n",
       "                {}\n",
       "            ).addTo(map_edda55825d413f026b54b46208531602);\n",
       "        \n",
       "    \n",
       "        var popup_08f6c71060571f90ba8287413a69e2ea = L.popup({&quot;maxWidth&quot;: 400});\n",
       "\n",
       "        \n",
       "            \n",
       "                var html_4efc406beb95139cb4a0943f4ecb8e21 = $(`&lt;div id=&quot;html_4efc406beb95139cb4a0943f4ecb8e21&quot; style=&quot;width: 100.0%; height: 100.0%;&quot;&gt;&lt;!DOCTYPE html&gt;     &lt;html&gt;     &lt;strong&gt;Address: &lt;/strong&gt;440 S Mashta DrKey Biscayne, FL 33149&lt;br&gt;     &lt;strong&gt;Price Per Month: &lt;/strong&gt;$250,000&lt;br&gt;     &lt;strong&gt;Listing Agent: &lt;/strong&gt;Gustavo Gambino with Gambino Real Estate Corp.&lt;br&gt;     &lt;strong&gt;Description: &lt;/strong&gt;For Rent - House&lt;br&gt;     &lt;/html&gt;     &lt;/div&gt;`)[0];\n",
       "                popup_08f6c71060571f90ba8287413a69e2ea.setContent(html_4efc406beb95139cb4a0943f4ecb8e21);\n",
       "            \n",
       "        \n",
       "\n",
       "        marker_203f908b3f4871e5291223673f3ef356.bindPopup(popup_08f6c71060571f90ba8287413a69e2ea)\n",
       "        ;\n",
       "\n",
       "        \n",
       "    \n",
       "    \n",
       "            var marker_b5cdbd7670c0b88058ec570d34a421ad = L.marker(\n",
       "                [25.9638856, -80.1193847],\n",
       "                {}\n",
       "            ).addTo(map_edda55825d413f026b54b46208531602);\n",
       "        \n",
       "    \n",
       "        var popup_eb11053ef6faea6e3601d40019e690dc = L.popup({&quot;maxWidth&quot;: 400});\n",
       "\n",
       "        \n",
       "            \n",
       "                var html_f6f97859540e04910da4f7176720b525 = $(`&lt;div id=&quot;html_f6f97859540e04910da4f7176720b525&quot; style=&quot;width: 100.0%; height: 100.0%;&quot;&gt;&lt;!DOCTYPE html&gt;     &lt;html&gt;     &lt;strong&gt;Address: &lt;/strong&gt;317 Ocean BlvdGolden Beach, FL 33160&lt;br&gt;     &lt;strong&gt;Price Per Month: &lt;/strong&gt;$225,000&lt;br&gt;     &lt;strong&gt;Listing Agent: &lt;/strong&gt;Diane Lieberman with ONE SOTHEBYS INTL. REALTY&lt;br&gt;     &lt;strong&gt;Description: &lt;/strong&gt;For Rent - House&lt;br&gt;     &lt;/html&gt;     &lt;/div&gt;`)[0];\n",
       "                popup_eb11053ef6faea6e3601d40019e690dc.setContent(html_f6f97859540e04910da4f7176720b525);\n",
       "            \n",
       "        \n",
       "\n",
       "        marker_b5cdbd7670c0b88058ec570d34a421ad.bindPopup(popup_eb11053ef6faea6e3601d40019e690dc)\n",
       "        ;\n",
       "\n",
       "        \n",
       "    \n",
       "    \n",
       "            var marker_46a8d81b6af88fafe4e75650cdf51885 = L.marker(\n",
       "                [25.7882431, -80.1624384],\n",
       "                {}\n",
       "            ).addTo(map_edda55825d413f026b54b46208531602);\n",
       "        \n",
       "    \n",
       "        var popup_b36c2a0126d8998888fdfa75d7d9401b = L.popup({&quot;maxWidth&quot;: 400});\n",
       "\n",
       "        \n",
       "            \n",
       "                var html_32508c2d10580044666c4293d4bc4d31 = $(`&lt;div id=&quot;html_32508c2d10580044666c4293d4bc4d31&quot; style=&quot;width: 100.0%; height: 100.0%;&quot;&gt;&lt;!DOCTYPE html&gt;     &lt;html&gt;     &lt;strong&gt;Address: &lt;/strong&gt;15 E San Marino DrMiami, FL 33139&lt;br&gt;     &lt;strong&gt;Price Per Month: &lt;/strong&gt;$200,000&lt;br&gt;     &lt;strong&gt;Listing Agent: &lt;/strong&gt;Eva Garzon Gonzalez with Grand Lion Real Estate Group Llc&lt;br&gt;     &lt;strong&gt;Description: &lt;/strong&gt;For Rent - House&lt;br&gt;     &lt;/html&gt;     &lt;/div&gt;`)[0];\n",
       "                popup_b36c2a0126d8998888fdfa75d7d9401b.setContent(html_32508c2d10580044666c4293d4bc4d31);\n",
       "            \n",
       "        \n",
       "\n",
       "        marker_46a8d81b6af88fafe4e75650cdf51885.bindPopup(popup_b36c2a0126d8998888fdfa75d7d9401b)\n",
       "        ;\n",
       "\n",
       "        \n",
       "    \n",
       "    \n",
       "            var marker_99d636e34cab56f5b7d6c7829ec2ba21 = L.marker(\n",
       "                [25.7930619, -80.16368109999999],\n",
       "                {}\n",
       "            ).addTo(map_edda55825d413f026b54b46208531602);\n",
       "        \n",
       "    \n",
       "        var popup_37a5ecd52a1ff77913c132a71452445e = L.popup({&quot;maxWidth&quot;: 400});\n",
       "\n",
       "        \n",
       "            \n",
       "                var html_adbe0a74bdd48eea50c7e934b3da7fe4 = $(`&lt;div id=&quot;html_adbe0a74bdd48eea50c7e934b3da7fe4&quot; style=&quot;width: 100.0%; height: 100.0%;&quot;&gt;&lt;!DOCTYPE html&gt;     &lt;html&gt;     &lt;strong&gt;Address: &lt;/strong&gt;420 W San Marino DrMiami Beach, FL 33139&lt;br&gt;     &lt;strong&gt;Price Per Month: &lt;/strong&gt;$200,000&lt;br&gt;     &lt;strong&gt;Listing Agent: &lt;/strong&gt;Julian Johnston with The Corcoran Group&lt;br&gt;     &lt;strong&gt;Description: &lt;/strong&gt;For Rent - House&lt;br&gt;     &lt;/html&gt;     &lt;/div&gt;`)[0];\n",
       "                popup_37a5ecd52a1ff77913c132a71452445e.setContent(html_adbe0a74bdd48eea50c7e934b3da7fe4);\n",
       "            \n",
       "        \n",
       "\n",
       "        marker_99d636e34cab56f5b7d6c7829ec2ba21.bindPopup(popup_37a5ecd52a1ff77913c132a71452445e)\n",
       "        ;\n",
       "\n",
       "        \n",
       "    \n",
       "&lt;/script&gt;\" style=\"position:absolute;width:100%;height:100%;left:0;top:0;border:none !important;\" allowfullscreen webkitallowfullscreen mozallowfullscreen></iframe></div></div>"
      ],
      "text/plain": [
       "<folium.folium.Map at 0x7fca180f4520>"
      ]
     },
     "execution_count": 30,
     "metadata": {},
     "output_type": "execute_result"
    }
   ],
   "source": [
    "### Create map container ###\n",
    "m = folium.Map(location=df[[\"lat\", \"lon\"]].mean().to_list(),zoom_start=10)\n",
    "\n",
    "\n",
    "### Create title ###\n",
    "title_html = '''\n",
    "              <h3 align=\"center\" style=\"font-size:16px\"><b>{}</b></h3>\n",
    "             '''.format(f\"Top Rental Listings in South Florida\")\n",
    "\n",
    "m.get_root().html.add_child(folium.Element(title_html))\n",
    "\n",
    "for index, row in df.iterrows():\n",
    "    marker = folium.Marker(\n",
    "        location=[row['lat'], row['lon']],\n",
    "        popup=folium.Popup(popup_html(row), max_width=400))\n",
    "    marker.add_to(m)\n",
    "\n",
    "# Display map\n",
    "m"
   ]
  },
  {
   "cell_type": "code",
   "execution_count": 15,
   "metadata": {},
   "outputs": [],
   "source": [
    "m.save('index.html')"
   ]
  },
  {
   "cell_type": "markdown",
   "metadata": {},
   "source": [
    "## Map URL snagger"
   ]
  },
  {
   "cell_type": "markdown",
   "metadata": {},
   "source": [
    "Map template URL: `https://trd-digital.github.io/trd-news-interactive-maps/{map-folder-name}`"
   ]
  },
  {
   "cell_type": "code",
   "execution_count": 16,
   "metadata": {},
   "outputs": [],
   "source": [
    "base_name = 'https://trd-digital.github.io/trd-news-interactive-maps/'"
   ]
  },
  {
   "cell_type": "code",
   "execution_count": 17,
   "metadata": {},
   "outputs": [
    {
     "name": "stdout",
     "output_type": "stream",
     "text": [
      "https://trd-digital.github.io/trd-news-interactive-maps/manhattan_dev_map_01022023\n"
     ]
    }
   ],
   "source": [
    "cwd = os.getcwd()\n",
    "\n",
    "cwd = cwd.split('/')\n",
    "\n",
    "final_name = base_name + cwd[-1]\n",
    "print(final_name)"
   ]
  }
 ],
 "metadata": {
  "kernelspec": {
   "display_name": "Python 3 (ipykernel)",
   "language": "python",
   "name": "python3"
  },
  "language_info": {
   "codemirror_mode": {
    "name": "ipython",
    "version": 3
   },
   "file_extension": ".py",
   "mimetype": "text/x-python",
   "name": "python",
   "nbconvert_exporter": "python",
   "pygments_lexer": "ipython3",
   "version": "3.9.12"
  },
  "toc": {
   "base_numbering": 1,
   "nav_menu": {},
   "number_sections": true,
   "sideBar": true,
   "skip_h1_title": false,
   "title_cell": "Table of Contents",
   "title_sidebar": "Contents",
   "toc_cell": false,
   "toc_position": {},
   "toc_section_display": true,
   "toc_window_display": false
  }
 },
 "nbformat": 4,
 "nbformat_minor": 4
}
