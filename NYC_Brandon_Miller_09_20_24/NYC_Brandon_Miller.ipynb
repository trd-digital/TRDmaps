{
 "cells": [
  {
   "cell_type": "markdown",
   "id": "a6301851",
   "metadata": {},
   "source": [
    "# Goal:\n",
    "\n",
    "For the sales, I'd like to denote whether it was sold at a loss or a gain with a red or green icon. The rest of the info could be put into a pop up box, if that works\n",
    "\n",
    "oh and btw maybe put listings in blue or something so we can see that they are not sold yet"
   ]
  },
  {
   "cell_type": "markdown",
   "id": "e10034d4",
   "metadata": {},
   "source": [
    "# Imports"
   ]
  },
  {
   "cell_type": "code",
   "execution_count": 1,
   "id": "8766abcc",
   "metadata": {},
   "outputs": [
    {
     "ename": "KeyboardInterrupt",
     "evalue": "",
     "output_type": "error",
     "traceback": [
      "\u001b[0;31m---------------------------------------------------------------------------\u001b[0m",
      "\u001b[0;31mKeyboardInterrupt\u001b[0m                         Traceback (most recent call last)",
      "Cell \u001b[0;32mIn[1], line 9\u001b[0m\n\u001b[1;32m      7\u001b[0m \u001b[38;5;28;01mimport\u001b[39;00m \u001b[38;5;21;01mre\u001b[39;00m\n\u001b[1;32m      8\u001b[0m \u001b[38;5;28;01mfrom\u001b[39;00m \u001b[38;5;21;01mtextwrap\u001b[39;00m \u001b[38;5;28;01mimport\u001b[39;00m shorten\n\u001b[0;32m----> 9\u001b[0m \u001b[38;5;28;01mfrom\u001b[39;00m \u001b[38;5;21;01mbs4\u001b[39;00m \u001b[38;5;28;01mimport\u001b[39;00m BeautifulSoup\n\u001b[1;32m     10\u001b[0m \u001b[38;5;28;01mimport\u001b[39;00m \u001b[38;5;21;01mgspread\u001b[39;00m\n",
      "File \u001b[0;32m~/opt/anaconda3/lib/python3.9/site-packages/bs4/__init__.py:37\u001b[0m\n\u001b[1;32m     34\u001b[0m \u001b[38;5;28;01mif\u001b[39;00m sys\u001b[38;5;241m.\u001b[39mversion_info\u001b[38;5;241m.\u001b[39mmajor \u001b[38;5;241m<\u001b[39m \u001b[38;5;241m3\u001b[39m:\n\u001b[1;32m     35\u001b[0m     \u001b[38;5;28;01mraise\u001b[39;00m \u001b[38;5;167;01mImportError\u001b[39;00m(\u001b[38;5;124m'\u001b[39m\u001b[38;5;124mYou are trying to use a Python 3-specific version of Beautiful Soup under Python 2. This will not work. The final version of Beautiful Soup to support Python 2 was 4.9.3.\u001b[39m\u001b[38;5;124m'\u001b[39m)\n\u001b[0;32m---> 37\u001b[0m \u001b[38;5;28;01mfrom\u001b[39;00m \u001b[38;5;21;01m.\u001b[39;00m\u001b[38;5;21;01mbuilder\u001b[39;00m \u001b[38;5;28;01mimport\u001b[39;00m (\n\u001b[1;32m     38\u001b[0m     builder_registry,\n\u001b[1;32m     39\u001b[0m     ParserRejectedMarkup,\n\u001b[1;32m     40\u001b[0m     XMLParsedAsHTMLWarning,\n\u001b[1;32m     41\u001b[0m     HTMLParserTreeBuilder\n\u001b[1;32m     42\u001b[0m )\n\u001b[1;32m     43\u001b[0m \u001b[38;5;28;01mfrom\u001b[39;00m \u001b[38;5;21;01m.\u001b[39;00m\u001b[38;5;21;01mdammit\u001b[39;00m \u001b[38;5;28;01mimport\u001b[39;00m UnicodeDammit\n\u001b[1;32m     44\u001b[0m \u001b[38;5;28;01mfrom\u001b[39;00m \u001b[38;5;21;01m.\u001b[39;00m\u001b[38;5;21;01melement\u001b[39;00m \u001b[38;5;28;01mimport\u001b[39;00m (\n\u001b[1;32m     45\u001b[0m     CData,\n\u001b[1;32m     46\u001b[0m     Comment,\n\u001b[0;32m   (...)\u001b[0m\n\u001b[1;32m     60\u001b[0m     TemplateString,\n\u001b[1;32m     61\u001b[0m     )\n",
      "File \u001b[0;32m~/opt/anaconda3/lib/python3.9/site-packages/bs4/builder/__init__.py:627\u001b[0m\n\u001b[1;32m    625\u001b[0m     \u001b[38;5;28;01mpass\u001b[39;00m\n\u001b[1;32m    626\u001b[0m \u001b[38;5;28;01mtry\u001b[39;00m:\n\u001b[0;32m--> 627\u001b[0m     \u001b[38;5;28;01mfrom\u001b[39;00m \u001b[38;5;21;01m.\u001b[39;00m \u001b[38;5;28;01mimport\u001b[39;00m _lxml\n\u001b[1;32m    628\u001b[0m     register_treebuilders_from(_lxml)\n\u001b[1;32m    629\u001b[0m \u001b[38;5;28;01mexcept\u001b[39;00m \u001b[38;5;167;01mImportError\u001b[39;00m:\n\u001b[1;32m    630\u001b[0m     \u001b[38;5;66;03m# They don't have lxml installed.\u001b[39;00m\n",
      "File \u001b[0;32m~/opt/anaconda3/lib/python3.9/site-packages/bs4/builder/_lxml.py:16\u001b[0m\n\u001b[1;32m     14\u001b[0m \u001b[38;5;28;01mfrom\u001b[39;00m \u001b[38;5;21;01mio\u001b[39;00m \u001b[38;5;28;01mimport\u001b[39;00m BytesIO\n\u001b[1;32m     15\u001b[0m \u001b[38;5;28;01mfrom\u001b[39;00m \u001b[38;5;21;01mio\u001b[39;00m \u001b[38;5;28;01mimport\u001b[39;00m StringIO\n\u001b[0;32m---> 16\u001b[0m \u001b[38;5;28;01mfrom\u001b[39;00m \u001b[38;5;21;01mlxml\u001b[39;00m \u001b[38;5;28;01mimport\u001b[39;00m etree\n\u001b[1;32m     17\u001b[0m \u001b[38;5;28;01mfrom\u001b[39;00m \u001b[38;5;21;01mbs4\u001b[39;00m\u001b[38;5;21;01m.\u001b[39;00m\u001b[38;5;21;01melement\u001b[39;00m \u001b[38;5;28;01mimport\u001b[39;00m (\n\u001b[1;32m     18\u001b[0m     Comment,\n\u001b[1;32m     19\u001b[0m     Doctype,\n\u001b[0;32m   (...)\u001b[0m\n\u001b[1;32m     22\u001b[0m     XMLProcessingInstruction,\n\u001b[1;32m     23\u001b[0m )\n\u001b[1;32m     24\u001b[0m \u001b[38;5;28;01mfrom\u001b[39;00m \u001b[38;5;21;01mbs4\u001b[39;00m\u001b[38;5;21;01m.\u001b[39;00m\u001b[38;5;21;01mbuilder\u001b[39;00m \u001b[38;5;28;01mimport\u001b[39;00m (\n\u001b[1;32m     25\u001b[0m     DetectsXMLParsedAsHTML,\n\u001b[1;32m     26\u001b[0m     FAST,\n\u001b[0;32m   (...)\u001b[0m\n\u001b[1;32m     31\u001b[0m     TreeBuilder,\n\u001b[1;32m     32\u001b[0m     XML)\n",
      "File \u001b[0;32msrc/lxml/etree.pyx:74\u001b[0m, in \u001b[0;36minit lxml.etree\u001b[0;34m()\u001b[0m\n",
      "File \u001b[0;32m<frozen importlib._bootstrap>:398\u001b[0m, in \u001b[0;36mparent\u001b[0;34m(self)\u001b[0m\n",
      "\u001b[0;31mKeyboardInterrupt\u001b[0m: "
     ]
    }
   ],
   "source": [
    "import pandas as pd\n",
    "import geopandas as gpd\n",
    "import googlemaps\n",
    "from shapely.geometry import Point\n",
    "import os\n",
    "import numpy as np\n",
    "import re\n",
    "from textwrap import shorten\n",
    "from bs4 import BeautifulSoup\n",
    "import gspread"
   ]
  },
  {
   "cell_type": "markdown",
   "id": "d6f64639",
   "metadata": {},
   "source": [
    "## Data read-in"
   ]
  },
  {
   "cell_type": "code",
   "execution_count": null,
   "id": "7d4b57d6",
   "metadata": {},
   "outputs": [],
   "source": [
    "# import gspread\n",
    "# from oauth2client.service_account import ServiceAccountCredentials\n",
    "# import re\n",
    "\n",
    "# # Define scope and credentials\n",
    "# scope = [\"https://spreadsheets.google.com/feeds\", \"https://www.googleapis.com/auth/drive\"]\n",
    "# creds = ServiceAccountCredentials.from_json_keyfile_name(\"autoscraper-380600-0d0c84856d6b.json\", scope)\n",
    "# client = gspread.authorize(creds)\n",
    "\n",
    "# # Open the Google Sheet\n",
    "# sheet = client.open(\"BrandonMillerFORMAP\").sheet1  # Adjust sheet1 if using different tabs\n",
    "\n",
    "# # Get a range of cells (adjust range as needed)\n",
    "# cell_range = sheet.range('A1:D13')  # Change to match your sheet range\n",
    "\n",
    "# # Get the headers and the actual data range (adjust as necessary)\n",
    "# headers = sheet.row_values(1)  # Fetch first row for headers\n",
    "# data_range = sheet.get_all_values()[1:]  # Skip header row\n",
    "\n",
    "# # Extract hyperlinks and clean data\n",
    "# data = []\n",
    "\n",
    "# def extract_hyperlink_info(formula):\n",
    "#     \"\"\"Extracts URL and display text from a Google Sheets HYPERLINK formula.\"\"\"\n",
    "#     if not formula:\n",
    "#         return None, None  # Return None if there's no formula\n",
    "#     pattern = r'HYPERLINK\\(\"(.+?)\",\\s*\"(.+?)\"\\)'\n",
    "#     match = re.search(pattern, formula)\n",
    "#     if match:\n",
    "#         return match.group(2), match.group(1)  # return (display_text, url)\n",
    "#     return None, None\n",
    "\n",
    "# # Loop through rows and process the data\n",
    "# for row in sheet.get_all_records():\n",
    "#     # Extract values\n",
    "#     address = row['Address']  # Adjust these keys if different\n",
    "#     description = row['Description']\n",
    "#     neighborhood = row['Neighborhood']\n",
    "\n",
    "#     # Check if address or description contains hyperlinks\n",
    "#     address_formula = sheet.cell(row['Row'], 1, value_render_option='FORMULA').value  # Address column\n",
    "#     description_formula = sheet.cell(row['Row'], 2, value_render_option='FORMULA').value  # Description column\n",
    "    \n",
    "#     # Extract hyperlink from Address and Description columns (if present)\n",
    "#     address_display, address_url = extract_hyperlink_info(address_formula)\n",
    "#     description_display, description_url = extract_hyperlink_info(description_formula)\n",
    "    \n",
    "#     # Combine hyperlink into the display text\n",
    "#     if address_url:\n",
    "#         address = f'<a href=\"{address_url}\">{address_display}</a>'\n",
    "#     if description_url:\n",
    "#         description = f'<a href=\"{description_url}\">{description_display}</a>'\n",
    "    \n",
    "#     # Append the cleaned row to data\n",
    "#     data.append([address, description, neighborhood])\n",
    "\n",
    "# # Convert to DataFrame\n",
    "# df = pd.DataFrame(data, columns=headers)\n",
    "\n",
    "# # Display the dataframe to ensure data integrity\n",
    "# print(df)"
   ]
  },
  {
   "cell_type": "code",
   "execution_count": null,
   "id": "21f599a8",
   "metadata": {},
   "outputs": [],
   "source": [
    "df = pd.read_csv('BrandonMillerFORMAP - Sheet1.csv')"
   ]
  },
  {
   "cell_type": "code",
   "execution_count": null,
   "id": "29568ee5",
   "metadata": {},
   "outputs": [],
   "source": [
    "def create_hyperlink_limited(description, url, word_limit=5):\n",
    "    \"\"\"Create an HTML anchor tag for the first few words of the description with the URL.\"\"\"\n",
    "    if pd.notnull(url):  # Check if there's a valid URL\n",
    "        words = description.split()  # Split the description into words\n",
    "        if len(words) > word_limit:  # Only wrap the first word_limit words\n",
    "            first_part = ' '.join(words[:word_limit])\n",
    "            remaining_part = ' '.join(words[word_limit:])\n",
    "            return f'<a href=\"{url}\">{first_part}</a> {remaining_part}'\n",
    "        else:\n",
    "            return f'<a href=\"{url}\">{description}</a>'  # If fewer than word_limit words, wrap the whole text\n",
    "    return description  # Return original description if no URL\n",
    "\n",
    "# Apply the function to combine 'Description' and 'URL'\n",
    "df['Description'] = df.apply(lambda row: create_hyperlink_limited(row['Description'], row['URL'], word_limit=5), axis=1)"
   ]
  },
  {
   "cell_type": "code",
   "execution_count": null,
   "id": "a94e998d",
   "metadata": {},
   "outputs": [],
   "source": [
    "# Drop the 'URL' column if you no longer need it\n",
    "df = df.drop(columns=['URL'])"
   ]
  },
  {
   "cell_type": "code",
   "execution_count": null,
   "id": "5b65e4cc",
   "metadata": {},
   "outputs": [],
   "source": [
    "df['Description'].iloc[0]"
   ]
  },
  {
   "cell_type": "markdown",
   "id": "f8e40528",
   "metadata": {},
   "source": [
    "## Geocode"
   ]
  },
  {
   "cell_type": "code",
   "execution_count": null,
   "id": "bf1b1885",
   "metadata": {},
   "outputs": [],
   "source": [
    "df"
   ]
  },
  {
   "cell_type": "code",
   "execution_count": null,
   "id": "2930baa6",
   "metadata": {},
   "outputs": [],
   "source": [
    "df['full_address'] = df['Address'] + ' ' + df['Neighborhood'] + ' ' + df['Sta']"
   ]
  },
  {
   "cell_type": "code",
   "execution_count": null,
   "id": "be2067cf",
   "metadata": {},
   "outputs": [],
   "source": [
    "%store -r google_maps_API_Key\n",
    "gmaps_key = googlemaps.Client(key=google_maps_API_Key)"
   ]
  },
  {
   "cell_type": "code",
   "execution_count": null,
   "id": "8b32793b",
   "metadata": {},
   "outputs": [],
   "source": [
    "# Define the geocode function\n",
    "def geocode(add):\n",
    "    g = gmaps_key.geocode(add)\n",
    "    if g:\n",
    "        lat = g[0][\"geometry\"][\"location\"][\"lat\"]\n",
    "        lng = g[0][\"geometry\"][\"location\"][\"lng\"]\n",
    "        return (lat, lng)\n",
    "    else:\n",
    "        return None\n",
    "\n",
    "# Apply geocoding to the 'Full_Address' column and store the results in the 'geocoded' column\n",
    "df['geocoded'] = df['full_address'].apply(geocode)\n",
    "\n",
    "# Split 'geocoded' into 'lat' and 'lon', handling None values\n",
    "df[['lat', 'lon']] = df['geocoded'].apply(lambda x: (None, None) if x is None else x).apply(pd.Series)\n",
    "\n",
    "# Convert 'lat' and 'lon' to floats\n",
    "df['lat'] = df['lat'].astype(float)\n",
    "df['lon'] = df['lon'].astype(float)\n",
    "\n",
    "# Create the 'geometry' column with Point objects\n",
    "df['geometry'] = df.apply(lambda row: Point(row['lon'], row['lat']) if pd.notnull(row['lat']) and pd.notnull(row['lon']) else None, axis=1)\n",
    "\n",
    "# Drop rows where geometry is None\n",
    "df = df.dropna(subset=['geometry'])\n",
    "\n",
    "# Create a GeoDataFrame\n",
    "gdf = gpd.GeoDataFrame(df, geometry='geometry')\n",
    "\n",
    "# Set CRS (Coordinate Reference System) to WGS 84 (EPSG:4326)\n",
    "gdf.set_crs(epsg=4326, inplace=True)\n"
   ]
  },
  {
   "cell_type": "code",
   "execution_count": null,
   "id": "0426cd05",
   "metadata": {},
   "outputs": [],
   "source": [
    "gdf"
   ]
  },
  {
   "cell_type": "code",
   "execution_count": null,
   "id": "389be2c6",
   "metadata": {},
   "outputs": [],
   "source": [
    "# Convert all data to strings if possible, or remove complex structures\n",
    "for col in gdf.columns:\n",
    "    if gdf[col].dtype == object:\n",
    "        try:\n",
    "            gdf[col] = gdf[col].astype(str)\n",
    "        except Exception as e:\n",
    "            print(f\"Could not convert column {col}: {e}\")\n",
    "            gdf.drop(columns=[col], inplace=True)\n"
   ]
  },
  {
   "cell_type": "code",
   "execution_count": null,
   "id": "cab17d01",
   "metadata": {},
   "outputs": [],
   "source": [
    "gdf.to_file('data.geojson', driver='GeoJSON')"
   ]
  },
  {
   "cell_type": "code",
   "execution_count": null,
   "id": "81bf86af",
   "metadata": {},
   "outputs": [],
   "source": [
    "base_name = 'https://trd-digital.github.io/trd-news-interactive-maps/'\n",
    "\n",
    "cwd = os.getcwd()\n",
    "\n",
    "cwd = cwd.split('/')\n",
    "\n",
    "final_name = base_name + cwd[-1]\n",
    "print(final_name)"
   ]
  },
  {
   "cell_type": "markdown",
   "id": "487c7bf9",
   "metadata": {},
   "source": [
    "<a href=\"https://therealdeal.com/chicago/2024/04/03/david-gassman-sells-chicago-apartment-portfolio-for-72m/\"> 6954 North Sheridan Road, Chicago</a>"
   ]
  },
  {
   "cell_type": "code",
   "execution_count": null,
   "id": "431811c5",
   "metadata": {},
   "outputs": [],
   "source": [
    "gdf.columns"
   ]
  }
 ],
 "metadata": {
  "kernelspec": {
   "display_name": "Python 3 (ipykernel)",
   "language": "python",
   "name": "python3"
  },
  "language_info": {
   "codemirror_mode": {
    "name": "ipython",
    "version": 3
   },
   "file_extension": ".py",
   "mimetype": "text/x-python",
   "name": "python",
   "nbconvert_exporter": "python",
   "pygments_lexer": "ipython3",
   "version": "3.9.12"
  }
 },
 "nbformat": 4,
 "nbformat_minor": 5
}
