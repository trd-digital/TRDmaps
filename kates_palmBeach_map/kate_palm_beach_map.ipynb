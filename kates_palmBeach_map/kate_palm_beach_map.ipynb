{
 "cells": [
  {
   "cell_type": "markdown",
   "metadata": {},
   "source": [
    "## Imports"
   ]
  },
  {
   "cell_type": "code",
   "execution_count": 63,
   "metadata": {},
   "outputs": [],
   "source": [
    "from geopy.geocoders import GoogleV3\n",
    "from bs4 import BeautifulSoup\n",
    "import requests\n",
    "import time\n",
    "import pandas as pd\n",
    "import numpy as np\n",
    "import urllib3\n",
    "import re\n",
    "from textwrap import shorten\n",
    "import os"
   ]
  },
  {
   "cell_type": "code",
   "execution_count": 47,
   "metadata": {},
   "outputs": [],
   "source": [
    "df = pd.read_csv('map_template_popup_pin_kate_map - palm_beach.csv')"
   ]
  },
  {
   "cell_type": "code",
   "execution_count": 48,
   "metadata": {},
   "outputs": [
    {
     "data": {
      "text/plain": [
       "Index(['full_address', 'developers', 'price', 'description', 'story_link'], dtype='object')"
      ]
     },
     "execution_count": 48,
     "metadata": {},
     "output_type": "execute_result"
    }
   ],
   "source": [
    "df.columns"
   ]
  },
  {
   "cell_type": "markdown",
   "metadata": {},
   "source": [
    "## Image URL collector"
   ]
  },
  {
   "cell_type": "code",
   "execution_count": 49,
   "metadata": {},
   "outputs": [],
   "source": [
    "# Drop last n rows of a df. In case there are sums that need clipped\n",
    "# df.drop(df.tail(n).index, inplace=True)\n"
   ]
  },
  {
   "cell_type": "code",
   "execution_count": 50,
   "metadata": {},
   "outputs": [],
   "source": [
    "df['image_links'] = ''\n",
    "links = []\n",
    "for url in df['story_link']:\n",
    "    try:\n",
    "        page = requests.get(url)\n",
    "        soup = BeautifulSoup(page.content, 'html.parser')\n",
    "        images = soup.find_all('img')\n",
    "        counter = 0\n",
    "        for image in images:\n",
    "            counter += 1\n",
    "            if 'jpg' in image['src']:\n",
    "                links.append(image['src'])\n",
    "                if counter == len(images):\n",
    "                    links.append('no image found')\n",
    "                break\n",
    "    except:\n",
    "        links.append('no_image')\n",
    "\n",
    "df['image_links'] = links"
   ]
  },
  {
   "cell_type": "markdown",
   "metadata": {},
   "source": [
    "## Article link formatter"
   ]
  },
  {
   "cell_type": "code",
   "execution_count": 51,
   "metadata": {},
   "outputs": [
    {
     "data": {
      "text/plain": [
       "['https://s13.therealdeal.com/trd/m/up/2022/06/main-Manalapan-compound-poised-to-sell-for-Florida-record-175M-705x440.jpg',\n",
       " 'https://s12.therealdeal.com/trd/m/up/2022/06/Oceanfront-Palm-Beach-estate-flips-for-86M-in-nine-months-705x466.jpg',\n",
       " 'https://s13.therealdeal.com/trd/m/up/2022/05/Main_ivana-mansion-705x439.jpg',\n",
       " 'https://s14.therealdeal.com/trd/m/up/2022/02/main-Todd-Glaser-partners-buy-waterfront-Palm-Beach-mansion-with-plans-to-re-list-it-for-115M-705x439.jpg',\n",
       " 'https://therealdeal.com/miami/wp-content/uploads/2022/04/main-Non-waterfront-Palm-Beach-spec-home-on-Billionaires-Row-trades-for-48.5M-705x439.jpg',\n",
       " 'https://s14.therealdeal.com/trd/m/up/2022/06/main_MIA_Walker-Palm-Beach-705x439.jpg',\n",
       " 'https://s11.therealdeal.com/trd/m/up/2022/03/Royal-Real-Estate-Jordanian-Princess-sells-waterfront-Palm-Beach-mansion-705x431.jpg',\n",
       " 'https://s13.therealdeal.com/trd/m/up/2022/03/main-MIA-Fiji-water-palm-beach-705x439.jpg',\n",
       " 'https://s13.therealdeal.com/trd/m/up/2022/05/MIA-Todd-Glaser-flips-two-waterfront-Palm-Beach-estates-for-70M-MAIN-705x439.jpg',\n",
       " 'https://s14.therealdeal.com/trd/m/up/2022/06/Main_beach-house-705x439.jpg']"
      ]
     },
     "execution_count": 51,
     "metadata": {},
     "output_type": "execute_result"
    }
   ],
   "source": [
    "links"
   ]
  },
  {
   "cell_type": "code",
   "execution_count": 52,
   "metadata": {},
   "outputs": [
    {
     "data": {
      "text/plain": [
       "0    The sale of this 16-acre estate sets a new rec...\n",
       "1    This 18,000-square-foot oceanfront mansion sol...\n",
       "2    This 12,352-square-foot waterfront mansion fet...\n",
       "3    Spec home developer Todd Michael Glaser and hi...\n",
       "4    This eight-bedroom, ten-bathroom spec mansion ...\n",
       "5    This waterfront estate traded hands off-market...\n",
       "6    Jordanian princess Alia Bing Hussein sold her ...\n",
       "7    Fiji Water founder David Gilmour and his wife ...\n",
       "8    Spec home developer Todd Michael Glaser's seco...\n",
       "9    This waterfront Palm Beach estate flipped for ...\n",
       "Name: description, dtype: object"
      ]
     },
     "execution_count": 52,
     "metadata": {},
     "output_type": "execute_result"
    }
   ],
   "source": [
    "df.description"
   ]
  },
  {
   "cell_type": "code",
   "execution_count": 53,
   "metadata": {},
   "outputs": [
    {
     "data": {
      "text/plain": [
       "0    <a href=\"https://therealdeal.com/miami/2022/06...\n",
       "1    <a href=\"https://therealdeal.com/miami/2022/06...\n",
       "2    <a href=\"https://therealdeal.com/miami/2022/05...\n",
       "3    <a href=\"https://therealdeal.com/miami/2022/02...\n",
       "4    <a href=\"https://therealdeal.com/miami/2022/04...\n",
       "5    <a href=\"https://therealdeal.com/miami/2022/06...\n",
       "6    <a href=\"https://therealdeal.com/miami/2022/03...\n",
       "7    <a href=\"https://therealdeal.com/miami/2022/03...\n",
       "8    <a href=\"https://therealdeal.com/miami/2022/05...\n",
       "9    <a href=\"https://therealdeal.com/miami/2022/06...\n",
       "Name: description_link, dtype: object"
      ]
     },
     "execution_count": 53,
     "metadata": {},
     "output_type": "execute_result"
    }
   ],
   "source": [
    "df[\"short_description\"] = df[\"description\"].apply(lambda s: shorten(s, width=20, placeholder=\"\"))\n",
    "df['remaining_desc'] = df.apply(lambda row : row['description'].replace(str(row['short_description']), ''), axis=1)\n",
    "df['remaining_desc']\n",
    "\n",
    "df[\"description_link\"] = '<a href=\"' + df[\"story_link\"] + '\">' + df[\"short_description\"] + \"</a>\" + df[\"remaining_desc\"]\n",
    "df['description_link']"
   ]
  },
  {
   "cell_type": "code",
   "execution_count": null,
   "metadata": {},
   "outputs": [],
   "source": []
  },
  {
   "cell_type": "markdown",
   "metadata": {},
   "source": [
    "## Google Maps API Geolocater Setup"
   ]
  },
  {
   "cell_type": "code",
   "execution_count": 54,
   "metadata": {},
   "outputs": [],
   "source": [
    "%store -r google_maps_API_Key\n",
    "geolocator = GoogleV3(api_key=google_maps_API_Key)"
   ]
  },
  {
   "cell_type": "code",
   "execution_count": 55,
   "metadata": {},
   "outputs": [],
   "source": [
    "df['geo_address'] = df['full_address'] + ', Palm Beach, FL'\n",
    "df['loc'] = df['geo_address'].apply(geolocator.geocode, timeout=10)\n",
    "df['point'] = df['loc'].apply(lambda loc: tuple(loc.point) if loc else None)\n",
    "df[['lat','lon','altitude']] = pd.DataFrame(df['point'].to_list(),index=df.index)"
   ]
  },
  {
   "cell_type": "markdown",
   "metadata": {},
   "source": [
    "## HTML popup formatter"
   ]
  },
  {
   "cell_type": "code",
   "execution_count": 56,
   "metadata": {},
   "outputs": [],
   "source": [
    "def popup_html(row):\n",
    "    i = row\n",
    "    address = df['full_address'].iloc[i]\n",
    "#     developer = df['developers'].iloc[i]\n",
    "    description = df['description_link'].iloc[i]\n",
    "    image = df['image_links'].iloc[i]\n",
    "    \n",
    "    html = '''<!DOCTYPE html>\n",
    "    <html>\n",
    "    <img src={} width=\"256\" height=\"156\">'''.format(image) + '''<br>______________________________________<br>\n",
    "    Address: <strong>{}'''.format(address) + '''</strong><br>\n",
    "    <strong>{}'''.format(description) + '''</strong></html>\n",
    "    '''\n",
    "    return html\n"
   ]
  },
  {
   "cell_type": "markdown",
   "metadata": {},
   "source": [
    "### HTML reservoir"
   ]
  },
  {
   "cell_type": "code",
   "execution_count": 57,
   "metadata": {},
   "outputs": [],
   "source": [
    "#     Developer(s): <strong><em>{}'''.format(developer) + '''</strong></em><br><br>"
   ]
  },
  {
   "cell_type": "markdown",
   "metadata": {},
   "source": [
    "## Map Maker"
   ]
  },
  {
   "cell_type": "code",
   "execution_count": 58,
   "metadata": {},
   "outputs": [
    {
     "data": {
      "text/plain": [
       "0    <a href=\"https://therealdeal.com/miami/2022/06...\n",
       "1    <a href=\"https://therealdeal.com/miami/2022/06...\n",
       "2    <a href=\"https://therealdeal.com/miami/2022/05...\n",
       "3    <a href=\"https://therealdeal.com/miami/2022/02...\n",
       "4    <a href=\"https://therealdeal.com/miami/2022/04...\n",
       "5    <a href=\"https://therealdeal.com/miami/2022/06...\n",
       "6    <a href=\"https://therealdeal.com/miami/2022/03...\n",
       "7    <a href=\"https://therealdeal.com/miami/2022/03...\n",
       "8    <a href=\"https://therealdeal.com/miami/2022/05...\n",
       "9    <a href=\"https://therealdeal.com/miami/2022/06...\n",
       "Name: description_link, dtype: object"
      ]
     },
     "execution_count": 58,
     "metadata": {},
     "output_type": "execute_result"
    }
   ],
   "source": [
    "df.description_link"
   ]
  },
  {
   "cell_type": "code",
   "execution_count": 65,
   "metadata": {},
   "outputs": [
    {
     "data": {
      "text/html": [
       "<div style=\"width:100%;\"><div style=\"position:relative;width:100%;height:0;padding-bottom:60%;\"><span style=\"color:#565656\">Make this Notebook Trusted to load map: File -> Trust Notebook</span><iframe srcdoc=\"&lt;!DOCTYPE html&gt;\n",
       "&lt;head&gt;    \n",
       "    &lt;meta http-equiv=&quot;content-type&quot; content=&quot;text/html; charset=UTF-8&quot; /&gt;\n",
       "    \n",
       "        &lt;script&gt;\n",
       "            L_NO_TOUCH = false;\n",
       "            L_DISABLE_3D = false;\n",
       "        &lt;/script&gt;\n",
       "    \n",
       "    &lt;style&gt;html, body {width: 100%;height: 100%;margin: 0;padding: 0;}&lt;/style&gt;\n",
       "    &lt;style&gt;#map {position:absolute;top:0;bottom:0;right:0;left:0;}&lt;/style&gt;\n",
       "    &lt;script src=&quot;https://cdn.jsdelivr.net/npm/leaflet@1.6.0/dist/leaflet.js&quot;&gt;&lt;/script&gt;\n",
       "    &lt;script src=&quot;https://code.jquery.com/jquery-1.12.4.min.js&quot;&gt;&lt;/script&gt;\n",
       "    &lt;script src=&quot;https://maxcdn.bootstrapcdn.com/bootstrap/3.2.0/js/bootstrap.min.js&quot;&gt;&lt;/script&gt;\n",
       "    &lt;script src=&quot;https://cdnjs.cloudflare.com/ajax/libs/Leaflet.awesome-markers/2.0.2/leaflet.awesome-markers.js&quot;&gt;&lt;/script&gt;\n",
       "    &lt;link rel=&quot;stylesheet&quot; href=&quot;https://cdn.jsdelivr.net/npm/leaflet@1.6.0/dist/leaflet.css&quot;/&gt;\n",
       "    &lt;link rel=&quot;stylesheet&quot; href=&quot;https://maxcdn.bootstrapcdn.com/bootstrap/3.2.0/css/bootstrap.min.css&quot;/&gt;\n",
       "    &lt;link rel=&quot;stylesheet&quot; href=&quot;https://maxcdn.bootstrapcdn.com/bootstrap/3.2.0/css/bootstrap-theme.min.css&quot;/&gt;\n",
       "    &lt;link rel=&quot;stylesheet&quot; href=&quot;https://maxcdn.bootstrapcdn.com/font-awesome/4.6.3/css/font-awesome.min.css&quot;/&gt;\n",
       "    &lt;link rel=&quot;stylesheet&quot; href=&quot;https://cdnjs.cloudflare.com/ajax/libs/Leaflet.awesome-markers/2.0.2/leaflet.awesome-markers.css&quot;/&gt;\n",
       "    &lt;link rel=&quot;stylesheet&quot; href=&quot;https://cdn.jsdelivr.net/gh/python-visualization/folium/folium/templates/leaflet.awesome.rotate.min.css&quot;/&gt;\n",
       "    \n",
       "            &lt;meta name=&quot;viewport&quot; content=&quot;width=device-width,\n",
       "                initial-scale=1.0, maximum-scale=1.0, user-scalable=no&quot; /&gt;\n",
       "            &lt;style&gt;\n",
       "                #map_bdb55f708f68510ba7bdda060f504192 {\n",
       "                    position: relative;\n",
       "                    width: 100.0%;\n",
       "                    height: 100.0%;\n",
       "                    left: 0.0%;\n",
       "                    top: 0.0%;\n",
       "                }\n",
       "            &lt;/style&gt;\n",
       "        \n",
       "&lt;/head&gt;\n",
       "&lt;body&gt;    \n",
       "    \n",
       "              &lt;h3 align=&quot;center&quot; style=&quot;font-size:16px&quot;&gt;&lt;b&gt;Top Palm Beach County Sales of the Year To-Date&lt;/b&gt;&lt;/h3&gt;\n",
       "             \n",
       "    \n",
       "            &lt;div class=&quot;folium-map&quot; id=&quot;map_bdb55f708f68510ba7bdda060f504192&quot; &gt;&lt;/div&gt;\n",
       "        \n",
       "&lt;/body&gt;\n",
       "&lt;script&gt;    \n",
       "    \n",
       "            var map_bdb55f708f68510ba7bdda060f504192 = L.map(\n",
       "                &quot;map_bdb55f708f68510ba7bdda060f504192&quot;,\n",
       "                {\n",
       "                    center: [26.711156319999997, -80.0383852],\n",
       "                    crs: L.CRS.EPSG3857,\n",
       "                    zoom: 11,\n",
       "                    zoomControl: true,\n",
       "                    preferCanvas: false,\n",
       "                }\n",
       "            );\n",
       "\n",
       "            \n",
       "\n",
       "        \n",
       "    \n",
       "            var tile_layer_06a6f15eb7ec50b435aad807c6a90036 = L.tileLayer(\n",
       "                &quot;https://{s}.tile.openstreetmap.org/{z}/{x}/{y}.png&quot;,\n",
       "                {&quot;attribution&quot;: &quot;Data by \\u0026copy; \\u003ca href=\\&quot;http://openstreetmap.org\\&quot;\\u003eOpenStreetMap\\u003c/a\\u003e, under \\u003ca href=\\&quot;http://www.openstreetmap.org/copyright\\&quot;\\u003eODbL\\u003c/a\\u003e.&quot;, &quot;detectRetina&quot;: false, &quot;maxNativeZoom&quot;: 18, &quot;maxZoom&quot;: 18, &quot;minZoom&quot;: 0, &quot;noWrap&quot;: false, &quot;opacity&quot;: 1, &quot;subdomains&quot;: &quot;abc&quot;, &quot;tms&quot;: false}\n",
       "            ).addTo(map_bdb55f708f68510ba7bdda060f504192);\n",
       "        \n",
       "    \n",
       "            var marker_faf3178f4a48ac2cfdc6e9e5d7a59aad = L.marker(\n",
       "                [26.6437781, -80.03794859999999],\n",
       "                {}\n",
       "            ).addTo(map_bdb55f708f68510ba7bdda060f504192);\n",
       "        \n",
       "    \n",
       "        var popup_a17258acf8a229992683d26b7c3a7c3b = L.popup({&quot;maxWidth&quot;: &quot;100%&quot;});\n",
       "\n",
       "        \n",
       "            var html_8192ecfd704dd8db0ceb0d8c1af4d05c = $(`&lt;div id=&quot;html_8192ecfd704dd8db0ceb0d8c1af4d05c&quot; style=&quot;width: 100.0%; height: 100.0%;&quot;&gt;&lt;!DOCTYPE html&gt;     &lt;html&gt;     &lt;img src=https://s13.therealdeal.com/trd/m/up/2022/06/main-Manalapan-compound-poised-to-sell-for-Florida-record-175M-705x440.jpg width=&quot;256&quot; height=&quot;156&quot;&gt;&lt;br&gt;______________________________________&lt;br&gt;     Address: &lt;strong&gt;2000 South Ocean Boulevard&lt;/strong&gt;&lt;br&gt;     &lt;strong&gt;&lt;a href=&quot;https://therealdeal.com/miami/2022/06/16/manalapan-compound-poised-to-sell-for-florida-record-175m/&quot;&gt;The sale of this&lt;/a&gt; 16-acre estate sets a new record for home sales in the entire state of Florida. The previous record for a home in Palm Beach was the spec home that fetched $122.7 million in 2021. &lt;/strong&gt;&lt;/html&gt;     &lt;/div&gt;`)[0];\n",
       "            popup_a17258acf8a229992683d26b7c3a7c3b.setContent(html_8192ecfd704dd8db0ceb0d8c1af4d05c);\n",
       "        \n",
       "\n",
       "        marker_faf3178f4a48ac2cfdc6e9e5d7a59aad.bindPopup(popup_a17258acf8a229992683d26b7c3a7c3b)\n",
       "        ;\n",
       "\n",
       "        \n",
       "    \n",
       "    \n",
       "            var marker_833c141e5b093125bd85a6d1fd40a39f = L.marker(\n",
       "                [26.746267, -80.0355469],\n",
       "                {}\n",
       "            ).addTo(map_bdb55f708f68510ba7bdda060f504192);\n",
       "        \n",
       "    \n",
       "        var popup_72e3cda749eb13c1d5a0be62ff7bd160 = L.popup({&quot;maxWidth&quot;: &quot;100%&quot;});\n",
       "\n",
       "        \n",
       "            var html_8f37945f8f327e832e150573518456b1 = $(`&lt;div id=&quot;html_8f37945f8f327e832e150573518456b1&quot; style=&quot;width: 100.0%; height: 100.0%;&quot;&gt;&lt;!DOCTYPE html&gt;     &lt;html&gt;     &lt;img src=https://s12.therealdeal.com/trd/m/up/2022/06/Oceanfront-Palm-Beach-estate-flips-for-86M-in-nine-months-705x466.jpg width=&quot;256&quot; height=&quot;156&quot;&gt;&lt;br&gt;______________________________________&lt;br&gt;     Address: &lt;strong&gt;901 North Ocean Boulevard&lt;/strong&gt;&lt;br&gt;     &lt;strong&gt;&lt;a href=&quot;https://therealdeal.com/miami/2022/06/13/oceanfront-palm-beach-estate-flips-for-86m-in-nine-months/&quot;&gt;This 18,000-square-&lt;/a&gt;foot oceanfront mansion sold for $86 million in June, just nine months after selling for $64 million. &lt;/strong&gt;&lt;/html&gt;     &lt;/div&gt;`)[0];\n",
       "            popup_72e3cda749eb13c1d5a0be62ff7bd160.setContent(html_8f37945f8f327e832e150573518456b1);\n",
       "        \n",
       "\n",
       "        marker_833c141e5b093125bd85a6d1fd40a39f.bindPopup(popup_72e3cda749eb13c1d5a0be62ff7bd160)\n",
       "        ;\n",
       "\n",
       "        \n",
       "    \n",
       "    \n",
       "            var marker_4fd2277e33f3e363986d29afb7fea3e7 = L.marker(\n",
       "                [26.6911803, -80.03419319999999],\n",
       "                {}\n",
       "            ).addTo(map_bdb55f708f68510ba7bdda060f504192);\n",
       "        \n",
       "    \n",
       "        var popup_5609eb97f602fd910bdbc4e7c6dcb4b8 = L.popup({&quot;maxWidth&quot;: &quot;100%&quot;});\n",
       "\n",
       "        \n",
       "            var html_e106733f0f610efbba6bf941944323dc = $(`&lt;div id=&quot;html_e106733f0f610efbba6bf941944323dc&quot; style=&quot;width: 100.0%; height: 100.0%;&quot;&gt;&lt;!DOCTYPE html&gt;     &lt;html&gt;     &lt;img src=https://s13.therealdeal.com/trd/m/up/2022/05/Main_ivana-mansion-705x439.jpg width=&quot;256&quot; height=&quot;156&quot;&gt;&lt;br&gt;______________________________________&lt;br&gt;     Address: &lt;strong&gt;102 Jungle Road&lt;/strong&gt;&lt;br&gt;     &lt;strong&gt;&lt;a href=&quot;https://therealdeal.com/miami/2022/05/12/ivana-trumps-former-palm-beach-mansion-sells-for-73m/&quot;&gt;This 12,352-square-&lt;/a&gt;foot waterfront mansion fetched the third highest sale price for the year to date in Palm Beach County. Once belonging to Ivana Trump, the couple that sold the property won the Robert I. Ballinger Award for the restoration of the historic home in 2019.&lt;/strong&gt;&lt;/html&gt;     &lt;/div&gt;`)[0];\n",
       "            popup_5609eb97f602fd910bdbc4e7c6dcb4b8.setContent(html_e106733f0f610efbba6bf941944323dc);\n",
       "        \n",
       "\n",
       "        marker_4fd2277e33f3e363986d29afb7fea3e7.bindPopup(popup_5609eb97f602fd910bdbc4e7c6dcb4b8)\n",
       "        ;\n",
       "\n",
       "        \n",
       "    \n",
       "    \n",
       "            var marker_aaef728c55f825b961a9fab9d166fa47 = L.marker(\n",
       "                [26.685873, -80.0371189],\n",
       "                {}\n",
       "            ).addTo(map_bdb55f708f68510ba7bdda060f504192);\n",
       "        \n",
       "    \n",
       "        var popup_c70b2bca066099ad1e0e57e4c58a30af = L.popup({&quot;maxWidth&quot;: &quot;100%&quot;});\n",
       "\n",
       "        \n",
       "            var html_6b7ce5988eaf18e146731bed06112187 = $(`&lt;div id=&quot;html_6b7ce5988eaf18e146731bed06112187&quot; style=&quot;width: 100.0%; height: 100.0%;&quot;&gt;&lt;!DOCTYPE html&gt;     &lt;html&gt;     &lt;img src=https://s14.therealdeal.com/trd/m/up/2022/02/main-Todd-Glaser-partners-buy-waterfront-Palm-Beach-mansion-with-plans-to-re-list-it-for-115M-705x439.jpg width=&quot;256&quot; height=&quot;156&quot;&gt;&lt;br&gt;______________________________________&lt;br&gt;     Address: &lt;strong&gt;854 South Country Road&lt;/strong&gt;&lt;br&gt;     &lt;strong&gt;&lt;a href=&quot;https://therealdeal.com/miami/2022/02/25/todd-glaser-partners-buy-waterfront-palm-beach-mansion-with-plans-to-re-list-it-for-115m/&quot;&gt;Spec home developer&lt;/a&gt; Todd Michael Glaser and his partners paid $53 million for this waterfront mansion with plans to renovate and expand the estate. The sellers, Joel and Darcie Kassewitz own the Tampa Bay Buccaneers and Manchester United and paid $20.5 million for the property in 2010.&lt;/strong&gt;&lt;/html&gt;     &lt;/div&gt;`)[0];\n",
       "            popup_c70b2bca066099ad1e0e57e4c58a30af.setContent(html_6b7ce5988eaf18e146731bed06112187);\n",
       "        \n",
       "\n",
       "        marker_aaef728c55f825b961a9fab9d166fa47.bindPopup(popup_c70b2bca066099ad1e0e57e4c58a30af)\n",
       "        ;\n",
       "\n",
       "        \n",
       "    \n",
       "    \n",
       "            var marker_721776f0382d52a1a2f4330bb892a02f = L.marker(\n",
       "                [26.6798966, -80.03604910000001],\n",
       "                {}\n",
       "            ).addTo(map_bdb55f708f68510ba7bdda060f504192);\n",
       "        \n",
       "    \n",
       "        var popup_2338dbf141c19f847910b5af9ef754ea = L.popup({&quot;maxWidth&quot;: &quot;100%&quot;});\n",
       "\n",
       "        \n",
       "            var html_3a3c736501e4bc726b47ad1993e73958 = $(`&lt;div id=&quot;html_3a3c736501e4bc726b47ad1993e73958&quot; style=&quot;width: 100.0%; height: 100.0%;&quot;&gt;&lt;!DOCTYPE html&gt;     &lt;html&gt;     &lt;img src=https://therealdeal.com/miami/wp-content/uploads/2022/04/main-Non-waterfront-Palm-Beach-spec-home-on-Billionaires-Row-trades-for-48.5M-705x439.jpg width=&quot;256&quot; height=&quot;156&quot;&gt;&lt;br&gt;______________________________________&lt;br&gt;     Address: &lt;strong&gt;1030 South Ocean Boulevard&lt;/strong&gt;&lt;br&gt;     &lt;strong&gt;&lt;a href=&quot;https://therealdeal.com/miami/2022/04/12/non-waterfront-palm-beach-spec-home-on-billionaires-row-trades-for-48-5m/&quot;&gt;This eight-bedroom,&lt;/a&gt; ten-bathroom spec mansion on Billionaire&#x27;s Row stands out as the priciest non-waterfront property to place among the top Palm Beach sales of 2022. The property traded for just $7.6 million in 2018.&lt;/strong&gt;&lt;/html&gt;     &lt;/div&gt;`)[0];\n",
       "            popup_2338dbf141c19f847910b5af9ef754ea.setContent(html_3a3c736501e4bc726b47ad1993e73958);\n",
       "        \n",
       "\n",
       "        marker_721776f0382d52a1a2f4330bb892a02f.bindPopup(popup_2338dbf141c19f847910b5af9ef754ea)\n",
       "        ;\n",
       "\n",
       "        \n",
       "    \n",
       "    \n",
       "            var marker_2f5cd04a7b102be135dd814890be96b9 = L.marker(\n",
       "                [26.6933334, -80.04340669999999],\n",
       "                {}\n",
       "            ).addTo(map_bdb55f708f68510ba7bdda060f504192);\n",
       "        \n",
       "    \n",
       "        var popup_120d0a852d91142c93d70265908b66f0 = L.popup({&quot;maxWidth&quot;: &quot;100%&quot;});\n",
       "\n",
       "        \n",
       "            var html_519679fbc839f21e34b01a0ad579dfcd = $(`&lt;div id=&quot;html_519679fbc839f21e34b01a0ad579dfcd&quot; style=&quot;width: 100.0%; height: 100.0%;&quot;&gt;&lt;!DOCTYPE html&gt;     &lt;html&gt;     &lt;img src=https://s14.therealdeal.com/trd/m/up/2022/06/main_MIA_Walker-Palm-Beach-705x439.jpg width=&quot;256&quot; height=&quot;156&quot;&gt;&lt;br&gt;______________________________________&lt;br&gt;     Address: &lt;strong&gt;662 Island Drive&lt;/strong&gt;&lt;br&gt;     &lt;strong&gt;&lt;a href=&quot;https://therealdeal.com/miami/2022/06/17/trust-linked-to-motorola-heirs-buys-palm-beach-estate-for-46m/&quot;&gt;This waterfront&lt;/a&gt; estate traded hands off-market between a retired financier and a trust linked to the heirs of Motorola founder Paul Galvin. The 9,600-square-foot property last sold for $19 million in 2015.&lt;/strong&gt;&lt;/html&gt;     &lt;/div&gt;`)[0];\n",
       "            popup_120d0a852d91142c93d70265908b66f0.setContent(html_519679fbc839f21e34b01a0ad579dfcd);\n",
       "        \n",
       "\n",
       "        marker_2f5cd04a7b102be135dd814890be96b9.bindPopup(popup_120d0a852d91142c93d70265908b66f0)\n",
       "        ;\n",
       "\n",
       "        \n",
       "    \n",
       "    \n",
       "            var marker_21e10da07fc5c7eb5687c0091e729ea8 = L.marker(\n",
       "                [26.7608434, -80.0406995],\n",
       "                {}\n",
       "            ).addTo(map_bdb55f708f68510ba7bdda060f504192);\n",
       "        \n",
       "    \n",
       "        var popup_050b3512ac0a89e752c22f2c16f1c1ed = L.popup({&quot;maxWidth&quot;: &quot;100%&quot;});\n",
       "\n",
       "        \n",
       "            var html_93374842f826840555dc94cf71cbd6b7 = $(`&lt;div id=&quot;html_93374842f826840555dc94cf71cbd6b7&quot; style=&quot;width: 100.0%; height: 100.0%;&quot;&gt;&lt;!DOCTYPE html&gt;     &lt;html&gt;     &lt;img src=https://s11.therealdeal.com/trd/m/up/2022/03/Royal-Real-Estate-Jordanian-Princess-sells-waterfront-Palm-Beach-mansion-705x431.jpg width=&quot;256&quot; height=&quot;156&quot;&gt;&lt;br&gt;______________________________________&lt;br&gt;     Address: &lt;strong&gt;1330 North Lake Way&lt;/strong&gt;&lt;br&gt;     &lt;strong&gt;&lt;a href=&quot;https://therealdeal.com/miami/2022/03/21/royal-real-estate-jordanian-princess-sells-waterfront-palm-beach-home-for-45m/&quot;&gt;Jordanian princess&lt;/a&gt; Alia Bing Hussein sold her waterfront home for $45.4 million. With 7,048 square feet, the house fetched $6,442 per square foot.&lt;/strong&gt;&lt;/html&gt;     &lt;/div&gt;`)[0];\n",
       "            popup_050b3512ac0a89e752c22f2c16f1c1ed.setContent(html_93374842f826840555dc94cf71cbd6b7);\n",
       "        \n",
       "\n",
       "        marker_21e10da07fc5c7eb5687c0091e729ea8.bindPopup(popup_050b3512ac0a89e752c22f2c16f1c1ed)\n",
       "        ;\n",
       "\n",
       "        \n",
       "    \n",
       "    \n",
       "            var marker_9e563db6a3d90467b4783232233b1463 = L.marker(\n",
       "                [26.6996914, -80.0369661],\n",
       "                {}\n",
       "            ).addTo(map_bdb55f708f68510ba7bdda060f504192);\n",
       "        \n",
       "    \n",
       "        var popup_902ed980f01f258ad51d9366da2915fc = L.popup({&quot;maxWidth&quot;: &quot;100%&quot;});\n",
       "\n",
       "        \n",
       "            var html_21ec28095b1336af1bda07dbb72e95a0 = $(`&lt;div id=&quot;html_21ec28095b1336af1bda07dbb72e95a0&quot; style=&quot;width: 100.0%; height: 100.0%;&quot;&gt;&lt;!DOCTYPE html&gt;     &lt;html&gt;     &lt;img src=https://s13.therealdeal.com/trd/m/up/2022/03/main-MIA-Fiji-water-palm-beach-705x439.jpg width=&quot;256&quot; height=&quot;156&quot;&gt;&lt;br&gt;______________________________________&lt;br&gt;     Address: &lt;strong&gt;5 Golfview Road&lt;/strong&gt;&lt;br&gt;     &lt;strong&gt;&lt;a href=&quot;https://therealdeal.com/miami/2022/03/04/fiji-water-founder-quenched-his-thirst-with-45m-sale-of-palm-beach-mansion/&quot;&gt;Fiji Water founder&lt;/a&gt; David Gilmour and his wife Jillian paid $3.8 million in 1997 for the Palm Beach home they sold in March. Selling for $5,654 per square foot, it was the second-highest grossing non-waterfront deal in the county this year.  &lt;/strong&gt;&lt;/html&gt;     &lt;/div&gt;`)[0];\n",
       "            popup_902ed980f01f258ad51d9366da2915fc.setContent(html_21ec28095b1336af1bda07dbb72e95a0);\n",
       "        \n",
       "\n",
       "        marker_9e563db6a3d90467b4783232233b1463.bindPopup(popup_902ed980f01f258ad51d9366da2915fc)\n",
       "        ;\n",
       "\n",
       "        \n",
       "    \n",
       "    \n",
       "            var marker_f1f4f99d79e58445418fb1eba2271790 = L.marker(\n",
       "                [26.7604729, -80.0406122],\n",
       "                {}\n",
       "            ).addTo(map_bdb55f708f68510ba7bdda060f504192);\n",
       "        \n",
       "    \n",
       "        var popup_d317ec559ee961351efb328b2a9b3219 = L.popup({&quot;maxWidth&quot;: &quot;100%&quot;});\n",
       "\n",
       "        \n",
       "            var html_17215a8f685bef2ed1a5e2bc9b35527d = $(`&lt;div id=&quot;html_17215a8f685bef2ed1a5e2bc9b35527d&quot; style=&quot;width: 100.0%; height: 100.0%;&quot;&gt;&lt;!DOCTYPE html&gt;     &lt;html&gt;     &lt;img src=https://s13.therealdeal.com/trd/m/up/2022/05/MIA-Todd-Glaser-flips-two-waterfront-Palm-Beach-estates-for-70M-MAIN-705x439.jpg width=&quot;256&quot; height=&quot;156&quot;&gt;&lt;br&gt;______________________________________&lt;br&gt;     Address: &lt;strong&gt;1320 North Lake Way&lt;/strong&gt;&lt;br&gt;     &lt;strong&gt;&lt;a href=&quot;https://therealdeal.com/miami/2022/05/13/todd-glaser-partners-flip-two-waterfront-palm-beach-estates-for-70m/&quot;&gt;Spec home developer&lt;/a&gt; Todd Michael Glaser&#x27;s second appearance on the top Palm Beach sales of 2022 is with this North Lake Way property. The waterfront home sold for $7,086 per-square-foot, flipping for an $11 million profit.&lt;/strong&gt;&lt;/html&gt;     &lt;/div&gt;`)[0];\n",
       "            popup_d317ec559ee961351efb328b2a9b3219.setContent(html_17215a8f685bef2ed1a5e2bc9b35527d);\n",
       "        \n",
       "\n",
       "        marker_f1f4f99d79e58445418fb1eba2271790.bindPopup(popup_d317ec559ee961351efb328b2a9b3219)\n",
       "        ;\n",
       "\n",
       "        \n",
       "    \n",
       "    \n",
       "            var marker_b5ed7660b7df88758d70bb1e0b96e928 = L.marker(\n",
       "                [26.7502271, -80.04131079999999],\n",
       "                {}\n",
       "            ).addTo(map_bdb55f708f68510ba7bdda060f504192);\n",
       "        \n",
       "    \n",
       "        var popup_69bbc2576919299876f3269b65a444a9 = L.popup({&quot;maxWidth&quot;: &quot;100%&quot;});\n",
       "\n",
       "        \n",
       "            var html_42d3b72395867be6637881423687cc11 = $(`&lt;div id=&quot;html_42d3b72395867be6637881423687cc11&quot; style=&quot;width: 100.0%; height: 100.0%;&quot;&gt;&lt;!DOCTYPE html&gt;     &lt;html&gt;     &lt;img src=https://s14.therealdeal.com/trd/m/up/2022/06/Main_beach-house-705x439.jpg width=&quot;256&quot; height=&quot;156&quot;&gt;&lt;br&gt;______________________________________&lt;br&gt;     Address: &lt;strong&gt;1020 North Lake Way&lt;/strong&gt;&lt;br&gt;     &lt;strong&gt;&lt;a href=&quot;https://therealdeal.com/miami/2022/06/09/safariland-ceo-criticized-for-selling-tear-gas-flips-palm-beach-home-for-40m/&quot;&gt;This waterfront Palm&lt;/a&gt; Beach estate flipped for 57 percent over its 2021 sale price in just a year. The seller, Safariland CEO Warren Kanders, was ousted from his position on the board of the Whitney Museum of Modern Art when artists protested his company&#x27;s sale of pepper spray.&lt;/strong&gt;&lt;/html&gt;     &lt;/div&gt;`)[0];\n",
       "            popup_69bbc2576919299876f3269b65a444a9.setContent(html_42d3b72395867be6637881423687cc11);\n",
       "        \n",
       "\n",
       "        marker_b5ed7660b7df88758d70bb1e0b96e928.bindPopup(popup_69bbc2576919299876f3269b65a444a9)\n",
       "        ;\n",
       "\n",
       "        \n",
       "    \n",
       "    \n",
       "            map_bdb55f708f68510ba7bdda060f504192.fitBounds(\n",
       "                [26.711156319999997, -80.0383852],\n",
       "                {&quot;maxZoom&quot;: 15}\n",
       "            );\n",
       "        \n",
       "&lt;/script&gt;\" style=\"position:absolute;width:100%;height:100%;left:0;top:0;border:none !important;\" allowfullscreen webkitallowfullscreen mozallowfullscreen></iframe></div></div>"
      ],
      "text/plain": [
       "<folium.folium.Map at 0x160cda1d0>"
      ]
     },
     "execution_count": 65,
     "metadata": {},
     "output_type": "execute_result"
    }
   ],
   "source": [
    "import folium\n",
    "import branca\n",
    "\n",
    "f = folium.Figure(width=750, height=750)\n",
    "m = folium.Map(location=df[[\"lat\", \"lon\"]].mean().to_list(),zoom_start=11)\n",
    "\n",
    "title_html = '''\n",
    "              <h3 align=\"center\" style=\"font-size:16px\"><b>{}</b></h3>\n",
    "             '''.format(f'Top Palm Beach County Sales of the Year To-Date')\n",
    "\n",
    "for i in range(0,len(df)):\n",
    "    html = popup_html(i)\n",
    "    iframe = branca.element.IFrame(html=html)\n",
    "    popup = folium.Popup(folium.Html(html, script=True))\n",
    "    folium.Marker([df['lat'].iloc[i],df['lon'].iloc[i]],\n",
    "                 popup=popup).add_to(m)\n",
    "\n",
    "m.get_root().html.add_child(folium.Element(title_html))\n",
    "m.fit_bounds(bounds=df[['lat','lon']].mean().to_list(),max_zoom=15)\n",
    "# m.add_to(f)\n",
    "m"
   ]
  },
  {
   "cell_type": "code",
   "execution_count": 66,
   "metadata": {},
   "outputs": [],
   "source": [
    "m.save('index.html')"
   ]
  },
  {
   "cell_type": "markdown",
   "metadata": {},
   "source": [
    "## Map URL snagger"
   ]
  },
  {
   "cell_type": "markdown",
   "metadata": {},
   "source": [
    "Map template URL: `https://trd-digital.github.io/trd-news-interactive-maps/{map-folder-name}`"
   ]
  },
  {
   "cell_type": "code",
   "execution_count": 61,
   "metadata": {},
   "outputs": [],
   "source": [
    "base_name = 'https://trd-digital.github.io/trd-news-interactive-maps/'"
   ]
  },
  {
   "cell_type": "code",
   "execution_count": 64,
   "metadata": {},
   "outputs": [
    {
     "name": "stdout",
     "output_type": "stream",
     "text": [
      "https://trd-digital.github.io/trd-news-interactive-maps/kates_palmBeach_map\n"
     ]
    }
   ],
   "source": [
    "cwd = os.getcwd()\n",
    "\n",
    "cwd = cwd.split('/')\n",
    "\n",
    "final_name = base_name  + cwd[-1]\n",
    "print(final_name)"
   ]
  }
 ],
 "metadata": {
  "kernelspec": {
   "display_name": "Python 3 (ipykernel)",
   "language": "python",
   "name": "python3"
  },
  "language_info": {
   "codemirror_mode": {
    "name": "ipython",
    "version": 3
   },
   "file_extension": ".py",
   "mimetype": "text/x-python",
   "name": "python",
   "nbconvert_exporter": "python",
   "pygments_lexer": "ipython3",
   "version": "3.10.3"
  },
  "toc": {
   "base_numbering": 1,
   "nav_menu": {},
   "number_sections": true,
   "sideBar": true,
   "skip_h1_title": false,
   "title_cell": "Table of Contents",
   "title_sidebar": "Contents",
   "toc_cell": false,
   "toc_position": {},
   "toc_section_display": true,
   "toc_window_display": false
  }
 },
 "nbformat": 4,
 "nbformat_minor": 4
}
