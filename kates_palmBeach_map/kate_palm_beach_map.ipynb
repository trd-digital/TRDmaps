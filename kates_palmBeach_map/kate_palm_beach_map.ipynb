{
 "cells": [
  {
   "cell_type": "markdown",
   "metadata": {},
   "source": [
    "## Imports"
   ]
  },
  {
   "cell_type": "code",
   "execution_count": 70,
   "metadata": {},
   "outputs": [],
   "source": [
    "from geopy.geocoders import GoogleV3\n",
    "from bs4 import BeautifulSoup\n",
    "import requests\n",
    "import time\n",
    "import pandas as pd\n",
    "import numpy as np\n",
    "import urllib3\n",
    "import re\n",
    "from textwrap import shorten\n",
    "import os"
   ]
  },
  {
   "cell_type": "code",
   "execution_count": 71,
   "metadata": {},
   "outputs": [],
   "source": [
    "df = pd.read_csv('map_template_popup_pin_kate_map - palm_beach.csv')"
   ]
  },
  {
   "cell_type": "code",
   "execution_count": 72,
   "metadata": {},
   "outputs": [
    {
     "data": {
      "text/plain": [
       "Index(['full_address', 'developers', 'price', 'description', 'story_link'], dtype='object')"
      ]
     },
     "execution_count": 72,
     "metadata": {},
     "output_type": "execute_result"
    }
   ],
   "source": [
    "df.columns"
   ]
  },
  {
   "cell_type": "markdown",
   "metadata": {},
   "source": [
    "## Image URL collector"
   ]
  },
  {
   "cell_type": "code",
   "execution_count": 73,
   "metadata": {},
   "outputs": [],
   "source": [
    "# Drop last n rows of a df. In case there are sums that need clipped\n",
    "# df.drop(df.tail(n).index, inplace=True)\n"
   ]
  },
  {
   "cell_type": "code",
   "execution_count": 74,
   "metadata": {},
   "outputs": [],
   "source": [
    "df['image_links'] = ''\n",
    "links = []\n",
    "for url in df['story_link']:\n",
    "    try:\n",
    "        page = requests.get(url)\n",
    "        soup = BeautifulSoup(page.content, 'html.parser')\n",
    "        images = soup.find_all('img')\n",
    "        counter = 0\n",
    "        for image in images:\n",
    "            counter += 1\n",
    "            if 'jpg' in image['src']:\n",
    "                links.append(image['src'])\n",
    "                if counter == len(images):\n",
    "                    links.append('no image found')\n",
    "                break\n",
    "    except:\n",
    "        links.append('no_image')\n",
    "\n",
    "df['image_links'] = links"
   ]
  },
  {
   "cell_type": "markdown",
   "metadata": {},
   "source": [
    "## Article link formatter"
   ]
  },
  {
   "cell_type": "code",
   "execution_count": 75,
   "metadata": {},
   "outputs": [
    {
     "data": {
      "text/plain": [
       "['https://s13.therealdeal.com/trd/m/up/2022/06/main-Manalapan-compound-poised-to-sell-for-Florida-record-175M-705x440.jpg',\n",
       " 'https://s12.therealdeal.com/trd/m/up/2022/06/Oceanfront-Palm-Beach-estate-flips-for-86M-in-nine-months-705x466.jpg',\n",
       " 'https://s13.therealdeal.com/trd/m/up/2022/05/Main_ivana-mansion-705x439.jpg',\n",
       " 'https://s14.therealdeal.com/trd/m/up/2022/02/main-Todd-Glaser-partners-buy-waterfront-Palm-Beach-mansion-with-plans-to-re-list-it-for-115M-705x439.jpg',\n",
       " 'https://s12.therealdeal.com/trd/m/up/2022/04/main-Non-waterfront-Palm-Beach-spec-home-on-Billionaires-Row-trades-for-48.5M-705x439.jpg',\n",
       " 'https://s14.therealdeal.com/trd/m/up/2022/06/main_MIA_Walker-Palm-Beach-705x439.jpg',\n",
       " 'https://s11.therealdeal.com/trd/m/up/2022/03/Royal-Real-Estate-Jordanian-Princess-sells-waterfront-Palm-Beach-mansion-705x431.jpg',\n",
       " 'https://s13.therealdeal.com/trd/m/up/2022/03/main-MIA-Fiji-water-palm-beach-705x439.jpg',\n",
       " 'https://s13.therealdeal.com/trd/m/up/2022/05/MIA-Todd-Glaser-flips-two-waterfront-Palm-Beach-estates-for-70M-MAIN-705x439.jpg',\n",
       " 'https://s14.therealdeal.com/trd/m/up/2022/06/Main_beach-house-705x439.jpg']"
      ]
     },
     "execution_count": 75,
     "metadata": {},
     "output_type": "execute_result"
    }
   ],
   "source": [
    "links"
   ]
  },
  {
   "cell_type": "code",
   "execution_count": 76,
   "metadata": {},
   "outputs": [
    {
     "data": {
      "text/plain": [
       "0    The sale of this 16-acre estate sets a new rec...\n",
       "1    This 18,000-square-foot oceanfront mansion sol...\n",
       "2    This 12,352-square-foot waterfront mansion fet...\n",
       "3    Spec home developer Todd Michael Glaser and hi...\n",
       "4    This eight-bedroom, ten-bathroom spec mansion ...\n",
       "5    This waterfront estate traded hands off-market...\n",
       "6    Jordanian princess Alia Bing Hussein sold her ...\n",
       "7    Fiji Water founder David Gilmour and his wife ...\n",
       "8    Spec home developer Todd Michael Glaser's seco...\n",
       "9    This waterfront Palm Beach estate flipped for ...\n",
       "Name: description, dtype: object"
      ]
     },
     "execution_count": 76,
     "metadata": {},
     "output_type": "execute_result"
    }
   ],
   "source": [
    "df.description"
   ]
  },
  {
   "cell_type": "code",
   "execution_count": 77,
   "metadata": {},
   "outputs": [
    {
     "data": {
      "text/plain": [
       "0    <a href=\"https://therealdeal.com/miami/2022/06...\n",
       "1    <a href=\"https://therealdeal.com/miami/2022/06...\n",
       "2    <a href=\"https://therealdeal.com/miami/2022/05...\n",
       "3    <a href=\"https://therealdeal.com/miami/2022/02...\n",
       "4    <a href=\"https://therealdeal.com/miami/2022/04...\n",
       "5    <a href=\"https://therealdeal.com/miami/2022/06...\n",
       "6    <a href=\"https://therealdeal.com/miami/2022/03...\n",
       "7    <a href=\"https://therealdeal.com/miami/2022/03...\n",
       "8    <a href=\"https://therealdeal.com/miami/2022/05...\n",
       "9    <a href=\"https://therealdeal.com/miami/2022/06...\n",
       "Name: description_link, dtype: object"
      ]
     },
     "execution_count": 77,
     "metadata": {},
     "output_type": "execute_result"
    }
   ],
   "source": [
    "df[\"short_description\"] = df[\"description\"].apply(lambda s: shorten(s, width=20, placeholder=\"\"))\n",
    "df['remaining_desc'] = df.apply(lambda row : row['description'].replace(str(row['short_description']), ''), axis=1)\n",
    "df['remaining_desc']\n",
    "\n",
    "df[\"description_link\"] = '<a href=\"' + df[\"story_link\"] + '\">' + df[\"short_description\"] + \"</a>\" + df[\"remaining_desc\"]\n",
    "df['description_link']"
   ]
  },
  {
   "cell_type": "code",
   "execution_count": null,
   "metadata": {},
   "outputs": [],
   "source": []
  },
  {
   "cell_type": "markdown",
   "metadata": {},
   "source": [
    "## Google Maps API Geolocater Setup"
   ]
  },
  {
   "cell_type": "code",
   "execution_count": 78,
   "metadata": {},
   "outputs": [],
   "source": [
    "%store -r google_maps_API_Key\n",
    "geolocator = GoogleV3(api_key=google_maps_API_Key)"
   ]
  },
  {
   "cell_type": "code",
   "execution_count": 79,
   "metadata": {},
   "outputs": [],
   "source": [
    "df['geo_address'] = df['full_address'] + ', Palm Beach, FL'\n",
    "df['loc'] = df['geo_address'].apply(geolocator.geocode, timeout=10)\n",
    "df['point'] = df['loc'].apply(lambda loc: tuple(loc.point) if loc else None)\n",
    "df[['lat','lon','altitude']] = pd.DataFrame(df['point'].to_list(),index=df.index)"
   ]
  },
  {
   "cell_type": "markdown",
   "metadata": {},
   "source": [
    "## HTML popup formatter"
   ]
  },
  {
   "cell_type": "code",
   "execution_count": 80,
   "metadata": {},
   "outputs": [],
   "source": [
    "def popup_html(row):\n",
    "    i = row\n",
    "    address = df['full_address'].iloc[i]\n",
    "#     developer = df['developers'].iloc[i]\n",
    "    description = df['description_link'].iloc[i]\n",
    "    image = df['image_links'].iloc[i]\n",
    "    \n",
    "    html = '''<!DOCTYPE html>\n",
    "    <html>\n",
    "    <img src={} width=\"256\" height=\"156\">'''.format(image) + '''<br>______________________________________<br>\n",
    "    Address: <em>{}'''.format(address) + '''</em><br>\n",
    "    <strong>{}'''.format(description) + '''</strong></html>\n",
    "    '''\n",
    "    return html\n"
   ]
  },
  {
   "cell_type": "markdown",
   "metadata": {},
   "source": [
    "### HTML reservoir"
   ]
  },
  {
   "cell_type": "code",
   "execution_count": 81,
   "metadata": {},
   "outputs": [],
   "source": [
    "#     Developer(s): <strong><em>{}'''.format(developer) + '''</strong></em><br><br>"
   ]
  },
  {
   "cell_type": "markdown",
   "metadata": {},
   "source": [
    "## Map Maker"
   ]
  },
  {
   "cell_type": "code",
   "execution_count": 82,
   "metadata": {},
   "outputs": [
    {
     "data": {
      "text/plain": [
       "0    <a href=\"https://therealdeal.com/miami/2022/06...\n",
       "1    <a href=\"https://therealdeal.com/miami/2022/06...\n",
       "2    <a href=\"https://therealdeal.com/miami/2022/05...\n",
       "3    <a href=\"https://therealdeal.com/miami/2022/02...\n",
       "4    <a href=\"https://therealdeal.com/miami/2022/04...\n",
       "5    <a href=\"https://therealdeal.com/miami/2022/06...\n",
       "6    <a href=\"https://therealdeal.com/miami/2022/03...\n",
       "7    <a href=\"https://therealdeal.com/miami/2022/03...\n",
       "8    <a href=\"https://therealdeal.com/miami/2022/05...\n",
       "9    <a href=\"https://therealdeal.com/miami/2022/06...\n",
       "Name: description_link, dtype: object"
      ]
     },
     "execution_count": 82,
     "metadata": {},
     "output_type": "execute_result"
    }
   ],
   "source": [
    "df.description_link"
   ]
  },
  {
   "cell_type": "code",
   "execution_count": 83,
   "metadata": {},
   "outputs": [
    {
     "data": {
      "text/html": [
       "<div style=\"width:100%;\"><div style=\"position:relative;width:100%;height:0;padding-bottom:60%;\"><span style=\"color:#565656\">Make this Notebook Trusted to load map: File -> Trust Notebook</span><iframe srcdoc=\"&lt;!DOCTYPE html&gt;\n",
       "&lt;head&gt;    \n",
       "    &lt;meta http-equiv=&quot;content-type&quot; content=&quot;text/html; charset=UTF-8&quot; /&gt;\n",
       "    \n",
       "        &lt;script&gt;\n",
       "            L_NO_TOUCH = false;\n",
       "            L_DISABLE_3D = false;\n",
       "        &lt;/script&gt;\n",
       "    \n",
       "    &lt;style&gt;html, body {width: 100%;height: 100%;margin: 0;padding: 0;}&lt;/style&gt;\n",
       "    &lt;style&gt;#map {position:absolute;top:0;bottom:0;right:0;left:0;}&lt;/style&gt;\n",
       "    &lt;script src=&quot;https://cdn.jsdelivr.net/npm/leaflet@1.6.0/dist/leaflet.js&quot;&gt;&lt;/script&gt;\n",
       "    &lt;script src=&quot;https://code.jquery.com/jquery-1.12.4.min.js&quot;&gt;&lt;/script&gt;\n",
       "    &lt;script src=&quot;https://maxcdn.bootstrapcdn.com/bootstrap/3.2.0/js/bootstrap.min.js&quot;&gt;&lt;/script&gt;\n",
       "    &lt;script src=&quot;https://cdnjs.cloudflare.com/ajax/libs/Leaflet.awesome-markers/2.0.2/leaflet.awesome-markers.js&quot;&gt;&lt;/script&gt;\n",
       "    &lt;link rel=&quot;stylesheet&quot; href=&quot;https://cdn.jsdelivr.net/npm/leaflet@1.6.0/dist/leaflet.css&quot;/&gt;\n",
       "    &lt;link rel=&quot;stylesheet&quot; href=&quot;https://maxcdn.bootstrapcdn.com/bootstrap/3.2.0/css/bootstrap.min.css&quot;/&gt;\n",
       "    &lt;link rel=&quot;stylesheet&quot; href=&quot;https://maxcdn.bootstrapcdn.com/bootstrap/3.2.0/css/bootstrap-theme.min.css&quot;/&gt;\n",
       "    &lt;link rel=&quot;stylesheet&quot; href=&quot;https://maxcdn.bootstrapcdn.com/font-awesome/4.6.3/css/font-awesome.min.css&quot;/&gt;\n",
       "    &lt;link rel=&quot;stylesheet&quot; href=&quot;https://cdnjs.cloudflare.com/ajax/libs/Leaflet.awesome-markers/2.0.2/leaflet.awesome-markers.css&quot;/&gt;\n",
       "    &lt;link rel=&quot;stylesheet&quot; href=&quot;https://cdn.jsdelivr.net/gh/python-visualization/folium/folium/templates/leaflet.awesome.rotate.min.css&quot;/&gt;\n",
       "    \n",
       "            &lt;meta name=&quot;viewport&quot; content=&quot;width=device-width,\n",
       "                initial-scale=1.0, maximum-scale=1.0, user-scalable=no&quot; /&gt;\n",
       "            &lt;style&gt;\n",
       "                #map_9926493c3073b2e077cd60260845575b {\n",
       "                    position: relative;\n",
       "                    width: 100.0%;\n",
       "                    height: 100.0%;\n",
       "                    left: 0.0%;\n",
       "                    top: 0.0%;\n",
       "                }\n",
       "            &lt;/style&gt;\n",
       "        \n",
       "&lt;/head&gt;\n",
       "&lt;body&gt;    \n",
       "    \n",
       "              &lt;h3 align=&quot;center&quot; style=&quot;font-size:16px&quot;&gt;&lt;b&gt;Top Palm Beach County Sales of the Year To-Date&lt;/b&gt;&lt;/h3&gt;\n",
       "             \n",
       "    \n",
       "            &lt;div class=&quot;folium-map&quot; id=&quot;map_9926493c3073b2e077cd60260845575b&quot; &gt;&lt;/div&gt;\n",
       "        \n",
       "&lt;/body&gt;\n",
       "&lt;script&gt;    \n",
       "    \n",
       "            var map_9926493c3073b2e077cd60260845575b = L.map(\n",
       "                &quot;map_9926493c3073b2e077cd60260845575b&quot;,\n",
       "                {\n",
       "                    center: [26.711156319999997, -80.0383852],\n",
       "                    crs: L.CRS.EPSG3857,\n",
       "                    zoom: 11,\n",
       "                    zoomControl: true,\n",
       "                    preferCanvas: false,\n",
       "                }\n",
       "            );\n",
       "\n",
       "            \n",
       "\n",
       "        \n",
       "    \n",
       "            var tile_layer_1a495ed47448fb722c62f0e4b53579bd = L.tileLayer(\n",
       "                &quot;https://{s}.tile.openstreetmap.org/{z}/{x}/{y}.png&quot;,\n",
       "                {&quot;attribution&quot;: &quot;Data by \\u0026copy; \\u003ca href=\\&quot;http://openstreetmap.org\\&quot;\\u003eOpenStreetMap\\u003c/a\\u003e, under \\u003ca href=\\&quot;http://www.openstreetmap.org/copyright\\&quot;\\u003eODbL\\u003c/a\\u003e.&quot;, &quot;detectRetina&quot;: false, &quot;maxNativeZoom&quot;: 18, &quot;maxZoom&quot;: 18, &quot;minZoom&quot;: 0, &quot;noWrap&quot;: false, &quot;opacity&quot;: 1, &quot;subdomains&quot;: &quot;abc&quot;, &quot;tms&quot;: false}\n",
       "            ).addTo(map_9926493c3073b2e077cd60260845575b);\n",
       "        \n",
       "    \n",
       "            var marker_be68a1d1c7c54bddb1e9cf1085d41b81 = L.marker(\n",
       "                [26.6437781, -80.03794859999999],\n",
       "                {}\n",
       "            ).addTo(map_9926493c3073b2e077cd60260845575b);\n",
       "        \n",
       "    \n",
       "        var popup_3efd306a2f6e3af0ee1c143150720fff = L.popup({&quot;maxWidth&quot;: &quot;100%&quot;});\n",
       "\n",
       "        \n",
       "            var html_52b583c9fe914573f6762cac3c7aef38 = $(`&lt;div id=&quot;html_52b583c9fe914573f6762cac3c7aef38&quot; style=&quot;width: 100.0%; height: 100.0%;&quot;&gt;&lt;!DOCTYPE html&gt;     &lt;html&gt;     &lt;img src=https://s13.therealdeal.com/trd/m/up/2022/06/main-Manalapan-compound-poised-to-sell-for-Florida-record-175M-705x440.jpg width=&quot;256&quot; height=&quot;156&quot;&gt;&lt;br&gt;______________________________________&lt;br&gt;     Address: &lt;em&gt;2000 South Ocean Boulevard&lt;/em&gt;&lt;br&gt;     &lt;strong&gt;&lt;a href=&quot;https://therealdeal.com/miami/2022/06/16/manalapan-compound-poised-to-sell-for-florida-record-175m/&quot;&gt;The sale of this&lt;/a&gt; 16-acre estate sets a new record for home sales in the entire state of Florida. The previous record for a home in Palm Beach was the spec home that fetched $122.7 million in 2021. &lt;/strong&gt;&lt;/html&gt;     &lt;/div&gt;`)[0];\n",
       "            popup_3efd306a2f6e3af0ee1c143150720fff.setContent(html_52b583c9fe914573f6762cac3c7aef38);\n",
       "        \n",
       "\n",
       "        marker_be68a1d1c7c54bddb1e9cf1085d41b81.bindPopup(popup_3efd306a2f6e3af0ee1c143150720fff)\n",
       "        ;\n",
       "\n",
       "        \n",
       "    \n",
       "    \n",
       "            var marker_5c565f6e136f3296d228a4630ea4caa7 = L.marker(\n",
       "                [26.746267, -80.0355469],\n",
       "                {}\n",
       "            ).addTo(map_9926493c3073b2e077cd60260845575b);\n",
       "        \n",
       "    \n",
       "        var popup_f37f3d32fea63646cf027c6cec676936 = L.popup({&quot;maxWidth&quot;: &quot;100%&quot;});\n",
       "\n",
       "        \n",
       "            var html_458ae51f78dfb18a3d4ab2e7b00803c2 = $(`&lt;div id=&quot;html_458ae51f78dfb18a3d4ab2e7b00803c2&quot; style=&quot;width: 100.0%; height: 100.0%;&quot;&gt;&lt;!DOCTYPE html&gt;     &lt;html&gt;     &lt;img src=https://s12.therealdeal.com/trd/m/up/2022/06/Oceanfront-Palm-Beach-estate-flips-for-86M-in-nine-months-705x466.jpg width=&quot;256&quot; height=&quot;156&quot;&gt;&lt;br&gt;______________________________________&lt;br&gt;     Address: &lt;em&gt;901 North Ocean Boulevard&lt;/em&gt;&lt;br&gt;     &lt;strong&gt;&lt;a href=&quot;https://therealdeal.com/miami/2022/06/13/oceanfront-palm-beach-estate-flips-for-86m-in-nine-months/&quot;&gt;This 18,000-square-&lt;/a&gt;foot oceanfront mansion sold for $86 million in June, just nine months after selling for $64 million. &lt;/strong&gt;&lt;/html&gt;     &lt;/div&gt;`)[0];\n",
       "            popup_f37f3d32fea63646cf027c6cec676936.setContent(html_458ae51f78dfb18a3d4ab2e7b00803c2);\n",
       "        \n",
       "\n",
       "        marker_5c565f6e136f3296d228a4630ea4caa7.bindPopup(popup_f37f3d32fea63646cf027c6cec676936)\n",
       "        ;\n",
       "\n",
       "        \n",
       "    \n",
       "    \n",
       "            var marker_37ead266abcccc116e1cd73b8479d72a = L.marker(\n",
       "                [26.6911803, -80.03419319999999],\n",
       "                {}\n",
       "            ).addTo(map_9926493c3073b2e077cd60260845575b);\n",
       "        \n",
       "    \n",
       "        var popup_b9d156e4c87dcd3139f41b90ce410009 = L.popup({&quot;maxWidth&quot;: &quot;100%&quot;});\n",
       "\n",
       "        \n",
       "            var html_a2ee93ed49c10afb31580f2ded7b502d = $(`&lt;div id=&quot;html_a2ee93ed49c10afb31580f2ded7b502d&quot; style=&quot;width: 100.0%; height: 100.0%;&quot;&gt;&lt;!DOCTYPE html&gt;     &lt;html&gt;     &lt;img src=https://s13.therealdeal.com/trd/m/up/2022/05/Main_ivana-mansion-705x439.jpg width=&quot;256&quot; height=&quot;156&quot;&gt;&lt;br&gt;______________________________________&lt;br&gt;     Address: &lt;em&gt;102 Jungle Road&lt;/em&gt;&lt;br&gt;     &lt;strong&gt;&lt;a href=&quot;https://therealdeal.com/miami/2022/05/12/ivana-trumps-former-palm-beach-mansion-sells-for-73m/&quot;&gt;This 12,352-square-&lt;/a&gt;foot waterfront mansion fetched the third highest sale price for the year to date in Palm Beach County. Once belonging to Ivana Trump, the couple that sold the property won the Robert I. Ballinger Award for the restoration of the historic home in 2019.&lt;/strong&gt;&lt;/html&gt;     &lt;/div&gt;`)[0];\n",
       "            popup_b9d156e4c87dcd3139f41b90ce410009.setContent(html_a2ee93ed49c10afb31580f2ded7b502d);\n",
       "        \n",
       "\n",
       "        marker_37ead266abcccc116e1cd73b8479d72a.bindPopup(popup_b9d156e4c87dcd3139f41b90ce410009)\n",
       "        ;\n",
       "\n",
       "        \n",
       "    \n",
       "    \n",
       "            var marker_0e24d16c2a89d15d5f4226579e82ce9d = L.marker(\n",
       "                [26.685873, -80.0371189],\n",
       "                {}\n",
       "            ).addTo(map_9926493c3073b2e077cd60260845575b);\n",
       "        \n",
       "    \n",
       "        var popup_db69456cf548895db91ef92ae2f70a5d = L.popup({&quot;maxWidth&quot;: &quot;100%&quot;});\n",
       "\n",
       "        \n",
       "            var html_baa9161b39c2793e631b1b9314bb5e2e = $(`&lt;div id=&quot;html_baa9161b39c2793e631b1b9314bb5e2e&quot; style=&quot;width: 100.0%; height: 100.0%;&quot;&gt;&lt;!DOCTYPE html&gt;     &lt;html&gt;     &lt;img src=https://s14.therealdeal.com/trd/m/up/2022/02/main-Todd-Glaser-partners-buy-waterfront-Palm-Beach-mansion-with-plans-to-re-list-it-for-115M-705x439.jpg width=&quot;256&quot; height=&quot;156&quot;&gt;&lt;br&gt;______________________________________&lt;br&gt;     Address: &lt;em&gt;854 South Country Road&lt;/em&gt;&lt;br&gt;     &lt;strong&gt;&lt;a href=&quot;https://therealdeal.com/miami/2022/02/25/todd-glaser-partners-buy-waterfront-palm-beach-mansion-with-plans-to-re-list-it-for-115m/&quot;&gt;Spec home developer&lt;/a&gt; Todd Michael Glaser and his partners paid $53 million for this waterfront mansion with plans to renovate and expand the estate. The sellers, Joel and Darcie Kassewitz own the Tampa Bay Buccaneers and Manchester United and paid $20.5 million for the property in 2010.&lt;/strong&gt;&lt;/html&gt;     &lt;/div&gt;`)[0];\n",
       "            popup_db69456cf548895db91ef92ae2f70a5d.setContent(html_baa9161b39c2793e631b1b9314bb5e2e);\n",
       "        \n",
       "\n",
       "        marker_0e24d16c2a89d15d5f4226579e82ce9d.bindPopup(popup_db69456cf548895db91ef92ae2f70a5d)\n",
       "        ;\n",
       "\n",
       "        \n",
       "    \n",
       "    \n",
       "            var marker_970caf810b93e73677761a8f90638c69 = L.marker(\n",
       "                [26.6798966, -80.03604910000001],\n",
       "                {}\n",
       "            ).addTo(map_9926493c3073b2e077cd60260845575b);\n",
       "        \n",
       "    \n",
       "        var popup_c80d1f9405c5bf52854e721e87240af6 = L.popup({&quot;maxWidth&quot;: &quot;100%&quot;});\n",
       "\n",
       "        \n",
       "            var html_70f792611bc4a20bafd12b6b2ec4ab51 = $(`&lt;div id=&quot;html_70f792611bc4a20bafd12b6b2ec4ab51&quot; style=&quot;width: 100.0%; height: 100.0%;&quot;&gt;&lt;!DOCTYPE html&gt;     &lt;html&gt;     &lt;img src=https://s12.therealdeal.com/trd/m/up/2022/04/main-Non-waterfront-Palm-Beach-spec-home-on-Billionaires-Row-trades-for-48.5M-705x439.jpg width=&quot;256&quot; height=&quot;156&quot;&gt;&lt;br&gt;______________________________________&lt;br&gt;     Address: &lt;em&gt;1030 South Ocean Boulevard&lt;/em&gt;&lt;br&gt;     &lt;strong&gt;&lt;a href=&quot;https://therealdeal.com/miami/2022/04/12/non-waterfront-palm-beach-spec-home-on-billionaires-row-trades-for-48-5m/&quot;&gt;This eight-bedroom,&lt;/a&gt; ten-bathroom spec mansion on Billionaire&#x27;s Row stands out as the priciest non-waterfront property to place among the top Palm Beach sales of 2022. The property traded for just $7.6 million in 2018.&lt;/strong&gt;&lt;/html&gt;     &lt;/div&gt;`)[0];\n",
       "            popup_c80d1f9405c5bf52854e721e87240af6.setContent(html_70f792611bc4a20bafd12b6b2ec4ab51);\n",
       "        \n",
       "\n",
       "        marker_970caf810b93e73677761a8f90638c69.bindPopup(popup_c80d1f9405c5bf52854e721e87240af6)\n",
       "        ;\n",
       "\n",
       "        \n",
       "    \n",
       "    \n",
       "            var marker_ea4f90192a9c56a253c121e35d72c189 = L.marker(\n",
       "                [26.6933334, -80.04340669999999],\n",
       "                {}\n",
       "            ).addTo(map_9926493c3073b2e077cd60260845575b);\n",
       "        \n",
       "    \n",
       "        var popup_9db45eef55f1b6a5794ca375fea3bc0a = L.popup({&quot;maxWidth&quot;: &quot;100%&quot;});\n",
       "\n",
       "        \n",
       "            var html_01681847c6ae7a3d5fba08327ca5d2f4 = $(`&lt;div id=&quot;html_01681847c6ae7a3d5fba08327ca5d2f4&quot; style=&quot;width: 100.0%; height: 100.0%;&quot;&gt;&lt;!DOCTYPE html&gt;     &lt;html&gt;     &lt;img src=https://s14.therealdeal.com/trd/m/up/2022/06/main_MIA_Walker-Palm-Beach-705x439.jpg width=&quot;256&quot; height=&quot;156&quot;&gt;&lt;br&gt;______________________________________&lt;br&gt;     Address: &lt;em&gt;662 Island Drive&lt;/em&gt;&lt;br&gt;     &lt;strong&gt;&lt;a href=&quot;https://therealdeal.com/miami/2022/06/17/trust-linked-to-motorola-heirs-buys-palm-beach-estate-for-46m/&quot;&gt;This waterfront&lt;/a&gt; estate traded hands off-market between a retired financier and a trust linked to the heirs of Motorola founder Paul Galvin. The 9,600-square-foot property last sold for $19 million in 2015.&lt;/strong&gt;&lt;/html&gt;     &lt;/div&gt;`)[0];\n",
       "            popup_9db45eef55f1b6a5794ca375fea3bc0a.setContent(html_01681847c6ae7a3d5fba08327ca5d2f4);\n",
       "        \n",
       "\n",
       "        marker_ea4f90192a9c56a253c121e35d72c189.bindPopup(popup_9db45eef55f1b6a5794ca375fea3bc0a)\n",
       "        ;\n",
       "\n",
       "        \n",
       "    \n",
       "    \n",
       "            var marker_ccffc499c2c0916fec2c5b1b514d6c75 = L.marker(\n",
       "                [26.7608434, -80.0406995],\n",
       "                {}\n",
       "            ).addTo(map_9926493c3073b2e077cd60260845575b);\n",
       "        \n",
       "    \n",
       "        var popup_0ec911abe107a08c6db9011daf2725ee = L.popup({&quot;maxWidth&quot;: &quot;100%&quot;});\n",
       "\n",
       "        \n",
       "            var html_5847e961330f22909f643953ba7a138c = $(`&lt;div id=&quot;html_5847e961330f22909f643953ba7a138c&quot; style=&quot;width: 100.0%; height: 100.0%;&quot;&gt;&lt;!DOCTYPE html&gt;     &lt;html&gt;     &lt;img src=https://s11.therealdeal.com/trd/m/up/2022/03/Royal-Real-Estate-Jordanian-Princess-sells-waterfront-Palm-Beach-mansion-705x431.jpg width=&quot;256&quot; height=&quot;156&quot;&gt;&lt;br&gt;______________________________________&lt;br&gt;     Address: &lt;em&gt;1330 North Lake Way&lt;/em&gt;&lt;br&gt;     &lt;strong&gt;&lt;a href=&quot;https://therealdeal.com/miami/2022/03/21/royal-real-estate-jordanian-princess-sells-waterfront-palm-beach-home-for-45m/&quot;&gt;Jordanian princess&lt;/a&gt; Alia Bing Hussein sold her waterfront home for $45.4 million. With 7,048 square feet, the house fetched $6,442 per square foot.&lt;/strong&gt;&lt;/html&gt;     &lt;/div&gt;`)[0];\n",
       "            popup_0ec911abe107a08c6db9011daf2725ee.setContent(html_5847e961330f22909f643953ba7a138c);\n",
       "        \n",
       "\n",
       "        marker_ccffc499c2c0916fec2c5b1b514d6c75.bindPopup(popup_0ec911abe107a08c6db9011daf2725ee)\n",
       "        ;\n",
       "\n",
       "        \n",
       "    \n",
       "    \n",
       "            var marker_ebeeae34dd761572bdac45e9e69d1586 = L.marker(\n",
       "                [26.6996914, -80.0369661],\n",
       "                {}\n",
       "            ).addTo(map_9926493c3073b2e077cd60260845575b);\n",
       "        \n",
       "    \n",
       "        var popup_c8238b80689d47f1b434e05d5e1a8bd8 = L.popup({&quot;maxWidth&quot;: &quot;100%&quot;});\n",
       "\n",
       "        \n",
       "            var html_e2956e9371d1e8617fb639b97e7ba5e4 = $(`&lt;div id=&quot;html_e2956e9371d1e8617fb639b97e7ba5e4&quot; style=&quot;width: 100.0%; height: 100.0%;&quot;&gt;&lt;!DOCTYPE html&gt;     &lt;html&gt;     &lt;img src=https://s13.therealdeal.com/trd/m/up/2022/03/main-MIA-Fiji-water-palm-beach-705x439.jpg width=&quot;256&quot; height=&quot;156&quot;&gt;&lt;br&gt;______________________________________&lt;br&gt;     Address: &lt;em&gt;5 Golfview Road&lt;/em&gt;&lt;br&gt;     &lt;strong&gt;&lt;a href=&quot;https://therealdeal.com/miami/2022/03/04/fiji-water-founder-quenched-his-thirst-with-45m-sale-of-palm-beach-mansion/&quot;&gt;Fiji Water founder&lt;/a&gt; David Gilmour and his wife Jillian paid $3.8 million in 1997 for the Palm Beach home they sold in March. Selling for $5,654 per square foot, it was the second-highest grossing non-waterfront deal in the county this year.  &lt;/strong&gt;&lt;/html&gt;     &lt;/div&gt;`)[0];\n",
       "            popup_c8238b80689d47f1b434e05d5e1a8bd8.setContent(html_e2956e9371d1e8617fb639b97e7ba5e4);\n",
       "        \n",
       "\n",
       "        marker_ebeeae34dd761572bdac45e9e69d1586.bindPopup(popup_c8238b80689d47f1b434e05d5e1a8bd8)\n",
       "        ;\n",
       "\n",
       "        \n",
       "    \n",
       "    \n",
       "            var marker_84b4bc169fbfd37f9cc7cbaec97cf473 = L.marker(\n",
       "                [26.7604729, -80.0406122],\n",
       "                {}\n",
       "            ).addTo(map_9926493c3073b2e077cd60260845575b);\n",
       "        \n",
       "    \n",
       "        var popup_6df35a78521ec05593a42171388d85e8 = L.popup({&quot;maxWidth&quot;: &quot;100%&quot;});\n",
       "\n",
       "        \n",
       "            var html_20f34ac5e7acef1143826ea411f65986 = $(`&lt;div id=&quot;html_20f34ac5e7acef1143826ea411f65986&quot; style=&quot;width: 100.0%; height: 100.0%;&quot;&gt;&lt;!DOCTYPE html&gt;     &lt;html&gt;     &lt;img src=https://s13.therealdeal.com/trd/m/up/2022/05/MIA-Todd-Glaser-flips-two-waterfront-Palm-Beach-estates-for-70M-MAIN-705x439.jpg width=&quot;256&quot; height=&quot;156&quot;&gt;&lt;br&gt;______________________________________&lt;br&gt;     Address: &lt;em&gt;1320 North Lake Way&lt;/em&gt;&lt;br&gt;     &lt;strong&gt;&lt;a href=&quot;https://therealdeal.com/miami/2022/05/13/todd-glaser-partners-flip-two-waterfront-palm-beach-estates-for-70m/&quot;&gt;Spec home developer&lt;/a&gt; Todd Michael Glaser&#x27;s second appearance on the top Palm Beach sales of 2022 is with this North Lake Way property. The waterfront home sold for $7,086 per-square-foot, flipping for an $11 million profit.&lt;/strong&gt;&lt;/html&gt;     &lt;/div&gt;`)[0];\n",
       "            popup_6df35a78521ec05593a42171388d85e8.setContent(html_20f34ac5e7acef1143826ea411f65986);\n",
       "        \n",
       "\n",
       "        marker_84b4bc169fbfd37f9cc7cbaec97cf473.bindPopup(popup_6df35a78521ec05593a42171388d85e8)\n",
       "        ;\n",
       "\n",
       "        \n",
       "    \n",
       "    \n",
       "            var marker_f78ca9838a4f4b076d266b6b123b9c9c = L.marker(\n",
       "                [26.7502271, -80.04131079999999],\n",
       "                {}\n",
       "            ).addTo(map_9926493c3073b2e077cd60260845575b);\n",
       "        \n",
       "    \n",
       "        var popup_6474c54a31bff2916eaf382ab6ae36c5 = L.popup({&quot;maxWidth&quot;: &quot;100%&quot;});\n",
       "\n",
       "        \n",
       "            var html_073be5bfd619755eef522889864e7f6c = $(`&lt;div id=&quot;html_073be5bfd619755eef522889864e7f6c&quot; style=&quot;width: 100.0%; height: 100.0%;&quot;&gt;&lt;!DOCTYPE html&gt;     &lt;html&gt;     &lt;img src=https://s14.therealdeal.com/trd/m/up/2022/06/Main_beach-house-705x439.jpg width=&quot;256&quot; height=&quot;156&quot;&gt;&lt;br&gt;______________________________________&lt;br&gt;     Address: &lt;em&gt;1020 North Lake Way&lt;/em&gt;&lt;br&gt;     &lt;strong&gt;&lt;a href=&quot;https://therealdeal.com/miami/2022/06/09/safariland-ceo-criticized-for-selling-tear-gas-flips-palm-beach-home-for-40m/&quot;&gt;This waterfront Palm&lt;/a&gt; Beach estate flipped for 57 percent over its 2021 sale price in just a year. The seller, Safariland CEO Warren Kanders, was ousted from his position on the board of the Whitney Museum of Modern Art when artists protested his company&#x27;s sale of pepper spray.&lt;/strong&gt;&lt;/html&gt;     &lt;/div&gt;`)[0];\n",
       "            popup_6474c54a31bff2916eaf382ab6ae36c5.setContent(html_073be5bfd619755eef522889864e7f6c);\n",
       "        \n",
       "\n",
       "        marker_f78ca9838a4f4b076d266b6b123b9c9c.bindPopup(popup_6474c54a31bff2916eaf382ab6ae36c5)\n",
       "        ;\n",
       "\n",
       "        \n",
       "    \n",
       "    \n",
       "            map_9926493c3073b2e077cd60260845575b.fitBounds(\n",
       "                [26.711156319999997, -80.0383852],\n",
       "                {&quot;maxZoom&quot;: 15}\n",
       "            );\n",
       "        \n",
       "&lt;/script&gt;\" style=\"position:absolute;width:100%;height:100%;left:0;top:0;border:none !important;\" allowfullscreen webkitallowfullscreen mozallowfullscreen></iframe></div></div>"
      ],
      "text/plain": [
       "<folium.folium.Map at 0x107ceb370>"
      ]
     },
     "execution_count": 83,
     "metadata": {},
     "output_type": "execute_result"
    }
   ],
   "source": [
    "import folium\n",
    "import branca\n",
    "\n",
    "f = folium.Figure(width=750, height=750)\n",
    "m = folium.Map(location=df[[\"lat\", \"lon\"]].mean().to_list(),zoom_start=11)\n",
    "\n",
    "title_html = '''\n",
    "              <h3 align=\"center\" style=\"font-size:16px\"><b>{}</b></h3>\n",
    "             '''.format(f'Top Palm Beach County Sales of the Year To-Date')\n",
    "\n",
    "for i in range(0,len(df)):\n",
    "    html = popup_html(i)\n",
    "    iframe = branca.element.IFrame(html=html)\n",
    "    popup = folium.Popup(folium.Html(html, script=True))\n",
    "    folium.Marker([df['lat'].iloc[i],df['lon'].iloc[i]],\n",
    "                 popup=popup).add_to(m)\n",
    "\n",
    "m.get_root().html.add_child(folium.Element(title_html))\n",
    "m.fit_bounds(bounds=df[['lat','lon']].mean().to_list(),max_zoom=15)\n",
    "# m.add_to(f)\n",
    "m"
   ]
  },
  {
   "cell_type": "code",
   "execution_count": 84,
   "metadata": {},
   "outputs": [],
   "source": [
    "m.save('index.html')"
   ]
  },
  {
   "cell_type": "markdown",
   "metadata": {},
   "source": [
    "## Map URL snagger"
   ]
  },
  {
   "cell_type": "markdown",
   "metadata": {},
   "source": [
    "Map template URL: `https://trd-digital.github.io/trd-news-interactive-maps/{map-folder-name}`"
   ]
  },
  {
   "cell_type": "code",
   "execution_count": 85,
   "metadata": {},
   "outputs": [],
   "source": [
    "base_name = 'https://trd-digital.github.io/trd-news-interactive-maps/'"
   ]
  },
  {
   "cell_type": "code",
   "execution_count": 86,
   "metadata": {},
   "outputs": [
    {
     "name": "stdout",
     "output_type": "stream",
     "text": [
      "https://trd-digital.github.io/trd-news-interactive-maps/kates_palmBeach_map\n"
     ]
    }
   ],
   "source": [
    "cwd = os.getcwd()\n",
    "\n",
    "cwd = cwd.split('/')\n",
    "\n",
    "final_name = base_name  + cwd[-1]\n",
    "print(final_name)"
   ]
  }
 ],
 "metadata": {
  "kernelspec": {
   "display_name": "Python 3 (ipykernel)",
   "language": "python",
   "name": "python3"
  },
  "language_info": {
   "codemirror_mode": {
    "name": "ipython",
    "version": 3
   },
   "file_extension": ".py",
   "mimetype": "text/x-python",
   "name": "python",
   "nbconvert_exporter": "python",
   "pygments_lexer": "ipython3",
   "version": "3.10.3"
  },
  "toc": {
   "base_numbering": 1,
   "nav_menu": {},
   "number_sections": true,
   "sideBar": true,
   "skip_h1_title": false,
   "title_cell": "Table of Contents",
   "title_sidebar": "Contents",
   "toc_cell": false,
   "toc_position": {},
   "toc_section_display": true,
   "toc_window_display": false
  }
 },
 "nbformat": 4,
 "nbformat_minor": 4
}
