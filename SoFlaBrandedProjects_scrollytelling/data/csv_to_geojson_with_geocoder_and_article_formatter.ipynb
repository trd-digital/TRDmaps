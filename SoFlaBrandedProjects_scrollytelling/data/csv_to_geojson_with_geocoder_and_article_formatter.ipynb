{
 "cells": [
  {
   "cell_type": "code",
   "execution_count": 16,
   "id": "d0817064",
   "metadata": {},
   "outputs": [],
   "source": [
    "import os\n",
    "import pandas as pd\n",
    "from pandas_geojson import to_geojson, write_geojson\n",
    "from geopy.geocoders import GoogleV3\n",
    "import geocoder\n",
    "import json\n",
    "from textwrap import shorten"
   ]
  },
  {
   "cell_type": "code",
   "execution_count": 17,
   "id": "1b2aeb95",
   "metadata": {},
   "outputs": [],
   "source": [
    "df = pd.read_csv('Branded_projects_map_template_popup_pin - Sheet1.csv')"
   ]
  },
  {
   "cell_type": "code",
   "execution_count": 18,
   "id": "77e47dab",
   "metadata": {},
   "outputs": [],
   "source": [
    "df = df.dropna(subset='full_address')\n",
    "df = df.fillna(value='tk')"
   ]
  },
  {
   "cell_type": "markdown",
   "id": "d4cca8e8",
   "metadata": {},
   "source": [
    "## Geocoder Setup"
   ]
  },
  {
   "cell_type": "code",
   "execution_count": 19,
   "id": "4de43308",
   "metadata": {},
   "outputs": [],
   "source": [
    "%store -r google_maps_API_Key\n",
    "geolocator = GoogleV3(api_key=google_maps_API_Key)"
   ]
  },
  {
   "cell_type": "code",
   "execution_count": 20,
   "id": "fb36231c",
   "metadata": {},
   "outputs": [],
   "source": [
    "df['geo_address'] = df['full_address']\n",
    "df['loc'] = df['geo_address'].apply(geolocator.geocode, timeout=10)\n",
    "df['point'] = df['loc'].apply(lambda loc: tuple(loc.point) if loc else None)\n",
    "df[['lat','lon','altitude']] = pd.DataFrame(df['point'].to_list(),index=df.index)"
   ]
  },
  {
   "cell_type": "markdown",
   "id": "eb143735",
   "metadata": {},
   "source": [
    "## Article Link Formatter"
   ]
  },
  {
   "cell_type": "code",
   "execution_count": 21,
   "id": "2c34889d",
   "metadata": {},
   "outputs": [
    {
     "data": {
      "text/plain": [
       "0     <a href=\"https://therealdeal.com/miami/2023/01...\n",
       "1     <a href=\"https://therealdeal.com/miami/2022/10...\n",
       "2     <a href=\"https://therealdeal.com/miami/2022/03...\n",
       "3     <a href=\"https://therealdeal.com/miami/2021/11...\n",
       "4     <a href=\"https://therealdeal.com/miami/2020/01...\n",
       "5     <a href=\"https://therealdeal.com/miami/2021/11...\n",
       "6     <a href=\"https://therealdeal.com/miami/2020/11...\n",
       "7     <a href=\"https://therealdeal.com/miami/2022/11...\n",
       "8     <a href=\"https://therealdeal.com/miami/2021/03...\n",
       "9     <a href=\"https://therealdeal.com/miami/2021/11...\n",
       "10    <a href=\"https://therealdeal.com/miami/2022/12...\n",
       "11    <a href=\"https://therealdeal.com/miami/2022/09...\n",
       "12    <a href=\"https://therealdeal.com/miami/2022/10...\n",
       "13    <a href=\"https://therealdeal.com/issues_articl...\n",
       "14    <a href=\"https://therealdeal.com/miami/2022/04...\n",
       "15    <a href=\"https://therealdeal.com/miami/2021/02...\n",
       "16    <a href=\"https://therealdeal.com/miami/2022/11...\n",
       "17    <a href=\"https://therealdeal.com/miami/2022/05...\n",
       "18    <a href=\"https://therealdeal.com/miami/2022/07...\n",
       "19    <a href=\"https://therealdeal.com/miami/2021/12...\n",
       "20    <a href=\"https://therealdeal.com/miami/tag/aub...\n",
       "21    <a href=\"https://therealdeal.com/miami/2022/05...\n",
       "22    <a href=\"https://therealdeal.com/miami/tag/mis...\n",
       "Name: description_link, dtype: object"
      ]
     },
     "execution_count": 21,
     "metadata": {},
     "output_type": "execute_result"
    }
   ],
   "source": [
    "df[\"short_description\"] = df[\"description\"].apply(lambda s: shorten(s, width=20, placeholder=\"\"))\n",
    "df['remaining_desc'] = df.apply(lambda row : row['description'].replace(str(row['short_description']), ''), axis=1)\n",
    "df['remaining_desc']\n",
    "\n",
    "df[\"description_link\"] = '<a href=\"' + df[\"story_link\"] + '\" target=\"_blank\" rel=\"noopener noreferrer\">' + df[\"short_description\"] + \"</a>\" + df[\"remaining_desc\"]\n",
    "df['description_link']"
   ]
  },
  {
   "cell_type": "markdown",
   "id": "8b94020e",
   "metadata": {},
   "source": [
    "## Write to GeoJSON"
   ]
  },
  {
   "cell_type": "code",
   "execution_count": 22,
   "id": "414f5c33",
   "metadata": {},
   "outputs": [],
   "source": [
    "geo_json = to_geojson(df=df, lat='lat', lon='lon',\n",
    "                     properties=['full_address','project_name','developers','brokerage','description_link','brand','story_link'])\n",
    "write_geojson(geo_json, filename='SoFla_branded_projects.geojson', indent=4)"
   ]
  },
  {
   "cell_type": "code",
   "execution_count": 23,
   "id": "8c2079fa",
   "metadata": {},
   "outputs": [],
   "source": [
    "base_name = 'https://trd-digital.github.io/trd-news-interactive-maps/SoFlaBrandedProjects_scrollytelling'"
   ]
  },
  {
   "cell_type": "code",
   "execution_count": 24,
   "id": "e6a4edac",
   "metadata": {},
   "outputs": [
    {
     "name": "stdout",
     "output_type": "stream",
     "text": [
      "https://trd-digital.github.io/trd-news-interactive-maps/SoFlaBrandedProjects_scrollytelling\n"
     ]
    }
   ],
   "source": [
    "print(base_name)"
   ]
  }
 ],
 "metadata": {
  "kernelspec": {
   "display_name": "Python 3 (ipykernel)",
   "language": "python",
   "name": "python3"
  },
  "language_info": {
   "codemirror_mode": {
    "name": "ipython",
    "version": 3
   },
   "file_extension": ".py",
   "mimetype": "text/x-python",
   "name": "python",
   "nbconvert_exporter": "python",
   "pygments_lexer": "ipython3",
   "version": "3.9.12"
  }
 },
 "nbformat": 4,
 "nbformat_minor": 5
}
