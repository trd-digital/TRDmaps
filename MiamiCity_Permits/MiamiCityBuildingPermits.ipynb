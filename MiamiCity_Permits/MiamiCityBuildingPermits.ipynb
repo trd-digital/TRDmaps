{
 "cells": [
  {
   "cell_type": "markdown",
   "id": "63b1f924",
   "metadata": {},
   "source": [
    "## Imports"
   ]
  },
  {
   "cell_type": "code",
   "execution_count": 1,
   "id": "ad7dbd99",
   "metadata": {},
   "outputs": [],
   "source": [
    "import pandas as pd\n",
    "import numpy as np"
   ]
  },
  {
   "cell_type": "markdown",
   "id": "6b30eaf6",
   "metadata": {},
   "source": [
    "## Notes:\n",
    "\n",
    "Data link: https://datahub-miamigis.opendata.arcgis.com/datasets/MiamiGIS::building-permits-since-2014/explore?location=25.782311%2C-80.231660%2C13.00\n",
    "\n",
    "Date Data pulled: 6.26.23"
   ]
  },
  {
   "cell_type": "markdown",
   "id": "5b6ad65a",
   "metadata": {},
   "source": [
    "## PD Set Options"
   ]
  },
  {
   "cell_type": "code",
   "execution_count": 2,
   "id": "b969b5ac",
   "metadata": {},
   "outputs": [],
   "source": [
    "pd.set_option('display.max_columns',None)"
   ]
  },
  {
   "cell_type": "markdown",
   "id": "5db1f2be",
   "metadata": {},
   "source": [
    "## Data read-in"
   ]
  },
  {
   "cell_type": "code",
   "execution_count": 3,
   "id": "38e0ea40",
   "metadata": {},
   "outputs": [],
   "source": [
    "df = pd.read_csv('Building_Permits_Since_2014.csv')"
   ]
  },
  {
   "cell_type": "markdown",
   "id": "984ace9d",
   "metadata": {},
   "source": [
    "## Clean & Filter Data"
   ]
  },
  {
   "cell_type": "code",
   "execution_count": 4,
   "id": "e7bf9266",
   "metadata": {},
   "outputs": [],
   "source": [
    "## Filter 'ScopeofWork' to:  REMODELING/REPARIS, NEW CONSTRUCTION, ADDITION AND REMODELING\n",
    "df_filtered = df[(df['ScopeofWork'] == 'REMODELING/REPAIRS') | (df['ScopeofWork'] == 'NEW CONSTRUCTION') | (df['ScopeofWork'] == 'ADDITION AND REMODELING')] "
   ]
  },
  {
   "cell_type": "code",
   "execution_count": 5,
   "id": "13c4b2d2",
   "metadata": {},
   "outputs": [],
   "source": [
    "## Remove expired permits \n",
    "df_filtered = df_filtered[df_filtered['BuildingPermitStatusDescription'] != 'Expired']"
   ]
  },
  {
   "cell_type": "markdown",
   "id": "8842d834",
   "metadata": {},
   "source": [
    "## Create 3, 5, 10, and all-time reports"
   ]
  },
  {
   "cell_type": "code",
   "execution_count": 6,
   "id": "c177108f",
   "metadata": {},
   "outputs": [],
   "source": [
    "# Convert \"PlanAcceptedDate\"\n",
    "df_filtered['PlanAcceptedDate'] = pd.to_datetime(df_filtered['PlanAcceptedDate'])"
   ]
  },
  {
   "cell_type": "markdown",
   "id": "3f687e95",
   "metadata": {},
   "source": [
    "### Create reports"
   ]
  },
  {
   "cell_type": "code",
   "execution_count": 7,
   "id": "62134f48",
   "metadata": {},
   "outputs": [],
   "source": [
    "df_three_years = df_filtered[df_filtered['PlanAcceptedDate'] > '2020-06-26']\n",
    "df_five_years = df_filtered[df_filtered['PlanAcceptedDate'] > '2018-06-26']\n",
    "df_ten_years = df_filtered[df_filtered['PlanAcceptedDate'] > '2013-06-26']"
   ]
  },
  {
   "cell_type": "code",
   "execution_count": 8,
   "id": "d7a0f17c",
   "metadata": {},
   "outputs": [],
   "source": [
    "df_three_years = df_three_years[df_three_years['BuildingPermitStatusDescription'] != 'Revoked']\n",
    "df_five_years = df_five_years[df_five_years['BuildingPermitStatusDescription'] != 'Revoked']\n",
    "df_ten_years = df_ten_years[df_ten_years['BuildingPermitStatusDescription'] != 'Revoked']\n",
    "df_filtered = df_filtered[df_filtered['BuildingPermitStatusDescription'] != 'Revoked']"
   ]
  },
  {
   "cell_type": "code",
   "execution_count": 9,
   "id": "5d94a3c7",
   "metadata": {},
   "outputs": [],
   "source": [
    "df_five_years.to_csv('Individual_permits_five_years.csv')"
   ]
  },
  {
   "cell_type": "markdown",
   "id": "25606ec6",
   "metadata": {},
   "source": [
    "## Analysis"
   ]
  },
  {
   "cell_type": "code",
   "execution_count": 10,
   "id": "62592745",
   "metadata": {},
   "outputs": [],
   "source": [
    "# pd.set_option('display.max_columns',None)\n",
    "# df_filtered[df_filtered['CompanyName'] == 'STILES MCHUGH LLC']"
   ]
  },
  {
   "cell_type": "code",
   "execution_count": 11,
   "id": "f8fc856b",
   "metadata": {},
   "outputs": [],
   "source": [
    "three_years_grouped = df_three_years.groupby('CompanyName')['TotalCost'].sum().sort_values(ascending=False)\n",
    "five_years_grouped = df_five_years.groupby('CompanyName')['TotalCost'].sum().sort_values(ascending=False)\n",
    "ten_years_grouped = df_ten_years.groupby('CompanyName')['TotalCost'].sum().sort_values(ascending=False)\n",
    "all_years_grouped = df_filtered.groupby('CompanyName')['TotalCost'].sum().sort_values(ascending=False)"
   ]
  },
  {
   "cell_type": "code",
   "execution_count": 12,
   "id": "d97cf7b3",
   "metadata": {},
   "outputs": [
    {
     "data": {
      "text/plain": [
       "Index(['X', 'Y', 'ID', 'AdditionSQFT', 'ApplicationNumber',\n",
       "       'BuildingFinalLastInspDate', 'BuildingFinalLastInspResult',\n",
       "       'BuildingPermitStatusDescription', 'BuildingPermitStatusReasonDescr',\n",
       "       'Certificatecode', 'Certificatedate', 'CompanyAddress', 'CompanyCity',\n",
       "       'CompanyName', 'CompanyZip', 'DaysInCity', 'DaysInCityNumeric',\n",
       "       'DeliveryAddress', 'FirstSubmissionDate', 'FolioNumber',\n",
       "       'IsPermitFinal', 'IsPrivateProvider', 'IssuedDate', 'Latitude',\n",
       "       'Longitude', 'Miami21Zone', 'NewAdditionCost', 'PermitNumber',\n",
       "       'PlanAcceptedDate', 'PlanCreatedDate', 'ProcessNumber', 'PropertyType',\n",
       "       'RemodelingCost', 'RemSQFT', 'RequiredCertificate', 'ScopeofWork',\n",
       "       'Statusdate', 'TotalCost', 'TotalDaysInPlanReview',\n",
       "       'TotalDaysInPlanReviewNumeric', 'TotalSQFT', 'WorkItems', 'ObjectId'],\n",
       "      dtype='object')"
      ]
     },
     "execution_count": 12,
     "metadata": {},
     "output_type": "execute_result"
    }
   ],
   "source": [
    "df_five_years.columns"
   ]
  },
  {
   "cell_type": "code",
   "execution_count": 13,
   "id": "d574b3c5",
   "metadata": {},
   "outputs": [],
   "source": [
    "x = df_five_years.groupby('CompanyName').agg({'TotalCost':'sum','CompanyName':'count','TotalSQFT':'sum'})"
   ]
  },
  {
   "cell_type": "code",
   "execution_count": 14,
   "id": "5975a0d9",
   "metadata": {},
   "outputs": [],
   "source": [
    "x.sort_values('TotalCost',ascending=False).to_csv('fives_years_totalCost_companyCounts_TotalSQFT.csv')"
   ]
  },
  {
   "cell_type": "code",
   "execution_count": 15,
   "id": "307bbb7e",
   "metadata": {},
   "outputs": [
    {
     "data": {
      "text/plain": [
       "29"
      ]
     },
     "execution_count": 15,
     "metadata": {},
     "output_type": "execute_result"
    }
   ],
   "source": [
    "len(df_five_years[df_five_years['CompanyName'] == 'COASTAL CONSTRUCTION OF MIAMI DADE COUNTY  INC. dba COASTAL CONSTRUCTION OF MIAMIDADE'])"
   ]
  },
  {
   "cell_type": "code",
   "execution_count": 16,
   "id": "a1efe20d",
   "metadata": {},
   "outputs": [],
   "source": [
    "three_years_grouped.to_csv('MiamiCityPermits_three_years.csv')\n",
    "five_years_grouped.to_csv('MiamiCityPermits_five_years.csv')\n",
    "ten_years_grouped.to_csv('MiamiCityPermits_ten_years.csv')\n",
    "all_years_grouped.to_csv('MiamiCityPermits_all_years.csv')"
   ]
  },
  {
   "cell_type": "markdown",
   "id": "34356641",
   "metadata": {},
   "source": [
    "## Create CSV files"
   ]
  },
  {
   "cell_type": "code",
   "execution_count": 17,
   "id": "c4f3b057",
   "metadata": {},
   "outputs": [],
   "source": [
    "five_years_grouped = five_years_grouped.to_frame()\n",
    "five_years_grouped = five_years_grouped.reset_index()\n",
    "five_years_grouped = five_years_grouped.head(30)\n",
    "top_25_list = five_years_grouped['CompanyName']"
   ]
  },
  {
   "cell_type": "code",
   "execution_count": 18,
   "id": "dadf6d4a",
   "metadata": {},
   "outputs": [],
   "source": [
    "# for company in top_25_list:\n",
    "#     x = df_five_years[df_five_years['CompanyName'] == company]\n",
    "#     x.to_csv(f'{company}.csv')"
   ]
  },
  {
   "cell_type": "code",
   "execution_count": 19,
   "id": "f1c34d67",
   "metadata": {},
   "outputs": [],
   "source": [
    "# df_five_years[df_five_years['CompanyName'] == 'CMC CONSTRUCTION COMPANY']"
   ]
  },
  {
   "cell_type": "code",
   "execution_count": 21,
   "id": "b174f8ee",
   "metadata": {},
   "outputs": [
    {
     "data": {
      "text/plain": [
       "247253135.0"
      ]
     },
     "execution_count": 21,
     "metadata": {},
     "output_type": "execute_result"
    }
   ],
   "source": [
    "df_five_years['TotalSQFT'].sum()"
   ]
  }
 ],
 "metadata": {
  "kernelspec": {
   "display_name": "Python 3 (ipykernel)",
   "language": "python",
   "name": "python3"
  },
  "language_info": {
   "codemirror_mode": {
    "name": "ipython",
    "version": 3
   },
   "file_extension": ".py",
   "mimetype": "text/x-python",
   "name": "python",
   "nbconvert_exporter": "python",
   "pygments_lexer": "ipython3",
   "version": "3.9.12"
  }
 },
 "nbformat": 4,
 "nbformat_minor": 5
}
