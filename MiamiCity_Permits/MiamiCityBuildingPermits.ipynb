{
 "cells": [
  {
   "cell_type": "markdown",
   "id": "63b1f924",
   "metadata": {},
   "source": [
    "## Imports"
   ]
  },
  {
   "cell_type": "code",
   "execution_count": 1,
   "id": "ad7dbd99",
   "metadata": {},
   "outputs": [],
   "source": [
    "import pandas as pd\n",
    "import numpy as np"
   ]
  },
  {
   "cell_type": "markdown",
   "id": "6b30eaf6",
   "metadata": {},
   "source": [
    "## Notes:\n",
    "\n",
    "Data link: https://datahub-miamigis.opendata.arcgis.com/datasets/MiamiGIS::building-permits-since-2014/explore?location=25.782311%2C-80.231660%2C13.00\n",
    "\n",
    "Date Data pulled: 6.26.23"
   ]
  },
  {
   "cell_type": "markdown",
   "id": "5db1f2be",
   "metadata": {},
   "source": [
    "## Data read-in"
   ]
  },
  {
   "cell_type": "code",
   "execution_count": 2,
   "id": "38e0ea40",
   "metadata": {},
   "outputs": [],
   "source": [
    "df = pd.read_csv('Building_Permits_Since_2014.csv')"
   ]
  },
  {
   "cell_type": "markdown",
   "id": "984ace9d",
   "metadata": {},
   "source": [
    "## Clean & Filter Data"
   ]
  },
  {
   "cell_type": "code",
   "execution_count": 8,
   "id": "e7bf9266",
   "metadata": {},
   "outputs": [],
   "source": [
    "## Filter 'ScopeofWork' to:  REMODELING/REPARIS, NEW CONSTRUCTION, ADDITION AND REMODELING\n",
    "df_filtered = df[(df['ScopeofWork'] == 'REMODELING/REPAIRS') | (df['ScopeofWork'] == 'NEW CONSTRUCTION') | (df['ScopeofWork'] == 'ADDITION AND REMODELING')] "
   ]
  },
  {
   "cell_type": "code",
   "execution_count": 11,
   "id": "13c4b2d2",
   "metadata": {},
   "outputs": [],
   "source": [
    "## Remove expired permits \n",
    "df_filtered = df_filtered[df_filtered['BuildingPermitStatusDescription'] != 'Expired']"
   ]
  },
  {
   "cell_type": "markdown",
   "id": "8842d834",
   "metadata": {},
   "source": [
    "## Create 3, 5, 10, and all-time reports"
   ]
  },
  {
   "cell_type": "code",
   "execution_count": 21,
   "id": "c177108f",
   "metadata": {},
   "outputs": [
    {
     "name": "stderr",
     "output_type": "stream",
     "text": [
      "/var/folders/rq/0_j_rksd7psgdycg9c1qwf6m0000gp/T/ipykernel_80407/2781691866.py:2: SettingWithCopyWarning: \n",
      "A value is trying to be set on a copy of a slice from a DataFrame.\n",
      "Try using .loc[row_indexer,col_indexer] = value instead\n",
      "\n",
      "See the caveats in the documentation: https://pandas.pydata.org/pandas-docs/stable/user_guide/indexing.html#returning-a-view-versus-a-copy\n",
      "  df_filtered['PlanAcceptedDate'] = pd.to_datetime(df_filtered['PlanAcceptedDate'])\n"
     ]
    }
   ],
   "source": [
    "# Convert \"PlanAcceptedDate\"\n",
    "df_filtered['PlanAcceptedDate'] = pd.to_datetime(df_filtered['PlanAcceptedDate'])"
   ]
  },
  {
   "cell_type": "markdown",
   "id": "3f687e95",
   "metadata": {},
   "source": [
    "### Create reports"
   ]
  },
  {
   "cell_type": "code",
   "execution_count": 24,
   "id": "62134f48",
   "metadata": {},
   "outputs": [],
   "source": [
    "df_three_years = df_filtered[df_filtered['PlanAcceptedDate'] > '2020-06-26']\n",
    "df_five_years = df_filtered[df_filtered['PlanAcceptedDate'] > '2018-06-26']\n",
    "df_ten_years = df_filtered[df_filtered['PlanAcceptedDate'] > '2013-06-26']"
   ]
  },
  {
   "cell_type": "markdown",
   "id": "25606ec6",
   "metadata": {},
   "source": [
    "## Analysis"
   ]
  },
  {
   "cell_type": "code",
   "execution_count": 56,
   "id": "62592745",
   "metadata": {},
   "outputs": [],
   "source": [
    "# pd.set_option('display.max_columns',None)\n",
    "# df_filtered[df_filtered['CompanyName'] == 'STILES MCHUGH LLC']"
   ]
  },
  {
   "cell_type": "code",
   "execution_count": 43,
   "id": "f8fc856b",
   "metadata": {},
   "outputs": [],
   "source": [
    "three_years_grouped = df_three_years.groupby('CompanyName')['TotalCost'].sum().sort_values(ascending=False)\n",
    "five_years_grouped = df_five_years.groupby('CompanyName')['TotalCost'].sum().sort_values(ascending=False)\n",
    "ten_years_grouped = df_ten_years.groupby('CompanyName')['TotalCost'].sum().sort_values(ascending=False)\n",
    "all_years_grouped = df_filtered.groupby('CompanyName')['TotalCost'].sum().sort_values(ascending=False)"
   ]
  },
  {
   "cell_type": "code",
   "execution_count": 51,
   "id": "a1efe20d",
   "metadata": {},
   "outputs": [],
   "source": [
    "three_years_grouped.to_csv('MiamiCityPermits_three_years.csv')\n",
    "five_years_grouped.to_csv('MiamiCityPermits_five_years.csv')\n",
    "ten_years_grouped.to_csv('MiamiCityPermits_ten_years.csv')\n",
    "all_years_grouped.to_csv('MiamiCityPermits_all_years.csv')"
   ]
  }
 ],
 "metadata": {
  "kernelspec": {
   "display_name": "Python 3 (ipykernel)",
   "language": "python",
   "name": "python3"
  },
  "language_info": {
   "codemirror_mode": {
    "name": "ipython",
    "version": 3
   },
   "file_extension": ".py",
   "mimetype": "text/x-python",
   "name": "python",
   "nbconvert_exporter": "python",
   "pygments_lexer": "ipython3",
   "version": "3.9.12"
  }
 },
 "nbformat": 4,
 "nbformat_minor": 5
}
