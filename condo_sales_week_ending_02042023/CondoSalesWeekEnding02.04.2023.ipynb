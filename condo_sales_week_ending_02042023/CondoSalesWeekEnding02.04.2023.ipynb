{
 "cells": [
  {
   "cell_type": "markdown",
   "metadata": {},
   "source": [
    "## Imports"
   ]
  },
  {
   "cell_type": "code",
   "execution_count": 5,
   "metadata": {},
   "outputs": [],
   "source": [
    "import googlemaps\n",
    "import pandas as pd\n",
    "import numpy as np\n",
    "import re\n",
    "import os\n",
    "import geopandas as gpd\n",
    "import folium\n",
    "import tabula"
   ]
  },
  {
   "cell_type": "markdown",
   "metadata": {},
   "source": [
    "## Read-in"
   ]
  },
  {
   "cell_type": "code",
   "execution_count": 6,
   "metadata": {},
   "outputs": [],
   "source": [
    "# Gotta figure out how to get rid of the java error.\n",
    "# SO: https://stackoverflow.com/questions/54817211/java-command-is-not-found-from-this-python-process-please-ensure-java-is-inst\n",
    "\n",
    "dsf = tabula.io.read_pdf('condo.pdf', pages='all',lattice=True)"
   ]
  },
  {
   "cell_type": "markdown",
   "metadata": {},
   "source": [
    "## Clean Data"
   ]
  },
  {
   "cell_type": "code",
   "execution_count": 7,
   "metadata": {},
   "outputs": [],
   "source": [
    "df = dsf[0]\n",
    "df.columns = df.iloc[0]\n",
    "df = df.drop(df.index[0])\n",
    "### This next line gets ride of the Nan ###\n",
    "df = df.iloc[: , 1:]\n",
    "df = df.replace(np.nan, 'Not Available', regex=True)\n",
    "df = df.rename(columns={'Building / Address / City': 'building_address_city','Days on\\rMarket':'days_on_market',\\\n",
    "                        'Price /\\rSq. Ft.':'price_per_sqft'})\n",
    "df['geo_address'] = df['building_address_city']\n",
    "df['geo_address'] = df['geo_address'].map(lambda x: re.sub(r'\\r', ' ', x))\n",
    "df = df.replace('\\n',' ',regex=True)\n",
    "df2 = df['geo_address'].str.extract(r'(?P<building_name>\\D*)(?P<address_only>\\d.*)', expand=True)"
   ]
  },
  {
   "cell_type": "markdown",
   "metadata": {},
   "source": [
    "Review this later (it's about how to properly merge DFs): https://pandas.pydata.org/pandas-docs/stable/user_guide/merging.html"
   ]
  },
  {
   "cell_type": "markdown",
   "metadata": {},
   "source": [
    "## Geocode"
   ]
  },
  {
   "cell_type": "code",
   "execution_count": 8,
   "metadata": {},
   "outputs": [],
   "source": [
    "result = pd.merge(df,df2,left_index=True, right_index=True)\n",
    "df = result"
   ]
  },
  {
   "cell_type": "code",
   "execution_count": 10,
   "metadata": {},
   "outputs": [],
   "source": [
    "%store -r google_maps_API_Key\n",
    "gmaps_key = googlemaps.Client(key=google_maps_API_Key)"
   ]
  },
  {
   "cell_type": "code",
   "execution_count": 13,
   "metadata": {},
   "outputs": [],
   "source": [
    "def geocode(add):\n",
    "    g = gmaps_key.geocode(add)\n",
    "    lat = g[0][\"geometry\"][\"location\"][\"lat\"]\n",
    "    lng = g[0][\"geometry\"][\"location\"][\"lng\"]\n",
    "    return (lat, lng)\n",
    "\n",
    "df['geocoded'] = df['geo_address'].apply(geocode)"
   ]
  },
  {
   "cell_type": "code",
   "execution_count": 16,
   "metadata": {},
   "outputs": [],
   "source": [
    "df['geocoded'] = df['geocoded'].astype(str)\n",
    "df[['lat', 'lon']] = df['geocoded'].str.strip('()').str.split(', ', expand=True)\n",
    "df['lat'] = df['lat'].astype(float)\n",
    "df['lon'] = df['lon'].astype(float)"
   ]
  },
  {
   "cell_type": "markdown",
   "metadata": {},
   "source": [
    "Folium documentation link: https://python-visualization.github.io/folium/index.html\n",
    "\n",
    "Folium is the library that lets us use leaflet with Python, since it's meant to be used with JavaScript.\n",
    "\n",
    "For adding titles: https://stackoverflow.com/questions/61928013/adding-a-title-or-text-to-a-folium-map"
   ]
  },
  {
   "cell_type": "markdown",
   "metadata": {},
   "source": [
    "## Correction section"
   ]
  },
  {
   "cell_type": "code",
   "execution_count": 20,
   "metadata": {},
   "outputs": [
    {
     "data": {
      "text/html": [
       "<div>\n",
       "<style scoped>\n",
       "    .dataframe tbody tr th:only-of-type {\n",
       "        vertical-align: middle;\n",
       "    }\n",
       "\n",
       "    .dataframe tbody tr th {\n",
       "        vertical-align: top;\n",
       "    }\n",
       "\n",
       "    .dataframe thead th {\n",
       "        text-align: right;\n",
       "    }\n",
       "</style>\n",
       "<table border=\"1\" class=\"dataframe\">\n",
       "  <thead>\n",
       "    <tr style=\"text-align: right;\">\n",
       "      <th></th>\n",
       "      <th>building_address_city</th>\n",
       "      <th>Close Date</th>\n",
       "      <th>days_on_market</th>\n",
       "      <th>Sale Price</th>\n",
       "      <th>Sq. Ft.</th>\n",
       "      <th>price_per_sqft</th>\n",
       "      <th>Agent</th>\n",
       "      <th>Listing Broker</th>\n",
       "      <th>Buyer Agent</th>\n",
       "      <th>Buyer Broker</th>\n",
       "      <th>geo_address</th>\n",
       "      <th>building_name</th>\n",
       "      <th>address_only</th>\n",
       "      <th>geocoded</th>\n",
       "      <th>lat</th>\n",
       "      <th>lon</th>\n",
       "    </tr>\n",
       "  </thead>\n",
       "  <tbody>\n",
       "    <tr>\n",
       "      <th>1</th>\n",
       "      <td>Continuum South Tower\\r100 S Pointe Dr 1206\\rM...</td>\n",
       "      <td>2/3/2023</td>\n",
       "      <td>95</td>\n",
       "      <td>$10,250,000.00</td>\n",
       "      <td>2508</td>\n",
       "      <td>$4,086.92</td>\n",
       "      <td>Bryan Sereny PA</td>\n",
       "      <td>Douglas Elliman</td>\n",
       "      <td>Matthew Wilkens</td>\n",
       "      <td>One Sotheby's Int'l Realty</td>\n",
       "      <td>Continuum South Tower 100 S Pointe Dr 1206 Mia...</td>\n",
       "      <td>Continuum South Tower</td>\n",
       "      <td>100 S Pointe Dr 1206 Miami Beach</td>\n",
       "      <td>(25.7672315, -80.1327611)</td>\n",
       "      <td>25.767232</td>\n",
       "      <td>-80.132761</td>\n",
       "    </tr>\n",
       "    <tr>\n",
       "      <th>2</th>\n",
       "      <td>Murano at Portofino\\r1000 S Pointe Dr 801\\rMia...</td>\n",
       "      <td>2/3/2023</td>\n",
       "      <td>128</td>\n",
       "      <td>$8,250,000.00</td>\n",
       "      <td>3365</td>\n",
       "      <td>$2,451.71</td>\n",
       "      <td>Pablo Alfaro PA</td>\n",
       "      <td>Douglas Elliman</td>\n",
       "      <td>Ekaterina Sizenova</td>\n",
       "      <td>Big International Realty, Inc.</td>\n",
       "      <td>Murano at Portofino 1000 S Pointe Dr 801 Miami...</td>\n",
       "      <td>Murano at Portofino</td>\n",
       "      <td>1000 S Pointe Dr 801 Miami Beach</td>\n",
       "      <td>(25.7685326, -80.13755619999999)</td>\n",
       "      <td>25.768533</td>\n",
       "      <td>-80.137556</td>\n",
       "    </tr>\n",
       "    <tr>\n",
       "      <th>3</th>\n",
       "      <td>Jade Ocean\\r17121 Collins Ave 4803\\rSunny Isle...</td>\n",
       "      <td>2/1/2023</td>\n",
       "      <td>48</td>\n",
       "      <td>$8,100,000.00</td>\n",
       "      <td>8332</td>\n",
       "      <td>$972.16</td>\n",
       "      <td>Anna Sherrill</td>\n",
       "      <td>One Sotheby's Int'l Realty</td>\n",
       "      <td>Nicolas Pollini PA</td>\n",
       "      <td>BHHS EWM Realty</td>\n",
       "      <td>Jade Ocean 17121 Collins Ave 4803 Sunny Isles ...</td>\n",
       "      <td>Jade Ocean</td>\n",
       "      <td>17121 Collins Ave 4803 Sunny Isles Beach</td>\n",
       "      <td>(25.9344014, -80.1210054)</td>\n",
       "      <td>25.934401</td>\n",
       "      <td>-80.121005</td>\n",
       "    </tr>\n",
       "    <tr>\n",
       "      <th>4</th>\n",
       "      <td>Jade Signature\\r16901 Collins Ave 4601\\rSunny ...</td>\n",
       "      <td>1/30/2023</td>\n",
       "      <td>387</td>\n",
       "      <td>$6,450,000.00</td>\n",
       "      <td>4361</td>\n",
       "      <td>$1,479.02</td>\n",
       "      <td>Diane Lieberman</td>\n",
       "      <td>One Sotheby's Int'l Realty</td>\n",
       "      <td>Wendy Cohen</td>\n",
       "      <td>One Sotheby's Int'l Realty</td>\n",
       "      <td>Jade Signature 16901 Collins Ave 4601 Sunny Is...</td>\n",
       "      <td>Jade Signature</td>\n",
       "      <td>16901 Collins Ave 4601 Sunny Isles Beach</td>\n",
       "      <td>(25.9327557, -80.1210054)</td>\n",
       "      <td>25.932756</td>\n",
       "      <td>-80.121005</td>\n",
       "    </tr>\n",
       "    <tr>\n",
       "      <th>5</th>\n",
       "      <td>Rise Condo\\r88 SW 7th St PH 4204\\rMiami</td>\n",
       "      <td>2/2/2023</td>\n",
       "      <td>17</td>\n",
       "      <td>$6,400,000.00</td>\n",
       "      <td>3606</td>\n",
       "      <td>$1,774.82</td>\n",
       "      <td>Allison Ortiz</td>\n",
       "      <td>Fortune Christie's Int'l Real Estate</td>\n",
       "      <td>Banna Fakhoury</td>\n",
       "      <td>One Sotheby's Int'l Realty</td>\n",
       "      <td>Rise Condo 88 SW 7th St PH 4204 Miami</td>\n",
       "      <td>Rise Condo</td>\n",
       "      <td>88 SW 7th St PH 4204 Miami</td>\n",
       "      <td>(25.7670461, -80.1944977)</td>\n",
       "      <td>25.767046</td>\n",
       "      <td>-80.194498</td>\n",
       "    </tr>\n",
       "    <tr>\n",
       "      <th>6</th>\n",
       "      <td>Mansions at Acqualina\\r17749 Collins Ave 2102\\...</td>\n",
       "      <td>2/1/2023</td>\n",
       "      <td>292</td>\n",
       "      <td>$6,250,000.00</td>\n",
       "      <td>4609</td>\n",
       "      <td>$1,356.04</td>\n",
       "      <td>Michael Goldstein</td>\n",
       "      <td>Acqualina Realty</td>\n",
       "      <td>Michael Goldstein</td>\n",
       "      <td>Acqualina Realty</td>\n",
       "      <td>Mansions at Acqualina 17749 Collins Ave 2102 S...</td>\n",
       "      <td>Mansions at Acqualina</td>\n",
       "      <td>17749 Collins Ave 2102 Sunny Isles Beach</td>\n",
       "      <td>(25.9400518, -80.12056079999999)</td>\n",
       "      <td>25.940052</td>\n",
       "      <td>-80.120561</td>\n",
       "    </tr>\n",
       "    <tr>\n",
       "      <th>7</th>\n",
       "      <td>Club Tower Two Condo\\r785 Crandon Blvd 801\\rKe...</td>\n",
       "      <td>1/30/2023</td>\n",
       "      <td>146</td>\n",
       "      <td>$3,400,000.00</td>\n",
       "      <td>2790</td>\n",
       "      <td>$1,218.64</td>\n",
       "      <td>Paulette Monserrate-Schena</td>\n",
       "      <td>BHHS EWM Realty</td>\n",
       "      <td>Michael P. Schnabel</td>\n",
       "      <td>Compass Florida LLC</td>\n",
       "      <td>Club Tower Two Condo 785 Crandon Blvd 801 Key ...</td>\n",
       "      <td>Club Tower Two Condo</td>\n",
       "      <td>785 Crandon Blvd 801 Key Biscayne</td>\n",
       "      <td>(25.6875547, -80.15912399999999)</td>\n",
       "      <td>25.687555</td>\n",
       "      <td>-80.159124</td>\n",
       "    </tr>\n",
       "    <tr>\n",
       "      <th>8</th>\n",
       "      <td>Marquis Condo\\r1100 Biscayne Blvd 5106\\rMiami</td>\n",
       "      <td>1/31/2023</td>\n",
       "      <td>64</td>\n",
       "      <td>$3,100,000.00</td>\n",
       "      <td>3800</td>\n",
       "      <td>$815.79</td>\n",
       "      <td>Oscar Teran</td>\n",
       "      <td>EXP Realty LLC</td>\n",
       "      <td>Nohemy Sanchez</td>\n",
       "      <td>WorldWide Select Group, Inc</td>\n",
       "      <td>Marquis Condo 1100 Biscayne Blvd 5106 Miami</td>\n",
       "      <td>Marquis Condo</td>\n",
       "      <td>1100 Biscayne Blvd 5106 Miami</td>\n",
       "      <td>(25.7851774, -80.1900783)</td>\n",
       "      <td>25.785177</td>\n",
       "      <td>-80.190078</td>\n",
       "    </tr>\n",
       "    <tr>\n",
       "      <th>9</th>\n",
       "      <td>Ritz Carlton Residences\\r15701 Collins Ave 290...</td>\n",
       "      <td>1/31/2023</td>\n",
       "      <td>262</td>\n",
       "      <td>$2,800,000.00</td>\n",
       "      <td>1447</td>\n",
       "      <td>$1,935.04</td>\n",
       "      <td>Keila Nomura</td>\n",
       "      <td>IHB Brazil Realty LLC</td>\n",
       "      <td>Wendy Cohen</td>\n",
       "      <td>One Sotheby's Int'l Realty</td>\n",
       "      <td>Ritz Carlton Residences 15701 Collins Ave 2903...</td>\n",
       "      <td>Ritz Carlton Residences</td>\n",
       "      <td>15701 Collins Ave 2903 Sunny Isles Beach</td>\n",
       "      <td>(25.922045, -80.12199729999999)</td>\n",
       "      <td>25.922045</td>\n",
       "      <td>-80.121997</td>\n",
       "    </tr>\n",
       "    <tr>\n",
       "      <th>10</th>\n",
       "      <td>0Lake Tower Condo\\r765 Crandon Blvd 505\\rKey B...</td>\n",
       "      <td>1/30/2023</td>\n",
       "      <td>199</td>\n",
       "      <td>$2,750,000.00</td>\n",
       "      <td>2602</td>\n",
       "      <td>$1,056.88</td>\n",
       "      <td>Paula Barreto Brook</td>\n",
       "      <td>BHHS EWM Realty</td>\n",
       "      <td>Ingo Viehweg</td>\n",
       "      <td>BHHS EWM Realty</td>\n",
       "      <td>0Lake Tower Condo 765 Crandon Blvd 505 Key Bis...</td>\n",
       "      <td>Lake Tower Condo</td>\n",
       "      <td>765 Crandon Blvd 505 Key Biscayne</td>\n",
       "      <td>(25.688799, -80.15683539999999)</td>\n",
       "      <td>25.688799</td>\n",
       "      <td>-80.156835</td>\n",
       "    </tr>\n",
       "  </tbody>\n",
       "</table>\n",
       "</div>"
      ],
      "text/plain": [
       "                                building_address_city Close Date  \\\n",
       "1   Continuum South Tower\\r100 S Pointe Dr 1206\\rM...   2/3/2023   \n",
       "2   Murano at Portofino\\r1000 S Pointe Dr 801\\rMia...   2/3/2023   \n",
       "3   Jade Ocean\\r17121 Collins Ave 4803\\rSunny Isle...   2/1/2023   \n",
       "4   Jade Signature\\r16901 Collins Ave 4601\\rSunny ...  1/30/2023   \n",
       "5             Rise Condo\\r88 SW 7th St PH 4204\\rMiami   2/2/2023   \n",
       "6   Mansions at Acqualina\\r17749 Collins Ave 2102\\...   2/1/2023   \n",
       "7   Club Tower Two Condo\\r785 Crandon Blvd 801\\rKe...  1/30/2023   \n",
       "8       Marquis Condo\\r1100 Biscayne Blvd 5106\\rMiami  1/31/2023   \n",
       "9   Ritz Carlton Residences\\r15701 Collins Ave 290...  1/31/2023   \n",
       "10  0Lake Tower Condo\\r765 Crandon Blvd 505\\rKey B...  1/30/2023   \n",
       "\n",
       "   days_on_market      Sale Price Sq. Ft. price_per_sqft  \\\n",
       "1              95  $10,250,000.00    2508      $4,086.92   \n",
       "2             128   $8,250,000.00    3365      $2,451.71   \n",
       "3              48   $8,100,000.00    8332        $972.16   \n",
       "4             387   $6,450,000.00    4361      $1,479.02   \n",
       "5              17   $6,400,000.00    3606      $1,774.82   \n",
       "6             292   $6,250,000.00    4609      $1,356.04   \n",
       "7             146   $3,400,000.00    2790      $1,218.64   \n",
       "8              64   $3,100,000.00    3800        $815.79   \n",
       "9             262   $2,800,000.00    1447      $1,935.04   \n",
       "10            199   $2,750,000.00    2602      $1,056.88   \n",
       "\n",
       "                         Agent                        Listing Broker  \\\n",
       "1              Bryan Sereny PA                       Douglas Elliman   \n",
       "2              Pablo Alfaro PA                       Douglas Elliman   \n",
       "3                Anna Sherrill            One Sotheby's Int'l Realty   \n",
       "4              Diane Lieberman            One Sotheby's Int'l Realty   \n",
       "5                Allison Ortiz  Fortune Christie's Int'l Real Estate   \n",
       "6            Michael Goldstein                      Acqualina Realty   \n",
       "7   Paulette Monserrate-Schena                       BHHS EWM Realty   \n",
       "8                  Oscar Teran                        EXP Realty LLC   \n",
       "9                 Keila Nomura                 IHB Brazil Realty LLC   \n",
       "10         Paula Barreto Brook                       BHHS EWM Realty   \n",
       "\n",
       "            Buyer Agent                    Buyer Broker  \\\n",
       "1       Matthew Wilkens      One Sotheby's Int'l Realty   \n",
       "2    Ekaterina Sizenova  Big International Realty, Inc.   \n",
       "3    Nicolas Pollini PA                 BHHS EWM Realty   \n",
       "4           Wendy Cohen      One Sotheby's Int'l Realty   \n",
       "5        Banna Fakhoury      One Sotheby's Int'l Realty   \n",
       "6     Michael Goldstein                Acqualina Realty   \n",
       "7   Michael P. Schnabel             Compass Florida LLC   \n",
       "8        Nohemy Sanchez     WorldWide Select Group, Inc   \n",
       "9           Wendy Cohen      One Sotheby's Int'l Realty   \n",
       "10         Ingo Viehweg                 BHHS EWM Realty   \n",
       "\n",
       "                                          geo_address  \\\n",
       "1   Continuum South Tower 100 S Pointe Dr 1206 Mia...   \n",
       "2   Murano at Portofino 1000 S Pointe Dr 801 Miami...   \n",
       "3   Jade Ocean 17121 Collins Ave 4803 Sunny Isles ...   \n",
       "4   Jade Signature 16901 Collins Ave 4601 Sunny Is...   \n",
       "5               Rise Condo 88 SW 7th St PH 4204 Miami   \n",
       "6   Mansions at Acqualina 17749 Collins Ave 2102 S...   \n",
       "7   Club Tower Two Condo 785 Crandon Blvd 801 Key ...   \n",
       "8         Marquis Condo 1100 Biscayne Blvd 5106 Miami   \n",
       "9   Ritz Carlton Residences 15701 Collins Ave 2903...   \n",
       "10  0Lake Tower Condo 765 Crandon Blvd 505 Key Bis...   \n",
       "\n",
       "               building_name                              address_only  \\\n",
       "1     Continuum South Tower           100 S Pointe Dr 1206 Miami Beach   \n",
       "2       Murano at Portofino           1000 S Pointe Dr 801 Miami Beach   \n",
       "3                Jade Ocean   17121 Collins Ave 4803 Sunny Isles Beach   \n",
       "4            Jade Signature   16901 Collins Ave 4601 Sunny Isles Beach   \n",
       "5                Rise Condo                 88 SW 7th St PH 4204 Miami   \n",
       "6     Mansions at Acqualina   17749 Collins Ave 2102 Sunny Isles Beach   \n",
       "7      Club Tower Two Condo          785 Crandon Blvd 801 Key Biscayne   \n",
       "8             Marquis Condo              1100 Biscayne Blvd 5106 Miami   \n",
       "9   Ritz Carlton Residences   15701 Collins Ave 2903 Sunny Isles Beach   \n",
       "10          Lake Tower Condo         765 Crandon Blvd 505 Key Biscayne   \n",
       "\n",
       "                            geocoded        lat        lon  \n",
       "1          (25.7672315, -80.1327611)  25.767232 -80.132761  \n",
       "2   (25.7685326, -80.13755619999999)  25.768533 -80.137556  \n",
       "3          (25.9344014, -80.1210054)  25.934401 -80.121005  \n",
       "4          (25.9327557, -80.1210054)  25.932756 -80.121005  \n",
       "5          (25.7670461, -80.1944977)  25.767046 -80.194498  \n",
       "6   (25.9400518, -80.12056079999999)  25.940052 -80.120561  \n",
       "7   (25.6875547, -80.15912399999999)  25.687555 -80.159124  \n",
       "8          (25.7851774, -80.1900783)  25.785177 -80.190078  \n",
       "9    (25.922045, -80.12199729999999)  25.922045 -80.121997  \n",
       "10   (25.688799, -80.15683539999999)  25.688799 -80.156835  "
      ]
     },
     "execution_count": 20,
     "metadata": {},
     "output_type": "execute_result"
    }
   ],
   "source": [
    "df"
   ]
  },
  {
   "cell_type": "code",
   "execution_count": 19,
   "metadata": {},
   "outputs": [],
   "source": [
    "df.at[10,'building_name']=('Lake Tower Condo')\n",
    "df.at[10,'address_only']=('765 Crandon Blvd 505 Key Biscayne')"
   ]
  },
  {
   "cell_type": "code",
   "execution_count": 21,
   "metadata": {},
   "outputs": [
    {
     "data": {
      "text/plain": [
       "Index(['building_address_city', 'Close Date', 'days_on_market', 'Sale Price',\n",
       "       'Sq. Ft.', 'price_per_sqft', 'Agent', 'Listing Broker', 'Buyer Agent',\n",
       "       'Buyer Broker', 'geo_address', 'building_name', 'address_only',\n",
       "       'geocoded', 'lat', 'lon'],\n",
       "      dtype='object')"
      ]
     },
     "execution_count": 21,
     "metadata": {},
     "output_type": "execute_result"
    }
   ],
   "source": [
    "df.columns"
   ]
  },
  {
   "cell_type": "code",
   "execution_count": 25,
   "metadata": {},
   "outputs": [
    {
     "ename": "SyntaxError",
     "evalue": "EOL while scanning string literal (3386605884.py, line 24)",
     "output_type": "error",
     "traceback": [
      "\u001b[0;36m  Input \u001b[0;32mIn [25]\u001b[0;36m\u001b[0m\n\u001b[0;31m    Buying Agent: {bold_start}{info[4]}{bold_end}{new_line} Price sq ft: {bold_start}{info[5]}{bold_end}{new_line} \\\u001b[0m\n\u001b[0m                                                                                                                     \n^\u001b[0m\n\u001b[0;31mSyntaxError\u001b[0m\u001b[0;31m:\u001b[0m EOL while scanning string literal\n"
     ]
    }
   ],
   "source": [
    "import folium\n",
    "from folium.plugins import MarkerCluster\n",
    "\n",
    "m = folium.Map(location=df[[\"lat\", \"lon\"]].mean().to_list(), zoom_start=10)\n",
    "title_html = '''\n",
    "              <h3 align=\"center\" style=\"font-size:16px\"><b>{}</b></h3>\n",
    "             '''.format(f'Recent Miami-Dade Condo Sales ')\n",
    "\n",
    "caption_html = '''\n",
    "                <p align=\"center\" style=\"vertical-align: bottom; font-size:13px\"><i>{}</i></p>\n",
    "                '''.format('January 29th - February 4th')\n",
    "\n",
    "for i,r in df.iterrows():\n",
    "    location = (r[\"lat\"], r[\"lon\"])\n",
    "    info = (r['building_name'],r['Sale Price'],r['days_on_market'],r['Listing Broker'],r['Buyer Agent'],r['price_per_sqft'],r['address_only'])\n",
    "    info = list(info)\n",
    "    new_line = '<br>'\n",
    "    bold_start = '<strong>'\n",
    "    bold_end = '</strong>'\n",
    "    text = f'Building Name: {bold_start}{info[0]}{bold_end}{new_line} \\\n",
    "    Sale Price: {bold_start}{info[1]}{bold_end}{new_line} \\\n",
    "    Days on Market: {bold_start}{info[2]}{bold_end}{new_line} \\\n",
    "    Listing Agent: {bold_start}{info[3]}{bold_end}{new_line} \\\n",
    "    Buying Agent: {bold_start}{info[4]}{bold_end}{new_line} \\\n",
    "    Price sq ft: {bold_start}{info[5]}{bold_end}{new_line} \\ \n",
    "    Address: {bold_start}{info[6]}{bold_end}'\n",
    "    folium.Marker(location=location,\n",
    "                      tooltip=text)\\\n",
    "    .add_to(m)\n",
    "\n",
    "m.get_root().html.add_child(folium.Element(title_html))\n",
    "m.get_root().html.add_child(folium.Element(caption_html))\n",
    "\n",
    "m"
   ]
  },
  {
   "cell_type": "code",
   "execution_count": 28,
   "metadata": {},
   "outputs": [],
   "source": [
    "m.save('index.html')"
   ]
  },
  {
   "cell_type": "markdown",
   "metadata": {},
   "source": [
    "## Map URL snagger"
   ]
  },
  {
   "cell_type": "markdown",
   "metadata": {},
   "source": [
    "Map template URL: `https://trd-digital.github.io/trd-news-interactive-maps/{map-folder-name}`"
   ]
  },
  {
   "cell_type": "code",
   "execution_count": 29,
   "metadata": {},
   "outputs": [],
   "source": [
    "base_name = 'https://trd-digital.github.io/trd-news-interactive-maps/'"
   ]
  },
  {
   "cell_type": "code",
   "execution_count": 30,
   "metadata": {},
   "outputs": [
    {
     "name": "stdout",
     "output_type": "stream",
     "text": [
      "https://trd-digital.github.io/trd-news-interactive-maps/condo_sales_week_ending_013022\n"
     ]
    }
   ],
   "source": [
    "cwd = os.getcwd()\n",
    "\n",
    "cwd = cwd.split('/')\n",
    "\n",
    "final_name = base_name + cwd[-1]\n",
    "print(final_name)"
   ]
  }
 ],
 "metadata": {
  "kernelspec": {
   "display_name": "Python 3 (ipykernel)",
   "language": "python",
   "name": "python3"
  },
  "language_info": {
   "codemirror_mode": {
    "name": "ipython",
    "version": 3
   },
   "file_extension": ".py",
   "mimetype": "text/x-python",
   "name": "python",
   "nbconvert_exporter": "python",
   "pygments_lexer": "ipython3",
   "version": "3.9.12"
  },
  "toc": {
   "base_numbering": 1,
   "nav_menu": {},
   "number_sections": true,
   "sideBar": true,
   "skip_h1_title": false,
   "title_cell": "Table of Contents",
   "title_sidebar": "Contents",
   "toc_cell": false,
   "toc_position": {},
   "toc_section_display": true,
   "toc_window_display": false
  }
 },
 "nbformat": 4,
 "nbformat_minor": 4
}
