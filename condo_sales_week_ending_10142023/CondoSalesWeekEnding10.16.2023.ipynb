{
 "cells": [
  {
   "cell_type": "markdown",
   "metadata": {},
   "source": [
    "## Imports"
   ]
  },
  {
   "cell_type": "code",
   "execution_count": 1,
   "metadata": {},
   "outputs": [],
   "source": [
    "import googlemaps\n",
    "import pandas as pd\n",
    "import numpy as np\n",
    "import re\n",
    "import os\n",
    "import geopandas as gpd\n",
    "import folium\n",
    "import tabula"
   ]
  },
  {
   "cell_type": "markdown",
   "metadata": {},
   "source": [
    "## Read-in"
   ]
  },
  {
   "cell_type": "code",
   "execution_count": 2,
   "metadata": {},
   "outputs": [],
   "source": [
    "# Gotta figure out how to get rid of the java error.\n",
    "# SO: https://stackoverflow.com/questions/54817211/java-command-is-not-found-from-this-python-process-please-ensure-java-is-inst\n",
    "\n",
    "dsf = tabula.read_pdf('condo.pdf', pages='all')"
   ]
  },
  {
   "cell_type": "markdown",
   "metadata": {},
   "source": [
    "## Clean Data"
   ]
  },
  {
   "cell_type": "code",
   "execution_count": 3,
   "metadata": {},
   "outputs": [],
   "source": [
    "df = dsf[0]\n",
    "df.columns = df.iloc[0]\n",
    "df = df[1:]\n",
    "df = df.drop(columns=df.columns[0])\n",
    "df = df.replace(np.nan, 'Not Available', regex=True)\n",
    "df = df.rename(columns={'Building / Address / City': 'building_address_city','Days on\\rMarket':'days_on_market',\\\n",
    "                        'Price /\\rSq. Ft.':'price_per_sqft'})\n",
    "df['building_address_city'] = df['building_address_city'].str.replace('^0', '', regex=True)\n",
    "df['geo_address'] = df['building_address_city']\n",
    "df['geo_address'] = df['geo_address'].map(lambda x: re.sub(r'\\r', ' ', x))\n",
    "df = df.replace('\\n',' ',regex=True)\n",
    "pattern = r'^(?P<building_name>[\\d\\s]*[A-Za-z\\s]+)\\s(?P<address>.+)\\s(?P<city>[A-Za-z\\s]+)$'\n",
    "df2 = df['geo_address']\n",
    "df2 = df2.to_frame()\n",
    "df2[['building_name', 'address', 'city']] = df2['geo_address'].str.extract(pattern, expand=True)"
   ]
  },
  {
   "cell_type": "markdown",
   "metadata": {},
   "source": [
    "Review this later (it's about how to properly merge DFs): https://pandas.pydata.org/pandas-docs/stable/user_guide/merging.html"
   ]
  },
  {
   "cell_type": "markdown",
   "metadata": {},
   "source": [
    "## Geocode"
   ]
  },
  {
   "cell_type": "code",
   "execution_count": 4,
   "metadata": {},
   "outputs": [],
   "source": [
    "result = pd.merge(df,df2,left_index=True, right_index=True)\n",
    "df = result\n",
    "df = df.drop(columns='city')"
   ]
  },
  {
   "cell_type": "code",
   "execution_count": 5,
   "metadata": {},
   "outputs": [],
   "source": [
    "%store -r google_maps_API_Key\n",
    "gmaps_key = googlemaps.Client(key=google_maps_API_Key)"
   ]
  },
  {
   "cell_type": "code",
   "execution_count": 6,
   "metadata": {},
   "outputs": [],
   "source": [
    "def geocode(add):\n",
    "    g = gmaps_key.geocode(add)\n",
    "    lat = g[0][\"geometry\"][\"location\"][\"lat\"]\n",
    "    lng = g[0][\"geometry\"][\"location\"][\"lng\"]\n",
    "    return (lat, lng)\n",
    "\n",
    "df['geocoded'] = df['geo_address_x'].apply(geocode)"
   ]
  },
  {
   "cell_type": "code",
   "execution_count": 7,
   "metadata": {},
   "outputs": [],
   "source": [
    "df['geocoded'] = df['geocoded'].astype(str)\n",
    "df[['lat', 'lon']] = df['geocoded'].str.strip('()').str.split(', ', expand=True)\n",
    "df['lat'] = df['lat'].astype(float)\n",
    "df['lon'] = df['lon'].astype(float)"
   ]
  },
  {
   "cell_type": "markdown",
   "metadata": {},
   "source": [
    "Folium documentation link: https://python-visualization.github.io/folium/index.html\n",
    "\n",
    "Folium is the library that lets us use leaflet with Python, since it's meant to be used with JavaScript.\n",
    "\n",
    "For adding titles: https://stackoverflow.com/questions/61928013/adding-a-title-or-text-to-a-folium-map"
   ]
  },
  {
   "cell_type": "markdown",
   "metadata": {},
   "source": [
    "## Correction section"
   ]
  },
  {
   "cell_type": "code",
   "execution_count": 8,
   "metadata": {},
   "outputs": [],
   "source": [
    "# df.at[index#,'col_name']"
   ]
  },
  {
   "cell_type": "markdown",
   "metadata": {},
   "source": [
    "## Format Data"
   ]
  },
  {
   "cell_type": "code",
   "execution_count": 9,
   "metadata": {},
   "outputs": [],
   "source": [
    "### Insert NaNs if needed ###\n",
    "df = df.replace('N/A', np.nan)"
   ]
  },
  {
   "cell_type": "code",
   "execution_count": 10,
   "metadata": {},
   "outputs": [],
   "source": [
    "df['int_Sale_Price'] = df['Sale Price'].str.replace('$','',regex=False)"
   ]
  },
  {
   "cell_type": "code",
   "execution_count": 11,
   "metadata": {},
   "outputs": [],
   "source": [
    "df['int_Sale_Price'] = df['int_Sale_Price'].str.replace(',','',regex=False)"
   ]
  },
  {
   "cell_type": "code",
   "execution_count": 12,
   "metadata": {},
   "outputs": [],
   "source": [
    "df['int_Sale_Price'] = pd.to_numeric(df['int_Sale_Price'])"
   ]
  },
  {
   "cell_type": "code",
   "execution_count": 13,
   "metadata": {},
   "outputs": [],
   "source": [
    "df['price_per_sqft'] = df['price_per_sqft'].str.replace('$','',regex=False)\n",
    "df['price_per_sqft'] = df['price_per_sqft'].str.replace(',','',regex=False)\n",
    "df['price_per_sqft'] = pd.to_numeric(df['price_per_sqft'])\n",
    "\n",
    "df['days_on_market'] = pd.to_numeric(df['days_on_market'])"
   ]
  },
  {
   "cell_type": "markdown",
   "metadata": {},
   "source": [
    "## Color-code top sale"
   ]
  },
  {
   "cell_type": "code",
   "execution_count": 14,
   "metadata": {},
   "outputs": [],
   "source": [
    "### Insert RANK values ###\n",
    "df['RANK'] = range(1, len(df) + 1)\n",
    "# use numpy to assign values to the 'COLOR' column\n",
    "df['COLOR'] = np.where(df['RANK'] <= 1, 'orange', 'blue')"
   ]
  },
  {
   "cell_type": "markdown",
   "metadata": {},
   "source": [
    "## HTML Popup Formatter"
   ]
  },
  {
   "cell_type": "code",
   "execution_count": 15,
   "metadata": {},
   "outputs": [
    {
     "data": {
      "text/plain": [
       "Index(['building_address_city', 'Close Date', 'days_on_market', 'Sale Price',\n",
       "       'Sq. Ft.', 'price_per_sqft', 'Agent', 'Listing Broker', 'Buyer Agent',\n",
       "       'Buyer Broker', 'geo_address_x', 'geo_address_y', 'building_name',\n",
       "       'address', 'geocoded', 'lat', 'lon', 'int_Sale_Price', 'RANK', 'COLOR'],\n",
       "      dtype='object')"
      ]
     },
     "execution_count": 15,
     "metadata": {},
     "output_type": "execute_result"
    }
   ],
   "source": [
    "df.columns"
   ]
  },
  {
   "cell_type": "code",
   "execution_count": 16,
   "metadata": {},
   "outputs": [],
   "source": [
    "def popup_html(row):\n",
    "    building_name = row['building_name']\n",
    "    price = row['Sale Price']\n",
    "    days_on_market = row['days_on_market']\n",
    "    listing_agent = row['Agent']\n",
    "    buyers_agent = row['Buyer Agent']\n",
    "    psf = row['price_per_sqft']\n",
    "    address = row['address']\n",
    "    \n",
    "    html = '''<!DOCTYPE html>\n",
    "    <html>\n",
    "    <strong>Building Name: </strong>{}'''.format(building_name) + '''<br>\n",
    "    <strong>Sale Price: </strong>{}'''.format(price) + '''<br>\n",
    "    <strong>Days on Market: </strong>{}'''.format(days_on_market) + '''<br>\n",
    "    <strong>Listing Agent: </strong>{}'''.format(listing_agent) + '''<br>\n",
    "    <strong>Buyer's Agent: </strong>{}'''.format(buyers_agent) + '''<br>\n",
    "    <strong>Price sq ft: </strong>${}'''.format(psf) + '''<br>\n",
    "    <strong>Address: </strong>{}'''.format(address) + '''<br>\n",
    "    </html>\n",
    "    '''\n",
    "    return html"
   ]
  },
  {
   "cell_type": "code",
   "execution_count": 24,
   "metadata": {},
   "outputs": [
    {
     "data": {
      "text/html": [
       "<div style=\"width:100%;\"><div style=\"position:relative;width:100%;height:0;padding-bottom:60%;\"><span style=\"color:#565656\">Make this Notebook Trusted to load map: File -> Trust Notebook</span><iframe srcdoc=\"&lt;!DOCTYPE html&gt;\n",
       "&lt;head&gt;    \n",
       "    &lt;meta http-equiv=&quot;content-type&quot; content=&quot;text/html; charset=UTF-8&quot; /&gt;\n",
       "    \n",
       "        &lt;script&gt;\n",
       "            L_NO_TOUCH = false;\n",
       "            L_DISABLE_3D = false;\n",
       "        &lt;/script&gt;\n",
       "    \n",
       "    &lt;style&gt;html, body {width: 100%;height: 100%;margin: 0;padding: 0;}&lt;/style&gt;\n",
       "    &lt;style&gt;#map {position:absolute;top:0;bottom:0;right:0;left:0;}&lt;/style&gt;\n",
       "    &lt;script src=&quot;https://cdn.jsdelivr.net/npm/leaflet@1.6.0/dist/leaflet.js&quot;&gt;&lt;/script&gt;\n",
       "    &lt;script src=&quot;https://code.jquery.com/jquery-1.12.4.min.js&quot;&gt;&lt;/script&gt;\n",
       "    &lt;script src=&quot;https://maxcdn.bootstrapcdn.com/bootstrap/3.2.0/js/bootstrap.min.js&quot;&gt;&lt;/script&gt;\n",
       "    &lt;script src=&quot;https://cdnjs.cloudflare.com/ajax/libs/Leaflet.awesome-markers/2.0.2/leaflet.awesome-markers.js&quot;&gt;&lt;/script&gt;\n",
       "    &lt;link rel=&quot;stylesheet&quot; href=&quot;https://cdn.jsdelivr.net/npm/leaflet@1.6.0/dist/leaflet.css&quot;/&gt;\n",
       "    &lt;link rel=&quot;stylesheet&quot; href=&quot;https://maxcdn.bootstrapcdn.com/bootstrap/3.2.0/css/bootstrap.min.css&quot;/&gt;\n",
       "    &lt;link rel=&quot;stylesheet&quot; href=&quot;https://maxcdn.bootstrapcdn.com/bootstrap/3.2.0/css/bootstrap-theme.min.css&quot;/&gt;\n",
       "    &lt;link rel=&quot;stylesheet&quot; href=&quot;https://maxcdn.bootstrapcdn.com/font-awesome/4.6.3/css/font-awesome.min.css&quot;/&gt;\n",
       "    &lt;link rel=&quot;stylesheet&quot; href=&quot;https://cdnjs.cloudflare.com/ajax/libs/Leaflet.awesome-markers/2.0.2/leaflet.awesome-markers.css&quot;/&gt;\n",
       "    &lt;link rel=&quot;stylesheet&quot; href=&quot;https://cdn.jsdelivr.net/gh/python-visualization/folium/folium/templates/leaflet.awesome.rotate.min.css&quot;/&gt;\n",
       "    \n",
       "            &lt;meta name=&quot;viewport&quot; content=&quot;width=device-width,\n",
       "                initial-scale=1.0, maximum-scale=1.0, user-scalable=no&quot; /&gt;\n",
       "            &lt;style&gt;\n",
       "                #map_c60c7658cf667a75f9ccb978d6613099 {\n",
       "                    position: relative;\n",
       "                    width: 100.0%;\n",
       "                    height: 100.0%;\n",
       "                    left: 0.0%;\n",
       "                    top: 0.0%;\n",
       "                }\n",
       "            &lt;/style&gt;\n",
       "        \n",
       "&lt;/head&gt;\n",
       "&lt;body&gt;    \n",
       "    \n",
       "              &lt;h3 align=&quot;center&quot; style=&quot;font-size:16px&quot;&gt;&lt;b&gt;Recent Miami-Dade Condo Sales &lt;/b&gt;&lt;/h3&gt;\n",
       "             \n",
       "    \n",
       "                &lt;p align=&quot;center&quot; style=&quot;vertical-align: bottom; font-size:13px&quot;&gt;&lt;i&gt;October 8th - October 14th&lt;/i&gt;&lt;/p&gt;\n",
       "                \n",
       "    \n",
       "            &lt;div class=&quot;folium-map&quot; id=&quot;map_c60c7658cf667a75f9ccb978d6613099&quot; &gt;&lt;/div&gt;\n",
       "        \n",
       "&lt;/body&gt;\n",
       "&lt;script&gt;    \n",
       "    \n",
       "            var map_c60c7658cf667a75f9ccb978d6613099 = L.map(\n",
       "                &quot;map_c60c7658cf667a75f9ccb978d6613099&quot;,\n",
       "                {\n",
       "                    center: [25.83797551, -80.15204389],\n",
       "                    crs: L.CRS.EPSG3857,\n",
       "                    zoom: 9.5,\n",
       "                    zoomControl: true,\n",
       "                    preferCanvas: false,\n",
       "                }\n",
       "            );\n",
       "\n",
       "            \n",
       "\n",
       "        \n",
       "    \n",
       "            var feature_group_5caaf81097dc398c0068949ff0601e1a = L.featureGroup(\n",
       "                {}\n",
       "            ).addTo(map_c60c7658cf667a75f9ccb978d6613099);\n",
       "        \n",
       "    \n",
       "            var marker_b3100e214330ff74fd58454b32a59c52 = L.marker(\n",
       "                [25.9519943, -80.11997],\n",
       "                {&quot;fill&quot;: true, &quot;radius&quot;: 5}\n",
       "            ).addTo(feature_group_5caaf81097dc398c0068949ff0601e1a);\n",
       "        \n",
       "    \n",
       "            var icon_b3413572dc1e194aca2fc1b94e290374 = L.AwesomeMarkers.icon(\n",
       "                {&quot;extraClasses&quot;: &quot;fa-rotate-0&quot;, &quot;icon&quot;: &quot;info-sign&quot;, &quot;iconColor&quot;: &quot;white&quot;, &quot;markerColor&quot;: &quot;orange&quot;, &quot;prefix&quot;: &quot;glyphicon&quot;}\n",
       "            );\n",
       "            marker_b3100e214330ff74fd58454b32a59c52.setIcon(icon_b3413572dc1e194aca2fc1b94e290374);\n",
       "        \n",
       "    \n",
       "        var popup_c56bb9a321d741eed1cde64f69c48f21 = L.popup({&quot;maxWidth&quot;: 400});\n",
       "\n",
       "        \n",
       "            \n",
       "                var html_529378a7351d1af30db73e121b155c3d = $(`&lt;div id=&quot;html_529378a7351d1af30db73e121b155c3d&quot; style=&quot;width: 100.0%; height: 100.0%;&quot;&gt;&lt;!DOCTYPE html&gt;     &lt;html&gt;     &lt;strong&gt;Building Name: &lt;/strong&gt;Armani Casa&lt;br&gt;     &lt;strong&gt;Sale Price: &lt;/strong&gt;$3,800,000.00&lt;br&gt;     &lt;strong&gt;Days on Market: &lt;/strong&gt;205&lt;br&gt;     &lt;strong&gt;Listing Agent: &lt;/strong&gt;Annabella Jaimes&lt;br&gt;     &lt;strong&gt;Buyer&#x27;s Agent: &lt;/strong&gt;Enrique Leizorek&lt;br&gt;     &lt;strong&gt;Price sq ft: &lt;/strong&gt;$1673.27&lt;br&gt;     &lt;strong&gt;Address: &lt;/strong&gt;18975 Collins Ave 2403 Sunny Isles&lt;br&gt;     &lt;/html&gt;     &lt;/div&gt;`)[0];\n",
       "                popup_c56bb9a321d741eed1cde64f69c48f21.setContent(html_529378a7351d1af30db73e121b155c3d);\n",
       "            \n",
       "        \n",
       "\n",
       "        marker_b3100e214330ff74fd58454b32a59c52.bindPopup(popup_c56bb9a321d741eed1cde64f69c48f21)\n",
       "        ;\n",
       "\n",
       "        \n",
       "    \n",
       "    \n",
       "            var feature_group_fa70ea87e788946468d6dd1d70000217 = L.featureGroup(\n",
       "                {}\n",
       "            ).addTo(map_c60c7658cf667a75f9ccb978d6613099);\n",
       "        \n",
       "    \n",
       "            var marker_199f6d13839375e21d3473ea79a446fa = L.marker(\n",
       "                [25.6846614, -80.15690060000001],\n",
       "                {&quot;fill&quot;: true, &quot;radius&quot;: 5}\n",
       "            ).addTo(feature_group_fa70ea87e788946468d6dd1d70000217);\n",
       "        \n",
       "    \n",
       "            var icon_08bfc163134ce8936420c4c3ab8af91c = L.AwesomeMarkers.icon(\n",
       "                {&quot;extraClasses&quot;: &quot;fa-rotate-0&quot;, &quot;icon&quot;: &quot;info-sign&quot;, &quot;iconColor&quot;: &quot;white&quot;, &quot;markerColor&quot;: &quot;blue&quot;, &quot;prefix&quot;: &quot;glyphicon&quot;}\n",
       "            );\n",
       "            marker_199f6d13839375e21d3473ea79a446fa.setIcon(icon_08bfc163134ce8936420c4c3ab8af91c);\n",
       "        \n",
       "    \n",
       "        var popup_b76de8e0714f57b60ca7ae61deb7374d = L.popup({&quot;maxWidth&quot;: 400});\n",
       "\n",
       "        \n",
       "            \n",
       "                var html_f91f9e714f0a4f6911f01ec7e92b1857 = $(`&lt;div id=&quot;html_f91f9e714f0a4f6911f01ec7e92b1857&quot; style=&quot;width: 100.0%; height: 100.0%;&quot;&gt;&lt;!DOCTYPE html&gt;     &lt;html&gt;     &lt;strong&gt;Building Name: &lt;/strong&gt;nan&lt;br&gt;     &lt;strong&gt;Sale Price: &lt;/strong&gt;$2,000,000.00&lt;br&gt;     &lt;strong&gt;Days on Market: &lt;/strong&gt;56&lt;br&gt;     &lt;strong&gt;Listing Agent: &lt;/strong&gt;Paulette Monserrate-Schena&lt;br&gt;     &lt;strong&gt;Buyer&#x27;s Agent: &lt;/strong&gt;Maria Parra Loughlin&lt;br&gt;     &lt;strong&gt;Price sq ft: &lt;/strong&gt;$705.72&lt;br&gt;     &lt;strong&gt;Address: &lt;/strong&gt;nan&lt;br&gt;     &lt;/html&gt;     &lt;/div&gt;`)[0];\n",
       "                popup_b76de8e0714f57b60ca7ae61deb7374d.setContent(html_f91f9e714f0a4f6911f01ec7e92b1857);\n",
       "            \n",
       "        \n",
       "\n",
       "        marker_199f6d13839375e21d3473ea79a446fa.bindPopup(popup_b76de8e0714f57b60ca7ae61deb7374d)\n",
       "        ;\n",
       "\n",
       "        \n",
       "    \n",
       "    \n",
       "            var marker_9b5b4c87f2f672e3983392b7f3beee01 = L.marker(\n",
       "                [25.8527019, -80.1197992],\n",
       "                {&quot;fill&quot;: true, &quot;radius&quot;: 5}\n",
       "            ).addTo(feature_group_fa70ea87e788946468d6dd1d70000217);\n",
       "        \n",
       "    \n",
       "            var icon_0c95460ff86ce8361ff559d564092549 = L.AwesomeMarkers.icon(\n",
       "                {&quot;extraClasses&quot;: &quot;fa-rotate-0&quot;, &quot;icon&quot;: &quot;info-sign&quot;, &quot;iconColor&quot;: &quot;white&quot;, &quot;markerColor&quot;: &quot;blue&quot;, &quot;prefix&quot;: &quot;glyphicon&quot;}\n",
       "            );\n",
       "            marker_9b5b4c87f2f672e3983392b7f3beee01.setIcon(icon_0c95460ff86ce8361ff559d564092549);\n",
       "        \n",
       "    \n",
       "        var popup_09ec0719945cc268111d898af387ebd7 = L.popup({&quot;maxWidth&quot;: 400});\n",
       "\n",
       "        \n",
       "            \n",
       "                var html_5eb92168cee8b08ded1b74615c7f99b3 = $(`&lt;div id=&quot;html_5eb92168cee8b08ded1b74615c7f99b3&quot; style=&quot;width: 100.0%; height: 100.0%;&quot;&gt;&lt;!DOCTYPE html&gt;     &lt;html&gt;     &lt;strong&gt;Building Name: &lt;/strong&gt;South Carillon Beach Condo&lt;br&gt;     &lt;strong&gt;Sale Price: &lt;/strong&gt;$1,725,000.00&lt;br&gt;     &lt;strong&gt;Days on Market: &lt;/strong&gt;47&lt;br&gt;     &lt;strong&gt;Listing Agent: &lt;/strong&gt;Ines Flax&lt;br&gt;     &lt;strong&gt;Buyer&#x27;s Agent: &lt;/strong&gt;Laura Pantano&lt;br&gt;     &lt;strong&gt;Price sq ft: &lt;/strong&gt;$1210.53&lt;br&gt;     &lt;strong&gt;Address: &lt;/strong&gt;6799 Collins Ave 1602 Miami&lt;br&gt;     &lt;/html&gt;     &lt;/div&gt;`)[0];\n",
       "                popup_09ec0719945cc268111d898af387ebd7.setContent(html_5eb92168cee8b08ded1b74615c7f99b3);\n",
       "            \n",
       "        \n",
       "\n",
       "        marker_9b5b4c87f2f672e3983392b7f3beee01.bindPopup(popup_09ec0719945cc268111d898af387ebd7)\n",
       "        ;\n",
       "\n",
       "        \n",
       "    \n",
       "    \n",
       "            var marker_7fba16b7fef264f6fa6d337a2a175b79 = L.marker(\n",
       "                [25.9411652, -80.1361957],\n",
       "                {&quot;fill&quot;: true, &quot;radius&quot;: 5}\n",
       "            ).addTo(feature_group_fa70ea87e788946468d6dd1d70000217);\n",
       "        \n",
       "    \n",
       "            var icon_80f22fdd660df845144a27da958ec3e8 = L.AwesomeMarkers.icon(\n",
       "                {&quot;extraClasses&quot;: &quot;fa-rotate-0&quot;, &quot;icon&quot;: &quot;info-sign&quot;, &quot;iconColor&quot;: &quot;white&quot;, &quot;markerColor&quot;: &quot;blue&quot;, &quot;prefix&quot;: &quot;glyphicon&quot;}\n",
       "            );\n",
       "            marker_7fba16b7fef264f6fa6d337a2a175b79.setIcon(icon_80f22fdd660df845144a27da958ec3e8);\n",
       "        \n",
       "    \n",
       "        var popup_1a24f5d3a4061e90e27996131e0d6a20 = L.popup({&quot;maxWidth&quot;: 400});\n",
       "\n",
       "        \n",
       "            \n",
       "                var html_c8d86ed162b5967d0c7fa0260ea59763 = $(`&lt;div id=&quot;html_c8d86ed162b5967d0c7fa0260ea59763&quot; style=&quot;width: 100.0%; height: 100.0%;&quot;&gt;&lt;!DOCTYPE html&gt;     &lt;html&gt;     &lt;strong&gt;Building Name: &lt;/strong&gt;Bellini&lt;br&gt;     &lt;strong&gt;Sale Price: &lt;/strong&gt;$1,650,000.00&lt;br&gt;     &lt;strong&gt;Days on Market: &lt;/strong&gt;384&lt;br&gt;     &lt;strong&gt;Listing Agent: &lt;/strong&gt;Romina Kotliar&lt;br&gt;     &lt;strong&gt;Buyer&#x27;s Agent: &lt;/strong&gt;Claudine Blumenthal&lt;br&gt;     &lt;strong&gt;Price sq ft: &lt;/strong&gt;$632.67&lt;br&gt;     &lt;strong&gt;Address: &lt;/strong&gt;4100 Island  Blvd 704&lt;br&gt;     &lt;/html&gt;     &lt;/div&gt;`)[0];\n",
       "                popup_1a24f5d3a4061e90e27996131e0d6a20.setContent(html_c8d86ed162b5967d0c7fa0260ea59763);\n",
       "            \n",
       "        \n",
       "\n",
       "        marker_7fba16b7fef264f6fa6d337a2a175b79.bindPopup(popup_1a24f5d3a4061e90e27996131e0d6a20)\n",
       "        ;\n",
       "\n",
       "        \n",
       "    \n",
       "    \n",
       "            var marker_c4be6312096603540a074714258e1eb0 = L.marker(\n",
       "                [25.9237465, -80.1216974],\n",
       "                {&quot;fill&quot;: true, &quot;radius&quot;: 5}\n",
       "            ).addTo(feature_group_fa70ea87e788946468d6dd1d70000217);\n",
       "        \n",
       "    \n",
       "            var icon_a865c7a15b76d6701da6161a9ee941b1 = L.AwesomeMarkers.icon(\n",
       "                {&quot;extraClasses&quot;: &quot;fa-rotate-0&quot;, &quot;icon&quot;: &quot;info-sign&quot;, &quot;iconColor&quot;: &quot;white&quot;, &quot;markerColor&quot;: &quot;blue&quot;, &quot;prefix&quot;: &quot;glyphicon&quot;}\n",
       "            );\n",
       "            marker_c4be6312096603540a074714258e1eb0.setIcon(icon_a865c7a15b76d6701da6161a9ee941b1);\n",
       "        \n",
       "    \n",
       "        var popup_d99b01da515a67f0bf8593a22ed2d541 = L.popup({&quot;maxWidth&quot;: 400});\n",
       "\n",
       "        \n",
       "            \n",
       "                var html_12d221d4bb586a9cbc84d9745049d110 = $(`&lt;div id=&quot;html_12d221d4bb586a9cbc84d9745049d110&quot; style=&quot;width: 100.0%; height: 100.0%;&quot;&gt;&lt;!DOCTYPE html&gt;     &lt;html&gt;     &lt;strong&gt;Building Name: &lt;/strong&gt;Trump Tower II&lt;br&gt;     &lt;strong&gt;Sale Price: &lt;/strong&gt;$1,610,000.00&lt;br&gt;     &lt;strong&gt;Days on Market: &lt;/strong&gt;33&lt;br&gt;     &lt;strong&gt;Listing Agent: &lt;/strong&gt;Jose Correa Lima&lt;br&gt;     &lt;strong&gt;Buyer&#x27;s Agent: &lt;/strong&gt;Ginna Rojas&lt;br&gt;     &lt;strong&gt;Price sq ft: &lt;/strong&gt;$764.48&lt;br&gt;     &lt;strong&gt;Address: &lt;/strong&gt;15901 Collins Ave 2807 Sunny Isles&lt;br&gt;     &lt;/html&gt;     &lt;/div&gt;`)[0];\n",
       "                popup_d99b01da515a67f0bf8593a22ed2d541.setContent(html_12d221d4bb586a9cbc84d9745049d110);\n",
       "            \n",
       "        \n",
       "\n",
       "        marker_c4be6312096603540a074714258e1eb0.bindPopup(popup_d99b01da515a67f0bf8593a22ed2d541)\n",
       "        ;\n",
       "\n",
       "        \n",
       "    \n",
       "    \n",
       "            var marker_ac420752ffbcbbc599e600eeda16c12c = L.marker(\n",
       "                [25.9300707, -80.1216685],\n",
       "                {&quot;fill&quot;: true, &quot;radius&quot;: 5}\n",
       "            ).addTo(feature_group_fa70ea87e788946468d6dd1d70000217);\n",
       "        \n",
       "    \n",
       "            var icon_39fee2df0f7387c0110a4fe25a156cdd = L.AwesomeMarkers.icon(\n",
       "                {&quot;extraClasses&quot;: &quot;fa-rotate-0&quot;, &quot;icon&quot;: &quot;info-sign&quot;, &quot;iconColor&quot;: &quot;white&quot;, &quot;markerColor&quot;: &quot;blue&quot;, &quot;prefix&quot;: &quot;glyphicon&quot;}\n",
       "            );\n",
       "            marker_ac420752ffbcbbc599e600eeda16c12c.setIcon(icon_39fee2df0f7387c0110a4fe25a156cdd);\n",
       "        \n",
       "    \n",
       "        var popup_47ee51400d5953c68aba8df60f8db5d2 = L.popup({&quot;maxWidth&quot;: 400});\n",
       "\n",
       "        \n",
       "            \n",
       "                var html_263f605747a4ca20d3ae8dcbe79e4647 = $(`&lt;div id=&quot;html_263f605747a4ca20d3ae8dcbe79e4647&quot; style=&quot;width: 100.0%; height: 100.0%;&quot;&gt;&lt;!DOCTYPE html&gt;     &lt;html&gt;     &lt;strong&gt;Building Name: &lt;/strong&gt;La Perrla Condo&lt;br&gt;     &lt;strong&gt;Sale Price: &lt;/strong&gt;$1,480,000.00&lt;br&gt;     &lt;strong&gt;Days on Market: &lt;/strong&gt;30&lt;br&gt;     &lt;strong&gt;Listing Agent: &lt;/strong&gt;Elisa Diaine&lt;br&gt;     &lt;strong&gt;Buyer&#x27;s Agent: &lt;/strong&gt;Sandra Osorio&lt;br&gt;     &lt;strong&gt;Price sq ft: &lt;/strong&gt;$923.85&lt;br&gt;     &lt;strong&gt;Address: &lt;/strong&gt;16699 Collins Ave 1902 Sunny Isles&lt;br&gt;     &lt;/html&gt;     &lt;/div&gt;`)[0];\n",
       "                popup_47ee51400d5953c68aba8df60f8db5d2.setContent(html_263f605747a4ca20d3ae8dcbe79e4647);\n",
       "            \n",
       "        \n",
       "\n",
       "        marker_ac420752ffbcbbc599e600eeda16c12c.bindPopup(popup_47ee51400d5953c68aba8df60f8db5d2)\n",
       "        ;\n",
       "\n",
       "        \n",
       "    \n",
       "    \n",
       "            var marker_d69356898b6ca4408836b74e7d9b734a = L.marker(\n",
       "                [25.7427068, -80.24427759999999],\n",
       "                {&quot;fill&quot;: true, &quot;radius&quot;: 5}\n",
       "            ).addTo(feature_group_fa70ea87e788946468d6dd1d70000217);\n",
       "        \n",
       "    \n",
       "            var icon_ba74b2c34b9b8606e0fbc262ad25a2d7 = L.AwesomeMarkers.icon(\n",
       "                {&quot;extraClasses&quot;: &quot;fa-rotate-0&quot;, &quot;icon&quot;: &quot;info-sign&quot;, &quot;iconColor&quot;: &quot;white&quot;, &quot;markerColor&quot;: &quot;blue&quot;, &quot;prefix&quot;: &quot;glyphicon&quot;}\n",
       "            );\n",
       "            marker_d69356898b6ca4408836b74e7d9b734a.setIcon(icon_ba74b2c34b9b8606e0fbc262ad25a2d7);\n",
       "        \n",
       "    \n",
       "        var popup_9afe03064f79e17e90a69a5be2ae0b74 = L.popup({&quot;maxWidth&quot;: 400});\n",
       "\n",
       "        \n",
       "            \n",
       "                var html_f242c0e3f34c90c3ff609f58c751835a = $(`&lt;div id=&quot;html_f242c0e3f34c90c3ff609f58c751835a&quot; style=&quot;width: 100.0%; height: 100.0%;&quot;&gt;&lt;!DOCTYPE html&gt;     &lt;html&gt;     &lt;strong&gt;Building Name: &lt;/strong&gt;Townhomes at&lt;br&gt;     &lt;strong&gt;Sale Price: &lt;/strong&gt;$1,360,000.00&lt;br&gt;     &lt;strong&gt;Days on Market: &lt;/strong&gt;49&lt;br&gt;     &lt;strong&gt;Listing Agent: &lt;/strong&gt;Joseph Azar&lt;br&gt;     &lt;strong&gt;Buyer&#x27;s Agent: &lt;/strong&gt;Peangchai Magner Koch P.A&lt;br&gt;     &lt;strong&gt;Price sq ft: &lt;/strong&gt;$574.57&lt;br&gt;     &lt;strong&gt;Address: &lt;/strong&gt;31st Ct 2629 SW 31st Ct&lt;br&gt;     &lt;/html&gt;     &lt;/div&gt;`)[0];\n",
       "                popup_9afe03064f79e17e90a69a5be2ae0b74.setContent(html_f242c0e3f34c90c3ff609f58c751835a);\n",
       "            \n",
       "        \n",
       "\n",
       "        marker_d69356898b6ca4408836b74e7d9b734a.bindPopup(popup_9afe03064f79e17e90a69a5be2ae0b74)\n",
       "        ;\n",
       "\n",
       "        \n",
       "    \n",
       "    \n",
       "            var marker_10695c513ae8183cfc4aba37f0a6ee99 = L.marker(\n",
       "                [25.8233175, -80.1215857],\n",
       "                {&quot;fill&quot;: true, &quot;radius&quot;: 5}\n",
       "            ).addTo(feature_group_fa70ea87e788946468d6dd1d70000217);\n",
       "        \n",
       "    \n",
       "            var icon_bcfef281c3568df0e9e165c6b9d2af49 = L.AwesomeMarkers.icon(\n",
       "                {&quot;extraClasses&quot;: &quot;fa-rotate-0&quot;, &quot;icon&quot;: &quot;info-sign&quot;, &quot;iconColor&quot;: &quot;white&quot;, &quot;markerColor&quot;: &quot;blue&quot;, &quot;prefix&quot;: &quot;glyphicon&quot;}\n",
       "            );\n",
       "            marker_10695c513ae8183cfc4aba37f0a6ee99.setIcon(icon_bcfef281c3568df0e9e165c6b9d2af49);\n",
       "        \n",
       "    \n",
       "        var popup_9a3f92d43a2eb25d2c9a3078da27005e = L.popup({&quot;maxWidth&quot;: 400});\n",
       "\n",
       "        \n",
       "            \n",
       "                var html_db40e58433a6a5e5378fa7350fad8fd3 = $(`&lt;div id=&quot;html_db40e58433a6a5e5378fa7350fad8fd3&quot; style=&quot;width: 100.0%; height: 100.0%;&quot;&gt;&lt;!DOCTYPE html&gt;     &lt;html&gt;     &lt;strong&gt;Building Name: &lt;/strong&gt;Blue Diamond Condo&lt;br&gt;     &lt;strong&gt;Sale Price: &lt;/strong&gt;$1,260,000.00&lt;br&gt;     &lt;strong&gt;Days on Market: &lt;/strong&gt;51&lt;br&gt;     &lt;strong&gt;Listing Agent: &lt;/strong&gt;William Willis&lt;br&gt;     &lt;strong&gt;Buyer&#x27;s Agent: &lt;/strong&gt;Carolyn Batchelor&lt;br&gt;     &lt;strong&gt;Price sq ft: &lt;/strong&gt;$913.04&lt;br&gt;     &lt;strong&gt;Address: &lt;/strong&gt;4779 Collins Ave 907 Miami&lt;br&gt;     &lt;/html&gt;     &lt;/div&gt;`)[0];\n",
       "                popup_9a3f92d43a2eb25d2c9a3078da27005e.setContent(html_db40e58433a6a5e5378fa7350fad8fd3);\n",
       "            \n",
       "        \n",
       "\n",
       "        marker_10695c513ae8183cfc4aba37f0a6ee99.bindPopup(popup_9a3f92d43a2eb25d2c9a3078da27005e)\n",
       "        ;\n",
       "\n",
       "        \n",
       "    \n",
       "    \n",
       "            var marker_fae6fac7969bd610095a3a58277384e4 = L.marker(\n",
       "                [25.767711, -80.186554],\n",
       "                {&quot;fill&quot;: true, &quot;radius&quot;: 5}\n",
       "            ).addTo(feature_group_fa70ea87e788946468d6dd1d70000217);\n",
       "        \n",
       "    \n",
       "            var icon_d65253103f9844a85677bcefb85f87ba = L.AwesomeMarkers.icon(\n",
       "                {&quot;extraClasses&quot;: &quot;fa-rotate-0&quot;, &quot;icon&quot;: &quot;info-sign&quot;, &quot;iconColor&quot;: &quot;white&quot;, &quot;markerColor&quot;: &quot;blue&quot;, &quot;prefix&quot;: &quot;glyphicon&quot;}\n",
       "            );\n",
       "            marker_fae6fac7969bd610095a3a58277384e4.setIcon(icon_d65253103f9844a85677bcefb85f87ba);\n",
       "        \n",
       "    \n",
       "        var popup_cbd147e4fbea93098a981a5234196eec = L.popup({&quot;maxWidth&quot;: 400});\n",
       "\n",
       "        \n",
       "            \n",
       "                var html_732ea55aa809774b6e5f00414db54bdb = $(`&lt;div id=&quot;html_732ea55aa809774b6e5f00414db54bdb&quot; style=&quot;width: 100.0%; height: 100.0%;&quot;&gt;&lt;!DOCTYPE html&gt;     &lt;html&gt;     &lt;strong&gt;Building Name: &lt;/strong&gt;Courvoisier Courts&lt;br&gt;     &lt;strong&gt;Sale Price: &lt;/strong&gt;$1,225,000.00&lt;br&gt;     &lt;strong&gt;Days on Market: &lt;/strong&gt;14&lt;br&gt;     &lt;strong&gt;Listing Agent: &lt;/strong&gt;Jaime Pompa Jamin&lt;br&gt;     &lt;strong&gt;Buyer&#x27;s Agent: &lt;/strong&gt;Jaime Pompa Jamin&lt;br&gt;     &lt;strong&gt;Price sq ft: &lt;/strong&gt;$719.74&lt;br&gt;     &lt;strong&gt;Address: &lt;/strong&gt;701 Brickell Key 303&lt;br&gt;     &lt;/html&gt;     &lt;/div&gt;`)[0];\n",
       "                popup_cbd147e4fbea93098a981a5234196eec.setContent(html_732ea55aa809774b6e5f00414db54bdb);\n",
       "            \n",
       "        \n",
       "\n",
       "        marker_fae6fac7969bd610095a3a58277384e4.bindPopup(popup_cbd147e4fbea93098a981a5234196eec)\n",
       "        ;\n",
       "\n",
       "        \n",
       "    \n",
       "    \n",
       "            var marker_69ae7932360e05b2b60c3202278635e1 = L.marker(\n",
       "                [25.7616798, -80.1917902],\n",
       "                {&quot;fill&quot;: true, &quot;radius&quot;: 5}\n",
       "            ).addTo(feature_group_fa70ea87e788946468d6dd1d70000217);\n",
       "        \n",
       "    \n",
       "            var icon_ba227ac542836adde9a765ac395ac76c = L.AwesomeMarkers.icon(\n",
       "                {&quot;extraClasses&quot;: &quot;fa-rotate-0&quot;, &quot;icon&quot;: &quot;info-sign&quot;, &quot;iconColor&quot;: &quot;white&quot;, &quot;markerColor&quot;: &quot;blue&quot;, &quot;prefix&quot;: &quot;glyphicon&quot;}\n",
       "            );\n",
       "            marker_69ae7932360e05b2b60c3202278635e1.setIcon(icon_ba227ac542836adde9a765ac395ac76c);\n",
       "        \n",
       "    \n",
       "        var popup_8b4c8d92ad32245e36a3b2383f4ce07b = L.popup({&quot;maxWidth&quot;: 400});\n",
       "\n",
       "        \n",
       "            \n",
       "                var html_014a7a2023081ce6372fb6e7945f99a4 = $(`&lt;div id=&quot;html_014a7a2023081ce6372fb6e7945f99a4&quot; style=&quot;width: 100.0%; height: 100.0%;&quot;&gt;&lt;!DOCTYPE html&gt;     &lt;html&gt;     &lt;strong&gt;Building Name: &lt;/strong&gt;Aria on he Bay&lt;br&gt;     &lt;strong&gt;Sale Price: &lt;/strong&gt;$1,150,000.00&lt;br&gt;     &lt;strong&gt;Days on Market: &lt;/strong&gt;95&lt;br&gt;     &lt;strong&gt;Listing Agent: &lt;/strong&gt;Patricia Gomez&lt;br&gt;     &lt;strong&gt;Buyer&#x27;s Agent: &lt;/strong&gt;Olga Rogers&lt;br&gt;     &lt;strong&gt;Price sq ft: &lt;/strong&gt;$722.36&lt;br&gt;     &lt;strong&gt;Address: &lt;/strong&gt;488 NE 18th St 3410&lt;br&gt;     &lt;/html&gt;     &lt;/div&gt;`)[0];\n",
       "                popup_8b4c8d92ad32245e36a3b2383f4ce07b.setContent(html_014a7a2023081ce6372fb6e7945f99a4);\n",
       "            \n",
       "        \n",
       "\n",
       "        marker_69ae7932360e05b2b60c3202278635e1.bindPopup(popup_8b4c8d92ad32245e36a3b2383f4ce07b)\n",
       "        ;\n",
       "\n",
       "        \n",
       "    \n",
       "    \n",
       "            var tile_layer_1c39fce1941e2d89b1058b1ae37ad550 = L.tileLayer(\n",
       "                &quot;https://{s}.tile.openstreetmap.org/{z}/{x}/{y}.png&quot;,\n",
       "                {&quot;attribution&quot;: &quot;Data by \\u0026copy; \\u003ca href=\\&quot;http://openstreetmap.org\\&quot;\\u003eOpenStreetMap\\u003c/a\\u003e, under \\u003ca href=\\&quot;http://www.openstreetmap.org/copyright\\&quot;\\u003eODbL\\u003c/a\\u003e.&quot;, &quot;detectRetina&quot;: false, &quot;maxNativeZoom&quot;: 18, &quot;maxZoom&quot;: 18, &quot;minZoom&quot;: 0, &quot;noWrap&quot;: false, &quot;opacity&quot;: 1, &quot;subdomains&quot;: &quot;abc&quot;, &quot;tms&quot;: false}\n",
       "            ).addTo(map_c60c7658cf667a75f9ccb978d6613099);\n",
       "        \n",
       "    \n",
       "            var layer_control_9ee262b897fadd5b4954bb403cc1958f = {\n",
       "                base_layers : {\n",
       "                },\n",
       "                overlays :  {\n",
       "                    &quot;Top Sale&quot; : feature_group_5caaf81097dc398c0068949ff0601e1a,\n",
       "                    &quot;All other sales&quot; : feature_group_fa70ea87e788946468d6dd1d70000217,\n",
       "                },\n",
       "            };\n",
       "            L.control.layers(\n",
       "                layer_control_9ee262b897fadd5b4954bb403cc1958f.base_layers,\n",
       "                layer_control_9ee262b897fadd5b4954bb403cc1958f.overlays,\n",
       "                {&quot;autoZIndex&quot;: true, &quot;collapsed&quot;: false, &quot;position&quot;: &quot;topright&quot;}\n",
       "            ).addTo(map_c60c7658cf667a75f9ccb978d6613099);\n",
       "        \n",
       "&lt;/script&gt;\" style=\"position:absolute;width:100%;height:100%;left:0;top:0;border:none !important;\" allowfullscreen webkitallowfullscreen mozallowfullscreen></iframe></div></div>"
      ],
      "text/plain": [
       "<folium.folium.Map at 0x7fdd3ac8ad00>"
      ]
     },
     "execution_count": 24,
     "metadata": {},
     "output_type": "execute_result"
    }
   ],
   "source": [
    "import folium\n",
    "from folium.plugins import MarkerCluster\n",
    "\n",
    "m = folium.Map(location=df[[\"lat\", \"lon\"]].mean().to_list(), zoom_start=10)\n",
    "\n",
    "title_html = '''\n",
    "              <h3 align=\"center\" style=\"font-size:16px\"><b>{}</b></h3>\n",
    "             '''.format(f'Recent Miami-Dade Condo Sales ')\n",
    "\n",
    "caption_html = '''\n",
    "                <p align=\"center\" style=\"vertical-align: bottom; font-size:13px\"><i>{}</i></p>\n",
    "                '''.format('October 8th - October 14th')\n",
    "\n",
    "\n",
    "### Create map container ###\n",
    "m = folium.Map(location=df[[\"lat\", \"lon\"]].mean().to_list(),zoom_start=9.5,tiles=None)\n",
    "\n",
    "# Create two FeatureGroups for different color pins\n",
    "fg_blue = folium.FeatureGroup(name='All other sales')\n",
    "fg_orange = folium.FeatureGroup(name='Top Sale')\n",
    "\n",
    "for index, row in df.iterrows():\n",
    "    # Add the markers to the appropriate FeatureGroup based on the color\n",
    "    if row['COLOR'] == 'blue':\n",
    "        marker = folium.Marker(\n",
    "            location=[row['lat'], row['lon']],\n",
    "            radius=5,\n",
    "            fill=True,\n",
    "            icon=folium.Icon(color=row['COLOR']),\n",
    "            popup=folium.Popup(popup_html(row), max_width=400))\n",
    "        marker.add_to(fg_blue)\n",
    "    else:\n",
    "        marker = folium.Marker(\n",
    "            location=[row['lat'], row['lon']],\n",
    "            radius=5,\n",
    "            fill=True,\n",
    "            icon=folium.Icon(color=row['COLOR']),\n",
    "            popup=folium.Popup(popup_html(row), max_width=400))\n",
    "        marker.add_to(fg_orange)\n",
    "\n",
    "# Add the FeatureGroups to the map\n",
    "fg_orange.add_to(m)\n",
    "fg_blue.add_to(m)\n",
    "\n",
    "folium.TileLayer('OpenStreetMap',control=False).add_to(m)\n",
    "\n",
    "# Add LayerControl to the map\n",
    "folium.map.LayerControl(collapsed=False).add_to(m)\n",
    "m.get_root().html.add_child(folium.Element(title_html))\n",
    "m.get_root().html.add_child(folium.Element(caption_html))\n",
    "            \n",
    "# Display map\n",
    "m"
   ]
  },
  {
   "cell_type": "code",
   "execution_count": 25,
   "metadata": {},
   "outputs": [],
   "source": [
    "m.save('index.html')"
   ]
  },
  {
   "cell_type": "markdown",
   "metadata": {},
   "source": [
    "## Data snagger"
   ]
  },
  {
   "cell_type": "code",
   "execution_count": 19,
   "metadata": {},
   "outputs": [],
   "source": [
    "### Set up formatting ###\n",
    "BR = '\\n'\n",
    "\n",
    "ME = '\\033[1m' + 'Most Expensive' + '\\033[0m'\n",
    "LE = '\\033[1m' + 'Least Expensive' + '\\033[0m'\n",
    "\n",
    "MAX_PSF = '\\033[1m' + 'Highest Price Per Square Foot' + '\\033[0m'\n",
    "MIN_PSF = '\\033[1m' + 'Lowest Price Per Square Foot' + '\\033[0m'\n",
    "\n",
    "DAYS_MAX = '\\033[1m' + 'Most Days on Market' + '\\033[0m'\n",
    "DAYS_MIN = '\\033[1m' + 'Fewest Days on Market' + '\\033[0m'"
   ]
  },
  {
   "cell_type": "code",
   "execution_count": 20,
   "metadata": {},
   "outputs": [
    {
     "name": "stdout",
     "output_type": "stream",
     "text": [
      "\u001b[1mMost Expensive\u001b[0m\n",
      "Armani Casa, 18975 Collins Ave 2403 Sunny Isles | Price $3,800,000 | $1,673 psf | Listing agent: Annabella Jaimes with Cervera Real Estate Inc. | Buyer's agent: Enrique Leizorek with Intraproperties Inc. | Days on market: 205\n",
      "\u001b[1mLeast Expensive\u001b[0m\n",
      "Aria on he Bay, 488 NE 18th St 3410 | Price $1,150,000 | $722 psf | Listing agent: Patricia Gomez with PFS Realty LLC | Buyer's agent: Olga Rogers with United Realty Group, Inc | Days on market: 95\n",
      "\u001b[1mHighest Price Per Square Foot\u001b[0m\n",
      "Armani Casa, 18975 Collins Ave 2403 Sunny Isles | Price $3,800,000 | $1,673 psf | Listing agent: Annabella Jaimes with Cervera Real Estate Inc. | Buyer's agent: Enrique Leizorek with Intraproperties Inc. | Days on market: 205\n",
      "\u001b[1mLowest Price Per Square Foot\u001b[0m\n",
      "Townhomes at, 31st Ct 2629 SW 31st Ct | Price $1,360,000 | $575 psf | Listing agent: Joseph Azar with Douglas Elliman | Buyer's agent: Peangchai Magner Koch P.A with Coldwell Banker Realty | Days on market: 49\n",
      "\u001b[1mMost Days on Market\u001b[0m\n",
      "Bellini, 4100 Island  Blvd 704 | Price $1,650,000 | $633 psf | Listing agent: Romina Kotliar with Compra Venta Miami | Buyer's agent: Claudine Blumenthal with Compass Florida, LLC. | Days on market: 384\n",
      "\u001b[1mFewest Days on Market\u001b[0m\n",
      "Courvoisier Courts, 701 Brickell Key 303 | Price $1,225,000 | $720 psf | Listing agent: Jaime Pompa Jamin with JPJ Real Estate & Design FL, Inc. | Buyer's agent: Jaime Pompa Jamin with JPJ Real Estate & Design FL, Inc. | Days on market: 14\n"
     ]
    }
   ],
   "source": [
    "### Highest and lowest sale price ###\n",
    "print(f\"{ME}{BR}{df.loc[df['int_Sale_Price'].idxmax()]['building_name']}, {df.loc[df['int_Sale_Price'].idxmax()]['address']} | Price ${df.loc[df['int_Sale_Price'].idxmax()]['int_Sale_Price']:,.0f} | ${df.loc[df['int_Sale_Price'].idxmax()]['price_per_sqft']:,.0f} psf | Listing agent: {df.loc[df['int_Sale_Price'].idxmax()]['Agent']} with {df.loc[df['int_Sale_Price'].idxmax()]['Listing Broker']} | Buyer's agent: {df.loc[df['int_Sale_Price'].idxmax()]['Buyer Agent']} with {df.loc[df['int_Sale_Price'].idxmax()]['Buyer Broker']} | Days on market: {df.loc[df['int_Sale_Price'].idxmax()]['days_on_market']}\")\n",
    "print(f\"{LE}{BR}{df.loc[df['int_Sale_Price'].idxmin()]['building_name']}, {df.loc[df['int_Sale_Price'].idxmin()]['address']} | Price ${df.loc[df['int_Sale_Price'].idxmin()]['int_Sale_Price']:,.0f} | ${df.loc[df['int_Sale_Price'].idxmin()]['price_per_sqft']:,.0f} psf | Listing agent: {df.loc[df['int_Sale_Price'].idxmin()]['Agent']} with {df.loc[df['int_Sale_Price'].idxmin()]['Listing Broker']} | Buyer's agent: {df.loc[df['int_Sale_Price'].idxmin()]['Buyer Agent']} with {df.loc[df['int_Sale_Price'].idxmin()]['Buyer Broker']} | Days on market: {df.loc[df['int_Sale_Price'].idxmin()]['days_on_market']}\")\n",
    "### Highest and lowest psf ###\n",
    "print(f\"{MAX_PSF}{BR}{df.loc[df['price_per_sqft'].idxmax()]['building_name']}, {df.loc[df['price_per_sqft'].idxmax()]['address']} | Price ${df.loc[df['price_per_sqft'].idxmax()]['int_Sale_Price']:,.0f} | ${df.loc[df['price_per_sqft'].idxmax()]['price_per_sqft']:,.0f} psf | Listing agent: {df.loc[df['price_per_sqft'].idxmax()]['Agent']} with {df.loc[df['price_per_sqft'].idxmax()]['Listing Broker']} | Buyer's agent: {df.loc[df['price_per_sqft'].idxmax()]['Buyer Agent']} with {df.loc[df['price_per_sqft'].idxmax()]['Buyer Broker']} | Days on market: {df.loc[df['price_per_sqft'].idxmax()]['days_on_market']}\")\n",
    "print(f\"{MIN_PSF}{BR}{df.loc[df['price_per_sqft'].idxmin()]['building_name']}, {df.loc[df['price_per_sqft'].idxmin()]['address']} | Price ${df.loc[df['price_per_sqft'].idxmin()]['int_Sale_Price']:,.0f} | ${df.loc[df['price_per_sqft'].idxmin()]['price_per_sqft']:,.0f} psf | Listing agent: {df.loc[df['price_per_sqft'].idxmin()]['Agent']} with {df.loc[df['price_per_sqft'].idxmin()]['Listing Broker']} | Buyer's agent: {df.loc[df['price_per_sqft'].idxmin()]['Buyer Agent']} with {df.loc[df['price_per_sqft'].idxmin()]['Buyer Broker']} | Days on market: {df.loc[df['price_per_sqft'].idxmin()]['days_on_market']}\")\n",
    "### Highest and lowest days on market ###\n",
    "print(f\"{DAYS_MAX}{BR}{df.loc[df['days_on_market'].idxmax()]['building_name']}, {df.loc[df['days_on_market'].idxmax()]['address']} | Price ${df.loc[df['days_on_market'].idxmax()]['int_Sale_Price']:,.0f} | ${df.loc[df['days_on_market'].idxmax()]['price_per_sqft']:,.0f} psf | Listing agent: {df.loc[df['days_on_market'].idxmax()]['Agent']} with {df.loc[df['days_on_market'].idxmax()]['Listing Broker']} | Buyer's agent: {df.loc[df['days_on_market'].idxmax()]['Buyer Agent']} with {df.loc[df['days_on_market'].idxmax()]['Buyer Broker']} | Days on market: {df.loc[df['days_on_market'].idxmax()]['days_on_market']}\")\n",
    "print(f\"{DAYS_MIN}{BR}{df.loc[df['days_on_market'].idxmin()]['building_name']}, {df.loc[df['days_on_market'].idxmin()]['address']} | Price ${df.loc[df['days_on_market'].idxmin()]['int_Sale_Price']:,.0f} | ${df.loc[df['days_on_market'].idxmin()]['price_per_sqft']:,.0f} psf | Listing agent: {df.loc[df['days_on_market'].idxmin()]['Agent']} with {df.loc[df['days_on_market'].idxmin()]['Listing Broker']} | Buyer's agent: {df.loc[df['days_on_market'].idxmin()]['Buyer Agent']} with {df.loc[df['days_on_market'].idxmin()]['Buyer Broker']} | Days on market: {df.loc[df['days_on_market'].idxmin()]['days_on_market']}\")"
   ]
  },
  {
   "cell_type": "code",
   "execution_count": 21,
   "metadata": {},
   "outputs": [
    {
     "data": {
      "text/plain": [
       "96.4"
      ]
     },
     "execution_count": 21,
     "metadata": {},
     "output_type": "execute_result"
    }
   ],
   "source": [
    "df['days_on_market'].mean()"
   ]
  },
  {
   "cell_type": "markdown",
   "metadata": {},
   "source": [
    "## Map URL snagger"
   ]
  },
  {
   "cell_type": "markdown",
   "metadata": {},
   "source": [
    "Map template URL: `https://trd-digital.github.io/trd-news-interactive-maps/{map-folder-name}`"
   ]
  },
  {
   "cell_type": "code",
   "execution_count": 22,
   "metadata": {},
   "outputs": [],
   "source": [
    "base_name = 'https://trd-digital.github.io/trd-news-interactive-maps/'"
   ]
  },
  {
   "cell_type": "code",
   "execution_count": 23,
   "metadata": {},
   "outputs": [
    {
     "name": "stdout",
     "output_type": "stream",
     "text": [
      "https://trd-digital.github.io/trd-news-interactive-maps/condo_sales_week_ending_10142023\n"
     ]
    }
   ],
   "source": [
    "cwd = os.getcwd()\n",
    "\n",
    "cwd = cwd.split('/')\n",
    "\n",
    "final_name = base_name + cwd[-1]\n",
    "print(final_name)"
   ]
  }
 ],
 "metadata": {
  "kernelspec": {
   "display_name": "Python 3 (ipykernel)",
   "language": "python",
   "name": "python3"
  },
  "language_info": {
   "codemirror_mode": {
    "name": "ipython",
    "version": 3
   },
   "file_extension": ".py",
   "mimetype": "text/x-python",
   "name": "python",
   "nbconvert_exporter": "python",
   "pygments_lexer": "ipython3",
   "version": "3.9.12"
  },
  "toc": {
   "base_numbering": 1,
   "nav_menu": {},
   "number_sections": true,
   "sideBar": true,
   "skip_h1_title": false,
   "title_cell": "Table of Contents",
   "title_sidebar": "Contents",
   "toc_cell": false,
   "toc_position": {},
   "toc_section_display": true,
   "toc_window_display": false
  }
 },
 "nbformat": 4,
 "nbformat_minor": 4
}
