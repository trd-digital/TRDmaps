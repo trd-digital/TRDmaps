{
 "cells": [
  {
   "cell_type": "markdown",
   "metadata": {},
   "source": [
    "## Imports"
   ]
  },
  {
   "cell_type": "code",
   "execution_count": 6,
   "metadata": {},
   "outputs": [],
   "source": [
    "import googlemaps\n",
    "import pandas as pd\n",
    "import numpy as np\n",
    "import re\n",
    "import os\n",
    "import geopandas as gpd\n",
    "import folium\n",
    "import tabula"
   ]
  },
  {
   "cell_type": "markdown",
   "metadata": {},
   "source": [
    "## Read-in"
   ]
  },
  {
   "cell_type": "code",
   "execution_count": 7,
   "metadata": {},
   "outputs": [],
   "source": [
    "# Gotta figure out how to get rid of the java error.\n",
    "# SO: https://stackoverflow.com/questions/54817211/java-command-is-not-found-from-this-python-process-please-ensure-java-is-inst\n",
    "\n",
    "dsf = tabula.read_pdf('condo.pdf', pages='all')"
   ]
  },
  {
   "cell_type": "markdown",
   "metadata": {},
   "source": [
    "## Clean Data"
   ]
  },
  {
   "cell_type": "code",
   "execution_count": 8,
   "metadata": {},
   "outputs": [],
   "source": [
    "df = dsf[0]\n",
    "df.columns = df.iloc[0]\n",
    "df = df[1:]\n",
    "df = df.drop(columns=df.columns[0])\n",
    "df = df.replace(np.nan, 'Not Available', regex=True)\n",
    "df = df.rename(columns={'Building / Address / City': 'building_address_city','Days on\\rMarket':'days_on_market',\\\n",
    "                        'Price /\\rSq. Ft.':'price_per_sqft'})\n",
    "df['building_address_city'] = df['building_address_city'].str.replace('^0', '', regex=True)\n",
    "df['geo_address'] = df['building_address_city']\n",
    "df['geo_address'] = df['geo_address'].map(lambda x: re.sub(r'\\r', ' ', x))\n",
    "df = df.replace('\\n',' ',regex=True)\n",
    "pattern = r'^(?P<building_name>[\\d\\s]*[A-Za-z\\s]+)\\s(?P<address>.+)\\s(?P<city>[A-Za-z\\s]+)$'\n",
    "df2 = df['geo_address']\n",
    "df2 = df2.to_frame()\n",
    "df2[['building_name', 'address', 'city']] = df2['geo_address'].str.extract(pattern, expand=True)"
   ]
  },
  {
   "cell_type": "markdown",
   "metadata": {},
   "source": [
    "Review this later (it's about how to properly merge DFs): https://pandas.pydata.org/pandas-docs/stable/user_guide/merging.html"
   ]
  },
  {
   "cell_type": "markdown",
   "metadata": {},
   "source": [
    "## Geocode"
   ]
  },
  {
   "cell_type": "code",
   "execution_count": 9,
   "metadata": {},
   "outputs": [],
   "source": [
    "result = pd.merge(df,df2,left_index=True, right_index=True)\n",
    "df = result\n",
    "df = df.drop(columns='city')"
   ]
  },
  {
   "cell_type": "code",
   "execution_count": 10,
   "metadata": {},
   "outputs": [],
   "source": [
    "%store -r google_maps_API_Key\n",
    "gmaps_key = googlemaps.Client(key=google_maps_API_Key)"
   ]
  },
  {
   "cell_type": "code",
   "execution_count": 11,
   "metadata": {},
   "outputs": [],
   "source": [
    "def geocode(add):\n",
    "    g = gmaps_key.geocode(add)\n",
    "    lat = g[0][\"geometry\"][\"location\"][\"lat\"]\n",
    "    lng = g[0][\"geometry\"][\"location\"][\"lng\"]\n",
    "    return (lat, lng)\n",
    "\n",
    "df['geocoded'] = df['geo_address_x'].apply(geocode)"
   ]
  },
  {
   "cell_type": "code",
   "execution_count": 12,
   "metadata": {},
   "outputs": [],
   "source": [
    "df['geocoded'] = df['geocoded'].astype(str)\n",
    "df[['lat', 'lon']] = df['geocoded'].str.strip('()').str.split(', ', expand=True)\n",
    "df['lat'] = df['lat'].astype(float)\n",
    "df['lon'] = df['lon'].astype(float)"
   ]
  },
  {
   "cell_type": "markdown",
   "metadata": {},
   "source": [
    "Folium documentation link: https://python-visualization.github.io/folium/index.html\n",
    "\n",
    "Folium is the library that lets us use leaflet with Python, since it's meant to be used with JavaScript.\n",
    "\n",
    "For adding titles: https://stackoverflow.com/questions/61928013/adding-a-title-or-text-to-a-folium-map"
   ]
  },
  {
   "cell_type": "markdown",
   "metadata": {},
   "source": [
    "## Correction section"
   ]
  },
  {
   "cell_type": "code",
   "execution_count": 13,
   "metadata": {},
   "outputs": [],
   "source": [
    "# df.at[index#,'col_name']"
   ]
  },
  {
   "cell_type": "markdown",
   "metadata": {},
   "source": [
    "## Format Data"
   ]
  },
  {
   "cell_type": "code",
   "execution_count": 14,
   "metadata": {},
   "outputs": [],
   "source": [
    "### Insert NaNs if needed ###\n",
    "df = df.replace('N/A', np.nan)"
   ]
  },
  {
   "cell_type": "code",
   "execution_count": 15,
   "metadata": {},
   "outputs": [],
   "source": [
    "df['int_Sale_Price'] = df['Sale Price'].str.replace('$','',regex=False)"
   ]
  },
  {
   "cell_type": "code",
   "execution_count": 16,
   "metadata": {},
   "outputs": [],
   "source": [
    "df['int_Sale_Price'] = df['int_Sale_Price'].str.replace(',','',regex=False)"
   ]
  },
  {
   "cell_type": "code",
   "execution_count": 17,
   "metadata": {},
   "outputs": [],
   "source": [
    "df['int_Sale_Price'] = pd.to_numeric(df['int_Sale_Price'])"
   ]
  },
  {
   "cell_type": "code",
   "execution_count": 18,
   "metadata": {},
   "outputs": [],
   "source": [
    "df['price_per_sqft'] = df['price_per_sqft'].str.replace('$','',regex=False)\n",
    "df['price_per_sqft'] = df['price_per_sqft'].str.replace(',','',regex=False)\n",
    "df['price_per_sqft'] = pd.to_numeric(df['price_per_sqft'])\n",
    "\n",
    "df['days_on_market'] = pd.to_numeric(df['days_on_market'])"
   ]
  },
  {
   "cell_type": "markdown",
   "metadata": {},
   "source": [
    "## Color-code top sale"
   ]
  },
  {
   "cell_type": "code",
   "execution_count": 19,
   "metadata": {},
   "outputs": [],
   "source": [
    "### Insert RANK values ###\n",
    "df['RANK'] = range(1, len(df) + 1)\n",
    "# use numpy to assign values to the 'COLOR' column\n",
    "df['COLOR'] = np.where(df['RANK'] <= 1, 'orange', 'blue')"
   ]
  },
  {
   "cell_type": "markdown",
   "metadata": {},
   "source": [
    "## HTML Popup Formatter"
   ]
  },
  {
   "cell_type": "code",
   "execution_count": 20,
   "metadata": {},
   "outputs": [
    {
     "data": {
      "text/plain": [
       "Index(['building_address_city', 'Close Date', 'days_on_market', 'Sale Price',\n",
       "       'Sq. Ft.', 'price_per_sqft', 'Agent', 'Listing Broker', 'Buyer Agent',\n",
       "       'Buyer Broker', 'geo_address_x', 'geo_address_y', 'building_name',\n",
       "       'address', 'geocoded', 'lat', 'lon', 'int_Sale_Price', 'RANK', 'COLOR'],\n",
       "      dtype='object')"
      ]
     },
     "execution_count": 20,
     "metadata": {},
     "output_type": "execute_result"
    }
   ],
   "source": [
    "df.columns"
   ]
  },
  {
   "cell_type": "code",
   "execution_count": 21,
   "metadata": {},
   "outputs": [],
   "source": [
    "def popup_html(row):\n",
    "    building_name = row['building_name']\n",
    "    price = row['Sale Price']\n",
    "    days_on_market = row['days_on_market']\n",
    "    listing_agent = row['Agent']\n",
    "    buyers_agent = row['Buyer Agent']\n",
    "    psf = row['price_per_sqft']\n",
    "    address = row['address']\n",
    "    \n",
    "    html = '''<!DOCTYPE html>\n",
    "    <html>\n",
    "    <strong>Building Name: </strong>{}'''.format(building_name) + '''<br>\n",
    "    <strong>Sale Price: </strong>{}'''.format(price) + '''<br>\n",
    "    <strong>Days on Market: </strong>{}'''.format(days_on_market) + '''<br>\n",
    "    <strong>Listing Agent: </strong>{}'''.format(listing_agent) + '''<br>\n",
    "    <strong>Buyer's Agent: </strong>{}'''.format(buyers_agent) + '''<br>\n",
    "    <strong>Price sq ft: </strong>${}'''.format(psf) + '''<br>\n",
    "    <strong>Address: </strong>{}'''.format(address) + '''<br>\n",
    "    </html>\n",
    "    '''\n",
    "    return html"
   ]
  },
  {
   "cell_type": "code",
   "execution_count": 22,
   "metadata": {},
   "outputs": [
    {
     "data": {
      "text/html": [
       "<div style=\"width:100%;\"><div style=\"position:relative;width:100%;height:0;padding-bottom:60%;\"><span style=\"color:#565656\">Make this Notebook Trusted to load map: File -> Trust Notebook</span><iframe srcdoc=\"&lt;!DOCTYPE html&gt;\n",
       "&lt;head&gt;    \n",
       "    &lt;meta http-equiv=&quot;content-type&quot; content=&quot;text/html; charset=UTF-8&quot; /&gt;\n",
       "    \n",
       "        &lt;script&gt;\n",
       "            L_NO_TOUCH = false;\n",
       "            L_DISABLE_3D = false;\n",
       "        &lt;/script&gt;\n",
       "    \n",
       "    &lt;style&gt;html, body {width: 100%;height: 100%;margin: 0;padding: 0;}&lt;/style&gt;\n",
       "    &lt;style&gt;#map {position:absolute;top:0;bottom:0;right:0;left:0;}&lt;/style&gt;\n",
       "    &lt;script src=&quot;https://cdn.jsdelivr.net/npm/leaflet@1.6.0/dist/leaflet.js&quot;&gt;&lt;/script&gt;\n",
       "    &lt;script src=&quot;https://code.jquery.com/jquery-1.12.4.min.js&quot;&gt;&lt;/script&gt;\n",
       "    &lt;script src=&quot;https://maxcdn.bootstrapcdn.com/bootstrap/3.2.0/js/bootstrap.min.js&quot;&gt;&lt;/script&gt;\n",
       "    &lt;script src=&quot;https://cdnjs.cloudflare.com/ajax/libs/Leaflet.awesome-markers/2.0.2/leaflet.awesome-markers.js&quot;&gt;&lt;/script&gt;\n",
       "    &lt;link rel=&quot;stylesheet&quot; href=&quot;https://cdn.jsdelivr.net/npm/leaflet@1.6.0/dist/leaflet.css&quot;/&gt;\n",
       "    &lt;link rel=&quot;stylesheet&quot; href=&quot;https://maxcdn.bootstrapcdn.com/bootstrap/3.2.0/css/bootstrap.min.css&quot;/&gt;\n",
       "    &lt;link rel=&quot;stylesheet&quot; href=&quot;https://maxcdn.bootstrapcdn.com/bootstrap/3.2.0/css/bootstrap-theme.min.css&quot;/&gt;\n",
       "    &lt;link rel=&quot;stylesheet&quot; href=&quot;https://maxcdn.bootstrapcdn.com/font-awesome/4.6.3/css/font-awesome.min.css&quot;/&gt;\n",
       "    &lt;link rel=&quot;stylesheet&quot; href=&quot;https://cdnjs.cloudflare.com/ajax/libs/Leaflet.awesome-markers/2.0.2/leaflet.awesome-markers.css&quot;/&gt;\n",
       "    &lt;link rel=&quot;stylesheet&quot; href=&quot;https://cdn.jsdelivr.net/gh/python-visualization/folium/folium/templates/leaflet.awesome.rotate.min.css&quot;/&gt;\n",
       "    \n",
       "            &lt;meta name=&quot;viewport&quot; content=&quot;width=device-width,\n",
       "                initial-scale=1.0, maximum-scale=1.0, user-scalable=no&quot; /&gt;\n",
       "            &lt;style&gt;\n",
       "                #map_e48c78d50a4b5b555eb3548bc6b53929 {\n",
       "                    position: relative;\n",
       "                    width: 100.0%;\n",
       "                    height: 100.0%;\n",
       "                    left: 0.0%;\n",
       "                    top: 0.0%;\n",
       "                }\n",
       "            &lt;/style&gt;\n",
       "        \n",
       "&lt;/head&gt;\n",
       "&lt;body&gt;    \n",
       "    \n",
       "              &lt;h3 align=&quot;center&quot; style=&quot;font-size:16px&quot;&gt;&lt;b&gt;Recent Miami-Dade Condo Sales &lt;/b&gt;&lt;/h3&gt;\n",
       "             \n",
       "    \n",
       "                &lt;p align=&quot;center&quot; style=&quot;vertical-align: bottom; font-size:13px&quot;&gt;&lt;i&gt;August 13th - August 21st&lt;/i&gt;&lt;/p&gt;\n",
       "                \n",
       "    \n",
       "            &lt;div class=&quot;folium-map&quot; id=&quot;map_e48c78d50a4b5b555eb3548bc6b53929&quot; &gt;&lt;/div&gt;\n",
       "        \n",
       "&lt;/body&gt;\n",
       "&lt;script&gt;    \n",
       "    \n",
       "            var map_e48c78d50a4b5b555eb3548bc6b53929 = L.map(\n",
       "                &quot;map_e48c78d50a4b5b555eb3548bc6b53929&quot;,\n",
       "                {\n",
       "                    center: [25.84284895, -80.14344566999999],\n",
       "                    crs: L.CRS.EPSG3857,\n",
       "                    zoom: 9.5,\n",
       "                    zoomControl: true,\n",
       "                    preferCanvas: false,\n",
       "                }\n",
       "            );\n",
       "\n",
       "            \n",
       "\n",
       "        \n",
       "    \n",
       "            var feature_group_a2d45080559c1d96b84315204d3edc39 = L.featureGroup(\n",
       "                {}\n",
       "            ).addTo(map_e48c78d50a4b5b555eb3548bc6b53929);\n",
       "        \n",
       "    \n",
       "            var marker_17cbb36aed8634c537e593a2cbf5561d = L.marker(\n",
       "                [25.9519943, -80.11997],\n",
       "                {&quot;fill&quot;: true, &quot;radius&quot;: 5}\n",
       "            ).addTo(feature_group_a2d45080559c1d96b84315204d3edc39);\n",
       "        \n",
       "    \n",
       "            var icon_a3d0419d1763ca35841e44942c919ce5 = L.AwesomeMarkers.icon(\n",
       "                {&quot;extraClasses&quot;: &quot;fa-rotate-0&quot;, &quot;icon&quot;: &quot;info-sign&quot;, &quot;iconColor&quot;: &quot;white&quot;, &quot;markerColor&quot;: &quot;orange&quot;, &quot;prefix&quot;: &quot;glyphicon&quot;}\n",
       "            );\n",
       "            marker_17cbb36aed8634c537e593a2cbf5561d.setIcon(icon_a3d0419d1763ca35841e44942c919ce5);\n",
       "        \n",
       "    \n",
       "        var popup_375c2c6e0b93cfc46dd412f4f3b9a5fd = L.popup({&quot;maxWidth&quot;: 400});\n",
       "\n",
       "        \n",
       "            \n",
       "                var html_094ccb048b8068a2378f64adda9ea8ea = $(`&lt;div id=&quot;html_094ccb048b8068a2378f64adda9ea8ea&quot; style=&quot;width: 100.0%; height: 100.0%;&quot;&gt;&lt;!DOCTYPE html&gt;     &lt;html&gt;     &lt;strong&gt;Building Name: &lt;/strong&gt;Residences by Armani&lt;br&gt;     &lt;strong&gt;Sale Price: &lt;/strong&gt;$4,200,000.00&lt;br&gt;     &lt;strong&gt;Days on Market: &lt;/strong&gt;9&lt;br&gt;     &lt;strong&gt;Listing Agent: &lt;/strong&gt;Fabio Lopes&lt;br&gt;     &lt;strong&gt;Buyer&#x27;s Agent: &lt;/strong&gt;Ian Reisner&lt;br&gt;     &lt;strong&gt;Price sq ft: &lt;/strong&gt;$1546.39&lt;br&gt;     &lt;strong&gt;Address: &lt;/strong&gt;18975 Collins Ave 4903 Sunny Isles&lt;br&gt;     &lt;/html&gt;     &lt;/div&gt;`)[0];\n",
       "                popup_375c2c6e0b93cfc46dd412f4f3b9a5fd.setContent(html_094ccb048b8068a2378f64adda9ea8ea);\n",
       "            \n",
       "        \n",
       "\n",
       "        marker_17cbb36aed8634c537e593a2cbf5561d.bindPopup(popup_375c2c6e0b93cfc46dd412f4f3b9a5fd)\n",
       "        ;\n",
       "\n",
       "        \n",
       "    \n",
       "    \n",
       "            var feature_group_5297c0f418b2a21ba71453f1213092ee = L.featureGroup(\n",
       "                {}\n",
       "            ).addTo(map_e48c78d50a4b5b555eb3548bc6b53929);\n",
       "        \n",
       "    \n",
       "            var marker_587d66090078a0bf528d749150c8bce3 = L.marker(\n",
       "                [25.9426083, -80.1357173],\n",
       "                {&quot;fill&quot;: true, &quot;radius&quot;: 5}\n",
       "            ).addTo(feature_group_5297c0f418b2a21ba71453f1213092ee);\n",
       "        \n",
       "    \n",
       "            var icon_8b83ffe6542000d44a7ae1ccc62ecdc0 = L.AwesomeMarkers.icon(\n",
       "                {&quot;extraClasses&quot;: &quot;fa-rotate-0&quot;, &quot;icon&quot;: &quot;info-sign&quot;, &quot;iconColor&quot;: &quot;white&quot;, &quot;markerColor&quot;: &quot;blue&quot;, &quot;prefix&quot;: &quot;glyphicon&quot;}\n",
       "            );\n",
       "            marker_587d66090078a0bf528d749150c8bce3.setIcon(icon_8b83ffe6542000d44a7ae1ccc62ecdc0);\n",
       "        \n",
       "    \n",
       "        var popup_b955748288fa2b09408799745335792c = L.popup({&quot;maxWidth&quot;: 400});\n",
       "\n",
       "        \n",
       "            \n",
       "                var html_8e3f8cde11a3ce7810cd24076be44090 = $(`&lt;div id=&quot;html_8e3f8cde11a3ce7810cd24076be44090&quot; style=&quot;width: 100.0%; height: 100.0%;&quot;&gt;&lt;!DOCTYPE html&gt;     &lt;html&gt;     &lt;strong&gt;Building Name: &lt;/strong&gt;Bellamare&lt;br&gt;     &lt;strong&gt;Sale Price: &lt;/strong&gt;$4,000,000.00&lt;br&gt;     &lt;strong&gt;Days on Market: &lt;/strong&gt;15&lt;br&gt;     &lt;strong&gt;Listing Agent: &lt;/strong&gt;Richard Goihman&lt;br&gt;     &lt;strong&gt;Buyer&#x27;s Agent: &lt;/strong&gt;Jodi Macken&lt;br&gt;     &lt;strong&gt;Price sq ft: &lt;/strong&gt;$998.75&lt;br&gt;     &lt;strong&gt;Address: &lt;/strong&gt;6000 Island Blvd 2108&lt;br&gt;     &lt;/html&gt;     &lt;/div&gt;`)[0];\n",
       "                popup_b955748288fa2b09408799745335792c.setContent(html_8e3f8cde11a3ce7810cd24076be44090);\n",
       "            \n",
       "        \n",
       "\n",
       "        marker_587d66090078a0bf528d749150c8bce3.bindPopup(popup_b955748288fa2b09408799745335792c)\n",
       "        ;\n",
       "\n",
       "        \n",
       "    \n",
       "    \n",
       "            var marker_6df95b60bd16eb3e49899fa46b7e2c90 = L.marker(\n",
       "                [25.7672315, -80.1327611],\n",
       "                {&quot;fill&quot;: true, &quot;radius&quot;: 5}\n",
       "            ).addTo(feature_group_5297c0f418b2a21ba71453f1213092ee);\n",
       "        \n",
       "    \n",
       "            var icon_3d95cc1af4040060b0f3492e8c284a2f = L.AwesomeMarkers.icon(\n",
       "                {&quot;extraClasses&quot;: &quot;fa-rotate-0&quot;, &quot;icon&quot;: &quot;info-sign&quot;, &quot;iconColor&quot;: &quot;white&quot;, &quot;markerColor&quot;: &quot;blue&quot;, &quot;prefix&quot;: &quot;glyphicon&quot;}\n",
       "            );\n",
       "            marker_6df95b60bd16eb3e49899fa46b7e2c90.setIcon(icon_3d95cc1af4040060b0f3492e8c284a2f);\n",
       "        \n",
       "    \n",
       "        var popup_de5f762122ae4c87e9c8a6ac477375bd = L.popup({&quot;maxWidth&quot;: 400});\n",
       "\n",
       "        \n",
       "            \n",
       "                var html_90f011611c8801612a24c866662bd9ec = $(`&lt;div id=&quot;html_90f011611c8801612a24c866662bd9ec&quot; style=&quot;width: 100.0%; height: 100.0%;&quot;&gt;&lt;!DOCTYPE html&gt;     &lt;html&gt;     &lt;strong&gt;Building Name: &lt;/strong&gt;Continuum on South Beach&lt;br&gt;     &lt;strong&gt;Sale Price: &lt;/strong&gt;$3,800,000.00&lt;br&gt;     &lt;strong&gt;Days on Market: &lt;/strong&gt;30&lt;br&gt;     &lt;strong&gt;Listing Agent: &lt;/strong&gt;Stacy Robins&lt;br&gt;     &lt;strong&gt;Buyer&#x27;s Agent: &lt;/strong&gt;Roland Ortiz&lt;br&gt;     &lt;strong&gt;Price sq ft: &lt;/strong&gt;$2237.93&lt;br&gt;     &lt;strong&gt;Address: &lt;/strong&gt;50 S Pointe Dr 2005 Miami&lt;br&gt;     &lt;/html&gt;     &lt;/div&gt;`)[0];\n",
       "                popup_de5f762122ae4c87e9c8a6ac477375bd.setContent(html_90f011611c8801612a24c866662bd9ec);\n",
       "            \n",
       "        \n",
       "\n",
       "        marker_6df95b60bd16eb3e49899fa46b7e2c90.bindPopup(popup_de5f762122ae4c87e9c8a6ac477375bd)\n",
       "        ;\n",
       "\n",
       "        \n",
       "    \n",
       "    \n",
       "            var marker_57793c8c2904e3a09b0783e38fd33ab9 = L.marker(\n",
       "                [25.7677055, -80.1348768],\n",
       "                {&quot;fill&quot;: true, &quot;radius&quot;: 5}\n",
       "            ).addTo(feature_group_5297c0f418b2a21ba71453f1213092ee);\n",
       "        \n",
       "    \n",
       "            var icon_f10953652caece5129588581842b27c0 = L.AwesomeMarkers.icon(\n",
       "                {&quot;extraClasses&quot;: &quot;fa-rotate-0&quot;, &quot;icon&quot;: &quot;info-sign&quot;, &quot;iconColor&quot;: &quot;white&quot;, &quot;markerColor&quot;: &quot;blue&quot;, &quot;prefix&quot;: &quot;glyphicon&quot;}\n",
       "            );\n",
       "            marker_57793c8c2904e3a09b0783e38fd33ab9.setIcon(icon_f10953652caece5129588581842b27c0);\n",
       "        \n",
       "    \n",
       "        var popup_4d30cca413507b3d333d7649bad423e1 = L.popup({&quot;maxWidth&quot;: 400});\n",
       "\n",
       "        \n",
       "            \n",
       "                var html_0784bdecf8b18ef93a9164f9cc2f976d = $(`&lt;div id=&quot;html_0784bdecf8b18ef93a9164f9cc2f976d&quot; style=&quot;width: 100.0%; height: 100.0%;&quot;&gt;&lt;!DOCTYPE html&gt;     &lt;html&gt;     &lt;strong&gt;Building Name: &lt;/strong&gt;Portofino Tower&lt;br&gt;     &lt;strong&gt;Sale Price: &lt;/strong&gt;$3,500,000.00&lt;br&gt;     &lt;strong&gt;Days on Market: &lt;/strong&gt;84&lt;br&gt;     &lt;strong&gt;Listing Agent: &lt;/strong&gt;Oiva Lloyd&lt;br&gt;     &lt;strong&gt;Buyer&#x27;s Agent: &lt;/strong&gt;Esha Desaiy&lt;br&gt;     &lt;strong&gt;Price sq ft: &lt;/strong&gt;$1372.55&lt;br&gt;     &lt;strong&gt;Address: &lt;/strong&gt;300 S Pointe Dr 3403 Miami&lt;br&gt;     &lt;/html&gt;     &lt;/div&gt;`)[0];\n",
       "                popup_4d30cca413507b3d333d7649bad423e1.setContent(html_0784bdecf8b18ef93a9164f9cc2f976d);\n",
       "            \n",
       "        \n",
       "\n",
       "        marker_57793c8c2904e3a09b0783e38fd33ab9.bindPopup(popup_4d30cca413507b3d333d7649bad423e1)\n",
       "        ;\n",
       "\n",
       "        \n",
       "    \n",
       "    \n",
       "            var marker_13dc60b0a3b3f809887919cc0562c0ca = L.marker(\n",
       "                [25.9508982, -80.12008589999999],\n",
       "                {&quot;fill&quot;: true, &quot;radius&quot;: 5}\n",
       "            ).addTo(feature_group_5297c0f418b2a21ba71453f1213092ee);\n",
       "        \n",
       "    \n",
       "            var icon_16e71e92ea27dbf150694ef1b718f1b7 = L.AwesomeMarkers.icon(\n",
       "                {&quot;extraClasses&quot;: &quot;fa-rotate-0&quot;, &quot;icon&quot;: &quot;info-sign&quot;, &quot;iconColor&quot;: &quot;white&quot;, &quot;markerColor&quot;: &quot;blue&quot;, &quot;prefix&quot;: &quot;glyphicon&quot;}\n",
       "            );\n",
       "            marker_13dc60b0a3b3f809887919cc0562c0ca.setIcon(icon_16e71e92ea27dbf150694ef1b718f1b7);\n",
       "        \n",
       "    \n",
       "        var popup_70739cd247e3fc302dfb94fe3114a931 = L.popup({&quot;maxWidth&quot;: 400});\n",
       "\n",
       "        \n",
       "            \n",
       "                var html_0a87d3459f30c7f65de358fd4f93ff9d = $(`&lt;div id=&quot;html_0a87d3459f30c7f65de358fd4f93ff9d&quot; style=&quot;width: 100.0%; height: 100.0%;&quot;&gt;&lt;!DOCTYPE html&gt;     &lt;html&gt;     &lt;strong&gt;Building Name: &lt;/strong&gt;Ocean Three Condo&lt;br&gt;     &lt;strong&gt;Sale Price: &lt;/strong&gt;$3,100,000.00&lt;br&gt;     &lt;strong&gt;Days on Market: &lt;/strong&gt;33&lt;br&gt;     &lt;strong&gt;Listing Agent: &lt;/strong&gt;Alina Meledina&lt;br&gt;     &lt;strong&gt;Buyer&#x27;s Agent: &lt;/strong&gt;Rebecca Greemberg&lt;br&gt;     &lt;strong&gt;Price sq ft: &lt;/strong&gt;$734.42&lt;br&gt;     &lt;strong&gt;Address: &lt;/strong&gt;18911 Collins Ave 3405 Sunny Isles&lt;br&gt;     &lt;/html&gt;     &lt;/div&gt;`)[0];\n",
       "                popup_70739cd247e3fc302dfb94fe3114a931.setContent(html_0a87d3459f30c7f65de358fd4f93ff9d);\n",
       "            \n",
       "        \n",
       "\n",
       "        marker_13dc60b0a3b3f809887919cc0562c0ca.bindPopup(popup_70739cd247e3fc302dfb94fe3114a931)\n",
       "        ;\n",
       "\n",
       "        \n",
       "    \n",
       "    \n",
       "            var marker_8984a23275d80c944632650a93054ad0 = L.marker(\n",
       "                [25.7719135, -80.1380353],\n",
       "                {&quot;fill&quot;: true, &quot;radius&quot;: 5}\n",
       "            ).addTo(feature_group_5297c0f418b2a21ba71453f1213092ee);\n",
       "        \n",
       "    \n",
       "            var icon_e943d3cd24e117fc5f1b5b193c818810 = L.AwesomeMarkers.icon(\n",
       "                {&quot;extraClasses&quot;: &quot;fa-rotate-0&quot;, &quot;icon&quot;: &quot;info-sign&quot;, &quot;iconColor&quot;: &quot;white&quot;, &quot;markerColor&quot;: &quot;blue&quot;, &quot;prefix&quot;: &quot;glyphicon&quot;}\n",
       "            );\n",
       "            marker_8984a23275d80c944632650a93054ad0.setIcon(icon_e943d3cd24e117fc5f1b5b193c818810);\n",
       "        \n",
       "    \n",
       "        var popup_e7f4ef528f00ce5f6ba63f7e29b29580 = L.popup({&quot;maxWidth&quot;: 400});\n",
       "\n",
       "        \n",
       "            \n",
       "                var html_567b578c4c4f1aba141b1e940c0b8599 = $(`&lt;div id=&quot;html_567b578c4c4f1aba141b1e940c0b8599&quot; style=&quot;width: 100.0%; height: 100.0%;&quot;&gt;&lt;!DOCTYPE html&gt;     &lt;html&gt;     &lt;strong&gt;Building Name: &lt;/strong&gt;Icon&lt;br&gt;     &lt;strong&gt;Sale Price: &lt;/strong&gt;$2,700,000.00&lt;br&gt;     &lt;strong&gt;Days on Market: &lt;/strong&gt;70&lt;br&gt;     &lt;strong&gt;Listing Agent: &lt;/strong&gt;Geronimos Dogagis&lt;br&gt;     &lt;strong&gt;Buyer&#x27;s Agent: &lt;/strong&gt;David Pullman&lt;br&gt;     &lt;strong&gt;Price sq ft: &lt;/strong&gt;$1396.79&lt;br&gt;     &lt;strong&gt;Address: &lt;/strong&gt;450 Alton Rd 802 Miami&lt;br&gt;     &lt;/html&gt;     &lt;/div&gt;`)[0];\n",
       "                popup_e7f4ef528f00ce5f6ba63f7e29b29580.setContent(html_567b578c4c4f1aba141b1e940c0b8599);\n",
       "            \n",
       "        \n",
       "\n",
       "        marker_8984a23275d80c944632650a93054ad0.bindPopup(popup_e7f4ef528f00ce5f6ba63f7e29b29580)\n",
       "        ;\n",
       "\n",
       "        \n",
       "    \n",
       "    \n",
       "            var marker_bad1ef3ec17ef69705cd88797824fc0b = L.marker(\n",
       "                [25.7602718, -80.1896876],\n",
       "                {&quot;fill&quot;: true, &quot;radius&quot;: 5}\n",
       "            ).addTo(feature_group_5297c0f418b2a21ba71453f1213092ee);\n",
       "        \n",
       "    \n",
       "            var icon_3f79644af4bb92cb124d22a3ebe6f61d = L.AwesomeMarkers.icon(\n",
       "                {&quot;extraClasses&quot;: &quot;fa-rotate-0&quot;, &quot;icon&quot;: &quot;info-sign&quot;, &quot;iconColor&quot;: &quot;white&quot;, &quot;markerColor&quot;: &quot;blue&quot;, &quot;prefix&quot;: &quot;glyphicon&quot;}\n",
       "            );\n",
       "            marker_bad1ef3ec17ef69705cd88797824fc0b.setIcon(icon_3f79644af4bb92cb124d22a3ebe6f61d);\n",
       "        \n",
       "    \n",
       "        var popup_a1cc84842a1af56cdba95e24f6b8e59a = L.popup({&quot;maxWidth&quot;: 400});\n",
       "\n",
       "        \n",
       "            \n",
       "                var html_6934515346146b668e7accc46ab47c13 = $(`&lt;div id=&quot;html_6934515346146b668e7accc46ab47c13&quot; style=&quot;width: 100.0%; height: 100.0%;&quot;&gt;&lt;!DOCTYPE html&gt;     &lt;html&gt;     &lt;strong&gt;Building Name: &lt;/strong&gt;Jade Residences&lt;br&gt;     &lt;strong&gt;Sale Price: &lt;/strong&gt;$2,500,000.00&lt;br&gt;     &lt;strong&gt;Days on Market: &lt;/strong&gt;35&lt;br&gt;     &lt;strong&gt;Listing Agent: &lt;/strong&gt;Benjamin Moss&lt;br&gt;     &lt;strong&gt;Buyer&#x27;s Agent: &lt;/strong&gt;Courtney Collins Ivey&lt;br&gt;     &lt;strong&gt;Price sq ft: &lt;/strong&gt;$1173.71&lt;br&gt;     &lt;strong&gt;Address: &lt;/strong&gt;1331 Brickell Bay Dr 3007&lt;br&gt;     &lt;/html&gt;     &lt;/div&gt;`)[0];\n",
       "                popup_a1cc84842a1af56cdba95e24f6b8e59a.setContent(html_6934515346146b668e7accc46ab47c13);\n",
       "            \n",
       "        \n",
       "\n",
       "        marker_bad1ef3ec17ef69705cd88797824fc0b.bindPopup(popup_a1cc84842a1af56cdba95e24f6b8e59a)\n",
       "        ;\n",
       "\n",
       "        \n",
       "    \n",
       "    \n",
       "            var marker_61c25c79e970f0ec9c3d56fd7e03272c = L.marker(\n",
       "                [25.7602718, -80.1896876],\n",
       "                {&quot;fill&quot;: true, &quot;radius&quot;: 5}\n",
       "            ).addTo(feature_group_5297c0f418b2a21ba71453f1213092ee);\n",
       "        \n",
       "    \n",
       "            var icon_4770a7a238704eb87537652ca0301611 = L.AwesomeMarkers.icon(\n",
       "                {&quot;extraClasses&quot;: &quot;fa-rotate-0&quot;, &quot;icon&quot;: &quot;info-sign&quot;, &quot;iconColor&quot;: &quot;white&quot;, &quot;markerColor&quot;: &quot;blue&quot;, &quot;prefix&quot;: &quot;glyphicon&quot;}\n",
       "            );\n",
       "            marker_61c25c79e970f0ec9c3d56fd7e03272c.setIcon(icon_4770a7a238704eb87537652ca0301611);\n",
       "        \n",
       "    \n",
       "        var popup_96c7ba2ccf082a326770776275bee195 = L.popup({&quot;maxWidth&quot;: 400});\n",
       "\n",
       "        \n",
       "            \n",
       "                var html_be74074dde374c66693b00aaf91c5b5d = $(`&lt;div id=&quot;html_be74074dde374c66693b00aaf91c5b5d&quot; style=&quot;width: 100.0%; height: 100.0%;&quot;&gt;&lt;!DOCTYPE html&gt;     &lt;html&gt;     &lt;strong&gt;Building Name: &lt;/strong&gt;Jade Residences&lt;br&gt;     &lt;strong&gt;Sale Price: &lt;/strong&gt;$2,050,000.00&lt;br&gt;     &lt;strong&gt;Days on Market: &lt;/strong&gt;14&lt;br&gt;     &lt;strong&gt;Listing Agent: &lt;/strong&gt;Geane Brito&lt;br&gt;     &lt;strong&gt;Buyer&#x27;s Agent: &lt;/strong&gt;Vanessa Grisalez&lt;br&gt;     &lt;strong&gt;Price sq ft: &lt;/strong&gt;$1184.97&lt;br&gt;     &lt;strong&gt;Address: &lt;/strong&gt;1331 Brickell Bay Dr 2609&lt;br&gt;     &lt;/html&gt;     &lt;/div&gt;`)[0];\n",
       "                popup_96c7ba2ccf082a326770776275bee195.setContent(html_be74074dde374c66693b00aaf91c5b5d);\n",
       "            \n",
       "        \n",
       "\n",
       "        marker_61c25c79e970f0ec9c3d56fd7e03272c.bindPopup(popup_96c7ba2ccf082a326770776275bee195)\n",
       "        ;\n",
       "\n",
       "        \n",
       "    \n",
       "    \n",
       "            var marker_f3c8fef31165518f91868087d3d447a9 = L.marker(\n",
       "                [25.9652576, -80.1248626],\n",
       "                {&quot;fill&quot;: true, &quot;radius&quot;: 5}\n",
       "            ).addTo(feature_group_5297c0f418b2a21ba71453f1213092ee);\n",
       "        \n",
       "    \n",
       "            var icon_9580de013913f05052fbff664f83aafa = L.AwesomeMarkers.icon(\n",
       "                {&quot;extraClasses&quot;: &quot;fa-rotate-0&quot;, &quot;icon&quot;: &quot;info-sign&quot;, &quot;iconColor&quot;: &quot;white&quot;, &quot;markerColor&quot;: &quot;blue&quot;, &quot;prefix&quot;: &quot;glyphicon&quot;}\n",
       "            );\n",
       "            marker_f3c8fef31165518f91868087d3d447a9.setIcon(icon_9580de013913f05052fbff664f83aafa);\n",
       "        \n",
       "    \n",
       "        var popup_27faa5ddc5389f8c42e56ef9a40ae312 = L.popup({&quot;maxWidth&quot;: 400});\n",
       "\n",
       "        \n",
       "            \n",
       "                var html_863df2c1206efaf6d81bff3b6a860541 = $(`&lt;div id=&quot;html_863df2c1206efaf6d81bff3b6a860541&quot; style=&quot;width: 100.0%; height: 100.0%;&quot;&gt;&lt;!DOCTYPE html&gt;     &lt;html&gt;     &lt;strong&gt;Building Name: &lt;/strong&gt;Hamptons South&lt;br&gt;     &lt;strong&gt;Sale Price: &lt;/strong&gt;$1,850,000.00&lt;br&gt;     &lt;strong&gt;Days on Market: &lt;/strong&gt;25&lt;br&gt;     &lt;strong&gt;Listing Agent: &lt;/strong&gt;Silvia Olivera PA&lt;br&gt;     &lt;strong&gt;Buyer&#x27;s Agent: &lt;/strong&gt;Ana Kajayan&lt;br&gt;     &lt;strong&gt;Price sq ft: &lt;/strong&gt;$517.48&lt;br&gt;     &lt;strong&gt;Address: &lt;/strong&gt;20201 E Country Club Dr 2101&lt;br&gt;     &lt;/html&gt;     &lt;/div&gt;`)[0];\n",
       "                popup_27faa5ddc5389f8c42e56ef9a40ae312.setContent(html_863df2c1206efaf6d81bff3b6a860541);\n",
       "            \n",
       "        \n",
       "\n",
       "        marker_f3c8fef31165518f91868087d3d447a9.bindPopup(popup_27faa5ddc5389f8c42e56ef9a40ae312)\n",
       "        ;\n",
       "\n",
       "        \n",
       "    \n",
       "    \n",
       "            var marker_70583acf59a40fe7ddf5f554777af471 = L.marker(\n",
       "                [25.790337, -80.14877249999999],\n",
       "                {&quot;fill&quot;: true, &quot;radius&quot;: 5}\n",
       "            ).addTo(feature_group_5297c0f418b2a21ba71453f1213092ee);\n",
       "        \n",
       "    \n",
       "            var icon_cb057d68ffd5fd84383f628066bd9f55 = L.AwesomeMarkers.icon(\n",
       "                {&quot;extraClasses&quot;: &quot;fa-rotate-0&quot;, &quot;icon&quot;: &quot;info-sign&quot;, &quot;iconColor&quot;: &quot;white&quot;, &quot;markerColor&quot;: &quot;blue&quot;, &quot;prefix&quot;: &quot;glyphicon&quot;}\n",
       "            );\n",
       "            marker_70583acf59a40fe7ddf5f554777af471.setIcon(icon_cb057d68ffd5fd84383f628066bd9f55);\n",
       "        \n",
       "    \n",
       "        var popup_6f21ba2cef3d116a825d796d682ba88b = L.popup({&quot;maxWidth&quot;: 400});\n",
       "\n",
       "        \n",
       "            \n",
       "                var html_21d332691e91a9394716b86aff03de95 = $(`&lt;div id=&quot;html_21d332691e91a9394716b86aff03de95&quot; style=&quot;width: 100.0%; height: 100.0%;&quot;&gt;&lt;!DOCTYPE html&gt;     &lt;html&gt;     &lt;strong&gt;Building Name: &lt;/strong&gt;Nine Island Ave&lt;br&gt;     &lt;strong&gt;Sale Price: &lt;/strong&gt;$1,670,000.00&lt;br&gt;     &lt;strong&gt;Days on Market: &lt;/strong&gt;23&lt;br&gt;     &lt;strong&gt;Listing Agent: &lt;/strong&gt;Geane Brito&lt;br&gt;     &lt;strong&gt;Buyer&#x27;s Agent: &lt;/strong&gt;Allison Turk PA&lt;br&gt;     &lt;strong&gt;Price sq ft: &lt;/strong&gt;$699.33&lt;br&gt;     &lt;strong&gt;Address: &lt;/strong&gt;9 Island Ave 514 Miami&lt;br&gt;     &lt;/html&gt;     &lt;/div&gt;`)[0];\n",
       "                popup_6f21ba2cef3d116a825d796d682ba88b.setContent(html_21d332691e91a9394716b86aff03de95);\n",
       "            \n",
       "        \n",
       "\n",
       "        marker_70583acf59a40fe7ddf5f554777af471.bindPopup(popup_6f21ba2cef3d116a825d796d682ba88b)\n",
       "        ;\n",
       "\n",
       "        \n",
       "    \n",
       "    \n",
       "            var tile_layer_4779bd8ad1909d719db26fa5d675d645 = L.tileLayer(\n",
       "                &quot;https://{s}.tile.openstreetmap.org/{z}/{x}/{y}.png&quot;,\n",
       "                {&quot;attribution&quot;: &quot;Data by \\u0026copy; \\u003ca href=\\&quot;http://openstreetmap.org\\&quot;\\u003eOpenStreetMap\\u003c/a\\u003e, under \\u003ca href=\\&quot;http://www.openstreetmap.org/copyright\\&quot;\\u003eODbL\\u003c/a\\u003e.&quot;, &quot;detectRetina&quot;: false, &quot;maxNativeZoom&quot;: 18, &quot;maxZoom&quot;: 18, &quot;minZoom&quot;: 0, &quot;noWrap&quot;: false, &quot;opacity&quot;: 1, &quot;subdomains&quot;: &quot;abc&quot;, &quot;tms&quot;: false}\n",
       "            ).addTo(map_e48c78d50a4b5b555eb3548bc6b53929);\n",
       "        \n",
       "    \n",
       "            var layer_control_f4cbe930371a18adc3972dfac352811a = {\n",
       "                base_layers : {\n",
       "                },\n",
       "                overlays :  {\n",
       "                    &quot;Top Sale&quot; : feature_group_a2d45080559c1d96b84315204d3edc39,\n",
       "                    &quot;All other sales&quot; : feature_group_5297c0f418b2a21ba71453f1213092ee,\n",
       "                },\n",
       "            };\n",
       "            L.control.layers(\n",
       "                layer_control_f4cbe930371a18adc3972dfac352811a.base_layers,\n",
       "                layer_control_f4cbe930371a18adc3972dfac352811a.overlays,\n",
       "                {&quot;autoZIndex&quot;: true, &quot;collapsed&quot;: false, &quot;position&quot;: &quot;topright&quot;}\n",
       "            ).addTo(map_e48c78d50a4b5b555eb3548bc6b53929);\n",
       "        \n",
       "&lt;/script&gt;\" style=\"position:absolute;width:100%;height:100%;left:0;top:0;border:none !important;\" allowfullscreen webkitallowfullscreen mozallowfullscreen></iframe></div></div>"
      ],
      "text/plain": [
       "<folium.folium.Map at 0x7faaa041c9a0>"
      ]
     },
     "execution_count": 22,
     "metadata": {},
     "output_type": "execute_result"
    }
   ],
   "source": [
    "import folium\n",
    "from folium.plugins import MarkerCluster\n",
    "\n",
    "m = folium.Map(location=df[[\"lat\", \"lon\"]].mean().to_list(), zoom_start=10)\n",
    "\n",
    "title_html = '''\n",
    "              <h3 align=\"center\" style=\"font-size:16px\"><b>{}</b></h3>\n",
    "             '''.format(f'Recent Miami-Dade Condo Sales ')\n",
    "\n",
    "caption_html = '''\n",
    "                <p align=\"center\" style=\"vertical-align: bottom; font-size:13px\"><i>{}</i></p>\n",
    "                '''.format('August 13th - August 21st')\n",
    "\n",
    "\n",
    "### Create map container ###\n",
    "m = folium.Map(location=df[[\"lat\", \"lon\"]].mean().to_list(),zoom_start=9.5,tiles=None)\n",
    "\n",
    "# Create two FeatureGroups for different color pins\n",
    "fg_blue = folium.FeatureGroup(name='All other sales')\n",
    "fg_orange = folium.FeatureGroup(name='Top Sale')\n",
    "\n",
    "for index, row in df.iterrows():\n",
    "    # Add the markers to the appropriate FeatureGroup based on the color\n",
    "    if row['COLOR'] == 'blue':\n",
    "        marker = folium.Marker(\n",
    "            location=[row['lat'], row['lon']],\n",
    "            radius=5,\n",
    "            fill=True,\n",
    "            icon=folium.Icon(color=row['COLOR']),\n",
    "            popup=folium.Popup(popup_html(row), max_width=400))\n",
    "        marker.add_to(fg_blue)\n",
    "    else:\n",
    "        marker = folium.Marker(\n",
    "            location=[row['lat'], row['lon']],\n",
    "            radius=5,\n",
    "            fill=True,\n",
    "            icon=folium.Icon(color=row['COLOR']),\n",
    "            popup=folium.Popup(popup_html(row), max_width=400))\n",
    "        marker.add_to(fg_orange)\n",
    "\n",
    "# Add the FeatureGroups to the map\n",
    "fg_orange.add_to(m)\n",
    "fg_blue.add_to(m)\n",
    "\n",
    "folium.TileLayer('OpenStreetMap',control=False).add_to(m)\n",
    "\n",
    "# Add LayerControl to the map\n",
    "folium.map.LayerControl(collapsed=False).add_to(m)\n",
    "m.get_root().html.add_child(folium.Element(title_html))\n",
    "m.get_root().html.add_child(folium.Element(caption_html))\n",
    "            \n",
    "# Display map\n",
    "m"
   ]
  },
  {
   "cell_type": "code",
   "execution_count": 23,
   "metadata": {},
   "outputs": [],
   "source": [
    "m.save('index.html')"
   ]
  },
  {
   "cell_type": "markdown",
   "metadata": {},
   "source": [
    "## Data snagger"
   ]
  },
  {
   "cell_type": "code",
   "execution_count": 24,
   "metadata": {},
   "outputs": [],
   "source": [
    "### Set up formatting ###\n",
    "BR = '\\n'\n",
    "\n",
    "ME = '\\033[1m' + 'Most Expensive' + '\\033[0m'\n",
    "LE = '\\033[1m' + 'Least Expensive' + '\\033[0m'\n",
    "\n",
    "MAX_PSF = '\\033[1m' + 'Highest Price Per Square Foot' + '\\033[0m'\n",
    "MIN_PSF = '\\033[1m' + 'Lowest Price Per Square Foot' + '\\033[0m'\n",
    "\n",
    "DAYS_MAX = '\\033[1m' + 'Most Days on Market' + '\\033[0m'\n",
    "DAYS_MIN = '\\033[1m' + 'Fewest Days on Market' + '\\033[0m'"
   ]
  },
  {
   "cell_type": "code",
   "execution_count": 25,
   "metadata": {},
   "outputs": [
    {
     "name": "stdout",
     "output_type": "stream",
     "text": [
      "\u001b[1mMost Expensive\u001b[0m\n",
      "Residences by Armani, 18975 Collins Ave 4903 Sunny Isles | Price $4,200,000 | $1,546 psf | Listing agent: Fabio Lopes with Coldwell Banker Realty | Buyer's agent: Ian Reisner with Dezer Platinum Realty LLC | Days on market: 9\n",
      "\u001b[1mLeast Expensive\u001b[0m\n",
      "Nine Island Ave, 9 Island Ave 514 Miami | Price $1,670,000 | $699 psf | Listing agent: Geane Brito with Compass Florida, LLC. | Buyer's agent: Allison Turk PA with Coldwell Banker Realty | Days on market: 23\n",
      "\u001b[1mHighest Price Per Square Foot\u001b[0m\n",
      "Continuum on South Beach, 50 S Pointe Dr 2005 Miami | Price $3,800,000 | $2,238 psf | Listing agent: Stacy Robins with Stacy Robins Companies, Inc. | Buyer's agent: Roland Ortiz with One Sotheby's International Re | Days on market: 30\n",
      "\u001b[1mLowest Price Per Square Foot\u001b[0m\n",
      "Hamptons South, 20201 E Country Club Dr 2101 | Price $1,850,000 | $517 psf | Listing agent: Silvia Olivera PA with FIP Realty Services, LLC | Buyer's agent: Ana Kajayan with Beachfront Realty Inc | Days on market: 25\n",
      "\u001b[1mMost Days on Market\u001b[0m\n",
      "Portofino Tower, 300 S Pointe Dr 3403 Miami | Price $3,500,000 | $1,373 psf | Listing agent: Oiva Lloyd with South Pointe Drive Realty Inc | Buyer's agent: Esha Desaiy with Compass Florida, LLC. | Days on market: 84\n",
      "\u001b[1mFewest Days on Market\u001b[0m\n",
      "Residences by Armani, 18975 Collins Ave 4903 Sunny Isles | Price $4,200,000 | $1,546 psf | Listing agent: Fabio Lopes with Coldwell Banker Realty | Buyer's agent: Ian Reisner with Dezer Platinum Realty LLC | Days on market: 9\n"
     ]
    }
   ],
   "source": [
    "### Highest and lowest sale price ###\n",
    "print(f\"{ME}{BR}{df.loc[df['int_Sale_Price'].idxmax()]['building_name']}, {df.loc[df['int_Sale_Price'].idxmax()]['address']} | Price ${df.loc[df['int_Sale_Price'].idxmax()]['int_Sale_Price']:,.0f} | ${df.loc[df['int_Sale_Price'].idxmax()]['price_per_sqft']:,.0f} psf | Listing agent: {df.loc[df['int_Sale_Price'].idxmax()]['Agent']} with {df.loc[df['int_Sale_Price'].idxmax()]['Listing Broker']} | Buyer's agent: {df.loc[df['int_Sale_Price'].idxmax()]['Buyer Agent']} with {df.loc[df['int_Sale_Price'].idxmax()]['Buyer Broker']} | Days on market: {df.loc[df['int_Sale_Price'].idxmax()]['days_on_market']}\")\n",
    "print(f\"{LE}{BR}{df.loc[df['int_Sale_Price'].idxmin()]['building_name']}, {df.loc[df['int_Sale_Price'].idxmin()]['address']} | Price ${df.loc[df['int_Sale_Price'].idxmin()]['int_Sale_Price']:,.0f} | ${df.loc[df['int_Sale_Price'].idxmin()]['price_per_sqft']:,.0f} psf | Listing agent: {df.loc[df['int_Sale_Price'].idxmin()]['Agent']} with {df.loc[df['int_Sale_Price'].idxmin()]['Listing Broker']} | Buyer's agent: {df.loc[df['int_Sale_Price'].idxmin()]['Buyer Agent']} with {df.loc[df['int_Sale_Price'].idxmin()]['Buyer Broker']} | Days on market: {df.loc[df['int_Sale_Price'].idxmin()]['days_on_market']}\")\n",
    "### Highest and lowest psf ###\n",
    "print(f\"{MAX_PSF}{BR}{df.loc[df['price_per_sqft'].idxmax()]['building_name']}, {df.loc[df['price_per_sqft'].idxmax()]['address']} | Price ${df.loc[df['price_per_sqft'].idxmax()]['int_Sale_Price']:,.0f} | ${df.loc[df['price_per_sqft'].idxmax()]['price_per_sqft']:,.0f} psf | Listing agent: {df.loc[df['price_per_sqft'].idxmax()]['Agent']} with {df.loc[df['price_per_sqft'].idxmax()]['Listing Broker']} | Buyer's agent: {df.loc[df['price_per_sqft'].idxmax()]['Buyer Agent']} with {df.loc[df['price_per_sqft'].idxmax()]['Buyer Broker']} | Days on market: {df.loc[df['price_per_sqft'].idxmax()]['days_on_market']}\")\n",
    "print(f\"{MIN_PSF}{BR}{df.loc[df['price_per_sqft'].idxmin()]['building_name']}, {df.loc[df['price_per_sqft'].idxmin()]['address']} | Price ${df.loc[df['price_per_sqft'].idxmin()]['int_Sale_Price']:,.0f} | ${df.loc[df['price_per_sqft'].idxmin()]['price_per_sqft']:,.0f} psf | Listing agent: {df.loc[df['price_per_sqft'].idxmin()]['Agent']} with {df.loc[df['price_per_sqft'].idxmin()]['Listing Broker']} | Buyer's agent: {df.loc[df['price_per_sqft'].idxmin()]['Buyer Agent']} with {df.loc[df['price_per_sqft'].idxmin()]['Buyer Broker']} | Days on market: {df.loc[df['price_per_sqft'].idxmin()]['days_on_market']}\")\n",
    "### Highest and lowest days on market ###\n",
    "print(f\"{DAYS_MAX}{BR}{df.loc[df['days_on_market'].idxmax()]['building_name']}, {df.loc[df['days_on_market'].idxmax()]['address']} | Price ${df.loc[df['days_on_market'].idxmax()]['int_Sale_Price']:,.0f} | ${df.loc[df['days_on_market'].idxmax()]['price_per_sqft']:,.0f} psf | Listing agent: {df.loc[df['days_on_market'].idxmax()]['Agent']} with {df.loc[df['days_on_market'].idxmax()]['Listing Broker']} | Buyer's agent: {df.loc[df['days_on_market'].idxmax()]['Buyer Agent']} with {df.loc[df['days_on_market'].idxmax()]['Buyer Broker']} | Days on market: {df.loc[df['days_on_market'].idxmax()]['days_on_market']}\")\n",
    "print(f\"{DAYS_MIN}{BR}{df.loc[df['days_on_market'].idxmin()]['building_name']}, {df.loc[df['days_on_market'].idxmin()]['address']} | Price ${df.loc[df['days_on_market'].idxmin()]['int_Sale_Price']:,.0f} | ${df.loc[df['days_on_market'].idxmin()]['price_per_sqft']:,.0f} psf | Listing agent: {df.loc[df['days_on_market'].idxmin()]['Agent']} with {df.loc[df['days_on_market'].idxmin()]['Listing Broker']} | Buyer's agent: {df.loc[df['days_on_market'].idxmin()]['Buyer Agent']} with {df.loc[df['days_on_market'].idxmin()]['Buyer Broker']} | Days on market: {df.loc[df['days_on_market'].idxmin()]['days_on_market']}\")"
   ]
  },
  {
   "cell_type": "code",
   "execution_count": 26,
   "metadata": {},
   "outputs": [
    {
     "data": {
      "text/plain": [
       "33.8"
      ]
     },
     "execution_count": 26,
     "metadata": {},
     "output_type": "execute_result"
    }
   ],
   "source": [
    "df['days_on_market'].mean()"
   ]
  },
  {
   "cell_type": "markdown",
   "metadata": {},
   "source": [
    "## Map URL snagger"
   ]
  },
  {
   "cell_type": "markdown",
   "metadata": {},
   "source": [
    "Map template URL: `https://trd-digital.github.io/trd-news-interactive-maps/{map-folder-name}`"
   ]
  },
  {
   "cell_type": "code",
   "execution_count": 27,
   "metadata": {},
   "outputs": [],
   "source": [
    "base_name = 'https://trd-digital.github.io/trd-news-interactive-maps/'"
   ]
  },
  {
   "cell_type": "code",
   "execution_count": 28,
   "metadata": {},
   "outputs": [
    {
     "name": "stdout",
     "output_type": "stream",
     "text": [
      "https://trd-digital.github.io/trd-news-interactive-maps/condo_sales_week_ending_08262023\n"
     ]
    }
   ],
   "source": [
    "cwd = os.getcwd()\n",
    "\n",
    "cwd = cwd.split('/')\n",
    "\n",
    "final_name = base_name + cwd[-1]\n",
    "print(final_name)"
   ]
  }
 ],
 "metadata": {
  "kernelspec": {
   "display_name": "Python 3 (ipykernel)",
   "language": "python",
   "name": "python3"
  },
  "language_info": {
   "codemirror_mode": {
    "name": "ipython",
    "version": 3
   },
   "file_extension": ".py",
   "mimetype": "text/x-python",
   "name": "python",
   "nbconvert_exporter": "python",
   "pygments_lexer": "ipython3",
   "version": "3.9.12"
  },
  "toc": {
   "base_numbering": 1,
   "nav_menu": {},
   "number_sections": true,
   "sideBar": true,
   "skip_h1_title": false,
   "title_cell": "Table of Contents",
   "title_sidebar": "Contents",
   "toc_cell": false,
   "toc_position": {},
   "toc_section_display": true,
   "toc_window_display": false
  }
 },
 "nbformat": 4,
 "nbformat_minor": 4
}
