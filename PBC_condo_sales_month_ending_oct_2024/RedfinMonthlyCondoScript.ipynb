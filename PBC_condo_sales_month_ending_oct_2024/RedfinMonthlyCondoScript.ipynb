{
 "cells": [
  {
   "cell_type": "markdown",
   "id": "282c57c3",
   "metadata": {},
   "source": [
    "## Imports"
   ]
  },
  {
   "cell_type": "code",
   "execution_count": 23,
   "id": "54c15242",
   "metadata": {},
   "outputs": [],
   "source": [
    "import pandas as pd\n",
    "import numpy as np\n",
    "import re\n",
    "import os\n",
    "import folium\n",
    "import geopandas as gpd\n",
    "import glob\n",
    "from datetime import datetime, timedelta\n",
    "from tqdm.notebook import tqdm\n",
    "import requests\n",
    "import time"
   ]
  },
  {
   "cell_type": "markdown",
   "id": "7c620cf8",
   "metadata": {},
   "source": [
    "## Data Read-in"
   ]
  },
  {
   "cell_type": "code",
   "execution_count": 24,
   "id": "788cfd9b",
   "metadata": {},
   "outputs": [
    {
     "name": "stdout",
     "output_type": "stream",
     "text": [
      "2103\n"
     ]
    }
   ],
   "source": [
    "csv_files = glob.glob('*.csv')\n",
    "\n",
    "df_list = []\n",
    "\n",
    "for csv_file in csv_files:\n",
    "    df = pd.read_csv(csv_file)\n",
    "    df_list.append(df)\n",
    "    \n",
    "df = pd.concat(df_list,ignore_index=True)\n",
    "\n",
    "print(len(df))"
   ]
  },
  {
   "cell_type": "code",
   "execution_count": 25,
   "id": "563417a4",
   "metadata": {},
   "outputs": [],
   "source": [
    "gdf = gpd.read_file('Palm_Beach_County_Boundary.geojson')"
   ]
  },
  {
   "cell_type": "markdown",
   "id": "5cdf738a",
   "metadata": {},
   "source": [
    "## Previous month's values\n",
    "\n",
    "Get values from here:\n",
    "\n",
    "https://docs.google.com/spreadsheets/d/1GWlqTIzCB29pDVDjd-iBVejVGGsLiAd0P6fq4LM83WI/edit?usp=sharing"
   ]
  },
  {
   "cell_type": "code",
   "execution_count": 4,
   "id": "7bbbad1d",
   "metadata": {},
   "outputs": [
    {
     "name": "stdout",
     "output_type": "stream",
     "text": [
      "Input County Name:\n",
      "Palm Beach County\n"
     ]
    }
   ],
   "source": [
    "print('Input County Name:')\n",
    "county_name = input()"
   ]
  },
  {
   "cell_type": "code",
   "execution_count": 5,
   "id": "1cd3e074",
   "metadata": {},
   "outputs": [
    {
     "name": "stdout",
     "output_type": "stream",
     "text": [
      "Input total condo units sold previous (not last) month:\n",
      "546\n"
     ]
    }
   ],
   "source": [
    "print('Input total condo units sold previous (not last) month:')\n",
    "total_condos_sold_2nd_month = input()"
   ]
  },
  {
   "cell_type": "code",
   "execution_count": 6,
   "id": "6fdbf280",
   "metadata": {},
   "outputs": [
    {
     "name": "stdout",
     "output_type": "stream",
     "text": [
      "Input total sales volume ($$$ million as 100_000_000) from previous (not last) month:\n",
      "233_000_000\n"
     ]
    }
   ],
   "source": [
    "print('Input total sales volume ($$$ million as 100_000_000) from previous (not last) month:')\n",
    "sales_volume_2nd_month = input()"
   ]
  },
  {
   "cell_type": "code",
   "execution_count": 7,
   "id": "081faeec",
   "metadata": {},
   "outputs": [
    {
     "name": "stdout",
     "output_type": "stream",
     "text": [
      "Input median sales price from previous (not last) month:\n",
      "260_000\n"
     ]
    }
   ],
   "source": [
    "print('Input median sales price from previous (not last) month:')\n",
    "median_sales_price_2nd_month = input()"
   ]
  },
  {
   "cell_type": "code",
   "execution_count": 8,
   "id": "cdac5fe9",
   "metadata": {},
   "outputs": [
    {
     "name": "stdout",
     "output_type": "stream",
     "text": [
      "Input median psf from previous (not last) month:\n",
      "226\n"
     ]
    }
   ],
   "source": [
    "print('Input median psf from previous (not last) month:')\n",
    "median_psf_2nd_month = input()"
   ]
  },
  {
   "cell_type": "markdown",
   "id": "b03ce742",
   "metadata": {},
   "source": [
    "## Data Clean"
   ]
  },
  {
   "cell_type": "code",
   "execution_count": 9,
   "id": "1f2a52a3",
   "metadata": {},
   "outputs": [],
   "source": [
    "df = df.rename(columns={'URL (SEE https://www.redfin.com/buy-a-home/comparative-market-analysis FOR INFO ON PRICING)':'URL'})"
   ]
  },
  {
   "cell_type": "code",
   "execution_count": 10,
   "id": "5f45bf08",
   "metadata": {},
   "outputs": [],
   "source": [
    "df = df.dropna(subset=['SOLD DATE'])"
   ]
  },
  {
   "cell_type": "code",
   "execution_count": 11,
   "id": "25d1852d",
   "metadata": {},
   "outputs": [
    {
     "name": "stdout",
     "output_type": "stream",
     "text": [
      "Report month: September ---- Month before report month: August\n"
     ]
    }
   ],
   "source": [
    "# Get the current date\n",
    "current_date = datetime.now()\n",
    "\n",
    "# Calculate the first day of the current month\n",
    "first_day_of_current_month = current_date.replace(day=1)\n",
    "\n",
    "# Get the last day of the previous month by subtracting one day from the first day of the current month\n",
    "last_day_of_previous_month = first_day_of_current_month - timedelta(days=1)\n",
    "\n",
    "# Get the month name of the previous month\n",
    "previous_month_name = last_day_of_previous_month.strftime(\"%B\")\n",
    "\n",
    "# ---- Get the name of the month, as a string, from two months ago.\n",
    "# ---- Meaning, if the current month is January, return November.\n",
    "\n",
    "# Get the first day of the previous month by subtracting one day from the first day of the current month\n",
    "first_day_of_previous_month = first_day_of_current_month - timedelta(days=1)\n",
    "\n",
    "# Get the first day of the month before the last by subtracting one day from the first day of the previous month\n",
    "first_day_of_month_before_last = first_day_of_previous_month.replace(day=1) - timedelta(days=1)\n",
    "\n",
    "# Get the month name of the month before the last\n",
    "month_before_last_name = first_day_of_month_before_last.strftime(\"%B\")\n",
    "\n",
    "print(f'Report month: {previous_month_name} ---- Month before report month: {month_before_last_name}')"
   ]
  },
  {
   "cell_type": "code",
   "execution_count": 12,
   "id": "9b9d20ba",
   "metadata": {},
   "outputs": [],
   "source": [
    "# Define list of desired months (excluding current month)\n",
    "desired_months = [previous_month_name]\n",
    "\n",
    "# Filter DataFrame to include only entries from desired months\n",
    "df_filtered = df[df['SOLD DATE'].str.split('-', expand=True)[0].isin(desired_months)]\n",
    "\n",
    "# Reset the index\n",
    "df_filtered = df_filtered.reset_index(drop=True)"
   ]
  },
  {
   "cell_type": "code",
   "execution_count": 13,
   "id": "ab2d002c",
   "metadata": {},
   "outputs": [
    {
     "name": "stdout",
     "output_type": "stream",
     "text": [
      "PRICE\n",
      "False    462\n",
      "Name: count, dtype: int64\n",
      "-------\n",
      "$/SQUARE FEET\n",
      "False    460\n",
      "True       2\n",
      "Name: count, dtype: int64\n",
      "-------\n",
      "YEAR BUILT\n",
      "False    462\n",
      "Name: count, dtype: int64\n",
      "-------\n"
     ]
    }
   ],
   "source": [
    "# Data checks\n",
    "print(df_filtered['PRICE'].isna().value_counts())\n",
    "print('-------')\n",
    "print(df_filtered['$/SQUARE FEET'].isna().value_counts())\n",
    "print('-------')\n",
    "print(df_filtered['YEAR BUILT'].isna().value_counts())\n",
    "print('-------')"
   ]
  },
  {
   "cell_type": "code",
   "execution_count": 14,
   "id": "446eb268",
   "metadata": {},
   "outputs": [
    {
     "name": "stdout",
     "output_type": "stream",
     "text": [
      "https://www.redfin.com/FL/Riviera-Beach/3100-N-Ocean-Dr-33404/unit-1007-H/home/191891923\n"
     ]
    }
   ],
   "source": [
    "sorted_df = df_filtered.sort_values(by='YEAR BUILT', ascending=False)\n",
    "second_newest_building = sorted_df.iloc[2]\n",
    "print(second_newest_building['URL'])"
   ]
  },
  {
   "cell_type": "code",
   "execution_count": 15,
   "id": "61663e76",
   "metadata": {},
   "outputs": [
    {
     "data": {
      "text/html": [
       "<div>\n",
       "<style scoped>\n",
       "    .dataframe tbody tr th:only-of-type {\n",
       "        vertical-align: middle;\n",
       "    }\n",
       "\n",
       "    .dataframe tbody tr th {\n",
       "        vertical-align: top;\n",
       "    }\n",
       "\n",
       "    .dataframe thead th {\n",
       "        text-align: right;\n",
       "    }\n",
       "</style>\n",
       "<table border=\"1\" class=\"dataframe\">\n",
       "  <thead>\n",
       "    <tr style=\"text-align: right;\">\n",
       "      <th></th>\n",
       "      <th>SALE TYPE</th>\n",
       "      <th>SOLD DATE</th>\n",
       "      <th>PROPERTY TYPE</th>\n",
       "      <th>ADDRESS</th>\n",
       "      <th>CITY</th>\n",
       "      <th>STATE OR PROVINCE</th>\n",
       "      <th>ZIP OR POSTAL CODE</th>\n",
       "      <th>PRICE</th>\n",
       "      <th>BEDS</th>\n",
       "      <th>BATHS</th>\n",
       "      <th>...</th>\n",
       "      <th>STATUS</th>\n",
       "      <th>NEXT OPEN HOUSE START TIME</th>\n",
       "      <th>NEXT OPEN HOUSE END TIME</th>\n",
       "      <th>URL</th>\n",
       "      <th>SOURCE</th>\n",
       "      <th>MLS#</th>\n",
       "      <th>FAVORITE</th>\n",
       "      <th>INTERESTED</th>\n",
       "      <th>LATITUDE</th>\n",
       "      <th>LONGITUDE</th>\n",
       "    </tr>\n",
       "  </thead>\n",
       "  <tbody>\n",
       "  </tbody>\n",
       "</table>\n",
       "<p>0 rows × 27 columns</p>\n",
       "</div>"
      ],
      "text/plain": [
       "Empty DataFrame\n",
       "Columns: [SALE TYPE, SOLD DATE, PROPERTY TYPE, ADDRESS, CITY, STATE OR PROVINCE, ZIP OR POSTAL CODE, PRICE, BEDS, BATHS, LOCATION, SQUARE FEET, LOT SIZE, YEAR BUILT, DAYS ON MARKET, $/SQUARE FEET, HOA/MONTH, STATUS, NEXT OPEN HOUSE START TIME, NEXT OPEN HOUSE END TIME, URL, SOURCE, MLS#, FAVORITE, INTERESTED, LATITUDE, LONGITUDE]\n",
       "Index: []\n",
       "\n",
       "[0 rows x 27 columns]"
      ]
     },
     "execution_count": 15,
     "metadata": {},
     "output_type": "execute_result"
    }
   ],
   "source": [
    "df_filtered.loc[df_filtered['PRICE'] == '0']"
   ]
  },
  {
   "cell_type": "code",
   "execution_count": 16,
   "id": "b0376d17",
   "metadata": {},
   "outputs": [],
   "source": [
    "df_filtered['PRICE'] = pd.to_numeric(df_filtered['PRICE'])\n",
    "df_filtered['$/SQUARE FEET'] = pd.to_numeric(df_filtered['$/SQUARE FEET'])\n",
    "df_filtered['YEAR BUILT'] = pd.to_numeric(df_filtered['YEAR BUILT'])\n",
    "df_filtered['LATITUDE'] = pd.to_numeric(df_filtered['LATITUDE'])\n",
    "df_filtered['LONGITUDE'] = pd.to_numeric(df_filtered['LONGITUDE'])"
   ]
  },
  {
   "cell_type": "code",
   "execution_count": 17,
   "id": "22be7f44",
   "metadata": {},
   "outputs": [],
   "source": [
    "df_filtered = df_filtered.drop_duplicates().reset_index(drop=True)"
   ]
  },
  {
   "cell_type": "code",
   "execution_count": 18,
   "id": "a5e15306",
   "metadata": {},
   "outputs": [
    {
     "data": {
      "text/html": [
       "<div>\n",
       "<style scoped>\n",
       "    .dataframe tbody tr th:only-of-type {\n",
       "        vertical-align: middle;\n",
       "    }\n",
       "\n",
       "    .dataframe tbody tr th {\n",
       "        vertical-align: top;\n",
       "    }\n",
       "\n",
       "    .dataframe thead th {\n",
       "        text-align: right;\n",
       "    }\n",
       "</style>\n",
       "<table border=\"1\" class=\"dataframe\">\n",
       "  <thead>\n",
       "    <tr style=\"text-align: right;\">\n",
       "      <th></th>\n",
       "      <th>SALE TYPE</th>\n",
       "      <th>SOLD DATE</th>\n",
       "      <th>PROPERTY TYPE</th>\n",
       "      <th>ADDRESS</th>\n",
       "      <th>CITY</th>\n",
       "      <th>STATE OR PROVINCE</th>\n",
       "      <th>ZIP OR POSTAL CODE</th>\n",
       "      <th>PRICE</th>\n",
       "      <th>BEDS</th>\n",
       "      <th>BATHS</th>\n",
       "      <th>...</th>\n",
       "      <th>STATUS</th>\n",
       "      <th>NEXT OPEN HOUSE START TIME</th>\n",
       "      <th>NEXT OPEN HOUSE END TIME</th>\n",
       "      <th>URL</th>\n",
       "      <th>SOURCE</th>\n",
       "      <th>MLS#</th>\n",
       "      <th>FAVORITE</th>\n",
       "      <th>INTERESTED</th>\n",
       "      <th>LATITUDE</th>\n",
       "      <th>LONGITUDE</th>\n",
       "    </tr>\n",
       "  </thead>\n",
       "  <tbody>\n",
       "    <tr>\n",
       "      <th>34</th>\n",
       "      <td>PAST SALE</td>\n",
       "      <td>September-30-2024</td>\n",
       "      <td>Condo/Co-op</td>\n",
       "      <td>37 Southport Ln Unit D</td>\n",
       "      <td>Boynton Beach</td>\n",
       "      <td>FL</td>\n",
       "      <td>33436.0</td>\n",
       "      <td>5000.0</td>\n",
       "      <td>2.0</td>\n",
       "      <td>2.0</td>\n",
       "      <td>...</td>\n",
       "      <td>Sold</td>\n",
       "      <td>NaN</td>\n",
       "      <td>NaN</td>\n",
       "      <td>https://www.redfin.com/FL/Boynton-Beach/37-Sou...</td>\n",
       "      <td>Beaches MLS</td>\n",
       "      <td>RX-10981267</td>\n",
       "      <td>N</td>\n",
       "      <td>Y</td>\n",
       "      <td>26.486146</td>\n",
       "      <td>-80.102499</td>\n",
       "    </tr>\n",
       "    <tr>\n",
       "      <th>45</th>\n",
       "      <td>PAST SALE</td>\n",
       "      <td>September-9-2024</td>\n",
       "      <td>Condo/Co-op</td>\n",
       "      <td>25 Stratford Dr Unit C</td>\n",
       "      <td>Boynton Beach</td>\n",
       "      <td>FL</td>\n",
       "      <td>33436.0</td>\n",
       "      <td>30000.0</td>\n",
       "      <td>2.0</td>\n",
       "      <td>2.0</td>\n",
       "      <td>...</td>\n",
       "      <td>Sold</td>\n",
       "      <td>NaN</td>\n",
       "      <td>NaN</td>\n",
       "      <td>https://www.redfin.com/FL/Boynton-Beach/25-Str...</td>\n",
       "      <td>Beaches MLS</td>\n",
       "      <td>RX-10985775</td>\n",
       "      <td>N</td>\n",
       "      <td>Y</td>\n",
       "      <td>26.485705</td>\n",
       "      <td>-80.106758</td>\n",
       "    </tr>\n",
       "    <tr>\n",
       "      <th>22</th>\n",
       "      <td>PAST SALE</td>\n",
       "      <td>September-4-2024</td>\n",
       "      <td>Condo/Co-op</td>\n",
       "      <td>1743 Bridgewood Dr</td>\n",
       "      <td>Boca Raton</td>\n",
       "      <td>FL</td>\n",
       "      <td>33434.0</td>\n",
       "      <td>50000.0</td>\n",
       "      <td>2.0</td>\n",
       "      <td>2.0</td>\n",
       "      <td>...</td>\n",
       "      <td>Sold</td>\n",
       "      <td>NaN</td>\n",
       "      <td>NaN</td>\n",
       "      <td>https://www.redfin.com/FL/Boca-Raton/1743-Brid...</td>\n",
       "      <td>Beaches MLS</td>\n",
       "      <td>RX-10996929</td>\n",
       "      <td>N</td>\n",
       "      <td>Y</td>\n",
       "      <td>26.373894</td>\n",
       "      <td>-80.164420</td>\n",
       "    </tr>\n",
       "    <tr>\n",
       "      <th>21</th>\n",
       "      <td>PAST SALE</td>\n",
       "      <td>September-24-2024</td>\n",
       "      <td>Condo/Co-op</td>\n",
       "      <td>624 Burgundy M</td>\n",
       "      <td>Delray Beach</td>\n",
       "      <td>FL</td>\n",
       "      <td>33484.0</td>\n",
       "      <td>57000.0</td>\n",
       "      <td>1.0</td>\n",
       "      <td>1.5</td>\n",
       "      <td>...</td>\n",
       "      <td>Sold</td>\n",
       "      <td>NaN</td>\n",
       "      <td>NaN</td>\n",
       "      <td>https://www.redfin.com/FL/Delray-Beach/624-Bur...</td>\n",
       "      <td>Beaches MLS</td>\n",
       "      <td>RX-11010161</td>\n",
       "      <td>N</td>\n",
       "      <td>Y</td>\n",
       "      <td>26.445271</td>\n",
       "      <td>-80.131475</td>\n",
       "    </tr>\n",
       "    <tr>\n",
       "      <th>48</th>\n",
       "      <td>PAST SALE</td>\n",
       "      <td>September-6-2024</td>\n",
       "      <td>Condo/Co-op</td>\n",
       "      <td>2534 Garden Dr #104</td>\n",
       "      <td>NaN</td>\n",
       "      <td>FL</td>\n",
       "      <td>33461.0</td>\n",
       "      <td>58500.0</td>\n",
       "      <td>2.0</td>\n",
       "      <td>1.0</td>\n",
       "      <td>...</td>\n",
       "      <td>Sold</td>\n",
       "      <td>NaN</td>\n",
       "      <td>NaN</td>\n",
       "      <td>https://www.redfin.com/FL/Lake-Worth/2534-Gard...</td>\n",
       "      <td>Beaches MLS</td>\n",
       "      <td>F10415576</td>\n",
       "      <td>N</td>\n",
       "      <td>Y</td>\n",
       "      <td>26.632983</td>\n",
       "      <td>-80.080785</td>\n",
       "    </tr>\n",
       "    <tr>\n",
       "      <th>25</th>\n",
       "      <td>PAST SALE</td>\n",
       "      <td>September-26-2024</td>\n",
       "      <td>Condo/Co-op</td>\n",
       "      <td>2812 S Garden Dr #206</td>\n",
       "      <td>Lake Worth</td>\n",
       "      <td>FL</td>\n",
       "      <td>33461.0</td>\n",
       "      <td>62900.0</td>\n",
       "      <td>1.0</td>\n",
       "      <td>1.0</td>\n",
       "      <td>...</td>\n",
       "      <td>Sold</td>\n",
       "      <td>NaN</td>\n",
       "      <td>NaN</td>\n",
       "      <td>https://www.redfin.com/FL/Lake-Worth/2812-Gard...</td>\n",
       "      <td>Beaches MLS</td>\n",
       "      <td>RX-10998238</td>\n",
       "      <td>N</td>\n",
       "      <td>Y</td>\n",
       "      <td>26.632438</td>\n",
       "      <td>-80.085412</td>\n",
       "    </tr>\n",
       "    <tr>\n",
       "      <th>38</th>\n",
       "      <td>PAST SALE</td>\n",
       "      <td>September-13-2024</td>\n",
       "      <td>Condo/Co-op</td>\n",
       "      <td>346 Windsor O</td>\n",
       "      <td>West Palm Beach</td>\n",
       "      <td>FL</td>\n",
       "      <td>33417.0</td>\n",
       "      <td>65000.0</td>\n",
       "      <td>1.0</td>\n",
       "      <td>1.5</td>\n",
       "      <td>...</td>\n",
       "      <td>Sold</td>\n",
       "      <td>NaN</td>\n",
       "      <td>NaN</td>\n",
       "      <td>https://www.redfin.com/FL/West-Palm-Beach/346-...</td>\n",
       "      <td>Beaches MLS</td>\n",
       "      <td>RX-10991106</td>\n",
       "      <td>N</td>\n",
       "      <td>Y</td>\n",
       "      <td>26.711845</td>\n",
       "      <td>-80.134868</td>\n",
       "    </tr>\n",
       "    <tr>\n",
       "      <th>28</th>\n",
       "      <td>PAST SALE</td>\n",
       "      <td>September-4-2024</td>\n",
       "      <td>Condo/Co-op</td>\n",
       "      <td>19357 Sabal Lake Dr #5032</td>\n",
       "      <td>Boca Raton</td>\n",
       "      <td>FL</td>\n",
       "      <td>33434.0</td>\n",
       "      <td>65000.0</td>\n",
       "      <td>1.0</td>\n",
       "      <td>1.5</td>\n",
       "      <td>...</td>\n",
       "      <td>Sold</td>\n",
       "      <td>NaN</td>\n",
       "      <td>NaN</td>\n",
       "      <td>https://www.redfin.com/FL/Boca-Raton/19357-Sab...</td>\n",
       "      <td>Beaches MLS</td>\n",
       "      <td>RX-10981829</td>\n",
       "      <td>N</td>\n",
       "      <td>Y</td>\n",
       "      <td>26.391721</td>\n",
       "      <td>-80.157593</td>\n",
       "    </tr>\n",
       "    <tr>\n",
       "      <th>50</th>\n",
       "      <td>PAST SALE</td>\n",
       "      <td>September-30-2024</td>\n",
       "      <td>Condo/Co-op</td>\n",
       "      <td>272 Preston G</td>\n",
       "      <td>Boca Raton</td>\n",
       "      <td>FL</td>\n",
       "      <td>33434.0</td>\n",
       "      <td>65000.0</td>\n",
       "      <td>1.0</td>\n",
       "      <td>1.5</td>\n",
       "      <td>...</td>\n",
       "      <td>Sold</td>\n",
       "      <td>NaN</td>\n",
       "      <td>NaN</td>\n",
       "      <td>https://www.redfin.com/FL/Boca-Raton/272-Prest...</td>\n",
       "      <td>Beaches MLS</td>\n",
       "      <td>RX-10969550</td>\n",
       "      <td>N</td>\n",
       "      <td>Y</td>\n",
       "      <td>26.391389</td>\n",
       "      <td>-80.177821</td>\n",
       "    </tr>\n",
       "    <tr>\n",
       "      <th>11</th>\n",
       "      <td>PAST SALE</td>\n",
       "      <td>September-30-2024</td>\n",
       "      <td>Condo/Co-op</td>\n",
       "      <td>174 Cambridge H</td>\n",
       "      <td>West Palm Beach</td>\n",
       "      <td>FL</td>\n",
       "      <td>33417.0</td>\n",
       "      <td>66000.0</td>\n",
       "      <td>1.0</td>\n",
       "      <td>1.0</td>\n",
       "      <td>...</td>\n",
       "      <td>Sold</td>\n",
       "      <td>NaN</td>\n",
       "      <td>NaN</td>\n",
       "      <td>https://www.redfin.com/FL/West-Palm-Beach/174-...</td>\n",
       "      <td>Beaches MLS</td>\n",
       "      <td>RX-11015338</td>\n",
       "      <td>N</td>\n",
       "      <td>Y</td>\n",
       "      <td>26.720353</td>\n",
       "      <td>-80.130764</td>\n",
       "    </tr>\n",
       "    <tr>\n",
       "      <th>62</th>\n",
       "      <td>PAST SALE</td>\n",
       "      <td>September-30-2024</td>\n",
       "      <td>Condo/Co-op</td>\n",
       "      <td>282 Chatham N</td>\n",
       "      <td>West Palm Beach</td>\n",
       "      <td>FL</td>\n",
       "      <td>33417.0</td>\n",
       "      <td>70000.0</td>\n",
       "      <td>1.0</td>\n",
       "      <td>1.0</td>\n",
       "      <td>...</td>\n",
       "      <td>Sold</td>\n",
       "      <td>NaN</td>\n",
       "      <td>NaN</td>\n",
       "      <td>https://www.redfin.com/FL/West-Palm-Beach/282-...</td>\n",
       "      <td>Beaches MLS</td>\n",
       "      <td>RX-10946066</td>\n",
       "      <td>N</td>\n",
       "      <td>Y</td>\n",
       "      <td>26.718043</td>\n",
       "      <td>-80.129326</td>\n",
       "    </tr>\n",
       "    <tr>\n",
       "      <th>10</th>\n",
       "      <td>PAST SALE</td>\n",
       "      <td>September-5-2024</td>\n",
       "      <td>Condo/Co-op</td>\n",
       "      <td>340 Saxony 'h'</td>\n",
       "      <td>Delray Beach</td>\n",
       "      <td>FL</td>\n",
       "      <td>33446.0</td>\n",
       "      <td>70500.0</td>\n",
       "      <td>2.0</td>\n",
       "      <td>2.0</td>\n",
       "      <td>...</td>\n",
       "      <td>Sold</td>\n",
       "      <td>NaN</td>\n",
       "      <td>NaN</td>\n",
       "      <td>https://www.redfin.com/FL/Delray-Beach/340-Sax...</td>\n",
       "      <td>Beaches MLS</td>\n",
       "      <td>RX-11001316</td>\n",
       "      <td>N</td>\n",
       "      <td>Y</td>\n",
       "      <td>26.439708</td>\n",
       "      <td>-80.149955</td>\n",
       "    </tr>\n",
       "    <tr>\n",
       "      <th>35</th>\n",
       "      <td>PAST SALE</td>\n",
       "      <td>September-10-2024</td>\n",
       "      <td>Condo/Co-op</td>\n",
       "      <td>353 Northampton R</td>\n",
       "      <td>West Palm Beach</td>\n",
       "      <td>FL</td>\n",
       "      <td>33417.0</td>\n",
       "      <td>70990.0</td>\n",
       "      <td>1.0</td>\n",
       "      <td>1.0</td>\n",
       "      <td>...</td>\n",
       "      <td>Sold</td>\n",
       "      <td>NaN</td>\n",
       "      <td>NaN</td>\n",
       "      <td>https://www.redfin.com/FL/West-Palm-Beach/353-...</td>\n",
       "      <td>Beaches MLS</td>\n",
       "      <td>RX-10984788</td>\n",
       "      <td>N</td>\n",
       "      <td>Y</td>\n",
       "      <td>26.717071</td>\n",
       "      <td>-80.133828</td>\n",
       "    </tr>\n",
       "    <tr>\n",
       "      <th>29</th>\n",
       "      <td>PAST SALE</td>\n",
       "      <td>September-30-2024</td>\n",
       "      <td>Condo/Co-op</td>\n",
       "      <td>700 Lori Dr #202</td>\n",
       "      <td>Palm Springs</td>\n",
       "      <td>FL</td>\n",
       "      <td>33461.0</td>\n",
       "      <td>71000.0</td>\n",
       "      <td>1.0</td>\n",
       "      <td>1.0</td>\n",
       "      <td>...</td>\n",
       "      <td>Sold</td>\n",
       "      <td>NaN</td>\n",
       "      <td>NaN</td>\n",
       "      <td>https://www.redfin.com/FL/Palm-Springs/700-Lor...</td>\n",
       "      <td>Beaches MLS</td>\n",
       "      <td>RX-10995919</td>\n",
       "      <td>N</td>\n",
       "      <td>Y</td>\n",
       "      <td>26.646672</td>\n",
       "      <td>-80.095674</td>\n",
       "    </tr>\n",
       "    <tr>\n",
       "      <th>27</th>\n",
       "      <td>PAST SALE</td>\n",
       "      <td>September-11-2024</td>\n",
       "      <td>Condo/Co-op</td>\n",
       "      <td>2966 Ashley Dr E Unit G</td>\n",
       "      <td>West Palm Beach</td>\n",
       "      <td>FL</td>\n",
       "      <td>33415.0</td>\n",
       "      <td>75000.0</td>\n",
       "      <td>1.0</td>\n",
       "      <td>1.0</td>\n",
       "      <td>...</td>\n",
       "      <td>Sold</td>\n",
       "      <td>NaN</td>\n",
       "      <td>NaN</td>\n",
       "      <td>https://www.redfin.com/FL/West-Palm-Beach/2966...</td>\n",
       "      <td>Beaches MLS</td>\n",
       "      <td>RX-10999809</td>\n",
       "      <td>N</td>\n",
       "      <td>Y</td>\n",
       "      <td>26.633948</td>\n",
       "      <td>-80.118477</td>\n",
       "    </tr>\n",
       "    <tr>\n",
       "      <th>57</th>\n",
       "      <td>PAST SALE</td>\n",
       "      <td>September-6-2024</td>\n",
       "      <td>Condo/Co-op</td>\n",
       "      <td>225 Southampton B</td>\n",
       "      <td>West Palm Beach</td>\n",
       "      <td>FL</td>\n",
       "      <td>33417.0</td>\n",
       "      <td>75000.0</td>\n",
       "      <td>1.0</td>\n",
       "      <td>1.5</td>\n",
       "      <td>...</td>\n",
       "      <td>Sold</td>\n",
       "      <td>NaN</td>\n",
       "      <td>NaN</td>\n",
       "      <td>https://www.redfin.com/FL/West-Palm-Beach/225-...</td>\n",
       "      <td>Beaches MLS</td>\n",
       "      <td>RX-10968855</td>\n",
       "      <td>N</td>\n",
       "      <td>Y</td>\n",
       "      <td>26.707749</td>\n",
       "      <td>-80.123253</td>\n",
       "    </tr>\n",
       "    <tr>\n",
       "      <th>23</th>\n",
       "      <td>PAST SALE</td>\n",
       "      <td>September-27-2024</td>\n",
       "      <td>Condo/Co-op</td>\n",
       "      <td>7847 Lakeside Blvd #1023</td>\n",
       "      <td>Boca Raton</td>\n",
       "      <td>FL</td>\n",
       "      <td>33434.0</td>\n",
       "      <td>75000.0</td>\n",
       "      <td>2.0</td>\n",
       "      <td>2.0</td>\n",
       "      <td>...</td>\n",
       "      <td>Sold</td>\n",
       "      <td>NaN</td>\n",
       "      <td>NaN</td>\n",
       "      <td>https://www.redfin.com/FL/Boca-Raton/7847-Lake...</td>\n",
       "      <td>Beaches MLS</td>\n",
       "      <td>RX-10991178</td>\n",
       "      <td>N</td>\n",
       "      <td>Y</td>\n",
       "      <td>26.381114</td>\n",
       "      <td>-80.168052</td>\n",
       "    </tr>\n",
       "    <tr>\n",
       "      <th>44</th>\n",
       "      <td>PAST SALE</td>\n",
       "      <td>September-13-2024</td>\n",
       "      <td>Condo/Co-op</td>\n",
       "      <td>309 Brittany G</td>\n",
       "      <td>Delray Beach</td>\n",
       "      <td>FL</td>\n",
       "      <td>33446.0</td>\n",
       "      <td>80000.0</td>\n",
       "      <td>2.0</td>\n",
       "      <td>2.0</td>\n",
       "      <td>...</td>\n",
       "      <td>Sold</td>\n",
       "      <td>NaN</td>\n",
       "      <td>NaN</td>\n",
       "      <td>https://www.redfin.com/FL/Delray-Beach/309-Bri...</td>\n",
       "      <td>Beaches MLS</td>\n",
       "      <td>RX-10987358</td>\n",
       "      <td>N</td>\n",
       "      <td>Y</td>\n",
       "      <td>26.444317</td>\n",
       "      <td>-80.153314</td>\n",
       "    </tr>\n",
       "    <tr>\n",
       "      <th>37</th>\n",
       "      <td>PAST SALE</td>\n",
       "      <td>September-5-2024</td>\n",
       "      <td>Condo/Co-op</td>\n",
       "      <td>146 Piedmont D #146</td>\n",
       "      <td>Delray Beach</td>\n",
       "      <td>FL</td>\n",
       "      <td>33484.0</td>\n",
       "      <td>80000.0</td>\n",
       "      <td>1.0</td>\n",
       "      <td>1.5</td>\n",
       "      <td>...</td>\n",
       "      <td>Sold</td>\n",
       "      <td>NaN</td>\n",
       "      <td>NaN</td>\n",
       "      <td>https://www.redfin.com/FL/Delray-Beach/146-Pie...</td>\n",
       "      <td>Beaches MLS</td>\n",
       "      <td>RX-10974589</td>\n",
       "      <td>N</td>\n",
       "      <td>Y</td>\n",
       "      <td>26.443096</td>\n",
       "      <td>-80.142903</td>\n",
       "    </tr>\n",
       "    <tr>\n",
       "      <th>51</th>\n",
       "      <td>PAST SALE</td>\n",
       "      <td>September-30-2024</td>\n",
       "      <td>Condo/Co-op</td>\n",
       "      <td>7835 Lakeside Blvd #933</td>\n",
       "      <td>Boca Raton</td>\n",
       "      <td>FL</td>\n",
       "      <td>33434.0</td>\n",
       "      <td>80000.0</td>\n",
       "      <td>2.0</td>\n",
       "      <td>2.0</td>\n",
       "      <td>...</td>\n",
       "      <td>Sold</td>\n",
       "      <td>NaN</td>\n",
       "      <td>NaN</td>\n",
       "      <td>https://www.redfin.com/FL/Boca-Raton/7835-Lake...</td>\n",
       "      <td>Beaches MLS</td>\n",
       "      <td>RX-10976550</td>\n",
       "      <td>N</td>\n",
       "      <td>Y</td>\n",
       "      <td>26.379608</td>\n",
       "      <td>-80.167469</td>\n",
       "    </tr>\n",
       "  </tbody>\n",
       "</table>\n",
       "<p>20 rows × 27 columns</p>\n",
       "</div>"
      ],
      "text/plain": [
       "    SALE TYPE          SOLD DATE PROPERTY TYPE                    ADDRESS  \\\n",
       "34  PAST SALE  September-30-2024   Condo/Co-op     37 Southport Ln Unit D   \n",
       "45  PAST SALE   September-9-2024   Condo/Co-op     25 Stratford Dr Unit C   \n",
       "22  PAST SALE   September-4-2024   Condo/Co-op         1743 Bridgewood Dr   \n",
       "21  PAST SALE  September-24-2024   Condo/Co-op             624 Burgundy M   \n",
       "48  PAST SALE   September-6-2024   Condo/Co-op        2534 Garden Dr #104   \n",
       "25  PAST SALE  September-26-2024   Condo/Co-op      2812 S Garden Dr #206   \n",
       "38  PAST SALE  September-13-2024   Condo/Co-op              346 Windsor O   \n",
       "28  PAST SALE   September-4-2024   Condo/Co-op  19357 Sabal Lake Dr #5032   \n",
       "50  PAST SALE  September-30-2024   Condo/Co-op              272 Preston G   \n",
       "11  PAST SALE  September-30-2024   Condo/Co-op            174 Cambridge H   \n",
       "62  PAST SALE  September-30-2024   Condo/Co-op              282 Chatham N   \n",
       "10  PAST SALE   September-5-2024   Condo/Co-op             340 Saxony 'h'   \n",
       "35  PAST SALE  September-10-2024   Condo/Co-op          353 Northampton R   \n",
       "29  PAST SALE  September-30-2024   Condo/Co-op           700 Lori Dr #202   \n",
       "27  PAST SALE  September-11-2024   Condo/Co-op    2966 Ashley Dr E Unit G   \n",
       "57  PAST SALE   September-6-2024   Condo/Co-op          225 Southampton B   \n",
       "23  PAST SALE  September-27-2024   Condo/Co-op   7847 Lakeside Blvd #1023   \n",
       "44  PAST SALE  September-13-2024   Condo/Co-op             309 Brittany G   \n",
       "37  PAST SALE   September-5-2024   Condo/Co-op        146 Piedmont D #146   \n",
       "51  PAST SALE  September-30-2024   Condo/Co-op    7835 Lakeside Blvd #933   \n",
       "\n",
       "               CITY STATE OR PROVINCE  ZIP OR POSTAL CODE    PRICE  BEDS  \\\n",
       "34    Boynton Beach                FL             33436.0   5000.0   2.0   \n",
       "45    Boynton Beach                FL             33436.0  30000.0   2.0   \n",
       "22       Boca Raton                FL             33434.0  50000.0   2.0   \n",
       "21     Delray Beach                FL             33484.0  57000.0   1.0   \n",
       "48              NaN                FL             33461.0  58500.0   2.0   \n",
       "25       Lake Worth                FL             33461.0  62900.0   1.0   \n",
       "38  West Palm Beach                FL             33417.0  65000.0   1.0   \n",
       "28       Boca Raton                FL             33434.0  65000.0   1.0   \n",
       "50       Boca Raton                FL             33434.0  65000.0   1.0   \n",
       "11  West Palm Beach                FL             33417.0  66000.0   1.0   \n",
       "62  West Palm Beach                FL             33417.0  70000.0   1.0   \n",
       "10     Delray Beach                FL             33446.0  70500.0   2.0   \n",
       "35  West Palm Beach                FL             33417.0  70990.0   1.0   \n",
       "29     Palm Springs                FL             33461.0  71000.0   1.0   \n",
       "27  West Palm Beach                FL             33415.0  75000.0   1.0   \n",
       "57  West Palm Beach                FL             33417.0  75000.0   1.0   \n",
       "23       Boca Raton                FL             33434.0  75000.0   2.0   \n",
       "44     Delray Beach                FL             33446.0  80000.0   2.0   \n",
       "37     Delray Beach                FL             33484.0  80000.0   1.0   \n",
       "51       Boca Raton                FL             33434.0  80000.0   2.0   \n",
       "\n",
       "    BATHS  ... STATUS  NEXT OPEN HOUSE START TIME  NEXT OPEN HOUSE END TIME  \\\n",
       "34    2.0  ...   Sold                         NaN                       NaN   \n",
       "45    2.0  ...   Sold                         NaN                       NaN   \n",
       "22    2.0  ...   Sold                         NaN                       NaN   \n",
       "21    1.5  ...   Sold                         NaN                       NaN   \n",
       "48    1.0  ...   Sold                         NaN                       NaN   \n",
       "25    1.0  ...   Sold                         NaN                       NaN   \n",
       "38    1.5  ...   Sold                         NaN                       NaN   \n",
       "28    1.5  ...   Sold                         NaN                       NaN   \n",
       "50    1.5  ...   Sold                         NaN                       NaN   \n",
       "11    1.0  ...   Sold                         NaN                       NaN   \n",
       "62    1.0  ...   Sold                         NaN                       NaN   \n",
       "10    2.0  ...   Sold                         NaN                       NaN   \n",
       "35    1.0  ...   Sold                         NaN                       NaN   \n",
       "29    1.0  ...   Sold                         NaN                       NaN   \n",
       "27    1.0  ...   Sold                         NaN                       NaN   \n",
       "57    1.5  ...   Sold                         NaN                       NaN   \n",
       "23    2.0  ...   Sold                         NaN                       NaN   \n",
       "44    2.0  ...   Sold                         NaN                       NaN   \n",
       "37    1.5  ...   Sold                         NaN                       NaN   \n",
       "51    2.0  ...   Sold                         NaN                       NaN   \n",
       "\n",
       "                                                  URL       SOURCE  \\\n",
       "34  https://www.redfin.com/FL/Boynton-Beach/37-Sou...  Beaches MLS   \n",
       "45  https://www.redfin.com/FL/Boynton-Beach/25-Str...  Beaches MLS   \n",
       "22  https://www.redfin.com/FL/Boca-Raton/1743-Brid...  Beaches MLS   \n",
       "21  https://www.redfin.com/FL/Delray-Beach/624-Bur...  Beaches MLS   \n",
       "48  https://www.redfin.com/FL/Lake-Worth/2534-Gard...  Beaches MLS   \n",
       "25  https://www.redfin.com/FL/Lake-Worth/2812-Gard...  Beaches MLS   \n",
       "38  https://www.redfin.com/FL/West-Palm-Beach/346-...  Beaches MLS   \n",
       "28  https://www.redfin.com/FL/Boca-Raton/19357-Sab...  Beaches MLS   \n",
       "50  https://www.redfin.com/FL/Boca-Raton/272-Prest...  Beaches MLS   \n",
       "11  https://www.redfin.com/FL/West-Palm-Beach/174-...  Beaches MLS   \n",
       "62  https://www.redfin.com/FL/West-Palm-Beach/282-...  Beaches MLS   \n",
       "10  https://www.redfin.com/FL/Delray-Beach/340-Sax...  Beaches MLS   \n",
       "35  https://www.redfin.com/FL/West-Palm-Beach/353-...  Beaches MLS   \n",
       "29  https://www.redfin.com/FL/Palm-Springs/700-Lor...  Beaches MLS   \n",
       "27  https://www.redfin.com/FL/West-Palm-Beach/2966...  Beaches MLS   \n",
       "57  https://www.redfin.com/FL/West-Palm-Beach/225-...  Beaches MLS   \n",
       "23  https://www.redfin.com/FL/Boca-Raton/7847-Lake...  Beaches MLS   \n",
       "44  https://www.redfin.com/FL/Delray-Beach/309-Bri...  Beaches MLS   \n",
       "37  https://www.redfin.com/FL/Delray-Beach/146-Pie...  Beaches MLS   \n",
       "51  https://www.redfin.com/FL/Boca-Raton/7835-Lake...  Beaches MLS   \n",
       "\n",
       "           MLS#  FAVORITE INTERESTED   LATITUDE  LONGITUDE  \n",
       "34  RX-10981267         N          Y  26.486146 -80.102499  \n",
       "45  RX-10985775         N          Y  26.485705 -80.106758  \n",
       "22  RX-10996929         N          Y  26.373894 -80.164420  \n",
       "21  RX-11010161         N          Y  26.445271 -80.131475  \n",
       "48    F10415576         N          Y  26.632983 -80.080785  \n",
       "25  RX-10998238         N          Y  26.632438 -80.085412  \n",
       "38  RX-10991106         N          Y  26.711845 -80.134868  \n",
       "28  RX-10981829         N          Y  26.391721 -80.157593  \n",
       "50  RX-10969550         N          Y  26.391389 -80.177821  \n",
       "11  RX-11015338         N          Y  26.720353 -80.130764  \n",
       "62  RX-10946066         N          Y  26.718043 -80.129326  \n",
       "10  RX-11001316         N          Y  26.439708 -80.149955  \n",
       "35  RX-10984788         N          Y  26.717071 -80.133828  \n",
       "29  RX-10995919         N          Y  26.646672 -80.095674  \n",
       "27  RX-10999809         N          Y  26.633948 -80.118477  \n",
       "57  RX-10968855         N          Y  26.707749 -80.123253  \n",
       "23  RX-10991178         N          Y  26.381114 -80.168052  \n",
       "44  RX-10987358         N          Y  26.444317 -80.153314  \n",
       "37  RX-10974589         N          Y  26.443096 -80.142903  \n",
       "51  RX-10976550         N          Y  26.379608 -80.167469  \n",
       "\n",
       "[20 rows x 27 columns]"
      ]
     },
     "execution_count": 18,
     "metadata": {},
     "output_type": "execute_result"
    }
   ],
   "source": [
    "df_filtered.sort_values(by='PRICE',ascending=True).head(20)"
   ]
  },
  {
   "cell_type": "code",
   "execution_count": 26,
   "id": "e6256bce",
   "metadata": {},
   "outputs": [
    {
     "name": "stdout",
     "output_type": "stream",
     "text": [
      "https://www.redfin.com/FL/Boca-Raton/1743-Bridgewood-Dr-33434/home/42248950\n"
     ]
    }
   ],
   "source": [
    "print(df_filtered['URL'].iloc[22])"
   ]
  },
  {
   "cell_type": "code",
   "execution_count": 27,
   "id": "bdd112db",
   "metadata": {},
   "outputs": [],
   "source": [
    "# df_filtered = df_filtered.drop(index=34)"
   ]
  },
  {
   "cell_type": "code",
   "execution_count": 81,
   "id": "fe440217",
   "metadata": {},
   "outputs": [],
   "source": [
    "# # Correct the prices, if needed\n",
    "# df_filtered.at[519,'PRICE']=(310_000)\n",
    "\n",
    "# # Correct the psf, if needed\n",
    "# df_filtered.at[519,'$/SQUARE FEET']=(310_000/673)"
   ]
  },
  {
   "cell_type": "code",
   "execution_count": 22,
   "id": "e3877a57",
   "metadata": {},
   "outputs": [],
   "source": [
    "### If needed, drop the row with the lowest price\n",
    "# min_value_index = df_filtered['PRICE'].idxmin()\n",
    "# df_filtered = df_filtered.drop(min_value_index)"
   ]
  },
  {
   "cell_type": "code",
   "execution_count": 23,
   "id": "7e529e83",
   "metadata": {},
   "outputs": [],
   "source": [
    "# print(df_filtered['URL'].iloc[291])"
   ]
  },
  {
   "cell_type": "code",
   "execution_count": 28,
   "id": "91feb56f",
   "metadata": {},
   "outputs": [],
   "source": [
    "df_filtered.reset_index(inplace=True)"
   ]
  },
  {
   "cell_type": "code",
   "execution_count": 30,
   "id": "1831e6de",
   "metadata": {},
   "outputs": [],
   "source": [
    "df_filtered = df_filtered.drop(columns='index')"
   ]
  },
  {
   "cell_type": "code",
   "execution_count": 31,
   "id": "489213e9",
   "metadata": {},
   "outputs": [
    {
     "data": {
      "text/plain": [
       "Index(['SALE TYPE', 'SOLD DATE', 'PROPERTY TYPE', 'ADDRESS', 'CITY',\n",
       "       'STATE OR PROVINCE', 'ZIP OR POSTAL CODE', 'PRICE', 'BEDS', 'BATHS',\n",
       "       'LOCATION', 'SQUARE FEET', 'LOT SIZE', 'YEAR BUILT', 'DAYS ON MARKET',\n",
       "       '$/SQUARE FEET', 'HOA/MONTH', 'STATUS', 'NEXT OPEN HOUSE START TIME',\n",
       "       'NEXT OPEN HOUSE END TIME', 'URL', 'SOURCE', 'MLS#', 'FAVORITE',\n",
       "       'INTERESTED', 'LATITUDE', 'LONGITUDE'],\n",
       "      dtype='object')"
      ]
     },
     "execution_count": 31,
     "metadata": {},
     "output_type": "execute_result"
    }
   ],
   "source": [
    "df_filtered.columns"
   ]
  },
  {
   "cell_type": "code",
   "execution_count": 33,
   "id": "f971a938",
   "metadata": {},
   "outputs": [
    {
     "name": "stdout",
     "output_type": "stream",
     "text": [
      "https://www.redfin.com/FL/Boynton-Beach/25-Stratford-Dr-E-33436/unit-C/home/42331480\n"
     ]
    }
   ],
   "source": [
    "print(df_filtered.iloc[44]['URL'])"
   ]
  },
  {
   "cell_type": "code",
   "execution_count": 34,
   "id": "42d775ef",
   "metadata": {},
   "outputs": [
    {
     "data": {
      "text/html": [
       "<div>\n",
       "<style scoped>\n",
       "    .dataframe tbody tr th:only-of-type {\n",
       "        vertical-align: middle;\n",
       "    }\n",
       "\n",
       "    .dataframe tbody tr th {\n",
       "        vertical-align: top;\n",
       "    }\n",
       "\n",
       "    .dataframe thead th {\n",
       "        text-align: right;\n",
       "    }\n",
       "</style>\n",
       "<table border=\"1\" class=\"dataframe\">\n",
       "  <thead>\n",
       "    <tr style=\"text-align: right;\">\n",
       "      <th></th>\n",
       "      <th>PRICE</th>\n",
       "      <th>ADDRESS</th>\n",
       "      <th>CITY</th>\n",
       "      <th>$/SQUARE FEET</th>\n",
       "    </tr>\n",
       "  </thead>\n",
       "  <tbody>\n",
       "    <tr>\n",
       "      <th>44</th>\n",
       "      <td>30000.0</td>\n",
       "      <td>25 Stratford Dr Unit C</td>\n",
       "      <td>Boynton Beach</td>\n",
       "      <td>21.0</td>\n",
       "    </tr>\n",
       "    <tr>\n",
       "      <th>22</th>\n",
       "      <td>50000.0</td>\n",
       "      <td>1743 Bridgewood Dr</td>\n",
       "      <td>Boca Raton</td>\n",
       "      <td>48.0</td>\n",
       "    </tr>\n",
       "    <tr>\n",
       "      <th>28</th>\n",
       "      <td>65000.0</td>\n",
       "      <td>19357 Sabal Lake Dr #5032</td>\n",
       "      <td>Boca Raton</td>\n",
       "      <td>59.0</td>\n",
       "    </tr>\n",
       "    <tr>\n",
       "      <th>47</th>\n",
       "      <td>58500.0</td>\n",
       "      <td>2534 Garden Dr #104</td>\n",
       "      <td>NaN</td>\n",
       "      <td>65.0</td>\n",
       "    </tr>\n",
       "    <tr>\n",
       "      <th>23</th>\n",
       "      <td>75000.0</td>\n",
       "      <td>7847 Lakeside Blvd #1023</td>\n",
       "      <td>Boca Raton</td>\n",
       "      <td>71.0</td>\n",
       "    </tr>\n",
       "    <tr>\n",
       "      <th>21</th>\n",
       "      <td>57000.0</td>\n",
       "      <td>624 Burgundy M</td>\n",
       "      <td>Delray Beach</td>\n",
       "      <td>75.0</td>\n",
       "    </tr>\n",
       "    <tr>\n",
       "      <th>50</th>\n",
       "      <td>80000.0</td>\n",
       "      <td>7835 Lakeside Blvd #933</td>\n",
       "      <td>Boca Raton</td>\n",
       "      <td>76.0</td>\n",
       "    </tr>\n",
       "    <tr>\n",
       "      <th>10</th>\n",
       "      <td>70500.0</td>\n",
       "      <td>340 Saxony 'h'</td>\n",
       "      <td>Delray Beach</td>\n",
       "      <td>80.0</td>\n",
       "    </tr>\n",
       "    <tr>\n",
       "      <th>16</th>\n",
       "      <td>82250.0</td>\n",
       "      <td>10 Willowbrook Ln #206</td>\n",
       "      <td>Delray Beach</td>\n",
       "      <td>82.0</td>\n",
       "    </tr>\n",
       "    <tr>\n",
       "      <th>55</th>\n",
       "      <td>100000.0</td>\n",
       "      <td>140 Lake Nancy Ln #316</td>\n",
       "      <td>West Palm Beach</td>\n",
       "      <td>84.0</td>\n",
       "    </tr>\n",
       "    <tr>\n",
       "      <th>25</th>\n",
       "      <td>62900.0</td>\n",
       "      <td>2812 S Garden Dr #206</td>\n",
       "      <td>Lake Worth</td>\n",
       "      <td>85.0</td>\n",
       "    </tr>\n",
       "    <tr>\n",
       "      <th>49</th>\n",
       "      <td>65000.0</td>\n",
       "      <td>272 Preston G</td>\n",
       "      <td>Boca Raton</td>\n",
       "      <td>90.0</td>\n",
       "    </tr>\n",
       "    <tr>\n",
       "      <th>43</th>\n",
       "      <td>80000.0</td>\n",
       "      <td>309 Brittany G</td>\n",
       "      <td>Delray Beach</td>\n",
       "      <td>91.0</td>\n",
       "    </tr>\n",
       "    <tr>\n",
       "      <th>37</th>\n",
       "      <td>65000.0</td>\n",
       "      <td>346 Windsor O</td>\n",
       "      <td>West Palm Beach</td>\n",
       "      <td>93.0</td>\n",
       "    </tr>\n",
       "    <tr>\n",
       "      <th>53</th>\n",
       "      <td>84000.0</td>\n",
       "      <td>2811 Garden Dr S #304</td>\n",
       "      <td>Lake Worth</td>\n",
       "      <td>94.0</td>\n",
       "    </tr>\n",
       "    <tr>\n",
       "      <th>48</th>\n",
       "      <td>100000.0</td>\n",
       "      <td>6675 S Oriole Blvd #3060</td>\n",
       "      <td>Delray Beach</td>\n",
       "      <td>96.0</td>\n",
       "    </tr>\n",
       "    <tr>\n",
       "      <th>8</th>\n",
       "      <td>80000.0</td>\n",
       "      <td>341 Northampton Q</td>\n",
       "      <td>West Palm Beach</td>\n",
       "      <td>100.0</td>\n",
       "    </tr>\n",
       "    <tr>\n",
       "      <th>32</th>\n",
       "      <td>88000.0</td>\n",
       "      <td>341 Monaco H</td>\n",
       "      <td>Delray Beach</td>\n",
       "      <td>100.0</td>\n",
       "    </tr>\n",
       "    <tr>\n",
       "      <th>29</th>\n",
       "      <td>71000.0</td>\n",
       "      <td>700 Lori Dr #202</td>\n",
       "      <td>Palm Springs</td>\n",
       "      <td>102.0</td>\n",
       "    </tr>\n",
       "    <tr>\n",
       "      <th>2</th>\n",
       "      <td>81500.0</td>\n",
       "      <td>121 Sheffield F</td>\n",
       "      <td>West Palm Beach</td>\n",
       "      <td>102.0</td>\n",
       "    </tr>\n",
       "  </tbody>\n",
       "</table>\n",
       "</div>"
      ],
      "text/plain": [
       "       PRICE                    ADDRESS             CITY  $/SQUARE FEET\n",
       "44   30000.0     25 Stratford Dr Unit C    Boynton Beach           21.0\n",
       "22   50000.0         1743 Bridgewood Dr       Boca Raton           48.0\n",
       "28   65000.0  19357 Sabal Lake Dr #5032       Boca Raton           59.0\n",
       "47   58500.0        2534 Garden Dr #104              NaN           65.0\n",
       "23   75000.0   7847 Lakeside Blvd #1023       Boca Raton           71.0\n",
       "21   57000.0             624 Burgundy M     Delray Beach           75.0\n",
       "50   80000.0    7835 Lakeside Blvd #933       Boca Raton           76.0\n",
       "10   70500.0             340 Saxony 'h'     Delray Beach           80.0\n",
       "16   82250.0     10 Willowbrook Ln #206     Delray Beach           82.0\n",
       "55  100000.0     140 Lake Nancy Ln #316  West Palm Beach           84.0\n",
       "25   62900.0      2812 S Garden Dr #206       Lake Worth           85.0\n",
       "49   65000.0              272 Preston G       Boca Raton           90.0\n",
       "43   80000.0             309 Brittany G     Delray Beach           91.0\n",
       "37   65000.0              346 Windsor O  West Palm Beach           93.0\n",
       "53   84000.0      2811 Garden Dr S #304       Lake Worth           94.0\n",
       "48  100000.0   6675 S Oriole Blvd #3060     Delray Beach           96.0\n",
       "8    80000.0          341 Northampton Q  West Palm Beach          100.0\n",
       "32   88000.0               341 Monaco H     Delray Beach          100.0\n",
       "29   71000.0           700 Lori Dr #202     Palm Springs          102.0\n",
       "2    81500.0            121 Sheffield F  West Palm Beach          102.0"
      ]
     },
     "execution_count": 34,
     "metadata": {},
     "output_type": "execute_result"
    }
   ],
   "source": [
    "# Find problem psf by searching for low values\n",
    "df_filtered.sort_values(by='$/SQUARE FEET',ascending=True).head(20)[['PRICE','ADDRESS','CITY','$/SQUARE FEET']]"
   ]
  },
  {
   "cell_type": "code",
   "execution_count": 25,
   "id": "6895cf71",
   "metadata": {},
   "outputs": [],
   "source": [
    "# # Drop sales that aren't condos but labeled as such\n",
    "# df_filtered = df_filtered.drop(1320)"
   ]
  },
  {
   "cell_type": "markdown",
   "id": "103ad9df",
   "metadata": {},
   "source": [
    "## Make Maps"
   ]
  },
  {
   "cell_type": "code",
   "execution_count": 35,
   "id": "42ad9d63",
   "metadata": {},
   "outputs": [],
   "source": [
    "### Create a price column formatted as currency ###\n",
    "df_filtered['PRICE_AS_CURRENCY'] = df_filtered['PRICE'].apply(lambda x: \"${:,.0f}\".format(x))\n",
    "### Set formatting for Beds, Baths ###\n",
    "df_filtered['YEAR BUILT DISPLAY'] = df_filtered['YEAR BUILT'].apply(lambda x: '{:.0f}'.format(x))\n",
    "df_filtered['PRICE_SQUARE_FEET_AS_CURRENCY'] = df_filtered['$/SQUARE FEET'].apply(lambda x: '${:,.0f}'.format(x))"
   ]
  },
  {
   "cell_type": "code",
   "execution_count": 36,
   "id": "f42ba6b5",
   "metadata": {},
   "outputs": [],
   "source": [
    "df_filtered = df_filtered.sort_values(by=['PRICE'], ascending=False)\n",
    "### Insert different colors for top 10 sales vs. the rest ###\n",
    "df_filtered['COLOR'] = ''\n",
    "### Create RANK column ###\n",
    "df_filtered['RANK'] = 0\n",
    "### Insert RANK values ###\n",
    "df_filtered['RANK'] = range(1, len(df_filtered) + 1)\n",
    "# use numpy to assign values to the 'COLOR' column\n",
    "df_filtered['COLOR'] = np.where(df_filtered['RANK'] <= 10, 'orange', 'blue')"
   ]
  },
  {
   "cell_type": "markdown",
   "id": "99380454",
   "metadata": {},
   "source": [
    "## HTML Popup Formatter"
   ]
  },
  {
   "cell_type": "code",
   "execution_count": 37,
   "id": "6ffa151c",
   "metadata": {},
   "outputs": [],
   "source": [
    "### Define list of columns to drop from DF ###\n",
    "columns_drop = ['SALE TYPE','PROPERTY TYPE','STATE OR PROVINCE','ZIP OR POSTAL CODE','HOA/MONTH','STATUS','NEXT OPEN HOUSE START TIME','NEXT OPEN HOUSE END TIME','SOURCE','MLS#','FAVORITE','INTERESTED','SQUARE FEET','LOT SIZE']"
   ]
  },
  {
   "cell_type": "code",
   "execution_count": 38,
   "id": "b214f9e8",
   "metadata": {},
   "outputs": [],
   "source": [
    "### Drop the columns ###\n",
    "df_filtered = df_filtered.drop(columns=columns_drop)"
   ]
  },
  {
   "cell_type": "code",
   "execution_count": 39,
   "id": "d12c2830",
   "metadata": {},
   "outputs": [],
   "source": [
    "def popup_html(row):\n",
    "    Price = row['PRICE_AS_CURRENCY']\n",
    "    Address = row['ADDRESS']\n",
    "    City = row['CITY']\n",
    "    sold_date = row['SOLD DATE']\n",
    "    beds = row['BEDS']\n",
    "    baths = row['BATHS']\n",
    "    psf = row['PRICE_SQUARE_FEET_AS_CURRENCY']\n",
    "    year_built = row['YEAR BUILT DISPLAY']\n",
    "    rank = row['RANK']\n",
    "    \n",
    "    html = '''<!DOCTYPE html>\n",
    "    <html>\n",
    "    <strong>Price: </strong>{}'''.format(Price) + '''<br>\n",
    "    <strong>Address: </strong>{}'''.format(Address) + '''<br>\n",
    "    <strong>City: </strong>{}'''.format(City) + '''<br>\n",
    "    <strong>Sold: </strong>{}'''.format(sold_date) + '''<br>\n",
    "    <strong>Beds: </strong>{}'''.format(beds) + '''<br>\n",
    "    <strong>Baths: </strong>{}'''.format(baths) + '''<br>\n",
    "    <strong>Price per sf: </strong>{}'''.format(psf) + '''<br>\n",
    "    <strong>Year Built: </strong>{}'''.format(year_built) + '''<br>\n",
    "    <strong>Price Rank: </strong>{}'''.format(rank) + '''\n",
    "    </html>\n",
    "    '''\n",
    "    return html"
   ]
  },
  {
   "cell_type": "code",
   "execution_count": 40,
   "id": "b7fe13d2",
   "metadata": {},
   "outputs": [
    {
     "data": {
      "text/plain": [
       "<folium.map.LayerControl at 0x7fa928bfe760>"
      ]
     },
     "execution_count": 40,
     "metadata": {},
     "output_type": "execute_result"
    }
   ],
   "source": [
    "### Create map container ###\n",
    "m = folium.Map(location=df_filtered[[\"LATITUDE\", \"LONGITUDE\"]].mean().to_list(),zoom_start=10,tiles=None)\n",
    "\n",
    "### Create title ###\n",
    "title_html = '''\n",
    "              <h3 align=\"center\" style=\"font-size:16px\"><b>{}</b></h3>\n",
    "             '''.format(f\"{previous_month_name} 2024 Condo Sales\")\n",
    "\n",
    "m.get_root().html.add_child(folium.Element(title_html))\n",
    "\n",
    "# Create two FeatureGroups for different color pins\n",
    "fg_blue = folium.FeatureGroup(name='All other sales')\n",
    "fg_orange = folium.FeatureGroup(name='Top 10 Sales')\n",
    "\n",
    "folium.GeoJson(gdf,tooltip='Palm Beach County',name='Palm Beach County').add_to(m)\n",
    "\n",
    "for index, row in df_filtered.iterrows():\n",
    "    # Add the markers to the appropriate FeatureGroup based on the color\n",
    "    if row['COLOR'] == 'blue':\n",
    "        marker = folium.Marker(\n",
    "            location=[row['LATITUDE'], row['LONGITUDE']],\n",
    "            radius=5,\n",
    "            fill=True,\n",
    "            icon=folium.Icon(color=row['COLOR']),\n",
    "            popup=folium.Popup(popup_html(row), max_width=400))\n",
    "        marker.add_to(fg_blue)\n",
    "    else:\n",
    "        marker = folium.Marker(\n",
    "            location=[row['LATITUDE'], row['LONGITUDE']],\n",
    "            radius=5,\n",
    "            fill=True,\n",
    "            icon=folium.Icon(color=row['COLOR']),\n",
    "            popup=folium.Popup(popup_html(row), max_width=400))\n",
    "        marker.add_to(fg_orange)\n",
    "\n",
    "# Add the FeatureGroups to the map\n",
    "fg_orange.add_to(m)\n",
    "fg_blue.add_to(m)\n",
    "\n",
    "folium.TileLayer('OpenStreetMap',control=False).add_to(m)\n",
    "\n",
    "# Add LayerControl to the map\n",
    "folium.map.LayerControl(collapsed=False).add_to(m)\n",
    "\n",
    "# Display map\n",
    "# m"
   ]
  },
  {
   "cell_type": "code",
   "execution_count": 41,
   "id": "a704af7f",
   "metadata": {},
   "outputs": [],
   "source": [
    "m.save('index.html')"
   ]
  },
  {
   "cell_type": "markdown",
   "id": "81b7dc98",
   "metadata": {},
   "source": [
    "## Summary Info"
   ]
  },
  {
   "cell_type": "code",
   "execution_count": 42,
   "id": "6910bd5b",
   "metadata": {},
   "outputs": [],
   "source": [
    "BR = '\\n'\n",
    "\n",
    "ME = '\\033[1m' + 'Most Expensive' + '\\033[0m'\n",
    "LE = '\\033[1m' + 'Least Expensive' + '\\033[0m'\n",
    "\n",
    "MAX_PSF = '\\033[1m' + 'Highest Price Per Square Foot' + '\\033[0m'\n",
    "MIN_PSF = '\\033[1m' + 'Lowest Price Per Square Foot' + '\\033[0m'\n",
    "\n",
    "Newest = '\\033[1m' + 'Newest' + '\\033[0m'\n",
    "Oldest = '\\033[1m' + 'Oldest' + '\\033[0m'"
   ]
  },
  {
   "cell_type": "code",
   "execution_count": 43,
   "id": "9d2c1b97",
   "metadata": {},
   "outputs": [
    {
     "data": {
      "text/plain": [
       "Index(['SOLD DATE', 'ADDRESS', 'CITY', 'PRICE', 'BEDS', 'BATHS', 'LOCATION',\n",
       "       'YEAR BUILT', 'DAYS ON MARKET', '$/SQUARE FEET', 'URL', 'LATITUDE',\n",
       "       'LONGITUDE', 'PRICE_AS_CURRENCY', 'YEAR BUILT DISPLAY',\n",
       "       'PRICE_SQUARE_FEET_AS_CURRENCY', 'COLOR', 'RANK'],\n",
       "      dtype='object')"
      ]
     },
     "execution_count": 43,
     "metadata": {},
     "output_type": "execute_result"
    }
   ],
   "source": [
    "df_filtered.columns"
   ]
  },
  {
   "cell_type": "code",
   "execution_count": 44,
   "id": "81280824",
   "metadata": {},
   "outputs": [],
   "source": [
    "df_filtered['FULL_ADDRESS'] = df_filtered['ADDRESS'] + ' ' + df_filtered['CITY']"
   ]
  },
  {
   "cell_type": "code",
   "execution_count": 45,
   "id": "4677d727",
   "metadata": {},
   "outputs": [
    {
     "name": "stdout",
     "output_type": "stream",
     "text": [
      "https://www.redfin.com/FL/Palm-Beach/44-Cocoanut-Row-33480/unit-418B/home/42433499\n"
     ]
    }
   ],
   "source": [
    "print(df_filtered.loc[df_filtered['YEAR BUILT'].idxmin()]['URL'])"
   ]
  },
  {
   "cell_type": "markdown",
   "id": "707dd49b",
   "metadata": {},
   "source": [
    "## Map URL Snagger"
   ]
  },
  {
   "cell_type": "code",
   "execution_count": 46,
   "id": "81e05274",
   "metadata": {},
   "outputs": [
    {
     "name": "stdout",
     "output_type": "stream",
     "text": [
      "https://trd-digital.github.io/trd-news-interactive-maps/PBC_condo_sales_month_ending_sept_2024\n"
     ]
    }
   ],
   "source": [
    "base_name = 'https://trd-digital.github.io/trd-news-interactive-maps/'\n",
    "\n",
    "cwd = os.getcwd()\n",
    "\n",
    "cwd = cwd.split('/')\n",
    "\n",
    "final_name = base_name + cwd[-1]\n",
    "print(final_name)"
   ]
  },
  {
   "cell_type": "markdown",
   "id": "fe5031c3",
   "metadata": {},
   "source": [
    "## Get Summary Data"
   ]
  },
  {
   "cell_type": "code",
   "execution_count": 47,
   "id": "15cba208",
   "metadata": {},
   "outputs": [
    {
     "name": "stdout",
     "output_type": "stream",
     "text": [
      "SALES INFO\n",
      "Number of sales: 445\n",
      "--------\n",
      "Total sale price: $220,574,646\n",
      "--------\n",
      "Median sale price: $250,000\n",
      "--------\n",
      "Max sale price: $9,400,000\n",
      "--------\n",
      "Min sale price: $30,000\n",
      "------------------------------------------------\n",
      "PSF INFO\n",
      "Max price per square foot: $2,265\n",
      "--------\n",
      "Min price per square foot: $21\n",
      "--------\n",
      "Median price per square foot: $228\n",
      "------------------------------------------------\n",
      "CONDO AGES\n",
      "Newest building: 2023.0\n",
      "----------\n",
      "Oldest building: 1956.0\n",
      "----------\n",
      "Average building age: 1983.7280898876404\n"
     ]
    }
   ],
   "source": [
    "print('SALES INFO')\n",
    "print(f'Number of sales: {len(df_filtered)}')\n",
    "print('--------')\n",
    "print(f'Total sale price: ${df_filtered[\"PRICE\"].sum():,.0f}')\n",
    "print('--------')\n",
    "print(f'Median sale price: ${df_filtered[\"PRICE\"].median():,.0f}')\n",
    "print('--------')\n",
    "print(f'Max sale price: ${df_filtered[\"PRICE\"].max():,.0f}')\n",
    "print('--------')\n",
    "print(f'Min sale price: ${df_filtered[\"PRICE\"].min():,.0f}')\n",
    "print('------------------------------------------------')\n",
    "print('PSF INFO')\n",
    "print(f'Max price per square foot: ${df_filtered[\"$/SQUARE FEET\"].max():,.0f}')\n",
    "print('--------')\n",
    "print(f'Min price per square foot: ${df_filtered[\"$/SQUARE FEET\"].min():,.0f}')\n",
    "print('--------')\n",
    "print(f'Median price per square foot: ${df_filtered[\"$/SQUARE FEET\"].median():,.0f}')\n",
    "print('------------------------------------------------')\n",
    "print('CONDO AGES')\n",
    "print(f'Newest building: {df_filtered[\"YEAR BUILT\"].max()}')\n",
    "print('----------')\n",
    "print(f'Oldest building: {df_filtered[\"YEAR BUILT\"].min()}')\n",
    "print('----------')\n",
    "print(f'Average building age: {df_filtered[\"YEAR BUILT\"].mean()}')"
   ]
  },
  {
   "cell_type": "markdown",
   "id": "d9546021",
   "metadata": {},
   "source": [
    "## Collect Agent Info"
   ]
  },
  {
   "cell_type": "code",
   "execution_count": 48,
   "id": "7f41147d",
   "metadata": {},
   "outputs": [],
   "source": [
    "def process_response(url):\n",
    "    try:\n",
    "        \n",
    "        base_url = \"https://redfin-com-data.p.rapidapi.com/properties/detail-by-url\"\n",
    "\n",
    "        querystring = {\"url\":url}\n",
    "\n",
    "        headers = {\n",
    "            \"x-rapidapi-key\": \"00191da588msh8450293d26e3515p1bbd40jsn56510b513b61\",\n",
    "            \"x-rapidapi-host\": \"redfin-com-data.p.rapidapi.com\"\n",
    "        }\n",
    "\n",
    "        response = requests.get(base_url, headers=headers, params=querystring)\n",
    "\n",
    "#         print(response.status_code)\n",
    "#         print(url)\n",
    "        time.sleep(0.2)\n",
    "\n",
    "        response.raise_for_status()\n",
    "        data = response.json()\n",
    "\n",
    "        # Initialize default values for listing and buyer agents data\n",
    "        list_agent_name_1 = None\n",
    "        list_broker_name_1 = None\n",
    "        list_agent_name_2 = None\n",
    "        list_broker_name_2 = None\n",
    "        \n",
    "        buy_agent_name_1 = None\n",
    "        buy_broker_name_1 = None\n",
    "        buy_agent_name_2 = None\n",
    "        buy_broker_name_2 = None\n",
    "        \n",
    "        # Extract listing agents data if it exists\n",
    "        listing_agents = data.get('data', {}).get('mainHouseInfoPanelInfo', {}).get('mainHouseInfo', {}).get('listingAgents', [])\n",
    "        if len(listing_agents) > 0:\n",
    "            list_agent_name_1 = listing_agents[0].get('agentInfo', {}).get('agentName')\n",
    "            list_broker_name_1 = listing_agents[0].get('brokerName')\n",
    "        if len(listing_agents) > 1:\n",
    "            list_agent_name_2 = listing_agents[1].get('agentInfo', {}).get('agentName')\n",
    "            list_broker_name_2 = listing_agents[1].get('brokerName')\n",
    "            \n",
    "        # Extract listing agents data if it exists\n",
    "        buying_agents = data.get('data', {}).get('mainHouseInfoPanelInfo', {}).get('mainHouseInfo', {}).get('buyingAgents', [])\n",
    "        if len(buying_agents) > 0:\n",
    "            buy_agent_name_1 = buying_agents[0].get('agentInfo', {}).get('agentName')\n",
    "            buy_broker_name_1 = buying_agents[0].get('brokerName')\n",
    "        if len(buying_agents) > 1:\n",
    "            buy_agent_name_2 = buying_agents[1].get('agentInfo', {}).get('agentName')\n",
    "            buy_broker_name_2 = buying_agents[1].get('brokerName')\n",
    "\n",
    "\n",
    "        return {\n",
    "            'url': url,\n",
    "            'list_agent_name_1': list_agent_name_1,\n",
    "            'list_broker_name_1': list_broker_name_1,\n",
    "            'list_agent_name_2': list_agent_name_2,\n",
    "            'list_broker_name_2': list_broker_name_2,\n",
    "            'buy_agent_name_1': buy_agent_name_1,\n",
    "            'buy_broker_name_1': buy_broker_name_1,\n",
    "            'buy_agent_name_2': buy_agent_name_2,\n",
    "            'buy_broker_name_2': buy_broker_name_2,\n",
    "        }\n",
    "    except requests.exceptions.RequestException as e:\n",
    "        print(f\"Error fetching data from {url}: {e}\")\n",
    "        return {\n",
    "            'url': url,\n",
    "            'list_agent_name_1': None,\n",
    "            'list_broker_name_1': None,\n",
    "            'list_agent_name_2': None,\n",
    "            'list_broker_name_2': None,\n",
    "            'buy_agent_name_1': None,\n",
    "            'buy_broker_name_1': None,\n",
    "            'buy_agent_name_2': None,\n",
    "            'buy_broker_name_2': None,\n",
    "        }"
   ]
  },
  {
   "cell_type": "code",
   "execution_count": 49,
   "id": "4e39edad",
   "metadata": {},
   "outputs": [],
   "source": [
    "df_filtered.reset_index(inplace=True,drop=True)"
   ]
  },
  {
   "cell_type": "code",
   "execution_count": 50,
   "id": "2489f42e",
   "metadata": {},
   "outputs": [],
   "source": [
    "max_price_index = df_filtered['PRICE'].idxmax()\n",
    "min_price_index = df_filtered['PRICE'].idxmin()\n",
    "\n",
    "max_price_psf_index = df_filtered['$/SQUARE FEET'].idxmax()\n",
    "min_price_psf_index = df_filtered['$/SQUARE FEET'].idxmin()\n",
    "\n",
    "max_year_built_index = df_filtered['YEAR BUILT'].idxmax()\n",
    "min_year_built_index = df_filtered['YEAR BUILT'].idxmin()"
   ]
  },
  {
   "cell_type": "code",
   "execution_count": 51,
   "id": "8db04528",
   "metadata": {},
   "outputs": [],
   "source": [
    "index_list = [max_price_index,min_price_index,\n",
    "             max_price_psf_index,min_price_psf_index,\n",
    "             max_year_built_index,min_year_built_index]"
   ]
  },
  {
   "cell_type": "code",
   "execution_count": 52,
   "id": "1b07a180",
   "metadata": {},
   "outputs": [],
   "source": [
    "response_list = []\n",
    "\n",
    "for index, row in df_filtered.iterrows():\n",
    "    if index in index_list:\n",
    "        response_list.append(process_response(row['URL']))\n",
    "        \n",
    "response_df = pd.DataFrame(response_list)\n",
    "\n",
    "merged_df = pd.merge(left=df_filtered,left_on='URL',right=response_df, right_on='url',how='outer')"
   ]
  },
  {
   "cell_type": "code",
   "execution_count": 53,
   "id": "949db1a1",
   "metadata": {},
   "outputs": [
    {
     "data": {
      "text/plain": [
       "array([nan, 'Marcy Javor', 'Jill Tarlow', 'Vanessa Sidi', 'Dana Landry'],\n",
       "      dtype=object)"
      ]
     },
     "execution_count": 53,
     "metadata": {},
     "output_type": "execute_result"
    }
   ],
   "source": [
    "merged_df['list_agent_name_1'].unique()"
   ]
  },
  {
   "cell_type": "code",
   "execution_count": 55,
   "id": "cf9e6efe",
   "metadata": {},
   "outputs": [
    {
     "name": "stdout",
     "output_type": "stream",
     "text": [
      "https://www.redfin.com/FL/Boca-Raton/1-N-Ocean-Blvd-33432/unit-303/home/42619804\n"
     ]
    }
   ],
   "source": [
    "print(merged_df['URL'].iloc[0])\n",
    "\n"
   ]
  },
  {
   "cell_type": "code",
   "execution_count": 56,
   "id": "51483ff8",
   "metadata": {},
   "outputs": [],
   "source": [
    "df_filtered = merged_df"
   ]
  },
  {
   "cell_type": "code",
   "execution_count": 57,
   "id": "1e38182c",
   "metadata": {},
   "outputs": [
    {
     "name": "stdout",
     "output_type": "stream",
     "text": [
      "\u001b[1mMost Expensive\u001b[0m\n",
      "One Thousand Ocean, 1000 S Ocean Blvd #505 Boca Raton | Price $9,400,000 | $2,080 psf | Year built: 2010 | Listing agents: Marcy Javor with Signature One Luxury Estates LLC and None with None | Buyer's agents: Michael O'Connor with Douglas Elliman and Nicholas Malinosky with Douglas Elliman\n",
      "\u001b[1mLeast Expensive\u001b[0m\n",
      "Stratford AT Hunters Run, 25 Stratford Dr Unit C Boynton Beach | Price $30,000 | $21 psf | Year built: 1980 | Listing agents: Jill Tarlow with Lang Realty/Delray Beach and None with None | Buyer's agents: Mark Plaxen with Atlantic Florida Properties Inc and None with None\n",
      "\u001b[1mHighest Price Per Square Foot\u001b[0m\n",
      "1625 Ocean Delray, 1625 S Ocean Blvd #3 Delray Beach | Price $7,575,000 | $2,265 psf | Year built: 2023 | Listing agents: Vanessa Sidi with Douglas Elliman and Shane Bentoumi with Douglas Elliman | Buyer's agents: Anders Gar Finnvold with Douglas Elliman and None with None\n",
      "\u001b[1mLowest Price Per Square Foot\u001b[0m\n",
      "Stratford AT Hunters Run, 25 Stratford Dr Unit C Boynton Beach | Price $30,000 | $21 psf | Year built: 1980 | Listing agents: Jill Tarlow with Lang Realty/Delray Beach and None with None | Buyer's agents: Mark Plaxen with Atlantic Florida Properties Inc and None with None\n",
      "\u001b[1mNewest\u001b[0m\n",
      "1625 Ocean Delray, 1625 S Ocean Blvd #3 Delray Beach | Price $7,575,000 | $2,265 psf | Year built: 2023 | Listing agents: Vanessa Sidi with Douglas Elliman and Shane Bentoumi with Douglas Elliman | Buyer's agents: Anders Gar Finnvold with Douglas Elliman and None with None\n",
      "\u001b[1mOldest\u001b[0m\n",
      "Palm Beach Towers Condo, 44 Cocoanut Row Unit 418b Palm Beach | Price $2,797,500 | $nan psf | Year built: 1956 | Listing agents: Dana Landry with Dana E. Landry and None with None | Buyer's agents: Austin McGurk with Brown Harris Stevens of PB and Liza Pulitzer with Brown Harris Stevens of PB\n"
     ]
    }
   ],
   "source": [
    "print(f\"{ME}{BR}{df_filtered.loc[df_filtered['PRICE'].idxmax()]['LOCATION']}, {df_filtered.loc[df_filtered['PRICE'].idxmax()]['FULL_ADDRESS']} | Price ${df_filtered.loc[df_filtered['PRICE'].idxmax()]['PRICE']:,.0f} | ${df_filtered.loc[df_filtered['PRICE'].idxmax()]['$/SQUARE FEET']:,.0f} psf | Year built: {df_filtered.loc[df_filtered['PRICE'].idxmax()]['YEAR BUILT']:.0f} | Listing agents: {df_filtered.loc[df_filtered['PRICE'].idxmax()]['list_agent_name_1']} with {df_filtered.loc[df_filtered['PRICE'].idxmax()]['list_broker_name_1']} and {df_filtered.loc[df_filtered['PRICE'].idxmax()]['list_agent_name_2']} with {df_filtered.loc[df_filtered['PRICE'].idxmax()]['list_broker_name_2']} | Buyer's agents: {df_filtered.loc[df_filtered['PRICE'].idxmax()]['buy_agent_name_1']} with {df_filtered.loc[df_filtered['PRICE'].idxmax()]['buy_broker_name_1']} and {df_filtered.loc[df_filtered['PRICE'].idxmax()]['buy_agent_name_2']} with {df_filtered.loc[df_filtered['PRICE'].idxmax()]['buy_broker_name_2']}\")\n",
    "print(f\"{LE}{BR}{df_filtered.loc[df_filtered['PRICE'].idxmin()]['LOCATION']}, {df_filtered.loc[df_filtered['PRICE'].idxmin()]['FULL_ADDRESS']} | Price ${df_filtered.loc[df_filtered['PRICE'].idxmin()]['PRICE']:,.0f} | ${df_filtered.loc[df_filtered['PRICE'].idxmin()]['$/SQUARE FEET']:,.0f} psf | Year built: {df_filtered.loc[df_filtered['PRICE'].idxmin()]['YEAR BUILT']:.0f} | Listing agents: {df_filtered.loc[df_filtered['PRICE'].idxmin()]['list_agent_name_1']} with {df_filtered.loc[df_filtered['PRICE'].idxmin()]['list_broker_name_1']} and {df_filtered.loc[df_filtered['PRICE'].idxmin()]['list_agent_name_2']} with {df_filtered.loc[df_filtered['PRICE'].idxmin()]['list_broker_name_2']} | Buyer's agents: {df_filtered.loc[df_filtered['PRICE'].idxmin()]['buy_agent_name_1']} with {df_filtered.loc[df_filtered['PRICE'].idxmin()]['buy_broker_name_1']} and {df_filtered.loc[df_filtered['PRICE'].idxmin()]['buy_agent_name_2']} with {df_filtered.loc[df_filtered['PRICE'].idxmin()]['buy_broker_name_2']}\")\n",
    "\n",
    "print(f\"{MAX_PSF}{BR}{df_filtered.loc[df_filtered['$/SQUARE FEET'].idxmax()]['LOCATION']}, {df_filtered.loc[df_filtered['$/SQUARE FEET'].idxmax()]['FULL_ADDRESS']} | Price ${df_filtered.loc[df_filtered['$/SQUARE FEET'].idxmax()]['PRICE']:,.0f} | ${df_filtered.loc[df_filtered['$/SQUARE FEET'].idxmax()]['$/SQUARE FEET']:,.0f} psf | Year built: {df_filtered.loc[df_filtered['$/SQUARE FEET'].idxmax()]['YEAR BUILT']:.0f} | Listing agents: {df_filtered.loc[df_filtered['$/SQUARE FEET'].idxmax()]['list_agent_name_1']} with {df_filtered.loc[df_filtered['$/SQUARE FEET'].idxmax()]['list_broker_name_1']} and {df_filtered.loc[df_filtered['$/SQUARE FEET'].idxmax()]['list_agent_name_2']} with {df_filtered.loc[df_filtered['$/SQUARE FEET'].idxmax()]['list_broker_name_2']} | Buyer's agents: {df_filtered.loc[df_filtered['$/SQUARE FEET'].idxmax()]['buy_agent_name_1']} with {df_filtered.loc[df_filtered['$/SQUARE FEET'].idxmax()]['buy_broker_name_1']} and {df_filtered.loc[df_filtered['$/SQUARE FEET'].idxmax()]['buy_agent_name_2']} with {df_filtered.loc[df_filtered['$/SQUARE FEET'].idxmax()]['buy_broker_name_2']}\")\n",
    "print(f\"{MIN_PSF}{BR}{df_filtered.loc[df_filtered['$/SQUARE FEET'].idxmin()]['LOCATION']}, {df_filtered.loc[df_filtered['$/SQUARE FEET'].idxmin()]['FULL_ADDRESS']} | Price ${df_filtered.loc[df_filtered['$/SQUARE FEET'].idxmin()]['PRICE']:,.0f} | ${df_filtered.loc[df_filtered['$/SQUARE FEET'].idxmin()]['$/SQUARE FEET']:,.0f} psf | Year built: {df_filtered.loc[df_filtered['$/SQUARE FEET'].idxmin()]['YEAR BUILT']:.0f} | Listing agents: {df_filtered.loc[df_filtered['$/SQUARE FEET'].idxmin()]['list_agent_name_1']} with {df_filtered.loc[df_filtered['$/SQUARE FEET'].idxmin()]['list_broker_name_1']} and {df_filtered.loc[df_filtered['$/SQUARE FEET'].idxmin()]['list_agent_name_2']} with {df_filtered.loc[df_filtered['$/SQUARE FEET'].idxmin()]['list_broker_name_2']} | Buyer's agents: {df_filtered.loc[df_filtered['$/SQUARE FEET'].idxmin()]['buy_agent_name_1']} with {df_filtered.loc[df_filtered['$/SQUARE FEET'].idxmin()]['buy_broker_name_1']} and {df_filtered.loc[df_filtered['$/SQUARE FEET'].idxmin()]['buy_agent_name_2']} with {df_filtered.loc[df_filtered['$/SQUARE FEET'].idxmin()]['buy_broker_name_2']}\")\n",
    "\n",
    "print(f\"{Newest}{BR}{df_filtered.loc[df_filtered['YEAR BUILT'].idxmax()]['LOCATION']}, {df_filtered.loc[df_filtered['YEAR BUILT'].idxmax()]['FULL_ADDRESS']} | Price ${df_filtered.loc[df_filtered['YEAR BUILT'].idxmax()]['PRICE']:,.0f} | ${df_filtered.loc[df_filtered['YEAR BUILT'].idxmax()]['$/SQUARE FEET']:,.0f} psf | Year built: {df_filtered.loc[df_filtered['YEAR BUILT'].idxmax()]['YEAR BUILT']:.0f} | Listing agents: {df_filtered.loc[df_filtered['YEAR BUILT'].idxmax()]['list_agent_name_1']} with {df_filtered.loc[df_filtered['YEAR BUILT'].idxmax()]['list_broker_name_1']} and {df_filtered.loc[df_filtered['YEAR BUILT'].idxmax()]['list_agent_name_2']} with {df_filtered.loc[df_filtered['YEAR BUILT'].idxmax()]['list_broker_name_2']} | Buyer's agents: {df_filtered.loc[df_filtered['YEAR BUILT'].idxmax()]['buy_agent_name_1']} with {df_filtered.loc[df_filtered['YEAR BUILT'].idxmax()]['buy_broker_name_1']} and {df_filtered.loc[df_filtered['YEAR BUILT'].idxmax()]['buy_agent_name_2']} with {df_filtered.loc[df_filtered['YEAR BUILT'].idxmax()]['buy_broker_name_2']}\")\n",
    "print(f\"{Oldest}{BR}{df_filtered.loc[df_filtered['YEAR BUILT'].idxmin()]['LOCATION']}, {df_filtered.loc[df_filtered['YEAR BUILT'].idxmin()]['FULL_ADDRESS']} | Price ${df_filtered.loc[df_filtered['YEAR BUILT'].idxmin()]['PRICE']:,.0f} | ${df_filtered.loc[df_filtered['YEAR BUILT'].idxmin()]['$/SQUARE FEET']:,.0f} psf | Year built: {df_filtered.loc[df_filtered['YEAR BUILT'].idxmin()]['YEAR BUILT']:.0f} | Listing agents: {df_filtered.loc[df_filtered['YEAR BUILT'].idxmin()]['list_agent_name_1']} with {df_filtered.loc[df_filtered['YEAR BUILT'].idxmin()]['list_broker_name_1']} and {df_filtered.loc[df_filtered['YEAR BUILT'].idxmin()]['list_agent_name_2']} with {df_filtered.loc[df_filtered['YEAR BUILT'].idxmin()]['list_broker_name_2']} | Buyer's agents: {df_filtered.loc[df_filtered['YEAR BUILT'].idxmin()]['buy_agent_name_1']} with {df_filtered.loc[df_filtered['YEAR BUILT'].idxmin()]['buy_broker_name_1']} and {df_filtered.loc[df_filtered['YEAR BUILT'].idxmin()]['buy_agent_name_2']} with {df_filtered.loc[df_filtered['YEAR BUILT'].idxmin()]['buy_broker_name_2']}\")"
   ]
  },
  {
   "cell_type": "markdown",
   "id": "bf7057fd",
   "metadata": {},
   "source": [
    "## Get condo names and locations for most and least expensive"
   ]
  },
  {
   "cell_type": "code",
   "execution_count": 58,
   "id": "00f31fda",
   "metadata": {},
   "outputs": [],
   "source": [
    "most_expensive_muni_condo_name = df_filtered.loc[df_filtered['PRICE'].idxmax()]['LOCATION']\n",
    "most_expensive_muni_location = df_filtered.loc[df_filtered['PRICE'].idxmax()]['CITY']\n",
    "\n",
    "least_expensive_muni_condo_name = df_filtered.loc[df_filtered['PRICE'].idxmin()]['LOCATION']\n",
    "least_expensive_muni_location = df_filtered.loc[df_filtered['PRICE'].idxmin()]['CITY']"
   ]
  },
  {
   "cell_type": "code",
   "execution_count": 59,
   "id": "b79b8847",
   "metadata": {},
   "outputs": [],
   "source": [
    "## Calculate the increase/descrease between both months\n",
    "subject_month_sales_volume = df_filtered[\"PRICE\"].sum()\n",
    "prior_month_sales_volume = int(sales_volume_2nd_month)  # Example value, replace with actual value\n",
    "\n",
    "subject_month_closings = len(df_filtered)\n",
    "prior_month_closings = int(total_condos_sold_2nd_month)\n",
    "\n",
    "# Subtract the smaller value from the larger one\n",
    "if subject_month_sales_volume > prior_month_sales_volume:\n",
    "    hed_rf = 'jumps'\n",
    "    nut_graf = 'rising'\n",
    "    second_nut_graf_ref = 'up'\n",
    "    social = 'higher'\n",
    "    seo = 'increased'\n",
    "elif prior_month_sales_volume > subject_month_sales_volume:\n",
    "    hed_rf = 'drops'\n",
    "    nut_graf = 'falling'\n",
    "    second_nut_graf_ref = 'down'\n",
    "    social = 'lower'\n",
    "    seo = 'dropped'\n",
    "else:\n",
    "    hed_rf = 'equals'\n",
    "    nut_graf = 'equaling'\n",
    "    second_nut_graf_ref = 'on par with'\n",
    "    social = 'equal'\n",
    "    seo = \"did't change\"\n",
    "    \n",
    "    \n",
    "if subject_month_closings > prior_month_closings:\n",
    "    dek_rf = 'rose'\n",
    "elif prior_month_closings > subject_month_closings:\n",
    "    dek_rf ='fell'\n",
    "else:\n",
    "    dek_rf = 'equaled'"
   ]
  },
  {
   "cell_type": "code",
   "execution_count": 60,
   "id": "3e5b3893",
   "metadata": {},
   "outputs": [
    {
     "data": {
      "text/plain": [
       "Index(['SOLD DATE', 'ADDRESS', 'CITY', 'PRICE', 'BEDS', 'BATHS', 'LOCATION',\n",
       "       'YEAR BUILT', 'DAYS ON MARKET', '$/SQUARE FEET', 'URL', 'LATITUDE',\n",
       "       'LONGITUDE', 'PRICE_AS_CURRENCY', 'YEAR BUILT DISPLAY',\n",
       "       'PRICE_SQUARE_FEET_AS_CURRENCY', 'COLOR', 'RANK', 'FULL_ADDRESS', 'url',\n",
       "       'list_agent_name_1', 'list_broker_name_1', 'list_agent_name_2',\n",
       "       'list_broker_name_2', 'buy_agent_name_1', 'buy_broker_name_1',\n",
       "       'buy_agent_name_2', 'buy_broker_name_2'],\n",
       "      dtype='object')"
      ]
     },
     "execution_count": 60,
     "metadata": {},
     "output_type": "execute_result"
    }
   ],
   "source": [
    "df_filtered.columns"
   ]
  },
  {
   "cell_type": "code",
   "execution_count": 61,
   "id": "1ec817cf",
   "metadata": {},
   "outputs": [
    {
     "name": "stdout",
     "output_type": "stream",
     "text": [
      "\n",
      "\n",
      "\n",
      "TOP SALE LISTING AGENTS:\n",
      "\n",
      "Marcy Javor with Signature One Luxury Estates LLC and None with None\n",
      "\n",
      "TOP SALE BUYER AGENTS:\n",
      "\n",
      "Michael O'Connor with Douglas Elliman and Nicholas Malinosky with Douglas Elliman\n",
      "\n",
      "BOTTOM SALE LISTING AGENTS:\n",
      "\n",
      "Jill Tarlow with Lang Realty/Delray Beach and None with None\n",
      "\n",
      "BOTTOM SALE BUYER AGENTS:\n",
      "\n",
      "Mark Plaxen with Atlantic Florida Properties Inc and None with None\n",
      "\n",
      "\n"
     ]
    }
   ],
   "source": [
    "# Get values for the top sale (max price)\n",
    "top_sale_listing_agent_1 = df_filtered.loc[df_filtered[\"PRICE\"].idxmax(), 'list_agent_name_1']\n",
    "top_sale_listing_broker_1 = df_filtered.loc[df_filtered[\"PRICE\"].idxmax(), 'list_broker_name_1']\n",
    "top_sale_listing_agent_2 = df_filtered.loc[df_filtered[\"PRICE\"].idxmax(), 'list_agent_name_2']\n",
    "top_sale_listing_broker_2 = df_filtered.loc[df_filtered[\"PRICE\"].idxmax(), 'list_broker_name_2']\n",
    "top_sale_buyer_agent_1 = df_filtered.loc[df_filtered[\"PRICE\"].idxmax(), 'buy_agent_name_1']\n",
    "top_sale_buyer_broker_1 = df_filtered.loc[df_filtered[\"PRICE\"].idxmax(), 'buy_broker_name_1']\n",
    "top_sale_buyer_agent_2 = df_filtered.loc[df_filtered[\"PRICE\"].idxmax(), 'buy_agent_name_2']\n",
    "top_sale_buyer_broker_2 = df_filtered.loc[df_filtered[\"PRICE\"].idxmax(), 'buy_broker_name_2']\n",
    "\n",
    "# Get values for the bottom sale (min price)\n",
    "bottom_sale_listing_agent_1 = df_filtered.loc[df_filtered[\"PRICE\"].idxmin(), 'list_agent_name_1']\n",
    "bottom_sale_listing_broker_1 = df_filtered.loc[df_filtered[\"PRICE\"].idxmin(), 'list_broker_name_1']\n",
    "bottom_sale_listing_agent_2 = df_filtered.loc[df_filtered[\"PRICE\"].idxmin(), 'list_agent_name_2']\n",
    "bottom_sale_listing_broker_2 = df_filtered.loc[df_filtered[\"PRICE\"].idxmin(), 'list_broker_name_2']\n",
    "bottom_sale_buyer_agent_1 = df_filtered.loc[df_filtered[\"PRICE\"].idxmin(), 'buy_agent_name_1']\n",
    "bottom_sale_buyer_broker_1 = df_filtered.loc[df_filtered[\"PRICE\"].idxmin(), 'buy_broker_name_1']\n",
    "bottom_sale_buyer_agent_2 = df_filtered.loc[df_filtered[\"PRICE\"].idxmin(), 'buy_agent_name_2']\n",
    "bottom_sale_buyer_broker_2 = df_filtered.loc[df_filtered[\"PRICE\"].idxmin(), 'buy_broker_name_2']\n",
    "\n",
    "# Now create the formatted string\n",
    "test_string = f'''\n",
    "\n",
    "\n",
    "TOP SALE LISTING AGENTS:\n",
    "\n",
    "{top_sale_listing_agent_1} with {top_sale_listing_broker_1} and {top_sale_listing_agent_2} with {top_sale_listing_broker_2}\n",
    "\n",
    "TOP SALE BUYER AGENTS:\n",
    "\n",
    "{top_sale_buyer_agent_1} with {top_sale_buyer_broker_1} and {top_sale_buyer_agent_2} with {top_sale_buyer_broker_2}\n",
    "\n",
    "BOTTOM SALE LISTING AGENTS:\n",
    "\n",
    "{bottom_sale_listing_agent_1} with {bottom_sale_listing_broker_1} and {bottom_sale_listing_agent_2} with {bottom_sale_listing_broker_2}\n",
    "\n",
    "BOTTOM SALE BUYER AGENTS:\n",
    "\n",
    "{bottom_sale_buyer_agent_1} with {bottom_sale_buyer_broker_1} and {bottom_sale_buyer_agent_2} with {bottom_sale_buyer_broker_2}\n",
    "\n",
    "'''\n",
    "\n",
    "print(test_string)\n"
   ]
  },
  {
   "cell_type": "code",
   "execution_count": 62,
   "id": "2778adf2",
   "metadata": {},
   "outputs": [
    {
     "data": {
      "text/plain": [
       "1"
      ]
     },
     "execution_count": 62,
     "metadata": {},
     "output_type": "execute_result"
    }
   ],
   "source": [
    "df_filtered[\"PRICE\"].idxmax()"
   ]
  },
  {
   "cell_type": "code",
   "execution_count": 63,
   "id": "246d9fac",
   "metadata": {},
   "outputs": [],
   "source": [
    "story_string = f'''\n",
    "\\033[1mHED:\\033[0m {county_name} condo sales dollar volume {hed_rf} in {previous_month_name} to ${round(df_filtered[\"PRICE\"].sum()/1_000_000)}M \n",
    "\\033[1mDEK:\\033[0m Number of closings {dek_rf} to {len(df_filtered)} from {total_condos_sold_2nd_month} in {month_before_last_name}\n",
    "\\033[1mFEATURED HED:\\033[0m\n",
    "\\033[1mSEO HED:\\033[0m {county_name} {previous_month_name} Condo Sales Report \n",
    "\\033[1mSEO DESCRIPTION:\\033[0m {county_name}’s condo sales volume {seo} to ${round(df_filtered[\"PRICE\"].sum()/1_000_000)} million in {previous_month_name}.\n",
    "\\033[1mAUTHOR:\\033[0m Adam Farence\n",
    "\\033[1mRESEARCH:\\033[0m  \n",
    "\\033[1mSocial:\\033[0m {county_name} had ${round(df_filtered[\"PRICE\"].sum()/1_000_000):,.0f} million in condo sales in {previous_month_name}, {social} than ${round(int(sales_volume_2nd_month)/1_000_000)} million from {month_before_last_name}, @afarence reports \n",
    "\\033[1mART:\\033[0m \n",
    "\n",
    "CHANGE ME\n",
    "\n",
    "*Please provide credits for any images that you share\n",
    "\\033[1mSTORY TYPE:\\033[0m Report\n",
    "\\033[1mSECTOR\\033[0m (formerly CATEGORY): Residential Real Estate\n",
    "\\033[1mTAGS:\\033[0m condo sales, {county_name}, monthly condo sales, condos, condo market, {most_expensive_muni_condo_name.title()}, {most_expensive_muni_location}\n",
    "\n",
    "\\033[1mNeighborhood:\\033[0m \n",
    "\\033[1mProperty:\\033[0m\n",
    "\\033[1mProperty Type:\\033[0m\n",
    "\\033[1mCompanies:\\033[0m \n",
    "\\033[1mPeople:\\033[0m\n",
    "\\033[1mIssues:\\033[0m\n",
    "\\033[1mRegion:\\033[0m\n",
    "\n",
    "{county_name}’s NEWS PEG HERE.\n",
    "\n",
    "{previous_month_name} condo sales totaled ${round(df_filtered[\"PRICE\"].sum()/1_000_000)} million, {nut_graf} from ${int(sales_volume_2nd_month)/1_000_000:.0f} million in {month_before_last_name}. Brokers closed {len(df_filtered)} sales last month, {second_nut_graf_ref} from {total_condos_sold_2nd_month} sales in {month_before_last_name} and XXX in XXX, Multiple Listing Service data from Redfin show.\n",
    "\n",
    "{previous_month_name} sale prices ranged from ${df_filtered[\"PRICE\"].min():,.0f} to ${df_filtered[\"PRICE\"].max():,.0f} million, with a median sale price of ${df_filtered[\"PRICE\"].median():,.0f}. The price per square foot ranged from ${df_filtered[\"$/SQUARE FEET\"].min():,.0f} to ${df_filtered[\"$/SQUARE FEET\"].max():,.0f}, with a median of ${df_filtered[\"$/SQUARE FEET\"].median():,.0f} per square foot.\n",
    "\n",
    "In {month_before_last_name}, sales closed with a median price of ${int(median_sales_price_2nd_month):,.0f}, and ${median_psf_2nd_month} per square foot.\n",
    "\n",
    "A ${df_filtered[\"PRICE\"].max():,.0f} million closing at {most_expensive_muni_condo_name.title()} took the title of priciest sale last month. {df_filtered.loc[df_filtered['PRICE'].idxmax()]['FULL_ADDRESS']} sold for ${df_filtered.loc[df_filtered['PRICE'].idxmax()]['$/SQUARE FEET']:,.0f} per square foot after XX days on the market. XXX with XXX had the listing, and XXX with XXX represented the buyer.\n",
    "\n",
    "TOP SALE LISTING AGENTS:\n",
    "\n",
    "{top_sale_listing_agent_1} with {top_sale_listing_broker_1} and {top_sale_listing_agent_2} with {top_sale_listing_broker_2}\n",
    "\n",
    "TOP SALE BUYER AGENTS:\n",
    "\n",
    "{top_sale_buyer_agent_1} with {top_sale_buyer_broker_1} and {top_sale_buyer_agent_2} with {top_sale_buyer_broker_2}\n",
    "\n",
    "The sale price was \\033[1mmore/less\\033[0m than {month_before_last_name}'s priciest sale. Unit XXXX \n",
    "\n",
    "In contrast, {previous_month_name}'s cheapest sale was an {least_expensive_muni_condo_name} in {least_expensive_muni_location}, at {df_filtered.loc[df_filtered['PRICE'].idxmin()]['FULL_ADDRESS']}. Unit XXX traded for ${df_filtered['PRICE'].min():,.0f} — or ${df_filtered.loc[df_filtered['PRICE'].idxmin()]['$/SQUARE FEET']:,.0f} per square foot — after XXX days on the market. XXX with XXX handled both sides of the deal.\n",
    "\n",
    "BOTTOM SALE LISTING AGENTS:\n",
    "\n",
    "{bottom_sale_listing_agent_1} with {bottom_sale_listing_broker_1} and {bottom_sale_listing_agent_2} with {bottom_sale_listing_broker_2}\n",
    "\n",
    "BOTTOM SALE BUYER AGENTS:\n",
    "\n",
    "{bottom_sale_buyer_agent_1} with {bottom_sale_buyer_broker_1} and {bottom_sale_buyer_agent_2} with {bottom_sale_buyer_broker_2}\n",
    "\n",
    "<figure>\n",
    " <div class=\"container\">\n",
    "   <div class=\"iframe-wrap\">\n",
    "   <iframe src=\"{final_name}\" width=\"100%\" height=\"800\" frameBorder=\"0\" scrolling=\"no\"></iframe>\n",
    "  </div>\n",
    "</div>\n",
    "  <figcaption align=\"right\"><a href=\"https://leafletjs.com/\">Leaflet</a> map created by Adam Farence | Data by © <a href=\"https://www.openstreetmap.org/#map=4/38.01/-95.84\"> OpenStreetMap</a>, under <a href=\"https://www.openstreetmap.org/copyright\">ODbl.</a></figcaption>\n",
    "</figure>\n",
    "\n",
    "Here’s a breakdown of {previous_month_name}’s notable condo sales:\n",
    "'''"
   ]
  },
  {
   "cell_type": "code",
   "execution_count": 64,
   "id": "f51fcff5",
   "metadata": {},
   "outputs": [
    {
     "name": "stdout",
     "output_type": "stream",
     "text": [
      "\n",
      "\u001b[1mHED:\u001b[0m Palm Beach County condo sales dollar volume drops in September to $221M \n",
      "\u001b[1mDEK:\u001b[0m Number of closings fell to 445 from 546 in August\n",
      "\u001b[1mFEATURED HED:\u001b[0m\n",
      "\u001b[1mSEO HED:\u001b[0m Palm Beach County September Condo Sales Report \n",
      "\u001b[1mSEO DESCRIPTION:\u001b[0m Palm Beach County’s condo sales volume dropped to $221 million in September.\n",
      "\u001b[1mAUTHOR:\u001b[0m Adam Farence\n",
      "\u001b[1mRESEARCH:\u001b[0m  \n",
      "\u001b[1mSocial:\u001b[0m Palm Beach County had $221 million in condo sales in September, lower than $233 million from August, @afarence reports \n",
      "\u001b[1mART:\u001b[0m \n",
      "\n",
      "CHANGE ME\n",
      "\n",
      "*Please provide credits for any images that you share\n",
      "\u001b[1mSTORY TYPE:\u001b[0m Report\n",
      "\u001b[1mSECTOR\u001b[0m (formerly CATEGORY): Residential Real Estate\n",
      "\u001b[1mTAGS:\u001b[0m condo sales, Palm Beach County, monthly condo sales, condos, condo market, One Thousand Ocean, Boca Raton\n",
      "\n",
      "\u001b[1mNeighborhood:\u001b[0m \n",
      "\u001b[1mProperty:\u001b[0m\n",
      "\u001b[1mProperty Type:\u001b[0m\n",
      "\u001b[1mCompanies:\u001b[0m \n",
      "\u001b[1mPeople:\u001b[0m\n",
      "\u001b[1mIssues:\u001b[0m\n",
      "\u001b[1mRegion:\u001b[0m\n",
      "\n",
      "Palm Beach County’s NEWS PEG HERE.\n",
      "\n",
      "September condo sales totaled $221 million, falling from $233 million in August. Brokers closed 445 sales last month, down from 546 sales in August and XXX in XXX, Multiple Listing Service data from Redfin show.\n",
      "\n",
      "September sale prices ranged from $30,000 to $9,400,000 million, with a median sale price of $250,000. The price per square foot ranged from $21 to $2,265, with a median of $228 per square foot.\n",
      "\n",
      "In August, sales closed with a median price of $260,000, and $226 per square foot.\n",
      "\n",
      "A $9,400,000 million closing at One Thousand Ocean took the title of priciest sale last month. 1000 S Ocean Blvd #505 Boca Raton sold for $2,080 per square foot after XX days on the market. XXX with XXX had the listing, and XXX with XXX represented the buyer.\n",
      "\n",
      "TOP SALE LISTING AGENTS:\n",
      "\n",
      "Marcy Javor with Signature One Luxury Estates LLC and None with None\n",
      "\n",
      "TOP SALE BUYER AGENTS:\n",
      "\n",
      "Michael O'Connor with Douglas Elliman and Nicholas Malinosky with Douglas Elliman\n",
      "\n",
      "The sale price was \u001b[1mmore/less\u001b[0m than August's priciest sale. Unit XXXX \n",
      "\n",
      "In contrast, September's cheapest sale was an Stratford AT Hunters Run in Boynton Beach, at 25 Stratford Dr Unit C Boynton Beach. Unit XXX traded for $30,000 — or $21 per square foot — after XXX days on the market. XXX with XXX handled both sides of the deal.\n",
      "\n",
      "BOTTOM SALE LISTING AGENTS:\n",
      "\n",
      "Jill Tarlow with Lang Realty/Delray Beach and None with None\n",
      "\n",
      "BOTTOM SALE BUYER AGENTS:\n",
      "\n",
      "Mark Plaxen with Atlantic Florida Properties Inc and None with None\n",
      "\n",
      "<figure>\n",
      " <div class=\"container\">\n",
      "   <div class=\"iframe-wrap\">\n",
      "   <iframe src=\"https://trd-digital.github.io/trd-news-interactive-maps/PBC_condo_sales_month_ending_sept_2024\" width=\"100%\" height=\"800\" frameBorder=\"0\" scrolling=\"no\"></iframe>\n",
      "  </div>\n",
      "</div>\n",
      "  <figcaption align=\"right\"><a href=\"https://leafletjs.com/\">Leaflet</a> map created by Adam Farence | Data by © <a href=\"https://www.openstreetmap.org/#map=4/38.01/-95.84\"> OpenStreetMap</a>, under <a href=\"https://www.openstreetmap.org/copyright\">ODbl.</a></figcaption>\n",
      "</figure>\n",
      "\n",
      "Here’s a breakdown of September’s notable condo sales:\n",
      "\n",
      "\u001b[1mMost Expensive\u001b[0m\n",
      "One Thousand Ocean, 1000 S Ocean Blvd #505 Boca Raton | Price $9,400,000 | $2,080 psf | Year built: 2010 | Listing agents: Marcy Javor with Signature One Luxury Estates LLC and None with None | Buyer's agents: Michael O'Connor with Douglas Elliman and Nicholas Malinosky with Douglas Elliman\n",
      "\u001b[1mLeast Expensive\u001b[0m\n",
      "Stratford AT Hunters Run, 25 Stratford Dr Unit C Boynton Beach | Price $30,000 | $21 psf | Year built: 1980 | Listing agents: Jill Tarlow with Lang Realty/Delray Beach and None with None | Buyer's agents: Mark Plaxen with Atlantic Florida Properties Inc and None with None\n",
      "\u001b[1mHighest Price Per Square Foot\u001b[0m\n",
      "1625 Ocean Delray, 1625 S Ocean Blvd #3 Delray Beach | Price $7,575,000 | $2,265 psf | Year built: 2023 | Listing agents: Vanessa Sidi with Douglas Elliman and Shane Bentoumi with Douglas Elliman | Buyer's agents: Anders Gar Finnvold with Douglas Elliman and None with None\n",
      "\u001b[1mLowest Price Per Square Foot\u001b[0m\n",
      "Stratford AT Hunters Run, 25 Stratford Dr Unit C Boynton Beach | Price $30,000 | $21 psf | Year built: 1980 | Listing agents: Jill Tarlow with Lang Realty/Delray Beach and None with None | Buyer's agents: Mark Plaxen with Atlantic Florida Properties Inc and None with None\n",
      "\u001b[1mNewest\u001b[0m\n",
      "1625 Ocean Delray, 1625 S Ocean Blvd #3 Delray Beach | Price $7,575,000 | $2,265 psf | Year built: 2023 | Listing agents: Vanessa Sidi with Douglas Elliman and Shane Bentoumi with Douglas Elliman | Buyer's agents: Anders Gar Finnvold with Douglas Elliman and None with None\n",
      "\u001b[1mOldest\u001b[0m\n",
      "Palm Beach Towers Condo, 44 Cocoanut Row Unit 418b Palm Beach | Price $2,797,500 | $nan psf | Year built: 1956 | Listing agents: Dana Landry with Dana E. Landry and None with None | Buyer's agents: Austin McGurk with Brown Harris Stevens of PB and Liza Pulitzer with Brown Harris Stevens of PB\n"
     ]
    }
   ],
   "source": [
    "print(story_string)\n",
    "\n",
    "print(f\"{ME}{BR}{df_filtered.loc[df_filtered['PRICE'].idxmax()]['LOCATION']}, {df_filtered.loc[df_filtered['PRICE'].idxmax()]['FULL_ADDRESS']} | Price ${df_filtered.loc[df_filtered['PRICE'].idxmax()]['PRICE']:,.0f} | ${df_filtered.loc[df_filtered['PRICE'].idxmax()]['$/SQUARE FEET']:,.0f} psf | Year built: {df_filtered.loc[df_filtered['PRICE'].idxmax()]['YEAR BUILT']:.0f} | Listing agents: {df_filtered.loc[df_filtered['PRICE'].idxmax()]['list_agent_name_1']} with {df_filtered.loc[df_filtered['PRICE'].idxmax()]['list_broker_name_1']} and {df_filtered.loc[df_filtered['PRICE'].idxmax()]['list_agent_name_2']} with {df_filtered.loc[df_filtered['PRICE'].idxmax()]['list_broker_name_2']} | Buyer's agents: {df_filtered.loc[df_filtered['PRICE'].idxmax()]['buy_agent_name_1']} with {df_filtered.loc[df_filtered['PRICE'].idxmax()]['buy_broker_name_1']} and {df_filtered.loc[df_filtered['PRICE'].idxmax()]['buy_agent_name_2']} with {df_filtered.loc[df_filtered['PRICE'].idxmax()]['buy_broker_name_2']}\")\n",
    "print(f\"{LE}{BR}{df_filtered.loc[df_filtered['PRICE'].idxmin()]['LOCATION']}, {df_filtered.loc[df_filtered['PRICE'].idxmin()]['FULL_ADDRESS']} | Price ${df_filtered.loc[df_filtered['PRICE'].idxmin()]['PRICE']:,.0f} | ${df_filtered.loc[df_filtered['PRICE'].idxmin()]['$/SQUARE FEET']:,.0f} psf | Year built: {df_filtered.loc[df_filtered['PRICE'].idxmin()]['YEAR BUILT']:.0f} | Listing agents: {df_filtered.loc[df_filtered['PRICE'].idxmin()]['list_agent_name_1']} with {df_filtered.loc[df_filtered['PRICE'].idxmin()]['list_broker_name_1']} and {df_filtered.loc[df_filtered['PRICE'].idxmin()]['list_agent_name_2']} with {df_filtered.loc[df_filtered['PRICE'].idxmin()]['list_broker_name_2']} | Buyer's agents: {df_filtered.loc[df_filtered['PRICE'].idxmin()]['buy_agent_name_1']} with {df_filtered.loc[df_filtered['PRICE'].idxmin()]['buy_broker_name_1']} and {df_filtered.loc[df_filtered['PRICE'].idxmin()]['buy_agent_name_2']} with {df_filtered.loc[df_filtered['PRICE'].idxmin()]['buy_broker_name_2']}\")\n",
    "\n",
    "print(f\"{MAX_PSF}{BR}{df_filtered.loc[df_filtered['$/SQUARE FEET'].idxmax()]['LOCATION']}, {df_filtered.loc[df_filtered['$/SQUARE FEET'].idxmax()]['FULL_ADDRESS']} | Price ${df_filtered.loc[df_filtered['$/SQUARE FEET'].idxmax()]['PRICE']:,.0f} | ${df_filtered.loc[df_filtered['$/SQUARE FEET'].idxmax()]['$/SQUARE FEET']:,.0f} psf | Year built: {df_filtered.loc[df_filtered['$/SQUARE FEET'].idxmax()]['YEAR BUILT']:.0f} | Listing agents: {df_filtered.loc[df_filtered['$/SQUARE FEET'].idxmax()]['list_agent_name_1']} with {df_filtered.loc[df_filtered['$/SQUARE FEET'].idxmax()]['list_broker_name_1']} and {df_filtered.loc[df_filtered['$/SQUARE FEET'].idxmax()]['list_agent_name_2']} with {df_filtered.loc[df_filtered['$/SQUARE FEET'].idxmax()]['list_broker_name_2']} | Buyer's agents: {df_filtered.loc[df_filtered['$/SQUARE FEET'].idxmax()]['buy_agent_name_1']} with {df_filtered.loc[df_filtered['$/SQUARE FEET'].idxmax()]['buy_broker_name_1']} and {df_filtered.loc[df_filtered['$/SQUARE FEET'].idxmax()]['buy_agent_name_2']} with {df_filtered.loc[df_filtered['$/SQUARE FEET'].idxmax()]['buy_broker_name_2']}\")\n",
    "print(f\"{MIN_PSF}{BR}{df_filtered.loc[df_filtered['$/SQUARE FEET'].idxmin()]['LOCATION']}, {df_filtered.loc[df_filtered['$/SQUARE FEET'].idxmin()]['FULL_ADDRESS']} | Price ${df_filtered.loc[df_filtered['$/SQUARE FEET'].idxmin()]['PRICE']:,.0f} | ${df_filtered.loc[df_filtered['$/SQUARE FEET'].idxmin()]['$/SQUARE FEET']:,.0f} psf | Year built: {df_filtered.loc[df_filtered['$/SQUARE FEET'].idxmin()]['YEAR BUILT']:.0f} | Listing agents: {df_filtered.loc[df_filtered['$/SQUARE FEET'].idxmin()]['list_agent_name_1']} with {df_filtered.loc[df_filtered['$/SQUARE FEET'].idxmin()]['list_broker_name_1']} and {df_filtered.loc[df_filtered['$/SQUARE FEET'].idxmin()]['list_agent_name_2']} with {df_filtered.loc[df_filtered['$/SQUARE FEET'].idxmin()]['list_broker_name_2']} | Buyer's agents: {df_filtered.loc[df_filtered['$/SQUARE FEET'].idxmin()]['buy_agent_name_1']} with {df_filtered.loc[df_filtered['$/SQUARE FEET'].idxmin()]['buy_broker_name_1']} and {df_filtered.loc[df_filtered['$/SQUARE FEET'].idxmin()]['buy_agent_name_2']} with {df_filtered.loc[df_filtered['$/SQUARE FEET'].idxmin()]['buy_broker_name_2']}\")\n",
    "\n",
    "print(f\"{Newest}{BR}{df_filtered.loc[df_filtered['YEAR BUILT'].idxmax()]['LOCATION']}, {df_filtered.loc[df_filtered['YEAR BUILT'].idxmax()]['FULL_ADDRESS']} | Price ${df_filtered.loc[df_filtered['YEAR BUILT'].idxmax()]['PRICE']:,.0f} | ${df_filtered.loc[df_filtered['YEAR BUILT'].idxmax()]['$/SQUARE FEET']:,.0f} psf | Year built: {df_filtered.loc[df_filtered['YEAR BUILT'].idxmax()]['YEAR BUILT']:.0f} | Listing agents: {df_filtered.loc[df_filtered['YEAR BUILT'].idxmax()]['list_agent_name_1']} with {df_filtered.loc[df_filtered['YEAR BUILT'].idxmax()]['list_broker_name_1']} and {df_filtered.loc[df_filtered['YEAR BUILT'].idxmax()]['list_agent_name_2']} with {df_filtered.loc[df_filtered['YEAR BUILT'].idxmax()]['list_broker_name_2']} | Buyer's agents: {df_filtered.loc[df_filtered['YEAR BUILT'].idxmax()]['buy_agent_name_1']} with {df_filtered.loc[df_filtered['YEAR BUILT'].idxmax()]['buy_broker_name_1']} and {df_filtered.loc[df_filtered['YEAR BUILT'].idxmax()]['buy_agent_name_2']} with {df_filtered.loc[df_filtered['YEAR BUILT'].idxmax()]['buy_broker_name_2']}\")\n",
    "print(f\"{Oldest}{BR}{df_filtered.loc[df_filtered['YEAR BUILT'].idxmin()]['LOCATION']}, {df_filtered.loc[df_filtered['YEAR BUILT'].idxmin()]['FULL_ADDRESS']} | Price ${df_filtered.loc[df_filtered['YEAR BUILT'].idxmin()]['PRICE']:,.0f} | ${df_filtered.loc[df_filtered['YEAR BUILT'].idxmin()]['$/SQUARE FEET']:,.0f} psf | Year built: {df_filtered.loc[df_filtered['YEAR BUILT'].idxmin()]['YEAR BUILT']:.0f} | Listing agents: {df_filtered.loc[df_filtered['YEAR BUILT'].idxmin()]['list_agent_name_1']} with {df_filtered.loc[df_filtered['YEAR BUILT'].idxmin()]['list_broker_name_1']} and {df_filtered.loc[df_filtered['YEAR BUILT'].idxmin()]['list_agent_name_2']} with {df_filtered.loc[df_filtered['YEAR BUILT'].idxmin()]['list_broker_name_2']} | Buyer's agents: {df_filtered.loc[df_filtered['YEAR BUILT'].idxmin()]['buy_agent_name_1']} with {df_filtered.loc[df_filtered['YEAR BUILT'].idxmin()]['buy_broker_name_1']} and {df_filtered.loc[df_filtered['YEAR BUILT'].idxmin()]['buy_agent_name_2']} with {df_filtered.loc[df_filtered['YEAR BUILT'].idxmin()]['buy_broker_name_2']}\")"
   ]
  },
  {
   "cell_type": "markdown",
   "id": "1237f8b2",
   "metadata": {},
   "source": [
    "# Print links for notable sales\n",
    "\n",
    "## Top sale"
   ]
  },
  {
   "cell_type": "code",
   "execution_count": 65,
   "id": "4c776293",
   "metadata": {},
   "outputs": [
    {
     "name": "stdout",
     "output_type": "stream",
     "text": [
      "https://www.redfin.com/FL/Boca-Raton/1000-S-Ocean-Blvd-33432/unit-505/home/42663635\n"
     ]
    }
   ],
   "source": [
    "print(df_filtered.loc[df_filtered['PRICE'].idxmax()]['URL'])"
   ]
  },
  {
   "cell_type": "markdown",
   "id": "b1f63a6a",
   "metadata": {},
   "source": [
    "## Cheapest sale"
   ]
  },
  {
   "cell_type": "code",
   "execution_count": 66,
   "id": "967008ef",
   "metadata": {},
   "outputs": [
    {
     "name": "stdout",
     "output_type": "stream",
     "text": [
      "https://www.redfin.com/FL/Boynton-Beach/25-Stratford-Dr-E-33436/unit-C/home/42331480\n"
     ]
    }
   ],
   "source": [
    "print(df_filtered.loc[df_filtered['PRICE'].idxmin()]['URL'])"
   ]
  },
  {
   "cell_type": "markdown",
   "id": "0f56cc2b",
   "metadata": {},
   "source": [
    "## Highest PSF"
   ]
  },
  {
   "cell_type": "code",
   "execution_count": 67,
   "id": "001083a2",
   "metadata": {},
   "outputs": [
    {
     "name": "stdout",
     "output_type": "stream",
     "text": [
      "https://www.redfin.com/FL/Delray-Beach/1625-S-Ocean-Blvd-33483/unit-3/home/190889358\n"
     ]
    }
   ],
   "source": [
    "print(df_filtered.loc[df_filtered['$/SQUARE FEET'].idxmax()]['URL'])"
   ]
  },
  {
   "cell_type": "markdown",
   "id": "e606b84a",
   "metadata": {},
   "source": [
    "## Lowest PSF"
   ]
  },
  {
   "cell_type": "code",
   "execution_count": 68,
   "id": "91b9b079",
   "metadata": {},
   "outputs": [
    {
     "name": "stdout",
     "output_type": "stream",
     "text": [
      "https://www.redfin.com/FL/Boynton-Beach/25-Stratford-Dr-E-33436/unit-C/home/42331480\n"
     ]
    }
   ],
   "source": [
    "print(df_filtered.loc[df_filtered['$/SQUARE FEET'].idxmin()]['URL'])"
   ]
  },
  {
   "cell_type": "markdown",
   "id": "d6e5493b",
   "metadata": {},
   "source": [
    "## Newest"
   ]
  },
  {
   "cell_type": "code",
   "execution_count": 69,
   "id": "c2cc4988",
   "metadata": {},
   "outputs": [
    {
     "name": "stdout",
     "output_type": "stream",
     "text": [
      "https://www.redfin.com/FL/Delray-Beach/1625-S-Ocean-Blvd-33483/unit-3/home/190889358\n"
     ]
    }
   ],
   "source": [
    "print(df_filtered.loc[df_filtered['YEAR BUILT'].idxmax()]['URL'])"
   ]
  },
  {
   "cell_type": "markdown",
   "id": "1d1ba957",
   "metadata": {},
   "source": [
    "## Oldest"
   ]
  },
  {
   "cell_type": "code",
   "execution_count": 74,
   "id": "51fa78ff",
   "metadata": {},
   "outputs": [
    {
     "name": "stdout",
     "output_type": "stream",
     "text": [
      "https://www.redfin.com/FL/Palm-Beach/44-Cocoanut-Row-33480/unit-418B/home/42433499\n"
     ]
    }
   ],
   "source": [
    "print(df_filtered.loc[df_filtered['YEAR BUILT'].idxmin()]['URL'])"
   ]
  },
  {
   "cell_type": "markdown",
   "id": "6b274da8",
   "metadata": {},
   "source": [
    "## Time on Market Calculator"
   ]
  },
  {
   "cell_type": "code",
   "execution_count": 73,
   "id": "0d14e001",
   "metadata": {},
   "outputs": [
    {
     "name": "stdout",
     "output_type": "stream",
     "text": [
      "139\n"
     ]
    }
   ],
   "source": [
    "from datetime import datetime, timedelta\n",
    "\n",
    "################ YEAR, MONTH, DAY #######################\n",
    "\n",
    "date1 = datetime(2024, 5, 8) ## List (Earlier) date\n",
    "date2 = datetime(2024, 9, 24) ## Close (Later) date\n",
    "\n",
    "delta = date2 - date1\n",
    "num_days = delta.days\n",
    "\n",
    "print(num_days)"
   ]
  }
 ],
 "metadata": {
  "kernelspec": {
   "display_name": "Python 3 (ipykernel)",
   "language": "python",
   "name": "python3"
  },
  "language_info": {
   "codemirror_mode": {
    "name": "ipython",
    "version": 3
   },
   "file_extension": ".py",
   "mimetype": "text/x-python",
   "name": "python",
   "nbconvert_exporter": "python",
   "pygments_lexer": "ipython3",
   "version": "3.9.12"
  }
 },
 "nbformat": 4,
 "nbformat_minor": 5
}
