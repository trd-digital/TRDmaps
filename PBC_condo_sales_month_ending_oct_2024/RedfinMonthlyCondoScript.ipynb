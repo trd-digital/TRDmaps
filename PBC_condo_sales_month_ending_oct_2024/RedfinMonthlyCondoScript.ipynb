{
 "cells": [
  {
   "cell_type": "markdown",
   "id": "282c57c3",
   "metadata": {},
   "source": [
    "## Imports"
   ]
  },
  {
   "cell_type": "code",
   "execution_count": 1,
   "id": "54c15242",
   "metadata": {},
   "outputs": [],
   "source": [
    "import pandas as pd\n",
    "import numpy as np\n",
    "import re\n",
    "import os\n",
    "import folium\n",
    "import geopandas as gpd\n",
    "import glob\n",
    "from datetime import datetime, timedelta\n",
    "from tqdm.notebook import tqdm\n",
    "import requests\n",
    "import time"
   ]
  },
  {
   "cell_type": "markdown",
   "id": "7c620cf8",
   "metadata": {},
   "source": [
    "## Data Read-in"
   ]
  },
  {
   "cell_type": "code",
   "execution_count": 2,
   "id": "788cfd9b",
   "metadata": {},
   "outputs": [
    {
     "name": "stdout",
     "output_type": "stream",
     "text": [
      "1936\n"
     ]
    }
   ],
   "source": [
    "csv_files = glob.glob('*.csv')\n",
    "\n",
    "df_list = []\n",
    "\n",
    "for csv_file in csv_files:\n",
    "    df = pd.read_csv(csv_file)\n",
    "    df_list.append(df)\n",
    "    \n",
    "df = pd.concat(df_list,ignore_index=True)\n",
    "\n",
    "print(len(df))"
   ]
  },
  {
   "cell_type": "code",
   "execution_count": 3,
   "id": "563417a4",
   "metadata": {},
   "outputs": [],
   "source": [
    "gdf = gpd.read_file('Palm_Beach_County_Boundary.geojson')"
   ]
  },
  {
   "cell_type": "markdown",
   "id": "5cdf738a",
   "metadata": {},
   "source": [
    "## Previous month's values\n",
    "\n",
    "Get values from here:\n",
    "\n",
    "https://docs.google.com/spreadsheets/d/1GWlqTIzCB29pDVDjd-iBVejVGGsLiAd0P6fq4LM83WI/edit?usp=sharing"
   ]
  },
  {
   "cell_type": "code",
   "execution_count": 4,
   "id": "7bbbad1d",
   "metadata": {},
   "outputs": [
    {
     "name": "stdout",
     "output_type": "stream",
     "text": [
      "Input County Name:\n",
      "Palm Beach County\n"
     ]
    }
   ],
   "source": [
    "print('Input County Name:')\n",
    "county_name = input()"
   ]
  },
  {
   "cell_type": "code",
   "execution_count": 5,
   "id": "1cd3e074",
   "metadata": {},
   "outputs": [
    {
     "name": "stdout",
     "output_type": "stream",
     "text": [
      "Input total condo units sold previous (not last) month:\n",
      "445\n"
     ]
    }
   ],
   "source": [
    "print('Input total condo units sold previous (not last) month:')\n",
    "total_condos_sold_2nd_month = input()"
   ]
  },
  {
   "cell_type": "code",
   "execution_count": 6,
   "id": "6fdbf280",
   "metadata": {},
   "outputs": [
    {
     "name": "stdout",
     "output_type": "stream",
     "text": [
      "Input total sales volume ($$$ million as 100_000_000) from previous (not last) month:\n",
      "221_000_000\n"
     ]
    }
   ],
   "source": [
    "print('Input total sales volume ($$$ million as 100_000_000) from previous (not last) month:')\n",
    "sales_volume_2nd_month = input()"
   ]
  },
  {
   "cell_type": "code",
   "execution_count": 7,
   "id": "081faeec",
   "metadata": {},
   "outputs": [
    {
     "name": "stdout",
     "output_type": "stream",
     "text": [
      "Input median sales price from previous (not last) month:\n",
      "250_000\n"
     ]
    }
   ],
   "source": [
    "print('Input median sales price from previous (not last) month:')\n",
    "median_sales_price_2nd_month = input()"
   ]
  },
  {
   "cell_type": "code",
   "execution_count": 8,
   "id": "cdac5fe9",
   "metadata": {},
   "outputs": [
    {
     "name": "stdout",
     "output_type": "stream",
     "text": [
      "Input median psf from previous (not last) month:\n",
      "228\n"
     ]
    }
   ],
   "source": [
    "print('Input median psf from previous (not last) month:')\n",
    "median_psf_2nd_month = input()"
   ]
  },
  {
   "cell_type": "markdown",
   "id": "b03ce742",
   "metadata": {},
   "source": [
    "## Data Clean"
   ]
  },
  {
   "cell_type": "code",
   "execution_count": 9,
   "id": "1f2a52a3",
   "metadata": {},
   "outputs": [],
   "source": [
    "df = df.rename(columns={'URL (SEE https://www.redfin.com/buy-a-home/comparative-market-analysis FOR INFO ON PRICING)':'URL'})"
   ]
  },
  {
   "cell_type": "code",
   "execution_count": 10,
   "id": "5f45bf08",
   "metadata": {},
   "outputs": [],
   "source": [
    "df = df.dropna(subset=['SOLD DATE'])"
   ]
  },
  {
   "cell_type": "code",
   "execution_count": 11,
   "id": "25d1852d",
   "metadata": {},
   "outputs": [
    {
     "name": "stdout",
     "output_type": "stream",
     "text": [
      "Report month: October ---- Month before report month: September\n"
     ]
    }
   ],
   "source": [
    "# Get the current date\n",
    "current_date = datetime.now()\n",
    "\n",
    "# Calculate the first day of the current month\n",
    "first_day_of_current_month = current_date.replace(day=1)\n",
    "\n",
    "# Get the last day of the previous month by subtracting one day from the first day of the current month\n",
    "last_day_of_previous_month = first_day_of_current_month - timedelta(days=1)\n",
    "\n",
    "# Get the month name of the previous month\n",
    "previous_month_name = last_day_of_previous_month.strftime(\"%B\")\n",
    "\n",
    "# ---- Get the name of the month, as a string, from two months ago.\n",
    "# ---- Meaning, if the current month is January, return November.\n",
    "\n",
    "# Get the first day of the previous month by subtracting one day from the first day of the current month\n",
    "first_day_of_previous_month = first_day_of_current_month - timedelta(days=1)\n",
    "\n",
    "# Get the first day of the month before the last by subtracting one day from the first day of the previous month\n",
    "first_day_of_month_before_last = first_day_of_previous_month.replace(day=1) - timedelta(days=1)\n",
    "\n",
    "# Get the month name of the month before the last\n",
    "month_before_last_name = first_day_of_month_before_last.strftime(\"%B\")\n",
    "\n",
    "print(f'Report month: {previous_month_name} ---- Month before report month: {month_before_last_name}')"
   ]
  },
  {
   "cell_type": "code",
   "execution_count": 12,
   "id": "9b9d20ba",
   "metadata": {},
   "outputs": [],
   "source": [
    "# Define list of desired months (excluding current month)\n",
    "desired_months = [previous_month_name]\n",
    "\n",
    "# Filter DataFrame to include only entries from desired months\n",
    "df_filtered = df[df['SOLD DATE'].str.split('-', expand=True)[0].isin(desired_months)]\n",
    "\n",
    "# Reset the index\n",
    "df_filtered = df_filtered.reset_index(drop=True)"
   ]
  },
  {
   "cell_type": "code",
   "execution_count": 13,
   "id": "ab2d002c",
   "metadata": {},
   "outputs": [
    {
     "name": "stdout",
     "output_type": "stream",
     "text": [
      "PRICE\n",
      "False    523\n",
      "Name: count, dtype: int64\n",
      "-------\n",
      "$/SQUARE FEET\n",
      "False    523\n",
      "Name: count, dtype: int64\n",
      "-------\n",
      "YEAR BUILT\n",
      "False    523\n",
      "Name: count, dtype: int64\n",
      "-------\n"
     ]
    }
   ],
   "source": [
    "# Data checks\n",
    "print(df_filtered['PRICE'].isna().value_counts())\n",
    "print('-------')\n",
    "print(df_filtered['$/SQUARE FEET'].isna().value_counts())\n",
    "print('-------')\n",
    "print(df_filtered['YEAR BUILT'].isna().value_counts())\n",
    "print('-------')"
   ]
  },
  {
   "cell_type": "code",
   "execution_count": 14,
   "id": "446eb268",
   "metadata": {},
   "outputs": [
    {
     "name": "stdout",
     "output_type": "stream",
     "text": [
      "https://www.redfin.com/FL/Riviera-Beach/3100-N-Ocean-Dr-33404/unit-1109-H/home/191892887\n"
     ]
    }
   ],
   "source": [
    "sorted_df = df_filtered.sort_values(by='YEAR BUILT', ascending=False)\n",
    "second_newest_building = sorted_df.iloc[2]\n",
    "print(second_newest_building['URL'])"
   ]
  },
  {
   "cell_type": "code",
   "execution_count": 15,
   "id": "61663e76",
   "metadata": {},
   "outputs": [
    {
     "data": {
      "text/html": [
       "<div>\n",
       "<style scoped>\n",
       "    .dataframe tbody tr th:only-of-type {\n",
       "        vertical-align: middle;\n",
       "    }\n",
       "\n",
       "    .dataframe tbody tr th {\n",
       "        vertical-align: top;\n",
       "    }\n",
       "\n",
       "    .dataframe thead th {\n",
       "        text-align: right;\n",
       "    }\n",
       "</style>\n",
       "<table border=\"1\" class=\"dataframe\">\n",
       "  <thead>\n",
       "    <tr style=\"text-align: right;\">\n",
       "      <th></th>\n",
       "      <th>SALE TYPE</th>\n",
       "      <th>SOLD DATE</th>\n",
       "      <th>PROPERTY TYPE</th>\n",
       "      <th>ADDRESS</th>\n",
       "      <th>CITY</th>\n",
       "      <th>STATE OR PROVINCE</th>\n",
       "      <th>ZIP OR POSTAL CODE</th>\n",
       "      <th>PRICE</th>\n",
       "      <th>BEDS</th>\n",
       "      <th>BATHS</th>\n",
       "      <th>...</th>\n",
       "      <th>STATUS</th>\n",
       "      <th>NEXT OPEN HOUSE START TIME</th>\n",
       "      <th>NEXT OPEN HOUSE END TIME</th>\n",
       "      <th>URL</th>\n",
       "      <th>SOURCE</th>\n",
       "      <th>MLS#</th>\n",
       "      <th>FAVORITE</th>\n",
       "      <th>INTERESTED</th>\n",
       "      <th>LATITUDE</th>\n",
       "      <th>LONGITUDE</th>\n",
       "    </tr>\n",
       "  </thead>\n",
       "  <tbody>\n",
       "  </tbody>\n",
       "</table>\n",
       "<p>0 rows × 27 columns</p>\n",
       "</div>"
      ],
      "text/plain": [
       "Empty DataFrame\n",
       "Columns: [SALE TYPE, SOLD DATE, PROPERTY TYPE, ADDRESS, CITY, STATE OR PROVINCE, ZIP OR POSTAL CODE, PRICE, BEDS, BATHS, LOCATION, SQUARE FEET, LOT SIZE, YEAR BUILT, DAYS ON MARKET, $/SQUARE FEET, HOA/MONTH, STATUS, NEXT OPEN HOUSE START TIME, NEXT OPEN HOUSE END TIME, URL, SOURCE, MLS#, FAVORITE, INTERESTED, LATITUDE, LONGITUDE]\n",
       "Index: []\n",
       "\n",
       "[0 rows x 27 columns]"
      ]
     },
     "execution_count": 15,
     "metadata": {},
     "output_type": "execute_result"
    }
   ],
   "source": [
    "df_filtered.loc[df_filtered['PRICE'] == '0']"
   ]
  },
  {
   "cell_type": "code",
   "execution_count": 16,
   "id": "b0376d17",
   "metadata": {},
   "outputs": [],
   "source": [
    "df_filtered['PRICE'] = pd.to_numeric(df_filtered['PRICE'])\n",
    "df_filtered['$/SQUARE FEET'] = pd.to_numeric(df_filtered['$/SQUARE FEET'])\n",
    "df_filtered['YEAR BUILT'] = pd.to_numeric(df_filtered['YEAR BUILT'])\n",
    "df_filtered['LATITUDE'] = pd.to_numeric(df_filtered['LATITUDE'])\n",
    "df_filtered['LONGITUDE'] = pd.to_numeric(df_filtered['LONGITUDE'])"
   ]
  },
  {
   "cell_type": "code",
   "execution_count": 17,
   "id": "22be7f44",
   "metadata": {},
   "outputs": [],
   "source": [
    "df_filtered = df_filtered.drop_duplicates().reset_index(drop=True)"
   ]
  },
  {
   "cell_type": "code",
   "execution_count": 27,
   "id": "a5e15306",
   "metadata": {},
   "outputs": [
    {
     "data": {
      "text/html": [
       "<div>\n",
       "<style scoped>\n",
       "    .dataframe tbody tr th:only-of-type {\n",
       "        vertical-align: middle;\n",
       "    }\n",
       "\n",
       "    .dataframe tbody tr th {\n",
       "        vertical-align: top;\n",
       "    }\n",
       "\n",
       "    .dataframe thead th {\n",
       "        text-align: right;\n",
       "    }\n",
       "</style>\n",
       "<table border=\"1\" class=\"dataframe\">\n",
       "  <thead>\n",
       "    <tr style=\"text-align: right;\">\n",
       "      <th></th>\n",
       "      <th>SALE TYPE</th>\n",
       "      <th>SOLD DATE</th>\n",
       "      <th>PROPERTY TYPE</th>\n",
       "      <th>ADDRESS</th>\n",
       "      <th>CITY</th>\n",
       "      <th>STATE OR PROVINCE</th>\n",
       "      <th>ZIP OR POSTAL CODE</th>\n",
       "      <th>PRICE</th>\n",
       "      <th>BEDS</th>\n",
       "      <th>BATHS</th>\n",
       "      <th>...</th>\n",
       "      <th>STATUS</th>\n",
       "      <th>NEXT OPEN HOUSE START TIME</th>\n",
       "      <th>NEXT OPEN HOUSE END TIME</th>\n",
       "      <th>URL</th>\n",
       "      <th>SOURCE</th>\n",
       "      <th>MLS#</th>\n",
       "      <th>FAVORITE</th>\n",
       "      <th>INTERESTED</th>\n",
       "      <th>LATITUDE</th>\n",
       "      <th>LONGITUDE</th>\n",
       "    </tr>\n",
       "  </thead>\n",
       "  <tbody>\n",
       "    <tr>\n",
       "      <th>239</th>\n",
       "      <td>PAST SALE</td>\n",
       "      <td>October-15-2024</td>\n",
       "      <td>Condo/Co-op</td>\n",
       "      <td>438 Saxony Unit J</td>\n",
       "      <td>Delray Beach</td>\n",
       "      <td>FL</td>\n",
       "      <td>33446.0</td>\n",
       "      <td>25000.0</td>\n",
       "      <td>1.0</td>\n",
       "      <td>1.5</td>\n",
       "      <td>...</td>\n",
       "      <td>Sold</td>\n",
       "      <td>NaN</td>\n",
       "      <td>NaN</td>\n",
       "      <td>https://www.redfin.com/FL/Delray-Beach/438-Sax...</td>\n",
       "      <td>MARMLS</td>\n",
       "      <td>A11655318</td>\n",
       "      <td>N</td>\n",
       "      <td>Y</td>\n",
       "      <td>26.440263</td>\n",
       "      <td>-80.150386</td>\n",
       "    </tr>\n",
       "    <tr>\n",
       "      <th>300</th>\n",
       "      <td>PAST SALE</td>\n",
       "      <td>October-29-2024</td>\n",
       "      <td>Condo/Co-op</td>\n",
       "      <td>40 Stratford Ln Unit D</td>\n",
       "      <td>Boynton Beach</td>\n",
       "      <td>FL</td>\n",
       "      <td>33436.0</td>\n",
       "      <td>45000.0</td>\n",
       "      <td>2.0</td>\n",
       "      <td>2.0</td>\n",
       "      <td>...</td>\n",
       "      <td>Sold</td>\n",
       "      <td>NaN</td>\n",
       "      <td>NaN</td>\n",
       "      <td>https://www.redfin.com/FL/Boynton-Beach/40-Str...</td>\n",
       "      <td>Beaches MLS</td>\n",
       "      <td>RX-10977034</td>\n",
       "      <td>N</td>\n",
       "      <td>Y</td>\n",
       "      <td>26.485550</td>\n",
       "      <td>-80.110044</td>\n",
       "    </tr>\n",
       "    <tr>\n",
       "      <th>301</th>\n",
       "      <td>PAST SALE</td>\n",
       "      <td>October-24-2024</td>\n",
       "      <td>Condo/Co-op</td>\n",
       "      <td>2855 S Garden Dr #107</td>\n",
       "      <td>Lake Worth</td>\n",
       "      <td>FL</td>\n",
       "      <td>33461.0</td>\n",
       "      <td>45000.0</td>\n",
       "      <td>1.0</td>\n",
       "      <td>1.0</td>\n",
       "      <td>...</td>\n",
       "      <td>Sold</td>\n",
       "      <td>NaN</td>\n",
       "      <td>NaN</td>\n",
       "      <td>https://www.redfin.com/FL/Lake-Worth/2855-Gard...</td>\n",
       "      <td>Beaches MLS</td>\n",
       "      <td>RX-10971597</td>\n",
       "      <td>N</td>\n",
       "      <td>Y</td>\n",
       "      <td>26.633633</td>\n",
       "      <td>-80.086047</td>\n",
       "    </tr>\n",
       "    <tr>\n",
       "      <th>276</th>\n",
       "      <td>PAST SALE</td>\n",
       "      <td>October-18-2024</td>\n",
       "      <td>Condo/Co-op</td>\n",
       "      <td>173 Flanders D #173</td>\n",
       "      <td>Delray Beach</td>\n",
       "      <td>FL</td>\n",
       "      <td>33484.0</td>\n",
       "      <td>50000.0</td>\n",
       "      <td>2.0</td>\n",
       "      <td>2.0</td>\n",
       "      <td>...</td>\n",
       "      <td>Sold</td>\n",
       "      <td>NaN</td>\n",
       "      <td>NaN</td>\n",
       "      <td>https://www.redfin.com/FL/Delray-Beach/173-Fla...</td>\n",
       "      <td>MARMLS</td>\n",
       "      <td>A11625916</td>\n",
       "      <td>N</td>\n",
       "      <td>Y</td>\n",
       "      <td>26.439640</td>\n",
       "      <td>-80.142967</td>\n",
       "    </tr>\n",
       "    <tr>\n",
       "      <th>302</th>\n",
       "      <td>PAST SALE</td>\n",
       "      <td>October-8-2024</td>\n",
       "      <td>Condo/Co-op</td>\n",
       "      <td>208 Suffolk E Unit 208 E</td>\n",
       "      <td>Boca Raton</td>\n",
       "      <td>FL</td>\n",
       "      <td>33434.0</td>\n",
       "      <td>52500.0</td>\n",
       "      <td>1.0</td>\n",
       "      <td>1.5</td>\n",
       "      <td>...</td>\n",
       "      <td>Sold</td>\n",
       "      <td>NaN</td>\n",
       "      <td>NaN</td>\n",
       "      <td>https://www.redfin.com/FL/Boca-Raton/208-Suffo...</td>\n",
       "      <td>Beaches MLS</td>\n",
       "      <td>RX-10964166</td>\n",
       "      <td>N</td>\n",
       "      <td>Y</td>\n",
       "      <td>26.393076</td>\n",
       "      <td>-80.184202</td>\n",
       "    </tr>\n",
       "    <tr>\n",
       "      <th>237</th>\n",
       "      <td>PAST SALE</td>\n",
       "      <td>October-31-2024</td>\n",
       "      <td>Condo/Co-op</td>\n",
       "      <td>704 Flanders O</td>\n",
       "      <td>Delray Beach</td>\n",
       "      <td>FL</td>\n",
       "      <td>33484.0</td>\n",
       "      <td>65000.0</td>\n",
       "      <td>2.0</td>\n",
       "      <td>2.0</td>\n",
       "      <td>...</td>\n",
       "      <td>Sold</td>\n",
       "      <td>NaN</td>\n",
       "      <td>NaN</td>\n",
       "      <td>https://www.redfin.com/FL/Delray-Beach/704-Fla...</td>\n",
       "      <td>Beaches MLS</td>\n",
       "      <td>RX-11033054</td>\n",
       "      <td>N</td>\n",
       "      <td>Y</td>\n",
       "      <td>26.440095</td>\n",
       "      <td>-80.143513</td>\n",
       "    </tr>\n",
       "    <tr>\n",
       "      <th>296</th>\n",
       "      <td>PAST SALE</td>\n",
       "      <td>October-15-2024</td>\n",
       "      <td>Condo/Co-op</td>\n",
       "      <td>242 Norwich K</td>\n",
       "      <td>West Palm Beach</td>\n",
       "      <td>FL</td>\n",
       "      <td>33417.0</td>\n",
       "      <td>65000.0</td>\n",
       "      <td>1.0</td>\n",
       "      <td>1.5</td>\n",
       "      <td>...</td>\n",
       "      <td>Sold</td>\n",
       "      <td>NaN</td>\n",
       "      <td>NaN</td>\n",
       "      <td>https://www.redfin.com/FL/West-Palm-Beach/242-...</td>\n",
       "      <td>Beaches MLS</td>\n",
       "      <td>RX-10984180</td>\n",
       "      <td>N</td>\n",
       "      <td>Y</td>\n",
       "      <td>26.719944</td>\n",
       "      <td>-80.120176</td>\n",
       "    </tr>\n",
       "    <tr>\n",
       "      <th>303</th>\n",
       "      <td>PAST SALE</td>\n",
       "      <td>October-3-2024</td>\n",
       "      <td>Condo/Co-op</td>\n",
       "      <td>687 Normandy O</td>\n",
       "      <td>Delray Beach</td>\n",
       "      <td>FL</td>\n",
       "      <td>33484.0</td>\n",
       "      <td>65000.0</td>\n",
       "      <td>1.0</td>\n",
       "      <td>1.5</td>\n",
       "      <td>...</td>\n",
       "      <td>Sold</td>\n",
       "      <td>NaN</td>\n",
       "      <td>NaN</td>\n",
       "      <td>https://www.redfin.com/FL/Delray-Beach/687-Nor...</td>\n",
       "      <td>Beaches MLS</td>\n",
       "      <td>RX-10957776</td>\n",
       "      <td>N</td>\n",
       "      <td>Y</td>\n",
       "      <td>26.446145</td>\n",
       "      <td>-80.142278</td>\n",
       "    </tr>\n",
       "    <tr>\n",
       "      <th>288</th>\n",
       "      <td>PAST SALE</td>\n",
       "      <td>October-1-2024</td>\n",
       "      <td>Condo/Co-op</td>\n",
       "      <td>189 Norwich H</td>\n",
       "      <td>West Palm Beach</td>\n",
       "      <td>FL</td>\n",
       "      <td>33417.0</td>\n",
       "      <td>67000.0</td>\n",
       "      <td>1.0</td>\n",
       "      <td>1.5</td>\n",
       "      <td>...</td>\n",
       "      <td>Sold</td>\n",
       "      <td>NaN</td>\n",
       "      <td>NaN</td>\n",
       "      <td>https://www.redfin.com/FL/West-Palm-Beach/189-...</td>\n",
       "      <td>Beaches MLS</td>\n",
       "      <td>RX-10984188</td>\n",
       "      <td>N</td>\n",
       "      <td>Y</td>\n",
       "      <td>26.720040</td>\n",
       "      <td>-80.120173</td>\n",
       "    </tr>\n",
       "    <tr>\n",
       "      <th>287</th>\n",
       "      <td>PAST SALE</td>\n",
       "      <td>October-31-2024</td>\n",
       "      <td>Condo/Co-op</td>\n",
       "      <td>346 Flanders Dr Unit H</td>\n",
       "      <td>Delray Beach</td>\n",
       "      <td>FL</td>\n",
       "      <td>33484.0</td>\n",
       "      <td>69000.0</td>\n",
       "      <td>1.0</td>\n",
       "      <td>1.5</td>\n",
       "      <td>...</td>\n",
       "      <td>Sold</td>\n",
       "      <td>NaN</td>\n",
       "      <td>NaN</td>\n",
       "      <td>https://www.redfin.com/FL/Delray-Beach/346-Fla...</td>\n",
       "      <td>MARMLS</td>\n",
       "      <td>A11595141</td>\n",
       "      <td>N</td>\n",
       "      <td>Y</td>\n",
       "      <td>26.441343</td>\n",
       "      <td>-80.138943</td>\n",
       "    </tr>\n",
       "    <tr>\n",
       "      <th>293</th>\n",
       "      <td>PAST SALE</td>\n",
       "      <td>October-7-2024</td>\n",
       "      <td>Condo/Co-op</td>\n",
       "      <td>309 Circle Dr S #104</td>\n",
       "      <td>Boynton Beach</td>\n",
       "      <td>FL</td>\n",
       "      <td>33435.0</td>\n",
       "      <td>71500.0</td>\n",
       "      <td>1.0</td>\n",
       "      <td>1.0</td>\n",
       "      <td>...</td>\n",
       "      <td>Sold</td>\n",
       "      <td>NaN</td>\n",
       "      <td>NaN</td>\n",
       "      <td>https://www.redfin.com/FL/Boynton-Beach/309-Ci...</td>\n",
       "      <td>Beaches MLS</td>\n",
       "      <td>RX-10984386</td>\n",
       "      <td>N</td>\n",
       "      <td>Y</td>\n",
       "      <td>26.544242</td>\n",
       "      <td>-80.061774</td>\n",
       "    </tr>\n",
       "    <tr>\n",
       "      <th>283</th>\n",
       "      <td>PAST SALE</td>\n",
       "      <td>October-10-2024</td>\n",
       "      <td>Condo/Co-op</td>\n",
       "      <td>519 Burgundy K</td>\n",
       "      <td>Delray Beach</td>\n",
       "      <td>FL</td>\n",
       "      <td>33484.0</td>\n",
       "      <td>72000.0</td>\n",
       "      <td>1.0</td>\n",
       "      <td>1.5</td>\n",
       "      <td>...</td>\n",
       "      <td>Sold</td>\n",
       "      <td>NaN</td>\n",
       "      <td>NaN</td>\n",
       "      <td>https://www.redfin.com/FL/Delray-Beach/519-Bur...</td>\n",
       "      <td>Beaches MLS</td>\n",
       "      <td>RX-10975864</td>\n",
       "      <td>N</td>\n",
       "      <td>Y</td>\n",
       "      <td>26.445271</td>\n",
       "      <td>-80.131475</td>\n",
       "    </tr>\n",
       "    <tr>\n",
       "      <th>240</th>\n",
       "      <td>PAST SALE</td>\n",
       "      <td>October-9-2024</td>\n",
       "      <td>Condo/Co-op</td>\n",
       "      <td>4700 W Lucerne Lakes Blvd W #504</td>\n",
       "      <td>NaN</td>\n",
       "      <td>FL</td>\n",
       "      <td>33467.0</td>\n",
       "      <td>72500.0</td>\n",
       "      <td>1.0</td>\n",
       "      <td>1.5</td>\n",
       "      <td>...</td>\n",
       "      <td>Sold</td>\n",
       "      <td>NaN</td>\n",
       "      <td>NaN</td>\n",
       "      <td>https://www.redfin.com/FL/Lake-Worth/4700-Luce...</td>\n",
       "      <td>Beaches MLS</td>\n",
       "      <td>F10456016</td>\n",
       "      <td>N</td>\n",
       "      <td>Y</td>\n",
       "      <td>26.607192</td>\n",
       "      <td>-80.163358</td>\n",
       "    </tr>\n",
       "    <tr>\n",
       "      <th>311</th>\n",
       "      <td>PAST SALE</td>\n",
       "      <td>October-10-2024</td>\n",
       "      <td>Condo/Co-op</td>\n",
       "      <td>847 Flanders R</td>\n",
       "      <td>Delray Beach</td>\n",
       "      <td>FL</td>\n",
       "      <td>33484.0</td>\n",
       "      <td>72500.0</td>\n",
       "      <td>1.0</td>\n",
       "      <td>1.5</td>\n",
       "      <td>...</td>\n",
       "      <td>Sold</td>\n",
       "      <td>NaN</td>\n",
       "      <td>NaN</td>\n",
       "      <td>https://www.redfin.com/FL/Delray-Beach/847-Fla...</td>\n",
       "      <td>Beaches MLS</td>\n",
       "      <td>RX-10932395</td>\n",
       "      <td>N</td>\n",
       "      <td>Y</td>\n",
       "      <td>26.440525</td>\n",
       "      <td>-80.137890</td>\n",
       "    </tr>\n",
       "    <tr>\n",
       "      <th>284</th>\n",
       "      <td>PAST SALE</td>\n",
       "      <td>October-28-2024</td>\n",
       "      <td>Condo/Co-op</td>\n",
       "      <td>2616 N Garden Dr #202</td>\n",
       "      <td>Lake Worth</td>\n",
       "      <td>FL</td>\n",
       "      <td>33461.0</td>\n",
       "      <td>74900.0</td>\n",
       "      <td>2.0</td>\n",
       "      <td>1.0</td>\n",
       "      <td>...</td>\n",
       "      <td>Sold</td>\n",
       "      <td>NaN</td>\n",
       "      <td>NaN</td>\n",
       "      <td>https://www.redfin.com/FL/Lake-Worth/2616-Gard...</td>\n",
       "      <td>Beaches MLS</td>\n",
       "      <td>RX-10998107</td>\n",
       "      <td>N</td>\n",
       "      <td>Y</td>\n",
       "      <td>26.634259</td>\n",
       "      <td>-80.082171</td>\n",
       "    </tr>\n",
       "    <tr>\n",
       "      <th>252</th>\n",
       "      <td>PAST SALE</td>\n",
       "      <td>October-25-2024</td>\n",
       "      <td>Condo/Co-op</td>\n",
       "      <td>436 Fanshaw K</td>\n",
       "      <td>Boca Raton</td>\n",
       "      <td>FL</td>\n",
       "      <td>33434.0</td>\n",
       "      <td>75000.0</td>\n",
       "      <td>1.0</td>\n",
       "      <td>1.5</td>\n",
       "      <td>...</td>\n",
       "      <td>Sold</td>\n",
       "      <td>NaN</td>\n",
       "      <td>NaN</td>\n",
       "      <td>https://www.redfin.com/FL/Boca-Raton/436-Fansh...</td>\n",
       "      <td>Beaches MLS</td>\n",
       "      <td>RX-11021895</td>\n",
       "      <td>N</td>\n",
       "      <td>Y</td>\n",
       "      <td>26.384599</td>\n",
       "      <td>-80.174740</td>\n",
       "    </tr>\n",
       "    <tr>\n",
       "      <th>256</th>\n",
       "      <td>PAST SALE</td>\n",
       "      <td>October-16-2024</td>\n",
       "      <td>Condo/Co-op</td>\n",
       "      <td>646 Monaco N</td>\n",
       "      <td>Delray Beach</td>\n",
       "      <td>FL</td>\n",
       "      <td>33446.0</td>\n",
       "      <td>75000.0</td>\n",
       "      <td>1.0</td>\n",
       "      <td>1.5</td>\n",
       "      <td>...</td>\n",
       "      <td>Sold</td>\n",
       "      <td>NaN</td>\n",
       "      <td>NaN</td>\n",
       "      <td>https://www.redfin.com/FL/Delray-Beach/646-Mon...</td>\n",
       "      <td>Beaches MLS</td>\n",
       "      <td>RX-11015550</td>\n",
       "      <td>N</td>\n",
       "      <td>Y</td>\n",
       "      <td>26.441374</td>\n",
       "      <td>-80.149834</td>\n",
       "    </tr>\n",
       "    <tr>\n",
       "      <th>294</th>\n",
       "      <td>PAST SALE</td>\n",
       "      <td>October-25-2024</td>\n",
       "      <td>Condo/Co-op</td>\n",
       "      <td>90 Mansfield C</td>\n",
       "      <td>Boca Raton</td>\n",
       "      <td>FL</td>\n",
       "      <td>33434.0</td>\n",
       "      <td>75000.0</td>\n",
       "      <td>1.0</td>\n",
       "      <td>1.5</td>\n",
       "      <td>...</td>\n",
       "      <td>Sold</td>\n",
       "      <td>NaN</td>\n",
       "      <td>NaN</td>\n",
       "      <td>https://www.redfin.com/FL/Boca-Raton/90-Mansfi...</td>\n",
       "      <td>Beaches MLS</td>\n",
       "      <td>RX-10979447</td>\n",
       "      <td>N</td>\n",
       "      <td>Y</td>\n",
       "      <td>26.391221</td>\n",
       "      <td>-80.174736</td>\n",
       "    </tr>\n",
       "    <tr>\n",
       "      <th>309</th>\n",
       "      <td>PAST SALE</td>\n",
       "      <td>October-29-2024</td>\n",
       "      <td>Condo/Co-op</td>\n",
       "      <td>3240 Lake Osborne Dr #110</td>\n",
       "      <td>Lake Worth Beach</td>\n",
       "      <td>FL</td>\n",
       "      <td>33461.0</td>\n",
       "      <td>75000.0</td>\n",
       "      <td>1.0</td>\n",
       "      <td>1.0</td>\n",
       "      <td>...</td>\n",
       "      <td>Sold</td>\n",
       "      <td>NaN</td>\n",
       "      <td>NaN</td>\n",
       "      <td>https://www.redfin.com/FL/Lake-Worth-Beach/324...</td>\n",
       "      <td>Beaches MLS</td>\n",
       "      <td>RX-10956494</td>\n",
       "      <td>N</td>\n",
       "      <td>Y</td>\n",
       "      <td>26.603313</td>\n",
       "      <td>-80.074743</td>\n",
       "    </tr>\n",
       "    <tr>\n",
       "      <th>305</th>\n",
       "      <td>PAST SALE</td>\n",
       "      <td>October-4-2024</td>\n",
       "      <td>Condo/Co-op</td>\n",
       "      <td>316 Southampton A</td>\n",
       "      <td>West Palm Beach</td>\n",
       "      <td>FL</td>\n",
       "      <td>33417.0</td>\n",
       "      <td>75000.0</td>\n",
       "      <td>1.0</td>\n",
       "      <td>1.5</td>\n",
       "      <td>...</td>\n",
       "      <td>Sold</td>\n",
       "      <td>NaN</td>\n",
       "      <td>NaN</td>\n",
       "      <td>https://www.redfin.com/FL/West-Palm-Beach/316-...</td>\n",
       "      <td>Beaches MLS</td>\n",
       "      <td>RX-10966678</td>\n",
       "      <td>N</td>\n",
       "      <td>Y</td>\n",
       "      <td>26.707749</td>\n",
       "      <td>-80.123253</td>\n",
       "    </tr>\n",
       "  </tbody>\n",
       "</table>\n",
       "<p>20 rows × 27 columns</p>\n",
       "</div>"
      ],
      "text/plain": [
       "     SALE TYPE        SOLD DATE PROPERTY TYPE  \\\n",
       "239  PAST SALE  October-15-2024   Condo/Co-op   \n",
       "300  PAST SALE  October-29-2024   Condo/Co-op   \n",
       "301  PAST SALE  October-24-2024   Condo/Co-op   \n",
       "276  PAST SALE  October-18-2024   Condo/Co-op   \n",
       "302  PAST SALE   October-8-2024   Condo/Co-op   \n",
       "237  PAST SALE  October-31-2024   Condo/Co-op   \n",
       "296  PAST SALE  October-15-2024   Condo/Co-op   \n",
       "303  PAST SALE   October-3-2024   Condo/Co-op   \n",
       "288  PAST SALE   October-1-2024   Condo/Co-op   \n",
       "287  PAST SALE  October-31-2024   Condo/Co-op   \n",
       "293  PAST SALE   October-7-2024   Condo/Co-op   \n",
       "283  PAST SALE  October-10-2024   Condo/Co-op   \n",
       "240  PAST SALE   October-9-2024   Condo/Co-op   \n",
       "311  PAST SALE  October-10-2024   Condo/Co-op   \n",
       "284  PAST SALE  October-28-2024   Condo/Co-op   \n",
       "252  PAST SALE  October-25-2024   Condo/Co-op   \n",
       "256  PAST SALE  October-16-2024   Condo/Co-op   \n",
       "294  PAST SALE  October-25-2024   Condo/Co-op   \n",
       "309  PAST SALE  October-29-2024   Condo/Co-op   \n",
       "305  PAST SALE   October-4-2024   Condo/Co-op   \n",
       "\n",
       "                              ADDRESS              CITY STATE OR PROVINCE  \\\n",
       "239                 438 Saxony Unit J      Delray Beach                FL   \n",
       "300            40 Stratford Ln Unit D     Boynton Beach                FL   \n",
       "301             2855 S Garden Dr #107        Lake Worth                FL   \n",
       "276               173 Flanders D #173      Delray Beach                FL   \n",
       "302          208 Suffolk E Unit 208 E        Boca Raton                FL   \n",
       "237                    704 Flanders O      Delray Beach                FL   \n",
       "296                     242 Norwich K   West Palm Beach                FL   \n",
       "303                    687 Normandy O      Delray Beach                FL   \n",
       "288                     189 Norwich H   West Palm Beach                FL   \n",
       "287            346 Flanders Dr Unit H      Delray Beach                FL   \n",
       "293              309 Circle Dr S #104     Boynton Beach                FL   \n",
       "283                    519 Burgundy K      Delray Beach                FL   \n",
       "240  4700 W Lucerne Lakes Blvd W #504               NaN                FL   \n",
       "311                    847 Flanders R      Delray Beach                FL   \n",
       "284             2616 N Garden Dr #202        Lake Worth                FL   \n",
       "252                     436 Fanshaw K        Boca Raton                FL   \n",
       "256                      646 Monaco N      Delray Beach                FL   \n",
       "294                    90 Mansfield C        Boca Raton                FL   \n",
       "309         3240 Lake Osborne Dr #110  Lake Worth Beach                FL   \n",
       "305                 316 Southampton A   West Palm Beach                FL   \n",
       "\n",
       "     ZIP OR POSTAL CODE    PRICE  BEDS  BATHS  ... STATUS  \\\n",
       "239             33446.0  25000.0   1.0    1.5  ...   Sold   \n",
       "300             33436.0  45000.0   2.0    2.0  ...   Sold   \n",
       "301             33461.0  45000.0   1.0    1.0  ...   Sold   \n",
       "276             33484.0  50000.0   2.0    2.0  ...   Sold   \n",
       "302             33434.0  52500.0   1.0    1.5  ...   Sold   \n",
       "237             33484.0  65000.0   2.0    2.0  ...   Sold   \n",
       "296             33417.0  65000.0   1.0    1.5  ...   Sold   \n",
       "303             33484.0  65000.0   1.0    1.5  ...   Sold   \n",
       "288             33417.0  67000.0   1.0    1.5  ...   Sold   \n",
       "287             33484.0  69000.0   1.0    1.5  ...   Sold   \n",
       "293             33435.0  71500.0   1.0    1.0  ...   Sold   \n",
       "283             33484.0  72000.0   1.0    1.5  ...   Sold   \n",
       "240             33467.0  72500.0   1.0    1.5  ...   Sold   \n",
       "311             33484.0  72500.0   1.0    1.5  ...   Sold   \n",
       "284             33461.0  74900.0   2.0    1.0  ...   Sold   \n",
       "252             33434.0  75000.0   1.0    1.5  ...   Sold   \n",
       "256             33446.0  75000.0   1.0    1.5  ...   Sold   \n",
       "294             33434.0  75000.0   1.0    1.5  ...   Sold   \n",
       "309             33461.0  75000.0   1.0    1.0  ...   Sold   \n",
       "305             33417.0  75000.0   1.0    1.5  ...   Sold   \n",
       "\n",
       "     NEXT OPEN HOUSE START TIME  NEXT OPEN HOUSE END TIME  \\\n",
       "239                         NaN                       NaN   \n",
       "300                         NaN                       NaN   \n",
       "301                         NaN                       NaN   \n",
       "276                         NaN                       NaN   \n",
       "302                         NaN                       NaN   \n",
       "237                         NaN                       NaN   \n",
       "296                         NaN                       NaN   \n",
       "303                         NaN                       NaN   \n",
       "288                         NaN                       NaN   \n",
       "287                         NaN                       NaN   \n",
       "293                         NaN                       NaN   \n",
       "283                         NaN                       NaN   \n",
       "240                         NaN                       NaN   \n",
       "311                         NaN                       NaN   \n",
       "284                         NaN                       NaN   \n",
       "252                         NaN                       NaN   \n",
       "256                         NaN                       NaN   \n",
       "294                         NaN                       NaN   \n",
       "309                         NaN                       NaN   \n",
       "305                         NaN                       NaN   \n",
       "\n",
       "                                                   URL       SOURCE  \\\n",
       "239  https://www.redfin.com/FL/Delray-Beach/438-Sax...       MARMLS   \n",
       "300  https://www.redfin.com/FL/Boynton-Beach/40-Str...  Beaches MLS   \n",
       "301  https://www.redfin.com/FL/Lake-Worth/2855-Gard...  Beaches MLS   \n",
       "276  https://www.redfin.com/FL/Delray-Beach/173-Fla...       MARMLS   \n",
       "302  https://www.redfin.com/FL/Boca-Raton/208-Suffo...  Beaches MLS   \n",
       "237  https://www.redfin.com/FL/Delray-Beach/704-Fla...  Beaches MLS   \n",
       "296  https://www.redfin.com/FL/West-Palm-Beach/242-...  Beaches MLS   \n",
       "303  https://www.redfin.com/FL/Delray-Beach/687-Nor...  Beaches MLS   \n",
       "288  https://www.redfin.com/FL/West-Palm-Beach/189-...  Beaches MLS   \n",
       "287  https://www.redfin.com/FL/Delray-Beach/346-Fla...       MARMLS   \n",
       "293  https://www.redfin.com/FL/Boynton-Beach/309-Ci...  Beaches MLS   \n",
       "283  https://www.redfin.com/FL/Delray-Beach/519-Bur...  Beaches MLS   \n",
       "240  https://www.redfin.com/FL/Lake-Worth/4700-Luce...  Beaches MLS   \n",
       "311  https://www.redfin.com/FL/Delray-Beach/847-Fla...  Beaches MLS   \n",
       "284  https://www.redfin.com/FL/Lake-Worth/2616-Gard...  Beaches MLS   \n",
       "252  https://www.redfin.com/FL/Boca-Raton/436-Fansh...  Beaches MLS   \n",
       "256  https://www.redfin.com/FL/Delray-Beach/646-Mon...  Beaches MLS   \n",
       "294  https://www.redfin.com/FL/Boca-Raton/90-Mansfi...  Beaches MLS   \n",
       "309  https://www.redfin.com/FL/Lake-Worth-Beach/324...  Beaches MLS   \n",
       "305  https://www.redfin.com/FL/West-Palm-Beach/316-...  Beaches MLS   \n",
       "\n",
       "            MLS#  FAVORITE INTERESTED   LATITUDE  LONGITUDE  \n",
       "239    A11655318         N          Y  26.440263 -80.150386  \n",
       "300  RX-10977034         N          Y  26.485550 -80.110044  \n",
       "301  RX-10971597         N          Y  26.633633 -80.086047  \n",
       "276    A11625916         N          Y  26.439640 -80.142967  \n",
       "302  RX-10964166         N          Y  26.393076 -80.184202  \n",
       "237  RX-11033054         N          Y  26.440095 -80.143513  \n",
       "296  RX-10984180         N          Y  26.719944 -80.120176  \n",
       "303  RX-10957776         N          Y  26.446145 -80.142278  \n",
       "288  RX-10984188         N          Y  26.720040 -80.120173  \n",
       "287    A11595141         N          Y  26.441343 -80.138943  \n",
       "293  RX-10984386         N          Y  26.544242 -80.061774  \n",
       "283  RX-10975864         N          Y  26.445271 -80.131475  \n",
       "240    F10456016         N          Y  26.607192 -80.163358  \n",
       "311  RX-10932395         N          Y  26.440525 -80.137890  \n",
       "284  RX-10998107         N          Y  26.634259 -80.082171  \n",
       "252  RX-11021895         N          Y  26.384599 -80.174740  \n",
       "256  RX-11015550         N          Y  26.441374 -80.149834  \n",
       "294  RX-10979447         N          Y  26.391221 -80.174736  \n",
       "309  RX-10956494         N          Y  26.603313 -80.074743  \n",
       "305  RX-10966678         N          Y  26.707749 -80.123253  \n",
       "\n",
       "[20 rows x 27 columns]"
      ]
     },
     "execution_count": 27,
     "metadata": {},
     "output_type": "execute_result"
    }
   ],
   "source": [
    "df_filtered.sort_values(by='PRICE',ascending=True).head(20)"
   ]
  },
  {
   "cell_type": "code",
   "execution_count": 25,
   "id": "42717772",
   "metadata": {},
   "outputs": [],
   "source": [
    "# 277\n",
    "# 307\n",
    "# 290\n",
    "# df_filtered = df_filtered.drop(index=[277,307,290])"
   ]
  },
  {
   "cell_type": "code",
   "execution_count": 26,
   "id": "e6256bce",
   "metadata": {},
   "outputs": [
    {
     "name": "stdout",
     "output_type": "stream",
     "text": [
      "https://www.redfin.com/FL/Delray-Beach/438-Saxony-Way-33446/unit-J/home/192412693\n"
     ]
    }
   ],
   "source": [
    "print(df_filtered['URL'].iloc[239])"
   ]
  },
  {
   "cell_type": "code",
   "execution_count": 27,
   "id": "bdd112db",
   "metadata": {},
   "outputs": [],
   "source": [
    "# df_filtered = df_filtered.drop(index=34)"
   ]
  },
  {
   "cell_type": "code",
   "execution_count": 81,
   "id": "fe440217",
   "metadata": {},
   "outputs": [],
   "source": [
    "# # Correct the prices, if needed\n",
    "# df_filtered.at[519,'PRICE']=(310_000)\n",
    "\n",
    "# # Correct the psf, if needed\n",
    "# df_filtered.at[519,'$/SQUARE FEET']=(310_000/673)"
   ]
  },
  {
   "cell_type": "code",
   "execution_count": 22,
   "id": "e3877a57",
   "metadata": {},
   "outputs": [],
   "source": [
    "### If needed, drop the row with the lowest price\n",
    "# min_value_index = df_filtered['PRICE'].idxmin()\n",
    "# df_filtered = df_filtered.drop(min_value_index)"
   ]
  },
  {
   "cell_type": "code",
   "execution_count": 23,
   "id": "7e529e83",
   "metadata": {},
   "outputs": [],
   "source": [
    "# print(df_filtered['URL'].iloc[291])"
   ]
  },
  {
   "cell_type": "code",
   "execution_count": 28,
   "id": "91feb56f",
   "metadata": {},
   "outputs": [],
   "source": [
    "df_filtered.reset_index(inplace=True)"
   ]
  },
  {
   "cell_type": "code",
   "execution_count": 30,
   "id": "1831e6de",
   "metadata": {},
   "outputs": [],
   "source": [
    "df_filtered = df_filtered.drop(columns='index')"
   ]
  },
  {
   "cell_type": "code",
   "execution_count": 31,
   "id": "489213e9",
   "metadata": {},
   "outputs": [
    {
     "data": {
      "text/plain": [
       "Index(['SALE TYPE', 'SOLD DATE', 'PROPERTY TYPE', 'ADDRESS', 'CITY',\n",
       "       'STATE OR PROVINCE', 'ZIP OR POSTAL CODE', 'PRICE', 'BEDS', 'BATHS',\n",
       "       'LOCATION', 'SQUARE FEET', 'LOT SIZE', 'YEAR BUILT', 'DAYS ON MARKET',\n",
       "       '$/SQUARE FEET', 'HOA/MONTH', 'STATUS', 'NEXT OPEN HOUSE START TIME',\n",
       "       'NEXT OPEN HOUSE END TIME', 'URL', 'SOURCE', 'MLS#', 'FAVORITE',\n",
       "       'INTERESTED', 'LATITUDE', 'LONGITUDE'],\n",
       "      dtype='object')"
      ]
     },
     "execution_count": 31,
     "metadata": {},
     "output_type": "execute_result"
    }
   ],
   "source": [
    "df_filtered.columns"
   ]
  },
  {
   "cell_type": "code",
   "execution_count": 32,
   "id": "f971a938",
   "metadata": {},
   "outputs": [
    {
     "name": "stdout",
     "output_type": "stream",
     "text": [
      "https://www.redfin.com/FL/North-Palm-Beach/336-Golfview-Rd-33408/unit-401/home/42473889\n"
     ]
    }
   ],
   "source": [
    "print(df_filtered.iloc[44]['URL'])"
   ]
  },
  {
   "cell_type": "code",
   "execution_count": 33,
   "id": "42d775ef",
   "metadata": {},
   "outputs": [
    {
     "data": {
      "text/html": [
       "<div>\n",
       "<style scoped>\n",
       "    .dataframe tbody tr th:only-of-type {\n",
       "        vertical-align: middle;\n",
       "    }\n",
       "\n",
       "    .dataframe tbody tr th {\n",
       "        vertical-align: top;\n",
       "    }\n",
       "\n",
       "    .dataframe thead th {\n",
       "        text-align: right;\n",
       "    }\n",
       "</style>\n",
       "<table border=\"1\" class=\"dataframe\">\n",
       "  <thead>\n",
       "    <tr style=\"text-align: right;\">\n",
       "      <th></th>\n",
       "      <th>PRICE</th>\n",
       "      <th>ADDRESS</th>\n",
       "      <th>CITY</th>\n",
       "      <th>$/SQUARE FEET</th>\n",
       "    </tr>\n",
       "  </thead>\n",
       "  <tbody>\n",
       "    <tr>\n",
       "      <th>298</th>\n",
       "      <td>45000.0</td>\n",
       "      <td>40 Stratford Ln Unit D</td>\n",
       "      <td>Boynton Beach</td>\n",
       "      <td>32.0</td>\n",
       "    </tr>\n",
       "    <tr>\n",
       "      <th>239</th>\n",
       "      <td>25000.0</td>\n",
       "      <td>438 Saxony Unit J</td>\n",
       "      <td>Delray Beach</td>\n",
       "      <td>35.0</td>\n",
       "    </tr>\n",
       "    <tr>\n",
       "      <th>276</th>\n",
       "      <td>50000.0</td>\n",
       "      <td>173 Flanders D #173</td>\n",
       "      <td>Delray Beach</td>\n",
       "      <td>54.0</td>\n",
       "    </tr>\n",
       "    <tr>\n",
       "      <th>299</th>\n",
       "      <td>45000.0</td>\n",
       "      <td>2855 S Garden Dr #107</td>\n",
       "      <td>Lake Worth</td>\n",
       "      <td>60.0</td>\n",
       "    </tr>\n",
       "    <tr>\n",
       "      <th>300</th>\n",
       "      <td>52500.0</td>\n",
       "      <td>208 Suffolk E Unit 208 E</td>\n",
       "      <td>Boca Raton</td>\n",
       "      <td>71.0</td>\n",
       "    </tr>\n",
       "    <tr>\n",
       "      <th>237</th>\n",
       "      <td>65000.0</td>\n",
       "      <td>704 Flanders O</td>\n",
       "      <td>Delray Beach</td>\n",
       "      <td>72.0</td>\n",
       "    </tr>\n",
       "    <tr>\n",
       "      <th>240</th>\n",
       "      <td>72500.0</td>\n",
       "      <td>4700 W Lucerne Lakes Blvd W #504</td>\n",
       "      <td>NaN</td>\n",
       "      <td>81.0</td>\n",
       "    </tr>\n",
       "    <tr>\n",
       "      <th>283</th>\n",
       "      <td>74900.0</td>\n",
       "      <td>2616 N Garden Dr #202</td>\n",
       "      <td>Lake Worth</td>\n",
       "      <td>84.0</td>\n",
       "    </tr>\n",
       "    <tr>\n",
       "      <th>301</th>\n",
       "      <td>65000.0</td>\n",
       "      <td>687 Normandy O</td>\n",
       "      <td>Delray Beach</td>\n",
       "      <td>86.0</td>\n",
       "    </tr>\n",
       "    <tr>\n",
       "      <th>285</th>\n",
       "      <td>80000.0</td>\n",
       "      <td>318 Burgundy G Unit G</td>\n",
       "      <td>Delray Beach</td>\n",
       "      <td>89.0</td>\n",
       "    </tr>\n",
       "    <tr>\n",
       "      <th>296</th>\n",
       "      <td>86000.0</td>\n",
       "      <td>140 Lake Nancy Ln #413</td>\n",
       "      <td>West Palm Beach</td>\n",
       "      <td>89.0</td>\n",
       "    </tr>\n",
       "    <tr>\n",
       "      <th>213</th>\n",
       "      <td>195000.0</td>\n",
       "      <td>20 Eastgate Dr Unit C</td>\n",
       "      <td>Boynton Beach</td>\n",
       "      <td>93.0</td>\n",
       "    </tr>\n",
       "    <tr>\n",
       "      <th>397</th>\n",
       "      <td>225000.0</td>\n",
       "      <td>70 Eastgate Dr Unit C</td>\n",
       "      <td>Boynton Beach</td>\n",
       "      <td>94.0</td>\n",
       "    </tr>\n",
       "    <tr>\n",
       "      <th>308</th>\n",
       "      <td>72500.0</td>\n",
       "      <td>847 Flanders R</td>\n",
       "      <td>Delray Beach</td>\n",
       "      <td>95.0</td>\n",
       "    </tr>\n",
       "    <tr>\n",
       "      <th>294</th>\n",
       "      <td>65000.0</td>\n",
       "      <td>242 Norwich K</td>\n",
       "      <td>West Palm Beach</td>\n",
       "      <td>95.0</td>\n",
       "    </tr>\n",
       "    <tr>\n",
       "      <th>282</th>\n",
       "      <td>72000.0</td>\n",
       "      <td>519 Burgundy K</td>\n",
       "      <td>Delray Beach</td>\n",
       "      <td>95.0</td>\n",
       "    </tr>\n",
       "    <tr>\n",
       "      <th>286</th>\n",
       "      <td>69000.0</td>\n",
       "      <td>346 Flanders Dr Unit H</td>\n",
       "      <td>Delray Beach</td>\n",
       "      <td>96.0</td>\n",
       "    </tr>\n",
       "    <tr>\n",
       "      <th>293</th>\n",
       "      <td>85000.0</td>\n",
       "      <td>376 Saxony H</td>\n",
       "      <td>Delray Beach</td>\n",
       "      <td>97.0</td>\n",
       "    </tr>\n",
       "    <tr>\n",
       "      <th>279</th>\n",
       "      <td>85000.0</td>\n",
       "      <td>413 Flanders I</td>\n",
       "      <td>Delray Beach</td>\n",
       "      <td>97.0</td>\n",
       "    </tr>\n",
       "    <tr>\n",
       "      <th>254</th>\n",
       "      <td>85000.0</td>\n",
       "      <td>277 Flanders F</td>\n",
       "      <td>Delray Beach</td>\n",
       "      <td>97.0</td>\n",
       "    </tr>\n",
       "  </tbody>\n",
       "</table>\n",
       "</div>"
      ],
      "text/plain": [
       "        PRICE                           ADDRESS             CITY  \\\n",
       "298   45000.0            40 Stratford Ln Unit D    Boynton Beach   \n",
       "239   25000.0                 438 Saxony Unit J     Delray Beach   \n",
       "276   50000.0               173 Flanders D #173     Delray Beach   \n",
       "299   45000.0             2855 S Garden Dr #107       Lake Worth   \n",
       "300   52500.0          208 Suffolk E Unit 208 E       Boca Raton   \n",
       "237   65000.0                    704 Flanders O     Delray Beach   \n",
       "240   72500.0  4700 W Lucerne Lakes Blvd W #504              NaN   \n",
       "283   74900.0             2616 N Garden Dr #202       Lake Worth   \n",
       "301   65000.0                    687 Normandy O     Delray Beach   \n",
       "285   80000.0             318 Burgundy G Unit G     Delray Beach   \n",
       "296   86000.0            140 Lake Nancy Ln #413  West Palm Beach   \n",
       "213  195000.0             20 Eastgate Dr Unit C    Boynton Beach   \n",
       "397  225000.0             70 Eastgate Dr Unit C    Boynton Beach   \n",
       "308   72500.0                    847 Flanders R     Delray Beach   \n",
       "294   65000.0                     242 Norwich K  West Palm Beach   \n",
       "282   72000.0                    519 Burgundy K     Delray Beach   \n",
       "286   69000.0            346 Flanders Dr Unit H     Delray Beach   \n",
       "293   85000.0                      376 Saxony H     Delray Beach   \n",
       "279   85000.0                    413 Flanders I     Delray Beach   \n",
       "254   85000.0                    277 Flanders F     Delray Beach   \n",
       "\n",
       "     $/SQUARE FEET  \n",
       "298           32.0  \n",
       "239           35.0  \n",
       "276           54.0  \n",
       "299           60.0  \n",
       "300           71.0  \n",
       "237           72.0  \n",
       "240           81.0  \n",
       "283           84.0  \n",
       "301           86.0  \n",
       "285           89.0  \n",
       "296           89.0  \n",
       "213           93.0  \n",
       "397           94.0  \n",
       "308           95.0  \n",
       "294           95.0  \n",
       "282           95.0  \n",
       "286           96.0  \n",
       "293           97.0  \n",
       "279           97.0  \n",
       "254           97.0  "
      ]
     },
     "execution_count": 33,
     "metadata": {},
     "output_type": "execute_result"
    }
   ],
   "source": [
    "# Find problem psf by searching for low values\n",
    "df_filtered.sort_values(by='$/SQUARE FEET',ascending=True).head(20)[['PRICE','ADDRESS','CITY','$/SQUARE FEET']]"
   ]
  },
  {
   "cell_type": "code",
   "execution_count": 25,
   "id": "6895cf71",
   "metadata": {},
   "outputs": [],
   "source": [
    "# # Drop sales that aren't condos but labeled as such\n",
    "# df_filtered = df_filtered.drop(1320)"
   ]
  },
  {
   "cell_type": "markdown",
   "id": "103ad9df",
   "metadata": {},
   "source": [
    "## Make Maps"
   ]
  },
  {
   "cell_type": "code",
   "execution_count": 34,
   "id": "42ad9d63",
   "metadata": {},
   "outputs": [],
   "source": [
    "### Create a price column formatted as currency ###\n",
    "df_filtered['PRICE_AS_CURRENCY'] = df_filtered['PRICE'].apply(lambda x: \"${:,.0f}\".format(x))\n",
    "### Set formatting for Beds, Baths ###\n",
    "df_filtered['YEAR BUILT DISPLAY'] = df_filtered['YEAR BUILT'].apply(lambda x: '{:.0f}'.format(x))\n",
    "df_filtered['PRICE_SQUARE_FEET_AS_CURRENCY'] = df_filtered['$/SQUARE FEET'].apply(lambda x: '${:,.0f}'.format(x))"
   ]
  },
  {
   "cell_type": "code",
   "execution_count": 35,
   "id": "f42ba6b5",
   "metadata": {},
   "outputs": [],
   "source": [
    "df_filtered = df_filtered.sort_values(by=['PRICE'], ascending=False)\n",
    "### Insert different colors for top 10 sales vs. the rest ###\n",
    "df_filtered['COLOR'] = ''\n",
    "### Create RANK column ###\n",
    "df_filtered['RANK'] = 0\n",
    "### Insert RANK values ###\n",
    "df_filtered['RANK'] = range(1, len(df_filtered) + 1)\n",
    "# use numpy to assign values to the 'COLOR' column\n",
    "df_filtered['COLOR'] = np.where(df_filtered['RANK'] <= 10, 'orange', 'blue')"
   ]
  },
  {
   "cell_type": "markdown",
   "id": "99380454",
   "metadata": {},
   "source": [
    "## HTML Popup Formatter"
   ]
  },
  {
   "cell_type": "code",
   "execution_count": 36,
   "id": "6ffa151c",
   "metadata": {},
   "outputs": [],
   "source": [
    "### Define list of columns to drop from DF ###\n",
    "columns_drop = ['SALE TYPE','PROPERTY TYPE','STATE OR PROVINCE','ZIP OR POSTAL CODE','HOA/MONTH','STATUS','NEXT OPEN HOUSE START TIME','NEXT OPEN HOUSE END TIME','SOURCE','MLS#','FAVORITE','INTERESTED','SQUARE FEET','LOT SIZE']"
   ]
  },
  {
   "cell_type": "code",
   "execution_count": 37,
   "id": "b214f9e8",
   "metadata": {},
   "outputs": [],
   "source": [
    "### Drop the columns ###\n",
    "df_filtered = df_filtered.drop(columns=columns_drop)"
   ]
  },
  {
   "cell_type": "code",
   "execution_count": 38,
   "id": "d12c2830",
   "metadata": {},
   "outputs": [],
   "source": [
    "def popup_html(row):\n",
    "    Price = row['PRICE_AS_CURRENCY']\n",
    "    Address = row['ADDRESS']\n",
    "    City = row['CITY']\n",
    "    sold_date = row['SOLD DATE']\n",
    "    beds = row['BEDS']\n",
    "    baths = row['BATHS']\n",
    "    psf = row['PRICE_SQUARE_FEET_AS_CURRENCY']\n",
    "    year_built = row['YEAR BUILT DISPLAY']\n",
    "    rank = row['RANK']\n",
    "    \n",
    "    html = '''<!DOCTYPE html>\n",
    "    <html>\n",
    "    <strong>Price: </strong>{}'''.format(Price) + '''<br>\n",
    "    <strong>Address: </strong>{}'''.format(Address) + '''<br>\n",
    "    <strong>City: </strong>{}'''.format(City) + '''<br>\n",
    "    <strong>Sold: </strong>{}'''.format(sold_date) + '''<br>\n",
    "    <strong>Beds: </strong>{}'''.format(beds) + '''<br>\n",
    "    <strong>Baths: </strong>{}'''.format(baths) + '''<br>\n",
    "    <strong>Price per sf: </strong>{}'''.format(psf) + '''<br>\n",
    "    <strong>Year Built: </strong>{}'''.format(year_built) + '''<br>\n",
    "    <strong>Price Rank: </strong>{}'''.format(rank) + '''\n",
    "    </html>\n",
    "    '''\n",
    "    return html"
   ]
  },
  {
   "cell_type": "code",
   "execution_count": 39,
   "id": "b7fe13d2",
   "metadata": {},
   "outputs": [
    {
     "data": {
      "text/plain": [
       "<folium.map.LayerControl at 0x7f80c1188580>"
      ]
     },
     "execution_count": 39,
     "metadata": {},
     "output_type": "execute_result"
    }
   ],
   "source": [
    "### Create map container ###\n",
    "m = folium.Map(location=df_filtered[[\"LATITUDE\", \"LONGITUDE\"]].mean().to_list(),zoom_start=10,tiles=None)\n",
    "\n",
    "### Create title ###\n",
    "title_html = '''\n",
    "              <h3 align=\"center\" style=\"font-size:16px\"><b>{}</b></h3>\n",
    "             '''.format(f\"{previous_month_name} 2024 Condo Sales\")\n",
    "\n",
    "m.get_root().html.add_child(folium.Element(title_html))\n",
    "\n",
    "# Create two FeatureGroups for different color pins\n",
    "fg_blue = folium.FeatureGroup(name='All other sales')\n",
    "fg_orange = folium.FeatureGroup(name='Top 10 Sales')\n",
    "\n",
    "folium.GeoJson(gdf,tooltip='Palm Beach County',name='Palm Beach County').add_to(m)\n",
    "\n",
    "for index, row in df_filtered.iterrows():\n",
    "    # Add the markers to the appropriate FeatureGroup based on the color\n",
    "    if row['COLOR'] == 'blue':\n",
    "        marker = folium.Marker(\n",
    "            location=[row['LATITUDE'], row['LONGITUDE']],\n",
    "            radius=5,\n",
    "            fill=True,\n",
    "            icon=folium.Icon(color=row['COLOR']),\n",
    "            popup=folium.Popup(popup_html(row), max_width=400))\n",
    "        marker.add_to(fg_blue)\n",
    "    else:\n",
    "        marker = folium.Marker(\n",
    "            location=[row['LATITUDE'], row['LONGITUDE']],\n",
    "            radius=5,\n",
    "            fill=True,\n",
    "            icon=folium.Icon(color=row['COLOR']),\n",
    "            popup=folium.Popup(popup_html(row), max_width=400))\n",
    "        marker.add_to(fg_orange)\n",
    "\n",
    "# Add the FeatureGroups to the map\n",
    "fg_orange.add_to(m)\n",
    "fg_blue.add_to(m)\n",
    "\n",
    "folium.TileLayer('OpenStreetMap',control=False).add_to(m)\n",
    "\n",
    "# Add LayerControl to the map\n",
    "folium.map.LayerControl(collapsed=False).add_to(m)\n",
    "\n",
    "# Display map\n",
    "# m"
   ]
  },
  {
   "cell_type": "code",
   "execution_count": 40,
   "id": "a704af7f",
   "metadata": {},
   "outputs": [],
   "source": [
    "m.save('index.html')"
   ]
  },
  {
   "cell_type": "markdown",
   "id": "81b7dc98",
   "metadata": {},
   "source": [
    "## Summary Info"
   ]
  },
  {
   "cell_type": "code",
   "execution_count": 41,
   "id": "6910bd5b",
   "metadata": {},
   "outputs": [],
   "source": [
    "BR = '\\n'\n",
    "\n",
    "ME = '\\033[1m' + 'Most Expensive' + '\\033[0m'\n",
    "LE = '\\033[1m' + 'Least Expensive' + '\\033[0m'\n",
    "\n",
    "MAX_PSF = '\\033[1m' + 'Highest Price Per Square Foot' + '\\033[0m'\n",
    "MIN_PSF = '\\033[1m' + 'Lowest Price Per Square Foot' + '\\033[0m'\n",
    "\n",
    "Newest = '\\033[1m' + 'Newest' + '\\033[0m'\n",
    "Oldest = '\\033[1m' + 'Oldest' + '\\033[0m'"
   ]
  },
  {
   "cell_type": "code",
   "execution_count": 42,
   "id": "9d2c1b97",
   "metadata": {},
   "outputs": [
    {
     "data": {
      "text/plain": [
       "Index(['SOLD DATE', 'ADDRESS', 'CITY', 'PRICE', 'BEDS', 'BATHS', 'LOCATION',\n",
       "       'YEAR BUILT', 'DAYS ON MARKET', '$/SQUARE FEET', 'URL', 'LATITUDE',\n",
       "       'LONGITUDE', 'PRICE_AS_CURRENCY', 'YEAR BUILT DISPLAY',\n",
       "       'PRICE_SQUARE_FEET_AS_CURRENCY', 'COLOR', 'RANK'],\n",
       "      dtype='object')"
      ]
     },
     "execution_count": 42,
     "metadata": {},
     "output_type": "execute_result"
    }
   ],
   "source": [
    "df_filtered.columns"
   ]
  },
  {
   "cell_type": "code",
   "execution_count": 43,
   "id": "81280824",
   "metadata": {},
   "outputs": [],
   "source": [
    "df_filtered['FULL_ADDRESS'] = df_filtered['ADDRESS'] + ' ' + df_filtered['CITY']"
   ]
  },
  {
   "cell_type": "code",
   "execution_count": 44,
   "id": "4677d727",
   "metadata": {},
   "outputs": [
    {
     "name": "stdout",
     "output_type": "stream",
     "text": [
      "https://www.redfin.com/FL/West-Palm-Beach/6028-Forest-Hill-Blvd-33415/unit-205/home/42157187\n"
     ]
    }
   ],
   "source": [
    "print(df_filtered.loc[df_filtered['YEAR BUILT'].idxmin()]['URL'])"
   ]
  },
  {
   "cell_type": "markdown",
   "id": "707dd49b",
   "metadata": {},
   "source": [
    "## Map URL Snagger"
   ]
  },
  {
   "cell_type": "code",
   "execution_count": 45,
   "id": "81e05274",
   "metadata": {},
   "outputs": [
    {
     "name": "stdout",
     "output_type": "stream",
     "text": [
      "https://trd-digital.github.io/trd-news-interactive-maps/PBC_condo_sales_month_ending_oct_2024\n"
     ]
    }
   ],
   "source": [
    "base_name = 'https://trd-digital.github.io/trd-news-interactive-maps/'\n",
    "\n",
    "cwd = os.getcwd()\n",
    "\n",
    "cwd = cwd.split('/')\n",
    "\n",
    "final_name = base_name + cwd[-1]\n",
    "print(final_name)"
   ]
  },
  {
   "cell_type": "markdown",
   "id": "fe5031c3",
   "metadata": {},
   "source": [
    "## Get Summary Data"
   ]
  },
  {
   "cell_type": "code",
   "execution_count": 46,
   "id": "15cba208",
   "metadata": {},
   "outputs": [
    {
     "name": "stdout",
     "output_type": "stream",
     "text": [
      "SALES INFO\n",
      "Number of sales: 495\n",
      "--------\n",
      "Total sale price: $238,934,142\n",
      "--------\n",
      "Median sale price: $251,125\n",
      "--------\n",
      "Max sale price: $9,600,000\n",
      "--------\n",
      "Min sale price: $25,000\n",
      "------------------------------------------------\n",
      "PSF INFO\n",
      "Max price per square foot: $2,463\n",
      "--------\n",
      "Min price per square foot: $32\n",
      "--------\n",
      "Median price per square foot: $231\n",
      "------------------------------------------------\n",
      "CONDO AGES\n",
      "Newest building: 2024.0\n",
      "----------\n",
      "Oldest building: 1890.0\n",
      "----------\n",
      "Average building age: 1985.129292929293\n"
     ]
    }
   ],
   "source": [
    "print('SALES INFO')\n",
    "print(f'Number of sales: {len(df_filtered)}')\n",
    "print('--------')\n",
    "print(f'Total sale price: ${df_filtered[\"PRICE\"].sum():,.0f}')\n",
    "print('--------')\n",
    "print(f'Median sale price: ${df_filtered[\"PRICE\"].median():,.0f}')\n",
    "print('--------')\n",
    "print(f'Max sale price: ${df_filtered[\"PRICE\"].max():,.0f}')\n",
    "print('--------')\n",
    "print(f'Min sale price: ${df_filtered[\"PRICE\"].min():,.0f}')\n",
    "print('------------------------------------------------')\n",
    "print('PSF INFO')\n",
    "print(f'Max price per square foot: ${df_filtered[\"$/SQUARE FEET\"].max():,.0f}')\n",
    "print('--------')\n",
    "print(f'Min price per square foot: ${df_filtered[\"$/SQUARE FEET\"].min():,.0f}')\n",
    "print('--------')\n",
    "print(f'Median price per square foot: ${df_filtered[\"$/SQUARE FEET\"].median():,.0f}')\n",
    "print('------------------------------------------------')\n",
    "print('CONDO AGES')\n",
    "print(f'Newest building: {df_filtered[\"YEAR BUILT\"].max()}')\n",
    "print('----------')\n",
    "print(f'Oldest building: {df_filtered[\"YEAR BUILT\"].min()}')\n",
    "print('----------')\n",
    "print(f'Average building age: {df_filtered[\"YEAR BUILT\"].mean()}')"
   ]
  },
  {
   "cell_type": "markdown",
   "id": "d9546021",
   "metadata": {},
   "source": [
    "## Collect Agent Info"
   ]
  },
  {
   "cell_type": "code",
   "execution_count": 47,
   "id": "7f41147d",
   "metadata": {},
   "outputs": [],
   "source": [
    "def process_response(url):\n",
    "    try:\n",
    "        \n",
    "        base_url = \"https://redfin-com-data.p.rapidapi.com/properties/detail-by-url\"\n",
    "\n",
    "        querystring = {\"url\":url}\n",
    "\n",
    "        headers = {\n",
    "            \"x-rapidapi-key\": \"00191da588msh8450293d26e3515p1bbd40jsn56510b513b61\",\n",
    "            \"x-rapidapi-host\": \"redfin-com-data.p.rapidapi.com\"\n",
    "        }\n",
    "\n",
    "        response = requests.get(base_url, headers=headers, params=querystring)\n",
    "\n",
    "#         print(response.status_code)\n",
    "#         print(url)\n",
    "        time.sleep(0.2)\n",
    "\n",
    "        response.raise_for_status()\n",
    "        data = response.json()\n",
    "\n",
    "        # Initialize default values for listing and buyer agents data\n",
    "        list_agent_name_1 = None\n",
    "        list_broker_name_1 = None\n",
    "        list_agent_name_2 = None\n",
    "        list_broker_name_2 = None\n",
    "        \n",
    "        buy_agent_name_1 = None\n",
    "        buy_broker_name_1 = None\n",
    "        buy_agent_name_2 = None\n",
    "        buy_broker_name_2 = None\n",
    "        \n",
    "        # Extract listing agents data if it exists\n",
    "        listing_agents = data.get('data', {}).get('mainHouseInfoPanelInfo', {}).get('mainHouseInfo', {}).get('listingAgents', [])\n",
    "        if len(listing_agents) > 0:\n",
    "            list_agent_name_1 = listing_agents[0].get('agentInfo', {}).get('agentName')\n",
    "            list_broker_name_1 = listing_agents[0].get('brokerName')\n",
    "        if len(listing_agents) > 1:\n",
    "            list_agent_name_2 = listing_agents[1].get('agentInfo', {}).get('agentName')\n",
    "            list_broker_name_2 = listing_agents[1].get('brokerName')\n",
    "            \n",
    "        # Extract listing agents data if it exists\n",
    "        buying_agents = data.get('data', {}).get('mainHouseInfoPanelInfo', {}).get('mainHouseInfo', {}).get('buyingAgents', [])\n",
    "        if len(buying_agents) > 0:\n",
    "            buy_agent_name_1 = buying_agents[0].get('agentInfo', {}).get('agentName')\n",
    "            buy_broker_name_1 = buying_agents[0].get('brokerName')\n",
    "        if len(buying_agents) > 1:\n",
    "            buy_agent_name_2 = buying_agents[1].get('agentInfo', {}).get('agentName')\n",
    "            buy_broker_name_2 = buying_agents[1].get('brokerName')\n",
    "\n",
    "\n",
    "        return {\n",
    "            'url': url,\n",
    "            'list_agent_name_1': list_agent_name_1,\n",
    "            'list_broker_name_1': list_broker_name_1,\n",
    "            'list_agent_name_2': list_agent_name_2,\n",
    "            'list_broker_name_2': list_broker_name_2,\n",
    "            'buy_agent_name_1': buy_agent_name_1,\n",
    "            'buy_broker_name_1': buy_broker_name_1,\n",
    "            'buy_agent_name_2': buy_agent_name_2,\n",
    "            'buy_broker_name_2': buy_broker_name_2,\n",
    "        }\n",
    "    except requests.exceptions.RequestException as e:\n",
    "        print(f\"Error fetching data from {url}: {e}\")\n",
    "        return {\n",
    "            'url': url,\n",
    "            'list_agent_name_1': None,\n",
    "            'list_broker_name_1': None,\n",
    "            'list_agent_name_2': None,\n",
    "            'list_broker_name_2': None,\n",
    "            'buy_agent_name_1': None,\n",
    "            'buy_broker_name_1': None,\n",
    "            'buy_agent_name_2': None,\n",
    "            'buy_broker_name_2': None,\n",
    "        }"
   ]
  },
  {
   "cell_type": "code",
   "execution_count": 48,
   "id": "4e39edad",
   "metadata": {},
   "outputs": [],
   "source": [
    "df_filtered.reset_index(inplace=True,drop=True)"
   ]
  },
  {
   "cell_type": "code",
   "execution_count": 49,
   "id": "2489f42e",
   "metadata": {},
   "outputs": [],
   "source": [
    "max_price_index = df_filtered['PRICE'].idxmax()\n",
    "min_price_index = df_filtered['PRICE'].idxmin()\n",
    "\n",
    "max_price_psf_index = df_filtered['$/SQUARE FEET'].idxmax()\n",
    "min_price_psf_index = df_filtered['$/SQUARE FEET'].idxmin()\n",
    "\n",
    "max_year_built_index = df_filtered['YEAR BUILT'].idxmax()\n",
    "min_year_built_index = df_filtered['YEAR BUILT'].idxmin()"
   ]
  },
  {
   "cell_type": "code",
   "execution_count": 50,
   "id": "8db04528",
   "metadata": {},
   "outputs": [],
   "source": [
    "index_list = [max_price_index,min_price_index,\n",
    "             max_price_psf_index,min_price_psf_index,\n",
    "             max_year_built_index,min_year_built_index]"
   ]
  },
  {
   "cell_type": "code",
   "execution_count": 51,
   "id": "1b07a180",
   "metadata": {},
   "outputs": [],
   "source": [
    "response_list = []\n",
    "\n",
    "for index, row in df_filtered.iterrows():\n",
    "    if index in index_list:\n",
    "        response_list.append(process_response(row['URL']))\n",
    "        \n",
    "response_df = pd.DataFrame(response_list)\n",
    "\n",
    "merged_df = pd.merge(left=df_filtered,left_on='URL',right=response_df, right_on='url',how='outer')"
   ]
  },
  {
   "cell_type": "code",
   "execution_count": 52,
   "id": "949db1a1",
   "metadata": {},
   "outputs": [
    {
     "data": {
      "text/plain": [
       "array([nan, 'Jacqueline Feldman', 'Carlos Marquez', 'Richard Ralston',\n",
       "       'Julie Ann Giachetti', 'Samuel Fugina', 'Tania Cardenas'],\n",
       "      dtype=object)"
      ]
     },
     "execution_count": 52,
     "metadata": {},
     "output_type": "execute_result"
    }
   ],
   "source": [
    "merged_df['list_agent_name_1'].unique()"
   ]
  },
  {
   "cell_type": "code",
   "execution_count": 53,
   "id": "cf9e6efe",
   "metadata": {},
   "outputs": [
    {
     "name": "stdout",
     "output_type": "stream",
     "text": [
      "https://www.redfin.com/FL/Boca-Raton/100-Royal-Palm-Way-33432/unit-1080/home/42638899\n"
     ]
    }
   ],
   "source": [
    "print(merged_df['URL'].iloc[0])\n",
    "\n"
   ]
  },
  {
   "cell_type": "code",
   "execution_count": 54,
   "id": "51483ff8",
   "metadata": {},
   "outputs": [],
   "source": [
    "df_filtered = merged_df"
   ]
  },
  {
   "cell_type": "code",
   "execution_count": 55,
   "id": "1e38182c",
   "metadata": {},
   "outputs": [
    {
     "name": "stdout",
     "output_type": "stream",
     "text": [
      "\u001b[1mMost Expensive\u001b[0m\n",
      "Boca Beach Residences, 725 S Ocean Blvd #303 Boca Raton | Price $9,600,000 | $2,218 psf | Year built: 2023 | Listing agents: Jacqueline Feldman with One Sotheby's International Realty and None with None | Buyer's agents: Lisa Bailey Levy with EXP Realty LLC and None with None\n",
      "\u001b[1mLeast Expensive\u001b[0m\n",
      "KINGS POINT SAXONY CONDOS, 438 Saxony Unit J Delray Beach | Price $25,000 | $35 psf | Year built: 1974 | Listing agents: Samuel Fugina with Marlin Realty Inc and None with None | Buyer's agents: None with None and None with None\n",
      "\u001b[1mHighest Price Per Square Foot\u001b[0m\n",
      "Vizcaya Lakes Condo, 1690 Renaissance Commons Blvd #1314 Boynton Beach | Price $2,800,000 | $2,463 psf | Year built: 2007 | Listing agents: Carlos Marquez with Acme Realty and None with None | Buyer's agents: Stephanie Mordes with Aquantis Realty LLC and None with Aquantis Realty LLC\n",
      "\u001b[1mLowest Price Per Square Foot\u001b[0m\n",
      "Stratford AT Hunters Run Condo, 40 Stratford Ln Unit D Boynton Beach | Price $45,000 | $32 psf | Year built: 1981 | Listing agents: Richard Ralston with The Keyes Company and Elana Sessler with The Keyes Company | Buyer's agents: Elaine Perlmutter with Lang Realty/Delray Beach and None with None\n",
      "\u001b[1mNewest\u001b[0m\n",
      "1177 Moderne, 1177 George Bush Blvd Unit 308 A Delray Beach | Price $2,620,000 | $1,325 psf | Year built: 2024 | Listing agents: Julie Ann Giachetti with One Sotheby's International Realty and None with None | Buyer's agents: Mary Beth Windle with Douglas Elliman and Caron Dockerty with Douglas Elliman\n",
      "\u001b[1mOldest\u001b[0m\n",
      "Forest Hill Gardens Condo, 6028 Forest Hl #205 West Palm Beach | Price $148,000 | $203 psf | Year built: 1890 | Listing agents: Tania Cardenas with Partnership Realty Inc. and Leydis Mustelier with Partnership Realty Inc. | Buyer's agents: danieyis jimenez with CGI Realty and None with None\n"
     ]
    }
   ],
   "source": [
    "print(f\"{ME}{BR}{df_filtered.loc[df_filtered['PRICE'].idxmax()]['LOCATION']}, {df_filtered.loc[df_filtered['PRICE'].idxmax()]['FULL_ADDRESS']} | Price ${df_filtered.loc[df_filtered['PRICE'].idxmax()]['PRICE']:,.0f} | ${df_filtered.loc[df_filtered['PRICE'].idxmax()]['$/SQUARE FEET']:,.0f} psf | Year built: {df_filtered.loc[df_filtered['PRICE'].idxmax()]['YEAR BUILT']:.0f} | Listing agents: {df_filtered.loc[df_filtered['PRICE'].idxmax()]['list_agent_name_1']} with {df_filtered.loc[df_filtered['PRICE'].idxmax()]['list_broker_name_1']} and {df_filtered.loc[df_filtered['PRICE'].idxmax()]['list_agent_name_2']} with {df_filtered.loc[df_filtered['PRICE'].idxmax()]['list_broker_name_2']} | Buyer's agents: {df_filtered.loc[df_filtered['PRICE'].idxmax()]['buy_agent_name_1']} with {df_filtered.loc[df_filtered['PRICE'].idxmax()]['buy_broker_name_1']} and {df_filtered.loc[df_filtered['PRICE'].idxmax()]['buy_agent_name_2']} with {df_filtered.loc[df_filtered['PRICE'].idxmax()]['buy_broker_name_2']}\")\n",
    "print(f\"{LE}{BR}{df_filtered.loc[df_filtered['PRICE'].idxmin()]['LOCATION']}, {df_filtered.loc[df_filtered['PRICE'].idxmin()]['FULL_ADDRESS']} | Price ${df_filtered.loc[df_filtered['PRICE'].idxmin()]['PRICE']:,.0f} | ${df_filtered.loc[df_filtered['PRICE'].idxmin()]['$/SQUARE FEET']:,.0f} psf | Year built: {df_filtered.loc[df_filtered['PRICE'].idxmin()]['YEAR BUILT']:.0f} | Listing agents: {df_filtered.loc[df_filtered['PRICE'].idxmin()]['list_agent_name_1']} with {df_filtered.loc[df_filtered['PRICE'].idxmin()]['list_broker_name_1']} and {df_filtered.loc[df_filtered['PRICE'].idxmin()]['list_agent_name_2']} with {df_filtered.loc[df_filtered['PRICE'].idxmin()]['list_broker_name_2']} | Buyer's agents: {df_filtered.loc[df_filtered['PRICE'].idxmin()]['buy_agent_name_1']} with {df_filtered.loc[df_filtered['PRICE'].idxmin()]['buy_broker_name_1']} and {df_filtered.loc[df_filtered['PRICE'].idxmin()]['buy_agent_name_2']} with {df_filtered.loc[df_filtered['PRICE'].idxmin()]['buy_broker_name_2']}\")\n",
    "\n",
    "print(f\"{MAX_PSF}{BR}{df_filtered.loc[df_filtered['$/SQUARE FEET'].idxmax()]['LOCATION']}, {df_filtered.loc[df_filtered['$/SQUARE FEET'].idxmax()]['FULL_ADDRESS']} | Price ${df_filtered.loc[df_filtered['$/SQUARE FEET'].idxmax()]['PRICE']:,.0f} | ${df_filtered.loc[df_filtered['$/SQUARE FEET'].idxmax()]['$/SQUARE FEET']:,.0f} psf | Year built: {df_filtered.loc[df_filtered['$/SQUARE FEET'].idxmax()]['YEAR BUILT']:.0f} | Listing agents: {df_filtered.loc[df_filtered['$/SQUARE FEET'].idxmax()]['list_agent_name_1']} with {df_filtered.loc[df_filtered['$/SQUARE FEET'].idxmax()]['list_broker_name_1']} and {df_filtered.loc[df_filtered['$/SQUARE FEET'].idxmax()]['list_agent_name_2']} with {df_filtered.loc[df_filtered['$/SQUARE FEET'].idxmax()]['list_broker_name_2']} | Buyer's agents: {df_filtered.loc[df_filtered['$/SQUARE FEET'].idxmax()]['buy_agent_name_1']} with {df_filtered.loc[df_filtered['$/SQUARE FEET'].idxmax()]['buy_broker_name_1']} and {df_filtered.loc[df_filtered['$/SQUARE FEET'].idxmax()]['buy_agent_name_2']} with {df_filtered.loc[df_filtered['$/SQUARE FEET'].idxmax()]['buy_broker_name_2']}\")\n",
    "print(f\"{MIN_PSF}{BR}{df_filtered.loc[df_filtered['$/SQUARE FEET'].idxmin()]['LOCATION']}, {df_filtered.loc[df_filtered['$/SQUARE FEET'].idxmin()]['FULL_ADDRESS']} | Price ${df_filtered.loc[df_filtered['$/SQUARE FEET'].idxmin()]['PRICE']:,.0f} | ${df_filtered.loc[df_filtered['$/SQUARE FEET'].idxmin()]['$/SQUARE FEET']:,.0f} psf | Year built: {df_filtered.loc[df_filtered['$/SQUARE FEET'].idxmin()]['YEAR BUILT']:.0f} | Listing agents: {df_filtered.loc[df_filtered['$/SQUARE FEET'].idxmin()]['list_agent_name_1']} with {df_filtered.loc[df_filtered['$/SQUARE FEET'].idxmin()]['list_broker_name_1']} and {df_filtered.loc[df_filtered['$/SQUARE FEET'].idxmin()]['list_agent_name_2']} with {df_filtered.loc[df_filtered['$/SQUARE FEET'].idxmin()]['list_broker_name_2']} | Buyer's agents: {df_filtered.loc[df_filtered['$/SQUARE FEET'].idxmin()]['buy_agent_name_1']} with {df_filtered.loc[df_filtered['$/SQUARE FEET'].idxmin()]['buy_broker_name_1']} and {df_filtered.loc[df_filtered['$/SQUARE FEET'].idxmin()]['buy_agent_name_2']} with {df_filtered.loc[df_filtered['$/SQUARE FEET'].idxmin()]['buy_broker_name_2']}\")\n",
    "\n",
    "print(f\"{Newest}{BR}{df_filtered.loc[df_filtered['YEAR BUILT'].idxmax()]['LOCATION']}, {df_filtered.loc[df_filtered['YEAR BUILT'].idxmax()]['FULL_ADDRESS']} | Price ${df_filtered.loc[df_filtered['YEAR BUILT'].idxmax()]['PRICE']:,.0f} | ${df_filtered.loc[df_filtered['YEAR BUILT'].idxmax()]['$/SQUARE FEET']:,.0f} psf | Year built: {df_filtered.loc[df_filtered['YEAR BUILT'].idxmax()]['YEAR BUILT']:.0f} | Listing agents: {df_filtered.loc[df_filtered['YEAR BUILT'].idxmax()]['list_agent_name_1']} with {df_filtered.loc[df_filtered['YEAR BUILT'].idxmax()]['list_broker_name_1']} and {df_filtered.loc[df_filtered['YEAR BUILT'].idxmax()]['list_agent_name_2']} with {df_filtered.loc[df_filtered['YEAR BUILT'].idxmax()]['list_broker_name_2']} | Buyer's agents: {df_filtered.loc[df_filtered['YEAR BUILT'].idxmax()]['buy_agent_name_1']} with {df_filtered.loc[df_filtered['YEAR BUILT'].idxmax()]['buy_broker_name_1']} and {df_filtered.loc[df_filtered['YEAR BUILT'].idxmax()]['buy_agent_name_2']} with {df_filtered.loc[df_filtered['YEAR BUILT'].idxmax()]['buy_broker_name_2']}\")\n",
    "print(f\"{Oldest}{BR}{df_filtered.loc[df_filtered['YEAR BUILT'].idxmin()]['LOCATION']}, {df_filtered.loc[df_filtered['YEAR BUILT'].idxmin()]['FULL_ADDRESS']} | Price ${df_filtered.loc[df_filtered['YEAR BUILT'].idxmin()]['PRICE']:,.0f} | ${df_filtered.loc[df_filtered['YEAR BUILT'].idxmin()]['$/SQUARE FEET']:,.0f} psf | Year built: {df_filtered.loc[df_filtered['YEAR BUILT'].idxmin()]['YEAR BUILT']:.0f} | Listing agents: {df_filtered.loc[df_filtered['YEAR BUILT'].idxmin()]['list_agent_name_1']} with {df_filtered.loc[df_filtered['YEAR BUILT'].idxmin()]['list_broker_name_1']} and {df_filtered.loc[df_filtered['YEAR BUILT'].idxmin()]['list_agent_name_2']} with {df_filtered.loc[df_filtered['YEAR BUILT'].idxmin()]['list_broker_name_2']} | Buyer's agents: {df_filtered.loc[df_filtered['YEAR BUILT'].idxmin()]['buy_agent_name_1']} with {df_filtered.loc[df_filtered['YEAR BUILT'].idxmin()]['buy_broker_name_1']} and {df_filtered.loc[df_filtered['YEAR BUILT'].idxmin()]['buy_agent_name_2']} with {df_filtered.loc[df_filtered['YEAR BUILT'].idxmin()]['buy_broker_name_2']}\")"
   ]
  },
  {
   "cell_type": "markdown",
   "id": "bf7057fd",
   "metadata": {},
   "source": [
    "## Get condo names and locations for most and least expensive"
   ]
  },
  {
   "cell_type": "code",
   "execution_count": 56,
   "id": "00f31fda",
   "metadata": {},
   "outputs": [],
   "source": [
    "most_expensive_muni_condo_name = df_filtered.loc[df_filtered['PRICE'].idxmax()]['LOCATION']\n",
    "most_expensive_muni_location = df_filtered.loc[df_filtered['PRICE'].idxmax()]['CITY']\n",
    "\n",
    "least_expensive_muni_condo_name = df_filtered.loc[df_filtered['PRICE'].idxmin()]['LOCATION']\n",
    "least_expensive_muni_location = df_filtered.loc[df_filtered['PRICE'].idxmin()]['CITY']"
   ]
  },
  {
   "cell_type": "code",
   "execution_count": 57,
   "id": "b79b8847",
   "metadata": {},
   "outputs": [],
   "source": [
    "## Calculate the increase/descrease between both months\n",
    "subject_month_sales_volume = df_filtered[\"PRICE\"].sum()\n",
    "prior_month_sales_volume = int(sales_volume_2nd_month)  # Example value, replace with actual value\n",
    "\n",
    "subject_month_closings = len(df_filtered)\n",
    "prior_month_closings = int(total_condos_sold_2nd_month)\n",
    "\n",
    "# Subtract the smaller value from the larger one\n",
    "if subject_month_sales_volume > prior_month_sales_volume:\n",
    "    hed_rf = 'jumps'\n",
    "    nut_graf = 'rising'\n",
    "    second_nut_graf_ref = 'up'\n",
    "    social = 'higher'\n",
    "    seo = 'increased'\n",
    "elif prior_month_sales_volume > subject_month_sales_volume:\n",
    "    hed_rf = 'drops'\n",
    "    nut_graf = 'falling'\n",
    "    second_nut_graf_ref = 'down'\n",
    "    social = 'lower'\n",
    "    seo = 'dropped'\n",
    "else:\n",
    "    hed_rf = 'equals'\n",
    "    nut_graf = 'equaling'\n",
    "    second_nut_graf_ref = 'on par with'\n",
    "    social = 'equal'\n",
    "    seo = \"did't change\"\n",
    "    \n",
    "    \n",
    "if subject_month_closings > prior_month_closings:\n",
    "    dek_rf = 'rose'\n",
    "elif prior_month_closings > subject_month_closings:\n",
    "    dek_rf ='fell'\n",
    "else:\n",
    "    dek_rf = 'equaled'"
   ]
  },
  {
   "cell_type": "code",
   "execution_count": 58,
   "id": "3e5b3893",
   "metadata": {},
   "outputs": [
    {
     "data": {
      "text/plain": [
       "Index(['SOLD DATE', 'ADDRESS', 'CITY', 'PRICE', 'BEDS', 'BATHS', 'LOCATION',\n",
       "       'YEAR BUILT', 'DAYS ON MARKET', '$/SQUARE FEET', 'URL', 'LATITUDE',\n",
       "       'LONGITUDE', 'PRICE_AS_CURRENCY', 'YEAR BUILT DISPLAY',\n",
       "       'PRICE_SQUARE_FEET_AS_CURRENCY', 'COLOR', 'RANK', 'FULL_ADDRESS', 'url',\n",
       "       'list_agent_name_1', 'list_broker_name_1', 'list_agent_name_2',\n",
       "       'list_broker_name_2', 'buy_agent_name_1', 'buy_broker_name_1',\n",
       "       'buy_agent_name_2', 'buy_broker_name_2'],\n",
       "      dtype='object')"
      ]
     },
     "execution_count": 58,
     "metadata": {},
     "output_type": "execute_result"
    }
   ],
   "source": [
    "df_filtered.columns"
   ]
  },
  {
   "cell_type": "code",
   "execution_count": 59,
   "id": "1ec817cf",
   "metadata": {},
   "outputs": [
    {
     "name": "stdout",
     "output_type": "stream",
     "text": [
      "\n",
      "\n",
      "\n",
      "TOP SALE LISTING AGENTS:\n",
      "\n",
      "Jacqueline Feldman with One Sotheby's International Realty and None with None\n",
      "\n",
      "TOP SALE BUYER AGENTS:\n",
      "\n",
      "Lisa Bailey Levy with EXP Realty LLC and None with None\n",
      "\n",
      "BOTTOM SALE LISTING AGENTS:\n",
      "\n",
      "Samuel Fugina with Marlin Realty Inc and None with None\n",
      "\n",
      "BOTTOM SALE BUYER AGENTS:\n",
      "\n",
      "None with None and None with None\n",
      "\n",
      "\n"
     ]
    }
   ],
   "source": [
    "# Get values for the top sale (max price)\n",
    "top_sale_listing_agent_1 = df_filtered.loc[df_filtered[\"PRICE\"].idxmax(), 'list_agent_name_1']\n",
    "top_sale_listing_broker_1 = df_filtered.loc[df_filtered[\"PRICE\"].idxmax(), 'list_broker_name_1']\n",
    "top_sale_listing_agent_2 = df_filtered.loc[df_filtered[\"PRICE\"].idxmax(), 'list_agent_name_2']\n",
    "top_sale_listing_broker_2 = df_filtered.loc[df_filtered[\"PRICE\"].idxmax(), 'list_broker_name_2']\n",
    "top_sale_buyer_agent_1 = df_filtered.loc[df_filtered[\"PRICE\"].idxmax(), 'buy_agent_name_1']\n",
    "top_sale_buyer_broker_1 = df_filtered.loc[df_filtered[\"PRICE\"].idxmax(), 'buy_broker_name_1']\n",
    "top_sale_buyer_agent_2 = df_filtered.loc[df_filtered[\"PRICE\"].idxmax(), 'buy_agent_name_2']\n",
    "top_sale_buyer_broker_2 = df_filtered.loc[df_filtered[\"PRICE\"].idxmax(), 'buy_broker_name_2']\n",
    "\n",
    "# Get values for the bottom sale (min price)\n",
    "bottom_sale_listing_agent_1 = df_filtered.loc[df_filtered[\"PRICE\"].idxmin(), 'list_agent_name_1']\n",
    "bottom_sale_listing_broker_1 = df_filtered.loc[df_filtered[\"PRICE\"].idxmin(), 'list_broker_name_1']\n",
    "bottom_sale_listing_agent_2 = df_filtered.loc[df_filtered[\"PRICE\"].idxmin(), 'list_agent_name_2']\n",
    "bottom_sale_listing_broker_2 = df_filtered.loc[df_filtered[\"PRICE\"].idxmin(), 'list_broker_name_2']\n",
    "bottom_sale_buyer_agent_1 = df_filtered.loc[df_filtered[\"PRICE\"].idxmin(), 'buy_agent_name_1']\n",
    "bottom_sale_buyer_broker_1 = df_filtered.loc[df_filtered[\"PRICE\"].idxmin(), 'buy_broker_name_1']\n",
    "bottom_sale_buyer_agent_2 = df_filtered.loc[df_filtered[\"PRICE\"].idxmin(), 'buy_agent_name_2']\n",
    "bottom_sale_buyer_broker_2 = df_filtered.loc[df_filtered[\"PRICE\"].idxmin(), 'buy_broker_name_2']\n",
    "\n",
    "# Now create the formatted string\n",
    "test_string = f'''\n",
    "\n",
    "\n",
    "TOP SALE LISTING AGENTS:\n",
    "\n",
    "{top_sale_listing_agent_1} with {top_sale_listing_broker_1} and {top_sale_listing_agent_2} with {top_sale_listing_broker_2}\n",
    "\n",
    "TOP SALE BUYER AGENTS:\n",
    "\n",
    "{top_sale_buyer_agent_1} with {top_sale_buyer_broker_1} and {top_sale_buyer_agent_2} with {top_sale_buyer_broker_2}\n",
    "\n",
    "BOTTOM SALE LISTING AGENTS:\n",
    "\n",
    "{bottom_sale_listing_agent_1} with {bottom_sale_listing_broker_1} and {bottom_sale_listing_agent_2} with {bottom_sale_listing_broker_2}\n",
    "\n",
    "BOTTOM SALE BUYER AGENTS:\n",
    "\n",
    "{bottom_sale_buyer_agent_1} with {bottom_sale_buyer_broker_1} and {bottom_sale_buyer_agent_2} with {bottom_sale_buyer_broker_2}\n",
    "\n",
    "'''\n",
    "\n",
    "print(test_string)\n"
   ]
  },
  {
   "cell_type": "code",
   "execution_count": 60,
   "id": "2778adf2",
   "metadata": {},
   "outputs": [
    {
     "data": {
      "text/plain": [
       "78"
      ]
     },
     "execution_count": 60,
     "metadata": {},
     "output_type": "execute_result"
    }
   ],
   "source": [
    "df_filtered[\"PRICE\"].idxmax()"
   ]
  },
  {
   "cell_type": "code",
   "execution_count": 61,
   "id": "246d9fac",
   "metadata": {},
   "outputs": [],
   "source": [
    "story_string = f'''\n",
    "\\033[1mHED:\\033[0m {county_name} condo sales dollar volume {hed_rf} in {previous_month_name} to ${round(df_filtered[\"PRICE\"].sum()/1_000_000)}M \n",
    "\\033[1mDEK:\\033[0m Number of closings {dek_rf} to {len(df_filtered)} from {total_condos_sold_2nd_month} in {month_before_last_name}\n",
    "\\033[1mFEATURED HED:\\033[0m\n",
    "\\033[1mSEO HED:\\033[0m {county_name} {previous_month_name} Condo Sales Report \n",
    "\\033[1mSEO DESCRIPTION:\\033[0m {county_name}’s condo sales volume {seo} to ${round(df_filtered[\"PRICE\"].sum()/1_000_000)} million in {previous_month_name}.\n",
    "\\033[1mAUTHOR:\\033[0m Adam Farence\n",
    "\\033[1mRESEARCH:\\033[0m  \n",
    "\\033[1mSocial:\\033[0m {county_name} had ${round(df_filtered[\"PRICE\"].sum()/1_000_000):,.0f} million in condo sales in {previous_month_name}, {social} than ${round(int(sales_volume_2nd_month)/1_000_000)} million from {month_before_last_name}, @afarence reports \n",
    "\\033[1mART:\\033[0m \n",
    "\n",
    "CHANGE ME\n",
    "\n",
    "*Please provide credits for any images that you share\n",
    "\\033[1mSTORY TYPE:\\033[0m Report\n",
    "\\033[1mSECTOR\\033[0m (formerly CATEGORY): Residential Real Estate\n",
    "\\033[1mTAGS:\\033[0m condo sales, {county_name}, monthly condo sales, condos, condo market, {most_expensive_muni_condo_name.title()}, {most_expensive_muni_location}\n",
    "\n",
    "\\033[1mNeighborhood:\\033[0m \n",
    "\\033[1mProperty:\\033[0m\n",
    "\\033[1mProperty Type:\\033[0m\n",
    "\\033[1mCompanies:\\033[0m \n",
    "\\033[1mPeople:\\033[0m\n",
    "\\033[1mIssues:\\033[0m\n",
    "\\033[1mRegion:\\033[0m\n",
    "\n",
    "{county_name}’s NEWS PEG HERE.\n",
    "\n",
    "{previous_month_name} condo sales totaled ${round(df_filtered[\"PRICE\"].sum()/1_000_000)} million, {nut_graf} from ${int(sales_volume_2nd_month)/1_000_000:.0f} million in {month_before_last_name}. Brokers closed {len(df_filtered)} sales last month, {second_nut_graf_ref} from {total_condos_sold_2nd_month} sales in {month_before_last_name} and XXX in XXX, Multiple Listing Service data from Redfin show.\n",
    "\n",
    "{previous_month_name} sale prices ranged from ${df_filtered[\"PRICE\"].min():,.0f} to ${df_filtered[\"PRICE\"].max():,.0f} million, with a median sale price of ${df_filtered[\"PRICE\"].median():,.0f}. The price per square foot ranged from ${df_filtered[\"$/SQUARE FEET\"].min():,.0f} to ${df_filtered[\"$/SQUARE FEET\"].max():,.0f}, with a median of ${df_filtered[\"$/SQUARE FEET\"].median():,.0f} per square foot.\n",
    "\n",
    "In {month_before_last_name}, sales closed with a median price of ${int(median_sales_price_2nd_month):,.0f}, and ${median_psf_2nd_month} per square foot.\n",
    "\n",
    "A ${df_filtered[\"PRICE\"].max():,.0f} million closing at {most_expensive_muni_condo_name.title()} took the title of priciest sale last month. {df_filtered.loc[df_filtered['PRICE'].idxmax()]['FULL_ADDRESS']} sold for ${df_filtered.loc[df_filtered['PRICE'].idxmax()]['$/SQUARE FEET']:,.0f} per square foot after XX days on the market. XXX with XXX had the listing, and XXX with XXX represented the buyer.\n",
    "\n",
    "TOP SALE LISTING AGENTS:\n",
    "\n",
    "{top_sale_listing_agent_1} with {top_sale_listing_broker_1} and {top_sale_listing_agent_2} with {top_sale_listing_broker_2}\n",
    "\n",
    "TOP SALE BUYER AGENTS:\n",
    "\n",
    "{top_sale_buyer_agent_1} with {top_sale_buyer_broker_1} and {top_sale_buyer_agent_2} with {top_sale_buyer_broker_2}\n",
    "\n",
    "The sale price was \\033[1mmore/less\\033[0m than {month_before_last_name}'s priciest sale. Unit XXXX \n",
    "\n",
    "In contrast, {previous_month_name}'s cheapest sale was an {least_expensive_muni_condo_name} in {least_expensive_muni_location}, at {df_filtered.loc[df_filtered['PRICE'].idxmin()]['FULL_ADDRESS']}. Unit XXX traded for ${df_filtered['PRICE'].min():,.0f} — or ${df_filtered.loc[df_filtered['PRICE'].idxmin()]['$/SQUARE FEET']:,.0f} per square foot — after XXX days on the market. XXX with XXX handled both sides of the deal.\n",
    "\n",
    "BOTTOM SALE LISTING AGENTS:\n",
    "\n",
    "{bottom_sale_listing_agent_1} with {bottom_sale_listing_broker_1} and {bottom_sale_listing_agent_2} with {bottom_sale_listing_broker_2}\n",
    "\n",
    "BOTTOM SALE BUYER AGENTS:\n",
    "\n",
    "{bottom_sale_buyer_agent_1} with {bottom_sale_buyer_broker_1} and {bottom_sale_buyer_agent_2} with {bottom_sale_buyer_broker_2}\n",
    "\n",
    "<figure>\n",
    " <div class=\"container\">\n",
    "   <div class=\"iframe-wrap\">\n",
    "   <iframe src=\"{final_name}\" width=\"100%\" height=\"800\" frameBorder=\"0\" scrolling=\"no\"></iframe>\n",
    "  </div>\n",
    "</div>\n",
    "  <figcaption align=\"right\"><a href=\"https://leafletjs.com/\">Leaflet</a> map created by Adam Farence | Data by © <a href=\"https://www.openstreetmap.org/#map=4/38.01/-95.84\"> OpenStreetMap</a>, under <a href=\"https://www.openstreetmap.org/copyright\">ODbl.</a></figcaption>\n",
    "</figure>\n",
    "\n",
    "Here’s a breakdown of {previous_month_name}’s notable condo sales:\n",
    "'''"
   ]
  },
  {
   "cell_type": "code",
   "execution_count": 62,
   "id": "f51fcff5",
   "metadata": {},
   "outputs": [
    {
     "name": "stdout",
     "output_type": "stream",
     "text": [
      "\n",
      "\u001b[1mHED:\u001b[0m Palm Beach County condo sales dollar volume jumps in October to $239M \n",
      "\u001b[1mDEK:\u001b[0m Number of closings rose to 495 from 445 in September\n",
      "\u001b[1mFEATURED HED:\u001b[0m\n",
      "\u001b[1mSEO HED:\u001b[0m Palm Beach County October Condo Sales Report \n",
      "\u001b[1mSEO DESCRIPTION:\u001b[0m Palm Beach County’s condo sales volume increased to $239 million in October.\n",
      "\u001b[1mAUTHOR:\u001b[0m Adam Farence\n",
      "\u001b[1mRESEARCH:\u001b[0m  \n",
      "\u001b[1mSocial:\u001b[0m Palm Beach County had $239 million in condo sales in October, higher than $221 million from September, @afarence reports \n",
      "\u001b[1mART:\u001b[0m \n",
      "\n",
      "CHANGE ME\n",
      "\n",
      "*Please provide credits for any images that you share\n",
      "\u001b[1mSTORY TYPE:\u001b[0m Report\n",
      "\u001b[1mSECTOR\u001b[0m (formerly CATEGORY): Residential Real Estate\n",
      "\u001b[1mTAGS:\u001b[0m condo sales, Palm Beach County, monthly condo sales, condos, condo market, Boca Beach Residences, Boca Raton\n",
      "\n",
      "\u001b[1mNeighborhood:\u001b[0m \n",
      "\u001b[1mProperty:\u001b[0m\n",
      "\u001b[1mProperty Type:\u001b[0m\n",
      "\u001b[1mCompanies:\u001b[0m \n",
      "\u001b[1mPeople:\u001b[0m\n",
      "\u001b[1mIssues:\u001b[0m\n",
      "\u001b[1mRegion:\u001b[0m\n",
      "\n",
      "Palm Beach County’s NEWS PEG HERE.\n",
      "\n",
      "October condo sales totaled $239 million, rising from $221 million in September. Brokers closed 495 sales last month, up from 445 sales in September and XXX in XXX, Multiple Listing Service data from Redfin show.\n",
      "\n",
      "October sale prices ranged from $25,000 to $9,600,000 million, with a median sale price of $251,125. The price per square foot ranged from $32 to $2,463, with a median of $231 per square foot.\n",
      "\n",
      "In September, sales closed with a median price of $250,000, and $228 per square foot.\n",
      "\n",
      "A $9,600,000 million closing at Boca Beach Residences took the title of priciest sale last month. 725 S Ocean Blvd #303 Boca Raton sold for $2,218 per square foot after XX days on the market. XXX with XXX had the listing, and XXX with XXX represented the buyer.\n",
      "\n",
      "TOP SALE LISTING AGENTS:\n",
      "\n",
      "Jacqueline Feldman with One Sotheby's International Realty and None with None\n",
      "\n",
      "TOP SALE BUYER AGENTS:\n",
      "\n",
      "Lisa Bailey Levy with EXP Realty LLC and None with None\n",
      "\n",
      "The sale price was \u001b[1mmore/less\u001b[0m than September's priciest sale. Unit XXXX \n",
      "\n",
      "In contrast, October's cheapest sale was an KINGS POINT SAXONY CONDOS in Delray Beach, at 438 Saxony Unit J Delray Beach. Unit XXX traded for $25,000 — or $35 per square foot — after XXX days on the market. XXX with XXX handled both sides of the deal.\n",
      "\n",
      "BOTTOM SALE LISTING AGENTS:\n",
      "\n",
      "Samuel Fugina with Marlin Realty Inc and None with None\n",
      "\n",
      "BOTTOM SALE BUYER AGENTS:\n",
      "\n",
      "None with None and None with None\n",
      "\n",
      "<figure>\n",
      " <div class=\"container\">\n",
      "   <div class=\"iframe-wrap\">\n",
      "   <iframe src=\"https://trd-digital.github.io/trd-news-interactive-maps/PBC_condo_sales_month_ending_oct_2024\" width=\"100%\" height=\"800\" frameBorder=\"0\" scrolling=\"no\"></iframe>\n",
      "  </div>\n",
      "</div>\n",
      "  <figcaption align=\"right\"><a href=\"https://leafletjs.com/\">Leaflet</a> map created by Adam Farence | Data by © <a href=\"https://www.openstreetmap.org/#map=4/38.01/-95.84\"> OpenStreetMap</a>, under <a href=\"https://www.openstreetmap.org/copyright\">ODbl.</a></figcaption>\n",
      "</figure>\n",
      "\n",
      "Here’s a breakdown of October’s notable condo sales:\n",
      "\n",
      "\u001b[1mMost Expensive\u001b[0m\n",
      "Boca Beach Residences, 725 S Ocean Blvd #303 Boca Raton | Price $9,600,000 | $2,218 psf | Year built: 2023 | Listing agents: Jacqueline Feldman with One Sotheby's International Realty and None with None | Buyer's agents: Lisa Bailey Levy with EXP Realty LLC and None with None\n",
      "\u001b[1mLeast Expensive\u001b[0m\n",
      "KINGS POINT SAXONY CONDOS, 438 Saxony Unit J Delray Beach | Price $25,000 | $35 psf | Year built: 1974 | Listing agents: Samuel Fugina with Marlin Realty Inc and None with None | Buyer's agents: None with None and None with None\n",
      "\u001b[1mHighest Price Per Square Foot\u001b[0m\n",
      "Vizcaya Lakes Condo, 1690 Renaissance Commons Blvd #1314 Boynton Beach | Price $2,800,000 | $2,463 psf | Year built: 2007 | Listing agents: Carlos Marquez with Acme Realty and None with None | Buyer's agents: Stephanie Mordes with Aquantis Realty LLC and None with Aquantis Realty LLC\n",
      "\u001b[1mLowest Price Per Square Foot\u001b[0m\n",
      "Stratford AT Hunters Run Condo, 40 Stratford Ln Unit D Boynton Beach | Price $45,000 | $32 psf | Year built: 1981 | Listing agents: Richard Ralston with The Keyes Company and Elana Sessler with The Keyes Company | Buyer's agents: Elaine Perlmutter with Lang Realty/Delray Beach and None with None\n",
      "\u001b[1mNewest\u001b[0m\n",
      "1177 Moderne, 1177 George Bush Blvd Unit 308 A Delray Beach | Price $2,620,000 | $1,325 psf | Year built: 2024 | Listing agents: Julie Ann Giachetti with One Sotheby's International Realty and None with None | Buyer's agents: Mary Beth Windle with Douglas Elliman and Caron Dockerty with Douglas Elliman\n",
      "\u001b[1mOldest\u001b[0m\n",
      "Forest Hill Gardens Condo, 6028 Forest Hl #205 West Palm Beach | Price $148,000 | $203 psf | Year built: 1890 | Listing agents: Tania Cardenas with Partnership Realty Inc. and Leydis Mustelier with Partnership Realty Inc. | Buyer's agents: danieyis jimenez with CGI Realty and None with None\n"
     ]
    }
   ],
   "source": [
    "print(story_string)\n",
    "\n",
    "print(f\"{ME}{BR}{df_filtered.loc[df_filtered['PRICE'].idxmax()]['LOCATION']}, {df_filtered.loc[df_filtered['PRICE'].idxmax()]['FULL_ADDRESS']} | Price ${df_filtered.loc[df_filtered['PRICE'].idxmax()]['PRICE']:,.0f} | ${df_filtered.loc[df_filtered['PRICE'].idxmax()]['$/SQUARE FEET']:,.0f} psf | Year built: {df_filtered.loc[df_filtered['PRICE'].idxmax()]['YEAR BUILT']:.0f} | Listing agents: {df_filtered.loc[df_filtered['PRICE'].idxmax()]['list_agent_name_1']} with {df_filtered.loc[df_filtered['PRICE'].idxmax()]['list_broker_name_1']} and {df_filtered.loc[df_filtered['PRICE'].idxmax()]['list_agent_name_2']} with {df_filtered.loc[df_filtered['PRICE'].idxmax()]['list_broker_name_2']} | Buyer's agents: {df_filtered.loc[df_filtered['PRICE'].idxmax()]['buy_agent_name_1']} with {df_filtered.loc[df_filtered['PRICE'].idxmax()]['buy_broker_name_1']} and {df_filtered.loc[df_filtered['PRICE'].idxmax()]['buy_agent_name_2']} with {df_filtered.loc[df_filtered['PRICE'].idxmax()]['buy_broker_name_2']}\")\n",
    "print(f\"{LE}{BR}{df_filtered.loc[df_filtered['PRICE'].idxmin()]['LOCATION']}, {df_filtered.loc[df_filtered['PRICE'].idxmin()]['FULL_ADDRESS']} | Price ${df_filtered.loc[df_filtered['PRICE'].idxmin()]['PRICE']:,.0f} | ${df_filtered.loc[df_filtered['PRICE'].idxmin()]['$/SQUARE FEET']:,.0f} psf | Year built: {df_filtered.loc[df_filtered['PRICE'].idxmin()]['YEAR BUILT']:.0f} | Listing agents: {df_filtered.loc[df_filtered['PRICE'].idxmin()]['list_agent_name_1']} with {df_filtered.loc[df_filtered['PRICE'].idxmin()]['list_broker_name_1']} and {df_filtered.loc[df_filtered['PRICE'].idxmin()]['list_agent_name_2']} with {df_filtered.loc[df_filtered['PRICE'].idxmin()]['list_broker_name_2']} | Buyer's agents: {df_filtered.loc[df_filtered['PRICE'].idxmin()]['buy_agent_name_1']} with {df_filtered.loc[df_filtered['PRICE'].idxmin()]['buy_broker_name_1']} and {df_filtered.loc[df_filtered['PRICE'].idxmin()]['buy_agent_name_2']} with {df_filtered.loc[df_filtered['PRICE'].idxmin()]['buy_broker_name_2']}\")\n",
    "\n",
    "print(f\"{MAX_PSF}{BR}{df_filtered.loc[df_filtered['$/SQUARE FEET'].idxmax()]['LOCATION']}, {df_filtered.loc[df_filtered['$/SQUARE FEET'].idxmax()]['FULL_ADDRESS']} | Price ${df_filtered.loc[df_filtered['$/SQUARE FEET'].idxmax()]['PRICE']:,.0f} | ${df_filtered.loc[df_filtered['$/SQUARE FEET'].idxmax()]['$/SQUARE FEET']:,.0f} psf | Year built: {df_filtered.loc[df_filtered['$/SQUARE FEET'].idxmax()]['YEAR BUILT']:.0f} | Listing agents: {df_filtered.loc[df_filtered['$/SQUARE FEET'].idxmax()]['list_agent_name_1']} with {df_filtered.loc[df_filtered['$/SQUARE FEET'].idxmax()]['list_broker_name_1']} and {df_filtered.loc[df_filtered['$/SQUARE FEET'].idxmax()]['list_agent_name_2']} with {df_filtered.loc[df_filtered['$/SQUARE FEET'].idxmax()]['list_broker_name_2']} | Buyer's agents: {df_filtered.loc[df_filtered['$/SQUARE FEET'].idxmax()]['buy_agent_name_1']} with {df_filtered.loc[df_filtered['$/SQUARE FEET'].idxmax()]['buy_broker_name_1']} and {df_filtered.loc[df_filtered['$/SQUARE FEET'].idxmax()]['buy_agent_name_2']} with {df_filtered.loc[df_filtered['$/SQUARE FEET'].idxmax()]['buy_broker_name_2']}\")\n",
    "print(f\"{MIN_PSF}{BR}{df_filtered.loc[df_filtered['$/SQUARE FEET'].idxmin()]['LOCATION']}, {df_filtered.loc[df_filtered['$/SQUARE FEET'].idxmin()]['FULL_ADDRESS']} | Price ${df_filtered.loc[df_filtered['$/SQUARE FEET'].idxmin()]['PRICE']:,.0f} | ${df_filtered.loc[df_filtered['$/SQUARE FEET'].idxmin()]['$/SQUARE FEET']:,.0f} psf | Year built: {df_filtered.loc[df_filtered['$/SQUARE FEET'].idxmin()]['YEAR BUILT']:.0f} | Listing agents: {df_filtered.loc[df_filtered['$/SQUARE FEET'].idxmin()]['list_agent_name_1']} with {df_filtered.loc[df_filtered['$/SQUARE FEET'].idxmin()]['list_broker_name_1']} and {df_filtered.loc[df_filtered['$/SQUARE FEET'].idxmin()]['list_agent_name_2']} with {df_filtered.loc[df_filtered['$/SQUARE FEET'].idxmin()]['list_broker_name_2']} | Buyer's agents: {df_filtered.loc[df_filtered['$/SQUARE FEET'].idxmin()]['buy_agent_name_1']} with {df_filtered.loc[df_filtered['$/SQUARE FEET'].idxmin()]['buy_broker_name_1']} and {df_filtered.loc[df_filtered['$/SQUARE FEET'].idxmin()]['buy_agent_name_2']} with {df_filtered.loc[df_filtered['$/SQUARE FEET'].idxmin()]['buy_broker_name_2']}\")\n",
    "\n",
    "print(f\"{Newest}{BR}{df_filtered.loc[df_filtered['YEAR BUILT'].idxmax()]['LOCATION']}, {df_filtered.loc[df_filtered['YEAR BUILT'].idxmax()]['FULL_ADDRESS']} | Price ${df_filtered.loc[df_filtered['YEAR BUILT'].idxmax()]['PRICE']:,.0f} | ${df_filtered.loc[df_filtered['YEAR BUILT'].idxmax()]['$/SQUARE FEET']:,.0f} psf | Year built: {df_filtered.loc[df_filtered['YEAR BUILT'].idxmax()]['YEAR BUILT']:.0f} | Listing agents: {df_filtered.loc[df_filtered['YEAR BUILT'].idxmax()]['list_agent_name_1']} with {df_filtered.loc[df_filtered['YEAR BUILT'].idxmax()]['list_broker_name_1']} and {df_filtered.loc[df_filtered['YEAR BUILT'].idxmax()]['list_agent_name_2']} with {df_filtered.loc[df_filtered['YEAR BUILT'].idxmax()]['list_broker_name_2']} | Buyer's agents: {df_filtered.loc[df_filtered['YEAR BUILT'].idxmax()]['buy_agent_name_1']} with {df_filtered.loc[df_filtered['YEAR BUILT'].idxmax()]['buy_broker_name_1']} and {df_filtered.loc[df_filtered['YEAR BUILT'].idxmax()]['buy_agent_name_2']} with {df_filtered.loc[df_filtered['YEAR BUILT'].idxmax()]['buy_broker_name_2']}\")\n",
    "print(f\"{Oldest}{BR}{df_filtered.loc[df_filtered['YEAR BUILT'].idxmin()]['LOCATION']}, {df_filtered.loc[df_filtered['YEAR BUILT'].idxmin()]['FULL_ADDRESS']} | Price ${df_filtered.loc[df_filtered['YEAR BUILT'].idxmin()]['PRICE']:,.0f} | ${df_filtered.loc[df_filtered['YEAR BUILT'].idxmin()]['$/SQUARE FEET']:,.0f} psf | Year built: {df_filtered.loc[df_filtered['YEAR BUILT'].idxmin()]['YEAR BUILT']:.0f} | Listing agents: {df_filtered.loc[df_filtered['YEAR BUILT'].idxmin()]['list_agent_name_1']} with {df_filtered.loc[df_filtered['YEAR BUILT'].idxmin()]['list_broker_name_1']} and {df_filtered.loc[df_filtered['YEAR BUILT'].idxmin()]['list_agent_name_2']} with {df_filtered.loc[df_filtered['YEAR BUILT'].idxmin()]['list_broker_name_2']} | Buyer's agents: {df_filtered.loc[df_filtered['YEAR BUILT'].idxmin()]['buy_agent_name_1']} with {df_filtered.loc[df_filtered['YEAR BUILT'].idxmin()]['buy_broker_name_1']} and {df_filtered.loc[df_filtered['YEAR BUILT'].idxmin()]['buy_agent_name_2']} with {df_filtered.loc[df_filtered['YEAR BUILT'].idxmin()]['buy_broker_name_2']}\")"
   ]
  },
  {
   "cell_type": "markdown",
   "id": "1237f8b2",
   "metadata": {},
   "source": [
    "# Print links for notable sales\n",
    "\n",
    "## Top sale"
   ]
  },
  {
   "cell_type": "code",
   "execution_count": 63,
   "id": "4c776293",
   "metadata": {},
   "outputs": [
    {
     "name": "stdout",
     "output_type": "stream",
     "text": [
      "https://www.redfin.com/FL/Boca-Raton/725-S-Ocean-Blvd-33432/unit-303/home/188554171\n"
     ]
    }
   ],
   "source": [
    "print(df_filtered.loc[df_filtered['PRICE'].idxmax()]['URL'])"
   ]
  },
  {
   "cell_type": "markdown",
   "id": "b1f63a6a",
   "metadata": {},
   "source": [
    "## Cheapest sale"
   ]
  },
  {
   "cell_type": "code",
   "execution_count": 64,
   "id": "967008ef",
   "metadata": {},
   "outputs": [
    {
     "name": "stdout",
     "output_type": "stream",
     "text": [
      "https://www.redfin.com/FL/Delray-Beach/438-Saxony-Way-33446/unit-J/home/192412693\n"
     ]
    }
   ],
   "source": [
    "print(df_filtered.loc[df_filtered['PRICE'].idxmin()]['URL'])"
   ]
  },
  {
   "cell_type": "markdown",
   "id": "0f56cc2b",
   "metadata": {},
   "source": [
    "## Highest PSF"
   ]
  },
  {
   "cell_type": "code",
   "execution_count": 65,
   "id": "001083a2",
   "metadata": {},
   "outputs": [
    {
     "name": "stdout",
     "output_type": "stream",
     "text": [
      "https://www.redfin.com/FL/Boynton-Beach/1690-Renaissance-Commons-Blvd-33426/unit-1314/home/42625141\n"
     ]
    }
   ],
   "source": [
    "print(df_filtered.loc[df_filtered['$/SQUARE FEET'].idxmax()]['URL'])"
   ]
  },
  {
   "cell_type": "markdown",
   "id": "e606b84a",
   "metadata": {},
   "source": [
    "## Lowest PSF"
   ]
  },
  {
   "cell_type": "code",
   "execution_count": 66,
   "id": "91b9b079",
   "metadata": {},
   "outputs": [
    {
     "name": "stdout",
     "output_type": "stream",
     "text": [
      "https://www.redfin.com/FL/Boynton-Beach/40-Stratford-Ln-W-33436/unit-D/home/42330529\n"
     ]
    }
   ],
   "source": [
    "print(df_filtered.loc[df_filtered['$/SQUARE FEET'].idxmin()]['URL'])"
   ]
  },
  {
   "cell_type": "markdown",
   "id": "d6e5493b",
   "metadata": {},
   "source": [
    "## Newest"
   ]
  },
  {
   "cell_type": "code",
   "execution_count": 67,
   "id": "c2cc4988",
   "metadata": {},
   "outputs": [
    {
     "name": "stdout",
     "output_type": "stream",
     "text": [
      "https://www.redfin.com/FL/Delray-Beach/1177-George-Bush-Blvd-33483/unit-308-A/home/189018580\n"
     ]
    }
   ],
   "source": [
    "print(df_filtered.loc[df_filtered['YEAR BUILT'].idxmax()]['URL'])"
   ]
  },
  {
   "cell_type": "markdown",
   "id": "1d1ba957",
   "metadata": {},
   "source": [
    "## Oldest"
   ]
  },
  {
   "cell_type": "code",
   "execution_count": 68,
   "id": "51fa78ff",
   "metadata": {},
   "outputs": [
    {
     "name": "stdout",
     "output_type": "stream",
     "text": [
      "https://www.redfin.com/FL/West-Palm-Beach/6028-Forest-Hill-Blvd-33415/unit-205/home/42157187\n"
     ]
    }
   ],
   "source": [
    "print(df_filtered.loc[df_filtered['YEAR BUILT'].idxmin()]['URL'])"
   ]
  },
  {
   "cell_type": "markdown",
   "id": "6b274da8",
   "metadata": {},
   "source": [
    "## Time on Market Calculator"
   ]
  },
  {
   "cell_type": "code",
   "execution_count": 70,
   "id": "0d14e001",
   "metadata": {},
   "outputs": [
    {
     "name": "stdout",
     "output_type": "stream",
     "text": [
      "37\n"
     ]
    }
   ],
   "source": [
    "from datetime import datetime, timedelta\n",
    "\n",
    "################ YEAR, MONTH, DAY #######################\n",
    "\n",
    "date1 = datetime(2024, 9, 8) ## List (Earlier) date\n",
    "date2 = datetime(2024, 10, 15) ## Close (Later) date\n",
    "\n",
    "delta = date2 - date1\n",
    "num_days = delta.days\n",
    "\n",
    "print(num_days)"
   ]
  }
 ],
 "metadata": {
  "kernelspec": {
   "display_name": "Python 3 (ipykernel)",
   "language": "python",
   "name": "python3"
  },
  "language_info": {
   "codemirror_mode": {
    "name": "ipython",
    "version": 3
   },
   "file_extension": ".py",
   "mimetype": "text/x-python",
   "name": "python",
   "nbconvert_exporter": "python",
   "pygments_lexer": "ipython3",
   "version": "3.9.12"
  }
 },
 "nbformat": 4,
 "nbformat_minor": 5
}
