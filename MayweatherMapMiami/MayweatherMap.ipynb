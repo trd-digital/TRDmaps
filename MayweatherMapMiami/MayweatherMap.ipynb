{
 "cells": [
  {
   "cell_type": "markdown",
   "id": "e10034d4",
   "metadata": {},
   "source": [
    "# Imports"
   ]
  },
  {
   "cell_type": "code",
   "execution_count": 1,
   "id": "8766abcc",
   "metadata": {},
   "outputs": [],
   "source": [
    "import pandas as pd\n",
    "import geopandas as gpd\n",
    "import googlemaps\n",
    "from shapely.geometry import Point\n",
    "import os\n",
    "import numpy as np\n",
    "import re\n",
    "from textwrap import shorten\n",
    "from bs4 import BeautifulSoup\n",
    "import gspread"
   ]
  },
  {
   "cell_type": "markdown",
   "id": "d6f64639",
   "metadata": {},
   "source": [
    "## Data read-in"
   ]
  },
  {
   "cell_type": "code",
   "execution_count": 4,
   "id": "b490dbe3",
   "metadata": {},
   "outputs": [],
   "source": [
    "df = pd.read_csv('Mayweather_Map - Miami.csv')"
   ]
  },
  {
   "cell_type": "code",
   "execution_count": 3,
   "id": "833361e4",
   "metadata": {},
   "outputs": [],
   "source": [
    "# # Drop the 'URL' column if you no longer need it\n",
    "# df = df.drop(columns=['URL'])"
   ]
  },
  {
   "cell_type": "code",
   "execution_count": 4,
   "id": "528a2875",
   "metadata": {},
   "outputs": [],
   "source": [
    "# df['Description'].iloc[0]"
   ]
  },
  {
   "cell_type": "markdown",
   "id": "51565da2",
   "metadata": {},
   "source": [
    "## Article Link Formatter"
   ]
  },
  {
   "cell_type": "code",
   "execution_count": 5,
   "id": "9fb17cc6",
   "metadata": {},
   "outputs": [
    {
     "data": {
      "text/plain": [
       "0    <a href=\"https://therealdeal.com/miami/2024/11...\n",
       "1    <a href=\"https://therealdeal.com/miami/2024/11...\n",
       "Name: description_link, dtype: object"
      ]
     },
     "execution_count": 5,
     "metadata": {},
     "output_type": "execute_result"
    }
   ],
   "source": [
    "# Assuming df is your dataframe\n",
    "df[\"short_description\"] = df[\"description\"].apply(lambda s: shorten(s, width=20, placeholder=\"\"))\n",
    "df['remaining_desc'] = df.apply(lambda row: row['description'].replace(str(row['short_description']), ''), axis=1)\n",
    "\n",
    "# Update 'description_link' with a conditional\n",
    "df[\"description_link\"] = df.apply(\n",
    "    lambda row: (\n",
    "        f'<a href=\"{row[\"story_link\"]}\" target=\"_blank\" rel=\"noopener noreferrer\">{row[\"short_description\"]}</a>'\n",
    "        + row[\"remaining_desc\"]\n",
    "        if pd.notna(row[\"story_link\"]) else row[\"description\"]\n",
    "    ), \n",
    "    axis=1\n",
    ")\n",
    "\n",
    "df['description_link']"
   ]
  },
  {
   "cell_type": "markdown",
   "id": "f8e40528",
   "metadata": {},
   "source": [
    "## Geocode"
   ]
  },
  {
   "cell_type": "code",
   "execution_count": 6,
   "id": "be974bc6",
   "metadata": {},
   "outputs": [],
   "source": [
    "%store -r google_maps_API_Key\n",
    "gmaps_key = googlemaps.Client(key=google_maps_API_Key)"
   ]
  },
  {
   "cell_type": "code",
   "execution_count": 7,
   "id": "3bdebec7",
   "metadata": {},
   "outputs": [],
   "source": [
    "def geocode(add):\n",
    "    g = gmaps_key.geocode(add)\n",
    "    lat = g[0][\"geometry\"][\"location\"][\"lat\"]\n",
    "    lng = g[0][\"geometry\"][\"location\"][\"lng\"]\n",
    "    return (lat, lng)\n",
    "\n",
    "df['geocoded'] = df['full_address'].apply(geocode)"
   ]
  },
  {
   "cell_type": "code",
   "execution_count": 8,
   "id": "ec9ed623",
   "metadata": {},
   "outputs": [
    {
     "data": {
      "text/html": [
       "<div>\n",
       "<style scoped>\n",
       "    .dataframe tbody tr th:only-of-type {\n",
       "        vertical-align: middle;\n",
       "    }\n",
       "\n",
       "    .dataframe tbody tr th {\n",
       "        vertical-align: top;\n",
       "    }\n",
       "\n",
       "    .dataframe thead th {\n",
       "        text-align: right;\n",
       "    }\n",
       "</style>\n",
       "<table border=\"1\" class=\"dataframe\">\n",
       "  <thead>\n",
       "    <tr style=\"text-align: right;\">\n",
       "      <th></th>\n",
       "      <th>full_address</th>\n",
       "      <th>description</th>\n",
       "      <th>story_link</th>\n",
       "      <th>alt_link</th>\n",
       "      <th>short_description</th>\n",
       "      <th>remaining_desc</th>\n",
       "      <th>description_link</th>\n",
       "      <th>geocoded</th>\n",
       "    </tr>\n",
       "  </thead>\n",
       "  <tbody>\n",
       "    <tr>\n",
       "      <th>0</th>\n",
       "      <td>1116 Ocean Drive, Miami Beach, FL</td>\n",
       "      <td>The retired boxer turned real estate investor ...</td>\n",
       "      <td>https://therealdeal.com/miami/2024/11/21/floyd...</td>\n",
       "      <td>NaN</td>\n",
       "      <td>The retired boxer</td>\n",
       "      <td>turned real estate investor is partnering wit...</td>\n",
       "      <td>&lt;a href=\"https://therealdeal.com/miami/2024/11...</td>\n",
       "      <td>(25.7818954, -80.1307774)</td>\n",
       "    </tr>\n",
       "    <tr>\n",
       "      <th>1</th>\n",
       "      <td>288 South Coconut Lane, Miami Beach</td>\n",
       "      <td>Mayweather, via his Fojoso LLC, sold the 10,85...</td>\n",
       "      <td>https://therealdeal.com/miami/2024/11/20/floyd...</td>\n",
       "      <td>NaN</td>\n",
       "      <td>Mayweather, via his</td>\n",
       "      <td>Fojoso LLC, sold the 10,853-square-foot house...</td>\n",
       "      <td>&lt;a href=\"https://therealdeal.com/miami/2024/11...</td>\n",
       "      <td>(25.7811566, -80.1671726)</td>\n",
       "    </tr>\n",
       "  </tbody>\n",
       "</table>\n",
       "</div>"
      ],
      "text/plain": [
       "                          full_address  \\\n",
       "0    1116 Ocean Drive, Miami Beach, FL   \n",
       "1  288 South Coconut Lane, Miami Beach   \n",
       "\n",
       "                                         description  \\\n",
       "0  The retired boxer turned real estate investor ...   \n",
       "1  Mayweather, via his Fojoso LLC, sold the 10,85...   \n",
       "\n",
       "                                          story_link  alt_link  \\\n",
       "0  https://therealdeal.com/miami/2024/11/21/floyd...       NaN   \n",
       "1  https://therealdeal.com/miami/2024/11/20/floyd...       NaN   \n",
       "\n",
       "     short_description                                     remaining_desc  \\\n",
       "0    The retired boxer   turned real estate investor is partnering wit...   \n",
       "1  Mayweather, via his   Fojoso LLC, sold the 10,853-square-foot house...   \n",
       "\n",
       "                                    description_link  \\\n",
       "0  <a href=\"https://therealdeal.com/miami/2024/11...   \n",
       "1  <a href=\"https://therealdeal.com/miami/2024/11...   \n",
       "\n",
       "                    geocoded  \n",
       "0  (25.7818954, -80.1307774)  \n",
       "1  (25.7811566, -80.1671726)  "
      ]
     },
     "execution_count": 8,
     "metadata": {},
     "output_type": "execute_result"
    }
   ],
   "source": [
    "df"
   ]
  },
  {
   "cell_type": "code",
   "execution_count": 9,
   "id": "2ab3ae39",
   "metadata": {},
   "outputs": [
    {
     "data": {
      "text/html": [
       "<div>\n",
       "<style scoped>\n",
       "    .dataframe tbody tr th:only-of-type {\n",
       "        vertical-align: middle;\n",
       "    }\n",
       "\n",
       "    .dataframe tbody tr th {\n",
       "        vertical-align: top;\n",
       "    }\n",
       "\n",
       "    .dataframe thead th {\n",
       "        text-align: right;\n",
       "    }\n",
       "</style>\n",
       "<table border=\"1\" class=\"dataframe\">\n",
       "  <thead>\n",
       "    <tr style=\"text-align: right;\">\n",
       "      <th></th>\n",
       "      <th>full_address</th>\n",
       "      <th>description</th>\n",
       "      <th>story_link</th>\n",
       "      <th>alt_link</th>\n",
       "      <th>short_description</th>\n",
       "      <th>remaining_desc</th>\n",
       "      <th>description_link</th>\n",
       "      <th>geocoded</th>\n",
       "      <th>geometry</th>\n",
       "    </tr>\n",
       "  </thead>\n",
       "  <tbody>\n",
       "    <tr>\n",
       "      <th>0</th>\n",
       "      <td>1116 Ocean Drive, Miami Beach, FL</td>\n",
       "      <td>The retired boxer turned real estate investor ...</td>\n",
       "      <td>https://therealdeal.com/miami/2024/11/21/floyd...</td>\n",
       "      <td>NaN</td>\n",
       "      <td>The retired boxer</td>\n",
       "      <td>turned real estate investor is partnering wit...</td>\n",
       "      <td>&lt;a href=\"https://therealdeal.com/miami/2024/11...</td>\n",
       "      <td>(25.7818954, -80.1307774)</td>\n",
       "      <td>POINT (-80.13078 25.78190)</td>\n",
       "    </tr>\n",
       "    <tr>\n",
       "      <th>1</th>\n",
       "      <td>288 South Coconut Lane, Miami Beach</td>\n",
       "      <td>Mayweather, via his Fojoso LLC, sold the 10,85...</td>\n",
       "      <td>https://therealdeal.com/miami/2024/11/20/floyd...</td>\n",
       "      <td>NaN</td>\n",
       "      <td>Mayweather, via his</td>\n",
       "      <td>Fojoso LLC, sold the 10,853-square-foot house...</td>\n",
       "      <td>&lt;a href=\"https://therealdeal.com/miami/2024/11...</td>\n",
       "      <td>(25.7811566, -80.1671726)</td>\n",
       "      <td>POINT (-80.16717 25.78116)</td>\n",
       "    </tr>\n",
       "  </tbody>\n",
       "</table>\n",
       "</div>"
      ],
      "text/plain": [
       "                          full_address  \\\n",
       "0    1116 Ocean Drive, Miami Beach, FL   \n",
       "1  288 South Coconut Lane, Miami Beach   \n",
       "\n",
       "                                         description  \\\n",
       "0  The retired boxer turned real estate investor ...   \n",
       "1  Mayweather, via his Fojoso LLC, sold the 10,85...   \n",
       "\n",
       "                                          story_link  alt_link  \\\n",
       "0  https://therealdeal.com/miami/2024/11/21/floyd...       NaN   \n",
       "1  https://therealdeal.com/miami/2024/11/20/floyd...       NaN   \n",
       "\n",
       "     short_description                                     remaining_desc  \\\n",
       "0    The retired boxer   turned real estate investor is partnering wit...   \n",
       "1  Mayweather, via his   Fojoso LLC, sold the 10,853-square-foot house...   \n",
       "\n",
       "                                    description_link  \\\n",
       "0  <a href=\"https://therealdeal.com/miami/2024/11...   \n",
       "1  <a href=\"https://therealdeal.com/miami/2024/11...   \n",
       "\n",
       "                    geocoded                    geometry  \n",
       "0  (25.7818954, -80.1307774)  POINT (-80.13078 25.78190)  \n",
       "1  (25.7811566, -80.1671726)  POINT (-80.16717 25.78116)  "
      ]
     },
     "execution_count": 9,
     "metadata": {},
     "output_type": "execute_result"
    }
   ],
   "source": [
    "# Convert 'geocoded' column into Shapely Point objects\n",
    "df['geometry'] = df['geocoded'].apply(lambda coords: Point(coords[1], coords[0]))\n",
    "\n",
    "# Create a GeoDataFrame\n",
    "gdf = gpd.GeoDataFrame(df, geometry='geometry')\n",
    "\n",
    "# Set the CRS to WGS84 (EPSG:4326)\n",
    "gdf.set_crs(epsg=4326, inplace=True)"
   ]
  },
  {
   "cell_type": "code",
   "execution_count": 10,
   "id": "5bf8893a",
   "metadata": {},
   "outputs": [
    {
     "name": "stderr",
     "output_type": "stream",
     "text": [
      "/var/folders/rq/0_j_rksd7psgdycg9c1qwf6m0000gp/T/ipykernel_60816/2323350875.py:3: FutureWarning: DataFrame.applymap has been deprecated. Use DataFrame.map instead.\n",
      "  gdf = gdf.applymap(lambda x: x.strip() if isinstance(x, str) else x)  # Trim whitespace from string values\n"
     ]
    }
   ],
   "source": [
    "# Strip whitespace from all string columns\n",
    "gdf.columns = gdf.columns.str.strip()  # Trim whitespace from column names\n",
    "gdf = gdf.applymap(lambda x: x.strip() if isinstance(x, str) else x)  # Trim whitespace from string values"
   ]
  },
  {
   "cell_type": "code",
   "execution_count": 11,
   "id": "389be2c6",
   "metadata": {},
   "outputs": [],
   "source": [
    "# Convert all data to strings if possible, or remove complex structures\n",
    "for col in gdf.columns:\n",
    "    if gdf[col].dtype == object:\n",
    "        try:\n",
    "            gdf[col] = gdf[col].astype(str)\n",
    "        except Exception as e:\n",
    "            print(f\"Could not convert column {col}: {e}\")\n",
    "            gdf.drop(columns=[col], inplace=True)\n"
   ]
  },
  {
   "cell_type": "code",
   "execution_count": 12,
   "id": "cab17d01",
   "metadata": {},
   "outputs": [],
   "source": [
    "gdf.to_file('map_data.geojson', driver='GeoJSON')"
   ]
  },
  {
   "cell_type": "code",
   "execution_count": 13,
   "id": "81bf86af",
   "metadata": {},
   "outputs": [
    {
     "name": "stdout",
     "output_type": "stream",
     "text": [
      "https://trd-digital.github.io/trd-news-interactive-maps/MayweatherMapMiami\n"
     ]
    }
   ],
   "source": [
    "base_name = 'https://trd-digital.github.io/trd-news-interactive-maps/'\n",
    "\n",
    "cwd = os.getcwd()\n",
    "\n",
    "cwd = cwd.split('/')\n",
    "\n",
    "final_name = base_name + cwd[-1]\n",
    "print(final_name)"
   ]
  },
  {
   "cell_type": "code",
   "execution_count": 14,
   "id": "17012fae",
   "metadata": {},
   "outputs": [
    {
     "data": {
      "text/plain": [
       "Index(['full_address', 'description', 'story_link', 'alt_link',\n",
       "       'short_description', 'remaining_desc', 'description_link', 'geocoded',\n",
       "       'geometry'],\n",
       "      dtype='object')"
      ]
     },
     "execution_count": 14,
     "metadata": {},
     "output_type": "execute_result"
    }
   ],
   "source": [
    "gdf.columns"
   ]
  },
  {
   "cell_type": "markdown",
   "id": "487c7bf9",
   "metadata": {},
   "source": [
    "<a href=\"https://therealdeal.com/chicago/2024/04/03/david-gassman-sells-chicago-apartment-portfolio-for-72m/\"> 6954 North Sheridan Road, Chicago</a>"
   ]
  }
 ],
 "metadata": {
  "kernelspec": {
   "display_name": "Python 3 (ipykernel)",
   "language": "python",
   "name": "python3"
  },
  "language_info": {
   "codemirror_mode": {
    "name": "ipython",
    "version": 3
   },
   "file_extension": ".py",
   "mimetype": "text/x-python",
   "name": "python",
   "nbconvert_exporter": "python",
   "pygments_lexer": "ipython3",
   "version": "3.9.12"
  }
 },
 "nbformat": 4,
 "nbformat_minor": 5
}
