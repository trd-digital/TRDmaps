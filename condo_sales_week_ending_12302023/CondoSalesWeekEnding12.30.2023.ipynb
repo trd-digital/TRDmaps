{
 "cells": [
  {
   "cell_type": "markdown",
   "metadata": {},
   "source": [
    "## Imports"
   ]
  },
  {
   "cell_type": "code",
   "execution_count": 1,
   "metadata": {},
   "outputs": [],
   "source": [
    "import googlemaps\n",
    "import pandas as pd\n",
    "import numpy as np\n",
    "import re\n",
    "import os\n",
    "import geopandas as gpd\n",
    "import folium\n",
    "import tabula"
   ]
  },
  {
   "cell_type": "markdown",
   "metadata": {},
   "source": [
    "## Read-in"
   ]
  },
  {
   "cell_type": "code",
   "execution_count": 2,
   "metadata": {},
   "outputs": [],
   "source": [
    "# Gotta figure out how to get rid of the java error.\n",
    "# SO: https://stackoverflow.com/questions/54817211/java-command-is-not-found-from-this-python-process-please-ensure-java-is-inst\n",
    "\n",
    "dsf = tabula.read_pdf('condo.pdf', pages='all')"
   ]
  },
  {
   "cell_type": "markdown",
   "metadata": {},
   "source": [
    "## Clean Data"
   ]
  },
  {
   "cell_type": "code",
   "execution_count": 3,
   "metadata": {},
   "outputs": [],
   "source": [
    "df = dsf[0]\n",
    "df.columns = df.iloc[0]\n",
    "df = df[1:]\n",
    "df = df.drop(columns=df.columns[0])\n",
    "df = df.replace(np.nan, 'Not Available', regex=True)\n",
    "df = df.rename(columns={'Building / Address / City': 'building_address_city','Days on\\rMarket':'days_on_market',\\\n",
    "                        'Price /\\rSq. Ft.':'price_per_sqft'})\n",
    "df['building_address_city'] = df['building_address_city'].str.replace('^0', '', regex=True)\n",
    "df['geo_address'] = df['building_address_city']\n",
    "df['geo_address'] = df['geo_address'].map(lambda x: re.sub(r'\\r', ' ', x))\n",
    "df = df.replace('\\n',' ',regex=True)\n",
    "pattern = r'^(?P<building_name>[\\d\\s]*[A-Za-z\\s]+)\\s(?P<address>.+)\\s(?P<city>[A-Za-z\\s]+)$'\n",
    "df2 = df['geo_address']\n",
    "df2 = df2.to_frame()\n",
    "df2[['building_name', 'address', 'city']] = df2['geo_address'].str.extract(pattern, expand=True)"
   ]
  },
  {
   "cell_type": "markdown",
   "metadata": {},
   "source": [
    "Review this later (it's about how to properly merge DFs): https://pandas.pydata.org/pandas-docs/stable/user_guide/merging.html"
   ]
  },
  {
   "cell_type": "markdown",
   "metadata": {},
   "source": [
    "## Geocode"
   ]
  },
  {
   "cell_type": "code",
   "execution_count": 4,
   "metadata": {},
   "outputs": [],
   "source": [
    "result = pd.merge(df,df2,left_index=True, right_index=True)\n",
    "df = result\n",
    "df = df.drop(columns='city')"
   ]
  },
  {
   "cell_type": "code",
   "execution_count": 5,
   "metadata": {},
   "outputs": [],
   "source": [
    "%store -r google_maps_API_Key\n",
    "gmaps_key = googlemaps.Client(key=google_maps_API_Key)"
   ]
  },
  {
   "cell_type": "code",
   "execution_count": 6,
   "metadata": {},
   "outputs": [],
   "source": [
    "def geocode(add):\n",
    "    g = gmaps_key.geocode(add)\n",
    "    lat = g[0][\"geometry\"][\"location\"][\"lat\"]\n",
    "    lng = g[0][\"geometry\"][\"location\"][\"lng\"]\n",
    "    return (lat, lng)\n",
    "\n",
    "df['geocoded'] = df['geo_address_x'].apply(geocode)"
   ]
  },
  {
   "cell_type": "code",
   "execution_count": 7,
   "metadata": {},
   "outputs": [],
   "source": [
    "df['geocoded'] = df['geocoded'].astype(str)\n",
    "df[['lat', 'lon']] = df['geocoded'].str.strip('()').str.split(', ', expand=True)\n",
    "df['lat'] = df['lat'].astype(float)\n",
    "df['lon'] = df['lon'].astype(float)"
   ]
  },
  {
   "cell_type": "markdown",
   "metadata": {},
   "source": [
    "Folium documentation link: https://python-visualization.github.io/folium/index.html\n",
    "\n",
    "Folium is the library that lets us use leaflet with Python, since it's meant to be used with JavaScript.\n",
    "\n",
    "For adding titles: https://stackoverflow.com/questions/61928013/adding-a-title-or-text-to-a-folium-map"
   ]
  },
  {
   "cell_type": "markdown",
   "metadata": {},
   "source": [
    "## Correction section"
   ]
  },
  {
   "cell_type": "code",
   "execution_count": 8,
   "metadata": {},
   "outputs": [],
   "source": [
    "# df.at[index#,'col_name']"
   ]
  },
  {
   "cell_type": "markdown",
   "metadata": {},
   "source": [
    "## Format Data"
   ]
  },
  {
   "cell_type": "code",
   "execution_count": 9,
   "metadata": {},
   "outputs": [],
   "source": [
    "### Insert NaNs if needed ###\n",
    "df = df.replace('N/A', np.nan)"
   ]
  },
  {
   "cell_type": "code",
   "execution_count": 10,
   "metadata": {},
   "outputs": [],
   "source": [
    "df['int_Sale_Price'] = df['Sale Price'].str.replace('$','',regex=False)"
   ]
  },
  {
   "cell_type": "code",
   "execution_count": 11,
   "metadata": {},
   "outputs": [],
   "source": [
    "df['int_Sale_Price'] = df['int_Sale_Price'].str.replace(',','',regex=False)"
   ]
  },
  {
   "cell_type": "code",
   "execution_count": 12,
   "metadata": {},
   "outputs": [],
   "source": [
    "df['int_Sale_Price'] = pd.to_numeric(df['int_Sale_Price'])"
   ]
  },
  {
   "cell_type": "code",
   "execution_count": 13,
   "metadata": {},
   "outputs": [],
   "source": [
    "df['price_per_sqft'] = df['price_per_sqft'].str.replace('$','',regex=False)\n",
    "df['price_per_sqft'] = df['price_per_sqft'].str.replace(',','',regex=False)\n",
    "df['price_per_sqft'] = pd.to_numeric(df['price_per_sqft'])\n",
    "\n",
    "df['days_on_market'] = pd.to_numeric(df['days_on_market'])"
   ]
  },
  {
   "cell_type": "markdown",
   "metadata": {},
   "source": [
    "## Color-code top sale"
   ]
  },
  {
   "cell_type": "code",
   "execution_count": 14,
   "metadata": {},
   "outputs": [],
   "source": [
    "### Insert RANK values ###\n",
    "df['RANK'] = range(1, len(df) + 1)\n",
    "# use numpy to assign values to the 'COLOR' column\n",
    "df['COLOR'] = np.where(df['RANK'] <= 1, 'orange', 'blue')"
   ]
  },
  {
   "cell_type": "markdown",
   "metadata": {},
   "source": [
    "## HTML Popup Formatter"
   ]
  },
  {
   "cell_type": "code",
   "execution_count": 15,
   "metadata": {},
   "outputs": [
    {
     "data": {
      "text/plain": [
       "Index(['building_address_city', 'Close Date', 'days_on_market', 'Sale Price',\n",
       "       'Sq. Ft.', 'price_per_sqft', 'Agent', 'Listing Broker', 'Buyer Agent',\n",
       "       'Buyer Broker', 'geo_address_x', 'geo_address_y', 'building_name',\n",
       "       'address', 'geocoded', 'lat', 'lon', 'int_Sale_Price', 'RANK', 'COLOR'],\n",
       "      dtype='object')"
      ]
     },
     "execution_count": 15,
     "metadata": {},
     "output_type": "execute_result"
    }
   ],
   "source": [
    "df.columns"
   ]
  },
  {
   "cell_type": "code",
   "execution_count": 16,
   "metadata": {},
   "outputs": [],
   "source": [
    "def popup_html(row):\n",
    "    building_name = row['building_name']\n",
    "    price = row['Sale Price']\n",
    "    days_on_market = row['days_on_market']\n",
    "    listing_agent = row['Agent']\n",
    "    buyers_agent = row['Buyer Agent']\n",
    "    psf = row['price_per_sqft']\n",
    "    address = row['address']\n",
    "    \n",
    "    html = '''<!DOCTYPE html>\n",
    "    <html>\n",
    "    <strong>Building Name: </strong>{}'''.format(building_name) + '''<br>\n",
    "    <strong>Sale Price: </strong>{}'''.format(price) + '''<br>\n",
    "    <strong>Days on Market: </strong>{}'''.format(days_on_market) + '''<br>\n",
    "    <strong>Listing Agent: </strong>{}'''.format(listing_agent) + '''<br>\n",
    "    <strong>Buyer's Agent: </strong>{}'''.format(buyers_agent) + '''<br>\n",
    "    <strong>Price sq ft: </strong>${}'''.format(psf) + '''<br>\n",
    "    <strong>Address: </strong>{}'''.format(address) + '''<br>\n",
    "    </html>\n",
    "    '''\n",
    "    return html"
   ]
  },
  {
   "cell_type": "code",
   "execution_count": 17,
   "metadata": {},
   "outputs": [
    {
     "data": {
      "text/html": [
       "<div style=\"width:100%;\"><div style=\"position:relative;width:100%;height:0;padding-bottom:60%;\"><span style=\"color:#565656\">Make this Notebook Trusted to load map: File -> Trust Notebook</span><iframe srcdoc=\"&lt;!DOCTYPE html&gt;\n",
       "&lt;head&gt;    \n",
       "    &lt;meta http-equiv=&quot;content-type&quot; content=&quot;text/html; charset=UTF-8&quot; /&gt;\n",
       "    \n",
       "        &lt;script&gt;\n",
       "            L_NO_TOUCH = false;\n",
       "            L_DISABLE_3D = false;\n",
       "        &lt;/script&gt;\n",
       "    \n",
       "    &lt;style&gt;html, body {width: 100%;height: 100%;margin: 0;padding: 0;}&lt;/style&gt;\n",
       "    &lt;style&gt;#map {position:absolute;top:0;bottom:0;right:0;left:0;}&lt;/style&gt;\n",
       "    &lt;script src=&quot;https://cdn.jsdelivr.net/npm/leaflet@1.6.0/dist/leaflet.js&quot;&gt;&lt;/script&gt;\n",
       "    &lt;script src=&quot;https://code.jquery.com/jquery-1.12.4.min.js&quot;&gt;&lt;/script&gt;\n",
       "    &lt;script src=&quot;https://maxcdn.bootstrapcdn.com/bootstrap/3.2.0/js/bootstrap.min.js&quot;&gt;&lt;/script&gt;\n",
       "    &lt;script src=&quot;https://cdnjs.cloudflare.com/ajax/libs/Leaflet.awesome-markers/2.0.2/leaflet.awesome-markers.js&quot;&gt;&lt;/script&gt;\n",
       "    &lt;link rel=&quot;stylesheet&quot; href=&quot;https://cdn.jsdelivr.net/npm/leaflet@1.6.0/dist/leaflet.css&quot;/&gt;\n",
       "    &lt;link rel=&quot;stylesheet&quot; href=&quot;https://maxcdn.bootstrapcdn.com/bootstrap/3.2.0/css/bootstrap.min.css&quot;/&gt;\n",
       "    &lt;link rel=&quot;stylesheet&quot; href=&quot;https://maxcdn.bootstrapcdn.com/bootstrap/3.2.0/css/bootstrap-theme.min.css&quot;/&gt;\n",
       "    &lt;link rel=&quot;stylesheet&quot; href=&quot;https://maxcdn.bootstrapcdn.com/font-awesome/4.6.3/css/font-awesome.min.css&quot;/&gt;\n",
       "    &lt;link rel=&quot;stylesheet&quot; href=&quot;https://cdnjs.cloudflare.com/ajax/libs/Leaflet.awesome-markers/2.0.2/leaflet.awesome-markers.css&quot;/&gt;\n",
       "    &lt;link rel=&quot;stylesheet&quot; href=&quot;https://cdn.jsdelivr.net/gh/python-visualization/folium/folium/templates/leaflet.awesome.rotate.min.css&quot;/&gt;\n",
       "    \n",
       "            &lt;meta name=&quot;viewport&quot; content=&quot;width=device-width,\n",
       "                initial-scale=1.0, maximum-scale=1.0, user-scalable=no&quot; /&gt;\n",
       "            &lt;style&gt;\n",
       "                #map_49a4ab0eae6f0f86a946928f30230a41 {\n",
       "                    position: relative;\n",
       "                    width: 100.0%;\n",
       "                    height: 100.0%;\n",
       "                    left: 0.0%;\n",
       "                    top: 0.0%;\n",
       "                }\n",
       "            &lt;/style&gt;\n",
       "        \n",
       "&lt;/head&gt;\n",
       "&lt;body&gt;    \n",
       "    \n",
       "              &lt;h3 align=&quot;center&quot; style=&quot;font-size:16px&quot;&gt;&lt;b&gt;Recent Miami-Dade Condo Sales &lt;/b&gt;&lt;/h3&gt;\n",
       "             \n",
       "    \n",
       "                &lt;p align=&quot;center&quot; style=&quot;vertical-align: bottom; font-size:13px&quot;&gt;&lt;i&gt;November 26th - December 2nd&lt;/i&gt;&lt;/p&gt;\n",
       "                \n",
       "    \n",
       "            &lt;div class=&quot;folium-map&quot; id=&quot;map_49a4ab0eae6f0f86a946928f30230a41&quot; &gt;&lt;/div&gt;\n",
       "        \n",
       "&lt;/body&gt;\n",
       "&lt;script&gt;    \n",
       "    \n",
       "            var map_49a4ab0eae6f0f86a946928f30230a41 = L.map(\n",
       "                &quot;map_49a4ab0eae6f0f86a946928f30230a41&quot;,\n",
       "                {\n",
       "                    center: [25.82049668999999, -80.15821254],\n",
       "                    crs: L.CRS.EPSG3857,\n",
       "                    zoom: 9.5,\n",
       "                    zoomControl: true,\n",
       "                    preferCanvas: false,\n",
       "                }\n",
       "            );\n",
       "\n",
       "            \n",
       "\n",
       "        \n",
       "    \n",
       "            var feature_group_6e7a66b915d096d58585aec082c31d7e = L.featureGroup(\n",
       "                {}\n",
       "            ).addTo(map_49a4ab0eae6f0f86a946928f30230a41);\n",
       "        \n",
       "    \n",
       "            var marker_34fd46e071bf04683ad4fa07ef6bcc7c = L.marker(\n",
       "                [25.7873169, -80.1293566],\n",
       "                {&quot;fill&quot;: true, &quot;radius&quot;: 5}\n",
       "            ).addTo(feature_group_6e7a66b915d096d58585aec082c31d7e);\n",
       "        \n",
       "    \n",
       "            var icon_38f25ae636d583dd2a911a330f85bf4b = L.AwesomeMarkers.icon(\n",
       "                {&quot;extraClasses&quot;: &quot;fa-rotate-0&quot;, &quot;icon&quot;: &quot;info-sign&quot;, &quot;iconColor&quot;: &quot;white&quot;, &quot;markerColor&quot;: &quot;orange&quot;, &quot;prefix&quot;: &quot;glyphicon&quot;}\n",
       "            );\n",
       "            marker_34fd46e071bf04683ad4fa07ef6bcc7c.setIcon(icon_38f25ae636d583dd2a911a330f85bf4b);\n",
       "        \n",
       "    \n",
       "        var popup_f3eb092fffaa1b75cf36af2e03dd7952 = L.popup({&quot;maxWidth&quot;: 400});\n",
       "\n",
       "        \n",
       "            \n",
       "                var html_5941b1fa3dd6aaa1229095118b2f82ea = $(`&lt;div id=&quot;html_5941b1fa3dd6aaa1229095118b2f82ea&quot; style=&quot;width: 100.0%; height: 100.0%;&quot;&gt;&lt;!DOCTYPE html&gt;     &lt;html&gt;     &lt;strong&gt;Building Name: &lt;/strong&gt;Il Villaggio&lt;br&gt;     &lt;strong&gt;Sale Price: &lt;/strong&gt;$4,650,000.00&lt;br&gt;     &lt;strong&gt;Days on Market: &lt;/strong&gt;78&lt;br&gt;     &lt;strong&gt;Listing Agent: &lt;/strong&gt;Eloy Carmenate&lt;br&gt;     &lt;strong&gt;Buyer&#x27;s Agent: &lt;/strong&gt;Lisa Van Wagenen&lt;br&gt;     &lt;strong&gt;Price sq ft: &lt;/strong&gt;$2066.67&lt;br&gt;     &lt;strong&gt;Address: &lt;/strong&gt;1455 Ocean Dr 1609 Miami&lt;br&gt;     &lt;/html&gt;     &lt;/div&gt;`)[0];\n",
       "                popup_f3eb092fffaa1b75cf36af2e03dd7952.setContent(html_5941b1fa3dd6aaa1229095118b2f82ea);\n",
       "            \n",
       "        \n",
       "\n",
       "        marker_34fd46e071bf04683ad4fa07ef6bcc7c.bindPopup(popup_f3eb092fffaa1b75cf36af2e03dd7952)\n",
       "        ;\n",
       "\n",
       "        \n",
       "    \n",
       "    \n",
       "            var feature_group_1caa170b69fb9c67dd7802c234d32ea1 = L.featureGroup(\n",
       "                {}\n",
       "            ).addTo(map_49a4ab0eae6f0f86a946928f30230a41);\n",
       "        \n",
       "    \n",
       "            var marker_f61dd6c5bf5e659c5f49d12f4e0aaa90 = L.marker(\n",
       "                [25.7689974, -80.18854999999999],\n",
       "                {&quot;fill&quot;: true, &quot;radius&quot;: 5}\n",
       "            ).addTo(feature_group_1caa170b69fb9c67dd7802c234d32ea1);\n",
       "        \n",
       "    \n",
       "            var icon_d4d29a91b951431a9ec1fb98155044d2 = L.AwesomeMarkers.icon(\n",
       "                {&quot;extraClasses&quot;: &quot;fa-rotate-0&quot;, &quot;icon&quot;: &quot;info-sign&quot;, &quot;iconColor&quot;: &quot;white&quot;, &quot;markerColor&quot;: &quot;blue&quot;, &quot;prefix&quot;: &quot;glyphicon&quot;}\n",
       "            );\n",
       "            marker_f61dd6c5bf5e659c5f49d12f4e0aaa90.setIcon(icon_d4d29a91b951431a9ec1fb98155044d2);\n",
       "        \n",
       "    \n",
       "        var popup_55e077a1b6d30511949192adc0bf6dd8 = L.popup({&quot;maxWidth&quot;: 400});\n",
       "\n",
       "        \n",
       "            \n",
       "                var html_afbd45e14bd44a7933b883d076d0b402 = $(`&lt;div id=&quot;html_afbd45e14bd44a7933b883d076d0b402&quot; style=&quot;width: 100.0%; height: 100.0%;&quot;&gt;&lt;!DOCTYPE html&gt;     &lt;html&gt;     &lt;strong&gt;Building Name: &lt;/strong&gt;Icon Brickell&lt;br&gt;     &lt;strong&gt;Sale Price: &lt;/strong&gt;$1,200,000.00&lt;br&gt;     &lt;strong&gt;Days on Market: &lt;/strong&gt;84&lt;br&gt;     &lt;strong&gt;Listing Agent: &lt;/strong&gt;Talita Pinheiro&lt;br&gt;     &lt;strong&gt;Buyer&#x27;s Agent: &lt;/strong&gt;Stephanie Bienstock&lt;br&gt;     &lt;strong&gt;Price sq ft: &lt;/strong&gt;$913.94&lt;br&gt;     &lt;strong&gt;Address: &lt;/strong&gt;465 Brickell Ave 2603&lt;br&gt;     &lt;/html&gt;     &lt;/div&gt;`)[0];\n",
       "                popup_55e077a1b6d30511949192adc0bf6dd8.setContent(html_afbd45e14bd44a7933b883d076d0b402);\n",
       "            \n",
       "        \n",
       "\n",
       "        marker_f61dd6c5bf5e659c5f49d12f4e0aaa90.bindPopup(popup_55e077a1b6d30511949192adc0bf6dd8)\n",
       "        ;\n",
       "\n",
       "        \n",
       "    \n",
       "    \n",
       "            var marker_bfb653231d4e154fde58ea5defcc41ff = L.marker(\n",
       "                [25.699304, -80.157096],\n",
       "                {&quot;fill&quot;: true, &quot;radius&quot;: 5}\n",
       "            ).addTo(feature_group_1caa170b69fb9c67dd7802c234d32ea1);\n",
       "        \n",
       "    \n",
       "            var icon_17c0fdf8a95cfa5ffea113ce5f080ce3 = L.AwesomeMarkers.icon(\n",
       "                {&quot;extraClasses&quot;: &quot;fa-rotate-0&quot;, &quot;icon&quot;: &quot;info-sign&quot;, &quot;iconColor&quot;: &quot;white&quot;, &quot;markerColor&quot;: &quot;blue&quot;, &quot;prefix&quot;: &quot;glyphicon&quot;}\n",
       "            );\n",
       "            marker_bfb653231d4e154fde58ea5defcc41ff.setIcon(icon_17c0fdf8a95cfa5ffea113ce5f080ce3);\n",
       "        \n",
       "    \n",
       "        var popup_1efc03361d28ce6fb21c9c9b10068fe0 = L.popup({&quot;maxWidth&quot;: 400});\n",
       "\n",
       "        \n",
       "            \n",
       "                var html_3da71d96fc2987c3b574825762db9bad = $(`&lt;div id=&quot;html_3da71d96fc2987c3b574825762db9bad&quot; style=&quot;width: 100.0%; height: 100.0%;&quot;&gt;&lt;!DOCTYPE html&gt;     &lt;html&gt;     &lt;strong&gt;Building Name: &lt;/strong&gt;Commodore Club South Condo&lt;br&gt;     &lt;strong&gt;Sale Price: &lt;/strong&gt;$1,175,000.00&lt;br&gt;     &lt;strong&gt;Days on Market: &lt;/strong&gt;9&lt;br&gt;     &lt;strong&gt;Listing Agent: &lt;/strong&gt;Silvia Caicedo&lt;br&gt;     &lt;strong&gt;Buyer&#x27;s Agent: &lt;/strong&gt;Angela Langlois&lt;br&gt;     &lt;strong&gt;Price sq ft: &lt;/strong&gt;$932.54&lt;br&gt;     &lt;strong&gt;Address: &lt;/strong&gt;199 Ocean Lane Dr 812 Key&lt;br&gt;     &lt;/html&gt;     &lt;/div&gt;`)[0];\n",
       "                popup_1efc03361d28ce6fb21c9c9b10068fe0.setContent(html_3da71d96fc2987c3b574825762db9bad);\n",
       "            \n",
       "        \n",
       "\n",
       "        marker_bfb653231d4e154fde58ea5defcc41ff.bindPopup(popup_1efc03361d28ce6fb21c9c9b10068fe0)\n",
       "        ;\n",
       "\n",
       "        \n",
       "    \n",
       "    \n",
       "            var marker_bcbc66133b59f1a73c840fbaf6dac996 = L.marker(\n",
       "                [25.8071448, -80.1856208],\n",
       "                {&quot;fill&quot;: true, &quot;radius&quot;: 5}\n",
       "            ).addTo(feature_group_1caa170b69fb9c67dd7802c234d32ea1);\n",
       "        \n",
       "    \n",
       "            var icon_699f132b993f97a162bc1746520f03f6 = L.AwesomeMarkers.icon(\n",
       "                {&quot;extraClasses&quot;: &quot;fa-rotate-0&quot;, &quot;icon&quot;: &quot;info-sign&quot;, &quot;iconColor&quot;: &quot;white&quot;, &quot;markerColor&quot;: &quot;blue&quot;, &quot;prefix&quot;: &quot;glyphicon&quot;}\n",
       "            );\n",
       "            marker_bcbc66133b59f1a73c840fbaf6dac996.setIcon(icon_699f132b993f97a162bc1746520f03f6);\n",
       "        \n",
       "    \n",
       "        var popup_ae9632f464069dd1c4eb23e74afcbb7b = L.popup({&quot;maxWidth&quot;: 400});\n",
       "\n",
       "        \n",
       "            \n",
       "                var html_b2aea045cbbcad4791ce35291704969d = $(`&lt;div id=&quot;html_b2aea045cbbcad4791ce35291704969d&quot; style=&quot;width: 100.0%; height: 100.0%;&quot;&gt;&lt;!DOCTYPE html&gt;     &lt;html&gt;     &lt;strong&gt;Building Name: &lt;/strong&gt;One Paraiso&lt;br&gt;     &lt;strong&gt;Sale Price: &lt;/strong&gt;$1,025,000.00&lt;br&gt;     &lt;strong&gt;Days on Market: &lt;/strong&gt;108&lt;br&gt;     &lt;strong&gt;Listing Agent: &lt;/strong&gt;Fabrizio Passatore&lt;br&gt;     &lt;strong&gt;Buyer&#x27;s Agent: &lt;/strong&gt;Iman Ajlani&lt;br&gt;     &lt;strong&gt;Price sq ft: &lt;/strong&gt;$942.1&lt;br&gt;     &lt;strong&gt;Address: &lt;/strong&gt;3131 NE 7th Ave 4205&lt;br&gt;     &lt;/html&gt;     &lt;/div&gt;`)[0];\n",
       "                popup_ae9632f464069dd1c4eb23e74afcbb7b.setContent(html_b2aea045cbbcad4791ce35291704969d);\n",
       "            \n",
       "        \n",
       "\n",
       "        marker_bcbc66133b59f1a73c840fbaf6dac996.bindPopup(popup_ae9632f464069dd1c4eb23e74afcbb7b)\n",
       "        ;\n",
       "\n",
       "        \n",
       "    \n",
       "    \n",
       "            var marker_0ea590e2950af2eb66066c72a71398ad = L.marker(\n",
       "                [25.767054, -80.18486209999999],\n",
       "                {&quot;fill&quot;: true, &quot;radius&quot;: 5}\n",
       "            ).addTo(feature_group_1caa170b69fb9c67dd7802c234d32ea1);\n",
       "        \n",
       "    \n",
       "            var icon_ed95761aa5a3c6965c2ecdcc8bffeed5 = L.AwesomeMarkers.icon(\n",
       "                {&quot;extraClasses&quot;: &quot;fa-rotate-0&quot;, &quot;icon&quot;: &quot;info-sign&quot;, &quot;iconColor&quot;: &quot;white&quot;, &quot;markerColor&quot;: &quot;blue&quot;, &quot;prefix&quot;: &quot;glyphicon&quot;}\n",
       "            );\n",
       "            marker_0ea590e2950af2eb66066c72a71398ad.setIcon(icon_ed95761aa5a3c6965c2ecdcc8bffeed5);\n",
       "        \n",
       "    \n",
       "        var popup_0ef02b2940062d0389aae5d00654be0d = L.popup({&quot;maxWidth&quot;: 400});\n",
       "\n",
       "        \n",
       "            \n",
       "                var html_b621805d38115d5d4a9dc84fad13afff = $(`&lt;div id=&quot;html_b621805d38115d5d4a9dc84fad13afff&quot; style=&quot;width: 100.0%; height: 100.0%;&quot;&gt;&lt;!DOCTYPE html&gt;     &lt;html&gt;     &lt;strong&gt;Building Name: &lt;/strong&gt;Brickell Key One&lt;br&gt;     &lt;strong&gt;Sale Price: &lt;/strong&gt;$1,000,000.00&lt;br&gt;     &lt;strong&gt;Days on Market: &lt;/strong&gt;191&lt;br&gt;     &lt;strong&gt;Listing Agent: &lt;/strong&gt;Jacqueline Bonnet&lt;br&gt;     &lt;strong&gt;Buyer&#x27;s Agent: &lt;/strong&gt;Mustafa Altinok&lt;br&gt;     &lt;strong&gt;Price sq ft: &lt;/strong&gt;$554.63&lt;br&gt;     &lt;strong&gt;Address: &lt;/strong&gt;520 Brickell Key Dr A904&lt;br&gt;     &lt;/html&gt;     &lt;/div&gt;`)[0];\n",
       "                popup_0ef02b2940062d0389aae5d00654be0d.setContent(html_b621805d38115d5d4a9dc84fad13afff);\n",
       "            \n",
       "        \n",
       "\n",
       "        marker_0ea590e2950af2eb66066c72a71398ad.bindPopup(popup_0ef02b2940062d0389aae5d00654be0d)\n",
       "        ;\n",
       "\n",
       "        \n",
       "    \n",
       "    \n",
       "            var marker_daeb1f2bdcdedaf62783753ef16bc2f3 = L.marker(\n",
       "                [25.948838, -80.13991399999999],\n",
       "                {&quot;fill&quot;: true, &quot;radius&quot;: 5}\n",
       "            ).addTo(feature_group_1caa170b69fb9c67dd7802c234d32ea1);\n",
       "        \n",
       "    \n",
       "            var icon_d3590eb8f41bc95d8c784c5846449558 = L.AwesomeMarkers.icon(\n",
       "                {&quot;extraClasses&quot;: &quot;fa-rotate-0&quot;, &quot;icon&quot;: &quot;info-sign&quot;, &quot;iconColor&quot;: &quot;white&quot;, &quot;markerColor&quot;: &quot;blue&quot;, &quot;prefix&quot;: &quot;glyphicon&quot;}\n",
       "            );\n",
       "            marker_daeb1f2bdcdedaf62783753ef16bc2f3.setIcon(icon_d3590eb8f41bc95d8c784c5846449558);\n",
       "        \n",
       "    \n",
       "        var popup_c7a4bb2784381b9485473beefa3e674b = L.popup({&quot;maxWidth&quot;: 400});\n",
       "\n",
       "        \n",
       "            \n",
       "                var html_60c0fd2ce0f43e836b246c52f87b2972 = $(`&lt;div id=&quot;html_60c0fd2ce0f43e836b246c52f87b2972&quot; style=&quot;width: 100.0%; height: 100.0%;&quot;&gt;&lt;!DOCTYPE html&gt;     &lt;html&gt;     &lt;strong&gt;Building Name: &lt;/strong&gt;Artech&lt;br&gt;     &lt;strong&gt;Sale Price: &lt;/strong&gt;$960,000.00&lt;br&gt;     &lt;strong&gt;Days on Market: &lt;/strong&gt;119&lt;br&gt;     &lt;strong&gt;Listing Agent: &lt;/strong&gt;Valeriya Hafner&lt;br&gt;     &lt;strong&gt;Buyer&#x27;s Agent: &lt;/strong&gt;Valeriya Hafner&lt;br&gt;     &lt;strong&gt;Price sq ft: &lt;/strong&gt;$426.1&lt;br&gt;     &lt;strong&gt;Address: &lt;/strong&gt;2950 NE 188th St 510&lt;br&gt;     &lt;/html&gt;     &lt;/div&gt;`)[0];\n",
       "                popup_c7a4bb2784381b9485473beefa3e674b.setContent(html_60c0fd2ce0f43e836b246c52f87b2972);\n",
       "            \n",
       "        \n",
       "\n",
       "        marker_daeb1f2bdcdedaf62783753ef16bc2f3.bindPopup(popup_c7a4bb2784381b9485473beefa3e674b)\n",
       "        ;\n",
       "\n",
       "        \n",
       "    \n",
       "    \n",
       "            var marker_50b319c39b0e54b6e2053fe8dbe5abef = L.marker(\n",
       "                [25.8068939, -80.1862582],\n",
       "                {&quot;fill&quot;: true, &quot;radius&quot;: 5}\n",
       "            ).addTo(feature_group_1caa170b69fb9c67dd7802c234d32ea1);\n",
       "        \n",
       "    \n",
       "            var icon_924d844e3f47515a5d2580f95b5fff64 = L.AwesomeMarkers.icon(\n",
       "                {&quot;extraClasses&quot;: &quot;fa-rotate-0&quot;, &quot;icon&quot;: &quot;info-sign&quot;, &quot;iconColor&quot;: &quot;white&quot;, &quot;markerColor&quot;: &quot;blue&quot;, &quot;prefix&quot;: &quot;glyphicon&quot;}\n",
       "            );\n",
       "            marker_50b319c39b0e54b6e2053fe8dbe5abef.setIcon(icon_924d844e3f47515a5d2580f95b5fff64);\n",
       "        \n",
       "    \n",
       "        var popup_f53f678b585696631bd766f862c0fff0 = L.popup({&quot;maxWidth&quot;: 400});\n",
       "\n",
       "        \n",
       "            \n",
       "                var html_74391d27c4161edb223f73d837bbf9ac = $(`&lt;div id=&quot;html_74391d27c4161edb223f73d837bbf9ac&quot; style=&quot;width: 100.0%; height: 100.0%;&quot;&gt;&lt;!DOCTYPE html&gt;     &lt;html&gt;     &lt;strong&gt;Building Name: &lt;/strong&gt;Paraiso Bay&lt;br&gt;     &lt;strong&gt;Sale Price: &lt;/strong&gt;$960,000.00&lt;br&gt;     &lt;strong&gt;Days on Market: &lt;/strong&gt;24&lt;br&gt;     &lt;strong&gt;Listing Agent: &lt;/strong&gt;Maria Davila PA&lt;br&gt;     &lt;strong&gt;Buyer&#x27;s Agent: &lt;/strong&gt;Carolina Lara-Arashiro&lt;br&gt;     &lt;strong&gt;Price sq ft: &lt;/strong&gt;$804.69&lt;br&gt;     &lt;strong&gt;Address: &lt;/strong&gt;650 NE 32 St 2404&lt;br&gt;     &lt;/html&gt;     &lt;/div&gt;`)[0];\n",
       "                popup_f53f678b585696631bd766f862c0fff0.setContent(html_74391d27c4161edb223f73d837bbf9ac);\n",
       "            \n",
       "        \n",
       "\n",
       "        marker_50b319c39b0e54b6e2053fe8dbe5abef.bindPopup(popup_f53f678b585696631bd766f862c0fff0)\n",
       "        ;\n",
       "\n",
       "        \n",
       "    \n",
       "    \n",
       "            var marker_a143e6cc591eb4c5432e0619270f360b = L.marker(\n",
       "                [25.9498957, -80.1384516],\n",
       "                {&quot;fill&quot;: true, &quot;radius&quot;: 5}\n",
       "            ).addTo(feature_group_1caa170b69fb9c67dd7802c234d32ea1);\n",
       "        \n",
       "    \n",
       "            var icon_ddadae462a9c3187fafe0896efc3f0c8 = L.AwesomeMarkers.icon(\n",
       "                {&quot;extraClasses&quot;: &quot;fa-rotate-0&quot;, &quot;icon&quot;: &quot;info-sign&quot;, &quot;iconColor&quot;: &quot;white&quot;, &quot;markerColor&quot;: &quot;blue&quot;, &quot;prefix&quot;: &quot;glyphicon&quot;}\n",
       "            );\n",
       "            marker_a143e6cc591eb4c5432e0619270f360b.setIcon(icon_ddadae462a9c3187fafe0896efc3f0c8);\n",
       "        \n",
       "    \n",
       "        var popup_1ed5f4829d3413995ba212f45857d9bd = L.popup({&quot;maxWidth&quot;: 400});\n",
       "\n",
       "        \n",
       "            \n",
       "                var html_9c1ee320d8eb39b064746c08cc130c70 = $(`&lt;div id=&quot;html_9c1ee320d8eb39b064746c08cc130c70&quot; style=&quot;width: 100.0%; height: 100.0%;&quot;&gt;&lt;!DOCTYPE html&gt;     &lt;html&gt;     &lt;strong&gt;Building Name: &lt;/strong&gt;The Atrium at Aventura&lt;br&gt;     &lt;strong&gt;Sale Price: &lt;/strong&gt;$950,000.00&lt;br&gt;     &lt;strong&gt;Days on Market: &lt;/strong&gt;26&lt;br&gt;     &lt;strong&gt;Listing Agent: &lt;/strong&gt;Nadejda Damian&lt;br&gt;     &lt;strong&gt;Buyer&#x27;s Agent: &lt;/strong&gt;Guillermo Rosman&lt;br&gt;     &lt;strong&gt;Price sq ft: &lt;/strong&gt;$527.78&lt;br&gt;     &lt;strong&gt;Address: &lt;/strong&gt;3131 NE 188th St 1-1212&lt;br&gt;     &lt;/html&gt;     &lt;/div&gt;`)[0];\n",
       "                popup_1ed5f4829d3413995ba212f45857d9bd.setContent(html_9c1ee320d8eb39b064746c08cc130c70);\n",
       "            \n",
       "        \n",
       "\n",
       "        marker_a143e6cc591eb4c5432e0619270f360b.bindPopup(popup_1ed5f4829d3413995ba212f45857d9bd)\n",
       "        ;\n",
       "\n",
       "        \n",
       "    \n",
       "    \n",
       "            var marker_89d5e6dbf70e5c3522221a3eec683d2c = L.marker(\n",
       "                [25.8885049, -80.1295143],\n",
       "                {&quot;fill&quot;: true, &quot;radius&quot;: 5}\n",
       "            ).addTo(feature_group_1caa170b69fb9c67dd7802c234d32ea1);\n",
       "        \n",
       "    \n",
       "            var icon_b5be88263067f10e53c90c3f1c6e85c8 = L.AwesomeMarkers.icon(\n",
       "                {&quot;extraClasses&quot;: &quot;fa-rotate-0&quot;, &quot;icon&quot;: &quot;info-sign&quot;, &quot;iconColor&quot;: &quot;white&quot;, &quot;markerColor&quot;: &quot;blue&quot;, &quot;prefix&quot;: &quot;glyphicon&quot;}\n",
       "            );\n",
       "            marker_89d5e6dbf70e5c3522221a3eec683d2c.setIcon(icon_b5be88263067f10e53c90c3f1c6e85c8);\n",
       "        \n",
       "    \n",
       "        var popup_eb492cb04af1794080b9ce40a7163ad3 = L.popup({&quot;maxWidth&quot;: 400});\n",
       "\n",
       "        \n",
       "            \n",
       "                var html_e6beb927bb2a449502714ca164461e18 = $(`&lt;div id=&quot;html_e6beb927bb2a449502714ca164461e18&quot; style=&quot;width: 100.0%; height: 100.0%;&quot;&gt;&lt;!DOCTYPE html&gt;     &lt;html&gt;     &lt;strong&gt;Building Name: &lt;/strong&gt;Carroll Walk Condo&lt;br&gt;     &lt;strong&gt;Sale Price: &lt;/strong&gt;$945,000.00&lt;br&gt;     &lt;strong&gt;Days on Market: &lt;/strong&gt;15&lt;br&gt;     &lt;strong&gt;Listing Agent: &lt;/strong&gt;Oscar Teran&lt;br&gt;     &lt;strong&gt;Buyer&#x27;s Agent: &lt;/strong&gt;Adam Ziefer&lt;br&gt;     &lt;strong&gt;Price sq ft: &lt;/strong&gt;$626.66&lt;br&gt;     &lt;strong&gt;Address: &lt;/strong&gt;9751 E Bay Harbor Dr 7C Bay Harbor&lt;br&gt;     &lt;/html&gt;     &lt;/div&gt;`)[0];\n",
       "                popup_eb492cb04af1794080b9ce40a7163ad3.setContent(html_e6beb927bb2a449502714ca164461e18);\n",
       "            \n",
       "        \n",
       "\n",
       "        marker_89d5e6dbf70e5c3522221a3eec683d2c.bindPopup(popup_eb492cb04af1794080b9ce40a7163ad3)\n",
       "        ;\n",
       "\n",
       "        \n",
       "    \n",
       "    \n",
       "            var marker_d536ee1cccc083f1ed4ad7ae7f571eac = L.marker(\n",
       "                [25.7810173, -80.14250179999999],\n",
       "                {&quot;fill&quot;: true, &quot;radius&quot;: 5}\n",
       "            ).addTo(feature_group_1caa170b69fb9c67dd7802c234d32ea1);\n",
       "        \n",
       "    \n",
       "            var icon_dbab88b29ec99318be2d81a924825840 = L.AwesomeMarkers.icon(\n",
       "                {&quot;extraClasses&quot;: &quot;fa-rotate-0&quot;, &quot;icon&quot;: &quot;info-sign&quot;, &quot;iconColor&quot;: &quot;white&quot;, &quot;markerColor&quot;: &quot;blue&quot;, &quot;prefix&quot;: &quot;glyphicon&quot;}\n",
       "            );\n",
       "            marker_d536ee1cccc083f1ed4ad7ae7f571eac.setIcon(icon_dbab88b29ec99318be2d81a924825840);\n",
       "        \n",
       "    \n",
       "        var popup_2860ad84582c1dae1ff694dc92de3c6e = L.popup({&quot;maxWidth&quot;: 400});\n",
       "\n",
       "        \n",
       "            \n",
       "                var html_dc3d5fff61d4bd3034e0b3145386d040 = $(`&lt;div id=&quot;html_dc3d5fff61d4bd3034e0b3145386d040&quot; style=&quot;width: 100.0%; height: 100.0%;&quot;&gt;&lt;!DOCTYPE html&gt;     &lt;html&gt;     &lt;strong&gt;Building Name: &lt;/strong&gt;Mirador&lt;br&gt;     &lt;strong&gt;Sale Price: &lt;/strong&gt;$935,000.00&lt;br&gt;     &lt;strong&gt;Days on Market: &lt;/strong&gt;29&lt;br&gt;     &lt;strong&gt;Listing Agent: &lt;/strong&gt;Jamie Manburg&lt;br&gt;     &lt;strong&gt;Buyer&#x27;s Agent: &lt;/strong&gt;Madison Clivilles&lt;br&gt;     &lt;strong&gt;Price sq ft: &lt;/strong&gt;$781.12&lt;br&gt;     &lt;strong&gt;Address: &lt;/strong&gt;1000 1000 West Ave PH25 Miami&lt;br&gt;     &lt;/html&gt;     &lt;/div&gt;`)[0];\n",
       "                popup_2860ad84582c1dae1ff694dc92de3c6e.setContent(html_dc3d5fff61d4bd3034e0b3145386d040);\n",
       "            \n",
       "        \n",
       "\n",
       "        marker_d536ee1cccc083f1ed4ad7ae7f571eac.bindPopup(popup_2860ad84582c1dae1ff694dc92de3c6e)\n",
       "        ;\n",
       "\n",
       "        \n",
       "    \n",
       "    \n",
       "            var tile_layer_29e6559b1b434aaaa54cc5237fedd3ba = L.tileLayer(\n",
       "                &quot;https://{s}.tile.openstreetmap.org/{z}/{x}/{y}.png&quot;,\n",
       "                {&quot;attribution&quot;: &quot;Data by \\u0026copy; \\u003ca href=\\&quot;http://openstreetmap.org\\&quot;\\u003eOpenStreetMap\\u003c/a\\u003e, under \\u003ca href=\\&quot;http://www.openstreetmap.org/copyright\\&quot;\\u003eODbL\\u003c/a\\u003e.&quot;, &quot;detectRetina&quot;: false, &quot;maxNativeZoom&quot;: 18, &quot;maxZoom&quot;: 18, &quot;minZoom&quot;: 0, &quot;noWrap&quot;: false, &quot;opacity&quot;: 1, &quot;subdomains&quot;: &quot;abc&quot;, &quot;tms&quot;: false}\n",
       "            ).addTo(map_49a4ab0eae6f0f86a946928f30230a41);\n",
       "        \n",
       "    \n",
       "            var layer_control_9b0796bac25f5db8a13f340c9a303fc0 = {\n",
       "                base_layers : {\n",
       "                },\n",
       "                overlays :  {\n",
       "                    &quot;Top Sale&quot; : feature_group_6e7a66b915d096d58585aec082c31d7e,\n",
       "                    &quot;All other sales&quot; : feature_group_1caa170b69fb9c67dd7802c234d32ea1,\n",
       "                },\n",
       "            };\n",
       "            L.control.layers(\n",
       "                layer_control_9b0796bac25f5db8a13f340c9a303fc0.base_layers,\n",
       "                layer_control_9b0796bac25f5db8a13f340c9a303fc0.overlays,\n",
       "                {&quot;autoZIndex&quot;: true, &quot;collapsed&quot;: false, &quot;position&quot;: &quot;topright&quot;}\n",
       "            ).addTo(map_49a4ab0eae6f0f86a946928f30230a41);\n",
       "        \n",
       "&lt;/script&gt;\" style=\"position:absolute;width:100%;height:100%;left:0;top:0;border:none !important;\" allowfullscreen webkitallowfullscreen mozallowfullscreen></iframe></div></div>"
      ],
      "text/plain": [
       "<folium.folium.Map at 0x7fd7ba4f3c10>"
      ]
     },
     "execution_count": 17,
     "metadata": {},
     "output_type": "execute_result"
    }
   ],
   "source": [
    "import folium\n",
    "from folium.plugins import MarkerCluster\n",
    "\n",
    "m = folium.Map(location=df[[\"lat\", \"lon\"]].mean().to_list(), zoom_start=10)\n",
    "\n",
    "title_html = '''\n",
    "              <h3 align=\"center\" style=\"font-size:16px\"><b>{}</b></h3>\n",
    "             '''.format(f'Recent Miami-Dade Condo Sales ')\n",
    "\n",
    "caption_html = '''\n",
    "                <p align=\"center\" style=\"vertical-align: bottom; font-size:13px\"><i>{}</i></p>\n",
    "                '''.format('November 26th - December 2nd')\n",
    "\n",
    "\n",
    "### Create map container ###\n",
    "m = folium.Map(location=df[[\"lat\", \"lon\"]].mean().to_list(),zoom_start=9.5,tiles=None)\n",
    "\n",
    "# Create two FeatureGroups for different color pins\n",
    "fg_blue = folium.FeatureGroup(name='All other sales')\n",
    "fg_orange = folium.FeatureGroup(name='Top Sale')\n",
    "\n",
    "for index, row in df.iterrows():\n",
    "    # Add the markers to the appropriate FeatureGroup based on the color\n",
    "    if row['COLOR'] == 'blue':\n",
    "        marker = folium.Marker(\n",
    "            location=[row['lat'], row['lon']],\n",
    "            radius=5,\n",
    "            fill=True,\n",
    "            icon=folium.Icon(color=row['COLOR']),\n",
    "            popup=folium.Popup(popup_html(row), max_width=400))\n",
    "        marker.add_to(fg_blue)\n",
    "    else:\n",
    "        marker = folium.Marker(\n",
    "            location=[row['lat'], row['lon']],\n",
    "            radius=5,\n",
    "            fill=True,\n",
    "            icon=folium.Icon(color=row['COLOR']),\n",
    "            popup=folium.Popup(popup_html(row), max_width=400))\n",
    "        marker.add_to(fg_orange)\n",
    "\n",
    "# Add the FeatureGroups to the map\n",
    "fg_orange.add_to(m)\n",
    "fg_blue.add_to(m)\n",
    "\n",
    "folium.TileLayer('OpenStreetMap',control=False).add_to(m)\n",
    "\n",
    "# Add LayerControl to the map\n",
    "folium.map.LayerControl(collapsed=False).add_to(m)\n",
    "m.get_root().html.add_child(folium.Element(title_html))\n",
    "m.get_root().html.add_child(folium.Element(caption_html))\n",
    "            \n",
    "# Display map\n",
    "m"
   ]
  },
  {
   "cell_type": "code",
   "execution_count": 18,
   "metadata": {},
   "outputs": [],
   "source": [
    "m.save('index.html')"
   ]
  },
  {
   "cell_type": "markdown",
   "metadata": {},
   "source": [
    "## Data snagger"
   ]
  },
  {
   "cell_type": "code",
   "execution_count": 19,
   "metadata": {},
   "outputs": [],
   "source": [
    "### Set up formatting ###\n",
    "BR = '\\n'\n",
    "\n",
    "ME = '\\033[1m' + 'Most Expensive' + '\\033[0m'\n",
    "LE = '\\033[1m' + 'Least Expensive' + '\\033[0m'\n",
    "\n",
    "MAX_PSF = '\\033[1m' + 'Highest Price Per Square Foot' + '\\033[0m'\n",
    "MIN_PSF = '\\033[1m' + 'Lowest Price Per Square Foot' + '\\033[0m'\n",
    "\n",
    "DAYS_MAX = '\\033[1m' + 'Most Days on Market' + '\\033[0m'\n",
    "DAYS_MIN = '\\033[1m' + 'Fewest Days on Market' + '\\033[0m'"
   ]
  },
  {
   "cell_type": "code",
   "execution_count": 20,
   "metadata": {},
   "outputs": [
    {
     "name": "stdout",
     "output_type": "stream",
     "text": [
      "\u001b[1mMost Expensive\u001b[0m\n",
      "Il Villaggio, 1455 Ocean Dr 1609 Miami | Price $4,650,000 | $2,067 psf | Listing agent: Eloy Carmenate with The Corcoran Group | Buyer's agent: Lisa Van Wagenen with Brown Harris Stevens | Days on market: 78\n",
      "\u001b[1mLeast Expensive\u001b[0m\n",
      "Mirador, 1000 1000 West Ave PH25 Miami | Price $935,000 | $781 psf | Listing agent: Jamie Manburg with RightStreet Inc | Buyer's agent: Madison Clivilles with Compass Florida, LLC. | Days on market: 29\n",
      "\u001b[1mHighest Price Per Square Foot\u001b[0m\n",
      "Il Villaggio, 1455 Ocean Dr 1609 Miami | Price $4,650,000 | $2,067 psf | Listing agent: Eloy Carmenate with The Corcoran Group | Buyer's agent: Lisa Van Wagenen with Brown Harris Stevens | Days on market: 78\n",
      "\u001b[1mLowest Price Per Square Foot\u001b[0m\n",
      "Artech, 2950 NE 188th St 510 | Price $960,000 | $426 psf | Listing agent: Valeriya Hafner with Trust Invest Real Estate Corp | Buyer's agent: Valeriya Hafner with Trust Invest Real Estate Corp | Days on market: 119\n",
      "\u001b[1mMost Days on Market\u001b[0m\n",
      "Brickell Key One, 520 Brickell Key Dr A904 | Price $1,000,000 | $555 psf | Listing agent: Jacqueline Bonnet with P.U.R.E. Investments, Inc. | Buyer's agent: Mustafa Altinok with Capital Investments R.E. Corp. | Days on market: 191\n",
      "\u001b[1mFewest Days on Market\u001b[0m\n",
      "Commodore Club South Condo, 199 Ocean Lane Dr 812 Key | Price $1,175,000 | $933 psf | Listing agent: Silvia Caicedo with BHHS EWM Realty | Buyer's agent: Angela Langlois with BHHS EWM Realty | Days on market: 9\n"
     ]
    }
   ],
   "source": [
    "### Highest and lowest sale price ###\n",
    "print(f\"{ME}{BR}{df.loc[df['int_Sale_Price'].idxmax()]['building_name']}, {df.loc[df['int_Sale_Price'].idxmax()]['address']} | Price ${df.loc[df['int_Sale_Price'].idxmax()]['int_Sale_Price']:,.0f} | ${df.loc[df['int_Sale_Price'].idxmax()]['price_per_sqft']:,.0f} psf | Listing agent: {df.loc[df['int_Sale_Price'].idxmax()]['Agent']} with {df.loc[df['int_Sale_Price'].idxmax()]['Listing Broker']} | Buyer's agent: {df.loc[df['int_Sale_Price'].idxmax()]['Buyer Agent']} with {df.loc[df['int_Sale_Price'].idxmax()]['Buyer Broker']} | Days on market: {df.loc[df['int_Sale_Price'].idxmax()]['days_on_market']}\")\n",
    "print(f\"{LE}{BR}{df.loc[df['int_Sale_Price'].idxmin()]['building_name']}, {df.loc[df['int_Sale_Price'].idxmin()]['address']} | Price ${df.loc[df['int_Sale_Price'].idxmin()]['int_Sale_Price']:,.0f} | ${df.loc[df['int_Sale_Price'].idxmin()]['price_per_sqft']:,.0f} psf | Listing agent: {df.loc[df['int_Sale_Price'].idxmin()]['Agent']} with {df.loc[df['int_Sale_Price'].idxmin()]['Listing Broker']} | Buyer's agent: {df.loc[df['int_Sale_Price'].idxmin()]['Buyer Agent']} with {df.loc[df['int_Sale_Price'].idxmin()]['Buyer Broker']} | Days on market: {df.loc[df['int_Sale_Price'].idxmin()]['days_on_market']}\")\n",
    "### Highest and lowest psf ###\n",
    "print(f\"{MAX_PSF}{BR}{df.loc[df['price_per_sqft'].idxmax()]['building_name']}, {df.loc[df['price_per_sqft'].idxmax()]['address']} | Price ${df.loc[df['price_per_sqft'].idxmax()]['int_Sale_Price']:,.0f} | ${df.loc[df['price_per_sqft'].idxmax()]['price_per_sqft']:,.0f} psf | Listing agent: {df.loc[df['price_per_sqft'].idxmax()]['Agent']} with {df.loc[df['price_per_sqft'].idxmax()]['Listing Broker']} | Buyer's agent: {df.loc[df['price_per_sqft'].idxmax()]['Buyer Agent']} with {df.loc[df['price_per_sqft'].idxmax()]['Buyer Broker']} | Days on market: {df.loc[df['price_per_sqft'].idxmax()]['days_on_market']}\")\n",
    "print(f\"{MIN_PSF}{BR}{df.loc[df['price_per_sqft'].idxmin()]['building_name']}, {df.loc[df['price_per_sqft'].idxmin()]['address']} | Price ${df.loc[df['price_per_sqft'].idxmin()]['int_Sale_Price']:,.0f} | ${df.loc[df['price_per_sqft'].idxmin()]['price_per_sqft']:,.0f} psf | Listing agent: {df.loc[df['price_per_sqft'].idxmin()]['Agent']} with {df.loc[df['price_per_sqft'].idxmin()]['Listing Broker']} | Buyer's agent: {df.loc[df['price_per_sqft'].idxmin()]['Buyer Agent']} with {df.loc[df['price_per_sqft'].idxmin()]['Buyer Broker']} | Days on market: {df.loc[df['price_per_sqft'].idxmin()]['days_on_market']}\")\n",
    "### Highest and lowest days on market ###\n",
    "print(f\"{DAYS_MAX}{BR}{df.loc[df['days_on_market'].idxmax()]['building_name']}, {df.loc[df['days_on_market'].idxmax()]['address']} | Price ${df.loc[df['days_on_market'].idxmax()]['int_Sale_Price']:,.0f} | ${df.loc[df['days_on_market'].idxmax()]['price_per_sqft']:,.0f} psf | Listing agent: {df.loc[df['days_on_market'].idxmax()]['Agent']} with {df.loc[df['days_on_market'].idxmax()]['Listing Broker']} | Buyer's agent: {df.loc[df['days_on_market'].idxmax()]['Buyer Agent']} with {df.loc[df['days_on_market'].idxmax()]['Buyer Broker']} | Days on market: {df.loc[df['days_on_market'].idxmax()]['days_on_market']}\")\n",
    "print(f\"{DAYS_MIN}{BR}{df.loc[df['days_on_market'].idxmin()]['building_name']}, {df.loc[df['days_on_market'].idxmin()]['address']} | Price ${df.loc[df['days_on_market'].idxmin()]['int_Sale_Price']:,.0f} | ${df.loc[df['days_on_market'].idxmin()]['price_per_sqft']:,.0f} psf | Listing agent: {df.loc[df['days_on_market'].idxmin()]['Agent']} with {df.loc[df['days_on_market'].idxmin()]['Listing Broker']} | Buyer's agent: {df.loc[df['days_on_market'].idxmin()]['Buyer Agent']} with {df.loc[df['days_on_market'].idxmin()]['Buyer Broker']} | Days on market: {df.loc[df['days_on_market'].idxmin()]['days_on_market']}\")"
   ]
  },
  {
   "cell_type": "code",
   "execution_count": 21,
   "metadata": {},
   "outputs": [
    {
     "data": {
      "text/plain": [
       "68.3"
      ]
     },
     "execution_count": 21,
     "metadata": {},
     "output_type": "execute_result"
    }
   ],
   "source": [
    "df['days_on_market'].mean()"
   ]
  },
  {
   "cell_type": "markdown",
   "metadata": {},
   "source": [
    "## Map URL snagger"
   ]
  },
  {
   "cell_type": "markdown",
   "metadata": {},
   "source": [
    "Map template URL: `https://trd-digital.github.io/trd-news-interactive-maps/{map-folder-name}`"
   ]
  },
  {
   "cell_type": "code",
   "execution_count": 22,
   "metadata": {},
   "outputs": [
    {
     "name": "stdout",
     "output_type": "stream",
     "text": [
      "https://trd-digital.github.io/trd-news-interactive-maps/condo_sales_week_ending_12302023\n"
     ]
    }
   ],
   "source": [
    "base_name = 'https://trd-digital.github.io/trd-news-interactive-maps/'\n",
    "\n",
    "cwd = os.getcwd()\n",
    "\n",
    "cwd = cwd.split('/')\n",
    "\n",
    "final_name = base_name + cwd[-1]\n",
    "print(final_name)"
   ]
  }
 ],
 "metadata": {
  "kernelspec": {
   "display_name": "Python 3 (ipykernel)",
   "language": "python",
   "name": "python3"
  },
  "language_info": {
   "codemirror_mode": {
    "name": "ipython",
    "version": 3
   },
   "file_extension": ".py",
   "mimetype": "text/x-python",
   "name": "python",
   "nbconvert_exporter": "python",
   "pygments_lexer": "ipython3",
   "version": "3.9.12"
  },
  "toc": {
   "base_numbering": 1,
   "nav_menu": {},
   "number_sections": true,
   "sideBar": true,
   "skip_h1_title": false,
   "title_cell": "Table of Contents",
   "title_sidebar": "Contents",
   "toc_cell": false,
   "toc_position": {},
   "toc_section_display": true,
   "toc_window_display": false
  }
 },
 "nbformat": 4,
 "nbformat_minor": 4
}
