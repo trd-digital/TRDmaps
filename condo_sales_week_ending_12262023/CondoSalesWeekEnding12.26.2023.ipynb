{
 "cells": [
  {
   "cell_type": "markdown",
   "metadata": {},
   "source": [
    "## Imports"
   ]
  },
  {
   "cell_type": "code",
   "execution_count": 25,
   "metadata": {},
   "outputs": [],
   "source": [
    "import googlemaps\n",
    "import pandas as pd\n",
    "import numpy as np\n",
    "import re\n",
    "import os\n",
    "import geopandas as gpd\n",
    "import folium\n",
    "import tabula"
   ]
  },
  {
   "cell_type": "markdown",
   "metadata": {},
   "source": [
    "## Read-in"
   ]
  },
  {
   "cell_type": "code",
   "execution_count": 26,
   "metadata": {},
   "outputs": [],
   "source": [
    "# Gotta figure out how to get rid of the java error.\n",
    "# SO: https://stackoverflow.com/questions/54817211/java-command-is-not-found-from-this-python-process-please-ensure-java-is-inst\n",
    "\n",
    "dsf = tabula.read_pdf('condo.pdf', pages='all')"
   ]
  },
  {
   "cell_type": "markdown",
   "metadata": {},
   "source": [
    "## Clean Data"
   ]
  },
  {
   "cell_type": "code",
   "execution_count": 27,
   "metadata": {},
   "outputs": [],
   "source": [
    "df = dsf[0]\n",
    "df.columns = df.iloc[0]\n",
    "df = df[1:]\n",
    "df = df.drop(columns=df.columns[0])\n",
    "df = df.replace(np.nan, 'Not Available', regex=True)\n",
    "df = df.rename(columns={'Building / Address / City': 'building_address_city','Days on\\rMarket':'days_on_market',\\\n",
    "                        'Price /\\rSq. Ft.':'price_per_sqft'})\n",
    "df['building_address_city'] = df['building_address_city'].str.replace('^0', '', regex=True)\n",
    "df['geo_address'] = df['building_address_city']\n",
    "df['geo_address'] = df['geo_address'].map(lambda x: re.sub(r'\\r', ' ', x))\n",
    "df = df.replace('\\n',' ',regex=True)\n",
    "pattern = r'^(?P<building_name>[\\d\\s]*[A-Za-z\\s]+)\\s(?P<address>.+)\\s(?P<city>[A-Za-z\\s]+)$'\n",
    "df2 = df['geo_address']\n",
    "df2 = df2.to_frame()\n",
    "df2[['building_name', 'address', 'city']] = df2['geo_address'].str.extract(pattern, expand=True)"
   ]
  },
  {
   "cell_type": "markdown",
   "metadata": {},
   "source": [
    "Review this later (it's about how to properly merge DFs): https://pandas.pydata.org/pandas-docs/stable/user_guide/merging.html"
   ]
  },
  {
   "cell_type": "markdown",
   "metadata": {},
   "source": [
    "## Geocode"
   ]
  },
  {
   "cell_type": "code",
   "execution_count": 28,
   "metadata": {},
   "outputs": [],
   "source": [
    "result = pd.merge(df,df2,left_index=True, right_index=True)\n",
    "df = result\n",
    "df = df.drop(columns='city')"
   ]
  },
  {
   "cell_type": "code",
   "execution_count": 29,
   "metadata": {},
   "outputs": [],
   "source": [
    "%store -r google_maps_API_Key\n",
    "gmaps_key = googlemaps.Client(key=google_maps_API_Key)"
   ]
  },
  {
   "cell_type": "code",
   "execution_count": 30,
   "metadata": {},
   "outputs": [],
   "source": [
    "def geocode(add):\n",
    "    g = gmaps_key.geocode(add)\n",
    "    lat = g[0][\"geometry\"][\"location\"][\"lat\"]\n",
    "    lng = g[0][\"geometry\"][\"location\"][\"lng\"]\n",
    "    return (lat, lng)\n",
    "\n",
    "df['geocoded'] = df['geo_address_x'].apply(geocode)"
   ]
  },
  {
   "cell_type": "code",
   "execution_count": 31,
   "metadata": {},
   "outputs": [],
   "source": [
    "df['geocoded'] = df['geocoded'].astype(str)\n",
    "df[['lat', 'lon']] = df['geocoded'].str.strip('()').str.split(', ', expand=True)\n",
    "df['lat'] = df['lat'].astype(float)\n",
    "df['lon'] = df['lon'].astype(float)"
   ]
  },
  {
   "cell_type": "markdown",
   "metadata": {},
   "source": [
    "Folium documentation link: https://python-visualization.github.io/folium/index.html\n",
    "\n",
    "Folium is the library that lets us use leaflet with Python, since it's meant to be used with JavaScript.\n",
    "\n",
    "For adding titles: https://stackoverflow.com/questions/61928013/adding-a-title-or-text-to-a-folium-map"
   ]
  },
  {
   "cell_type": "markdown",
   "metadata": {},
   "source": [
    "## Correction section"
   ]
  },
  {
   "cell_type": "code",
   "execution_count": 32,
   "metadata": {},
   "outputs": [],
   "source": [
    "# df.at[index#,'col_name']"
   ]
  },
  {
   "cell_type": "markdown",
   "metadata": {},
   "source": [
    "## Format Data"
   ]
  },
  {
   "cell_type": "code",
   "execution_count": 33,
   "metadata": {},
   "outputs": [],
   "source": [
    "### Insert NaNs if needed ###\n",
    "df = df.replace('N/A', np.nan)"
   ]
  },
  {
   "cell_type": "code",
   "execution_count": 34,
   "metadata": {},
   "outputs": [],
   "source": [
    "df['int_Sale_Price'] = df['Sale Price'].str.replace('$','',regex=False)"
   ]
  },
  {
   "cell_type": "code",
   "execution_count": 35,
   "metadata": {},
   "outputs": [],
   "source": [
    "df['int_Sale_Price'] = df['int_Sale_Price'].str.replace(',','',regex=False)"
   ]
  },
  {
   "cell_type": "code",
   "execution_count": 36,
   "metadata": {},
   "outputs": [],
   "source": [
    "df['int_Sale_Price'] = pd.to_numeric(df['int_Sale_Price'])"
   ]
  },
  {
   "cell_type": "code",
   "execution_count": 37,
   "metadata": {},
   "outputs": [],
   "source": [
    "df['price_per_sqft'] = df['price_per_sqft'].str.replace('$','',regex=False)\n",
    "df['price_per_sqft'] = df['price_per_sqft'].str.replace(',','',regex=False)\n",
    "df['price_per_sqft'] = pd.to_numeric(df['price_per_sqft'])\n",
    "\n",
    "df['days_on_market'] = pd.to_numeric(df['days_on_market'])"
   ]
  },
  {
   "cell_type": "markdown",
   "metadata": {},
   "source": [
    "## Color-code top sale"
   ]
  },
  {
   "cell_type": "code",
   "execution_count": 38,
   "metadata": {},
   "outputs": [],
   "source": [
    "### Insert RANK values ###\n",
    "df['RANK'] = range(1, len(df) + 1)\n",
    "# use numpy to assign values to the 'COLOR' column\n",
    "df['COLOR'] = np.where(df['RANK'] <= 1, 'orange', 'blue')"
   ]
  },
  {
   "cell_type": "markdown",
   "metadata": {},
   "source": [
    "## HTML Popup Formatter"
   ]
  },
  {
   "cell_type": "code",
   "execution_count": 39,
   "metadata": {},
   "outputs": [
    {
     "data": {
      "text/plain": [
       "Index(['building_address_city', 'Close Date', 'days_on_market', 'Sale Price',\n",
       "       'Sq. Ft.', 'price_per_sqft', 'Agent', 'Listing Broker', 'Buyer Agent',\n",
       "       'Buyer Broker', 'geo_address_x', 'geo_address_y', 'building_name',\n",
       "       'address', 'geocoded', 'lat', 'lon', 'int_Sale_Price', 'RANK', 'COLOR'],\n",
       "      dtype='object')"
      ]
     },
     "execution_count": 39,
     "metadata": {},
     "output_type": "execute_result"
    }
   ],
   "source": [
    "df.columns"
   ]
  },
  {
   "cell_type": "code",
   "execution_count": 40,
   "metadata": {},
   "outputs": [],
   "source": [
    "def popup_html(row):\n",
    "    building_name = row['building_name']\n",
    "    price = row['Sale Price']\n",
    "    days_on_market = row['days_on_market']\n",
    "    listing_agent = row['Agent']\n",
    "    buyers_agent = row['Buyer Agent']\n",
    "    psf = row['price_per_sqft']\n",
    "    address = row['address']\n",
    "    \n",
    "    html = '''<!DOCTYPE html>\n",
    "    <html>\n",
    "    <strong>Building Name: </strong>{}'''.format(building_name) + '''<br>\n",
    "    <strong>Sale Price: </strong>{}'''.format(price) + '''<br>\n",
    "    <strong>Days on Market: </strong>{}'''.format(days_on_market) + '''<br>\n",
    "    <strong>Listing Agent: </strong>{}'''.format(listing_agent) + '''<br>\n",
    "    <strong>Buyer's Agent: </strong>{}'''.format(buyers_agent) + '''<br>\n",
    "    <strong>Price sq ft: </strong>${}'''.format(psf) + '''<br>\n",
    "    <strong>Address: </strong>{}'''.format(address) + '''<br>\n",
    "    </html>\n",
    "    '''\n",
    "    return html"
   ]
  },
  {
   "cell_type": "code",
   "execution_count": 41,
   "metadata": {},
   "outputs": [
    {
     "data": {
      "text/html": [
       "<div style=\"width:100%;\"><div style=\"position:relative;width:100%;height:0;padding-bottom:60%;\"><span style=\"color:#565656\">Make this Notebook Trusted to load map: File -> Trust Notebook</span><iframe srcdoc=\"&lt;!DOCTYPE html&gt;\n",
       "&lt;head&gt;    \n",
       "    &lt;meta http-equiv=&quot;content-type&quot; content=&quot;text/html; charset=UTF-8&quot; /&gt;\n",
       "    \n",
       "        &lt;script&gt;\n",
       "            L_NO_TOUCH = false;\n",
       "            L_DISABLE_3D = false;\n",
       "        &lt;/script&gt;\n",
       "    \n",
       "    &lt;style&gt;html, body {width: 100%;height: 100%;margin: 0;padding: 0;}&lt;/style&gt;\n",
       "    &lt;style&gt;#map {position:absolute;top:0;bottom:0;right:0;left:0;}&lt;/style&gt;\n",
       "    &lt;script src=&quot;https://cdn.jsdelivr.net/npm/leaflet@1.6.0/dist/leaflet.js&quot;&gt;&lt;/script&gt;\n",
       "    &lt;script src=&quot;https://code.jquery.com/jquery-1.12.4.min.js&quot;&gt;&lt;/script&gt;\n",
       "    &lt;script src=&quot;https://maxcdn.bootstrapcdn.com/bootstrap/3.2.0/js/bootstrap.min.js&quot;&gt;&lt;/script&gt;\n",
       "    &lt;script src=&quot;https://cdnjs.cloudflare.com/ajax/libs/Leaflet.awesome-markers/2.0.2/leaflet.awesome-markers.js&quot;&gt;&lt;/script&gt;\n",
       "    &lt;link rel=&quot;stylesheet&quot; href=&quot;https://cdn.jsdelivr.net/npm/leaflet@1.6.0/dist/leaflet.css&quot;/&gt;\n",
       "    &lt;link rel=&quot;stylesheet&quot; href=&quot;https://maxcdn.bootstrapcdn.com/bootstrap/3.2.0/css/bootstrap.min.css&quot;/&gt;\n",
       "    &lt;link rel=&quot;stylesheet&quot; href=&quot;https://maxcdn.bootstrapcdn.com/bootstrap/3.2.0/css/bootstrap-theme.min.css&quot;/&gt;\n",
       "    &lt;link rel=&quot;stylesheet&quot; href=&quot;https://maxcdn.bootstrapcdn.com/font-awesome/4.6.3/css/font-awesome.min.css&quot;/&gt;\n",
       "    &lt;link rel=&quot;stylesheet&quot; href=&quot;https://cdnjs.cloudflare.com/ajax/libs/Leaflet.awesome-markers/2.0.2/leaflet.awesome-markers.css&quot;/&gt;\n",
       "    &lt;link rel=&quot;stylesheet&quot; href=&quot;https://cdn.jsdelivr.net/gh/python-visualization/folium/folium/templates/leaflet.awesome.rotate.min.css&quot;/&gt;\n",
       "    \n",
       "            &lt;meta name=&quot;viewport&quot; content=&quot;width=device-width,\n",
       "                initial-scale=1.0, maximum-scale=1.0, user-scalable=no&quot; /&gt;\n",
       "            &lt;style&gt;\n",
       "                #map_40be875acf793375b32a55b057345ac0 {\n",
       "                    position: relative;\n",
       "                    width: 100.0%;\n",
       "                    height: 100.0%;\n",
       "                    left: 0.0%;\n",
       "                    top: 0.0%;\n",
       "                }\n",
       "            &lt;/style&gt;\n",
       "        \n",
       "&lt;/head&gt;\n",
       "&lt;body&gt;    \n",
       "    \n",
       "              &lt;h3 align=&quot;center&quot; style=&quot;font-size:16px&quot;&gt;&lt;b&gt;Recent Miami-Dade Condo Sales &lt;/b&gt;&lt;/h3&gt;\n",
       "             \n",
       "    \n",
       "                &lt;p align=&quot;center&quot; style=&quot;vertical-align: bottom; font-size:13px&quot;&gt;&lt;i&gt;November 26th - December 2nd&lt;/i&gt;&lt;/p&gt;\n",
       "                \n",
       "    \n",
       "            &lt;div class=&quot;folium-map&quot; id=&quot;map_40be875acf793375b32a55b057345ac0&quot; &gt;&lt;/div&gt;\n",
       "        \n",
       "&lt;/body&gt;\n",
       "&lt;script&gt;    \n",
       "    \n",
       "            var map_40be875acf793375b32a55b057345ac0 = L.map(\n",
       "                &quot;map_40be875acf793375b32a55b057345ac0&quot;,\n",
       "                {\n",
       "                    center: [25.8150576, -80.15635379],\n",
       "                    crs: L.CRS.EPSG3857,\n",
       "                    zoom: 9.5,\n",
       "                    zoomControl: true,\n",
       "                    preferCanvas: false,\n",
       "                }\n",
       "            );\n",
       "\n",
       "            \n",
       "\n",
       "        \n",
       "    \n",
       "            var feature_group_6ba5bcb0a359ce8b84d953dee168aa6d = L.featureGroup(\n",
       "                {}\n",
       "            ).addTo(map_40be875acf793375b32a55b057345ac0);\n",
       "        \n",
       "    \n",
       "            var marker_a2281b629d225b69415216bd6e188f0b = L.marker(\n",
       "                [25.8523985, -80.1229903],\n",
       "                {&quot;fill&quot;: true, &quot;radius&quot;: 5}\n",
       "            ).addTo(feature_group_6ba5bcb0a359ce8b84d953dee168aa6d);\n",
       "        \n",
       "    \n",
       "            var icon_9292d75071c73be08440e125381569f3 = L.AwesomeMarkers.icon(\n",
       "                {&quot;extraClasses&quot;: &quot;fa-rotate-0&quot;, &quot;icon&quot;: &quot;info-sign&quot;, &quot;iconColor&quot;: &quot;white&quot;, &quot;markerColor&quot;: &quot;orange&quot;, &quot;prefix&quot;: &quot;glyphicon&quot;}\n",
       "            );\n",
       "            marker_a2281b629d225b69415216bd6e188f0b.setIcon(icon_9292d75071c73be08440e125381569f3);\n",
       "        \n",
       "    \n",
       "        var popup_5bdfc798f9b18654986ea621af1f8854 = L.popup({&quot;maxWidth&quot;: 400});\n",
       "\n",
       "        \n",
       "            \n",
       "                var html_2bce4147545ac53f856dfb5a7a20dd61 = $(`&lt;div id=&quot;html_2bce4147545ac53f856dfb5a7a20dd61&quot; style=&quot;width: 100.0%; height: 100.0%;&quot;&gt;&lt;!DOCTYPE html&gt;     &lt;html&gt;     &lt;strong&gt;Building Name: &lt;/strong&gt;Monaco Yacht Club&lt;br&gt;     &lt;strong&gt;Sale Price: &lt;/strong&gt;$4,050,000.00&lt;br&gt;     &lt;strong&gt;Days on Market: &lt;/strong&gt;56&lt;br&gt;     &lt;strong&gt;Listing Agent: &lt;/strong&gt;Belinda Andretti&lt;br&gt;     &lt;strong&gt;Buyer&#x27;s Agent: &lt;/strong&gt;Shilhi Mondejar&lt;br&gt;     &lt;strong&gt;Price sq ft: &lt;/strong&gt;$1424.05&lt;br&gt;     &lt;strong&gt;Address: &lt;/strong&gt;6800 Indian Creek Dr 10A Miami&lt;br&gt;     &lt;/html&gt;     &lt;/div&gt;`)[0];\n",
       "                popup_5bdfc798f9b18654986ea621af1f8854.setContent(html_2bce4147545ac53f856dfb5a7a20dd61);\n",
       "            \n",
       "        \n",
       "\n",
       "        marker_a2281b629d225b69415216bd6e188f0b.bindPopup(popup_5bdfc798f9b18654986ea621af1f8854)\n",
       "        ;\n",
       "\n",
       "        \n",
       "    \n",
       "    \n",
       "            var feature_group_a551e2d6b517b78e2996085c15bebc5c = L.featureGroup(\n",
       "                {}\n",
       "            ).addTo(map_40be875acf793375b32a55b057345ac0);\n",
       "        \n",
       "    \n",
       "            var marker_82e06598fd037519d00ceb0e31336bb5 = L.marker(\n",
       "                [25.9252752, -80.1216808],\n",
       "                {&quot;fill&quot;: true, &quot;radius&quot;: 5}\n",
       "            ).addTo(feature_group_a551e2d6b517b78e2996085c15bebc5c);\n",
       "        \n",
       "    \n",
       "            var icon_d73f35dee08c3b403d3e4acc065bfafd = L.AwesomeMarkers.icon(\n",
       "                {&quot;extraClasses&quot;: &quot;fa-rotate-0&quot;, &quot;icon&quot;: &quot;info-sign&quot;, &quot;iconColor&quot;: &quot;white&quot;, &quot;markerColor&quot;: &quot;blue&quot;, &quot;prefix&quot;: &quot;glyphicon&quot;}\n",
       "            );\n",
       "            marker_82e06598fd037519d00ceb0e31336bb5.setIcon(icon_d73f35dee08c3b403d3e4acc065bfafd);\n",
       "        \n",
       "    \n",
       "        var popup_9c7be114e3d0ad29fa1184e036c1519d = L.popup({&quot;maxWidth&quot;: 400});\n",
       "\n",
       "        \n",
       "            \n",
       "                var html_097952a5d44a6f86ae08036889e3efbd = $(`&lt;div id=&quot;html_097952a5d44a6f86ae08036889e3efbd&quot; style=&quot;width: 100.0%; height: 100.0%;&quot;&gt;&lt;!DOCTYPE html&gt;     &lt;html&gt;     &lt;strong&gt;Building Name: &lt;/strong&gt;Ocean Colony&lt;br&gt;     &lt;strong&gt;Sale Price: &lt;/strong&gt;$3,550,000.00&lt;br&gt;     &lt;strong&gt;Days on Market: &lt;/strong&gt;148&lt;br&gt;     &lt;strong&gt;Listing Agent: &lt;/strong&gt;Richard Toledano&lt;br&gt;     &lt;strong&gt;Buyer&#x27;s Agent: &lt;/strong&gt;Jesica Perkul&lt;br&gt;     &lt;strong&gt;Price sq ft: &lt;/strong&gt;$1020.11&lt;br&gt;     &lt;strong&gt;Address: &lt;/strong&gt;16047 Collins Ave 803 Sunny Isles&lt;br&gt;     &lt;/html&gt;     &lt;/div&gt;`)[0];\n",
       "                popup_9c7be114e3d0ad29fa1184e036c1519d.setContent(html_097952a5d44a6f86ae08036889e3efbd);\n",
       "            \n",
       "        \n",
       "\n",
       "        marker_82e06598fd037519d00ceb0e31336bb5.bindPopup(popup_9c7be114e3d0ad29fa1184e036c1519d)\n",
       "        ;\n",
       "\n",
       "        \n",
       "    \n",
       "    \n",
       "            var marker_0d64ef0c0ccb8c6b5b5136c334577206 = L.marker(\n",
       "                [25.9412405, -80.12074369999999],\n",
       "                {&quot;fill&quot;: true, &quot;radius&quot;: 5}\n",
       "            ).addTo(feature_group_a551e2d6b517b78e2996085c15bebc5c);\n",
       "        \n",
       "    \n",
       "            var icon_6a4f9d9adc616541512573765c034b69 = L.AwesomeMarkers.icon(\n",
       "                {&quot;extraClasses&quot;: &quot;fa-rotate-0&quot;, &quot;icon&quot;: &quot;info-sign&quot;, &quot;iconColor&quot;: &quot;white&quot;, &quot;markerColor&quot;: &quot;blue&quot;, &quot;prefix&quot;: &quot;glyphicon&quot;}\n",
       "            );\n",
       "            marker_0d64ef0c0ccb8c6b5b5136c334577206.setIcon(icon_6a4f9d9adc616541512573765c034b69);\n",
       "        \n",
       "    \n",
       "        var popup_8df2433054e9579c2715a5d045e53cd2 = L.popup({&quot;maxWidth&quot;: 400});\n",
       "\n",
       "        \n",
       "            \n",
       "                var html_e282c80ebd5b0c2062e63d9890e2d35e = $(`&lt;div id=&quot;html_e282c80ebd5b0c2062e63d9890e2d35e&quot; style=&quot;width: 100.0%; height: 100.0%;&quot;&gt;&lt;!DOCTYPE html&gt;     &lt;html&gt;     &lt;strong&gt;Building Name: &lt;/strong&gt;Acqualina&lt;br&gt;     &lt;strong&gt;Sale Price: &lt;/strong&gt;$3,300,000.00&lt;br&gt;     &lt;strong&gt;Days on Market: &lt;/strong&gt;16&lt;br&gt;     &lt;strong&gt;Listing Agent: &lt;/strong&gt;Karina Batievsky&lt;br&gt;     &lt;strong&gt;Buyer&#x27;s Agent: &lt;/strong&gt;Ivonne Ballestas&lt;br&gt;     &lt;strong&gt;Price sq ft: &lt;/strong&gt;$1490.51&lt;br&gt;     &lt;strong&gt;Address: &lt;/strong&gt;17875 Collins Ave 2402 Sunny Isles&lt;br&gt;     &lt;/html&gt;     &lt;/div&gt;`)[0];\n",
       "                popup_8df2433054e9579c2715a5d045e53cd2.setContent(html_e282c80ebd5b0c2062e63d9890e2d35e);\n",
       "            \n",
       "        \n",
       "\n",
       "        marker_0d64ef0c0ccb8c6b5b5136c334577206.bindPopup(popup_8df2433054e9579c2715a5d045e53cd2)\n",
       "        ;\n",
       "\n",
       "        \n",
       "    \n",
       "    \n",
       "            var marker_3586d2aaa579fc24f78cc06be9425c16 = L.marker(\n",
       "                [25.9344014, -80.1210054],\n",
       "                {&quot;fill&quot;: true, &quot;radius&quot;: 5}\n",
       "            ).addTo(feature_group_a551e2d6b517b78e2996085c15bebc5c);\n",
       "        \n",
       "    \n",
       "            var icon_c373f6b180ada65bd74d7c50ff7888bc = L.AwesomeMarkers.icon(\n",
       "                {&quot;extraClasses&quot;: &quot;fa-rotate-0&quot;, &quot;icon&quot;: &quot;info-sign&quot;, &quot;iconColor&quot;: &quot;white&quot;, &quot;markerColor&quot;: &quot;blue&quot;, &quot;prefix&quot;: &quot;glyphicon&quot;}\n",
       "            );\n",
       "            marker_3586d2aaa579fc24f78cc06be9425c16.setIcon(icon_c373f6b180ada65bd74d7c50ff7888bc);\n",
       "        \n",
       "    \n",
       "        var popup_f0d6c58355adf504e54f0ff542d1b1a6 = L.popup({&quot;maxWidth&quot;: 400});\n",
       "\n",
       "        \n",
       "            \n",
       "                var html_fef335c3d76b34a9571997f03f7c3372 = $(`&lt;div id=&quot;html_fef335c3d76b34a9571997f03f7c3372&quot; style=&quot;width: 100.0%; height: 100.0%;&quot;&gt;&lt;!DOCTYPE html&gt;     &lt;html&gt;     &lt;strong&gt;Building Name: &lt;/strong&gt;Jade Ocean&lt;br&gt;     &lt;strong&gt;Sale Price: &lt;/strong&gt;$2,750,000.00&lt;br&gt;     &lt;strong&gt;Days on Market: &lt;/strong&gt;275&lt;br&gt;     &lt;strong&gt;Listing Agent: &lt;/strong&gt;Irina Alvarez PA&lt;br&gt;     &lt;strong&gt;Buyer&#x27;s Agent: &lt;/strong&gt;Carlos Silva&lt;br&gt;     &lt;strong&gt;Price sq ft: &lt;/strong&gt;$1422.66&lt;br&gt;     &lt;strong&gt;Address: &lt;/strong&gt;17121 Collins Ave 4304 Sunny Isles&lt;br&gt;     &lt;/html&gt;     &lt;/div&gt;`)[0];\n",
       "                popup_f0d6c58355adf504e54f0ff542d1b1a6.setContent(html_fef335c3d76b34a9571997f03f7c3372);\n",
       "            \n",
       "        \n",
       "\n",
       "        marker_3586d2aaa579fc24f78cc06be9425c16.bindPopup(popup_f0d6c58355adf504e54f0ff542d1b1a6)\n",
       "        ;\n",
       "\n",
       "        \n",
       "    \n",
       "    \n",
       "            var marker_0f4fd0715ae27669bab5f33e52207f74 = L.marker(\n",
       "                [25.7954398, -80.12805039999999],\n",
       "                {&quot;fill&quot;: true, &quot;radius&quot;: 5}\n",
       "            ).addTo(feature_group_a551e2d6b517b78e2996085c15bebc5c);\n",
       "        \n",
       "    \n",
       "            var icon_2673f0dbc1d02efe8132595f31d63b24 = L.AwesomeMarkers.icon(\n",
       "                {&quot;extraClasses&quot;: &quot;fa-rotate-0&quot;, &quot;icon&quot;: &quot;info-sign&quot;, &quot;iconColor&quot;: &quot;white&quot;, &quot;markerColor&quot;: &quot;blue&quot;, &quot;prefix&quot;: &quot;glyphicon&quot;}\n",
       "            );\n",
       "            marker_0f4fd0715ae27669bab5f33e52207f74.setIcon(icon_2673f0dbc1d02efe8132595f31d63b24);\n",
       "        \n",
       "    \n",
       "        var popup_e2ac973d480e86c84b759ef0c107c52f = L.popup({&quot;maxWidth&quot;: 400});\n",
       "\n",
       "        \n",
       "            \n",
       "                var html_2357cecebb604b33ed82292d080cc979 = $(`&lt;div id=&quot;html_2357cecebb604b33ed82292d080cc979&quot; style=&quot;width: 100.0%; height: 100.0%;&quot;&gt;&lt;!DOCTYPE html&gt;     &lt;html&gt;     &lt;strong&gt;Building Name: &lt;/strong&gt;Setai Resort&lt;br&gt;     &lt;strong&gt;Sale Price: &lt;/strong&gt;$2,625,000.00&lt;br&gt;     &lt;strong&gt;Days on Market: &lt;/strong&gt;37&lt;br&gt;     &lt;strong&gt;Listing Agent: &lt;/strong&gt;Doreen Fuentes&lt;br&gt;     &lt;strong&gt;Buyer&#x27;s Agent: &lt;/strong&gt;Linda Levy&lt;br&gt;     &lt;strong&gt;Price sq ft: &lt;/strong&gt;$2122.07&lt;br&gt;     &lt;strong&gt;Address: &lt;/strong&gt;&amp; Residences 101 20th St 3004 Miami&lt;br&gt;     &lt;/html&gt;     &lt;/div&gt;`)[0];\n",
       "                popup_e2ac973d480e86c84b759ef0c107c52f.setContent(html_2357cecebb604b33ed82292d080cc979);\n",
       "            \n",
       "        \n",
       "\n",
       "        marker_0f4fd0715ae27669bab5f33e52207f74.bindPopup(popup_e2ac973d480e86c84b759ef0c107c52f)\n",
       "        ;\n",
       "\n",
       "        \n",
       "    \n",
       "    \n",
       "            var marker_ada1cd78985ceb58cbc7dbcab4422de9 = L.marker(\n",
       "                [25.7756635, -80.1422556],\n",
       "                {&quot;fill&quot;: true, &quot;radius&quot;: 5}\n",
       "            ).addTo(feature_group_a551e2d6b517b78e2996085c15bebc5c);\n",
       "        \n",
       "    \n",
       "            var icon_ff17a33700513ee3c1c727caae5bd029 = L.AwesomeMarkers.icon(\n",
       "                {&quot;extraClasses&quot;: &quot;fa-rotate-0&quot;, &quot;icon&quot;: &quot;info-sign&quot;, &quot;iconColor&quot;: &quot;white&quot;, &quot;markerColor&quot;: &quot;blue&quot;, &quot;prefix&quot;: &quot;glyphicon&quot;}\n",
       "            );\n",
       "            marker_ada1cd78985ceb58cbc7dbcab4422de9.setIcon(icon_ff17a33700513ee3c1c727caae5bd029);\n",
       "        \n",
       "    \n",
       "        var popup_52b418fd6c3d8b5f012f34ade79a1db0 = L.popup({&quot;maxWidth&quot;: 400});\n",
       "\n",
       "        \n",
       "            \n",
       "                var html_18c20969059d0db5abc241de82b7dd95 = $(`&lt;div id=&quot;html_18c20969059d0db5abc241de82b7dd95&quot; style=&quot;width: 100.0%; height: 100.0%;&quot;&gt;&lt;!DOCTYPE html&gt;     &lt;html&gt;     &lt;strong&gt;Building Name: &lt;/strong&gt;Bentley Bay&lt;br&gt;     &lt;strong&gt;Sale Price: &lt;/strong&gt;$2,400,000.00&lt;br&gt;     &lt;strong&gt;Days on Market: &lt;/strong&gt;69&lt;br&gt;     &lt;strong&gt;Listing Agent: &lt;/strong&gt;Jim Agard&lt;br&gt;     &lt;strong&gt;Buyer&#x27;s Agent: &lt;/strong&gt;Camila Murata&lt;br&gt;     &lt;strong&gt;Price sq ft: &lt;/strong&gt;$1204.82&lt;br&gt;     &lt;strong&gt;Address: &lt;/strong&gt;520 West Ave 1601 Miami&lt;br&gt;     &lt;/html&gt;     &lt;/div&gt;`)[0];\n",
       "                popup_52b418fd6c3d8b5f012f34ade79a1db0.setContent(html_18c20969059d0db5abc241de82b7dd95);\n",
       "            \n",
       "        \n",
       "\n",
       "        marker_ada1cd78985ceb58cbc7dbcab4422de9.bindPopup(popup_52b418fd6c3d8b5f012f34ade79a1db0)\n",
       "        ;\n",
       "\n",
       "        \n",
       "    \n",
       "    \n",
       "            var marker_834ffa6036ffebc9ca03dd7d14c69bff = L.marker(\n",
       "                [25.6835808, -80.1570452],\n",
       "                {&quot;fill&quot;: true, &quot;radius&quot;: 5}\n",
       "            ).addTo(feature_group_a551e2d6b517b78e2996085c15bebc5c);\n",
       "        \n",
       "    \n",
       "            var icon_c646fd9f6d1fcc0142780436059f9e3b = L.AwesomeMarkers.icon(\n",
       "                {&quot;extraClasses&quot;: &quot;fa-rotate-0&quot;, &quot;icon&quot;: &quot;info-sign&quot;, &quot;iconColor&quot;: &quot;white&quot;, &quot;markerColor&quot;: &quot;blue&quot;, &quot;prefix&quot;: &quot;glyphicon&quot;}\n",
       "            );\n",
       "            marker_834ffa6036ffebc9ca03dd7d14c69bff.setIcon(icon_c646fd9f6d1fcc0142780436059f9e3b);\n",
       "        \n",
       "    \n",
       "        var popup_db1777caf83fb0cf534c4dfbd1218a0d = L.popup({&quot;maxWidth&quot;: 400});\n",
       "\n",
       "        \n",
       "            \n",
       "                var html_e3262049b71efc16256cef9c8f2c3852 = $(`&lt;div id=&quot;html_e3262049b71efc16256cef9c8f2c3852&quot; style=&quot;width: 100.0%; height: 100.0%;&quot;&gt;&lt;!DOCTYPE html&gt;     &lt;html&gt;     &lt;strong&gt;Building Name: &lt;/strong&gt;Towers of Key Biscayne&lt;br&gt;     &lt;strong&gt;Sale Price: &lt;/strong&gt;$2,200,000.00&lt;br&gt;     &lt;strong&gt;Days on Market: &lt;/strong&gt;34&lt;br&gt;     &lt;strong&gt;Listing Agent: &lt;/strong&gt;Mariaelisa Luzardo&lt;br&gt;     &lt;strong&gt;Buyer&#x27;s Agent: &lt;/strong&gt;Allan Filgueiras&lt;br&gt;     &lt;strong&gt;Price sq ft: &lt;/strong&gt;$1234.57&lt;br&gt;     &lt;strong&gt;Address: &lt;/strong&gt;1111 Crandon Blvd B1001 Key&lt;br&gt;     &lt;/html&gt;     &lt;/div&gt;`)[0];\n",
       "                popup_db1777caf83fb0cf534c4dfbd1218a0d.setContent(html_e3262049b71efc16256cef9c8f2c3852);\n",
       "            \n",
       "        \n",
       "\n",
       "        marker_834ffa6036ffebc9ca03dd7d14c69bff.bindPopup(popup_db1777caf83fb0cf534c4dfbd1218a0d)\n",
       "        ;\n",
       "\n",
       "        \n",
       "    \n",
       "    \n",
       "            var marker_0f03ebf05854393513dc9559b1ffce2b = L.marker(\n",
       "                [25.7294045, -80.23876179999999],\n",
       "                {&quot;fill&quot;: true, &quot;radius&quot;: 5}\n",
       "            ).addTo(feature_group_a551e2d6b517b78e2996085c15bebc5c);\n",
       "        \n",
       "    \n",
       "            var icon_3e1323717da05e59f1099cb0afdf131c = L.AwesomeMarkers.icon(\n",
       "                {&quot;extraClasses&quot;: &quot;fa-rotate-0&quot;, &quot;icon&quot;: &quot;info-sign&quot;, &quot;iconColor&quot;: &quot;white&quot;, &quot;markerColor&quot;: &quot;blue&quot;, &quot;prefix&quot;: &quot;glyphicon&quot;}\n",
       "            );\n",
       "            marker_0f03ebf05854393513dc9559b1ffce2b.setIcon(icon_3e1323717da05e59f1099cb0afdf131c);\n",
       "        \n",
       "    \n",
       "        var popup_19e19a7e333ae76bbc9981cb3207ebd2 = L.popup({&quot;maxWidth&quot;: 400});\n",
       "\n",
       "        \n",
       "            \n",
       "                var html_0a8468264bcdc48a34183a9bb1392290 = $(`&lt;div id=&quot;html_0a8468264bcdc48a34183a9bb1392290&quot; style=&quot;width: 100.0%; height: 100.0%;&quot;&gt;&lt;!DOCTYPE html&gt;     &lt;html&gt;     &lt;strong&gt;Building Name: &lt;/strong&gt;Park Grove&lt;br&gt;     &lt;strong&gt;Sale Price: &lt;/strong&gt;$2,150,000.00&lt;br&gt;     &lt;strong&gt;Days on Market: &lt;/strong&gt;40&lt;br&gt;     &lt;strong&gt;Listing Agent: &lt;/strong&gt;MariaClaudia Fernandez&lt;br&gt;     &lt;strong&gt;Buyer&#x27;s Agent: &lt;/strong&gt;Michael Light&lt;br&gt;     &lt;strong&gt;Price sq ft: &lt;/strong&gt;$2055.45&lt;br&gt;     &lt;strong&gt;Address: &lt;/strong&gt;2831 S Bayshore Dr 1502&lt;br&gt;     &lt;/html&gt;     &lt;/div&gt;`)[0];\n",
       "                popup_19e19a7e333ae76bbc9981cb3207ebd2.setContent(html_0a8468264bcdc48a34183a9bb1392290);\n",
       "            \n",
       "        \n",
       "\n",
       "        marker_0f03ebf05854393513dc9559b1ffce2b.bindPopup(popup_19e19a7e333ae76bbc9981cb3207ebd2)\n",
       "        ;\n",
       "\n",
       "        \n",
       "    \n",
       "    \n",
       "            var marker_ac1f1e3803d291cc58e2bd8b48352aff = L.marker(\n",
       "                [25.8754329, -80.1211624],\n",
       "                {&quot;fill&quot;: true, &quot;radius&quot;: 5}\n",
       "            ).addTo(feature_group_a551e2d6b517b78e2996085c15bebc5c);\n",
       "        \n",
       "    \n",
       "            var icon_48923c4104bfc7e23592945fcc376e70 = L.AwesomeMarkers.icon(\n",
       "                {&quot;extraClasses&quot;: &quot;fa-rotate-0&quot;, &quot;icon&quot;: &quot;info-sign&quot;, &quot;iconColor&quot;: &quot;white&quot;, &quot;markerColor&quot;: &quot;blue&quot;, &quot;prefix&quot;: &quot;glyphicon&quot;}\n",
       "            );\n",
       "            marker_ac1f1e3803d291cc58e2bd8b48352aff.setIcon(icon_48923c4104bfc7e23592945fcc376e70);\n",
       "        \n",
       "    \n",
       "        var popup_982bf1c20a696668aa91b803649898f3 = L.popup({&quot;maxWidth&quot;: 400});\n",
       "\n",
       "        \n",
       "            \n",
       "                var html_fe0abf23d2a37594e194f3596c01cfaa = $(`&lt;div id=&quot;html_fe0abf23d2a37594e194f3596c01cfaa&quot; style=&quot;width: 100.0%; height: 100.0%;&quot;&gt;&lt;!DOCTYPE html&gt;     &lt;html&gt;     &lt;strong&gt;Building Name: &lt;/strong&gt;Mirage Condo&lt;br&gt;     &lt;strong&gt;Sale Price: &lt;/strong&gt;$2,050,000.00&lt;br&gt;     &lt;strong&gt;Days on Market: &lt;/strong&gt;22&lt;br&gt;     &lt;strong&gt;Listing Agent: &lt;/strong&gt;Kathy Diamond&lt;br&gt;     &lt;strong&gt;Buyer&#x27;s Agent: &lt;/strong&gt;Kathy Diamond&lt;br&gt;     &lt;strong&gt;Price sq ft: &lt;/strong&gt;$1009.85&lt;br&gt;     &lt;strong&gt;Address: &lt;/strong&gt;8925 Collins Ave 6H&lt;br&gt;     &lt;/html&gt;     &lt;/div&gt;`)[0];\n",
       "                popup_982bf1c20a696668aa91b803649898f3.setContent(html_fe0abf23d2a37594e194f3596c01cfaa);\n",
       "            \n",
       "        \n",
       "\n",
       "        marker_ac1f1e3803d291cc58e2bd8b48352aff.bindPopup(popup_982bf1c20a696668aa91b803649898f3)\n",
       "        ;\n",
       "\n",
       "        \n",
       "    \n",
       "    \n",
       "            var marker_570eac2d98d8b535ab6e1720c27f7d30 = L.marker(\n",
       "                [25.6377389, -80.28984229999999],\n",
       "                {&quot;fill&quot;: true, &quot;radius&quot;: 5}\n",
       "            ).addTo(feature_group_a551e2d6b517b78e2996085c15bebc5c);\n",
       "        \n",
       "    \n",
       "            var icon_c9223e18e7dcc40ccd321c607363ee89 = L.AwesomeMarkers.icon(\n",
       "                {&quot;extraClasses&quot;: &quot;fa-rotate-0&quot;, &quot;icon&quot;: &quot;info-sign&quot;, &quot;iconColor&quot;: &quot;white&quot;, &quot;markerColor&quot;: &quot;blue&quot;, &quot;prefix&quot;: &quot;glyphicon&quot;}\n",
       "            );\n",
       "            marker_570eac2d98d8b535ab6e1720c27f7d30.setIcon(icon_c9223e18e7dcc40ccd321c607363ee89);\n",
       "        \n",
       "    \n",
       "        var popup_f5f6b830064a4fb683e241c49d6b434c = L.popup({&quot;maxWidth&quot;: 400});\n",
       "\n",
       "        \n",
       "            \n",
       "                var html_f68dc07b3a875298d10f0a80123c70be = $(`&lt;div id=&quot;html_f68dc07b3a875298d10f0a80123c70be&quot; style=&quot;width: 100.0%; height: 100.0%;&quot;&gt;&lt;!DOCTYPE html&gt;     &lt;html&gt;     &lt;strong&gt;Building Name: &lt;/strong&gt;Deering Bay&lt;br&gt;     &lt;strong&gt;Sale Price: &lt;/strong&gt;$2,025,000.00&lt;br&gt;     &lt;strong&gt;Days on Market: &lt;/strong&gt;22&lt;br&gt;     &lt;strong&gt;Listing Agent: &lt;/strong&gt;Hazel Goldman&lt;br&gt;     &lt;strong&gt;Buyer&#x27;s Agent: &lt;/strong&gt;Hazel Goldman&lt;br&gt;     &lt;strong&gt;Price sq ft: &lt;/strong&gt;$696.59&lt;br&gt;     &lt;strong&gt;Address: &lt;/strong&gt;13611 Deering Bay Dr 104 Coral&lt;br&gt;     &lt;/html&gt;     &lt;/div&gt;`)[0];\n",
       "                popup_f5f6b830064a4fb683e241c49d6b434c.setContent(html_f68dc07b3a875298d10f0a80123c70be);\n",
       "            \n",
       "        \n",
       "\n",
       "        marker_570eac2d98d8b535ab6e1720c27f7d30.bindPopup(popup_f5f6b830064a4fb683e241c49d6b434c)\n",
       "        ;\n",
       "\n",
       "        \n",
       "    \n",
       "    \n",
       "            var tile_layer_bfa0c767c271839d0896587ea8d8c01d = L.tileLayer(\n",
       "                &quot;https://{s}.tile.openstreetmap.org/{z}/{x}/{y}.png&quot;,\n",
       "                {&quot;attribution&quot;: &quot;Data by \\u0026copy; \\u003ca href=\\&quot;http://openstreetmap.org\\&quot;\\u003eOpenStreetMap\\u003c/a\\u003e, under \\u003ca href=\\&quot;http://www.openstreetmap.org/copyright\\&quot;\\u003eODbL\\u003c/a\\u003e.&quot;, &quot;detectRetina&quot;: false, &quot;maxNativeZoom&quot;: 18, &quot;maxZoom&quot;: 18, &quot;minZoom&quot;: 0, &quot;noWrap&quot;: false, &quot;opacity&quot;: 1, &quot;subdomains&quot;: &quot;abc&quot;, &quot;tms&quot;: false}\n",
       "            ).addTo(map_40be875acf793375b32a55b057345ac0);\n",
       "        \n",
       "    \n",
       "            var layer_control_ec091d47817543fd302f3cc8275a0aed = {\n",
       "                base_layers : {\n",
       "                },\n",
       "                overlays :  {\n",
       "                    &quot;Top Sale&quot; : feature_group_6ba5bcb0a359ce8b84d953dee168aa6d,\n",
       "                    &quot;All other sales&quot; : feature_group_a551e2d6b517b78e2996085c15bebc5c,\n",
       "                },\n",
       "            };\n",
       "            L.control.layers(\n",
       "                layer_control_ec091d47817543fd302f3cc8275a0aed.base_layers,\n",
       "                layer_control_ec091d47817543fd302f3cc8275a0aed.overlays,\n",
       "                {&quot;autoZIndex&quot;: true, &quot;collapsed&quot;: false, &quot;position&quot;: &quot;topright&quot;}\n",
       "            ).addTo(map_40be875acf793375b32a55b057345ac0);\n",
       "        \n",
       "&lt;/script&gt;\" style=\"position:absolute;width:100%;height:100%;left:0;top:0;border:none !important;\" allowfullscreen webkitallowfullscreen mozallowfullscreen></iframe></div></div>"
      ],
      "text/plain": [
       "<folium.folium.Map at 0x7fe6da0599d0>"
      ]
     },
     "execution_count": 41,
     "metadata": {},
     "output_type": "execute_result"
    }
   ],
   "source": [
    "import folium\n",
    "from folium.plugins import MarkerCluster\n",
    "\n",
    "m = folium.Map(location=df[[\"lat\", \"lon\"]].mean().to_list(), zoom_start=10)\n",
    "\n",
    "title_html = '''\n",
    "              <h3 align=\"center\" style=\"font-size:16px\"><b>{}</b></h3>\n",
    "             '''.format(f'Recent Miami-Dade Condo Sales ')\n",
    "\n",
    "caption_html = '''\n",
    "                <p align=\"center\" style=\"vertical-align: bottom; font-size:13px\"><i>{}</i></p>\n",
    "                '''.format('November 26th - December 2nd')\n",
    "\n",
    "\n",
    "### Create map container ###\n",
    "m = folium.Map(location=df[[\"lat\", \"lon\"]].mean().to_list(),zoom_start=9.5,tiles=None)\n",
    "\n",
    "# Create two FeatureGroups for different color pins\n",
    "fg_blue = folium.FeatureGroup(name='All other sales')\n",
    "fg_orange = folium.FeatureGroup(name='Top Sale')\n",
    "\n",
    "for index, row in df.iterrows():\n",
    "    # Add the markers to the appropriate FeatureGroup based on the color\n",
    "    if row['COLOR'] == 'blue':\n",
    "        marker = folium.Marker(\n",
    "            location=[row['lat'], row['lon']],\n",
    "            radius=5,\n",
    "            fill=True,\n",
    "            icon=folium.Icon(color=row['COLOR']),\n",
    "            popup=folium.Popup(popup_html(row), max_width=400))\n",
    "        marker.add_to(fg_blue)\n",
    "    else:\n",
    "        marker = folium.Marker(\n",
    "            location=[row['lat'], row['lon']],\n",
    "            radius=5,\n",
    "            fill=True,\n",
    "            icon=folium.Icon(color=row['COLOR']),\n",
    "            popup=folium.Popup(popup_html(row), max_width=400))\n",
    "        marker.add_to(fg_orange)\n",
    "\n",
    "# Add the FeatureGroups to the map\n",
    "fg_orange.add_to(m)\n",
    "fg_blue.add_to(m)\n",
    "\n",
    "folium.TileLayer('OpenStreetMap',control=False).add_to(m)\n",
    "\n",
    "# Add LayerControl to the map\n",
    "folium.map.LayerControl(collapsed=False).add_to(m)\n",
    "m.get_root().html.add_child(folium.Element(title_html))\n",
    "m.get_root().html.add_child(folium.Element(caption_html))\n",
    "            \n",
    "# Display map\n",
    "m"
   ]
  },
  {
   "cell_type": "code",
   "execution_count": 42,
   "metadata": {},
   "outputs": [],
   "source": [
    "m.save('index.html')"
   ]
  },
  {
   "cell_type": "markdown",
   "metadata": {},
   "source": [
    "## Data snagger"
   ]
  },
  {
   "cell_type": "code",
   "execution_count": 43,
   "metadata": {},
   "outputs": [],
   "source": [
    "### Set up formatting ###\n",
    "BR = '\\n'\n",
    "\n",
    "ME = '\\033[1m' + 'Most Expensive' + '\\033[0m'\n",
    "LE = '\\033[1m' + 'Least Expensive' + '\\033[0m'\n",
    "\n",
    "MAX_PSF = '\\033[1m' + 'Highest Price Per Square Foot' + '\\033[0m'\n",
    "MIN_PSF = '\\033[1m' + 'Lowest Price Per Square Foot' + '\\033[0m'\n",
    "\n",
    "DAYS_MAX = '\\033[1m' + 'Most Days on Market' + '\\033[0m'\n",
    "DAYS_MIN = '\\033[1m' + 'Fewest Days on Market' + '\\033[0m'"
   ]
  },
  {
   "cell_type": "code",
   "execution_count": 44,
   "metadata": {},
   "outputs": [
    {
     "name": "stdout",
     "output_type": "stream",
     "text": [
      "\u001b[1mMost Expensive\u001b[0m\n",
      "Monaco Yacht Club, 6800 Indian Creek Dr 10A Miami | Price $4,050,000 | $1,424 psf | Listing agent: Belinda Andretti with Fortune International Realty | Buyer's agent: Shilhi Mondejar with Beachfront Realty Inc | Days on market: 56\n",
      "\u001b[1mLeast Expensive\u001b[0m\n",
      "Deering Bay, 13611 Deering Bay Dr 104 Coral | Price $2,025,000 | $697 psf | Listing agent: Hazel Goldman with RE/MAX Advance Realty | Buyer's agent: Hazel Goldman with RE/MAX Advance Realty | Days on market: 22\n",
      "\u001b[1mHighest Price Per Square Foot\u001b[0m\n",
      "Setai Resort, & Residences 101 20th St 3004 Miami | Price $2,625,000 | $2,122 psf | Listing agent: Doreen Fuentes with Brown Harris Stevens | Buyer's agent: Linda Levy with Real Estate Executives | Days on market: 37\n",
      "\u001b[1mLowest Price Per Square Foot\u001b[0m\n",
      "Deering Bay, 13611 Deering Bay Dr 104 Coral | Price $2,025,000 | $697 psf | Listing agent: Hazel Goldman with RE/MAX Advance Realty | Buyer's agent: Hazel Goldman with RE/MAX Advance Realty | Days on market: 22\n",
      "\u001b[1mMost Days on Market\u001b[0m\n",
      "Jade Ocean, 17121 Collins Ave 4304 Sunny Isles | Price $2,750,000 | $1,423 psf | Listing agent: Irina Alvarez PA with One Sotheby's International Re | Buyer's agent: Carlos Silva with Ponto Miami Realty | Days on market: 275\n",
      "\u001b[1mFewest Days on Market\u001b[0m\n",
      "Acqualina, 17875 Collins Ave 2402 Sunny Isles | Price $3,300,000 | $1,491 psf | Listing agent: Karina Batievsky with Acqualina Realty | Buyer's agent: Ivonne Ballestas with One Sotheby's International Re | Days on market: 16\n"
     ]
    }
   ],
   "source": [
    "### Highest and lowest sale price ###\n",
    "print(f\"{ME}{BR}{df.loc[df['int_Sale_Price'].idxmax()]['building_name']}, {df.loc[df['int_Sale_Price'].idxmax()]['address']} | Price ${df.loc[df['int_Sale_Price'].idxmax()]['int_Sale_Price']:,.0f} | ${df.loc[df['int_Sale_Price'].idxmax()]['price_per_sqft']:,.0f} psf | Listing agent: {df.loc[df['int_Sale_Price'].idxmax()]['Agent']} with {df.loc[df['int_Sale_Price'].idxmax()]['Listing Broker']} | Buyer's agent: {df.loc[df['int_Sale_Price'].idxmax()]['Buyer Agent']} with {df.loc[df['int_Sale_Price'].idxmax()]['Buyer Broker']} | Days on market: {df.loc[df['int_Sale_Price'].idxmax()]['days_on_market']}\")\n",
    "print(f\"{LE}{BR}{df.loc[df['int_Sale_Price'].idxmin()]['building_name']}, {df.loc[df['int_Sale_Price'].idxmin()]['address']} | Price ${df.loc[df['int_Sale_Price'].idxmin()]['int_Sale_Price']:,.0f} | ${df.loc[df['int_Sale_Price'].idxmin()]['price_per_sqft']:,.0f} psf | Listing agent: {df.loc[df['int_Sale_Price'].idxmin()]['Agent']} with {df.loc[df['int_Sale_Price'].idxmin()]['Listing Broker']} | Buyer's agent: {df.loc[df['int_Sale_Price'].idxmin()]['Buyer Agent']} with {df.loc[df['int_Sale_Price'].idxmin()]['Buyer Broker']} | Days on market: {df.loc[df['int_Sale_Price'].idxmin()]['days_on_market']}\")\n",
    "### Highest and lowest psf ###\n",
    "print(f\"{MAX_PSF}{BR}{df.loc[df['price_per_sqft'].idxmax()]['building_name']}, {df.loc[df['price_per_sqft'].idxmax()]['address']} | Price ${df.loc[df['price_per_sqft'].idxmax()]['int_Sale_Price']:,.0f} | ${df.loc[df['price_per_sqft'].idxmax()]['price_per_sqft']:,.0f} psf | Listing agent: {df.loc[df['price_per_sqft'].idxmax()]['Agent']} with {df.loc[df['price_per_sqft'].idxmax()]['Listing Broker']} | Buyer's agent: {df.loc[df['price_per_sqft'].idxmax()]['Buyer Agent']} with {df.loc[df['price_per_sqft'].idxmax()]['Buyer Broker']} | Days on market: {df.loc[df['price_per_sqft'].idxmax()]['days_on_market']}\")\n",
    "print(f\"{MIN_PSF}{BR}{df.loc[df['price_per_sqft'].idxmin()]['building_name']}, {df.loc[df['price_per_sqft'].idxmin()]['address']} | Price ${df.loc[df['price_per_sqft'].idxmin()]['int_Sale_Price']:,.0f} | ${df.loc[df['price_per_sqft'].idxmin()]['price_per_sqft']:,.0f} psf | Listing agent: {df.loc[df['price_per_sqft'].idxmin()]['Agent']} with {df.loc[df['price_per_sqft'].idxmin()]['Listing Broker']} | Buyer's agent: {df.loc[df['price_per_sqft'].idxmin()]['Buyer Agent']} with {df.loc[df['price_per_sqft'].idxmin()]['Buyer Broker']} | Days on market: {df.loc[df['price_per_sqft'].idxmin()]['days_on_market']}\")\n",
    "### Highest and lowest days on market ###\n",
    "print(f\"{DAYS_MAX}{BR}{df.loc[df['days_on_market'].idxmax()]['building_name']}, {df.loc[df['days_on_market'].idxmax()]['address']} | Price ${df.loc[df['days_on_market'].idxmax()]['int_Sale_Price']:,.0f} | ${df.loc[df['days_on_market'].idxmax()]['price_per_sqft']:,.0f} psf | Listing agent: {df.loc[df['days_on_market'].idxmax()]['Agent']} with {df.loc[df['days_on_market'].idxmax()]['Listing Broker']} | Buyer's agent: {df.loc[df['days_on_market'].idxmax()]['Buyer Agent']} with {df.loc[df['days_on_market'].idxmax()]['Buyer Broker']} | Days on market: {df.loc[df['days_on_market'].idxmax()]['days_on_market']}\")\n",
    "print(f\"{DAYS_MIN}{BR}{df.loc[df['days_on_market'].idxmin()]['building_name']}, {df.loc[df['days_on_market'].idxmin()]['address']} | Price ${df.loc[df['days_on_market'].idxmin()]['int_Sale_Price']:,.0f} | ${df.loc[df['days_on_market'].idxmin()]['price_per_sqft']:,.0f} psf | Listing agent: {df.loc[df['days_on_market'].idxmin()]['Agent']} with {df.loc[df['days_on_market'].idxmin()]['Listing Broker']} | Buyer's agent: {df.loc[df['days_on_market'].idxmin()]['Buyer Agent']} with {df.loc[df['days_on_market'].idxmin()]['Buyer Broker']} | Days on market: {df.loc[df['days_on_market'].idxmin()]['days_on_market']}\")"
   ]
  },
  {
   "cell_type": "code",
   "execution_count": 45,
   "metadata": {},
   "outputs": [
    {
     "data": {
      "text/plain": [
       "71.9"
      ]
     },
     "execution_count": 45,
     "metadata": {},
     "output_type": "execute_result"
    }
   ],
   "source": [
    "df['days_on_market'].mean()"
   ]
  },
  {
   "cell_type": "markdown",
   "metadata": {},
   "source": [
    "## Map URL snagger"
   ]
  },
  {
   "cell_type": "markdown",
   "metadata": {},
   "source": [
    "Map template URL: `https://trd-digital.github.io/trd-news-interactive-maps/{map-folder-name}`"
   ]
  },
  {
   "cell_type": "code",
   "execution_count": 46,
   "metadata": {},
   "outputs": [
    {
     "name": "stdout",
     "output_type": "stream",
     "text": [
      "https://trd-digital.github.io/trd-news-interactive-maps/condo_sales_week_ending_12162023\n"
     ]
    }
   ],
   "source": [
    "base_name = 'https://trd-digital.github.io/trd-news-interactive-maps/'\n",
    "\n",
    "cwd = os.getcwd()\n",
    "\n",
    "cwd = cwd.split('/')\n",
    "\n",
    "final_name = base_name + cwd[-1]\n",
    "print(final_name)"
   ]
  }
 ],
 "metadata": {
  "kernelspec": {
   "display_name": "Python 3 (ipykernel)",
   "language": "python",
   "name": "python3"
  },
  "language_info": {
   "codemirror_mode": {
    "name": "ipython",
    "version": 3
   },
   "file_extension": ".py",
   "mimetype": "text/x-python",
   "name": "python",
   "nbconvert_exporter": "python",
   "pygments_lexer": "ipython3",
   "version": "3.9.12"
  },
  "toc": {
   "base_numbering": 1,
   "nav_menu": {},
   "number_sections": true,
   "sideBar": true,
   "skip_h1_title": false,
   "title_cell": "Table of Contents",
   "title_sidebar": "Contents",
   "toc_cell": false,
   "toc_position": {},
   "toc_section_display": true,
   "toc_window_display": false
  }
 },
 "nbformat": 4,
 "nbformat_minor": 4
}
