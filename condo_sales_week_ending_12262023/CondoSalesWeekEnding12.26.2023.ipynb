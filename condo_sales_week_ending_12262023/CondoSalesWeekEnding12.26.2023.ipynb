{
 "cells": [
  {
   "cell_type": "markdown",
   "metadata": {},
   "source": [
    "## Imports"
   ]
  },
  {
   "cell_type": "code",
   "execution_count": 1,
   "metadata": {},
   "outputs": [],
   "source": [
    "import googlemaps\n",
    "import pandas as pd\n",
    "import numpy as np\n",
    "import re\n",
    "import os\n",
    "import geopandas as gpd\n",
    "import folium\n",
    "import tabula"
   ]
  },
  {
   "cell_type": "markdown",
   "metadata": {},
   "source": [
    "## Read-in"
   ]
  },
  {
   "cell_type": "code",
   "execution_count": 2,
   "metadata": {},
   "outputs": [],
   "source": [
    "# Gotta figure out how to get rid of the java error.\n",
    "# SO: https://stackoverflow.com/questions/54817211/java-command-is-not-found-from-this-python-process-please-ensure-java-is-inst\n",
    "\n",
    "dsf = tabula.read_pdf('condo.pdf', pages='all')"
   ]
  },
  {
   "cell_type": "markdown",
   "metadata": {},
   "source": [
    "## Clean Data"
   ]
  },
  {
   "cell_type": "code",
   "execution_count": 3,
   "metadata": {},
   "outputs": [],
   "source": [
    "df = dsf[0]\n",
    "df.columns = df.iloc[0]\n",
    "df = df[1:]\n",
    "df = df.drop(columns=df.columns[0])\n",
    "df = df.replace(np.nan, 'Not Available', regex=True)\n",
    "df = df.rename(columns={'Building / Address / City': 'building_address_city','Days on\\rMarket':'days_on_market',\\\n",
    "                        'Price /\\rSq. Ft.':'price_per_sqft'})\n",
    "df['building_address_city'] = df['building_address_city'].str.replace('^0', '', regex=True)\n",
    "df['geo_address'] = df['building_address_city']\n",
    "df['geo_address'] = df['geo_address'].map(lambda x: re.sub(r'\\r', ' ', x))\n",
    "df = df.replace('\\n',' ',regex=True)\n",
    "pattern = r'^(?P<building_name>[\\d\\s]*[A-Za-z\\s]+)\\s(?P<address>.+)\\s(?P<city>[A-Za-z\\s]+)$'\n",
    "df2 = df['geo_address']\n",
    "df2 = df2.to_frame()\n",
    "df2[['building_name', 'address', 'city']] = df2['geo_address'].str.extract(pattern, expand=True)"
   ]
  },
  {
   "cell_type": "markdown",
   "metadata": {},
   "source": [
    "Review this later (it's about how to properly merge DFs): https://pandas.pydata.org/pandas-docs/stable/user_guide/merging.html"
   ]
  },
  {
   "cell_type": "markdown",
   "metadata": {},
   "source": [
    "## Geocode"
   ]
  },
  {
   "cell_type": "code",
   "execution_count": 4,
   "metadata": {},
   "outputs": [],
   "source": [
    "result = pd.merge(df,df2,left_index=True, right_index=True)\n",
    "df = result\n",
    "df = df.drop(columns='city')"
   ]
  },
  {
   "cell_type": "code",
   "execution_count": 5,
   "metadata": {},
   "outputs": [],
   "source": [
    "%store -r google_maps_API_Key\n",
    "gmaps_key = googlemaps.Client(key=google_maps_API_Key)"
   ]
  },
  {
   "cell_type": "code",
   "execution_count": 6,
   "metadata": {},
   "outputs": [],
   "source": [
    "def geocode(add):\n",
    "    g = gmaps_key.geocode(add)\n",
    "    lat = g[0][\"geometry\"][\"location\"][\"lat\"]\n",
    "    lng = g[0][\"geometry\"][\"location\"][\"lng\"]\n",
    "    return (lat, lng)\n",
    "\n",
    "df['geocoded'] = df['geo_address_x'].apply(geocode)"
   ]
  },
  {
   "cell_type": "code",
   "execution_count": 7,
   "metadata": {},
   "outputs": [],
   "source": [
    "df['geocoded'] = df['geocoded'].astype(str)\n",
    "df[['lat', 'lon']] = df['geocoded'].str.strip('()').str.split(', ', expand=True)\n",
    "df['lat'] = df['lat'].astype(float)\n",
    "df['lon'] = df['lon'].astype(float)"
   ]
  },
  {
   "cell_type": "markdown",
   "metadata": {},
   "source": [
    "Folium documentation link: https://python-visualization.github.io/folium/index.html\n",
    "\n",
    "Folium is the library that lets us use leaflet with Python, since it's meant to be used with JavaScript.\n",
    "\n",
    "For adding titles: https://stackoverflow.com/questions/61928013/adding-a-title-or-text-to-a-folium-map"
   ]
  },
  {
   "cell_type": "markdown",
   "metadata": {},
   "source": [
    "## Correction section"
   ]
  },
  {
   "cell_type": "code",
   "execution_count": 8,
   "metadata": {},
   "outputs": [],
   "source": [
    "# df.at[index#,'col_name']"
   ]
  },
  {
   "cell_type": "markdown",
   "metadata": {},
   "source": [
    "## Format Data"
   ]
  },
  {
   "cell_type": "code",
   "execution_count": 9,
   "metadata": {},
   "outputs": [],
   "source": [
    "### Insert NaNs if needed ###\n",
    "df = df.replace('N/A', np.nan)"
   ]
  },
  {
   "cell_type": "code",
   "execution_count": 10,
   "metadata": {},
   "outputs": [],
   "source": [
    "df['int_Sale_Price'] = df['Sale Price'].str.replace('$','',regex=False)"
   ]
  },
  {
   "cell_type": "code",
   "execution_count": 11,
   "metadata": {},
   "outputs": [],
   "source": [
    "df['int_Sale_Price'] = df['int_Sale_Price'].str.replace(',','',regex=False)"
   ]
  },
  {
   "cell_type": "code",
   "execution_count": 12,
   "metadata": {},
   "outputs": [],
   "source": [
    "df['int_Sale_Price'] = pd.to_numeric(df['int_Sale_Price'])"
   ]
  },
  {
   "cell_type": "code",
   "execution_count": 13,
   "metadata": {},
   "outputs": [],
   "source": [
    "df['price_per_sqft'] = df['price_per_sqft'].str.replace('$','',regex=False)\n",
    "df['price_per_sqft'] = df['price_per_sqft'].str.replace(',','',regex=False)\n",
    "df['price_per_sqft'] = pd.to_numeric(df['price_per_sqft'])\n",
    "\n",
    "df['days_on_market'] = pd.to_numeric(df['days_on_market'])"
   ]
  },
  {
   "cell_type": "markdown",
   "metadata": {},
   "source": [
    "## Color-code top sale"
   ]
  },
  {
   "cell_type": "code",
   "execution_count": 14,
   "metadata": {},
   "outputs": [],
   "source": [
    "### Insert RANK values ###\n",
    "df['RANK'] = range(1, len(df) + 1)\n",
    "# use numpy to assign values to the 'COLOR' column\n",
    "df['COLOR'] = np.where(df['RANK'] <= 1, 'orange', 'blue')"
   ]
  },
  {
   "cell_type": "markdown",
   "metadata": {},
   "source": [
    "## HTML Popup Formatter"
   ]
  },
  {
   "cell_type": "code",
   "execution_count": 15,
   "metadata": {},
   "outputs": [
    {
     "data": {
      "text/plain": [
       "Index(['building_address_city', 'Close Date', 'days_on_market', 'Sale Price',\n",
       "       'Sq. Ft.', 'price_per_sqft', 'Agent', 'Listing Broker', 'Buyer Agent',\n",
       "       'Buyer Broker', 'geo_address_x', 'geo_address_y', 'building_name',\n",
       "       'address', 'geocoded', 'lat', 'lon', 'int_Sale_Price', 'RANK', 'COLOR'],\n",
       "      dtype='object')"
      ]
     },
     "execution_count": 15,
     "metadata": {},
     "output_type": "execute_result"
    }
   ],
   "source": [
    "df.columns"
   ]
  },
  {
   "cell_type": "code",
   "execution_count": 16,
   "metadata": {},
   "outputs": [],
   "source": [
    "def popup_html(row):\n",
    "    building_name = row['building_name']\n",
    "    price = row['Sale Price']\n",
    "    days_on_market = row['days_on_market']\n",
    "    listing_agent = row['Agent']\n",
    "    buyers_agent = row['Buyer Agent']\n",
    "    psf = row['price_per_sqft']\n",
    "    address = row['address']\n",
    "    \n",
    "    html = '''<!DOCTYPE html>\n",
    "    <html>\n",
    "    <strong>Building Name: </strong>{}'''.format(building_name) + '''<br>\n",
    "    <strong>Sale Price: </strong>{}'''.format(price) + '''<br>\n",
    "    <strong>Days on Market: </strong>{}'''.format(days_on_market) + '''<br>\n",
    "    <strong>Listing Agent: </strong>{}'''.format(listing_agent) + '''<br>\n",
    "    <strong>Buyer's Agent: </strong>{}'''.format(buyers_agent) + '''<br>\n",
    "    <strong>Price sq ft: </strong>${}'''.format(psf) + '''<br>\n",
    "    <strong>Address: </strong>{}'''.format(address) + '''<br>\n",
    "    </html>\n",
    "    '''\n",
    "    return html"
   ]
  },
  {
   "cell_type": "code",
   "execution_count": 17,
   "metadata": {},
   "outputs": [
    {
     "data": {
      "text/html": [
       "<div style=\"width:100%;\"><div style=\"position:relative;width:100%;height:0;padding-bottom:60%;\"><span style=\"color:#565656\">Make this Notebook Trusted to load map: File -> Trust Notebook</span><iframe srcdoc=\"&lt;!DOCTYPE html&gt;\n",
       "&lt;head&gt;    \n",
       "    &lt;meta http-equiv=&quot;content-type&quot; content=&quot;text/html; charset=UTF-8&quot; /&gt;\n",
       "    \n",
       "        &lt;script&gt;\n",
       "            L_NO_TOUCH = false;\n",
       "            L_DISABLE_3D = false;\n",
       "        &lt;/script&gt;\n",
       "    \n",
       "    &lt;style&gt;html, body {width: 100%;height: 100%;margin: 0;padding: 0;}&lt;/style&gt;\n",
       "    &lt;style&gt;#map {position:absolute;top:0;bottom:0;right:0;left:0;}&lt;/style&gt;\n",
       "    &lt;script src=&quot;https://cdn.jsdelivr.net/npm/leaflet@1.6.0/dist/leaflet.js&quot;&gt;&lt;/script&gt;\n",
       "    &lt;script src=&quot;https://code.jquery.com/jquery-1.12.4.min.js&quot;&gt;&lt;/script&gt;\n",
       "    &lt;script src=&quot;https://maxcdn.bootstrapcdn.com/bootstrap/3.2.0/js/bootstrap.min.js&quot;&gt;&lt;/script&gt;\n",
       "    &lt;script src=&quot;https://cdnjs.cloudflare.com/ajax/libs/Leaflet.awesome-markers/2.0.2/leaflet.awesome-markers.js&quot;&gt;&lt;/script&gt;\n",
       "    &lt;link rel=&quot;stylesheet&quot; href=&quot;https://cdn.jsdelivr.net/npm/leaflet@1.6.0/dist/leaflet.css&quot;/&gt;\n",
       "    &lt;link rel=&quot;stylesheet&quot; href=&quot;https://maxcdn.bootstrapcdn.com/bootstrap/3.2.0/css/bootstrap.min.css&quot;/&gt;\n",
       "    &lt;link rel=&quot;stylesheet&quot; href=&quot;https://maxcdn.bootstrapcdn.com/bootstrap/3.2.0/css/bootstrap-theme.min.css&quot;/&gt;\n",
       "    &lt;link rel=&quot;stylesheet&quot; href=&quot;https://maxcdn.bootstrapcdn.com/font-awesome/4.6.3/css/font-awesome.min.css&quot;/&gt;\n",
       "    &lt;link rel=&quot;stylesheet&quot; href=&quot;https://cdnjs.cloudflare.com/ajax/libs/Leaflet.awesome-markers/2.0.2/leaflet.awesome-markers.css&quot;/&gt;\n",
       "    &lt;link rel=&quot;stylesheet&quot; href=&quot;https://cdn.jsdelivr.net/gh/python-visualization/folium/folium/templates/leaflet.awesome.rotate.min.css&quot;/&gt;\n",
       "    \n",
       "            &lt;meta name=&quot;viewport&quot; content=&quot;width=device-width,\n",
       "                initial-scale=1.0, maximum-scale=1.0, user-scalable=no&quot; /&gt;\n",
       "            &lt;style&gt;\n",
       "                #map_db4750ac90a77a10621192acabcfca81 {\n",
       "                    position: relative;\n",
       "                    width: 100.0%;\n",
       "                    height: 100.0%;\n",
       "                    left: 0.0%;\n",
       "                    top: 0.0%;\n",
       "                }\n",
       "            &lt;/style&gt;\n",
       "        \n",
       "&lt;/head&gt;\n",
       "&lt;body&gt;    \n",
       "    \n",
       "              &lt;h3 align=&quot;center&quot; style=&quot;font-size:16px&quot;&gt;&lt;b&gt;Recent Miami-Dade Condo Sales &lt;/b&gt;&lt;/h3&gt;\n",
       "             \n",
       "    \n",
       "                &lt;p align=&quot;center&quot; style=&quot;vertical-align: bottom; font-size:13px&quot;&gt;&lt;i&gt;November 26th - December 2nd&lt;/i&gt;&lt;/p&gt;\n",
       "                \n",
       "    \n",
       "            &lt;div class=&quot;folium-map&quot; id=&quot;map_db4750ac90a77a10621192acabcfca81&quot; &gt;&lt;/div&gt;\n",
       "        \n",
       "&lt;/body&gt;\n",
       "&lt;script&gt;    \n",
       "    \n",
       "            var map_db4750ac90a77a10621192acabcfca81 = L.map(\n",
       "                &quot;map_db4750ac90a77a10621192acabcfca81&quot;,\n",
       "                {\n",
       "                    center: [25.86599799, -80.14034219],\n",
       "                    crs: L.CRS.EPSG3857,\n",
       "                    zoom: 9.5,\n",
       "                    zoomControl: true,\n",
       "                    preferCanvas: false,\n",
       "                }\n",
       "            );\n",
       "\n",
       "            \n",
       "\n",
       "        \n",
       "    \n",
       "            var feature_group_74751d6651a62b2eb1841d68fe5782cf = L.featureGroup(\n",
       "                {}\n",
       "            ).addTo(map_db4750ac90a77a10621192acabcfca81);\n",
       "        \n",
       "    \n",
       "            var marker_6da53680929713261a688676187c64e0 = L.marker(\n",
       "                [25.9519943, -80.11997],\n",
       "                {&quot;fill&quot;: true, &quot;radius&quot;: 5}\n",
       "            ).addTo(feature_group_74751d6651a62b2eb1841d68fe5782cf);\n",
       "        \n",
       "    \n",
       "            var icon_adab29bbc6a05de914ff28c1567a8d00 = L.AwesomeMarkers.icon(\n",
       "                {&quot;extraClasses&quot;: &quot;fa-rotate-0&quot;, &quot;icon&quot;: &quot;info-sign&quot;, &quot;iconColor&quot;: &quot;white&quot;, &quot;markerColor&quot;: &quot;orange&quot;, &quot;prefix&quot;: &quot;glyphicon&quot;}\n",
       "            );\n",
       "            marker_6da53680929713261a688676187c64e0.setIcon(icon_adab29bbc6a05de914ff28c1567a8d00);\n",
       "        \n",
       "    \n",
       "        var popup_029ac22dec41b1247eddff5f7b3c5ea9 = L.popup({&quot;maxWidth&quot;: 400});\n",
       "\n",
       "        \n",
       "            \n",
       "                var html_37b7c0b6c62d1ef701b869a73a1b04e0 = $(`&lt;div id=&quot;html_37b7c0b6c62d1ef701b869a73a1b04e0&quot; style=&quot;width: 100.0%; height: 100.0%;&quot;&gt;&lt;!DOCTYPE html&gt;     &lt;html&gt;     &lt;strong&gt;Building Name: &lt;/strong&gt;Residences by Armani Casa&lt;br&gt;     &lt;strong&gt;Sale Price: &lt;/strong&gt;$4,780,000.00&lt;br&gt;     &lt;strong&gt;Days on Market: &lt;/strong&gt;9&lt;br&gt;     &lt;strong&gt;Listing Agent: &lt;/strong&gt;Daniel Tzinker&lt;br&gt;     &lt;strong&gt;Buyer&#x27;s Agent: &lt;/strong&gt;Daniel Tzinker&lt;br&gt;     &lt;strong&gt;Price sq ft: &lt;/strong&gt;$1782.25&lt;br&gt;     &lt;strong&gt;Address: &lt;/strong&gt;18975 Collins Ave 3402 Sunny Isles&lt;br&gt;     &lt;/html&gt;     &lt;/div&gt;`)[0];\n",
       "                popup_029ac22dec41b1247eddff5f7b3c5ea9.setContent(html_37b7c0b6c62d1ef701b869a73a1b04e0);\n",
       "            \n",
       "        \n",
       "\n",
       "        marker_6da53680929713261a688676187c64e0.bindPopup(popup_029ac22dec41b1247eddff5f7b3c5ea9)\n",
       "        ;\n",
       "\n",
       "        \n",
       "    \n",
       "    \n",
       "            var feature_group_9f8082b758756a71409471219eeb5c9a = L.featureGroup(\n",
       "                {}\n",
       "            ).addTo(map_db4750ac90a77a10621192acabcfca81);\n",
       "        \n",
       "    \n",
       "            var marker_d7aea8f445f3c5a2ef07b19284f97fad = L.marker(\n",
       "                [25.9469478, -80.1306433],\n",
       "                {&quot;fill&quot;: true, &quot;radius&quot;: 5}\n",
       "            ).addTo(feature_group_9f8082b758756a71409471219eeb5c9a);\n",
       "        \n",
       "    \n",
       "            var icon_e3590f51f177e0a33b13f7abe44931bf = L.AwesomeMarkers.icon(\n",
       "                {&quot;extraClasses&quot;: &quot;fa-rotate-0&quot;, &quot;icon&quot;: &quot;info-sign&quot;, &quot;iconColor&quot;: &quot;white&quot;, &quot;markerColor&quot;: &quot;blue&quot;, &quot;prefix&quot;: &quot;glyphicon&quot;}\n",
       "            );\n",
       "            marker_d7aea8f445f3c5a2ef07b19284f97fad.setIcon(icon_e3590f51f177e0a33b13f7abe44931bf);\n",
       "        \n",
       "    \n",
       "        var popup_9330399229e9757c20cef28820ed60ca = L.popup({&quot;maxWidth&quot;: 400});\n",
       "\n",
       "        \n",
       "            \n",
       "                var html_24146cac3cf04f14f420a13c54c4fd62 = $(`&lt;div id=&quot;html_24146cac3cf04f14f420a13c54c4fd62&quot; style=&quot;width: 100.0%; height: 100.0%;&quot;&gt;&lt;!DOCTYPE html&gt;     &lt;html&gt;     &lt;strong&gt;Building Name: &lt;/strong&gt;Prive&lt;br&gt;     &lt;strong&gt;Sale Price: &lt;/strong&gt;$3,000,000.00&lt;br&gt;     &lt;strong&gt;Days on Market: &lt;/strong&gt;1&lt;br&gt;     &lt;strong&gt;Listing Agent: &lt;/strong&gt;Fernanda De La Cruz&lt;br&gt;     &lt;strong&gt;Buyer&#x27;s Agent: &lt;/strong&gt;Zachary San Roman&lt;br&gt;     &lt;strong&gt;Price sq ft: &lt;/strong&gt;$1074.88&lt;br&gt;     &lt;strong&gt;Address: &lt;/strong&gt;5000 Island Estates Dr 902&lt;br&gt;     &lt;/html&gt;     &lt;/div&gt;`)[0];\n",
       "                popup_9330399229e9757c20cef28820ed60ca.setContent(html_24146cac3cf04f14f420a13c54c4fd62);\n",
       "            \n",
       "        \n",
       "\n",
       "        marker_d7aea8f445f3c5a2ef07b19284f97fad.bindPopup(popup_9330399229e9757c20cef28820ed60ca)\n",
       "        ;\n",
       "\n",
       "        \n",
       "    \n",
       "    \n",
       "            var marker_d18d310d87fa9bc171aade9c3db7ffb1 = L.marker(\n",
       "                [25.9519943, -80.11997],\n",
       "                {&quot;fill&quot;: true, &quot;radius&quot;: 5}\n",
       "            ).addTo(feature_group_9f8082b758756a71409471219eeb5c9a);\n",
       "        \n",
       "    \n",
       "            var icon_d49325d0219a4765ba5de8163face9c3 = L.AwesomeMarkers.icon(\n",
       "                {&quot;extraClasses&quot;: &quot;fa-rotate-0&quot;, &quot;icon&quot;: &quot;info-sign&quot;, &quot;iconColor&quot;: &quot;white&quot;, &quot;markerColor&quot;: &quot;blue&quot;, &quot;prefix&quot;: &quot;glyphicon&quot;}\n",
       "            );\n",
       "            marker_d18d310d87fa9bc171aade9c3db7ffb1.setIcon(icon_d49325d0219a4765ba5de8163face9c3);\n",
       "        \n",
       "    \n",
       "        var popup_f8166f020cd45026a58c647af294fe27 = L.popup({&quot;maxWidth&quot;: 400});\n",
       "\n",
       "        \n",
       "            \n",
       "                var html_ebfe46d4bca205abee1489b24aec69c7 = $(`&lt;div id=&quot;html_ebfe46d4bca205abee1489b24aec69c7&quot; style=&quot;width: 100.0%; height: 100.0%;&quot;&gt;&lt;!DOCTYPE html&gt;     &lt;html&gt;     &lt;strong&gt;Building Name: &lt;/strong&gt;Residences by Armani Casa&lt;br&gt;     &lt;strong&gt;Sale Price: &lt;/strong&gt;$2,500,000.00&lt;br&gt;     &lt;strong&gt;Days on Market: &lt;/strong&gt;186&lt;br&gt;     &lt;strong&gt;Listing Agent: &lt;/strong&gt;Jose Antonio Correa Chacon&lt;br&gt;     &lt;strong&gt;Buyer&#x27;s Agent: &lt;/strong&gt;Ximena Rosales&lt;br&gt;     &lt;strong&gt;Price sq ft: &lt;/strong&gt;$1529.99&lt;br&gt;     &lt;strong&gt;Address: &lt;/strong&gt;18975 Collins Ave 3004 Sunny Isles&lt;br&gt;     &lt;/html&gt;     &lt;/div&gt;`)[0];\n",
       "                popup_f8166f020cd45026a58c647af294fe27.setContent(html_ebfe46d4bca205abee1489b24aec69c7);\n",
       "            \n",
       "        \n",
       "\n",
       "        marker_d18d310d87fa9bc171aade9c3db7ffb1.bindPopup(popup_f8166f020cd45026a58c647af294fe27)\n",
       "        ;\n",
       "\n",
       "        \n",
       "    \n",
       "    \n",
       "            var marker_cc157bab33469d39b0e30d6017cdf336 = L.marker(\n",
       "                [25.8027038, -80.1870651],\n",
       "                {&quot;fill&quot;: true, &quot;radius&quot;: 5}\n",
       "            ).addTo(feature_group_9f8082b758756a71409471219eeb5c9a);\n",
       "        \n",
       "    \n",
       "            var icon_4364719e572e629962fbd79ab0e1b11d = L.AwesomeMarkers.icon(\n",
       "                {&quot;extraClasses&quot;: &quot;fa-rotate-0&quot;, &quot;icon&quot;: &quot;info-sign&quot;, &quot;iconColor&quot;: &quot;white&quot;, &quot;markerColor&quot;: &quot;blue&quot;, &quot;prefix&quot;: &quot;glyphicon&quot;}\n",
       "            );\n",
       "            marker_cc157bab33469d39b0e30d6017cdf336.setIcon(icon_4364719e572e629962fbd79ab0e1b11d);\n",
       "        \n",
       "    \n",
       "        var popup_d5838536325dd43c69724cc9f1c90551 = L.popup({&quot;maxWidth&quot;: 400});\n",
       "\n",
       "        \n",
       "            \n",
       "                var html_849e7fdec7bf0b54a1ade0a3bf7c6bfa = $(`&lt;div id=&quot;html_849e7fdec7bf0b54a1ade0a3bf7c6bfa&quot; style=&quot;width: 100.0%; height: 100.0%;&quot;&gt;&lt;!DOCTYPE html&gt;     &lt;html&gt;     &lt;strong&gt;Building Name: &lt;/strong&gt;Bayhouse&lt;br&gt;     &lt;strong&gt;Sale Price: &lt;/strong&gt;$2,250,000.00&lt;br&gt;     &lt;strong&gt;Days on Market: &lt;/strong&gt;49&lt;br&gt;     &lt;strong&gt;Listing Agent: &lt;/strong&gt;David Sherman&lt;br&gt;     &lt;strong&gt;Buyer&#x27;s Agent: &lt;/strong&gt;David Sherman&lt;br&gt;     &lt;strong&gt;Price sq ft: &lt;/strong&gt;$709.56&lt;br&gt;     &lt;strong&gt;Address: &lt;/strong&gt;600 NE 27th St PH3&lt;br&gt;     &lt;/html&gt;     &lt;/div&gt;`)[0];\n",
       "                popup_d5838536325dd43c69724cc9f1c90551.setContent(html_849e7fdec7bf0b54a1ade0a3bf7c6bfa);\n",
       "            \n",
       "        \n",
       "\n",
       "        marker_cc157bab33469d39b0e30d6017cdf336.bindPopup(popup_d5838536325dd43c69724cc9f1c90551)\n",
       "        ;\n",
       "\n",
       "        \n",
       "    \n",
       "    \n",
       "            var marker_605cb40be5c74109f11643296d7346de = L.marker(\n",
       "                [25.6965274, -80.1613995],\n",
       "                {&quot;fill&quot;: true, &quot;radius&quot;: 5}\n",
       "            ).addTo(feature_group_9f8082b758756a71409471219eeb5c9a);\n",
       "        \n",
       "    \n",
       "            var icon_9437ca34bb51c4814ea7d87d74ff72d5 = L.AwesomeMarkers.icon(\n",
       "                {&quot;extraClasses&quot;: &quot;fa-rotate-0&quot;, &quot;icon&quot;: &quot;info-sign&quot;, &quot;iconColor&quot;: &quot;white&quot;, &quot;markerColor&quot;: &quot;blue&quot;, &quot;prefix&quot;: &quot;glyphicon&quot;}\n",
       "            );\n",
       "            marker_605cb40be5c74109f11643296d7346de.setIcon(icon_9437ca34bb51c4814ea7d87d74ff72d5);\n",
       "        \n",
       "    \n",
       "        var popup_15f202777e9b05e237c608ae7b262e08 = L.popup({&quot;maxWidth&quot;: 400});\n",
       "\n",
       "        \n",
       "            \n",
       "                var html_0408ddb96e2a52ba9e65982408aec984 = $(`&lt;div id=&quot;html_0408ddb96e2a52ba9e65982408aec984&quot; style=&quot;width: 100.0%; height: 100.0%;&quot;&gt;&lt;!DOCTYPE html&gt;     &lt;html&gt;     &lt;strong&gt;Building Name: &lt;/strong&gt;The Emerald Bay&lt;br&gt;     &lt;strong&gt;Sale Price: &lt;/strong&gt;$2,050,000.00&lt;br&gt;     &lt;strong&gt;Days on Market: &lt;/strong&gt;393&lt;br&gt;     &lt;strong&gt;Listing Agent: &lt;/strong&gt;Maria Donnelly&lt;br&gt;     &lt;strong&gt;Buyer&#x27;s Agent: &lt;/strong&gt;NON-MLS MEMBER&lt;br&gt;     &lt;strong&gt;Price sq ft: &lt;/strong&gt;$879.83&lt;br&gt;     &lt;strong&gt;Address: &lt;/strong&gt;@ Key Colony 151 Crandon Blvd 543 Key&lt;br&gt;     &lt;/html&gt;     &lt;/div&gt;`)[0];\n",
       "                popup_15f202777e9b05e237c608ae7b262e08.setContent(html_0408ddb96e2a52ba9e65982408aec984);\n",
       "            \n",
       "        \n",
       "\n",
       "        marker_605cb40be5c74109f11643296d7346de.bindPopup(popup_15f202777e9b05e237c608ae7b262e08)\n",
       "        ;\n",
       "\n",
       "        \n",
       "    \n",
       "    \n",
       "            var marker_dd4170a35a97d8dc3ec798a5c0f8eed7 = L.marker(\n",
       "                [25.767875, -80.132756],\n",
       "                {&quot;fill&quot;: true, &quot;radius&quot;: 5}\n",
       "            ).addTo(feature_group_9f8082b758756a71409471219eeb5c9a);\n",
       "        \n",
       "    \n",
       "            var icon_c691fce29c8d30a1a27301e71d761da3 = L.AwesomeMarkers.icon(\n",
       "                {&quot;extraClasses&quot;: &quot;fa-rotate-0&quot;, &quot;icon&quot;: &quot;info-sign&quot;, &quot;iconColor&quot;: &quot;white&quot;, &quot;markerColor&quot;: &quot;blue&quot;, &quot;prefix&quot;: &quot;glyphicon&quot;}\n",
       "            );\n",
       "            marker_dd4170a35a97d8dc3ec798a5c0f8eed7.setIcon(icon_c691fce29c8d30a1a27301e71d761da3);\n",
       "        \n",
       "    \n",
       "        var popup_66e2a1ba494d193f92c974db282b9d31 = L.popup({&quot;maxWidth&quot;: 400});\n",
       "\n",
       "        \n",
       "            \n",
       "                var html_c69ea3aa42bb77e88c911fe6b20a508f = $(`&lt;div id=&quot;html_c69ea3aa42bb77e88c911fe6b20a508f&quot; style=&quot;width: 100.0%; height: 100.0%;&quot;&gt;&lt;!DOCTYPE html&gt;     &lt;html&gt;     &lt;strong&gt;Building Name: &lt;/strong&gt;Continuum North Tower&lt;br&gt;     &lt;strong&gt;Sale Price: &lt;/strong&gt;$1,600,000.00&lt;br&gt;     &lt;strong&gt;Days on Market: &lt;/strong&gt;115&lt;br&gt;     &lt;strong&gt;Listing Agent: &lt;/strong&gt;Michael Duchon&lt;br&gt;     &lt;strong&gt;Buyer&#x27;s Agent: &lt;/strong&gt;Bryan Harr&lt;br&gt;     &lt;strong&gt;Price sq ft: &lt;/strong&gt;$2156.33&lt;br&gt;     &lt;strong&gt;Address: &lt;/strong&gt;50 S Pointe Dr 601 Miami&lt;br&gt;     &lt;/html&gt;     &lt;/div&gt;`)[0];\n",
       "                popup_66e2a1ba494d193f92c974db282b9d31.setContent(html_c69ea3aa42bb77e88c911fe6b20a508f);\n",
       "            \n",
       "        \n",
       "\n",
       "        marker_dd4170a35a97d8dc3ec798a5c0f8eed7.bindPopup(popup_66e2a1ba494d193f92c974db282b9d31)\n",
       "        ;\n",
       "\n",
       "        \n",
       "    \n",
       "    \n",
       "            var marker_1e978eb2016c6480df8828bb1b642b15 = L.marker(\n",
       "                [25.948956, -80.1365412],\n",
       "                {&quot;fill&quot;: true, &quot;radius&quot;: 5}\n",
       "            ).addTo(feature_group_9f8082b758756a71409471219eeb5c9a);\n",
       "        \n",
       "    \n",
       "            var icon_dcb70e68184633eb9ad5bf47b06c5d24 = L.AwesomeMarkers.icon(\n",
       "                {&quot;extraClasses&quot;: &quot;fa-rotate-0&quot;, &quot;icon&quot;: &quot;info-sign&quot;, &quot;iconColor&quot;: &quot;white&quot;, &quot;markerColor&quot;: &quot;blue&quot;, &quot;prefix&quot;: &quot;glyphicon&quot;}\n",
       "            );\n",
       "            marker_1e978eb2016c6480df8828bb1b642b15.setIcon(icon_dcb70e68184633eb9ad5bf47b06c5d24);\n",
       "        \n",
       "    \n",
       "        var popup_1184c0525cef6ca24f9fa056a200bb89 = L.popup({&quot;maxWidth&quot;: 400});\n",
       "\n",
       "        \n",
       "            \n",
       "                var html_0fbcf932d19d0fd652a2959f320d7653 = $(`&lt;div id=&quot;html_0fbcf932d19d0fd652a2959f320d7653&quot; style=&quot;width: 100.0%; height: 100.0%;&quot;&gt;&lt;!DOCTYPE html&gt;     &lt;html&gt;     &lt;strong&gt;Building Name: &lt;/strong&gt;Echo Aventura&lt;br&gt;     &lt;strong&gt;Sale Price: &lt;/strong&gt;$1,500,000.00&lt;br&gt;     &lt;strong&gt;Days on Market: &lt;/strong&gt;9&lt;br&gt;     &lt;strong&gt;Listing Agent: &lt;/strong&gt;Gregory Gringruz&lt;br&gt;     &lt;strong&gt;Buyer&#x27;s Agent: &lt;/strong&gt;Constantine Bystrov&lt;br&gt;     &lt;strong&gt;Price sq ft: &lt;/strong&gt;$614.5&lt;br&gt;     &lt;strong&gt;Address: &lt;/strong&gt;3250 NE 188th St 307&lt;br&gt;     &lt;/html&gt;     &lt;/div&gt;`)[0];\n",
       "                popup_1184c0525cef6ca24f9fa056a200bb89.setContent(html_0fbcf932d19d0fd652a2959f320d7653);\n",
       "            \n",
       "        \n",
       "\n",
       "        marker_1e978eb2016c6480df8828bb1b642b15.bindPopup(popup_1184c0525cef6ca24f9fa056a200bb89)\n",
       "        ;\n",
       "\n",
       "        \n",
       "    \n",
       "    \n",
       "            var marker_b551adf8168a0626a2cdb02d594d6dc4 = L.marker(\n",
       "                [25.951464, -80.133588],\n",
       "                {&quot;fill&quot;: true, &quot;radius&quot;: 5}\n",
       "            ).addTo(feature_group_9f8082b758756a71409471219eeb5c9a);\n",
       "        \n",
       "    \n",
       "            var icon_40a6050cfba486bc13b344ff52822ca7 = L.AwesomeMarkers.icon(\n",
       "                {&quot;extraClasses&quot;: &quot;fa-rotate-0&quot;, &quot;icon&quot;: &quot;info-sign&quot;, &quot;iconColor&quot;: &quot;white&quot;, &quot;markerColor&quot;: &quot;blue&quot;, &quot;prefix&quot;: &quot;glyphicon&quot;}\n",
       "            );\n",
       "            marker_b551adf8168a0626a2cdb02d594d6dc4.setIcon(icon_40a6050cfba486bc13b344ff52822ca7);\n",
       "        \n",
       "    \n",
       "        var popup_8df271e1a09719130bcdc11c0e1aaabf = L.popup({&quot;maxWidth&quot;: 400});\n",
       "\n",
       "        \n",
       "            \n",
       "                var html_95c4a3c58eee0525e12c810b866eb6d7 = $(`&lt;div id=&quot;html_95c4a3c58eee0525e12c810b866eb6d7&quot; style=&quot;width: 100.0%; height: 100.0%;&quot;&gt;&lt;!DOCTYPE html&gt;     &lt;html&gt;     &lt;strong&gt;Building Name: &lt;/strong&gt;Hidden Bay&lt;br&gt;     &lt;strong&gt;Sale Price: &lt;/strong&gt;$1,425,000.00&lt;br&gt;     &lt;strong&gt;Days on Market: &lt;/strong&gt;79&lt;br&gt;     &lt;strong&gt;Listing Agent: &lt;/strong&gt;Jonathan Lief&lt;br&gt;     &lt;strong&gt;Buyer&#x27;s Agent: &lt;/strong&gt;Jonathan Lief&lt;br&gt;     &lt;strong&gt;Price sq ft: &lt;/strong&gt;$523.9&lt;br&gt;     &lt;strong&gt;Address: &lt;/strong&gt;3370 Hidden Bay Dr 3015&lt;br&gt;     &lt;/html&gt;     &lt;/div&gt;`)[0];\n",
       "                popup_8df271e1a09719130bcdc11c0e1aaabf.setContent(html_95c4a3c58eee0525e12c810b866eb6d7);\n",
       "            \n",
       "        \n",
       "\n",
       "        marker_b551adf8168a0626a2cdb02d594d6dc4.bindPopup(popup_8df271e1a09719130bcdc11c0e1aaabf)\n",
       "        ;\n",
       "\n",
       "        \n",
       "    \n",
       "    \n",
       "            var marker_5b567a754441561e41ea8de53a27f2dd = L.marker(\n",
       "                [25.6965274, -80.1613995],\n",
       "                {&quot;fill&quot;: true, &quot;radius&quot;: 5}\n",
       "            ).addTo(feature_group_9f8082b758756a71409471219eeb5c9a);\n",
       "        \n",
       "    \n",
       "            var icon_49ed13639c4670b7d76c400eee1fdc14 = L.AwesomeMarkers.icon(\n",
       "                {&quot;extraClasses&quot;: &quot;fa-rotate-0&quot;, &quot;icon&quot;: &quot;info-sign&quot;, &quot;iconColor&quot;: &quot;white&quot;, &quot;markerColor&quot;: &quot;blue&quot;, &quot;prefix&quot;: &quot;glyphicon&quot;}\n",
       "            );\n",
       "            marker_5b567a754441561e41ea8de53a27f2dd.setIcon(icon_49ed13639c4670b7d76c400eee1fdc14);\n",
       "        \n",
       "    \n",
       "        var popup_016c0d7df2c48b90d5781b76101aff93 = L.popup({&quot;maxWidth&quot;: 400});\n",
       "\n",
       "        \n",
       "            \n",
       "                var html_75842161b7e8b5ca754d781a23c45bf3 = $(`&lt;div id=&quot;html_75842161b7e8b5ca754d781a23c45bf3&quot; style=&quot;width: 100.0%; height: 100.0%;&quot;&gt;&lt;!DOCTYPE html&gt;     &lt;html&gt;     &lt;strong&gt;Building Name: &lt;/strong&gt;The Emerald Bay&lt;br&gt;     &lt;strong&gt;Sale Price: &lt;/strong&gt;$1,400,000.00&lt;br&gt;     &lt;strong&gt;Days on Market: &lt;/strong&gt;111&lt;br&gt;     &lt;strong&gt;Listing Agent: &lt;/strong&gt;Cristian Black&lt;br&gt;     &lt;strong&gt;Buyer&#x27;s Agent: &lt;/strong&gt;Alejandra Peraza-Halvorssen&lt;br&gt;     &lt;strong&gt;Price sq ft: &lt;/strong&gt;$913.84&lt;br&gt;     &lt;strong&gt;Address: &lt;/strong&gt;@ Key Colony 151 Crandon Blvd 936 Key&lt;br&gt;     &lt;/html&gt;     &lt;/div&gt;`)[0];\n",
       "                popup_016c0d7df2c48b90d5781b76101aff93.setContent(html_75842161b7e8b5ca754d781a23c45bf3);\n",
       "            \n",
       "        \n",
       "\n",
       "        marker_5b567a754441561e41ea8de53a27f2dd.bindPopup(popup_016c0d7df2c48b90d5781b76101aff93)\n",
       "        ;\n",
       "\n",
       "        \n",
       "    \n",
       "    \n",
       "            var marker_89c96905ca56e325d218f9b8a4a9f62c = L.marker(\n",
       "                [25.9449899, -80.12008929999999],\n",
       "                {&quot;fill&quot;: true, &quot;radius&quot;: 5}\n",
       "            ).addTo(feature_group_9f8082b758756a71409471219eeb5c9a);\n",
       "        \n",
       "    \n",
       "            var icon_df5f8f2c0851ee3e8cafaad57105a3ec = L.AwesomeMarkers.icon(\n",
       "                {&quot;extraClasses&quot;: &quot;fa-rotate-0&quot;, &quot;icon&quot;: &quot;info-sign&quot;, &quot;iconColor&quot;: &quot;white&quot;, &quot;markerColor&quot;: &quot;blue&quot;, &quot;prefix&quot;: &quot;glyphicon&quot;}\n",
       "            );\n",
       "            marker_89c96905ca56e325d218f9b8a4a9f62c.setIcon(icon_df5f8f2c0851ee3e8cafaad57105a3ec);\n",
       "        \n",
       "    \n",
       "        var popup_26247944016727286d16e94d614bea0d = L.popup({&quot;maxWidth&quot;: 400});\n",
       "\n",
       "        \n",
       "            \n",
       "                var html_e569ca279b7943670e598f3ba0e65582 = $(`&lt;div id=&quot;html_e569ca279b7943670e598f3ba0e65582&quot; style=&quot;width: 100.0%; height: 100.0%;&quot;&gt;&lt;!DOCTYPE html&gt;     &lt;html&gt;     &lt;strong&gt;Building Name: &lt;/strong&gt;Trump Royale&lt;br&gt;     &lt;strong&gt;Sale Price: &lt;/strong&gt;$1,350,000.00&lt;br&gt;     &lt;strong&gt;Days on Market: &lt;/strong&gt;20&lt;br&gt;     &lt;strong&gt;Listing Agent: &lt;/strong&gt;Linda Faille-Roy&lt;br&gt;     &lt;strong&gt;Buyer&#x27;s Agent: &lt;/strong&gt;Jessica Elmaleh&lt;br&gt;     &lt;strong&gt;Price sq ft: &lt;/strong&gt;$941.42&lt;br&gt;     &lt;strong&gt;Address: &lt;/strong&gt;18201 Collins Ave 1107 Sunny Isles&lt;br&gt;     &lt;/html&gt;     &lt;/div&gt;`)[0];\n",
       "                popup_26247944016727286d16e94d614bea0d.setContent(html_e569ca279b7943670e598f3ba0e65582);\n",
       "            \n",
       "        \n",
       "\n",
       "        marker_89c96905ca56e325d218f9b8a4a9f62c.bindPopup(popup_26247944016727286d16e94d614bea0d)\n",
       "        ;\n",
       "\n",
       "        \n",
       "    \n",
       "    \n",
       "            var tile_layer_bf0c0a64d8007006b6b89dc299424c13 = L.tileLayer(\n",
       "                &quot;https://{s}.tile.openstreetmap.org/{z}/{x}/{y}.png&quot;,\n",
       "                {&quot;attribution&quot;: &quot;Data by \\u0026copy; \\u003ca href=\\&quot;http://openstreetmap.org\\&quot;\\u003eOpenStreetMap\\u003c/a\\u003e, under \\u003ca href=\\&quot;http://www.openstreetmap.org/copyright\\&quot;\\u003eODbL\\u003c/a\\u003e.&quot;, &quot;detectRetina&quot;: false, &quot;maxNativeZoom&quot;: 18, &quot;maxZoom&quot;: 18, &quot;minZoom&quot;: 0, &quot;noWrap&quot;: false, &quot;opacity&quot;: 1, &quot;subdomains&quot;: &quot;abc&quot;, &quot;tms&quot;: false}\n",
       "            ).addTo(map_db4750ac90a77a10621192acabcfca81);\n",
       "        \n",
       "    \n",
       "            var layer_control_e168bec8d7ecc170ee93716f45e9bd8f = {\n",
       "                base_layers : {\n",
       "                },\n",
       "                overlays :  {\n",
       "                    &quot;Top Sale&quot; : feature_group_74751d6651a62b2eb1841d68fe5782cf,\n",
       "                    &quot;All other sales&quot; : feature_group_9f8082b758756a71409471219eeb5c9a,\n",
       "                },\n",
       "            };\n",
       "            L.control.layers(\n",
       "                layer_control_e168bec8d7ecc170ee93716f45e9bd8f.base_layers,\n",
       "                layer_control_e168bec8d7ecc170ee93716f45e9bd8f.overlays,\n",
       "                {&quot;autoZIndex&quot;: true, &quot;collapsed&quot;: false, &quot;position&quot;: &quot;topright&quot;}\n",
       "            ).addTo(map_db4750ac90a77a10621192acabcfca81);\n",
       "        \n",
       "&lt;/script&gt;\" style=\"position:absolute;width:100%;height:100%;left:0;top:0;border:none !important;\" allowfullscreen webkitallowfullscreen mozallowfullscreen></iframe></div></div>"
      ],
      "text/plain": [
       "<folium.folium.Map at 0x7fc2da6cf310>"
      ]
     },
     "execution_count": 17,
     "metadata": {},
     "output_type": "execute_result"
    }
   ],
   "source": [
    "import folium\n",
    "from folium.plugins import MarkerCluster\n",
    "\n",
    "m = folium.Map(location=df[[\"lat\", \"lon\"]].mean().to_list(), zoom_start=10)\n",
    "\n",
    "title_html = '''\n",
    "              <h3 align=\"center\" style=\"font-size:16px\"><b>{}</b></h3>\n",
    "             '''.format(f'Recent Miami-Dade Condo Sales ')\n",
    "\n",
    "caption_html = '''\n",
    "                <p align=\"center\" style=\"vertical-align: bottom; font-size:13px\"><i>{}</i></p>\n",
    "                '''.format('November 26th - December 2nd')\n",
    "\n",
    "\n",
    "### Create map container ###\n",
    "m = folium.Map(location=df[[\"lat\", \"lon\"]].mean().to_list(),zoom_start=9.5,tiles=None)\n",
    "\n",
    "# Create two FeatureGroups for different color pins\n",
    "fg_blue = folium.FeatureGroup(name='All other sales')\n",
    "fg_orange = folium.FeatureGroup(name='Top Sale')\n",
    "\n",
    "for index, row in df.iterrows():\n",
    "    # Add the markers to the appropriate FeatureGroup based on the color\n",
    "    if row['COLOR'] == 'blue':\n",
    "        marker = folium.Marker(\n",
    "            location=[row['lat'], row['lon']],\n",
    "            radius=5,\n",
    "            fill=True,\n",
    "            icon=folium.Icon(color=row['COLOR']),\n",
    "            popup=folium.Popup(popup_html(row), max_width=400))\n",
    "        marker.add_to(fg_blue)\n",
    "    else:\n",
    "        marker = folium.Marker(\n",
    "            location=[row['lat'], row['lon']],\n",
    "            radius=5,\n",
    "            fill=True,\n",
    "            icon=folium.Icon(color=row['COLOR']),\n",
    "            popup=folium.Popup(popup_html(row), max_width=400))\n",
    "        marker.add_to(fg_orange)\n",
    "\n",
    "# Add the FeatureGroups to the map\n",
    "fg_orange.add_to(m)\n",
    "fg_blue.add_to(m)\n",
    "\n",
    "folium.TileLayer('OpenStreetMap',control=False).add_to(m)\n",
    "\n",
    "# Add LayerControl to the map\n",
    "folium.map.LayerControl(collapsed=False).add_to(m)\n",
    "m.get_root().html.add_child(folium.Element(title_html))\n",
    "m.get_root().html.add_child(folium.Element(caption_html))\n",
    "            \n",
    "# Display map\n",
    "m"
   ]
  },
  {
   "cell_type": "code",
   "execution_count": 18,
   "metadata": {},
   "outputs": [],
   "source": [
    "m.save('index.html')"
   ]
  },
  {
   "cell_type": "markdown",
   "metadata": {},
   "source": [
    "## Data snagger"
   ]
  },
  {
   "cell_type": "code",
   "execution_count": 19,
   "metadata": {},
   "outputs": [],
   "source": [
    "### Set up formatting ###\n",
    "BR = '\\n'\n",
    "\n",
    "ME = '\\033[1m' + 'Most Expensive' + '\\033[0m'\n",
    "LE = '\\033[1m' + 'Least Expensive' + '\\033[0m'\n",
    "\n",
    "MAX_PSF = '\\033[1m' + 'Highest Price Per Square Foot' + '\\033[0m'\n",
    "MIN_PSF = '\\033[1m' + 'Lowest Price Per Square Foot' + '\\033[0m'\n",
    "\n",
    "DAYS_MAX = '\\033[1m' + 'Most Days on Market' + '\\033[0m'\n",
    "DAYS_MIN = '\\033[1m' + 'Fewest Days on Market' + '\\033[0m'"
   ]
  },
  {
   "cell_type": "code",
   "execution_count": 20,
   "metadata": {},
   "outputs": [
    {
     "name": "stdout",
     "output_type": "stream",
     "text": [
      "\u001b[1mMost Expensive\u001b[0m\n",
      "Residences by Armani Casa, 18975 Collins Ave 3402 Sunny Isles | Price $4,780,000 | $1,782 psf | Listing agent: Daniel Tzinker with The Agency Florida LLC | Buyer's agent: Daniel Tzinker with The Agency Florida LLC | Days on market: 9\n",
      "\u001b[1mLeast Expensive\u001b[0m\n",
      "Trump Royale, 18201 Collins Ave 1107 Sunny Isles | Price $1,350,000 | $941 psf | Listing agent: Linda Faille-Roy with RE/MAX Consultants Realty 1 | Buyer's agent: Jessica Elmaleh with World Class Realty | Days on market: 20\n",
      "\u001b[1mHighest Price Per Square Foot\u001b[0m\n",
      "Continuum North Tower, 50 S Pointe Dr 601 Miami | Price $1,600,000 | $2,156 psf | Listing agent: Michael Duchon with The Corcoran Group | Buyer's agent: Bryan Harr with One Sotheby's International Re | Days on market: 115\n",
      "\u001b[1mLowest Price Per Square Foot\u001b[0m\n",
      "Hidden Bay, 3370 Hidden Bay Dr 3015 | Price $1,425,000 | $524 psf | Listing agent: Jonathan Lief with Aventura Real Estate, Inc. | Buyer's agent: Jonathan Lief with Aventura Real Estate, Inc. | Days on market: 79\n",
      "\u001b[1mMost Days on Market\u001b[0m\n",
      "The Emerald Bay, @ Key Colony 151 Crandon Blvd 543 Key | Price $2,050,000 | $880 psf | Listing agent: Maria Donnelly with BHHS EWM Realty | Buyer's agent: NON-MLS MEMBER with MAR NON MLS MEMBER | Days on market: 393\n",
      "\u001b[1mFewest Days on Market\u001b[0m\n",
      "Prive, 5000 Island Estates Dr 902 | Price $3,000,000 | $1,075 psf | Listing agent: Fernanda De La Cruz with DLC Real Estate Development Corp | Buyer's agent: Zachary San Roman with First Service Realty ERA | Days on market: 1\n"
     ]
    }
   ],
   "source": [
    "### Highest and lowest sale price ###\n",
    "print(f\"{ME}{BR}{df.loc[df['int_Sale_Price'].idxmax()]['building_name']}, {df.loc[df['int_Sale_Price'].idxmax()]['address']} | Price ${df.loc[df['int_Sale_Price'].idxmax()]['int_Sale_Price']:,.0f} | ${df.loc[df['int_Sale_Price'].idxmax()]['price_per_sqft']:,.0f} psf | Listing agent: {df.loc[df['int_Sale_Price'].idxmax()]['Agent']} with {df.loc[df['int_Sale_Price'].idxmax()]['Listing Broker']} | Buyer's agent: {df.loc[df['int_Sale_Price'].idxmax()]['Buyer Agent']} with {df.loc[df['int_Sale_Price'].idxmax()]['Buyer Broker']} | Days on market: {df.loc[df['int_Sale_Price'].idxmax()]['days_on_market']}\")\n",
    "print(f\"{LE}{BR}{df.loc[df['int_Sale_Price'].idxmin()]['building_name']}, {df.loc[df['int_Sale_Price'].idxmin()]['address']} | Price ${df.loc[df['int_Sale_Price'].idxmin()]['int_Sale_Price']:,.0f} | ${df.loc[df['int_Sale_Price'].idxmin()]['price_per_sqft']:,.0f} psf | Listing agent: {df.loc[df['int_Sale_Price'].idxmin()]['Agent']} with {df.loc[df['int_Sale_Price'].idxmin()]['Listing Broker']} | Buyer's agent: {df.loc[df['int_Sale_Price'].idxmin()]['Buyer Agent']} with {df.loc[df['int_Sale_Price'].idxmin()]['Buyer Broker']} | Days on market: {df.loc[df['int_Sale_Price'].idxmin()]['days_on_market']}\")\n",
    "### Highest and lowest psf ###\n",
    "print(f\"{MAX_PSF}{BR}{df.loc[df['price_per_sqft'].idxmax()]['building_name']}, {df.loc[df['price_per_sqft'].idxmax()]['address']} | Price ${df.loc[df['price_per_sqft'].idxmax()]['int_Sale_Price']:,.0f} | ${df.loc[df['price_per_sqft'].idxmax()]['price_per_sqft']:,.0f} psf | Listing agent: {df.loc[df['price_per_sqft'].idxmax()]['Agent']} with {df.loc[df['price_per_sqft'].idxmax()]['Listing Broker']} | Buyer's agent: {df.loc[df['price_per_sqft'].idxmax()]['Buyer Agent']} with {df.loc[df['price_per_sqft'].idxmax()]['Buyer Broker']} | Days on market: {df.loc[df['price_per_sqft'].idxmax()]['days_on_market']}\")\n",
    "print(f\"{MIN_PSF}{BR}{df.loc[df['price_per_sqft'].idxmin()]['building_name']}, {df.loc[df['price_per_sqft'].idxmin()]['address']} | Price ${df.loc[df['price_per_sqft'].idxmin()]['int_Sale_Price']:,.0f} | ${df.loc[df['price_per_sqft'].idxmin()]['price_per_sqft']:,.0f} psf | Listing agent: {df.loc[df['price_per_sqft'].idxmin()]['Agent']} with {df.loc[df['price_per_sqft'].idxmin()]['Listing Broker']} | Buyer's agent: {df.loc[df['price_per_sqft'].idxmin()]['Buyer Agent']} with {df.loc[df['price_per_sqft'].idxmin()]['Buyer Broker']} | Days on market: {df.loc[df['price_per_sqft'].idxmin()]['days_on_market']}\")\n",
    "### Highest and lowest days on market ###\n",
    "print(f\"{DAYS_MAX}{BR}{df.loc[df['days_on_market'].idxmax()]['building_name']}, {df.loc[df['days_on_market'].idxmax()]['address']} | Price ${df.loc[df['days_on_market'].idxmax()]['int_Sale_Price']:,.0f} | ${df.loc[df['days_on_market'].idxmax()]['price_per_sqft']:,.0f} psf | Listing agent: {df.loc[df['days_on_market'].idxmax()]['Agent']} with {df.loc[df['days_on_market'].idxmax()]['Listing Broker']} | Buyer's agent: {df.loc[df['days_on_market'].idxmax()]['Buyer Agent']} with {df.loc[df['days_on_market'].idxmax()]['Buyer Broker']} | Days on market: {df.loc[df['days_on_market'].idxmax()]['days_on_market']}\")\n",
    "print(f\"{DAYS_MIN}{BR}{df.loc[df['days_on_market'].idxmin()]['building_name']}, {df.loc[df['days_on_market'].idxmin()]['address']} | Price ${df.loc[df['days_on_market'].idxmin()]['int_Sale_Price']:,.0f} | ${df.loc[df['days_on_market'].idxmin()]['price_per_sqft']:,.0f} psf | Listing agent: {df.loc[df['days_on_market'].idxmin()]['Agent']} with {df.loc[df['days_on_market'].idxmin()]['Listing Broker']} | Buyer's agent: {df.loc[df['days_on_market'].idxmin()]['Buyer Agent']} with {df.loc[df['days_on_market'].idxmin()]['Buyer Broker']} | Days on market: {df.loc[df['days_on_market'].idxmin()]['days_on_market']}\")"
   ]
  },
  {
   "cell_type": "code",
   "execution_count": 21,
   "metadata": {},
   "outputs": [
    {
     "data": {
      "text/plain": [
       "97.2"
      ]
     },
     "execution_count": 21,
     "metadata": {},
     "output_type": "execute_result"
    }
   ],
   "source": [
    "df['days_on_market'].mean()"
   ]
  },
  {
   "cell_type": "markdown",
   "metadata": {},
   "source": [
    "## Map URL snagger"
   ]
  },
  {
   "cell_type": "markdown",
   "metadata": {},
   "source": [
    "Map template URL: `https://trd-digital.github.io/trd-news-interactive-maps/{map-folder-name}`"
   ]
  },
  {
   "cell_type": "code",
   "execution_count": 22,
   "metadata": {},
   "outputs": [
    {
     "name": "stdout",
     "output_type": "stream",
     "text": [
      "https://trd-digital.github.io/trd-news-interactive-maps/condo_sales_week_ending_12262023\n"
     ]
    }
   ],
   "source": [
    "base_name = 'https://trd-digital.github.io/trd-news-interactive-maps/'\n",
    "\n",
    "cwd = os.getcwd()\n",
    "\n",
    "cwd = cwd.split('/')\n",
    "\n",
    "final_name = base_name + cwd[-1]\n",
    "print(final_name)"
   ]
  }
 ],
 "metadata": {
  "kernelspec": {
   "display_name": "Python 3 (ipykernel)",
   "language": "python",
   "name": "python3"
  },
  "language_info": {
   "codemirror_mode": {
    "name": "ipython",
    "version": 3
   },
   "file_extension": ".py",
   "mimetype": "text/x-python",
   "name": "python",
   "nbconvert_exporter": "python",
   "pygments_lexer": "ipython3",
   "version": "3.9.12"
  },
  "toc": {
   "base_numbering": 1,
   "nav_menu": {},
   "number_sections": true,
   "sideBar": true,
   "skip_h1_title": false,
   "title_cell": "Table of Contents",
   "title_sidebar": "Contents",
   "toc_cell": false,
   "toc_position": {},
   "toc_section_display": true,
   "toc_window_display": false
  }
 },
 "nbformat": 4,
 "nbformat_minor": 4
}
