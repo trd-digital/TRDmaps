{
 "cells": [
  {
   "cell_type": "markdown",
   "metadata": {},
   "source": [
    "## Imports"
   ]
  },
  {
   "cell_type": "code",
   "execution_count": 1,
   "metadata": {},
   "outputs": [],
   "source": [
    "from geopy.geocoders import GoogleV3\n",
    "from bs4 import BeautifulSoup\n",
    "import requests\n",
    "import time\n",
    "import pandas as pd\n",
    "import numpy as np\n",
    "import urllib3\n",
    "import re\n",
    "from textwrap import shorten"
   ]
  },
  {
   "cell_type": "code",
   "execution_count": 70,
   "metadata": {},
   "outputs": [],
   "source": [
    "df = pd.read_csv('SoFla Neighborhoods New Construction - DT_FTL_map.csv')"
   ]
  },
  {
   "cell_type": "markdown",
   "metadata": {},
   "source": [
    "Map template URL: `https://trd-digital.github.io/trd-news-interactive-maps/{map-folder-name}`"
   ]
  },
  {
   "cell_type": "code",
   "execution_count": 86,
   "metadata": {},
   "outputs": [],
   "source": [
    "base_name = 'https://trd-digital.github.io/trd-news-interactive-maps/'"
   ]
  },
  {
   "cell_type": "code",
   "execution_count": 71,
   "metadata": {},
   "outputs": [
    {
     "data": {
      "text/plain": [
       "Index(['address', 'stories', 'units', 'dt_fl_developer', 'trd_developer',\n",
       "       'developer_for_map', 'description', 'status', 'story link',\n",
       "       'useful_info'],\n",
       "      dtype='object')"
      ]
     },
     "execution_count": 71,
     "metadata": {},
     "output_type": "execute_result"
    }
   ],
   "source": [
    "df.columns"
   ]
  },
  {
   "cell_type": "markdown",
   "metadata": {},
   "source": [
    "## Image URL collector"
   ]
  },
  {
   "cell_type": "code",
   "execution_count": 72,
   "metadata": {},
   "outputs": [],
   "source": [
    "# Drop last n rows of a df. In case there are sums that need clipped\n",
    "# df.drop(df.tail(n).index, inplace=True)\n"
   ]
  },
  {
   "cell_type": "code",
   "execution_count": 73,
   "metadata": {},
   "outputs": [],
   "source": [
    "df['image_links'] = ''\n",
    "links = []\n",
    "for url in df['story link']:\n",
    "    try:\n",
    "        page = requests.get(url)\n",
    "        soup = BeautifulSoup(page.content, 'html.parser')\n",
    "        images = soup.find_all('img')\n",
    "        counter = 0\n",
    "        for image in images:\n",
    "            counter += 1\n",
    "            if 'jpg' in image['src']:\n",
    "                links.append(image['src'])\n",
    "                if counter == len(images):\n",
    "                    links.append('no image found')\n",
    "                break\n",
    "    except:\n",
    "        links.append('no_image')\n",
    "\n",
    "df['image_links'] = links"
   ]
  },
  {
   "cell_type": "markdown",
   "metadata": {},
   "source": [
    "## Article link formatter"
   ]
  },
  {
   "cell_type": "code",
   "execution_count": 74,
   "metadata": {},
   "outputs": [
    {
     "data": {
      "text/plain": [
       "['https://s12.therealdeal.com/trd/m/up/2022/01/main_MIA_KushnerFLL-705x439.jpg',\n",
       " 'https://s13.therealdeal.com/trd/m/up/2019/01/1200-bh3-650x405.jpg',\n",
       " 'https://s12.therealdeal.com/trd/m/up/2022/01/main_MIA_KushnerFLL-705x439.jpg',\n",
       " 'https://therealdeal.com/miami/wp-content/uploads/2022/06/main_MIA_BK-FTL-project-705x439.jpg',\n",
       " 'https://s12.therealdeal.com/trd/m/up/2018/02/Ricardo-Vadia-600-650x377.jpg',\n",
       " 'https://s13.therealdeal.com/trd/m/up/2019/01/1200-bh3-650x405.jpg',\n",
       " 'https://s11.therealdeal.com/trd/m/up/2020/06/oko-1-650x405.jpg',\n",
       " 'https://s13.therealdeal.com/trd/m/up/2021/10/MIA-Hines-buys-dev-site-in-downtown-Fort-Lauderdales-FATVillage-for-57M-MAIN-705x439.jpg',\n",
       " 'https://s11.therealdeal.com/trd/m/up/2018/03/Rendering-of-River-Lofts-on-Fifth600-650x377.jpg',\n",
       " 'https://s13.therealdeal.com/trd/m/up/2021/12/main_MIA_808-SE-4th-705x439.jpg',\n",
       " 'https://s12.therealdeal.com/trd/m/up/2022/06/main-Aimco-drops-64M-for-mixed-use-dev-site-in-Fort-Lauderdales-Flagler-Village-705x439.jpg',\n",
       " 'https://s14.therealdeal.com/trd/m/up/2020/09/dev-site-1-650x405.jpg',\n",
       " 'https://s13.therealdeal.com/trd/m/up/2021/06/jean-francois-roy-renderingspsd-705x439.jpg',\n",
       " 'https://s13.therealdeal.com/trd/m/up/2019/07/Quantum-at-Flagler-Village-rendering-650x433.jpg',\n",
       " 'https://s13.therealdeal.com/trd/m/up/2020/05/urban-street-1-650x405.jpg',\n",
       " 'https://s13.therealdeal.com/trd/m/up/2021/08/Main-MainImage_RelatedGroup84M-2-705x439.jpg']"
      ]
     },
     "execution_count": 74,
     "metadata": {},
     "output_type": "execute_result"
    }
   ],
   "source": [
    "links"
   ]
  },
  {
   "cell_type": "code",
   "execution_count": 75,
   "metadata": {},
   "outputs": [
    {
     "data": {
      "text/plain": [
       "0     Apartment giants Kushner Companies and Aimco p...\n",
       "1     BH3 paid Traina Companies, a co-developer of P...\n",
       "2     Apartment giants Kushner Companies and Aimco p...\n",
       "3     Brooklyn-based Dependable Equities plans a 1.5...\n",
       "4     Ricardo Vadia, who leads Miami-based ROVR deve...\n",
       "5     BH3 paid Traina Companies, a co-developer of P...\n",
       "6     Billionaire developer Vladislav Doronin assemb...\n",
       "7     Houston-based Hines paid $57.4 million for a m...\n",
       "8     Moderno Development Group, led by Christopher ...\n",
       "9     Boca Raton-based Roberts Equities LLC won appr...\n",
       "10    Aimco bought a redevelopment site in Flagler V...\n",
       "11    Developer Dev Motwani paid $14 million for a d...\n",
       "12    Jean Francois Roy, founder and CEO of Fort Lau...\n",
       "13    Hollywood-based developer Walker & Dunlop is c...\n",
       "14    Urban Street Development, led by real estate d...\n",
       "15    Jorge Pérez’s Related Group, armed with an $84...\n",
       "Name: description, dtype: object"
      ]
     },
     "execution_count": 75,
     "metadata": {},
     "output_type": "execute_result"
    }
   ],
   "source": [
    "df.description"
   ]
  },
  {
   "cell_type": "code",
   "execution_count": 76,
   "metadata": {},
   "outputs": [
    {
     "data": {
      "text/plain": [
       "0     <a href=\"https://therealdeal.com/miami/2022/01...\n",
       "1     <a href=\"https://therealdeal.com/miami/2019/01...\n",
       "2     <a href=\"https://therealdeal.com/miami/2022/01...\n",
       "3     <a href=\"https://therealdeal.com/miami/2022/06...\n",
       "4     <a href=\"https://therealdeal.com/miami/2018/02...\n",
       "5     <a href=\"https://therealdeal.com/miami/2019/01...\n",
       "6     <a href=\"https://therealdeal.com/miami/2020/06...\n",
       "7     <a href=\"https://therealdeal.com/miami/2021/10...\n",
       "8     <a href=\"https://therealdeal.com/miami/2018/03...\n",
       "9     <a href=\"https://therealdeal.com/miami/2021/12...\n",
       "10    <a href=\"https://therealdeal.com/miami/2022/06...\n",
       "11    <a href=\"https://therealdeal.com/miami/2020/09...\n",
       "12    <a href=\"https://therealdeal.com/miami/2021/06...\n",
       "13    <a href=\"https://therealdeal.com/miami/2019/07...\n",
       "14    <a href=\"https://therealdeal.com/miami/2020/05...\n",
       "15    <a href=\"https://therealdeal.com/miami/2021/08...\n",
       "Name: description_link, dtype: object"
      ]
     },
     "execution_count": 76,
     "metadata": {},
     "output_type": "execute_result"
    }
   ],
   "source": [
    "df[\"short_description\"] = df[\"description\"].apply(lambda s: shorten(s, width=20, placeholder=\"\"))\n",
    "df['remaining_desc'] = df.apply(lambda row : row['description'].replace(str(row['short_description']), ''), axis=1)\n",
    "df['remaining_desc']\n",
    "\n",
    "df[\"description_link\"] = '<a href=\"' + df[\"story link\"] + '\">' + df[\"short_description\"] + \"</a>\" + df[\"remaining_desc\"]\n",
    "df['description_link']"
   ]
  },
  {
   "cell_type": "code",
   "execution_count": null,
   "metadata": {},
   "outputs": [],
   "source": []
  },
  {
   "cell_type": "markdown",
   "metadata": {},
   "source": [
    "## Google Maps API Geolocater Setup"
   ]
  },
  {
   "cell_type": "code",
   "execution_count": 77,
   "metadata": {},
   "outputs": [],
   "source": [
    "%store -r google_maps_API_Key\n",
    "geolocator = GoogleV3(api_key=google_maps_API_Key)"
   ]
  },
  {
   "cell_type": "code",
   "execution_count": 78,
   "metadata": {},
   "outputs": [],
   "source": [
    "df['geo_address'] = df['address'] + ', Fort Lauderdale, FL'\n",
    "df['loc'] = df['geo_address'].apply(geolocator.geocode, timeout=10)\n",
    "df['point'] = df['loc'].apply(lambda loc: tuple(loc.point) if loc else None)\n",
    "df[['lat','lon','altitude']] = pd.DataFrame(df['point'].to_list(),index=df.index)"
   ]
  },
  {
   "cell_type": "markdown",
   "metadata": {},
   "source": [
    "## HTML popup formatter"
   ]
  },
  {
   "cell_type": "code",
   "execution_count": 79,
   "metadata": {},
   "outputs": [],
   "source": [
    "def popup_html(row):\n",
    "    i = row\n",
    "    address = df['address'].iloc[i]\n",
    "    developer = df['developer_for_map'].iloc[i]\n",
    "    description = df['description_link'].iloc[i]\n",
    "    image = df['image_links'].iloc[i]\n",
    "    \n",
    "    html = '''<!DOCTYPE html>\n",
    "    <html>\n",
    "    <img src={} width=\"256\" height=\"156\">'''.format(image) + '''<br>______________________________________<br>\n",
    "    Address: <strong>{}'''.format(address) + '''</strong><br>\n",
    "    Developer(s): <strong><em>{}'''.format(developer) + '''</strong></em><br><br>\n",
    "    <strong>{}'''.format(description) + '''</strong></html>\n",
    "    '''\n",
    "    return html\n"
   ]
  },
  {
   "cell_type": "markdown",
   "metadata": {},
   "source": [
    "## Map Maker"
   ]
  },
  {
   "cell_type": "code",
   "execution_count": 80,
   "metadata": {},
   "outputs": [
    {
     "data": {
      "text/plain": [
       "0     <a href=\"https://therealdeal.com/miami/2022/01...\n",
       "1     <a href=\"https://therealdeal.com/miami/2019/01...\n",
       "2     <a href=\"https://therealdeal.com/miami/2022/01...\n",
       "3     <a href=\"https://therealdeal.com/miami/2022/06...\n",
       "4     <a href=\"https://therealdeal.com/miami/2018/02...\n",
       "5     <a href=\"https://therealdeal.com/miami/2019/01...\n",
       "6     <a href=\"https://therealdeal.com/miami/2020/06...\n",
       "7     <a href=\"https://therealdeal.com/miami/2021/10...\n",
       "8     <a href=\"https://therealdeal.com/miami/2018/03...\n",
       "9     <a href=\"https://therealdeal.com/miami/2021/12...\n",
       "10    <a href=\"https://therealdeal.com/miami/2022/06...\n",
       "11    <a href=\"https://therealdeal.com/miami/2020/09...\n",
       "12    <a href=\"https://therealdeal.com/miami/2021/06...\n",
       "13    <a href=\"https://therealdeal.com/miami/2019/07...\n",
       "14    <a href=\"https://therealdeal.com/miami/2020/05...\n",
       "15    <a href=\"https://therealdeal.com/miami/2021/08...\n",
       "Name: description_link, dtype: object"
      ]
     },
     "execution_count": 80,
     "metadata": {},
     "output_type": "execute_result"
    }
   ],
   "source": [
    "df.description_link"
   ]
  },
  {
   "cell_type": "code",
   "execution_count": 81,
   "metadata": {},
   "outputs": [
    {
     "data": {
      "text/html": [
       "<div style=\"width:100%;\"><div style=\"position:relative;width:100%;height:0;padding-bottom:60%;\"><span style=\"color:#565656\">Make this Notebook Trusted to load map: File -> Trust Notebook</span><iframe srcdoc=\"&lt;!DOCTYPE html&gt;\n",
       "&lt;head&gt;    \n",
       "    &lt;meta http-equiv=&quot;content-type&quot; content=&quot;text/html; charset=UTF-8&quot; /&gt;\n",
       "    \n",
       "        &lt;script&gt;\n",
       "            L_NO_TOUCH = false;\n",
       "            L_DISABLE_3D = false;\n",
       "        &lt;/script&gt;\n",
       "    \n",
       "    &lt;style&gt;html, body {width: 100%;height: 100%;margin: 0;padding: 0;}&lt;/style&gt;\n",
       "    &lt;style&gt;#map {position:absolute;top:0;bottom:0;right:0;left:0;}&lt;/style&gt;\n",
       "    &lt;script src=&quot;https://cdn.jsdelivr.net/npm/leaflet@1.6.0/dist/leaflet.js&quot;&gt;&lt;/script&gt;\n",
       "    &lt;script src=&quot;https://code.jquery.com/jquery-1.12.4.min.js&quot;&gt;&lt;/script&gt;\n",
       "    &lt;script src=&quot;https://maxcdn.bootstrapcdn.com/bootstrap/3.2.0/js/bootstrap.min.js&quot;&gt;&lt;/script&gt;\n",
       "    &lt;script src=&quot;https://cdnjs.cloudflare.com/ajax/libs/Leaflet.awesome-markers/2.0.2/leaflet.awesome-markers.js&quot;&gt;&lt;/script&gt;\n",
       "    &lt;link rel=&quot;stylesheet&quot; href=&quot;https://cdn.jsdelivr.net/npm/leaflet@1.6.0/dist/leaflet.css&quot;/&gt;\n",
       "    &lt;link rel=&quot;stylesheet&quot; href=&quot;https://maxcdn.bootstrapcdn.com/bootstrap/3.2.0/css/bootstrap.min.css&quot;/&gt;\n",
       "    &lt;link rel=&quot;stylesheet&quot; href=&quot;https://maxcdn.bootstrapcdn.com/bootstrap/3.2.0/css/bootstrap-theme.min.css&quot;/&gt;\n",
       "    &lt;link rel=&quot;stylesheet&quot; href=&quot;https://maxcdn.bootstrapcdn.com/font-awesome/4.6.3/css/font-awesome.min.css&quot;/&gt;\n",
       "    &lt;link rel=&quot;stylesheet&quot; href=&quot;https://cdnjs.cloudflare.com/ajax/libs/Leaflet.awesome-markers/2.0.2/leaflet.awesome-markers.css&quot;/&gt;\n",
       "    &lt;link rel=&quot;stylesheet&quot; href=&quot;https://cdn.jsdelivr.net/gh/python-visualization/folium/folium/templates/leaflet.awesome.rotate.min.css&quot;/&gt;\n",
       "    \n",
       "            &lt;meta name=&quot;viewport&quot; content=&quot;width=device-width,\n",
       "                initial-scale=1.0, maximum-scale=1.0, user-scalable=no&quot; /&gt;\n",
       "            &lt;style&gt;\n",
       "                #map_1ae3657dbb7b55d1b008a3f3abf6e7d2 {\n",
       "                    position: relative;\n",
       "                    width: 100.0%;\n",
       "                    height: 100.0%;\n",
       "                    left: 0.0%;\n",
       "                    top: 0.0%;\n",
       "                }\n",
       "            &lt;/style&gt;\n",
       "        \n",
       "&lt;/head&gt;\n",
       "&lt;body&gt;    \n",
       "    \n",
       "              &lt;h3 align=&quot;center&quot; style=&quot;font-size:16px&quot;&gt;&lt;b&gt;New Development in Downtown Fort Lauderdale&lt;/b&gt;&lt;/h3&gt;\n",
       "             \n",
       "    \n",
       "            &lt;div class=&quot;folium-map&quot; id=&quot;map_1ae3657dbb7b55d1b008a3f3abf6e7d2&quot; &gt;&lt;/div&gt;\n",
       "        \n",
       "&lt;/body&gt;\n",
       "&lt;script&gt;    \n",
       "    \n",
       "            var map_1ae3657dbb7b55d1b008a3f3abf6e7d2 = L.map(\n",
       "                &quot;map_1ae3657dbb7b55d1b008a3f3abf6e7d2&quot;,\n",
       "                {\n",
       "                    center: [26.12396791875, -80.1416741875],\n",
       "                    crs: L.CRS.EPSG3857,\n",
       "                    zoom: 13,\n",
       "                    zoomControl: true,\n",
       "                    preferCanvas: false,\n",
       "                }\n",
       "            );\n",
       "\n",
       "            \n",
       "\n",
       "        \n",
       "    \n",
       "            var tile_layer_40932957b77f21870f78b2310b366ada = L.tileLayer(\n",
       "                &quot;https://{s}.tile.openstreetmap.org/{z}/{x}/{y}.png&quot;,\n",
       "                {&quot;attribution&quot;: &quot;Data by \\u0026copy; \\u003ca href=\\&quot;http://openstreetmap.org\\&quot;\\u003eOpenStreetMap\\u003c/a\\u003e, under \\u003ca href=\\&quot;http://www.openstreetmap.org/copyright\\&quot;\\u003eODbL\\u003c/a\\u003e.&quot;, &quot;detectRetina&quot;: false, &quot;maxNativeZoom&quot;: 18, &quot;maxZoom&quot;: 18, &quot;minZoom&quot;: 0, &quot;noWrap&quot;: false, &quot;opacity&quot;: 1, &quot;subdomains&quot;: &quot;abc&quot;, &quot;tms&quot;: false}\n",
       "            ).addTo(map_1ae3657dbb7b55d1b008a3f3abf6e7d2);\n",
       "        \n",
       "    \n",
       "            var marker_abb054b121bfc50ce6582e0f016b1ecc = L.marker(\n",
       "                [26.1218889, -80.14673979999999],\n",
       "                {}\n",
       "            ).addTo(map_1ae3657dbb7b55d1b008a3f3abf6e7d2);\n",
       "        \n",
       "    \n",
       "        var popup_a5ce0b1a4fdce0dad137d6442f8d7d0b = L.popup({&quot;maxWidth&quot;: &quot;100%&quot;});\n",
       "\n",
       "        \n",
       "            var html_386fa079aced4580650671124bca4485 = $(`&lt;div id=&quot;html_386fa079aced4580650671124bca4485&quot; style=&quot;width: 100.0%; height: 100.0%;&quot;&gt;&lt;!DOCTYPE html&gt;     &lt;html&gt;     &lt;img src=https://s12.therealdeal.com/trd/m/up/2022/01/main_MIA_KushnerFLL-705x439.jpg width=&quot;256&quot; height=&quot;156&quot;&gt;&lt;br&gt;______________________________________&lt;br&gt;     Address: &lt;strong&gt;300 West Broward Boulevard&lt;/strong&gt;&lt;br&gt;     Developer(s): &lt;strong&gt;&lt;em&gt;Kushner, Aimco&lt;/strong&gt;&lt;/em&gt;&lt;br&gt;&lt;br&gt;     &lt;strong&gt;&lt;a href=&quot;https://therealdeal.com/miami/2022/01/17/multifamily-giants-kushner-and-aimco-acquire-site-of-fort-lauderdale-mega-project/&quot;&gt;Apartment giants&lt;/a&gt; Kushner Companies and Aimco paid $49 million for an assemblage in downtown Fort Lauderdale in January. The companies plan a 3 million-square-foot multi-tower development, following a key zoning change from the Fort Lauderdale commission last year.&lt;/strong&gt;&lt;/html&gt;     &lt;/div&gt;`)[0];\n",
       "            popup_a5ce0b1a4fdce0dad137d6442f8d7d0b.setContent(html_386fa079aced4580650671124bca4485);\n",
       "        \n",
       "\n",
       "        marker_abb054b121bfc50ce6582e0f016b1ecc.bindPopup(popup_a5ce0b1a4fdce0dad137d6442f8d7d0b)\n",
       "        ;\n",
       "\n",
       "        \n",
       "    \n",
       "    \n",
       "            var marker_d99665207b0b30574725691c87942dd9 = L.marker(\n",
       "                [26.125246, -80.14340349999999],\n",
       "                {}\n",
       "            ).addTo(map_1ae3657dbb7b55d1b008a3f3abf6e7d2);\n",
       "        \n",
       "    \n",
       "        var popup_1e6f4d6d62ca32fddefa297f26f5e672 = L.popup({&quot;maxWidth&quot;: &quot;100%&quot;});\n",
       "\n",
       "        \n",
       "            var html_be17c01424efb3dd50db50841b0ff24b = $(`&lt;div id=&quot;html_be17c01424efb3dd50db50841b0ff24b&quot; style=&quot;width: 100.0%; height: 100.0%;&quot;&gt;&lt;!DOCTYPE html&gt;     &lt;html&gt;     &lt;img src=https://s13.therealdeal.com/trd/m/up/2019/01/1200-bh3-650x405.jpg width=&quot;256&quot; height=&quot;156&quot;&gt;&lt;br&gt;______________________________________&lt;br&gt;     Address: &lt;strong&gt;300 North Andrews Avenue&lt;/strong&gt;&lt;br&gt;     Developer(s): &lt;strong&gt;&lt;em&gt;BH3&lt;/strong&gt;&lt;/em&gt;&lt;br&gt;&lt;br&gt;     &lt;strong&gt;&lt;a href=&quot;https://therealdeal.com/miami/2019/01/29/bh3-buys-fatcity-development-site-in-downtown-fort-lauderdale/&quot;&gt;BH3 paid Traina&lt;/a&gt; Companies, a co-developer of Privé at Island Estates in Aventura, $23.1 million for FATcity, a 2.8-acre city block in 2019. The developer plans to build 612 apartments on the site. BH3 financed the deal with a $14.4 million loan from New York-based Maxim Credit Group.&lt;/strong&gt;&lt;/html&gt;     &lt;/div&gt;`)[0];\n",
       "            popup_1e6f4d6d62ca32fddefa297f26f5e672.setContent(html_be17c01424efb3dd50db50841b0ff24b);\n",
       "        \n",
       "\n",
       "        marker_d99665207b0b30574725691c87942dd9.bindPopup(popup_1e6f4d6d62ca32fddefa297f26f5e672)\n",
       "        ;\n",
       "\n",
       "        \n",
       "    \n",
       "    \n",
       "            var marker_d14bb32ad14e05337aa93b37d4873553 = L.marker(\n",
       "                [26.121882, -80.14906400000001],\n",
       "                {}\n",
       "            ).addTo(map_1ae3657dbb7b55d1b008a3f3abf6e7d2);\n",
       "        \n",
       "    \n",
       "        var popup_9f19e74d0c56cafa14a3fc4bb61aa72e = L.popup({&quot;maxWidth&quot;: &quot;100%&quot;});\n",
       "\n",
       "        \n",
       "            var html_ededb2ff97116a1d58a53e5dcb5d0cdc = $(`&lt;div id=&quot;html_ededb2ff97116a1d58a53e5dcb5d0cdc&quot; style=&quot;width: 100.0%; height: 100.0%;&quot;&gt;&lt;!DOCTYPE html&gt;     &lt;html&gt;     &lt;img src=https://s12.therealdeal.com/trd/m/up/2022/01/main_MIA_KushnerFLL-705x439.jpg width=&quot;256&quot; height=&quot;156&quot;&gt;&lt;br&gt;______________________________________&lt;br&gt;     Address: &lt;strong&gt;520 West Broward Boulevard&lt;/strong&gt;&lt;br&gt;     Developer(s): &lt;strong&gt;&lt;em&gt;Kushner, Aimco&lt;/strong&gt;&lt;/em&gt;&lt;br&gt;&lt;br&gt;     &lt;strong&gt;&lt;a href=&quot;https://therealdeal.com/miami/2022/01/17/multifamily-giants-kushner-and-aimco-acquire-site-of-fort-lauderdale-mega-project/&quot;&gt;Apartment giants&lt;/a&gt; Kushner Companies and Aimco paid $49 million for an assemblage in downtown Fort Lauderdale in January. The companies plan a 3 million-square-foot multi-tower development, following a key zoning change from the Fort Lauderdale commission last year.&lt;/strong&gt;&lt;/html&gt;     &lt;/div&gt;`)[0];\n",
       "            popup_9f19e74d0c56cafa14a3fc4bb61aa72e.setContent(html_ededb2ff97116a1d58a53e5dcb5d0cdc);\n",
       "        \n",
       "\n",
       "        marker_d14bb32ad14e05337aa93b37d4873553.bindPopup(popup_9f19e74d0c56cafa14a3fc4bb61aa72e)\n",
       "        ;\n",
       "\n",
       "        \n",
       "    \n",
       "    \n",
       "            var marker_89c4052d962f85fe75ef93e70b74810d = L.marker(\n",
       "                [26.1254283, -80.1404901],\n",
       "                {}\n",
       "            ).addTo(map_1ae3657dbb7b55d1b008a3f3abf6e7d2);\n",
       "        \n",
       "    \n",
       "        var popup_9b52cc61a38b4aa1d0556699058990df = L.popup({&quot;maxWidth&quot;: &quot;100%&quot;});\n",
       "\n",
       "        \n",
       "            var html_ab18f6122d5c8548af683bf4ad919e8b = $(`&lt;div id=&quot;html_ab18f6122d5c8548af683bf4ad919e8b&quot; style=&quot;width: 100.0%; height: 100.0%;&quot;&gt;&lt;!DOCTYPE html&gt;     &lt;html&gt;     &lt;img src=https://therealdeal.com/miami/wp-content/uploads/2022/06/main_MIA_BK-FTL-project-705x439.jpg width=&quot;256&quot; height=&quot;156&quot;&gt;&lt;br&gt;______________________________________&lt;br&gt;     Address: &lt;strong&gt;300 Northeast third avenue&lt;/strong&gt;&lt;br&gt;     Developer(s): &lt;strong&gt;&lt;em&gt;Dependable Equities, LLC&lt;/strong&gt;&lt;/em&gt;&lt;br&gt;&lt;br&gt;     &lt;strong&gt;&lt;a href=&quot;https://therealdeal.com/miami/2022/06/03/brooklyn-developer-plans-1100-unit-fort-lauderdale-project/&quot;&gt;Brooklyn-based&lt;/a&gt; Dependable Equities plans a 1.5-million-square-foot development called Ombelle. Plans currently call for 1,100 luxury rental units. The developer paid $27 million for the 1.9-acre assemblage in November.&lt;/strong&gt;&lt;/html&gt;     &lt;/div&gt;`)[0];\n",
       "            popup_9b52cc61a38b4aa1d0556699058990df.setContent(html_ab18f6122d5c8548af683bf4ad919e8b);\n",
       "        \n",
       "\n",
       "        marker_89c4052d962f85fe75ef93e70b74810d.bindPopup(popup_9b52cc61a38b4aa1d0556699058990df)\n",
       "        ;\n",
       "\n",
       "        \n",
       "    \n",
       "    \n",
       "            var marker_c7c5c782f82c38ec6527e0a2e6ca9cc1 = L.marker(\n",
       "                [26.1309278, -80.14498239999999],\n",
       "                {}\n",
       "            ).addTo(map_1ae3657dbb7b55d1b008a3f3abf6e7d2);\n",
       "        \n",
       "    \n",
       "        var popup_110a8759325f04dead7730a0480cdd00 = L.popup({&quot;maxWidth&quot;: &quot;100%&quot;});\n",
       "\n",
       "        \n",
       "            var html_253d263d60262a5c63aec2a7c35b84a9 = $(`&lt;div id=&quot;html_253d263d60262a5c63aec2a7c35b84a9&quot; style=&quot;width: 100.0%; height: 100.0%;&quot;&gt;&lt;!DOCTYPE html&gt;     &lt;html&gt;     &lt;img src=https://s12.therealdeal.com/trd/m/up/2018/02/Ricardo-Vadia-600-650x377.jpg width=&quot;256&quot; height=&quot;156&quot;&gt;&lt;br&gt;______________________________________&lt;br&gt;     Address: &lt;strong&gt;626 Northeast first avenue&lt;/strong&gt;&lt;br&gt;     Developer(s): &lt;strong&gt;&lt;em&gt;ROVR Development&lt;/strong&gt;&lt;/em&gt;&lt;br&gt;&lt;br&gt;     &lt;strong&gt;&lt;a href=&quot;https://therealdeal.com/miami/2018/02/26/miami-developer-buys-flagler-626-site-in-fort-lauderdale/&quot;&gt;Ricardo Vadia, who&lt;/a&gt; leads Miami-based ROVR development, bought the 27,000-square-foot site from Israeli developers Doron Broman, Simon Langbret and Uri Redler in 2018 for $2.8 million. According to the Fort Lauderdale Downtown Development Authority, 99 condos are planned for the site.&lt;/strong&gt;&lt;/html&gt;     &lt;/div&gt;`)[0];\n",
       "            popup_110a8759325f04dead7730a0480cdd00.setContent(html_253d263d60262a5c63aec2a7c35b84a9);\n",
       "        \n",
       "\n",
       "        marker_c7c5c782f82c38ec6527e0a2e6ca9cc1.bindPopup(popup_110a8759325f04dead7730a0480cdd00)\n",
       "        ;\n",
       "\n",
       "        \n",
       "    \n",
       "    \n",
       "            var marker_0db3f6da1b09589d7eed822d8d87cf3d = L.marker(\n",
       "                [26.125246, -80.14340349999999],\n",
       "                {}\n",
       "            ).addTo(map_1ae3657dbb7b55d1b008a3f3abf6e7d2);\n",
       "        \n",
       "    \n",
       "        var popup_0731a329100d426ef121b6f1b9b35329 = L.popup({&quot;maxWidth&quot;: &quot;100%&quot;});\n",
       "\n",
       "        \n",
       "            var html_9dd146cf6945c4c903ae853c732c5e89 = $(`&lt;div id=&quot;html_9dd146cf6945c4c903ae853c732c5e89&quot; style=&quot;width: 100.0%; height: 100.0%;&quot;&gt;&lt;!DOCTYPE html&gt;     &lt;html&gt;     &lt;img src=https://s13.therealdeal.com/trd/m/up/2019/01/1200-bh3-650x405.jpg width=&quot;256&quot; height=&quot;156&quot;&gt;&lt;br&gt;______________________________________&lt;br&gt;     Address: &lt;strong&gt;300 North Andrews Avenue&lt;/strong&gt;&lt;br&gt;     Developer(s): &lt;strong&gt;&lt;em&gt;BH3&lt;/strong&gt;&lt;/em&gt;&lt;br&gt;&lt;br&gt;     &lt;strong&gt;&lt;a href=&quot;https://therealdeal.com/miami/2019/01/29/bh3-buys-fatcity-development-site-in-downtown-fort-lauderdale/&quot;&gt;BH3 paid Traina&lt;/a&gt; Companies, a co-developer of Privé at Island Estates in Aventura, $23.1 million for FATcity, a 2.8-acre city block in 2019. The developer plans to build 612 apartments on the site. BH3 financed the deal with a $14.4 million loan from New York-based Maxim Credit Group.&lt;/strong&gt;&lt;/html&gt;     &lt;/div&gt;`)[0];\n",
       "            popup_0731a329100d426ef121b6f1b9b35329.setContent(html_9dd146cf6945c4c903ae853c732c5e89);\n",
       "        \n",
       "\n",
       "        marker_0db3f6da1b09589d7eed822d8d87cf3d.bindPopup(popup_0731a329100d426ef121b6f1b9b35329)\n",
       "        ;\n",
       "\n",
       "        \n",
       "    \n",
       "    \n",
       "            var marker_63e60fb95cf0a96f0f47ef34d07009bc = L.marker(\n",
       "                [26.1137754, -80.13869319999999],\n",
       "                {}\n",
       "            ).addTo(map_1ae3657dbb7b55d1b008a3f3abf6e7d2);\n",
       "        \n",
       "    \n",
       "        var popup_03d874065da6fb9540748c00753e1227 = L.popup({&quot;maxWidth&quot;: &quot;100%&quot;});\n",
       "\n",
       "        \n",
       "            var html_f7d4c32066d4ffa2d4e3bd02d12bb2e8 = $(`&lt;div id=&quot;html_f7d4c32066d4ffa2d4e3bd02d12bb2e8&quot; style=&quot;width: 100.0%; height: 100.0%;&quot;&gt;&lt;!DOCTYPE html&gt;     &lt;html&gt;     &lt;img src=https://s11.therealdeal.com/trd/m/up/2020/06/oko-1-650x405.jpg width=&quot;256&quot; height=&quot;156&quot;&gt;&lt;br&gt;______________________________________&lt;br&gt;     Address: &lt;strong&gt;629 Southeast fifth avenue&lt;/strong&gt;&lt;br&gt;     Developer(s): &lt;strong&gt;&lt;em&gt;OKO Group&lt;/strong&gt;&lt;/em&gt;&lt;br&gt;&lt;br&gt;     &lt;strong&gt;&lt;a href=&quot;https://therealdeal.com/miami/2020/06/10/billionaire-developer-doronin-buys-fort-lauderdale-assemblage-for-63m/&quot;&gt;Billionaire&lt;/a&gt; developer Vladislav Doronin assembled and closed on three blocks in Fort Lauderdale — including Dev Motwani’s 629 Southeast Fifth Avenue — for a total of $63 million. Motwani sold the property in 2020. A year earlier, he received city approval for a 246-unit, 34-story apartment tower.&lt;/strong&gt;&lt;/html&gt;     &lt;/div&gt;`)[0];\n",
       "            popup_03d874065da6fb9540748c00753e1227.setContent(html_f7d4c32066d4ffa2d4e3bd02d12bb2e8);\n",
       "        \n",
       "\n",
       "        marker_63e60fb95cf0a96f0f47ef34d07009bc.bindPopup(popup_03d874065da6fb9540748c00753e1227)\n",
       "        ;\n",
       "\n",
       "        \n",
       "    \n",
       "    \n",
       "            var marker_0f61d497c8b7f113c1c0e96f181da277 = L.marker(\n",
       "                [26.1279038, -80.1447802],\n",
       "                {}\n",
       "            ).addTo(map_1ae3657dbb7b55d1b008a3f3abf6e7d2);\n",
       "        \n",
       "    \n",
       "        var popup_5655ab15101b77f2e0a72491bfc84114 = L.popup({&quot;maxWidth&quot;: &quot;100%&quot;});\n",
       "\n",
       "        \n",
       "            var html_4d597300777cd3cd72f569f9e8461ceb = $(`&lt;div id=&quot;html_4d597300777cd3cd72f569f9e8461ceb&quot; style=&quot;width: 100.0%; height: 100.0%;&quot;&gt;&lt;!DOCTYPE html&gt;     &lt;html&gt;     &lt;img src=https://s13.therealdeal.com/trd/m/up/2021/10/MIA-Hines-buys-dev-site-in-downtown-Fort-Lauderdales-FATVillage-for-57M-MAIN-705x439.jpg width=&quot;256&quot; height=&quot;156&quot;&gt;&lt;br&gt;______________________________________&lt;br&gt;     Address: &lt;strong&gt;501 Northwest first avenue&lt;/strong&gt;&lt;br&gt;     Developer(s): &lt;strong&gt;&lt;em&gt;Hines, Urban Street Developer&lt;/strong&gt;&lt;/em&gt;&lt;br&gt;&lt;br&gt;     &lt;strong&gt;&lt;a href=&quot;https://therealdeal.com/miami/2021/10/05/hines-pays-57m-for-office-building-dev-site-in-fort-lauderdales-fatvillage/&quot;&gt;Houston-based Hines&lt;/a&gt; paid $57.4 million for a mixed-use project site in FATVillage last year, with plans to build 835,000 square feet of office space, retail and residences. Hines and Fort Lauderdale-based Urban Street Development are partnering on the project.&lt;/strong&gt;&lt;/html&gt;     &lt;/div&gt;`)[0];\n",
       "            popup_5655ab15101b77f2e0a72491bfc84114.setContent(html_4d597300777cd3cd72f569f9e8461ceb);\n",
       "        \n",
       "\n",
       "        marker_0f61d497c8b7f113c1c0e96f181da277.bindPopup(popup_5655ab15101b77f2e0a72491bfc84114)\n",
       "        ;\n",
       "\n",
       "        \n",
       "    \n",
       "    \n",
       "            var marker_7de20038cc933d13630f9e8c7533d8ad = L.marker(\n",
       "                [26.116285, -80.1466308],\n",
       "                {}\n",
       "            ).addTo(map_1ae3657dbb7b55d1b008a3f3abf6e7d2);\n",
       "        \n",
       "    \n",
       "        var popup_fab93ffe5d801a62a2742273d36bcfcf = L.popup({&quot;maxWidth&quot;: &quot;100%&quot;});\n",
       "\n",
       "        \n",
       "            var html_a003780ab04dcb673fc196a445d55694 = $(`&lt;div id=&quot;html_a003780ab04dcb673fc196a445d55694&quot; style=&quot;width: 100.0%; height: 100.0%;&quot;&gt;&lt;!DOCTYPE html&gt;     &lt;html&gt;     &lt;img src=https://s11.therealdeal.com/trd/m/up/2018/03/Rendering-of-River-Lofts-on-Fifth600-650x377.jpg width=&quot;256&quot; height=&quot;156&quot;&gt;&lt;br&gt;______________________________________&lt;br&gt;     Address: &lt;strong&gt;307 Southwest fifth street&lt;/strong&gt;&lt;br&gt;     Developer(s): &lt;strong&gt;&lt;em&gt;Moderno&lt;/strong&gt;&lt;/em&gt;&lt;br&gt;&lt;br&gt;     &lt;strong&gt;&lt;a href=&quot;https://therealdeal.com/miami/2018/03/29/developer-buys-land-for-80m-mixed-use-rental-project-in-fort-lauderdale/&quot;&gt;Moderno Development&lt;/a&gt; Group, led by Christopher Bibus and Doron Broman, paid $5 million for an assemblage in 2018 with plans to build an $80 million mixed-use rental building. The developer has approval to build over 300 apartments.&lt;/strong&gt;&lt;/html&gt;     &lt;/div&gt;`)[0];\n",
       "            popup_fab93ffe5d801a62a2742273d36bcfcf.setContent(html_a003780ab04dcb673fc196a445d55694);\n",
       "        \n",
       "\n",
       "        marker_7de20038cc933d13630f9e8c7533d8ad.bindPopup(popup_fab93ffe5d801a62a2742273d36bcfcf)\n",
       "        ;\n",
       "\n",
       "        \n",
       "    \n",
       "    \n",
       "            var marker_7e45f7909e6f36277faacecc4c22dcb4 = L.marker(\n",
       "                [26.117848, -80.135001],\n",
       "                {}\n",
       "            ).addTo(map_1ae3657dbb7b55d1b008a3f3abf6e7d2);\n",
       "        \n",
       "    \n",
       "        var popup_3193638f5682d09ce2f7bc60dc71d4c5 = L.popup({&quot;maxWidth&quot;: &quot;100%&quot;});\n",
       "\n",
       "        \n",
       "            var html_8536ba012204ccaf5ec483ac185861dc = $(`&lt;div id=&quot;html_8536ba012204ccaf5ec483ac185861dc&quot; style=&quot;width: 100.0%; height: 100.0%;&quot;&gt;&lt;!DOCTYPE html&gt;     &lt;html&gt;     &lt;img src=https://s13.therealdeal.com/trd/m/up/2021/12/main_MIA_808-SE-4th-705x439.jpg width=&quot;256&quot; height=&quot;156&quot;&gt;&lt;br&gt;______________________________________&lt;br&gt;     Address: &lt;strong&gt;808 Southeast fourth street&lt;/strong&gt;&lt;br&gt;     Developer(s): &lt;strong&gt;&lt;em&gt;Roberts Equities&lt;/strong&gt;&lt;/em&gt;&lt;br&gt;&lt;br&gt;     &lt;strong&gt;&lt;a href=&quot;https://therealdeal.com/miami/2021/12/27/fort-lauderdale-approves-downsized-riverfront-condo-project-downtown/&quot;&gt;Boca Raton-based&lt;/a&gt; Roberts Equities LLC won approval in December to build several dozen condos. The developer planned to begin pre-construction condo sales at the half-acre site this year. The company bought the site through an entity for $6.1 million in 2016.&lt;/strong&gt;&lt;/html&gt;     &lt;/div&gt;`)[0];\n",
       "            popup_3193638f5682d09ce2f7bc60dc71d4c5.setContent(html_8536ba012204ccaf5ec483ac185861dc);\n",
       "        \n",
       "\n",
       "        marker_7e45f7909e6f36277faacecc4c22dcb4.bindPopup(popup_3193638f5682d09ce2f7bc60dc71d4c5)\n",
       "        ;\n",
       "\n",
       "        \n",
       "    \n",
       "    \n",
       "            var marker_56bd479ca012d9e19e8f7598f14f0a0e = L.marker(\n",
       "                [26.135447, -80.1385647],\n",
       "                {}\n",
       "            ).addTo(map_1ae3657dbb7b55d1b008a3f3abf6e7d2);\n",
       "        \n",
       "    \n",
       "        var popup_ffc36f254c260796efc8445b35f66602 = L.popup({&quot;maxWidth&quot;: &quot;100%&quot;});\n",
       "\n",
       "        \n",
       "            var html_53e803bc5f1d7bf088ee5213eda08d1d = $(`&lt;div id=&quot;html_53e803bc5f1d7bf088ee5213eda08d1d&quot; style=&quot;width: 100.0%; height: 100.0%;&quot;&gt;&lt;!DOCTYPE html&gt;     &lt;html&gt;     &lt;img src=https://s12.therealdeal.com/trd/m/up/2022/06/main-Aimco-drops-64M-for-mixed-use-dev-site-in-Fort-Lauderdales-Flagler-Village-705x439.jpg width=&quot;256&quot; height=&quot;156&quot;&gt;&lt;br&gt;______________________________________&lt;br&gt;     Address: &lt;strong&gt;901 North Federal Highway&lt;/strong&gt;&lt;br&gt;     Developer(s): &lt;strong&gt;&lt;em&gt;RK Associates #5 INC&lt;/strong&gt;&lt;/em&gt;&lt;br&gt;&lt;br&gt;     &lt;strong&gt;&lt;a href=&quot;https://therealdeal.com/miami/2022/06/07/aimco-drops-64m-for-mixed-use-dev-site-in-fort-lauderdales-flagler-village/&quot;&gt;Aimco bought a&lt;/a&gt; redevelopment site in Flagler Village for $64 million, which is part of an assemblage for a new mixed-use project. The developer has approval to build 1,500 apartments, spanning 3 million square feet on a 9-acre site, in phases.&lt;/strong&gt;&lt;/html&gt;     &lt;/div&gt;`)[0];\n",
       "            popup_ffc36f254c260796efc8445b35f66602.setContent(html_53e803bc5f1d7bf088ee5213eda08d1d);\n",
       "        \n",
       "\n",
       "        marker_56bd479ca012d9e19e8f7598f14f0a0e.bindPopup(popup_ffc36f254c260796efc8445b35f66602)\n",
       "        ;\n",
       "\n",
       "        \n",
       "    \n",
       "    \n",
       "            var marker_b4f51b36a85edbf6c01c304bf68f95bb = L.marker(\n",
       "                [26.1259457, -80.1375892],\n",
       "                {}\n",
       "            ).addTo(map_1ae3657dbb7b55d1b008a3f3abf6e7d2);\n",
       "        \n",
       "    \n",
       "        var popup_5fe7bf1c3c153d10d889d8a84f96cac6 = L.popup({&quot;maxWidth&quot;: &quot;100%&quot;});\n",
       "\n",
       "        \n",
       "            var html_abec6902acccbcee97f07ba1bf331189 = $(`&lt;div id=&quot;html_abec6902acccbcee97f07ba1bf331189&quot; style=&quot;width: 100.0%; height: 100.0%;&quot;&gt;&lt;!DOCTYPE html&gt;     &lt;html&gt;     &lt;img src=https://s14.therealdeal.com/trd/m/up/2020/09/dev-site-1-650x405.jpg width=&quot;256&quot; height=&quot;156&quot;&gt;&lt;br&gt;______________________________________&lt;br&gt;     Address: &lt;strong&gt;317 North Federal Highway&lt;/strong&gt;&lt;br&gt;     Developer(s): &lt;strong&gt;&lt;em&gt;616 SE 4th Avenue LLC&lt;/strong&gt;&lt;/em&gt;&lt;br&gt;&lt;br&gt;     &lt;strong&gt;&lt;a href=&quot;https://therealdeal.com/miami/2020/09/30/dev-motwani-buys-fort-lauderdale-dev-site-for-14m/&quot;&gt;Developer Dev&lt;/a&gt; Motwani paid $14 million for a development site where he’s approved to build over 700 residential units, according to the Fort Lauderdale Downtown Development Authority.&lt;/strong&gt;&lt;/html&gt;     &lt;/div&gt;`)[0];\n",
       "            popup_5fe7bf1c3c153d10d889d8a84f96cac6.setContent(html_abec6902acccbcee97f07ba1bf331189);\n",
       "        \n",
       "\n",
       "        marker_b4f51b36a85edbf6c01c304bf68f95bb.bindPopup(popup_5fe7bf1c3c153d10d889d8a84f96cac6)\n",
       "        ;\n",
       "\n",
       "        \n",
       "    \n",
       "    \n",
       "            var marker_5170d30370ab95d0af3d7da5d0672935 = L.marker(\n",
       "                [26.1170354, -80.1375011],\n",
       "                {}\n",
       "            ).addTo(map_1ae3657dbb7b55d1b008a3f3abf6e7d2);\n",
       "        \n",
       "    \n",
       "        var popup_0d218896869a00404a9bab2ff4f9fccf = L.popup({&quot;maxWidth&quot;: &quot;100%&quot;});\n",
       "\n",
       "        \n",
       "            var html_b2cb062a5ffdf91e982f8f4bb18afd96 = $(`&lt;div id=&quot;html_b2cb062a5ffdf91e982f8f4bb18afd96&quot; style=&quot;width: 100.0%; height: 100.0%;&quot;&gt;&lt;!DOCTYPE html&gt;     &lt;html&gt;     &lt;img src=https://s13.therealdeal.com/trd/m/up/2021/06/jean-francois-roy-renderingspsd-705x439.jpg width=&quot;256&quot; height=&quot;156&quot;&gt;&lt;br&gt;______________________________________&lt;br&gt;     Address: &lt;strong&gt;501 Southeast Sixth Avenue&lt;/strong&gt;&lt;br&gt;     Developer(s): &lt;strong&gt;&lt;em&gt;Jean Francios Roy, Ocean Land Investments&lt;/strong&gt;&lt;/em&gt;&lt;br&gt;&lt;br&gt;     &lt;strong&gt;&lt;a href=&quot;https://therealdeal.com/miami/2021/06/17/jean-francois-roy-plans-bulk-condo-buyout-to-build-multifamily-project-near-downtown-fort-lauderdale/&quot;&gt;Jean Francois Roy,&lt;/a&gt; founder and CEO of Fort Lauderdale-based Ocean Land Investments, has approval to build a 96-unit multifamily development, replacing a three-story condominium. &lt;/strong&gt;&lt;/html&gt;     &lt;/div&gt;`)[0];\n",
       "            popup_0d218896869a00404a9bab2ff4f9fccf.setContent(html_b2cb062a5ffdf91e982f8f4bb18afd96);\n",
       "        \n",
       "\n",
       "        marker_5170d30370ab95d0af3d7da5d0672935.bindPopup(popup_0d218896869a00404a9bab2ff4f9fccf)\n",
       "        ;\n",
       "\n",
       "        \n",
       "    \n",
       "    \n",
       "            var marker_2ac0f73fcdeb5bd255253f700bfaeefa = L.marker(\n",
       "                [26.1318761, -80.1378427],\n",
       "                {}\n",
       "            ).addTo(map_1ae3657dbb7b55d1b008a3f3abf6e7d2);\n",
       "        \n",
       "    \n",
       "        var popup_044001d0247781f9ebae9f2a88ff225e = L.popup({&quot;maxWidth&quot;: &quot;100%&quot;});\n",
       "\n",
       "        \n",
       "            var html_da3e943805b5f3b6eaa69e3348702501 = $(`&lt;div id=&quot;html_da3e943805b5f3b6eaa69e3348702501&quot; style=&quot;width: 100.0%; height: 100.0%;&quot;&gt;&lt;!DOCTYPE html&gt;     &lt;html&gt;     &lt;img src=https://s13.therealdeal.com/trd/m/up/2019/07/Quantum-at-Flagler-Village-rendering-650x433.jpg width=&quot;256&quot; height=&quot;156&quot;&gt;&lt;br&gt;______________________________________&lt;br&gt;     Address: &lt;strong&gt;701 North Federal Highway&lt;/strong&gt;&lt;br&gt;     Developer(s): &lt;strong&gt;&lt;em&gt;Walker &amp; Dunlop&lt;/strong&gt;&lt;/em&gt;&lt;br&gt;&lt;br&gt;     &lt;strong&gt;&lt;a href=&quot;https://therealdeal.com/miami/2019/07/28/developer-borrows-105m-breaks-ground-for-mixed-use-flagler-village-project/&quot;&gt;Hollywood-based&lt;/a&gt; developer Walker &amp; Dunlop is currently constructing 337 apartments. The development, Called Quantum at Flagler Village, will have a 647-space parking garage and 20,884 square feet of retail space. The Flagler Village Land Trust assembled the parcels of land from 701 to 723 North Federal Highway in 2016.&lt;/strong&gt;&lt;/html&gt;     &lt;/div&gt;`)[0];\n",
       "            popup_044001d0247781f9ebae9f2a88ff225e.setContent(html_da3e943805b5f3b6eaa69e3348702501);\n",
       "        \n",
       "\n",
       "        marker_2ac0f73fcdeb5bd255253f700bfaeefa.bindPopup(popup_044001d0247781f9ebae9f2a88ff225e)\n",
       "        ;\n",
       "\n",
       "        \n",
       "    \n",
       "    \n",
       "            var marker_ad38ac4bc2b7906feea5f197307d923b = L.marker(\n",
       "                [26.1261428, -80.1448209],\n",
       "                {}\n",
       "            ).addTo(map_1ae3657dbb7b55d1b008a3f3abf6e7d2);\n",
       "        \n",
       "    \n",
       "        var popup_2a3c76717f84dabe5b0d365a6ab5062e = L.popup({&quot;maxWidth&quot;: &quot;100%&quot;});\n",
       "\n",
       "        \n",
       "            var html_472f3d1bb68d2bb6fd1132cc4c2f7b86 = $(`&lt;div id=&quot;html_472f3d1bb68d2bb6fd1132cc4c2f7b86&quot; style=&quot;width: 100.0%; height: 100.0%;&quot;&gt;&lt;!DOCTYPE html&gt;     &lt;html&gt;     &lt;img src=https://s13.therealdeal.com/trd/m/up/2020/05/urban-street-1-650x405.jpg width=&quot;256&quot; height=&quot;156&quot;&gt;&lt;br&gt;______________________________________&lt;br&gt;     Address: &lt;strong&gt;401 Northwest First Avenue&lt;/strong&gt;&lt;br&gt;     Developer(s): &lt;strong&gt;&lt;em&gt;Urban Street Development&lt;/strong&gt;&lt;/em&gt;&lt;br&gt;&lt;br&gt;     &lt;strong&gt;&lt;a href=&quot;https://therealdeal.com/miami/2020/05/15/urban-street-development-scores-loan-for-fatvillage-loft-project/&quot;&gt;Urban Street&lt;/a&gt; Development, led by real estate developer Alan Hooper and restaurateur and entrepreneur Tim Petrillo, scored a $9 million construction loan in 2020 to complete The Forge, a 35-unit apartment building in Fort Lauderdale’s FATVillage. According to the Fort Lauderdale Downtown Development Authority, the project is currently under construction.&lt;/strong&gt;&lt;/html&gt;     &lt;/div&gt;`)[0];\n",
       "            popup_2a3c76717f84dabe5b0d365a6ab5062e.setContent(html_472f3d1bb68d2bb6fd1132cc4c2f7b86);\n",
       "        \n",
       "\n",
       "        marker_ad38ac4bc2b7906feea5f197307d923b.bindPopup(popup_2a3c76717f84dabe5b0d365a6ab5062e)\n",
       "        ;\n",
       "\n",
       "        \n",
       "    \n",
       "    \n",
       "            var marker_01b244f8b870fa8612bf060d3e0c0e0e = L.marker(\n",
       "                [26.1206085, -80.1372799],\n",
       "                {}\n",
       "            ).addTo(map_1ae3657dbb7b55d1b008a3f3abf6e7d2);\n",
       "        \n",
       "    \n",
       "        var popup_19759d95830b4f5c80850d311be15726 = L.popup({&quot;maxWidth&quot;: &quot;100%&quot;});\n",
       "\n",
       "        \n",
       "            var html_120adad695b1e10fdd44918701e236ea = $(`&lt;div id=&quot;html_120adad695b1e10fdd44918701e236ea&quot; style=&quot;width: 100.0%; height: 100.0%;&quot;&gt;&lt;!DOCTYPE html&gt;     &lt;html&gt;     &lt;img src=https://s13.therealdeal.com/trd/m/up/2021/08/Main-MainImage_RelatedGroup84M-2-705x439.jpg width=&quot;256&quot; height=&quot;156&quot;&gt;&lt;br&gt;______________________________________&lt;br&gt;     Address: &lt;strong&gt;201 South Federal Highway&lt;/strong&gt;&lt;br&gt;     Developer(s): &lt;strong&gt;&lt;em&gt;Related Group&lt;/strong&gt;&lt;/em&gt;&lt;br&gt;&lt;br&gt;     &lt;strong&gt;&lt;a href=&quot;https://therealdeal.com/miami/2021/08/06/related-group-scores-84m-construction-loan-for-fort-lauderdale-apartment-tower/&quot;&gt;Jorge Pérez’s&lt;/a&gt; Related Group, armed with an $84 million construction loan from Bank of America, is building over 300 apartments at 201 South Federal Highway.&lt;/strong&gt;&lt;/html&gt;     &lt;/div&gt;`)[0];\n",
       "            popup_19759d95830b4f5c80850d311be15726.setContent(html_120adad695b1e10fdd44918701e236ea);\n",
       "        \n",
       "\n",
       "        marker_01b244f8b870fa8612bf060d3e0c0e0e.bindPopup(popup_19759d95830b4f5c80850d311be15726)\n",
       "        ;\n",
       "\n",
       "        \n",
       "    \n",
       "    \n",
       "            map_1ae3657dbb7b55d1b008a3f3abf6e7d2.fitBounds(\n",
       "                [26.12396791875, -80.1416741875],\n",
       "                {&quot;maxZoom&quot;: 15}\n",
       "            );\n",
       "        \n",
       "&lt;/script&gt;\" style=\"position:absolute;width:100%;height:100%;left:0;top:0;border:none !important;\" allowfullscreen webkitallowfullscreen mozallowfullscreen></iframe></div></div>"
      ],
      "text/plain": [
       "<folium.folium.Map at 0x15fdd8160>"
      ]
     },
     "execution_count": 81,
     "metadata": {},
     "output_type": "execute_result"
    }
   ],
   "source": [
    "import folium\n",
    "import branca\n",
    "\n",
    "f = folium.Figure(width=750, height=750)\n",
    "m = folium.Map(location=df[[\"lat\", \"lon\"]].mean().to_list(),zoom_start=13)\n",
    "\n",
    "title_html = '''\n",
    "              <h3 align=\"center\" style=\"font-size:16px\"><b>{}</b></h3>\n",
    "             '''.format(f'New Development in Downtown Fort Lauderdale')\n",
    "\n",
    "for i in range(0,len(df)):\n",
    "    html = popup_html(i)\n",
    "    iframe = branca.element.IFrame(html=html)\n",
    "    popup = folium.Popup(folium.Html(html, script=True))\n",
    "    folium.Marker([df['lat'].iloc[i],df['lon'].iloc[i]],\n",
    "                 popup=popup).add_to(m)\n",
    "\n",
    "m.get_root().html.add_child(folium.Element(title_html))\n",
    "m.fit_bounds(bounds=df[['lat','lon']].mean().to_list(),max_zoom=15)\n",
    "# m.add_to(f)\n",
    "m"
   ]
  },
  {
   "cell_type": "code",
   "execution_count": 83,
   "metadata": {},
   "outputs": [],
   "source": [
    "m.save('index.html')"
   ]
  },
  {
   "cell_type": "code",
   "execution_count": 87,
   "metadata": {},
   "outputs": [
    {
     "name": "stdout",
     "output_type": "stream",
     "text": [
      "https://trd-digital.github.io/trd-news-interactive-maps/dtown_fr_lauderdale\n"
     ]
    }
   ],
   "source": [
    "final_name = base_name + 'dtown_fr_lauderdale'\n",
    "print(final_name)"
   ]
  }
 ],
 "metadata": {
  "kernelspec": {
   "display_name": "Python 3 (ipykernel)",
   "language": "python",
   "name": "python3"
  },
  "language_info": {
   "codemirror_mode": {
    "name": "ipython",
    "version": 3
   },
   "file_extension": ".py",
   "mimetype": "text/x-python",
   "name": "python",
   "nbconvert_exporter": "python",
   "pygments_lexer": "ipython3",
   "version": "3.9.12"
  },
  "toc": {
   "base_numbering": 1,
   "nav_menu": {},
   "number_sections": true,
   "sideBar": true,
   "skip_h1_title": false,
   "title_cell": "Table of Contents",
   "title_sidebar": "Contents",
   "toc_cell": false,
   "toc_position": {},
   "toc_section_display": true,
   "toc_window_display": false
  }
 },
 "nbformat": 4,
 "nbformat_minor": 4
}
