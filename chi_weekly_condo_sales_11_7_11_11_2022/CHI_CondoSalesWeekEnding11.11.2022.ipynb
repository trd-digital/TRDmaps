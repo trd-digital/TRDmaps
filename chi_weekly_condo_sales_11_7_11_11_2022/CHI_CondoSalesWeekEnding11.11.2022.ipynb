{
 "cells": [
  {
   "cell_type": "code",
   "execution_count": 65,
   "metadata": {},
   "outputs": [],
   "source": [
    "from geopy.geocoders import GoogleV3\n",
    "import numpy as np\n",
    "import geocoder\n",
    "import pandas as pd\n",
    "from geojson import Feature, FeatureCollection, Point\n",
    "from datetime import datetime, timedelta\n",
    "import re\n",
    "import os"
   ]
  },
  {
   "cell_type": "markdown",
   "metadata": {},
   "source": [
    "## Get desired date variables"
   ]
  },
  {
   "cell_type": "code",
   "execution_count": 66,
   "metadata": {},
   "outputs": [],
   "source": [
    "week_start = '2022-6-11'\n",
    "week_end = '2022-12-11'\n",
    "\n",
    "week_start = datetime.strptime(week_start, '%Y-%d-%m')\n",
    "week_end = datetime.strptime(week_end, '%Y-%d-%m')"
   ]
  },
  {
   "cell_type": "markdown",
   "metadata": {},
   "source": [
    "## Read-in Data"
   ]
  },
  {
   "cell_type": "code",
   "execution_count": 67,
   "metadata": {},
   "outputs": [],
   "source": [
    "df = pd.read_csv('redfin_2022-11-15-14-49-21.csv', dtype={'YEAR BUILT':'str'})"
   ]
  },
  {
   "cell_type": "code",
   "execution_count": 68,
   "metadata": {},
   "outputs": [
    {
     "data": {
      "text/plain": [
       "228"
      ]
     },
     "execution_count": 68,
     "metadata": {},
     "output_type": "execute_result"
    }
   ],
   "source": [
    "len(df)"
   ]
  },
  {
   "cell_type": "code",
   "execution_count": 69,
   "metadata": {},
   "outputs": [
    {
     "data": {
      "text/plain": [
       "Index(['SALE TYPE', 'SOLD DATE', 'PROPERTY TYPE', 'ADDRESS', 'CITY',\n",
       "       'STATE OR PROVINCE', 'ZIP OR POSTAL CODE', 'PRICE', 'BEDS', 'BATHS',\n",
       "       'LOCATION', 'SQUARE FEET', 'LOT SIZE', 'YEAR BUILT', 'DAYS ON MARKET',\n",
       "       '$/SQUARE FEET', 'HOA/MONTH', 'STATUS', 'NEXT OPEN HOUSE START TIME',\n",
       "       'NEXT OPEN HOUSE END TIME',\n",
       "       'URL (SEE https://www.redfin.com/buy-a-home/comparative-market-analysis FOR INFO ON PRICING)',\n",
       "       'SOURCE', 'MLS#', 'FAVORITE', 'INTERESTED', 'LATITUDE', 'LONGITUDE'],\n",
       "      dtype='object')"
      ]
     },
     "execution_count": 69,
     "metadata": {},
     "output_type": "execute_result"
    }
   ],
   "source": [
    "df.columns"
   ]
  },
  {
   "cell_type": "code",
   "execution_count": 70,
   "metadata": {},
   "outputs": [],
   "source": [
    "df['SOLD DATE'] = pd.to_datetime(df['SOLD DATE'])"
   ]
  },
  {
   "cell_type": "code",
   "execution_count": 71,
   "metadata": {},
   "outputs": [],
   "source": [
    "df = df[(df['SOLD DATE'] >= week_start) & (df['SOLD DATE'] <= week_end)]"
   ]
  },
  {
   "cell_type": "code",
   "execution_count": 72,
   "metadata": {},
   "outputs": [
    {
     "data": {
      "text/plain": [
       "36"
      ]
     },
     "execution_count": 72,
     "metadata": {},
     "output_type": "execute_result"
    }
   ],
   "source": [
    "len(df)"
   ]
  },
  {
   "cell_type": "code",
   "execution_count": 73,
   "metadata": {},
   "outputs": [],
   "source": [
    "df = df.sort_values(by='PRICE', ascending=False).head(10)\n",
    "df['PRICE'] = df['PRICE'].apply(lambda x: '${:,}'.format(x))\n",
    "df['$/SQUARE FEET'] = df['$/SQUARE FEET'].apply(lambda x: '${:,}'.format(x))"
   ]
  },
  {
   "cell_type": "markdown",
   "metadata": {},
   "source": [
    "## Correction Section"
   ]
  },
  {
   "cell_type": "code",
   "execution_count": null,
   "metadata": {},
   "outputs": [],
   "source": []
  },
  {
   "cell_type": "markdown",
   "metadata": {},
   "source": [
    "## Map making section"
   ]
  },
  {
   "cell_type": "code",
   "execution_count": 74,
   "metadata": {},
   "outputs": [
    {
     "data": {
      "text/plain": [
       "Index(['SALE TYPE', 'SOLD DATE', 'PROPERTY TYPE', 'ADDRESS', 'CITY',\n",
       "       'STATE OR PROVINCE', 'ZIP OR POSTAL CODE', 'PRICE', 'BEDS', 'BATHS',\n",
       "       'LOCATION', 'SQUARE FEET', 'LOT SIZE', 'YEAR BUILT', 'DAYS ON MARKET',\n",
       "       '$/SQUARE FEET', 'HOA/MONTH', 'STATUS', 'NEXT OPEN HOUSE START TIME',\n",
       "       'NEXT OPEN HOUSE END TIME',\n",
       "       'URL (SEE https://www.redfin.com/buy-a-home/comparative-market-analysis FOR INFO ON PRICING)',\n",
       "       'SOURCE', 'MLS#', 'FAVORITE', 'INTERESTED', 'LATITUDE', 'LONGITUDE'],\n",
       "      dtype='object')"
      ]
     },
     "execution_count": 74,
     "metadata": {},
     "output_type": "execute_result"
    }
   ],
   "source": [
    "df.columns"
   ]
  },
  {
   "cell_type": "code",
   "execution_count": 79,
   "metadata": {},
   "outputs": [
    {
     "data": {
      "text/html": [
       "<div style=\"width:100%;\"><div style=\"position:relative;width:100%;height:0;padding-bottom:60%;\"><span style=\"color:#565656\">Make this Notebook Trusted to load map: File -> Trust Notebook</span><iframe srcdoc=\"&lt;!DOCTYPE html&gt;\n",
       "&lt;head&gt;    \n",
       "    &lt;meta http-equiv=&quot;content-type&quot; content=&quot;text/html; charset=UTF-8&quot; /&gt;\n",
       "    \n",
       "        &lt;script&gt;\n",
       "            L_NO_TOUCH = false;\n",
       "            L_DISABLE_3D = false;\n",
       "        &lt;/script&gt;\n",
       "    \n",
       "    &lt;style&gt;html, body {width: 100%;height: 100%;margin: 0;padding: 0;}&lt;/style&gt;\n",
       "    &lt;style&gt;#map {position:absolute;top:0;bottom:0;right:0;left:0;}&lt;/style&gt;\n",
       "    &lt;script src=&quot;https://cdn.jsdelivr.net/npm/leaflet@1.6.0/dist/leaflet.js&quot;&gt;&lt;/script&gt;\n",
       "    &lt;script src=&quot;https://code.jquery.com/jquery-1.12.4.min.js&quot;&gt;&lt;/script&gt;\n",
       "    &lt;script src=&quot;https://maxcdn.bootstrapcdn.com/bootstrap/3.2.0/js/bootstrap.min.js&quot;&gt;&lt;/script&gt;\n",
       "    &lt;script src=&quot;https://cdnjs.cloudflare.com/ajax/libs/Leaflet.awesome-markers/2.0.2/leaflet.awesome-markers.js&quot;&gt;&lt;/script&gt;\n",
       "    &lt;link rel=&quot;stylesheet&quot; href=&quot;https://cdn.jsdelivr.net/npm/leaflet@1.6.0/dist/leaflet.css&quot;/&gt;\n",
       "    &lt;link rel=&quot;stylesheet&quot; href=&quot;https://maxcdn.bootstrapcdn.com/bootstrap/3.2.0/css/bootstrap.min.css&quot;/&gt;\n",
       "    &lt;link rel=&quot;stylesheet&quot; href=&quot;https://maxcdn.bootstrapcdn.com/bootstrap/3.2.0/css/bootstrap-theme.min.css&quot;/&gt;\n",
       "    &lt;link rel=&quot;stylesheet&quot; href=&quot;https://maxcdn.bootstrapcdn.com/font-awesome/4.6.3/css/font-awesome.min.css&quot;/&gt;\n",
       "    &lt;link rel=&quot;stylesheet&quot; href=&quot;https://cdnjs.cloudflare.com/ajax/libs/Leaflet.awesome-markers/2.0.2/leaflet.awesome-markers.css&quot;/&gt;\n",
       "    &lt;link rel=&quot;stylesheet&quot; href=&quot;https://cdn.jsdelivr.net/gh/python-visualization/folium/folium/templates/leaflet.awesome.rotate.min.css&quot;/&gt;\n",
       "    \n",
       "            &lt;meta name=&quot;viewport&quot; content=&quot;width=device-width,\n",
       "                initial-scale=1.0, maximum-scale=1.0, user-scalable=no&quot; /&gt;\n",
       "            &lt;style&gt;\n",
       "                #map_cef9c024a50ae0e8ee298221f69dab4c {\n",
       "                    position: relative;\n",
       "                    width: 100.0%;\n",
       "                    height: 100.0%;\n",
       "                    left: 0.0%;\n",
       "                    top: 0.0%;\n",
       "                }\n",
       "            &lt;/style&gt;\n",
       "        \n",
       "&lt;/head&gt;\n",
       "&lt;body&gt;    \n",
       "    \n",
       "              &lt;h3 align=&quot;center&quot; style=&quot;font-size:16px&quot;&gt;&lt;b&gt;Recent Cook County Condo Sales &lt;/b&gt;&lt;/h3&gt;\n",
       "             \n",
       "    \n",
       "                &lt;p align=&quot;center&quot; style=&quot;vertical-align: bottom; font-size:13px&quot;&gt;&lt;i&gt;November 6th - November 12th&lt;/i&gt;&lt;/p&gt;\n",
       "                \n",
       "    \n",
       "            &lt;div class=&quot;folium-map&quot; id=&quot;map_cef9c024a50ae0e8ee298221f69dab4c&quot; &gt;&lt;/div&gt;\n",
       "        \n",
       "&lt;/body&gt;\n",
       "&lt;script&gt;    \n",
       "    \n",
       "            var map_cef9c024a50ae0e8ee298221f69dab4c = L.map(\n",
       "                &quot;map_cef9c024a50ae0e8ee298221f69dab4c&quot;,\n",
       "                {\n",
       "                    center: [41.90202434999999, -87.63537471],\n",
       "                    crs: L.CRS.EPSG3857,\n",
       "                    zoom: 12,\n",
       "                    zoomControl: true,\n",
       "                    preferCanvas: false,\n",
       "                }\n",
       "            );\n",
       "\n",
       "            \n",
       "\n",
       "        \n",
       "    \n",
       "            var tile_layer_57a05bd428c2c0c157848b92dbc6cc41 = L.tileLayer(\n",
       "                &quot;https://{s}.tile.openstreetmap.org/{z}/{x}/{y}.png&quot;,\n",
       "                {&quot;attribution&quot;: &quot;Data by \\u0026copy; \\u003ca href=\\&quot;http://openstreetmap.org\\&quot;\\u003eOpenStreetMap\\u003c/a\\u003e, under \\u003ca href=\\&quot;http://www.openstreetmap.org/copyright\\&quot;\\u003eODbL\\u003c/a\\u003e.&quot;, &quot;detectRetina&quot;: false, &quot;maxNativeZoom&quot;: 18, &quot;maxZoom&quot;: 18, &quot;minZoom&quot;: 0, &quot;noWrap&quot;: false, &quot;opacity&quot;: 1, &quot;subdomains&quot;: &quot;abc&quot;, &quot;tms&quot;: false}\n",
       "            ).addTo(map_cef9c024a50ae0e8ee298221f69dab4c);\n",
       "        \n",
       "    \n",
       "            var marker_97eeebb1ba32df8398b54f57ea334a06 = L.marker(\n",
       "                [41.9291507, -87.6401127],\n",
       "                {}\n",
       "            ).addTo(map_cef9c024a50ae0e8ee298221f69dab4c);\n",
       "        \n",
       "    \n",
       "            marker_97eeebb1ba32df8398b54f57ea334a06.bindTooltip(\n",
       "                `&lt;div&gt;\n",
       "                     Address: &lt;strong&gt;2550 N Lakeview Ave Unit T3501&lt;/strong&gt;&lt;br&gt;     Sale Price: &lt;strong&gt;$5,825,000&lt;/strong&gt;&lt;br&gt;    Price sq ft: &lt;strong&gt;$1,239.0&lt;/strong&gt;&lt;br&gt;     Year Built: &lt;strong&gt;2010&lt;/strong&gt;&lt;br&gt;&lt;/strong&gt;\n",
       "                 &lt;/div&gt;`,\n",
       "                {&quot;sticky&quot;: true}\n",
       "            );\n",
       "        \n",
       "    \n",
       "            var marker_88f9a37e57005805cefd9d14b271cee5 = L.marker(\n",
       "                [41.899701, -87.6276042],\n",
       "                {}\n",
       "            ).addTo(map_cef9c024a50ae0e8ee298221f69dab4c);\n",
       "        \n",
       "    \n",
       "            marker_88f9a37e57005805cefd9d14b271cee5.bindTooltip(\n",
       "                `&lt;div&gt;\n",
       "                     Address: &lt;strong&gt;11 E Walton Pl #4002&lt;/strong&gt;&lt;br&gt;     Sale Price: &lt;strong&gt;$5,330,000&lt;/strong&gt;&lt;br&gt;    Price sq ft: &lt;strong&gt;$1,333.0&lt;/strong&gt;&lt;br&gt;     Year Built: &lt;strong&gt;2009&lt;/strong&gt;&lt;br&gt;&lt;/strong&gt;\n",
       "                 &lt;/div&gt;`,\n",
       "                {&quot;sticky&quot;: true}\n",
       "            );\n",
       "        \n",
       "    \n",
       "            var marker_8ebd2b22bcb09f3c1b00308a6265d1cb = L.marker(\n",
       "                [41.8856379, -87.6154707],\n",
       "                {}\n",
       "            ).addTo(map_cef9c024a50ae0e8ee298221f69dab4c);\n",
       "        \n",
       "    \n",
       "            marker_8ebd2b22bcb09f3c1b00308a6265d1cb.bindTooltip(\n",
       "                `&lt;div&gt;\n",
       "                     Address: &lt;strong&gt;211 N Harbor Dr #4501&lt;/strong&gt;&lt;br&gt;     Sale Price: &lt;strong&gt;$3,442,850&lt;/strong&gt;&lt;br&gt;    Price sq ft: &lt;strong&gt;$1,147.0&lt;/strong&gt;&lt;br&gt;     Year Built: &lt;strong&gt;2021&lt;/strong&gt;&lt;br&gt;&lt;/strong&gt;\n",
       "                 &lt;/div&gt;`,\n",
       "                {&quot;sticky&quot;: true}\n",
       "            );\n",
       "        \n",
       "    \n",
       "            var marker_944a4ff3d5411f1277d32776243243c0 = L.marker(\n",
       "                [41.9116413, -87.6469189],\n",
       "                {}\n",
       "            ).addTo(map_cef9c024a50ae0e8ee298221f69dab4c);\n",
       "        \n",
       "    \n",
       "            marker_944a4ff3d5411f1277d32776243243c0.bindTooltip(\n",
       "                `&lt;div&gt;\n",
       "                     Address: &lt;strong&gt;1625 N Burling St #402&lt;/strong&gt;&lt;br&gt;     Sale Price: &lt;strong&gt;$2,360,000&lt;/strong&gt;&lt;br&gt;    Price sq ft: &lt;strong&gt;$nan&lt;/strong&gt;&lt;br&gt;     Year Built: &lt;strong&gt;2017&lt;/strong&gt;&lt;br&gt;&lt;/strong&gt;\n",
       "                 &lt;/div&gt;`,\n",
       "                {&quot;sticky&quot;: true}\n",
       "            );\n",
       "        \n",
       "    \n",
       "            var marker_d1dde80e12760f6fb661879c7681ed85 = L.marker(\n",
       "                [41.8874575, -87.6183727],\n",
       "                {}\n",
       "            ).addTo(map_cef9c024a50ae0e8ee298221f69dab4c);\n",
       "        \n",
       "    \n",
       "            marker_d1dde80e12760f6fb661879c7681ed85.bindTooltip(\n",
       "                `&lt;div&gt;\n",
       "                     Address: &lt;strong&gt;363 E Wacker Dr #3509&lt;/strong&gt;&lt;br&gt;     Sale Price: &lt;strong&gt;$2,300,000&lt;/strong&gt;&lt;br&gt;    Price sq ft: &lt;strong&gt;$808.0&lt;/strong&gt;&lt;br&gt;     Year Built: &lt;strong&gt;2021&lt;/strong&gt;&lt;br&gt;&lt;/strong&gt;\n",
       "                 &lt;/div&gt;`,\n",
       "                {&quot;sticky&quot;: true}\n",
       "            );\n",
       "        \n",
       "    \n",
       "            var marker_0eaa52fd420e72359c101a444f0adcad = L.marker(\n",
       "                [41.8774321, -87.6568362],\n",
       "                {}\n",
       "            ).addTo(map_cef9c024a50ae0e8ee298221f69dab4c);\n",
       "        \n",
       "    \n",
       "            marker_0eaa52fd420e72359c101a444f0adcad.bindTooltip(\n",
       "                `&lt;div&gt;\n",
       "                     Address: &lt;strong&gt;323 S Racine Ave Unit PHC&lt;/strong&gt;&lt;br&gt;     Sale Price: &lt;strong&gt;$1,755,900&lt;/strong&gt;&lt;br&gt;    Price sq ft: &lt;strong&gt;$566.0&lt;/strong&gt;&lt;br&gt;     Year Built: &lt;strong&gt;2021&lt;/strong&gt;&lt;br&gt;&lt;/strong&gt;\n",
       "                 &lt;/div&gt;`,\n",
       "                {&quot;sticky&quot;: true}\n",
       "            );\n",
       "        \n",
       "    \n",
       "            var marker_fd4da4d2827d990a53782a085ca8e76b = L.marker(\n",
       "                [41.89449, -87.6415997],\n",
       "                {}\n",
       "            ).addTo(map_cef9c024a50ae0e8ee298221f69dab4c);\n",
       "        \n",
       "    \n",
       "            marker_fd4da4d2827d990a53782a085ca8e76b.bindTooltip(\n",
       "                `&lt;div&gt;\n",
       "                     Address: &lt;strong&gt;676 N Kingsbury St #204&lt;/strong&gt;&lt;br&gt;     Sale Price: &lt;strong&gt;$1,610,000&lt;/strong&gt;&lt;br&gt;    Price sq ft: &lt;strong&gt;$523.0&lt;/strong&gt;&lt;br&gt;     Year Built: &lt;strong&gt;2016&lt;/strong&gt;&lt;br&gt;&lt;/strong&gt;\n",
       "                 &lt;/div&gt;`,\n",
       "                {&quot;sticky&quot;: true}\n",
       "            );\n",
       "        \n",
       "    \n",
       "            var marker_ce902eafcec3cf42a2e45c0c6c75f4f2 = L.marker(\n",
       "                [41.8875829, -87.6173096],\n",
       "                {}\n",
       "            ).addTo(map_cef9c024a50ae0e8ee298221f69dab4c);\n",
       "        \n",
       "    \n",
       "            marker_ce902eafcec3cf42a2e45c0c6c75f4f2.bindTooltip(\n",
       "                `&lt;div&gt;\n",
       "                     Address: &lt;strong&gt;363 E Wacker Dr #1502&lt;/strong&gt;&lt;br&gt;     Sale Price: &lt;strong&gt;$1,575,000&lt;/strong&gt;&lt;br&gt;    Price sq ft: &lt;strong&gt;$687.0&lt;/strong&gt;&lt;br&gt;     Year Built: &lt;strong&gt;2021&lt;/strong&gt;&lt;br&gt;&lt;/strong&gt;\n",
       "                 &lt;/div&gt;`,\n",
       "                {&quot;sticky&quot;: true}\n",
       "            );\n",
       "        \n",
       "    \n",
       "            var marker_e4ce452751b5762d1c0d900ead876b0b = L.marker(\n",
       "                [41.9220478, -87.6430231],\n",
       "                {}\n",
       "            ).addTo(map_cef9c024a50ae0e8ee298221f69dab4c);\n",
       "        \n",
       "    \n",
       "            marker_e4ce452751b5762d1c0d900ead876b0b.bindTooltip(\n",
       "                `&lt;div&gt;\n",
       "                     Address: &lt;strong&gt;540 W Webster Ave Unit 1012-13&lt;/strong&gt;&lt;br&gt;     Sale Price: &lt;strong&gt;$1,560,000&lt;/strong&gt;&lt;br&gt;    Price sq ft: &lt;strong&gt;$601.0&lt;/strong&gt;&lt;br&gt;     Year Built: &lt;strong&gt;2017&lt;/strong&gt;&lt;br&gt;&lt;/strong&gt;\n",
       "                 &lt;/div&gt;`,\n",
       "                {&quot;sticky&quot;: true}\n",
       "            );\n",
       "        \n",
       "    \n",
       "            var marker_1682493bf606b7606f24afbca647dd61 = L.marker(\n",
       "                [41.9251023, -87.6464993],\n",
       "                {}\n",
       "            ).addTo(map_cef9c024a50ae0e8ee298221f69dab4c);\n",
       "        \n",
       "    \n",
       "            marker_1682493bf606b7606f24afbca647dd61.bindTooltip(\n",
       "                `&lt;div&gt;\n",
       "                     Address: &lt;strong&gt;2350 N Orchard St Unit MZ102&lt;/strong&gt;&lt;br&gt;     Sale Price: &lt;strong&gt;$1,500,000&lt;/strong&gt;&lt;br&gt;    Price sq ft: &lt;strong&gt;$744.0&lt;/strong&gt;&lt;br&gt;     Year Built: &lt;strong&gt;2020&lt;/strong&gt;&lt;br&gt;&lt;/strong&gt;\n",
       "                 &lt;/div&gt;`,\n",
       "                {&quot;sticky&quot;: true}\n",
       "            );\n",
       "        \n",
       "&lt;/script&gt;\" style=\"position:absolute;width:100%;height:100%;left:0;top:0;border:none !important;\" allowfullscreen webkitallowfullscreen mozallowfullscreen></iframe></div></div>"
      ],
      "text/plain": [
       "<folium.folium.Map at 0x14c634310>"
      ]
     },
     "execution_count": 79,
     "metadata": {},
     "output_type": "execute_result"
    }
   ],
   "source": [
    "import folium\n",
    "from folium.plugins import MarkerCluster\n",
    "\n",
    "m = folium.Map(location=df[[\"LATITUDE\", \"LONGITUDE\"]].mean().to_list(), zoom_start=12)\n",
    "title_html = '''\n",
    "              <h3 align=\"center\" style=\"font-size:16px\"><b>{}</b></h3>\n",
    "             '''.format(f'Top 10 MLS-register Cook County Condo Sales ')\n",
    "\n",
    "caption_html = '''\n",
    "                <p align=\"center\" style=\"vertical-align: bottom; font-size:13px\"><i>{}</i></p>\n",
    "                '''.format('November 6th - November 12th')\n",
    "\n",
    "for i,r in df.iterrows():\n",
    "    location = (r[\"LATITUDE\"], r[\"LONGITUDE\"])\n",
    "    info = (r[\"PRICE\"], r['$/SQUARE FEET'], r['ADDRESS'], r['YEAR BUILT'])\n",
    "    info = list(info)\n",
    "    new_line = '<br>'\n",
    "    bold_start = '<strong>'\n",
    "    bold_end = '</strong>'\n",
    "    text = f'Address: {bold_start}{info[-2]}{bold_end}{new_line} \\\n",
    "    Sale Price: {bold_start}{info[0]}{bold_end}{new_line}\\\n",
    "    Price sq ft: {bold_start}{info[1]}{bold_end}{new_line} \\\n",
    "    Year Built: {bold_start}{info[-1]}{bold_end}{new_line}{bold_end}'\n",
    "    folium.Marker(location=location,\n",
    "                      tooltip=text)\\\n",
    "    .add_to(m)\n",
    "\n",
    "m.get_root().html.add_child(folium.Element(title_html))\n",
    "m.get_root().html.add_child(folium.Element(caption_html))\n",
    "\n",
    "m"
   ]
  },
  {
   "cell_type": "code",
   "execution_count": 76,
   "metadata": {},
   "outputs": [],
   "source": [
    "m.save('index.html')"
   ]
  },
  {
   "cell_type": "markdown",
   "metadata": {},
   "source": [
    "## Map URL snagger"
   ]
  },
  {
   "cell_type": "markdown",
   "metadata": {},
   "source": [
    "Map template URL: `https://trd-digital.github.io/trd-news-interactive-maps/{map-folder-name}`"
   ]
  },
  {
   "cell_type": "code",
   "execution_count": 77,
   "metadata": {},
   "outputs": [],
   "source": [
    "base_name = 'https://trd-digital.github.io/trd-news-interactive-maps/'"
   ]
  },
  {
   "cell_type": "code",
   "execution_count": 78,
   "metadata": {},
   "outputs": [
    {
     "name": "stdout",
     "output_type": "stream",
     "text": [
      "https://trd-digital.github.io/trd-news-interactive-maps/chi_weekly_condo_sales_11_7_11_11_2022\n"
     ]
    }
   ],
   "source": [
    "cwd = os.getcwd()\n",
    "\n",
    "cwd = cwd.split('/')\n",
    "\n",
    "final_name = base_name + cwd[-1]\n",
    "print(final_name)"
   ]
  },
  {
   "cell_type": "code",
   "execution_count": null,
   "metadata": {},
   "outputs": [],
   "source": []
  },
  {
   "cell_type": "code",
   "execution_count": null,
   "metadata": {},
   "outputs": [],
   "source": []
  }
 ],
 "metadata": {
  "kernelspec": {
   "display_name": "Python 3 (ipykernel)",
   "language": "python",
   "name": "python3"
  },
  "language_info": {
   "codemirror_mode": {
    "name": "ipython",
    "version": 3
   },
   "file_extension": ".py",
   "mimetype": "text/x-python",
   "name": "python",
   "nbconvert_exporter": "python",
   "pygments_lexer": "ipython3",
   "version": "3.10.3"
  },
  "toc": {
   "base_numbering": 1,
   "nav_menu": {},
   "number_sections": true,
   "sideBar": true,
   "skip_h1_title": false,
   "title_cell": "Table of Contents",
   "title_sidebar": "Contents",
   "toc_cell": false,
   "toc_position": {},
   "toc_section_display": true,
   "toc_window_display": false
  }
 },
 "nbformat": 4,
 "nbformat_minor": 4
}
