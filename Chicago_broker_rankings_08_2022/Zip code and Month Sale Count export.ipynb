{
 "cells": [
  {
   "cell_type": "markdown",
   "id": "7c8b2a21",
   "metadata": {},
   "source": [
    "## Imports"
   ]
  },
  {
   "cell_type": "code",
   "execution_count": 75,
   "id": "050e5b92",
   "metadata": {},
   "outputs": [],
   "source": [
    "import pandas as pd\n",
    "import numpy as np\n",
    "import datetime\n",
    "import calendar"
   ]
  },
  {
   "cell_type": "markdown",
   "id": "193bdf60",
   "metadata": {},
   "source": [
    "## PD Set options"
   ]
  },
  {
   "cell_type": "code",
   "execution_count": 2,
   "id": "edf8c4f0",
   "metadata": {},
   "outputs": [],
   "source": [
    "pd.set_option('display.max_columns', 500)\n",
    "pd.set_option('display.max_colwidth', None)\n",
    "pd.set_option('display.max_rows', 500)"
   ]
  },
  {
   "cell_type": "markdown",
   "id": "a2859717",
   "metadata": {},
   "source": [
    "## Data Analysis"
   ]
  },
  {
   "cell_type": "code",
   "execution_count": 25,
   "id": "144386b0",
   "metadata": {},
   "outputs": [],
   "source": [
    "df = pd.read_csv('chicago_broker_rankings_august_2020_with_geo_points.csv',dtype='str')"
   ]
  },
  {
   "cell_type": "code",
   "execution_count": 26,
   "id": "9a9fdf65",
   "metadata": {},
   "outputs": [
    {
     "data": {
      "text/plain": [
       "Unnamed: 0            object\n",
       "MLS#                  object\n",
       "Unique                object\n",
       "Final Agent/Team      object\n",
       "agent_type            object\n",
       "TRD Notes             object\n",
       "PROPERTY TYPE         object\n",
       "ADDRESS               object\n",
       "CITY                  object\n",
       "STATE OR PROVINCE     object\n",
       "ZIP OR POSTAL CODE    object\n",
       "SOLD DATE             object\n",
       "PRICE                 object\n",
       "URL                   object\n",
       "full_address          object\n",
       "geo_address           object\n",
       "loc                   object\n",
       "point                 object\n",
       "lat                   object\n",
       "lon                   object\n",
       "altitude              object\n",
       "dtype: object"
      ]
     },
     "execution_count": 26,
     "metadata": {},
     "output_type": "execute_result"
    }
   ],
   "source": [
    "df.dtypes"
   ]
  },
  {
   "cell_type": "code",
   "execution_count": 27,
   "id": "594ffe84",
   "metadata": {},
   "outputs": [],
   "source": [
    "df['year'] = pd.DatetimeIndex(df['SOLD DATE']).year\n",
    "df['month'] = pd.DatetimeIndex(df['SOLD DATE']).month"
   ]
  },
  {
   "cell_type": "code",
   "execution_count": 84,
   "id": "0074577d",
   "metadata": {},
   "outputs": [
    {
     "data": {
      "text/html": [
       "<div>\n",
       "<style scoped>\n",
       "    .dataframe tbody tr th:only-of-type {\n",
       "        vertical-align: middle;\n",
       "    }\n",
       "\n",
       "    .dataframe tbody tr th {\n",
       "        vertical-align: top;\n",
       "    }\n",
       "\n",
       "    .dataframe thead th {\n",
       "        text-align: right;\n",
       "    }\n",
       "</style>\n",
       "<table border=\"1\" class=\"dataframe\">\n",
       "  <thead>\n",
       "    <tr style=\"text-align: right;\">\n",
       "      <th></th>\n",
       "      <th>month</th>\n",
       "      <th>Number of Sales</th>\n",
       "    </tr>\n",
       "  </thead>\n",
       "  <tbody>\n",
       "    <tr>\n",
       "      <th>0</th>\n",
       "      <td>6</td>\n",
       "      <td>585</td>\n",
       "    </tr>\n",
       "    <tr>\n",
       "      <th>1</th>\n",
       "      <td>5</td>\n",
       "      <td>504</td>\n",
       "    </tr>\n",
       "    <tr>\n",
       "      <th>2</th>\n",
       "      <td>4</td>\n",
       "      <td>496</td>\n",
       "    </tr>\n",
       "    <tr>\n",
       "      <th>3</th>\n",
       "      <td>7</td>\n",
       "      <td>471</td>\n",
       "    </tr>\n",
       "    <tr>\n",
       "      <th>4</th>\n",
       "      <td>3</td>\n",
       "      <td>408</td>\n",
       "    </tr>\n",
       "    <tr>\n",
       "      <th>5</th>\n",
       "      <td>8</td>\n",
       "      <td>339</td>\n",
       "    </tr>\n",
       "    <tr>\n",
       "      <th>6</th>\n",
       "      <td>9</td>\n",
       "      <td>294</td>\n",
       "    </tr>\n",
       "    <tr>\n",
       "      <th>7</th>\n",
       "      <td>12</td>\n",
       "      <td>286</td>\n",
       "    </tr>\n",
       "    <tr>\n",
       "      <th>8</th>\n",
       "      <td>11</td>\n",
       "      <td>284</td>\n",
       "    </tr>\n",
       "    <tr>\n",
       "      <th>9</th>\n",
       "      <td>10</td>\n",
       "      <td>283</td>\n",
       "    </tr>\n",
       "    <tr>\n",
       "      <th>10</th>\n",
       "      <td>2</td>\n",
       "      <td>268</td>\n",
       "    </tr>\n",
       "    <tr>\n",
       "      <th>11</th>\n",
       "      <td>1</td>\n",
       "      <td>230</td>\n",
       "    </tr>\n",
       "  </tbody>\n",
       "</table>\n",
       "</div>"
      ],
      "text/plain": [
       "    month  Number of Sales\n",
       "0       6              585\n",
       "1       5              504\n",
       "2       4              496\n",
       "3       7              471\n",
       "4       3              408\n",
       "5       8              339\n",
       "6       9              294\n",
       "7      12              286\n",
       "8      11              284\n",
       "9      10              283\n",
       "10      2              268\n",
       "11      1              230"
      ]
     },
     "execution_count": 84,
     "metadata": {},
     "output_type": "execute_result"
    }
   ],
   "source": [
    "y = df.year.groupby(df['month']).count().sort_values(ascending=False)\n",
    "y = y.to_frame()\n",
    "y = y.reset_index()\n",
    "y = y.rename(columns={'year':'Number of Sales'})\n",
    "y.month = y.month.astype(int)\n",
    "y"
   ]
  },
  {
   "cell_type": "code",
   "execution_count": 87,
   "id": "41c7bbea",
   "metadata": {},
   "outputs": [],
   "source": [
    "y['month'] = y['month'].apply(lambda x: calendar.month_name[x])"
   ]
  },
  {
   "cell_type": "code",
   "execution_count": 89,
   "id": "ed543c21",
   "metadata": {},
   "outputs": [],
   "source": [
    "y.to_csv('chicago_sales_by_month.csv')"
   ]
  },
  {
   "cell_type": "code",
   "execution_count": 48,
   "id": "c47fc8ed",
   "metadata": {},
   "outputs": [],
   "source": [
    "x = df['ZIP OR POSTAL CODE'].value_counts().to_frame()\n",
    "x = x.reset_index()\n",
    "x = x.rename(columns={'index':'Zip','ZIP OR POSTAL CODE':'Number of Sales'})\n",
    "x.Zip = x.Zip.replace('\\.0','',regex=True)\n",
    "x.to_csv('chicago_sales_by_zip.csv')"
   ]
  },
  {
   "cell_type": "code",
   "execution_count": null,
   "id": "21e5d902",
   "metadata": {},
   "outputs": [],
   "source": []
  },
  {
   "cell_type": "code",
   "execution_count": null,
   "id": "9a604242",
   "metadata": {},
   "outputs": [],
   "source": []
  },
  {
   "cell_type": "code",
   "execution_count": null,
   "id": "fc74bc43",
   "metadata": {},
   "outputs": [],
   "source": []
  },
  {
   "cell_type": "code",
   "execution_count": null,
   "id": "c0baf66e",
   "metadata": {},
   "outputs": [],
   "source": []
  },
  {
   "cell_type": "code",
   "execution_count": null,
   "id": "e7f450af",
   "metadata": {},
   "outputs": [],
   "source": []
  }
 ],
 "metadata": {
  "kernelspec": {
   "display_name": "Python 3 (ipykernel)",
   "language": "python",
   "name": "python3"
  },
  "language_info": {
   "codemirror_mode": {
    "name": "ipython",
    "version": 3
   },
   "file_extension": ".py",
   "mimetype": "text/x-python",
   "name": "python",
   "nbconvert_exporter": "python",
   "pygments_lexer": "ipython3",
   "version": "3.10.3"
  }
 },
 "nbformat": 4,
 "nbformat_minor": 5
}
