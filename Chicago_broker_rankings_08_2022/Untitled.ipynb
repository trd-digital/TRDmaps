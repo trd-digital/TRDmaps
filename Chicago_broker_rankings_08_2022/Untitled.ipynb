{
 "cells": [
  {
   "cell_type": "code",
   "execution_count": 1,
   "id": "355a6307",
   "metadata": {},
   "outputs": [],
   "source": [
    "import csv, json\n",
    "from geojson import Feature, FeatureCollection, Point"
   ]
  },
  {
   "cell_type": "code",
   "execution_count": 2,
   "id": "9d676a8f",
   "metadata": {},
   "outputs": [],
   "source": [
    "import pandas as pd"
   ]
  },
  {
   "cell_type": "code",
   "execution_count": 3,
   "id": "a4f41393",
   "metadata": {},
   "outputs": [
    {
     "data": {
      "text/plain": [
       "Index(['Unnamed: 0', 'MLS#', 'Unique', 'Final Agent/Team', 'agent_type',\n",
       "       'TRD Notes', 'PROPERTY TYPE', 'ADDRESS', 'CITY', 'STATE OR PROVINCE',\n",
       "       'ZIP OR POSTAL CODE', 'SOLD DATE', 'PRICE', 'URL', 'full_address',\n",
       "       'geo_address', 'loc', 'point', 'lat', 'lon', 'altitude'],\n",
       "      dtype='object')"
      ]
     },
     "execution_count": 3,
     "metadata": {},
     "output_type": "execute_result"
    }
   ],
   "source": [
    "df = pd.read_csv('chicago_broker_rankings_august_2020_with_geo_points.csv')"
   ]
  },
  {
   "cell_type": "code",
   "execution_count": null,
   "id": "917c0190",
   "metadata": {},
   "outputs": [],
   "source": []
  }
 ],
 "metadata": {
  "kernelspec": {
   "display_name": "Python 3 (ipykernel)",
   "language": "python",
   "name": "python3"
  },
  "language_info": {
   "codemirror_mode": {
    "name": "ipython",
    "version": 3
   },
   "file_extension": ".py",
   "mimetype": "text/x-python",
   "name": "python",
   "nbconvert_exporter": "python",
   "pygments_lexer": "ipython3",
   "version": "3.10.3"
  }
 },
 "nbformat": 4,
 "nbformat_minor": 5
}
