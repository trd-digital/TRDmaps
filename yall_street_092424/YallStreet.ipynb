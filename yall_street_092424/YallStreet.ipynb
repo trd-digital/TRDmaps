{
 "cells": [
  {
   "cell_type": "markdown",
   "id": "a16f0a04",
   "metadata": {},
   "source": [
    "## Imports"
   ]
  },
  {
   "cell_type": "code",
   "execution_count": 1,
   "id": "956bae8b",
   "metadata": {},
   "outputs": [],
   "source": [
    "import googlemaps\n",
    "import pandas as pd\n",
    "import numpy as np\n",
    "import re\n",
    "import os\n",
    "import geopandas as gpd\n",
    "\n",
    "from pandas_geojson import to_geojson, write_geojson\n",
    "from geopy.geocoders import GoogleV3"
   ]
  },
  {
   "cell_type": "markdown",
   "id": "80bf191f",
   "metadata": {},
   "source": [
    "## Data Read-in"
   ]
  },
  {
   "cell_type": "code",
   "execution_count": 2,
   "id": "a4b0ff1d",
   "metadata": {},
   "outputs": [],
   "source": [
    "df = pd.read_csv(\"Y'all Street properties - Sheet1.csv\")"
   ]
  },
  {
   "cell_type": "markdown",
   "id": "e0bd2469",
   "metadata": {},
   "source": [
    "## Data work"
   ]
  },
  {
   "cell_type": "code",
   "execution_count": 3,
   "id": "a99618b0",
   "metadata": {},
   "outputs": [],
   "source": [
    "df['full_address'] = df['Address'] + ' ' + df['City_State']"
   ]
  },
  {
   "cell_type": "markdown",
   "id": "51cd0187",
   "metadata": {},
   "source": [
    "## Google Maps and geolocater setup"
   ]
  },
  {
   "cell_type": "code",
   "execution_count": 4,
   "id": "cb917a4f",
   "metadata": {},
   "outputs": [],
   "source": [
    "%store -r google_maps_API_Key\n",
    "gmaps_key = googlemaps.Client(key=google_maps_API_Key)"
   ]
  },
  {
   "cell_type": "code",
   "execution_count": 5,
   "id": "9c004853",
   "metadata": {},
   "outputs": [],
   "source": [
    "def geocode(add):\n",
    "    g = gmaps_key.geocode(add)\n",
    "    lat = g[0][\"geometry\"][\"location\"][\"lat\"]\n",
    "    lng = g[0][\"geometry\"][\"location\"][\"lng\"]\n",
    "    return (lat, lng)\n",
    "\n",
    "df['geocoded'] = df['full_address'].apply(geocode)"
   ]
  },
  {
   "cell_type": "code",
   "execution_count": 6,
   "id": "ed0fa02a",
   "metadata": {},
   "outputs": [],
   "source": [
    "df['geocoded'] = df['geocoded'].astype(str)\n",
    "df[['lat', 'lon']] = df['geocoded'].str.strip('()').str.split(', ', expand=True)\n",
    "df['lat'] = df['lat'].astype(float)\n",
    "df['lon'] = df['lon'].astype(float)"
   ]
  },
  {
   "cell_type": "code",
   "execution_count": 13,
   "id": "af222099",
   "metadata": {},
   "outputs": [
    {
     "data": {
      "text/plain": [
       "Index(['Institution', 'Address', 'City_State', 'Building Specs', 'Lease Size',\n",
       "       'Num. of Employees', 'Cost Estimate', 'Developer', 'Retail',\n",
       "       'Delivery Date', 'Renderings', 'Rendering URL', 'full_address',\n",
       "       'geocoded', 'lat', 'lon'],\n",
       "      dtype='object')"
      ]
     },
     "execution_count": 13,
     "metadata": {},
     "output_type": "execute_result"
    }
   ],
   "source": [
    "df.columns"
   ]
  },
  {
   "cell_type": "code",
   "execution_count": 8,
   "id": "1d9d354e",
   "metadata": {},
   "outputs": [],
   "source": [
    "df = df.fillna(\"None\")"
   ]
  },
  {
   "cell_type": "code",
   "execution_count": 12,
   "id": "94d50835",
   "metadata": {},
   "outputs": [],
   "source": [
    "geo_json = to_geojson(df=df, lat='lat', lon='lon',\n",
    "                     properties=['Institution', 'Address', 'City_State', 'Building Specs', 'Lease Size',\n",
    "                               'Num. of Employees', 'Cost Estimate', 'Developer', 'Retail',\n",
    "                               'Delivery Date', 'Renderings', 'Rendering URL', 'full_address', 'geocoded', 'lat',\n",
    "                               'lon'])\n",
    "write_geojson(geo_json, filename='data.geojson', indent=4)\n"
   ]
  },
  {
   "cell_type": "markdown",
   "id": "0a931f39",
   "metadata": {},
   "source": [
    "## Map URL Snagger"
   ]
  },
  {
   "cell_type": "code",
   "execution_count": 10,
   "id": "9ddd3c2d",
   "metadata": {},
   "outputs": [
    {
     "name": "stdout",
     "output_type": "stream",
     "text": [
      "https://trd-digital.github.io/trd-news-interactive-maps/yall_street_092424\n"
     ]
    }
   ],
   "source": [
    "base_name = 'https://trd-digital.github.io/trd-news-interactive-maps/yall_street_092424'\n",
    "print(base_name)"
   ]
  }
 ],
 "metadata": {
  "kernelspec": {
   "display_name": "Python 3 (ipykernel)",
   "language": "python",
   "name": "python3"
  },
  "language_info": {
   "codemirror_mode": {
    "name": "ipython",
    "version": 3
   },
   "file_extension": ".py",
   "mimetype": "text/x-python",
   "name": "python",
   "nbconvert_exporter": "python",
   "pygments_lexer": "ipython3",
   "version": "3.9.12"
  }
 },
 "nbformat": 4,
 "nbformat_minor": 5
}
