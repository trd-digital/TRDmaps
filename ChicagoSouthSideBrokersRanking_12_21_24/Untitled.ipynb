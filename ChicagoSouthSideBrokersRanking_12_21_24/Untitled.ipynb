{
 "cells": [
  {
   "cell_type": "markdown",
   "id": "1d698dae",
   "metadata": {},
   "source": [
    "## Import"
   ]
  },
  {
   "cell_type": "code",
   "execution_count": 1,
   "id": "116cd1d5",
   "metadata": {},
   "outputs": [],
   "source": [
    "import pandas as pd\n",
    "import geopandas as gpd\n",
    "from shapely import wkt\n",
    "from shapely.geometry import Point\n",
    "import numpy as np"
   ]
  },
  {
   "cell_type": "markdown",
   "id": "f78be28b",
   "metadata": {},
   "source": [
    "## Data Read-in"
   ]
  },
  {
   "cell_type": "code",
   "execution_count": 2,
   "id": "00e32b21",
   "metadata": {},
   "outputs": [],
   "source": [
    "df = pd.read_csv(\"ConnectMLS_export1730472553370186441.csv\",dtype='str')"
   ]
  },
  {
   "cell_type": "code",
   "execution_count": 3,
   "id": "bf5f6d41",
   "metadata": {},
   "outputs": [],
   "source": [
    "df = df.fillna(\" \")"
   ]
  },
  {
   "cell_type": "code",
   "execution_count": 4,
   "id": "ac967728",
   "metadata": {},
   "outputs": [],
   "source": [
    "df['Full_Address'] = df['Street Number'] + ' ' + df['Compass Point'] + ' ' + df['Street Name'] + ' ' + df['Street Suffix'] + ' ' + df['City'] + ' Illinois'"
   ]
  },
  {
   "cell_type": "code",
   "execution_count": 5,
   "id": "9051044c",
   "metadata": {},
   "outputs": [
    {
     "data": {
      "text/plain": [
       "0          1417   Dunfries ST Flossmoor Illinois\n",
       "1              6200 S Ellis AVE Chicago Illinois\n",
       "2       4450 S St. Lawrence AVE Chicago Illinois\n",
       "3               936 N East AVE Oak Park Illinois\n",
       "4         8732 S Dorchester AVE Chicago Illinois\n",
       "5              4832 S Ellis AVE Chicago Illinois\n",
       "6          6321 S Champlain AVE Chicago Illinois\n",
       "7            5527 S Cornell AVE Chicago Illinois\n",
       "8               827 N East AVE Oak Park Illinois\n",
       "9             5630 S Wabash AVE Chicago Illinois\n",
       "10            5714 S Wabash AVE Chicago Illinois\n",
       "11            5736 S Wabash AVE Chicago Illinois\n",
       "12           4109 S Prairie AVE Chicago Illinois\n",
       "13             8216 S Perry AVE Chicago Illinois\n",
       "14                9129 S May ST Chicago Illinois\n",
       "15          1424 E Marquette RD Chicago Illinois\n",
       "16            8253 S Avalon AVE Chicago Illinois\n",
       "17             7933 S Perry AVE Chicago Illinois\n",
       "18           6410 S MINERVA AVE Chicago Illinois\n",
       "19             6209 S Ellis AVE Chicago Illinois\n",
       "20       663 E Groveland Park   Chicago Illinois\n",
       "21            7616 S Yates BLVD Chicago Illinois\n",
       "22           6344 S Langley AVE Chicago Illinois\n",
       "23               1427 W 73rd PL Chicago Illinois\n",
       "24         8415 S INGLESIDE AVE Chicago Illinois\n",
       "25           6237 S Langley AVE Chicago Illinois\n",
       "26         4347 S Greenwood AVE Chicago Illinois\n",
       "27             6209 S Ellis AVE Chicago Illinois\n",
       "28    4924 S Saint Lawrence AVE Chicago Illinois\n",
       "29         1460 W Bryn Mawr AVE Chicago Illinois\n",
       "30      4448 S St. Lawrence AVE Chicago Illinois\n",
       "31          8116 S Jeffery BLVD Chicago Illinois\n",
       "32          4332 S Michigan AVE Chicago Illinois\n",
       "33                928 E 46th ST Chicago Illinois\n",
       "34             6209 S Ellis AVE Chicago Illinois\n",
       "35            4331 S Vernon AVE Chicago Illinois\n",
       "36             6211 S Ellis AVE Chicago Illinois\n",
       "37             6211 S Ellis AVE Chicago Illinois\n",
       "38           4317 S Indiana AVE Chicago Illinois\n",
       "39           841 N Lombard AVE Oak Park Illinois\n",
       "40             6211 S Ellis AVE Chicago Illinois\n",
       "41                208 E 87th ST Chicago Illinois\n",
       "42            5711 S Harper AVE Chicago Illinois\n",
       "43             6211 S Ellis AVE Chicago Illinois\n",
       "44       8038 S Saint Louis AVE Chicago Illinois\n",
       "45         4620 S Champlain AVE Chicago Illinois\n",
       "46        6756 S South Shore DR Chicago Illinois\n",
       "47            222 N Columbus DR Chicago Illinois\n",
       "48                811 W 15th PL Chicago Illinois\n",
       "49          6237 S Eberhart AVE Chicago Illinois\n",
       "50              611 E BOWEN AVE Chicago Illinois\n",
       "51            9151 S Luella AVE Chicago Illinois\n",
       "52              3112   Emery LN Robbins Illinois\n",
       "53           5139 S Prairie AVE Chicago Illinois\n",
       "54               1126 E 83rd ST Chicago Illinois\n",
       "55         6535 S Greenwood AVE Chicago Illinois\n",
       "56      4816 S St. Lawrence AVE Chicago Illinois\n",
       "57             5634 S Perry AVE Chicago Illinois\n",
       "58            837 W Lakeside PL Chicago Illinois\n",
       "59           10535 S Wallace ST Chicago Illinois\n",
       "Name: Full_Address, dtype: object"
      ]
     },
     "execution_count": 5,
     "metadata": {},
     "output_type": "execute_result"
    }
   ],
   "source": [
    "df['Full_Address']"
   ]
  },
  {
   "cell_type": "code",
   "execution_count": 6,
   "id": "647af9a8",
   "metadata": {},
   "outputs": [],
   "source": [
    "communities_to_keep = [\n",
    "    'NEAR SOUTH SIDE',\n",
    "    'ARMOUR SQUARE',\n",
    "    'BRIDGEPORT',\n",
    "    'MCKINLEY PARK',\n",
    "    'BRIGHTON PARK',\n",
    "    'ARCHER HEIGHTS',\n",
    "    'GARFIELD RIDGE',\n",
    "    'CLEARING',\n",
    "    'WEST ELSDON',\n",
    "    'GAGE PARK',\n",
    "    'NEW CITY',\n",
    "    'FULLER PARK',\n",
    "    'GRAND BOULEVARD',\n",
    "    'DOUGLAS',\n",
    "    'OAKLAND',\n",
    "    'KENWOOD',\n",
    "    'HYDE PARK',\n",
    "    'WASHINGTON PARK',\n",
    "    'ENGLEWOOD',\n",
    "    'WEST ENGLEWOOD',\n",
    "    'CHICAGO LAWN',\n",
    "    'WEST LAWN',\n",
    "    'WOODLAWN',\n",
    "    'GREATER GRAND CROSSING',\n",
    "    'SOUTH SHORE',\n",
    "    'AUBURN GRESHAM',\n",
    "    'ASHBURN',\n",
    "    'CHATHAM',\n",
    "    'AVALON PARK',\n",
    "    'SOUTH CHICAGO',\n",
    "    'CALUMET HEIGHTS',\n",
    "    'BURNSIDE',\n",
    "    'WASHINGTON HEIGHTS',\n",
    "    'BEVERLY',\n",
    "    'MOUNT GREENWOOD',\n",
    "    'MORGAN PARK',\n",
    "    'WEST PULLMAN',\n",
    "    'SOUTH DEERING',\n",
    "    'RIVERDALE',\n",
    "    'EAST SIDE',\n",
    "    'HEGEWISCH'\n",
    "]"
   ]
  },
  {
   "cell_type": "code",
   "execution_count": 7,
   "id": "88712dc9",
   "metadata": {},
   "outputs": [],
   "source": [
    "boundaries_df = gpd.read_file('Boundaries - Community Areas (current).geojson')"
   ]
  }
 ],
 "metadata": {
  "kernelspec": {
   "display_name": "Python 3 (ipykernel)",
   "language": "python",
   "name": "python3"
  },
  "language_info": {
   "codemirror_mode": {
    "name": "ipython",
    "version": 3
   },
   "file_extension": ".py",
   "mimetype": "text/x-python",
   "name": "python",
   "nbconvert_exporter": "python",
   "pygments_lexer": "ipython3",
   "version": "3.9.12"
  }
 },
 "nbformat": 4,
 "nbformat_minor": 5
}
