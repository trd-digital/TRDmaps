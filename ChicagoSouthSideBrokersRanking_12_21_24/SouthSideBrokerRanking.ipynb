{
 "cells": [
  {
   "cell_type": "markdown",
   "id": "5f238829",
   "metadata": {},
   "source": [
    "## Goal:\n",
    "\n",
    "<insert Kelli's message from slack here>"
   ]
  },
  {
   "cell_type": "markdown",
   "id": "681d637f",
   "metadata": {},
   "source": [
    "## Imports"
   ]
  },
  {
   "cell_type": "code",
   "execution_count": 19,
   "id": "6c02a6f4",
   "metadata": {},
   "outputs": [],
   "source": [
    "import pandas as pd\n",
    "import geopandas as gpd\n",
    "from shapely import wkt\n",
    "from shapely.geometry import Point\n",
    "import numpy as np"
   ]
  },
  {
   "cell_type": "markdown",
   "id": "8aa4a65f",
   "metadata": {},
   "source": [
    "## Data read-in"
   ]
  },
  {
   "cell_type": "code",
   "execution_count": 52,
   "id": "aa412453",
   "metadata": {},
   "outputs": [],
   "source": [
    "df = pd.read_csv('CHI_agents_data-Table 1.csv',low_memory=False)"
   ]
  },
  {
   "cell_type": "code",
   "execution_count": 54,
   "id": "7e37dd84",
   "metadata": {},
   "outputs": [],
   "source": [
    "# Function to convert WKT format to a Point geometry\n",
    "def to_point(coord):\n",
    "    try:\n",
    "        if isinstance(coord, str) and 'POINT' in coord:\n",
    "            # Use WKT to convert the string into a Point object\n",
    "            return wkt.loads(coord)\n",
    "        else:\n",
    "            return None  # Return None for invalid or missing coordinates\n",
    "    except Exception as e:\n",
    "        return None  # Catch any issues\n",
    "\n",
    "# Apply the conversion to the 'geometry' column\n",
    "df['geometry'] = df['geometry'].apply(to_point)\n",
    "\n",
    "# Now convert the DataFrame to a GeoDataFrame\n",
    "df_geo = gpd.GeoDataFrame(df, geometry='geometry')"
   ]
  },
  {
   "cell_type": "code",
   "execution_count": 55,
   "id": "e3de9e74",
   "metadata": {},
   "outputs": [],
   "source": [
    "boundaries_df = gpd.read_file('Boundaries - Community Areas (current).geojson')"
   ]
  },
  {
   "cell_type": "code",
   "execution_count": 56,
   "id": "b33cc407",
   "metadata": {},
   "outputs": [],
   "source": [
    "communities_to_keep = [\n",
    "    'NEAR SOUTH SIDE',\n",
    "    'ARMOUR SQUARE',\n",
    "    'BRIDGEPORT',\n",
    "    'MCKINLEY PARK',\n",
    "    'BRIGHTON PARK',\n",
    "    'ARCHER HEIGHTS',\n",
    "    'GARFIELD RIDGE',\n",
    "    'CLEARING',\n",
    "    'WEST ELSDON',\n",
    "    'GAGE PARK',\n",
    "    'NEW CITY',\n",
    "    'FULLER PARK',\n",
    "    'GRAND BOULEVARD',\n",
    "    'DOUGLAS',\n",
    "    'OAKLAND',\n",
    "    'KENWOOD',\n",
    "    'HYDE PARK',\n",
    "    'WASHINGTON PARK',\n",
    "    'ENGLEWOOD',\n",
    "    'WEST ENGLEWOOD',\n",
    "    'CHICAGO LAWN',\n",
    "    'WEST LAWN',\n",
    "    'WOODLAWN',\n",
    "    'GREATER GRAND CROSSING',\n",
    "    'SOUTH SHORE',\n",
    "    'AUBURN GRESHAM',\n",
    "    'ASHBURN',\n",
    "    'CHATHAM',\n",
    "    'AVALON PARK',\n",
    "    'SOUTH CHICAGO',\n",
    "    'CALUMET HEIGHTS',\n",
    "    'BURNSIDE',\n",
    "    'WASHINGTON HEIGHTS',\n",
    "    'BEVERLY',\n",
    "    'MOUNT GREENWOOD',\n",
    "    'MORGAN PARK',\n",
    "    'WEST PULLMAN',\n",
    "    'SOUTH DEERING',\n",
    "    'RIVERDALE',\n",
    "    'EAST SIDE',\n",
    "    'HEGEWISCH'\n",
    "]"
   ]
  },
  {
   "cell_type": "code",
   "execution_count": 57,
   "id": "ccfe1e73",
   "metadata": {},
   "outputs": [],
   "source": [
    "filtered_boundaries = boundaries_df[boundaries_df['community'].isin(communities_to_keep)]"
   ]
  },
  {
   "cell_type": "code",
   "execution_count": 58,
   "id": "dda8fbe3",
   "metadata": {},
   "outputs": [],
   "source": [
    "df_geo = df_geo.set_crs(4326)"
   ]
  },
  {
   "cell_type": "code",
   "execution_count": 74,
   "id": "99b9f55e",
   "metadata": {},
   "outputs": [],
   "source": [
    "# Read in neighborhood boundaries\n",
    "neighborhood_boundaries = filtered_boundaries\n",
    "\n",
    "# Clean and convert the 'Price' column to integers\n",
    "df_geo['Price_int'] = df_geo['Price'].str.replace('[\\$,]', '', regex=True).astype(int)\n",
    "\n",
    "# Ensure both GeoDataFrames (df_geo and neighborhood_boundaries) have the same CRS\n",
    "if df_geo.crs != neighborhood_boundaries.crs:\n",
    "    df_geo = df_geo.to_crs(neighborhood_boundaries.crs)  # Transform CRS to match\n",
    "\n",
    "# Perform a spatial join to find which points (brokerages) fall within which community\n",
    "joined_gdf = gpd.sjoin(df_geo, neighborhood_boundaries, how=\"inner\", predicate='within')\n",
    "\n",
    "# # Group by community and agent/team to calculate counts and total sales\n",
    "# grouped = joined_gdf.groupby(['community', 'Final_Agent/Team']).agg(\n",
    "#     count=('Final_Agent/Team', 'count'),\n",
    "#     total_price=('Price_int', 'sum')\n",
    "# ).reset_index().nlargest(20)\n",
    "\n",
    "# # Find the agent/team with the highest count for each community\n",
    "# max_count_idx = grouped.groupby(\"community\")['count'].idxmax()\n",
    "# agent_result = grouped.loc[max_count_idx, ['community', 'Final_Agent/Team', 'count', 'total_price']]\n",
    "# agent_result = agent_result.rename(columns={'count': 'agent_count', 'total_price': 'agent_price'})\n",
    "\n",
    "# # Calculate community-level totals\n",
    "# community_result = grouped.groupby('community').agg(\n",
    "#     community_count=('count', 'sum'),\n",
    "#     community_price=('total_price', 'sum')\n",
    "# ).reset_index()\n",
    "\n",
    "# # Merge agent results with community-level totals\n",
    "# merged_df = pd.merge(agent_result, community_result, on='community', how='inner')\n",
    "\n",
    "# # Drop unnecessary columns from neighborhood boundaries\n",
    "# columns_to_drop = ['area', 'shape_area', 'perimeter', 'area_num_1', 'area_numbe', 'comarea_id', 'comarea', 'shape_len']\n",
    "# neighborhood_boundaries = neighborhood_boundaries.drop(columns=columns_to_drop, errors='ignore')\n",
    "\n",
    "# # Merge with neighborhood boundaries\n",
    "# final_merge = neighborhood_boundaries.merge(merged_df, on='community')\n",
    "# final_merge = final_merge.rename(columns={'Final_Agent/Team': 'final_agent_team'})\n",
    "\n",
    "# # Save the result to a GeoJSON file\n",
    "# final_merge.to_file(\"final_merge.geojson\", driver='GeoJSON')\n"
   ]
  },
  {
   "cell_type": "code",
   "execution_count": 82,
   "id": "593322dd",
   "metadata": {},
   "outputs": [
    {
     "data": {
      "text/plain": [
       "Final_Agent/Team\n",
       "Frank Montro               72\n",
       "Non Member                 62\n",
       "QianKun Chen               54\n",
       "Nadine Ferrata             42\n",
       "Andres Olaez               37\n",
       "Salvador Gonzalez          37\n",
       "Anthony Disano             36\n",
       "William Volpe              34\n",
       "Naja Morris                34\n",
       "Carlos Sanchez             34\n",
       "Maria Castillo             32\n",
       "Pablo Galarza              31\n",
       "Christopher Lobrillo       31\n",
       "Lynda Sanchez-Werner       30\n",
       "The Laricy Team            29\n",
       "Gary Weglarz               28\n",
       "Grigory Pekarsky           28\n",
       "Robert Sullivan            26\n",
       "Gaspar Flores              26\n",
       "Lorena Ramirez-Carrillo    26\n",
       "Jose Arroyo                26\n",
       "Name: count, dtype: int64"
      ]
     },
     "execution_count": 82,
     "metadata": {},
     "output_type": "execute_result"
    }
   ],
   "source": [
    "joined_gdf.value_counts('Final_Agent/Team').head(21)"
   ]
  }
 ],
 "metadata": {
  "kernelspec": {
   "display_name": "Python 3 (ipykernel)",
   "language": "python",
   "name": "python3"
  },
  "language_info": {
   "codemirror_mode": {
    "name": "ipython",
    "version": 3
   },
   "file_extension": ".py",
   "mimetype": "text/x-python",
   "name": "python",
   "nbconvert_exporter": "python",
   "pygments_lexer": "ipython3",
   "version": "3.9.12"
  }
 },
 "nbformat": 4,
 "nbformat_minor": 5
}
