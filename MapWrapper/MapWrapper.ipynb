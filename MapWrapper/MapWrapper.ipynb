{
 "cells": [
  {
   "cell_type": "markdown",
   "metadata": {},
   "source": [
    "# Graphics Wrapper\n",
    "\n",
    "## A quick and easy way to upload mutiple maps...or any graphics really...to GitHub to publish on GitHub pages.\n",
    "\n",
    "This is a simple program that facilites uploading multiple maps/graphics to GitHub. This script was written to help Data Jouranlists rapidly upload content to GitHub and publish via GitHubpages, which can then be referenced on the respective media sites.\n",
    "\n",
    "It comes with some pre-written CSS to help with responsiveness. (Thank you Will Jarrett!)\n",
    "\n",
    "## To use...\n",
    "\n",
    "Drop your maps/graphics in the same directory as this notebook. Take the name of the file (which can be anything <strong>except</strong> `index.html`, and insert it into the `HTML` block (see below).\n",
    "\n",
    "Once your graphic is properly inserted, push the entire repo out to GitHub.\n",
    "\n",
    "Resrouces used to help write this script:\n",
    "\n",
    "Exporting/saving files (bottom answer) - https://stackoverflow.com/questions/28356648/python-writing-function-output-to-a-file \n",
    "\n",
    "For writing HTML in Jupyter Notebooks (see 7:18) https://www.youtube.com/watch?v=rMrWMbfaOt4"
   ]
  },
  {
   "cell_type": "code",
   "execution_count": 13,
   "metadata": {},
   "outputs": [],
   "source": [
    "from IPython.display import HTML"
   ]
  },
  {
   "cell_type": "markdown",
   "metadata": {},
   "source": [
    "# HTML pages\n",
    "\n",
    "## This produces the main index page and other pages you want referenced.\n",
    "\n",
    "Write the description of your map/content inside the `HTML` block and hyperlink to it. Follow HTML standards. See examples below.\n",
    "Note: The file <strong>must</strong> be saved as `index.html`."
   ]
  },
  {
   "cell_type": "code",
   "execution_count": 14,
   "metadata": {},
   "outputs": [],
   "source": [
    "map_html = '''\n",
    "<h1>You did it!!!!</h1>\n",
    "<p>Now to insert the Amazon map...</p>\n",
    "<p>For Map...<a href=\"Amazon2021sites.html\">CLICK HERE</a><p>\n",
    "<p>For Chart...<a href=\"chart_test.html\">CLICK HERE</a><p>\n",
    "<p>Now for iframe tests...</p>\n",
    "<p>First</p>\n",
    "<iframe src=\"https://missionlocal.github.io/interactives/boudin-neighbors/d3.html\" width=\"100%\" height=\"650\" frameborder=\"0\" id=\"desktop2\"></iframe>\n",
    "<h1>-----</h1>\n",
    "<p>Second</p>\n",
    "<iframe src=\"https://missionlocal.github.io/interactives/boudin-neighbors-mobile/d3.html\" width=\"100%\" height=\"850\" frameborder=\"0\" id=\"mobile2\"></iframe>\n",
    "'''\n",
    "f = open('index.html','w')\n",
    "f.write(map_html)\n",
    "f.close()"
   ]
  },
  {
   "cell_type": "markdown",
   "metadata": {},
   "source": [
    "# CSS Block\n",
    "\n",
    "## This produces the CSS page.\n",
    "\n",
    "Edits to this block change the CSS for your page(s)."
   ]
  },
  {
   "cell_type": "code",
   "execution_count": 15,
   "metadata": {},
   "outputs": [],
   "source": [
    "css = '''\n",
    "<style>\n",
    "iframe {\n",
    "    overflow: hidden;\n",
    "}\n",
    "\n",
    "@media only screen and (max-width: 1050px) {\n",
    "  #desktop2 {\n",
    "    display: none;\n",
    "  }\n",
    "  #mobile2 {\n",
    "    display: block;\n",
    "  }\n",
    "}\n",
    "\n",
    "@media only screen and (min-width: 1050px) {\n",
    "  #desktop2 {\n",
    "    display: block;\n",
    "  }\n",
    "  #mobile2 {\n",
    "    display: none;\n",
    "  }\n",
    "}\n",
    "</style>\n",
    "'''\n",
    "\n",
    "f = open('styles.css','w')\n",
    "f.write(css)\n",
    "f.close()"
   ]
  }
 ],
 "metadata": {
  "kernelspec": {
   "display_name": "Python 3",
   "language": "python",
   "name": "python3"
  },
  "language_info": {
   "codemirror_mode": {
    "name": "ipython",
    "version": 3
   },
   "file_extension": ".py",
   "mimetype": "text/x-python",
   "name": "python",
   "nbconvert_exporter": "python",
   "pygments_lexer": "ipython3",
   "version": "3.8.6"
  },
  "toc": {
   "base_numbering": 1,
   "nav_menu": {},
   "number_sections": true,
   "sideBar": true,
   "skip_h1_title": false,
   "title_cell": "Table of Contents",
   "title_sidebar": "Contents",
   "toc_cell": false,
   "toc_position": {},
   "toc_section_display": true,
   "toc_window_display": false
  }
 },
 "nbformat": 4,
 "nbformat_minor": 4
}
