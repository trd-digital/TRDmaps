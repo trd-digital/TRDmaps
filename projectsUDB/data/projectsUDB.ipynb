{
 "cells": [
  {
   "cell_type": "markdown",
   "metadata": {},
   "source": [
    "## Imports"
   ]
  },
  {
   "cell_type": "code",
   "execution_count": 19,
   "metadata": {},
   "outputs": [],
   "source": [
    "import googlemaps\n",
    "import pandas as pd\n",
    "import numpy as np\n",
    "import re\n",
    "import os\n",
    "import geopandas as gpd\n",
    "\n",
    "from pandas_geojson import to_geojson, write_geojson\n",
    "from geopy.geocoders import GoogleV3\n",
    "from textwrap import shorten"
   ]
  },
  {
   "cell_type": "markdown",
   "metadata": {},
   "source": [
    "## Read-in"
   ]
  },
  {
   "cell_type": "code",
   "execution_count": 20,
   "metadata": {},
   "outputs": [],
   "source": [
    "df = pd.read_csv(\"Proposed Projects Outside Miami-Dade County's UDB - Sheet1.csv\")"
   ]
  },
  {
   "cell_type": "markdown",
   "metadata": {},
   "source": [
    "## Google Maps API Geolocater Setup"
   ]
  },
  {
   "cell_type": "code",
   "execution_count": 21,
   "metadata": {},
   "outputs": [],
   "source": [
    "%store -r google_maps_API_Key\n",
    "gmaps_key = googlemaps.Client(key=google_maps_API_Key)"
   ]
  },
  {
   "cell_type": "code",
   "execution_count": 22,
   "metadata": {},
   "outputs": [
    {
     "data": {
      "text/html": [
       "<div>\n",
       "<style scoped>\n",
       "    .dataframe tbody tr th:only-of-type {\n",
       "        vertical-align: middle;\n",
       "    }\n",
       "\n",
       "    .dataframe tbody tr th {\n",
       "        vertical-align: top;\n",
       "    }\n",
       "\n",
       "    .dataframe thead th {\n",
       "        text-align: right;\n",
       "    }\n",
       "</style>\n",
       "<table border=\"1\" class=\"dataframe\">\n",
       "  <thead>\n",
       "    <tr style=\"text-align: right;\">\n",
       "      <th></th>\n",
       "      <th>Project Name</th>\n",
       "      <th>Developer (s)</th>\n",
       "      <th>Location/Address</th>\n",
       "      <th>Proposal</th>\n",
       "      <th>Acreage</th>\n",
       "      <th>Folio</th>\n",
       "      <th>story</th>\n",
       "    </tr>\n",
       "  </thead>\n",
       "  <tbody>\n",
       "    <tr>\n",
       "      <th>0</th>\n",
       "      <td>Westend at Princeton</td>\n",
       "      <td>Legacy Residential Group, CD Group and Fenix C...</td>\n",
       "      <td>14251 Southwest 256th Street in unincorporated...</td>\n",
       "      <td>This is a proposal for a 630-unit apartment co...</td>\n",
       "      <td>20-ish</td>\n",
       "      <td>30-6927-001-0010 (but please note the project ...</td>\n",
       "      <td>https://therealdeal.com/miami/2023/04/25/devel...</td>\n",
       "    </tr>\n",
       "    <tr>\n",
       "      <th>1</th>\n",
       "      <td>Infinity Gardens Apartments</td>\n",
       "      <td>Brandon Shpirt of BSB Global Enterprises</td>\n",
       "      <td>14505 Southwest 260th Street in unincorporated...</td>\n",
       "      <td>This is a proposal for a six-story apartment c...</td>\n",
       "      <td>13.8</td>\n",
       "      <td>30-6927-000-0320 (please note only part of the...</td>\n",
       "      <td>https://therealdeal.com/miami/2023/05/31/brand...</td>\n",
       "    </tr>\n",
       "    <tr>\n",
       "      <th>2</th>\n",
       "      <td>NaN</td>\n",
       "      <td>NaN</td>\n",
       "      <td>No addresses but please use folios for location</td>\n",
       "      <td>This is a proposal for a 1,677 residential dev...</td>\n",
       "      <td>163</td>\n",
       "      <td>30-5908-000-0030, 30-5907-000-0012,  30-5908-0...</td>\n",
       "      <td>Some background, although this is not our stor...</td>\n",
       "    </tr>\n",
       "  </tbody>\n",
       "</table>\n",
       "</div>"
      ],
      "text/plain": [
       "                  Project Name   \n",
       "0         Westend at Princeton  \\\n",
       "1  Infinity Gardens Apartments   \n",
       "2                          NaN   \n",
       "\n",
       "                                       Developer (s)   \n",
       "0  Legacy Residential Group, CD Group and Fenix C...  \\\n",
       "1           Brandon Shpirt of BSB Global Enterprises   \n",
       "2                                                NaN   \n",
       "\n",
       "                                    Location/Address   \n",
       "0  14251 Southwest 256th Street in unincorporated...  \\\n",
       "1  14505 Southwest 260th Street in unincorporated...   \n",
       "2   No addresses but please use folios for location    \n",
       "\n",
       "                                            Proposal Acreage    \n",
       "0  This is a proposal for a 630-unit apartment co...   20-ish  \\\n",
       "1  This is a proposal for a six-story apartment c...     13.8   \n",
       "2  This is a proposal for a 1,677 residential dev...      163   \n",
       "\n",
       "                                              Folio    \n",
       "0  30-6927-001-0010 (but please note the project ...  \\\n",
       "1  30-6927-000-0320 (please note only part of the...   \n",
       "2  30-5908-000-0030, 30-5907-000-0012,  30-5908-0...   \n",
       "\n",
       "                                               story  \n",
       "0  https://therealdeal.com/miami/2023/04/25/devel...  \n",
       "1  https://therealdeal.com/miami/2023/05/31/brand...  \n",
       "2  Some background, although this is not our stor...  "
      ]
     },
     "execution_count": 22,
     "metadata": {},
     "output_type": "execute_result"
    }
   ],
   "source": [
    "df"
   ]
  },
  {
   "cell_type": "code",
   "execution_count": 23,
   "metadata": {},
   "outputs": [],
   "source": [
    "def geocode(add):\n",
    "    g = gmaps_key.geocode(add)\n",
    "    if g:\n",
    "        lat = g[0][\"geometry\"][\"location\"][\"lat\"]\n",
    "        lng = g[0][\"geometry\"][\"location\"][\"lng\"]\n",
    "        return (lat, lng)\n",
    "    else:\n",
    "        return None\n",
    "\n",
    "df['geocoded'] = df['Location/Address'].apply(geocode)"
   ]
  },
  {
   "cell_type": "code",
   "execution_count": 24,
   "metadata": {},
   "outputs": [],
   "source": [
    "df.at[2,'geocoded']=(25.665743293905635, -80.46549383357674)"
   ]
  },
  {
   "cell_type": "code",
   "execution_count": 25,
   "metadata": {},
   "outputs": [],
   "source": [
    "df['geocoded'] = df['geocoded'].astype(str)\n",
    "df[['lat', 'lon']] = df['geocoded'].str.strip('()').str.split(', ', expand=True)\n",
    "df['lat'] = df['lat'].astype(float)\n",
    "df['lon'] = df['lon'].astype(float)"
   ]
  },
  {
   "cell_type": "markdown",
   "metadata": {},
   "source": [
    "## Write to GeoJSON"
   ]
  },
  {
   "cell_type": "code",
   "execution_count": 26,
   "metadata": {},
   "outputs": [
    {
     "data": {
      "text/plain": [
       "Index(['Project Name', 'Developer (s)', 'Location/Address', 'Proposal',\n",
       "       'Acreage ', 'Folio ', 'story', 'geocoded', 'lat', 'lon'],\n",
       "      dtype='object')"
      ]
     },
     "execution_count": 26,
     "metadata": {},
     "output_type": "execute_result"
    }
   ],
   "source": [
    "df.columns"
   ]
  },
  {
   "cell_type": "code",
   "execution_count": 27,
   "metadata": {},
   "outputs": [],
   "source": [
    "geo_json = to_geojson(df=df, lat='lat', lon='lon',\n",
    "                     properties=['Project Name','Developer (s)','Proposal'])\n",
    "write_geojson(geo_json, filename='projects.geojson', indent=4)"
   ]
  },
  {
   "cell_type": "markdown",
   "metadata": {},
   "source": [
    "## Map URL snagger"
   ]
  },
  {
   "cell_type": "markdown",
   "metadata": {},
   "source": [
    "Map template URL: `https://trd-digital.github.io/trd-news-interactive-maps/{map-folder-name}`"
   ]
  },
  {
   "cell_type": "code",
   "execution_count": 28,
   "metadata": {},
   "outputs": [],
   "source": [
    "base_name = 'https://trd-digital.github.io/trd-news-interactive-maps/projectsUDB'"
   ]
  },
  {
   "cell_type": "code",
   "execution_count": 29,
   "metadata": {},
   "outputs": [
    {
     "name": "stdout",
     "output_type": "stream",
     "text": [
      "https://trd-digital.github.io/trd-news-interactive-maps/projectsUDB\n"
     ]
    }
   ],
   "source": [
    "print(base_name)"
   ]
  }
 ],
 "metadata": {
  "kernelspec": {
   "display_name": "Python 3 (ipykernel)",
   "language": "python",
   "name": "python3"
  },
  "language_info": {
   "codemirror_mode": {
    "name": "ipython",
    "version": 3
   },
   "file_extension": ".py",
   "mimetype": "text/x-python",
   "name": "python",
   "nbconvert_exporter": "python",
   "pygments_lexer": "ipython3",
   "version": "3.9.12"
  },
  "toc": {
   "base_numbering": 1,
   "nav_menu": {},
   "number_sections": true,
   "sideBar": true,
   "skip_h1_title": false,
   "title_cell": "Table of Contents",
   "title_sidebar": "Contents",
   "toc_cell": false,
   "toc_position": {},
   "toc_section_display": true,
   "toc_window_display": false
  }
 },
 "nbformat": 4,
 "nbformat_minor": 4
}
