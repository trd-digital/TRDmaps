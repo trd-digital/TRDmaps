{
 "cells": [
  {
   "cell_type": "markdown",
   "id": "e10034d4",
   "metadata": {},
   "source": [
    "# Imports"
   ]
  },
  {
   "cell_type": "code",
   "execution_count": 1,
   "id": "8766abcc",
   "metadata": {},
   "outputs": [],
   "source": [
    "import pandas as pd\n",
    "import geopandas as gpd\n",
    "import googlemaps\n",
    "from shapely.geometry import Point\n",
    "import os\n",
    "import numpy as np\n",
    "import re\n",
    "from textwrap import shorten\n",
    "from bs4 import BeautifulSoup\n",
    "import gspread"
   ]
  },
  {
   "cell_type": "markdown",
   "id": "d6f64639",
   "metadata": {},
   "source": [
    "## Data read-in"
   ]
  },
  {
   "cell_type": "code",
   "execution_count": 2,
   "id": "b490dbe3",
   "metadata": {},
   "outputs": [],
   "source": [
    "df = pd.read_csv('Austin luxury map 12_9 - Sheet1.csv')"
   ]
  },
  {
   "cell_type": "code",
   "execution_count": 5,
   "id": "400258db",
   "metadata": {},
   "outputs": [
    {
     "data": {
      "text/html": [
       "<div>\n",
       "<style scoped>\n",
       "    .dataframe tbody tr th:only-of-type {\n",
       "        vertical-align: middle;\n",
       "    }\n",
       "\n",
       "    .dataframe tbody tr th {\n",
       "        vertical-align: top;\n",
       "    }\n",
       "\n",
       "    .dataframe thead th {\n",
       "        text-align: right;\n",
       "    }\n",
       "</style>\n",
       "<table border=\"1\" class=\"dataframe\">\n",
       "  <thead>\n",
       "    <tr style=\"text-align: right;\">\n",
       "      <th></th>\n",
       "      <th>Address</th>\n",
       "      <th>Price</th>\n",
       "      <th>Price psf</th>\n",
       "    </tr>\n",
       "  </thead>\n",
       "  <tbody>\n",
       "    <tr>\n",
       "      <th>0</th>\n",
       "      <td>700 Brandon Way Austin, Texas 78733</td>\n",
       "      <td>$5.25 million</td>\n",
       "      <td>$533 per square foot</td>\n",
       "    </tr>\n",
       "    <tr>\n",
       "      <th>1</th>\n",
       "      <td>314 Reveille Rd West Lake Hills, Texas 78746</td>\n",
       "      <td>$2.79 million</td>\n",
       "      <td>$1060 per square foot</td>\n",
       "    </tr>\n",
       "    <tr>\n",
       "      <th>2</th>\n",
       "      <td>1003 Kinney Ave Austin, Texas 78704</td>\n",
       "      <td>$2.499 million</td>\n",
       "      <td>$1,189 per square foot</td>\n",
       "    </tr>\n",
       "    <tr>\n",
       "      <th>3</th>\n",
       "      <td>1414 Eva St Austin, Texas 78704</td>\n",
       "      <td>$2.4795 million</td>\n",
       "      <td>$900 per square foot</td>\n",
       "    </tr>\n",
       "    <tr>\n",
       "      <th>4</th>\n",
       "      <td>17137 Majestic Ridge Rd Austin, Texas 78738</td>\n",
       "      <td>$2.4 million</td>\n",
       "      <td>$397 per square foot</td>\n",
       "    </tr>\n",
       "    <tr>\n",
       "      <th>5</th>\n",
       "      <td>2704 Cherry Ln Austin, Texas 78703</td>\n",
       "      <td>$2.395 million</td>\n",
       "      <td>$516 per square foot</td>\n",
       "    </tr>\n",
       "    <tr>\n",
       "      <th>6</th>\n",
       "      <td>2802 Deercreek Cir Austin, Texas 78703</td>\n",
       "      <td>$2 million</td>\n",
       "      <td>$447 per square foot</td>\n",
       "    </tr>\n",
       "  </tbody>\n",
       "</table>\n",
       "</div>"
      ],
      "text/plain": [
       "                                        Address            Price  \\\n",
       "0           700 Brandon Way Austin, Texas 78733    $5.25 million   \n",
       "1  314 Reveille Rd West Lake Hills, Texas 78746    $2.79 million   \n",
       "2           1003 Kinney Ave Austin, Texas 78704   $2.499 million   \n",
       "3               1414 Eva St Austin, Texas 78704  $2.4795 million   \n",
       "4   17137 Majestic Ridge Rd Austin, Texas 78738     $2.4 million   \n",
       "5            2704 Cherry Ln Austin, Texas 78703   $2.395 million   \n",
       "6        2802 Deercreek Cir Austin, Texas 78703       $2 million   \n",
       "\n",
       "                Price psf  \n",
       "0    $533 per square foot  \n",
       "1   $1060 per square foot  \n",
       "2  $1,189 per square foot  \n",
       "3    $900 per square foot  \n",
       "4    $397 per square foot  \n",
       "5    $516 per square foot  \n",
       "6    $447 per square foot  "
      ]
     },
     "execution_count": 5,
     "metadata": {},
     "output_type": "execute_result"
    }
   ],
   "source": [
    "df"
   ]
  },
  {
   "cell_type": "code",
   "execution_count": 4,
   "id": "833361e4",
   "metadata": {},
   "outputs": [],
   "source": [
    "# Drop the 'URL' column if you no longer need it\n",
    "df = df.drop(columns=['Photo (?)'])"
   ]
  },
  {
   "cell_type": "code",
   "execution_count": 4,
   "id": "528a2875",
   "metadata": {},
   "outputs": [],
   "source": [
    "# df['Description'].iloc[0]"
   ]
  },
  {
   "cell_type": "markdown",
   "id": "f8e40528",
   "metadata": {},
   "source": [
    "## Geocode"
   ]
  },
  {
   "cell_type": "code",
   "execution_count": 6,
   "id": "80ec2c80",
   "metadata": {},
   "outputs": [
    {
     "data": {
      "text/plain": [
       "Index(['Address', 'Price', 'Price psf'], dtype='object')"
      ]
     },
     "execution_count": 6,
     "metadata": {},
     "output_type": "execute_result"
    }
   ],
   "source": [
    "df.columns"
   ]
  },
  {
   "cell_type": "code",
   "execution_count": 12,
   "id": "247d084d",
   "metadata": {},
   "outputs": [],
   "source": [
    "%store -r google_maps_API_Key\n",
    "gmaps_key = googlemaps.Client(key=google_maps_API_Key)"
   ]
  },
  {
   "cell_type": "code",
   "execution_count": 14,
   "id": "1eeeda8c",
   "metadata": {},
   "outputs": [],
   "source": [
    "def geocode(add):\n",
    "    g = gmaps_key.geocode(add)\n",
    "    lat = g[0][\"geometry\"][\"location\"][\"lat\"]\n",
    "    lng = g[0][\"geometry\"][\"location\"][\"lng\"]\n",
    "    return (lat, lng)\n",
    "\n",
    "df['geocoded'] = df['Address'].apply(geocode)"
   ]
  },
  {
   "cell_type": "code",
   "execution_count": 17,
   "id": "85b5eaba",
   "metadata": {},
   "outputs": [
    {
     "data": {
      "text/html": [
       "<div>\n",
       "<style scoped>\n",
       "    .dataframe tbody tr th:only-of-type {\n",
       "        vertical-align: middle;\n",
       "    }\n",
       "\n",
       "    .dataframe tbody tr th {\n",
       "        vertical-align: top;\n",
       "    }\n",
       "\n",
       "    .dataframe thead th {\n",
       "        text-align: right;\n",
       "    }\n",
       "</style>\n",
       "<table border=\"1\" class=\"dataframe\">\n",
       "  <thead>\n",
       "    <tr style=\"text-align: right;\">\n",
       "      <th></th>\n",
       "      <th>Address</th>\n",
       "      <th>Price</th>\n",
       "      <th>Price psf</th>\n",
       "      <th>geocoded</th>\n",
       "      <th>geometry</th>\n",
       "    </tr>\n",
       "  </thead>\n",
       "  <tbody>\n",
       "    <tr>\n",
       "      <th>0</th>\n",
       "      <td>700 Brandon Way Austin, Texas 78733</td>\n",
       "      <td>$5.25 million</td>\n",
       "      <td>$533 per square foot</td>\n",
       "      <td>(30.3237373, -97.85873900000001)</td>\n",
       "      <td>POINT (-97.85874 30.32374)</td>\n",
       "    </tr>\n",
       "    <tr>\n",
       "      <th>1</th>\n",
       "      <td>314 Reveille Rd West Lake Hills, Texas 78746</td>\n",
       "      <td>$2.79 million</td>\n",
       "      <td>$1060 per square foot</td>\n",
       "      <td>(30.2852831, -97.8049259)</td>\n",
       "      <td>POINT (-97.80493 30.28528)</td>\n",
       "    </tr>\n",
       "    <tr>\n",
       "      <th>2</th>\n",
       "      <td>1003 Kinney Ave Austin, Texas 78704</td>\n",
       "      <td>$2.499 million</td>\n",
       "      <td>$1,189 per square foot</td>\n",
       "      <td>(30.2573341, -97.764747)</td>\n",
       "      <td>POINT (-97.76475 30.25733)</td>\n",
       "    </tr>\n",
       "    <tr>\n",
       "      <th>3</th>\n",
       "      <td>1414 Eva St Austin, Texas 78704</td>\n",
       "      <td>$2.4795 million</td>\n",
       "      <td>$900 per square foot</td>\n",
       "      <td>(30.2494719, -97.7512465)</td>\n",
       "      <td>POINT (-97.75125 30.24947)</td>\n",
       "    </tr>\n",
       "    <tr>\n",
       "      <th>4</th>\n",
       "      <td>17137 Majestic Ridge Rd Austin, Texas 78738</td>\n",
       "      <td>$2.4 million</td>\n",
       "      <td>$397 per square foot</td>\n",
       "      <td>(30.3359912, -98.00191459999999)</td>\n",
       "      <td>POINT (-98.00191 30.33599)</td>\n",
       "    </tr>\n",
       "    <tr>\n",
       "      <th>5</th>\n",
       "      <td>2704 Cherry Ln Austin, Texas 78703</td>\n",
       "      <td>$2.395 million</td>\n",
       "      <td>$516 per square foot</td>\n",
       "      <td>(30.2936545, -97.7707532)</td>\n",
       "      <td>POINT (-97.77075 30.29365)</td>\n",
       "    </tr>\n",
       "    <tr>\n",
       "      <th>6</th>\n",
       "      <td>2802 Deercreek Cir Austin, Texas 78703</td>\n",
       "      <td>$2 million</td>\n",
       "      <td>$447 per square foot</td>\n",
       "      <td>(30.3072773, -97.767716)</td>\n",
       "      <td>POINT (-97.76772 30.30728)</td>\n",
       "    </tr>\n",
       "  </tbody>\n",
       "</table>\n",
       "</div>"
      ],
      "text/plain": [
       "                                        Address            Price  \\\n",
       "0           700 Brandon Way Austin, Texas 78733    $5.25 million   \n",
       "1  314 Reveille Rd West Lake Hills, Texas 78746    $2.79 million   \n",
       "2           1003 Kinney Ave Austin, Texas 78704   $2.499 million   \n",
       "3               1414 Eva St Austin, Texas 78704  $2.4795 million   \n",
       "4   17137 Majestic Ridge Rd Austin, Texas 78738     $2.4 million   \n",
       "5            2704 Cherry Ln Austin, Texas 78703   $2.395 million   \n",
       "6        2802 Deercreek Cir Austin, Texas 78703       $2 million   \n",
       "\n",
       "                Price psf                          geocoded  \\\n",
       "0    $533 per square foot  (30.3237373, -97.85873900000001)   \n",
       "1   $1060 per square foot         (30.2852831, -97.8049259)   \n",
       "2  $1,189 per square foot          (30.2573341, -97.764747)   \n",
       "3    $900 per square foot         (30.2494719, -97.7512465)   \n",
       "4    $397 per square foot  (30.3359912, -98.00191459999999)   \n",
       "5    $516 per square foot         (30.2936545, -97.7707532)   \n",
       "6    $447 per square foot          (30.3072773, -97.767716)   \n",
       "\n",
       "                     geometry  \n",
       "0  POINT (-97.85874 30.32374)  \n",
       "1  POINT (-97.80493 30.28528)  \n",
       "2  POINT (-97.76475 30.25733)  \n",
       "3  POINT (-97.75125 30.24947)  \n",
       "4  POINT (-98.00191 30.33599)  \n",
       "5  POINT (-97.77075 30.29365)  \n",
       "6  POINT (-97.76772 30.30728)  "
      ]
     },
     "execution_count": 17,
     "metadata": {},
     "output_type": "execute_result"
    }
   ],
   "source": [
    "# Convert 'geocoded' column into Shapely Point objects\n",
    "df['geometry'] = df['geocoded'].apply(lambda coords: Point(coords[1], coords[0]))\n",
    "\n",
    "# Create a GeoDataFrame\n",
    "gdf = gpd.GeoDataFrame(df, geometry='geometry')\n",
    "\n",
    "# Set the CRS to WGS84 (EPSG:4326)\n",
    "gdf.set_crs(epsg=4326, inplace=True)"
   ]
  },
  {
   "cell_type": "code",
   "execution_count": 18,
   "id": "13cdeafd",
   "metadata": {},
   "outputs": [
    {
     "data": {
      "text/plain": [
       "Index(['Address', 'Price', 'Price psf', 'geocoded', 'geometry'], dtype='object')"
      ]
     },
     "execution_count": 18,
     "metadata": {},
     "output_type": "execute_result"
    }
   ],
   "source": [
    "gdf.columns"
   ]
  },
  {
   "cell_type": "code",
   "execution_count": 19,
   "id": "34d9d3d3",
   "metadata": {},
   "outputs": [],
   "source": [
    "gdf = gdf.drop(columns={'geocoded':'Details'})"
   ]
  },
  {
   "cell_type": "code",
   "execution_count": 20,
   "id": "5bf8893a",
   "metadata": {},
   "outputs": [
    {
     "name": "stderr",
     "output_type": "stream",
     "text": [
      "/var/folders/rq/0_j_rksd7psgdycg9c1qwf6m0000gp/T/ipykernel_82704/2323350875.py:3: FutureWarning: DataFrame.applymap has been deprecated. Use DataFrame.map instead.\n",
      "  gdf = gdf.applymap(lambda x: x.strip() if isinstance(x, str) else x)  # Trim whitespace from string values\n"
     ]
    }
   ],
   "source": [
    "# Strip whitespace from all string columns\n",
    "gdf.columns = gdf.columns.str.strip()  # Trim whitespace from column names\n",
    "gdf = gdf.applymap(lambda x: x.strip() if isinstance(x, str) else x)  # Trim whitespace from string values"
   ]
  },
  {
   "cell_type": "code",
   "execution_count": 21,
   "id": "389be2c6",
   "metadata": {},
   "outputs": [],
   "source": [
    "# Convert all data to strings if possible, or remove complex structures\n",
    "for col in gdf.columns:\n",
    "    if gdf[col].dtype == object:\n",
    "        try:\n",
    "            gdf[col] = gdf[col].astype(str)\n",
    "        except Exception as e:\n",
    "            print(f\"Could not convert column {col}: {e}\")\n",
    "            gdf.drop(columns=[col], inplace=True)\n"
   ]
  },
  {
   "cell_type": "code",
   "execution_count": 22,
   "id": "cab17d01",
   "metadata": {},
   "outputs": [],
   "source": [
    "gdf.to_file('data.geojson', driver='GeoJSON')"
   ]
  },
  {
   "cell_type": "code",
   "execution_count": 23,
   "id": "81bf86af",
   "metadata": {},
   "outputs": [
    {
     "name": "stdout",
     "output_type": "stream",
     "text": [
      "https://trd-digital.github.io/trd-news-interactive-maps/Austin_Luxury_Map_12_9_24\n"
     ]
    }
   ],
   "source": [
    "base_name = 'https://trd-digital.github.io/trd-news-interactive-maps/'\n",
    "\n",
    "cwd = os.getcwd()\n",
    "\n",
    "cwd = cwd.split('/')\n",
    "\n",
    "final_name = base_name + cwd[-1]\n",
    "print(final_name)"
   ]
  },
  {
   "cell_type": "code",
   "execution_count": 24,
   "id": "17012fae",
   "metadata": {},
   "outputs": [
    {
     "data": {
      "text/plain": [
       "Index(['Address', 'Price', 'Price psf', 'geometry'], dtype='object')"
      ]
     },
     "execution_count": 24,
     "metadata": {},
     "output_type": "execute_result"
    }
   ],
   "source": [
    "gdf.columns"
   ]
  },
  {
   "cell_type": "markdown",
   "id": "487c7bf9",
   "metadata": {},
   "source": [
    "<a href=\"https://therealdeal.com/chicago/2024/04/03/david-gassman-sells-chicago-apartment-portfolio-for-72m/\"> 6954 North Sheridan Road, Chicago</a>"
   ]
  }
 ],
 "metadata": {
  "kernelspec": {
   "display_name": "Python 3 (ipykernel)",
   "language": "python",
   "name": "python3"
  },
  "language_info": {
   "codemirror_mode": {
    "name": "ipython",
    "version": 3
   },
   "file_extension": ".py",
   "mimetype": "text/x-python",
   "name": "python",
   "nbconvert_exporter": "python",
   "pygments_lexer": "ipython3",
   "version": "3.9.12"
  }
 },
 "nbformat": 4,
 "nbformat_minor": 5
}
