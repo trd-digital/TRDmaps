{
 "cells": [
  {
   "cell_type": "markdown",
   "id": "1007560e",
   "metadata": {},
   "source": [
    "## Imports"
   ]
  },
  {
   "cell_type": "code",
   "execution_count": 1,
   "id": "39ad15d5",
   "metadata": {},
   "outputs": [],
   "source": [
    "import googlemaps\n",
    "import pandas as pd\n",
    "import numpy as np\n",
    "import re\n",
    "import os\n",
    "import geopandas as gpd\n",
    "import folium\n",
    "import requests\n",
    "from bs4 import BeautifulSoup\n",
    "from shapely.geometry import Point"
   ]
  },
  {
   "cell_type": "markdown",
   "id": "90fe750d",
   "metadata": {},
   "source": [
    "## Read-in"
   ]
  },
  {
   "cell_type": "code",
   "execution_count": 2,
   "id": "7e8994b2",
   "metadata": {},
   "outputs": [],
   "source": [
    "df = pd.read_csv('LISF_May_June_July.csv')"
   ]
  },
  {
   "cell_type": "code",
   "execution_count": 6,
   "id": "f7d0d130",
   "metadata": {},
   "outputs": [
    {
     "data": {
      "text/plain": [
       "2835"
      ]
     },
     "execution_count": 6,
     "metadata": {},
     "output_type": "execute_result"
    }
   ],
   "source": [
    "len(df)"
   ]
  },
  {
   "cell_type": "code",
   "execution_count": 7,
   "id": "a982b4a5",
   "metadata": {},
   "outputs": [],
   "source": [
    "# Define the regex pattern to split the text\n",
    "pattern = r'(\\d+-\\d+-\\d+-\\d+-\\d+)\\s(.*)'\n",
    "\n",
    "# Apply regex and split the text into two columns\n",
    "df[['PIN', 'Address']] = df['1st PIN'].str.extract(pattern)\n",
    "\n",
    "# Remove leading/trailing whitespace from the address column\n",
    "df['Address'] = df['Address'].str.strip()"
   ]
  },
  {
   "cell_type": "code",
   "execution_count": 8,
   "id": "6b5ad13d",
   "metadata": {},
   "outputs": [],
   "source": [
    "df = df.drop(columns=['Unnamed: 0.2', 'Unnamed: 0.1', 'Unnamed: 0','1st PIN'])"
   ]
  },
  {
   "cell_type": "markdown",
   "id": "fac82a59",
   "metadata": {},
   "source": [
    "## Clean, drop, and convert"
   ]
  },
  {
   "cell_type": "code",
   "execution_count": 9,
   "id": "fe62ac5d",
   "metadata": {},
   "outputs": [],
   "source": [
    "df['Doc Recorded'] = pd.to_datetime(df['Doc Recorded'])"
   ]
  },
  {
   "cell_type": "code",
   "execution_count": 17,
   "id": "b6939bf7",
   "metadata": {},
   "outputs": [],
   "source": [
    "df = df.drop_duplicates()"
   ]
  },
  {
   "cell_type": "markdown",
   "id": "4ffeb043",
   "metadata": {},
   "source": [
    "## Data Stuff"
   ]
  },
  {
   "cell_type": "code",
   "execution_count": 18,
   "id": "d557c1e1",
   "metadata": {},
   "outputs": [],
   "source": [
    "first_month = 5\n",
    "second_month = 6\n",
    "third_month = 7"
   ]
  },
  {
   "cell_type": "code",
   "execution_count": 19,
   "id": "f4354a59",
   "metadata": {},
   "outputs": [
    {
     "name": "stdout",
     "output_type": "stream",
     "text": [
      "Number of May dates: 908\n"
     ]
    }
   ],
   "source": [
    "# Count number of earliest month dates\n",
    "may_dates_count = len(df.loc[df['Doc Recorded'].dt.month == first_month])\n",
    "\n",
    "print(f'Number of May dates: {may_dates_count}')"
   ]
  },
  {
   "cell_type": "code",
   "execution_count": 20,
   "id": "ac072fca",
   "metadata": {},
   "outputs": [
    {
     "name": "stdout",
     "output_type": "stream",
     "text": [
      "Number of June dates: 935\n"
     ]
    }
   ],
   "source": [
    "# Count number of middle month dates\n",
    "june_dates_count = len(df.loc[df['Doc Recorded'].dt.month == second_month])\n",
    "\n",
    "print(f'Number of June dates: {june_dates_count}')"
   ]
  },
  {
   "cell_type": "code",
   "execution_count": 21,
   "id": "a9bc237b",
   "metadata": {},
   "outputs": [
    {
     "name": "stdout",
     "output_type": "stream",
     "text": [
      "Number of July dates: 692\n"
     ]
    }
   ],
   "source": [
    "# Count number of middle month dates\n",
    "july_dates_count = len(df.loc[df['Doc Recorded'].dt.month == third_month])\n",
    "\n",
    "print(f'Number of July dates: {july_dates_count}')"
   ]
  },
  {
   "cell_type": "code",
   "execution_count": 22,
   "id": "9a9f3629",
   "metadata": {},
   "outputs": [
    {
     "name": "stderr",
     "output_type": "stream",
     "text": [
      "/var/folders/rq/0_j_rksd7psgdycg9c1qwf6m0000gp/T/ipykernel_99823/90358115.py:1: SettingWithCopyWarning: \n",
      "A value is trying to be set on a copy of a slice from a DataFrame.\n",
      "Try using .loc[row_indexer,col_indexer] = value instead\n",
      "\n",
      "See the caveats in the documentation: https://pandas.pydata.org/pandas-docs/stable/user_guide/indexing.html#returning-a-view-versus-a-copy\n",
      "  df['1st Grantor'] = df['1st Grantor'].fillna('NA')\n",
      "/var/folders/rq/0_j_rksd7psgdycg9c1qwf6m0000gp/T/ipykernel_99823/90358115.py:2: SettingWithCopyWarning: \n",
      "A value is trying to be set on a copy of a slice from a DataFrame.\n",
      "Try using .loc[row_indexer,col_indexer] = value instead\n",
      "\n",
      "See the caveats in the documentation: https://pandas.pydata.org/pandas-docs/stable/user_guide/indexing.html#returning-a-view-versus-a-copy\n",
      "  df['1st Grantee'] = df['1st Grantee'].fillna('NA')\n"
     ]
    }
   ],
   "source": [
    "df['1st Grantor'] = df['1st Grantor'].fillna('NA')\n",
    "df['1st Grantee'] = df['1st Grantee'].fillna('NA')"
   ]
  },
  {
   "cell_type": "code",
   "execution_count": 23,
   "id": "b63d1e5d",
   "metadata": {},
   "outputs": [],
   "source": [
    "municipal_authority = ['city', 'town', 'municipality', 'village','transit auth','department of transp']  # list of municipal authority keywords\n",
    "df = df[~df['1st Grantor'].str.contains('|'.join(municipal_authority), case=False) & \n",
    "        ~df['1st Grantee'].str.contains('|'.join(municipal_authority), case=False)]"
   ]
  },
  {
   "cell_type": "code",
   "execution_count": 24,
   "id": "d1ba02f1",
   "metadata": {},
   "outputs": [],
   "source": [
    "# create new column and assign colors based on month\n",
    "df['COLOR'] = df['Doc Recorded'].apply(lambda x: 'orange' if x.month == first_month else 'red' if x.month == second_month else 'blue' if x.month == third_month else '')"
   ]
  },
  {
   "cell_type": "markdown",
   "id": "e5b83ec1",
   "metadata": {},
   "source": [
    "## Get mortgage amounts"
   ]
  },
  {
   "cell_type": "code",
   "execution_count": 25,
   "id": "7244b2ad",
   "metadata": {},
   "outputs": [],
   "source": [
    "headers = {\n",
    "    'User-Agent': 'Mozilla/5.0 (Windows NT 10.0; Win64; x64) AppleWebKit/537.36 (KHTML, like Gecko) Chrome/58.0.3029.110 Safari/537.36',\n",
    "    'Accept-Language': 'en-US,en;q=0.5',\n",
    "    'Accept-Encoding': 'gzip, deflate, br',\n",
    "    'Connection': 'keep-alive',\n",
    "    'Upgrade-Insecure-Requests': '1',\n",
    "    'TE': 'Trailers'\n",
    "}"
   ]
  },
  {
   "cell_type": "code",
   "execution_count": 26,
   "id": "a511baf8",
   "metadata": {},
   "outputs": [],
   "source": [
    "def mortgage_url_snagger(URL, headers):\n",
    "    response = requests.get(URL, headers=headers)\n",
    "    soup = BeautifulSoup(response.content, 'html.parser')\n",
    "    for link in soup.find_all('a', href=True):\n",
    "        if link['href'].startswith('/Document/Detail'):\n",
    "            mortgage_url = 'https://crs.cookcountyclerkil.gov' + link['href']\n",
    "            return mortgage_url"
   ]
  },
  {
   "cell_type": "code",
   "execution_count": 27,
   "id": "ee0bfb2f",
   "metadata": {},
   "outputs": [],
   "source": [
    "def mortgage_consi_snagger(URL, headers):\n",
    "    response = requests.get(URL, headers=headers)\n",
    "    soup = BeautifulSoup(response.content, 'html.parser')\n",
    "    # Find all tr tags\n",
    "    trs = soup.find_all('tr')\n",
    "\n",
    "    # Loop through each tr tag and look for the td tag containing 'Consideration Amount' label\n",
    "    for tr in trs:\n",
    "        td = tr.find('th', text='Consideration Amount:')\n",
    "        if td:\n",
    "            # If the td tag is found, get the next td tag containing the amount\n",
    "            amount_td = td.find_next_sibling('td')\n",
    "            if amount_td:\n",
    "                # Print the amount\n",
    "                amount = amount_td.text.strip()\n",
    "                return amount\n",
    "            else:\n",
    "                return 'not found'"
   ]
  },
  {
   "cell_type": "code",
   "execution_count": 28,
   "id": "064b248d",
   "metadata": {},
   "outputs": [],
   "source": [
    "df['mortgage_urls'] = df['deed_urls'].apply(lambda x: mortgage_url_snagger(x, headers))"
   ]
  },
  {
   "cell_type": "code",
   "execution_count": 29,
   "id": "b89586ad",
   "metadata": {},
   "outputs": [
    {
     "name": "stderr",
     "output_type": "stream",
     "text": [
      "/var/folders/rq/0_j_rksd7psgdycg9c1qwf6m0000gp/T/ipykernel_99823/2390556658.py:9: DeprecationWarning: The 'text' argument to find()-type methods is deprecated. Use 'string' instead.\n",
      "  td = tr.find('th', text='Consideration Amount:')\n"
     ]
    }
   ],
   "source": [
    "df['mortgage_amount'] = df['mortgage_urls'].apply(lambda x: mortgage_consi_snagger(x, headers) if x is not None else None)"
   ]
  },
  {
   "cell_type": "code",
   "execution_count": 30,
   "id": "d9d8c516",
   "metadata": {},
   "outputs": [],
   "source": [
    "df[['mortgage_urls','mortgage_amount']] = df[['mortgage_urls','mortgage_amount']].fillna('NA')"
   ]
  },
  {
   "cell_type": "markdown",
   "id": "46ace4e5",
   "metadata": {},
   "source": [
    "## Geocode"
   ]
  },
  {
   "cell_type": "code",
   "execution_count": 31,
   "id": "4f187e4b",
   "metadata": {},
   "outputs": [],
   "source": [
    "df['geo_address'] = df['Address'] + ' Cook County, IL'"
   ]
  },
  {
   "cell_type": "code",
   "execution_count": 32,
   "id": "804604d2",
   "metadata": {},
   "outputs": [
    {
     "data": {
      "text/plain": [
       "2108"
      ]
     },
     "execution_count": 32,
     "metadata": {},
     "output_type": "execute_result"
    }
   ],
   "source": [
    "len(df)"
   ]
  },
  {
   "cell_type": "code",
   "execution_count": 34,
   "id": "02dd4244",
   "metadata": {},
   "outputs": [],
   "source": [
    "%store -r google_maps_API_Key\n",
    "gmaps_key = googlemaps.Client(key=google_maps_API_Key)"
   ]
  },
  {
   "cell_type": "code",
   "execution_count": 35,
   "id": "eb2d97cd",
   "metadata": {},
   "outputs": [],
   "source": [
    "# Define the geocode function\n",
    "def geocode(add):\n",
    "    g = gmaps_key.geocode(add)\n",
    "    if g:\n",
    "        lat = g[0][\"geometry\"][\"location\"][\"lat\"]\n",
    "        lng = g[0][\"geometry\"][\"location\"][\"lng\"]\n",
    "        return (lat, lng)\n",
    "    else:\n",
    "        return None\n",
    "\n",
    "# Apply geocoding to the 'geo_address' column and store the results in 'geocoded' column\n",
    "df['geocoded'] = df['geo_address'].apply(geocode)"
   ]
  },
  {
   "cell_type": "code",
   "execution_count": 36,
   "id": "f9502bc4",
   "metadata": {},
   "outputs": [],
   "source": [
    "df['geocoded'] = df['geocoded'].astype(str)\n",
    "df[['lat', 'lon']] = df['geocoded'].apply(lambda x: (None, None) if x == 'None' else x.strip('()').split(', ', 1)).apply(pd.Series)\n",
    "df['lat'] = df['lat'].astype(float)\n",
    "df['lon'] = df['lon'].astype(float)"
   ]
  },
  {
   "cell_type": "markdown",
   "id": "c8f43554",
   "metadata": {},
   "source": [
    "## HTML Popup Formatter"
   ]
  },
  {
   "cell_type": "code",
   "execution_count": 37,
   "id": "1d08f6b9",
   "metadata": {},
   "outputs": [
    {
     "data": {
      "text/plain": [
       "Index(['View Doc', 'Doc Number', 'Doc Recorded', 'Doc Executed', 'Doc Type',\n",
       "       'Consi. Amt.', '1st Grantor', '1st Grantee', 'Assoc. Doc#', 'deed_urls',\n",
       "       'PIN', 'Address', 'COLOR', 'mortgage_urls', 'mortgage_amount',\n",
       "       'geo_address', 'geocoded', 'lat', 'lon'],\n",
       "      dtype='object')"
      ]
     },
     "execution_count": 37,
     "metadata": {},
     "output_type": "execute_result"
    }
   ],
   "source": [
    "df.columns"
   ]
  },
  {
   "cell_type": "code",
   "execution_count": 38,
   "id": "ab87e9af",
   "metadata": {},
   "outputs": [],
   "source": [
    "def popup_html(row):\n",
    "    grantor = row['1st Grantor']\n",
    "    grantee = row['1st Grantee']\n",
    "    PIN = row['PIN']\n",
    "    Address = row['Address']\n",
    "    mortgage_amount = row['mortgage_amount']\n",
    "    \n",
    "    html = '''<!DOCTYPE html>\n",
    "    <html>\n",
    "    <strong>Lender: </strong>{}'''.format(grantor) + '''<br>\n",
    "    <strong>Borrower: </strong>{}'''.format(grantee) + '''<br>\n",
    "    <strong>PIN: </strong>{}'''.format(PIN) + '''<br>\n",
    "    <strong>Address: </strong>{}'''.format(Address) + '''<br>\n",
    "    <strong>Mortgage Amount: </strong>{}'''.format(mortgage_amount) + '''<br>\n",
    "    </html>\n",
    "    '''\n",
    "    return html"
   ]
  },
  {
   "cell_type": "code",
   "execution_count": 41,
   "id": "88cbbca3",
   "metadata": {},
   "outputs": [
    {
     "data": {
      "text/plain": [
       "<folium.raster_layers.TileLayer at 0x7f7b5e654a00>"
      ]
     },
     "execution_count": 41,
     "metadata": {},
     "output_type": "execute_result"
    }
   ],
   "source": [
    "import folium\n",
    "from folium.plugins import MarkerCluster\n",
    "import numpy as np\n",
    "\n",
    "m = folium.Map(location=df[[\"lat\", \"lon\"]].mean().to_list(), zoom_start=10)\n",
    "\n",
    "title_html = '''\n",
    "              <h3 align=\"center\" style=\"font-size:16px\"><b>{}</b></h3>\n",
    "             '''.format(f'Cook County Pending Foreclosures')\n",
    "\n",
    "caption_html = '''\n",
    "                <p align=\"center\" style=\"vertical-align: bottom; font-size:13px\"><i>{}</i></p>\n",
    "                '''.format('May, June and July')\n",
    "\n",
    "### Create map container ###\n",
    "m = folium.Map(location=df[[\"lat\", \"lon\"]].mean().to_list(), zoom_start=9.5, tiles=None)\n",
    "\n",
    "# Create two FeatureGroups for different color pins\n",
    "fg_orange = folium.FeatureGroup(name='May') ## \n",
    "fg_red = folium.FeatureGroup(name='June') ##\n",
    "fg_blue = folium.FeatureGroup(name='July')\n",
    "\n",
    "for index, row in df.iterrows():\n",
    "    lat = row['lat']\n",
    "    lon = row['lon']\n",
    "    color = row['COLOR']\n",
    "    if pd.notnull(lat) and pd.notnull(lon) and color == 'orange':\n",
    "        marker = folium.CircleMarker(\n",
    "            location=[lat, lon],\n",
    "            radius=10,\n",
    "            fill=True,\n",
    "            color=color,\n",
    "            popup=folium.Popup(popup_html(row), max_width=400))\n",
    "        marker.add_to(fg_orange)\n",
    "    elif pd.notnull(lat) and pd.notnull(lon) and color == 'red':\n",
    "        marker = folium.CircleMarker(\n",
    "            location=[lat,lon],\n",
    "            raidus=5,\n",
    "            fill=True,\n",
    "            color=color,\n",
    "            popup=folium.Popup(popup_html(row), max_width=400))\n",
    "        marker.add_to(fg_red)\n",
    "    elif pd.notnull(lat) and pd.notnull(lon) and color == 'blue':\n",
    "        marker = folium.CircleMarker(\n",
    "            location=[lat,lon],\n",
    "            raidus=5,\n",
    "            fill=True,\n",
    "            color=color,\n",
    "            popup=folium.Popup(popup_html(row), max_width=400))\n",
    "        marker.add_to(fg_blue)\n",
    "    else:\n",
    "        continue\n",
    "\n",
    "# Add the FeatureGroups to the map\n",
    "fg_orange.add_to(m)\n",
    "fg_red.add_to(m)\n",
    "fg_blue.add_to(m)\n",
    "\n",
    "folium.TileLayer('OpenStreetMap', control=False).add_to(m)\n",
    "\n",
    "# Add LayerControl to the map\n",
    "folium.map.LayerControl(collapsed=False).add_to(m)\n",
    "m.get_root().html.add_child(folium.Element(title_html))\n",
    "m.get_root().html.add_child(folium.Element(caption_html))\n",
    "folium.TileLayer('CartoDBpositron', control=False).add_to(m) \n",
    "            \n",
    "# Display map\n",
    "# m"
   ]
  },
  {
   "cell_type": "code",
   "execution_count": 42,
   "id": "de775adb",
   "metadata": {},
   "outputs": [],
   "source": [
    "m.save('index.html')"
   ]
  },
  {
   "cell_type": "markdown",
   "id": "fd3a05b7",
   "metadata": {},
   "source": [
    "## Map URL Snagger"
   ]
  },
  {
   "cell_type": "code",
   "execution_count": 43,
   "id": "28a4f251",
   "metadata": {},
   "outputs": [
    {
     "name": "stdout",
     "output_type": "stream",
     "text": [
      "https://trd-digital.github.io/trd-news-interactive-maps/lis_pendens_scraper_may_june_july\n"
     ]
    }
   ],
   "source": [
    "base_name = 'https://trd-digital.github.io/trd-news-interactive-maps/'\n",
    "\n",
    "cwd = os.getcwd()\n",
    "\n",
    "cwd = cwd.split('/')\n",
    "\n",
    "final_name = base_name + cwd[-1]\n",
    "print(final_name)"
   ]
  },
  {
   "cell_type": "markdown",
   "id": "d306111c",
   "metadata": {},
   "source": [
    "## Stats for story"
   ]
  },
  {
   "cell_type": "code",
   "execution_count": 48,
   "id": "071b2400",
   "metadata": {},
   "outputs": [
    {
     "name": "stderr",
     "output_type": "stream",
     "text": [
      "/var/folders/rq/0_j_rksd7psgdycg9c1qwf6m0000gp/T/ipykernel_99823/159485817.py:4: SettingWithCopyWarning: \n",
      "A value is trying to be set on a copy of a slice from a DataFrame.\n",
      "Try using .loc[row_indexer,col_indexer] = value instead\n",
      "\n",
      "See the caveats in the documentation: https://pandas.pydata.org/pandas-docs/stable/user_guide/indexing.html#returning-a-view-versus-a-copy\n",
      "  df['mortgage_amount_int'] = df['mortgage_amount_int'].astype(float).fillna(0).astype(int)\n"
     ]
    }
   ],
   "source": [
    "df['mortgage_amount_int'] = df['mortgage_amount'].str.replace('$','')\n",
    "df['mortgage_amount_int'] = df['mortgage_amount_int'].str.replace(',','')\n",
    "df = df.loc[df['mortgage_amount_int'] != 'NA']\n",
    "df['mortgage_amount_int'] = df['mortgage_amount_int'].astype(float).fillna(0).astype(int)"
   ]
  },
  {
   "cell_type": "code",
   "execution_count": 49,
   "id": "79736bdc",
   "metadata": {},
   "outputs": [
    {
     "name": "stdout",
     "output_type": "stream",
     "text": [
      "Number of May dates: 675\n",
      "Number of June dates: 747\n",
      "Number of July dates: 504\n"
     ]
    }
   ],
   "source": [
    "# Count number of first month dates\n",
    "may_dates_count = len(df.loc[df['Doc Recorded'].dt.month == first_month])\n",
    "\n",
    "print(f'Number of May dates: {may_dates_count}')\n",
    "\n",
    "# Count number of second month dates\n",
    "june_dates_count = len(df.loc[df['Doc Recorded'].dt.month == second_month])\n",
    "\n",
    "print(f'Number of June dates: {june_dates_count}')\n",
    "\n",
    "# Count number of third month dates\n",
    "july_dates_count = len(df.loc[df['Doc Recorded'].dt.month == third_month])\n",
    "\n",
    "print(f'Number of July dates: {july_dates_count}')"
   ]
  },
  {
   "cell_type": "code",
   "execution_count": 90,
   "id": "ffd59c35",
   "metadata": {},
   "outputs": [],
   "source": [
    "may = df.loc[df['Doc Recorded'].dt.month == first_month]\n",
    "june = df.loc[df['Doc Recorded'].dt.month == second_month]\n",
    "july = df.loc[df['Doc Recorded'].dt.month == third_month]"
   ]
  },
  {
   "cell_type": "code",
   "execution_count": 91,
   "id": "d9eb38b4",
   "metadata": {},
   "outputs": [],
   "source": [
    "may.reset_index(inplace=True, drop=True)\n",
    "june.reset_index(inplace=True, drop=True)\n",
    "july.reset_index(inplace=True, drop=True)"
   ]
  },
  {
   "cell_type": "code",
   "execution_count": 106,
   "id": "946265d7",
   "metadata": {},
   "outputs": [
    {
     "data": {
      "text/html": [
       "<div>\n",
       "<style scoped>\n",
       "    .dataframe tbody tr th:only-of-type {\n",
       "        vertical-align: middle;\n",
       "    }\n",
       "\n",
       "    .dataframe tbody tr th {\n",
       "        vertical-align: top;\n",
       "    }\n",
       "\n",
       "    .dataframe thead th {\n",
       "        text-align: right;\n",
       "    }\n",
       "</style>\n",
       "<table border=\"1\" class=\"dataframe\">\n",
       "  <thead>\n",
       "    <tr style=\"text-align: right;\">\n",
       "      <th></th>\n",
       "      <th>View Doc</th>\n",
       "      <th>Doc Number</th>\n",
       "      <th>Doc Recorded</th>\n",
       "      <th>Doc Executed</th>\n",
       "      <th>Doc Type</th>\n",
       "      <th>Consi. Amt.</th>\n",
       "      <th>1st Grantor</th>\n",
       "      <th>1st Grantee</th>\n",
       "      <th>Assoc. Doc#</th>\n",
       "      <th>deed_urls</th>\n",
       "      <th>PIN</th>\n",
       "      <th>Address</th>\n",
       "      <th>COLOR</th>\n",
       "      <th>mortgage_urls</th>\n",
       "      <th>mortgage_amount</th>\n",
       "      <th>geo_address</th>\n",
       "      <th>geocoded</th>\n",
       "      <th>lat</th>\n",
       "      <th>lon</th>\n",
       "      <th>mortgage_amount_int</th>\n",
       "    </tr>\n",
       "  </thead>\n",
       "  <tbody>\n",
       "    <tr>\n",
       "      <th>204</th>\n",
       "      <td>View</td>\n",
       "      <td>2321257024</td>\n",
       "      <td>2023-07-31</td>\n",
       "      <td>7/25/2023</td>\n",
       "      <td>LIS PENDENS FORECLOSURE</td>\n",
       "      <td>NaN</td>\n",
       "      <td>WILMINGTON TRUST NATL ASSN TR</td>\n",
       "      <td>ADVENTUS US RLTY 12 LP</td>\n",
       "      <td>1.630834e+09</td>\n",
       "      <td>https://crs.cookcountyclerkil.gov/Document/Det...</td>\n",
       "      <td>12-03-103-010-0000</td>\n",
       "      <td>9377 W HIGGINS RD, ROSEMONT</td>\n",
       "      <td>blue</td>\n",
       "      <td>https://crs.cookcountyclerkil.gov/Document/Det...</td>\n",
       "      <td>$128,000,000.00</td>\n",
       "      <td>9377 W HIGGINS RD, ROSEMONT Cook County, IL</td>\n",
       "      <td>(41.9883205, -87.8567961)</td>\n",
       "      <td>41.988321</td>\n",
       "      <td>-87.856796</td>\n",
       "      <td>128000000</td>\n",
       "    </tr>\n",
       "  </tbody>\n",
       "</table>\n",
       "</div>"
      ],
      "text/plain": [
       "    View Doc  Doc Number Doc Recorded Doc Executed                 Doc Type   \n",
       "204     View  2321257024   2023-07-31    7/25/2023  LIS PENDENS FORECLOSURE  \\\n",
       "\n",
       "     Consi. Amt.                    1st Grantor             1st Grantee   \n",
       "204          NaN  WILMINGTON TRUST NATL ASSN TR  ADVENTUS US RLTY 12 LP  \\\n",
       "\n",
       "      Assoc. Doc#                                          deed_urls   \n",
       "204  1.630834e+09  https://crs.cookcountyclerkil.gov/Document/Det...  \\\n",
       "\n",
       "                    PIN                      Address COLOR   \n",
       "204  12-03-103-010-0000  9377 W HIGGINS RD, ROSEMONT  blue  \\\n",
       "\n",
       "                                         mortgage_urls  mortgage_amount   \n",
       "204  https://crs.cookcountyclerkil.gov/Document/Det...  $128,000,000.00  \\\n",
       "\n",
       "                                     geo_address                   geocoded   \n",
       "204  9377 W HIGGINS RD, ROSEMONT Cook County, IL  (41.9883205, -87.8567961)  \\\n",
       "\n",
       "           lat        lon  mortgage_amount_int  \n",
       "204  41.988321 -87.856796            128000000  "
      ]
     },
     "execution_count": 106,
     "metadata": {},
     "output_type": "execute_result"
    }
   ],
   "source": [
    "# may.sort_values(by='mortgage_amount_int',ascending=False).head(1)\n",
    "# june.sort_values(by='mortgage_amount_int',ascending=False).head(1)\n",
    "july.sort_values(by='mortgage_amount_int',ascending=False).head(1)"
   ]
  },
  {
   "cell_type": "code",
   "execution_count": 109,
   "id": "ccc73e09",
   "metadata": {},
   "outputs": [
    {
     "name": "stdout",
     "output_type": "stream",
     "text": [
      "https://crs.cookcountyclerkil.gov/Document/Detail?dId=MzU0NDc5NTk1&hId=Yzg1NWZhZmZjYTJiYzM3MTVhODQxNDdjM2Y3MTc4Yjk5MTNjOTY3ODhlYWU2NTM1YjYzMDVkZjM1NTY5OTRjNQ2\n"
     ]
    }
   ],
   "source": [
    "# may.iloc[78]\n",
    "# print(may['mortgage_urls'].iloc[78])\n",
    "# june.iloc[229]\n",
    "# print(june['deed_urls'].iloc[229])\n",
    "# july.iloc[204]\n",
    "print(july['mortgage_urls'].iloc[204])"
   ]
  },
  {
   "cell_type": "code",
   "execution_count": 52,
   "id": "94ba0b03",
   "metadata": {},
   "outputs": [
    {
     "name": "stdout",
     "output_type": "stream",
     "text": [
      "May: $231,566,233\n",
      "-------\n",
      "June: $157,133,849\n",
      "-------\n",
      "July: $248,721,589\n",
      "-------\n",
      "Total: $637,421,671\n"
     ]
    }
   ],
   "source": [
    "print(f'May: ${may.mortgage_amount_int.sum():,}')\n",
    "print('-------')\n",
    "print(f'June: ${june.mortgage_amount_int.sum():,}')\n",
    "print('-------')\n",
    "print(f'July: ${july.mortgage_amount_int.sum():,}')\n",
    "print('-------')\n",
    "print(f'Total: ${may.mortgage_amount_int.sum() + june.mortgage_amount_int.sum() + july.mortgage_amount_int.sum():,}')"
   ]
  },
  {
   "cell_type": "code",
   "execution_count": 79,
   "id": "ae402d58",
   "metadata": {},
   "outputs": [
    {
     "data": {
      "text/plain": [
       "82"
      ]
     },
     "execution_count": 79,
     "metadata": {},
     "output_type": "execute_result"
    }
   ],
   "source": [
    "## July\n",
    "33 + 27 + 22"
   ]
  },
  {
   "cell_type": "code",
   "execution_count": 78,
   "id": "a425240e",
   "metadata": {},
   "outputs": [
    {
     "data": {
      "text/plain": [
       "1st Grantor\n",
       "US BK TRUST NATL ASSN TR                  33\n",
       "US BK NATL ASSN                           27\n",
       "MIDFIRST BK                               23\n",
       "NATIONSTAR MTG LLC                        23\n",
       "US BK NATL ASSN TR                        22\n",
       "FREEDOM MTG CORP                          22\n",
       "LAKEVIEW LOAN SERVICING LLC               22\n",
       "CARRINGTON MTG SERVICES LLC               18\n",
       "WILMINGTON SAV FUND SOC FSB TR            17\n",
       "WELLS FARGO BK NA                         12\n",
       "DEUTSCHE BK NATL TRUST CO TR              12\n",
       "NEWREZ LLC                                10\n",
       "PENNYMAC LOAN SERVICES LLC                10\n",
       "JPMORGAN CHASE BK NATL ASSN               10\n",
       "CITIMORTGAGE INC                          10\n",
       "FIFTH THIRD BK NATL ASSN                  10\n",
       "PNC BK NATL ASSN                           9\n",
       "FEDERAL HOME LOAN MTG CORP TR              9\n",
       "ROCKET MTG LLC                             9\n",
       "SPECIALIZED LOAN SERVICING LLC             7\n",
       "HSBC BK USA NATL ASSN TR                   7\n",
       "THE BK OF NEW YORK MELLON TR               7\n",
       "MCLP ASSET CO INC                          6\n",
       "MORTGAGE ASSETS MGMT LLC                   6\n",
       "FIFTH THIRD BK NA                          5\n",
       "WINTRUST MTG                               5\n",
       "MATRIX FIN SERVICES CORP                   5\n",
       "CITIZENS BK NA                             4\n",
       "WELLS FARGO BK NATL ASSN TR                4\n",
       "ALLIED FIRST BK SB                         3\n",
       "DATA MTG INC                               3\n",
       "PLANET HOME LENDG LLC                      3\n",
       "COMMUNITY LOAN SERVICING LLC               3\n",
       "LOANDEPOTCOM LLC                           3\n",
       "PHH MTG CORP                               3\n",
       "BANK OF AMER NA                            3\n",
       "LOAN TRUST LLC ISAOAATIMA                  3\n",
       "SERVIS ONE INC                             3\n",
       "DRUMMER DEV LLC                            3\n",
       "DLJ MTG CAP INC                            2\n",
       "GUILD MTG CO LLC                           2\n",
       "COMMUNITY SAV BK                           2\n",
       "BMO HARRIS BK NA                           2\n",
       "FEDERAL HOME LOAN MTG CORP                 2\n",
       "TVC MTG TRUST 2020-RTL2                    2\n",
       "LONGBRIDGE FIN LLC                         2\n",
       "CREDIT UNION 1                             2\n",
       "NSP RESID LLC                              2\n",
       "FLAGSTAR BK NA                             2\n",
       "FINANCE OF AMER REVERSE LLC                2\n",
       "CARDINAL FIN CO LTD PS                     2\n",
       "US BK TRUST CO NATL ASSN TR                2\n",
       "PLAZA HOME MTG INC                         2\n",
       "AMERISAVE MTG CORP                         2\n",
       "THE HUNTINGTON NATL BK                     2\n",
       "LOAN FUNDER LLC SERIES 37704               2\n",
       "LOANCARE LLC                               2\n",
       "BANK OF NEW YORK MELLON TRUST CO NA TR     2\n",
       "CADLEROCK III LLC                          1\n",
       "GREENE ST FUNDG TRUST II                   1\n",
       "Name: count, dtype: int64"
      ]
     },
     "execution_count": 78,
     "metadata": {},
     "output_type": "execute_result"
    }
   ],
   "source": [
    "july['1st Grantor'].value_counts().head(60)"
   ]
  },
  {
   "cell_type": "code",
   "execution_count": 56,
   "id": "e09990a5",
   "metadata": {},
   "outputs": [
    {
     "data": {
      "text/plain": [
       "1st Grantee\n",
       "LIFTUP COMMUNITIES LLC CHICAGO    6\n",
       "CHICAGO TITLE LAND TRUST CO TR    4\n",
       "PVONE PROP LLC                    2\n",
       "BEN JASON J                       2\n",
       "CHICAGO REHABBING LLC             2\n",
       "                                 ..\n",
       "DUNCAN CANESSA                    1\n",
       "WATKINS INGRID                    1\n",
       "COMPTON MARY                      1\n",
       "KHAN MUHAMMAD                     1\n",
       "OWENS ROSCOLITTA                  1\n",
       "Name: count, Length: 491, dtype: int64"
      ]
     },
     "execution_count": 56,
     "metadata": {},
     "output_type": "execute_result"
    }
   ],
   "source": [
    "july['1st Grantee'].value_counts()"
   ]
  },
  {
   "cell_type": "code",
   "execution_count": 57,
   "id": "a18fc45f",
   "metadata": {},
   "outputs": [],
   "source": [
    "df.to_csv('may_june_july_foreclosures.csv')"
   ]
  },
  {
   "cell_type": "code",
   "execution_count": null,
   "id": "3b799fbb",
   "metadata": {},
   "outputs": [],
   "source": [
    "# apr.sort_values(by='mortgage_amount_int',ascending=False)"
   ]
  },
  {
   "cell_type": "code",
   "execution_count": 62,
   "id": "59499c61",
   "metadata": {},
   "outputs": [
    {
     "name": "stdout",
     "output_type": "stream",
     "text": [
      "May median mortgage foreclosure amount: $172,000.0\n",
      "---------\n",
      "June median mortgage foreclosure amount: $166,500.0\n",
      "---------\n",
      "July median mortgage foreclosure amount: $161,947.5\n"
     ]
    }
   ],
   "source": [
    "print(f\"May median mortgage foreclosure amount: ${may['mortgage_amount_int'].median():,}\")\n",
    "print('---------')\n",
    "print(f\"June median mortgage foreclosure amount: ${june['mortgage_amount_int'].median():,}\")\n",
    "print('---------')\n",
    "print(f\"July median mortgage foreclosure amount: ${july['mortgage_amount_int'].median():,}\")"
   ]
  },
  {
   "cell_type": "markdown",
   "id": "05e6f225",
   "metadata": {},
   "source": [
    "## Boundary Analysis"
   ]
  },
  {
   "cell_type": "code",
   "execution_count": 63,
   "id": "0481f9bb",
   "metadata": {},
   "outputs": [],
   "source": [
    "boundaries = gpd.read_file('Boundaries - Neighborhoods.geojson')"
   ]
  },
  {
   "cell_type": "code",
   "execution_count": 66,
   "id": "fd0921e2",
   "metadata": {},
   "outputs": [],
   "source": [
    "# create Point objects from lat/lon columns in df\n",
    "geometry = gpd.points_from_xy(may['lon'], may['lat'])\n",
    "\n",
    "# create geodataframe from df with Point objects as geometry\n",
    "gdf_filings_may = gpd.GeoDataFrame(may, geometry=geometry)\n",
    "\n",
    "gdf_filings_may.crs = 'EPSG:4326'\n",
    "gdf_filings_may = gdf_filings_may.to_crs(boundaries.crs)\n",
    "\n",
    "# use contains method to get count of points within each neighborhood\n",
    "counts_may = gpd.sjoin(gdf_filings_may, boundaries, predicate='within').groupby('pri_neigh').size().reset_index(name='count')"
   ]
  },
  {
   "cell_type": "code",
   "execution_count": 67,
   "id": "5bb8736e",
   "metadata": {},
   "outputs": [],
   "source": [
    "# create Point objects from lat/lon columns in df\n",
    "geometry = gpd.points_from_xy(june['lon'], june['lat'])\n",
    "\n",
    "# create geodataframe from df with Point objects as geometry\n",
    "gdf_filings_june = gpd.GeoDataFrame(june, geometry=geometry)\n",
    "\n",
    "gdf_filings_june.crs = 'EPSG:4326'\n",
    "gdf_filings_june = gdf_filings_june.to_crs(boundaries.crs)\n",
    "\n",
    "# use contains method to get count of points within each neighborhood\n",
    "counts_june = gpd.sjoin(gdf_filings_june, boundaries, predicate='within').groupby('pri_neigh').size().reset_index(name='count')"
   ]
  },
  {
   "cell_type": "code",
   "execution_count": 68,
   "id": "5168d861",
   "metadata": {},
   "outputs": [],
   "source": [
    "# create Point objects from lat/lon columns in df\n",
    "geometry = gpd.points_from_xy(july['lon'], july['lat'])\n",
    "\n",
    "# create geodataframe from df with Point objects as geometry\n",
    "gdf_filings_july = gpd.GeoDataFrame(july, geometry=geometry)\n",
    "\n",
    "gdf_filings_july.crs = 'EPSG:4326'\n",
    "gdf_filings_july = gdf_filings_july.to_crs(boundaries.crs)\n",
    "\n",
    "# use contains method to get count of points within each neighborhood\n",
    "counts_july = gpd.sjoin(gdf_filings_july, boundaries, predicate='within').groupby('pri_neigh').size().reset_index(name='count')"
   ]
  },
  {
   "cell_type": "code",
   "execution_count": 69,
   "id": "1f541e04",
   "metadata": {},
   "outputs": [
    {
     "data": {
      "text/html": [
       "<div>\n",
       "<style scoped>\n",
       "    .dataframe tbody tr th:only-of-type {\n",
       "        vertical-align: middle;\n",
       "    }\n",
       "\n",
       "    .dataframe tbody tr th {\n",
       "        vertical-align: top;\n",
       "    }\n",
       "\n",
       "    .dataframe thead th {\n",
       "        text-align: right;\n",
       "    }\n",
       "</style>\n",
       "<table border=\"1\" class=\"dataframe\">\n",
       "  <thead>\n",
       "    <tr style=\"text-align: right;\">\n",
       "      <th></th>\n",
       "      <th>pri_neigh</th>\n",
       "      <th>count</th>\n",
       "    </tr>\n",
       "  </thead>\n",
       "  <tbody>\n",
       "    <tr>\n",
       "      <th>0</th>\n",
       "      <td>Albany Park</td>\n",
       "      <td>4</td>\n",
       "    </tr>\n",
       "    <tr>\n",
       "      <th>1</th>\n",
       "      <td>Andersonville</td>\n",
       "      <td>1</td>\n",
       "    </tr>\n",
       "    <tr>\n",
       "      <th>2</th>\n",
       "      <td>Archer Heights</td>\n",
       "      <td>2</td>\n",
       "    </tr>\n",
       "    <tr>\n",
       "      <th>3</th>\n",
       "      <td>Ashburn</td>\n",
       "      <td>7</td>\n",
       "    </tr>\n",
       "    <tr>\n",
       "      <th>4</th>\n",
       "      <td>Auburn Gresham</td>\n",
       "      <td>16</td>\n",
       "    </tr>\n",
       "    <tr>\n",
       "      <th>...</th>\n",
       "      <td>...</td>\n",
       "      <td>...</td>\n",
       "    </tr>\n",
       "    <tr>\n",
       "      <th>68</th>\n",
       "      <td>West Lawn</td>\n",
       "      <td>2</td>\n",
       "    </tr>\n",
       "    <tr>\n",
       "      <th>69</th>\n",
       "      <td>West Loop</td>\n",
       "      <td>2</td>\n",
       "    </tr>\n",
       "    <tr>\n",
       "      <th>70</th>\n",
       "      <td>West Pullman</td>\n",
       "      <td>13</td>\n",
       "    </tr>\n",
       "    <tr>\n",
       "      <th>71</th>\n",
       "      <td>West Ridge</td>\n",
       "      <td>8</td>\n",
       "    </tr>\n",
       "    <tr>\n",
       "      <th>72</th>\n",
       "      <td>West Town</td>\n",
       "      <td>2</td>\n",
       "    </tr>\n",
       "  </tbody>\n",
       "</table>\n",
       "<p>73 rows × 2 columns</p>\n",
       "</div>"
      ],
      "text/plain": [
       "         pri_neigh  count\n",
       "0      Albany Park      4\n",
       "1    Andersonville      1\n",
       "2   Archer Heights      2\n",
       "3          Ashburn      7\n",
       "4   Auburn Gresham     16\n",
       "..             ...    ...\n",
       "68       West Lawn      2\n",
       "69       West Loop      2\n",
       "70    West Pullman     13\n",
       "71      West Ridge      8\n",
       "72       West Town      2\n",
       "\n",
       "[73 rows x 2 columns]"
      ]
     },
     "execution_count": 69,
     "metadata": {},
     "output_type": "execute_result"
    }
   ],
   "source": [
    "counts_may"
   ]
  },
  {
   "cell_type": "code",
   "execution_count": 70,
   "id": "defb43cf",
   "metadata": {},
   "outputs": [
    {
     "data": {
      "text/html": [
       "<div>\n",
       "<style scoped>\n",
       "    .dataframe tbody tr th:only-of-type {\n",
       "        vertical-align: middle;\n",
       "    }\n",
       "\n",
       "    .dataframe tbody tr th {\n",
       "        vertical-align: top;\n",
       "    }\n",
       "\n",
       "    .dataframe thead th {\n",
       "        text-align: right;\n",
       "    }\n",
       "</style>\n",
       "<table border=\"1\" class=\"dataframe\">\n",
       "  <thead>\n",
       "    <tr style=\"text-align: right;\">\n",
       "      <th></th>\n",
       "      <th>pri_neigh</th>\n",
       "      <th>count</th>\n",
       "    </tr>\n",
       "  </thead>\n",
       "  <tbody>\n",
       "    <tr>\n",
       "      <th>0</th>\n",
       "      <td>Albany Park</td>\n",
       "      <td>1</td>\n",
       "    </tr>\n",
       "    <tr>\n",
       "      <th>1</th>\n",
       "      <td>Andersonville</td>\n",
       "      <td>1</td>\n",
       "    </tr>\n",
       "    <tr>\n",
       "      <th>2</th>\n",
       "      <td>Archer Heights</td>\n",
       "      <td>4</td>\n",
       "    </tr>\n",
       "    <tr>\n",
       "      <th>3</th>\n",
       "      <td>Ashburn</td>\n",
       "      <td>15</td>\n",
       "    </tr>\n",
       "    <tr>\n",
       "      <th>4</th>\n",
       "      <td>Auburn Gresham</td>\n",
       "      <td>19</td>\n",
       "    </tr>\n",
       "    <tr>\n",
       "      <th>...</th>\n",
       "      <td>...</td>\n",
       "      <td>...</td>\n",
       "    </tr>\n",
       "    <tr>\n",
       "      <th>68</th>\n",
       "      <td>West Pullman</td>\n",
       "      <td>7</td>\n",
       "    </tr>\n",
       "    <tr>\n",
       "      <th>69</th>\n",
       "      <td>West Ridge</td>\n",
       "      <td>4</td>\n",
       "    </tr>\n",
       "    <tr>\n",
       "      <th>70</th>\n",
       "      <td>West Town</td>\n",
       "      <td>2</td>\n",
       "    </tr>\n",
       "    <tr>\n",
       "      <th>71</th>\n",
       "      <td>Wicker Park</td>\n",
       "      <td>2</td>\n",
       "    </tr>\n",
       "    <tr>\n",
       "      <th>72</th>\n",
       "      <td>Woodlawn</td>\n",
       "      <td>7</td>\n",
       "    </tr>\n",
       "  </tbody>\n",
       "</table>\n",
       "<p>73 rows × 2 columns</p>\n",
       "</div>"
      ],
      "text/plain": [
       "         pri_neigh  count\n",
       "0      Albany Park      1\n",
       "1    Andersonville      1\n",
       "2   Archer Heights      4\n",
       "3          Ashburn     15\n",
       "4   Auburn Gresham     19\n",
       "..             ...    ...\n",
       "68    West Pullman      7\n",
       "69      West Ridge      4\n",
       "70       West Town      2\n",
       "71     Wicker Park      2\n",
       "72        Woodlawn      7\n",
       "\n",
       "[73 rows x 2 columns]"
      ]
     },
     "execution_count": 70,
     "metadata": {},
     "output_type": "execute_result"
    }
   ],
   "source": [
    "counts_june"
   ]
  },
  {
   "cell_type": "code",
   "execution_count": 71,
   "id": "ce9f4027",
   "metadata": {},
   "outputs": [
    {
     "data": {
      "text/html": [
       "<div>\n",
       "<style scoped>\n",
       "    .dataframe tbody tr th:only-of-type {\n",
       "        vertical-align: middle;\n",
       "    }\n",
       "\n",
       "    .dataframe tbody tr th {\n",
       "        vertical-align: top;\n",
       "    }\n",
       "\n",
       "    .dataframe thead th {\n",
       "        text-align: right;\n",
       "    }\n",
       "</style>\n",
       "<table border=\"1\" class=\"dataframe\">\n",
       "  <thead>\n",
       "    <tr style=\"text-align: right;\">\n",
       "      <th></th>\n",
       "      <th>pri_neigh</th>\n",
       "      <th>count</th>\n",
       "    </tr>\n",
       "  </thead>\n",
       "  <tbody>\n",
       "    <tr>\n",
       "      <th>0</th>\n",
       "      <td>Albany Park</td>\n",
       "      <td>2</td>\n",
       "    </tr>\n",
       "    <tr>\n",
       "      <th>1</th>\n",
       "      <td>Armour Square</td>\n",
       "      <td>1</td>\n",
       "    </tr>\n",
       "    <tr>\n",
       "      <th>2</th>\n",
       "      <td>Ashburn</td>\n",
       "      <td>12</td>\n",
       "    </tr>\n",
       "    <tr>\n",
       "      <th>3</th>\n",
       "      <td>Auburn Gresham</td>\n",
       "      <td>11</td>\n",
       "    </tr>\n",
       "    <tr>\n",
       "      <th>4</th>\n",
       "      <td>Austin</td>\n",
       "      <td>16</td>\n",
       "    </tr>\n",
       "    <tr>\n",
       "      <th>...</th>\n",
       "      <td>...</td>\n",
       "      <td>...</td>\n",
       "    </tr>\n",
       "    <tr>\n",
       "      <th>63</th>\n",
       "      <td>West Pullman</td>\n",
       "      <td>8</td>\n",
       "    </tr>\n",
       "    <tr>\n",
       "      <th>64</th>\n",
       "      <td>West Ridge</td>\n",
       "      <td>5</td>\n",
       "    </tr>\n",
       "    <tr>\n",
       "      <th>65</th>\n",
       "      <td>West Town</td>\n",
       "      <td>1</td>\n",
       "    </tr>\n",
       "    <tr>\n",
       "      <th>66</th>\n",
       "      <td>Woodlawn</td>\n",
       "      <td>4</td>\n",
       "    </tr>\n",
       "    <tr>\n",
       "      <th>67</th>\n",
       "      <td>Wrigleyville</td>\n",
       "      <td>1</td>\n",
       "    </tr>\n",
       "  </tbody>\n",
       "</table>\n",
       "<p>68 rows × 2 columns</p>\n",
       "</div>"
      ],
      "text/plain": [
       "         pri_neigh  count\n",
       "0      Albany Park      2\n",
       "1    Armour Square      1\n",
       "2          Ashburn     12\n",
       "3   Auburn Gresham     11\n",
       "4           Austin     16\n",
       "..             ...    ...\n",
       "63    West Pullman      8\n",
       "64      West Ridge      5\n",
       "65       West Town      1\n",
       "66        Woodlawn      4\n",
       "67    Wrigleyville      1\n",
       "\n",
       "[68 rows x 2 columns]"
      ]
     },
     "execution_count": 71,
     "metadata": {},
     "output_type": "execute_result"
    }
   ],
   "source": [
    "counts_july"
   ]
  }
 ],
 "metadata": {
  "kernelspec": {
   "display_name": "Python 3 (ipykernel)",
   "language": "python",
   "name": "python3"
  },
  "language_info": {
   "codemirror_mode": {
    "name": "ipython",
    "version": 3
   },
   "file_extension": ".py",
   "mimetype": "text/x-python",
   "name": "python",
   "nbconvert_exporter": "python",
   "pygments_lexer": "ipython3",
   "version": "3.9.12"
  }
 },
 "nbformat": 4,
 "nbformat_minor": 5
}
