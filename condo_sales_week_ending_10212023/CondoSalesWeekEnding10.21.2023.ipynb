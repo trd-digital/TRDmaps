{
 "cells": [
  {
   "cell_type": "markdown",
   "metadata": {},
   "source": [
    "## Imports"
   ]
  },
  {
   "cell_type": "code",
   "execution_count": 1,
   "metadata": {},
   "outputs": [],
   "source": [
    "import googlemaps\n",
    "import pandas as pd\n",
    "import numpy as np\n",
    "import re\n",
    "import os\n",
    "import geopandas as gpd\n",
    "import folium\n",
    "import tabula"
   ]
  },
  {
   "cell_type": "markdown",
   "metadata": {},
   "source": [
    "## Read-in"
   ]
  },
  {
   "cell_type": "code",
   "execution_count": 2,
   "metadata": {},
   "outputs": [],
   "source": [
    "# Gotta figure out how to get rid of the java error.\n",
    "# SO: https://stackoverflow.com/questions/54817211/java-command-is-not-found-from-this-python-process-please-ensure-java-is-inst\n",
    "\n",
    "dsf = tabula.read_pdf('condo.pdf', pages='all')"
   ]
  },
  {
   "cell_type": "markdown",
   "metadata": {},
   "source": [
    "## Clean Data"
   ]
  },
  {
   "cell_type": "code",
   "execution_count": 3,
   "metadata": {},
   "outputs": [],
   "source": [
    "df = dsf[0]\n",
    "df.columns = df.iloc[0]\n",
    "df = df[1:]\n",
    "df = df.drop(columns=df.columns[0])\n",
    "df = df.replace(np.nan, 'Not Available', regex=True)\n",
    "df = df.rename(columns={'Building / Address / City': 'building_address_city','Days on\\rMarket':'days_on_market',\\\n",
    "                        'Price /\\rSq. Ft.':'price_per_sqft'})\n",
    "df['building_address_city'] = df['building_address_city'].str.replace('^0', '', regex=True)\n",
    "df['geo_address'] = df['building_address_city']\n",
    "df['geo_address'] = df['geo_address'].map(lambda x: re.sub(r'\\r', ' ', x))\n",
    "df = df.replace('\\n',' ',regex=True)\n",
    "pattern = r'^(?P<building_name>[\\d\\s]*[A-Za-z\\s]+)\\s(?P<address>.+)\\s(?P<city>[A-Za-z\\s]+)$'\n",
    "df2 = df['geo_address']\n",
    "df2 = df2.to_frame()\n",
    "df2[['building_name', 'address', 'city']] = df2['geo_address'].str.extract(pattern, expand=True)"
   ]
  },
  {
   "cell_type": "markdown",
   "metadata": {},
   "source": [
    "Review this later (it's about how to properly merge DFs): https://pandas.pydata.org/pandas-docs/stable/user_guide/merging.html"
   ]
  },
  {
   "cell_type": "markdown",
   "metadata": {},
   "source": [
    "## Geocode"
   ]
  },
  {
   "cell_type": "code",
   "execution_count": 4,
   "metadata": {},
   "outputs": [],
   "source": [
    "result = pd.merge(df,df2,left_index=True, right_index=True)\n",
    "df = result\n",
    "df = df.drop(columns='city')"
   ]
  },
  {
   "cell_type": "code",
   "execution_count": 5,
   "metadata": {},
   "outputs": [],
   "source": [
    "%store -r google_maps_API_Key\n",
    "gmaps_key = googlemaps.Client(key=google_maps_API_Key)"
   ]
  },
  {
   "cell_type": "code",
   "execution_count": 6,
   "metadata": {},
   "outputs": [],
   "source": [
    "def geocode(add):\n",
    "    g = gmaps_key.geocode(add)\n",
    "    lat = g[0][\"geometry\"][\"location\"][\"lat\"]\n",
    "    lng = g[0][\"geometry\"][\"location\"][\"lng\"]\n",
    "    return (lat, lng)\n",
    "\n",
    "df['geocoded'] = df['geo_address_x'].apply(geocode)"
   ]
  },
  {
   "cell_type": "code",
   "execution_count": 7,
   "metadata": {},
   "outputs": [],
   "source": [
    "df['geocoded'] = df['geocoded'].astype(str)\n",
    "df[['lat', 'lon']] = df['geocoded'].str.strip('()').str.split(', ', expand=True)\n",
    "df['lat'] = df['lat'].astype(float)\n",
    "df['lon'] = df['lon'].astype(float)"
   ]
  },
  {
   "cell_type": "markdown",
   "metadata": {},
   "source": [
    "Folium documentation link: https://python-visualization.github.io/folium/index.html\n",
    "\n",
    "Folium is the library that lets us use leaflet with Python, since it's meant to be used with JavaScript.\n",
    "\n",
    "For adding titles: https://stackoverflow.com/questions/61928013/adding-a-title-or-text-to-a-folium-map"
   ]
  },
  {
   "cell_type": "markdown",
   "metadata": {},
   "source": [
    "## Correction section"
   ]
  },
  {
   "cell_type": "code",
   "execution_count": 8,
   "metadata": {},
   "outputs": [],
   "source": [
    "# df.at[index#,'col_name']"
   ]
  },
  {
   "cell_type": "markdown",
   "metadata": {},
   "source": [
    "## Format Data"
   ]
  },
  {
   "cell_type": "code",
   "execution_count": 9,
   "metadata": {},
   "outputs": [],
   "source": [
    "### Insert NaNs if needed ###\n",
    "df = df.replace('N/A', np.nan)"
   ]
  },
  {
   "cell_type": "code",
   "execution_count": 10,
   "metadata": {},
   "outputs": [],
   "source": [
    "df['int_Sale_Price'] = df['Sale Price'].str.replace('$','',regex=False)"
   ]
  },
  {
   "cell_type": "code",
   "execution_count": 11,
   "metadata": {},
   "outputs": [],
   "source": [
    "df['int_Sale_Price'] = df['int_Sale_Price'].str.replace(',','',regex=False)"
   ]
  },
  {
   "cell_type": "code",
   "execution_count": 12,
   "metadata": {},
   "outputs": [],
   "source": [
    "df['int_Sale_Price'] = pd.to_numeric(df['int_Sale_Price'])"
   ]
  },
  {
   "cell_type": "code",
   "execution_count": 13,
   "metadata": {},
   "outputs": [],
   "source": [
    "df['price_per_sqft'] = df['price_per_sqft'].str.replace('$','',regex=False)\n",
    "df['price_per_sqft'] = df['price_per_sqft'].str.replace(',','',regex=False)\n",
    "df['price_per_sqft'] = pd.to_numeric(df['price_per_sqft'])\n",
    "\n",
    "df['days_on_market'] = pd.to_numeric(df['days_on_market'])"
   ]
  },
  {
   "cell_type": "markdown",
   "metadata": {},
   "source": [
    "## Color-code top sale"
   ]
  },
  {
   "cell_type": "code",
   "execution_count": 14,
   "metadata": {},
   "outputs": [],
   "source": [
    "### Insert RANK values ###\n",
    "df['RANK'] = range(1, len(df) + 1)\n",
    "# use numpy to assign values to the 'COLOR' column\n",
    "df['COLOR'] = np.where(df['RANK'] <= 1, 'orange', 'blue')"
   ]
  },
  {
   "cell_type": "markdown",
   "metadata": {},
   "source": [
    "## HTML Popup Formatter"
   ]
  },
  {
   "cell_type": "code",
   "execution_count": 15,
   "metadata": {},
   "outputs": [
    {
     "data": {
      "text/plain": [
       "Index(['building_address_city', 'Close Date', 'days_on_market', 'Sale Price',\n",
       "       'Sq. Ft.', 'price_per_sqft', 'Agent', 'Listing Broker', 'Buyer Agent',\n",
       "       'Buyer Broker', 'geo_address_x', 'geo_address_y', 'building_name',\n",
       "       'address', 'geocoded', 'lat', 'lon', 'int_Sale_Price', 'RANK', 'COLOR'],\n",
       "      dtype='object')"
      ]
     },
     "execution_count": 15,
     "metadata": {},
     "output_type": "execute_result"
    }
   ],
   "source": [
    "df.columns"
   ]
  },
  {
   "cell_type": "code",
   "execution_count": 16,
   "metadata": {},
   "outputs": [],
   "source": [
    "def popup_html(row):\n",
    "    building_name = row['building_name']\n",
    "    price = row['Sale Price']\n",
    "    days_on_market = row['days_on_market']\n",
    "    listing_agent = row['Agent']\n",
    "    buyers_agent = row['Buyer Agent']\n",
    "    psf = row['price_per_sqft']\n",
    "    address = row['address']\n",
    "    \n",
    "    html = '''<!DOCTYPE html>\n",
    "    <html>\n",
    "    <strong>Building Name: </strong>{}'''.format(building_name) + '''<br>\n",
    "    <strong>Sale Price: </strong>{}'''.format(price) + '''<br>\n",
    "    <strong>Days on Market: </strong>{}'''.format(days_on_market) + '''<br>\n",
    "    <strong>Listing Agent: </strong>{}'''.format(listing_agent) + '''<br>\n",
    "    <strong>Buyer's Agent: </strong>{}'''.format(buyers_agent) + '''<br>\n",
    "    <strong>Price sq ft: </strong>${}'''.format(psf) + '''<br>\n",
    "    <strong>Address: </strong>{}'''.format(address) + '''<br>\n",
    "    </html>\n",
    "    '''\n",
    "    return html"
   ]
  },
  {
   "cell_type": "code",
   "execution_count": 17,
   "metadata": {},
   "outputs": [
    {
     "data": {
      "text/html": [
       "<div style=\"width:100%;\"><div style=\"position:relative;width:100%;height:0;padding-bottom:60%;\"><span style=\"color:#565656\">Make this Notebook Trusted to load map: File -> Trust Notebook</span><iframe srcdoc=\"&lt;!DOCTYPE html&gt;\n",
       "&lt;head&gt;    \n",
       "    &lt;meta http-equiv=&quot;content-type&quot; content=&quot;text/html; charset=UTF-8&quot; /&gt;\n",
       "    \n",
       "        &lt;script&gt;\n",
       "            L_NO_TOUCH = false;\n",
       "            L_DISABLE_3D = false;\n",
       "        &lt;/script&gt;\n",
       "    \n",
       "    &lt;style&gt;html, body {width: 100%;height: 100%;margin: 0;padding: 0;}&lt;/style&gt;\n",
       "    &lt;style&gt;#map {position:absolute;top:0;bottom:0;right:0;left:0;}&lt;/style&gt;\n",
       "    &lt;script src=&quot;https://cdn.jsdelivr.net/npm/leaflet@1.6.0/dist/leaflet.js&quot;&gt;&lt;/script&gt;\n",
       "    &lt;script src=&quot;https://code.jquery.com/jquery-1.12.4.min.js&quot;&gt;&lt;/script&gt;\n",
       "    &lt;script src=&quot;https://maxcdn.bootstrapcdn.com/bootstrap/3.2.0/js/bootstrap.min.js&quot;&gt;&lt;/script&gt;\n",
       "    &lt;script src=&quot;https://cdnjs.cloudflare.com/ajax/libs/Leaflet.awesome-markers/2.0.2/leaflet.awesome-markers.js&quot;&gt;&lt;/script&gt;\n",
       "    &lt;link rel=&quot;stylesheet&quot; href=&quot;https://cdn.jsdelivr.net/npm/leaflet@1.6.0/dist/leaflet.css&quot;/&gt;\n",
       "    &lt;link rel=&quot;stylesheet&quot; href=&quot;https://maxcdn.bootstrapcdn.com/bootstrap/3.2.0/css/bootstrap.min.css&quot;/&gt;\n",
       "    &lt;link rel=&quot;stylesheet&quot; href=&quot;https://maxcdn.bootstrapcdn.com/bootstrap/3.2.0/css/bootstrap-theme.min.css&quot;/&gt;\n",
       "    &lt;link rel=&quot;stylesheet&quot; href=&quot;https://maxcdn.bootstrapcdn.com/font-awesome/4.6.3/css/font-awesome.min.css&quot;/&gt;\n",
       "    &lt;link rel=&quot;stylesheet&quot; href=&quot;https://cdnjs.cloudflare.com/ajax/libs/Leaflet.awesome-markers/2.0.2/leaflet.awesome-markers.css&quot;/&gt;\n",
       "    &lt;link rel=&quot;stylesheet&quot; href=&quot;https://cdn.jsdelivr.net/gh/python-visualization/folium/folium/templates/leaflet.awesome.rotate.min.css&quot;/&gt;\n",
       "    \n",
       "            &lt;meta name=&quot;viewport&quot; content=&quot;width=device-width,\n",
       "                initial-scale=1.0, maximum-scale=1.0, user-scalable=no&quot; /&gt;\n",
       "            &lt;style&gt;\n",
       "                #map_1d287e0b7a92df5a7d8fa79a2a60ce8a {\n",
       "                    position: relative;\n",
       "                    width: 100.0%;\n",
       "                    height: 100.0%;\n",
       "                    left: 0.0%;\n",
       "                    top: 0.0%;\n",
       "                }\n",
       "            &lt;/style&gt;\n",
       "        \n",
       "&lt;/head&gt;\n",
       "&lt;body&gt;    \n",
       "    \n",
       "              &lt;h3 align=&quot;center&quot; style=&quot;font-size:16px&quot;&gt;&lt;b&gt;Recent Miami-Dade Condo Sales &lt;/b&gt;&lt;/h3&gt;\n",
       "             \n",
       "    \n",
       "                &lt;p align=&quot;center&quot; style=&quot;vertical-align: bottom; font-size:13px&quot;&gt;&lt;i&gt;October 8th - October 14th&lt;/i&gt;&lt;/p&gt;\n",
       "                \n",
       "    \n",
       "            &lt;div class=&quot;folium-map&quot; id=&quot;map_1d287e0b7a92df5a7d8fa79a2a60ce8a&quot; &gt;&lt;/div&gt;\n",
       "        \n",
       "&lt;/body&gt;\n",
       "&lt;script&gt;    \n",
       "    \n",
       "            var map_1d287e0b7a92df5a7d8fa79a2a60ce8a = L.map(\n",
       "                &quot;map_1d287e0b7a92df5a7d8fa79a2a60ce8a&quot;,\n",
       "                {\n",
       "                    center: [25.838503529999997, -80.15781318999998],\n",
       "                    crs: L.CRS.EPSG3857,\n",
       "                    zoom: 9.5,\n",
       "                    zoomControl: true,\n",
       "                    preferCanvas: false,\n",
       "                }\n",
       "            );\n",
       "\n",
       "            \n",
       "\n",
       "        \n",
       "    \n",
       "            var feature_group_e2c55099f70ba5ac4f9c3cd85e6222b4 = L.featureGroup(\n",
       "                {}\n",
       "            ).addTo(map_1d287e0b7a92df5a7d8fa79a2a60ce8a);\n",
       "        \n",
       "    \n",
       "            var marker_a4fada5d3c0861e33bc31bae0c032e7f = L.marker(\n",
       "                [25.926267, -80.12156499999999],\n",
       "                {&quot;fill&quot;: true, &quot;radius&quot;: 5}\n",
       "            ).addTo(feature_group_e2c55099f70ba5ac4f9c3cd85e6222b4);\n",
       "        \n",
       "    \n",
       "            var icon_8c5e3a6d6ef2780728c61e495cfe9ce5 = L.AwesomeMarkers.icon(\n",
       "                {&quot;extraClasses&quot;: &quot;fa-rotate-0&quot;, &quot;icon&quot;: &quot;info-sign&quot;, &quot;iconColor&quot;: &quot;white&quot;, &quot;markerColor&quot;: &quot;orange&quot;, &quot;prefix&quot;: &quot;glyphicon&quot;}\n",
       "            );\n",
       "            marker_a4fada5d3c0861e33bc31bae0c032e7f.setIcon(icon_8c5e3a6d6ef2780728c61e495cfe9ce5);\n",
       "        \n",
       "    \n",
       "        var popup_6ccc1536274d2cc6308c097545896d0f = L.popup({&quot;maxWidth&quot;: 400});\n",
       "\n",
       "        \n",
       "            \n",
       "                var html_00da7df1631a0f6949828832dee64cc6 = $(`&lt;div id=&quot;html_00da7df1631a0f6949828832dee64cc6&quot; style=&quot;width: 100.0%; height: 100.0%;&quot;&gt;&lt;!DOCTYPE html&gt;     &lt;html&gt;     &lt;strong&gt;Building Name: &lt;/strong&gt;Turnberry Ocean Colony&lt;br&gt;     &lt;strong&gt;Sale Price: &lt;/strong&gt;$3,300,000.00&lt;br&gt;     &lt;strong&gt;Days on Market: &lt;/strong&gt;182&lt;br&gt;     &lt;strong&gt;Listing Agent: &lt;/strong&gt;Marcia Page&lt;br&gt;     &lt;strong&gt;Buyer&#x27;s Agent: &lt;/strong&gt;Joseph Khalil&lt;br&gt;     &lt;strong&gt;Price sq ft: &lt;/strong&gt;$883.53&lt;br&gt;     &lt;strong&gt;Address: &lt;/strong&gt;16051 Collins Ave 504 Sunny Isles&lt;br&gt;     &lt;/html&gt;     &lt;/div&gt;`)[0];\n",
       "                popup_6ccc1536274d2cc6308c097545896d0f.setContent(html_00da7df1631a0f6949828832dee64cc6);\n",
       "            \n",
       "        \n",
       "\n",
       "        marker_a4fada5d3c0861e33bc31bae0c032e7f.bindPopup(popup_6ccc1536274d2cc6308c097545896d0f)\n",
       "        ;\n",
       "\n",
       "        \n",
       "    \n",
       "    \n",
       "            var feature_group_7ed3225d15e697e59f30e860e8930d72 = L.featureGroup(\n",
       "                {}\n",
       "            ).addTo(map_1d287e0b7a92df5a7d8fa79a2a60ce8a);\n",
       "        \n",
       "    \n",
       "            var marker_82e7615c1a62662428dd4cb5a75ef2f7 = L.marker(\n",
       "                [25.9412405, -80.12074369999999],\n",
       "                {&quot;fill&quot;: true, &quot;radius&quot;: 5}\n",
       "            ).addTo(feature_group_7ed3225d15e697e59f30e860e8930d72);\n",
       "        \n",
       "    \n",
       "            var icon_66519cc8f6f37bed50176869472fd531 = L.AwesomeMarkers.icon(\n",
       "                {&quot;extraClasses&quot;: &quot;fa-rotate-0&quot;, &quot;icon&quot;: &quot;info-sign&quot;, &quot;iconColor&quot;: &quot;white&quot;, &quot;markerColor&quot;: &quot;blue&quot;, &quot;prefix&quot;: &quot;glyphicon&quot;}\n",
       "            );\n",
       "            marker_82e7615c1a62662428dd4cb5a75ef2f7.setIcon(icon_66519cc8f6f37bed50176869472fd531);\n",
       "        \n",
       "    \n",
       "        var popup_78de5214e5e6e889576b3dc9cf1c141f = L.popup({&quot;maxWidth&quot;: 400});\n",
       "\n",
       "        \n",
       "            \n",
       "                var html_bd0aa365b7039ea8afae6702f8cccbe5 = $(`&lt;div id=&quot;html_bd0aa365b7039ea8afae6702f8cccbe5&quot; style=&quot;width: 100.0%; height: 100.0%;&quot;&gt;&lt;!DOCTYPE html&gt;     &lt;html&gt;     &lt;strong&gt;Building Name: &lt;/strong&gt;Acqualina Ocean Residences&lt;br&gt;     &lt;strong&gt;Sale Price: &lt;/strong&gt;$3,300,000.00&lt;br&gt;     &lt;strong&gt;Days on Market: &lt;/strong&gt;62&lt;br&gt;     &lt;strong&gt;Listing Agent: &lt;/strong&gt;Victoria Romanenko&lt;br&gt;     &lt;strong&gt;Buyer&#x27;s Agent: &lt;/strong&gt;Karina Batievsky&lt;br&gt;     &lt;strong&gt;Price sq ft: &lt;/strong&gt;$1206.14&lt;br&gt;     &lt;strong&gt;Address: &lt;/strong&gt;17875 Collins Ave 1601 Sunny Isles&lt;br&gt;     &lt;/html&gt;     &lt;/div&gt;`)[0];\n",
       "                popup_78de5214e5e6e889576b3dc9cf1c141f.setContent(html_bd0aa365b7039ea8afae6702f8cccbe5);\n",
       "            \n",
       "        \n",
       "\n",
       "        marker_82e7615c1a62662428dd4cb5a75ef2f7.bindPopup(popup_78de5214e5e6e889576b3dc9cf1c141f)\n",
       "        ;\n",
       "\n",
       "        \n",
       "    \n",
       "    \n",
       "            var marker_bdb4efb8c644b2b8fbcd6bcae590e584 = L.marker(\n",
       "                [25.8888332, -80.1225323],\n",
       "                {&quot;fill&quot;: true, &quot;radius&quot;: 5}\n",
       "            ).addTo(feature_group_7ed3225d15e697e59f30e860e8930d72);\n",
       "        \n",
       "    \n",
       "            var icon_8642dcdd487a52d3967ef60676871931 = L.AwesomeMarkers.icon(\n",
       "                {&quot;extraClasses&quot;: &quot;fa-rotate-0&quot;, &quot;icon&quot;: &quot;info-sign&quot;, &quot;iconColor&quot;: &quot;white&quot;, &quot;markerColor&quot;: &quot;blue&quot;, &quot;prefix&quot;: &quot;glyphicon&quot;}\n",
       "            );\n",
       "            marker_bdb4efb8c644b2b8fbcd6bcae590e584.setIcon(icon_8642dcdd487a52d3967ef60676871931);\n",
       "        \n",
       "    \n",
       "        var popup_09b400a64d4d894d1082b0373027c11f = L.popup({&quot;maxWidth&quot;: 400});\n",
       "\n",
       "        \n",
       "            \n",
       "                var html_a4539edd8f578c52c84deee56e051399 = $(`&lt;div id=&quot;html_a4539edd8f578c52c84deee56e051399&quot; style=&quot;width: 100.0%; height: 100.0%;&quot;&gt;&lt;!DOCTYPE html&gt;     &lt;html&gt;     &lt;strong&gt;Building Name: &lt;/strong&gt;St Regis Bal Harbour&lt;br&gt;     &lt;strong&gt;Sale Price: &lt;/strong&gt;$3,000,000.00&lt;br&gt;     &lt;strong&gt;Days on Market: &lt;/strong&gt;170&lt;br&gt;     &lt;strong&gt;Listing Agent: &lt;/strong&gt;Pietro Belmonte&lt;br&gt;     &lt;strong&gt;Buyer&#x27;s Agent: &lt;/strong&gt;Djulieta Godoroja&lt;br&gt;     &lt;strong&gt;Price sq ft: &lt;/strong&gt;$1946.79&lt;br&gt;     &lt;strong&gt;Address: &lt;/strong&gt;9703 Collins Ave 2612 Bal&lt;br&gt;     &lt;/html&gt;     &lt;/div&gt;`)[0];\n",
       "                popup_09b400a64d4d894d1082b0373027c11f.setContent(html_a4539edd8f578c52c84deee56e051399);\n",
       "            \n",
       "        \n",
       "\n",
       "        marker_bdb4efb8c644b2b8fbcd6bcae590e584.bindPopup(popup_09b400a64d4d894d1082b0373027c11f)\n",
       "        ;\n",
       "\n",
       "        \n",
       "    \n",
       "    \n",
       "            var marker_26620617fd9398831d09133e42047faa = L.marker(\n",
       "                [25.9392068, -80.120635],\n",
       "                {&quot;fill&quot;: true, &quot;radius&quot;: 5}\n",
       "            ).addTo(feature_group_7ed3225d15e697e59f30e860e8930d72);\n",
       "        \n",
       "    \n",
       "            var icon_585b3ecc8f1607be4412db48f7bd3915 = L.AwesomeMarkers.icon(\n",
       "                {&quot;extraClasses&quot;: &quot;fa-rotate-0&quot;, &quot;icon&quot;: &quot;info-sign&quot;, &quot;iconColor&quot;: &quot;white&quot;, &quot;markerColor&quot;: &quot;blue&quot;, &quot;prefix&quot;: &quot;glyphicon&quot;}\n",
       "            );\n",
       "            marker_26620617fd9398831d09133e42047faa.setIcon(icon_585b3ecc8f1607be4412db48f7bd3915);\n",
       "        \n",
       "    \n",
       "        var popup_f3acd80e910f2f0ec754480d9e61ea6d = L.popup({&quot;maxWidth&quot;: 400});\n",
       "\n",
       "        \n",
       "            \n",
       "                var html_75e640fe56898ee1dbda8e9f76bbbfd6 = $(`&lt;div id=&quot;html_75e640fe56898ee1dbda8e9f76bbbfd6&quot; style=&quot;width: 100.0%; height: 100.0%;&quot;&gt;&lt;!DOCTYPE html&gt;     &lt;html&gt;     &lt;strong&gt;Building Name: &lt;/strong&gt;Pinnacle&lt;br&gt;     &lt;strong&gt;Sale Price: &lt;/strong&gt;$2,660,000.00&lt;br&gt;     &lt;strong&gt;Days on Market: &lt;/strong&gt;18&lt;br&gt;     &lt;strong&gt;Listing Agent: &lt;/strong&gt;Alvaro Minor&lt;br&gt;     &lt;strong&gt;Buyer&#x27;s Agent: &lt;/strong&gt;Alvaro Minor&lt;br&gt;     &lt;strong&gt;Price sq ft: &lt;/strong&gt;$1445.65&lt;br&gt;     &lt;strong&gt;Address: &lt;/strong&gt;17555 Collins Ave 2107 Sunny Isles&lt;br&gt;     &lt;/html&gt;     &lt;/div&gt;`)[0];\n",
       "                popup_f3acd80e910f2f0ec754480d9e61ea6d.setContent(html_75e640fe56898ee1dbda8e9f76bbbfd6);\n",
       "            \n",
       "        \n",
       "\n",
       "        marker_26620617fd9398831d09133e42047faa.bindPopup(popup_f3acd80e910f2f0ec754480d9e61ea6d)\n",
       "        ;\n",
       "\n",
       "        \n",
       "    \n",
       "    \n",
       "            var marker_a568aeb0e8b66de5c1d1a2a91d12e797 = L.marker(\n",
       "                [25.7672946, -80.1341836],\n",
       "                {&quot;fill&quot;: true, &quot;radius&quot;: 5}\n",
       "            ).addTo(feature_group_7ed3225d15e697e59f30e860e8930d72);\n",
       "        \n",
       "    \n",
       "            var icon_865dc00de374e21703fd559d8fed714f = L.AwesomeMarkers.icon(\n",
       "                {&quot;extraClasses&quot;: &quot;fa-rotate-0&quot;, &quot;icon&quot;: &quot;info-sign&quot;, &quot;iconColor&quot;: &quot;white&quot;, &quot;markerColor&quot;: &quot;blue&quot;, &quot;prefix&quot;: &quot;glyphicon&quot;}\n",
       "            );\n",
       "            marker_a568aeb0e8b66de5c1d1a2a91d12e797.setIcon(icon_865dc00de374e21703fd559d8fed714f);\n",
       "        \n",
       "    \n",
       "        var popup_81f7f7dd50f01400618d01ef6d7bd480 = L.popup({&quot;maxWidth&quot;: 400});\n",
       "\n",
       "        \n",
       "            \n",
       "                var html_ed338c8e93cc20967f42b57b2987bb19 = $(`&lt;div id=&quot;html_ed338c8e93cc20967f42b57b2987bb19&quot; style=&quot;width: 100.0%; height: 100.0%;&quot;&gt;&lt;!DOCTYPE html&gt;     &lt;html&gt;     &lt;strong&gt;Building Name: &lt;/strong&gt;South Pointe Tower&lt;br&gt;     &lt;strong&gt;Sale Price: &lt;/strong&gt;$2,500,000.00&lt;br&gt;     &lt;strong&gt;Days on Market: &lt;/strong&gt;19&lt;br&gt;     &lt;strong&gt;Listing Agent: &lt;/strong&gt;Michael Feuling&lt;br&gt;     &lt;strong&gt;Buyer&#x27;s Agent: &lt;/strong&gt;Michael Feuling&lt;br&gt;     &lt;strong&gt;Price sq ft: &lt;/strong&gt;$1785.71&lt;br&gt;     &lt;strong&gt;Address: &lt;/strong&gt;400 S Pointe Dr 2506 Miami&lt;br&gt;     &lt;/html&gt;     &lt;/div&gt;`)[0];\n",
       "                popup_81f7f7dd50f01400618d01ef6d7bd480.setContent(html_ed338c8e93cc20967f42b57b2987bb19);\n",
       "            \n",
       "        \n",
       "\n",
       "        marker_a568aeb0e8b66de5c1d1a2a91d12e797.bindPopup(popup_81f7f7dd50f01400618d01ef6d7bd480)\n",
       "        ;\n",
       "\n",
       "        \n",
       "    \n",
       "    \n",
       "            var marker_a537fc8fad3a92b72142e7b636e9f0c8 = L.marker(\n",
       "                [25.8288072, -80.12146729999999],\n",
       "                {&quot;fill&quot;: true, &quot;radius&quot;: 5}\n",
       "            ).addTo(feature_group_7ed3225d15e697e59f30e860e8930d72);\n",
       "        \n",
       "    \n",
       "            var icon_e94a52e44b21d61d017ffd06ab652051 = L.AwesomeMarkers.icon(\n",
       "                {&quot;extraClasses&quot;: &quot;fa-rotate-0&quot;, &quot;icon&quot;: &quot;info-sign&quot;, &quot;iconColor&quot;: &quot;white&quot;, &quot;markerColor&quot;: &quot;blue&quot;, &quot;prefix&quot;: &quot;glyphicon&quot;}\n",
       "            );\n",
       "            marker_a537fc8fad3a92b72142e7b636e9f0c8.setIcon(icon_e94a52e44b21d61d017ffd06ab652051);\n",
       "        \n",
       "    \n",
       "        var popup_dbc9cab67f641f1d9e44513da3a013c9 = L.popup({&quot;maxWidth&quot;: 400});\n",
       "\n",
       "        \n",
       "            \n",
       "                var html_a546480cfd051bffa6332083d6051f9e = $(`&lt;div id=&quot;html_a546480cfd051bffa6332083d6051f9e&quot; style=&quot;width: 100.0%; height: 100.0%;&quot;&gt;&lt;!DOCTYPE html&gt;     &lt;html&gt;     &lt;strong&gt;Building Name: &lt;/strong&gt;Sea Coast Condominium&lt;br&gt;     &lt;strong&gt;Sale Price: &lt;/strong&gt;$1,900,000.00&lt;br&gt;     &lt;strong&gt;Days on Market: &lt;/strong&gt;52&lt;br&gt;     &lt;strong&gt;Listing Agent: &lt;/strong&gt;Francisco Mackintosh&lt;br&gt;     &lt;strong&gt;Buyer&#x27;s Agent: &lt;/strong&gt;Karen Guzik&lt;br&gt;     &lt;strong&gt;Price sq ft: &lt;/strong&gt;$922.33&lt;br&gt;     &lt;strong&gt;Address: &lt;/strong&gt;5151 Collins Ave 1527 Miami&lt;br&gt;     &lt;/html&gt;     &lt;/div&gt;`)[0];\n",
       "                popup_dbc9cab67f641f1d9e44513da3a013c9.setContent(html_a546480cfd051bffa6332083d6051f9e);\n",
       "            \n",
       "        \n",
       "\n",
       "        marker_a537fc8fad3a92b72142e7b636e9f0c8.bindPopup(popup_dbc9cab67f641f1d9e44513da3a013c9)\n",
       "        ;\n",
       "\n",
       "        \n",
       "    \n",
       "    \n",
       "            var marker_9a33d9c338465d02c87d37582b015af3 = L.marker(\n",
       "                [25.7275568, -80.23962499999999],\n",
       "                {&quot;fill&quot;: true, &quot;radius&quot;: 5}\n",
       "            ).addTo(feature_group_7ed3225d15e697e59f30e860e8930d72);\n",
       "        \n",
       "    \n",
       "            var icon_4778a2747eaf127d023438e68e9319a8 = L.AwesomeMarkers.icon(\n",
       "                {&quot;extraClasses&quot;: &quot;fa-rotate-0&quot;, &quot;icon&quot;: &quot;info-sign&quot;, &quot;iconColor&quot;: &quot;white&quot;, &quot;markerColor&quot;: &quot;blue&quot;, &quot;prefix&quot;: &quot;glyphicon&quot;}\n",
       "            );\n",
       "            marker_9a33d9c338465d02c87d37582b015af3.setIcon(icon_4778a2747eaf127d023438e68e9319a8);\n",
       "        \n",
       "    \n",
       "        var popup_60294e19e2c0e42735f3330e8c36cfc2 = L.popup({&quot;maxWidth&quot;: 400});\n",
       "\n",
       "        \n",
       "            \n",
       "                var html_712e5ddafb56ac1b15ad3c895d711566 = $(`&lt;div id=&quot;html_712e5ddafb56ac1b15ad3c895d711566&quot; style=&quot;width: 100.0%; height: 100.0%;&quot;&gt;&lt;!DOCTYPE html&gt;     &lt;html&gt;     &lt;strong&gt;Building Name: &lt;/strong&gt;Grovenor House Condo&lt;br&gt;     &lt;strong&gt;Sale Price: &lt;/strong&gt;$1,885,000.00&lt;br&gt;     &lt;strong&gt;Days on Market: &lt;/strong&gt;43&lt;br&gt;     &lt;strong&gt;Listing Agent: &lt;/strong&gt;Roberta Ingletto&lt;br&gt;     &lt;strong&gt;Buyer&#x27;s Agent: &lt;/strong&gt;Elliot Machado PA&lt;br&gt;     &lt;strong&gt;Price sq ft: &lt;/strong&gt;$1073.46&lt;br&gt;     &lt;strong&gt;Address: &lt;/strong&gt;2927 S Bayshore Dr 505&lt;br&gt;     &lt;/html&gt;     &lt;/div&gt;`)[0];\n",
       "                popup_60294e19e2c0e42735f3330e8c36cfc2.setContent(html_712e5ddafb56ac1b15ad3c895d711566);\n",
       "            \n",
       "        \n",
       "\n",
       "        marker_9a33d9c338465d02c87d37582b015af3.bindPopup(popup_60294e19e2c0e42735f3330e8c36cfc2)\n",
       "        ;\n",
       "\n",
       "        \n",
       "    \n",
       "    \n",
       "            var marker_26caf5ff81840ea69dc41a73f1dd0063 = L.marker(\n",
       "                [25.6376869, -80.2897418],\n",
       "                {&quot;fill&quot;: true, &quot;radius&quot;: 5}\n",
       "            ).addTo(feature_group_7ed3225d15e697e59f30e860e8930d72);\n",
       "        \n",
       "    \n",
       "            var icon_7f0288748e4b5b44da377572951ebec2 = L.AwesomeMarkers.icon(\n",
       "                {&quot;extraClasses&quot;: &quot;fa-rotate-0&quot;, &quot;icon&quot;: &quot;info-sign&quot;, &quot;iconColor&quot;: &quot;white&quot;, &quot;markerColor&quot;: &quot;blue&quot;, &quot;prefix&quot;: &quot;glyphicon&quot;}\n",
       "            );\n",
       "            marker_26caf5ff81840ea69dc41a73f1dd0063.setIcon(icon_7f0288748e4b5b44da377572951ebec2);\n",
       "        \n",
       "    \n",
       "        var popup_47939d396541b3af3ff31ab72e55c655 = L.popup({&quot;maxWidth&quot;: 400});\n",
       "\n",
       "        \n",
       "            \n",
       "                var html_842800076371a5cbee1aff1939504ec7 = $(`&lt;div id=&quot;html_842800076371a5cbee1aff1939504ec7&quot; style=&quot;width: 100.0%; height: 100.0%;&quot;&gt;&lt;!DOCTYPE html&gt;     &lt;html&gt;     &lt;strong&gt;Building Name: &lt;/strong&gt;Milano at Deering Bay&lt;br&gt;     &lt;strong&gt;Sale Price: &lt;/strong&gt;$1,800,000.00&lt;br&gt;     &lt;strong&gt;Days on Market: &lt;/strong&gt;167&lt;br&gt;     &lt;strong&gt;Listing Agent: &lt;/strong&gt;Vanessa Valle&lt;br&gt;     &lt;strong&gt;Buyer&#x27;s Agent: &lt;/strong&gt;Ana Viyella&lt;br&gt;     &lt;strong&gt;Price sq ft: &lt;/strong&gt;$605.65&lt;br&gt;     &lt;strong&gt;Address: &lt;/strong&gt;13621 Deering Bay Dr 503 Coral&lt;br&gt;     &lt;/html&gt;     &lt;/div&gt;`)[0];\n",
       "                popup_47939d396541b3af3ff31ab72e55c655.setContent(html_842800076371a5cbee1aff1939504ec7);\n",
       "            \n",
       "        \n",
       "\n",
       "        marker_26caf5ff81840ea69dc41a73f1dd0063.bindPopup(popup_47939d396541b3af3ff31ab72e55c655)\n",
       "        ;\n",
       "\n",
       "        \n",
       "    \n",
       "    \n",
       "            var marker_0eb1f0e143966ce3e1ff1ca184f92efa = L.marker(\n",
       "                [25.9232597, -80.1218135],\n",
       "                {&quot;fill&quot;: true, &quot;radius&quot;: 5}\n",
       "            ).addTo(feature_group_7ed3225d15e697e59f30e860e8930d72);\n",
       "        \n",
       "    \n",
       "            var icon_0ff8f9ce4e5776c0dbcaf0256c38bcc9 = L.AwesomeMarkers.icon(\n",
       "                {&quot;extraClasses&quot;: &quot;fa-rotate-0&quot;, &quot;icon&quot;: &quot;info-sign&quot;, &quot;iconColor&quot;: &quot;white&quot;, &quot;markerColor&quot;: &quot;blue&quot;, &quot;prefix&quot;: &quot;glyphicon&quot;}\n",
       "            );\n",
       "            marker_0eb1f0e143966ce3e1ff1ca184f92efa.setIcon(icon_0ff8f9ce4e5776c0dbcaf0256c38bcc9);\n",
       "        \n",
       "    \n",
       "        var popup_819bc40f21040a3eb30f6bc993f87dd9 = L.popup({&quot;maxWidth&quot;: 400});\n",
       "\n",
       "        \n",
       "            \n",
       "                var html_19d2b6dd4b1450bb280cc6882def36f5 = $(`&lt;div id=&quot;html_19d2b6dd4b1450bb280cc6882def36f5&quot; style=&quot;width: 100.0%; height: 100.0%;&quot;&gt;&lt;!DOCTYPE html&gt;     &lt;html&gt;     &lt;strong&gt;Building Name: &lt;/strong&gt;TDR Tower III&lt;br&gt;     &lt;strong&gt;Sale Price: &lt;/strong&gt;$1,750,000.00&lt;br&gt;     &lt;strong&gt;Days on Market: &lt;/strong&gt;51&lt;br&gt;     &lt;strong&gt;Listing Agent: &lt;/strong&gt;Claudia Benjua&lt;br&gt;     &lt;strong&gt;Buyer&#x27;s Agent: &lt;/strong&gt;Claudia Benjua&lt;br&gt;     &lt;strong&gt;Price sq ft: &lt;/strong&gt;$886.52&lt;br&gt;     &lt;strong&gt;Address: &lt;/strong&gt;15811 Collins Ave 3202 Sunny Isles&lt;br&gt;     &lt;/html&gt;     &lt;/div&gt;`)[0];\n",
       "                popup_819bc40f21040a3eb30f6bc993f87dd9.setContent(html_19d2b6dd4b1450bb280cc6882def36f5);\n",
       "            \n",
       "        \n",
       "\n",
       "        marker_0eb1f0e143966ce3e1ff1ca184f92efa.bindPopup(popup_819bc40f21040a3eb30f6bc993f87dd9)\n",
       "        ;\n",
       "\n",
       "        \n",
       "    \n",
       "    \n",
       "            var marker_46e37cb1f878bd0af7e9ba3266a42c9e = L.marker(\n",
       "                [25.8048826, -80.1858247],\n",
       "                {&quot;fill&quot;: true, &quot;radius&quot;: 5}\n",
       "            ).addTo(feature_group_7ed3225d15e697e59f30e860e8930d72);\n",
       "        \n",
       "    \n",
       "            var icon_c94672bc0037d09c2310116134d1c25f = L.AwesomeMarkers.icon(\n",
       "                {&quot;extraClasses&quot;: &quot;fa-rotate-0&quot;, &quot;icon&quot;: &quot;info-sign&quot;, &quot;iconColor&quot;: &quot;white&quot;, &quot;markerColor&quot;: &quot;blue&quot;, &quot;prefix&quot;: &quot;glyphicon&quot;}\n",
       "            );\n",
       "            marker_46e37cb1f878bd0af7e9ba3266a42c9e.setIcon(icon_c94672bc0037d09c2310116134d1c25f);\n",
       "        \n",
       "    \n",
       "        var popup_e44028ff066e1c31f58d591d154683ba = L.popup({&quot;maxWidth&quot;: 400});\n",
       "\n",
       "        \n",
       "            \n",
       "                var html_d1ef2b85c30e5fd93b28f77924019d9d = $(`&lt;div id=&quot;html_d1ef2b85c30e5fd93b28f77924019d9d&quot; style=&quot;width: 100.0%; height: 100.0%;&quot;&gt;&lt;!DOCTYPE html&gt;     &lt;html&gt;     &lt;strong&gt;Building Name: &lt;/strong&gt;Biscayne Beach&lt;br&gt;     &lt;strong&gt;Sale Price: &lt;/strong&gt;$1,620,000.00&lt;br&gt;     &lt;strong&gt;Days on Market: &lt;/strong&gt;28&lt;br&gt;     &lt;strong&gt;Listing Agent: &lt;/strong&gt;Smadar Sasson&lt;br&gt;     &lt;strong&gt;Buyer&#x27;s Agent: &lt;/strong&gt;Nicole Kasten PA&lt;br&gt;     &lt;strong&gt;Price sq ft: &lt;/strong&gt;$954.06&lt;br&gt;     &lt;strong&gt;Address: &lt;/strong&gt;2900 NE 7th Ave 4102&lt;br&gt;     &lt;/html&gt;     &lt;/div&gt;`)[0];\n",
       "                popup_e44028ff066e1c31f58d591d154683ba.setContent(html_d1ef2b85c30e5fd93b28f77924019d9d);\n",
       "            \n",
       "        \n",
       "\n",
       "        marker_46e37cb1f878bd0af7e9ba3266a42c9e.bindPopup(popup_e44028ff066e1c31f58d591d154683ba)\n",
       "        ;\n",
       "\n",
       "        \n",
       "    \n",
       "    \n",
       "            var tile_layer_c2437ef2d4d417c234d463b1694d81eb = L.tileLayer(\n",
       "                &quot;https://{s}.tile.openstreetmap.org/{z}/{x}/{y}.png&quot;,\n",
       "                {&quot;attribution&quot;: &quot;Data by \\u0026copy; \\u003ca href=\\&quot;http://openstreetmap.org\\&quot;\\u003eOpenStreetMap\\u003c/a\\u003e, under \\u003ca href=\\&quot;http://www.openstreetmap.org/copyright\\&quot;\\u003eODbL\\u003c/a\\u003e.&quot;, &quot;detectRetina&quot;: false, &quot;maxNativeZoom&quot;: 18, &quot;maxZoom&quot;: 18, &quot;minZoom&quot;: 0, &quot;noWrap&quot;: false, &quot;opacity&quot;: 1, &quot;subdomains&quot;: &quot;abc&quot;, &quot;tms&quot;: false}\n",
       "            ).addTo(map_1d287e0b7a92df5a7d8fa79a2a60ce8a);\n",
       "        \n",
       "    \n",
       "            var layer_control_0947b730b893a3adcaa84ce25e5cb024 = {\n",
       "                base_layers : {\n",
       "                },\n",
       "                overlays :  {\n",
       "                    &quot;Top Sale&quot; : feature_group_e2c55099f70ba5ac4f9c3cd85e6222b4,\n",
       "                    &quot;All other sales&quot; : feature_group_7ed3225d15e697e59f30e860e8930d72,\n",
       "                },\n",
       "            };\n",
       "            L.control.layers(\n",
       "                layer_control_0947b730b893a3adcaa84ce25e5cb024.base_layers,\n",
       "                layer_control_0947b730b893a3adcaa84ce25e5cb024.overlays,\n",
       "                {&quot;autoZIndex&quot;: true, &quot;collapsed&quot;: false, &quot;position&quot;: &quot;topright&quot;}\n",
       "            ).addTo(map_1d287e0b7a92df5a7d8fa79a2a60ce8a);\n",
       "        \n",
       "&lt;/script&gt;\" style=\"position:absolute;width:100%;height:100%;left:0;top:0;border:none !important;\" allowfullscreen webkitallowfullscreen mozallowfullscreen></iframe></div></div>"
      ],
      "text/plain": [
       "<folium.folium.Map at 0x7f90b9ba0be0>"
      ]
     },
     "execution_count": 17,
     "metadata": {},
     "output_type": "execute_result"
    }
   ],
   "source": [
    "import folium\n",
    "from folium.plugins import MarkerCluster\n",
    "\n",
    "m = folium.Map(location=df[[\"lat\", \"lon\"]].mean().to_list(), zoom_start=10)\n",
    "\n",
    "title_html = '''\n",
    "              <h3 align=\"center\" style=\"font-size:16px\"><b>{}</b></h3>\n",
    "             '''.format(f'Recent Miami-Dade Condo Sales ')\n",
    "\n",
    "caption_html = '''\n",
    "                <p align=\"center\" style=\"vertical-align: bottom; font-size:13px\"><i>{}</i></p>\n",
    "                '''.format('October 8th - October 14th')\n",
    "\n",
    "\n",
    "### Create map container ###\n",
    "m = folium.Map(location=df[[\"lat\", \"lon\"]].mean().to_list(),zoom_start=9.5,tiles=None)\n",
    "\n",
    "# Create two FeatureGroups for different color pins\n",
    "fg_blue = folium.FeatureGroup(name='All other sales')\n",
    "fg_orange = folium.FeatureGroup(name='Top Sale')\n",
    "\n",
    "for index, row in df.iterrows():\n",
    "    # Add the markers to the appropriate FeatureGroup based on the color\n",
    "    if row['COLOR'] == 'blue':\n",
    "        marker = folium.Marker(\n",
    "            location=[row['lat'], row['lon']],\n",
    "            radius=5,\n",
    "            fill=True,\n",
    "            icon=folium.Icon(color=row['COLOR']),\n",
    "            popup=folium.Popup(popup_html(row), max_width=400))\n",
    "        marker.add_to(fg_blue)\n",
    "    else:\n",
    "        marker = folium.Marker(\n",
    "            location=[row['lat'], row['lon']],\n",
    "            radius=5,\n",
    "            fill=True,\n",
    "            icon=folium.Icon(color=row['COLOR']),\n",
    "            popup=folium.Popup(popup_html(row), max_width=400))\n",
    "        marker.add_to(fg_orange)\n",
    "\n",
    "# Add the FeatureGroups to the map\n",
    "fg_orange.add_to(m)\n",
    "fg_blue.add_to(m)\n",
    "\n",
    "folium.TileLayer('OpenStreetMap',control=False).add_to(m)\n",
    "\n",
    "# Add LayerControl to the map\n",
    "folium.map.LayerControl(collapsed=False).add_to(m)\n",
    "m.get_root().html.add_child(folium.Element(title_html))\n",
    "m.get_root().html.add_child(folium.Element(caption_html))\n",
    "            \n",
    "# Display map\n",
    "m"
   ]
  },
  {
   "cell_type": "code",
   "execution_count": 18,
   "metadata": {},
   "outputs": [],
   "source": [
    "m.save('index.html')"
   ]
  },
  {
   "cell_type": "markdown",
   "metadata": {},
   "source": [
    "## Data snagger"
   ]
  },
  {
   "cell_type": "code",
   "execution_count": 19,
   "metadata": {},
   "outputs": [],
   "source": [
    "### Set up formatting ###\n",
    "BR = '\\n'\n",
    "\n",
    "ME = '\\033[1m' + 'Most Expensive' + '\\033[0m'\n",
    "LE = '\\033[1m' + 'Least Expensive' + '\\033[0m'\n",
    "\n",
    "MAX_PSF = '\\033[1m' + 'Highest Price Per Square Foot' + '\\033[0m'\n",
    "MIN_PSF = '\\033[1m' + 'Lowest Price Per Square Foot' + '\\033[0m'\n",
    "\n",
    "DAYS_MAX = '\\033[1m' + 'Most Days on Market' + '\\033[0m'\n",
    "DAYS_MIN = '\\033[1m' + 'Fewest Days on Market' + '\\033[0m'"
   ]
  },
  {
   "cell_type": "code",
   "execution_count": 20,
   "metadata": {},
   "outputs": [
    {
     "name": "stdout",
     "output_type": "stream",
     "text": [
      "\u001b[1mMost Expensive\u001b[0m\n",
      "Turnberry Ocean Colony, 16051 Collins Ave 504 Sunny Isles | Price $3,300,000 | $884 psf | Listing agent: Marcia Page with One Sotheby's International Re | Buyer's agent: Joseph Khalil with Avanti Way Realty | Days on market: 182\n",
      "\u001b[1mLeast Expensive\u001b[0m\n",
      "Biscayne Beach, 2900 NE 7th Ave 4102 | Price $1,620,000 | $954 psf | Listing agent: Smadar Sasson with Inn Real Estate Inc. | Buyer's agent: Nicole Kasten PA with Sterling Equity Realty LLC | Days on market: 28\n",
      "\u001b[1mHighest Price Per Square Foot\u001b[0m\n",
      "St Regis Bal Harbour, 9703 Collins Ave 2612 Bal | Price $3,000,000 | $1,947 psf | Listing agent: Pietro Belmonte with Douglas Elliman | Buyer's agent: Djulieta Godoroja with Asset Realty Partners | Days on market: 170\n",
      "\u001b[1mLowest Price Per Square Foot\u001b[0m\n",
      "Milano at Deering Bay, 13621 Deering Bay Dr 503 Coral | Price $1,800,000 | $606 psf | Listing agent: Vanessa Valle with Compass Florida, LLC. | Buyer's agent: Ana Viyella with Douglas Elliman | Days on market: 167\n",
      "\u001b[1mMost Days on Market\u001b[0m\n",
      "Turnberry Ocean Colony, 16051 Collins Ave 504 Sunny Isles | Price $3,300,000 | $884 psf | Listing agent: Marcia Page with One Sotheby's International Re | Buyer's agent: Joseph Khalil with Avanti Way Realty | Days on market: 182\n",
      "\u001b[1mFewest Days on Market\u001b[0m\n",
      "Pinnacle, 17555 Collins Ave 2107 Sunny Isles | Price $2,660,000 | $1,446 psf | Listing agent: Alvaro Minor with Optimar International Realty | Buyer's agent: Alvaro Minor with Optimar International Realty | Days on market: 18\n"
     ]
    }
   ],
   "source": [
    "### Highest and lowest sale price ###\n",
    "print(f\"{ME}{BR}{df.loc[df['int_Sale_Price'].idxmax()]['building_name']}, {df.loc[df['int_Sale_Price'].idxmax()]['address']} | Price ${df.loc[df['int_Sale_Price'].idxmax()]['int_Sale_Price']:,.0f} | ${df.loc[df['int_Sale_Price'].idxmax()]['price_per_sqft']:,.0f} psf | Listing agent: {df.loc[df['int_Sale_Price'].idxmax()]['Agent']} with {df.loc[df['int_Sale_Price'].idxmax()]['Listing Broker']} | Buyer's agent: {df.loc[df['int_Sale_Price'].idxmax()]['Buyer Agent']} with {df.loc[df['int_Sale_Price'].idxmax()]['Buyer Broker']} | Days on market: {df.loc[df['int_Sale_Price'].idxmax()]['days_on_market']}\")\n",
    "print(f\"{LE}{BR}{df.loc[df['int_Sale_Price'].idxmin()]['building_name']}, {df.loc[df['int_Sale_Price'].idxmin()]['address']} | Price ${df.loc[df['int_Sale_Price'].idxmin()]['int_Sale_Price']:,.0f} | ${df.loc[df['int_Sale_Price'].idxmin()]['price_per_sqft']:,.0f} psf | Listing agent: {df.loc[df['int_Sale_Price'].idxmin()]['Agent']} with {df.loc[df['int_Sale_Price'].idxmin()]['Listing Broker']} | Buyer's agent: {df.loc[df['int_Sale_Price'].idxmin()]['Buyer Agent']} with {df.loc[df['int_Sale_Price'].idxmin()]['Buyer Broker']} | Days on market: {df.loc[df['int_Sale_Price'].idxmin()]['days_on_market']}\")\n",
    "### Highest and lowest psf ###\n",
    "print(f\"{MAX_PSF}{BR}{df.loc[df['price_per_sqft'].idxmax()]['building_name']}, {df.loc[df['price_per_sqft'].idxmax()]['address']} | Price ${df.loc[df['price_per_sqft'].idxmax()]['int_Sale_Price']:,.0f} | ${df.loc[df['price_per_sqft'].idxmax()]['price_per_sqft']:,.0f} psf | Listing agent: {df.loc[df['price_per_sqft'].idxmax()]['Agent']} with {df.loc[df['price_per_sqft'].idxmax()]['Listing Broker']} | Buyer's agent: {df.loc[df['price_per_sqft'].idxmax()]['Buyer Agent']} with {df.loc[df['price_per_sqft'].idxmax()]['Buyer Broker']} | Days on market: {df.loc[df['price_per_sqft'].idxmax()]['days_on_market']}\")\n",
    "print(f\"{MIN_PSF}{BR}{df.loc[df['price_per_sqft'].idxmin()]['building_name']}, {df.loc[df['price_per_sqft'].idxmin()]['address']} | Price ${df.loc[df['price_per_sqft'].idxmin()]['int_Sale_Price']:,.0f} | ${df.loc[df['price_per_sqft'].idxmin()]['price_per_sqft']:,.0f} psf | Listing agent: {df.loc[df['price_per_sqft'].idxmin()]['Agent']} with {df.loc[df['price_per_sqft'].idxmin()]['Listing Broker']} | Buyer's agent: {df.loc[df['price_per_sqft'].idxmin()]['Buyer Agent']} with {df.loc[df['price_per_sqft'].idxmin()]['Buyer Broker']} | Days on market: {df.loc[df['price_per_sqft'].idxmin()]['days_on_market']}\")\n",
    "### Highest and lowest days on market ###\n",
    "print(f\"{DAYS_MAX}{BR}{df.loc[df['days_on_market'].idxmax()]['building_name']}, {df.loc[df['days_on_market'].idxmax()]['address']} | Price ${df.loc[df['days_on_market'].idxmax()]['int_Sale_Price']:,.0f} | ${df.loc[df['days_on_market'].idxmax()]['price_per_sqft']:,.0f} psf | Listing agent: {df.loc[df['days_on_market'].idxmax()]['Agent']} with {df.loc[df['days_on_market'].idxmax()]['Listing Broker']} | Buyer's agent: {df.loc[df['days_on_market'].idxmax()]['Buyer Agent']} with {df.loc[df['days_on_market'].idxmax()]['Buyer Broker']} | Days on market: {df.loc[df['days_on_market'].idxmax()]['days_on_market']}\")\n",
    "print(f\"{DAYS_MIN}{BR}{df.loc[df['days_on_market'].idxmin()]['building_name']}, {df.loc[df['days_on_market'].idxmin()]['address']} | Price ${df.loc[df['days_on_market'].idxmin()]['int_Sale_Price']:,.0f} | ${df.loc[df['days_on_market'].idxmin()]['price_per_sqft']:,.0f} psf | Listing agent: {df.loc[df['days_on_market'].idxmin()]['Agent']} with {df.loc[df['days_on_market'].idxmin()]['Listing Broker']} | Buyer's agent: {df.loc[df['days_on_market'].idxmin()]['Buyer Agent']} with {df.loc[df['days_on_market'].idxmin()]['Buyer Broker']} | Days on market: {df.loc[df['days_on_market'].idxmin()]['days_on_market']}\")"
   ]
  },
  {
   "cell_type": "code",
   "execution_count": 21,
   "metadata": {},
   "outputs": [
    {
     "data": {
      "text/plain": [
       "79.2"
      ]
     },
     "execution_count": 21,
     "metadata": {},
     "output_type": "execute_result"
    }
   ],
   "source": [
    "df['days_on_market'].mean()"
   ]
  },
  {
   "cell_type": "markdown",
   "metadata": {},
   "source": [
    "## Map URL snagger"
   ]
  },
  {
   "cell_type": "markdown",
   "metadata": {},
   "source": [
    "Map template URL: `https://trd-digital.github.io/trd-news-interactive-maps/{map-folder-name}`"
   ]
  },
  {
   "cell_type": "code",
   "execution_count": 22,
   "metadata": {},
   "outputs": [],
   "source": [
    "base_name = 'https://trd-digital.github.io/trd-news-interactive-maps/'"
   ]
  },
  {
   "cell_type": "code",
   "execution_count": 23,
   "metadata": {},
   "outputs": [
    {
     "name": "stdout",
     "output_type": "stream",
     "text": [
      "https://trd-digital.github.io/trd-news-interactive-maps/condo_sales_week_ending_10212023\n"
     ]
    }
   ],
   "source": [
    "cwd = os.getcwd()\n",
    "\n",
    "cwd = cwd.split('/')\n",
    "\n",
    "final_name = base_name + cwd[-1]\n",
    "print(final_name)"
   ]
  }
 ],
 "metadata": {
  "kernelspec": {
   "display_name": "Python 3 (ipykernel)",
   "language": "python",
   "name": "python3"
  },
  "language_info": {
   "codemirror_mode": {
    "name": "ipython",
    "version": 3
   },
   "file_extension": ".py",
   "mimetype": "text/x-python",
   "name": "python",
   "nbconvert_exporter": "python",
   "pygments_lexer": "ipython3",
   "version": "3.9.12"
  },
  "toc": {
   "base_numbering": 1,
   "nav_menu": {},
   "number_sections": true,
   "sideBar": true,
   "skip_h1_title": false,
   "title_cell": "Table of Contents",
   "title_sidebar": "Contents",
   "toc_cell": false,
   "toc_position": {},
   "toc_section_display": true,
   "toc_window_display": false
  }
 },
 "nbformat": 4,
 "nbformat_minor": 4
}
