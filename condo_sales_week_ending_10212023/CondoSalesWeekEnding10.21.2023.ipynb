{
 "cells": [
  {
   "cell_type": "markdown",
   "metadata": {},
   "source": [
    "## Imports"
   ]
  },
  {
   "cell_type": "code",
   "execution_count": 1,
   "metadata": {},
   "outputs": [],
   "source": [
    "import googlemaps\n",
    "import pandas as pd\n",
    "import numpy as np\n",
    "import re\n",
    "import os\n",
    "import geopandas as gpd\n",
    "import folium\n",
    "import tabula"
   ]
  },
  {
   "cell_type": "markdown",
   "metadata": {},
   "source": [
    "## Read-in"
   ]
  },
  {
   "cell_type": "code",
   "execution_count": 2,
   "metadata": {},
   "outputs": [],
   "source": [
    "# Gotta figure out how to get rid of the java error.\n",
    "# SO: https://stackoverflow.com/questions/54817211/java-command-is-not-found-from-this-python-process-please-ensure-java-is-inst\n",
    "\n",
    "dsf = tabula.read_pdf('condo.pdf', pages='all')"
   ]
  },
  {
   "cell_type": "markdown",
   "metadata": {},
   "source": [
    "## Clean Data"
   ]
  },
  {
   "cell_type": "code",
   "execution_count": 3,
   "metadata": {},
   "outputs": [],
   "source": [
    "df = dsf[0]\n",
    "df.columns = df.iloc[0]\n",
    "df = df[1:]\n",
    "df = df.drop(columns=df.columns[0])\n",
    "df = df.replace(np.nan, 'Not Available', regex=True)\n",
    "df = df.rename(columns={'Building / Address / City': 'building_address_city','Days on\\rMarket':'days_on_market',\\\n",
    "                        'Price /\\rSq. Ft.':'price_per_sqft'})\n",
    "df['building_address_city'] = df['building_address_city'].str.replace('^0', '', regex=True)\n",
    "df['geo_address'] = df['building_address_city']\n",
    "df['geo_address'] = df['geo_address'].map(lambda x: re.sub(r'\\r', ' ', x))\n",
    "df = df.replace('\\n',' ',regex=True)\n",
    "pattern = r'^(?P<building_name>[\\d\\s]*[A-Za-z\\s]+)\\s(?P<address>.+)\\s(?P<city>[A-Za-z\\s]+)$'\n",
    "df2 = df['geo_address']\n",
    "df2 = df2.to_frame()\n",
    "df2[['building_name', 'address', 'city']] = df2['geo_address'].str.extract(pattern, expand=True)"
   ]
  },
  {
   "cell_type": "markdown",
   "metadata": {},
   "source": [
    "Review this later (it's about how to properly merge DFs): https://pandas.pydata.org/pandas-docs/stable/user_guide/merging.html"
   ]
  },
  {
   "cell_type": "markdown",
   "metadata": {},
   "source": [
    "## Geocode"
   ]
  },
  {
   "cell_type": "code",
   "execution_count": 4,
   "metadata": {},
   "outputs": [],
   "source": [
    "result = pd.merge(df,df2,left_index=True, right_index=True)\n",
    "df = result\n",
    "df = df.drop(columns='city')"
   ]
  },
  {
   "cell_type": "code",
   "execution_count": 5,
   "metadata": {},
   "outputs": [],
   "source": [
    "%store -r google_maps_API_Key\n",
    "gmaps_key = googlemaps.Client(key=google_maps_API_Key)"
   ]
  },
  {
   "cell_type": "code",
   "execution_count": 6,
   "metadata": {},
   "outputs": [],
   "source": [
    "def geocode(add):\n",
    "    g = gmaps_key.geocode(add)\n",
    "    lat = g[0][\"geometry\"][\"location\"][\"lat\"]\n",
    "    lng = g[0][\"geometry\"][\"location\"][\"lng\"]\n",
    "    return (lat, lng)\n",
    "\n",
    "df['geocoded'] = df['geo_address_x'].apply(geocode)"
   ]
  },
  {
   "cell_type": "code",
   "execution_count": 7,
   "metadata": {},
   "outputs": [],
   "source": [
    "df['geocoded'] = df['geocoded'].astype(str)\n",
    "df[['lat', 'lon']] = df['geocoded'].str.strip('()').str.split(', ', expand=True)\n",
    "df['lat'] = df['lat'].astype(float)\n",
    "df['lon'] = df['lon'].astype(float)"
   ]
  },
  {
   "cell_type": "markdown",
   "metadata": {},
   "source": [
    "Folium documentation link: https://python-visualization.github.io/folium/index.html\n",
    "\n",
    "Folium is the library that lets us use leaflet with Python, since it's meant to be used with JavaScript.\n",
    "\n",
    "For adding titles: https://stackoverflow.com/questions/61928013/adding-a-title-or-text-to-a-folium-map"
   ]
  },
  {
   "cell_type": "markdown",
   "metadata": {},
   "source": [
    "## Correction section"
   ]
  },
  {
   "cell_type": "code",
   "execution_count": 8,
   "metadata": {},
   "outputs": [],
   "source": [
    "# df.at[index#,'col_name']"
   ]
  },
  {
   "cell_type": "markdown",
   "metadata": {},
   "source": [
    "## Format Data"
   ]
  },
  {
   "cell_type": "code",
   "execution_count": 9,
   "metadata": {},
   "outputs": [],
   "source": [
    "### Insert NaNs if needed ###\n",
    "df = df.replace('N/A', np.nan)"
   ]
  },
  {
   "cell_type": "code",
   "execution_count": 10,
   "metadata": {},
   "outputs": [],
   "source": [
    "df['int_Sale_Price'] = df['Sale Price'].str.replace('$','',regex=False)"
   ]
  },
  {
   "cell_type": "code",
   "execution_count": 11,
   "metadata": {},
   "outputs": [],
   "source": [
    "df['int_Sale_Price'] = df['int_Sale_Price'].str.replace(',','',regex=False)"
   ]
  },
  {
   "cell_type": "code",
   "execution_count": 12,
   "metadata": {},
   "outputs": [],
   "source": [
    "df['int_Sale_Price'] = pd.to_numeric(df['int_Sale_Price'])"
   ]
  },
  {
   "cell_type": "code",
   "execution_count": 13,
   "metadata": {},
   "outputs": [],
   "source": [
    "df['price_per_sqft'] = df['price_per_sqft'].str.replace('$','',regex=False)\n",
    "df['price_per_sqft'] = df['price_per_sqft'].str.replace(',','',regex=False)\n",
    "df['price_per_sqft'] = pd.to_numeric(df['price_per_sqft'])\n",
    "\n",
    "df['days_on_market'] = pd.to_numeric(df['days_on_market'])"
   ]
  },
  {
   "cell_type": "markdown",
   "metadata": {},
   "source": [
    "## Color-code top sale"
   ]
  },
  {
   "cell_type": "code",
   "execution_count": 14,
   "metadata": {},
   "outputs": [],
   "source": [
    "### Insert RANK values ###\n",
    "df['RANK'] = range(1, len(df) + 1)\n",
    "# use numpy to assign values to the 'COLOR' column\n",
    "df['COLOR'] = np.where(df['RANK'] <= 1, 'orange', 'blue')"
   ]
  },
  {
   "cell_type": "markdown",
   "metadata": {},
   "source": [
    "## HTML Popup Formatter"
   ]
  },
  {
   "cell_type": "code",
   "execution_count": 15,
   "metadata": {},
   "outputs": [
    {
     "data": {
      "text/plain": [
       "Index(['building_address_city', 'Close Date', 'days_on_market', 'Sale Price',\n",
       "       'Sq. Ft.', 'price_per_sqft', 'Agent', 'Listing Broker', 'Buyer Agent',\n",
       "       'Buyer Broker', 'geo_address_x', 'geo_address_y', 'building_name',\n",
       "       'address', 'geocoded', 'lat', 'lon', 'int_Sale_Price', 'RANK', 'COLOR'],\n",
       "      dtype='object')"
      ]
     },
     "execution_count": 15,
     "metadata": {},
     "output_type": "execute_result"
    }
   ],
   "source": [
    "df.columns"
   ]
  },
  {
   "cell_type": "code",
   "execution_count": 16,
   "metadata": {},
   "outputs": [],
   "source": [
    "def popup_html(row):\n",
    "    building_name = row['building_name']\n",
    "    price = row['Sale Price']\n",
    "    days_on_market = row['days_on_market']\n",
    "    listing_agent = row['Agent']\n",
    "    buyers_agent = row['Buyer Agent']\n",
    "    psf = row['price_per_sqft']\n",
    "    address = row['address']\n",
    "    \n",
    "    html = '''<!DOCTYPE html>\n",
    "    <html>\n",
    "    <strong>Building Name: </strong>{}'''.format(building_name) + '''<br>\n",
    "    <strong>Sale Price: </strong>{}'''.format(price) + '''<br>\n",
    "    <strong>Days on Market: </strong>{}'''.format(days_on_market) + '''<br>\n",
    "    <strong>Listing Agent: </strong>{}'''.format(listing_agent) + '''<br>\n",
    "    <strong>Buyer's Agent: </strong>{}'''.format(buyers_agent) + '''<br>\n",
    "    <strong>Price sq ft: </strong>${}'''.format(psf) + '''<br>\n",
    "    <strong>Address: </strong>{}'''.format(address) + '''<br>\n",
    "    </html>\n",
    "    '''\n",
    "    return html"
   ]
  },
  {
   "cell_type": "code",
   "execution_count": 24,
   "metadata": {},
   "outputs": [
    {
     "data": {
      "text/html": [
       "<div style=\"width:100%;\"><div style=\"position:relative;width:100%;height:0;padding-bottom:60%;\"><span style=\"color:#565656\">Make this Notebook Trusted to load map: File -> Trust Notebook</span><iframe srcdoc=\"&lt;!DOCTYPE html&gt;\n",
       "&lt;head&gt;    \n",
       "    &lt;meta http-equiv=&quot;content-type&quot; content=&quot;text/html; charset=UTF-8&quot; /&gt;\n",
       "    \n",
       "        &lt;script&gt;\n",
       "            L_NO_TOUCH = false;\n",
       "            L_DISABLE_3D = false;\n",
       "        &lt;/script&gt;\n",
       "    \n",
       "    &lt;style&gt;html, body {width: 100%;height: 100%;margin: 0;padding: 0;}&lt;/style&gt;\n",
       "    &lt;style&gt;#map {position:absolute;top:0;bottom:0;right:0;left:0;}&lt;/style&gt;\n",
       "    &lt;script src=&quot;https://cdn.jsdelivr.net/npm/leaflet@1.6.0/dist/leaflet.js&quot;&gt;&lt;/script&gt;\n",
       "    &lt;script src=&quot;https://code.jquery.com/jquery-1.12.4.min.js&quot;&gt;&lt;/script&gt;\n",
       "    &lt;script src=&quot;https://maxcdn.bootstrapcdn.com/bootstrap/3.2.0/js/bootstrap.min.js&quot;&gt;&lt;/script&gt;\n",
       "    &lt;script src=&quot;https://cdnjs.cloudflare.com/ajax/libs/Leaflet.awesome-markers/2.0.2/leaflet.awesome-markers.js&quot;&gt;&lt;/script&gt;\n",
       "    &lt;link rel=&quot;stylesheet&quot; href=&quot;https://cdn.jsdelivr.net/npm/leaflet@1.6.0/dist/leaflet.css&quot;/&gt;\n",
       "    &lt;link rel=&quot;stylesheet&quot; href=&quot;https://maxcdn.bootstrapcdn.com/bootstrap/3.2.0/css/bootstrap.min.css&quot;/&gt;\n",
       "    &lt;link rel=&quot;stylesheet&quot; href=&quot;https://maxcdn.bootstrapcdn.com/bootstrap/3.2.0/css/bootstrap-theme.min.css&quot;/&gt;\n",
       "    &lt;link rel=&quot;stylesheet&quot; href=&quot;https://maxcdn.bootstrapcdn.com/font-awesome/4.6.3/css/font-awesome.min.css&quot;/&gt;\n",
       "    &lt;link rel=&quot;stylesheet&quot; href=&quot;https://cdnjs.cloudflare.com/ajax/libs/Leaflet.awesome-markers/2.0.2/leaflet.awesome-markers.css&quot;/&gt;\n",
       "    &lt;link rel=&quot;stylesheet&quot; href=&quot;https://cdn.jsdelivr.net/gh/python-visualization/folium/folium/templates/leaflet.awesome.rotate.min.css&quot;/&gt;\n",
       "    \n",
       "            &lt;meta name=&quot;viewport&quot; content=&quot;width=device-width,\n",
       "                initial-scale=1.0, maximum-scale=1.0, user-scalable=no&quot; /&gt;\n",
       "            &lt;style&gt;\n",
       "                #map_e9cd80af6fb0cf1fb78fefbf82c8652e {\n",
       "                    position: relative;\n",
       "                    width: 100.0%;\n",
       "                    height: 100.0%;\n",
       "                    left: 0.0%;\n",
       "                    top: 0.0%;\n",
       "                }\n",
       "            &lt;/style&gt;\n",
       "        \n",
       "&lt;/head&gt;\n",
       "&lt;body&gt;    \n",
       "    \n",
       "              &lt;h3 align=&quot;center&quot; style=&quot;font-size:16px&quot;&gt;&lt;b&gt;Recent Miami-Dade Condo Sales &lt;/b&gt;&lt;/h3&gt;\n",
       "             \n",
       "    \n",
       "                &lt;p align=&quot;center&quot; style=&quot;vertical-align: bottom; font-size:13px&quot;&gt;&lt;i&gt;October 15th - October 21st&lt;/i&gt;&lt;/p&gt;\n",
       "                \n",
       "    \n",
       "            &lt;div class=&quot;folium-map&quot; id=&quot;map_e9cd80af6fb0cf1fb78fefbf82c8652e&quot; &gt;&lt;/div&gt;\n",
       "        \n",
       "&lt;/body&gt;\n",
       "&lt;script&gt;    \n",
       "    \n",
       "            var map_e9cd80af6fb0cf1fb78fefbf82c8652e = L.map(\n",
       "                &quot;map_e9cd80af6fb0cf1fb78fefbf82c8652e&quot;,\n",
       "                {\n",
       "                    center: [25.838503529999997, -80.15781318999998],\n",
       "                    crs: L.CRS.EPSG3857,\n",
       "                    zoom: 9.5,\n",
       "                    zoomControl: true,\n",
       "                    preferCanvas: false,\n",
       "                }\n",
       "            );\n",
       "\n",
       "            \n",
       "\n",
       "        \n",
       "    \n",
       "            var feature_group_71e0d4193b24ff791f2d22456a37cd1b = L.featureGroup(\n",
       "                {}\n",
       "            ).addTo(map_e9cd80af6fb0cf1fb78fefbf82c8652e);\n",
       "        \n",
       "    \n",
       "            var marker_97f5b955a9427a5bd97bbd5fde5053ca = L.marker(\n",
       "                [25.926267, -80.12156499999999],\n",
       "                {&quot;fill&quot;: true, &quot;radius&quot;: 5}\n",
       "            ).addTo(feature_group_71e0d4193b24ff791f2d22456a37cd1b);\n",
       "        \n",
       "    \n",
       "            var icon_bd332b1be914c16e4cddc381c1da2244 = L.AwesomeMarkers.icon(\n",
       "                {&quot;extraClasses&quot;: &quot;fa-rotate-0&quot;, &quot;icon&quot;: &quot;info-sign&quot;, &quot;iconColor&quot;: &quot;white&quot;, &quot;markerColor&quot;: &quot;orange&quot;, &quot;prefix&quot;: &quot;glyphicon&quot;}\n",
       "            );\n",
       "            marker_97f5b955a9427a5bd97bbd5fde5053ca.setIcon(icon_bd332b1be914c16e4cddc381c1da2244);\n",
       "        \n",
       "    \n",
       "        var popup_38fa3ac8a1eada85d7464dca09d0d973 = L.popup({&quot;maxWidth&quot;: 400});\n",
       "\n",
       "        \n",
       "            \n",
       "                var html_475f1affdaa0f48502e710bdd6ad875d = $(`&lt;div id=&quot;html_475f1affdaa0f48502e710bdd6ad875d&quot; style=&quot;width: 100.0%; height: 100.0%;&quot;&gt;&lt;!DOCTYPE html&gt;     &lt;html&gt;     &lt;strong&gt;Building Name: &lt;/strong&gt;Turnberry Ocean Colony&lt;br&gt;     &lt;strong&gt;Sale Price: &lt;/strong&gt;$3,300,000.00&lt;br&gt;     &lt;strong&gt;Days on Market: &lt;/strong&gt;182&lt;br&gt;     &lt;strong&gt;Listing Agent: &lt;/strong&gt;Marcia Page&lt;br&gt;     &lt;strong&gt;Buyer&#x27;s Agent: &lt;/strong&gt;Joseph Khalil&lt;br&gt;     &lt;strong&gt;Price sq ft: &lt;/strong&gt;$883.53&lt;br&gt;     &lt;strong&gt;Address: &lt;/strong&gt;16051 Collins Ave 504 Sunny Isles&lt;br&gt;     &lt;/html&gt;     &lt;/div&gt;`)[0];\n",
       "                popup_38fa3ac8a1eada85d7464dca09d0d973.setContent(html_475f1affdaa0f48502e710bdd6ad875d);\n",
       "            \n",
       "        \n",
       "\n",
       "        marker_97f5b955a9427a5bd97bbd5fde5053ca.bindPopup(popup_38fa3ac8a1eada85d7464dca09d0d973)\n",
       "        ;\n",
       "\n",
       "        \n",
       "    \n",
       "    \n",
       "            var feature_group_443d31612b6e10edfe71cde06f8d18ac = L.featureGroup(\n",
       "                {}\n",
       "            ).addTo(map_e9cd80af6fb0cf1fb78fefbf82c8652e);\n",
       "        \n",
       "    \n",
       "            var marker_ab9f6950e9c83823e44f1ac1bf5b3062 = L.marker(\n",
       "                [25.9412405, -80.12074369999999],\n",
       "                {&quot;fill&quot;: true, &quot;radius&quot;: 5}\n",
       "            ).addTo(feature_group_443d31612b6e10edfe71cde06f8d18ac);\n",
       "        \n",
       "    \n",
       "            var icon_41807cb6af996f5ab6e8fef88aeaf542 = L.AwesomeMarkers.icon(\n",
       "                {&quot;extraClasses&quot;: &quot;fa-rotate-0&quot;, &quot;icon&quot;: &quot;info-sign&quot;, &quot;iconColor&quot;: &quot;white&quot;, &quot;markerColor&quot;: &quot;blue&quot;, &quot;prefix&quot;: &quot;glyphicon&quot;}\n",
       "            );\n",
       "            marker_ab9f6950e9c83823e44f1ac1bf5b3062.setIcon(icon_41807cb6af996f5ab6e8fef88aeaf542);\n",
       "        \n",
       "    \n",
       "        var popup_cc6adf4d7fac014e00da8038ccefb00c = L.popup({&quot;maxWidth&quot;: 400});\n",
       "\n",
       "        \n",
       "            \n",
       "                var html_9149ea85c6b7b8b0e1daa73bc029251d = $(`&lt;div id=&quot;html_9149ea85c6b7b8b0e1daa73bc029251d&quot; style=&quot;width: 100.0%; height: 100.0%;&quot;&gt;&lt;!DOCTYPE html&gt;     &lt;html&gt;     &lt;strong&gt;Building Name: &lt;/strong&gt;Acqualina Ocean Residences&lt;br&gt;     &lt;strong&gt;Sale Price: &lt;/strong&gt;$3,300,000.00&lt;br&gt;     &lt;strong&gt;Days on Market: &lt;/strong&gt;62&lt;br&gt;     &lt;strong&gt;Listing Agent: &lt;/strong&gt;Victoria Romanenko&lt;br&gt;     &lt;strong&gt;Buyer&#x27;s Agent: &lt;/strong&gt;Karina Batievsky&lt;br&gt;     &lt;strong&gt;Price sq ft: &lt;/strong&gt;$1206.14&lt;br&gt;     &lt;strong&gt;Address: &lt;/strong&gt;17875 Collins Ave 1601 Sunny Isles&lt;br&gt;     &lt;/html&gt;     &lt;/div&gt;`)[0];\n",
       "                popup_cc6adf4d7fac014e00da8038ccefb00c.setContent(html_9149ea85c6b7b8b0e1daa73bc029251d);\n",
       "            \n",
       "        \n",
       "\n",
       "        marker_ab9f6950e9c83823e44f1ac1bf5b3062.bindPopup(popup_cc6adf4d7fac014e00da8038ccefb00c)\n",
       "        ;\n",
       "\n",
       "        \n",
       "    \n",
       "    \n",
       "            var marker_a13670fa24140ff80b1136fed25dc878 = L.marker(\n",
       "                [25.8888332, -80.1225323],\n",
       "                {&quot;fill&quot;: true, &quot;radius&quot;: 5}\n",
       "            ).addTo(feature_group_443d31612b6e10edfe71cde06f8d18ac);\n",
       "        \n",
       "    \n",
       "            var icon_6ac491ad83d8194fea514730a2ac5439 = L.AwesomeMarkers.icon(\n",
       "                {&quot;extraClasses&quot;: &quot;fa-rotate-0&quot;, &quot;icon&quot;: &quot;info-sign&quot;, &quot;iconColor&quot;: &quot;white&quot;, &quot;markerColor&quot;: &quot;blue&quot;, &quot;prefix&quot;: &quot;glyphicon&quot;}\n",
       "            );\n",
       "            marker_a13670fa24140ff80b1136fed25dc878.setIcon(icon_6ac491ad83d8194fea514730a2ac5439);\n",
       "        \n",
       "    \n",
       "        var popup_226d9630164d18c9d0ba33703c2bcab3 = L.popup({&quot;maxWidth&quot;: 400});\n",
       "\n",
       "        \n",
       "            \n",
       "                var html_481f3041d03fceca6a7ff1636ee69d09 = $(`&lt;div id=&quot;html_481f3041d03fceca6a7ff1636ee69d09&quot; style=&quot;width: 100.0%; height: 100.0%;&quot;&gt;&lt;!DOCTYPE html&gt;     &lt;html&gt;     &lt;strong&gt;Building Name: &lt;/strong&gt;St Regis Bal Harbour&lt;br&gt;     &lt;strong&gt;Sale Price: &lt;/strong&gt;$3,000,000.00&lt;br&gt;     &lt;strong&gt;Days on Market: &lt;/strong&gt;170&lt;br&gt;     &lt;strong&gt;Listing Agent: &lt;/strong&gt;Pietro Belmonte&lt;br&gt;     &lt;strong&gt;Buyer&#x27;s Agent: &lt;/strong&gt;Djulieta Godoroja&lt;br&gt;     &lt;strong&gt;Price sq ft: &lt;/strong&gt;$1946.79&lt;br&gt;     &lt;strong&gt;Address: &lt;/strong&gt;9703 Collins Ave 2612 Bal&lt;br&gt;     &lt;/html&gt;     &lt;/div&gt;`)[0];\n",
       "                popup_226d9630164d18c9d0ba33703c2bcab3.setContent(html_481f3041d03fceca6a7ff1636ee69d09);\n",
       "            \n",
       "        \n",
       "\n",
       "        marker_a13670fa24140ff80b1136fed25dc878.bindPopup(popup_226d9630164d18c9d0ba33703c2bcab3)\n",
       "        ;\n",
       "\n",
       "        \n",
       "    \n",
       "    \n",
       "            var marker_bde80677097ace2da3ef00b02444de4d = L.marker(\n",
       "                [25.9392068, -80.120635],\n",
       "                {&quot;fill&quot;: true, &quot;radius&quot;: 5}\n",
       "            ).addTo(feature_group_443d31612b6e10edfe71cde06f8d18ac);\n",
       "        \n",
       "    \n",
       "            var icon_8a896f90942e10c1e342cf93be4390bf = L.AwesomeMarkers.icon(\n",
       "                {&quot;extraClasses&quot;: &quot;fa-rotate-0&quot;, &quot;icon&quot;: &quot;info-sign&quot;, &quot;iconColor&quot;: &quot;white&quot;, &quot;markerColor&quot;: &quot;blue&quot;, &quot;prefix&quot;: &quot;glyphicon&quot;}\n",
       "            );\n",
       "            marker_bde80677097ace2da3ef00b02444de4d.setIcon(icon_8a896f90942e10c1e342cf93be4390bf);\n",
       "        \n",
       "    \n",
       "        var popup_835c266ed8faa745ff6b4384a5e8f16f = L.popup({&quot;maxWidth&quot;: 400});\n",
       "\n",
       "        \n",
       "            \n",
       "                var html_47581b846d27dd4f709bd4c5c2f37abf = $(`&lt;div id=&quot;html_47581b846d27dd4f709bd4c5c2f37abf&quot; style=&quot;width: 100.0%; height: 100.0%;&quot;&gt;&lt;!DOCTYPE html&gt;     &lt;html&gt;     &lt;strong&gt;Building Name: &lt;/strong&gt;Pinnacle&lt;br&gt;     &lt;strong&gt;Sale Price: &lt;/strong&gt;$2,660,000.00&lt;br&gt;     &lt;strong&gt;Days on Market: &lt;/strong&gt;18&lt;br&gt;     &lt;strong&gt;Listing Agent: &lt;/strong&gt;Alvaro Minor&lt;br&gt;     &lt;strong&gt;Buyer&#x27;s Agent: &lt;/strong&gt;Alvaro Minor&lt;br&gt;     &lt;strong&gt;Price sq ft: &lt;/strong&gt;$1445.65&lt;br&gt;     &lt;strong&gt;Address: &lt;/strong&gt;17555 Collins Ave 2107 Sunny Isles&lt;br&gt;     &lt;/html&gt;     &lt;/div&gt;`)[0];\n",
       "                popup_835c266ed8faa745ff6b4384a5e8f16f.setContent(html_47581b846d27dd4f709bd4c5c2f37abf);\n",
       "            \n",
       "        \n",
       "\n",
       "        marker_bde80677097ace2da3ef00b02444de4d.bindPopup(popup_835c266ed8faa745ff6b4384a5e8f16f)\n",
       "        ;\n",
       "\n",
       "        \n",
       "    \n",
       "    \n",
       "            var marker_8eba1de27152d740fd4214f72a5932c8 = L.marker(\n",
       "                [25.7672946, -80.1341836],\n",
       "                {&quot;fill&quot;: true, &quot;radius&quot;: 5}\n",
       "            ).addTo(feature_group_443d31612b6e10edfe71cde06f8d18ac);\n",
       "        \n",
       "    \n",
       "            var icon_4023ba1b66588018e09f11fa93d7248c = L.AwesomeMarkers.icon(\n",
       "                {&quot;extraClasses&quot;: &quot;fa-rotate-0&quot;, &quot;icon&quot;: &quot;info-sign&quot;, &quot;iconColor&quot;: &quot;white&quot;, &quot;markerColor&quot;: &quot;blue&quot;, &quot;prefix&quot;: &quot;glyphicon&quot;}\n",
       "            );\n",
       "            marker_8eba1de27152d740fd4214f72a5932c8.setIcon(icon_4023ba1b66588018e09f11fa93d7248c);\n",
       "        \n",
       "    \n",
       "        var popup_d54ec9949ef47e879684e762c3e6a660 = L.popup({&quot;maxWidth&quot;: 400});\n",
       "\n",
       "        \n",
       "            \n",
       "                var html_0cf71f4bde9a88f256fa1c8cc6721763 = $(`&lt;div id=&quot;html_0cf71f4bde9a88f256fa1c8cc6721763&quot; style=&quot;width: 100.0%; height: 100.0%;&quot;&gt;&lt;!DOCTYPE html&gt;     &lt;html&gt;     &lt;strong&gt;Building Name: &lt;/strong&gt;South Pointe Tower&lt;br&gt;     &lt;strong&gt;Sale Price: &lt;/strong&gt;$2,500,000.00&lt;br&gt;     &lt;strong&gt;Days on Market: &lt;/strong&gt;19&lt;br&gt;     &lt;strong&gt;Listing Agent: &lt;/strong&gt;Michael Feuling&lt;br&gt;     &lt;strong&gt;Buyer&#x27;s Agent: &lt;/strong&gt;Michael Feuling&lt;br&gt;     &lt;strong&gt;Price sq ft: &lt;/strong&gt;$1785.71&lt;br&gt;     &lt;strong&gt;Address: &lt;/strong&gt;400 S Pointe Dr 2506 Miami&lt;br&gt;     &lt;/html&gt;     &lt;/div&gt;`)[0];\n",
       "                popup_d54ec9949ef47e879684e762c3e6a660.setContent(html_0cf71f4bde9a88f256fa1c8cc6721763);\n",
       "            \n",
       "        \n",
       "\n",
       "        marker_8eba1de27152d740fd4214f72a5932c8.bindPopup(popup_d54ec9949ef47e879684e762c3e6a660)\n",
       "        ;\n",
       "\n",
       "        \n",
       "    \n",
       "    \n",
       "            var marker_40347733c07b223bd3393064f92aaa13 = L.marker(\n",
       "                [25.8288072, -80.12146729999999],\n",
       "                {&quot;fill&quot;: true, &quot;radius&quot;: 5}\n",
       "            ).addTo(feature_group_443d31612b6e10edfe71cde06f8d18ac);\n",
       "        \n",
       "    \n",
       "            var icon_e2eb1ff690fbbfedda314e6370efd2f2 = L.AwesomeMarkers.icon(\n",
       "                {&quot;extraClasses&quot;: &quot;fa-rotate-0&quot;, &quot;icon&quot;: &quot;info-sign&quot;, &quot;iconColor&quot;: &quot;white&quot;, &quot;markerColor&quot;: &quot;blue&quot;, &quot;prefix&quot;: &quot;glyphicon&quot;}\n",
       "            );\n",
       "            marker_40347733c07b223bd3393064f92aaa13.setIcon(icon_e2eb1ff690fbbfedda314e6370efd2f2);\n",
       "        \n",
       "    \n",
       "        var popup_05592a9630f55ee7d66ce085d859c825 = L.popup({&quot;maxWidth&quot;: 400});\n",
       "\n",
       "        \n",
       "            \n",
       "                var html_d0cb29e1cd022e91648a6008d27d29aa = $(`&lt;div id=&quot;html_d0cb29e1cd022e91648a6008d27d29aa&quot; style=&quot;width: 100.0%; height: 100.0%;&quot;&gt;&lt;!DOCTYPE html&gt;     &lt;html&gt;     &lt;strong&gt;Building Name: &lt;/strong&gt;Sea Coast Condominium&lt;br&gt;     &lt;strong&gt;Sale Price: &lt;/strong&gt;$1,900,000.00&lt;br&gt;     &lt;strong&gt;Days on Market: &lt;/strong&gt;52&lt;br&gt;     &lt;strong&gt;Listing Agent: &lt;/strong&gt;Francisco Mackintosh&lt;br&gt;     &lt;strong&gt;Buyer&#x27;s Agent: &lt;/strong&gt;Karen Guzik&lt;br&gt;     &lt;strong&gt;Price sq ft: &lt;/strong&gt;$922.33&lt;br&gt;     &lt;strong&gt;Address: &lt;/strong&gt;5151 Collins Ave 1527 Miami&lt;br&gt;     &lt;/html&gt;     &lt;/div&gt;`)[0];\n",
       "                popup_05592a9630f55ee7d66ce085d859c825.setContent(html_d0cb29e1cd022e91648a6008d27d29aa);\n",
       "            \n",
       "        \n",
       "\n",
       "        marker_40347733c07b223bd3393064f92aaa13.bindPopup(popup_05592a9630f55ee7d66ce085d859c825)\n",
       "        ;\n",
       "\n",
       "        \n",
       "    \n",
       "    \n",
       "            var marker_43474047f77c10878da4e54f240372aa = L.marker(\n",
       "                [25.7275568, -80.23962499999999],\n",
       "                {&quot;fill&quot;: true, &quot;radius&quot;: 5}\n",
       "            ).addTo(feature_group_443d31612b6e10edfe71cde06f8d18ac);\n",
       "        \n",
       "    \n",
       "            var icon_d77bf0011ca62df83525ce07c2da193c = L.AwesomeMarkers.icon(\n",
       "                {&quot;extraClasses&quot;: &quot;fa-rotate-0&quot;, &quot;icon&quot;: &quot;info-sign&quot;, &quot;iconColor&quot;: &quot;white&quot;, &quot;markerColor&quot;: &quot;blue&quot;, &quot;prefix&quot;: &quot;glyphicon&quot;}\n",
       "            );\n",
       "            marker_43474047f77c10878da4e54f240372aa.setIcon(icon_d77bf0011ca62df83525ce07c2da193c);\n",
       "        \n",
       "    \n",
       "        var popup_bc9ca099cb8501f263714fa5a7dd4067 = L.popup({&quot;maxWidth&quot;: 400});\n",
       "\n",
       "        \n",
       "            \n",
       "                var html_9301dbbd46f025f5f3d7cf53657fb0d2 = $(`&lt;div id=&quot;html_9301dbbd46f025f5f3d7cf53657fb0d2&quot; style=&quot;width: 100.0%; height: 100.0%;&quot;&gt;&lt;!DOCTYPE html&gt;     &lt;html&gt;     &lt;strong&gt;Building Name: &lt;/strong&gt;Grovenor House Condo&lt;br&gt;     &lt;strong&gt;Sale Price: &lt;/strong&gt;$1,885,000.00&lt;br&gt;     &lt;strong&gt;Days on Market: &lt;/strong&gt;43&lt;br&gt;     &lt;strong&gt;Listing Agent: &lt;/strong&gt;Roberta Ingletto&lt;br&gt;     &lt;strong&gt;Buyer&#x27;s Agent: &lt;/strong&gt;Elliot Machado PA&lt;br&gt;     &lt;strong&gt;Price sq ft: &lt;/strong&gt;$1073.46&lt;br&gt;     &lt;strong&gt;Address: &lt;/strong&gt;2927 S Bayshore Dr 505&lt;br&gt;     &lt;/html&gt;     &lt;/div&gt;`)[0];\n",
       "                popup_bc9ca099cb8501f263714fa5a7dd4067.setContent(html_9301dbbd46f025f5f3d7cf53657fb0d2);\n",
       "            \n",
       "        \n",
       "\n",
       "        marker_43474047f77c10878da4e54f240372aa.bindPopup(popup_bc9ca099cb8501f263714fa5a7dd4067)\n",
       "        ;\n",
       "\n",
       "        \n",
       "    \n",
       "    \n",
       "            var marker_8a31fe477e467b31ece55c50468a36ca = L.marker(\n",
       "                [25.6376869, -80.2897418],\n",
       "                {&quot;fill&quot;: true, &quot;radius&quot;: 5}\n",
       "            ).addTo(feature_group_443d31612b6e10edfe71cde06f8d18ac);\n",
       "        \n",
       "    \n",
       "            var icon_bbdd77f67824b8d59546f87b274e24c5 = L.AwesomeMarkers.icon(\n",
       "                {&quot;extraClasses&quot;: &quot;fa-rotate-0&quot;, &quot;icon&quot;: &quot;info-sign&quot;, &quot;iconColor&quot;: &quot;white&quot;, &quot;markerColor&quot;: &quot;blue&quot;, &quot;prefix&quot;: &quot;glyphicon&quot;}\n",
       "            );\n",
       "            marker_8a31fe477e467b31ece55c50468a36ca.setIcon(icon_bbdd77f67824b8d59546f87b274e24c5);\n",
       "        \n",
       "    \n",
       "        var popup_4ddf56a771f107bbe8d69db4159be3c6 = L.popup({&quot;maxWidth&quot;: 400});\n",
       "\n",
       "        \n",
       "            \n",
       "                var html_05f55c55fd7984d370d34aa6164cfb54 = $(`&lt;div id=&quot;html_05f55c55fd7984d370d34aa6164cfb54&quot; style=&quot;width: 100.0%; height: 100.0%;&quot;&gt;&lt;!DOCTYPE html&gt;     &lt;html&gt;     &lt;strong&gt;Building Name: &lt;/strong&gt;Milano at Deering Bay&lt;br&gt;     &lt;strong&gt;Sale Price: &lt;/strong&gt;$1,800,000.00&lt;br&gt;     &lt;strong&gt;Days on Market: &lt;/strong&gt;167&lt;br&gt;     &lt;strong&gt;Listing Agent: &lt;/strong&gt;Vanessa Valle&lt;br&gt;     &lt;strong&gt;Buyer&#x27;s Agent: &lt;/strong&gt;Ana Viyella&lt;br&gt;     &lt;strong&gt;Price sq ft: &lt;/strong&gt;$605.65&lt;br&gt;     &lt;strong&gt;Address: &lt;/strong&gt;13621 Deering Bay Dr 503 Coral&lt;br&gt;     &lt;/html&gt;     &lt;/div&gt;`)[0];\n",
       "                popup_4ddf56a771f107bbe8d69db4159be3c6.setContent(html_05f55c55fd7984d370d34aa6164cfb54);\n",
       "            \n",
       "        \n",
       "\n",
       "        marker_8a31fe477e467b31ece55c50468a36ca.bindPopup(popup_4ddf56a771f107bbe8d69db4159be3c6)\n",
       "        ;\n",
       "\n",
       "        \n",
       "    \n",
       "    \n",
       "            var marker_7b08372cabcadb2991a71cc0073d005a = L.marker(\n",
       "                [25.9232597, -80.1218135],\n",
       "                {&quot;fill&quot;: true, &quot;radius&quot;: 5}\n",
       "            ).addTo(feature_group_443d31612b6e10edfe71cde06f8d18ac);\n",
       "        \n",
       "    \n",
       "            var icon_a4c25a3a34fa45c7fa6d29c90ebda391 = L.AwesomeMarkers.icon(\n",
       "                {&quot;extraClasses&quot;: &quot;fa-rotate-0&quot;, &quot;icon&quot;: &quot;info-sign&quot;, &quot;iconColor&quot;: &quot;white&quot;, &quot;markerColor&quot;: &quot;blue&quot;, &quot;prefix&quot;: &quot;glyphicon&quot;}\n",
       "            );\n",
       "            marker_7b08372cabcadb2991a71cc0073d005a.setIcon(icon_a4c25a3a34fa45c7fa6d29c90ebda391);\n",
       "        \n",
       "    \n",
       "        var popup_365edb8f78e348d999f354ee43e96c71 = L.popup({&quot;maxWidth&quot;: 400});\n",
       "\n",
       "        \n",
       "            \n",
       "                var html_47d02f868dd5e5492bc46861f9df81bb = $(`&lt;div id=&quot;html_47d02f868dd5e5492bc46861f9df81bb&quot; style=&quot;width: 100.0%; height: 100.0%;&quot;&gt;&lt;!DOCTYPE html&gt;     &lt;html&gt;     &lt;strong&gt;Building Name: &lt;/strong&gt;TDR Tower III&lt;br&gt;     &lt;strong&gt;Sale Price: &lt;/strong&gt;$1,750,000.00&lt;br&gt;     &lt;strong&gt;Days on Market: &lt;/strong&gt;51&lt;br&gt;     &lt;strong&gt;Listing Agent: &lt;/strong&gt;Claudia Benjua&lt;br&gt;     &lt;strong&gt;Buyer&#x27;s Agent: &lt;/strong&gt;Claudia Benjua&lt;br&gt;     &lt;strong&gt;Price sq ft: &lt;/strong&gt;$886.52&lt;br&gt;     &lt;strong&gt;Address: &lt;/strong&gt;15811 Collins Ave 3202 Sunny Isles&lt;br&gt;     &lt;/html&gt;     &lt;/div&gt;`)[0];\n",
       "                popup_365edb8f78e348d999f354ee43e96c71.setContent(html_47d02f868dd5e5492bc46861f9df81bb);\n",
       "            \n",
       "        \n",
       "\n",
       "        marker_7b08372cabcadb2991a71cc0073d005a.bindPopup(popup_365edb8f78e348d999f354ee43e96c71)\n",
       "        ;\n",
       "\n",
       "        \n",
       "    \n",
       "    \n",
       "            var marker_413e037e35f1319b35f6ecb013f2ac7b = L.marker(\n",
       "                [25.8048826, -80.1858247],\n",
       "                {&quot;fill&quot;: true, &quot;radius&quot;: 5}\n",
       "            ).addTo(feature_group_443d31612b6e10edfe71cde06f8d18ac);\n",
       "        \n",
       "    \n",
       "            var icon_8c6eee7b797242e7984b92ac6ea4b29c = L.AwesomeMarkers.icon(\n",
       "                {&quot;extraClasses&quot;: &quot;fa-rotate-0&quot;, &quot;icon&quot;: &quot;info-sign&quot;, &quot;iconColor&quot;: &quot;white&quot;, &quot;markerColor&quot;: &quot;blue&quot;, &quot;prefix&quot;: &quot;glyphicon&quot;}\n",
       "            );\n",
       "            marker_413e037e35f1319b35f6ecb013f2ac7b.setIcon(icon_8c6eee7b797242e7984b92ac6ea4b29c);\n",
       "        \n",
       "    \n",
       "        var popup_dffdd2e0d51976dbce88c71ce9c781d5 = L.popup({&quot;maxWidth&quot;: 400});\n",
       "\n",
       "        \n",
       "            \n",
       "                var html_0a36fdf42338d32cc3857693ed3e40ab = $(`&lt;div id=&quot;html_0a36fdf42338d32cc3857693ed3e40ab&quot; style=&quot;width: 100.0%; height: 100.0%;&quot;&gt;&lt;!DOCTYPE html&gt;     &lt;html&gt;     &lt;strong&gt;Building Name: &lt;/strong&gt;Biscayne Beach&lt;br&gt;     &lt;strong&gt;Sale Price: &lt;/strong&gt;$1,620,000.00&lt;br&gt;     &lt;strong&gt;Days on Market: &lt;/strong&gt;28&lt;br&gt;     &lt;strong&gt;Listing Agent: &lt;/strong&gt;Smadar Sasson&lt;br&gt;     &lt;strong&gt;Buyer&#x27;s Agent: &lt;/strong&gt;Nicole Kasten PA&lt;br&gt;     &lt;strong&gt;Price sq ft: &lt;/strong&gt;$954.06&lt;br&gt;     &lt;strong&gt;Address: &lt;/strong&gt;2900 NE 7th Ave 4102&lt;br&gt;     &lt;/html&gt;     &lt;/div&gt;`)[0];\n",
       "                popup_dffdd2e0d51976dbce88c71ce9c781d5.setContent(html_0a36fdf42338d32cc3857693ed3e40ab);\n",
       "            \n",
       "        \n",
       "\n",
       "        marker_413e037e35f1319b35f6ecb013f2ac7b.bindPopup(popup_dffdd2e0d51976dbce88c71ce9c781d5)\n",
       "        ;\n",
       "\n",
       "        \n",
       "    \n",
       "    \n",
       "            var tile_layer_3993d30f480e7961914e53fa32d99136 = L.tileLayer(\n",
       "                &quot;https://{s}.tile.openstreetmap.org/{z}/{x}/{y}.png&quot;,\n",
       "                {&quot;attribution&quot;: &quot;Data by \\u0026copy; \\u003ca href=\\&quot;http://openstreetmap.org\\&quot;\\u003eOpenStreetMap\\u003c/a\\u003e, under \\u003ca href=\\&quot;http://www.openstreetmap.org/copyright\\&quot;\\u003eODbL\\u003c/a\\u003e.&quot;, &quot;detectRetina&quot;: false, &quot;maxNativeZoom&quot;: 18, &quot;maxZoom&quot;: 18, &quot;minZoom&quot;: 0, &quot;noWrap&quot;: false, &quot;opacity&quot;: 1, &quot;subdomains&quot;: &quot;abc&quot;, &quot;tms&quot;: false}\n",
       "            ).addTo(map_e9cd80af6fb0cf1fb78fefbf82c8652e);\n",
       "        \n",
       "    \n",
       "            var layer_control_e6d2473400b2e3a240c744b3330a727c = {\n",
       "                base_layers : {\n",
       "                },\n",
       "                overlays :  {\n",
       "                    &quot;Top Sale&quot; : feature_group_71e0d4193b24ff791f2d22456a37cd1b,\n",
       "                    &quot;All other sales&quot; : feature_group_443d31612b6e10edfe71cde06f8d18ac,\n",
       "                },\n",
       "            };\n",
       "            L.control.layers(\n",
       "                layer_control_e6d2473400b2e3a240c744b3330a727c.base_layers,\n",
       "                layer_control_e6d2473400b2e3a240c744b3330a727c.overlays,\n",
       "                {&quot;autoZIndex&quot;: true, &quot;collapsed&quot;: false, &quot;position&quot;: &quot;topright&quot;}\n",
       "            ).addTo(map_e9cd80af6fb0cf1fb78fefbf82c8652e);\n",
       "        \n",
       "&lt;/script&gt;\" style=\"position:absolute;width:100%;height:100%;left:0;top:0;border:none !important;\" allowfullscreen webkitallowfullscreen mozallowfullscreen></iframe></div></div>"
      ],
      "text/plain": [
       "<folium.folium.Map at 0x7f90ba9bffd0>"
      ]
     },
     "execution_count": 24,
     "metadata": {},
     "output_type": "execute_result"
    }
   ],
   "source": [
    "import folium\n",
    "from folium.plugins import MarkerCluster\n",
    "\n",
    "m = folium.Map(location=df[[\"lat\", \"lon\"]].mean().to_list(), zoom_start=10)\n",
    "\n",
    "title_html = '''\n",
    "              <h3 align=\"center\" style=\"font-size:16px\"><b>{}</b></h3>\n",
    "             '''.format(f'Recent Miami-Dade Condo Sales ')\n",
    "\n",
    "caption_html = '''\n",
    "                <p align=\"center\" style=\"vertical-align: bottom; font-size:13px\"><i>{}</i></p>\n",
    "                '''.format('October 15th - October 21st')\n",
    "\n",
    "\n",
    "### Create map container ###\n",
    "m = folium.Map(location=df[[\"lat\", \"lon\"]].mean().to_list(),zoom_start=9.5,tiles=None)\n",
    "\n",
    "# Create two FeatureGroups for different color pins\n",
    "fg_blue = folium.FeatureGroup(name='All other sales')\n",
    "fg_orange = folium.FeatureGroup(name='Top Sale')\n",
    "\n",
    "for index, row in df.iterrows():\n",
    "    # Add the markers to the appropriate FeatureGroup based on the color\n",
    "    if row['COLOR'] == 'blue':\n",
    "        marker = folium.Marker(\n",
    "            location=[row['lat'], row['lon']],\n",
    "            radius=5,\n",
    "            fill=True,\n",
    "            icon=folium.Icon(color=row['COLOR']),\n",
    "            popup=folium.Popup(popup_html(row), max_width=400))\n",
    "        marker.add_to(fg_blue)\n",
    "    else:\n",
    "        marker = folium.Marker(\n",
    "            location=[row['lat'], row['lon']],\n",
    "            radius=5,\n",
    "            fill=True,\n",
    "            icon=folium.Icon(color=row['COLOR']),\n",
    "            popup=folium.Popup(popup_html(row), max_width=400))\n",
    "        marker.add_to(fg_orange)\n",
    "\n",
    "# Add the FeatureGroups to the map\n",
    "fg_orange.add_to(m)\n",
    "fg_blue.add_to(m)\n",
    "\n",
    "folium.TileLayer('OpenStreetMap',control=False).add_to(m)\n",
    "\n",
    "# Add LayerControl to the map\n",
    "folium.map.LayerControl(collapsed=False).add_to(m)\n",
    "m.get_root().html.add_child(folium.Element(title_html))\n",
    "m.get_root().html.add_child(folium.Element(caption_html))\n",
    "            \n",
    "# Display map\n",
    "m"
   ]
  },
  {
   "cell_type": "code",
   "execution_count": 25,
   "metadata": {},
   "outputs": [],
   "source": [
    "m.save('index.html')"
   ]
  },
  {
   "cell_type": "markdown",
   "metadata": {},
   "source": [
    "## Data snagger"
   ]
  },
  {
   "cell_type": "code",
   "execution_count": 19,
   "metadata": {},
   "outputs": [],
   "source": [
    "### Set up formatting ###\n",
    "BR = '\\n'\n",
    "\n",
    "ME = '\\033[1m' + 'Most Expensive' + '\\033[0m'\n",
    "LE = '\\033[1m' + 'Least Expensive' + '\\033[0m'\n",
    "\n",
    "MAX_PSF = '\\033[1m' + 'Highest Price Per Square Foot' + '\\033[0m'\n",
    "MIN_PSF = '\\033[1m' + 'Lowest Price Per Square Foot' + '\\033[0m'\n",
    "\n",
    "DAYS_MAX = '\\033[1m' + 'Most Days on Market' + '\\033[0m'\n",
    "DAYS_MIN = '\\033[1m' + 'Fewest Days on Market' + '\\033[0m'"
   ]
  },
  {
   "cell_type": "code",
   "execution_count": 20,
   "metadata": {},
   "outputs": [
    {
     "name": "stdout",
     "output_type": "stream",
     "text": [
      "\u001b[1mMost Expensive\u001b[0m\n",
      "Turnberry Ocean Colony, 16051 Collins Ave 504 Sunny Isles | Price $3,300,000 | $884 psf | Listing agent: Marcia Page with One Sotheby's International Re | Buyer's agent: Joseph Khalil with Avanti Way Realty | Days on market: 182\n",
      "\u001b[1mLeast Expensive\u001b[0m\n",
      "Biscayne Beach, 2900 NE 7th Ave 4102 | Price $1,620,000 | $954 psf | Listing agent: Smadar Sasson with Inn Real Estate Inc. | Buyer's agent: Nicole Kasten PA with Sterling Equity Realty LLC | Days on market: 28\n",
      "\u001b[1mHighest Price Per Square Foot\u001b[0m\n",
      "St Regis Bal Harbour, 9703 Collins Ave 2612 Bal | Price $3,000,000 | $1,947 psf | Listing agent: Pietro Belmonte with Douglas Elliman | Buyer's agent: Djulieta Godoroja with Asset Realty Partners | Days on market: 170\n",
      "\u001b[1mLowest Price Per Square Foot\u001b[0m\n",
      "Milano at Deering Bay, 13621 Deering Bay Dr 503 Coral | Price $1,800,000 | $606 psf | Listing agent: Vanessa Valle with Compass Florida, LLC. | Buyer's agent: Ana Viyella with Douglas Elliman | Days on market: 167\n",
      "\u001b[1mMost Days on Market\u001b[0m\n",
      "Turnberry Ocean Colony, 16051 Collins Ave 504 Sunny Isles | Price $3,300,000 | $884 psf | Listing agent: Marcia Page with One Sotheby's International Re | Buyer's agent: Joseph Khalil with Avanti Way Realty | Days on market: 182\n",
      "\u001b[1mFewest Days on Market\u001b[0m\n",
      "Pinnacle, 17555 Collins Ave 2107 Sunny Isles | Price $2,660,000 | $1,446 psf | Listing agent: Alvaro Minor with Optimar International Realty | Buyer's agent: Alvaro Minor with Optimar International Realty | Days on market: 18\n"
     ]
    }
   ],
   "source": [
    "### Highest and lowest sale price ###\n",
    "print(f\"{ME}{BR}{df.loc[df['int_Sale_Price'].idxmax()]['building_name']}, {df.loc[df['int_Sale_Price'].idxmax()]['address']} | Price ${df.loc[df['int_Sale_Price'].idxmax()]['int_Sale_Price']:,.0f} | ${df.loc[df['int_Sale_Price'].idxmax()]['price_per_sqft']:,.0f} psf | Listing agent: {df.loc[df['int_Sale_Price'].idxmax()]['Agent']} with {df.loc[df['int_Sale_Price'].idxmax()]['Listing Broker']} | Buyer's agent: {df.loc[df['int_Sale_Price'].idxmax()]['Buyer Agent']} with {df.loc[df['int_Sale_Price'].idxmax()]['Buyer Broker']} | Days on market: {df.loc[df['int_Sale_Price'].idxmax()]['days_on_market']}\")\n",
    "print(f\"{LE}{BR}{df.loc[df['int_Sale_Price'].idxmin()]['building_name']}, {df.loc[df['int_Sale_Price'].idxmin()]['address']} | Price ${df.loc[df['int_Sale_Price'].idxmin()]['int_Sale_Price']:,.0f} | ${df.loc[df['int_Sale_Price'].idxmin()]['price_per_sqft']:,.0f} psf | Listing agent: {df.loc[df['int_Sale_Price'].idxmin()]['Agent']} with {df.loc[df['int_Sale_Price'].idxmin()]['Listing Broker']} | Buyer's agent: {df.loc[df['int_Sale_Price'].idxmin()]['Buyer Agent']} with {df.loc[df['int_Sale_Price'].idxmin()]['Buyer Broker']} | Days on market: {df.loc[df['int_Sale_Price'].idxmin()]['days_on_market']}\")\n",
    "### Highest and lowest psf ###\n",
    "print(f\"{MAX_PSF}{BR}{df.loc[df['price_per_sqft'].idxmax()]['building_name']}, {df.loc[df['price_per_sqft'].idxmax()]['address']} | Price ${df.loc[df['price_per_sqft'].idxmax()]['int_Sale_Price']:,.0f} | ${df.loc[df['price_per_sqft'].idxmax()]['price_per_sqft']:,.0f} psf | Listing agent: {df.loc[df['price_per_sqft'].idxmax()]['Agent']} with {df.loc[df['price_per_sqft'].idxmax()]['Listing Broker']} | Buyer's agent: {df.loc[df['price_per_sqft'].idxmax()]['Buyer Agent']} with {df.loc[df['price_per_sqft'].idxmax()]['Buyer Broker']} | Days on market: {df.loc[df['price_per_sqft'].idxmax()]['days_on_market']}\")\n",
    "print(f\"{MIN_PSF}{BR}{df.loc[df['price_per_sqft'].idxmin()]['building_name']}, {df.loc[df['price_per_sqft'].idxmin()]['address']} | Price ${df.loc[df['price_per_sqft'].idxmin()]['int_Sale_Price']:,.0f} | ${df.loc[df['price_per_sqft'].idxmin()]['price_per_sqft']:,.0f} psf | Listing agent: {df.loc[df['price_per_sqft'].idxmin()]['Agent']} with {df.loc[df['price_per_sqft'].idxmin()]['Listing Broker']} | Buyer's agent: {df.loc[df['price_per_sqft'].idxmin()]['Buyer Agent']} with {df.loc[df['price_per_sqft'].idxmin()]['Buyer Broker']} | Days on market: {df.loc[df['price_per_sqft'].idxmin()]['days_on_market']}\")\n",
    "### Highest and lowest days on market ###\n",
    "print(f\"{DAYS_MAX}{BR}{df.loc[df['days_on_market'].idxmax()]['building_name']}, {df.loc[df['days_on_market'].idxmax()]['address']} | Price ${df.loc[df['days_on_market'].idxmax()]['int_Sale_Price']:,.0f} | ${df.loc[df['days_on_market'].idxmax()]['price_per_sqft']:,.0f} psf | Listing agent: {df.loc[df['days_on_market'].idxmax()]['Agent']} with {df.loc[df['days_on_market'].idxmax()]['Listing Broker']} | Buyer's agent: {df.loc[df['days_on_market'].idxmax()]['Buyer Agent']} with {df.loc[df['days_on_market'].idxmax()]['Buyer Broker']} | Days on market: {df.loc[df['days_on_market'].idxmax()]['days_on_market']}\")\n",
    "print(f\"{DAYS_MIN}{BR}{df.loc[df['days_on_market'].idxmin()]['building_name']}, {df.loc[df['days_on_market'].idxmin()]['address']} | Price ${df.loc[df['days_on_market'].idxmin()]['int_Sale_Price']:,.0f} | ${df.loc[df['days_on_market'].idxmin()]['price_per_sqft']:,.0f} psf | Listing agent: {df.loc[df['days_on_market'].idxmin()]['Agent']} with {df.loc[df['days_on_market'].idxmin()]['Listing Broker']} | Buyer's agent: {df.loc[df['days_on_market'].idxmin()]['Buyer Agent']} with {df.loc[df['days_on_market'].idxmin()]['Buyer Broker']} | Days on market: {df.loc[df['days_on_market'].idxmin()]['days_on_market']}\")"
   ]
  },
  {
   "cell_type": "code",
   "execution_count": 21,
   "metadata": {},
   "outputs": [
    {
     "data": {
      "text/plain": [
       "79.2"
      ]
     },
     "execution_count": 21,
     "metadata": {},
     "output_type": "execute_result"
    }
   ],
   "source": [
    "df['days_on_market'].mean()"
   ]
  },
  {
   "cell_type": "markdown",
   "metadata": {},
   "source": [
    "## Map URL snagger"
   ]
  },
  {
   "cell_type": "markdown",
   "metadata": {},
   "source": [
    "Map template URL: `https://trd-digital.github.io/trd-news-interactive-maps/{map-folder-name}`"
   ]
  },
  {
   "cell_type": "code",
   "execution_count": 22,
   "metadata": {},
   "outputs": [],
   "source": [
    "base_name = 'https://trd-digital.github.io/trd-news-interactive-maps/'"
   ]
  },
  {
   "cell_type": "code",
   "execution_count": 23,
   "metadata": {},
   "outputs": [
    {
     "name": "stdout",
     "output_type": "stream",
     "text": [
      "https://trd-digital.github.io/trd-news-interactive-maps/condo_sales_week_ending_10212023\n"
     ]
    }
   ],
   "source": [
    "cwd = os.getcwd()\n",
    "\n",
    "cwd = cwd.split('/')\n",
    "\n",
    "final_name = base_name + cwd[-1]\n",
    "print(final_name)"
   ]
  }
 ],
 "metadata": {
  "kernelspec": {
   "display_name": "Python 3 (ipykernel)",
   "language": "python",
   "name": "python3"
  },
  "language_info": {
   "codemirror_mode": {
    "name": "ipython",
    "version": 3
   },
   "file_extension": ".py",
   "mimetype": "text/x-python",
   "name": "python",
   "nbconvert_exporter": "python",
   "pygments_lexer": "ipython3",
   "version": "3.9.12"
  },
  "toc": {
   "base_numbering": 1,
   "nav_menu": {},
   "number_sections": true,
   "sideBar": true,
   "skip_h1_title": false,
   "title_cell": "Table of Contents",
   "title_sidebar": "Contents",
   "toc_cell": false,
   "toc_position": {},
   "toc_section_display": true,
   "toc_window_display": false
  }
 },
 "nbformat": 4,
 "nbformat_minor": 4
}
