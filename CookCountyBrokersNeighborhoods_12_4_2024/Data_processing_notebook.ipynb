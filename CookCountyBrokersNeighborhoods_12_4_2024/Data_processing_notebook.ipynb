{
 "cells": [
  {
   "cell_type": "markdown",
   "id": "bcd0b9fb",
   "metadata": {},
   "source": [
    "## Imports"
   ]
  },
  {
   "cell_type": "code",
   "execution_count": 31,
   "id": "ee7ab0bf",
   "metadata": {},
   "outputs": [],
   "source": [
    "import pandas as pd\n",
    "import numpy as np\n",
    "import geopandas as gpd\n",
    "import os\n",
    "from shapely import wkt\n",
    "from shapely.geometry import Point\n",
    "import googlemaps"
   ]
  },
  {
   "cell_type": "markdown",
   "id": "f1f346f3",
   "metadata": {},
   "source": [
    "## Data Read in"
   ]
  },
  {
   "cell_type": "code",
   "execution_count": 19,
   "id": "f875e048",
   "metadata": {},
   "outputs": [],
   "source": [
    "df = pd.read_csv('CHI_agents_data-Table 1.csv',low_memory=False)"
   ]
  },
  {
   "cell_type": "code",
   "execution_count": 17,
   "id": "ad72dd86",
   "metadata": {},
   "outputs": [
    {
     "data": {
      "text/plain": [
       "geometry\n",
       "False    107944\n",
       "True        271\n",
       "Name: count, dtype: int64"
      ]
     },
     "execution_count": 17,
     "metadata": {},
     "output_type": "execute_result"
    }
   ],
   "source": [
    "df['geometry'].isna().value_counts()"
   ]
  },
  {
   "cell_type": "code",
   "execution_count": 22,
   "id": "ac58c92f",
   "metadata": {},
   "outputs": [],
   "source": [
    "# Function to convert WKT format to a Point geometry\n",
    "def to_point(coord):\n",
    "    try:\n",
    "        if isinstance(coord, str) and 'POINT' in coord:\n",
    "            # Use WKT to convert the string into a Point object\n",
    "            return wkt.loads(coord)\n",
    "        else:\n",
    "            return None  # Return None for invalid or missing coordinates\n",
    "    except Exception as e:\n",
    "        return None  # Catch any issues\n",
    "\n",
    "# Apply the conversion to the 'geometry' column\n",
    "df['geometry'] = df['geometry'].apply(to_point)\n",
    "\n",
    "# Now convert the DataFrame to a GeoDataFrame\n",
    "df_geo = gpd.GeoDataFrame(df, geometry='geometry')"
   ]
  },
  {
   "cell_type": "code",
   "execution_count": 25,
   "id": "e51b6ee5",
   "metadata": {},
   "outputs": [
    {
     "data": {
      "text/plain": [
       "geometry\n",
       "False    107944\n",
       "True        271\n",
       "Name: count, dtype: int64"
      ]
     },
     "execution_count": 25,
     "metadata": {},
     "output_type": "execute_result"
    }
   ],
   "source": [
    "df_geo['geometry'].isna().value_counts()"
   ]
  },
  {
   "cell_type": "code",
   "execution_count": 27,
   "id": "403defc9",
   "metadata": {},
   "outputs": [],
   "source": [
    "df_geo['Full_Address'] = df_geo['Address'] + ' ' + df_geo['Location'] + ' Chicago, IL'"
   ]
  },
  {
   "cell_type": "code",
   "execution_count": 32,
   "id": "4bb9567f",
   "metadata": {},
   "outputs": [],
   "source": [
    "# Retrieve the API key\n",
    "%store -r google_maps_API_Key\n",
    "gmaps_key = googlemaps.Client(key=google_maps_API_Key)"
   ]
  },
  {
   "cell_type": "code",
   "execution_count": 33,
   "id": "45ac1bd4",
   "metadata": {},
   "outputs": [
    {
     "name": "stderr",
     "output_type": "stream",
     "text": [
      "/Users/afarence/opt/anaconda3/lib/python3.9/site-packages/pandas/core/dtypes/cast.py:131: ShapelyDeprecationWarning: The array interface is deprecated and will no longer work in Shapely 2.0. Convert the '.coords' to a numpy array instead.\n",
      "  arr = construct_1d_object_array_from_listlike(values)\n"
     ]
    }
   ],
   "source": [
    "# Function to geocode an address using googlemaps.Client\n",
    "def geocode_address_gmaps(address):\n",
    "    try:\n",
    "        geocode_result = gmaps_key.geocode(address)\n",
    "        if geocode_result:\n",
    "            location = geocode_result[0]['geometry']['location']\n",
    "            return Point(location['lng'], location['lat'])\n",
    "        else:\n",
    "            return None\n",
    "    except Exception as e:\n",
    "        print(f\"Error geocoding {address}: {e}\")\n",
    "        return None\n",
    "\n",
    "# Apply geocoding function to rows with null geometry\n",
    "df_geo['geometry'] = df_geo.apply(\n",
    "    lambda row: geocode_address_gmaps(row['Full_Address']) if row['geometry'] is None else row['geometry'], \n",
    "    axis=1\n",
    ")"
   ]
  },
  {
   "cell_type": "code",
   "execution_count": 78,
   "id": "4bc6dc33",
   "metadata": {},
   "outputs": [],
   "source": [
    "### Read in neighborhood boundaries\n",
    "neighborhood_boundaries = gpd.read_file(\"Boundaries - Community Areas (current).geojson\")"
   ]
  },
  {
   "cell_type": "code",
   "execution_count": 79,
   "id": "15065ebd",
   "metadata": {},
   "outputs": [],
   "source": [
    "df_geo['Price_int'] = df_geo['Price'].str.replace('$','').str.replace(',','').astype(int)"
   ]
  },
  {
   "cell_type": "code",
   "execution_count": 80,
   "id": "35474e46",
   "metadata": {},
   "outputs": [],
   "source": [
    "# Read in neighborhood boundaries\n",
    "neighborhood_boundaries = gpd.read_file(\"Boundaries - Community Areas (current).geojson\")\n",
    "\n",
    "# Ensure both GeoDataFrames (df_geo and neighborhood_boundaries) have the same CRS\n",
    "if df_geo.crs != neighborhood_boundaries.crs:\n",
    "    df_geo = df_geo.to_crs(neighborhood_boundaries.crs)  # Transform CRS to match\n",
    "\n",
    "# Perform a spatial join to find which points (brokerages) fall within which community (multipolygon)\n",
    "joined_gdf = gpd.sjoin(df_geo, neighborhood_boundaries, how=\"inner\", predicate='within')\n",
    "\n",
    "# Group by community and agent/agent team to get the count and sum of sale prices\n",
    "grouped = joined_gdf.groupby(['community', 'Final_Agent/Team']).agg(\n",
    "    count=('Final_Agent/Team', 'count'),  # Count of how many times an agent or agent team appears\n",
    "    total_price=('Price_int', 'sum')         # Sum sale price\n",
    ").reset_index()\n",
    "\n",
    "# Now, `grouped` contains the count and total price grouped by community and agent/team\n"
   ]
  },
  {
   "cell_type": "code",
   "execution_count": 81,
   "id": "3925ec62",
   "metadata": {},
   "outputs": [
    {
     "data": {
      "text/html": [
       "<div>\n",
       "<style scoped>\n",
       "    .dataframe tbody tr th:only-of-type {\n",
       "        vertical-align: middle;\n",
       "    }\n",
       "\n",
       "    .dataframe tbody tr th {\n",
       "        vertical-align: top;\n",
       "    }\n",
       "\n",
       "    .dataframe thead th {\n",
       "        text-align: right;\n",
       "    }\n",
       "</style>\n",
       "<table border=\"1\" class=\"dataframe\">\n",
       "  <thead>\n",
       "    <tr style=\"text-align: right;\">\n",
       "      <th></th>\n",
       "      <th>community</th>\n",
       "      <th>Final_Agent/Team</th>\n",
       "      <th>count</th>\n",
       "      <th>total_price</th>\n",
       "    </tr>\n",
       "  </thead>\n",
       "  <tbody>\n",
       "    <tr>\n",
       "      <th>0</th>\n",
       "      <td>ALBANY PARK</td>\n",
       "      <td>Abby Powell</td>\n",
       "      <td>1</td>\n",
       "      <td>220000</td>\n",
       "    </tr>\n",
       "    <tr>\n",
       "      <th>1</th>\n",
       "      <td>ALBANY PARK</td>\n",
       "      <td>Adam McDowell</td>\n",
       "      <td>1</td>\n",
       "      <td>299000</td>\n",
       "    </tr>\n",
       "    <tr>\n",
       "      <th>2</th>\n",
       "      <td>ALBANY PARK</td>\n",
       "      <td>Adam Wavrunek</td>\n",
       "      <td>1</td>\n",
       "      <td>180000</td>\n",
       "    </tr>\n",
       "    <tr>\n",
       "      <th>3</th>\n",
       "      <td>ALBANY PARK</td>\n",
       "      <td>Adam Zenullahi</td>\n",
       "      <td>2</td>\n",
       "      <td>533000</td>\n",
       "    </tr>\n",
       "    <tr>\n",
       "      <th>4</th>\n",
       "      <td>ALBANY PARK</td>\n",
       "      <td>Adrian Abonce</td>\n",
       "      <td>1</td>\n",
       "      <td>499000</td>\n",
       "    </tr>\n",
       "    <tr>\n",
       "      <th>...</th>\n",
       "      <td>...</td>\n",
       "      <td>...</td>\n",
       "      <td>...</td>\n",
       "      <td>...</td>\n",
       "    </tr>\n",
       "    <tr>\n",
       "      <th>34502</th>\n",
       "      <td>WOODLAWN</td>\n",
       "      <td>William Salamone</td>\n",
       "      <td>1</td>\n",
       "      <td>160000</td>\n",
       "    </tr>\n",
       "    <tr>\n",
       "      <th>34503</th>\n",
       "      <td>WOODLAWN</td>\n",
       "      <td>William Volpe</td>\n",
       "      <td>1</td>\n",
       "      <td>127500</td>\n",
       "    </tr>\n",
       "    <tr>\n",
       "      <th>34504</th>\n",
       "      <td>WOODLAWN</td>\n",
       "      <td>Willie Whitehead</td>\n",
       "      <td>1</td>\n",
       "      <td>450000</td>\n",
       "    </tr>\n",
       "    <tr>\n",
       "      <th>34505</th>\n",
       "      <td>WOODLAWN</td>\n",
       "      <td>Yannetta Alexander</td>\n",
       "      <td>1</td>\n",
       "      <td>137800</td>\n",
       "    </tr>\n",
       "    <tr>\n",
       "      <th>34506</th>\n",
       "      <td>WOODLAWN</td>\n",
       "      <td>Yannis Arbis</td>\n",
       "      <td>1</td>\n",
       "      <td>867500</td>\n",
       "    </tr>\n",
       "  </tbody>\n",
       "</table>\n",
       "<p>34507 rows × 4 columns</p>\n",
       "</div>"
      ],
      "text/plain": [
       "         community    Final_Agent/Team  count  total_price\n",
       "0      ALBANY PARK         Abby Powell      1       220000\n",
       "1      ALBANY PARK       Adam McDowell      1       299000\n",
       "2      ALBANY PARK       Adam Wavrunek      1       180000\n",
       "3      ALBANY PARK      Adam Zenullahi      2       533000\n",
       "4      ALBANY PARK       Adrian Abonce      1       499000\n",
       "...            ...                 ...    ...          ...\n",
       "34502     WOODLAWN    William Salamone      1       160000\n",
       "34503     WOODLAWN       William Volpe      1       127500\n",
       "34504     WOODLAWN    Willie Whitehead      1       450000\n",
       "34505     WOODLAWN  Yannetta Alexander      1       137800\n",
       "34506     WOODLAWN        Yannis Arbis      1       867500\n",
       "\n",
       "[34507 rows x 4 columns]"
      ]
     },
     "execution_count": 81,
     "metadata": {},
     "output_type": "execute_result"
    }
   ],
   "source": [
    "grouped"
   ]
  },
  {
   "cell_type": "code",
   "execution_count": 83,
   "id": "9bfc993d",
   "metadata": {},
   "outputs": [
    {
     "name": "stdout",
     "output_type": "stream",
     "text": [
      "$26,278,358,580\n"
     ]
    }
   ],
   "source": [
    "print(f'${grouped.total_price.sum():,}')"
   ]
  },
  {
   "cell_type": "code",
   "execution_count": 84,
   "id": "eb46d66b",
   "metadata": {},
   "outputs": [],
   "source": [
    "# Group by 'community' and find the row with the maximum 'count' in each group\n",
    "max_count_idx = grouped.groupby(\"community\")['count'].idxmax()\n",
    "\n",
    "# Use the indices to retrieve the rows with the highest 'count' in each community\n",
    "agent_result = grouped.loc[max_count_idx, ['community','Final_Agent/Team','count','total_price']]\n",
    "\n",
    "agent_result = agent_result.rename(columns={'count':'agent_count','total_price':'agent_price'})"
   ]
  },
  {
   "cell_type": "code",
   "execution_count": 85,
   "id": "8fa0866d",
   "metadata": {},
   "outputs": [],
   "source": [
    "community_result = grouped.groupby('community').agg({'count':'sum','total_price':'sum'})\n",
    "\n",
    "community_result = community_result.rename(columns={'count':'community_count','total_price':'community_price'})"
   ]
  },
  {
   "cell_type": "code",
   "execution_count": 86,
   "id": "f95d3d64",
   "metadata": {},
   "outputs": [],
   "source": [
    "merged_df = pd.merge(left=agent_result, left_on='community', how='inner',\n",
    "                     right=community_result, right_on='community')"
   ]
  },
  {
   "cell_type": "code",
   "execution_count": 87,
   "id": "69c96ec1",
   "metadata": {},
   "outputs": [],
   "source": [
    "neighborhood_boundaries = neighborhood_boundaries.drop(columns=['area', 'shape_area', 'perimeter', 'area_num_1',\n",
    "       'area_numbe', 'comarea_id', 'comarea', 'shape_len'])"
   ]
  },
  {
   "cell_type": "code",
   "execution_count": 101,
   "id": "aa453a13",
   "metadata": {},
   "outputs": [],
   "source": [
    "# final_merge = pd.merge(left=merged_df, left_on='community',how='inner',\n",
    "#                       right=neighborhood_boundaries, right_on='community')"
   ]
  },
  {
   "cell_type": "code",
   "execution_count": 88,
   "id": "ca4371c0",
   "metadata": {},
   "outputs": [],
   "source": [
    "final_merge = neighborhood_boundaries.merge(merged_df, on='community')"
   ]
  },
  {
   "cell_type": "code",
   "execution_count": 99,
   "id": "7477e0da",
   "metadata": {},
   "outputs": [],
   "source": [
    "final_merge = final_merge.rename(columns={'Final_Agent/Team':'final_agent_team'})"
   ]
  },
  {
   "cell_type": "code",
   "execution_count": 103,
   "id": "d6ef8602",
   "metadata": {},
   "outputs": [],
   "source": [
    "final_merge.to_file(\"final_merge.geojson\",driver='GeoJSON')"
   ]
  },
  {
   "cell_type": "code",
   "execution_count": 102,
   "id": "4f5b3a63",
   "metadata": {},
   "outputs": [
    {
     "data": {
      "text/plain": [
       "Index(['community', 'geometry', 'final_agent_team', 'agent_count',\n",
       "       'agent_price', 'community_count', 'community_price'],\n",
       "      dtype='object')"
      ]
     },
     "execution_count": 102,
     "metadata": {},
     "output_type": "execute_result"
    }
   ],
   "source": [
    "final_merge.columns"
   ]
  },
  {
   "cell_type": "code",
   "execution_count": 90,
   "id": "8bb2c78f",
   "metadata": {},
   "outputs": [
    {
     "data": {
      "text/plain": [
       "3345481313"
      ]
     },
     "execution_count": 90,
     "metadata": {},
     "output_type": "execute_result"
    }
   ],
   "source": [
    "final_merge['community_price'].max()"
   ]
  },
  {
   "cell_type": "code",
   "execution_count": 91,
   "id": "c378a915",
   "metadata": {},
   "outputs": [
    {
     "data": {
      "text/plain": [
       "780000"
      ]
     },
     "execution_count": 91,
     "metadata": {},
     "output_type": "execute_result"
    }
   ],
   "source": [
    "final_merge['community_price'].min()"
   ]
  },
  {
   "cell_type": "code",
   "execution_count": 92,
   "id": "55e80b47",
   "metadata": {},
   "outputs": [
    {
     "data": {
      "text/html": [
       "<div>\n",
       "<style scoped>\n",
       "    .dataframe tbody tr th:only-of-type {\n",
       "        vertical-align: middle;\n",
       "    }\n",
       "\n",
       "    .dataframe tbody tr th {\n",
       "        vertical-align: top;\n",
       "    }\n",
       "\n",
       "    .dataframe thead th {\n",
       "        text-align: right;\n",
       "    }\n",
       "</style>\n",
       "<table border=\"1\" class=\"dataframe\">\n",
       "  <thead>\n",
       "    <tr style=\"text-align: right;\">\n",
       "      <th></th>\n",
       "      <th>community</th>\n",
       "      <th>geometry</th>\n",
       "      <th>Final_Agent/Team</th>\n",
       "      <th>agent_count</th>\n",
       "      <th>agent_price</th>\n",
       "      <th>community_count</th>\n",
       "      <th>community_price</th>\n",
       "    </tr>\n",
       "  </thead>\n",
       "  <tbody>\n",
       "    <tr>\n",
       "      <th>0</th>\n",
       "      <td>DOUGLAS</td>\n",
       "      <td>MULTIPOLYGON (((-87.60914 41.84469, -87.60915 ...</td>\n",
       "      <td>Xiaohuang Wu</td>\n",
       "      <td>6</td>\n",
       "      <td>1457500</td>\n",
       "      <td>231</td>\n",
       "      <td>63789252</td>\n",
       "    </tr>\n",
       "  </tbody>\n",
       "</table>\n",
       "</div>"
      ],
      "text/plain": [
       "  community                                           geometry  \\\n",
       "0   DOUGLAS  MULTIPOLYGON (((-87.60914 41.84469, -87.60915 ...   \n",
       "\n",
       "  Final_Agent/Team  agent_count  agent_price  community_count  community_price  \n",
       "0     Xiaohuang Wu            6      1457500              231         63789252  "
      ]
     },
     "execution_count": 92,
     "metadata": {},
     "output_type": "execute_result"
    }
   ],
   "source": [
    "final_merge.head(1)"
   ]
  },
  {
   "cell_type": "code",
   "execution_count": 95,
   "id": "2ff3deb6",
   "metadata": {},
   "outputs": [
    {
     "data": {
      "text/plain": [
       "Index(['community', 'geometry', 'Final_Agent/Team', 'agent_count',\n",
       "       'agent_price', 'community_count', 'community_price'],\n",
       "      dtype='object')"
      ]
     },
     "execution_count": 95,
     "metadata": {},
     "output_type": "execute_result"
    }
   ],
   "source": [
    "final_merge.columns"
   ]
  },
  {
   "cell_type": "code",
   "execution_count": 77,
   "id": "815498b9",
   "metadata": {},
   "outputs": [
    {
     "name": "stdout",
     "output_type": "stream",
     "text": [
      "DOUGLAS -- $62,331,752\n",
      "DOUGLAS -- 276143.94805194804%\n",
      "Xiaohuang Wu -- $242,916.66666666666\n",
      "------------\n",
      "OAKLAND -- $25,834,000\n",
      "OAKLAND -- 378097.1830985916%\n",
      "Lane Chesebro -- $336,966.6666666667\n",
      "------------\n",
      "FULLER PARK -- $11,842,822\n",
      "FULLER PARK -- 294591.0%\n",
      "Roger Valdez -- $265,000.0\n",
      "------------\n",
      "GRAND BOULEVARD -- $168,567,482\n",
      "GRAND BOULEVARD -- 442955.056122449%\n",
      "Naja Morris -- $563,433.3333333334\n",
      "------------\n",
      "KENWOOD -- $137,259,633\n",
      "KENWOOD -- 469941.3194888179%\n",
      "Robert Sullivan -- $1,092,444.4444444445\n",
      "------------\n",
      "LINCOLN SQUARE -- $557,339,463\n",
      "LINCOLN SQUARE -- 626392.6255555556%\n",
      "Biazar Group -- $583,081.8181818182\n",
      "------------\n",
      "WASHINGTON PARK -- $25,571,700\n",
      "WASHINGTON PARK -- 375021.5189873418%\n",
      "Biazar Group -- $1,013,750.0\n",
      "------------\n",
      "HYDE PARK -- $173,981,394\n",
      "HYDE PARK -- 337016.3384030418%\n",
      "Jinhong Wang -- $137,050.0\n",
      "------------\n",
      "WOODLAWN -- $158,172,766\n",
      "WOODLAWN -- 430397.56135770236%\n",
      "Biazar Group -- $741,055.5555555555\n",
      "------------\n",
      "ROGERS PARK -- $286,136,868\n",
      "ROGERS PARK -- 294965.6739562624%\n",
      "Connie Abels -- $286,448.64864864864\n",
      "------------\n",
      "JEFFERSON PARK -- $237,518,984\n",
      "JEFFERSON PARK -- 444699.88108108105%\n",
      "Jason O'Beirne -- $844,495.4545454546\n",
      "------------\n",
      "FOREST GLEN -- $236,619,996\n",
      "FOREST GLEN -- 594647.4700239808%\n",
      "Patty Cerny -- $810,571.3571428572\n",
      "------------\n",
      "NORTH PARK -- $113,552,002\n",
      "NORTH PARK -- 485175.74058577407%\n",
      "Anthony Rodriguez -- $601,250.0\n",
      "------------\n",
      "ALBANY PARK -- $307,245,074\n",
      "ALBANY PARK -- 458192.8506401138%\n",
      "Erlend Candea -- $743,225.0\n",
      "------------\n",
      "PORTAGE PARK -- $488,461,051\n",
      "PORTAGE PARK -- 434577.27360988525%\n",
      "MG Group Chicago -- $489,375.0\n",
      "------------\n",
      "IRVING PARK -- $545,614,128\n",
      "IRVING PARK -- 516064.3789868668%\n",
      "MG Group Chicago -- $501,166.6666666667\n",
      "------------\n",
      "DUNNING -- $302,519,563\n",
      "DUNNING -- 362755.7229488704%\n",
      "Antonio Sarmiento -- $365,428.5714285714\n",
      "------------\n",
      "MONTCLARE -- $50,281,500\n",
      "MONTCLARE -- 378480.8823529412%\n",
      "Maria Gutierrez -- $397,300.0\n",
      "------------\n",
      "BELMONT CRAGIN -- $232,223,460\n",
      "BELMONT CRAGIN -- 377880.35313001607%\n",
      "Janusz Kulesza -- $456,571.4285714286\n",
      "------------\n",
      "WEST RIDGE -- $331,361,447\n",
      "WEST RIDGE -- 382494.6378923767%\n",
      "Andrew Glatz -- $517,040.5263157895\n",
      "------------\n",
      "HERMOSA -- $68,864,200\n",
      "HERMOSA -- 417911.90476190473%\n",
      "Juan Moxthe -- $448,333.3333333333\n",
      "------------\n",
      "AVONDALE -- $299,308,484\n",
      "AVONDALE -- 530218.9947643979%\n",
      "Lowe Group Chicago -- $643,857.1428571428\n",
      "------------\n",
      "LOGAN SQUARE -- $1,287,474,421\n",
      "LOGAN SQUARE -- 722424.4025470653%\n",
      "Ben Lalez Team -- $782,911.3636363636\n",
      "------------\n",
      "HUMBOLDT PARK -- $237,399,986\n",
      "HUMBOLDT PARK -- 395360.468852459%\n",
      "Jason O'Beirne -- $628,316.6666666666\n",
      "------------\n",
      "WEST TOWN -- $2,256,610,248\n",
      "WEST TOWN -- 701417.7118799755%\n",
      "The Laricy Team -- $658,076.9038461539\n",
      "------------\n",
      "AUSTIN -- $353,072,049\n",
      "AUSTIN -- 329601.41979835014%\n",
      "Cedrick Hunter -- $383,711.76470588235\n",
      "------------\n",
      "WEST GARFIELD PARK -- $49,708,902\n",
      "WEST GARFIELD PARK -- 279394.06486486486%\n",
      "Sagar Shah -- $329,833.3333333333\n",
      "------------\n",
      "EAST GARFIELD PARK -- $101,140,584\n",
      "EAST GARFIELD PARK -- 346936.3409836066%\n",
      "Annette Shelton -- $246,052.63157894736\n",
      "------------\n",
      "NEAR WEST SIDE -- $1,309,939,947\n",
      "NEAR WEST SIDE -- 666045.6467592593%\n",
      "The Sheahan Group -- $2,475,358.653846154\n",
      "------------\n",
      "NORTH LAWNDALE -- $118,758,285\n",
      "NORTH LAWNDALE -- 309164.4117647059%\n",
      "Sagar Shah -- $354,166.6666666667\n",
      "------------\n",
      "UPTOWN -- $662,561,033\n",
      "UPTOWN -- 424127.9499683344%\n",
      "Ben Lalez Team -- $396,500.0\n",
      "------------\n",
      "SOUTH LAWNDALE -- $77,567,953\n",
      "SOUTH LAWNDALE -- 290882.6043956044%\n",
      "Luis Ortiz -- $263,285.4285714286\n",
      "------------\n",
      "LOWER WEST SIDE -- $139,979,871\n",
      "LOWER WEST SIDE -- 503031.01748251746%\n",
      "Biazar Group -- $555,285.7142857143\n",
      "------------\n",
      "NEAR SOUTH SIDE -- $542,210,633\n",
      "NEAR SOUTH SIDE -- 462731.7820408163%\n",
      "Nadine Ferrata -- $665,832.4324324324\n",
      "------------\n",
      "ARMOUR SQUARE -- $39,395,200\n",
      "ARMOUR SQUARE -- 429203.0303030303%\n",
      "QianKun Chen -- $343,988.8888888889\n",
      "------------\n",
      "NORWOOD PARK -- $351,358,376\n",
      "NORWOOD PARK -- 416623.5560693642%\n",
      "Lisa Sanders -- $474,789.4736842105\n",
      "------------\n",
      "NEAR NORTH SIDE -- $3,279,136,894\n",
      "NEAR NORTH SIDE -- 589616.0227352837%\n",
      "The Laricy Team -- $502,609.23484848486\n",
      "------------\n",
      "LOOP -- $1,037,361,315\n",
      "LOOP -- 555504.6345951629%\n",
      "The Laricy Team -- $436,556.8181818182\n",
      "------------\n",
      "SOUTH SHORE -- $117,613,409\n",
      "SOUTH SHORE -- 280708.2131147541%\n",
      "Frank Montro -- $249,888.66666666666\n",
      "------------\n",
      "CHATHAM -- $100,270,784\n",
      "CHATHAM -- 252852.86848635235%\n",
      "Scott Berg -- $325,784.4\n",
      "------------\n",
      "AVALON PARK -- $34,583,481\n",
      "AVALON PARK -- 242681.37671232875%\n",
      "Lisa Foster -- $282,666.6666666667\n",
      "------------\n",
      "SOUTH CHICAGO -- $73,261,070\n",
      "SOUTH CHICAGO -- 230080.40247678017%\n",
      "Frank Montro -- $210,980.0\n",
      "------------\n",
      "BURNSIDE -- $7,362,000\n",
      "BURNSIDE -- 232756.75675675675%\n",
      "Anthony Hardy -- $625,000.0\n",
      "------------\n",
      "MCKINLEY PARK -- $58,446,072\n",
      "MCKINLEY PARK -- 392815.7452229299%\n",
      "Qizhong Guan -- $358,444.44444444444\n",
      "------------\n",
      "LAKE VIEW -- $2,230,279,254\n",
      "LAKE VIEW -- 610629.276330076%\n",
      "Grigory Pekarsky -- $428,422.22222222225\n",
      "------------\n",
      "CALUMET HEIGHTS -- $74,307,284\n",
      "CALUMET HEIGHTS -- 238287.4106583072%\n",
      "Frank Montro -- $284,400.0\n",
      "------------\n",
      "ROSELAND -- $136,522,224\n",
      "ROSELAND -- 213984.5069124424%\n",
      "Frank Montro -- $213,976.15384615384\n",
      "------------\n",
      "NORTH CENTER -- $646,377,483\n",
      "NORTH CENTER -- 688149.6998961578%\n",
      "Leigh Marcus Properties -- $741,394.4545454546\n",
      "------------\n",
      "PULLMAN -- $23,526,574\n",
      "PULLMAN -- 207957.5344827586%\n",
      "Leslie Smith -- $198,833.33333333334\n",
      "------------\n",
      "SOUTH DEERING -- $19,693,696\n",
      "SOUTH DEERING -- 170358.16393442624%\n",
      "Carlos Sanchez -- $272,500.0\n",
      "------------\n",
      "EAST SIDE -- $50,065,000\n",
      "EAST SIDE -- 235621.88841201717%\n",
      "Carlos Sanchez -- $254,468.42105263157\n",
      "------------\n",
      "WEST PULLMAN -- $89,219,162\n",
      "WEST PULLMAN -- 199841.95132743364%\n",
      "Frank Montro -- $158,485.7142857143\n",
      "------------\n",
      "RIVERDALE -- $670,000\n",
      "RIVERDALE -- 130000.0%\n",
      "Adrian Jackson -- $110,000.0\n",
      "------------\n",
      "HEGEWISCH -- $33,603,472\n",
      "HEGEWISCH -- 239615.24832214764%\n",
      "Carlos Sanchez -- $262,400.0\n",
      "------------\n",
      "GARFIELD RIDGE -- $206,096,004\n",
      "GARFIELD RIDGE -- 339952.6982055465%\n",
      "Al Cacciottolo -- $327,857.14285714284\n",
      "------------\n",
      "ARCHER HEIGHTS -- $40,332,400\n",
      "ARCHER HEIGHTS -- 324940.625%\n",
      "Gaspar Flores -- $420,000.0\n",
      "------------\n",
      "BRIGHTON PARK -- $86,664,777\n",
      "BRIGHTON PARK -- 306422.2169491525%\n",
      "QianKun Chen -- $339,070.63636363635\n",
      "------------\n",
      "BRIDGEPORT -- $221,987,066\n",
      "BRIDGEPORT -- 553050.6425120773%\n",
      "QianKun Chen -- $410,347.0588235294\n",
      "------------\n",
      "NEW CITY -- $103,523,402\n",
      "NEW CITY -- 265499.2493702771%\n",
      "Erica Esquivel -- $313,300.0\n",
      "------------\n",
      "WEST ELSDON -- $58,267,908\n",
      "WEST ELSDON -- 293450.0396039604%\n",
      "Eliseo Guzman -- $252,250.0\n",
      "------------\n",
      "GAGE PARK -- $52,755,598\n",
      "GAGE PARK -- 293183.5%\n",
      "Maria Castillo -- $393,816.6666666667\n",
      "------------\n",
      "CLEARING -- $115,392,500\n",
      "CLEARING -- 281404.8076923077%\n",
      "Uriel Ayala -- $208,987.5\n",
      "------------\n",
      "WEST LAWN -- $80,315,514\n",
      "WEST LAWN -- 291690.7642857143%\n",
      "Maria Castillo -- $271,580.0\n",
      "------------\n",
      "CHICAGO LAWN -- $129,738,674\n",
      "CHICAGO LAWN -- 274570.7536231884%\n",
      "Andres Olaez -- $287,900.0\n",
      "------------\n",
      "WEST ENGLEWOOD -- $97,988,440\n",
      "WEST ENGLEWOOD -- 221177.14922048998%\n",
      "Andres Olaez -- $220,016.66666666666\n",
      "------------\n",
      "ENGLEWOOD -- $75,052,162\n",
      "ENGLEWOOD -- 249767.74098360655%\n",
      "Amanda Stapleton -- $281,749.75\n",
      "------------\n",
      "GREATER GRAND CROSSING -- $98,431,154\n",
      "GREATER GRAND CROSSING -- 268454.7150537634%\n",
      "Frank Montro -- $239,000.0\n",
      "------------\n",
      "LINCOLN PARK -- $2,290,224,091\n",
      "LINCOLN PARK -- 902385.5289909638%\n",
      "ESW Chicago -- $1,690,664.6666666667\n",
      "------------\n",
      "ASHBURN -- $167,208,312\n",
      "ASHBURN -- 271222.985645933%\n",
      "Salvador Gonzalez -- $316,500.0\n",
      "------------\n",
      "AUBURN GRESHAM -- $155,431,867\n",
      "AUBURN GRESHAM -- 244743.6302652106%\n",
      "Frank Montro -- $289,760.0\n",
      "------------\n",
      "BEVERLY -- $153,025,205\n",
      "BEVERLY -- 408680.0128205128%\n",
      "Nancy Hotchkiss -- $530,000.0\n",
      "------------\n",
      "WASHINGTON HEIGHTS -- $105,585,046\n",
      "WASHINGTON HEIGHTS -- 228211.21822033898%\n",
      "Frank Montro -- $236,738.77777777778\n",
      "------------\n",
      "MOUNT GREENWOOD -- $116,233,416\n",
      "MOUNT GREENWOOD -- 324305.8779840849%\n",
      "Meghan Healy -- $354,700.0\n",
      "------------\n",
      "MORGAN PARK -- $105,156,522\n",
      "MORGAN PARK -- 272246.8911392405%\n",
      "Mary Fitzpatrick Duleba -- $297,625.0\n",
      "------------\n",
      "OHARE -- $70,139,688\n",
      "OHARE -- 305671.0689655172%\n",
      "Chabane Bounab -- $194,000.0\n",
      "------------\n",
      "EDGEWATER -- $577,958,819\n",
      "EDGEWATER -- 382828.1662286465%\n",
      "Margaret Dralyuk -- $196,068.75\n",
      "------------\n",
      "EDISON PARK -- $130,212,912\n",
      "EDISON PARK -- 457264.0134680135%\n",
      "Dan Kieres -- $466,208.3333333333\n",
      "------------\n"
     ]
    }
   ],
   "source": [
    "for i, row in final_merge.iterrows():\n",
    "    if row['community_price'] > row['agent_price']:\n",
    "        print(f\"{row['community']} -- ${row['community_price'] - row['agent_price']:,}\")\n",
    "        print(f\"{row['community']} -- {row['community_price'] / row['community_count']:}%\")\n",
    "        print(f\"{row['Final_Agent/Team']} -- ${row['agent_price'] / row['brokerage_count']:,}\")\n",
    "        print('------------')\n",
    "    else:\n",
    "        print('Not great!')"
   ]
  },
  {
   "cell_type": "code",
   "execution_count": 93,
   "id": "fcd2b2f0",
   "metadata": {},
   "outputs": [
    {
     "name": "stdout",
     "output_type": "stream",
     "text": [
      "https://trd-digital.github.io/trd-news-interactive-maps/CookCountyBrokersNeighborhoods_12_4_2024\n"
     ]
    }
   ],
   "source": [
    "base_name = 'https://trd-digital.github.io/trd-news-interactive-maps/'\n",
    "\n",
    "cwd = os.getcwd()\n",
    "\n",
    "cwd = cwd.split('/')\n",
    "\n",
    "final_name = base_name + cwd[-1]\n",
    "print(final_name)"
   ]
  },
  {
   "cell_type": "code",
   "execution_count": 94,
   "id": "f7c62007",
   "metadata": {},
   "outputs": [],
   "source": [
    "df_geo.to_csv(\"backup_geocoded_csv.csv\")"
   ]
  }
 ],
 "metadata": {
  "kernelspec": {
   "display_name": "Python 3 (ipykernel)",
   "language": "python",
   "name": "python3"
  },
  "language_info": {
   "codemirror_mode": {
    "name": "ipython",
    "version": 3
   },
   "file_extension": ".py",
   "mimetype": "text/x-python",
   "name": "python",
   "nbconvert_exporter": "python",
   "pygments_lexer": "ipython3",
   "version": "3.9.12"
  }
 },
 "nbformat": 4,
 "nbformat_minor": 5
}
