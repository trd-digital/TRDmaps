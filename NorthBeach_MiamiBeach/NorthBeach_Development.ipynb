{
 "cells": [
  {
   "cell_type": "code",
   "execution_count": 21,
   "metadata": {},
   "outputs": [],
   "source": [
    "import googlemaps\n",
    "import pandas as pd\n",
    "import numpy as np\n",
    "import re\n",
    "import os\n",
    "import geopandas as gpd\n",
    "import folium\n",
    "from textwrap import shorten\n",
    "import requests\n",
    "\n",
    "from bs4 import BeautifulSoup"
   ]
  },
  {
   "cell_type": "code",
   "execution_count": 22,
   "metadata": {},
   "outputs": [],
   "source": [
    "%store -r google_maps_API_Key\n",
    "gmaps_key = googlemaps.Client(key=google_maps_API_Key)"
   ]
  },
  {
   "cell_type": "code",
   "execution_count": 23,
   "metadata": {},
   "outputs": [],
   "source": [
    "df = pd.read_csv('NorthBeach_map_template_popup_pin - Sheet1.csv')"
   ]
  },
  {
   "cell_type": "code",
   "execution_count": 24,
   "metadata": {},
   "outputs": [],
   "source": [
    "df['geo_address'] = df['full_address'] + ' in Miami Beach\\'s North Beach'"
   ]
  },
  {
   "cell_type": "code",
   "execution_count": 25,
   "metadata": {},
   "outputs": [],
   "source": [
    "def geocode(add):\n",
    "    g = gmaps_key.geocode(add)\n",
    "    lat = g[0][\"geometry\"][\"location\"][\"lat\"]\n",
    "    lng = g[0][\"geometry\"][\"location\"][\"lng\"]\n",
    "    return (lat, lng)\n",
    "\n",
    "df['geocoded'] = df['geo_address'].apply(geocode)"
   ]
  },
  {
   "cell_type": "code",
   "execution_count": 26,
   "metadata": {},
   "outputs": [],
   "source": [
    "df['geocoded'] = df['geocoded'].astype(str)\n",
    "df[['lat', 'lon']] = df['geocoded'].str.strip('()').str.split(', ', expand=True)\n",
    "df['lat'] = df['lat'].astype(float)\n",
    "df['lon'] = df['lon'].astype(float)"
   ]
  },
  {
   "cell_type": "markdown",
   "metadata": {},
   "source": [
    "## Image URL Collector"
   ]
  },
  {
   "cell_type": "code",
   "execution_count": 27,
   "metadata": {},
   "outputs": [],
   "source": [
    "df['image_links'] = ''\n",
    "links = []\n",
    "for url in df['story_link']:\n",
    "    try:\n",
    "        page = requests.get(url)\n",
    "        soup = BeautifulSoup(page.content, 'html.parser')\n",
    "        images = soup.find('img',{'class':'MainArtImage_image__2YtGm'})\n",
    "        images = images['src']\n",
    "        links.append(images)\n",
    "    except:\n",
    "        links.append('no_image')\n",
    "\n",
    "df['image_links'] = links"
   ]
  },
  {
   "cell_type": "code",
   "execution_count": 28,
   "metadata": {},
   "outputs": [
    {
     "name": "stdout",
     "output_type": "stream",
     "text": [
      "https://therealdeal.com/miami/2023/06/29/russell-galbut-partners-tap-cervera-to-sell-north-beach-condos/\n"
     ]
    }
   ],
   "source": [
    "print(df['story_link'].iloc[0])"
   ]
  },
  {
   "cell_type": "code",
   "execution_count": 29,
   "metadata": {},
   "outputs": [
    {
     "data": {
      "text/plain": [
       "'https://static.therealdeal.com/wp-content/uploads/2023/06/main_MIA_Ella-Miami-Beach-1400x875.jpg'"
      ]
     },
     "execution_count": 29,
     "metadata": {},
     "output_type": "execute_result"
    }
   ],
   "source": [
    "# df.at[20,'image_img']=('<img src=\"Aimco.jpg\" width=\"256\" height=\"156\">')\n",
    "df['image_links'].iloc[1]"
   ]
  },
  {
   "cell_type": "code",
   "execution_count": 30,
   "metadata": {},
   "outputs": [],
   "source": [
    "# df.at[4,'image_links']=('https://therealdeal.com/wp-content/uploads/2019/10/trd-logo-16x9.jpg')"
   ]
  },
  {
   "cell_type": "code",
   "execution_count": 31,
   "metadata": {},
   "outputs": [
    {
     "data": {
      "text/plain": [
       "0    <a href=\"https://therealdeal.com/miami/2023/06...\n",
       "1    <a href=\"https://therealdeal.com/miami/2023/06...\n",
       "2    <a href=\"https://therealdeal.com/miami/2022/07...\n",
       "3    <a href=\"https://therealdeal.com/miami/2021/04...\n",
       "4                                                  NaN\n",
       "Name: description_link, dtype: object"
      ]
     },
     "execution_count": 31,
     "metadata": {},
     "output_type": "execute_result"
    }
   ],
   "source": [
    "df[\"short_description\"] = df[\"description\"].apply(lambda s: shorten(s, width=20, placeholder=\"\"))\n",
    "df['remaining_desc'] = df.apply(lambda row : row['description'].replace(str(row['short_description']), ''), axis=1)\n",
    "df['remaining_desc']\n",
    "\n",
    "df[\"description_link\"] = '<a href=\"' + df[\"story_link\"] + '\" target=\"_blank\" rel=\"noopener noreferrer\">' + df[\"short_description\"] + \"</a>\" + df[\"remaining_desc\"]\n",
    "df['description_link']"
   ]
  },
  {
   "cell_type": "code",
   "execution_count": 32,
   "metadata": {},
   "outputs": [
    {
     "data": {
      "text/plain": [
       "Index(['full_address', 'developers', 'condos_or_apts', 'units', 'description',\n",
       "       'story_link', 'geo_address', 'geocoded', 'lat', 'lon', 'image_links',\n",
       "       'short_description', 'remaining_desc', 'description_link'],\n",
       "      dtype='object')"
      ]
     },
     "execution_count": 32,
     "metadata": {},
     "output_type": "execute_result"
    }
   ],
   "source": [
    "df.columns"
   ]
  },
  {
   "cell_type": "code",
   "execution_count": 33,
   "metadata": {},
   "outputs": [],
   "source": [
    "def popup_html(row):\n",
    "    i = row\n",
    "    address = df['full_address'].iloc[i]\n",
    "    developer = df['developers'].iloc[i]\n",
    "    image = df['image_links'].iloc[i]\n",
    "    description = df['description_link'].iloc[i]\n",
    "    \n",
    "    html = '''<!DOCTYPE html>\n",
    "    <html>\n",
    "    <img src={} width=\"256\" height=\"156\">'''.format(image) + '''<br>______________________________________<br>\n",
    "    <strong>Address: </strong>{}'''.format(address) + '''<br>\n",
    "    <strong>Developer: </strong>{}'''.format(developer) + '''<br>\n",
    "    {}'''.format(description) + '''<br>\n",
    "    </html>\n",
    "    '''\n",
    "    return html"
   ]
  },
  {
   "cell_type": "code",
   "execution_count": 34,
   "metadata": {
    "scrolled": false
   },
   "outputs": [
    {
     "data": {
      "text/html": [
       "<div style=\"width:100%;\"><div style=\"position:relative;width:100%;height:0;padding-bottom:60%;\"><span style=\"color:#565656\">Make this Notebook Trusted to load map: File -> Trust Notebook</span><iframe srcdoc=\"&lt;!DOCTYPE html&gt;\n",
       "&lt;head&gt;    \n",
       "    &lt;meta http-equiv=&quot;content-type&quot; content=&quot;text/html; charset=UTF-8&quot; /&gt;\n",
       "    \n",
       "        &lt;script&gt;\n",
       "            L_NO_TOUCH = false;\n",
       "            L_DISABLE_3D = false;\n",
       "        &lt;/script&gt;\n",
       "    \n",
       "    &lt;style&gt;html, body {width: 100%;height: 100%;margin: 0;padding: 0;}&lt;/style&gt;\n",
       "    &lt;style&gt;#map {position:absolute;top:0;bottom:0;right:0;left:0;}&lt;/style&gt;\n",
       "    &lt;script src=&quot;https://cdn.jsdelivr.net/npm/leaflet@1.6.0/dist/leaflet.js&quot;&gt;&lt;/script&gt;\n",
       "    &lt;script src=&quot;https://code.jquery.com/jquery-1.12.4.min.js&quot;&gt;&lt;/script&gt;\n",
       "    &lt;script src=&quot;https://maxcdn.bootstrapcdn.com/bootstrap/3.2.0/js/bootstrap.min.js&quot;&gt;&lt;/script&gt;\n",
       "    &lt;script src=&quot;https://cdnjs.cloudflare.com/ajax/libs/Leaflet.awesome-markers/2.0.2/leaflet.awesome-markers.js&quot;&gt;&lt;/script&gt;\n",
       "    &lt;link rel=&quot;stylesheet&quot; href=&quot;https://cdn.jsdelivr.net/npm/leaflet@1.6.0/dist/leaflet.css&quot;/&gt;\n",
       "    &lt;link rel=&quot;stylesheet&quot; href=&quot;https://maxcdn.bootstrapcdn.com/bootstrap/3.2.0/css/bootstrap.min.css&quot;/&gt;\n",
       "    &lt;link rel=&quot;stylesheet&quot; href=&quot;https://maxcdn.bootstrapcdn.com/bootstrap/3.2.0/css/bootstrap-theme.min.css&quot;/&gt;\n",
       "    &lt;link rel=&quot;stylesheet&quot; href=&quot;https://maxcdn.bootstrapcdn.com/font-awesome/4.6.3/css/font-awesome.min.css&quot;/&gt;\n",
       "    &lt;link rel=&quot;stylesheet&quot; href=&quot;https://cdnjs.cloudflare.com/ajax/libs/Leaflet.awesome-markers/2.0.2/leaflet.awesome-markers.css&quot;/&gt;\n",
       "    &lt;link rel=&quot;stylesheet&quot; href=&quot;https://cdn.jsdelivr.net/gh/python-visualization/folium/folium/templates/leaflet.awesome.rotate.min.css&quot;/&gt;\n",
       "    \n",
       "            &lt;meta name=&quot;viewport&quot; content=&quot;width=device-width,\n",
       "                initial-scale=1.0, maximum-scale=1.0, user-scalable=no&quot; /&gt;\n",
       "            &lt;style&gt;\n",
       "                #map_ffb4a10c27700125c9d898690108ebaf {\n",
       "                    position: relative;\n",
       "                    width: 100.0%;\n",
       "                    height: 100.0%;\n",
       "                    left: 0.0%;\n",
       "                    top: 0.0%;\n",
       "                }\n",
       "            &lt;/style&gt;\n",
       "        \n",
       "&lt;/head&gt;\n",
       "&lt;body&gt;    \n",
       "    \n",
       "              &lt;h3 align=&quot;center&quot; style=&quot;font-size:16px&quot;&gt;&lt;b&gt;North Beach Development Projects&lt;/b&gt;&lt;/h3&gt;\n",
       "             \n",
       "    \n",
       "            &lt;div class=&quot;folium-map&quot; id=&quot;map_ffb4a10c27700125c9d898690108ebaf&quot; &gt;&lt;/div&gt;\n",
       "        \n",
       "&lt;/body&gt;\n",
       "&lt;script&gt;    \n",
       "    \n",
       "            var map_ffb4a10c27700125c9d898690108ebaf = L.map(\n",
       "                &quot;map_ffb4a10c27700125c9d898690108ebaf&quot;,\n",
       "                {\n",
       "                    center: [25.85707918, -80.12307335999999],\n",
       "                    crs: L.CRS.EPSG3857,\n",
       "                    zoom: 12,\n",
       "                    zoomControl: true,\n",
       "                    preferCanvas: false,\n",
       "                }\n",
       "            );\n",
       "\n",
       "            \n",
       "\n",
       "        \n",
       "    \n",
       "            var tile_layer_4ceee29253d2f9aa8cafb0bee7827d36 = L.tileLayer(\n",
       "                &quot;https://{s}.tile.openstreetmap.org/{z}/{x}/{y}.png&quot;,\n",
       "                {&quot;attribution&quot;: &quot;Data by \\u0026copy; \\u003ca href=\\&quot;http://openstreetmap.org\\&quot;\\u003eOpenStreetMap\\u003c/a\\u003e, under \\u003ca href=\\&quot;http://www.openstreetmap.org/copyright\\&quot;\\u003eODbL\\u003c/a\\u003e.&quot;, &quot;detectRetina&quot;: false, &quot;maxNativeZoom&quot;: 18, &quot;maxZoom&quot;: 18, &quot;minZoom&quot;: 0, &quot;noWrap&quot;: false, &quot;opacity&quot;: 1, &quot;subdomains&quot;: &quot;abc&quot;, &quot;tms&quot;: false}\n",
       "            ).addTo(map_ffb4a10c27700125c9d898690108ebaf);\n",
       "        \n",
       "    \n",
       "            var marker_c8f52e79400f1769df83ac394cd5217c = L.marker(\n",
       "                [25.8570467, -80.12405059999999],\n",
       "                {}\n",
       "            ).addTo(map_ffb4a10c27700125c9d898690108ebaf);\n",
       "        \n",
       "    \n",
       "        var popup_ea5be8fc42659da74b2ddb1664da1a76 = L.popup({&quot;maxWidth&quot;: &quot;100%&quot;});\n",
       "\n",
       "        \n",
       "            \n",
       "                var html_07d3d4ed077e79116899b9292a9f57e8 = $(`&lt;div id=&quot;html_07d3d4ed077e79116899b9292a9f57e8&quot; style=&quot;width: 100.0%; height: 100.0%;&quot;&gt;&lt;!DOCTYPE html&gt;     &lt;html&gt;     &lt;img src=https://static.therealdeal.com/wp-content/uploads/2023/06/Cervera-Leading-Sales-for-Planned-North-Beach-Condos_Main-1400x875.jpg width=&quot;256&quot; height=&quot;156&quot;&gt;&lt;br&gt;______________________________________&lt;br&gt;     &lt;strong&gt;Address: &lt;/strong&gt;580 72nd Street&lt;br&gt;     &lt;strong&gt;Developer: &lt;/strong&gt;Russel Galbut, Matis Cohen and Lefferts Investments&lt;br&gt;     &lt;a href=&quot;https://therealdeal.com/miami/2023/06/29/russell-galbut-partners-tap-cervera-to-sell-north-beach-condos/&quot; target=&quot;_blank&quot; rel=&quot;noopener noreferrer&quot;&gt;Russel Galbut, Matis&lt;/a&gt; Cohen and Lefferts Investments have joined forces to build a 206-condo, 22-story building at 580 72nd Street in Miami Beach’s North Beach neighborhood. Branded 72 Park, units will range from 466 square feet to 1,177, with prices starting at $700,000 and maxing out at $2.4 million. Units will come furnished and the 8,500-square-foot ground-floor retail space will include a restaurant and pizzeria named Roberta’s, managed by Michelin-star chef Carlo Mirarchi. The project is under construction and is scheduled for delivery early next year. The developers assembled the property for a total of $17 million in two separate transactions in 2015 and 2019.&lt;br&gt;     &lt;/html&gt;     &lt;/div&gt;`)[0];\n",
       "                popup_ea5be8fc42659da74b2ddb1664da1a76.setContent(html_07d3d4ed077e79116899b9292a9f57e8);\n",
       "            \n",
       "        \n",
       "\n",
       "        marker_c8f52e79400f1769df83ac394cd5217c.bindPopup(popup_ea5be8fc42659da74b2ddb1664da1a76)\n",
       "        ;\n",
       "\n",
       "        \n",
       "    \n",
       "    \n",
       "            var marker_9692b1d065b994f682dddec84954a100 = L.marker(\n",
       "                [25.8550489, -80.1224742],\n",
       "                {}\n",
       "            ).addTo(map_ffb4a10c27700125c9d898690108ebaf);\n",
       "        \n",
       "    \n",
       "        var popup_ee7db5e09cd776f9315d1f093e352373 = L.popup({&quot;maxWidth&quot;: &quot;100%&quot;});\n",
       "\n",
       "        \n",
       "            \n",
       "                var html_d08ab70b07f079938be37859c2846f87 = $(`&lt;div id=&quot;html_d08ab70b07f079938be37859c2846f87&quot; style=&quot;width: 100.0%; height: 100.0%;&quot;&gt;&lt;!DOCTYPE html&gt;     &lt;html&gt;     &lt;img src=https://static.therealdeal.com/wp-content/uploads/2023/06/main_MIA_Ella-Miami-Beach-1400x875.jpg width=&quot;256&quot; height=&quot;156&quot;&gt;&lt;br&gt;______________________________________&lt;br&gt;     &lt;strong&gt;Address: &lt;/strong&gt;6940 Abbot Avenue&lt;br&gt;     &lt;strong&gt;Developer: &lt;/strong&gt;Constellation Group, Boschetti Group and Vietmar&lt;br&gt;     &lt;a href=&quot;https://therealdeal.com/miami/2023/06/01/constellation-partners-launch-sales-of-north-beach-condos/&quot; target=&quot;_blank&quot; rel=&quot;noopener noreferrer&quot;&gt;Constellation Group,&lt;/a&gt; Boschetti Group and Vietmar plan a 10-story, 95-condo building at 6940 Abbot Avenue, with prices starting at about $450,000. Dubbed Ella Miami Beach and designed by Arquitectonica, the building will have one-, two- and studio condos ranging from 430 square feet to 1,100 square feet. A ground-floor restaurant will be open to the public. Construction is scheduled to begin in early 2024 with delivery slated for 2026.&lt;br&gt;     &lt;/html&gt;     &lt;/div&gt;`)[0];\n",
       "                popup_ee7db5e09cd776f9315d1f093e352373.setContent(html_d08ab70b07f079938be37859c2846f87);\n",
       "            \n",
       "        \n",
       "\n",
       "        marker_9692b1d065b994f682dddec84954a100.bindPopup(popup_ee7db5e09cd776f9315d1f093e352373)\n",
       "        ;\n",
       "\n",
       "        \n",
       "    \n",
       "    \n",
       "            var marker_0756da9adf254839f6f51071a1cbf2e8 = L.marker(\n",
       "                [25.8570022, -80.12076549999999],\n",
       "                {}\n",
       "            ).addTo(map_ffb4a10c27700125c9d898690108ebaf);\n",
       "        \n",
       "    \n",
       "        var popup_f44ff87e226a5c2dab323899c446d21e = L.popup({&quot;maxWidth&quot;: &quot;100%&quot;});\n",
       "\n",
       "        \n",
       "            \n",
       "                var html_d9ab60b8532f70e7c93793940176e277 = $(`&lt;div id=&quot;html_d9ab60b8532f70e7c93793940176e277&quot; style=&quot;width: 100.0%; height: 100.0%;&quot;&gt;&lt;!DOCTYPE html&gt;     &lt;html&gt;     &lt;img src=https://static.therealdeal.com/wp-content/uploads/2022/07/main-Northlink-scores-approval-for-condo-project-on-Dennys-site-in-North-Beach.jpg width=&quot;256&quot; height=&quot;156&quot;&gt;&lt;br&gt;______________________________________&lt;br&gt;     &lt;strong&gt;Address: &lt;/strong&gt;7140 Collins Avenue&lt;br&gt;     &lt;strong&gt;Developer: &lt;/strong&gt;Northlink Capital&lt;br&gt;     &lt;a href=&quot;https://therealdeal.com/miami/2022/07/05/northlink-scores-approval-for-condo-project-on-dennys-site-in-north-beach/&quot; target=&quot;_blank&quot; rel=&quot;noopener noreferrer&quot;&gt;New York-based&lt;/a&gt; Northlink Capital, led by Robert Rosenthal, plans an 11-story, 228-condo project — dubbed 72 Collins Condominium — on a Denny’s-anchored property. A Northlink affiliate paid $17.3 million for the site at 7140 Collins Avenue in North Beach last year, which it obtained through foreclosure. The developer will replace the Denny’s once the lease expires.&lt;br&gt;     &lt;/html&gt;     &lt;/div&gt;`)[0];\n",
       "                popup_f44ff87e226a5c2dab323899c446d21e.setContent(html_d9ab60b8532f70e7c93793940176e277);\n",
       "            \n",
       "        \n",
       "\n",
       "        marker_0756da9adf254839f6f51071a1cbf2e8.bindPopup(popup_f44ff87e226a5c2dab323899c446d21e)\n",
       "        ;\n",
       "\n",
       "        \n",
       "    \n",
       "    \n",
       "            var marker_7b5021be80bff96bc140d9abea0c8d6a = L.marker(\n",
       "                [25.860567, -80.123494],\n",
       "                {}\n",
       "            ).addTo(map_ffb4a10c27700125c9d898690108ebaf);\n",
       "        \n",
       "    \n",
       "        var popup_9618ec872f330dc075974058ccb288ff = L.popup({&quot;maxWidth&quot;: &quot;100%&quot;});\n",
       "\n",
       "        \n",
       "            \n",
       "                var html_80ecf6a6f751ff73d451442de25c4e39 = $(`&lt;div id=&quot;html_80ecf6a6f751ff73d451442de25c4e39&quot; style=&quot;width: 100.0%; height: 100.0%;&quot;&gt;&lt;!DOCTYPE html&gt;     &lt;html&gt;     &lt;img src=https://static.therealdeal.com/wp-content/uploads/2021/04/1200-Ocean-Terrace-developers-to-pay-3M-to-settle-lawsuit-with-Miami-Beach-.jpg width=&quot;256&quot; height=&quot;156&quot;&gt;&lt;br&gt;______________________________________&lt;br&gt;     &lt;strong&gt;Address: &lt;/strong&gt;Collins Avenue, between 74th Street and 75th Street&lt;br&gt;     &lt;strong&gt;Developer: &lt;/strong&gt;Sandor Scher &amp; Alex Blavatnik&lt;br&gt;     &lt;a href=&quot;https://therealdeal.com/miami/2021/04/23/ocean-terrace-developers-to-pay-3m-to-settle-lawsuit-with-miami-beach/&quot; target=&quot;_blank&quot; rel=&quot;noopener noreferrer&quot;&gt;Alex Blavatnik and&lt;/a&gt; Sandor Scher plan a mixed-use project on Collins Avenue, between 74th Street and 75th Street. Proposed in 2015 as a ballot referendum, which voters rejected, the project promises a 110-key hotel and 58 luxury condos. The project also endured a lawsuit over if elevator shafts, maintenance shutes, and stairwells counted towards the project’s floor-to-area ratio (the case was settled; the developers paid the city $3 million and the floor-to-area ratio didn’t count). &lt;br&gt;     &lt;/html&gt;     &lt;/div&gt;`)[0];\n",
       "                popup_9618ec872f330dc075974058ccb288ff.setContent(html_80ecf6a6f751ff73d451442de25c4e39);\n",
       "            \n",
       "        \n",
       "\n",
       "        marker_7b5021be80bff96bc140d9abea0c8d6a.bindPopup(popup_9618ec872f330dc075974058ccb288ff)\n",
       "        ;\n",
       "\n",
       "        \n",
       "    \n",
       "    \n",
       "            var marker_9720177c2efd185e00dda572f6b8e266 = L.marker(\n",
       "                [25.8557311, -80.1245825],\n",
       "                {}\n",
       "            ).addTo(map_ffb4a10c27700125c9d898690108ebaf);\n",
       "        \n",
       "    \n",
       "        var popup_e7982fe0e9272600fa578430d470770b = L.popup({&quot;maxWidth&quot;: &quot;100%&quot;});\n",
       "\n",
       "        \n",
       "            \n",
       "                var html_7d53e63909e32ebcedbe1f6876b1fab7 = $(`&lt;div id=&quot;html_7d53e63909e32ebcedbe1f6876b1fab7&quot; style=&quot;width: 100.0%; height: 100.0%;&quot;&gt;&lt;!DOCTYPE html&gt;     &lt;html&gt;     &lt;img src=no_image width=&quot;256&quot; height=&quot;156&quot;&gt;&lt;br&gt;______________________________________&lt;br&gt;     &lt;strong&gt;Address: &lt;/strong&gt;666 71st Street&lt;br&gt;     &lt;strong&gt;Developer: &lt;/strong&gt;Lefferts Investments, Jefferson Brackin, Russell and Marisa Galbut&lt;br&gt;     nan&lt;br&gt;     &lt;/html&gt;     &lt;/div&gt;`)[0];\n",
       "                popup_e7982fe0e9272600fa578430d470770b.setContent(html_7d53e63909e32ebcedbe1f6876b1fab7);\n",
       "            \n",
       "        \n",
       "\n",
       "        marker_9720177c2efd185e00dda572f6b8e266.bindPopup(popup_e7982fe0e9272600fa578430d470770b)\n",
       "        ;\n",
       "\n",
       "        \n",
       "    \n",
       "    \n",
       "            map_ffb4a10c27700125c9d898690108ebaf.fitBounds(\n",
       "                [25.85707918, -80.12307335999999],\n",
       "                {&quot;maxZoom&quot;: 15}\n",
       "            );\n",
       "        \n",
       "&lt;/script&gt;\" style=\"position:absolute;width:100%;height:100%;left:0;top:0;border:none !important;\" allowfullscreen webkitallowfullscreen mozallowfullscreen></iframe></div></div>"
      ],
      "text/plain": [
       "<folium.folium.Map at 0x7fd469c5db20>"
      ]
     },
     "execution_count": 34,
     "metadata": {},
     "output_type": "execute_result"
    }
   ],
   "source": [
    "import branca\n",
    "\n",
    "m = folium.Map(location=df[[\"lat\", \"lon\"]].mean().to_list(),zoom_start=12)\n",
    "\n",
    "title_html = '''\n",
    "              <h3 align=\"center\" style=\"font-size:16px\"><b>{}</b></h3>\n",
    "             '''.format(f'North Beach Development Projects')\n",
    "\n",
    "for i in range(0,len(df)):\n",
    "    html = popup_html(i)\n",
    "    iframe = branca.element.IFrame(html=html)\n",
    "    popup = folium.Popup(folium.Html(html, script=True))\n",
    "    folium.Marker([df['lat'].iloc[i],df['lon'].iloc[i]],\n",
    "                 popup=popup).add_to(m)\n",
    "\n",
    "m.get_root().html.add_child(folium.Element(title_html))\n",
    "m.fit_bounds(bounds=df[['lat','lon']].mean().to_list(),max_zoom=15)\n",
    "# m.add_to(f)\n",
    "m"
   ]
  },
  {
   "cell_type": "code",
   "execution_count": 37,
   "metadata": {},
   "outputs": [],
   "source": [
    "m.save('index.html')"
   ]
  },
  {
   "cell_type": "markdown",
   "metadata": {},
   "source": [
    "## Map URL Snagger"
   ]
  },
  {
   "cell_type": "code",
   "execution_count": 38,
   "metadata": {},
   "outputs": [
    {
     "name": "stdout",
     "output_type": "stream",
     "text": [
      "https://trd-digital.github.io/trd-news-interactive-maps/NorthBeach_MiamiBeach\n"
     ]
    }
   ],
   "source": [
    "base_name = 'https://trd-digital.github.io/trd-news-interactive-maps/'\n",
    "\n",
    "cwd = os.getcwd()\n",
    "\n",
    "cwd = cwd.split('/')\n",
    "\n",
    "final_name = base_name + cwd[-1]\n",
    "print(final_name)"
   ]
  }
 ],
 "metadata": {
  "kernelspec": {
   "display_name": "Python 3 (ipykernel)",
   "language": "python",
   "name": "python3"
  },
  "language_info": {
   "codemirror_mode": {
    "name": "ipython",
    "version": 3
   },
   "file_extension": ".py",
   "mimetype": "text/x-python",
   "name": "python",
   "nbconvert_exporter": "python",
   "pygments_lexer": "ipython3",
   "version": "3.9.12"
  },
  "toc": {
   "base_numbering": 1,
   "nav_menu": {},
   "number_sections": true,
   "sideBar": true,
   "skip_h1_title": false,
   "title_cell": "Table of Contents",
   "title_sidebar": "Contents",
   "toc_cell": false,
   "toc_position": {},
   "toc_section_display": true,
   "toc_window_display": false
  }
 },
 "nbformat": 4,
 "nbformat_minor": 4
}
