{
 "cells": [
  {
   "cell_type": "code",
   "execution_count": 33,
   "metadata": {},
   "outputs": [],
   "source": [
    "import googlemaps\n",
    "import pandas as pd\n",
    "import numpy as np\n",
    "import re\n",
    "import os\n",
    "import geopandas as gpd\n",
    "import folium\n",
    "from textwrap import shorten\n",
    "import requests\n",
    "\n",
    "from bs4 import BeautifulSoup"
   ]
  },
  {
   "cell_type": "code",
   "execution_count": 34,
   "metadata": {},
   "outputs": [],
   "source": [
    "%store -r google_maps_API_Key\n",
    "gmaps_key = googlemaps.Client(key=google_maps_API_Key)"
   ]
  },
  {
   "cell_type": "code",
   "execution_count": 35,
   "metadata": {},
   "outputs": [],
   "source": [
    "df = pd.read_csv('NorthBeach_map_template_popup_pin - Sheet1.csv')"
   ]
  },
  {
   "cell_type": "code",
   "execution_count": 36,
   "metadata": {},
   "outputs": [],
   "source": [
    "df['geo_address'] = df['full_address'] + ' North Beach, Florida'"
   ]
  },
  {
   "cell_type": "code",
   "execution_count": 37,
   "metadata": {},
   "outputs": [],
   "source": [
    "def geocode(add):\n",
    "    g = gmaps_key.geocode(add)\n",
    "    lat = g[0][\"geometry\"][\"location\"][\"lat\"]\n",
    "    lng = g[0][\"geometry\"][\"location\"][\"lng\"]\n",
    "    return (lat, lng)\n",
    "\n",
    "df['geocoded'] = df['geo_address'].apply(geocode)"
   ]
  },
  {
   "cell_type": "code",
   "execution_count": 38,
   "metadata": {},
   "outputs": [],
   "source": [
    "df['geocoded'] = df['geocoded'].astype(str)\n",
    "df[['lat', 'lon']] = df['geocoded'].str.strip('()').str.split(', ', expand=True)\n",
    "df['lat'] = df['lat'].astype(float)\n",
    "df['lon'] = df['lon'].astype(float)"
   ]
  },
  {
   "cell_type": "markdown",
   "metadata": {},
   "source": [
    "## Image URL Collector"
   ]
  },
  {
   "cell_type": "code",
   "execution_count": 39,
   "metadata": {},
   "outputs": [],
   "source": [
    "df['image_links'] = ''\n",
    "links = []\n",
    "for url in df['story_link']:\n",
    "    try:\n",
    "        page = requests.get(url)\n",
    "        soup = BeautifulSoup(page.content, 'html.parser')\n",
    "        images = soup.find('img',{'class':'MainArtImage_image__2YtGm'})\n",
    "        images = images['src']\n",
    "        links.append(images)\n",
    "    except:\n",
    "        links.append('no_image')\n",
    "\n",
    "df['image_links'] = links"
   ]
  },
  {
   "cell_type": "code",
   "execution_count": 40,
   "metadata": {},
   "outputs": [
    {
     "name": "stdout",
     "output_type": "stream",
     "text": [
      "https://therealdeal.com/miami/2023/06/29/russell-galbut-partners-tap-cervera-to-sell-north-beach-condos/\n"
     ]
    }
   ],
   "source": [
    "print(df['story_link'].iloc[0])"
   ]
  },
  {
   "cell_type": "code",
   "execution_count": 41,
   "metadata": {},
   "outputs": [
    {
     "data": {
      "text/plain": [
       "'https://static.therealdeal.com/wp-content/uploads/2023/06/main_MIA_Ella-Miami-Beach-1400x875.jpg'"
      ]
     },
     "execution_count": 41,
     "metadata": {},
     "output_type": "execute_result"
    }
   ],
   "source": [
    "# df.at[20,'image_img']=('<img src=\"Aimco.jpg\" width=\"256\" height=\"156\">')\n",
    "df['image_links'].iloc[1]"
   ]
  },
  {
   "cell_type": "code",
   "execution_count": 42,
   "metadata": {},
   "outputs": [],
   "source": [
    "# df.at[4,'image_links']=('https://therealdeal.com/wp-content/uploads/2019/10/trd-logo-16x9.jpg')"
   ]
  },
  {
   "cell_type": "code",
   "execution_count": 43,
   "metadata": {},
   "outputs": [
    {
     "data": {
      "text/plain": [
       "0    <a href=\"https://therealdeal.com/miami/2023/06...\n",
       "1    <a href=\"https://therealdeal.com/miami/2023/06...\n",
       "2    <a href=\"https://therealdeal.com/miami/2022/07...\n",
       "3    <a href=\"https://therealdeal.com/miami/2021/04...\n",
       "4    <a href=\"https://therealdeal.com/miami/2021/03...\n",
       "Name: description_link, dtype: object"
      ]
     },
     "execution_count": 43,
     "metadata": {},
     "output_type": "execute_result"
    }
   ],
   "source": [
    "df[\"short_description\"] = df[\"description\"].apply(lambda s: shorten(s, width=20, placeholder=\"\"))\n",
    "df['remaining_desc'] = df.apply(lambda row : row['description'].replace(str(row['short_description']), ''), axis=1)\n",
    "df['remaining_desc']\n",
    "\n",
    "df[\"description_link\"] = '<a href=\"' + df[\"story_link\"] + '\" target=\"_blank\" rel=\"noopener noreferrer\">' + df[\"short_description\"] + \"</a>\" + df[\"remaining_desc\"]\n",
    "df['description_link']"
   ]
  },
  {
   "cell_type": "code",
   "execution_count": 44,
   "metadata": {},
   "outputs": [
    {
     "data": {
      "text/plain": [
       "Index(['full_address', 'developers', 'condos_or_apts', 'units',\n",
       "       'property_purchase_price', 'description', 'story_link', 'geo_address',\n",
       "       'geocoded', 'lat', 'lon', 'image_links', 'short_description',\n",
       "       'remaining_desc', 'description_link'],\n",
       "      dtype='object')"
      ]
     },
     "execution_count": 44,
     "metadata": {},
     "output_type": "execute_result"
    }
   ],
   "source": [
    "df.columns"
   ]
  },
  {
   "cell_type": "code",
   "execution_count": 45,
   "metadata": {},
   "outputs": [],
   "source": [
    "def popup_html(row):\n",
    "    i = row\n",
    "    address = df['full_address'].iloc[i]\n",
    "    developer = df['developers'].iloc[i]\n",
    "    image = df['image_links'].iloc[i]\n",
    "    description = df['description_link'].iloc[i]\n",
    "    \n",
    "    html = '''<!DOCTYPE html>\n",
    "    <html>\n",
    "    <img src={} width=\"256\" height=\"156\">'''.format(image) + '''<br>______________________________________<br>\n",
    "    <strong>Address: </strong>{}'''.format(address) + '''<br>\n",
    "    <strong>Developer: </strong>{}'''.format(developer) + '''<br>\n",
    "    {}'''.format(description) + '''<br>\n",
    "    </html>\n",
    "    '''\n",
    "    return html"
   ]
  },
  {
   "cell_type": "code",
   "execution_count": 50,
   "metadata": {
    "scrolled": false
   },
   "outputs": [
    {
     "data": {
      "text/html": [
       "<div style=\"width:100%;\"><div style=\"position:relative;width:100%;height:0;padding-bottom:60%;\"><span style=\"color:#565656\">Make this Notebook Trusted to load map: File -> Trust Notebook</span><iframe srcdoc=\"&lt;!DOCTYPE html&gt;\n",
       "&lt;head&gt;    \n",
       "    &lt;meta http-equiv=&quot;content-type&quot; content=&quot;text/html; charset=UTF-8&quot; /&gt;\n",
       "    \n",
       "        &lt;script&gt;\n",
       "            L_NO_TOUCH = false;\n",
       "            L_DISABLE_3D = false;\n",
       "        &lt;/script&gt;\n",
       "    \n",
       "    &lt;style&gt;html, body {width: 100%;height: 100%;margin: 0;padding: 0;}&lt;/style&gt;\n",
       "    &lt;style&gt;#map {position:absolute;top:0;bottom:0;right:0;left:0;}&lt;/style&gt;\n",
       "    &lt;script src=&quot;https://cdn.jsdelivr.net/npm/leaflet@1.6.0/dist/leaflet.js&quot;&gt;&lt;/script&gt;\n",
       "    &lt;script src=&quot;https://code.jquery.com/jquery-1.12.4.min.js&quot;&gt;&lt;/script&gt;\n",
       "    &lt;script src=&quot;https://maxcdn.bootstrapcdn.com/bootstrap/3.2.0/js/bootstrap.min.js&quot;&gt;&lt;/script&gt;\n",
       "    &lt;script src=&quot;https://cdnjs.cloudflare.com/ajax/libs/Leaflet.awesome-markers/2.0.2/leaflet.awesome-markers.js&quot;&gt;&lt;/script&gt;\n",
       "    &lt;link rel=&quot;stylesheet&quot; href=&quot;https://cdn.jsdelivr.net/npm/leaflet@1.6.0/dist/leaflet.css&quot;/&gt;\n",
       "    &lt;link rel=&quot;stylesheet&quot; href=&quot;https://maxcdn.bootstrapcdn.com/bootstrap/3.2.0/css/bootstrap.min.css&quot;/&gt;\n",
       "    &lt;link rel=&quot;stylesheet&quot; href=&quot;https://maxcdn.bootstrapcdn.com/bootstrap/3.2.0/css/bootstrap-theme.min.css&quot;/&gt;\n",
       "    &lt;link rel=&quot;stylesheet&quot; href=&quot;https://maxcdn.bootstrapcdn.com/font-awesome/4.6.3/css/font-awesome.min.css&quot;/&gt;\n",
       "    &lt;link rel=&quot;stylesheet&quot; href=&quot;https://cdnjs.cloudflare.com/ajax/libs/Leaflet.awesome-markers/2.0.2/leaflet.awesome-markers.css&quot;/&gt;\n",
       "    &lt;link rel=&quot;stylesheet&quot; href=&quot;https://cdn.jsdelivr.net/gh/python-visualization/folium/folium/templates/leaflet.awesome.rotate.min.css&quot;/&gt;\n",
       "    \n",
       "            &lt;meta name=&quot;viewport&quot; content=&quot;width=device-width,\n",
       "                initial-scale=1.0, maximum-scale=1.0, user-scalable=no&quot; /&gt;\n",
       "            &lt;style&gt;\n",
       "                #map_563aee4fdebb76a992988a2fc471f145 {\n",
       "                    position: relative;\n",
       "                    width: 100.0%;\n",
       "                    height: 100.0%;\n",
       "                    left: 0.0%;\n",
       "                    top: 0.0%;\n",
       "                }\n",
       "            &lt;/style&gt;\n",
       "        \n",
       "&lt;/head&gt;\n",
       "&lt;body&gt;    \n",
       "    \n",
       "              &lt;h3 align=&quot;center&quot; style=&quot;font-size:16px&quot;&gt;&lt;b&gt;North Beach Development Projects&lt;/b&gt;&lt;/h3&gt;\n",
       "             \n",
       "    \n",
       "            &lt;div class=&quot;folium-map&quot; id=&quot;map_563aee4fdebb76a992988a2fc471f145&quot; &gt;&lt;/div&gt;\n",
       "        \n",
       "&lt;/body&gt;\n",
       "&lt;script&gt;    \n",
       "    \n",
       "            var map_563aee4fdebb76a992988a2fc471f145 = L.map(\n",
       "                &quot;map_563aee4fdebb76a992988a2fc471f145&quot;,\n",
       "                {\n",
       "                    center: [25.856998639999993, -80.12241423999998],\n",
       "                    crs: L.CRS.EPSG3857,\n",
       "                    zoom: 15,\n",
       "                    zoomControl: true,\n",
       "                    preferCanvas: false,\n",
       "                }\n",
       "            );\n",
       "\n",
       "            \n",
       "\n",
       "        \n",
       "    \n",
       "            var tile_layer_9102157386a0d5a8c5f138d758eabab2 = L.tileLayer(\n",
       "                &quot;https://{s}.tile.openstreetmap.org/{z}/{x}/{y}.png&quot;,\n",
       "                {&quot;attribution&quot;: &quot;Data by \\u0026copy; \\u003ca href=\\&quot;http://openstreetmap.org\\&quot;\\u003eOpenStreetMap\\u003c/a\\u003e, under \\u003ca href=\\&quot;http://www.openstreetmap.org/copyright\\&quot;\\u003eODbL\\u003c/a\\u003e.&quot;, &quot;detectRetina&quot;: false, &quot;maxNativeZoom&quot;: 18, &quot;maxZoom&quot;: 18, &quot;minZoom&quot;: 0, &quot;noWrap&quot;: false, &quot;opacity&quot;: 1, &quot;subdomains&quot;: &quot;abc&quot;, &quot;tms&quot;: false}\n",
       "            ).addTo(map_563aee4fdebb76a992988a2fc471f145);\n",
       "        \n",
       "    \n",
       "            var marker_2189cfb062e71e575c4d45f6634b84d7 = L.marker(\n",
       "                [25.8570467, -80.12405059999999],\n",
       "                {}\n",
       "            ).addTo(map_563aee4fdebb76a992988a2fc471f145);\n",
       "        \n",
       "    \n",
       "        var popup_0df819685cd67617c23a612eb5447af4 = L.popup({&quot;maxWidth&quot;: &quot;100%&quot;});\n",
       "\n",
       "        \n",
       "            \n",
       "                var html_df29de3275f94faa6ff83dd9d1449919 = $(`&lt;div id=&quot;html_df29de3275f94faa6ff83dd9d1449919&quot; style=&quot;width: 100.0%; height: 100.0%;&quot;&gt;&lt;!DOCTYPE html&gt;     &lt;html&gt;     &lt;img src=https://static.therealdeal.com/wp-content/uploads/2023/06/Cervera-Leading-Sales-for-Planned-North-Beach-Condos_Main-1400x875.jpg width=&quot;256&quot; height=&quot;156&quot;&gt;&lt;br&gt;______________________________________&lt;br&gt;     &lt;strong&gt;Address: &lt;/strong&gt;580 72nd Street&lt;br&gt;     &lt;strong&gt;Developer: &lt;/strong&gt;Russel Galbut, Matis Cohen and Lefferts Investments&lt;br&gt;     &lt;a href=&quot;https://therealdeal.com/miami/2023/06/29/russell-galbut-partners-tap-cervera-to-sell-north-beach-condos/&quot; target=&quot;_blank&quot; rel=&quot;noopener noreferrer&quot;&gt;Galbut, Cohen and&lt;/a&gt; Lefferts are joining forces to build a 22-story, 206-unit condo building at 580 72nd Street in North Beach. Branded 72 Park, units will range from 466 square feet to 1,177 square feet, with prices starting at $700,000 and maxing out at $2.4 million.&lt;br&gt;     &lt;/html&gt;     &lt;/div&gt;`)[0];\n",
       "                popup_0df819685cd67617c23a612eb5447af4.setContent(html_df29de3275f94faa6ff83dd9d1449919);\n",
       "            \n",
       "        \n",
       "\n",
       "        marker_2189cfb062e71e575c4d45f6634b84d7.bindPopup(popup_0df819685cd67617c23a612eb5447af4)\n",
       "        ;\n",
       "\n",
       "        \n",
       "    \n",
       "    \n",
       "            var marker_ddb153103d7832ae062c4a1a6a7ece06 = L.marker(\n",
       "                [25.8550489, -80.1224742],\n",
       "                {}\n",
       "            ).addTo(map_563aee4fdebb76a992988a2fc471f145);\n",
       "        \n",
       "    \n",
       "        var popup_dc7416201fa238c57bc48bedd9a9e60f = L.popup({&quot;maxWidth&quot;: &quot;100%&quot;});\n",
       "\n",
       "        \n",
       "            \n",
       "                var html_f677e6c4a3e4624e5210c2f2f1829a14 = $(`&lt;div id=&quot;html_f677e6c4a3e4624e5210c2f2f1829a14&quot; style=&quot;width: 100.0%; height: 100.0%;&quot;&gt;&lt;!DOCTYPE html&gt;     &lt;html&gt;     &lt;img src=https://static.therealdeal.com/wp-content/uploads/2023/06/main_MIA_Ella-Miami-Beach-1400x875.jpg width=&quot;256&quot; height=&quot;156&quot;&gt;&lt;br&gt;______________________________________&lt;br&gt;     &lt;strong&gt;Address: &lt;/strong&gt;6940 Abbot Avenue&lt;br&gt;     &lt;strong&gt;Developer: &lt;/strong&gt;Constellation Group, Boschetti Group and Vietmar&lt;br&gt;     &lt;a href=&quot;https://therealdeal.com/miami/2023/06/01/constellation-partners-launch-sales-of-north-beach-condos/&quot; target=&quot;_blank&quot; rel=&quot;noopener noreferrer&quot;&gt;Constellation Group,&lt;/a&gt; Boschetti Group and Vietmar plan a 10-story, 95-unit condo building at 6940 Abbot Avenue. The building will have 21 studios, 62 one-bedroom and 12 two-bedroom units, according to a spokesperson. &lt;br&gt;     &lt;/html&gt;     &lt;/div&gt;`)[0];\n",
       "                popup_dc7416201fa238c57bc48bedd9a9e60f.setContent(html_f677e6c4a3e4624e5210c2f2f1829a14);\n",
       "            \n",
       "        \n",
       "\n",
       "        marker_ddb153103d7832ae062c4a1a6a7ece06.bindPopup(popup_dc7416201fa238c57bc48bedd9a9e60f)\n",
       "        ;\n",
       "\n",
       "        \n",
       "    \n",
       "    \n",
       "            var marker_a6e9b1741662d36b62a181e71400f21c = L.marker(\n",
       "                [25.8570022, -80.12076549999999],\n",
       "                {}\n",
       "            ).addTo(map_563aee4fdebb76a992988a2fc471f145);\n",
       "        \n",
       "    \n",
       "        var popup_c2bac20ea4853d38eda712313b9c3475 = L.popup({&quot;maxWidth&quot;: &quot;100%&quot;});\n",
       "\n",
       "        \n",
       "            \n",
       "                var html_c1e098aee2208a5d5827b1caf4bb12c4 = $(`&lt;div id=&quot;html_c1e098aee2208a5d5827b1caf4bb12c4&quot; style=&quot;width: 100.0%; height: 100.0%;&quot;&gt;&lt;!DOCTYPE html&gt;     &lt;html&gt;     &lt;img src=https://static.therealdeal.com/wp-content/uploads/2022/07/main-Northlink-scores-approval-for-condo-project-on-Dennys-site-in-North-Beach.jpg width=&quot;256&quot; height=&quot;156&quot;&gt;&lt;br&gt;______________________________________&lt;br&gt;     &lt;strong&gt;Address: &lt;/strong&gt;7140 Collins Avenue&lt;br&gt;     &lt;strong&gt;Developer: &lt;/strong&gt;Northlink Capital&lt;br&gt;     &lt;a href=&quot;https://therealdeal.com/miami/2022/07/05/northlink-scores-approval-for-condo-project-on-dennys-site-in-north-beach/&quot; target=&quot;_blank&quot; rel=&quot;noopener noreferrer&quot;&gt;Robert Rosenthal’s&lt;/a&gt; New York-based Northlink Capital plans an 11-story, 231-unit condo project, called 72 Collins Condominium, on a Denny’s-anchored property. A Northlink affiliate paid $17.3 million for the site at 7140 Collins Avenue in North Beach last year, which it obtained through foreclosure.&lt;br&gt;     &lt;/html&gt;     &lt;/div&gt;`)[0];\n",
       "                popup_c2bac20ea4853d38eda712313b9c3475.setContent(html_c1e098aee2208a5d5827b1caf4bb12c4);\n",
       "            \n",
       "        \n",
       "\n",
       "        marker_a6e9b1741662d36b62a181e71400f21c.bindPopup(popup_c2bac20ea4853d38eda712313b9c3475)\n",
       "        ;\n",
       "\n",
       "        \n",
       "    \n",
       "    \n",
       "            var marker_4e85e2cd1c794924bad7b2842bd3af6e = L.marker(\n",
       "                [25.8601643, -80.12019839999999],\n",
       "                {}\n",
       "            ).addTo(map_563aee4fdebb76a992988a2fc471f145);\n",
       "        \n",
       "    \n",
       "        var popup_a6820bf5e17cdea4c817f3bb8a0b8b93 = L.popup({&quot;maxWidth&quot;: &quot;100%&quot;});\n",
       "\n",
       "        \n",
       "            \n",
       "                var html_49c66fa5439d4d71229dc52dc26a99fc = $(`&lt;div id=&quot;html_49c66fa5439d4d71229dc52dc26a99fc&quot; style=&quot;width: 100.0%; height: 100.0%;&quot;&gt;&lt;!DOCTYPE html&gt;     &lt;html&gt;     &lt;img src=https://static.therealdeal.com/wp-content/uploads/2021/04/1200-Ocean-Terrace-developers-to-pay-3M-to-settle-lawsuit-with-Miami-Beach-.jpg width=&quot;256&quot; height=&quot;156&quot;&gt;&lt;br&gt;______________________________________&lt;br&gt;     &lt;strong&gt;Address: &lt;/strong&gt;7430 Ocean Terrace&lt;br&gt;     &lt;strong&gt;Developer: &lt;/strong&gt;Sandor Scher &amp; Alex Blavatnik&lt;br&gt;     &lt;a href=&quot;https://therealdeal.com/miami/2021/04/23/ocean-terrace-developers-to-pay-3m-to-settle-lawsuit-with-miami-beach/&quot; target=&quot;_blank&quot; rel=&quot;noopener noreferrer&quot;&gt;Blavatnik and Scher&lt;/a&gt; plan a mixed-use project on Collins Avenue, between 74th Street and 75th Street. Plans call for 62 condos, a 42-key hotel, and 24 condo-hotel rooms and 15,000 square feet of commercial space.&lt;br&gt;     &lt;/html&gt;     &lt;/div&gt;`)[0];\n",
       "                popup_a6820bf5e17cdea4c817f3bb8a0b8b93.setContent(html_49c66fa5439d4d71229dc52dc26a99fc);\n",
       "            \n",
       "        \n",
       "\n",
       "        marker_4e85e2cd1c794924bad7b2842bd3af6e.bindPopup(popup_a6820bf5e17cdea4c817f3bb8a0b8b93)\n",
       "        ;\n",
       "\n",
       "        \n",
       "    \n",
       "    \n",
       "            var marker_4999da3e384728ca5919b1bccfe7516e = L.marker(\n",
       "                [25.8557311, -80.1245825],\n",
       "                {}\n",
       "            ).addTo(map_563aee4fdebb76a992988a2fc471f145);\n",
       "        \n",
       "    \n",
       "        var popup_3134e18e89edcbe2dfffa374429b149e = L.popup({&quot;maxWidth&quot;: &quot;100%&quot;});\n",
       "\n",
       "        \n",
       "            \n",
       "                var html_41918e8ad19fb18b96bb845d9ed3bd43 = $(`&lt;div id=&quot;html_41918e8ad19fb18b96bb845d9ed3bd43&quot; style=&quot;width: 100.0%; height: 100.0%;&quot;&gt;&lt;!DOCTYPE html&gt;     &lt;html&gt;     &lt;img src=https://static.therealdeal.com/wp-content/uploads/2021/03/galbut-beach-resi.jpg width=&quot;256&quot; height=&quot;156&quot;&gt;&lt;br&gt;______________________________________&lt;br&gt;     &lt;strong&gt;Address: &lt;/strong&gt;666 71st Street&lt;br&gt;     &lt;strong&gt;Developer: &lt;/strong&gt;Lefferts Investments, Jefferson Brackin, Russell and Marisa Galbut&lt;br&gt;     &lt;a href=&quot;https://therealdeal.com/miami/2021/03/22/galbut-development-group-scores-approval-for-mixed-use-north-beach-resi-project/&quot; target=&quot;_blank&quot; rel=&quot;noopener noreferrer&quot;&gt;Russell Galbut and&lt;/a&gt; his daughter, Marisa, along with Jefferson Brackin and Lefferts, plan a 13-story mixed-use building designed by Built Form Architecture. Plans call for 126 apartments and 8,100 square feet of retail.&lt;br&gt;     &lt;/html&gt;     &lt;/div&gt;`)[0];\n",
       "                popup_3134e18e89edcbe2dfffa374429b149e.setContent(html_41918e8ad19fb18b96bb845d9ed3bd43);\n",
       "            \n",
       "        \n",
       "\n",
       "        marker_4999da3e384728ca5919b1bccfe7516e.bindPopup(popup_3134e18e89edcbe2dfffa374429b149e)\n",
       "        ;\n",
       "\n",
       "        \n",
       "    \n",
       "    \n",
       "            map_563aee4fdebb76a992988a2fc471f145.fitBounds(\n",
       "                [25.856998639999993, -80.12241423999998],\n",
       "                {&quot;maxZoom&quot;: 15}\n",
       "            );\n",
       "        \n",
       "&lt;/script&gt;\" style=\"position:absolute;width:100%;height:100%;left:0;top:0;border:none !important;\" allowfullscreen webkitallowfullscreen mozallowfullscreen></iframe></div></div>"
      ],
      "text/plain": [
       "<folium.folium.Map at 0x7fc65947c100>"
      ]
     },
     "execution_count": 50,
     "metadata": {},
     "output_type": "execute_result"
    }
   ],
   "source": [
    "import branca\n",
    "\n",
    "m = folium.Map(location=df[[\"lat\", \"lon\"]].mean().to_list(),zoom_start=15)\n",
    "\n",
    "title_html = '''\n",
    "              <h3 align=\"center\" style=\"font-size:16px\"><b>{}</b></h3>\n",
    "             '''.format(f'North Beach Development Projects')\n",
    "\n",
    "for i in range(0,len(df)):\n",
    "    html = popup_html(i)\n",
    "    iframe = branca.element.IFrame(html=html)\n",
    "    popup = folium.Popup(folium.Html(html, script=True))\n",
    "    folium.Marker([df['lat'].iloc[i],df['lon'].iloc[i]],\n",
    "                 popup=popup).add_to(m)\n",
    "\n",
    "m.get_root().html.add_child(folium.Element(title_html))\n",
    "m.fit_bounds(bounds=df[['lat','lon']].mean().to_list(),max_zoom=15)\n",
    "# m.add_to(f)\n",
    "m"
   ]
  },
  {
   "cell_type": "code",
   "execution_count": 51,
   "metadata": {},
   "outputs": [],
   "source": [
    "m.save('index.html')"
   ]
  },
  {
   "cell_type": "markdown",
   "metadata": {},
   "source": [
    "## Map URL Snagger"
   ]
  },
  {
   "cell_type": "code",
   "execution_count": 52,
   "metadata": {},
   "outputs": [
    {
     "name": "stdout",
     "output_type": "stream",
     "text": [
      "https://trd-digital.github.io/trd-news-interactive-maps/NorthBeach_MiamiBeach\n"
     ]
    }
   ],
   "source": [
    "base_name = 'https://trd-digital.github.io/trd-news-interactive-maps/'\n",
    "\n",
    "cwd = os.getcwd()\n",
    "\n",
    "cwd = cwd.split('/')\n",
    "\n",
    "final_name = base_name + cwd[-1]\n",
    "print(final_name)"
   ]
  }
 ],
 "metadata": {
  "kernelspec": {
   "display_name": "Python 3 (ipykernel)",
   "language": "python",
   "name": "python3"
  },
  "language_info": {
   "codemirror_mode": {
    "name": "ipython",
    "version": 3
   },
   "file_extension": ".py",
   "mimetype": "text/x-python",
   "name": "python",
   "nbconvert_exporter": "python",
   "pygments_lexer": "ipython3",
   "version": "3.9.12"
  },
  "toc": {
   "base_numbering": 1,
   "nav_menu": {},
   "number_sections": true,
   "sideBar": true,
   "skip_h1_title": false,
   "title_cell": "Table of Contents",
   "title_sidebar": "Contents",
   "toc_cell": false,
   "toc_position": {},
   "toc_section_display": true,
   "toc_window_display": false
  }
 },
 "nbformat": 4,
 "nbformat_minor": 4
}
