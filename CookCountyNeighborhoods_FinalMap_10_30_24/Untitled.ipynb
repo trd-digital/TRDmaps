{
 "cells": [
  {
   "cell_type": "markdown",
   "id": "b145aa49",
   "metadata": {},
   "source": [
    "## Imports"
   ]
  },
  {
   "cell_type": "code",
   "execution_count": 17,
   "id": "4661c8d9",
   "metadata": {},
   "outputs": [],
   "source": [
    "import pandas as pd\n",
    "import numpy as np\n",
    "import geopandas as gpd\n",
    "import os\n",
    "from shapely import wkt"
   ]
  },
  {
   "cell_type": "markdown",
   "id": "97e01d86",
   "metadata": {},
   "source": [
    "## Data Read in"
   ]
  },
  {
   "cell_type": "code",
   "execution_count": 26,
   "id": "101dddb9",
   "metadata": {},
   "outputs": [],
   "source": [
    "# Read the CSV file\n",
    "df = pd.read_csv('CHI_brokerage_data_fully_geocoded.csv',index_col=0,low_memory=False)\n",
    "\n",
    "# Function to convert WKT format to a Point geometry\n",
    "def to_point(coord):\n",
    "    try:\n",
    "        if isinstance(coord, str) and 'POINT' in coord:\n",
    "            # Use WKT to convert the string into a Point object\n",
    "            return wkt.loads(coord)\n",
    "        else:\n",
    "            return None  # Return None for invalid or missing coordinates\n",
    "    except Exception as e:\n",
    "        return None  # Catch any issues\n",
    "\n",
    "# Apply the conversion to the 'geometry' column\n",
    "df['geometry'] = df['geometry'].apply(to_point)\n",
    "\n",
    "# Now convert the DataFrame to a GeoDataFrame\n",
    "df_geo = gpd.GeoDataFrame(df, geometry='geometry')"
   ]
  },
  {
   "cell_type": "code",
   "execution_count": 27,
   "id": "279858af",
   "metadata": {},
   "outputs": [],
   "source": [
    "### Read in neighborhood boundaries\n",
    "neighborhood_boundaries = gpd.read_file(\"Boundaries - Community Areas (current).geojson\")"
   ]
  },
  {
   "cell_type": "code",
   "execution_count": 32,
   "id": "aa81b4f4",
   "metadata": {},
   "outputs": [],
   "source": [
    "# Ensure both GeoDataFrames (df_geo and gdf) have the same CRS\n",
    "df_geo = df_geo.set_crs(neighborhood_boundaries.crs, allow_override=True)  # Set CRS if needed"
   ]
  },
  {
   "cell_type": "code",
   "execution_count": 35,
   "id": "af454857",
   "metadata": {},
   "outputs": [
    {
     "name": "stderr",
     "output_type": "stream",
     "text": [
      "/Users/afarence/opt/anaconda3/lib/python3.9/site-packages/IPython/core/interactiveshell.py:3448: FutureWarning: The `op` parameter is deprecated and will be removed in a future release. Please use the `predicate` parameter instead.\n",
      "  if await self.run_code(code, result, async_=asy):\n"
     ]
    }
   ],
   "source": [
    "# Perform a spatial join to find which points (brokerages) fall within which community (multipolygon)\n",
    "joined_gdf = gpd.sjoin(df_geo, neighborhood_boundaries, how=\"inner\", op='within')\n",
    "\n",
    "# Now, 'joined_gdf' contains the data from both the original DataFrame and the GeoDataFrame where the point lies within a community\n"
   ]
  },
  {
   "cell_type": "code",
   "execution_count": 37,
   "id": "1fc50069",
   "metadata": {},
   "outputs": [],
   "source": [
    "# Group by community and brokerage to get the count and median price\n",
    "grouped = joined_gdf.groupby(['community', 'Final_Brokerage']).agg({\n",
    "    'Final_Brokerage': 'count',   # Count of how many times a brokerage appears\n",
    "    'Price': 'sum'             # Sum sale price\n",
    "}).rename(columns={'Final_Brokerage': 'count'}).reset_index()"
   ]
  },
  {
   "cell_type": "code",
   "execution_count": 54,
   "id": "e35cb8b2",
   "metadata": {},
   "outputs": [
    {
     "name": "stdout",
     "output_type": "stream",
     "text": [
      "$23,020,396,856\n"
     ]
    }
   ],
   "source": [
    "print(f'${grouped.Price.sum():,}')"
   ]
  },
  {
   "cell_type": "code",
   "execution_count": 79,
   "id": "49d0caef",
   "metadata": {},
   "outputs": [],
   "source": [
    "# Group by 'community' and find the row with the maximum 'count' in each group\n",
    "max_count_idx = grouped.groupby(\"community\")['count'].idxmax()\n",
    "\n",
    "# Use the indices to retrieve the rows with the highest 'count' in each community\n",
    "brokerage_result = grouped.loc[max_count_idx, ['community','Final_Brokerage','count','Price']]\n",
    "\n",
    "brokerage_result = brokerage_result.rename(columns={'count':'brokerage_count','Price':'brokerage_price'})"
   ]
  },
  {
   "cell_type": "code",
   "execution_count": 83,
   "id": "bffc0ad2",
   "metadata": {},
   "outputs": [],
   "source": [
    "community_result = grouped.groupby('community').agg({'count':'sum','Price':'sum'})\n",
    "\n",
    "community_result = community_result.rename(columns={'count':'community_count','Price':'community_price'})"
   ]
  },
  {
   "cell_type": "code",
   "execution_count": 86,
   "id": "da405a2d",
   "metadata": {},
   "outputs": [],
   "source": [
    "merged_df = pd.merge(left=brokerage_result, left_on='community', how='inner',\n",
    "                     right=community_result, right_on='community')"
   ]
  },
  {
   "cell_type": "code",
   "execution_count": 92,
   "id": "093b30d0",
   "metadata": {},
   "outputs": [],
   "source": [
    "neighborhood_boundaries = neighborhood_boundaries.drop(columns=['area', 'shape_area', 'perimeter', 'area_num_1',\n",
    "       'area_numbe', 'comarea_id', 'comarea', 'shape_len'])"
   ]
  },
  {
   "cell_type": "code",
   "execution_count": 101,
   "id": "3eb2e375",
   "metadata": {},
   "outputs": [],
   "source": [
    "# final_merge = pd.merge(left=merged_df, left_on='community',how='inner',\n",
    "#                       right=neighborhood_boundaries, right_on='community')"
   ]
  },
  {
   "cell_type": "code",
   "execution_count": 104,
   "id": "2562d964",
   "metadata": {},
   "outputs": [],
   "source": [
    "final_merge = neighborhood_boundaries.merge(merged_df, on='community')"
   ]
  },
  {
   "cell_type": "code",
   "execution_count": 106,
   "id": "37847024",
   "metadata": {},
   "outputs": [],
   "source": [
    "final_merge.to_file(\"final_merge.geojson\",driver='GeoJSON')"
   ]
  },
  {
   "cell_type": "code",
   "execution_count": 123,
   "id": "cd89a3a2",
   "metadata": {},
   "outputs": [
    {
     "data": {
      "text/plain": [
       "2932545028"
      ]
     },
     "execution_count": 123,
     "metadata": {},
     "output_type": "execute_result"
    }
   ],
   "source": [
    "final_merge['community_price'].max()"
   ]
  },
  {
   "cell_type": "code",
   "execution_count": 124,
   "id": "425c9025",
   "metadata": {},
   "outputs": [
    {
     "data": {
      "text/plain": [
       "780000"
      ]
     },
     "execution_count": 124,
     "metadata": {},
     "output_type": "execute_result"
    }
   ],
   "source": [
    "final_merge['community_price'].min()"
   ]
  },
  {
   "cell_type": "code",
   "execution_count": 125,
   "id": "6dd580c8",
   "metadata": {},
   "outputs": [
    {
     "data": {
      "text/plain": [
       "366470628.5"
      ]
     },
     "execution_count": 125,
     "metadata": {},
     "output_type": "execute_result"
    }
   ],
   "source": [
    "(2932545028 - 780000)/8"
   ]
  },
  {
   "cell_type": "code",
   "execution_count": 122,
   "id": "29035b41",
   "metadata": {},
   "outputs": [
    {
     "name": "stdout",
     "output_type": "stream",
     "text": [
      "DOUGLAS -- $51,081,602\n",
      "DOUGLAS -- 269697.41509433964%\n",
      "Coldwell Banker Realty -- $304,712.5\n",
      "------------\n",
      "OAKLAND -- $21,008,000\n",
      "OAKLAND -- 371224.24242424243%\n",
      "Coldwell Banker Realty -- $349,280.0\n",
      "------------\n",
      "FULLER PARK -- $9,304,722\n",
      "FULLER PARK -- 285550.5789473684%\n",
      "Realty of Chicago LLC -- $309,240.0\n",
      "------------\n",
      "GRAND BOULEVARD -- $122,576,132\n",
      "GRAND BOULEVARD -- 438330.5515151515%\n",
      "@properties Christie's International Real Estate -- $525,546.4285714285\n",
      "------------\n",
      "KENWOOD -- $99,075,777\n",
      "KENWOOD -- 473577.8521126761%\n",
      "Berkshire Hathaway HomeServices Chicago -- $805,007.5681818182\n",
      "------------\n",
      "LINCOLN SQUARE -- $370,601,610\n",
      "LINCOLN SQUARE -- 616006.0587484036%\n",
      "@properties Christie's International Real Estate -- $677,158.3878787879\n",
      "------------\n",
      "WASHINGTON PARK -- $21,739,800\n",
      "WASHINGTON PARK -- 353805.8823529412%\n",
      "@properties Christie's International Real Estate -- $331,285.71428571426\n",
      "------------\n",
      "HYDE PARK -- $142,589,850\n",
      "HYDE PARK -- 334179.03319502075%\n",
      "@properties Christie's International Real Estate -- $355,470.07692307694\n",
      "------------\n",
      "WOODLAWN -- $123,426,436\n",
      "WOODLAWN -- 408671.8798798799%\n",
      "Coldwell Banker Realty -- $361,751.4285714286\n",
      "------------\n",
      "ROGERS PARK -- $216,712,339\n",
      "ROGERS PARK -- 292984.2171945701%\n",
      "@properties Christie's International Real Estate -- $297,786.6830985916\n",
      "------------\n",
      "JEFFERSON PARK -- $208,258,552\n",
      "JEFFERSON PARK -- 445400.25818882463%\n",
      "@properties Christie's International Real Estate -- $458,083.64\n",
      "------------\n",
      "FOREST GLEN -- $183,806,696\n",
      "FOREST GLEN -- 587998.3978779841%\n",
      "@properties Christie's International Real Estate -- $641,842.3728813559\n",
      "------------\n",
      "NORTH PARK -- $88,292,852\n",
      "NORTH PARK -- 486137.92417061614%\n",
      "@properties Christie's International Real Estate -- $492,491.3793103448\n",
      "------------\n",
      "ALBANY PARK -- $234,694,123\n",
      "ALBANY PARK -- 459585.4419354839%\n",
      "@properties Christie's International Real Estate -- $502,488.51\n",
      "------------\n",
      "PORTAGE PARK -- $391,492,896\n",
      "PORTAGE PARK -- 431874.652259332%\n",
      "@properties Christie's International Real Estate -- $450,051.4018691589\n",
      "------------\n",
      "IRVING PARK -- $413,024,928\n",
      "IRVING PARK -- 514323.2644889357%\n",
      "@properties Christie's International Real Estate -- $536,198.9285714285\n",
      "------------\n",
      "DUNNING -- $254,790,468\n",
      "DUNNING -- 359966.4947916667%\n",
      "Coldwell Banker Realty -- $338,496.875\n",
      "------------\n",
      "MONTCLARE -- $44,219,400\n",
      "MONTCLARE -- 386653.65853658534%\n",
      "Coldwell Banker Realty -- $371,000.0\n",
      "------------\n",
      "BELMONT CRAGIN -- $194,607,633\n",
      "BELMONT CRAGIN -- 376825.10869565216%\n",
      "Coldwell Banker Realty -- $372,217.4166666667\n",
      "------------\n",
      "WEST RIDGE -- $281,192,304\n",
      "WEST RIDGE -- 383530.39653035934%\n",
      "@properties Christie's International Real Estate -- $372,588.5\n",
      "------------\n",
      "HERMOSA -- $58,710,900\n",
      "HERMOSA -- 420930.0653594771%\n",
      "@properties Christie's International Real Estate -- $437,800.0\n",
      "------------\n",
      "AVONDALE -- $226,660,122\n",
      "AVONDALE -- 525640.6613861386%\n",
      "@properties Christie's International Real Estate -- $531,348.1095890411\n",
      "------------\n",
      "LOGAN SQUARE -- $840,329,055\n",
      "LOGAN SQUARE -- 716353.7963446475%\n",
      "Compass -- $811,119.7507886435\n",
      "------------\n",
      "HUMBOLDT PARK -- $193,734,936\n",
      "HUMBOLDT PARK -- 397194.3484573503%\n",
      "Compass -- $546,068.4782608695\n",
      "------------\n",
      "WEST TOWN -- $1,544,175,661\n",
      "WEST TOWN -- 699724.170940171%\n",
      "Compass -- $714,176.2495755518\n",
      "------------\n",
      "AUSTIN -- $311,935,656\n",
      "AUSTIN -- 327636.2068965517%\n",
      "Coldwell Banker Realty -- $317,155.2923076923\n",
      "------------\n",
      "WEST GARFIELD PARK -- $44,239,402\n",
      "WEST GARFIELD PARK -- 280165.12790697673%\n",
      "Coldwell Banker Realty -- $303,769.23076923075\n",
      "------------\n",
      "EAST GARFIELD PARK -- $81,533,871\n",
      "EAST GARFIELD PARK -- 343577.6123188406%\n",
      "Coldwell Banker Realty -- $316,513.09523809527\n",
      "------------\n",
      "NEAR WEST SIDE -- $974,299,830\n",
      "NEAR WEST SIDE -- 629139.2301121196%\n",
      "@properties Christie's International Real Estate -- $581,418.6552706553\n",
      "------------\n",
      "NORTH LAWNDALE -- $101,818,690\n",
      "NORTH LAWNDALE -- 310499.6892655367%\n",
      "Coldwell Banker Realty -- $311,469.23076923075\n",
      "------------\n",
      "UPTOWN -- $450,885,987\n",
      "UPTOWN -- 422992.9963689179%\n",
      "@properties Christie's International Real Estate -- $489,127.7657992565\n",
      "------------\n",
      "SOUTH LAWNDALE -- $64,595,200\n",
      "SOUTH LAWNDALE -- 292765.1639344262%\n",
      "RE/MAX MI CASA -- $341,975.0\n",
      "------------\n",
      "LOWER WEST SIDE -- $114,291,480\n",
      "LOWER WEST SIDE -- 494719.27419354836%\n",
      "Compass -- $466,605.55555555556\n",
      "------------\n",
      "NEAR SOUTH SIDE -- $407,559,222\n",
      "NEAR SOUTH SIDE -- 461434.27624309395%\n",
      "Compass -- $550,343.5411764706\n",
      "------------\n",
      "ARMOUR SQUARE -- $35,516,700\n",
      "ARMOUR SQUARE -- 429028.8888888889%\n",
      "Kale Realty -- $343,988.8888888889\n",
      "------------\n",
      "NORWOOD PARK -- $283,802,225\n",
      "NORWOOD PARK -- 419021.83544303797%\n",
      "@properties Christie's International Real Estate -- $445,519.1037735849\n",
      "------------\n",
      "NEAR NORTH SIDE -- $2,313,309,161\n",
      "NEAR NORTH SIDE -- 588509.9393939395%\n",
      "@properties Christie's International Real Estate -- $619,855.7227227227\n",
      "------------\n",
      "LOOP -- $829,494,685\n",
      "LOOP -- 564213.6811254396%\n",
      "@properties Christie's International Real Estate -- $586,140.3303964757\n",
      "------------\n",
      "SOUTH SHORE -- $96,912,986\n",
      "SOUTH SHORE -- 271244.3989769821%\n",
      "Coldwell Banker Realty -- $228,589.35\n",
      "------------\n",
      "CHATHAM -- $77,381,956\n",
      "CHATHAM -- 251872.16155988857%\n",
      "Coldwell Banker Realty -- $255,689.21568627452\n",
      "------------\n",
      "AVALON PARK -- $29,342,482\n",
      "AVALON PARK -- 242973.14503816795%\n",
      "Coldwell Banker Realty -- $207,250.0\n",
      "------------\n",
      "SOUTH CHICAGO -- $60,838,943\n",
      "SOUTH CHICAGO -- 230740.2491349481%\n",
      "Coldwell Banker Realty -- $243,541.20833333334\n",
      "------------\n",
      "BURNSIDE -- $5,555,000\n",
      "BURNSIDE -- 216212.12121212122%\n",
      "Keller Williams ONEChicago -- $316,000.0\n",
      "------------\n",
      "MCKINLEY PARK -- $50,357,072\n",
      "MCKINLEY PARK -- 391535.71830985916%\n",
      "Century 21 S.G.R., Inc. -- $403,153.8461538461\n",
      "------------\n",
      "LAKE VIEW -- $1,483,056,488\n",
      "LAKE VIEW -- 606399.5625782228%\n",
      "@properties Christie's International Real Estate -- $642,650.4435028249\n",
      "------------\n",
      "CALUMET HEIGHTS -- $62,769,944\n",
      "CALUMET HEIGHTS -- 239174.16312056736%\n",
      "Coldwell Banker Realty -- $212,598.63636363635\n",
      "------------\n",
      "ROSELAND -- $110,614,971\n",
      "ROSELAND -- 213739.94897959183%\n",
      "Coldwell Banker Realty -- $221,531.16176470587\n",
      "------------\n",
      "NORTH CENTER -- $414,560,118\n",
      "NORTH CENTER -- 675189.6117936118%\n",
      "@properties Christie's International Real Estate -- $655,554.495145631\n",
      "------------\n",
      "PULLMAN -- $19,260,174\n",
      "PULLMAN -- 207114.30909090908%\n",
      "Coldwell Banker Realty -- $207,200.0\n",
      "------------\n",
      "SOUTH DEERING -- $16,544,196\n",
      "SOUTH DEERING -- 170855.10280373832%\n",
      "Coldwell Banker Realty -- $173,730.0\n",
      "------------\n",
      "EAST SIDE -- $40,723,200\n",
      "EAST SIDE -- 233430.69306930693%\n",
      "Bloom/Sanchez Realty, Inc. -- $238,140.74074074073\n",
      "------------\n",
      "WEST PULLMAN -- $74,184,393\n",
      "WEST PULLMAN -- 199439.89781021897%\n",
      "Coldwell Banker Realty -- $204,879.07894736843\n",
      "------------\n",
      "RIVERDALE -- $500,000\n",
      "RIVERDALE -- 130000.0%\n",
      "Coldwell Banker Realty -- $140,000.0\n",
      "------------\n",
      "HEGEWISCH -- $26,217,372\n",
      "HEGEWISCH -- 235143.96899224806%\n",
      "Bloom/Sanchez Realty, Inc. -- $274,413.3333333333\n",
      "------------\n",
      "GARFIELD RIDGE -- $173,921,709\n",
      "GARFIELD RIDGE -- 340297.18899082567%\n",
      "Realty of Chicago LLC -- $329,721.6857142857\n",
      "------------\n",
      "ARCHER HEIGHTS -- $32,542,600\n",
      "ARCHER HEIGHTS -- 330466.3793103448%\n",
      "RE/MAX MI CASA -- $340,676.4705882353\n",
      "------------\n",
      "BRIGHTON PARK -- $78,420,154\n",
      "BRIGHTON PARK -- 305472.625%\n",
      "RE/MAX MI CASA -- $274,611.76470588235\n",
      "------------\n",
      "BRIDGEPORT -- $178,669,616\n",
      "BRIDGEPORT -- 540043.5265957447%\n",
      "Compass -- $840,922.4137931034\n",
      "------------\n",
      "NEW CITY -- $87,296,702\n",
      "NEW CITY -- 268387.7965116279%\n",
      "RE/MAX MI CASA -- $239,461.90476190476\n",
      "------------\n",
      "WEST ELSDON -- $49,879,308\n",
      "WEST ELSDON -- 293487.0%\n",
      "Realty of Chicago LLC -- $294,450.0\n",
      "------------\n",
      "GAGE PARK -- $39,823,398\n",
      "GAGE PARK -- 285285.87058823527%\n",
      "RE/MAX MI CASA -- $299,144.8275862069\n",
      "------------\n",
      "CLEARING -- $97,583,700\n",
      "CLEARING -- 280173.4210526316%\n",
      "RE/MAX MI CASA -- $261,241.17647058822\n",
      "------------\n",
      "WEST LAWN -- $66,409,564\n",
      "WEST LAWN -- 291328.9%\n",
      "RE/MAX MI CASA -- $266,741.4285714286\n",
      "------------\n",
      "CHICAGO LAWN -- $103,748,074\n",
      "CHICAGO LAWN -- 273782.89545454545%\n",
      "RE/MAX MI CASA -- $278,606.6666666667\n",
      "------------\n",
      "WEST ENGLEWOOD -- $81,988,444\n",
      "WEST ENGLEWOOD -- 220663.99017199018%\n",
      "RE/MAX MI CASA -- $230,052.9411764706\n",
      "------------\n",
      "ENGLEWOOD -- $62,387,063\n",
      "ENGLEWOOD -- 249310.44525547445%\n",
      "Coldwell Banker Realty -- $257,565.1739130435\n",
      "------------\n",
      "GREATER GRAND CROSSING -- $81,225,854\n",
      "GREATER GRAND CROSSING -- 267210.57738095237%\n",
      "Coldwell Banker Realty -- $267,403.125\n",
      "------------\n",
      "LINCOLN PARK -- $1,533,630,902\n",
      "LINCOLN PARK -- 909445.2088850918%\n",
      "@properties Christie's International Real Estate -- $1,051,908.7137809186\n",
      "------------\n",
      "ASHBURN -- $137,642,677\n",
      "ASHBURN -- 272037.1407942238%\n",
      "RE/MAX MI CASA -- $277,997.8510638298\n",
      "------------\n",
      "AUBURN GRESHAM -- $130,154,952\n",
      "AUBURN GRESHAM -- 245352.06712564544%\n",
      "Coldwell Banker Realty -- $252,951.0\n",
      "------------\n",
      "BEVERLY -- $124,495,103\n",
      "BEVERLY -- 413663.7543859649%\n",
      "Berkshire Hathaway HomeServices Chicago -- $458,862.1891891892\n",
      "------------\n",
      "WASHINGTON HEIGHTS -- $87,961,421\n",
      "WASHINGTON HEIGHTS -- 227747.88290398126%\n",
      "Coldwell Banker Realty -- $244,392.76315789475\n",
      "------------\n",
      "MOUNT GREENWOOD -- $97,846,652\n",
      "MOUNT GREENWOOD -- 325831.6083086053%\n",
      "Healy Real Estate -- $341,674.28571428574\n",
      "------------\n",
      "MORGAN PARK -- $84,850,436\n",
      "MORGAN PARK -- 272831.32738095237%\n",
      "Coldwell Banker Realty -- $296,560.4347826087\n",
      "------------\n",
      "OHARE -- $60,390,388\n",
      "OHARE -- 311856.688372093%\n",
      "Coldwell Banker Realty -- $277,450.0\n",
      "------------\n",
      "EDGEWATER -- $404,784,720\n",
      "EDGEWATER -- 377802.68343195267%\n",
      "@properties Christie's International Real Estate -- $422,328.7171314741\n",
      "------------\n",
      "EDISON PARK -- $96,714,131\n",
      "EDISON PARK -- 458523.7481481481%\n",
      "@properties Christie's International Real Estate -- $520,909.25\n",
      "------------\n"
     ]
    }
   ],
   "source": [
    "for i, row in final_merge.iterrows():\n",
    "    if row['community_price'] > row['brokerage_price']:\n",
    "        print(f\"{row['community']} -- ${row['community_price'] - row['brokerage_price']:,}\")\n",
    "        print(f\"{row['community']} -- {row['community_price'] / row['community_count']:}%\")\n",
    "        print(f\"{row['Final_Brokerage']} -- ${row['brokerage_price'] / row['brokerage_count']:,}\")\n",
    "        print('------------')\n",
    "    else:\n",
    "        print('Not great!')"
   ]
  },
  {
   "cell_type": "code",
   "execution_count": null,
   "id": "6eeabf6b",
   "metadata": {},
   "outputs": [],
   "source": [
    "# Now, we need to group again by community and aggregate the brokerages with their counts into a single string\n",
    "def format_brokerages(group):\n",
    "    return ', '.join([f\"{row['Final_Brokerage']} ({row['count']})\" for _, row in group.iterrows()])\n",
    "\n",
    "# Group by community and format the brokerages information\n",
    "grouped_brokerages = grouped.groupby('community').apply(format_brokerages).reset_index(name='brokerage_info')\n",
    "\n",
    "# Merge this aggregated data back into the GeoDataFrame (gdf)\n",
    "gdf = pd.merge(gdf, grouped_brokerages, on='community', how='left')"
   ]
  }
 ],
 "metadata": {
  "kernelspec": {
   "display_name": "Python 3 (ipykernel)",
   "language": "python",
   "name": "python3"
  },
  "language_info": {
   "codemirror_mode": {
    "name": "ipython",
    "version": 3
   },
   "file_extension": ".py",
   "mimetype": "text/x-python",
   "name": "python",
   "nbconvert_exporter": "python",
   "pygments_lexer": "ipython3",
   "version": "3.9.12"
  }
 },
 "nbformat": 4,
 "nbformat_minor": 5
}
