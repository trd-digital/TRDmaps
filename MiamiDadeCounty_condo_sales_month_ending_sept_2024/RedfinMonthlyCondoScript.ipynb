{
 "cells": [
  {
   "cell_type": "markdown",
   "id": "282c57c3",
   "metadata": {},
   "source": [
    "## Imports"
   ]
  },
  {
   "cell_type": "code",
   "execution_count": 1,
   "id": "54c15242",
   "metadata": {},
   "outputs": [],
   "source": [
    "import pandas as pd\n",
    "import numpy as np\n",
    "import re\n",
    "import os\n",
    "import folium\n",
    "import geopandas as gpd\n",
    "import glob\n",
    "from datetime import datetime, timedelta\n",
    "from tqdm.notebook import tqdm\n",
    "import requests\n",
    "import time"
   ]
  },
  {
   "cell_type": "markdown",
   "id": "7c620cf8",
   "metadata": {},
   "source": [
    "## Data Read-in"
   ]
  },
  {
   "cell_type": "code",
   "execution_count": 2,
   "id": "788cfd9b",
   "metadata": {},
   "outputs": [
    {
     "name": "stdout",
     "output_type": "stream",
     "text": [
      "2753\n"
     ]
    }
   ],
   "source": [
    "csv_files = glob.glob('*.csv')\n",
    "\n",
    "df_list = []\n",
    "\n",
    "for csv_file in csv_files:\n",
    "    df = pd.read_csv(csv_file)\n",
    "    df_list.append(df)\n",
    "    \n",
    "df = pd.concat(df_list,ignore_index=True)\n",
    "\n",
    "print(len(df))"
   ]
  },
  {
   "cell_type": "code",
   "execution_count": 3,
   "id": "563417a4",
   "metadata": {},
   "outputs": [],
   "source": [
    "gdf = gpd.read_file('countyboundary')"
   ]
  },
  {
   "cell_type": "markdown",
   "id": "5cdf738a",
   "metadata": {},
   "source": [
    "## Previous month's values\n",
    "\n",
    "Get values from here:\n",
    "\n",
    "https://docs.google.com/spreadsheets/d/1GWlqTIzCB29pDVDjd-iBVejVGGsLiAd0P6fq4LM83WI/edit?usp=sharing"
   ]
  },
  {
   "cell_type": "code",
   "execution_count": 4,
   "id": "7bbbad1d",
   "metadata": {},
   "outputs": [
    {
     "name": "stdout",
     "output_type": "stream",
     "text": [
      "Input County Name:\n",
      "Miami-Dade County\n"
     ]
    }
   ],
   "source": [
    "print('Input County Name:')\n",
    "county_name = input()"
   ]
  },
  {
   "cell_type": "code",
   "execution_count": 5,
   "id": "1cd3e074",
   "metadata": {},
   "outputs": [
    {
     "name": "stdout",
     "output_type": "stream",
     "text": [
      "Input total condo units sold previous (not last) month:\n",
      "712\n"
     ]
    }
   ],
   "source": [
    "print('Input total condo units sold previous (not last) month:')\n",
    "total_condos_sold_2nd_month = input()"
   ]
  },
  {
   "cell_type": "code",
   "execution_count": 6,
   "id": "229637ce",
   "metadata": {},
   "outputs": [
    {
     "name": "stdout",
     "output_type": "stream",
     "text": [
      "Input total sales volume ($$$ million) from previous (not last) month:\n",
      "470_000_000\n"
     ]
    }
   ],
   "source": [
    "print('Input total sales volume ($$$ million) from previous (not last) month:')\n",
    "sales_volume_2nd_month = input()"
   ]
  },
  {
   "cell_type": "code",
   "execution_count": 7,
   "id": "081faeec",
   "metadata": {},
   "outputs": [
    {
     "name": "stdout",
     "output_type": "stream",
     "text": [
      "Input median sales price from previous (not last) month:\n",
      "380_000\n"
     ]
    }
   ],
   "source": [
    "print('Input median sales price from previous (not last) month:')\n",
    "median_sales_price_2nd_month = input()"
   ]
  },
  {
   "cell_type": "code",
   "execution_count": 16,
   "id": "cdac5fe9",
   "metadata": {},
   "outputs": [
    {
     "name": "stdout",
     "output_type": "stream",
     "text": [
      "Input median psf from previous (not last) month:\n",
      "388\n"
     ]
    }
   ],
   "source": [
    "print('Input median psf from previous (not last) month:')\n",
    "median_psf_2nd_month = input()"
   ]
  },
  {
   "cell_type": "markdown",
   "id": "b03ce742",
   "metadata": {},
   "source": [
    "## Data Clean"
   ]
  },
  {
   "cell_type": "code",
   "execution_count": 17,
   "id": "1f2a52a3",
   "metadata": {},
   "outputs": [],
   "source": [
    "df = df.rename(columns={'URL (SEE https://www.redfin.com/buy-a-home/comparative-market-analysis FOR INFO ON PRICING)':'URL'})"
   ]
  },
  {
   "cell_type": "code",
   "execution_count": 18,
   "id": "5f45bf08",
   "metadata": {},
   "outputs": [],
   "source": [
    "df = df.dropna(subset=['SOLD DATE'])"
   ]
  },
  {
   "cell_type": "code",
   "execution_count": 19,
   "id": "25d1852d",
   "metadata": {},
   "outputs": [
    {
     "name": "stdout",
     "output_type": "stream",
     "text": [
      "Report month: September ---- Month before report month: August\n"
     ]
    }
   ],
   "source": [
    "# Get the current date\n",
    "current_date = datetime.now()\n",
    "\n",
    "# Calculate the first day of the current month\n",
    "first_day_of_current_month = current_date.replace(day=1)\n",
    "\n",
    "# Get the last day of the previous month by subtracting one day from the first day of the current month\n",
    "last_day_of_previous_month = first_day_of_current_month - timedelta(days=1)\n",
    "\n",
    "# Get the month name of the previous month\n",
    "previous_month_name = last_day_of_previous_month.strftime(\"%B\")\n",
    "\n",
    "# ---- Get the name of the month, as a string, from two months ago.\n",
    "# ---- Meaning, if the current month is January, return November.\n",
    "\n",
    "# Get the first day of the previous month by subtracting one day from the first day of the current month\n",
    "first_day_of_previous_month = first_day_of_current_month - timedelta(days=1)\n",
    "\n",
    "# Get the first day of the month before the last by subtracting one day from the first day of the previous month\n",
    "first_day_of_month_before_last = first_day_of_previous_month.replace(day=1) - timedelta(days=1)\n",
    "\n",
    "# Get the month name of the month before the last\n",
    "month_before_last_name = first_day_of_month_before_last.strftime(\"%B\")\n",
    "\n",
    "print(f'Report month: {previous_month_name} ---- Month before report month: {month_before_last_name}')"
   ]
  },
  {
   "cell_type": "code",
   "execution_count": 20,
   "id": "9b9d20ba",
   "metadata": {},
   "outputs": [],
   "source": [
    "# Define list of desired months (excluding current month)\n",
    "desired_months = [previous_month_name]\n",
    "\n",
    "# Filter DataFrame to include only entries from desired months\n",
    "df_filtered = df[df['SOLD DATE'].str.split('-', expand=True)[0].isin(desired_months)]\n",
    "\n",
    "# Reset the index\n",
    "df_filtered = df_filtered.reset_index(drop=True)"
   ]
  },
  {
   "cell_type": "code",
   "execution_count": 21,
   "id": "ab2d002c",
   "metadata": {},
   "outputs": [
    {
     "name": "stdout",
     "output_type": "stream",
     "text": [
      "PRICE\n",
      "False    666\n",
      "Name: count, dtype: int64\n",
      "-------\n",
      "$/SQUARE FEET\n",
      "False    664\n",
      "True       2\n",
      "Name: count, dtype: int64\n",
      "-------\n",
      "YEAR BUILT\n",
      "False    666\n",
      "Name: count, dtype: int64\n",
      "-------\n"
     ]
    }
   ],
   "source": [
    "# Data checks\n",
    "print(df_filtered['PRICE'].isna().value_counts())\n",
    "print('-------')\n",
    "print(df_filtered['$/SQUARE FEET'].isna().value_counts())\n",
    "print('-------')\n",
    "print(df_filtered['YEAR BUILT'].isna().value_counts())\n",
    "print('-------')"
   ]
  },
  {
   "cell_type": "code",
   "execution_count": 22,
   "id": "446eb268",
   "metadata": {},
   "outputs": [
    {
     "name": "stdout",
     "output_type": "stream",
     "text": [
      "https://www.redfin.com/FL/Miami/300-Biscayne-Boulevard-Way-33131/unit-1706/home/191553278\n"
     ]
    }
   ],
   "source": [
    "sorted_df = df_filtered.sort_values(by='YEAR BUILT', ascending=False)\n",
    "second_newest_building = sorted_df.iloc[2]\n",
    "print(second_newest_building['URL'])"
   ]
  },
  {
   "cell_type": "code",
   "execution_count": 23,
   "id": "61663e76",
   "metadata": {},
   "outputs": [
    {
     "data": {
      "text/html": [
       "<div>\n",
       "<style scoped>\n",
       "    .dataframe tbody tr th:only-of-type {\n",
       "        vertical-align: middle;\n",
       "    }\n",
       "\n",
       "    .dataframe tbody tr th {\n",
       "        vertical-align: top;\n",
       "    }\n",
       "\n",
       "    .dataframe thead th {\n",
       "        text-align: right;\n",
       "    }\n",
       "</style>\n",
       "<table border=\"1\" class=\"dataframe\">\n",
       "  <thead>\n",
       "    <tr style=\"text-align: right;\">\n",
       "      <th></th>\n",
       "      <th>SALE TYPE</th>\n",
       "      <th>SOLD DATE</th>\n",
       "      <th>PROPERTY TYPE</th>\n",
       "      <th>ADDRESS</th>\n",
       "      <th>CITY</th>\n",
       "      <th>STATE OR PROVINCE</th>\n",
       "      <th>ZIP OR POSTAL CODE</th>\n",
       "      <th>PRICE</th>\n",
       "      <th>BEDS</th>\n",
       "      <th>BATHS</th>\n",
       "      <th>...</th>\n",
       "      <th>STATUS</th>\n",
       "      <th>NEXT OPEN HOUSE START TIME</th>\n",
       "      <th>NEXT OPEN HOUSE END TIME</th>\n",
       "      <th>URL</th>\n",
       "      <th>SOURCE</th>\n",
       "      <th>MLS#</th>\n",
       "      <th>FAVORITE</th>\n",
       "      <th>INTERESTED</th>\n",
       "      <th>LATITUDE</th>\n",
       "      <th>LONGITUDE</th>\n",
       "    </tr>\n",
       "  </thead>\n",
       "  <tbody>\n",
       "  </tbody>\n",
       "</table>\n",
       "<p>0 rows × 27 columns</p>\n",
       "</div>"
      ],
      "text/plain": [
       "Empty DataFrame\n",
       "Columns: [SALE TYPE, SOLD DATE, PROPERTY TYPE, ADDRESS, CITY, STATE OR PROVINCE, ZIP OR POSTAL CODE, PRICE, BEDS, BATHS, LOCATION, SQUARE FEET, LOT SIZE, YEAR BUILT, DAYS ON MARKET, $/SQUARE FEET, HOA/MONTH, STATUS, NEXT OPEN HOUSE START TIME, NEXT OPEN HOUSE END TIME, URL, SOURCE, MLS#, FAVORITE, INTERESTED, LATITUDE, LONGITUDE]\n",
       "Index: []\n",
       "\n",
       "[0 rows x 27 columns]"
      ]
     },
     "execution_count": 23,
     "metadata": {},
     "output_type": "execute_result"
    }
   ],
   "source": [
    "df_filtered.loc[df_filtered['PRICE'] == '0']"
   ]
  },
  {
   "cell_type": "code",
   "execution_count": 24,
   "id": "b0376d17",
   "metadata": {},
   "outputs": [],
   "source": [
    "df_filtered['PRICE'] = pd.to_numeric(df_filtered['PRICE'])\n",
    "df_filtered['$/SQUARE FEET'] = pd.to_numeric(df_filtered['$/SQUARE FEET'])\n",
    "df_filtered['YEAR BUILT'] = pd.to_numeric(df_filtered['YEAR BUILT'])\n",
    "df_filtered['LATITUDE'] = pd.to_numeric(df_filtered['LATITUDE'])\n",
    "df_filtered['LONGITUDE'] = pd.to_numeric(df_filtered['LONGITUDE'])"
   ]
  },
  {
   "cell_type": "code",
   "execution_count": 25,
   "id": "22be7f44",
   "metadata": {},
   "outputs": [],
   "source": [
    "df_filtered = df_filtered.drop_duplicates().reset_index(drop=True)"
   ]
  },
  {
   "cell_type": "code",
   "execution_count": 26,
   "id": "a5e15306",
   "metadata": {},
   "outputs": [
    {
     "data": {
      "text/html": [
       "<div>\n",
       "<style scoped>\n",
       "    .dataframe tbody tr th:only-of-type {\n",
       "        vertical-align: middle;\n",
       "    }\n",
       "\n",
       "    .dataframe tbody tr th {\n",
       "        vertical-align: top;\n",
       "    }\n",
       "\n",
       "    .dataframe thead th {\n",
       "        text-align: right;\n",
       "    }\n",
       "</style>\n",
       "<table border=\"1\" class=\"dataframe\">\n",
       "  <thead>\n",
       "    <tr style=\"text-align: right;\">\n",
       "      <th></th>\n",
       "      <th>SALE TYPE</th>\n",
       "      <th>SOLD DATE</th>\n",
       "      <th>PROPERTY TYPE</th>\n",
       "      <th>ADDRESS</th>\n",
       "      <th>CITY</th>\n",
       "      <th>STATE OR PROVINCE</th>\n",
       "      <th>ZIP OR POSTAL CODE</th>\n",
       "      <th>PRICE</th>\n",
       "      <th>BEDS</th>\n",
       "      <th>BATHS</th>\n",
       "      <th>...</th>\n",
       "      <th>STATUS</th>\n",
       "      <th>NEXT OPEN HOUSE START TIME</th>\n",
       "      <th>NEXT OPEN HOUSE END TIME</th>\n",
       "      <th>URL</th>\n",
       "      <th>SOURCE</th>\n",
       "      <th>MLS#</th>\n",
       "      <th>FAVORITE</th>\n",
       "      <th>INTERESTED</th>\n",
       "      <th>LATITUDE</th>\n",
       "      <th>LONGITUDE</th>\n",
       "    </tr>\n",
       "  </thead>\n",
       "  <tbody>\n",
       "    <tr>\n",
       "      <th>177</th>\n",
       "      <td>PAST SALE</td>\n",
       "      <td>September-25-2024</td>\n",
       "      <td>Condo/Co-op</td>\n",
       "      <td>19201 Collins Ave #938</td>\n",
       "      <td>Sunny Isles Beach</td>\n",
       "      <td>FL</td>\n",
       "      <td>33160.0</td>\n",
       "      <td>118.0</td>\n",
       "      <td>0.0</td>\n",
       "      <td>1.0</td>\n",
       "      <td>...</td>\n",
       "      <td>Sold</td>\n",
       "      <td>NaN</td>\n",
       "      <td>NaN</td>\n",
       "      <td>https://www.redfin.com/FL/Sunny-Isles-Beach/19...</td>\n",
       "      <td>MARMLS</td>\n",
       "      <td>A11595355</td>\n",
       "      <td>N</td>\n",
       "      <td>Y</td>\n",
       "      <td>25.954318</td>\n",
       "      <td>-80.119900</td>\n",
       "    </tr>\n",
       "    <tr>\n",
       "      <th>146</th>\n",
       "      <td>PAST SALE</td>\n",
       "      <td>September-30-2024</td>\n",
       "      <td>Condo/Co-op</td>\n",
       "      <td>7636 Abbott Ave #6</td>\n",
       "      <td>Miami Beach</td>\n",
       "      <td>FL</td>\n",
       "      <td>33141.0</td>\n",
       "      <td>170.0</td>\n",
       "      <td>1.0</td>\n",
       "      <td>1.0</td>\n",
       "      <td>...</td>\n",
       "      <td>Sold</td>\n",
       "      <td>NaN</td>\n",
       "      <td>NaN</td>\n",
       "      <td>https://www.redfin.com/FL/Miami-Beach/7636-Abb...</td>\n",
       "      <td>MARMLS</td>\n",
       "      <td>A11636168</td>\n",
       "      <td>N</td>\n",
       "      <td>Y</td>\n",
       "      <td>25.861882</td>\n",
       "      <td>-80.123252</td>\n",
       "    </tr>\n",
       "    <tr>\n",
       "      <th>189</th>\n",
       "      <td>PAST SALE</td>\n",
       "      <td>September-10-2024</td>\n",
       "      <td>Condo/Co-op</td>\n",
       "      <td>1750 NE 191st St Unit 209-2</td>\n",
       "      <td>Miami</td>\n",
       "      <td>FL</td>\n",
       "      <td>33179.0</td>\n",
       "      <td>16500.0</td>\n",
       "      <td>2.0</td>\n",
       "      <td>2.0</td>\n",
       "      <td>...</td>\n",
       "      <td>Sold</td>\n",
       "      <td>NaN</td>\n",
       "      <td>NaN</td>\n",
       "      <td>https://www.redfin.com/FL/Miami/1750-NE-191st-...</td>\n",
       "      <td>MARMLS</td>\n",
       "      <td>A11481701</td>\n",
       "      <td>N</td>\n",
       "      <td>Y</td>\n",
       "      <td>25.949213</td>\n",
       "      <td>-80.167410</td>\n",
       "    </tr>\n",
       "    <tr>\n",
       "      <th>188</th>\n",
       "      <td>PAST SALE</td>\n",
       "      <td>September-6-2024</td>\n",
       "      <td>Condo/Co-op</td>\n",
       "      <td>3255 NE 184th St #12105</td>\n",
       "      <td>Aventura</td>\n",
       "      <td>FL</td>\n",
       "      <td>33160.0</td>\n",
       "      <td>49000.0</td>\n",
       "      <td>2.0</td>\n",
       "      <td>2.0</td>\n",
       "      <td>...</td>\n",
       "      <td>Sold</td>\n",
       "      <td>NaN</td>\n",
       "      <td>NaN</td>\n",
       "      <td>https://www.redfin.com/FL/North-Miami-Beach/32...</td>\n",
       "      <td>Beaches MLS</td>\n",
       "      <td>F10423705</td>\n",
       "      <td>N</td>\n",
       "      <td>Y</td>\n",
       "      <td>25.947065</td>\n",
       "      <td>-80.137548</td>\n",
       "    </tr>\n",
       "    <tr>\n",
       "      <th>159</th>\n",
       "      <td>PAST SALE</td>\n",
       "      <td>September-12-2024</td>\n",
       "      <td>Condo/Co-op</td>\n",
       "      <td>15201 NE 6th Ave Unit C210</td>\n",
       "      <td>Miami</td>\n",
       "      <td>FL</td>\n",
       "      <td>33162.0</td>\n",
       "      <td>86000.0</td>\n",
       "      <td>1.0</td>\n",
       "      <td>1.5</td>\n",
       "      <td>...</td>\n",
       "      <td>Sold</td>\n",
       "      <td>NaN</td>\n",
       "      <td>NaN</td>\n",
       "      <td>https://www.redfin.com/FL/Miami/15201-NE-6th-A...</td>\n",
       "      <td>MARMLS</td>\n",
       "      <td>A11609102</td>\n",
       "      <td>N</td>\n",
       "      <td>Y</td>\n",
       "      <td>25.915314</td>\n",
       "      <td>-80.186602</td>\n",
       "    </tr>\n",
       "    <tr>\n",
       "      <th>144</th>\n",
       "      <td>PAST SALE</td>\n",
       "      <td>September-6-2024</td>\n",
       "      <td>Condo/Co-op</td>\n",
       "      <td>101 NW 204th St #5</td>\n",
       "      <td>Miami Gardens</td>\n",
       "      <td>FL</td>\n",
       "      <td>33169.0</td>\n",
       "      <td>99000.0</td>\n",
       "      <td>1.0</td>\n",
       "      <td>1.0</td>\n",
       "      <td>...</td>\n",
       "      <td>Sold</td>\n",
       "      <td>NaN</td>\n",
       "      <td>NaN</td>\n",
       "      <td>https://www.redfin.com/FL/Miami/101-NW-204th-S...</td>\n",
       "      <td>MARMLS</td>\n",
       "      <td>A11623245</td>\n",
       "      <td>N</td>\n",
       "      <td>Y</td>\n",
       "      <td>25.963244</td>\n",
       "      <td>-80.204667</td>\n",
       "    </tr>\n",
       "    <tr>\n",
       "      <th>162</th>\n",
       "      <td>PAST SALE</td>\n",
       "      <td>September-10-2024</td>\n",
       "      <td>Condo/Co-op</td>\n",
       "      <td>15610 NE 6th Ave Unit 30C</td>\n",
       "      <td>Miami</td>\n",
       "      <td>FL</td>\n",
       "      <td>33162.0</td>\n",
       "      <td>110000.0</td>\n",
       "      <td>2.0</td>\n",
       "      <td>1.0</td>\n",
       "      <td>...</td>\n",
       "      <td>Sold</td>\n",
       "      <td>NaN</td>\n",
       "      <td>NaN</td>\n",
       "      <td>https://www.redfin.com/FL/Miami/15610-NE-6th-A...</td>\n",
       "      <td>Beaches MLS</td>\n",
       "      <td>F10450532</td>\n",
       "      <td>N</td>\n",
       "      <td>Y</td>\n",
       "      <td>25.918155</td>\n",
       "      <td>-80.188500</td>\n",
       "    </tr>\n",
       "    <tr>\n",
       "      <th>191</th>\n",
       "      <td>PAST SALE</td>\n",
       "      <td>September-6-2024</td>\n",
       "      <td>Condo/Co-op</td>\n",
       "      <td>51 NE 204th St #19</td>\n",
       "      <td>Miami Gardens</td>\n",
       "      <td>FL</td>\n",
       "      <td>33179.0</td>\n",
       "      <td>110000.0</td>\n",
       "      <td>1.0</td>\n",
       "      <td>1.0</td>\n",
       "      <td>...</td>\n",
       "      <td>Sold</td>\n",
       "      <td>NaN</td>\n",
       "      <td>NaN</td>\n",
       "      <td>https://www.redfin.com/FL/Miami/51-NE-204th-St...</td>\n",
       "      <td>MARMLS</td>\n",
       "      <td>A11509500</td>\n",
       "      <td>N</td>\n",
       "      <td>Y</td>\n",
       "      <td>25.963309</td>\n",
       "      <td>-80.199903</td>\n",
       "    </tr>\n",
       "    <tr>\n",
       "      <th>153</th>\n",
       "      <td>PAST SALE</td>\n",
       "      <td>September-27-2024</td>\n",
       "      <td>Condo/Co-op</td>\n",
       "      <td>498 NW 165th St Rd Unit D-501</td>\n",
       "      <td>Miami</td>\n",
       "      <td>FL</td>\n",
       "      <td>33169.0</td>\n",
       "      <td>120000.0</td>\n",
       "      <td>2.0</td>\n",
       "      <td>2.0</td>\n",
       "      <td>...</td>\n",
       "      <td>Sold</td>\n",
       "      <td>NaN</td>\n",
       "      <td>NaN</td>\n",
       "      <td>https://www.redfin.com/FL/Miami/498-NW-165th-S...</td>\n",
       "      <td>MARMLS</td>\n",
       "      <td>A11624929</td>\n",
       "      <td>N</td>\n",
       "      <td>Y</td>\n",
       "      <td>25.923320</td>\n",
       "      <td>-80.207215</td>\n",
       "    </tr>\n",
       "    <tr>\n",
       "      <th>187</th>\n",
       "      <td>PAST SALE</td>\n",
       "      <td>September-11-2024</td>\n",
       "      <td>Condo/Co-op</td>\n",
       "      <td>661 NE 195 #107</td>\n",
       "      <td>Miami</td>\n",
       "      <td>FL</td>\n",
       "      <td>33179.0</td>\n",
       "      <td>120000.0</td>\n",
       "      <td>1.0</td>\n",
       "      <td>1.5</td>\n",
       "      <td>...</td>\n",
       "      <td>Sold</td>\n",
       "      <td>NaN</td>\n",
       "      <td>NaN</td>\n",
       "      <td>https://www.redfin.com/FL/Miami/661-NE-195th-S...</td>\n",
       "      <td>Beaches MLS</td>\n",
       "      <td>RX-10966050</td>\n",
       "      <td>N</td>\n",
       "      <td>Y</td>\n",
       "      <td>25.955972</td>\n",
       "      <td>-80.190621</td>\n",
       "    </tr>\n",
       "    <tr>\n",
       "      <th>185</th>\n",
       "      <td>PAST SALE</td>\n",
       "      <td>September-13-2024</td>\n",
       "      <td>Condo/Co-op</td>\n",
       "      <td>19201 Collins Ave #733</td>\n",
       "      <td>Sunny Isles Beach</td>\n",
       "      <td>FL</td>\n",
       "      <td>33160.0</td>\n",
       "      <td>122500.0</td>\n",
       "      <td>0.0</td>\n",
       "      <td>1.0</td>\n",
       "      <td>...</td>\n",
       "      <td>Sold</td>\n",
       "      <td>NaN</td>\n",
       "      <td>NaN</td>\n",
       "      <td>https://www.redfin.com/FL/Sunny-Isles-Beach/19...</td>\n",
       "      <td>MARMLS</td>\n",
       "      <td>A11564020</td>\n",
       "      <td>N</td>\n",
       "      <td>Y</td>\n",
       "      <td>25.954318</td>\n",
       "      <td>-80.119900</td>\n",
       "    </tr>\n",
       "    <tr>\n",
       "      <th>147</th>\n",
       "      <td>PAST SALE</td>\n",
       "      <td>September-19-2024</td>\n",
       "      <td>Condo/Co-op</td>\n",
       "      <td>1301 NE Miami Gardens Dr Unit 1011W</td>\n",
       "      <td>Miami</td>\n",
       "      <td>FL</td>\n",
       "      <td>33179.0</td>\n",
       "      <td>126000.0</td>\n",
       "      <td>1.0</td>\n",
       "      <td>1.0</td>\n",
       "      <td>...</td>\n",
       "      <td>Sold</td>\n",
       "      <td>NaN</td>\n",
       "      <td>NaN</td>\n",
       "      <td>https://www.redfin.com/FL/Miami/1301-NE-Miami-...</td>\n",
       "      <td>MARMLS</td>\n",
       "      <td>A11645493</td>\n",
       "      <td>N</td>\n",
       "      <td>Y</td>\n",
       "      <td>25.946501</td>\n",
       "      <td>-80.175895</td>\n",
       "    </tr>\n",
       "    <tr>\n",
       "      <th>174</th>\n",
       "      <td>PAST SALE</td>\n",
       "      <td>September-27-2024</td>\n",
       "      <td>Condo/Co-op</td>\n",
       "      <td>165 NE 203rd Ter #9</td>\n",
       "      <td>Miami Gardens</td>\n",
       "      <td>FL</td>\n",
       "      <td>33179.0</td>\n",
       "      <td>129000.0</td>\n",
       "      <td>2.0</td>\n",
       "      <td>2.0</td>\n",
       "      <td>...</td>\n",
       "      <td>Sold</td>\n",
       "      <td>NaN</td>\n",
       "      <td>NaN</td>\n",
       "      <td>https://www.redfin.com/FL/Miami/165-NE-203rd-T...</td>\n",
       "      <td>MARMLS</td>\n",
       "      <td>A11588416</td>\n",
       "      <td>N</td>\n",
       "      <td>Y</td>\n",
       "      <td>25.962262</td>\n",
       "      <td>-80.200261</td>\n",
       "    </tr>\n",
       "    <tr>\n",
       "      <th>166</th>\n",
       "      <td>PAST SALE</td>\n",
       "      <td>September-24-2024</td>\n",
       "      <td>Condo/Co-op</td>\n",
       "      <td>1750 NE 191st St Unit 315-3</td>\n",
       "      <td>Miami</td>\n",
       "      <td>FL</td>\n",
       "      <td>33179.0</td>\n",
       "      <td>130000.0</td>\n",
       "      <td>1.0</td>\n",
       "      <td>1.5</td>\n",
       "      <td>...</td>\n",
       "      <td>Sold</td>\n",
       "      <td>NaN</td>\n",
       "      <td>NaN</td>\n",
       "      <td>https://www.redfin.com/FL/Miami/1750-NE-191st-...</td>\n",
       "      <td>MARMLS</td>\n",
       "      <td>A11624115</td>\n",
       "      <td>N</td>\n",
       "      <td>Y</td>\n",
       "      <td>25.949213</td>\n",
       "      <td>-80.167410</td>\n",
       "    </tr>\n",
       "    <tr>\n",
       "      <th>157</th>\n",
       "      <td>PAST SALE</td>\n",
       "      <td>September-27-2024</td>\n",
       "      <td>Condo/Co-op</td>\n",
       "      <td>19051 NE 2nd Ave #1515</td>\n",
       "      <td>Miami</td>\n",
       "      <td>FL</td>\n",
       "      <td>33179.0</td>\n",
       "      <td>132000.0</td>\n",
       "      <td>2.0</td>\n",
       "      <td>1.0</td>\n",
       "      <td>...</td>\n",
       "      <td>Sold</td>\n",
       "      <td>NaN</td>\n",
       "      <td>NaN</td>\n",
       "      <td>https://www.redfin.com/FL/Miami/19051-NE-2nd-A...</td>\n",
       "      <td>MARMLS</td>\n",
       "      <td>A11616469</td>\n",
       "      <td>N</td>\n",
       "      <td>Y</td>\n",
       "      <td>25.949735</td>\n",
       "      <td>-80.197046</td>\n",
       "    </tr>\n",
       "    <tr>\n",
       "      <th>179</th>\n",
       "      <td>PAST SALE</td>\n",
       "      <td>September-6-2024</td>\n",
       "      <td>Condo/Co-op</td>\n",
       "      <td>1770 NE 191st St Unit 607-1</td>\n",
       "      <td>Miami</td>\n",
       "      <td>FL</td>\n",
       "      <td>33179.0</td>\n",
       "      <td>137000.0</td>\n",
       "      <td>1.0</td>\n",
       "      <td>1.0</td>\n",
       "      <td>...</td>\n",
       "      <td>Sold</td>\n",
       "      <td>NaN</td>\n",
       "      <td>NaN</td>\n",
       "      <td>https://www.redfin.com/FL/Miami/1770-NE-191st-...</td>\n",
       "      <td>MARMLS</td>\n",
       "      <td>A11578101</td>\n",
       "      <td>N</td>\n",
       "      <td>Y</td>\n",
       "      <td>25.951003</td>\n",
       "      <td>-80.166485</td>\n",
       "    </tr>\n",
       "    <tr>\n",
       "      <th>165</th>\n",
       "      <td>PAST SALE</td>\n",
       "      <td>September-3-2024</td>\n",
       "      <td>Condo/Co-op</td>\n",
       "      <td>484 NW 165th St Rd Unit A216</td>\n",
       "      <td>Miami</td>\n",
       "      <td>FL</td>\n",
       "      <td>33169.0</td>\n",
       "      <td>143000.0</td>\n",
       "      <td>2.0</td>\n",
       "      <td>2.0</td>\n",
       "      <td>...</td>\n",
       "      <td>Sold</td>\n",
       "      <td>NaN</td>\n",
       "      <td>NaN</td>\n",
       "      <td>https://www.redfin.com/FL/Miami/484-NW-165th-S...</td>\n",
       "      <td>MARMLS</td>\n",
       "      <td>A11613159</td>\n",
       "      <td>N</td>\n",
       "      <td>Y</td>\n",
       "      <td>25.923659</td>\n",
       "      <td>-80.206675</td>\n",
       "    </tr>\n",
       "    <tr>\n",
       "      <th>182</th>\n",
       "      <td>PAST SALE</td>\n",
       "      <td>September-13-2024</td>\n",
       "      <td>Condo/Co-op</td>\n",
       "      <td>1710 NE 191 #316</td>\n",
       "      <td>Miami</td>\n",
       "      <td>FL</td>\n",
       "      <td>33179.0</td>\n",
       "      <td>145000.0</td>\n",
       "      <td>2.0</td>\n",
       "      <td>1.5</td>\n",
       "      <td>...</td>\n",
       "      <td>Sold</td>\n",
       "      <td>NaN</td>\n",
       "      <td>NaN</td>\n",
       "      <td>https://www.redfin.com/FL/Miami/1710-NE-191st-...</td>\n",
       "      <td>MARMLS</td>\n",
       "      <td>A11577558</td>\n",
       "      <td>N</td>\n",
       "      <td>Y</td>\n",
       "      <td>25.950091</td>\n",
       "      <td>-80.168238</td>\n",
       "    </tr>\n",
       "    <tr>\n",
       "      <th>176</th>\n",
       "      <td>PAST SALE</td>\n",
       "      <td>September-10-2024</td>\n",
       "      <td>Condo/Co-op</td>\n",
       "      <td>1400 Pennsylvania Ave #5</td>\n",
       "      <td>Miami Beach</td>\n",
       "      <td>FL</td>\n",
       "      <td>33139.0</td>\n",
       "      <td>155000.0</td>\n",
       "      <td>0.0</td>\n",
       "      <td>1.0</td>\n",
       "      <td>...</td>\n",
       "      <td>Sold</td>\n",
       "      <td>NaN</td>\n",
       "      <td>NaN</td>\n",
       "      <td>https://www.redfin.com/FL/Miami-Beach/1400-Pen...</td>\n",
       "      <td>MARMLS</td>\n",
       "      <td>A11589150</td>\n",
       "      <td>N</td>\n",
       "      <td>Y</td>\n",
       "      <td>25.785625</td>\n",
       "      <td>-80.134543</td>\n",
       "    </tr>\n",
       "    <tr>\n",
       "      <th>164</th>\n",
       "      <td>PAST SALE</td>\n",
       "      <td>September-25-2024</td>\n",
       "      <td>Condo/Co-op</td>\n",
       "      <td>1225 NE 124th St Unit 28B</td>\n",
       "      <td>North Miami</td>\n",
       "      <td>FL</td>\n",
       "      <td>33161.0</td>\n",
       "      <td>155000.0</td>\n",
       "      <td>1.0</td>\n",
       "      <td>1.0</td>\n",
       "      <td>...</td>\n",
       "      <td>Sold</td>\n",
       "      <td>NaN</td>\n",
       "      <td>NaN</td>\n",
       "      <td>https://www.redfin.com/FL/North-Miami/1225-NE-...</td>\n",
       "      <td>MARMLS</td>\n",
       "      <td>A11598829</td>\n",
       "      <td>N</td>\n",
       "      <td>Y</td>\n",
       "      <td>25.890107</td>\n",
       "      <td>-80.173371</td>\n",
       "    </tr>\n",
       "  </tbody>\n",
       "</table>\n",
       "<p>20 rows × 27 columns</p>\n",
       "</div>"
      ],
      "text/plain": [
       "     SALE TYPE          SOLD DATE PROPERTY TYPE  \\\n",
       "177  PAST SALE  September-25-2024   Condo/Co-op   \n",
       "146  PAST SALE  September-30-2024   Condo/Co-op   \n",
       "189  PAST SALE  September-10-2024   Condo/Co-op   \n",
       "188  PAST SALE   September-6-2024   Condo/Co-op   \n",
       "159  PAST SALE  September-12-2024   Condo/Co-op   \n",
       "144  PAST SALE   September-6-2024   Condo/Co-op   \n",
       "162  PAST SALE  September-10-2024   Condo/Co-op   \n",
       "191  PAST SALE   September-6-2024   Condo/Co-op   \n",
       "153  PAST SALE  September-27-2024   Condo/Co-op   \n",
       "187  PAST SALE  September-11-2024   Condo/Co-op   \n",
       "185  PAST SALE  September-13-2024   Condo/Co-op   \n",
       "147  PAST SALE  September-19-2024   Condo/Co-op   \n",
       "174  PAST SALE  September-27-2024   Condo/Co-op   \n",
       "166  PAST SALE  September-24-2024   Condo/Co-op   \n",
       "157  PAST SALE  September-27-2024   Condo/Co-op   \n",
       "179  PAST SALE   September-6-2024   Condo/Co-op   \n",
       "165  PAST SALE   September-3-2024   Condo/Co-op   \n",
       "182  PAST SALE  September-13-2024   Condo/Co-op   \n",
       "176  PAST SALE  September-10-2024   Condo/Co-op   \n",
       "164  PAST SALE  September-25-2024   Condo/Co-op   \n",
       "\n",
       "                                 ADDRESS               CITY STATE OR PROVINCE  \\\n",
       "177               19201 Collins Ave #938  Sunny Isles Beach                FL   \n",
       "146                   7636 Abbott Ave #6        Miami Beach                FL   \n",
       "189          1750 NE 191st St Unit 209-2              Miami                FL   \n",
       "188              3255 NE 184th St #12105           Aventura                FL   \n",
       "159           15201 NE 6th Ave Unit C210              Miami                FL   \n",
       "144                   101 NW 204th St #5      Miami Gardens                FL   \n",
       "162            15610 NE 6th Ave Unit 30C              Miami                FL   \n",
       "191                   51 NE 204th St #19      Miami Gardens                FL   \n",
       "153        498 NW 165th St Rd Unit D-501              Miami                FL   \n",
       "187                      661 NE 195 #107              Miami                FL   \n",
       "185               19201 Collins Ave #733  Sunny Isles Beach                FL   \n",
       "147  1301 NE Miami Gardens Dr Unit 1011W              Miami                FL   \n",
       "174                  165 NE 203rd Ter #9      Miami Gardens                FL   \n",
       "166          1750 NE 191st St Unit 315-3              Miami                FL   \n",
       "157               19051 NE 2nd Ave #1515              Miami                FL   \n",
       "179          1770 NE 191st St Unit 607-1              Miami                FL   \n",
       "165         484 NW 165th St Rd Unit A216              Miami                FL   \n",
       "182                     1710 NE 191 #316              Miami                FL   \n",
       "176             1400 Pennsylvania Ave #5        Miami Beach                FL   \n",
       "164            1225 NE 124th St Unit 28B        North Miami                FL   \n",
       "\n",
       "     ZIP OR POSTAL CODE     PRICE  BEDS  BATHS  ... STATUS  \\\n",
       "177             33160.0     118.0   0.0    1.0  ...   Sold   \n",
       "146             33141.0     170.0   1.0    1.0  ...   Sold   \n",
       "189             33179.0   16500.0   2.0    2.0  ...   Sold   \n",
       "188             33160.0   49000.0   2.0    2.0  ...   Sold   \n",
       "159             33162.0   86000.0   1.0    1.5  ...   Sold   \n",
       "144             33169.0   99000.0   1.0    1.0  ...   Sold   \n",
       "162             33162.0  110000.0   2.0    1.0  ...   Sold   \n",
       "191             33179.0  110000.0   1.0    1.0  ...   Sold   \n",
       "153             33169.0  120000.0   2.0    2.0  ...   Sold   \n",
       "187             33179.0  120000.0   1.0    1.5  ...   Sold   \n",
       "185             33160.0  122500.0   0.0    1.0  ...   Sold   \n",
       "147             33179.0  126000.0   1.0    1.0  ...   Sold   \n",
       "174             33179.0  129000.0   2.0    2.0  ...   Sold   \n",
       "166             33179.0  130000.0   1.0    1.5  ...   Sold   \n",
       "157             33179.0  132000.0   2.0    1.0  ...   Sold   \n",
       "179             33179.0  137000.0   1.0    1.0  ...   Sold   \n",
       "165             33169.0  143000.0   2.0    2.0  ...   Sold   \n",
       "182             33179.0  145000.0   2.0    1.5  ...   Sold   \n",
       "176             33139.0  155000.0   0.0    1.0  ...   Sold   \n",
       "164             33161.0  155000.0   1.0    1.0  ...   Sold   \n",
       "\n",
       "     NEXT OPEN HOUSE START TIME  NEXT OPEN HOUSE END TIME  \\\n",
       "177                         NaN                       NaN   \n",
       "146                         NaN                       NaN   \n",
       "189                         NaN                       NaN   \n",
       "188                         NaN                       NaN   \n",
       "159                         NaN                       NaN   \n",
       "144                         NaN                       NaN   \n",
       "162                         NaN                       NaN   \n",
       "191                         NaN                       NaN   \n",
       "153                         NaN                       NaN   \n",
       "187                         NaN                       NaN   \n",
       "185                         NaN                       NaN   \n",
       "147                         NaN                       NaN   \n",
       "174                         NaN                       NaN   \n",
       "166                         NaN                       NaN   \n",
       "157                         NaN                       NaN   \n",
       "179                         NaN                       NaN   \n",
       "165                         NaN                       NaN   \n",
       "182                         NaN                       NaN   \n",
       "176                         NaN                       NaN   \n",
       "164                         NaN                       NaN   \n",
       "\n",
       "                                                   URL       SOURCE  \\\n",
       "177  https://www.redfin.com/FL/Sunny-Isles-Beach/19...       MARMLS   \n",
       "146  https://www.redfin.com/FL/Miami-Beach/7636-Abb...       MARMLS   \n",
       "189  https://www.redfin.com/FL/Miami/1750-NE-191st-...       MARMLS   \n",
       "188  https://www.redfin.com/FL/North-Miami-Beach/32...  Beaches MLS   \n",
       "159  https://www.redfin.com/FL/Miami/15201-NE-6th-A...       MARMLS   \n",
       "144  https://www.redfin.com/FL/Miami/101-NW-204th-S...       MARMLS   \n",
       "162  https://www.redfin.com/FL/Miami/15610-NE-6th-A...  Beaches MLS   \n",
       "191  https://www.redfin.com/FL/Miami/51-NE-204th-St...       MARMLS   \n",
       "153  https://www.redfin.com/FL/Miami/498-NW-165th-S...       MARMLS   \n",
       "187  https://www.redfin.com/FL/Miami/661-NE-195th-S...  Beaches MLS   \n",
       "185  https://www.redfin.com/FL/Sunny-Isles-Beach/19...       MARMLS   \n",
       "147  https://www.redfin.com/FL/Miami/1301-NE-Miami-...       MARMLS   \n",
       "174  https://www.redfin.com/FL/Miami/165-NE-203rd-T...       MARMLS   \n",
       "166  https://www.redfin.com/FL/Miami/1750-NE-191st-...       MARMLS   \n",
       "157  https://www.redfin.com/FL/Miami/19051-NE-2nd-A...       MARMLS   \n",
       "179  https://www.redfin.com/FL/Miami/1770-NE-191st-...       MARMLS   \n",
       "165  https://www.redfin.com/FL/Miami/484-NW-165th-S...       MARMLS   \n",
       "182  https://www.redfin.com/FL/Miami/1710-NE-191st-...       MARMLS   \n",
       "176  https://www.redfin.com/FL/Miami-Beach/1400-Pen...       MARMLS   \n",
       "164  https://www.redfin.com/FL/North-Miami/1225-NE-...       MARMLS   \n",
       "\n",
       "            MLS#  FAVORITE INTERESTED   LATITUDE  LONGITUDE  \n",
       "177    A11595355         N          Y  25.954318 -80.119900  \n",
       "146    A11636168         N          Y  25.861882 -80.123252  \n",
       "189    A11481701         N          Y  25.949213 -80.167410  \n",
       "188    F10423705         N          Y  25.947065 -80.137548  \n",
       "159    A11609102         N          Y  25.915314 -80.186602  \n",
       "144    A11623245         N          Y  25.963244 -80.204667  \n",
       "162    F10450532         N          Y  25.918155 -80.188500  \n",
       "191    A11509500         N          Y  25.963309 -80.199903  \n",
       "153    A11624929         N          Y  25.923320 -80.207215  \n",
       "187  RX-10966050         N          Y  25.955972 -80.190621  \n",
       "185    A11564020         N          Y  25.954318 -80.119900  \n",
       "147    A11645493         N          Y  25.946501 -80.175895  \n",
       "174    A11588416         N          Y  25.962262 -80.200261  \n",
       "166    A11624115         N          Y  25.949213 -80.167410  \n",
       "157    A11616469         N          Y  25.949735 -80.197046  \n",
       "179    A11578101         N          Y  25.951003 -80.166485  \n",
       "165    A11613159         N          Y  25.923659 -80.206675  \n",
       "182    A11577558         N          Y  25.950091 -80.168238  \n",
       "176    A11589150         N          Y  25.785625 -80.134543  \n",
       "164    A11598829         N          Y  25.890107 -80.173371  \n",
       "\n",
       "[20 rows x 27 columns]"
      ]
     },
     "execution_count": 26,
     "metadata": {},
     "output_type": "execute_result"
    }
   ],
   "source": [
    "df_filtered.sort_values(by='PRICE',ascending=True).head(20)"
   ]
  },
  {
   "cell_type": "code",
   "execution_count": 27,
   "id": "e6256bce",
   "metadata": {},
   "outputs": [
    {
     "name": "stdout",
     "output_type": "stream",
     "text": [
      "https://www.redfin.com/FL/Miami/777-NE-62nd-St-33138/unit-C216/home/43306760\n"
     ]
    }
   ],
   "source": [
    "print(df_filtered['URL'].iloc[61])"
   ]
  },
  {
   "cell_type": "code",
   "execution_count": 28,
   "id": "fe440217",
   "metadata": {},
   "outputs": [],
   "source": [
    "# Correct the prices, if needed\n",
    "df_filtered.at[177,'PRICE']=(118_000)\n",
    "df_filtered.at[146,'PRICE']=(170_000)\n",
    "df_filtered.at[189,'PRICE']=(165_000)\n",
    "df_filtered.at[188,'PRICE']=(490_000)\n",
    "\n",
    "\n",
    "# Correct the psf, if needed\n",
    "df_filtered.at[177,'$/SQUARE FEET']=(118_000/360)\n",
    "df_filtered.at[146,'$/SQUARE FEET']=(170_000/521)\n",
    "df_filtered.at[189,'$/SQUARE FEET']=(189_000/1_317)\n",
    "df_filtered.at[188,'$/SQUARE FEET']=(499_000/1_077)"
   ]
  },
  {
   "cell_type": "code",
   "execution_count": 61,
   "id": "e3877a57",
   "metadata": {},
   "outputs": [],
   "source": [
    "### If needed, drop the row with the lowest price\n",
    "# min_value_index = df_filtered['PRICE'].idxmin()\n",
    "# df_filtered = df_filtered.drop(min_value_index)"
   ]
  },
  {
   "cell_type": "code",
   "execution_count": 24,
   "id": "7e529e83",
   "metadata": {},
   "outputs": [],
   "source": [
    "# print(df_filtered['URL'].iloc[528])"
   ]
  },
  {
   "cell_type": "code",
   "execution_count": 29,
   "id": "42d775ef",
   "metadata": {},
   "outputs": [
    {
     "data": {
      "text/html": [
       "<div>\n",
       "<style scoped>\n",
       "    .dataframe tbody tr th:only-of-type {\n",
       "        vertical-align: middle;\n",
       "    }\n",
       "\n",
       "    .dataframe tbody tr th {\n",
       "        vertical-align: top;\n",
       "    }\n",
       "\n",
       "    .dataframe thead th {\n",
       "        text-align: right;\n",
       "    }\n",
       "</style>\n",
       "<table border=\"1\" class=\"dataframe\">\n",
       "  <thead>\n",
       "    <tr style=\"text-align: right;\">\n",
       "      <th></th>\n",
       "      <th>PRICE</th>\n",
       "      <th>ADDRESS</th>\n",
       "      <th>CITY</th>\n",
       "      <th>$/SQUARE FEET</th>\n",
       "    </tr>\n",
       "  </thead>\n",
       "  <tbody>\n",
       "    <tr>\n",
       "      <th>190</th>\n",
       "      <td>195000.0</td>\n",
       "      <td>5300 NW 87th Ave #512</td>\n",
       "      <td>Doral</td>\n",
       "      <td>94.000000</td>\n",
       "    </tr>\n",
       "    <tr>\n",
       "      <th>153</th>\n",
       "      <td>120000.0</td>\n",
       "      <td>498 NW 165th St Rd Unit D-501</td>\n",
       "      <td>Miami</td>\n",
       "      <td>116.000000</td>\n",
       "    </tr>\n",
       "    <tr>\n",
       "      <th>159</th>\n",
       "      <td>86000.0</td>\n",
       "      <td>15201 NE 6th Ave Unit C210</td>\n",
       "      <td>Miami</td>\n",
       "      <td>116.000000</td>\n",
       "    </tr>\n",
       "    <tr>\n",
       "      <th>166</th>\n",
       "      <td>130000.0</td>\n",
       "      <td>1750 NE 191st St Unit 315-3</td>\n",
       "      <td>Miami</td>\n",
       "      <td>125.000000</td>\n",
       "    </tr>\n",
       "    <tr>\n",
       "      <th>187</th>\n",
       "      <td>120000.0</td>\n",
       "      <td>661 NE 195 #107</td>\n",
       "      <td>Miami</td>\n",
       "      <td>126.000000</td>\n",
       "    </tr>\n",
       "    <tr>\n",
       "      <th>162</th>\n",
       "      <td>110000.0</td>\n",
       "      <td>15610 NE 6th Ave Unit 30C</td>\n",
       "      <td>Miami</td>\n",
       "      <td>126.000000</td>\n",
       "    </tr>\n",
       "    <tr>\n",
       "      <th>157</th>\n",
       "      <td>132000.0</td>\n",
       "      <td>19051 NE 2nd Ave #1515</td>\n",
       "      <td>Miami</td>\n",
       "      <td>129.000000</td>\n",
       "    </tr>\n",
       "    <tr>\n",
       "      <th>174</th>\n",
       "      <td>129000.0</td>\n",
       "      <td>165 NE 203rd Ter #9</td>\n",
       "      <td>Miami Gardens</td>\n",
       "      <td>138.000000</td>\n",
       "    </tr>\n",
       "    <tr>\n",
       "      <th>165</th>\n",
       "      <td>143000.0</td>\n",
       "      <td>484 NW 165th St Rd Unit A216</td>\n",
       "      <td>Miami</td>\n",
       "      <td>138.000000</td>\n",
       "    </tr>\n",
       "    <tr>\n",
       "      <th>182</th>\n",
       "      <td>145000.0</td>\n",
       "      <td>1710 NE 191 #316</td>\n",
       "      <td>Miami</td>\n",
       "      <td>140.000000</td>\n",
       "    </tr>\n",
       "    <tr>\n",
       "      <th>189</th>\n",
       "      <td>165000.0</td>\n",
       "      <td>1750 NE 191st St Unit 209-2</td>\n",
       "      <td>Miami</td>\n",
       "      <td>143.507973</td>\n",
       "    </tr>\n",
       "    <tr>\n",
       "      <th>179</th>\n",
       "      <td>137000.0</td>\n",
       "      <td>1770 NE 191st St Unit 607-1</td>\n",
       "      <td>Miami</td>\n",
       "      <td>145.000000</td>\n",
       "    </tr>\n",
       "    <tr>\n",
       "      <th>191</th>\n",
       "      <td>110000.0</td>\n",
       "      <td>51 NE 204th St #19</td>\n",
       "      <td>Miami Gardens</td>\n",
       "      <td>155.000000</td>\n",
       "    </tr>\n",
       "    <tr>\n",
       "      <th>281</th>\n",
       "      <td>365000.0</td>\n",
       "      <td>1800 NE 114th St #909</td>\n",
       "      <td>Miami</td>\n",
       "      <td>157.000000</td>\n",
       "    </tr>\n",
       "    <tr>\n",
       "      <th>147</th>\n",
       "      <td>126000.0</td>\n",
       "      <td>1301 NE Miami Gardens Dr Unit 1011W</td>\n",
       "      <td>Miami</td>\n",
       "      <td>157.000000</td>\n",
       "    </tr>\n",
       "    <tr>\n",
       "      <th>487</th>\n",
       "      <td>250000.0</td>\n",
       "      <td>9375 Fontainebleau Blvd Unit L201</td>\n",
       "      <td>Miami</td>\n",
       "      <td>166.000000</td>\n",
       "    </tr>\n",
       "    <tr>\n",
       "      <th>183</th>\n",
       "      <td>175000.0</td>\n",
       "      <td>11925 NE 2nd Ave Unit B101</td>\n",
       "      <td>North Miami</td>\n",
       "      <td>167.000000</td>\n",
       "    </tr>\n",
       "    <tr>\n",
       "      <th>171</th>\n",
       "      <td>163000.0</td>\n",
       "      <td>1855 NE 121st St #21</td>\n",
       "      <td>North Miami</td>\n",
       "      <td>167.000000</td>\n",
       "    </tr>\n",
       "    <tr>\n",
       "      <th>143</th>\n",
       "      <td>175000.0</td>\n",
       "      <td>16851 NE 23rd Ave Unit B102</td>\n",
       "      <td>North Miami Beach</td>\n",
       "      <td>168.000000</td>\n",
       "    </tr>\n",
       "    <tr>\n",
       "      <th>474</th>\n",
       "      <td>250000.0</td>\n",
       "      <td>800 NE 195th St #107</td>\n",
       "      <td>Miami</td>\n",
       "      <td>170.000000</td>\n",
       "    </tr>\n",
       "  </tbody>\n",
       "</table>\n",
       "</div>"
      ],
      "text/plain": [
       "        PRICE                              ADDRESS               CITY  \\\n",
       "190  195000.0                5300 NW 87th Ave #512              Doral   \n",
       "153  120000.0        498 NW 165th St Rd Unit D-501              Miami   \n",
       "159   86000.0           15201 NE 6th Ave Unit C210              Miami   \n",
       "166  130000.0          1750 NE 191st St Unit 315-3              Miami   \n",
       "187  120000.0                      661 NE 195 #107              Miami   \n",
       "162  110000.0            15610 NE 6th Ave Unit 30C              Miami   \n",
       "157  132000.0               19051 NE 2nd Ave #1515              Miami   \n",
       "174  129000.0                  165 NE 203rd Ter #9      Miami Gardens   \n",
       "165  143000.0         484 NW 165th St Rd Unit A216              Miami   \n",
       "182  145000.0                     1710 NE 191 #316              Miami   \n",
       "189  165000.0          1750 NE 191st St Unit 209-2              Miami   \n",
       "179  137000.0          1770 NE 191st St Unit 607-1              Miami   \n",
       "191  110000.0                   51 NE 204th St #19      Miami Gardens   \n",
       "281  365000.0                1800 NE 114th St #909              Miami   \n",
       "147  126000.0  1301 NE Miami Gardens Dr Unit 1011W              Miami   \n",
       "487  250000.0    9375 Fontainebleau Blvd Unit L201              Miami   \n",
       "183  175000.0           11925 NE 2nd Ave Unit B101        North Miami   \n",
       "171  163000.0                 1855 NE 121st St #21        North Miami   \n",
       "143  175000.0          16851 NE 23rd Ave Unit B102  North Miami Beach   \n",
       "474  250000.0                 800 NE 195th St #107              Miami   \n",
       "\n",
       "     $/SQUARE FEET  \n",
       "190      94.000000  \n",
       "153     116.000000  \n",
       "159     116.000000  \n",
       "166     125.000000  \n",
       "187     126.000000  \n",
       "162     126.000000  \n",
       "157     129.000000  \n",
       "174     138.000000  \n",
       "165     138.000000  \n",
       "182     140.000000  \n",
       "189     143.507973  \n",
       "179     145.000000  \n",
       "191     155.000000  \n",
       "281     157.000000  \n",
       "147     157.000000  \n",
       "487     166.000000  \n",
       "183     167.000000  \n",
       "171     167.000000  \n",
       "143     168.000000  \n",
       "474     170.000000  "
      ]
     },
     "execution_count": 29,
     "metadata": {},
     "output_type": "execute_result"
    }
   ],
   "source": [
    "# Find problem psf by searching for low values\n",
    "df_filtered.sort_values(by='$/SQUARE FEET',ascending=True).head(20)[['PRICE','ADDRESS','CITY','$/SQUARE FEET']]"
   ]
  },
  {
   "cell_type": "code",
   "execution_count": 63,
   "id": "6895cf71",
   "metadata": {},
   "outputs": [],
   "source": [
    "# # Drop sales that aren't condos but labeled as such\n",
    "# df_filtered = df_filtered.drop(1320)"
   ]
  },
  {
   "cell_type": "markdown",
   "id": "103ad9df",
   "metadata": {},
   "source": [
    "## Make Maps"
   ]
  },
  {
   "cell_type": "code",
   "execution_count": 30,
   "id": "42ad9d63",
   "metadata": {},
   "outputs": [],
   "source": [
    "### Create a price column formatted as currency ###\n",
    "df_filtered['PRICE_AS_CURRENCY'] = df_filtered['PRICE'].apply(lambda x: \"${:,.0f}\".format(x))\n",
    "### Set formatting for Beds, Baths ###\n",
    "df_filtered['YEAR BUILT DISPLAY'] = df_filtered['YEAR BUILT'].apply(lambda x: '{:.0f}'.format(x))\n",
    "df_filtered['PRICE_SQUARE_FEET_AS_CURRENCY'] = df_filtered['$/SQUARE FEET'].apply(lambda x: '${:,.0f}'.format(x))"
   ]
  },
  {
   "cell_type": "code",
   "execution_count": 31,
   "id": "f42ba6b5",
   "metadata": {},
   "outputs": [],
   "source": [
    "df_filtered = df_filtered.sort_values(by=['PRICE'], ascending=False)\n",
    "### Insert different colors for top 10 sales vs. the rest ###\n",
    "df_filtered['COLOR'] = ''\n",
    "### Create RANK column ###\n",
    "df_filtered['RANK'] = 0\n",
    "### Insert RANK values ###\n",
    "df_filtered['RANK'] = range(1, len(df_filtered) + 1)\n",
    "# use numpy to assign values to the 'COLOR' column\n",
    "df_filtered['COLOR'] = np.where(df_filtered['RANK'] <= 10, 'orange', 'blue')"
   ]
  },
  {
   "cell_type": "markdown",
   "id": "99380454",
   "metadata": {},
   "source": [
    "## HTML Popup Formatter"
   ]
  },
  {
   "cell_type": "code",
   "execution_count": 32,
   "id": "6ffa151c",
   "metadata": {},
   "outputs": [],
   "source": [
    "### Define list of columns to drop from DF ###\n",
    "columns_drop = ['SALE TYPE','PROPERTY TYPE','STATE OR PROVINCE','ZIP OR POSTAL CODE','HOA/MONTH','STATUS','NEXT OPEN HOUSE START TIME','NEXT OPEN HOUSE END TIME','SOURCE','MLS#','FAVORITE','INTERESTED','SQUARE FEET','LOT SIZE']"
   ]
  },
  {
   "cell_type": "code",
   "execution_count": 33,
   "id": "b214f9e8",
   "metadata": {},
   "outputs": [],
   "source": [
    "### Drop the columns ###\n",
    "df_filtered = df_filtered.drop(columns=columns_drop)"
   ]
  },
  {
   "cell_type": "code",
   "execution_count": 34,
   "id": "d12c2830",
   "metadata": {},
   "outputs": [],
   "source": [
    "def popup_html(row):\n",
    "    Price = row['PRICE_AS_CURRENCY']\n",
    "    Address = row['ADDRESS']\n",
    "    City = row['CITY']\n",
    "    sold_date = row['SOLD DATE']\n",
    "    beds = row['BEDS']\n",
    "    baths = row['BATHS']\n",
    "    psf = row['PRICE_SQUARE_FEET_AS_CURRENCY']\n",
    "    year_built = row['YEAR BUILT DISPLAY']\n",
    "    rank = row['RANK']\n",
    "    \n",
    "    html = '''<!DOCTYPE html>\n",
    "    <html>\n",
    "    <strong>Price: </strong>{}'''.format(Price) + '''<br>\n",
    "    <strong>Address: </strong>{}'''.format(Address) + '''<br>\n",
    "    <strong>City: </strong>{}'''.format(City) + '''<br>\n",
    "    <strong>Sold: </strong>{}'''.format(sold_date) + '''<br>\n",
    "    <strong>Beds: </strong>{}'''.format(beds) + '''<br>\n",
    "    <strong>Baths: </strong>{}'''.format(baths) + '''<br>\n",
    "    <strong>Price per sf: </strong>{}'''.format(psf) + '''<br>\n",
    "    <strong>Year Built: </strong>{}'''.format(year_built) + '''<br>\n",
    "    <strong>Price Rank: </strong>{}'''.format(rank) + '''\n",
    "    </html>\n",
    "    '''\n",
    "    return html"
   ]
  },
  {
   "cell_type": "code",
   "execution_count": 35,
   "id": "b7fe13d2",
   "metadata": {},
   "outputs": [
    {
     "data": {
      "text/plain": [
       "<folium.map.LayerControl at 0x7f9bb8172b80>"
      ]
     },
     "execution_count": 35,
     "metadata": {},
     "output_type": "execute_result"
    }
   ],
   "source": [
    "### Create map container ###\n",
    "m = folium.Map(location=df_filtered[[\"LATITUDE\", \"LONGITUDE\"]].mean().to_list(),zoom_start=10,tiles=None)\n",
    "\n",
    "### Create title ###\n",
    "title_html = '''\n",
    "              <h3 align=\"center\" style=\"font-size:16px\"><b>{}</b></h3>\n",
    "             '''.format(f\"{previous_month_name} 2024 Condo Sales\")\n",
    "\n",
    "m.get_root().html.add_child(folium.Element(title_html))\n",
    "\n",
    "# Create two FeatureGroups for different color pins\n",
    "fg_blue = folium.FeatureGroup(name='All other sales')\n",
    "fg_orange = folium.FeatureGroup(name='Top 10 Sales')\n",
    "\n",
    "folium.GeoJson(gdf,tooltip=f'{county_name}',name=f'{county_name}').add_to(m)\n",
    "\n",
    "for index, row in df_filtered.iterrows():\n",
    "    # Add the markers to the appropriate FeatureGroup based on the color\n",
    "    if row['COLOR'] == 'blue':\n",
    "        marker = folium.Marker(\n",
    "            location=[row['LATITUDE'], row['LONGITUDE']],\n",
    "            radius=5,\n",
    "            fill=True,\n",
    "            icon=folium.Icon(color=row['COLOR']),\n",
    "            popup=folium.Popup(popup_html(row), max_width=400))\n",
    "        marker.add_to(fg_blue)\n",
    "    else:\n",
    "        marker = folium.Marker(\n",
    "            location=[row['LATITUDE'], row['LONGITUDE']],\n",
    "            radius=5,\n",
    "            fill=True,\n",
    "            icon=folium.Icon(color=row['COLOR']),\n",
    "            popup=folium.Popup(popup_html(row), max_width=400))\n",
    "        marker.add_to(fg_orange)\n",
    "\n",
    "# Add the FeatureGroups to the map\n",
    "fg_orange.add_to(m)\n",
    "fg_blue.add_to(m)\n",
    "\n",
    "folium.TileLayer('OpenStreetMap',control=False).add_to(m)\n",
    "\n",
    "# Add LayerControl to the map\n",
    "folium.map.LayerControl(collapsed=False).add_to(m)\n",
    "\n",
    "# Display map\n",
    "# m"
   ]
  },
  {
   "cell_type": "code",
   "execution_count": 36,
   "id": "a704af7f",
   "metadata": {},
   "outputs": [],
   "source": [
    "m.save('index.html')"
   ]
  },
  {
   "cell_type": "markdown",
   "id": "81b7dc98",
   "metadata": {},
   "source": [
    "## Summary Info"
   ]
  },
  {
   "cell_type": "code",
   "execution_count": 37,
   "id": "6910bd5b",
   "metadata": {},
   "outputs": [],
   "source": [
    "BR = '\\n'\n",
    "\n",
    "ME = '\\033[1m' + 'Most Expensive' + '\\033[0m'\n",
    "LE = '\\033[1m' + 'Least Expensive' + '\\033[0m'\n",
    "\n",
    "MAX_PSF = '\\033[1m' + 'Highest Price Per Square Foot' + '\\033[0m'\n",
    "MIN_PSF = '\\033[1m' + 'Lowest Price Per Square Foot' + '\\033[0m'\n",
    "\n",
    "Newest = '\\033[1m' + 'Newest' + '\\033[0m'\n",
    "Oldest = '\\033[1m' + 'Oldest' + '\\033[0m'"
   ]
  },
  {
   "cell_type": "code",
   "execution_count": 38,
   "id": "9d2c1b97",
   "metadata": {},
   "outputs": [
    {
     "data": {
      "text/plain": [
       "Index(['SOLD DATE', 'ADDRESS', 'CITY', 'PRICE', 'BEDS', 'BATHS', 'LOCATION',\n",
       "       'YEAR BUILT', 'DAYS ON MARKET', '$/SQUARE FEET', 'URL', 'LATITUDE',\n",
       "       'LONGITUDE', 'PRICE_AS_CURRENCY', 'YEAR BUILT DISPLAY',\n",
       "       'PRICE_SQUARE_FEET_AS_CURRENCY', 'COLOR', 'RANK'],\n",
       "      dtype='object')"
      ]
     },
     "execution_count": 38,
     "metadata": {},
     "output_type": "execute_result"
    }
   ],
   "source": [
    "df_filtered.columns"
   ]
  },
  {
   "cell_type": "code",
   "execution_count": 39,
   "id": "81280824",
   "metadata": {},
   "outputs": [],
   "source": [
    "df_filtered['FULL_ADDRESS'] = df_filtered['ADDRESS'] + ' ' + df_filtered['CITY']"
   ]
  },
  {
   "cell_type": "code",
   "execution_count": 40,
   "id": "4677d727",
   "metadata": {},
   "outputs": [
    {
     "name": "stdout",
     "output_type": "stream",
     "text": [
      "https://www.redfin.com/FL/Miami-Beach/752-Meridian-Ave-33139/unit-19/home/42802202\n"
     ]
    }
   ],
   "source": [
    "print(df_filtered.loc[df_filtered['YEAR BUILT'].idxmin()]['URL'])"
   ]
  },
  {
   "cell_type": "code",
   "execution_count": 41,
   "id": "39ff9917",
   "metadata": {},
   "outputs": [
    {
     "name": "stdout",
     "output_type": "stream",
     "text": [
      "\u001b[1mMost Expensive\u001b[0m\n",
      "OCEANA KEY BISCAYNE CONDO, 360 Ocean Dr Unit 1002S Key Biscayne | Price $8,400,000 | $2,504 psf | Year built: 2014\n",
      "\u001b[1mLeast Expensive\u001b[0m\n",
      "OLA CONDO, 15201 NE 6th Ave Unit C210 Miami | Price $86,000 | $116 psf | Year built: 1967\n",
      "\u001b[1mHighest Price Per Square Foot\u001b[0m\n",
      "SURF CLUB CONDO, 9111 Collins Ave Unit N-713 Surfside | Price $7,750,000 | $4,251 psf | Year built: 2017\n",
      "\u001b[1mLowest Price Per Square Foot\u001b[0m\n",
      "THE BLUE A RESORT HOTEL C, 5300 NW 87th Ave #512 Doral | Price $195,000 | $94 psf | Year built: 2007\n",
      "\u001b[1mNewest\u001b[0m\n",
      "Mr. C Residences, 2655 S Bayshore Dr #1501 Miami | Price $7,000,000 | $2,578 psf | Year built: 2024\n",
      "\u001b[1mOldest\u001b[0m\n",
      "PALM GARDEN CONDO, 752 Meridian Ave #19 Miami Beach | Price $380,000 | $745 psf | Year built: 1923\n"
     ]
    }
   ],
   "source": [
    "print(f\"{ME}{BR}{df_filtered.loc[df_filtered['PRICE'].idxmax()]['LOCATION']}, {df_filtered.loc[df_filtered['PRICE'].idxmax()]['FULL_ADDRESS']} | Price ${df_filtered.loc[df_filtered['PRICE'].idxmax()]['PRICE']:,.0f} | ${df_filtered.loc[df_filtered['PRICE'].idxmax()]['$/SQUARE FEET']:,.0f} psf | Year built: {df_filtered.loc[df_filtered['PRICE'].idxmax()]['YEAR BUILT']:.0f}\")\n",
    "print(f\"{LE}{BR}{df_filtered.loc[df_filtered['PRICE'].idxmin()]['LOCATION']}, {df_filtered.loc[df_filtered['PRICE'].idxmin()]['FULL_ADDRESS']} | Price ${df_filtered.loc[df_filtered['PRICE'].idxmin()]['PRICE']:,.0f} | ${df_filtered.loc[df_filtered['PRICE'].idxmin()]['$/SQUARE FEET']:,.0f} psf | Year built: {df_filtered.loc[df_filtered['PRICE'].idxmin()]['YEAR BUILT']:.0f}\")\n",
    "\n",
    "print(f\"{MAX_PSF}{BR}{df_filtered.loc[df_filtered['$/SQUARE FEET'].idxmax()]['LOCATION']}, {df_filtered.loc[df_filtered['$/SQUARE FEET'].idxmax()]['FULL_ADDRESS']} | Price ${df_filtered.loc[df_filtered['$/SQUARE FEET'].idxmax()]['PRICE']:,.0f} | ${df_filtered.loc[df_filtered['$/SQUARE FEET'].idxmax()]['$/SQUARE FEET']:,.0f} psf | Year built: {df_filtered.loc[df_filtered['$/SQUARE FEET'].idxmax()]['YEAR BUILT']:.0f}\")\n",
    "print(f\"{MIN_PSF}{BR}{df_filtered.loc[df_filtered['$/SQUARE FEET'].idxmin()]['LOCATION']}, {df_filtered.loc[df_filtered['$/SQUARE FEET'].idxmin()]['FULL_ADDRESS']} | Price ${df_filtered.loc[df_filtered['$/SQUARE FEET'].idxmin()]['PRICE']:,.0f} | ${df_filtered.loc[df_filtered['$/SQUARE FEET'].idxmin()]['$/SQUARE FEET']:,.0f} psf | Year built: {df_filtered.loc[df_filtered['$/SQUARE FEET'].idxmin()]['YEAR BUILT']:.0f}\")\n",
    "\n",
    "print(f\"{Newest}{BR}{df_filtered.loc[df_filtered['YEAR BUILT'].idxmax()]['LOCATION']}, {df_filtered.loc[df_filtered['YEAR BUILT'].idxmax()]['FULL_ADDRESS']} | Price ${df_filtered.loc[df_filtered['YEAR BUILT'].idxmax()]['PRICE']:,.0f} | ${df_filtered.loc[df_filtered['YEAR BUILT'].idxmax()]['$/SQUARE FEET']:,.0f} psf | Year built: {df_filtered.loc[df_filtered['YEAR BUILT'].idxmax()]['YEAR BUILT']:.0f}\")\n",
    "print(f\"{Oldest}{BR}{df_filtered.loc[df_filtered['YEAR BUILT'].idxmin()]['LOCATION']}, {df_filtered.loc[df_filtered['YEAR BUILT'].idxmin()]['FULL_ADDRESS']} | Price ${df_filtered.loc[df_filtered['YEAR BUILT'].idxmin()]['PRICE']:,.0f} | ${df_filtered.loc[df_filtered['YEAR BUILT'].idxmin()]['$/SQUARE FEET']:,.0f} psf | Year built: {df_filtered.loc[df_filtered['YEAR BUILT'].idxmin()]['YEAR BUILT']:.0f}\")"
   ]
  },
  {
   "cell_type": "markdown",
   "id": "707dd49b",
   "metadata": {},
   "source": [
    "## Map URL Snagger"
   ]
  },
  {
   "cell_type": "code",
   "execution_count": 42,
   "id": "81e05274",
   "metadata": {},
   "outputs": [
    {
     "name": "stdout",
     "output_type": "stream",
     "text": [
      "https://trd-digital.github.io/trd-news-interactive-maps/MiamiDadeCounty_condo_sales_month_ending_sept_2024\n"
     ]
    }
   ],
   "source": [
    "base_name = 'https://trd-digital.github.io/trd-news-interactive-maps/'\n",
    "\n",
    "cwd = os.getcwd()\n",
    "\n",
    "cwd = cwd.split('/')\n",
    "\n",
    "final_name = base_name + cwd[-1]\n",
    "print(final_name)"
   ]
  },
  {
   "cell_type": "markdown",
   "id": "fe5031c3",
   "metadata": {},
   "source": [
    "## Get Summary Data"
   ]
  },
  {
   "cell_type": "code",
   "execution_count": 43,
   "id": "15cba208",
   "metadata": {},
   "outputs": [
    {
     "name": "stdout",
     "output_type": "stream",
     "text": [
      "SALES INFO\n",
      "Number of sales: 626\n",
      "--------\n",
      "Total sale price: $438,473,689\n",
      "--------\n",
      "Median sale price: $380,000\n",
      "--------\n",
      "Max sale price: $8,400,000\n",
      "--------\n",
      "Min sale price: $86,000\n",
      "------------------------------------------------\n",
      "PSF INFO\n",
      "Max price per square foot: $4,251\n",
      "--------\n",
      "Min price per square foot: $94\n",
      "--------\n",
      "Median price per square foot: $401\n",
      "------------------------------------------------\n",
      "CONDO AGES\n",
      "Newest building: 2024.0\n",
      "----------\n",
      "Oldest building: 1923.0\n",
      "----------\n",
      "Average building age: 1990.0335463258787\n"
     ]
    }
   ],
   "source": [
    "print('SALES INFO')\n",
    "print(f'Number of sales: {len(df_filtered)}')\n",
    "print('--------')\n",
    "print(f'Total sale price: ${df_filtered[\"PRICE\"].sum():,.0f}')\n",
    "print('--------')\n",
    "print(f'Median sale price: ${df_filtered[\"PRICE\"].median():,.0f}')\n",
    "print('--------')\n",
    "print(f'Max sale price: ${df_filtered[\"PRICE\"].max():,.0f}')\n",
    "print('--------')\n",
    "print(f'Min sale price: ${df_filtered[\"PRICE\"].min():,.0f}')\n",
    "print('------------------------------------------------')\n",
    "print('PSF INFO')\n",
    "print(f'Max price per square foot: ${df_filtered[\"$/SQUARE FEET\"].max():,.0f}')\n",
    "print('--------')\n",
    "print(f'Min price per square foot: ${df_filtered[\"$/SQUARE FEET\"].min():,.0f}')\n",
    "print('--------')\n",
    "print(f'Median price per square foot: ${df_filtered[\"$/SQUARE FEET\"].median():,.0f}')\n",
    "print('------------------------------------------------')\n",
    "print('CONDO AGES')\n",
    "print(f'Newest building: {df_filtered[\"YEAR BUILT\"].max()}')\n",
    "print('----------')\n",
    "print(f'Oldest building: {df_filtered[\"YEAR BUILT\"].min()}')\n",
    "print('----------')\n",
    "print(f'Average building age: {df_filtered[\"YEAR BUILT\"].mean()}')"
   ]
  },
  {
   "cell_type": "markdown",
   "id": "970cab84",
   "metadata": {},
   "source": [
    "## Collect Agent Data"
   ]
  },
  {
   "cell_type": "code",
   "execution_count": 44,
   "id": "02afd7e8",
   "metadata": {},
   "outputs": [],
   "source": [
    "def process_response(url):\n",
    "    try:\n",
    "        \n",
    "        base_url = \"https://redfin-com-data.p.rapidapi.com/properties/detail-by-url\"\n",
    "\n",
    "        querystring = {\"url\":url}\n",
    "\n",
    "        headers = {\n",
    "            \"x-rapidapi-key\": \"00191da588msh8450293d26e3515p1bbd40jsn56510b513b61\",\n",
    "            \"x-rapidapi-host\": \"redfin-com-data.p.rapidapi.com\"\n",
    "        }\n",
    "\n",
    "        response = requests.get(base_url, headers=headers, params=querystring)\n",
    "\n",
    "#         print(response.status_code)\n",
    "#         print(url)\n",
    "        time.sleep(0.2)\n",
    "\n",
    "        response.raise_for_status()\n",
    "        data = response.json()\n",
    "\n",
    "        # Initialize default values for listing and buyer agents data\n",
    "        list_agent_name_1 = None\n",
    "        list_broker_name_1 = None\n",
    "        list_agent_name_2 = None\n",
    "        list_broker_name_2 = None\n",
    "        \n",
    "        buy_agent_name_1 = None\n",
    "        buy_broker_name_1 = None\n",
    "        buy_agent_name_2 = None\n",
    "        buy_broker_name_2 = None\n",
    "        \n",
    "        # Extract listing agents data if it exists\n",
    "        listing_agents = data.get('data', {}).get('mainHouseInfoPanelInfo', {}).get('mainHouseInfo', {}).get('listingAgents', [])\n",
    "        if len(listing_agents) > 0:\n",
    "            list_agent_name_1 = listing_agents[0].get('agentInfo', {}).get('agentName')\n",
    "            list_broker_name_1 = listing_agents[0].get('brokerName')\n",
    "        if len(listing_agents) > 1:\n",
    "            list_agent_name_2 = listing_agents[1].get('agentInfo', {}).get('agentName')\n",
    "            list_broker_name_2 = listing_agents[1].get('brokerName')\n",
    "            \n",
    "        # Extract listing agents data if it exists\n",
    "        buying_agents = data.get('data', {}).get('mainHouseInfoPanelInfo', {}).get('mainHouseInfo', {}).get('buyingAgents', [])\n",
    "        if len(buying_agents) > 0:\n",
    "            buy_agent_name_1 = buying_agents[0].get('agentInfo', {}).get('agentName')\n",
    "            buy_broker_name_1 = buying_agents[0].get('brokerName')\n",
    "        if len(buying_agents) > 1:\n",
    "            buy_agent_name_2 = buying_agents[1].get('agentInfo', {}).get('agentName')\n",
    "            buy_broker_name_2 = buying_agents[1].get('brokerName')\n",
    "\n",
    "\n",
    "        return {\n",
    "            'url': url,\n",
    "            'list_agent_name_1': list_agent_name_1,\n",
    "            'list_broker_name_1': list_broker_name_1,\n",
    "            'list_agent_name_2': list_agent_name_2,\n",
    "            'list_broker_name_2': list_broker_name_2,\n",
    "            'buy_agent_name_1': buy_agent_name_1,\n",
    "            'buy_broker_name_1': buy_broker_name_1,\n",
    "            'buy_agent_name_2': buy_agent_name_2,\n",
    "            'buy_broker_name_2': buy_broker_name_2,\n",
    "        }\n",
    "    except requests.exceptions.RequestException as e:\n",
    "        print(f\"Error fetching data from {url}: {e}\")\n",
    "        return {\n",
    "            'url': url,\n",
    "            'list_agent_name_1': None,\n",
    "            'list_broker_name_1': None,\n",
    "            'list_agent_name_2': None,\n",
    "            'list_broker_name_2': None,\n",
    "            'buy_agent_name_1': None,\n",
    "            'buy_broker_name_1': None,\n",
    "            'buy_agent_name_2': None,\n",
    "            'buy_broker_name_2': None,\n",
    "        }"
   ]
  },
  {
   "cell_type": "code",
   "execution_count": 45,
   "id": "3d5e6197",
   "metadata": {},
   "outputs": [],
   "source": [
    "df_filtered.reset_index(inplace=True,drop=True)"
   ]
  },
  {
   "cell_type": "code",
   "execution_count": 46,
   "id": "d06f8a69",
   "metadata": {},
   "outputs": [],
   "source": [
    "max_price_index = df_filtered['PRICE'].idxmax()\n",
    "min_price_index = df_filtered['PRICE'].idxmin()\n",
    "\n",
    "max_price_psf_index = df_filtered['$/SQUARE FEET'].idxmax()\n",
    "min_price_psf_index = df_filtered['$/SQUARE FEET'].idxmin()\n",
    "\n",
    "max_year_built_index = df_filtered['YEAR BUILT'].idxmax()\n",
    "min_year_built_index = df_filtered['YEAR BUILT'].idxmin()"
   ]
  },
  {
   "cell_type": "code",
   "execution_count": 47,
   "id": "d5e373c1",
   "metadata": {},
   "outputs": [],
   "source": [
    "index_list = [max_price_index,min_price_index,\n",
    "             max_price_psf_index,min_price_psf_index,\n",
    "             max_year_built_index,min_year_built_index]"
   ]
  },
  {
   "cell_type": "code",
   "execution_count": 48,
   "id": "97dd678a",
   "metadata": {},
   "outputs": [],
   "source": [
    "response_list = []\n",
    "\n",
    "for index, row in df_filtered.iterrows():\n",
    "    if index in index_list:\n",
    "        response_list.append(process_response(row['URL']))\n",
    "        \n",
    "response_df = pd.DataFrame(response_list)\n",
    "\n",
    "merged_df = pd.merge(left=df_filtered,left_on='URL',right=response_df, right_on='url',how='outer')"
   ]
  },
  {
   "cell_type": "code",
   "execution_count": 49,
   "id": "cc9976e6",
   "metadata": {},
   "outputs": [
    {
     "data": {
      "text/plain": [
       "array([nan, 'Johanna Viac', 'Giulietta Ulloa', 'Sandra Diaz',\n",
       "       'Itai Tsanaani', 'Daniel Tzinker', 'Ximena Penuela'], dtype=object)"
      ]
     },
     "execution_count": 49,
     "metadata": {},
     "output_type": "execute_result"
    }
   ],
   "source": [
    "### Test to see if data was collected\n",
    "merged_df['list_agent_name_1'].unique()"
   ]
  },
  {
   "cell_type": "code",
   "execution_count": 50,
   "id": "83c61f6f",
   "metadata": {},
   "outputs": [],
   "source": [
    "df_filtered = merged_df"
   ]
  },
  {
   "cell_type": "code",
   "execution_count": 51,
   "id": "4176ba07",
   "metadata": {},
   "outputs": [
    {
     "name": "stdout",
     "output_type": "stream",
     "text": [
      "\u001b[1mMost Expensive\u001b[0m\n",
      "OCEANA KEY BISCAYNE CONDO, 360 Ocean Dr Unit 1002S Key Biscayne | Price $8,400,000 | $2,504 psf | Year built: 2014 | Listing agents: Giulietta Ulloa with BHHS EWM Realty and Ximena Ulloa with BHHS EWM Realty | Buyer's agents: Giulietta Ulloa with BHHS EWM Realty and None with None\n",
      "\u001b[1mLeast Expensive\u001b[0m\n",
      "OLA CONDO, 15201 NE 6th Ave Unit C210 Miami | Price $86,000 | $116 psf | Year built: 1967 | Listing agents: Itai Tsanaani with Folio360 Group, LLC. and None with None | Buyer's agents: Itai Tsanaani with Folio360 Group, LLC. and None with None\n",
      "\u001b[1mHighest Price Per Square Foot\u001b[0m\n",
      "SURF CLUB CONDO, 9111 Collins Ave Unit N-713 Surfside | Price $7,750,000 | $4,251 psf | Year built: 2017 | Listing agents: Ximena Penuela with Fort Realty, LLC and None with None | Buyer's agents: Sonia Navarro with Miami Exclusive Properties and None with None\n",
      "\u001b[1mLowest Price Per Square Foot\u001b[0m\n",
      "THE BLUE A RESORT HOTEL C, 5300 NW 87th Ave #512 Doral | Price $195,000 | $94 psf | Year built: 2007 | Listing agents: Johanna Viac with Viac and Co, Inc. and None with None | Buyer's agents: Julieta Manet with United Realty Group Inc. and None with None\n",
      "\u001b[1mNewest\u001b[0m\n",
      "Mr. C Residences, 2655 S Bayshore Dr #1501 Miami | Price $7,000,000 | $2,578 psf | Year built: 2024 | Listing agents: Daniel Tzinker with The Agency Florida LLC and Amelia Todd with The Agency Florida LLC | Buyer's agents: Astrid Miniet with Robert Slack LLC and None with None\n",
      "\u001b[1mOldest\u001b[0m\n",
      "PALM GARDEN CONDO, 752 Meridian Ave #19 Miami Beach | Price $380,000 | $745 psf | Year built: 1923 | Listing agents: Sandra Diaz with Skilled Real Estate, LLC and Sean Ford with Skilled Real Estate, LLC | Buyer's agents: Laura Pantano with Coldwell Banker Realty and None with None\n"
     ]
    }
   ],
   "source": [
    "print(f\"{ME}{BR}{df_filtered.loc[df_filtered['PRICE'].idxmax()]['LOCATION']}, {df_filtered.loc[df_filtered['PRICE'].idxmax()]['FULL_ADDRESS']} | Price ${df_filtered.loc[df_filtered['PRICE'].idxmax()]['PRICE']:,.0f} | ${df_filtered.loc[df_filtered['PRICE'].idxmax()]['$/SQUARE FEET']:,.0f} psf | Year built: {df_filtered.loc[df_filtered['PRICE'].idxmax()]['YEAR BUILT']:.0f} | Listing agents: {df_filtered.loc[df_filtered['PRICE'].idxmax()]['list_agent_name_1']} with {df_filtered.loc[df_filtered['PRICE'].idxmax()]['list_broker_name_1']} and {df_filtered.loc[df_filtered['PRICE'].idxmax()]['list_agent_name_2']} with {df_filtered.loc[df_filtered['PRICE'].idxmax()]['list_broker_name_2']} | Buyer's agents: {df_filtered.loc[df_filtered['PRICE'].idxmax()]['buy_agent_name_1']} with {df_filtered.loc[df_filtered['PRICE'].idxmax()]['buy_broker_name_1']} and {df_filtered.loc[df_filtered['PRICE'].idxmax()]['buy_agent_name_2']} with {df_filtered.loc[df_filtered['PRICE'].idxmax()]['buy_broker_name_2']}\")\n",
    "print(f\"{LE}{BR}{df_filtered.loc[df_filtered['PRICE'].idxmin()]['LOCATION']}, {df_filtered.loc[df_filtered['PRICE'].idxmin()]['FULL_ADDRESS']} | Price ${df_filtered.loc[df_filtered['PRICE'].idxmin()]['PRICE']:,.0f} | ${df_filtered.loc[df_filtered['PRICE'].idxmin()]['$/SQUARE FEET']:,.0f} psf | Year built: {df_filtered.loc[df_filtered['PRICE'].idxmin()]['YEAR BUILT']:.0f} | Listing agents: {df_filtered.loc[df_filtered['PRICE'].idxmin()]['list_agent_name_1']} with {df_filtered.loc[df_filtered['PRICE'].idxmin()]['list_broker_name_1']} and {df_filtered.loc[df_filtered['PRICE'].idxmin()]['list_agent_name_2']} with {df_filtered.loc[df_filtered['PRICE'].idxmin()]['list_broker_name_2']} | Buyer's agents: {df_filtered.loc[df_filtered['PRICE'].idxmin()]['buy_agent_name_1']} with {df_filtered.loc[df_filtered['PRICE'].idxmin()]['buy_broker_name_1']} and {df_filtered.loc[df_filtered['PRICE'].idxmin()]['buy_agent_name_2']} with {df_filtered.loc[df_filtered['PRICE'].idxmin()]['buy_broker_name_2']}\")\n",
    "\n",
    "print(f\"{MAX_PSF}{BR}{df_filtered.loc[df_filtered['$/SQUARE FEET'].idxmax()]['LOCATION']}, {df_filtered.loc[df_filtered['$/SQUARE FEET'].idxmax()]['FULL_ADDRESS']} | Price ${df_filtered.loc[df_filtered['$/SQUARE FEET'].idxmax()]['PRICE']:,.0f} | ${df_filtered.loc[df_filtered['$/SQUARE FEET'].idxmax()]['$/SQUARE FEET']:,.0f} psf | Year built: {df_filtered.loc[df_filtered['$/SQUARE FEET'].idxmax()]['YEAR BUILT']:.0f} | Listing agents: {df_filtered.loc[df_filtered['$/SQUARE FEET'].idxmax()]['list_agent_name_1']} with {df_filtered.loc[df_filtered['$/SQUARE FEET'].idxmax()]['list_broker_name_1']} and {df_filtered.loc[df_filtered['$/SQUARE FEET'].idxmax()]['list_agent_name_2']} with {df_filtered.loc[df_filtered['$/SQUARE FEET'].idxmax()]['list_broker_name_2']} | Buyer's agents: {df_filtered.loc[df_filtered['$/SQUARE FEET'].idxmax()]['buy_agent_name_1']} with {df_filtered.loc[df_filtered['$/SQUARE FEET'].idxmax()]['buy_broker_name_1']} and {df_filtered.loc[df_filtered['$/SQUARE FEET'].idxmax()]['buy_agent_name_2']} with {df_filtered.loc[df_filtered['$/SQUARE FEET'].idxmax()]['buy_broker_name_2']}\")\n",
    "print(f\"{MIN_PSF}{BR}{df_filtered.loc[df_filtered['$/SQUARE FEET'].idxmin()]['LOCATION']}, {df_filtered.loc[df_filtered['$/SQUARE FEET'].idxmin()]['FULL_ADDRESS']} | Price ${df_filtered.loc[df_filtered['$/SQUARE FEET'].idxmin()]['PRICE']:,.0f} | ${df_filtered.loc[df_filtered['$/SQUARE FEET'].idxmin()]['$/SQUARE FEET']:,.0f} psf | Year built: {df_filtered.loc[df_filtered['$/SQUARE FEET'].idxmin()]['YEAR BUILT']:.0f} | Listing agents: {df_filtered.loc[df_filtered['$/SQUARE FEET'].idxmin()]['list_agent_name_1']} with {df_filtered.loc[df_filtered['$/SQUARE FEET'].idxmin()]['list_broker_name_1']} and {df_filtered.loc[df_filtered['$/SQUARE FEET'].idxmin()]['list_agent_name_2']} with {df_filtered.loc[df_filtered['$/SQUARE FEET'].idxmin()]['list_broker_name_2']} | Buyer's agents: {df_filtered.loc[df_filtered['$/SQUARE FEET'].idxmin()]['buy_agent_name_1']} with {df_filtered.loc[df_filtered['$/SQUARE FEET'].idxmin()]['buy_broker_name_1']} and {df_filtered.loc[df_filtered['$/SQUARE FEET'].idxmin()]['buy_agent_name_2']} with {df_filtered.loc[df_filtered['$/SQUARE FEET'].idxmin()]['buy_broker_name_2']}\")\n",
    "\n",
    "print(f\"{Newest}{BR}{df_filtered.loc[df_filtered['YEAR BUILT'].idxmax()]['LOCATION']}, {df_filtered.loc[df_filtered['YEAR BUILT'].idxmax()]['FULL_ADDRESS']} | Price ${df_filtered.loc[df_filtered['YEAR BUILT'].idxmax()]['PRICE']:,.0f} | ${df_filtered.loc[df_filtered['YEAR BUILT'].idxmax()]['$/SQUARE FEET']:,.0f} psf | Year built: {df_filtered.loc[df_filtered['YEAR BUILT'].idxmax()]['YEAR BUILT']:.0f} | Listing agents: {df_filtered.loc[df_filtered['YEAR BUILT'].idxmax()]['list_agent_name_1']} with {df_filtered.loc[df_filtered['YEAR BUILT'].idxmax()]['list_broker_name_1']} and {df_filtered.loc[df_filtered['YEAR BUILT'].idxmax()]['list_agent_name_2']} with {df_filtered.loc[df_filtered['YEAR BUILT'].idxmax()]['list_broker_name_2']} | Buyer's agents: {df_filtered.loc[df_filtered['YEAR BUILT'].idxmax()]['buy_agent_name_1']} with {df_filtered.loc[df_filtered['YEAR BUILT'].idxmax()]['buy_broker_name_1']} and {df_filtered.loc[df_filtered['YEAR BUILT'].idxmax()]['buy_agent_name_2']} with {df_filtered.loc[df_filtered['YEAR BUILT'].idxmax()]['buy_broker_name_2']}\")\n",
    "print(f\"{Oldest}{BR}{df_filtered.loc[df_filtered['YEAR BUILT'].idxmin()]['LOCATION']}, {df_filtered.loc[df_filtered['YEAR BUILT'].idxmin()]['FULL_ADDRESS']} | Price ${df_filtered.loc[df_filtered['YEAR BUILT'].idxmin()]['PRICE']:,.0f} | ${df_filtered.loc[df_filtered['YEAR BUILT'].idxmin()]['$/SQUARE FEET']:,.0f} psf | Year built: {df_filtered.loc[df_filtered['YEAR BUILT'].idxmin()]['YEAR BUILT']:.0f} | Listing agents: {df_filtered.loc[df_filtered['YEAR BUILT'].idxmin()]['list_agent_name_1']} with {df_filtered.loc[df_filtered['YEAR BUILT'].idxmin()]['list_broker_name_1']} and {df_filtered.loc[df_filtered['YEAR BUILT'].idxmin()]['list_agent_name_2']} with {df_filtered.loc[df_filtered['YEAR BUILT'].idxmin()]['list_broker_name_2']} | Buyer's agents: {df_filtered.loc[df_filtered['YEAR BUILT'].idxmin()]['buy_agent_name_1']} with {df_filtered.loc[df_filtered['YEAR BUILT'].idxmin()]['buy_broker_name_1']} and {df_filtered.loc[df_filtered['YEAR BUILT'].idxmin()]['buy_agent_name_2']} with {df_filtered.loc[df_filtered['YEAR BUILT'].idxmin()]['buy_broker_name_2']}\")"
   ]
  },
  {
   "cell_type": "markdown",
   "id": "df76613c",
   "metadata": {},
   "source": [
    "## Get condo names and locations for most and least expensive"
   ]
  },
  {
   "cell_type": "code",
   "execution_count": 52,
   "id": "a7db05bf",
   "metadata": {},
   "outputs": [],
   "source": [
    "most_expensive_muni_condo_name = df_filtered.loc[df_filtered['PRICE'].idxmax()]['LOCATION']\n",
    "most_expensive_muni_location = df_filtered.loc[df_filtered['PRICE'].idxmax()]['CITY']\n",
    "\n",
    "least_expensive_muni_condo_name = df_filtered.loc[df_filtered['PRICE'].idxmin()]['LOCATION']\n",
    "least_expensive_muni_location = df_filtered.loc[df_filtered['PRICE'].idxmin()]['CITY']"
   ]
  },
  {
   "cell_type": "code",
   "execution_count": 53,
   "id": "8771c3d0",
   "metadata": {},
   "outputs": [],
   "source": [
    "## Calculate the increase/descrease between both months\n",
    "subject_month_sales_volume = df_filtered[\"PRICE\"].sum()\n",
    "prior_month_sales_volume = int(sales_volume_2nd_month)  # Example value, replace with actual value\n",
    "\n",
    "subject_month_closings = len(df_filtered)\n",
    "prior_month_closings = int(total_condos_sold_2nd_month)\n",
    "\n",
    "# Subtract the smaller value from the larger one\n",
    "if subject_month_sales_volume > prior_month_sales_volume:\n",
    "    hed_rf = 'jumps'\n",
    "    nut_graf = 'rising'\n",
    "    second_nut_graf_ref = 'up'\n",
    "    social = 'higher'\n",
    "    seo = 'increased'\n",
    "elif prior_month_sales_volume > subject_month_sales_volume:\n",
    "    hed_rf = 'drops'\n",
    "    nut_graf = 'falling'\n",
    "    second_nut_graf_ref = 'down'\n",
    "    social = 'lower'\n",
    "    seo = 'dropped'\n",
    "else:\n",
    "    hed_rf = 'equals'\n",
    "    nut_graf = 'equaling'\n",
    "    second_nut_graf_ref = 'on par with'\n",
    "    social = 'equal'\n",
    "    seo = \"did't change\"\n",
    "    \n",
    "    \n",
    "if subject_month_closings > prior_month_closings:\n",
    "    dek_rf = 'rose'\n",
    "elif prior_month_closings > subject_month_closings:\n",
    "    dek_rf ='fell'\n",
    "else:\n",
    "    dek_rf = 'equaled'"
   ]
  },
  {
   "cell_type": "code",
   "execution_count": 54,
   "id": "0c45fda2",
   "metadata": {},
   "outputs": [
    {
     "data": {
      "text/plain": [
       "Index(['SOLD DATE', 'ADDRESS', 'CITY', 'PRICE', 'BEDS', 'BATHS', 'LOCATION',\n",
       "       'YEAR BUILT', 'DAYS ON MARKET', '$/SQUARE FEET', 'URL', 'LATITUDE',\n",
       "       'LONGITUDE', 'PRICE_AS_CURRENCY', 'YEAR BUILT DISPLAY',\n",
       "       'PRICE_SQUARE_FEET_AS_CURRENCY', 'COLOR', 'RANK', 'FULL_ADDRESS', 'url',\n",
       "       'list_agent_name_1', 'list_broker_name_1', 'list_agent_name_2',\n",
       "       'list_broker_name_2', 'buy_agent_name_1', 'buy_broker_name_1',\n",
       "       'buy_agent_name_2', 'buy_broker_name_2'],\n",
       "      dtype='object')"
      ]
     },
     "execution_count": 54,
     "metadata": {},
     "output_type": "execute_result"
    }
   ],
   "source": [
    "df_filtered.columns"
   ]
  },
  {
   "cell_type": "code",
   "execution_count": 56,
   "id": "06e6aaa9",
   "metadata": {},
   "outputs": [
    {
     "name": "stdout",
     "output_type": "stream",
     "text": [
      "\n",
      "\n",
      "\n",
      "TOP SALE LISTING AGENTS:\n",
      "\n",
      "Giulietta Ulloa with BHHS EWM Realty and Ximena Ulloa with BHHS EWM Realty\n",
      "\n",
      "TOP SALE BUYER AGENTS:\n",
      "\n",
      "Giulietta Ulloa with BHHS EWM Realty and None with None\n",
      "\n",
      "BOTTOM SALE LISTING AGENTS:\n",
      "\n",
      "Itai Tsanaani with Folio360 Group, LLC. and None with None\n",
      "\n",
      "BOTTOM SALE BUYER AGENTS:\n",
      "\n",
      "Itai Tsanaani with Folio360 Group, LLC. and None with None\n",
      "\n",
      "\n"
     ]
    }
   ],
   "source": [
    "# Get values for the top sale (max price)\n",
    "top_sale_listing_agent_1 = df_filtered.loc[df_filtered[\"PRICE\"].idxmax(), 'list_agent_name_1']\n",
    "top_sale_listing_broker_1 = df_filtered.loc[df_filtered[\"PRICE\"].idxmax(), 'list_broker_name_1']\n",
    "top_sale_listing_agent_2 = df_filtered.loc[df_filtered[\"PRICE\"].idxmax(), 'list_agent_name_2']\n",
    "top_sale_listing_broker_2 = df_filtered.loc[df_filtered[\"PRICE\"].idxmax(), 'list_broker_name_2']\n",
    "top_sale_buyer_agent_1 = df_filtered.loc[df_filtered[\"PRICE\"].idxmax(), 'buy_agent_name_1']\n",
    "top_sale_buyer_broker_1 = df_filtered.loc[df_filtered[\"PRICE\"].idxmax(), 'buy_broker_name_1']\n",
    "top_sale_buyer_agent_2 = df_filtered.loc[df_filtered[\"PRICE\"].idxmax(), 'buy_agent_name_2']\n",
    "top_sale_buyer_broker_2 = df_filtered.loc[df_filtered[\"PRICE\"].idxmax(), 'buy_broker_name_2']\n",
    "\n",
    "# Get values for the bottom sale (min price)\n",
    "bottom_sale_listing_agent_1 = df_filtered.loc[df_filtered[\"PRICE\"].idxmin(), 'list_agent_name_1']\n",
    "bottom_sale_listing_broker_1 = df_filtered.loc[df_filtered[\"PRICE\"].idxmin(), 'list_broker_name_1']\n",
    "bottom_sale_listing_agent_2 = df_filtered.loc[df_filtered[\"PRICE\"].idxmin(), 'list_agent_name_2']\n",
    "bottom_sale_listing_broker_2 = df_filtered.loc[df_filtered[\"PRICE\"].idxmin(), 'list_broker_name_2']\n",
    "bottom_sale_buyer_agent_1 = df_filtered.loc[df_filtered[\"PRICE\"].idxmin(), 'buy_agent_name_1']\n",
    "bottom_sale_buyer_broker_1 = df_filtered.loc[df_filtered[\"PRICE\"].idxmin(), 'buy_broker_name_1']\n",
    "bottom_sale_buyer_agent_2 = df_filtered.loc[df_filtered[\"PRICE\"].idxmin(), 'buy_agent_name_2']\n",
    "bottom_sale_buyer_broker_2 = df_filtered.loc[df_filtered[\"PRICE\"].idxmin(), 'buy_broker_name_2']\n",
    "\n",
    "# Now create the formatted string\n",
    "test_string = f'''\n",
    "\n",
    "\n",
    "TOP SALE LISTING AGENTS:\n",
    "\n",
    "{top_sale_listing_agent_1} with {top_sale_listing_broker_1} and {top_sale_listing_agent_2} with {top_sale_listing_broker_2}\n",
    "\n",
    "TOP SALE BUYER AGENTS:\n",
    "\n",
    "{top_sale_buyer_agent_1} with {top_sale_buyer_broker_1} and {top_sale_buyer_agent_2} with {top_sale_buyer_broker_2}\n",
    "\n",
    "BOTTOM SALE LISTING AGENTS:\n",
    "\n",
    "{bottom_sale_listing_agent_1} with {bottom_sale_listing_broker_1} and {bottom_sale_listing_agent_2} with {bottom_sale_listing_broker_2}\n",
    "\n",
    "BOTTOM SALE BUYER AGENTS:\n",
    "\n",
    "{bottom_sale_buyer_agent_1} with {bottom_sale_buyer_broker_1} and {bottom_sale_buyer_agent_2} with {bottom_sale_buyer_broker_2}\n",
    "\n",
    "'''\n",
    "\n",
    "print(test_string)\n"
   ]
  },
  {
   "cell_type": "code",
   "execution_count": 57,
   "id": "c18857f2",
   "metadata": {},
   "outputs": [],
   "source": [
    "story_string = f'''\n",
    "\\033[1mHED:\\033[0m {county_name} condo sales dollar volume {hed_rf} in {previous_month_name} to ${round(df_filtered[\"PRICE\"].sum()/1_000_000)}M \n",
    "\\033[1mDEK:\\033[0m Number of closings {dek_rf} to {len(df_filtered)} from {total_condos_sold_2nd_month} in {month_before_last_name}\n",
    "\\033[1mFEATURED HED:\\033[0m\n",
    "\\033[1mSEO HED:\\033[0m {county_name} {previous_month_name} Condo Sales Report \n",
    "\\033[1mSEO DESCRIPTION:\\033[0m {county_name}’s condo sales volume {seo} to ${round(df_filtered[\"PRICE\"].sum()/1_000_000)} million in {previous_month_name}.\n",
    "\\033[1mAUTHOR:\\033[0m Adam Farence\n",
    "\\033[1mRESEARCH:\\033[0m  \n",
    "\\033[1mSocial:\\033[0m {county_name} had ${round(df_filtered[\"PRICE\"].sum()/1_000_000):,.0f} million in condo sales in {previous_month_name}, {social} than ${round(int(sales_volume_2nd_month)/1_000_000)} million from {month_before_last_name}, @afarence reports \n",
    "\\033[1mART:\\033[0m \n",
    "\n",
    "CHANGE ME\n",
    "\n",
    "*Please provide credits for any images that you share\n",
    "\\033[1mSTORY TYPE:\\033[0m Report\n",
    "\\033[1mSECTOR\\033[0m (formerly CATEGORY): Residential Real Estate\n",
    "\\033[1mTAGS:\\033[0m condo sales, {county_name}, monthly condo sales, condos, condo market, {most_expensive_muni_condo_name.title()}, {most_expensive_muni_location}\n",
    "\n",
    "\\033[1mNeighborhood:\\033[0m \n",
    "\\033[1mProperty:\\033[0m\n",
    "\\033[1mProperty Type:\\033[0m\n",
    "\\033[1mCompanies:\\033[0m \n",
    "\\033[1mPeople:\\033[0m\n",
    "\\033[1mIssues:\\033[0m\n",
    "\\033[1mRegion:\\033[0m\n",
    "\n",
    "{county_name}’s NEWS PEG HERE.\n",
    "\n",
    "{previous_month_name} condo sales totaled ${round(df_filtered[\"PRICE\"].sum()/1_000_000)} million, {nut_graf} from ${int(sales_volume_2nd_month)/1_000_000:.0f} million in {month_before_last_name}. Brokers closed {len(df_filtered)} sales last month, {second_nut_graf_ref} from {total_condos_sold_2nd_month} sales in {month_before_last_name} and XXX in XXX, Multiple Listing Service data from Redfin show.\n",
    "\n",
    "{previous_month_name} sale prices ranged from ${df_filtered[\"PRICE\"].min():,.0f} to ${df_filtered[\"PRICE\"].max():,.0f} million, with a median sale price of ${df_filtered[\"PRICE\"].median():,.0f}. The price per square foot ranged from ${df_filtered[\"$/SQUARE FEET\"].min():,.0f} to ${df_filtered[\"$/SQUARE FEET\"].max():,.0f}, with a median of ${df_filtered[\"$/SQUARE FEET\"].median():,.0f} per square foot.\n",
    "\n",
    "In {month_before_last_name}, sales closed with a median price of ${int(median_sales_price_2nd_month):,.0f}, and ${median_psf_2nd_month} per square foot.\n",
    "\n",
    "A ${df_filtered[\"PRICE\"].max():,.0f} million closing at {most_expensive_muni_condo_name.title()} took the title of priciest sale last month. {df_filtered.loc[df_filtered['PRICE'].idxmax()]['FULL_ADDRESS']} sold for ${df_filtered.loc[df_filtered['PRICE'].idxmax()]['$/SQUARE FEET']:,.0f} per square foot after XX days on the market. XXX with XXX had the listing, and XXX with XXX represented the buyer.\n",
    "\n",
    "TOP SALE LISTING AGENTS:\n",
    "\n",
    "{top_sale_listing_agent_1} with {top_sale_listing_broker_1} and {top_sale_listing_agent_2} with {top_sale_listing_broker_2}\n",
    "\n",
    "TOP SALE BUYER AGENTS:\n",
    "\n",
    "{top_sale_buyer_agent_1} with {top_sale_buyer_broker_1} and {top_sale_buyer_agent_2} with {top_sale_buyer_broker_2}\n",
    "\n",
    "The sale price was \\033[1mmore/less\\033[0m than {month_before_last_name}'s priciest sale. Unit XXXX \n",
    "\n",
    "In contrast, {previous_month_name}'s cheapest sale was an {least_expensive_muni_condo_name} in {least_expensive_muni_location}, at {df_filtered.loc[df_filtered['PRICE'].idxmin()]['FULL_ADDRESS']}. Unit XXX traded for ${df_filtered['PRICE'].min():,.0f} — or ${df_filtered.loc[df_filtered['PRICE'].idxmin()]['$/SQUARE FEET']:,.0f} per square foot — after XXX days on the market. XXX with XXX handled both sides of the deal.\n",
    "\n",
    "BOTTOM SALE LISTING AGENTS:\n",
    "\n",
    "{bottom_sale_listing_agent_1} with {bottom_sale_listing_broker_1} and {bottom_sale_listing_agent_2} with {bottom_sale_listing_broker_2}\n",
    "\n",
    "BOTTOM SALE BUYER AGENTS:\n",
    "\n",
    "{bottom_sale_buyer_agent_1} with {bottom_sale_buyer_broker_1} and {bottom_sale_buyer_agent_2} with {bottom_sale_buyer_broker_2}\n",
    "\n",
    "<figure>\n",
    " <div class=\"container\">\n",
    "   <div class=\"iframe-wrap\">\n",
    "   <iframe src=\"{final_name}\" width=\"100%\" height=\"800\" frameBorder=\"0\" scrolling=\"no\"></iframe>\n",
    "  </div>\n",
    "</div>\n",
    "  <figcaption align=\"right\"><a href=\"https://leafletjs.com/\">Leaflet</a> map created by Adam Farence | Data by © <a href=\"https://www.openstreetmap.org/#map=4/38.01/-95.84\"> OpenStreetMap</a>, under <a href=\"https://www.openstreetmap.org/copyright\">ODbl.</a></figcaption>\n",
    "</figure>\n",
    "\n",
    "Here’s a breakdown of {previous_month_name}’s notable condo sales:\n",
    "'''"
   ]
  },
  {
   "cell_type": "code",
   "execution_count": 58,
   "id": "cab66f0c",
   "metadata": {},
   "outputs": [
    {
     "name": "stdout",
     "output_type": "stream",
     "text": [
      "\n",
      "\u001b[1mHED:\u001b[0m Miami-Dade County condo sales dollar volume drops in September to $438M \n",
      "\u001b[1mDEK:\u001b[0m Number of closings fell to 626 from 712 in August\n",
      "\u001b[1mFEATURED HED:\u001b[0m\n",
      "\u001b[1mSEO HED:\u001b[0m Miami-Dade County September Condo Sales Report \n",
      "\u001b[1mSEO DESCRIPTION:\u001b[0m Miami-Dade County’s condo sales volume dropped to $438 million in September.\n",
      "\u001b[1mAUTHOR:\u001b[0m Adam Farence\n",
      "\u001b[1mRESEARCH:\u001b[0m  \n",
      "\u001b[1mSocial:\u001b[0m Miami-Dade County had $438 million in condo sales in September, lower than $470 million from August, @afarence reports \n",
      "\u001b[1mART:\u001b[0m \n",
      "\n",
      "CHANGE ME\n",
      "\n",
      "*Please provide credits for any images that you share\n",
      "\u001b[1mSTORY TYPE:\u001b[0m Report\n",
      "\u001b[1mSECTOR\u001b[0m (formerly CATEGORY): Residential Real Estate\n",
      "\u001b[1mTAGS:\u001b[0m condo sales, Miami-Dade County, monthly condo sales, condos, condo market, Oceana Key Biscayne Condo, Key Biscayne\n",
      "\n",
      "\u001b[1mNeighborhood:\u001b[0m \n",
      "\u001b[1mProperty:\u001b[0m\n",
      "\u001b[1mProperty Type:\u001b[0m\n",
      "\u001b[1mCompanies:\u001b[0m \n",
      "\u001b[1mPeople:\u001b[0m\n",
      "\u001b[1mIssues:\u001b[0m\n",
      "\u001b[1mRegion:\u001b[0m\n",
      "\n",
      "Miami-Dade County’s NEWS PEG HERE.\n",
      "\n",
      "September condo sales totaled $438 million, falling from $470 million in August. Brokers closed 626 sales last month, down from 712 sales in August and XXX in XXX, Multiple Listing Service data from Redfin show.\n",
      "\n",
      "September sale prices ranged from $86,000 to $8,400,000 million, with a median sale price of $380,000. The price per square foot ranged from $94 to $4,251, with a median of $401 per square foot.\n",
      "\n",
      "In August, sales closed with a median price of $380,000, and $388 per square foot.\n",
      "\n",
      "A $8,400,000 million closing at Oceana Key Biscayne Condo took the title of priciest sale last month. 360 Ocean Dr Unit 1002S Key Biscayne sold for $2,504 per square foot after XX days on the market. XXX with XXX had the listing, and XXX with XXX represented the buyer.\n",
      "\n",
      "TOP SALE LISTING AGENTS:\n",
      "\n",
      "Giulietta Ulloa with BHHS EWM Realty and Ximena Ulloa with BHHS EWM Realty\n",
      "\n",
      "TOP SALE BUYER AGENTS:\n",
      "\n",
      "Giulietta Ulloa with BHHS EWM Realty and None with None\n",
      "\n",
      "The sale price was \u001b[1mmore/less\u001b[0m than August's priciest sale. Unit XXXX \n",
      "\n",
      "In contrast, September's cheapest sale was an OLA CONDO in Miami, at 15201 NE 6th Ave Unit C210 Miami. Unit XXX traded for $86,000 — or $116 per square foot — after XXX days on the market. XXX with XXX handled both sides of the deal.\n",
      "\n",
      "BOTTOM SALE LISTING AGENTS:\n",
      "\n",
      "Itai Tsanaani with Folio360 Group, LLC. and None with None\n",
      "\n",
      "BOTTOM SALE BUYER AGENTS:\n",
      "\n",
      "Itai Tsanaani with Folio360 Group, LLC. and None with None\n",
      "\n",
      "<figure>\n",
      " <div class=\"container\">\n",
      "   <div class=\"iframe-wrap\">\n",
      "   <iframe src=\"https://trd-digital.github.io/trd-news-interactive-maps/MiamiDadeCounty_condo_sales_month_ending_sept_2024\" width=\"100%\" height=\"800\" frameBorder=\"0\" scrolling=\"no\"></iframe>\n",
      "  </div>\n",
      "</div>\n",
      "  <figcaption align=\"right\"><a href=\"https://leafletjs.com/\">Leaflet</a> map created by Adam Farence | Data by © <a href=\"https://www.openstreetmap.org/#map=4/38.01/-95.84\"> OpenStreetMap</a>, under <a href=\"https://www.openstreetmap.org/copyright\">ODbl.</a></figcaption>\n",
      "</figure>\n",
      "\n",
      "Here’s a breakdown of September’s notable condo sales:\n",
      "\n",
      "\u001b[1mMost Expensive\u001b[0m\n",
      "OCEANA KEY BISCAYNE CONDO, 360 Ocean Dr Unit 1002S Key Biscayne | Price $8,400,000 | $2,504 psf | Year built: 2014 | Listing agents: Giulietta Ulloa with BHHS EWM Realty and Ximena Ulloa with BHHS EWM Realty | Buyer's agents: Giulietta Ulloa with BHHS EWM Realty and None with None\n",
      "\u001b[1mLeast Expensive\u001b[0m\n",
      "OLA CONDO, 15201 NE 6th Ave Unit C210 Miami | Price $86,000 | $116 psf | Year built: 1967 | Listing agents: Itai Tsanaani with Folio360 Group, LLC. and None with None | Buyer's agents: Itai Tsanaani with Folio360 Group, LLC. and None with None\n",
      "\u001b[1mHighest Price Per Square Foot\u001b[0m\n",
      "SURF CLUB CONDO, 9111 Collins Ave Unit N-713 Surfside | Price $7,750,000 | $4,251 psf | Year built: 2017 | Listing agents: Ximena Penuela with Fort Realty, LLC and None with None | Buyer's agents: Sonia Navarro with Miami Exclusive Properties and None with None\n",
      "\u001b[1mLowest Price Per Square Foot\u001b[0m\n",
      "THE BLUE A RESORT HOTEL C, 5300 NW 87th Ave #512 Doral | Price $195,000 | $94 psf | Year built: 2007 | Listing agents: Johanna Viac with Viac and Co, Inc. and None with None | Buyer's agents: Julieta Manet with United Realty Group Inc. and None with None\n",
      "\u001b[1mNewest\u001b[0m\n",
      "Mr. C Residences, 2655 S Bayshore Dr #1501 Miami | Price $7,000,000 | $2,578 psf | Year built: 2024 | Listing agents: Daniel Tzinker with The Agency Florida LLC and Amelia Todd with The Agency Florida LLC | Buyer's agents: Astrid Miniet with Robert Slack LLC and None with None\n",
      "\u001b[1mOldest\u001b[0m\n",
      "PALM GARDEN CONDO, 752 Meridian Ave #19 Miami Beach | Price $380,000 | $745 psf | Year built: 1923 | Listing agents: Sandra Diaz with Skilled Real Estate, LLC and Sean Ford with Skilled Real Estate, LLC | Buyer's agents: Laura Pantano with Coldwell Banker Realty and None with None\n"
     ]
    }
   ],
   "source": [
    "print(story_string)\n",
    "\n",
    "print(f\"{ME}{BR}{df_filtered.loc[df_filtered['PRICE'].idxmax()]['LOCATION']}, {df_filtered.loc[df_filtered['PRICE'].idxmax()]['FULL_ADDRESS']} | Price ${df_filtered.loc[df_filtered['PRICE'].idxmax()]['PRICE']:,.0f} | ${df_filtered.loc[df_filtered['PRICE'].idxmax()]['$/SQUARE FEET']:,.0f} psf | Year built: {df_filtered.loc[df_filtered['PRICE'].idxmax()]['YEAR BUILT']:.0f} | Listing agents: {df_filtered.loc[df_filtered['PRICE'].idxmax()]['list_agent_name_1']} with {df_filtered.loc[df_filtered['PRICE'].idxmax()]['list_broker_name_1']} and {df_filtered.loc[df_filtered['PRICE'].idxmax()]['list_agent_name_2']} with {df_filtered.loc[df_filtered['PRICE'].idxmax()]['list_broker_name_2']} | Buyer's agents: {df_filtered.loc[df_filtered['PRICE'].idxmax()]['buy_agent_name_1']} with {df_filtered.loc[df_filtered['PRICE'].idxmax()]['buy_broker_name_1']} and {df_filtered.loc[df_filtered['PRICE'].idxmax()]['buy_agent_name_2']} with {df_filtered.loc[df_filtered['PRICE'].idxmax()]['buy_broker_name_2']}\")\n",
    "print(f\"{LE}{BR}{df_filtered.loc[df_filtered['PRICE'].idxmin()]['LOCATION']}, {df_filtered.loc[df_filtered['PRICE'].idxmin()]['FULL_ADDRESS']} | Price ${df_filtered.loc[df_filtered['PRICE'].idxmin()]['PRICE']:,.0f} | ${df_filtered.loc[df_filtered['PRICE'].idxmin()]['$/SQUARE FEET']:,.0f} psf | Year built: {df_filtered.loc[df_filtered['PRICE'].idxmin()]['YEAR BUILT']:.0f} | Listing agents: {df_filtered.loc[df_filtered['PRICE'].idxmin()]['list_agent_name_1']} with {df_filtered.loc[df_filtered['PRICE'].idxmin()]['list_broker_name_1']} and {df_filtered.loc[df_filtered['PRICE'].idxmin()]['list_agent_name_2']} with {df_filtered.loc[df_filtered['PRICE'].idxmin()]['list_broker_name_2']} | Buyer's agents: {df_filtered.loc[df_filtered['PRICE'].idxmin()]['buy_agent_name_1']} with {df_filtered.loc[df_filtered['PRICE'].idxmin()]['buy_broker_name_1']} and {df_filtered.loc[df_filtered['PRICE'].idxmin()]['buy_agent_name_2']} with {df_filtered.loc[df_filtered['PRICE'].idxmin()]['buy_broker_name_2']}\")\n",
    "\n",
    "print(f\"{MAX_PSF}{BR}{df_filtered.loc[df_filtered['$/SQUARE FEET'].idxmax()]['LOCATION']}, {df_filtered.loc[df_filtered['$/SQUARE FEET'].idxmax()]['FULL_ADDRESS']} | Price ${df_filtered.loc[df_filtered['$/SQUARE FEET'].idxmax()]['PRICE']:,.0f} | ${df_filtered.loc[df_filtered['$/SQUARE FEET'].idxmax()]['$/SQUARE FEET']:,.0f} psf | Year built: {df_filtered.loc[df_filtered['$/SQUARE FEET'].idxmax()]['YEAR BUILT']:.0f} | Listing agents: {df_filtered.loc[df_filtered['$/SQUARE FEET'].idxmax()]['list_agent_name_1']} with {df_filtered.loc[df_filtered['$/SQUARE FEET'].idxmax()]['list_broker_name_1']} and {df_filtered.loc[df_filtered['$/SQUARE FEET'].idxmax()]['list_agent_name_2']} with {df_filtered.loc[df_filtered['$/SQUARE FEET'].idxmax()]['list_broker_name_2']} | Buyer's agents: {df_filtered.loc[df_filtered['$/SQUARE FEET'].idxmax()]['buy_agent_name_1']} with {df_filtered.loc[df_filtered['$/SQUARE FEET'].idxmax()]['buy_broker_name_1']} and {df_filtered.loc[df_filtered['$/SQUARE FEET'].idxmax()]['buy_agent_name_2']} with {df_filtered.loc[df_filtered['$/SQUARE FEET'].idxmax()]['buy_broker_name_2']}\")\n",
    "print(f\"{MIN_PSF}{BR}{df_filtered.loc[df_filtered['$/SQUARE FEET'].idxmin()]['LOCATION']}, {df_filtered.loc[df_filtered['$/SQUARE FEET'].idxmin()]['FULL_ADDRESS']} | Price ${df_filtered.loc[df_filtered['$/SQUARE FEET'].idxmin()]['PRICE']:,.0f} | ${df_filtered.loc[df_filtered['$/SQUARE FEET'].idxmin()]['$/SQUARE FEET']:,.0f} psf | Year built: {df_filtered.loc[df_filtered['$/SQUARE FEET'].idxmin()]['YEAR BUILT']:.0f} | Listing agents: {df_filtered.loc[df_filtered['$/SQUARE FEET'].idxmin()]['list_agent_name_1']} with {df_filtered.loc[df_filtered['$/SQUARE FEET'].idxmin()]['list_broker_name_1']} and {df_filtered.loc[df_filtered['$/SQUARE FEET'].idxmin()]['list_agent_name_2']} with {df_filtered.loc[df_filtered['$/SQUARE FEET'].idxmin()]['list_broker_name_2']} | Buyer's agents: {df_filtered.loc[df_filtered['$/SQUARE FEET'].idxmin()]['buy_agent_name_1']} with {df_filtered.loc[df_filtered['$/SQUARE FEET'].idxmin()]['buy_broker_name_1']} and {df_filtered.loc[df_filtered['$/SQUARE FEET'].idxmin()]['buy_agent_name_2']} with {df_filtered.loc[df_filtered['$/SQUARE FEET'].idxmin()]['buy_broker_name_2']}\")\n",
    "\n",
    "print(f\"{Newest}{BR}{df_filtered.loc[df_filtered['YEAR BUILT'].idxmax()]['LOCATION']}, {df_filtered.loc[df_filtered['YEAR BUILT'].idxmax()]['FULL_ADDRESS']} | Price ${df_filtered.loc[df_filtered['YEAR BUILT'].idxmax()]['PRICE']:,.0f} | ${df_filtered.loc[df_filtered['YEAR BUILT'].idxmax()]['$/SQUARE FEET']:,.0f} psf | Year built: {df_filtered.loc[df_filtered['YEAR BUILT'].idxmax()]['YEAR BUILT']:.0f} | Listing agents: {df_filtered.loc[df_filtered['YEAR BUILT'].idxmax()]['list_agent_name_1']} with {df_filtered.loc[df_filtered['YEAR BUILT'].idxmax()]['list_broker_name_1']} and {df_filtered.loc[df_filtered['YEAR BUILT'].idxmax()]['list_agent_name_2']} with {df_filtered.loc[df_filtered['YEAR BUILT'].idxmax()]['list_broker_name_2']} | Buyer's agents: {df_filtered.loc[df_filtered['YEAR BUILT'].idxmax()]['buy_agent_name_1']} with {df_filtered.loc[df_filtered['YEAR BUILT'].idxmax()]['buy_broker_name_1']} and {df_filtered.loc[df_filtered['YEAR BUILT'].idxmax()]['buy_agent_name_2']} with {df_filtered.loc[df_filtered['YEAR BUILT'].idxmax()]['buy_broker_name_2']}\")\n",
    "print(f\"{Oldest}{BR}{df_filtered.loc[df_filtered['YEAR BUILT'].idxmin()]['LOCATION']}, {df_filtered.loc[df_filtered['YEAR BUILT'].idxmin()]['FULL_ADDRESS']} | Price ${df_filtered.loc[df_filtered['YEAR BUILT'].idxmin()]['PRICE']:,.0f} | ${df_filtered.loc[df_filtered['YEAR BUILT'].idxmin()]['$/SQUARE FEET']:,.0f} psf | Year built: {df_filtered.loc[df_filtered['YEAR BUILT'].idxmin()]['YEAR BUILT']:.0f} | Listing agents: {df_filtered.loc[df_filtered['YEAR BUILT'].idxmin()]['list_agent_name_1']} with {df_filtered.loc[df_filtered['YEAR BUILT'].idxmin()]['list_broker_name_1']} and {df_filtered.loc[df_filtered['YEAR BUILT'].idxmin()]['list_agent_name_2']} with {df_filtered.loc[df_filtered['YEAR BUILT'].idxmin()]['list_broker_name_2']} | Buyer's agents: {df_filtered.loc[df_filtered['YEAR BUILT'].idxmin()]['buy_agent_name_1']} with {df_filtered.loc[df_filtered['YEAR BUILT'].idxmin()]['buy_broker_name_1']} and {df_filtered.loc[df_filtered['YEAR BUILT'].idxmin()]['buy_agent_name_2']} with {df_filtered.loc[df_filtered['YEAR BUILT'].idxmin()]['buy_broker_name_2']}\")"
   ]
  },
  {
   "cell_type": "markdown",
   "id": "1237f8b2",
   "metadata": {},
   "source": [
    "# Print links for notable sales\n",
    "\n",
    "## Top sale"
   ]
  },
  {
   "cell_type": "code",
   "execution_count": 65,
   "id": "4c776293",
   "metadata": {},
   "outputs": [
    {
     "name": "stdout",
     "output_type": "stream",
     "text": [
      "https://www.redfin.com/FL/Key-Biscayne/360-Ocean-Dr-33149/unit-1002S/home/79133323\n"
     ]
    }
   ],
   "source": [
    "print(df_filtered.loc[df_filtered['PRICE'].idxmax()]['URL'])"
   ]
  },
  {
   "cell_type": "markdown",
   "id": "b1f63a6a",
   "metadata": {},
   "source": [
    "## Cheapest sale"
   ]
  },
  {
   "cell_type": "code",
   "execution_count": 66,
   "id": "967008ef",
   "metadata": {},
   "outputs": [
    {
     "name": "stdout",
     "output_type": "stream",
     "text": [
      "https://www.redfin.com/FL/Miami/15201-NE-6th-Ave-33162/unit-C210/home/43356954\n"
     ]
    }
   ],
   "source": [
    "print(df_filtered.loc[df_filtered['PRICE'].idxmin()]['URL'])"
   ]
  },
  {
   "cell_type": "markdown",
   "id": "0f56cc2b",
   "metadata": {},
   "source": [
    "## Highest PSF"
   ]
  },
  {
   "cell_type": "code",
   "execution_count": 67,
   "id": "001083a2",
   "metadata": {},
   "outputs": [
    {
     "name": "stdout",
     "output_type": "stream",
     "text": [
      "https://www.redfin.com/FL/Surfside/9111-Collins-Ave-33154/unit-N713/home/79133163\n"
     ]
    }
   ],
   "source": [
    "print(df_filtered.loc[df_filtered['$/SQUARE FEET'].idxmax()]['URL'])"
   ]
  },
  {
   "cell_type": "markdown",
   "id": "e606b84a",
   "metadata": {},
   "source": [
    "## Lowest PSF"
   ]
  },
  {
   "cell_type": "code",
   "execution_count": 68,
   "id": "91b9b079",
   "metadata": {},
   "outputs": [
    {
     "name": "stdout",
     "output_type": "stream",
     "text": [
      "https://www.redfin.com/FL/Doral/5300-NW-87th-Ave-33178/unit-512/home/43402972\n"
     ]
    }
   ],
   "source": [
    "print(df_filtered.loc[df_filtered['$/SQUARE FEET'].idxmin()]['URL'])"
   ]
  },
  {
   "cell_type": "markdown",
   "id": "d6e5493b",
   "metadata": {},
   "source": [
    "## Newest"
   ]
  },
  {
   "cell_type": "code",
   "execution_count": 69,
   "id": "c2cc4988",
   "metadata": {},
   "outputs": [
    {
     "name": "stdout",
     "output_type": "stream",
     "text": [
      "https://www.redfin.com/FL/Miami/2655-S-Bayshore-Dr-33133/unit-1501/home/191480913\n"
     ]
    }
   ],
   "source": [
    "print(df_filtered.loc[df_filtered['YEAR BUILT'].idxmax()]['URL'])"
   ]
  },
  {
   "cell_type": "markdown",
   "id": "1d1ba957",
   "metadata": {},
   "source": [
    "## Oldest"
   ]
  },
  {
   "cell_type": "code",
   "execution_count": 70,
   "id": "51fa78ff",
   "metadata": {},
   "outputs": [
    {
     "name": "stdout",
     "output_type": "stream",
     "text": [
      "https://www.redfin.com/FL/Miami-Beach/752-Meridian-Ave-33139/unit-19/home/42802202\n"
     ]
    }
   ],
   "source": [
    "print(df_filtered.loc[df_filtered['YEAR BUILT'].idxmin()]['URL'])"
   ]
  },
  {
   "cell_type": "markdown",
   "id": "6b274da8",
   "metadata": {},
   "source": [
    "## Time on Market Calculator"
   ]
  },
  {
   "cell_type": "code",
   "execution_count": 72,
   "id": "0d14e001",
   "metadata": {},
   "outputs": [
    {
     "name": "stdout",
     "output_type": "stream",
     "text": [
      "56\n"
     ]
    }
   ],
   "source": [
    "from datetime import datetime, timedelta\n",
    "\n",
    "################ YEAR, MONTH, DAY #######################\n",
    "\n",
    "date1 = datetime(2024, 7, 18) ## List (Earlier) date\n",
    "date2 = datetime(2024, 9, 12) ## Close (Later) date\n",
    "\n",
    "delta = date2 - date1\n",
    "num_days = delta.days\n",
    "\n",
    "print(num_days)"
   ]
  },
  {
   "cell_type": "markdown",
   "id": "cced793f",
   "metadata": {},
   "source": [
    "## Access second highest (or whatever is needed)"
   ]
  },
  {
   "cell_type": "code",
   "execution_count": 58,
   "id": "016dcd2c",
   "metadata": {},
   "outputs": [],
   "source": [
    "# ### Second highest ###\n",
    "# # Sort the DataFrame by '$/SQUARE FEET' in descending order\n",
    "# second_highest = df_filtered.sort_values(by='$/SQUARE FEET', ascending=False)\n",
    "\n",
    "# # Get the URL of the entry with the second highest '$/SQUARE FEET' value\n",
    "# second_highest_url = second_highest.iloc[1]['URL']  # `.iloc[1]` accesses the second row\n",
    "\n",
    "# print(second_highest_url)"
   ]
  }
 ],
 "metadata": {
  "kernelspec": {
   "display_name": "Python 3 (ipykernel)",
   "language": "python",
   "name": "python3"
  },
  "language_info": {
   "codemirror_mode": {
    "name": "ipython",
    "version": 3
   },
   "file_extension": ".py",
   "mimetype": "text/x-python",
   "name": "python",
   "nbconvert_exporter": "python",
   "pygments_lexer": "ipython3",
   "version": "3.9.12"
  }
 },
 "nbformat": 4,
 "nbformat_minor": 5
}
