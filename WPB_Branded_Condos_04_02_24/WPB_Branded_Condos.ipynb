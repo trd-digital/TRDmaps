{
 "cells": [
  {
   "cell_type": "code",
   "execution_count": 1,
   "id": "d5cb0bc1",
   "metadata": {},
   "outputs": [],
   "source": [
    "import pandas as pd\n",
    "import folium\n",
    "import numpy as np\n",
    "import os\n",
    "import googlemaps\n",
    "import requests\n",
    "from textwrap import shorten\n",
    "from bs4 import BeautifulSoup\n",
    "import re"
   ]
  },
  {
   "cell_type": "code",
   "execution_count": 2,
   "id": "e264392d",
   "metadata": {},
   "outputs": [],
   "source": [
    "df = pd.read_csv('PlannedCondosWPB - Sheet1.csv',dtype='str')"
   ]
  },
  {
   "cell_type": "markdown",
   "id": "30c8f315",
   "metadata": {},
   "source": [
    "## Data clean"
   ]
  },
  {
   "cell_type": "code",
   "execution_count": 3,
   "id": "fede168c",
   "metadata": {},
   "outputs": [],
   "source": [
    "df['Name '] = df['Name '].str.replace('Unnamed','',regex=True)\n",
    "df = df.rename(columns={'Name ':'Name'})"
   ]
  },
  {
   "cell_type": "markdown",
   "id": "5f34ae49",
   "metadata": {},
   "source": [
    "## Geocode"
   ]
  },
  {
   "cell_type": "code",
   "execution_count": 4,
   "id": "5f05de3b",
   "metadata": {},
   "outputs": [],
   "source": [
    "%store -r google_maps_API_Key\n",
    "gmaps_key = googlemaps.Client(key=google_maps_API_Key)"
   ]
  },
  {
   "cell_type": "code",
   "execution_count": 5,
   "id": "1a694c47",
   "metadata": {},
   "outputs": [],
   "source": [
    "df['Site Address'] = df['Site Address'] + ' West Palm Beach, FL'"
   ]
  },
  {
   "cell_type": "code",
   "execution_count": 6,
   "id": "407fc447",
   "metadata": {},
   "outputs": [],
   "source": [
    "# Define the geocode function\n",
    "def geocode(add):\n",
    "    g = gmaps_key.geocode(add)\n",
    "    if g:\n",
    "        lat = g[0][\"geometry\"][\"location\"][\"lat\"]\n",
    "        lng = g[0][\"geometry\"][\"location\"][\"lng\"]\n",
    "        return (lat, lng)\n",
    "    else:\n",
    "        return None\n",
    "\n",
    "# Apply geocoding to the 'geo_address' column and store the results in 'geocoded' column\n",
    "df['geocoded'] = df['Site Address'].apply(geocode)"
   ]
  },
  {
   "cell_type": "code",
   "execution_count": 7,
   "id": "a5f53afa",
   "metadata": {},
   "outputs": [],
   "source": [
    "df['geocoded'] = df['geocoded'].astype(str)\n",
    "df[['lat', 'lon']] = df['geocoded'].apply(lambda x: (None, None) if x == 'None' else x.strip('()').split(', ', 1)).apply(pd.Series)\n",
    "df['lat'] = df['lat'].astype(float)\n",
    "df['lon'] = df['lon'].astype(float)"
   ]
  },
  {
   "cell_type": "markdown",
   "id": "31307db7",
   "metadata": {},
   "source": [
    "## Link Formatter"
   ]
  },
  {
   "cell_type": "code",
   "execution_count": 8,
   "id": "2738c3f6",
   "metadata": {},
   "outputs": [],
   "source": [
    "df['Story Link'] = 'Click here for story'\n",
    "\n",
    "df[\"short_description\"] = df[\"Story Link\"].apply(lambda s: shorten(s, width=20, placeholder=\"\"))\n",
    "df['remaining_desc'] = df.apply(lambda row : row['Story Link'].replace(str(row['short_description']), ''), axis=1)\n",
    "df['remaining_desc']\n",
    "\n",
    "df[\"Story Link\"] = '<a href=\"' + df[\"Link\"] + '\" target=\"_blank\" rel=\"noopener noreferrer\">' + df[\"short_description\"] + \"</a>\" + df[\"remaining_desc\"]"
   ]
  },
  {
   "cell_type": "code",
   "execution_count": 9,
   "id": "d1d50b04",
   "metadata": {},
   "outputs": [
    {
     "ename": "NameError",
     "evalue": "name 'm' is not defined",
     "output_type": "error",
     "traceback": [
      "\u001b[0;31m---------------------------------------------------------------------------\u001b[0m",
      "\u001b[0;31mNameError\u001b[0m                                 Traceback (most recent call last)",
      "Cell \u001b[0;32mIn[9], line 31\u001b[0m\n\u001b[1;32m     19\u001b[0m     \u001b[38;5;28;01mreturn\u001b[39;00m tooltip_content\n\u001b[1;32m     21\u001b[0m \u001b[38;5;66;03m# Add the custom Mapbox tile layer\u001b[39;00m\n\u001b[1;32m     22\u001b[0m folium\u001b[38;5;241m.\u001b[39mTileLayer(\n\u001b[1;32m     23\u001b[0m     tiles \u001b[38;5;241m=\u001b[39m \u001b[38;5;124m'\u001b[39m\u001b[38;5;124mhttps://api.mapbox.com/styles/v1/mapbox/streets-v11/tiles/256/\u001b[39m\u001b[38;5;132;01m{z}\u001b[39;00m\u001b[38;5;124m/\u001b[39m\u001b[38;5;132;01m{x}\u001b[39;00m\u001b[38;5;124m/\u001b[39m\u001b[38;5;132;01m{y}\u001b[39;00m\u001b[38;5;124m@2x?access_token=pk.eyJ1IjoidHJkZGF0YSIsImEiOiJjamc2bTc2YmUxY2F3MnZxZGh2amR2MTY5In0.QlOWqB-yQNrNlXD0KQ9IvQ\u001b[39m\u001b[38;5;124m'\u001b[39m,\n\u001b[1;32m     24\u001b[0m     attr \u001b[38;5;241m=\u001b[39m \u001b[38;5;124m'\u001b[39m\u001b[38;5;124mMapbox\u001b[39m\u001b[38;5;124m'\u001b[39m,\n\u001b[1;32m     25\u001b[0m     name \u001b[38;5;241m=\u001b[39m \u001b[38;5;124m'\u001b[39m\u001b[38;5;124mStreets\u001b[39m\u001b[38;5;124m'\u001b[39m,\n\u001b[1;32m     26\u001b[0m     overlay \u001b[38;5;241m=\u001b[39m \u001b[38;5;28;01mFalse\u001b[39;00m,\n\u001b[1;32m     27\u001b[0m     control \u001b[38;5;241m=\u001b[39m \u001b[38;5;28;01mTrue\u001b[39;00m,\n\u001b[1;32m     28\u001b[0m     show \u001b[38;5;241m=\u001b[39m \u001b[38;5;28;01mTrue\u001b[39;00m,\n\u001b[1;32m     29\u001b[0m     min_zoom \u001b[38;5;241m=\u001b[39m \u001b[38;5;241m11\u001b[39m,\n\u001b[1;32m     30\u001b[0m     max_zoom \u001b[38;5;241m=\u001b[39m \u001b[38;5;241m30\u001b[39m\n\u001b[0;32m---> 31\u001b[0m     )\u001b[38;5;241m.\u001b[39madd_to(\u001b[43mm\u001b[49m)\n\u001b[1;32m     33\u001b[0m \u001b[38;5;66;03m### Create title ###\u001b[39;00m\n\u001b[1;32m     34\u001b[0m title_html \u001b[38;5;241m=\u001b[39m \u001b[38;5;124m'''\u001b[39m\n\u001b[1;32m     35\u001b[0m \u001b[38;5;124m              <h3 align=\u001b[39m\u001b[38;5;124m\"\u001b[39m\u001b[38;5;124mcenter\u001b[39m\u001b[38;5;124m\"\u001b[39m\u001b[38;5;124m style=\u001b[39m\u001b[38;5;124m\"\u001b[39m\u001b[38;5;124mfont-size:16px\u001b[39m\u001b[38;5;124m\"\u001b[39m\u001b[38;5;124m><b>\u001b[39m\u001b[38;5;132;01m{}\u001b[39;00m\u001b[38;5;124m</b></h3>\u001b[39m\n\u001b[1;32m     36\u001b[0m \u001b[38;5;124m             \u001b[39m\u001b[38;5;124m'''\u001b[39m\u001b[38;5;241m.\u001b[39mformat(\u001b[38;5;124m\"\u001b[39m\u001b[38;5;124mResidential projects planned in West Palm Beach\u001b[39m\u001b[38;5;124m\"\u001b[39m)\n",
      "\u001b[0;31mNameError\u001b[0m: name 'm' is not defined"
     ]
    }
   ],
   "source": [
    "def tooltip_html(row_index, max_chars=30):\n",
    "    \"\"\"Generate HTML content for the tooltip with line breaks for long text.\"\"\"\n",
    "    tooltip_content = '<div class=\"popup-content\">'\n",
    "\n",
    "    # Dynamically add data for each column\n",
    "    for column in df.columns:\n",
    "        value = df.at[row_index, column]\n",
    "        value_str = str(value).strip()\n",
    "        if pd.notnull(value) and value_str != \"\" and column in ['Developer','Name ','Site Address','Units','Stories','Est. Completion']:\n",
    "\n",
    "            # Check if the string exceeds the maximum character length\n",
    "            if len(value_str) > max_chars and column == \"Site Address\":\n",
    "                # Insert a <br> tag every max_chars characters\n",
    "                value_str = '<br>'.join(value_str[i:i+max_chars] for i in range(0, len(value_str), max_chars))\n",
    "\n",
    "            tooltip_content += f'<strong>{column}:</strong> {value_str}<br>'\n",
    "\n",
    "    tooltip_content += '</div>'\n",
    "    return tooltip_content\n",
    "\n",
    "# Add the custom Mapbox tile layer\n",
    "folium.TileLayer(\n",
    "    tiles = 'https://api.mapbox.com/styles/v1/mapbox/streets-v11/tiles/256/{z}/{x}/{y}@2x?access_token=pk.eyJ1IjoidHJkZGF0YSIsImEiOiJjamc2bTc2YmUxY2F3MnZxZGh2amR2MTY5In0.QlOWqB-yQNrNlXD0KQ9IvQ',\n",
    "    attr = 'Mapbox',\n",
    "    name = 'Streets',\n",
    "    overlay = False,\n",
    "    control = True,\n",
    "    show = True,\n",
    "    min_zoom = 11,\n",
    "    max_zoom = 30\n",
    "    ).add_to(m)\n",
    "\n",
    "### Create title ###\n",
    "title_html = '''\n",
    "              <h3 align=\"center\" style=\"font-size:16px\"><b>{}</b></h3>\n",
    "             '''.format(\"Residential projects planned in West Palm Beach\")\n",
    "\n",
    "m.get_root().html.add_child(folium.Element(title_html))\n",
    "\n",
    "# Loop through the DataFrame to create markers\n",
    "for i in range(len(df)):\n",
    "    # Create tooltip HTML content\n",
    "    tooltip_content = tooltip_html(i)\n",
    "    \n",
    "    # Create a custom icon\n",
    "    icon = folium.Icon(color='red')\n",
    "    \n",
    "    # Create a marker with a tooltip\n",
    "    marker = folium.CircleMarker(\n",
    "        location=[df.iloc[i]['lat'], df.iloc[i]['lon']],\n",
    "        tooltip=tooltip_content,\n",
    "        color='red',\n",
    "        fill=True,\n",
    "        radius=7,\n",
    "        icon=folium.CircleMarker(color='red')\n",
    "    ).add_to(m)\n",
    "\n",
    "# Display the map\n",
    "m"
   ]
  },
  {
   "cell_type": "code",
   "execution_count": null,
   "id": "6f412da2",
   "metadata": {},
   "outputs": [],
   "source": [
    "m.save('index.html')"
   ]
  },
  {
   "cell_type": "code",
   "execution_count": null,
   "id": "42d603fb",
   "metadata": {},
   "outputs": [],
   "source": [
    "base_name = 'https://trd-digital.github.io/trd-news-interactive-maps/'\n",
    "\n",
    "cwd = os.getcwd()\n",
    "\n",
    "cwd = cwd.split('/')\n",
    "\n",
    "final_name = base_name + cwd[-1]\n",
    "print(final_name)"
   ]
  }
 ],
 "metadata": {
  "kernelspec": {
   "display_name": "Python 3 (ipykernel)",
   "language": "python",
   "name": "python3"
  },
  "language_info": {
   "codemirror_mode": {
    "name": "ipython",
    "version": 3
   },
   "file_extension": ".py",
   "mimetype": "text/x-python",
   "name": "python",
   "nbconvert_exporter": "python",
   "pygments_lexer": "ipython3",
   "version": "3.9.12"
  }
 },
 "nbformat": 4,
 "nbformat_minor": 5
}
