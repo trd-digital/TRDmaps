{
 "cells": [
  {
   "cell_type": "markdown",
   "id": "f9c4e4d8",
   "metadata": {},
   "source": [
    "## Imports"
   ]
  },
  {
   "cell_type": "code",
   "execution_count": 1,
   "id": "bf6a0483",
   "metadata": {},
   "outputs": [],
   "source": [
    "import pandas as pd\n",
    "import glob\n",
    "import os"
   ]
  },
  {
   "cell_type": "markdown",
   "id": "38cb2afa",
   "metadata": {},
   "source": [
    "## Data Read-in"
   ]
  },
  {
   "cell_type": "code",
   "execution_count": 2,
   "id": "9cc5965c",
   "metadata": {},
   "outputs": [],
   "source": [
    "csv_list = glob.glob(\"*.csv\")"
   ]
  },
  {
   "cell_type": "code",
   "execution_count": 3,
   "id": "4e23f7d4",
   "metadata": {},
   "outputs": [],
   "source": [
    "df_list = []\n",
    "for csv in csv_list:\n",
    "    df = pd.read_csv(csv)\n",
    "    df_list.append(df)\n",
    "    \n",
    "concat_df = pd.concat(df_list)"
   ]
  },
  {
   "cell_type": "code",
   "execution_count": 4,
   "id": "bf3bd395",
   "metadata": {},
   "outputs": [],
   "source": [
    "filtered_df = concat_df.dropna(subset='Description')"
   ]
  },
  {
   "cell_type": "code",
   "execution_count": 5,
   "id": "383e1834",
   "metadata": {},
   "outputs": [
    {
     "data": {
      "text/plain": [
       "Index(['Name', 'Region/ City / Neighborhood', 'Research URL', 'Description',\n",
       "       'Use case', 'Unnamed: 0', 'Data type', 'Brokerage type'],\n",
       "      dtype='object')"
      ]
     },
     "execution_count": 5,
     "metadata": {},
     "output_type": "execute_result"
    }
   ],
   "source": [
    "filtered_df.columns"
   ]
  },
  {
   "cell_type": "code",
   "execution_count": 6,
   "id": "5f68bb90",
   "metadata": {},
   "outputs": [],
   "source": [
    "keep_columns = [\n",
    "    'Name',\n",
    "    'Research URL',\n",
    "    'Description',\n",
    "    'Data type'\n",
    "]"
   ]
  },
  {
   "cell_type": "code",
   "execution_count": 7,
   "id": "8fa38577",
   "metadata": {},
   "outputs": [],
   "source": [
    "final_df = filtered_df[keep_columns]"
   ]
  },
  {
   "cell_type": "code",
   "execution_count": 8,
   "id": "51411380",
   "metadata": {},
   "outputs": [],
   "source": [
    "final_df.to_csv(\"trd_data_resource_directory.csv\")"
   ]
  },
  {
   "cell_type": "markdown",
   "id": "c1aebeeb",
   "metadata": {},
   "source": [
    "## Get URL"
   ]
  },
  {
   "cell_type": "code",
   "execution_count": 9,
   "id": "3d04c52f",
   "metadata": {},
   "outputs": [
    {
     "name": "stdout",
     "output_type": "stream",
     "text": [
      "https://trd-digital.github.io/trd-news-interactive-maps/trddata-resource-directory\n"
     ]
    }
   ],
   "source": [
    "base_name = 'https://trd-digital.github.io/trd-news-interactive-maps/'\n",
    "\n",
    "cwd = os.getcwd()\n",
    "\n",
    "cwd = cwd.split('/')\n",
    "\n",
    "final_name = base_name + cwd[-1]\n",
    "print(final_name)"
   ]
  }
 ],
 "metadata": {
  "kernelspec": {
   "display_name": "Python 3 (ipykernel)",
   "language": "python",
   "name": "python3"
  },
  "language_info": {
   "codemirror_mode": {
    "name": "ipython",
    "version": 3
   },
   "file_extension": ".py",
   "mimetype": "text/x-python",
   "name": "python",
   "nbconvert_exporter": "python",
   "pygments_lexer": "ipython3",
   "version": "3.9.12"
  }
 },
 "nbformat": 4,
 "nbformat_minor": 5
}
