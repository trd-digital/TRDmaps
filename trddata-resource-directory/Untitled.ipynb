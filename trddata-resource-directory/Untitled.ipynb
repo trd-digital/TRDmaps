{
 "cells": [
  {
   "cell_type": "markdown",
   "id": "5561cdbd",
   "metadata": {},
   "source": [
    "## Imports"
   ]
  },
  {
   "cell_type": "code",
   "execution_count": 18,
   "id": "a6ad506b",
   "metadata": {},
   "outputs": [],
   "source": [
    "import pandas as pd\n",
    "import glob\n",
    "import os"
   ]
  },
  {
   "cell_type": "markdown",
   "id": "e5c0c735",
   "metadata": {},
   "source": [
    "## Data Read-in"
   ]
  },
  {
   "cell_type": "code",
   "execution_count": 4,
   "id": "02a6949d",
   "metadata": {},
   "outputs": [],
   "source": [
    "csv_list = glob.glob(\"*.csv\")"
   ]
  },
  {
   "cell_type": "code",
   "execution_count": 5,
   "id": "605b22d0",
   "metadata": {},
   "outputs": [],
   "source": [
    "df_list = []\n",
    "for csv in csv_list:\n",
    "    df = pd.read_csv(csv)\n",
    "    df_list.append(df)\n",
    "    \n",
    "concat_df = pd.concat(df_list)"
   ]
  },
  {
   "cell_type": "code",
   "execution_count": 8,
   "id": "01d27299",
   "metadata": {},
   "outputs": [],
   "source": [
    "filtered_df = concat_df.dropna(subset='Description')"
   ]
  },
  {
   "cell_type": "code",
   "execution_count": 9,
   "id": "ecf7772d",
   "metadata": {},
   "outputs": [
    {
     "data": {
      "text/plain": [
       "Index(['Name', 'Region/ City / Neighborhood', 'Research URL', 'Description',\n",
       "       'Use case', 'Data type', 'Brokerage type'],\n",
       "      dtype='object')"
      ]
     },
     "execution_count": 9,
     "metadata": {},
     "output_type": "execute_result"
    }
   ],
   "source": [
    "filtered_df.columns"
   ]
  },
  {
   "cell_type": "code",
   "execution_count": 10,
   "id": "b5dc32b1",
   "metadata": {},
   "outputs": [],
   "source": [
    "keep_columns = [\n",
    "    'Name',\n",
    "    'Region/ City / Neighborhood',\n",
    "    'Research URL',\n",
    "    'Description'\n",
    "]"
   ]
  },
  {
   "cell_type": "code",
   "execution_count": 15,
   "id": "dbba92ad",
   "metadata": {},
   "outputs": [],
   "source": [
    "final_df = filtered_df[keep_columns]"
   ]
  },
  {
   "cell_type": "code",
   "execution_count": 17,
   "id": "f2af8d4d",
   "metadata": {},
   "outputs": [],
   "source": [
    "final_df.to_csv(\"trd_data_resource_directory.csv\")"
   ]
  },
  {
   "cell_type": "markdown",
   "id": "317ab0dd",
   "metadata": {},
   "source": [
    "## Get URL"
   ]
  },
  {
   "cell_type": "code",
   "execution_count": 19,
   "id": "43f00740",
   "metadata": {},
   "outputs": [
    {
     "name": "stdout",
     "output_type": "stream",
     "text": [
      "https://trd-digital.github.io/trd-news-interactive-maps/trddata-resource-directory\n"
     ]
    }
   ],
   "source": [
    "base_name = 'https://trd-digital.github.io/trd-news-interactive-maps/'\n",
    "\n",
    "cwd = os.getcwd()\n",
    "\n",
    "cwd = cwd.split('/')\n",
    "\n",
    "final_name = base_name + cwd[-1]\n",
    "print(final_name)"
   ]
  }
 ],
 "metadata": {
  "kernelspec": {
   "display_name": "Python 3 (ipykernel)",
   "language": "python",
   "name": "python3"
  },
  "language_info": {
   "codemirror_mode": {
    "name": "ipython",
    "version": 3
   },
   "file_extension": ".py",
   "mimetype": "text/x-python",
   "name": "python",
   "nbconvert_exporter": "python",
   "pygments_lexer": "ipython3",
   "version": "3.9.12"
  }
 },
 "nbformat": 4,
 "nbformat_minor": 5
}
