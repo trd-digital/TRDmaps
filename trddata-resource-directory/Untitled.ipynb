{
 "cells": [
  {
   "cell_type": "markdown",
   "id": "120cae71",
   "metadata": {},
   "source": [
    "## Imports"
   ]
  },
  {
   "cell_type": "code",
   "execution_count": 2,
   "id": "15f33665",
   "metadata": {},
   "outputs": [],
   "source": [
    "import pandas as pd\n",
    "import glob"
   ]
  },
  {
   "cell_type": "markdown",
   "id": "3db08d45",
   "metadata": {},
   "source": [
    "## Data Read-in"
   ]
  },
  {
   "cell_type": "code",
   "execution_count": 4,
   "id": "3bb475e9",
   "metadata": {},
   "outputs": [],
   "source": [
    "csv_list = glob.glob(\"*.csv\")"
   ]
  },
  {
   "cell_type": "code",
   "execution_count": 5,
   "id": "7575a16c",
   "metadata": {},
   "outputs": [],
   "source": [
    "df_list = []\n",
    "for csv in csv_list:\n",
    "    df = pd.read_csv(csv)\n",
    "    df_list.append(df)\n",
    "    \n",
    "concat_df = pd.concat(df_list)"
   ]
  },
  {
   "cell_type": "code",
   "execution_count": 8,
   "id": "0f752e20",
   "metadata": {},
   "outputs": [],
   "source": [
    "filtered_df = concat_df.dropna(subset='Description')"
   ]
  },
  {
   "cell_type": "code",
   "execution_count": 9,
   "id": "6eac7d3a",
   "metadata": {},
   "outputs": [
    {
     "data": {
      "text/plain": [
       "Index(['Name', 'Region/ City / Neighborhood', 'Research URL', 'Description',\n",
       "       'Use case', 'Data type', 'Brokerage type'],\n",
       "      dtype='object')"
      ]
     },
     "execution_count": 9,
     "metadata": {},
     "output_type": "execute_result"
    }
   ],
   "source": [
    "filtered_df.columns"
   ]
  },
  {
   "cell_type": "code",
   "execution_count": 10,
   "id": "9e1980d2",
   "metadata": {},
   "outputs": [],
   "source": [
    "keep_columns = [\n",
    "    'Name',\n",
    "    'Region/ City / Neighborhood',\n",
    "    'Research URL',\n",
    "    'Description'\n",
    "]"
   ]
  },
  {
   "cell_type": "code",
   "execution_count": 15,
   "id": "b5a05c11",
   "metadata": {},
   "outputs": [],
   "source": [
    "final_df = filtered_df[keep_columns]"
   ]
  },
  {
   "cell_type": "code",
   "execution_count": 17,
   "id": "df256add",
   "metadata": {},
   "outputs": [],
   "source": [
    "final_df.to_csv(\"trd_data_resource_directory.csv\")"
   ]
  }
 ],
 "metadata": {
  "kernelspec": {
   "display_name": "Python 3 (ipykernel)",
   "language": "python",
   "name": "python3"
  },
  "language_info": {
   "codemirror_mode": {
    "name": "ipython",
    "version": 3
   },
   "file_extension": ".py",
   "mimetype": "text/x-python",
   "name": "python",
   "nbconvert_exporter": "python",
   "pygments_lexer": "ipython3",
   "version": "3.9.12"
  }
 },
 "nbformat": 4,
 "nbformat_minor": 5
}
