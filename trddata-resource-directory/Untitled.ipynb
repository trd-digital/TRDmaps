{
 "cells": [
  {
   "cell_type": "markdown",
   "id": "c8793e2a",
   "metadata": {},
   "source": [
    "## Imports"
   ]
  },
  {
   "cell_type": "code",
   "execution_count": 26,
   "id": "7e979c89",
   "metadata": {},
   "outputs": [],
   "source": [
    "import pandas as pd\n",
    "import glob\n",
    "import os"
   ]
  },
  {
   "cell_type": "markdown",
   "id": "9c206b07",
   "metadata": {},
   "source": [
    "## Data Read-in"
   ]
  },
  {
   "cell_type": "code",
   "execution_count": 33,
   "id": "16242777",
   "metadata": {},
   "outputs": [],
   "source": [
    "csv_list = [\n",
    "    \"TRD Research - Sites 10_10_24 - Copy of Trade Groups.csv\",\n",
    "    \"TRD Research - Sites 10_10_24 - Research Sites.csv\",\n",
    "    \"TRD Research - Sites 10_10_24 - Copy of Brokerage Reports.csv\"\n",
    "]"
   ]
  },
  {
   "cell_type": "code",
   "execution_count": 34,
   "id": "74360787",
   "metadata": {},
   "outputs": [],
   "source": [
    "df_list = []\n",
    "for csv in csv_list:\n",
    "    df = pd.read_csv(csv)\n",
    "    df_list.append(df)\n",
    "    \n",
    "concat_df = pd.concat(df_list)"
   ]
  },
  {
   "cell_type": "code",
   "execution_count": 39,
   "id": "944d4341",
   "metadata": {},
   "outputs": [],
   "source": [
    "concat_df = concat_df[~concat_df['Name'].str.contains('API',na=False)]\n",
    "concat_df = concat_df.drop_duplicates(subset='Name')"
   ]
  },
  {
   "cell_type": "code",
   "execution_count": 40,
   "id": "ab47e17f",
   "metadata": {},
   "outputs": [
    {
     "data": {
      "text/plain": [
       "Index(['Name', 'Region/ City / Neighborhood', 'Research URL', 'Description',\n",
       "       'Use case', 'Data type', 'Brokerage type'],\n",
       "      dtype='object')"
      ]
     },
     "execution_count": 40,
     "metadata": {},
     "output_type": "execute_result"
    }
   ],
   "source": [
    "filtered_df.columns"
   ]
  },
  {
   "cell_type": "code",
   "execution_count": 41,
   "id": "a5d770e1",
   "metadata": {},
   "outputs": [],
   "source": [
    "keep_columns = [\n",
    "    'Name',\n",
    "    'Research URL',\n",
    "    'Description',\n",
    "    'Data type'\n",
    "]"
   ]
  },
  {
   "cell_type": "code",
   "execution_count": 42,
   "id": "708b01bb",
   "metadata": {},
   "outputs": [],
   "source": [
    "final_df = filtered_df[keep_columns]"
   ]
  },
  {
   "cell_type": "code",
   "execution_count": 43,
   "id": "5d6a525a",
   "metadata": {},
   "outputs": [],
   "source": [
    "final_df.to_csv(\"trd_data_resource_directory.csv\",index=False)"
   ]
  },
  {
   "cell_type": "code",
   "execution_count": 44,
   "id": "9d67b67e",
   "metadata": {},
   "outputs": [],
   "source": [
    "concat_df.to_csv(\"trd_data_directory_for_edit.csv\",index=False)"
   ]
  },
  {
   "cell_type": "markdown",
   "id": "5ee85ebe",
   "metadata": {},
   "source": [
    "## Get URL"
   ]
  },
  {
   "cell_type": "code",
   "execution_count": 45,
   "id": "c9009345",
   "metadata": {},
   "outputs": [
    {
     "name": "stdout",
     "output_type": "stream",
     "text": [
      "https://trd-digital.github.io/trd-news-interactive-maps/trddata-resource-directory\n"
     ]
    }
   ],
   "source": [
    "base_name = 'https://trd-digital.github.io/trd-news-interactive-maps/'\n",
    "\n",
    "cwd = os.getcwd()\n",
    "\n",
    "cwd = cwd.split('/')\n",
    "\n",
    "final_name = base_name + cwd[-1]\n",
    "print(final_name)"
   ]
  }
 ],
 "metadata": {
  "kernelspec": {
   "display_name": "Python 3 (ipykernel)",
   "language": "python",
   "name": "python3"
  },
  "language_info": {
   "codemirror_mode": {
    "name": "ipython",
    "version": 3
   },
   "file_extension": ".py",
   "mimetype": "text/x-python",
   "name": "python",
   "nbconvert_exporter": "python",
   "pygments_lexer": "ipython3",
   "version": "3.9.12"
  }
 },
 "nbformat": 4,
 "nbformat_minor": 5
}
