{
 "cells": [
  {
   "cell_type": "markdown",
   "id": "a8826be7",
   "metadata": {},
   "source": [
    "## Imports"
   ]
  },
  {
   "cell_type": "code",
   "execution_count": 1,
   "id": "94d48748",
   "metadata": {},
   "outputs": [],
   "source": [
    "import requests\n",
    "import pandas as pd\n",
    "import re\n",
    "import numpy as np\n",
    "import random\n",
    "import glob\n",
    "import os\n",
    "import googlemaps\n",
    "import folium\n",
    "\n",
    "from bs4 import BeautifulSoup\n",
    "from IPython.display import clear_output\n",
    "\n",
    "from itertools import cycle\n",
    "import urllib.request\n",
    "from urllib3 import ProxyManager, make_headers\n",
    "\n",
    "from tqdm import tqdm\n",
    "from time import sleep"
   ]
  },
  {
   "cell_type": "markdown",
   "id": "22f249c2",
   "metadata": {},
   "source": [
    "## Color-code top sale"
   ]
  },
  {
   "cell_type": "code",
   "execution_count": 43,
   "id": "c8e5b8f1",
   "metadata": {},
   "outputs": [
    {
     "name": "stderr",
     "output_type": "stream",
     "text": [
      "/var/folders/rq/0_j_rksd7psgdycg9c1qwf6m0000gp/T/ipykernel_32338/2673149807.py:2: SettingWithCopyWarning: \n",
      "A value is trying to be set on a copy of a slice from a DataFrame.\n",
      "Try using .loc[row_indexer,col_indexer] = value instead\n",
      "\n",
      "See the caveats in the documentation: https://pandas.pydata.org/pandas-docs/stable/user_guide/indexing.html#returning-a-view-versus-a-copy\n",
      "  df_final_top_ten['RANK'] = range(1, len(df_final_top_ten) + 1)\n",
      "/var/folders/rq/0_j_rksd7psgdycg9c1qwf6m0000gp/T/ipykernel_32338/2673149807.py:4: SettingWithCopyWarning: \n",
      "A value is trying to be set on a copy of a slice from a DataFrame.\n",
      "Try using .loc[row_indexer,col_indexer] = value instead\n",
      "\n",
      "See the caveats in the documentation: https://pandas.pydata.org/pandas-docs/stable/user_guide/indexing.html#returning-a-view-versus-a-copy\n",
      "  df_final_top_ten['COLOR'] = np.where(df_final_top_ten['RANK'] <= 1, 'orange', 'blue')\n"
     ]
    }
   ],
   "source": [
    "### Insert RANK values ###\n",
    "df_final_top_ten['RANK'] = range(1, len(df_final_top_ten) + 1)\n",
    "# use numpy to assign values to the 'COLOR' column\n",
    "df_final_top_ten['COLOR'] = np.where(df_final_top_ten['RANK'] <= 1, 'orange', 'blue')"
   ]
  },
  {
   "cell_type": "code",
   "execution_count": 44,
   "id": "0eb91080",
   "metadata": {},
   "outputs": [
    {
     "data": {
      "text/plain": [
       "Index(['SOLD DATE', 'ADDRESS', 'CITY', 'PRICE', 'LOCATION', 'SQUARE FEET',\n",
       "       'DAYS ON MARKET', '$/SQUARE FEET', 'LATITUDE', 'LONGITUDE', 'LATITUDE',\n",
       "       'LONGITUDE', 'LIST AGENTS', 'LIST COMPANIES', 'BOUGHT AGENTS',\n",
       "       'BOUGHT COMPANIES', 'RANK', 'COLOR'],\n",
       "      dtype='object')"
      ]
     },
     "execution_count": 44,
     "metadata": {},
     "output_type": "execute_result"
    }
   ],
   "source": [
    "df_final_top_ten.columns"
   ]
  },
  {
   "cell_type": "code",
   "execution_count": 45,
   "id": "325706a6",
   "metadata": {},
   "outputs": [],
   "source": [
    "def popup_html(row):\n",
    "    building_name = row['LOCATION']\n",
    "    price = row['PRICE']\n",
    "    listing_agent = row['LIST AGENTS']\n",
    "    buyers_agent = row['BOUGHT AGENTS']\n",
    "    psf = row['$/SQUARE FEET']\n",
    "    address = row['ADDRESS']\n",
    "    \n",
    "    html = '''<!DOCTYPE html>\n",
    "    <html>\n",
    "    <strong>Building Name: </strong>{}'''.format(building_name) + '''<br>\n",
    "    <strong>Sale Price: </strong>{}'''.format(price) + '''<br>\n",
    "    <strong>Listing Agent: </strong>{}'''.format(listing_agent) + '''<br>\n",
    "    <strong>Buyer's Agent: </strong>{}'''.format(buyers_agent) + '''<br>\n",
    "    <strong>Price sq ft: </strong>${}'''.format(psf) + '''<br>\n",
    "    <strong>Address: </strong>{}'''.format(address) + '''<br>\n",
    "    </html>\n",
    "    '''\n",
    "    return html"
   ]
  },
  {
   "cell_type": "code",
   "execution_count": 52,
   "id": "d9ead93e",
   "metadata": {},
   "outputs": [],
   "source": [
    "df_final_top_ten = df_final_top_ten.loc[:,~df_final_top_ten.columns.duplicated()].copy()"
   ]
  },
  {
   "cell_type": "code",
   "execution_count": 56,
   "id": "b8df5dd8",
   "metadata": {},
   "outputs": [
    {
     "data": {
      "text/html": [
       "<div style=\"width:100%;\"><div style=\"position:relative;width:100%;height:0;padding-bottom:60%;\"><span style=\"color:#565656\">Make this Notebook Trusted to load map: File -> Trust Notebook</span><iframe srcdoc=\"&lt;!DOCTYPE html&gt;\n",
       "&lt;head&gt;    \n",
       "    &lt;meta http-equiv=&quot;content-type&quot; content=&quot;text/html; charset=UTF-8&quot; /&gt;\n",
       "    \n",
       "        &lt;script&gt;\n",
       "            L_NO_TOUCH = false;\n",
       "            L_DISABLE_3D = false;\n",
       "        &lt;/script&gt;\n",
       "    \n",
       "    &lt;style&gt;html, body {width: 100%;height: 100%;margin: 0;padding: 0;}&lt;/style&gt;\n",
       "    &lt;style&gt;#map {position:absolute;top:0;bottom:0;right:0;left:0;}&lt;/style&gt;\n",
       "    &lt;script src=&quot;https://cdn.jsdelivr.net/npm/leaflet@1.6.0/dist/leaflet.js&quot;&gt;&lt;/script&gt;\n",
       "    &lt;script src=&quot;https://code.jquery.com/jquery-1.12.4.min.js&quot;&gt;&lt;/script&gt;\n",
       "    &lt;script src=&quot;https://maxcdn.bootstrapcdn.com/bootstrap/3.2.0/js/bootstrap.min.js&quot;&gt;&lt;/script&gt;\n",
       "    &lt;script src=&quot;https://cdnjs.cloudflare.com/ajax/libs/Leaflet.awesome-markers/2.0.2/leaflet.awesome-markers.js&quot;&gt;&lt;/script&gt;\n",
       "    &lt;link rel=&quot;stylesheet&quot; href=&quot;https://cdn.jsdelivr.net/npm/leaflet@1.6.0/dist/leaflet.css&quot;/&gt;\n",
       "    &lt;link rel=&quot;stylesheet&quot; href=&quot;https://maxcdn.bootstrapcdn.com/bootstrap/3.2.0/css/bootstrap.min.css&quot;/&gt;\n",
       "    &lt;link rel=&quot;stylesheet&quot; href=&quot;https://maxcdn.bootstrapcdn.com/bootstrap/3.2.0/css/bootstrap-theme.min.css&quot;/&gt;\n",
       "    &lt;link rel=&quot;stylesheet&quot; href=&quot;https://maxcdn.bootstrapcdn.com/font-awesome/4.6.3/css/font-awesome.min.css&quot;/&gt;\n",
       "    &lt;link rel=&quot;stylesheet&quot; href=&quot;https://cdnjs.cloudflare.com/ajax/libs/Leaflet.awesome-markers/2.0.2/leaflet.awesome-markers.css&quot;/&gt;\n",
       "    &lt;link rel=&quot;stylesheet&quot; href=&quot;https://cdn.jsdelivr.net/gh/python-visualization/folium/folium/templates/leaflet.awesome.rotate.min.css&quot;/&gt;\n",
       "    \n",
       "            &lt;meta name=&quot;viewport&quot; content=&quot;width=device-width,\n",
       "                initial-scale=1.0, maximum-scale=1.0, user-scalable=no&quot; /&gt;\n",
       "            &lt;style&gt;\n",
       "                #map_5f7e772a2ae19ac9180062bd080e0b0b {\n",
       "                    position: relative;\n",
       "                    width: 100.0%;\n",
       "                    height: 100.0%;\n",
       "                    left: 0.0%;\n",
       "                    top: 0.0%;\n",
       "                }\n",
       "            &lt;/style&gt;\n",
       "        \n",
       "&lt;/head&gt;\n",
       "&lt;body&gt;    \n",
       "    \n",
       "              &lt;h3 align=&quot;center&quot; style=&quot;font-size:16px&quot;&gt;&lt;b&gt;Recent Miami-Dade Condo Sales &lt;/b&gt;&lt;/h3&gt;\n",
       "             \n",
       "    \n",
       "                &lt;p align=&quot;center&quot; style=&quot;vertical-align: bottom; font-size:13px&quot;&gt;&lt;i&gt;July 30th - August 7th&lt;/i&gt;&lt;/p&gt;\n",
       "                \n",
       "    \n",
       "            &lt;div class=&quot;folium-map&quot; id=&quot;map_5f7e772a2ae19ac9180062bd080e0b0b&quot; &gt;&lt;/div&gt;\n",
       "        \n",
       "&lt;/body&gt;\n",
       "&lt;script&gt;    \n",
       "    \n",
       "            var map_5f7e772a2ae19ac9180062bd080e0b0b = L.map(\n",
       "                &quot;map_5f7e772a2ae19ac9180062bd080e0b0b&quot;,\n",
       "                {\n",
       "                    center: [25.810910373057, -80.21264613367876],\n",
       "                    crs: L.CRS.EPSG3857,\n",
       "                    zoom: 9.5,\n",
       "                    zoomControl: true,\n",
       "                    preferCanvas: false,\n",
       "                }\n",
       "            );\n",
       "\n",
       "            \n",
       "\n",
       "        \n",
       "    \n",
       "            var feature_group_3a7e9490199d8e7236623fb96b21bdc7 = L.featureGroup(\n",
       "                {}\n",
       "            ).addTo(map_5f7e772a2ae19ac9180062bd080e0b0b);\n",
       "        \n",
       "    \n",
       "            var marker_428e128f463a025f81e5f966a73804a1 = L.marker(\n",
       "                [25.8768475, -80.1214662],\n",
       "                {&quot;fill&quot;: true, &quot;radius&quot;: 5}\n",
       "            ).addTo(feature_group_3a7e9490199d8e7236623fb96b21bdc7);\n",
       "        \n",
       "    \n",
       "            var icon_d68de922bcca5e753a0b1fa258044309 = L.AwesomeMarkers.icon(\n",
       "                {&quot;extraClasses&quot;: &quot;fa-rotate-0&quot;, &quot;icon&quot;: &quot;info-sign&quot;, &quot;iconColor&quot;: &quot;white&quot;, &quot;markerColor&quot;: &quot;orange&quot;, &quot;prefix&quot;: &quot;glyphicon&quot;}\n",
       "            );\n",
       "            marker_428e128f463a025f81e5f966a73804a1.setIcon(icon_d68de922bcca5e753a0b1fa258044309);\n",
       "        \n",
       "    \n",
       "        var popup_08d3f13526e9852d1e7e60686e13b67f = L.popup({&quot;maxWidth&quot;: 400});\n",
       "\n",
       "        \n",
       "            \n",
       "                var html_faf4e1af9f2d14308f6ced5afafa7a35 = $(`&lt;div id=&quot;html_faf4e1af9f2d14308f6ced5afafa7a35&quot; style=&quot;width: 100.0%; height: 100.0%;&quot;&gt;&lt;!DOCTYPE html&gt;     &lt;html&gt;     &lt;strong&gt;Building Name: &lt;/strong&gt;SURF CLUB CONDO&lt;br&gt;     &lt;strong&gt;Sale Price: &lt;/strong&gt;18500000&lt;br&gt;     &lt;strong&gt;Listing Agent: &lt;/strong&gt; Ximena Penuela,  Kimberlyn Montilva&lt;br&gt;     &lt;strong&gt;Buyer&#x27;s Agent: &lt;/strong&gt; Dustin Nero&lt;br&gt;     &lt;strong&gt;Price sq ft: &lt;/strong&gt;$4229.0&lt;br&gt;     &lt;strong&gt;Address: &lt;/strong&gt;9001 Collins Ave Unit S-207&lt;br&gt;     &lt;/html&gt;     &lt;/div&gt;`)[0];\n",
       "                popup_08d3f13526e9852d1e7e60686e13b67f.setContent(html_faf4e1af9f2d14308f6ced5afafa7a35);\n",
       "            \n",
       "        \n",
       "\n",
       "        marker_428e128f463a025f81e5f966a73804a1.bindPopup(popup_08d3f13526e9852d1e7e60686e13b67f)\n",
       "        ;\n",
       "\n",
       "        \n",
       "    \n",
       "    \n",
       "            var feature_group_777ba1bcd0eaf69244a16caed444f326 = L.featureGroup(\n",
       "                {}\n",
       "            ).addTo(map_5f7e772a2ae19ac9180062bd080e0b0b);\n",
       "        \n",
       "    \n",
       "            var marker_c484fdc56d9a080eb658456b21e18d74 = L.marker(\n",
       "                [25.9569672, -80.1194349],\n",
       "                {&quot;fill&quot;: true, &quot;radius&quot;: 5}\n",
       "            ).addTo(feature_group_777ba1bcd0eaf69244a16caed444f326);\n",
       "        \n",
       "    \n",
       "            var icon_9e4b79e8ff09ab66afab8bca7a801fb2 = L.AwesomeMarkers.icon(\n",
       "                {&quot;extraClasses&quot;: &quot;fa-rotate-0&quot;, &quot;icon&quot;: &quot;info-sign&quot;, &quot;iconColor&quot;: &quot;white&quot;, &quot;markerColor&quot;: &quot;blue&quot;, &quot;prefix&quot;: &quot;glyphicon&quot;}\n",
       "            );\n",
       "            marker_c484fdc56d9a080eb658456b21e18d74.setIcon(icon_9e4b79e8ff09ab66afab8bca7a801fb2);\n",
       "        \n",
       "    \n",
       "        var popup_1e5d10bf9ddb4ef11d09dd666aec0711 = L.popup({&quot;maxWidth&quot;: 400});\n",
       "\n",
       "        \n",
       "            \n",
       "                var html_48ece0a7d89062452ce94a89aaaf0464 = $(`&lt;div id=&quot;html_48ece0a7d89062452ce94a89aaaf0464&quot; style=&quot;width: 100.0%; height: 100.0%;&quot;&gt;&lt;!DOCTYPE html&gt;     &lt;html&gt;     &lt;strong&gt;Building Name: &lt;/strong&gt;REGALIA CONDO&lt;br&gt;     &lt;strong&gt;Sale Price: &lt;/strong&gt;7750000&lt;br&gt;     &lt;strong&gt;Listing Agent: &lt;/strong&gt; Chad Carroll&lt;br&gt;     &lt;strong&gt;Buyer&#x27;s Agent: &lt;/strong&gt; Chad Carroll&lt;br&gt;     &lt;strong&gt;Price sq ft: &lt;/strong&gt;$1552.0&lt;br&gt;     &lt;strong&gt;Address: &lt;/strong&gt;19575 Collins Ave #6&lt;br&gt;     &lt;/html&gt;     &lt;/div&gt;`)[0];\n",
       "                popup_1e5d10bf9ddb4ef11d09dd666aec0711.setContent(html_48ece0a7d89062452ce94a89aaaf0464);\n",
       "            \n",
       "        \n",
       "\n",
       "        marker_c484fdc56d9a080eb658456b21e18d74.bindPopup(popup_1e5d10bf9ddb4ef11d09dd666aec0711)\n",
       "        ;\n",
       "\n",
       "        \n",
       "    \n",
       "    \n",
       "            var marker_7712bcc640b6238406de2d96326080c5 = L.marker(\n",
       "                [25.8227618, -80.1321616],\n",
       "                {&quot;fill&quot;: true, &quot;radius&quot;: 5}\n",
       "            ).addTo(feature_group_777ba1bcd0eaf69244a16caed444f326);\n",
       "        \n",
       "    \n",
       "            var icon_cc29355c260cd96acff57f6446326d82 = L.AwesomeMarkers.icon(\n",
       "                {&quot;extraClasses&quot;: &quot;fa-rotate-0&quot;, &quot;icon&quot;: &quot;info-sign&quot;, &quot;iconColor&quot;: &quot;white&quot;, &quot;markerColor&quot;: &quot;blue&quot;, &quot;prefix&quot;: &quot;glyphicon&quot;}\n",
       "            );\n",
       "            marker_7712bcc640b6238406de2d96326080c5.setIcon(icon_cc29355c260cd96acff57f6446326d82);\n",
       "        \n",
       "    \n",
       "        var popup_cf7ee3ed9d6a6dc5f07501182030e8e1 = L.popup({&quot;maxWidth&quot;: 400});\n",
       "\n",
       "        \n",
       "            \n",
       "                var html_ec68f919cc9d2d09a4c4e345d7b89b7c = $(`&lt;div id=&quot;html_ec68f919cc9d2d09a4c4e345d7b89b7c&quot; style=&quot;width: 100.0%; height: 100.0%;&quot;&gt;&lt;!DOCTYPE html&gt;     &lt;html&gt;     &lt;strong&gt;Building Name: &lt;/strong&gt;THE RITZ-CARLTON RESIDENCE&lt;br&gt;     &lt;strong&gt;Sale Price: &lt;/strong&gt;5025000&lt;br&gt;     &lt;strong&gt;Listing Agent: &lt;/strong&gt; Darin Tansey,  Philip Freedman&lt;br&gt;     &lt;strong&gt;Buyer&#x27;s Agent: &lt;/strong&gt; Matthew Lill&lt;br&gt;     &lt;strong&gt;Price sq ft: &lt;/strong&gt;$1726.0&lt;br&gt;     &lt;strong&gt;Address: &lt;/strong&gt;4701 N Meridian Ave #302&lt;br&gt;     &lt;/html&gt;     &lt;/div&gt;`)[0];\n",
       "                popup_cf7ee3ed9d6a6dc5f07501182030e8e1.setContent(html_ec68f919cc9d2d09a4c4e345d7b89b7c);\n",
       "            \n",
       "        \n",
       "\n",
       "        marker_7712bcc640b6238406de2d96326080c5.bindPopup(popup_cf7ee3ed9d6a6dc5f07501182030e8e1)\n",
       "        ;\n",
       "\n",
       "        \n",
       "    \n",
       "    \n",
       "            var marker_537d6eb424c77e69554f41ebe7ef0e11 = L.marker(\n",
       "                [25.75892, -80.143128],\n",
       "                {&quot;fill&quot;: true, &quot;radius&quot;: 5}\n",
       "            ).addTo(feature_group_777ba1bcd0eaf69244a16caed444f326);\n",
       "        \n",
       "    \n",
       "            var icon_19b7179662d7ccc117e89b2b6e97ea3c = L.AwesomeMarkers.icon(\n",
       "                {&quot;extraClasses&quot;: &quot;fa-rotate-0&quot;, &quot;icon&quot;: &quot;info-sign&quot;, &quot;iconColor&quot;: &quot;white&quot;, &quot;markerColor&quot;: &quot;blue&quot;, &quot;prefix&quot;: &quot;glyphicon&quot;}\n",
       "            );\n",
       "            marker_537d6eb424c77e69554f41ebe7ef0e11.setIcon(icon_19b7179662d7ccc117e89b2b6e97ea3c);\n",
       "        \n",
       "    \n",
       "        var popup_f86f960c5f32db8385cb5dd143f22a77 = L.popup({&quot;maxWidth&quot;: 400});\n",
       "\n",
       "        \n",
       "            \n",
       "                var html_c3fe20c71ed11e24b731c758355db0fc = $(`&lt;div id=&quot;html_c3fe20c71ed11e24b731c758355db0fc&quot; style=&quot;width: 100.0%; height: 100.0%;&quot;&gt;&lt;!DOCTYPE html&gt;     &lt;html&gt;     &lt;strong&gt;Building Name: &lt;/strong&gt;BAYSIDE VILLAGE CONDO&lt;br&gt;     &lt;strong&gt;Sale Price: &lt;/strong&gt;4400000&lt;br&gt;     &lt;strong&gt;Listing Agent: &lt;/strong&gt; Jill Eber,  Judith Zeder&lt;br&gt;     &lt;strong&gt;Buyer&#x27;s Agent: &lt;/strong&gt; Liz Hogan&lt;br&gt;     &lt;strong&gt;Price sq ft: &lt;/strong&gt;$1970.0&lt;br&gt;     &lt;strong&gt;Address: &lt;/strong&gt;2412 Fisher Island Dr #5102&lt;br&gt;     &lt;/html&gt;     &lt;/div&gt;`)[0];\n",
       "                popup_f86f960c5f32db8385cb5dd143f22a77.setContent(html_c3fe20c71ed11e24b731c758355db0fc);\n",
       "            \n",
       "        \n",
       "\n",
       "        marker_537d6eb424c77e69554f41ebe7ef0e11.bindPopup(popup_f86f960c5f32db8385cb5dd143f22a77)\n",
       "        ;\n",
       "\n",
       "        \n",
       "    \n",
       "    \n",
       "            var marker_d4c24e3fc038400dd183b50537c893fd = L.marker(\n",
       "                [25.8926977, -80.1228812],\n",
       "                {&quot;fill&quot;: true, &quot;radius&quot;: 5}\n",
       "            ).addTo(feature_group_777ba1bcd0eaf69244a16caed444f326);\n",
       "        \n",
       "    \n",
       "            var icon_7445cb82b6e54697dc79a6a855549c05 = L.AwesomeMarkers.icon(\n",
       "                {&quot;extraClasses&quot;: &quot;fa-rotate-0&quot;, &quot;icon&quot;: &quot;info-sign&quot;, &quot;iconColor&quot;: &quot;white&quot;, &quot;markerColor&quot;: &quot;blue&quot;, &quot;prefix&quot;: &quot;glyphicon&quot;}\n",
       "            );\n",
       "            marker_d4c24e3fc038400dd183b50537c893fd.setIcon(icon_7445cb82b6e54697dc79a6a855549c05);\n",
       "        \n",
       "    \n",
       "        var popup_bf198fceabb4520110dc5edcc20c1f41 = L.popup({&quot;maxWidth&quot;: 400});\n",
       "\n",
       "        \n",
       "            \n",
       "                var html_d54db3cf0a0e9d7287995c30a7833077 = $(`&lt;div id=&quot;html_d54db3cf0a0e9d7287995c30a7833077&quot; style=&quot;width: 100.0%; height: 100.0%;&quot;&gt;&lt;!DOCTYPE html&gt;     &lt;html&gt;     &lt;strong&gt;Building Name: &lt;/strong&gt;THE PALACE AT BAL HARBOUR&lt;br&gt;     &lt;strong&gt;Sale Price: &lt;/strong&gt;3900000&lt;br&gt;     &lt;strong&gt;Listing Agent: &lt;/strong&gt; Nicole Bouhadana,  Eva Bouhadana&lt;br&gt;     &lt;strong&gt;Buyer&#x27;s Agent: &lt;/strong&gt; Nacim Montanez&lt;br&gt;     &lt;strong&gt;Price sq ft: &lt;/strong&gt;$1254.0&lt;br&gt;     &lt;strong&gt;Address: &lt;/strong&gt;10101 Collins Ave Unit 7A&lt;br&gt;     &lt;/html&gt;     &lt;/div&gt;`)[0];\n",
       "                popup_bf198fceabb4520110dc5edcc20c1f41.setContent(html_d54db3cf0a0e9d7287995c30a7833077);\n",
       "            \n",
       "        \n",
       "\n",
       "        marker_d4c24e3fc038400dd183b50537c893fd.bindPopup(popup_bf198fceabb4520110dc5edcc20c1f41)\n",
       "        ;\n",
       "\n",
       "        \n",
       "    \n",
       "    \n",
       "            var marker_e31246751eadbe9fe7594de74d8a2e48 = L.marker(\n",
       "                [25.8720993, -80.1218779],\n",
       "                {&quot;fill&quot;: true, &quot;radius&quot;: 5}\n",
       "            ).addTo(feature_group_777ba1bcd0eaf69244a16caed444f326);\n",
       "        \n",
       "    \n",
       "            var icon_f21d8b811426929f4c0c92eda0d9f6e9 = L.AwesomeMarkers.icon(\n",
       "                {&quot;extraClasses&quot;: &quot;fa-rotate-0&quot;, &quot;icon&quot;: &quot;info-sign&quot;, &quot;iconColor&quot;: &quot;white&quot;, &quot;markerColor&quot;: &quot;blue&quot;, &quot;prefix&quot;: &quot;glyphicon&quot;}\n",
       "            );\n",
       "            marker_e31246751eadbe9fe7594de74d8a2e48.setIcon(icon_f21d8b811426929f4c0c92eda0d9f6e9);\n",
       "        \n",
       "    \n",
       "        var popup_9f0334fdac3b1235518e4254fbf93595 = L.popup({&quot;maxWidth&quot;: 400});\n",
       "\n",
       "        \n",
       "            \n",
       "                var html_c15896f42ee8e0c1e182c5340adbfeec = $(`&lt;div id=&quot;html_c15896f42ee8e0c1e182c5340adbfeec&quot; style=&quot;width: 100.0%; height: 100.0%;&quot;&gt;&lt;!DOCTYPE html&gt;     &lt;html&gt;     &lt;strong&gt;Building Name: &lt;/strong&gt;8701 COLLINS AVE CONDO&lt;br&gt;     &lt;strong&gt;Sale Price: &lt;/strong&gt;3500000&lt;br&gt;     &lt;strong&gt;Listing Agent: &lt;/strong&gt; Liz Hogan,  Karen Krotov&lt;br&gt;     &lt;strong&gt;Buyer&#x27;s Agent: &lt;/strong&gt; Carolina Arenas&lt;br&gt;     &lt;strong&gt;Price sq ft: &lt;/strong&gt;$2300.0&lt;br&gt;     &lt;strong&gt;Address: &lt;/strong&gt;8701 Collins Ave #905&lt;br&gt;     &lt;/html&gt;     &lt;/div&gt;`)[0];\n",
       "                popup_9f0334fdac3b1235518e4254fbf93595.setContent(html_c15896f42ee8e0c1e182c5340adbfeec);\n",
       "            \n",
       "        \n",
       "\n",
       "        marker_e31246751eadbe9fe7594de74d8a2e48.bindPopup(popup_9f0334fdac3b1235518e4254fbf93595)\n",
       "        ;\n",
       "\n",
       "        \n",
       "    \n",
       "    \n",
       "            var marker_8c9cd836abd609e6665060e68593c49b = L.marker(\n",
       "                [25.75892, -80.143128],\n",
       "                {&quot;fill&quot;: true, &quot;radius&quot;: 5}\n",
       "            ).addTo(feature_group_777ba1bcd0eaf69244a16caed444f326);\n",
       "        \n",
       "    \n",
       "            var icon_68aefbed4792c47b0fd3125da123840b = L.AwesomeMarkers.icon(\n",
       "                {&quot;extraClasses&quot;: &quot;fa-rotate-0&quot;, &quot;icon&quot;: &quot;info-sign&quot;, &quot;iconColor&quot;: &quot;white&quot;, &quot;markerColor&quot;: &quot;blue&quot;, &quot;prefix&quot;: &quot;glyphicon&quot;}\n",
       "            );\n",
       "            marker_8c9cd836abd609e6665060e68593c49b.setIcon(icon_68aefbed4792c47b0fd3125da123840b);\n",
       "        \n",
       "    \n",
       "        var popup_88cb06cc27d5bb69e6f9ec1f77204197 = L.popup({&quot;maxWidth&quot;: 400});\n",
       "\n",
       "        \n",
       "            \n",
       "                var html_c9454a9a003adf29f836ed01309581a8 = $(`&lt;div id=&quot;html_c9454a9a003adf29f836ed01309581a8&quot; style=&quot;width: 100.0%; height: 100.0%;&quot;&gt;&lt;!DOCTYPE html&gt;     &lt;html&gt;     &lt;strong&gt;Building Name: &lt;/strong&gt;BAYSIDE VILLAGE CONDO&lt;br&gt;     &lt;strong&gt;Sale Price: &lt;/strong&gt;3500000&lt;br&gt;     &lt;strong&gt;Listing Agent: &lt;/strong&gt; Karla Abaunza&lt;br&gt;     &lt;strong&gt;Buyer&#x27;s Agent: &lt;/strong&gt; Darin Feldman&lt;br&gt;     &lt;strong&gt;Price sq ft: &lt;/strong&gt;$1276.0&lt;br&gt;     &lt;strong&gt;Address: &lt;/strong&gt;2534 Fisher Island Dr #6304&lt;br&gt;     &lt;/html&gt;     &lt;/div&gt;`)[0];\n",
       "                popup_88cb06cc27d5bb69e6f9ec1f77204197.setContent(html_c9454a9a003adf29f836ed01309581a8);\n",
       "            \n",
       "        \n",
       "\n",
       "        marker_8c9cd836abd609e6665060e68593c49b.bindPopup(popup_88cb06cc27d5bb69e6f9ec1f77204197)\n",
       "        ;\n",
       "\n",
       "        \n",
       "    \n",
       "    \n",
       "            var marker_616d35a47c4c1d982ef41201fef2cdb2 = L.marker(\n",
       "                [25.8392568, -80.1203947],\n",
       "                {&quot;fill&quot;: true, &quot;radius&quot;: 5}\n",
       "            ).addTo(feature_group_777ba1bcd0eaf69244a16caed444f326);\n",
       "        \n",
       "    \n",
       "            var icon_ad87d21be38311df18b452c41da2c48b = L.AwesomeMarkers.icon(\n",
       "                {&quot;extraClasses&quot;: &quot;fa-rotate-0&quot;, &quot;icon&quot;: &quot;info-sign&quot;, &quot;iconColor&quot;: &quot;white&quot;, &quot;markerColor&quot;: &quot;blue&quot;, &quot;prefix&quot;: &quot;glyphicon&quot;}\n",
       "            );\n",
       "            marker_616d35a47c4c1d982ef41201fef2cdb2.setIcon(icon_ad87d21be38311df18b452c41da2c48b);\n",
       "        \n",
       "    \n",
       "        var popup_9e0b933bc3f49b07e45a308d872d723c = L.popup({&quot;maxWidth&quot;: 400});\n",
       "\n",
       "        \n",
       "            \n",
       "                var html_128797d41fe1c4195cc5433c09d2f14b = $(`&lt;div id=&quot;html_128797d41fe1c4195cc5433c09d2f14b&quot; style=&quot;width: 100.0%; height: 100.0%;&quot;&gt;&lt;!DOCTYPE html&gt;     &lt;html&gt;     &lt;strong&gt;Building Name: &lt;/strong&gt;57 Ocean&lt;br&gt;     &lt;strong&gt;Sale Price: &lt;/strong&gt;2250000&lt;br&gt;     &lt;strong&gt;Listing Agent: &lt;/strong&gt; Mayan Van Der Miller&lt;br&gt;     &lt;strong&gt;Buyer&#x27;s Agent: &lt;/strong&gt; Stephanie Dubugras,  Rejane Gomes de Paula&lt;br&gt;     &lt;strong&gt;Price sq ft: &lt;/strong&gt;$1783.0&lt;br&gt;     &lt;strong&gt;Address: &lt;/strong&gt;5775 Collins Ave #504&lt;br&gt;     &lt;/html&gt;     &lt;/div&gt;`)[0];\n",
       "                popup_9e0b933bc3f49b07e45a308d872d723c.setContent(html_128797d41fe1c4195cc5433c09d2f14b);\n",
       "            \n",
       "        \n",
       "\n",
       "        marker_616d35a47c4c1d982ef41201fef2cdb2.bindPopup(popup_9e0b933bc3f49b07e45a308d872d723c)\n",
       "        ;\n",
       "\n",
       "        \n",
       "    \n",
       "    \n",
       "            var marker_5dcf6ade1b1f8d2795eff072725efb6a = L.marker(\n",
       "                [25.8811835, -80.1300762],\n",
       "                {&quot;fill&quot;: true, &quot;radius&quot;: 5}\n",
       "            ).addTo(feature_group_777ba1bcd0eaf69244a16caed444f326);\n",
       "        \n",
       "    \n",
       "            var icon_a7fa90d0bf22de83f1a342e55ef9c0fa = L.AwesomeMarkers.icon(\n",
       "                {&quot;extraClasses&quot;: &quot;fa-rotate-0&quot;, &quot;icon&quot;: &quot;info-sign&quot;, &quot;iconColor&quot;: &quot;white&quot;, &quot;markerColor&quot;: &quot;blue&quot;, &quot;prefix&quot;: &quot;glyphicon&quot;}\n",
       "            );\n",
       "            marker_5dcf6ade1b1f8d2795eff072725efb6a.setIcon(icon_a7fa90d0bf22de83f1a342e55ef9c0fa);\n",
       "        \n",
       "    \n",
       "        var popup_9a15cad4777ffbfa48b79a2ade8092b4 = L.popup({&quot;maxWidth&quot;: 400});\n",
       "\n",
       "        \n",
       "            \n",
       "                var html_eb770c6338e9321516a93266cb2b76e9 = $(`&lt;div id=&quot;html_eb770c6338e9321516a93266cb2b76e9&quot; style=&quot;width: 100.0%; height: 100.0%;&quot;&gt;&lt;!DOCTYPE html&gt;     &lt;html&gt;     &lt;strong&gt;Building Name: &lt;/strong&gt;BLAIR HOUSE CONDO - WEST&lt;br&gt;     &lt;strong&gt;Sale Price: &lt;/strong&gt;1900000&lt;br&gt;     &lt;strong&gt;Listing Agent: &lt;/strong&gt; Cory Waldman&lt;br&gt;     &lt;strong&gt;Buyer&#x27;s Agent: &lt;/strong&gt; Cory Waldman&lt;br&gt;     &lt;strong&gt;Price sq ft: &lt;/strong&gt;$640.0&lt;br&gt;     &lt;strong&gt;Address: &lt;/strong&gt;9100 W Bay Harbor Dr Unit 10D&lt;br&gt;     &lt;/html&gt;     &lt;/div&gt;`)[0];\n",
       "                popup_9a15cad4777ffbfa48b79a2ade8092b4.setContent(html_eb770c6338e9321516a93266cb2b76e9);\n",
       "            \n",
       "        \n",
       "\n",
       "        marker_5dcf6ade1b1f8d2795eff072725efb6a.bindPopup(popup_9a15cad4777ffbfa48b79a2ade8092b4)\n",
       "        ;\n",
       "\n",
       "        \n",
       "    \n",
       "    \n",
       "            var marker_ccdcf28ece016fc645486f556d7c1c24 = L.marker(\n",
       "                [25.9411398, -80.1359672],\n",
       "                {&quot;fill&quot;: true, &quot;radius&quot;: 5}\n",
       "            ).addTo(feature_group_777ba1bcd0eaf69244a16caed444f326);\n",
       "        \n",
       "    \n",
       "            var icon_49fbbb1478476463f6222191146b58d6 = L.AwesomeMarkers.icon(\n",
       "                {&quot;extraClasses&quot;: &quot;fa-rotate-0&quot;, &quot;icon&quot;: &quot;info-sign&quot;, &quot;iconColor&quot;: &quot;white&quot;, &quot;markerColor&quot;: &quot;blue&quot;, &quot;prefix&quot;: &quot;glyphicon&quot;}\n",
       "            );\n",
       "            marker_ccdcf28ece016fc645486f556d7c1c24.setIcon(icon_49fbbb1478476463f6222191146b58d6);\n",
       "        \n",
       "    \n",
       "        var popup_927cb83fc2e385edff146dbda70e8c19 = L.popup({&quot;maxWidth&quot;: 400});\n",
       "\n",
       "        \n",
       "            \n",
       "                var html_7598b550536ea5eb13084c68bda2dce5 = $(`&lt;div id=&quot;html_7598b550536ea5eb13084c68bda2dce5&quot; style=&quot;width: 100.0%; height: 100.0%;&quot;&gt;&lt;!DOCTYPE html&gt;     &lt;html&gt;     &lt;strong&gt;Building Name: &lt;/strong&gt;BELLINI AT WILLIAMS ISLAN&lt;br&gt;     &lt;strong&gt;Sale Price: &lt;/strong&gt;1900000&lt;br&gt;     &lt;strong&gt;Listing Agent: &lt;/strong&gt; Paulo Bomfim&lt;br&gt;     &lt;strong&gt;Buyer&#x27;s Agent: &lt;/strong&gt; Natalie Sofi&lt;br&gt;     &lt;strong&gt;Price sq ft: &lt;/strong&gt;$729.0&lt;br&gt;     &lt;strong&gt;Address: &lt;/strong&gt;4100 Island Blvd #1604&lt;br&gt;     &lt;/html&gt;     &lt;/div&gt;`)[0];\n",
       "                popup_927cb83fc2e385edff146dbda70e8c19.setContent(html_7598b550536ea5eb13084c68bda2dce5);\n",
       "            \n",
       "        \n",
       "\n",
       "        marker_ccdcf28ece016fc645486f556d7c1c24.bindPopup(popup_927cb83fc2e385edff146dbda70e8c19)\n",
       "        ;\n",
       "\n",
       "        \n",
       "    \n",
       "    \n",
       "            var tile_layer_184811a7858ff3935f01ce487d0ec242 = L.tileLayer(\n",
       "                &quot;https://{s}.tile.openstreetmap.org/{z}/{x}/{y}.png&quot;,\n",
       "                {&quot;attribution&quot;: &quot;Data by \\u0026copy; \\u003ca href=\\&quot;http://openstreetmap.org\\&quot;\\u003eOpenStreetMap\\u003c/a\\u003e, under \\u003ca href=\\&quot;http://www.openstreetmap.org/copyright\\&quot;\\u003eODbL\\u003c/a\\u003e.&quot;, &quot;detectRetina&quot;: false, &quot;maxNativeZoom&quot;: 18, &quot;maxZoom&quot;: 18, &quot;minZoom&quot;: 0, &quot;noWrap&quot;: false, &quot;opacity&quot;: 1, &quot;subdomains&quot;: &quot;abc&quot;, &quot;tms&quot;: false}\n",
       "            ).addTo(map_5f7e772a2ae19ac9180062bd080e0b0b);\n",
       "        \n",
       "    \n",
       "            var layer_control_1e7b2f1ccfc7b8ae5d4d354ec737b948 = {\n",
       "                base_layers : {\n",
       "                },\n",
       "                overlays :  {\n",
       "                    &quot;Top Sale&quot; : feature_group_3a7e9490199d8e7236623fb96b21bdc7,\n",
       "                    &quot;All other sales&quot; : feature_group_777ba1bcd0eaf69244a16caed444f326,\n",
       "                },\n",
       "            };\n",
       "            L.control.layers(\n",
       "                layer_control_1e7b2f1ccfc7b8ae5d4d354ec737b948.base_layers,\n",
       "                layer_control_1e7b2f1ccfc7b8ae5d4d354ec737b948.overlays,\n",
       "                {&quot;autoZIndex&quot;: true, &quot;collapsed&quot;: false, &quot;position&quot;: &quot;topright&quot;}\n",
       "            ).addTo(map_5f7e772a2ae19ac9180062bd080e0b0b);\n",
       "        \n",
       "&lt;/script&gt;\" style=\"position:absolute;width:100%;height:100%;left:0;top:0;border:none !important;\" allowfullscreen webkitallowfullscreen mozallowfullscreen></iframe></div></div>"
      ],
      "text/plain": [
       "<folium.folium.Map at 0x7febea99d460>"
      ]
     },
     "execution_count": 56,
     "metadata": {},
     "output_type": "execute_result"
    }
   ],
   "source": [
    "import folium\n",
    "from folium.plugins import MarkerCluster\n",
    "\n",
    "m = folium.Map(location=df_final_top_ten[[\"LATITUDE\", \"LONGITUDE\"]].mean().to_list(), zoom_start=10)\n",
    "\n",
    "title_html = '''\n",
    "              <h3 align=\"center\" style=\"font-size:16px\"><b>{}</b></h3>\n",
    "             '''.format(f'Recent Miami-Dade Condo Sales ')\n",
    "\n",
    "caption_html = '''\n",
    "                <p align=\"center\" style=\"vertical-align: bottom; font-size:13px\"><i>{}</i></p>\n",
    "                '''.format('July 30th - August 7th')\n",
    "\n",
    "\n",
    "### Create map container ###\n",
    "m = folium.Map(location=df[[\"LATITUDE\", \"LONGITUDE\"]].mean().to_list(),zoom_start=9.5,tiles=None)\n",
    "\n",
    "# Create two FeatureGroups for different color pins\n",
    "fg_blue = folium.FeatureGroup(name='All other sales')\n",
    "fg_orange = folium.FeatureGroup(name='Top Sale')\n",
    "\n",
    "for index, row in df_final_top_ten.iterrows():\n",
    "    # Add the markers to the appropriate FeatureGroup based on the color\n",
    "    if row['COLOR'] == 'blue':\n",
    "        marker = folium.Marker(\n",
    "            location=[row['LATITUDE'], row['LONGITUDE']],\n",
    "            radius=5,\n",
    "            fill=True,\n",
    "            icon=folium.Icon(color=row['COLOR']),\n",
    "            popup=folium.Popup(popup_html(row), max_width=400))\n",
    "        marker.add_to(fg_blue)\n",
    "    else:\n",
    "        marker = folium.Marker(\n",
    "            location=[row['LATITUDE'], row['LONGITUDE']],\n",
    "            radius=5,\n",
    "            fill=True,\n",
    "            icon=folium.Icon(color=row['COLOR']),\n",
    "            popup=folium.Popup(popup_html(row), max_width=400))\n",
    "        marker.add_to(fg_orange)\n",
    "\n",
    "# Add the FeatureGroups to the map\n",
    "fg_orange.add_to(m)\n",
    "fg_blue.add_to(m)\n",
    "\n",
    "folium.TileLayer('OpenStreetMap',control=False).add_to(m)\n",
    "\n",
    "# Add LayerControl to the map\n",
    "folium.map.LayerControl(collapsed=False).add_to(m)\n",
    "m.get_root().html.add_child(folium.Element(title_html))\n",
    "m.get_root().html.add_child(folium.Element(caption_html))\n",
    "            \n",
    "# Display map\n",
    "m"
   ]
  },
  {
   "cell_type": "code",
   "execution_count": 58,
   "id": "0b06af6a",
   "metadata": {},
   "outputs": [],
   "source": [
    "m.save('index.html')"
   ]
  },
  {
   "cell_type": "markdown",
   "id": "13568fd9",
   "metadata": {},
   "source": [
    "## Data Snagger"
   ]
  },
  {
   "cell_type": "code",
   "execution_count": 59,
   "id": "2a3acbb8",
   "metadata": {},
   "outputs": [],
   "source": [
    "### Set up formatting ###\n",
    "BR = '\\n'\n",
    "\n",
    "ME = '\\033[1m' + 'Most Expensive' + '\\033[0m'\n",
    "LE = '\\033[1m' + 'Least Expensive' + '\\033[0m'\n",
    "\n",
    "MAX_PSF = '\\033[1m' + 'Highest Price Per Square Foot' + '\\033[0m'\n",
    "MIN_PSF = '\\033[1m' + 'Lowest Price Per Square Foot' + '\\033[0m'\n",
    "\n",
    "DAYS_MAX = '\\033[1m' + 'Most Days on Market' + '\\033[0m'\n",
    "DAYS_MIN = '\\033[1m' + 'Fewest Days on Market' + '\\033[0m'"
   ]
  },
  {
   "cell_type": "code",
   "execution_count": 61,
   "id": "e313ad65",
   "metadata": {},
   "outputs": [
    {
     "data": {
      "text/plain": [
       "Index(['SOLD DATE', 'ADDRESS', 'CITY', 'PRICE', 'LOCATION', 'SQUARE FEET',\n",
       "       'DAYS ON MARKET', '$/SQUARE FEET', 'LATITUDE', 'LONGITUDE',\n",
       "       'LIST AGENTS', 'LIST COMPANIES', 'BOUGHT AGENTS', 'BOUGHT COMPANIES',\n",
       "       'RANK', 'COLOR'],\n",
       "      dtype='object')"
      ]
     },
     "execution_count": 61,
     "metadata": {},
     "output_type": "execute_result"
    }
   ],
   "source": [
    "df_final_top_ten.columns"
   ]
  },
  {
   "cell_type": "code",
   "execution_count": 84,
   "id": "2114c326",
   "metadata": {},
   "outputs": [
    {
     "data": {
      "text/plain": [
       "SOLD DATE                   July-31-2023\n",
       "ADDRESS             19575 Collins Ave #6\n",
       "CITY                   Sunny Isles Beach\n",
       "PRICE                            7750000\n",
       "LOCATION                   REGALIA CONDO\n",
       "SQUARE FEET                       4992.0\n",
       "DAYS ON MARKET                       NaN\n",
       "$/SQUARE FEET                     1552.0\n",
       "LATITUDE                       25.956967\n",
       "LONGITUDE                     -80.119435\n",
       "LIST AGENTS                 Chad Carroll\n",
       "LIST COMPANIES      Compass Florida, LLC\n",
       "BOUGHT AGENTS               Chad Carroll\n",
       "BOUGHT COMPANIES    Compass Florida, LLC\n",
       "RANK                                   2\n",
       "COLOR                               blue\n",
       "Name: 1, dtype: object"
      ]
     },
     "execution_count": 84,
     "metadata": {},
     "output_type": "execute_result"
    }
   ],
   "source": [
    "df_final_top_ten.iloc[1]"
   ]
  },
  {
   "cell_type": "code",
   "execution_count": 63,
   "id": "9e24d5ed",
   "metadata": {},
   "outputs": [
    {
     "name": "stdout",
     "output_type": "stream",
     "text": [
      "\u001b[1mMost Expensive\u001b[0m\n",
      "SURF CLUB CONDO, 9001 Collins Ave Unit S-207 | Price $18,500,000 | $4,229 psf | Listing agent:  Ximena Penuela,  Kimberlyn Montilva with Fort Realty, LLC, Fort Realty, LLC | Buyer's agent:  Dustin Nero with  Dustin Nero\n",
      "\u001b[1mLeast Expensive\u001b[0m\n",
      "BLAIR HOUSE CONDO - WEST, 9100 W Bay Harbor Dr Unit 10D | Price $1,900,000 | $640 psf | Listing agent:  Cory Waldman with Coldwell Banker Realty | Buyer's agent:  Cory Waldman with  Cory Waldman\n",
      "\u001b[1mHighest Price Per Square Foot\u001b[0m\n",
      "SURF CLUB CONDO, 9001 Collins Ave Unit S-207 | Price $18,500,000 | $4,229 psf | Listing agent:  Ximena Penuela,  Kimberlyn Montilva with Fort Realty, LLC, Fort Realty, LLC | Buyer's agent:  Dustin Nero with Douglas Elliman\n",
      "\u001b[1mLowest Price Per Square Foot\u001b[0m\n",
      "BLAIR HOUSE CONDO - WEST, 9100 W Bay Harbor Dr Unit 10D | Price $1,900,000 | $640 psf | Listing agent:  Cory Waldman with Coldwell Banker Realty | Buyer's agent:  Cory Waldman with Coldwell Banker Realty\n"
     ]
    }
   ],
   "source": [
    "### Highest and lowest sale price ###\n",
    "print(f\"{ME}{BR}{df_final_top_ten.loc[df_final_top_ten['PRICE'].idxmax()]['LOCATION']}, {df_final_top_ten.loc[df_final_top_ten['PRICE'].idxmax()]['ADDRESS']} | Price ${df_final_top_ten.loc[df_final_top_ten['PRICE'].idxmax()]['PRICE']:,.0f} | ${df_final_top_ten.loc[df_final_top_ten['PRICE'].idxmax()]['$/SQUARE FEET']:,.0f} psf | Listing agent: {df_final_top_ten.loc[df_final_top_ten['PRICE'].idxmax()]['LIST AGENTS']} with {df_final_top_ten.loc[df_final_top_ten['PRICE'].idxmax()]['LIST COMPANIES']} | Buyer's agent: {df_final_top_ten.loc[df_final_top_ten['PRICE'].idxmax()]['BOUGHT AGENTS']} with {df_final_top_ten.loc[df_final_top_ten['PRICE'].idxmax()]['BOUGHT AGENTS']}\")\n",
    "print(f\"{LE}{BR}{df_final_top_ten.loc[df_final_top_ten['PRICE'].idxmin()]['LOCATION']}, {df_final_top_ten.loc[df_final_top_ten['PRICE'].idxmin()]['ADDRESS']} | Price ${df_final_top_ten.loc[df_final_top_ten['PRICE'].idxmin()]['PRICE']:,.0f} | ${df_final_top_ten.loc[df_final_top_ten['PRICE'].idxmin()]['$/SQUARE FEET']:,.0f} psf | Listing agent: {df_final_top_ten.loc[df_final_top_ten['PRICE'].idxmin()]['LIST AGENTS']} with {df_final_top_ten.loc[df_final_top_ten['PRICE'].idxmin()]['LIST COMPANIES']} | Buyer's agent: {df_final_top_ten.loc[df_final_top_ten['PRICE'].idxmin()]['BOUGHT AGENTS']} with {df_final_top_ten.loc[df_final_top_ten['PRICE'].idxmin()]['BOUGHT AGENTS']}\")\n",
    "### Highest and lowest psf ###\n",
    "print(f\"{MAX_PSF}{BR}{df_final_top_ten.loc[df_final_top_ten['PRICE'].idxmax()]['LOCATION']}, {df_final_top_ten.loc[df_final_top_ten['$/SQUARE FEET'].idxmax()]['ADDRESS']} | Price ${df_final_top_ten.loc[df_final_top_ten['$/SQUARE FEET'].idxmax()]['PRICE']:,.0f} | ${df_final_top_ten.loc[df_final_top_ten['$/SQUARE FEET'].idxmax()]['$/SQUARE FEET']:,.0f} psf | Listing agent: {df_final_top_ten.loc[df_final_top_ten['$/SQUARE FEET'].idxmax()]['LIST AGENTS']} with {df_final_top_ten.loc[df_final_top_ten['$/SQUARE FEET'].idxmax()]['LIST COMPANIES']} | Buyer's agent: {df_final_top_ten.loc[df_final_top_ten['$/SQUARE FEET'].idxmax()]['BOUGHT AGENTS']} with {df_final_top_ten.loc[df_final_top_ten['$/SQUARE FEET'].idxmax()]['BOUGHT COMPANIES']}\")\n",
    "print(f\"{MIN_PSF}{BR}{df_final_top_ten.loc[df_final_top_ten['PRICE'].idxmin()]['LOCATION']}, {df_final_top_ten.loc[df_final_top_ten['$/SQUARE FEET'].idxmin()]['ADDRESS']} | Price ${df_final_top_ten.loc[df_final_top_ten['$/SQUARE FEET'].idxmin()]['PRICE']:,.0f} | ${df_final_top_ten.loc[df_final_top_ten['$/SQUARE FEET'].idxmin()]['$/SQUARE FEET']:,.0f} psf | Listing agent: {df_final_top_ten.loc[df_final_top_ten['$/SQUARE FEET'].idxmin()]['LIST AGENTS']} with {df_final_top_ten.loc[df_final_top_ten['$/SQUARE FEET'].idxmin()]['LIST COMPANIES']} | Buyer's agent: {df_final_top_ten.loc[df_final_top_ten['$/SQUARE FEET'].idxmin()]['BOUGHT AGENTS']} with {df_final_top_ten.loc[df_final_top_ten['$/SQUARE FEET'].idxmin()]['BOUGHT COMPANIES']}\")"
   ]
  },
  {
   "cell_type": "markdown",
   "id": "5740252c",
   "metadata": {},
   "source": [
    "## All data summary"
   ]
  },
  {
   "cell_type": "code",
   "execution_count": 71,
   "id": "74993f2b",
   "metadata": {},
   "outputs": [
    {
     "name": "stdout",
     "output_type": "stream",
     "text": [
      "193\n"
     ]
    }
   ],
   "source": [
    "print(len(df))"
   ]
  },
  {
   "cell_type": "code",
   "execution_count": 77,
   "id": "c814ca3a",
   "metadata": {},
   "outputs": [
    {
     "name": "stdout",
     "output_type": "stream",
     "text": [
      "18500000\n"
     ]
    }
   ],
   "source": [
    "print(df['PRICE'].max())"
   ]
  },
  {
   "cell_type": "code",
   "execution_count": 74,
   "id": "7cf8baeb",
   "metadata": {},
   "outputs": [
    {
     "name": "stdout",
     "output_type": "stream",
     "text": [
      "537.4368421052632\n"
     ]
    }
   ],
   "source": [
    "print(df['$/SQUARE FEET'].mean())"
   ]
  },
  {
   "cell_type": "markdown",
   "id": "68eeabdd",
   "metadata": {},
   "source": [
    "## Time on market"
   ]
  },
  {
   "cell_type": "code",
   "execution_count": 85,
   "id": "88973a46",
   "metadata": {},
   "outputs": [
    {
     "name": "stdout",
     "output_type": "stream",
     "text": [
      "202\n"
     ]
    }
   ],
   "source": [
    "from datetime import datetime, timedelta\n",
    "\n",
    "date1 = datetime(2023, 1, 10) ## List (Earlier) date\n",
    "date2 = datetime(2023, 7, 31) ## Close (Later) date\n",
    "\n",
    "delta = date2 - date1\n",
    "num_days = delta.days\n",
    "\n",
    "print(num_days)"
   ]
  },
  {
   "cell_type": "markdown",
   "id": "5fe8e9f6",
   "metadata": {},
   "source": [
    "## Map URL Snagger"
   ]
  },
  {
   "cell_type": "code",
   "execution_count": 2,
   "id": "6124af63",
   "metadata": {},
   "outputs": [],
   "source": [
    "base_name = 'https://trd-digital.github.io/trd-news-interactive-maps/'"
   ]
  },
  {
   "cell_type": "code",
   "execution_count": 3,
   "id": "31905c48",
   "metadata": {},
   "outputs": [
    {
     "name": "stdout",
     "output_type": "stream",
     "text": [
      "https://trd-digital.github.io/trd-news-interactive-maps/MD_weekly_condo_sales_no_tabula\n"
     ]
    }
   ],
   "source": [
    "cwd = os.getcwd()\n",
    "\n",
    "cwd = cwd.split('/')\n",
    "\n",
    "final_name = base_name + cwd[-1]\n",
    "print(final_name)"
   ]
  }
 ],
 "metadata": {
  "kernelspec": {
   "display_name": "Python 3 (ipykernel)",
   "language": "python",
   "name": "python3"
  },
  "language_info": {
   "codemirror_mode": {
    "name": "ipython",
    "version": 3
   },
   "file_extension": ".py",
   "mimetype": "text/x-python",
   "name": "python",
   "nbconvert_exporter": "python",
   "pygments_lexer": "ipython3",
   "version": "3.9.12"
  }
 },
 "nbformat": 4,
 "nbformat_minor": 5
}
