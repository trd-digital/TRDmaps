{
 "cells": [
  {
   "cell_type": "code",
   "execution_count": 1,
   "id": "d5cb0bc1",
   "metadata": {},
   "outputs": [],
   "source": [
    "import pandas as pd\n",
    "import folium\n",
    "import numpy as np\n",
    "import os\n",
    "import googlemaps\n",
    "import requests\n",
    "from textwrap import shorten\n",
    "from bs4 import BeautifulSoup\n",
    "import re"
   ]
  },
  {
   "cell_type": "code",
   "execution_count": 2,
   "id": "e264392d",
   "metadata": {},
   "outputs": [],
   "source": [
    "df = pd.read_csv('NonProfitPropertyAuctionNYC - Bronx.csv')"
   ]
  },
  {
   "cell_type": "markdown",
   "id": "30c8f315",
   "metadata": {},
   "source": [
    "## Data clean"
   ]
  },
  {
   "cell_type": "code",
   "execution_count": 3,
   "id": "abfbafff",
   "metadata": {},
   "outputs": [
    {
     "data": {
      "text/plain": [
       "Index(['Address', 'URL'], dtype='object')"
      ]
     },
     "execution_count": 3,
     "metadata": {},
     "output_type": "execute_result"
    }
   ],
   "source": [
    "df.columns"
   ]
  },
  {
   "cell_type": "markdown",
   "id": "5f34ae49",
   "metadata": {},
   "source": [
    "## Geocode"
   ]
  },
  {
   "cell_type": "code",
   "execution_count": 4,
   "id": "5f05de3b",
   "metadata": {},
   "outputs": [],
   "source": [
    "%store -r google_maps_API_Key\n",
    "gmaps_key = googlemaps.Client(key=google_maps_API_Key)"
   ]
  },
  {
   "cell_type": "code",
   "execution_count": 5,
   "id": "1a694c47",
   "metadata": {},
   "outputs": [],
   "source": [
    "df['Site Address'] = df['Address'] + ' New York, NY'"
   ]
  },
  {
   "cell_type": "code",
   "execution_count": 6,
   "id": "407fc447",
   "metadata": {},
   "outputs": [],
   "source": [
    "# Define the geocode function\n",
    "def geocode(add):\n",
    "    g = gmaps_key.geocode(add)\n",
    "    if g:\n",
    "        lat = g[0][\"geometry\"][\"location\"][\"lat\"]\n",
    "        lng = g[0][\"geometry\"][\"location\"][\"lng\"]\n",
    "        return (lat, lng)\n",
    "    else:\n",
    "        return None\n",
    "\n",
    "# Apply geocoding to the 'geo_address' column and store the results in 'geocoded' column\n",
    "df['geocoded'] = df['Site Address'].apply(geocode)"
   ]
  },
  {
   "cell_type": "code",
   "execution_count": 7,
   "id": "a5f53afa",
   "metadata": {},
   "outputs": [],
   "source": [
    "df['geocoded'] = df['geocoded'].astype(str)\n",
    "df[['lat', 'lon']] = df['geocoded'].apply(lambda x: (None, None) if x == 'None' else x.strip('()').split(', ', 1)).apply(pd.Series)\n",
    "df['lat'] = df['lat'].astype(float)\n",
    "df['lon'] = df['lon'].astype(float)"
   ]
  },
  {
   "cell_type": "markdown",
   "id": "31307db7",
   "metadata": {},
   "source": [
    "## Link Formatter"
   ]
  },
  {
   "cell_type": "code",
   "execution_count": 9,
   "id": "2738c3f6",
   "metadata": {},
   "outputs": [],
   "source": [
    "# df['Story Link'] = 'Click here for story'\n",
    "\n",
    "# df[\"short_description\"] = df[\"Story Link\"].apply(lambda s: shorten(s, width=20, placeholder=\"\"))\n",
    "# df['remaining_desc'] = df.apply(lambda row : row['Story Link'].replace(str(row['short_description']), ''), axis=1)\n",
    "# df['remaining_desc']\n",
    "\n",
    "# df[\"Story Link\"] = '<a href=\"' + df[\"Link\"] + '\" target=\"_blank\" rel=\"noopener noreferrer\">' + df[\"short_description\"] + \"</a>\" + df[\"remaining_desc\"]"
   ]
  },
  {
   "cell_type": "code",
   "execution_count": 8,
   "id": "d1d50b04",
   "metadata": {},
   "outputs": [
    {
     "data": {
      "text/html": [
       "<div style=\"width:100%;\"><div style=\"position:relative;width:100%;height:0;padding-bottom:60%;\"><span style=\"color:#565656\">Make this Notebook Trusted to load map: File -> Trust Notebook</span><iframe srcdoc=\"&lt;!DOCTYPE html&gt;\n",
       "&lt;head&gt;    \n",
       "    &lt;meta http-equiv=&quot;content-type&quot; content=&quot;text/html; charset=UTF-8&quot; /&gt;\n",
       "    \n",
       "        &lt;script&gt;\n",
       "            L_NO_TOUCH = false;\n",
       "            L_DISABLE_3D = false;\n",
       "        &lt;/script&gt;\n",
       "    \n",
       "    &lt;style&gt;html, body {width: 100%;height: 100%;margin: 0;padding: 0;}&lt;/style&gt;\n",
       "    &lt;style&gt;#map {position:absolute;top:0;bottom:0;right:0;left:0;}&lt;/style&gt;\n",
       "    &lt;script src=&quot;https://cdn.jsdelivr.net/npm/leaflet@1.6.0/dist/leaflet.js&quot;&gt;&lt;/script&gt;\n",
       "    &lt;script src=&quot;https://code.jquery.com/jquery-1.12.4.min.js&quot;&gt;&lt;/script&gt;\n",
       "    &lt;script src=&quot;https://maxcdn.bootstrapcdn.com/bootstrap/3.2.0/js/bootstrap.min.js&quot;&gt;&lt;/script&gt;\n",
       "    &lt;script src=&quot;https://cdnjs.cloudflare.com/ajax/libs/Leaflet.awesome-markers/2.0.2/leaflet.awesome-markers.js&quot;&gt;&lt;/script&gt;\n",
       "    &lt;link rel=&quot;stylesheet&quot; href=&quot;https://cdn.jsdelivr.net/npm/leaflet@1.6.0/dist/leaflet.css&quot;/&gt;\n",
       "    &lt;link rel=&quot;stylesheet&quot; href=&quot;https://maxcdn.bootstrapcdn.com/bootstrap/3.2.0/css/bootstrap.min.css&quot;/&gt;\n",
       "    &lt;link rel=&quot;stylesheet&quot; href=&quot;https://maxcdn.bootstrapcdn.com/bootstrap/3.2.0/css/bootstrap-theme.min.css&quot;/&gt;\n",
       "    &lt;link rel=&quot;stylesheet&quot; href=&quot;https://maxcdn.bootstrapcdn.com/font-awesome/4.6.3/css/font-awesome.min.css&quot;/&gt;\n",
       "    &lt;link rel=&quot;stylesheet&quot; href=&quot;https://cdnjs.cloudflare.com/ajax/libs/Leaflet.awesome-markers/2.0.2/leaflet.awesome-markers.css&quot;/&gt;\n",
       "    &lt;link rel=&quot;stylesheet&quot; href=&quot;https://cdn.jsdelivr.net/gh/python-visualization/folium/folium/templates/leaflet.awesome.rotate.min.css&quot;/&gt;\n",
       "    \n",
       "            &lt;meta name=&quot;viewport&quot; content=&quot;width=device-width,\n",
       "                initial-scale=1.0, maximum-scale=1.0, user-scalable=no&quot; /&gt;\n",
       "            &lt;style&gt;\n",
       "                #map_1f8d88e2bb91b15237f332c77fca2ef7 {\n",
       "                    position: relative;\n",
       "                    width: 100.0%;\n",
       "                    height: 100.0%;\n",
       "                    left: 0.0%;\n",
       "                    top: 0.0%;\n",
       "                }\n",
       "            &lt;/style&gt;\n",
       "        \n",
       "&lt;/head&gt;\n",
       "&lt;body&gt;    \n",
       "    \n",
       "              &lt;h3 align=&quot;center&quot; style=&quot;font-size:16px&quot;&gt;&lt;b&gt;Food First Liquidation&lt;/b&gt;&lt;/h3&gt;\n",
       "             \n",
       "    \n",
       "            &lt;div class=&quot;folium-map&quot; id=&quot;map_1f8d88e2bb91b15237f332c77fca2ef7&quot; &gt;&lt;/div&gt;\n",
       "        \n",
       "&lt;/body&gt;\n",
       "&lt;script&gt;    \n",
       "    \n",
       "            var map_1f8d88e2bb91b15237f332c77fca2ef7 = L.map(\n",
       "                &quot;map_1f8d88e2bb91b15237f332c77fca2ef7&quot;,\n",
       "                {\n",
       "                    center: [40.8994794, -73.7971734],\n",
       "                    crs: L.CRS.EPSG3857,\n",
       "                    zoom: 12,\n",
       "                    zoomControl: true,\n",
       "                    preferCanvas: false,\n",
       "                }\n",
       "            );\n",
       "\n",
       "            \n",
       "\n",
       "        \n",
       "    \n",
       "            var tile_layer_0232e5b7b8159f91e1a88423dce6f563 = L.tileLayer(\n",
       "                &quot;https://tile.jawg.io/jawg-streets/{z}/{x}/{y}{r}.png?access-token=Kr5DL29m5aQey4XgiDKLupcLHZyD0EZvbmORtosm3iyO47oCJavHcmt09qPe42hz&quot;,\n",
       "                {&quot;attribution&quot;: &quot;Map data \\u0026copy; \\u003ca href=\\&quot;https://www.jawg.io\\&quot; target=\\&quot;_blank\\&quot;\\u003eJawg Maps\\u003c/a\\u003e&quot;, &quot;detectRetina&quot;: false, &quot;maxNativeZoom&quot;: 18, &quot;maxZoom&quot;: 18, &quot;minZoom&quot;: 0, &quot;noWrap&quot;: false, &quot;opacity&quot;: 1, &quot;subdomains&quot;: &quot;abc&quot;, &quot;tms&quot;: false}\n",
       "            ).addTo(map_1f8d88e2bb91b15237f332c77fca2ef7);\n",
       "        \n",
       "    \n",
       "            var circle_marker_6fd31b7c3f77170b62582a4c0fcecb5c = L.circleMarker(\n",
       "                [40.8994794, -73.7971734],\n",
       "                {&quot;bubblingMouseEvents&quot;: true, &quot;color&quot;: &quot;red&quot;, &quot;dashArray&quot;: null, &quot;dashOffset&quot;: null, &quot;fill&quot;: true, &quot;fillColor&quot;: &quot;red&quot;, &quot;fillOpacity&quot;: 0.2, &quot;fillRule&quot;: &quot;evenodd&quot;, &quot;lineCap&quot;: &quot;round&quot;, &quot;lineJoin&quot;: &quot;round&quot;, &quot;opacity&quot;: 1.0, &quot;radius&quot;: 7, &quot;stroke&quot;: true, &quot;weight&quot;: 3}\n",
       "            ).addTo(map_1f8d88e2bb91b15237f332c77fca2ef7);\n",
       "        \n",
       "    \n",
       "            circle_marker_6fd31b7c3f77170b62582a4c0fcecb5c.bindTooltip(\n",
       "                `&lt;div&gt;\n",
       "                     &lt;div class=&quot;popup-content&quot;&gt;&lt;strong&gt;Site Address:&lt;/strong&gt; 1374 Boston Post Road, Bronx N&lt;br&gt;ew York, NY&lt;br&gt;&lt;/div&gt;\n",
       "                 &lt;/div&gt;`,\n",
       "                {&quot;sticky&quot;: true}\n",
       "            );\n",
       "        \n",
       "&lt;/script&gt;\" style=\"position:absolute;width:100%;height:100%;left:0;top:0;border:none !important;\" allowfullscreen webkitallowfullscreen mozallowfullscreen></iframe></div></div>"
      ],
      "text/plain": [
       "<folium.folium.Map at 0x7f9b50013f40>"
      ]
     },
     "execution_count": 8,
     "metadata": {},
     "output_type": "execute_result"
    }
   ],
   "source": [
    "def tooltip_html(row_index, max_chars=30):\n",
    "    \"\"\"Generate HTML content for the tooltip with line breaks for long text.\"\"\"\n",
    "    tooltip_content = '<div class=\"popup-content\">'\n",
    "\n",
    "    # Dynamically add data for each column\n",
    "    for column in df.columns:\n",
    "        value = df.at[row_index, column]\n",
    "        value_str = str(value).strip()\n",
    "        if pd.notnull(value) and value_str != \"\" and column in ['Developer','Name ','Site Address','Units','Stories','Est. Completion']:\n",
    "\n",
    "            # Check if the string exceeds the maximum character length\n",
    "            if len(value_str) > max_chars and column == \"Site Address\":\n",
    "                # Insert a <br> tag every max_chars characters\n",
    "                value_str = '<br>'.join(value_str[i:i+max_chars] for i in range(0, len(value_str), max_chars))\n",
    "\n",
    "            tooltip_content += f'<strong>{column}:</strong> {value_str}<br>'\n",
    "\n",
    "    tooltip_content += '</div>'\n",
    "    return tooltip_content\n",
    "\n",
    "# Initialize the map\n",
    "m = folium.Map(location=df[[\"lat\", \"lon\"]].mean().to_list(), zoom_start=12,tiles=None)\n",
    "\n",
    "# Define the URL template for Jawg Maps tiles\n",
    "jawg_url = 'https://tile.jawg.io/jawg-streets/{z}/{x}/{y}{r}.png?access-token=Kr5DL29m5aQey4XgiDKLupcLHZyD0EZvbmORtosm3iyO47oCJavHcmt09qPe42hz'\n",
    "\n",
    "# Add the Jawg Maps tile layer to the map\n",
    "folium.TileLayer(\n",
    "    tiles=jawg_url,  # URL template\n",
    "    attr='Map data &copy; <a href=\"https://www.jawg.io\" target=\"_blank\">Jawg Maps</a>',  # Attribution (required by Jawg Maps)\n",
    "    name='Jawg Streets',  # Name of the tile layer, as it will appear in layer controls\n",
    "    overlay=False,  # Whether this layer is an overlay (False means it's a base map layer)\n",
    "    control=True  # Whether to include this layer in LayerControl widgets\n",
    ").add_to(m)\n",
    "\n",
    "### Create title ###\n",
    "title_html = '''\n",
    "              <h3 align=\"center\" style=\"font-size:16px\"><b>{}</b></h3>\n",
    "             '''.format(\"Food First Liquidation\")\n",
    "\n",
    "m.get_root().html.add_child(folium.Element(title_html))\n",
    "\n",
    "# Loop through the DataFrame to create markers\n",
    "for i in range(len(df)):\n",
    "    # Create tooltip HTML content\n",
    "    tooltip_content = tooltip_html(i)\n",
    "    \n",
    "    # Create a custom icon\n",
    "    icon = folium.Icon(color='red')\n",
    "    \n",
    "    # Create a marker with a tooltip\n",
    "    marker = folium.CircleMarker(\n",
    "        location=[df.iloc[i]['lat'], df.iloc[i]['lon']],\n",
    "        tooltip=tooltip_content,\n",
    "        color='red',\n",
    "        fill=True,\n",
    "        radius=7,\n",
    "        icon=folium.CircleMarker(color='red')\n",
    "    ).add_to(m)\n",
    "\n",
    "# Display the map\n",
    "m"
   ]
  },
  {
   "cell_type": "code",
   "execution_count": 9,
   "id": "6f412da2",
   "metadata": {},
   "outputs": [],
   "source": [
    "m.save('index.html')"
   ]
  },
  {
   "cell_type": "code",
   "execution_count": 11,
   "id": "42d603fb",
   "metadata": {},
   "outputs": [
    {
     "name": "stdout",
     "output_type": "stream",
     "text": [
      "https://trd-digital.github.io/trd-news-interactive-maps/NYC_nonprofit_auction_bronx\n"
     ]
    }
   ],
   "source": [
    "base_name = 'https://trd-digital.github.io/trd-news-interactive-maps/'\n",
    "\n",
    "cwd = os.getcwd()\n",
    "\n",
    "cwd = cwd.split('/')\n",
    "\n",
    "final_name = base_name + cwd[-1]\n",
    "print(final_name)"
   ]
  }
 ],
 "metadata": {
  "kernelspec": {
   "display_name": "Python 3 (ipykernel)",
   "language": "python",
   "name": "python3"
  },
  "language_info": {
   "codemirror_mode": {
    "name": "ipython",
    "version": 3
   },
   "file_extension": ".py",
   "mimetype": "text/x-python",
   "name": "python",
   "nbconvert_exporter": "python",
   "pygments_lexer": "ipython3",
   "version": "3.9.12"
  }
 },
 "nbformat": 4,
 "nbformat_minor": 5
}
