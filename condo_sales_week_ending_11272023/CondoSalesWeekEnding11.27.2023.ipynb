{
 "cells": [
  {
   "cell_type": "markdown",
   "metadata": {},
   "source": [
    "## Imports"
   ]
  },
  {
   "cell_type": "code",
   "execution_count": 1,
   "metadata": {},
   "outputs": [],
   "source": [
    "import googlemaps\n",
    "import pandas as pd\n",
    "import numpy as np\n",
    "import re\n",
    "import os\n",
    "import geopandas as gpd\n",
    "import folium\n",
    "import tabula"
   ]
  },
  {
   "cell_type": "markdown",
   "metadata": {},
   "source": [
    "## Read-in"
   ]
  },
  {
   "cell_type": "code",
   "execution_count": 2,
   "metadata": {},
   "outputs": [],
   "source": [
    "# Gotta figure out how to get rid of the java error.\n",
    "# SO: https://stackoverflow.com/questions/54817211/java-command-is-not-found-from-this-python-process-please-ensure-java-is-inst\n",
    "\n",
    "dsf = tabula.read_pdf('condo.pdf', pages='all')"
   ]
  },
  {
   "cell_type": "markdown",
   "metadata": {},
   "source": [
    "## Clean Data"
   ]
  },
  {
   "cell_type": "code",
   "execution_count": 3,
   "metadata": {},
   "outputs": [],
   "source": [
    "df = dsf[0]\n",
    "df.columns = df.iloc[0]\n",
    "df = df[1:]\n",
    "df = df.drop(columns=df.columns[0])\n",
    "df = df.replace(np.nan, 'Not Available', regex=True)\n",
    "df = df.rename(columns={'Building / Address / City': 'building_address_city','Days on\\rMarket':'days_on_market',\\\n",
    "                        'Price /\\rSq. Ft.':'price_per_sqft'})\n",
    "df['building_address_city'] = df['building_address_city'].str.replace('^0', '', regex=True)\n",
    "df['geo_address'] = df['building_address_city']\n",
    "df['geo_address'] = df['geo_address'].map(lambda x: re.sub(r'\\r', ' ', x))\n",
    "df = df.replace('\\n',' ',regex=True)\n",
    "pattern = r'^(?P<building_name>[\\d\\s]*[A-Za-z\\s]+)\\s(?P<address>.+)\\s(?P<city>[A-Za-z\\s]+)$'\n",
    "df2 = df['geo_address']\n",
    "df2 = df2.to_frame()\n",
    "df2[['building_name', 'address', 'city']] = df2['geo_address'].str.extract(pattern, expand=True)"
   ]
  },
  {
   "cell_type": "markdown",
   "metadata": {},
   "source": [
    "Review this later (it's about how to properly merge DFs): https://pandas.pydata.org/pandas-docs/stable/user_guide/merging.html"
   ]
  },
  {
   "cell_type": "markdown",
   "metadata": {},
   "source": [
    "## Geocode"
   ]
  },
  {
   "cell_type": "code",
   "execution_count": 4,
   "metadata": {},
   "outputs": [],
   "source": [
    "result = pd.merge(df,df2,left_index=True, right_index=True)\n",
    "df = result\n",
    "df = df.drop(columns='city')"
   ]
  },
  {
   "cell_type": "code",
   "execution_count": 5,
   "metadata": {},
   "outputs": [],
   "source": [
    "%store -r google_maps_API_Key\n",
    "gmaps_key = googlemaps.Client(key=google_maps_API_Key)"
   ]
  },
  {
   "cell_type": "code",
   "execution_count": 6,
   "metadata": {},
   "outputs": [],
   "source": [
    "def geocode(add):\n",
    "    g = gmaps_key.geocode(add)\n",
    "    lat = g[0][\"geometry\"][\"location\"][\"lat\"]\n",
    "    lng = g[0][\"geometry\"][\"location\"][\"lng\"]\n",
    "    return (lat, lng)\n",
    "\n",
    "df['geocoded'] = df['geo_address_x'].apply(geocode)"
   ]
  },
  {
   "cell_type": "code",
   "execution_count": 7,
   "metadata": {},
   "outputs": [],
   "source": [
    "df['geocoded'] = df['geocoded'].astype(str)\n",
    "df[['lat', 'lon']] = df['geocoded'].str.strip('()').str.split(', ', expand=True)\n",
    "df['lat'] = df['lat'].astype(float)\n",
    "df['lon'] = df['lon'].astype(float)"
   ]
  },
  {
   "cell_type": "markdown",
   "metadata": {},
   "source": [
    "Folium documentation link: https://python-visualization.github.io/folium/index.html\n",
    "\n",
    "Folium is the library that lets us use leaflet with Python, since it's meant to be used with JavaScript.\n",
    "\n",
    "For adding titles: https://stackoverflow.com/questions/61928013/adding-a-title-or-text-to-a-folium-map"
   ]
  },
  {
   "cell_type": "markdown",
   "metadata": {},
   "source": [
    "## Correction section"
   ]
  },
  {
   "cell_type": "code",
   "execution_count": 8,
   "metadata": {},
   "outputs": [],
   "source": [
    "# df.at[index#,'col_name']"
   ]
  },
  {
   "cell_type": "markdown",
   "metadata": {},
   "source": [
    "## Format Data"
   ]
  },
  {
   "cell_type": "code",
   "execution_count": 9,
   "metadata": {},
   "outputs": [],
   "source": [
    "### Insert NaNs if needed ###\n",
    "df = df.replace('N/A', np.nan)"
   ]
  },
  {
   "cell_type": "code",
   "execution_count": 10,
   "metadata": {},
   "outputs": [],
   "source": [
    "df['int_Sale_Price'] = df['Sale Price'].str.replace('$','',regex=False)"
   ]
  },
  {
   "cell_type": "code",
   "execution_count": 11,
   "metadata": {},
   "outputs": [],
   "source": [
    "df['int_Sale_Price'] = df['int_Sale_Price'].str.replace(',','',regex=False)"
   ]
  },
  {
   "cell_type": "code",
   "execution_count": 12,
   "metadata": {},
   "outputs": [],
   "source": [
    "df['int_Sale_Price'] = pd.to_numeric(df['int_Sale_Price'])"
   ]
  },
  {
   "cell_type": "code",
   "execution_count": 13,
   "metadata": {},
   "outputs": [],
   "source": [
    "df['price_per_sqft'] = df['price_per_sqft'].str.replace('$','',regex=False)\n",
    "df['price_per_sqft'] = df['price_per_sqft'].str.replace(',','',regex=False)\n",
    "df['price_per_sqft'] = pd.to_numeric(df['price_per_sqft'])\n",
    "\n",
    "df['days_on_market'] = pd.to_numeric(df['days_on_market'])"
   ]
  },
  {
   "cell_type": "markdown",
   "metadata": {},
   "source": [
    "## Color-code top sale"
   ]
  },
  {
   "cell_type": "code",
   "execution_count": 14,
   "metadata": {},
   "outputs": [],
   "source": [
    "### Insert RANK values ###\n",
    "df['RANK'] = range(1, len(df) + 1)\n",
    "# use numpy to assign values to the 'COLOR' column\n",
    "df['COLOR'] = np.where(df['RANK'] <= 1, 'orange', 'blue')"
   ]
  },
  {
   "cell_type": "markdown",
   "metadata": {},
   "source": [
    "## HTML Popup Formatter"
   ]
  },
  {
   "cell_type": "code",
   "execution_count": 15,
   "metadata": {},
   "outputs": [
    {
     "data": {
      "text/plain": [
       "Index(['building_address_city', 'Close Date', 'days_on_market', 'Sale Price',\n",
       "       'Sq. Ft.', 'price_per_sqft', 'Agent', 'Listing Broker', 'Buyer Agent',\n",
       "       'Buyer Broker', 'geo_address_x', 'geo_address_y', 'building_name',\n",
       "       'address', 'geocoded', 'lat', 'lon', 'int_Sale_Price', 'RANK', 'COLOR'],\n",
       "      dtype='object')"
      ]
     },
     "execution_count": 15,
     "metadata": {},
     "output_type": "execute_result"
    }
   ],
   "source": [
    "df.columns"
   ]
  },
  {
   "cell_type": "code",
   "execution_count": 16,
   "metadata": {},
   "outputs": [],
   "source": [
    "def popup_html(row):\n",
    "    building_name = row['building_name']\n",
    "    price = row['Sale Price']\n",
    "    days_on_market = row['days_on_market']\n",
    "    listing_agent = row['Agent']\n",
    "    buyers_agent = row['Buyer Agent']\n",
    "    psf = row['price_per_sqft']\n",
    "    address = row['address']\n",
    "    \n",
    "    html = '''<!DOCTYPE html>\n",
    "    <html>\n",
    "    <strong>Building Name: </strong>{}'''.format(building_name) + '''<br>\n",
    "    <strong>Sale Price: </strong>{}'''.format(price) + '''<br>\n",
    "    <strong>Days on Market: </strong>{}'''.format(days_on_market) + '''<br>\n",
    "    <strong>Listing Agent: </strong>{}'''.format(listing_agent) + '''<br>\n",
    "    <strong>Buyer's Agent: </strong>{}'''.format(buyers_agent) + '''<br>\n",
    "    <strong>Price sq ft: </strong>${}'''.format(psf) + '''<br>\n",
    "    <strong>Address: </strong>{}'''.format(address) + '''<br>\n",
    "    </html>\n",
    "    '''\n",
    "    return html"
   ]
  },
  {
   "cell_type": "code",
   "execution_count": 17,
   "metadata": {},
   "outputs": [
    {
     "data": {
      "text/html": [
       "<div style=\"width:100%;\"><div style=\"position:relative;width:100%;height:0;padding-bottom:60%;\"><span style=\"color:#565656\">Make this Notebook Trusted to load map: File -> Trust Notebook</span><iframe srcdoc=\"&lt;!DOCTYPE html&gt;\n",
       "&lt;head&gt;    \n",
       "    &lt;meta http-equiv=&quot;content-type&quot; content=&quot;text/html; charset=UTF-8&quot; /&gt;\n",
       "    \n",
       "        &lt;script&gt;\n",
       "            L_NO_TOUCH = false;\n",
       "            L_DISABLE_3D = false;\n",
       "        &lt;/script&gt;\n",
       "    \n",
       "    &lt;style&gt;html, body {width: 100%;height: 100%;margin: 0;padding: 0;}&lt;/style&gt;\n",
       "    &lt;style&gt;#map {position:absolute;top:0;bottom:0;right:0;left:0;}&lt;/style&gt;\n",
       "    &lt;script src=&quot;https://cdn.jsdelivr.net/npm/leaflet@1.6.0/dist/leaflet.js&quot;&gt;&lt;/script&gt;\n",
       "    &lt;script src=&quot;https://code.jquery.com/jquery-1.12.4.min.js&quot;&gt;&lt;/script&gt;\n",
       "    &lt;script src=&quot;https://maxcdn.bootstrapcdn.com/bootstrap/3.2.0/js/bootstrap.min.js&quot;&gt;&lt;/script&gt;\n",
       "    &lt;script src=&quot;https://cdnjs.cloudflare.com/ajax/libs/Leaflet.awesome-markers/2.0.2/leaflet.awesome-markers.js&quot;&gt;&lt;/script&gt;\n",
       "    &lt;link rel=&quot;stylesheet&quot; href=&quot;https://cdn.jsdelivr.net/npm/leaflet@1.6.0/dist/leaflet.css&quot;/&gt;\n",
       "    &lt;link rel=&quot;stylesheet&quot; href=&quot;https://maxcdn.bootstrapcdn.com/bootstrap/3.2.0/css/bootstrap.min.css&quot;/&gt;\n",
       "    &lt;link rel=&quot;stylesheet&quot; href=&quot;https://maxcdn.bootstrapcdn.com/bootstrap/3.2.0/css/bootstrap-theme.min.css&quot;/&gt;\n",
       "    &lt;link rel=&quot;stylesheet&quot; href=&quot;https://maxcdn.bootstrapcdn.com/font-awesome/4.6.3/css/font-awesome.min.css&quot;/&gt;\n",
       "    &lt;link rel=&quot;stylesheet&quot; href=&quot;https://cdnjs.cloudflare.com/ajax/libs/Leaflet.awesome-markers/2.0.2/leaflet.awesome-markers.css&quot;/&gt;\n",
       "    &lt;link rel=&quot;stylesheet&quot; href=&quot;https://cdn.jsdelivr.net/gh/python-visualization/folium/folium/templates/leaflet.awesome.rotate.min.css&quot;/&gt;\n",
       "    \n",
       "            &lt;meta name=&quot;viewport&quot; content=&quot;width=device-width,\n",
       "                initial-scale=1.0, maximum-scale=1.0, user-scalable=no&quot; /&gt;\n",
       "            &lt;style&gt;\n",
       "                #map_3a231cd5bf8f8a3a4b1b096898ea37dd {\n",
       "                    position: relative;\n",
       "                    width: 100.0%;\n",
       "                    height: 100.0%;\n",
       "                    left: 0.0%;\n",
       "                    top: 0.0%;\n",
       "                }\n",
       "            &lt;/style&gt;\n",
       "        \n",
       "&lt;/head&gt;\n",
       "&lt;body&gt;    \n",
       "    \n",
       "              &lt;h3 align=&quot;center&quot; style=&quot;font-size:16px&quot;&gt;&lt;b&gt;Recent Miami-Dade Condo Sales &lt;/b&gt;&lt;/h3&gt;\n",
       "             \n",
       "    \n",
       "                &lt;p align=&quot;center&quot; style=&quot;vertical-align: bottom; font-size:13px&quot;&gt;&lt;i&gt;October 29th - November 4th&lt;/i&gt;&lt;/p&gt;\n",
       "                \n",
       "    \n",
       "            &lt;div class=&quot;folium-map&quot; id=&quot;map_3a231cd5bf8f8a3a4b1b096898ea37dd&quot; &gt;&lt;/div&gt;\n",
       "        \n",
       "&lt;/body&gt;\n",
       "&lt;script&gt;    \n",
       "    \n",
       "            var map_3a231cd5bf8f8a3a4b1b096898ea37dd = L.map(\n",
       "                &quot;map_3a231cd5bf8f8a3a4b1b096898ea37dd&quot;,\n",
       "                {\n",
       "                    center: [25.83114587, -80.15508445000002],\n",
       "                    crs: L.CRS.EPSG3857,\n",
       "                    zoom: 9.5,\n",
       "                    zoomControl: true,\n",
       "                    preferCanvas: false,\n",
       "                }\n",
       "            );\n",
       "\n",
       "            \n",
       "\n",
       "        \n",
       "    \n",
       "            var feature_group_9e067bde6b18ad2a7183fe3671987613 = L.featureGroup(\n",
       "                {}\n",
       "            ).addTo(map_3a231cd5bf8f8a3a4b1b096898ea37dd);\n",
       "        \n",
       "    \n",
       "            var marker_63a26294ff051cc85168437e1138d53a = L.marker(\n",
       "                [25.7284731, -80.2381924],\n",
       "                {&quot;fill&quot;: true, &quot;radius&quot;: 5}\n",
       "            ).addTo(feature_group_9e067bde6b18ad2a7183fe3671987613);\n",
       "        \n",
       "    \n",
       "            var icon_ae9f9e3f37878e55d5e9142d7c98d4e3 = L.AwesomeMarkers.icon(\n",
       "                {&quot;extraClasses&quot;: &quot;fa-rotate-0&quot;, &quot;icon&quot;: &quot;info-sign&quot;, &quot;iconColor&quot;: &quot;white&quot;, &quot;markerColor&quot;: &quot;orange&quot;, &quot;prefix&quot;: &quot;glyphicon&quot;}\n",
       "            );\n",
       "            marker_63a26294ff051cc85168437e1138d53a.setIcon(icon_ae9f9e3f37878e55d5e9142d7c98d4e3);\n",
       "        \n",
       "    \n",
       "        var popup_a597d6e6fee866579bf42ebe045f1e40 = L.popup({&quot;maxWidth&quot;: 400});\n",
       "\n",
       "        \n",
       "            \n",
       "                var html_ad6790e7cb6d09e50f0f57a0d1ec96ea = $(`&lt;div id=&quot;html_ad6790e7cb6d09e50f0f57a0d1ec96ea&quot; style=&quot;width: 100.0%; height: 100.0%;&quot;&gt;&lt;!DOCTYPE html&gt;     &lt;html&gt;     &lt;strong&gt;Building Name: &lt;/strong&gt;One Park Grove&lt;br&gt;     &lt;strong&gt;Sale Price: &lt;/strong&gt;$6,200,000.00&lt;br&gt;     &lt;strong&gt;Days on Market: &lt;/strong&gt;325&lt;br&gt;     &lt;strong&gt;Listing Agent: &lt;/strong&gt;Raul Santidrian PA&lt;br&gt;     &lt;strong&gt;Buyer&#x27;s Agent: &lt;/strong&gt;Judith Hansen&lt;br&gt;     &lt;strong&gt;Price sq ft: &lt;/strong&gt;$2125.47&lt;br&gt;     &lt;strong&gt;Address: &lt;/strong&gt;2811 S Bayshore Dr 8D Coconut&lt;br&gt;     &lt;/html&gt;     &lt;/div&gt;`)[0];\n",
       "                popup_a597d6e6fee866579bf42ebe045f1e40.setContent(html_ad6790e7cb6d09e50f0f57a0d1ec96ea);\n",
       "            \n",
       "        \n",
       "\n",
       "        marker_63a26294ff051cc85168437e1138d53a.bindPopup(popup_a597d6e6fee866579bf42ebe045f1e40)\n",
       "        ;\n",
       "\n",
       "        \n",
       "    \n",
       "    \n",
       "            var feature_group_9e1a8f9d5be3a199ec2b1f5dd809fb89 = L.featureGroup(\n",
       "                {}\n",
       "            ).addTo(map_3a231cd5bf8f8a3a4b1b096898ea37dd);\n",
       "        \n",
       "    \n",
       "            var marker_d2496ed86249dac5d1b1caf5274ec493 = L.marker(\n",
       "                [25.8892229, -80.1228812],\n",
       "                {&quot;fill&quot;: true, &quot;radius&quot;: 5}\n",
       "            ).addTo(feature_group_9e1a8f9d5be3a199ec2b1f5dd809fb89);\n",
       "        \n",
       "    \n",
       "            var icon_896c93ce9ca120c1e9a87dcc0ef2fa4a = L.AwesomeMarkers.icon(\n",
       "                {&quot;extraClasses&quot;: &quot;fa-rotate-0&quot;, &quot;icon&quot;: &quot;info-sign&quot;, &quot;iconColor&quot;: &quot;white&quot;, &quot;markerColor&quot;: &quot;blue&quot;, &quot;prefix&quot;: &quot;glyphicon&quot;}\n",
       "            );\n",
       "            marker_d2496ed86249dac5d1b1caf5274ec493.setIcon(icon_896c93ce9ca120c1e9a87dcc0ef2fa4a);\n",
       "        \n",
       "    \n",
       "        var popup_0dfc61d4ab1e7bf4a4a311fbcb00376d = L.popup({&quot;maxWidth&quot;: 400});\n",
       "\n",
       "        \n",
       "            \n",
       "                var html_a6322c7bec2765374752501761ed7531 = $(`&lt;div id=&quot;html_a6322c7bec2765374752501761ed7531&quot; style=&quot;width: 100.0%; height: 100.0%;&quot;&gt;&lt;!DOCTYPE html&gt;     &lt;html&gt;     &lt;strong&gt;Building Name: &lt;/strong&gt;Bal Harbour North&lt;br&gt;     &lt;strong&gt;Sale Price: &lt;/strong&gt;$4,300,000.00&lt;br&gt;     &lt;strong&gt;Days on Market: &lt;/strong&gt;140&lt;br&gt;     &lt;strong&gt;Listing Agent: &lt;/strong&gt;Juan Carlos De Campos&lt;br&gt;     &lt;strong&gt;Buyer&#x27;s Agent: &lt;/strong&gt;Marine Rollins&lt;br&gt;     &lt;strong&gt;Price sq ft: &lt;/strong&gt;$2551.93&lt;br&gt;     &lt;strong&gt;Address: &lt;/strong&gt;9705 Collins Ave 1904N Bal&lt;br&gt;     &lt;/html&gt;     &lt;/div&gt;`)[0];\n",
       "                popup_0dfc61d4ab1e7bf4a4a311fbcb00376d.setContent(html_a6322c7bec2765374752501761ed7531);\n",
       "            \n",
       "        \n",
       "\n",
       "        marker_d2496ed86249dac5d1b1caf5274ec493.bindPopup(popup_0dfc61d4ab1e7bf4a4a311fbcb00376d)\n",
       "        ;\n",
       "\n",
       "        \n",
       "    \n",
       "    \n",
       "            var marker_5ad1f8b3c082d7b4081dde2bb70bd5dd = L.marker(\n",
       "                [25.8230958, -80.1312295],\n",
       "                {&quot;fill&quot;: true, &quot;radius&quot;: 5}\n",
       "            ).addTo(feature_group_9e1a8f9d5be3a199ec2b1f5dd809fb89);\n",
       "        \n",
       "    \n",
       "            var icon_dd686bcad1adcf123ea829b2c741f3e0 = L.AwesomeMarkers.icon(\n",
       "                {&quot;extraClasses&quot;: &quot;fa-rotate-0&quot;, &quot;icon&quot;: &quot;info-sign&quot;, &quot;iconColor&quot;: &quot;white&quot;, &quot;markerColor&quot;: &quot;blue&quot;, &quot;prefix&quot;: &quot;glyphicon&quot;}\n",
       "            );\n",
       "            marker_5ad1f8b3c082d7b4081dde2bb70bd5dd.setIcon(icon_dd686bcad1adcf123ea829b2c741f3e0);\n",
       "        \n",
       "    \n",
       "        var popup_e5eb13251b9a533a7038c8812e85e9c2 = L.popup({&quot;maxWidth&quot;: 400});\n",
       "\n",
       "        \n",
       "            \n",
       "                var html_d21f241ec94eccb1c5ffba3f6fb53858 = $(`&lt;div id=&quot;html_d21f241ec94eccb1c5ffba3f6fb53858&quot; style=&quot;width: 100.0%; height: 100.0%;&quot;&gt;&lt;!DOCTYPE html&gt;     &lt;html&gt;     &lt;strong&gt;Building Name: &lt;/strong&gt;nan&lt;br&gt;     &lt;strong&gt;Sale Price: &lt;/strong&gt;$3,725,000.00&lt;br&gt;     &lt;strong&gt;Days on Market: &lt;/strong&gt;24&lt;br&gt;     &lt;strong&gt;Listing Agent: &lt;/strong&gt;Dora Puig&lt;br&gt;     &lt;strong&gt;Buyer&#x27;s Agent: &lt;/strong&gt;Darin Tansey&lt;br&gt;     &lt;strong&gt;Price sq ft: &lt;/strong&gt;$1478.17&lt;br&gt;     &lt;strong&gt;Address: &lt;/strong&gt;nan&lt;br&gt;     &lt;/html&gt;     &lt;/div&gt;`)[0];\n",
       "                popup_e5eb13251b9a533a7038c8812e85e9c2.setContent(html_d21f241ec94eccb1c5ffba3f6fb53858);\n",
       "            \n",
       "        \n",
       "\n",
       "        marker_5ad1f8b3c082d7b4081dde2bb70bd5dd.bindPopup(popup_e5eb13251b9a533a7038c8812e85e9c2)\n",
       "        ;\n",
       "\n",
       "        \n",
       "    \n",
       "    \n",
       "            var marker_f6561c9c44dcd8303abbe40ed0b413d0 = L.marker(\n",
       "                [25.7685303, -80.13632729999999],\n",
       "                {&quot;fill&quot;: true, &quot;radius&quot;: 5}\n",
       "            ).addTo(feature_group_9e1a8f9d5be3a199ec2b1f5dd809fb89);\n",
       "        \n",
       "    \n",
       "            var icon_f55dd96a63eadf1d9f902d2461fa0e2d = L.AwesomeMarkers.icon(\n",
       "                {&quot;extraClasses&quot;: &quot;fa-rotate-0&quot;, &quot;icon&quot;: &quot;info-sign&quot;, &quot;iconColor&quot;: &quot;white&quot;, &quot;markerColor&quot;: &quot;blue&quot;, &quot;prefix&quot;: &quot;glyphicon&quot;}\n",
       "            );\n",
       "            marker_f6561c9c44dcd8303abbe40ed0b413d0.setIcon(icon_f55dd96a63eadf1d9f902d2461fa0e2d);\n",
       "        \n",
       "    \n",
       "        var popup_d9dacbabd99e1fef0f18d9665492ffff = L.popup({&quot;maxWidth&quot;: 400});\n",
       "\n",
       "        \n",
       "            \n",
       "                var html_068677f43d8a6d04fc37f4cfdeae9681 = $(`&lt;div id=&quot;html_068677f43d8a6d04fc37f4cfdeae9681&quot; style=&quot;width: 100.0%; height: 100.0%;&quot;&gt;&lt;!DOCTYPE html&gt;     &lt;html&gt;     &lt;strong&gt;Building Name: &lt;/strong&gt;Marea Condo&lt;br&gt;     &lt;strong&gt;Sale Price: &lt;/strong&gt;$3,540,000.00&lt;br&gt;     &lt;strong&gt;Days on Market: &lt;/strong&gt;134&lt;br&gt;     &lt;strong&gt;Listing Agent: &lt;/strong&gt;Christina Alem&lt;br&gt;     &lt;strong&gt;Buyer&#x27;s Agent: &lt;/strong&gt;Lisa Van Wagenen&lt;br&gt;     &lt;strong&gt;Price sq ft: &lt;/strong&gt;$1397.55&lt;br&gt;     &lt;strong&gt;Address: &lt;/strong&gt;801 S Pointe Dr 306 Miami&lt;br&gt;     &lt;/html&gt;     &lt;/div&gt;`)[0];\n",
       "                popup_d9dacbabd99e1fef0f18d9665492ffff.setContent(html_068677f43d8a6d04fc37f4cfdeae9681);\n",
       "            \n",
       "        \n",
       "\n",
       "        marker_f6561c9c44dcd8303abbe40ed0b413d0.bindPopup(popup_d9dacbabd99e1fef0f18d9665492ffff)\n",
       "        ;\n",
       "\n",
       "        \n",
       "    \n",
       "    \n",
       "            var marker_5051208917350dfd25c8f5e4eb3d7b76 = L.marker(\n",
       "                [25.8021976, -80.1857897],\n",
       "                {&quot;fill&quot;: true, &quot;radius&quot;: 5}\n",
       "            ).addTo(feature_group_9e1a8f9d5be3a199ec2b1f5dd809fb89);\n",
       "        \n",
       "    \n",
       "            var icon_54da6a4fe460ff3afce9111f55582cde = L.AwesomeMarkers.icon(\n",
       "                {&quot;extraClasses&quot;: &quot;fa-rotate-0&quot;, &quot;icon&quot;: &quot;info-sign&quot;, &quot;iconColor&quot;: &quot;white&quot;, &quot;markerColor&quot;: &quot;blue&quot;, &quot;prefix&quot;: &quot;glyphicon&quot;}\n",
       "            );\n",
       "            marker_5051208917350dfd25c8f5e4eb3d7b76.setIcon(icon_54da6a4fe460ff3afce9111f55582cde);\n",
       "        \n",
       "    \n",
       "        var popup_9873855ee5568e5975c08ce5e3d294aa = L.popup({&quot;maxWidth&quot;: 400});\n",
       "\n",
       "        \n",
       "            \n",
       "                var html_d86795b8bef63dcee00a6569ff37d9f8 = $(`&lt;div id=&quot;html_d86795b8bef63dcee00a6569ff37d9f8&quot; style=&quot;width: 100.0%; height: 100.0%;&quot;&gt;&lt;!DOCTYPE html&gt;     &lt;html&gt;     &lt;strong&gt;Building Name: &lt;/strong&gt;Missoni Baia&lt;br&gt;     &lt;strong&gt;Sale Price: &lt;/strong&gt;$3,250,000.00&lt;br&gt;     &lt;strong&gt;Days on Market: &lt;/strong&gt;39&lt;br&gt;     &lt;strong&gt;Listing Agent: &lt;/strong&gt;Zachary Akers&lt;br&gt;     &lt;strong&gt;Buyer&#x27;s Agent: &lt;/strong&gt;Prince Hassan&lt;br&gt;     &lt;strong&gt;Price sq ft: &lt;/strong&gt;$1273.51&lt;br&gt;     &lt;strong&gt;Address: &lt;/strong&gt;700 NE 26 Ter 5201&lt;br&gt;     &lt;/html&gt;     &lt;/div&gt;`)[0];\n",
       "                popup_9873855ee5568e5975c08ce5e3d294aa.setContent(html_d86795b8bef63dcee00a6569ff37d9f8);\n",
       "            \n",
       "        \n",
       "\n",
       "        marker_5051208917350dfd25c8f5e4eb3d7b76.bindPopup(popup_9873855ee5568e5975c08ce5e3d294aa)\n",
       "        ;\n",
       "\n",
       "        \n",
       "    \n",
       "    \n",
       "            var marker_c1e3d6da49d54791c238fdc42c75e37f = L.marker(\n",
       "                [25.8418782, -80.1209746],\n",
       "                {&quot;fill&quot;: true, &quot;radius&quot;: 5}\n",
       "            ).addTo(feature_group_9e1a8f9d5be3a199ec2b1f5dd809fb89);\n",
       "        \n",
       "    \n",
       "            var icon_d71eb94e782c8537dfef2d37fe9269ee = L.AwesomeMarkers.icon(\n",
       "                {&quot;extraClasses&quot;: &quot;fa-rotate-0&quot;, &quot;icon&quot;: &quot;info-sign&quot;, &quot;iconColor&quot;: &quot;white&quot;, &quot;markerColor&quot;: &quot;blue&quot;, &quot;prefix&quot;: &quot;glyphicon&quot;}\n",
       "            );\n",
       "            marker_c1e3d6da49d54791c238fdc42c75e37f.setIcon(icon_d71eb94e782c8537dfef2d37fe9269ee);\n",
       "        \n",
       "    \n",
       "        var popup_1fffed376dfa07d5d8ebd8a671375dc6 = L.popup({&quot;maxWidth&quot;: 400});\n",
       "\n",
       "        \n",
       "            \n",
       "                var html_2539b79c237c34dbfb013c93784db583 = $(`&lt;div id=&quot;html_2539b79c237c34dbfb013c93784db583&quot; style=&quot;width: 100.0%; height: 100.0%;&quot;&gt;&lt;!DOCTYPE html&gt;     &lt;html&gt;     &lt;strong&gt;Building Name: &lt;/strong&gt;The Bath Club&lt;br&gt;     &lt;strong&gt;Sale Price: &lt;/strong&gt;$2,900,000.00&lt;br&gt;     &lt;strong&gt;Days on Market: &lt;/strong&gt;235&lt;br&gt;     &lt;strong&gt;Listing Agent: &lt;/strong&gt;Laney Rada&lt;br&gt;     &lt;strong&gt;Buyer&#x27;s Agent: &lt;/strong&gt;Laney Rada&lt;br&gt;     &lt;strong&gt;Price sq ft: &lt;/strong&gt;$728.28&lt;br&gt;     &lt;strong&gt;Address: &lt;/strong&gt;5959 Collins Ave 604 Miami&lt;br&gt;     &lt;/html&gt;     &lt;/div&gt;`)[0];\n",
       "                popup_1fffed376dfa07d5d8ebd8a671375dc6.setContent(html_2539b79c237c34dbfb013c93784db583);\n",
       "            \n",
       "        \n",
       "\n",
       "        marker_c1e3d6da49d54791c238fdc42c75e37f.bindPopup(popup_1fffed376dfa07d5d8ebd8a671375dc6)\n",
       "        ;\n",
       "\n",
       "        \n",
       "    \n",
       "    \n",
       "            var marker_29aa0af7925844370ad61020f77f69a5 = L.marker(\n",
       "                [25.9344014, -80.1210054],\n",
       "                {&quot;fill&quot;: true, &quot;radius&quot;: 5}\n",
       "            ).addTo(feature_group_9e1a8f9d5be3a199ec2b1f5dd809fb89);\n",
       "        \n",
       "    \n",
       "            var icon_49e2b44f2b9f04e2016b32cf1a2e7495 = L.AwesomeMarkers.icon(\n",
       "                {&quot;extraClasses&quot;: &quot;fa-rotate-0&quot;, &quot;icon&quot;: &quot;info-sign&quot;, &quot;iconColor&quot;: &quot;white&quot;, &quot;markerColor&quot;: &quot;blue&quot;, &quot;prefix&quot;: &quot;glyphicon&quot;}\n",
       "            );\n",
       "            marker_29aa0af7925844370ad61020f77f69a5.setIcon(icon_49e2b44f2b9f04e2016b32cf1a2e7495);\n",
       "        \n",
       "    \n",
       "        var popup_8266b43f85ad389e14325d7802ec4d91 = L.popup({&quot;maxWidth&quot;: 400});\n",
       "\n",
       "        \n",
       "            \n",
       "                var html_7bb2be75390e671078bab7a20fe85e1a = $(`&lt;div id=&quot;html_7bb2be75390e671078bab7a20fe85e1a&quot; style=&quot;width: 100.0%; height: 100.0%;&quot;&gt;&lt;!DOCTYPE html&gt;     &lt;html&gt;     &lt;strong&gt;Building Name: &lt;/strong&gt;Jade Ocean&lt;br&gt;     &lt;strong&gt;Sale Price: &lt;/strong&gt;$2,600,000.00&lt;br&gt;     &lt;strong&gt;Days on Market: &lt;/strong&gt;29&lt;br&gt;     &lt;strong&gt;Listing Agent: &lt;/strong&gt;Anaisha Rodriguez&lt;br&gt;     &lt;strong&gt;Buyer&#x27;s Agent: &lt;/strong&gt;Michael Warshower&lt;br&gt;     &lt;strong&gt;Price sq ft: &lt;/strong&gt;$1345.06&lt;br&gt;     &lt;strong&gt;Address: &lt;/strong&gt;17121 Collins Ave 1505 Sunny Isles&lt;br&gt;     &lt;/html&gt;     &lt;/div&gt;`)[0];\n",
       "                popup_8266b43f85ad389e14325d7802ec4d91.setContent(html_7bb2be75390e671078bab7a20fe85e1a);\n",
       "            \n",
       "        \n",
       "\n",
       "        marker_29aa0af7925844370ad61020f77f69a5.bindPopup(popup_8266b43f85ad389e14325d7802ec4d91)\n",
       "        ;\n",
       "\n",
       "        \n",
       "    \n",
       "    \n",
       "            var marker_f3f1d7fbda033f443835bc853c1c8c24 = L.marker(\n",
       "                [25.7935581, -80.1870727],\n",
       "                {&quot;fill&quot;: true, &quot;radius&quot;: 5}\n",
       "            ).addTo(feature_group_9e1a8f9d5be3a199ec2b1f5dd809fb89);\n",
       "        \n",
       "    \n",
       "            var icon_b93bf7e0573e8441f38fe8c4fbfd7a3a = L.AwesomeMarkers.icon(\n",
       "                {&quot;extraClasses&quot;: &quot;fa-rotate-0&quot;, &quot;icon&quot;: &quot;info-sign&quot;, &quot;iconColor&quot;: &quot;white&quot;, &quot;markerColor&quot;: &quot;blue&quot;, &quot;prefix&quot;: &quot;glyphicon&quot;}\n",
       "            );\n",
       "            marker_f3f1d7fbda033f443835bc853c1c8c24.setIcon(icon_b93bf7e0573e8441f38fe8c4fbfd7a3a);\n",
       "        \n",
       "    \n",
       "        var popup_bfcaea2281cf6dbdc5a0154b940fe37c = L.popup({&quot;maxWidth&quot;: 400});\n",
       "\n",
       "        \n",
       "            \n",
       "                var html_34147ab15a7f547822818c8a1be85de6 = $(`&lt;div id=&quot;html_34147ab15a7f547822818c8a1be85de6&quot; style=&quot;width: 100.0%; height: 100.0%;&quot;&gt;&lt;!DOCTYPE html&gt;     &lt;html&gt;     &lt;strong&gt;Building Name: &lt;/strong&gt;Aria on the Bay&lt;br&gt;     &lt;strong&gt;Sale Price: &lt;/strong&gt;$2,300,000.00&lt;br&gt;     &lt;strong&gt;Days on Market: &lt;/strong&gt;202&lt;br&gt;     &lt;strong&gt;Listing Agent: &lt;/strong&gt;Eli Soto&lt;br&gt;     &lt;strong&gt;Buyer&#x27;s Agent: &lt;/strong&gt;Rachel Spackman&lt;br&gt;     &lt;strong&gt;Price sq ft: &lt;/strong&gt;$1139.74&lt;br&gt;     &lt;strong&gt;Address: &lt;/strong&gt;488 NE 18th St 1215&lt;br&gt;     &lt;/html&gt;     &lt;/div&gt;`)[0];\n",
       "                popup_bfcaea2281cf6dbdc5a0154b940fe37c.setContent(html_34147ab15a7f547822818c8a1be85de6);\n",
       "            \n",
       "        \n",
       "\n",
       "        marker_f3f1d7fbda033f443835bc853c1c8c24.bindPopup(popup_bfcaea2281cf6dbdc5a0154b940fe37c)\n",
       "        ;\n",
       "\n",
       "        \n",
       "    \n",
       "    \n",
       "            var marker_68b27587754f12e1c359a8121d9be44c = L.marker(\n",
       "                [25.9229565, -80.1217509],\n",
       "                {&quot;fill&quot;: true, &quot;radius&quot;: 5}\n",
       "            ).addTo(feature_group_9e1a8f9d5be3a199ec2b1f5dd809fb89);\n",
       "        \n",
       "    \n",
       "            var icon_507e0c0f812fed8c8cf608509c9469c4 = L.AwesomeMarkers.icon(\n",
       "                {&quot;extraClasses&quot;: &quot;fa-rotate-0&quot;, &quot;icon&quot;: &quot;info-sign&quot;, &quot;iconColor&quot;: &quot;white&quot;, &quot;markerColor&quot;: &quot;blue&quot;, &quot;prefix&quot;: &quot;glyphicon&quot;}\n",
       "            );\n",
       "            marker_68b27587754f12e1c359a8121d9be44c.setIcon(icon_507e0c0f812fed8c8cf608509c9469c4);\n",
       "        \n",
       "    \n",
       "        var popup_ca847883268b9c2e705404728164e920 = L.popup({&quot;maxWidth&quot;: 400});\n",
       "\n",
       "        \n",
       "            \n",
       "                var html_686549d6446789d216bc0e812e5a1d45 = $(`&lt;div id=&quot;html_686549d6446789d216bc0e812e5a1d45&quot; style=&quot;width: 100.0%; height: 100.0%;&quot;&gt;&lt;!DOCTYPE html&gt;     &lt;html&gt;     &lt;strong&gt;Building Name: &lt;/strong&gt;Trump Tower III&lt;br&gt;     &lt;strong&gt;Sale Price: &lt;/strong&gt;$1,900,000.00&lt;br&gt;     &lt;strong&gt;Days on Market: &lt;/strong&gt;166&lt;br&gt;     &lt;strong&gt;Listing Agent: &lt;/strong&gt;Maria Jose Alonso&lt;br&gt;     &lt;strong&gt;Buyer&#x27;s Agent: &lt;/strong&gt;Yoicel Miranda&lt;br&gt;     &lt;strong&gt;Price sq ft: &lt;/strong&gt;$742.77&lt;br&gt;     &lt;strong&gt;Address: &lt;/strong&gt;15811 Collins Ave 1804 Sunny Isles&lt;br&gt;     &lt;/html&gt;     &lt;/div&gt;`)[0];\n",
       "                popup_ca847883268b9c2e705404728164e920.setContent(html_686549d6446789d216bc0e812e5a1d45);\n",
       "            \n",
       "        \n",
       "\n",
       "        marker_68b27587754f12e1c359a8121d9be44c.bindPopup(popup_ca847883268b9c2e705404728164e920)\n",
       "        ;\n",
       "\n",
       "        \n",
       "    \n",
       "    \n",
       "            var marker_5268a6533df730ccf2e0ef0d0377327f = L.marker(\n",
       "                [25.8071448, -80.1856208],\n",
       "                {&quot;fill&quot;: true, &quot;radius&quot;: 5}\n",
       "            ).addTo(feature_group_9e1a8f9d5be3a199ec2b1f5dd809fb89);\n",
       "        \n",
       "    \n",
       "            var icon_a97c7cb935040ed983ad59a489140aec = L.AwesomeMarkers.icon(\n",
       "                {&quot;extraClasses&quot;: &quot;fa-rotate-0&quot;, &quot;icon&quot;: &quot;info-sign&quot;, &quot;iconColor&quot;: &quot;white&quot;, &quot;markerColor&quot;: &quot;blue&quot;, &quot;prefix&quot;: &quot;glyphicon&quot;}\n",
       "            );\n",
       "            marker_5268a6533df730ccf2e0ef0d0377327f.setIcon(icon_a97c7cb935040ed983ad59a489140aec);\n",
       "        \n",
       "    \n",
       "        var popup_a3752418f439d86fcd2b4e2126971b75 = L.popup({&quot;maxWidth&quot;: 400});\n",
       "\n",
       "        \n",
       "            \n",
       "                var html_c48579531d30ac7b42ff331d42fb0d67 = $(`&lt;div id=&quot;html_c48579531d30ac7b42ff331d42fb0d67&quot; style=&quot;width: 100.0%; height: 100.0%;&quot;&gt;&lt;!DOCTYPE html&gt;     &lt;html&gt;     &lt;strong&gt;Building Name: &lt;/strong&gt;One Paraiso Condo&lt;br&gt;     &lt;strong&gt;Sale Price: &lt;/strong&gt;$1,875,000.00&lt;br&gt;     &lt;strong&gt;Days on Market: &lt;/strong&gt;27&lt;br&gt;     &lt;strong&gt;Listing Agent: &lt;/strong&gt;Marc Heinen&lt;br&gt;     &lt;strong&gt;Buyer&#x27;s Agent: &lt;/strong&gt;Richard Conlin&lt;br&gt;     &lt;strong&gt;Price sq ft: &lt;/strong&gt;$1147.49&lt;br&gt;     &lt;strong&gt;Address: &lt;/strong&gt;3131 NE 7th Ave 2606&lt;br&gt;     &lt;/html&gt;     &lt;/div&gt;`)[0];\n",
       "                popup_a3752418f439d86fcd2b4e2126971b75.setContent(html_c48579531d30ac7b42ff331d42fb0d67);\n",
       "            \n",
       "        \n",
       "\n",
       "        marker_5268a6533df730ccf2e0ef0d0377327f.bindPopup(popup_a3752418f439d86fcd2b4e2126971b75)\n",
       "        ;\n",
       "\n",
       "        \n",
       "    \n",
       "    \n",
       "            var tile_layer_ebf989fa3e3dbc35d649637e3e8b2ffb = L.tileLayer(\n",
       "                &quot;https://{s}.tile.openstreetmap.org/{z}/{x}/{y}.png&quot;,\n",
       "                {&quot;attribution&quot;: &quot;Data by \\u0026copy; \\u003ca href=\\&quot;http://openstreetmap.org\\&quot;\\u003eOpenStreetMap\\u003c/a\\u003e, under \\u003ca href=\\&quot;http://www.openstreetmap.org/copyright\\&quot;\\u003eODbL\\u003c/a\\u003e.&quot;, &quot;detectRetina&quot;: false, &quot;maxNativeZoom&quot;: 18, &quot;maxZoom&quot;: 18, &quot;minZoom&quot;: 0, &quot;noWrap&quot;: false, &quot;opacity&quot;: 1, &quot;subdomains&quot;: &quot;abc&quot;, &quot;tms&quot;: false}\n",
       "            ).addTo(map_3a231cd5bf8f8a3a4b1b096898ea37dd);\n",
       "        \n",
       "    \n",
       "            var layer_control_d7891f8d20249929033fa6064c4ca274 = {\n",
       "                base_layers : {\n",
       "                },\n",
       "                overlays :  {\n",
       "                    &quot;Top Sale&quot; : feature_group_9e067bde6b18ad2a7183fe3671987613,\n",
       "                    &quot;All other sales&quot; : feature_group_9e1a8f9d5be3a199ec2b1f5dd809fb89,\n",
       "                },\n",
       "            };\n",
       "            L.control.layers(\n",
       "                layer_control_d7891f8d20249929033fa6064c4ca274.base_layers,\n",
       "                layer_control_d7891f8d20249929033fa6064c4ca274.overlays,\n",
       "                {&quot;autoZIndex&quot;: true, &quot;collapsed&quot;: false, &quot;position&quot;: &quot;topright&quot;}\n",
       "            ).addTo(map_3a231cd5bf8f8a3a4b1b096898ea37dd);\n",
       "        \n",
       "&lt;/script&gt;\" style=\"position:absolute;width:100%;height:100%;left:0;top:0;border:none !important;\" allowfullscreen webkitallowfullscreen mozallowfullscreen></iframe></div></div>"
      ],
      "text/plain": [
       "<folium.folium.Map at 0x7f7e30e78b20>"
      ]
     },
     "execution_count": 17,
     "metadata": {},
     "output_type": "execute_result"
    }
   ],
   "source": [
    "import folium\n",
    "from folium.plugins import MarkerCluster\n",
    "\n",
    "m = folium.Map(location=df[[\"lat\", \"lon\"]].mean().to_list(), zoom_start=10)\n",
    "\n",
    "title_html = '''\n",
    "              <h3 align=\"center\" style=\"font-size:16px\"><b>{}</b></h3>\n",
    "             '''.format(f'Recent Miami-Dade Condo Sales ')\n",
    "\n",
    "caption_html = '''\n",
    "                <p align=\"center\" style=\"vertical-align: bottom; font-size:13px\"><i>{}</i></p>\n",
    "                '''.format('October 29th - November 4th')\n",
    "\n",
    "\n",
    "### Create map container ###\n",
    "m = folium.Map(location=df[[\"lat\", \"lon\"]].mean().to_list(),zoom_start=9.5,tiles=None)\n",
    "\n",
    "# Create two FeatureGroups for different color pins\n",
    "fg_blue = folium.FeatureGroup(name='All other sales')\n",
    "fg_orange = folium.FeatureGroup(name='Top Sale')\n",
    "\n",
    "for index, row in df.iterrows():\n",
    "    # Add the markers to the appropriate FeatureGroup based on the color\n",
    "    if row['COLOR'] == 'blue':\n",
    "        marker = folium.Marker(\n",
    "            location=[row['lat'], row['lon']],\n",
    "            radius=5,\n",
    "            fill=True,\n",
    "            icon=folium.Icon(color=row['COLOR']),\n",
    "            popup=folium.Popup(popup_html(row), max_width=400))\n",
    "        marker.add_to(fg_blue)\n",
    "    else:\n",
    "        marker = folium.Marker(\n",
    "            location=[row['lat'], row['lon']],\n",
    "            radius=5,\n",
    "            fill=True,\n",
    "            icon=folium.Icon(color=row['COLOR']),\n",
    "            popup=folium.Popup(popup_html(row), max_width=400))\n",
    "        marker.add_to(fg_orange)\n",
    "\n",
    "# Add the FeatureGroups to the map\n",
    "fg_orange.add_to(m)\n",
    "fg_blue.add_to(m)\n",
    "\n",
    "folium.TileLayer('OpenStreetMap',control=False).add_to(m)\n",
    "\n",
    "# Add LayerControl to the map\n",
    "folium.map.LayerControl(collapsed=False).add_to(m)\n",
    "m.get_root().html.add_child(folium.Element(title_html))\n",
    "m.get_root().html.add_child(folium.Element(caption_html))\n",
    "            \n",
    "# Display map\n",
    "m"
   ]
  },
  {
   "cell_type": "code",
   "execution_count": 18,
   "metadata": {},
   "outputs": [],
   "source": [
    "m.save('index.html')"
   ]
  },
  {
   "cell_type": "markdown",
   "metadata": {},
   "source": [
    "## Data snagger"
   ]
  },
  {
   "cell_type": "code",
   "execution_count": 19,
   "metadata": {},
   "outputs": [],
   "source": [
    "### Set up formatting ###\n",
    "BR = '\\n'\n",
    "\n",
    "ME = '\\033[1m' + 'Most Expensive' + '\\033[0m'\n",
    "LE = '\\033[1m' + 'Least Expensive' + '\\033[0m'\n",
    "\n",
    "MAX_PSF = '\\033[1m' + 'Highest Price Per Square Foot' + '\\033[0m'\n",
    "MIN_PSF = '\\033[1m' + 'Lowest Price Per Square Foot' + '\\033[0m'\n",
    "\n",
    "DAYS_MAX = '\\033[1m' + 'Most Days on Market' + '\\033[0m'\n",
    "DAYS_MIN = '\\033[1m' + 'Fewest Days on Market' + '\\033[0m'"
   ]
  },
  {
   "cell_type": "code",
   "execution_count": 20,
   "metadata": {},
   "outputs": [
    {
     "name": "stdout",
     "output_type": "stream",
     "text": [
      "\u001b[1mMost Expensive\u001b[0m\n",
      "One Park Grove, 2811 S Bayshore Dr 8D Coconut | Price $6,200,000 | $2,125 psf | Listing agent: Raul Santidrian PA with Douglas Elliman | Buyer's agent: Judith Hansen with Compass Florida, LLC | Days on market: 325\n",
      "\u001b[1mLeast Expensive\u001b[0m\n",
      "One Paraiso Condo, 3131 NE 7th Ave 2606 | Price $1,875,000 | $1,147 psf | Listing agent: Marc Heinen with Compass Florida, LLC. | Buyer's agent: Richard Conlin with Coldwell Banker Realty | Days on market: 27\n",
      "\u001b[1mHighest Price Per Square Foot\u001b[0m\n",
      "Bal Harbour North, 9705 Collins Ave 1904N Bal | Price $4,300,000 | $2,552 psf | Listing agent: Juan Carlos De Campos with Miami New Realty | Buyer's agent: Marine Rollins with Miami Global Realty Inc | Days on market: 140\n",
      "\u001b[1mLowest Price Per Square Foot\u001b[0m\n",
      "The Bath Club, 5959 Collins Ave 604 Miami | Price $2,900,000 | $728 psf | Listing agent: Laney Rada with Douglas Elliman | Buyer's agent: Laney Rada with Douglas Elliman | Days on market: 235\n",
      "\u001b[1mMost Days on Market\u001b[0m\n",
      "One Park Grove, 2811 S Bayshore Dr 8D Coconut | Price $6,200,000 | $2,125 psf | Listing agent: Raul Santidrian PA with Douglas Elliman | Buyer's agent: Judith Hansen with Compass Florida, LLC | Days on market: 325\n",
      "\u001b[1mFewest Days on Market\u001b[0m\n",
      "nan, nan | Price $3,725,000 | $1,478 psf | Listing agent: Dora Puig with Luxe Living Realty | Buyer's agent: Darin Tansey with Douglas Elliman | Days on market: 24\n"
     ]
    }
   ],
   "source": [
    "### Highest and lowest sale price ###\n",
    "print(f\"{ME}{BR}{df.loc[df['int_Sale_Price'].idxmax()]['building_name']}, {df.loc[df['int_Sale_Price'].idxmax()]['address']} | Price ${df.loc[df['int_Sale_Price'].idxmax()]['int_Sale_Price']:,.0f} | ${df.loc[df['int_Sale_Price'].idxmax()]['price_per_sqft']:,.0f} psf | Listing agent: {df.loc[df['int_Sale_Price'].idxmax()]['Agent']} with {df.loc[df['int_Sale_Price'].idxmax()]['Listing Broker']} | Buyer's agent: {df.loc[df['int_Sale_Price'].idxmax()]['Buyer Agent']} with {df.loc[df['int_Sale_Price'].idxmax()]['Buyer Broker']} | Days on market: {df.loc[df['int_Sale_Price'].idxmax()]['days_on_market']}\")\n",
    "print(f\"{LE}{BR}{df.loc[df['int_Sale_Price'].idxmin()]['building_name']}, {df.loc[df['int_Sale_Price'].idxmin()]['address']} | Price ${df.loc[df['int_Sale_Price'].idxmin()]['int_Sale_Price']:,.0f} | ${df.loc[df['int_Sale_Price'].idxmin()]['price_per_sqft']:,.0f} psf | Listing agent: {df.loc[df['int_Sale_Price'].idxmin()]['Agent']} with {df.loc[df['int_Sale_Price'].idxmin()]['Listing Broker']} | Buyer's agent: {df.loc[df['int_Sale_Price'].idxmin()]['Buyer Agent']} with {df.loc[df['int_Sale_Price'].idxmin()]['Buyer Broker']} | Days on market: {df.loc[df['int_Sale_Price'].idxmin()]['days_on_market']}\")\n",
    "### Highest and lowest psf ###\n",
    "print(f\"{MAX_PSF}{BR}{df.loc[df['price_per_sqft'].idxmax()]['building_name']}, {df.loc[df['price_per_sqft'].idxmax()]['address']} | Price ${df.loc[df['price_per_sqft'].idxmax()]['int_Sale_Price']:,.0f} | ${df.loc[df['price_per_sqft'].idxmax()]['price_per_sqft']:,.0f} psf | Listing agent: {df.loc[df['price_per_sqft'].idxmax()]['Agent']} with {df.loc[df['price_per_sqft'].idxmax()]['Listing Broker']} | Buyer's agent: {df.loc[df['price_per_sqft'].idxmax()]['Buyer Agent']} with {df.loc[df['price_per_sqft'].idxmax()]['Buyer Broker']} | Days on market: {df.loc[df['price_per_sqft'].idxmax()]['days_on_market']}\")\n",
    "print(f\"{MIN_PSF}{BR}{df.loc[df['price_per_sqft'].idxmin()]['building_name']}, {df.loc[df['price_per_sqft'].idxmin()]['address']} | Price ${df.loc[df['price_per_sqft'].idxmin()]['int_Sale_Price']:,.0f} | ${df.loc[df['price_per_sqft'].idxmin()]['price_per_sqft']:,.0f} psf | Listing agent: {df.loc[df['price_per_sqft'].idxmin()]['Agent']} with {df.loc[df['price_per_sqft'].idxmin()]['Listing Broker']} | Buyer's agent: {df.loc[df['price_per_sqft'].idxmin()]['Buyer Agent']} with {df.loc[df['price_per_sqft'].idxmin()]['Buyer Broker']} | Days on market: {df.loc[df['price_per_sqft'].idxmin()]['days_on_market']}\")\n",
    "### Highest and lowest days on market ###\n",
    "print(f\"{DAYS_MAX}{BR}{df.loc[df['days_on_market'].idxmax()]['building_name']}, {df.loc[df['days_on_market'].idxmax()]['address']} | Price ${df.loc[df['days_on_market'].idxmax()]['int_Sale_Price']:,.0f} | ${df.loc[df['days_on_market'].idxmax()]['price_per_sqft']:,.0f} psf | Listing agent: {df.loc[df['days_on_market'].idxmax()]['Agent']} with {df.loc[df['days_on_market'].idxmax()]['Listing Broker']} | Buyer's agent: {df.loc[df['days_on_market'].idxmax()]['Buyer Agent']} with {df.loc[df['days_on_market'].idxmax()]['Buyer Broker']} | Days on market: {df.loc[df['days_on_market'].idxmax()]['days_on_market']}\")\n",
    "print(f\"{DAYS_MIN}{BR}{df.loc[df['days_on_market'].idxmin()]['building_name']}, {df.loc[df['days_on_market'].idxmin()]['address']} | Price ${df.loc[df['days_on_market'].idxmin()]['int_Sale_Price']:,.0f} | ${df.loc[df['days_on_market'].idxmin()]['price_per_sqft']:,.0f} psf | Listing agent: {df.loc[df['days_on_market'].idxmin()]['Agent']} with {df.loc[df['days_on_market'].idxmin()]['Listing Broker']} | Buyer's agent: {df.loc[df['days_on_market'].idxmin()]['Buyer Agent']} with {df.loc[df['days_on_market'].idxmin()]['Buyer Broker']} | Days on market: {df.loc[df['days_on_market'].idxmin()]['days_on_market']}\")"
   ]
  },
  {
   "cell_type": "code",
   "execution_count": 21,
   "metadata": {},
   "outputs": [
    {
     "data": {
      "text/plain": [
       "132.1"
      ]
     },
     "execution_count": 21,
     "metadata": {},
     "output_type": "execute_result"
    }
   ],
   "source": [
    "df['days_on_market'].mean()"
   ]
  },
  {
   "cell_type": "markdown",
   "metadata": {},
   "source": [
    "## Map URL snagger"
   ]
  },
  {
   "cell_type": "markdown",
   "metadata": {},
   "source": [
    "Map template URL: `https://trd-digital.github.io/trd-news-interactive-maps/{map-folder-name}`"
   ]
  },
  {
   "cell_type": "code",
   "execution_count": 22,
   "metadata": {},
   "outputs": [],
   "source": [
    "base_name = 'https://trd-digital.github.io/trd-news-interactive-maps/'"
   ]
  },
  {
   "cell_type": "code",
   "execution_count": 23,
   "metadata": {},
   "outputs": [
    {
     "name": "stdout",
     "output_type": "stream",
     "text": [
      "https://trd-digital.github.io/trd-news-interactive-maps/condo_sales_week_ending_11272023\n"
     ]
    }
   ],
   "source": [
    "cwd = os.getcwd()\n",
    "\n",
    "cwd = cwd.split('/')\n",
    "\n",
    "final_name = base_name + cwd[-1]\n",
    "print(final_name)"
   ]
  }
 ],
 "metadata": {
  "kernelspec": {
   "display_name": "Python 3 (ipykernel)",
   "language": "python",
   "name": "python3"
  },
  "language_info": {
   "codemirror_mode": {
    "name": "ipython",
    "version": 3
   },
   "file_extension": ".py",
   "mimetype": "text/x-python",
   "name": "python",
   "nbconvert_exporter": "python",
   "pygments_lexer": "ipython3",
   "version": "3.9.12"
  },
  "toc": {
   "base_numbering": 1,
   "nav_menu": {},
   "number_sections": true,
   "sideBar": true,
   "skip_h1_title": false,
   "title_cell": "Table of Contents",
   "title_sidebar": "Contents",
   "toc_cell": false,
   "toc_position": {},
   "toc_section_display": true,
   "toc_window_display": false
  }
 },
 "nbformat": 4,
 "nbformat_minor": 4
}
