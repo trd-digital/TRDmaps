{
 "cells": [
  {
   "cell_type": "markdown",
   "id": "282c57c3",
   "metadata": {},
   "source": [
    "## Imports"
   ]
  },
  {
   "cell_type": "code",
   "execution_count": 1,
   "id": "54c15242",
   "metadata": {},
   "outputs": [],
   "source": [
    "import pandas as pd\n",
    "import numpy as np\n",
    "import re\n",
    "import os\n",
    "import folium\n",
    "import geopandas as gpd\n",
    "import glob\n",
    "from datetime import datetime, timedelta"
   ]
  },
  {
   "cell_type": "markdown",
   "id": "7c620cf8",
   "metadata": {},
   "source": [
    "## Data Read-in"
   ]
  },
  {
   "cell_type": "code",
   "execution_count": 2,
   "id": "788cfd9b",
   "metadata": {},
   "outputs": [
    {
     "name": "stdout",
     "output_type": "stream",
     "text": [
      "3302\n"
     ]
    }
   ],
   "source": [
    "csv_files = glob.glob('*.csv')\n",
    "\n",
    "df_list = []\n",
    "\n",
    "for csv_file in csv_files:\n",
    "    df = pd.read_csv(csv_file)\n",
    "    df_list.append(df)\n",
    "    \n",
    "df = pd.concat(df_list,ignore_index=True)\n",
    "\n",
    "print(len(df))"
   ]
  },
  {
   "cell_type": "code",
   "execution_count": 3,
   "id": "563417a4",
   "metadata": {},
   "outputs": [],
   "source": [
    "gdf = gpd.read_file('Miami-Dade_Boundary.geojson')"
   ]
  },
  {
   "cell_type": "markdown",
   "id": "5cdf738a",
   "metadata": {},
   "source": [
    "## Previous month's values\n",
    "\n",
    "Get values from here:\n",
    "\n",
    "https://docs.google.com/spreadsheets/d/1GWlqTIzCB29pDVDjd-iBVejVGGsLiAd0P6fq4LM83WI/edit?usp=sharing"
   ]
  },
  {
   "cell_type": "code",
   "execution_count": 4,
   "id": "1cd3e074",
   "metadata": {},
   "outputs": [
    {
     "name": "stdout",
     "output_type": "stream",
     "text": [
      "Input total condo units sold previous (not last) month:\n",
      "796\n"
     ]
    }
   ],
   "source": [
    "print('Input total condo units sold previous (not last) month:')\n",
    "total_condos_sold_2nd_month = input()"
   ]
  },
  {
   "cell_type": "code",
   "execution_count": 5,
   "id": "229637ce",
   "metadata": {},
   "outputs": [
    {
     "name": "stdout",
     "output_type": "stream",
     "text": [
      "Input total sales volume ($$$ million) from previous (not last) month:\n",
      "694000000\n"
     ]
    }
   ],
   "source": [
    "print('Input total sales volume ($$$ million) from previous (not last) month:')\n",
    "sales_volume_2nd_month = input()"
   ]
  },
  {
   "cell_type": "code",
   "execution_count": 6,
   "id": "081faeec",
   "metadata": {},
   "outputs": [
    {
     "name": "stdout",
     "output_type": "stream",
     "text": [
      "Input median sales price from previous (not last) month:\n",
      "455000\n"
     ]
    }
   ],
   "source": [
    "print('Input median sales price from previous (not last) month:')\n",
    "median_sales_price_2nd_month = input()"
   ]
  },
  {
   "cell_type": "code",
   "execution_count": 7,
   "id": "cdac5fe9",
   "metadata": {},
   "outputs": [
    {
     "name": "stdout",
     "output_type": "stream",
     "text": [
      "Input median psf from previous (not last) month:\n",
      "460\n"
     ]
    }
   ],
   "source": [
    "print('Input median psf from previous (not last) month:')\n",
    "median_psf_2nd_month = input()"
   ]
  },
  {
   "cell_type": "markdown",
   "id": "b03ce742",
   "metadata": {},
   "source": [
    "## Data Clean"
   ]
  },
  {
   "cell_type": "code",
   "execution_count": 8,
   "id": "1f2a52a3",
   "metadata": {},
   "outputs": [],
   "source": [
    "df = df.rename(columns={'URL (SEE https://www.redfin.com/buy-a-home/comparative-market-analysis FOR INFO ON PRICING)':'URL'})"
   ]
  },
  {
   "cell_type": "code",
   "execution_count": 9,
   "id": "5f45bf08",
   "metadata": {},
   "outputs": [],
   "source": [
    "df = df.dropna(subset=['SOLD DATE'])"
   ]
  },
  {
   "cell_type": "code",
   "execution_count": 10,
   "id": "25d1852d",
   "metadata": {},
   "outputs": [
    {
     "name": "stdout",
     "output_type": "stream",
     "text": [
      "Report month: April ---- Month before report month: March\n"
     ]
    }
   ],
   "source": [
    "# Get the current date\n",
    "current_date = datetime.now()\n",
    "\n",
    "# Calculate the first day of the current month\n",
    "first_day_of_current_month = current_date.replace(day=1)\n",
    "\n",
    "# Get the last day of the previous month by subtracting one day from the first day of the current month\n",
    "last_day_of_previous_month = first_day_of_current_month - timedelta(days=1)\n",
    "\n",
    "# Get the month name of the previous month\n",
    "previous_month_name = last_day_of_previous_month.strftime(\"%B\")\n",
    "\n",
    "# ---- Get the name of the month, as a string, from two months ago.\n",
    "# ---- Meaning, if the current month is January, return November.\n",
    "\n",
    "# Get the first day of the previous month by subtracting one day from the first day of the current month\n",
    "first_day_of_previous_month = first_day_of_current_month - timedelta(days=1)\n",
    "\n",
    "# Get the first day of the month before the last by subtracting one day from the first day of the previous month\n",
    "first_day_of_month_before_last = first_day_of_previous_month.replace(day=1) - timedelta(days=1)\n",
    "\n",
    "# Get the month name of the month before the last\n",
    "month_before_last_name = first_day_of_month_before_last.strftime(\"%B\")\n",
    "\n",
    "print(f'Report month: {previous_month_name} ---- Month before report month: {month_before_last_name}')"
   ]
  },
  {
   "cell_type": "code",
   "execution_count": 11,
   "id": "9b9d20ba",
   "metadata": {},
   "outputs": [],
   "source": [
    "# Define list of desired months (excluding current month)\n",
    "desired_months = [previous_month_name]\n",
    "\n",
    "# Filter DataFrame to include only entries from desired months\n",
    "df_filtered = df[df['SOLD DATE'].str.split('-', expand=True)[0].isin(desired_months)]\n",
    "\n",
    "# Reset the index\n",
    "df_filtered = df_filtered.reset_index(drop=True)"
   ]
  },
  {
   "cell_type": "code",
   "execution_count": 12,
   "id": "ab2d002c",
   "metadata": {},
   "outputs": [
    {
     "name": "stdout",
     "output_type": "stream",
     "text": [
      "PRICE\n",
      "False    1050\n",
      "Name: count, dtype: int64\n",
      "-------\n",
      "$/SQUARE FEET\n",
      "False    1047\n",
      "True        3\n",
      "Name: count, dtype: int64\n",
      "-------\n",
      "YEAR BUILT\n",
      "False    1050\n",
      "Name: count, dtype: int64\n",
      "-------\n"
     ]
    }
   ],
   "source": [
    "# Data checks\n",
    "print(df_filtered['PRICE'].isna().value_counts())\n",
    "print('-------')\n",
    "print(df_filtered['$/SQUARE FEET'].isna().value_counts())\n",
    "print('-------')\n",
    "print(df_filtered['YEAR BUILT'].isna().value_counts())\n",
    "print('-------')"
   ]
  },
  {
   "cell_type": "code",
   "execution_count": 13,
   "id": "446eb268",
   "metadata": {},
   "outputs": [
    {
     "name": "stdout",
     "output_type": "stream",
     "text": [
      "https://www.redfin.com/FL/Miami/700-NE-26th-Ter-33137/unit-3101/home/187430353\n"
     ]
    }
   ],
   "source": [
    "sorted_df = df_filtered.sort_values(by='YEAR BUILT', ascending=False)\n",
    "second_newest_building = sorted_df.iloc[2]\n",
    "print(second_newest_building['URL'])"
   ]
  },
  {
   "cell_type": "code",
   "execution_count": 14,
   "id": "61663e76",
   "metadata": {},
   "outputs": [
    {
     "data": {
      "text/html": [
       "<div>\n",
       "<style scoped>\n",
       "    .dataframe tbody tr th:only-of-type {\n",
       "        vertical-align: middle;\n",
       "    }\n",
       "\n",
       "    .dataframe tbody tr th {\n",
       "        vertical-align: top;\n",
       "    }\n",
       "\n",
       "    .dataframe thead th {\n",
       "        text-align: right;\n",
       "    }\n",
       "</style>\n",
       "<table border=\"1\" class=\"dataframe\">\n",
       "  <thead>\n",
       "    <tr style=\"text-align: right;\">\n",
       "      <th></th>\n",
       "      <th>SALE TYPE</th>\n",
       "      <th>SOLD DATE</th>\n",
       "      <th>PROPERTY TYPE</th>\n",
       "      <th>ADDRESS</th>\n",
       "      <th>CITY</th>\n",
       "      <th>STATE OR PROVINCE</th>\n",
       "      <th>ZIP OR POSTAL CODE</th>\n",
       "      <th>PRICE</th>\n",
       "      <th>BEDS</th>\n",
       "      <th>BATHS</th>\n",
       "      <th>...</th>\n",
       "      <th>STATUS</th>\n",
       "      <th>NEXT OPEN HOUSE START TIME</th>\n",
       "      <th>NEXT OPEN HOUSE END TIME</th>\n",
       "      <th>URL</th>\n",
       "      <th>SOURCE</th>\n",
       "      <th>MLS#</th>\n",
       "      <th>FAVORITE</th>\n",
       "      <th>INTERESTED</th>\n",
       "      <th>LATITUDE</th>\n",
       "      <th>LONGITUDE</th>\n",
       "    </tr>\n",
       "  </thead>\n",
       "  <tbody>\n",
       "  </tbody>\n",
       "</table>\n",
       "<p>0 rows × 27 columns</p>\n",
       "</div>"
      ],
      "text/plain": [
       "Empty DataFrame\n",
       "Columns: [SALE TYPE, SOLD DATE, PROPERTY TYPE, ADDRESS, CITY, STATE OR PROVINCE, ZIP OR POSTAL CODE, PRICE, BEDS, BATHS, LOCATION, SQUARE FEET, LOT SIZE, YEAR BUILT, DAYS ON MARKET, $/SQUARE FEET, HOA/MONTH, STATUS, NEXT OPEN HOUSE START TIME, NEXT OPEN HOUSE END TIME, URL, SOURCE, MLS#, FAVORITE, INTERESTED, LATITUDE, LONGITUDE]\n",
       "Index: []\n",
       "\n",
       "[0 rows x 27 columns]"
      ]
     },
     "execution_count": 14,
     "metadata": {},
     "output_type": "execute_result"
    }
   ],
   "source": [
    "df_filtered.loc[df_filtered['PRICE'] == '0']"
   ]
  },
  {
   "cell_type": "code",
   "execution_count": 15,
   "id": "b0376d17",
   "metadata": {},
   "outputs": [],
   "source": [
    "df_filtered['PRICE'] = pd.to_numeric(df_filtered['PRICE'])\n",
    "df_filtered['$/SQUARE FEET'] = pd.to_numeric(df_filtered['$/SQUARE FEET'])\n",
    "df_filtered['YEAR BUILT'] = pd.to_numeric(df_filtered['YEAR BUILT'])\n",
    "df_filtered['LATITUDE'] = pd.to_numeric(df_filtered['LATITUDE'])\n",
    "df_filtered['LONGITUDE'] = pd.to_numeric(df_filtered['LONGITUDE'])"
   ]
  },
  {
   "cell_type": "code",
   "execution_count": 16,
   "id": "22be7f44",
   "metadata": {},
   "outputs": [],
   "source": [
    "df_filtered = df_filtered.drop_duplicates().reset_index(drop=True)"
   ]
  },
  {
   "cell_type": "code",
   "execution_count": 17,
   "id": "86329244",
   "metadata": {},
   "outputs": [],
   "source": [
    "# df_filtered = df_filtered[df_filtered['ADDRESS'] != '1901 Brickell Ave Unit B109']"
   ]
  },
  {
   "cell_type": "code",
   "execution_count": 17,
   "id": "a5e15306",
   "metadata": {},
   "outputs": [
    {
     "data": {
      "text/html": [
       "<div>\n",
       "<style scoped>\n",
       "    .dataframe tbody tr th:only-of-type {\n",
       "        vertical-align: middle;\n",
       "    }\n",
       "\n",
       "    .dataframe tbody tr th {\n",
       "        vertical-align: top;\n",
       "    }\n",
       "\n",
       "    .dataframe thead th {\n",
       "        text-align: right;\n",
       "    }\n",
       "</style>\n",
       "<table border=\"1\" class=\"dataframe\">\n",
       "  <thead>\n",
       "    <tr style=\"text-align: right;\">\n",
       "      <th></th>\n",
       "      <th>SALE TYPE</th>\n",
       "      <th>SOLD DATE</th>\n",
       "      <th>PROPERTY TYPE</th>\n",
       "      <th>ADDRESS</th>\n",
       "      <th>CITY</th>\n",
       "      <th>STATE OR PROVINCE</th>\n",
       "      <th>ZIP OR POSTAL CODE</th>\n",
       "      <th>PRICE</th>\n",
       "      <th>BEDS</th>\n",
       "      <th>BATHS</th>\n",
       "      <th>...</th>\n",
       "      <th>STATUS</th>\n",
       "      <th>NEXT OPEN HOUSE START TIME</th>\n",
       "      <th>NEXT OPEN HOUSE END TIME</th>\n",
       "      <th>URL</th>\n",
       "      <th>SOURCE</th>\n",
       "      <th>MLS#</th>\n",
       "      <th>FAVORITE</th>\n",
       "      <th>INTERESTED</th>\n",
       "      <th>LATITUDE</th>\n",
       "      <th>LONGITUDE</th>\n",
       "    </tr>\n",
       "  </thead>\n",
       "  <tbody>\n",
       "    <tr>\n",
       "      <th>764</th>\n",
       "      <td>PAST SALE</td>\n",
       "      <td>April-5-2024</td>\n",
       "      <td>Condo/Co-op</td>\n",
       "      <td>12500 NE 15th Ave #409</td>\n",
       "      <td>North Miami</td>\n",
       "      <td>FL</td>\n",
       "      <td>33161.0</td>\n",
       "      <td>109.0</td>\n",
       "      <td>0.0</td>\n",
       "      <td>1.0</td>\n",
       "      <td>...</td>\n",
       "      <td>Sold</td>\n",
       "      <td>NaN</td>\n",
       "      <td>NaN</td>\n",
       "      <td>https://www.redfin.com/FL/North-Miami/12500-NE...</td>\n",
       "      <td>MARMLS</td>\n",
       "      <td>A11498973</td>\n",
       "      <td>N</td>\n",
       "      <td>Y</td>\n",
       "      <td>25.890836</td>\n",
       "      <td>-80.168630</td>\n",
       "    </tr>\n",
       "    <tr>\n",
       "      <th>742</th>\n",
       "      <td>PAST SALE</td>\n",
       "      <td>April-1-2024</td>\n",
       "      <td>Condo/Co-op</td>\n",
       "      <td>5055 NW 7th St #405</td>\n",
       "      <td>Miami</td>\n",
       "      <td>FL</td>\n",
       "      <td>33126.0</td>\n",
       "      <td>170.0</td>\n",
       "      <td>1.0</td>\n",
       "      <td>1.0</td>\n",
       "      <td>...</td>\n",
       "      <td>Sold</td>\n",
       "      <td>NaN</td>\n",
       "      <td>NaN</td>\n",
       "      <td>https://www.redfin.com/FL/Miami/5055-NW-7th-St...</td>\n",
       "      <td>MARMLS</td>\n",
       "      <td>A11527754</td>\n",
       "      <td>N</td>\n",
       "      <td>Y</td>\n",
       "      <td>25.778899</td>\n",
       "      <td>-80.277952</td>\n",
       "    </tr>\n",
       "    <tr>\n",
       "      <th>727</th>\n",
       "      <td>PAST SALE</td>\n",
       "      <td>April-26-2024</td>\n",
       "      <td>Condo/Co-op</td>\n",
       "      <td>7787 SW 86th St Unit E-212</td>\n",
       "      <td>Miami</td>\n",
       "      <td>FL</td>\n",
       "      <td>33143.0</td>\n",
       "      <td>238.0</td>\n",
       "      <td>1.0</td>\n",
       "      <td>1.5</td>\n",
       "      <td>...</td>\n",
       "      <td>Sold</td>\n",
       "      <td>NaN</td>\n",
       "      <td>NaN</td>\n",
       "      <td>https://www.redfin.com/FL/Miami/7787-SW-86th-S...</td>\n",
       "      <td>MARMLS</td>\n",
       "      <td>A11563046</td>\n",
       "      <td>N</td>\n",
       "      <td>Y</td>\n",
       "      <td>25.691508</td>\n",
       "      <td>-80.320892</td>\n",
       "    </tr>\n",
       "    <tr>\n",
       "      <th>781</th>\n",
       "      <td>PAST SALE</td>\n",
       "      <td>April-11-2024</td>\n",
       "      <td>Condo/Co-op</td>\n",
       "      <td>7545 E Treasure Dr Unit 10H</td>\n",
       "      <td>North Bay Village</td>\n",
       "      <td>FL</td>\n",
       "      <td>33141.0</td>\n",
       "      <td>470.0</td>\n",
       "      <td>3.0</td>\n",
       "      <td>2.0</td>\n",
       "      <td>...</td>\n",
       "      <td>Sold</td>\n",
       "      <td>NaN</td>\n",
       "      <td>NaN</td>\n",
       "      <td>https://www.redfin.com/FL/North-Bay-Village/75...</td>\n",
       "      <td>MARMLS</td>\n",
       "      <td>A11443429</td>\n",
       "      <td>N</td>\n",
       "      <td>Y</td>\n",
       "      <td>25.846580</td>\n",
       "      <td>-80.145955</td>\n",
       "    </tr>\n",
       "    <tr>\n",
       "      <th>777</th>\n",
       "      <td>PAST SALE</td>\n",
       "      <td>April-29-2024</td>\n",
       "      <td>Condo/Co-op</td>\n",
       "      <td>1000 Quayside Ter #702</td>\n",
       "      <td>Miami</td>\n",
       "      <td>FL</td>\n",
       "      <td>33138.0</td>\n",
       "      <td>4500.0</td>\n",
       "      <td>2.0</td>\n",
       "      <td>2.0</td>\n",
       "      <td>...</td>\n",
       "      <td>Sold</td>\n",
       "      <td>NaN</td>\n",
       "      <td>NaN</td>\n",
       "      <td>https://www.redfin.com/FL/Miami/1000-Quayside-...</td>\n",
       "      <td>MARMLS</td>\n",
       "      <td>A11469179</td>\n",
       "      <td>N</td>\n",
       "      <td>Y</td>\n",
       "      <td>25.873714</td>\n",
       "      <td>-80.168380</td>\n",
       "    </tr>\n",
       "    <tr>\n",
       "      <th>751</th>\n",
       "      <td>PAST SALE</td>\n",
       "      <td>April-2-2024</td>\n",
       "      <td>Condo/Co-op</td>\n",
       "      <td>20180 NE 2nd Ave Unit X7</td>\n",
       "      <td>Miami Gardens</td>\n",
       "      <td>FL</td>\n",
       "      <td>33179.0</td>\n",
       "      <td>82500.0</td>\n",
       "      <td>1.0</td>\n",
       "      <td>1.0</td>\n",
       "      <td>...</td>\n",
       "      <td>Sold</td>\n",
       "      <td>NaN</td>\n",
       "      <td>NaN</td>\n",
       "      <td>https://www.redfin.com/FL/Miami/20180-NE-2nd-A...</td>\n",
       "      <td>Beaches MLS</td>\n",
       "      <td>F10421852</td>\n",
       "      <td>N</td>\n",
       "      <td>Y</td>\n",
       "      <td>25.958678</td>\n",
       "      <td>-80.199501</td>\n",
       "    </tr>\n",
       "    <tr>\n",
       "      <th>774</th>\n",
       "      <td>PAST SALE</td>\n",
       "      <td>April-16-2024</td>\n",
       "      <td>Condo/Co-op</td>\n",
       "      <td>160 NE 203rd Ter #15</td>\n",
       "      <td>Miami Gardens</td>\n",
       "      <td>FL</td>\n",
       "      <td>33179.0</td>\n",
       "      <td>90000.0</td>\n",
       "      <td>1.0</td>\n",
       "      <td>1.0</td>\n",
       "      <td>...</td>\n",
       "      <td>Sold</td>\n",
       "      <td>NaN</td>\n",
       "      <td>NaN</td>\n",
       "      <td>https://www.redfin.com/FL/Miami/160-NE-203rd-T...</td>\n",
       "      <td>MARMLS</td>\n",
       "      <td>A11495112</td>\n",
       "      <td>N</td>\n",
       "      <td>Y</td>\n",
       "      <td>25.961793</td>\n",
       "      <td>-80.199898</td>\n",
       "    </tr>\n",
       "    <tr>\n",
       "      <th>758</th>\n",
       "      <td>PAST SALE</td>\n",
       "      <td>April-12-2024</td>\n",
       "      <td>Condo/Co-op</td>\n",
       "      <td>285 NE 191st St #2908</td>\n",
       "      <td>Miami</td>\n",
       "      <td>FL</td>\n",
       "      <td>33179.0</td>\n",
       "      <td>92500.0</td>\n",
       "      <td>1.0</td>\n",
       "      <td>1.0</td>\n",
       "      <td>...</td>\n",
       "      <td>Sold</td>\n",
       "      <td>NaN</td>\n",
       "      <td>NaN</td>\n",
       "      <td>https://www.redfin.com/FL/Miami/285-NE-191st-S...</td>\n",
       "      <td>Beaches MLS</td>\n",
       "      <td>F10418434</td>\n",
       "      <td>N</td>\n",
       "      <td>Y</td>\n",
       "      <td>25.950549</td>\n",
       "      <td>-80.195595</td>\n",
       "    </tr>\n",
       "    <tr>\n",
       "      <th>726</th>\n",
       "      <td>PAST SALE</td>\n",
       "      <td>April-15-2024</td>\n",
       "      <td>Condo/Co-op</td>\n",
       "      <td>1350 NE 191st St Unit B207</td>\n",
       "      <td>Miami</td>\n",
       "      <td>FL</td>\n",
       "      <td>33179.0</td>\n",
       "      <td>93500.0</td>\n",
       "      <td>1.0</td>\n",
       "      <td>1.0</td>\n",
       "      <td>...</td>\n",
       "      <td>Sold</td>\n",
       "      <td>NaN</td>\n",
       "      <td>NaN</td>\n",
       "      <td>https://www.redfin.com/FL/Miami/1350-NE-191st-...</td>\n",
       "      <td>Beaches MLS</td>\n",
       "      <td>F10431287</td>\n",
       "      <td>N</td>\n",
       "      <td>Y</td>\n",
       "      <td>25.950932</td>\n",
       "      <td>-80.174217</td>\n",
       "    </tr>\n",
       "    <tr>\n",
       "      <th>771</th>\n",
       "      <td>PAST SALE</td>\n",
       "      <td>April-11-2024</td>\n",
       "      <td>Condo/Co-op</td>\n",
       "      <td>20310 NE 2nd Ave Unit K21</td>\n",
       "      <td>Miami Gardens</td>\n",
       "      <td>FL</td>\n",
       "      <td>33179.0</td>\n",
       "      <td>95000.0</td>\n",
       "      <td>1.0</td>\n",
       "      <td>1.0</td>\n",
       "      <td>...</td>\n",
       "      <td>Sold</td>\n",
       "      <td>NaN</td>\n",
       "      <td>NaN</td>\n",
       "      <td>https://www.redfin.com/FL/Miami-Gardens/20310-...</td>\n",
       "      <td>Beaches MLS</td>\n",
       "      <td>F10410675</td>\n",
       "      <td>N</td>\n",
       "      <td>Y</td>\n",
       "      <td>25.960597</td>\n",
       "      <td>-80.198863</td>\n",
       "    </tr>\n",
       "    <tr>\n",
       "      <th>785</th>\n",
       "      <td>PAST SALE</td>\n",
       "      <td>April-15-2024</td>\n",
       "      <td>Condo/Co-op</td>\n",
       "      <td>18700 NE 3rd Ct #625</td>\n",
       "      <td>Miami</td>\n",
       "      <td>FL</td>\n",
       "      <td>33179.0</td>\n",
       "      <td>120000.0</td>\n",
       "      <td>2.0</td>\n",
       "      <td>1.5</td>\n",
       "      <td>...</td>\n",
       "      <td>Sold</td>\n",
       "      <td>NaN</td>\n",
       "      <td>NaN</td>\n",
       "      <td>https://www.redfin.com/FL/Miami/18700-NE-3rd-C...</td>\n",
       "      <td>MARMLS</td>\n",
       "      <td>A11423074</td>\n",
       "      <td>N</td>\n",
       "      <td>Y</td>\n",
       "      <td>25.947261</td>\n",
       "      <td>-80.194442</td>\n",
       "    </tr>\n",
       "    <tr>\n",
       "      <th>768</th>\n",
       "      <td>PAST SALE</td>\n",
       "      <td>April-3-2024</td>\n",
       "      <td>Condo/Co-op</td>\n",
       "      <td>1750 NE 191st St Unit 616-3</td>\n",
       "      <td>Miami</td>\n",
       "      <td>FL</td>\n",
       "      <td>33179.0</td>\n",
       "      <td>130000.0</td>\n",
       "      <td>1.0</td>\n",
       "      <td>1.5</td>\n",
       "      <td>...</td>\n",
       "      <td>Sold</td>\n",
       "      <td>NaN</td>\n",
       "      <td>NaN</td>\n",
       "      <td>https://www.redfin.com/FL/Miami/1750-NE-191st-...</td>\n",
       "      <td>MARMLS</td>\n",
       "      <td>A11504796</td>\n",
       "      <td>N</td>\n",
       "      <td>Y</td>\n",
       "      <td>25.949213</td>\n",
       "      <td>-80.167410</td>\n",
       "    </tr>\n",
       "    <tr>\n",
       "      <th>755</th>\n",
       "      <td>PAST SALE</td>\n",
       "      <td>April-1-2024</td>\n",
       "      <td>Condo/Co-op</td>\n",
       "      <td>1351 NE Miami Gardens Dr Unit 903E</td>\n",
       "      <td>Miami</td>\n",
       "      <td>FL</td>\n",
       "      <td>33179.0</td>\n",
       "      <td>130000.0</td>\n",
       "      <td>1.0</td>\n",
       "      <td>2.0</td>\n",
       "      <td>...</td>\n",
       "      <td>Sold</td>\n",
       "      <td>NaN</td>\n",
       "      <td>NaN</td>\n",
       "      <td>https://www.redfin.com/FL/Miami/1351-NE-Miami-...</td>\n",
       "      <td>MARMLS</td>\n",
       "      <td>A11522440</td>\n",
       "      <td>N</td>\n",
       "      <td>Y</td>\n",
       "      <td>25.945838</td>\n",
       "      <td>-80.174826</td>\n",
       "    </tr>\n",
       "    <tr>\n",
       "      <th>741</th>\n",
       "      <td>PAST SALE</td>\n",
       "      <td>April-11-2024</td>\n",
       "      <td>Condo/Co-op</td>\n",
       "      <td>19201 Collins Ave #801</td>\n",
       "      <td>Sunny Isles Beach</td>\n",
       "      <td>FL</td>\n",
       "      <td>33160.0</td>\n",
       "      <td>133000.0</td>\n",
       "      <td>0.0</td>\n",
       "      <td>1.0</td>\n",
       "      <td>...</td>\n",
       "      <td>Sold</td>\n",
       "      <td>NaN</td>\n",
       "      <td>NaN</td>\n",
       "      <td>https://www.redfin.com/FL/Sunny-Isles-Beach/19...</td>\n",
       "      <td>MARMLS</td>\n",
       "      <td>A11529754</td>\n",
       "      <td>N</td>\n",
       "      <td>Y</td>\n",
       "      <td>25.954318</td>\n",
       "      <td>-80.119900</td>\n",
       "    </tr>\n",
       "    <tr>\n",
       "      <th>730</th>\n",
       "      <td>PAST SALE</td>\n",
       "      <td>April-26-2024</td>\n",
       "      <td>Condo/Co-op</td>\n",
       "      <td>20180 NE 2nd Ave Unit X14</td>\n",
       "      <td>Miami Gardens</td>\n",
       "      <td>FL</td>\n",
       "      <td>33179.0</td>\n",
       "      <td>134000.0</td>\n",
       "      <td>2.0</td>\n",
       "      <td>2.0</td>\n",
       "      <td>...</td>\n",
       "      <td>Sold</td>\n",
       "      <td>NaN</td>\n",
       "      <td>NaN</td>\n",
       "      <td>https://www.redfin.com/FL/Miami/20180-NE-2nd-A...</td>\n",
       "      <td>MARMLS</td>\n",
       "      <td>A11548211</td>\n",
       "      <td>N</td>\n",
       "      <td>Y</td>\n",
       "      <td>25.958678</td>\n",
       "      <td>-80.199501</td>\n",
       "    </tr>\n",
       "    <tr>\n",
       "      <th>778</th>\n",
       "      <td>PAST SALE</td>\n",
       "      <td>April-8-2024</td>\n",
       "      <td>Single Family Residential</td>\n",
       "      <td>5300 NW 87th Ave #1405</td>\n",
       "      <td>Doral</td>\n",
       "      <td>FL</td>\n",
       "      <td>33178.0</td>\n",
       "      <td>140000.0</td>\n",
       "      <td>1.0</td>\n",
       "      <td>1.0</td>\n",
       "      <td>...</td>\n",
       "      <td>Sold</td>\n",
       "      <td>NaN</td>\n",
       "      <td>NaN</td>\n",
       "      <td>https://www.redfin.com/FL/Doral/5300-NW-87th-A...</td>\n",
       "      <td>Beaches MLS</td>\n",
       "      <td>RX-10926306</td>\n",
       "      <td>N</td>\n",
       "      <td>Y</td>\n",
       "      <td>25.820668</td>\n",
       "      <td>-80.338239</td>\n",
       "    </tr>\n",
       "    <tr>\n",
       "      <th>754</th>\n",
       "      <td>PAST SALE</td>\n",
       "      <td>April-1-2024</td>\n",
       "      <td>Condo/Co-op</td>\n",
       "      <td>6501 NW 12th Ave #8</td>\n",
       "      <td>Miami</td>\n",
       "      <td>FL</td>\n",
       "      <td>33150.0</td>\n",
       "      <td>141000.0</td>\n",
       "      <td>1.0</td>\n",
       "      <td>1.0</td>\n",
       "      <td>...</td>\n",
       "      <td>Sold</td>\n",
       "      <td>NaN</td>\n",
       "      <td>NaN</td>\n",
       "      <td>https://www.redfin.com/FL/Miami/6501-NW-12th-A...</td>\n",
       "      <td>MARMLS</td>\n",
       "      <td>A11523052</td>\n",
       "      <td>N</td>\n",
       "      <td>Y</td>\n",
       "      <td>25.834390</td>\n",
       "      <td>-80.216555</td>\n",
       "    </tr>\n",
       "    <tr>\n",
       "      <th>729</th>\n",
       "      <td>PAST SALE</td>\n",
       "      <td>April-24-2024</td>\n",
       "      <td>Condo/Co-op</td>\n",
       "      <td>1780 NE 191st St Unit 804-2</td>\n",
       "      <td>Miami</td>\n",
       "      <td>FL</td>\n",
       "      <td>33179.0</td>\n",
       "      <td>145500.0</td>\n",
       "      <td>1.0</td>\n",
       "      <td>1.5</td>\n",
       "      <td>...</td>\n",
       "      <td>Sold</td>\n",
       "      <td>NaN</td>\n",
       "      <td>NaN</td>\n",
       "      <td>https://www.redfin.com/FL/Miami/1780-NE-191st-...</td>\n",
       "      <td>MARMLS</td>\n",
       "      <td>A11552816</td>\n",
       "      <td>N</td>\n",
       "      <td>Y</td>\n",
       "      <td>25.949923</td>\n",
       "      <td>-80.166133</td>\n",
       "    </tr>\n",
       "    <tr>\n",
       "      <th>733</th>\n",
       "      <td>PAST SALE</td>\n",
       "      <td>April-30-2024</td>\n",
       "      <td>Condo/Co-op</td>\n",
       "      <td>5300 NW 87th Ave #1406</td>\n",
       "      <td>Doral</td>\n",
       "      <td>FL</td>\n",
       "      <td>33178.0</td>\n",
       "      <td>149000.0</td>\n",
       "      <td>1.0</td>\n",
       "      <td>1.0</td>\n",
       "      <td>...</td>\n",
       "      <td>Sold</td>\n",
       "      <td>NaN</td>\n",
       "      <td>NaN</td>\n",
       "      <td>https://www.redfin.com/FL/Doral/5300-NW-87th-A...</td>\n",
       "      <td>MARMLS</td>\n",
       "      <td>A11547875</td>\n",
       "      <td>N</td>\n",
       "      <td>Y</td>\n",
       "      <td>25.820668</td>\n",
       "      <td>-80.338239</td>\n",
       "    </tr>\n",
       "    <tr>\n",
       "      <th>775</th>\n",
       "      <td>PAST SALE</td>\n",
       "      <td>April-30-2024</td>\n",
       "      <td>Condo/Co-op</td>\n",
       "      <td>19201 Collins Ave #201</td>\n",
       "      <td>Sunny Isles Beach</td>\n",
       "      <td>FL</td>\n",
       "      <td>33160.0</td>\n",
       "      <td>150000.0</td>\n",
       "      <td>0.0</td>\n",
       "      <td>1.0</td>\n",
       "      <td>...</td>\n",
       "      <td>Sold</td>\n",
       "      <td>NaN</td>\n",
       "      <td>NaN</td>\n",
       "      <td>https://www.redfin.com/FL/Sunny-Isles-Beach/19...</td>\n",
       "      <td>Beaches MLS</td>\n",
       "      <td>F10412160</td>\n",
       "      <td>N</td>\n",
       "      <td>Y</td>\n",
       "      <td>25.954318</td>\n",
       "      <td>-80.119900</td>\n",
       "    </tr>\n",
       "  </tbody>\n",
       "</table>\n",
       "<p>20 rows × 27 columns</p>\n",
       "</div>"
      ],
      "text/plain": [
       "     SALE TYPE      SOLD DATE              PROPERTY TYPE  \\\n",
       "764  PAST SALE   April-5-2024                Condo/Co-op   \n",
       "742  PAST SALE   April-1-2024                Condo/Co-op   \n",
       "727  PAST SALE  April-26-2024                Condo/Co-op   \n",
       "781  PAST SALE  April-11-2024                Condo/Co-op   \n",
       "777  PAST SALE  April-29-2024                Condo/Co-op   \n",
       "751  PAST SALE   April-2-2024                Condo/Co-op   \n",
       "774  PAST SALE  April-16-2024                Condo/Co-op   \n",
       "758  PAST SALE  April-12-2024                Condo/Co-op   \n",
       "726  PAST SALE  April-15-2024                Condo/Co-op   \n",
       "771  PAST SALE  April-11-2024                Condo/Co-op   \n",
       "785  PAST SALE  April-15-2024                Condo/Co-op   \n",
       "768  PAST SALE   April-3-2024                Condo/Co-op   \n",
       "755  PAST SALE   April-1-2024                Condo/Co-op   \n",
       "741  PAST SALE  April-11-2024                Condo/Co-op   \n",
       "730  PAST SALE  April-26-2024                Condo/Co-op   \n",
       "778  PAST SALE   April-8-2024  Single Family Residential   \n",
       "754  PAST SALE   April-1-2024                Condo/Co-op   \n",
       "729  PAST SALE  April-24-2024                Condo/Co-op   \n",
       "733  PAST SALE  April-30-2024                Condo/Co-op   \n",
       "775  PAST SALE  April-30-2024                Condo/Co-op   \n",
       "\n",
       "                                ADDRESS               CITY STATE OR PROVINCE  \\\n",
       "764              12500 NE 15th Ave #409        North Miami                FL   \n",
       "742                 5055 NW 7th St #405              Miami                FL   \n",
       "727          7787 SW 86th St Unit E-212              Miami                FL   \n",
       "781         7545 E Treasure Dr Unit 10H  North Bay Village                FL   \n",
       "777              1000 Quayside Ter #702              Miami                FL   \n",
       "751            20180 NE 2nd Ave Unit X7      Miami Gardens                FL   \n",
       "774                160 NE 203rd Ter #15      Miami Gardens                FL   \n",
       "758               285 NE 191st St #2908              Miami                FL   \n",
       "726          1350 NE 191st St Unit B207              Miami                FL   \n",
       "771           20310 NE 2nd Ave Unit K21      Miami Gardens                FL   \n",
       "785                18700 NE 3rd Ct #625              Miami                FL   \n",
       "768         1750 NE 191st St Unit 616-3              Miami                FL   \n",
       "755  1351 NE Miami Gardens Dr Unit 903E              Miami                FL   \n",
       "741              19201 Collins Ave #801  Sunny Isles Beach                FL   \n",
       "730           20180 NE 2nd Ave Unit X14      Miami Gardens                FL   \n",
       "778              5300 NW 87th Ave #1405              Doral                FL   \n",
       "754                 6501 NW 12th Ave #8              Miami                FL   \n",
       "729         1780 NE 191st St Unit 804-2              Miami                FL   \n",
       "733              5300 NW 87th Ave #1406              Doral                FL   \n",
       "775              19201 Collins Ave #201  Sunny Isles Beach                FL   \n",
       "\n",
       "     ZIP OR POSTAL CODE     PRICE  BEDS  BATHS  ... STATUS  \\\n",
       "764             33161.0     109.0   0.0    1.0  ...   Sold   \n",
       "742             33126.0     170.0   1.0    1.0  ...   Sold   \n",
       "727             33143.0     238.0   1.0    1.5  ...   Sold   \n",
       "781             33141.0     470.0   3.0    2.0  ...   Sold   \n",
       "777             33138.0    4500.0   2.0    2.0  ...   Sold   \n",
       "751             33179.0   82500.0   1.0    1.0  ...   Sold   \n",
       "774             33179.0   90000.0   1.0    1.0  ...   Sold   \n",
       "758             33179.0   92500.0   1.0    1.0  ...   Sold   \n",
       "726             33179.0   93500.0   1.0    1.0  ...   Sold   \n",
       "771             33179.0   95000.0   1.0    1.0  ...   Sold   \n",
       "785             33179.0  120000.0   2.0    1.5  ...   Sold   \n",
       "768             33179.0  130000.0   1.0    1.5  ...   Sold   \n",
       "755             33179.0  130000.0   1.0    2.0  ...   Sold   \n",
       "741             33160.0  133000.0   0.0    1.0  ...   Sold   \n",
       "730             33179.0  134000.0   2.0    2.0  ...   Sold   \n",
       "778             33178.0  140000.0   1.0    1.0  ...   Sold   \n",
       "754             33150.0  141000.0   1.0    1.0  ...   Sold   \n",
       "729             33179.0  145500.0   1.0    1.5  ...   Sold   \n",
       "733             33178.0  149000.0   1.0    1.0  ...   Sold   \n",
       "775             33160.0  150000.0   0.0    1.0  ...   Sold   \n",
       "\n",
       "     NEXT OPEN HOUSE START TIME  NEXT OPEN HOUSE END TIME  \\\n",
       "764                         NaN                       NaN   \n",
       "742                         NaN                       NaN   \n",
       "727                         NaN                       NaN   \n",
       "781                         NaN                       NaN   \n",
       "777                         NaN                       NaN   \n",
       "751                         NaN                       NaN   \n",
       "774                         NaN                       NaN   \n",
       "758                         NaN                       NaN   \n",
       "726                         NaN                       NaN   \n",
       "771                         NaN                       NaN   \n",
       "785                         NaN                       NaN   \n",
       "768                         NaN                       NaN   \n",
       "755                         NaN                       NaN   \n",
       "741                         NaN                       NaN   \n",
       "730                         NaN                       NaN   \n",
       "778                         NaN                       NaN   \n",
       "754                         NaN                       NaN   \n",
       "729                         NaN                       NaN   \n",
       "733                         NaN                       NaN   \n",
       "775                         NaN                       NaN   \n",
       "\n",
       "                                                   URL       SOURCE  \\\n",
       "764  https://www.redfin.com/FL/North-Miami/12500-NE...       MARMLS   \n",
       "742  https://www.redfin.com/FL/Miami/5055-NW-7th-St...       MARMLS   \n",
       "727  https://www.redfin.com/FL/Miami/7787-SW-86th-S...       MARMLS   \n",
       "781  https://www.redfin.com/FL/North-Bay-Village/75...       MARMLS   \n",
       "777  https://www.redfin.com/FL/Miami/1000-Quayside-...       MARMLS   \n",
       "751  https://www.redfin.com/FL/Miami/20180-NE-2nd-A...  Beaches MLS   \n",
       "774  https://www.redfin.com/FL/Miami/160-NE-203rd-T...       MARMLS   \n",
       "758  https://www.redfin.com/FL/Miami/285-NE-191st-S...  Beaches MLS   \n",
       "726  https://www.redfin.com/FL/Miami/1350-NE-191st-...  Beaches MLS   \n",
       "771  https://www.redfin.com/FL/Miami-Gardens/20310-...  Beaches MLS   \n",
       "785  https://www.redfin.com/FL/Miami/18700-NE-3rd-C...       MARMLS   \n",
       "768  https://www.redfin.com/FL/Miami/1750-NE-191st-...       MARMLS   \n",
       "755  https://www.redfin.com/FL/Miami/1351-NE-Miami-...       MARMLS   \n",
       "741  https://www.redfin.com/FL/Sunny-Isles-Beach/19...       MARMLS   \n",
       "730  https://www.redfin.com/FL/Miami/20180-NE-2nd-A...       MARMLS   \n",
       "778  https://www.redfin.com/FL/Doral/5300-NW-87th-A...  Beaches MLS   \n",
       "754  https://www.redfin.com/FL/Miami/6501-NW-12th-A...       MARMLS   \n",
       "729  https://www.redfin.com/FL/Miami/1780-NE-191st-...       MARMLS   \n",
       "733  https://www.redfin.com/FL/Doral/5300-NW-87th-A...       MARMLS   \n",
       "775  https://www.redfin.com/FL/Sunny-Isles-Beach/19...  Beaches MLS   \n",
       "\n",
       "            MLS#  FAVORITE INTERESTED   LATITUDE  LONGITUDE  \n",
       "764    A11498973         N          Y  25.890836 -80.168630  \n",
       "742    A11527754         N          Y  25.778899 -80.277952  \n",
       "727    A11563046         N          Y  25.691508 -80.320892  \n",
       "781    A11443429         N          Y  25.846580 -80.145955  \n",
       "777    A11469179         N          Y  25.873714 -80.168380  \n",
       "751    F10421852         N          Y  25.958678 -80.199501  \n",
       "774    A11495112         N          Y  25.961793 -80.199898  \n",
       "758    F10418434         N          Y  25.950549 -80.195595  \n",
       "726    F10431287         N          Y  25.950932 -80.174217  \n",
       "771    F10410675         N          Y  25.960597 -80.198863  \n",
       "785    A11423074         N          Y  25.947261 -80.194442  \n",
       "768    A11504796         N          Y  25.949213 -80.167410  \n",
       "755    A11522440         N          Y  25.945838 -80.174826  \n",
       "741    A11529754         N          Y  25.954318 -80.119900  \n",
       "730    A11548211         N          Y  25.958678 -80.199501  \n",
       "778  RX-10926306         N          Y  25.820668 -80.338239  \n",
       "754    A11523052         N          Y  25.834390 -80.216555  \n",
       "729    A11552816         N          Y  25.949923 -80.166133  \n",
       "733    A11547875         N          Y  25.820668 -80.338239  \n",
       "775    F10412160         N          Y  25.954318 -80.119900  \n",
       "\n",
       "[20 rows x 27 columns]"
      ]
     },
     "execution_count": 17,
     "metadata": {},
     "output_type": "execute_result"
    }
   ],
   "source": [
    "df_filtered.sort_values(by='PRICE',ascending=True).head(20)"
   ]
  },
  {
   "cell_type": "code",
   "execution_count": 26,
   "id": "e6256bce",
   "metadata": {},
   "outputs": [
    {
     "name": "stdout",
     "output_type": "stream",
     "text": [
      "https://www.redfin.com/FL/North-Bay-Village/7545-E-Treasure-Dr-33141/unit-10H/home/43353207\n"
     ]
    }
   ],
   "source": [
    "print(df_filtered['URL'].iloc[781])"
   ]
  },
  {
   "cell_type": "code",
   "execution_count": 27,
   "id": "fe440217",
   "metadata": {},
   "outputs": [],
   "source": [
    "# Correct the prices, if needed\n",
    "df_filtered.at[764,'PRICE']=(109_000)\n",
    "df_filtered.at[742,'PRICE']=(170_000)\n",
    "df_filtered.at[727,'PRICE']=(238_000)\n",
    "df_filtered.at[781,'PRICE']=(470_000)\n",
    "df_filtered.at[777,'PRICE']=(450_000)\n",
    "\n",
    "# Correct the psf, if needed\n",
    "df_filtered.at[764,'$/SQUARE FEET']=(109_000/612)\n",
    "df_filtered.at[742,'$/SQUARE FEET']=(170_000/525)\n",
    "df_filtered.at[727,'$/SQUARE FEET']=(238_000/809)\n",
    "df_filtered.at[727,'$/SQUARE FEET']=(470_000/1302)\n",
    "df_filtered.at[777,'$/SQUARE FEET']=(450_000/1544)\n",
    "df_filtered.at[781,'$/SQUARE FEET']=(470_000/1302)"
   ]
  },
  {
   "cell_type": "code",
   "execution_count": 21,
   "id": "e3877a57",
   "metadata": {},
   "outputs": [],
   "source": [
    "### If needed, drop the row with the lowest price\n",
    "# min_value_index = df_filtered['PRICE'].idxmin()\n",
    "# df_filtered = df_filtered.drop(min_value_index)"
   ]
  },
  {
   "cell_type": "code",
   "execution_count": 28,
   "id": "42d775ef",
   "metadata": {},
   "outputs": [
    {
     "data": {
      "text/html": [
       "<div>\n",
       "<style scoped>\n",
       "    .dataframe tbody tr th:only-of-type {\n",
       "        vertical-align: middle;\n",
       "    }\n",
       "\n",
       "    .dataframe tbody tr th {\n",
       "        vertical-align: top;\n",
       "    }\n",
       "\n",
       "    .dataframe thead th {\n",
       "        text-align: right;\n",
       "    }\n",
       "</style>\n",
       "<table border=\"1\" class=\"dataframe\">\n",
       "  <thead>\n",
       "    <tr style=\"text-align: right;\">\n",
       "      <th></th>\n",
       "      <th>PRICE</th>\n",
       "      <th>ADDRESS</th>\n",
       "      <th>CITY</th>\n",
       "      <th>$/SQUARE FEET</th>\n",
       "    </tr>\n",
       "  </thead>\n",
       "  <tbody>\n",
       "    <tr>\n",
       "      <th>726</th>\n",
       "      <td>93500.0</td>\n",
       "      <td>1350 NE 191st St Unit B207</td>\n",
       "      <td>Miami</td>\n",
       "      <td>113.0</td>\n",
       "    </tr>\n",
       "    <tr>\n",
       "      <th>780</th>\n",
       "      <td>158000.0</td>\n",
       "      <td>1770 NE 191st St Unit 602-1</td>\n",
       "      <td>Miami</td>\n",
       "      <td>120.0</td>\n",
       "    </tr>\n",
       "    <tr>\n",
       "      <th>750</th>\n",
       "      <td>159000.0</td>\n",
       "      <td>1780 NE 191st St Unit 701-2</td>\n",
       "      <td>Miami</td>\n",
       "      <td>121.0</td>\n",
       "    </tr>\n",
       "    <tr>\n",
       "      <th>768</th>\n",
       "      <td>130000.0</td>\n",
       "      <td>1750 NE 191st St Unit 616-3</td>\n",
       "      <td>Miami</td>\n",
       "      <td>125.0</td>\n",
       "    </tr>\n",
       "    <tr>\n",
       "      <th>751</th>\n",
       "      <td>82500.0</td>\n",
       "      <td>20180 NE 2nd Ave Unit X7</td>\n",
       "      <td>Miami Gardens</td>\n",
       "      <td>125.0</td>\n",
       "    </tr>\n",
       "    <tr>\n",
       "      <th>774</th>\n",
       "      <td>90000.0</td>\n",
       "      <td>160 NE 203rd Ter #15</td>\n",
       "      <td>Miami Gardens</td>\n",
       "      <td>130.0</td>\n",
       "    </tr>\n",
       "    <tr>\n",
       "      <th>746</th>\n",
       "      <td>172000.0</td>\n",
       "      <td>1780 NE 191 St Unit 100-2</td>\n",
       "      <td>Miami</td>\n",
       "      <td>131.0</td>\n",
       "    </tr>\n",
       "    <tr>\n",
       "      <th>730</th>\n",
       "      <td>134000.0</td>\n",
       "      <td>20180 NE 2nd Ave Unit X14</td>\n",
       "      <td>Miami Gardens</td>\n",
       "      <td>132.0</td>\n",
       "    </tr>\n",
       "    <tr>\n",
       "      <th>773</th>\n",
       "      <td>180000.0</td>\n",
       "      <td>1750 NE 191st St Unit 225-4</td>\n",
       "      <td>Miami</td>\n",
       "      <td>137.0</td>\n",
       "    </tr>\n",
       "    <tr>\n",
       "      <th>771</th>\n",
       "      <td>95000.0</td>\n",
       "      <td>20310 NE 2nd Ave Unit K21</td>\n",
       "      <td>Miami Gardens</td>\n",
       "      <td>137.0</td>\n",
       "    </tr>\n",
       "    <tr>\n",
       "      <th>729</th>\n",
       "      <td>145500.0</td>\n",
       "      <td>1780 NE 191st St Unit 804-2</td>\n",
       "      <td>Miami</td>\n",
       "      <td>140.0</td>\n",
       "    </tr>\n",
       "    <tr>\n",
       "      <th>785</th>\n",
       "      <td>120000.0</td>\n",
       "      <td>18700 NE 3rd Ct #625</td>\n",
       "      <td>Miami</td>\n",
       "      <td>141.0</td>\n",
       "    </tr>\n",
       "    <tr>\n",
       "      <th>783</th>\n",
       "      <td>150000.0</td>\n",
       "      <td>13499 Biscayne Blvd #1001</td>\n",
       "      <td>Miami</td>\n",
       "      <td>143.0</td>\n",
       "    </tr>\n",
       "    <tr>\n",
       "      <th>755</th>\n",
       "      <td>130000.0</td>\n",
       "      <td>1351 NE Miami Gardens Dr Unit 903E</td>\n",
       "      <td>Miami</td>\n",
       "      <td>151.0</td>\n",
       "    </tr>\n",
       "    <tr>\n",
       "      <th>351</th>\n",
       "      <td>300000.0</td>\n",
       "      <td>1800 NE 114th St #1006</td>\n",
       "      <td>Miami</td>\n",
       "      <td>154.0</td>\n",
       "    </tr>\n",
       "    <tr>\n",
       "      <th>255</th>\n",
       "      <td>207000.0</td>\n",
       "      <td>2504 SE 19th Pl Unit 202-A</td>\n",
       "      <td>Homestead</td>\n",
       "      <td>158.0</td>\n",
       "    </tr>\n",
       "    <tr>\n",
       "      <th>787</th>\n",
       "      <td>165000.0</td>\n",
       "      <td>13455 NE 10th Ave #307</td>\n",
       "      <td>North Miami</td>\n",
       "      <td>161.0</td>\n",
       "    </tr>\n",
       "    <tr>\n",
       "      <th>253</th>\n",
       "      <td>200000.0</td>\n",
       "      <td>8401 SW 107th Ave Unit 132E</td>\n",
       "      <td>Miami</td>\n",
       "      <td>162.0</td>\n",
       "    </tr>\n",
       "    <tr>\n",
       "      <th>262</th>\n",
       "      <td>215000.0</td>\n",
       "      <td>2780 NE 183rd St #217</td>\n",
       "      <td>Aventura</td>\n",
       "      <td>165.0</td>\n",
       "    </tr>\n",
       "    <tr>\n",
       "      <th>759</th>\n",
       "      <td>199000.0</td>\n",
       "      <td>274 NE 141st St Unit 3C</td>\n",
       "      <td>Miami</td>\n",
       "      <td>166.0</td>\n",
       "    </tr>\n",
       "  </tbody>\n",
       "</table>\n",
       "</div>"
      ],
      "text/plain": [
       "        PRICE                             ADDRESS           CITY  \\\n",
       "726   93500.0          1350 NE 191st St Unit B207          Miami   \n",
       "780  158000.0         1770 NE 191st St Unit 602-1          Miami   \n",
       "750  159000.0         1780 NE 191st St Unit 701-2          Miami   \n",
       "768  130000.0         1750 NE 191st St Unit 616-3          Miami   \n",
       "751   82500.0            20180 NE 2nd Ave Unit X7  Miami Gardens   \n",
       "774   90000.0                160 NE 203rd Ter #15  Miami Gardens   \n",
       "746  172000.0           1780 NE 191 St Unit 100-2          Miami   \n",
       "730  134000.0           20180 NE 2nd Ave Unit X14  Miami Gardens   \n",
       "773  180000.0         1750 NE 191st St Unit 225-4          Miami   \n",
       "771   95000.0           20310 NE 2nd Ave Unit K21  Miami Gardens   \n",
       "729  145500.0         1780 NE 191st St Unit 804-2          Miami   \n",
       "785  120000.0                18700 NE 3rd Ct #625          Miami   \n",
       "783  150000.0           13499 Biscayne Blvd #1001          Miami   \n",
       "755  130000.0  1351 NE Miami Gardens Dr Unit 903E          Miami   \n",
       "351  300000.0              1800 NE 114th St #1006          Miami   \n",
       "255  207000.0          2504 SE 19th Pl Unit 202-A      Homestead   \n",
       "787  165000.0              13455 NE 10th Ave #307    North Miami   \n",
       "253  200000.0         8401 SW 107th Ave Unit 132E          Miami   \n",
       "262  215000.0               2780 NE 183rd St #217       Aventura   \n",
       "759  199000.0             274 NE 141st St Unit 3C          Miami   \n",
       "\n",
       "     $/SQUARE FEET  \n",
       "726          113.0  \n",
       "780          120.0  \n",
       "750          121.0  \n",
       "768          125.0  \n",
       "751          125.0  \n",
       "774          130.0  \n",
       "746          131.0  \n",
       "730          132.0  \n",
       "773          137.0  \n",
       "771          137.0  \n",
       "729          140.0  \n",
       "785          141.0  \n",
       "783          143.0  \n",
       "755          151.0  \n",
       "351          154.0  \n",
       "255          158.0  \n",
       "787          161.0  \n",
       "253          162.0  \n",
       "262          165.0  \n",
       "759          166.0  "
      ]
     },
     "execution_count": 28,
     "metadata": {},
     "output_type": "execute_result"
    }
   ],
   "source": [
    "# Find problem psf by searching for low values\n",
    "df_filtered.sort_values(by='$/SQUARE FEET',ascending=True).head(20)[['PRICE','ADDRESS','CITY','$/SQUARE FEET']]"
   ]
  },
  {
   "cell_type": "code",
   "execution_count": 23,
   "id": "6895cf71",
   "metadata": {},
   "outputs": [],
   "source": [
    "# # Drop sales that aren't condos but labeled as such\n",
    "# df_filtered = df_filtered.drop(1320)"
   ]
  },
  {
   "cell_type": "markdown",
   "id": "103ad9df",
   "metadata": {},
   "source": [
    "## Make Maps"
   ]
  },
  {
   "cell_type": "code",
   "execution_count": 29,
   "id": "42ad9d63",
   "metadata": {},
   "outputs": [],
   "source": [
    "### Create a price column formatted as currency ###\n",
    "df_filtered['PRICE_AS_CURRENCY'] = df_filtered['PRICE'].apply(lambda x: \"${:,.0f}\".format(x))\n",
    "### Set formatting for Beds, Baths ###\n",
    "df_filtered['YEAR BUILT DISPLAY'] = df_filtered['YEAR BUILT'].apply(lambda x: '{:.0f}'.format(x))\n",
    "df_filtered['PRICE_SQUARE_FEET_AS_CURRENCY'] = df_filtered['$/SQUARE FEET'].apply(lambda x: '${:,.0f}'.format(x))"
   ]
  },
  {
   "cell_type": "code",
   "execution_count": 30,
   "id": "f42ba6b5",
   "metadata": {},
   "outputs": [],
   "source": [
    "df_filtered = df_filtered.sort_values(by=['PRICE'], ascending=False)\n",
    "### Insert different colors for top 10 sales vs. the rest ###\n",
    "df_filtered['COLOR'] = ''\n",
    "### Create RANK column ###\n",
    "df_filtered['RANK'] = 0\n",
    "### Insert RANK values ###\n",
    "df_filtered['RANK'] = range(1, len(df_filtered) + 1)\n",
    "# use numpy to assign values to the 'COLOR' column\n",
    "df_filtered['COLOR'] = np.where(df_filtered['RANK'] <= 10, 'orange', 'blue')"
   ]
  },
  {
   "cell_type": "markdown",
   "id": "99380454",
   "metadata": {},
   "source": [
    "## HTML Popup Formatter"
   ]
  },
  {
   "cell_type": "code",
   "execution_count": 31,
   "id": "6ffa151c",
   "metadata": {},
   "outputs": [],
   "source": [
    "### Define list of columns to drop from DF ###\n",
    "columns_drop = ['SALE TYPE','PROPERTY TYPE','STATE OR PROVINCE','ZIP OR POSTAL CODE','HOA/MONTH','STATUS','NEXT OPEN HOUSE START TIME','NEXT OPEN HOUSE END TIME','SOURCE','MLS#','FAVORITE','INTERESTED','SQUARE FEET','LOT SIZE']"
   ]
  },
  {
   "cell_type": "code",
   "execution_count": 32,
   "id": "b214f9e8",
   "metadata": {},
   "outputs": [],
   "source": [
    "### Drop the columns ###\n",
    "df_filtered = df_filtered.drop(columns=columns_drop)"
   ]
  },
  {
   "cell_type": "code",
   "execution_count": 33,
   "id": "d12c2830",
   "metadata": {},
   "outputs": [],
   "source": [
    "def popup_html(row):\n",
    "    Price = row['PRICE_AS_CURRENCY']\n",
    "    Address = row['ADDRESS']\n",
    "    City = row['CITY']\n",
    "    sold_date = row['SOLD DATE']\n",
    "    beds = row['BEDS']\n",
    "    baths = row['BATHS']\n",
    "    psf = row['PRICE_SQUARE_FEET_AS_CURRENCY']\n",
    "    year_built = row['YEAR BUILT DISPLAY']\n",
    "    rank = row['RANK']\n",
    "    \n",
    "    html = '''<!DOCTYPE html>\n",
    "    <html>\n",
    "    <strong>Price: </strong>{}'''.format(Price) + '''<br>\n",
    "    <strong>Address: </strong>{}'''.format(Address) + '''<br>\n",
    "    <strong>City: </strong>{}'''.format(City) + '''<br>\n",
    "    <strong>Sold: </strong>{}'''.format(sold_date) + '''<br>\n",
    "    <strong>Beds: </strong>{}'''.format(beds) + '''<br>\n",
    "    <strong>Baths: </strong>{}'''.format(baths) + '''<br>\n",
    "    <strong>Price per sf: </strong>{}'''.format(psf) + '''<br>\n",
    "    <strong>Year Built: </strong>{}'''.format(year_built) + '''<br>\n",
    "    <strong>Price Rank: </strong>{}'''.format(rank) + '''\n",
    "    </html>\n",
    "    '''\n",
    "    return html"
   ]
  },
  {
   "cell_type": "code",
   "execution_count": 34,
   "id": "b7fe13d2",
   "metadata": {},
   "outputs": [
    {
     "data": {
      "text/plain": [
       "<folium.map.LayerControl at 0x7f8a783c1070>"
      ]
     },
     "execution_count": 34,
     "metadata": {},
     "output_type": "execute_result"
    }
   ],
   "source": [
    "### Create map container ###\n",
    "m = folium.Map(location=df_filtered[[\"LATITUDE\", \"LONGITUDE\"]].mean().to_list(),zoom_start=10,tiles=None)\n",
    "\n",
    "### Create title ###\n",
    "title_html = '''\n",
    "              <h3 align=\"center\" style=\"font-size:16px\"><b>{}</b></h3>\n",
    "             '''.format(f\"{previous_month_name} 2024 Condo Sales\")\n",
    "\n",
    "m.get_root().html.add_child(folium.Element(title_html))\n",
    "\n",
    "# Create two FeatureGroups for different color pins\n",
    "fg_blue = folium.FeatureGroup(name='All other sales')\n",
    "fg_orange = folium.FeatureGroup(name='Top 10 Sales')\n",
    "\n",
    "folium.GeoJson(gdf,tooltip='Miami-Dade County',name='Miami-Dade County').add_to(m)\n",
    "\n",
    "for index, row in df_filtered.iterrows():\n",
    "    # Add the markers to the appropriate FeatureGroup based on the color\n",
    "    if row['COLOR'] == 'blue':\n",
    "        marker = folium.Marker(\n",
    "            location=[row['LATITUDE'], row['LONGITUDE']],\n",
    "            radius=5,\n",
    "            fill=True,\n",
    "            icon=folium.Icon(color=row['COLOR']),\n",
    "            popup=folium.Popup(popup_html(row), max_width=400))\n",
    "        marker.add_to(fg_blue)\n",
    "    else:\n",
    "        marker = folium.Marker(\n",
    "            location=[row['LATITUDE'], row['LONGITUDE']],\n",
    "            radius=5,\n",
    "            fill=True,\n",
    "            icon=folium.Icon(color=row['COLOR']),\n",
    "            popup=folium.Popup(popup_html(row), max_width=400))\n",
    "        marker.add_to(fg_orange)\n",
    "\n",
    "# Add the FeatureGroups to the map\n",
    "fg_orange.add_to(m)\n",
    "fg_blue.add_to(m)\n",
    "\n",
    "folium.TileLayer('OpenStreetMap',control=False).add_to(m)\n",
    "\n",
    "# Add LayerControl to the map\n",
    "folium.map.LayerControl(collapsed=False).add_to(m)\n",
    "\n",
    "# Display map\n",
    "# m"
   ]
  },
  {
   "cell_type": "code",
   "execution_count": 35,
   "id": "a704af7f",
   "metadata": {},
   "outputs": [],
   "source": [
    "m.save('index.html')"
   ]
  },
  {
   "cell_type": "markdown",
   "id": "81b7dc98",
   "metadata": {},
   "source": [
    "## Summary Info"
   ]
  },
  {
   "cell_type": "code",
   "execution_count": 36,
   "id": "6910bd5b",
   "metadata": {},
   "outputs": [],
   "source": [
    "BR = '\\n'\n",
    "\n",
    "ME = '\\033[1m' + 'Most Expensive' + '\\033[0m'\n",
    "LE = '\\033[1m' + 'Least Expensive' + '\\033[0m'\n",
    "\n",
    "MAX_PSF = '\\033[1m' + 'Highest Price Per Square Foot' + '\\033[0m'\n",
    "MIN_PSF = '\\033[1m' + 'Lowest Price Per Square Foot' + '\\033[0m'\n",
    "\n",
    "Newest = '\\033[1m' + 'Newest' + '\\033[0m'\n",
    "Oldest = '\\033[1m' + 'Oldest' + '\\033[0m'"
   ]
  },
  {
   "cell_type": "code",
   "execution_count": 37,
   "id": "9d2c1b97",
   "metadata": {},
   "outputs": [
    {
     "data": {
      "text/plain": [
       "Index(['SOLD DATE', 'ADDRESS', 'CITY', 'PRICE', 'BEDS', 'BATHS', 'LOCATION',\n",
       "       'YEAR BUILT', 'DAYS ON MARKET', '$/SQUARE FEET', 'URL', 'LATITUDE',\n",
       "       'LONGITUDE', 'PRICE_AS_CURRENCY', 'YEAR BUILT DISPLAY',\n",
       "       'PRICE_SQUARE_FEET_AS_CURRENCY', 'COLOR', 'RANK'],\n",
       "      dtype='object')"
      ]
     },
     "execution_count": 37,
     "metadata": {},
     "output_type": "execute_result"
    }
   ],
   "source": [
    "df_filtered.columns"
   ]
  },
  {
   "cell_type": "code",
   "execution_count": 38,
   "id": "81280824",
   "metadata": {},
   "outputs": [],
   "source": [
    "df_filtered['FULL_ADDRESS'] = df_filtered['ADDRESS'] + ' ' + df_filtered['CITY']"
   ]
  },
  {
   "cell_type": "code",
   "execution_count": 39,
   "id": "4677d727",
   "metadata": {},
   "outputs": [
    {
     "name": "stdout",
     "output_type": "stream",
     "text": [
      "https://www.redfin.com/FL/Miami-Beach/760-Meridian-Ave-33139/unit-4/home/42800208\n"
     ]
    }
   ],
   "source": [
    "print(df_filtered.loc[df_filtered['YEAR BUILT'].idxmin()]['URL'])"
   ]
  },
  {
   "cell_type": "code",
   "execution_count": 40,
   "id": "39ff9917",
   "metadata": {},
   "outputs": [
    {
     "name": "stdout",
     "output_type": "stream",
     "text": [
      "\u001b[1mMost Expensive\u001b[0m\n",
      "AMD PL OF 2ND OCEAN FRONT, 5775 Collins Ave Ph -2 Miami Beach | Price $25,000,000 | $3,869 psf | Year built: 2021\n",
      "\u001b[1mLeast Expensive\u001b[0m\n",
      "Ro-mont South Green Cond, 20180 NE 2nd Ave Unit X7 Miami Gardens | Price $82,500 | $125 psf | Year built: 1974\n",
      "\u001b[1mHighest Price Per Square Foot\u001b[0m\n",
      "CONTINUUM ON SOUTH BEACH, 100 S Pointe Dr Unit 1902 - 1903 Miami Beach | Price $10,850,000 | $4,228 psf | Year built: 2002\n",
      "\u001b[1mLowest Price Per Square Foot\u001b[0m\n",
      "Third Forum, 1350 NE 191st St Unit B207 Miami | Price $93,500 | $113 psf | Year built: 1967\n",
      "\u001b[1mNewest\u001b[0m\n",
      "ORANGE VIEW PK, 6290 NW 22nd Ct #6290 Miami | Price $399,000 | $333 psf | Year built: 2024\n",
      "\u001b[1mOldest\u001b[0m\n",
      "PALM GARDEN CONDO, 760 Meridian Ave #4 Miami Beach | Price $289,000 | $567 psf | Year built: 1923\n"
     ]
    }
   ],
   "source": [
    "print(f\"{ME}{BR}{df_filtered.loc[df_filtered['PRICE'].idxmax()]['LOCATION']}, {df_filtered.loc[df_filtered['PRICE'].idxmax()]['FULL_ADDRESS']} | Price ${df_filtered.loc[df_filtered['PRICE'].idxmax()]['PRICE']:,.0f} | ${df_filtered.loc[df_filtered['PRICE'].idxmax()]['$/SQUARE FEET']:,.0f} psf | Year built: {df_filtered.loc[df_filtered['PRICE'].idxmax()]['YEAR BUILT']:.0f}\")\n",
    "print(f\"{LE}{BR}{df_filtered.loc[df_filtered['PRICE'].idxmin()]['LOCATION']}, {df_filtered.loc[df_filtered['PRICE'].idxmin()]['FULL_ADDRESS']} | Price ${df_filtered.loc[df_filtered['PRICE'].idxmin()]['PRICE']:,.0f} | ${df_filtered.loc[df_filtered['PRICE'].idxmin()]['$/SQUARE FEET']:,.0f} psf | Year built: {df_filtered.loc[df_filtered['PRICE'].idxmin()]['YEAR BUILT']:.0f}\")\n",
    "\n",
    "print(f\"{MAX_PSF}{BR}{df_filtered.loc[df_filtered['$/SQUARE FEET'].idxmax()]['LOCATION']}, {df_filtered.loc[df_filtered['$/SQUARE FEET'].idxmax()]['FULL_ADDRESS']} | Price ${df_filtered.loc[df_filtered['$/SQUARE FEET'].idxmax()]['PRICE']:,.0f} | ${df_filtered.loc[df_filtered['$/SQUARE FEET'].idxmax()]['$/SQUARE FEET']:,.0f} psf | Year built: {df_filtered.loc[df_filtered['$/SQUARE FEET'].idxmax()]['YEAR BUILT']:.0f}\")\n",
    "print(f\"{MIN_PSF}{BR}{df_filtered.loc[df_filtered['$/SQUARE FEET'].idxmin()]['LOCATION']}, {df_filtered.loc[df_filtered['$/SQUARE FEET'].idxmin()]['FULL_ADDRESS']} | Price ${df_filtered.loc[df_filtered['$/SQUARE FEET'].idxmin()]['PRICE']:,.0f} | ${df_filtered.loc[df_filtered['$/SQUARE FEET'].idxmin()]['$/SQUARE FEET']:,.0f} psf | Year built: {df_filtered.loc[df_filtered['$/SQUARE FEET'].idxmin()]['YEAR BUILT']:.0f}\")\n",
    "\n",
    "print(f\"{Newest}{BR}{df_filtered.loc[df_filtered['YEAR BUILT'].idxmax()]['LOCATION']}, {df_filtered.loc[df_filtered['YEAR BUILT'].idxmax()]['FULL_ADDRESS']} | Price ${df_filtered.loc[df_filtered['YEAR BUILT'].idxmax()]['PRICE']:,.0f} | ${df_filtered.loc[df_filtered['YEAR BUILT'].idxmax()]['$/SQUARE FEET']:,.0f} psf | Year built: {df_filtered.loc[df_filtered['YEAR BUILT'].idxmax()]['YEAR BUILT']:.0f}\")\n",
    "print(f\"{Oldest}{BR}{df_filtered.loc[df_filtered['YEAR BUILT'].idxmin()]['LOCATION']}, {df_filtered.loc[df_filtered['YEAR BUILT'].idxmin()]['FULL_ADDRESS']} | Price ${df_filtered.loc[df_filtered['YEAR BUILT'].idxmin()]['PRICE']:,.0f} | ${df_filtered.loc[df_filtered['YEAR BUILT'].idxmin()]['$/SQUARE FEET']:,.0f} psf | Year built: {df_filtered.loc[df_filtered['YEAR BUILT'].idxmin()]['YEAR BUILT']:.0f}\")"
   ]
  },
  {
   "cell_type": "markdown",
   "id": "707dd49b",
   "metadata": {},
   "source": [
    "## Map URL Snagger"
   ]
  },
  {
   "cell_type": "code",
   "execution_count": 41,
   "id": "81e05274",
   "metadata": {},
   "outputs": [
    {
     "name": "stdout",
     "output_type": "stream",
     "text": [
      "https://trd-digital.github.io/trd-news-interactive-maps/MD_condo_sales_month_ending_apr_2024\n"
     ]
    }
   ],
   "source": [
    "base_name = 'https://trd-digital.github.io/trd-news-interactive-maps/'\n",
    "\n",
    "cwd = os.getcwd()\n",
    "\n",
    "cwd = cwd.split('/')\n",
    "\n",
    "final_name = base_name + cwd[-1]\n",
    "print(final_name)"
   ]
  },
  {
   "cell_type": "markdown",
   "id": "fe5031c3",
   "metadata": {},
   "source": [
    "## Get Summary Data"
   ]
  },
  {
   "cell_type": "code",
   "execution_count": 42,
   "id": "15cba208",
   "metadata": {},
   "outputs": [
    {
     "name": "stdout",
     "output_type": "stream",
     "text": [
      "SALES INFO\n",
      "Number of sales: 979\n",
      "--------\n",
      "Total sale price: $849,359,369\n",
      "--------\n",
      "Median sale price: $435,000\n",
      "--------\n",
      "Max sale price: $25,000,000\n",
      "--------\n",
      "Min sale price: $82,500\n",
      "------------------------------------------------\n",
      "PSF INFO\n",
      "Max price per square foot: $4,228\n",
      "--------\n",
      "Min price per square foot: $113\n",
      "--------\n",
      "Median price per square foot: $442\n",
      "------------------------------------------------\n",
      "CONDO AGES\n",
      "Newest building: 2024.0\n",
      "----------\n",
      "Oldest building: 1923.0\n",
      "----------\n",
      "Average building age: 1988.5005107252298\n"
     ]
    }
   ],
   "source": [
    "print('SALES INFO')\n",
    "print(f'Number of sales: {len(df_filtered)}')\n",
    "print('--------')\n",
    "print(f'Total sale price: ${df_filtered[\"PRICE\"].sum():,.0f}')\n",
    "print('--------')\n",
    "print(f'Median sale price: ${df_filtered[\"PRICE\"].median():,.0f}')\n",
    "print('--------')\n",
    "print(f'Max sale price: ${df_filtered[\"PRICE\"].max():,.0f}')\n",
    "print('--------')\n",
    "print(f'Min sale price: ${df_filtered[\"PRICE\"].min():,.0f}')\n",
    "print('------------------------------------------------')\n",
    "print('PSF INFO')\n",
    "print(f'Max price per square foot: ${df_filtered[\"$/SQUARE FEET\"].max():,.0f}')\n",
    "print('--------')\n",
    "print(f'Min price per square foot: ${df_filtered[\"$/SQUARE FEET\"].min():,.0f}')\n",
    "print('--------')\n",
    "print(f'Median price per square foot: ${df_filtered[\"$/SQUARE FEET\"].median():,.0f}')\n",
    "print('------------------------------------------------')\n",
    "print('CONDO AGES')\n",
    "print(f'Newest building: {df_filtered[\"YEAR BUILT\"].max()}')\n",
    "print('----------')\n",
    "print(f'Oldest building: {df_filtered[\"YEAR BUILT\"].min()}')\n",
    "print('----------')\n",
    "print(f'Average building age: {df_filtered[\"YEAR BUILT\"].mean()}')"
   ]
  },
  {
   "cell_type": "code",
   "execution_count": 43,
   "id": "a7db05bf",
   "metadata": {},
   "outputs": [],
   "source": [
    "most_expensive_muni_condo_name = df_filtered.loc[df_filtered['PRICE'].idxmax()]['LOCATION']\n",
    "most_expensive_muni_location = df_filtered.loc[df_filtered['PRICE'].idxmax()]['CITY']\n",
    "\n",
    "least_expensive_muni_condo_name = df_filtered.loc[df_filtered['PRICE'].idxmin()]['LOCATION']\n",
    "least_expensive_muni_location = df_filtered.loc[df_filtered['PRICE'].idxmin()]['CITY']"
   ]
  },
  {
   "cell_type": "markdown",
   "id": "3a2b0666",
   "metadata": {},
   "source": [
    "# GENERATE STORY TEMPLATE\n",
    "\n",
    "# STOP! DID YOU UPDATE VALUES FROM THE PREVIOUS MONTH?"
   ]
  },
  {
   "cell_type": "code",
   "execution_count": 44,
   "id": "b79b8847",
   "metadata": {},
   "outputs": [],
   "source": [
    "## Calculate the increase/descrease between both months\n",
    "subject_month_sales_volume = df_filtered[\"PRICE\"].sum()\n",
    "prior_month_sales_volume = int(sales_volume_2nd_month)  # Example value, replace with actual value\n",
    "\n",
    "subject_month_closings = len(df_filtered)\n",
    "prior_month_closings = int(total_condos_sold_2nd_month)\n",
    "\n",
    "# Subtract the smaller value from the larger one\n",
    "if subject_month_sales_volume > prior_month_sales_volume:\n",
    "    hed_rf = 'jumps'\n",
    "    nut_graf = 'rising'\n",
    "    social = 'higher'\n",
    "    seo = 'increases'\n",
    "elif prior_month_sales_volume > subject_month_sales_volume:\n",
    "    hed_rf = 'drops'\n",
    "    nut_graf = 'falling'\n",
    "    social = 'lower'\n",
    "    seo = 'decreases'\n",
    "else:\n",
    "    hed_rf = 'equals'\n",
    "    nut_graf = 'equaling'\n",
    "    social = 'equal'\n",
    "    seo = \"doesn't change\"\n",
    "      \n",
    "if subject_month_closings > prior_month_closings:\n",
    "    dek_rf = 'rose'\n",
    "    graf = 'up'\n",
    "elif prior_month_closings > subject_month_closings:\n",
    "    dek_rf ='falls'\n",
    "    graf = 'down'\n",
    "else:\n",
    "    dek_rf = 'equals'\n",
    "    graf = 'flat'"
   ]
  },
  {
   "cell_type": "code",
   "execution_count": 45,
   "id": "09ea10bd",
   "metadata": {},
   "outputs": [
    {
     "data": {
      "text/plain": [
       "979"
      ]
     },
     "execution_count": 45,
     "metadata": {},
     "output_type": "execute_result"
    }
   ],
   "source": [
    "subject_month_closings"
   ]
  },
  {
   "cell_type": "code",
   "execution_count": 46,
   "id": "21a74c22",
   "metadata": {},
   "outputs": [
    {
     "data": {
      "text/plain": [
       "694000000"
      ]
     },
     "execution_count": 46,
     "metadata": {},
     "output_type": "execute_result"
    }
   ],
   "source": [
    "prior_month_sales_volume"
   ]
  },
  {
   "cell_type": "code",
   "execution_count": 47,
   "id": "984264b3",
   "metadata": {},
   "outputs": [
    {
     "data": {
      "text/plain": [
       "796"
      ]
     },
     "execution_count": 47,
     "metadata": {},
     "output_type": "execute_result"
    }
   ],
   "source": [
    "prior_month_closings"
   ]
  },
  {
   "cell_type": "code",
   "execution_count": 49,
   "id": "246d9fac",
   "metadata": {},
   "outputs": [],
   "source": [
    "story_string = f'''\n",
    "\\033[1mHED:\\033[0m Miami-Dade County condo sales dollar volume {hed_rf} in {previous_month_name} to ${round(df_filtered[\"PRICE\"].sum()/1_000_000)}M \n",
    "\\033[1mDEK:\\033[0m Number of closings {dek_rf} to {len(df_filtered)} from {total_condos_sold_2nd_month} in {month_before_last_name}\n",
    "\\033[1mFEATURED HED:\\033[0m\n",
    "\\033[1mSEO HED:\\033[0m Miami-Dade County {previous_month_name} Condo Sales Report \n",
    "\\033[1mSEO DESCRIPTION:\\033[0m Miami-Dade County’s condo sales volume {hed_rf} to ${round(df_filtered[\"PRICE\"].sum()/1_000_000)} million in {previous_month_name}.\n",
    "\\033[1mAUTHOR:\\033[0m Adam Farence\n",
    "\\033[1mRESEARCH:\\033[0m \n",
    "\\033[1mSocial:\\033[0m Miami-Dade County had ${round(df_filtered[\"PRICE\"].sum()/1_000_000):,.0f} million in condo sales in {previous_month_name}, {social} than ${round(int(sales_volume_2nd_month)/1_000_000)} million from {month_before_last_name}, @afarence reports \n",
    "\\033[1mART:\\033[0m \n",
    "\n",
    "CHANGE ME\n",
    "\n",
    "*Please provide credits for any images that you share\n",
    "\\033[1mSTORY TYPE:\\033[0m Report\n",
    "\\033[1mSECTOR\\033[0m (formerly CATEGORY): Residential Real Estate\n",
    "\\033[1mTAGS:\\033[0m condo sales, Miami-Dade County, monthly condo sales, condos, condo market, {most_expensive_muni_condo_name.title()}, {most_expensive_muni_location}\n",
    "\n",
    "\\033[1mNeighborhood:\\033[0m \n",
    "\\033[1mProperty:\\033[0m\n",
    "\\033[1mProperty Type:\\033[0m\n",
    "\\033[1mCompanies:\\033[0m \n",
    "\\033[1mPeople:\\033[0m\n",
    "\\033[1mIssues:\\033[0m\n",
    "\\033[1mRegion:\\033[0m\n",
    "\n",
    "\n",
    "Miami-Dade County’s NEWS PEG HERE.\n",
    "\n",
    "{previous_month_name} condo sales totaled ${round(df_filtered[\"PRICE\"].sum()/1_000_000)} million, {nut_graf} from ${int(sales_volume_2nd_month)/1_000_000:.0f} million in {month_before_last_name}. Brokers closed {len(df_filtered)} sales last month, {graf} from {total_condos_sold_2nd_month} sales in {month_before_last_name} and XXX in XXX, Multiple Listing Service data from Redfin show.\n",
    "\n",
    "{previous_month_name} sale prices ranged from ${df_filtered[\"PRICE\"].min():,.0f} to ${df_filtered[\"PRICE\"].max()/1_000_000:,.0f} million, with a median sale price of ${df_filtered[\"PRICE\"].median():,.0f}. The price per square foot ranged from ${df_filtered[\"$/SQUARE FEET\"].min():,.0f} to ${df_filtered[\"$/SQUARE FEET\"].max():,.0f}, with a median of ${df_filtered[\"$/SQUARE FEET\"].median():,.0f} per square foot.\n",
    "\n",
    "In {month_before_last_name}, sales closed with a median price of ${int(median_sales_price_2nd_month):,.0f}, and ${median_psf_2nd_month} per square foot.\n",
    "\n",
    "A ${df_filtered[\"PRICE\"].max()/1_000_000:,.0f} million closing at {most_expensive_muni_condo_name.title()} took the title of priciest sale last month. {df_filtered.loc[df_filtered['PRICE'].idxmax()]['FULL_ADDRESS']} sold for ${df_filtered.loc[df_filtered['PRICE'].idxmax()]['$/SQUARE FEET']:,.0f} per square foot after XX days on the market. XXX with XXX had the listing, and XXX with XXX represented the buyer.\n",
    "\n",
    "The sale price was \\033[1mmore/less\\033[0m than {month_before_last_name}'s priciest sale. WHEN XXXX \n",
    "\n",
    "In contrast, {previous_month_name}'s cheapest sale was an {least_expensive_muni_condo_name} in {least_expensive_muni_location}, at {df_filtered.loc[df_filtered['PRICE'].idxmin()]['FULL_ADDRESS']}. Unit XXX traded for ${df_filtered['PRICE'].min():,.0f} — or ${df_filtered.loc[df_filtered['$/SQUARE FEET'].idxmin()]['$/SQUARE FEET']:,.0f} per square foot — after XXX days on the market. XXX with XXX handled both sides of the deal.\n",
    "\n",
    "<figure>\n",
    " <div class=\"container\">\n",
    "   <div class=\"iframe-wrap\">\n",
    "   <iframe src=\"{final_name}\" width=\"100%\" height=\"800\" frameBorder=\"0\" scrolling=\"no\"></iframe>\n",
    "  </div>\n",
    "</div>\n",
    "  <figcaption align=\"right\"><a href=\"https://leafletjs.com/\">Leaflet</a> map created by Adam Farence | Data by © <a href=\"https://www.openstreetmap.org/#map=4/38.01/-95.84\"> OpenStreetMap</a>, under <a href=\"https://www.openstreetmap.org/copyright\">ODbl.</a></figcaption>\n",
    "</figure>\n",
    "\n",
    "Here’s a breakdown of {previous_month_name}’s notable condo sales:\n",
    "'''"
   ]
  },
  {
   "cell_type": "code",
   "execution_count": 46,
   "id": "533d7654",
   "metadata": {},
   "outputs": [
    {
     "name": "stdout",
     "output_type": "stream",
     "text": [
      "https://www.redfin.com/FL/Surfside/9111-Collins-Ave-33154/unit-N-PH4/home/190088407\n"
     ]
    }
   ],
   "source": [
    "# print(df_filtered['URL'].iloc[0])"
   ]
  },
  {
   "cell_type": "code",
   "execution_count": 50,
   "id": "f51fcff5",
   "metadata": {},
   "outputs": [
    {
     "name": "stdout",
     "output_type": "stream",
     "text": [
      "\n",
      "\u001b[1mHED:\u001b[0m Miami-Dade County condo sales dollar volume jumps in April to $849M \n",
      "\u001b[1mDEK:\u001b[0m Number of closings rose to 979 from 796 in March\n",
      "\u001b[1mFEATURED HED:\u001b[0m\n",
      "\u001b[1mSEO HED:\u001b[0m Miami-Dade County April Condo Sales Report \n",
      "\u001b[1mSEO DESCRIPTION:\u001b[0m Miami-Dade County’s condo sales volume jumps to $849 million in April.\n",
      "\u001b[1mAUTHOR:\u001b[0m Adam Farence\n",
      "\u001b[1mRESEARCH:\u001b[0m \n",
      "\u001b[1mSocial:\u001b[0m Miami-Dade County had $849 million in condo sales in April, higher than $694 million from March, @afarence reports \n",
      "\u001b[1mART:\u001b[0m \n",
      "\n",
      "CHANGE ME\n",
      "\n",
      "*Please provide credits for any images that you share\n",
      "\u001b[1mSTORY TYPE:\u001b[0m Report\n",
      "\u001b[1mSECTOR\u001b[0m (formerly CATEGORY): Residential Real Estate\n",
      "\u001b[1mTAGS:\u001b[0m condo sales, Miami-Dade County, monthly condo sales, condos, condo market, Amd Pl Of 2Nd Ocean Front, Miami Beach\n",
      "\n",
      "\u001b[1mNeighborhood:\u001b[0m \n",
      "\u001b[1mProperty:\u001b[0m\n",
      "\u001b[1mProperty Type:\u001b[0m\n",
      "\u001b[1mCompanies:\u001b[0m \n",
      "\u001b[1mPeople:\u001b[0m\n",
      "\u001b[1mIssues:\u001b[0m\n",
      "\u001b[1mRegion:\u001b[0m\n",
      "\n",
      "\n",
      "Miami-Dade County’s NEWS PEG HERE.\n",
      "\n",
      "April condo sales totaled $849 million, rising from $694 million in March. Brokers closed 979 sales last month, up from 796 sales in March and XXX in XXX, Multiple Listing Service data from Redfin show.\n",
      "\n",
      "April sale prices ranged from $82,500 to $25 million, with a median sale price of $435,000. The price per square foot ranged from $113 to $4,228, with a median of $442 per square foot.\n",
      "\n",
      "In March, sales closed with a median price of $455,000, and $460 per square foot.\n",
      "\n",
      "A $25 million closing at Amd Pl Of 2Nd Ocean Front took the title of priciest sale last month. 5775 Collins Ave Ph -2 Miami Beach sold for $3,869 per square foot after XX days on the market. XXX with XXX had the listing, and XXX with XXX represented the buyer.\n",
      "\n",
      "The sale price was \u001b[1mmore/less\u001b[0m than March's priciest sale. WHEN XXXX \n",
      "\n",
      "In contrast, April's cheapest sale was an Ro-mont South Green Cond in Miami Gardens, at 20180 NE 2nd Ave Unit X7 Miami Gardens. Unit XXX traded for $82,500 — or $113 per square foot — after XXX days on the market. XXX with XXX handled both sides of the deal.\n",
      "\n",
      "<figure>\n",
      " <div class=\"container\">\n",
      "   <div class=\"iframe-wrap\">\n",
      "   <iframe src=\"https://trd-digital.github.io/trd-news-interactive-maps/MD_condo_sales_month_ending_apr_2024\" width=\"100%\" height=\"800\" frameBorder=\"0\" scrolling=\"no\"></iframe>\n",
      "  </div>\n",
      "</div>\n",
      "  <figcaption align=\"right\"><a href=\"https://leafletjs.com/\">Leaflet</a> map created by Adam Farence | Data by © <a href=\"https://www.openstreetmap.org/#map=4/38.01/-95.84\"> OpenStreetMap</a>, under <a href=\"https://www.openstreetmap.org/copyright\">ODbl.</a></figcaption>\n",
      "</figure>\n",
      "\n",
      "Here’s a breakdown of April’s notable condo sales:\n",
      "\n",
      "\u001b[1mMost Expensive\u001b[0m\n",
      "AMD PL OF 2ND OCEAN FRONT, 5775 Collins Ave Ph -2 Miami Beach | Price $25,000,000 | $3,869 psf | Year built: 2021\n",
      "\u001b[1mLeast Expensive\u001b[0m\n",
      "Ro-mont South Green Cond, 20180 NE 2nd Ave Unit X7 Miami Gardens | Price $82,500 | $125 psf | Year built: 1974\n",
      "\u001b[1mHighest Price Per Square Foot\u001b[0m\n",
      "CONTINUUM ON SOUTH BEACH, 100 S Pointe Dr Unit 1902 - 1903 Miami Beach | Price $10,850,000 | $4,228 psf | Year built: 2002\n",
      "\u001b[1mLowest Price Per Square Foot\u001b[0m\n",
      "Third Forum, 1350 NE 191st St Unit B207 Miami | Price $93,500 | $113 psf | Year built: 1967\n",
      "\u001b[1mNewest\u001b[0m\n",
      "ORANGE VIEW PK, 6290 NW 22nd Ct #6290 Miami | Price $399,000 | $333 psf | Year built: 2024\n",
      "\u001b[1mOldest\u001b[0m\n",
      "PALM GARDEN CONDO, 760 Meridian Ave #4 Miami Beach | Price $289,000 | $567 psf | Year built: 1923\n"
     ]
    }
   ],
   "source": [
    "print(story_string)\n",
    "\n",
    "print(f\"{ME}{BR}{df_filtered.loc[df_filtered['PRICE'].idxmax()]['LOCATION']}, {df_filtered.loc[df_filtered['PRICE'].idxmax()]['FULL_ADDRESS']} | Price ${df_filtered.loc[df_filtered['PRICE'].idxmax()]['PRICE']:,.0f} | ${df_filtered.loc[df_filtered['PRICE'].idxmax()]['$/SQUARE FEET']:,.0f} psf | Year built: {df_filtered.loc[df_filtered['PRICE'].idxmax()]['YEAR BUILT']:.0f}\")\n",
    "print(f\"{LE}{BR}{df_filtered.loc[df_filtered['PRICE'].idxmin()]['LOCATION']}, {df_filtered.loc[df_filtered['PRICE'].idxmin()]['FULL_ADDRESS']} | Price ${df_filtered.loc[df_filtered['PRICE'].idxmin()]['PRICE']:,.0f} | ${df_filtered.loc[df_filtered['PRICE'].idxmin()]['$/SQUARE FEET']:,.0f} psf | Year built: {df_filtered.loc[df_filtered['PRICE'].idxmin()]['YEAR BUILT']:.0f}\")\n",
    "\n",
    "print(f\"{MAX_PSF}{BR}{df_filtered.loc[df_filtered['$/SQUARE FEET'].idxmax()]['LOCATION']}, {df_filtered.loc[df_filtered['$/SQUARE FEET'].idxmax()]['FULL_ADDRESS']} | Price ${df_filtered.loc[df_filtered['$/SQUARE FEET'].idxmax()]['PRICE']:,.0f} | ${df_filtered.loc[df_filtered['$/SQUARE FEET'].idxmax()]['$/SQUARE FEET']:,.0f} psf | Year built: {df_filtered.loc[df_filtered['$/SQUARE FEET'].idxmax()]['YEAR BUILT']:.0f}\")\n",
    "print(f\"{MIN_PSF}{BR}{df_filtered.loc[df_filtered['$/SQUARE FEET'].idxmin()]['LOCATION']}, {df_filtered.loc[df_filtered['$/SQUARE FEET'].idxmin()]['FULL_ADDRESS']} | Price ${df_filtered.loc[df_filtered['$/SQUARE FEET'].idxmin()]['PRICE']:,.0f} | ${df_filtered.loc[df_filtered['$/SQUARE FEET'].idxmin()]['$/SQUARE FEET']:,.0f} psf | Year built: {df_filtered.loc[df_filtered['$/SQUARE FEET'].idxmin()]['YEAR BUILT']:.0f}\")\n",
    "\n",
    "print(f\"{Newest}{BR}{df_filtered.loc[df_filtered['YEAR BUILT'].idxmax()]['LOCATION']}, {df_filtered.loc[df_filtered['YEAR BUILT'].idxmax()]['FULL_ADDRESS']} | Price ${df_filtered.loc[df_filtered['YEAR BUILT'].idxmax()]['PRICE']:,.0f} | ${df_filtered.loc[df_filtered['YEAR BUILT'].idxmax()]['$/SQUARE FEET']:,.0f} psf | Year built: {df_filtered.loc[df_filtered['YEAR BUILT'].idxmax()]['YEAR BUILT']:.0f}\")\n",
    "print(f\"{Oldest}{BR}{df_filtered.loc[df_filtered['YEAR BUILT'].idxmin()]['LOCATION']}, {df_filtered.loc[df_filtered['YEAR BUILT'].idxmin()]['FULL_ADDRESS']} | Price ${df_filtered.loc[df_filtered['YEAR BUILT'].idxmin()]['PRICE']:,.0f} | ${df_filtered.loc[df_filtered['YEAR BUILT'].idxmin()]['$/SQUARE FEET']:,.0f} psf | Year built: {df_filtered.loc[df_filtered['YEAR BUILT'].idxmin()]['YEAR BUILT']:.0f}\")"
   ]
  },
  {
   "cell_type": "markdown",
   "id": "1237f8b2",
   "metadata": {},
   "source": [
    "# Print links for notable sales\n",
    "\n",
    "## Top sale"
   ]
  },
  {
   "cell_type": "code",
   "execution_count": 52,
   "id": "4c776293",
   "metadata": {},
   "outputs": [
    {
     "name": "stdout",
     "output_type": "stream",
     "text": [
      "https://www.redfin.com/FL/Miami-Beach/5775-Collins-Ave-33140/unit-2/home/42773923\n"
     ]
    }
   ],
   "source": [
    "print(df_filtered.loc[df_filtered['PRICE'].idxmax()]['URL'])"
   ]
  },
  {
   "cell_type": "markdown",
   "id": "b1f63a6a",
   "metadata": {},
   "source": [
    "## Cheapest sale"
   ]
  },
  {
   "cell_type": "code",
   "execution_count": 67,
   "id": "967008ef",
   "metadata": {},
   "outputs": [
    {
     "name": "stdout",
     "output_type": "stream",
     "text": [
      "https://www.redfin.com/FL/Miami/20180-NE-2nd-Ave-33179/unit-X7/home/43293420\n"
     ]
    }
   ],
   "source": [
    "print(df_filtered.loc[df_filtered['PRICE'].idxmin()]['URL'])"
   ]
  },
  {
   "cell_type": "markdown",
   "id": "0f56cc2b",
   "metadata": {},
   "source": [
    "## Highest PSF"
   ]
  },
  {
   "cell_type": "code",
   "execution_count": 54,
   "id": "001083a2",
   "metadata": {},
   "outputs": [
    {
     "name": "stdout",
     "output_type": "stream",
     "text": [
      "https://www.redfin.com/FL/Miami-Beach/100-S-Pointe-Dr-33139/unit-1903/home/43275108\n"
     ]
    }
   ],
   "source": [
    "print(df_filtered.loc[df_filtered['$/SQUARE FEET'].idxmax()]['URL'])"
   ]
  },
  {
   "cell_type": "markdown",
   "id": "e606b84a",
   "metadata": {},
   "source": [
    "## Lowest PSF"
   ]
  },
  {
   "cell_type": "code",
   "execution_count": 61,
   "id": "91b9b079",
   "metadata": {},
   "outputs": [
    {
     "name": "stdout",
     "output_type": "stream",
     "text": [
      "https://www.redfin.com/FL/Miami/1350-NE-191st-St-33179/unit-B207/home/43007640\n"
     ]
    }
   ],
   "source": [
    "print(df_filtered.loc[df_filtered['$/SQUARE FEET'].idxmin()]['URL'])"
   ]
  },
  {
   "cell_type": "markdown",
   "id": "d6e5493b",
   "metadata": {},
   "source": [
    "## Newest"
   ]
  },
  {
   "cell_type": "code",
   "execution_count": 65,
   "id": "c2cc4988",
   "metadata": {},
   "outputs": [
    {
     "name": "stdout",
     "output_type": "stream",
     "text": [
      "https://www.redfin.com/FL/Miami/6290-NW-22nd-Ct-33147/unit-6290/home/188610004\n"
     ]
    }
   ],
   "source": [
    "print(df_filtered.loc[df_filtered['YEAR BUILT'].idxmax()]['URL'])"
   ]
  },
  {
   "cell_type": "markdown",
   "id": "1d1ba957",
   "metadata": {},
   "source": [
    "## Oldest"
   ]
  },
  {
   "cell_type": "code",
   "execution_count": 66,
   "id": "51fa78ff",
   "metadata": {},
   "outputs": [
    {
     "name": "stdout",
     "output_type": "stream",
     "text": [
      "https://www.redfin.com/FL/Miami-Beach/760-Meridian-Ave-33139/unit-4/home/42800208\n"
     ]
    }
   ],
   "source": [
    "print(df_filtered.loc[df_filtered['YEAR BUILT'].idxmin()]['URL'])"
   ]
  },
  {
   "cell_type": "markdown",
   "id": "6b274da8",
   "metadata": {},
   "source": [
    "## Time on Market Calculator"
   ]
  },
  {
   "cell_type": "code",
   "execution_count": 60,
   "id": "0d14e001",
   "metadata": {},
   "outputs": [
    {
     "name": "stdout",
     "output_type": "stream",
     "text": [
      "60\n"
     ]
    }
   ],
   "source": [
    "from datetime import datetime, timedelta\n",
    "\n",
    "################ YEAR, MONTH, DAY #######################\n",
    "\n",
    "date1 = datetime(2024, 2, 2) ## List (Earlier) date\n",
    "date2 = datetime(2024, 4, 2) ## Close (Later) date\n",
    "\n",
    "delta = date2 - date1\n",
    "num_days = delta.days\n",
    "\n",
    "print(num_days)"
   ]
  }
 ],
 "metadata": {
  "kernelspec": {
   "display_name": "Python 3 (ipykernel)",
   "language": "python",
   "name": "python3"
  },
  "language_info": {
   "codemirror_mode": {
    "name": "ipython",
    "version": 3
   },
   "file_extension": ".py",
   "mimetype": "text/x-python",
   "name": "python",
   "nbconvert_exporter": "python",
   "pygments_lexer": "ipython3",
   "version": "3.9.12"
  }
 },
 "nbformat": 4,
 "nbformat_minor": 5
}
