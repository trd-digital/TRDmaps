{
 "cells": [
  {
   "cell_type": "markdown",
   "metadata": {},
   "source": [
    "## Imports"
   ]
  },
  {
   "cell_type": "code",
   "execution_count": 1,
   "metadata": {},
   "outputs": [],
   "source": [
    "from geopy.geocoders import GoogleV3\n",
    "from bs4 import BeautifulSoup\n",
    "import requests\n",
    "import time\n",
    "import pandas as pd\n",
    "import numpy as np\n",
    "import urllib3\n",
    "import re\n",
    "from textwrap import shorten\n",
    "import os\n",
    "import geopandas as gpd"
   ]
  },
  {
   "cell_type": "code",
   "execution_count": 3,
   "metadata": {},
   "outputs": [],
   "source": [
    "df = pd.read_csv('compass_office_data.csv')"
   ]
  },
  {
   "cell_type": "code",
   "execution_count": 9,
   "metadata": {},
   "outputs": [],
   "source": [
    "df['address_2'] = df['address_2'].replace('\\n',' ',regex=True)"
   ]
  },
  {
   "cell_type": "code",
   "execution_count": 11,
   "metadata": {},
   "outputs": [],
   "source": [
    "df['full_address'] = df['address'] + ' ' + df['address_2']"
   ]
  },
  {
   "cell_type": "code",
   "execution_count": 12,
   "metadata": {},
   "outputs": [],
   "source": [
    "%store -r google_maps_API_Key\n",
    "geolocator = GoogleV3(api_key=google_maps_API_Key)"
   ]
  },
  {
   "cell_type": "code",
   "execution_count": 13,
   "metadata": {},
   "outputs": [],
   "source": [
    "df['geo_address'] = df['full_address']\n",
    "df['loc'] = df['geo_address'].apply(geolocator.geocode, timeout=10)\n",
    "df['point'] = df['loc'].apply(lambda loc: tuple(loc.point) if loc else None)\n",
    "df[['lat','lon','altitude']] = pd.DataFrame(df['point'].to_list(),index=df.index)"
   ]
  },
  {
   "cell_type": "markdown",
   "metadata": {},
   "source": [
    "## Correction Section"
   ]
  },
  {
   "cell_type": "markdown",
   "metadata": {},
   "source": [
    "## HTML popup formatter"
   ]
  },
  {
   "cell_type": "code",
   "execution_count": 6,
   "metadata": {},
   "outputs": [
    {
     "data": {
      "text/plain": [
       "Index(['Unnamed: 0', 'MLS#', 'Unique', 'Final Agent/Team', 'agent_type',\n",
       "       'TRD Notes', 'PROPERTY TYPE', 'ADDRESS', 'CITY', 'STATE OR PROVINCE',\n",
       "       'ZIP OR POSTAL CODE', 'SOLD DATE', 'PRICE', 'URL', 'full_address',\n",
       "       'geo_address', 'loc', 'point', 'lat', 'lon', 'altitude'],\n",
       "      dtype='object')"
      ]
     },
     "execution_count": 6,
     "metadata": {},
     "output_type": "execute_result"
    }
   ],
   "source": [
    "df.columns"
   ]
  },
  {
   "cell_type": "code",
   "execution_count": 31,
   "metadata": {},
   "outputs": [],
   "source": [
    "def popup_html(row):\n",
    "    i = row\n",
    "    address = df['full_address'].iloc[i]\n",
    "    office = df['name'].iloc[i]\n",
    "    \n",
    "    html = '''<!DOCTYPE html>\n",
    "    <html>\n",
    "    <head>\n",
    "    <h4>{}</h4>'''.format(address) + '''\n",
    "    </head>\n",
    "    <body>\n",
    "    <strong></strong><h4>{}<h4>'''.format(office) + '''<br> \n",
    "    </body>\n",
    "    </html>\n",
    "    '''\n",
    "    return html\n"
   ]
  },
  {
   "cell_type": "markdown",
   "metadata": {},
   "source": [
    "### HTML reservoir"
   ]
  },
  {
   "cell_type": "code",
   "execution_count": 8,
   "metadata": {},
   "outputs": [],
   "source": [
    "#     Developer(s): <strong><em>{}'''.format(developer) + '''</strong></em><br><br>"
   ]
  },
  {
   "cell_type": "markdown",
   "metadata": {},
   "source": [
    "## Map Maker"
   ]
  },
  {
   "cell_type": "code",
   "execution_count": null,
   "metadata": {
    "scrolled": false
   },
   "outputs": [],
   "source": [
    "import folium\n",
    "from folium.plugins import MarkerCluster\n",
    "import branca\n",
    "\n",
    "f = folium.Figure(width=550, height=750)\n",
    "m = folium.Map(location=df[[\"lat\", \"lon\"]].mean().to_list(),zoom_start=3)\n",
    "\n",
    "title_html = '''\n",
    "              <h4 align=\"center\" style=\"font-size:16px\"><b>{}</b></h4>\n",
    "             '''.format(f'Compass - August 2022')\n",
    "\n",
    "marker_clusterer = MarkerCluster().add_to(m)\n",
    "\n",
    "for i in range(0,len(df)):\n",
    "    html = popup_html(i)\n",
    "    iframe = branca.element.IFrame(html=html, width=510,height=280)\n",
    "    popup = folium.Popup(folium.Html(html, script=True), max_width=510)\n",
    "    folium.Marker([df['lat'].iloc[i],df['lon'].iloc[i]],\n",
    "                 popup=popup).add_to(marker_clusterer)\n",
    "\n",
    "m.get_root().html.add_child(folium.Element(title_html))\n",
    "m.fit_bounds(bounds=df[['lat','lon']].mean().to_list(),max_zoom=15)\n",
    "# m.add_to(f)\n",
    "m"
   ]
  },
  {
   "cell_type": "code",
   "execution_count": 10,
   "metadata": {},
   "outputs": [],
   "source": [
    "m.save('index.html')"
   ]
  },
  {
   "cell_type": "code",
   "execution_count": 11,
   "metadata": {},
   "outputs": [],
   "source": [
    "pd.set_option('display.max_rows',1000)"
   ]
  },
  {
   "cell_type": "code",
   "execution_count": 16,
   "metadata": {},
   "outputs": [
    {
     "data": {
      "text/plain": [
       "2234"
      ]
     },
     "execution_count": 16,
     "metadata": {},
     "output_type": "execute_result"
    }
   ],
   "source": [
    "df['ZIP OR POSTAL CODE'].value_counts().sum()"
   ]
  },
  {
   "cell_type": "code",
   "execution_count": 12,
   "metadata": {
    "scrolled": false
   },
   "outputs": [
    {
     "data": {
      "text/plain": [
       "ZIP OR POSTAL CODE  ZIP OR POSTAL CODE  Final Agent/Team                   \n",
       "60601.0             60601.0             Leila Zammatta                         20\n",
       "                                        The Laricy Team                         4\n",
       "                                        Grigory Pekarsky                        3\n",
       "60602.0             60602.0             Grigory Pekarsky                        3\n",
       "                                        Bari & Elena Team                       1\n",
       "                                        Kate Waddell Group                      1\n",
       "60603.0             60603.0             The Laricy Team                         1\n",
       "                                        Weinberg Choi Residential               1\n",
       "60605.0             60605.0             The Laricy Team                        13\n",
       "                                        NL Ferrata Team                         9\n",
       "                                        Grigory Pekarsky                        6\n",
       "60606.0             60606.0             Leigh Marcus Properties                 2\n",
       "                                        The Laricy Team                         2\n",
       "                                        Alexandre Stoykov                       1\n",
       "60607.0             60607.0             The Laricy Team                        11\n",
       "                                        Daniel Close                            5\n",
       "                                        MVP Team                                4\n",
       "60608.0             60608.0             Lawrence Dunning                       12\n",
       "                                        Busby Group                             2\n",
       "                                        Klopas Stratton Team                    2\n",
       "60609.0             60609.0             Kasper Group                            2\n",
       "                                        Bari & Elena Team                       1\n",
       "                                        Lawrence Dunning                        1\n",
       "60610.0             60610.0             Lowe Group Chicago                     21\n",
       "                                        The Laricy Team                        13\n",
       "                                        Alexandre Stoykov                       9\n",
       "60611.0             60611.0             The Laricy Team                        23\n",
       "                                        Chezi Rafaeli                          16\n",
       "                                        Jeanne Martini                         13\n",
       "60612.0             60612.0             Biazar Group                           14\n",
       "                                        Ben Lalez Team                          3\n",
       "                                        Lawrence Dunning                        3\n",
       "60613.0             60613.0             Lowe Group Chicago                      9\n",
       "                                        Bari & Elena Team                       6\n",
       "                                        Busby Group                             6\n",
       "60614.0             60614.0             Lowe Group Chicago                     42\n",
       "                                        ESW Chicago                            31\n",
       "                                        The Laricy Team                        29\n",
       "60615.0             60615.0             Biazar Group                           10\n",
       "                                        Lawrence Dunning                        6\n",
       "                                        Kasper Group                            2\n",
       "60616.0             60616.0             NL Ferrata Team                        15\n",
       "                                        The Laricy Team                         5\n",
       "                                        MG Group Chicago                        3\n",
       "60617.0             60617.0             Biazar Group                            2\n",
       "                                        Qamar Group                             1\n",
       "                                        Relux International                     1\n",
       "60618.0             60618.0             Leigh Marcus Properties                21\n",
       "                                        Ryan McKane                             8\n",
       "                                        Stacey Dombar                           8\n",
       "60619.0             60619.0             Jason OBeirne                           2\n",
       "                                        Grigory Pekarsky                        1\n",
       "60620.0             60620.0             Relux International                     2\n",
       "                                        Ben Lalez Team                          1\n",
       "                                        Biazar Group                            1\n",
       "60621.0             60621.0             Chicago Home Partners                   1\n",
       "                                        Jason OBeirne                           1\n",
       "60622.0             60622.0             Leigh Marcus Properties                12\n",
       "                                        Biazar Group                           11\n",
       "                                        The Laricy Team                        10\n",
       "60623.0             60623.0             Lawrence Dunning                        1\n",
       "                                        Qamar Group                             1\n",
       "60624.0             60624.0             Biazar Group                            1\n",
       "                                        Relux International                     1\n",
       "60625.0             60625.0             Ryan McKane                            11\n",
       "                                        The Sheahan Group                       4\n",
       "                                        Lowe Group Chicago                      3\n",
       "60626.0             60626.0             Ryan McKane                             4\n",
       "                                        Alexandre Stoykov                       2\n",
       "                                        Brad Lippitz Group                      2\n",
       "60628.0             60628.0             Relux International                     2\n",
       "                                        Ben Lalez Team                          1\n",
       "                                        Jason OBeirne                           1\n",
       "60629.0             60629.0             NL Ferrata Team                         1\n",
       "60630.0             60630.0             Keith Brand                             2\n",
       "                                        Ben Lalez Team                          1\n",
       "                                        Chicago Home Partners                   1\n",
       "60631.0             60631.0             Stacey Dombar                           1\n",
       "60632.0             60632.0             Ben Lalez Team                          1\n",
       "                                        Busby Group                             1\n",
       "60634.0             60634.0             Relux International                     2\n",
       "                                        Bari & Elena Team                       1\n",
       "                                        Daniel Close                            1\n",
       "60636.0             60636.0             Kasper Group                            1\n",
       "60637.0             60637.0             Lawrence Dunning                        4\n",
       "                                        Biazar Group                            3\n",
       "                                        Ben Lalez Team                          1\n",
       "60638.0             60638.0             Alexandre Stoykov                       1\n",
       "                                        The Laricy Team                         1\n",
       "60639.0             60639.0             Ben Lalez Team                          1\n",
       "                                        Flora Blahnik Group                     1\n",
       "                                        Keith Brand                             1\n",
       "60640.0             60640.0             Ryan McKane                            10\n",
       "                                        MG Group Chicago                        7\n",
       "                                        Relux International                     6\n",
       "60641.0             60641.0             MG Group Chicago                        3\n",
       "                                        Chicago Home Partners                   2\n",
       "                                        Ben Lalez Team                          1\n",
       "60642.0             60642.0             The Laricy Team                        10\n",
       "                                        Biazar Group                            6\n",
       "                                        Grigory Pekarsky                        5\n",
       "60643.0             60643.0             Biazar Group                            2\n",
       "                                        Grigory Pekarsky                        1\n",
       "                                        Kasper Group                            1\n",
       "60645.0             60645.0             Ryan McKane                             5\n",
       "                                        Qamar Group                             3\n",
       "                                        Grigory Pekarsky                        2\n",
       "60646.0             60646.0             Daniel Close                            4\n",
       "                                        Ryan McKane                             2\n",
       "                                        Grigory Pekarsky                        1\n",
       "60647.0             60647.0             Biazar Group                           14\n",
       "                                        Keith Brand                            11\n",
       "                                        Grigory Pekarsky                       10\n",
       "60649.0             60649.0             Ben Lalez Team                          1\n",
       "                                        Jason OBeirne                           1\n",
       "                                        Kasper Group                            1\n",
       "60651.0             60651.0             Grigory Pekarsky                        2\n",
       "                                        Kasper Group                            2\n",
       "                                        Bari & Elena Team                       1\n",
       "60652.0             60652.0             Qamar Group                             1\n",
       "60653.0             60653.0             Biazar Group                            2\n",
       "                                        Grigory Pekarsky                        2\n",
       "                                        Lawrence Dunning                        2\n",
       "60654.0             60654.0             The Laricy Team                        18\n",
       "                                        Melissa Siegal Chicago Luxury Group    11\n",
       "                                        Bari & Elena Team                       7\n",
       "60656.0             60656.0             Bari & Elena Team                       1\n",
       "                                        Ryan McKane                             1\n",
       "                                        The Sheahan Group                       1\n",
       "60657.0             60657.0             Leigh Marcus Properties                18\n",
       "                                        Ryan McKane                            15\n",
       "                                        The Laricy Team                        12\n",
       "60659.0             60659.0             Brad Lippitz Group                      1\n",
       "                                        Leigh Marcus Properties                 1\n",
       "                                        Relux International                     1\n",
       "60660.0             60660.0             Ryan McKane                             6\n",
       "                                        Alexandre Stoykov                       3\n",
       "                                        MG Group Chicago                        3\n",
       "60661.0             60661.0             The Laricy Team                         3\n",
       "                                        Daniel Close                            2\n",
       "                                        Keith Brand                             2\n",
       "60707.0             60707.0             Ben Lalez Team                          1\n",
       "                                        Busby Group                             1\n",
       "                                        Relux International                     1\n",
       "Name: Final Agent/Team, dtype: int64"
      ]
     },
     "execution_count": 12,
     "metadata": {},
     "output_type": "execute_result"
    }
   ],
   "source": [
    "x = df.groupby(['ZIP OR POSTAL CODE'])['Final Agent/Team'].value_counts().groupby(level=0).nlargest(3)\n",
    "x.to_csv('busiest_brokers_by_zip_code_chicago.csv')\n",
    "x"
   ]
  },
  {
   "cell_type": "markdown",
   "metadata": {},
   "source": [
    "## Map URL snagger"
   ]
  },
  {
   "cell_type": "markdown",
   "metadata": {},
   "source": [
    "Map template URL: `https://trd-digital.github.io/trd-news-interactive-maps/{map-folder-name}`"
   ]
  },
  {
   "cell_type": "code",
   "execution_count": 13,
   "metadata": {},
   "outputs": [],
   "source": [
    "base_name = 'https://trd-digital.github.io/trd-news-interactive-maps/'"
   ]
  },
  {
   "cell_type": "code",
   "execution_count": 14,
   "metadata": {},
   "outputs": [
    {
     "name": "stdout",
     "output_type": "stream",
     "text": [
      "https://trd-digital.github.io/trd-news-interactive-maps/Chicago_broker_rankings_08_2022\n"
     ]
    }
   ],
   "source": [
    "cwd = os.getcwd()\n",
    "\n",
    "cwd = cwd.split('/')\n",
    "\n",
    "final_name = base_name + cwd[-1]\n",
    "print(final_name)"
   ]
  }
 ],
 "metadata": {
  "kernelspec": {
   "display_name": "Python 3 (ipykernel)",
   "language": "python",
   "name": "python3"
  },
  "language_info": {
   "codemirror_mode": {
    "name": "ipython",
    "version": 3
   },
   "file_extension": ".py",
   "mimetype": "text/x-python",
   "name": "python",
   "nbconvert_exporter": "python",
   "pygments_lexer": "ipython3",
   "version": "3.10.3"
  },
  "toc": {
   "base_numbering": 1,
   "nav_menu": {},
   "number_sections": true,
   "sideBar": true,
   "skip_h1_title": false,
   "title_cell": "Table of Contents",
   "title_sidebar": "Contents",
   "toc_cell": false,
   "toc_position": {},
   "toc_section_display": true,
   "toc_window_display": false
  }
 },
 "nbformat": 4,
 "nbformat_minor": 4
}
