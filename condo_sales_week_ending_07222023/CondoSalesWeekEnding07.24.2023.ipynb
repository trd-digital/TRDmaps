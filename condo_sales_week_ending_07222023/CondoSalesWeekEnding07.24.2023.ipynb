{
 "cells": [
  {
   "cell_type": "markdown",
   "metadata": {},
   "source": [
    "## Imports"
   ]
  },
  {
   "cell_type": "code",
   "execution_count": 4,
   "metadata": {},
   "outputs": [],
   "source": [
    "import googlemaps\n",
    "import pandas as pd\n",
    "import numpy as np\n",
    "import re\n",
    "import os\n",
    "import geopandas as gpd\n",
    "import folium\n",
    "import tabula"
   ]
  },
  {
   "cell_type": "markdown",
   "metadata": {},
   "source": [
    "## Read-in"
   ]
  },
  {
   "cell_type": "code",
   "execution_count": 5,
   "metadata": {},
   "outputs": [],
   "source": [
    "# Gotta figure out how to get rid of the java error.\n",
    "# SO: https://stackoverflow.com/questions/54817211/java-command-is-not-found-from-this-python-process-please-ensure-java-is-inst\n",
    "\n",
    "dsf = tabula.read_pdf('condo.pdf', pages='all')"
   ]
  },
  {
   "cell_type": "markdown",
   "metadata": {},
   "source": [
    "## Clean Data"
   ]
  },
  {
   "cell_type": "code",
   "execution_count": 6,
   "metadata": {},
   "outputs": [],
   "source": [
    "df = dsf[0]\n",
    "df.columns = df.iloc[0]\n",
    "df = df[1:]\n",
    "df = df.drop(columns=df.columns[0])\n",
    "df = df.replace(np.nan, 'Not Available', regex=True)\n",
    "df = df.rename(columns={'Building / Address / City': 'building_address_city','Days on\\rMarket':'days_on_market',\\\n",
    "                        'Price /\\rSq. Ft.':'price_per_sqft'})\n",
    "df['building_address_city'] = df['building_address_city'].str.replace('^0', '', regex=True)\n",
    "df['geo_address'] = df['building_address_city']\n",
    "df['geo_address'] = df['geo_address'].map(lambda x: re.sub(r'\\r', ' ', x))\n",
    "df = df.replace('\\n',' ',regex=True)\n",
    "pattern = r'^(?P<building_name>[\\d\\s]*[A-Za-z\\s]+)\\s(?P<address>.+)\\s(?P<city>[A-Za-z\\s]+)$'\n",
    "df2 = df['geo_address']\n",
    "df2 = df2.to_frame()\n",
    "df2[['building_name', 'address', 'city']] = df2['geo_address'].str.extract(pattern, expand=True)"
   ]
  },
  {
   "cell_type": "markdown",
   "metadata": {},
   "source": [
    "Review this later (it's about how to properly merge DFs): https://pandas.pydata.org/pandas-docs/stable/user_guide/merging.html"
   ]
  },
  {
   "cell_type": "markdown",
   "metadata": {},
   "source": [
    "## Geocode"
   ]
  },
  {
   "cell_type": "code",
   "execution_count": 7,
   "metadata": {},
   "outputs": [],
   "source": [
    "result = pd.merge(df,df2,left_index=True, right_index=True)\n",
    "df = result\n",
    "df = df.drop(columns='city')"
   ]
  },
  {
   "cell_type": "code",
   "execution_count": 8,
   "metadata": {},
   "outputs": [],
   "source": [
    "%store -r google_maps_API_Key\n",
    "gmaps_key = googlemaps.Client(key=google_maps_API_Key)"
   ]
  },
  {
   "cell_type": "code",
   "execution_count": 9,
   "metadata": {},
   "outputs": [],
   "source": [
    "def geocode(add):\n",
    "    g = gmaps_key.geocode(add)\n",
    "    lat = g[0][\"geometry\"][\"location\"][\"lat\"]\n",
    "    lng = g[0][\"geometry\"][\"location\"][\"lng\"]\n",
    "    return (lat, lng)\n",
    "\n",
    "df['geocoded'] = df['geo_address_x'].apply(geocode)"
   ]
  },
  {
   "cell_type": "code",
   "execution_count": 10,
   "metadata": {},
   "outputs": [],
   "source": [
    "df['geocoded'] = df['geocoded'].astype(str)\n",
    "df[['lat', 'lon']] = df['geocoded'].str.strip('()').str.split(', ', expand=True)\n",
    "df['lat'] = df['lat'].astype(float)\n",
    "df['lon'] = df['lon'].astype(float)"
   ]
  },
  {
   "cell_type": "markdown",
   "metadata": {},
   "source": [
    "Folium documentation link: https://python-visualization.github.io/folium/index.html\n",
    "\n",
    "Folium is the library that lets us use leaflet with Python, since it's meant to be used with JavaScript.\n",
    "\n",
    "For adding titles: https://stackoverflow.com/questions/61928013/adding-a-title-or-text-to-a-folium-map"
   ]
  },
  {
   "cell_type": "markdown",
   "metadata": {},
   "source": [
    "## Correction section"
   ]
  },
  {
   "cell_type": "code",
   "execution_count": 11,
   "metadata": {},
   "outputs": [],
   "source": [
    "# df.at[index#,'col_name']"
   ]
  },
  {
   "cell_type": "markdown",
   "metadata": {},
   "source": [
    "## Format Data"
   ]
  },
  {
   "cell_type": "code",
   "execution_count": 12,
   "metadata": {},
   "outputs": [],
   "source": [
    "### Insert NaNs if needed ###\n",
    "df = df.replace('N/A', np.nan)"
   ]
  },
  {
   "cell_type": "code",
   "execution_count": 13,
   "metadata": {},
   "outputs": [],
   "source": [
    "df['int_Sale_Price'] = df['Sale Price'].str.replace('$','',regex=False)"
   ]
  },
  {
   "cell_type": "code",
   "execution_count": 14,
   "metadata": {},
   "outputs": [],
   "source": [
    "df['int_Sale_Price'] = df['int_Sale_Price'].str.replace(',','',regex=False)"
   ]
  },
  {
   "cell_type": "code",
   "execution_count": 15,
   "metadata": {},
   "outputs": [],
   "source": [
    "df['int_Sale_Price'] = pd.to_numeric(df['int_Sale_Price'])"
   ]
  },
  {
   "cell_type": "code",
   "execution_count": 16,
   "metadata": {},
   "outputs": [],
   "source": [
    "df['price_per_sqft'] = df['price_per_sqft'].str.replace('$','',regex=False)\n",
    "df['price_per_sqft'] = df['price_per_sqft'].str.replace(',','',regex=False)\n",
    "df['price_per_sqft'] = pd.to_numeric(df['price_per_sqft'])\n",
    "\n",
    "df['days_on_market'] = pd.to_numeric(df['days_on_market'])"
   ]
  },
  {
   "cell_type": "markdown",
   "metadata": {},
   "source": [
    "## Color-code top sale"
   ]
  },
  {
   "cell_type": "code",
   "execution_count": 17,
   "metadata": {},
   "outputs": [],
   "source": [
    "### Insert RANK values ###\n",
    "df['RANK'] = range(1, len(df) + 1)\n",
    "# use numpy to assign values to the 'COLOR' column\n",
    "df['COLOR'] = np.where(df['RANK'] <= 1, 'orange', 'blue')"
   ]
  },
  {
   "cell_type": "markdown",
   "metadata": {},
   "source": [
    "## HTML Popup Formatter"
   ]
  },
  {
   "cell_type": "code",
   "execution_count": 18,
   "metadata": {},
   "outputs": [
    {
     "data": {
      "text/plain": [
       "Index(['building_address_city', 'Close Date', 'days_on_market', 'Sale Price',\n",
       "       'Sq. Ft.', 'price_per_sqft', 'Agent', 'Listing Broker', 'Buyer Agent',\n",
       "       'Buyer Broker', 'geo_address_x', 'geo_address_y', 'building_name',\n",
       "       'address', 'geocoded', 'lat', 'lon', 'int_Sale_Price', 'RANK', 'COLOR'],\n",
       "      dtype='object')"
      ]
     },
     "execution_count": 18,
     "metadata": {},
     "output_type": "execute_result"
    }
   ],
   "source": [
    "df.columns"
   ]
  },
  {
   "cell_type": "code",
   "execution_count": 19,
   "metadata": {},
   "outputs": [],
   "source": [
    "def popup_html(row):\n",
    "    building_name = row['building_name']\n",
    "    price = row['Sale Price']\n",
    "    days_on_market = row['days_on_market']\n",
    "    listing_agent = row['Agent']\n",
    "    buyers_agent = row['Buyer Agent']\n",
    "    psf = row['price_per_sqft']\n",
    "    address = row['address']\n",
    "    \n",
    "    html = '''<!DOCTYPE html>\n",
    "    <html>\n",
    "    <strong>Building Name: </strong>{}'''.format(building_name) + '''<br>\n",
    "    <strong>Sale Price: </strong>{}'''.format(price) + '''<br>\n",
    "    <strong>Days on Market: </strong>{}'''.format(days_on_market) + '''<br>\n",
    "    <strong>Listing Agent: </strong>{}'''.format(listing_agent) + '''<br>\n",
    "    <strong>Buyer's Agent: </strong>{}'''.format(buyers_agent) + '''<br>\n",
    "    <strong>Price sq ft: </strong>${}'''.format(psf) + '''<br>\n",
    "    <strong>Address: </strong>{}'''.format(address) + '''<br>\n",
    "    </html>\n",
    "    '''\n",
    "    return html"
   ]
  },
  {
   "cell_type": "code",
   "execution_count": 20,
   "metadata": {},
   "outputs": [
    {
     "data": {
      "text/html": [
       "<div style=\"width:100%;\"><div style=\"position:relative;width:100%;height:0;padding-bottom:60%;\"><span style=\"color:#565656\">Make this Notebook Trusted to load map: File -> Trust Notebook</span><iframe srcdoc=\"&lt;!DOCTYPE html&gt;\n",
       "&lt;head&gt;    \n",
       "    &lt;meta http-equiv=&quot;content-type&quot; content=&quot;text/html; charset=UTF-8&quot; /&gt;\n",
       "    \n",
       "        &lt;script&gt;\n",
       "            L_NO_TOUCH = false;\n",
       "            L_DISABLE_3D = false;\n",
       "        &lt;/script&gt;\n",
       "    \n",
       "    &lt;style&gt;html, body {width: 100%;height: 100%;margin: 0;padding: 0;}&lt;/style&gt;\n",
       "    &lt;style&gt;#map {position:absolute;top:0;bottom:0;right:0;left:0;}&lt;/style&gt;\n",
       "    &lt;script src=&quot;https://cdn.jsdelivr.net/npm/leaflet@1.6.0/dist/leaflet.js&quot;&gt;&lt;/script&gt;\n",
       "    &lt;script src=&quot;https://code.jquery.com/jquery-1.12.4.min.js&quot;&gt;&lt;/script&gt;\n",
       "    &lt;script src=&quot;https://maxcdn.bootstrapcdn.com/bootstrap/3.2.0/js/bootstrap.min.js&quot;&gt;&lt;/script&gt;\n",
       "    &lt;script src=&quot;https://cdnjs.cloudflare.com/ajax/libs/Leaflet.awesome-markers/2.0.2/leaflet.awesome-markers.js&quot;&gt;&lt;/script&gt;\n",
       "    &lt;link rel=&quot;stylesheet&quot; href=&quot;https://cdn.jsdelivr.net/npm/leaflet@1.6.0/dist/leaflet.css&quot;/&gt;\n",
       "    &lt;link rel=&quot;stylesheet&quot; href=&quot;https://maxcdn.bootstrapcdn.com/bootstrap/3.2.0/css/bootstrap.min.css&quot;/&gt;\n",
       "    &lt;link rel=&quot;stylesheet&quot; href=&quot;https://maxcdn.bootstrapcdn.com/bootstrap/3.2.0/css/bootstrap-theme.min.css&quot;/&gt;\n",
       "    &lt;link rel=&quot;stylesheet&quot; href=&quot;https://maxcdn.bootstrapcdn.com/font-awesome/4.6.3/css/font-awesome.min.css&quot;/&gt;\n",
       "    &lt;link rel=&quot;stylesheet&quot; href=&quot;https://cdnjs.cloudflare.com/ajax/libs/Leaflet.awesome-markers/2.0.2/leaflet.awesome-markers.css&quot;/&gt;\n",
       "    &lt;link rel=&quot;stylesheet&quot; href=&quot;https://cdn.jsdelivr.net/gh/python-visualization/folium/folium/templates/leaflet.awesome.rotate.min.css&quot;/&gt;\n",
       "    \n",
       "            &lt;meta name=&quot;viewport&quot; content=&quot;width=device-width,\n",
       "                initial-scale=1.0, maximum-scale=1.0, user-scalable=no&quot; /&gt;\n",
       "            &lt;style&gt;\n",
       "                #map_6d4feaefce95cb819f10d27a54227f1d {\n",
       "                    position: relative;\n",
       "                    width: 100.0%;\n",
       "                    height: 100.0%;\n",
       "                    left: 0.0%;\n",
       "                    top: 0.0%;\n",
       "                }\n",
       "            &lt;/style&gt;\n",
       "        \n",
       "&lt;/head&gt;\n",
       "&lt;body&gt;    \n",
       "    \n",
       "              &lt;h3 align=&quot;center&quot; style=&quot;font-size:16px&quot;&gt;&lt;b&gt;Recent Miami-Dade Condo Sales &lt;/b&gt;&lt;/h3&gt;\n",
       "             \n",
       "    \n",
       "                &lt;p align=&quot;center&quot; style=&quot;vertical-align: bottom; font-size:13px&quot;&gt;&lt;i&gt;July 9th - July 15th&lt;/i&gt;&lt;/p&gt;\n",
       "                \n",
       "    \n",
       "            &lt;div class=&quot;folium-map&quot; id=&quot;map_6d4feaefce95cb819f10d27a54227f1d&quot; &gt;&lt;/div&gt;\n",
       "        \n",
       "&lt;/body&gt;\n",
       "&lt;script&gt;    \n",
       "    \n",
       "            var map_6d4feaefce95cb819f10d27a54227f1d = L.map(\n",
       "                &quot;map_6d4feaefce95cb819f10d27a54227f1d&quot;,\n",
       "                {\n",
       "                    center: [25.798734869999997, -80.15189233999999],\n",
       "                    crs: L.CRS.EPSG3857,\n",
       "                    zoom: 9.5,\n",
       "                    zoomControl: true,\n",
       "                    preferCanvas: false,\n",
       "                }\n",
       "            );\n",
       "\n",
       "            \n",
       "\n",
       "        \n",
       "    \n",
       "            var feature_group_1b16f9f7662d67256f0c70e0184ea4ad = L.featureGroup(\n",
       "                {}\n",
       "            ).addTo(map_6d4feaefce95cb819f10d27a54227f1d);\n",
       "        \n",
       "    \n",
       "            var marker_01f8e1c758ea7caa6a48c24c5a390e45 = L.marker(\n",
       "                [25.729886, -80.2368583],\n",
       "                {&quot;fill&quot;: true, &quot;radius&quot;: 5}\n",
       "            ).addTo(feature_group_1b16f9f7662d67256f0c70e0184ea4ad);\n",
       "        \n",
       "    \n",
       "            var icon_a98d99d6e02817e7b774405f08a1d04b = L.AwesomeMarkers.icon(\n",
       "                {&quot;extraClasses&quot;: &quot;fa-rotate-0&quot;, &quot;icon&quot;: &quot;info-sign&quot;, &quot;iconColor&quot;: &quot;white&quot;, &quot;markerColor&quot;: &quot;orange&quot;, &quot;prefix&quot;: &quot;glyphicon&quot;}\n",
       "            );\n",
       "            marker_01f8e1c758ea7caa6a48c24c5a390e45.setIcon(icon_a98d99d6e02817e7b774405f08a1d04b);\n",
       "        \n",
       "    \n",
       "        var popup_93a6f6f7468a51ebdeb3456cbadfca0a = L.popup({&quot;maxWidth&quot;: 400});\n",
       "\n",
       "        \n",
       "            \n",
       "                var html_2a45725ef59ad4e8b03259f3b38b5c3d = $(`&lt;div id=&quot;html_2a45725ef59ad4e8b03259f3b38b5c3d&quot; style=&quot;width: 100.0%; height: 100.0%;&quot;&gt;&lt;!DOCTYPE html&gt;     &lt;html&gt;     &lt;strong&gt;Building Name: &lt;/strong&gt;Grove at Grand Day South&lt;br&gt;     &lt;strong&gt;Sale Price: &lt;/strong&gt;$11,000,000.00&lt;br&gt;     &lt;strong&gt;Days on Market: &lt;/strong&gt;140&lt;br&gt;     &lt;strong&gt;Listing Agent: &lt;/strong&gt;Dora Puig&lt;br&gt;     &lt;strong&gt;Buyer&#x27;s Agent: &lt;/strong&gt;Chad Carroll&lt;br&gt;     &lt;strong&gt;Price sq ft: &lt;/strong&gt;$2272.73&lt;br&gt;     &lt;strong&gt;Address: &lt;/strong&gt;2675 S Bayshore Dr 1802S&lt;br&gt;     &lt;/html&gt;     &lt;/div&gt;`)[0];\n",
       "                popup_93a6f6f7468a51ebdeb3456cbadfca0a.setContent(html_2a45725ef59ad4e8b03259f3b38b5c3d);\n",
       "            \n",
       "        \n",
       "\n",
       "        marker_01f8e1c758ea7caa6a48c24c5a390e45.bindPopup(popup_93a6f6f7468a51ebdeb3456cbadfca0a)\n",
       "        ;\n",
       "\n",
       "        \n",
       "    \n",
       "    \n",
       "            var feature_group_f9e376eb44bf92bc2fd108cf796a6b66 = L.featureGroup(\n",
       "                {}\n",
       "            ).addTo(map_6d4feaefce95cb819f10d27a54227f1d);\n",
       "        \n",
       "    \n",
       "            var marker_05118b78514386a80e39ca373b2cba88 = L.marker(\n",
       "                [25.8768475, -80.1214662],\n",
       "                {&quot;fill&quot;: true, &quot;radius&quot;: 5}\n",
       "            ).addTo(feature_group_f9e376eb44bf92bc2fd108cf796a6b66);\n",
       "        \n",
       "    \n",
       "            var icon_d866ac9365a96ffb288eb70d9e8cf600 = L.AwesomeMarkers.icon(\n",
       "                {&quot;extraClasses&quot;: &quot;fa-rotate-0&quot;, &quot;icon&quot;: &quot;info-sign&quot;, &quot;iconColor&quot;: &quot;white&quot;, &quot;markerColor&quot;: &quot;blue&quot;, &quot;prefix&quot;: &quot;glyphicon&quot;}\n",
       "            );\n",
       "            marker_05118b78514386a80e39ca373b2cba88.setIcon(icon_d866ac9365a96ffb288eb70d9e8cf600);\n",
       "        \n",
       "    \n",
       "        var popup_e95d02e47a7f3b57ff76bba4570bb120 = L.popup({&quot;maxWidth&quot;: 400});\n",
       "\n",
       "        \n",
       "            \n",
       "                var html_1c4d73d1648ea63d16f27e2ba2625019 = $(`&lt;div id=&quot;html_1c4d73d1648ea63d16f27e2ba2625019&quot; style=&quot;width: 100.0%; height: 100.0%;&quot;&gt;&lt;!DOCTYPE html&gt;     &lt;html&gt;     &lt;strong&gt;Building Name: &lt;/strong&gt;The Surf Club&lt;br&gt;     &lt;strong&gt;Sale Price: &lt;/strong&gt;$5,700,000.00&lt;br&gt;     &lt;strong&gt;Days on Market: &lt;/strong&gt;27&lt;br&gt;     &lt;strong&gt;Listing Agent: &lt;/strong&gt;Michael Duchon&lt;br&gt;     &lt;strong&gt;Buyer&#x27;s Agent: &lt;/strong&gt;Ximena Penuela&lt;br&gt;     &lt;strong&gt;Price sq ft: &lt;/strong&gt;$2668.54&lt;br&gt;     &lt;strong&gt;Address: &lt;/strong&gt;9001 Collins Ave S410&lt;br&gt;     &lt;/html&gt;     &lt;/div&gt;`)[0];\n",
       "                popup_e95d02e47a7f3b57ff76bba4570bb120.setContent(html_1c4d73d1648ea63d16f27e2ba2625019);\n",
       "            \n",
       "        \n",
       "\n",
       "        marker_05118b78514386a80e39ca373b2cba88.bindPopup(popup_e95d02e47a7f3b57ff76bba4570bb120)\n",
       "        ;\n",
       "\n",
       "        \n",
       "    \n",
       "    \n",
       "            var marker_bd33098b96c89cc4b889b09a0a2f5738 = L.marker(\n",
       "                [25.6944155, -80.15766090000001],\n",
       "                {&quot;fill&quot;: true, &quot;radius&quot;: 5}\n",
       "            ).addTo(feature_group_f9e376eb44bf92bc2fd108cf796a6b66);\n",
       "        \n",
       "    \n",
       "            var icon_43882c374e682d8e45f28dfb35c6c662 = L.AwesomeMarkers.icon(\n",
       "                {&quot;extraClasses&quot;: &quot;fa-rotate-0&quot;, &quot;icon&quot;: &quot;info-sign&quot;, &quot;iconColor&quot;: &quot;white&quot;, &quot;markerColor&quot;: &quot;blue&quot;, &quot;prefix&quot;: &quot;glyphicon&quot;}\n",
       "            );\n",
       "            marker_bd33098b96c89cc4b889b09a0a2f5738.setIcon(icon_43882c374e682d8e45f28dfb35c6c662);\n",
       "        \n",
       "    \n",
       "        var popup_25158db3ce4d3d003a24dd9838d87fa4 = L.popup({&quot;maxWidth&quot;: 400});\n",
       "\n",
       "        \n",
       "            \n",
       "                var html_488597bd07a806f72868a4e921321e6b = $(`&lt;div id=&quot;html_488597bd07a806f72868a4e921321e6b&quot; style=&quot;width: 100.0%; height: 100.0%;&quot;&gt;&lt;!DOCTYPE html&gt;     &lt;html&gt;     &lt;strong&gt;Building Name: &lt;/strong&gt;Oceana Key Biscayne&lt;br&gt;     &lt;strong&gt;Sale Price: &lt;/strong&gt;$5,600,000.00&lt;br&gt;     &lt;strong&gt;Days on Market: &lt;/strong&gt;25&lt;br&gt;     &lt;strong&gt;Listing Agent: &lt;/strong&gt;Bruno Junqueira&lt;br&gt;     &lt;strong&gt;Buyer&#x27;s Agent: &lt;/strong&gt;Jacqueline Gallardo&lt;br&gt;     &lt;strong&gt;Price sq ft: &lt;/strong&gt;$2481.17&lt;br&gt;     &lt;strong&gt;Address: &lt;/strong&gt;360 Ocean Dr 906 Key&lt;br&gt;     &lt;/html&gt;     &lt;/div&gt;`)[0];\n",
       "                popup_25158db3ce4d3d003a24dd9838d87fa4.setContent(html_488597bd07a806f72868a4e921321e6b);\n",
       "            \n",
       "        \n",
       "\n",
       "        marker_bd33098b96c89cc4b889b09a0a2f5738.bindPopup(popup_25158db3ce4d3d003a24dd9838d87fa4)\n",
       "        ;\n",
       "\n",
       "        \n",
       "    \n",
       "    \n",
       "            var marker_bd7f6eda2fbebcac560e212ecf4ec142 = L.marker(\n",
       "                [25.8422691, -80.1203074],\n",
       "                {&quot;fill&quot;: true, &quot;radius&quot;: 5}\n",
       "            ).addTo(feature_group_f9e376eb44bf92bc2fd108cf796a6b66);\n",
       "        \n",
       "    \n",
       "            var icon_76781aefdd2a5a755b95b64a36a89220 = L.AwesomeMarkers.icon(\n",
       "                {&quot;extraClasses&quot;: &quot;fa-rotate-0&quot;, &quot;icon&quot;: &quot;info-sign&quot;, &quot;iconColor&quot;: &quot;white&quot;, &quot;markerColor&quot;: &quot;blue&quot;, &quot;prefix&quot;: &quot;glyphicon&quot;}\n",
       "            );\n",
       "            marker_bd7f6eda2fbebcac560e212ecf4ec142.setIcon(icon_76781aefdd2a5a755b95b64a36a89220);\n",
       "        \n",
       "    \n",
       "        var popup_fafd06ee85ebdf28e97d6b2562521ec1 = L.popup({&quot;maxWidth&quot;: 400});\n",
       "\n",
       "        \n",
       "            \n",
       "                var html_679818af45cef944301dbd6e64e69595 = $(`&lt;div id=&quot;html_679818af45cef944301dbd6e64e69595&quot; style=&quot;width: 100.0%; height: 100.0%;&quot;&gt;&lt;!DOCTYPE html&gt;     &lt;html&gt;     &lt;strong&gt;Building Name: &lt;/strong&gt;The Bath Club&lt;br&gt;     &lt;strong&gt;Sale Price: &lt;/strong&gt;$3,100,000.00&lt;br&gt;     &lt;strong&gt;Days on Market: &lt;/strong&gt;344&lt;br&gt;     &lt;strong&gt;Listing Agent: &lt;/strong&gt;Santiago Villegas&lt;br&gt;     &lt;strong&gt;Buyer&#x27;s Agent: &lt;/strong&gt;Judith Werner&lt;br&gt;     &lt;strong&gt;Price sq ft: &lt;/strong&gt;$1205.29&lt;br&gt;     &lt;strong&gt;Address: &lt;/strong&gt;5959 Collins Ave 702 Miami&lt;br&gt;     &lt;/html&gt;     &lt;/div&gt;`)[0];\n",
       "                popup_fafd06ee85ebdf28e97d6b2562521ec1.setContent(html_679818af45cef944301dbd6e64e69595);\n",
       "            \n",
       "        \n",
       "\n",
       "        marker_bd7f6eda2fbebcac560e212ecf4ec142.bindPopup(popup_fafd06ee85ebdf28e97d6b2562521ec1)\n",
       "        ;\n",
       "\n",
       "        \n",
       "    \n",
       "    \n",
       "            var marker_e1f3ede287349a95266af513f26a6f52 = L.marker(\n",
       "                [25.7677055, -80.1348768],\n",
       "                {&quot;fill&quot;: true, &quot;radius&quot;: 5}\n",
       "            ).addTo(feature_group_f9e376eb44bf92bc2fd108cf796a6b66);\n",
       "        \n",
       "    \n",
       "            var icon_8003de245f6d913bc82e3636b1d84537 = L.AwesomeMarkers.icon(\n",
       "                {&quot;extraClasses&quot;: &quot;fa-rotate-0&quot;, &quot;icon&quot;: &quot;info-sign&quot;, &quot;iconColor&quot;: &quot;white&quot;, &quot;markerColor&quot;: &quot;blue&quot;, &quot;prefix&quot;: &quot;glyphicon&quot;}\n",
       "            );\n",
       "            marker_e1f3ede287349a95266af513f26a6f52.setIcon(icon_8003de245f6d913bc82e3636b1d84537);\n",
       "        \n",
       "    \n",
       "        var popup_5a505f0d3af4f36c9057ed75312c5607 = L.popup({&quot;maxWidth&quot;: 400});\n",
       "\n",
       "        \n",
       "            \n",
       "                var html_40bcb87958ce27cf5bfdb1b0c19c6f4f = $(`&lt;div id=&quot;html_40bcb87958ce27cf5bfdb1b0c19c6f4f&quot; style=&quot;width: 100.0%; height: 100.0%;&quot;&gt;&lt;!DOCTYPE html&gt;     &lt;html&gt;     &lt;strong&gt;Building Name: &lt;/strong&gt;Portofino Tower&lt;br&gt;     &lt;strong&gt;Sale Price: &lt;/strong&gt;$3,055,000.00&lt;br&gt;     &lt;strong&gt;Days on Market: &lt;/strong&gt;233&lt;br&gt;     &lt;strong&gt;Listing Agent: &lt;/strong&gt;Oiva Lloyd&lt;br&gt;     &lt;strong&gt;Buyer&#x27;s Agent: &lt;/strong&gt;Esha Desaiy&lt;br&gt;     &lt;strong&gt;Price sq ft: &lt;/strong&gt;$1305.56&lt;br&gt;     &lt;strong&gt;Address: &lt;/strong&gt;300 S Pointe Dr 2805 Miami&lt;br&gt;     &lt;/html&gt;     &lt;/div&gt;`)[0];\n",
       "                popup_5a505f0d3af4f36c9057ed75312c5607.setContent(html_40bcb87958ce27cf5bfdb1b0c19c6f4f);\n",
       "            \n",
       "        \n",
       "\n",
       "        marker_e1f3ede287349a95266af513f26a6f52.bindPopup(popup_5a505f0d3af4f36c9057ed75312c5607)\n",
       "        ;\n",
       "\n",
       "        \n",
       "    \n",
       "    \n",
       "            var marker_2ccf439be3cc27dba32fa6faeace2b3d = L.marker(\n",
       "                [25.9355069, -80.1210746],\n",
       "                {&quot;fill&quot;: true, &quot;radius&quot;: 5}\n",
       "            ).addTo(feature_group_f9e376eb44bf92bc2fd108cf796a6b66);\n",
       "        \n",
       "    \n",
       "            var icon_314dbba6c3dac383fe524d31836287fd = L.AwesomeMarkers.icon(\n",
       "                {&quot;extraClasses&quot;: &quot;fa-rotate-0&quot;, &quot;icon&quot;: &quot;info-sign&quot;, &quot;iconColor&quot;: &quot;white&quot;, &quot;markerColor&quot;: &quot;blue&quot;, &quot;prefix&quot;: &quot;glyphicon&quot;}\n",
       "            );\n",
       "            marker_2ccf439be3cc27dba32fa6faeace2b3d.setIcon(icon_314dbba6c3dac383fe524d31836287fd);\n",
       "        \n",
       "    \n",
       "        var popup_1f429d9c6485b7fee4bd461a33d6b3e7 = L.popup({&quot;maxWidth&quot;: 400});\n",
       "\n",
       "        \n",
       "            \n",
       "                var html_45bcfd74102cffc674cd2713631dbbbf = $(`&lt;div id=&quot;html_45bcfd74102cffc674cd2713631dbbbf&quot; style=&quot;width: 100.0%; height: 100.0%;&quot;&gt;&lt;!DOCTYPE html&gt;     &lt;html&gt;     &lt;strong&gt;Building Name: &lt;/strong&gt;Ocean Four Condo&lt;br&gt;     &lt;strong&gt;Sale Price: &lt;/strong&gt;$2,822,500.00&lt;br&gt;     &lt;strong&gt;Days on Market: &lt;/strong&gt;34&lt;br&gt;     &lt;strong&gt;Listing Agent: &lt;/strong&gt;Valentina Wish&lt;br&gt;     &lt;strong&gt;Buyer&#x27;s Agent: &lt;/strong&gt;Serg Breit&lt;br&gt;     &lt;strong&gt;Price sq ft: &lt;/strong&gt;$1024.5&lt;br&gt;     &lt;strong&gt;Address: &lt;/strong&gt;17021 Collins Ave 4001 Sunny Isles&lt;br&gt;     &lt;/html&gt;     &lt;/div&gt;`)[0];\n",
       "                popup_1f429d9c6485b7fee4bd461a33d6b3e7.setContent(html_45bcfd74102cffc674cd2713631dbbbf);\n",
       "            \n",
       "        \n",
       "\n",
       "        marker_2ccf439be3cc27dba32fa6faeace2b3d.bindPopup(popup_1f429d9c6485b7fee4bd461a33d6b3e7)\n",
       "        ;\n",
       "\n",
       "        \n",
       "    \n",
       "    \n",
       "            var marker_095c918f14b5c4081bf57bb7b42a6485 = L.marker(\n",
       "                [25.6999647, -80.15673220000001],\n",
       "                {&quot;fill&quot;: true, &quot;radius&quot;: 5}\n",
       "            ).addTo(feature_group_f9e376eb44bf92bc2fd108cf796a6b66);\n",
       "        \n",
       "    \n",
       "            var icon_2ec4879041bef7bd6475b6496221018c = L.AwesomeMarkers.icon(\n",
       "                {&quot;extraClasses&quot;: &quot;fa-rotate-0&quot;, &quot;icon&quot;: &quot;info-sign&quot;, &quot;iconColor&quot;: &quot;white&quot;, &quot;markerColor&quot;: &quot;blue&quot;, &quot;prefix&quot;: &quot;glyphicon&quot;}\n",
       "            );\n",
       "            marker_095c918f14b5c4081bf57bb7b42a6485.setIcon(icon_2ec4879041bef7bd6475b6496221018c);\n",
       "        \n",
       "    \n",
       "        var popup_219ffed6599c73e79dde73fb44a3fe4e = L.popup({&quot;maxWidth&quot;: 400});\n",
       "\n",
       "        \n",
       "            \n",
       "                var html_ef2955c0d3742a48ac575e8099d1c53e = $(`&lt;div id=&quot;html_ef2955c0d3742a48ac575e8099d1c53e&quot; style=&quot;width: 100.0%; height: 100.0%;&quot;&gt;&lt;!DOCTYPE html&gt;     &lt;html&gt;     &lt;strong&gt;Building Name: &lt;/strong&gt;Commodore Club East&lt;br&gt;     &lt;strong&gt;Sale Price: &lt;/strong&gt;$2,700,000.00&lt;br&gt;     &lt;strong&gt;Days on Market: &lt;/strong&gt;237&lt;br&gt;     &lt;strong&gt;Listing Agent: &lt;/strong&gt;Luccia Dasburg&lt;br&gt;     &lt;strong&gt;Buyer&#x27;s Agent: &lt;/strong&gt;Yamile Zayed&lt;br&gt;     &lt;strong&gt;Price sq ft: &lt;/strong&gt;$1398.96&lt;br&gt;     &lt;strong&gt;Address: &lt;/strong&gt;177 Ocean Lane Dr 1000 Key&lt;br&gt;     &lt;/html&gt;     &lt;/div&gt;`)[0];\n",
       "                popup_219ffed6599c73e79dde73fb44a3fe4e.setContent(html_ef2955c0d3742a48ac575e8099d1c53e);\n",
       "            \n",
       "        \n",
       "\n",
       "        marker_095c918f14b5c4081bf57bb7b42a6485.bindPopup(popup_219ffed6599c73e79dde73fb44a3fe4e)\n",
       "        ;\n",
       "\n",
       "        \n",
       "    \n",
       "    \n",
       "            var marker_db7464a1572e250478e00b609ae61a16 = L.marker(\n",
       "                [25.7911556, -80.1468362],\n",
       "                {&quot;fill&quot;: true, &quot;radius&quot;: 5}\n",
       "            ).addTo(feature_group_f9e376eb44bf92bc2fd108cf796a6b66);\n",
       "        \n",
       "    \n",
       "            var icon_d795f446dcc0a26499a974b769c8d972 = L.AwesomeMarkers.icon(\n",
       "                {&quot;extraClasses&quot;: &quot;fa-rotate-0&quot;, &quot;icon&quot;: &quot;info-sign&quot;, &quot;iconColor&quot;: &quot;white&quot;, &quot;markerColor&quot;: &quot;blue&quot;, &quot;prefix&quot;: &quot;glyphicon&quot;}\n",
       "            );\n",
       "            marker_db7464a1572e250478e00b609ae61a16.setIcon(icon_d795f446dcc0a26499a974b769c8d972);\n",
       "        \n",
       "    \n",
       "        var popup_c32d36f16e64f56a50a8fbbf86831a20 = L.popup({&quot;maxWidth&quot;: 400});\n",
       "\n",
       "        \n",
       "            \n",
       "                var html_ce871e96803a1bc42c245c58ff1222e3 = $(`&lt;div id=&quot;html_ce871e96803a1bc42c245c58ff1222e3&quot; style=&quot;width: 100.0%; height: 100.0%;&quot;&gt;&lt;!DOCTYPE html&gt;     &lt;html&gt;     &lt;strong&gt;Building Name: &lt;/strong&gt;The Grand Venetian&lt;br&gt;     &lt;strong&gt;Sale Price: &lt;/strong&gt;$2,425,000.00&lt;br&gt;     &lt;strong&gt;Days on Market: &lt;/strong&gt;70&lt;br&gt;     &lt;strong&gt;Listing Agent: &lt;/strong&gt;Francisco Navarro&lt;br&gt;     &lt;strong&gt;Buyer&#x27;s Agent: &lt;/strong&gt;Stefan Segall&lt;br&gt;     &lt;strong&gt;Price sq ft: &lt;/strong&gt;$1641.84&lt;br&gt;     &lt;strong&gt;Address: &lt;/strong&gt;10 Venetian Way 1401 Miami&lt;br&gt;     &lt;/html&gt;     &lt;/div&gt;`)[0];\n",
       "                popup_c32d36f16e64f56a50a8fbbf86831a20.setContent(html_ce871e96803a1bc42c245c58ff1222e3);\n",
       "            \n",
       "        \n",
       "\n",
       "        marker_db7464a1572e250478e00b609ae61a16.bindPopup(popup_c32d36f16e64f56a50a8fbbf86831a20)\n",
       "        ;\n",
       "\n",
       "        \n",
       "    \n",
       "    \n",
       "            var marker_a1d4a4976b8f740009eeea70dc07f931 = L.marker(\n",
       "                [25.8885049, -80.1295143],\n",
       "                {&quot;fill&quot;: true, &quot;radius&quot;: 5}\n",
       "            ).addTo(feature_group_f9e376eb44bf92bc2fd108cf796a6b66);\n",
       "        \n",
       "    \n",
       "            var icon_9ca40e2fe0028db41e932232ffead0a7 = L.AwesomeMarkers.icon(\n",
       "                {&quot;extraClasses&quot;: &quot;fa-rotate-0&quot;, &quot;icon&quot;: &quot;info-sign&quot;, &quot;iconColor&quot;: &quot;white&quot;, &quot;markerColor&quot;: &quot;blue&quot;, &quot;prefix&quot;: &quot;glyphicon&quot;}\n",
       "            );\n",
       "            marker_a1d4a4976b8f740009eeea70dc07f931.setIcon(icon_9ca40e2fe0028db41e932232ffead0a7);\n",
       "        \n",
       "    \n",
       "        var popup_608542ea0b9d98676a0380618417df21 = L.popup({&quot;maxWidth&quot;: 400});\n",
       "\n",
       "        \n",
       "            \n",
       "                var html_2decf56f6673bf61d02f389fdfdf9681 = $(`&lt;div id=&quot;html_2decf56f6673bf61d02f389fdfdf9681&quot; style=&quot;width: 100.0%; height: 100.0%;&quot;&gt;&lt;!DOCTYPE html&gt;     &lt;html&gt;     &lt;strong&gt;Building Name: &lt;/strong&gt;Carroll Walk Condo&lt;br&gt;     &lt;strong&gt;Sale Price: &lt;/strong&gt;$2,200,000.00&lt;br&gt;     &lt;strong&gt;Days on Market: &lt;/strong&gt;142&lt;br&gt;     &lt;strong&gt;Listing Agent: &lt;/strong&gt;Elissa Lithman&lt;br&gt;     &lt;strong&gt;Buyer&#x27;s Agent: &lt;/strong&gt;James Branham&lt;br&gt;     &lt;strong&gt;Price sq ft: &lt;/strong&gt;$654.96&lt;br&gt;     &lt;strong&gt;Address: &lt;/strong&gt;9751 E Bay Harbor Dr PHNA-1601 Bay Harbor&lt;br&gt;     &lt;/html&gt;     &lt;/div&gt;`)[0];\n",
       "                popup_608542ea0b9d98676a0380618417df21.setContent(html_2decf56f6673bf61d02f389fdfdf9681);\n",
       "            \n",
       "        \n",
       "\n",
       "        marker_a1d4a4976b8f740009eeea70dc07f931.bindPopup(popup_608542ea0b9d98676a0380618417df21)\n",
       "        ;\n",
       "\n",
       "        \n",
       "    \n",
       "    \n",
       "            var marker_537a4178a364640345578ef3f5df0946 = L.marker(\n",
       "                [25.761093, -80.1935965],\n",
       "                {&quot;fill&quot;: true, &quot;radius&quot;: 5}\n",
       "            ).addTo(feature_group_f9e376eb44bf92bc2fd108cf796a6b66);\n",
       "        \n",
       "    \n",
       "            var icon_daafb68b6770912d5fc93950846e327e = L.AwesomeMarkers.icon(\n",
       "                {&quot;extraClasses&quot;: &quot;fa-rotate-0&quot;, &quot;icon&quot;: &quot;info-sign&quot;, &quot;iconColor&quot;: &quot;white&quot;, &quot;markerColor&quot;: &quot;blue&quot;, &quot;prefix&quot;: &quot;glyphicon&quot;}\n",
       "            );\n",
       "            marker_537a4178a364640345578ef3f5df0946.setIcon(icon_daafb68b6770912d5fc93950846e327e);\n",
       "        \n",
       "    \n",
       "        var popup_c8072c5369a5d6008fc86d36c21ca9c5 = L.popup({&quot;maxWidth&quot;: 400});\n",
       "\n",
       "        \n",
       "            \n",
       "                var html_3a57afe7d0b2007a9d76c4ed4c1ee3c3 = $(`&lt;div id=&quot;html_3a57afe7d0b2007a9d76c4ed4c1ee3c3&quot; style=&quot;width: 100.0%; height: 100.0%;&quot;&gt;&lt;!DOCTYPE html&gt;     &lt;html&gt;     &lt;strong&gt;Building Name: &lt;/strong&gt;SLS Brickell&lt;br&gt;     &lt;strong&gt;Sale Price: &lt;/strong&gt;$2,000,000.00&lt;br&gt;     &lt;strong&gt;Days on Market: &lt;/strong&gt;30&lt;br&gt;     &lt;strong&gt;Listing Agent: &lt;/strong&gt;Carla Ruiz Contreras PA&lt;br&gt;     &lt;strong&gt;Buyer&#x27;s Agent: &lt;/strong&gt;Pierce Love&lt;br&gt;     &lt;strong&gt;Price sq ft: &lt;/strong&gt;$1092.9&lt;br&gt;     &lt;strong&gt;Address: &lt;/strong&gt;1300 S Miami Ave PH5001&lt;br&gt;     &lt;/html&gt;     &lt;/div&gt;`)[0];\n",
       "                popup_c8072c5369a5d6008fc86d36c21ca9c5.setContent(html_3a57afe7d0b2007a9d76c4ed4c1ee3c3);\n",
       "            \n",
       "        \n",
       "\n",
       "        marker_537a4178a364640345578ef3f5df0946.bindPopup(popup_c8072c5369a5d6008fc86d36c21ca9c5)\n",
       "        ;\n",
       "\n",
       "        \n",
       "    \n",
       "    \n",
       "            var tile_layer_500ee99f3a31f303372c5dd133de9b05 = L.tileLayer(\n",
       "                &quot;https://{s}.tile.openstreetmap.org/{z}/{x}/{y}.png&quot;,\n",
       "                {&quot;attribution&quot;: &quot;Data by \\u0026copy; \\u003ca href=\\&quot;http://openstreetmap.org\\&quot;\\u003eOpenStreetMap\\u003c/a\\u003e, under \\u003ca href=\\&quot;http://www.openstreetmap.org/copyright\\&quot;\\u003eODbL\\u003c/a\\u003e.&quot;, &quot;detectRetina&quot;: false, &quot;maxNativeZoom&quot;: 18, &quot;maxZoom&quot;: 18, &quot;minZoom&quot;: 0, &quot;noWrap&quot;: false, &quot;opacity&quot;: 1, &quot;subdomains&quot;: &quot;abc&quot;, &quot;tms&quot;: false}\n",
       "            ).addTo(map_6d4feaefce95cb819f10d27a54227f1d);\n",
       "        \n",
       "    \n",
       "            var layer_control_f5b4b5403560217be3eb891ab6e9b07d = {\n",
       "                base_layers : {\n",
       "                },\n",
       "                overlays :  {\n",
       "                    &quot;Top Sale&quot; : feature_group_1b16f9f7662d67256f0c70e0184ea4ad,\n",
       "                    &quot;All other sales&quot; : feature_group_f9e376eb44bf92bc2fd108cf796a6b66,\n",
       "                },\n",
       "            };\n",
       "            L.control.layers(\n",
       "                layer_control_f5b4b5403560217be3eb891ab6e9b07d.base_layers,\n",
       "                layer_control_f5b4b5403560217be3eb891ab6e9b07d.overlays,\n",
       "                {&quot;autoZIndex&quot;: true, &quot;collapsed&quot;: false, &quot;position&quot;: &quot;topright&quot;}\n",
       "            ).addTo(map_6d4feaefce95cb819f10d27a54227f1d);\n",
       "        \n",
       "&lt;/script&gt;\" style=\"position:absolute;width:100%;height:100%;left:0;top:0;border:none !important;\" allowfullscreen webkitallowfullscreen mozallowfullscreen></iframe></div></div>"
      ],
      "text/plain": [
       "<folium.folium.Map at 0x7fc0502feee0>"
      ]
     },
     "execution_count": 20,
     "metadata": {},
     "output_type": "execute_result"
    }
   ],
   "source": [
    "import folium\n",
    "from folium.plugins import MarkerCluster\n",
    "\n",
    "m = folium.Map(location=df[[\"lat\", \"lon\"]].mean().to_list(), zoom_start=10)\n",
    "\n",
    "title_html = '''\n",
    "              <h3 align=\"center\" style=\"font-size:16px\"><b>{}</b></h3>\n",
    "             '''.format(f'Recent Miami-Dade Condo Sales ')\n",
    "\n",
    "caption_html = '''\n",
    "                <p align=\"center\" style=\"vertical-align: bottom; font-size:13px\"><i>{}</i></p>\n",
    "                '''.format('July 9th - July 15th')\n",
    "\n",
    "\n",
    "### Create map container ###\n",
    "m = folium.Map(location=df[[\"lat\", \"lon\"]].mean().to_list(),zoom_start=9.5,tiles=None)\n",
    "\n",
    "# Create two FeatureGroups for different color pins\n",
    "fg_blue = folium.FeatureGroup(name='All other sales')\n",
    "fg_orange = folium.FeatureGroup(name='Top Sale')\n",
    "\n",
    "for index, row in df.iterrows():\n",
    "    # Add the markers to the appropriate FeatureGroup based on the color\n",
    "    if row['COLOR'] == 'blue':\n",
    "        marker = folium.Marker(\n",
    "            location=[row['lat'], row['lon']],\n",
    "            radius=5,\n",
    "            fill=True,\n",
    "            icon=folium.Icon(color=row['COLOR']),\n",
    "            popup=folium.Popup(popup_html(row), max_width=400))\n",
    "        marker.add_to(fg_blue)\n",
    "    else:\n",
    "        marker = folium.Marker(\n",
    "            location=[row['lat'], row['lon']],\n",
    "            radius=5,\n",
    "            fill=True,\n",
    "            icon=folium.Icon(color=row['COLOR']),\n",
    "            popup=folium.Popup(popup_html(row), max_width=400))\n",
    "        marker.add_to(fg_orange)\n",
    "\n",
    "# Add the FeatureGroups to the map\n",
    "fg_orange.add_to(m)\n",
    "fg_blue.add_to(m)\n",
    "\n",
    "folium.TileLayer('OpenStreetMap',control=False).add_to(m)\n",
    "\n",
    "# Add LayerControl to the map\n",
    "folium.map.LayerControl(collapsed=False).add_to(m)\n",
    "m.get_root().html.add_child(folium.Element(title_html))\n",
    "m.get_root().html.add_child(folium.Element(caption_html))\n",
    "            \n",
    "# Display map\n",
    "m"
   ]
  },
  {
   "cell_type": "code",
   "execution_count": 21,
   "metadata": {},
   "outputs": [],
   "source": [
    "m.save('index.html')"
   ]
  },
  {
   "cell_type": "markdown",
   "metadata": {},
   "source": [
    "## Data snagger"
   ]
  },
  {
   "cell_type": "code",
   "execution_count": 22,
   "metadata": {},
   "outputs": [],
   "source": [
    "### Set up formatting ###\n",
    "BR = '\\n'\n",
    "\n",
    "ME = '\\033[1m' + 'Most Expensive' + '\\033[0m'\n",
    "LE = '\\033[1m' + 'Least Expensive' + '\\033[0m'\n",
    "\n",
    "MAX_PSF = '\\033[1m' + 'Highest Price Per Square Foot' + '\\033[0m'\n",
    "MIN_PSF = '\\033[1m' + 'Lowest Price Per Square Foot' + '\\033[0m'\n",
    "\n",
    "DAYS_MAX = '\\033[1m' + 'Most Days on Market' + '\\033[0m'\n",
    "DAYS_MIN = '\\033[1m' + 'Fewest Days on Market' + '\\033[0m'"
   ]
  },
  {
   "cell_type": "code",
   "execution_count": 23,
   "metadata": {},
   "outputs": [
    {
     "name": "stdout",
     "output_type": "stream",
     "text": [
      "\u001b[1mMost Expensive\u001b[0m\n",
      "Grove at Grand Day South, 2675 S Bayshore Dr 1802S | Price $11,000,000 | $2,273 psf | Listing agent: Dora Puig with Luxe Living Realty | Buyer's agent: Chad Carroll with Compass Florida, LLC. | Days on market: 140\n",
      "\u001b[1mLeast Expensive\u001b[0m\n",
      "SLS Brickell, 1300 S Miami Ave PH5001 | Price $2,000,000 | $1,093 psf | Listing agent: Carla Ruiz Contreras PA with Miami Masterpiece | Buyer's agent: Pierce Love with 1St Class Realty & Management Co. | Days on market: 30\n",
      "\u001b[1mHighest Price Per Square Foot\u001b[0m\n",
      "The Surf Club, 9001 Collins Ave S410 | Price $5,700,000 | $2,669 psf | Listing agent: Michael Duchon with The Corcoran Group | Buyer's agent: Ximena Penuela with Fort Realty, LLC | Days on market: 27\n",
      "\u001b[1mLowest Price Per Square Foot\u001b[0m\n",
      "Carroll Walk Condo, 9751 E Bay Harbor Dr PHNA-1601 Bay Harbor | Price $2,200,000 | $655 psf | Listing agent: Elissa Lithman with Compass Florida, LLC. | Buyer's agent: James Branham with The Keyes Company | Days on market: 142\n",
      "\u001b[1mMost Days on Market\u001b[0m\n",
      "The Bath Club, 5959 Collins Ave 702 Miami | Price $3,100,000 | $1,205 psf | Listing agent: Santiago Villegas with Fortune Christie's Int'l Real Estate | Buyer's agent: Judith Werner with Bold Miami, LLC | Days on market: 344\n",
      "\u001b[1mFewest Days on Market\u001b[0m\n",
      "Oceana Key Biscayne, 360 Ocean Dr 906 Key | Price $5,600,000 | $2,481 psf | Listing agent: Bruno Junqueira with Coldwell Banker Realty | Buyer's agent: Jacqueline Gallardo with One Sotheby's Int'l Realty | Days on market: 25\n"
     ]
    }
   ],
   "source": [
    "### Highest and lowest sale price ###\n",
    "print(f\"{ME}{BR}{df.loc[df['int_Sale_Price'].idxmax()]['building_name']}, {df.loc[df['int_Sale_Price'].idxmax()]['address']} | Price ${df.loc[df['int_Sale_Price'].idxmax()]['int_Sale_Price']:,.0f} | ${df.loc[df['int_Sale_Price'].idxmax()]['price_per_sqft']:,.0f} psf | Listing agent: {df.loc[df['int_Sale_Price'].idxmax()]['Agent']} with {df.loc[df['int_Sale_Price'].idxmax()]['Listing Broker']} | Buyer's agent: {df.loc[df['int_Sale_Price'].idxmax()]['Buyer Agent']} with {df.loc[df['int_Sale_Price'].idxmax()]['Buyer Broker']} | Days on market: {df.loc[df['int_Sale_Price'].idxmax()]['days_on_market']}\")\n",
    "print(f\"{LE}{BR}{df.loc[df['int_Sale_Price'].idxmin()]['building_name']}, {df.loc[df['int_Sale_Price'].idxmin()]['address']} | Price ${df.loc[df['int_Sale_Price'].idxmin()]['int_Sale_Price']:,.0f} | ${df.loc[df['int_Sale_Price'].idxmin()]['price_per_sqft']:,.0f} psf | Listing agent: {df.loc[df['int_Sale_Price'].idxmin()]['Agent']} with {df.loc[df['int_Sale_Price'].idxmin()]['Listing Broker']} | Buyer's agent: {df.loc[df['int_Sale_Price'].idxmin()]['Buyer Agent']} with {df.loc[df['int_Sale_Price'].idxmin()]['Buyer Broker']} | Days on market: {df.loc[df['int_Sale_Price'].idxmin()]['days_on_market']}\")\n",
    "### Highest and lowest psf ###\n",
    "print(f\"{MAX_PSF}{BR}{df.loc[df['price_per_sqft'].idxmax()]['building_name']}, {df.loc[df['price_per_sqft'].idxmax()]['address']} | Price ${df.loc[df['price_per_sqft'].idxmax()]['int_Sale_Price']:,.0f} | ${df.loc[df['price_per_sqft'].idxmax()]['price_per_sqft']:,.0f} psf | Listing agent: {df.loc[df['price_per_sqft'].idxmax()]['Agent']} with {df.loc[df['price_per_sqft'].idxmax()]['Listing Broker']} | Buyer's agent: {df.loc[df['price_per_sqft'].idxmax()]['Buyer Agent']} with {df.loc[df['price_per_sqft'].idxmax()]['Buyer Broker']} | Days on market: {df.loc[df['price_per_sqft'].idxmax()]['days_on_market']}\")\n",
    "print(f\"{MIN_PSF}{BR}{df.loc[df['price_per_sqft'].idxmin()]['building_name']}, {df.loc[df['price_per_sqft'].idxmin()]['address']} | Price ${df.loc[df['price_per_sqft'].idxmin()]['int_Sale_Price']:,.0f} | ${df.loc[df['price_per_sqft'].idxmin()]['price_per_sqft']:,.0f} psf | Listing agent: {df.loc[df['price_per_sqft'].idxmin()]['Agent']} with {df.loc[df['price_per_sqft'].idxmin()]['Listing Broker']} | Buyer's agent: {df.loc[df['price_per_sqft'].idxmin()]['Buyer Agent']} with {df.loc[df['price_per_sqft'].idxmin()]['Buyer Broker']} | Days on market: {df.loc[df['price_per_sqft'].idxmin()]['days_on_market']}\")\n",
    "### Highest and lowest days on market ###\n",
    "print(f\"{DAYS_MAX}{BR}{df.loc[df['days_on_market'].idxmax()]['building_name']}, {df.loc[df['days_on_market'].idxmax()]['address']} | Price ${df.loc[df['days_on_market'].idxmax()]['int_Sale_Price']:,.0f} | ${df.loc[df['days_on_market'].idxmax()]['price_per_sqft']:,.0f} psf | Listing agent: {df.loc[df['days_on_market'].idxmax()]['Agent']} with {df.loc[df['days_on_market'].idxmax()]['Listing Broker']} | Buyer's agent: {df.loc[df['days_on_market'].idxmax()]['Buyer Agent']} with {df.loc[df['days_on_market'].idxmax()]['Buyer Broker']} | Days on market: {df.loc[df['days_on_market'].idxmax()]['days_on_market']}\")\n",
    "print(f\"{DAYS_MIN}{BR}{df.loc[df['days_on_market'].idxmin()]['building_name']}, {df.loc[df['days_on_market'].idxmin()]['address']} | Price ${df.loc[df['days_on_market'].idxmin()]['int_Sale_Price']:,.0f} | ${df.loc[df['days_on_market'].idxmin()]['price_per_sqft']:,.0f} psf | Listing agent: {df.loc[df['days_on_market'].idxmin()]['Agent']} with {df.loc[df['days_on_market'].idxmin()]['Listing Broker']} | Buyer's agent: {df.loc[df['days_on_market'].idxmin()]['Buyer Agent']} with {df.loc[df['days_on_market'].idxmin()]['Buyer Broker']} | Days on market: {df.loc[df['days_on_market'].idxmin()]['days_on_market']}\")"
   ]
  },
  {
   "cell_type": "markdown",
   "metadata": {},
   "source": [
    "## Map URL snagger"
   ]
  },
  {
   "cell_type": "markdown",
   "metadata": {},
   "source": [
    "Map template URL: `https://trd-digital.github.io/trd-news-interactive-maps/{map-folder-name}`"
   ]
  },
  {
   "cell_type": "code",
   "execution_count": 24,
   "metadata": {},
   "outputs": [],
   "source": [
    "base_name = 'https://trd-digital.github.io/trd-news-interactive-maps/'"
   ]
  },
  {
   "cell_type": "code",
   "execution_count": 25,
   "metadata": {},
   "outputs": [
    {
     "name": "stdout",
     "output_type": "stream",
     "text": [
      "https://trd-digital.github.io/trd-news-interactive-maps/condo_sales_week_ending_07222023\n"
     ]
    }
   ],
   "source": [
    "cwd = os.getcwd()\n",
    "\n",
    "cwd = cwd.split('/')\n",
    "\n",
    "final_name = base_name + cwd[-1]\n",
    "print(final_name)"
   ]
  }
 ],
 "metadata": {
  "kernelspec": {
   "display_name": "Python 3 (ipykernel)",
   "language": "python",
   "name": "python3"
  },
  "language_info": {
   "codemirror_mode": {
    "name": "ipython",
    "version": 3
   },
   "file_extension": ".py",
   "mimetype": "text/x-python",
   "name": "python",
   "nbconvert_exporter": "python",
   "pygments_lexer": "ipython3",
   "version": "3.9.12"
  },
  "toc": {
   "base_numbering": 1,
   "nav_menu": {},
   "number_sections": true,
   "sideBar": true,
   "skip_h1_title": false,
   "title_cell": "Table of Contents",
   "title_sidebar": "Contents",
   "toc_cell": false,
   "toc_position": {},
   "toc_section_display": true,
   "toc_window_display": false
  }
 },
 "nbformat": 4,
 "nbformat_minor": 4
}
