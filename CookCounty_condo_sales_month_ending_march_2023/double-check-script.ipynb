{
 "cells": [
  {
   "cell_type": "markdown",
   "id": "38c55bdf",
   "metadata": {},
   "source": [
    "## Imports"
   ]
  },
  {
   "cell_type": "code",
   "execution_count": 1,
   "id": "88de7769",
   "metadata": {},
   "outputs": [],
   "source": [
    "import pandas as pd"
   ]
  },
  {
   "cell_type": "markdown",
   "id": "d74cb5d8",
   "metadata": {},
   "source": [
    "## Read in data"
   ]
  },
  {
   "cell_type": "code",
   "execution_count": 2,
   "id": "4980d967",
   "metadata": {},
   "outputs": [],
   "source": [
    "df = pd.read_csv('redfin_double_check.csv')"
   ]
  },
  {
   "cell_type": "code",
   "execution_count": 5,
   "id": "eaf21b42",
   "metadata": {},
   "outputs": [],
   "source": [
    "df = df.rename(columns={'URL (SEE https://www.redfin.com/buy-a-home/comparative-market-analysis FOR INFO ON PRICING)':'URL'})"
   ]
  },
  {
   "cell_type": "code",
   "execution_count": 7,
   "id": "0ff17842",
   "metadata": {},
   "outputs": [
    {
     "data": {
      "text/plain": [
       "Condo/Co-op                  4748\n",
       "Single Family Residential       2\n",
       "Multi-Family (5+ Unit)          2\n",
       "Townhouse                       2\n",
       "Multi-Family (2-4 Unit)         1\n",
       "Vacant Land                     1\n",
       "Other                           1\n",
       "Name: PROPERTY TYPE, dtype: int64"
      ]
     },
     "execution_count": 7,
     "metadata": {},
     "output_type": "execute_result"
    }
   ],
   "source": [
    "df['PROPERTY TYPE'].value_counts()"
   ]
  },
  {
   "cell_type": "code",
   "execution_count": 20,
   "id": "1fef05fe",
   "metadata": {},
   "outputs": [
    {
     "name": "stderr",
     "output_type": "stream",
     "text": [
      "/var/folders/rq/0_j_rksd7psgdycg9c1qwf6m0000gp/T/ipykernel_79881/2994109523.py:1: SettingWithCopyWarning: \n",
      "A value is trying to be set on a copy of a slice from a DataFrame.\n",
      "Try using .loc[row_indexer,col_indexer] = value instead\n",
      "\n",
      "See the caveats in the documentation: https://pandas.pydata.org/pandas-docs/stable/user_guide/indexing.html#returning-a-view-versus-a-copy\n",
      "  df['SOLD DATE'] = pd.to_datetime(df['SOLD DATE'])\n"
     ]
    }
   ],
   "source": [
    "df['SOLD DATE'] = pd.to_datetime(df['SOLD DATE'])"
   ]
  },
  {
   "cell_type": "code",
   "execution_count": 21,
   "id": "8c227c10",
   "metadata": {},
   "outputs": [],
   "source": [
    "df = df.loc[df['SOLD DATE'] > '2023-01-31']"
   ]
  },
  {
   "cell_type": "code",
   "execution_count": 22,
   "id": "3a119531",
   "metadata": {},
   "outputs": [],
   "source": [
    "df_feb = df.loc[df['SOLD DATE'] < '2023-03-01']"
   ]
  },
  {
   "cell_type": "code",
   "execution_count": 23,
   "id": "6f786011",
   "metadata": {},
   "outputs": [
    {
     "name": "stdout",
     "output_type": "stream",
     "text": [
      "1063\n"
     ]
    }
   ],
   "source": [
    "print(len(df_feb))"
   ]
  },
  {
   "cell_type": "code",
   "execution_count": 24,
   "id": "ed226557",
   "metadata": {},
   "outputs": [],
   "source": [
    "df_march = df.loc[(df['SOLD DATE'] > '2023-02-28') & (df['SOLD DATE'] < '2023-04-01')]"
   ]
  },
  {
   "cell_type": "code",
   "execution_count": 25,
   "id": "df7de296",
   "metadata": {},
   "outputs": [
    {
     "name": "stdout",
     "output_type": "stream",
     "text": [
      "1793\n"
     ]
    }
   ],
   "source": [
    "print(len(df_march))"
   ]
  },
  {
   "cell_type": "code",
   "execution_count": 26,
   "id": "5952de01",
   "metadata": {},
   "outputs": [
    {
     "data": {
      "text/plain": [
       "Index(['SALE TYPE', 'SOLD DATE', 'PROPERTY TYPE', 'ADDRESS', 'CITY',\n",
       "       'STATE OR PROVINCE', 'ZIP OR POSTAL CODE', 'PRICE', 'BEDS', 'BATHS',\n",
       "       'LOCATION', 'SQUARE FEET', 'LOT SIZE', 'YEAR BUILT', 'DAYS ON MARKET',\n",
       "       '$/SQUARE FEET', 'HOA/MONTH', 'STATUS', 'NEXT OPEN HOUSE START TIME',\n",
       "       'NEXT OPEN HOUSE END TIME', 'URL', 'SOURCE', 'MLS#', 'FAVORITE',\n",
       "       'INTERESTED', 'LATITUDE', 'LONGITUDE'],\n",
       "      dtype='object')"
      ]
     },
     "execution_count": 26,
     "metadata": {},
     "output_type": "execute_result"
    }
   ],
   "source": [
    "df.columns"
   ]
  },
  {
   "cell_type": "code",
   "execution_count": 29,
   "id": "60493bf0",
   "metadata": {},
   "outputs": [
    {
     "name": "stdout",
     "output_type": "stream",
     "text": [
      "$346,950,483.0\n"
     ]
    }
   ],
   "source": [
    "print(f'${df_feb.PRICE.sum():,}')"
   ]
  },
  {
   "cell_type": "code",
   "execution_count": 30,
   "id": "c07a4d48",
   "metadata": {},
   "outputs": [
    {
     "name": "stdout",
     "output_type": "stream",
     "text": [
      "$669,941,313.0\n"
     ]
    }
   ],
   "source": [
    "print(f'${df_march.PRICE.sum():,}')"
   ]
  },
  {
   "cell_type": "code",
   "execution_count": 31,
   "id": "9d495276",
   "metadata": {},
   "outputs": [
    {
     "name": "stdout",
     "output_type": "stream",
     "text": [
      "$250,000.0\n"
     ]
    }
   ],
   "source": [
    "print(f'${df_feb.PRICE.median():,}')"
   ]
  },
  {
   "cell_type": "code",
   "execution_count": 32,
   "id": "10e31a41",
   "metadata": {},
   "outputs": [
    {
     "name": "stdout",
     "output_type": "stream",
     "text": [
      "$275,000.0\n"
     ]
    }
   ],
   "source": [
    "print(f'${df_march.PRICE.median():,}')"
   ]
  }
 ],
 "metadata": {
  "kernelspec": {
   "display_name": "Python 3 (ipykernel)",
   "language": "python",
   "name": "python3"
  },
  "language_info": {
   "codemirror_mode": {
    "name": "ipython",
    "version": 3
   },
   "file_extension": ".py",
   "mimetype": "text/x-python",
   "name": "python",
   "nbconvert_exporter": "python",
   "pygments_lexer": "ipython3",
   "version": "3.9.12"
  }
 },
 "nbformat": 4,
 "nbformat_minor": 5
}
