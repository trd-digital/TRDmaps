{
 "cells": [
  {
   "cell_type": "code",
   "execution_count": 1,
   "id": "5a39e134",
   "metadata": {},
   "outputs": [],
   "source": [
    "import googlemaps\n",
    "import pandas as pd\n",
    "import numpy as np\n",
    "import re\n",
    "import os\n",
    "import geopandas as gpd\n",
    "import folium\n",
    "import tabula"
   ]
  },
  {
   "cell_type": "code",
   "execution_count": 9,
   "id": "3d441457",
   "metadata": {},
   "outputs": [],
   "source": [
    "df = pd.read_csv('gar_vio.csv', dtype='str')"
   ]
  },
  {
   "cell_type": "code",
   "execution_count": 4,
   "id": "8afe8e28",
   "metadata": {},
   "outputs": [],
   "source": [
    "%store -r google_maps_API_Key\n",
    "gmaps_key = googlemaps.Client(key=google_maps_API_Key)"
   ]
  },
  {
   "cell_type": "code",
   "execution_count": 10,
   "id": "3a7e5ce3",
   "metadata": {},
   "outputs": [],
   "source": [
    "df['geo_address'] = df['Address_full'] + ' ' + df['Address State'] + ' ' + df['Address ZIP']"
   ]
  },
  {
   "cell_type": "code",
   "execution_count": 12,
   "id": "2c559420",
   "metadata": {},
   "outputs": [],
   "source": [
    "def geocode(add):\n",
    "    g = gmaps_key.geocode(add)\n",
    "    lat = g[0][\"geometry\"][\"location\"][\"lat\"]\n",
    "    lng = g[0][\"geometry\"][\"location\"][\"lng\"]\n",
    "    return (lat, lng)\n",
    "\n",
    "df['geocoded'] = df['geo_address'].apply(geocode)"
   ]
  },
  {
   "cell_type": "code",
   "execution_count": 14,
   "id": "1a75da31",
   "metadata": {},
   "outputs": [],
   "source": [
    "df['geocoded'] = df['geocoded'].astype(str)\n",
    "df[['lat', 'lon']] = df['geocoded'].str.strip('()').str.split(', ', expand=True)\n",
    "df['lat'] = df['lat'].astype(float)\n",
    "df['lon'] = df['lon'].astype(float)"
   ]
  },
  {
   "cell_type": "code",
   "execution_count": 16,
   "id": "945e380d",
   "metadata": {},
   "outputs": [],
   "source": [
    "df.to_csv('gar_vio_with_coords.csv')"
   ]
  }
 ],
 "metadata": {
  "kernelspec": {
   "display_name": "Python 3 (ipykernel)",
   "language": "python",
   "name": "python3"
  },
  "language_info": {
   "codemirror_mode": {
    "name": "ipython",
    "version": 3
   },
   "file_extension": ".py",
   "mimetype": "text/x-python",
   "name": "python",
   "nbconvert_exporter": "python",
   "pygments_lexer": "ipython3",
   "version": "3.9.12"
  }
 },
 "nbformat": 4,
 "nbformat_minor": 5
}
