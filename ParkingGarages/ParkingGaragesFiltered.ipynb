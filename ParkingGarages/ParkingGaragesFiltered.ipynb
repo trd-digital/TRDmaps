{
 "cells": [
  {
   "cell_type": "code",
   "execution_count": 1,
   "id": "5dc8e24d",
   "metadata": {},
   "outputs": [],
   "source": [
    "import pandas as pd"
   ]
  },
  {
   "cell_type": "code",
   "execution_count": 2,
   "id": "392896f1",
   "metadata": {},
   "outputs": [],
   "source": [
    "df = pd.read_csv('gar_vio_with_coords.csv')\n",
    "df = df.drop(columns=['Unnamed: 0.1','Unnamed: 0'])\n",
    "df = df.rename(columns={'acrive_ecb_violations':'active_ecb_violations'})"
   ]
  },
  {
   "cell_type": "code",
   "execution_count": 4,
   "id": "918ac76d",
   "metadata": {},
   "outputs": [],
   "source": [
    "df = df.loc[(df['active_violations'] > 0) | (df['active_ecb_violations'] > 0)]"
   ]
  },
  {
   "cell_type": "code",
   "execution_count": 6,
   "id": "481bd0a7",
   "metadata": {},
   "outputs": [
    {
     "data": {
      "text/html": [
       "<div>\n",
       "<style scoped>\n",
       "    .dataframe tbody tr th:only-of-type {\n",
       "        vertical-align: middle;\n",
       "    }\n",
       "\n",
       "    .dataframe tbody tr th {\n",
       "        vertical-align: top;\n",
       "    }\n",
       "\n",
       "    .dataframe thead th {\n",
       "        text-align: right;\n",
       "    }\n",
       "</style>\n",
       "<table border=\"1\" class=\"dataframe\">\n",
       "  <thead>\n",
       "    <tr style=\"text-align: right;\">\n",
       "      <th></th>\n",
       "      <th>DCA License Number</th>\n",
       "      <th>License Type</th>\n",
       "      <th>License Expiration Date</th>\n",
       "      <th>Business Name</th>\n",
       "      <th>Business Name 2</th>\n",
       "      <th>Address Building</th>\n",
       "      <th>Address Street Name</th>\n",
       "      <th>Secondary Address Street Name</th>\n",
       "      <th>Address City</th>\n",
       "      <th>Address State</th>\n",
       "      <th>...</th>\n",
       "      <th>Borough Code</th>\n",
       "      <th>Address_full</th>\n",
       "      <th>total_violations</th>\n",
       "      <th>active_violations</th>\n",
       "      <th>ecb_violations</th>\n",
       "      <th>active_ecb_violations</th>\n",
       "      <th>geo_address</th>\n",
       "      <th>geocoded</th>\n",
       "      <th>lat</th>\n",
       "      <th>lon</th>\n",
       "    </tr>\n",
       "  </thead>\n",
       "  <tbody>\n",
       "  </tbody>\n",
       "</table>\n",
       "<p>0 rows × 23 columns</p>\n",
       "</div>"
      ],
      "text/plain": [
       "Empty DataFrame\n",
       "Columns: [DCA License Number, License Type, License Expiration Date, Business Name, Business Name 2, Address Building, Address Street Name, Secondary Address Street Name, Address City, Address State, Address ZIP, Contact Phone Number, Address Borough, Borough Code, Address_full, total_violations, active_violations, ecb_violations, active_ecb_violations, geo_address, geocoded, lat, lon]\n",
       "Index: []\n",
       "\n",
       "[0 rows x 23 columns]"
      ]
     },
     "execution_count": 6,
     "metadata": {},
     "output_type": "execute_result"
    }
   ],
   "source": [
    "# To check\n",
    "df.loc[(df['active_violations'] == 0) & (df['active_ecb_violations'] == 0)]"
   ]
  },
  {
   "cell_type": "code",
   "execution_count": 7,
   "id": "c0d1713c",
   "metadata": {},
   "outputs": [],
   "source": [
    "df.to_csv('active_violations_only.csv')"
   ]
  }
 ],
 "metadata": {
  "kernelspec": {
   "display_name": "Python 3 (ipykernel)",
   "language": "python",
   "name": "python3"
  },
  "language_info": {
   "codemirror_mode": {
    "name": "ipython",
    "version": 3
   },
   "file_extension": ".py",
   "mimetype": "text/x-python",
   "name": "python",
   "nbconvert_exporter": "python",
   "pygments_lexer": "ipython3",
   "version": "3.9.12"
  }
 },
 "nbformat": 4,
 "nbformat_minor": 5
}
