{
 "cells": [
  {
   "cell_type": "code",
   "execution_count": 1,
   "metadata": {},
   "outputs": [],
   "source": [
    "import pandas as pd\n",
    "import geopandas as gpd\n",
    "import fiona\n",
    "import folium\n",
    "from folium.plugins import MarkerCluster\n",
    "from folium.plugins import FloatImage\n",
    "from folium import GeoJsonTooltip\n",
    "import matplotlib.pyplot as plt\n",
    "import textwrap"
   ]
  },
  {
   "cell_type": "code",
   "execution_count": 2,
   "metadata": {},
   "outputs": [],
   "source": [
    "gpd.io.file.fiona.drvsupport.supported_drivers['KML'] = 'rw'"
   ]
  },
  {
   "cell_type": "code",
   "execution_count": 3,
   "metadata": {},
   "outputs": [],
   "source": [
    "project_gdf = gpd.read_file('Development_Projects.kml', driver = 'KML')"
   ]
  },
  {
   "cell_type": "code",
   "execution_count": 4,
   "metadata": {},
   "outputs": [
    {
     "name": "stderr",
     "output_type": "stream",
     "text": [
      "C:\\Users\\aefar\\AppData\\Local\\Programs\\Python\\Python38\\lib\\site-packages\\geopandas\\array.py:524: ShapelyDeprecationWarning: The array interface is deprecated and will no longer work in Shapely 2.0. Convert the '.coords' to a numpy array instead.\n",
      "  return _unary_geo(\"centroid\", self)\n",
      "C:\\Users\\aefar\\AppData\\Local\\Programs\\Python\\Python38\\lib\\site-packages\\geopandas\\geoseries.py:133: ShapelyDeprecationWarning: The array interface is deprecated and will no longer work in Shapely 2.0. Convert the '.coords' to a numpy array instead.\n",
      "  data = from_shapely(s.values)\n"
     ]
    }
   ],
   "source": [
    "project_gdf['center_point'] = project_gdf.geometry.centroid"
   ]
  },
  {
   "cell_type": "code",
   "execution_count": 5,
   "metadata": {},
   "outputs": [
    {
     "data": {
      "text/html": [
       "<div>\n",
       "<style scoped>\n",
       "    .dataframe tbody tr th:only-of-type {\n",
       "        vertical-align: middle;\n",
       "    }\n",
       "\n",
       "    .dataframe tbody tr th {\n",
       "        vertical-align: top;\n",
       "    }\n",
       "\n",
       "    .dataframe thead th {\n",
       "        text-align: right;\n",
       "    }\n",
       "</style>\n",
       "<table border=\"1\" class=\"dataframe\">\n",
       "  <thead>\n",
       "    <tr style=\"text-align: right;\">\n",
       "      <th></th>\n",
       "      <th>Name</th>\n",
       "      <th>Description</th>\n",
       "      <th>geometry</th>\n",
       "      <th>center_point</th>\n",
       "    </tr>\n",
       "  </thead>\n",
       "  <tbody>\n",
       "    <tr>\n",
       "      <th>0</th>\n",
       "      <td>South Dade Logistics and Technology Hub</td>\n",
       "      <td>This shows the entire 800-acre site.</td>\n",
       "      <td>POLYGON Z ((-80.38811 25.51828 0.00000, -80.36...</td>\n",
       "      <td>POINT (-80.37605 25.52401)</td>\n",
       "    </tr>\n",
       "    <tr>\n",
       "      <th>1</th>\n",
       "      <td>Homestead Park of Commerce</td>\n",
       "      <td>EastGroup Properties, based in Jackson, Missis...</td>\n",
       "      <td>POLYGON Z ((-80.43359 25.46105 0.00000, -80.43...</td>\n",
       "      <td>POINT (-80.43218 25.46046)</td>\n",
       "    </tr>\n",
       "    <tr>\n",
       "      <th>2</th>\n",
       "      <td>CityPlace Homestead</td>\n",
       "      <td>This is where Related Urban, a subsidiary of J...</td>\n",
       "      <td>POLYGON Z ((-80.46536 25.47706 0.00000, -80.46...</td>\n",
       "      <td>POINT (-80.46725 25.47615)</td>\n",
       "    </tr>\n",
       "    <tr>\n",
       "      <th>3</th>\n",
       "      <td>Homestead Station</td>\n",
       "      <td>The city completed the Homestead Station proje...</td>\n",
       "      <td>POLYGON Z ((-80.47742 25.46977 0.00000, -80.47...</td>\n",
       "      <td>POINT (-80.47839 25.46948)</td>\n",
       "    </tr>\n",
       "  </tbody>\n",
       "</table>\n",
       "</div>"
      ],
      "text/plain": [
       "                                      Name  \\\n",
       "0  South Dade Logistics and Technology Hub   \n",
       "1               Homestead Park of Commerce   \n",
       "2                      CityPlace Homestead   \n",
       "3                        Homestead Station   \n",
       "\n",
       "                                         Description  \\\n",
       "0              This shows the entire 800-acre site.    \n",
       "1  EastGroup Properties, based in Jackson, Missis...   \n",
       "2  This is where Related Urban, a subsidiary of J...   \n",
       "3  The city completed the Homestead Station proje...   \n",
       "\n",
       "                                            geometry  \\\n",
       "0  POLYGON Z ((-80.38811 25.51828 0.00000, -80.36...   \n",
       "1  POLYGON Z ((-80.43359 25.46105 0.00000, -80.43...   \n",
       "2  POLYGON Z ((-80.46536 25.47706 0.00000, -80.46...   \n",
       "3  POLYGON Z ((-80.47742 25.46977 0.00000, -80.47...   \n",
       "\n",
       "                 center_point  \n",
       "0  POINT (-80.37605 25.52401)  \n",
       "1  POINT (-80.43218 25.46046)  \n",
       "2  POINT (-80.46725 25.47615)  \n",
       "3  POINT (-80.47839 25.46948)  "
      ]
     },
     "execution_count": 5,
     "metadata": {},
     "output_type": "execute_result"
    }
   ],
   "source": [
    "project_gdf"
   ]
  },
  {
   "cell_type": "code",
   "execution_count": 6,
   "metadata": {},
   "outputs": [],
   "source": [
    "# mbc.at[0,'Name']=('Curfew area')"
   ]
  },
  {
   "cell_type": "code",
   "execution_count": 7,
   "metadata": {},
   "outputs": [],
   "source": [
    "# data = {'description':['This shows the entire 800-acre site.',\\\n",
    "#                'Mango\\'s Tropical Cafe',\\\n",
    "#                'The Clevelander Bar',\\\n",
    "#                'Story Nightclub'],\n",
    "#        'lat':[25.3128,\\\n",
    "#              25.779488788858867, ## Mango's\n",
    "#              25.78100360218833, ## The Clevander \n",
    "#              25.770678948362917], ## Story Nightclub \n",
    "#        'lon':[-80.2234,\n",
    "#              -80.13121290171135, ## Mango's\n",
    "#              -80.1308607863681, ## The Clevander\n",
    "#              -80.13400121520405]} ## Story Nightclub\n",
    "\n",
    "# # df = pd.DataFrame(data)\n",
    "\n",
    "# # df"
   ]
  },
  {
   "cell_type": "code",
   "execution_count": 8,
   "metadata": {},
   "outputs": [
    {
     "name": "stderr",
     "output_type": "stream",
     "text": [
      "C:\\Users\\aefar\\AppData\\Local\\Programs\\Python\\Python38\\lib\\site-packages\\descartes\\patch.py:62: ShapelyDeprecationWarning: The array interface is deprecated and will no longer work in Shapely 2.0. Convert the '.coords' to a numpy array instead.\n",
      "  vertices = concatenate([\n"
     ]
    },
    {
     "data": {
      "image/png": "[encoded data removed]",
      "text/plain": [
       "<Figure size 432x432 with 1 Axes>"
      ]
     },
     "metadata": {
      "needs_background": "light"
     },
     "output_type": "display_data"
    }
   ],
   "source": [
    "project_gdf.plot(figsize=(6,6))\n",
    "plt.show()"
   ]
  },
  {
   "cell_type": "code",
   "execution_count": 11,
   "metadata": {},
   "outputs": [
    {
     "data": {
      "text/html": [
       "<div style=\"width:100%;\"><div style=\"position:relative;width:100%;height:0;padding-bottom:60%;\"><span style=\"color:#565656\">Make this Notebook Trusted to load map: File -> Trust Notebook</span><iframe src=\"about:blank\" style=\"position:absolute;width:100%;height:100%;left:0;top:0;border:none !important;\" data-html=%3C%21DOCTYPE%20html%3E%0A%3Chead%3E%20%20%20%20%0A%20%20%20%20%3Cmeta%20http-equiv%3D%22content-type%22%20content%3D%22text/html%3B%20charset%3DUTF-8%22%20/%3E%0A%20%20%20%20%0A%20%20%20%20%20%20%20%20%3Cscript%3E%0A%20%20%20%20%20%20%20%20%20%20%20%20L_NO_TOUCH%20%3D%20false%3B%0A%20%20%20%20%20%20%20%20%20%20%20%20L_DISABLE_3D%20%3D%20false%3B%0A%20%20%20%20%20%20%20%20%3C/script%3E%0A%20%20%20%20%0A%20%20%20%20%3Cstyle%3Ehtml%2C%20body%20%7Bwidth%3A%20100%25%3Bheight%3A%20100%25%3Bmargin%3A%200%3Bpadding%3A%200%3B%7D%3C/style%3E%0A%20%20%20%20%3Cstyle%3E%23map%20%7Bposition%3Aabsolute%3Btop%3A0%3Bbottom%3A0%3Bright%3A0%3Bleft%3A0%3B%7D%3C/style%3E%0A%20%20%20%20%3Cscript%20src%3D%22https%3A//cdn.jsdelivr.net/npm/leaflet%401.6.0/dist/leaflet.js%22%3E%3C/script%3E%0A%20%20%20%20%3Cscript%20src%3D%22https%3A//code.jquery.com/jquery-1.12.4.min.js%22%3E%3C/script%3E%0A%20%20%20%20%3Cscript%20src%3D%22https%3A//maxcdn.bootstrapcdn.com/bootstrap/3.2.0/js/bootstrap.min.js%22%3E%3C/script%3E%0A%20%20%20%20%3Cscript%20src%3D%22https%3A//cdnjs.cloudflare.com/ajax/libs/Leaflet.awesome-markers/2.0.2/leaflet.awesome-markers.js%22%3E%3C/script%3E%0A%20%20%20%20%3Clink%20rel%3D%22stylesheet%22%20href%3D%22https%3A//cdn.jsdelivr.net/npm/leaflet%401.6.0/dist/leaflet.css%22/%3E%0A%20%20%20%20%3Clink%20rel%3D%22stylesheet%22%20href%3D%22https%3A//maxcdn.bootstrapcdn.com/bootstrap/3.2.0/css/bootstrap.min.css%22/%3E%0A%20%20%20%20%3Clink%20rel%3D%22stylesheet%22%20href%3D%22https%3A//maxcdn.bootstrapcdn.com/bootstrap/3.2.0/css/bootstrap-theme.min.css%22/%3E%0A%20%20%20%20%3Clink%20rel%3D%22stylesheet%22%20href%3D%22https%3A//maxcdn.bootstrapcdn.com/font-awesome/4.6.3/css/font-awesome.min.css%22/%3E%0A%20%20%20%20%3Clink%20rel%3D%22stylesheet%22%20href%3D%22https%3A//cdnjs.cloudflare.com/ajax/libs/Leaflet.awesome-markers/2.0.2/leaflet.awesome-markers.css%22/%3E%0A%20%20%20%20%3Clink%20rel%3D%22stylesheet%22%20href%3D%22https%3A//cdn.jsdelivr.net/gh/python-visualization/folium/folium/templates/leaflet.awesome.rotate.min.css%22/%3E%0A%20%20%20%20%0A%20%20%20%20%20%20%20%20%20%20%20%20%3Cmeta%20name%3D%22viewport%22%20content%3D%22width%3Ddevice-width%2C%0A%20%20%20%20%20%20%20%20%20%20%20%20%20%20%20%20initial-scale%3D1.0%2C%20maximum-scale%3D1.0%2C%20user-scalable%3Dno%22%20/%3E%0A%20%20%20%20%20%20%20%20%20%20%20%20%3Cstyle%3E%0A%20%20%20%20%20%20%20%20%20%20%20%20%20%20%20%20%23map_ef6ffa9a35fa4da8b622f5be4f2a41ff%20%7B%0A%20%20%20%20%20%20%20%20%20%20%20%20%20%20%20%20%20%20%20%20position%3A%20relative%3B%0A%20%20%20%20%20%20%20%20%20%20%20%20%20%20%20%20%20%20%20%20width%3A%20100.0%25%3B%0A%20%20%20%20%20%20%20%20%20%20%20%20%20%20%20%20%20%20%20%20height%3A%20100.0%25%3B%0A%20%20%20%20%20%20%20%20%20%20%20%20%20%20%20%20%20%20%20%20left%3A%200.0%25%3B%0A%20%20%20%20%20%20%20%20%20%20%20%20%20%20%20%20%20%20%20%20top%3A%200.0%25%3B%0A%20%20%20%20%20%20%20%20%20%20%20%20%20%20%20%20%7D%0A%20%20%20%20%20%20%20%20%20%20%20%20%3C/style%3E%0A%20%20%20%20%20%20%20%20%0A%3C/head%3E%0A%3Cbody%3E%20%20%20%20%0A%20%20%20%20%0A%20%20%20%20%20%20%20%20%20%20%20%20%3Cdiv%20class%3D%22folium-map%22%20id%3D%22map_ef6ffa9a35fa4da8b622f5be4f2a41ff%22%20%3E%3C/div%3E%0A%20%20%20%20%20%20%20%20%0A%3C/body%3E%0A%3Cscript%3E%20%20%20%20%0A%20%20%20%20%0A%20%20%20%20%20%20%20%20%20%20%20%20var%20map_ef6ffa9a35fa4da8b622f5be4f2a41ff%20%3D%20L.map%28%0A%20%20%20%20%20%20%20%20%20%20%20%20%20%20%20%20%22map_ef6ffa9a35fa4da8b622f5be4f2a41ff%22%2C%0A%20%20%20%20%20%20%20%20%20%20%20%20%20%20%20%20%7B%0A%20%20%20%20%20%20%20%20%20%20%20%20%20%20%20%20%20%20%20%20center%3A%20%5B25.49%2C%20-80.4%5D%2C%0A%20%20%20%20%20%20%20%20%20%20%20%20%20%20%20%20%20%20%20%20crs%3A%20L.CRS.EPSG3857%2C%0A%20%20%20%20%20%20%20%20%20%20%20%20%20%20%20%20%20%20%20%20zoom%3A%2012%2C%0A%20%20%20%20%20%20%20%20%20%20%20%20%20%20%20%20%20%20%20%20zoomControl%3A%20true%2C%0A%20%20%20%20%20%20%20%20%20%20%20%20%20%20%20%20%20%20%20%20preferCanvas%3A%20false%2C%0A%20%20%20%20%20%20%20%20%20%20%20%20%20%20%20%20%7D%0A%20%20%20%20%20%20%20%20%20%20%20%20%29%3B%0A%0A%20%20%20%20%20%20%20%20%20%20%20%20%0A%0A%20%20%20%20%20%20%20%20%0A%20%20%20%20%0A%20%20%20%20%20%20%20%20%20%20%20%20var%20tile_layer_7b1b24b1a13241ea81ce7fc146dc82e3%20%3D%20L.tileLayer%28%0A%20%20%20%20%20%20%20%20%20%20%20%20%20%20%20%20%22https%3A//cartodb-basemaps-%7Bs%7D.global.ssl.fastly.net/light_all/%7Bz%7D/%7Bx%7D/%7By%7D.png%22%2C%0A%20%20%20%20%20%20%20%20%20%20%20%20%20%20%20%20%7B%22attribution%22%3A%20%22%5Cu0026copy%3B%20%5Cu003ca%20href%3D%5C%22http%3A//www.openstreetmap.org/copyright%5C%22%5Cu003eOpenStreetMap%5Cu003c/a%5Cu003e%20contributors%20%5Cu0026copy%3B%20%5Cu003ca%20href%3D%5C%22http%3A//cartodb.com/attributions%5C%22%5Cu003eCartoDB%5Cu003c/a%5Cu003e%2C%20CartoDB%20%5Cu003ca%20href%20%3D%5C%22http%3A//cartodb.com/attributions%5C%22%5Cu003eattributions%5Cu003c/a%5Cu003e%22%2C%20%22detectRetina%22%3A%20false%2C%20%22maxNativeZoom%22%3A%2018%2C%20%22maxZoom%22%3A%2018%2C%20%22minZoom%22%3A%200%2C%20%22noWrap%22%3A%20false%2C%20%22opacity%22%3A%201%2C%20%22subdomains%22%3A%20%22abc%22%2C%20%22tms%22%3A%20false%7D%0A%20%20%20%20%20%20%20%20%20%20%20%20%29.addTo%28map_ef6ffa9a35fa4da8b622f5be4f2a41ff%29%3B%0A%20%20%20%20%20%20%20%20%0A%20%20%20%20%0A%0A%20%20%20%20%20%20%20%20function%20geo_json_30b5a2e34b094e708293ed559f92952c_onEachFeature%28feature%2C%20layer%29%20%7B%0A%20%20%20%20%20%20%20%20%20%20%20%20layer.on%28%7B%0A%20%20%20%20%20%20%20%20%20%20%20%20%7D%29%3B%0A%20%20%20%20%20%20%20%20%7D%3B%0A%20%20%20%20%20%20%20%20var%20geo_json_30b5a2e34b094e708293ed559f92952c%20%3D%20L.geoJson%28null%2C%20%7B%0A%20%20%20%20%20%20%20%20%20%20%20%20%20%20%20%20onEachFeature%3A%20geo_json_30b5a2e34b094e708293ed559f92952c_onEachFeature%2C%0A%20%20%20%20%20%20%20%20%20%20%20%20%0A%20%20%20%20%20%20%20%20%7D%29%3B%0A%0A%20%20%20%20%20%20%20%20function%20geo_json_30b5a2e34b094e708293ed559f92952c_add%20%28data%29%20%7B%0A%20%20%20%20%20%20%20%20%20%20%20%20geo_json_30b5a2e34b094e708293ed559f92952c%0A%20%20%20%20%20%20%20%20%20%20%20%20%20%20%20%20.addData%28data%29%0A%20%20%20%20%20%20%20%20%20%20%20%20%20%20%20%20.addTo%28map_ef6ffa9a35fa4da8b622f5be4f2a41ff%29%3B%0A%20%20%20%20%20%20%20%20%7D%0A%20%20%20%20%20%20%20%20%20%20%20%20geo_json_30b5a2e34b094e708293ed559f92952c_add%28%7B%22bbox%22%3A%20%5B-80.38837635372498%2C%2025.5182819068883%2C%20-80.36391948296115%2C%2025.52980362727206%5D%2C%20%22features%22%3A%20%5B%7B%22bbox%22%3A%20%5B-80.38837635372498%2C%2025.5182819068883%2C%20-80.36391948296115%2C%2025.52980362727206%5D%2C%20%22geometry%22%3A%20%7B%22coordinates%22%3A%20%5B%5B%5B-80.38810901114608%2C%2025.5182819068883%2C%200.0%5D%2C%20%5B-80.36392994373892%2C%2025.5187238174537%2C%200.0%5D%2C%20%5B-80.36391948296115%2C%2025.52980362727206%2C%200.0%5D%2C%20%5B-80.38837635372498%2C%2025.52919858972292%2C%200.0%5D%2C%20%5B-80.38810901114608%2C%2025.5182819068883%2C%200.0%5D%5D%5D%2C%20%22type%22%3A%20%22Polygon%22%7D%2C%20%22id%22%3A%20%220%22%2C%20%22properties%22%3A%20%7B%7D%2C%20%22type%22%3A%20%22Feature%22%7D%5D%2C%20%22type%22%3A%20%22FeatureCollection%22%7D%29%3B%0A%0A%20%20%20%20%20%20%20%20%0A%20%20%20%20%0A%20%20%20%20%20%20%20%20var%20popup_9e351a8e03ea4f4a8b9e9086317b02a8%20%3D%20L.popup%28%7B%22maxWidth%22%3A%20%22100%25%22%7D%29%3B%0A%0A%20%20%20%20%20%20%20%20%0A%20%20%20%20%20%20%20%20%20%20%20%20var%20html_100766d6600249fca2839fd31a28458c%20%3D%20%24%28%60%3Cdiv%20id%3D%22html_100766d6600249fca2839fd31a28458c%22%20style%3D%22width%3A%20100.0%25%3B%20height%3A%20100.0%25%3B%22%3ESouth%20Dade%20Logistics%20and%20Technology%20Hub%3C/div%3E%60%29%5B0%5D%3B%0A%20%20%20%20%20%20%20%20%20%20%20%20popup_9e351a8e03ea4f4a8b9e9086317b02a8.setContent%28html_100766d6600249fca2839fd31a28458c%29%3B%0A%20%20%20%20%20%20%20%20%0A%0A%20%20%20%20%20%20%20%20geo_json_30b5a2e34b094e708293ed559f92952c.bindPopup%28popup_9e351a8e03ea4f4a8b9e9086317b02a8%29%0A%20%20%20%20%20%20%20%20%3B%0A%0A%20%20%20%20%20%20%20%20%0A%20%20%20%20%0A%20%20%20%20%0A%0A%20%20%20%20%20%20%20%20function%20geo_json_60e7d05185204cdb88f8c242f867cf5b_onEachFeature%28feature%2C%20layer%29%20%7B%0A%20%20%20%20%20%20%20%20%20%20%20%20layer.on%28%7B%0A%20%20%20%20%20%20%20%20%20%20%20%20%7D%29%3B%0A%20%20%20%20%20%20%20%20%7D%3B%0A%20%20%20%20%20%20%20%20var%20geo_json_60e7d05185204cdb88f8c242f867cf5b%20%3D%20L.geoJson%28null%2C%20%7B%0A%20%20%20%20%20%20%20%20%20%20%20%20%20%20%20%20onEachFeature%3A%20geo_json_60e7d05185204cdb88f8c242f867cf5b_onEachFeature%2C%0A%20%20%20%20%20%20%20%20%20%20%20%20%0A%20%20%20%20%20%20%20%20%7D%29%3B%0A%0A%20%20%20%20%20%20%20%20function%20geo_json_60e7d05185204cdb88f8c242f867cf5b_add%20%28data%29%20%7B%0A%20%20%20%20%20%20%20%20%20%20%20%20geo_json_60e7d05185204cdb88f8c242f867cf5b%0A%20%20%20%20%20%20%20%20%20%20%20%20%20%20%20%20.addData%28data%29%0A%20%20%20%20%20%20%20%20%20%20%20%20%20%20%20%20.addTo%28map_ef6ffa9a35fa4da8b622f5be4f2a41ff%29%3B%0A%20%20%20%20%20%20%20%20%7D%0A%20%20%20%20%20%20%20%20%20%20%20%20geo_json_60e7d05185204cdb88f8c242f867cf5b_add%28%7B%22bbox%22%3A%20%5B-80.43359838287127%2C%2025.45986365771649%2C%20-80.43081134456598%2C%2025.46105388204601%5D%2C%20%22features%22%3A%20%5B%7B%22bbox%22%3A%20%5B-80.43359838287127%2C%2025.45986365771649%2C%20-80.43081134456598%2C%2025.46105388204601%5D%2C%20%22geometry%22%3A%20%7B%22coordinates%22%3A%20%5B%5B%5B-80.43359103855319%2C%2025.46105388204601%2C%200.0%5D%2C%20%5B-80.43359282850086%2C%2025.4610391113494%2C%200.0%5D%2C%20%5B-80.43359838287127%2C%2025.46101938542091%2C%200.0%5D%2C%20%5B-80.43359445919629%2C%2025.46100018118189%2C%200.0%5D%2C%20%5B-80.43359055317757%2C%2025.46098106444135%2C%200.0%5D%2C%20%5B-80.43358569603383%2C%2025.46095729040919%2C%200.0%5D%2C%20%5B-80.43358652412516%2C%2025.46093815826209%2C%200.0%5D%2C%20%5B-80.4335825683563%2C%2025.46091921048054%2C%200.0%5D%2C%20%5B-80.43358808750533%2C%2025.46090006286272%2C%200.0%5D%2C%20%5B-80.43358886374745%2C%2025.46088114691711%2C%200.0%5D%2C%20%5B-80.4335886724706%2C%2025.46085768192173%2C%200.0%5D%2C%20%5B-80.43358851680021%2C%2025.46083438878554%2C%200.0%5D%2C%20%5B-80.43359303245646%2C%2025.46081107498155%2C%200.0%5D%2C%20%5B-80.43359748403614%2C%2025.46078785231231%2C%200.0%5D%2C%20%5B-80.43359363228298%2C%2025.46076965132001%2C%200.0%5D%2C%20%5B-80.43359440884606%2C%2025.4607513554433%2C%200.0%5D%2C%20%5B-80.43359518270687%2C%2025.46073314271289%2C%200.0%5D%2C%20%5B-80.43359594967305%2C%2025.46071500696583%2C%200.0%5D%2C%20%5B-80.43359670337547%2C%2025.46069694427714%2C%200.0%5D%2C%20%5B-80.43359745751091%2C%2025.46067896793067%2C%200.0%5D%2C%20%5B-80.43359817951432%2C%2025.46066103781807%2C%200.0%5D%2C%20%5B-80.4335933946513%2C%2025.46063895949364%2C%200.0%5D%2C%20%5B-80.43358863049744%2C%2025.46061699999962%2C%200.0%5D%2C%20%5B-80.4335848310978%2C%2025.46059951180264%2C%200.0%5D%2C%20%5B-80.43358104863475%2C%2025.46058210336096%2C%200.0%5D%2C%20%5B-80.43358085656439%2C%2025.46056028908989%2C%200.0%5D%2C%20%5B-80.43357429190306%2C%2025.46053016953579%2C%200.0%5D%2C%20%5B-80.43357148079772%2C%2025.46051732138589%2C%200.0%5D%2C%20%5B-80.43356774764754%2C%2025.46050025768663%2C%200.0%5D%2C%20%5B-80.43356310455896%2C%2025.4604790342574%2C%200.0%5D%2C%20%5B-80.43355851271637%2C%2025.46045795182563%2C%200.0%5D%2C%20%5B-80.43355393807495%2C%2025.4604369789664%2C%200.0%5D%2C%20%5B-80.43354492599713%2C%2025.46041624654734%2C%200.0%5D%2C%20%5B-80.4335359626779%2C%2025.46039562714286%2C%200.0%5D%2C%20%5B-80.43353144181737%2C%2025.46037495492899%2C%200.0%5D%2C%20%5B-80.43352692988941%2C%2025.46035438545825%2C%200.0%5D%2C%20%5B-80.43352248712979%2C%2025.4603339628447%2C%200.0%5D%2C%20%5B-80.43351457830686%2C%2025.46031785790017%2C%200.0%5D%2C%20%5B-80.43351106592381%2C%2025.46030166913357%2C%200.0%5D%2C%20%5B-80.43350669698903%2C%2025.46028153105079%2C%200.0%5D%2C%20%5B-80.43350409370998%2C%2025.46026950553037%2C%200.0%5D%2C%20%5B-80.43349977884074%2C%2025.46024955243894%2C%200.0%5D%2C%20%5B-80.43349548691353%2C%2025.46022970569713%2C%200.0%5D%2C%20%5B-80.4334903667811%2C%2025.46020602858982%2C%200.0%5D%2C%20%5B-80.43348612463652%2C%2025.46018641236033%2C%200.0%5D%2C%20%5B-80.43347932279758%2C%2025.46017485734021%2C%200.0%5D%2C%20%5B-80.43347514807262%2C%2025.46015541933819%2C%200.0%5D%2C%20%5B-80.43347008194571%2C%2025.46013217448498%2C%200.0%5D%2C%20%5B-80.43346751817032%2C%2025.46012057210069%2C%200.0%5D%2C%20%5B-80.43345913457726%2C%2025.4601015554232%2C%200.0%5D%2C%20%5B-80.43345082413613%2C%2025.46008265323527%2C%200.0%5D%2C%20%5B-80.43344839460603%2C%2025.46007126962632%2C%200.0%5D%2C%20%5B-80.43344195271825%2C%2025.46004108517702%2C%200.0%5D%2C%20%5B-80.43343534093532%2C%2025.46002997360278%2C%200.0%5D%2C%20%5B-80.4334213558954%2C%2025.46000411205224%2C%200.0%5D%2C%20%5B-80.43341977321957%2C%2025.45999667554546%2C%200.0%5D%2C%20%5B-80.43341242047127%2C%2025.45998198563918%2C%200.0%5D%2C%20%5B-80.4334077128315%2C%2025.45995985227614%2C%200.0%5D%2C%20%5B-80.43338745938922%2C%2025.45992367640345%2C%200.0%5D%2C%20%5B-80.43081621498398%2C%2025.45986365771649%2C%200.0%5D%2C%20%5B-80.43081134456598%2C%2025.46098656314892%2C%200.0%5D%2C%20%5B-80.43359103855319%2C%2025.46105388204601%2C%200.0%5D%5D%5D%2C%20%22type%22%3A%20%22Polygon%22%7D%2C%20%22id%22%3A%20%220%22%2C%20%22properties%22%3A%20%7B%7D%2C%20%22type%22%3A%20%22Feature%22%7D%5D%2C%20%22type%22%3A%20%22FeatureCollection%22%7D%29%3B%0A%0A%20%20%20%20%20%20%20%20%0A%20%20%20%20%0A%20%20%20%20%20%20%20%20var%20popup_3006d055dd564379a10713ef60460de3%20%3D%20L.popup%28%7B%22maxWidth%22%3A%20%22100%25%22%7D%29%3B%0A%0A%20%20%20%20%20%20%20%20%0A%20%20%20%20%20%20%20%20%20%20%20%20var%20html_c067fe8c87d449b49d1a5c06546023f9%20%3D%20%24%28%60%3Cdiv%20id%3D%22html_c067fe8c87d449b49d1a5c06546023f9%22%20style%3D%22width%3A%20100.0%25%3B%20height%3A%20100.0%25%3B%22%3EHomestead%20Park%20of%20Commerce%3C/div%3E%60%29%5B0%5D%3B%0A%20%20%20%20%20%20%20%20%20%20%20%20popup_3006d055dd564379a10713ef60460de3.setContent%28html_c067fe8c87d449b49d1a5c06546023f9%29%3B%0A%20%20%20%20%20%20%20%20%0A%0A%20%20%20%20%20%20%20%20geo_json_60e7d05185204cdb88f8c242f867cf5b.bindPopup%28popup_3006d055dd564379a10713ef60460de3%29%0A%20%20%20%20%20%20%20%20%3B%0A%0A%20%20%20%20%20%20%20%20%0A%20%20%20%20%0A%20%20%20%20%0A%0A%20%20%20%20%20%20%20%20function%20geo_json_bf771f32d3df48a08088eed3ee2dd03e_onEachFeature%28feature%2C%20layer%29%20%7B%0A%20%20%20%20%20%20%20%20%20%20%20%20layer.on%28%7B%0A%20%20%20%20%20%20%20%20%20%20%20%20%7D%29%3B%0A%20%20%20%20%20%20%20%20%7D%3B%0A%20%20%20%20%20%20%20%20var%20geo_json_bf771f32d3df48a08088eed3ee2dd03e%20%3D%20L.geoJson%28null%2C%20%7B%0A%20%20%20%20%20%20%20%20%20%20%20%20%20%20%20%20onEachFeature%3A%20geo_json_bf771f32d3df48a08088eed3ee2dd03e_onEachFeature%2C%0A%20%20%20%20%20%20%20%20%20%20%20%20%0A%20%20%20%20%20%20%20%20%7D%29%3B%0A%0A%20%20%20%20%20%20%20%20function%20geo_json_bf771f32d3df48a08088eed3ee2dd03e_add%20%28data%29%20%7B%0A%20%20%20%20%20%20%20%20%20%20%20%20geo_json_bf771f32d3df48a08088eed3ee2dd03e%0A%20%20%20%20%20%20%20%20%20%20%20%20%20%20%20%20.addData%28data%29%0A%20%20%20%20%20%20%20%20%20%20%20%20%20%20%20%20.addTo%28map_ef6ffa9a35fa4da8b622f5be4f2a41ff%29%3B%0A%20%20%20%20%20%20%20%20%7D%0A%20%20%20%20%20%20%20%20%20%20%20%20geo_json_bf771f32d3df48a08088eed3ee2dd03e_add%28%7B%22bbox%22%3A%20%5B-80.4689403989278%2C%2025.47521182895359%2C%20-80.46535909052488%2C%2025.47706480604307%5D%2C%20%22features%22%3A%20%5B%7B%22bbox%22%3A%20%5B-80.4689403989278%2C%2025.47521182895359%2C%20-80.46535909052488%2C%2025.47706480604307%5D%2C%20%22geometry%22%3A%20%7B%22coordinates%22%3A%20%5B%5B%5B-80.46535909052488%2C%2025.47706480604307%2C%200.0%5D%2C%20%5B-80.46804926051105%2C%2025.47704156869703%2C%200.0%5D%2C%20%5B-80.4689403989278%2C%2025.47578091751497%2C%200.0%5D%2C%20%5B-80.46893273193808%2C%2025.47524020605886%2C%200.0%5D%2C%20%5B-80.46651590371518%2C%2025.47521182895359%2C%200.0%5D%2C%20%5B-80.46591228124416%2C%2025.47602383119348%2C%200.0%5D%2C%20%5B-80.46535909052488%2C%2025.47706480604307%2C%200.0%5D%5D%5D%2C%20%22type%22%3A%20%22Polygon%22%7D%2C%20%22id%22%3A%20%220%22%2C%20%22properties%22%3A%20%7B%7D%2C%20%22type%22%3A%20%22Feature%22%7D%5D%2C%20%22type%22%3A%20%22FeatureCollection%22%7D%29%3B%0A%0A%20%20%20%20%20%20%20%20%0A%20%20%20%20%0A%20%20%20%20%20%20%20%20var%20popup_d8631bb4797844df89e77e379a8115c0%20%3D%20L.popup%28%7B%22maxWidth%22%3A%20%22100%25%22%7D%29%3B%0A%0A%20%20%20%20%20%20%20%20%0A%20%20%20%20%20%20%20%20%20%20%20%20var%20html_b9ccbe4005234e6a934b24dae7cd576e%20%3D%20%24%28%60%3Cdiv%20id%3D%22html_b9ccbe4005234e6a934b24dae7cd576e%22%20style%3D%22width%3A%20100.0%25%3B%20height%3A%20100.0%25%3B%22%3ECityPlace%20Homestead%3C/div%3E%60%29%5B0%5D%3B%0A%20%20%20%20%20%20%20%20%20%20%20%20popup_d8631bb4797844df89e77e379a8115c0.setContent%28html_b9ccbe4005234e6a934b24dae7cd576e%29%3B%0A%20%20%20%20%20%20%20%20%0A%0A%20%20%20%20%20%20%20%20geo_json_bf771f32d3df48a08088eed3ee2dd03e.bindPopup%28popup_d8631bb4797844df89e77e379a8115c0%29%0A%20%20%20%20%20%20%20%20%3B%0A%0A%20%20%20%20%20%20%20%20%0A%20%20%20%20%0A%20%20%20%20%0A%0A%20%20%20%20%20%20%20%20function%20geo_json_a097e7fdc19b45b5a1f91731ef5f2d97_onEachFeature%28feature%2C%20layer%29%20%7B%0A%20%20%20%20%20%20%20%20%20%20%20%20layer.on%28%7B%0A%20%20%20%20%20%20%20%20%20%20%20%20%7D%29%3B%0A%20%20%20%20%20%20%20%20%7D%3B%0A%20%20%20%20%20%20%20%20var%20geo_json_a097e7fdc19b45b5a1f91731ef5f2d97%20%3D%20L.geoJson%28null%2C%20%7B%0A%20%20%20%20%20%20%20%20%20%20%20%20%20%20%20%20onEachFeature%3A%20geo_json_a097e7fdc19b45b5a1f91731ef5f2d97_onEachFeature%2C%0A%20%20%20%20%20%20%20%20%20%20%20%20%0A%20%20%20%20%20%20%20%20%7D%29%3B%0A%0A%20%20%20%20%20%20%20%20function%20geo_json_a097e7fdc19b45b5a1f91731ef5f2d97_add%20%28data%29%20%7B%0A%20%20%20%20%20%20%20%20%20%20%20%20geo_json_a097e7fdc19b45b5a1f91731ef5f2d97%0A%20%20%20%20%20%20%20%20%20%20%20%20%20%20%20%20.addData%28data%29%0A%20%20%20%20%20%20%20%20%20%20%20%20%20%20%20%20.addTo%28map_ef6ffa9a35fa4da8b622f5be4f2a41ff%29%3B%0A%20%20%20%20%20%20%20%20%7D%0A%20%20%20%20%20%20%20%20%20%20%20%20geo_json_a097e7fdc19b45b5a1f91731ef5f2d97_add%28%7B%22bbox%22%3A%20%5B-80.47938244107536%2C%2025.46918424150392%2C%20-80.47742216354884%2C%2025.46976779954609%5D%2C%20%22features%22%3A%20%5B%7B%22bbox%22%3A%20%5B-80.47938244107536%2C%2025.46918424150392%2C%20-80.47742216354884%2C%2025.46976779954609%5D%2C%20%22geometry%22%3A%20%7B%22coordinates%22%3A%20%5B%5B%5B-80.47742216354884%2C%2025.46976779954609%2C%200.0%5D%2C%20%5B-80.47938244107536%2C%2025.46976088220154%2C%200.0%5D%2C%20%5B-80.47936179137676%2C%2025.46920638087226%2C%200.0%5D%2C%20%5B-80.47743222352624%2C%2025.46918424150392%2C%200.0%5D%2C%20%5B-80.47742216354884%2C%2025.46976779954609%2C%200.0%5D%5D%5D%2C%20%22type%22%3A%20%22Polygon%22%7D%2C%20%22id%22%3A%20%220%22%2C%20%22properties%22%3A%20%7B%7D%2C%20%22type%22%3A%20%22Feature%22%7D%5D%2C%20%22type%22%3A%20%22FeatureCollection%22%7D%29%3B%0A%0A%20%20%20%20%20%20%20%20%0A%20%20%20%20%0A%20%20%20%20%20%20%20%20var%20popup_9bd24f4ba0af49b5ab194cd40110348b%20%3D%20L.popup%28%7B%22maxWidth%22%3A%20%22100%25%22%7D%29%3B%0A%0A%20%20%20%20%20%20%20%20%0A%20%20%20%20%20%20%20%20%20%20%20%20var%20html_c36445c4c67c4763b26f29de3b2e1dfd%20%3D%20%24%28%60%3Cdiv%20id%3D%22html_c36445c4c67c4763b26f29de3b2e1dfd%22%20style%3D%22width%3A%20100.0%25%3B%20height%3A%20100.0%25%3B%22%3EHomestead%20Station%3C/div%3E%60%29%5B0%5D%3B%0A%20%20%20%20%20%20%20%20%20%20%20%20popup_9bd24f4ba0af49b5ab194cd40110348b.setContent%28html_c36445c4c67c4763b26f29de3b2e1dfd%29%3B%0A%20%20%20%20%20%20%20%20%0A%0A%20%20%20%20%20%20%20%20geo_json_a097e7fdc19b45b5a1f91731ef5f2d97.bindPopup%28popup_9bd24f4ba0af49b5ab194cd40110348b%29%0A%20%20%20%20%20%20%20%20%3B%0A%0A%20%20%20%20%20%20%20%20%0A%20%20%20%20%0A%3C/script%3E onload=\"this.contentDocument.open();this.contentDocument.write(    decodeURIComponent(this.getAttribute('data-html')));this.contentDocument.close();\" allowfullscreen webkitallowfullscreen mozallowfullscreen></iframe></div></div>"
      ],
      "text/plain": [
       "<folium.folium.Map at 0x280ff4a4250>"
      ]
     },
     "execution_count": 11,
     "metadata": {},
     "output_type": "execute_result"
    }
   ],
   "source": [
    "m = folium.Map(location=[25.49,-80.4], zoom_start=12, tiles='CartoDB positron')\n",
    "\n",
    "for i, r in project_gdf.iterrows():\n",
    "    try:\n",
    "        sim_geo = gpd.GeoSeries(r['geometry'])\n",
    "        geo_j = sim_geo.to_json()\n",
    "        geo_j = folium.GeoJson(data=geo_j)\n",
    "        folium.Popup(r['Name']).add_to(geo_j)\n",
    "        geo_j.add_to(m)\n",
    "    except Exception as e:\n",
    "        print(e)\n",
    "\n",
    "# for i, r in project_gdf.iterrows():\n",
    "#     try:\n",
    "#         sim_geo = gpd.GeoSeries(r['center_point'])\n",
    "#         geo_j = sim_geo.to_json()\n",
    "#         geo_j = folium.GeoJson(data=geo_j)\n",
    "#         info = (r['Description'])\n",
    "#         info_split = textwrap.wrap(info, 50)\n",
    "#         desc = '<br>'.join(info_split)\n",
    "#         text = f'{desc}'\n",
    "#         folium.Marker(location=geo_j,tooltip=text).add_to(m)\n",
    "#     except Exception as e:\n",
    "#         print(e)\n",
    "\n",
    "m"
   ]
  },
  {
   "cell_type": "code",
   "execution_count": 12,
   "metadata": {},
   "outputs": [],
   "source": [
    "m.save('index.html')"
   ]
  },
  {
   "cell_type": "code",
   "execution_count": null,
   "metadata": {},
   "outputs": [],
   "source": []
  },
  {
   "cell_type": "code",
   "execution_count": null,
   "metadata": {},
   "outputs": [],
   "source": []
  },
  {
   "cell_type": "code",
   "execution_count": null,
   "metadata": {},
   "outputs": [],
   "source": []
  },
  {
   "cell_type": "code",
   "execution_count": null,
   "metadata": {},
   "outputs": [],
   "source": []
  },
  {
   "cell_type": "code",
   "execution_count": null,
   "metadata": {},
   "outputs": [],
   "source": []
  },
  {
   "cell_type": "code",
   "execution_count": null,
   "metadata": {},
   "outputs": [],
   "source": []
  },
  {
   "cell_type": "code",
   "execution_count": null,
   "metadata": {},
   "outputs": [],
   "source": []
  }
 ],
 "metadata": {
  "kernelspec": {
   "display_name": "Python 3",
   "language": "python",
   "name": "python3"
  },
  "language_info": {
   "codemirror_mode": {
    "name": "ipython",
    "version": 3
   },
   "file_extension": ".py",
   "mimetype": "text/x-python",
   "name": "python",
   "nbconvert_exporter": "python",
   "pygments_lexer": "ipython3",
   "version": "3.8.6"
  },
  "toc": {
   "base_numbering": 1,
   "nav_menu": {},
   "number_sections": true,
   "sideBar": true,
   "skip_h1_title": false,
   "title_cell": "Table of Contents",
   "title_sidebar": "Contents",
   "toc_cell": false,
   "toc_position": {},
   "toc_section_display": true,
   "toc_window_display": false
  }
 },
 "nbformat": 4,
 "nbformat_minor": 4
}
