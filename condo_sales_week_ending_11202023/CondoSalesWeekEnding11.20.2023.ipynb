{
 "cells": [
  {
   "cell_type": "markdown",
   "metadata": {},
   "source": [
    "## Imports"
   ]
  },
  {
   "cell_type": "code",
   "execution_count": 1,
   "metadata": {},
   "outputs": [],
   "source": [
    "import googlemaps\n",
    "import pandas as pd\n",
    "import numpy as np\n",
    "import re\n",
    "import os\n",
    "import geopandas as gpd\n",
    "import folium\n",
    "import tabula"
   ]
  },
  {
   "cell_type": "markdown",
   "metadata": {},
   "source": [
    "## Read-in"
   ]
  },
  {
   "cell_type": "code",
   "execution_count": 2,
   "metadata": {},
   "outputs": [],
   "source": [
    "# Gotta figure out how to get rid of the java error.\n",
    "# SO: https://stackoverflow.com/questions/54817211/java-command-is-not-found-from-this-python-process-please-ensure-java-is-inst\n",
    "\n",
    "dsf = tabula.read_pdf('condo.pdf', pages='all')"
   ]
  },
  {
   "cell_type": "markdown",
   "metadata": {},
   "source": [
    "## Clean Data"
   ]
  },
  {
   "cell_type": "code",
   "execution_count": 3,
   "metadata": {},
   "outputs": [],
   "source": [
    "df = dsf[0]\n",
    "df.columns = df.iloc[0]\n",
    "df = df[1:]\n",
    "df = df.drop(columns=df.columns[0])\n",
    "df = df.replace(np.nan, 'Not Available', regex=True)\n",
    "df = df.rename(columns={'Building / Address / City': 'building_address_city','Days on\\rMarket':'days_on_market',\\\n",
    "                        'Price /\\rSq. Ft.':'price_per_sqft'})\n",
    "df['building_address_city'] = df['building_address_city'].str.replace('^0', '', regex=True)\n",
    "df['geo_address'] = df['building_address_city']\n",
    "df['geo_address'] = df['geo_address'].map(lambda x: re.sub(r'\\r', ' ', x))\n",
    "df = df.replace('\\n',' ',regex=True)\n",
    "pattern = r'^(?P<building_name>[\\d\\s]*[A-Za-z\\s]+)\\s(?P<address>.+)\\s(?P<city>[A-Za-z\\s]+)$'\n",
    "df2 = df['geo_address']\n",
    "df2 = df2.to_frame()\n",
    "df2[['building_name', 'address', 'city']] = df2['geo_address'].str.extract(pattern, expand=True)"
   ]
  },
  {
   "cell_type": "markdown",
   "metadata": {},
   "source": [
    "Review this later (it's about how to properly merge DFs): https://pandas.pydata.org/pandas-docs/stable/user_guide/merging.html"
   ]
  },
  {
   "cell_type": "markdown",
   "metadata": {},
   "source": [
    "## Geocode"
   ]
  },
  {
   "cell_type": "code",
   "execution_count": 4,
   "metadata": {},
   "outputs": [],
   "source": [
    "result = pd.merge(df,df2,left_index=True, right_index=True)\n",
    "df = result\n",
    "df = df.drop(columns='city')"
   ]
  },
  {
   "cell_type": "code",
   "execution_count": 5,
   "metadata": {},
   "outputs": [],
   "source": [
    "%store -r google_maps_API_Key\n",
    "gmaps_key = googlemaps.Client(key=google_maps_API_Key)"
   ]
  },
  {
   "cell_type": "code",
   "execution_count": 6,
   "metadata": {},
   "outputs": [],
   "source": [
    "def geocode(add):\n",
    "    g = gmaps_key.geocode(add)\n",
    "    lat = g[0][\"geometry\"][\"location\"][\"lat\"]\n",
    "    lng = g[0][\"geometry\"][\"location\"][\"lng\"]\n",
    "    return (lat, lng)\n",
    "\n",
    "df['geocoded'] = df['geo_address_x'].apply(geocode)"
   ]
  },
  {
   "cell_type": "code",
   "execution_count": 7,
   "metadata": {},
   "outputs": [],
   "source": [
    "df['geocoded'] = df['geocoded'].astype(str)\n",
    "df[['lat', 'lon']] = df['geocoded'].str.strip('()').str.split(', ', expand=True)\n",
    "df['lat'] = df['lat'].astype(float)\n",
    "df['lon'] = df['lon'].astype(float)"
   ]
  },
  {
   "cell_type": "markdown",
   "metadata": {},
   "source": [
    "Folium documentation link: https://python-visualization.github.io/folium/index.html\n",
    "\n",
    "Folium is the library that lets us use leaflet with Python, since it's meant to be used with JavaScript.\n",
    "\n",
    "For adding titles: https://stackoverflow.com/questions/61928013/adding-a-title-or-text-to-a-folium-map"
   ]
  },
  {
   "cell_type": "markdown",
   "metadata": {},
   "source": [
    "## Correction section"
   ]
  },
  {
   "cell_type": "code",
   "execution_count": 8,
   "metadata": {},
   "outputs": [],
   "source": [
    "# df.at[index#,'col_name']"
   ]
  },
  {
   "cell_type": "markdown",
   "metadata": {},
   "source": [
    "## Format Data"
   ]
  },
  {
   "cell_type": "code",
   "execution_count": 9,
   "metadata": {},
   "outputs": [],
   "source": [
    "### Insert NaNs if needed ###\n",
    "df = df.replace('N/A', np.nan)"
   ]
  },
  {
   "cell_type": "code",
   "execution_count": 10,
   "metadata": {},
   "outputs": [],
   "source": [
    "df['int_Sale_Price'] = df['Sale Price'].str.replace('$','',regex=False)"
   ]
  },
  {
   "cell_type": "code",
   "execution_count": 11,
   "metadata": {},
   "outputs": [],
   "source": [
    "df['int_Sale_Price'] = df['int_Sale_Price'].str.replace(',','',regex=False)"
   ]
  },
  {
   "cell_type": "code",
   "execution_count": 12,
   "metadata": {},
   "outputs": [],
   "source": [
    "df['int_Sale_Price'] = pd.to_numeric(df['int_Sale_Price'])"
   ]
  },
  {
   "cell_type": "code",
   "execution_count": 13,
   "metadata": {},
   "outputs": [],
   "source": [
    "df['price_per_sqft'] = df['price_per_sqft'].str.replace('$','',regex=False)\n",
    "df['price_per_sqft'] = df['price_per_sqft'].str.replace(',','',regex=False)\n",
    "df['price_per_sqft'] = pd.to_numeric(df['price_per_sqft'])\n",
    "\n",
    "df['days_on_market'] = pd.to_numeric(df['days_on_market'])"
   ]
  },
  {
   "cell_type": "markdown",
   "metadata": {},
   "source": [
    "## Color-code top sale"
   ]
  },
  {
   "cell_type": "code",
   "execution_count": 14,
   "metadata": {},
   "outputs": [],
   "source": [
    "### Insert RANK values ###\n",
    "df['RANK'] = range(1, len(df) + 1)\n",
    "# use numpy to assign values to the 'COLOR' column\n",
    "df['COLOR'] = np.where(df['RANK'] <= 1, 'orange', 'blue')"
   ]
  },
  {
   "cell_type": "markdown",
   "metadata": {},
   "source": [
    "## HTML Popup Formatter"
   ]
  },
  {
   "cell_type": "code",
   "execution_count": 15,
   "metadata": {},
   "outputs": [
    {
     "data": {
      "text/plain": [
       "Index(['building_address_city', 'Close Date', 'days_on_market', 'Sale Price',\n",
       "       'Sq. Ft.', 'price_per_sqft', 'Agent', 'Listing Broker', 'Buyer Agent',\n",
       "       'Buyer Broker', 'geo_address_x', 'geo_address_y', 'building_name',\n",
       "       'address', 'geocoded', 'lat', 'lon', 'int_Sale_Price', 'RANK', 'COLOR'],\n",
       "      dtype='object')"
      ]
     },
     "execution_count": 15,
     "metadata": {},
     "output_type": "execute_result"
    }
   ],
   "source": [
    "df.columns"
   ]
  },
  {
   "cell_type": "code",
   "execution_count": 16,
   "metadata": {},
   "outputs": [],
   "source": [
    "def popup_html(row):\n",
    "    building_name = row['building_name']\n",
    "    price = row['Sale Price']\n",
    "    days_on_market = row['days_on_market']\n",
    "    listing_agent = row['Agent']\n",
    "    buyers_agent = row['Buyer Agent']\n",
    "    psf = row['price_per_sqft']\n",
    "    address = row['address']\n",
    "    \n",
    "    html = '''<!DOCTYPE html>\n",
    "    <html>\n",
    "    <strong>Building Name: </strong>{}'''.format(building_name) + '''<br>\n",
    "    <strong>Sale Price: </strong>{}'''.format(price) + '''<br>\n",
    "    <strong>Days on Market: </strong>{}'''.format(days_on_market) + '''<br>\n",
    "    <strong>Listing Agent: </strong>{}'''.format(listing_agent) + '''<br>\n",
    "    <strong>Buyer's Agent: </strong>{}'''.format(buyers_agent) + '''<br>\n",
    "    <strong>Price sq ft: </strong>${}'''.format(psf) + '''<br>\n",
    "    <strong>Address: </strong>{}'''.format(address) + '''<br>\n",
    "    </html>\n",
    "    '''\n",
    "    return html"
   ]
  },
  {
   "cell_type": "code",
   "execution_count": 17,
   "metadata": {},
   "outputs": [
    {
     "data": {
      "text/html": [
       "<div style=\"width:100%;\"><div style=\"position:relative;width:100%;height:0;padding-bottom:60%;\"><span style=\"color:#565656\">Make this Notebook Trusted to load map: File -> Trust Notebook</span><iframe srcdoc=\"&lt;!DOCTYPE html&gt;\n",
       "&lt;head&gt;    \n",
       "    &lt;meta http-equiv=&quot;content-type&quot; content=&quot;text/html; charset=UTF-8&quot; /&gt;\n",
       "    \n",
       "        &lt;script&gt;\n",
       "            L_NO_TOUCH = false;\n",
       "            L_DISABLE_3D = false;\n",
       "        &lt;/script&gt;\n",
       "    \n",
       "    &lt;style&gt;html, body {width: 100%;height: 100%;margin: 0;padding: 0;}&lt;/style&gt;\n",
       "    &lt;style&gt;#map {position:absolute;top:0;bottom:0;right:0;left:0;}&lt;/style&gt;\n",
       "    &lt;script src=&quot;https://cdn.jsdelivr.net/npm/leaflet@1.6.0/dist/leaflet.js&quot;&gt;&lt;/script&gt;\n",
       "    &lt;script src=&quot;https://code.jquery.com/jquery-1.12.4.min.js&quot;&gt;&lt;/script&gt;\n",
       "    &lt;script src=&quot;https://maxcdn.bootstrapcdn.com/bootstrap/3.2.0/js/bootstrap.min.js&quot;&gt;&lt;/script&gt;\n",
       "    &lt;script src=&quot;https://cdnjs.cloudflare.com/ajax/libs/Leaflet.awesome-markers/2.0.2/leaflet.awesome-markers.js&quot;&gt;&lt;/script&gt;\n",
       "    &lt;link rel=&quot;stylesheet&quot; href=&quot;https://cdn.jsdelivr.net/npm/leaflet@1.6.0/dist/leaflet.css&quot;/&gt;\n",
       "    &lt;link rel=&quot;stylesheet&quot; href=&quot;https://maxcdn.bootstrapcdn.com/bootstrap/3.2.0/css/bootstrap.min.css&quot;/&gt;\n",
       "    &lt;link rel=&quot;stylesheet&quot; href=&quot;https://maxcdn.bootstrapcdn.com/bootstrap/3.2.0/css/bootstrap-theme.min.css&quot;/&gt;\n",
       "    &lt;link rel=&quot;stylesheet&quot; href=&quot;https://maxcdn.bootstrapcdn.com/font-awesome/4.6.3/css/font-awesome.min.css&quot;/&gt;\n",
       "    &lt;link rel=&quot;stylesheet&quot; href=&quot;https://cdnjs.cloudflare.com/ajax/libs/Leaflet.awesome-markers/2.0.2/leaflet.awesome-markers.css&quot;/&gt;\n",
       "    &lt;link rel=&quot;stylesheet&quot; href=&quot;https://cdn.jsdelivr.net/gh/python-visualization/folium/folium/templates/leaflet.awesome.rotate.min.css&quot;/&gt;\n",
       "    \n",
       "            &lt;meta name=&quot;viewport&quot; content=&quot;width=device-width,\n",
       "                initial-scale=1.0, maximum-scale=1.0, user-scalable=no&quot; /&gt;\n",
       "            &lt;style&gt;\n",
       "                #map_9248543283f6c13f49b7e46934f9dc96 {\n",
       "                    position: relative;\n",
       "                    width: 100.0%;\n",
       "                    height: 100.0%;\n",
       "                    left: 0.0%;\n",
       "                    top: 0.0%;\n",
       "                }\n",
       "            &lt;/style&gt;\n",
       "        \n",
       "&lt;/head&gt;\n",
       "&lt;body&gt;    \n",
       "    \n",
       "              &lt;h3 align=&quot;center&quot; style=&quot;font-size:16px&quot;&gt;&lt;b&gt;Recent Miami-Dade Condo Sales &lt;/b&gt;&lt;/h3&gt;\n",
       "             \n",
       "    \n",
       "                &lt;p align=&quot;center&quot; style=&quot;vertical-align: bottom; font-size:13px&quot;&gt;&lt;i&gt;October 29th - November 4th&lt;/i&gt;&lt;/p&gt;\n",
       "                \n",
       "    \n",
       "            &lt;div class=&quot;folium-map&quot; id=&quot;map_9248543283f6c13f49b7e46934f9dc96&quot; &gt;&lt;/div&gt;\n",
       "        \n",
       "&lt;/body&gt;\n",
       "&lt;script&gt;    \n",
       "    \n",
       "            var map_9248543283f6c13f49b7e46934f9dc96 = L.map(\n",
       "                &quot;map_9248543283f6c13f49b7e46934f9dc96&quot;,\n",
       "                {\n",
       "                    center: [25.869596480000002, -80.14691205],\n",
       "                    crs: L.CRS.EPSG3857,\n",
       "                    zoom: 9.5,\n",
       "                    zoomControl: true,\n",
       "                    preferCanvas: false,\n",
       "                }\n",
       "            );\n",
       "\n",
       "            \n",
       "\n",
       "        \n",
       "    \n",
       "            var feature_group_bcfa4d6b839f1d8a721220c49eb16aaf = L.featureGroup(\n",
       "                {}\n",
       "            ).addTo(map_9248543283f6c13f49b7e46934f9dc96);\n",
       "        \n",
       "    \n",
       "            var marker_8049c14396068e727ff7214c4f970cc2 = L.marker(\n",
       "                [25.9423323, -80.12016559999999],\n",
       "                {&quot;fill&quot;: true, &quot;radius&quot;: 5}\n",
       "            ).addTo(feature_group_bcfa4d6b839f1d8a721220c49eb16aaf);\n",
       "        \n",
       "    \n",
       "            var icon_2d9a1fe687cf0ce9351ba94f5fec3d61 = L.AwesomeMarkers.icon(\n",
       "                {&quot;extraClasses&quot;: &quot;fa-rotate-0&quot;, &quot;icon&quot;: &quot;info-sign&quot;, &quot;iconColor&quot;: &quot;white&quot;, &quot;markerColor&quot;: &quot;orange&quot;, &quot;prefix&quot;: &quot;glyphicon&quot;}\n",
       "            );\n",
       "            marker_8049c14396068e727ff7214c4f970cc2.setIcon(icon_2d9a1fe687cf0ce9351ba94f5fec3d61);\n",
       "        \n",
       "    \n",
       "        var popup_acf30498a36e1050fceba33aa22a8f48 = L.popup({&quot;maxWidth&quot;: 400});\n",
       "\n",
       "        \n",
       "            \n",
       "                var html_4495e30f01c5fe8910428fb445366fc3 = $(`&lt;div id=&quot;html_4495e30f01c5fe8910428fb445366fc3&quot; style=&quot;width: 100.0%; height: 100.0%;&quot;&gt;&lt;!DOCTYPE html&gt;     &lt;html&gt;     &lt;strong&gt;Building Name: &lt;/strong&gt;Estates at Acqualina&lt;br&gt;     &lt;strong&gt;Sale Price: &lt;/strong&gt;$11,900,000.00&lt;br&gt;     &lt;strong&gt;Days on Market: &lt;/strong&gt;38&lt;br&gt;     &lt;strong&gt;Listing Agent: &lt;/strong&gt;Yansy Checa&lt;br&gt;     &lt;strong&gt;Buyer&#x27;s Agent: &lt;/strong&gt;David Siddons&lt;br&gt;     &lt;strong&gt;Price sq ft: &lt;/strong&gt;$nan&lt;br&gt;     &lt;strong&gt;Address: &lt;/strong&gt;17975 Collins Ave 2301 Sunny Isles&lt;br&gt;     &lt;/html&gt;     &lt;/div&gt;`)[0];\n",
       "                popup_acf30498a36e1050fceba33aa22a8f48.setContent(html_4495e30f01c5fe8910428fb445366fc3);\n",
       "            \n",
       "        \n",
       "\n",
       "        marker_8049c14396068e727ff7214c4f970cc2.bindPopup(popup_acf30498a36e1050fceba33aa22a8f48)\n",
       "        ;\n",
       "\n",
       "        \n",
       "    \n",
       "    \n",
       "            var feature_group_367ed6273884af3315b3d12a535b0bcb = L.featureGroup(\n",
       "                {}\n",
       "            ).addTo(map_9248543283f6c13f49b7e46934f9dc96);\n",
       "        \n",
       "    \n",
       "            var marker_10262ff27b959ef533ee869bfb65df3e = L.marker(\n",
       "                [25.9420203, -80.1201787],\n",
       "                {&quot;fill&quot;: true, &quot;radius&quot;: 5}\n",
       "            ).addTo(feature_group_367ed6273884af3315b3d12a535b0bcb);\n",
       "        \n",
       "    \n",
       "            var icon_dfc3e7ccb4d74bdfb5983b52e993f09a = L.AwesomeMarkers.icon(\n",
       "                {&quot;extraClasses&quot;: &quot;fa-rotate-0&quot;, &quot;icon&quot;: &quot;info-sign&quot;, &quot;iconColor&quot;: &quot;white&quot;, &quot;markerColor&quot;: &quot;blue&quot;, &quot;prefix&quot;: &quot;glyphicon&quot;}\n",
       "            );\n",
       "            marker_10262ff27b959ef533ee869bfb65df3e.setIcon(icon_dfc3e7ccb4d74bdfb5983b52e993f09a);\n",
       "        \n",
       "    \n",
       "        var popup_6bb5bea6cc39a42423ed3c0250b93de5 = L.popup({&quot;maxWidth&quot;: 400});\n",
       "\n",
       "        \n",
       "            \n",
       "                var html_d056de7697ea0fb367a1966dd773dec0 = $(`&lt;div id=&quot;html_d056de7697ea0fb367a1966dd773dec0&quot; style=&quot;width: 100.0%; height: 100.0%;&quot;&gt;&lt;!DOCTYPE html&gt;     &lt;html&gt;     &lt;strong&gt;Building Name: &lt;/strong&gt;The Estates at Acqualina&lt;br&gt;     &lt;strong&gt;Sale Price: &lt;/strong&gt;$9,900,000.00&lt;br&gt;     &lt;strong&gt;Days on Market: &lt;/strong&gt;111&lt;br&gt;     &lt;strong&gt;Listing Agent: &lt;/strong&gt;Cristina Giral&lt;br&gt;     &lt;strong&gt;Buyer&#x27;s Agent: &lt;/strong&gt;Max Farbstein&lt;br&gt;     &lt;strong&gt;Price sq ft: &lt;/strong&gt;$2603.21&lt;br&gt;     &lt;strong&gt;Address: &lt;/strong&gt;17901 Collins Ave 2304 Sunny Isles&lt;br&gt;     &lt;/html&gt;     &lt;/div&gt;`)[0];\n",
       "                popup_6bb5bea6cc39a42423ed3c0250b93de5.setContent(html_d056de7697ea0fb367a1966dd773dec0);\n",
       "            \n",
       "        \n",
       "\n",
       "        marker_10262ff27b959ef533ee869bfb65df3e.bindPopup(popup_6bb5bea6cc39a42423ed3c0250b93de5)\n",
       "        ;\n",
       "\n",
       "        \n",
       "    \n",
       "    \n",
       "            var marker_746136b02745568c99c2a360473cfbb6 = L.marker(\n",
       "                [25.7620721, -80.1477688],\n",
       "                {&quot;fill&quot;: true, &quot;radius&quot;: 5}\n",
       "            ).addTo(feature_group_367ed6273884af3315b3d12a535b0bcb);\n",
       "        \n",
       "    \n",
       "            var icon_496f5e71f152ec50b6fdeae7e39cfecd = L.AwesomeMarkers.icon(\n",
       "                {&quot;extraClasses&quot;: &quot;fa-rotate-0&quot;, &quot;icon&quot;: &quot;info-sign&quot;, &quot;iconColor&quot;: &quot;white&quot;, &quot;markerColor&quot;: &quot;blue&quot;, &quot;prefix&quot;: &quot;glyphicon&quot;}\n",
       "            );\n",
       "            marker_746136b02745568c99c2a360473cfbb6.setIcon(icon_496f5e71f152ec50b6fdeae7e39cfecd);\n",
       "        \n",
       "    \n",
       "        var popup_814b8dafb08bd64c71c70eeaf35abcfa = L.popup({&quot;maxWidth&quot;: 400});\n",
       "\n",
       "        \n",
       "            \n",
       "                var html_a67d340afe0e84eb8f979bf7028d043b = $(`&lt;div id=&quot;html_a67d340afe0e84eb8f979bf7028d043b&quot; style=&quot;width: 100.0%; height: 100.0%;&quot;&gt;&lt;!DOCTYPE html&gt;     &lt;html&gt;     &lt;strong&gt;Building Name: &lt;/strong&gt;5100 Bayview at Fisher Island&lt;br&gt;     &lt;strong&gt;Sale Price: &lt;/strong&gt;$6,300,000.00&lt;br&gt;     &lt;strong&gt;Days on Market: &lt;/strong&gt;80&lt;br&gt;     &lt;strong&gt;Listing Agent: &lt;/strong&gt;Karla Abaunza&lt;br&gt;     &lt;strong&gt;Buyer&#x27;s Agent: &lt;/strong&gt;Jorge Escasena&lt;br&gt;     &lt;strong&gt;Price sq ft: &lt;/strong&gt;$2290.91&lt;br&gt;     &lt;strong&gt;Address: &lt;/strong&gt;5152 Fisher Island Dr 5152 Miami&lt;br&gt;     &lt;/html&gt;     &lt;/div&gt;`)[0];\n",
       "                popup_814b8dafb08bd64c71c70eeaf35abcfa.setContent(html_a67d340afe0e84eb8f979bf7028d043b);\n",
       "            \n",
       "        \n",
       "\n",
       "        marker_746136b02745568c99c2a360473cfbb6.bindPopup(popup_814b8dafb08bd64c71c70eeaf35abcfa)\n",
       "        ;\n",
       "\n",
       "        \n",
       "    \n",
       "    \n",
       "            var marker_5bc772e41afd575ce94af9830e57e8de = L.marker(\n",
       "                [25.9625171, -80.1257641],\n",
       "                {&quot;fill&quot;: true, &quot;radius&quot;: 5}\n",
       "            ).addTo(feature_group_367ed6273884af3315b3d12a535b0bcb);\n",
       "        \n",
       "    \n",
       "            var icon_7afad391f1dcdb0cd1d6338355c864b0 = L.AwesomeMarkers.icon(\n",
       "                {&quot;extraClasses&quot;: &quot;fa-rotate-0&quot;, &quot;icon&quot;: &quot;info-sign&quot;, &quot;iconColor&quot;: &quot;white&quot;, &quot;markerColor&quot;: &quot;blue&quot;, &quot;prefix&quot;: &quot;glyphicon&quot;}\n",
       "            );\n",
       "            marker_5bc772e41afd575ce94af9830e57e8de.setIcon(icon_7afad391f1dcdb0cd1d6338355c864b0);\n",
       "        \n",
       "    \n",
       "        var popup_90f9149261925337ebfa6c4b3a937071 = L.popup({&quot;maxWidth&quot;: 400});\n",
       "\n",
       "        \n",
       "            \n",
       "                var html_30839356a7c564357ce97fede9fc3a36 = $(`&lt;div id=&quot;html_30839356a7c564357ce97fede9fc3a36&quot; style=&quot;width: 100.0%; height: 100.0%;&quot;&gt;&lt;!DOCTYPE html&gt;     &lt;html&gt;     &lt;strong&gt;Building Name: &lt;/strong&gt;Porto Vita&lt;br&gt;     &lt;strong&gt;Sale Price: &lt;/strong&gt;$5,000,000.00&lt;br&gt;     &lt;strong&gt;Days on Market: &lt;/strong&gt;70&lt;br&gt;     &lt;strong&gt;Listing Agent: &lt;/strong&gt;Karen Matluck PA&lt;br&gt;     &lt;strong&gt;Buyer&#x27;s Agent: &lt;/strong&gt;Beth Geduld&lt;br&gt;     &lt;strong&gt;Price sq ft: &lt;/strong&gt;$863.26&lt;br&gt;     &lt;strong&gt;Address: &lt;/strong&gt;20155 NE 38th Ct 2404&lt;br&gt;     &lt;/html&gt;     &lt;/div&gt;`)[0];\n",
       "                popup_90f9149261925337ebfa6c4b3a937071.setContent(html_30839356a7c564357ce97fede9fc3a36);\n",
       "            \n",
       "        \n",
       "\n",
       "        marker_5bc772e41afd575ce94af9830e57e8de.bindPopup(popup_90f9149261925337ebfa6c4b3a937071)\n",
       "        ;\n",
       "\n",
       "        \n",
       "    \n",
       "    \n",
       "            var marker_67eb55509d40ced6e909bb0065d15b50 = L.marker(\n",
       "                [25.8721244, -80.12105729999999],\n",
       "                {&quot;fill&quot;: true, &quot;radius&quot;: 5}\n",
       "            ).addTo(feature_group_367ed6273884af3315b3d12a535b0bcb);\n",
       "        \n",
       "    \n",
       "            var icon_6b6cd8f20eb78fae9e0b747e63c02aae = L.AwesomeMarkers.icon(\n",
       "                {&quot;extraClasses&quot;: &quot;fa-rotate-0&quot;, &quot;icon&quot;: &quot;info-sign&quot;, &quot;iconColor&quot;: &quot;white&quot;, &quot;markerColor&quot;: &quot;blue&quot;, &quot;prefix&quot;: &quot;glyphicon&quot;}\n",
       "            );\n",
       "            marker_67eb55509d40ced6e909bb0065d15b50.setIcon(icon_6b6cd8f20eb78fae9e0b747e63c02aae);\n",
       "        \n",
       "    \n",
       "        var popup_a5bd38bd967d36b149d50b7a0075ded1 = L.popup({&quot;maxWidth&quot;: 400});\n",
       "\n",
       "        \n",
       "            \n",
       "                var html_ad7d4288ad74b38b4692701910bdde00 = $(`&lt;div id=&quot;html_ad7d4288ad74b38b4692701910bdde00&quot; style=&quot;width: 100.0%; height: 100.0%;&quot;&gt;&lt;!DOCTYPE html&gt;     &lt;html&gt;     &lt;strong&gt;Building Name: &lt;/strong&gt;Eighty Seven  Park&lt;br&gt;     &lt;strong&gt;Sale Price: &lt;/strong&gt;$3,850,000.00&lt;br&gt;     &lt;strong&gt;Days on Market: &lt;/strong&gt;115&lt;br&gt;     &lt;strong&gt;Listing Agent: &lt;/strong&gt;Miltiadis Kastanis&lt;br&gt;     &lt;strong&gt;Buyer&#x27;s Agent: &lt;/strong&gt;German Grudny&lt;br&gt;     &lt;strong&gt;Price sq ft: &lt;/strong&gt;$2529.57&lt;br&gt;     &lt;strong&gt;Address: &lt;/strong&gt;8702 Collins Ave 605 Miami&lt;br&gt;     &lt;/html&gt;     &lt;/div&gt;`)[0];\n",
       "                popup_a5bd38bd967d36b149d50b7a0075ded1.setContent(html_ad7d4288ad74b38b4692701910bdde00);\n",
       "            \n",
       "        \n",
       "\n",
       "        marker_67eb55509d40ced6e909bb0065d15b50.bindPopup(popup_a5bd38bd967d36b149d50b7a0075ded1)\n",
       "        ;\n",
       "\n",
       "        \n",
       "    \n",
       "    \n",
       "            var marker_01f74eaa314da75374149f098ed752bc = L.marker(\n",
       "                [25.9462832, -80.1308059],\n",
       "                {&quot;fill&quot;: true, &quot;radius&quot;: 5}\n",
       "            ).addTo(feature_group_367ed6273884af3315b3d12a535b0bcb);\n",
       "        \n",
       "    \n",
       "            var icon_a60059225e72f5f179a27bbbf835538b = L.AwesomeMarkers.icon(\n",
       "                {&quot;extraClasses&quot;: &quot;fa-rotate-0&quot;, &quot;icon&quot;: &quot;info-sign&quot;, &quot;iconColor&quot;: &quot;white&quot;, &quot;markerColor&quot;: &quot;blue&quot;, &quot;prefix&quot;: &quot;glyphicon&quot;}\n",
       "            );\n",
       "            marker_01f74eaa314da75374149f098ed752bc.setIcon(icon_a60059225e72f5f179a27bbbf835538b);\n",
       "        \n",
       "    \n",
       "        var popup_d38e1eba64c1497bdb9065d6e7b5533a = L.popup({&quot;maxWidth&quot;: 400});\n",
       "\n",
       "        \n",
       "            \n",
       "                var html_f46abbb373aa3d39879c93d72a15f893 = $(`&lt;div id=&quot;html_f46abbb373aa3d39879c93d72a15f893&quot; style=&quot;width: 100.0%; height: 100.0%;&quot;&gt;&lt;!DOCTYPE html&gt;     &lt;html&gt;     &lt;strong&gt;Building Name: &lt;/strong&gt;Prive Condominium&lt;br&gt;     &lt;strong&gt;Sale Price: &lt;/strong&gt;$3,825,000.00&lt;br&gt;     &lt;strong&gt;Days on Market: &lt;/strong&gt;242&lt;br&gt;     &lt;strong&gt;Listing Agent: &lt;/strong&gt;Irina Alvarez PA&lt;br&gt;     &lt;strong&gt;Buyer&#x27;s Agent: &lt;/strong&gt;Lindsey Brown&lt;br&gt;     &lt;strong&gt;Price sq ft: &lt;/strong&gt;$1283.99&lt;br&gt;     &lt;strong&gt;Address: &lt;/strong&gt;5000 Island Estates Dr 1403&lt;br&gt;     &lt;/html&gt;     &lt;/div&gt;`)[0];\n",
       "                popup_d38e1eba64c1497bdb9065d6e7b5533a.setContent(html_f46abbb373aa3d39879c93d72a15f893);\n",
       "            \n",
       "        \n",
       "\n",
       "        marker_01f74eaa314da75374149f098ed752bc.bindPopup(popup_d38e1eba64c1497bdb9065d6e7b5533a)\n",
       "        ;\n",
       "\n",
       "        \n",
       "    \n",
       "    \n",
       "            var marker_f6c87152f7e3ddb082e4186429e89e63 = L.marker(\n",
       "                [25.7554036, -80.195048],\n",
       "                {&quot;fill&quot;: true, &quot;radius&quot;: 5}\n",
       "            ).addTo(feature_group_367ed6273884af3315b3d12a535b0bcb);\n",
       "        \n",
       "    \n",
       "            var icon_5b2ca2a47dc0cfc7329a34c99a673519 = L.AwesomeMarkers.icon(\n",
       "                {&quot;extraClasses&quot;: &quot;fa-rotate-0&quot;, &quot;icon&quot;: &quot;info-sign&quot;, &quot;iconColor&quot;: &quot;white&quot;, &quot;markerColor&quot;: &quot;blue&quot;, &quot;prefix&quot;: &quot;glyphicon&quot;}\n",
       "            );\n",
       "            marker_f6c87152f7e3ddb082e4186429e89e63.setIcon(icon_5b2ca2a47dc0cfc7329a34c99a673519);\n",
       "        \n",
       "    \n",
       "        var popup_833448e7949aaa96fd19907ea46e19ae = L.popup({&quot;maxWidth&quot;: 400});\n",
       "\n",
       "        \n",
       "            \n",
       "                var html_fdf77d8a24907548311cde3a3f816445 = $(`&lt;div id=&quot;html_fdf77d8a24907548311cde3a3f816445&quot; style=&quot;width: 100.0%; height: 100.0%;&quot;&gt;&lt;!DOCTYPE html&gt;     &lt;html&gt;     &lt;strong&gt;Building Name: &lt;/strong&gt;Santa Maria&lt;br&gt;     &lt;strong&gt;Sale Price: &lt;/strong&gt;$2,650,000.00&lt;br&gt;     &lt;strong&gt;Days on Market: &lt;/strong&gt;282&lt;br&gt;     &lt;strong&gt;Listing Agent: &lt;/strong&gt;Erika Cedeno&lt;br&gt;     &lt;strong&gt;Buyer&#x27;s Agent: &lt;/strong&gt;Raul Rodriguez&lt;br&gt;     &lt;strong&gt;Price sq ft: &lt;/strong&gt;$1027.13&lt;br&gt;     &lt;strong&gt;Address: &lt;/strong&gt;1643 Brickell Ave 2605&lt;br&gt;     &lt;/html&gt;     &lt;/div&gt;`)[0];\n",
       "                popup_833448e7949aaa96fd19907ea46e19ae.setContent(html_fdf77d8a24907548311cde3a3f816445);\n",
       "            \n",
       "        \n",
       "\n",
       "        marker_f6c87152f7e3ddb082e4186429e89e63.bindPopup(popup_833448e7949aaa96fd19907ea46e19ae)\n",
       "        ;\n",
       "\n",
       "        \n",
       "    \n",
       "    \n",
       "            var marker_c8a29dded4b216a4a96b7dfc48d3e668 = L.marker(\n",
       "                [25.9599315, -80.1255386],\n",
       "                {&quot;fill&quot;: true, &quot;radius&quot;: 5}\n",
       "            ).addTo(feature_group_367ed6273884af3315b3d12a535b0bcb);\n",
       "        \n",
       "    \n",
       "            var icon_06fdcc4e792e1da725df8e62195dc325 = L.AwesomeMarkers.icon(\n",
       "                {&quot;extraClasses&quot;: &quot;fa-rotate-0&quot;, &quot;icon&quot;: &quot;info-sign&quot;, &quot;iconColor&quot;: &quot;white&quot;, &quot;markerColor&quot;: &quot;blue&quot;, &quot;prefix&quot;: &quot;glyphicon&quot;}\n",
       "            );\n",
       "            marker_c8a29dded4b216a4a96b7dfc48d3e668.setIcon(icon_06fdcc4e792e1da725df8e62195dc325);\n",
       "        \n",
       "    \n",
       "        var popup_d393a2c1ec54f14554fe3ba944ae9a8b = L.popup({&quot;maxWidth&quot;: 400});\n",
       "\n",
       "        \n",
       "            \n",
       "                var html_56e7cc9584e30f99d7ec55ea68a7187b = $(`&lt;div id=&quot;html_56e7cc9584e30f99d7ec55ea68a7187b&quot; style=&quot;width: 100.0%; height: 100.0%;&quot;&gt;&lt;!DOCTYPE html&gt;     &lt;html&gt;     &lt;strong&gt;Building Name: &lt;/strong&gt;Porto Vita&lt;br&gt;     &lt;strong&gt;Sale Price: &lt;/strong&gt;$1,800,000.00&lt;br&gt;     &lt;strong&gt;Days on Market: &lt;/strong&gt;98&lt;br&gt;     &lt;strong&gt;Listing Agent: &lt;/strong&gt;Diane Lieberman&lt;br&gt;     &lt;strong&gt;Buyer&#x27;s Agent: &lt;/strong&gt;Jaime Rubinson&lt;br&gt;     &lt;strong&gt;Price sq ft: &lt;/strong&gt;$590.16&lt;br&gt;     &lt;strong&gt;Address: &lt;/strong&gt;19925 NE 39th Pl 502&lt;br&gt;     &lt;/html&gt;     &lt;/div&gt;`)[0];\n",
       "                popup_d393a2c1ec54f14554fe3ba944ae9a8b.setContent(html_56e7cc9584e30f99d7ec55ea68a7187b);\n",
       "            \n",
       "        \n",
       "\n",
       "        marker_c8a29dded4b216a4a96b7dfc48d3e668.bindPopup(popup_d393a2c1ec54f14554fe3ba944ae9a8b)\n",
       "        ;\n",
       "\n",
       "        \n",
       "    \n",
       "    \n",
       "            var marker_8aef6be8228fde4afea77ced5effdfff = L.marker(\n",
       "                [25.785199, -80.19011230000001],\n",
       "                {&quot;fill&quot;: true, &quot;radius&quot;: 5}\n",
       "            ).addTo(feature_group_367ed6273884af3315b3d12a535b0bcb);\n",
       "        \n",
       "    \n",
       "            var icon_f1f194c1b0c40a1f6d432ed03bc49025 = L.AwesomeMarkers.icon(\n",
       "                {&quot;extraClasses&quot;: &quot;fa-rotate-0&quot;, &quot;icon&quot;: &quot;info-sign&quot;, &quot;iconColor&quot;: &quot;white&quot;, &quot;markerColor&quot;: &quot;blue&quot;, &quot;prefix&quot;: &quot;glyphicon&quot;}\n",
       "            );\n",
       "            marker_8aef6be8228fde4afea77ced5effdfff.setIcon(icon_f1f194c1b0c40a1f6d432ed03bc49025);\n",
       "        \n",
       "    \n",
       "        var popup_b69f823860c0990343c864508fe60174 = L.popup({&quot;maxWidth&quot;: 400});\n",
       "\n",
       "        \n",
       "            \n",
       "                var html_018cf04b5b92d9539e907596ce711cb1 = $(`&lt;div id=&quot;html_018cf04b5b92d9539e907596ce711cb1&quot; style=&quot;width: 100.0%; height: 100.0%;&quot;&gt;&lt;!DOCTYPE html&gt;     &lt;html&gt;     &lt;strong&gt;Building Name: &lt;/strong&gt;Marquis&lt;br&gt;     &lt;strong&gt;Sale Price: &lt;/strong&gt;$1,725,000.00&lt;br&gt;     &lt;strong&gt;Days on Market: &lt;/strong&gt;13&lt;br&gt;     &lt;strong&gt;Listing Agent: &lt;/strong&gt;Priscila Araujo Romero&lt;br&gt;     &lt;strong&gt;Buyer&#x27;s Agent: &lt;/strong&gt;Evan Schechtman&lt;br&gt;     &lt;strong&gt;Price sq ft: &lt;/strong&gt;$819.09&lt;br&gt;     &lt;strong&gt;Address: &lt;/strong&gt;1100 Biscayne Blvd 5601&lt;br&gt;     &lt;/html&gt;     &lt;/div&gt;`)[0];\n",
       "                popup_b69f823860c0990343c864508fe60174.setContent(html_018cf04b5b92d9539e907596ce711cb1);\n",
       "            \n",
       "        \n",
       "\n",
       "        marker_8aef6be8228fde4afea77ced5effdfff.bindPopup(popup_b69f823860c0990343c864508fe60174)\n",
       "        ;\n",
       "\n",
       "        \n",
       "    \n",
       "    \n",
       "            var marker_ee2341f227baadc306ab60eab5af89a7 = L.marker(\n",
       "                [25.7680813, -80.1926812],\n",
       "                {&quot;fill&quot;: true, &quot;radius&quot;: 5}\n",
       "            ).addTo(feature_group_367ed6273884af3315b3d12a535b0bcb);\n",
       "        \n",
       "    \n",
       "            var icon_9b7e482e6885df5036b17bc967107fd7 = L.AwesomeMarkers.icon(\n",
       "                {&quot;extraClasses&quot;: &quot;fa-rotate-0&quot;, &quot;icon&quot;: &quot;info-sign&quot;, &quot;iconColor&quot;: &quot;white&quot;, &quot;markerColor&quot;: &quot;blue&quot;, &quot;prefix&quot;: &quot;glyphicon&quot;}\n",
       "            );\n",
       "            marker_ee2341f227baadc306ab60eab5af89a7.setIcon(icon_9b7e482e6885df5036b17bc967107fd7);\n",
       "        \n",
       "    \n",
       "        var popup_0b6927e7f052f3d76c71a9df52ab935b = L.popup({&quot;maxWidth&quot;: 400});\n",
       "\n",
       "        \n",
       "            \n",
       "                var html_431d195efb76cd25aaec1fb992e04963 = $(`&lt;div id=&quot;html_431d195efb76cd25aaec1fb992e04963&quot; style=&quot;width: 100.0%; height: 100.0%;&quot;&gt;&lt;!DOCTYPE html&gt;     &lt;html&gt;     &lt;strong&gt;Building Name: &lt;/strong&gt;Reach Condominium&lt;br&gt;     &lt;strong&gt;Sale Price: &lt;/strong&gt;$1,700,000.00&lt;br&gt;     &lt;strong&gt;Days on Market: &lt;/strong&gt;18&lt;br&gt;     &lt;strong&gt;Listing Agent: &lt;/strong&gt;Natalie Chai&lt;br&gt;     &lt;strong&gt;Buyer&#x27;s Agent: &lt;/strong&gt;Jose Burgos&lt;br&gt;     &lt;strong&gt;Price sq ft: &lt;/strong&gt;$899.0&lt;br&gt;     &lt;strong&gt;Address: &lt;/strong&gt;68 SE 6th St 2503&lt;br&gt;     &lt;/html&gt;     &lt;/div&gt;`)[0];\n",
       "                popup_0b6927e7f052f3d76c71a9df52ab935b.setContent(html_431d195efb76cd25aaec1fb992e04963);\n",
       "            \n",
       "        \n",
       "\n",
       "        marker_ee2341f227baadc306ab60eab5af89a7.bindPopup(popup_0b6927e7f052f3d76c71a9df52ab935b)\n",
       "        ;\n",
       "\n",
       "        \n",
       "    \n",
       "    \n",
       "            var tile_layer_b4feb19451f7dfbdcab3e59fc4cca0d7 = L.tileLayer(\n",
       "                &quot;https://{s}.tile.openstreetmap.org/{z}/{x}/{y}.png&quot;,\n",
       "                {&quot;attribution&quot;: &quot;Data by \\u0026copy; \\u003ca href=\\&quot;http://openstreetmap.org\\&quot;\\u003eOpenStreetMap\\u003c/a\\u003e, under \\u003ca href=\\&quot;http://www.openstreetmap.org/copyright\\&quot;\\u003eODbL\\u003c/a\\u003e.&quot;, &quot;detectRetina&quot;: false, &quot;maxNativeZoom&quot;: 18, &quot;maxZoom&quot;: 18, &quot;minZoom&quot;: 0, &quot;noWrap&quot;: false, &quot;opacity&quot;: 1, &quot;subdomains&quot;: &quot;abc&quot;, &quot;tms&quot;: false}\n",
       "            ).addTo(map_9248543283f6c13f49b7e46934f9dc96);\n",
       "        \n",
       "    \n",
       "            var layer_control_f852029c17eb71557f692b66e14199d5 = {\n",
       "                base_layers : {\n",
       "                },\n",
       "                overlays :  {\n",
       "                    &quot;Top Sale&quot; : feature_group_bcfa4d6b839f1d8a721220c49eb16aaf,\n",
       "                    &quot;All other sales&quot; : feature_group_367ed6273884af3315b3d12a535b0bcb,\n",
       "                },\n",
       "            };\n",
       "            L.control.layers(\n",
       "                layer_control_f852029c17eb71557f692b66e14199d5.base_layers,\n",
       "                layer_control_f852029c17eb71557f692b66e14199d5.overlays,\n",
       "                {&quot;autoZIndex&quot;: true, &quot;collapsed&quot;: false, &quot;position&quot;: &quot;topright&quot;}\n",
       "            ).addTo(map_9248543283f6c13f49b7e46934f9dc96);\n",
       "        \n",
       "&lt;/script&gt;\" style=\"position:absolute;width:100%;height:100%;left:0;top:0;border:none !important;\" allowfullscreen webkitallowfullscreen mozallowfullscreen></iframe></div></div>"
      ],
      "text/plain": [
       "<folium.folium.Map at 0x7fd9c2873820>"
      ]
     },
     "execution_count": 17,
     "metadata": {},
     "output_type": "execute_result"
    }
   ],
   "source": [
    "import folium\n",
    "from folium.plugins import MarkerCluster\n",
    "\n",
    "m = folium.Map(location=df[[\"lat\", \"lon\"]].mean().to_list(), zoom_start=10)\n",
    "\n",
    "title_html = '''\n",
    "              <h3 align=\"center\" style=\"font-size:16px\"><b>{}</b></h3>\n",
    "             '''.format(f'Recent Miami-Dade Condo Sales ')\n",
    "\n",
    "caption_html = '''\n",
    "                <p align=\"center\" style=\"vertical-align: bottom; font-size:13px\"><i>{}</i></p>\n",
    "                '''.format('October 29th - November 4th')\n",
    "\n",
    "\n",
    "### Create map container ###\n",
    "m = folium.Map(location=df[[\"lat\", \"lon\"]].mean().to_list(),zoom_start=9.5,tiles=None)\n",
    "\n",
    "# Create two FeatureGroups for different color pins\n",
    "fg_blue = folium.FeatureGroup(name='All other sales')\n",
    "fg_orange = folium.FeatureGroup(name='Top Sale')\n",
    "\n",
    "for index, row in df.iterrows():\n",
    "    # Add the markers to the appropriate FeatureGroup based on the color\n",
    "    if row['COLOR'] == 'blue':\n",
    "        marker = folium.Marker(\n",
    "            location=[row['lat'], row['lon']],\n",
    "            radius=5,\n",
    "            fill=True,\n",
    "            icon=folium.Icon(color=row['COLOR']),\n",
    "            popup=folium.Popup(popup_html(row), max_width=400))\n",
    "        marker.add_to(fg_blue)\n",
    "    else:\n",
    "        marker = folium.Marker(\n",
    "            location=[row['lat'], row['lon']],\n",
    "            radius=5,\n",
    "            fill=True,\n",
    "            icon=folium.Icon(color=row['COLOR']),\n",
    "            popup=folium.Popup(popup_html(row), max_width=400))\n",
    "        marker.add_to(fg_orange)\n",
    "\n",
    "# Add the FeatureGroups to the map\n",
    "fg_orange.add_to(m)\n",
    "fg_blue.add_to(m)\n",
    "\n",
    "folium.TileLayer('OpenStreetMap',control=False).add_to(m)\n",
    "\n",
    "# Add LayerControl to the map\n",
    "folium.map.LayerControl(collapsed=False).add_to(m)\n",
    "m.get_root().html.add_child(folium.Element(title_html))\n",
    "m.get_root().html.add_child(folium.Element(caption_html))\n",
    "            \n",
    "# Display map\n",
    "m"
   ]
  },
  {
   "cell_type": "code",
   "execution_count": 18,
   "metadata": {},
   "outputs": [],
   "source": [
    "m.save('index.html')"
   ]
  },
  {
   "cell_type": "markdown",
   "metadata": {},
   "source": [
    "## Data snagger"
   ]
  },
  {
   "cell_type": "code",
   "execution_count": 19,
   "metadata": {},
   "outputs": [],
   "source": [
    "### Set up formatting ###\n",
    "BR = '\\n'\n",
    "\n",
    "ME = '\\033[1m' + 'Most Expensive' + '\\033[0m'\n",
    "LE = '\\033[1m' + 'Least Expensive' + '\\033[0m'\n",
    "\n",
    "MAX_PSF = '\\033[1m' + 'Highest Price Per Square Foot' + '\\033[0m'\n",
    "MIN_PSF = '\\033[1m' + 'Lowest Price Per Square Foot' + '\\033[0m'\n",
    "\n",
    "DAYS_MAX = '\\033[1m' + 'Most Days on Market' + '\\033[0m'\n",
    "DAYS_MIN = '\\033[1m' + 'Fewest Days on Market' + '\\033[0m'"
   ]
  },
  {
   "cell_type": "code",
   "execution_count": 20,
   "metadata": {},
   "outputs": [
    {
     "name": "stdout",
     "output_type": "stream",
     "text": [
      "\u001b[1mMost Expensive\u001b[0m\n",
      "Estates at Acqualina, 17975 Collins Ave 2301 Sunny Isles | Price $11,900,000 | $nan psf | Listing agent: Yansy Checa with Acqualina Realty | Buyer's agent: David Siddons with Douglas Elliman | Days on market: 38\n",
      "\u001b[1mLeast Expensive\u001b[0m\n",
      "Reach Condominium, 68 SE 6th St 2503 | Price $1,700,000 | $899 psf | Listing agent: Natalie Chai with Atlantic Realty & Inv. Corp. | Buyer's agent: Jose Burgos with La Rosa Realty Kissimmee | Days on market: 18\n",
      "\u001b[1mHighest Price Per Square Foot\u001b[0m\n",
      "The Estates at Acqualina, 17901 Collins Ave 2304 Sunny Isles | Price $9,900,000 | $2,603 psf | Listing agent: Cristina Giral with Basel Boutique Real Estate | Buyer's agent: Max Farbstein with Official | Days on market: 111\n",
      "\u001b[1mLowest Price Per Square Foot\u001b[0m\n",
      "Porto Vita, 19925 NE 39th Pl 502 | Price $1,800,000 | $590 psf | Listing agent: Diane Lieberman with One Sotheby's Int'l Realty | Buyer's agent: Jaime Rubinson with LenCor International Prop. Inc | Days on market: 98\n",
      "\u001b[1mMost Days on Market\u001b[0m\n",
      "Santa Maria, 1643 Brickell Ave 2605 | Price $2,650,000 | $1,027 psf | Listing agent: Erika Cedeno with London Foster Realty | Buyer's agent: Raul Rodriguez with Florida Capital Realty | Days on market: 282\n",
      "\u001b[1mFewest Days on Market\u001b[0m\n",
      "Marquis, 1100 Biscayne Blvd 5601 | Price $1,725,000 | $819 psf | Listing agent: Priscila Araujo Romero with Ozara Realty Group Corp | Buyer's agent: Evan Schechtman with Blackbook Properties | Days on market: 13\n"
     ]
    }
   ],
   "source": [
    "### Highest and lowest sale price ###\n",
    "print(f\"{ME}{BR}{df.loc[df['int_Sale_Price'].idxmax()]['building_name']}, {df.loc[df['int_Sale_Price'].idxmax()]['address']} | Price ${df.loc[df['int_Sale_Price'].idxmax()]['int_Sale_Price']:,.0f} | ${df.loc[df['int_Sale_Price'].idxmax()]['price_per_sqft']:,.0f} psf | Listing agent: {df.loc[df['int_Sale_Price'].idxmax()]['Agent']} with {df.loc[df['int_Sale_Price'].idxmax()]['Listing Broker']} | Buyer's agent: {df.loc[df['int_Sale_Price'].idxmax()]['Buyer Agent']} with {df.loc[df['int_Sale_Price'].idxmax()]['Buyer Broker']} | Days on market: {df.loc[df['int_Sale_Price'].idxmax()]['days_on_market']}\")\n",
    "print(f\"{LE}{BR}{df.loc[df['int_Sale_Price'].idxmin()]['building_name']}, {df.loc[df['int_Sale_Price'].idxmin()]['address']} | Price ${df.loc[df['int_Sale_Price'].idxmin()]['int_Sale_Price']:,.0f} | ${df.loc[df['int_Sale_Price'].idxmin()]['price_per_sqft']:,.0f} psf | Listing agent: {df.loc[df['int_Sale_Price'].idxmin()]['Agent']} with {df.loc[df['int_Sale_Price'].idxmin()]['Listing Broker']} | Buyer's agent: {df.loc[df['int_Sale_Price'].idxmin()]['Buyer Agent']} with {df.loc[df['int_Sale_Price'].idxmin()]['Buyer Broker']} | Days on market: {df.loc[df['int_Sale_Price'].idxmin()]['days_on_market']}\")\n",
    "### Highest and lowest psf ###\n",
    "print(f\"{MAX_PSF}{BR}{df.loc[df['price_per_sqft'].idxmax()]['building_name']}, {df.loc[df['price_per_sqft'].idxmax()]['address']} | Price ${df.loc[df['price_per_sqft'].idxmax()]['int_Sale_Price']:,.0f} | ${df.loc[df['price_per_sqft'].idxmax()]['price_per_sqft']:,.0f} psf | Listing agent: {df.loc[df['price_per_sqft'].idxmax()]['Agent']} with {df.loc[df['price_per_sqft'].idxmax()]['Listing Broker']} | Buyer's agent: {df.loc[df['price_per_sqft'].idxmax()]['Buyer Agent']} with {df.loc[df['price_per_sqft'].idxmax()]['Buyer Broker']} | Days on market: {df.loc[df['price_per_sqft'].idxmax()]['days_on_market']}\")\n",
    "print(f\"{MIN_PSF}{BR}{df.loc[df['price_per_sqft'].idxmin()]['building_name']}, {df.loc[df['price_per_sqft'].idxmin()]['address']} | Price ${df.loc[df['price_per_sqft'].idxmin()]['int_Sale_Price']:,.0f} | ${df.loc[df['price_per_sqft'].idxmin()]['price_per_sqft']:,.0f} psf | Listing agent: {df.loc[df['price_per_sqft'].idxmin()]['Agent']} with {df.loc[df['price_per_sqft'].idxmin()]['Listing Broker']} | Buyer's agent: {df.loc[df['price_per_sqft'].idxmin()]['Buyer Agent']} with {df.loc[df['price_per_sqft'].idxmin()]['Buyer Broker']} | Days on market: {df.loc[df['price_per_sqft'].idxmin()]['days_on_market']}\")\n",
    "### Highest and lowest days on market ###\n",
    "print(f\"{DAYS_MAX}{BR}{df.loc[df['days_on_market'].idxmax()]['building_name']}, {df.loc[df['days_on_market'].idxmax()]['address']} | Price ${df.loc[df['days_on_market'].idxmax()]['int_Sale_Price']:,.0f} | ${df.loc[df['days_on_market'].idxmax()]['price_per_sqft']:,.0f} psf | Listing agent: {df.loc[df['days_on_market'].idxmax()]['Agent']} with {df.loc[df['days_on_market'].idxmax()]['Listing Broker']} | Buyer's agent: {df.loc[df['days_on_market'].idxmax()]['Buyer Agent']} with {df.loc[df['days_on_market'].idxmax()]['Buyer Broker']} | Days on market: {df.loc[df['days_on_market'].idxmax()]['days_on_market']}\")\n",
    "print(f\"{DAYS_MIN}{BR}{df.loc[df['days_on_market'].idxmin()]['building_name']}, {df.loc[df['days_on_market'].idxmin()]['address']} | Price ${df.loc[df['days_on_market'].idxmin()]['int_Sale_Price']:,.0f} | ${df.loc[df['days_on_market'].idxmin()]['price_per_sqft']:,.0f} psf | Listing agent: {df.loc[df['days_on_market'].idxmin()]['Agent']} with {df.loc[df['days_on_market'].idxmin()]['Listing Broker']} | Buyer's agent: {df.loc[df['days_on_market'].idxmin()]['Buyer Agent']} with {df.loc[df['days_on_market'].idxmin()]['Buyer Broker']} | Days on market: {df.loc[df['days_on_market'].idxmin()]['days_on_market']}\")"
   ]
  },
  {
   "cell_type": "code",
   "execution_count": 21,
   "metadata": {},
   "outputs": [
    {
     "data": {
      "text/plain": [
       "106.7"
      ]
     },
     "execution_count": 21,
     "metadata": {},
     "output_type": "execute_result"
    }
   ],
   "source": [
    "df['days_on_market'].mean()"
   ]
  },
  {
   "cell_type": "markdown",
   "metadata": {},
   "source": [
    "## Map URL snagger"
   ]
  },
  {
   "cell_type": "markdown",
   "metadata": {},
   "source": [
    "Map template URL: `https://trd-digital.github.io/trd-news-interactive-maps/{map-folder-name}`"
   ]
  },
  {
   "cell_type": "code",
   "execution_count": 22,
   "metadata": {},
   "outputs": [],
   "source": [
    "base_name = 'https://trd-digital.github.io/trd-news-interactive-maps/'"
   ]
  },
  {
   "cell_type": "code",
   "execution_count": 23,
   "metadata": {},
   "outputs": [
    {
     "name": "stdout",
     "output_type": "stream",
     "text": [
      "https://trd-digital.github.io/trd-news-interactive-maps/condo_sales_week_ending_11202023\n"
     ]
    }
   ],
   "source": [
    "cwd = os.getcwd()\n",
    "\n",
    "cwd = cwd.split('/')\n",
    "\n",
    "final_name = base_name + cwd[-1]\n",
    "print(final_name)"
   ]
  }
 ],
 "metadata": {
  "kernelspec": {
   "display_name": "Python 3 (ipykernel)",
   "language": "python",
   "name": "python3"
  },
  "language_info": {
   "codemirror_mode": {
    "name": "ipython",
    "version": 3
   },
   "file_extension": ".py",
   "mimetype": "text/x-python",
   "name": "python",
   "nbconvert_exporter": "python",
   "pygments_lexer": "ipython3",
   "version": "3.9.12"
  },
  "toc": {
   "base_numbering": 1,
   "nav_menu": {},
   "number_sections": true,
   "sideBar": true,
   "skip_h1_title": false,
   "title_cell": "Table of Contents",
   "title_sidebar": "Contents",
   "toc_cell": false,
   "toc_position": {},
   "toc_section_display": true,
   "toc_window_display": false
  }
 },
 "nbformat": 4,
 "nbformat_minor": 4
}
