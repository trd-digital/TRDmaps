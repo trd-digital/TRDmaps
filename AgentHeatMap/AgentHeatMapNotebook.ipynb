{
 "cells": [
  {
   "cell_type": "markdown",
   "id": "3046863b",
   "metadata": {},
   "source": [
    "## Imports"
   ]
  },
  {
   "cell_type": "code",
   "execution_count": 70,
   "id": "76767860",
   "metadata": {},
   "outputs": [],
   "source": [
    "import pandas as pd\n",
    "import seaborn as sns\n",
    "import matplotlib.pyplot as plt\n",
    "import plotly.express as px\n",
    "import numpy as np\n",
    "import os"
   ]
  },
  {
   "cell_type": "markdown",
   "id": "35adbbdc",
   "metadata": {},
   "source": [
    "## Data read-in"
   ]
  },
  {
   "cell_type": "code",
   "execution_count": 20,
   "id": "1b44411f",
   "metadata": {},
   "outputs": [],
   "source": [
    "df = pd.read_csv('TRD Counties - Edits.csv')"
   ]
  },
  {
   "cell_type": "code",
   "execution_count": 26,
   "id": "bf052f15",
   "metadata": {},
   "outputs": [
    {
     "data": {
      "text/plain": [
       "Index(['Region', 'Market', 'Date', 'Agents', 'Agents chg', 'Price',\n",
       "       'Price chg', 'Price per Sq. Ft.', 'Price per Sq. Ft. chg.',\n",
       "       'Days on Market', 'Days on Market chg.', 'Sold Houses',\n",
       "       'Sold Houses chg.'],\n",
       "      dtype='object')"
      ]
     },
     "execution_count": 26,
     "metadata": {},
     "output_type": "execute_result"
    }
   ],
   "source": [
    "df.columns"
   ]
  },
  {
   "cell_type": "code",
   "execution_count": 29,
   "id": "a2b15dd8",
   "metadata": {},
   "outputs": [],
   "source": [
    "df_plotly = df.drop(columns=['Agents chg','Price','Price chg','Price per Sq. Ft.','Price per Sq. Ft. chg.','Days on Market','Days on Market chg.','Sold Houses','Sold Houses chg.'])"
   ]
  },
  {
   "cell_type": "code",
   "execution_count": 30,
   "id": "30a45e38",
   "metadata": {},
   "outputs": [],
   "source": [
    "# # Pivot the data to create a matrix of Price per Sq. Ft. values for each Region, Market and Date\n",
    "# pivoted_df = df.pivot_table(index=[\"Region\", \"Market\"], columns=\"Date\", values=[\"Agents\",\"Price per Sq. Ft.\"])\n",
    "\n",
    "# # Create the heatmap using seaborn\n",
    "# sns.heatmap(pivoted_df, cmap=\"YlGnBu\")\n",
    "\n",
    "# # Show the plot\n",
    "# plt.show()"
   ]
  },
  {
   "cell_type": "code",
   "execution_count": 48,
   "id": "0e52717c",
   "metadata": {
    "scrolled": true
   },
   "outputs": [
    {
     "data": {
      "text/html": [
       "\n",
       "<div id=\"altair-viz-fe595dedb33048bdb1cdb5e4bb956deb\"></div>\n",
       "<script type=\"text/javascript\">\n",
       "  var VEGA_DEBUG = (typeof VEGA_DEBUG == \"undefined\") ? {} : VEGA_DEBUG;\n",
       "  (function(spec, embedOpt){\n",
       "    let outputDiv = document.currentScript.previousElementSibling;\n",
       "    if (outputDiv.id !== \"altair-viz-fe595dedb33048bdb1cdb5e4bb956deb\") {\n",
       "      outputDiv = document.getElementById(\"altair-viz-fe595dedb33048bdb1cdb5e4bb956deb\");\n",
       "    }\n",
       "    const paths = {\n",
       "      \"vega\": \"https://cdn.jsdelivr.net/npm//vega@5?noext\",\n",
       "      \"vega-lib\": \"https://cdn.jsdelivr.net/npm//vega-lib?noext\",\n",
       "      \"vega-lite\": \"https://cdn.jsdelivr.net/npm//vega-lite@4.17.0?noext\",\n",
       "      \"vega-embed\": \"https://cdn.jsdelivr.net/npm//vega-embed@6?noext\",\n",
       "    };\n",
       "\n",
       "    function maybeLoadScript(lib, version) {\n",
       "      var key = `${lib.replace(\"-\", \"\")}_version`;\n",
       "      return (VEGA_DEBUG[key] == version) ?\n",
       "        Promise.resolve(paths[lib]) :\n",
       "        new Promise(function(resolve, reject) {\n",
       "          var s = document.createElement('script');\n",
       "          document.getElementsByTagName(\"head\")[0].appendChild(s);\n",
       "          s.async = true;\n",
       "          s.onload = () => {\n",
       "            VEGA_DEBUG[key] = version;\n",
       "            return resolve(paths[lib]);\n",
       "          };\n",
       "          s.onerror = () => reject(`Error loading script: ${paths[lib]}`);\n",
       "          s.src = paths[lib];\n",
       "        });\n",
       "    }\n",
       "\n",
       "    function showError(err) {\n",
       "      outputDiv.innerHTML = `<div class=\"error\" style=\"color:red;\">${err}</div>`;\n",
       "      throw err;\n",
       "    }\n",
       "\n",
       "    function displayChart(vegaEmbed) {\n",
       "      vegaEmbed(outputDiv, spec, embedOpt)\n",
       "        .catch(err => showError(`Javascript Error: ${err.message}<br>This usually means there's a typo in your chart specification. See the javascript console for the full traceback.`));\n",
       "    }\n",
       "\n",
       "    if(typeof define === \"function\" && define.amd) {\n",
       "      requirejs.config({paths});\n",
       "      require([\"vega-embed\"], displayChart, err => showError(`Error loading script: ${err.message}`));\n",
       "    } else {\n",
       "      maybeLoadScript(\"vega\", \"5\")\n",
       "        .then(() => maybeLoadScript(\"vega-lite\", \"4.17.0\"))\n",
       "        .then(() => maybeLoadScript(\"vega-embed\", \"6\"))\n",
       "        .catch(showError)\n",
       "        .then(() => displayChart(vegaEmbed));\n",
       "    }\n",
       "  })({\"config\": {\"view\": {\"continuousWidth\": 400, \"continuousHeight\": 300}}, \"data\": {\"name\": \"data-f2b6fe36ad66ebd5dff248319b35d33d\"}, \"mark\": \"rect\", \"encoding\": {\"color\": {\"field\": \"Agents chg\", \"type\": \"quantitative\"}, \"x\": {\"field\": \"Date\", \"type\": \"temporal\"}, \"y\": {\"field\": \"Market\", \"type\": \"nominal\"}}, \"$schema\": \"https://vega.github.io/schema/vega-lite/v4.17.0.json\", \"datasets\": {\"data-f2b6fe36ad66ebd5dff248319b35d33d\": [{\"Region\": \"County\", \"Market\": \"Miami-Dade, FL\", \"Date\": \"Mar-23\", \"Agents\": 3944, \"Agents chg\": 0.305, \"Price\": 834663.07, \"Price chg\": 0.062, \"Price per Sq. Ft.\": 466, \"Price per Sq. Ft. chg.\": 0.015, \"Days on Market\": 64, \"Days on Market chg.\": 0.0, \"Sold Houses\": 2440, \"Sold Houses chg.\": 0.28}, {\"Region\": \"County\", \"Market\": \"Miami-Dade, FL\", \"Date\": \"Feb-23\", \"Agents\": 3022, \"Agents chg\": 0.163, \"Price\": 786283.53, \"Price chg\": -0.069, \"Price per Sq. Ft.\": 459, \"Price per Sq. Ft. chg.\": -0.004, \"Days on Market\": 64, \"Days on Market chg.\": 0.032, \"Sold Houses\": 1757, \"Sold Houses chg.\": 0.168}, {\"Region\": \"County\", \"Market\": \"Miami-Dade, FL\", \"Date\": \"Jan-23\", \"Agents\": 2599, \"Agents chg\": -0.18, \"Price\": 844850.62, \"Price chg\": 0.18, \"Price per Sq. Ft.\": 461, \"Price per Sq. Ft. chg.\": 0.06, \"Days on Market\": 62, \"Days on Market chg.\": 0.148, \"Sold Houses\": 1461, \"Sold Houses chg.\": -0.27}, {\"Region\": \"County\", \"Market\": \"Miami-Dade, FL\", \"Date\": \"Dec-22\", \"Agents\": 3170, \"Agents chg\": 0.01, \"Price\": 716120.23, \"Price chg\": -0.037, \"Price per Sq. Ft.\": 435, \"Price per Sq. Ft. chg.\": -0.018, \"Days on Market\": 54, \"Days on Market chg.\": 0.038, \"Sold Houses\": 1855, \"Sold Houses chg.\": 0.024}, {\"Region\": \"County\", \"Market\": \"Miami-Dade, FL\", \"Date\": \"Nov-22\", \"Agents\": 3139, \"Agents chg\": -0.105, \"Price\": 743325.51, \"Price chg\": -0.052, \"Price per Sq. Ft.\": 443, \"Price per Sq. Ft. chg.\": -0.013, \"Days on Market\": 52, \"Days on Market chg.\": 0.061, \"Sold Houses\": 1810, \"Sold Houses chg.\": -0.177}, {\"Region\": \"County\", \"Market\": \"Miami-Dade, FL\", \"Date\": \"Oct-22\", \"Agents\": 3509, \"Agents chg\": -0.092, \"Price\": 784414.82, \"Price chg\": 0.02, \"Price per Sq. Ft.\": 449, \"Price per Sq. Ft. chg.\": 0.018, \"Days on Market\": 49, \"Days on Market chg.\": 0.065, \"Sold Houses\": 2131, \"Sold Houses chg.\": -0.071}, {\"Region\": \"County\", \"Market\": \"Miami-Dade, FL\", \"Date\": \"Sep-22\", \"Agents\": 3865, \"Agents chg\": -0.07, \"Price\": 768845.58, \"Price chg\": 0.141, \"Price per Sq. Ft.\": 441, \"Price per Sq. Ft. chg.\": 0.06, \"Days on Market\": 46, \"Days on Market chg.\": 0.179, \"Sold Houses\": 2282, \"Sold Houses chg.\": -0.133}, {\"Region\": \"County\", \"Market\": \"Miami-Dade, FL\", \"Date\": \"Aug-22\", \"Agents\": 4154, \"Agents chg\": 0.003, \"Price\": 673547.53, \"Price chg\": -0.12, \"Price per Sq. Ft.\": 416, \"Price per Sq. Ft. chg.\": -0.048, \"Days on Market\": 39, \"Days on Market chg.\": -0.025, \"Sold Houses\": 2585, \"Sold Houses chg.\": 0.012}, {\"Region\": \"County\", \"Market\": \"Miami-Dade, FL\", \"Date\": \"Jul-22\", \"Agents\": 4141, \"Agents chg\": -0.166, \"Price\": 765662.2, \"Price chg\": -0.1, \"Price per Sq. Ft.\": 437, \"Price per Sq. Ft. chg.\": -0.084, \"Days on Market\": 40, \"Days on Market chg.\": -0.07, \"Sold Houses\": 2555, \"Sold Houses chg.\": -0.224}, {\"Region\": \"County\", \"Market\": \"Miami-Dade, FL\", \"Date\": \"Jun-22\", \"Agents\": 4967, \"Agents chg\": -0.045, \"Price\": 851110.85, \"Price chg\": -0.033, \"Price per Sq. Ft.\": 477, \"Price per Sq. Ft. chg.\": -0.021, \"Days on Market\": 43, \"Days on Market chg.\": -0.157, \"Sold Houses\": 3128, \"Sold Houses chg.\": -0.079}, {\"Region\": \"County\", \"Market\": \"Miami-Dade, FL\", \"Date\": \"May-22\", \"Agents\": 5199, \"Agents chg\": -0.074, \"Price\": 880011.22, \"Price chg\": 0.051, \"Price per Sq. Ft.\": 487, \"Price per Sq. Ft. chg.\": 0.032, \"Days on Market\": 51, \"Days on Market chg.\": -0.089, \"Sold Houses\": 3374, \"Sold Houses chg.\": -0.104}, {\"Region\": \"County\", \"Market\": \"Miami-Dade, FL\", \"Date\": \"Apr-22\", \"Agents\": 5616, \"Agents chg\": -0.079, \"Price\": 837640.04, \"Price chg\": 0.021, \"Price per Sq. Ft.\": 472, \"Price per Sq. Ft. chg.\": 0.026, \"Days on Market\": 56, \"Days on Market chg.\": -0.082, \"Sold Houses\": 3724, \"Sold Houses chg.\": -0.109}, {\"Region\": \"County\", \"Market\": \"Miami-Dade, FL\", \"Date\": \"Mar-22\", \"Agents\": 6101, \"Agents chg\": 0.301, \"Price\": 820608.61, \"Price chg\": 0.026, \"Price per Sq. Ft.\": 460, \"Price per Sq. Ft. chg.\": 0.029, \"Days on Market\": 61, \"Days on Market chg.\": -0.129, \"Sold Houses\": 4129, \"Sold Houses chg.\": 0.28}, {\"Region\": \"County\", \"Market\": \"Miami-Dade, FL\", \"Date\": \"Feb-22\", \"Agents\": 4689, \"Agents chg\": 0.053, \"Price\": 799703.75, \"Price chg\": 0.013, \"Price per Sq. Ft.\": 447, \"Price per Sq. Ft. chg.\": 0.052, \"Days on Market\": 70, \"Days on Market chg.\": 0.029, \"Sold Houses\": 2971, \"Sold Houses chg.\": 0.06}, {\"Region\": \"County\", \"Market\": \"Miami-Dade, FL\", \"Date\": \"Jan-22\", \"Agents\": 4452, \"Agents chg\": -0.19, \"Price\": 789449.74, \"Price chg\": -0.069, \"Price per Sq. Ft.\": 425, \"Price per Sq. Ft. chg.\": 0.007, \"Days on Market\": 68, \"Days on Market chg.\": 0.015, \"Sold Houses\": 2792, \"Sold Houses chg.\": -0.309}, {\"Region\": \"County\", \"Market\": \"Broward, FL\", \"Date\": \"Mar-23\", \"Agents\": 4307, \"Agents chg\": 0.349, \"Price\": 518651.62, \"Price chg\": 0.0, \"Price per Sq. Ft.\": 318, \"Price per Sq. Ft. chg.\": 0.026, \"Days on Market\": 52, \"Days on Market chg.\": 0.0, \"Sold Houses\": 2746, \"Sold Houses chg.\": 0.312}, {\"Region\": \"County\", \"Market\": \"Broward, FL\", \"Date\": \"Feb-23\", \"Agents\": 3192, \"Agents chg\": 0.132, \"Price\": 518763.92, \"Price chg\": -0.028, \"Price per Sq. Ft.\": 310, \"Price per Sq. Ft. chg.\": -0.016, \"Days on Market\": 52, \"Days on Market chg.\": 0.061, \"Sold Houses\": 1889, \"Sold Houses chg.\": 0.147}, {\"Region\": \"County\", \"Market\": \"Broward, FL\", \"Date\": \"Jan-23\", \"Agents\": 2821, \"Agents chg\": -0.171, \"Price\": 533474.75, \"Price chg\": 0.081, \"Price per Sq. Ft.\": 315, \"Price per Sq. Ft. chg.\": 0.061, \"Days on Market\": 49, \"Days on Market chg.\": 0.114, \"Sold Houses\": 1612, \"Sold Houses chg.\": -0.271}, {\"Region\": \"County\", \"Market\": \"Broward, FL\", \"Date\": \"Dec-22\", \"Agents\": 3402, \"Agents chg\": 0.049, \"Price\": 493655.0, \"Price chg\": -0.01, \"Price per Sq. Ft.\": 297, \"Price per Sq. Ft. chg.\": -0.017, \"Days on Market\": 44, \"Days on Market chg.\": 0.048, \"Sold Houses\": 2049, \"Sold Houses chg.\": 0.043}, {\"Region\": \"County\", \"Market\": \"Broward, FL\", \"Date\": \"Nov-22\", \"Agents\": 3244, \"Agents chg\": -0.154, \"Price\": 498512.4, \"Price chg\": 0.012, \"Price per Sq. Ft.\": 302, \"Price per Sq. Ft. chg.\": -0.013, \"Days on Market\": 42, \"Days on Market chg.\": 0.077, \"Sold Houses\": 1961, \"Sold Houses chg.\": -0.176}, {\"Region\": \"County\", \"Market\": \"Broward, FL\", \"Date\": \"Oct-22\", \"Agents\": 3835, \"Agents chg\": -0.037, \"Price\": 492447.36, \"Price chg\": -0.061, \"Price per Sq. Ft.\": 306, \"Price per Sq. Ft. chg.\": -0.019, \"Days on Market\": 39, \"Days on Market chg.\": 0.114, \"Sold Houses\": 2307, \"Sold Houses chg.\": -0.07}, {\"Region\": \"County\", \"Market\": \"Broward, FL\", \"Date\": \"Sep-22\", \"Agents\": 3982, \"Agents chg\": -0.121, \"Price\": 524519.17, \"Price chg\": 0.012, \"Price per Sq. Ft.\": 312, \"Price per Sq. Ft. chg.\": 0.013, \"Days on Market\": 35, \"Days on Market chg.\": 0.129, \"Sold Houses\": 2468, \"Sold Houses chg.\": -0.135}, {\"Region\": \"County\", \"Market\": \"Broward, FL\", \"Date\": \"Aug-22\", \"Agents\": 4531, \"Agents chg\": 0.059, \"Price\": 518379.84, \"Price chg\": -0.099, \"Price per Sq. Ft.\": 308, \"Price per Sq. Ft. chg.\": -0.055, \"Days on Market\": 31, \"Days on Market chg.\": 0.107, \"Sold Houses\": 2801, \"Sold Houses chg.\": 0.039}, {\"Region\": \"County\", \"Market\": \"Broward, FL\", \"Date\": \"Jul-22\", \"Agents\": 4279, \"Agents chg\": -0.163, \"Price\": 575356.69, \"Price chg\": 0.016, \"Price per Sq. Ft.\": 326, \"Price per Sq. Ft. chg.\": 0.016, \"Days on Market\": 28, \"Days on Market chg.\": 0.0, \"Sold Houses\": 2691, \"Sold Houses chg.\": -0.251}, {\"Region\": \"County\", \"Market\": \"Broward, FL\", \"Date\": \"Jun-22\", \"Agents\": 5111, \"Agents chg\": 0.004, \"Price\": 566403.3, \"Price chg\": -0.012, \"Price per Sq. Ft.\": 321, \"Price per Sq. Ft. chg.\": 0.009, \"Days on Market\": 28, \"Days on Market chg.\": -0.067, \"Sold Houses\": 3367, \"Sold Houses chg.\": -0.015}, {\"Region\": \"County\", \"Market\": \"Broward, FL\", \"Date\": \"May-22\", \"Agents\": 5093, \"Agents chg\": -0.039, \"Price\": 573117.36, \"Price chg\": 0.085, \"Price per Sq. Ft.\": 318, \"Price per Sq. Ft. chg.\": 0.029, \"Days on Market\": 30, \"Days on Market chg.\": -0.091, \"Sold Houses\": 3419, \"Sold Houses chg.\": -0.077}, {\"Region\": \"County\", \"Market\": \"Broward, FL\", \"Date\": \"Apr-22\", \"Agents\": 5298, \"Agents chg\": -0.035, \"Price\": 528161.75, \"Price chg\": -0.026, \"Price per Sq. Ft.\": 309, \"Price per Sq. Ft. chg.\": 0.016, \"Days on Market\": 33, \"Days on Market chg.\": -0.132, \"Sold Houses\": 3681, \"Sold Houses chg.\": -0.037}, {\"Region\": \"County\", \"Market\": \"Broward, FL\", \"Date\": \"Mar-22\", \"Agents\": 5492, \"Agents chg\": 0.253, \"Price\": 542138.71, \"Price chg\": 0.079, \"Price per Sq. Ft.\": 304, \"Price per Sq. Ft. chg.\": 0.045, \"Days on Market\": 38, \"Days on Market chg.\": -0.136, \"Sold Houses\": 3818, \"Sold Houses chg.\": 0.264}, {\"Region\": \"County\", \"Market\": \"Palm Beach, FL\", \"Date\": \"Mar-23\", \"Agents\": 3933, \"Agents chg\": 0.328, \"Price\": 696002.12, \"Price chg\": -0.002, \"Price per Sq. Ft.\": 348, \"Price per Sq. Ft. chg.\": 0.024, \"Days on Market\": 58, \"Days on Market chg.\": 0.018, \"Sold Houses\": 2726, \"Sold Houses chg.\": 0.322}, {\"Region\": \"County\", \"Market\": \"Palm Beach, FL\", \"Date\": \"Feb-23\", \"Agents\": 2961, \"Agents chg\": 0.172, \"Price\": 697619.9, \"Price chg\": -0.067, \"Price per Sq. Ft.\": 340, \"Price per Sq. Ft. chg.\": -0.031, \"Days on Market\": 57, \"Days on Market chg.\": 0.056, \"Sold Houses\": 1848, \"Sold Houses chg.\": 0.172}, {\"Region\": \"County\", \"Market\": \"Palm Beach, FL\", \"Date\": \"Jan-23\", \"Agents\": 2526, \"Agents chg\": -0.143, \"Price\": 747893.3, \"Price chg\": 0.134, \"Price per Sq. Ft.\": 351, \"Price per Sq. Ft. chg.\": 0.077, \"Days on Market\": 54, \"Days on Market chg.\": 0.102, \"Sold Houses\": 1531, \"Sold Houses chg.\": -0.205}, {\"Region\": \"County\", \"Market\": \"Palm Beach, FL\", \"Date\": \"Dec-22\", \"Agents\": 2949, \"Agents chg\": 0.092, \"Price\": 659644.49, \"Price chg\": 0.002, \"Price per Sq. Ft.\": 326, \"Price per Sq. Ft. chg.\": -0.092, \"Days on Market\": 49, \"Days on Market chg.\": 0.065, \"Sold Houses\": 1845, \"Sold Houses chg.\": 0.097}, {\"Region\": \"County\", \"Market\": \"Palm Beach, FL\", \"Date\": \"Nov-22\", \"Agents\": 2701, \"Agents chg\": -0.138, \"Price\": 658092.23, \"Price chg\": -0.032, \"Price per Sq. Ft.\": 359, \"Price per Sq. Ft. chg.\": 0.095, \"Days on Market\": 46, \"Days on Market chg.\": 0.122, \"Sold Houses\": 1666, \"Sold Houses chg.\": -0.209}, {\"Region\": \"County\", \"Market\": \"Palm Beach, FL\", \"Date\": \"Oct-22\", \"Agents\": 3132, \"Agents chg\": -0.082, \"Price\": 679853.54, \"Price chg\": 0.001, \"Price per Sq. Ft.\": 328, \"Price per Sq. Ft. chg.\": -0.009, \"Days on Market\": 41, \"Days on Market chg.\": 0.171, \"Sold Houses\": 2014, \"Sold Houses chg.\": -0.088}, {\"Region\": \"County\", \"Market\": \"Palm Beach, FL\", \"Date\": \"Sep-22\", \"Agents\": 3411, \"Agents chg\": -0.077, \"Price\": 679325.89, \"Price chg\": 0.003, \"Price per Sq. Ft.\": 331, \"Price per Sq. Ft. chg.\": -0.006, \"Days on Market\": 35, \"Days on Market chg.\": 0.167, \"Sold Houses\": 2191, \"Sold Houses chg.\": -0.111}, {\"Region\": \"County\", \"Market\": \"Palm Beach, FL\", \"Date\": \"Aug-22\", \"Agents\": 3697, \"Agents chg\": 0.038, \"Price\": 677419.06, \"Price chg\": -0.005, \"Price per Sq. Ft.\": 333, \"Price per Sq. Ft. chg.\": -0.018, \"Days on Market\": 30, \"Days on Market chg.\": 0.2, \"Sold Houses\": 2434, \"Sold Houses chg.\": 0.034}, {\"Region\": \"County\", \"Market\": \"Palm Beach, FL\", \"Date\": \"Jul-22\", \"Agents\": 3562, \"Agents chg\": -0.153, \"Price\": 680491.2, \"Price chg\": -0.126, \"Price per Sq. Ft.\": 339, \"Price per Sq. Ft. chg.\": -0.071, \"Days on Market\": 25, \"Days on Market chg.\": 0.042, \"Sold Houses\": 2351, \"Sold Houses chg.\": -0.244}, {\"Region\": \"County\", \"Market\": \"Palm Beach, FL\", \"Date\": \"Jun-22\", \"Agents\": 4204, \"Agents chg\": -0.052, \"Price\": 778714.03, \"Price chg\": 0.02, \"Price per Sq. Ft.\": 365, \"Price per Sq. Ft. chg.\": -0.016, \"Days on Market\": 24, \"Days on Market chg.\": -0.04, \"Sold Houses\": 2924, \"Sold Houses chg.\": -0.069}, {\"Region\": \"County\", \"Market\": \"Palm Beach, FL\", \"Date\": \"May-22\", \"Agents\": 4433, \"Agents chg\": 0.023, \"Price\": 763198.9, \"Price chg\": 0.001, \"Price per Sq. Ft.\": 371, \"Price per Sq. Ft. chg.\": 0.054, \"Days on Market\": 25, \"Days on Market chg.\": -0.074, \"Sold Houses\": 3127, \"Sold Houses chg.\": 0.002}, {\"Region\": \"County\", \"Market\": \"Palm Beach, FL\", \"Date\": \"Apr-22\", \"Agents\": 4332, \"Agents chg\": -0.084, \"Price\": 762801.53, \"Price chg\": 0.06, \"Price per Sq. Ft.\": 352, \"Price per Sq. Ft. chg.\": 0.054, \"Days on Market\": 27, \"Days on Market chg.\": -0.129, \"Sold Houses\": 3122, \"Sold Houses chg.\": -0.105}, {\"Region\": \"County\", \"Market\": \"Palm Beach, FL\", \"Date\": \"Mar-22\", \"Agents\": 4728, \"Agents chg\": 0.221, \"Price\": 719897.48, \"Price chg\": 0.042, \"Price per Sq. Ft.\": 334, \"Price per Sq. Ft. chg.\": 0.047, \"Days on Market\": 31, \"Days on Market chg.\": -0.114, \"Sold Houses\": 3449, \"Sold Houses chg.\": 0.233}, {\"Region\": \"County\", \"Market\": \"Los Angeles, CA\", \"Date\": \"Mar-23\", \"Agents\": 7079, \"Agents chg\": 0.353, \"Price\": 1375227.26, \"Price chg\": 0.097, \"Price per Sq. Ft.\": 682, \"Price per Sq. Ft. chg.\": -0.35, \"Days on Market\": 40, \"Days on Market chg.\": -0.07, \"Sold Houses\": 4346, \"Sold Houses chg.\": 0.317}, {\"Region\": \"County\", \"Market\": \"Los Angeles, CA\", \"Date\": \"Feb-23\", \"Agents\": 5231, \"Agents chg\": 0.078, \"Price\": 1253197.59, \"Price chg\": 0.018, \"Price per Sq. Ft.\": 1049, \"Price per Sq. Ft. chg.\": 0.22, \"Days on Market\": 43, \"Days on Market chg.\": 0.0, \"Sold Houses\": 2970, \"Sold Houses chg.\": 0.07}, {\"Region\": \"County\", \"Market\": \"Los Angeles, CA\", \"Date\": \"Jan-23\", \"Agents\": 4853, \"Agents chg\": -0.197, \"Price\": 1231558.98, \"Price chg\": 0.012, \"Price per Sq. Ft.\": 860, \"Price per Sq. Ft. chg.\": 0.08, \"Days on Market\": 43, \"Days on Market chg.\": 0.103, \"Sold Houses\": 2761, \"Sold Houses chg.\": -0.287}, {\"Region\": \"County\", \"Market\": \"Los Angeles, CA\", \"Date\": \"Dec-22\", \"Agents\": 6044, \"Agents chg\": 0.0, \"Price\": 1217151.26, \"Price chg\": -0.075, \"Price per Sq. Ft.\": 796, \"Price per Sq. Ft. chg.\": 0.185, \"Days on Market\": 39, \"Days on Market chg.\": 0.114, \"Sold Houses\": 3554, \"Sold Houses chg.\": -0.019}, {\"Region\": \"County\", \"Market\": \"Los Angeles, CA\", \"Date\": \"Nov-22\", \"Agents\": 6047, \"Agents chg\": -0.099, \"Price\": 1315738.87, \"Price chg\": 0.063, \"Price per Sq. Ft.\": 672, \"Price per Sq. Ft. chg.\": 0.065, \"Days on Market\": 35, \"Days on Market chg.\": 0.094, \"Sold Houses\": 3620, \"Sold Houses chg.\": -0.117}, {\"Region\": \"County\", \"Market\": \"Los Angeles, CA\", \"Date\": \"Oct-22\", \"Agents\": 6715, \"Agents chg\": -0.128, \"Price\": 1237273.78, \"Price chg\": 0.008, \"Price per Sq. Ft.\": 631, \"Price per Sq. Ft. chg.\": -0.32, \"Days on Market\": 32, \"Days on Market chg.\": 0.032, \"Sold Houses\": 4042, \"Sold Houses chg.\": -0.179}, {\"Region\": \"County\", \"Market\": \"Los Angeles, CA\", \"Date\": \"Sep-22\", \"Agents\": 7697, \"Agents chg\": -0.044, \"Price\": 1227566.99, \"Price chg\": -0.007, \"Price per Sq. Ft.\": 928, \"Price per Sq. Ft. chg.\": 0.147, \"Days on Market\": 31, \"Days on Market chg.\": 0.192, \"Sold Houses\": 4766, \"Sold Houses chg.\": -0.059}, {\"Region\": \"County\", \"Market\": \"Los Angeles, CA\", \"Date\": \"Aug-22\", \"Agents\": 8054, \"Agents chg\": 0.012, \"Price\": 1235799.79, \"Price chg\": -0.023, \"Price per Sq. Ft.\": 809, \"Price per Sq. Ft. chg.\": 0.124, \"Days on Market\": 26, \"Days on Market chg.\": 0.182, \"Sold Houses\": 5045, \"Sold Houses chg.\": 0.019}, {\"Region\": \"County\", \"Market\": \"Los Angeles, CA\", \"Date\": \"Jul-22\", \"Agents\": 7955, \"Agents chg\": -0.142, \"Price\": 1264269.44, \"Price chg\": -0.059, \"Price per Sq. Ft.\": 720, \"Price per Sq. Ft. chg.\": -0.148, \"Days on Market\": 22, \"Days on Market chg.\": 0.1, \"Sold Houses\": 4950, \"Sold Houses chg.\": -0.22}, {\"Region\": \"County\", \"Market\": \"Los Angeles, CA\", \"Date\": \"Jun-22\", \"Agents\": 9274, \"Agents chg\": 0.021, \"Price\": 1343643.2, \"Price chg\": -0.02, \"Price per Sq. Ft.\": 845, \"Price per Sq. Ft. chg.\": -0.196, \"Days on Market\": 20, \"Days on Market chg.\": 0.053, \"Sold Houses\": 6039, \"Sold Houses chg.\": 0.024}, {\"Region\": \"County\", \"Market\": \"Los Angeles, CA\", \"Date\": \"May-22\", \"Agents\": 9080, \"Agents chg\": -0.039, \"Price\": 1371017.39, \"Price chg\": 0.027, \"Price per Sq. Ft.\": 1051, \"Price per Sq. Ft. chg.\": 0.487, \"Days on Market\": 19, \"Days on Market chg.\": -0.05, \"Sold Houses\": 5896, \"Sold Houses chg.\": -0.064}, {\"Region\": \"County\", \"Market\": \"Los Angeles, CA\", \"Date\": \"Apr-22\", \"Agents\": 9446, \"Agents chg\": -0.016, \"Price\": 1335002.95, \"Price chg\": -0.063, \"Price per Sq. Ft.\": 707, \"Price per Sq. Ft. chg.\": -0.495, \"Days on Market\": 20, \"Days on Market chg.\": -0.167, \"Sold Houses\": 6276, \"Sold Houses chg.\": -0.028}, {\"Region\": \"County\", \"Market\": \"Los Angeles, CA\", \"Date\": \"Mar-22\", \"Agents\": 9602, \"Agents chg\": 0.319, \"Price\": 1424587.62, \"Price chg\": 0.103, \"Price per Sq. Ft.\": 1400, \"Price per Sq. Ft. chg.\": 0.359, \"Days on Market\": 24, \"Days on Market chg.\": -0.143, \"Sold Houses\": 6451, \"Sold Houses chg.\": 0.301}, {\"Region\": \"County\", \"Market\": \"Orange, CA\", \"Date\": \"Mar-23\", \"Agents\": 2946, \"Agents chg\": 0.318, \"Price\": 1288700.06, \"Price chg\": 0.09, \"Price per Sq. Ft.\": 646, \"Price per Sq. Ft. chg.\": 0.075, \"Days on Market\": 37, \"Days on Market chg.\": -0.14, \"Sold Houses\": 1789, \"Sold Houses chg.\": 0.291}, {\"Region\": \"County\", \"Market\": \"Orange, CA\", \"Date\": \"Feb-23\", \"Agents\": 2235, \"Agents chg\": 0.093, \"Price\": 1182103.73, \"Price chg\": -0.116, \"Price per Sq. Ft.\": 601, \"Price per Sq. Ft. chg.\": -0.381, \"Days on Market\": 43, \"Days on Market chg.\": -0.023, \"Sold Houses\": 1268, \"Sold Houses chg.\": 0.106}, {\"Region\": \"County\", \"Market\": \"Orange, CA\", \"Date\": \"Jan-23\", \"Agents\": 2044, \"Agents chg\": -0.17, \"Price\": 1337745.51, \"Price chg\": 0.112, \"Price per Sq. Ft.\": 971, \"Price per Sq. Ft. chg.\": 0.624, \"Days on Market\": 44, \"Days on Market chg.\": 0.222, \"Sold Houses\": 1134, \"Sold Houses chg.\": -0.253}, {\"Region\": \"County\", \"Market\": \"Orange, CA\", \"Date\": \"Dec-22\", \"Agents\": 2463, \"Agents chg\": -0.043, \"Price\": 1202806.4, \"Price chg\": 0.02, \"Price per Sq. Ft.\": 598, \"Price per Sq. Ft. chg.\": -0.012, \"Days on Market\": 36, \"Days on Market chg.\": 0.059, \"Sold Houses\": 1421, \"Sold Houses chg.\": -0.041}, {\"Region\": \"County\", \"Market\": \"Orange, CA\", \"Date\": \"Nov-22\", \"Agents\": 2574, \"Agents chg\": -0.13, \"Price\": 1178840.77, \"Price chg\": -0.052, \"Price per Sq. Ft.\": 605, \"Price per Sq. Ft. chg.\": -0.04, \"Days on Market\": 34, \"Days on Market chg.\": 0.0, \"Sold Houses\": 1479, \"Sold Houses chg.\": -0.206}, {\"Region\": \"County\", \"Market\": \"Orange, CA\", \"Date\": \"Oct-22\", \"Agents\": 2957, \"Agents chg\": -0.117, \"Price\": 1243014.42, \"Price chg\": -0.043, \"Price per Sq. Ft.\": 630, \"Price per Sq. Ft. chg.\": -0.008, \"Days on Market\": 34, \"Days on Market chg.\": 0.172, \"Sold Houses\": 1784, \"Sold Houses chg.\": -0.145}, {\"Region\": \"County\", \"Market\": \"Orange, CA\", \"Date\": \"Sep-22\", \"Agents\": 3348, \"Agents chg\": -0.078, \"Price\": 1298949.13, \"Price chg\": -0.027, \"Price per Sq. Ft.\": 635, \"Price per Sq. Ft. chg.\": -0.041, \"Days on Market\": 29, \"Days on Market chg.\": 0.261, \"Sold Houses\": 2043, \"Sold Houses chg.\": -0.097}, {\"Region\": \"County\", \"Market\": \"Orange, CA\", \"Date\": \"Aug-22\", \"Agents\": 3632, \"Agents chg\": 0.098, \"Price\": 1335254.11, \"Price chg\": 0.024, \"Price per Sq. Ft.\": 662, \"Price per Sq. Ft. chg.\": 0.011, \"Days on Market\": 23, \"Days on Market chg.\": 0.211, \"Sold Houses\": 2242, \"Sold Houses chg.\": 0.094}, {\"Region\": \"County\", \"Market\": \"Orange, CA\", \"Date\": \"Jul-22\", \"Agents\": 3309, \"Agents chg\": -0.144, \"Price\": 1303376.93, \"Price chg\": -0.02, \"Price per Sq. Ft.\": 655, \"Price per Sq. Ft. chg.\": -0.015, \"Days on Market\": 19, \"Days on Market chg.\": 0.188, \"Sold Houses\": 2032, \"Sold Houses chg.\": -0.206}, {\"Region\": \"County\", \"Market\": \"Orange, CA\", \"Date\": \"Jun-22\", \"Agents\": 3866, \"Agents chg\": -0.042, \"Price\": 1329620.0, \"Price chg\": -0.033, \"Price per Sq. Ft.\": 665, \"Price per Sq. Ft. chg.\": -0.553, \"Days on Market\": 16, \"Days on Market chg.\": 0.067, \"Sold Houses\": 2450, \"Sold Houses chg.\": -0.07}, {\"Region\": \"County\", \"Market\": \"Orange, CA\", \"Date\": \"May-22\", \"Agents\": 4036, \"Agents chg\": 0.011, \"Price\": 1374425.11, \"Price chg\": -0.024, \"Price per Sq. Ft.\": 1489, \"Price per Sq. Ft. chg.\": 1.177, \"Days on Market\": 15, \"Days on Market chg.\": 0.071, \"Sold Houses\": 2621, \"Sold Houses chg.\": -0.007}, {\"Region\": \"County\", \"Market\": \"Orange, CA\", \"Date\": \"Apr-22\", \"Agents\": 3994, \"Agents chg\": -0.016, \"Price\": 1407987.8, \"Price chg\": 0.002, \"Price per Sq. Ft.\": 684, \"Price per Sq. Ft. chg.\": 0.025, \"Days on Market\": 14, \"Days on Market chg.\": -0.125, \"Sold Houses\": 2640, \"Sold Houses chg.\": -0.032}, {\"Region\": \"County\", \"Market\": \"Orange, CA\", \"Date\": \"Mar-22\", \"Agents\": 4057, \"Agents chg\": 0.413, \"Price\": 1404589.87, \"Price chg\": 0.009, \"Price per Sq. Ft.\": 667, \"Price per Sq. Ft. chg.\": 0.011, \"Days on Market\": 16, \"Days on Market chg.\": -0.111, \"Sold Houses\": 2725, \"Sold Houses chg.\": 0.346}, {\"Region\": \"County\", \"Market\": \"Harris, TX\", \"Date\": \"Mar-23\", \"Agents\": 4772, \"Agents chg\": 0.307, \"Price\": 411028.65, \"Price chg\": 0.094, \"Price per Sq. Ft.\": 174, \"Price per Sq. Ft. chg.\": 0.048, \"Days on Market\": 38, \"Days on Market chg.\": -0.095, \"Sold Houses\": 3292, \"Sold Houses chg.\": 0.276}, {\"Region\": \"County\", \"Market\": \"Harris, TX\", \"Date\": \"Feb-23\", \"Agents\": 3650, \"Agents chg\": 0.194, \"Price\": 375712.97, \"Price chg\": 0.031, \"Price per Sq. Ft.\": 166, \"Price per Sq. Ft. chg.\": 0.025, \"Days on Market\": 42, \"Days on Market chg.\": 0.0, \"Sold Houses\": 2384, \"Sold Houses chg.\": 0.184}, {\"Region\": \"County\", \"Market\": \"Harris, TX\", \"Date\": \"Jan-23\", \"Agents\": 3058, \"Agents chg\": -0.21, \"Price\": 364319.81, \"Price chg\": -0.094, \"Price per Sq. Ft.\": 162, \"Price per Sq. Ft. chg.\": -0.041, \"Days on Market\": 42, \"Days on Market chg.\": 0.167, \"Sold Houses\": 1945, \"Sold Houses chg.\": -0.29}, {\"Region\": \"County\", \"Market\": \"Harris, TX\", \"Date\": \"Dec-22\", \"Agents\": 3871, \"Agents chg\": -0.004, \"Price\": 402161.13, \"Price chg\": 0.028, \"Price per Sq. Ft.\": 169, \"Price per Sq. Ft. chg.\": 0.0, \"Days on Market\": 36, \"Days on Market chg.\": 0.2, \"Sold Houses\": 2510, \"Sold Houses chg.\": 0.0}, {\"Region\": \"County\", \"Market\": \"Harris, TX\", \"Date\": \"Nov-22\", \"Agents\": 3887, \"Agents chg\": -0.145, \"Price\": 391248.72, \"Price chg\": -0.012, \"Price per Sq. Ft.\": 169, \"Price per Sq. Ft. chg.\": 0.0, \"Days on Market\": 30, \"Days on Market chg.\": 0.071, \"Sold Houses\": 2509, \"Sold Houses chg.\": -0.203}, {\"Region\": \"County\", \"Market\": \"Harris, TX\", \"Date\": \"Oct-22\", \"Agents\": 4546, \"Agents chg\": -0.123, \"Price\": 396043.86, \"Price chg\": -0.006, \"Price per Sq. Ft.\": 169, \"Price per Sq. Ft. chg.\": -0.012, \"Days on Market\": 28, \"Days on Market chg.\": 0.167, \"Sold Houses\": 3018, \"Sold Houses chg.\": -0.173}, {\"Region\": \"County\", \"Market\": \"Harris, TX\", \"Date\": \"Sep-22\", \"Agents\": 5185, \"Agents chg\": -0.088, \"Price\": 398325.14, \"Price chg\": 0.009, \"Price per Sq. Ft.\": 171, \"Price per Sq. Ft. chg.\": 0.0, \"Days on Market\": 24, \"Days on Market chg.\": 0.2, \"Sold Houses\": 3540, \"Sold Houses chg.\": -0.12}, {\"Region\": \"County\", \"Market\": \"Harris, TX\", \"Date\": \"Aug-22\", \"Agents\": 5688, \"Agents chg\": 0.009, \"Price\": 394708.28, \"Price chg\": -0.05, \"Price per Sq. Ft.\": 171, \"Price per Sq. Ft. chg.\": -0.023, \"Days on Market\": 20, \"Days on Market chg.\": 0.176, \"Sold Houses\": 3964, \"Sold Houses chg.\": 0.022}, {\"Region\": \"County\", \"Market\": \"Harris, TX\", \"Date\": \"Jul-22\", \"Agents\": 5635, \"Agents chg\": -0.088, \"Price\": 415475.69, \"Price chg\": -0.029, \"Price per Sq. Ft.\": 175, \"Price per Sq. Ft. chg.\": -0.028, \"Days on Market\": 17, \"Days on Market chg.\": -0.056, \"Sold Houses\": 3878, \"Sold Houses chg.\": -0.14}, {\"Region\": \"County\", \"Market\": \"Harris, TX\", \"Date\": \"Jun-22\", \"Agents\": 6177, \"Agents chg\": -0.001, \"Price\": 427939.32, \"Price chg\": -0.025, \"Price per Sq. Ft.\": 180, \"Price per Sq. Ft. chg.\": -0.022, \"Days on Market\": 18, \"Days on Market chg.\": -0.053, \"Sold Houses\": 4420, \"Sold Houses chg.\": -0.05}, {\"Region\": \"County\", \"Market\": \"Harris, TX\", \"Date\": \"May-22\", \"Agents\": 6182, \"Agents chg\": 0.045, \"Price\": 438937.36, \"Price chg\": 0.033, \"Price per Sq. Ft.\": 184, \"Price per Sq. Ft. chg.\": 0.034, \"Days on Market\": 19, \"Days on Market chg.\": -0.095, \"Sold Houses\": 4642, \"Sold Houses chg.\": 0.054}, {\"Region\": \"County\", \"Market\": \"Harris, TX\", \"Date\": \"Apr-22\", \"Agents\": 5913, \"Agents chg\": -0.034, \"Price\": 425068.83, \"Price chg\": 0.065, \"Price per Sq. Ft.\": 178, \"Price per Sq. Ft. chg.\": 0.035, \"Days on Market\": 21, \"Days on Market chg.\": -0.192, \"Sold Houses\": 4391, \"Sold Houses chg.\": -0.031}, {\"Region\": \"County\", \"Market\": \"Harris, TX\", \"Date\": \"Mar-22\", \"Agents\": 6120, \"Agents chg\": 0.264, \"Price\": 398973.9, \"Price chg\": 0.024, \"Price per Sq. Ft.\": 172, \"Price per Sq. Ft. chg.\": 0.018, \"Days on Market\": 26, \"Days on Market chg.\": -0.133, \"Sold Houses\": 4525, \"Sold Houses chg.\": 0.259}, {\"Region\": \"County\", \"Market\": \"Dallas, TX\", \"Date\": \"Mar-23\", \"Agents\": 2529, \"Agents chg\": 0.188, \"Price\": 465199.11, \"Price chg\": -0.098, \"Price per Sq. Ft.\": 227, \"Price per Sq. Ft. chg.\": -0.03, \"Days on Market\": 35, \"Days on Market chg.\": -0.167, \"Sold Houses\": 1540, \"Sold Houses chg.\": 0.212}, {\"Region\": \"County\", \"Market\": \"Dallas, TX\", \"Date\": \"Feb-23\", \"Agents\": 2128, \"Agents chg\": 0.275, \"Price\": 515904.75, \"Price chg\": 0.214, \"Price per Sq. Ft.\": 234, \"Price per Sq. Ft. chg.\": 0.099, \"Days on Market\": 42, \"Days on Market chg.\": 0.05, \"Sold Houses\": 1213, \"Sold Houses chg.\": 0.229}, {\"Region\": \"County\", \"Market\": \"Dallas, TX\", \"Date\": \"Jan-23\", \"Agents\": 1669, \"Agents chg\": -0.241, \"Price\": 424976.92, \"Price chg\": -0.062, \"Price per Sq. Ft.\": 213, \"Price per Sq. Ft. chg.\": -0.027, \"Days on Market\": 40, \"Days on Market chg.\": 0.212, \"Sold Houses\": 935, \"Sold Houses chg.\": -0.353}, {\"Region\": \"County\", \"Market\": \"Dallas, TX\", \"Date\": \"Dec-22\", \"Agents\": 2200, \"Agents chg\": 0.007, \"Price\": 453103.59, \"Price chg\": -0.107, \"Price per Sq. Ft.\": 219, \"Price per Sq. Ft. chg.\": -0.035, \"Days on Market\": 33, \"Days on Market chg.\": 0.1, \"Sold Houses\": 1265, \"Sold Houses chg.\": -0.013}, {\"Region\": \"County\", \"Market\": \"Dallas, TX\", \"Date\": \"Nov-22\", \"Agents\": 2184, \"Agents chg\": -0.096, \"Price\": 507666.98, \"Price chg\": 0.014, \"Price per Sq. Ft.\": 227, \"Price per Sq. Ft. chg.\": -0.026, \"Days on Market\": 30, \"Days on Market chg.\": 0.154, \"Sold Houses\": 1282, \"Sold Houses chg.\": -0.129}, {\"Region\": \"County\", \"Market\": \"Dallas, TX\", \"Date\": \"Oct-22\", \"Agents\": 2416, \"Agents chg\": -0.134, \"Price\": 500595.03, \"Price chg\": 0.03, \"Price per Sq. Ft.\": 233, \"Price per Sq. Ft. chg.\": 0.017, \"Days on Market\": 26, \"Days on Market chg.\": 0.04, \"Sold Houses\": 1448, \"Sold Houses chg.\": -0.168}, {\"Region\": \"County\", \"Market\": \"Dallas, TX\", \"Date\": \"Sep-22\", \"Agents\": 2791, \"Agents chg\": -0.052, \"Price\": 485905.58, \"Price chg\": 0.005, \"Price per Sq. Ft.\": 229, \"Price per Sq. Ft. chg.\": -0.017, \"Days on Market\": 25, \"Days on Market chg.\": 0.389, \"Sold Houses\": 1691, \"Sold Houses chg.\": -0.07}, {\"Region\": \"County\", \"Market\": \"Dallas, TX\", \"Date\": \"Aug-22\", \"Agents\": 2944, \"Agents chg\": 0.039, \"Price\": 483486.45, \"Price chg\": -0.047, \"Price per Sq. Ft.\": 233, \"Price per Sq. Ft. chg.\": -0.009, \"Days on Market\": 18, \"Days on Market chg.\": 0.2, \"Sold Houses\": 1810, \"Sold Houses chg.\": 0.047}, {\"Region\": \"County\", \"Market\": \"Dallas, TX\", \"Date\": \"Jul-22\", \"Agents\": 2833, \"Agents chg\": -0.034, \"Price\": 507595.67, \"Price chg\": -0.114, \"Price per Sq. Ft.\": 235, \"Price per Sq. Ft. chg.\": -0.064, \"Days on Market\": 15, \"Days on Market chg.\": 0.154, \"Sold Houses\": 1725, \"Sold Houses chg.\": -0.067}, {\"Region\": \"County\", \"Market\": \"Dallas, TX\", \"Date\": \"Jun-22\", \"Agents\": 2933, \"Agents chg\": -0.119, \"Price\": 572908.94, \"Price chg\": 0.004, \"Price per Sq. Ft.\": 251, \"Price per Sq. Ft. chg.\": -0.016, \"Days on Market\": 13, \"Days on Market chg.\": -0.071, \"Sold Houses\": 1840, \"Sold Houses chg.\": -0.171}, {\"Region\": \"County\", \"Market\": \"Dallas, TX\", \"Date\": \"May-22\", \"Agents\": 3329, \"Agents chg\": 0.068, \"Price\": 570343.7, \"Price chg\": 0.05, \"Price per Sq. Ft.\": 255, \"Price per Sq. Ft. chg.\": 0.041, \"Days on Market\": 14, \"Days on Market chg.\": 0.077, \"Sold Houses\": 2154, \"Sold Houses chg.\": 0.091}, {\"Region\": \"County\", \"Market\": \"Dallas, TX\", \"Date\": \"Apr-22\", \"Agents\": 3116, \"Agents chg\": 0.015, \"Price\": 543063.34, \"Price chg\": 0.116, \"Price per Sq. Ft.\": 245, \"Price per Sq. Ft. chg.\": 0.061, \"Days on Market\": 13, \"Days on Market chg.\": -0.278, \"Sold Houses\": 1957, \"Sold Houses chg.\": 0.004}, {\"Region\": \"County\", \"Market\": \"Dallas, TX\", \"Date\": \"Mar-22\", \"Agents\": 3070, \"Agents chg\": 0.221, \"Price\": 486716.23, \"Price chg\": 0.033, \"Price per Sq. Ft.\": 231, \"Price per Sq. Ft. chg.\": 0.027, \"Days on Market\": 18, \"Days on Market chg.\": -0.217, \"Sold Houses\": 1950, \"Sold Houses chg.\": 0.23}, {\"Region\": \"County\", \"Market\": \"Travis, TX\", \"Date\": \"Mar-23\", \"Agents\": 1461, \"Agents chg\": 0.252, \"Price\": 741551.36, \"Price chg\": 0.121, \"Price per Sq. Ft.\": 381, \"Price per Sq. Ft. chg.\": 0.121, \"Days on Market\": 52, \"Days on Market chg.\": -0.175, \"Sold Houses\": 880, \"Sold Houses chg.\": 0.244}, {\"Region\": \"County\", \"Market\": \"Travis, TX\", \"Date\": \"Feb-23\", \"Agents\": 1167, \"Agents chg\": 0.171, \"Price\": 661598.93, \"Price chg\": 0.006, \"Price per Sq. Ft.\": 340, \"Price per Sq. Ft. chg.\": 0.033, \"Days on Market\": 63, \"Days on Market chg.\": 0.05, \"Sold Houses\": 665, \"Sold Houses chg.\": 0.147}, {\"Region\": \"County\", \"Market\": \"Travis, TX\", \"Date\": \"Jan-23\", \"Agents\": 997, \"Agents chg\": -0.182, \"Price\": 657919.74, \"Price chg\": -0.024, \"Price per Sq. Ft.\": 329, \"Price per Sq. Ft. chg.\": -0.024, \"Days on Market\": 60, \"Days on Market chg.\": 0.2, \"Sold Houses\": 567, \"Sold Houses chg.\": -0.254}, {\"Region\": \"County\", \"Market\": \"Travis, TX\", \"Date\": \"Dec-22\", \"Agents\": 1219, \"Agents chg\": 0.048, \"Price\": 673812.28, \"Price chg\": -0.061, \"Price per Sq. Ft.\": 337, \"Price per Sq. Ft. chg.\": -0.026, \"Days on Market\": 50, \"Days on Market chg.\": 0.163, \"Sold Houses\": 711, \"Sold Houses chg.\": 0.065}, {\"Region\": \"County\", \"Market\": \"Travis, TX\", \"Date\": \"Nov-22\", \"Agents\": 1163, \"Agents chg\": -0.154, \"Price\": 717398.03, \"Price chg\": -0.02, \"Price per Sq. Ft.\": 346, \"Price per Sq. Ft. chg.\": -0.028, \"Days on Market\": 43, \"Days on Market chg.\": 0.194, \"Sold Houses\": 665, \"Sold Houses chg.\": -0.226}, {\"Region\": \"County\", \"Market\": \"Travis, TX\", \"Date\": \"Oct-22\", \"Agents\": 1375, \"Agents chg\": -0.165, \"Price\": 732183.19, \"Price chg\": 0.02, \"Price per Sq. Ft.\": 356, \"Price per Sq. Ft. chg.\": 0.0, \"Days on Market\": 36, \"Days on Market chg.\": 0.125, \"Sold Houses\": 815, \"Sold Houses chg.\": -0.217}, {\"Region\": \"County\", \"Market\": \"Travis, TX\", \"Date\": \"Sep-22\", \"Agents\": 1647, \"Agents chg\": -0.057, \"Price\": 717918.81, \"Price chg\": -0.054, \"Price per Sq. Ft.\": 356, \"Price per Sq. Ft. chg.\": -0.051, \"Days on Market\": 32, \"Days on Market chg.\": 0.333, \"Sold Houses\": 992, \"Sold Houses chg.\": -0.117}, {\"Region\": \"County\", \"Market\": \"Travis, TX\", \"Date\": \"Aug-22\", \"Agents\": 1746, \"Agents chg\": -0.032, \"Price\": 759137.58, \"Price chg\": -0.045, \"Price per Sq. Ft.\": 375, \"Price per Sq. Ft. chg.\": -0.031, \"Days on Market\": 24, \"Days on Market chg.\": 0.5, \"Sold Houses\": 1108, \"Sold Houses chg.\": -0.025}, {\"Region\": \"County\", \"Market\": \"Travis, TX\", \"Date\": \"Jul-22\", \"Agents\": 1803, \"Agents chg\": -0.157, \"Price\": 795135.05, \"Price chg\": -0.031, \"Price per Sq. Ft.\": 387, \"Price per Sq. Ft. chg.\": -0.063, \"Days on Market\": 16, \"Days on Market chg.\": 0.333, \"Sold Houses\": 1136, \"Sold Houses chg.\": -0.243}, {\"Region\": \"County\", \"Market\": \"Travis, TX\", \"Date\": \"Jun-22\", \"Agents\": 2138, \"Agents chg\": -0.062, \"Price\": 820980.57, \"Price chg\": -0.012, \"Price per Sq. Ft.\": 413, \"Price per Sq. Ft. chg.\": -0.012, \"Days on Market\": 12, \"Days on Market chg.\": 0.091, \"Sold Houses\": 1412, \"Sold Houses chg.\": -0.095}, {\"Region\": \"County\", \"Market\": \"Travis, TX\", \"Date\": \"May-22\", \"Agents\": 2279, \"Agents chg\": 0.118, \"Price\": 831116.6, \"Price chg\": 0.019, \"Price per Sq. Ft.\": 418, \"Price per Sq. Ft. chg.\": -0.009, \"Days on Market\": 11, \"Days on Market chg.\": 0.0, \"Sold Houses\": 1546, \"Sold Houses chg.\": 0.098}, {\"Region\": \"County\", \"Market\": \"Travis, TX\", \"Date\": \"Apr-22\", \"Agents\": 2039, \"Agents chg\": 0.03, \"Price\": 815871.9, \"Price chg\": 0.034, \"Price per Sq. Ft.\": 422, \"Price per Sq. Ft. chg.\": 0.047, \"Days on Market\": 11, \"Days on Market chg.\": -0.214, \"Sold Houses\": 1394, \"Sold Houses chg.\": 0.086}, {\"Region\": \"County\", \"Market\": \"Travis, TX\", \"Date\": \"Mar-22\", \"Agents\": 1979, \"Agents chg\": 0.259, \"Price\": 789368.88, \"Price chg\": 0.093, \"Price per Sq. Ft.\": 403, \"Price per Sq. Ft. chg.\": 0.033, \"Days on Market\": 14, \"Days on Market chg.\": -0.3, \"Sold Houses\": 1274, \"Sold Houses chg.\": 0.249}, {\"Region\": \"County\", \"Market\": \"Cook, IL\", \"Date\": \"Mar-23\", \"Agents\": 6117, \"Agents chg\": 0.373, \"Price\": 382517.99, \"Price chg\": 0.068, \"Price per Sq. Ft.\": 275, \"Price per Sq. Ft. chg.\": -0.191, \"Days on Market\": 40, \"Days on Market chg.\": -0.13, \"Sold Houses\": 4709, \"Sold Houses chg.\": 0.376}, {\"Region\": \"County\", \"Market\": \"Cook, IL\", \"Date\": \"Feb-23\", \"Agents\": 4455, \"Agents chg\": 0.081, \"Price\": 358204.39, \"Price chg\": -0.021, \"Price per Sq. Ft.\": 340, \"Price per Sq. Ft. chg.\": 0.069, \"Days on Market\": 46, \"Days on Market chg.\": 0.045, \"Sold Houses\": 2939, \"Sold Houses chg.\": 0.084}, {\"Region\": \"County\", \"Market\": \"Cook, IL\", \"Date\": \"Jan-23\", \"Agents\": 4121, \"Agents chg\": -0.228, \"Price\": 366028.73, \"Price chg\": 0.03, \"Price per Sq. Ft.\": 318, \"Price per Sq. Ft. chg.\": 0.59, \"Days on Market\": 44, \"Days on Market chg.\": 0.257, \"Sold Houses\": 2692, \"Sold Houses chg.\": -0.416}, {\"Region\": \"County\", \"Market\": \"Cook, IL\", \"Date\": \"Dec-22\", \"Agents\": 5337, \"Agents chg\": -0.036, \"Price\": 355455.13, \"Price chg\": -0.027, \"Price per Sq. Ft.\": 200, \"Price per Sq. Ft. chg.\": -0.024, \"Days on Market\": 35, \"Days on Market chg.\": 0.094, \"Sold Houses\": 3813, \"Sold Houses chg.\": -0.026}, {\"Region\": \"County\", \"Market\": \"Cook, IL\", \"Date\": \"Nov-22\", \"Agents\": 5535, \"Agents chg\": -0.085, \"Price\": 365345.34, \"Price chg\": -0.035, \"Price per Sq. Ft.\": 205, \"Price per Sq. Ft. chg.\": -0.347, \"Days on Market\": 32, \"Days on Market chg.\": 0.032, \"Sold Houses\": 3911, \"Sold Houses chg.\": -0.112}, {\"Region\": \"County\", \"Market\": \"Cook, IL\", \"Date\": \"Oct-22\", \"Agents\": 6046, \"Agents chg\": -0.129, \"Price\": 378570.27, \"Price chg\": -0.028, \"Price per Sq. Ft.\": 314, \"Price per Sq. Ft. chg.\": 0.454, \"Days on Market\": 31, \"Days on Market chg.\": 0.0, \"Sold Houses\": 4350, \"Sold Houses chg.\": -0.208}, {\"Region\": \"County\", \"Market\": \"Cook, IL\", \"Date\": \"Sep-22\", \"Agents\": 6941, \"Agents chg\": -0.075, \"Price\": 389638.25, \"Price chg\": -0.036, \"Price per Sq. Ft.\": 216, \"Price per Sq. Ft. chg.\": -0.023, \"Days on Market\": 31, \"Days on Market chg.\": 0.292, \"Sold Houses\": 5255, \"Sold Houses chg.\": -0.13}, {\"Region\": \"County\", \"Market\": \"Cook, IL\", \"Date\": \"Aug-22\", \"Agents\": 7507, \"Agents chg\": -0.002, \"Price\": 403990.7, \"Price chg\": -0.018, \"Price per Sq. Ft.\": 221, \"Price per Sq. Ft. chg.\": -0.039, \"Days on Market\": 24, \"Days on Market chg.\": 0.143, \"Sold Houses\": 5936, \"Sold Houses chg.\": -0.016}, {\"Region\": \"County\", \"Market\": \"Cook, IL\", \"Date\": \"Jul-22\", \"Agents\": 7521, \"Agents chg\": -0.128, \"Price\": 411232.37, \"Price chg\": -0.063, \"Price per Sq. Ft.\": 230, \"Price per Sq. Ft. chg.\": -0.307, \"Days on Market\": 21, \"Days on Market chg.\": -0.087, \"Sold Houses\": 6030, \"Sold Houses chg.\": -0.242}, {\"Region\": \"County\", \"Market\": \"Cook, IL\", \"Date\": \"Jun-22\", \"Agents\": 8622, \"Agents chg\": 0.037, \"Price\": 438840.34, \"Price chg\": 0.049, \"Price per Sq. Ft.\": 332, \"Price per Sq. Ft. chg.\": 0.153, \"Days on Market\": 23, \"Days on Market chg.\": -0.08, \"Sold Houses\": 7488, \"Sold Houses chg.\": 0.044}, {\"Region\": \"County\", \"Market\": \"Cook, IL\", \"Date\": \"May-22\", \"Agents\": 8317, \"Agents chg\": 0.05, \"Price\": 418511.59, \"Price chg\": -0.019, \"Price per Sq. Ft.\": 288, \"Price per Sq. Ft. chg.\": 0.185, \"Days on Market\": 25, \"Days on Market chg.\": -0.138, \"Sold Houses\": 7161, \"Sold Houses chg.\": 0.049}, {\"Region\": \"County\", \"Market\": \"Cook, IL\", \"Date\": \"Apr-22\", \"Agents\": 7922, \"Agents chg\": 0.049, \"Price\": 426592.05, \"Price chg\": 0.062, \"Price per Sq. Ft.\": 243, \"Price per Sq. Ft. chg.\": 0.021, \"Days on Market\": 29, \"Days on Market chg.\": -0.194, \"Sold Houses\": 6812, \"Sold Houses chg.\": 0.087}, {\"Region\": \"County\", \"Market\": \"Cook, IL\", \"Date\": \"Mar-22\", \"Agents\": 7549, \"Agents chg\": 0.264, \"Price\": 401621.53, \"Price chg\": 0.074, \"Price per Sq. Ft.\": 238, \"Price per Sq. Ft. chg.\": -0.122, \"Days on Market\": 36, \"Days on Market chg.\": -0.122, \"Sold Houses\": 6222, \"Sold Houses chg.\": 0.291}]}}, {\"mode\": \"vega-lite\"});\n",
       "</script>"
      ],
      "text/plain": [
       "alt.Chart(...)"
      ]
     },
     "execution_count": 48,
     "metadata": {},
     "output_type": "execute_result"
    }
   ],
   "source": [
    "import altair as alt\n",
    "\n",
    "alt.Chart(df).mark_rect().encode(\n",
    "    x='Date:T',\n",
    "    y='Market:N',\n",
    "    color='Agents chg:Q'\n",
    ")"
   ]
  },
  {
   "cell_type": "code",
   "execution_count": 68,
   "id": "3256d6e0",
   "metadata": {},
   "outputs": [
    {
     "data": {
      "text/html": [
       "\n",
       "<div id=\"altair-viz-3114cc7047394705aeee555c99177c83\"></div>\n",
       "<script type=\"text/javascript\">\n",
       "  var VEGA_DEBUG = (typeof VEGA_DEBUG == \"undefined\") ? {} : VEGA_DEBUG;\n",
       "  (function(spec, embedOpt){\n",
       "    let outputDiv = document.currentScript.previousElementSibling;\n",
       "    if (outputDiv.id !== \"altair-viz-3114cc7047394705aeee555c99177c83\") {\n",
       "      outputDiv = document.getElementById(\"altair-viz-3114cc7047394705aeee555c99177c83\");\n",
       "    }\n",
       "    const paths = {\n",
       "      \"vega\": \"https://cdn.jsdelivr.net/npm//vega@5?noext\",\n",
       "      \"vega-lib\": \"https://cdn.jsdelivr.net/npm//vega-lib?noext\",\n",
       "      \"vega-lite\": \"https://cdn.jsdelivr.net/npm//vega-lite@4.17.0?noext\",\n",
       "      \"vega-embed\": \"https://cdn.jsdelivr.net/npm//vega-embed@6?noext\",\n",
       "    };\n",
       "\n",
       "    function maybeLoadScript(lib, version) {\n",
       "      var key = `${lib.replace(\"-\", \"\")}_version`;\n",
       "      return (VEGA_DEBUG[key] == version) ?\n",
       "        Promise.resolve(paths[lib]) :\n",
       "        new Promise(function(resolve, reject) {\n",
       "          var s = document.createElement('script');\n",
       "          document.getElementsByTagName(\"head\")[0].appendChild(s);\n",
       "          s.async = true;\n",
       "          s.onload = () => {\n",
       "            VEGA_DEBUG[key] = version;\n",
       "            return resolve(paths[lib]);\n",
       "          };\n",
       "          s.onerror = () => reject(`Error loading script: ${paths[lib]}`);\n",
       "          s.src = paths[lib];\n",
       "        });\n",
       "    }\n",
       "\n",
       "    function showError(err) {\n",
       "      outputDiv.innerHTML = `<div class=\"error\" style=\"color:red;\">${err}</div>`;\n",
       "      throw err;\n",
       "    }\n",
       "\n",
       "    function displayChart(vegaEmbed) {\n",
       "      vegaEmbed(outputDiv, spec, embedOpt)\n",
       "        .catch(err => showError(`Javascript Error: ${err.message}<br>This usually means there's a typo in your chart specification. See the javascript console for the full traceback.`));\n",
       "    }\n",
       "\n",
       "    if(typeof define === \"function\" && define.amd) {\n",
       "      requirejs.config({paths});\n",
       "      require([\"vega-embed\"], displayChart, err => showError(`Error loading script: ${err.message}`));\n",
       "    } else {\n",
       "      maybeLoadScript(\"vega\", \"5\")\n",
       "        .then(() => maybeLoadScript(\"vega-lite\", \"4.17.0\"))\n",
       "        .then(() => maybeLoadScript(\"vega-embed\", \"6\"))\n",
       "        .catch(showError)\n",
       "        .then(() => displayChart(vegaEmbed));\n",
       "    }\n",
       "  })({\"config\": {\"view\": {\"continuousWidth\": 400, \"continuousHeight\": 300}}, \"data\": {\"name\": \"data-f2b6fe36ad66ebd5dff248319b35d33d\"}, \"mark\": \"rect\", \"encoding\": {\"color\": {\"field\": \"Agents\", \"type\": \"quantitative\"}, \"tooltip\": [{\"field\": \"Agents\", \"type\": \"quantitative\"}], \"x\": {\"field\": \"Date\", \"type\": \"temporal\"}, \"y\": {\"field\": \"Market\", \"type\": \"nominal\"}}, \"$schema\": \"https://vega.github.io/schema/vega-lite/v4.17.0.json\", \"datasets\": {\"data-f2b6fe36ad66ebd5dff248319b35d33d\": [{\"Region\": \"County\", \"Market\": \"Miami-Dade, FL\", \"Date\": \"Mar-23\", \"Agents\": 3944, \"Agents chg\": 0.305, \"Price\": 834663.07, \"Price chg\": 0.062, \"Price per Sq. Ft.\": 466, \"Price per Sq. Ft. chg.\": 0.015, \"Days on Market\": 64, \"Days on Market chg.\": 0.0, \"Sold Houses\": 2440, \"Sold Houses chg.\": 0.28}, {\"Region\": \"County\", \"Market\": \"Miami-Dade, FL\", \"Date\": \"Feb-23\", \"Agents\": 3022, \"Agents chg\": 0.163, \"Price\": 786283.53, \"Price chg\": -0.069, \"Price per Sq. Ft.\": 459, \"Price per Sq. Ft. chg.\": -0.004, \"Days on Market\": 64, \"Days on Market chg.\": 0.032, \"Sold Houses\": 1757, \"Sold Houses chg.\": 0.168}, {\"Region\": \"County\", \"Market\": \"Miami-Dade, FL\", \"Date\": \"Jan-23\", \"Agents\": 2599, \"Agents chg\": -0.18, \"Price\": 844850.62, \"Price chg\": 0.18, \"Price per Sq. Ft.\": 461, \"Price per Sq. Ft. chg.\": 0.06, \"Days on Market\": 62, \"Days on Market chg.\": 0.148, \"Sold Houses\": 1461, \"Sold Houses chg.\": -0.27}, {\"Region\": \"County\", \"Market\": \"Miami-Dade, FL\", \"Date\": \"Dec-22\", \"Agents\": 3170, \"Agents chg\": 0.01, \"Price\": 716120.23, \"Price chg\": -0.037, \"Price per Sq. Ft.\": 435, \"Price per Sq. Ft. chg.\": -0.018, \"Days on Market\": 54, \"Days on Market chg.\": 0.038, \"Sold Houses\": 1855, \"Sold Houses chg.\": 0.024}, {\"Region\": \"County\", \"Market\": \"Miami-Dade, FL\", \"Date\": \"Nov-22\", \"Agents\": 3139, \"Agents chg\": -0.105, \"Price\": 743325.51, \"Price chg\": -0.052, \"Price per Sq. Ft.\": 443, \"Price per Sq. Ft. chg.\": -0.013, \"Days on Market\": 52, \"Days on Market chg.\": 0.061, \"Sold Houses\": 1810, \"Sold Houses chg.\": -0.177}, {\"Region\": \"County\", \"Market\": \"Miami-Dade, FL\", \"Date\": \"Oct-22\", \"Agents\": 3509, \"Agents chg\": -0.092, \"Price\": 784414.82, \"Price chg\": 0.02, \"Price per Sq. Ft.\": 449, \"Price per Sq. Ft. chg.\": 0.018, \"Days on Market\": 49, \"Days on Market chg.\": 0.065, \"Sold Houses\": 2131, \"Sold Houses chg.\": -0.071}, {\"Region\": \"County\", \"Market\": \"Miami-Dade, FL\", \"Date\": \"Sep-22\", \"Agents\": 3865, \"Agents chg\": -0.07, \"Price\": 768845.58, \"Price chg\": 0.141, \"Price per Sq. Ft.\": 441, \"Price per Sq. Ft. chg.\": 0.06, \"Days on Market\": 46, \"Days on Market chg.\": 0.179, \"Sold Houses\": 2282, \"Sold Houses chg.\": -0.133}, {\"Region\": \"County\", \"Market\": \"Miami-Dade, FL\", \"Date\": \"Aug-22\", \"Agents\": 4154, \"Agents chg\": 0.003, \"Price\": 673547.53, \"Price chg\": -0.12, \"Price per Sq. Ft.\": 416, \"Price per Sq. Ft. chg.\": -0.048, \"Days on Market\": 39, \"Days on Market chg.\": -0.025, \"Sold Houses\": 2585, \"Sold Houses chg.\": 0.012}, {\"Region\": \"County\", \"Market\": \"Miami-Dade, FL\", \"Date\": \"Jul-22\", \"Agents\": 4141, \"Agents chg\": -0.166, \"Price\": 765662.2, \"Price chg\": -0.1, \"Price per Sq. Ft.\": 437, \"Price per Sq. Ft. chg.\": -0.084, \"Days on Market\": 40, \"Days on Market chg.\": -0.07, \"Sold Houses\": 2555, \"Sold Houses chg.\": -0.224}, {\"Region\": \"County\", \"Market\": \"Miami-Dade, FL\", \"Date\": \"Jun-22\", \"Agents\": 4967, \"Agents chg\": -0.045, \"Price\": 851110.85, \"Price chg\": -0.033, \"Price per Sq. Ft.\": 477, \"Price per Sq. Ft. chg.\": -0.021, \"Days on Market\": 43, \"Days on Market chg.\": -0.157, \"Sold Houses\": 3128, \"Sold Houses chg.\": -0.079}, {\"Region\": \"County\", \"Market\": \"Miami-Dade, FL\", \"Date\": \"May-22\", \"Agents\": 5199, \"Agents chg\": -0.074, \"Price\": 880011.22, \"Price chg\": 0.051, \"Price per Sq. Ft.\": 487, \"Price per Sq. Ft. chg.\": 0.032, \"Days on Market\": 51, \"Days on Market chg.\": -0.089, \"Sold Houses\": 3374, \"Sold Houses chg.\": -0.104}, {\"Region\": \"County\", \"Market\": \"Miami-Dade, FL\", \"Date\": \"Apr-22\", \"Agents\": 5616, \"Agents chg\": -0.079, \"Price\": 837640.04, \"Price chg\": 0.021, \"Price per Sq. Ft.\": 472, \"Price per Sq. Ft. chg.\": 0.026, \"Days on Market\": 56, \"Days on Market chg.\": -0.082, \"Sold Houses\": 3724, \"Sold Houses chg.\": -0.109}, {\"Region\": \"County\", \"Market\": \"Miami-Dade, FL\", \"Date\": \"Mar-22\", \"Agents\": 6101, \"Agents chg\": 0.301, \"Price\": 820608.61, \"Price chg\": 0.026, \"Price per Sq. Ft.\": 460, \"Price per Sq. Ft. chg.\": 0.029, \"Days on Market\": 61, \"Days on Market chg.\": -0.129, \"Sold Houses\": 4129, \"Sold Houses chg.\": 0.28}, {\"Region\": \"County\", \"Market\": \"Miami-Dade, FL\", \"Date\": \"Feb-22\", \"Agents\": 4689, \"Agents chg\": 0.053, \"Price\": 799703.75, \"Price chg\": 0.013, \"Price per Sq. Ft.\": 447, \"Price per Sq. Ft. chg.\": 0.052, \"Days on Market\": 70, \"Days on Market chg.\": 0.029, \"Sold Houses\": 2971, \"Sold Houses chg.\": 0.06}, {\"Region\": \"County\", \"Market\": \"Miami-Dade, FL\", \"Date\": \"Jan-22\", \"Agents\": 4452, \"Agents chg\": -0.19, \"Price\": 789449.74, \"Price chg\": -0.069, \"Price per Sq. Ft.\": 425, \"Price per Sq. Ft. chg.\": 0.007, \"Days on Market\": 68, \"Days on Market chg.\": 0.015, \"Sold Houses\": 2792, \"Sold Houses chg.\": -0.309}, {\"Region\": \"County\", \"Market\": \"Broward, FL\", \"Date\": \"Mar-23\", \"Agents\": 4307, \"Agents chg\": 0.349, \"Price\": 518651.62, \"Price chg\": 0.0, \"Price per Sq. Ft.\": 318, \"Price per Sq. Ft. chg.\": 0.026, \"Days on Market\": 52, \"Days on Market chg.\": 0.0, \"Sold Houses\": 2746, \"Sold Houses chg.\": 0.312}, {\"Region\": \"County\", \"Market\": \"Broward, FL\", \"Date\": \"Feb-23\", \"Agents\": 3192, \"Agents chg\": 0.132, \"Price\": 518763.92, \"Price chg\": -0.028, \"Price per Sq. Ft.\": 310, \"Price per Sq. Ft. chg.\": -0.016, \"Days on Market\": 52, \"Days on Market chg.\": 0.061, \"Sold Houses\": 1889, \"Sold Houses chg.\": 0.147}, {\"Region\": \"County\", \"Market\": \"Broward, FL\", \"Date\": \"Jan-23\", \"Agents\": 2821, \"Agents chg\": -0.171, \"Price\": 533474.75, \"Price chg\": 0.081, \"Price per Sq. Ft.\": 315, \"Price per Sq. Ft. chg.\": 0.061, \"Days on Market\": 49, \"Days on Market chg.\": 0.114, \"Sold Houses\": 1612, \"Sold Houses chg.\": -0.271}, {\"Region\": \"County\", \"Market\": \"Broward, FL\", \"Date\": \"Dec-22\", \"Agents\": 3402, \"Agents chg\": 0.049, \"Price\": 493655.0, \"Price chg\": -0.01, \"Price per Sq. Ft.\": 297, \"Price per Sq. Ft. chg.\": -0.017, \"Days on Market\": 44, \"Days on Market chg.\": 0.048, \"Sold Houses\": 2049, \"Sold Houses chg.\": 0.043}, {\"Region\": \"County\", \"Market\": \"Broward, FL\", \"Date\": \"Nov-22\", \"Agents\": 3244, \"Agents chg\": -0.154, \"Price\": 498512.4, \"Price chg\": 0.012, \"Price per Sq. Ft.\": 302, \"Price per Sq. Ft. chg.\": -0.013, \"Days on Market\": 42, \"Days on Market chg.\": 0.077, \"Sold Houses\": 1961, \"Sold Houses chg.\": -0.176}, {\"Region\": \"County\", \"Market\": \"Broward, FL\", \"Date\": \"Oct-22\", \"Agents\": 3835, \"Agents chg\": -0.037, \"Price\": 492447.36, \"Price chg\": -0.061, \"Price per Sq. Ft.\": 306, \"Price per Sq. Ft. chg.\": -0.019, \"Days on Market\": 39, \"Days on Market chg.\": 0.114, \"Sold Houses\": 2307, \"Sold Houses chg.\": -0.07}, {\"Region\": \"County\", \"Market\": \"Broward, FL\", \"Date\": \"Sep-22\", \"Agents\": 3982, \"Agents chg\": -0.121, \"Price\": 524519.17, \"Price chg\": 0.012, \"Price per Sq. Ft.\": 312, \"Price per Sq. Ft. chg.\": 0.013, \"Days on Market\": 35, \"Days on Market chg.\": 0.129, \"Sold Houses\": 2468, \"Sold Houses chg.\": -0.135}, {\"Region\": \"County\", \"Market\": \"Broward, FL\", \"Date\": \"Aug-22\", \"Agents\": 4531, \"Agents chg\": 0.059, \"Price\": 518379.84, \"Price chg\": -0.099, \"Price per Sq. Ft.\": 308, \"Price per Sq. Ft. chg.\": -0.055, \"Days on Market\": 31, \"Days on Market chg.\": 0.107, \"Sold Houses\": 2801, \"Sold Houses chg.\": 0.039}, {\"Region\": \"County\", \"Market\": \"Broward, FL\", \"Date\": \"Jul-22\", \"Agents\": 4279, \"Agents chg\": -0.163, \"Price\": 575356.69, \"Price chg\": 0.016, \"Price per Sq. Ft.\": 326, \"Price per Sq. Ft. chg.\": 0.016, \"Days on Market\": 28, \"Days on Market chg.\": 0.0, \"Sold Houses\": 2691, \"Sold Houses chg.\": -0.251}, {\"Region\": \"County\", \"Market\": \"Broward, FL\", \"Date\": \"Jun-22\", \"Agents\": 5111, \"Agents chg\": 0.004, \"Price\": 566403.3, \"Price chg\": -0.012, \"Price per Sq. Ft.\": 321, \"Price per Sq. Ft. chg.\": 0.009, \"Days on Market\": 28, \"Days on Market chg.\": -0.067, \"Sold Houses\": 3367, \"Sold Houses chg.\": -0.015}, {\"Region\": \"County\", \"Market\": \"Broward, FL\", \"Date\": \"May-22\", \"Agents\": 5093, \"Agents chg\": -0.039, \"Price\": 573117.36, \"Price chg\": 0.085, \"Price per Sq. Ft.\": 318, \"Price per Sq. Ft. chg.\": 0.029, \"Days on Market\": 30, \"Days on Market chg.\": -0.091, \"Sold Houses\": 3419, \"Sold Houses chg.\": -0.077}, {\"Region\": \"County\", \"Market\": \"Broward, FL\", \"Date\": \"Apr-22\", \"Agents\": 5298, \"Agents chg\": -0.035, \"Price\": 528161.75, \"Price chg\": -0.026, \"Price per Sq. Ft.\": 309, \"Price per Sq. Ft. chg.\": 0.016, \"Days on Market\": 33, \"Days on Market chg.\": -0.132, \"Sold Houses\": 3681, \"Sold Houses chg.\": -0.037}, {\"Region\": \"County\", \"Market\": \"Broward, FL\", \"Date\": \"Mar-22\", \"Agents\": 5492, \"Agents chg\": 0.253, \"Price\": 542138.71, \"Price chg\": 0.079, \"Price per Sq. Ft.\": 304, \"Price per Sq. Ft. chg.\": 0.045, \"Days on Market\": 38, \"Days on Market chg.\": -0.136, \"Sold Houses\": 3818, \"Sold Houses chg.\": 0.264}, {\"Region\": \"County\", \"Market\": \"Palm Beach, FL\", \"Date\": \"Mar-23\", \"Agents\": 3933, \"Agents chg\": 0.328, \"Price\": 696002.12, \"Price chg\": -0.002, \"Price per Sq. Ft.\": 348, \"Price per Sq. Ft. chg.\": 0.024, \"Days on Market\": 58, \"Days on Market chg.\": 0.018, \"Sold Houses\": 2726, \"Sold Houses chg.\": 0.322}, {\"Region\": \"County\", \"Market\": \"Palm Beach, FL\", \"Date\": \"Feb-23\", \"Agents\": 2961, \"Agents chg\": 0.172, \"Price\": 697619.9, \"Price chg\": -0.067, \"Price per Sq. Ft.\": 340, \"Price per Sq. Ft. chg.\": -0.031, \"Days on Market\": 57, \"Days on Market chg.\": 0.056, \"Sold Houses\": 1848, \"Sold Houses chg.\": 0.172}, {\"Region\": \"County\", \"Market\": \"Palm Beach, FL\", \"Date\": \"Jan-23\", \"Agents\": 2526, \"Agents chg\": -0.143, \"Price\": 747893.3, \"Price chg\": 0.134, \"Price per Sq. Ft.\": 351, \"Price per Sq. Ft. chg.\": 0.077, \"Days on Market\": 54, \"Days on Market chg.\": 0.102, \"Sold Houses\": 1531, \"Sold Houses chg.\": -0.205}, {\"Region\": \"County\", \"Market\": \"Palm Beach, FL\", \"Date\": \"Dec-22\", \"Agents\": 2949, \"Agents chg\": 0.092, \"Price\": 659644.49, \"Price chg\": 0.002, \"Price per Sq. Ft.\": 326, \"Price per Sq. Ft. chg.\": -0.092, \"Days on Market\": 49, \"Days on Market chg.\": 0.065, \"Sold Houses\": 1845, \"Sold Houses chg.\": 0.097}, {\"Region\": \"County\", \"Market\": \"Palm Beach, FL\", \"Date\": \"Nov-22\", \"Agents\": 2701, \"Agents chg\": -0.138, \"Price\": 658092.23, \"Price chg\": -0.032, \"Price per Sq. Ft.\": 359, \"Price per Sq. Ft. chg.\": 0.095, \"Days on Market\": 46, \"Days on Market chg.\": 0.122, \"Sold Houses\": 1666, \"Sold Houses chg.\": -0.209}, {\"Region\": \"County\", \"Market\": \"Palm Beach, FL\", \"Date\": \"Oct-22\", \"Agents\": 3132, \"Agents chg\": -0.082, \"Price\": 679853.54, \"Price chg\": 0.001, \"Price per Sq. Ft.\": 328, \"Price per Sq. Ft. chg.\": -0.009, \"Days on Market\": 41, \"Days on Market chg.\": 0.171, \"Sold Houses\": 2014, \"Sold Houses chg.\": -0.088}, {\"Region\": \"County\", \"Market\": \"Palm Beach, FL\", \"Date\": \"Sep-22\", \"Agents\": 3411, \"Agents chg\": -0.077, \"Price\": 679325.89, \"Price chg\": 0.003, \"Price per Sq. Ft.\": 331, \"Price per Sq. Ft. chg.\": -0.006, \"Days on Market\": 35, \"Days on Market chg.\": 0.167, \"Sold Houses\": 2191, \"Sold Houses chg.\": -0.111}, {\"Region\": \"County\", \"Market\": \"Palm Beach, FL\", \"Date\": \"Aug-22\", \"Agents\": 3697, \"Agents chg\": 0.038, \"Price\": 677419.06, \"Price chg\": -0.005, \"Price per Sq. Ft.\": 333, \"Price per Sq. Ft. chg.\": -0.018, \"Days on Market\": 30, \"Days on Market chg.\": 0.2, \"Sold Houses\": 2434, \"Sold Houses chg.\": 0.034}, {\"Region\": \"County\", \"Market\": \"Palm Beach, FL\", \"Date\": \"Jul-22\", \"Agents\": 3562, \"Agents chg\": -0.153, \"Price\": 680491.2, \"Price chg\": -0.126, \"Price per Sq. Ft.\": 339, \"Price per Sq. Ft. chg.\": -0.071, \"Days on Market\": 25, \"Days on Market chg.\": 0.042, \"Sold Houses\": 2351, \"Sold Houses chg.\": -0.244}, {\"Region\": \"County\", \"Market\": \"Palm Beach, FL\", \"Date\": \"Jun-22\", \"Agents\": 4204, \"Agents chg\": -0.052, \"Price\": 778714.03, \"Price chg\": 0.02, \"Price per Sq. Ft.\": 365, \"Price per Sq. Ft. chg.\": -0.016, \"Days on Market\": 24, \"Days on Market chg.\": -0.04, \"Sold Houses\": 2924, \"Sold Houses chg.\": -0.069}, {\"Region\": \"County\", \"Market\": \"Palm Beach, FL\", \"Date\": \"May-22\", \"Agents\": 4433, \"Agents chg\": 0.023, \"Price\": 763198.9, \"Price chg\": 0.001, \"Price per Sq. Ft.\": 371, \"Price per Sq. Ft. chg.\": 0.054, \"Days on Market\": 25, \"Days on Market chg.\": -0.074, \"Sold Houses\": 3127, \"Sold Houses chg.\": 0.002}, {\"Region\": \"County\", \"Market\": \"Palm Beach, FL\", \"Date\": \"Apr-22\", \"Agents\": 4332, \"Agents chg\": -0.084, \"Price\": 762801.53, \"Price chg\": 0.06, \"Price per Sq. Ft.\": 352, \"Price per Sq. Ft. chg.\": 0.054, \"Days on Market\": 27, \"Days on Market chg.\": -0.129, \"Sold Houses\": 3122, \"Sold Houses chg.\": -0.105}, {\"Region\": \"County\", \"Market\": \"Palm Beach, FL\", \"Date\": \"Mar-22\", \"Agents\": 4728, \"Agents chg\": 0.221, \"Price\": 719897.48, \"Price chg\": 0.042, \"Price per Sq. Ft.\": 334, \"Price per Sq. Ft. chg.\": 0.047, \"Days on Market\": 31, \"Days on Market chg.\": -0.114, \"Sold Houses\": 3449, \"Sold Houses chg.\": 0.233}, {\"Region\": \"County\", \"Market\": \"Los Angeles, CA\", \"Date\": \"Mar-23\", \"Agents\": 7079, \"Agents chg\": 0.353, \"Price\": 1375227.26, \"Price chg\": 0.097, \"Price per Sq. Ft.\": 682, \"Price per Sq. Ft. chg.\": -0.35, \"Days on Market\": 40, \"Days on Market chg.\": -0.07, \"Sold Houses\": 4346, \"Sold Houses chg.\": 0.317}, {\"Region\": \"County\", \"Market\": \"Los Angeles, CA\", \"Date\": \"Feb-23\", \"Agents\": 5231, \"Agents chg\": 0.078, \"Price\": 1253197.59, \"Price chg\": 0.018, \"Price per Sq. Ft.\": 1049, \"Price per Sq. Ft. chg.\": 0.22, \"Days on Market\": 43, \"Days on Market chg.\": 0.0, \"Sold Houses\": 2970, \"Sold Houses chg.\": 0.07}, {\"Region\": \"County\", \"Market\": \"Los Angeles, CA\", \"Date\": \"Jan-23\", \"Agents\": 4853, \"Agents chg\": -0.197, \"Price\": 1231558.98, \"Price chg\": 0.012, \"Price per Sq. Ft.\": 860, \"Price per Sq. Ft. chg.\": 0.08, \"Days on Market\": 43, \"Days on Market chg.\": 0.103, \"Sold Houses\": 2761, \"Sold Houses chg.\": -0.287}, {\"Region\": \"County\", \"Market\": \"Los Angeles, CA\", \"Date\": \"Dec-22\", \"Agents\": 6044, \"Agents chg\": 0.0, \"Price\": 1217151.26, \"Price chg\": -0.075, \"Price per Sq. Ft.\": 796, \"Price per Sq. Ft. chg.\": 0.185, \"Days on Market\": 39, \"Days on Market chg.\": 0.114, \"Sold Houses\": 3554, \"Sold Houses chg.\": -0.019}, {\"Region\": \"County\", \"Market\": \"Los Angeles, CA\", \"Date\": \"Nov-22\", \"Agents\": 6047, \"Agents chg\": -0.099, \"Price\": 1315738.87, \"Price chg\": 0.063, \"Price per Sq. Ft.\": 672, \"Price per Sq. Ft. chg.\": 0.065, \"Days on Market\": 35, \"Days on Market chg.\": 0.094, \"Sold Houses\": 3620, \"Sold Houses chg.\": -0.117}, {\"Region\": \"County\", \"Market\": \"Los Angeles, CA\", \"Date\": \"Oct-22\", \"Agents\": 6715, \"Agents chg\": -0.128, \"Price\": 1237273.78, \"Price chg\": 0.008, \"Price per Sq. Ft.\": 631, \"Price per Sq. Ft. chg.\": -0.32, \"Days on Market\": 32, \"Days on Market chg.\": 0.032, \"Sold Houses\": 4042, \"Sold Houses chg.\": -0.179}, {\"Region\": \"County\", \"Market\": \"Los Angeles, CA\", \"Date\": \"Sep-22\", \"Agents\": 7697, \"Agents chg\": -0.044, \"Price\": 1227566.99, \"Price chg\": -0.007, \"Price per Sq. Ft.\": 928, \"Price per Sq. Ft. chg.\": 0.147, \"Days on Market\": 31, \"Days on Market chg.\": 0.192, \"Sold Houses\": 4766, \"Sold Houses chg.\": -0.059}, {\"Region\": \"County\", \"Market\": \"Los Angeles, CA\", \"Date\": \"Aug-22\", \"Agents\": 8054, \"Agents chg\": 0.012, \"Price\": 1235799.79, \"Price chg\": -0.023, \"Price per Sq. Ft.\": 809, \"Price per Sq. Ft. chg.\": 0.124, \"Days on Market\": 26, \"Days on Market chg.\": 0.182, \"Sold Houses\": 5045, \"Sold Houses chg.\": 0.019}, {\"Region\": \"County\", \"Market\": \"Los Angeles, CA\", \"Date\": \"Jul-22\", \"Agents\": 7955, \"Agents chg\": -0.142, \"Price\": 1264269.44, \"Price chg\": -0.059, \"Price per Sq. Ft.\": 720, \"Price per Sq. Ft. chg.\": -0.148, \"Days on Market\": 22, \"Days on Market chg.\": 0.1, \"Sold Houses\": 4950, \"Sold Houses chg.\": -0.22}, {\"Region\": \"County\", \"Market\": \"Los Angeles, CA\", \"Date\": \"Jun-22\", \"Agents\": 9274, \"Agents chg\": 0.021, \"Price\": 1343643.2, \"Price chg\": -0.02, \"Price per Sq. Ft.\": 845, \"Price per Sq. Ft. chg.\": -0.196, \"Days on Market\": 20, \"Days on Market chg.\": 0.053, \"Sold Houses\": 6039, \"Sold Houses chg.\": 0.024}, {\"Region\": \"County\", \"Market\": \"Los Angeles, CA\", \"Date\": \"May-22\", \"Agents\": 9080, \"Agents chg\": -0.039, \"Price\": 1371017.39, \"Price chg\": 0.027, \"Price per Sq. Ft.\": 1051, \"Price per Sq. Ft. chg.\": 0.487, \"Days on Market\": 19, \"Days on Market chg.\": -0.05, \"Sold Houses\": 5896, \"Sold Houses chg.\": -0.064}, {\"Region\": \"County\", \"Market\": \"Los Angeles, CA\", \"Date\": \"Apr-22\", \"Agents\": 9446, \"Agents chg\": -0.016, \"Price\": 1335002.95, \"Price chg\": -0.063, \"Price per Sq. Ft.\": 707, \"Price per Sq. Ft. chg.\": -0.495, \"Days on Market\": 20, \"Days on Market chg.\": -0.167, \"Sold Houses\": 6276, \"Sold Houses chg.\": -0.028}, {\"Region\": \"County\", \"Market\": \"Los Angeles, CA\", \"Date\": \"Mar-22\", \"Agents\": 9602, \"Agents chg\": 0.319, \"Price\": 1424587.62, \"Price chg\": 0.103, \"Price per Sq. Ft.\": 1400, \"Price per Sq. Ft. chg.\": 0.359, \"Days on Market\": 24, \"Days on Market chg.\": -0.143, \"Sold Houses\": 6451, \"Sold Houses chg.\": 0.301}, {\"Region\": \"County\", \"Market\": \"Orange, CA\", \"Date\": \"Mar-23\", \"Agents\": 2946, \"Agents chg\": 0.318, \"Price\": 1288700.06, \"Price chg\": 0.09, \"Price per Sq. Ft.\": 646, \"Price per Sq. Ft. chg.\": 0.075, \"Days on Market\": 37, \"Days on Market chg.\": -0.14, \"Sold Houses\": 1789, \"Sold Houses chg.\": 0.291}, {\"Region\": \"County\", \"Market\": \"Orange, CA\", \"Date\": \"Feb-23\", \"Agents\": 2235, \"Agents chg\": 0.093, \"Price\": 1182103.73, \"Price chg\": -0.116, \"Price per Sq. Ft.\": 601, \"Price per Sq. Ft. chg.\": -0.381, \"Days on Market\": 43, \"Days on Market chg.\": -0.023, \"Sold Houses\": 1268, \"Sold Houses chg.\": 0.106}, {\"Region\": \"County\", \"Market\": \"Orange, CA\", \"Date\": \"Jan-23\", \"Agents\": 2044, \"Agents chg\": -0.17, \"Price\": 1337745.51, \"Price chg\": 0.112, \"Price per Sq. Ft.\": 971, \"Price per Sq. Ft. chg.\": 0.624, \"Days on Market\": 44, \"Days on Market chg.\": 0.222, \"Sold Houses\": 1134, \"Sold Houses chg.\": -0.253}, {\"Region\": \"County\", \"Market\": \"Orange, CA\", \"Date\": \"Dec-22\", \"Agents\": 2463, \"Agents chg\": -0.043, \"Price\": 1202806.4, \"Price chg\": 0.02, \"Price per Sq. Ft.\": 598, \"Price per Sq. Ft. chg.\": -0.012, \"Days on Market\": 36, \"Days on Market chg.\": 0.059, \"Sold Houses\": 1421, \"Sold Houses chg.\": -0.041}, {\"Region\": \"County\", \"Market\": \"Orange, CA\", \"Date\": \"Nov-22\", \"Agents\": 2574, \"Agents chg\": -0.13, \"Price\": 1178840.77, \"Price chg\": -0.052, \"Price per Sq. Ft.\": 605, \"Price per Sq. Ft. chg.\": -0.04, \"Days on Market\": 34, \"Days on Market chg.\": 0.0, \"Sold Houses\": 1479, \"Sold Houses chg.\": -0.206}, {\"Region\": \"County\", \"Market\": \"Orange, CA\", \"Date\": \"Oct-22\", \"Agents\": 2957, \"Agents chg\": -0.117, \"Price\": 1243014.42, \"Price chg\": -0.043, \"Price per Sq. Ft.\": 630, \"Price per Sq. Ft. chg.\": -0.008, \"Days on Market\": 34, \"Days on Market chg.\": 0.172, \"Sold Houses\": 1784, \"Sold Houses chg.\": -0.145}, {\"Region\": \"County\", \"Market\": \"Orange, CA\", \"Date\": \"Sep-22\", \"Agents\": 3348, \"Agents chg\": -0.078, \"Price\": 1298949.13, \"Price chg\": -0.027, \"Price per Sq. Ft.\": 635, \"Price per Sq. Ft. chg.\": -0.041, \"Days on Market\": 29, \"Days on Market chg.\": 0.261, \"Sold Houses\": 2043, \"Sold Houses chg.\": -0.097}, {\"Region\": \"County\", \"Market\": \"Orange, CA\", \"Date\": \"Aug-22\", \"Agents\": 3632, \"Agents chg\": 0.098, \"Price\": 1335254.11, \"Price chg\": 0.024, \"Price per Sq. Ft.\": 662, \"Price per Sq. Ft. chg.\": 0.011, \"Days on Market\": 23, \"Days on Market chg.\": 0.211, \"Sold Houses\": 2242, \"Sold Houses chg.\": 0.094}, {\"Region\": \"County\", \"Market\": \"Orange, CA\", \"Date\": \"Jul-22\", \"Agents\": 3309, \"Agents chg\": -0.144, \"Price\": 1303376.93, \"Price chg\": -0.02, \"Price per Sq. Ft.\": 655, \"Price per Sq. Ft. chg.\": -0.015, \"Days on Market\": 19, \"Days on Market chg.\": 0.188, \"Sold Houses\": 2032, \"Sold Houses chg.\": -0.206}, {\"Region\": \"County\", \"Market\": \"Orange, CA\", \"Date\": \"Jun-22\", \"Agents\": 3866, \"Agents chg\": -0.042, \"Price\": 1329620.0, \"Price chg\": -0.033, \"Price per Sq. Ft.\": 665, \"Price per Sq. Ft. chg.\": -0.553, \"Days on Market\": 16, \"Days on Market chg.\": 0.067, \"Sold Houses\": 2450, \"Sold Houses chg.\": -0.07}, {\"Region\": \"County\", \"Market\": \"Orange, CA\", \"Date\": \"May-22\", \"Agents\": 4036, \"Agents chg\": 0.011, \"Price\": 1374425.11, \"Price chg\": -0.024, \"Price per Sq. Ft.\": 1489, \"Price per Sq. Ft. chg.\": 1.177, \"Days on Market\": 15, \"Days on Market chg.\": 0.071, \"Sold Houses\": 2621, \"Sold Houses chg.\": -0.007}, {\"Region\": \"County\", \"Market\": \"Orange, CA\", \"Date\": \"Apr-22\", \"Agents\": 3994, \"Agents chg\": -0.016, \"Price\": 1407987.8, \"Price chg\": 0.002, \"Price per Sq. Ft.\": 684, \"Price per Sq. Ft. chg.\": 0.025, \"Days on Market\": 14, \"Days on Market chg.\": -0.125, \"Sold Houses\": 2640, \"Sold Houses chg.\": -0.032}, {\"Region\": \"County\", \"Market\": \"Orange, CA\", \"Date\": \"Mar-22\", \"Agents\": 4057, \"Agents chg\": 0.413, \"Price\": 1404589.87, \"Price chg\": 0.009, \"Price per Sq. Ft.\": 667, \"Price per Sq. Ft. chg.\": 0.011, \"Days on Market\": 16, \"Days on Market chg.\": -0.111, \"Sold Houses\": 2725, \"Sold Houses chg.\": 0.346}, {\"Region\": \"County\", \"Market\": \"Harris, TX\", \"Date\": \"Mar-23\", \"Agents\": 4772, \"Agents chg\": 0.307, \"Price\": 411028.65, \"Price chg\": 0.094, \"Price per Sq. Ft.\": 174, \"Price per Sq. Ft. chg.\": 0.048, \"Days on Market\": 38, \"Days on Market chg.\": -0.095, \"Sold Houses\": 3292, \"Sold Houses chg.\": 0.276}, {\"Region\": \"County\", \"Market\": \"Harris, TX\", \"Date\": \"Feb-23\", \"Agents\": 3650, \"Agents chg\": 0.194, \"Price\": 375712.97, \"Price chg\": 0.031, \"Price per Sq. Ft.\": 166, \"Price per Sq. Ft. chg.\": 0.025, \"Days on Market\": 42, \"Days on Market chg.\": 0.0, \"Sold Houses\": 2384, \"Sold Houses chg.\": 0.184}, {\"Region\": \"County\", \"Market\": \"Harris, TX\", \"Date\": \"Jan-23\", \"Agents\": 3058, \"Agents chg\": -0.21, \"Price\": 364319.81, \"Price chg\": -0.094, \"Price per Sq. Ft.\": 162, \"Price per Sq. Ft. chg.\": -0.041, \"Days on Market\": 42, \"Days on Market chg.\": 0.167, \"Sold Houses\": 1945, \"Sold Houses chg.\": -0.29}, {\"Region\": \"County\", \"Market\": \"Harris, TX\", \"Date\": \"Dec-22\", \"Agents\": 3871, \"Agents chg\": -0.004, \"Price\": 402161.13, \"Price chg\": 0.028, \"Price per Sq. Ft.\": 169, \"Price per Sq. Ft. chg.\": 0.0, \"Days on Market\": 36, \"Days on Market chg.\": 0.2, \"Sold Houses\": 2510, \"Sold Houses chg.\": 0.0}, {\"Region\": \"County\", \"Market\": \"Harris, TX\", \"Date\": \"Nov-22\", \"Agents\": 3887, \"Agents chg\": -0.145, \"Price\": 391248.72, \"Price chg\": -0.012, \"Price per Sq. Ft.\": 169, \"Price per Sq. Ft. chg.\": 0.0, \"Days on Market\": 30, \"Days on Market chg.\": 0.071, \"Sold Houses\": 2509, \"Sold Houses chg.\": -0.203}, {\"Region\": \"County\", \"Market\": \"Harris, TX\", \"Date\": \"Oct-22\", \"Agents\": 4546, \"Agents chg\": -0.123, \"Price\": 396043.86, \"Price chg\": -0.006, \"Price per Sq. Ft.\": 169, \"Price per Sq. Ft. chg.\": -0.012, \"Days on Market\": 28, \"Days on Market chg.\": 0.167, \"Sold Houses\": 3018, \"Sold Houses chg.\": -0.173}, {\"Region\": \"County\", \"Market\": \"Harris, TX\", \"Date\": \"Sep-22\", \"Agents\": 5185, \"Agents chg\": -0.088, \"Price\": 398325.14, \"Price chg\": 0.009, \"Price per Sq. Ft.\": 171, \"Price per Sq. Ft. chg.\": 0.0, \"Days on Market\": 24, \"Days on Market chg.\": 0.2, \"Sold Houses\": 3540, \"Sold Houses chg.\": -0.12}, {\"Region\": \"County\", \"Market\": \"Harris, TX\", \"Date\": \"Aug-22\", \"Agents\": 5688, \"Agents chg\": 0.009, \"Price\": 394708.28, \"Price chg\": -0.05, \"Price per Sq. Ft.\": 171, \"Price per Sq. Ft. chg.\": -0.023, \"Days on Market\": 20, \"Days on Market chg.\": 0.176, \"Sold Houses\": 3964, \"Sold Houses chg.\": 0.022}, {\"Region\": \"County\", \"Market\": \"Harris, TX\", \"Date\": \"Jul-22\", \"Agents\": 5635, \"Agents chg\": -0.088, \"Price\": 415475.69, \"Price chg\": -0.029, \"Price per Sq. Ft.\": 175, \"Price per Sq. Ft. chg.\": -0.028, \"Days on Market\": 17, \"Days on Market chg.\": -0.056, \"Sold Houses\": 3878, \"Sold Houses chg.\": -0.14}, {\"Region\": \"County\", \"Market\": \"Harris, TX\", \"Date\": \"Jun-22\", \"Agents\": 6177, \"Agents chg\": -0.001, \"Price\": 427939.32, \"Price chg\": -0.025, \"Price per Sq. Ft.\": 180, \"Price per Sq. Ft. chg.\": -0.022, \"Days on Market\": 18, \"Days on Market chg.\": -0.053, \"Sold Houses\": 4420, \"Sold Houses chg.\": -0.05}, {\"Region\": \"County\", \"Market\": \"Harris, TX\", \"Date\": \"May-22\", \"Agents\": 6182, \"Agents chg\": 0.045, \"Price\": 438937.36, \"Price chg\": 0.033, \"Price per Sq. Ft.\": 184, \"Price per Sq. Ft. chg.\": 0.034, \"Days on Market\": 19, \"Days on Market chg.\": -0.095, \"Sold Houses\": 4642, \"Sold Houses chg.\": 0.054}, {\"Region\": \"County\", \"Market\": \"Harris, TX\", \"Date\": \"Apr-22\", \"Agents\": 5913, \"Agents chg\": -0.034, \"Price\": 425068.83, \"Price chg\": 0.065, \"Price per Sq. Ft.\": 178, \"Price per Sq. Ft. chg.\": 0.035, \"Days on Market\": 21, \"Days on Market chg.\": -0.192, \"Sold Houses\": 4391, \"Sold Houses chg.\": -0.031}, {\"Region\": \"County\", \"Market\": \"Harris, TX\", \"Date\": \"Mar-22\", \"Agents\": 6120, \"Agents chg\": 0.264, \"Price\": 398973.9, \"Price chg\": 0.024, \"Price per Sq. Ft.\": 172, \"Price per Sq. Ft. chg.\": 0.018, \"Days on Market\": 26, \"Days on Market chg.\": -0.133, \"Sold Houses\": 4525, \"Sold Houses chg.\": 0.259}, {\"Region\": \"County\", \"Market\": \"Dallas, TX\", \"Date\": \"Mar-23\", \"Agents\": 2529, \"Agents chg\": 0.188, \"Price\": 465199.11, \"Price chg\": -0.098, \"Price per Sq. Ft.\": 227, \"Price per Sq. Ft. chg.\": -0.03, \"Days on Market\": 35, \"Days on Market chg.\": -0.167, \"Sold Houses\": 1540, \"Sold Houses chg.\": 0.212}, {\"Region\": \"County\", \"Market\": \"Dallas, TX\", \"Date\": \"Feb-23\", \"Agents\": 2128, \"Agents chg\": 0.275, \"Price\": 515904.75, \"Price chg\": 0.214, \"Price per Sq. Ft.\": 234, \"Price per Sq. Ft. chg.\": 0.099, \"Days on Market\": 42, \"Days on Market chg.\": 0.05, \"Sold Houses\": 1213, \"Sold Houses chg.\": 0.229}, {\"Region\": \"County\", \"Market\": \"Dallas, TX\", \"Date\": \"Jan-23\", \"Agents\": 1669, \"Agents chg\": -0.241, \"Price\": 424976.92, \"Price chg\": -0.062, \"Price per Sq. Ft.\": 213, \"Price per Sq. Ft. chg.\": -0.027, \"Days on Market\": 40, \"Days on Market chg.\": 0.212, \"Sold Houses\": 935, \"Sold Houses chg.\": -0.353}, {\"Region\": \"County\", \"Market\": \"Dallas, TX\", \"Date\": \"Dec-22\", \"Agents\": 2200, \"Agents chg\": 0.007, \"Price\": 453103.59, \"Price chg\": -0.107, \"Price per Sq. Ft.\": 219, \"Price per Sq. Ft. chg.\": -0.035, \"Days on Market\": 33, \"Days on Market chg.\": 0.1, \"Sold Houses\": 1265, \"Sold Houses chg.\": -0.013}, {\"Region\": \"County\", \"Market\": \"Dallas, TX\", \"Date\": \"Nov-22\", \"Agents\": 2184, \"Agents chg\": -0.096, \"Price\": 507666.98, \"Price chg\": 0.014, \"Price per Sq. Ft.\": 227, \"Price per Sq. Ft. chg.\": -0.026, \"Days on Market\": 30, \"Days on Market chg.\": 0.154, \"Sold Houses\": 1282, \"Sold Houses chg.\": -0.129}, {\"Region\": \"County\", \"Market\": \"Dallas, TX\", \"Date\": \"Oct-22\", \"Agents\": 2416, \"Agents chg\": -0.134, \"Price\": 500595.03, \"Price chg\": 0.03, \"Price per Sq. Ft.\": 233, \"Price per Sq. Ft. chg.\": 0.017, \"Days on Market\": 26, \"Days on Market chg.\": 0.04, \"Sold Houses\": 1448, \"Sold Houses chg.\": -0.168}, {\"Region\": \"County\", \"Market\": \"Dallas, TX\", \"Date\": \"Sep-22\", \"Agents\": 2791, \"Agents chg\": -0.052, \"Price\": 485905.58, \"Price chg\": 0.005, \"Price per Sq. Ft.\": 229, \"Price per Sq. Ft. chg.\": -0.017, \"Days on Market\": 25, \"Days on Market chg.\": 0.389, \"Sold Houses\": 1691, \"Sold Houses chg.\": -0.07}, {\"Region\": \"County\", \"Market\": \"Dallas, TX\", \"Date\": \"Aug-22\", \"Agents\": 2944, \"Agents chg\": 0.039, \"Price\": 483486.45, \"Price chg\": -0.047, \"Price per Sq. Ft.\": 233, \"Price per Sq. Ft. chg.\": -0.009, \"Days on Market\": 18, \"Days on Market chg.\": 0.2, \"Sold Houses\": 1810, \"Sold Houses chg.\": 0.047}, {\"Region\": \"County\", \"Market\": \"Dallas, TX\", \"Date\": \"Jul-22\", \"Agents\": 2833, \"Agents chg\": -0.034, \"Price\": 507595.67, \"Price chg\": -0.114, \"Price per Sq. Ft.\": 235, \"Price per Sq. Ft. chg.\": -0.064, \"Days on Market\": 15, \"Days on Market chg.\": 0.154, \"Sold Houses\": 1725, \"Sold Houses chg.\": -0.067}, {\"Region\": \"County\", \"Market\": \"Dallas, TX\", \"Date\": \"Jun-22\", \"Agents\": 2933, \"Agents chg\": -0.119, \"Price\": 572908.94, \"Price chg\": 0.004, \"Price per Sq. Ft.\": 251, \"Price per Sq. Ft. chg.\": -0.016, \"Days on Market\": 13, \"Days on Market chg.\": -0.071, \"Sold Houses\": 1840, \"Sold Houses chg.\": -0.171}, {\"Region\": \"County\", \"Market\": \"Dallas, TX\", \"Date\": \"May-22\", \"Agents\": 3329, \"Agents chg\": 0.068, \"Price\": 570343.7, \"Price chg\": 0.05, \"Price per Sq. Ft.\": 255, \"Price per Sq. Ft. chg.\": 0.041, \"Days on Market\": 14, \"Days on Market chg.\": 0.077, \"Sold Houses\": 2154, \"Sold Houses chg.\": 0.091}, {\"Region\": \"County\", \"Market\": \"Dallas, TX\", \"Date\": \"Apr-22\", \"Agents\": 3116, \"Agents chg\": 0.015, \"Price\": 543063.34, \"Price chg\": 0.116, \"Price per Sq. Ft.\": 245, \"Price per Sq. Ft. chg.\": 0.061, \"Days on Market\": 13, \"Days on Market chg.\": -0.278, \"Sold Houses\": 1957, \"Sold Houses chg.\": 0.004}, {\"Region\": \"County\", \"Market\": \"Dallas, TX\", \"Date\": \"Mar-22\", \"Agents\": 3070, \"Agents chg\": 0.221, \"Price\": 486716.23, \"Price chg\": 0.033, \"Price per Sq. Ft.\": 231, \"Price per Sq. Ft. chg.\": 0.027, \"Days on Market\": 18, \"Days on Market chg.\": -0.217, \"Sold Houses\": 1950, \"Sold Houses chg.\": 0.23}, {\"Region\": \"County\", \"Market\": \"Travis, TX\", \"Date\": \"Mar-23\", \"Agents\": 1461, \"Agents chg\": 0.252, \"Price\": 741551.36, \"Price chg\": 0.121, \"Price per Sq. Ft.\": 381, \"Price per Sq. Ft. chg.\": 0.121, \"Days on Market\": 52, \"Days on Market chg.\": -0.175, \"Sold Houses\": 880, \"Sold Houses chg.\": 0.244}, {\"Region\": \"County\", \"Market\": \"Travis, TX\", \"Date\": \"Feb-23\", \"Agents\": 1167, \"Agents chg\": 0.171, \"Price\": 661598.93, \"Price chg\": 0.006, \"Price per Sq. Ft.\": 340, \"Price per Sq. Ft. chg.\": 0.033, \"Days on Market\": 63, \"Days on Market chg.\": 0.05, \"Sold Houses\": 665, \"Sold Houses chg.\": 0.147}, {\"Region\": \"County\", \"Market\": \"Travis, TX\", \"Date\": \"Jan-23\", \"Agents\": 997, \"Agents chg\": -0.182, \"Price\": 657919.74, \"Price chg\": -0.024, \"Price per Sq. Ft.\": 329, \"Price per Sq. Ft. chg.\": -0.024, \"Days on Market\": 60, \"Days on Market chg.\": 0.2, \"Sold Houses\": 567, \"Sold Houses chg.\": -0.254}, {\"Region\": \"County\", \"Market\": \"Travis, TX\", \"Date\": \"Dec-22\", \"Agents\": 1219, \"Agents chg\": 0.048, \"Price\": 673812.28, \"Price chg\": -0.061, \"Price per Sq. Ft.\": 337, \"Price per Sq. Ft. chg.\": -0.026, \"Days on Market\": 50, \"Days on Market chg.\": 0.163, \"Sold Houses\": 711, \"Sold Houses chg.\": 0.065}, {\"Region\": \"County\", \"Market\": \"Travis, TX\", \"Date\": \"Nov-22\", \"Agents\": 1163, \"Agents chg\": -0.154, \"Price\": 717398.03, \"Price chg\": -0.02, \"Price per Sq. Ft.\": 346, \"Price per Sq. Ft. chg.\": -0.028, \"Days on Market\": 43, \"Days on Market chg.\": 0.194, \"Sold Houses\": 665, \"Sold Houses chg.\": -0.226}, {\"Region\": \"County\", \"Market\": \"Travis, TX\", \"Date\": \"Oct-22\", \"Agents\": 1375, \"Agents chg\": -0.165, \"Price\": 732183.19, \"Price chg\": 0.02, \"Price per Sq. Ft.\": 356, \"Price per Sq. Ft. chg.\": 0.0, \"Days on Market\": 36, \"Days on Market chg.\": 0.125, \"Sold Houses\": 815, \"Sold Houses chg.\": -0.217}, {\"Region\": \"County\", \"Market\": \"Travis, TX\", \"Date\": \"Sep-22\", \"Agents\": 1647, \"Agents chg\": -0.057, \"Price\": 717918.81, \"Price chg\": -0.054, \"Price per Sq. Ft.\": 356, \"Price per Sq. Ft. chg.\": -0.051, \"Days on Market\": 32, \"Days on Market chg.\": 0.333, \"Sold Houses\": 992, \"Sold Houses chg.\": -0.117}, {\"Region\": \"County\", \"Market\": \"Travis, TX\", \"Date\": \"Aug-22\", \"Agents\": 1746, \"Agents chg\": -0.032, \"Price\": 759137.58, \"Price chg\": -0.045, \"Price per Sq. Ft.\": 375, \"Price per Sq. Ft. chg.\": -0.031, \"Days on Market\": 24, \"Days on Market chg.\": 0.5, \"Sold Houses\": 1108, \"Sold Houses chg.\": -0.025}, {\"Region\": \"County\", \"Market\": \"Travis, TX\", \"Date\": \"Jul-22\", \"Agents\": 1803, \"Agents chg\": -0.157, \"Price\": 795135.05, \"Price chg\": -0.031, \"Price per Sq. Ft.\": 387, \"Price per Sq. Ft. chg.\": -0.063, \"Days on Market\": 16, \"Days on Market chg.\": 0.333, \"Sold Houses\": 1136, \"Sold Houses chg.\": -0.243}, {\"Region\": \"County\", \"Market\": \"Travis, TX\", \"Date\": \"Jun-22\", \"Agents\": 2138, \"Agents chg\": -0.062, \"Price\": 820980.57, \"Price chg\": -0.012, \"Price per Sq. Ft.\": 413, \"Price per Sq. Ft. chg.\": -0.012, \"Days on Market\": 12, \"Days on Market chg.\": 0.091, \"Sold Houses\": 1412, \"Sold Houses chg.\": -0.095}, {\"Region\": \"County\", \"Market\": \"Travis, TX\", \"Date\": \"May-22\", \"Agents\": 2279, \"Agents chg\": 0.118, \"Price\": 831116.6, \"Price chg\": 0.019, \"Price per Sq. Ft.\": 418, \"Price per Sq. Ft. chg.\": -0.009, \"Days on Market\": 11, \"Days on Market chg.\": 0.0, \"Sold Houses\": 1546, \"Sold Houses chg.\": 0.098}, {\"Region\": \"County\", \"Market\": \"Travis, TX\", \"Date\": \"Apr-22\", \"Agents\": 2039, \"Agents chg\": 0.03, \"Price\": 815871.9, \"Price chg\": 0.034, \"Price per Sq. Ft.\": 422, \"Price per Sq. Ft. chg.\": 0.047, \"Days on Market\": 11, \"Days on Market chg.\": -0.214, \"Sold Houses\": 1394, \"Sold Houses chg.\": 0.086}, {\"Region\": \"County\", \"Market\": \"Travis, TX\", \"Date\": \"Mar-22\", \"Agents\": 1979, \"Agents chg\": 0.259, \"Price\": 789368.88, \"Price chg\": 0.093, \"Price per Sq. Ft.\": 403, \"Price per Sq. Ft. chg.\": 0.033, \"Days on Market\": 14, \"Days on Market chg.\": -0.3, \"Sold Houses\": 1274, \"Sold Houses chg.\": 0.249}, {\"Region\": \"County\", \"Market\": \"Cook, IL\", \"Date\": \"Mar-23\", \"Agents\": 6117, \"Agents chg\": 0.373, \"Price\": 382517.99, \"Price chg\": 0.068, \"Price per Sq. Ft.\": 275, \"Price per Sq. Ft. chg.\": -0.191, \"Days on Market\": 40, \"Days on Market chg.\": -0.13, \"Sold Houses\": 4709, \"Sold Houses chg.\": 0.376}, {\"Region\": \"County\", \"Market\": \"Cook, IL\", \"Date\": \"Feb-23\", \"Agents\": 4455, \"Agents chg\": 0.081, \"Price\": 358204.39, \"Price chg\": -0.021, \"Price per Sq. Ft.\": 340, \"Price per Sq. Ft. chg.\": 0.069, \"Days on Market\": 46, \"Days on Market chg.\": 0.045, \"Sold Houses\": 2939, \"Sold Houses chg.\": 0.084}, {\"Region\": \"County\", \"Market\": \"Cook, IL\", \"Date\": \"Jan-23\", \"Agents\": 4121, \"Agents chg\": -0.228, \"Price\": 366028.73, \"Price chg\": 0.03, \"Price per Sq. Ft.\": 318, \"Price per Sq. Ft. chg.\": 0.59, \"Days on Market\": 44, \"Days on Market chg.\": 0.257, \"Sold Houses\": 2692, \"Sold Houses chg.\": -0.416}, {\"Region\": \"County\", \"Market\": \"Cook, IL\", \"Date\": \"Dec-22\", \"Agents\": 5337, \"Agents chg\": -0.036, \"Price\": 355455.13, \"Price chg\": -0.027, \"Price per Sq. Ft.\": 200, \"Price per Sq. Ft. chg.\": -0.024, \"Days on Market\": 35, \"Days on Market chg.\": 0.094, \"Sold Houses\": 3813, \"Sold Houses chg.\": -0.026}, {\"Region\": \"County\", \"Market\": \"Cook, IL\", \"Date\": \"Nov-22\", \"Agents\": 5535, \"Agents chg\": -0.085, \"Price\": 365345.34, \"Price chg\": -0.035, \"Price per Sq. Ft.\": 205, \"Price per Sq. Ft. chg.\": -0.347, \"Days on Market\": 32, \"Days on Market chg.\": 0.032, \"Sold Houses\": 3911, \"Sold Houses chg.\": -0.112}, {\"Region\": \"County\", \"Market\": \"Cook, IL\", \"Date\": \"Oct-22\", \"Agents\": 6046, \"Agents chg\": -0.129, \"Price\": 378570.27, \"Price chg\": -0.028, \"Price per Sq. Ft.\": 314, \"Price per Sq. Ft. chg.\": 0.454, \"Days on Market\": 31, \"Days on Market chg.\": 0.0, \"Sold Houses\": 4350, \"Sold Houses chg.\": -0.208}, {\"Region\": \"County\", \"Market\": \"Cook, IL\", \"Date\": \"Sep-22\", \"Agents\": 6941, \"Agents chg\": -0.075, \"Price\": 389638.25, \"Price chg\": -0.036, \"Price per Sq. Ft.\": 216, \"Price per Sq. Ft. chg.\": -0.023, \"Days on Market\": 31, \"Days on Market chg.\": 0.292, \"Sold Houses\": 5255, \"Sold Houses chg.\": -0.13}, {\"Region\": \"County\", \"Market\": \"Cook, IL\", \"Date\": \"Aug-22\", \"Agents\": 7507, \"Agents chg\": -0.002, \"Price\": 403990.7, \"Price chg\": -0.018, \"Price per Sq. Ft.\": 221, \"Price per Sq. Ft. chg.\": -0.039, \"Days on Market\": 24, \"Days on Market chg.\": 0.143, \"Sold Houses\": 5936, \"Sold Houses chg.\": -0.016}, {\"Region\": \"County\", \"Market\": \"Cook, IL\", \"Date\": \"Jul-22\", \"Agents\": 7521, \"Agents chg\": -0.128, \"Price\": 411232.37, \"Price chg\": -0.063, \"Price per Sq. Ft.\": 230, \"Price per Sq. Ft. chg.\": -0.307, \"Days on Market\": 21, \"Days on Market chg.\": -0.087, \"Sold Houses\": 6030, \"Sold Houses chg.\": -0.242}, {\"Region\": \"County\", \"Market\": \"Cook, IL\", \"Date\": \"Jun-22\", \"Agents\": 8622, \"Agents chg\": 0.037, \"Price\": 438840.34, \"Price chg\": 0.049, \"Price per Sq. Ft.\": 332, \"Price per Sq. Ft. chg.\": 0.153, \"Days on Market\": 23, \"Days on Market chg.\": -0.08, \"Sold Houses\": 7488, \"Sold Houses chg.\": 0.044}, {\"Region\": \"County\", \"Market\": \"Cook, IL\", \"Date\": \"May-22\", \"Agents\": 8317, \"Agents chg\": 0.05, \"Price\": 418511.59, \"Price chg\": -0.019, \"Price per Sq. Ft.\": 288, \"Price per Sq. Ft. chg.\": 0.185, \"Days on Market\": 25, \"Days on Market chg.\": -0.138, \"Sold Houses\": 7161, \"Sold Houses chg.\": 0.049}, {\"Region\": \"County\", \"Market\": \"Cook, IL\", \"Date\": \"Apr-22\", \"Agents\": 7922, \"Agents chg\": 0.049, \"Price\": 426592.05, \"Price chg\": 0.062, \"Price per Sq. Ft.\": 243, \"Price per Sq. Ft. chg.\": 0.021, \"Days on Market\": 29, \"Days on Market chg.\": -0.194, \"Sold Houses\": 6812, \"Sold Houses chg.\": 0.087}, {\"Region\": \"County\", \"Market\": \"Cook, IL\", \"Date\": \"Mar-22\", \"Agents\": 7549, \"Agents chg\": 0.264, \"Price\": 401621.53, \"Price chg\": 0.074, \"Price per Sq. Ft.\": 238, \"Price per Sq. Ft. chg.\": -0.122, \"Days on Market\": 36, \"Days on Market chg.\": -0.122, \"Sold Houses\": 6222, \"Sold Houses chg.\": 0.291}]}}, {\"mode\": \"vega-lite\", \"actions\": false});\n",
       "</script>"
      ],
      "text/plain": [
       "alt.Chart(...)"
      ]
     },
     "execution_count": 68,
     "metadata": {},
     "output_type": "execute_result"
    }
   ],
   "source": [
    "chart = alt.Chart(df).mark_rect().encode(\n",
    "    x='Date:T',\n",
    "    y='Market:N',\n",
    "    color='Agents:Q',\n",
    "    tooltip=['Agents']\n",
    ")\n",
    "chart"
   ]
  },
  {
   "cell_type": "code",
   "execution_count": 69,
   "id": "34af7d70",
   "metadata": {},
   "outputs": [],
   "source": [
    "chart.save('index.html')"
   ]
  },
  {
   "cell_type": "code",
   "execution_count": 50,
   "id": "66e64924",
   "metadata": {},
   "outputs": [
    {
     "data": {
      "application/vnd.plotly.v1+json": {
       "config": {
        "plotlyServerURL": "https://plot.ly"
       },
       "data": [
        {
         "coloraxis": "coloraxis",
         "hovertemplate": "x: %{x}<br>y: %{y}<br>color: %{z}<extra></extra>",
         "name": "0",
         "type": "heatmap",
         "x": [
          "Agents",
          "Agents chg",
          "Price",
          "Price chg",
          "Price per Sq. Ft.",
          "Price per Sq. Ft. chg.",
          "Days on Market",
          "Days on Market chg.",
          "Sold Houses",
          "Sold Houses chg."
         ],
         "xaxis": "x",
         "y": [
          "Agents",
          "Agents chg",
          "Price",
          "Price chg",
          "Price per Sq. Ft.",
          "Price per Sq. Ft. chg.",
          "Days on Market",
          "Days on Market chg.",
          "Sold Houses",
          "Sold Houses chg."
         ],
         "yaxis": "y",
         "z": [
          [
           1,
           0.13643960126907004,
           0.12789956898454172,
           0.039847704562502057,
           0.2645203136560369,
           -0.011488945833618685,
           -0.22918721328674294,
           -0.31857816033961234,
           0.9758995295895778,
           0.148126245502462
          ],
          [
           0.13643960126907004,
           1,
           0.02896156352355651,
           0.29056230223663415,
           0.03742364375182324,
           -0.031407769681344816,
           0.08036252920255581,
           -0.47310410864596397,
           0.1587226296537289,
           0.9833711742096239
          ],
          [
           0.12789956898454172,
           0.02896156352355651,
           1,
           0.04891114255367335,
           0.8906697128156815,
           0.07981933224256074,
           -0.07056535666104231,
           0.009175782885054117,
           0.005951031374161152,
           0.019736339974148833
          ],
          [
           0.039847704562502057,
           0.29056230223663415,
           0.04891114255367335,
           1,
           0.05824585301134921,
           0.25180135118094515,
           0.07694269314103325,
           -0.26583638087583067,
           0.057223533036465754,
           0.2605506066557968
          ],
          [
           0.2645203136560369,
           0.03742364375182324,
           0.8906697128156815,
           0.05824585301134921,
           1,
           0.37982445152702055,
           -0.04685522869764133,
           -0.0019796189169049884,
           0.146070374709149,
           0.027425299572613394
          ],
          [
           -0.011488945833618685,
           -0.031407769681344816,
           0.07981933224256074,
           0.25180135118094515,
           0.37982445152702055,
           1,
           0.018449058246569852,
           0.047528501488518934,
           -0.010948292468865346,
           -0.05298703464821322
          ],
          [
           -0.22918721328674294,
           0.08036252920255581,
           -0.07056535666104231,
           0.07694269314103325,
           -0.04685522869764133,
           0.018449058246569852,
           1,
           0.10330399437914634,
           -0.2599917426017412,
           0.04402758754795323
          ],
          [
           -0.31857816033961234,
           -0.47310410864596397,
           0.009175782885054117,
           -0.26583638087583067,
           -0.0019796189169049884,
           0.047528501488518934,
           0.10330399437914634,
           1,
           -0.3528204113122003,
           -0.47579539897578643
          ],
          [
           0.9758995295895778,
           0.1587226296537289,
           0.005951031374161152,
           0.057223533036465754,
           0.146070374709149,
           -0.010948292468865346,
           -0.2599917426017412,
           -0.3528204113122003,
           1,
           0.1742854635824334
          ],
          [
           0.148126245502462,
           0.9833711742096239,
           0.019736339974148833,
           0.2605506066557968,
           0.027425299572613394,
           -0.05298703464821322,
           0.04402758754795323,
           -0.47579539897578643,
           0.1742854635824334,
           1
          ]
         ]
        }
       ],
       "layout": {
        "coloraxis": {
         "colorscale": [
          [
           0,
           "#0d0887"
          ],
          [
           0.1111111111111111,
           "#46039f"
          ],
          [
           0.2222222222222222,
           "#7201a8"
          ],
          [
           0.3333333333333333,
           "#9c179e"
          ],
          [
           0.4444444444444444,
           "#bd3786"
          ],
          [
           0.5555555555555556,
           "#d8576b"
          ],
          [
           0.6666666666666666,
           "#ed7953"
          ],
          [
           0.7777777777777778,
           "#fb9f3a"
          ],
          [
           0.8888888888888888,
           "#fdca26"
          ],
          [
           1,
           "#f0f921"
          ]
         ]
        },
        "margin": {
         "t": 60
        },
        "template": {
         "data": {
          "bar": [
           {
            "error_x": {
             "color": "#2a3f5f"
            },
            "error_y": {
             "color": "#2a3f5f"
            },
            "marker": {
             "line": {
              "color": "#E5ECF6",
              "width": 0.5
             },
             "pattern": {
              "fillmode": "overlay",
              "size": 10,
              "solidity": 0.2
             }
            },
            "type": "bar"
           }
          ],
          "barpolar": [
           {
            "marker": {
             "line": {
              "color": "#E5ECF6",
              "width": 0.5
             },
             "pattern": {
              "fillmode": "overlay",
              "size": 10,
              "solidity": 0.2
             }
            },
            "type": "barpolar"
           }
          ],
          "carpet": [
           {
            "aaxis": {
             "endlinecolor": "#2a3f5f",
             "gridcolor": "white",
             "linecolor": "white",
             "minorgridcolor": "white",
             "startlinecolor": "#2a3f5f"
            },
            "baxis": {
             "endlinecolor": "#2a3f5f",
             "gridcolor": "white",
             "linecolor": "white",
             "minorgridcolor": "white",
             "startlinecolor": "#2a3f5f"
            },
            "type": "carpet"
           }
          ],
          "choropleth": [
           {
            "colorbar": {
             "outlinewidth": 0,
             "ticks": ""
            },
            "type": "choropleth"
           }
          ],
          "contour": [
           {
            "colorbar": {
             "outlinewidth": 0,
             "ticks": ""
            },
            "colorscale": [
             [
              0,
              "#0d0887"
             ],
             [
              0.1111111111111111,
              "#46039f"
             ],
             [
              0.2222222222222222,
              "#7201a8"
             ],
             [
              0.3333333333333333,
              "#9c179e"
             ],
             [
              0.4444444444444444,
              "#bd3786"
             ],
             [
              0.5555555555555556,
              "#d8576b"
             ],
             [
              0.6666666666666666,
              "#ed7953"
             ],
             [
              0.7777777777777778,
              "#fb9f3a"
             ],
             [
              0.8888888888888888,
              "#fdca26"
             ],
             [
              1,
              "#f0f921"
             ]
            ],
            "type": "contour"
           }
          ],
          "contourcarpet": [
           {
            "colorbar": {
             "outlinewidth": 0,
             "ticks": ""
            },
            "type": "contourcarpet"
           }
          ],
          "heatmap": [
           {
            "colorbar": {
             "outlinewidth": 0,
             "ticks": ""
            },
            "colorscale": [
             [
              0,
              "#0d0887"
             ],
             [
              0.1111111111111111,
              "#46039f"
             ],
             [
              0.2222222222222222,
              "#7201a8"
             ],
             [
              0.3333333333333333,
              "#9c179e"
             ],
             [
              0.4444444444444444,
              "#bd3786"
             ],
             [
              0.5555555555555556,
              "#d8576b"
             ],
             [
              0.6666666666666666,
              "#ed7953"
             ],
             [
              0.7777777777777778,
              "#fb9f3a"
             ],
             [
              0.8888888888888888,
              "#fdca26"
             ],
             [
              1,
              "#f0f921"
             ]
            ],
            "type": "heatmap"
           }
          ],
          "heatmapgl": [
           {
            "colorbar": {
             "outlinewidth": 0,
             "ticks": ""
            },
            "colorscale": [
             [
              0,
              "#0d0887"
             ],
             [
              0.1111111111111111,
              "#46039f"
             ],
             [
              0.2222222222222222,
              "#7201a8"
             ],
             [
              0.3333333333333333,
              "#9c179e"
             ],
             [
              0.4444444444444444,
              "#bd3786"
             ],
             [
              0.5555555555555556,
              "#d8576b"
             ],
             [
              0.6666666666666666,
              "#ed7953"
             ],
             [
              0.7777777777777778,
              "#fb9f3a"
             ],
             [
              0.8888888888888888,
              "#fdca26"
             ],
             [
              1,
              "#f0f921"
             ]
            ],
            "type": "heatmapgl"
           }
          ],
          "histogram": [
           {
            "marker": {
             "pattern": {
              "fillmode": "overlay",
              "size": 10,
              "solidity": 0.2
             }
            },
            "type": "histogram"
           }
          ],
          "histogram2d": [
           {
            "colorbar": {
             "outlinewidth": 0,
             "ticks": ""
            },
            "colorscale": [
             [
              0,
              "#0d0887"
             ],
             [
              0.1111111111111111,
              "#46039f"
             ],
             [
              0.2222222222222222,
              "#7201a8"
             ],
             [
              0.3333333333333333,
              "#9c179e"
             ],
             [
              0.4444444444444444,
              "#bd3786"
             ],
             [
              0.5555555555555556,
              "#d8576b"
             ],
             [
              0.6666666666666666,
              "#ed7953"
             ],
             [
              0.7777777777777778,
              "#fb9f3a"
             ],
             [
              0.8888888888888888,
              "#fdca26"
             ],
             [
              1,
              "#f0f921"
             ]
            ],
            "type": "histogram2d"
           }
          ],
          "histogram2dcontour": [
           {
            "colorbar": {
             "outlinewidth": 0,
             "ticks": ""
            },
            "colorscale": [
             [
              0,
              "#0d0887"
             ],
             [
              0.1111111111111111,
              "#46039f"
             ],
             [
              0.2222222222222222,
              "#7201a8"
             ],
             [
              0.3333333333333333,
              "#9c179e"
             ],
             [
              0.4444444444444444,
              "#bd3786"
             ],
             [
              0.5555555555555556,
              "#d8576b"
             ],
             [
              0.6666666666666666,
              "#ed7953"
             ],
             [
              0.7777777777777778,
              "#fb9f3a"
             ],
             [
              0.8888888888888888,
              "#fdca26"
             ],
             [
              1,
              "#f0f921"
             ]
            ],
            "type": "histogram2dcontour"
           }
          ],
          "mesh3d": [
           {
            "colorbar": {
             "outlinewidth": 0,
             "ticks": ""
            },
            "type": "mesh3d"
           }
          ],
          "parcoords": [
           {
            "line": {
             "colorbar": {
              "outlinewidth": 0,
              "ticks": ""
             }
            },
            "type": "parcoords"
           }
          ],
          "pie": [
           {
            "automargin": true,
            "type": "pie"
           }
          ],
          "scatter": [
           {
            "marker": {
             "colorbar": {
              "outlinewidth": 0,
              "ticks": ""
             }
            },
            "type": "scatter"
           }
          ],
          "scatter3d": [
           {
            "line": {
             "colorbar": {
              "outlinewidth": 0,
              "ticks": ""
             }
            },
            "marker": {
             "colorbar": {
              "outlinewidth": 0,
              "ticks": ""
             }
            },
            "type": "scatter3d"
           }
          ],
          "scattercarpet": [
           {
            "marker": {
             "colorbar": {
              "outlinewidth": 0,
              "ticks": ""
             }
            },
            "type": "scattercarpet"
           }
          ],
          "scattergeo": [
           {
            "marker": {
             "colorbar": {
              "outlinewidth": 0,
              "ticks": ""
             }
            },
            "type": "scattergeo"
           }
          ],
          "scattergl": [
           {
            "marker": {
             "colorbar": {
              "outlinewidth": 0,
              "ticks": ""
             }
            },
            "type": "scattergl"
           }
          ],
          "scattermapbox": [
           {
            "marker": {
             "colorbar": {
              "outlinewidth": 0,
              "ticks": ""
             }
            },
            "type": "scattermapbox"
           }
          ],
          "scatterpolar": [
           {
            "marker": {
             "colorbar": {
              "outlinewidth": 0,
              "ticks": ""
             }
            },
            "type": "scatterpolar"
           }
          ],
          "scatterpolargl": [
           {
            "marker": {
             "colorbar": {
              "outlinewidth": 0,
              "ticks": ""
             }
            },
            "type": "scatterpolargl"
           }
          ],
          "scatterternary": [
           {
            "marker": {
             "colorbar": {
              "outlinewidth": 0,
              "ticks": ""
             }
            },
            "type": "scatterternary"
           }
          ],
          "surface": [
           {
            "colorbar": {
             "outlinewidth": 0,
             "ticks": ""
            },
            "colorscale": [
             [
              0,
              "#0d0887"
             ],
             [
              0.1111111111111111,
              "#46039f"
             ],
             [
              0.2222222222222222,
              "#7201a8"
             ],
             [
              0.3333333333333333,
              "#9c179e"
             ],
             [
              0.4444444444444444,
              "#bd3786"
             ],
             [
              0.5555555555555556,
              "#d8576b"
             ],
             [
              0.6666666666666666,
              "#ed7953"
             ],
             [
              0.7777777777777778,
              "#fb9f3a"
             ],
             [
              0.8888888888888888,
              "#fdca26"
             ],
             [
              1,
              "#f0f921"
             ]
            ],
            "type": "surface"
           }
          ],
          "table": [
           {
            "cells": {
             "fill": {
              "color": "#EBF0F8"
             },
             "line": {
              "color": "white"
             }
            },
            "header": {
             "fill": {
              "color": "#C8D4E3"
             },
             "line": {
              "color": "white"
             }
            },
            "type": "table"
           }
          ]
         },
         "layout": {
          "annotationdefaults": {
           "arrowcolor": "#2a3f5f",
           "arrowhead": 0,
           "arrowwidth": 1
          },
          "autotypenumbers": "strict",
          "coloraxis": {
           "colorbar": {
            "outlinewidth": 0,
            "ticks": ""
           }
          },
          "colorscale": {
           "diverging": [
            [
             0,
             "#8e0152"
            ],
            [
             0.1,
             "#c51b7d"
            ],
            [
             0.2,
             "#de77ae"
            ],
            [
             0.3,
             "#f1b6da"
            ],
            [
             0.4,
             "#fde0ef"
            ],
            [
             0.5,
             "#f7f7f7"
            ],
            [
             0.6,
             "#e6f5d0"
            ],
            [
             0.7,
             "#b8e186"
            ],
            [
             0.8,
             "#7fbc41"
            ],
            [
             0.9,
             "#4d9221"
            ],
            [
             1,
             "#276419"
            ]
           ],
           "sequential": [
            [
             0,
             "#0d0887"
            ],
            [
             0.1111111111111111,
             "#46039f"
            ],
            [
             0.2222222222222222,
             "#7201a8"
            ],
            [
             0.3333333333333333,
             "#9c179e"
            ],
            [
             0.4444444444444444,
             "#bd3786"
            ],
            [
             0.5555555555555556,
             "#d8576b"
            ],
            [
             0.6666666666666666,
             "#ed7953"
            ],
            [
             0.7777777777777778,
             "#fb9f3a"
            ],
            [
             0.8888888888888888,
             "#fdca26"
            ],
            [
             1,
             "#f0f921"
            ]
           ],
           "sequentialminus": [
            [
             0,
             "#0d0887"
            ],
            [
             0.1111111111111111,
             "#46039f"
            ],
            [
             0.2222222222222222,
             "#7201a8"
            ],
            [
             0.3333333333333333,
             "#9c179e"
            ],
            [
             0.4444444444444444,
             "#bd3786"
            ],
            [
             0.5555555555555556,
             "#d8576b"
            ],
            [
             0.6666666666666666,
             "#ed7953"
            ],
            [
             0.7777777777777778,
             "#fb9f3a"
            ],
            [
             0.8888888888888888,
             "#fdca26"
            ],
            [
             1,
             "#f0f921"
            ]
           ]
          },
          "colorway": [
           "#636efa",
           "#EF553B",
           "#00cc96",
           "#ab63fa",
           "#FFA15A",
           "#19d3f3",
           "#FF6692",
           "#B6E880",
           "#FF97FF",
           "#FECB52"
          ],
          "font": {
           "color": "#2a3f5f"
          },
          "geo": {
           "bgcolor": "white",
           "lakecolor": "white",
           "landcolor": "#E5ECF6",
           "showlakes": true,
           "showland": true,
           "subunitcolor": "white"
          },
          "hoverlabel": {
           "align": "left"
          },
          "hovermode": "closest",
          "mapbox": {
           "style": "light"
          },
          "paper_bgcolor": "white",
          "plot_bgcolor": "#E5ECF6",
          "polar": {
           "angularaxis": {
            "gridcolor": "white",
            "linecolor": "white",
            "ticks": ""
           },
           "bgcolor": "#E5ECF6",
           "radialaxis": {
            "gridcolor": "white",
            "linecolor": "white",
            "ticks": ""
           }
          },
          "scene": {
           "xaxis": {
            "backgroundcolor": "#E5ECF6",
            "gridcolor": "white",
            "gridwidth": 2,
            "linecolor": "white",
            "showbackground": true,
            "ticks": "",
            "zerolinecolor": "white"
           },
           "yaxis": {
            "backgroundcolor": "#E5ECF6",
            "gridcolor": "white",
            "gridwidth": 2,
            "linecolor": "white",
            "showbackground": true,
            "ticks": "",
            "zerolinecolor": "white"
           },
           "zaxis": {
            "backgroundcolor": "#E5ECF6",
            "gridcolor": "white",
            "gridwidth": 2,
            "linecolor": "white",
            "showbackground": true,
            "ticks": "",
            "zerolinecolor": "white"
           }
          },
          "shapedefaults": {
           "line": {
            "color": "#2a3f5f"
           }
          },
          "ternary": {
           "aaxis": {
            "gridcolor": "white",
            "linecolor": "white",
            "ticks": ""
           },
           "baxis": {
            "gridcolor": "white",
            "linecolor": "white",
            "ticks": ""
           },
           "bgcolor": "#E5ECF6",
           "caxis": {
            "gridcolor": "white",
            "linecolor": "white",
            "ticks": ""
           }
          },
          "title": {
           "x": 0.05
          },
          "xaxis": {
           "automargin": true,
           "gridcolor": "white",
           "linecolor": "white",
           "ticks": "",
           "title": {
            "standoff": 15
           },
           "zerolinecolor": "white",
           "zerolinewidth": 2
          },
          "yaxis": {
           "automargin": true,
           "gridcolor": "white",
           "linecolor": "white",
           "ticks": "",
           "title": {
            "standoff": 15
           },
           "zerolinecolor": "white",
           "zerolinewidth": 2
          }
         }
        },
        "title": {
         "text": "Correlation heatmap"
        },
        "xaxis": {
         "anchor": "y",
         "constrain": "domain",
         "domain": [
          0,
          1
         ],
         "scaleanchor": "y"
        },
        "yaxis": {
         "anchor": "x",
         "autorange": "reversed",
         "constrain": "domain",
         "domain": [
          0,
          1
         ]
        }
       }
      },
      "text/html": [
       "<div>                            <div id=\"30db0e25-8d87-45e4-aac1-d60af837169b\" class=\"plotly-graph-div\" style=\"height:525px; width:100%;\"></div>            <script type=\"text/javascript\">                require([\"plotly\"], function(Plotly) {                    window.PLOTLYENV=window.PLOTLYENV || {};                                    if (document.getElementById(\"30db0e25-8d87-45e4-aac1-d60af837169b\")) {                    Plotly.newPlot(                        \"30db0e25-8d87-45e4-aac1-d60af837169b\",                        [{\"coloraxis\":\"coloraxis\",\"name\":\"0\",\"x\":[\"Agents\",\"Agents chg\",\"Price\",\"Price chg\",\"Price per Sq. Ft.\",\"Price per Sq. Ft. chg.\",\"Days on Market\",\"Days on Market chg.\",\"Sold Houses\",\"Sold Houses chg.\"],\"y\":[\"Agents\",\"Agents chg\",\"Price\",\"Price chg\",\"Price per Sq. Ft.\",\"Price per Sq. Ft. chg.\",\"Days on Market\",\"Days on Market chg.\",\"Sold Houses\",\"Sold Houses chg.\"],\"z\":[[1.0,0.13643960126907004,0.12789956898454172,0.039847704562502057,0.2645203136560369,-0.011488945833618685,-0.22918721328674294,-0.31857816033961234,0.9758995295895778,0.148126245502462],[0.13643960126907004,1.0,0.02896156352355651,0.29056230223663415,0.03742364375182324,-0.031407769681344816,0.08036252920255581,-0.47310410864596397,0.1587226296537289,0.9833711742096239],[0.12789956898454172,0.02896156352355651,1.0,0.04891114255367335,0.8906697128156815,0.07981933224256074,-0.07056535666104231,0.009175782885054117,0.005951031374161152,0.019736339974148833],[0.039847704562502057,0.29056230223663415,0.04891114255367335,1.0,0.05824585301134921,0.25180135118094515,0.07694269314103325,-0.26583638087583067,0.057223533036465754,0.2605506066557968],[0.2645203136560369,0.03742364375182324,0.8906697128156815,0.05824585301134921,1.0,0.37982445152702055,-0.04685522869764133,-0.0019796189169049884,0.146070374709149,0.027425299572613394],[-0.011488945833618685,-0.031407769681344816,0.07981933224256074,0.25180135118094515,0.37982445152702055,1.0,0.018449058246569852,0.047528501488518934,-0.010948292468865346,-0.05298703464821322],[-0.22918721328674294,0.08036252920255581,-0.07056535666104231,0.07694269314103325,-0.04685522869764133,0.018449058246569852,1.0,0.10330399437914634,-0.2599917426017412,0.04402758754795323],[-0.31857816033961234,-0.47310410864596397,0.009175782885054117,-0.26583638087583067,-0.0019796189169049884,0.047528501488518934,0.10330399437914634,1.0,-0.3528204113122003,-0.47579539897578643],[0.9758995295895778,0.1587226296537289,0.005951031374161152,0.057223533036465754,0.146070374709149,-0.010948292468865346,-0.2599917426017412,-0.3528204113122003,1.0,0.1742854635824334],[0.148126245502462,0.9833711742096239,0.019736339974148833,0.2605506066557968,0.027425299572613394,-0.05298703464821322,0.04402758754795323,-0.47579539897578643,0.1742854635824334,1.0]],\"type\":\"heatmap\",\"xaxis\":\"x\",\"yaxis\":\"y\",\"hovertemplate\":\"x: %{x}<br>y: %{y}<br>color: %{z}<extra></extra>\"}],                        {\"template\":{\"data\":{\"bar\":[{\"error_x\":{\"color\":\"#2a3f5f\"},\"error_y\":{\"color\":\"#2a3f5f\"},\"marker\":{\"line\":{\"color\":\"#E5ECF6\",\"width\":0.5},\"pattern\":{\"fillmode\":\"overlay\",\"size\":10,\"solidity\":0.2}},\"type\":\"bar\"}],\"barpolar\":[{\"marker\":{\"line\":{\"color\":\"#E5ECF6\",\"width\":0.5},\"pattern\":{\"fillmode\":\"overlay\",\"size\":10,\"solidity\":0.2}},\"type\":\"barpolar\"}],\"carpet\":[{\"aaxis\":{\"endlinecolor\":\"#2a3f5f\",\"gridcolor\":\"white\",\"linecolor\":\"white\",\"minorgridcolor\":\"white\",\"startlinecolor\":\"#2a3f5f\"},\"baxis\":{\"endlinecolor\":\"#2a3f5f\",\"gridcolor\":\"white\",\"linecolor\":\"white\",\"minorgridcolor\":\"white\",\"startlinecolor\":\"#2a3f5f\"},\"type\":\"carpet\"}],\"choropleth\":[{\"colorbar\":{\"outlinewidth\":0,\"ticks\":\"\"},\"type\":\"choropleth\"}],\"contour\":[{\"colorbar\":{\"outlinewidth\":0,\"ticks\":\"\"},\"colorscale\":[[0.0,\"#0d0887\"],[0.1111111111111111,\"#46039f\"],[0.2222222222222222,\"#7201a8\"],[0.3333333333333333,\"#9c179e\"],[0.4444444444444444,\"#bd3786\"],[0.5555555555555556,\"#d8576b\"],[0.6666666666666666,\"#ed7953\"],[0.7777777777777778,\"#fb9f3a\"],[0.8888888888888888,\"#fdca26\"],[1.0,\"#f0f921\"]],\"type\":\"contour\"}],\"contourcarpet\":[{\"colorbar\":{\"outlinewidth\":0,\"ticks\":\"\"},\"type\":\"contourcarpet\"}],\"heatmap\":[{\"colorbar\":{\"outlinewidth\":0,\"ticks\":\"\"},\"colorscale\":[[0.0,\"#0d0887\"],[0.1111111111111111,\"#46039f\"],[0.2222222222222222,\"#7201a8\"],[0.3333333333333333,\"#9c179e\"],[0.4444444444444444,\"#bd3786\"],[0.5555555555555556,\"#d8576b\"],[0.6666666666666666,\"#ed7953\"],[0.7777777777777778,\"#fb9f3a\"],[0.8888888888888888,\"#fdca26\"],[1.0,\"#f0f921\"]],\"type\":\"heatmap\"}],\"heatmapgl\":[{\"colorbar\":{\"outlinewidth\":0,\"ticks\":\"\"},\"colorscale\":[[0.0,\"#0d0887\"],[0.1111111111111111,\"#46039f\"],[0.2222222222222222,\"#7201a8\"],[0.3333333333333333,\"#9c179e\"],[0.4444444444444444,\"#bd3786\"],[0.5555555555555556,\"#d8576b\"],[0.6666666666666666,\"#ed7953\"],[0.7777777777777778,\"#fb9f3a\"],[0.8888888888888888,\"#fdca26\"],[1.0,\"#f0f921\"]],\"type\":\"heatmapgl\"}],\"histogram\":[{\"marker\":{\"pattern\":{\"fillmode\":\"overlay\",\"size\":10,\"solidity\":0.2}},\"type\":\"histogram\"}],\"histogram2d\":[{\"colorbar\":{\"outlinewidth\":0,\"ticks\":\"\"},\"colorscale\":[[0.0,\"#0d0887\"],[0.1111111111111111,\"#46039f\"],[0.2222222222222222,\"#7201a8\"],[0.3333333333333333,\"#9c179e\"],[0.4444444444444444,\"#bd3786\"],[0.5555555555555556,\"#d8576b\"],[0.6666666666666666,\"#ed7953\"],[0.7777777777777778,\"#fb9f3a\"],[0.8888888888888888,\"#fdca26\"],[1.0,\"#f0f921\"]],\"type\":\"histogram2d\"}],\"histogram2dcontour\":[{\"colorbar\":{\"outlinewidth\":0,\"ticks\":\"\"},\"colorscale\":[[0.0,\"#0d0887\"],[0.1111111111111111,\"#46039f\"],[0.2222222222222222,\"#7201a8\"],[0.3333333333333333,\"#9c179e\"],[0.4444444444444444,\"#bd3786\"],[0.5555555555555556,\"#d8576b\"],[0.6666666666666666,\"#ed7953\"],[0.7777777777777778,\"#fb9f3a\"],[0.8888888888888888,\"#fdca26\"],[1.0,\"#f0f921\"]],\"type\":\"histogram2dcontour\"}],\"mesh3d\":[{\"colorbar\":{\"outlinewidth\":0,\"ticks\":\"\"},\"type\":\"mesh3d\"}],\"parcoords\":[{\"line\":{\"colorbar\":{\"outlinewidth\":0,\"ticks\":\"\"}},\"type\":\"parcoords\"}],\"pie\":[{\"automargin\":true,\"type\":\"pie\"}],\"scatter\":[{\"marker\":{\"colorbar\":{\"outlinewidth\":0,\"ticks\":\"\"}},\"type\":\"scatter\"}],\"scatter3d\":[{\"line\":{\"colorbar\":{\"outlinewidth\":0,\"ticks\":\"\"}},\"marker\":{\"colorbar\":{\"outlinewidth\":0,\"ticks\":\"\"}},\"type\":\"scatter3d\"}],\"scattercarpet\":[{\"marker\":{\"colorbar\":{\"outlinewidth\":0,\"ticks\":\"\"}},\"type\":\"scattercarpet\"}],\"scattergeo\":[{\"marker\":{\"colorbar\":{\"outlinewidth\":0,\"ticks\":\"\"}},\"type\":\"scattergeo\"}],\"scattergl\":[{\"marker\":{\"colorbar\":{\"outlinewidth\":0,\"ticks\":\"\"}},\"type\":\"scattergl\"}],\"scattermapbox\":[{\"marker\":{\"colorbar\":{\"outlinewidth\":0,\"ticks\":\"\"}},\"type\":\"scattermapbox\"}],\"scatterpolar\":[{\"marker\":{\"colorbar\":{\"outlinewidth\":0,\"ticks\":\"\"}},\"type\":\"scatterpolar\"}],\"scatterpolargl\":[{\"marker\":{\"colorbar\":{\"outlinewidth\":0,\"ticks\":\"\"}},\"type\":\"scatterpolargl\"}],\"scatterternary\":[{\"marker\":{\"colorbar\":{\"outlinewidth\":0,\"ticks\":\"\"}},\"type\":\"scatterternary\"}],\"surface\":[{\"colorbar\":{\"outlinewidth\":0,\"ticks\":\"\"},\"colorscale\":[[0.0,\"#0d0887\"],[0.1111111111111111,\"#46039f\"],[0.2222222222222222,\"#7201a8\"],[0.3333333333333333,\"#9c179e\"],[0.4444444444444444,\"#bd3786\"],[0.5555555555555556,\"#d8576b\"],[0.6666666666666666,\"#ed7953\"],[0.7777777777777778,\"#fb9f3a\"],[0.8888888888888888,\"#fdca26\"],[1.0,\"#f0f921\"]],\"type\":\"surface\"}],\"table\":[{\"cells\":{\"fill\":{\"color\":\"#EBF0F8\"},\"line\":{\"color\":\"white\"}},\"header\":{\"fill\":{\"color\":\"#C8D4E3\"},\"line\":{\"color\":\"white\"}},\"type\":\"table\"}]},\"layout\":{\"annotationdefaults\":{\"arrowcolor\":\"#2a3f5f\",\"arrowhead\":0,\"arrowwidth\":1},\"autotypenumbers\":\"strict\",\"coloraxis\":{\"colorbar\":{\"outlinewidth\":0,\"ticks\":\"\"}},\"colorscale\":{\"diverging\":[[0,\"#8e0152\"],[0.1,\"#c51b7d\"],[0.2,\"#de77ae\"],[0.3,\"#f1b6da\"],[0.4,\"#fde0ef\"],[0.5,\"#f7f7f7\"],[0.6,\"#e6f5d0\"],[0.7,\"#b8e186\"],[0.8,\"#7fbc41\"],[0.9,\"#4d9221\"],[1,\"#276419\"]],\"sequential\":[[0.0,\"#0d0887\"],[0.1111111111111111,\"#46039f\"],[0.2222222222222222,\"#7201a8\"],[0.3333333333333333,\"#9c179e\"],[0.4444444444444444,\"#bd3786\"],[0.5555555555555556,\"#d8576b\"],[0.6666666666666666,\"#ed7953\"],[0.7777777777777778,\"#fb9f3a\"],[0.8888888888888888,\"#fdca26\"],[1.0,\"#f0f921\"]],\"sequentialminus\":[[0.0,\"#0d0887\"],[0.1111111111111111,\"#46039f\"],[0.2222222222222222,\"#7201a8\"],[0.3333333333333333,\"#9c179e\"],[0.4444444444444444,\"#bd3786\"],[0.5555555555555556,\"#d8576b\"],[0.6666666666666666,\"#ed7953\"],[0.7777777777777778,\"#fb9f3a\"],[0.8888888888888888,\"#fdca26\"],[1.0,\"#f0f921\"]]},\"colorway\":[\"#636efa\",\"#EF553B\",\"#00cc96\",\"#ab63fa\",\"#FFA15A\",\"#19d3f3\",\"#FF6692\",\"#B6E880\",\"#FF97FF\",\"#FECB52\"],\"font\":{\"color\":\"#2a3f5f\"},\"geo\":{\"bgcolor\":\"white\",\"lakecolor\":\"white\",\"landcolor\":\"#E5ECF6\",\"showlakes\":true,\"showland\":true,\"subunitcolor\":\"white\"},\"hoverlabel\":{\"align\":\"left\"},\"hovermode\":\"closest\",\"mapbox\":{\"style\":\"light\"},\"paper_bgcolor\":\"white\",\"plot_bgcolor\":\"#E5ECF6\",\"polar\":{\"angularaxis\":{\"gridcolor\":\"white\",\"linecolor\":\"white\",\"ticks\":\"\"},\"bgcolor\":\"#E5ECF6\",\"radialaxis\":{\"gridcolor\":\"white\",\"linecolor\":\"white\",\"ticks\":\"\"}},\"scene\":{\"xaxis\":{\"backgroundcolor\":\"#E5ECF6\",\"gridcolor\":\"white\",\"gridwidth\":2,\"linecolor\":\"white\",\"showbackground\":true,\"ticks\":\"\",\"zerolinecolor\":\"white\"},\"yaxis\":{\"backgroundcolor\":\"#E5ECF6\",\"gridcolor\":\"white\",\"gridwidth\":2,\"linecolor\":\"white\",\"showbackground\":true,\"ticks\":\"\",\"zerolinecolor\":\"white\"},\"zaxis\":{\"backgroundcolor\":\"#E5ECF6\",\"gridcolor\":\"white\",\"gridwidth\":2,\"linecolor\":\"white\",\"showbackground\":true,\"ticks\":\"\",\"zerolinecolor\":\"white\"}},\"shapedefaults\":{\"line\":{\"color\":\"#2a3f5f\"}},\"ternary\":{\"aaxis\":{\"gridcolor\":\"white\",\"linecolor\":\"white\",\"ticks\":\"\"},\"baxis\":{\"gridcolor\":\"white\",\"linecolor\":\"white\",\"ticks\":\"\"},\"bgcolor\":\"#E5ECF6\",\"caxis\":{\"gridcolor\":\"white\",\"linecolor\":\"white\",\"ticks\":\"\"}},\"title\":{\"x\":0.05},\"xaxis\":{\"automargin\":true,\"gridcolor\":\"white\",\"linecolor\":\"white\",\"ticks\":\"\",\"title\":{\"standoff\":15},\"zerolinecolor\":\"white\",\"zerolinewidth\":2},\"yaxis\":{\"automargin\":true,\"gridcolor\":\"white\",\"linecolor\":\"white\",\"ticks\":\"\",\"title\":{\"standoff\":15},\"zerolinecolor\":\"white\",\"zerolinewidth\":2}}},\"xaxis\":{\"anchor\":\"y\",\"domain\":[0.0,1.0],\"scaleanchor\":\"y\",\"constrain\":\"domain\"},\"yaxis\":{\"anchor\":\"x\",\"domain\":[0.0,1.0],\"autorange\":\"reversed\",\"constrain\":\"domain\"},\"coloraxis\":{\"colorscale\":[[0.0,\"#0d0887\"],[0.1111111111111111,\"#46039f\"],[0.2222222222222222,\"#7201a8\"],[0.3333333333333333,\"#9c179e\"],[0.4444444444444444,\"#bd3786\"],[0.5555555555555556,\"#d8576b\"],[0.6666666666666666,\"#ed7953\"],[0.7777777777777778,\"#fb9f3a\"],[0.8888888888888888,\"#fdca26\"],[1.0,\"#f0f921\"]]},\"margin\":{\"t\":60},\"title\":{\"text\":\"Correlation heatmap\"}},                        {\"responsive\": true}                    ).then(function(){\n",
       "                            \n",
       "var gd = document.getElementById('30db0e25-8d87-45e4-aac1-d60af837169b');\n",
       "var x = new MutationObserver(function (mutations, observer) {{\n",
       "        var display = window.getComputedStyle(gd).display;\n",
       "        if (!display || display === 'none') {{\n",
       "            console.log([gd, 'removed!']);\n",
       "            Plotly.purge(gd);\n",
       "            observer.disconnect();\n",
       "        }}\n",
       "}});\n",
       "\n",
       "// Listen for the removal of the full notebook cells\n",
       "var notebookContainer = gd.closest('#notebook-container');\n",
       "if (notebookContainer) {{\n",
       "    x.observe(notebookContainer, {childList: true});\n",
       "}}\n",
       "\n",
       "// Listen for the clearing of the current output cell\n",
       "var outputEl = gd.closest('.output');\n",
       "if (outputEl) {{\n",
       "    x.observe(outputEl, {childList: true});\n",
       "}}\n",
       "\n",
       "                        })                };                });            </script>        </div>"
      ]
     },
     "metadata": {},
     "output_type": "display_data"
    }
   ],
   "source": [
    "import plotly.express as px\n",
    "\n",
    "fig = px.imshow(df.corr())\n",
    "fig.update_layout(title='Correlation heatmap')\n",
    "fig.show()"
   ]
  },
  {
   "cell_type": "markdown",
   "id": "858da477",
   "metadata": {},
   "source": [
    "## Graphic Snagger"
   ]
  },
  {
   "cell_type": "code",
   "execution_count": 71,
   "id": "4e6ea817",
   "metadata": {},
   "outputs": [
    {
     "name": "stdout",
     "output_type": "stream",
     "text": [
      "https://trd-digital.github.io/trd-news-interactive-maps/AgentHeatMap\n"
     ]
    }
   ],
   "source": [
    "base_name = 'https://trd-digital.github.io/trd-news-interactive-maps/'\n",
    "\n",
    "cwd = os.getcwd()\n",
    "\n",
    "cwd = cwd.split('/')\n",
    "\n",
    "final_name = base_name + cwd[-1]\n",
    "print(final_name)"
   ]
  }
 ],
 "metadata": {
  "kernelspec": {
   "display_name": "Python 3 (ipykernel)",
   "language": "python",
   "name": "python3"
  },
  "language_info": {
   "codemirror_mode": {
    "name": "ipython",
    "version": 3
   },
   "file_extension": ".py",
   "mimetype": "text/x-python",
   "name": "python",
   "nbconvert_exporter": "python",
   "pygments_lexer": "ipython3",
   "version": "3.9.12"
  }
 },
 "nbformat": 4,
 "nbformat_minor": 5
}
