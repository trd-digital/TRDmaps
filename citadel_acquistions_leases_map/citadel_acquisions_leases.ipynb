{
 "cells": [
  {
   "cell_type": "markdown",
   "metadata": {},
   "source": [
    "## Imports"
   ]
  },
  {
   "cell_type": "code",
   "execution_count": 1,
   "metadata": {},
   "outputs": [],
   "source": [
    "from geopy.geocoders import GoogleV3\n",
    "from bs4 import BeautifulSoup\n",
    "import requests\n",
    "import time\n",
    "import pandas as pd\n",
    "import numpy as np\n",
    "import urllib3\n",
    "import re\n",
    "from textwrap import shorten\n",
    "import os"
   ]
  },
  {
   "cell_type": "code",
   "execution_count": 2,
   "metadata": {},
   "outputs": [],
   "source": [
    "df = pd.read_csv('citadel_acquisition_and_leases_map - Sheet1.csv')"
   ]
  },
  {
   "cell_type": "markdown",
   "metadata": {},
   "source": [
    "## Image URL collector"
   ]
  },
  {
   "cell_type": "code",
   "execution_count": 52,
   "metadata": {},
   "outputs": [],
   "source": [
    "# Drop last n rows of a df. In case there are sums that need clipped\n",
    "# df.drop(df.tail(n).index, inplace=True)"
   ]
  },
  {
   "cell_type": "code",
   "execution_count": null,
   "metadata": {},
   "outputs": [],
   "source": []
  },
  {
   "cell_type": "code",
   "execution_count": null,
   "metadata": {},
   "outputs": [],
   "source": []
  },
  {
   "cell_type": "code",
   "execution_count": 4,
   "metadata": {},
   "outputs": [],
   "source": [
    "df['image_links'] = ''\n",
    "links = []\n",
    "for url in df['story_link']:\n",
    "    try:\n",
    "        page = requests.get(url)\n",
    "        soup = BeautifulSoup(page.content, 'html.parser')\n",
    "        images = soup.find_all('img')\n",
    "        counter = 0\n",
    "        for image in images:\n",
    "            counter += 1\n",
    "            if 'jpg' in image['src']:\n",
    "                links.append(image['src'])\n",
    "                if counter == len(images):\n",
    "                    links.append('no image found')\n",
    "                break\n",
    "    except:\n",
    "        links.append('no_image')\n",
    "\n",
    "df['image_links'] = links"
   ]
  },
  {
   "cell_type": "code",
   "execution_count": 5,
   "metadata": {},
   "outputs": [
    {
     "data": {
      "text/plain": [
       "6"
      ]
     },
     "execution_count": 5,
     "metadata": {},
     "output_type": "execute_result"
    }
   ],
   "source": [
    "len(links)"
   ]
  },
  {
   "cell_type": "markdown",
   "metadata": {},
   "source": [
    "## Article link formatter"
   ]
  },
  {
   "cell_type": "code",
   "execution_count": 7,
   "metadata": {},
   "outputs": [
    {
     "data": {
      "text/plain": [
       "0    <a href=\"https://therealdeal.com/miami/2022/04...\n",
       "1    <a href=\"https://therealdeal.com/miami/2022/06...\n",
       "2    <a href=\"https://therealdeal.com/miami/2022/08...\n",
       "3    <a href=\"https://therealdeal.com/miami/2022/08...\n",
       "4    <a href=\"https://therealdeal.com/miami/2022/08...\n",
       "5    <a href=\"https://therealdeal.com/miami/2022/07...\n",
       "Name: description_link, dtype: object"
      ]
     },
     "execution_count": 7,
     "metadata": {},
     "output_type": "execute_result"
    }
   ],
   "source": [
    "df[\"short_description\"] = df[\"purchased_or_leased\"].apply(lambda s: shorten(s, width=20, placeholder=\"\"))\n",
    "df['remaining_desc'] = df.apply(lambda row : row['purchased_or_leased'].replace(str(row['short_description']), ''), axis=1)\n",
    "df['remaining_desc']\n",
    "\n",
    "df[\"description_link\"] = '<a href=\"' + df[\"story_link\"] + '\" target=\"_blank\" rel=\"noopener noreferrer\">' + df[\"short_description\"] + \"</a>\" + df[\"remaining_desc\"]\n",
    "df['description_link']"
   ]
  },
  {
   "cell_type": "code",
   "execution_count": 8,
   "metadata": {},
   "outputs": [
    {
     "data": {
      "text/plain": [
       "'<a href=\"https://therealdeal.com/miami/2022/04/21/waterfront-brickell-development-site-of-planned-supertalls-sells-for-record-363m/\" target=\"_blank\" rel=\"noopener noreferrer\">purchased for $363</a> million'"
      ]
     },
     "execution_count": 8,
     "metadata": {},
     "output_type": "execute_result"
    }
   ],
   "source": [
    "df.description_link[0]"
   ]
  },
  {
   "cell_type": "markdown",
   "metadata": {},
   "source": [
    "## Google Maps API Geolocater Setup"
   ]
  },
  {
   "cell_type": "code",
   "execution_count": 9,
   "metadata": {},
   "outputs": [],
   "source": [
    "%store -r google_maps_API_Key\n",
    "geolocator = GoogleV3(api_key=google_maps_API_Key)"
   ]
  },
  {
   "cell_type": "code",
   "execution_count": 11,
   "metadata": {},
   "outputs": [],
   "source": [
    "df['geo_address'] = df['full_address']\n",
    "df['loc'] = df['geo_address'].apply(geolocator.geocode, timeout=10)\n",
    "df['point'] = df['loc'].apply(lambda loc: tuple(loc.point) if loc else None)\n",
    "df[['lat','lon','altitude']] = pd.DataFrame(df['point'].to_list(),index=df.index)"
   ]
  },
  {
   "cell_type": "markdown",
   "metadata": {},
   "source": [
    "## Correction Section"
   ]
  },
  {
   "cell_type": "code",
   "execution_count": 59,
   "metadata": {},
   "outputs": [
    {
     "data": {
      "text/plain": [
       "Index(['address', 'stories', 'units', 'developer', 'status', 'project_cost',\n",
       "       'land_cost', 'loan_amount', 'lender', 'description', 'story link',\n",
       "       'useful_info', 'image_links', 'short_description', 'remaining_desc',\n",
       "       'description_link', 'geo_address', 'loc', 'point', 'lat', 'lon',\n",
       "       'altitude'],\n",
       "      dtype='object')"
      ]
     },
     "execution_count": 59,
     "metadata": {},
     "output_type": "execute_result"
    }
   ],
   "source": [
    "df.columns"
   ]
  },
  {
   "cell_type": "code",
   "execution_count": 12,
   "metadata": {},
   "outputs": [
    {
     "data": {
      "text/html": [
       "<div>\n",
       "<style scoped>\n",
       "    .dataframe tbody tr th:only-of-type {\n",
       "        vertical-align: middle;\n",
       "    }\n",
       "\n",
       "    .dataframe tbody tr th {\n",
       "        vertical-align: top;\n",
       "    }\n",
       "\n",
       "    .dataframe thead th {\n",
       "        text-align: right;\n",
       "    }\n",
       "</style>\n",
       "<table border=\"1\" class=\"dataframe\">\n",
       "  <thead>\n",
       "    <tr style=\"text-align: right;\">\n",
       "      <th></th>\n",
       "      <th>full_address</th>\n",
       "      <th>purchased_or_leased</th>\n",
       "      <th>description</th>\n",
       "      <th>story_link</th>\n",
       "      <th>image_links</th>\n",
       "      <th>short_description</th>\n",
       "      <th>remaining_desc</th>\n",
       "      <th>description_link</th>\n",
       "      <th>geo_address</th>\n",
       "      <th>loc</th>\n",
       "      <th>point</th>\n",
       "      <th>lat</th>\n",
       "      <th>lon</th>\n",
       "      <th>altitude</th>\n",
       "    </tr>\n",
       "  </thead>\n",
       "  <tbody>\n",
       "    <tr>\n",
       "      <th>0</th>\n",
       "      <td>1201 Brickell Bay Drive, Birckell Miami, FL</td>\n",
       "      <td>purchased for $363 million</td>\n",
       "      <td>This is a 2.5-acre development site along the bay</td>\n",
       "      <td>https://therealdeal.com/miami/2022/04/21/water...</td>\n",
       "      <td>https://s11.therealdeal.com/trd/m/up/2022/04/W...</td>\n",
       "      <td>purchased for $363</td>\n",
       "      <td>million</td>\n",
       "      <td>&lt;a href=\"https://therealdeal.com/miami/2022/04...</td>\n",
       "      <td>1201 Brickell Bay Drive, Birckell Miami, FL</td>\n",
       "      <td>(1201 Brickell Bay Dr, Miami, FL 33131, USA, (...</td>\n",
       "      <td>(25.7618982, -80.19118979999999, 0.0)</td>\n",
       "      <td>25.761898</td>\n",
       "      <td>-80.191190</td>\n",
       "      <td>0.0</td>\n",
       "    </tr>\n",
       "    <tr>\n",
       "      <th>1</th>\n",
       "      <td>1221 Brickell Avenue, Brickell Miami, FL</td>\n",
       "      <td>purchased for $286.5 million</td>\n",
       "      <td>If we include this, we would have to couch it ...</td>\n",
       "      <td>https://therealdeal.com/miami/2022/06/24/rockp...</td>\n",
       "      <td>https://s14.therealdeal.com/trd/m/up/2022/06/m...</td>\n",
       "      <td>purchased for $286.5</td>\n",
       "      <td>million</td>\n",
       "      <td>&lt;a href=\"https://therealdeal.com/miami/2022/06...</td>\n",
       "      <td>1221 Brickell Avenue, Brickell Miami, FL</td>\n",
       "      <td>(1221 Brickell Ave, Miami, FL 33131, USA, (25....</td>\n",
       "      <td>(25.7612274, -80.1910809, 0.0)</td>\n",
       "      <td>25.761227</td>\n",
       "      <td>-80.191081</td>\n",
       "      <td>0.0</td>\n",
       "    </tr>\n",
       "    <tr>\n",
       "      <th>2</th>\n",
       "      <td>1250 and 1260 Brickell Bay Drive, Miami, FL</td>\n",
       "      <td>purchased for $20 million</td>\n",
       "      <td>This is a small apartment building at 1250 Bri...</td>\n",
       "      <td>https://therealdeal.com/miami/2022/08/05/ken-g...</td>\n",
       "      <td>https://s12.therealdeal.com/trd/m/up/2022/08/m...</td>\n",
       "      <td>purchased for $20</td>\n",
       "      <td>million</td>\n",
       "      <td>&lt;a href=\"https://therealdeal.com/miami/2022/08...</td>\n",
       "      <td>1250 and 1260 Brickell Bay Drive, Miami, FL</td>\n",
       "      <td>(1260 Brickell Bay Dr, Miami, FL 33131, USA, (...</td>\n",
       "      <td>(25.761018, -80.190164, 0.0)</td>\n",
       "      <td>25.761018</td>\n",
       "      <td>-80.190164</td>\n",
       "      <td>0.0</td>\n",
       "    </tr>\n",
       "    <tr>\n",
       "      <th>3</th>\n",
       "      <td>830 Brickell Plaza, Miami FL</td>\n",
       "      <td>leased roughly 95,000 square feet</td>\n",
       "      <td>NaN</td>\n",
       "      <td>https://therealdeal.com/miami/2022/08/03/ken-g...</td>\n",
       "      <td>https://s11.therealdeal.com/trd/m/up/2022/08/K...</td>\n",
       "      <td>leased roughly</td>\n",
       "      <td>95,000 square feet</td>\n",
       "      <td>&lt;a href=\"https://therealdeal.com/miami/2022/08...</td>\n",
       "      <td>830 Brickell Plaza, Miami FL</td>\n",
       "      <td>(830 Brickell Plaza, Miami, FL 33131, USA, (25...</td>\n",
       "      <td>(25.765873, -80.192504, 0.0)</td>\n",
       "      <td>25.765873</td>\n",
       "      <td>-80.192504</td>\n",
       "      <td>0.0</td>\n",
       "    </tr>\n",
       "    <tr>\n",
       "      <th>4</th>\n",
       "      <td>200 South Biscayne Boulevard, Miami FL</td>\n",
       "      <td>leased</td>\n",
       "      <td>Citadel had an office there but it expanded it...</td>\n",
       "      <td>https://therealdeal.com/miami/2022/08/03/ken-g...</td>\n",
       "      <td>https://s11.therealdeal.com/trd/m/up/2022/08/K...</td>\n",
       "      <td>leased</td>\n",
       "      <td></td>\n",
       "      <td>&lt;a href=\"https://therealdeal.com/miami/2022/08...</td>\n",
       "      <td>200 South Biscayne Boulevard, Miami FL</td>\n",
       "      <td>(200 S Biscayne Blvd, Miami, FL 33131, USA, (2...</td>\n",
       "      <td>(25.7722422, -80.18773809999999, 0.0)</td>\n",
       "      <td>25.772242</td>\n",
       "      <td>-80.187738</td>\n",
       "      <td>0.0</td>\n",
       "    </tr>\n",
       "    <tr>\n",
       "      <th>5</th>\n",
       "      <td>151 Worth Avenue in Palm Beach, FL</td>\n",
       "      <td>leased</td>\n",
       "      <td>Citadel leased the former Neiman Marcus buildi...</td>\n",
       "      <td>https://therealdeal.com/miami/2022/07/14/ken-g...</td>\n",
       "      <td>https://therealdeal.com/miami/wp-content/uploa...</td>\n",
       "      <td>leased</td>\n",
       "      <td></td>\n",
       "      <td>&lt;a href=\"https://therealdeal.com/miami/2022/07...</td>\n",
       "      <td>151 Worth Avenue in Palm Beach, FL</td>\n",
       "      <td>(151 Worth Ave, Palm Beach, FL 33480, USA, (26...</td>\n",
       "      <td>(26.7010839, -80.0350665, 0.0)</td>\n",
       "      <td>26.701084</td>\n",
       "      <td>-80.035066</td>\n",
       "      <td>0.0</td>\n",
       "    </tr>\n",
       "  </tbody>\n",
       "</table>\n",
       "</div>"
      ],
      "text/plain": [
       "                                  full_address  \\\n",
       "0  1201 Brickell Bay Drive, Birckell Miami, FL   \n",
       "1     1221 Brickell Avenue, Brickell Miami, FL   \n",
       "2  1250 and 1260 Brickell Bay Drive, Miami, FL   \n",
       "3                 830 Brickell Plaza, Miami FL   \n",
       "4       200 South Biscayne Boulevard, Miami FL   \n",
       "5           151 Worth Avenue in Palm Beach, FL   \n",
       "\n",
       "                 purchased_or_leased  \\\n",
       "0         purchased for $363 million   \n",
       "1       purchased for $286.5 million   \n",
       "2         purchased for $20 million    \n",
       "3  leased roughly 95,000 square feet   \n",
       "4                             leased   \n",
       "5                             leased   \n",
       "\n",
       "                                         description  \\\n",
       "0  This is a 2.5-acre development site along the bay   \n",
       "1  If we include this, we would have to couch it ...   \n",
       "2  This is a small apartment building at 1250 Bri...   \n",
       "3                                                NaN   \n",
       "4  Citadel had an office there but it expanded it...   \n",
       "5  Citadel leased the former Neiman Marcus buildi...   \n",
       "\n",
       "                                          story_link  \\\n",
       "0  https://therealdeal.com/miami/2022/04/21/water...   \n",
       "1  https://therealdeal.com/miami/2022/06/24/rockp...   \n",
       "2  https://therealdeal.com/miami/2022/08/05/ken-g...   \n",
       "3  https://therealdeal.com/miami/2022/08/03/ken-g...   \n",
       "4  https://therealdeal.com/miami/2022/08/03/ken-g...   \n",
       "5  https://therealdeal.com/miami/2022/07/14/ken-g...   \n",
       "\n",
       "                                         image_links     short_description  \\\n",
       "0  https://s11.therealdeal.com/trd/m/up/2022/04/W...    purchased for $363   \n",
       "1  https://s14.therealdeal.com/trd/m/up/2022/06/m...  purchased for $286.5   \n",
       "2  https://s12.therealdeal.com/trd/m/up/2022/08/m...     purchased for $20   \n",
       "3  https://s11.therealdeal.com/trd/m/up/2022/08/K...        leased roughly   \n",
       "4  https://s11.therealdeal.com/trd/m/up/2022/08/K...                leased   \n",
       "5  https://therealdeal.com/miami/wp-content/uploa...                leased   \n",
       "\n",
       "        remaining_desc                                   description_link  \\\n",
       "0              million  <a href=\"https://therealdeal.com/miami/2022/04...   \n",
       "1              million  <a href=\"https://therealdeal.com/miami/2022/06...   \n",
       "2             million   <a href=\"https://therealdeal.com/miami/2022/08...   \n",
       "3   95,000 square feet  <a href=\"https://therealdeal.com/miami/2022/08...   \n",
       "4                       <a href=\"https://therealdeal.com/miami/2022/08...   \n",
       "5                       <a href=\"https://therealdeal.com/miami/2022/07...   \n",
       "\n",
       "                                   geo_address  \\\n",
       "0  1201 Brickell Bay Drive, Birckell Miami, FL   \n",
       "1     1221 Brickell Avenue, Brickell Miami, FL   \n",
       "2  1250 and 1260 Brickell Bay Drive, Miami, FL   \n",
       "3                 830 Brickell Plaza, Miami FL   \n",
       "4       200 South Biscayne Boulevard, Miami FL   \n",
       "5           151 Worth Avenue in Palm Beach, FL   \n",
       "\n",
       "                                                 loc  \\\n",
       "0  (1201 Brickell Bay Dr, Miami, FL 33131, USA, (...   \n",
       "1  (1221 Brickell Ave, Miami, FL 33131, USA, (25....   \n",
       "2  (1260 Brickell Bay Dr, Miami, FL 33131, USA, (...   \n",
       "3  (830 Brickell Plaza, Miami, FL 33131, USA, (25...   \n",
       "4  (200 S Biscayne Blvd, Miami, FL 33131, USA, (2...   \n",
       "5  (151 Worth Ave, Palm Beach, FL 33480, USA, (26...   \n",
       "\n",
       "                                   point        lat        lon  altitude  \n",
       "0  (25.7618982, -80.19118979999999, 0.0)  25.761898 -80.191190       0.0  \n",
       "1         (25.7612274, -80.1910809, 0.0)  25.761227 -80.191081       0.0  \n",
       "2           (25.761018, -80.190164, 0.0)  25.761018 -80.190164       0.0  \n",
       "3           (25.765873, -80.192504, 0.0)  25.765873 -80.192504       0.0  \n",
       "4  (25.7722422, -80.18773809999999, 0.0)  25.772242 -80.187738       0.0  \n",
       "5         (26.7010839, -80.0350665, 0.0)  26.701084 -80.035066       0.0  "
      ]
     },
     "execution_count": 12,
     "metadata": {},
     "output_type": "execute_result"
    }
   ],
   "source": [
    "df"
   ]
  },
  {
   "cell_type": "markdown",
   "metadata": {},
   "source": [
    "## Correction section"
   ]
  },
  {
   "cell_type": "code",
   "execution_count": 61,
   "metadata": {},
   "outputs": [],
   "source": [
    "# df.at[0,'Net decline in footprint, in sf']=('Almost 200K sf')\n",
    "# df.at[1,'Address(es) of space company vacated or plans to vacate, in sf']=('690 East Middlefield Road, Mountain View. Synopsys is subletting the entire building to Waymo.')\n",
    "\n",
    "### Change value to percent value\n",
    "### df['percent_change'] = pd.Series(['{0:.2f}%'.format(val) for val in df['percent_change']], index = df.index)"
   ]
  },
  {
   "cell_type": "markdown",
   "metadata": {},
   "source": [
    "## HTML popup formatter"
   ]
  },
  {
   "cell_type": "code",
   "execution_count": 13,
   "metadata": {},
   "outputs": [
    {
     "data": {
      "text/plain": [
       "Index(['full_address', 'purchased_or_leased', 'description', 'story_link',\n",
       "       'image_links', 'short_description', 'remaining_desc',\n",
       "       'description_link', 'geo_address', 'loc', 'point', 'lat', 'lon',\n",
       "       'altitude'],\n",
       "      dtype='object')"
      ]
     },
     "execution_count": 13,
     "metadata": {},
     "output_type": "execute_result"
    }
   ],
   "source": [
    "df.columns"
   ]
  },
  {
   "cell_type": "code",
   "execution_count": 14,
   "metadata": {},
   "outputs": [],
   "source": [
    "def popup_html(row):\n",
    "    i = row\n",
    "    address = df['full_address'].iloc[i]\n",
    "#     developer = df['developer'].iloc[i]\n",
    "    image = df['image_links'].iloc[i]\n",
    "    description = df['description_link'].iloc[i]\n",
    "    \n",
    "    html = '''<!DOCTYPE html>\n",
    "    <html>\n",
    "    <img src={} width=\"256\" height=\"156\">'''.format(image) + '''<br>______________________________________<br>\n",
    "    Address: <strong>{}'''.format(address) + '''</strong><br>\n",
    "    <strong>{}'''.format(description) + '''</strong><br>\n",
    "    </html>\n",
    "    '''\n",
    "    return html\n"
   ]
  },
  {
   "cell_type": "markdown",
   "metadata": {},
   "source": [
    "### HTML reservoir"
   ]
  },
  {
   "cell_type": "code",
   "execution_count": 64,
   "metadata": {},
   "outputs": [],
   "source": [
    "#     Developer(s): <strong><em>{}'''.format(developer) + '''</strong></em><br><br>"
   ]
  },
  {
   "cell_type": "markdown",
   "metadata": {},
   "source": [
    "## Map Maker"
   ]
  },
  {
   "cell_type": "code",
   "execution_count": 15,
   "metadata": {},
   "outputs": [
    {
     "data": {
      "text/plain": [
       "'<a href=\"https://therealdeal.com/miami/2022/04/21/waterfront-brickell-development-site-of-planned-supertalls-sells-for-record-363m/\" target=\"_blank\" rel=\"noopener noreferrer\">purchased for $363</a> million'"
      ]
     },
     "execution_count": 15,
     "metadata": {},
     "output_type": "execute_result"
    }
   ],
   "source": [
    "df.description_link[0]"
   ]
  },
  {
   "cell_type": "code",
   "execution_count": 16,
   "metadata": {},
   "outputs": [
    {
     "data": {
      "text/html": [
       "<div style=\"width:100%;\"><div style=\"position:relative;width:100%;height:0;padding-bottom:60%;\"><span style=\"color:#565656\">Make this Notebook Trusted to load map: File -> Trust Notebook</span><iframe srcdoc=\"&lt;!DOCTYPE html&gt;\n",
       "&lt;head&gt;    \n",
       "    &lt;meta http-equiv=&quot;content-type&quot; content=&quot;text/html; charset=UTF-8&quot; /&gt;\n",
       "    \n",
       "        &lt;script&gt;\n",
       "            L_NO_TOUCH = false;\n",
       "            L_DISABLE_3D = false;\n",
       "        &lt;/script&gt;\n",
       "    \n",
       "    &lt;style&gt;html, body {width: 100%;height: 100%;margin: 0;padding: 0;}&lt;/style&gt;\n",
       "    &lt;style&gt;#map {position:absolute;top:0;bottom:0;right:0;left:0;}&lt;/style&gt;\n",
       "    &lt;script src=&quot;https://cdn.jsdelivr.net/npm/leaflet@1.6.0/dist/leaflet.js&quot;&gt;&lt;/script&gt;\n",
       "    &lt;script src=&quot;https://code.jquery.com/jquery-1.12.4.min.js&quot;&gt;&lt;/script&gt;\n",
       "    &lt;script src=&quot;https://maxcdn.bootstrapcdn.com/bootstrap/3.2.0/js/bootstrap.min.js&quot;&gt;&lt;/script&gt;\n",
       "    &lt;script src=&quot;https://cdnjs.cloudflare.com/ajax/libs/Leaflet.awesome-markers/2.0.2/leaflet.awesome-markers.js&quot;&gt;&lt;/script&gt;\n",
       "    &lt;link rel=&quot;stylesheet&quot; href=&quot;https://cdn.jsdelivr.net/npm/leaflet@1.6.0/dist/leaflet.css&quot;/&gt;\n",
       "    &lt;link rel=&quot;stylesheet&quot; href=&quot;https://maxcdn.bootstrapcdn.com/bootstrap/3.2.0/css/bootstrap.min.css&quot;/&gt;\n",
       "    &lt;link rel=&quot;stylesheet&quot; href=&quot;https://maxcdn.bootstrapcdn.com/bootstrap/3.2.0/css/bootstrap-theme.min.css&quot;/&gt;\n",
       "    &lt;link rel=&quot;stylesheet&quot; href=&quot;https://maxcdn.bootstrapcdn.com/font-awesome/4.6.3/css/font-awesome.min.css&quot;/&gt;\n",
       "    &lt;link rel=&quot;stylesheet&quot; href=&quot;https://cdnjs.cloudflare.com/ajax/libs/Leaflet.awesome-markers/2.0.2/leaflet.awesome-markers.css&quot;/&gt;\n",
       "    &lt;link rel=&quot;stylesheet&quot; href=&quot;https://cdn.jsdelivr.net/gh/python-visualization/folium/folium/templates/leaflet.awesome.rotate.min.css&quot;/&gt;\n",
       "    \n",
       "            &lt;meta name=&quot;viewport&quot; content=&quot;width=device-width,\n",
       "                initial-scale=1.0, maximum-scale=1.0, user-scalable=no&quot; /&gt;\n",
       "            &lt;style&gt;\n",
       "                #map_4900a41373b25565e143b1cb287477d2 {\n",
       "                    position: relative;\n",
       "                    width: 100.0%;\n",
       "                    height: 100.0%;\n",
       "                    left: 0.0%;\n",
       "                    top: 0.0%;\n",
       "                }\n",
       "            &lt;/style&gt;\n",
       "        \n",
       "&lt;/head&gt;\n",
       "&lt;body&gt;    \n",
       "    \n",
       "              &lt;h3 align=&quot;center&quot; style=&quot;font-size:16px&quot;&gt;&lt;b&gt;Bay Harbor Islands Resi Projects&lt;/b&gt;&lt;/h3&gt;\n",
       "             \n",
       "    \n",
       "            &lt;div class=&quot;folium-map&quot; id=&quot;map_4900a41373b25565e143b1cb287477d2&quot; &gt;&lt;/div&gt;\n",
       "        \n",
       "&lt;/body&gt;\n",
       "&lt;script&gt;    \n",
       "    \n",
       "            var map_4900a41373b25565e143b1cb287477d2 = L.map(\n",
       "                &quot;map_4900a41373b25565e143b1cb287477d2&quot;,\n",
       "                {\n",
       "                    center: [25.920557116666668, -80.16462388333332],\n",
       "                    crs: L.CRS.EPSG3857,\n",
       "                    zoom: 15,\n",
       "                    zoomControl: true,\n",
       "                    preferCanvas: false,\n",
       "                }\n",
       "            );\n",
       "\n",
       "            \n",
       "\n",
       "        \n",
       "    \n",
       "            var tile_layer_e5a35f94d4bbf136e00e4c1b210a6dcb = L.tileLayer(\n",
       "                &quot;https://{s}.tile.openstreetmap.org/{z}/{x}/{y}.png&quot;,\n",
       "                {&quot;attribution&quot;: &quot;Data by \\u0026copy; \\u003ca href=\\&quot;http://openstreetmap.org\\&quot;\\u003eOpenStreetMap\\u003c/a\\u003e, under \\u003ca href=\\&quot;http://www.openstreetmap.org/copyright\\&quot;\\u003eODbL\\u003c/a\\u003e.&quot;, &quot;detectRetina&quot;: false, &quot;maxNativeZoom&quot;: 18, &quot;maxZoom&quot;: 18, &quot;minZoom&quot;: 0, &quot;noWrap&quot;: false, &quot;opacity&quot;: 1, &quot;subdomains&quot;: &quot;abc&quot;, &quot;tms&quot;: false}\n",
       "            ).addTo(map_4900a41373b25565e143b1cb287477d2);\n",
       "        \n",
       "    \n",
       "            var marker_0e98d268e7265d90752809796541b068 = L.marker(\n",
       "                [25.7618982, -80.19118979999999],\n",
       "                {}\n",
       "            ).addTo(map_4900a41373b25565e143b1cb287477d2);\n",
       "        \n",
       "    \n",
       "        var popup_620959093a15bb3ad245c118be09468a = L.popup({&quot;maxWidth&quot;: &quot;100%&quot;});\n",
       "\n",
       "        \n",
       "            var html_f58e5420a2d4ca544a2ab24c4680d2ec = $(`&lt;div id=&quot;html_f58e5420a2d4ca544a2ab24c4680d2ec&quot; style=&quot;width: 100.0%; height: 100.0%;&quot;&gt;&lt;!DOCTYPE html&gt;     &lt;html&gt;     &lt;img src=https://s11.therealdeal.com/trd/m/up/2022/04/Waterfront-Brickell-site-of-planned-supertalls-sells-for-over-360M-in-record-sale-3-705x431.jpg width=&quot;256&quot; height=&quot;156&quot;&gt;&lt;br&gt;______________________________________&lt;br&gt;     Address: &lt;strong&gt;1201 Brickell Bay Drive, Birckell Miami, FL&lt;/strong&gt;&lt;br&gt;     &lt;strong&gt;&lt;a href=&quot;https://therealdeal.com/miami/2022/04/21/waterfront-brickell-development-site-of-planned-supertalls-sells-for-record-363m/&quot; target=&quot;_blank&quot; rel=&quot;noopener noreferrer&quot;&gt;purchased for $363&lt;/a&gt; million&lt;/strong&gt;&lt;br&gt;     &lt;/html&gt;     &lt;/div&gt;`)[0];\n",
       "            popup_620959093a15bb3ad245c118be09468a.setContent(html_f58e5420a2d4ca544a2ab24c4680d2ec);\n",
       "        \n",
       "\n",
       "        marker_0e98d268e7265d90752809796541b068.bindPopup(popup_620959093a15bb3ad245c118be09468a)\n",
       "        ;\n",
       "\n",
       "        \n",
       "    \n",
       "    \n",
       "            var marker_c33da20160df5f1aa20f5f64f4a679a7 = L.marker(\n",
       "                [25.7612274, -80.1910809],\n",
       "                {}\n",
       "            ).addTo(map_4900a41373b25565e143b1cb287477d2);\n",
       "        \n",
       "    \n",
       "        var popup_8af4759cecfeb2fc082a7dc316870fd6 = L.popup({&quot;maxWidth&quot;: &quot;100%&quot;});\n",
       "\n",
       "        \n",
       "            var html_bb02545bceb027d0b1598102f5ca6267 = $(`&lt;div id=&quot;html_bb02545bceb027d0b1598102f5ca6267&quot; style=&quot;width: 100.0%; height: 100.0%;&quot;&gt;&lt;!DOCTYPE html&gt;     &lt;html&gt;     &lt;img src=https://s14.therealdeal.com/trd/m/up/2022/06/main_MIA_Brickell-705x439.jpg width=&quot;256&quot; height=&quot;156&quot;&gt;&lt;br&gt;______________________________________&lt;br&gt;     Address: &lt;strong&gt;1221 Brickell Avenue, Brickell Miami, FL&lt;/strong&gt;&lt;br&gt;     &lt;strong&gt;&lt;a href=&quot;https://therealdeal.com/miami/2022/06/24/rockpoint-sells-1221-brickell-office-tower-for-287m-marking-a-six-year-record/&quot; target=&quot;_blank&quot; rel=&quot;noopener noreferrer&quot;&gt;purchased for $286.5&lt;/a&gt; million&lt;/strong&gt;&lt;br&gt;     &lt;/html&gt;     &lt;/div&gt;`)[0];\n",
       "            popup_8af4759cecfeb2fc082a7dc316870fd6.setContent(html_bb02545bceb027d0b1598102f5ca6267);\n",
       "        \n",
       "\n",
       "        marker_c33da20160df5f1aa20f5f64f4a679a7.bindPopup(popup_8af4759cecfeb2fc082a7dc316870fd6)\n",
       "        ;\n",
       "\n",
       "        \n",
       "    \n",
       "    \n",
       "            var marker_1d2d66d100a321d8b9d9b5657dd800b2 = L.marker(\n",
       "                [25.761018, -80.190164],\n",
       "                {}\n",
       "            ).addTo(map_4900a41373b25565e143b1cb287477d2);\n",
       "        \n",
       "    \n",
       "        var popup_641cd0224f2680f3ff14b47145fb875c = L.popup({&quot;maxWidth&quot;: &quot;100%&quot;});\n",
       "\n",
       "        \n",
       "            var html_7dce243999cd3d13ad2a021f51123d2f = $(`&lt;div id=&quot;html_7dce243999cd3d13ad2a021f51123d2f&quot; style=&quot;width: 100.0%; height: 100.0%;&quot;&gt;&lt;!DOCTYPE html&gt;     &lt;html&gt;     &lt;img src=https://s12.therealdeal.com/trd/m/up/2022/08/main_MIA_Citadel.jpg width=&quot;256&quot; height=&quot;156&quot;&gt;&lt;br&gt;______________________________________&lt;br&gt;     Address: &lt;strong&gt;1250 and 1260 Brickell Bay Drive, Miami, FL&lt;/strong&gt;&lt;br&gt;     &lt;strong&gt;&lt;a href=&quot;https://therealdeal.com/miami/2022/08/05/ken-griffins-brickell-takeover-citadel-adds-to-its-properties-with-20m-purchase/&quot; target=&quot;_blank&quot; rel=&quot;noopener noreferrer&quot;&gt;purchased for $20&lt;/a&gt; million &lt;/strong&gt;&lt;br&gt;     &lt;/html&gt;     &lt;/div&gt;`)[0];\n",
       "            popup_641cd0224f2680f3ff14b47145fb875c.setContent(html_7dce243999cd3d13ad2a021f51123d2f);\n",
       "        \n",
       "\n",
       "        marker_1d2d66d100a321d8b9d9b5657dd800b2.bindPopup(popup_641cd0224f2680f3ff14b47145fb875c)\n",
       "        ;\n",
       "\n",
       "        \n",
       "    \n",
       "    \n",
       "            var marker_749a47dc74c6f36f0cb60a69a3e6c99c = L.marker(\n",
       "                [25.765873, -80.192504],\n",
       "                {}\n",
       "            ).addTo(map_4900a41373b25565e143b1cb287477d2);\n",
       "        \n",
       "    \n",
       "        var popup_4670101cbece10dc17bed65f3ed7be57 = L.popup({&quot;maxWidth&quot;: &quot;100%&quot;});\n",
       "\n",
       "        \n",
       "            var html_fa6785f1c77e9fcd03714d96439272d2 = $(`&lt;div id=&quot;html_fa6785f1c77e9fcd03714d96439272d2&quot; style=&quot;width: 100.0%; height: 100.0%;&quot;&gt;&lt;!DOCTYPE html&gt;     &lt;html&gt;     &lt;img src=https://s11.therealdeal.com/trd/m/up/2022/08/Ken-Griffins-Citadel-leases-at-830-Brickell-705x466.jpg width=&quot;256&quot; height=&quot;156&quot;&gt;&lt;br&gt;______________________________________&lt;br&gt;     Address: &lt;strong&gt;830 Brickell Plaza, Miami FL&lt;/strong&gt;&lt;br&gt;     &lt;strong&gt;&lt;a href=&quot;https://therealdeal.com/miami/2022/08/03/ken-griffins-citadel-leases-at-830-brickell-office-tower-in-miami/&quot; target=&quot;_blank&quot; rel=&quot;noopener noreferrer&quot;&gt;leased roughly&lt;/a&gt; 95,000 square feet&lt;/strong&gt;&lt;br&gt;     &lt;/html&gt;     &lt;/div&gt;`)[0];\n",
       "            popup_4670101cbece10dc17bed65f3ed7be57.setContent(html_fa6785f1c77e9fcd03714d96439272d2);\n",
       "        \n",
       "\n",
       "        marker_749a47dc74c6f36f0cb60a69a3e6c99c.bindPopup(popup_4670101cbece10dc17bed65f3ed7be57)\n",
       "        ;\n",
       "\n",
       "        \n",
       "    \n",
       "    \n",
       "            var marker_0a4ebab191b47f27a812b83c4bab56e1 = L.marker(\n",
       "                [25.7722422, -80.18773809999999],\n",
       "                {}\n",
       "            ).addTo(map_4900a41373b25565e143b1cb287477d2);\n",
       "        \n",
       "    \n",
       "        var popup_1b9106265c784aef52f04422936ac8dd = L.popup({&quot;maxWidth&quot;: &quot;100%&quot;});\n",
       "\n",
       "        \n",
       "            var html_c0d05d552710f295dc8a757aef6c349d = $(`&lt;div id=&quot;html_c0d05d552710f295dc8a757aef6c349d&quot; style=&quot;width: 100.0%; height: 100.0%;&quot;&gt;&lt;!DOCTYPE html&gt;     &lt;html&gt;     &lt;img src=https://s11.therealdeal.com/trd/m/up/2022/08/Ken-Griffins-Citadel-leases-at-830-Brickell-705x466.jpg width=&quot;256&quot; height=&quot;156&quot;&gt;&lt;br&gt;______________________________________&lt;br&gt;     Address: &lt;strong&gt;200 South Biscayne Boulevard, Miami FL&lt;/strong&gt;&lt;br&gt;     &lt;strong&gt;&lt;a href=&quot;https://therealdeal.com/miami/2022/08/03/ken-griffins-citadel-leases-at-830-brickell-office-tower-in-miami/&quot; target=&quot;_blank&quot; rel=&quot;noopener noreferrer&quot;&gt;leased&lt;/a&gt;&lt;/strong&gt;&lt;br&gt;     &lt;/html&gt;     &lt;/div&gt;`)[0];\n",
       "            popup_1b9106265c784aef52f04422936ac8dd.setContent(html_c0d05d552710f295dc8a757aef6c349d);\n",
       "        \n",
       "\n",
       "        marker_0a4ebab191b47f27a812b83c4bab56e1.bindPopup(popup_1b9106265c784aef52f04422936ac8dd)\n",
       "        ;\n",
       "\n",
       "        \n",
       "    \n",
       "    \n",
       "            var marker_0efaebc8b0ad59d01e5d05b305fe5379 = L.marker(\n",
       "                [26.7010839, -80.0350665],\n",
       "                {}\n",
       "            ).addTo(map_4900a41373b25565e143b1cb287477d2);\n",
       "        \n",
       "    \n",
       "        var popup_64e7a6dbfcfd5aba0185828f61d699d7 = L.popup({&quot;maxWidth&quot;: &quot;100%&quot;});\n",
       "\n",
       "        \n",
       "            var html_e8c7ee097afe2ae1c7bd3c5009028cdb = $(`&lt;div id=&quot;html_e8c7ee097afe2ae1c7bd3c5009028cdb&quot; style=&quot;width: 100.0%; height: 100.0%;&quot;&gt;&lt;!DOCTYPE html&gt;     &lt;html&gt;     &lt;img src=https://therealdeal.com/miami/wp-content/uploads/2022/07/Main-citadel-705x439.jpg width=&quot;256&quot; height=&quot;156&quot;&gt;&lt;br&gt;______________________________________&lt;br&gt;     Address: &lt;strong&gt;151 Worth Avenue in Palm Beach, FL&lt;/strong&gt;&lt;br&gt;     &lt;strong&gt;&lt;a href=&quot;https://therealdeal.com/miami/2022/07/14/ken-griffins-south-florida-state-of-mind-citadel-to-open-palm-beach-office/&quot; target=&quot;_blank&quot; rel=&quot;noopener noreferrer&quot;&gt;leased&lt;/a&gt;&lt;/strong&gt;&lt;br&gt;     &lt;/html&gt;     &lt;/div&gt;`)[0];\n",
       "            popup_64e7a6dbfcfd5aba0185828f61d699d7.setContent(html_e8c7ee097afe2ae1c7bd3c5009028cdb);\n",
       "        \n",
       "\n",
       "        marker_0efaebc8b0ad59d01e5d05b305fe5379.bindPopup(popup_64e7a6dbfcfd5aba0185828f61d699d7)\n",
       "        ;\n",
       "\n",
       "        \n",
       "    \n",
       "    \n",
       "            map_4900a41373b25565e143b1cb287477d2.fitBounds(\n",
       "                [25.920557116666668, -80.16462388333332],\n",
       "                {&quot;maxZoom&quot;: 15}\n",
       "            );\n",
       "        \n",
       "&lt;/script&gt;\" style=\"position:absolute;width:100%;height:100%;left:0;top:0;border:none !important;\" allowfullscreen webkitallowfullscreen mozallowfullscreen></iframe></div></div>"
      ],
      "text/plain": [
       "<folium.folium.Map at 0x10680d120>"
      ]
     },
     "execution_count": 16,
     "metadata": {},
     "output_type": "execute_result"
    }
   ],
   "source": [
    "import folium\n",
    "import branca\n",
    "\n",
    "f = folium.Figure(width=750, height=750)\n",
    "m = folium.Map(location=df[[\"lat\", \"lon\"]].mean().to_list(),zoom_start=15)\n",
    "\n",
    "title_html = '''\n",
    "              <h3 align=\"center\" style=\"font-size:16px\"><b>{}</b></h3>\n",
    "             '''.format(f'Bay Harbor Islands Resi Projects')\n",
    "\n",
    "for i in range(0,len(df)):\n",
    "    html = popup_html(i)\n",
    "    iframe = branca.element.IFrame(html=html)\n",
    "    popup = folium.Popup(folium.Html(html, script=True))\n",
    "    folium.Marker([df['lat'].iloc[i],df['lon'].iloc[i]],\n",
    "                 popup=popup).add_to(m)\n",
    "\n",
    "m.get_root().html.add_child(folium.Element(title_html))\n",
    "m.fit_bounds(bounds=df[['lat','lon']].mean().to_list(),max_zoom=15)\n",
    "# m.add_to(f)\n",
    "m"
   ]
  },
  {
   "cell_type": "code",
   "execution_count": 71,
   "metadata": {},
   "outputs": [],
   "source": [
    "m.save('index.html')"
   ]
  },
  {
   "cell_type": "markdown",
   "metadata": {},
   "source": [
    "## Map URL snagger"
   ]
  },
  {
   "cell_type": "markdown",
   "metadata": {},
   "source": [
    "Map template URL: `https://trd-digital.github.io/trd-news-interactive-maps/{map-folder-name}`"
   ]
  },
  {
   "cell_type": "code",
   "execution_count": 68,
   "metadata": {},
   "outputs": [],
   "source": [
    "base_name = 'https://trd-digital.github.io/trd-news-interactive-maps/'"
   ]
  },
  {
   "cell_type": "code",
   "execution_count": 69,
   "metadata": {},
   "outputs": [
    {
     "name": "stdout",
     "output_type": "stream",
     "text": [
      "https://trd-digital.github.io/trd-news-interactive-maps/Bay_Harbor_Resi_pipeline\n"
     ]
    }
   ],
   "source": [
    "cwd = os.getcwd()\n",
    "\n",
    "cwd = cwd.split('/')\n",
    "\n",
    "final_name = base_name + cwd[-1]\n",
    "print(final_name)"
   ]
  }
 ],
 "metadata": {
  "kernelspec": {
   "display_name": "Python 3 (ipykernel)",
   "language": "python",
   "name": "python3"
  },
  "language_info": {
   "codemirror_mode": {
    "name": "ipython",
    "version": 3
   },
   "file_extension": ".py",
   "mimetype": "text/x-python",
   "name": "python",
   "nbconvert_exporter": "python",
   "pygments_lexer": "ipython3",
   "version": "3.10.3"
  },
  "toc": {
   "base_numbering": 1,
   "nav_menu": {},
   "number_sections": true,
   "sideBar": true,
   "skip_h1_title": false,
   "title_cell": "Table of Contents",
   "title_sidebar": "Contents",
   "toc_cell": false,
   "toc_position": {},
   "toc_section_display": true,
   "toc_window_display": false
  }
 },
 "nbformat": 4,
 "nbformat_minor": 4
}
