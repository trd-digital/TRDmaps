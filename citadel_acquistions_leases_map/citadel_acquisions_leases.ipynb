{
 "cells": [
  {
   "cell_type": "markdown",
   "metadata": {},
   "source": [
    "## Imports"
   ]
  },
  {
   "cell_type": "code",
   "execution_count": 17,
   "metadata": {},
   "outputs": [],
   "source": [
    "from geopy.geocoders import GoogleV3\n",
    "from bs4 import BeautifulSoup\n",
    "import requests\n",
    "import time\n",
    "import pandas as pd\n",
    "import numpy as np\n",
    "import urllib3\n",
    "import re\n",
    "from textwrap import shorten\n",
    "import os"
   ]
  },
  {
   "cell_type": "code",
   "execution_count": 18,
   "metadata": {},
   "outputs": [],
   "source": [
    "df = pd.read_csv('citadel_acquisition_and_leases_map - Sheet1.csv')"
   ]
  },
  {
   "cell_type": "markdown",
   "metadata": {},
   "source": [
    "## Image URL collector"
   ]
  },
  {
   "cell_type": "code",
   "execution_count": 19,
   "metadata": {},
   "outputs": [],
   "source": [
    "# Drop last n rows of a df. In case there are sums that need clipped\n",
    "# df.drop(df.tail(n).index, inplace=True)"
   ]
  },
  {
   "cell_type": "code",
   "execution_count": null,
   "metadata": {},
   "outputs": [],
   "source": []
  },
  {
   "cell_type": "code",
   "execution_count": null,
   "metadata": {},
   "outputs": [],
   "source": []
  },
  {
   "cell_type": "code",
   "execution_count": 20,
   "metadata": {},
   "outputs": [],
   "source": [
    "df['image_links'] = ''\n",
    "links = []\n",
    "for url in df['story_link']:\n",
    "    try:\n",
    "        page = requests.get(url)\n",
    "        soup = BeautifulSoup(page.content, 'html.parser')\n",
    "        images = soup.find_all('img')\n",
    "        counter = 0\n",
    "        for image in images:\n",
    "            counter += 1\n",
    "            if 'jpg' in image['src']:\n",
    "                links.append(image['src'])\n",
    "                if counter == len(images):\n",
    "                    links.append('no image found')\n",
    "                break\n",
    "    except:\n",
    "        links.append('no_image')\n",
    "\n",
    "df['image_links'] = links"
   ]
  },
  {
   "cell_type": "code",
   "execution_count": 21,
   "metadata": {},
   "outputs": [
    {
     "data": {
      "text/plain": [
       "6"
      ]
     },
     "execution_count": 21,
     "metadata": {},
     "output_type": "execute_result"
    }
   ],
   "source": [
    "len(links)"
   ]
  },
  {
   "cell_type": "markdown",
   "metadata": {},
   "source": [
    "## Article link formatter"
   ]
  },
  {
   "cell_type": "code",
   "execution_count": 37,
   "metadata": {},
   "outputs": [
    {
     "data": {
      "text/plain": [
       "0    <a href=\"https://therealdeal.com/miami/2022/04...\n",
       "1    <a href=\"https://therealdeal.com/miami/2022/06...\n",
       "2    <a href=\"https://therealdeal.com/miami/2022/08...\n",
       "3    <a href=\"https://therealdeal.com/miami/2022/08...\n",
       "4    <a href=\"https://therealdeal.com/miami/2022/08...\n",
       "5    <a href=\"https://therealdeal.com/miami/2022/07...\n",
       "Name: description_link, dtype: object"
      ]
     },
     "execution_count": 37,
     "metadata": {},
     "output_type": "execute_result"
    }
   ],
   "source": [
    "df[\"short_description\"] = df[\"description\"].apply(lambda s: shorten(s, width=20, placeholder=\"\"))\n",
    "df['remaining_desc'] = df.apply(lambda row : row['description'].replace(str(row['short_description']), ''), axis=1)\n",
    "df['remaining_desc']\n",
    "\n",
    "df[\"description_link\"] = '<a href=\"' + df[\"story_link\"] + '\" target=\"_blank\" rel=\"noopener noreferrer\">' + df[\"short_description\"] + \"</a>\" + df[\"remaining_desc\"]\n",
    "df['description_link']"
   ]
  },
  {
   "cell_type": "code",
   "execution_count": 23,
   "metadata": {},
   "outputs": [
    {
     "data": {
      "text/plain": [
       "'<a href=\"https://therealdeal.com/miami/2022/04/21/waterfront-brickell-development-site-of-planned-supertalls-sells-for-record-363m/\" target=\"_blank\" rel=\"noopener noreferrer\">purchased for $363</a> million'"
      ]
     },
     "execution_count": 23,
     "metadata": {},
     "output_type": "execute_result"
    }
   ],
   "source": [
    "df.description_link[0]"
   ]
  },
  {
   "cell_type": "markdown",
   "metadata": {},
   "source": [
    "## Google Maps API Geolocater Setup"
   ]
  },
  {
   "cell_type": "code",
   "execution_count": 24,
   "metadata": {},
   "outputs": [],
   "source": [
    "%store -r google_maps_API_Key\n",
    "geolocator = GoogleV3(api_key=google_maps_API_Key)"
   ]
  },
  {
   "cell_type": "code",
   "execution_count": 25,
   "metadata": {},
   "outputs": [],
   "source": [
    "df['geo_address'] = df['full_address']\n",
    "df['loc'] = df['geo_address'].apply(geolocator.geocode, timeout=10)\n",
    "df['point'] = df['loc'].apply(lambda loc: tuple(loc.point) if loc else None)\n",
    "df[['lat','lon','altitude']] = pd.DataFrame(df['point'].to_list(),index=df.index)"
   ]
  },
  {
   "cell_type": "markdown",
   "metadata": {},
   "source": [
    "## Correction Section"
   ]
  },
  {
   "cell_type": "code",
   "execution_count": 26,
   "metadata": {},
   "outputs": [
    {
     "data": {
      "text/plain": [
       "Index(['full_address', 'purchased_or_leased',\n",
       "       'total_amt_reportedly_spent_on_purchases', 'story_date', 'description',\n",
       "       'story_link', 'Lidia's Notes', 'image_links', 'short_description',\n",
       "       'remaining_desc', 'description_link', 'geo_address', 'loc', 'point',\n",
       "       'lat', 'lon', 'altitude'],\n",
       "      dtype='object')"
      ]
     },
     "execution_count": 26,
     "metadata": {},
     "output_type": "execute_result"
    }
   ],
   "source": [
    "df.columns"
   ]
  },
  {
   "cell_type": "code",
   "execution_count": 27,
   "metadata": {},
   "outputs": [
    {
     "data": {
      "text/html": [
       "<div>\n",
       "<style scoped>\n",
       "    .dataframe tbody tr th:only-of-type {\n",
       "        vertical-align: middle;\n",
       "    }\n",
       "\n",
       "    .dataframe tbody tr th {\n",
       "        vertical-align: top;\n",
       "    }\n",
       "\n",
       "    .dataframe thead th {\n",
       "        text-align: right;\n",
       "    }\n",
       "</style>\n",
       "<table border=\"1\" class=\"dataframe\">\n",
       "  <thead>\n",
       "    <tr style=\"text-align: right;\">\n",
       "      <th></th>\n",
       "      <th>full_address</th>\n",
       "      <th>purchased_or_leased</th>\n",
       "      <th>total_amt_reportedly_spent_on_purchases</th>\n",
       "      <th>story_date</th>\n",
       "      <th>description</th>\n",
       "      <th>story_link</th>\n",
       "      <th>Lidia's Notes</th>\n",
       "      <th>image_links</th>\n",
       "      <th>short_description</th>\n",
       "      <th>remaining_desc</th>\n",
       "      <th>description_link</th>\n",
       "      <th>geo_address</th>\n",
       "      <th>loc</th>\n",
       "      <th>point</th>\n",
       "      <th>lat</th>\n",
       "      <th>lon</th>\n",
       "      <th>altitude</th>\n",
       "    </tr>\n",
       "  </thead>\n",
       "  <tbody>\n",
       "    <tr>\n",
       "      <th>0</th>\n",
       "      <td>1201 Brickell Bay Drive, Birckell Miami, FL</td>\n",
       "      <td>purchased for $363 million</td>\n",
       "      <td>363000000.0</td>\n",
       "      <td>04/21/22</td>\n",
       "      <td>This is a 2.5-acre development site along the ...</td>\n",
       "      <td>https://therealdeal.com/miami/2022/04/21/water...</td>\n",
       "      <td>This is a 2.5-acre development site along the bay</td>\n",
       "      <td>https://s11.therealdeal.com/trd/m/up/2022/04/W...</td>\n",
       "      <td>purchased for $363</td>\n",
       "      <td>million</td>\n",
       "      <td>&lt;a href=\"https://therealdeal.com/miami/2022/04...</td>\n",
       "      <td>1201 Brickell Bay Drive, Birckell Miami, FL</td>\n",
       "      <td>(1201 Brickell Bay Dr, Miami, FL 33131, USA, (...</td>\n",
       "      <td>(25.7618982, -80.19118979999999, 0.0)</td>\n",
       "      <td>25.761898</td>\n",
       "      <td>-80.191190</td>\n",
       "      <td>0.0</td>\n",
       "    </tr>\n",
       "    <tr>\n",
       "      <th>1</th>\n",
       "      <td>1221 Brickell Avenue, Brickell Miami, FL</td>\n",
       "      <td>purchased for $286.5 million</td>\n",
       "      <td>286500000.0</td>\n",
       "      <td>06/24/22</td>\n",
       "      <td>Boston-based Rockpoint sold this 28-story buil...</td>\n",
       "      <td>https://therealdeal.com/miami/2022/06/24/rockp...</td>\n",
       "      <td>If we include this, we would have to couch it ...</td>\n",
       "      <td>https://s14.therealdeal.com/trd/m/up/2022/06/m...</td>\n",
       "      <td>purchased for $286.5</td>\n",
       "      <td>million</td>\n",
       "      <td>&lt;a href=\"https://therealdeal.com/miami/2022/06...</td>\n",
       "      <td>1221 Brickell Avenue, Brickell Miami, FL</td>\n",
       "      <td>(1221 Brickell Ave, Miami, FL 33131, USA, (25....</td>\n",
       "      <td>(25.7612274, -80.1910809, 0.0)</td>\n",
       "      <td>25.761227</td>\n",
       "      <td>-80.191081</td>\n",
       "      <td>0.0</td>\n",
       "    </tr>\n",
       "    <tr>\n",
       "      <th>2</th>\n",
       "      <td>1250 and 1260 Brickell Bay Drive, Miami, FL</td>\n",
       "      <td>purchased for $20 million</td>\n",
       "      <td>20000000.0</td>\n",
       "      <td>08/05/22</td>\n",
       "      <td>Citadel COO Gerald Beeson, using an entity he ...</td>\n",
       "      <td>https://therealdeal.com/miami/2022/08/05/ken-g...</td>\n",
       "      <td>This is a small apartment building at 1250 Bri...</td>\n",
       "      <td>https://s12.therealdeal.com/trd/m/up/2022/08/m...</td>\n",
       "      <td>purchased for $20</td>\n",
       "      <td>million</td>\n",
       "      <td>&lt;a href=\"https://therealdeal.com/miami/2022/08...</td>\n",
       "      <td>1250 and 1260 Brickell Bay Drive, Miami, FL</td>\n",
       "      <td>(1260 Brickell Bay Dr, Miami, FL 33131, USA, (...</td>\n",
       "      <td>(25.761018, -80.190164, 0.0)</td>\n",
       "      <td>25.761018</td>\n",
       "      <td>-80.190164</td>\n",
       "      <td>0.0</td>\n",
       "    </tr>\n",
       "    <tr>\n",
       "      <th>3</th>\n",
       "      <td>830 Brickell Plaza, Miami FL</td>\n",
       "      <td>leased roughly 95,000 square feet</td>\n",
       "      <td>NaN</td>\n",
       "      <td>08/03/22</td>\n",
       "      <td>Less than two months after billionaire Ken Gri...</td>\n",
       "      <td>https://therealdeal.com/miami/2022/08/03/ken-g...</td>\n",
       "      <td>NaN</td>\n",
       "      <td>https://s11.therealdeal.com/trd/m/up/2022/08/K...</td>\n",
       "      <td>leased roughly</td>\n",
       "      <td>95,000 square feet</td>\n",
       "      <td>&lt;a href=\"https://therealdeal.com/miami/2022/08...</td>\n",
       "      <td>830 Brickell Plaza, Miami FL</td>\n",
       "      <td>(830 Brickell Plaza, Miami, FL 33131, USA, (25...</td>\n",
       "      <td>(25.765873, -80.192504, 0.0)</td>\n",
       "      <td>25.765873</td>\n",
       "      <td>-80.192504</td>\n",
       "      <td>0.0</td>\n",
       "    </tr>\n",
       "    <tr>\n",
       "      <th>4</th>\n",
       "      <td>200 South Biscayne Boulevard, Miami FL</td>\n",
       "      <td>leased</td>\n",
       "      <td>NaN</td>\n",
       "      <td>08/03/22</td>\n",
       "      <td>Citadel is expanding its space at the Southeas...</td>\n",
       "      <td>https://therealdeal.com/miami/2022/08/03/ken-g...</td>\n",
       "      <td>Citadel had an office there but it expanded it...</td>\n",
       "      <td>https://s11.therealdeal.com/trd/m/up/2022/08/K...</td>\n",
       "      <td>leased</td>\n",
       "      <td></td>\n",
       "      <td>&lt;a href=\"https://therealdeal.com/miami/2022/08...</td>\n",
       "      <td>200 South Biscayne Boulevard, Miami FL</td>\n",
       "      <td>(200 S Biscayne Blvd, Miami, FL 33131, USA, (2...</td>\n",
       "      <td>(25.7722422, -80.18773809999999, 0.0)</td>\n",
       "      <td>25.772242</td>\n",
       "      <td>-80.187738</td>\n",
       "      <td>0.0</td>\n",
       "    </tr>\n",
       "    <tr>\n",
       "      <th>5</th>\n",
       "      <td>151 Worth Avenue in Palm Beach, FL</td>\n",
       "      <td>leased</td>\n",
       "      <td>NaN</td>\n",
       "      <td>07/14/22</td>\n",
       "      <td>Citadel took over the former Neiman Marcus bui...</td>\n",
       "      <td>https://therealdeal.com/miami/2022/07/14/ken-g...</td>\n",
       "      <td>Citadel leased the former Neiman Marcus buildi...</td>\n",
       "      <td>https://s13.therealdeal.com/trd/m/up/2022/07/M...</td>\n",
       "      <td>leased</td>\n",
       "      <td></td>\n",
       "      <td>&lt;a href=\"https://therealdeal.com/miami/2022/07...</td>\n",
       "      <td>151 Worth Avenue in Palm Beach, FL</td>\n",
       "      <td>(151 Worth Ave, Palm Beach, FL 33480, USA, (26...</td>\n",
       "      <td>(26.7010839, -80.0350665, 0.0)</td>\n",
       "      <td>26.701084</td>\n",
       "      <td>-80.035066</td>\n",
       "      <td>0.0</td>\n",
       "    </tr>\n",
       "  </tbody>\n",
       "</table>\n",
       "</div>"
      ],
      "text/plain": [
       "                                  full_address  \\\n",
       "0  1201 Brickell Bay Drive, Birckell Miami, FL   \n",
       "1     1221 Brickell Avenue, Brickell Miami, FL   \n",
       "2  1250 and 1260 Brickell Bay Drive, Miami, FL   \n",
       "3                 830 Brickell Plaza, Miami FL   \n",
       "4       200 South Biscayne Boulevard, Miami FL   \n",
       "5           151 Worth Avenue in Palm Beach, FL   \n",
       "\n",
       "                 purchased_or_leased  total_amt_reportedly_spent_on_purchases  \\\n",
       "0         purchased for $363 million                              363000000.0   \n",
       "1       purchased for $286.5 million                              286500000.0   \n",
       "2         purchased for $20 million                                20000000.0   \n",
       "3  leased roughly 95,000 square feet                                      NaN   \n",
       "4                             leased                                      NaN   \n",
       "5                             leased                                      NaN   \n",
       "\n",
       "  story_date                                        description  \\\n",
       "0   04/21/22  This is a 2.5-acre development site along the ...   \n",
       "1   06/24/22  Boston-based Rockpoint sold this 28-story buil...   \n",
       "2   08/05/22  Citadel COO Gerald Beeson, using an entity he ...   \n",
       "3   08/03/22  Less than two months after billionaire Ken Gri...   \n",
       "4   08/03/22  Citadel is expanding its space at the Southeas...   \n",
       "5   07/14/22  Citadel took over the former Neiman Marcus bui...   \n",
       "\n",
       "                                          story_link  \\\n",
       "0  https://therealdeal.com/miami/2022/04/21/water...   \n",
       "1  https://therealdeal.com/miami/2022/06/24/rockp...   \n",
       "2  https://therealdeal.com/miami/2022/08/05/ken-g...   \n",
       "3  https://therealdeal.com/miami/2022/08/03/ken-g...   \n",
       "4  https://therealdeal.com/miami/2022/08/03/ken-g...   \n",
       "5  https://therealdeal.com/miami/2022/07/14/ken-g...   \n",
       "\n",
       "                                       Lidia's Notes  \\\n",
       "0  This is a 2.5-acre development site along the bay   \n",
       "1  If we include this, we would have to couch it ...   \n",
       "2  This is a small apartment building at 1250 Bri...   \n",
       "3                                                NaN   \n",
       "4  Citadel had an office there but it expanded it...   \n",
       "5  Citadel leased the former Neiman Marcus buildi...   \n",
       "\n",
       "                                         image_links     short_description  \\\n",
       "0  https://s11.therealdeal.com/trd/m/up/2022/04/W...    purchased for $363   \n",
       "1  https://s14.therealdeal.com/trd/m/up/2022/06/m...  purchased for $286.5   \n",
       "2  https://s12.therealdeal.com/trd/m/up/2022/08/m...     purchased for $20   \n",
       "3  https://s11.therealdeal.com/trd/m/up/2022/08/K...        leased roughly   \n",
       "4  https://s11.therealdeal.com/trd/m/up/2022/08/K...                leased   \n",
       "5  https://s13.therealdeal.com/trd/m/up/2022/07/M...                leased   \n",
       "\n",
       "        remaining_desc                                   description_link  \\\n",
       "0              million  <a href=\"https://therealdeal.com/miami/2022/04...   \n",
       "1              million  <a href=\"https://therealdeal.com/miami/2022/06...   \n",
       "2             million   <a href=\"https://therealdeal.com/miami/2022/08...   \n",
       "3   95,000 square feet  <a href=\"https://therealdeal.com/miami/2022/08...   \n",
       "4                       <a href=\"https://therealdeal.com/miami/2022/08...   \n",
       "5                       <a href=\"https://therealdeal.com/miami/2022/07...   \n",
       "\n",
       "                                   geo_address  \\\n",
       "0  1201 Brickell Bay Drive, Birckell Miami, FL   \n",
       "1     1221 Brickell Avenue, Brickell Miami, FL   \n",
       "2  1250 and 1260 Brickell Bay Drive, Miami, FL   \n",
       "3                 830 Brickell Plaza, Miami FL   \n",
       "4       200 South Biscayne Boulevard, Miami FL   \n",
       "5           151 Worth Avenue in Palm Beach, FL   \n",
       "\n",
       "                                                 loc  \\\n",
       "0  (1201 Brickell Bay Dr, Miami, FL 33131, USA, (...   \n",
       "1  (1221 Brickell Ave, Miami, FL 33131, USA, (25....   \n",
       "2  (1260 Brickell Bay Dr, Miami, FL 33131, USA, (...   \n",
       "3  (830 Brickell Plaza, Miami, FL 33131, USA, (25...   \n",
       "4  (200 S Biscayne Blvd, Miami, FL 33131, USA, (2...   \n",
       "5  (151 Worth Ave, Palm Beach, FL 33480, USA, (26...   \n",
       "\n",
       "                                   point        lat        lon  altitude  \n",
       "0  (25.7618982, -80.19118979999999, 0.0)  25.761898 -80.191190       0.0  \n",
       "1         (25.7612274, -80.1910809, 0.0)  25.761227 -80.191081       0.0  \n",
       "2           (25.761018, -80.190164, 0.0)  25.761018 -80.190164       0.0  \n",
       "3           (25.765873, -80.192504, 0.0)  25.765873 -80.192504       0.0  \n",
       "4  (25.7722422, -80.18773809999999, 0.0)  25.772242 -80.187738       0.0  \n",
       "5         (26.7010839, -80.0350665, 0.0)  26.701084 -80.035066       0.0  "
      ]
     },
     "execution_count": 27,
     "metadata": {},
     "output_type": "execute_result"
    }
   ],
   "source": [
    "df"
   ]
  },
  {
   "cell_type": "markdown",
   "metadata": {},
   "source": [
    "## Correction section"
   ]
  },
  {
   "cell_type": "code",
   "execution_count": 28,
   "metadata": {},
   "outputs": [],
   "source": [
    "# df.at[0,'Net decline in footprint, in sf']=('Almost 200K sf')\n",
    "# df.at[1,'Address(es) of space company vacated or plans to vacate, in sf']=('690 East Middlefield Road, Mountain View. Synopsys is subletting the entire building to Waymo.')\n",
    "\n",
    "### Change value to percent value\n",
    "### df['percent_change'] = pd.Series(['{0:.2f}%'.format(val) for val in df['percent_change']], index = df.index)"
   ]
  },
  {
   "cell_type": "markdown",
   "metadata": {},
   "source": [
    "## HTML popup formatter"
   ]
  },
  {
   "cell_type": "code",
   "execution_count": 29,
   "metadata": {},
   "outputs": [
    {
     "data": {
      "text/plain": [
       "Index(['full_address', 'purchased_or_leased',\n",
       "       'total_amt_reportedly_spent_on_purchases', 'story_date', 'description',\n",
       "       'story_link', 'Lidia's Notes', 'image_links', 'short_description',\n",
       "       'remaining_desc', 'description_link', 'geo_address', 'loc', 'point',\n",
       "       'lat', 'lon', 'altitude'],\n",
       "      dtype='object')"
      ]
     },
     "execution_count": 29,
     "metadata": {},
     "output_type": "execute_result"
    }
   ],
   "source": [
    "df.columns"
   ]
  },
  {
   "cell_type": "code",
   "execution_count": 41,
   "metadata": {},
   "outputs": [],
   "source": [
    "def popup_html(row):\n",
    "    i = row\n",
    "    address = df['full_address'].iloc[i]\n",
    "    image = df['image_links'].iloc[i]\n",
    "    p_or_l = df['purchased_or_leased'].iloc[i]\n",
    "    description = df['description_link'].iloc[i]\n",
    "    \n",
    "    html = '''<!DOCTYPE html>\n",
    "    <html>\n",
    "    <img src={} width=\"256\" height=\"156\">'''.format(image) + '''<br>______________________________________<br>\n",
    "    <strong>Address: </strong>{}'''.format(address) + '''<br>\n",
    "    <strong>Description: </strong>{}'''.format(description) + '''<br>\n",
    "    </html>\n",
    "    '''\n",
    "    return html\n"
   ]
  },
  {
   "cell_type": "markdown",
   "metadata": {},
   "source": [
    "### HTML reservoir"
   ]
  },
  {
   "cell_type": "code",
   "execution_count": 31,
   "metadata": {},
   "outputs": [],
   "source": [
    "#     Developer(s): <strong><em>{}'''.format(developer) + '''</strong></em><br><br>"
   ]
  },
  {
   "cell_type": "markdown",
   "metadata": {},
   "source": [
    "## Map Maker"
   ]
  },
  {
   "cell_type": "code",
   "execution_count": 32,
   "metadata": {},
   "outputs": [
    {
     "data": {
      "text/plain": [
       "'<a href=\"https://therealdeal.com/miami/2022/04/21/waterfront-brickell-development-site-of-planned-supertalls-sells-for-record-363m/\" target=\"_blank\" rel=\"noopener noreferrer\">purchased for $363</a> million'"
      ]
     },
     "execution_count": 32,
     "metadata": {},
     "output_type": "execute_result"
    }
   ],
   "source": [
    "df.description_link[0]"
   ]
  },
  {
   "cell_type": "code",
   "execution_count": 43,
   "metadata": {},
   "outputs": [
    {
     "data": {
      "text/html": [
       "<div style=\"width:100%;\"><div style=\"position:relative;width:100%;height:0;padding-bottom:60%;\"><span style=\"color:#565656\">Make this Notebook Trusted to load map: File -> Trust Notebook</span><iframe srcdoc=\"&lt;!DOCTYPE html&gt;\n",
       "&lt;head&gt;    \n",
       "    &lt;meta http-equiv=&quot;content-type&quot; content=&quot;text/html; charset=UTF-8&quot; /&gt;\n",
       "    \n",
       "        &lt;script&gt;\n",
       "            L_NO_TOUCH = false;\n",
       "            L_DISABLE_3D = false;\n",
       "        &lt;/script&gt;\n",
       "    \n",
       "    &lt;style&gt;html, body {width: 100%;height: 100%;margin: 0;padding: 0;}&lt;/style&gt;\n",
       "    &lt;style&gt;#map {position:absolute;top:0;bottom:0;right:0;left:0;}&lt;/style&gt;\n",
       "    &lt;script src=&quot;https://cdn.jsdelivr.net/npm/leaflet@1.6.0/dist/leaflet.js&quot;&gt;&lt;/script&gt;\n",
       "    &lt;script src=&quot;https://code.jquery.com/jquery-1.12.4.min.js&quot;&gt;&lt;/script&gt;\n",
       "    &lt;script src=&quot;https://maxcdn.bootstrapcdn.com/bootstrap/3.2.0/js/bootstrap.min.js&quot;&gt;&lt;/script&gt;\n",
       "    &lt;script src=&quot;https://cdnjs.cloudflare.com/ajax/libs/Leaflet.awesome-markers/2.0.2/leaflet.awesome-markers.js&quot;&gt;&lt;/script&gt;\n",
       "    &lt;link rel=&quot;stylesheet&quot; href=&quot;https://cdn.jsdelivr.net/npm/leaflet@1.6.0/dist/leaflet.css&quot;/&gt;\n",
       "    &lt;link rel=&quot;stylesheet&quot; href=&quot;https://maxcdn.bootstrapcdn.com/bootstrap/3.2.0/css/bootstrap.min.css&quot;/&gt;\n",
       "    &lt;link rel=&quot;stylesheet&quot; href=&quot;https://maxcdn.bootstrapcdn.com/bootstrap/3.2.0/css/bootstrap-theme.min.css&quot;/&gt;\n",
       "    &lt;link rel=&quot;stylesheet&quot; href=&quot;https://maxcdn.bootstrapcdn.com/font-awesome/4.6.3/css/font-awesome.min.css&quot;/&gt;\n",
       "    &lt;link rel=&quot;stylesheet&quot; href=&quot;https://cdnjs.cloudflare.com/ajax/libs/Leaflet.awesome-markers/2.0.2/leaflet.awesome-markers.css&quot;/&gt;\n",
       "    &lt;link rel=&quot;stylesheet&quot; href=&quot;https://cdn.jsdelivr.net/gh/python-visualization/folium/folium/templates/leaflet.awesome.rotate.min.css&quot;/&gt;\n",
       "    \n",
       "            &lt;meta name=&quot;viewport&quot; content=&quot;width=device-width,\n",
       "                initial-scale=1.0, maximum-scale=1.0, user-scalable=no&quot; /&gt;\n",
       "            &lt;style&gt;\n",
       "                #map_060d72d236c943a210675d9ff04c7d31 {\n",
       "                    position: relative;\n",
       "                    width: 100.0%;\n",
       "                    height: 100.0%;\n",
       "                    left: 0.0%;\n",
       "                    top: 0.0%;\n",
       "                }\n",
       "            &lt;/style&gt;\n",
       "        \n",
       "&lt;/head&gt;\n",
       "&lt;body&gt;    \n",
       "    \n",
       "              &lt;h3 align=&quot;center&quot; style=&quot;font-size:16px&quot;&gt;&lt;b&gt;Citadel&#x27;s expanding financial South Florida fortress&lt;/b&gt;&lt;/h3&gt;\n",
       "             \n",
       "    \n",
       "            &lt;div class=&quot;folium-map&quot; id=&quot;map_060d72d236c943a210675d9ff04c7d31&quot; &gt;&lt;/div&gt;\n",
       "        \n",
       "&lt;/body&gt;\n",
       "&lt;script&gt;    \n",
       "    \n",
       "            var map_060d72d236c943a210675d9ff04c7d31 = L.map(\n",
       "                &quot;map_060d72d236c943a210675d9ff04c7d31&quot;,\n",
       "                {\n",
       "                    center: [25.920557116666668, -80.16462388333332],\n",
       "                    crs: L.CRS.EPSG3857,\n",
       "                    zoom: 9,\n",
       "                    zoomControl: true,\n",
       "                    preferCanvas: false,\n",
       "                }\n",
       "            );\n",
       "\n",
       "            \n",
       "\n",
       "        \n",
       "    \n",
       "            var tile_layer_d4c5c7690bda6a8f0f931586c0125394 = L.tileLayer(\n",
       "                &quot;https://{s}.tile.openstreetmap.org/{z}/{x}/{y}.png&quot;,\n",
       "                {&quot;attribution&quot;: &quot;Data by \\u0026copy; \\u003ca href=\\&quot;http://openstreetmap.org\\&quot;\\u003eOpenStreetMap\\u003c/a\\u003e, under \\u003ca href=\\&quot;http://www.openstreetmap.org/copyright\\&quot;\\u003eODbL\\u003c/a\\u003e.&quot;, &quot;detectRetina&quot;: false, &quot;maxNativeZoom&quot;: 18, &quot;maxZoom&quot;: 18, &quot;minZoom&quot;: 0, &quot;noWrap&quot;: false, &quot;opacity&quot;: 1, &quot;subdomains&quot;: &quot;abc&quot;, &quot;tms&quot;: false}\n",
       "            ).addTo(map_060d72d236c943a210675d9ff04c7d31);\n",
       "        \n",
       "    \n",
       "            var marker_cb901b403513b573dbd51e05a55a5299 = L.marker(\n",
       "                [25.7618982, -80.19118979999999],\n",
       "                {}\n",
       "            ).addTo(map_060d72d236c943a210675d9ff04c7d31);\n",
       "        \n",
       "    \n",
       "        var popup_8129c50bff7c33c4f769a52deb38862c = L.popup({&quot;maxWidth&quot;: &quot;100%&quot;});\n",
       "\n",
       "        \n",
       "            var html_fd466ebaff06e326277454bb091d3160 = $(`&lt;div id=&quot;html_fd466ebaff06e326277454bb091d3160&quot; style=&quot;width: 100.0%; height: 100.0%;&quot;&gt;&lt;!DOCTYPE html&gt;     &lt;html&gt;     &lt;img src=https://s11.therealdeal.com/trd/m/up/2022/04/Waterfront-Brickell-site-of-planned-supertalls-sells-for-over-360M-in-record-sale-3-705x431.jpg width=&quot;256&quot; height=&quot;156&quot;&gt;&lt;br&gt;______________________________________&lt;br&gt;     &lt;strong&gt;Address: &lt;/strong&gt;1201 Brickell Bay Drive, Birckell Miami, FL&lt;br&gt;     &lt;strong&gt;Description: &lt;/strong&gt;&lt;a href=&quot;https://therealdeal.com/miami/2022/04/21/waterfront-brickell-development-site-of-planned-supertalls-sells-for-record-363m/&quot; target=&quot;_blank&quot; rel=&quot;noopener noreferrer&quot;&gt;This is a 2.5-acre&lt;/a&gt; development site along the bay that Citadel purchased for $363 million in April - breaking the previous record of $236 million for the former Miami Herlad site set in 2011.&lt;br&gt;     &lt;/html&gt;     &lt;/div&gt;`)[0];\n",
       "            popup_8129c50bff7c33c4f769a52deb38862c.setContent(html_fd466ebaff06e326277454bb091d3160);\n",
       "        \n",
       "\n",
       "        marker_cb901b403513b573dbd51e05a55a5299.bindPopup(popup_8129c50bff7c33c4f769a52deb38862c)\n",
       "        ;\n",
       "\n",
       "        \n",
       "    \n",
       "    \n",
       "            var marker_4f875618bbda953670b9c9f029da6848 = L.marker(\n",
       "                [25.7612274, -80.1910809],\n",
       "                {}\n",
       "            ).addTo(map_060d72d236c943a210675d9ff04c7d31);\n",
       "        \n",
       "    \n",
       "        var popup_ac1a1b22d7a7b41be443f1ea47855b6f = L.popup({&quot;maxWidth&quot;: &quot;100%&quot;});\n",
       "\n",
       "        \n",
       "            var html_d9820491345b774cf5eaf1a1dd3145e4 = $(`&lt;div id=&quot;html_d9820491345b774cf5eaf1a1dd3145e4&quot; style=&quot;width: 100.0%; height: 100.0%;&quot;&gt;&lt;!DOCTYPE html&gt;     &lt;html&gt;     &lt;img src=https://s14.therealdeal.com/trd/m/up/2022/06/main_MIA_Brickell-705x439.jpg width=&quot;256&quot; height=&quot;156&quot;&gt;&lt;br&gt;______________________________________&lt;br&gt;     &lt;strong&gt;Address: &lt;/strong&gt;1221 Brickell Avenue, Brickell Miami, FL&lt;br&gt;     &lt;strong&gt;Description: &lt;/strong&gt;&lt;a href=&quot;https://therealdeal.com/miami/2022/06/24/rockpoint-sells-1221-brickell-office-tower-for-287m-marking-a-six-year-record/&quot; target=&quot;_blank&quot; rel=&quot;noopener noreferrer&quot;&gt;Boston-based&lt;/a&gt; Rockpoint sold this 28-story building at 1221 Brickell Avenue. Sources have said that Citdeal is buyer, but The Real Deal has not been able to independently verify Citadel as the buyer.&lt;br&gt;     &lt;/html&gt;     &lt;/div&gt;`)[0];\n",
       "            popup_ac1a1b22d7a7b41be443f1ea47855b6f.setContent(html_d9820491345b774cf5eaf1a1dd3145e4);\n",
       "        \n",
       "\n",
       "        marker_4f875618bbda953670b9c9f029da6848.bindPopup(popup_ac1a1b22d7a7b41be443f1ea47855b6f)\n",
       "        ;\n",
       "\n",
       "        \n",
       "    \n",
       "    \n",
       "            var marker_3f5a326547b471ecc9bfe15ac2980770 = L.marker(\n",
       "                [25.761018, -80.190164],\n",
       "                {}\n",
       "            ).addTo(map_060d72d236c943a210675d9ff04c7d31);\n",
       "        \n",
       "    \n",
       "        var popup_e5ee56ffa6e46c0875008ade75937235 = L.popup({&quot;maxWidth&quot;: &quot;100%&quot;});\n",
       "\n",
       "        \n",
       "            var html_12ea4220d281088a47dead8e6dfb75bd = $(`&lt;div id=&quot;html_12ea4220d281088a47dead8e6dfb75bd&quot; style=&quot;width: 100.0%; height: 100.0%;&quot;&gt;&lt;!DOCTYPE html&gt;     &lt;html&gt;     &lt;img src=https://s12.therealdeal.com/trd/m/up/2022/08/main_MIA_Citadel.jpg width=&quot;256&quot; height=&quot;156&quot;&gt;&lt;br&gt;______________________________________&lt;br&gt;     &lt;strong&gt;Address: &lt;/strong&gt;1250 and 1260 Brickell Bay Drive, Miami, FL&lt;br&gt;     &lt;strong&gt;Description: &lt;/strong&gt;&lt;a href=&quot;https://therealdeal.com/miami/2022/08/05/ken-griffins-brickell-takeover-citadel-adds-to-its-properties-with-20m-purchase/&quot; target=&quot;_blank&quot; rel=&quot;noopener noreferrer&quot;&gt;Citadel COO Gerald&lt;/a&gt; Beeson, using an entity he managed, bought a three-story, 12-unit apartment building and an adjacent vacant lot for $20 million earlier this month.&lt;br&gt;     &lt;/html&gt;     &lt;/div&gt;`)[0];\n",
       "            popup_e5ee56ffa6e46c0875008ade75937235.setContent(html_12ea4220d281088a47dead8e6dfb75bd);\n",
       "        \n",
       "\n",
       "        marker_3f5a326547b471ecc9bfe15ac2980770.bindPopup(popup_e5ee56ffa6e46c0875008ade75937235)\n",
       "        ;\n",
       "\n",
       "        \n",
       "    \n",
       "    \n",
       "            var marker_f8b026ae793db651d22fbcb1eaaf7576 = L.marker(\n",
       "                [25.765873, -80.192504],\n",
       "                {}\n",
       "            ).addTo(map_060d72d236c943a210675d9ff04c7d31);\n",
       "        \n",
       "    \n",
       "        var popup_be488fb04dd764d6245a2c31fed60d88 = L.popup({&quot;maxWidth&quot;: &quot;100%&quot;});\n",
       "\n",
       "        \n",
       "            var html_4dc6e9e83341f0eccbfc536cb47c3c67 = $(`&lt;div id=&quot;html_4dc6e9e83341f0eccbfc536cb47c3c67&quot; style=&quot;width: 100.0%; height: 100.0%;&quot;&gt;&lt;!DOCTYPE html&gt;     &lt;html&gt;     &lt;img src=https://s11.therealdeal.com/trd/m/up/2022/08/Ken-Griffins-Citadel-leases-at-830-Brickell-705x466.jpg width=&quot;256&quot; height=&quot;156&quot;&gt;&lt;br&gt;______________________________________&lt;br&gt;     &lt;strong&gt;Address: &lt;/strong&gt;830 Brickell Plaza, Miami FL&lt;br&gt;     &lt;strong&gt;Description: &lt;/strong&gt;&lt;a href=&quot;https://therealdeal.com/miami/2022/08/03/ken-griffins-citadel-leases-at-830-brickell-office-tower-in-miami/&quot; target=&quot;_blank&quot; rel=&quot;noopener noreferrer&quot;&gt;Less than two months&lt;/a&gt; after billionaire Ken Griffin annouced he would move Citadel from Chicago to Miami, he inked a lease for the hedge fund&#x27;s offices at 830 Brickell. Vlad Doronin&#x27;s OKO Group and Cain International are developing the building.&lt;br&gt;     &lt;/html&gt;     &lt;/div&gt;`)[0];\n",
       "            popup_be488fb04dd764d6245a2c31fed60d88.setContent(html_4dc6e9e83341f0eccbfc536cb47c3c67);\n",
       "        \n",
       "\n",
       "        marker_f8b026ae793db651d22fbcb1eaaf7576.bindPopup(popup_be488fb04dd764d6245a2c31fed60d88)\n",
       "        ;\n",
       "\n",
       "        \n",
       "    \n",
       "    \n",
       "            var marker_29e61c354029dae0e60ff77fadca8f72 = L.marker(\n",
       "                [25.7722422, -80.18773809999999],\n",
       "                {}\n",
       "            ).addTo(map_060d72d236c943a210675d9ff04c7d31);\n",
       "        \n",
       "    \n",
       "        var popup_05fd0acb42bbae8161c06d517fe289a5 = L.popup({&quot;maxWidth&quot;: &quot;100%&quot;});\n",
       "\n",
       "        \n",
       "            var html_2612bb1ebdaf3b4ec4da67395d38d3cc = $(`&lt;div id=&quot;html_2612bb1ebdaf3b4ec4da67395d38d3cc&quot; style=&quot;width: 100.0%; height: 100.0%;&quot;&gt;&lt;!DOCTYPE html&gt;     &lt;html&gt;     &lt;img src=https://s11.therealdeal.com/trd/m/up/2022/08/Ken-Griffins-Citadel-leases-at-830-Brickell-705x466.jpg width=&quot;256&quot; height=&quot;156&quot;&gt;&lt;br&gt;______________________________________&lt;br&gt;     &lt;strong&gt;Address: &lt;/strong&gt;200 South Biscayne Boulevard, Miami FL&lt;br&gt;     &lt;strong&gt;Description: &lt;/strong&gt;&lt;a href=&quot;https://therealdeal.com/miami/2022/08/03/ken-griffins-citadel-leases-at-830-brickell-office-tower-in-miami/&quot; target=&quot;_blank&quot; rel=&quot;noopener noreferrer&quot;&gt;Citadel is expanding&lt;/a&gt; its space at the Southeast Financial Center in downtown Miami. At the time, a Citadel spokesperson said the extra space was needed as the &quot;shift to permnanent building will take several years.&quot;&lt;br&gt;     &lt;/html&gt;     &lt;/div&gt;`)[0];\n",
       "            popup_05fd0acb42bbae8161c06d517fe289a5.setContent(html_2612bb1ebdaf3b4ec4da67395d38d3cc);\n",
       "        \n",
       "\n",
       "        marker_29e61c354029dae0e60ff77fadca8f72.bindPopup(popup_05fd0acb42bbae8161c06d517fe289a5)\n",
       "        ;\n",
       "\n",
       "        \n",
       "    \n",
       "    \n",
       "            var marker_634f4cd2a6538f998e8b64df15e0bd9c = L.marker(\n",
       "                [26.7010839, -80.0350665],\n",
       "                {}\n",
       "            ).addTo(map_060d72d236c943a210675d9ff04c7d31);\n",
       "        \n",
       "    \n",
       "        var popup_56123922f08a021da59dfe3b485621b5 = L.popup({&quot;maxWidth&quot;: &quot;100%&quot;});\n",
       "\n",
       "        \n",
       "            var html_c007e0fcd3792a02ad3a2922fe65c929 = $(`&lt;div id=&quot;html_c007e0fcd3792a02ad3a2922fe65c929&quot; style=&quot;width: 100.0%; height: 100.0%;&quot;&gt;&lt;!DOCTYPE html&gt;     &lt;html&gt;     &lt;img src=https://s13.therealdeal.com/trd/m/up/2022/07/Main-citadel-705x439.jpg width=&quot;256&quot; height=&quot;156&quot;&gt;&lt;br&gt;______________________________________&lt;br&gt;     &lt;strong&gt;Address: &lt;/strong&gt;151 Worth Avenue in Palm Beach, FL&lt;br&gt;     &lt;strong&gt;Description: &lt;/strong&gt;&lt;a href=&quot;https://therealdeal.com/miami/2022/07/14/ken-griffins-south-florida-state-of-mind-citadel-to-open-palm-beach-office/&quot; target=&quot;_blank&quot; rel=&quot;noopener noreferrer&quot;&gt;Citadel took over&lt;/a&gt; the former Neiman Marcus building in Palm Beach one month after Ken Griffin annouced plans to move CItadel to South Florida.&lt;br&gt;     &lt;/html&gt;     &lt;/div&gt;`)[0];\n",
       "            popup_56123922f08a021da59dfe3b485621b5.setContent(html_c007e0fcd3792a02ad3a2922fe65c929);\n",
       "        \n",
       "\n",
       "        marker_634f4cd2a6538f998e8b64df15e0bd9c.bindPopup(popup_56123922f08a021da59dfe3b485621b5)\n",
       "        ;\n",
       "\n",
       "        \n",
       "    \n",
       "    \n",
       "            map_060d72d236c943a210675d9ff04c7d31.fitBounds(\n",
       "                [25.920557116666668, -80.16462388333332],\n",
       "                {&quot;maxZoom&quot;: 15}\n",
       "            );\n",
       "        \n",
       "&lt;/script&gt;\" style=\"position:absolute;width:100%;height:100%;left:0;top:0;border:none !important;\" allowfullscreen webkitallowfullscreen mozallowfullscreen></iframe></div></div>"
      ],
      "text/plain": [
       "<folium.folium.Map at 0x15ec0ef50>"
      ]
     },
     "execution_count": 43,
     "metadata": {},
     "output_type": "execute_result"
    }
   ],
   "source": [
    "import folium\n",
    "import branca\n",
    "\n",
    "f = folium.Figure(width=750, height=750)\n",
    "m = folium.Map(location=df[[\"lat\", \"lon\"]].mean().to_list(),zoom_start=9)\n",
    "\n",
    "title_html = '''\n",
    "              <h3 align=\"center\" style=\"font-size:16px\"><b>{}</b></h3>\n",
    "             '''.format(f'Citadel\\'s expanding financial South Florida fortress')\n",
    "\n",
    "for i in range(0,len(df)):\n",
    "    html = popup_html(i)\n",
    "    iframe = branca.element.IFrame(html=html)\n",
    "    popup = folium.Popup(folium.Html(html, script=True))\n",
    "    folium.Marker([df['lat'].iloc[i],df['lon'].iloc[i]],\n",
    "                 popup=popup).add_to(m)\n",
    "\n",
    "m.get_root().html.add_child(folium.Element(title_html))\n",
    "m.fit_bounds(bounds=df[['lat','lon']].mean().to_list(),max_zoom=15)\n",
    "# m.add_to(f)\n",
    "m"
   ]
  },
  {
   "cell_type": "code",
   "execution_count": 44,
   "metadata": {},
   "outputs": [],
   "source": [
    "m.save('index.html')"
   ]
  },
  {
   "cell_type": "markdown",
   "metadata": {},
   "source": [
    "## Map URL snagger"
   ]
  },
  {
   "cell_type": "markdown",
   "metadata": {},
   "source": [
    "Map template URL: `https://trd-digital.github.io/trd-news-interactive-maps/{map-folder-name}`"
   ]
  },
  {
   "cell_type": "code",
   "execution_count": 45,
   "metadata": {},
   "outputs": [],
   "source": [
    "base_name = 'https://trd-digital.github.io/trd-news-interactive-maps/'"
   ]
  },
  {
   "cell_type": "code",
   "execution_count": 46,
   "metadata": {},
   "outputs": [
    {
     "name": "stdout",
     "output_type": "stream",
     "text": [
      "https://trd-digital.github.io/trd-news-interactive-maps/citadel_acquistions_leases_map\n"
     ]
    }
   ],
   "source": [
    "cwd = os.getcwd()\n",
    "\n",
    "cwd = cwd.split('/')\n",
    "\n",
    "final_name = base_name + cwd[-1]\n",
    "print(final_name)"
   ]
  }
 ],
 "metadata": {
  "kernelspec": {
   "display_name": "Python 3 (ipykernel)",
   "language": "python",
   "name": "python3"
  },
  "language_info": {
   "codemirror_mode": {
    "name": "ipython",
    "version": 3
   },
   "file_extension": ".py",
   "mimetype": "text/x-python",
   "name": "python",
   "nbconvert_exporter": "python",
   "pygments_lexer": "ipython3",
   "version": "3.10.3"
  },
  "toc": {
   "base_numbering": 1,
   "nav_menu": {},
   "number_sections": true,
   "sideBar": true,
   "skip_h1_title": false,
   "title_cell": "Table of Contents",
   "title_sidebar": "Contents",
   "toc_cell": false,
   "toc_position": {},
   "toc_section_display": true,
   "toc_window_display": false
  }
 },
 "nbformat": 4,
 "nbformat_minor": 4
}
