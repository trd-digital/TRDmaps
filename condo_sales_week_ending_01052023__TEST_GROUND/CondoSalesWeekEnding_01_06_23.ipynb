{
 "cells": [
  {
   "cell_type": "markdown",
   "metadata": {},
   "source": [
    "## Imports"
   ]
  },
  {
   "cell_type": "code",
   "execution_count": 12,
   "metadata": {},
   "outputs": [],
   "source": [
    "import googlemaps\n",
    "import pandas as pd\n",
    "import numpy as np\n",
    "import re\n",
    "import os\n",
    "import geopandas as gpd\n",
    "import folium\n",
    "import tabula\n",
    "from datetime import datetime, timedelta"
   ]
  },
  {
   "cell_type": "markdown",
   "metadata": {},
   "source": [
    "## Read-in"
   ]
  },
  {
   "cell_type": "code",
   "execution_count": 51,
   "metadata": {},
   "outputs": [],
   "source": [
    "# Gotta figure out how to get rid of the java error.\n",
    "# SO: https://stackoverflow.com/questions/54817211/java-command-is-not-found-from-this-python-process-please-ensure-java-is-inst\n",
    "dsf = tabula.read_pdf('condo.pdf', pages='all')"
   ]
  },
  {
   "cell_type": "markdown",
   "metadata": {},
   "source": [
    "## Current Week's Values"
   ]
  },
  {
   "cell_type": "code",
   "execution_count": 8,
   "metadata": {},
   "outputs": [
    {
     "name": "stdout",
     "output_type": "stream",
     "text": [
      "Input Week Starting Date:\n",
      "Dec. 31st\n",
      "Input Week Ending Date:\n",
      "Jan. 6th\n",
      "Input Current Week Condo Sales (num of units sold):\n",
      "45\n",
      "Input Average Sale Price:\n",
      "861256\n",
      "Input Average PSF:\n",
      "535\n",
      "Input Average Days on Market:\n",
      "77\n",
      "Input Average PSF:\n",
      "535\n",
      "Input Current Week Condo Sales Total:\n",
      "38756500\n"
     ]
    }
   ],
   "source": [
    "print('Input Week Starting Date:')\n",
    "week_starting = input()\n",
    "print('Input Week Ending Date:')\n",
    "week_ending = input()\n",
    "print('Input Current Week Condo Sales (num of units sold):')\n",
    "current_week_condo_sales = input()\n",
    "print('Input Average Sale Price:')\n",
    "average_sale_price = input()\n",
    "print('Input Average PSF:')\n",
    "average_price_psf = input()\n",
    "print('Input Average Days on Market:')\n",
    "average_days_on_market = input()\n",
    "print('Input Current Week Condo Sales Total:')\n",
    "current_week_condo_sales_total = input()\n",
    "print('Input Top Image URL from condo:')\n",
    "top_condo_image_url = input()"
   ]
  },
  {
   "cell_type": "markdown",
   "metadata": {},
   "source": [
    "## Previous Week's Values"
   ]
  },
  {
   "cell_type": "code",
   "execution_count": 9,
   "metadata": {},
   "outputs": [
    {
     "name": "stdout",
     "output_type": "stream",
     "text": [
      "Input Previous Week Condo Sales Total (number units sold):\n",
      "60\n",
      "Input Previous Week Condo Average Sales Price:\n",
      "580467\n",
      "Input Previous Week Condo Average PSF:\n",
      "519\n",
      "Input Previous Week Condo Sales total (ex: $XX million)\n",
      "34828000\n"
     ]
    }
   ],
   "source": [
    "print('Input Previous Week Condo Sales Total (number units sold):')\n",
    "previous_week_condo_sales = input()\n",
    "print('Input Previous Week Condo Average Sales Price:')\n",
    "previous_week_average_sales_price = input()\n",
    "print('Input Previous Week Condo Average PSF:')\n",
    "previous_week_average_psf = input()\n",
    "print('Input Previous Week Condo Sales total (ex: $XX million)')\n",
    "previous_week_condo_sales_total = input()"
   ]
  },
  {
   "cell_type": "markdown",
   "metadata": {},
   "source": [
    "## Clean Data"
   ]
  },
  {
   "cell_type": "code",
   "execution_count": 53,
   "metadata": {},
   "outputs": [],
   "source": [
    "df = dsf[0]\n",
    "df.columns = df.iloc[0]\n",
    "df = df[1:]\n",
    "df = df.drop(columns=df.columns[0])\n",
    "df = df.replace(np.nan, 'Not Available', regex=True)\n",
    "df = df.rename(columns={'Building / Address / City': 'building_address_city','Days on\\rMarket':'days_on_market',\\\n",
    "                        'Price /\\rSq. Ft.':'price_per_sqft'})\n",
    "df['building_address_city'] = df['building_address_city'].str.replace('^0', '', regex=True)\n",
    "df['geo_address'] = df['building_address_city']\n",
    "df['geo_address'] = df['geo_address'].map(lambda x: re.sub(r'\\r', ' ', x))\n",
    "df = df.replace('\\n',' ',regex=True)\n",
    "pattern = r'^(?P<building_name>[\\d\\s]*[A-Za-z\\s]+)\\s(?P<address>.+)\\s(?P<city>[A-Za-z\\s]+)$'\n",
    "df2 = df['geo_address']\n",
    "df2 = df2.to_frame()\n",
    "df2[['building_name', 'address', 'city']] = df2['geo_address'].str.extract(pattern, expand=True)"
   ]
  },
  {
   "cell_type": "markdown",
   "metadata": {},
   "source": [
    "Review this later (it's about how to properly merge DFs): https://pandas.pydata.org/pandas-docs/stable/user_guide/merging.html"
   ]
  },
  {
   "cell_type": "markdown",
   "metadata": {},
   "source": [
    "## Geocode"
   ]
  },
  {
   "cell_type": "code",
   "execution_count": 54,
   "metadata": {},
   "outputs": [],
   "source": [
    "result = pd.merge(df,df2,left_index=True, right_index=True)\n",
    "df = result\n",
    "df = df.drop(columns='city')"
   ]
  },
  {
   "cell_type": "code",
   "execution_count": 55,
   "metadata": {},
   "outputs": [],
   "source": [
    "%store -r google_maps_API_Key\n",
    "gmaps_key = googlemaps.Client(key=google_maps_API_Key)"
   ]
  },
  {
   "cell_type": "code",
   "execution_count": 56,
   "metadata": {},
   "outputs": [],
   "source": [
    "def geocode(add):\n",
    "    g = gmaps_key.geocode(add)\n",
    "    lat = g[0][\"geometry\"][\"location\"][\"lat\"]\n",
    "    lng = g[0][\"geometry\"][\"location\"][\"lng\"]\n",
    "    return (lat, lng)\n",
    "\n",
    "df['geocoded'] = df['geo_address_x'].apply(geocode)"
   ]
  },
  {
   "cell_type": "code",
   "execution_count": 57,
   "metadata": {},
   "outputs": [],
   "source": [
    "df['geocoded'] = df['geocoded'].astype(str)\n",
    "df[['lat', 'lon']] = df['geocoded'].str.strip('()').str.split(', ', expand=True)\n",
    "df['lat'] = df['lat'].astype(float)\n",
    "df['lon'] = df['lon'].astype(float)"
   ]
  },
  {
   "cell_type": "markdown",
   "metadata": {},
   "source": [
    "Folium documentation link: https://python-visualization.github.io/folium/index.html\n",
    "\n",
    "Folium is the library that lets us use leaflet with Python, since it's meant to be used with JavaScript.\n",
    "\n",
    "For adding titles: https://stackoverflow.com/questions/61928013/adding-a-title-or-text-to-a-folium-map"
   ]
  },
  {
   "cell_type": "markdown",
   "metadata": {},
   "source": [
    "## Correction section"
   ]
  },
  {
   "cell_type": "code",
   "execution_count": 58,
   "metadata": {},
   "outputs": [],
   "source": [
    "# df.at[index#,'col_name']"
   ]
  },
  {
   "cell_type": "markdown",
   "metadata": {},
   "source": [
    "## Format Data"
   ]
  },
  {
   "cell_type": "code",
   "execution_count": 59,
   "metadata": {},
   "outputs": [],
   "source": [
    "### Insert NaNs if needed ###\n",
    "df = df.replace('N/A', np.nan)"
   ]
  },
  {
   "cell_type": "code",
   "execution_count": 60,
   "metadata": {},
   "outputs": [],
   "source": [
    "df['int_Sale_Price'] = df['Sale Price'].str.replace('$','',regex=False)"
   ]
  },
  {
   "cell_type": "code",
   "execution_count": 61,
   "metadata": {},
   "outputs": [],
   "source": [
    "df['int_Sale_Price'] = df['int_Sale_Price'].str.replace(',','',regex=False)"
   ]
  },
  {
   "cell_type": "code",
   "execution_count": 62,
   "metadata": {},
   "outputs": [],
   "source": [
    "df['int_Sale_Price'] = pd.to_numeric(df['int_Sale_Price'])"
   ]
  },
  {
   "cell_type": "code",
   "execution_count": 63,
   "metadata": {},
   "outputs": [],
   "source": [
    "df['price_per_sqft'] = df['price_per_sqft'].str.replace('$','',regex=False)\n",
    "df['price_per_sqft'] = df['price_per_sqft'].str.replace(',','',regex=False)\n",
    "df['price_per_sqft'] = pd.to_numeric(df['price_per_sqft'])\n",
    "\n",
    "df['days_on_market'] = pd.to_numeric(df['days_on_market'])"
   ]
  },
  {
   "cell_type": "markdown",
   "metadata": {},
   "source": [
    "## Color-code top sale"
   ]
  },
  {
   "cell_type": "code",
   "execution_count": 64,
   "metadata": {},
   "outputs": [],
   "source": [
    "### Insert RANK values ###\n",
    "df['RANK'] = range(1, len(df) + 1)\n",
    "# use numpy to assign values to the 'COLOR' column\n",
    "df['COLOR'] = np.where(df['RANK'] <= 1, 'orange', 'blue')"
   ]
  },
  {
   "cell_type": "markdown",
   "metadata": {},
   "source": [
    "## HTML Popup Formatter"
   ]
  },
  {
   "cell_type": "code",
   "execution_count": 65,
   "metadata": {},
   "outputs": [
    {
     "data": {
      "text/plain": [
       "Index(['building_address_city', 'Close Date', 'days_on_market', 'Sale Price',\n",
       "       'Sq. Ft.', 'price_per_sqft', 'Agent', 'Listing Broker', 'Buyer Agent',\n",
       "       'Buyer Broker', 'geo_address_x', 'geo_address_y', 'building_name',\n",
       "       'address', 'geocoded', 'lat', 'lon', 'int_Sale_Price', 'RANK', 'COLOR'],\n",
       "      dtype='object')"
      ]
     },
     "execution_count": 65,
     "metadata": {},
     "output_type": "execute_result"
    }
   ],
   "source": [
    "df.columns"
   ]
  },
  {
   "cell_type": "code",
   "execution_count": 66,
   "metadata": {},
   "outputs": [],
   "source": [
    "def popup_html(row):\n",
    "    building_name = row['building_name']\n",
    "    price = row['Sale Price']\n",
    "    days_on_market = row['days_on_market']\n",
    "    listing_agent = row['Agent']\n",
    "    buyers_agent = row['Buyer Agent']\n",
    "    psf = row['price_per_sqft']\n",
    "    address = row['address']\n",
    "    \n",
    "    html = '''<!DOCTYPE html>\n",
    "    <html>\n",
    "    <strong>Building Name: </strong>{}'''.format(building_name) + '''<br>\n",
    "    <strong>Sale Price: </strong>{}'''.format(price) + '''<br>\n",
    "    <strong>Days on Market: </strong>{}'''.format(days_on_market) + '''<br>\n",
    "    <strong>Listing Agent: </strong>{}'''.format(listing_agent) + '''<br>\n",
    "    <strong>Buyer's Agent: </strong>{}'''.format(buyers_agent) + '''<br>\n",
    "    <strong>Price sq ft: </strong>${}'''.format(psf) + '''<br>\n",
    "    <strong>Address: </strong>{}'''.format(address) + '''<br>\n",
    "    </html>\n",
    "    '''\n",
    "    return html"
   ]
  },
  {
   "cell_type": "code",
   "execution_count": 67,
   "metadata": {},
   "outputs": [
    {
     "data": {
      "text/html": [
       "<div style=\"width:100%;\"><div style=\"position:relative;width:100%;height:0;padding-bottom:60%;\"><span style=\"color:#565656\">Make this Notebook Trusted to load map: File -> Trust Notebook</span><iframe srcdoc=\"&lt;!DOCTYPE html&gt;\n",
       "&lt;head&gt;    \n",
       "    &lt;meta http-equiv=&quot;content-type&quot; content=&quot;text/html; charset=UTF-8&quot; /&gt;\n",
       "    \n",
       "        &lt;script&gt;\n",
       "            L_NO_TOUCH = false;\n",
       "            L_DISABLE_3D = false;\n",
       "        &lt;/script&gt;\n",
       "    \n",
       "    &lt;style&gt;html, body {width: 100%;height: 100%;margin: 0;padding: 0;}&lt;/style&gt;\n",
       "    &lt;style&gt;#map {position:absolute;top:0;bottom:0;right:0;left:0;}&lt;/style&gt;\n",
       "    &lt;script src=&quot;https://cdn.jsdelivr.net/npm/leaflet@1.6.0/dist/leaflet.js&quot;&gt;&lt;/script&gt;\n",
       "    &lt;script src=&quot;https://code.jquery.com/jquery-1.12.4.min.js&quot;&gt;&lt;/script&gt;\n",
       "    &lt;script src=&quot;https://maxcdn.bootstrapcdn.com/bootstrap/3.2.0/js/bootstrap.min.js&quot;&gt;&lt;/script&gt;\n",
       "    &lt;script src=&quot;https://cdnjs.cloudflare.com/ajax/libs/Leaflet.awesome-markers/2.0.2/leaflet.awesome-markers.js&quot;&gt;&lt;/script&gt;\n",
       "    &lt;link rel=&quot;stylesheet&quot; href=&quot;https://cdn.jsdelivr.net/npm/leaflet@1.6.0/dist/leaflet.css&quot;/&gt;\n",
       "    &lt;link rel=&quot;stylesheet&quot; href=&quot;https://maxcdn.bootstrapcdn.com/bootstrap/3.2.0/css/bootstrap.min.css&quot;/&gt;\n",
       "    &lt;link rel=&quot;stylesheet&quot; href=&quot;https://maxcdn.bootstrapcdn.com/bootstrap/3.2.0/css/bootstrap-theme.min.css&quot;/&gt;\n",
       "    &lt;link rel=&quot;stylesheet&quot; href=&quot;https://maxcdn.bootstrapcdn.com/font-awesome/4.6.3/css/font-awesome.min.css&quot;/&gt;\n",
       "    &lt;link rel=&quot;stylesheet&quot; href=&quot;https://cdnjs.cloudflare.com/ajax/libs/Leaflet.awesome-markers/2.0.2/leaflet.awesome-markers.css&quot;/&gt;\n",
       "    &lt;link rel=&quot;stylesheet&quot; href=&quot;https://cdn.jsdelivr.net/gh/python-visualization/folium/folium/templates/leaflet.awesome.rotate.min.css&quot;/&gt;\n",
       "    \n",
       "            &lt;meta name=&quot;viewport&quot; content=&quot;width=device-width,\n",
       "                initial-scale=1.0, maximum-scale=1.0, user-scalable=no&quot; /&gt;\n",
       "            &lt;style&gt;\n",
       "                #map_a6b3c052c0dada86350e851b4de6bb94 {\n",
       "                    position: relative;\n",
       "                    width: 100.0%;\n",
       "                    height: 100.0%;\n",
       "                    left: 0.0%;\n",
       "                    top: 0.0%;\n",
       "                }\n",
       "            &lt;/style&gt;\n",
       "        \n",
       "&lt;/head&gt;\n",
       "&lt;body&gt;    \n",
       "    \n",
       "              &lt;h3 align=&quot;center&quot; style=&quot;font-size:16px&quot;&gt;&lt;b&gt;Recent Miami-Dade Condo Sales &lt;/b&gt;&lt;/h3&gt;\n",
       "             \n",
       "    \n",
       "                &lt;p align=&quot;center&quot; style=&quot;vertical-align: bottom; font-size:13px&quot;&gt;&lt;i&gt;Dec. 31st - Jan. 6th&lt;/i&gt;&lt;/p&gt;\n",
       "                \n",
       "    \n",
       "            &lt;div class=&quot;folium-map&quot; id=&quot;map_a6b3c052c0dada86350e851b4de6bb94&quot; &gt;&lt;/div&gt;\n",
       "        \n",
       "&lt;/body&gt;\n",
       "&lt;script&gt;    \n",
       "    \n",
       "            var map_a6b3c052c0dada86350e851b4de6bb94 = L.map(\n",
       "                &quot;map_a6b3c052c0dada86350e851b4de6bb94&quot;,\n",
       "                {\n",
       "                    center: [25.850815360000002, -80.13868398],\n",
       "                    crs: L.CRS.EPSG3857,\n",
       "                    zoom: 9.5,\n",
       "                    zoomControl: true,\n",
       "                    preferCanvas: false,\n",
       "                }\n",
       "            );\n",
       "\n",
       "            \n",
       "\n",
       "        \n",
       "    \n",
       "            var feature_group_bf2cd35dfd0dacf505777f72d39e9641 = L.featureGroup(\n",
       "                {}\n",
       "            ).addTo(map_a6b3c052c0dada86350e851b4de6bb94);\n",
       "        \n",
       "    \n",
       "            var marker_e6eee6b50c5cc52d69b7437928b02e5f = L.marker(\n",
       "                [25.9327557, -80.1210054],\n",
       "                {&quot;fill&quot;: true, &quot;radius&quot;: 5}\n",
       "            ).addTo(feature_group_bf2cd35dfd0dacf505777f72d39e9641);\n",
       "        \n",
       "    \n",
       "            var icon_d22451dd7f157511e2234097cb2dde92 = L.AwesomeMarkers.icon(\n",
       "                {&quot;extraClasses&quot;: &quot;fa-rotate-0&quot;, &quot;icon&quot;: &quot;info-sign&quot;, &quot;iconColor&quot;: &quot;white&quot;, &quot;markerColor&quot;: &quot;orange&quot;, &quot;prefix&quot;: &quot;glyphicon&quot;}\n",
       "            );\n",
       "            marker_e6eee6b50c5cc52d69b7437928b02e5f.setIcon(icon_d22451dd7f157511e2234097cb2dde92);\n",
       "        \n",
       "    \n",
       "        var popup_ee28457d66d129c68f1b07515a312144 = L.popup({&quot;maxWidth&quot;: 400});\n",
       "\n",
       "        \n",
       "            \n",
       "                var html_c8728bfdf8152d7ba6412d8dc9f5f692 = $(`&lt;div id=&quot;html_c8728bfdf8152d7ba6412d8dc9f5f692&quot; style=&quot;width: 100.0%; height: 100.0%;&quot;&gt;&lt;!DOCTYPE html&gt;     &lt;html&gt;     &lt;strong&gt;Building Name: &lt;/strong&gt;Jade Signature&lt;br&gt;     &lt;strong&gt;Sale Price: &lt;/strong&gt;$8,000,000.00&lt;br&gt;     &lt;strong&gt;Days on Market: &lt;/strong&gt;66&lt;br&gt;     &lt;strong&gt;Listing Agent: &lt;/strong&gt;Erena Stus&lt;br&gt;     &lt;strong&gt;Buyer&#x27;s Agent: &lt;/strong&gt;Jose Santovena&lt;br&gt;     &lt;strong&gt;Price sq ft: &lt;/strong&gt;$1834.44&lt;br&gt;     &lt;strong&gt;Address: &lt;/strong&gt;16901 Collins Ave 4301 Sunny Isles&lt;br&gt;     &lt;/html&gt;     &lt;/div&gt;`)[0];\n",
       "                popup_ee28457d66d129c68f1b07515a312144.setContent(html_c8728bfdf8152d7ba6412d8dc9f5f692);\n",
       "            \n",
       "        \n",
       "\n",
       "        marker_e6eee6b50c5cc52d69b7437928b02e5f.bindPopup(popup_ee28457d66d129c68f1b07515a312144)\n",
       "        ;\n",
       "\n",
       "        \n",
       "    \n",
       "    \n",
       "            var feature_group_4ef077e619b8433d0adbf59617ba4056 = L.featureGroup(\n",
       "                {}\n",
       "            ).addTo(map_a6b3c052c0dada86350e851b4de6bb94);\n",
       "        \n",
       "    \n",
       "            var marker_0a9d144e0fc1bf7186ce4057ecad000d = L.marker(\n",
       "                [25.842764, -80.1227894],\n",
       "                {&quot;fill&quot;: true, &quot;radius&quot;: 5}\n",
       "            ).addTo(feature_group_4ef077e619b8433d0adbf59617ba4056);\n",
       "        \n",
       "    \n",
       "            var icon_e4c9b53011353a95c37b9c514a98a851 = L.AwesomeMarkers.icon(\n",
       "                {&quot;extraClasses&quot;: &quot;fa-rotate-0&quot;, &quot;icon&quot;: &quot;info-sign&quot;, &quot;iconColor&quot;: &quot;white&quot;, &quot;markerColor&quot;: &quot;blue&quot;, &quot;prefix&quot;: &quot;glyphicon&quot;}\n",
       "            );\n",
       "            marker_0a9d144e0fc1bf7186ce4057ecad000d.setIcon(icon_e4c9b53011353a95c37b9c514a98a851);\n",
       "        \n",
       "    \n",
       "        var popup_d6b59cabd26aaf897bc98d828f34fbb3 = L.popup({&quot;maxWidth&quot;: 400});\n",
       "\n",
       "        \n",
       "            \n",
       "                var html_852a8dd1b8a691b40cda0b84851e755c = $(`&lt;div id=&quot;html_852a8dd1b8a691b40cda0b84851e755c&quot; style=&quot;width: 100.0%; height: 100.0%;&quot;&gt;&lt;!DOCTYPE html&gt;     &lt;html&gt;     &lt;strong&gt;Building Name: &lt;/strong&gt;Gorlin at Aqua&lt;br&gt;     &lt;strong&gt;Sale Price: &lt;/strong&gt;$3,150,000.00&lt;br&gt;     &lt;strong&gt;Days on Market: &lt;/strong&gt;62&lt;br&gt;     &lt;strong&gt;Listing Agent: &lt;/strong&gt;Bento Queiroz&lt;br&gt;     &lt;strong&gt;Buyer&#x27;s Agent: &lt;/strong&gt;Cyril Matz&lt;br&gt;     &lt;strong&gt;Price sq ft: &lt;/strong&gt;$1461.04&lt;br&gt;     &lt;strong&gt;Address: &lt;/strong&gt;6101 Aqua Ave 701 Miami&lt;br&gt;     &lt;/html&gt;     &lt;/div&gt;`)[0];\n",
       "                popup_d6b59cabd26aaf897bc98d828f34fbb3.setContent(html_852a8dd1b8a691b40cda0b84851e755c);\n",
       "            \n",
       "        \n",
       "\n",
       "        marker_0a9d144e0fc1bf7186ce4057ecad000d.bindPopup(popup_d6b59cabd26aaf897bc98d828f34fbb3)\n",
       "        ;\n",
       "\n",
       "        \n",
       "    \n",
       "    \n",
       "            var marker_eb3811ca679046cbaf261f9acd0deba4 = L.marker(\n",
       "                [25.7725042, -80.1359264],\n",
       "                {&quot;fill&quot;: true, &quot;radius&quot;: 5}\n",
       "            ).addTo(feature_group_4ef077e619b8433d0adbf59617ba4056);\n",
       "        \n",
       "    \n",
       "            var icon_5d3de6ca8988b61e1b7204f6e2cbdc9b = L.AwesomeMarkers.icon(\n",
       "                {&quot;extraClasses&quot;: &quot;fa-rotate-0&quot;, &quot;icon&quot;: &quot;info-sign&quot;, &quot;iconColor&quot;: &quot;white&quot;, &quot;markerColor&quot;: &quot;blue&quot;, &quot;prefix&quot;: &quot;glyphicon&quot;}\n",
       "            );\n",
       "            marker_eb3811ca679046cbaf261f9acd0deba4.setIcon(icon_5d3de6ca8988b61e1b7204f6e2cbdc9b);\n",
       "        \n",
       "    \n",
       "        var popup_a2f92672437a437b01b0ceea2ff5cc36 = L.popup({&quot;maxWidth&quot;: 400});\n",
       "\n",
       "        \n",
       "            \n",
       "                var html_da8d81f8f3e02f57ce6631384c859f37 = $(`&lt;div id=&quot;html_da8d81f8f3e02f57ce6631384c859f37&quot; style=&quot;width: 100.0%; height: 100.0%;&quot;&gt;&lt;!DOCTYPE html&gt;     &lt;html&gt;     &lt;strong&gt;Building Name: &lt;/strong&gt;Louver House&lt;br&gt;     &lt;strong&gt;Sale Price: &lt;/strong&gt;$2,700,000.00&lt;br&gt;     &lt;strong&gt;Days on Market: &lt;/strong&gt;470&lt;br&gt;     &lt;strong&gt;Listing Agent: &lt;/strong&gt;Lianna Bianco&lt;br&gt;     &lt;strong&gt;Buyer&#x27;s Agent: &lt;/strong&gt;Natalija Klisuric&lt;br&gt;     &lt;strong&gt;Price sq ft: &lt;/strong&gt;$1367.78&lt;br&gt;     &lt;strong&gt;Address: &lt;/strong&gt;311 Meridian Ave PH2 Miami&lt;br&gt;     &lt;/html&gt;     &lt;/div&gt;`)[0];\n",
       "                popup_a2f92672437a437b01b0ceea2ff5cc36.setContent(html_da8d81f8f3e02f57ce6631384c859f37);\n",
       "            \n",
       "        \n",
       "\n",
       "        marker_eb3811ca679046cbaf261f9acd0deba4.bindPopup(popup_a2f92672437a437b01b0ceea2ff5cc36)\n",
       "        ;\n",
       "\n",
       "        \n",
       "    \n",
       "    \n",
       "            var marker_5c036a998e857525170b55cba5d3f19e = L.marker(\n",
       "                [25.7733308, -80.13634370000001],\n",
       "                {&quot;fill&quot;: true, &quot;radius&quot;: 5}\n",
       "            ).addTo(feature_group_4ef077e619b8433d0adbf59617ba4056);\n",
       "        \n",
       "    \n",
       "            var icon_14b22b718b5ed1599bcec93495fbad74 = L.AwesomeMarkers.icon(\n",
       "                {&quot;extraClasses&quot;: &quot;fa-rotate-0&quot;, &quot;icon&quot;: &quot;info-sign&quot;, &quot;iconColor&quot;: &quot;white&quot;, &quot;markerColor&quot;: &quot;blue&quot;, &quot;prefix&quot;: &quot;glyphicon&quot;}\n",
       "            );\n",
       "            marker_5c036a998e857525170b55cba5d3f19e.setIcon(icon_14b22b718b5ed1599bcec93495fbad74);\n",
       "        \n",
       "    \n",
       "        var popup_b405b1241f6aad9adf497040d79155a2 = L.popup({&quot;maxWidth&quot;: 400});\n",
       "\n",
       "        \n",
       "            \n",
       "                var html_ed830d0b5b5a49cf008428bc26cf4f4d = $(`&lt;div id=&quot;html_ed830d0b5b5a49cf008428bc26cf4f4d&quot; style=&quot;width: 100.0%; height: 100.0%;&quot;&gt;&lt;!DOCTYPE html&gt;     &lt;html&gt;     &lt;strong&gt;Building Name: &lt;/strong&gt;350 Meridian&lt;br&gt;     &lt;strong&gt;Sale Price: &lt;/strong&gt;$2,675,000.00&lt;br&gt;     &lt;strong&gt;Days on Market: &lt;/strong&gt;59&lt;br&gt;     &lt;strong&gt;Listing Agent: &lt;/strong&gt;Dina Goldentayer&lt;br&gt;     &lt;strong&gt;Buyer&#x27;s Agent: &lt;/strong&gt;Samantha Elenson&lt;br&gt;     &lt;strong&gt;Price sq ft: &lt;/strong&gt;$1188.89&lt;br&gt;     &lt;strong&gt;Address: &lt;/strong&gt;350 Meridian Ave 101 Miami&lt;br&gt;     &lt;/html&gt;     &lt;/div&gt;`)[0];\n",
       "                popup_b405b1241f6aad9adf497040d79155a2.setContent(html_ed830d0b5b5a49cf008428bc26cf4f4d);\n",
       "            \n",
       "        \n",
       "\n",
       "        marker_5c036a998e857525170b55cba5d3f19e.bindPopup(popup_b405b1241f6aad9adf497040d79155a2)\n",
       "        ;\n",
       "\n",
       "        \n",
       "    \n",
       "    \n",
       "            var marker_1618e4f1bd31efad81b06faec2d20539 = L.marker(\n",
       "                [25.8867878, -80.1221802],\n",
       "                {&quot;fill&quot;: true, &quot;radius&quot;: 5}\n",
       "            ).addTo(feature_group_4ef077e619b8433d0adbf59617ba4056);\n",
       "        \n",
       "    \n",
       "            var icon_97c1abc787de7454532b41ab8fda0966 = L.AwesomeMarkers.icon(\n",
       "                {&quot;extraClasses&quot;: &quot;fa-rotate-0&quot;, &quot;icon&quot;: &quot;info-sign&quot;, &quot;iconColor&quot;: &quot;white&quot;, &quot;markerColor&quot;: &quot;blue&quot;, &quot;prefix&quot;: &quot;glyphicon&quot;}\n",
       "            );\n",
       "            marker_1618e4f1bd31efad81b06faec2d20539.setIcon(icon_97c1abc787de7454532b41ab8fda0966);\n",
       "        \n",
       "    \n",
       "        var popup_d68c2a46e3d98f153e7c43f77b238bd7 = L.popup({&quot;maxWidth&quot;: 400});\n",
       "\n",
       "        \n",
       "            \n",
       "                var html_5fcb692db5b7fd79d2ed89dcc754e254 = $(`&lt;div id=&quot;html_5fcb692db5b7fd79d2ed89dcc754e254&quot; style=&quot;width: 100.0%; height: 100.0%;&quot;&gt;&lt;!DOCTYPE html&gt;     &lt;html&gt;     &lt;strong&gt;Building Name: &lt;/strong&gt;Solimar Condo&lt;br&gt;     &lt;strong&gt;Sale Price: &lt;/strong&gt;$2,200,000.00&lt;br&gt;     &lt;strong&gt;Days on Market: &lt;/strong&gt;63&lt;br&gt;     &lt;strong&gt;Listing Agent: &lt;/strong&gt;Shneur Shapira&lt;br&gt;     &lt;strong&gt;Buyer&#x27;s Agent: &lt;/strong&gt;Shneur Shapira&lt;br&gt;     &lt;strong&gt;Price sq ft: &lt;/strong&gt;$1111.11&lt;br&gt;     &lt;strong&gt;Address: &lt;/strong&gt;9595 Collins Ave N11H&lt;br&gt;     &lt;/html&gt;     &lt;/div&gt;`)[0];\n",
       "                popup_d68c2a46e3d98f153e7c43f77b238bd7.setContent(html_5fcb692db5b7fd79d2ed89dcc754e254);\n",
       "            \n",
       "        \n",
       "\n",
       "        marker_1618e4f1bd31efad81b06faec2d20539.bindPopup(popup_d68c2a46e3d98f153e7c43f77b238bd7)\n",
       "        ;\n",
       "\n",
       "        \n",
       "    \n",
       "    \n",
       "            var marker_9211b8f6e1b6e89db6f485650155ab23 = L.marker(\n",
       "                [25.939725, -80.13433160000001],\n",
       "                {&quot;fill&quot;: true, &quot;radius&quot;: 5}\n",
       "            ).addTo(feature_group_4ef077e619b8433d0adbf59617ba4056);\n",
       "        \n",
       "    \n",
       "            var icon_29c4af1a569f3cb874237c082c5db243 = L.AwesomeMarkers.icon(\n",
       "                {&quot;extraClasses&quot;: &quot;fa-rotate-0&quot;, &quot;icon&quot;: &quot;info-sign&quot;, &quot;iconColor&quot;: &quot;white&quot;, &quot;markerColor&quot;: &quot;blue&quot;, &quot;prefix&quot;: &quot;glyphicon&quot;}\n",
       "            );\n",
       "            marker_9211b8f6e1b6e89db6f485650155ab23.setIcon(icon_29c4af1a569f3cb874237c082c5db243);\n",
       "        \n",
       "    \n",
       "        var popup_2ed818bc79c9fdf8294105d398e561ed = L.popup({&quot;maxWidth&quot;: 400});\n",
       "\n",
       "        \n",
       "            \n",
       "                var html_a0d7a5e1370fd3784440b6c3d6083c3b = $(`&lt;div id=&quot;html_a0d7a5e1370fd3784440b6c3d6083c3b&quot; style=&quot;width: 100.0%; height: 100.0%;&quot;&gt;&lt;!DOCTYPE html&gt;     &lt;html&gt;     &lt;strong&gt;Building Name: &lt;/strong&gt;Williams Island&lt;br&gt;     &lt;strong&gt;Sale Price: &lt;/strong&gt;$1,475,000.00&lt;br&gt;     &lt;strong&gt;Days on Market: &lt;/strong&gt;201&lt;br&gt;     &lt;strong&gt;Listing Agent: &lt;/strong&gt;Joel Matus&lt;br&gt;     &lt;strong&gt;Buyer&#x27;s Agent: &lt;/strong&gt;Joel Matus&lt;br&gt;     &lt;strong&gt;Price sq ft: &lt;/strong&gt;$684.77&lt;br&gt;     &lt;strong&gt;Address: &lt;/strong&gt;2800 Island Blvd 3005&lt;br&gt;     &lt;/html&gt;     &lt;/div&gt;`)[0];\n",
       "                popup_2ed818bc79c9fdf8294105d398e561ed.setContent(html_a0d7a5e1370fd3784440b6c3d6083c3b);\n",
       "            \n",
       "        \n",
       "\n",
       "        marker_9211b8f6e1b6e89db6f485650155ab23.bindPopup(popup_2ed818bc79c9fdf8294105d398e561ed)\n",
       "        ;\n",
       "\n",
       "        \n",
       "    \n",
       "    \n",
       "            var marker_43cb42a5395b14c1cc276afe716a4b85 = L.marker(\n",
       "                [25.9389926, -80.1207533],\n",
       "                {&quot;fill&quot;: true, &quot;radius&quot;: 5}\n",
       "            ).addTo(feature_group_4ef077e619b8433d0adbf59617ba4056);\n",
       "        \n",
       "    \n",
       "            var icon_3ce99274798a12a149331b3816c5f20b = L.AwesomeMarkers.icon(\n",
       "                {&quot;extraClasses&quot;: &quot;fa-rotate-0&quot;, &quot;icon&quot;: &quot;info-sign&quot;, &quot;iconColor&quot;: &quot;white&quot;, &quot;markerColor&quot;: &quot;blue&quot;, &quot;prefix&quot;: &quot;glyphicon&quot;}\n",
       "            );\n",
       "            marker_43cb42a5395b14c1cc276afe716a4b85.setIcon(icon_3ce99274798a12a149331b3816c5f20b);\n",
       "        \n",
       "    \n",
       "        var popup_cbc9757bc013f0f3456006940b0b5ca2 = L.popup({&quot;maxWidth&quot;: 400});\n",
       "\n",
       "        \n",
       "            \n",
       "                var html_03d37e8df26174627161ec56094abd0f = $(`&lt;div id=&quot;html_03d37e8df26174627161ec56094abd0f&quot; style=&quot;width: 100.0%; height: 100.0%;&quot;&gt;&lt;!DOCTYPE html&gt;     &lt;html&gt;     &lt;strong&gt;Building Name: &lt;/strong&gt;The Pinnacle&lt;br&gt;     &lt;strong&gt;Sale Price: &lt;/strong&gt;$1,350,000.00&lt;br&gt;     &lt;strong&gt;Days on Market: &lt;/strong&gt;143&lt;br&gt;     &lt;strong&gt;Listing Agent: &lt;/strong&gt;William McClain Jr.&lt;br&gt;     &lt;strong&gt;Buyer&#x27;s Agent: &lt;/strong&gt;Rene Bushel Gioia Jr.&lt;br&gt;     &lt;strong&gt;Price sq ft: &lt;/strong&gt;$849.06&lt;br&gt;     &lt;strong&gt;Address: &lt;/strong&gt;17555 Collins Ave 404 Sunny Isles&lt;br&gt;     &lt;/html&gt;     &lt;/div&gt;`)[0];\n",
       "                popup_cbc9757bc013f0f3456006940b0b5ca2.setContent(html_03d37e8df26174627161ec56094abd0f);\n",
       "            \n",
       "        \n",
       "\n",
       "        marker_43cb42a5395b14c1cc276afe716a4b85.bindPopup(popup_cbc9757bc013f0f3456006940b0b5ca2)\n",
       "        ;\n",
       "\n",
       "        \n",
       "    \n",
       "    \n",
       "            var marker_9c948069587aea138be590a38e25c63d = L.marker(\n",
       "                [25.8071448, -80.1856208],\n",
       "                {&quot;fill&quot;: true, &quot;radius&quot;: 5}\n",
       "            ).addTo(feature_group_4ef077e619b8433d0adbf59617ba4056);\n",
       "        \n",
       "    \n",
       "            var icon_72331b461a9892bb4a8d95570d94f0ee = L.AwesomeMarkers.icon(\n",
       "                {&quot;extraClasses&quot;: &quot;fa-rotate-0&quot;, &quot;icon&quot;: &quot;info-sign&quot;, &quot;iconColor&quot;: &quot;white&quot;, &quot;markerColor&quot;: &quot;blue&quot;, &quot;prefix&quot;: &quot;glyphicon&quot;}\n",
       "            );\n",
       "            marker_9c948069587aea138be590a38e25c63d.setIcon(icon_72331b461a9892bb4a8d95570d94f0ee);\n",
       "        \n",
       "    \n",
       "        var popup_d3c0aab0b4457c4e4dcf379b01139ce4 = L.popup({&quot;maxWidth&quot;: 400});\n",
       "\n",
       "        \n",
       "            \n",
       "                var html_b4ded54687e0cf107a6c682f9a370f50 = $(`&lt;div id=&quot;html_b4ded54687e0cf107a6c682f9a370f50&quot; style=&quot;width: 100.0%; height: 100.0%;&quot;&gt;&lt;!DOCTYPE html&gt;     &lt;html&gt;     &lt;strong&gt;Building Name: &lt;/strong&gt;One Paraiso Condo&lt;br&gt;     &lt;strong&gt;Sale Price: &lt;/strong&gt;$1,192,500.00&lt;br&gt;     &lt;strong&gt;Days on Market: &lt;/strong&gt;294&lt;br&gt;     &lt;strong&gt;Listing Agent: &lt;/strong&gt;Denni Jordan&lt;br&gt;     &lt;strong&gt;Buyer&#x27;s Agent: &lt;/strong&gt;Valerie Navarrete&lt;br&gt;     &lt;strong&gt;Price sq ft: &lt;/strong&gt;$781.45&lt;br&gt;     &lt;strong&gt;Address: &lt;/strong&gt;3131 NE 7th Ave 303&lt;br&gt;     &lt;/html&gt;     &lt;/div&gt;`)[0];\n",
       "                popup_d3c0aab0b4457c4e4dcf379b01139ce4.setContent(html_b4ded54687e0cf107a6c682f9a370f50);\n",
       "            \n",
       "        \n",
       "\n",
       "        marker_9c948069587aea138be590a38e25c63d.bindPopup(popup_d3c0aab0b4457c4e4dcf379b01139ce4)\n",
       "        ;\n",
       "\n",
       "        \n",
       "    \n",
       "    \n",
       "            var marker_bc132e925805827488e8885f34dc86a6 = L.marker(\n",
       "                [25.8225276, -80.1215168],\n",
       "                {&quot;fill&quot;: true, &quot;radius&quot;: 5}\n",
       "            ).addTo(feature_group_4ef077e619b8433d0adbf59617ba4056);\n",
       "        \n",
       "    \n",
       "            var icon_b53b851d2e7a4811eb329d4f415d0f75 = L.AwesomeMarkers.icon(\n",
       "                {&quot;extraClasses&quot;: &quot;fa-rotate-0&quot;, &quot;icon&quot;: &quot;info-sign&quot;, &quot;iconColor&quot;: &quot;white&quot;, &quot;markerColor&quot;: &quot;blue&quot;, &quot;prefix&quot;: &quot;glyphicon&quot;}\n",
       "            );\n",
       "            marker_bc132e925805827488e8885f34dc86a6.setIcon(icon_b53b851d2e7a4811eb329d4f415d0f75);\n",
       "        \n",
       "    \n",
       "        var popup_6c200780ff5b206ea5b1ef1812e1a2d6 = L.popup({&quot;maxWidth&quot;: 400});\n",
       "\n",
       "        \n",
       "            \n",
       "                var html_8876a947960859dc0ad344031bbdee45 = $(`&lt;div id=&quot;html_8876a947960859dc0ad344031bbdee45&quot; style=&quot;width: 100.0%; height: 100.0%;&quot;&gt;&lt;!DOCTYPE html&gt;     &lt;html&gt;     &lt;strong&gt;Building Name: &lt;/strong&gt;Green Diamond Condo&lt;br&gt;     &lt;strong&gt;Sale Price: &lt;/strong&gt;$960,000.00&lt;br&gt;     &lt;strong&gt;Days on Market: &lt;/strong&gt;66&lt;br&gt;     &lt;strong&gt;Listing Agent: &lt;/strong&gt;Gale Grobman&lt;br&gt;     &lt;strong&gt;Buyer&#x27;s Agent: &lt;/strong&gt;Marina Elliot&lt;br&gt;     &lt;strong&gt;Price sq ft: &lt;/strong&gt;$872.73&lt;br&gt;     &lt;strong&gt;Address: &lt;/strong&gt;4775 Collins Ave 1406 Miami&lt;br&gt;     &lt;/html&gt;     &lt;/div&gt;`)[0];\n",
       "                popup_6c200780ff5b206ea5b1ef1812e1a2d6.setContent(html_8876a947960859dc0ad344031bbdee45);\n",
       "            \n",
       "        \n",
       "\n",
       "        marker_bc132e925805827488e8885f34dc86a6.bindPopup(popup_6c200780ff5b206ea5b1ef1812e1a2d6)\n",
       "        ;\n",
       "\n",
       "        \n",
       "    \n",
       "    \n",
       "            var marker_0949b1d7f4c38bacd56a052fcbba368c = L.marker(\n",
       "                [25.7916211, -80.1863722],\n",
       "                {&quot;fill&quot;: true, &quot;radius&quot;: 5}\n",
       "            ).addTo(feature_group_4ef077e619b8433d0adbf59617ba4056);\n",
       "        \n",
       "    \n",
       "            var icon_a66436ad532acab34074c28c941e639c = L.AwesomeMarkers.icon(\n",
       "                {&quot;extraClasses&quot;: &quot;fa-rotate-0&quot;, &quot;icon&quot;: &quot;info-sign&quot;, &quot;iconColor&quot;: &quot;white&quot;, &quot;markerColor&quot;: &quot;blue&quot;, &quot;prefix&quot;: &quot;glyphicon&quot;}\n",
       "            );\n",
       "            marker_0949b1d7f4c38bacd56a052fcbba368c.setIcon(icon_a66436ad532acab34074c28c941e639c);\n",
       "        \n",
       "    \n",
       "        var popup_64d005ef174ebf3736c8ee775f6ba9ce = L.popup({&quot;maxWidth&quot;: 400});\n",
       "\n",
       "        \n",
       "            \n",
       "                var html_c8729216f2f5f3300645e0fa36c6a0b7 = $(`&lt;div id=&quot;html_c8729216f2f5f3300645e0fa36c6a0b7&quot; style=&quot;width: 100.0%; height: 100.0%;&quot;&gt;&lt;!DOCTYPE html&gt;     &lt;html&gt;     &lt;strong&gt;Building Name: &lt;/strong&gt;The Grand&lt;br&gt;     &lt;strong&gt;Sale Price: &lt;/strong&gt;$950,000.00&lt;br&gt;     &lt;strong&gt;Days on Market: &lt;/strong&gt;125&lt;br&gt;     &lt;strong&gt;Listing Agent: &lt;/strong&gt;Jill Penman&lt;br&gt;     &lt;strong&gt;Buyer&#x27;s Agent: &lt;/strong&gt;Linda Duarte&lt;br&gt;     &lt;strong&gt;Price sq ft: &lt;/strong&gt;$553.29&lt;br&gt;     &lt;strong&gt;Address: &lt;/strong&gt;1717 N Bayshore Dr A-3334&lt;br&gt;     &lt;/html&gt;     &lt;/div&gt;`)[0];\n",
       "                popup_64d005ef174ebf3736c8ee775f6ba9ce.setContent(html_c8729216f2f5f3300645e0fa36c6a0b7);\n",
       "            \n",
       "        \n",
       "\n",
       "        marker_0949b1d7f4c38bacd56a052fcbba368c.bindPopup(popup_64d005ef174ebf3736c8ee775f6ba9ce)\n",
       "        ;\n",
       "\n",
       "        \n",
       "    \n",
       "    \n",
       "            var tile_layer_e68ea874763bfaa6543f2d4570b7d8fb = L.tileLayer(\n",
       "                &quot;https://{s}.tile.openstreetmap.org/{z}/{x}/{y}.png&quot;,\n",
       "                {&quot;attribution&quot;: &quot;Data by \\u0026copy; \\u003ca href=\\&quot;http://openstreetmap.org\\&quot;\\u003eOpenStreetMap\\u003c/a\\u003e, under \\u003ca href=\\&quot;http://www.openstreetmap.org/copyright\\&quot;\\u003eODbL\\u003c/a\\u003e.&quot;, &quot;detectRetina&quot;: false, &quot;maxNativeZoom&quot;: 18, &quot;maxZoom&quot;: 18, &quot;minZoom&quot;: 0, &quot;noWrap&quot;: false, &quot;opacity&quot;: 1, &quot;subdomains&quot;: &quot;abc&quot;, &quot;tms&quot;: false}\n",
       "            ).addTo(map_a6b3c052c0dada86350e851b4de6bb94);\n",
       "        \n",
       "    \n",
       "            var layer_control_a96a18b50a20d0c6b0097bcb4acf1de4 = {\n",
       "                base_layers : {\n",
       "                },\n",
       "                overlays :  {\n",
       "                    &quot;Top Sale&quot; : feature_group_bf2cd35dfd0dacf505777f72d39e9641,\n",
       "                    &quot;All other sales&quot; : feature_group_4ef077e619b8433d0adbf59617ba4056,\n",
       "                },\n",
       "            };\n",
       "            L.control.layers(\n",
       "                layer_control_a96a18b50a20d0c6b0097bcb4acf1de4.base_layers,\n",
       "                layer_control_a96a18b50a20d0c6b0097bcb4acf1de4.overlays,\n",
       "                {&quot;autoZIndex&quot;: true, &quot;collapsed&quot;: false, &quot;position&quot;: &quot;topright&quot;}\n",
       "            ).addTo(map_a6b3c052c0dada86350e851b4de6bb94);\n",
       "        \n",
       "&lt;/script&gt;\" style=\"position:absolute;width:100%;height:100%;left:0;top:0;border:none !important;\" allowfullscreen webkitallowfullscreen mozallowfullscreen></iframe></div></div>"
      ],
      "text/plain": [
       "<folium.folium.Map at 0x7fcc868f4910>"
      ]
     },
     "execution_count": 67,
     "metadata": {},
     "output_type": "execute_result"
    }
   ],
   "source": [
    "import folium\n",
    "from folium.plugins import MarkerCluster\n",
    "\n",
    "m = folium.Map(location=df[[\"lat\", \"lon\"]].mean().to_list(), zoom_start=10)\n",
    "\n",
    "title_html = '''\n",
    "              <h3 align=\"center\" style=\"font-size:16px\"><b>{}</b></h3>\n",
    "             '''.format(f'Recent Miami-Dade Condo Sales ')\n",
    "\n",
    "caption_html = '''\n",
    "                <p align=\"center\" style=\"vertical-align: bottom; font-size:13px\"><i>{}</i></p>\n",
    "                '''.format(f'{week_starting} - {week_ending}')\n",
    "\n",
    "\n",
    "### Create map container ###\n",
    "m = folium.Map(location=df[[\"lat\", \"lon\"]].mean().to_list(),zoom_start=9.5,tiles=None)\n",
    "\n",
    "# Create two FeatureGroups for different color pins\n",
    "fg_blue = folium.FeatureGroup(name='All other sales')\n",
    "fg_orange = folium.FeatureGroup(name='Top Sale')\n",
    "\n",
    "for index, row in df.iterrows():\n",
    "    # Add the markers to the appropriate FeatureGroup based on the color\n",
    "    if row['COLOR'] == 'blue':\n",
    "        marker = folium.Marker(\n",
    "            location=[row['lat'], row['lon']],\n",
    "            radius=5,\n",
    "            fill=True,\n",
    "            icon=folium.Icon(color=row['COLOR']),\n",
    "            popup=folium.Popup(popup_html(row), max_width=400))\n",
    "        marker.add_to(fg_blue)\n",
    "    else:\n",
    "        marker = folium.Marker(\n",
    "            location=[row['lat'], row['lon']],\n",
    "            radius=5,\n",
    "            fill=True,\n",
    "            icon=folium.Icon(color=row['COLOR']),\n",
    "            popup=folium.Popup(popup_html(row), max_width=400))\n",
    "        marker.add_to(fg_orange)\n",
    "\n",
    "# Add the FeatureGroups to the map\n",
    "fg_orange.add_to(m)\n",
    "fg_blue.add_to(m)\n",
    "\n",
    "folium.TileLayer('OpenStreetMap',control=False).add_to(m)\n",
    "\n",
    "# Add LayerControl to the map\n",
    "folium.map.LayerControl(collapsed=False).add_to(m)\n",
    "m.get_root().html.add_child(folium.Element(title_html))\n",
    "m.get_root().html.add_child(folium.Element(caption_html))\n",
    "            \n",
    "# Display map\n",
    "m"
   ]
  },
  {
   "cell_type": "code",
   "execution_count": 68,
   "metadata": {},
   "outputs": [],
   "source": [
    "m.save('index.html')"
   ]
  },
  {
   "cell_type": "markdown",
   "metadata": {},
   "source": [
    "## Data snagger"
   ]
  },
  {
   "cell_type": "code",
   "execution_count": 69,
   "metadata": {},
   "outputs": [],
   "source": [
    "### Set up formatting ###\n",
    "BR = '\\n'\n",
    "\n",
    "ME = '\\033[1m' + 'Most Expensive' + '\\033[0m'\n",
    "LE = '\\033[1m' + 'Least Expensive' + '\\033[0m'\n",
    "\n",
    "MAX_PSF = '\\033[1m' + 'Highest Price Per Square Foot' + '\\033[0m'\n",
    "MIN_PSF = '\\033[1m' + 'Lowest Price Per Square Foot' + '\\033[0m'\n",
    "\n",
    "DAYS_MAX = '\\033[1m' + 'Most Days on Market' + '\\033[0m'\n",
    "DAYS_MIN = '\\033[1m' + 'Fewest Days on Market' + '\\033[0m'"
   ]
  },
  {
   "cell_type": "code",
   "execution_count": 70,
   "metadata": {},
   "outputs": [
    {
     "name": "stdout",
     "output_type": "stream",
     "text": [
      "\u001b[1mMost Expensive\u001b[0m\n",
      "Jade Signature, 16901 Collins Ave 4301 Sunny Isles | Price $8,000,000 | $1,834 psf | Listing agent: Erena Stus with Miami Beach Prestige Realty | Buyer's agent: Jose Santovena with Luxe Living Realty | Days on market: 66\n",
      "\u001b[1mLeast Expensive\u001b[0m\n",
      "The Grand, 1717 N Bayshore Dr A-3334 | Price $950,000 | $553 psf | Listing agent: Jill Penman with One Sotheby's Int'l Realty | Buyer's agent: Linda Duarte with ENGEL & VOLKERS Miami | Days on market: 125\n",
      "\u001b[1mHighest Price Per Square Foot\u001b[0m\n",
      "Jade Signature, 16901 Collins Ave 4301 Sunny Isles | Price $8,000,000 | $1,834 psf | Listing agent: Erena Stus with Miami Beach Prestige Realty | Buyer's agent: Jose Santovena with Luxe Living Realty | Days on market: 66\n",
      "\u001b[1mLowest Price Per Square Foot\u001b[0m\n",
      "The Grand, 1717 N Bayshore Dr A-3334 | Price $950,000 | $553 psf | Listing agent: Jill Penman with One Sotheby's Int'l Realty | Buyer's agent: Linda Duarte with ENGEL & VOLKERS Miami | Days on market: 125\n",
      "\u001b[1mMost Days on Market\u001b[0m\n",
      "Louver House, 311 Meridian Ave PH2 Miami | Price $2,700,000 | $1,368 psf | Listing agent: Lianna Bianco with Premier Int'l Properties Group | Buyer's agent: Natalija Klisuric with Douglas Elliman | Days on market: 470\n",
      "\u001b[1mFewest Days on Market\u001b[0m\n",
      "350 Meridian, 350 Meridian Ave 101 Miami | Price $2,675,000 | $1,189 psf | Listing agent: Dina Goldentayer with Douglas Elliman | Buyer's agent: Samantha Elenson with One Sotheby's Int'l Realty | Days on market: 59\n"
     ]
    }
   ],
   "source": [
    "### Highest and lowest sale price ###\n",
    "print(f\"{ME}{BR}{df.loc[df['int_Sale_Price'].idxmax()]['building_name']}, {df.loc[df['int_Sale_Price'].idxmax()]['address']} | Price ${df.loc[df['int_Sale_Price'].idxmax()]['int_Sale_Price']:,.0f} | ${df.loc[df['int_Sale_Price'].idxmax()]['price_per_sqft']:,.0f} psf | Listing agent: {df.loc[df['int_Sale_Price'].idxmax()]['Agent']} with {df.loc[df['int_Sale_Price'].idxmax()]['Listing Broker']} | Buyer's agent: {df.loc[df['int_Sale_Price'].idxmax()]['Buyer Agent']} with {df.loc[df['int_Sale_Price'].idxmax()]['Buyer Broker']} | Days on market: {df.loc[df['int_Sale_Price'].idxmax()]['days_on_market']}\")\n",
    "print(f\"{LE}{BR}{df.loc[df['int_Sale_Price'].idxmin()]['building_name']}, {df.loc[df['int_Sale_Price'].idxmin()]['address']} | Price ${df.loc[df['int_Sale_Price'].idxmin()]['int_Sale_Price']:,.0f} | ${df.loc[df['int_Sale_Price'].idxmin()]['price_per_sqft']:,.0f} psf | Listing agent: {df.loc[df['int_Sale_Price'].idxmin()]['Agent']} with {df.loc[df['int_Sale_Price'].idxmin()]['Listing Broker']} | Buyer's agent: {df.loc[df['int_Sale_Price'].idxmin()]['Buyer Agent']} with {df.loc[df['int_Sale_Price'].idxmin()]['Buyer Broker']} | Days on market: {df.loc[df['int_Sale_Price'].idxmin()]['days_on_market']}\")\n",
    "### Highest and lowest psf ###\n",
    "print(f\"{MAX_PSF}{BR}{df.loc[df['price_per_sqft'].idxmax()]['building_name']}, {df.loc[df['price_per_sqft'].idxmax()]['address']} | Price ${df.loc[df['price_per_sqft'].idxmax()]['int_Sale_Price']:,.0f} | ${df.loc[df['price_per_sqft'].idxmax()]['price_per_sqft']:,.0f} psf | Listing agent: {df.loc[df['price_per_sqft'].idxmax()]['Agent']} with {df.loc[df['price_per_sqft'].idxmax()]['Listing Broker']} | Buyer's agent: {df.loc[df['price_per_sqft'].idxmax()]['Buyer Agent']} with {df.loc[df['price_per_sqft'].idxmax()]['Buyer Broker']} | Days on market: {df.loc[df['price_per_sqft'].idxmax()]['days_on_market']}\")\n",
    "print(f\"{MIN_PSF}{BR}{df.loc[df['price_per_sqft'].idxmin()]['building_name']}, {df.loc[df['price_per_sqft'].idxmin()]['address']} | Price ${df.loc[df['price_per_sqft'].idxmin()]['int_Sale_Price']:,.0f} | ${df.loc[df['price_per_sqft'].idxmin()]['price_per_sqft']:,.0f} psf | Listing agent: {df.loc[df['price_per_sqft'].idxmin()]['Agent']} with {df.loc[df['price_per_sqft'].idxmin()]['Listing Broker']} | Buyer's agent: {df.loc[df['price_per_sqft'].idxmin()]['Buyer Agent']} with {df.loc[df['price_per_sqft'].idxmin()]['Buyer Broker']} | Days on market: {df.loc[df['price_per_sqft'].idxmin()]['days_on_market']}\")\n",
    "### Highest and lowest days on market ###\n",
    "print(f\"{DAYS_MAX}{BR}{df.loc[df['days_on_market'].idxmax()]['building_name']}, {df.loc[df['days_on_market'].idxmax()]['address']} | Price ${df.loc[df['days_on_market'].idxmax()]['int_Sale_Price']:,.0f} | ${df.loc[df['days_on_market'].idxmax()]['price_per_sqft']:,.0f} psf | Listing agent: {df.loc[df['days_on_market'].idxmax()]['Agent']} with {df.loc[df['days_on_market'].idxmax()]['Listing Broker']} | Buyer's agent: {df.loc[df['days_on_market'].idxmax()]['Buyer Agent']} with {df.loc[df['days_on_market'].idxmax()]['Buyer Broker']} | Days on market: {df.loc[df['days_on_market'].idxmax()]['days_on_market']}\")\n",
    "print(f\"{DAYS_MIN}{BR}{df.loc[df['days_on_market'].idxmin()]['building_name']}, {df.loc[df['days_on_market'].idxmin()]['address']} | Price ${df.loc[df['days_on_market'].idxmin()]['int_Sale_Price']:,.0f} | ${df.loc[df['days_on_market'].idxmin()]['price_per_sqft']:,.0f} psf | Listing agent: {df.loc[df['days_on_market'].idxmin()]['Agent']} with {df.loc[df['days_on_market'].idxmin()]['Listing Broker']} | Buyer's agent: {df.loc[df['days_on_market'].idxmin()]['Buyer Agent']} with {df.loc[df['days_on_market'].idxmin()]['Buyer Broker']} | Days on market: {df.loc[df['days_on_market'].idxmin()]['days_on_market']}\")"
   ]
  },
  {
   "cell_type": "code",
   "execution_count": 71,
   "metadata": {},
   "outputs": [
    {
     "data": {
      "text/plain": [
       "154.9"
      ]
     },
     "execution_count": 71,
     "metadata": {},
     "output_type": "execute_result"
    }
   ],
   "source": [
    "df['days_on_market'].mean()"
   ]
  },
  {
   "cell_type": "markdown",
   "metadata": {},
   "source": [
    "## Map URL snagger"
   ]
  },
  {
   "cell_type": "markdown",
   "metadata": {},
   "source": [
    "Map template URL: `https://trd-digital.github.io/trd-news-interactive-maps/{map-folder-name}`"
   ]
  },
  {
   "cell_type": "code",
   "execution_count": 72,
   "metadata": {},
   "outputs": [
    {
     "name": "stdout",
     "output_type": "stream",
     "text": [
      "https://trd-digital.github.io/trd-news-interactive-maps/condo_sales_week_ending_01052023__TEST_GROUND\n"
     ]
    }
   ],
   "source": [
    "base_name = 'https://trd-digital.github.io/trd-news-interactive-maps/'\n",
    "\n",
    "cwd = os.getcwd()\n",
    "\n",
    "cwd = cwd.split('/')\n",
    "\n",
    "final_name = base_name + cwd[-1]\n",
    "print(final_name)"
   ]
  },
  {
   "cell_type": "markdown",
   "metadata": {},
   "source": [
    "# CREATE TEMPLATE "
   ]
  },
  {
   "cell_type": "code",
   "execution_count": 73,
   "metadata": {},
   "outputs": [],
   "source": [
    "df['muni_name'] = df['building_address_city'].str.split('\\r').str[-1]"
   ]
  },
  {
   "cell_type": "code",
   "execution_count": 74,
   "metadata": {},
   "outputs": [],
   "source": [
    "muni_set = set(df['muni_name'])"
   ]
  },
  {
   "cell_type": "code",
   "execution_count": 75,
   "metadata": {},
   "outputs": [],
   "source": [
    "df['building_address_city_clean'] = df['building_address_city'].str.split('\\r')"
   ]
  },
  {
   "cell_type": "code",
   "execution_count": 76,
   "metadata": {},
   "outputs": [],
   "source": [
    "top_sale = df.at[1, 'building_address_city_clean']\n",
    "second_top_sale = df.at[2,'building_address_city_clean']"
   ]
  },
  {
   "cell_type": "code",
   "execution_count": 101,
   "metadata": {},
   "outputs": [],
   "source": [
    "# Subtract the smaller value from the larger one\n",
    "if average_sale_price > previous_week_average_sales_price:\n",
    "    seo_head = 'Rise'\n",
    "    change = 'higher'\n",
    "    difference = int(average_sale_price) - int(previous_week_average_sales_price)\n",
    "else:\n",
    "    seo_head = 'Drop'\n",
    "    change = 'lower'\n",
    "    difference = int(previous_week_average_sales_price) - int(average_sale_price)\n",
    "    \n",
    "if int(average_price_psf) > int(previous_week_average_psf):\n",
    "    psf_rf = 'rose'\n",
    "elif int(average_price_psf) < int(previous_week_average_psf):\n",
    "    psf_rf ='fell'\n",
    "else:\n",
    "    psf_rf = 'equaled'"
   ]
  },
  {
   "cell_type": "code",
   "execution_count": 98,
   "metadata": {},
   "outputs": [
    {
     "data": {
      "text/plain": [
       "'535'"
      ]
     },
     "execution_count": 98,
     "metadata": {},
     "output_type": "execute_result"
    }
   ],
   "source": [
    "average_price_psf"
   ]
  },
  {
   "cell_type": "code",
   "execution_count": 111,
   "metadata": {},
   "outputs": [],
   "source": [
    "story_string = f'''\n",
    "\\033[1mHED:\\033[0m {df.loc[df['int_Sale_Price'].idxmax()]['building_name']} tops Miami-Dade weekly condo sales \n",
    "\\033[1mDEK:\\033[0m Top ten sales ranged from {df.at[10,'Sale Price']} to {df.at[1,'Sale Price']}\n",
    "\\033[1mFEATURED HED:\\033[0m\n",
    "\\033[1mSEO HED:\\033[0m Miami-Dade County Condo Sales {seo_head} \n",
    "\\033[1mSEO DESCRIPTION:\\033[0m Miami-Dade County’s condo sales XXXXXXX\n",
    "\\033[1mAUTHOR:\\033[0m Adam Farence\n",
    "\\033[1mRESEARCH:\\033[0m \n",
    "\\033[1mSocial:\\033[0m #MiamiDade condo sales XXXXX\n",
    "\\033[1mART:\\033[0m\n",
    "\n",
    "Credit condo.com with the image below and the PDF chart in the story\n",
    "{top_condo_image_url}\n",
    "\n",
    "Interactive map\n",
    "\n",
    "*Please provide credits for any images that you share\n",
    "\\033[1mSTORY TYPE:\\033[0m Report\n",
    "\\033[1mSECTOR\\033[0m (formerly CATEGORY): Residential Real Estate\n",
    "\\033[1mTAGS:\\033[0m condo sales, Miami-Dade County, weekly condo sales, {', '.join(str(x) for x in muni_set)}\n",
    "\n",
    "\\033[1mNeighborhood:\\033[0m \n",
    "\\033[1mProperty:\\033[0m\n",
    "\\033[1mProperty Type:\\033[0m\n",
    "\\033[1mCompanies:\\033[0m \n",
    "\\033[1mPeople:\\033[0m\n",
    "\\033[1mIssues:\\033[0m\n",
    "\\033[1mRegion:\\033[0m\n",
    "\n",
    "\n",
    "Miami-Dade County’s NEWS PEG HERE.\n",
    "\n",
    "Brokers closed {int(current_week_condo_sales):,.0f} condo sales totaling ${int(current_week_condo_sales_total):,.0f} from {week_starting} to {week_ending}. The previous week, brokers closed {previous_week_condo_sales} condo sales totaling ${int(previous_week_condo_sales_total):,.0f}.\n",
    "\n",
    "Last week’s units sold for an average of ${int(average_sale_price):,.0f}, {change} than the ${int(previous_week_average_sales_price):,.0f} from the previous week. The average price per square foot {psf_rf} to ${average_price_psf} from ${previous_week_average_psf}, according to data from condo.com. Condos closed after an average of {average_days_on_market} days on the market.\n",
    "\n",
    "For the top 10 sales, prices ranged from {df.at[10,'Sale Price']} to {df.at[1,'Sale Price']}. \n",
    "\n",
    "{top_sale[0]}, at {top_sale[1]} in {top_sale[2]} took the top spot with a {df.at[1,'Sale Price']} million closing. {df.at[1,'Agent']} with {df.at[1,'Listing Broker']} had the listing. {df.at[1,'Buyer Agent']} with {df.at[1,'Buyer Broker']} represented the buyer. The sale closed after {df.at[1,'days_on_market']} days on the market at ${df.at[1,'price_per_sqft']} per square foot.\n",
    "\n",
    "{second_top_sale[0]} in {second_top_sale[2]}, at {second_top_sale[1]}, closed for the second highest amount, {df.at[2,'Sale Price']}, or ${df.at[2,'price_per_sqft']} per square foot, after {df.at[2,'days_on_market']} days on the market. {df.at[2,'Agent']} with {df.at[2,'Listing Broker']} had the listing. {df.at[2,'Buyer Agent']} with {df.at[2,'Buyer Broker']} represented the buyer.\n",
    "\n",
    "<figure>\n",
    " <div class=\"container\">\n",
    "   <div class=\"iframe-wrap\">\n",
    "   <iframe src=\"{final_name}\" width=\"100%\" height=\"800\" frameBorder=\"0\" scrolling=\"no\"></iframe>\n",
    "  </div>\n",
    "</div>\n",
    "  <figcaption align=\"right\"><a href=\"https://leafletjs.com/\">Leaflet</a> map created by Adam Farence | Data by © <a href=\"https://www.openstreetmap.org/#map=4/38.01/-95.84\"> OpenStreetMap</a>, under <a href=\"https://www.openstreetmap.org/copyright\">ODbl.</a></figcaption>\n",
    "</figure>\n",
    "\n",
    "Here’s a breakdown of the top 10 sales from {week_starting} to {week_ending}:\n",
    "'''\n",
    "\n",
    "# print(story_string)"
   ]
  },
  {
   "cell_type": "code",
   "execution_count": 112,
   "metadata": {},
   "outputs": [
    {
     "data": {
      "text/plain": [
       "['Gorlin at Aqua', '6101 Aqua Ave 701', 'Miami Beach']"
      ]
     },
     "execution_count": 112,
     "metadata": {},
     "output_type": "execute_result"
    }
   ],
   "source": [
    "second_top_sale"
   ]
  },
  {
   "cell_type": "code",
   "execution_count": 109,
   "metadata": {},
   "outputs": [
    {
     "name": "stdout",
     "output_type": "stream",
     "text": [
      "\n",
      "\u001b[1mHED:\u001b[0m Jade Signature tops Miami-Dade weekly condo sales \n",
      "\u001b[1mDEK:\u001b[0m Top ten sales ranged from $950,000.00 to $8,000,000.00\n",
      "\u001b[1mFEATURED HED:\u001b[0m\n",
      "\u001b[1mSEO HED:\u001b[0m Miami-Dade County Condo Sales Rise \n",
      "\u001b[1mSEO DESCRIPTION:\u001b[0m Miami-Dade County’s condo sales XXXXXXX\n",
      "\u001b[1mAUTHOR:\u001b[0m Adam Farence\n",
      "\u001b[1mRESEARCH:\u001b[0m \n",
      "\u001b[1mSocial:\u001b[0m #MiamiDade condo sales XXXXX\n",
      "\u001b[1mART:\u001b[0m\n",
      "\n",
      "Credit condo.com with the image below and the PDF chart in the story\n",
      "https://www.condo.com/building/Jade-Signature-Sunny-Isles-Beach-FL-33160-93465188\n",
      "\n",
      "Interactive map\n",
      "\n",
      "*Please provide credits for any images that you share\n",
      "\u001b[1mSTORY TYPE:\u001b[0m Report\n",
      "\u001b[1mSECTOR\u001b[0m (formerly CATEGORY): Residential Real Estate\n",
      "\u001b[1mTAGS:\u001b[0m condo sales, Miami-Dade County, weekly condo sales, Miami Beach, Aventura, Surfside, Miami, Sunny Isles Beach\n",
      "\n",
      "\u001b[1mNeighborhood:\u001b[0m \n",
      "\u001b[1mProperty:\u001b[0m\n",
      "\u001b[1mProperty Type:\u001b[0m\n",
      "\u001b[1mCompanies:\u001b[0m \n",
      "\u001b[1mPeople:\u001b[0m\n",
      "\u001b[1mIssues:\u001b[0m\n",
      "\u001b[1mRegion:\u001b[0m\n",
      "\n",
      "\n",
      "Miami-Dade County’s NEWS PEG HERE.\n",
      "\n",
      "Brokers closed 45 condo sales totaling $38,756,500 from Dec. 31st to Jan. 6th. The previous week, brokers closed 60 condo sales totaling $34,828,000.\n",
      "\n",
      "Last week’s units sold for an average of $861,256, higher than the $580,467 from the previous week. The average price per square foot rose to $535 from $519, according to data from condo.com. Condos closed after an average of 77 days on the market.\n",
      "\n",
      "For the top 10 sales, prices ranged from $950,000.00 to $8,000,000.00. \n",
      "\n",
      "Jade Signature, at 16901 Collins Ave 4301 in Sunny Isles Beach took the top spot with a $8,000,000.00 million closing. Erena Stus with Miami Beach Prestige Realty had the listing. Jose Santovena with Luxe Living Realty represented the buyer. The sale closed after 66 days on the market at $1834.44 per square foot.\n",
      "\n",
      "Gorlin at Aqua in Miami Beach, at 6101 Aqua Ave 701, closed for the second highest amount, $3,150,000.00, or 1461.04, after 62. Bento Queiroz with Compass Florida, LLC. had the listing. Cyril Matz with Douglas Elliman represented the buyer.\n",
      "\n",
      "<figure>\n",
      " <div class=\"container\">\n",
      "   <div class=\"iframe-wrap\">\n",
      "   <iframe src=\"https://trd-digital.github.io/trd-news-interactive-maps/condo_sales_week_ending_01052023__TEST_GROUND\" width=\"100%\" height=\"800\" frameBorder=\"0\" scrolling=\"no\"></iframe>\n",
      "  </div>\n",
      "</div>\n",
      "  <figcaption align=\"right\"><a href=\"https://leafletjs.com/\">Leaflet</a> map created by Adam Farence | Data by © <a href=\"https://www.openstreetmap.org/#map=4/38.01/-95.84\"> OpenStreetMap</a>, under <a href=\"https://www.openstreetmap.org/copyright\">ODbl.</a></figcaption>\n",
      "</figure>\n",
      "\n",
      "Here’s a breakdown of the top 10 sales from Dec. 31st to Jan. 6th:\n",
      "\n",
      "\u001b[1mMost Expensive\u001b[0m\n",
      "Jade Signature, 16901 Collins Ave 4301 Sunny Isles | Price $8,000,000 | $1,834 psf | Listing agent: Erena Stus with Miami Beach Prestige Realty | Buyer's agent: Jose Santovena with Luxe Living Realty | Days on market: 66\n",
      "\u001b[1mLeast Expensive\u001b[0m\n",
      "The Grand, 1717 N Bayshore Dr A-3334 | Price $950,000 | $553 psf | Listing agent: Jill Penman with One Sotheby's Int'l Realty | Buyer's agent: Linda Duarte with ENGEL & VOLKERS Miami | Days on market: 125\n",
      "\u001b[1mHighest Price Per Square Foot\u001b[0m\n",
      "Jade Signature, 16901 Collins Ave 4301 Sunny Isles | Price $8,000,000 | $1,834 psf | Listing agent: Erena Stus with Miami Beach Prestige Realty | Buyer's agent: Jose Santovena with Luxe Living Realty | Days on market: 66\n",
      "\u001b[1mLowest Price Per Square Foot\u001b[0m\n",
      "The Grand, 1717 N Bayshore Dr A-3334 | Price $950,000 | $553 psf | Listing agent: Jill Penman with One Sotheby's Int'l Realty | Buyer's agent: Linda Duarte with ENGEL & VOLKERS Miami | Days on market: 125\n",
      "\u001b[1mMost Days on Market\u001b[0m\n",
      "Louver House, 311 Meridian Ave PH2 Miami | Price $2,700,000 | $1,368 psf | Listing agent: Lianna Bianco with Premier Int'l Properties Group | Buyer's agent: Natalija Klisuric with Douglas Elliman | Days on market: 470\n",
      "\u001b[1mFewest Days on Market\u001b[0m\n",
      "350 Meridian, 350 Meridian Ave 101 Miami | Price $2,675,000 | $1,189 psf | Listing agent: Dina Goldentayer with Douglas Elliman | Buyer's agent: Samantha Elenson with One Sotheby's Int'l Realty | Days on market: 59\n"
     ]
    }
   ],
   "source": [
    "print(story_string)\n",
    "\n",
    "### Highest and lowest sale price ###\n",
    "print(f\"{ME}{BR}{df.loc[df['int_Sale_Price'].idxmax()]['building_name']}, {df.loc[df['int_Sale_Price'].idxmax()]['address']} | Price ${df.loc[df['int_Sale_Price'].idxmax()]['int_Sale_Price']:,.0f} | ${df.loc[df['int_Sale_Price'].idxmax()]['price_per_sqft']:,.0f} psf | Listing agent: {df.loc[df['int_Sale_Price'].idxmax()]['Agent']} with {df.loc[df['int_Sale_Price'].idxmax()]['Listing Broker']} | Buyer's agent: {df.loc[df['int_Sale_Price'].idxmax()]['Buyer Agent']} with {df.loc[df['int_Sale_Price'].idxmax()]['Buyer Broker']} | Days on market: {df.loc[df['int_Sale_Price'].idxmax()]['days_on_market']}\")\n",
    "print(f\"{LE}{BR}{df.loc[df['int_Sale_Price'].idxmin()]['building_name']}, {df.loc[df['int_Sale_Price'].idxmin()]['address']} | Price ${df.loc[df['int_Sale_Price'].idxmin()]['int_Sale_Price']:,.0f} | ${df.loc[df['int_Sale_Price'].idxmin()]['price_per_sqft']:,.0f} psf | Listing agent: {df.loc[df['int_Sale_Price'].idxmin()]['Agent']} with {df.loc[df['int_Sale_Price'].idxmin()]['Listing Broker']} | Buyer's agent: {df.loc[df['int_Sale_Price'].idxmin()]['Buyer Agent']} with {df.loc[df['int_Sale_Price'].idxmin()]['Buyer Broker']} | Days on market: {df.loc[df['int_Sale_Price'].idxmin()]['days_on_market']}\")\n",
    "### Highest and lowest psf ###\n",
    "print(f\"{MAX_PSF}{BR}{df.loc[df['price_per_sqft'].idxmax()]['building_name']}, {df.loc[df['price_per_sqft'].idxmax()]['address']} | Price ${df.loc[df['price_per_sqft'].idxmax()]['int_Sale_Price']:,.0f} | ${df.loc[df['price_per_sqft'].idxmax()]['price_per_sqft']:,.0f} psf | Listing agent: {df.loc[df['price_per_sqft'].idxmax()]['Agent']} with {df.loc[df['price_per_sqft'].idxmax()]['Listing Broker']} | Buyer's agent: {df.loc[df['price_per_sqft'].idxmax()]['Buyer Agent']} with {df.loc[df['price_per_sqft'].idxmax()]['Buyer Broker']} | Days on market: {df.loc[df['price_per_sqft'].idxmax()]['days_on_market']}\")\n",
    "print(f\"{MIN_PSF}{BR}{df.loc[df['price_per_sqft'].idxmin()]['building_name']}, {df.loc[df['price_per_sqft'].idxmin()]['address']} | Price ${df.loc[df['price_per_sqft'].idxmin()]['int_Sale_Price']:,.0f} | ${df.loc[df['price_per_sqft'].idxmin()]['price_per_sqft']:,.0f} psf | Listing agent: {df.loc[df['price_per_sqft'].idxmin()]['Agent']} with {df.loc[df['price_per_sqft'].idxmin()]['Listing Broker']} | Buyer's agent: {df.loc[df['price_per_sqft'].idxmin()]['Buyer Agent']} with {df.loc[df['price_per_sqft'].idxmin()]['Buyer Broker']} | Days on market: {df.loc[df['price_per_sqft'].idxmin()]['days_on_market']}\")\n",
    "### Highest and lowest days on market ###\n",
    "print(f\"{DAYS_MAX}{BR}{df.loc[df['days_on_market'].idxmax()]['building_name']}, {df.loc[df['days_on_market'].idxmax()]['address']} | Price ${df.loc[df['days_on_market'].idxmax()]['int_Sale_Price']:,.0f} | ${df.loc[df['days_on_market'].idxmax()]['price_per_sqft']:,.0f} psf | Listing agent: {df.loc[df['days_on_market'].idxmax()]['Agent']} with {df.loc[df['days_on_market'].idxmax()]['Listing Broker']} | Buyer's agent: {df.loc[df['days_on_market'].idxmax()]['Buyer Agent']} with {df.loc[df['days_on_market'].idxmax()]['Buyer Broker']} | Days on market: {df.loc[df['days_on_market'].idxmax()]['days_on_market']}\")\n",
    "print(f\"{DAYS_MIN}{BR}{df.loc[df['days_on_market'].idxmin()]['building_name']}, {df.loc[df['days_on_market'].idxmin()]['address']} | Price ${df.loc[df['days_on_market'].idxmin()]['int_Sale_Price']:,.0f} | ${df.loc[df['days_on_market'].idxmin()]['price_per_sqft']:,.0f} psf | Listing agent: {df.loc[df['days_on_market'].idxmin()]['Agent']} with {df.loc[df['days_on_market'].idxmin()]['Listing Broker']} | Buyer's agent: {df.loc[df['days_on_market'].idxmin()]['Buyer Agent']} with {df.loc[df['days_on_market'].idxmin()]['Buyer Broker']} | Days on market: {df.loc[df['days_on_market'].idxmin()]['days_on_market']}\")"
   ]
  }
 ],
 "metadata": {
  "kernelspec": {
   "display_name": "Python 3 (ipykernel)",
   "language": "python",
   "name": "python3"
  },
  "language_info": {
   "codemirror_mode": {
    "name": "ipython",
    "version": 3
   },
   "file_extension": ".py",
   "mimetype": "text/x-python",
   "name": "python",
   "nbconvert_exporter": "python",
   "pygments_lexer": "ipython3",
   "version": "3.9.12"
  },
  "toc": {
   "base_numbering": 1,
   "nav_menu": {},
   "number_sections": true,
   "sideBar": true,
   "skip_h1_title": false,
   "title_cell": "Table of Contents",
   "title_sidebar": "Contents",
   "toc_cell": false,
   "toc_position": {},
   "toc_section_display": true,
   "toc_window_display": false
  }
 },
 "nbformat": 4,
 "nbformat_minor": 4
}
