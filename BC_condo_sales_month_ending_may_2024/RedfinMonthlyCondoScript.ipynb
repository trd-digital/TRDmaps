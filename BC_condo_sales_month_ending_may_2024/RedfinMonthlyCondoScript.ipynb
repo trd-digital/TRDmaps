{
 "cells": [
  {
   "cell_type": "markdown",
   "id": "282c57c3",
   "metadata": {},
   "source": [
    "## Imports"
   ]
  },
  {
   "cell_type": "code",
   "execution_count": 1,
   "id": "54c15242",
   "metadata": {},
   "outputs": [],
   "source": [
    "import pandas as pd\n",
    "import numpy as np\n",
    "import re\n",
    "import os\n",
    "import folium\n",
    "import geopandas as gpd\n",
    "import glob\n",
    "from datetime import datetime, timedelta"
   ]
  },
  {
   "cell_type": "markdown",
   "id": "7c620cf8",
   "metadata": {},
   "source": [
    "## Data Read-in"
   ]
  },
  {
   "cell_type": "code",
   "execution_count": 2,
   "id": "788cfd9b",
   "metadata": {},
   "outputs": [
    {
     "name": "stdout",
     "output_type": "stream",
     "text": [
      "3920\n"
     ]
    }
   ],
   "source": [
    "csv_files = glob.glob('*.csv')\n",
    "\n",
    "df_list = []\n",
    "\n",
    "for csv_file in csv_files:\n",
    "    df = pd.read_csv(csv_file)\n",
    "    df_list.append(df)\n",
    "    \n",
    "df = pd.concat(df_list,ignore_index=True)\n",
    "\n",
    "print(len(df))"
   ]
  },
  {
   "cell_type": "code",
   "execution_count": 3,
   "id": "563417a4",
   "metadata": {},
   "outputs": [],
   "source": [
    "gdf = gpd.read_file('countyboundary')"
   ]
  },
  {
   "cell_type": "markdown",
   "id": "5cdf738a",
   "metadata": {},
   "source": [
    "## Previous month's values\n",
    "\n",
    "Get values from here:\n",
    "\n",
    "https://docs.google.com/spreadsheets/d/1GWlqTIzCB29pDVDjd-iBVejVGGsLiAd0P6fq4LM83WI/edit?usp=sharing"
   ]
  },
  {
   "cell_type": "code",
   "execution_count": 5,
   "id": "7bbbad1d",
   "metadata": {},
   "outputs": [
    {
     "name": "stdout",
     "output_type": "stream",
     "text": [
      "Input County Name:\n",
      "Broward County\n"
     ]
    }
   ],
   "source": [
    "print('Input County Name:')\n",
    "county_name = input()"
   ]
  },
  {
   "cell_type": "code",
   "execution_count": 4,
   "id": "1cd3e074",
   "metadata": {},
   "outputs": [
    {
     "name": "stdout",
     "output_type": "stream",
     "text": [
      "Input total condo units sold previous (not last) month:\n",
      "979\n"
     ]
    }
   ],
   "source": [
    "print('Input total condo units sold previous (not last) month:')\n",
    "total_condos_sold_2nd_month = input()"
   ]
  },
  {
   "cell_type": "code",
   "execution_count": 44,
   "id": "229637ce",
   "metadata": {},
   "outputs": [
    {
     "name": "stdout",
     "output_type": "stream",
     "text": [
      "Input total sales volume ($$$ million) from previous (not last) month:\n",
      "338000000\n"
     ]
    }
   ],
   "source": [
    "print('Input total sales volume ($$$ million) from previous (not last) month:')\n",
    "sales_volume_2nd_month = input()"
   ]
  },
  {
   "cell_type": "code",
   "execution_count": 45,
   "id": "081faeec",
   "metadata": {},
   "outputs": [
    {
     "name": "stdout",
     "output_type": "stream",
     "text": [
      "Input median sales price from previous (not last) month:\n",
      "248000\n"
     ]
    }
   ],
   "source": [
    "print('Input median sales price from previous (not last) month:')\n",
    "median_sales_price_2nd_month = input()"
   ]
  },
  {
   "cell_type": "code",
   "execution_count": 46,
   "id": "cdac5fe9",
   "metadata": {},
   "outputs": [
    {
     "name": "stdout",
     "output_type": "stream",
     "text": [
      "Input median psf from previous (not last) month:\n",
      "242\n"
     ]
    }
   ],
   "source": [
    "print('Input median psf from previous (not last) month:')\n",
    "median_psf_2nd_month = input()"
   ]
  },
  {
   "cell_type": "markdown",
   "id": "b03ce742",
   "metadata": {},
   "source": [
    "## Data Clean"
   ]
  },
  {
   "cell_type": "code",
   "execution_count": 47,
   "id": "1f2a52a3",
   "metadata": {},
   "outputs": [],
   "source": [
    "df = df.rename(columns={'URL (SEE https://www.redfin.com/buy-a-home/comparative-market-analysis FOR INFO ON PRICING)':'URL'})"
   ]
  },
  {
   "cell_type": "code",
   "execution_count": 48,
   "id": "5f45bf08",
   "metadata": {},
   "outputs": [],
   "source": [
    "df = df.dropna(subset=['SOLD DATE'])"
   ]
  },
  {
   "cell_type": "code",
   "execution_count": 49,
   "id": "25d1852d",
   "metadata": {},
   "outputs": [
    {
     "name": "stdout",
     "output_type": "stream",
     "text": [
      "Report month: May ---- Month before report month: April\n"
     ]
    }
   ],
   "source": [
    "# Get the current date\n",
    "current_date = datetime.now()\n",
    "\n",
    "# Calculate the first day of the current month\n",
    "first_day_of_current_month = current_date.replace(day=1)\n",
    "\n",
    "# Get the last day of the previous month by subtracting one day from the first day of the current month\n",
    "last_day_of_previous_month = first_day_of_current_month - timedelta(days=1)\n",
    "\n",
    "# Get the month name of the previous month\n",
    "previous_month_name = last_day_of_previous_month.strftime(\"%B\")\n",
    "\n",
    "# ---- Get the name of the month, as a string, from two months ago.\n",
    "# ---- Meaning, if the current month is January, return November.\n",
    "\n",
    "# Get the first day of the previous month by subtracting one day from the first day of the current month\n",
    "first_day_of_previous_month = first_day_of_current_month - timedelta(days=1)\n",
    "\n",
    "# Get the first day of the month before the last by subtracting one day from the first day of the previous month\n",
    "first_day_of_month_before_last = first_day_of_previous_month.replace(day=1) - timedelta(days=1)\n",
    "\n",
    "# Get the month name of the month before the last\n",
    "month_before_last_name = first_day_of_month_before_last.strftime(\"%B\")\n",
    "\n",
    "print(f'Report month: {previous_month_name} ---- Month before report month: {month_before_last_name}')"
   ]
  },
  {
   "cell_type": "code",
   "execution_count": 50,
   "id": "9b9d20ba",
   "metadata": {},
   "outputs": [],
   "source": [
    "# Define list of desired months (excluding current month)\n",
    "desired_months = [previous_month_name]\n",
    "\n",
    "# Filter DataFrame to include only entries from desired months\n",
    "df_filtered = df[df['SOLD DATE'].str.split('-', expand=True)[0].isin(desired_months)]\n",
    "\n",
    "# Reset the index\n",
    "df_filtered = df_filtered.reset_index(drop=True)"
   ]
  },
  {
   "cell_type": "code",
   "execution_count": 51,
   "id": "ab2d002c",
   "metadata": {},
   "outputs": [
    {
     "name": "stdout",
     "output_type": "stream",
     "text": [
      "PRICE\n",
      "False    1059\n",
      "Name: count, dtype: int64\n",
      "-------\n",
      "$/SQUARE FEET\n",
      "False    1054\n",
      "True        5\n",
      "Name: count, dtype: int64\n",
      "-------\n",
      "YEAR BUILT\n",
      "False    1057\n",
      "True        2\n",
      "Name: count, dtype: int64\n",
      "-------\n"
     ]
    }
   ],
   "source": [
    "# Data checks\n",
    "print(df_filtered['PRICE'].isna().value_counts())\n",
    "print('-------')\n",
    "print(df_filtered['$/SQUARE FEET'].isna().value_counts())\n",
    "print('-------')\n",
    "print(df_filtered['YEAR BUILT'].isna().value_counts())\n",
    "print('-------')"
   ]
  },
  {
   "cell_type": "code",
   "execution_count": 52,
   "id": "446eb268",
   "metadata": {},
   "outputs": [
    {
     "name": "stdout",
     "output_type": "stream",
     "text": [
      "https://www.redfin.com/FL/Fort-Lauderdale/100-E-Las-Olas-Blvd-33301/unit-1604/home/172769320\n"
     ]
    }
   ],
   "source": [
    "sorted_df = df_filtered.sort_values(by='YEAR BUILT', ascending=False)\n",
    "second_newest_building = sorted_df.iloc[2]\n",
    "print(second_newest_building['URL'])"
   ]
  },
  {
   "cell_type": "code",
   "execution_count": 53,
   "id": "61663e76",
   "metadata": {},
   "outputs": [
    {
     "data": {
      "text/html": [
       "<div>\n",
       "<style scoped>\n",
       "    .dataframe tbody tr th:only-of-type {\n",
       "        vertical-align: middle;\n",
       "    }\n",
       "\n",
       "    .dataframe tbody tr th {\n",
       "        vertical-align: top;\n",
       "    }\n",
       "\n",
       "    .dataframe thead th {\n",
       "        text-align: right;\n",
       "    }\n",
       "</style>\n",
       "<table border=\"1\" class=\"dataframe\">\n",
       "  <thead>\n",
       "    <tr style=\"text-align: right;\">\n",
       "      <th></th>\n",
       "      <th>SALE TYPE</th>\n",
       "      <th>SOLD DATE</th>\n",
       "      <th>PROPERTY TYPE</th>\n",
       "      <th>ADDRESS</th>\n",
       "      <th>CITY</th>\n",
       "      <th>STATE OR PROVINCE</th>\n",
       "      <th>ZIP OR POSTAL CODE</th>\n",
       "      <th>PRICE</th>\n",
       "      <th>BEDS</th>\n",
       "      <th>BATHS</th>\n",
       "      <th>...</th>\n",
       "      <th>STATUS</th>\n",
       "      <th>NEXT OPEN HOUSE START TIME</th>\n",
       "      <th>NEXT OPEN HOUSE END TIME</th>\n",
       "      <th>URL</th>\n",
       "      <th>SOURCE</th>\n",
       "      <th>MLS#</th>\n",
       "      <th>FAVORITE</th>\n",
       "      <th>INTERESTED</th>\n",
       "      <th>LATITUDE</th>\n",
       "      <th>LONGITUDE</th>\n",
       "    </tr>\n",
       "  </thead>\n",
       "  <tbody>\n",
       "  </tbody>\n",
       "</table>\n",
       "<p>0 rows × 27 columns</p>\n",
       "</div>"
      ],
      "text/plain": [
       "Empty DataFrame\n",
       "Columns: [SALE TYPE, SOLD DATE, PROPERTY TYPE, ADDRESS, CITY, STATE OR PROVINCE, ZIP OR POSTAL CODE, PRICE, BEDS, BATHS, LOCATION, SQUARE FEET, LOT SIZE, YEAR BUILT, DAYS ON MARKET, $/SQUARE FEET, HOA/MONTH, STATUS, NEXT OPEN HOUSE START TIME, NEXT OPEN HOUSE END TIME, URL, SOURCE, MLS#, FAVORITE, INTERESTED, LATITUDE, LONGITUDE]\n",
       "Index: []\n",
       "\n",
       "[0 rows x 27 columns]"
      ]
     },
     "execution_count": 53,
     "metadata": {},
     "output_type": "execute_result"
    }
   ],
   "source": [
    "df_filtered.loc[df_filtered['PRICE'] == '0']"
   ]
  },
  {
   "cell_type": "code",
   "execution_count": 54,
   "id": "b0376d17",
   "metadata": {},
   "outputs": [],
   "source": [
    "df_filtered['PRICE'] = pd.to_numeric(df_filtered['PRICE'])\n",
    "df_filtered['$/SQUARE FEET'] = pd.to_numeric(df_filtered['$/SQUARE FEET'])\n",
    "df_filtered['YEAR BUILT'] = pd.to_numeric(df_filtered['YEAR BUILT'])\n",
    "df_filtered['LATITUDE'] = pd.to_numeric(df_filtered['LATITUDE'])\n",
    "df_filtered['LONGITUDE'] = pd.to_numeric(df_filtered['LONGITUDE'])"
   ]
  },
  {
   "cell_type": "code",
   "execution_count": 55,
   "id": "22be7f44",
   "metadata": {},
   "outputs": [],
   "source": [
    "df_filtered = df_filtered.drop_duplicates().reset_index(drop=True)"
   ]
  },
  {
   "cell_type": "code",
   "execution_count": 56,
   "id": "a5e15306",
   "metadata": {},
   "outputs": [
    {
     "data": {
      "text/html": [
       "<div>\n",
       "<style scoped>\n",
       "    .dataframe tbody tr th:only-of-type {\n",
       "        vertical-align: middle;\n",
       "    }\n",
       "\n",
       "    .dataframe tbody tr th {\n",
       "        vertical-align: top;\n",
       "    }\n",
       "\n",
       "    .dataframe thead th {\n",
       "        text-align: right;\n",
       "    }\n",
       "</style>\n",
       "<table border=\"1\" class=\"dataframe\">\n",
       "  <thead>\n",
       "    <tr style=\"text-align: right;\">\n",
       "      <th></th>\n",
       "      <th>SALE TYPE</th>\n",
       "      <th>SOLD DATE</th>\n",
       "      <th>PROPERTY TYPE</th>\n",
       "      <th>ADDRESS</th>\n",
       "      <th>CITY</th>\n",
       "      <th>STATE OR PROVINCE</th>\n",
       "      <th>ZIP OR POSTAL CODE</th>\n",
       "      <th>PRICE</th>\n",
       "      <th>BEDS</th>\n",
       "      <th>BATHS</th>\n",
       "      <th>...</th>\n",
       "      <th>STATUS</th>\n",
       "      <th>NEXT OPEN HOUSE START TIME</th>\n",
       "      <th>NEXT OPEN HOUSE END TIME</th>\n",
       "      <th>URL</th>\n",
       "      <th>SOURCE</th>\n",
       "      <th>MLS#</th>\n",
       "      <th>FAVORITE</th>\n",
       "      <th>INTERESTED</th>\n",
       "      <th>LATITUDE</th>\n",
       "      <th>LONGITUDE</th>\n",
       "    </tr>\n",
       "  </thead>\n",
       "  <tbody>\n",
       "    <tr>\n",
       "      <th>944</th>\n",
       "      <td>PAST SALE</td>\n",
       "      <td>May-24-2024</td>\n",
       "      <td>Condo/Co-op</td>\n",
       "      <td>1830 Sabal Palm Dr #202</td>\n",
       "      <td>Davie</td>\n",
       "      <td>FL</td>\n",
       "      <td>33324.0</td>\n",
       "      <td>305.0</td>\n",
       "      <td>3.0</td>\n",
       "      <td>2.0</td>\n",
       "      <td>...</td>\n",
       "      <td>Sold</td>\n",
       "      <td>NaN</td>\n",
       "      <td>NaN</td>\n",
       "      <td>https://www.redfin.com/FL/Davie/1830-Sabal-Pal...</td>\n",
       "      <td>MARMLS</td>\n",
       "      <td>A11504993</td>\n",
       "      <td>N</td>\n",
       "      <td>Y</td>\n",
       "      <td>26.095708</td>\n",
       "      <td>-80.274442</td>\n",
       "    </tr>\n",
       "    <tr>\n",
       "      <th>887</th>\n",
       "      <td>PAST SALE</td>\n",
       "      <td>May-31-2024</td>\n",
       "      <td>Condo/Co-op</td>\n",
       "      <td>2501 NW 41st Ave #109</td>\n",
       "      <td>Lauderhill</td>\n",
       "      <td>FL</td>\n",
       "      <td>33313.0</td>\n",
       "      <td>51000.0</td>\n",
       "      <td>1.0</td>\n",
       "      <td>1.0</td>\n",
       "      <td>...</td>\n",
       "      <td>Sold</td>\n",
       "      <td>NaN</td>\n",
       "      <td>NaN</td>\n",
       "      <td>https://www.redfin.com/FL/Lauderhill/2501-NW-4...</td>\n",
       "      <td>Beaches MLS</td>\n",
       "      <td>RX-10974934</td>\n",
       "      <td>N</td>\n",
       "      <td>Y</td>\n",
       "      <td>26.157702</td>\n",
       "      <td>-80.204542</td>\n",
       "    </tr>\n",
       "    <tr>\n",
       "      <th>902</th>\n",
       "      <td>PAST SALE</td>\n",
       "      <td>May-8-2024</td>\n",
       "      <td>Condo/Co-op</td>\n",
       "      <td>3150 Holiday Springs Blvd Unit 8-106</td>\n",
       "      <td>Margate</td>\n",
       "      <td>FL</td>\n",
       "      <td>33063.0</td>\n",
       "      <td>67000.0</td>\n",
       "      <td>1.0</td>\n",
       "      <td>1.0</td>\n",
       "      <td>...</td>\n",
       "      <td>Sold</td>\n",
       "      <td>NaN</td>\n",
       "      <td>NaN</td>\n",
       "      <td>https://www.redfin.com/FL/Margate/3150-Holiday...</td>\n",
       "      <td>Beaches MLS</td>\n",
       "      <td>RX-10961264</td>\n",
       "      <td>N</td>\n",
       "      <td>Y</td>\n",
       "      <td>26.265619</td>\n",
       "      <td>-80.233842</td>\n",
       "    </tr>\n",
       "    <tr>\n",
       "      <th>903</th>\n",
       "      <td>PAST SALE</td>\n",
       "      <td>May-30-2024</td>\n",
       "      <td>Condo/Co-op</td>\n",
       "      <td>7610 NW 1st St #204</td>\n",
       "      <td>Margate</td>\n",
       "      <td>FL</td>\n",
       "      <td>33063.0</td>\n",
       "      <td>73000.0</td>\n",
       "      <td>1.0</td>\n",
       "      <td>1.0</td>\n",
       "      <td>...</td>\n",
       "      <td>Sold</td>\n",
       "      <td>NaN</td>\n",
       "      <td>NaN</td>\n",
       "      <td>https://www.redfin.com/FL/Margate/7610-NW-1st-...</td>\n",
       "      <td>Beaches MLS</td>\n",
       "      <td>F10430682</td>\n",
       "      <td>N</td>\n",
       "      <td>Y</td>\n",
       "      <td>26.230718</td>\n",
       "      <td>-80.227437</td>\n",
       "    </tr>\n",
       "    <tr>\n",
       "      <th>934</th>\n",
       "      <td>PAST SALE</td>\n",
       "      <td>May-3-2024</td>\n",
       "      <td>Condo/Co-op</td>\n",
       "      <td>3160 Holiday Springs Blvd #203</td>\n",
       "      <td>Margate</td>\n",
       "      <td>FL</td>\n",
       "      <td>33063.0</td>\n",
       "      <td>74000.0</td>\n",
       "      <td>1.0</td>\n",
       "      <td>1.0</td>\n",
       "      <td>...</td>\n",
       "      <td>Sold</td>\n",
       "      <td>NaN</td>\n",
       "      <td>NaN</td>\n",
       "      <td>https://www.redfin.com/FL/Margate/3160-Holiday...</td>\n",
       "      <td>Beaches MLS</td>\n",
       "      <td>F10415789</td>\n",
       "      <td>N</td>\n",
       "      <td>Y</td>\n",
       "      <td>26.265849</td>\n",
       "      <td>-80.233308</td>\n",
       "    </tr>\n",
       "    <tr>\n",
       "      <th>896</th>\n",
       "      <td>PAST SALE</td>\n",
       "      <td>May-21-2024</td>\n",
       "      <td>Condo/Co-op</td>\n",
       "      <td>428 N Laurel Dr #1703</td>\n",
       "      <td>Margate</td>\n",
       "      <td>FL</td>\n",
       "      <td>33063.0</td>\n",
       "      <td>75000.0</td>\n",
       "      <td>2.0</td>\n",
       "      <td>2.0</td>\n",
       "      <td>...</td>\n",
       "      <td>Sold</td>\n",
       "      <td>NaN</td>\n",
       "      <td>NaN</td>\n",
       "      <td>https://www.redfin.com/FL/Margate/428-N-Laurel...</td>\n",
       "      <td>Beaches MLS</td>\n",
       "      <td>F10420735</td>\n",
       "      <td>N</td>\n",
       "      <td>Y</td>\n",
       "      <td>26.232699</td>\n",
       "      <td>-80.195961</td>\n",
       "    </tr>\n",
       "    <tr>\n",
       "      <th>892</th>\n",
       "      <td>PAST SALE</td>\n",
       "      <td>May-9-2024</td>\n",
       "      <td>Condo/Co-op</td>\n",
       "      <td>270 Durham G</td>\n",
       "      <td>Deerfield Beach</td>\n",
       "      <td>FL</td>\n",
       "      <td>33442.0</td>\n",
       "      <td>75000.0</td>\n",
       "      <td>1.0</td>\n",
       "      <td>1.0</td>\n",
       "      <td>...</td>\n",
       "      <td>Sold</td>\n",
       "      <td>NaN</td>\n",
       "      <td>NaN</td>\n",
       "      <td>https://www.redfin.com/FL/Deerfield-Beach/270-...</td>\n",
       "      <td>Beaches MLS</td>\n",
       "      <td>RX-10976395</td>\n",
       "      <td>N</td>\n",
       "      <td>Y</td>\n",
       "      <td>26.317282</td>\n",
       "      <td>-80.135946</td>\n",
       "    </tr>\n",
       "    <tr>\n",
       "      <th>938</th>\n",
       "      <td>PAST SALE</td>\n",
       "      <td>May-20-2024</td>\n",
       "      <td>Condo/Co-op</td>\n",
       "      <td>9001 Sunrise Lakes Blvd #305</td>\n",
       "      <td>Sunrise</td>\n",
       "      <td>FL</td>\n",
       "      <td>33322.0</td>\n",
       "      <td>75000.0</td>\n",
       "      <td>1.0</td>\n",
       "      <td>1.0</td>\n",
       "      <td>...</td>\n",
       "      <td>Sold</td>\n",
       "      <td>NaN</td>\n",
       "      <td>NaN</td>\n",
       "      <td>https://www.redfin.com/FL/Sunrise/9001-Sunrise...</td>\n",
       "      <td>Beaches MLS</td>\n",
       "      <td>F10410929</td>\n",
       "      <td>N</td>\n",
       "      <td>Y</td>\n",
       "      <td>26.163732</td>\n",
       "      <td>-80.270901</td>\n",
       "    </tr>\n",
       "    <tr>\n",
       "      <th>935</th>\n",
       "      <td>PAST SALE</td>\n",
       "      <td>May-1-2024</td>\n",
       "      <td>Condo/Co-op</td>\n",
       "      <td>1011 Berkshire A #1011</td>\n",
       "      <td>Deerfield Beach</td>\n",
       "      <td>FL</td>\n",
       "      <td>33442.0</td>\n",
       "      <td>75100.0</td>\n",
       "      <td>1.0</td>\n",
       "      <td>1.5</td>\n",
       "      <td>...</td>\n",
       "      <td>Sold</td>\n",
       "      <td>NaN</td>\n",
       "      <td>NaN</td>\n",
       "      <td>https://www.redfin.com/FL/Deerfield-Beach/1011...</td>\n",
       "      <td>MARMLS</td>\n",
       "      <td>A11495150</td>\n",
       "      <td>N</td>\n",
       "      <td>Y</td>\n",
       "      <td>26.312008</td>\n",
       "      <td>-80.131502</td>\n",
       "    </tr>\n",
       "    <tr>\n",
       "      <th>879</th>\n",
       "      <td>PAST SALE</td>\n",
       "      <td>May-28-2024</td>\n",
       "      <td>Condo/Co-op</td>\n",
       "      <td>5061 W Oakland Park Blvd #105</td>\n",
       "      <td>Lauderdale Lakes</td>\n",
       "      <td>FL</td>\n",
       "      <td>33313.0</td>\n",
       "      <td>78000.0</td>\n",
       "      <td>1.0</td>\n",
       "      <td>1.5</td>\n",
       "      <td>...</td>\n",
       "      <td>Sold</td>\n",
       "      <td>NaN</td>\n",
       "      <td>NaN</td>\n",
       "      <td>https://www.redfin.com/FL/Lauderdale-Lakes/506...</td>\n",
       "      <td>Beaches MLS</td>\n",
       "      <td>F10434439</td>\n",
       "      <td>N</td>\n",
       "      <td>Y</td>\n",
       "      <td>26.168159</td>\n",
       "      <td>-80.217395</td>\n",
       "    </tr>\n",
       "    <tr>\n",
       "      <th>945</th>\n",
       "      <td>PAST SALE</td>\n",
       "      <td>May-9-2024</td>\n",
       "      <td>Condo/Co-op</td>\n",
       "      <td>2900 W Sunrise Lakes Dr #110</td>\n",
       "      <td>Sunrise</td>\n",
       "      <td>FL</td>\n",
       "      <td>33322.0</td>\n",
       "      <td>80000.0</td>\n",
       "      <td>1.0</td>\n",
       "      <td>1.0</td>\n",
       "      <td>...</td>\n",
       "      <td>Sold</td>\n",
       "      <td>NaN</td>\n",
       "      <td>NaN</td>\n",
       "      <td>https://www.redfin.com/FL/Sunrise/2900-Sunrise...</td>\n",
       "      <td>MARMLS</td>\n",
       "      <td>A11499473</td>\n",
       "      <td>N</td>\n",
       "      <td>Y</td>\n",
       "      <td>26.161331</td>\n",
       "      <td>-80.255671</td>\n",
       "    </tr>\n",
       "    <tr>\n",
       "      <th>874</th>\n",
       "      <td>PAST SALE</td>\n",
       "      <td>May-10-2024</td>\n",
       "      <td>Condo/Co-op</td>\n",
       "      <td>8 Islewood A #8</td>\n",
       "      <td>Deerfield Beach</td>\n",
       "      <td>FL</td>\n",
       "      <td>33442.0</td>\n",
       "      <td>80000.0</td>\n",
       "      <td>1.0</td>\n",
       "      <td>1.5</td>\n",
       "      <td>...</td>\n",
       "      <td>Sold</td>\n",
       "      <td>NaN</td>\n",
       "      <td>NaN</td>\n",
       "      <td>https://www.redfin.com/FL/Deerfield-Beach/8-Is...</td>\n",
       "      <td>Beaches MLS</td>\n",
       "      <td>F10418037</td>\n",
       "      <td>N</td>\n",
       "      <td>Y</td>\n",
       "      <td>26.313464</td>\n",
       "      <td>-80.143053</td>\n",
       "    </tr>\n",
       "    <tr>\n",
       "      <th>936</th>\n",
       "      <td>PAST SALE</td>\n",
       "      <td>May-10-2024</td>\n",
       "      <td>Condo/Co-op</td>\n",
       "      <td>99 Markham E #99</td>\n",
       "      <td>Deerfield Beach</td>\n",
       "      <td>FL</td>\n",
       "      <td>33442.0</td>\n",
       "      <td>81000.0</td>\n",
       "      <td>1.0</td>\n",
       "      <td>1.0</td>\n",
       "      <td>...</td>\n",
       "      <td>Sold</td>\n",
       "      <td>NaN</td>\n",
       "      <td>NaN</td>\n",
       "      <td>https://www.redfin.com/FL/Deerfield-Beach/99-M...</td>\n",
       "      <td>Beaches MLS</td>\n",
       "      <td>RX-10926186</td>\n",
       "      <td>N</td>\n",
       "      <td>Y</td>\n",
       "      <td>26.309814</td>\n",
       "      <td>-80.140146</td>\n",
       "    </tr>\n",
       "    <tr>\n",
       "      <th>916</th>\n",
       "      <td>PAST SALE</td>\n",
       "      <td>May-2-2024</td>\n",
       "      <td>Condo/Co-op</td>\n",
       "      <td>8500 Sunrise Lakes Blvd #106</td>\n",
       "      <td>Sunrise</td>\n",
       "      <td>FL</td>\n",
       "      <td>33322.0</td>\n",
       "      <td>81000.0</td>\n",
       "      <td>1.0</td>\n",
       "      <td>1.0</td>\n",
       "      <td>...</td>\n",
       "      <td>Sold</td>\n",
       "      <td>NaN</td>\n",
       "      <td>NaN</td>\n",
       "      <td>https://www.redfin.com/FL/Sunrise/8500-Sunrise...</td>\n",
       "      <td>MARMLS</td>\n",
       "      <td>A11519428</td>\n",
       "      <td>N</td>\n",
       "      <td>Y</td>\n",
       "      <td>26.162919</td>\n",
       "      <td>-80.265924</td>\n",
       "    </tr>\n",
       "    <tr>\n",
       "      <th>933</th>\n",
       "      <td>PAST SALE</td>\n",
       "      <td>May-29-2024</td>\n",
       "      <td>Condo/Co-op</td>\n",
       "      <td>1400 NW 43rd Ter #105</td>\n",
       "      <td>Lauderhill</td>\n",
       "      <td>FL</td>\n",
       "      <td>33313.0</td>\n",
       "      <td>82500.0</td>\n",
       "      <td>1.0</td>\n",
       "      <td>1.0</td>\n",
       "      <td>...</td>\n",
       "      <td>Sold</td>\n",
       "      <td>NaN</td>\n",
       "      <td>NaN</td>\n",
       "      <td>https://www.redfin.com/FL/Lauderhill/1400-NW-4...</td>\n",
       "      <td>Beaches MLS</td>\n",
       "      <td>F10421731</td>\n",
       "      <td>N</td>\n",
       "      <td>Y</td>\n",
       "      <td>26.144211</td>\n",
       "      <td>-80.208207</td>\n",
       "    </tr>\n",
       "    <tr>\n",
       "      <th>893</th>\n",
       "      <td>PAST SALE</td>\n",
       "      <td>May-10-2024</td>\n",
       "      <td>Condo/Co-op</td>\n",
       "      <td>2701 E Sunrise Lakes Dr #312</td>\n",
       "      <td>Sunrise</td>\n",
       "      <td>FL</td>\n",
       "      <td>33322.0</td>\n",
       "      <td>83000.0</td>\n",
       "      <td>2.0</td>\n",
       "      <td>2.0</td>\n",
       "      <td>...</td>\n",
       "      <td>Sold</td>\n",
       "      <td>NaN</td>\n",
       "      <td>NaN</td>\n",
       "      <td>https://www.redfin.com/FL/Sunrise/2701-E-Sunri...</td>\n",
       "      <td>MARMLS</td>\n",
       "      <td>A11553747</td>\n",
       "      <td>N</td>\n",
       "      <td>Y</td>\n",
       "      <td>26.158901</td>\n",
       "      <td>-80.254849</td>\n",
       "    </tr>\n",
       "    <tr>\n",
       "      <th>952</th>\n",
       "      <td>PAST SALE</td>\n",
       "      <td>May-8-2024</td>\n",
       "      <td>Condo/Co-op</td>\n",
       "      <td>405 Durham M #405</td>\n",
       "      <td>Deerfield Beach</td>\n",
       "      <td>FL</td>\n",
       "      <td>33442.0</td>\n",
       "      <td>83000.0</td>\n",
       "      <td>1.0</td>\n",
       "      <td>1.0</td>\n",
       "      <td>...</td>\n",
       "      <td>Sold</td>\n",
       "      <td>NaN</td>\n",
       "      <td>NaN</td>\n",
       "      <td>https://www.redfin.com/FL/Deerfield-Beach/405-...</td>\n",
       "      <td>Beaches MLS</td>\n",
       "      <td>F10380337</td>\n",
       "      <td>N</td>\n",
       "      <td>Y</td>\n",
       "      <td>26.317278</td>\n",
       "      <td>-80.137199</td>\n",
       "    </tr>\n",
       "    <tr>\n",
       "      <th>905</th>\n",
       "      <td>PAST SALE</td>\n",
       "      <td>May-23-2024</td>\n",
       "      <td>Condo/Co-op</td>\n",
       "      <td>9141 Sunrise Lakes Blvd #120</td>\n",
       "      <td>Sunrise</td>\n",
       "      <td>FL</td>\n",
       "      <td>33322.0</td>\n",
       "      <td>85000.0</td>\n",
       "      <td>1.0</td>\n",
       "      <td>1.0</td>\n",
       "      <td>...</td>\n",
       "      <td>Sold</td>\n",
       "      <td>NaN</td>\n",
       "      <td>NaN</td>\n",
       "      <td>https://www.redfin.com/FL/Sunrise/9141-Sunrise...</td>\n",
       "      <td>MARMLS</td>\n",
       "      <td>A11562139</td>\n",
       "      <td>N</td>\n",
       "      <td>Y</td>\n",
       "      <td>26.163485</td>\n",
       "      <td>-80.275157</td>\n",
       "    </tr>\n",
       "    <tr>\n",
       "      <th>911</th>\n",
       "      <td>PAST SALE</td>\n",
       "      <td>May-10-2024</td>\n",
       "      <td>Condo/Co-op</td>\n",
       "      <td>376 Durham L #376</td>\n",
       "      <td>Deerfield Beach</td>\n",
       "      <td>FL</td>\n",
       "      <td>33442.0</td>\n",
       "      <td>85000.0</td>\n",
       "      <td>1.0</td>\n",
       "      <td>1.0</td>\n",
       "      <td>...</td>\n",
       "      <td>Sold</td>\n",
       "      <td>NaN</td>\n",
       "      <td>NaN</td>\n",
       "      <td>https://www.redfin.com/FL/Deerfield-Beach/376-...</td>\n",
       "      <td>Beaches MLS</td>\n",
       "      <td>F10418909</td>\n",
       "      <td>N</td>\n",
       "      <td>Y</td>\n",
       "      <td>26.317258</td>\n",
       "      <td>-80.136588</td>\n",
       "    </tr>\n",
       "    <tr>\n",
       "      <th>889</th>\n",
       "      <td>PAST SALE</td>\n",
       "      <td>May-29-2024</td>\n",
       "      <td>Condo/Co-op</td>\n",
       "      <td>2750 W Sunrise Lakes Dr #304</td>\n",
       "      <td>Sunrise</td>\n",
       "      <td>FL</td>\n",
       "      <td>33322.0</td>\n",
       "      <td>85000.0</td>\n",
       "      <td>1.0</td>\n",
       "      <td>1.0</td>\n",
       "      <td>...</td>\n",
       "      <td>Sold</td>\n",
       "      <td>NaN</td>\n",
       "      <td>NaN</td>\n",
       "      <td>https://www.redfin.com/FL/Sunrise/2750-Sunrise...</td>\n",
       "      <td>Beaches MLS</td>\n",
       "      <td>F10433231</td>\n",
       "      <td>N</td>\n",
       "      <td>Y</td>\n",
       "      <td>26.159658</td>\n",
       "      <td>-80.255744</td>\n",
       "    </tr>\n",
       "  </tbody>\n",
       "</table>\n",
       "<p>20 rows × 27 columns</p>\n",
       "</div>"
      ],
      "text/plain": [
       "     SALE TYPE    SOLD DATE PROPERTY TYPE  \\\n",
       "944  PAST SALE  May-24-2024   Condo/Co-op   \n",
       "887  PAST SALE  May-31-2024   Condo/Co-op   \n",
       "902  PAST SALE   May-8-2024   Condo/Co-op   \n",
       "903  PAST SALE  May-30-2024   Condo/Co-op   \n",
       "934  PAST SALE   May-3-2024   Condo/Co-op   \n",
       "896  PAST SALE  May-21-2024   Condo/Co-op   \n",
       "892  PAST SALE   May-9-2024   Condo/Co-op   \n",
       "938  PAST SALE  May-20-2024   Condo/Co-op   \n",
       "935  PAST SALE   May-1-2024   Condo/Co-op   \n",
       "879  PAST SALE  May-28-2024   Condo/Co-op   \n",
       "945  PAST SALE   May-9-2024   Condo/Co-op   \n",
       "874  PAST SALE  May-10-2024   Condo/Co-op   \n",
       "936  PAST SALE  May-10-2024   Condo/Co-op   \n",
       "916  PAST SALE   May-2-2024   Condo/Co-op   \n",
       "933  PAST SALE  May-29-2024   Condo/Co-op   \n",
       "893  PAST SALE  May-10-2024   Condo/Co-op   \n",
       "952  PAST SALE   May-8-2024   Condo/Co-op   \n",
       "905  PAST SALE  May-23-2024   Condo/Co-op   \n",
       "911  PAST SALE  May-10-2024   Condo/Co-op   \n",
       "889  PAST SALE  May-29-2024   Condo/Co-op   \n",
       "\n",
       "                                  ADDRESS              CITY STATE OR PROVINCE  \\\n",
       "944               1830 Sabal Palm Dr #202             Davie                FL   \n",
       "887                 2501 NW 41st Ave #109        Lauderhill                FL   \n",
       "902  3150 Holiday Springs Blvd Unit 8-106           Margate                FL   \n",
       "903                   7610 NW 1st St #204           Margate                FL   \n",
       "934        3160 Holiday Springs Blvd #203           Margate                FL   \n",
       "896                 428 N Laurel Dr #1703           Margate                FL   \n",
       "892                          270 Durham G   Deerfield Beach                FL   \n",
       "938          9001 Sunrise Lakes Blvd #305           Sunrise                FL   \n",
       "935                1011 Berkshire A #1011   Deerfield Beach                FL   \n",
       "879         5061 W Oakland Park Blvd #105  Lauderdale Lakes                FL   \n",
       "945          2900 W Sunrise Lakes Dr #110           Sunrise                FL   \n",
       "874                       8 Islewood A #8   Deerfield Beach                FL   \n",
       "936                      99 Markham E #99   Deerfield Beach                FL   \n",
       "916          8500 Sunrise Lakes Blvd #106           Sunrise                FL   \n",
       "933                 1400 NW 43rd Ter #105        Lauderhill                FL   \n",
       "893          2701 E Sunrise Lakes Dr #312           Sunrise                FL   \n",
       "952                     405 Durham M #405   Deerfield Beach                FL   \n",
       "905          9141 Sunrise Lakes Blvd #120           Sunrise                FL   \n",
       "911                     376 Durham L #376   Deerfield Beach                FL   \n",
       "889          2750 W Sunrise Lakes Dr #304           Sunrise                FL   \n",
       "\n",
       "     ZIP OR POSTAL CODE    PRICE  BEDS  BATHS  ... STATUS  \\\n",
       "944             33324.0    305.0   3.0    2.0  ...   Sold   \n",
       "887             33313.0  51000.0   1.0    1.0  ...   Sold   \n",
       "902             33063.0  67000.0   1.0    1.0  ...   Sold   \n",
       "903             33063.0  73000.0   1.0    1.0  ...   Sold   \n",
       "934             33063.0  74000.0   1.0    1.0  ...   Sold   \n",
       "896             33063.0  75000.0   2.0    2.0  ...   Sold   \n",
       "892             33442.0  75000.0   1.0    1.0  ...   Sold   \n",
       "938             33322.0  75000.0   1.0    1.0  ...   Sold   \n",
       "935             33442.0  75100.0   1.0    1.5  ...   Sold   \n",
       "879             33313.0  78000.0   1.0    1.5  ...   Sold   \n",
       "945             33322.0  80000.0   1.0    1.0  ...   Sold   \n",
       "874             33442.0  80000.0   1.0    1.5  ...   Sold   \n",
       "936             33442.0  81000.0   1.0    1.0  ...   Sold   \n",
       "916             33322.0  81000.0   1.0    1.0  ...   Sold   \n",
       "933             33313.0  82500.0   1.0    1.0  ...   Sold   \n",
       "893             33322.0  83000.0   2.0    2.0  ...   Sold   \n",
       "952             33442.0  83000.0   1.0    1.0  ...   Sold   \n",
       "905             33322.0  85000.0   1.0    1.0  ...   Sold   \n",
       "911             33442.0  85000.0   1.0    1.0  ...   Sold   \n",
       "889             33322.0  85000.0   1.0    1.0  ...   Sold   \n",
       "\n",
       "     NEXT OPEN HOUSE START TIME  NEXT OPEN HOUSE END TIME  \\\n",
       "944                         NaN                       NaN   \n",
       "887                         NaN                       NaN   \n",
       "902                         NaN                       NaN   \n",
       "903                         NaN                       NaN   \n",
       "934                         NaN                       NaN   \n",
       "896                         NaN                       NaN   \n",
       "892                         NaN                       NaN   \n",
       "938                         NaN                       NaN   \n",
       "935                         NaN                       NaN   \n",
       "879                         NaN                       NaN   \n",
       "945                         NaN                       NaN   \n",
       "874                         NaN                       NaN   \n",
       "936                         NaN                       NaN   \n",
       "916                         NaN                       NaN   \n",
       "933                         NaN                       NaN   \n",
       "893                         NaN                       NaN   \n",
       "952                         NaN                       NaN   \n",
       "905                         NaN                       NaN   \n",
       "911                         NaN                       NaN   \n",
       "889                         NaN                       NaN   \n",
       "\n",
       "                                                   URL       SOURCE  \\\n",
       "944  https://www.redfin.com/FL/Davie/1830-Sabal-Pal...       MARMLS   \n",
       "887  https://www.redfin.com/FL/Lauderhill/2501-NW-4...  Beaches MLS   \n",
       "902  https://www.redfin.com/FL/Margate/3150-Holiday...  Beaches MLS   \n",
       "903  https://www.redfin.com/FL/Margate/7610-NW-1st-...  Beaches MLS   \n",
       "934  https://www.redfin.com/FL/Margate/3160-Holiday...  Beaches MLS   \n",
       "896  https://www.redfin.com/FL/Margate/428-N-Laurel...  Beaches MLS   \n",
       "892  https://www.redfin.com/FL/Deerfield-Beach/270-...  Beaches MLS   \n",
       "938  https://www.redfin.com/FL/Sunrise/9001-Sunrise...  Beaches MLS   \n",
       "935  https://www.redfin.com/FL/Deerfield-Beach/1011...       MARMLS   \n",
       "879  https://www.redfin.com/FL/Lauderdale-Lakes/506...  Beaches MLS   \n",
       "945  https://www.redfin.com/FL/Sunrise/2900-Sunrise...       MARMLS   \n",
       "874  https://www.redfin.com/FL/Deerfield-Beach/8-Is...  Beaches MLS   \n",
       "936  https://www.redfin.com/FL/Deerfield-Beach/99-M...  Beaches MLS   \n",
       "916  https://www.redfin.com/FL/Sunrise/8500-Sunrise...       MARMLS   \n",
       "933  https://www.redfin.com/FL/Lauderhill/1400-NW-4...  Beaches MLS   \n",
       "893  https://www.redfin.com/FL/Sunrise/2701-E-Sunri...       MARMLS   \n",
       "952  https://www.redfin.com/FL/Deerfield-Beach/405-...  Beaches MLS   \n",
       "905  https://www.redfin.com/FL/Sunrise/9141-Sunrise...       MARMLS   \n",
       "911  https://www.redfin.com/FL/Deerfield-Beach/376-...  Beaches MLS   \n",
       "889  https://www.redfin.com/FL/Sunrise/2750-Sunrise...  Beaches MLS   \n",
       "\n",
       "            MLS#  FAVORITE INTERESTED   LATITUDE  LONGITUDE  \n",
       "944    A11504993         N          Y  26.095708 -80.274442  \n",
       "887  RX-10974934         N          Y  26.157702 -80.204542  \n",
       "902  RX-10961264         N          Y  26.265619 -80.233842  \n",
       "903    F10430682         N          Y  26.230718 -80.227437  \n",
       "934    F10415789         N          Y  26.265849 -80.233308  \n",
       "896    F10420735         N          Y  26.232699 -80.195961  \n",
       "892  RX-10976395         N          Y  26.317282 -80.135946  \n",
       "938    F10410929         N          Y  26.163732 -80.270901  \n",
       "935    A11495150         N          Y  26.312008 -80.131502  \n",
       "879    F10434439         N          Y  26.168159 -80.217395  \n",
       "945    A11499473         N          Y  26.161331 -80.255671  \n",
       "874    F10418037         N          Y  26.313464 -80.143053  \n",
       "936  RX-10926186         N          Y  26.309814 -80.140146  \n",
       "916    A11519428         N          Y  26.162919 -80.265924  \n",
       "933    F10421731         N          Y  26.144211 -80.208207  \n",
       "893    A11553747         N          Y  26.158901 -80.254849  \n",
       "952    F10380337         N          Y  26.317278 -80.137199  \n",
       "905    A11562139         N          Y  26.163485 -80.275157  \n",
       "911    F10418909         N          Y  26.317258 -80.136588  \n",
       "889    F10433231         N          Y  26.159658 -80.255744  \n",
       "\n",
       "[20 rows x 27 columns]"
      ]
     },
     "execution_count": 56,
     "metadata": {},
     "output_type": "execute_result"
    }
   ],
   "source": [
    "df_filtered.sort_values(by='PRICE',ascending=True).head(20)"
   ]
  },
  {
   "cell_type": "code",
   "execution_count": 57,
   "id": "e6256bce",
   "metadata": {},
   "outputs": [
    {
     "name": "stdout",
     "output_type": "stream",
     "text": [
      "https://www.redfin.com/FL/Lauderhill/2501-NW-41st-Ave-33313/unit-109/home/41597191\n"
     ]
    }
   ],
   "source": [
    "print(df_filtered['URL'].iloc[887])"
   ]
  },
  {
   "cell_type": "code",
   "execution_count": 58,
   "id": "fe440217",
   "metadata": {},
   "outputs": [],
   "source": [
    "# Correct the prices, if needed\n",
    "df_filtered.at[944,'PRICE']=(305_000)\n",
    "\n",
    "# Correct the psf, if needed\n",
    "df_filtered.at[944,'$/SQUARE FEET']=(305_000/1_170)"
   ]
  },
  {
   "cell_type": "code",
   "execution_count": 61,
   "id": "e3877a57",
   "metadata": {},
   "outputs": [],
   "source": [
    "### If needed, drop the row with the lowest price\n",
    "# min_value_index = df_filtered['PRICE'].idxmin()\n",
    "# df_filtered = df_filtered.drop(min_value_index)"
   ]
  },
  {
   "cell_type": "code",
   "execution_count": 24,
   "id": "7e529e83",
   "metadata": {},
   "outputs": [],
   "source": [
    "# print(df_filtered['URL'].iloc[528])"
   ]
  },
  {
   "cell_type": "code",
   "execution_count": 59,
   "id": "42d775ef",
   "metadata": {},
   "outputs": [
    {
     "data": {
      "text/html": [
       "<div>\n",
       "<style scoped>\n",
       "    .dataframe tbody tr th:only-of-type {\n",
       "        vertical-align: middle;\n",
       "    }\n",
       "\n",
       "    .dataframe tbody tr th {\n",
       "        vertical-align: top;\n",
       "    }\n",
       "\n",
       "    .dataframe thead th {\n",
       "        text-align: right;\n",
       "    }\n",
       "</style>\n",
       "<table border=\"1\" class=\"dataframe\">\n",
       "  <thead>\n",
       "    <tr style=\"text-align: right;\">\n",
       "      <th></th>\n",
       "      <th>PRICE</th>\n",
       "      <th>ADDRESS</th>\n",
       "      <th>CITY</th>\n",
       "      <th>$/SQUARE FEET</th>\n",
       "    </tr>\n",
       "  </thead>\n",
       "  <tbody>\n",
       "    <tr>\n",
       "      <th>887</th>\n",
       "      <td>51000.0</td>\n",
       "      <td>2501 NW 41st Ave #109</td>\n",
       "      <td>Lauderhill</td>\n",
       "      <td>72.0</td>\n",
       "    </tr>\n",
       "    <tr>\n",
       "      <th>896</th>\n",
       "      <td>75000.0</td>\n",
       "      <td>428 N Laurel Dr #1703</td>\n",
       "      <td>Margate</td>\n",
       "      <td>74.0</td>\n",
       "    </tr>\n",
       "    <tr>\n",
       "      <th>876</th>\n",
       "      <td>95000.0</td>\n",
       "      <td>2061 NW 47th Ter #416</td>\n",
       "      <td>Lauderhill</td>\n",
       "      <td>80.0</td>\n",
       "    </tr>\n",
       "    <tr>\n",
       "      <th>902</th>\n",
       "      <td>67000.0</td>\n",
       "      <td>3150 Holiday Springs Blvd Unit 8-106</td>\n",
       "      <td>Margate</td>\n",
       "      <td>93.0</td>\n",
       "    </tr>\n",
       "    <tr>\n",
       "      <th>337</th>\n",
       "      <td>170000.0</td>\n",
       "      <td>833 NW 80th Way #4</td>\n",
       "      <td>Plantation</td>\n",
       "      <td>96.0</td>\n",
       "    </tr>\n",
       "    <tr>\n",
       "      <th>875</th>\n",
       "      <td>100000.0</td>\n",
       "      <td>215 SE 3rd Ave Unit 307B</td>\n",
       "      <td>Hallandale</td>\n",
       "      <td>97.0</td>\n",
       "    </tr>\n",
       "    <tr>\n",
       "      <th>915</th>\n",
       "      <td>112000.0</td>\n",
       "      <td>8260 SW 24th St #6112</td>\n",
       "      <td>North Lauderdale</td>\n",
       "      <td>97.0</td>\n",
       "    </tr>\n",
       "    <tr>\n",
       "      <th>893</th>\n",
       "      <td>83000.0</td>\n",
       "      <td>2701 E Sunrise Lakes Dr #312</td>\n",
       "      <td>Sunrise</td>\n",
       "      <td>98.0</td>\n",
       "    </tr>\n",
       "    <tr>\n",
       "      <th>885</th>\n",
       "      <td>107000.0</td>\n",
       "      <td>6010 S Falls Circle Dr #313</td>\n",
       "      <td>Lauderhill</td>\n",
       "      <td>98.0</td>\n",
       "    </tr>\n",
       "    <tr>\n",
       "      <th>921</th>\n",
       "      <td>115000.0</td>\n",
       "      <td>8100 SW 24th St #203</td>\n",
       "      <td>North Lauderdale</td>\n",
       "      <td>99.0</td>\n",
       "    </tr>\n",
       "    <tr>\n",
       "      <th>929</th>\n",
       "      <td>115000.0</td>\n",
       "      <td>2403 Antigua Cir Unit H3</td>\n",
       "      <td>Coconut Creek</td>\n",
       "      <td>99.0</td>\n",
       "    </tr>\n",
       "    <tr>\n",
       "      <th>943</th>\n",
       "      <td>90000.0</td>\n",
       "      <td>2903 Victoria Cir Unit G-3</td>\n",
       "      <td>Coconut Creek</td>\n",
       "      <td>100.0</td>\n",
       "    </tr>\n",
       "    <tr>\n",
       "      <th>153</th>\n",
       "      <td>120000.0</td>\n",
       "      <td>3330 Spanish Moss Ter #213</td>\n",
       "      <td>Lauderhill</td>\n",
       "      <td>100.0</td>\n",
       "    </tr>\n",
       "    <tr>\n",
       "      <th>934</th>\n",
       "      <td>74000.0</td>\n",
       "      <td>3160 Holiday Springs Blvd #203</td>\n",
       "      <td>Margate</td>\n",
       "      <td>102.0</td>\n",
       "    </tr>\n",
       "    <tr>\n",
       "      <th>922</th>\n",
       "      <td>95000.0</td>\n",
       "      <td>4770 NW 21st St #211</td>\n",
       "      <td>Lauderhill</td>\n",
       "      <td>102.0</td>\n",
       "    </tr>\n",
       "    <tr>\n",
       "      <th>883</th>\n",
       "      <td>100000.0</td>\n",
       "      <td>2551 NW 41st Ave #306</td>\n",
       "      <td>Lauderhill</td>\n",
       "      <td>103.0</td>\n",
       "    </tr>\n",
       "    <tr>\n",
       "      <th>906</th>\n",
       "      <td>113000.0</td>\n",
       "      <td>4140 NW 44th Ave #407</td>\n",
       "      <td>Lauderdale Lakes</td>\n",
       "      <td>103.0</td>\n",
       "    </tr>\n",
       "    <tr>\n",
       "      <th>169</th>\n",
       "      <td>120000.0</td>\n",
       "      <td>8120 SW 24th St #105</td>\n",
       "      <td>North Lauderdale</td>\n",
       "      <td>103.0</td>\n",
       "    </tr>\n",
       "    <tr>\n",
       "      <th>935</th>\n",
       "      <td>75100.0</td>\n",
       "      <td>1011 Berkshire A #1011</td>\n",
       "      <td>Deerfield Beach</td>\n",
       "      <td>104.0</td>\n",
       "    </tr>\n",
       "    <tr>\n",
       "      <th>709</th>\n",
       "      <td>187500.0</td>\n",
       "      <td>834 NW 81st Ter #4</td>\n",
       "      <td>Plantation</td>\n",
       "      <td>106.0</td>\n",
       "    </tr>\n",
       "  </tbody>\n",
       "</table>\n",
       "</div>"
      ],
      "text/plain": [
       "        PRICE                               ADDRESS              CITY  \\\n",
       "887   51000.0                 2501 NW 41st Ave #109        Lauderhill   \n",
       "896   75000.0                 428 N Laurel Dr #1703           Margate   \n",
       "876   95000.0                 2061 NW 47th Ter #416        Lauderhill   \n",
       "902   67000.0  3150 Holiday Springs Blvd Unit 8-106           Margate   \n",
       "337  170000.0                    833 NW 80th Way #4        Plantation   \n",
       "875  100000.0              215 SE 3rd Ave Unit 307B        Hallandale   \n",
       "915  112000.0                 8260 SW 24th St #6112  North Lauderdale   \n",
       "893   83000.0          2701 E Sunrise Lakes Dr #312           Sunrise   \n",
       "885  107000.0           6010 S Falls Circle Dr #313        Lauderhill   \n",
       "921  115000.0                  8100 SW 24th St #203  North Lauderdale   \n",
       "929  115000.0              2403 Antigua Cir Unit H3     Coconut Creek   \n",
       "943   90000.0            2903 Victoria Cir Unit G-3     Coconut Creek   \n",
       "153  120000.0            3330 Spanish Moss Ter #213        Lauderhill   \n",
       "934   74000.0        3160 Holiday Springs Blvd #203           Margate   \n",
       "922   95000.0                  4770 NW 21st St #211        Lauderhill   \n",
       "883  100000.0                 2551 NW 41st Ave #306        Lauderhill   \n",
       "906  113000.0                 4140 NW 44th Ave #407  Lauderdale Lakes   \n",
       "169  120000.0                  8120 SW 24th St #105  North Lauderdale   \n",
       "935   75100.0                1011 Berkshire A #1011   Deerfield Beach   \n",
       "709  187500.0                    834 NW 81st Ter #4        Plantation   \n",
       "\n",
       "     $/SQUARE FEET  \n",
       "887           72.0  \n",
       "896           74.0  \n",
       "876           80.0  \n",
       "902           93.0  \n",
       "337           96.0  \n",
       "875           97.0  \n",
       "915           97.0  \n",
       "893           98.0  \n",
       "885           98.0  \n",
       "921           99.0  \n",
       "929           99.0  \n",
       "943          100.0  \n",
       "153          100.0  \n",
       "934          102.0  \n",
       "922          102.0  \n",
       "883          103.0  \n",
       "906          103.0  \n",
       "169          103.0  \n",
       "935          104.0  \n",
       "709          106.0  "
      ]
     },
     "execution_count": 59,
     "metadata": {},
     "output_type": "execute_result"
    }
   ],
   "source": [
    "# Find problem psf by searching for low values\n",
    "df_filtered.sort_values(by='$/SQUARE FEET',ascending=True).head(20)[['PRICE','ADDRESS','CITY','$/SQUARE FEET']]"
   ]
  },
  {
   "cell_type": "code",
   "execution_count": 63,
   "id": "6895cf71",
   "metadata": {},
   "outputs": [],
   "source": [
    "# # Drop sales that aren't condos but labeled as such\n",
    "# df_filtered = df_filtered.drop(1320)"
   ]
  },
  {
   "cell_type": "markdown",
   "id": "103ad9df",
   "metadata": {},
   "source": [
    "## Make Maps"
   ]
  },
  {
   "cell_type": "code",
   "execution_count": 60,
   "id": "42ad9d63",
   "metadata": {},
   "outputs": [],
   "source": [
    "### Create a price column formatted as currency ###\n",
    "df_filtered['PRICE_AS_CURRENCY'] = df_filtered['PRICE'].apply(lambda x: \"${:,.0f}\".format(x))\n",
    "### Set formatting for Beds, Baths ###\n",
    "df_filtered['YEAR BUILT DISPLAY'] = df_filtered['YEAR BUILT'].apply(lambda x: '{:.0f}'.format(x))\n",
    "df_filtered['PRICE_SQUARE_FEET_AS_CURRENCY'] = df_filtered['$/SQUARE FEET'].apply(lambda x: '${:,.0f}'.format(x))"
   ]
  },
  {
   "cell_type": "code",
   "execution_count": 61,
   "id": "f42ba6b5",
   "metadata": {},
   "outputs": [],
   "source": [
    "df_filtered = df_filtered.sort_values(by=['PRICE'], ascending=False)\n",
    "### Insert different colors for top 10 sales vs. the rest ###\n",
    "df_filtered['COLOR'] = ''\n",
    "### Create RANK column ###\n",
    "df_filtered['RANK'] = 0\n",
    "### Insert RANK values ###\n",
    "df_filtered['RANK'] = range(1, len(df_filtered) + 1)\n",
    "# use numpy to assign values to the 'COLOR' column\n",
    "df_filtered['COLOR'] = np.where(df_filtered['RANK'] <= 10, 'orange', 'blue')"
   ]
  },
  {
   "cell_type": "markdown",
   "id": "99380454",
   "metadata": {},
   "source": [
    "## HTML Popup Formatter"
   ]
  },
  {
   "cell_type": "code",
   "execution_count": 62,
   "id": "6ffa151c",
   "metadata": {},
   "outputs": [],
   "source": [
    "### Define list of columns to drop from DF ###\n",
    "columns_drop = ['SALE TYPE','PROPERTY TYPE','STATE OR PROVINCE','ZIP OR POSTAL CODE','HOA/MONTH','STATUS','NEXT OPEN HOUSE START TIME','NEXT OPEN HOUSE END TIME','SOURCE','MLS#','FAVORITE','INTERESTED','SQUARE FEET','LOT SIZE']"
   ]
  },
  {
   "cell_type": "code",
   "execution_count": 63,
   "id": "b214f9e8",
   "metadata": {},
   "outputs": [],
   "source": [
    "### Drop the columns ###\n",
    "df_filtered = df_filtered.drop(columns=columns_drop)"
   ]
  },
  {
   "cell_type": "code",
   "execution_count": 64,
   "id": "d12c2830",
   "metadata": {},
   "outputs": [],
   "source": [
    "def popup_html(row):\n",
    "    Price = row['PRICE_AS_CURRENCY']\n",
    "    Address = row['ADDRESS']\n",
    "    City = row['CITY']\n",
    "    sold_date = row['SOLD DATE']\n",
    "    beds = row['BEDS']\n",
    "    baths = row['BATHS']\n",
    "    psf = row['PRICE_SQUARE_FEET_AS_CURRENCY']\n",
    "    year_built = row['YEAR BUILT DISPLAY']\n",
    "    rank = row['RANK']\n",
    "    \n",
    "    html = '''<!DOCTYPE html>\n",
    "    <html>\n",
    "    <strong>Price: </strong>{}'''.format(Price) + '''<br>\n",
    "    <strong>Address: </strong>{}'''.format(Address) + '''<br>\n",
    "    <strong>City: </strong>{}'''.format(City) + '''<br>\n",
    "    <strong>Sold: </strong>{}'''.format(sold_date) + '''<br>\n",
    "    <strong>Beds: </strong>{}'''.format(beds) + '''<br>\n",
    "    <strong>Baths: </strong>{}'''.format(baths) + '''<br>\n",
    "    <strong>Price per sf: </strong>{}'''.format(psf) + '''<br>\n",
    "    <strong>Year Built: </strong>{}'''.format(year_built) + '''<br>\n",
    "    <strong>Price Rank: </strong>{}'''.format(rank) + '''\n",
    "    </html>\n",
    "    '''\n",
    "    return html"
   ]
  },
  {
   "cell_type": "code",
   "execution_count": 65,
   "id": "b7fe13d2",
   "metadata": {},
   "outputs": [
    {
     "data": {
      "text/plain": [
       "<folium.map.LayerControl at 0x7f8af8b5c280>"
      ]
     },
     "execution_count": 65,
     "metadata": {},
     "output_type": "execute_result"
    }
   ],
   "source": [
    "### Create map container ###\n",
    "m = folium.Map(location=df_filtered[[\"LATITUDE\", \"LONGITUDE\"]].mean().to_list(),zoom_start=10,tiles=None)\n",
    "\n",
    "### Create title ###\n",
    "title_html = '''\n",
    "              <h3 align=\"center\" style=\"font-size:16px\"><b>{}</b></h3>\n",
    "             '''.format(f\"{previous_month_name} 2024 Condo Sales\")\n",
    "\n",
    "m.get_root().html.add_child(folium.Element(title_html))\n",
    "\n",
    "# Create two FeatureGroups for different color pins\n",
    "fg_blue = folium.FeatureGroup(name='All other sales')\n",
    "fg_orange = folium.FeatureGroup(name='Top 10 Sales')\n",
    "\n",
    "folium.GeoJson(gdf,tooltip=f'{county_name}',name=f'{county_name}').add_to(m)\n",
    "\n",
    "for index, row in df_filtered.iterrows():\n",
    "    # Add the markers to the appropriate FeatureGroup based on the color\n",
    "    if row['COLOR'] == 'blue':\n",
    "        marker = folium.Marker(\n",
    "            location=[row['LATITUDE'], row['LONGITUDE']],\n",
    "            radius=5,\n",
    "            fill=True,\n",
    "            icon=folium.Icon(color=row['COLOR']),\n",
    "            popup=folium.Popup(popup_html(row), max_width=400))\n",
    "        marker.add_to(fg_blue)\n",
    "    else:\n",
    "        marker = folium.Marker(\n",
    "            location=[row['LATITUDE'], row['LONGITUDE']],\n",
    "            radius=5,\n",
    "            fill=True,\n",
    "            icon=folium.Icon(color=row['COLOR']),\n",
    "            popup=folium.Popup(popup_html(row), max_width=400))\n",
    "        marker.add_to(fg_orange)\n",
    "\n",
    "# Add the FeatureGroups to the map\n",
    "fg_orange.add_to(m)\n",
    "fg_blue.add_to(m)\n",
    "\n",
    "folium.TileLayer('OpenStreetMap',control=False).add_to(m)\n",
    "\n",
    "# Add LayerControl to the map\n",
    "folium.map.LayerControl(collapsed=False).add_to(m)\n",
    "\n",
    "# Display map\n",
    "# m"
   ]
  },
  {
   "cell_type": "code",
   "execution_count": 66,
   "id": "a704af7f",
   "metadata": {},
   "outputs": [],
   "source": [
    "m.save('index.html')"
   ]
  },
  {
   "cell_type": "markdown",
   "id": "81b7dc98",
   "metadata": {},
   "source": [
    "## Summary Info"
   ]
  },
  {
   "cell_type": "code",
   "execution_count": 67,
   "id": "6910bd5b",
   "metadata": {},
   "outputs": [],
   "source": [
    "BR = '\\n'\n",
    "\n",
    "ME = '\\033[1m' + 'Most Expensive' + '\\033[0m'\n",
    "LE = '\\033[1m' + 'Least Expensive' + '\\033[0m'\n",
    "\n",
    "MAX_PSF = '\\033[1m' + 'Highest Price Per Square Foot' + '\\033[0m'\n",
    "MIN_PSF = '\\033[1m' + 'Lowest Price Per Square Foot' + '\\033[0m'\n",
    "\n",
    "Newest = '\\033[1m' + 'Newest' + '\\033[0m'\n",
    "Oldest = '\\033[1m' + 'Oldest' + '\\033[0m'"
   ]
  },
  {
   "cell_type": "code",
   "execution_count": 68,
   "id": "9d2c1b97",
   "metadata": {},
   "outputs": [
    {
     "data": {
      "text/plain": [
       "Index(['SOLD DATE', 'ADDRESS', 'CITY', 'PRICE', 'BEDS', 'BATHS', 'LOCATION',\n",
       "       'YEAR BUILT', 'DAYS ON MARKET', '$/SQUARE FEET', 'URL', 'LATITUDE',\n",
       "       'LONGITUDE', 'PRICE_AS_CURRENCY', 'YEAR BUILT DISPLAY',\n",
       "       'PRICE_SQUARE_FEET_AS_CURRENCY', 'COLOR', 'RANK'],\n",
       "      dtype='object')"
      ]
     },
     "execution_count": 68,
     "metadata": {},
     "output_type": "execute_result"
    }
   ],
   "source": [
    "df_filtered.columns"
   ]
  },
  {
   "cell_type": "code",
   "execution_count": 69,
   "id": "81280824",
   "metadata": {},
   "outputs": [],
   "source": [
    "df_filtered['FULL_ADDRESS'] = df_filtered['ADDRESS'] + ' ' + df_filtered['CITY']"
   ]
  },
  {
   "cell_type": "code",
   "execution_count": 70,
   "id": "4677d727",
   "metadata": {},
   "outputs": [
    {
     "name": "stdout",
     "output_type": "stream",
     "text": [
      "https://www.redfin.com/FL/Hollywood/322-Monroe-St-33019/unit-203A/home/41937694\n"
     ]
    }
   ],
   "source": [
    "print(df_filtered.loc[df_filtered['YEAR BUILT'].idxmin()]['URL'])"
   ]
  },
  {
   "cell_type": "code",
   "execution_count": 71,
   "id": "39ff9917",
   "metadata": {},
   "outputs": [
    {
     "name": "stdout",
     "output_type": "stream",
     "text": [
      "\u001b[1mMost Expensive\u001b[0m\n",
      "L'hermitage, 3100 N Ocean Blvd Ph 2704 Fort Lauderdale | Price $3,100,000 | $784 psf | Year built: 1998\n",
      "\u001b[1mLeast Expensive\u001b[0m\n",
      "Cypress Tree Condo Bldg 6, 2501 NW 41st Ave #109 Lauderhill | Price $51,000 | $72 psf | Year built: 1979\n",
      "\u001b[1mHighest Price Per Square Foot\u001b[0m\n",
      "Sabbia Beach, 730 N Ocean Blvd #703 Pompano Beach | Price $2,400,000 | $1,277 psf | Year built: 2019\n",
      "\u001b[1mLowest Price Per Square Foot\u001b[0m\n",
      "Cypress Tree Condo Bldg 6, 2501 NW 41st Ave #109 Lauderhill | Price $51,000 | $72 psf | Year built: 1979\n",
      "\u001b[1mNewest\u001b[0m\n",
      "Solemar Beachfront Condo, 1116 N Ocean Blvd #805 Pompano Beach | Price $2,250,000 | $1,107 psf | Year built: 2023\n",
      "\u001b[1mOldest\u001b[0m\n",
      "Alhambra Palace, 322 Monroe St Unit 203A Hollywood | Price $309,000 | $522 psf | Year built: 1926\n"
     ]
    }
   ],
   "source": [
    "print(f\"{ME}{BR}{df_filtered.loc[df_filtered['PRICE'].idxmax()]['LOCATION']}, {df_filtered.loc[df_filtered['PRICE'].idxmax()]['FULL_ADDRESS']} | Price ${df_filtered.loc[df_filtered['PRICE'].idxmax()]['PRICE']:,.0f} | ${df_filtered.loc[df_filtered['PRICE'].idxmax()]['$/SQUARE FEET']:,.0f} psf | Year built: {df_filtered.loc[df_filtered['PRICE'].idxmax()]['YEAR BUILT']:.0f}\")\n",
    "print(f\"{LE}{BR}{df_filtered.loc[df_filtered['PRICE'].idxmin()]['LOCATION']}, {df_filtered.loc[df_filtered['PRICE'].idxmin()]['FULL_ADDRESS']} | Price ${df_filtered.loc[df_filtered['PRICE'].idxmin()]['PRICE']:,.0f} | ${df_filtered.loc[df_filtered['PRICE'].idxmin()]['$/SQUARE FEET']:,.0f} psf | Year built: {df_filtered.loc[df_filtered['PRICE'].idxmin()]['YEAR BUILT']:.0f}\")\n",
    "\n",
    "print(f\"{MAX_PSF}{BR}{df_filtered.loc[df_filtered['$/SQUARE FEET'].idxmax()]['LOCATION']}, {df_filtered.loc[df_filtered['$/SQUARE FEET'].idxmax()]['FULL_ADDRESS']} | Price ${df_filtered.loc[df_filtered['$/SQUARE FEET'].idxmax()]['PRICE']:,.0f} | ${df_filtered.loc[df_filtered['$/SQUARE FEET'].idxmax()]['$/SQUARE FEET']:,.0f} psf | Year built: {df_filtered.loc[df_filtered['$/SQUARE FEET'].idxmax()]['YEAR BUILT']:.0f}\")\n",
    "print(f\"{MIN_PSF}{BR}{df_filtered.loc[df_filtered['$/SQUARE FEET'].idxmin()]['LOCATION']}, {df_filtered.loc[df_filtered['$/SQUARE FEET'].idxmin()]['FULL_ADDRESS']} | Price ${df_filtered.loc[df_filtered['$/SQUARE FEET'].idxmin()]['PRICE']:,.0f} | ${df_filtered.loc[df_filtered['$/SQUARE FEET'].idxmin()]['$/SQUARE FEET']:,.0f} psf | Year built: {df_filtered.loc[df_filtered['$/SQUARE FEET'].idxmin()]['YEAR BUILT']:.0f}\")\n",
    "\n",
    "print(f\"{Newest}{BR}{df_filtered.loc[df_filtered['YEAR BUILT'].idxmax()]['LOCATION']}, {df_filtered.loc[df_filtered['YEAR BUILT'].idxmax()]['FULL_ADDRESS']} | Price ${df_filtered.loc[df_filtered['YEAR BUILT'].idxmax()]['PRICE']:,.0f} | ${df_filtered.loc[df_filtered['YEAR BUILT'].idxmax()]['$/SQUARE FEET']:,.0f} psf | Year built: {df_filtered.loc[df_filtered['YEAR BUILT'].idxmax()]['YEAR BUILT']:.0f}\")\n",
    "print(f\"{Oldest}{BR}{df_filtered.loc[df_filtered['YEAR BUILT'].idxmin()]['LOCATION']}, {df_filtered.loc[df_filtered['YEAR BUILT'].idxmin()]['FULL_ADDRESS']} | Price ${df_filtered.loc[df_filtered['YEAR BUILT'].idxmin()]['PRICE']:,.0f} | ${df_filtered.loc[df_filtered['YEAR BUILT'].idxmin()]['$/SQUARE FEET']:,.0f} psf | Year built: {df_filtered.loc[df_filtered['YEAR BUILT'].idxmin()]['YEAR BUILT']:.0f}\")"
   ]
  },
  {
   "cell_type": "markdown",
   "id": "707dd49b",
   "metadata": {},
   "source": [
    "## Map URL Snagger"
   ]
  },
  {
   "cell_type": "code",
   "execution_count": 72,
   "id": "81e05274",
   "metadata": {},
   "outputs": [
    {
     "name": "stdout",
     "output_type": "stream",
     "text": [
      "https://trd-digital.github.io/trd-news-interactive-maps/BC_condo_sales_month_ending_may_2024\n"
     ]
    }
   ],
   "source": [
    "base_name = 'https://trd-digital.github.io/trd-news-interactive-maps/'\n",
    "\n",
    "cwd = os.getcwd()\n",
    "\n",
    "cwd = cwd.split('/')\n",
    "\n",
    "final_name = base_name + cwd[-1]\n",
    "print(final_name)"
   ]
  },
  {
   "cell_type": "markdown",
   "id": "fe5031c3",
   "metadata": {},
   "source": [
    "## Get Summary Data"
   ]
  },
  {
   "cell_type": "code",
   "execution_count": 73,
   "id": "15cba208",
   "metadata": {},
   "outputs": [
    {
     "name": "stdout",
     "output_type": "stream",
     "text": [
      "SALES INFO\n",
      "Number of sales: 954\n",
      "--------\n",
      "Total sale price: $320,238,201\n",
      "--------\n",
      "Median sale price: $240,000\n",
      "--------\n",
      "Max sale price: $3,100,000\n",
      "--------\n",
      "Min sale price: $51,000\n",
      "------------------------------------------------\n",
      "PSF INFO\n",
      "Max price per square foot: $1,277\n",
      "--------\n",
      "Min price per square foot: $72\n",
      "--------\n",
      "Median price per square foot: $239\n",
      "------------------------------------------------\n",
      "CONDO AGES\n",
      "Newest building: 2023.0\n",
      "----------\n",
      "Oldest building: 1926.0\n",
      "----------\n",
      "Average building age: 1980.3252885624345\n"
     ]
    }
   ],
   "source": [
    "print('SALES INFO')\n",
    "print(f'Number of sales: {len(df_filtered)}')\n",
    "print('--------')\n",
    "print(f'Total sale price: ${df_filtered[\"PRICE\"].sum():,.0f}')\n",
    "print('--------')\n",
    "print(f'Median sale price: ${df_filtered[\"PRICE\"].median():,.0f}')\n",
    "print('--------')\n",
    "print(f'Max sale price: ${df_filtered[\"PRICE\"].max():,.0f}')\n",
    "print('--------')\n",
    "print(f'Min sale price: ${df_filtered[\"PRICE\"].min():,.0f}')\n",
    "print('------------------------------------------------')\n",
    "print('PSF INFO')\n",
    "print(f'Max price per square foot: ${df_filtered[\"$/SQUARE FEET\"].max():,.0f}')\n",
    "print('--------')\n",
    "print(f'Min price per square foot: ${df_filtered[\"$/SQUARE FEET\"].min():,.0f}')\n",
    "print('--------')\n",
    "print(f'Median price per square foot: ${df_filtered[\"$/SQUARE FEET\"].median():,.0f}')\n",
    "print('------------------------------------------------')\n",
    "print('CONDO AGES')\n",
    "print(f'Newest building: {df_filtered[\"YEAR BUILT\"].max()}')\n",
    "print('----------')\n",
    "print(f'Oldest building: {df_filtered[\"YEAR BUILT\"].min()}')\n",
    "print('----------')\n",
    "print(f'Average building age: {df_filtered[\"YEAR BUILT\"].mean()}')"
   ]
  },
  {
   "cell_type": "code",
   "execution_count": 74,
   "id": "a7db05bf",
   "metadata": {},
   "outputs": [],
   "source": [
    "most_expensive_muni_condo_name = df_filtered.loc[df_filtered['PRICE'].idxmax()]['LOCATION']\n",
    "most_expensive_muni_location = df_filtered.loc[df_filtered['PRICE'].idxmax()]['CITY']\n",
    "\n",
    "least_expensive_muni_condo_name = df_filtered.loc[df_filtered['PRICE'].idxmin()]['LOCATION']\n",
    "least_expensive_muni_location = df_filtered.loc[df_filtered['PRICE'].idxmin()]['CITY']"
   ]
  },
  {
   "cell_type": "markdown",
   "id": "3a2b0666",
   "metadata": {},
   "source": [
    "# GENERATE STORY TEMPLATE\n",
    "\n",
    "# STOP! DID YOU UPDATE VALUES FROM THE PREVIOUS MONTH?"
   ]
  },
  {
   "cell_type": "code",
   "execution_count": 75,
   "id": "b79b8847",
   "metadata": {},
   "outputs": [],
   "source": [
    "## Calculate the increase/descrease between both months\n",
    "subject_month_sales_volume = df_filtered[\"PRICE\"].sum()\n",
    "prior_month_sales_volume = int(sales_volume_2nd_month)  # Example value, replace with actual value\n",
    "\n",
    "subject_month_closings = len(df_filtered)\n",
    "prior_month_closings = int(total_condos_sold_2nd_month)\n",
    "\n",
    "# Subtract the smaller value from the larger one\n",
    "if subject_month_sales_volume > prior_month_sales_volume:\n",
    "    hed_rf = 'jumps'\n",
    "    nut_graf = 'rising'\n",
    "    second_nut_graf_ref = 'up'\n",
    "    social = 'higher'\n",
    "    seo = 'increased'\n",
    "elif prior_month_sales_volume > subject_month_sales_volume:\n",
    "    hed_rf = 'drops'\n",
    "    nut_graf = 'falling'\n",
    "    second_nut_graf_ref = 'down'\n",
    "    social = 'lower'\n",
    "    seo = 'decreased'\n",
    "else:\n",
    "    hed_rf = 'equals'\n",
    "    nut_graf = 'equaling'\n",
    "    second_nut_graf_ref = 'on par with'\n",
    "    social = 'equal'\n",
    "    seo = \"didn't change\"\n",
    "    \n",
    "    \n",
    "if subject_month_closings > prior_month_closings:\n",
    "    dek_rf = 'rose'\n",
    "elif prior_month_closings > subject_month_closings:\n",
    "    dek_rf ='fell'\n",
    "else:\n",
    "    dek_rf = 'equaled'"
   ]
  },
  {
   "cell_type": "code",
   "execution_count": 76,
   "id": "246d9fac",
   "metadata": {},
   "outputs": [],
   "source": [
    "story_string = f'''\n",
    "\\033[1mHED:\\033[0m {county_name} condo sales dollar volume {hed_rf} in {previous_month_name} to ${round(df_filtered[\"PRICE\"].sum()/1_000_000)}M \n",
    "\\033[1mDEK:\\033[0m Number of closings {dek_rf} to {len(df_filtered)} from {total_condos_sold_2nd_month} in {month_before_last_name}\n",
    "\\033[1mFEATURED HED:\\033[0m\n",
    "\\033[1mSEO HED:\\033[0m {county_name} {previous_month_name} Condo Sales Report \n",
    "\\033[1mSEO DESCRIPTION:\\033[0m {county_name}’s condo sales volume {hed_rf} to ${round(df_filtered[\"PRICE\"].sum()/1_000_000)} million in {previous_month_name}\n",
    "\\033[1mAUTHOR:\\033[0m Adam Farence\n",
    "\\033[1mRESEARCH:\\033[0m \n",
    "\\033[1mSocial:\\033[0m {county_name} had ${round(df_filtered[\"PRICE\"].sum()/1_000_000):,.0f} million in condo sales in {previous_month_name}, {social} than ${round(int(sales_volume_2nd_month)/1_000_000)} million from {month_before_last_name}, @afarence reports \n",
    "\\033[1mART:\\033[0m \n",
    "\n",
    "CHANGE ME\n",
    "\n",
    "*Please provide credits for any images that you share\n",
    "\\033[1mSTORY TYPE:\\033[0m Report\n",
    "\\033[1mSECTOR\\033[0m (formerly CATEGORY): Residential Real Estate\n",
    "\\033[1mTAGS:\\033[0m condo sales, {county_name}, monthly condo sales, condos, condo market, {most_expensive_muni_condo_name.title()}, {most_expensive_muni_location}\n",
    "\n",
    "\\033[1mNeighborhood:\\033[0m \n",
    "\\033[1mProperty:\\033[0m\n",
    "\\033[1mProperty Type:\\033[0m\n",
    "\\033[1mCompanies:\\033[0m \n",
    "\\033[1mPeople:\\033[0m\n",
    "\\033[1mIssues:\\033[0m\n",
    "\\033[1mRegion:\\033[0m\n",
    "\n",
    "{county_name}’s NEWS PEG HERE.\n",
    "\n",
    "{previous_month_name} condo sales totaled ${df_filtered[\"PRICE\"].sum()} million, {nut_graf} from ${int(sales_volume_2nd_month)/1_000_000:.0f} million in {month_before_last_name}. Brokers closed {len(df_filtered)} sales last month, {second_nut_graf_ref} from {total_condos_sold_2nd_month} sales in {month_before_last_name} and XXX in XXX, Multiple Listing Service data from Redfin show.\n",
    "\n",
    "{previous_month_name} sale prices ranged from ${df_filtered[\"PRICE\"].min():,.2f} to ${df_filtered[\"PRICE\"].max():,.0f} million, with a median sale price of ${df_filtered[\"PRICE\"].median():,.0f}. The price per square foot ranged from ${df_filtered[\"$/SQUARE FEET\"].min():,.0f} to ${df_filtered[\"$/SQUARE FEET\"].max():,.0f}, with a median of ${df_filtered[\"$/SQUARE FEET\"].median():,.0f} per square foot.\n",
    "\n",
    "In {month_before_last_name}, sales closed with a median price of ${int(median_sales_price_2nd_month):,.0f}, and ${median_psf_2nd_month} per square foot.\n",
    "\n",
    "A ${df_filtered[\"PRICE\"].max()/1_000_000:,.0f} million closing at {most_expensive_muni_condo_name.title()} took the title of priciest sale last month. {df_filtered.loc[df_filtered['PRICE'].idxmax()]['FULL_ADDRESS']} sold for ${df_filtered.loc[df_filtered['PRICE'].idxmax()]['$/SQUARE FEET']:,.0f} per square foot after XX days on the market. XXX with XXX had the listing, and XXX with XXX represented the buyer.\n",
    "\n",
    "The sale price was \\033[1mmore/less\\033[0m than {month_before_last_name}'s priciest sale. Unit XXXX \n",
    "\n",
    "In contrast, {previous_month_name}'s cheapest sale was an {least_expensive_muni_condo_name} in {least_expensive_muni_location}, at {df_filtered.loc[df_filtered['PRICE'].idxmin()]['FULL_ADDRESS']}. Unit XXX traded for ${df_filtered['PRICE'].min():,.0f} — or ${df_filtered.loc[df_filtered['PRICE'].idxmin()]['$/SQUARE FEET']:,.0f} per square foot — after XXX days on the market. XXX with XXX handled both sides of the deal.\n",
    "\n",
    "<figure>\n",
    " <div class=\"container\">\n",
    "   <div class=\"iframe-wrap\">\n",
    "   <iframe src=\"{final_name}\" width=\"100%\" height=\"800\" frameBorder=\"0\" scrolling=\"no\"></iframe>\n",
    "  </div>\n",
    "</div>\n",
    "  <figcaption align=\"right\"><a href=\"https://leafletjs.com/\">Leaflet</a> map created by Adam Farence | Data by © <a href=\"https://www.openstreetmap.org/#map=4/38.01/-95.84\"> OpenStreetMap</a>, under <a href=\"https://www.openstreetmap.org/copyright\">ODbl.</a></figcaption>\n",
    "</figure>\n",
    "\n",
    "Here’s a breakdown of {previous_month_name}’s notable condo sales:\n",
    "'''"
   ]
  },
  {
   "cell_type": "code",
   "execution_count": 77,
   "id": "f51fcff5",
   "metadata": {},
   "outputs": [
    {
     "name": "stdout",
     "output_type": "stream",
     "text": [
      "\n",
      "\u001b[1mHED:\u001b[0m Broward County condo sales dollar volume drops in May to $320M \n",
      "\u001b[1mDEK:\u001b[0m Number of closings fell to 954 from 979 in April\n",
      "\u001b[1mFEATURED HED:\u001b[0m\n",
      "\u001b[1mSEO HED:\u001b[0m Broward County May Condo Sales Report \n",
      "\u001b[1mSEO DESCRIPTION:\u001b[0m Broward County’s condo sales volume drops to $320 million in May\n",
      "\u001b[1mAUTHOR:\u001b[0m Adam Farence\n",
      "\u001b[1mRESEARCH:\u001b[0m \n",
      "\u001b[1mSocial:\u001b[0m Broward County had $320 million in condo sales in May, lower than $338 million from April, @afarence reports \n",
      "\u001b[1mART:\u001b[0m \n",
      "\n",
      "CHANGE ME\n",
      "\n",
      "*Please provide credits for any images that you share\n",
      "\u001b[1mSTORY TYPE:\u001b[0m Report\n",
      "\u001b[1mSECTOR\u001b[0m (formerly CATEGORY): Residential Real Estate\n",
      "\u001b[1mTAGS:\u001b[0m condo sales, Broward County, monthly condo sales, condos, condo market, L'Hermitage, Fort Lauderdale\n",
      "\n",
      "\u001b[1mNeighborhood:\u001b[0m \n",
      "\u001b[1mProperty:\u001b[0m\n",
      "\u001b[1mProperty Type:\u001b[0m\n",
      "\u001b[1mCompanies:\u001b[0m \n",
      "\u001b[1mPeople:\u001b[0m\n",
      "\u001b[1mIssues:\u001b[0m\n",
      "\u001b[1mRegion:\u001b[0m\n",
      "\n",
      "Broward County’s NEWS PEG HERE.\n",
      "\n",
      "May condo sales totaled $320238201.0 million, falling from $338 million in April. Brokers closed 954 sales last month, down from 979 sales in April and XXX in XXX, Multiple Listing Service data from Redfin show.\n",
      "\n",
      "May sale prices ranged from $51,000.00 to $3,100,000 million, with a median sale price of $240,000. The price per square foot ranged from $72 to $1,277, with a median of $239 per square foot.\n",
      "\n",
      "In April, sales closed with a median price of $248,000, and $242 per square foot.\n",
      "\n",
      "A $3 million closing at L'Hermitage took the title of priciest sale last month. 3100 N Ocean Blvd Ph 2704 Fort Lauderdale sold for $784 per square foot after XX days on the market. XXX with XXX had the listing, and XXX with XXX represented the buyer.\n",
      "\n",
      "The sale price was \u001b[1mmore/less\u001b[0m than April's priciest sale. Unit XXXX \n",
      "\n",
      "In contrast, May's cheapest sale was an Cypress Tree Condo Bldg 6 in Lauderhill, at 2501 NW 41st Ave #109 Lauderhill. Unit XXX traded for $51,000 — or $72 per square foot — after XXX days on the market. XXX with XXX handled both sides of the deal.\n",
      "\n",
      "<figure>\n",
      " <div class=\"container\">\n",
      "   <div class=\"iframe-wrap\">\n",
      "   <iframe src=\"https://trd-digital.github.io/trd-news-interactive-maps/BC_condo_sales_month_ending_may_2024\" width=\"100%\" height=\"800\" frameBorder=\"0\" scrolling=\"no\"></iframe>\n",
      "  </div>\n",
      "</div>\n",
      "  <figcaption align=\"right\"><a href=\"https://leafletjs.com/\">Leaflet</a> map created by Adam Farence | Data by © <a href=\"https://www.openstreetmap.org/#map=4/38.01/-95.84\"> OpenStreetMap</a>, under <a href=\"https://www.openstreetmap.org/copyright\">ODbl.</a></figcaption>\n",
      "</figure>\n",
      "\n",
      "Here’s a breakdown of May’s notable condo sales:\n",
      "\n",
      "\u001b[1mMost Expensive\u001b[0m\n",
      "L'hermitage, 3100 N Ocean Blvd Ph 2704 Fort Lauderdale | Price $3,100,000 | $784 psf | Year built: 1998\n",
      "\u001b[1mLeast Expensive\u001b[0m\n",
      "Cypress Tree Condo Bldg 6, 2501 NW 41st Ave #109 Lauderhill | Price $51,000 | $72 psf | Year built: 1979\n",
      "\u001b[1mHighest Price Per Square Foot\u001b[0m\n",
      "Sabbia Beach, 730 N Ocean Blvd #703 Pompano Beach | Price $2,400,000 | $1,277 psf | Year built: 2019\n",
      "\u001b[1mLowest Price Per Square Foot\u001b[0m\n",
      "Cypress Tree Condo Bldg 6, 2501 NW 41st Ave #109 Lauderhill | Price $51,000 | $72 psf | Year built: 1979\n",
      "\u001b[1mNewest\u001b[0m\n",
      "Solemar Beachfront Condo, 1116 N Ocean Blvd #805 Pompano Beach | Price $2,250,000 | $1,107 psf | Year built: 2023\n",
      "\u001b[1mOldest\u001b[0m\n",
      "Alhambra Palace, 322 Monroe St Unit 203A Hollywood | Price $309,000 | $522 psf | Year built: 1926\n"
     ]
    }
   ],
   "source": [
    "print(story_string)\n",
    "\n",
    "print(f\"{ME}{BR}{df_filtered.loc[df_filtered['PRICE'].idxmax()]['LOCATION']}, {df_filtered.loc[df_filtered['PRICE'].idxmax()]['FULL_ADDRESS']} | Price ${df_filtered.loc[df_filtered['PRICE'].idxmax()]['PRICE']:,.0f} | ${df_filtered.loc[df_filtered['PRICE'].idxmax()]['$/SQUARE FEET']:,.0f} psf | Year built: {df_filtered.loc[df_filtered['PRICE'].idxmax()]['YEAR BUILT']:.0f}\")\n",
    "print(f\"{LE}{BR}{df_filtered.loc[df_filtered['PRICE'].idxmin()]['LOCATION']}, {df_filtered.loc[df_filtered['PRICE'].idxmin()]['FULL_ADDRESS']} | Price ${df_filtered.loc[df_filtered['PRICE'].idxmin()]['PRICE']:,.0f} | ${df_filtered.loc[df_filtered['PRICE'].idxmin()]['$/SQUARE FEET']:,.0f} psf | Year built: {df_filtered.loc[df_filtered['PRICE'].idxmin()]['YEAR BUILT']:.0f}\")\n",
    "\n",
    "print(f\"{MAX_PSF}{BR}{df_filtered.loc[df_filtered['$/SQUARE FEET'].idxmax()]['LOCATION']}, {df_filtered.loc[df_filtered['$/SQUARE FEET'].idxmax()]['FULL_ADDRESS']} | Price ${df_filtered.loc[df_filtered['$/SQUARE FEET'].idxmax()]['PRICE']:,.0f} | ${df_filtered.loc[df_filtered['$/SQUARE FEET'].idxmax()]['$/SQUARE FEET']:,.0f} psf | Year built: {df_filtered.loc[df_filtered['$/SQUARE FEET'].idxmax()]['YEAR BUILT']:.0f}\")\n",
    "print(f\"{MIN_PSF}{BR}{df_filtered.loc[df_filtered['$/SQUARE FEET'].idxmin()]['LOCATION']}, {df_filtered.loc[df_filtered['$/SQUARE FEET'].idxmin()]['FULL_ADDRESS']} | Price ${df_filtered.loc[df_filtered['$/SQUARE FEET'].idxmin()]['PRICE']:,.0f} | ${df_filtered.loc[df_filtered['$/SQUARE FEET'].idxmin()]['$/SQUARE FEET']:,.0f} psf | Year built: {df_filtered.loc[df_filtered['$/SQUARE FEET'].idxmin()]['YEAR BUILT']:.0f}\")\n",
    "\n",
    "print(f\"{Newest}{BR}{df_filtered.loc[df_filtered['YEAR BUILT'].idxmax()]['LOCATION']}, {df_filtered.loc[df_filtered['YEAR BUILT'].idxmax()]['FULL_ADDRESS']} | Price ${df_filtered.loc[df_filtered['YEAR BUILT'].idxmax()]['PRICE']:,.0f} | ${df_filtered.loc[df_filtered['YEAR BUILT'].idxmax()]['$/SQUARE FEET']:,.0f} psf | Year built: {df_filtered.loc[df_filtered['YEAR BUILT'].idxmax()]['YEAR BUILT']:.0f}\")\n",
    "print(f\"{Oldest}{BR}{df_filtered.loc[df_filtered['YEAR BUILT'].idxmin()]['LOCATION']}, {df_filtered.loc[df_filtered['YEAR BUILT'].idxmin()]['FULL_ADDRESS']} | Price ${df_filtered.loc[df_filtered['YEAR BUILT'].idxmin()]['PRICE']:,.0f} | ${df_filtered.loc[df_filtered['YEAR BUILT'].idxmin()]['$/SQUARE FEET']:,.0f} psf | Year built: {df_filtered.loc[df_filtered['YEAR BUILT'].idxmin()]['YEAR BUILT']:.0f}\")"
   ]
  },
  {
   "cell_type": "markdown",
   "id": "1237f8b2",
   "metadata": {},
   "source": [
    "# Print links for notable sales\n",
    "\n",
    "## Top sale"
   ]
  },
  {
   "cell_type": "code",
   "execution_count": 78,
   "id": "4c776293",
   "metadata": {},
   "outputs": [
    {
     "name": "stdout",
     "output_type": "stream",
     "text": [
      "https://www.redfin.com/FL/Fort-Lauderdale/3100-N-Ocean-Blvd-33308/unit-2704/home/41715100\n"
     ]
    }
   ],
   "source": [
    "print(df_filtered.loc[df_filtered['PRICE'].idxmax()]['URL'])"
   ]
  },
  {
   "cell_type": "markdown",
   "id": "b1f63a6a",
   "metadata": {},
   "source": [
    "## Cheapest sale"
   ]
  },
  {
   "cell_type": "code",
   "execution_count": 79,
   "id": "967008ef",
   "metadata": {},
   "outputs": [
    {
     "name": "stdout",
     "output_type": "stream",
     "text": [
      "https://www.redfin.com/FL/Lauderhill/2501-NW-41st-Ave-33313/unit-109/home/41597191\n"
     ]
    }
   ],
   "source": [
    "print(df_filtered.loc[df_filtered['PRICE'].idxmin()]['URL'])"
   ]
  },
  {
   "cell_type": "markdown",
   "id": "0f56cc2b",
   "metadata": {},
   "source": [
    "## Highest PSF"
   ]
  },
  {
   "cell_type": "code",
   "execution_count": 86,
   "id": "001083a2",
   "metadata": {},
   "outputs": [
    {
     "name": "stdout",
     "output_type": "stream",
     "text": [
      "https://www.redfin.com/FL/Pompano-Beach/730-N-Ocean-Blvd-33062/unit-703/home/170420999\n"
     ]
    }
   ],
   "source": [
    "print(df_filtered.loc[df_filtered['$/SQUARE FEET'].idxmax()]['URL'])"
   ]
  },
  {
   "cell_type": "markdown",
   "id": "e606b84a",
   "metadata": {},
   "source": [
    "## Lowest PSF"
   ]
  },
  {
   "cell_type": "code",
   "execution_count": 87,
   "id": "91b9b079",
   "metadata": {},
   "outputs": [
    {
     "name": "stdout",
     "output_type": "stream",
     "text": [
      "https://www.redfin.com/FL/Lauderhill/2501-NW-41st-Ave-33313/unit-109/home/41597191\n"
     ]
    }
   ],
   "source": [
    "print(df_filtered.loc[df_filtered['$/SQUARE FEET'].idxmin()]['URL'])"
   ]
  },
  {
   "cell_type": "markdown",
   "id": "d6e5493b",
   "metadata": {},
   "source": [
    "## Newest"
   ]
  },
  {
   "cell_type": "code",
   "execution_count": 88,
   "id": "c2cc4988",
   "metadata": {},
   "outputs": [
    {
     "name": "stdout",
     "output_type": "stream",
     "text": [
      "https://www.redfin.com/FL/Pompano-Beach/1116-N-Ocean-Blvd-33062/unit-805/home/187660555\n"
     ]
    }
   ],
   "source": [
    "print(df_filtered.loc[df_filtered['YEAR BUILT'].idxmax()]['URL'])"
   ]
  },
  {
   "cell_type": "markdown",
   "id": "1d1ba957",
   "metadata": {},
   "source": [
    "## Oldest"
   ]
  },
  {
   "cell_type": "code",
   "execution_count": 89,
   "id": "51fa78ff",
   "metadata": {},
   "outputs": [
    {
     "name": "stdout",
     "output_type": "stream",
     "text": [
      "https://www.redfin.com/FL/Hollywood/322-Monroe-St-33019/unit-203A/home/41937694\n"
     ]
    }
   ],
   "source": [
    "print(df_filtered.loc[df_filtered['YEAR BUILT'].idxmin()]['URL'])"
   ]
  },
  {
   "cell_type": "markdown",
   "id": "6b274da8",
   "metadata": {},
   "source": [
    "## Time on Market Calculator"
   ]
  },
  {
   "cell_type": "code",
   "execution_count": 85,
   "id": "0d14e001",
   "metadata": {},
   "outputs": [
    {
     "name": "stdout",
     "output_type": "stream",
     "text": [
      "57\n"
     ]
    }
   ],
   "source": [
    "from datetime import datetime, timedelta\n",
    "\n",
    "################ YEAR, MONTH, DAY #######################\n",
    "\n",
    "date1 = datetime(2024, 4, 4) ## List (Earlier) date\n",
    "date2 = datetime(2024, 5, 31) ## Close (Later) date\n",
    "\n",
    "delta = date2 - date1\n",
    "num_days = delta.days\n",
    "\n",
    "print(num_days)"
   ]
  },
  {
   "cell_type": "markdown",
   "id": "cced793f",
   "metadata": {},
   "source": [
    "## Access second highest (or whatever is needed)"
   ]
  },
  {
   "cell_type": "code",
   "execution_count": 58,
   "id": "016dcd2c",
   "metadata": {},
   "outputs": [],
   "source": [
    "# ### Second highest ###\n",
    "# # Sort the DataFrame by '$/SQUARE FEET' in descending order\n",
    "# second_highest = df_filtered.sort_values(by='$/SQUARE FEET', ascending=False)\n",
    "\n",
    "# # Get the URL of the entry with the second highest '$/SQUARE FEET' value\n",
    "# second_highest_url = second_highest.iloc[1]['URL']  # `.iloc[1]` accesses the second row\n",
    "\n",
    "# print(second_highest_url)"
   ]
  }
 ],
 "metadata": {
  "kernelspec": {
   "display_name": "Python 3 (ipykernel)",
   "language": "python",
   "name": "python3"
  },
  "language_info": {
   "codemirror_mode": {
    "name": "ipython",
    "version": 3
   },
   "file_extension": ".py",
   "mimetype": "text/x-python",
   "name": "python",
   "nbconvert_exporter": "python",
   "pygments_lexer": "ipython3",
   "version": "3.9.12"
  }
 },
 "nbformat": 4,
 "nbformat_minor": 5
}
