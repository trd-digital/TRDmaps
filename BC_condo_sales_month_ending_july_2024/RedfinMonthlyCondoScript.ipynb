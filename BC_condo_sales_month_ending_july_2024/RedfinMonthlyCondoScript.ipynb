{
 "cells": [
  {
   "cell_type": "markdown",
   "id": "282c57c3",
   "metadata": {},
   "source": [
    "## Imports"
   ]
  },
  {
   "cell_type": "code",
   "execution_count": 1,
   "id": "54c15242",
   "metadata": {},
   "outputs": [],
   "source": [
    "import pandas as pd\n",
    "import numpy as np\n",
    "import re\n",
    "import os\n",
    "import folium\n",
    "import geopandas as gpd\n",
    "import glob\n",
    "from datetime import datetime, timedelta"
   ]
  },
  {
   "cell_type": "markdown",
   "id": "7c620cf8",
   "metadata": {},
   "source": [
    "## Data Read-in"
   ]
  },
  {
   "cell_type": "code",
   "execution_count": 2,
   "id": "788cfd9b",
   "metadata": {},
   "outputs": [
    {
     "name": "stdout",
     "output_type": "stream",
     "text": [
      "3384\n"
     ]
    }
   ],
   "source": [
    "csv_files = glob.glob('*.csv')\n",
    "\n",
    "df_list = []\n",
    "\n",
    "for csv_file in csv_files:\n",
    "    df = pd.read_csv(csv_file)\n",
    "    df_list.append(df)\n",
    "    \n",
    "df = pd.concat(df_list,ignore_index=True)\n",
    "\n",
    "print(len(df))"
   ]
  },
  {
   "cell_type": "code",
   "execution_count": 3,
   "id": "563417a4",
   "metadata": {},
   "outputs": [],
   "source": [
    "gdf = gpd.read_file('countyboundary')"
   ]
  },
  {
   "cell_type": "markdown",
   "id": "5cdf738a",
   "metadata": {},
   "source": [
    "## Previous month's values\n",
    "\n",
    "Get values from here:\n",
    "\n",
    "https://docs.google.com/spreadsheets/d/1GWlqTIzCB29pDVDjd-iBVejVGGsLiAd0P6fq4LM83WI/edit?usp=sharing"
   ]
  },
  {
   "cell_type": "code",
   "execution_count": 4,
   "id": "7bbbad1d",
   "metadata": {},
   "outputs": [
    {
     "name": "stdout",
     "output_type": "stream",
     "text": [
      "Input County Name:\n",
      "Broward County\n"
     ]
    }
   ],
   "source": [
    "print('Input County Name:')\n",
    "county_name = input()"
   ]
  },
  {
   "cell_type": "code",
   "execution_count": 5,
   "id": "1cd3e074",
   "metadata": {},
   "outputs": [
    {
     "name": "stdout",
     "output_type": "stream",
     "text": [
      "Input total condo units sold previous (not last) month:\n",
      "808\n"
     ]
    }
   ],
   "source": [
    "print('Input total condo units sold previous (not last) month:')\n",
    "total_condos_sold_2nd_month = input()"
   ]
  },
  {
   "cell_type": "code",
   "execution_count": 6,
   "id": "229637ce",
   "metadata": {},
   "outputs": [
    {
     "name": "stdout",
     "output_type": "stream",
     "text": [
      "Input total sales volume ($$$ million) from previous (not last) month:\n",
      "285000000\n"
     ]
    }
   ],
   "source": [
    "print('Input total sales volume ($$$ million) from previous (not last) month:')\n",
    "sales_volume_2nd_month = input()"
   ]
  },
  {
   "cell_type": "code",
   "execution_count": 7,
   "id": "081faeec",
   "metadata": {},
   "outputs": [
    {
     "name": "stdout",
     "output_type": "stream",
     "text": [
      "Input median sales price from previous (not last) month:\n",
      "240000\n"
     ]
    }
   ],
   "source": [
    "print('Input median sales price from previous (not last) month:')\n",
    "median_sales_price_2nd_month = input()"
   ]
  },
  {
   "cell_type": "code",
   "execution_count": 8,
   "id": "cdac5fe9",
   "metadata": {},
   "outputs": [
    {
     "name": "stdout",
     "output_type": "stream",
     "text": [
      "Input median psf from previous (not last) month:\n",
      "242\n"
     ]
    }
   ],
   "source": [
    "print('Input median psf from previous (not last) month:')\n",
    "median_psf_2nd_month = input()"
   ]
  },
  {
   "cell_type": "markdown",
   "id": "b03ce742",
   "metadata": {},
   "source": [
    "## Data Clean"
   ]
  },
  {
   "cell_type": "code",
   "execution_count": 9,
   "id": "1f2a52a3",
   "metadata": {},
   "outputs": [],
   "source": [
    "df = df.rename(columns={'URL (SEE https://www.redfin.com/buy-a-home/comparative-market-analysis FOR INFO ON PRICING)':'URL'})"
   ]
  },
  {
   "cell_type": "code",
   "execution_count": 10,
   "id": "5f45bf08",
   "metadata": {},
   "outputs": [],
   "source": [
    "df = df.dropna(subset=['SOLD DATE'])"
   ]
  },
  {
   "cell_type": "code",
   "execution_count": 11,
   "id": "25d1852d",
   "metadata": {},
   "outputs": [
    {
     "name": "stdout",
     "output_type": "stream",
     "text": [
      "Report month: July ---- Month before report month: June\n"
     ]
    }
   ],
   "source": [
    "# Get the current date\n",
    "current_date = datetime.now()\n",
    "\n",
    "# Calculate the first day of the current month\n",
    "first_day_of_current_month = current_date.replace(day=1)\n",
    "\n",
    "# Get the last day of the previous month by subtracting one day from the first day of the current month\n",
    "last_day_of_previous_month = first_day_of_current_month - timedelta(days=1)\n",
    "\n",
    "# Get the month name of the previous month\n",
    "previous_month_name = last_day_of_previous_month.strftime(\"%B\")\n",
    "\n",
    "# ---- Get the name of the month, as a string, from two months ago.\n",
    "# ---- Meaning, if the current month is January, return November.\n",
    "\n",
    "# Get the first day of the previous month by subtracting one day from the first day of the current month\n",
    "first_day_of_previous_month = first_day_of_current_month - timedelta(days=1)\n",
    "\n",
    "# Get the first day of the month before the last by subtracting one day from the first day of the previous month\n",
    "first_day_of_month_before_last = first_day_of_previous_month.replace(day=1) - timedelta(days=1)\n",
    "\n",
    "# Get the month name of the month before the last\n",
    "month_before_last_name = first_day_of_month_before_last.strftime(\"%B\")\n",
    "\n",
    "print(f'Report month: {previous_month_name} ---- Month before report month: {month_before_last_name}')"
   ]
  },
  {
   "cell_type": "code",
   "execution_count": 12,
   "id": "9b9d20ba",
   "metadata": {},
   "outputs": [],
   "source": [
    "# Define list of desired months (excluding current month)\n",
    "desired_months = [previous_month_name]\n",
    "\n",
    "# Filter DataFrame to include only entries from desired months\n",
    "df_filtered = df[df['SOLD DATE'].str.split('-', expand=True)[0].isin(desired_months)]\n",
    "\n",
    "# Reset the index\n",
    "df_filtered = df_filtered.reset_index(drop=True)"
   ]
  },
  {
   "cell_type": "code",
   "execution_count": 13,
   "id": "ab2d002c",
   "metadata": {},
   "outputs": [
    {
     "name": "stdout",
     "output_type": "stream",
     "text": [
      "PRICE\n",
      "False    874\n",
      "Name: count, dtype: int64\n",
      "-------\n",
      "$/SQUARE FEET\n",
      "False    869\n",
      "True       5\n",
      "Name: count, dtype: int64\n",
      "-------\n",
      "YEAR BUILT\n",
      "False    874\n",
      "Name: count, dtype: int64\n",
      "-------\n"
     ]
    }
   ],
   "source": [
    "# Data checks\n",
    "print(df_filtered['PRICE'].isna().value_counts())\n",
    "print('-------')\n",
    "print(df_filtered['$/SQUARE FEET'].isna().value_counts())\n",
    "print('-------')\n",
    "print(df_filtered['YEAR BUILT'].isna().value_counts())\n",
    "print('-------')"
   ]
  },
  {
   "cell_type": "code",
   "execution_count": 14,
   "id": "446eb268",
   "metadata": {},
   "outputs": [
    {
     "name": "stdout",
     "output_type": "stream",
     "text": [
      "https://www.redfin.com/FL/Fort-Lauderdale/321-N-Birch-Rd-33304/unit-801/home/172061907\n"
     ]
    }
   ],
   "source": [
    "sorted_df = df_filtered.sort_values(by='YEAR BUILT', ascending=False)\n",
    "second_newest_building = sorted_df.iloc[2]\n",
    "print(second_newest_building['URL'])"
   ]
  },
  {
   "cell_type": "code",
   "execution_count": 15,
   "id": "61663e76",
   "metadata": {},
   "outputs": [
    {
     "data": {
      "text/html": [
       "<div>\n",
       "<style scoped>\n",
       "    .dataframe tbody tr th:only-of-type {\n",
       "        vertical-align: middle;\n",
       "    }\n",
       "\n",
       "    .dataframe tbody tr th {\n",
       "        vertical-align: top;\n",
       "    }\n",
       "\n",
       "    .dataframe thead th {\n",
       "        text-align: right;\n",
       "    }\n",
       "</style>\n",
       "<table border=\"1\" class=\"dataframe\">\n",
       "  <thead>\n",
       "    <tr style=\"text-align: right;\">\n",
       "      <th></th>\n",
       "      <th>SALE TYPE</th>\n",
       "      <th>SOLD DATE</th>\n",
       "      <th>PROPERTY TYPE</th>\n",
       "      <th>ADDRESS</th>\n",
       "      <th>CITY</th>\n",
       "      <th>STATE OR PROVINCE</th>\n",
       "      <th>ZIP OR POSTAL CODE</th>\n",
       "      <th>PRICE</th>\n",
       "      <th>BEDS</th>\n",
       "      <th>BATHS</th>\n",
       "      <th>...</th>\n",
       "      <th>STATUS</th>\n",
       "      <th>NEXT OPEN HOUSE START TIME</th>\n",
       "      <th>NEXT OPEN HOUSE END TIME</th>\n",
       "      <th>URL</th>\n",
       "      <th>SOURCE</th>\n",
       "      <th>MLS#</th>\n",
       "      <th>FAVORITE</th>\n",
       "      <th>INTERESTED</th>\n",
       "      <th>LATITUDE</th>\n",
       "      <th>LONGITUDE</th>\n",
       "    </tr>\n",
       "  </thead>\n",
       "  <tbody>\n",
       "  </tbody>\n",
       "</table>\n",
       "<p>0 rows × 27 columns</p>\n",
       "</div>"
      ],
      "text/plain": [
       "Empty DataFrame\n",
       "Columns: [SALE TYPE, SOLD DATE, PROPERTY TYPE, ADDRESS, CITY, STATE OR PROVINCE, ZIP OR POSTAL CODE, PRICE, BEDS, BATHS, LOCATION, SQUARE FEET, LOT SIZE, YEAR BUILT, DAYS ON MARKET, $/SQUARE FEET, HOA/MONTH, STATUS, NEXT OPEN HOUSE START TIME, NEXT OPEN HOUSE END TIME, URL, SOURCE, MLS#, FAVORITE, INTERESTED, LATITUDE, LONGITUDE]\n",
       "Index: []\n",
       "\n",
       "[0 rows x 27 columns]"
      ]
     },
     "execution_count": 15,
     "metadata": {},
     "output_type": "execute_result"
    }
   ],
   "source": [
    "df_filtered.loc[df_filtered['PRICE'] == '0']"
   ]
  },
  {
   "cell_type": "code",
   "execution_count": 16,
   "id": "b0376d17",
   "metadata": {},
   "outputs": [],
   "source": [
    "df_filtered['PRICE'] = pd.to_numeric(df_filtered['PRICE'])\n",
    "df_filtered['$/SQUARE FEET'] = pd.to_numeric(df_filtered['$/SQUARE FEET'])\n",
    "df_filtered['YEAR BUILT'] = pd.to_numeric(df_filtered['YEAR BUILT'])\n",
    "df_filtered['LATITUDE'] = pd.to_numeric(df_filtered['LATITUDE'])\n",
    "df_filtered['LONGITUDE'] = pd.to_numeric(df_filtered['LONGITUDE'])"
   ]
  },
  {
   "cell_type": "code",
   "execution_count": 17,
   "id": "22be7f44",
   "metadata": {},
   "outputs": [],
   "source": [
    "df_filtered = df_filtered.drop_duplicates().reset_index(drop=True)"
   ]
  },
  {
   "cell_type": "code",
   "execution_count": 18,
   "id": "a5e15306",
   "metadata": {},
   "outputs": [
    {
     "data": {
      "text/html": [
       "<div>\n",
       "<style scoped>\n",
       "    .dataframe tbody tr th:only-of-type {\n",
       "        vertical-align: middle;\n",
       "    }\n",
       "\n",
       "    .dataframe tbody tr th {\n",
       "        vertical-align: top;\n",
       "    }\n",
       "\n",
       "    .dataframe thead th {\n",
       "        text-align: right;\n",
       "    }\n",
       "</style>\n",
       "<table border=\"1\" class=\"dataframe\">\n",
       "  <thead>\n",
       "    <tr style=\"text-align: right;\">\n",
       "      <th></th>\n",
       "      <th>SALE TYPE</th>\n",
       "      <th>SOLD DATE</th>\n",
       "      <th>PROPERTY TYPE</th>\n",
       "      <th>ADDRESS</th>\n",
       "      <th>CITY</th>\n",
       "      <th>STATE OR PROVINCE</th>\n",
       "      <th>ZIP OR POSTAL CODE</th>\n",
       "      <th>PRICE</th>\n",
       "      <th>BEDS</th>\n",
       "      <th>BATHS</th>\n",
       "      <th>...</th>\n",
       "      <th>STATUS</th>\n",
       "      <th>NEXT OPEN HOUSE START TIME</th>\n",
       "      <th>NEXT OPEN HOUSE END TIME</th>\n",
       "      <th>URL</th>\n",
       "      <th>SOURCE</th>\n",
       "      <th>MLS#</th>\n",
       "      <th>FAVORITE</th>\n",
       "      <th>INTERESTED</th>\n",
       "      <th>LATITUDE</th>\n",
       "      <th>LONGITUDE</th>\n",
       "    </tr>\n",
       "  </thead>\n",
       "  <tbody>\n",
       "    <tr>\n",
       "      <th>625</th>\n",
       "      <td>PAST SALE</td>\n",
       "      <td>July-10-2024</td>\n",
       "      <td>Condo/Co-op</td>\n",
       "      <td>9244 W Atlantic Blvd #1217</td>\n",
       "      <td>Coral Springs</td>\n",
       "      <td>FL</td>\n",
       "      <td>33071.0</td>\n",
       "      <td>280.0</td>\n",
       "      <td>2.0</td>\n",
       "      <td>2.0</td>\n",
       "      <td>...</td>\n",
       "      <td>Sold</td>\n",
       "      <td>NaN</td>\n",
       "      <td>NaN</td>\n",
       "      <td>https://www.redfin.com/FL/Coral-Springs/9244-W...</td>\n",
       "      <td>MARMLS</td>\n",
       "      <td>A11592820</td>\n",
       "      <td>N</td>\n",
       "      <td>Y</td>\n",
       "      <td>26.237369</td>\n",
       "      <td>-80.248293</td>\n",
       "    </tr>\n",
       "    <tr>\n",
       "      <th>680</th>\n",
       "      <td>PAST SALE</td>\n",
       "      <td>July-30-2024</td>\n",
       "      <td>Condo/Co-op</td>\n",
       "      <td>4750 NW 22nd Ct #417</td>\n",
       "      <td>Lauderhill</td>\n",
       "      <td>FL</td>\n",
       "      <td>33313.0</td>\n",
       "      <td>50000.0</td>\n",
       "      <td>1.0</td>\n",
       "      <td>1.5</td>\n",
       "      <td>...</td>\n",
       "      <td>Sold</td>\n",
       "      <td>NaN</td>\n",
       "      <td>NaN</td>\n",
       "      <td>https://www.redfin.com/FL/Lauderhill/4750-NW-2...</td>\n",
       "      <td>Beaches MLS</td>\n",
       "      <td>F10400965</td>\n",
       "      <td>N</td>\n",
       "      <td>Y</td>\n",
       "      <td>26.154457</td>\n",
       "      <td>-80.213808</td>\n",
       "    </tr>\n",
       "    <tr>\n",
       "      <th>679</th>\n",
       "      <td>PAST SALE</td>\n",
       "      <td>July-19-2024</td>\n",
       "      <td>Condo/Co-op</td>\n",
       "      <td>1280 NW 43rd Ave #303</td>\n",
       "      <td>Lauderhill</td>\n",
       "      <td>FL</td>\n",
       "      <td>33313.0</td>\n",
       "      <td>62500.0</td>\n",
       "      <td>1.0</td>\n",
       "      <td>1.0</td>\n",
       "      <td>...</td>\n",
       "      <td>Sold</td>\n",
       "      <td>NaN</td>\n",
       "      <td>NaN</td>\n",
       "      <td>https://www.redfin.com/FL/Lauderhill/1280-NW-4...</td>\n",
       "      <td>Beaches MLS</td>\n",
       "      <td>F10400878</td>\n",
       "      <td>N</td>\n",
       "      <td>Y</td>\n",
       "      <td>26.142044</td>\n",
       "      <td>-80.206706</td>\n",
       "    </tr>\n",
       "    <tr>\n",
       "      <th>666</th>\n",
       "      <td>PAST SALE</td>\n",
       "      <td>July-22-2024</td>\n",
       "      <td>Condo/Co-op</td>\n",
       "      <td>3090 NW 46th Ave Unit 212C</td>\n",
       "      <td>Lauderdale Lakes</td>\n",
       "      <td>FL</td>\n",
       "      <td>33313.0</td>\n",
       "      <td>75000.0</td>\n",
       "      <td>1.0</td>\n",
       "      <td>1.5</td>\n",
       "      <td>...</td>\n",
       "      <td>Sold</td>\n",
       "      <td>NaN</td>\n",
       "      <td>NaN</td>\n",
       "      <td>https://www.redfin.com/FL/Lauderdale-Lakes/309...</td>\n",
       "      <td>Beaches MLS</td>\n",
       "      <td>F10417612</td>\n",
       "      <td>N</td>\n",
       "      <td>Y</td>\n",
       "      <td>26.163939</td>\n",
       "      <td>-80.209590</td>\n",
       "    </tr>\n",
       "    <tr>\n",
       "      <th>624</th>\n",
       "      <td>PAST SALE</td>\n",
       "      <td>July-30-2024</td>\n",
       "      <td>Condo/Co-op</td>\n",
       "      <td>10467 Sunrise Lakes Blvd #410</td>\n",
       "      <td>Sunrise</td>\n",
       "      <td>FL</td>\n",
       "      <td>33322.0</td>\n",
       "      <td>76000.0</td>\n",
       "      <td>2.0</td>\n",
       "      <td>1.5</td>\n",
       "      <td>...</td>\n",
       "      <td>Sold</td>\n",
       "      <td>NaN</td>\n",
       "      <td>NaN</td>\n",
       "      <td>https://www.redfin.com/FL/Sunrise/10467-Sunris...</td>\n",
       "      <td>MARMLS</td>\n",
       "      <td>A11598652</td>\n",
       "      <td>N</td>\n",
       "      <td>Y</td>\n",
       "      <td>26.162783</td>\n",
       "      <td>-80.288893</td>\n",
       "    </tr>\n",
       "    <tr>\n",
       "      <th>648</th>\n",
       "      <td>PAST SALE</td>\n",
       "      <td>July-26-2024</td>\n",
       "      <td>Condo/Co-op</td>\n",
       "      <td>2251 NW 41st Ave #402</td>\n",
       "      <td>Lauderhill</td>\n",
       "      <td>FL</td>\n",
       "      <td>33313.0</td>\n",
       "      <td>78000.0</td>\n",
       "      <td>1.0</td>\n",
       "      <td>1.0</td>\n",
       "      <td>...</td>\n",
       "      <td>Sold</td>\n",
       "      <td>NaN</td>\n",
       "      <td>NaN</td>\n",
       "      <td>https://www.redfin.com/FL/Lauderhill/2251-NW-4...</td>\n",
       "      <td>MARMLS</td>\n",
       "      <td>A11552431</td>\n",
       "      <td>N</td>\n",
       "      <td>Y</td>\n",
       "      <td>26.155303</td>\n",
       "      <td>-80.204460</td>\n",
       "    </tr>\n",
       "    <tr>\n",
       "      <th>638</th>\n",
       "      <td>PAST SALE</td>\n",
       "      <td>July-3-2024</td>\n",
       "      <td>Condo/Co-op</td>\n",
       "      <td>3051 Sunrise Lakes Dr #306</td>\n",
       "      <td>Sunrise</td>\n",
       "      <td>FL</td>\n",
       "      <td>33322.0</td>\n",
       "      <td>80000.0</td>\n",
       "      <td>1.0</td>\n",
       "      <td>1.0</td>\n",
       "      <td>...</td>\n",
       "      <td>Sold</td>\n",
       "      <td>NaN</td>\n",
       "      <td>NaN</td>\n",
       "      <td>https://www.redfin.com/FL/Sunrise/3051-Sunrise...</td>\n",
       "      <td>Beaches MLS</td>\n",
       "      <td>F10429240</td>\n",
       "      <td>N</td>\n",
       "      <td>Y</td>\n",
       "      <td>26.161845</td>\n",
       "      <td>-80.251381</td>\n",
       "    </tr>\n",
       "    <tr>\n",
       "      <th>657</th>\n",
       "      <td>PAST SALE</td>\n",
       "      <td>July-22-2024</td>\n",
       "      <td>Condo/Co-op</td>\n",
       "      <td>2711 NW 104th Ave #306</td>\n",
       "      <td>Sunrise</td>\n",
       "      <td>FL</td>\n",
       "      <td>33322.0</td>\n",
       "      <td>80000.0</td>\n",
       "      <td>1.0</td>\n",
       "      <td>1.0</td>\n",
       "      <td>...</td>\n",
       "      <td>Sold</td>\n",
       "      <td>NaN</td>\n",
       "      <td>NaN</td>\n",
       "      <td>https://www.redfin.com/FL/Sunrise/2711-NW-104t...</td>\n",
       "      <td>MARMLS</td>\n",
       "      <td>A11500306</td>\n",
       "      <td>N</td>\n",
       "      <td>Y</td>\n",
       "      <td>26.160120</td>\n",
       "      <td>-80.289295</td>\n",
       "    </tr>\n",
       "    <tr>\n",
       "      <th>633</th>\n",
       "      <td>PAST SALE</td>\n",
       "      <td>July-15-2024</td>\n",
       "      <td>Condo/Co-op</td>\n",
       "      <td>6010 S Falls Cir Dr #209</td>\n",
       "      <td>Lauderhill</td>\n",
       "      <td>FL</td>\n",
       "      <td>33319.0</td>\n",
       "      <td>80000.0</td>\n",
       "      <td>1.0</td>\n",
       "      <td>1.5</td>\n",
       "      <td>...</td>\n",
       "      <td>Sold</td>\n",
       "      <td>NaN</td>\n",
       "      <td>NaN</td>\n",
       "      <td>https://www.redfin.com/FL/Lauderhill/6010-S-Fa...</td>\n",
       "      <td>MARMLS</td>\n",
       "      <td>A11580987</td>\n",
       "      <td>N</td>\n",
       "      <td>Y</td>\n",
       "      <td>26.174425</td>\n",
       "      <td>-80.230495</td>\n",
       "    </tr>\n",
       "    <tr>\n",
       "      <th>628</th>\n",
       "      <td>PAST SALE</td>\n",
       "      <td>July-12-2024</td>\n",
       "      <td>Condo/Co-op</td>\n",
       "      <td>5300 Washington St Unit 126G</td>\n",
       "      <td>Hollywood</td>\n",
       "      <td>FL</td>\n",
       "      <td>33021.0</td>\n",
       "      <td>87000.0</td>\n",
       "      <td>1.0</td>\n",
       "      <td>1.5</td>\n",
       "      <td>...</td>\n",
       "      <td>Sold</td>\n",
       "      <td>NaN</td>\n",
       "      <td>NaN</td>\n",
       "      <td>https://www.redfin.com/FL/Hollywood/5300-Washi...</td>\n",
       "      <td>Beaches MLS</td>\n",
       "      <td>F10428456</td>\n",
       "      <td>N</td>\n",
       "      <td>Y</td>\n",
       "      <td>26.000708</td>\n",
       "      <td>-80.196096</td>\n",
       "    </tr>\n",
       "    <tr>\n",
       "      <th>622</th>\n",
       "      <td>PAST SALE</td>\n",
       "      <td>July-26-2024</td>\n",
       "      <td>Condo/Co-op</td>\n",
       "      <td>9621 Sunrise Lakes Blvd #208</td>\n",
       "      <td>Sunrise</td>\n",
       "      <td>FL</td>\n",
       "      <td>33322.0</td>\n",
       "      <td>87000.0</td>\n",
       "      <td>1.0</td>\n",
       "      <td>1.0</td>\n",
       "      <td>...</td>\n",
       "      <td>Sold</td>\n",
       "      <td>NaN</td>\n",
       "      <td>NaN</td>\n",
       "      <td>https://www.redfin.com/FL/Sunrise/9621-Sunrise...</td>\n",
       "      <td>MARMLS</td>\n",
       "      <td>A11606878</td>\n",
       "      <td>N</td>\n",
       "      <td>Y</td>\n",
       "      <td>26.163923</td>\n",
       "      <td>-80.276319</td>\n",
       "    </tr>\n",
       "    <tr>\n",
       "      <th>618</th>\n",
       "      <td>PAST SALE</td>\n",
       "      <td>July-12-2024</td>\n",
       "      <td>Condo/Co-op</td>\n",
       "      <td>2901 NW 47th Ter Unit 241A</td>\n",
       "      <td>Lauderdale Lakes</td>\n",
       "      <td>FL</td>\n",
       "      <td>33313.0</td>\n",
       "      <td>95000.0</td>\n",
       "      <td>2.0</td>\n",
       "      <td>2.0</td>\n",
       "      <td>...</td>\n",
       "      <td>Sold</td>\n",
       "      <td>NaN</td>\n",
       "      <td>NaN</td>\n",
       "      <td>https://www.redfin.com/FL/Lauderdale-Lakes/290...</td>\n",
       "      <td>MARMLS</td>\n",
       "      <td>A11579874</td>\n",
       "      <td>N</td>\n",
       "      <td>Y</td>\n",
       "      <td>26.163177</td>\n",
       "      <td>-80.212701</td>\n",
       "    </tr>\n",
       "    <tr>\n",
       "      <th>656</th>\n",
       "      <td>PAST SALE</td>\n",
       "      <td>July-19-2024</td>\n",
       "      <td>Condo/Co-op</td>\n",
       "      <td>39 Harwood B #39</td>\n",
       "      <td>Deerfield Beach</td>\n",
       "      <td>FL</td>\n",
       "      <td>33442.0</td>\n",
       "      <td>95000.0</td>\n",
       "      <td>1.0</td>\n",
       "      <td>1.0</td>\n",
       "      <td>...</td>\n",
       "      <td>Sold</td>\n",
       "      <td>NaN</td>\n",
       "      <td>NaN</td>\n",
       "      <td>https://www.redfin.com/FL/Deerfield-Beach/39-H...</td>\n",
       "      <td>Beaches MLS</td>\n",
       "      <td>F10421664</td>\n",
       "      <td>N</td>\n",
       "      <td>Y</td>\n",
       "      <td>26.307071</td>\n",
       "      <td>-80.135013</td>\n",
       "    </tr>\n",
       "    <tr>\n",
       "      <th>645</th>\n",
       "      <td>PAST SALE</td>\n",
       "      <td>July-5-2024</td>\n",
       "      <td>Condo/Co-op</td>\n",
       "      <td>8515 Sunrise Lakes Blvd #306</td>\n",
       "      <td>Sunrise</td>\n",
       "      <td>FL</td>\n",
       "      <td>33322.0</td>\n",
       "      <td>97500.0</td>\n",
       "      <td>1.0</td>\n",
       "      <td>1.0</td>\n",
       "      <td>...</td>\n",
       "      <td>Sold</td>\n",
       "      <td>NaN</td>\n",
       "      <td>NaN</td>\n",
       "      <td>https://www.redfin.com/FL/Sunrise/8515-Sunrise...</td>\n",
       "      <td>MARMLS</td>\n",
       "      <td>A11551641</td>\n",
       "      <td>N</td>\n",
       "      <td>Y</td>\n",
       "      <td>26.162038</td>\n",
       "      <td>-80.266254</td>\n",
       "    </tr>\n",
       "    <tr>\n",
       "      <th>631</th>\n",
       "      <td>PAST SALE</td>\n",
       "      <td>July-3-2024</td>\n",
       "      <td>Condo/Co-op</td>\n",
       "      <td>2860 Somerset Dr Unit 104K</td>\n",
       "      <td>Lauderdale Lakes</td>\n",
       "      <td>FL</td>\n",
       "      <td>33311.0</td>\n",
       "      <td>99900.0</td>\n",
       "      <td>2.0</td>\n",
       "      <td>2.0</td>\n",
       "      <td>...</td>\n",
       "      <td>Sold</td>\n",
       "      <td>NaN</td>\n",
       "      <td>NaN</td>\n",
       "      <td>https://www.redfin.com/FL/Lauderdale-Lakes/286...</td>\n",
       "      <td>Beaches MLS</td>\n",
       "      <td>F10436762</td>\n",
       "      <td>N</td>\n",
       "      <td>Y</td>\n",
       "      <td>26.161956</td>\n",
       "      <td>-80.189302</td>\n",
       "    </tr>\n",
       "    <tr>\n",
       "      <th>677</th>\n",
       "      <td>PAST SALE</td>\n",
       "      <td>July-10-2024</td>\n",
       "      <td>Condo/Co-op</td>\n",
       "      <td>3060 Holiday Springs Blvd #102</td>\n",
       "      <td>Margate</td>\n",
       "      <td>FL</td>\n",
       "      <td>33063.0</td>\n",
       "      <td>100000.0</td>\n",
       "      <td>1.0</td>\n",
       "      <td>1.5</td>\n",
       "      <td>...</td>\n",
       "      <td>Sold</td>\n",
       "      <td>NaN</td>\n",
       "      <td>NaN</td>\n",
       "      <td>https://www.redfin.com/FL/Margate/3060-Holiday...</td>\n",
       "      <td>Beaches MLS</td>\n",
       "      <td>F10404961</td>\n",
       "      <td>N</td>\n",
       "      <td>Y</td>\n",
       "      <td>26.261253</td>\n",
       "      <td>-80.233548</td>\n",
       "    </tr>\n",
       "    <tr>\n",
       "      <th>634</th>\n",
       "      <td>PAST SALE</td>\n",
       "      <td>July-22-2024</td>\n",
       "      <td>Condo/Co-op</td>\n",
       "      <td>2850 Somerset Dr Unit 116L</td>\n",
       "      <td>Lauderdale Lakes</td>\n",
       "      <td>FL</td>\n",
       "      <td>33311.0</td>\n",
       "      <td>100000.0</td>\n",
       "      <td>2.0</td>\n",
       "      <td>2.0</td>\n",
       "      <td>...</td>\n",
       "      <td>Sold</td>\n",
       "      <td>NaN</td>\n",
       "      <td>NaN</td>\n",
       "      <td>https://www.redfin.com/FL/Lauderdale-Lakes/285...</td>\n",
       "      <td>Beaches MLS</td>\n",
       "      <td>F10427396</td>\n",
       "      <td>N</td>\n",
       "      <td>Y</td>\n",
       "      <td>26.161250</td>\n",
       "      <td>-80.188686</td>\n",
       "    </tr>\n",
       "    <tr>\n",
       "      <th>664</th>\n",
       "      <td>PAST SALE</td>\n",
       "      <td>July-11-2024</td>\n",
       "      <td>Condo/Co-op</td>\n",
       "      <td>4750 NW 22nd Ct #217</td>\n",
       "      <td>Lauderhill</td>\n",
       "      <td>FL</td>\n",
       "      <td>33313.0</td>\n",
       "      <td>100000.0</td>\n",
       "      <td>1.0</td>\n",
       "      <td>1.5</td>\n",
       "      <td>...</td>\n",
       "      <td>Sold</td>\n",
       "      <td>NaN</td>\n",
       "      <td>NaN</td>\n",
       "      <td>https://www.redfin.com/FL/Lauderhill/4750-NW-2...</td>\n",
       "      <td>Beaches MLS</td>\n",
       "      <td>F10425310</td>\n",
       "      <td>N</td>\n",
       "      <td>Y</td>\n",
       "      <td>26.154457</td>\n",
       "      <td>-80.213808</td>\n",
       "    </tr>\n",
       "    <tr>\n",
       "      <th>623</th>\n",
       "      <td>PAST SALE</td>\n",
       "      <td>July-22-2024</td>\n",
       "      <td>Condo/Co-op</td>\n",
       "      <td>2811 Somerset Dr #306</td>\n",
       "      <td>Lauderdale Lakes</td>\n",
       "      <td>FL</td>\n",
       "      <td>33311.0</td>\n",
       "      <td>100000.0</td>\n",
       "      <td>1.0</td>\n",
       "      <td>1.0</td>\n",
       "      <td>...</td>\n",
       "      <td>Sold</td>\n",
       "      <td>NaN</td>\n",
       "      <td>NaN</td>\n",
       "      <td>https://www.redfin.com/FL/Lauderdale-Lakes/281...</td>\n",
       "      <td>Beaches MLS</td>\n",
       "      <td>F10445091</td>\n",
       "      <td>N</td>\n",
       "      <td>Y</td>\n",
       "      <td>26.160301</td>\n",
       "      <td>-80.190501</td>\n",
       "    </tr>\n",
       "    <tr>\n",
       "      <th>613</th>\n",
       "      <td>PAST SALE</td>\n",
       "      <td>July-18-2024</td>\n",
       "      <td>Condo/Co-op</td>\n",
       "      <td>1845 Pembroke Rd Unit 4-26</td>\n",
       "      <td>Hollywood</td>\n",
       "      <td>FL</td>\n",
       "      <td>33020.0</td>\n",
       "      <td>100000.0</td>\n",
       "      <td>1.0</td>\n",
       "      <td>1.0</td>\n",
       "      <td>...</td>\n",
       "      <td>Sold</td>\n",
       "      <td>NaN</td>\n",
       "      <td>NaN</td>\n",
       "      <td>https://www.redfin.com/FL/Hollywood/1845-Pembr...</td>\n",
       "      <td>MARMLS</td>\n",
       "      <td>A11605506</td>\n",
       "      <td>N</td>\n",
       "      <td>Y</td>\n",
       "      <td>25.996959</td>\n",
       "      <td>-80.144075</td>\n",
       "    </tr>\n",
       "  </tbody>\n",
       "</table>\n",
       "<p>20 rows × 27 columns</p>\n",
       "</div>"
      ],
      "text/plain": [
       "     SALE TYPE     SOLD DATE PROPERTY TYPE                         ADDRESS  \\\n",
       "625  PAST SALE  July-10-2024   Condo/Co-op      9244 W Atlantic Blvd #1217   \n",
       "680  PAST SALE  July-30-2024   Condo/Co-op            4750 NW 22nd Ct #417   \n",
       "679  PAST SALE  July-19-2024   Condo/Co-op           1280 NW 43rd Ave #303   \n",
       "666  PAST SALE  July-22-2024   Condo/Co-op      3090 NW 46th Ave Unit 212C   \n",
       "624  PAST SALE  July-30-2024   Condo/Co-op   10467 Sunrise Lakes Blvd #410   \n",
       "648  PAST SALE  July-26-2024   Condo/Co-op           2251 NW 41st Ave #402   \n",
       "638  PAST SALE   July-3-2024   Condo/Co-op      3051 Sunrise Lakes Dr #306   \n",
       "657  PAST SALE  July-22-2024   Condo/Co-op          2711 NW 104th Ave #306   \n",
       "633  PAST SALE  July-15-2024   Condo/Co-op        6010 S Falls Cir Dr #209   \n",
       "628  PAST SALE  July-12-2024   Condo/Co-op    5300 Washington St Unit 126G   \n",
       "622  PAST SALE  July-26-2024   Condo/Co-op    9621 Sunrise Lakes Blvd #208   \n",
       "618  PAST SALE  July-12-2024   Condo/Co-op      2901 NW 47th Ter Unit 241A   \n",
       "656  PAST SALE  July-19-2024   Condo/Co-op                39 Harwood B #39   \n",
       "645  PAST SALE   July-5-2024   Condo/Co-op    8515 Sunrise Lakes Blvd #306   \n",
       "631  PAST SALE   July-3-2024   Condo/Co-op      2860 Somerset Dr Unit 104K   \n",
       "677  PAST SALE  July-10-2024   Condo/Co-op  3060 Holiday Springs Blvd #102   \n",
       "634  PAST SALE  July-22-2024   Condo/Co-op      2850 Somerset Dr Unit 116L   \n",
       "664  PAST SALE  July-11-2024   Condo/Co-op            4750 NW 22nd Ct #217   \n",
       "623  PAST SALE  July-22-2024   Condo/Co-op           2811 Somerset Dr #306   \n",
       "613  PAST SALE  July-18-2024   Condo/Co-op      1845 Pembroke Rd Unit 4-26   \n",
       "\n",
       "                 CITY STATE OR PROVINCE ZIP OR POSTAL CODE     PRICE  BEDS  \\\n",
       "625     Coral Springs                FL            33071.0     280.0   2.0   \n",
       "680        Lauderhill                FL            33313.0   50000.0   1.0   \n",
       "679        Lauderhill                FL            33313.0   62500.0   1.0   \n",
       "666  Lauderdale Lakes                FL            33313.0   75000.0   1.0   \n",
       "624           Sunrise                FL            33322.0   76000.0   2.0   \n",
       "648        Lauderhill                FL            33313.0   78000.0   1.0   \n",
       "638           Sunrise                FL            33322.0   80000.0   1.0   \n",
       "657           Sunrise                FL            33322.0   80000.0   1.0   \n",
       "633        Lauderhill                FL            33319.0   80000.0   1.0   \n",
       "628         Hollywood                FL            33021.0   87000.0   1.0   \n",
       "622           Sunrise                FL            33322.0   87000.0   1.0   \n",
       "618  Lauderdale Lakes                FL            33313.0   95000.0   2.0   \n",
       "656   Deerfield Beach                FL            33442.0   95000.0   1.0   \n",
       "645           Sunrise                FL            33322.0   97500.0   1.0   \n",
       "631  Lauderdale Lakes                FL            33311.0   99900.0   2.0   \n",
       "677           Margate                FL            33063.0  100000.0   1.0   \n",
       "634  Lauderdale Lakes                FL            33311.0  100000.0   2.0   \n",
       "664        Lauderhill                FL            33313.0  100000.0   1.0   \n",
       "623  Lauderdale Lakes                FL            33311.0  100000.0   1.0   \n",
       "613         Hollywood                FL            33020.0  100000.0   1.0   \n",
       "\n",
       "     BATHS  ... STATUS  NEXT OPEN HOUSE START TIME  NEXT OPEN HOUSE END TIME  \\\n",
       "625    2.0  ...   Sold                         NaN                       NaN   \n",
       "680    1.5  ...   Sold                         NaN                       NaN   \n",
       "679    1.0  ...   Sold                         NaN                       NaN   \n",
       "666    1.5  ...   Sold                         NaN                       NaN   \n",
       "624    1.5  ...   Sold                         NaN                       NaN   \n",
       "648    1.0  ...   Sold                         NaN                       NaN   \n",
       "638    1.0  ...   Sold                         NaN                       NaN   \n",
       "657    1.0  ...   Sold                         NaN                       NaN   \n",
       "633    1.5  ...   Sold                         NaN                       NaN   \n",
       "628    1.5  ...   Sold                         NaN                       NaN   \n",
       "622    1.0  ...   Sold                         NaN                       NaN   \n",
       "618    2.0  ...   Sold                         NaN                       NaN   \n",
       "656    1.0  ...   Sold                         NaN                       NaN   \n",
       "645    1.0  ...   Sold                         NaN                       NaN   \n",
       "631    2.0  ...   Sold                         NaN                       NaN   \n",
       "677    1.5  ...   Sold                         NaN                       NaN   \n",
       "634    2.0  ...   Sold                         NaN                       NaN   \n",
       "664    1.5  ...   Sold                         NaN                       NaN   \n",
       "623    1.0  ...   Sold                         NaN                       NaN   \n",
       "613    1.0  ...   Sold                         NaN                       NaN   \n",
       "\n",
       "                                                   URL       SOURCE  \\\n",
       "625  https://www.redfin.com/FL/Coral-Springs/9244-W...       MARMLS   \n",
       "680  https://www.redfin.com/FL/Lauderhill/4750-NW-2...  Beaches MLS   \n",
       "679  https://www.redfin.com/FL/Lauderhill/1280-NW-4...  Beaches MLS   \n",
       "666  https://www.redfin.com/FL/Lauderdale-Lakes/309...  Beaches MLS   \n",
       "624  https://www.redfin.com/FL/Sunrise/10467-Sunris...       MARMLS   \n",
       "648  https://www.redfin.com/FL/Lauderhill/2251-NW-4...       MARMLS   \n",
       "638  https://www.redfin.com/FL/Sunrise/3051-Sunrise...  Beaches MLS   \n",
       "657  https://www.redfin.com/FL/Sunrise/2711-NW-104t...       MARMLS   \n",
       "633  https://www.redfin.com/FL/Lauderhill/6010-S-Fa...       MARMLS   \n",
       "628  https://www.redfin.com/FL/Hollywood/5300-Washi...  Beaches MLS   \n",
       "622  https://www.redfin.com/FL/Sunrise/9621-Sunrise...       MARMLS   \n",
       "618  https://www.redfin.com/FL/Lauderdale-Lakes/290...       MARMLS   \n",
       "656  https://www.redfin.com/FL/Deerfield-Beach/39-H...  Beaches MLS   \n",
       "645  https://www.redfin.com/FL/Sunrise/8515-Sunrise...       MARMLS   \n",
       "631  https://www.redfin.com/FL/Lauderdale-Lakes/286...  Beaches MLS   \n",
       "677  https://www.redfin.com/FL/Margate/3060-Holiday...  Beaches MLS   \n",
       "634  https://www.redfin.com/FL/Lauderdale-Lakes/285...  Beaches MLS   \n",
       "664  https://www.redfin.com/FL/Lauderhill/4750-NW-2...  Beaches MLS   \n",
       "623  https://www.redfin.com/FL/Lauderdale-Lakes/281...  Beaches MLS   \n",
       "613  https://www.redfin.com/FL/Hollywood/1845-Pembr...       MARMLS   \n",
       "\n",
       "          MLS#  FAVORITE INTERESTED   LATITUDE  LONGITUDE  \n",
       "625  A11592820         N          Y  26.237369 -80.248293  \n",
       "680  F10400965         N          Y  26.154457 -80.213808  \n",
       "679  F10400878         N          Y  26.142044 -80.206706  \n",
       "666  F10417612         N          Y  26.163939 -80.209590  \n",
       "624  A11598652         N          Y  26.162783 -80.288893  \n",
       "648  A11552431         N          Y  26.155303 -80.204460  \n",
       "638  F10429240         N          Y  26.161845 -80.251381  \n",
       "657  A11500306         N          Y  26.160120 -80.289295  \n",
       "633  A11580987         N          Y  26.174425 -80.230495  \n",
       "628  F10428456         N          Y  26.000708 -80.196096  \n",
       "622  A11606878         N          Y  26.163923 -80.276319  \n",
       "618  A11579874         N          Y  26.163177 -80.212701  \n",
       "656  F10421664         N          Y  26.307071 -80.135013  \n",
       "645  A11551641         N          Y  26.162038 -80.266254  \n",
       "631  F10436762         N          Y  26.161956 -80.189302  \n",
       "677  F10404961         N          Y  26.261253 -80.233548  \n",
       "634  F10427396         N          Y  26.161250 -80.188686  \n",
       "664  F10425310         N          Y  26.154457 -80.213808  \n",
       "623  F10445091         N          Y  26.160301 -80.190501  \n",
       "613  A11605506         N          Y  25.996959 -80.144075  \n",
       "\n",
       "[20 rows x 27 columns]"
      ]
     },
     "execution_count": 18,
     "metadata": {},
     "output_type": "execute_result"
    }
   ],
   "source": [
    "df_filtered.sort_values(by='PRICE',ascending=True).head(20)"
   ]
  },
  {
   "cell_type": "code",
   "execution_count": 21,
   "id": "e6256bce",
   "metadata": {},
   "outputs": [
    {
     "name": "stdout",
     "output_type": "stream",
     "text": [
      "https://www.redfin.com/FL/Lauderhill/1280-NW-43rd-Ave-33313/unit-303/home/41631144\n"
     ]
    }
   ],
   "source": [
    "print(df_filtered['URL'].iloc[679])"
   ]
  },
  {
   "cell_type": "code",
   "execution_count": 22,
   "id": "fe440217",
   "metadata": {},
   "outputs": [],
   "source": [
    "# Correct the prices, if needed\n",
    "df_filtered.at[625,'PRICE']=(280_000)\n",
    "\n",
    "# Correct the psf, if needed\n",
    "df_filtered.at[625,'$/SQUARE FEET']=(280_000/986)"
   ]
  },
  {
   "cell_type": "code",
   "execution_count": 61,
   "id": "e3877a57",
   "metadata": {},
   "outputs": [],
   "source": [
    "### If needed, drop the row with the lowest price\n",
    "# min_value_index = df_filtered['PRICE'].idxmin()\n",
    "# df_filtered = df_filtered.drop(min_value_index)"
   ]
  },
  {
   "cell_type": "code",
   "execution_count": 24,
   "id": "7e529e83",
   "metadata": {},
   "outputs": [],
   "source": [
    "# print(df_filtered['URL'].iloc[528])"
   ]
  },
  {
   "cell_type": "code",
   "execution_count": 23,
   "id": "42d775ef",
   "metadata": {},
   "outputs": [
    {
     "data": {
      "text/html": [
       "<div>\n",
       "<style scoped>\n",
       "    .dataframe tbody tr th:only-of-type {\n",
       "        vertical-align: middle;\n",
       "    }\n",
       "\n",
       "    .dataframe tbody tr th {\n",
       "        vertical-align: top;\n",
       "    }\n",
       "\n",
       "    .dataframe thead th {\n",
       "        text-align: right;\n",
       "    }\n",
       "</style>\n",
       "<table border=\"1\" class=\"dataframe\">\n",
       "  <thead>\n",
       "    <tr style=\"text-align: right;\">\n",
       "      <th></th>\n",
       "      <th>PRICE</th>\n",
       "      <th>ADDRESS</th>\n",
       "      <th>CITY</th>\n",
       "      <th>$/SQUARE FEET</th>\n",
       "    </tr>\n",
       "  </thead>\n",
       "  <tbody>\n",
       "    <tr>\n",
       "      <th>680</th>\n",
       "      <td>50000.0</td>\n",
       "      <td>4750 NW 22nd Ct #417</td>\n",
       "      <td>Lauderhill</td>\n",
       "      <td>54.0</td>\n",
       "    </tr>\n",
       "    <tr>\n",
       "      <th>636</th>\n",
       "      <td>110000.0</td>\n",
       "      <td>1796 NW 55th Ave #201</td>\n",
       "      <td>Lauderhill</td>\n",
       "      <td>78.0</td>\n",
       "    </tr>\n",
       "    <tr>\n",
       "      <th>661</th>\n",
       "      <td>115000.0</td>\n",
       "      <td>3521 Environ Blvd #505</td>\n",
       "      <td>Lauderhill</td>\n",
       "      <td>83.0</td>\n",
       "    </tr>\n",
       "    <tr>\n",
       "      <th>679</th>\n",
       "      <td>62500.0</td>\n",
       "      <td>1280 NW 43rd Ave #303</td>\n",
       "      <td>Lauderhill</td>\n",
       "      <td>86.0</td>\n",
       "    </tr>\n",
       "    <tr>\n",
       "      <th>671</th>\n",
       "      <td>122000.0</td>\n",
       "      <td>6260 S Falls Cir Dr #404</td>\n",
       "      <td>Lauderhill</td>\n",
       "      <td>92.0</td>\n",
       "    </tr>\n",
       "    <tr>\n",
       "      <th>652</th>\n",
       "      <td>105000.0</td>\n",
       "      <td>4602 Martinique Way Unit A1</td>\n",
       "      <td>Coconut Creek</td>\n",
       "      <td>94.0</td>\n",
       "    </tr>\n",
       "    <tr>\n",
       "      <th>651</th>\n",
       "      <td>105000.0</td>\n",
       "      <td>3571 Inverrary Dr #208</td>\n",
       "      <td>Lauderhill</td>\n",
       "      <td>98.0</td>\n",
       "    </tr>\n",
       "    <tr>\n",
       "      <th>660</th>\n",
       "      <td>105000.0</td>\n",
       "      <td>3501 Inverrary #207</td>\n",
       "      <td>Lauderhill</td>\n",
       "      <td>98.0</td>\n",
       "    </tr>\n",
       "    <tr>\n",
       "      <th>666</th>\n",
       "      <td>75000.0</td>\n",
       "      <td>3090 NW 46th Ave Unit 212C</td>\n",
       "      <td>Lauderdale Lakes</td>\n",
       "      <td>98.0</td>\n",
       "    </tr>\n",
       "    <tr>\n",
       "      <th>634</th>\n",
       "      <td>100000.0</td>\n",
       "      <td>2850 Somerset Dr Unit 116L</td>\n",
       "      <td>Lauderdale Lakes</td>\n",
       "      <td>99.0</td>\n",
       "    </tr>\n",
       "    <tr>\n",
       "      <th>631</th>\n",
       "      <td>99900.0</td>\n",
       "      <td>2860 Somerset Dr Unit 104K</td>\n",
       "      <td>Lauderdale Lakes</td>\n",
       "      <td>99.0</td>\n",
       "    </tr>\n",
       "    <tr>\n",
       "      <th>618</th>\n",
       "      <td>95000.0</td>\n",
       "      <td>2901 NW 47th Ter Unit 241A</td>\n",
       "      <td>Lauderdale Lakes</td>\n",
       "      <td>103.0</td>\n",
       "    </tr>\n",
       "    <tr>\n",
       "      <th>648</th>\n",
       "      <td>78000.0</td>\n",
       "      <td>2251 NW 41st Ave #402</td>\n",
       "      <td>Lauderhill</td>\n",
       "      <td>103.0</td>\n",
       "    </tr>\n",
       "    <tr>\n",
       "      <th>633</th>\n",
       "      <td>80000.0</td>\n",
       "      <td>6010 S Falls Cir Dr #209</td>\n",
       "      <td>Lauderhill</td>\n",
       "      <td>106.0</td>\n",
       "    </tr>\n",
       "    <tr>\n",
       "      <th>664</th>\n",
       "      <td>100000.0</td>\n",
       "      <td>4750 NW 22nd Ct #217</td>\n",
       "      <td>Lauderhill</td>\n",
       "      <td>108.0</td>\n",
       "    </tr>\n",
       "    <tr>\n",
       "      <th>667</th>\n",
       "      <td>110000.0</td>\n",
       "      <td>7490 NW 1st St #208</td>\n",
       "      <td>Margate</td>\n",
       "      <td>111.0</td>\n",
       "    </tr>\n",
       "    <tr>\n",
       "      <th>715</th>\n",
       "      <td>130000.0</td>\n",
       "      <td>4401 Martinique Ct Unit E2</td>\n",
       "      <td>Coconut Creek</td>\n",
       "      <td>112.0</td>\n",
       "    </tr>\n",
       "    <tr>\n",
       "      <th>672</th>\n",
       "      <td>105000.0</td>\n",
       "      <td>1025 Country Club Dr #103</td>\n",
       "      <td>Margate</td>\n",
       "      <td>114.0</td>\n",
       "    </tr>\n",
       "    <tr>\n",
       "      <th>640</th>\n",
       "      <td>125000.0</td>\n",
       "      <td>6770 Royal Palm Blvd Unit 301L</td>\n",
       "      <td>Margate</td>\n",
       "      <td>114.0</td>\n",
       "    </tr>\n",
       "    <tr>\n",
       "      <th>617</th>\n",
       "      <td>110000.0</td>\n",
       "      <td>3210 Holiday Springs Blvd #112</td>\n",
       "      <td>Pompano Beach</td>\n",
       "      <td>115.0</td>\n",
       "    </tr>\n",
       "  </tbody>\n",
       "</table>\n",
       "</div>"
      ],
      "text/plain": [
       "        PRICE                         ADDRESS              CITY  $/SQUARE FEET\n",
       "680   50000.0            4750 NW 22nd Ct #417        Lauderhill           54.0\n",
       "636  110000.0           1796 NW 55th Ave #201        Lauderhill           78.0\n",
       "661  115000.0          3521 Environ Blvd #505        Lauderhill           83.0\n",
       "679   62500.0           1280 NW 43rd Ave #303        Lauderhill           86.0\n",
       "671  122000.0        6260 S Falls Cir Dr #404        Lauderhill           92.0\n",
       "652  105000.0     4602 Martinique Way Unit A1     Coconut Creek           94.0\n",
       "651  105000.0          3571 Inverrary Dr #208        Lauderhill           98.0\n",
       "660  105000.0             3501 Inverrary #207        Lauderhill           98.0\n",
       "666   75000.0      3090 NW 46th Ave Unit 212C  Lauderdale Lakes           98.0\n",
       "634  100000.0      2850 Somerset Dr Unit 116L  Lauderdale Lakes           99.0\n",
       "631   99900.0      2860 Somerset Dr Unit 104K  Lauderdale Lakes           99.0\n",
       "618   95000.0      2901 NW 47th Ter Unit 241A  Lauderdale Lakes          103.0\n",
       "648   78000.0           2251 NW 41st Ave #402        Lauderhill          103.0\n",
       "633   80000.0        6010 S Falls Cir Dr #209        Lauderhill          106.0\n",
       "664  100000.0            4750 NW 22nd Ct #217        Lauderhill          108.0\n",
       "667  110000.0             7490 NW 1st St #208           Margate          111.0\n",
       "715  130000.0      4401 Martinique Ct Unit E2     Coconut Creek          112.0\n",
       "672  105000.0       1025 Country Club Dr #103           Margate          114.0\n",
       "640  125000.0  6770 Royal Palm Blvd Unit 301L           Margate          114.0\n",
       "617  110000.0  3210 Holiday Springs Blvd #112     Pompano Beach          115.0"
      ]
     },
     "execution_count": 23,
     "metadata": {},
     "output_type": "execute_result"
    }
   ],
   "source": [
    "# Find problem psf by searching for low values\n",
    "df_filtered.sort_values(by='$/SQUARE FEET',ascending=True).head(20)[['PRICE','ADDRESS','CITY','$/SQUARE FEET']]"
   ]
  },
  {
   "cell_type": "code",
   "execution_count": 63,
   "id": "6895cf71",
   "metadata": {},
   "outputs": [],
   "source": [
    "# # Drop sales that aren't condos but labeled as such\n",
    "# df_filtered = df_filtered.drop(1320)"
   ]
  },
  {
   "cell_type": "markdown",
   "id": "103ad9df",
   "metadata": {},
   "source": [
    "## Make Maps"
   ]
  },
  {
   "cell_type": "code",
   "execution_count": 24,
   "id": "42ad9d63",
   "metadata": {},
   "outputs": [],
   "source": [
    "### Create a price column formatted as currency ###\n",
    "df_filtered['PRICE_AS_CURRENCY'] = df_filtered['PRICE'].apply(lambda x: \"${:,.0f}\".format(x))\n",
    "### Set formatting for Beds, Baths ###\n",
    "df_filtered['YEAR BUILT DISPLAY'] = df_filtered['YEAR BUILT'].apply(lambda x: '{:.0f}'.format(x))\n",
    "df_filtered['PRICE_SQUARE_FEET_AS_CURRENCY'] = df_filtered['$/SQUARE FEET'].apply(lambda x: '${:,.0f}'.format(x))"
   ]
  },
  {
   "cell_type": "code",
   "execution_count": 25,
   "id": "f42ba6b5",
   "metadata": {},
   "outputs": [],
   "source": [
    "df_filtered = df_filtered.sort_values(by=['PRICE'], ascending=False)\n",
    "### Insert different colors for top 10 sales vs. the rest ###\n",
    "df_filtered['COLOR'] = ''\n",
    "### Create RANK column ###\n",
    "df_filtered['RANK'] = 0\n",
    "### Insert RANK values ###\n",
    "df_filtered['RANK'] = range(1, len(df_filtered) + 1)\n",
    "# use numpy to assign values to the 'COLOR' column\n",
    "df_filtered['COLOR'] = np.where(df_filtered['RANK'] <= 10, 'orange', 'blue')"
   ]
  },
  {
   "cell_type": "markdown",
   "id": "99380454",
   "metadata": {},
   "source": [
    "## HTML Popup Formatter"
   ]
  },
  {
   "cell_type": "code",
   "execution_count": 26,
   "id": "6ffa151c",
   "metadata": {},
   "outputs": [],
   "source": [
    "### Define list of columns to drop from DF ###\n",
    "columns_drop = ['SALE TYPE','PROPERTY TYPE','STATE OR PROVINCE','ZIP OR POSTAL CODE','HOA/MONTH','STATUS','NEXT OPEN HOUSE START TIME','NEXT OPEN HOUSE END TIME','SOURCE','MLS#','FAVORITE','INTERESTED','SQUARE FEET','LOT SIZE']"
   ]
  },
  {
   "cell_type": "code",
   "execution_count": 27,
   "id": "b214f9e8",
   "metadata": {},
   "outputs": [],
   "source": [
    "### Drop the columns ###\n",
    "df_filtered = df_filtered.drop(columns=columns_drop)"
   ]
  },
  {
   "cell_type": "code",
   "execution_count": 28,
   "id": "d12c2830",
   "metadata": {},
   "outputs": [],
   "source": [
    "def popup_html(row):\n",
    "    Price = row['PRICE_AS_CURRENCY']\n",
    "    Address = row['ADDRESS']\n",
    "    City = row['CITY']\n",
    "    sold_date = row['SOLD DATE']\n",
    "    beds = row['BEDS']\n",
    "    baths = row['BATHS']\n",
    "    psf = row['PRICE_SQUARE_FEET_AS_CURRENCY']\n",
    "    year_built = row['YEAR BUILT DISPLAY']\n",
    "    rank = row['RANK']\n",
    "    \n",
    "    html = '''<!DOCTYPE html>\n",
    "    <html>\n",
    "    <strong>Price: </strong>{}'''.format(Price) + '''<br>\n",
    "    <strong>Address: </strong>{}'''.format(Address) + '''<br>\n",
    "    <strong>City: </strong>{}'''.format(City) + '''<br>\n",
    "    <strong>Sold: </strong>{}'''.format(sold_date) + '''<br>\n",
    "    <strong>Beds: </strong>{}'''.format(beds) + '''<br>\n",
    "    <strong>Baths: </strong>{}'''.format(baths) + '''<br>\n",
    "    <strong>Price per sf: </strong>{}'''.format(psf) + '''<br>\n",
    "    <strong>Year Built: </strong>{}'''.format(year_built) + '''<br>\n",
    "    <strong>Price Rank: </strong>{}'''.format(rank) + '''\n",
    "    </html>\n",
    "    '''\n",
    "    return html"
   ]
  },
  {
   "cell_type": "code",
   "execution_count": 29,
   "id": "b7fe13d2",
   "metadata": {},
   "outputs": [
    {
     "data": {
      "text/plain": [
       "<folium.map.LayerControl at 0x7fed30198220>"
      ]
     },
     "execution_count": 29,
     "metadata": {},
     "output_type": "execute_result"
    }
   ],
   "source": [
    "### Create map container ###\n",
    "m = folium.Map(location=df_filtered[[\"LATITUDE\", \"LONGITUDE\"]].mean().to_list(),zoom_start=10,tiles=None)\n",
    "\n",
    "### Create title ###\n",
    "title_html = '''\n",
    "              <h3 align=\"center\" style=\"font-size:16px\"><b>{}</b></h3>\n",
    "             '''.format(f\"{previous_month_name} 2024 Condo Sales\")\n",
    "\n",
    "m.get_root().html.add_child(folium.Element(title_html))\n",
    "\n",
    "# Create two FeatureGroups for different color pins\n",
    "fg_blue = folium.FeatureGroup(name='All other sales')\n",
    "fg_orange = folium.FeatureGroup(name='Top 10 Sales')\n",
    "\n",
    "folium.GeoJson(gdf,tooltip=f'{county_name}',name=f'{county_name}').add_to(m)\n",
    "\n",
    "for index, row in df_filtered.iterrows():\n",
    "    # Add the markers to the appropriate FeatureGroup based on the color\n",
    "    if row['COLOR'] == 'blue':\n",
    "        marker = folium.Marker(\n",
    "            location=[row['LATITUDE'], row['LONGITUDE']],\n",
    "            radius=5,\n",
    "            fill=True,\n",
    "            icon=folium.Icon(color=row['COLOR']),\n",
    "            popup=folium.Popup(popup_html(row), max_width=400))\n",
    "        marker.add_to(fg_blue)\n",
    "    else:\n",
    "        marker = folium.Marker(\n",
    "            location=[row['LATITUDE'], row['LONGITUDE']],\n",
    "            radius=5,\n",
    "            fill=True,\n",
    "            icon=folium.Icon(color=row['COLOR']),\n",
    "            popup=folium.Popup(popup_html(row), max_width=400))\n",
    "        marker.add_to(fg_orange)\n",
    "\n",
    "# Add the FeatureGroups to the map\n",
    "fg_orange.add_to(m)\n",
    "fg_blue.add_to(m)\n",
    "\n",
    "folium.TileLayer('OpenStreetMap',control=False).add_to(m)\n",
    "\n",
    "# Add LayerControl to the map\n",
    "folium.map.LayerControl(collapsed=False).add_to(m)\n",
    "\n",
    "# Display map\n",
    "# m"
   ]
  },
  {
   "cell_type": "code",
   "execution_count": 30,
   "id": "a704af7f",
   "metadata": {},
   "outputs": [],
   "source": [
    "m.save('index.html')"
   ]
  },
  {
   "cell_type": "markdown",
   "id": "81b7dc98",
   "metadata": {},
   "source": [
    "## Summary Info"
   ]
  },
  {
   "cell_type": "code",
   "execution_count": 31,
   "id": "6910bd5b",
   "metadata": {},
   "outputs": [],
   "source": [
    "BR = '\\n'\n",
    "\n",
    "ME = '\\033[1m' + 'Most Expensive' + '\\033[0m'\n",
    "LE = '\\033[1m' + 'Least Expensive' + '\\033[0m'\n",
    "\n",
    "MAX_PSF = '\\033[1m' + 'Highest Price Per Square Foot' + '\\033[0m'\n",
    "MIN_PSF = '\\033[1m' + 'Lowest Price Per Square Foot' + '\\033[0m'\n",
    "\n",
    "Newest = '\\033[1m' + 'Newest' + '\\033[0m'\n",
    "Oldest = '\\033[1m' + 'Oldest' + '\\033[0m'"
   ]
  },
  {
   "cell_type": "code",
   "execution_count": 32,
   "id": "9d2c1b97",
   "metadata": {},
   "outputs": [
    {
     "data": {
      "text/plain": [
       "Index(['SOLD DATE', 'ADDRESS', 'CITY', 'PRICE', 'BEDS', 'BATHS', 'LOCATION',\n",
       "       'YEAR BUILT', 'DAYS ON MARKET', '$/SQUARE FEET', 'URL', 'LATITUDE',\n",
       "       'LONGITUDE', 'PRICE_AS_CURRENCY', 'YEAR BUILT DISPLAY',\n",
       "       'PRICE_SQUARE_FEET_AS_CURRENCY', 'COLOR', 'RANK'],\n",
       "      dtype='object')"
      ]
     },
     "execution_count": 32,
     "metadata": {},
     "output_type": "execute_result"
    }
   ],
   "source": [
    "df_filtered.columns"
   ]
  },
  {
   "cell_type": "code",
   "execution_count": 33,
   "id": "81280824",
   "metadata": {},
   "outputs": [],
   "source": [
    "df_filtered['FULL_ADDRESS'] = df_filtered['ADDRESS'] + ' ' + df_filtered['CITY']"
   ]
  },
  {
   "cell_type": "code",
   "execution_count": 34,
   "id": "4677d727",
   "metadata": {},
   "outputs": [
    {
     "name": "stdout",
     "output_type": "stream",
     "text": [
      "https://www.redfin.com/FL/Pompano-Beach/820-N-Ocean-Blvd-33062/unit-1/home/41531090\n"
     ]
    }
   ],
   "source": [
    "print(df_filtered.loc[df_filtered['YEAR BUILT'].idxmin()]['URL'])"
   ]
  },
  {
   "cell_type": "code",
   "execution_count": 35,
   "id": "39ff9917",
   "metadata": {},
   "outputs": [
    {
     "name": "stdout",
     "output_type": "stream",
     "text": [
      "\u001b[1mMost Expensive\u001b[0m\n",
      "Four Seasons, 525 N Ft Lauderdale Beach Blvd #2001 Fort Lauderdale | Price $8,200,000 | $2,130 psf | Year built: 2022\n",
      "\u001b[1mLeast Expensive\u001b[0m\n",
      "Castle Gardens, 4750 NW 22nd Ct #417 Lauderhill | Price $50,000 | $54 psf | Year built: 1973\n",
      "\u001b[1mHighest Price Per Square Foot\u001b[0m\n",
      "Four Seasons, 525 N Ft Lauderdale Beach Blvd #2001 Fort Lauderdale | Price $8,200,000 | $2,130 psf | Year built: 2022\n",
      "\u001b[1mLowest Price Per Square Foot\u001b[0m\n",
      "Castle Gardens, 4750 NW 22nd Ct #417 Lauderhill | Price $50,000 | $54 psf | Year built: 1973\n",
      "\u001b[1mNewest\u001b[0m\n",
      "Four Seasons, 525 N Ft Lauderdale Beach Blvd #2001 Fort Lauderdale | Price $8,200,000 | $2,130 psf | Year built: 2022\n",
      "\u001b[1mOldest\u001b[0m\n",
      "Golden Shores Condo, 820 N Ocean Blvd #1 Pompano Beach | Price $335,000 | $952 psf | Year built: 1951\n"
     ]
    }
   ],
   "source": [
    "print(f\"{ME}{BR}{df_filtered.loc[df_filtered['PRICE'].idxmax()]['LOCATION']}, {df_filtered.loc[df_filtered['PRICE'].idxmax()]['FULL_ADDRESS']} | Price ${df_filtered.loc[df_filtered['PRICE'].idxmax()]['PRICE']:,.0f} | ${df_filtered.loc[df_filtered['PRICE'].idxmax()]['$/SQUARE FEET']:,.0f} psf | Year built: {df_filtered.loc[df_filtered['PRICE'].idxmax()]['YEAR BUILT']:.0f}\")\n",
    "print(f\"{LE}{BR}{df_filtered.loc[df_filtered['PRICE'].idxmin()]['LOCATION']}, {df_filtered.loc[df_filtered['PRICE'].idxmin()]['FULL_ADDRESS']} | Price ${df_filtered.loc[df_filtered['PRICE'].idxmin()]['PRICE']:,.0f} | ${df_filtered.loc[df_filtered['PRICE'].idxmin()]['$/SQUARE FEET']:,.0f} psf | Year built: {df_filtered.loc[df_filtered['PRICE'].idxmin()]['YEAR BUILT']:.0f}\")\n",
    "\n",
    "print(f\"{MAX_PSF}{BR}{df_filtered.loc[df_filtered['$/SQUARE FEET'].idxmax()]['LOCATION']}, {df_filtered.loc[df_filtered['$/SQUARE FEET'].idxmax()]['FULL_ADDRESS']} | Price ${df_filtered.loc[df_filtered['$/SQUARE FEET'].idxmax()]['PRICE']:,.0f} | ${df_filtered.loc[df_filtered['$/SQUARE FEET'].idxmax()]['$/SQUARE FEET']:,.0f} psf | Year built: {df_filtered.loc[df_filtered['$/SQUARE FEET'].idxmax()]['YEAR BUILT']:.0f}\")\n",
    "print(f\"{MIN_PSF}{BR}{df_filtered.loc[df_filtered['$/SQUARE FEET'].idxmin()]['LOCATION']}, {df_filtered.loc[df_filtered['$/SQUARE FEET'].idxmin()]['FULL_ADDRESS']} | Price ${df_filtered.loc[df_filtered['$/SQUARE FEET'].idxmin()]['PRICE']:,.0f} | ${df_filtered.loc[df_filtered['$/SQUARE FEET'].idxmin()]['$/SQUARE FEET']:,.0f} psf | Year built: {df_filtered.loc[df_filtered['$/SQUARE FEET'].idxmin()]['YEAR BUILT']:.0f}\")\n",
    "\n",
    "print(f\"{Newest}{BR}{df_filtered.loc[df_filtered['YEAR BUILT'].idxmax()]['LOCATION']}, {df_filtered.loc[df_filtered['YEAR BUILT'].idxmax()]['FULL_ADDRESS']} | Price ${df_filtered.loc[df_filtered['YEAR BUILT'].idxmax()]['PRICE']:,.0f} | ${df_filtered.loc[df_filtered['YEAR BUILT'].idxmax()]['$/SQUARE FEET']:,.0f} psf | Year built: {df_filtered.loc[df_filtered['YEAR BUILT'].idxmax()]['YEAR BUILT']:.0f}\")\n",
    "print(f\"{Oldest}{BR}{df_filtered.loc[df_filtered['YEAR BUILT'].idxmin()]['LOCATION']}, {df_filtered.loc[df_filtered['YEAR BUILT'].idxmin()]['FULL_ADDRESS']} | Price ${df_filtered.loc[df_filtered['YEAR BUILT'].idxmin()]['PRICE']:,.0f} | ${df_filtered.loc[df_filtered['YEAR BUILT'].idxmin()]['$/SQUARE FEET']:,.0f} psf | Year built: {df_filtered.loc[df_filtered['YEAR BUILT'].idxmin()]['YEAR BUILT']:.0f}\")"
   ]
  },
  {
   "cell_type": "markdown",
   "id": "707dd49b",
   "metadata": {},
   "source": [
    "## Map URL Snagger"
   ]
  },
  {
   "cell_type": "code",
   "execution_count": 36,
   "id": "81e05274",
   "metadata": {},
   "outputs": [
    {
     "name": "stdout",
     "output_type": "stream",
     "text": [
      "https://trd-digital.github.io/trd-news-interactive-maps/BC_condo_sales_month_ending_july_2024\n"
     ]
    }
   ],
   "source": [
    "base_name = 'https://trd-digital.github.io/trd-news-interactive-maps/'\n",
    "\n",
    "cwd = os.getcwd()\n",
    "\n",
    "cwd = cwd.split('/')\n",
    "\n",
    "final_name = base_name + cwd[-1]\n",
    "print(final_name)"
   ]
  },
  {
   "cell_type": "markdown",
   "id": "fe5031c3",
   "metadata": {},
   "source": [
    "## Get Summary Data"
   ]
  },
  {
   "cell_type": "code",
   "execution_count": 37,
   "id": "15cba208",
   "metadata": {},
   "outputs": [
    {
     "name": "stdout",
     "output_type": "stream",
     "text": [
      "SALES INFO\n",
      "Number of sales: 824\n",
      "--------\n",
      "Total sale price: $260,925,099\n",
      "--------\n",
      "Median sale price: $235,000\n",
      "--------\n",
      "Max sale price: $8,200,000\n",
      "--------\n",
      "Min sale price: $50,000\n",
      "------------------------------------------------\n",
      "PSF INFO\n",
      "Max price per square foot: $2,130\n",
      "--------\n",
      "Min price per square foot: $54\n",
      "--------\n",
      "Median price per square foot: $232\n",
      "------------------------------------------------\n",
      "CONDO AGES\n",
      "Newest building: 2022.0\n",
      "----------\n",
      "Oldest building: 1951.0\n",
      "----------\n",
      "Average building age: 1980.2718446601941\n"
     ]
    }
   ],
   "source": [
    "print('SALES INFO')\n",
    "print(f'Number of sales: {len(df_filtered)}')\n",
    "print('--------')\n",
    "print(f'Total sale price: ${df_filtered[\"PRICE\"].sum():,.0f}')\n",
    "print('--------')\n",
    "print(f'Median sale price: ${df_filtered[\"PRICE\"].median():,.0f}')\n",
    "print('--------')\n",
    "print(f'Max sale price: ${df_filtered[\"PRICE\"].max():,.0f}')\n",
    "print('--------')\n",
    "print(f'Min sale price: ${df_filtered[\"PRICE\"].min():,.0f}')\n",
    "print('------------------------------------------------')\n",
    "print('PSF INFO')\n",
    "print(f'Max price per square foot: ${df_filtered[\"$/SQUARE FEET\"].max():,.0f}')\n",
    "print('--------')\n",
    "print(f'Min price per square foot: ${df_filtered[\"$/SQUARE FEET\"].min():,.0f}')\n",
    "print('--------')\n",
    "print(f'Median price per square foot: ${df_filtered[\"$/SQUARE FEET\"].median():,.0f}')\n",
    "print('------------------------------------------------')\n",
    "print('CONDO AGES')\n",
    "print(f'Newest building: {df_filtered[\"YEAR BUILT\"].max()}')\n",
    "print('----------')\n",
    "print(f'Oldest building: {df_filtered[\"YEAR BUILT\"].min()}')\n",
    "print('----------')\n",
    "print(f'Average building age: {df_filtered[\"YEAR BUILT\"].mean()}')"
   ]
  },
  {
   "cell_type": "code",
   "execution_count": 38,
   "id": "a7db05bf",
   "metadata": {},
   "outputs": [],
   "source": [
    "most_expensive_muni_condo_name = df_filtered.loc[df_filtered['PRICE'].idxmax()]['LOCATION']\n",
    "most_expensive_muni_location = df_filtered.loc[df_filtered['PRICE'].idxmax()]['CITY']\n",
    "\n",
    "least_expensive_muni_condo_name = df_filtered.loc[df_filtered['PRICE'].idxmin()]['LOCATION']\n",
    "least_expensive_muni_location = df_filtered.loc[df_filtered['PRICE'].idxmin()]['CITY']"
   ]
  },
  {
   "cell_type": "markdown",
   "id": "3a2b0666",
   "metadata": {},
   "source": [
    "# GENERATE STORY TEMPLATE\n",
    "\n",
    "# STOP! DID YOU UPDATE VALUES FROM THE PREVIOUS MONTH?"
   ]
  },
  {
   "cell_type": "code",
   "execution_count": 39,
   "id": "b79b8847",
   "metadata": {},
   "outputs": [],
   "source": [
    "## Calculate the increase/descrease between both months\n",
    "subject_month_sales_volume = df_filtered[\"PRICE\"].sum()\n",
    "prior_month_sales_volume = int(sales_volume_2nd_month)  # Example value, replace with actual value\n",
    "\n",
    "subject_month_closings = len(df_filtered)\n",
    "prior_month_closings = int(total_condos_sold_2nd_month)\n",
    "\n",
    "# Subtract the smaller value from the larger one\n",
    "if subject_month_sales_volume > prior_month_sales_volume:\n",
    "    hed_rf = 'jumps'\n",
    "    nut_graf = 'rising'\n",
    "    second_nut_graf_ref = 'up'\n",
    "    social = 'higher'\n",
    "    seo = 'rose'\n",
    "elif prior_month_sales_volume > subject_month_sales_volume:\n",
    "    hed_rf = 'drops'\n",
    "    nut_graf = 'falling'\n",
    "    second_nut_graf_ref = 'down'\n",
    "    social = 'lower'\n",
    "    seo = 'dropped'\n",
    "else:\n",
    "    hed_rf = 'equals'\n",
    "    nut_graf = 'equaling'\n",
    "    second_nut_graf_ref = 'on par with'\n",
    "    social = 'equal'\n",
    "    seo = \"didn't change\"\n",
    "    \n",
    "    \n",
    "if subject_month_closings > prior_month_closings:\n",
    "    dek_rf = 'rose'\n",
    "elif prior_month_closings > subject_month_closings:\n",
    "    dek_rf ='fell'\n",
    "else:\n",
    "    dek_rf = 'equaled'"
   ]
  },
  {
   "cell_type": "code",
   "execution_count": 40,
   "id": "246d9fac",
   "metadata": {},
   "outputs": [],
   "source": [
    "story_string = f'''\n",
    "\\033[1mHED:\\033[0m {county_name} condo sales dollar volume {hed_rf} in {previous_month_name} to ${round(df_filtered[\"PRICE\"].sum()/1_000_000)}M \n",
    "\\033[1mDEK:\\033[0m Number of closings {dek_rf} to {len(df_filtered)} from {total_condos_sold_2nd_month} in {month_before_last_name}\n",
    "\\033[1mFEATURED HED:\\033[0m\n",
    "\\033[1mSEO HED:\\033[0m {county_name} {previous_month_name} Condo Sales Report \n",
    "\\033[1mSEO DESCRIPTION:\\033[0m {county_name}’s condo sales volume {seo} to ${round(df_filtered[\"PRICE\"].sum()/1_000_000)} million in {previous_month_name}\n",
    "\\033[1mAUTHOR:\\033[0m Adam Farence\n",
    "\\033[1mRESEARCH:\\033[0m \n",
    "\\033[1mSocial:\\033[0m {county_name} had ${round(df_filtered[\"PRICE\"].sum()/1_000_000):,.0f} million in condo sales in {previous_month_name}, {social} than ${round(int(sales_volume_2nd_month)/1_000_000)} million from {month_before_last_name}, @afarence reports \n",
    "\\033[1mART:\\033[0m \n",
    "\n",
    "CHANGE ME\n",
    "\n",
    "*Please provide credits for any images that you share\n",
    "\\033[1mSTORY TYPE:\\033[0m Report\n",
    "\\033[1mSECTOR\\033[0m (formerly CATEGORY): Residential Real Estate\n",
    "\\033[1mTAGS:\\033[0m condo sales, {county_name}, monthly condo sales, condos, condo market, {most_expensive_muni_condo_name.title()}, {most_expensive_muni_location}\n",
    "\n",
    "\\033[1mNeighborhood:\\033[0m \n",
    "\\033[1mProperty:\\033[0m\n",
    "\\033[1mProperty Type:\\033[0m\n",
    "\\033[1mCompanies:\\033[0m \n",
    "\\033[1mPeople:\\033[0m\n",
    "\\033[1mIssues:\\033[0m\n",
    "\\033[1mRegion:\\033[0m\n",
    "\n",
    "{county_name}’s NEWS PEG HERE.\n",
    "\n",
    "{previous_month_name} condo sales totaled ${df_filtered[\"PRICE\"].sum()} million, {nut_graf} from ${int(sales_volume_2nd_month)/1_000_000:.0f} million in {month_before_last_name}. Brokers closed {len(df_filtered)} sales last month, {second_nut_graf_ref} from {total_condos_sold_2nd_month} sales in {month_before_last_name} and XXX in XXX, Multiple Listing Service data from Redfin show.\n",
    "\n",
    "{previous_month_name} sale prices ranged from ${df_filtered[\"PRICE\"].min():,.2f} to ${df_filtered[\"PRICE\"].max():,.0f} million, with a median sale price of ${df_filtered[\"PRICE\"].median():,.0f}. The price per square foot ranged from ${df_filtered[\"$/SQUARE FEET\"].min():,.0f} to ${df_filtered[\"$/SQUARE FEET\"].max():,.0f}, with a median of ${df_filtered[\"$/SQUARE FEET\"].median():,.0f} per square foot.\n",
    "\n",
    "In {month_before_last_name}, sales closed with a median price of ${int(median_sales_price_2nd_month):,.0f}, and ${median_psf_2nd_month} per square foot.\n",
    "\n",
    "A ${df_filtered[\"PRICE\"].max():,.0f} million closing at {most_expensive_muni_condo_name.title()} took the title of priciest sale last month. {df_filtered.loc[df_filtered['PRICE'].idxmax()]['FULL_ADDRESS']} sold for ${df_filtered.loc[df_filtered['PRICE'].idxmax()]['$/SQUARE FEET']:,.0f} per square foot after XX days on the market. XXX with XXX had the listing, and XXX with XXX represented the buyer.\n",
    "\n",
    "The sale price was \\033[1mmore/less\\033[0m than {month_before_last_name}'s priciest sale. Unit XXXX \n",
    "\n",
    "In contrast, {previous_month_name}'s cheapest sale was an {least_expensive_muni_condo_name} in {least_expensive_muni_location}, at {df_filtered.loc[df_filtered['PRICE'].idxmin()]['FULL_ADDRESS']}. Unit XXX traded for ${df_filtered['PRICE'].min():,.0f} — or ${df_filtered.loc[df_filtered['PRICE'].idxmin()]['$/SQUARE FEET']:,.0f} per square foot — after XXX days on the market. XXX with XXX handled both sides of the deal.\n",
    "\n",
    "<figure>\n",
    " <div class=\"container\">\n",
    "   <div class=\"iframe-wrap\">\n",
    "   <iframe src=\"{final_name}\" width=\"100%\" height=\"800\" frameBorder=\"0\" scrolling=\"no\"></iframe>\n",
    "  </div>\n",
    "</div>\n",
    "  <figcaption align=\"right\"><a href=\"https://leafletjs.com/\">Leaflet</a> map created by Adam Farence | Data by © <a href=\"https://www.openstreetmap.org/#map=4/38.01/-95.84\"> OpenStreetMap</a>, under <a href=\"https://www.openstreetmap.org/copyright\">ODbl.</a></figcaption>\n",
    "</figure>\n",
    "\n",
    "Here’s a breakdown of {previous_month_name}’s notable condo sales:\n",
    "'''"
   ]
  },
  {
   "cell_type": "code",
   "execution_count": 41,
   "id": "f51fcff5",
   "metadata": {},
   "outputs": [
    {
     "name": "stdout",
     "output_type": "stream",
     "text": [
      "\n",
      "\u001b[1mHED:\u001b[0m Broward County condo sales dollar volume drops in July to $261M \n",
      "\u001b[1mDEK:\u001b[0m Number of closings rose to 824 from 808 in June\n",
      "\u001b[1mFEATURED HED:\u001b[0m\n",
      "\u001b[1mSEO HED:\u001b[0m Broward County July Condo Sales Report \n",
      "\u001b[1mSEO DESCRIPTION:\u001b[0m Broward County’s condo sales volume dropped to $261 million in July\n",
      "\u001b[1mAUTHOR:\u001b[0m Adam Farence\n",
      "\u001b[1mRESEARCH:\u001b[0m \n",
      "\u001b[1mSocial:\u001b[0m Broward County had $261 million in condo sales in July, lower than $285 million from June, @afarence reports \n",
      "\u001b[1mART:\u001b[0m \n",
      "\n",
      "CHANGE ME\n",
      "\n",
      "*Please provide credits for any images that you share\n",
      "\u001b[1mSTORY TYPE:\u001b[0m Report\n",
      "\u001b[1mSECTOR\u001b[0m (formerly CATEGORY): Residential Real Estate\n",
      "\u001b[1mTAGS:\u001b[0m condo sales, Broward County, monthly condo sales, condos, condo market, Four Seasons, Fort Lauderdale\n",
      "\n",
      "\u001b[1mNeighborhood:\u001b[0m \n",
      "\u001b[1mProperty:\u001b[0m\n",
      "\u001b[1mProperty Type:\u001b[0m\n",
      "\u001b[1mCompanies:\u001b[0m \n",
      "\u001b[1mPeople:\u001b[0m\n",
      "\u001b[1mIssues:\u001b[0m\n",
      "\u001b[1mRegion:\u001b[0m\n",
      "\n",
      "Broward County’s NEWS PEG HERE.\n",
      "\n",
      "July condo sales totaled $260925099.0 million, falling from $285 million in June. Brokers closed 824 sales last month, down from 808 sales in June and XXX in XXX, Multiple Listing Service data from Redfin show.\n",
      "\n",
      "July sale prices ranged from $50,000.00 to $8,200,000 million, with a median sale price of $235,000. The price per square foot ranged from $54 to $2,130, with a median of $232 per square foot.\n",
      "\n",
      "In June, sales closed with a median price of $240,000, and $242 per square foot.\n",
      "\n",
      "A $8,200,000 million closing at Four Seasons took the title of priciest sale last month. 525 N Ft Lauderdale Beach Blvd #2001 Fort Lauderdale sold for $2,130 per square foot after XX days on the market. XXX with XXX had the listing, and XXX with XXX represented the buyer.\n",
      "\n",
      "The sale price was \u001b[1mmore/less\u001b[0m than June's priciest sale. Unit XXXX \n",
      "\n",
      "In contrast, July's cheapest sale was an Castle Gardens in Lauderhill, at 4750 NW 22nd Ct #417 Lauderhill. Unit XXX traded for $50,000 — or $54 per square foot — after XXX days on the market. XXX with XXX handled both sides of the deal.\n",
      "\n",
      "<figure>\n",
      " <div class=\"container\">\n",
      "   <div class=\"iframe-wrap\">\n",
      "   <iframe src=\"https://trd-digital.github.io/trd-news-interactive-maps/BC_condo_sales_month_ending_july_2024\" width=\"100%\" height=\"800\" frameBorder=\"0\" scrolling=\"no\"></iframe>\n",
      "  </div>\n",
      "</div>\n",
      "  <figcaption align=\"right\"><a href=\"https://leafletjs.com/\">Leaflet</a> map created by Adam Farence | Data by © <a href=\"https://www.openstreetmap.org/#map=4/38.01/-95.84\"> OpenStreetMap</a>, under <a href=\"https://www.openstreetmap.org/copyright\">ODbl.</a></figcaption>\n",
      "</figure>\n",
      "\n",
      "Here’s a breakdown of July’s notable condo sales:\n",
      "\n",
      "\u001b[1mMost Expensive\u001b[0m\n",
      "Four Seasons, 525 N Ft Lauderdale Beach Blvd #2001 Fort Lauderdale | Price $8,200,000 | $2,130 psf | Year built: 2022\n",
      "\u001b[1mLeast Expensive\u001b[0m\n",
      "Castle Gardens, 4750 NW 22nd Ct #417 Lauderhill | Price $50,000 | $54 psf | Year built: 1973\n",
      "\u001b[1mHighest Price Per Square Foot\u001b[0m\n",
      "Four Seasons, 525 N Ft Lauderdale Beach Blvd #2001 Fort Lauderdale | Price $8,200,000 | $2,130 psf | Year built: 2022\n",
      "\u001b[1mLowest Price Per Square Foot\u001b[0m\n",
      "Castle Gardens, 4750 NW 22nd Ct #417 Lauderhill | Price $50,000 | $54 psf | Year built: 1973\n",
      "\u001b[1mNewest\u001b[0m\n",
      "Four Seasons, 525 N Ft Lauderdale Beach Blvd #2001 Fort Lauderdale | Price $8,200,000 | $2,130 psf | Year built: 2022\n",
      "\u001b[1mOldest\u001b[0m\n",
      "Golden Shores Condo, 820 N Ocean Blvd #1 Pompano Beach | Price $335,000 | $952 psf | Year built: 1951\n"
     ]
    }
   ],
   "source": [
    "print(story_string)\n",
    "\n",
    "print(f\"{ME}{BR}{df_filtered.loc[df_filtered['PRICE'].idxmax()]['LOCATION']}, {df_filtered.loc[df_filtered['PRICE'].idxmax()]['FULL_ADDRESS']} | Price ${df_filtered.loc[df_filtered['PRICE'].idxmax()]['PRICE']:,.0f} | ${df_filtered.loc[df_filtered['PRICE'].idxmax()]['$/SQUARE FEET']:,.0f} psf | Year built: {df_filtered.loc[df_filtered['PRICE'].idxmax()]['YEAR BUILT']:.0f}\")\n",
    "print(f\"{LE}{BR}{df_filtered.loc[df_filtered['PRICE'].idxmin()]['LOCATION']}, {df_filtered.loc[df_filtered['PRICE'].idxmin()]['FULL_ADDRESS']} | Price ${df_filtered.loc[df_filtered['PRICE'].idxmin()]['PRICE']:,.0f} | ${df_filtered.loc[df_filtered['PRICE'].idxmin()]['$/SQUARE FEET']:,.0f} psf | Year built: {df_filtered.loc[df_filtered['PRICE'].idxmin()]['YEAR BUILT']:.0f}\")\n",
    "\n",
    "print(f\"{MAX_PSF}{BR}{df_filtered.loc[df_filtered['$/SQUARE FEET'].idxmax()]['LOCATION']}, {df_filtered.loc[df_filtered['$/SQUARE FEET'].idxmax()]['FULL_ADDRESS']} | Price ${df_filtered.loc[df_filtered['$/SQUARE FEET'].idxmax()]['PRICE']:,.0f} | ${df_filtered.loc[df_filtered['$/SQUARE FEET'].idxmax()]['$/SQUARE FEET']:,.0f} psf | Year built: {df_filtered.loc[df_filtered['$/SQUARE FEET'].idxmax()]['YEAR BUILT']:.0f}\")\n",
    "print(f\"{MIN_PSF}{BR}{df_filtered.loc[df_filtered['$/SQUARE FEET'].idxmin()]['LOCATION']}, {df_filtered.loc[df_filtered['$/SQUARE FEET'].idxmin()]['FULL_ADDRESS']} | Price ${df_filtered.loc[df_filtered['$/SQUARE FEET'].idxmin()]['PRICE']:,.0f} | ${df_filtered.loc[df_filtered['$/SQUARE FEET'].idxmin()]['$/SQUARE FEET']:,.0f} psf | Year built: {df_filtered.loc[df_filtered['$/SQUARE FEET'].idxmin()]['YEAR BUILT']:.0f}\")\n",
    "\n",
    "print(f\"{Newest}{BR}{df_filtered.loc[df_filtered['YEAR BUILT'].idxmax()]['LOCATION']}, {df_filtered.loc[df_filtered['YEAR BUILT'].idxmax()]['FULL_ADDRESS']} | Price ${df_filtered.loc[df_filtered['YEAR BUILT'].idxmax()]['PRICE']:,.0f} | ${df_filtered.loc[df_filtered['YEAR BUILT'].idxmax()]['$/SQUARE FEET']:,.0f} psf | Year built: {df_filtered.loc[df_filtered['YEAR BUILT'].idxmax()]['YEAR BUILT']:.0f}\")\n",
    "print(f\"{Oldest}{BR}{df_filtered.loc[df_filtered['YEAR BUILT'].idxmin()]['LOCATION']}, {df_filtered.loc[df_filtered['YEAR BUILT'].idxmin()]['FULL_ADDRESS']} | Price ${df_filtered.loc[df_filtered['YEAR BUILT'].idxmin()]['PRICE']:,.0f} | ${df_filtered.loc[df_filtered['YEAR BUILT'].idxmin()]['$/SQUARE FEET']:,.0f} psf | Year built: {df_filtered.loc[df_filtered['YEAR BUILT'].idxmin()]['YEAR BUILT']:.0f}\")"
   ]
  },
  {
   "cell_type": "markdown",
   "id": "1237f8b2",
   "metadata": {},
   "source": [
    "# Print links for notable sales\n",
    "\n",
    "## Top sale"
   ]
  },
  {
   "cell_type": "code",
   "execution_count": 42,
   "id": "4c776293",
   "metadata": {},
   "outputs": [
    {
     "name": "stdout",
     "output_type": "stream",
     "text": [
      "https://www.redfin.com/FL/Fort-Lauderdale/525-N-Fort-Lauderdale-Beach-Blvd-33304/unit-2001/home/173384648\n"
     ]
    }
   ],
   "source": [
    "print(df_filtered.loc[df_filtered['PRICE'].idxmax()]['URL'])"
   ]
  },
  {
   "cell_type": "markdown",
   "id": "b1f63a6a",
   "metadata": {},
   "source": [
    "## Cheapest sale"
   ]
  },
  {
   "cell_type": "code",
   "execution_count": 50,
   "id": "967008ef",
   "metadata": {},
   "outputs": [
    {
     "name": "stdout",
     "output_type": "stream",
     "text": [
      "https://www.redfin.com/FL/Lauderhill/4750-NW-22nd-Ct-33313/unit-417/home/41596125\n"
     ]
    }
   ],
   "source": [
    "print(df_filtered.loc[df_filtered['PRICE'].idxmin()]['URL'])"
   ]
  },
  {
   "cell_type": "markdown",
   "id": "0f56cc2b",
   "metadata": {},
   "source": [
    "## Highest PSF"
   ]
  },
  {
   "cell_type": "code",
   "execution_count": 52,
   "id": "001083a2",
   "metadata": {},
   "outputs": [
    {
     "name": "stdout",
     "output_type": "stream",
     "text": [
      "https://www.redfin.com/FL/Fort-Lauderdale/525-N-Fort-Lauderdale-Beach-Blvd-33304/unit-2001/home/173384648\n"
     ]
    }
   ],
   "source": [
    "print(df_filtered.loc[df_filtered['$/SQUARE FEET'].idxmax()]['URL'])"
   ]
  },
  {
   "cell_type": "markdown",
   "id": "e606b84a",
   "metadata": {},
   "source": [
    "## Lowest PSF"
   ]
  },
  {
   "cell_type": "code",
   "execution_count": 53,
   "id": "91b9b079",
   "metadata": {},
   "outputs": [
    {
     "name": "stdout",
     "output_type": "stream",
     "text": [
      "https://www.redfin.com/FL/Lauderhill/4750-NW-22nd-Ct-33313/unit-417/home/41596125\n"
     ]
    }
   ],
   "source": [
    "print(df_filtered.loc[df_filtered['$/SQUARE FEET'].idxmin()]['URL'])"
   ]
  },
  {
   "cell_type": "markdown",
   "id": "d6e5493b",
   "metadata": {},
   "source": [
    "## Newest"
   ]
  },
  {
   "cell_type": "code",
   "execution_count": 54,
   "id": "c2cc4988",
   "metadata": {},
   "outputs": [
    {
     "name": "stdout",
     "output_type": "stream",
     "text": [
      "https://www.redfin.com/FL/Fort-Lauderdale/525-N-Fort-Lauderdale-Beach-Blvd-33304/unit-2001/home/173384648\n"
     ]
    }
   ],
   "source": [
    "print(df_filtered.loc[df_filtered['YEAR BUILT'].idxmax()]['URL'])"
   ]
  },
  {
   "cell_type": "markdown",
   "id": "1d1ba957",
   "metadata": {},
   "source": [
    "## Oldest"
   ]
  },
  {
   "cell_type": "code",
   "execution_count": 55,
   "id": "51fa78ff",
   "metadata": {},
   "outputs": [
    {
     "name": "stdout",
     "output_type": "stream",
     "text": [
      "https://www.redfin.com/FL/Pompano-Beach/820-N-Ocean-Blvd-33062/unit-1/home/41531090\n"
     ]
    }
   ],
   "source": [
    "print(df_filtered.loc[df_filtered['YEAR BUILT'].idxmin()]['URL'])"
   ]
  },
  {
   "cell_type": "markdown",
   "id": "6b274da8",
   "metadata": {},
   "source": [
    "## Time on Market Calculator"
   ]
  },
  {
   "cell_type": "code",
   "execution_count": 51,
   "id": "0d14e001",
   "metadata": {},
   "outputs": [
    {
     "name": "stdout",
     "output_type": "stream",
     "text": [
      "202\n"
     ]
    }
   ],
   "source": [
    "from datetime import datetime, timedelta\n",
    "\n",
    "################ YEAR, MONTH, DAY #######################\n",
    "\n",
    "date1 = datetime(2024, 1, 10) ## List (Earlier) date\n",
    "date2 = datetime(2024, 7, 30) ## Close (Later) date\n",
    "\n",
    "delta = date2 - date1\n",
    "num_days = delta.days\n",
    "\n",
    "print(num_days)"
   ]
  },
  {
   "cell_type": "markdown",
   "id": "cced793f",
   "metadata": {},
   "source": [
    "## Access second highest (or whatever is needed)"
   ]
  },
  {
   "cell_type": "code",
   "execution_count": 58,
   "id": "016dcd2c",
   "metadata": {},
   "outputs": [],
   "source": [
    "# ### Second highest ###\n",
    "# # Sort the DataFrame by '$/SQUARE FEET' in descending order\n",
    "# second_highest = df_filtered.sort_values(by='$/SQUARE FEET', ascending=False)\n",
    "\n",
    "# # Get the URL of the entry with the second highest '$/SQUARE FEET' value\n",
    "# second_highest_url = second_highest.iloc[1]['URL']  # `.iloc[1]` accesses the second row\n",
    "\n",
    "# print(second_highest_url)"
   ]
  }
 ],
 "metadata": {
  "kernelspec": {
   "display_name": "Python 3 (ipykernel)",
   "language": "python",
   "name": "python3"
  },
  "language_info": {
   "codemirror_mode": {
    "name": "ipython",
    "version": 3
   },
   "file_extension": ".py",
   "mimetype": "text/x-python",
   "name": "python",
   "nbconvert_exporter": "python",
   "pygments_lexer": "ipython3",
   "version": "3.9.12"
  }
 },
 "nbformat": 4,
 "nbformat_minor": 5
}
