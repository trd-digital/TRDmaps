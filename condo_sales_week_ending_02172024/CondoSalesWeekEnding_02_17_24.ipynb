{
 "cells": [
  {
   "cell_type": "markdown",
   "metadata": {},
   "source": [
    "## Imports"
   ]
  },
  {
   "cell_type": "code",
   "execution_count": 1,
   "metadata": {},
   "outputs": [],
   "source": [
    "import googlemaps\n",
    "import pandas as pd\n",
    "import numpy as np\n",
    "import re\n",
    "import os\n",
    "import geopandas as gpd\n",
    "import folium\n",
    "import tabula\n",
    "from datetime import datetime, timedelta"
   ]
  },
  {
   "cell_type": "markdown",
   "metadata": {},
   "source": [
    "## Read-in"
   ]
  },
  {
   "cell_type": "code",
   "execution_count": 2,
   "metadata": {},
   "outputs": [
    {
     "name": "stderr",
     "output_type": "stream",
     "text": [
      "/Users/afarence/opt/anaconda3/lib/python3.9/site-packages/tabula/io.py:1057: FutureWarning: errors='ignore' is deprecated and will raise in a future version. Use to_numeric without passing `errors` and catch exceptions explicitly instead\n",
      "  df[c] = pd.to_numeric(df[c], errors=\"ignore\")\n"
     ]
    }
   ],
   "source": [
    "# Gotta figure out how to get rid of the java error.\n",
    "# SO: https://stackoverflow.com/questions/54817211/java-command-is-not-found-from-this-python-process-please-ensure-java-is-inst\n",
    "dsf = tabula.read_pdf('condo.pdf', pages='all')"
   ]
  },
  {
   "cell_type": "markdown",
   "metadata": {},
   "source": [
    "## Current Week's Values"
   ]
  },
  {
   "cell_type": "code",
   "execution_count": 3,
   "metadata": {},
   "outputs": [
    {
     "name": "stdout",
     "output_type": "stream",
     "text": [
      "Input Week Starting Date:\n",
      "Feb. 11th\n",
      "Input Week Ending Date:\n",
      "Feb. 17th\n",
      "Input Current Week Condo Sales (num of units sold):\n",
      "141\n",
      "Input Average Sale Price:\n",
      "1187526\n",
      "Input Average PSF:\n",
      "642\n",
      "Input Average Days on Market:\n",
      "93\n",
      "Input Current Week Condo Sales Total (ex: $XX million):\n",
      "167441229\n",
      "Input Top Image URL from condo:\n",
      "https://www.condo.com/building/The-Surf-Club-Four-Seasons-Surfside-FL-33154-91693612\n"
     ]
    }
   ],
   "source": [
    "print('Input Week Starting Date:') ## e.x: Feb. 11th\n",
    "week_starting = input()\n",
    "print('Input Week Ending Date:')\n",
    "week_ending = input()\n",
    "print('Input Current Week Condo Sales (num of units sold):')\n",
    "current_week_condo_sales = input()\n",
    "print('Input Average Sale Price:')\n",
    "average_sale_price = input()\n",
    "print('Input Average PSF:')\n",
    "average_price_psf = input()\n",
    "print('Input Average Days on Market:')\n",
    "average_days_on_market = input()\n",
    "print('Input Current Week Condo Sales Total (ex: $XX million):')\n",
    "current_week_condo_sales_total = input()\n",
    "print('Input Top Image URL from condo:')\n",
    "top_condo_image_url = input()"
   ]
  },
  {
   "cell_type": "markdown",
   "metadata": {},
   "source": [
    "## Previous Week's Values"
   ]
  },
  {
   "cell_type": "code",
   "execution_count": 4,
   "metadata": {},
   "outputs": [
    {
     "name": "stdout",
     "output_type": "stream",
     "text": [
      "Input Previous Week Condo Sales Total (number units sold):\n",
      "80\n",
      "Input Previous Week Condo Average Sales Price:\n",
      "710430\n",
      "Input Previous Week Condo Average PSF:\n",
      "548\n",
      "Input Previous Week Condo Sales total (ex: $XX million)\n",
      "56834370\n"
     ]
    }
   ],
   "source": [
    "print('Input Previous Week Condo Sales Total (number units sold):')\n",
    "previous_week_condo_sales = input()\n",
    "print('Input Previous Week Condo Average Sales Price:')\n",
    "previous_week_average_sales_price = input()\n",
    "print('Input Previous Week Condo Average PSF:')\n",
    "previous_week_average_psf = input()\n",
    "print('Input Previous Week Condo Sales total (ex: $XX million)')\n",
    "previous_week_condo_sales_total = input()"
   ]
  },
  {
   "cell_type": "markdown",
   "metadata": {},
   "source": [
    "## Clean Data"
   ]
  },
  {
   "cell_type": "code",
   "execution_count": 5,
   "metadata": {},
   "outputs": [],
   "source": [
    "df = dsf[0]\n",
    "df.columns = df.iloc[0]\n",
    "df = df[1:]\n",
    "df = df.drop(columns=df.columns[0])\n",
    "df = df.replace(np.nan, 'Not Available', regex=True)\n",
    "df = df.rename(columns={'Building / Address / City': 'building_address_city','Days on\\rMarket':'days_on_market',\\\n",
    "                        'Price /\\rSq. Ft.':'price_per_sqft'})\n",
    "df['building_address_city'] = df['building_address_city'].str.replace('^0', '', regex=True)\n",
    "df['geo_address'] = df['building_address_city']\n",
    "df['geo_address'] = df['geo_address'].map(lambda x: re.sub(r'\\r', ' ', x))\n",
    "df = df.replace('\\n',' ',regex=True)\n",
    "pattern = r'^(?P<building_name>[\\d\\s]*[A-Za-z\\s]+)\\s(?P<address>.+)\\s(?P<city>[A-Za-z\\s]+)$'\n",
    "df2 = df['geo_address']\n",
    "df2 = df2.to_frame()\n",
    "df2[['building_name', 'address', 'city']] = df2['geo_address'].str.extract(pattern, expand=True)"
   ]
  },
  {
   "cell_type": "markdown",
   "metadata": {},
   "source": [
    "Review this later (it's about how to properly merge DFs): https://pandas.pydata.org/pandas-docs/stable/user_guide/merging.html"
   ]
  },
  {
   "cell_type": "markdown",
   "metadata": {},
   "source": [
    "## Geocode"
   ]
  },
  {
   "cell_type": "code",
   "execution_count": 6,
   "metadata": {},
   "outputs": [],
   "source": [
    "result = pd.merge(df,df2,left_index=True, right_index=True)\n",
    "df = result\n",
    "df = df.drop(columns='city')"
   ]
  },
  {
   "cell_type": "code",
   "execution_count": 7,
   "metadata": {},
   "outputs": [],
   "source": [
    "%store -r google_maps_API_Key\n",
    "gmaps_key = googlemaps.Client(key=google_maps_API_Key)"
   ]
  },
  {
   "cell_type": "code",
   "execution_count": 8,
   "metadata": {},
   "outputs": [],
   "source": [
    "def geocode(add):\n",
    "    g = gmaps_key.geocode(add)\n",
    "    lat = g[0][\"geometry\"][\"location\"][\"lat\"]\n",
    "    lng = g[0][\"geometry\"][\"location\"][\"lng\"]\n",
    "    return (lat, lng)\n",
    "\n",
    "df['geocoded'] = df['geo_address_x'].apply(geocode)"
   ]
  },
  {
   "cell_type": "code",
   "execution_count": 9,
   "metadata": {},
   "outputs": [],
   "source": [
    "df['geocoded'] = df['geocoded'].astype(str)\n",
    "df[['lat', 'lon']] = df['geocoded'].str.strip('()').str.split(', ', expand=True)\n",
    "df['lat'] = df['lat'].astype(float)\n",
    "df['lon'] = df['lon'].astype(float)"
   ]
  },
  {
   "cell_type": "markdown",
   "metadata": {},
   "source": [
    "Folium documentation link: https://python-visualization.github.io/folium/index.html\n",
    "\n",
    "Folium is the library that lets us use leaflet with Python, since it's meant to be used with JavaScript.\n",
    "\n",
    "For adding titles: https://stackoverflow.com/questions/61928013/adding-a-title-or-text-to-a-folium-map"
   ]
  },
  {
   "cell_type": "markdown",
   "metadata": {},
   "source": [
    "## Correction section"
   ]
  },
  {
   "cell_type": "code",
   "execution_count": 10,
   "metadata": {},
   "outputs": [],
   "source": [
    "# df.at[index#,'col_name']"
   ]
  },
  {
   "cell_type": "markdown",
   "metadata": {},
   "source": [
    "## Format Data"
   ]
  },
  {
   "cell_type": "code",
   "execution_count": 11,
   "metadata": {},
   "outputs": [],
   "source": [
    "### Insert NaNs if needed ###\n",
    "df = df.replace('N/A', np.nan)"
   ]
  },
  {
   "cell_type": "code",
   "execution_count": 12,
   "metadata": {},
   "outputs": [],
   "source": [
    "df['int_Sale_Price'] = df['Sale Price'].str.replace('$','',regex=False)"
   ]
  },
  {
   "cell_type": "code",
   "execution_count": 13,
   "metadata": {},
   "outputs": [],
   "source": [
    "df['int_Sale_Price'] = df['int_Sale_Price'].str.replace(',','',regex=False)"
   ]
  },
  {
   "cell_type": "code",
   "execution_count": 14,
   "metadata": {},
   "outputs": [],
   "source": [
    "df['int_Sale_Price'] = pd.to_numeric(df['int_Sale_Price'])"
   ]
  },
  {
   "cell_type": "code",
   "execution_count": 15,
   "metadata": {},
   "outputs": [],
   "source": [
    "df['price_per_sqft'] = df['price_per_sqft'].str.replace('$','',regex=False)\n",
    "df['price_per_sqft'] = df['price_per_sqft'].str.replace(',','',regex=False)\n",
    "df['price_per_sqft'] = pd.to_numeric(df['price_per_sqft'])\n",
    "\n",
    "df['days_on_market'] = pd.to_numeric(df['days_on_market'])"
   ]
  },
  {
   "cell_type": "markdown",
   "metadata": {},
   "source": [
    "## Color-code top sale"
   ]
  },
  {
   "cell_type": "code",
   "execution_count": 16,
   "metadata": {},
   "outputs": [],
   "source": [
    "### Insert RANK values ###\n",
    "df['RANK'] = range(1, len(df) + 1)\n",
    "# use numpy to assign values to the 'COLOR' column\n",
    "df['COLOR'] = np.where(df['RANK'] <= 1, 'orange', 'blue')"
   ]
  },
  {
   "cell_type": "markdown",
   "metadata": {},
   "source": [
    "## HTML Popup Formatter"
   ]
  },
  {
   "cell_type": "code",
   "execution_count": 17,
   "metadata": {},
   "outputs": [
    {
     "data": {
      "text/plain": [
       "Index(['building_address_city', 'Close Date', 'days_on_market', 'Sale Price',\n",
       "       'Sq. Ft.', 'price_per_sqft', 'Agent', 'Listing Broker', 'Buyer Agent',\n",
       "       'Buyer Broker', 'geo_address_x', 'geo_address_y', 'building_name',\n",
       "       'address', 'geocoded', 'lat', 'lon', 'int_Sale_Price', 'RANK', 'COLOR'],\n",
       "      dtype='object')"
      ]
     },
     "execution_count": 17,
     "metadata": {},
     "output_type": "execute_result"
    }
   ],
   "source": [
    "df.columns"
   ]
  },
  {
   "cell_type": "code",
   "execution_count": 18,
   "metadata": {},
   "outputs": [],
   "source": [
    "def popup_html(row):\n",
    "    building_name = row['building_name']\n",
    "    price = row['Sale Price']\n",
    "    days_on_market = row['days_on_market']\n",
    "    listing_agent = row['Agent']\n",
    "    buyers_agent = row['Buyer Agent']\n",
    "    psf = row['price_per_sqft']\n",
    "    address = row['address']\n",
    "    \n",
    "    html = '''<!DOCTYPE html>\n",
    "    <html>\n",
    "    <strong>Building Name: </strong>{}'''.format(building_name) + '''<br>\n",
    "    <strong>Sale Price: </strong>{}'''.format(price) + '''<br>\n",
    "    <strong>Days on Market: </strong>{}'''.format(days_on_market) + '''<br>\n",
    "    <strong>Listing Agent: </strong>{}'''.format(listing_agent) + '''<br>\n",
    "    <strong>Buyer's Agent: </strong>{}'''.format(buyers_agent) + '''<br>\n",
    "    <strong>Price sq ft: </strong>${}'''.format(psf) + '''<br>\n",
    "    <strong>Address: </strong>{}'''.format(address) + '''<br>\n",
    "    </html>\n",
    "    '''\n",
    "    return html"
   ]
  },
  {
   "cell_type": "code",
   "execution_count": 19,
   "metadata": {},
   "outputs": [
    {
     "data": {
      "text/html": [
       "<div style=\"width:100%;\"><div style=\"position:relative;width:100%;height:0;padding-bottom:60%;\"><span style=\"color:#565656\">Make this Notebook Trusted to load map: File -> Trust Notebook</span><iframe srcdoc=\"&lt;!DOCTYPE html&gt;\n",
       "&lt;head&gt;    \n",
       "    &lt;meta http-equiv=&quot;content-type&quot; content=&quot;text/html; charset=UTF-8&quot; /&gt;\n",
       "    \n",
       "        &lt;script&gt;\n",
       "            L_NO_TOUCH = false;\n",
       "            L_DISABLE_3D = false;\n",
       "        &lt;/script&gt;\n",
       "    \n",
       "    &lt;style&gt;html, body {width: 100%;height: 100%;margin: 0;padding: 0;}&lt;/style&gt;\n",
       "    &lt;style&gt;#map {position:absolute;top:0;bottom:0;right:0;left:0;}&lt;/style&gt;\n",
       "    &lt;script src=&quot;https://cdn.jsdelivr.net/npm/leaflet@1.6.0/dist/leaflet.js&quot;&gt;&lt;/script&gt;\n",
       "    &lt;script src=&quot;https://code.jquery.com/jquery-1.12.4.min.js&quot;&gt;&lt;/script&gt;\n",
       "    &lt;script src=&quot;https://maxcdn.bootstrapcdn.com/bootstrap/3.2.0/js/bootstrap.min.js&quot;&gt;&lt;/script&gt;\n",
       "    &lt;script src=&quot;https://cdnjs.cloudflare.com/ajax/libs/Leaflet.awesome-markers/2.0.2/leaflet.awesome-markers.js&quot;&gt;&lt;/script&gt;\n",
       "    &lt;link rel=&quot;stylesheet&quot; href=&quot;https://cdn.jsdelivr.net/npm/leaflet@1.6.0/dist/leaflet.css&quot;/&gt;\n",
       "    &lt;link rel=&quot;stylesheet&quot; href=&quot;https://maxcdn.bootstrapcdn.com/bootstrap/3.2.0/css/bootstrap.min.css&quot;/&gt;\n",
       "    &lt;link rel=&quot;stylesheet&quot; href=&quot;https://maxcdn.bootstrapcdn.com/bootstrap/3.2.0/css/bootstrap-theme.min.css&quot;/&gt;\n",
       "    &lt;link rel=&quot;stylesheet&quot; href=&quot;https://maxcdn.bootstrapcdn.com/font-awesome/4.6.3/css/font-awesome.min.css&quot;/&gt;\n",
       "    &lt;link rel=&quot;stylesheet&quot; href=&quot;https://cdnjs.cloudflare.com/ajax/libs/Leaflet.awesome-markers/2.0.2/leaflet.awesome-markers.css&quot;/&gt;\n",
       "    &lt;link rel=&quot;stylesheet&quot; href=&quot;https://cdn.jsdelivr.net/gh/python-visualization/folium/folium/templates/leaflet.awesome.rotate.min.css&quot;/&gt;\n",
       "    \n",
       "            &lt;meta name=&quot;viewport&quot; content=&quot;width=device-width,\n",
       "                initial-scale=1.0, maximum-scale=1.0, user-scalable=no&quot; /&gt;\n",
       "            &lt;style&gt;\n",
       "                #map_96eb8b43318c976d7ea8497bd2169062 {\n",
       "                    position: relative;\n",
       "                    width: 100.0%;\n",
       "                    height: 100.0%;\n",
       "                    left: 0.0%;\n",
       "                    top: 0.0%;\n",
       "                }\n",
       "            &lt;/style&gt;\n",
       "        \n",
       "&lt;/head&gt;\n",
       "&lt;body&gt;    \n",
       "    \n",
       "              &lt;h3 align=&quot;center&quot; style=&quot;font-size:16px&quot;&gt;&lt;b&gt;Recent Miami-Dade Condo Sales &lt;/b&gt;&lt;/h3&gt;\n",
       "             \n",
       "    \n",
       "                &lt;p align=&quot;center&quot; style=&quot;vertical-align: bottom; font-size:13px&quot;&gt;&lt;i&gt;Feb. 11th - Feb. 17th&lt;/i&gt;&lt;/p&gt;\n",
       "                \n",
       "    \n",
       "            &lt;div class=&quot;folium-map&quot; id=&quot;map_96eb8b43318c976d7ea8497bd2169062&quot; &gt;&lt;/div&gt;\n",
       "        \n",
       "&lt;/body&gt;\n",
       "&lt;script&gt;    \n",
       "    \n",
       "            var map_96eb8b43318c976d7ea8497bd2169062 = L.map(\n",
       "                &quot;map_96eb8b43318c976d7ea8497bd2169062&quot;,\n",
       "                {\n",
       "                    center: [25.889676029999997, -80.12869565999999],\n",
       "                    crs: L.CRS.EPSG3857,\n",
       "                    zoom: 9.5,\n",
       "                    zoomControl: true,\n",
       "                    preferCanvas: false,\n",
       "                }\n",
       "            );\n",
       "\n",
       "            \n",
       "\n",
       "        \n",
       "    \n",
       "            var feature_group_ff39d3ef6e5a9f4038b2649cc70b15b1 = L.featureGroup(\n",
       "                {}\n",
       "            ).addTo(map_96eb8b43318c976d7ea8497bd2169062);\n",
       "        \n",
       "    \n",
       "            var marker_32a74c97c9652d7be5aa0f2b68771946 = L.marker(\n",
       "                [25.8768475, -80.1214662],\n",
       "                {&quot;fill&quot;: true, &quot;radius&quot;: 5}\n",
       "            ).addTo(feature_group_ff39d3ef6e5a9f4038b2649cc70b15b1);\n",
       "        \n",
       "    \n",
       "            var icon_c13596c7e840aa21803e43267309ff3f = L.AwesomeMarkers.icon(\n",
       "                {&quot;extraClasses&quot;: &quot;fa-rotate-0&quot;, &quot;icon&quot;: &quot;info-sign&quot;, &quot;iconColor&quot;: &quot;white&quot;, &quot;markerColor&quot;: &quot;orange&quot;, &quot;prefix&quot;: &quot;glyphicon&quot;}\n",
       "            );\n",
       "            marker_32a74c97c9652d7be5aa0f2b68771946.setIcon(icon_c13596c7e840aa21803e43267309ff3f);\n",
       "        \n",
       "    \n",
       "        var popup_735ab5794d18d46d466461d34ed16025 = L.popup({&quot;maxWidth&quot;: 400});\n",
       "\n",
       "        \n",
       "            \n",
       "                var html_08d2dd22b1af07117688a685dc451f6a = $(`&lt;div id=&quot;html_08d2dd22b1af07117688a685dc451f6a&quot; style=&quot;width: 100.0%; height: 100.0%;&quot;&gt;&lt;!DOCTYPE html&gt;     &lt;html&gt;     &lt;strong&gt;Building Name: &lt;/strong&gt;Four Seasons Surf Club&lt;br&gt;     &lt;strong&gt;Sale Price: &lt;/strong&gt;$24,000,000.00&lt;br&gt;     &lt;strong&gt;Days on Market: &lt;/strong&gt;260&lt;br&gt;     &lt;strong&gt;Listing Agent: &lt;/strong&gt;Jacqueline Feldman&lt;br&gt;     &lt;strong&gt;Buyer&#x27;s Agent: &lt;/strong&gt;Miltiadis Kastanis&lt;br&gt;     &lt;strong&gt;Price sq ft: &lt;/strong&gt;$4058.17&lt;br&gt;     &lt;strong&gt;Address: &lt;/strong&gt;9001 Collins Ave S-901&lt;br&gt;     &lt;/html&gt;     &lt;/div&gt;`)[0];\n",
       "                popup_735ab5794d18d46d466461d34ed16025.setContent(html_08d2dd22b1af07117688a685dc451f6a);\n",
       "            \n",
       "        \n",
       "\n",
       "        marker_32a74c97c9652d7be5aa0f2b68771946.bindPopup(popup_735ab5794d18d46d466461d34ed16025)\n",
       "        ;\n",
       "\n",
       "        \n",
       "    \n",
       "    \n",
       "            var feature_group_947aae77b4f3490533cb11698ca5eafb = L.featureGroup(\n",
       "                {}\n",
       "            ).addTo(map_96eb8b43318c976d7ea8497bd2169062);\n",
       "        \n",
       "    \n",
       "            var marker_0c52a95629e904ca33313c5be25d0c39 = L.marker(\n",
       "                [25.883, -80.12183999999999],\n",
       "                {&quot;fill&quot;: true, &quot;radius&quot;: 5}\n",
       "            ).addTo(feature_group_947aae77b4f3490533cb11698ca5eafb);\n",
       "        \n",
       "    \n",
       "            var icon_637b337238362eedaa47f66f49b64809 = L.AwesomeMarkers.icon(\n",
       "                {&quot;extraClasses&quot;: &quot;fa-rotate-0&quot;, &quot;icon&quot;: &quot;info-sign&quot;, &quot;iconColor&quot;: &quot;white&quot;, &quot;markerColor&quot;: &quot;blue&quot;, &quot;prefix&quot;: &quot;glyphicon&quot;}\n",
       "            );\n",
       "            marker_0c52a95629e904ca33313c5be25d0c39.setIcon(icon_637b337238362eedaa47f66f49b64809);\n",
       "        \n",
       "    \n",
       "        var popup_ec838b53138fd8dcb26dde0e67e80ebf = L.popup({&quot;maxWidth&quot;: 400});\n",
       "\n",
       "        \n",
       "            \n",
       "                var html_7a88d94d40aa8aa1aae7f4471e36bc59 = $(`&lt;div id=&quot;html_7a88d94d40aa8aa1aae7f4471e36bc59&quot; style=&quot;width: 100.0%; height: 100.0%;&quot;&gt;&lt;!DOCTYPE html&gt;     &lt;html&gt;     &lt;strong&gt;Building Name: &lt;/strong&gt;Fendi Chateau Residences&lt;br&gt;     &lt;strong&gt;Sale Price: &lt;/strong&gt;$15,100,000.00&lt;br&gt;     &lt;strong&gt;Days on Market: &lt;/strong&gt;55&lt;br&gt;     &lt;strong&gt;Listing Agent: &lt;/strong&gt;Menachem Fellig&lt;br&gt;     &lt;strong&gt;Buyer&#x27;s Agent: &lt;/strong&gt;Joel Lusky&lt;br&gt;     &lt;strong&gt;Price sq ft: &lt;/strong&gt;$3680.23&lt;br&gt;     &lt;strong&gt;Address: &lt;/strong&gt;9349 Collins Ave 901&lt;br&gt;     &lt;/html&gt;     &lt;/div&gt;`)[0];\n",
       "                popup_ec838b53138fd8dcb26dde0e67e80ebf.setContent(html_7a88d94d40aa8aa1aae7f4471e36bc59);\n",
       "            \n",
       "        \n",
       "\n",
       "        marker_0c52a95629e904ca33313c5be25d0c39.bindPopup(popup_ec838b53138fd8dcb26dde0e67e80ebf)\n",
       "        ;\n",
       "\n",
       "        \n",
       "    \n",
       "    \n",
       "            var marker_eaa2bac908b8b40ce6eab18dce4101a4 = L.marker(\n",
       "                [25.9420203, -80.1201787],\n",
       "                {&quot;fill&quot;: true, &quot;radius&quot;: 5}\n",
       "            ).addTo(feature_group_947aae77b4f3490533cb11698ca5eafb);\n",
       "        \n",
       "    \n",
       "            var icon_bcc1f3c0c5544beffbda6c3944d0cf97 = L.AwesomeMarkers.icon(\n",
       "                {&quot;extraClasses&quot;: &quot;fa-rotate-0&quot;, &quot;icon&quot;: &quot;info-sign&quot;, &quot;iconColor&quot;: &quot;white&quot;, &quot;markerColor&quot;: &quot;blue&quot;, &quot;prefix&quot;: &quot;glyphicon&quot;}\n",
       "            );\n",
       "            marker_eaa2bac908b8b40ce6eab18dce4101a4.setIcon(icon_bcc1f3c0c5544beffbda6c3944d0cf97);\n",
       "        \n",
       "    \n",
       "        var popup_523ea8fb3815e4aaaaf6beeacf7e8c4a = L.popup({&quot;maxWidth&quot;: 400});\n",
       "\n",
       "        \n",
       "            \n",
       "                var html_82c29c1f3bdd9a8dfbedc507729827b3 = $(`&lt;div id=&quot;html_82c29c1f3bdd9a8dfbedc507729827b3&quot; style=&quot;width: 100.0%; height: 100.0%;&quot;&gt;&lt;!DOCTYPE html&gt;     &lt;html&gt;     &lt;strong&gt;Building Name: &lt;/strong&gt;Estates at Acqualina&lt;br&gt;     &lt;strong&gt;Sale Price: &lt;/strong&gt;$13,625,000.00&lt;br&gt;     &lt;strong&gt;Days on Market: &lt;/strong&gt;71&lt;br&gt;     &lt;strong&gt;Listing Agent: &lt;/strong&gt;Ryan Mendell&lt;br&gt;     &lt;strong&gt;Buyer&#x27;s Agent: &lt;/strong&gt;Agatha Mileris&lt;br&gt;     &lt;strong&gt;Price sq ft: &lt;/strong&gt;$2609.15&lt;br&gt;     &lt;strong&gt;Address: &lt;/strong&gt;17901 Collins Ave 4405 Sunny Isles&lt;br&gt;     &lt;/html&gt;     &lt;/div&gt;`)[0];\n",
       "                popup_523ea8fb3815e4aaaaf6beeacf7e8c4a.setContent(html_82c29c1f3bdd9a8dfbedc507729827b3);\n",
       "            \n",
       "        \n",
       "\n",
       "        marker_eaa2bac908b8b40ce6eab18dce4101a4.bindPopup(popup_523ea8fb3815e4aaaaf6beeacf7e8c4a)\n",
       "        ;\n",
       "\n",
       "        \n",
       "    \n",
       "    \n",
       "            var marker_f4157adb2020a4c3a01e2b6244a030f2 = L.marker(\n",
       "                [25.8989594, -80.1239408],\n",
       "                {&quot;fill&quot;: true, &quot;radius&quot;: 5}\n",
       "            ).addTo(feature_group_947aae77b4f3490533cb11698ca5eafb);\n",
       "        \n",
       "    \n",
       "            var icon_566775bdd71057e0e11ac06638a48dee = L.AwesomeMarkers.icon(\n",
       "                {&quot;extraClasses&quot;: &quot;fa-rotate-0&quot;, &quot;icon&quot;: &quot;info-sign&quot;, &quot;iconColor&quot;: &quot;white&quot;, &quot;markerColor&quot;: &quot;blue&quot;, &quot;prefix&quot;: &quot;glyphicon&quot;}\n",
       "            );\n",
       "            marker_f4157adb2020a4c3a01e2b6244a030f2.setIcon(icon_566775bdd71057e0e11ac06638a48dee);\n",
       "        \n",
       "    \n",
       "        var popup_f2248db4dd95108575c2a1a1d543212a = L.popup({&quot;maxWidth&quot;: 400});\n",
       "\n",
       "        \n",
       "            \n",
       "                var html_89604f0db46b214cd55e67af3597ad95 = $(`&lt;div id=&quot;html_89604f0db46b214cd55e67af3597ad95&quot; style=&quot;width: 100.0%; height: 100.0%;&quot;&gt;&lt;!DOCTYPE html&gt;     &lt;html&gt;     &lt;strong&gt;Building Name: &lt;/strong&gt;One Bal Harbour Residence&lt;br&gt;     &lt;strong&gt;Sale Price: &lt;/strong&gt;$8,000,000.00&lt;br&gt;     &lt;strong&gt;Days on Market: &lt;/strong&gt;38&lt;br&gt;     &lt;strong&gt;Listing Agent: &lt;/strong&gt;T Kimberly Rodstein&lt;br&gt;     &lt;strong&gt;Buyer&#x27;s Agent: &lt;/strong&gt;Daniel Mordechai&lt;br&gt;     &lt;strong&gt;Price sq ft: &lt;/strong&gt;$1975.8&lt;br&gt;     &lt;strong&gt;Address: &lt;/strong&gt;10295 Collins Ave 1602 Bal&lt;br&gt;     &lt;/html&gt;     &lt;/div&gt;`)[0];\n",
       "                popup_f2248db4dd95108575c2a1a1d543212a.setContent(html_89604f0db46b214cd55e67af3597ad95);\n",
       "            \n",
       "        \n",
       "\n",
       "        marker_f4157adb2020a4c3a01e2b6244a030f2.bindPopup(popup_f2248db4dd95108575c2a1a1d543212a)\n",
       "        ;\n",
       "\n",
       "        \n",
       "    \n",
       "    \n",
       "            var marker_cca28529e44ed03bcb7221266eafc03c = L.marker(\n",
       "                [25.9478144, -80.1201988],\n",
       "                {&quot;fill&quot;: true, &quot;radius&quot;: 5}\n",
       "            ).addTo(feature_group_947aae77b4f3490533cb11698ca5eafb);\n",
       "        \n",
       "    \n",
       "            var icon_506c46909cd958dc66ce00af72407d37 = L.AwesomeMarkers.icon(\n",
       "                {&quot;extraClasses&quot;: &quot;fa-rotate-0&quot;, &quot;icon&quot;: &quot;info-sign&quot;, &quot;iconColor&quot;: &quot;white&quot;, &quot;markerColor&quot;: &quot;blue&quot;, &quot;prefix&quot;: &quot;glyphicon&quot;}\n",
       "            );\n",
       "            marker_cca28529e44ed03bcb7221266eafc03c.setIcon(icon_506c46909cd958dc66ce00af72407d37);\n",
       "        \n",
       "    \n",
       "        var popup_81bec80f70228139be607b2900174549 = L.popup({&quot;maxWidth&quot;: 400});\n",
       "\n",
       "        \n",
       "            \n",
       "                var html_987fd0e38a506d43f33594502d82aa4a = $(`&lt;div id=&quot;html_987fd0e38a506d43f33594502d82aa4a&quot; style=&quot;width: 100.0%; height: 100.0%;&quot;&gt;&lt;!DOCTYPE html&gt;     &lt;html&gt;     &lt;strong&gt;Building Name: &lt;/strong&gt;Turnberry Ocean Club&lt;br&gt;     &lt;strong&gt;Sale Price: &lt;/strong&gt;$7,425,000.00&lt;br&gt;     &lt;strong&gt;Days on Market: &lt;/strong&gt;106&lt;br&gt;     &lt;strong&gt;Listing Agent: &lt;/strong&gt;Devin Kay&lt;br&gt;     &lt;strong&gt;Buyer&#x27;s Agent: &lt;/strong&gt;Oren Alexander&lt;br&gt;     &lt;strong&gt;Price sq ft: &lt;/strong&gt;$2048.28&lt;br&gt;     &lt;strong&gt;Address: &lt;/strong&gt;18501 Collins Ave 2604 + Cabana Sunny Isles&lt;br&gt;     &lt;/html&gt;     &lt;/div&gt;`)[0];\n",
       "                popup_81bec80f70228139be607b2900174549.setContent(html_987fd0e38a506d43f33594502d82aa4a);\n",
       "            \n",
       "        \n",
       "\n",
       "        marker_cca28529e44ed03bcb7221266eafc03c.bindPopup(popup_81bec80f70228139be607b2900174549)\n",
       "        ;\n",
       "\n",
       "        \n",
       "    \n",
       "    \n",
       "            var marker_35eb958dd10c1f451f9f2cbbefa5553d = L.marker(\n",
       "                [25.7841815, -80.1902008],\n",
       "                {&quot;fill&quot;: true, &quot;radius&quot;: 5}\n",
       "            ).addTo(feature_group_947aae77b4f3490533cb11698ca5eafb);\n",
       "        \n",
       "    \n",
       "            var icon_27dcfb475447b6f36c41fbded5358d22 = L.AwesomeMarkers.icon(\n",
       "                {&quot;extraClasses&quot;: &quot;fa-rotate-0&quot;, &quot;icon&quot;: &quot;info-sign&quot;, &quot;iconColor&quot;: &quot;white&quot;, &quot;markerColor&quot;: &quot;blue&quot;, &quot;prefix&quot;: &quot;glyphicon&quot;}\n",
       "            );\n",
       "            marker_35eb958dd10c1f451f9f2cbbefa5553d.setIcon(icon_27dcfb475447b6f36c41fbded5358d22);\n",
       "        \n",
       "    \n",
       "        var popup_90e560254c907bc00f6169ccca27eb75 = L.popup({&quot;maxWidth&quot;: 400});\n",
       "\n",
       "        \n",
       "            \n",
       "                var html_bbae43cce76c6bf38635dd017e861c4e = $(`&lt;div id=&quot;html_bbae43cce76c6bf38635dd017e861c4e&quot; style=&quot;width: 100.0%; height: 100.0%;&quot;&gt;&lt;!DOCTYPE html&gt;     &lt;html&gt;     &lt;strong&gt;Building Name: &lt;/strong&gt;One Thousand Museum&lt;br&gt;     &lt;strong&gt;Sale Price: &lt;/strong&gt;$7,000,000.00&lt;br&gt;     &lt;strong&gt;Days on Market: &lt;/strong&gt;60&lt;br&gt;     &lt;strong&gt;Listing Agent: &lt;/strong&gt;Tony Rodriguez Tellaheche&lt;br&gt;     &lt;strong&gt;Buyer&#x27;s Agent: &lt;/strong&gt;Patricia Subiris-Gonzalez&lt;br&gt;     &lt;strong&gt;Price sq ft: &lt;/strong&gt;$1521.74&lt;br&gt;     &lt;strong&gt;Address: &lt;/strong&gt;1000 Biscayne Blvd 1602&lt;br&gt;     &lt;/html&gt;     &lt;/div&gt;`)[0];\n",
       "                popup_90e560254c907bc00f6169ccca27eb75.setContent(html_bbae43cce76c6bf38635dd017e861c4e);\n",
       "            \n",
       "        \n",
       "\n",
       "        marker_35eb958dd10c1f451f9f2cbbefa5553d.bindPopup(popup_90e560254c907bc00f6169ccca27eb75)\n",
       "        ;\n",
       "\n",
       "        \n",
       "    \n",
       "    \n",
       "            var marker_7e0c2a1e3dac15413bf2cb2906390c6d = L.marker(\n",
       "                [25.8768475, -80.1214662],\n",
       "                {&quot;fill&quot;: true, &quot;radius&quot;: 5}\n",
       "            ).addTo(feature_group_947aae77b4f3490533cb11698ca5eafb);\n",
       "        \n",
       "    \n",
       "            var icon_046e036b5139e02658016033ff441439 = L.AwesomeMarkers.icon(\n",
       "                {&quot;extraClasses&quot;: &quot;fa-rotate-0&quot;, &quot;icon&quot;: &quot;info-sign&quot;, &quot;iconColor&quot;: &quot;white&quot;, &quot;markerColor&quot;: &quot;blue&quot;, &quot;prefix&quot;: &quot;glyphicon&quot;}\n",
       "            );\n",
       "            marker_7e0c2a1e3dac15413bf2cb2906390c6d.setIcon(icon_046e036b5139e02658016033ff441439);\n",
       "        \n",
       "    \n",
       "        var popup_4d037098ae71958eaf603feab9191b0f = L.popup({&quot;maxWidth&quot;: 400});\n",
       "\n",
       "        \n",
       "            \n",
       "                var html_181d2dffde3fba4ecfe94e11a1090665 = $(`&lt;div id=&quot;html_181d2dffde3fba4ecfe94e11a1090665&quot; style=&quot;width: 100.0%; height: 100.0%;&quot;&gt;&lt;!DOCTYPE html&gt;     &lt;html&gt;     &lt;strong&gt;Building Name: &lt;/strong&gt;The Surf Club&lt;br&gt;     &lt;strong&gt;Sale Price: &lt;/strong&gt;$6,900,000.00&lt;br&gt;     &lt;strong&gt;Days on Market: &lt;/strong&gt;44&lt;br&gt;     &lt;strong&gt;Listing Agent: &lt;/strong&gt;Ximena Penuela&lt;br&gt;     &lt;strong&gt;Buyer&#x27;s Agent: &lt;/strong&gt;Jordan Karp&lt;br&gt;     &lt;strong&gt;Price sq ft: &lt;/strong&gt;$3230.34&lt;br&gt;     &lt;strong&gt;Address: &lt;/strong&gt;9001 Collins Ave S-910&lt;br&gt;     &lt;/html&gt;     &lt;/div&gt;`)[0];\n",
       "                popup_4d037098ae71958eaf603feab9191b0f.setContent(html_181d2dffde3fba4ecfe94e11a1090665);\n",
       "            \n",
       "        \n",
       "\n",
       "        marker_7e0c2a1e3dac15413bf2cb2906390c6d.bindPopup(popup_4d037098ae71958eaf603feab9191b0f)\n",
       "        ;\n",
       "\n",
       "        \n",
       "    \n",
       "    \n",
       "            var marker_14ddef8017a6ad88dd761673450c6f59 = L.marker(\n",
       "                [25.95174, -80.119755],\n",
       "                {&quot;fill&quot;: true, &quot;radius&quot;: 5}\n",
       "            ).addTo(feature_group_947aae77b4f3490533cb11698ca5eafb);\n",
       "        \n",
       "    \n",
       "            var icon_0adf31d6fa3acbbeff2cfaf178050f38 = L.AwesomeMarkers.icon(\n",
       "                {&quot;extraClasses&quot;: &quot;fa-rotate-0&quot;, &quot;icon&quot;: &quot;info-sign&quot;, &quot;iconColor&quot;: &quot;white&quot;, &quot;markerColor&quot;: &quot;blue&quot;, &quot;prefix&quot;: &quot;glyphicon&quot;}\n",
       "            );\n",
       "            marker_14ddef8017a6ad88dd761673450c6f59.setIcon(icon_0adf31d6fa3acbbeff2cfaf178050f38);\n",
       "        \n",
       "    \n",
       "        var popup_7a534ce3803537fccc15c5f4a73f195f = L.popup({&quot;maxWidth&quot;: 400});\n",
       "\n",
       "        \n",
       "            \n",
       "                var html_a770d06deea17806e946a187ab33c6df = $(`&lt;div id=&quot;html_a770d06deea17806e946a187ab33c6df&quot; style=&quot;width: 100.0%; height: 100.0%;&quot;&gt;&lt;!DOCTYPE html&gt;     &lt;html&gt;     &lt;strong&gt;Building Name: &lt;/strong&gt;Armani&lt;br&gt;     &lt;strong&gt;Sale Price: &lt;/strong&gt;$3,800,000.00&lt;br&gt;     &lt;strong&gt;Days on Market: &lt;/strong&gt;249&lt;br&gt;     &lt;strong&gt;Listing Agent: &lt;/strong&gt;Roman Sinyavsky&lt;br&gt;     &lt;strong&gt;Buyer&#x27;s Agent: &lt;/strong&gt;Wendy Cohen&lt;br&gt;     &lt;strong&gt;Price sq ft: &lt;/strong&gt;$1673.27&lt;br&gt;     &lt;strong&gt;Address: &lt;/strong&gt;18975 Collins Ave 2703 Sunny Isles&lt;br&gt;     &lt;/html&gt;     &lt;/div&gt;`)[0];\n",
       "                popup_7a534ce3803537fccc15c5f4a73f195f.setContent(html_a770d06deea17806e946a187ab33c6df);\n",
       "            \n",
       "        \n",
       "\n",
       "        marker_14ddef8017a6ad88dd761673450c6f59.bindPopup(popup_7a534ce3803537fccc15c5f4a73f195f)\n",
       "        ;\n",
       "\n",
       "        \n",
       "    \n",
       "    \n",
       "            var marker_4e949915fc5f03c4a4e797fd892f46c6 = L.marker(\n",
       "                [25.9379684, -80.1207198],\n",
       "                {&quot;fill&quot;: true, &quot;radius&quot;: 5}\n",
       "            ).addTo(feature_group_947aae77b4f3490533cb11698ca5eafb);\n",
       "        \n",
       "    \n",
       "            var icon_7d4084c66c2988a5ff1a36c8ee613ae0 = L.AwesomeMarkers.icon(\n",
       "                {&quot;extraClasses&quot;: &quot;fa-rotate-0&quot;, &quot;icon&quot;: &quot;info-sign&quot;, &quot;iconColor&quot;: &quot;white&quot;, &quot;markerColor&quot;: &quot;blue&quot;, &quot;prefix&quot;: &quot;glyphicon&quot;}\n",
       "            );\n",
       "            marker_4e949915fc5f03c4a4e797fd892f46c6.setIcon(icon_7d4084c66c2988a5ff1a36c8ee613ae0);\n",
       "        \n",
       "    \n",
       "        var popup_78fc111d4cf256e304423ecdf281fdc9 = L.popup({&quot;maxWidth&quot;: 400});\n",
       "\n",
       "        \n",
       "            \n",
       "                var html_f787729ec24b64a6c99ca360b0592a95 = $(`&lt;div id=&quot;html_f787729ec24b64a6c99ca360b0592a95&quot; style=&quot;width: 100.0%; height: 100.0%;&quot;&gt;&lt;!DOCTYPE html&gt;     &lt;html&gt;     &lt;strong&gt;Building Name: &lt;/strong&gt;Chateau Beach&lt;br&gt;     &lt;strong&gt;Sale Price: &lt;/strong&gt;$3,450,000.00&lt;br&gt;     &lt;strong&gt;Days on Market: &lt;/strong&gt;255&lt;br&gt;     &lt;strong&gt;Listing Agent: &lt;/strong&gt;Ezequiel Raimundez&lt;br&gt;     &lt;strong&gt;Buyer&#x27;s Agent: &lt;/strong&gt;Canan Arslanlar&lt;br&gt;     &lt;strong&gt;Price sq ft: &lt;/strong&gt;$1131.52&lt;br&gt;     &lt;strong&gt;Address: &lt;/strong&gt;17475 Collins Ave 2702 Sunny Isles&lt;br&gt;     &lt;/html&gt;     &lt;/div&gt;`)[0];\n",
       "                popup_78fc111d4cf256e304423ecdf281fdc9.setContent(html_f787729ec24b64a6c99ca360b0592a95);\n",
       "            \n",
       "        \n",
       "\n",
       "        marker_4e949915fc5f03c4a4e797fd892f46c6.bindPopup(popup_78fc111d4cf256e304423ecdf281fdc9)\n",
       "        ;\n",
       "\n",
       "        \n",
       "    \n",
       "    \n",
       "            var marker_02bbac85fd6d22ef6aa86435fb0c6bc2 = L.marker(\n",
       "                [25.7973813, -80.1271903],\n",
       "                {&quot;fill&quot;: true, &quot;radius&quot;: 5}\n",
       "            ).addTo(feature_group_947aae77b4f3490533cb11698ca5eafb);\n",
       "        \n",
       "    \n",
       "            var icon_5add01cf9c0bf635643741d4960354d3 = L.AwesomeMarkers.icon(\n",
       "                {&quot;extraClasses&quot;: &quot;fa-rotate-0&quot;, &quot;icon&quot;: &quot;info-sign&quot;, &quot;iconColor&quot;: &quot;white&quot;, &quot;markerColor&quot;: &quot;blue&quot;, &quot;prefix&quot;: &quot;glyphicon&quot;}\n",
       "            );\n",
       "            marker_02bbac85fd6d22ef6aa86435fb0c6bc2.setIcon(icon_5add01cf9c0bf635643741d4960354d3);\n",
       "        \n",
       "    \n",
       "        var popup_ebda42ef4644a0ded5564a4d7eb42dd0 = L.popup({&quot;maxWidth&quot;: 400});\n",
       "\n",
       "        \n",
       "            \n",
       "                var html_15cdd7e077fbacc81d002a848961b1ed = $(`&lt;div id=&quot;html_15cdd7e077fbacc81d002a848961b1ed&quot; style=&quot;width: 100.0%; height: 100.0%;&quot;&gt;&lt;!DOCTYPE html&gt;     &lt;html&gt;     &lt;strong&gt;Building Name: &lt;/strong&gt;W South Beach&lt;br&gt;     &lt;strong&gt;Sale Price: &lt;/strong&gt;$3,347,500.00&lt;br&gt;     &lt;strong&gt;Days on Market: &lt;/strong&gt;42&lt;br&gt;     &lt;strong&gt;Listing Agent: &lt;/strong&gt;Brigitte Lina&lt;br&gt;     &lt;strong&gt;Buyer&#x27;s Agent: &lt;/strong&gt;Maria Kunigonis&lt;br&gt;     &lt;strong&gt;Price sq ft: &lt;/strong&gt;$2986.17&lt;br&gt;     &lt;strong&gt;Address: &lt;/strong&gt;2201 Collins Ave 1411 Miami&lt;br&gt;     &lt;/html&gt;     &lt;/div&gt;`)[0];\n",
       "                popup_ebda42ef4644a0ded5564a4d7eb42dd0.setContent(html_15cdd7e077fbacc81d002a848961b1ed);\n",
       "            \n",
       "        \n",
       "\n",
       "        marker_02bbac85fd6d22ef6aa86435fb0c6bc2.bindPopup(popup_ebda42ef4644a0ded5564a4d7eb42dd0)\n",
       "        ;\n",
       "\n",
       "        \n",
       "    \n",
       "    \n",
       "            var tile_layer_ed612da3941f33159a7dd31c99440acd = L.tileLayer(\n",
       "                &quot;https://{s}.tile.openstreetmap.org/{z}/{x}/{y}.png&quot;,\n",
       "                {&quot;attribution&quot;: &quot;Data by \\u0026copy; \\u003ca href=\\&quot;http://openstreetmap.org\\&quot;\\u003eOpenStreetMap\\u003c/a\\u003e, under \\u003ca href=\\&quot;http://www.openstreetmap.org/copyright\\&quot;\\u003eODbL\\u003c/a\\u003e.&quot;, &quot;detectRetina&quot;: false, &quot;maxNativeZoom&quot;: 18, &quot;maxZoom&quot;: 18, &quot;minZoom&quot;: 0, &quot;noWrap&quot;: false, &quot;opacity&quot;: 1, &quot;subdomains&quot;: &quot;abc&quot;, &quot;tms&quot;: false}\n",
       "            ).addTo(map_96eb8b43318c976d7ea8497bd2169062);\n",
       "        \n",
       "    \n",
       "            var layer_control_6fcdbe61e1c711dc0dc3c0522874e63d = {\n",
       "                base_layers : {\n",
       "                },\n",
       "                overlays :  {\n",
       "                    &quot;Top Sale&quot; : feature_group_ff39d3ef6e5a9f4038b2649cc70b15b1,\n",
       "                    &quot;All other sales&quot; : feature_group_947aae77b4f3490533cb11698ca5eafb,\n",
       "                },\n",
       "            };\n",
       "            L.control.layers(\n",
       "                layer_control_6fcdbe61e1c711dc0dc3c0522874e63d.base_layers,\n",
       "                layer_control_6fcdbe61e1c711dc0dc3c0522874e63d.overlays,\n",
       "                {&quot;autoZIndex&quot;: true, &quot;collapsed&quot;: false, &quot;position&quot;: &quot;topright&quot;}\n",
       "            ).addTo(map_96eb8b43318c976d7ea8497bd2169062);\n",
       "        \n",
       "&lt;/script&gt;\" style=\"position:absolute;width:100%;height:100%;left:0;top:0;border:none !important;\" allowfullscreen webkitallowfullscreen mozallowfullscreen></iframe></div></div>"
      ],
      "text/plain": [
       "<folium.folium.Map at 0x7fd30a8ece50>"
      ]
     },
     "execution_count": 19,
     "metadata": {},
     "output_type": "execute_result"
    }
   ],
   "source": [
    "import folium\n",
    "from folium.plugins import MarkerCluster\n",
    "\n",
    "m = folium.Map(location=df[[\"lat\", \"lon\"]].mean().to_list(), zoom_start=10)\n",
    "\n",
    "title_html = '''\n",
    "              <h3 align=\"center\" style=\"font-size:16px\"><b>{}</b></h3>\n",
    "             '''.format(f'Recent Miami-Dade Condo Sales ')\n",
    "\n",
    "caption_html = '''\n",
    "                <p align=\"center\" style=\"vertical-align: bottom; font-size:13px\"><i>{}</i></p>\n",
    "                '''.format(f'{week_starting} - {week_ending}')\n",
    "\n",
    "\n",
    "### Create map container ###\n",
    "m = folium.Map(location=df[[\"lat\", \"lon\"]].mean().to_list(),zoom_start=9.5,tiles=None)\n",
    "\n",
    "# Create two FeatureGroups for different color pins\n",
    "fg_blue = folium.FeatureGroup(name='All other sales')\n",
    "fg_orange = folium.FeatureGroup(name='Top Sale')\n",
    "\n",
    "for index, row in df.iterrows():\n",
    "    # Add the markers to the appropriate FeatureGroup based on the color\n",
    "    if row['COLOR'] == 'blue':\n",
    "        marker = folium.Marker(\n",
    "            location=[row['lat'], row['lon']],\n",
    "            radius=5,\n",
    "            fill=True,\n",
    "            icon=folium.Icon(color=row['COLOR']),\n",
    "            popup=folium.Popup(popup_html(row), max_width=400))\n",
    "        marker.add_to(fg_blue)\n",
    "    else:\n",
    "        marker = folium.Marker(\n",
    "            location=[row['lat'], row['lon']],\n",
    "            radius=5,\n",
    "            fill=True,\n",
    "            icon=folium.Icon(color=row['COLOR']),\n",
    "            popup=folium.Popup(popup_html(row), max_width=400))\n",
    "        marker.add_to(fg_orange)\n",
    "\n",
    "# Add the FeatureGroups to the map\n",
    "fg_orange.add_to(m)\n",
    "fg_blue.add_to(m)\n",
    "\n",
    "folium.TileLayer('OpenStreetMap',control=False).add_to(m)\n",
    "\n",
    "# Add LayerControl to the map\n",
    "folium.map.LayerControl(collapsed=False).add_to(m)\n",
    "m.get_root().html.add_child(folium.Element(title_html))\n",
    "m.get_root().html.add_child(folium.Element(caption_html))\n",
    "            \n",
    "# Display map\n",
    "m"
   ]
  },
  {
   "cell_type": "code",
   "execution_count": 20,
   "metadata": {},
   "outputs": [],
   "source": [
    "m.save('index.html')"
   ]
  },
  {
   "cell_type": "markdown",
   "metadata": {},
   "source": [
    "## Data snagger"
   ]
  },
  {
   "cell_type": "code",
   "execution_count": 21,
   "metadata": {},
   "outputs": [],
   "source": [
    "### Set up formatting ###\n",
    "BR = '\\n'\n",
    "\n",
    "ME = '\\033[1m' + 'Most Expensive' + '\\033[0m'\n",
    "LE = '\\033[1m' + 'Least Expensive' + '\\033[0m'\n",
    "\n",
    "MAX_PSF = '\\033[1m' + 'Highest Price Per Square Foot' + '\\033[0m'\n",
    "MIN_PSF = '\\033[1m' + 'Lowest Price Per Square Foot' + '\\033[0m'\n",
    "\n",
    "DAYS_MAX = '\\033[1m' + 'Most Days on Market' + '\\033[0m'\n",
    "DAYS_MIN = '\\033[1m' + 'Fewest Days on Market' + '\\033[0m'"
   ]
  },
  {
   "cell_type": "code",
   "execution_count": 22,
   "metadata": {},
   "outputs": [
    {
     "name": "stdout",
     "output_type": "stream",
     "text": [
      "\u001b[1mMost Expensive\u001b[0m\n",
      "Four Seasons Surf Club, 9001 Collins Ave S-901 | Price $24,000,000 | $4,058 psf | Listing agent: Jacqueline Feldman with One Sotheby's International Realty | Buyer's agent: Miltiadis Kastanis with Douglas Elliman | Days on market: 260\n",
      "\u001b[1mLeast Expensive\u001b[0m\n",
      "W South Beach, 2201 Collins Ave 1411 Miami | Price $3,347,500 | $2,986 psf | Listing agent: Brigitte Lina with One Sotheby's International Realty | Buyer's agent: Maria Kunigonis with Compass Florida, LLC. | Days on market: 42\n",
      "\u001b[1mHighest Price Per Square Foot\u001b[0m\n",
      "Four Seasons Surf Club, 9001 Collins Ave S-901 | Price $24,000,000 | $4,058 psf | Listing agent: Jacqueline Feldman with One Sotheby's International Realty | Buyer's agent: Miltiadis Kastanis with Douglas Elliman | Days on market: 260\n",
      "\u001b[1mLowest Price Per Square Foot\u001b[0m\n",
      "Chateau Beach, 17475 Collins Ave 2702 Sunny Isles | Price $3,450,000 | $1,132 psf | Listing agent: Ezequiel Raimundez with Trust International Rlty Inc. | Buyer's agent: Canan Arslanlar with Coldwell Banker Realty | Days on market: 255\n",
      "\u001b[1mMost Days on Market\u001b[0m\n",
      "Four Seasons Surf Club, 9001 Collins Ave S-901 | Price $24,000,000 | $4,058 psf | Listing agent: Jacqueline Feldman with One Sotheby's International Realty | Buyer's agent: Miltiadis Kastanis with Douglas Elliman | Days on market: 260\n",
      "\u001b[1mFewest Days on Market\u001b[0m\n",
      "One Bal Harbour Residence, 10295 Collins Ave 1602 Bal | Price $8,000,000 | $1,976 psf | Listing agent: T Kimberly Rodstein with Douglas Elliman | Buyer's agent: Daniel Mordechai with London Foster Realty | Days on market: 38\n"
     ]
    }
   ],
   "source": [
    "### Highest and lowest sale price ###\n",
    "print(f\"{ME}{BR}{df.loc[df['int_Sale_Price'].idxmax()]['building_name']}, {df.loc[df['int_Sale_Price'].idxmax()]['address']} | Price ${df.loc[df['int_Sale_Price'].idxmax()]['int_Sale_Price']:,.0f} | ${df.loc[df['int_Sale_Price'].idxmax()]['price_per_sqft']:,.0f} psf | Listing agent: {df.loc[df['int_Sale_Price'].idxmax()]['Agent']} with {df.loc[df['int_Sale_Price'].idxmax()]['Listing Broker']} | Buyer's agent: {df.loc[df['int_Sale_Price'].idxmax()]['Buyer Agent']} with {df.loc[df['int_Sale_Price'].idxmax()]['Buyer Broker']} | Days on market: {df.loc[df['int_Sale_Price'].idxmax()]['days_on_market']}\")\n",
    "print(f\"{LE}{BR}{df.loc[df['int_Sale_Price'].idxmin()]['building_name']}, {df.loc[df['int_Sale_Price'].idxmin()]['address']} | Price ${df.loc[df['int_Sale_Price'].idxmin()]['int_Sale_Price']:,.0f} | ${df.loc[df['int_Sale_Price'].idxmin()]['price_per_sqft']:,.0f} psf | Listing agent: {df.loc[df['int_Sale_Price'].idxmin()]['Agent']} with {df.loc[df['int_Sale_Price'].idxmin()]['Listing Broker']} | Buyer's agent: {df.loc[df['int_Sale_Price'].idxmin()]['Buyer Agent']} with {df.loc[df['int_Sale_Price'].idxmin()]['Buyer Broker']} | Days on market: {df.loc[df['int_Sale_Price'].idxmin()]['days_on_market']}\")\n",
    "### Highest and lowest psf ###\n",
    "print(f\"{MAX_PSF}{BR}{df.loc[df['price_per_sqft'].idxmax()]['building_name']}, {df.loc[df['price_per_sqft'].idxmax()]['address']} | Price ${df.loc[df['price_per_sqft'].idxmax()]['int_Sale_Price']:,.0f} | ${df.loc[df['price_per_sqft'].idxmax()]['price_per_sqft']:,.0f} psf | Listing agent: {df.loc[df['price_per_sqft'].idxmax()]['Agent']} with {df.loc[df['price_per_sqft'].idxmax()]['Listing Broker']} | Buyer's agent: {df.loc[df['price_per_sqft'].idxmax()]['Buyer Agent']} with {df.loc[df['price_per_sqft'].idxmax()]['Buyer Broker']} | Days on market: {df.loc[df['price_per_sqft'].idxmax()]['days_on_market']}\")\n",
    "print(f\"{MIN_PSF}{BR}{df.loc[df['price_per_sqft'].idxmin()]['building_name']}, {df.loc[df['price_per_sqft'].idxmin()]['address']} | Price ${df.loc[df['price_per_sqft'].idxmin()]['int_Sale_Price']:,.0f} | ${df.loc[df['price_per_sqft'].idxmin()]['price_per_sqft']:,.0f} psf | Listing agent: {df.loc[df['price_per_sqft'].idxmin()]['Agent']} with {df.loc[df['price_per_sqft'].idxmin()]['Listing Broker']} | Buyer's agent: {df.loc[df['price_per_sqft'].idxmin()]['Buyer Agent']} with {df.loc[df['price_per_sqft'].idxmin()]['Buyer Broker']} | Days on market: {df.loc[df['price_per_sqft'].idxmin()]['days_on_market']}\")\n",
    "### Highest and lowest days on market ###\n",
    "print(f\"{DAYS_MAX}{BR}{df.loc[df['days_on_market'].idxmax()]['building_name']}, {df.loc[df['days_on_market'].idxmax()]['address']} | Price ${df.loc[df['days_on_market'].idxmax()]['int_Sale_Price']:,.0f} | ${df.loc[df['days_on_market'].idxmax()]['price_per_sqft']:,.0f} psf | Listing agent: {df.loc[df['days_on_market'].idxmax()]['Agent']} with {df.loc[df['days_on_market'].idxmax()]['Listing Broker']} | Buyer's agent: {df.loc[df['days_on_market'].idxmax()]['Buyer Agent']} with {df.loc[df['days_on_market'].idxmax()]['Buyer Broker']} | Days on market: {df.loc[df['days_on_market'].idxmax()]['days_on_market']}\")\n",
    "print(f\"{DAYS_MIN}{BR}{df.loc[df['days_on_market'].idxmin()]['building_name']}, {df.loc[df['days_on_market'].idxmin()]['address']} | Price ${df.loc[df['days_on_market'].idxmin()]['int_Sale_Price']:,.0f} | ${df.loc[df['days_on_market'].idxmin()]['price_per_sqft']:,.0f} psf | Listing agent: {df.loc[df['days_on_market'].idxmin()]['Agent']} with {df.loc[df['days_on_market'].idxmin()]['Listing Broker']} | Buyer's agent: {df.loc[df['days_on_market'].idxmin()]['Buyer Agent']} with {df.loc[df['days_on_market'].idxmin()]['Buyer Broker']} | Days on market: {df.loc[df['days_on_market'].idxmin()]['days_on_market']}\")"
   ]
  },
  {
   "cell_type": "code",
   "execution_count": 23,
   "metadata": {},
   "outputs": [
    {
     "data": {
      "text/plain": [
       "118.0"
      ]
     },
     "execution_count": 23,
     "metadata": {},
     "output_type": "execute_result"
    }
   ],
   "source": [
    "df['days_on_market'].mean()"
   ]
  },
  {
   "cell_type": "markdown",
   "metadata": {},
   "source": [
    "## Map URL snagger"
   ]
  },
  {
   "cell_type": "markdown",
   "metadata": {},
   "source": [
    "Map template URL: `https://trd-digital.github.io/trd-news-interactive-maps/{map-folder-name}`"
   ]
  },
  {
   "cell_type": "code",
   "execution_count": 24,
   "metadata": {},
   "outputs": [
    {
     "name": "stdout",
     "output_type": "stream",
     "text": [
      "https://trd-digital.github.io/trd-news-interactive-maps/condo_sales_week_ending_02172024\n"
     ]
    }
   ],
   "source": [
    "base_name = 'https://trd-digital.github.io/trd-news-interactive-maps/'\n",
    "\n",
    "cwd = os.getcwd()\n",
    "\n",
    "cwd = cwd.split('/')\n",
    "\n",
    "final_name = base_name + cwd[-1]\n",
    "print(final_name)"
   ]
  },
  {
   "cell_type": "markdown",
   "metadata": {},
   "source": [
    "# CREATE TEMPLATE "
   ]
  },
  {
   "cell_type": "code",
   "execution_count": 25,
   "metadata": {},
   "outputs": [],
   "source": [
    "df['muni_name'] = df['building_address_city'].str.split('\\r').str[-1]"
   ]
  },
  {
   "cell_type": "code",
   "execution_count": 26,
   "metadata": {},
   "outputs": [],
   "source": [
    "muni_set = set(df['muni_name'])"
   ]
  },
  {
   "cell_type": "code",
   "execution_count": 27,
   "metadata": {},
   "outputs": [],
   "source": [
    "df['building_address_city_clean'] = df['building_address_city'].str.split('\\r')"
   ]
  },
  {
   "cell_type": "code",
   "execution_count": 28,
   "metadata": {},
   "outputs": [],
   "source": [
    "top_sale = df.at[1, 'building_address_city_clean']\n",
    "second_top_sale = df.at[2,'building_address_city_clean']"
   ]
  },
  {
   "cell_type": "code",
   "execution_count": 29,
   "metadata": {},
   "outputs": [],
   "source": [
    "### Average Sales Price ###\n",
    "if float(average_sale_price) > float(previous_week_average_sales_price):\n",
    "    change = 'higher'\n",
    "    difference = float(average_sale_price) - float(previous_week_average_sales_price)\n",
    "else:\n",
    "    change = 'lower'\n",
    "    difference = float(previous_week_average_sales_price) - float(average_sale_price)\n",
    "    \n",
    "### Total condo dollar volume ###\n",
    "if float(current_week_condo_sales_total) > float(previous_week_condo_sales_total):\n",
    "    seo_head = 'Rises'\n",
    "elif float(previous_week_condo_sales_total) < float(current_week_condo_sales_total):\n",
    "    seo_head = 'Falls'\n",
    "else:\n",
    "    seo_head = 'Unchanged'\n",
    "    \n",
    "\n",
    "### Average PSF ###    \n",
    "if float(average_price_psf) > float(previous_week_average_psf):\n",
    "    psf_rf = 'rose'\n",
    "elif float(average_price_psf) < float(previous_week_average_psf):\n",
    "    psf_rf ='fell'\n",
    "else:\n",
    "    psf_rf = 'equaled'"
   ]
  },
  {
   "cell_type": "code",
   "execution_count": 30,
   "metadata": {},
   "outputs": [
    {
     "data": {
      "text/plain": [
       "477096.0"
      ]
     },
     "execution_count": 30,
     "metadata": {},
     "output_type": "execute_result"
    }
   ],
   "source": [
    "difference"
   ]
  },
  {
   "cell_type": "code",
   "execution_count": 38,
   "metadata": {},
   "outputs": [],
   "source": [
    "story_string = f'''\n",
    "\\033[1mHED:\\033[0m {df.loc[df['int_Sale_Price'].idxmax()]['building_name']} tops Miami-Dade weekly condo sales \n",
    "\\033[1mDEK:\\033[0m Top 10 sales ranged from {df.at[10,'Sale Price']} to {df.at[1,'Sale Price']}\n",
    "\\033[1mFEATURED HED:\\033[0m\n",
    "\\033[1mSEO HED:\\033[0m Miami-Dade County Weekly Condo Report \n",
    "\\033[1mSEO DESCRIPTION:\\033[0m Miami-Dade County’s condo sales XXXXXXX\n",
    "\\033[1mAUTHOR:\\033[0m Adam Farence\n",
    "\\033[1mRESEARCH:\\033[0m \n",
    "\\033[1mSocial:\\033[0m #MiamiDade condo sales XXXXX\n",
    "\\033[1mART:\\033[0m\n",
    "\n",
    "Credit condo.com with the image below and the PDF chart in the story\n",
    "{top_condo_image_url}\n",
    "\n",
    "Interactive map\n",
    "\n",
    "*Please provide credits for any images that you share\n",
    "\\033[1mSTORY TYPE:\\033[0m Report\n",
    "\\033[1mSECTOR\\033[0m (formerly CATEGORY): Residential Real Estate\n",
    "\\033[1mTAGS:\\033[0m condo sales, Miami-Dade County, weekly condo sales, {', '.join(str(x) for x in muni_set)}\n",
    "\n",
    "\\033[1mNeighborhood:\\033[0m \n",
    "\\033[1mProperty:\\033[0m\n",
    "\\033[1mProperty Type:\\033[0m\n",
    "\\033[1mCompanies:\\033[0m \n",
    "\\033[1mPeople:\\033[0m\n",
    "\\033[1mIssues:\\033[0m\n",
    "\\033[1mRegion:\\033[0m\n",
    "\\033[1m[]Show in Yahoo Feed\\033[0m\n",
    "\n",
    "Miami-Dade County’s NEWS PEG HERE.\n",
    "\n",
    "Brokers closed {int(current_week_condo_sales):,.0f} condo sales totaling ${float(current_week_condo_sales_total):,.0f} million from {week_starting} to {week_ending}. The previous week, brokers closed {previous_week_condo_sales} condo sales totaling ${int(previous_week_condo_sales_total):,.0f}.\n",
    "\n",
    "Last week’s units sold for an average of ${float(average_sale_price):,.0f}, {change} than the ${float(previous_week_average_sales_price):,.0f} sales average from the previous week. The average price per square foot {psf_rf} to ${average_price_psf} from ${previous_week_average_psf}, according to data from condo.com. Condos closed after an average of {average_days_on_market} days on the market.\n",
    "\n",
    "For the top 10 sales, prices ranged from {df.at[10,'Sale Price']} to {df.at[1,'Sale Price']}. \n",
    "\n",
    "{top_sale[0]}, at {top_sale[1]} in {top_sale[2]} took the top spot with a {df.at[1,'Sale Price']} million closing. {df.at[1,'Agent']} with {df.at[1,'Listing Broker']} had the listing. {df.at[1,'Buyer Agent']} with {df.at[1,'Buyer Broker']} represented the buyer. The sale closed after {df.at[1,'days_on_market']} days on the market at ${df.at[1,'price_per_sqft']:,} per square foot.\n",
    "\n",
    "{second_top_sale[0]} in {second_top_sale[2]}, at {second_top_sale[1]}, closed for the second highest amount, {df.at[2,'Sale Price']}, or ${df.at[2,'price_per_sqft']:,} per square foot, after {df.at[2,'days_on_market']} days on the market. {df.at[2,'Agent']} with {df.at[2,'Listing Broker']} had the listing. {df.at[2,'Buyer Agent']} with {df.at[2,'Buyer Broker']} represented the buyer.\n",
    "\n",
    "<figure>\n",
    " <div class=\"container\">\n",
    "   <div class=\"iframe-wrap\">\n",
    "   <iframe src=\"{final_name}\" width=\"100%\" height=\"600\" frameBorder=\"0\" scrolling=\"no\"></iframe>\n",
    "  </div>\n",
    "</div>\n",
    "  <figcaption align=\"right\"><a href=\"https://leafletjs.com/\">Leaflet</a> map created by Adam Farence | Data by © <a href=\"https://www.openstreetmap.org/#map=4/38.01/-95.84\"> OpenStreetMap</a>, under <a href=\"https://www.openstreetmap.org/copyright\">ODbl.</a></figcaption>\n",
    "</figure>\n",
    "\n",
    "Here’s a breakdown of the top 10 sales from {week_starting} to {week_ending}:\n",
    "'''\n",
    "\n",
    "# print(story_string)"
   ]
  },
  {
   "cell_type": "code",
   "execution_count": 39,
   "metadata": {},
   "outputs": [],
   "source": [
    "story_checklist = '''\n",
    "\\033[1mRemember to...:\\033[0m\n",
    "\n",
    "1. Double check all names. Sometimes names differ between the hed and the body of the story.\n",
    "    For example, \"Surf Club Four Seasons\" in the HED and \"Four Seasons Residences at the Surfclub\"\n",
    "    in the body.\n",
    "    \n",
    "2. Add in context, if available. When there's a high-priced condo sale, check and see if there's\n",
    "    a story. If there is, add in some extra details and link back to it.\n",
    "    \n",
    "3. Add in a screenshot of the sales chart.\n",
    "'''"
   ]
  },
  {
   "cell_type": "code",
   "execution_count": 40,
   "metadata": {},
   "outputs": [
    {
     "name": "stdout",
     "output_type": "stream",
     "text": [
      "\n",
      "\u001b[1mHED:\u001b[0m Four Seasons Surf Club tops Miami-Dade weekly condo sales \n",
      "\u001b[1mDEK:\u001b[0m Top 10 sales ranged from $3,347,500.00 to $24,000,000.00\n",
      "\u001b[1mFEATURED HED:\u001b[0m\n",
      "\u001b[1mSEO HED:\u001b[0m Miami-Dade County Weekly Condo Report \n",
      "\u001b[1mSEO DESCRIPTION:\u001b[0m Miami-Dade County’s condo sales XXXXXXX\n",
      "\u001b[1mAUTHOR:\u001b[0m Adam Farence\n",
      "\u001b[1mRESEARCH:\u001b[0m \n",
      "\u001b[1mSocial:\u001b[0m #MiamiDade condo sales XXXXX\n",
      "\u001b[1mART:\u001b[0m\n",
      "\n",
      "Credit condo.com with the image below and the PDF chart in the story\n",
      "https://www.condo.com/building/The-Surf-Club-Four-Seasons-Surfside-FL-33154-91693612\n",
      "\n",
      "Interactive map\n",
      "\n",
      "*Please provide credits for any images that you share\n",
      "\u001b[1mSTORY TYPE:\u001b[0m Report\n",
      "\u001b[1mSECTOR\u001b[0m (formerly CATEGORY): Residential Real Estate\n",
      "\u001b[1mTAGS:\u001b[0m condo sales, Miami-Dade County, weekly condo sales, Miami, Sunny Isles Beach, Surfside, Miami Beach, Bal Harbour\n",
      "\n",
      "\u001b[1mNeighborhood:\u001b[0m \n",
      "\u001b[1mProperty:\u001b[0m\n",
      "\u001b[1mProperty Type:\u001b[0m\n",
      "\u001b[1mCompanies:\u001b[0m \n",
      "\u001b[1mPeople:\u001b[0m\n",
      "\u001b[1mIssues:\u001b[0m\n",
      "\u001b[1mRegion:\u001b[0m\n",
      "\u001b[1m[]Show in Yahoo Feed\u001b[0m\n",
      "\n",
      "Miami-Dade County’s NEWS PEG HERE.\n",
      "\n",
      "Brokers closed 141 condo sales totaling $167,441,229 million from Feb. 11th to Feb. 17th. The previous week, brokers closed 80 condo sales totaling $56,834,370.\n",
      "\n",
      "Last week’s units sold for an average of $1,187,526, higher than the $710,430 sales average from the previous week. The average price per square foot rose to $642 from $548, according to data from condo.com. Condos closed after an average of 93 days on the market.\n",
      "\n",
      "For the top 10 sales, prices ranged from $3,347,500.00 to $24,000,000.00. \n",
      "\n",
      "Four Seasons Surf Club, at 9001 Collins Ave S-901 in Surfside took the top spot with a $24,000,000.00 million closing. Jacqueline Feldman with One Sotheby's International Realty had the listing. Miltiadis Kastanis with Douglas Elliman represented the buyer. The sale closed after 260 days on the market at $4,058.17 per square foot.\n",
      "\n",
      "Fendi Chateau Residences in Surfside, at 9349 Collins Ave 901, closed for the second highest amount, $15,100,000.00, or $3,680.23 per square foot, after 55 days on the market. Menachem Fellig with Compass Florida, LLC. had the listing. Joel Lusky with Brokerage S. FL. Real Estate represented the buyer.\n",
      "\n",
      "<figure>\n",
      " <div class=\"container\">\n",
      "   <div class=\"iframe-wrap\">\n",
      "   <iframe src=\"https://trd-digital.github.io/trd-news-interactive-maps/condo_sales_week_ending_02172024\" width=\"100%\" height=\"800\" frameBorder=\"0\" scrolling=\"no\"></iframe>\n",
      "  </div>\n",
      "</div>\n",
      "  <figcaption align=\"right\"><a href=\"https://leafletjs.com/\">Leaflet</a> map created by Adam Farence | Data by © <a href=\"https://www.openstreetmap.org/#map=4/38.01/-95.84\"> OpenStreetMap</a>, under <a href=\"https://www.openstreetmap.org/copyright\">ODbl.</a></figcaption>\n",
      "</figure>\n",
      "\n",
      "Here’s a breakdown of the top 10 sales from Feb. 11th to Feb. 17th:\n",
      "\n",
      "\u001b[1mMost Expensive\u001b[0m\n",
      "Four Seasons Surf Club, 9001 Collins Ave S-901 | Price $24,000,000 | $4,058 psf | Listing agent: Jacqueline Feldman with One Sotheby's International Realty | Buyer's agent: Miltiadis Kastanis with Douglas Elliman | Days on market: 260\n",
      "\u001b[1mLeast Expensive\u001b[0m\n",
      "W South Beach, 2201 Collins Ave 1411 Miami | Price $3,347,500 | $2,986 psf | Listing agent: Brigitte Lina with One Sotheby's International Realty | Buyer's agent: Maria Kunigonis with Compass Florida, LLC. | Days on market: 42\n",
      "\u001b[1mHighest Price Per Square Foot\u001b[0m\n",
      "Four Seasons Surf Club, 9001 Collins Ave S-901 | Price $24,000,000 | $4,058 psf | Listing agent: Jacqueline Feldman with One Sotheby's International Realty | Buyer's agent: Miltiadis Kastanis with Douglas Elliman | Days on market: 260\n",
      "\u001b[1mLowest Price Per Square Foot\u001b[0m\n",
      "Chateau Beach, 17475 Collins Ave 2702 Sunny Isles | Price $3,450,000 | $1,132 psf | Listing agent: Ezequiel Raimundez with Trust International Rlty Inc. | Buyer's agent: Canan Arslanlar with Coldwell Banker Realty | Days on market: 255\n",
      "\u001b[1mMost Days on Market\u001b[0m\n",
      "Four Seasons Surf Club, 9001 Collins Ave S-901 | Price $24,000,000 | $4,058 psf | Listing agent: Jacqueline Feldman with One Sotheby's International Realty | Buyer's agent: Miltiadis Kastanis with Douglas Elliman | Days on market: 260\n",
      "\u001b[1mFewest Days on Market\u001b[0m\n",
      "One Bal Harbour Residence, 10295 Collins Ave 1602 Bal | Price $8,000,000 | $1,976 psf | Listing agent: T Kimberly Rodstein with Douglas Elliman | Buyer's agent: Daniel Mordechai with London Foster Realty | Days on market: 38\n",
      "\n",
      "\u001b[1mRemember to...:\u001b[0m\n",
      "\n",
      "1. Double check all names. Sometimes names differ between the hed and the body of the story.\n",
      "    For example, \"Surf Club Four Seasons\" in the HED and \"Four Seasons Residences at the Surfclub\"\n",
      "    in the body.\n",
      "    \n",
      "2. Add in context, if available. When there's a high-priced condo sale, check and see if there's\n",
      "    a story. If there is, add in some extra details and link back to it.\n",
      "    \n",
      "3. Add in a screenshot of the sales chart.\n",
      "\n"
     ]
    }
   ],
   "source": [
    "print(story_string)\n",
    "\n",
    "### Highest and lowest sale price ###\n",
    "print(f\"{ME}{BR}{df.loc[df['int_Sale_Price'].idxmax()]['building_name']}, {df.loc[df['int_Sale_Price'].idxmax()]['address']} | Price ${df.loc[df['int_Sale_Price'].idxmax()]['int_Sale_Price']:,.0f} | ${df.loc[df['int_Sale_Price'].idxmax()]['price_per_sqft']:,.0f} psf | Listing agent: {df.loc[df['int_Sale_Price'].idxmax()]['Agent']} with {df.loc[df['int_Sale_Price'].idxmax()]['Listing Broker']} | Buyer's agent: {df.loc[df['int_Sale_Price'].idxmax()]['Buyer Agent']} with {df.loc[df['int_Sale_Price'].idxmax()]['Buyer Broker']} | Days on market: {df.loc[df['int_Sale_Price'].idxmax()]['days_on_market']}\")\n",
    "print(f\"{LE}{BR}{df.loc[df['int_Sale_Price'].idxmin()]['building_name']}, {df.loc[df['int_Sale_Price'].idxmin()]['address']} | Price ${df.loc[df['int_Sale_Price'].idxmin()]['int_Sale_Price']:,.0f} | ${df.loc[df['int_Sale_Price'].idxmin()]['price_per_sqft']:,.0f} psf | Listing agent: {df.loc[df['int_Sale_Price'].idxmin()]['Agent']} with {df.loc[df['int_Sale_Price'].idxmin()]['Listing Broker']} | Buyer's agent: {df.loc[df['int_Sale_Price'].idxmin()]['Buyer Agent']} with {df.loc[df['int_Sale_Price'].idxmin()]['Buyer Broker']} | Days on market: {df.loc[df['int_Sale_Price'].idxmin()]['days_on_market']}\")\n",
    "### Highest and lowest psf ###\n",
    "print(f\"{MAX_PSF}{BR}{df.loc[df['price_per_sqft'].idxmax()]['building_name']}, {df.loc[df['price_per_sqft'].idxmax()]['address']} | Price ${df.loc[df['price_per_sqft'].idxmax()]['int_Sale_Price']:,.0f} | ${df.loc[df['price_per_sqft'].idxmax()]['price_per_sqft']:,.0f} psf | Listing agent: {df.loc[df['price_per_sqft'].idxmax()]['Agent']} with {df.loc[df['price_per_sqft'].idxmax()]['Listing Broker']} | Buyer's agent: {df.loc[df['price_per_sqft'].idxmax()]['Buyer Agent']} with {df.loc[df['price_per_sqft'].idxmax()]['Buyer Broker']} | Days on market: {df.loc[df['price_per_sqft'].idxmax()]['days_on_market']}\")\n",
    "print(f\"{MIN_PSF}{BR}{df.loc[df['price_per_sqft'].idxmin()]['building_name']}, {df.loc[df['price_per_sqft'].idxmin()]['address']} | Price ${df.loc[df['price_per_sqft'].idxmin()]['int_Sale_Price']:,.0f} | ${df.loc[df['price_per_sqft'].idxmin()]['price_per_sqft']:,.0f} psf | Listing agent: {df.loc[df['price_per_sqft'].idxmin()]['Agent']} with {df.loc[df['price_per_sqft'].idxmin()]['Listing Broker']} | Buyer's agent: {df.loc[df['price_per_sqft'].idxmin()]['Buyer Agent']} with {df.loc[df['price_per_sqft'].idxmin()]['Buyer Broker']} | Days on market: {df.loc[df['price_per_sqft'].idxmin()]['days_on_market']}\")\n",
    "### Highest and lowest days on market ###\n",
    "print(f\"{DAYS_MAX}{BR}{df.loc[df['days_on_market'].idxmax()]['building_name']}, {df.loc[df['days_on_market'].idxmax()]['address']} | Price ${df.loc[df['days_on_market'].idxmax()]['int_Sale_Price']:,.0f} | ${df.loc[df['days_on_market'].idxmax()]['price_per_sqft']:,.0f} psf | Listing agent: {df.loc[df['days_on_market'].idxmax()]['Agent']} with {df.loc[df['days_on_market'].idxmax()]['Listing Broker']} | Buyer's agent: {df.loc[df['days_on_market'].idxmax()]['Buyer Agent']} with {df.loc[df['days_on_market'].idxmax()]['Buyer Broker']} | Days on market: {df.loc[df['days_on_market'].idxmax()]['days_on_market']}\")\n",
    "print(f\"{DAYS_MIN}{BR}{df.loc[df['days_on_market'].idxmin()]['building_name']}, {df.loc[df['days_on_market'].idxmin()]['address']} | Price ${df.loc[df['days_on_market'].idxmin()]['int_Sale_Price']:,.0f} | ${df.loc[df['days_on_market'].idxmin()]['price_per_sqft']:,.0f} psf | Listing agent: {df.loc[df['days_on_market'].idxmin()]['Agent']} with {df.loc[df['days_on_market'].idxmin()]['Listing Broker']} | Buyer's agent: {df.loc[df['days_on_market'].idxmin()]['Buyer Agent']} with {df.loc[df['days_on_market'].idxmin()]['Buyer Broker']} | Days on market: {df.loc[df['days_on_market'].idxmin()]['days_on_market']}\")\n",
    "\n",
    "print(story_checklist)"
   ]
  }
 ],
 "metadata": {
  "kernelspec": {
   "display_name": "Python 3 (ipykernel)",
   "language": "python",
   "name": "python3"
  },
  "language_info": {
   "codemirror_mode": {
    "name": "ipython",
    "version": 3
   },
   "file_extension": ".py",
   "mimetype": "text/x-python",
   "name": "python",
   "nbconvert_exporter": "python",
   "pygments_lexer": "ipython3",
   "version": "3.9.12"
  },
  "toc": {
   "base_numbering": 1,
   "nav_menu": {},
   "number_sections": true,
   "sideBar": true,
   "skip_h1_title": false,
   "title_cell": "Table of Contents",
   "title_sidebar": "Contents",
   "toc_cell": false,
   "toc_position": {},
   "toc_section_display": true,
   "toc_window_display": false
  }
 },
 "nbformat": 4,
 "nbformat_minor": 4
}
