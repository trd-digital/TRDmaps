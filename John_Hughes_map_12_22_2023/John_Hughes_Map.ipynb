{
 "cells": [
  {
   "cell_type": "markdown",
   "metadata": {},
   "source": [
    "## Imports"
   ]
  },
  {
   "cell_type": "code",
   "execution_count": 1,
   "metadata": {},
   "outputs": [],
   "source": [
    "import googlemaps\n",
    "import pandas as pd\n",
    "import numpy as np\n",
    "import re\n",
    "import os\n",
    "import geopandas as gpd\n",
    "import folium\n",
    "import tabula"
   ]
  },
  {
   "cell_type": "markdown",
   "metadata": {},
   "source": [
    "## Read-in"
   ]
  },
  {
   "cell_type": "code",
   "execution_count": 2,
   "metadata": {},
   "outputs": [],
   "source": [
    "df = pd.read_csv('John_Hughes_map - Sheet1.csv')"
   ]
  },
  {
   "cell_type": "markdown",
   "metadata": {},
   "source": [
    "## Geocode"
   ]
  },
  {
   "cell_type": "code",
   "execution_count": 3,
   "metadata": {},
   "outputs": [],
   "source": [
    "%store -r google_maps_API_Key\n",
    "gmaps_key = googlemaps.Client(key=google_maps_API_Key)"
   ]
  },
  {
   "cell_type": "code",
   "execution_count": 4,
   "metadata": {},
   "outputs": [],
   "source": [
    "def geocode(add):\n",
    "    g = gmaps_key.geocode(add)\n",
    "    lat = g[0][\"geometry\"][\"location\"][\"lat\"]\n",
    "    lng = g[0][\"geometry\"][\"location\"][\"lng\"]\n",
    "    return (lat, lng)\n",
    "\n",
    "df['geocoded'] = df['full_address'].apply(geocode)"
   ]
  },
  {
   "cell_type": "code",
   "execution_count": 5,
   "metadata": {},
   "outputs": [],
   "source": [
    "df['geocoded'] = df['geocoded'].astype(str)\n",
    "df[['lat', 'lon']] = df['geocoded'].str.strip('()').str.split(', ', expand=True)\n",
    "df['lat'] = df['lat'].astype(float)\n",
    "df['lon'] = df['lon'].astype(float)"
   ]
  },
  {
   "cell_type": "markdown",
   "metadata": {},
   "source": [
    "Folium documentation link: https://python-visualization.github.io/folium/index.html\n",
    "\n",
    "Folium is the library that lets us use leaflet with Python, since it's meant to be used with JavaScript.\n",
    "\n",
    "For adding titles: https://stackoverflow.com/questions/61928013/adding-a-title-or-text-to-a-folium-map"
   ]
  },
  {
   "cell_type": "markdown",
   "metadata": {},
   "source": [
    "## Correction section"
   ]
  },
  {
   "cell_type": "code",
   "execution_count": 6,
   "metadata": {},
   "outputs": [],
   "source": [
    "# df.at[index#,'col_name']"
   ]
  },
  {
   "cell_type": "markdown",
   "metadata": {},
   "source": [
    "## Format Data"
   ]
  },
  {
   "cell_type": "code",
   "execution_count": 7,
   "metadata": {},
   "outputs": [],
   "source": [
    "# ### Insert NaNs if needed ###\n",
    "# df = df.replace('N/A', np.nan)"
   ]
  },
  {
   "cell_type": "markdown",
   "metadata": {},
   "source": [
    "## HTML Popup Formatter"
   ]
  },
  {
   "cell_type": "code",
   "execution_count": 8,
   "metadata": {},
   "outputs": [],
   "source": [
    "def popup_html(row):\n",
    "    address = row['full_address']\n",
    "    description = row['description']\n",
    "    \n",
    "    html = '''<!DOCTYPE html>\n",
    "    <html>\n",
    "    <strong>Address: </strong>{}'''.format(address) + '''<br>\n",
    "    <strong>Description: </strong>{}'''.format(description) + '''<br>\n",
    "    </html>\n",
    "    '''\n",
    "    return html"
   ]
  },
  {
   "cell_type": "code",
   "execution_count": 9,
   "metadata": {},
   "outputs": [
    {
     "data": {
      "text/html": [
       "<div style=\"width:100%;\"><div style=\"position:relative;width:100%;height:0;padding-bottom:60%;\"><span style=\"color:#565656\">Make this Notebook Trusted to load map: File -> Trust Notebook</span><iframe srcdoc=\"&lt;!DOCTYPE html&gt;\n",
       "&lt;head&gt;    \n",
       "    &lt;meta http-equiv=&quot;content-type&quot; content=&quot;text/html; charset=UTF-8&quot; /&gt;\n",
       "    \n",
       "        &lt;script&gt;\n",
       "            L_NO_TOUCH = false;\n",
       "            L_DISABLE_3D = false;\n",
       "        &lt;/script&gt;\n",
       "    \n",
       "    &lt;style&gt;html, body {width: 100%;height: 100%;margin: 0;padding: 0;}&lt;/style&gt;\n",
       "    &lt;style&gt;#map {position:absolute;top:0;bottom:0;right:0;left:0;}&lt;/style&gt;\n",
       "    &lt;script src=&quot;https://cdn.jsdelivr.net/npm/leaflet@1.6.0/dist/leaflet.js&quot;&gt;&lt;/script&gt;\n",
       "    &lt;script src=&quot;https://code.jquery.com/jquery-1.12.4.min.js&quot;&gt;&lt;/script&gt;\n",
       "    &lt;script src=&quot;https://maxcdn.bootstrapcdn.com/bootstrap/3.2.0/js/bootstrap.min.js&quot;&gt;&lt;/script&gt;\n",
       "    &lt;script src=&quot;https://cdnjs.cloudflare.com/ajax/libs/Leaflet.awesome-markers/2.0.2/leaflet.awesome-markers.js&quot;&gt;&lt;/script&gt;\n",
       "    &lt;link rel=&quot;stylesheet&quot; href=&quot;https://cdn.jsdelivr.net/npm/leaflet@1.6.0/dist/leaflet.css&quot;/&gt;\n",
       "    &lt;link rel=&quot;stylesheet&quot; href=&quot;https://maxcdn.bootstrapcdn.com/bootstrap/3.2.0/css/bootstrap.min.css&quot;/&gt;\n",
       "    &lt;link rel=&quot;stylesheet&quot; href=&quot;https://maxcdn.bootstrapcdn.com/bootstrap/3.2.0/css/bootstrap-theme.min.css&quot;/&gt;\n",
       "    &lt;link rel=&quot;stylesheet&quot; href=&quot;https://maxcdn.bootstrapcdn.com/font-awesome/4.6.3/css/font-awesome.min.css&quot;/&gt;\n",
       "    &lt;link rel=&quot;stylesheet&quot; href=&quot;https://cdnjs.cloudflare.com/ajax/libs/Leaflet.awesome-markers/2.0.2/leaflet.awesome-markers.css&quot;/&gt;\n",
       "    &lt;link rel=&quot;stylesheet&quot; href=&quot;https://cdn.jsdelivr.net/gh/python-visualization/folium/folium/templates/leaflet.awesome.rotate.min.css&quot;/&gt;\n",
       "    \n",
       "            &lt;meta name=&quot;viewport&quot; content=&quot;width=device-width,\n",
       "                initial-scale=1.0, maximum-scale=1.0, user-scalable=no&quot; /&gt;\n",
       "            &lt;style&gt;\n",
       "                #map_e974457cf7440376e9bd47bd47d4dbc5 {\n",
       "                    position: relative;\n",
       "                    width: 100.0%;\n",
       "                    height: 100.0%;\n",
       "                    left: 0.0%;\n",
       "                    top: 0.0%;\n",
       "                }\n",
       "            &lt;/style&gt;\n",
       "        \n",
       "&lt;/head&gt;\n",
       "&lt;body&gt;    \n",
       "    \n",
       "              &lt;h3 align=&quot;center&quot; style=&quot;font-size:16px&quot;&gt;&lt;b&gt;John Hughes and Chicagoland&lt;/b&gt;&lt;/h3&gt;\n",
       "             \n",
       "    \n",
       "            &lt;div class=&quot;folium-map&quot; id=&quot;map_e974457cf7440376e9bd47bd47d4dbc5&quot; &gt;&lt;/div&gt;\n",
       "        \n",
       "&lt;/body&gt;\n",
       "&lt;script&gt;    \n",
       "    \n",
       "            var map_e974457cf7440376e9bd47bd47d4dbc5 = L.map(\n",
       "                &quot;map_e974457cf7440376e9bd47bd47d4dbc5&quot;,\n",
       "                {\n",
       "                    center: [42.09923164285714, -87.74398205714284],\n",
       "                    crs: L.CRS.EPSG3857,\n",
       "                    zoom: 11,\n",
       "                    zoomControl: true,\n",
       "                    preferCanvas: false,\n",
       "                }\n",
       "            );\n",
       "\n",
       "            \n",
       "\n",
       "        \n",
       "    \n",
       "            var marker_2383faf6b33f59557d25860e2f96f378 = L.marker(\n",
       "                [42.1097586, -87.73353709999999],\n",
       "                {&quot;fill&quot;: true, &quot;radius&quot;: 5}\n",
       "            ).addTo(map_e974457cf7440376e9bd47bd47d4dbc5);\n",
       "        \n",
       "    \n",
       "        var popup_5045c7a5ab411071ea7e16733a7a5b03 = L.popup({&quot;maxWidth&quot;: 400});\n",
       "\n",
       "        \n",
       "            \n",
       "                var html_81cf70e8efbe0ad2b0d1b7c0e68b3ec4 = $(`&lt;div id=&quot;html_81cf70e8efbe0ad2b0d1b7c0e68b3ec4&quot; style=&quot;width: 100.0%; height: 100.0%;&quot;&gt;&lt;!DOCTYPE html&gt;     &lt;html&gt;     &lt;strong&gt;Address: &lt;/strong&gt;671 Lincoln Avenue, Winnetka, Illinois&lt;br&gt;     &lt;strong&gt;Description: &lt;/strong&gt;The 5,400-square-foot McCallister home, where Kevin thwarted two bumbling would-be burglars&lt;br&gt;     &lt;/html&gt;     &lt;/div&gt;`)[0];\n",
       "                popup_5045c7a5ab411071ea7e16733a7a5b03.setContent(html_81cf70e8efbe0ad2b0d1b7c0e68b3ec4);\n",
       "            \n",
       "        \n",
       "\n",
       "        marker_2383faf6b33f59557d25860e2f96f378.bindPopup(popup_5045c7a5ab411071ea7e16733a7a5b03)\n",
       "        ;\n",
       "\n",
       "        \n",
       "    \n",
       "    \n",
       "            var marker_7535de48c18a0a0ba1bdb548914ee681 = L.marker(\n",
       "                [42.0873017, -87.7080055],\n",
       "                {&quot;fill&quot;: true, &quot;radius&quot;: 5}\n",
       "            ).addTo(map_e974457cf7440376e9bd47bd47d4dbc5);\n",
       "        \n",
       "    \n",
       "        var popup_9b08f3eac20e6f04bea6387d49c4a569 = L.popup({&quot;maxWidth&quot;: 400});\n",
       "\n",
       "        \n",
       "            \n",
       "                var html_d5f635ccd2c09f68e12ffdfddf64a589 = $(`&lt;div id=&quot;html_d5f635ccd2c09f68e12ffdfddf64a589&quot; style=&quot;width: 100.0%; height: 100.0%;&quot;&gt;&lt;!DOCTYPE html&gt;     &lt;html&gt;     &lt;strong&gt;Address: &lt;/strong&gt;230 Oxford Road, Kenilworth, Illinois&lt;br&gt;     &lt;strong&gt;Description: &lt;/strong&gt;The home in the 1988 Thanksgiving classic road trip comedy belonged to Steve Martin’s character, Neal Page, and he endured a series of pitfalls and follies on his way back from New York to get there.&lt;br&gt;     &lt;/html&gt;     &lt;/div&gt;`)[0];\n",
       "                popup_9b08f3eac20e6f04bea6387d49c4a569.setContent(html_d5f635ccd2c09f68e12ffdfddf64a589);\n",
       "            \n",
       "        \n",
       "\n",
       "        marker_7535de48c18a0a0ba1bdb548914ee681.bindPopup(popup_9b08f3eac20e6f04bea6387d49c4a569)\n",
       "        ;\n",
       "\n",
       "        \n",
       "    \n",
       "    \n",
       "            var marker_bcf987ca1067fab473c7798c5f07edb8 = L.marker(\n",
       "                [42.17350099999999, -87.7852873],\n",
       "                {&quot;fill&quot;: true, &quot;radius&quot;: 5}\n",
       "            ).addTo(map_e974457cf7440376e9bd47bd47d4dbc5);\n",
       "        \n",
       "    \n",
       "        var popup_dbe0e14dd3ee11e6a8f1d77058850bf6 = L.popup({&quot;maxWidth&quot;: 400});\n",
       "\n",
       "        \n",
       "            \n",
       "                var html_e77be9358a823e27ee46ce89f3b1b391 = $(`&lt;div id=&quot;html_e77be9358a823e27ee46ce89f3b1b391&quot; style=&quot;width: 100.0%; height: 100.0%;&quot;&gt;&lt;!DOCTYPE html&gt;     &lt;html&gt;     &lt;strong&gt;Address: &lt;/strong&gt;370 Beech Street, Highland Park, Illinois&lt;br&gt;     &lt;strong&gt;Description: &lt;/strong&gt;The antithesis of what a typical Hughes home looks like, this four-bedroom, four-bath steel and glass ranch overlooking a ravine is where Ferris friend Cam Frye lived, and where that sweet 1961 Ferrari 250 GT California Spyder convertible died in the 1986 movie.&lt;br&gt;     &lt;/html&gt;     &lt;/div&gt;`)[0];\n",
       "                popup_dbe0e14dd3ee11e6a8f1d77058850bf6.setContent(html_e77be9358a823e27ee46ce89f3b1b391);\n",
       "            \n",
       "        \n",
       "\n",
       "        marker_bcf987ca1067fab473c7798c5f07edb8.bindPopup(popup_dbe0e14dd3ee11e6a8f1d77058850bf6)\n",
       "        ;\n",
       "\n",
       "        \n",
       "    \n",
       "    \n",
       "            var marker_12427ebaa69fd58eb5c892227b095878 = L.marker(\n",
       "                [42.0563384, -87.7189241],\n",
       "                {&quot;fill&quot;: true, &quot;radius&quot;: 5}\n",
       "            ).addTo(map_e974457cf7440376e9bd47bd47d4dbc5);\n",
       "        \n",
       "    \n",
       "        var popup_3e6dc476f070e8a1e376e78d3bb25d72 = L.popup({&quot;maxWidth&quot;: 400});\n",
       "\n",
       "        \n",
       "            \n",
       "                var html_f439f74d9a5a11b6588fc1b6c155fbfd = $(`&lt;div id=&quot;html_f439f74d9a5a11b6588fc1b6c155fbfd&quot; style=&quot;width: 100.0%; height: 100.0%;&quot;&gt;&lt;!DOCTYPE html&gt;     &lt;html&gt;     &lt;strong&gt;Address: &lt;/strong&gt;3018 Payne Street, Evanston, IL&lt;br&gt;     &lt;strong&gt;Description: &lt;/strong&gt;While some of the film’s aspects haven’t held up (we’re looking at you, Long Duk Dong), the house, about a 30-minute drive from Chicago, remains highly desirable because of its location and the tight market.&lt;br&gt;     &lt;/html&gt;     &lt;/div&gt;`)[0];\n",
       "                popup_3e6dc476f070e8a1e376e78d3bb25d72.setContent(html_f439f74d9a5a11b6588fc1b6c155fbfd);\n",
       "            \n",
       "        \n",
       "\n",
       "        marker_12427ebaa69fd58eb5c892227b095878.bindPopup(popup_3e6dc476f070e8a1e376e78d3bb25d72)\n",
       "        ;\n",
       "\n",
       "        \n",
       "    \n",
       "    \n",
       "            var marker_e0c5f48dd93c6f94869759fd3ebabf7a = L.marker(\n",
       "                [42.0616236, -87.7095259],\n",
       "                {&quot;fill&quot;: true, &quot;radius&quot;: 5}\n",
       "            ).addTo(map_e974457cf7440376e9bd47bd47d4dbc5);\n",
       "        \n",
       "    \n",
       "        var popup_60a678afe19a63568e2cb17c95ed6beb = L.popup({&quot;maxWidth&quot;: 400});\n",
       "\n",
       "        \n",
       "            \n",
       "                var html_62c00feb32b6ee13720cf5219ffb1787 = $(`&lt;div id=&quot;html_62c00feb32b6ee13720cf5219ffb1787&quot; style=&quot;width: 100.0%; height: 100.0%;&quot;&gt;&lt;!DOCTYPE html&gt;     &lt;html&gt;     &lt;strong&gt;Address: &lt;/strong&gt;2602 Lincoln Street, Evanston, Illinois&lt;br&gt;     &lt;strong&gt;Description: &lt;/strong&gt;Another traditional selection that shows the family — the children of which are under Uncle Buck’s care — has a little more money and stature&lt;br&gt;     &lt;/html&gt;     &lt;/div&gt;`)[0];\n",
       "                popup_60a678afe19a63568e2cb17c95ed6beb.setContent(html_62c00feb32b6ee13720cf5219ffb1787);\n",
       "            \n",
       "        \n",
       "\n",
       "        marker_e0c5f48dd93c6f94869759fd3ebabf7a.bindPopup(popup_60a678afe19a63568e2cb17c95ed6beb)\n",
       "        ;\n",
       "\n",
       "        \n",
       "    \n",
       "    \n",
       "            var marker_1c59ae13d4f8d60eccd9fade9f8a0236 = L.marker(\n",
       "                [42.0943795, -87.7192626],\n",
       "                {&quot;fill&quot;: true, &quot;radius&quot;: 5}\n",
       "            ).addTo(map_e974457cf7440376e9bd47bd47d4dbc5);\n",
       "        \n",
       "    \n",
       "        var popup_2ff3b10699dfa56a8e91590eee1bd1e0 = L.popup({&quot;maxWidth&quot;: 400});\n",
       "\n",
       "        \n",
       "            \n",
       "                var html_66795b96daa121aed6328046f632553d = $(`&lt;div id=&quot;html_66795b96daa121aed6328046f632553d&quot; style=&quot;width: 100.0%; height: 100.0%;&quot;&gt;&lt;!DOCTYPE html&gt;     &lt;html&gt;     &lt;strong&gt;Address: &lt;/strong&gt;385 Winnetka Ave, New Trier Township&lt;br&gt;     &lt;strong&gt;Description: &lt;/strong&gt;Where the inspiration for The Breakfast Club was derived&lt;br&gt;     &lt;/html&gt;     &lt;/div&gt;`)[0];\n",
       "                popup_2ff3b10699dfa56a8e91590eee1bd1e0.setContent(html_66795b96daa121aed6328046f632553d);\n",
       "            \n",
       "        \n",
       "\n",
       "        marker_1c59ae13d4f8d60eccd9fade9f8a0236.bindPopup(popup_2ff3b10699dfa56a8e91590eee1bd1e0)\n",
       "        ;\n",
       "\n",
       "        \n",
       "    \n",
       "    \n",
       "            var marker_45a6264af19923a8bdb1425f6e3edce4 = L.marker(\n",
       "                [42.1117187, -87.83333189999999],\n",
       "                {&quot;fill&quot;: true, &quot;radius&quot;: 5}\n",
       "            ).addTo(map_e974457cf7440376e9bd47bd47d4dbc5);\n",
       "        \n",
       "    \n",
       "        var popup_39fd44e99effca449179319ad82af067 = L.popup({&quot;maxWidth&quot;: 400});\n",
       "\n",
       "        \n",
       "            \n",
       "                var html_fb531e76048784df15380f786df243d9 = $(`&lt;div id=&quot;html_fb531e76048784df15380f786df243d9&quot; style=&quot;width: 100.0%; height: 100.0%;&quot;&gt;&lt;!DOCTYPE html&gt;     &lt;html&gt;     &lt;strong&gt;Address: &lt;/strong&gt;2300 Shermer Rd, Northbrook, IL&lt;br&gt;     &lt;strong&gt;Description: &lt;/strong&gt;Where Hughes went to high school&lt;br&gt;     &lt;/html&gt;     &lt;/div&gt;`)[0];\n",
       "                popup_39fd44e99effca449179319ad82af067.setContent(html_fb531e76048784df15380f786df243d9);\n",
       "            \n",
       "        \n",
       "\n",
       "        marker_45a6264af19923a8bdb1425f6e3edce4.bindPopup(popup_39fd44e99effca449179319ad82af067)\n",
       "        ;\n",
       "\n",
       "        \n",
       "    \n",
       "    \n",
       "            var tile_layer_566869e27aa83dde189429b436e64c08 = L.tileLayer(\n",
       "                &quot;https://{s}.tile.openstreetmap.org/{z}/{x}/{y}.png&quot;,\n",
       "                {&quot;attribution&quot;: &quot;Data by \\u0026copy; \\u003ca href=\\&quot;http://openstreetmap.org\\&quot;\\u003eOpenStreetMap\\u003c/a\\u003e, under \\u003ca href=\\&quot;http://www.openstreetmap.org/copyright\\&quot;\\u003eODbL\\u003c/a\\u003e.&quot;, &quot;detectRetina&quot;: false, &quot;maxNativeZoom&quot;: 18, &quot;maxZoom&quot;: 18, &quot;minZoom&quot;: 0, &quot;noWrap&quot;: false, &quot;opacity&quot;: 1, &quot;subdomains&quot;: &quot;abc&quot;, &quot;tms&quot;: false}\n",
       "            ).addTo(map_e974457cf7440376e9bd47bd47d4dbc5);\n",
       "        \n",
       "    \n",
       "            var layer_control_2d0df30a6a8f5b6c79d87f4cc6ebcb1d = {\n",
       "                base_layers : {\n",
       "                },\n",
       "                overlays :  {\n",
       "                },\n",
       "            };\n",
       "            L.control.layers(\n",
       "                layer_control_2d0df30a6a8f5b6c79d87f4cc6ebcb1d.base_layers,\n",
       "                layer_control_2d0df30a6a8f5b6c79d87f4cc6ebcb1d.overlays,\n",
       "                {&quot;autoZIndex&quot;: true, &quot;collapsed&quot;: false, &quot;position&quot;: &quot;topright&quot;}\n",
       "            ).addTo(map_e974457cf7440376e9bd47bd47d4dbc5);\n",
       "        \n",
       "&lt;/script&gt;\" style=\"position:absolute;width:100%;height:100%;left:0;top:0;border:none !important;\" allowfullscreen webkitallowfullscreen mozallowfullscreen></iframe></div></div>"
      ],
      "text/plain": [
       "<folium.folium.Map at 0x7f84a284d880>"
      ]
     },
     "execution_count": 9,
     "metadata": {},
     "output_type": "execute_result"
    }
   ],
   "source": [
    "import folium\n",
    "from folium.plugins import MarkerCluster\n",
    "\n",
    "m = folium.Map(location=df[[\"lat\", \"lon\"]].mean().to_list(), zoom_start=10)\n",
    "\n",
    "title_html = '''\n",
    "              <h3 align=\"center\" style=\"font-size:16px\"><b>{}</b></h3>\n",
    "             '''.format(f'John Hughes and Chicagoland')\n",
    "\n",
    "\n",
    "### Create map container ###\n",
    "m = folium.Map(location=df[[\"lat\", \"lon\"]].mean().to_list(),zoom_start=11,tiles=None)\n",
    "\n",
    "for index, row in df.iterrows():\n",
    "    marker = folium.Marker(\n",
    "        location=[row['lat'], row['lon']],\n",
    "        radius=5,\n",
    "        fill=True,\n",
    "        popup=folium.Popup(popup_html(row), max_width=400))\n",
    "    marker.add_to(m)\n",
    "\n",
    "folium.TileLayer('OpenStreetMap',control=False).add_to(m)\n",
    "\n",
    "# Add LayerControl to the map\n",
    "folium.map.LayerControl(collapsed=False).add_to(m)\n",
    "m.get_root().html.add_child(folium.Element(title_html))\n",
    "            \n",
    "# Display map\n",
    "m"
   ]
  },
  {
   "cell_type": "code",
   "execution_count": 10,
   "metadata": {},
   "outputs": [],
   "source": [
    "m.save('index.html')"
   ]
  },
  {
   "cell_type": "markdown",
   "metadata": {},
   "source": [
    "## Map URL snagger"
   ]
  },
  {
   "cell_type": "markdown",
   "metadata": {},
   "source": [
    "Map template URL: `https://trd-digital.github.io/trd-news-interactive-maps/{map-folder-name}`"
   ]
  },
  {
   "cell_type": "code",
   "execution_count": 11,
   "metadata": {},
   "outputs": [],
   "source": [
    "base_name = 'https://trd-digital.github.io/trd-news-interactive-maps/'"
   ]
  },
  {
   "cell_type": "code",
   "execution_count": 12,
   "metadata": {},
   "outputs": [
    {
     "name": "stdout",
     "output_type": "stream",
     "text": [
      "https://trd-digital.github.io/trd-news-interactive-maps/John_Hughes_map_12_22_2023\n"
     ]
    }
   ],
   "source": [
    "cwd = os.getcwd()\n",
    "\n",
    "cwd = cwd.split('/')\n",
    "\n",
    "final_name = base_name + cwd[-1]\n",
    "print(final_name)"
   ]
  }
 ],
 "metadata": {
  "kernelspec": {
   "display_name": "Python 3 (ipykernel)",
   "language": "python",
   "name": "python3"
  },
  "language_info": {
   "codemirror_mode": {
    "name": "ipython",
    "version": 3
   },
   "file_extension": ".py",
   "mimetype": "text/x-python",
   "name": "python",
   "nbconvert_exporter": "python",
   "pygments_lexer": "ipython3",
   "version": "3.9.12"
  },
  "toc": {
   "base_numbering": 1,
   "nav_menu": {},
   "number_sections": true,
   "sideBar": true,
   "skip_h1_title": false,
   "title_cell": "Table of Contents",
   "title_sidebar": "Contents",
   "toc_cell": false,
   "toc_position": {},
   "toc_section_display": true,
   "toc_window_display": false
  }
 },
 "nbformat": 4,
 "nbformat_minor": 4
}
