{
 "cells": [
  {
   "cell_type": "markdown",
   "id": "68f91129",
   "metadata": {},
   "source": [
    "## Imports"
   ]
  },
  {
   "cell_type": "code",
   "execution_count": 81,
   "id": "5b914c6a",
   "metadata": {},
   "outputs": [],
   "source": [
    "import googlemaps\n",
    "import pandas as pd\n",
    "import numpy as np\n",
    "import re\n",
    "import os\n",
    "import geopandas as gpd\n",
    "import folium\n",
    "from shapely.geometry import Point\n",
    "import math"
   ]
  },
  {
   "cell_type": "markdown",
   "id": "28b8f63c",
   "metadata": {},
   "source": [
    "## Imports"
   ]
  },
  {
   "cell_type": "code",
   "execution_count": 124,
   "id": "55929b47",
   "metadata": {},
   "outputs": [],
   "source": [
    "pd.set_option?"
   ]
  },
  {
   "cell_type": "code",
   "execution_count": 125,
   "id": "142a3d06",
   "metadata": {},
   "outputs": [],
   "source": [
    "pd.set_option('display.max_columns',None)"
   ]
  },
  {
   "cell_type": "markdown",
   "id": "e626f4a2",
   "metadata": {},
   "source": [
    "## Links"
   ]
  },
  {
   "cell_type": "markdown",
   "id": "2f137351",
   "metadata": {},
   "source": [
    "Miami-Dade data download: https://gis-mdc.opendata.arcgis.com/datasets/MDC::property-boundary-view/about\n",
    "DOR Use code descriptions: https://gis-mdc.opendata.arcgis.com/datasets/MDC::dor-code/explore\n",
    "\n",
    "Palm Beach data download: https://opendata2-pbcgov.opendata.arcgis.com/datasets/PBCGOV::property-information-table/explore\n",
    "\n",
    "Broward Property Appraiser \"Contact Us\" page: https://bcpa.net/phone.asp"
   ]
  },
  {
   "cell_type": "markdown",
   "id": "383b55e8",
   "metadata": {},
   "source": [
    "## Data read-in"
   ]
  },
  {
   "cell_type": "code",
   "execution_count": 3,
   "id": "7728fa62",
   "metadata": {},
   "outputs": [],
   "source": [
    "# MiamiDade = gpd.read_file('Property_Boundary_View.geojson')\n",
    "PalmBeach = pd.read_csv('Property_Information_Table.csv',dtype='str')"
   ]
  },
  {
   "cell_type": "code",
   "execution_count": 159,
   "id": "d92270a9",
   "metadata": {},
   "outputs": [],
   "source": [
    "Broward = gpd.read_file('broward_2022pin/broward_2022pin.shp')"
   ]
  },
  {
   "cell_type": "code",
   "execution_count": 160,
   "id": "9c13ccf1",
   "metadata": {},
   "outputs": [
    {
     "data": {
      "text/html": [
       "<div>\n",
       "<style scoped>\n",
       "    .dataframe tbody tr th:only-of-type {\n",
       "        vertical-align: middle;\n",
       "    }\n",
       "\n",
       "    .dataframe tbody tr th {\n",
       "        vertical-align: top;\n",
       "    }\n",
       "\n",
       "    .dataframe thead th {\n",
       "        text-align: right;\n",
       "    }\n",
       "</style>\n",
       "<table border=\"1\" class=\"dataframe\">\n",
       "  <thead>\n",
       "    <tr style=\"text-align: right;\">\n",
       "      <th></th>\n",
       "      <th>PARCELNO</th>\n",
       "      <th>geometry</th>\n",
       "    </tr>\n",
       "  </thead>\n",
       "  <tbody>\n",
       "    <tr>\n",
       "      <th>0</th>\n",
       "      <td>474135010090</td>\n",
       "      <td>POLYGON ((908089.394 727549.544, 908092.065 72...</td>\n",
       "    </tr>\n",
       "    <tr>\n",
       "      <th>1</th>\n",
       "      <td>474135010091</td>\n",
       "      <td>POLYGON ((906834.428 728009.234, 907671.805 72...</td>\n",
       "    </tr>\n",
       "    <tr>\n",
       "      <th>2</th>\n",
       "      <td>474135010080</td>\n",
       "      <td>POLYGON ((906849.178 727349.127, 906866.721 72...</td>\n",
       "    </tr>\n",
       "    <tr>\n",
       "      <th>3</th>\n",
       "      <td>474134000012</td>\n",
       "      <td>POLYGON ((906788.930 726688.597, 906288.872 72...</td>\n",
       "    </tr>\n",
       "    <tr>\n",
       "      <th>4</th>\n",
       "      <td>474134000010</td>\n",
       "      <td>POLYGON ((903311.876 725348.892, 903249.461 72...</td>\n",
       "    </tr>\n",
       "    <tr>\n",
       "      <th>...</th>\n",
       "      <td>...</td>\n",
       "      <td>...</td>\n",
       "    </tr>\n",
       "    <tr>\n",
       "      <th>785022</th>\n",
       "      <td>504212CF0040</td>\n",
       "      <td>POLYGON ((949818.737 651279.899, 949818.908 65...</td>\n",
       "    </tr>\n",
       "    <tr>\n",
       "      <th>785023</th>\n",
       "      <td>504212CF0050</td>\n",
       "      <td>POLYGON ((949818.737 651279.899, 949818.908 65...</td>\n",
       "    </tr>\n",
       "    <tr>\n",
       "      <th>785024</th>\n",
       "      <td>504212CF0080</td>\n",
       "      <td>POLYGON ((949818.737 651279.899, 949818.908 65...</td>\n",
       "    </tr>\n",
       "    <tr>\n",
       "      <th>785025</th>\n",
       "      <td>504212CF0090</td>\n",
       "      <td>POLYGON ((949818.737 651279.899, 949818.908 65...</td>\n",
       "    </tr>\n",
       "    <tr>\n",
       "      <th>785026</th>\n",
       "      <td>504212CF0060</td>\n",
       "      <td>POLYGON ((949818.737 651279.899, 949818.908 65...</td>\n",
       "    </tr>\n",
       "  </tbody>\n",
       "</table>\n",
       "<p>785027 rows × 2 columns</p>\n",
       "</div>"
      ],
      "text/plain": [
       "            PARCELNO                                           geometry\n",
       "0       474135010090  POLYGON ((908089.394 727549.544, 908092.065 72...\n",
       "1       474135010091  POLYGON ((906834.428 728009.234, 907671.805 72...\n",
       "2       474135010080  POLYGON ((906849.178 727349.127, 906866.721 72...\n",
       "3       474134000012  POLYGON ((906788.930 726688.597, 906288.872 72...\n",
       "4       474134000010  POLYGON ((903311.876 725348.892, 903249.461 72...\n",
       "...              ...                                                ...\n",
       "785022  504212CF0040  POLYGON ((949818.737 651279.899, 949818.908 65...\n",
       "785023  504212CF0050  POLYGON ((949818.737 651279.899, 949818.908 65...\n",
       "785024  504212CF0080  POLYGON ((949818.737 651279.899, 949818.908 65...\n",
       "785025  504212CF0090  POLYGON ((949818.737 651279.899, 949818.908 65...\n",
       "785026  504212CF0060  POLYGON ((949818.737 651279.899, 949818.908 65...\n",
       "\n",
       "[785027 rows x 2 columns]"
      ]
     },
     "execution_count": 160,
     "metadata": {},
     "output_type": "execute_result"
    }
   ],
   "source": [
    "Broward"
   ]
  },
  {
   "cell_type": "code",
   "execution_count": 114,
   "id": "e03a64ba",
   "metadata": {},
   "outputs": [],
   "source": [
    "x = gpd.read_file('NAL16F202201.dbf')"
   ]
  },
  {
   "cell_type": "code",
   "execution_count": 161,
   "id": "cbab9aea",
   "metadata": {},
   "outputs": [],
   "source": [
    "y = x"
   ]
  },
  {
   "cell_type": "code",
   "execution_count": 165,
   "id": "634dfbf4",
   "metadata": {},
   "outputs": [],
   "source": [
    "y = y.drop(columns='geometry')"
   ]
  },
  {
   "cell_type": "code",
   "execution_count": 166,
   "id": "26a73f52",
   "metadata": {},
   "outputs": [],
   "source": [
    "y['DOR_UC'] = y['DOR_UC'].astype(int)"
   ]
  },
  {
   "cell_type": "code",
   "execution_count": 167,
   "id": "bc5bb2b1",
   "metadata": {},
   "outputs": [],
   "source": [
    "y = y[(y['DOR_UC'] >= 50) & (y['DOR_UC'] <= 69)]"
   ]
  },
  {
   "cell_type": "code",
   "execution_count": 168,
   "id": "b0a1ee97",
   "metadata": {},
   "outputs": [
    {
     "data": {
      "text/plain": [
       "0    POLYGON ((908089.394 727549.544, 908092.065 72...\n",
       "Name: geometry, dtype: geometry"
      ]
     },
     "execution_count": 168,
     "metadata": {},
     "output_type": "execute_result"
    }
   ],
   "source": [
    "Broward['geometry'].head(1)"
   ]
  },
  {
   "cell_type": "code",
   "execution_count": 169,
   "id": "dc08a816",
   "metadata": {},
   "outputs": [],
   "source": [
    "merged_df = pd.merge(y, Broward, left_on='PARCEL_ID', right_on='PARCELNO', how='inner')"
   ]
  },
  {
   "cell_type": "code",
   "execution_count": 172,
   "id": "612fbe16",
   "metadata": {},
   "outputs": [],
   "source": [
    "columns_to_keep = ['PARCEL_ID','DOR_UC','OWN_NAME','OWN_ADDR1','OWN_ADDR2','OWN_CITY','OWN_STATE','PHY_ADDR1','PHY_CITY','geometry']"
   ]
  },
  {
   "cell_type": "code",
   "execution_count": 173,
   "id": "35bd0042",
   "metadata": {},
   "outputs": [],
   "source": [
    "final_Broward = merged_df[columns_to_keep]"
   ]
  },
  {
   "cell_type": "code",
   "execution_count": 174,
   "id": "e41d0d7b",
   "metadata": {},
   "outputs": [],
   "source": [
    "# Create a GeoDataFrame\n",
    "gdf_Broward = gpd.GeoDataFrame(final_Broward, geometry='geometry')\n",
    "\n",
    "# Save the GeoDataFrame as a GeoJSON file\n",
    "gdf_Broward.to_file('BC_agri.geojson', driver='GeoJSON')"
   ]
  },
  {
   "cell_type": "code",
   "execution_count": 118,
   "id": "4be97407",
   "metadata": {},
   "outputs": [
    {
     "data": {
      "text/plain": [
       "785027"
      ]
     },
     "execution_count": 118,
     "metadata": {},
     "output_type": "execute_result"
    }
   ],
   "source": [
    "len(Broward)"
   ]
  },
  {
   "cell_type": "markdown",
   "id": "0fc5f533",
   "metadata": {},
   "source": [
    "## Data Check"
   ]
  },
  {
   "cell_type": "code",
   "execution_count": 5,
   "id": "57ca4d3c",
   "metadata": {},
   "outputs": [],
   "source": [
    "# MD_agri = MiamiDade[MiamiDade['DOR_DESC'].str.contains('AGRI',na=False)]"
   ]
  },
  {
   "cell_type": "code",
   "execution_count": 26,
   "id": "6fc69856",
   "metadata": {},
   "outputs": [],
   "source": [
    "PalmBeach.PROPERTY_USE.value_counts().head(60)\n",
    "PB_agri = PalmBeach[PalmBeach['PROPERTY_USE'].str.contains('AG',na=False)]\n",
    "PB_agri = PB_agri[PB_agri['PROPERTY_USE'] != 'NON AG']\n",
    "PB_agri = PB_agri[PB_agri['PROPERTY_USE'] != 'OPEN STORAGE']"
   ]
  },
  {
   "cell_type": "code",
   "execution_count": 27,
   "id": "94b538c3",
   "metadata": {},
   "outputs": [
    {
     "data": {
      "text/plain": [
       "PROPERTY_USE\n",
       "AG Classification CROP SOIL CLASS 3    1777\n",
       "AG Classification EQUESTRIAN           1657\n",
       "AG Classification ORN/MISC AGRI         725\n",
       "AG Classification GRAGSOIL CLASS 1      293\n",
       "AG Classification POUL/BEES/FISH        236\n",
       "AG Classification CROP SOIL CLASS 1     227\n",
       "AG Classification ORCHARD GROVES        136\n",
       "AG Classification EQUESTRIAN CONDO        7\n",
       "Name: count, dtype: int64"
      ]
     },
     "execution_count": 27,
     "metadata": {},
     "output_type": "execute_result"
    }
   ],
   "source": [
    "PB_agri.PROPERTY_USE.value_counts()"
   ]
  },
  {
   "cell_type": "markdown",
   "id": "49b9826a",
   "metadata": {},
   "source": [
    "## Geocode"
   ]
  },
  {
   "cell_type": "code",
   "execution_count": 72,
   "id": "a0ef74dd",
   "metadata": {},
   "outputs": [],
   "source": [
    "%store -r google_maps_API_Key\n",
    "gmaps_key = googlemaps.Client(key=google_maps_API_Key)"
   ]
  },
  {
   "cell_type": "code",
   "execution_count": 73,
   "id": "38ea389b",
   "metadata": {},
   "outputs": [],
   "source": [
    "PB_agri['full_address'] = PB_agri['SITE_ADDR_STR'] + ' Palm Beach County, FL'"
   ]
  },
  {
   "cell_type": "code",
   "execution_count": 74,
   "id": "74641130",
   "metadata": {
    "scrolled": false
   },
   "outputs": [],
   "source": [
    "def geocode(add):\n",
    "    try:\n",
    "        g = gmaps_key.geocode(add)\n",
    "        if g:\n",
    "            lat = g[0][\"geometry\"][\"location\"][\"lat\"]\n",
    "            lng = g[0][\"geometry\"][\"location\"][\"lng\"]\n",
    "            return (lat, lng)\n",
    "    except:\n",
    "        pass\n",
    "    return 'No address'  # Return 'NaN' as a string\n",
    "\n",
    "PB_agri['geocoded'] = PB_agri['full_address'].apply(geocode)"
   ]
  },
  {
   "cell_type": "code",
   "execution_count": 75,
   "id": "98a0c9ab",
   "metadata": {},
   "outputs": [],
   "source": [
    "# Filter out rows with 'No address' in the geocoded column\n",
    "PB_agri2 = PB_agri2[PB_agri2['geocoded'] != 'No address']"
   ]
  },
  {
   "cell_type": "code",
   "execution_count": 78,
   "id": "54bc335c",
   "metadata": {},
   "outputs": [
    {
     "data": {
      "text/plain": [
       "Index(['PARCEL_NUMBER', 'OWNER_NAME1', 'OWNER_NAME2', 'STREET_NUMBER',\n",
       "       'STREET_FRACTION', 'PRE_DIR', 'STREET_NAME', 'STREET_SUFFIX_ABBR',\n",
       "       'POST_DIR', 'SITE_ADDR_STR', 'MUNICIPALITY', 'NBHD', 'PADDR1', 'PADDR2',\n",
       "       'PADDR3', 'CITYNAME', 'STATE', 'ZIP1', 'ZIP2', 'SALEKEY', 'CRA',\n",
       "       'ACRES', 'SALE_DATE', 'BOOK', 'PAGE', 'PRICE', 'INSTRUMENT',\n",
       "       'TOTAL_MARKET', 'MKT_NOT_CAPPED', 'MKT_CAPPED', 'CAP_ADJ_VAL',\n",
       "       'AG_USE_VAL', 'ASSESSED_VAL', 'EXEMPTION', 'TOTAL_VALUE',\n",
       "       'TOTAL_TAXABLE', 'HMSTD_FLG', 'SUBDIV_NAME', 'YEAR_ADDED',\n",
       "       'LAND_MARKET', 'IMPRV_MRKT', 'PROPERTY_USE', 'MONTHS_SINCE_SALE',\n",
       "       'CONFID_FLG', 'OBJECTID', 'full_address', 'geocoded'],\n",
       "      dtype='object')"
      ]
     },
     "execution_count": 78,
     "metadata": {},
     "output_type": "execute_result"
    }
   ],
   "source": [
    "PB_agri2.columns"
   ]
  },
  {
   "cell_type": "code",
   "execution_count": 98,
   "id": "5deb393e",
   "metadata": {},
   "outputs": [],
   "source": [
    "# Create a new DataFrame with necessary columns\n",
    "data = PB_agri2[['PARCEL_NUMBER', 'OWNER_NAME1', 'OWNER_NAME2', 'STREET_NUMBER', 'STREET_FRACTION', 'PRE_DIR',\n",
    "           'STREET_NAME', 'STREET_SUFFIX_ABBR', 'POST_DIR', 'SITE_ADDR_STR', 'SUBDIV_NAME', 'YEAR_ADDED',\n",
    "           'LAND_MARKET', 'IMPRV_MRKT', 'PROPERTY_USE', 'MONTHS_SINCE_SALE', 'CONFID_FLG', 'full_address',\n",
    "           'geocoded']]\n",
    "\n",
    "# Drop rows with NaN values in the \"geocoded\" column\n",
    "data = data.dropna(subset=['geocoded'])\n",
    "\n",
    "# Preprocess the string representation of tuples\n",
    "data['geocoded'] = data['geocoded'].str.replace('(', '').str.replace(')', '').str.split(', ')\n",
    "\n",
    "# Convert the string representation of tuples to actual tuples\n",
    "data['geocoded'] = data['geocoded'].apply(lambda x: tuple(float(coord) for coord in x) if isinstance(x, list) else None)\n",
    "\n",
    "# Convert tuples to Point objects in the \"geometry\" column\n",
    "data['geometry'] = data['geocoded'].apply(lambda x: Point(x[1], x[0]) if isinstance(x, tuple) and len(x) == 2 else None)\n",
    "\n",
    "# Create a GeoDataFrame\n",
    "gdf = gpd.GeoDataFrame(data, geometry='geometry')"
   ]
  },
  {
   "cell_type": "code",
   "execution_count": 108,
   "id": "61bbd263",
   "metadata": {},
   "outputs": [],
   "source": [
    "gdf = gdf.drop(columns=['geocoded'])"
   ]
  },
  {
   "cell_type": "code",
   "execution_count": 109,
   "id": "314ce990",
   "metadata": {},
   "outputs": [],
   "source": [
    "# Save the GeoDataFrame as a GeoJSON file\n",
    "gdf.to_file('PB_agri.geojson', driver='GeoJSON')"
   ]
  },
  {
   "cell_type": "code",
   "execution_count": null,
   "id": "ae913452",
   "metadata": {},
   "outputs": [],
   "source": [
    "# MD_agri[['X_COORD','Y_COORD']] = MD_agri[['X_COORD','Y_COORD']].astype(float)\n",
    "# MD_agri['X_COORD'] = MD_agri['X_COORD'] * -1"
   ]
  },
  {
   "cell_type": "code",
   "execution_count": 10,
   "id": "eedfe8b8",
   "metadata": {},
   "outputs": [],
   "source": [
    "# MD_agri.to_file('MD_agri.geojson', driver='GeoJSON')"
   ]
  },
  {
   "cell_type": "markdown",
   "id": "0ec25c7b",
   "metadata": {},
   "source": [
    "## Map URL Snagger"
   ]
  },
  {
   "cell_type": "code",
   "execution_count": 11,
   "id": "7592d1e9",
   "metadata": {},
   "outputs": [],
   "source": [
    "# base_name = 'https://trd-digital.github.io/trd-news-interactive-maps/'"
   ]
  },
  {
   "cell_type": "code",
   "execution_count": 110,
   "id": "51eeb1d7",
   "metadata": {},
   "outputs": [],
   "source": [
    "# cwd = os.getcwd()\n",
    "\n",
    "# cwd = cwd.split('/')\n",
    "\n",
    "# final_name = base_name + cwd[-1]\n",
    "# print(final_name)"
   ]
  }
 ],
 "metadata": {
  "kernelspec": {
   "display_name": "Python 3 (ipykernel)",
   "language": "python",
   "name": "python3"
  },
  "language_info": {
   "codemirror_mode": {
    "name": "ipython",
    "version": 3
   },
   "file_extension": ".py",
   "mimetype": "text/x-python",
   "name": "python",
   "nbconvert_exporter": "python",
   "pygments_lexer": "ipython3",
   "version": "3.9.12"
  }
 },
 "nbformat": 4,
 "nbformat_minor": 5
}
