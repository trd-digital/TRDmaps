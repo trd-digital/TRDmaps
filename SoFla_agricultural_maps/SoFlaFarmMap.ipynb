{
 "cells": [
  {
   "cell_type": "markdown",
   "id": "68f91129",
   "metadata": {},
   "source": [
    "## Imports"
   ]
  },
  {
   "cell_type": "code",
   "execution_count": 3,
   "id": "5b914c6a",
   "metadata": {},
   "outputs": [],
   "source": [
    "import googlemaps\n",
    "import pandas as pd\n",
    "import numpy as np\n",
    "import re\n",
    "import os\n",
    "import geopandas as gpd\n",
    "import folium"
   ]
  },
  {
   "cell_type": "markdown",
   "id": "e626f4a2",
   "metadata": {},
   "source": [
    "## Links"
   ]
  },
  {
   "cell_type": "markdown",
   "id": "2f137351",
   "metadata": {},
   "source": [
    "Miami-Dade data download: https://gis-mdc.opendata.arcgis.com/datasets/MDC::property-boundary-view/about\n",
    "DOR Use code descriptions: https://gis-mdc.opendata.arcgis.com/datasets/MDC::dor-code/explore\n",
    "\n",
    "Palm Beach data download: https://opendata2-pbcgov.opendata.arcgis.com/datasets/PBCGOV::property-information-table/explore\n",
    "\n",
    "Broward Property Appraiser \"Contact Us\" page: https://bcpa.net/phone.asp"
   ]
  },
  {
   "cell_type": "markdown",
   "id": "383b55e8",
   "metadata": {},
   "source": [
    "## Data read-in"
   ]
  },
  {
   "cell_type": "code",
   "execution_count": 4,
   "id": "7728fa62",
   "metadata": {},
   "outputs": [],
   "source": [
    "MiamiDade = gpd.read_file('Property_Boundary_View.geojson')\n",
    "# PalmBeach = pd.read_csv('Property_Information_Table.csv',dtype='str')"
   ]
  },
  {
   "cell_type": "code",
   "execution_count": null,
   "id": "d92270a9",
   "metadata": {},
   "outputs": [],
   "source": [
    "# Broward = gpd.read_file('broward_2022pin/broward_2022pin.shp')"
   ]
  },
  {
   "cell_type": "markdown",
   "id": "0fc5f533",
   "metadata": {},
   "source": [
    "## Data Check"
   ]
  },
  {
   "cell_type": "code",
   "execution_count": 5,
   "id": "57ca4d3c",
   "metadata": {},
   "outputs": [],
   "source": [
    "MD_agri = MiamiDade[MiamiDade['DOR_DESC'].str.contains('AGRI',na=False)]"
   ]
  },
  {
   "cell_type": "code",
   "execution_count": null,
   "id": "6fc69856",
   "metadata": {},
   "outputs": [],
   "source": [
    "# PB_agri = PalmBeach[PalmBeach['PROPERTY_USE'].str.contains('AGRI',na=False)]"
   ]
  },
  {
   "cell_type": "markdown",
   "id": "abdd6582",
   "metadata": {},
   "source": [
    "## Make Map"
   ]
  },
  {
   "cell_type": "code",
   "execution_count": 6,
   "id": "6713c676",
   "metadata": {},
   "outputs": [
    {
     "name": "stderr",
     "output_type": "stream",
     "text": [
      "/Users/afarence/opt/anaconda3/lib/python3.9/site-packages/geopandas/geodataframe.py:1472: SettingWithCopyWarning: \n",
      "A value is trying to be set on a copy of a slice from a DataFrame.\n",
      "Try using .loc[row_indexer,col_indexer] = value instead\n",
      "\n",
      "See the caveats in the documentation: https://pandas.pydata.org/pandas-docs/stable/user_guide/indexing.html#returning-a-view-versus-a-copy\n",
      "  super().__setitem__(key, value)\n"
     ]
    }
   ],
   "source": [
    "MD_agri['COLOR'] = 'blue'\n",
    "# PB_agri['COLOR'] = 'orange'"
   ]
  },
  {
   "cell_type": "code",
   "execution_count": 7,
   "id": "f199d7d1",
   "metadata": {},
   "outputs": [],
   "source": [
    "def popup_html_MD(row):\n",
    "    address = row['TRUE_SITE_ADDR']\n",
    "    folio = row['FOLIO']\n",
    "    \n",
    "    html = '''<!DOCTYPE html>\n",
    "    <html>\n",
    "    <strong>Address: </strong>{}'''.format(address) + '''<br>\n",
    "    <strong>Folio: </strong>{}'''.format(folio) + '''<br>\n",
    "    </html>\n",
    "    '''\n",
    "    return html\n",
    "\n",
    "# def popup_html_PB(row):\n",
    "#     address = row['SITE_ADDR_STR']\n",
    "#     folio = row['PARCEL_NUMBER']\n",
    "    \n",
    "#     html = '''<!DOCTYPE html>\n",
    "#     <html>\n",
    "#     <strong>Address: </strong>{}'''.format(address) + '''<br>\n",
    "#     <strong>Folio: </strong>{}'''.format(folio) + '''<br>\n",
    "#     </html>\n",
    "#     '''\n",
    "#     return html\n",
    "\n",
    "# def popup_html_BC(row):\n",
    "#     folio = row['PARCELNO']\n",
    "    \n",
    "#     html = '''<!DOCTYPE html>\n",
    "#     <html>\n",
    "#     <strong>Folio: </strong>{}'''.format(folio) + '''<br>\n",
    "#     </html>\n",
    "#     '''\n",
    "#     return html"
   ]
  },
  {
   "cell_type": "markdown",
   "id": "49b9826a",
   "metadata": {},
   "source": [
    "## Geocode"
   ]
  },
  {
   "cell_type": "code",
   "execution_count": null,
   "id": "a0ef74dd",
   "metadata": {},
   "outputs": [],
   "source": [
    "# %store -r google_maps_API_Key\n",
    "# gmaps_key = googlemaps.Client(key=google_maps_API_Key)"
   ]
  },
  {
   "cell_type": "code",
   "execution_count": null,
   "id": "38ea389b",
   "metadata": {},
   "outputs": [],
   "source": [
    "# PB_agri['full_address'] = PB_agri['SITE_ADDR_STR'] + ' Palm Beach County, FL'"
   ]
  },
  {
   "cell_type": "code",
   "execution_count": null,
   "id": "74641130",
   "metadata": {},
   "outputs": [],
   "source": [
    "# def geocode(add):\n",
    "#     g = gmaps_key.geocode(add)\n",
    "#     lat = g[0][\"geometry\"][\"location\"][\"lat\"]\n",
    "#     lng = g[0][\"geometry\"][\"location\"][\"lng\"]\n",
    "#     return (lat, lng)\n",
    "\n",
    "# PB_agri['geocoded'] = PB_agri['full_address'].apply(geocode)"
   ]
  },
  {
   "cell_type": "code",
   "execution_count": 8,
   "id": "ae913452",
   "metadata": {},
   "outputs": [
    {
     "name": "stderr",
     "output_type": "stream",
     "text": [
      "/Users/afarence/opt/anaconda3/lib/python3.9/site-packages/geopandas/geodataframe.py:1472: SettingWithCopyWarning: \n",
      "A value is trying to be set on a copy of a slice from a DataFrame.\n",
      "Try using .loc[row_indexer,col_indexer] = value instead\n",
      "\n",
      "See the caveats in the documentation: https://pandas.pydata.org/pandas-docs/stable/user_guide/indexing.html#returning-a-view-versus-a-copy\n",
      "  super().__setitem__(key, value)\n"
     ]
    }
   ],
   "source": [
    "MD_agri[['X_COORD','Y_COORD']] = MD_agri[['X_COORD','Y_COORD']].astype(float)\n",
    "MD_agri['X_COORD'] = MD_agri['X_COORD'] * -1"
   ]
  },
  {
   "cell_type": "code",
   "execution_count": 10,
   "id": "eedfe8b8",
   "metadata": {},
   "outputs": [],
   "source": [
    "MD_agri.to_file('MD_agri.geojson', driver='GeoJSON')"
   ]
  },
  {
   "cell_type": "code",
   "execution_count": null,
   "id": "366c7760",
   "metadata": {},
   "outputs": [],
   "source": [
    "### Create map container ###\n",
    "m = folium.Map(location=[MD_agri.centroid.y.mean(), MD_agri.centroid.x.mean()], zoom_start=10)\n",
    "\n",
    "title_html = '''\n",
    "              <h3 align=\"center\" style=\"font-size:16px\"><b>{}</b></h3>\n",
    "             '''.format(f'South Florida Agricultural Properties')\n",
    "\n",
    "# Add the GeoJSON layer to the map\n",
    "folium.GeoJson(MD_agri.to_json(),\n",
    "               name='geojson',\n",
    "               popup=folium.features.GeoJsonPopup(fields=['TRUE_SITE_ADDR', 'FOLIO'])\n",
    "              ).add_to(m)\n",
    "\n",
    "# folium.GeoJson(Broward.to_json(),\n",
    "#                name='geojson',\n",
    "#                popup=folium.features.GeoJsonPopup(fields=['PARCELNO'])\n",
    "#               ).add_to(m)\n",
    "\n",
    "m.get_root().html.add_child(folium.Element(title_html))\n",
    "\n",
    "# Function to handle search and zoom to the entered address\n",
    "def zoom_to_address(address):\n",
    "    geolocator = Nominatim(user_agent=\"my-app\")\n",
    "    location = geolocator.geocode(address)\n",
    "    if location:\n",
    "        # Zoom to the location\n",
    "        m.fit_bounds([[location.latitude, location.longitude], [location.latitude, location.longitude]])\n",
    "        # Add a marker at the location\n",
    "        folium.Marker(\n",
    "            [location.latitude, location.longitude],\n",
    "            popup=address\n",
    "        ).add_to(m)\n",
    "\n",
    "# Create a Tkinter window\n",
    "root = tk.Tk()\n",
    "\n",
    "# Prompt the user to enter an address\n",
    "address = simpledialog.askstring(\"Address\", \"Enter an address\")\n",
    "\n",
    "# Zoom to the entered address\n",
    "zoom_to_address(address)\n",
    "            \n",
    "# Display map\n",
    "m"
   ]
  },
  {
   "cell_type": "code",
   "execution_count": null,
   "id": "ed02e43e",
   "metadata": {},
   "outputs": [],
   "source": [
    "m.save('index.html')"
   ]
  },
  {
   "cell_type": "markdown",
   "id": "0ec25c7b",
   "metadata": {},
   "source": [
    "## Map URL Snagger"
   ]
  },
  {
   "cell_type": "code",
   "execution_count": 11,
   "id": "7592d1e9",
   "metadata": {},
   "outputs": [],
   "source": [
    "base_name = 'https://trd-digital.github.io/trd-news-interactive-maps/'"
   ]
  },
  {
   "cell_type": "code",
   "execution_count": 12,
   "id": "51eeb1d7",
   "metadata": {},
   "outputs": [
    {
     "name": "stdout",
     "output_type": "stream",
     "text": [
      "https://trd-digital.github.io/trd-news-interactive-maps/SoFla_agricultural_maps\n"
     ]
    }
   ],
   "source": [
    "cwd = os.getcwd()\n",
    "\n",
    "cwd = cwd.split('/')\n",
    "\n",
    "final_name = base_name + cwd[-1]\n",
    "print(final_name)"
   ]
  }
 ],
 "metadata": {
  "kernelspec": {
   "display_name": "Python 3 (ipykernel)",
   "language": "python",
   "name": "python3"
  },
  "language_info": {
   "codemirror_mode": {
    "name": "ipython",
    "version": 3
   },
   "file_extension": ".py",
   "mimetype": "text/x-python",
   "name": "python",
   "nbconvert_exporter": "python",
   "pygments_lexer": "ipython3",
   "version": "3.9.12"
  }
 },
 "nbformat": 4,
 "nbformat_minor": 5
}
