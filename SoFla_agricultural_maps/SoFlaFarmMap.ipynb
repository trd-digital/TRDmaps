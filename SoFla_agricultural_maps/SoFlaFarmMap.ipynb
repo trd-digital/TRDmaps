{
 "cells": [
  {
   "cell_type": "markdown",
   "id": "68f91129",
   "metadata": {},
   "source": [
    "## Imports"
   ]
  },
  {
   "cell_type": "code",
   "execution_count": 1,
   "id": "5b914c6a",
   "metadata": {},
   "outputs": [],
   "source": [
    "import googlemaps\n",
    "import pandas as pd\n",
    "import numpy as np\n",
    "import re\n",
    "import os\n",
    "import geopandas as gpd\n",
    "import folium\n",
    "from shapely.geometry import Polygon\n",
    "from pyproj import CRS\n",
    "import math"
   ]
  },
  {
   "cell_type": "markdown",
   "id": "9a03530e",
   "metadata": {},
   "source": [
    "## Imports"
   ]
  },
  {
   "cell_type": "code",
   "execution_count": 2,
   "id": "3a32f5b4",
   "metadata": {},
   "outputs": [],
   "source": [
    "pd.set_option('display.max_columns',None)"
   ]
  },
  {
   "cell_type": "markdown",
   "id": "e626f4a2",
   "metadata": {},
   "source": [
    "## Links"
   ]
  },
  {
   "cell_type": "markdown",
   "id": "2f137351",
   "metadata": {},
   "source": [
    "Miami-Dade data download: https://gis-mdc.opendata.arcgis.com/datasets/MDC::property-boundary-view/about\n",
    "DOR Use code descriptions: https://gis-mdc.opendata.arcgis.com/datasets/MDC::dor-code/explore\n",
    "\n",
    "Palm Beach data download: https://opendata2-pbcgov.opendata.arcgis.com/datasets/PBCGOV::property-information-table/explore\n",
    "\n",
    "Broward Property Appraiser \"Contact Us\" page: https://bcpa.net/phone.asp"
   ]
  },
  {
   "cell_type": "markdown",
   "id": "383b55e8",
   "metadata": {},
   "source": [
    "## Data read-in"
   ]
  },
  {
   "cell_type": "code",
   "execution_count": 3,
   "id": "7728fa62",
   "metadata": {},
   "outputs": [],
   "source": [
    "# Read in geographic data\n",
    "MiamiDade_geo = gpd.read_file('miamidade_2022pin')\n",
    "PalmBeach_geo = gpd.read_file('palmbeach_2022pin')\n",
    "Broward_geo = gpd.read_file('broward_2022pin')"
   ]
  },
  {
   "cell_type": "code",
   "execution_count": 4,
   "id": "3767796d",
   "metadata": {},
   "outputs": [],
   "source": [
    "So_Fla_geo_list = [MiamiDade_geo,PalmBeach_geo,Broward_geo]"
   ]
  },
  {
   "cell_type": "code",
   "execution_count": 5,
   "id": "debfad85",
   "metadata": {},
   "outputs": [],
   "source": [
    "So_Fla_geo = gpd.GeoDataFrame(pd.concat(So_Fla_geo_list,ignore_index=True))"
   ]
  },
  {
   "cell_type": "code",
   "execution_count": 6,
   "id": "847be4e3",
   "metadata": {
    "scrolled": true
   },
   "outputs": [],
   "source": [
    "# Set the desired CRS\n",
    "target_crs = CRS.from_epsg(4326)\n",
    "\n",
    "# Change it to the desired crs\n",
    "So_Fla = So_Fla_geo.to_crs(target_crs)\n",
    "# MiamiDade = MiamiDade_geo.to_crs(target_crs)\n",
    "# PalmBeach = PalmBeach_geo.to_crs(target_crs)\n",
    "# Broward = Broward_geo.to_crs(target_crs)"
   ]
  },
  {
   "cell_type": "code",
   "execution_count": 7,
   "id": "d92270a9",
   "metadata": {},
   "outputs": [],
   "source": [
    "# Load in Property Appraiser data\n",
    "MiamiDade_data = gpd.read_file('NAL23F202201.dbf')\n",
    "PalmBeach_data = gpd.read_file('NAL60F202201.dbf')\n",
    "Broward_data = gpd.read_file('NAL16F202201.dbf')"
   ]
  },
  {
   "cell_type": "code",
   "execution_count": 8,
   "id": "e9b00843",
   "metadata": {},
   "outputs": [],
   "source": [
    "# Concat non geo dataframes\n",
    "data_list = [MiamiDade_data,PalmBeach_data,Broward_data]\n",
    "\n",
    "So_Fla_data = gpd.GeoDataFrame(pd.concat(data_list,ignore_index=True))"
   ]
  },
  {
   "cell_type": "code",
   "execution_count": 9,
   "id": "176534cc",
   "metadata": {},
   "outputs": [],
   "source": [
    "# Drop the empty 'geometry' column\n",
    "So_Fla_data = So_Fla_data.drop(columns='geometry')"
   ]
  },
  {
   "cell_type": "code",
   "execution_count": 10,
   "id": "69011cbd",
   "metadata": {},
   "outputs": [],
   "source": [
    "# Convert the 'DOR_UC' code to type int\n",
    "So_Fla_data['DOR_UC'] = So_Fla_data['DOR_UC'].astype(int)"
   ]
  },
  {
   "cell_type": "code",
   "execution_count": 11,
   "id": "9aa61c8a",
   "metadata": {},
   "outputs": [],
   "source": [
    "# Whittle down the data to agricutlrual properties only\n",
    "So_Fla_data_agri = So_Fla_data[(So_Fla_data['DOR_UC'] >= 50) & (So_Fla_data['DOR_UC'] <= 69)]"
   ]
  },
  {
   "cell_type": "code",
   "execution_count": 12,
   "id": "72934571",
   "metadata": {},
   "outputs": [],
   "source": [
    "merged_So_Fla_agri = pd.merge(So_Fla_data_agri,So_Fla, left_on='PARCEL_ID', right_on='PARCELNO', how='inner')"
   ]
  },
  {
   "cell_type": "code",
   "execution_count": 13,
   "id": "8cb07178",
   "metadata": {},
   "outputs": [],
   "source": [
    "columns_to_keep = ['PARCEL_ID','DOR_UC','PHY_ADDR1','PHY_CITY','geometry']"
   ]
  },
  {
   "cell_type": "code",
   "execution_count": 14,
   "id": "98673bbd",
   "metadata": {},
   "outputs": [],
   "source": [
    "merged_So_Fla_agri_final = merged_So_Fla_agri[columns_to_keep]"
   ]
  },
  {
   "cell_type": "code",
   "execution_count": 15,
   "id": "3cf943fe",
   "metadata": {},
   "outputs": [
    {
     "name": "stderr",
     "output_type": "stream",
     "text": [
      "/var/folders/rq/0_j_rksd7psgdycg9c1qwf6m0000gp/T/ipykernel_19042/2304607047.py:1: SettingWithCopyWarning: \n",
      "A value is trying to be set on a copy of a slice from a DataFrame.\n",
      "Try using .loc[row_indexer,col_indexer] = value instead\n",
      "\n",
      "See the caveats in the documentation: https://pandas.pydata.org/pandas-docs/stable/user_guide/indexing.html#returning-a-view-versus-a-copy\n",
      "  merged_So_Fla_agri_final['PHY_ADDR1'] = merged_So_Fla_agri_final['PHY_ADDR1'].fillna('No Physical Address')\n"
     ]
    }
   ],
   "source": [
    "merged_So_Fla_agri_final['PHY_ADDR1'] = merged_So_Fla_agri_final['PHY_ADDR1'].fillna('No Physical Address')"
   ]
  },
  {
   "cell_type": "code",
   "execution_count": 16,
   "id": "acd05151",
   "metadata": {},
   "outputs": [],
   "source": [
    "# Create a GeoDataFrame\n",
    "gdf = gpd.GeoDataFrame(merged_So_Fla_agri_final, geometry='geometry')\n",
    "\n",
    "# Save the GeoDataFrame as a GeoJSON file\n",
    "gdf.to_file('SoFla_agri_final.geojson', driver='GeoJSON')"
   ]
  },
  {
   "cell_type": "markdown",
   "id": "79ddda08",
   "metadata": {},
   "source": [
    "## SoFla Other Restricted Properties"
   ]
  },
  {
   "cell_type": "code",
   "execution_count": 17,
   "id": "efaeb67f",
   "metadata": {},
   "outputs": [],
   "source": [
    "# Create zone descriptions\n",
    "data = [\n",
    "    {'DOR_UC':47,'DESC':'Mineral processing, phosphate processing, cement plants, refineries, clay plants, rock and gravel plants.'},\n",
    "    {'DOR_UC':91,'DESC':'Utility, gas and electricity, telephone and telegraph, locally assessed railroads, water and sewer service, pipelines, canals, radio/television communication.'},\n",
    "    {'DOR_UC':96,'DESC':'Sewage disposal, solid waste, borrow pits, drainage reservoirs, waste land, marsh, sand dunes, swamps.'},\n",
    "    {'DOR_UC':49,'DESC':'Open storage, new and used building supplies, junk yards, auto wrecking, fuel storage, equipment and material storage.'},\n",
    "    {'DOR_UC':20,'DESC':'Airports (private or commercial), bus terminals, marine terminals, piers, marinas.'}\n",
    "       ]\n",
    "\n",
    "DOR_desc_df = pd.DataFrame(data)"
   ]
  },
  {
   "cell_type": "code",
   "execution_count": 18,
   "id": "25f8348b",
   "metadata": {},
   "outputs": [],
   "source": [
    "from shapely.ops import cascaded_union\n",
    "from shapely.geometry import Polygon"
   ]
  },
  {
   "cell_type": "code",
   "execution_count": 20,
   "id": "59ac7eae",
   "metadata": {},
   "outputs": [],
   "source": [
    "keep_list = [47, 91, 96, 49, 20, 81]\n",
    "keep_list_airports = ['3031290000011','3079120000010','0821200000010','504222000311','00434431000001010','00434332000001090','00414201000005020']"
   ]
  },
  {
   "cell_type": "code",
   "execution_count": 21,
   "id": "06952aae",
   "metadata": {},
   "outputs": [
    {
     "ename": "KeyError",
     "evalue": "'DOR_UC'",
     "output_type": "error",
     "traceback": [
      "\u001b[0;31m---------------------------------------------------------------------------\u001b[0m",
      "\u001b[0;31mKeyError\u001b[0m                                  Traceback (most recent call last)",
      "File \u001b[0;32m~/opt/anaconda3/lib/python3.9/site-packages/pandas/core/indexes/base.py:3652\u001b[0m, in \u001b[0;36mIndex.get_loc\u001b[0;34m(self, key)\u001b[0m\n\u001b[1;32m   3651\u001b[0m \u001b[38;5;28;01mtry\u001b[39;00m:\n\u001b[0;32m-> 3652\u001b[0m     \u001b[38;5;28;01mreturn\u001b[39;00m \u001b[38;5;28;43mself\u001b[39;49m\u001b[38;5;241;43m.\u001b[39;49m\u001b[43m_engine\u001b[49m\u001b[38;5;241;43m.\u001b[39;49m\u001b[43mget_loc\u001b[49m\u001b[43m(\u001b[49m\u001b[43mcasted_key\u001b[49m\u001b[43m)\u001b[49m\n\u001b[1;32m   3653\u001b[0m \u001b[38;5;28;01mexcept\u001b[39;00m \u001b[38;5;167;01mKeyError\u001b[39;00m \u001b[38;5;28;01mas\u001b[39;00m err:\n",
      "File \u001b[0;32m~/opt/anaconda3/lib/python3.9/site-packages/pandas/_libs/index.pyx:147\u001b[0m, in \u001b[0;36mpandas._libs.index.IndexEngine.get_loc\u001b[0;34m()\u001b[0m\n",
      "File \u001b[0;32m~/opt/anaconda3/lib/python3.9/site-packages/pandas/_libs/index.pyx:176\u001b[0m, in \u001b[0;36mpandas._libs.index.IndexEngine.get_loc\u001b[0;34m()\u001b[0m\n",
      "File \u001b[0;32mpandas/_libs/hashtable_class_helper.pxi:7080\u001b[0m, in \u001b[0;36mpandas._libs.hashtable.PyObjectHashTable.get_item\u001b[0;34m()\u001b[0m\n",
      "File \u001b[0;32mpandas/_libs/hashtable_class_helper.pxi:7088\u001b[0m, in \u001b[0;36mpandas._libs.hashtable.PyObjectHashTable.get_item\u001b[0;34m()\u001b[0m\n",
      "\u001b[0;31mKeyError\u001b[0m: 'DOR_UC'",
      "\nThe above exception was the direct cause of the following exception:\n",
      "\u001b[0;31mKeyError\u001b[0m                                  Traceback (most recent call last)",
      "Cell \u001b[0;32mIn[21], line 1\u001b[0m\n\u001b[0;32m----> 1\u001b[0m So_Fla_geo_restricted \u001b[38;5;241m=\u001b[39m So_Fla_geo[(\u001b[43mSo_Fla_geo\u001b[49m\u001b[43m[\u001b[49m\u001b[38;5;124;43m'\u001b[39;49m\u001b[38;5;124;43mDOR_UC\u001b[39;49m\u001b[38;5;124;43m'\u001b[39;49m\u001b[43m]\u001b[49m\u001b[38;5;241m.\u001b[39misin(keep_list)) \u001b[38;5;241m|\u001b[39m (So_Fla_geo[\u001b[38;5;124m'\u001b[39m\u001b[38;5;124mPARCEL_ID\u001b[39m\u001b[38;5;124m'\u001b[39m]\u001b[38;5;241m.\u001b[39misin(keep_list_airports))]\n",
      "File \u001b[0;32m~/opt/anaconda3/lib/python3.9/site-packages/geopandas/geodataframe.py:1428\u001b[0m, in \u001b[0;36mGeoDataFrame.__getitem__\u001b[0;34m(self, key)\u001b[0m\n\u001b[1;32m   1422\u001b[0m \u001b[38;5;28;01mdef\u001b[39;00m \u001b[38;5;21m__getitem__\u001b[39m(\u001b[38;5;28mself\u001b[39m, key):\n\u001b[1;32m   1423\u001b[0m     \u001b[38;5;124;03m\"\"\"\u001b[39;00m\n\u001b[1;32m   1424\u001b[0m \u001b[38;5;124;03m    If the result is a column containing only 'geometry', return a\u001b[39;00m\n\u001b[1;32m   1425\u001b[0m \u001b[38;5;124;03m    GeoSeries. If it's a DataFrame with any columns of GeometryDtype,\u001b[39;00m\n\u001b[1;32m   1426\u001b[0m \u001b[38;5;124;03m    return a GeoDataFrame.\u001b[39;00m\n\u001b[1;32m   1427\u001b[0m \u001b[38;5;124;03m    \"\"\"\u001b[39;00m\n\u001b[0;32m-> 1428\u001b[0m     result \u001b[38;5;241m=\u001b[39m \u001b[38;5;28;43msuper\u001b[39;49m\u001b[43m(\u001b[49m\u001b[43m)\u001b[49m\u001b[38;5;241;43m.\u001b[39;49m\u001b[38;5;21;43m__getitem__\u001b[39;49m\u001b[43m(\u001b[49m\u001b[43mkey\u001b[49m\u001b[43m)\u001b[49m\n\u001b[1;32m   1429\u001b[0m     geo_col \u001b[38;5;241m=\u001b[39m \u001b[38;5;28mself\u001b[39m\u001b[38;5;241m.\u001b[39m_geometry_column_name\n\u001b[1;32m   1430\u001b[0m     \u001b[38;5;28;01mif\u001b[39;00m \u001b[38;5;28misinstance\u001b[39m(result, Series) \u001b[38;5;129;01mand\u001b[39;00m \u001b[38;5;28misinstance\u001b[39m(result\u001b[38;5;241m.\u001b[39mdtype, GeometryDtype):\n",
      "File \u001b[0;32m~/opt/anaconda3/lib/python3.9/site-packages/pandas/core/frame.py:3761\u001b[0m, in \u001b[0;36mDataFrame.__getitem__\u001b[0;34m(self, key)\u001b[0m\n\u001b[1;32m   3759\u001b[0m \u001b[38;5;28;01mif\u001b[39;00m \u001b[38;5;28mself\u001b[39m\u001b[38;5;241m.\u001b[39mcolumns\u001b[38;5;241m.\u001b[39mnlevels \u001b[38;5;241m>\u001b[39m \u001b[38;5;241m1\u001b[39m:\n\u001b[1;32m   3760\u001b[0m     \u001b[38;5;28;01mreturn\u001b[39;00m \u001b[38;5;28mself\u001b[39m\u001b[38;5;241m.\u001b[39m_getitem_multilevel(key)\n\u001b[0;32m-> 3761\u001b[0m indexer \u001b[38;5;241m=\u001b[39m \u001b[38;5;28;43mself\u001b[39;49m\u001b[38;5;241;43m.\u001b[39;49m\u001b[43mcolumns\u001b[49m\u001b[38;5;241;43m.\u001b[39;49m\u001b[43mget_loc\u001b[49m\u001b[43m(\u001b[49m\u001b[43mkey\u001b[49m\u001b[43m)\u001b[49m\n\u001b[1;32m   3762\u001b[0m \u001b[38;5;28;01mif\u001b[39;00m is_integer(indexer):\n\u001b[1;32m   3763\u001b[0m     indexer \u001b[38;5;241m=\u001b[39m [indexer]\n",
      "File \u001b[0;32m~/opt/anaconda3/lib/python3.9/site-packages/pandas/core/indexes/base.py:3654\u001b[0m, in \u001b[0;36mIndex.get_loc\u001b[0;34m(self, key)\u001b[0m\n\u001b[1;32m   3652\u001b[0m     \u001b[38;5;28;01mreturn\u001b[39;00m \u001b[38;5;28mself\u001b[39m\u001b[38;5;241m.\u001b[39m_engine\u001b[38;5;241m.\u001b[39mget_loc(casted_key)\n\u001b[1;32m   3653\u001b[0m \u001b[38;5;28;01mexcept\u001b[39;00m \u001b[38;5;167;01mKeyError\u001b[39;00m \u001b[38;5;28;01mas\u001b[39;00m err:\n\u001b[0;32m-> 3654\u001b[0m     \u001b[38;5;28;01mraise\u001b[39;00m \u001b[38;5;167;01mKeyError\u001b[39;00m(key) \u001b[38;5;28;01mfrom\u001b[39;00m \u001b[38;5;21;01merr\u001b[39;00m\n\u001b[1;32m   3655\u001b[0m \u001b[38;5;28;01mexcept\u001b[39;00m \u001b[38;5;167;01mTypeError\u001b[39;00m:\n\u001b[1;32m   3656\u001b[0m     \u001b[38;5;66;03m# If we have a listlike key, _check_indexing_error will raise\u001b[39;00m\n\u001b[1;32m   3657\u001b[0m     \u001b[38;5;66;03m#  InvalidIndexError. Otherwise we fall through and re-raise\u001b[39;00m\n\u001b[1;32m   3658\u001b[0m     \u001b[38;5;66;03m#  the TypeError.\u001b[39;00m\n\u001b[1;32m   3659\u001b[0m     \u001b[38;5;28mself\u001b[39m\u001b[38;5;241m.\u001b[39m_check_indexing_error(key)\n",
      "\u001b[0;31mKeyError\u001b[0m: 'DOR_UC'"
     ]
    }
   ],
   "source": [
    "So_Fla_geo_restricted = So_Fla_geo[(So_Fla_geo['DOR_UC'].isin(keep_list)) | (So_Fla_geo['PARCEL_ID'].isin(keep_list_airports))]"
   ]
  },
  {
   "cell_type": "markdown",
   "id": "4dfd2ed6",
   "metadata": {},
   "source": [
    "To do:\n",
    "- Get addresses for airports in South Florida\n",
    "- Use property appraiser to get folios\n",
    "- Create list of folios and use to expand the 'restricted list'\n",
    "- Use list of folios to add an airport 'dor_desc'\n",
    "\n",
    "- Change \"undefined\" for addresses to \"no physical address\""
   ]
  },
  {
   "cell_type": "code",
   "execution_count": 24,
   "id": "1596e178",
   "metadata": {},
   "outputs": [],
   "source": [
    "airport_data = [\n",
    "    {'Airport':'MIA','Folio':'3031290000011','Address':'4250 NW 36 ST'},\n",
    "    {'Airport':'HST','Folio':'3079120000010','Address':'28205 SW 125 AVE'},\n",
    "    {'Airport':'OPF','Folio':'0821200000010','Address':'14201 NW 42nd Ave'},\n",
    "    {'Airport':'FLL','Folio':'504222000311','Address':'100 Terminal Drive'},\n",
    "    {'Airport':'LNA','Folio':'00434431000001010','Address':'2633 LANTANA RD'},\n",
    "    {'Airport':'PBI','Folio':'00434332000001090','Address':'1250 PERIMETER RD'},\n",
    "    {'Airport':'F45','Folio':'00414201000005020','Address':'11200 AVIATION BLVD'}\n",
    "]\n",
    "\n",
    "airport_df = pd.DataFrame(airport_data)"
   ]
  },
  {
   "cell_type": "code",
   "execution_count": 27,
   "id": "17269c9a",
   "metadata": {},
   "outputs": [
    {
     "ename": "NameError",
     "evalue": "name 'So_Fla_geo_restricted' is not defined",
     "output_type": "error",
     "traceback": [
      "\u001b[0;31m---------------------------------------------------------------------------\u001b[0m",
      "\u001b[0;31mNameError\u001b[0m                                 Traceback (most recent call last)",
      "Cell \u001b[0;32mIn[27], line 1\u001b[0m\n\u001b[0;32m----> 1\u001b[0m merged_So_Fla_restricted \u001b[38;5;241m=\u001b[39m pd\u001b[38;5;241m.\u001b[39mmerge(\u001b[43mSo_Fla_geo_restricted\u001b[49m,So_Fla, left_on\u001b[38;5;241m=\u001b[39m\u001b[38;5;124m'\u001b[39m\u001b[38;5;124mPARCEL_ID\u001b[39m\u001b[38;5;124m'\u001b[39m, right_on\u001b[38;5;241m=\u001b[39m\u001b[38;5;124m'\u001b[39m\u001b[38;5;124mPARCELNO\u001b[39m\u001b[38;5;124m'\u001b[39m, how\u001b[38;5;241m=\u001b[39m\u001b[38;5;124m'\u001b[39m\u001b[38;5;124minner\u001b[39m\u001b[38;5;124m'\u001b[39m)\n",
      "\u001b[0;31mNameError\u001b[0m: name 'So_Fla_geo_restricted' is not defined"
     ]
    }
   ],
   "source": [
    "merged_So_Fla_restricted = pd.merge(So_Fla_geo_restricted,So_Fla, left_on='PARCEL_ID', right_on='PARCELNO', how='inner')"
   ]
  },
  {
   "cell_type": "code",
   "execution_count": null,
   "id": "9038ef5a",
   "metadata": {},
   "outputs": [],
   "source": [
    "merged_So_Fla_restricted = pd.merge(merged_So_Fla_restricted,DOR_desc_df, left_on='DOR_UC',right_on='DOR_UC', how='inner')"
   ]
  },
  {
   "cell_type": "code",
   "execution_count": null,
   "id": "c61cc4ff",
   "metadata": {},
   "outputs": [],
   "source": [
    "merged_So_Fla_restricted_export = merged_So_Fla_restricted"
   ]
  },
  {
   "cell_type": "code",
   "execution_count": null,
   "id": "8e710ad0",
   "metadata": {},
   "outputs": [],
   "source": [
    "merged_So_Fla_restricted_export['PHY_ADDR1'] = merged_So_Fla_restricted_export['PHY_ADDR1'].fillna('No Physical Address')"
   ]
  },
  {
   "cell_type": "code",
   "execution_count": null,
   "id": "63ebe9f2",
   "metadata": {},
   "outputs": [],
   "source": [
    "# Create a GeoDataFrame from the DataFrame\n",
    "merged_So_Fla_restricted_export = gpd.GeoDataFrame(merged_So_Fla_restricted_export, geometry='geometry')\n",
    "\n",
    "# Now you have a GeoDataFrame that you can export as GeoJSON\n",
    "merged_So_Fla_restricted_export.to_file('restricted_export_final.geojson', driver='GeoJSON')"
   ]
  },
  {
   "cell_type": "markdown",
   "id": "dc0265f7",
   "metadata": {},
   "source": [
    "## Create buffer"
   ]
  },
  {
   "cell_type": "code",
   "execution_count": null,
   "id": "eaf15c2b",
   "metadata": {},
   "outputs": [],
   "source": [
    "buffer_target_CRS = CRS.from_epsg(32634)"
   ]
  },
  {
   "cell_type": "code",
   "execution_count": null,
   "id": "9152cefc",
   "metadata": {},
   "outputs": [],
   "source": [
    "# Change it to the desired crs\n",
    "merged_So_Fla_restricted_export = merged_So_Fla_restricted_export.to_crs(buffer_target_CRS)"
   ]
  },
  {
   "cell_type": "code",
   "execution_count": null,
   "id": "8896ba1c",
   "metadata": {},
   "outputs": [],
   "source": [
    "merged_So_Fla_restricted_export['extended_geometry'] = merged_So_Fla_restricted_export.geometry.buffer(10 * 1609.34)  # 10 miles in meters"
   ]
  },
  {
   "cell_type": "code",
   "execution_count": null,
   "id": "3ef91a67",
   "metadata": {},
   "outputs": [],
   "source": [
    "merged_So_Fla_restricted_export = merged_So_Fla_restricted_export.drop(columns='geometry')\n",
    "merged_So_Fla_restricted_export = merged_So_Fla_restricted_export.rename(columns={'extended_geometry':'geometry'})"
   ]
  },
  {
   "cell_type": "code",
   "execution_count": null,
   "id": "18232752",
   "metadata": {},
   "outputs": [],
   "source": [
    "merged_So_Fla_restricted_export = merged_So_Fla_restricted_export.to_crs(target_crs)"
   ]
  },
  {
   "cell_type": "code",
   "execution_count": null,
   "id": "349990db",
   "metadata": {},
   "outputs": [],
   "source": [
    "final_buffer = merged_So_Fla_restricted_export[['CO_NO','geometry']]"
   ]
  },
  {
   "cell_type": "code",
   "execution_count": null,
   "id": "e9af32f4",
   "metadata": {},
   "outputs": [],
   "source": [
    "final_buffer.to_file('final_buffer.geojson',driver='GeoJSON')"
   ]
  },
  {
   "cell_type": "code",
   "execution_count": null,
   "id": "6b6b674f",
   "metadata": {},
   "outputs": [],
   "source": [
    "from shapely.geometry import MultiPolygon\n",
    "\n",
    "# Assuming you have a GeoDataFrame called gdf with a 'geometry' column containing polygons\n",
    "\n",
    "# Create a single polygon representing the outermost border\n",
    "outer_polygon = final_buffer['geometry'].unary_union\n",
    "\n",
    "# Check if the result is a MultiPolygon and convert it to a Polygon if necessary\n",
    "if isinstance(outer_polygon, MultiPolygon):\n",
    "    outer_polygon = outer_polygon.convex_hull\n",
    "\n",
    "# Now you have a single polygon representing the outermost border\n",
    "outer_polygon"
   ]
  },
  {
   "cell_type": "code",
   "execution_count": null,
   "id": "25cdc6bc",
   "metadata": {},
   "outputs": [],
   "source": [
    "# Create a new GeoDataFrame with the outer polygon\n",
    "outer_gdf = gpd.GeoDataFrame(geometry=[outer_polygon])\n",
    "\n",
    "# Set the coordinate reference system (CRS) if needed\n",
    "# outer_gdf.crs = ...\n",
    "\n",
    "# Export the GeoDataFrame to a GeoJSON file\n",
    "outer_gdf.to_file('outer_polygon.geojson', driver='GeoJSON')"
   ]
  }
 ],
 "metadata": {
  "kernelspec": {
   "display_name": "Python 3 (ipykernel)",
   "language": "python",
   "name": "python3"
  },
  "language_info": {
   "codemirror_mode": {
    "name": "ipython",
    "version": 3
   },
   "file_extension": ".py",
   "mimetype": "text/x-python",
   "name": "python",
   "nbconvert_exporter": "python",
   "pygments_lexer": "ipython3",
   "version": "3.9.12"
  }
 },
 "nbformat": 4,
 "nbformat_minor": 5
}
