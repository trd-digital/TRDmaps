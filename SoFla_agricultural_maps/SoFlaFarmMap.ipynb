{
 "cells": [
  {
   "cell_type": "markdown",
   "id": "68f91129",
   "metadata": {},
   "source": [
    "## Imports"
   ]
  },
  {
   "cell_type": "code",
   "execution_count": 1,
   "id": "5b914c6a",
   "metadata": {},
   "outputs": [],
   "source": [
    "import googlemaps\n",
    "import pandas as pd\n",
    "import numpy as np\n",
    "import re\n",
    "import os\n",
    "import geopandas as gpd\n",
    "import folium\n",
    "from shapely.geometry import Polygon\n",
    "from pyproj import CRS\n",
    "import math\n",
    "from shapely.ops import cascaded_union\n",
    "from shapely.geometry import Polygon"
   ]
  },
  {
   "cell_type": "markdown",
   "id": "9a03530e",
   "metadata": {},
   "source": [
    "## Imports"
   ]
  },
  {
   "cell_type": "code",
   "execution_count": 2,
   "id": "3a32f5b4",
   "metadata": {},
   "outputs": [],
   "source": [
    "pd.set_option('display.max_columns',None)"
   ]
  },
  {
   "cell_type": "markdown",
   "id": "e626f4a2",
   "metadata": {},
   "source": [
    "## Links"
   ]
  },
  {
   "cell_type": "markdown",
   "id": "2f137351",
   "metadata": {},
   "source": [
    "Miami-Dade data download: https://gis-mdc.opendata.arcgis.com/datasets/MDC::property-boundary-view/about\n",
    "DOR Use code descriptions: https://gis-mdc.opendata.arcgis.com/datasets/MDC::dor-code/explore\n",
    "\n",
    "Palm Beach data download: https://opendata2-pbcgov.opendata.arcgis.com/datasets/PBCGOV::property-information-table/explore\n",
    "\n",
    "Broward Property Appraiser \"Contact Us\" page: https://bcpa.net/phone.asp"
   ]
  },
  {
   "cell_type": "markdown",
   "id": "383b55e8",
   "metadata": {},
   "source": [
    "## Data read-in"
   ]
  },
  {
   "cell_type": "code",
   "execution_count": 3,
   "id": "7728fa62",
   "metadata": {},
   "outputs": [],
   "source": [
    "# Read in geographic data\n",
    "MiamiDade_geo = gpd.read_file('miamidade_2022pin')\n",
    "PalmBeach_geo = gpd.read_file('palmbeach_2022pin')\n",
    "Broward_geo = gpd.read_file('broward_2022pin')"
   ]
  },
  {
   "cell_type": "code",
   "execution_count": 4,
   "id": "3767796d",
   "metadata": {},
   "outputs": [],
   "source": [
    "So_Fla_geo_list = [MiamiDade_geo,PalmBeach_geo,Broward_geo]"
   ]
  },
  {
   "cell_type": "code",
   "execution_count": 5,
   "id": "debfad85",
   "metadata": {},
   "outputs": [],
   "source": [
    "So_Fla_geo = gpd.GeoDataFrame(pd.concat(So_Fla_geo_list,ignore_index=True))"
   ]
  },
  {
   "cell_type": "code",
   "execution_count": 6,
   "id": "847be4e3",
   "metadata": {
    "scrolled": true
   },
   "outputs": [],
   "source": [
    "# Set the desired CRS\n",
    "target_crs = CRS.from_epsg(4326)\n",
    "\n",
    "# Change it to the desired crs\n",
    "So_Fla = So_Fla_geo.to_crs(target_crs)"
   ]
  },
  {
   "cell_type": "code",
   "execution_count": 7,
   "id": "d92270a9",
   "metadata": {},
   "outputs": [],
   "source": [
    "# Load in Property Appraiser data\n",
    "MiamiDade_data = gpd.read_file('NAL23F202201.dbf')\n",
    "PalmBeach_data = gpd.read_file('NAL60F202201.dbf')\n",
    "Broward_data = gpd.read_file('NAL16F202201.dbf')"
   ]
  },
  {
   "cell_type": "code",
   "execution_count": 8,
   "id": "e9b00843",
   "metadata": {},
   "outputs": [],
   "source": [
    "# Concat non geo dataframes\n",
    "data_list = [MiamiDade_data,PalmBeach_data,Broward_data]\n",
    "\n",
    "So_Fla_data = gpd.GeoDataFrame(pd.concat(data_list,ignore_index=True))"
   ]
  },
  {
   "cell_type": "code",
   "execution_count": 9,
   "id": "176534cc",
   "metadata": {},
   "outputs": [],
   "source": [
    "# Drop the empty 'geometry' column\n",
    "So_Fla_data = So_Fla_data.drop(columns='geometry')"
   ]
  },
  {
   "cell_type": "markdown",
   "id": "700d490e",
   "metadata": {},
   "source": [
    "## Create Agricultural GeoJSON file"
   ]
  },
  {
   "cell_type": "code",
   "execution_count": 10,
   "id": "69011cbd",
   "metadata": {},
   "outputs": [],
   "source": [
    "# Convert the 'DOR_UC' code to type int\n",
    "So_Fla_data['DOR_UC'] = So_Fla_data['DOR_UC'].astype(int)"
   ]
  },
  {
   "cell_type": "code",
   "execution_count": 11,
   "id": "9aa61c8a",
   "metadata": {},
   "outputs": [],
   "source": [
    "# Whittle down the data to agricutlrual properties only\n",
    "So_Fla_data_agri = So_Fla_data[(So_Fla_data['DOR_UC'] >= 50) & (So_Fla_data['DOR_UC'] <= 69)]"
   ]
  },
  {
   "cell_type": "code",
   "execution_count": 12,
   "id": "72934571",
   "metadata": {},
   "outputs": [],
   "source": [
    "merged_So_Fla_agri = pd.merge(So_Fla_data_agri,So_Fla, left_on='PARCEL_ID', right_on='PARCELNO', how='inner')"
   ]
  },
  {
   "cell_type": "code",
   "execution_count": 13,
   "id": "8cb07178",
   "metadata": {},
   "outputs": [],
   "source": [
    "columns_to_keep = ['PARCEL_ID','DOR_UC','PHY_ADDR1','PHY_CITY','geometry']"
   ]
  },
  {
   "cell_type": "code",
   "execution_count": 14,
   "id": "98673bbd",
   "metadata": {},
   "outputs": [],
   "source": [
    "merged_So_Fla_agri_final = merged_So_Fla_agri[columns_to_keep]"
   ]
  },
  {
   "cell_type": "code",
   "execution_count": 15,
   "id": "3cf943fe",
   "metadata": {},
   "outputs": [
    {
     "name": "stderr",
     "output_type": "stream",
     "text": [
      "/var/folders/rq/0_j_rksd7psgdycg9c1qwf6m0000gp/T/ipykernel_19042/2304607047.py:1: SettingWithCopyWarning: \n",
      "A value is trying to be set on a copy of a slice from a DataFrame.\n",
      "Try using .loc[row_indexer,col_indexer] = value instead\n",
      "\n",
      "See the caveats in the documentation: https://pandas.pydata.org/pandas-docs/stable/user_guide/indexing.html#returning-a-view-versus-a-copy\n",
      "  merged_So_Fla_agri_final['PHY_ADDR1'] = merged_So_Fla_agri_final['PHY_ADDR1'].fillna('No Physical Address')\n"
     ]
    }
   ],
   "source": [
    "merged_So_Fla_agri_final['PHY_ADDR1'] = merged_So_Fla_agri_final['PHY_ADDR1'].fillna('No Physical Address')"
   ]
  },
  {
   "cell_type": "code",
   "execution_count": 16,
   "id": "acd05151",
   "metadata": {},
   "outputs": [],
   "source": [
    "# Create a GeoDataFrame\n",
    "gdf = gpd.GeoDataFrame(merged_So_Fla_agri_final, geometry='geometry')\n",
    "\n",
    "# Save the GeoDataFrame as a GeoJSON file\n",
    "gdf.to_file('SoFla_agri_final.geojson', driver='GeoJSON')"
   ]
  },
  {
   "cell_type": "markdown",
   "id": "79ddda08",
   "metadata": {},
   "source": [
    "## SoFla Other Critical Infrastructure Properties"
   ]
  },
  {
   "cell_type": "code",
   "execution_count": 42,
   "id": "efaeb67f",
   "metadata": {},
   "outputs": [],
   "source": [
    "# Create zone descriptions\n",
    "data = [\n",
    "    {'DOR_UC':47,'DESC':'Mineral processing, phosphate processing, cement plants, refineries, clay plants, rock and gravel plants.'},\n",
    "    {'DOR_UC':91,'DESC':'Utility, gas and electricity, telephone and telegraph, locally assessed railroads, water and sewer service, pipelines, canals, radio/television communication.'},\n",
    "    {'DOR_UC':96,'DESC':'Sewage disposal, solid waste, borrow pits, drainage reservoirs, waste land, marsh, sand dunes, swamps.'},\n",
    "    {'DOR_UC':49,'DESC':'Open storage, new and used building supplies, junk yards, auto wrecking, fuel storage, equipment and material storage.'},\n",
    "    {'DOR_UC':20,'DESC':'Airports (private or commercial), bus terminals, marine terminals, piers, marinas.'},\n",
    "    {'DOR_UC':81,'DESC':'Military'}\n",
    "       ]\n",
    "\n",
    "DOR_desc_df = pd.DataFrame(data)"
   ]
  },
  {
   "cell_type": "code",
   "execution_count": 43,
   "id": "6518b4f4",
   "metadata": {},
   "outputs": [
    {
     "data": {
      "text/plain": [
       "Index(['CO_NO', 'PARCEL_ID', 'FILE_T', 'ASMNT_YR', 'BAS_STRT', 'ATV_STRT',\n",
       "       'GRP_NO', 'DOR_UC', 'PA_UC', 'SPASS_CD',\n",
       "       ...\n",
       "       'CONO_PRV_H', 'PARCEL_ID_', 'YR_VAL_TRN', 'SEQ_NO', 'RS_ID', 'MP_ID',\n",
       "       'STATE_PAR_', 'SPC_CIR_CD', 'SPC_CIR_YR', 'SPC_CIR_TX'],\n",
       "      dtype='object', length=116)"
      ]
     },
     "execution_count": 43,
     "metadata": {},
     "output_type": "execute_result"
    }
   ],
   "source": [
    "So_Fla_data.columns"
   ]
  },
  {
   "cell_type": "code",
   "execution_count": 44,
   "id": "d4be2f43",
   "metadata": {},
   "outputs": [],
   "source": [
    "## Create DF of only restricted properties\n",
    "So_Fla_restricted = pd.merge(So_Fla_data, DOR_desc_df, left_on='DOR_UC',right_on='DOR_UC',how='inner')"
   ]
  },
  {
   "cell_type": "code",
   "execution_count": 56,
   "id": "1bcf8cc2",
   "metadata": {},
   "outputs": [],
   "source": [
    "## Create geoDF of only restricted properties\n",
    "merged_So_Fla_restricted = pd.merge(So_Fla_restricted,So_Fla, left_on='PARCEL_ID',right_on='PARCELNO',how='inner')"
   ]
  },
  {
   "cell_type": "code",
   "execution_count": 59,
   "id": "c61cc4ff",
   "metadata": {},
   "outputs": [],
   "source": [
    "merged_So_Fla_restricted['PHY_ADDR1'] = merged_So_Fla_restricted['PHY_ADDR1'].fillna('No Physical Address')"
   ]
  },
  {
   "cell_type": "code",
   "execution_count": 60,
   "id": "63ebe9f2",
   "metadata": {},
   "outputs": [],
   "source": [
    "# Create a GeoDataFrame from the DataFrame\n",
    "merged_So_Fla_restricted_export = gpd.GeoDataFrame(merged_So_Fla_restricted, geometry='geometry')\n",
    "\n",
    "# Now you have a GeoDataFrame that you can export as GeoJSON\n",
    "merged_So_Fla_restricted_export.to_file('restricted_export_final.geojson', driver='GeoJSON')"
   ]
  },
  {
   "cell_type": "markdown",
   "id": "916096da",
   "metadata": {},
   "source": [
    "## Create airport layer"
   ]
  },
  {
   "cell_type": "code",
   "execution_count": 70,
   "id": "4d141ec2",
   "metadata": {},
   "outputs": [],
   "source": [
    "airport_data = [\n",
    "    {'Airport':'MIA','Folio':'3031290000011','Address':'4250 NW 36 ST, MIAMI-DADE'},\n",
    "    {'Airport':'HST','Folio':'3079120000010','Address':'28205 SW 125 AVE, MIAMI-DADE'},\n",
    "    {'Airport':'OPF','Folio':'0821200000010','Address':'14201 NW 42nd Ave, MIAMI-DADE'},\n",
    "    {'Airport':'FLL','Folio':'504222000311','Address':'100 Terminal Drive, BROWARD'},\n",
    "    {'Airport':'LNA','Folio':'00434431000001010','Address':'2633 LANTANA RD, PALM BEACH COUNTY'},\n",
    "    {'Airport':'PBI','Folio':'00434332000001090','Address':'1250 PERIMETER RD, PALM BEACH COUNTY'},\n",
    "    {'Airport':'F45','Folio':'00414201000005020','Address':'11200 AVIATION BLVD, PALM BEACH COUNTY'}\n",
    "]\n",
    "\n",
    "airport_df = pd.DataFrame(airport_data)"
   ]
  },
  {
   "cell_type": "code",
   "execution_count": 68,
   "id": "ade6cbc8",
   "metadata": {},
   "outputs": [],
   "source": [
    "airport_df_merged = pd.merge(airport_df,So_Fla_data, left_on='Folio', right_on='PARCEL_ID', how='inner')\n",
    "airport_df_merged_geo = pd.merge(airport_df_merged,So_Fla, left_on='Folio',right_on='PARCELNO',how='inner')"
   ]
  },
  {
   "cell_type": "code",
   "execution_count": 79,
   "id": "10e57a5e",
   "metadata": {},
   "outputs": [],
   "source": [
    "keep_columns = ['Airport','Folio','Address','geometry']\n",
    "airport_df_merged_geo = airport_df_merged_geo[keep_columns]"
   ]
  },
  {
   "cell_type": "code",
   "execution_count": 81,
   "id": "5d236258",
   "metadata": {},
   "outputs": [],
   "source": [
    "airport_df_merged_geo_export = gpd.GeoDataFrame(airport_df_merged_geo, geometry='geometry') \n",
    "\n",
    "airport_df_merged_geo_export.to_file('airport_export_final.geojson', driver='GeoJSON')"
   ]
  },
  {
   "cell_type": "markdown",
   "id": "dc0265f7",
   "metadata": {},
   "source": [
    "## Create buffer"
   ]
  },
  {
   "cell_type": "code",
   "execution_count": null,
   "id": "eaf15c2b",
   "metadata": {},
   "outputs": [],
   "source": [
    "buffer_target_CRS = CRS.from_epsg(32634)"
   ]
  },
  {
   "cell_type": "code",
   "execution_count": null,
   "id": "9152cefc",
   "metadata": {},
   "outputs": [],
   "source": [
    "# Change it to the desired crs\n",
    "merged_So_Fla_restricted_export = merged_So_Fla_restricted_export.to_crs(buffer_target_CRS)"
   ]
  },
  {
   "cell_type": "code",
   "execution_count": null,
   "id": "8896ba1c",
   "metadata": {},
   "outputs": [],
   "source": [
    "merged_So_Fla_restricted_export['extended_geometry'] = merged_So_Fla_restricted_export.geometry.buffer(10 * 1609.34)  # 10 miles in meters"
   ]
  },
  {
   "cell_type": "code",
   "execution_count": null,
   "id": "3ef91a67",
   "metadata": {},
   "outputs": [],
   "source": [
    "merged_So_Fla_restricted_export = merged_So_Fla_restricted_export.drop(columns='geometry')\n",
    "merged_So_Fla_restricted_export = merged_So_Fla_restricted_export.rename(columns={'extended_geometry':'geometry'})"
   ]
  },
  {
   "cell_type": "code",
   "execution_count": null,
   "id": "18232752",
   "metadata": {},
   "outputs": [],
   "source": [
    "merged_So_Fla_restricted_export = merged_So_Fla_restricted_export.to_crs(target_crs)"
   ]
  },
  {
   "cell_type": "code",
   "execution_count": null,
   "id": "349990db",
   "metadata": {},
   "outputs": [],
   "source": [
    "final_buffer = merged_So_Fla_restricted_export[['CO_NO','geometry']]"
   ]
  },
  {
   "cell_type": "code",
   "execution_count": null,
   "id": "e9af32f4",
   "metadata": {},
   "outputs": [],
   "source": [
    "final_buffer.to_file('final_buffer.geojson',driver='GeoJSON')"
   ]
  },
  {
   "cell_type": "code",
   "execution_count": null,
   "id": "6b6b674f",
   "metadata": {},
   "outputs": [],
   "source": [
    "from shapely.geometry import MultiPolygon\n",
    "\n",
    "# Assuming you have a GeoDataFrame called gdf with a 'geometry' column containing polygons\n",
    "\n",
    "# Create a single polygon representing the outermost border\n",
    "outer_polygon = final_buffer['geometry'].unary_union\n",
    "\n",
    "# Check if the result is a MultiPolygon and convert it to a Polygon if necessary\n",
    "if isinstance(outer_polygon, MultiPolygon):\n",
    "    outer_polygon = outer_polygon.convex_hull\n",
    "\n",
    "# Now you have a single polygon representing the outermost border\n",
    "outer_polygon"
   ]
  },
  {
   "cell_type": "code",
   "execution_count": null,
   "id": "25cdc6bc",
   "metadata": {},
   "outputs": [],
   "source": [
    "# Create a new GeoDataFrame with the outer polygon\n",
    "outer_gdf = gpd.GeoDataFrame(geometry=[outer_polygon])\n",
    "\n",
    "# Set the coordinate reference system (CRS) if needed\n",
    "# outer_gdf.crs = ...\n",
    "\n",
    "# Export the GeoDataFrame to a GeoJSON file\n",
    "outer_gdf.to_file('outer_polygon.geojson', driver='GeoJSON')"
   ]
  }
 ],
 "metadata": {
  "kernelspec": {
   "display_name": "Python 3 (ipykernel)",
   "language": "python",
   "name": "python3"
  },
  "language_info": {
   "codemirror_mode": {
    "name": "ipython",
    "version": 3
   },
   "file_extension": ".py",
   "mimetype": "text/x-python",
   "name": "python",
   "nbconvert_exporter": "python",
   "pygments_lexer": "ipython3",
   "version": "3.9.12"
  }
 },
 "nbformat": 4,
 "nbformat_minor": 5
}
