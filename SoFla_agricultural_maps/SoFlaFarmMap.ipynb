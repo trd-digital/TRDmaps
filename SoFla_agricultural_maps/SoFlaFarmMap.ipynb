{
 "cells": [
  {
   "cell_type": "markdown",
   "id": "68f91129",
   "metadata": {},
   "source": [
    "## Imports"
   ]
  },
  {
   "cell_type": "code",
   "execution_count": 4,
   "id": "5b914c6a",
   "metadata": {},
   "outputs": [],
   "source": [
    "import googlemaps\n",
    "import pandas as pd\n",
    "import numpy as np\n",
    "import re\n",
    "import os\n",
    "import geopandas as gpd\n",
    "import folium\n",
    "from shapely.geometry import Polygon\n",
    "from pyproj import CRS\n",
    "import math"
   ]
  },
  {
   "cell_type": "markdown",
   "id": "9a03530e",
   "metadata": {},
   "source": [
    "## Imports"
   ]
  },
  {
   "cell_type": "code",
   "execution_count": 5,
   "id": "3a32f5b4",
   "metadata": {},
   "outputs": [],
   "source": [
    "pd.set_option('display.max_columns',None)"
   ]
  },
  {
   "cell_type": "markdown",
   "id": "e626f4a2",
   "metadata": {},
   "source": [
    "## Links"
   ]
  },
  {
   "cell_type": "markdown",
   "id": "2f137351",
   "metadata": {},
   "source": [
    "Miami-Dade data download: https://gis-mdc.opendata.arcgis.com/datasets/MDC::property-boundary-view/about\n",
    "DOR Use code descriptions: https://gis-mdc.opendata.arcgis.com/datasets/MDC::dor-code/explore\n",
    "\n",
    "Palm Beach data download: https://opendata2-pbcgov.opendata.arcgis.com/datasets/PBCGOV::property-information-table/explore\n",
    "\n",
    "Broward Property Appraiser \"Contact Us\" page: https://bcpa.net/phone.asp"
   ]
  },
  {
   "cell_type": "markdown",
   "id": "383b55e8",
   "metadata": {},
   "source": [
    "## Data read-in"
   ]
  },
  {
   "cell_type": "code",
   "execution_count": 6,
   "id": "7728fa62",
   "metadata": {},
   "outputs": [],
   "source": [
    "# Read in geographic data\n",
    "MiamiDade_geo = gpd.read_file('miamidade_2022pin')\n",
    "PalmBeach_geo = gpd.read_file('palmbeach_2022pin')\n",
    "Broward_geo = gpd.read_file('broward_2022pin')"
   ]
  },
  {
   "cell_type": "code",
   "execution_count": 21,
   "id": "0a3692db",
   "metadata": {},
   "outputs": [],
   "source": [
    "So_Fla_geo_list = [MiamiDade_geo,PalmBeach_geo,Broward_geo]"
   ]
  },
  {
   "cell_type": "code",
   "execution_count": 22,
   "id": "1148c0ca",
   "metadata": {},
   "outputs": [],
   "source": [
    "So_Fla_geo = gpd.GeoDataFrame(pd.concat(So_Fla_geo_list,ignore_index=True))"
   ]
  },
  {
   "cell_type": "code",
   "execution_count": 24,
   "id": "530a3105",
   "metadata": {
    "scrolled": true
   },
   "outputs": [],
   "source": [
    "# Set the desired CRS\n",
    "target_crs = CRS.from_epsg(4326)\n",
    "\n",
    "# Change it to the desired crs\n",
    "So_Fla = So_Fla_geo.to_crs(target_crs)\n",
    "# MiamiDade = MiamiDade_geo.to_crs(target_crs)\n",
    "# PalmBeach = PalmBeach_geo.to_crs(target_crs)\n",
    "# Broward = Broward_geo.to_crs(target_crs)"
   ]
  },
  {
   "cell_type": "code",
   "execution_count": 12,
   "id": "d92270a9",
   "metadata": {},
   "outputs": [],
   "source": [
    "# Load in Property Appraiser data\n",
    "MiamiDade_data = gpd.read_file('NAL23F202201.dbf')\n",
    "PalmBeach_data = gpd.read_file('NAL60F202201.dbf')\n",
    "Broward_data = gpd.read_file('NAL16F202201.dbf')"
   ]
  },
  {
   "cell_type": "code",
   "execution_count": null,
   "id": "c82b7d13",
   "metadata": {},
   "outputs": [],
   "source": [
    "# Concat non geo dataframes\n",
    "data_list = [MiamiDade_data,PalmBeach_data,Broward_data]\n",
    "\n",
    "So_Fla_data = gpd.GeoDataFrame(pd.concat(data_list,ignore_index=True))"
   ]
  },
  {
   "cell_type": "code",
   "execution_count": null,
   "id": "371ce3e9",
   "metadata": {},
   "outputs": [],
   "source": [
    "# Drop the empty 'geometry' column\n",
    "So_Fla_data = So_Fla_data.drop(columns='geometry')"
   ]
  },
  {
   "cell_type": "code",
   "execution_count": 27,
   "id": "52c2166b",
   "metadata": {},
   "outputs": [],
   "source": [
    "# Convert the 'DOR_UC' code to type int\n",
    "So_Fla_data['DOR_UC'] = So_Fla_data['DOR_UC'].astype(int)"
   ]
  },
  {
   "cell_type": "code",
   "execution_count": 30,
   "id": "9aa61c8a",
   "metadata": {},
   "outputs": [],
   "source": [
    "# Whittle down the data to agricutlrual properties only\n",
    "So_Fla_data_agri = So_Fla_data[(So_Fla_data['DOR_UC'] >= 50) & (So_Fla_data['DOR_UC'] <= 69)]"
   ]
  },
  {
   "cell_type": "code",
   "execution_count": 32,
   "id": "07cd32b9",
   "metadata": {},
   "outputs": [],
   "source": [
    "merged_So_Fla_agri = pd.merge(So_Fla_data_agri,So_Fla, left_on='PARCEL_ID', right_on='PARCELNO', how='inner')"
   ]
  },
  {
   "cell_type": "code",
   "execution_count": 35,
   "id": "8cb07178",
   "metadata": {},
   "outputs": [],
   "source": [
    "columns_to_keep = ['PARCEL_ID','DOR_UC','PHY_ADDR1','PHY_CITY','geometry']"
   ]
  },
  {
   "cell_type": "code",
   "execution_count": 36,
   "id": "98673bbd",
   "metadata": {},
   "outputs": [],
   "source": [
    "merged_So_Fla_agri_final = merged_So_Fla_agri[columns_to_keep]"
   ]
  },
  {
   "cell_type": "code",
   "execution_count": 37,
   "id": "acd05151",
   "metadata": {},
   "outputs": [],
   "source": [
    "# Create a GeoDataFrame\n",
    "gdf = gpd.GeoDataFrame(merged_So_Fla_agri_final, geometry='geometry')\n",
    "\n",
    "# Save the GeoDataFrame as a GeoJSON file\n",
    "gdf.to_file('SoFla_agri.geojson', driver='GeoJSON')"
   ]
  },
  {
   "cell_type": "markdown",
   "id": "19c030a2",
   "metadata": {},
   "source": [
    "## SoFla Other Restricted Properties"
   ]
  },
  {
   "cell_type": "code",
   "execution_count": 59,
   "id": "f791faf2",
   "metadata": {},
   "outputs": [],
   "source": [
    "from shapely.ops import cascaded_union\n",
    "from shapely.geometry import Polygon"
   ]
  },
  {
   "cell_type": "code",
   "execution_count": 122,
   "id": "17f8eb41",
   "metadata": {},
   "outputs": [],
   "source": [
    "keep_list = ['47', '91', '96', '49', '91', '20']\n",
    "So_Fla_geo_restricted = So_Fla_geo[So_Fla_geo['PA_UC'].isin(keep_list)]"
   ]
  },
  {
   "cell_type": "code",
   "execution_count": 123,
   "id": "70ed9783",
   "metadata": {},
   "outputs": [],
   "source": [
    "merged_So_Fla_restricted = pd.merge(So_Fla_geo_restricted,So_Fla, left_on='PARCEL_ID', right_on='PARCELNO', how='inner')"
   ]
  },
  {
   "cell_type": "code",
   "execution_count": 124,
   "id": "70bf0f47",
   "metadata": {},
   "outputs": [],
   "source": [
    "merged_So_Fla_restricted_export = merged_So_Fla_restricted"
   ]
  },
  {
   "cell_type": "code",
   "execution_count": 129,
   "id": "dc2855bb",
   "metadata": {},
   "outputs": [],
   "source": [
    "# Create a GeoDataFrame from the DataFrame\n",
    "merged_So_Fla_restricted_export = gpd.GeoDataFrame(merged_So_Fla_restricted_export, geometry='geometry')\n",
    "\n",
    "# Now you have a GeoDataFrame that you can export as GeoJSON\n",
    "merged_So_Fla_restricted_export.to_file('restricted_export.geojson', driver='GeoJSON')"
   ]
  },
  {
   "cell_type": "markdown",
   "id": "66bee01a",
   "metadata": {},
   "source": [
    "## Create buffer"
   ]
  },
  {
   "cell_type": "code",
   "execution_count": 106,
   "id": "1e63a5ae",
   "metadata": {},
   "outputs": [],
   "source": [
    "buffer_target_CRS = CRS.from_epsg(32634)"
   ]
  },
  {
   "cell_type": "code",
   "execution_count": 107,
   "id": "f1cc71ff",
   "metadata": {},
   "outputs": [],
   "source": [
    "# Change it to the desired crs\n",
    "merged_So_Fla_restricted_export = merged_So_Fla_restricted_export.to_crs(buffer_target_CRS)"
   ]
  },
  {
   "cell_type": "code",
   "execution_count": 108,
   "id": "c2292962",
   "metadata": {},
   "outputs": [],
   "source": [
    "merged_So_Fla_restricted_export['extended_geometry'] = merged_So_Fla_restricted_export.geometry.buffer(16093.4)  # 10 miles in meters"
   ]
  },
  {
   "cell_type": "code",
   "execution_count": 109,
   "id": "6f411ce1",
   "metadata": {},
   "outputs": [],
   "source": [
    "merged_So_Fla_restricted_export = merged_So_Fla_restricted_export.drop(columns='geometry')\n",
    "merged_So_Fla_restricted_export = merged_So_Fla_restricted_export.rename(columns={'extended_geometry':'geometry'})"
   ]
  },
  {
   "cell_type": "code",
   "execution_count": 110,
   "id": "7b14673b",
   "metadata": {},
   "outputs": [],
   "source": [
    "merged_So_Fla_restricted_export = merged_So_Fla_restricted_export.to_crs(target_crs)"
   ]
  },
  {
   "cell_type": "code",
   "execution_count": 116,
   "id": "93cbf469",
   "metadata": {},
   "outputs": [],
   "source": [
    "final_buffer = merged_So_Fla_restricted_export[['CO_NO','geometry']]"
   ]
  },
  {
   "cell_type": "code",
   "execution_count": 118,
   "id": "6def9fcb",
   "metadata": {},
   "outputs": [
    {
     "data": {
      "image/svg+xml": [
       "<svg xmlns=\"http://www.w3.org/2000/svg\" xmlns:xlink=\"http://www.w3.org/1999/xlink\" width=\"100.0\" height=\"100.0\" viewBox=\"-80.82933549543563 25.15487928175438 0.9471502892173191 1.9083776631410778\" preserveAspectRatio=\"xMinYMin meet\"><g transform=\"matrix(1,0,0,-1,0,52.21813622664983)\"><path fill-rule=\"evenodd\" fill=\"#66cc99\" stroke=\"#555555\" stroke-width=\"0.038167553262821556\" opacity=\"0.6\" d=\"M -80.3844613774006,25.22555993594479 L -80.3917315630636,25.226080052865406 L -80.39891186527565,25.227244438245656 L -80.40593357425479,25.22904219176645 L -80.41272942816099,25.231456375715894 L -80.41923424701066,25.234464163751003 L -80.42538555009082,25.238037044526553 L -80.4311241513242,25.24214107884589 L -80.4363947270999,25.246737208521516 L -80.5740892545224,25.377078657828815 L -80.57908020110222,25.381972011636815 L -80.58352151087902,25.38728646451516 L -80.5873701847367,25.39297133485165 L -80.62432374487672,25.451174972844477 L -80.62755876048696,25.457197090899665 L -80.63012861380125,25.463479485329227 L -80.63200799758617,25.469961766308533 L -80.63317822790125,25.476581526994543 L -80.75822095356793,26.676107950673515 L -80.75865154595388,26.68322074385891 L -80.75865484124522,26.68396749374303 L -80.75830360315807,26.69092763307593 L -80.75719157942599,26.697824262112572 L -80.75532902587446,26.704590328090546 L -80.7527335418808,26.711159970435563 L -80.74942991667783,26.717469172637784 L -80.74544990236431,26.723456398508127 L -80.74083191530943,26.729063206011983 L -80.73562066849216,26.734234832032094 L -80.7298667381648,26.738920741657438 L -80.7236260690488,26.74307513593229 L -80.71695942305239,26.74665741242412 L -80.70993177722325,26.74963257347758 L -80.09525123294927,26.987714460064684 L -80.08797616153436,26.989908209871313 L -80.08049769172152,26.99145847364589 L -80.07288675405321,26.992350617609034 L -80.06521553107252,26.992576290705045 L -80.06465256274454,26.9925683107073 L -80.05677039077943,26.99210236933504 L -80.04898055134927,26.99093314245141 L -80.04136118846392,26.989072606273034 L -80.03398865975052,26.986539699617005 L -80.02693675819668,26.98336011919302 L -80.02027596367192,26.979566045241206 L -80.01407273220836,26.975195800985112 L -80.00838883045495,26.970293450091994 L -80.0032807220623,26.964908336979363 L -79.99879901202934,26.95909457537303 L -79.99498795425914,26.95291049100026 L -79.99188502674942,26.946418024690757 L -79.98952057799589,26.939682102455667 L -79.98907643973942,26.938154189971172 L -79.95479549848412,26.801044587444782 L -79.9538653551287,26.794337824579344 L -79.95385422476632,26.79425162335573 L -79.9531700816125,26.786805561929608 L -79.95313826108784,26.786392260680493 L -79.95302373274947,26.784556753168292 L -79.95298430140453,26.78373226051374 L -79.95286586040872,26.780680413202674 L -79.9603819203044,26.609687238950258 L -79.96086725457063,26.602958679980226 L -80.04358935298966,25.841481021754372 L -80.04457706880189,25.834734586387942 L -80.05795890139525,25.762940561672153 L -80.05801578217053,25.762676365164126 L -80.06761532529545,25.72323710156151 L -80.06943755825237,25.71674224777721 L -80.0788449021288,25.69076582333598 L -80.08520934272966,25.6755722056872 L -80.08828663126089,25.669374429040833 L -80.3142322593044,25.26547774798257 L -80.31756387334416,25.259574782361828 L -80.32151378639423,25.25399717368115 L -80.32604390742208,25.24879816840899 L -80.33111066961938,25.24402737117932 L -80.33127575958929,25.243886429665675 L -80.33683045117175,25.239589336568194 L -80.34281993454508,25.235806924252174 L -80.34918689397854,25.232575270087395 L -80.35587045688115,25.229925215253054 L -80.36280676301675,25.22788207847624 L -80.3699295601569,25.226465419948973 L -80.37717082117008,25.22568885740304 L -80.3844613774006,25.22555993594479 z\" /></g></svg>"
      ],
      "text/plain": [
       "<shapely.geometry.polygon.Polygon at 0x7fdf6a16f040>"
      ]
     },
     "execution_count": 118,
     "metadata": {},
     "output_type": "execute_result"
    }
   ],
   "source": [
    "from shapely.geometry import MultiPolygon\n",
    "\n",
    "# Assuming you have a GeoDataFrame called gdf with a 'geometry' column containing polygons\n",
    "\n",
    "# Create a single polygon representing the outermost border\n",
    "outer_polygon = final_buffer['geometry'].unary_union\n",
    "\n",
    "# Check if the result is a MultiPolygon and convert it to a Polygon if necessary\n",
    "if isinstance(outer_polygon, MultiPolygon):\n",
    "    outer_polygon = outer_polygon.convex_hull\n",
    "\n",
    "# Now you have a single polygon representing the outermost border\n",
    "outer_polygon"
   ]
  },
  {
   "cell_type": "code",
   "execution_count": 119,
   "id": "2c9f9da3",
   "metadata": {},
   "outputs": [],
   "source": [
    "# Create a new GeoDataFrame with the outer polygon\n",
    "outer_gdf = gpd.GeoDataFrame(geometry=[outer_polygon])\n",
    "\n",
    "# Set the coordinate reference system (CRS) if needed\n",
    "# outer_gdf.crs = ...\n",
    "\n",
    "# Export the GeoDataFrame to a GeoJSON file\n",
    "outer_gdf.to_file('outer_polygon.geojson', driver='GeoJSON')"
   ]
  }
 ],
 "metadata": {
  "kernelspec": {
   "display_name": "Python 3 (ipykernel)",
   "language": "python",
   "name": "python3"
  },
  "language_info": {
   "codemirror_mode": {
    "name": "ipython",
    "version": 3
   },
   "file_extension": ".py",
   "mimetype": "text/x-python",
   "name": "python",
   "nbconvert_exporter": "python",
   "pygments_lexer": "ipython3",
   "version": "3.9.12"
  }
 },
 "nbformat": 4,
 "nbformat_minor": 5
}
