{
 "cells": [
  {
   "cell_type": "markdown",
   "id": "68f91129",
   "metadata": {},
   "source": [
    "## Imports"
   ]
  },
  {
   "cell_type": "code",
   "execution_count": 81,
   "id": "5b914c6a",
   "metadata": {},
   "outputs": [],
   "source": [
    "import googlemaps\n",
    "import pandas as pd\n",
    "import numpy as np\n",
    "import re\n",
    "import os\n",
    "import geopandas as gpd\n",
    "import folium\n",
    "from shapely.geometry import Point\n",
    "import math"
   ]
  },
  {
   "cell_type": "markdown",
   "id": "9a03530e",
   "metadata": {},
   "source": [
    "## Imports"
   ]
  },
  {
   "cell_type": "code",
   "execution_count": 124,
   "id": "a1830850",
   "metadata": {},
   "outputs": [],
   "source": [
    "pd.set_option?"
   ]
  },
  {
   "cell_type": "code",
   "execution_count": 125,
   "id": "3a32f5b4",
   "metadata": {},
   "outputs": [],
   "source": [
    "pd.set_option('display.max_columns',None)"
   ]
  },
  {
   "cell_type": "markdown",
   "id": "e626f4a2",
   "metadata": {},
   "source": [
    "## Links"
   ]
  },
  {
   "cell_type": "markdown",
   "id": "2f137351",
   "metadata": {},
   "source": [
    "Miami-Dade data download: https://gis-mdc.opendata.arcgis.com/datasets/MDC::property-boundary-view/about\n",
    "DOR Use code descriptions: https://gis-mdc.opendata.arcgis.com/datasets/MDC::dor-code/explore\n",
    "\n",
    "Palm Beach data download: https://opendata2-pbcgov.opendata.arcgis.com/datasets/PBCGOV::property-information-table/explore\n",
    "\n",
    "Broward Property Appraiser \"Contact Us\" page: https://bcpa.net/phone.asp"
   ]
  },
  {
   "cell_type": "markdown",
   "id": "383b55e8",
   "metadata": {},
   "source": [
    "## Data read-in"
   ]
  },
  {
   "cell_type": "code",
   "execution_count": 3,
   "id": "7728fa62",
   "metadata": {},
   "outputs": [],
   "source": [
    "# MiamiDade = gpd.read_file('Property_Boundary_View.geojson')\n",
    "PalmBeach = pd.read_csv('Property_Information_Table.csv',dtype='str')"
   ]
  },
  {
   "cell_type": "code",
   "execution_count": 176,
   "id": "d92270a9",
   "metadata": {},
   "outputs": [],
   "source": [
    "Broward = gpd.read_file('broward_2022pin')"
   ]
  },
  {
   "cell_type": "code",
   "execution_count": 178,
   "id": "4e6f14a8",
   "metadata": {},
   "outputs": [],
   "source": [
    "from pyproj import CRS"
   ]
  },
  {
   "cell_type": "code",
   "execution_count": 180,
   "id": "9aa61c8a",
   "metadata": {},
   "outputs": [],
   "source": [
    "target_crs = CRS.from_epsg(4326)\n",
    "Broward = Broward.to_crs(target_crs)"
   ]
  },
  {
   "cell_type": "code",
   "execution_count": 114,
   "id": "0dc6317a",
   "metadata": {},
   "outputs": [],
   "source": [
    "x = gpd.read_file('NAL16F202201.dbf')"
   ]
  },
  {
   "cell_type": "code",
   "execution_count": 182,
   "id": "e8b04064",
   "metadata": {},
   "outputs": [],
   "source": [
    "y = x"
   ]
  },
  {
   "cell_type": "code",
   "execution_count": 183,
   "id": "b20747a3",
   "metadata": {},
   "outputs": [],
   "source": [
    "y = y.drop(columns='geometry')"
   ]
  },
  {
   "cell_type": "code",
   "execution_count": 184,
   "id": "0ccb0192",
   "metadata": {},
   "outputs": [],
   "source": [
    "y['DOR_UC'] = y['DOR_UC'].astype(int)"
   ]
  },
  {
   "cell_type": "code",
   "execution_count": 185,
   "id": "1b18a1dd",
   "metadata": {},
   "outputs": [],
   "source": [
    "y = y[(y['DOR_UC'] >= 50) & (y['DOR_UC'] <= 69)]"
   ]
  },
  {
   "cell_type": "code",
   "execution_count": 186,
   "id": "6e14b481",
   "metadata": {},
   "outputs": [
    {
     "data": {
      "text/plain": [
       "0    POLYGON ((-80.23083 26.33321, -80.23082 26.332...\n",
       "Name: geometry, dtype: geometry"
      ]
     },
     "execution_count": 186,
     "metadata": {},
     "output_type": "execute_result"
    }
   ],
   "source": [
    "Broward['geometry'].head(1)"
   ]
  },
  {
   "cell_type": "code",
   "execution_count": 187,
   "id": "247fc4ac",
   "metadata": {},
   "outputs": [],
   "source": [
    "merged_df = pd.merge(y, Broward, left_on='PARCEL_ID', right_on='PARCELNO', how='inner')"
   ]
  },
  {
   "cell_type": "code",
   "execution_count": 188,
   "id": "8cb07178",
   "metadata": {},
   "outputs": [],
   "source": [
    "columns_to_keep = ['PARCEL_ID','DOR_UC','PHY_ADDR1','PHY_CITY','geometry']"
   ]
  },
  {
   "cell_type": "code",
   "execution_count": 189,
   "id": "98673bbd",
   "metadata": {},
   "outputs": [],
   "source": [
    "final_Broward = merged_df[columns_to_keep]"
   ]
  },
  {
   "cell_type": "code",
   "execution_count": 190,
   "id": "acd05151",
   "metadata": {},
   "outputs": [],
   "source": [
    "# Create a GeoDataFrame\n",
    "gdf_Broward = gpd.GeoDataFrame(final_Broward, geometry='geometry')\n",
    "\n",
    "# Save the GeoDataFrame as a GeoJSON file\n",
    "gdf_Broward.to_file('BC_agri.geojson', driver='GeoJSON')"
   ]
  },
  {
   "cell_type": "code",
   "execution_count": 118,
   "id": "7060931d",
   "metadata": {},
   "outputs": [
    {
     "data": {
      "text/plain": [
       "785027"
      ]
     },
     "execution_count": 118,
     "metadata": {},
     "output_type": "execute_result"
    }
   ],
   "source": [
    "len(Broward)"
   ]
  },
  {
   "cell_type": "markdown",
   "id": "0fc5f533",
   "metadata": {},
   "source": [
    "## Data Check"
   ]
  },
  {
   "cell_type": "code",
   "execution_count": 5,
   "id": "57ca4d3c",
   "metadata": {},
   "outputs": [],
   "source": [
    "# MD_agri = MiamiDade[MiamiDade['DOR_DESC'].str.contains('AGRI',na=False)]"
   ]
  },
  {
   "cell_type": "code",
   "execution_count": 26,
   "id": "6fc69856",
   "metadata": {},
   "outputs": [],
   "source": [
    "PalmBeach.PROPERTY_USE.value_counts().head(60)\n",
    "PB_agri = PalmBeach[PalmBeach['PROPERTY_USE'].str.contains('AG',na=False)]\n",
    "PB_agri = PB_agri[PB_agri['PROPERTY_USE'] != 'NON AG']\n",
    "PB_agri = PB_agri[PB_agri['PROPERTY_USE'] != 'OPEN STORAGE']"
   ]
  },
  {
   "cell_type": "code",
   "execution_count": 27,
   "id": "e366a900",
   "metadata": {},
   "outputs": [
    {
     "data": {
      "text/plain": [
       "PROPERTY_USE\n",
       "AG Classification CROP SOIL CLASS 3    1777\n",
       "AG Classification EQUESTRIAN           1657\n",
       "AG Classification ORN/MISC AGRI         725\n",
       "AG Classification GRAGSOIL CLASS 1      293\n",
       "AG Classification POUL/BEES/FISH        236\n",
       "AG Classification CROP SOIL CLASS 1     227\n",
       "AG Classification ORCHARD GROVES        136\n",
       "AG Classification EQUESTRIAN CONDO        7\n",
       "Name: count, dtype: int64"
      ]
     },
     "execution_count": 27,
     "metadata": {},
     "output_type": "execute_result"
    }
   ],
   "source": [
    "PB_agri.PROPERTY_USE.value_counts()"
   ]
  },
  {
   "cell_type": "markdown",
   "id": "49b9826a",
   "metadata": {},
   "source": [
    "## Geocode"
   ]
  },
  {
   "cell_type": "code",
   "execution_count": 72,
   "id": "a0ef74dd",
   "metadata": {},
   "outputs": [],
   "source": [
    "%store -r google_maps_API_Key\n",
    "gmaps_key = googlemaps.Client(key=google_maps_API_Key)"
   ]
  },
  {
   "cell_type": "code",
   "execution_count": 73,
   "id": "38ea389b",
   "metadata": {},
   "outputs": [],
   "source": [
    "PB_agri['full_address'] = PB_agri['SITE_ADDR_STR'] + ' Palm Beach County, FL'"
   ]
  },
  {
   "cell_type": "code",
   "execution_count": 74,
   "id": "74641130",
   "metadata": {
    "scrolled": false
   },
   "outputs": [],
   "source": [
    "def geocode(add):\n",
    "    try:\n",
    "        g = gmaps_key.geocode(add)\n",
    "        if g:\n",
    "            lat = g[0][\"geometry\"][\"location\"][\"lat\"]\n",
    "            lng = g[0][\"geometry\"][\"location\"][\"lng\"]\n",
    "            return (lat, lng)\n",
    "    except:\n",
    "        pass\n",
    "    return 'No address'  # Return 'NaN' as a string\n",
    "\n",
    "PB_agri['geocoded'] = PB_agri['full_address'].apply(geocode)"
   ]
  },
  {
   "cell_type": "code",
   "execution_count": 75,
   "id": "eed4ef16",
   "metadata": {},
   "outputs": [],
   "source": [
    "# Filter out rows with 'No address' in the geocoded column\n",
    "PB_agri2 = PB_agri2[PB_agri2['geocoded'] != 'No address']"
   ]
  },
  {
   "cell_type": "code",
   "execution_count": 78,
   "id": "b267bcde",
   "metadata": {},
   "outputs": [
    {
     "data": {
      "text/plain": [
       "Index(['PARCEL_NUMBER', 'OWNER_NAME1', 'OWNER_NAME2', 'STREET_NUMBER',\n",
       "       'STREET_FRACTION', 'PRE_DIR', 'STREET_NAME', 'STREET_SUFFIX_ABBR',\n",
       "       'POST_DIR', 'SITE_ADDR_STR', 'MUNICIPALITY', 'NBHD', 'PADDR1', 'PADDR2',\n",
       "       'PADDR3', 'CITYNAME', 'STATE', 'ZIP1', 'ZIP2', 'SALEKEY', 'CRA',\n",
       "       'ACRES', 'SALE_DATE', 'BOOK', 'PAGE', 'PRICE', 'INSTRUMENT',\n",
       "       'TOTAL_MARKET', 'MKT_NOT_CAPPED', 'MKT_CAPPED', 'CAP_ADJ_VAL',\n",
       "       'AG_USE_VAL', 'ASSESSED_VAL', 'EXEMPTION', 'TOTAL_VALUE',\n",
       "       'TOTAL_TAXABLE', 'HMSTD_FLG', 'SUBDIV_NAME', 'YEAR_ADDED',\n",
       "       'LAND_MARKET', 'IMPRV_MRKT', 'PROPERTY_USE', 'MONTHS_SINCE_SALE',\n",
       "       'CONFID_FLG', 'OBJECTID', 'full_address', 'geocoded'],\n",
       "      dtype='object')"
      ]
     },
     "execution_count": 78,
     "metadata": {},
     "output_type": "execute_result"
    }
   ],
   "source": [
    "PB_agri2.columns"
   ]
  },
  {
   "cell_type": "code",
   "execution_count": 98,
   "id": "230ee202",
   "metadata": {},
   "outputs": [],
   "source": [
    "# Create a new DataFrame with necessary columns\n",
    "data = PB_agri2[['PARCEL_NUMBER', 'OWNER_NAME1', 'OWNER_NAME2', 'STREET_NUMBER', 'STREET_FRACTION', 'PRE_DIR',\n",
    "           'STREET_NAME', 'STREET_SUFFIX_ABBR', 'POST_DIR', 'SITE_ADDR_STR', 'SUBDIV_NAME', 'YEAR_ADDED',\n",
    "           'LAND_MARKET', 'IMPRV_MRKT', 'PROPERTY_USE', 'MONTHS_SINCE_SALE', 'CONFID_FLG', 'full_address',\n",
    "           'geocoded']]\n",
    "\n",
    "# Drop rows with NaN values in the \"geocoded\" column\n",
    "data = data.dropna(subset=['geocoded'])\n",
    "\n",
    "# Preprocess the string representation of tuples\n",
    "data['geocoded'] = data['geocoded'].str.replace('(', '').str.replace(')', '').str.split(', ')\n",
    "\n",
    "# Convert the string representation of tuples to actual tuples\n",
    "data['geocoded'] = data['geocoded'].apply(lambda x: tuple(float(coord) for coord in x) if isinstance(x, list) else None)\n",
    "\n",
    "# Convert tuples to Point objects in the \"geometry\" column\n",
    "data['geometry'] = data['geocoded'].apply(lambda x: Point(x[1], x[0]) if isinstance(x, tuple) and len(x) == 2 else None)\n",
    "\n",
    "# Create a GeoDataFrame\n",
    "gdf = gpd.GeoDataFrame(data, geometry='geometry')"
   ]
  },
  {
   "cell_type": "code",
   "execution_count": 108,
   "id": "d473a961",
   "metadata": {},
   "outputs": [],
   "source": [
    "gdf = gdf.drop(columns=['geocoded'])"
   ]
  },
  {
   "cell_type": "code",
   "execution_count": 109,
   "id": "bca6f324",
   "metadata": {},
   "outputs": [],
   "source": [
    "# Save the GeoDataFrame as a GeoJSON file\n",
    "gdf.to_file('PB_agri.geojson', driver='GeoJSON')"
   ]
  },
  {
   "cell_type": "code",
   "execution_count": null,
   "id": "ae913452",
   "metadata": {},
   "outputs": [],
   "source": [
    "# MD_agri[['X_COORD','Y_COORD']] = MD_agri[['X_COORD','Y_COORD']].astype(float)\n",
    "# MD_agri['X_COORD'] = MD_agri['X_COORD'] * -1"
   ]
  },
  {
   "cell_type": "code",
   "execution_count": 10,
   "id": "eedfe8b8",
   "metadata": {},
   "outputs": [],
   "source": [
    "# MD_agri.to_file('MD_agri.geojson', driver='GeoJSON')"
   ]
  },
  {
   "cell_type": "markdown",
   "id": "0ec25c7b",
   "metadata": {},
   "source": [
    "## Map URL Snagger"
   ]
  },
  {
   "cell_type": "code",
   "execution_count": 11,
   "id": "7592d1e9",
   "metadata": {},
   "outputs": [],
   "source": [
    "# base_name = 'https://trd-digital.github.io/trd-news-interactive-maps/'"
   ]
  },
  {
   "cell_type": "code",
   "execution_count": 110,
   "id": "51eeb1d7",
   "metadata": {},
   "outputs": [],
   "source": [
    "# cwd = os.getcwd()\n",
    "\n",
    "# cwd = cwd.split('/')\n",
    "\n",
    "# final_name = base_name + cwd[-1]\n",
    "# print(final_name)"
   ]
  }
 ],
 "metadata": {
  "kernelspec": {
   "display_name": "Python 3 (ipykernel)",
   "language": "python",
   "name": "python3"
  },
  "language_info": {
   "codemirror_mode": {
    "name": "ipython",
    "version": 3
   },
   "file_extension": ".py",
   "mimetype": "text/x-python",
   "name": "python",
   "nbconvert_exporter": "python",
   "pygments_lexer": "ipython3",
   "version": "3.9.12"
  }
 },
 "nbformat": 4,
 "nbformat_minor": 5
}
