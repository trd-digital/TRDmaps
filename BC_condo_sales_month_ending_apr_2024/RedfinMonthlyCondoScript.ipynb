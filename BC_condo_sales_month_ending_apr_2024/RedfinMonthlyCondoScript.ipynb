{
 "cells": [
  {
   "cell_type": "markdown",
   "id": "282c57c3",
   "metadata": {},
   "source": [
    "## Imports"
   ]
  },
  {
   "cell_type": "code",
   "execution_count": 83,
   "id": "54c15242",
   "metadata": {},
   "outputs": [],
   "source": [
    "import pandas as pd\n",
    "import numpy as np\n",
    "import re\n",
    "import os\n",
    "import folium\n",
    "import geopandas as gpd\n",
    "import glob\n",
    "from datetime import datetime, timedelta"
   ]
  },
  {
   "cell_type": "markdown",
   "id": "7c620cf8",
   "metadata": {},
   "source": [
    "## Data Read-in"
   ]
  },
  {
   "cell_type": "code",
   "execution_count": 84,
   "id": "788cfd9b",
   "metadata": {},
   "outputs": [
    {
     "name": "stdout",
     "output_type": "stream",
     "text": [
      "3606\n"
     ]
    }
   ],
   "source": [
    "csv_files = glob.glob('*.csv')\n",
    "\n",
    "df_list = []\n",
    "\n",
    "for csv_file in csv_files:\n",
    "    df = pd.read_csv(csv_file)\n",
    "    df_list.append(df)\n",
    "    \n",
    "df = pd.concat(df_list,ignore_index=True)\n",
    "\n",
    "print(len(df))"
   ]
  },
  {
   "cell_type": "code",
   "execution_count": 85,
   "id": "563417a4",
   "metadata": {},
   "outputs": [],
   "source": [
    "gdf = gpd.read_file('countyboundary')"
   ]
  },
  {
   "cell_type": "markdown",
   "id": "5cdf738a",
   "metadata": {},
   "source": [
    "## Previous month's values\n",
    "\n",
    "Get values from here:\n",
    "\n",
    "https://docs.google.com/spreadsheets/d/1GWlqTIzCB29pDVDjd-iBVejVGGsLiAd0P6fq4LM83WI/edit?usp=sharing"
   ]
  },
  {
   "cell_type": "code",
   "execution_count": 4,
   "id": "7bbbad1d",
   "metadata": {},
   "outputs": [
    {
     "name": "stdout",
     "output_type": "stream",
     "text": [
      "Input County Name:\n",
      "Broward County\n"
     ]
    }
   ],
   "source": [
    "print('Input County Name:')\n",
    "county_name = input()"
   ]
  },
  {
   "cell_type": "code",
   "execution_count": 5,
   "id": "1cd3e074",
   "metadata": {},
   "outputs": [
    {
     "name": "stdout",
     "output_type": "stream",
     "text": [
      "Input total condo units sold previous (not last) month:\n",
      "841\n"
     ]
    }
   ],
   "source": [
    "print('Input total condo units sold previous (not last) month:')\n",
    "total_condos_sold_2nd_month = input()"
   ]
  },
  {
   "cell_type": "code",
   "execution_count": 6,
   "id": "229637ce",
   "metadata": {},
   "outputs": [
    {
     "name": "stdout",
     "output_type": "stream",
     "text": [
      "Input total sales volume ($$$ million) from previous (not last) month:\n",
      "300000000\n"
     ]
    }
   ],
   "source": [
    "print('Input total sales volume ($$$ million) from previous (not last) month:')\n",
    "sales_volume_2nd_month = input()"
   ]
  },
  {
   "cell_type": "code",
   "execution_count": 7,
   "id": "081faeec",
   "metadata": {},
   "outputs": [
    {
     "name": "stdout",
     "output_type": "stream",
     "text": [
      "Input median sales price from previous (not last) month:\n",
      "240000\n"
     ]
    }
   ],
   "source": [
    "print('Input median sales price from previous (not last) month:')\n",
    "median_sales_price_2nd_month = input()"
   ]
  },
  {
   "cell_type": "code",
   "execution_count": 8,
   "id": "cdac5fe9",
   "metadata": {},
   "outputs": [
    {
     "name": "stdout",
     "output_type": "stream",
     "text": [
      "Input median psf from previous (not last) month:\n",
      "243\n"
     ]
    }
   ],
   "source": [
    "print('Input median psf from previous (not last) month:')\n",
    "median_psf_2nd_month = input()"
   ]
  },
  {
   "cell_type": "markdown",
   "id": "b03ce742",
   "metadata": {},
   "source": [
    "## Data Clean"
   ]
  },
  {
   "cell_type": "code",
   "execution_count": 86,
   "id": "1f2a52a3",
   "metadata": {},
   "outputs": [],
   "source": [
    "df = df.rename(columns={'URL (SEE https://www.redfin.com/buy-a-home/comparative-market-analysis FOR INFO ON PRICING)':'URL'})"
   ]
  },
  {
   "cell_type": "code",
   "execution_count": 87,
   "id": "5f45bf08",
   "metadata": {},
   "outputs": [],
   "source": [
    "df = df.dropna(subset=['SOLD DATE'])"
   ]
  },
  {
   "cell_type": "code",
   "execution_count": 88,
   "id": "25d1852d",
   "metadata": {},
   "outputs": [
    {
     "name": "stdout",
     "output_type": "stream",
     "text": [
      "Report month: April ---- Month before report month: March\n"
     ]
    }
   ],
   "source": [
    "# Get the current date\n",
    "current_date = datetime.now()\n",
    "\n",
    "# Calculate the first day of the current month\n",
    "first_day_of_current_month = current_date.replace(day=1)\n",
    "\n",
    "# Get the last day of the previous month by subtracting one day from the first day of the current month\n",
    "last_day_of_previous_month = first_day_of_current_month - timedelta(days=1)\n",
    "\n",
    "# Get the month name of the previous month\n",
    "previous_month_name = last_day_of_previous_month.strftime(\"%B\")\n",
    "\n",
    "# ---- Get the name of the month, as a string, from two months ago.\n",
    "# ---- Meaning, if the current month is January, return November.\n",
    "\n",
    "# Get the first day of the previous month by subtracting one day from the first day of the current month\n",
    "first_day_of_previous_month = first_day_of_current_month - timedelta(days=1)\n",
    "\n",
    "# Get the first day of the month before the last by subtracting one day from the first day of the previous month\n",
    "first_day_of_month_before_last = first_day_of_previous_month.replace(day=1) - timedelta(days=1)\n",
    "\n",
    "# Get the month name of the month before the last\n",
    "month_before_last_name = first_day_of_month_before_last.strftime(\"%B\")\n",
    "\n",
    "print(f'Report month: {previous_month_name} ---- Month before report month: {month_before_last_name}')"
   ]
  },
  {
   "cell_type": "code",
   "execution_count": 89,
   "id": "9b9d20ba",
   "metadata": {},
   "outputs": [],
   "source": [
    "# Define list of desired months (excluding current month)\n",
    "desired_months = [previous_month_name]\n",
    "\n",
    "# Filter DataFrame to include only entries from desired months\n",
    "df_filtered = df[df['SOLD DATE'].str.split('-', expand=True)[0].isin(desired_months)]\n",
    "\n",
    "# Reset the index\n",
    "df_filtered = df_filtered.reset_index(drop=True)"
   ]
  },
  {
   "cell_type": "code",
   "execution_count": 90,
   "id": "ab2d002c",
   "metadata": {},
   "outputs": [
    {
     "name": "stdout",
     "output_type": "stream",
     "text": [
      "PRICE\n",
      "False    1090\n",
      "Name: count, dtype: int64\n",
      "-------\n",
      "$/SQUARE FEET\n",
      "False    1081\n",
      "True        9\n",
      "Name: count, dtype: int64\n",
      "-------\n",
      "YEAR BUILT\n",
      "False    1090\n",
      "Name: count, dtype: int64\n",
      "-------\n"
     ]
    }
   ],
   "source": [
    "# Data checks\n",
    "print(df_filtered['PRICE'].isna().value_counts())\n",
    "print('-------')\n",
    "print(df_filtered['$/SQUARE FEET'].isna().value_counts())\n",
    "print('-------')\n",
    "print(df_filtered['YEAR BUILT'].isna().value_counts())\n",
    "print('-------')"
   ]
  },
  {
   "cell_type": "code",
   "execution_count": 91,
   "id": "446eb268",
   "metadata": {},
   "outputs": [
    {
     "name": "stdout",
     "output_type": "stream",
     "text": [
      "https://www.redfin.com/FL/Sunrise/2000-Metropica-Way-33323/unit-2306/home/174072023\n"
     ]
    }
   ],
   "source": [
    "sorted_df = df_filtered.sort_values(by='YEAR BUILT', ascending=False)\n",
    "second_newest_building = sorted_df.iloc[2]\n",
    "print(second_newest_building['URL'])"
   ]
  },
  {
   "cell_type": "code",
   "execution_count": 92,
   "id": "61663e76",
   "metadata": {},
   "outputs": [
    {
     "data": {
      "text/html": [
       "<div>\n",
       "<style scoped>\n",
       "    .dataframe tbody tr th:only-of-type {\n",
       "        vertical-align: middle;\n",
       "    }\n",
       "\n",
       "    .dataframe tbody tr th {\n",
       "        vertical-align: top;\n",
       "    }\n",
       "\n",
       "    .dataframe thead th {\n",
       "        text-align: right;\n",
       "    }\n",
       "</style>\n",
       "<table border=\"1\" class=\"dataframe\">\n",
       "  <thead>\n",
       "    <tr style=\"text-align: right;\">\n",
       "      <th></th>\n",
       "      <th>SALE TYPE</th>\n",
       "      <th>SOLD DATE</th>\n",
       "      <th>PROPERTY TYPE</th>\n",
       "      <th>ADDRESS</th>\n",
       "      <th>CITY</th>\n",
       "      <th>STATE OR PROVINCE</th>\n",
       "      <th>ZIP OR POSTAL CODE</th>\n",
       "      <th>PRICE</th>\n",
       "      <th>BEDS</th>\n",
       "      <th>BATHS</th>\n",
       "      <th>...</th>\n",
       "      <th>STATUS</th>\n",
       "      <th>NEXT OPEN HOUSE START TIME</th>\n",
       "      <th>NEXT OPEN HOUSE END TIME</th>\n",
       "      <th>URL</th>\n",
       "      <th>SOURCE</th>\n",
       "      <th>MLS#</th>\n",
       "      <th>FAVORITE</th>\n",
       "      <th>INTERESTED</th>\n",
       "      <th>LATITUDE</th>\n",
       "      <th>LONGITUDE</th>\n",
       "    </tr>\n",
       "  </thead>\n",
       "  <tbody>\n",
       "  </tbody>\n",
       "</table>\n",
       "<p>0 rows × 27 columns</p>\n",
       "</div>"
      ],
      "text/plain": [
       "Empty DataFrame\n",
       "Columns: [SALE TYPE, SOLD DATE, PROPERTY TYPE, ADDRESS, CITY, STATE OR PROVINCE, ZIP OR POSTAL CODE, PRICE, BEDS, BATHS, LOCATION, SQUARE FEET, LOT SIZE, YEAR BUILT, DAYS ON MARKET, $/SQUARE FEET, HOA/MONTH, STATUS, NEXT OPEN HOUSE START TIME, NEXT OPEN HOUSE END TIME, URL, SOURCE, MLS#, FAVORITE, INTERESTED, LATITUDE, LONGITUDE]\n",
       "Index: []\n",
       "\n",
       "[0 rows x 27 columns]"
      ]
     },
     "execution_count": 92,
     "metadata": {},
     "output_type": "execute_result"
    }
   ],
   "source": [
    "df_filtered.loc[df_filtered['PRICE'] == '0']"
   ]
  },
  {
   "cell_type": "code",
   "execution_count": 93,
   "id": "b0376d17",
   "metadata": {},
   "outputs": [],
   "source": [
    "df_filtered['PRICE'] = pd.to_numeric(df_filtered['PRICE'])\n",
    "df_filtered['$/SQUARE FEET'] = pd.to_numeric(df_filtered['$/SQUARE FEET'])\n",
    "df_filtered['YEAR BUILT'] = pd.to_numeric(df_filtered['YEAR BUILT'])\n",
    "df_filtered['LATITUDE'] = pd.to_numeric(df_filtered['LATITUDE'])\n",
    "df_filtered['LONGITUDE'] = pd.to_numeric(df_filtered['LONGITUDE'])"
   ]
  },
  {
   "cell_type": "code",
   "execution_count": 94,
   "id": "22be7f44",
   "metadata": {},
   "outputs": [],
   "source": [
    "df_filtered = df_filtered.drop_duplicates().reset_index(drop=True)"
   ]
  },
  {
   "cell_type": "code",
   "execution_count": 95,
   "id": "a5e15306",
   "metadata": {},
   "outputs": [
    {
     "data": {
      "text/html": [
       "<div>\n",
       "<style scoped>\n",
       "    .dataframe tbody tr th:only-of-type {\n",
       "        vertical-align: middle;\n",
       "    }\n",
       "\n",
       "    .dataframe tbody tr th {\n",
       "        vertical-align: top;\n",
       "    }\n",
       "\n",
       "    .dataframe thead th {\n",
       "        text-align: right;\n",
       "    }\n",
       "</style>\n",
       "<table border=\"1\" class=\"dataframe\">\n",
       "  <thead>\n",
       "    <tr style=\"text-align: right;\">\n",
       "      <th></th>\n",
       "      <th>SALE TYPE</th>\n",
       "      <th>SOLD DATE</th>\n",
       "      <th>PROPERTY TYPE</th>\n",
       "      <th>ADDRESS</th>\n",
       "      <th>CITY</th>\n",
       "      <th>STATE OR PROVINCE</th>\n",
       "      <th>ZIP OR POSTAL CODE</th>\n",
       "      <th>PRICE</th>\n",
       "      <th>BEDS</th>\n",
       "      <th>BATHS</th>\n",
       "      <th>...</th>\n",
       "      <th>STATUS</th>\n",
       "      <th>NEXT OPEN HOUSE START TIME</th>\n",
       "      <th>NEXT OPEN HOUSE END TIME</th>\n",
       "      <th>URL</th>\n",
       "      <th>SOURCE</th>\n",
       "      <th>MLS#</th>\n",
       "      <th>FAVORITE</th>\n",
       "      <th>INTERESTED</th>\n",
       "      <th>LATITUDE</th>\n",
       "      <th>LONGITUDE</th>\n",
       "    </tr>\n",
       "  </thead>\n",
       "  <tbody>\n",
       "    <tr>\n",
       "      <th>21</th>\n",
       "      <td>PAST SALE</td>\n",
       "      <td>April-5-2024</td>\n",
       "      <td>Condo/Co-op</td>\n",
       "      <td>6500 Winfield Blvd #104</td>\n",
       "      <td>Margate</td>\n",
       "      <td>FL</td>\n",
       "      <td>33063.0</td>\n",
       "      <td>120.0</td>\n",
       "      <td>1.0</td>\n",
       "      <td>1.0</td>\n",
       "      <td>...</td>\n",
       "      <td>Sold</td>\n",
       "      <td>NaN</td>\n",
       "      <td>NaN</td>\n",
       "      <td>https://www.redfin.com/FL/Margate/6500-Winfiel...</td>\n",
       "      <td>MARMLS</td>\n",
       "      <td>A11505248</td>\n",
       "      <td>N</td>\n",
       "      <td>Y</td>\n",
       "      <td>26.258081</td>\n",
       "      <td>-80.211870</td>\n",
       "    </tr>\n",
       "    <tr>\n",
       "      <th>10</th>\n",
       "      <td>PAST SALE</td>\n",
       "      <td>April-26-2024</td>\n",
       "      <td>Condo/Co-op</td>\n",
       "      <td>111 Golden Isles Dr Unit E3</td>\n",
       "      <td>Hallandale Beach</td>\n",
       "      <td>FL</td>\n",
       "      <td>33009.0</td>\n",
       "      <td>16700.0</td>\n",
       "      <td>1.0</td>\n",
       "      <td>1.0</td>\n",
       "      <td>...</td>\n",
       "      <td>Sold</td>\n",
       "      <td>NaN</td>\n",
       "      <td>NaN</td>\n",
       "      <td>https://www.redfin.com/FL/Hallandale-Beach/111...</td>\n",
       "      <td>MARMLS</td>\n",
       "      <td>A11551848</td>\n",
       "      <td>N</td>\n",
       "      <td>Y</td>\n",
       "      <td>25.983004</td>\n",
       "      <td>-80.123187</td>\n",
       "    </tr>\n",
       "    <tr>\n",
       "      <th>26</th>\n",
       "      <td>PAST SALE</td>\n",
       "      <td>April-15-2024</td>\n",
       "      <td>Condo/Co-op</td>\n",
       "      <td>1985 S Ocean Dr Unit 3D</td>\n",
       "      <td>Hallandale</td>\n",
       "      <td>FL</td>\n",
       "      <td>33009.0</td>\n",
       "      <td>25000.0</td>\n",
       "      <td>1.0</td>\n",
       "      <td>1.5</td>\n",
       "      <td>...</td>\n",
       "      <td>Sold</td>\n",
       "      <td>NaN</td>\n",
       "      <td>NaN</td>\n",
       "      <td>https://www.redfin.com/FL/Hallandale-Beach/198...</td>\n",
       "      <td>Beaches MLS</td>\n",
       "      <td>F10410753</td>\n",
       "      <td>N</td>\n",
       "      <td>Y</td>\n",
       "      <td>25.979369</td>\n",
       "      <td>-80.120831</td>\n",
       "    </tr>\n",
       "    <tr>\n",
       "      <th>4</th>\n",
       "      <td>PAST SALE</td>\n",
       "      <td>April-5-2024</td>\n",
       "      <td>Condo/Co-op</td>\n",
       "      <td>3200 Holiday Springs Blvd #303</td>\n",
       "      <td>Margate</td>\n",
       "      <td>FL</td>\n",
       "      <td>33063.0</td>\n",
       "      <td>66000.0</td>\n",
       "      <td>1.0</td>\n",
       "      <td>1.0</td>\n",
       "      <td>...</td>\n",
       "      <td>Sold</td>\n",
       "      <td>NaN</td>\n",
       "      <td>NaN</td>\n",
       "      <td>https://www.redfin.com/FL/Margate/3200-Holiday...</td>\n",
       "      <td>Beaches MLS</td>\n",
       "      <td>F10427403</td>\n",
       "      <td>N</td>\n",
       "      <td>Y</td>\n",
       "      <td>26.267602</td>\n",
       "      <td>-80.233318</td>\n",
       "    </tr>\n",
       "    <tr>\n",
       "      <th>32</th>\n",
       "      <td>PAST SALE</td>\n",
       "      <td>April-8-2024</td>\n",
       "      <td>Condo/Co-op</td>\n",
       "      <td>3070 Holiday Springs Blvd #202</td>\n",
       "      <td>Margate</td>\n",
       "      <td>FL</td>\n",
       "      <td>33063.0</td>\n",
       "      <td>68500.0</td>\n",
       "      <td>1.0</td>\n",
       "      <td>1.5</td>\n",
       "      <td>...</td>\n",
       "      <td>Sold</td>\n",
       "      <td>NaN</td>\n",
       "      <td>NaN</td>\n",
       "      <td>https://www.redfin.com/FL/Margate/3070-Holiday...</td>\n",
       "      <td>MARMLS</td>\n",
       "      <td>A11480872</td>\n",
       "      <td>N</td>\n",
       "      <td>Y</td>\n",
       "      <td>26.262019</td>\n",
       "      <td>-80.233395</td>\n",
       "    </tr>\n",
       "    <tr>\n",
       "      <th>31</th>\n",
       "      <td>PAST SALE</td>\n",
       "      <td>April-10-2024</td>\n",
       "      <td>Condo/Co-op</td>\n",
       "      <td>3160 Holiday Spgs Unit 7-207</td>\n",
       "      <td>Margate</td>\n",
       "      <td>FL</td>\n",
       "      <td>33063.0</td>\n",
       "      <td>75000.0</td>\n",
       "      <td>1.0</td>\n",
       "      <td>1.0</td>\n",
       "      <td>...</td>\n",
       "      <td>Sold</td>\n",
       "      <td>NaN</td>\n",
       "      <td>NaN</td>\n",
       "      <td>https://www.redfin.com/FL/Margate/3160-Holiday...</td>\n",
       "      <td>MARMLS</td>\n",
       "      <td>A11481829</td>\n",
       "      <td>N</td>\n",
       "      <td>Y</td>\n",
       "      <td>26.265849</td>\n",
       "      <td>-80.233308</td>\n",
       "    </tr>\n",
       "    <tr>\n",
       "      <th>3</th>\n",
       "      <td>PAST SALE</td>\n",
       "      <td>April-5-2024</td>\n",
       "      <td>Condo/Co-op</td>\n",
       "      <td>104 Upminster E #104</td>\n",
       "      <td>Deerfield Beach</td>\n",
       "      <td>FL</td>\n",
       "      <td>33442.0</td>\n",
       "      <td>79000.0</td>\n",
       "      <td>1.0</td>\n",
       "      <td>1.5</td>\n",
       "      <td>...</td>\n",
       "      <td>Sold</td>\n",
       "      <td>NaN</td>\n",
       "      <td>NaN</td>\n",
       "      <td>https://www.redfin.com/FL/Deerfield-Beach/104-...</td>\n",
       "      <td>Beaches MLS</td>\n",
       "      <td>RX-10962727</td>\n",
       "      <td>N</td>\n",
       "      <td>Y</td>\n",
       "      <td>26.313026</td>\n",
       "      <td>-80.129376</td>\n",
       "    </tr>\n",
       "    <tr>\n",
       "      <th>1</th>\n",
       "      <td>PAST SALE</td>\n",
       "      <td>April-4-2024</td>\n",
       "      <td>Condo/Co-op</td>\n",
       "      <td>3180 Holiday Springs Blvd Unit 5-303</td>\n",
       "      <td>Pompano Beach</td>\n",
       "      <td>FL</td>\n",
       "      <td>33063.0</td>\n",
       "      <td>80000.0</td>\n",
       "      <td>1.0</td>\n",
       "      <td>1.0</td>\n",
       "      <td>...</td>\n",
       "      <td>Sold</td>\n",
       "      <td>NaN</td>\n",
       "      <td>NaN</td>\n",
       "      <td>https://www.redfin.com/FL/Margate/3180-Holiday...</td>\n",
       "      <td>Beaches MLS</td>\n",
       "      <td>F10430000</td>\n",
       "      <td>N</td>\n",
       "      <td>Y</td>\n",
       "      <td>26.266646</td>\n",
       "      <td>-80.232944</td>\n",
       "    </tr>\n",
       "    <tr>\n",
       "      <th>8</th>\n",
       "      <td>PAST SALE</td>\n",
       "      <td>April-25-2024</td>\n",
       "      <td>Condo/Co-op</td>\n",
       "      <td>1380 NW 43rd Ter #304</td>\n",
       "      <td>Lauderhill</td>\n",
       "      <td>FL</td>\n",
       "      <td>33313.0</td>\n",
       "      <td>80000.0</td>\n",
       "      <td>1.0</td>\n",
       "      <td>1.0</td>\n",
       "      <td>...</td>\n",
       "      <td>Sold</td>\n",
       "      <td>NaN</td>\n",
       "      <td>NaN</td>\n",
       "      <td>https://www.redfin.com/FL/Lauderhill/1380-NW-4...</td>\n",
       "      <td>Beaches MLS</td>\n",
       "      <td>F10424254</td>\n",
       "      <td>N</td>\n",
       "      <td>Y</td>\n",
       "      <td>26.143619</td>\n",
       "      <td>-80.207964</td>\n",
       "    </tr>\n",
       "    <tr>\n",
       "      <th>13</th>\n",
       "      <td>PAST SALE</td>\n",
       "      <td>April-29-2024</td>\n",
       "      <td>Condo/Co-op</td>\n",
       "      <td>87 Tilford #87</td>\n",
       "      <td>Deerfield Beach</td>\n",
       "      <td>FL</td>\n",
       "      <td>33442.0</td>\n",
       "      <td>84000.0</td>\n",
       "      <td>1.0</td>\n",
       "      <td>1.0</td>\n",
       "      <td>...</td>\n",
       "      <td>Sold</td>\n",
       "      <td>NaN</td>\n",
       "      <td>NaN</td>\n",
       "      <td>https://www.redfin.com/FL/Deerfield-Beach/87-T...</td>\n",
       "      <td>Beaches MLS</td>\n",
       "      <td>F10428105</td>\n",
       "      <td>N</td>\n",
       "      <td>Y</td>\n",
       "      <td>26.316256</td>\n",
       "      <td>-80.151765</td>\n",
       "    </tr>\n",
       "    <tr>\n",
       "      <th>7</th>\n",
       "      <td>PAST SALE</td>\n",
       "      <td>April-5-2024</td>\n",
       "      <td>Condo/Co-op</td>\n",
       "      <td>611 S State Road 7 Unit 1G</td>\n",
       "      <td>Margate</td>\n",
       "      <td>FL</td>\n",
       "      <td>33068.0</td>\n",
       "      <td>85000.0</td>\n",
       "      <td>2.0</td>\n",
       "      <td>2.0</td>\n",
       "      <td>...</td>\n",
       "      <td>Sold</td>\n",
       "      <td>NaN</td>\n",
       "      <td>NaN</td>\n",
       "      <td>https://www.redfin.com/FL/Margate/611-S-State-...</td>\n",
       "      <td>MARMLS</td>\n",
       "      <td>A11515598</td>\n",
       "      <td>N</td>\n",
       "      <td>Y</td>\n",
       "      <td>26.223540</td>\n",
       "      <td>-80.204982</td>\n",
       "    </tr>\n",
       "    <tr>\n",
       "      <th>25</th>\n",
       "      <td>PAST SALE</td>\n",
       "      <td>April-4-2024</td>\n",
       "      <td>Condo/Co-op</td>\n",
       "      <td>3001 E Sunrise Lakes Dr #107</td>\n",
       "      <td>Sunrise</td>\n",
       "      <td>FL</td>\n",
       "      <td>33322.0</td>\n",
       "      <td>89950.0</td>\n",
       "      <td>1.0</td>\n",
       "      <td>1.0</td>\n",
       "      <td>...</td>\n",
       "      <td>Sold</td>\n",
       "      <td>NaN</td>\n",
       "      <td>NaN</td>\n",
       "      <td>https://www.redfin.com/FL/Sunrise/3001-Sunrise...</td>\n",
       "      <td>Beaches MLS</td>\n",
       "      <td>F10414403</td>\n",
       "      <td>N</td>\n",
       "      <td>Y</td>\n",
       "      <td>26.161983</td>\n",
       "      <td>-80.252127</td>\n",
       "    </tr>\n",
       "    <tr>\n",
       "      <th>9</th>\n",
       "      <td>PAST SALE</td>\n",
       "      <td>April-12-2024</td>\n",
       "      <td>Condo/Co-op</td>\n",
       "      <td>6870 Royal Palm Blvd Unit 308M</td>\n",
       "      <td>Margate</td>\n",
       "      <td>FL</td>\n",
       "      <td>33063.0</td>\n",
       "      <td>90000.0</td>\n",
       "      <td>2.0</td>\n",
       "      <td>2.0</td>\n",
       "      <td>...</td>\n",
       "      <td>Sold</td>\n",
       "      <td>NaN</td>\n",
       "      <td>NaN</td>\n",
       "      <td>https://www.redfin.com/FL/Margate/6870-Royal-P...</td>\n",
       "      <td>MARMLS</td>\n",
       "      <td>A11532504</td>\n",
       "      <td>N</td>\n",
       "      <td>Y</td>\n",
       "      <td>26.251297</td>\n",
       "      <td>-80.216838</td>\n",
       "    </tr>\n",
       "    <tr>\n",
       "      <th>18</th>\n",
       "      <td>PAST SALE</td>\n",
       "      <td>April-3-2024</td>\n",
       "      <td>Condo/Co-op</td>\n",
       "      <td>9621 Sunrise Lakes Blvd #307</td>\n",
       "      <td>Sunrise</td>\n",
       "      <td>FL</td>\n",
       "      <td>33322.0</td>\n",
       "      <td>90000.0</td>\n",
       "      <td>1.0</td>\n",
       "      <td>1.0</td>\n",
       "      <td>...</td>\n",
       "      <td>Sold</td>\n",
       "      <td>NaN</td>\n",
       "      <td>NaN</td>\n",
       "      <td>https://www.redfin.com/FL/Sunrise/9621-Sunrise...</td>\n",
       "      <td>MARMLS</td>\n",
       "      <td>A11497072</td>\n",
       "      <td>N</td>\n",
       "      <td>Y</td>\n",
       "      <td>26.163923</td>\n",
       "      <td>-80.276319</td>\n",
       "    </tr>\n",
       "    <tr>\n",
       "      <th>22</th>\n",
       "      <td>PAST SALE</td>\n",
       "      <td>April-12-2024</td>\n",
       "      <td>Condo/Co-op</td>\n",
       "      <td>4141 NW 21st St #102</td>\n",
       "      <td>Lauderhill</td>\n",
       "      <td>FL</td>\n",
       "      <td>33313.0</td>\n",
       "      <td>91000.0</td>\n",
       "      <td>1.0</td>\n",
       "      <td>1.5</td>\n",
       "      <td>...</td>\n",
       "      <td>Sold</td>\n",
       "      <td>NaN</td>\n",
       "      <td>NaN</td>\n",
       "      <td>https://www.redfin.com/FL/Lauderhill/4141-NW-2...</td>\n",
       "      <td>MARMLS</td>\n",
       "      <td>A11512069</td>\n",
       "      <td>N</td>\n",
       "      <td>Y</td>\n",
       "      <td>26.154254</td>\n",
       "      <td>-80.204745</td>\n",
       "    </tr>\n",
       "    <tr>\n",
       "      <th>24</th>\n",
       "      <td>PAST SALE</td>\n",
       "      <td>April-2-2024</td>\n",
       "      <td>Condo/Co-op</td>\n",
       "      <td>2600 NW 49th Ave #310</td>\n",
       "      <td>Lauderdale Lakes</td>\n",
       "      <td>FL</td>\n",
       "      <td>33313.0</td>\n",
       "      <td>92000.0</td>\n",
       "      <td>1.0</td>\n",
       "      <td>1.0</td>\n",
       "      <td>...</td>\n",
       "      <td>Sold</td>\n",
       "      <td>NaN</td>\n",
       "      <td>NaN</td>\n",
       "      <td>https://www.redfin.com/FL/Lauderdale-Lakes/260...</td>\n",
       "      <td>Beaches MLS</td>\n",
       "      <td>F10408701</td>\n",
       "      <td>N</td>\n",
       "      <td>Y</td>\n",
       "      <td>26.159654</td>\n",
       "      <td>-80.216662</td>\n",
       "    </tr>\n",
       "    <tr>\n",
       "      <th>30</th>\n",
       "      <td>PAST SALE</td>\n",
       "      <td>April-30-2024</td>\n",
       "      <td>Condo/Co-op</td>\n",
       "      <td>3150 Holiday Springs Blvd Unit 8-102</td>\n",
       "      <td>Margate</td>\n",
       "      <td>FL</td>\n",
       "      <td>33063.0</td>\n",
       "      <td>92000.0</td>\n",
       "      <td>1.0</td>\n",
       "      <td>1.5</td>\n",
       "      <td>...</td>\n",
       "      <td>Sold</td>\n",
       "      <td>NaN</td>\n",
       "      <td>NaN</td>\n",
       "      <td>https://www.redfin.com/FL/Margate/3150-Holiday...</td>\n",
       "      <td>MARMLS</td>\n",
       "      <td>A11501337</td>\n",
       "      <td>N</td>\n",
       "      <td>Y</td>\n",
       "      <td>26.265619</td>\n",
       "      <td>-80.233842</td>\n",
       "    </tr>\n",
       "    <tr>\n",
       "      <th>11</th>\n",
       "      <td>PAST SALE</td>\n",
       "      <td>April-29-2024</td>\n",
       "      <td>Condo/Co-op</td>\n",
       "      <td>319 Tilford O #319</td>\n",
       "      <td>Deerfield Beach</td>\n",
       "      <td>FL</td>\n",
       "      <td>33442.0</td>\n",
       "      <td>93000.0</td>\n",
       "      <td>1.0</td>\n",
       "      <td>1.0</td>\n",
       "      <td>...</td>\n",
       "      <td>Sold</td>\n",
       "      <td>NaN</td>\n",
       "      <td>NaN</td>\n",
       "      <td>https://www.redfin.com/FL/Deerfield-Beach/319-...</td>\n",
       "      <td>Beaches MLS</td>\n",
       "      <td>F10424576</td>\n",
       "      <td>N</td>\n",
       "      <td>Y</td>\n",
       "      <td>26.311012</td>\n",
       "      <td>-80.148252</td>\n",
       "    </tr>\n",
       "    <tr>\n",
       "      <th>20</th>\n",
       "      <td>PAST SALE</td>\n",
       "      <td>April-25-2024</td>\n",
       "      <td>Condo/Co-op</td>\n",
       "      <td>3431 NW 50th Ave #108</td>\n",
       "      <td>Lauderdale Lakes</td>\n",
       "      <td>FL</td>\n",
       "      <td>33319.0</td>\n",
       "      <td>93000.0</td>\n",
       "      <td>1.0</td>\n",
       "      <td>1.0</td>\n",
       "      <td>...</td>\n",
       "      <td>Sold</td>\n",
       "      <td>NaN</td>\n",
       "      <td>NaN</td>\n",
       "      <td>https://www.redfin.com/FL/Lauderdale-Lakes/343...</td>\n",
       "      <td>Beaches MLS</td>\n",
       "      <td>F10416423</td>\n",
       "      <td>N</td>\n",
       "      <td>Y</td>\n",
       "      <td>26.168972</td>\n",
       "      <td>-80.216576</td>\n",
       "    </tr>\n",
       "    <tr>\n",
       "      <th>16</th>\n",
       "      <td>PAST SALE</td>\n",
       "      <td>April-3-2024</td>\n",
       "      <td>Condo/Co-op</td>\n",
       "      <td>156 Ventnor J #156</td>\n",
       "      <td>Deerfield Beach</td>\n",
       "      <td>FL</td>\n",
       "      <td>33442.0</td>\n",
       "      <td>95000.0</td>\n",
       "      <td>1.0</td>\n",
       "      <td>1.0</td>\n",
       "      <td>...</td>\n",
       "      <td>Sold</td>\n",
       "      <td>NaN</td>\n",
       "      <td>NaN</td>\n",
       "      <td>https://www.redfin.com/FL/Deerfield-Beach/156-...</td>\n",
       "      <td>Beaches MLS</td>\n",
       "      <td>F10413630</td>\n",
       "      <td>N</td>\n",
       "      <td>Y</td>\n",
       "      <td>26.316126</td>\n",
       "      <td>-80.145739</td>\n",
       "    </tr>\n",
       "  </tbody>\n",
       "</table>\n",
       "<p>20 rows × 27 columns</p>\n",
       "</div>"
      ],
      "text/plain": [
       "    SALE TYPE      SOLD DATE PROPERTY TYPE  \\\n",
       "21  PAST SALE   April-5-2024   Condo/Co-op   \n",
       "10  PAST SALE  April-26-2024   Condo/Co-op   \n",
       "26  PAST SALE  April-15-2024   Condo/Co-op   \n",
       "4   PAST SALE   April-5-2024   Condo/Co-op   \n",
       "32  PAST SALE   April-8-2024   Condo/Co-op   \n",
       "31  PAST SALE  April-10-2024   Condo/Co-op   \n",
       "3   PAST SALE   April-5-2024   Condo/Co-op   \n",
       "1   PAST SALE   April-4-2024   Condo/Co-op   \n",
       "8   PAST SALE  April-25-2024   Condo/Co-op   \n",
       "13  PAST SALE  April-29-2024   Condo/Co-op   \n",
       "7   PAST SALE   April-5-2024   Condo/Co-op   \n",
       "25  PAST SALE   April-4-2024   Condo/Co-op   \n",
       "9   PAST SALE  April-12-2024   Condo/Co-op   \n",
       "18  PAST SALE   April-3-2024   Condo/Co-op   \n",
       "22  PAST SALE  April-12-2024   Condo/Co-op   \n",
       "24  PAST SALE   April-2-2024   Condo/Co-op   \n",
       "30  PAST SALE  April-30-2024   Condo/Co-op   \n",
       "11  PAST SALE  April-29-2024   Condo/Co-op   \n",
       "20  PAST SALE  April-25-2024   Condo/Co-op   \n",
       "16  PAST SALE   April-3-2024   Condo/Co-op   \n",
       "\n",
       "                                 ADDRESS              CITY STATE OR PROVINCE  \\\n",
       "21               6500 Winfield Blvd #104           Margate                FL   \n",
       "10           111 Golden Isles Dr Unit E3  Hallandale Beach                FL   \n",
       "26               1985 S Ocean Dr Unit 3D        Hallandale                FL   \n",
       "4         3200 Holiday Springs Blvd #303           Margate                FL   \n",
       "32        3070 Holiday Springs Blvd #202           Margate                FL   \n",
       "31          3160 Holiday Spgs Unit 7-207           Margate                FL   \n",
       "3                   104 Upminster E #104   Deerfield Beach                FL   \n",
       "1   3180 Holiday Springs Blvd Unit 5-303     Pompano Beach                FL   \n",
       "8                  1380 NW 43rd Ter #304        Lauderhill                FL   \n",
       "13                        87 Tilford #87   Deerfield Beach                FL   \n",
       "7             611 S State Road 7 Unit 1G           Margate                FL   \n",
       "25          3001 E Sunrise Lakes Dr #107           Sunrise                FL   \n",
       "9         6870 Royal Palm Blvd Unit 308M           Margate                FL   \n",
       "18          9621 Sunrise Lakes Blvd #307           Sunrise                FL   \n",
       "22                  4141 NW 21st St #102        Lauderhill                FL   \n",
       "24                 2600 NW 49th Ave #310  Lauderdale Lakes                FL   \n",
       "30  3150 Holiday Springs Blvd Unit 8-102           Margate                FL   \n",
       "11                    319 Tilford O #319   Deerfield Beach                FL   \n",
       "20                 3431 NW 50th Ave #108  Lauderdale Lakes                FL   \n",
       "16                    156 Ventnor J #156   Deerfield Beach                FL   \n",
       "\n",
       "    ZIP OR POSTAL CODE    PRICE  BEDS  BATHS  ... STATUS  \\\n",
       "21             33063.0    120.0   1.0    1.0  ...   Sold   \n",
       "10             33009.0  16700.0   1.0    1.0  ...   Sold   \n",
       "26             33009.0  25000.0   1.0    1.5  ...   Sold   \n",
       "4              33063.0  66000.0   1.0    1.0  ...   Sold   \n",
       "32             33063.0  68500.0   1.0    1.5  ...   Sold   \n",
       "31             33063.0  75000.0   1.0    1.0  ...   Sold   \n",
       "3              33442.0  79000.0   1.0    1.5  ...   Sold   \n",
       "1              33063.0  80000.0   1.0    1.0  ...   Sold   \n",
       "8              33313.0  80000.0   1.0    1.0  ...   Sold   \n",
       "13             33442.0  84000.0   1.0    1.0  ...   Sold   \n",
       "7              33068.0  85000.0   2.0    2.0  ...   Sold   \n",
       "25             33322.0  89950.0   1.0    1.0  ...   Sold   \n",
       "9              33063.0  90000.0   2.0    2.0  ...   Sold   \n",
       "18             33322.0  90000.0   1.0    1.0  ...   Sold   \n",
       "22             33313.0  91000.0   1.0    1.5  ...   Sold   \n",
       "24             33313.0  92000.0   1.0    1.0  ...   Sold   \n",
       "30             33063.0  92000.0   1.0    1.5  ...   Sold   \n",
       "11             33442.0  93000.0   1.0    1.0  ...   Sold   \n",
       "20             33319.0  93000.0   1.0    1.0  ...   Sold   \n",
       "16             33442.0  95000.0   1.0    1.0  ...   Sold   \n",
       "\n",
       "    NEXT OPEN HOUSE START TIME  NEXT OPEN HOUSE END TIME  \\\n",
       "21                         NaN                       NaN   \n",
       "10                         NaN                       NaN   \n",
       "26                         NaN                       NaN   \n",
       "4                          NaN                       NaN   \n",
       "32                         NaN                       NaN   \n",
       "31                         NaN                       NaN   \n",
       "3                          NaN                       NaN   \n",
       "1                          NaN                       NaN   \n",
       "8                          NaN                       NaN   \n",
       "13                         NaN                       NaN   \n",
       "7                          NaN                       NaN   \n",
       "25                         NaN                       NaN   \n",
       "9                          NaN                       NaN   \n",
       "18                         NaN                       NaN   \n",
       "22                         NaN                       NaN   \n",
       "24                         NaN                       NaN   \n",
       "30                         NaN                       NaN   \n",
       "11                         NaN                       NaN   \n",
       "20                         NaN                       NaN   \n",
       "16                         NaN                       NaN   \n",
       "\n",
       "                                                  URL       SOURCE  \\\n",
       "21  https://www.redfin.com/FL/Margate/6500-Winfiel...       MARMLS   \n",
       "10  https://www.redfin.com/FL/Hallandale-Beach/111...       MARMLS   \n",
       "26  https://www.redfin.com/FL/Hallandale-Beach/198...  Beaches MLS   \n",
       "4   https://www.redfin.com/FL/Margate/3200-Holiday...  Beaches MLS   \n",
       "32  https://www.redfin.com/FL/Margate/3070-Holiday...       MARMLS   \n",
       "31  https://www.redfin.com/FL/Margate/3160-Holiday...       MARMLS   \n",
       "3   https://www.redfin.com/FL/Deerfield-Beach/104-...  Beaches MLS   \n",
       "1   https://www.redfin.com/FL/Margate/3180-Holiday...  Beaches MLS   \n",
       "8   https://www.redfin.com/FL/Lauderhill/1380-NW-4...  Beaches MLS   \n",
       "13  https://www.redfin.com/FL/Deerfield-Beach/87-T...  Beaches MLS   \n",
       "7   https://www.redfin.com/FL/Margate/611-S-State-...       MARMLS   \n",
       "25  https://www.redfin.com/FL/Sunrise/3001-Sunrise...  Beaches MLS   \n",
       "9   https://www.redfin.com/FL/Margate/6870-Royal-P...       MARMLS   \n",
       "18  https://www.redfin.com/FL/Sunrise/9621-Sunrise...       MARMLS   \n",
       "22  https://www.redfin.com/FL/Lauderhill/4141-NW-2...       MARMLS   \n",
       "24  https://www.redfin.com/FL/Lauderdale-Lakes/260...  Beaches MLS   \n",
       "30  https://www.redfin.com/FL/Margate/3150-Holiday...       MARMLS   \n",
       "11  https://www.redfin.com/FL/Deerfield-Beach/319-...  Beaches MLS   \n",
       "20  https://www.redfin.com/FL/Lauderdale-Lakes/343...  Beaches MLS   \n",
       "16  https://www.redfin.com/FL/Deerfield-Beach/156-...  Beaches MLS   \n",
       "\n",
       "           MLS#  FAVORITE INTERESTED   LATITUDE  LONGITUDE  \n",
       "21    A11505248         N          Y  26.258081 -80.211870  \n",
       "10    A11551848         N          Y  25.983004 -80.123187  \n",
       "26    F10410753         N          Y  25.979369 -80.120831  \n",
       "4     F10427403         N          Y  26.267602 -80.233318  \n",
       "32    A11480872         N          Y  26.262019 -80.233395  \n",
       "31    A11481829         N          Y  26.265849 -80.233308  \n",
       "3   RX-10962727         N          Y  26.313026 -80.129376  \n",
       "1     F10430000         N          Y  26.266646 -80.232944  \n",
       "8     F10424254         N          Y  26.143619 -80.207964  \n",
       "13    F10428105         N          Y  26.316256 -80.151765  \n",
       "7     A11515598         N          Y  26.223540 -80.204982  \n",
       "25    F10414403         N          Y  26.161983 -80.252127  \n",
       "9     A11532504         N          Y  26.251297 -80.216838  \n",
       "18    A11497072         N          Y  26.163923 -80.276319  \n",
       "22    A11512069         N          Y  26.154254 -80.204745  \n",
       "24    F10408701         N          Y  26.159654 -80.216662  \n",
       "30    A11501337         N          Y  26.265619 -80.233842  \n",
       "11    F10424576         N          Y  26.311012 -80.148252  \n",
       "20    F10416423         N          Y  26.168972 -80.216576  \n",
       "16    F10413630         N          Y  26.316126 -80.145739  \n",
       "\n",
       "[20 rows x 27 columns]"
      ]
     },
     "execution_count": 95,
     "metadata": {},
     "output_type": "execute_result"
    }
   ],
   "source": [
    "df_filtered.sort_values(by='PRICE',ascending=True).head(20)"
   ]
  },
  {
   "cell_type": "code",
   "execution_count": 99,
   "id": "e6256bce",
   "metadata": {},
   "outputs": [
    {
     "name": "stdout",
     "output_type": "stream",
     "text": [
      "https://www.redfin.com/FL/Margate/3200-Holiday-Springs-Blvd-33063/unit-303/home/190013146\n"
     ]
    }
   ],
   "source": [
    "print(df_filtered['URL'].iloc[4])"
   ]
  },
  {
   "cell_type": "code",
   "execution_count": 100,
   "id": "fe440217",
   "metadata": {},
   "outputs": [],
   "source": [
    "# Correct the prices, if needed\n",
    "df_filtered.at[21,'PRICE']=(120_000)\n",
    "df_filtered.at[10,'PRICE']=(167_000)\n",
    "df_filtered.at[26,'PRICE']=(250_000)\n",
    "\n",
    "# Correct the psf, if needed\n",
    "df_filtered.at[21,'$/SQUARE FEET']=(120_000/460)\n",
    "df_filtered.at[10,'$/SQUARE FEET']=(167_000/825)\n",
    "df_filtered.at[26,'$/SQUARE FEET']=(250_000/870)"
   ]
  },
  {
   "cell_type": "code",
   "execution_count": 61,
   "id": "e3877a57",
   "metadata": {},
   "outputs": [],
   "source": [
    "### If needed, drop the row with the lowest price\n",
    "# min_value_index = df_filtered['PRICE'].idxmin()\n",
    "# df_filtered = df_filtered.drop(min_value_index)"
   ]
  },
  {
   "cell_type": "code",
   "execution_count": 24,
   "id": "7e529e83",
   "metadata": {},
   "outputs": [],
   "source": [
    "# print(df_filtered['URL'].iloc[528])"
   ]
  },
  {
   "cell_type": "code",
   "execution_count": 101,
   "id": "42d775ef",
   "metadata": {},
   "outputs": [
    {
     "data": {
      "text/html": [
       "<div>\n",
       "<style scoped>\n",
       "    .dataframe tbody tr th:only-of-type {\n",
       "        vertical-align: middle;\n",
       "    }\n",
       "\n",
       "    .dataframe tbody tr th {\n",
       "        vertical-align: top;\n",
       "    }\n",
       "\n",
       "    .dataframe thead th {\n",
       "        text-align: right;\n",
       "    }\n",
       "</style>\n",
       "<table border=\"1\" class=\"dataframe\">\n",
       "  <thead>\n",
       "    <tr style=\"text-align: right;\">\n",
       "      <th></th>\n",
       "      <th>PRICE</th>\n",
       "      <th>ADDRESS</th>\n",
       "      <th>CITY</th>\n",
       "      <th>$/SQUARE FEET</th>\n",
       "    </tr>\n",
       "  </thead>\n",
       "  <tbody>\n",
       "    <tr>\n",
       "      <th>649</th>\n",
       "      <td>125000.0</td>\n",
       "      <td>3485 Environ Blvd Unit C501</td>\n",
       "      <td>Lauderhill</td>\n",
       "      <td>81.0</td>\n",
       "    </tr>\n",
       "    <tr>\n",
       "      <th>7</th>\n",
       "      <td>85000.0</td>\n",
       "      <td>611 S State Road 7 Unit 1G</td>\n",
       "      <td>Margate</td>\n",
       "      <td>89.0</td>\n",
       "    </tr>\n",
       "    <tr>\n",
       "      <th>4</th>\n",
       "      <td>66000.0</td>\n",
       "      <td>3200 Holiday Springs Blvd #303</td>\n",
       "      <td>Margate</td>\n",
       "      <td>91.0</td>\n",
       "    </tr>\n",
       "    <tr>\n",
       "      <th>9</th>\n",
       "      <td>90000.0</td>\n",
       "      <td>6870 Royal Palm Blvd Unit 308M</td>\n",
       "      <td>Margate</td>\n",
       "      <td>93.0</td>\n",
       "    </tr>\n",
       "    <tr>\n",
       "      <th>775</th>\n",
       "      <td>140000.0</td>\n",
       "      <td>3651 Environ Blvd #556</td>\n",
       "      <td>Lauderhill</td>\n",
       "      <td>94.0</td>\n",
       "    </tr>\n",
       "    <tr>\n",
       "      <th>32</th>\n",
       "      <td>68500.0</td>\n",
       "      <td>3070 Holiday Springs Blvd #202</td>\n",
       "      <td>Margate</td>\n",
       "      <td>95.0</td>\n",
       "    </tr>\n",
       "    <tr>\n",
       "      <th>762</th>\n",
       "      <td>135000.0</td>\n",
       "      <td>5861 NW 16th Pl #214</td>\n",
       "      <td>Sunrise</td>\n",
       "      <td>102.0</td>\n",
       "    </tr>\n",
       "    <tr>\n",
       "      <th>771</th>\n",
       "      <td>134000.0</td>\n",
       "      <td>8220 SW 24th St #4303</td>\n",
       "      <td>North Lauderdale</td>\n",
       "      <td>103.0</td>\n",
       "    </tr>\n",
       "    <tr>\n",
       "      <th>31</th>\n",
       "      <td>75000.0</td>\n",
       "      <td>3160 Holiday Spgs Unit 7-207</td>\n",
       "      <td>Margate</td>\n",
       "      <td>104.0</td>\n",
       "    </tr>\n",
       "    <tr>\n",
       "      <th>742</th>\n",
       "      <td>130500.0</td>\n",
       "      <td>3650 Environ Blvd #204</td>\n",
       "      <td>Lauderhill</td>\n",
       "      <td>105.0</td>\n",
       "    </tr>\n",
       "    <tr>\n",
       "      <th>33</th>\n",
       "      <td>100000.0</td>\n",
       "      <td>9300 Lime Bay Blvd #310</td>\n",
       "      <td>Tamarac</td>\n",
       "      <td>105.0</td>\n",
       "    </tr>\n",
       "    <tr>\n",
       "      <th>1</th>\n",
       "      <td>80000.0</td>\n",
       "      <td>3180 Holiday Springs Blvd Unit 5-303</td>\n",
       "      <td>Pompano Beach</td>\n",
       "      <td>110.0</td>\n",
       "    </tr>\n",
       "    <tr>\n",
       "      <th>686</th>\n",
       "      <td>103000.0</td>\n",
       "      <td>6200 S Falls Circle Dr #109</td>\n",
       "      <td>Lauderhill</td>\n",
       "      <td>110.0</td>\n",
       "    </tr>\n",
       "    <tr>\n",
       "      <th>8</th>\n",
       "      <td>80000.0</td>\n",
       "      <td>1380 NW 43rd Ter #304</td>\n",
       "      <td>Lauderhill</td>\n",
       "      <td>110.0</td>\n",
       "    </tr>\n",
       "    <tr>\n",
       "      <th>658</th>\n",
       "      <td>120000.0</td>\n",
       "      <td>1400 Saint Charles Pl #605</td>\n",
       "      <td>Pembroke Pines</td>\n",
       "      <td>111.0</td>\n",
       "    </tr>\n",
       "    <tr>\n",
       "      <th>740</th>\n",
       "      <td>145000.0</td>\n",
       "      <td>900 Saint Charles Pl #415</td>\n",
       "      <td>Pembroke Pines</td>\n",
       "      <td>112.0</td>\n",
       "    </tr>\n",
       "    <tr>\n",
       "      <th>662</th>\n",
       "      <td>107000.0</td>\n",
       "      <td>9401 Lime Bay Blvd #301</td>\n",
       "      <td>Tamarac</td>\n",
       "      <td>113.0</td>\n",
       "    </tr>\n",
       "    <tr>\n",
       "      <th>684</th>\n",
       "      <td>115500.0</td>\n",
       "      <td>141 S Laurel Dr #602</td>\n",
       "      <td>Margate</td>\n",
       "      <td>113.0</td>\n",
       "    </tr>\n",
       "    <tr>\n",
       "      <th>3</th>\n",
       "      <td>79000.0</td>\n",
       "      <td>104 Upminster E #104</td>\n",
       "      <td>Deerfield Beach</td>\n",
       "      <td>113.0</td>\n",
       "    </tr>\n",
       "    <tr>\n",
       "      <th>749</th>\n",
       "      <td>145300.0</td>\n",
       "      <td>4960 Sabal Palm Blvd #415</td>\n",
       "      <td>Tamarac</td>\n",
       "      <td>114.0</td>\n",
       "    </tr>\n",
       "  </tbody>\n",
       "</table>\n",
       "</div>"
      ],
      "text/plain": [
       "        PRICE                               ADDRESS              CITY  \\\n",
       "649  125000.0           3485 Environ Blvd Unit C501        Lauderhill   \n",
       "7     85000.0            611 S State Road 7 Unit 1G           Margate   \n",
       "4     66000.0        3200 Holiday Springs Blvd #303           Margate   \n",
       "9     90000.0        6870 Royal Palm Blvd Unit 308M           Margate   \n",
       "775  140000.0                3651 Environ Blvd #556        Lauderhill   \n",
       "32    68500.0        3070 Holiday Springs Blvd #202           Margate   \n",
       "762  135000.0                  5861 NW 16th Pl #214           Sunrise   \n",
       "771  134000.0                 8220 SW 24th St #4303  North Lauderdale   \n",
       "31    75000.0          3160 Holiday Spgs Unit 7-207           Margate   \n",
       "742  130500.0                3650 Environ Blvd #204        Lauderhill   \n",
       "33   100000.0               9300 Lime Bay Blvd #310           Tamarac   \n",
       "1     80000.0  3180 Holiday Springs Blvd Unit 5-303     Pompano Beach   \n",
       "686  103000.0           6200 S Falls Circle Dr #109        Lauderhill   \n",
       "8     80000.0                 1380 NW 43rd Ter #304        Lauderhill   \n",
       "658  120000.0            1400 Saint Charles Pl #605    Pembroke Pines   \n",
       "740  145000.0             900 Saint Charles Pl #415    Pembroke Pines   \n",
       "662  107000.0               9401 Lime Bay Blvd #301           Tamarac   \n",
       "684  115500.0                  141 S Laurel Dr #602           Margate   \n",
       "3     79000.0                  104 Upminster E #104   Deerfield Beach   \n",
       "749  145300.0             4960 Sabal Palm Blvd #415           Tamarac   \n",
       "\n",
       "     $/SQUARE FEET  \n",
       "649           81.0  \n",
       "7             89.0  \n",
       "4             91.0  \n",
       "9             93.0  \n",
       "775           94.0  \n",
       "32            95.0  \n",
       "762          102.0  \n",
       "771          103.0  \n",
       "31           104.0  \n",
       "742          105.0  \n",
       "33           105.0  \n",
       "1            110.0  \n",
       "686          110.0  \n",
       "8            110.0  \n",
       "658          111.0  \n",
       "740          112.0  \n",
       "662          113.0  \n",
       "684          113.0  \n",
       "3            113.0  \n",
       "749          114.0  "
      ]
     },
     "execution_count": 101,
     "metadata": {},
     "output_type": "execute_result"
    }
   ],
   "source": [
    "# Find problem psf by searching for low values\n",
    "df_filtered.sort_values(by='$/SQUARE FEET',ascending=True).head(20)[['PRICE','ADDRESS','CITY','$/SQUARE FEET']]"
   ]
  },
  {
   "cell_type": "code",
   "execution_count": 63,
   "id": "6895cf71",
   "metadata": {},
   "outputs": [],
   "source": [
    "# # Drop sales that aren't condos but labeled as such\n",
    "# df_filtered = df_filtered.drop(1320)"
   ]
  },
  {
   "cell_type": "markdown",
   "id": "103ad9df",
   "metadata": {},
   "source": [
    "## Make Maps"
   ]
  },
  {
   "cell_type": "code",
   "execution_count": 102,
   "id": "42ad9d63",
   "metadata": {},
   "outputs": [],
   "source": [
    "### Create a price column formatted as currency ###\n",
    "df_filtered['PRICE_AS_CURRENCY'] = df_filtered['PRICE'].apply(lambda x: \"${:,.0f}\".format(x))\n",
    "### Set formatting for Beds, Baths ###\n",
    "df_filtered['YEAR BUILT DISPLAY'] = df_filtered['YEAR BUILT'].apply(lambda x: '{:.0f}'.format(x))\n",
    "df_filtered['PRICE_SQUARE_FEET_AS_CURRENCY'] = df_filtered['$/SQUARE FEET'].apply(lambda x: '${:,.0f}'.format(x))"
   ]
  },
  {
   "cell_type": "code",
   "execution_count": 103,
   "id": "f42ba6b5",
   "metadata": {},
   "outputs": [],
   "source": [
    "df_filtered = df_filtered.sort_values(by=['PRICE'], ascending=False)\n",
    "### Insert different colors for top 10 sales vs. the rest ###\n",
    "df_filtered['COLOR'] = ''\n",
    "### Create RANK column ###\n",
    "df_filtered['RANK'] = 0\n",
    "### Insert RANK values ###\n",
    "df_filtered['RANK'] = range(1, len(df_filtered) + 1)\n",
    "# use numpy to assign values to the 'COLOR' column\n",
    "df_filtered['COLOR'] = np.where(df_filtered['RANK'] <= 10, 'orange', 'blue')"
   ]
  },
  {
   "cell_type": "markdown",
   "id": "99380454",
   "metadata": {},
   "source": [
    "## HTML Popup Formatter"
   ]
  },
  {
   "cell_type": "code",
   "execution_count": 104,
   "id": "6ffa151c",
   "metadata": {},
   "outputs": [],
   "source": [
    "### Define list of columns to drop from DF ###\n",
    "columns_drop = ['SALE TYPE','PROPERTY TYPE','STATE OR PROVINCE','ZIP OR POSTAL CODE','HOA/MONTH','STATUS','NEXT OPEN HOUSE START TIME','NEXT OPEN HOUSE END TIME','SOURCE','MLS#','FAVORITE','INTERESTED','SQUARE FEET','LOT SIZE']"
   ]
  },
  {
   "cell_type": "code",
   "execution_count": 105,
   "id": "b214f9e8",
   "metadata": {},
   "outputs": [],
   "source": [
    "### Drop the columns ###\n",
    "df_filtered = df_filtered.drop(columns=columns_drop)"
   ]
  },
  {
   "cell_type": "code",
   "execution_count": 106,
   "id": "d12c2830",
   "metadata": {},
   "outputs": [],
   "source": [
    "def popup_html(row):\n",
    "    Price = row['PRICE_AS_CURRENCY']\n",
    "    Address = row['ADDRESS']\n",
    "    City = row['CITY']\n",
    "    sold_date = row['SOLD DATE']\n",
    "    beds = row['BEDS']\n",
    "    baths = row['BATHS']\n",
    "    psf = row['PRICE_SQUARE_FEET_AS_CURRENCY']\n",
    "    year_built = row['YEAR BUILT DISPLAY']\n",
    "    rank = row['RANK']\n",
    "    \n",
    "    html = '''<!DOCTYPE html>\n",
    "    <html>\n",
    "    <strong>Price: </strong>{}'''.format(Price) + '''<br>\n",
    "    <strong>Address: </strong>{}'''.format(Address) + '''<br>\n",
    "    <strong>City: </strong>{}'''.format(City) + '''<br>\n",
    "    <strong>Sold: </strong>{}'''.format(sold_date) + '''<br>\n",
    "    <strong>Beds: </strong>{}'''.format(beds) + '''<br>\n",
    "    <strong>Baths: </strong>{}'''.format(baths) + '''<br>\n",
    "    <strong>Price per sf: </strong>{}'''.format(psf) + '''<br>\n",
    "    <strong>Year Built: </strong>{}'''.format(year_built) + '''<br>\n",
    "    <strong>Price Rank: </strong>{}'''.format(rank) + '''\n",
    "    </html>\n",
    "    '''\n",
    "    return html"
   ]
  },
  {
   "cell_type": "code",
   "execution_count": 107,
   "id": "b7fe13d2",
   "metadata": {},
   "outputs": [
    {
     "data": {
      "text/plain": [
       "<folium.map.LayerControl at 0x7fe9c8f07940>"
      ]
     },
     "execution_count": 107,
     "metadata": {},
     "output_type": "execute_result"
    }
   ],
   "source": [
    "### Create map container ###\n",
    "m = folium.Map(location=df_filtered[[\"LATITUDE\", \"LONGITUDE\"]].mean().to_list(),zoom_start=10,tiles=None)\n",
    "\n",
    "### Create title ###\n",
    "title_html = '''\n",
    "              <h3 align=\"center\" style=\"font-size:16px\"><b>{}</b></h3>\n",
    "             '''.format(f\"{previous_month_name} 2024 Condo Sales\")\n",
    "\n",
    "m.get_root().html.add_child(folium.Element(title_html))\n",
    "\n",
    "# Create two FeatureGroups for different color pins\n",
    "fg_blue = folium.FeatureGroup(name='All other sales')\n",
    "fg_orange = folium.FeatureGroup(name='Top 10 Sales')\n",
    "\n",
    "folium.GeoJson(gdf,tooltip=f'{county_name}',name=f'{county_name}').add_to(m)\n",
    "\n",
    "for index, row in df_filtered.iterrows():\n",
    "    # Add the markers to the appropriate FeatureGroup based on the color\n",
    "    if row['COLOR'] == 'blue':\n",
    "        marker = folium.Marker(\n",
    "            location=[row['LATITUDE'], row['LONGITUDE']],\n",
    "            radius=5,\n",
    "            fill=True,\n",
    "            icon=folium.Icon(color=row['COLOR']),\n",
    "            popup=folium.Popup(popup_html(row), max_width=400))\n",
    "        marker.add_to(fg_blue)\n",
    "    else:\n",
    "        marker = folium.Marker(\n",
    "            location=[row['LATITUDE'], row['LONGITUDE']],\n",
    "            radius=5,\n",
    "            fill=True,\n",
    "            icon=folium.Icon(color=row['COLOR']),\n",
    "            popup=folium.Popup(popup_html(row), max_width=400))\n",
    "        marker.add_to(fg_orange)\n",
    "\n",
    "# Add the FeatureGroups to the map\n",
    "fg_orange.add_to(m)\n",
    "fg_blue.add_to(m)\n",
    "\n",
    "folium.TileLayer('OpenStreetMap',control=False).add_to(m)\n",
    "\n",
    "# Add LayerControl to the map\n",
    "folium.map.LayerControl(collapsed=False).add_to(m)\n",
    "\n",
    "# Display map\n",
    "# m"
   ]
  },
  {
   "cell_type": "code",
   "execution_count": 108,
   "id": "a704af7f",
   "metadata": {},
   "outputs": [],
   "source": [
    "m.save('index.html')"
   ]
  },
  {
   "cell_type": "markdown",
   "id": "81b7dc98",
   "metadata": {},
   "source": [
    "## Summary Info"
   ]
  },
  {
   "cell_type": "code",
   "execution_count": 109,
   "id": "6910bd5b",
   "metadata": {},
   "outputs": [],
   "source": [
    "BR = '\\n'\n",
    "\n",
    "ME = '\\033[1m' + 'Most Expensive' + '\\033[0m'\n",
    "LE = '\\033[1m' + 'Least Expensive' + '\\033[0m'\n",
    "\n",
    "MAX_PSF = '\\033[1m' + 'Highest Price Per Square Foot' + '\\033[0m'\n",
    "MIN_PSF = '\\033[1m' + 'Lowest Price Per Square Foot' + '\\033[0m'\n",
    "\n",
    "Newest = '\\033[1m' + 'Newest' + '\\033[0m'\n",
    "Oldest = '\\033[1m' + 'Oldest' + '\\033[0m'"
   ]
  },
  {
   "cell_type": "code",
   "execution_count": 110,
   "id": "9d2c1b97",
   "metadata": {},
   "outputs": [
    {
     "data": {
      "text/plain": [
       "Index(['SOLD DATE', 'ADDRESS', 'CITY', 'PRICE', 'BEDS', 'BATHS', 'LOCATION',\n",
       "       'YEAR BUILT', 'DAYS ON MARKET', '$/SQUARE FEET', 'URL', 'LATITUDE',\n",
       "       'LONGITUDE', 'PRICE_AS_CURRENCY', 'YEAR BUILT DISPLAY',\n",
       "       'PRICE_SQUARE_FEET_AS_CURRENCY', 'COLOR', 'RANK'],\n",
       "      dtype='object')"
      ]
     },
     "execution_count": 110,
     "metadata": {},
     "output_type": "execute_result"
    }
   ],
   "source": [
    "df_filtered.columns"
   ]
  },
  {
   "cell_type": "code",
   "execution_count": 111,
   "id": "81280824",
   "metadata": {},
   "outputs": [],
   "source": [
    "df_filtered['FULL_ADDRESS'] = df_filtered['ADDRESS'] + ' ' + df_filtered['CITY']"
   ]
  },
  {
   "cell_type": "code",
   "execution_count": 112,
   "id": "4677d727",
   "metadata": {},
   "outputs": [
    {
     "name": "stdout",
     "output_type": "stream",
     "text": [
      "https://www.redfin.com/FL/Lighthouse-Point/2115-NE-42nd-Ct-33064/unit-202N/home/41515425\n"
     ]
    }
   ],
   "source": [
    "print(df_filtered.loc[df_filtered['YEAR BUILT'].idxmin()]['URL'])"
   ]
  },
  {
   "cell_type": "code",
   "execution_count": 113,
   "id": "39ff9917",
   "metadata": {},
   "outputs": [
    {
     "name": "stdout",
     "output_type": "stream",
     "text": [
      "\u001b[1mMost Expensive\u001b[0m\n",
      "AUBERGE BEACH RESIDENCES, 2200 N Ocean Blvd Unit S2201 Fort Lauderdale | Price $10,104,000 | $1,999 psf | Year built: 2018\n",
      "\u001b[1mLeast Expensive\u001b[0m\n",
      "Holiday Springs Village 1, 3200 Holiday Springs Blvd #303 Margate | Price $66,000 | $91 psf | Year built: 1974\n",
      "\u001b[1mHighest Price Per Square Foot\u001b[0m\n",
      "AUBERGE BEACH RESIDENCES, 2200 N Ocean Blvd Unit S2201 Fort Lauderdale | Price $10,104,000 | $1,999 psf | Year built: 2018\n",
      "\u001b[1mLowest Price Per Square Foot\u001b[0m\n",
      "Lakes of Environ Condo, 3485 Environ Blvd Unit C501 Lauderhill | Price $125,000 | $81 psf | Year built: 1984\n",
      "\u001b[1mNewest\u001b[0m\n",
      "Solemar Beachfront Condo, 1116 N Ocean Blvd #1606 Pompano Beach | Price $2,835,000 | $1,095 psf | Year built: 2023\n",
      "\u001b[1mOldest\u001b[0m\n",
      "Venetian Park Gardens, 2115 NE 42nd Ct Unit 202N Lighthouse Point | Price $170,000 | $191 psf | Year built: 1867\n"
     ]
    }
   ],
   "source": [
    "print(f\"{ME}{BR}{df_filtered.loc[df_filtered['PRICE'].idxmax()]['LOCATION']}, {df_filtered.loc[df_filtered['PRICE'].idxmax()]['FULL_ADDRESS']} | Price ${df_filtered.loc[df_filtered['PRICE'].idxmax()]['PRICE']:,.0f} | ${df_filtered.loc[df_filtered['PRICE'].idxmax()]['$/SQUARE FEET']:,.0f} psf | Year built: {df_filtered.loc[df_filtered['PRICE'].idxmax()]['YEAR BUILT']:.0f}\")\n",
    "print(f\"{LE}{BR}{df_filtered.loc[df_filtered['PRICE'].idxmin()]['LOCATION']}, {df_filtered.loc[df_filtered['PRICE'].idxmin()]['FULL_ADDRESS']} | Price ${df_filtered.loc[df_filtered['PRICE'].idxmin()]['PRICE']:,.0f} | ${df_filtered.loc[df_filtered['PRICE'].idxmin()]['$/SQUARE FEET']:,.0f} psf | Year built: {df_filtered.loc[df_filtered['PRICE'].idxmin()]['YEAR BUILT']:.0f}\")\n",
    "\n",
    "print(f\"{MAX_PSF}{BR}{df_filtered.loc[df_filtered['$/SQUARE FEET'].idxmax()]['LOCATION']}, {df_filtered.loc[df_filtered['$/SQUARE FEET'].idxmax()]['FULL_ADDRESS']} | Price ${df_filtered.loc[df_filtered['$/SQUARE FEET'].idxmax()]['PRICE']:,.0f} | ${df_filtered.loc[df_filtered['$/SQUARE FEET'].idxmax()]['$/SQUARE FEET']:,.0f} psf | Year built: {df_filtered.loc[df_filtered['$/SQUARE FEET'].idxmax()]['YEAR BUILT']:.0f}\")\n",
    "print(f\"{MIN_PSF}{BR}{df_filtered.loc[df_filtered['$/SQUARE FEET'].idxmin()]['LOCATION']}, {df_filtered.loc[df_filtered['$/SQUARE FEET'].idxmin()]['FULL_ADDRESS']} | Price ${df_filtered.loc[df_filtered['$/SQUARE FEET'].idxmin()]['PRICE']:,.0f} | ${df_filtered.loc[df_filtered['$/SQUARE FEET'].idxmin()]['$/SQUARE FEET']:,.0f} psf | Year built: {df_filtered.loc[df_filtered['$/SQUARE FEET'].idxmin()]['YEAR BUILT']:.0f}\")\n",
    "\n",
    "print(f\"{Newest}{BR}{df_filtered.loc[df_filtered['YEAR BUILT'].idxmax()]['LOCATION']}, {df_filtered.loc[df_filtered['YEAR BUILT'].idxmax()]['FULL_ADDRESS']} | Price ${df_filtered.loc[df_filtered['YEAR BUILT'].idxmax()]['PRICE']:,.0f} | ${df_filtered.loc[df_filtered['YEAR BUILT'].idxmax()]['$/SQUARE FEET']:,.0f} psf | Year built: {df_filtered.loc[df_filtered['YEAR BUILT'].idxmax()]['YEAR BUILT']:.0f}\")\n",
    "print(f\"{Oldest}{BR}{df_filtered.loc[df_filtered['YEAR BUILT'].idxmin()]['LOCATION']}, {df_filtered.loc[df_filtered['YEAR BUILT'].idxmin()]['FULL_ADDRESS']} | Price ${df_filtered.loc[df_filtered['YEAR BUILT'].idxmin()]['PRICE']:,.0f} | ${df_filtered.loc[df_filtered['YEAR BUILT'].idxmin()]['$/SQUARE FEET']:,.0f} psf | Year built: {df_filtered.loc[df_filtered['YEAR BUILT'].idxmin()]['YEAR BUILT']:.0f}\")"
   ]
  },
  {
   "cell_type": "markdown",
   "id": "707dd49b",
   "metadata": {},
   "source": [
    "## Map URL Snagger"
   ]
  },
  {
   "cell_type": "code",
   "execution_count": 114,
   "id": "81e05274",
   "metadata": {},
   "outputs": [
    {
     "name": "stdout",
     "output_type": "stream",
     "text": [
      "https://trd-digital.github.io/trd-news-interactive-maps/BC_condo_sales_month_ending_apr_2024\n"
     ]
    }
   ],
   "source": [
    "base_name = 'https://trd-digital.github.io/trd-news-interactive-maps/'\n",
    "\n",
    "cwd = os.getcwd()\n",
    "\n",
    "cwd = cwd.split('/')\n",
    "\n",
    "final_name = base_name + cwd[-1]\n",
    "print(final_name)"
   ]
  },
  {
   "cell_type": "markdown",
   "id": "fe5031c3",
   "metadata": {},
   "source": [
    "## Get Summary Data"
   ]
  },
  {
   "cell_type": "code",
   "execution_count": 115,
   "id": "15cba208",
   "metadata": {},
   "outputs": [
    {
     "name": "stdout",
     "output_type": "stream",
     "text": [
      "SALES INFO\n",
      "Number of sales: 979\n",
      "--------\n",
      "Total sale price: $338,245,848\n",
      "--------\n",
      "Median sale price: $248,000\n",
      "--------\n",
      "Max sale price: $10,104,000\n",
      "--------\n",
      "Min sale price: $66,000\n",
      "------------------------------------------------\n",
      "PSF INFO\n",
      "Max price per square foot: $1,999\n",
      "--------\n",
      "Min price per square foot: $81\n",
      "--------\n",
      "Median price per square foot: $242\n",
      "------------------------------------------------\n",
      "CONDO AGES\n",
      "Newest building: 2023.0\n",
      "----------\n",
      "Oldest building: 1867.0\n",
      "----------\n",
      "Average building age: 1979.7946884576097\n"
     ]
    }
   ],
   "source": [
    "print('SALES INFO')\n",
    "print(f'Number of sales: {len(df_filtered)}')\n",
    "print('--------')\n",
    "print(f'Total sale price: ${df_filtered[\"PRICE\"].sum():,.0f}')\n",
    "print('--------')\n",
    "print(f'Median sale price: ${df_filtered[\"PRICE\"].median():,.0f}')\n",
    "print('--------')\n",
    "print(f'Max sale price: ${df_filtered[\"PRICE\"].max():,.0f}')\n",
    "print('--------')\n",
    "print(f'Min sale price: ${df_filtered[\"PRICE\"].min():,.0f}')\n",
    "print('------------------------------------------------')\n",
    "print('PSF INFO')\n",
    "print(f'Max price per square foot: ${df_filtered[\"$/SQUARE FEET\"].max():,.0f}')\n",
    "print('--------')\n",
    "print(f'Min price per square foot: ${df_filtered[\"$/SQUARE FEET\"].min():,.0f}')\n",
    "print('--------')\n",
    "print(f'Median price per square foot: ${df_filtered[\"$/SQUARE FEET\"].median():,.0f}')\n",
    "print('------------------------------------------------')\n",
    "print('CONDO AGES')\n",
    "print(f'Newest building: {df_filtered[\"YEAR BUILT\"].max()}')\n",
    "print('----------')\n",
    "print(f'Oldest building: {df_filtered[\"YEAR BUILT\"].min()}')\n",
    "print('----------')\n",
    "print(f'Average building age: {df_filtered[\"YEAR BUILT\"].mean()}')"
   ]
  },
  {
   "cell_type": "code",
   "execution_count": 116,
   "id": "a7db05bf",
   "metadata": {},
   "outputs": [],
   "source": [
    "most_expensive_muni_condo_name = df_filtered.loc[df_filtered['PRICE'].idxmax()]['LOCATION']\n",
    "most_expensive_muni_location = df_filtered.loc[df_filtered['PRICE'].idxmax()]['CITY']\n",
    "\n",
    "least_expensive_muni_condo_name = df_filtered.loc[df_filtered['PRICE'].idxmin()]['LOCATION']\n",
    "least_expensive_muni_location = df_filtered.loc[df_filtered['PRICE'].idxmin()]['CITY']"
   ]
  },
  {
   "cell_type": "markdown",
   "id": "3a2b0666",
   "metadata": {},
   "source": [
    "# GENERATE STORY TEMPLATE\n",
    "\n",
    "# STOP! DID YOU UPDATE VALUES FROM THE PREVIOUS MONTH?"
   ]
  },
  {
   "cell_type": "code",
   "execution_count": 117,
   "id": "b79b8847",
   "metadata": {},
   "outputs": [],
   "source": [
    "## Calculate the increase/descrease between both months\n",
    "subject_month_sales_volume = df_filtered[\"PRICE\"].sum()\n",
    "prior_month_sales_volume = int(sales_volume_2nd_month)  # Example value, replace with actual value\n",
    "\n",
    "subject_month_closings = len(df_filtered)\n",
    "prior_month_closings = int(total_condos_sold_2nd_month)\n",
    "\n",
    "# Subtract the smaller value from the larger one\n",
    "if subject_month_sales_volume > prior_month_sales_volume:\n",
    "    hed_rf = 'jumps'\n",
    "    nut_graf = 'rising'\n",
    "    second_nut_graf_ref = 'up'\n",
    "    social = 'higher'\n",
    "    seo = 'increased'\n",
    "elif prior_month_sales_volume > subject_month_sales_volume:\n",
    "    hed_rf = 'drops'\n",
    "    nut_graf = 'falling'\n",
    "    second_nut_graf_ref = 'down'\n",
    "    social = 'lower'\n",
    "    seo = 'decreased'\n",
    "else:\n",
    "    hed_rf = 'equals'\n",
    "    nut_graf = 'equaling'\n",
    "    second_nut_graf_ref = 'on par with'\n",
    "    social = 'equal'\n",
    "    seo = \"did't change\"\n",
    "    \n",
    "    \n",
    "if subject_month_closings > prior_month_closings:\n",
    "    dek_rf = 'rose'\n",
    "elif prior_month_closings > subject_month_closings:\n",
    "    dek_rf ='fell'\n",
    "else:\n",
    "    dek_rf = 'equaled'"
   ]
  },
  {
   "cell_type": "code",
   "execution_count": 118,
   "id": "246d9fac",
   "metadata": {},
   "outputs": [],
   "source": [
    "story_string = f'''\n",
    "\\033[1mHED:\\033[0m {county_name} condo sales dollar volume {hed_rf} in {previous_month_name} to ${round(df_filtered[\"PRICE\"].sum()/1_000_000)}M \n",
    "\\033[1mDEK:\\033[0m Number of closings {dek_rf} to {len(df_filtered)} from {total_condos_sold_2nd_month} in {month_before_last_name}\n",
    "\\033[1mFEATURED HED:\\033[0m\n",
    "\\033[1mSEO HED:\\033[0m {county_name} {previous_month_name} Condo Sales Report \n",
    "\\033[1mSEO DESCRIPTION:\\033[0m {county_name}’s condo sales volume {hed_rf} to ${round(df_filtered[\"PRICE\"].sum()/1_000_000)} million in {previous_month_name}.\n",
    "\\033[1mAUTHOR:\\033[0m Adam Farence\n",
    "\\033[1mRESEARCH:\\033[0m \n",
    "\\033[1mSocial:\\033[0m {county_name} had ${round(df_filtered[\"PRICE\"].sum()/1_000_000):,.0f} million in condo sales in {previous_month_name}, {social} than ${round(int(sales_volume_2nd_month)/1_000_000)} million from {month_before_last_name}, @afarence reports \n",
    "\\033[1mART:\\033[0m \n",
    "\n",
    "CHANGE ME\n",
    "\n",
    "*Please provide credits for any images that you share\n",
    "\\033[1mSTORY TYPE:\\033[0m Report\n",
    "\\033[1mSECTOR\\033[0m (formerly CATEGORY): Residential Real Estate\n",
    "\\033[1mTAGS:\\033[0m condo sales, {county_name}, monthly condo sales, condos, condo market, {most_expensive_muni_condo_name.title()}, {most_expensive_muni_location}\n",
    "\n",
    "\\033[1mNeighborhood:\\033[0m \n",
    "\\033[1mProperty:\\033[0m\n",
    "\\033[1mProperty Type:\\033[0m\n",
    "\\033[1mCompanies:\\033[0m \n",
    "\\033[1mPeople:\\033[0m\n",
    "\\033[1mIssues:\\033[0m\n",
    "\\033[1mRegion:\\033[0m\n",
    "\n",
    "{county_name}’s NEWS PEG HERE.\n",
    "\n",
    "{previous_month_name} condo sales totaled ${df_filtered[\"PRICE\"].sum()} million, {nut_graf} from ${int(sales_volume_2nd_month)/1_000_000:.0f} million in {month_before_last_name}. Brokers closed {len(df_filtered)} sales last month, {second_nut_graf_ref} from {total_condos_sold_2nd_month} sales in {month_before_last_name} and XXX in XXX, Multiple Listing Service data from Redfin show.\n",
    "\n",
    "{previous_month_name} sale prices ranged from ${df_filtered[\"PRICE\"].min():,.2f} to ${df_filtered[\"PRICE\"].max():,.0f} million, with a median sale price of ${df_filtered[\"PRICE\"].median():,.0f}. The price per square foot ranged from ${df_filtered[\"$/SQUARE FEET\"].min():,.0f} to ${df_filtered[\"$/SQUARE FEET\"].max():,.0f}, with a median of ${df_filtered[\"$/SQUARE FEET\"].median():,.0f} per square foot.\n",
    "\n",
    "In {month_before_last_name}, sales closed with a median price of ${int(median_sales_price_2nd_month):,.0f}, and ${median_psf_2nd_month} per square foot.\n",
    "\n",
    "A ${df_filtered[\"PRICE\"].max()/1_000_000:,.0f} million closing at {most_expensive_muni_condo_name.title()} took the title of priciest sale last month. {df_filtered.loc[df_filtered['PRICE'].idxmax()]['FULL_ADDRESS']} sold for ${df_filtered.loc[df_filtered['PRICE'].idxmax()]['$/SQUARE FEET']:,.0f} per square foot after XX days on the market. XXX with XXX had the listing, and XXX with XXX represented the buyer.\n",
    "\n",
    "The sale price was \\033[1mmore/less\\033[0m than {month_before_last_name}'s priciest sale. Unit XXXX \n",
    "\n",
    "In contrast, {previous_month_name}'s cheapest sale was an {least_expensive_muni_condo_name} in {least_expensive_muni_location}, at {df_filtered.loc[df_filtered['PRICE'].idxmin()]['FULL_ADDRESS']}. Unit XXX traded for ${df_filtered['PRICE'].min():,.0f} — or ${df_filtered.loc[df_filtered['PRICE'].idxmin()]['$/SQUARE FEET']:,.0f} per square foot — after XXX days on the market. XXX with XXX handled both sides of the deal.\n",
    "\n",
    "<figure>\n",
    " <div class=\"container\">\n",
    "   <div class=\"iframe-wrap\">\n",
    "   <iframe src=\"{final_name}\" width=\"100%\" height=\"800\" frameBorder=\"0\" scrolling=\"no\"></iframe>\n",
    "  </div>\n",
    "</div>\n",
    "  <figcaption align=\"right\"><a href=\"https://leafletjs.com/\">Leaflet</a> map created by Adam Farence | Data by © <a href=\"https://www.openstreetmap.org/#map=4/38.01/-95.84\"> OpenStreetMap</a>, under <a href=\"https://www.openstreetmap.org/copyright\">ODbl.</a></figcaption>\n",
    "</figure>\n",
    "\n",
    "Here’s a breakdown of {previous_month_name}’s notable condo sales:\n",
    "'''"
   ]
  },
  {
   "cell_type": "code",
   "execution_count": 133,
   "id": "f51fcff5",
   "metadata": {},
   "outputs": [
    {
     "name": "stdout",
     "output_type": "stream",
     "text": [
      "\n",
      "\u001b[1mHED:\u001b[0m Broward County condo sales dollar volume jumps in April to $338M \n",
      "\u001b[1mDEK:\u001b[0m Number of closings rose to 979 from 841 in March\n",
      "\u001b[1mFEATURED HED:\u001b[0m\n",
      "\u001b[1mSEO HED:\u001b[0m Broward County April Condo Sales Report \n",
      "\u001b[1mSEO DESCRIPTION:\u001b[0m Broward County’s condo sales volume jumps to $338 million in April.\n",
      "\u001b[1mAUTHOR:\u001b[0m Adam Farence\n",
      "\u001b[1mRESEARCH:\u001b[0m \n",
      "\u001b[1mSocial:\u001b[0m Broward County had $338 million in condo sales in April, higher than $300 million from March, @afarence reports \n",
      "\u001b[1mART:\u001b[0m \n",
      "\n",
      "CHANGE ME\n",
      "\n",
      "*Please provide credits for any images that you share\n",
      "\u001b[1mSTORY TYPE:\u001b[0m Report\n",
      "\u001b[1mSECTOR\u001b[0m (formerly CATEGORY): Residential Real Estate\n",
      "\u001b[1mTAGS:\u001b[0m condo sales, Broward County, monthly condo sales, condos, condo market, Auberge Beach Residences, Fort Lauderdale\n",
      "\n",
      "\u001b[1mNeighborhood:\u001b[0m \n",
      "\u001b[1mProperty:\u001b[0m\n",
      "\u001b[1mProperty Type:\u001b[0m\n",
      "\u001b[1mCompanies:\u001b[0m \n",
      "\u001b[1mPeople:\u001b[0m\n",
      "\u001b[1mIssues:\u001b[0m\n",
      "\u001b[1mRegion:\u001b[0m\n",
      "\n",
      "Broward County’s NEWS PEG HERE.\n",
      "\n",
      "April condo sales totaled $338245848.0 million, rising from $300 million in March. Brokers closed 979 sales last month, up from 841 sales in March and XXX in XXX, Multiple Listing Service data from Redfin show.\n",
      "\n",
      "April sale prices ranged from $66,000.00 to $10,104,000 million, with a median sale price of $248,000. The price per square foot ranged from $81 to $1,999, with a median of $242 per square foot.\n",
      "\n",
      "In March, sales closed with a median price of $240,000, and $243 per square foot.\n",
      "\n",
      "A $10 million closing at Auberge Beach Residences took the title of priciest sale last month. 2200 N Ocean Blvd Unit S2201 Fort Lauderdale sold for $1,999 per square foot after XX days on the market. XXX with XXX had the listing, and XXX with XXX represented the buyer.\n",
      "\n",
      "The sale price was \u001b[1mmore/less\u001b[0m than March's priciest sale. Unit XXXX \n",
      "\n",
      "In contrast, April's cheapest sale was an Holiday Springs Village 1 in Margate, at 3200 Holiday Springs Blvd #303 Margate. Unit XXX traded for $66,000 — or $91 per square foot — after XXX days on the market. XXX with XXX handled both sides of the deal.\n",
      "\n",
      "<figure>\n",
      " <div class=\"container\">\n",
      "   <div class=\"iframe-wrap\">\n",
      "   <iframe src=\"https://trd-digital.github.io/trd-news-interactive-maps/BC_condo_sales_month_ending_apr_2024\" width=\"100%\" height=\"800\" frameBorder=\"0\" scrolling=\"no\"></iframe>\n",
      "  </div>\n",
      "</div>\n",
      "  <figcaption align=\"right\"><a href=\"https://leafletjs.com/\">Leaflet</a> map created by Adam Farence | Data by © <a href=\"https://www.openstreetmap.org/#map=4/38.01/-95.84\"> OpenStreetMap</a>, under <a href=\"https://www.openstreetmap.org/copyright\">ODbl.</a></figcaption>\n",
      "</figure>\n",
      "\n",
      "Here’s a breakdown of April’s notable condo sales:\n",
      "\n",
      "\u001b[1mMost Expensive\u001b[0m\n",
      "AUBERGE BEACH RESIDENCES, 2200 N Ocean Blvd Unit S2201 Fort Lauderdale | Price $10,104,000 | $1,999 psf | Year built: 2018\n",
      "\u001b[1mLeast Expensive\u001b[0m\n",
      "Holiday Springs Village 1, 3200 Holiday Springs Blvd #303 Margate | Price $66,000 | $91 psf | Year built: 1974\n",
      "\u001b[1mHighest Price Per Square Foot\u001b[0m\n",
      "AUBERGE BEACH RESIDENCES, 2200 N Ocean Blvd Unit S2201 Fort Lauderdale | Price $10,104,000 | $1,999 psf | Year built: 2018\n",
      "\u001b[1mLowest Price Per Square Foot\u001b[0m\n",
      "Lakes of Environ Condo, 3485 Environ Blvd Unit C501 Lauderhill | Price $125,000 | $81 psf | Year built: 1984\n",
      "\u001b[1mNewest\u001b[0m\n",
      "Solemar Beachfront Condo, 1116 N Ocean Blvd #1606 Pompano Beach | Price $2,835,000 | $1,095 psf | Year built: 2023\n",
      "\u001b[1mOldest\u001b[0m\n",
      "Sea Crest Condo, 326 Wilson St #204 Hollywood | Price $325,000 | $618 psf | Year built: 1940\n"
     ]
    }
   ],
   "source": [
    "print(story_string)\n",
    "\n",
    "print(f\"{ME}{BR}{df_filtered.loc[df_filtered['PRICE'].idxmax()]['LOCATION']}, {df_filtered.loc[df_filtered['PRICE'].idxmax()]['FULL_ADDRESS']} | Price ${df_filtered.loc[df_filtered['PRICE'].idxmax()]['PRICE']:,.0f} | ${df_filtered.loc[df_filtered['PRICE'].idxmax()]['$/SQUARE FEET']:,.0f} psf | Year built: {df_filtered.loc[df_filtered['PRICE'].idxmax()]['YEAR BUILT']:.0f}\")\n",
    "print(f\"{LE}{BR}{df_filtered.loc[df_filtered['PRICE'].idxmin()]['LOCATION']}, {df_filtered.loc[df_filtered['PRICE'].idxmin()]['FULL_ADDRESS']} | Price ${df_filtered.loc[df_filtered['PRICE'].idxmin()]['PRICE']:,.0f} | ${df_filtered.loc[df_filtered['PRICE'].idxmin()]['$/SQUARE FEET']:,.0f} psf | Year built: {df_filtered.loc[df_filtered['PRICE'].idxmin()]['YEAR BUILT']:.0f}\")\n",
    "\n",
    "print(f\"{MAX_PSF}{BR}{df_filtered.loc[df_filtered['$/SQUARE FEET'].idxmax()]['LOCATION']}, {df_filtered.loc[df_filtered['$/SQUARE FEET'].idxmax()]['FULL_ADDRESS']} | Price ${df_filtered.loc[df_filtered['$/SQUARE FEET'].idxmax()]['PRICE']:,.0f} | ${df_filtered.loc[df_filtered['$/SQUARE FEET'].idxmax()]['$/SQUARE FEET']:,.0f} psf | Year built: {df_filtered.loc[df_filtered['$/SQUARE FEET'].idxmax()]['YEAR BUILT']:.0f}\")\n",
    "print(f\"{MIN_PSF}{BR}{df_filtered.loc[df_filtered['$/SQUARE FEET'].idxmin()]['LOCATION']}, {df_filtered.loc[df_filtered['$/SQUARE FEET'].idxmin()]['FULL_ADDRESS']} | Price ${df_filtered.loc[df_filtered['$/SQUARE FEET'].idxmin()]['PRICE']:,.0f} | ${df_filtered.loc[df_filtered['$/SQUARE FEET'].idxmin()]['$/SQUARE FEET']:,.0f} psf | Year built: {df_filtered.loc[df_filtered['$/SQUARE FEET'].idxmin()]['YEAR BUILT']:.0f}\")\n",
    "\n",
    "print(f\"{Newest}{BR}{df_filtered.loc[df_filtered['YEAR BUILT'].idxmax()]['LOCATION']}, {df_filtered.loc[df_filtered['YEAR BUILT'].idxmax()]['FULL_ADDRESS']} | Price ${df_filtered.loc[df_filtered['YEAR BUILT'].idxmax()]['PRICE']:,.0f} | ${df_filtered.loc[df_filtered['YEAR BUILT'].idxmax()]['$/SQUARE FEET']:,.0f} psf | Year built: {df_filtered.loc[df_filtered['YEAR BUILT'].idxmax()]['YEAR BUILT']:.0f}\")\n",
    "print(f\"{Oldest}{BR}{df_filtered.loc[df_filtered['YEAR BUILT'].idxmin()]['LOCATION']}, {df_filtered.loc[df_filtered['YEAR BUILT'].idxmin()]['FULL_ADDRESS']} | Price ${df_filtered.loc[df_filtered['YEAR BUILT'].idxmin()]['PRICE']:,.0f} | ${df_filtered.loc[df_filtered['YEAR BUILT'].idxmin()]['$/SQUARE FEET']:,.0f} psf | Year built: {df_filtered.loc[df_filtered['YEAR BUILT'].idxmin()]['YEAR BUILT']:.0f}\")"
   ]
  },
  {
   "cell_type": "markdown",
   "id": "1237f8b2",
   "metadata": {},
   "source": [
    "# Print links for notable sales\n",
    "\n",
    "## Top sale"
   ]
  },
  {
   "cell_type": "code",
   "execution_count": 122,
   "id": "4c776293",
   "metadata": {},
   "outputs": [
    {
     "name": "stdout",
     "output_type": "stream",
     "text": [
      "https://www.redfin.com/FL/Fort-Lauderdale/2200-N-Ocean-Blvd-33305/unit-S2201/home/160825140\n"
     ]
    }
   ],
   "source": [
    "print(df_filtered.loc[df_filtered['PRICE'].idxmax()]['URL'])"
   ]
  },
  {
   "cell_type": "markdown",
   "id": "b1f63a6a",
   "metadata": {},
   "source": [
    "## Cheapest sale"
   ]
  },
  {
   "cell_type": "code",
   "execution_count": 121,
   "id": "967008ef",
   "metadata": {},
   "outputs": [
    {
     "name": "stdout",
     "output_type": "stream",
     "text": [
      "https://www.redfin.com/FL/Margate/3200-Holiday-Springs-Blvd-33063/unit-303/home/190013146\n"
     ]
    }
   ],
   "source": [
    "print(df_filtered.loc[df_filtered['PRICE'].idxmin()]['URL'])"
   ]
  },
  {
   "cell_type": "markdown",
   "id": "0f56cc2b",
   "metadata": {},
   "source": [
    "## Highest PSF"
   ]
  },
  {
   "cell_type": "code",
   "execution_count": 63,
   "id": "001083a2",
   "metadata": {},
   "outputs": [
    {
     "name": "stdout",
     "output_type": "stream",
     "text": [
      "https://www.redfin.com/FL/Fort-Lauderdale/2200-N-Ocean-Blvd-33305/unit-S2201/home/160825140\n"
     ]
    }
   ],
   "source": [
    "print(df_filtered.loc[df_filtered['$/SQUARE FEET'].idxmax()]['URL'])"
   ]
  },
  {
   "cell_type": "markdown",
   "id": "e606b84a",
   "metadata": {},
   "source": [
    "## Lowest PSF"
   ]
  },
  {
   "cell_type": "code",
   "execution_count": 124,
   "id": "91b9b079",
   "metadata": {},
   "outputs": [
    {
     "name": "stdout",
     "output_type": "stream",
     "text": [
      "https://www.redfin.com/FL/Lauderhill/3485-Environ-Blvd-33319/unit-C501/home/41583493\n"
     ]
    }
   ],
   "source": [
    "print(df_filtered.loc[df_filtered['$/SQUARE FEET'].idxmin()]['URL'])"
   ]
  },
  {
   "cell_type": "markdown",
   "id": "d6e5493b",
   "metadata": {},
   "source": [
    "## Newest"
   ]
  },
  {
   "cell_type": "code",
   "execution_count": 65,
   "id": "c2cc4988",
   "metadata": {},
   "outputs": [
    {
     "name": "stdout",
     "output_type": "stream",
     "text": [
      "https://www.redfin.com/FL/Pompano-Beach/1116-N-Ocean-Blvd-33062/unit-1606/home/187785604\n"
     ]
    }
   ],
   "source": [
    "print(df_filtered.loc[df_filtered['YEAR BUILT'].idxmax()]['URL'])"
   ]
  },
  {
   "cell_type": "markdown",
   "id": "1d1ba957",
   "metadata": {},
   "source": [
    "## Oldest"
   ]
  },
  {
   "cell_type": "code",
   "execution_count": 132,
   "id": "51fa78ff",
   "metadata": {},
   "outputs": [
    {
     "name": "stdout",
     "output_type": "stream",
     "text": [
      "https://www.redfin.com/FL/Hollywood/326-Wilson-St-33019/unit-204/home/41938321\n"
     ]
    }
   ],
   "source": [
    "print(df_filtered.loc[df_filtered['YEAR BUILT'].idxmin()]['URL'])"
   ]
  },
  {
   "cell_type": "code",
   "execution_count": 130,
   "id": "733fadf2",
   "metadata": {},
   "outputs": [],
   "source": [
    "df_filtered.at[836,'YEAR BUILT'] = (1967)"
   ]
  },
  {
   "cell_type": "code",
   "execution_count": 131,
   "id": "48fde941",
   "metadata": {},
   "outputs": [
    {
     "data": {
      "text/html": [
       "<div>\n",
       "<style scoped>\n",
       "    .dataframe tbody tr th:only-of-type {\n",
       "        vertical-align: middle;\n",
       "    }\n",
       "\n",
       "    .dataframe tbody tr th {\n",
       "        vertical-align: top;\n",
       "    }\n",
       "\n",
       "    .dataframe thead th {\n",
       "        text-align: right;\n",
       "    }\n",
       "</style>\n",
       "<table border=\"1\" class=\"dataframe\">\n",
       "  <thead>\n",
       "    <tr style=\"text-align: right;\">\n",
       "      <th></th>\n",
       "      <th>SOLD DATE</th>\n",
       "      <th>ADDRESS</th>\n",
       "      <th>CITY</th>\n",
       "      <th>PRICE</th>\n",
       "      <th>BEDS</th>\n",
       "      <th>BATHS</th>\n",
       "      <th>LOCATION</th>\n",
       "      <th>YEAR BUILT</th>\n",
       "      <th>DAYS ON MARKET</th>\n",
       "      <th>$/SQUARE FEET</th>\n",
       "      <th>URL</th>\n",
       "      <th>LATITUDE</th>\n",
       "      <th>LONGITUDE</th>\n",
       "      <th>PRICE_AS_CURRENCY</th>\n",
       "      <th>YEAR BUILT DISPLAY</th>\n",
       "      <th>PRICE_SQUARE_FEET_AS_CURRENCY</th>\n",
       "      <th>COLOR</th>\n",
       "      <th>RANK</th>\n",
       "      <th>FULL_ADDRESS</th>\n",
       "    </tr>\n",
       "  </thead>\n",
       "  <tbody>\n",
       "  </tbody>\n",
       "</table>\n",
       "</div>"
      ],
      "text/plain": [
       "Empty DataFrame\n",
       "Columns: [SOLD DATE, ADDRESS, CITY, PRICE, BEDS, BATHS, LOCATION, YEAR BUILT, DAYS ON MARKET, $/SQUARE FEET, URL, LATITUDE, LONGITUDE, PRICE_AS_CURRENCY, YEAR BUILT DISPLAY, PRICE_SQUARE_FEET_AS_CURRENCY, COLOR, RANK, FULL_ADDRESS]\n",
       "Index: []"
      ]
     },
     "execution_count": 131,
     "metadata": {},
     "output_type": "execute_result"
    }
   ],
   "source": [
    "df_filtered[df_filtered['YEAR BUILT'] == 1867]"
   ]
  },
  {
   "cell_type": "markdown",
   "id": "6b274da8",
   "metadata": {},
   "source": [
    "## Time on Market Calculator"
   ]
  },
  {
   "cell_type": "code",
   "execution_count": 123,
   "id": "0d14e001",
   "metadata": {},
   "outputs": [
    {
     "name": "stdout",
     "output_type": "stream",
     "text": [
      "31\n"
     ]
    }
   ],
   "source": [
    "from datetime import datetime, timedelta\n",
    "\n",
    "################ YEAR, MONTH, DAY #######################\n",
    "\n",
    "date1 = datetime(2024, 3, 5) ## List (Earlier) date\n",
    "date2 = datetime(2024, 4, 5) ## Close (Later) date\n",
    "\n",
    "delta = date2 - date1\n",
    "num_days = delta.days\n",
    "\n",
    "print(num_days)"
   ]
  },
  {
   "cell_type": "markdown",
   "id": "cced793f",
   "metadata": {},
   "source": [
    "## Access second highest (or whatever is needed)"
   ]
  },
  {
   "cell_type": "code",
   "execution_count": 58,
   "id": "016dcd2c",
   "metadata": {},
   "outputs": [],
   "source": [
    "# ### Second highest ###\n",
    "# # Sort the DataFrame by '$/SQUARE FEET' in descending order\n",
    "# second_highest = df_filtered.sort_values(by='$/SQUARE FEET', ascending=False)\n",
    "\n",
    "# # Get the URL of the entry with the second highest '$/SQUARE FEET' value\n",
    "# second_highest_url = second_highest.iloc[1]['URL']  # `.iloc[1]` accesses the second row\n",
    "\n",
    "# print(second_highest_url)"
   ]
  }
 ],
 "metadata": {
  "kernelspec": {
   "display_name": "Python 3 (ipykernel)",
   "language": "python",
   "name": "python3"
  },
  "language_info": {
   "codemirror_mode": {
    "name": "ipython",
    "version": 3
   },
   "file_extension": ".py",
   "mimetype": "text/x-python",
   "name": "python",
   "nbconvert_exporter": "python",
   "pygments_lexer": "ipython3",
   "version": "3.9.12"
  }
 },
 "nbformat": 4,
 "nbformat_minor": 5
}
