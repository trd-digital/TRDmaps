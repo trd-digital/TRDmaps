{
 "cells": [
  {
   "cell_type": "markdown",
   "id": "6db8ffe6",
   "metadata": {},
   "source": [
    "## Sources:\n",
    "\n",
    "Zip code link: https://gis-mdc.opendata.arcgis.com/datasets/fee863cb3da0417fa8b5aaf6b671f8a7/explore"
   ]
  },
  {
   "cell_type": "markdown",
   "id": "441110bc",
   "metadata": {},
   "source": [
    "## Imports"
   ]
  },
  {
   "cell_type": "code",
   "execution_count": 17,
   "id": "3c9ea96e",
   "metadata": {},
   "outputs": [],
   "source": [
    "import pandas as pd\n",
    "import geopandas as gpd\n",
    "import altair as alt\n",
    "import json"
   ]
  },
  {
   "cell_type": "markdown",
   "id": "e5836004",
   "metadata": {},
   "source": [
    "## Data read-in"
   ]
  },
  {
   "cell_type": "code",
   "execution_count": 47,
   "id": "b864b2ef",
   "metadata": {},
   "outputs": [],
   "source": [
    "df = pd.read_csv('CoreLogicData - HPI Gain by Zip Code in Miami Dade, FL.csv')\n",
    "\n",
    "gdf = gpd.read_file('Miami_Dade_Zip_Code.geojson', geometry='geometry')"
   ]
  },
  {
   "cell_type": "code",
   "execution_count": 49,
   "id": "bfdcd5b9",
   "metadata": {},
   "outputs": [],
   "source": [
    "# Now, you can check for valid geometries\n",
    "gdf_clean = gdf[gdf.geometry.notnull()]"
   ]
  },
  {
   "cell_type": "code",
   "execution_count": 52,
   "id": "d6436e69",
   "metadata": {},
   "outputs": [],
   "source": [
    "# Note: gpd.GeoDataFrame does have the 'is_valid' attribute, but it applies to the 'geometry' Series\n",
    "gdf_valid = gdf_clean[gdf_clean.geometry.is_valid]"
   ]
  },
  {
   "cell_type": "markdown",
   "id": "d24293d9",
   "metadata": {},
   "source": [
    "## Data Prepare"
   ]
  },
  {
   "cell_type": "code",
   "execution_count": 54,
   "id": "7458b12c",
   "metadata": {},
   "outputs": [],
   "source": [
    "df['5 Year HPI Change'] = df['5 Year HPI Change'].str.rstrip('%').astype(float) / 100.0"
   ]
  },
  {
   "cell_type": "code",
   "execution_count": 55,
   "id": "b5bf0134",
   "metadata": {},
   "outputs": [],
   "source": [
    "df = df.rename(columns={'Zip Code':'zip_code','5 Year HPI Change':'percentage'})"
   ]
  },
  {
   "cell_type": "code",
   "execution_count": 61,
   "id": "436bd28b",
   "metadata": {
    "scrolled": false
   },
   "outputs": [
    {
     "data": {
      "text/plain": [
       "21"
      ]
     },
     "execution_count": 61,
     "metadata": {},
     "output_type": "execute_result"
    }
   ],
   "source": [
    "merged_df = pd.merge(df, gdf_valid, left_on='zip_code',right_on='ZIP')\n",
    "len(merged_df)"
   ]
  },
  {
   "cell_type": "code",
   "execution_count": 62,
   "id": "1b23e7c1",
   "metadata": {},
   "outputs": [
    {
     "data": {
      "text/plain": [
       "21"
      ]
     },
     "execution_count": 62,
     "metadata": {},
     "output_type": "execute_result"
    }
   ],
   "source": [
    "gdf_clean = merged_df[merged_df.geometry.notnull()]\n",
    "len(gdf_clean)"
   ]
  },
  {
   "cell_type": "code",
   "execution_count": 63,
   "id": "3d440b4b",
   "metadata": {},
   "outputs": [
    {
     "data": {
      "text/plain": [
       "0     False\n",
       "1     False\n",
       "2     False\n",
       "3     False\n",
       "4     False\n",
       "5     False\n",
       "6     False\n",
       "7     False\n",
       "8     False\n",
       "9     False\n",
       "10    False\n",
       "11    False\n",
       "12    False\n",
       "13    False\n",
       "14    False\n",
       "15    False\n",
       "16    False\n",
       "17    False\n",
       "18    False\n",
       "19    False\n",
       "20    False\n",
       "Name: geometry, dtype: bool"
      ]
     },
     "execution_count": 63,
     "metadata": {},
     "output_type": "execute_result"
    }
   ],
   "source": [
    "merged_df['geometry'].isna()"
   ]
  },
  {
   "cell_type": "code",
   "execution_count": 65,
   "id": "c0bb35a1",
   "metadata": {},
   "outputs": [
    {
     "ename": "ValueError",
     "evalue": "Cannot render objects with any missing geometries:     zip_code  2018\\n December  2019\\n December  2020\\n December  \\\n0      33125         226.0082         236.5720         257.7418   \n1      33126         287.1707         295.0787         310.6945   \n2      33127         259.9927         269.5568         334.2315   \n3      33129         228.4923         234.9700         248.5591   \n4      33130         222.4877         237.1577         245.3386   \n5      33131         226.2215         228.0842         229.0576   \n6      33132         220.1432         219.7303         228.6706   \n7      33133         236.3068         248.5824         269.8200   \n8      33134         250.3498         258.1528         276.0575   \n9      33137         221.1702         229.3062         242.4450   \n10     33138         334.8305         359.8006         381.6110   \n11     33139         285.5352         295.7397         317.1138   \n12     33140         286.2844         294.4096         307.8340   \n13     33142         188.4615         204.5315         215.6124   \n14     33144         312.2843         335.4130         369.5780   \n15     33144         312.2843         335.4130         369.5780   \n16     33145         291.4559         298.8248         328.4327   \n17     33146         220.1471         222.3771         242.4531   \n18     33147         260.3905         285.4651         290.3790   \n19     33149         284.7430         297.8127         298.1419   \n20     33150         240.1464         234.8382         251.5903   \n\n    2021\\n December  2022\\n December  2023\\n December  percentage  OBJECTID  \\\n0          327.3887         390.6180         432.5306      0.9138        44   \n1          377.8185         438.7499         520.8845      0.8138        30   \n2          390.9297         492.5777         528.2867      1.0319        50   \n3          302.5377         358.1456         384.7253      0.6838        98   \n4          288.8584         337.2503         356.6797      0.6031        88   \n5          271.6827         327.9873         352.4446      0.5580        42   \n6          273.6292         326.9874         338.2947      0.5367        89   \n7          328.6261         385.4321         415.4040      0.7579        19   \n8          332.4318         405.7391         449.0777      0.7938        57   \n9          269.1032         321.7844         353.4176      0.5979         9   \n10         454.0998         544.7036         589.4713      0.7605        45   \n11         368.1826         422.0776         484.6909      0.6975        16   \n12         383.5537         409.0446         464.1373      0.6212         3   \n13         252.0419         297.3591         327.0521      0.7354        39   \n14         440.9549         522.0046         609.6947      0.9524        10   \n15         440.9549         522.0046         609.6947      0.9524       102   \n16         375.6147         449.0150         509.1868      0.7470        52   \n17         307.1138         356.7245         356.4879      0.6193        22   \n18         357.8406         431.7254         498.2301      0.9134        87   \n19         355.7222         421.1058         475.8663      0.6712        21   \n20         298.2181         357.5571         401.2134      0.6707        67   \n\n    PZIPCODEID    ZIP ZIPCODE                              GlobalID  \\\n0        33125  33125   33125  14d10859-7fbd-4f46-bafc-421219b47c94   \n1        33126  33126   33126  63878f9a-0b30-4b53-99a4-91eb8c7fe2e0   \n2        33127  33127   33127  661d89df-fd9d-4e2b-bd01-b41ae32ada7d   \n3        33129  33129   33129  c5f6de14-5113-4800-b8d4-b9cc18530f20   \n4        33130  33130   33130  129ad6dd-27f8-4270-bae7-e651943098f8   \n5        33131  33131   33131  5ac53bac-f163-4f14-a62e-8dfc796e089e   \n6        33132  33132   33132  be893ac2-51c7-4640-99a3-bd245a5ec9dc   \n7        33133  33133   33133  28eedeef-6887-4fb6-8c2b-a908a84e7753   \n8        33134  33134   33134  28d5a66e-c5e9-47da-b512-fd6d4e501494   \n9        33137  33137   33137  d6715002-27b9-40e9-87ec-cecf1ce1910a   \n10       33138  33138   33138  ef0fce37-f830-4691-9824-0157d32ad081   \n11       33139  33139   33139  c99abb9a-8eb3-46f0-a04c-17676ca145aa   \n12       33140  33140   33140  b427e0e2-433a-419e-9b0d-ab2241669d10   \n13       33142  33142   33142  c2732b46-837c-4737-9133-8fb3aa506cda   \n14       33144  33144   33144  ffda0456-9854-4f81-a929-86a6a9e61eee   \n15       33144  33144   33144  d77b57ff-a3d7-4b1a-b06b-7a17aa687441   \n16       33145  33145   33145  1e889a47-5fcd-4da5-b8da-4eb6b2c6a95d   \n17       33146  33146   33146  abaabe3e-28a4-4b2a-ab2d-4fde4bb673d0   \n18       33147  33147   33147  85995b58-cfe6-448e-974d-05bc265c3a4d   \n19       33149  33149   33149  57e86c78-e6e1-4f58-bb8a-2f727fd60f91   \n20       33150  33150   33150  0a82a712-8f56-4a50-af49-fb4f3193ceda   \n\n     Shape__Area  Shape__Length  \\\n0   1.264036e+07   20146.753256   \n1   2.109246e+07   31832.199724   \n2   1.092041e+07   19427.248668   \n3   5.884517e+06   16371.689289   \n4   3.576295e+06   11841.445900   \n5   6.893523e+06   15224.122777   \n6   9.596015e+06   19302.690918   \n7   1.443078e+07   24978.261940   \n8   1.660791e+07   20239.121791   \n9   1.068307e+07   16890.605772   \n10  1.760453e+07   21951.085795   \n11  1.633561e+07   19983.213932   \n12  2.965661e+07   24685.577655   \n13  2.297934e+07   26387.544277   \n14  1.691874e+04     622.321092   \n15  1.030449e+07   21895.754928   \n16  8.099015e+06   17183.449562   \n17  1.047841e+07   19558.934739   \n18  2.361342e+07   22138.528344   \n19  2.402013e+07   36099.525473   \n20  1.155612e+07   20719.796692   \n\n                                             geometry  \n0   POLYGON ((-80.21714 25.79431, -80.21719 25.793...  \n1   POLYGON ((-80.29641 25.79479, -80.27921 25.785...  \n2   POLYGON ((-80.19634 25.83213, -80.19650 25.831...  \n3   POLYGON ((-80.20238 25.76356, -80.20235 25.763...  \n4   POLYGON ((-80.19472 25.77505, -80.19470 25.774...  \n5   POLYGON ((-80.19038 25.77473, -80.19037 25.774...  \n6   POLYGON ((-80.18724 25.79618, -80.18719 25.795...  \n7   POLYGON ((-80.21162 25.74669, -80.21367 25.744...  \n8   MULTIPOLYGON (((-80.27076 25.77270, -80.27074 ...  \n9   POLYGON ((-80.18380 25.83329, -80.18378 25.832...  \n10  POLYGON ((-80.16896 25.87473, -80.16893 25.874...  \n11  POLYGON ((-80.13203 25.80012, -80.13117 25.799...  \n12  POLYGON ((-80.12094 25.84448, -80.12064 25.844...  \n13  POLYGON ((-80.22448 25.83168, -80.22448 25.831...  \n14  POLYGON ((-80.33919 25.76174, -80.33914 25.761...  \n15  POLYGON ((-80.30848 25.77700, -80.30840 25.772...  \n16  POLYGON ((-80.21830 25.76138, -80.21828 25.761...  \n17  POLYGON ((-80.25429 25.73530, -80.25430 25.735...  \n18  POLYGON ((-80.22011 25.87253, -80.22009 25.870...  \n19  POLYGON ((-80.14855 25.72724, -80.14783 25.726...  \n20  POLYGON ((-80.20201 25.87312, -80.20199 25.872...  ",
     "output_type": "error",
     "traceback": [
      "\u001b[0;31m---------------------------------------------------------------------------\u001b[0m",
      "\u001b[0;31mValueError\u001b[0m                                Traceback (most recent call last)",
      "Cell \u001b[0;32mIn[65], line 21\u001b[0m\n\u001b[1;32m     13\u001b[0m     \u001b[38;5;28;01mreturn\u001b[39;00m {\n\u001b[1;32m     14\u001b[0m         \u001b[38;5;124m'\u001b[39m\u001b[38;5;124mfillColor\u001b[39m\u001b[38;5;124m'\u001b[39m: \u001b[38;5;124m'\u001b[39m\u001b[38;5;124m#green\u001b[39m\u001b[38;5;124m'\u001b[39m \u001b[38;5;28;01mif\u001b[39;00m feature[\u001b[38;5;124m'\u001b[39m\u001b[38;5;124mproperties\u001b[39m\u001b[38;5;124m'\u001b[39m][\u001b[38;5;124m'\u001b[39m\u001b[38;5;124mpercentage\u001b[39m\u001b[38;5;124m'\u001b[39m] \u001b[38;5;241m>\u001b[39m \u001b[38;5;241m50\u001b[39m \u001b[38;5;28;01melse\u001b[39;00m \u001b[38;5;124m'\u001b[39m\u001b[38;5;124m#red\u001b[39m\u001b[38;5;124m'\u001b[39m,\n\u001b[1;32m     15\u001b[0m         \u001b[38;5;124m'\u001b[39m\u001b[38;5;124mcolor\u001b[39m\u001b[38;5;124m'\u001b[39m: \u001b[38;5;124m'\u001b[39m\u001b[38;5;124mblack\u001b[39m\u001b[38;5;124m'\u001b[39m,\n\u001b[1;32m     16\u001b[0m         \u001b[38;5;124m'\u001b[39m\u001b[38;5;124mweight\u001b[39m\u001b[38;5;124m'\u001b[39m: \u001b[38;5;241m1.5\u001b[39m,\n\u001b[1;32m     17\u001b[0m         \u001b[38;5;124m'\u001b[39m\u001b[38;5;124mfillOpacity\u001b[39m\u001b[38;5;124m'\u001b[39m: \u001b[38;5;241m0.5\u001b[39m\n\u001b[1;32m     18\u001b[0m     }\n\u001b[1;32m     20\u001b[0m \u001b[38;5;66;03m# Add the GeoDataFrame as a GeoJson layer\u001b[39;00m\n\u001b[0;32m---> 21\u001b[0m \u001b[43mfolium\u001b[49m\u001b[38;5;241;43m.\u001b[39;49m\u001b[43mGeoJson\u001b[49m\u001b[43m(\u001b[49m\n\u001b[1;32m     22\u001b[0m \u001b[43m    \u001b[49m\u001b[43mgdf_clean\u001b[49m\u001b[43m,\u001b[49m\n\u001b[1;32m     23\u001b[0m \u001b[43m    \u001b[49m\u001b[43mtooltip\u001b[49m\u001b[38;5;241;43m=\u001b[39;49m\u001b[43mfolium\u001b[49m\u001b[38;5;241;43m.\u001b[39;49m\u001b[43mGeoJsonTooltip\u001b[49m\u001b[43m(\u001b[49m\u001b[43mfields\u001b[49m\u001b[38;5;241;43m=\u001b[39;49m\u001b[43m[\u001b[49m\u001b[38;5;124;43m'\u001b[39;49m\u001b[38;5;124;43mZIP\u001b[39;49m\u001b[38;5;124;43m'\u001b[39;49m\u001b[43m,\u001b[49m\u001b[43m \u001b[49m\u001b[38;5;124;43m'\u001b[39;49m\u001b[38;5;124;43mpercentage\u001b[39;49m\u001b[38;5;124;43m'\u001b[39;49m\u001b[43m]\u001b[49m\u001b[43m,\u001b[49m\n\u001b[1;32m     24\u001b[0m \u001b[43m                                  \u001b[49m\u001b[43maliases\u001b[49m\u001b[38;5;241;43m=\u001b[39;49m\u001b[43m[\u001b[49m\u001b[38;5;124;43m'\u001b[39;49m\u001b[38;5;124;43mZIP Code:\u001b[39;49m\u001b[38;5;124;43m'\u001b[39;49m\u001b[43m,\u001b[49m\u001b[43m \u001b[49m\u001b[38;5;124;43m'\u001b[39;49m\u001b[38;5;124;43mPercentage:\u001b[39;49m\u001b[38;5;124;43m'\u001b[39;49m\u001b[43m]\u001b[49m\u001b[43m,\u001b[49m\n\u001b[1;32m     25\u001b[0m \u001b[43m                                  \u001b[49m\u001b[43mlocalize\u001b[49m\u001b[38;5;241;43m=\u001b[39;49m\u001b[38;5;28;43;01mTrue\u001b[39;49;00m\u001b[43m)\u001b[49m\n\u001b[1;32m     26\u001b[0m \u001b[43m)\u001b[49m\u001b[38;5;241m.\u001b[39madd_to(m)\n\u001b[1;32m     28\u001b[0m \u001b[38;5;66;03m# Add a LayerControl and display\u001b[39;00m\n\u001b[1;32m     29\u001b[0m folium\u001b[38;5;241m.\u001b[39mLayerControl()\u001b[38;5;241m.\u001b[39madd_to(m)\n",
      "File \u001b[0;32m~/opt/anaconda3/lib/python3.9/site-packages/folium/features.py:497\u001b[0m, in \u001b[0;36mGeoJson.__init__\u001b[0;34m(self, data, style_function, highlight_function, name, overlay, control, show, smooth_factor, tooltip, embed, popup, zoom_on_click, marker)\u001b[0m\n\u001b[1;32m    494\u001b[0m         \u001b[38;5;28;01mraise\u001b[39;00m \u001b[38;5;167;01mTypeError\u001b[39;00m(\u001b[38;5;124m\"\u001b[39m\u001b[38;5;124mOnly Marker, Circle, and CircleMarker are supported as GeoJson marker types.\u001b[39m\u001b[38;5;124m\"\u001b[39m)\n\u001b[1;32m    495\u001b[0m \u001b[38;5;28mself\u001b[39m\u001b[38;5;241m.\u001b[39mmarker \u001b[38;5;241m=\u001b[39m marker\n\u001b[0;32m--> 497\u001b[0m \u001b[38;5;28mself\u001b[39m\u001b[38;5;241m.\u001b[39mdata \u001b[38;5;241m=\u001b[39m \u001b[38;5;28;43mself\u001b[39;49m\u001b[38;5;241;43m.\u001b[39;49m\u001b[43mprocess_data\u001b[49m\u001b[43m(\u001b[49m\u001b[43mdata\u001b[49m\u001b[43m)\u001b[49m\n\u001b[1;32m    499\u001b[0m \u001b[38;5;28;01mif\u001b[39;00m \u001b[38;5;28mself\u001b[39m\u001b[38;5;241m.\u001b[39mstyle \u001b[38;5;129;01mor\u001b[39;00m \u001b[38;5;28mself\u001b[39m\u001b[38;5;241m.\u001b[39mhighlight:\n\u001b[1;32m    500\u001b[0m     \u001b[38;5;28mself\u001b[39m\u001b[38;5;241m.\u001b[39mconvert_to_feature_collection()\n",
      "File \u001b[0;32m~/opt/anaconda3/lib/python3.9/site-packages/folium/features.py:542\u001b[0m, in \u001b[0;36mGeoJson.process_data\u001b[0;34m(self, data)\u001b[0m\n\u001b[1;32m    540\u001b[0m     \u001b[38;5;28;01mreturn\u001b[39;00m json\u001b[38;5;241m.\u001b[39mloads(json\u001b[38;5;241m.\u001b[39mdumps(data\u001b[38;5;241m.\u001b[39m__geo_interface__))\n\u001b[1;32m    541\u001b[0m \u001b[38;5;28;01melse\u001b[39;00m:\n\u001b[0;32m--> 542\u001b[0m     \u001b[38;5;28;01mraise\u001b[39;00m \u001b[38;5;167;01mValueError\u001b[39;00m(\u001b[38;5;124m'\u001b[39m\u001b[38;5;124mCannot render objects with any missing geometries\u001b[39m\u001b[38;5;124m'\u001b[39m\n\u001b[1;32m    543\u001b[0m                      \u001b[38;5;124m'\u001b[39m\u001b[38;5;124m: \u001b[39m\u001b[38;5;132;01m{!r}\u001b[39;00m\u001b[38;5;124m'\u001b[39m\u001b[38;5;241m.\u001b[39mformat(data))\n",
      "\u001b[0;31mValueError\u001b[0m: Cannot render objects with any missing geometries:     zip_code  2018\\n December  2019\\n December  2020\\n December  \\\n0      33125         226.0082         236.5720         257.7418   \n1      33126         287.1707         295.0787         310.6945   \n2      33127         259.9927         269.5568         334.2315   \n3      33129         228.4923         234.9700         248.5591   \n4      33130         222.4877         237.1577         245.3386   \n5      33131         226.2215         228.0842         229.0576   \n6      33132         220.1432         219.7303         228.6706   \n7      33133         236.3068         248.5824         269.8200   \n8      33134         250.3498         258.1528         276.0575   \n9      33137         221.1702         229.3062         242.4450   \n10     33138         334.8305         359.8006         381.6110   \n11     33139         285.5352         295.7397         317.1138   \n12     33140         286.2844         294.4096         307.8340   \n13     33142         188.4615         204.5315         215.6124   \n14     33144         312.2843         335.4130         369.5780   \n15     33144         312.2843         335.4130         369.5780   \n16     33145         291.4559         298.8248         328.4327   \n17     33146         220.1471         222.3771         242.4531   \n18     33147         260.3905         285.4651         290.3790   \n19     33149         284.7430         297.8127         298.1419   \n20     33150         240.1464         234.8382         251.5903   \n\n    2021\\n December  2022\\n December  2023\\n December  percentage  OBJECTID  \\\n0          327.3887         390.6180         432.5306      0.9138        44   \n1          377.8185         438.7499         520.8845      0.8138        30   \n2          390.9297         492.5777         528.2867      1.0319        50   \n3          302.5377         358.1456         384.7253      0.6838        98   \n4          288.8584         337.2503         356.6797      0.6031        88   \n5          271.6827         327.9873         352.4446      0.5580        42   \n6          273.6292         326.9874         338.2947      0.5367        89   \n7          328.6261         385.4321         415.4040      0.7579        19   \n8          332.4318         405.7391         449.0777      0.7938        57   \n9          269.1032         321.7844         353.4176      0.5979         9   \n10         454.0998         544.7036         589.4713      0.7605        45   \n11         368.1826         422.0776         484.6909      0.6975        16   \n12         383.5537         409.0446         464.1373      0.6212         3   \n13         252.0419         297.3591         327.0521      0.7354        39   \n14         440.9549         522.0046         609.6947      0.9524        10   \n15         440.9549         522.0046         609.6947      0.9524       102   \n16         375.6147         449.0150         509.1868      0.7470        52   \n17         307.1138         356.7245         356.4879      0.6193        22   \n18         357.8406         431.7254         498.2301      0.9134        87   \n19         355.7222         421.1058         475.8663      0.6712        21   \n20         298.2181         357.5571         401.2134      0.6707        67   \n\n    PZIPCODEID    ZIP ZIPCODE                              GlobalID  \\\n0        33125  33125   33125  14d10859-7fbd-4f46-bafc-421219b47c94   \n1        33126  33126   33126  63878f9a-0b30-4b53-99a4-91eb8c7fe2e0   \n2        33127  33127   33127  661d89df-fd9d-4e2b-bd01-b41ae32ada7d   \n3        33129  33129   33129  c5f6de14-5113-4800-b8d4-b9cc18530f20   \n4        33130  33130   33130  129ad6dd-27f8-4270-bae7-e651943098f8   \n5        33131  33131   33131  5ac53bac-f163-4f14-a62e-8dfc796e089e   \n6        33132  33132   33132  be893ac2-51c7-4640-99a3-bd245a5ec9dc   \n7        33133  33133   33133  28eedeef-6887-4fb6-8c2b-a908a84e7753   \n8        33134  33134   33134  28d5a66e-c5e9-47da-b512-fd6d4e501494   \n9        33137  33137   33137  d6715002-27b9-40e9-87ec-cecf1ce1910a   \n10       33138  33138   33138  ef0fce37-f830-4691-9824-0157d32ad081   \n11       33139  33139   33139  c99abb9a-8eb3-46f0-a04c-17676ca145aa   \n12       33140  33140   33140  b427e0e2-433a-419e-9b0d-ab2241669d10   \n13       33142  33142   33142  c2732b46-837c-4737-9133-8fb3aa506cda   \n14       33144  33144   33144  ffda0456-9854-4f81-a929-86a6a9e61eee   \n15       33144  33144   33144  d77b57ff-a3d7-4b1a-b06b-7a17aa687441   \n16       33145  33145   33145  1e889a47-5fcd-4da5-b8da-4eb6b2c6a95d   \n17       33146  33146   33146  abaabe3e-28a4-4b2a-ab2d-4fde4bb673d0   \n18       33147  33147   33147  85995b58-cfe6-448e-974d-05bc265c3a4d   \n19       33149  33149   33149  57e86c78-e6e1-4f58-bb8a-2f727fd60f91   \n20       33150  33150   33150  0a82a712-8f56-4a50-af49-fb4f3193ceda   \n\n     Shape__Area  Shape__Length  \\\n0   1.264036e+07   20146.753256   \n1   2.109246e+07   31832.199724   \n2   1.092041e+07   19427.248668   \n3   5.884517e+06   16371.689289   \n4   3.576295e+06   11841.445900   \n5   6.893523e+06   15224.122777   \n6   9.596015e+06   19302.690918   \n7   1.443078e+07   24978.261940   \n8   1.660791e+07   20239.121791   \n9   1.068307e+07   16890.605772   \n10  1.760453e+07   21951.085795   \n11  1.633561e+07   19983.213932   \n12  2.965661e+07   24685.577655   \n13  2.297934e+07   26387.544277   \n14  1.691874e+04     622.321092   \n15  1.030449e+07   21895.754928   \n16  8.099015e+06   17183.449562   \n17  1.047841e+07   19558.934739   \n18  2.361342e+07   22138.528344   \n19  2.402013e+07   36099.525473   \n20  1.155612e+07   20719.796692   \n\n                                             geometry  \n0   POLYGON ((-80.21714 25.79431, -80.21719 25.793...  \n1   POLYGON ((-80.29641 25.79479, -80.27921 25.785...  \n2   POLYGON ((-80.19634 25.83213, -80.19650 25.831...  \n3   POLYGON ((-80.20238 25.76356, -80.20235 25.763...  \n4   POLYGON ((-80.19472 25.77505, -80.19470 25.774...  \n5   POLYGON ((-80.19038 25.77473, -80.19037 25.774...  \n6   POLYGON ((-80.18724 25.79618, -80.18719 25.795...  \n7   POLYGON ((-80.21162 25.74669, -80.21367 25.744...  \n8   MULTIPOLYGON (((-80.27076 25.77270, -80.27074 ...  \n9   POLYGON ((-80.18380 25.83329, -80.18378 25.832...  \n10  POLYGON ((-80.16896 25.87473, -80.16893 25.874...  \n11  POLYGON ((-80.13203 25.80012, -80.13117 25.799...  \n12  POLYGON ((-80.12094 25.84448, -80.12064 25.844...  \n13  POLYGON ((-80.22448 25.83168, -80.22448 25.831...  \n14  POLYGON ((-80.33919 25.76174, -80.33914 25.761...  \n15  POLYGON ((-80.30848 25.77700, -80.30840 25.772...  \n16  POLYGON ((-80.21830 25.76138, -80.21828 25.761...  \n17  POLYGON ((-80.25429 25.73530, -80.25430 25.735...  \n18  POLYGON ((-80.22011 25.87253, -80.22009 25.870...  \n19  POLYGON ((-80.14855 25.72724, -80.14783 25.726...  \n20  POLYGON ((-80.20201 25.87312, -80.20199 25.872...  "
     ]
    }
   ],
   "source": [
    "# Assuming gdf is your GeoDataFrame\n",
    "# Make sure your GeoDataFrame has a 'percentage' column and a 'ZIP' column\n",
    "\n",
    "# Center coordinates for Miami-Dade County\n",
    "latitude = 25.774265\n",
    "longitude = -80.193658\n",
    "\n",
    "# Initialize Folium Map at a central point\n",
    "m = folium.Map(location=[latitude, longitude], zoom_start=11, tiles='cartodbpositron')\n",
    "\n",
    "# Function to assign color based on 'percentage'\n",
    "def style_function(feature):\n",
    "    return {\n",
    "        'fillColor': '#green' if feature['properties']['percentage'] > 50 else '#red',\n",
    "        'color': 'black',\n",
    "        'weight': 1.5,\n",
    "        'fillOpacity': 0.5\n",
    "    }\n",
    "\n",
    "# Add the GeoDataFrame as a GeoJson layer\n",
    "folium.GeoJson(\n",
    "    gdf_clean,\n",
    "    tooltip=folium.GeoJsonTooltip(fields=['ZIP', 'percentage'],\n",
    "                                  aliases=['ZIP Code:', 'Percentage:'],\n",
    "                                  localize=True)\n",
    ").add_to(m)\n",
    "\n",
    "# Add a LayerControl and display\n",
    "folium.LayerControl().add_to(m)\n",
    "\n",
    "# Save or display map\n",
    "# m.save('choropleth_map.html')  # Saves the map to an HTML file\n",
    "# or display it directly in a Jupyter notebook with just 'm'\n",
    "m"
   ]
  }
 ],
 "metadata": {
  "kernelspec": {
   "display_name": "Python 3 (ipykernel)",
   "language": "python",
   "name": "python3"
  },
  "language_info": {
   "codemirror_mode": {
    "name": "ipython",
    "version": 3
   },
   "file_extension": ".py",
   "mimetype": "text/x-python",
   "name": "python",
   "nbconvert_exporter": "python",
   "pygments_lexer": "ipython3",
   "version": "3.9.12"
  }
 },
 "nbformat": 4,
 "nbformat_minor": 5
}
