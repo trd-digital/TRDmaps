{
 "cells": [
  {
   "cell_type": "markdown",
   "metadata": {},
   "source": [
    "## Imports"
   ]
  },
  {
   "cell_type": "code",
   "execution_count": 8,
   "metadata": {},
   "outputs": [],
   "source": [
    "import googlemaps\n",
    "import pandas as pd\n",
    "import numpy as np\n",
    "import re\n",
    "import os\n",
    "import geopandas as gpd\n",
    "import folium\n",
    "import tabula"
   ]
  },
  {
   "cell_type": "markdown",
   "metadata": {},
   "source": [
    "## Read-in"
   ]
  },
  {
   "cell_type": "code",
   "execution_count": 9,
   "metadata": {},
   "outputs": [],
   "source": [
    "# Gotta figure out how to get rid of the java error.\n",
    "# SO: https://stackoverflow.com/questions/54817211/java-command-is-not-found-from-this-python-process-please-ensure-java-is-inst\n",
    "\n",
    "dsf = tabula.read_pdf('condo.pdf', pages='all')"
   ]
  },
  {
   "cell_type": "markdown",
   "metadata": {},
   "source": [
    "## Clean Data"
   ]
  },
  {
   "cell_type": "code",
   "execution_count": 10,
   "metadata": {},
   "outputs": [],
   "source": [
    "df = dsf[0]\n",
    "df.columns = df.iloc[0]\n",
    "df = df[1:]\n",
    "df = df.drop(columns=df.columns[0])\n",
    "df = df.replace(np.nan, 'Not Available', regex=True)\n",
    "df = df.rename(columns={'Building / Address / City': 'building_address_city','Days on\\rMarket':'days_on_market',\\\n",
    "                        'Price /\\rSq. Ft.':'price_per_sqft'})\n",
    "df['building_address_city'] = df['building_address_city'].str.replace('^0', '', regex=True)\n",
    "df['geo_address'] = df['building_address_city']\n",
    "df['geo_address'] = df['geo_address'].map(lambda x: re.sub(r'\\r', ' ', x))\n",
    "df = df.replace('\\n',' ',regex=True)\n",
    "pattern = r'^(?P<building_name>[\\d\\s]*[A-Za-z\\s]+)\\s(?P<address>.+)\\s(?P<city>[A-Za-z\\s]+)$'\n",
    "df2 = df['geo_address']\n",
    "df2 = df2.to_frame()\n",
    "df2[['building_name', 'address', 'city']] = df2['geo_address'].str.extract(pattern, expand=True)"
   ]
  },
  {
   "cell_type": "markdown",
   "metadata": {},
   "source": [
    "Review this later (it's about how to properly merge DFs): https://pandas.pydata.org/pandas-docs/stable/user_guide/merging.html"
   ]
  },
  {
   "cell_type": "markdown",
   "metadata": {},
   "source": [
    "## Geocode"
   ]
  },
  {
   "cell_type": "code",
   "execution_count": 11,
   "metadata": {},
   "outputs": [],
   "source": [
    "result = pd.merge(df,df2,left_index=True, right_index=True)\n",
    "df = result\n",
    "df = df.drop(columns='city')"
   ]
  },
  {
   "cell_type": "code",
   "execution_count": 12,
   "metadata": {},
   "outputs": [],
   "source": [
    "%store -r google_maps_API_Key\n",
    "gmaps_key = googlemaps.Client(key=google_maps_API_Key)"
   ]
  },
  {
   "cell_type": "code",
   "execution_count": 13,
   "metadata": {},
   "outputs": [],
   "source": [
    "def geocode(add):\n",
    "    g = gmaps_key.geocode(add)\n",
    "    lat = g[0][\"geometry\"][\"location\"][\"lat\"]\n",
    "    lng = g[0][\"geometry\"][\"location\"][\"lng\"]\n",
    "    return (lat, lng)\n",
    "\n",
    "df['geocoded'] = df['geo_address_x'].apply(geocode)"
   ]
  },
  {
   "cell_type": "code",
   "execution_count": 14,
   "metadata": {},
   "outputs": [],
   "source": [
    "df['geocoded'] = df['geocoded'].astype(str)\n",
    "df[['lat', 'lon']] = df['geocoded'].str.strip('()').str.split(', ', expand=True)\n",
    "df['lat'] = df['lat'].astype(float)\n",
    "df['lon'] = df['lon'].astype(float)"
   ]
  },
  {
   "cell_type": "markdown",
   "metadata": {},
   "source": [
    "Folium documentation link: https://python-visualization.github.io/folium/index.html\n",
    "\n",
    "Folium is the library that lets us use leaflet with Python, since it's meant to be used with JavaScript.\n",
    "\n",
    "For adding titles: https://stackoverflow.com/questions/61928013/adding-a-title-or-text-to-a-folium-map"
   ]
  },
  {
   "cell_type": "markdown",
   "metadata": {},
   "source": [
    "## Correction section"
   ]
  },
  {
   "cell_type": "code",
   "execution_count": 15,
   "metadata": {},
   "outputs": [],
   "source": [
    "# df.at[index#,'col_name']"
   ]
  },
  {
   "cell_type": "markdown",
   "metadata": {},
   "source": [
    "## Format Data"
   ]
  },
  {
   "cell_type": "code",
   "execution_count": 16,
   "metadata": {},
   "outputs": [],
   "source": [
    "### Insert NaNs if needed ###\n",
    "df = df.replace('N/A', np.nan)"
   ]
  },
  {
   "cell_type": "code",
   "execution_count": 17,
   "metadata": {},
   "outputs": [],
   "source": [
    "df['int_Sale_Price'] = df['Sale Price'].str.replace('$','',regex=False)"
   ]
  },
  {
   "cell_type": "code",
   "execution_count": 18,
   "metadata": {},
   "outputs": [],
   "source": [
    "df['int_Sale_Price'] = df['int_Sale_Price'].str.replace(',','',regex=False)"
   ]
  },
  {
   "cell_type": "code",
   "execution_count": 19,
   "metadata": {},
   "outputs": [],
   "source": [
    "df['int_Sale_Price'] = pd.to_numeric(df['int_Sale_Price'])"
   ]
  },
  {
   "cell_type": "code",
   "execution_count": 20,
   "metadata": {},
   "outputs": [],
   "source": [
    "df['price_per_sqft'] = df['price_per_sqft'].str.replace('$','',regex=False)\n",
    "df['price_per_sqft'] = df['price_per_sqft'].str.replace(',','',regex=False)\n",
    "df['price_per_sqft'] = pd.to_numeric(df['price_per_sqft'])\n",
    "\n",
    "df['days_on_market'] = pd.to_numeric(df['days_on_market'])"
   ]
  },
  {
   "cell_type": "markdown",
   "metadata": {},
   "source": [
    "## Color-code top sale"
   ]
  },
  {
   "cell_type": "code",
   "execution_count": 21,
   "metadata": {},
   "outputs": [],
   "source": [
    "### Insert RANK values ###\n",
    "df['RANK'] = range(1, len(df) + 1)\n",
    "# use numpy to assign values to the 'COLOR' column\n",
    "df['COLOR'] = np.where(df['RANK'] <= 1, 'orange', 'blue')"
   ]
  },
  {
   "cell_type": "markdown",
   "metadata": {},
   "source": [
    "## HTML Popup Formatter"
   ]
  },
  {
   "cell_type": "code",
   "execution_count": 22,
   "metadata": {},
   "outputs": [
    {
     "data": {
      "text/plain": [
       "Index(['building_address_city', 'Close Date', 'days_on_market', 'Sale Price',\n",
       "       'Sq. Ft.', 'price_per_sqft', 'Agent', 'Listing Broker', 'Buyer Agent',\n",
       "       'Buyer Broker', 'geo_address_x', 'geo_address_y', 'building_name',\n",
       "       'address', 'geocoded', 'lat', 'lon', 'int_Sale_Price', 'RANK', 'COLOR'],\n",
       "      dtype='object')"
      ]
     },
     "execution_count": 22,
     "metadata": {},
     "output_type": "execute_result"
    }
   ],
   "source": [
    "df.columns"
   ]
  },
  {
   "cell_type": "code",
   "execution_count": 23,
   "metadata": {},
   "outputs": [],
   "source": [
    "def popup_html(row):\n",
    "    building_name = row['building_name']\n",
    "    price = row['Sale Price']\n",
    "    days_on_market = row['days_on_market']\n",
    "    listing_agent = row['Agent']\n",
    "    buyers_agent = row['Buyer Agent']\n",
    "    psf = row['price_per_sqft']\n",
    "    address = row['address']\n",
    "    \n",
    "    html = '''<!DOCTYPE html>\n",
    "    <html>\n",
    "    <strong>Building Name: </strong>{}'''.format(building_name) + '''<br>\n",
    "    <strong>Sale Price: </strong>{}'''.format(price) + '''<br>\n",
    "    <strong>Days on Market: </strong>{}'''.format(days_on_market) + '''<br>\n",
    "    <strong>Listing Agent: </strong>{}'''.format(listing_agent) + '''<br>\n",
    "    <strong>Buyer's Agent: </strong>{}'''.format(buyers_agent) + '''<br>\n",
    "    <strong>Price sq ft: </strong>${}'''.format(psf) + '''<br>\n",
    "    <strong>Address: </strong>{}'''.format(address) + '''<br>\n",
    "    </html>\n",
    "    '''\n",
    "    return html"
   ]
  },
  {
   "cell_type": "code",
   "execution_count": 24,
   "metadata": {},
   "outputs": [
    {
     "data": {
      "text/html": [
       "<div style=\"width:100%;\"><div style=\"position:relative;width:100%;height:0;padding-bottom:60%;\"><span style=\"color:#565656\">Make this Notebook Trusted to load map: File -> Trust Notebook</span><iframe srcdoc=\"&lt;!DOCTYPE html&gt;\n",
       "&lt;head&gt;    \n",
       "    &lt;meta http-equiv=&quot;content-type&quot; content=&quot;text/html; charset=UTF-8&quot; /&gt;\n",
       "    \n",
       "        &lt;script&gt;\n",
       "            L_NO_TOUCH = false;\n",
       "            L_DISABLE_3D = false;\n",
       "        &lt;/script&gt;\n",
       "    \n",
       "    &lt;style&gt;html, body {width: 100%;height: 100%;margin: 0;padding: 0;}&lt;/style&gt;\n",
       "    &lt;style&gt;#map {position:absolute;top:0;bottom:0;right:0;left:0;}&lt;/style&gt;\n",
       "    &lt;script src=&quot;https://cdn.jsdelivr.net/npm/leaflet@1.6.0/dist/leaflet.js&quot;&gt;&lt;/script&gt;\n",
       "    &lt;script src=&quot;https://code.jquery.com/jquery-1.12.4.min.js&quot;&gt;&lt;/script&gt;\n",
       "    &lt;script src=&quot;https://maxcdn.bootstrapcdn.com/bootstrap/3.2.0/js/bootstrap.min.js&quot;&gt;&lt;/script&gt;\n",
       "    &lt;script src=&quot;https://cdnjs.cloudflare.com/ajax/libs/Leaflet.awesome-markers/2.0.2/leaflet.awesome-markers.js&quot;&gt;&lt;/script&gt;\n",
       "    &lt;link rel=&quot;stylesheet&quot; href=&quot;https://cdn.jsdelivr.net/npm/leaflet@1.6.0/dist/leaflet.css&quot;/&gt;\n",
       "    &lt;link rel=&quot;stylesheet&quot; href=&quot;https://maxcdn.bootstrapcdn.com/bootstrap/3.2.0/css/bootstrap.min.css&quot;/&gt;\n",
       "    &lt;link rel=&quot;stylesheet&quot; href=&quot;https://maxcdn.bootstrapcdn.com/bootstrap/3.2.0/css/bootstrap-theme.min.css&quot;/&gt;\n",
       "    &lt;link rel=&quot;stylesheet&quot; href=&quot;https://maxcdn.bootstrapcdn.com/font-awesome/4.6.3/css/font-awesome.min.css&quot;/&gt;\n",
       "    &lt;link rel=&quot;stylesheet&quot; href=&quot;https://cdnjs.cloudflare.com/ajax/libs/Leaflet.awesome-markers/2.0.2/leaflet.awesome-markers.css&quot;/&gt;\n",
       "    &lt;link rel=&quot;stylesheet&quot; href=&quot;https://cdn.jsdelivr.net/gh/python-visualization/folium/folium/templates/leaflet.awesome.rotate.min.css&quot;/&gt;\n",
       "    \n",
       "            &lt;meta name=&quot;viewport&quot; content=&quot;width=device-width,\n",
       "                initial-scale=1.0, maximum-scale=1.0, user-scalable=no&quot; /&gt;\n",
       "            &lt;style&gt;\n",
       "                #map_699423dd8906ac05b275d2e65518b3d1 {\n",
       "                    position: relative;\n",
       "                    width: 100.0%;\n",
       "                    height: 100.0%;\n",
       "                    left: 0.0%;\n",
       "                    top: 0.0%;\n",
       "                }\n",
       "            &lt;/style&gt;\n",
       "        \n",
       "&lt;/head&gt;\n",
       "&lt;body&gt;    \n",
       "    \n",
       "              &lt;h3 align=&quot;center&quot; style=&quot;font-size:16px&quot;&gt;&lt;b&gt;Recent Miami-Dade Condo Sales &lt;/b&gt;&lt;/h3&gt;\n",
       "             \n",
       "    \n",
       "                &lt;p align=&quot;center&quot; style=&quot;vertical-align: bottom; font-size:13px&quot;&gt;&lt;i&gt;November 26th - December 2nd&lt;/i&gt;&lt;/p&gt;\n",
       "                \n",
       "    \n",
       "            &lt;div class=&quot;folium-map&quot; id=&quot;map_699423dd8906ac05b275d2e65518b3d1&quot; &gt;&lt;/div&gt;\n",
       "        \n",
       "&lt;/body&gt;\n",
       "&lt;script&gt;    \n",
       "    \n",
       "            var map_699423dd8906ac05b275d2e65518b3d1 = L.map(\n",
       "                &quot;map_699423dd8906ac05b275d2e65518b3d1&quot;,\n",
       "                {\n",
       "                    center: [25.84423076, -80.16570861],\n",
       "                    crs: L.CRS.EPSG3857,\n",
       "                    zoom: 9.5,\n",
       "                    zoomControl: true,\n",
       "                    preferCanvas: false,\n",
       "                }\n",
       "            );\n",
       "\n",
       "            \n",
       "\n",
       "        \n",
       "    \n",
       "            var feature_group_25c90ba9f24a0c125fae1ce247acd22c = L.featureGroup(\n",
       "                {}\n",
       "            ).addTo(map_699423dd8906ac05b275d2e65518b3d1);\n",
       "        \n",
       "    \n",
       "            var marker_b5cbf4fcdb0afd15a42b15c97b02043e = L.marker(\n",
       "                [25.8888332, -80.1225323],\n",
       "                {&quot;fill&quot;: true, &quot;radius&quot;: 5}\n",
       "            ).addTo(feature_group_25c90ba9f24a0c125fae1ce247acd22c);\n",
       "        \n",
       "    \n",
       "            var icon_ed95d90aeab570bc7bcc6ec6ff1a7e53 = L.AwesomeMarkers.icon(\n",
       "                {&quot;extraClasses&quot;: &quot;fa-rotate-0&quot;, &quot;icon&quot;: &quot;info-sign&quot;, &quot;iconColor&quot;: &quot;white&quot;, &quot;markerColor&quot;: &quot;orange&quot;, &quot;prefix&quot;: &quot;glyphicon&quot;}\n",
       "            );\n",
       "            marker_b5cbf4fcdb0afd15a42b15c97b02043e.setIcon(icon_ed95d90aeab570bc7bcc6ec6ff1a7e53);\n",
       "        \n",
       "    \n",
       "        var popup_e01857165ef26148c9f5414823936176 = L.popup({&quot;maxWidth&quot;: 400});\n",
       "\n",
       "        \n",
       "            \n",
       "                var html_5db10c3f66f4289fda6772768b810ce1 = $(`&lt;div id=&quot;html_5db10c3f66f4289fda6772768b810ce1&quot; style=&quot;width: 100.0%; height: 100.0%;&quot;&gt;&lt;!DOCTYPE html&gt;     &lt;html&gt;     &lt;strong&gt;Building Name: &lt;/strong&gt;nan&lt;br&gt;     &lt;strong&gt;Sale Price: &lt;/strong&gt;$4,300,000.00&lt;br&gt;     &lt;strong&gt;Days on Market: &lt;/strong&gt;42&lt;br&gt;     &lt;strong&gt;Listing Agent: &lt;/strong&gt;Darin Tansey&lt;br&gt;     &lt;strong&gt;Buyer&#x27;s Agent: &lt;/strong&gt;Matias Alem&lt;br&gt;     &lt;strong&gt;Price sq ft: &lt;/strong&gt;$2025.44&lt;br&gt;     &lt;strong&gt;Address: &lt;/strong&gt;nan&lt;br&gt;     &lt;/html&gt;     &lt;/div&gt;`)[0];\n",
       "                popup_e01857165ef26148c9f5414823936176.setContent(html_5db10c3f66f4289fda6772768b810ce1);\n",
       "            \n",
       "        \n",
       "\n",
       "        marker_b5cbf4fcdb0afd15a42b15c97b02043e.bindPopup(popup_e01857165ef26148c9f5414823936176)\n",
       "        ;\n",
       "\n",
       "        \n",
       "    \n",
       "    \n",
       "            var feature_group_f4b0b5ccae1939b89373360f5da67f46 = L.featureGroup(\n",
       "                {}\n",
       "            ).addTo(map_699423dd8906ac05b275d2e65518b3d1);\n",
       "        \n",
       "    \n",
       "            var marker_94f8997a3826271d032225284b3e042e = L.marker(\n",
       "                [25.951464, -80.133588],\n",
       "                {&quot;fill&quot;: true, &quot;radius&quot;: 5}\n",
       "            ).addTo(feature_group_f4b0b5ccae1939b89373360f5da67f46);\n",
       "        \n",
       "    \n",
       "            var icon_f9ac6ff7f311607221551ab55349d477 = L.AwesomeMarkers.icon(\n",
       "                {&quot;extraClasses&quot;: &quot;fa-rotate-0&quot;, &quot;icon&quot;: &quot;info-sign&quot;, &quot;iconColor&quot;: &quot;white&quot;, &quot;markerColor&quot;: &quot;blue&quot;, &quot;prefix&quot;: &quot;glyphicon&quot;}\n",
       "            );\n",
       "            marker_94f8997a3826271d032225284b3e042e.setIcon(icon_f9ac6ff7f311607221551ab55349d477);\n",
       "        \n",
       "    \n",
       "        var popup_07fd1045e2bd1fc32c1470ff3716d699 = L.popup({&quot;maxWidth&quot;: 400});\n",
       "\n",
       "        \n",
       "            \n",
       "                var html_037c10875067ae78754f8c08dfd98f95 = $(`&lt;div id=&quot;html_037c10875067ae78754f8c08dfd98f95&quot; style=&quot;width: 100.0%; height: 100.0%;&quot;&gt;&lt;!DOCTYPE html&gt;     &lt;html&gt;     &lt;strong&gt;Building Name: &lt;/strong&gt;Hidden Bay&lt;br&gt;     &lt;strong&gt;Sale Price: &lt;/strong&gt;$3,500,000.00&lt;br&gt;     &lt;strong&gt;Days on Market: &lt;/strong&gt;212&lt;br&gt;     &lt;strong&gt;Listing Agent: &lt;/strong&gt;Denise Rubin&lt;br&gt;     &lt;strong&gt;Buyer&#x27;s Agent: &lt;/strong&gt;Denise Rubin&lt;br&gt;     &lt;strong&gt;Price sq ft: &lt;/strong&gt;$857.84&lt;br&gt;     &lt;strong&gt;Address: &lt;/strong&gt;3370 Hidden Bay Dr 3313&lt;br&gt;     &lt;/html&gt;     &lt;/div&gt;`)[0];\n",
       "                popup_07fd1045e2bd1fc32c1470ff3716d699.setContent(html_037c10875067ae78754f8c08dfd98f95);\n",
       "            \n",
       "        \n",
       "\n",
       "        marker_94f8997a3826271d032225284b3e042e.bindPopup(popup_07fd1045e2bd1fc32c1470ff3716d699)\n",
       "        ;\n",
       "\n",
       "        \n",
       "    \n",
       "    \n",
       "            var marker_ca2471d4c7143464316d0e05f481bffe = L.marker(\n",
       "                [25.6927596, -80.15979569999999],\n",
       "                {&quot;fill&quot;: true, &quot;radius&quot;: 5}\n",
       "            ).addTo(feature_group_f4b0b5ccae1939b89373360f5da67f46);\n",
       "        \n",
       "    \n",
       "            var icon_aca732f353d9809161fa0eaa9b913c6a = L.AwesomeMarkers.icon(\n",
       "                {&quot;extraClasses&quot;: &quot;fa-rotate-0&quot;, &quot;icon&quot;: &quot;info-sign&quot;, &quot;iconColor&quot;: &quot;white&quot;, &quot;markerColor&quot;: &quot;blue&quot;, &quot;prefix&quot;: &quot;glyphicon&quot;}\n",
       "            );\n",
       "            marker_ca2471d4c7143464316d0e05f481bffe.setIcon(icon_aca732f353d9809161fa0eaa9b913c6a);\n",
       "        \n",
       "    \n",
       "        var popup_c95afaf4142f301795f2d886271008d6 = L.popup({&quot;maxWidth&quot;: 400});\n",
       "\n",
       "        \n",
       "            \n",
       "                var html_ecb106ef0997faffbbc00174b6ac980a = $(`&lt;div id=&quot;html_ecb106ef0997faffbbc00174b6ac980a&quot; style=&quot;width: 100.0%; height: 100.0%;&quot;&gt;&lt;!DOCTYPE html&gt;     &lt;html&gt;     &lt;strong&gt;Building Name: &lt;/strong&gt;Grand Bay&lt;br&gt;     &lt;strong&gt;Sale Price: &lt;/strong&gt;$3,100,000.00&lt;br&gt;     &lt;strong&gt;Days on Market: &lt;/strong&gt;129&lt;br&gt;     &lt;strong&gt;Listing Agent: &lt;/strong&gt;Alfredo Ferro&lt;br&gt;     &lt;strong&gt;Buyer&#x27;s Agent: &lt;/strong&gt;Frank DeValdivielso Jr.&lt;br&gt;     &lt;strong&gt;Price sq ft: &lt;/strong&gt;$953.85&lt;br&gt;     &lt;strong&gt;Address: &lt;/strong&gt;445 Grand Bay Dr 104 Key&lt;br&gt;     &lt;/html&gt;     &lt;/div&gt;`)[0];\n",
       "                popup_c95afaf4142f301795f2d886271008d6.setContent(html_ecb106ef0997faffbbc00174b6ac980a);\n",
       "            \n",
       "        \n",
       "\n",
       "        marker_ca2471d4c7143464316d0e05f481bffe.bindPopup(popup_c95afaf4142f301795f2d886271008d6)\n",
       "        ;\n",
       "\n",
       "        \n",
       "    \n",
       "    \n",
       "            var marker_db38d6cd668571f732fa96650059c19a = L.marker(\n",
       "                [25.7990967, -80.18572309999999],\n",
       "                {&quot;fill&quot;: true, &quot;radius&quot;: 5}\n",
       "            ).addTo(feature_group_f4b0b5ccae1939b89373360f5da67f46);\n",
       "        \n",
       "    \n",
       "            var icon_b7aea58ddc53313c175a924b6dc74ce0 = L.AwesomeMarkers.icon(\n",
       "                {&quot;extraClasses&quot;: &quot;fa-rotate-0&quot;, &quot;icon&quot;: &quot;info-sign&quot;, &quot;iconColor&quot;: &quot;white&quot;, &quot;markerColor&quot;: &quot;blue&quot;, &quot;prefix&quot;: &quot;glyphicon&quot;}\n",
       "            );\n",
       "            marker_db38d6cd668571f732fa96650059c19a.setIcon(icon_b7aea58ddc53313c175a924b6dc74ce0);\n",
       "        \n",
       "    \n",
       "        var popup_5df4b282bc2cc0e10d74c40b3af440fe = L.popup({&quot;maxWidth&quot;: 400});\n",
       "\n",
       "        \n",
       "            \n",
       "                var html_63fd31284c8e4ef764ab6275afaf074b = $(`&lt;div id=&quot;html_63fd31284c8e4ef764ab6275afaf074b&quot; style=&quot;width: 100.0%; height: 100.0%;&quot;&gt;&lt;!DOCTYPE html&gt;     &lt;html&gt;     &lt;strong&gt;Building Name: &lt;/strong&gt;Elysee&lt;br&gt;     &lt;strong&gt;Sale Price: &lt;/strong&gt;$2,950,000.00&lt;br&gt;     &lt;strong&gt;Days on Market: &lt;/strong&gt;255&lt;br&gt;     &lt;strong&gt;Listing Agent: &lt;/strong&gt;Juan Mora&lt;br&gt;     &lt;strong&gt;Buyer&#x27;s Agent: &lt;/strong&gt;David Vazquez PA&lt;br&gt;     &lt;strong&gt;Price sq ft: &lt;/strong&gt;$1075.46&lt;br&gt;     &lt;strong&gt;Address: &lt;/strong&gt;788 NE 23rd St  801&lt;br&gt;     &lt;/html&gt;     &lt;/div&gt;`)[0];\n",
       "                popup_5df4b282bc2cc0e10d74c40b3af440fe.setContent(html_63fd31284c8e4ef764ab6275afaf074b);\n",
       "            \n",
       "        \n",
       "\n",
       "        marker_db38d6cd668571f732fa96650059c19a.bindPopup(popup_5df4b282bc2cc0e10d74c40b3af440fe)\n",
       "        ;\n",
       "\n",
       "        \n",
       "    \n",
       "    \n",
       "            var marker_abeda2d9a847f623c92ec87b48165ebf = L.marker(\n",
       "                [25.9489901, -80.1355354],\n",
       "                {&quot;fill&quot;: true, &quot;radius&quot;: 5}\n",
       "            ).addTo(feature_group_f4b0b5ccae1939b89373360f5da67f46);\n",
       "        \n",
       "    \n",
       "            var icon_9075abd9c5762854e26e5b024a90e813 = L.AwesomeMarkers.icon(\n",
       "                {&quot;extraClasses&quot;: &quot;fa-rotate-0&quot;, &quot;icon&quot;: &quot;info-sign&quot;, &quot;iconColor&quot;: &quot;white&quot;, &quot;markerColor&quot;: &quot;blue&quot;, &quot;prefix&quot;: &quot;glyphicon&quot;}\n",
       "            );\n",
       "            marker_abeda2d9a847f623c92ec87b48165ebf.setIcon(icon_9075abd9c5762854e26e5b024a90e813);\n",
       "        \n",
       "    \n",
       "        var popup_a4ae6eaa9f51ab0e9ab9594e00a0e8dc = L.popup({&quot;maxWidth&quot;: 400});\n",
       "\n",
       "        \n",
       "            \n",
       "                var html_6b1fbc114b1795875c6f8335a98a6faa = $(`&lt;div id=&quot;html_6b1fbc114b1795875c6f8335a98a6faa&quot; style=&quot;width: 100.0%; height: 100.0%;&quot;&gt;&lt;!DOCTYPE html&gt;     &lt;html&gt;     &lt;strong&gt;Building Name: &lt;/strong&gt;Echo Condo&lt;br&gt;     &lt;strong&gt;Sale Price: &lt;/strong&gt;$2,700,000.00&lt;br&gt;     &lt;strong&gt;Days on Market: &lt;/strong&gt;32&lt;br&gt;     &lt;strong&gt;Listing Agent: &lt;/strong&gt;Daniel Tzinker&lt;br&gt;     &lt;strong&gt;Buyer&#x27;s Agent: &lt;/strong&gt;Natallia Ivanova&lt;br&gt;     &lt;strong&gt;Price sq ft: &lt;/strong&gt;$863.72&lt;br&gt;     &lt;strong&gt;Address: &lt;/strong&gt;3300 NE 188th St 917&lt;br&gt;     &lt;/html&gt;     &lt;/div&gt;`)[0];\n",
       "                popup_a4ae6eaa9f51ab0e9ab9594e00a0e8dc.setContent(html_6b1fbc114b1795875c6f8335a98a6faa);\n",
       "            \n",
       "        \n",
       "\n",
       "        marker_abeda2d9a847f623c92ec87b48165ebf.bindPopup(popup_a4ae6eaa9f51ab0e9ab9594e00a0e8dc)\n",
       "        ;\n",
       "\n",
       "        \n",
       "    \n",
       "    \n",
       "            var marker_29971a84ed22565fa65e3f64ee0cc661 = L.marker(\n",
       "                [25.760372, -80.190197],\n",
       "                {&quot;fill&quot;: true, &quot;radius&quot;: 5}\n",
       "            ).addTo(feature_group_f4b0b5ccae1939b89373360f5da67f46);\n",
       "        \n",
       "    \n",
       "            var icon_60164ea47d0c9c1db077d8347618f1dd = L.AwesomeMarkers.icon(\n",
       "                {&quot;extraClasses&quot;: &quot;fa-rotate-0&quot;, &quot;icon&quot;: &quot;info-sign&quot;, &quot;iconColor&quot;: &quot;white&quot;, &quot;markerColor&quot;: &quot;blue&quot;, &quot;prefix&quot;: &quot;glyphicon&quot;}\n",
       "            );\n",
       "            marker_29971a84ed22565fa65e3f64ee0cc661.setIcon(icon_60164ea47d0c9c1db077d8347618f1dd);\n",
       "        \n",
       "    \n",
       "        var popup_8d918f70b7accb17ee47c12845605e39 = L.popup({&quot;maxWidth&quot;: 400});\n",
       "\n",
       "        \n",
       "            \n",
       "                var html_5ecc3e9d504004368a35061d519e3d2b = $(`&lt;div id=&quot;html_5ecc3e9d504004368a35061d519e3d2b&quot; style=&quot;width: 100.0%; height: 100.0%;&quot;&gt;&lt;!DOCTYPE html&gt;     &lt;html&gt;     &lt;strong&gt;Building Name: &lt;/strong&gt;Brickell House&lt;br&gt;     &lt;strong&gt;Sale Price: &lt;/strong&gt;$1,920,000.00&lt;br&gt;     &lt;strong&gt;Days on Market: &lt;/strong&gt;91&lt;br&gt;     &lt;strong&gt;Listing Agent: &lt;/strong&gt;Cenk Fikri&lt;br&gt;     &lt;strong&gt;Buyer&#x27;s Agent: &lt;/strong&gt;Claudia Pinzon&lt;br&gt;     &lt;strong&gt;Price sq ft: &lt;/strong&gt;$811.84&lt;br&gt;     &lt;strong&gt;Address: &lt;/strong&gt;1300 Brickell Bay Dr 4204&lt;br&gt;     &lt;/html&gt;     &lt;/div&gt;`)[0];\n",
       "                popup_8d918f70b7accb17ee47c12845605e39.setContent(html_5ecc3e9d504004368a35061d519e3d2b);\n",
       "            \n",
       "        \n",
       "\n",
       "        marker_29971a84ed22565fa65e3f64ee0cc661.bindPopup(popup_8d918f70b7accb17ee47c12845605e39)\n",
       "        ;\n",
       "\n",
       "        \n",
       "    \n",
       "    \n",
       "            var marker_380cc197f826d93c2dc2872902891e0d = L.marker(\n",
       "                [25.9730612, -80.12504779999999],\n",
       "                {&quot;fill&quot;: true, &quot;radius&quot;: 5}\n",
       "            ).addTo(feature_group_f4b0b5ccae1939b89373360f5da67f46);\n",
       "        \n",
       "    \n",
       "            var icon_122cd57709dd9015e31b26c712c39714 = L.AwesomeMarkers.icon(\n",
       "                {&quot;extraClasses&quot;: &quot;fa-rotate-0&quot;, &quot;icon&quot;: &quot;info-sign&quot;, &quot;iconColor&quot;: &quot;white&quot;, &quot;markerColor&quot;: &quot;blue&quot;, &quot;prefix&quot;: &quot;glyphicon&quot;}\n",
       "            );\n",
       "            marker_380cc197f826d93c2dc2872902891e0d.setIcon(icon_122cd57709dd9015e31b26c712c39714);\n",
       "        \n",
       "    \n",
       "        var popup_a580d49c150c026df6bdcafce4e371ee = L.popup({&quot;maxWidth&quot;: 400});\n",
       "\n",
       "        \n",
       "            \n",
       "                var html_0fb9c8a77448cd5b2375ec6f6519170a = $(`&lt;div id=&quot;html_0fb9c8a77448cd5b2375ec6f6519170a&quot; style=&quot;width: 100.0%; height: 100.0%;&quot;&gt;&lt;!DOCTYPE html&gt;     &lt;html&gt;     &lt;strong&gt;Building Name: &lt;/strong&gt;Atlantic&lt;br&gt;     &lt;strong&gt;Sale Price: &lt;/strong&gt;$1,765,000.00&lt;br&gt;     &lt;strong&gt;Days on Market: &lt;/strong&gt;193&lt;br&gt;     &lt;strong&gt;Listing Agent: &lt;/strong&gt;Cassio Galiza PA&lt;br&gt;     &lt;strong&gt;Buyer&#x27;s Agent: &lt;/strong&gt;Silvia Olivera PA&lt;br&gt;     &lt;strong&gt;Price sq ft: &lt;/strong&gt;$556.26&lt;br&gt;     &lt;strong&gt;Address: &lt;/strong&gt;1 at the Point 21200 Point Pl 1204&lt;br&gt;     &lt;/html&gt;     &lt;/div&gt;`)[0];\n",
       "                popup_a580d49c150c026df6bdcafce4e371ee.setContent(html_0fb9c8a77448cd5b2375ec6f6519170a);\n",
       "            \n",
       "        \n",
       "\n",
       "        marker_380cc197f826d93c2dc2872902891e0d.bindPopup(popup_a580d49c150c026df6bdcafce4e371ee)\n",
       "        ;\n",
       "\n",
       "        \n",
       "    \n",
       "    \n",
       "            var marker_80ce39f039baaf52b2e238be24238487 = L.marker(\n",
       "                [25.7277303, -80.2394842],\n",
       "                {&quot;fill&quot;: true, &quot;radius&quot;: 5}\n",
       "            ).addTo(feature_group_f4b0b5ccae1939b89373360f5da67f46);\n",
       "        \n",
       "    \n",
       "            var icon_7c6be6cd36f1b9f069396736370157cf = L.AwesomeMarkers.icon(\n",
       "                {&quot;extraClasses&quot;: &quot;fa-rotate-0&quot;, &quot;icon&quot;: &quot;info-sign&quot;, &quot;iconColor&quot;: &quot;white&quot;, &quot;markerColor&quot;: &quot;blue&quot;, &quot;prefix&quot;: &quot;glyphicon&quot;}\n",
       "            );\n",
       "            marker_80ce39f039baaf52b2e238be24238487.setIcon(icon_7c6be6cd36f1b9f069396736370157cf);\n",
       "        \n",
       "    \n",
       "        var popup_4fff419fcac0f5b92be597026cd32219 = L.popup({&quot;maxWidth&quot;: 400});\n",
       "\n",
       "        \n",
       "            \n",
       "                var html_e767b88d6045599ebc8e168363e16995 = $(`&lt;div id=&quot;html_e767b88d6045599ebc8e168363e16995&quot; style=&quot;width: 100.0%; height: 100.0%;&quot;&gt;&lt;!DOCTYPE html&gt;     &lt;html&gt;     &lt;strong&gt;Building Name: &lt;/strong&gt;Yacht Harbour Condo&lt;br&gt;     &lt;strong&gt;Sale Price: &lt;/strong&gt;$1,565,000.00&lt;br&gt;     &lt;strong&gt;Days on Market: &lt;/strong&gt;18&lt;br&gt;     &lt;strong&gt;Listing Agent: &lt;/strong&gt;Maria Nardi&lt;br&gt;     &lt;strong&gt;Buyer&#x27;s Agent: &lt;/strong&gt;Carlos Fonseca&lt;br&gt;     &lt;strong&gt;Price sq ft: &lt;/strong&gt;$986.14&lt;br&gt;     &lt;strong&gt;Address: &lt;/strong&gt;2901 S Bayshore Dr 7C&lt;br&gt;     &lt;/html&gt;     &lt;/div&gt;`)[0];\n",
       "                popup_4fff419fcac0f5b92be597026cd32219.setContent(html_e767b88d6045599ebc8e168363e16995);\n",
       "            \n",
       "        \n",
       "\n",
       "        marker_80ce39f039baaf52b2e238be24238487.bindPopup(popup_4fff419fcac0f5b92be597026cd32219)\n",
       "        ;\n",
       "\n",
       "        \n",
       "    \n",
       "    \n",
       "            var marker_0cc900f9613ec9cefe3a301f4cc43abc = L.marker(\n",
       "                [25.7277303, -80.2394842],\n",
       "                {&quot;fill&quot;: true, &quot;radius&quot;: 5}\n",
       "            ).addTo(feature_group_f4b0b5ccae1939b89373360f5da67f46);\n",
       "        \n",
       "    \n",
       "            var icon_94c6e181ad15fb60b18050ca7d0be8e8 = L.AwesomeMarkers.icon(\n",
       "                {&quot;extraClasses&quot;: &quot;fa-rotate-0&quot;, &quot;icon&quot;: &quot;info-sign&quot;, &quot;iconColor&quot;: &quot;white&quot;, &quot;markerColor&quot;: &quot;blue&quot;, &quot;prefix&quot;: &quot;glyphicon&quot;}\n",
       "            );\n",
       "            marker_0cc900f9613ec9cefe3a301f4cc43abc.setIcon(icon_94c6e181ad15fb60b18050ca7d0be8e8);\n",
       "        \n",
       "    \n",
       "        var popup_694a724fc90bf3755508f501d46dcf44 = L.popup({&quot;maxWidth&quot;: 400});\n",
       "\n",
       "        \n",
       "            \n",
       "                var html_ac6cdad1c3439dd0a5f1492a723caa28 = $(`&lt;div id=&quot;html_ac6cdad1c3439dd0a5f1492a723caa28&quot; style=&quot;width: 100.0%; height: 100.0%;&quot;&gt;&lt;!DOCTYPE html&gt;     &lt;html&gt;     &lt;strong&gt;Building Name: &lt;/strong&gt;Yacht Harbour Condo&lt;br&gt;     &lt;strong&gt;Sale Price: &lt;/strong&gt;$1,565,000.00&lt;br&gt;     &lt;strong&gt;Days on Market: &lt;/strong&gt;35&lt;br&gt;     &lt;strong&gt;Listing Agent: &lt;/strong&gt;Maria Nardi&lt;br&gt;     &lt;strong&gt;Buyer&#x27;s Agent: &lt;/strong&gt;Carlos Fonseca&lt;br&gt;     &lt;strong&gt;Price sq ft: &lt;/strong&gt;$986.14&lt;br&gt;     &lt;strong&gt;Address: &lt;/strong&gt;2901 S Bayshore Dr 7B&lt;br&gt;     &lt;/html&gt;     &lt;/div&gt;`)[0];\n",
       "                popup_694a724fc90bf3755508f501d46dcf44.setContent(html_ac6cdad1c3439dd0a5f1492a723caa28);\n",
       "            \n",
       "        \n",
       "\n",
       "        marker_0cc900f9613ec9cefe3a301f4cc43abc.bindPopup(popup_694a724fc90bf3755508f501d46dcf44)\n",
       "        ;\n",
       "\n",
       "        \n",
       "    \n",
       "    \n",
       "            var marker_6820fab30268d1e95be24a1c6875bb26 = L.marker(\n",
       "                [25.9722702, -80.12569839999999],\n",
       "                {&quot;fill&quot;: true, &quot;radius&quot;: 5}\n",
       "            ).addTo(feature_group_f4b0b5ccae1939b89373360f5da67f46);\n",
       "        \n",
       "    \n",
       "            var icon_1924e185612a92b2ee6745f69ee75338 = L.AwesomeMarkers.icon(\n",
       "                {&quot;extraClasses&quot;: &quot;fa-rotate-0&quot;, &quot;icon&quot;: &quot;info-sign&quot;, &quot;iconColor&quot;: &quot;white&quot;, &quot;markerColor&quot;: &quot;blue&quot;, &quot;prefix&quot;: &quot;glyphicon&quot;}\n",
       "            );\n",
       "            marker_6820fab30268d1e95be24a1c6875bb26.setIcon(icon_1924e185612a92b2ee6745f69ee75338);\n",
       "        \n",
       "    \n",
       "        var popup_19ca58e90030bb5dc686cbef2d9be2ba = L.popup({&quot;maxWidth&quot;: 400});\n",
       "\n",
       "        \n",
       "            \n",
       "                var html_63e496e73975c99102e76f90d6778b34 = $(`&lt;div id=&quot;html_63e496e73975c99102e76f90d6778b34&quot; style=&quot;width: 100.0%; height: 100.0%;&quot;&gt;&lt;!DOCTYPE html&gt;     &lt;html&gt;     &lt;strong&gt;Building Name: &lt;/strong&gt;The Point of Aventura&lt;br&gt;     &lt;strong&gt;Sale Price: &lt;/strong&gt;$1,320,000.00&lt;br&gt;     &lt;strong&gt;Days on Market: &lt;/strong&gt;81&lt;br&gt;     &lt;strong&gt;Listing Agent: &lt;/strong&gt;Ronit Razon&lt;br&gt;     &lt;strong&gt;Buyer&#x27;s Agent: &lt;/strong&gt;Yosef Razon&lt;br&gt;     &lt;strong&gt;Price sq ft: &lt;/strong&gt;$540.98&lt;br&gt;     &lt;strong&gt;Address: &lt;/strong&gt;21050 Point Place PH3106&lt;br&gt;     &lt;/html&gt;     &lt;/div&gt;`)[0];\n",
       "                popup_19ca58e90030bb5dc686cbef2d9be2ba.setContent(html_63e496e73975c99102e76f90d6778b34);\n",
       "            \n",
       "        \n",
       "\n",
       "        marker_6820fab30268d1e95be24a1c6875bb26.bindPopup(popup_19ca58e90030bb5dc686cbef2d9be2ba)\n",
       "        ;\n",
       "\n",
       "        \n",
       "    \n",
       "    \n",
       "            var tile_layer_4c7788e5217e689aa2ec44569588794a = L.tileLayer(\n",
       "                &quot;https://{s}.tile.openstreetmap.org/{z}/{x}/{y}.png&quot;,\n",
       "                {&quot;attribution&quot;: &quot;Data by \\u0026copy; \\u003ca href=\\&quot;http://openstreetmap.org\\&quot;\\u003eOpenStreetMap\\u003c/a\\u003e, under \\u003ca href=\\&quot;http://www.openstreetmap.org/copyright\\&quot;\\u003eODbL\\u003c/a\\u003e.&quot;, &quot;detectRetina&quot;: false, &quot;maxNativeZoom&quot;: 18, &quot;maxZoom&quot;: 18, &quot;minZoom&quot;: 0, &quot;noWrap&quot;: false, &quot;opacity&quot;: 1, &quot;subdomains&quot;: &quot;abc&quot;, &quot;tms&quot;: false}\n",
       "            ).addTo(map_699423dd8906ac05b275d2e65518b3d1);\n",
       "        \n",
       "    \n",
       "            var layer_control_c0c0928bdca9f804b4af721ef187ca3f = {\n",
       "                base_layers : {\n",
       "                },\n",
       "                overlays :  {\n",
       "                    &quot;Top Sale&quot; : feature_group_25c90ba9f24a0c125fae1ce247acd22c,\n",
       "                    &quot;All other sales&quot; : feature_group_f4b0b5ccae1939b89373360f5da67f46,\n",
       "                },\n",
       "            };\n",
       "            L.control.layers(\n",
       "                layer_control_c0c0928bdca9f804b4af721ef187ca3f.base_layers,\n",
       "                layer_control_c0c0928bdca9f804b4af721ef187ca3f.overlays,\n",
       "                {&quot;autoZIndex&quot;: true, &quot;collapsed&quot;: false, &quot;position&quot;: &quot;topright&quot;}\n",
       "            ).addTo(map_699423dd8906ac05b275d2e65518b3d1);\n",
       "        \n",
       "&lt;/script&gt;\" style=\"position:absolute;width:100%;height:100%;left:0;top:0;border:none !important;\" allowfullscreen webkitallowfullscreen mozallowfullscreen></iframe></div></div>"
      ],
      "text/plain": [
       "<folium.folium.Map at 0x7fc39a62c5e0>"
      ]
     },
     "execution_count": 24,
     "metadata": {},
     "output_type": "execute_result"
    }
   ],
   "source": [
    "import folium\n",
    "from folium.plugins import MarkerCluster\n",
    "\n",
    "m = folium.Map(location=df[[\"lat\", \"lon\"]].mean().to_list(), zoom_start=10)\n",
    "\n",
    "title_html = '''\n",
    "              <h3 align=\"center\" style=\"font-size:16px\"><b>{}</b></h3>\n",
    "             '''.format(f'Recent Miami-Dade Condo Sales ')\n",
    "\n",
    "caption_html = '''\n",
    "                <p align=\"center\" style=\"vertical-align: bottom; font-size:13px\"><i>{}</i></p>\n",
    "                '''.format('November 26th - December 2nd')\n",
    "\n",
    "\n",
    "### Create map container ###\n",
    "m = folium.Map(location=df[[\"lat\", \"lon\"]].mean().to_list(),zoom_start=9.5,tiles=None)\n",
    "\n",
    "# Create two FeatureGroups for different color pins\n",
    "fg_blue = folium.FeatureGroup(name='All other sales')\n",
    "fg_orange = folium.FeatureGroup(name='Top Sale')\n",
    "\n",
    "for index, row in df.iterrows():\n",
    "    # Add the markers to the appropriate FeatureGroup based on the color\n",
    "    if row['COLOR'] == 'blue':\n",
    "        marker = folium.Marker(\n",
    "            location=[row['lat'], row['lon']],\n",
    "            radius=5,\n",
    "            fill=True,\n",
    "            icon=folium.Icon(color=row['COLOR']),\n",
    "            popup=folium.Popup(popup_html(row), max_width=400))\n",
    "        marker.add_to(fg_blue)\n",
    "    else:\n",
    "        marker = folium.Marker(\n",
    "            location=[row['lat'], row['lon']],\n",
    "            radius=5,\n",
    "            fill=True,\n",
    "            icon=folium.Icon(color=row['COLOR']),\n",
    "            popup=folium.Popup(popup_html(row), max_width=400))\n",
    "        marker.add_to(fg_orange)\n",
    "\n",
    "# Add the FeatureGroups to the map\n",
    "fg_orange.add_to(m)\n",
    "fg_blue.add_to(m)\n",
    "\n",
    "folium.TileLayer('OpenStreetMap',control=False).add_to(m)\n",
    "\n",
    "# Add LayerControl to the map\n",
    "folium.map.LayerControl(collapsed=False).add_to(m)\n",
    "m.get_root().html.add_child(folium.Element(title_html))\n",
    "m.get_root().html.add_child(folium.Element(caption_html))\n",
    "            \n",
    "# Display map\n",
    "m"
   ]
  },
  {
   "cell_type": "code",
   "execution_count": 25,
   "metadata": {},
   "outputs": [],
   "source": [
    "m.save('index.html')"
   ]
  },
  {
   "cell_type": "markdown",
   "metadata": {},
   "source": [
    "## Data snagger"
   ]
  },
  {
   "cell_type": "code",
   "execution_count": 26,
   "metadata": {},
   "outputs": [],
   "source": [
    "### Set up formatting ###\n",
    "BR = '\\n'\n",
    "\n",
    "ME = '\\033[1m' + 'Most Expensive' + '\\033[0m'\n",
    "LE = '\\033[1m' + 'Least Expensive' + '\\033[0m'\n",
    "\n",
    "MAX_PSF = '\\033[1m' + 'Highest Price Per Square Foot' + '\\033[0m'\n",
    "MIN_PSF = '\\033[1m' + 'Lowest Price Per Square Foot' + '\\033[0m'\n",
    "\n",
    "DAYS_MAX = '\\033[1m' + 'Most Days on Market' + '\\033[0m'\n",
    "DAYS_MIN = '\\033[1m' + 'Fewest Days on Market' + '\\033[0m'"
   ]
  },
  {
   "cell_type": "code",
   "execution_count": 27,
   "metadata": {},
   "outputs": [
    {
     "name": "stdout",
     "output_type": "stream",
     "text": [
      "\u001b[1mMost Expensive\u001b[0m\n",
      "nan, nan | Price $4,300,000 | $2,025 psf | Listing agent: Darin Tansey with Douglas Elliman | Buyer's agent: Matias Alem with BRG International , LLC | Days on market: 42\n",
      "\u001b[1mLeast Expensive\u001b[0m\n",
      "The Point of Aventura, 21050 Point Place PH3106 | Price $1,320,000 | $541 psf | Listing agent: Ronit Razon with Related ISG Realty, LLC. | Buyer's agent: Yosef Razon with Related ISG Realty, LLC. | Days on market: 81\n",
      "\u001b[1mHighest Price Per Square Foot\u001b[0m\n",
      "nan, nan | Price $4,300,000 | $2,025 psf | Listing agent: Darin Tansey with Douglas Elliman | Buyer's agent: Matias Alem with BRG International , LLC | Days on market: 42\n",
      "\u001b[1mLowest Price Per Square Foot\u001b[0m\n",
      "The Point of Aventura, 21050 Point Place PH3106 | Price $1,320,000 | $541 psf | Listing agent: Ronit Razon with Related ISG Realty, LLC. | Buyer's agent: Yosef Razon with Related ISG Realty, LLC. | Days on market: 81\n",
      "\u001b[1mMost Days on Market\u001b[0m\n",
      "Elysee, 788 NE 23rd St  801 | Price $2,950,000 | $1,075 psf | Listing agent: Juan Mora with Atlas Rockstone Int'l Realty | Buyer's agent: David Vazquez PA with Douglas Elliman | Days on market: 255\n",
      "\u001b[1mFewest Days on Market\u001b[0m\n",
      "Yacht Harbour Condo, 2901 S Bayshore Dr 7C | Price $1,565,000 | $986 psf | Listing agent: Maria Nardi with Gilvan Realty Corp. | Buyer's agent: Carlos Fonseca with Gilvan Realty Corp. | Days on market: 18\n"
     ]
    }
   ],
   "source": [
    "### Highest and lowest sale price ###\n",
    "print(f\"{ME}{BR}{df.loc[df['int_Sale_Price'].idxmax()]['building_name']}, {df.loc[df['int_Sale_Price'].idxmax()]['address']} | Price ${df.loc[df['int_Sale_Price'].idxmax()]['int_Sale_Price']:,.0f} | ${df.loc[df['int_Sale_Price'].idxmax()]['price_per_sqft']:,.0f} psf | Listing agent: {df.loc[df['int_Sale_Price'].idxmax()]['Agent']} with {df.loc[df['int_Sale_Price'].idxmax()]['Listing Broker']} | Buyer's agent: {df.loc[df['int_Sale_Price'].idxmax()]['Buyer Agent']} with {df.loc[df['int_Sale_Price'].idxmax()]['Buyer Broker']} | Days on market: {df.loc[df['int_Sale_Price'].idxmax()]['days_on_market']}\")\n",
    "print(f\"{LE}{BR}{df.loc[df['int_Sale_Price'].idxmin()]['building_name']}, {df.loc[df['int_Sale_Price'].idxmin()]['address']} | Price ${df.loc[df['int_Sale_Price'].idxmin()]['int_Sale_Price']:,.0f} | ${df.loc[df['int_Sale_Price'].idxmin()]['price_per_sqft']:,.0f} psf | Listing agent: {df.loc[df['int_Sale_Price'].idxmin()]['Agent']} with {df.loc[df['int_Sale_Price'].idxmin()]['Listing Broker']} | Buyer's agent: {df.loc[df['int_Sale_Price'].idxmin()]['Buyer Agent']} with {df.loc[df['int_Sale_Price'].idxmin()]['Buyer Broker']} | Days on market: {df.loc[df['int_Sale_Price'].idxmin()]['days_on_market']}\")\n",
    "### Highest and lowest psf ###\n",
    "print(f\"{MAX_PSF}{BR}{df.loc[df['price_per_sqft'].idxmax()]['building_name']}, {df.loc[df['price_per_sqft'].idxmax()]['address']} | Price ${df.loc[df['price_per_sqft'].idxmax()]['int_Sale_Price']:,.0f} | ${df.loc[df['price_per_sqft'].idxmax()]['price_per_sqft']:,.0f} psf | Listing agent: {df.loc[df['price_per_sqft'].idxmax()]['Agent']} with {df.loc[df['price_per_sqft'].idxmax()]['Listing Broker']} | Buyer's agent: {df.loc[df['price_per_sqft'].idxmax()]['Buyer Agent']} with {df.loc[df['price_per_sqft'].idxmax()]['Buyer Broker']} | Days on market: {df.loc[df['price_per_sqft'].idxmax()]['days_on_market']}\")\n",
    "print(f\"{MIN_PSF}{BR}{df.loc[df['price_per_sqft'].idxmin()]['building_name']}, {df.loc[df['price_per_sqft'].idxmin()]['address']} | Price ${df.loc[df['price_per_sqft'].idxmin()]['int_Sale_Price']:,.0f} | ${df.loc[df['price_per_sqft'].idxmin()]['price_per_sqft']:,.0f} psf | Listing agent: {df.loc[df['price_per_sqft'].idxmin()]['Agent']} with {df.loc[df['price_per_sqft'].idxmin()]['Listing Broker']} | Buyer's agent: {df.loc[df['price_per_sqft'].idxmin()]['Buyer Agent']} with {df.loc[df['price_per_sqft'].idxmin()]['Buyer Broker']} | Days on market: {df.loc[df['price_per_sqft'].idxmin()]['days_on_market']}\")\n",
    "### Highest and lowest days on market ###\n",
    "print(f\"{DAYS_MAX}{BR}{df.loc[df['days_on_market'].idxmax()]['building_name']}, {df.loc[df['days_on_market'].idxmax()]['address']} | Price ${df.loc[df['days_on_market'].idxmax()]['int_Sale_Price']:,.0f} | ${df.loc[df['days_on_market'].idxmax()]['price_per_sqft']:,.0f} psf | Listing agent: {df.loc[df['days_on_market'].idxmax()]['Agent']} with {df.loc[df['days_on_market'].idxmax()]['Listing Broker']} | Buyer's agent: {df.loc[df['days_on_market'].idxmax()]['Buyer Agent']} with {df.loc[df['days_on_market'].idxmax()]['Buyer Broker']} | Days on market: {df.loc[df['days_on_market'].idxmax()]['days_on_market']}\")\n",
    "print(f\"{DAYS_MIN}{BR}{df.loc[df['days_on_market'].idxmin()]['building_name']}, {df.loc[df['days_on_market'].idxmin()]['address']} | Price ${df.loc[df['days_on_market'].idxmin()]['int_Sale_Price']:,.0f} | ${df.loc[df['days_on_market'].idxmin()]['price_per_sqft']:,.0f} psf | Listing agent: {df.loc[df['days_on_market'].idxmin()]['Agent']} with {df.loc[df['days_on_market'].idxmin()]['Listing Broker']} | Buyer's agent: {df.loc[df['days_on_market'].idxmin()]['Buyer Agent']} with {df.loc[df['days_on_market'].idxmin()]['Buyer Broker']} | Days on market: {df.loc[df['days_on_market'].idxmin()]['days_on_market']}\")"
   ]
  },
  {
   "cell_type": "code",
   "execution_count": 28,
   "metadata": {},
   "outputs": [
    {
     "data": {
      "text/plain": [
       "108.8"
      ]
     },
     "execution_count": 28,
     "metadata": {},
     "output_type": "execute_result"
    }
   ],
   "source": [
    "df['days_on_market'].mean()"
   ]
  },
  {
   "cell_type": "markdown",
   "metadata": {},
   "source": [
    "## Map URL snagger"
   ]
  },
  {
   "cell_type": "markdown",
   "metadata": {},
   "source": [
    "Map template URL: `https://trd-digital.github.io/trd-news-interactive-maps/{map-folder-name}`"
   ]
  },
  {
   "cell_type": "code",
   "execution_count": 29,
   "metadata": {},
   "outputs": [
    {
     "name": "stdout",
     "output_type": "stream",
     "text": [
      "https://trd-digital.github.io/trd-news-interactive-maps/condo_sales_week_ending_12112023\n"
     ]
    }
   ],
   "source": [
    "base_name = 'https://trd-digital.github.io/trd-news-interactive-maps/'\n",
    "\n",
    "cwd = os.getcwd()\n",
    "\n",
    "cwd = cwd.split('/')\n",
    "\n",
    "final_name = base_name + cwd[-1]\n",
    "print(final_name)"
   ]
  }
 ],
 "metadata": {
  "kernelspec": {
   "display_name": "Python 3 (ipykernel)",
   "language": "python",
   "name": "python3"
  },
  "language_info": {
   "codemirror_mode": {
    "name": "ipython",
    "version": 3
   },
   "file_extension": ".py",
   "mimetype": "text/x-python",
   "name": "python",
   "nbconvert_exporter": "python",
   "pygments_lexer": "ipython3",
   "version": "3.9.12"
  },
  "toc": {
   "base_numbering": 1,
   "nav_menu": {},
   "number_sections": true,
   "sideBar": true,
   "skip_h1_title": false,
   "title_cell": "Table of Contents",
   "title_sidebar": "Contents",
   "toc_cell": false,
   "toc_position": {},
   "toc_section_display": true,
   "toc_window_display": false
  }
 },
 "nbformat": 4,
 "nbformat_minor": 4
}
