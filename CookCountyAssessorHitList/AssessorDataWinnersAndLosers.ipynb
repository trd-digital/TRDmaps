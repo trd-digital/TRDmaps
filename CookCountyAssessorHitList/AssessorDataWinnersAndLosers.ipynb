{
 "cells": [
  {
   "cell_type": "markdown",
   "id": "c0af60ac",
   "metadata": {},
   "source": [
    "## Imports"
   ]
  },
  {
   "cell_type": "code",
   "execution_count": 1,
   "id": "601eb1c1",
   "metadata": {},
   "outputs": [],
   "source": [
    "import pandas as pd\n",
    "import numpy as np"
   ]
  },
  {
   "cell_type": "code",
   "execution_count": 9,
   "id": "e18f2882",
   "metadata": {},
   "outputs": [],
   "source": [
    "pd.set_option('display.max_columns',None)"
   ]
  },
  {
   "cell_type": "markdown",
   "id": "0e08dcf6",
   "metadata": {},
   "source": [
    "## Data read-in\n",
    "\n",
    "**Data downloaded from assessor's website on Friday, September 1st, 2023.**<br>\n",
    "Link: https://datacatalog.cookcountyil.gov/Property-Taxation/Board-of-Review-Appeal-Decision-History/7pny-nedm\n",
    "\n",
    "**Original Assessor 'hit list' data**<br>\n",
    "https://docs.google.com/spreadsheets/d/1Cy5PLrM6OLXMnkqjTyGLrC3vhU7YPvWF41tEku5BLMg/edit#gid=0"
   ]
  },
  {
   "cell_type": "code",
   "execution_count": 22,
   "id": "444d1a43",
   "metadata": {},
   "outputs": [],
   "source": [
    "appeal_decisions = pd.read_csv('Board_of_Review_Appeal_Decision_History.csv', dtype='str')"
   ]
  },
  {
   "cell_type": "code",
   "execution_count": 23,
   "id": "176d7315",
   "metadata": {},
   "outputs": [],
   "source": [
    "original_data = pd.read_csv('assessor_hit_list - Sheet1.csv',names=['Column_1','Column_2',\n",
    "                                                                    'Column_3','Column_4',\n",
    "                                                                    'Column_5','Column_6',\n",
    "                                                                    'Column_7','Column_8'],\n",
    "                                                                    dtype='str')"
   ]
  },
  {
   "cell_type": "code",
   "execution_count": 25,
   "id": "2bdda6ee",
   "metadata": {},
   "outputs": [
    {
     "data": {
      "text/html": [
       "<div>\n",
       "<style scoped>\n",
       "    .dataframe tbody tr th:only-of-type {\n",
       "        vertical-align: middle;\n",
       "    }\n",
       "\n",
       "    .dataframe tbody tr th {\n",
       "        vertical-align: top;\n",
       "    }\n",
       "\n",
       "    .dataframe thead th {\n",
       "        text-align: right;\n",
       "    }\n",
       "</style>\n",
       "<table border=\"1\" class=\"dataframe\">\n",
       "  <thead>\n",
       "    <tr style=\"text-align: right;\">\n",
       "      <th></th>\n",
       "      <th>pin</th>\n",
       "      <th>township_code</th>\n",
       "      <th>tax_year</th>\n",
       "      <th>AppealTrk</th>\n",
       "      <th>AppealSeq</th>\n",
       "      <th>TaxCode</th>\n",
       "      <th>Vol</th>\n",
       "      <th>Class</th>\n",
       "      <th>AppealType</th>\n",
       "      <th>AppealTypeDescription</th>\n",
       "      <th>Assessor_LandValue</th>\n",
       "      <th>Assessor_ImprovementValue</th>\n",
       "      <th>Assessor_TotalValue</th>\n",
       "      <th>BOR_LandValue</th>\n",
       "      <th>BOR_ImprovementValue</th>\n",
       "      <th>BOR_TotalValue</th>\n",
       "      <th>Result</th>\n",
       "      <th>ChangeReason</th>\n",
       "      <th>ChangeReasonDescription</th>\n",
       "      <th>NoChangeReason</th>\n",
       "      <th>NoChangeReasonDescription</th>\n",
       "      <th>MajorClass</th>\n",
       "      <th>Appellant</th>\n",
       "      <th>Appellant_Address</th>\n",
       "      <th>Appellant_City</th>\n",
       "      <th>Appellant_State</th>\n",
       "      <th>Appellant_Zip</th>\n",
       "      <th>AttorneyCode</th>\n",
       "      <th>Attorney ID</th>\n",
       "      <th>Attorney_FirstName</th>\n",
       "      <th>Attorney_LastName</th>\n",
       "      <th>Attorney_FirmName</th>\n",
       "      <th>AppealID</th>\n",
       "      <th>PIN10</th>\n",
       "      <th>long</th>\n",
       "      <th>lat</th>\n",
       "      <th>xcoord_crs_3435</th>\n",
       "      <th>ycoord_crs_3435</th>\n",
       "      <th>PIN_dash</th>\n",
       "      <th>centroid_geom</th>\n",
       "      <th>rowid</th>\n",
       "    </tr>\n",
       "  </thead>\n",
       "  <tbody>\n",
       "    <tr>\n",
       "      <th>0</th>\n",
       "      <td>06261180091075</td>\n",
       "      <td>18</td>\n",
       "      <td>2022</td>\n",
       "      <td>1813308</td>\n",
       "      <td>74</td>\n",
       "      <td>18104</td>\n",
       "      <td>61</td>\n",
       "      <td>29900</td>\n",
       "      <td>P</td>\n",
       "      <td>Overvaluation</td>\n",
       "      <td>2691</td>\n",
       "      <td>20295</td>\n",
       "      <td>22986</td>\n",
       "      <td>2691</td>\n",
       "      <td>19631</td>\n",
       "      <td>22322</td>\n",
       "      <td>Decrease</td>\n",
       "      <td>5</td>\n",
       "      <td>Condominium/cooperative analysis which conside...</td>\n",
       "      <td>0</td>\n",
       "      <td>NaN</td>\n",
       "      <td>Residential</td>\n",
       "      <td>OAKS AT HIDDEN GLEN CO</td>\n",
       "      <td>1-112 SAMUEL / 101-157</td>\n",
       "      <td>STREAMWOOD</td>\n",
       "      <td>IL</td>\n",
       "      <td>60107</td>\n",
       "      <td>Attorney</td>\n",
       "      <td>307</td>\n",
       "      <td>EDWIN M</td>\n",
       "      <td>WITTENSTEIN</td>\n",
       "      <td>WORSEK &amp; VIHON LLP</td>\n",
       "      <td>1813308.074</td>\n",
       "      <td>0626118009</td>\n",
       "      <td>-88.182158785593899</td>\n",
       "      <td>42.010403444494465</td>\n",
       "      <td>1025336.095472745597363</td>\n",
       "      <td>1946414.4539834856987</td>\n",
       "      <td>06261180091075</td>\n",
       "      <td>POINT (-88.1821587855939 42.010403444494465)</td>\n",
       "      <td>2022-06261180091075-1813308-74</td>\n",
       "    </tr>\n",
       "  </tbody>\n",
       "</table>\n",
       "</div>"
      ],
      "text/plain": [
       "              pin township_code tax_year AppealTrk AppealSeq TaxCode Vol   \n",
       "0  06261180091075            18     2022   1813308        74   18104  61  \\\n",
       "\n",
       "   Class AppealType AppealTypeDescription Assessor_LandValue   \n",
       "0  29900          P         Overvaluation               2691  \\\n",
       "\n",
       "  Assessor_ImprovementValue Assessor_TotalValue BOR_LandValue   \n",
       "0                     20295               22986          2691  \\\n",
       "\n",
       "  BOR_ImprovementValue BOR_TotalValue    Result ChangeReason   \n",
       "0                19631          22322  Decrease            5  \\\n",
       "\n",
       "                             ChangeReasonDescription NoChangeReason   \n",
       "0  Condominium/cooperative analysis which conside...              0  \\\n",
       "\n",
       "  NoChangeReasonDescription   MajorClass               Appellant   \n",
       "0                       NaN  Residential  OAKS AT HIDDEN GLEN CO  \\\n",
       "\n",
       "        Appellant_Address Appellant_City Appellant_State Appellant_Zip   \n",
       "0  1-112 SAMUEL / 101-157     STREAMWOOD              IL         60107  \\\n",
       "\n",
       "  AttorneyCode Attorney ID Attorney_FirstName Attorney_LastName   \n",
       "0     Attorney         307            EDWIN M       WITTENSTEIN  \\\n",
       "\n",
       "    Attorney_FirmName     AppealID       PIN10                 long   \n",
       "0  WORSEK & VIHON LLP  1813308.074  0626118009  -88.182158785593899  \\\n",
       "\n",
       "                  lat          xcoord_crs_3435        ycoord_crs_3435   \n",
       "0  42.010403444494465  1025336.095472745597363  1946414.4539834856987  \\\n",
       "\n",
       "         PIN_dash                                 centroid_geom   \n",
       "0  06261180091075  POINT (-88.1821587855939 42.010403444494465)  \\\n",
       "\n",
       "                            rowid  \n",
       "0  2022-06261180091075-1813308-74  "
      ]
     },
     "execution_count": 25,
     "metadata": {},
     "output_type": "execute_result"
    }
   ],
   "source": [
    "appeal_decisions.head(1)"
   ]
  },
  {
   "cell_type": "code",
   "execution_count": 28,
   "id": "cbca21fa",
   "metadata": {},
   "outputs": [
    {
     "name": "stdout",
     "output_type": "stream",
     "text": [
      "14\n",
      "-------\n",
      "14\n"
     ]
    }
   ],
   "source": [
    "print(len(appeal_decisions['pin'].iloc[0]))\n",
    "print('-------')\n",
    "print(len(original_data['Column_1'].iloc[0]))"
   ]
  },
  {
   "cell_type": "code",
   "execution_count": 24,
   "id": "d7f2bcc8",
   "metadata": {},
   "outputs": [
    {
     "data": {
      "text/html": [
       "<div>\n",
       "<style scoped>\n",
       "    .dataframe tbody tr th:only-of-type {\n",
       "        vertical-align: middle;\n",
       "    }\n",
       "\n",
       "    .dataframe tbody tr th {\n",
       "        vertical-align: top;\n",
       "    }\n",
       "\n",
       "    .dataframe thead th {\n",
       "        text-align: right;\n",
       "    }\n",
       "</style>\n",
       "<table border=\"1\" class=\"dataframe\">\n",
       "  <thead>\n",
       "    <tr style=\"text-align: right;\">\n",
       "      <th></th>\n",
       "      <th>Column_1</th>\n",
       "      <th>Column_2</th>\n",
       "      <th>Column_3</th>\n",
       "      <th>Column_4</th>\n",
       "      <th>Column_5</th>\n",
       "      <th>Column_6</th>\n",
       "      <th>Column_7</th>\n",
       "      <th>Column_8</th>\n",
       "    </tr>\n",
       "  </thead>\n",
       "  <tbody>\n",
       "    <tr>\n",
       "      <th>0</th>\n",
       "      <td>17162050160000</td>\n",
       "      <td>73994803</td>\n",
       "      <td>153660763</td>\n",
       "      <td>-79665960</td>\n",
       "      <td>-1.076642639</td>\n",
       "      <td>5-91</td>\n",
       "      <td>South Chicago</td>\n",
       "      <td>10 S DEARBORN ST</td>\n",
       "    </tr>\n",
       "  </tbody>\n",
       "</table>\n",
       "</div>"
      ],
      "text/plain": [
       "         Column_1  Column_2   Column_3   Column_4      Column_5 Column_6   \n",
       "0  17162050160000  73994803  153660763  -79665960  -1.076642639     5-91  \\\n",
       "\n",
       "        Column_7          Column_8  \n",
       "0  South Chicago  10 S DEARBORN ST  "
      ]
     },
     "execution_count": 24,
     "metadata": {},
     "output_type": "execute_result"
    }
   ],
   "source": [
    "original_data.head(1)"
   ]
  },
  {
   "cell_type": "markdown",
   "id": "c7ddc3e3",
   "metadata": {},
   "source": [
    "## Data work"
   ]
  },
  {
   "cell_type": "code",
   "execution_count": 29,
   "id": "6de1e00f",
   "metadata": {},
   "outputs": [
    {
     "data": {
      "text/plain": [
       "tax_year\n",
       "2018    532205\n",
       "2021    518845\n",
       "2022    469007\n",
       "2015    466901\n",
       "2019    462316\n",
       "2016    416708\n",
       "2012    414963\n",
       "2013    391384\n",
       "2020    384626\n",
       "2010    375724\n",
       "2017    356733\n",
       "2011    330647\n",
       "2014    312090\n",
       "Name: count, dtype: int64"
      ]
     },
     "execution_count": 29,
     "metadata": {},
     "output_type": "execute_result"
    }
   ],
   "source": [
    "appeal_decisions['tax_year'].value_counts()"
   ]
  },
  {
   "cell_type": "code",
   "execution_count": 30,
   "id": "79480741",
   "metadata": {},
   "outputs": [],
   "source": [
    "merged_df = pd.merge(appeal_decisions, original_data, left_on='pin', right_on='Column_1')"
   ]
  },
  {
   "cell_type": "code",
   "execution_count": 32,
   "id": "9eeebb3d",
   "metadata": {},
   "outputs": [
    {
     "data": {
      "text/plain": [
       "tax_year\n",
       "2021    559\n",
       "2022    551\n",
       "2018    509\n",
       "2020    485\n",
       "2019    462\n",
       "2015    413\n",
       "2016    385\n",
       "2017    380\n",
       "2012    342\n",
       "2011    326\n",
       "2010    304\n",
       "2013    298\n",
       "2014    288\n",
       "Name: count, dtype: int64"
      ]
     },
     "execution_count": 32,
     "metadata": {},
     "output_type": "execute_result"
    }
   ],
   "source": [
    "merged_df['tax_year'].value_counts()"
   ]
  },
  {
   "cell_type": "code",
   "execution_count": 35,
   "id": "b6a95464",
   "metadata": {},
   "outputs": [],
   "source": [
    "filtered_df = merged_df[merged_df['tax_year'] == '2022']"
   ]
  },
  {
   "cell_type": "code",
   "execution_count": 37,
   "id": "f3f19695",
   "metadata": {},
   "outputs": [],
   "source": [
    "filtered_df.to_csv('updated_assessor_data.csv')"
   ]
  }
 ],
 "metadata": {
  "kernelspec": {
   "display_name": "Python 3 (ipykernel)",
   "language": "python",
   "name": "python3"
  },
  "language_info": {
   "codemirror_mode": {
    "name": "ipython",
    "version": 3
   },
   "file_extension": ".py",
   "mimetype": "text/x-python",
   "name": "python",
   "nbconvert_exporter": "python",
   "pygments_lexer": "ipython3",
   "version": "3.9.12"
  }
 },
 "nbformat": 4,
 "nbformat_minor": 5
}
