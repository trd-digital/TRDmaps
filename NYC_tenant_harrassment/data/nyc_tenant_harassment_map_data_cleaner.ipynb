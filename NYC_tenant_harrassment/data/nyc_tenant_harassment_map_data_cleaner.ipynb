{
 "cells": [
  {
   "cell_type": "markdown",
   "id": "6f3732db",
   "metadata": {},
   "source": [
    "## Imports and Read-in"
   ]
  },
  {
   "cell_type": "code",
   "execution_count": 141,
   "id": "333dfc18",
   "metadata": {},
   "outputs": [],
   "source": [
    "import os\n",
    "import pandas as pd\n",
    "from pandas_geojson import to_geojson, write_geojson"
   ]
  },
  {
   "cell_type": "code",
   "execution_count": 142,
   "id": "dc2307f3",
   "metadata": {},
   "outputs": [],
   "source": [
    "df = pd.read_csv('Housing_Litigations.csv')"
   ]
  },
  {
   "cell_type": "markdown",
   "id": "2059591f",
   "metadata": {},
   "source": [
    "## Map Maker"
   ]
  },
  {
   "cell_type": "code",
   "execution_count": 143,
   "id": "76af7846",
   "metadata": {},
   "outputs": [
    {
     "data": {
      "text/plain": [
       "Index(['LitigationID', 'BuildingID', 'Boro', 'HouseNumber', 'StreetName',\n",
       "       'Zip', 'Block', 'Lot', 'CaseType', 'CaseOpenDate', 'CaseStatus',\n",
       "       'OpenJudgement', 'FindingOfHarassment', 'FindingDate', 'Penalty',\n",
       "       'Respondent', 'Latitude', 'Longitude', 'Community District',\n",
       "       'Council District', 'Census Tract', 'BIN', 'BBL', 'NTA'],\n",
       "      dtype='object')"
      ]
     },
     "execution_count": 143,
     "metadata": {},
     "output_type": "execute_result"
    }
   ],
   "source": [
    "df.columns"
   ]
  },
  {
   "cell_type": "code",
   "execution_count": 144,
   "id": "67b6f974",
   "metadata": {},
   "outputs": [
    {
     "data": {
      "text/plain": [
       "Tenant Action                   84340\n",
       "Heat and Hot Water              48602\n",
       "Access Warrant - Non-Lead       17768\n",
       "Tenant Action/Harrassment       14439\n",
       "False Certification Non-Lead     7524\n",
       "Comprehensive                    7244\n",
       "Access Warrant - lead            3916\n",
       "CONH                             2364\n",
       "Comp Supplemental Cases          2037\n",
       "Lead False Certification          675\n",
       "7A                                358\n",
       "Heat Supplemental Cases           317\n",
       "Failure to Register Only          245\n",
       "HLD - Other Case Type               8\n",
       "Name: CaseType, dtype: int64"
      ]
     },
     "execution_count": 144,
     "metadata": {},
     "output_type": "execute_result"
    }
   ],
   "source": [
    "df['CaseType'].value_counts()"
   ]
  },
  {
   "cell_type": "code",
   "execution_count": 145,
   "id": "9d6f6c16",
   "metadata": {},
   "outputs": [],
   "source": [
    "df2 = df.loc[df['CaseType'] == 'Tenant Action/Harrassment']"
   ]
  },
  {
   "cell_type": "code",
   "execution_count": 146,
   "id": "0707798c",
   "metadata": {},
   "outputs": [],
   "source": [
    "df2 = df2.dropna(subset='Latitude')"
   ]
  },
  {
   "cell_type": "code",
   "execution_count": 147,
   "id": "43a3c5f3",
   "metadata": {},
   "outputs": [
    {
     "data": {
      "text/plain": [
       "False    14416\n",
       "Name: Latitude, dtype: int64"
      ]
     },
     "execution_count": 147,
     "metadata": {},
     "output_type": "execute_result"
    }
   ],
   "source": [
    "df2['Latitude'].isna().value_counts()"
   ]
  },
  {
   "cell_type": "code",
   "execution_count": 148,
   "id": "5c4f2959",
   "metadata": {},
   "outputs": [
    {
     "data": {
      "text/plain": [
       "0         05/18/2016\n",
       "1         03/03/2020\n",
       "2         01/25/2011\n",
       "3         10/25/2013\n",
       "4         06/28/2010\n",
       "             ...    \n",
       "189832    11/30/2021\n",
       "189833    11/25/2022\n",
       "189834    11/22/2022\n",
       "189835    11/10/2022\n",
       "189836    10/27/2022\n",
       "Name: CaseOpenDate, Length: 189837, dtype: object"
      ]
     },
     "execution_count": 148,
     "metadata": {},
     "output_type": "execute_result"
    }
   ],
   "source": [
    "df['CaseOpenDate']"
   ]
  },
  {
   "cell_type": "code",
   "execution_count": 149,
   "id": "de8dcb50",
   "metadata": {},
   "outputs": [],
   "source": [
    "df2['CaseOpenYear'] = df2['CaseOpenDate'].str[6:]"
   ]
  },
  {
   "cell_type": "code",
   "execution_count": 150,
   "id": "61b8f869",
   "metadata": {},
   "outputs": [
    {
     "data": {
      "text/plain": [
       "2022    1879\n",
       "2019    1627\n",
       "2021    1608\n",
       "2018    1205\n",
       "2020    1131\n",
       "2016    1106\n",
       "2017    1081\n",
       "2015     897\n",
       "2014     803\n",
       "2013     774\n",
       "2012     654\n",
       "2010     493\n",
       "2011     444\n",
       "2009     440\n",
       "2008     272\n",
       "2004       1\n",
       "2030       1\n",
       "Name: CaseOpenYear, dtype: int64"
      ]
     },
     "execution_count": 150,
     "metadata": {},
     "output_type": "execute_result"
    }
   ],
   "source": [
    "df2.CaseOpenYear.value_counts()"
   ]
  },
  {
   "cell_type": "code",
   "execution_count": 151,
   "id": "78efb1bd",
   "metadata": {},
   "outputs": [
    {
     "data": {
      "text/plain": [
       "Index(['LitigationID', 'BuildingID', 'Boro', 'HouseNumber', 'StreetName',\n",
       "       'Zip', 'Block', 'Lot', 'CaseType', 'CaseOpenDate', 'CaseStatus',\n",
       "       'OpenJudgement', 'FindingOfHarassment', 'FindingDate', 'Penalty',\n",
       "       'Respondent', 'Latitude', 'Longitude', 'Community District',\n",
       "       'Council District', 'Census Tract', 'BIN', 'BBL', 'NTA',\n",
       "       'CaseOpenYear'],\n",
       "      dtype='object')"
      ]
     },
     "execution_count": 151,
     "metadata": {},
     "output_type": "execute_result"
    }
   ],
   "source": [
    "df2.columns"
   ]
  },
  {
   "cell_type": "code",
   "execution_count": 152,
   "id": "3988139e",
   "metadata": {},
   "outputs": [
    {
     "data": {
      "text/plain": [
       "No Harassment    3723\n",
       "After Inquest     151\n",
       "After Trial        43\n",
       "Name: FindingOfHarassment, dtype: int64"
      ]
     },
     "execution_count": 152,
     "metadata": {},
     "output_type": "execute_result"
    }
   ],
   "source": [
    "df2.FindingOfHarassment.value_counts()"
   ]
  },
  {
   "cell_type": "code",
   "execution_count": 153,
   "id": "1cb2b6e7",
   "metadata": {},
   "outputs": [],
   "source": [
    "# df2['CaseOpenYear_X'] = df2['CaseOpenYear']\n",
    "# df2['CaseOpenYear_X'] = pd.to_numeric(df2['CaseOpenYear_X'])"
   ]
  },
  {
   "cell_type": "code",
   "execution_count": 154,
   "id": "ac991d94",
   "metadata": {},
   "outputs": [],
   "source": [
    "# df2 = df2.loc[df2['CaseOpenYear_X'] > 2017]\n",
    "# df2 = df2.loc[df2['CaseOpenYear_X'] < 2023]"
   ]
  },
  {
   "cell_type": "code",
   "execution_count": 155,
   "id": "45553c02",
   "metadata": {},
   "outputs": [],
   "source": [
    "df2 = df2.fillna('N/A')"
   ]
  },
  {
   "cell_type": "code",
   "execution_count": null,
   "id": "36095068",
   "metadata": {},
   "outputs": [],
   "source": [
    "df2['CaseOpenYear'] = df2['CaseOpenYear'].astype(str)"
   ]
  },
  {
   "cell_type": "code",
   "execution_count": 156,
   "id": "cc0ab311",
   "metadata": {},
   "outputs": [],
   "source": [
    "df_2018 = df2.loc[df2['CaseOpenYear'] == '2018']\n",
    "df_2019 = df2.loc[df2['CaseOpenYear'] == '2019']\n",
    "df_2020 = df2.loc[df2['CaseOpenYear'] == ''2020'']\n",
    "df_2021 = df2.loc[df2['CaseOpenYear'] == 2021]\n",
    "df_2022 = df2.loc[df2['CaseOpenYear'] == 2022]"
   ]
  },
  {
   "cell_type": "code",
   "execution_count": 167,
   "id": "227f470d",
   "metadata": {},
   "outputs": [],
   "source": []
  },
  {
   "cell_type": "code",
   "execution_count": 157,
   "id": "07fbe88f",
   "metadata": {},
   "outputs": [],
   "source": [
    "geo_json = to_geojson(df=df2, lat='Latitude', lon='Longitude',\n",
    "                     properties=['LitigationID','BuildingID','Boro','HouseNumber','StreetName','CaseOpenDate','CaseStatus','OpenJudgement','FindingOfHarassment','FindingDate','Penalty','Respondent','CaseOpenYear'])\n",
    "write_geojson(geo_json, filename='NYC_tenant_harassment.geojson', indent=4)"
   ]
  },
  {
   "cell_type": "code",
   "execution_count": 165,
   "id": "bcc968d4",
   "metadata": {},
   "outputs": [],
   "source": [
    "geo_json = to_geojson(df=df_2018, lat='Latitude', lon='Longitude',\n",
    "                     properties=['LitigationID','BuildingID','Boro','HouseNumber','StreetName','CaseOpenDate','CaseStatus','OpenJudgement','FindingOfHarassment','FindingDate','Penalty','Respondent','CaseOpenYear'])\n",
    "write_geojson(geo_json, filename='NYC_tenant_harassment2018.geojson', indent=4)"
   ]
  },
  {
   "cell_type": "code",
   "execution_count": 159,
   "id": "635f3112",
   "metadata": {},
   "outputs": [],
   "source": [
    "geo_json = to_geojson(df=df_2019, lat='Latitude', lon='Longitude',\n",
    "                     properties=['LitigationID','BuildingID','Boro','HouseNumber','StreetName','CaseOpenDate','CaseStatus','OpenJudgement','FindingOfHarassment','FindingDate','Penalty','Respondent','CaseOpenYear'])\n",
    "write_geojson(geo_json, filename='NYC_tenant_harassment2019.geojson', indent=4)"
   ]
  },
  {
   "cell_type": "code",
   "execution_count": 160,
   "id": "30966f25",
   "metadata": {},
   "outputs": [],
   "source": [
    "geo_json = to_geojson(df=df_2020, lat='Latitude', lon='Longitude',\n",
    "                     properties=['LitigationID','BuildingID','Boro','HouseNumber','StreetName','CaseOpenDate','CaseStatus','OpenJudgement','FindingOfHarassment','FindingDate','Penalty','Respondent','CaseOpenYear'])\n",
    "write_geojson(geo_json, filename='NYC_tenant_harassment2020.geojson', indent=4)"
   ]
  },
  {
   "cell_type": "code",
   "execution_count": 161,
   "id": "24b1d91c",
   "metadata": {},
   "outputs": [],
   "source": [
    "geo_json = to_geojson(df=df_2021, lat='Latitude', lon='Longitude',\n",
    "                     properties=['LitigationID','BuildingID','Boro','HouseNumber','StreetName','CaseOpenDate','CaseStatus','OpenJudgement','FindingOfHarassment','FindingDate','Penalty','Respondent','CaseOpenYear'])\n",
    "write_geojson(geo_json, filename='NYC_tenant_harassment2021.geojson', indent=4)"
   ]
  },
  {
   "cell_type": "code",
   "execution_count": 162,
   "id": "1b39dda4",
   "metadata": {},
   "outputs": [],
   "source": [
    "geo_json = to_geojson(df=df_2022, lat='Latitude', lon='Longitude',\n",
    "                     properties=['LitigationID','BuildingID','Boro','HouseNumber','StreetName','CaseOpenDate','CaseStatus','OpenJudgement','FindingOfHarassment','FindingDate','Penalty','Respondent','CaseOpenYear'])\n",
    "write_geojson(geo_json, filename='NYC_tenant_harassment2022.geojson', indent=4)"
   ]
  },
  {
   "cell_type": "code",
   "execution_count": 163,
   "id": "abf5531b",
   "metadata": {},
   "outputs": [],
   "source": [
    "base_name = 'https://trd-digital.github.io/trd-news-interactive-maps/NYC_tenant_harassment'"
   ]
  },
  {
   "cell_type": "code",
   "execution_count": 164,
   "id": "a69ae9f1",
   "metadata": {},
   "outputs": [
    {
     "name": "stdout",
     "output_type": "stream",
     "text": [
      "https://trd-digital.github.io/trd-news-interactive-maps/NYC_tenant_harassment\n"
     ]
    }
   ],
   "source": [
    "print(base_name)"
   ]
  }
 ],
 "metadata": {
  "kernelspec": {
   "display_name": "Python 3 (ipykernel)",
   "language": "python",
   "name": "python3"
  },
  "language_info": {
   "codemirror_mode": {
    "name": "ipython",
    "version": 3
   },
   "file_extension": ".py",
   "mimetype": "text/x-python",
   "name": "python",
   "nbconvert_exporter": "python",
   "pygments_lexer": "ipython3",
   "version": "3.9.12"
  }
 },
 "nbformat": 4,
 "nbformat_minor": 5
}
