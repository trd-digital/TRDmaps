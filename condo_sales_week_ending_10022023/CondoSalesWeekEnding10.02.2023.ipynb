{
 "cells": [
  {
   "cell_type": "markdown",
   "metadata": {},
   "source": [
    "## Imports"
   ]
  },
  {
   "cell_type": "code",
   "execution_count": 1,
   "metadata": {},
   "outputs": [],
   "source": [
    "import googlemaps\n",
    "import pandas as pd\n",
    "import numpy as np\n",
    "import re\n",
    "import os\n",
    "import geopandas as gpd\n",
    "import folium\n",
    "import tabula"
   ]
  },
  {
   "cell_type": "markdown",
   "metadata": {},
   "source": [
    "## Read-in"
   ]
  },
  {
   "cell_type": "code",
   "execution_count": 2,
   "metadata": {},
   "outputs": [],
   "source": [
    "# Gotta figure out how to get rid of the java error.\n",
    "# SO: https://stackoverflow.com/questions/54817211/java-command-is-not-found-from-this-python-process-please-ensure-java-is-inst\n",
    "\n",
    "dsf = tabula.read_pdf('condo.pdf', pages='all')"
   ]
  },
  {
   "cell_type": "markdown",
   "metadata": {},
   "source": [
    "## Clean Data"
   ]
  },
  {
   "cell_type": "code",
   "execution_count": 3,
   "metadata": {},
   "outputs": [],
   "source": [
    "df = dsf[0]\n",
    "df.columns = df.iloc[0]\n",
    "df = df[1:]\n",
    "df = df.drop(columns=df.columns[0])\n",
    "df = df.replace(np.nan, 'Not Available', regex=True)\n",
    "df = df.rename(columns={'Building / Address / City': 'building_address_city','Days on\\rMarket':'days_on_market',\\\n",
    "                        'Price /\\rSq. Ft.':'price_per_sqft'})\n",
    "df['building_address_city'] = df['building_address_city'].str.replace('^0', '', regex=True)\n",
    "df['geo_address'] = df['building_address_city']\n",
    "df['geo_address'] = df['geo_address'].map(lambda x: re.sub(r'\\r', ' ', x))\n",
    "df = df.replace('\\n',' ',regex=True)\n",
    "pattern = r'^(?P<building_name>[\\d\\s]*[A-Za-z\\s]+)\\s(?P<address>.+)\\s(?P<city>[A-Za-z\\s]+)$'\n",
    "df2 = df['geo_address']\n",
    "df2 = df2.to_frame()\n",
    "df2[['building_name', 'address', 'city']] = df2['geo_address'].str.extract(pattern, expand=True)"
   ]
  },
  {
   "cell_type": "markdown",
   "metadata": {},
   "source": [
    "Review this later (it's about how to properly merge DFs): https://pandas.pydata.org/pandas-docs/stable/user_guide/merging.html"
   ]
  },
  {
   "cell_type": "markdown",
   "metadata": {},
   "source": [
    "## Geocode"
   ]
  },
  {
   "cell_type": "code",
   "execution_count": 4,
   "metadata": {},
   "outputs": [],
   "source": [
    "result = pd.merge(df,df2,left_index=True, right_index=True)\n",
    "df = result\n",
    "df = df.drop(columns='city')"
   ]
  },
  {
   "cell_type": "code",
   "execution_count": 5,
   "metadata": {},
   "outputs": [],
   "source": [
    "%store -r google_maps_API_Key\n",
    "gmaps_key = googlemaps.Client(key=google_maps_API_Key)"
   ]
  },
  {
   "cell_type": "code",
   "execution_count": 6,
   "metadata": {},
   "outputs": [],
   "source": [
    "def geocode(add):\n",
    "    g = gmaps_key.geocode(add)\n",
    "    lat = g[0][\"geometry\"][\"location\"][\"lat\"]\n",
    "    lng = g[0][\"geometry\"][\"location\"][\"lng\"]\n",
    "    return (lat, lng)\n",
    "\n",
    "df['geocoded'] = df['geo_address_x'].apply(geocode)"
   ]
  },
  {
   "cell_type": "code",
   "execution_count": 7,
   "metadata": {},
   "outputs": [],
   "source": [
    "df['geocoded'] = df['geocoded'].astype(str)\n",
    "df[['lat', 'lon']] = df['geocoded'].str.strip('()').str.split(', ', expand=True)\n",
    "df['lat'] = df['lat'].astype(float)\n",
    "df['lon'] = df['lon'].astype(float)"
   ]
  },
  {
   "cell_type": "markdown",
   "metadata": {},
   "source": [
    "Folium documentation link: https://python-visualization.github.io/folium/index.html\n",
    "\n",
    "Folium is the library that lets us use leaflet with Python, since it's meant to be used with JavaScript.\n",
    "\n",
    "For adding titles: https://stackoverflow.com/questions/61928013/adding-a-title-or-text-to-a-folium-map"
   ]
  },
  {
   "cell_type": "markdown",
   "metadata": {},
   "source": [
    "## Correction section"
   ]
  },
  {
   "cell_type": "code",
   "execution_count": 8,
   "metadata": {},
   "outputs": [],
   "source": [
    "# df.at[index#,'col_name']"
   ]
  },
  {
   "cell_type": "markdown",
   "metadata": {},
   "source": [
    "## Format Data"
   ]
  },
  {
   "cell_type": "code",
   "execution_count": 9,
   "metadata": {},
   "outputs": [],
   "source": [
    "### Insert NaNs if needed ###\n",
    "df = df.replace('N/A', np.nan)"
   ]
  },
  {
   "cell_type": "code",
   "execution_count": 10,
   "metadata": {},
   "outputs": [],
   "source": [
    "df['int_Sale_Price'] = df['Sale Price'].str.replace('$','',regex=False)"
   ]
  },
  {
   "cell_type": "code",
   "execution_count": 11,
   "metadata": {},
   "outputs": [],
   "source": [
    "df['int_Sale_Price'] = df['int_Sale_Price'].str.replace(',','',regex=False)"
   ]
  },
  {
   "cell_type": "code",
   "execution_count": 12,
   "metadata": {},
   "outputs": [],
   "source": [
    "df['int_Sale_Price'] = pd.to_numeric(df['int_Sale_Price'])"
   ]
  },
  {
   "cell_type": "code",
   "execution_count": 13,
   "metadata": {},
   "outputs": [],
   "source": [
    "df['price_per_sqft'] = df['price_per_sqft'].str.replace('$','',regex=False)\n",
    "df['price_per_sqft'] = df['price_per_sqft'].str.replace(',','',regex=False)\n",
    "df['price_per_sqft'] = pd.to_numeric(df['price_per_sqft'])\n",
    "\n",
    "df['days_on_market'] = pd.to_numeric(df['days_on_market'])"
   ]
  },
  {
   "cell_type": "markdown",
   "metadata": {},
   "source": [
    "## Color-code top sale"
   ]
  },
  {
   "cell_type": "code",
   "execution_count": 14,
   "metadata": {},
   "outputs": [],
   "source": [
    "### Insert RANK values ###\n",
    "df['RANK'] = range(1, len(df) + 1)\n",
    "# use numpy to assign values to the 'COLOR' column\n",
    "df['COLOR'] = np.where(df['RANK'] <= 1, 'orange', 'blue')"
   ]
  },
  {
   "cell_type": "markdown",
   "metadata": {},
   "source": [
    "## HTML Popup Formatter"
   ]
  },
  {
   "cell_type": "code",
   "execution_count": 15,
   "metadata": {},
   "outputs": [
    {
     "data": {
      "text/plain": [
       "Index(['building_address_city', 'Close Date', 'days_on_market', 'Sale Price',\n",
       "       'Sq. Ft.', 'price_per_sqft', 'Agent', 'Listing Broker', 'Buyer Agent',\n",
       "       'Buyer Broker', 'geo_address_x', 'geo_address_y', 'building_name',\n",
       "       'address', 'geocoded', 'lat', 'lon', 'int_Sale_Price', 'RANK', 'COLOR'],\n",
       "      dtype='object')"
      ]
     },
     "execution_count": 15,
     "metadata": {},
     "output_type": "execute_result"
    }
   ],
   "source": [
    "df.columns"
   ]
  },
  {
   "cell_type": "code",
   "execution_count": 16,
   "metadata": {},
   "outputs": [],
   "source": [
    "def popup_html(row):\n",
    "    building_name = row['building_name']\n",
    "    price = row['Sale Price']\n",
    "    days_on_market = row['days_on_market']\n",
    "    listing_agent = row['Agent']\n",
    "    buyers_agent = row['Buyer Agent']\n",
    "    psf = row['price_per_sqft']\n",
    "    address = row['address']\n",
    "    \n",
    "    html = '''<!DOCTYPE html>\n",
    "    <html>\n",
    "    <strong>Building Name: </strong>{}'''.format(building_name) + '''<br>\n",
    "    <strong>Sale Price: </strong>{}'''.format(price) + '''<br>\n",
    "    <strong>Days on Market: </strong>{}'''.format(days_on_market) + '''<br>\n",
    "    <strong>Listing Agent: </strong>{}'''.format(listing_agent) + '''<br>\n",
    "    <strong>Buyer's Agent: </strong>{}'''.format(buyers_agent) + '''<br>\n",
    "    <strong>Price sq ft: </strong>${}'''.format(psf) + '''<br>\n",
    "    <strong>Address: </strong>{}'''.format(address) + '''<br>\n",
    "    </html>\n",
    "    '''\n",
    "    return html"
   ]
  },
  {
   "cell_type": "code",
   "execution_count": 24,
   "metadata": {},
   "outputs": [
    {
     "data": {
      "text/html": [
       "<div style=\"width:100%;\"><div style=\"position:relative;width:100%;height:0;padding-bottom:60%;\"><span style=\"color:#565656\">Make this Notebook Trusted to load map: File -> Trust Notebook</span><iframe srcdoc=\"&lt;!DOCTYPE html&gt;\n",
       "&lt;head&gt;    \n",
       "    &lt;meta http-equiv=&quot;content-type&quot; content=&quot;text/html; charset=UTF-8&quot; /&gt;\n",
       "    \n",
       "        &lt;script&gt;\n",
       "            L_NO_TOUCH = false;\n",
       "            L_DISABLE_3D = false;\n",
       "        &lt;/script&gt;\n",
       "    \n",
       "    &lt;style&gt;html, body {width: 100%;height: 100%;margin: 0;padding: 0;}&lt;/style&gt;\n",
       "    &lt;style&gt;#map {position:absolute;top:0;bottom:0;right:0;left:0;}&lt;/style&gt;\n",
       "    &lt;script src=&quot;https://cdn.jsdelivr.net/npm/leaflet@1.6.0/dist/leaflet.js&quot;&gt;&lt;/script&gt;\n",
       "    &lt;script src=&quot;https://code.jquery.com/jquery-1.12.4.min.js&quot;&gt;&lt;/script&gt;\n",
       "    &lt;script src=&quot;https://maxcdn.bootstrapcdn.com/bootstrap/3.2.0/js/bootstrap.min.js&quot;&gt;&lt;/script&gt;\n",
       "    &lt;script src=&quot;https://cdnjs.cloudflare.com/ajax/libs/Leaflet.awesome-markers/2.0.2/leaflet.awesome-markers.js&quot;&gt;&lt;/script&gt;\n",
       "    &lt;link rel=&quot;stylesheet&quot; href=&quot;https://cdn.jsdelivr.net/npm/leaflet@1.6.0/dist/leaflet.css&quot;/&gt;\n",
       "    &lt;link rel=&quot;stylesheet&quot; href=&quot;https://maxcdn.bootstrapcdn.com/bootstrap/3.2.0/css/bootstrap.min.css&quot;/&gt;\n",
       "    &lt;link rel=&quot;stylesheet&quot; href=&quot;https://maxcdn.bootstrapcdn.com/bootstrap/3.2.0/css/bootstrap-theme.min.css&quot;/&gt;\n",
       "    &lt;link rel=&quot;stylesheet&quot; href=&quot;https://maxcdn.bootstrapcdn.com/font-awesome/4.6.3/css/font-awesome.min.css&quot;/&gt;\n",
       "    &lt;link rel=&quot;stylesheet&quot; href=&quot;https://cdnjs.cloudflare.com/ajax/libs/Leaflet.awesome-markers/2.0.2/leaflet.awesome-markers.css&quot;/&gt;\n",
       "    &lt;link rel=&quot;stylesheet&quot; href=&quot;https://cdn.jsdelivr.net/gh/python-visualization/folium/folium/templates/leaflet.awesome.rotate.min.css&quot;/&gt;\n",
       "    \n",
       "            &lt;meta name=&quot;viewport&quot; content=&quot;width=device-width,\n",
       "                initial-scale=1.0, maximum-scale=1.0, user-scalable=no&quot; /&gt;\n",
       "            &lt;style&gt;\n",
       "                #map_0885702e4f3ccb99ad964db2b7b34a8d {\n",
       "                    position: relative;\n",
       "                    width: 100.0%;\n",
       "                    height: 100.0%;\n",
       "                    left: 0.0%;\n",
       "                    top: 0.0%;\n",
       "                }\n",
       "            &lt;/style&gt;\n",
       "        \n",
       "&lt;/head&gt;\n",
       "&lt;body&gt;    \n",
       "    \n",
       "              &lt;h3 align=&quot;center&quot; style=&quot;font-size:16px&quot;&gt;&lt;b&gt;Recent Miami-Dade Condo Sales &lt;/b&gt;&lt;/h3&gt;\n",
       "             \n",
       "    \n",
       "                &lt;p align=&quot;center&quot; style=&quot;vertical-align: bottom; font-size:13px&quot;&gt;&lt;i&gt;September 17th - September 23rd&lt;/i&gt;&lt;/p&gt;\n",
       "                \n",
       "    \n",
       "            &lt;div class=&quot;folium-map&quot; id=&quot;map_0885702e4f3ccb99ad964db2b7b34a8d&quot; &gt;&lt;/div&gt;\n",
       "        \n",
       "&lt;/body&gt;\n",
       "&lt;script&gt;    \n",
       "    \n",
       "            var map_0885702e4f3ccb99ad964db2b7b34a8d = L.map(\n",
       "                &quot;map_0885702e4f3ccb99ad964db2b7b34a8d&quot;,\n",
       "                {\n",
       "                    center: [25.85297053, -80.13843177],\n",
       "                    crs: L.CRS.EPSG3857,\n",
       "                    zoom: 9.5,\n",
       "                    zoomControl: true,\n",
       "                    preferCanvas: false,\n",
       "                }\n",
       "            );\n",
       "\n",
       "            \n",
       "\n",
       "        \n",
       "    \n",
       "            var feature_group_4e5751b524269a43690b21297e2ca13c = L.featureGroup(\n",
       "                {}\n",
       "            ).addTo(map_0885702e4f3ccb99ad964db2b7b34a8d);\n",
       "        \n",
       "    \n",
       "            var marker_dece5918efa6217c5dbec0e2fbe84bc1 = L.marker(\n",
       "                [25.7626891, -80.1484152],\n",
       "                {&quot;fill&quot;: true, &quot;radius&quot;: 5}\n",
       "            ).addTo(feature_group_4e5751b524269a43690b21297e2ca13c);\n",
       "        \n",
       "    \n",
       "            var icon_3605c14c9d79271687830b3894868edb = L.AwesomeMarkers.icon(\n",
       "                {&quot;extraClasses&quot;: &quot;fa-rotate-0&quot;, &quot;icon&quot;: &quot;info-sign&quot;, &quot;iconColor&quot;: &quot;white&quot;, &quot;markerColor&quot;: &quot;orange&quot;, &quot;prefix&quot;: &quot;glyphicon&quot;}\n",
       "            );\n",
       "            marker_dece5918efa6217c5dbec0e2fbe84bc1.setIcon(icon_3605c14c9d79271687830b3894868edb);\n",
       "        \n",
       "    \n",
       "        var popup_c4797461cba6ded1c2316fc43b91268e = L.popup({&quot;maxWidth&quot;: 400});\n",
       "\n",
       "        \n",
       "            \n",
       "                var html_51130bf67f1e475966e9036f8e83154e = $(`&lt;div id=&quot;html_51130bf67f1e475966e9036f8e83154e&quot; style=&quot;width: 100.0%; height: 100.0%;&quot;&gt;&lt;!DOCTYPE html&gt;     &lt;html&gt;     &lt;strong&gt;Building Name: &lt;/strong&gt;Bayview fisher Island Condo&lt;br&gt;     &lt;strong&gt;Sale Price: &lt;/strong&gt;$5,500,000.00&lt;br&gt;     &lt;strong&gt;Days on Market: &lt;/strong&gt;3&lt;br&gt;     &lt;strong&gt;Listing Agent: &lt;/strong&gt;Liz Hogan&lt;br&gt;     &lt;strong&gt;Buyer&#x27;s Agent: &lt;/strong&gt;Karla Abaunza&lt;br&gt;     &lt;strong&gt;Price sq ft: &lt;/strong&gt;$2007.3&lt;br&gt;     &lt;strong&gt;Address: &lt;/strong&gt;5236 Fisher Island Dr 5236 Miami&lt;br&gt;     &lt;/html&gt;     &lt;/div&gt;`)[0];\n",
       "                popup_c4797461cba6ded1c2316fc43b91268e.setContent(html_51130bf67f1e475966e9036f8e83154e);\n",
       "            \n",
       "        \n",
       "\n",
       "        marker_dece5918efa6217c5dbec0e2fbe84bc1.bindPopup(popup_c4797461cba6ded1c2316fc43b91268e)\n",
       "        ;\n",
       "\n",
       "        \n",
       "    \n",
       "    \n",
       "            var feature_group_dd7918e98c7a2c5f6ec8b2f6af033d89 = L.featureGroup(\n",
       "                {}\n",
       "            ).addTo(map_0885702e4f3ccb99ad964db2b7b34a8d);\n",
       "        \n",
       "    \n",
       "            var marker_6d3fc38b8f19ccac82486dd02a96c8b8 = L.marker(\n",
       "                [25.7397222, -80.2188889],\n",
       "                {&quot;fill&quot;: true, &quot;radius&quot;: 5}\n",
       "            ).addTo(feature_group_dd7918e98c7a2c5f6ec8b2f6af033d89);\n",
       "        \n",
       "    \n",
       "            var icon_c6164db9f8f0f32174bf590c0f5f978a = L.AwesomeMarkers.icon(\n",
       "                {&quot;extraClasses&quot;: &quot;fa-rotate-0&quot;, &quot;icon&quot;: &quot;info-sign&quot;, &quot;iconColor&quot;: &quot;white&quot;, &quot;markerColor&quot;: &quot;blue&quot;, &quot;prefix&quot;: &quot;glyphicon&quot;}\n",
       "            );\n",
       "            marker_6d3fc38b8f19ccac82486dd02a96c8b8.setIcon(icon_c6164db9f8f0f32174bf590c0f5f978a);\n",
       "        \n",
       "    \n",
       "        var popup_20e338c987f14e0b0890a664426fcbf4 = L.popup({&quot;maxWidth&quot;: 400});\n",
       "\n",
       "        \n",
       "            \n",
       "                var html_d06257a98b18795df9f0189f6ebdab41 = $(`&lt;div id=&quot;html_d06257a98b18795df9f0189f6ebdab41&quot; style=&quot;width: 100.0%; height: 100.0%;&quot;&gt;&lt;!DOCTYPE html&gt;     &lt;html&gt;     &lt;strong&gt;Building Name: &lt;/strong&gt;Residences at Vizcaya Condo&lt;br&gt;     &lt;strong&gt;Sale Price: &lt;/strong&gt;$5,150,000.00&lt;br&gt;     &lt;strong&gt;Days on Market: &lt;/strong&gt;344&lt;br&gt;     &lt;strong&gt;Listing Agent: &lt;/strong&gt;Ana Rodriguez&lt;br&gt;     &lt;strong&gt;Buyer&#x27;s Agent: &lt;/strong&gt;Claudia Herrera&lt;br&gt;     &lt;strong&gt;Price sq ft: &lt;/strong&gt;$1156.52&lt;br&gt;     &lt;strong&gt;Address: &lt;/strong&gt;3535 Hiawatha Ave 503&lt;br&gt;     &lt;/html&gt;     &lt;/div&gt;`)[0];\n",
       "                popup_20e338c987f14e0b0890a664426fcbf4.setContent(html_d06257a98b18795df9f0189f6ebdab41);\n",
       "            \n",
       "        \n",
       "\n",
       "        marker_6d3fc38b8f19ccac82486dd02a96c8b8.bindPopup(popup_20e338c987f14e0b0890a664426fcbf4)\n",
       "        ;\n",
       "\n",
       "        \n",
       "    \n",
       "    \n",
       "            var marker_de4f9d7fd21a4ca363f370386648f546 = L.marker(\n",
       "                [25.8892229, -80.1228812],\n",
       "                {&quot;fill&quot;: true, &quot;radius&quot;: 5}\n",
       "            ).addTo(feature_group_dd7918e98c7a2c5f6ec8b2f6af033d89);\n",
       "        \n",
       "    \n",
       "            var icon_3a88cbcfd688d3fc1dc6b7448d4e290a = L.AwesomeMarkers.icon(\n",
       "                {&quot;extraClasses&quot;: &quot;fa-rotate-0&quot;, &quot;icon&quot;: &quot;info-sign&quot;, &quot;iconColor&quot;: &quot;white&quot;, &quot;markerColor&quot;: &quot;blue&quot;, &quot;prefix&quot;: &quot;glyphicon&quot;}\n",
       "            );\n",
       "            marker_de4f9d7fd21a4ca363f370386648f546.setIcon(icon_3a88cbcfd688d3fc1dc6b7448d4e290a);\n",
       "        \n",
       "    \n",
       "        var popup_d4eca9c265d19e5f1a838e91cec8cb50 = L.popup({&quot;maxWidth&quot;: 400});\n",
       "\n",
       "        \n",
       "            \n",
       "                var html_6673894287d9a6a1c5a78c2200bc3b89 = $(`&lt;div id=&quot;html_6673894287d9a6a1c5a78c2200bc3b89&quot; style=&quot;width: 100.0%; height: 100.0%;&quot;&gt;&lt;!DOCTYPE html&gt;     &lt;html&gt;     &lt;strong&gt;Building Name: &lt;/strong&gt;St Regis Bal Harbour&lt;br&gt;     &lt;strong&gt;Sale Price: &lt;/strong&gt;$4,300,000.00&lt;br&gt;     &lt;strong&gt;Days on Market: &lt;/strong&gt;155&lt;br&gt;     &lt;strong&gt;Listing Agent: &lt;/strong&gt;Sergio Balinotti&lt;br&gt;     &lt;strong&gt;Buyer&#x27;s Agent: &lt;/strong&gt;Angela Matusian&lt;br&gt;     &lt;strong&gt;Price sq ft: &lt;/strong&gt;$2250.13&lt;br&gt;     &lt;strong&gt;Address: &lt;/strong&gt;9705 Collins Ave 1404N Bal&lt;br&gt;     &lt;/html&gt;     &lt;/div&gt;`)[0];\n",
       "                popup_d4eca9c265d19e5f1a838e91cec8cb50.setContent(html_6673894287d9a6a1c5a78c2200bc3b89);\n",
       "            \n",
       "        \n",
       "\n",
       "        marker_de4f9d7fd21a4ca363f370386648f546.bindPopup(popup_d4eca9c265d19e5f1a838e91cec8cb50)\n",
       "        ;\n",
       "\n",
       "        \n",
       "    \n",
       "    \n",
       "            var marker_bf531ec6d4d910a6d8e464e0d69e78f7 = L.marker(\n",
       "                [25.8876511, -80.1223168],\n",
       "                {&quot;fill&quot;: true, &quot;radius&quot;: 5}\n",
       "            ).addTo(feature_group_dd7918e98c7a2c5f6ec8b2f6af033d89);\n",
       "        \n",
       "    \n",
       "            var icon_5e87694857683de22320f0cff682cdc3 = L.AwesomeMarkers.icon(\n",
       "                {&quot;extraClasses&quot;: &quot;fa-rotate-0&quot;, &quot;icon&quot;: &quot;info-sign&quot;, &quot;iconColor&quot;: &quot;white&quot;, &quot;markerColor&quot;: &quot;blue&quot;, &quot;prefix&quot;: &quot;glyphicon&quot;}\n",
       "            );\n",
       "            marker_bf531ec6d4d910a6d8e464e0d69e78f7.setIcon(icon_5e87694857683de22320f0cff682cdc3);\n",
       "        \n",
       "    \n",
       "        var popup_8c95e858cb075cf80ac694cd32bac085 = L.popup({&quot;maxWidth&quot;: 400});\n",
       "\n",
       "        \n",
       "            \n",
       "                var html_4bc1057f53fcfcb80ebe0b101679f5a9 = $(`&lt;div id=&quot;html_4bc1057f53fcfcb80ebe0b101679f5a9&quot; style=&quot;width: 100.0%; height: 100.0%;&quot;&gt;&lt;!DOCTYPE html&gt;     &lt;html&gt;     &lt;strong&gt;Building Name: &lt;/strong&gt;Majestic Tower&lt;br&gt;     &lt;strong&gt;Sale Price: &lt;/strong&gt;$3,850,000.00&lt;br&gt;     &lt;strong&gt;Days on Market: &lt;/strong&gt;344&lt;br&gt;     &lt;strong&gt;Listing Agent: &lt;/strong&gt;Marcelo Pagelsohn&lt;br&gt;     &lt;strong&gt;Buyer&#x27;s Agent: &lt;/strong&gt;Mikhail MudrIk&lt;br&gt;     &lt;strong&gt;Price sq ft: &lt;/strong&gt;$1584.36&lt;br&gt;     &lt;strong&gt;Address: &lt;/strong&gt;9601 Collins Ave 1010 Bal&lt;br&gt;     &lt;/html&gt;     &lt;/div&gt;`)[0];\n",
       "                popup_8c95e858cb075cf80ac694cd32bac085.setContent(html_4bc1057f53fcfcb80ebe0b101679f5a9);\n",
       "            \n",
       "        \n",
       "\n",
       "        marker_bf531ec6d4d910a6d8e464e0d69e78f7.bindPopup(popup_8c95e858cb075cf80ac694cd32bac085)\n",
       "        ;\n",
       "\n",
       "        \n",
       "    \n",
       "    \n",
       "            var marker_e7ea8933b48f62c2c55eecc604924383 = L.marker(\n",
       "                [25.8951514, -80.1230855],\n",
       "                {&quot;fill&quot;: true, &quot;radius&quot;: 5}\n",
       "            ).addTo(feature_group_dd7918e98c7a2c5f6ec8b2f6af033d89);\n",
       "        \n",
       "    \n",
       "            var icon_a18f881339ca906531a437b349b3348b = L.AwesomeMarkers.icon(\n",
       "                {&quot;extraClasses&quot;: &quot;fa-rotate-0&quot;, &quot;icon&quot;: &quot;info-sign&quot;, &quot;iconColor&quot;: &quot;white&quot;, &quot;markerColor&quot;: &quot;blue&quot;, &quot;prefix&quot;: &quot;glyphicon&quot;}\n",
       "            );\n",
       "            marker_e7ea8933b48f62c2c55eecc604924383.setIcon(icon_a18f881339ca906531a437b349b3348b);\n",
       "        \n",
       "    \n",
       "        var popup_535bf1fe563f57b1e6e5f9e7b0ab29d1 = L.popup({&quot;maxWidth&quot;: 400});\n",
       "\n",
       "        \n",
       "            \n",
       "                var html_66fd8851f07fdb33a3264e7530f28a24 = $(`&lt;div id=&quot;html_66fd8851f07fdb33a3264e7530f28a24&quot; style=&quot;width: 100.0%; height: 100.0%;&quot;&gt;&lt;!DOCTYPE html&gt;     &lt;html&gt;     &lt;strong&gt;Building Name: &lt;/strong&gt;Oceana Bal Harbour&lt;br&gt;     &lt;strong&gt;Sale Price: &lt;/strong&gt;$3,600,000.00&lt;br&gt;     &lt;strong&gt;Days on Market: &lt;/strong&gt;19&lt;br&gt;     &lt;strong&gt;Listing Agent: &lt;/strong&gt;Joel Lusky&lt;br&gt;     &lt;strong&gt;Buyer&#x27;s Agent: &lt;/strong&gt;Carolina Lara-Arashiro&lt;br&gt;     &lt;strong&gt;Price sq ft: &lt;/strong&gt;$1994.46&lt;br&gt;     &lt;strong&gt;Address: &lt;/strong&gt;10203 Collins Ave 211 Bal&lt;br&gt;     &lt;/html&gt;     &lt;/div&gt;`)[0];\n",
       "                popup_535bf1fe563f57b1e6e5f9e7b0ab29d1.setContent(html_66fd8851f07fdb33a3264e7530f28a24);\n",
       "            \n",
       "        \n",
       "\n",
       "        marker_e7ea8933b48f62c2c55eecc604924383.bindPopup(popup_535bf1fe563f57b1e6e5f9e7b0ab29d1)\n",
       "        ;\n",
       "\n",
       "        \n",
       "    \n",
       "    \n",
       "            var marker_8243c1a87a312711752636b2fda0c5dd = L.marker(\n",
       "                [25.9379684, -80.1207198],\n",
       "                {&quot;fill&quot;: true, &quot;radius&quot;: 5}\n",
       "            ).addTo(feature_group_dd7918e98c7a2c5f6ec8b2f6af033d89);\n",
       "        \n",
       "    \n",
       "            var icon_4966957a370159ffde74a15d091cd066 = L.AwesomeMarkers.icon(\n",
       "                {&quot;extraClasses&quot;: &quot;fa-rotate-0&quot;, &quot;icon&quot;: &quot;info-sign&quot;, &quot;iconColor&quot;: &quot;white&quot;, &quot;markerColor&quot;: &quot;blue&quot;, &quot;prefix&quot;: &quot;glyphicon&quot;}\n",
       "            );\n",
       "            marker_8243c1a87a312711752636b2fda0c5dd.setIcon(icon_4966957a370159ffde74a15d091cd066);\n",
       "        \n",
       "    \n",
       "        var popup_bd6de25b3bfece11a88c5d012b972a27 = L.popup({&quot;maxWidth&quot;: 400});\n",
       "\n",
       "        \n",
       "            \n",
       "                var html_e3bd5f7da2a12c143d5aeb5d4f0a76b7 = $(`&lt;div id=&quot;html_e3bd5f7da2a12c143d5aeb5d4f0a76b7&quot; style=&quot;width: 100.0%; height: 100.0%;&quot;&gt;&lt;!DOCTYPE html&gt;     &lt;html&gt;     &lt;strong&gt;Building Name: &lt;/strong&gt;Chateau Beach&lt;br&gt;     &lt;strong&gt;Sale Price: &lt;/strong&gt;$3,300,000.00&lt;br&gt;     &lt;strong&gt;Days on Market: &lt;/strong&gt;260&lt;br&gt;     &lt;strong&gt;Listing Agent: &lt;/strong&gt;Maria Barbosa&lt;br&gt;     &lt;strong&gt;Buyer&#x27;s Agent: &lt;/strong&gt;Viacheslav Kutsenko&lt;br&gt;     &lt;strong&gt;Price sq ft: &lt;/strong&gt;$1218.16&lt;br&gt;     &lt;strong&gt;Address: &lt;/strong&gt;17475 Collins Ave 2301 Sunny Isles&lt;br&gt;     &lt;/html&gt;     &lt;/div&gt;`)[0];\n",
       "                popup_bd6de25b3bfece11a88c5d012b972a27.setContent(html_e3bd5f7da2a12c143d5aeb5d4f0a76b7);\n",
       "            \n",
       "        \n",
       "\n",
       "        marker_8243c1a87a312711752636b2fda0c5dd.bindPopup(popup_bd6de25b3bfece11a88c5d012b972a27)\n",
       "        ;\n",
       "\n",
       "        \n",
       "    \n",
       "    \n",
       "            var marker_dbf3d30c7a7440fd20906486cb0e6d51 = L.marker(\n",
       "                [25.9344014, -80.1210054],\n",
       "                {&quot;fill&quot;: true, &quot;radius&quot;: 5}\n",
       "            ).addTo(feature_group_dd7918e98c7a2c5f6ec8b2f6af033d89);\n",
       "        \n",
       "    \n",
       "            var icon_53ffe8add32b006366319702011d70b7 = L.AwesomeMarkers.icon(\n",
       "                {&quot;extraClasses&quot;: &quot;fa-rotate-0&quot;, &quot;icon&quot;: &quot;info-sign&quot;, &quot;iconColor&quot;: &quot;white&quot;, &quot;markerColor&quot;: &quot;blue&quot;, &quot;prefix&quot;: &quot;glyphicon&quot;}\n",
       "            );\n",
       "            marker_dbf3d30c7a7440fd20906486cb0e6d51.setIcon(icon_53ffe8add32b006366319702011d70b7);\n",
       "        \n",
       "    \n",
       "        var popup_4e0ebd6c62236d11d5dcd69fbf37a9d7 = L.popup({&quot;maxWidth&quot;: 400});\n",
       "\n",
       "        \n",
       "            \n",
       "                var html_c0587381acda89add6a9337a4f63c351 = $(`&lt;div id=&quot;html_c0587381acda89add6a9337a4f63c351&quot; style=&quot;width: 100.0%; height: 100.0%;&quot;&gt;&lt;!DOCTYPE html&gt;     &lt;html&gt;     &lt;strong&gt;Building Name: &lt;/strong&gt;Jade Ocean&lt;br&gt;     &lt;strong&gt;Sale Price: &lt;/strong&gt;$2,600,000.00&lt;br&gt;     &lt;strong&gt;Days on Market: &lt;/strong&gt;468&lt;br&gt;     &lt;strong&gt;Listing Agent: &lt;/strong&gt;Clarissa Gurgulino&lt;br&gt;     &lt;strong&gt;Buyer&#x27;s Agent: &lt;/strong&gt;Denis Smykalov&lt;br&gt;     &lt;strong&gt;Price sq ft: &lt;/strong&gt;$1329.24&lt;br&gt;     &lt;strong&gt;Address: &lt;/strong&gt;17121 Collins Ave 1908 Sunny Isles&lt;br&gt;     &lt;/html&gt;     &lt;/div&gt;`)[0];\n",
       "                popup_4e0ebd6c62236d11d5dcd69fbf37a9d7.setContent(html_c0587381acda89add6a9337a4f63c351);\n",
       "            \n",
       "        \n",
       "\n",
       "        marker_dbf3d30c7a7440fd20906486cb0e6d51.bindPopup(popup_4e0ebd6c62236d11d5dcd69fbf37a9d7)\n",
       "        ;\n",
       "\n",
       "        \n",
       "    \n",
       "    \n",
       "            var marker_8e8fc771f10cd8ef53a38717377c6272 = L.marker(\n",
       "                [25.7897466, -80.1477749],\n",
       "                {&quot;fill&quot;: true, &quot;radius&quot;: 5}\n",
       "            ).addTo(feature_group_dd7918e98c7a2c5f6ec8b2f6af033d89);\n",
       "        \n",
       "    \n",
       "            var icon_0c46e44d9e08e632b79add476c9b0086 = L.AwesomeMarkers.icon(\n",
       "                {&quot;extraClasses&quot;: &quot;fa-rotate-0&quot;, &quot;icon&quot;: &quot;info-sign&quot;, &quot;iconColor&quot;: &quot;white&quot;, &quot;markerColor&quot;: &quot;blue&quot;, &quot;prefix&quot;: &quot;glyphicon&quot;}\n",
       "            );\n",
       "            marker_8e8fc771f10cd8ef53a38717377c6272.setIcon(icon_0c46e44d9e08e632b79add476c9b0086);\n",
       "        \n",
       "    \n",
       "        var popup_df8a84f0eb1a7350fe98d425ee814fd1 = L.popup({&quot;maxWidth&quot;: 400});\n",
       "\n",
       "        \n",
       "            \n",
       "                var html_d827b3c61c177faa5f0aa8120bfab190 = $(`&lt;div id=&quot;html_d827b3c61c177faa5f0aa8120bfab190&quot; style=&quot;width: 100.0%; height: 100.0%;&quot;&gt;&lt;!DOCTYPE html&gt;     &lt;html&gt;     &lt;strong&gt;Building Name: &lt;/strong&gt;Costa Brava&lt;br&gt;     &lt;strong&gt;Sale Price: &lt;/strong&gt;$2,050,000.00&lt;br&gt;     &lt;strong&gt;Days on Market: &lt;/strong&gt;136&lt;br&gt;     &lt;strong&gt;Listing Agent: &lt;/strong&gt;Danny Taha&lt;br&gt;     &lt;strong&gt;Buyer&#x27;s Agent: &lt;/strong&gt;Geane Brito&lt;br&gt;     &lt;strong&gt;Price sq ft: &lt;/strong&gt;$1182.92&lt;br&gt;     &lt;strong&gt;Address: &lt;/strong&gt;11 Island Ave 601 Miami&lt;br&gt;     &lt;/html&gt;     &lt;/div&gt;`)[0];\n",
       "                popup_df8a84f0eb1a7350fe98d425ee814fd1.setContent(html_d827b3c61c177faa5f0aa8120bfab190);\n",
       "            \n",
       "        \n",
       "\n",
       "        marker_8e8fc771f10cd8ef53a38717377c6272.bindPopup(popup_df8a84f0eb1a7350fe98d425ee814fd1)\n",
       "        ;\n",
       "\n",
       "        \n",
       "    \n",
       "    \n",
       "            var marker_8d05c16bdf7717ff169a7944d72e0fda = L.marker(\n",
       "                [25.9229565, -80.1217509],\n",
       "                {&quot;fill&quot;: true, &quot;radius&quot;: 5}\n",
       "            ).addTo(feature_group_dd7918e98c7a2c5f6ec8b2f6af033d89);\n",
       "        \n",
       "    \n",
       "            var icon_bcdebdc9a7e7ca1b2009aac4d7beb1d2 = L.AwesomeMarkers.icon(\n",
       "                {&quot;extraClasses&quot;: &quot;fa-rotate-0&quot;, &quot;icon&quot;: &quot;info-sign&quot;, &quot;iconColor&quot;: &quot;white&quot;, &quot;markerColor&quot;: &quot;blue&quot;, &quot;prefix&quot;: &quot;glyphicon&quot;}\n",
       "            );\n",
       "            marker_8d05c16bdf7717ff169a7944d72e0fda.setIcon(icon_bcdebdc9a7e7ca1b2009aac4d7beb1d2);\n",
       "        \n",
       "    \n",
       "        var popup_c5def60606216d2ae822752c306b0b45 = L.popup({&quot;maxWidth&quot;: 400});\n",
       "\n",
       "        \n",
       "            \n",
       "                var html_2d859774baad09c43a9b158bbc45d546 = $(`&lt;div id=&quot;html_2d859774baad09c43a9b158bbc45d546&quot; style=&quot;width: 100.0%; height: 100.0%;&quot;&gt;&lt;!DOCTYPE html&gt;     &lt;html&gt;     &lt;strong&gt;Building Name: &lt;/strong&gt;Trump Tower III&lt;br&gt;     &lt;strong&gt;Sale Price: &lt;/strong&gt;$2,010,000.00&lt;br&gt;     &lt;strong&gt;Days on Market: &lt;/strong&gt;7&lt;br&gt;     &lt;strong&gt;Listing Agent: &lt;/strong&gt;Diana Calle&lt;br&gt;     &lt;strong&gt;Buyer&#x27;s Agent: &lt;/strong&gt;Tatsiana Hladkaya&lt;br&gt;     &lt;strong&gt;Price sq ft: &lt;/strong&gt;$785.77&lt;br&gt;     &lt;strong&gt;Address: &lt;/strong&gt;15811 Collins Ave 4004 Sunny Isles&lt;br&gt;     &lt;/html&gt;     &lt;/div&gt;`)[0];\n",
       "                popup_c5def60606216d2ae822752c306b0b45.setContent(html_2d859774baad09c43a9b158bbc45d546);\n",
       "            \n",
       "        \n",
       "\n",
       "        marker_8d05c16bdf7717ff169a7944d72e0fda.bindPopup(popup_c5def60606216d2ae822752c306b0b45)\n",
       "        ;\n",
       "\n",
       "        \n",
       "    \n",
       "    \n",
       "            var marker_2ba76d4a33f6a95ea7bb2416487d8672 = L.marker(\n",
       "                [25.7701957, -80.1374791],\n",
       "                {&quot;fill&quot;: true, &quot;radius&quot;: 5}\n",
       "            ).addTo(feature_group_dd7918e98c7a2c5f6ec8b2f6af033d89);\n",
       "        \n",
       "    \n",
       "            var icon_6ad65b15a6d1737aa2739c207ddf795b = L.AwesomeMarkers.icon(\n",
       "                {&quot;extraClasses&quot;: &quot;fa-rotate-0&quot;, &quot;icon&quot;: &quot;info-sign&quot;, &quot;iconColor&quot;: &quot;white&quot;, &quot;markerColor&quot;: &quot;blue&quot;, &quot;prefix&quot;: &quot;glyphicon&quot;}\n",
       "            );\n",
       "            marker_2ba76d4a33f6a95ea7bb2416487d8672.setIcon(icon_6ad65b15a6d1737aa2739c207ddf795b);\n",
       "        \n",
       "    \n",
       "        var popup_e9352430ada51329216555c739984111 = L.popup({&quot;maxWidth&quot;: 400});\n",
       "\n",
       "        \n",
       "            \n",
       "                var html_fb59f1e205541aa66be2b5c00583d651 = $(`&lt;div id=&quot;html_fb59f1e205541aa66be2b5c00583d651&quot; style=&quot;width: 100.0%; height: 100.0%;&quot;&gt;&lt;!DOCTYPE html&gt;     &lt;html&gt;     &lt;strong&gt;Building Name: &lt;/strong&gt;The Courts at South Beach&lt;br&gt;     &lt;strong&gt;Sale Price: &lt;/strong&gt;$1,900,000.00&lt;br&gt;     &lt;strong&gt;Days on Market: &lt;/strong&gt;139&lt;br&gt;     &lt;strong&gt;Listing Agent: &lt;/strong&gt;Jonathan Corso&lt;br&gt;     &lt;strong&gt;Buyer&#x27;s Agent: &lt;/strong&gt;Alejandro Vasquez&lt;br&gt;     &lt;strong&gt;Price sq ft: &lt;/strong&gt;$783.51&lt;br&gt;     &lt;strong&gt;Address: &lt;/strong&gt;145 Jefferson Ave 423 Miami&lt;br&gt;     &lt;/html&gt;     &lt;/div&gt;`)[0];\n",
       "                popup_e9352430ada51329216555c739984111.setContent(html_fb59f1e205541aa66be2b5c00583d651);\n",
       "            \n",
       "        \n",
       "\n",
       "        marker_2ba76d4a33f6a95ea7bb2416487d8672.bindPopup(popup_e9352430ada51329216555c739984111)\n",
       "        ;\n",
       "\n",
       "        \n",
       "    \n",
       "    \n",
       "            var tile_layer_0d715ba0d1e9e44e3a60d250e2da68f3 = L.tileLayer(\n",
       "                &quot;https://{s}.tile.openstreetmap.org/{z}/{x}/{y}.png&quot;,\n",
       "                {&quot;attribution&quot;: &quot;Data by \\u0026copy; \\u003ca href=\\&quot;http://openstreetmap.org\\&quot;\\u003eOpenStreetMap\\u003c/a\\u003e, under \\u003ca href=\\&quot;http://www.openstreetmap.org/copyright\\&quot;\\u003eODbL\\u003c/a\\u003e.&quot;, &quot;detectRetina&quot;: false, &quot;maxNativeZoom&quot;: 18, &quot;maxZoom&quot;: 18, &quot;minZoom&quot;: 0, &quot;noWrap&quot;: false, &quot;opacity&quot;: 1, &quot;subdomains&quot;: &quot;abc&quot;, &quot;tms&quot;: false}\n",
       "            ).addTo(map_0885702e4f3ccb99ad964db2b7b34a8d);\n",
       "        \n",
       "    \n",
       "            var layer_control_de6c6147b23480cd712a740a7f273fcb = {\n",
       "                base_layers : {\n",
       "                },\n",
       "                overlays :  {\n",
       "                    &quot;Top Sale&quot; : feature_group_4e5751b524269a43690b21297e2ca13c,\n",
       "                    &quot;All other sales&quot; : feature_group_dd7918e98c7a2c5f6ec8b2f6af033d89,\n",
       "                },\n",
       "            };\n",
       "            L.control.layers(\n",
       "                layer_control_de6c6147b23480cd712a740a7f273fcb.base_layers,\n",
       "                layer_control_de6c6147b23480cd712a740a7f273fcb.overlays,\n",
       "                {&quot;autoZIndex&quot;: true, &quot;collapsed&quot;: false, &quot;position&quot;: &quot;topright&quot;}\n",
       "            ).addTo(map_0885702e4f3ccb99ad964db2b7b34a8d);\n",
       "        \n",
       "&lt;/script&gt;\" style=\"position:absolute;width:100%;height:100%;left:0;top:0;border:none !important;\" allowfullscreen webkitallowfullscreen mozallowfullscreen></iframe></div></div>"
      ],
      "text/plain": [
       "<folium.folium.Map at 0x7fe76020e130>"
      ]
     },
     "execution_count": 24,
     "metadata": {},
     "output_type": "execute_result"
    }
   ],
   "source": [
    "import folium\n",
    "from folium.plugins import MarkerCluster\n",
    "\n",
    "m = folium.Map(location=df[[\"lat\", \"lon\"]].mean().to_list(), zoom_start=10)\n",
    "\n",
    "title_html = '''\n",
    "              <h3 align=\"center\" style=\"font-size:16px\"><b>{}</b></h3>\n",
    "             '''.format(f'Recent Miami-Dade Condo Sales ')\n",
    "\n",
    "caption_html = '''\n",
    "                <p align=\"center\" style=\"vertical-align: bottom; font-size:13px\"><i>{}</i></p>\n",
    "                '''.format('September 17th - September 23rd')\n",
    "\n",
    "\n",
    "### Create map container ###\n",
    "m = folium.Map(location=df[[\"lat\", \"lon\"]].mean().to_list(),zoom_start=9.5,tiles=None)\n",
    "\n",
    "# Create two FeatureGroups for different color pins\n",
    "fg_blue = folium.FeatureGroup(name='All other sales')\n",
    "fg_orange = folium.FeatureGroup(name='Top Sale')\n",
    "\n",
    "for index, row in df.iterrows():\n",
    "    # Add the markers to the appropriate FeatureGroup based on the color\n",
    "    if row['COLOR'] == 'blue':\n",
    "        marker = folium.Marker(\n",
    "            location=[row['lat'], row['lon']],\n",
    "            radius=5,\n",
    "            fill=True,\n",
    "            icon=folium.Icon(color=row['COLOR']),\n",
    "            popup=folium.Popup(popup_html(row), max_width=400))\n",
    "        marker.add_to(fg_blue)\n",
    "    else:\n",
    "        marker = folium.Marker(\n",
    "            location=[row['lat'], row['lon']],\n",
    "            radius=5,\n",
    "            fill=True,\n",
    "            icon=folium.Icon(color=row['COLOR']),\n",
    "            popup=folium.Popup(popup_html(row), max_width=400))\n",
    "        marker.add_to(fg_orange)\n",
    "\n",
    "# Add the FeatureGroups to the map\n",
    "fg_orange.add_to(m)\n",
    "fg_blue.add_to(m)\n",
    "\n",
    "folium.TileLayer('OpenStreetMap',control=False).add_to(m)\n",
    "\n",
    "# Add LayerControl to the map\n",
    "folium.map.LayerControl(collapsed=False).add_to(m)\n",
    "m.get_root().html.add_child(folium.Element(title_html))\n",
    "m.get_root().html.add_child(folium.Element(caption_html))\n",
    "            \n",
    "# Display map\n",
    "m"
   ]
  },
  {
   "cell_type": "code",
   "execution_count": 25,
   "metadata": {},
   "outputs": [],
   "source": [
    "m.save('index.html')"
   ]
  },
  {
   "cell_type": "markdown",
   "metadata": {},
   "source": [
    "## Data snagger"
   ]
  },
  {
   "cell_type": "code",
   "execution_count": 19,
   "metadata": {},
   "outputs": [],
   "source": [
    "### Set up formatting ###\n",
    "BR = '\\n'\n",
    "\n",
    "ME = '\\033[1m' + 'Most Expensive' + '\\033[0m'\n",
    "LE = '\\033[1m' + 'Least Expensive' + '\\033[0m'\n",
    "\n",
    "MAX_PSF = '\\033[1m' + 'Highest Price Per Square Foot' + '\\033[0m'\n",
    "MIN_PSF = '\\033[1m' + 'Lowest Price Per Square Foot' + '\\033[0m'\n",
    "\n",
    "DAYS_MAX = '\\033[1m' + 'Most Days on Market' + '\\033[0m'\n",
    "DAYS_MIN = '\\033[1m' + 'Fewest Days on Market' + '\\033[0m'"
   ]
  },
  {
   "cell_type": "code",
   "execution_count": 20,
   "metadata": {},
   "outputs": [
    {
     "name": "stdout",
     "output_type": "stream",
     "text": [
      "\u001b[1mMost Expensive\u001b[0m\n",
      "Bayview fisher Island Condo, 5236 Fisher Island Dr 5236 Miami | Price $5,500,000 | $2,007 psf | Listing agent: Liz Hogan with Compass Florida, LLC. | Buyer's agent: Karla Abaunza with Luxury Living Realty | Days on market: 3\n",
      "\u001b[1mLeast Expensive\u001b[0m\n",
      "The Courts at South Beach, 145 Jefferson Ave 423 Miami | Price $1,900,000 | $784 psf | Listing agent: Jonathan Corso with Coldwell Banker Realty | Buyer's agent: Alejandro Vasquez with Million and Up Realty | Days on market: 139\n",
      "\u001b[1mHighest Price Per Square Foot\u001b[0m\n",
      "St Regis Bal Harbour, 9705 Collins Ave 1404N Bal | Price $4,300,000 | $2,250 psf | Listing agent: Sergio Balinotti with BRG International , LLC | Buyer's agent: Angela Matusian with Miami Residence Inc. | Days on market: 155\n",
      "\u001b[1mLowest Price Per Square Foot\u001b[0m\n",
      "The Courts at South Beach, 145 Jefferson Ave 423 Miami | Price $1,900,000 | $784 psf | Listing agent: Jonathan Corso with Coldwell Banker Realty | Buyer's agent: Alejandro Vasquez with Million and Up Realty | Days on market: 139\n",
      "\u001b[1mMost Days on Market\u001b[0m\n",
      "Jade Ocean, 17121 Collins Ave 1908 Sunny Isles | Price $2,600,000 | $1,329 psf | Listing agent: Clarissa Gurgulino with One Sotheby's International Re | Buyer's agent: Denis Smykalov with Wolsen Real Estate Inc | Days on market: 468\n",
      "\u001b[1mFewest Days on Market\u001b[0m\n",
      "Bayview fisher Island Condo, 5236 Fisher Island Dr 5236 Miami | Price $5,500,000 | $2,007 psf | Listing agent: Liz Hogan with Compass Florida, LLC. | Buyer's agent: Karla Abaunza with Luxury Living Realty | Days on market: 3\n"
     ]
    }
   ],
   "source": [
    "### Highest and lowest sale price ###\n",
    "print(f\"{ME}{BR}{df.loc[df['int_Sale_Price'].idxmax()]['building_name']}, {df.loc[df['int_Sale_Price'].idxmax()]['address']} | Price ${df.loc[df['int_Sale_Price'].idxmax()]['int_Sale_Price']:,.0f} | ${df.loc[df['int_Sale_Price'].idxmax()]['price_per_sqft']:,.0f} psf | Listing agent: {df.loc[df['int_Sale_Price'].idxmax()]['Agent']} with {df.loc[df['int_Sale_Price'].idxmax()]['Listing Broker']} | Buyer's agent: {df.loc[df['int_Sale_Price'].idxmax()]['Buyer Agent']} with {df.loc[df['int_Sale_Price'].idxmax()]['Buyer Broker']} | Days on market: {df.loc[df['int_Sale_Price'].idxmax()]['days_on_market']}\")\n",
    "print(f\"{LE}{BR}{df.loc[df['int_Sale_Price'].idxmin()]['building_name']}, {df.loc[df['int_Sale_Price'].idxmin()]['address']} | Price ${df.loc[df['int_Sale_Price'].idxmin()]['int_Sale_Price']:,.0f} | ${df.loc[df['int_Sale_Price'].idxmin()]['price_per_sqft']:,.0f} psf | Listing agent: {df.loc[df['int_Sale_Price'].idxmin()]['Agent']} with {df.loc[df['int_Sale_Price'].idxmin()]['Listing Broker']} | Buyer's agent: {df.loc[df['int_Sale_Price'].idxmin()]['Buyer Agent']} with {df.loc[df['int_Sale_Price'].idxmin()]['Buyer Broker']} | Days on market: {df.loc[df['int_Sale_Price'].idxmin()]['days_on_market']}\")\n",
    "### Highest and lowest psf ###\n",
    "print(f\"{MAX_PSF}{BR}{df.loc[df['price_per_sqft'].idxmax()]['building_name']}, {df.loc[df['price_per_sqft'].idxmax()]['address']} | Price ${df.loc[df['price_per_sqft'].idxmax()]['int_Sale_Price']:,.0f} | ${df.loc[df['price_per_sqft'].idxmax()]['price_per_sqft']:,.0f} psf | Listing agent: {df.loc[df['price_per_sqft'].idxmax()]['Agent']} with {df.loc[df['price_per_sqft'].idxmax()]['Listing Broker']} | Buyer's agent: {df.loc[df['price_per_sqft'].idxmax()]['Buyer Agent']} with {df.loc[df['price_per_sqft'].idxmax()]['Buyer Broker']} | Days on market: {df.loc[df['price_per_sqft'].idxmax()]['days_on_market']}\")\n",
    "print(f\"{MIN_PSF}{BR}{df.loc[df['price_per_sqft'].idxmin()]['building_name']}, {df.loc[df['price_per_sqft'].idxmin()]['address']} | Price ${df.loc[df['price_per_sqft'].idxmin()]['int_Sale_Price']:,.0f} | ${df.loc[df['price_per_sqft'].idxmin()]['price_per_sqft']:,.0f} psf | Listing agent: {df.loc[df['price_per_sqft'].idxmin()]['Agent']} with {df.loc[df['price_per_sqft'].idxmin()]['Listing Broker']} | Buyer's agent: {df.loc[df['price_per_sqft'].idxmin()]['Buyer Agent']} with {df.loc[df['price_per_sqft'].idxmin()]['Buyer Broker']} | Days on market: {df.loc[df['price_per_sqft'].idxmin()]['days_on_market']}\")\n",
    "### Highest and lowest days on market ###\n",
    "print(f\"{DAYS_MAX}{BR}{df.loc[df['days_on_market'].idxmax()]['building_name']}, {df.loc[df['days_on_market'].idxmax()]['address']} | Price ${df.loc[df['days_on_market'].idxmax()]['int_Sale_Price']:,.0f} | ${df.loc[df['days_on_market'].idxmax()]['price_per_sqft']:,.0f} psf | Listing agent: {df.loc[df['days_on_market'].idxmax()]['Agent']} with {df.loc[df['days_on_market'].idxmax()]['Listing Broker']} | Buyer's agent: {df.loc[df['days_on_market'].idxmax()]['Buyer Agent']} with {df.loc[df['days_on_market'].idxmax()]['Buyer Broker']} | Days on market: {df.loc[df['days_on_market'].idxmax()]['days_on_market']}\")\n",
    "print(f\"{DAYS_MIN}{BR}{df.loc[df['days_on_market'].idxmin()]['building_name']}, {df.loc[df['days_on_market'].idxmin()]['address']} | Price ${df.loc[df['days_on_market'].idxmin()]['int_Sale_Price']:,.0f} | ${df.loc[df['days_on_market'].idxmin()]['price_per_sqft']:,.0f} psf | Listing agent: {df.loc[df['days_on_market'].idxmin()]['Agent']} with {df.loc[df['days_on_market'].idxmin()]['Listing Broker']} | Buyer's agent: {df.loc[df['days_on_market'].idxmin()]['Buyer Agent']} with {df.loc[df['days_on_market'].idxmin()]['Buyer Broker']} | Days on market: {df.loc[df['days_on_market'].idxmin()]['days_on_market']}\")"
   ]
  },
  {
   "cell_type": "code",
   "execution_count": 21,
   "metadata": {},
   "outputs": [
    {
     "data": {
      "text/plain": [
       "187.5"
      ]
     },
     "execution_count": 21,
     "metadata": {},
     "output_type": "execute_result"
    }
   ],
   "source": [
    "df['days_on_market'].mean()"
   ]
  },
  {
   "cell_type": "markdown",
   "metadata": {},
   "source": [
    "## Map URL snagger"
   ]
  },
  {
   "cell_type": "markdown",
   "metadata": {},
   "source": [
    "Map template URL: `https://trd-digital.github.io/trd-news-interactive-maps/{map-folder-name}`"
   ]
  },
  {
   "cell_type": "code",
   "execution_count": 22,
   "metadata": {},
   "outputs": [],
   "source": [
    "base_name = 'https://trd-digital.github.io/trd-news-interactive-maps/'"
   ]
  },
  {
   "cell_type": "code",
   "execution_count": 23,
   "metadata": {},
   "outputs": [
    {
     "name": "stdout",
     "output_type": "stream",
     "text": [
      "https://trd-digital.github.io/trd-news-interactive-maps/condo_sales_week_ending_09262023\n"
     ]
    }
   ],
   "source": [
    "cwd = os.getcwd()\n",
    "\n",
    "cwd = cwd.split('/')\n",
    "\n",
    "final_name = base_name + cwd[-1]\n",
    "print(final_name)"
   ]
  }
 ],
 "metadata": {
  "kernelspec": {
   "display_name": "Python 3 (ipykernel)",
   "language": "python",
   "name": "python3"
  },
  "language_info": {
   "codemirror_mode": {
    "name": "ipython",
    "version": 3
   },
   "file_extension": ".py",
   "mimetype": "text/x-python",
   "name": "python",
   "nbconvert_exporter": "python",
   "pygments_lexer": "ipython3",
   "version": "3.9.12"
  },
  "toc": {
   "base_numbering": 1,
   "nav_menu": {},
   "number_sections": true,
   "sideBar": true,
   "skip_h1_title": false,
   "title_cell": "Table of Contents",
   "title_sidebar": "Contents",
   "toc_cell": false,
   "toc_position": {},
   "toc_section_display": true,
   "toc_window_display": false
  }
 },
 "nbformat": 4,
 "nbformat_minor": 4
}
