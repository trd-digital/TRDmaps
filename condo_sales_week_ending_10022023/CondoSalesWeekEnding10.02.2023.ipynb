{
 "cells": [
  {
   "cell_type": "markdown",
   "metadata": {},
   "source": [
    "## Imports"
   ]
  },
  {
   "cell_type": "code",
   "execution_count": 3,
   "metadata": {},
   "outputs": [],
   "source": [
    "import googlemaps\n",
    "import pandas as pd\n",
    "import numpy as np\n",
    "import re\n",
    "import os\n",
    "import geopandas as gpd\n",
    "import folium\n",
    "import tabula"
   ]
  },
  {
   "cell_type": "markdown",
   "metadata": {},
   "source": [
    "## Read-in"
   ]
  },
  {
   "cell_type": "code",
   "execution_count": 4,
   "metadata": {},
   "outputs": [],
   "source": [
    "# Gotta figure out how to get rid of the java error.\n",
    "# SO: https://stackoverflow.com/questions/54817211/java-command-is-not-found-from-this-python-process-please-ensure-java-is-inst\n",
    "\n",
    "dsf = tabula.read_pdf('condo.pdf', pages='all')"
   ]
  },
  {
   "cell_type": "markdown",
   "metadata": {},
   "source": [
    "## Clean Data"
   ]
  },
  {
   "cell_type": "code",
   "execution_count": 5,
   "metadata": {},
   "outputs": [],
   "source": [
    "df = dsf[0]\n",
    "df.columns = df.iloc[0]\n",
    "df = df[1:]\n",
    "df = df.drop(columns=df.columns[0])\n",
    "df = df.replace(np.nan, 'Not Available', regex=True)\n",
    "df = df.rename(columns={'Building / Address / City': 'building_address_city','Days on\\rMarket':'days_on_market',\\\n",
    "                        'Price /\\rSq. Ft.':'price_per_sqft'})\n",
    "df['building_address_city'] = df['building_address_city'].str.replace('^0', '', regex=True)\n",
    "df['geo_address'] = df['building_address_city']\n",
    "df['geo_address'] = df['geo_address'].map(lambda x: re.sub(r'\\r', ' ', x))\n",
    "df = df.replace('\\n',' ',regex=True)\n",
    "pattern = r'^(?P<building_name>[\\d\\s]*[A-Za-z\\s]+)\\s(?P<address>.+)\\s(?P<city>[A-Za-z\\s]+)$'\n",
    "df2 = df['geo_address']\n",
    "df2 = df2.to_frame()\n",
    "df2[['building_name', 'address', 'city']] = df2['geo_address'].str.extract(pattern, expand=True)"
   ]
  },
  {
   "cell_type": "markdown",
   "metadata": {},
   "source": [
    "Review this later (it's about how to properly merge DFs): https://pandas.pydata.org/pandas-docs/stable/user_guide/merging.html"
   ]
  },
  {
   "cell_type": "markdown",
   "metadata": {},
   "source": [
    "## Geocode"
   ]
  },
  {
   "cell_type": "code",
   "execution_count": 6,
   "metadata": {},
   "outputs": [],
   "source": [
    "result = pd.merge(df,df2,left_index=True, right_index=True)\n",
    "df = result\n",
    "df = df.drop(columns='city')"
   ]
  },
  {
   "cell_type": "code",
   "execution_count": 7,
   "metadata": {},
   "outputs": [],
   "source": [
    "%store -r google_maps_API_Key\n",
    "gmaps_key = googlemaps.Client(key=google_maps_API_Key)"
   ]
  },
  {
   "cell_type": "code",
   "execution_count": 8,
   "metadata": {},
   "outputs": [],
   "source": [
    "def geocode(add):\n",
    "    g = gmaps_key.geocode(add)\n",
    "    lat = g[0][\"geometry\"][\"location\"][\"lat\"]\n",
    "    lng = g[0][\"geometry\"][\"location\"][\"lng\"]\n",
    "    return (lat, lng)\n",
    "\n",
    "df['geocoded'] = df['geo_address_x'].apply(geocode)"
   ]
  },
  {
   "cell_type": "code",
   "execution_count": 9,
   "metadata": {},
   "outputs": [],
   "source": [
    "df['geocoded'] = df['geocoded'].astype(str)\n",
    "df[['lat', 'lon']] = df['geocoded'].str.strip('()').str.split(', ', expand=True)\n",
    "df['lat'] = df['lat'].astype(float)\n",
    "df['lon'] = df['lon'].astype(float)"
   ]
  },
  {
   "cell_type": "markdown",
   "metadata": {},
   "source": [
    "Folium documentation link: https://python-visualization.github.io/folium/index.html\n",
    "\n",
    "Folium is the library that lets us use leaflet with Python, since it's meant to be used with JavaScript.\n",
    "\n",
    "For adding titles: https://stackoverflow.com/questions/61928013/adding-a-title-or-text-to-a-folium-map"
   ]
  },
  {
   "cell_type": "markdown",
   "metadata": {},
   "source": [
    "## Correction section"
   ]
  },
  {
   "cell_type": "code",
   "execution_count": 10,
   "metadata": {},
   "outputs": [],
   "source": [
    "# df.at[index#,'col_name']"
   ]
  },
  {
   "cell_type": "markdown",
   "metadata": {},
   "source": [
    "## Format Data"
   ]
  },
  {
   "cell_type": "code",
   "execution_count": 11,
   "metadata": {},
   "outputs": [],
   "source": [
    "### Insert NaNs if needed ###\n",
    "df = df.replace('N/A', np.nan)"
   ]
  },
  {
   "cell_type": "code",
   "execution_count": 12,
   "metadata": {},
   "outputs": [],
   "source": [
    "df['int_Sale_Price'] = df['Sale Price'].str.replace('$','',regex=False)"
   ]
  },
  {
   "cell_type": "code",
   "execution_count": 13,
   "metadata": {},
   "outputs": [],
   "source": [
    "df['int_Sale_Price'] = df['int_Sale_Price'].str.replace(',','',regex=False)"
   ]
  },
  {
   "cell_type": "code",
   "execution_count": 14,
   "metadata": {},
   "outputs": [],
   "source": [
    "df['int_Sale_Price'] = pd.to_numeric(df['int_Sale_Price'])"
   ]
  },
  {
   "cell_type": "code",
   "execution_count": 15,
   "metadata": {},
   "outputs": [],
   "source": [
    "df['price_per_sqft'] = df['price_per_sqft'].str.replace('$','',regex=False)\n",
    "df['price_per_sqft'] = df['price_per_sqft'].str.replace(',','',regex=False)\n",
    "df['price_per_sqft'] = pd.to_numeric(df['price_per_sqft'])\n",
    "\n",
    "df['days_on_market'] = pd.to_numeric(df['days_on_market'])"
   ]
  },
  {
   "cell_type": "markdown",
   "metadata": {},
   "source": [
    "## Color-code top sale"
   ]
  },
  {
   "cell_type": "code",
   "execution_count": 16,
   "metadata": {},
   "outputs": [],
   "source": [
    "### Insert RANK values ###\n",
    "df['RANK'] = range(1, len(df) + 1)\n",
    "# use numpy to assign values to the 'COLOR' column\n",
    "df['COLOR'] = np.where(df['RANK'] <= 1, 'orange', 'blue')"
   ]
  },
  {
   "cell_type": "markdown",
   "metadata": {},
   "source": [
    "## HTML Popup Formatter"
   ]
  },
  {
   "cell_type": "code",
   "execution_count": 17,
   "metadata": {},
   "outputs": [
    {
     "data": {
      "text/plain": [
       "Index(['building_address_city', 'Close Date', 'days_on_market', 'Sale Price',\n",
       "       'Sq. Ft.', 'price_per_sqft', 'Agent', 'Listing Broker', 'Buyer Agent',\n",
       "       'Buyer Broker', 'geo_address_x', 'geo_address_y', 'building_name',\n",
       "       'address', 'geocoded', 'lat', 'lon', 'int_Sale_Price', 'RANK', 'COLOR'],\n",
       "      dtype='object')"
      ]
     },
     "execution_count": 17,
     "metadata": {},
     "output_type": "execute_result"
    }
   ],
   "source": [
    "df.columns"
   ]
  },
  {
   "cell_type": "code",
   "execution_count": 18,
   "metadata": {},
   "outputs": [],
   "source": [
    "def popup_html(row):\n",
    "    building_name = row['building_name']\n",
    "    price = row['Sale Price']\n",
    "    days_on_market = row['days_on_market']\n",
    "    listing_agent = row['Agent']\n",
    "    buyers_agent = row['Buyer Agent']\n",
    "    psf = row['price_per_sqft']\n",
    "    address = row['address']\n",
    "    \n",
    "    html = '''<!DOCTYPE html>\n",
    "    <html>\n",
    "    <strong>Building Name: </strong>{}'''.format(building_name) + '''<br>\n",
    "    <strong>Sale Price: </strong>{}'''.format(price) + '''<br>\n",
    "    <strong>Days on Market: </strong>{}'''.format(days_on_market) + '''<br>\n",
    "    <strong>Listing Agent: </strong>{}'''.format(listing_agent) + '''<br>\n",
    "    <strong>Buyer's Agent: </strong>{}'''.format(buyers_agent) + '''<br>\n",
    "    <strong>Price sq ft: </strong>${}'''.format(psf) + '''<br>\n",
    "    <strong>Address: </strong>{}'''.format(address) + '''<br>\n",
    "    </html>\n",
    "    '''\n",
    "    return html"
   ]
  },
  {
   "cell_type": "code",
   "execution_count": 26,
   "metadata": {},
   "outputs": [
    {
     "data": {
      "text/html": [
       "<div style=\"width:100%;\"><div style=\"position:relative;width:100%;height:0;padding-bottom:60%;\"><span style=\"color:#565656\">Make this Notebook Trusted to load map: File -> Trust Notebook</span><iframe srcdoc=\"&lt;!DOCTYPE html&gt;\n",
       "&lt;head&gt;    \n",
       "    &lt;meta http-equiv=&quot;content-type&quot; content=&quot;text/html; charset=UTF-8&quot; /&gt;\n",
       "    \n",
       "        &lt;script&gt;\n",
       "            L_NO_TOUCH = false;\n",
       "            L_DISABLE_3D = false;\n",
       "        &lt;/script&gt;\n",
       "    \n",
       "    &lt;style&gt;html, body {width: 100%;height: 100%;margin: 0;padding: 0;}&lt;/style&gt;\n",
       "    &lt;style&gt;#map {position:absolute;top:0;bottom:0;right:0;left:0;}&lt;/style&gt;\n",
       "    &lt;script src=&quot;https://cdn.jsdelivr.net/npm/leaflet@1.6.0/dist/leaflet.js&quot;&gt;&lt;/script&gt;\n",
       "    &lt;script src=&quot;https://code.jquery.com/jquery-1.12.4.min.js&quot;&gt;&lt;/script&gt;\n",
       "    &lt;script src=&quot;https://maxcdn.bootstrapcdn.com/bootstrap/3.2.0/js/bootstrap.min.js&quot;&gt;&lt;/script&gt;\n",
       "    &lt;script src=&quot;https://cdnjs.cloudflare.com/ajax/libs/Leaflet.awesome-markers/2.0.2/leaflet.awesome-markers.js&quot;&gt;&lt;/script&gt;\n",
       "    &lt;link rel=&quot;stylesheet&quot; href=&quot;https://cdn.jsdelivr.net/npm/leaflet@1.6.0/dist/leaflet.css&quot;/&gt;\n",
       "    &lt;link rel=&quot;stylesheet&quot; href=&quot;https://maxcdn.bootstrapcdn.com/bootstrap/3.2.0/css/bootstrap.min.css&quot;/&gt;\n",
       "    &lt;link rel=&quot;stylesheet&quot; href=&quot;https://maxcdn.bootstrapcdn.com/bootstrap/3.2.0/css/bootstrap-theme.min.css&quot;/&gt;\n",
       "    &lt;link rel=&quot;stylesheet&quot; href=&quot;https://maxcdn.bootstrapcdn.com/font-awesome/4.6.3/css/font-awesome.min.css&quot;/&gt;\n",
       "    &lt;link rel=&quot;stylesheet&quot; href=&quot;https://cdnjs.cloudflare.com/ajax/libs/Leaflet.awesome-markers/2.0.2/leaflet.awesome-markers.css&quot;/&gt;\n",
       "    &lt;link rel=&quot;stylesheet&quot; href=&quot;https://cdn.jsdelivr.net/gh/python-visualization/folium/folium/templates/leaflet.awesome.rotate.min.css&quot;/&gt;\n",
       "    \n",
       "            &lt;meta name=&quot;viewport&quot; content=&quot;width=device-width,\n",
       "                initial-scale=1.0, maximum-scale=1.0, user-scalable=no&quot; /&gt;\n",
       "            &lt;style&gt;\n",
       "                #map_7714ef22355237151b637e4e1accb70f {\n",
       "                    position: relative;\n",
       "                    width: 100.0%;\n",
       "                    height: 100.0%;\n",
       "                    left: 0.0%;\n",
       "                    top: 0.0%;\n",
       "                }\n",
       "            &lt;/style&gt;\n",
       "        \n",
       "&lt;/head&gt;\n",
       "&lt;body&gt;    \n",
       "    \n",
       "              &lt;h3 align=&quot;center&quot; style=&quot;font-size:16px&quot;&gt;&lt;b&gt;Recent Miami-Dade Condo Sales &lt;/b&gt;&lt;/h3&gt;\n",
       "             \n",
       "    \n",
       "                &lt;p align=&quot;center&quot; style=&quot;vertical-align: bottom; font-size:13px&quot;&gt;&lt;i&gt;September 24th - September 30th&lt;/i&gt;&lt;/p&gt;\n",
       "                \n",
       "    \n",
       "            &lt;div class=&quot;folium-map&quot; id=&quot;map_7714ef22355237151b637e4e1accb70f&quot; &gt;&lt;/div&gt;\n",
       "        \n",
       "&lt;/body&gt;\n",
       "&lt;script&gt;    \n",
       "    \n",
       "            var map_7714ef22355237151b637e4e1accb70f = L.map(\n",
       "                &quot;map_7714ef22355237151b637e4e1accb70f&quot;,\n",
       "                {\n",
       "                    center: [25.784067139999998, -80.18138932],\n",
       "                    crs: L.CRS.EPSG3857,\n",
       "                    zoom: 9.5,\n",
       "                    zoomControl: true,\n",
       "                    preferCanvas: false,\n",
       "                }\n",
       "            );\n",
       "\n",
       "            \n",
       "\n",
       "        \n",
       "    \n",
       "            var feature_group_ed6e36dfa3192afe2ed22976ffc23abd = L.featureGroup(\n",
       "                {}\n",
       "            ).addTo(map_7714ef22355237151b637e4e1accb70f);\n",
       "        \n",
       "    \n",
       "            var marker_cb4b98048a8616795dc5ed2cc9184e84 = L.marker(\n",
       "                [25.8991765, -80.12308530000001],\n",
       "                {&quot;fill&quot;: true, &quot;radius&quot;: 5}\n",
       "            ).addTo(feature_group_ed6e36dfa3192afe2ed22976ffc23abd);\n",
       "        \n",
       "    \n",
       "            var icon_2e2a3326a0dec023d42ae2313ae46c14 = L.AwesomeMarkers.icon(\n",
       "                {&quot;extraClasses&quot;: &quot;fa-rotate-0&quot;, &quot;icon&quot;: &quot;info-sign&quot;, &quot;iconColor&quot;: &quot;white&quot;, &quot;markerColor&quot;: &quot;orange&quot;, &quot;prefix&quot;: &quot;glyphicon&quot;}\n",
       "            );\n",
       "            marker_cb4b98048a8616795dc5ed2cc9184e84.setIcon(icon_2e2a3326a0dec023d42ae2313ae46c14);\n",
       "        \n",
       "    \n",
       "        var popup_cb1ee1e08a49deb2ac65885e6334e2c1 = L.popup({&quot;maxWidth&quot;: 400});\n",
       "\n",
       "        \n",
       "            \n",
       "                var html_f517cb1de369d334a3769d037d802017 = $(`&lt;div id=&quot;html_f517cb1de369d334a3769d037d802017&quot; style=&quot;width: 100.0%; height: 100.0%;&quot;&gt;&lt;!DOCTYPE html&gt;     &lt;html&gt;     &lt;strong&gt;Building Name: &lt;/strong&gt;10295 Collins Ave Residences&lt;br&gt;     &lt;strong&gt;Sale Price: &lt;/strong&gt;$5,500,000.00&lt;br&gt;     &lt;strong&gt;Days on Market: &lt;/strong&gt;49&lt;br&gt;     &lt;strong&gt;Listing Agent: &lt;/strong&gt;Jodi Macken&lt;br&gt;     &lt;strong&gt;Buyer&#x27;s Agent: &lt;/strong&gt;Joanna Jimenez&lt;br&gt;     &lt;strong&gt;Price sq ft: &lt;/strong&gt;$2080.97&lt;br&gt;     &lt;strong&gt;Address: &lt;/strong&gt;10295 Collins Ave 809 Bal&lt;br&gt;     &lt;/html&gt;     &lt;/div&gt;`)[0];\n",
       "                popup_cb1ee1e08a49deb2ac65885e6334e2c1.setContent(html_f517cb1de369d334a3769d037d802017);\n",
       "            \n",
       "        \n",
       "\n",
       "        marker_cb4b98048a8616795dc5ed2cc9184e84.bindPopup(popup_cb1ee1e08a49deb2ac65885e6334e2c1)\n",
       "        ;\n",
       "\n",
       "        \n",
       "    \n",
       "    \n",
       "            var feature_group_e99598e41ec03893789827c3269fc5fa = L.featureGroup(\n",
       "                {}\n",
       "            ).addTo(map_7714ef22355237151b637e4e1accb70f);\n",
       "        \n",
       "    \n",
       "            var marker_fb764b7f6696e2ba9884b9ac44ec588c = L.marker(\n",
       "                [25.9244562, -80.1216846],\n",
       "                {&quot;fill&quot;: true, &quot;radius&quot;: 5}\n",
       "            ).addTo(feature_group_e99598e41ec03893789827c3269fc5fa);\n",
       "        \n",
       "    \n",
       "            var icon_4e95f28426e01a64a06c0535565030c1 = L.AwesomeMarkers.icon(\n",
       "                {&quot;extraClasses&quot;: &quot;fa-rotate-0&quot;, &quot;icon&quot;: &quot;info-sign&quot;, &quot;iconColor&quot;: &quot;white&quot;, &quot;markerColor&quot;: &quot;blue&quot;, &quot;prefix&quot;: &quot;glyphicon&quot;}\n",
       "            );\n",
       "            marker_fb764b7f6696e2ba9884b9ac44ec588c.setIcon(icon_4e95f28426e01a64a06c0535565030c1);\n",
       "        \n",
       "    \n",
       "        var popup_5e1123e4db53055c2b91669f6d16a8bc = L.popup({&quot;maxWidth&quot;: 400});\n",
       "\n",
       "        \n",
       "            \n",
       "                var html_06f8395606515135b55151a90d0d56f1 = $(`&lt;div id=&quot;html_06f8395606515135b55151a90d0d56f1&quot; style=&quot;width: 100.0%; height: 100.0%;&quot;&gt;&lt;!DOCTYPE html&gt;     &lt;html&gt;     &lt;strong&gt;Building Name: &lt;/strong&gt;Trump Tower I&lt;br&gt;     &lt;strong&gt;Sale Price: &lt;/strong&gt;$2,600,000.00&lt;br&gt;     &lt;strong&gt;Days on Market: &lt;/strong&gt;202&lt;br&gt;     &lt;strong&gt;Listing Agent: &lt;/strong&gt;Linda Mannix Burt&lt;br&gt;     &lt;strong&gt;Buyer&#x27;s Agent: &lt;/strong&gt;Cassio Faccin&lt;br&gt;     &lt;strong&gt;Price sq ft: &lt;/strong&gt;$939.31&lt;br&gt;     &lt;strong&gt;Address: &lt;/strong&gt;16001 Collins Ave 2701 Sunny Isles&lt;br&gt;     &lt;/html&gt;     &lt;/div&gt;`)[0];\n",
       "                popup_5e1123e4db53055c2b91669f6d16a8bc.setContent(html_06f8395606515135b55151a90d0d56f1);\n",
       "            \n",
       "        \n",
       "\n",
       "        marker_fb764b7f6696e2ba9884b9ac44ec588c.bindPopup(popup_5e1123e4db53055c2b91669f6d16a8bc)\n",
       "        ;\n",
       "\n",
       "        \n",
       "    \n",
       "    \n",
       "            var marker_c8bf0ba371cce662b074b94e16e05605 = L.marker(\n",
       "                [25.6879859, -80.16285909999999],\n",
       "                {&quot;fill&quot;: true, &quot;radius&quot;: 5}\n",
       "            ).addTo(feature_group_e99598e41ec03893789827c3269fc5fa);\n",
       "        \n",
       "    \n",
       "            var icon_9c52922fcad8e761067369d5575b6491 = L.AwesomeMarkers.icon(\n",
       "                {&quot;extraClasses&quot;: &quot;fa-rotate-0&quot;, &quot;icon&quot;: &quot;info-sign&quot;, &quot;iconColor&quot;: &quot;white&quot;, &quot;markerColor&quot;: &quot;blue&quot;, &quot;prefix&quot;: &quot;glyphicon&quot;}\n",
       "            );\n",
       "            marker_c8bf0ba371cce662b074b94e16e05605.setIcon(icon_9c52922fcad8e761067369d5575b6491);\n",
       "        \n",
       "    \n",
       "        var popup_89d90a8c203f04b3086c5e564102fe7d = L.popup({&quot;maxWidth&quot;: 400});\n",
       "\n",
       "        \n",
       "            \n",
       "                var html_eaa3a8fe35a1b9c94116e255262c864e = $(`&lt;div id=&quot;html_eaa3a8fe35a1b9c94116e255262c864e&quot; style=&quot;width: 100.0%; height: 100.0%;&quot;&gt;&lt;!DOCTYPE html&gt;     &lt;html&gt;     &lt;strong&gt;Building Name: &lt;/strong&gt;Lake Villa One&lt;br&gt;     &lt;strong&gt;Sale Price: &lt;/strong&gt;$2,275,000.00&lt;br&gt;     &lt;strong&gt;Days on Market: &lt;/strong&gt;40&lt;br&gt;     &lt;strong&gt;Listing Agent: &lt;/strong&gt;Maraly Caban PA&lt;br&gt;     &lt;strong&gt;Buyer&#x27;s Agent: &lt;/strong&gt;Luis Felipe Vieira De Souza PA&lt;br&gt;     &lt;strong&gt;Price sq ft: &lt;/strong&gt;$1046.46&lt;br&gt;     &lt;strong&gt;Address: &lt;/strong&gt;723 Crandon Blvd PH5 Key&lt;br&gt;     &lt;/html&gt;     &lt;/div&gt;`)[0];\n",
       "                popup_89d90a8c203f04b3086c5e564102fe7d.setContent(html_eaa3a8fe35a1b9c94116e255262c864e);\n",
       "            \n",
       "        \n",
       "\n",
       "        marker_c8bf0ba371cce662b074b94e16e05605.bindPopup(popup_89d90a8c203f04b3086c5e564102fe7d)\n",
       "        ;\n",
       "\n",
       "        \n",
       "    \n",
       "    \n",
       "            var marker_6e49454b766287f1e58b0c0639c83a16 = L.marker(\n",
       "                [25.799494, -80.1268322],\n",
       "                {&quot;fill&quot;: true, &quot;radius&quot;: 5}\n",
       "            ).addTo(feature_group_e99598e41ec03893789827c3269fc5fa);\n",
       "        \n",
       "    \n",
       "            var icon_16621f7428c926cb5ede823d669b1c37 = L.AwesomeMarkers.icon(\n",
       "                {&quot;extraClasses&quot;: &quot;fa-rotate-0&quot;, &quot;icon&quot;: &quot;info-sign&quot;, &quot;iconColor&quot;: &quot;white&quot;, &quot;markerColor&quot;: &quot;blue&quot;, &quot;prefix&quot;: &quot;glyphicon&quot;}\n",
       "            );\n",
       "            marker_6e49454b766287f1e58b0c0639c83a16.setIcon(icon_16621f7428c926cb5ede823d669b1c37);\n",
       "        \n",
       "    \n",
       "        var popup_a7d32d65978c501a5f71bdbbfd1c87fa = L.popup({&quot;maxWidth&quot;: 400});\n",
       "\n",
       "        \n",
       "            \n",
       "                var html_dedeb3989793510709069d6f3b9bb305 = $(`&lt;div id=&quot;html_dedeb3989793510709069d6f3b9bb305&quot; style=&quot;width: 100.0%; height: 100.0%;&quot;&gt;&lt;!DOCTYPE html&gt;     &lt;html&gt;     &lt;strong&gt;Building Name: &lt;/strong&gt;1 Hotel&lt;br&gt;     &lt;strong&gt;Sale Price: &lt;/strong&gt;$2,250,000.00&lt;br&gt;     &lt;strong&gt;Days on Market: &lt;/strong&gt;122&lt;br&gt;     &lt;strong&gt;Listing Agent: &lt;/strong&gt;Jackie Farrell&lt;br&gt;     &lt;strong&gt;Buyer&#x27;s Agent: &lt;/strong&gt;Tracy Galya&lt;br&gt;     &lt;strong&gt;Price sq ft: &lt;/strong&gt;$2519.6&lt;br&gt;     &lt;strong&gt;Address: &lt;/strong&gt;&amp; Homes 102 24th St 1010 Miami&lt;br&gt;     &lt;/html&gt;     &lt;/div&gt;`)[0];\n",
       "                popup_a7d32d65978c501a5f71bdbbfd1c87fa.setContent(html_dedeb3989793510709069d6f3b9bb305);\n",
       "            \n",
       "        \n",
       "\n",
       "        marker_6e49454b766287f1e58b0c0639c83a16.bindPopup(popup_a7d32d65978c501a5f71bdbbfd1c87fa)\n",
       "        ;\n",
       "\n",
       "        \n",
       "    \n",
       "    \n",
       "            var marker_fed151c4d7c35ebad03761fa493739d6 = L.marker(\n",
       "                [25.762305, -80.143447],\n",
       "                {&quot;fill&quot;: true, &quot;radius&quot;: 5}\n",
       "            ).addTo(feature_group_e99598e41ec03893789827c3269fc5fa);\n",
       "        \n",
       "    \n",
       "            var icon_b548bb54c1ef3906097f9ea5981d0c4f = L.AwesomeMarkers.icon(\n",
       "                {&quot;extraClasses&quot;: &quot;fa-rotate-0&quot;, &quot;icon&quot;: &quot;info-sign&quot;, &quot;iconColor&quot;: &quot;white&quot;, &quot;markerColor&quot;: &quot;blue&quot;, &quot;prefix&quot;: &quot;glyphicon&quot;}\n",
       "            );\n",
       "            marker_fed151c4d7c35ebad03761fa493739d6.setIcon(icon_b548bb54c1ef3906097f9ea5981d0c4f);\n",
       "        \n",
       "    \n",
       "        var popup_3a8ee99115a2a6da766cff23b202916b = L.popup({&quot;maxWidth&quot;: 400});\n",
       "\n",
       "        \n",
       "            \n",
       "                var html_35bd0b7bc01d800f4404e7c2df6bb3ab = $(`&lt;div id=&quot;html_35bd0b7bc01d800f4404e7c2df6bb3ab&quot; style=&quot;width: 100.0%; height: 100.0%;&quot;&gt;&lt;!DOCTYPE html&gt;     &lt;html&gt;     &lt;strong&gt;Building Name: &lt;/strong&gt;Marina Village Gardens&lt;br&gt;     &lt;strong&gt;Sale Price: &lt;/strong&gt;$2,000,000.00&lt;br&gt;     &lt;strong&gt;Days on Market: &lt;/strong&gt;28&lt;br&gt;     &lt;strong&gt;Listing Agent: &lt;/strong&gt;Maria Oneide Gioia&lt;br&gt;     &lt;strong&gt;Buyer&#x27;s Agent: &lt;/strong&gt;Dora Puig&lt;br&gt;     &lt;strong&gt;Price sq ft: &lt;/strong&gt;$2239.64&lt;br&gt;     &lt;strong&gt;Address: &lt;/strong&gt;40206 Fisher Island Dr 40206 Miami&lt;br&gt;     &lt;/html&gt;     &lt;/div&gt;`)[0];\n",
       "                popup_3a8ee99115a2a6da766cff23b202916b.setContent(html_35bd0b7bc01d800f4404e7c2df6bb3ab);\n",
       "            \n",
       "        \n",
       "\n",
       "        marker_fed151c4d7c35ebad03761fa493739d6.bindPopup(popup_3a8ee99115a2a6da766cff23b202916b)\n",
       "        ;\n",
       "\n",
       "        \n",
       "    \n",
       "    \n",
       "            var marker_fce5ba6472ae0696df033dbd3c6624d0 = L.marker(\n",
       "                [25.7966829, -80.1876694],\n",
       "                {&quot;fill&quot;: true, &quot;radius&quot;: 5}\n",
       "            ).addTo(feature_group_e99598e41ec03893789827c3269fc5fa);\n",
       "        \n",
       "    \n",
       "            var icon_45aac9084408bc5879f310914d771cd8 = L.AwesomeMarkers.icon(\n",
       "                {&quot;extraClasses&quot;: &quot;fa-rotate-0&quot;, &quot;icon&quot;: &quot;info-sign&quot;, &quot;iconColor&quot;: &quot;white&quot;, &quot;markerColor&quot;: &quot;blue&quot;, &quot;prefix&quot;: &quot;glyphicon&quot;}\n",
       "            );\n",
       "            marker_fce5ba6472ae0696df033dbd3c6624d0.setIcon(icon_45aac9084408bc5879f310914d771cd8);\n",
       "        \n",
       "    \n",
       "        var popup_d1543763490e6c78741499bfbb2daea1 = L.popup({&quot;maxWidth&quot;: 400});\n",
       "\n",
       "        \n",
       "            \n",
       "                var html_9beddd7009bad82bef00467f315fd721 = $(`&lt;div id=&quot;html_9beddd7009bad82bef00467f315fd721&quot; style=&quot;width: 100.0%; height: 100.0%;&quot;&gt;&lt;!DOCTYPE html&gt;     &lt;html&gt;     &lt;strong&gt;Building Name: &lt;/strong&gt;Paramount Bay&lt;br&gt;     &lt;strong&gt;Sale Price: &lt;/strong&gt;$1,735,000.00&lt;br&gt;     &lt;strong&gt;Days on Market: &lt;/strong&gt;14&lt;br&gt;     &lt;strong&gt;Listing Agent: &lt;/strong&gt;Ignacio Villanueva&lt;br&gt;     &lt;strong&gt;Buyer&#x27;s Agent: &lt;/strong&gt;Carlos Rua&lt;br&gt;     &lt;strong&gt;Price sq ft: &lt;/strong&gt;$1015.81&lt;br&gt;     &lt;strong&gt;Address: &lt;/strong&gt;2020 N Bayshore Dr 3903&lt;br&gt;     &lt;/html&gt;     &lt;/div&gt;`)[0];\n",
       "                popup_d1543763490e6c78741499bfbb2daea1.setContent(html_9beddd7009bad82bef00467f315fd721);\n",
       "            \n",
       "        \n",
       "\n",
       "        marker_fce5ba6472ae0696df033dbd3c6624d0.bindPopup(popup_d1543763490e6c78741499bfbb2daea1)\n",
       "        ;\n",
       "\n",
       "        \n",
       "    \n",
       "    \n",
       "            var marker_4871803c77db407883a62ba8972f7979 = L.marker(\n",
       "                [25.746885, -80.269533],\n",
       "                {&quot;fill&quot;: true, &quot;radius&quot;: 5}\n",
       "            ).addTo(feature_group_e99598e41ec03893789827c3269fc5fa);\n",
       "        \n",
       "    \n",
       "            var icon_20c4c76f907939b2b736ea879d3f012e = L.AwesomeMarkers.icon(\n",
       "                {&quot;extraClasses&quot;: &quot;fa-rotate-0&quot;, &quot;icon&quot;: &quot;info-sign&quot;, &quot;iconColor&quot;: &quot;white&quot;, &quot;markerColor&quot;: &quot;blue&quot;, &quot;prefix&quot;: &quot;glyphicon&quot;}\n",
       "            );\n",
       "            marker_4871803c77db407883a62ba8972f7979.setIcon(icon_20c4c76f907939b2b736ea879d3f012e);\n",
       "        \n",
       "    \n",
       "        var popup_2f8d2952c088923bf9d0bff574dab393 = L.popup({&quot;maxWidth&quot;: 400});\n",
       "\n",
       "        \n",
       "            \n",
       "                var html_e6692acd48d32d739930abb74617e528 = $(`&lt;div id=&quot;html_e6692acd48d32d739930abb74617e528&quot; style=&quot;width: 100.0%; height: 100.0%;&quot;&gt;&lt;!DOCTYPE html&gt;     &lt;html&gt;     &lt;strong&gt;Building Name: &lt;/strong&gt;Biltmore Parc Condo&lt;br&gt;     &lt;strong&gt;Sale Price: &lt;/strong&gt;$1,599,000.00&lt;br&gt;     &lt;strong&gt;Days on Market: &lt;/strong&gt;43&lt;br&gt;     &lt;strong&gt;Listing Agent: &lt;/strong&gt;Anniella Tabraue&lt;br&gt;     &lt;strong&gt;Buyer&#x27;s Agent: &lt;/strong&gt;Robert Wands&lt;br&gt;     &lt;strong&gt;Price sq ft: &lt;/strong&gt;$810.85&lt;br&gt;     &lt;strong&gt;Address: &lt;/strong&gt;718 Valencia Ave 206 Coral&lt;br&gt;     &lt;/html&gt;     &lt;/div&gt;`)[0];\n",
       "                popup_2f8d2952c088923bf9d0bff574dab393.setContent(html_e6692acd48d32d739930abb74617e528);\n",
       "            \n",
       "        \n",
       "\n",
       "        marker_4871803c77db407883a62ba8972f7979.bindPopup(popup_2f8d2952c088923bf9d0bff574dab393)\n",
       "        ;\n",
       "\n",
       "        \n",
       "    \n",
       "    \n",
       "            var marker_dcb35a6f37f17499b79d477f817b24d3 = L.marker(\n",
       "                [25.7296528, -80.237883],\n",
       "                {&quot;fill&quot;: true, &quot;radius&quot;: 5}\n",
       "            ).addTo(feature_group_e99598e41ec03893789827c3269fc5fa);\n",
       "        \n",
       "    \n",
       "            var icon_d7e718bcf29f818c40e8d699e688cda8 = L.AwesomeMarkers.icon(\n",
       "                {&quot;extraClasses&quot;: &quot;fa-rotate-0&quot;, &quot;icon&quot;: &quot;info-sign&quot;, &quot;iconColor&quot;: &quot;white&quot;, &quot;markerColor&quot;: &quot;blue&quot;, &quot;prefix&quot;: &quot;glyphicon&quot;}\n",
       "            );\n",
       "            marker_dcb35a6f37f17499b79d477f817b24d3.setIcon(icon_d7e718bcf29f818c40e8d699e688cda8);\n",
       "        \n",
       "    \n",
       "        var popup_4af97fca60d01484d98702abe246a644 = L.popup({&quot;maxWidth&quot;: 400});\n",
       "\n",
       "        \n",
       "            \n",
       "                var html_2e5e7144d33d14c9ef2c3957e6fe6c68 = $(`&lt;div id=&quot;html_2e5e7144d33d14c9ef2c3957e6fe6c68&quot; style=&quot;width: 100.0%; height: 100.0%;&quot;&gt;&lt;!DOCTYPE html&gt;     &lt;html&gt;     &lt;strong&gt;Building Name: &lt;/strong&gt;The Ritz Carlton&lt;br&gt;     &lt;strong&gt;Sale Price: &lt;/strong&gt;$1,500,000.00&lt;br&gt;     &lt;strong&gt;Days on Market: &lt;/strong&gt;42&lt;br&gt;     &lt;strong&gt;Listing Agent: &lt;/strong&gt;Chad Carroll&lt;br&gt;     &lt;strong&gt;Buyer&#x27;s Agent: &lt;/strong&gt;Liliana Bustamante Rubio PA&lt;br&gt;     &lt;strong&gt;Price sq ft: &lt;/strong&gt;$974.03&lt;br&gt;     &lt;strong&gt;Address: &lt;/strong&gt;3400 SW 27th Ave 705&lt;br&gt;     &lt;/html&gt;     &lt;/div&gt;`)[0];\n",
       "                popup_4af97fca60d01484d98702abe246a644.setContent(html_2e5e7144d33d14c9ef2c3957e6fe6c68);\n",
       "            \n",
       "        \n",
       "\n",
       "        marker_dcb35a6f37f17499b79d477f817b24d3.bindPopup(popup_4af97fca60d01484d98702abe246a644)\n",
       "        ;\n",
       "\n",
       "        \n",
       "    \n",
       "    \n",
       "            var marker_3813487f0a03200dedcf2746e280cb1c = L.marker(\n",
       "                [25.7635359, -80.2029294],\n",
       "                {&quot;fill&quot;: true, &quot;radius&quot;: 5}\n",
       "            ).addTo(feature_group_e99598e41ec03893789827c3269fc5fa);\n",
       "        \n",
       "    \n",
       "            var icon_f7b50238d1aa03166fd9e3254dbd486f = L.AwesomeMarkers.icon(\n",
       "                {&quot;extraClasses&quot;: &quot;fa-rotate-0&quot;, &quot;icon&quot;: &quot;info-sign&quot;, &quot;iconColor&quot;: &quot;white&quot;, &quot;markerColor&quot;: &quot;blue&quot;, &quot;prefix&quot;: &quot;glyphicon&quot;}\n",
       "            );\n",
       "            marker_3813487f0a03200dedcf2746e280cb1c.setIcon(icon_f7b50238d1aa03166fd9e3254dbd486f);\n",
       "        \n",
       "    \n",
       "        var popup_f2b0b4cc76d68d04e84e6cf488043ef5 = L.popup({&quot;maxWidth&quot;: 400});\n",
       "\n",
       "        \n",
       "            \n",
       "                var html_beb594d3cae49071ea06f3e472055b3e = $(`&lt;div id=&quot;html_beb594d3cae49071ea06f3e472055b3e&quot; style=&quot;width: 100.0%; height: 100.0%;&quot;&gt;&lt;!DOCTYPE html&gt;     &lt;html&gt;     &lt;strong&gt;Building Name: &lt;/strong&gt;Eleven in he Roads&lt;br&gt;     &lt;strong&gt;Sale Price: &lt;/strong&gt;$1,500,000.00&lt;br&gt;     &lt;strong&gt;Days on Market: &lt;/strong&gt;17&lt;br&gt;     &lt;strong&gt;Listing Agent: &lt;/strong&gt;Elliot Machado PA&lt;br&gt;     &lt;strong&gt;Buyer&#x27;s Agent: &lt;/strong&gt;Daniela Carvalho&lt;br&gt;     &lt;strong&gt;Price sq ft: &lt;/strong&gt;$741.11&lt;br&gt;     &lt;strong&gt;Address: &lt;/strong&gt;529 SW 11th St PH302&lt;br&gt;     &lt;/html&gt;     &lt;/div&gt;`)[0];\n",
       "                popup_f2b0b4cc76d68d04e84e6cf488043ef5.setContent(html_beb594d3cae49071ea06f3e472055b3e);\n",
       "            \n",
       "        \n",
       "\n",
       "        marker_3813487f0a03200dedcf2746e280cb1c.bindPopup(popup_f2b0b4cc76d68d04e84e6cf488043ef5)\n",
       "        ;\n",
       "\n",
       "        \n",
       "    \n",
       "    \n",
       "            var marker_e9065725706d3299ae308b0c8b83623c = L.marker(\n",
       "                [25.7304972, -80.23797019999999],\n",
       "                {&quot;fill&quot;: true, &quot;radius&quot;: 5}\n",
       "            ).addTo(feature_group_e99598e41ec03893789827c3269fc5fa);\n",
       "        \n",
       "    \n",
       "            var icon_7bc771a1df73475fc3d38315061dc2bf = L.AwesomeMarkers.icon(\n",
       "                {&quot;extraClasses&quot;: &quot;fa-rotate-0&quot;, &quot;icon&quot;: &quot;info-sign&quot;, &quot;iconColor&quot;: &quot;white&quot;, &quot;markerColor&quot;: &quot;blue&quot;, &quot;prefix&quot;: &quot;glyphicon&quot;}\n",
       "            );\n",
       "            marker_e9065725706d3299ae308b0c8b83623c.setIcon(icon_7bc771a1df73475fc3d38315061dc2bf);\n",
       "        \n",
       "    \n",
       "        var popup_ad440834cc5e05b14fe7d43d3ab3f61a = L.popup({&quot;maxWidth&quot;: 400});\n",
       "\n",
       "        \n",
       "            \n",
       "                var html_a8a1d435efd2493979b8c8383a76e45c = $(`&lt;div id=&quot;html_a8a1d435efd2493979b8c8383a76e45c&quot; style=&quot;width: 100.0%; height: 100.0%;&quot;&gt;&lt;!DOCTYPE html&gt;     &lt;html&gt;     &lt;strong&gt;Building Name: &lt;/strong&gt;Ritz Carlton&lt;br&gt;     &lt;strong&gt;Sale Price: &lt;/strong&gt;$1,480,000.00&lt;br&gt;     &lt;strong&gt;Days on Market: &lt;/strong&gt;173&lt;br&gt;     &lt;strong&gt;Listing Agent: &lt;/strong&gt;Mitzi Mitchell&lt;br&gt;     &lt;strong&gt;Buyer&#x27;s Agent: &lt;/strong&gt;Nina Giambalvo&lt;br&gt;     &lt;strong&gt;Price sq ft: &lt;/strong&gt;$729.78&lt;br&gt;     &lt;strong&gt;Address: &lt;/strong&gt;3350 SW 27th Ave 1106 Coconut&lt;br&gt;     &lt;/html&gt;     &lt;/div&gt;`)[0];\n",
       "                popup_ad440834cc5e05b14fe7d43d3ab3f61a.setContent(html_a8a1d435efd2493979b8c8383a76e45c);\n",
       "            \n",
       "        \n",
       "\n",
       "        marker_e9065725706d3299ae308b0c8b83623c.bindPopup(popup_ad440834cc5e05b14fe7d43d3ab3f61a)\n",
       "        ;\n",
       "\n",
       "        \n",
       "    \n",
       "    \n",
       "            var tile_layer_b404d4b4abf6410a6d97c149257fc0ae = L.tileLayer(\n",
       "                &quot;https://{s}.tile.openstreetmap.org/{z}/{x}/{y}.png&quot;,\n",
       "                {&quot;attribution&quot;: &quot;Data by \\u0026copy; \\u003ca href=\\&quot;http://openstreetmap.org\\&quot;\\u003eOpenStreetMap\\u003c/a\\u003e, under \\u003ca href=\\&quot;http://www.openstreetmap.org/copyright\\&quot;\\u003eODbL\\u003c/a\\u003e.&quot;, &quot;detectRetina&quot;: false, &quot;maxNativeZoom&quot;: 18, &quot;maxZoom&quot;: 18, &quot;minZoom&quot;: 0, &quot;noWrap&quot;: false, &quot;opacity&quot;: 1, &quot;subdomains&quot;: &quot;abc&quot;, &quot;tms&quot;: false}\n",
       "            ).addTo(map_7714ef22355237151b637e4e1accb70f);\n",
       "        \n",
       "    \n",
       "            var layer_control_acb37f2032ef49d426012ec86f8706e6 = {\n",
       "                base_layers : {\n",
       "                },\n",
       "                overlays :  {\n",
       "                    &quot;Top Sale&quot; : feature_group_ed6e36dfa3192afe2ed22976ffc23abd,\n",
       "                    &quot;All other sales&quot; : feature_group_e99598e41ec03893789827c3269fc5fa,\n",
       "                },\n",
       "            };\n",
       "            L.control.layers(\n",
       "                layer_control_acb37f2032ef49d426012ec86f8706e6.base_layers,\n",
       "                layer_control_acb37f2032ef49d426012ec86f8706e6.overlays,\n",
       "                {&quot;autoZIndex&quot;: true, &quot;collapsed&quot;: false, &quot;position&quot;: &quot;topright&quot;}\n",
       "            ).addTo(map_7714ef22355237151b637e4e1accb70f);\n",
       "        \n",
       "&lt;/script&gt;\" style=\"position:absolute;width:100%;height:100%;left:0;top:0;border:none !important;\" allowfullscreen webkitallowfullscreen mozallowfullscreen></iframe></div></div>"
      ],
      "text/plain": [
       "<folium.folium.Map at 0x7fac91696cd0>"
      ]
     },
     "execution_count": 26,
     "metadata": {},
     "output_type": "execute_result"
    }
   ],
   "source": [
    "import folium\n",
    "from folium.plugins import MarkerCluster\n",
    "\n",
    "m = folium.Map(location=df[[\"lat\", \"lon\"]].mean().to_list(), zoom_start=10)\n",
    "\n",
    "title_html = '''\n",
    "              <h3 align=\"center\" style=\"font-size:16px\"><b>{}</b></h3>\n",
    "             '''.format(f'Recent Miami-Dade Condo Sales ')\n",
    "\n",
    "caption_html = '''\n",
    "                <p align=\"center\" style=\"vertical-align: bottom; font-size:13px\"><i>{}</i></p>\n",
    "                '''.format('September 24th - September 30th')\n",
    "\n",
    "\n",
    "### Create map container ###\n",
    "m = folium.Map(location=df[[\"lat\", \"lon\"]].mean().to_list(),zoom_start=9.5,tiles=None)\n",
    "\n",
    "# Create two FeatureGroups for different color pins\n",
    "fg_blue = folium.FeatureGroup(name='All other sales')\n",
    "fg_orange = folium.FeatureGroup(name='Top Sale')\n",
    "\n",
    "for index, row in df.iterrows():\n",
    "    # Add the markers to the appropriate FeatureGroup based on the color\n",
    "    if row['COLOR'] == 'blue':\n",
    "        marker = folium.Marker(\n",
    "            location=[row['lat'], row['lon']],\n",
    "            radius=5,\n",
    "            fill=True,\n",
    "            icon=folium.Icon(color=row['COLOR']),\n",
    "            popup=folium.Popup(popup_html(row), max_width=400))\n",
    "        marker.add_to(fg_blue)\n",
    "    else:\n",
    "        marker = folium.Marker(\n",
    "            location=[row['lat'], row['lon']],\n",
    "            radius=5,\n",
    "            fill=True,\n",
    "            icon=folium.Icon(color=row['COLOR']),\n",
    "            popup=folium.Popup(popup_html(row), max_width=400))\n",
    "        marker.add_to(fg_orange)\n",
    "\n",
    "# Add the FeatureGroups to the map\n",
    "fg_orange.add_to(m)\n",
    "fg_blue.add_to(m)\n",
    "\n",
    "folium.TileLayer('OpenStreetMap',control=False).add_to(m)\n",
    "\n",
    "# Add LayerControl to the map\n",
    "folium.map.LayerControl(collapsed=False).add_to(m)\n",
    "m.get_root().html.add_child(folium.Element(title_html))\n",
    "m.get_root().html.add_child(folium.Element(caption_html))\n",
    "            \n",
    "# Display map\n",
    "m"
   ]
  },
  {
   "cell_type": "code",
   "execution_count": 27,
   "metadata": {},
   "outputs": [],
   "source": [
    "m.save('index.html')"
   ]
  },
  {
   "cell_type": "markdown",
   "metadata": {},
   "source": [
    "## Data snagger"
   ]
  },
  {
   "cell_type": "code",
   "execution_count": 21,
   "metadata": {},
   "outputs": [],
   "source": [
    "### Set up formatting ###\n",
    "BR = '\\n'\n",
    "\n",
    "ME = '\\033[1m' + 'Most Expensive' + '\\033[0m'\n",
    "LE = '\\033[1m' + 'Least Expensive' + '\\033[0m'\n",
    "\n",
    "MAX_PSF = '\\033[1m' + 'Highest Price Per Square Foot' + '\\033[0m'\n",
    "MIN_PSF = '\\033[1m' + 'Lowest Price Per Square Foot' + '\\033[0m'\n",
    "\n",
    "DAYS_MAX = '\\033[1m' + 'Most Days on Market' + '\\033[0m'\n",
    "DAYS_MIN = '\\033[1m' + 'Fewest Days on Market' + '\\033[0m'"
   ]
  },
  {
   "cell_type": "code",
   "execution_count": 22,
   "metadata": {},
   "outputs": [
    {
     "name": "stdout",
     "output_type": "stream",
     "text": [
      "\u001b[1mMost Expensive\u001b[0m\n",
      "10295 Collins Ave Residences, 10295 Collins Ave 809 Bal | Price $5,500,000 | $2,081 psf | Listing agent: Jodi Macken with Macken Realty Inc | Buyer's agent: Joanna Jimenez with Compass Florida, LLC. | Days on market: 49\n",
      "\u001b[1mLeast Expensive\u001b[0m\n",
      "Ritz Carlton, 3350 SW 27th Ave 1106 Coconut | Price $1,480,000 | $730 psf | Listing agent: Mitzi Mitchell with Cervera Real Estate Inc. | Buyer's agent: Nina Giambalvo with Cervera Real Estate Inc. | Days on market: 173\n",
      "\u001b[1mHighest Price Per Square Foot\u001b[0m\n",
      "1 Hotel, & Homes 102 24th St 1010 Miami | Price $2,250,000 | $2,520 psf | Listing agent: Jackie Farrell with Rook Realty LLC | Buyer's agent: Tracy Galya with Douglas Elliman | Days on market: 122\n",
      "\u001b[1mLowest Price Per Square Foot\u001b[0m\n",
      "Ritz Carlton, 3350 SW 27th Ave 1106 Coconut | Price $1,480,000 | $730 psf | Listing agent: Mitzi Mitchell with Cervera Real Estate Inc. | Buyer's agent: Nina Giambalvo with Cervera Real Estate Inc. | Days on market: 173\n",
      "\u001b[1mMost Days on Market\u001b[0m\n",
      "Trump Tower I, 16001 Collins Ave 2701 Sunny Isles | Price $2,600,000 | $939 psf | Listing agent: Linda Mannix Burt with RE/MAX Preferred | Buyer's agent: Cassio Faccin with FACCIN Group Realty | Days on market: 202\n",
      "\u001b[1mFewest Days on Market\u001b[0m\n",
      "Paramount Bay, 2020 N Bayshore Dr 3903 | Price $1,735,000 | $1,016 psf | Listing agent: Ignacio Villanueva with Douglas Elliman | Buyer's agent: Carlos Rua with Rua Realty, Inc | Days on market: 14\n"
     ]
    }
   ],
   "source": [
    "### Highest and lowest sale price ###\n",
    "print(f\"{ME}{BR}{df.loc[df['int_Sale_Price'].idxmax()]['building_name']}, {df.loc[df['int_Sale_Price'].idxmax()]['address']} | Price ${df.loc[df['int_Sale_Price'].idxmax()]['int_Sale_Price']:,.0f} | ${df.loc[df['int_Sale_Price'].idxmax()]['price_per_sqft']:,.0f} psf | Listing agent: {df.loc[df['int_Sale_Price'].idxmax()]['Agent']} with {df.loc[df['int_Sale_Price'].idxmax()]['Listing Broker']} | Buyer's agent: {df.loc[df['int_Sale_Price'].idxmax()]['Buyer Agent']} with {df.loc[df['int_Sale_Price'].idxmax()]['Buyer Broker']} | Days on market: {df.loc[df['int_Sale_Price'].idxmax()]['days_on_market']}\")\n",
    "print(f\"{LE}{BR}{df.loc[df['int_Sale_Price'].idxmin()]['building_name']}, {df.loc[df['int_Sale_Price'].idxmin()]['address']} | Price ${df.loc[df['int_Sale_Price'].idxmin()]['int_Sale_Price']:,.0f} | ${df.loc[df['int_Sale_Price'].idxmin()]['price_per_sqft']:,.0f} psf | Listing agent: {df.loc[df['int_Sale_Price'].idxmin()]['Agent']} with {df.loc[df['int_Sale_Price'].idxmin()]['Listing Broker']} | Buyer's agent: {df.loc[df['int_Sale_Price'].idxmin()]['Buyer Agent']} with {df.loc[df['int_Sale_Price'].idxmin()]['Buyer Broker']} | Days on market: {df.loc[df['int_Sale_Price'].idxmin()]['days_on_market']}\")\n",
    "### Highest and lowest psf ###\n",
    "print(f\"{MAX_PSF}{BR}{df.loc[df['price_per_sqft'].idxmax()]['building_name']}, {df.loc[df['price_per_sqft'].idxmax()]['address']} | Price ${df.loc[df['price_per_sqft'].idxmax()]['int_Sale_Price']:,.0f} | ${df.loc[df['price_per_sqft'].idxmax()]['price_per_sqft']:,.0f} psf | Listing agent: {df.loc[df['price_per_sqft'].idxmax()]['Agent']} with {df.loc[df['price_per_sqft'].idxmax()]['Listing Broker']} | Buyer's agent: {df.loc[df['price_per_sqft'].idxmax()]['Buyer Agent']} with {df.loc[df['price_per_sqft'].idxmax()]['Buyer Broker']} | Days on market: {df.loc[df['price_per_sqft'].idxmax()]['days_on_market']}\")\n",
    "print(f\"{MIN_PSF}{BR}{df.loc[df['price_per_sqft'].idxmin()]['building_name']}, {df.loc[df['price_per_sqft'].idxmin()]['address']} | Price ${df.loc[df['price_per_sqft'].idxmin()]['int_Sale_Price']:,.0f} | ${df.loc[df['price_per_sqft'].idxmin()]['price_per_sqft']:,.0f} psf | Listing agent: {df.loc[df['price_per_sqft'].idxmin()]['Agent']} with {df.loc[df['price_per_sqft'].idxmin()]['Listing Broker']} | Buyer's agent: {df.loc[df['price_per_sqft'].idxmin()]['Buyer Agent']} with {df.loc[df['price_per_sqft'].idxmin()]['Buyer Broker']} | Days on market: {df.loc[df['price_per_sqft'].idxmin()]['days_on_market']}\")\n",
    "### Highest and lowest days on market ###\n",
    "print(f\"{DAYS_MAX}{BR}{df.loc[df['days_on_market'].idxmax()]['building_name']}, {df.loc[df['days_on_market'].idxmax()]['address']} | Price ${df.loc[df['days_on_market'].idxmax()]['int_Sale_Price']:,.0f} | ${df.loc[df['days_on_market'].idxmax()]['price_per_sqft']:,.0f} psf | Listing agent: {df.loc[df['days_on_market'].idxmax()]['Agent']} with {df.loc[df['days_on_market'].idxmax()]['Listing Broker']} | Buyer's agent: {df.loc[df['days_on_market'].idxmax()]['Buyer Agent']} with {df.loc[df['days_on_market'].idxmax()]['Buyer Broker']} | Days on market: {df.loc[df['days_on_market'].idxmax()]['days_on_market']}\")\n",
    "print(f\"{DAYS_MIN}{BR}{df.loc[df['days_on_market'].idxmin()]['building_name']}, {df.loc[df['days_on_market'].idxmin()]['address']} | Price ${df.loc[df['days_on_market'].idxmin()]['int_Sale_Price']:,.0f} | ${df.loc[df['days_on_market'].idxmin()]['price_per_sqft']:,.0f} psf | Listing agent: {df.loc[df['days_on_market'].idxmin()]['Agent']} with {df.loc[df['days_on_market'].idxmin()]['Listing Broker']} | Buyer's agent: {df.loc[df['days_on_market'].idxmin()]['Buyer Agent']} with {df.loc[df['days_on_market'].idxmin()]['Buyer Broker']} | Days on market: {df.loc[df['days_on_market'].idxmin()]['days_on_market']}\")"
   ]
  },
  {
   "cell_type": "code",
   "execution_count": 23,
   "metadata": {},
   "outputs": [
    {
     "data": {
      "text/plain": [
       "73.0"
      ]
     },
     "execution_count": 23,
     "metadata": {},
     "output_type": "execute_result"
    }
   ],
   "source": [
    "df['days_on_market'].mean()"
   ]
  },
  {
   "cell_type": "markdown",
   "metadata": {},
   "source": [
    "## Map URL snagger"
   ]
  },
  {
   "cell_type": "markdown",
   "metadata": {},
   "source": [
    "Map template URL: `https://trd-digital.github.io/trd-news-interactive-maps/{map-folder-name}`"
   ]
  },
  {
   "cell_type": "code",
   "execution_count": 24,
   "metadata": {},
   "outputs": [],
   "source": [
    "base_name = 'https://trd-digital.github.io/trd-news-interactive-maps/'"
   ]
  },
  {
   "cell_type": "code",
   "execution_count": 25,
   "metadata": {},
   "outputs": [
    {
     "name": "stdout",
     "output_type": "stream",
     "text": [
      "https://trd-digital.github.io/trd-news-interactive-maps/condo_sales_week_ending_10022023\n"
     ]
    }
   ],
   "source": [
    "cwd = os.getcwd()\n",
    "\n",
    "cwd = cwd.split('/')\n",
    "\n",
    "final_name = base_name + cwd[-1]\n",
    "print(final_name)"
   ]
  }
 ],
 "metadata": {
  "kernelspec": {
   "display_name": "Python 3 (ipykernel)",
   "language": "python",
   "name": "python3"
  },
  "language_info": {
   "codemirror_mode": {
    "name": "ipython",
    "version": 3
   },
   "file_extension": ".py",
   "mimetype": "text/x-python",
   "name": "python",
   "nbconvert_exporter": "python",
   "pygments_lexer": "ipython3",
   "version": "3.9.12"
  },
  "toc": {
   "base_numbering": 1,
   "nav_menu": {},
   "number_sections": true,
   "sideBar": true,
   "skip_h1_title": false,
   "title_cell": "Table of Contents",
   "title_sidebar": "Contents",
   "toc_cell": false,
   "toc_position": {},
   "toc_section_display": true,
   "toc_window_display": false
  }
 },
 "nbformat": 4,
 "nbformat_minor": 4
}
