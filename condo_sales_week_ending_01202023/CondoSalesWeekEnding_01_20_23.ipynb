{
 "cells": [
  {
   "cell_type": "markdown",
   "metadata": {},
   "source": [
    "## Imports"
   ]
  },
  {
   "cell_type": "code",
   "execution_count": 1,
   "metadata": {},
   "outputs": [],
   "source": [
    "import googlemaps\n",
    "import pandas as pd\n",
    "import numpy as np\n",
    "import re\n",
    "import os\n",
    "import geopandas as gpd\n",
    "import folium\n",
    "import tabula\n",
    "from datetime import datetime, timedelta"
   ]
  },
  {
   "cell_type": "markdown",
   "metadata": {},
   "source": [
    "## Read-in"
   ]
  },
  {
   "cell_type": "code",
   "execution_count": 2,
   "metadata": {},
   "outputs": [],
   "source": [
    "# Gotta figure out how to get rid of the java error.\n",
    "# SO: https://stackoverflow.com/questions/54817211/java-command-is-not-found-from-this-python-process-please-ensure-java-is-inst\n",
    "dsf = tabula.read_pdf('condo.pdf', pages='all')"
   ]
  },
  {
   "cell_type": "markdown",
   "metadata": {},
   "source": [
    "## Current Week's Values"
   ]
  },
  {
   "cell_type": "code",
   "execution_count": 3,
   "metadata": {},
   "outputs": [
    {
     "name": "stdout",
     "output_type": "stream",
     "text": [
      "Input Week Starting Date:\n",
      "Jan. 14th\n",
      "Input Week Ending Date:\n",
      "Jan. 20th\n",
      "Input Current Week Condo Sales (num of units sold):\n",
      "81\n",
      "Input Average Sale Price:\n",
      "871473\n",
      "Input Average PSF:\n",
      "543\n",
      "Input Average Days on Market:\n",
      "84\n",
      "Input Current Week Condo Sales Total (ex: $XX million):\n",
      "70589325\n",
      "Input Top Image URL from condo:\n",
      "https://www.condo.com/building/Fendi-Chateau-Ocean-Residences-Surfside-FL-33154-58725728\n"
     ]
    }
   ],
   "source": [
    "print('Input Week Starting Date:')\n",
    "week_starting = input()\n",
    "print('Input Week Ending Date:')\n",
    "week_ending = input()\n",
    "print('Input Current Week Condo Sales (num of units sold):')\n",
    "current_week_condo_sales = input()\n",
    "print('Input Average Sale Price:')\n",
    "average_sale_price = input()\n",
    "print('Input Average PSF:')\n",
    "average_price_psf = input()\n",
    "print('Input Average Days on Market:')\n",
    "average_days_on_market = input()\n",
    "print('Input Current Week Condo Sales Total (ex: $XX million):')\n",
    "current_week_condo_sales_total = input()\n",
    "print('Input Top Image URL from condo:')\n",
    "top_condo_image_url = input()"
   ]
  },
  {
   "cell_type": "markdown",
   "metadata": {},
   "source": [
    "## Previous Week's Values"
   ]
  },
  {
   "cell_type": "code",
   "execution_count": 4,
   "metadata": {},
   "outputs": [
    {
     "name": "stdout",
     "output_type": "stream",
     "text": [
      "Input Previous Week Condo Sales Total (number units sold):\n",
      "100\n",
      "Input Previous Week Condo Average Sales Price:\n",
      "1000933\n",
      "Input Previous Week Condo Average PSF:\n",
      "634\n",
      "Input Previous Week Condo Sales total (ex: $XX million)\n",
      "100093300\n"
     ]
    }
   ],
   "source": [
    "print('Input Previous Week Condo Sales Total (number units sold):')\n",
    "previous_week_condo_sales = input()\n",
    "print('Input Previous Week Condo Average Sales Price:')\n",
    "previous_week_average_sales_price = input()\n",
    "print('Input Previous Week Condo Average PSF:')\n",
    "previous_week_average_psf = input()\n",
    "print('Input Previous Week Condo Sales total (ex: $XX million)')\n",
    "previous_week_condo_sales_total = input()"
   ]
  },
  {
   "cell_type": "markdown",
   "metadata": {},
   "source": [
    "## Clean Data"
   ]
  },
  {
   "cell_type": "code",
   "execution_count": 5,
   "metadata": {},
   "outputs": [],
   "source": [
    "df = dsf[0]\n",
    "df.columns = df.iloc[0]\n",
    "df = df[1:]\n",
    "df = df.drop(columns=df.columns[0])\n",
    "df = df.replace(np.nan, 'Not Available', regex=True)\n",
    "df = df.rename(columns={'Building / Address / City': 'building_address_city','Days on\\rMarket':'days_on_market',\\\n",
    "                        'Price /\\rSq. Ft.':'price_per_sqft'})\n",
    "df['building_address_city'] = df['building_address_city'].str.replace('^0', '', regex=True)\n",
    "df['geo_address'] = df['building_address_city']\n",
    "df['geo_address'] = df['geo_address'].map(lambda x: re.sub(r'\\r', ' ', x))\n",
    "df = df.replace('\\n',' ',regex=True)\n",
    "pattern = r'^(?P<building_name>[\\d\\s]*[A-Za-z\\s]+)\\s(?P<address>.+)\\s(?P<city>[A-Za-z\\s]+)$'\n",
    "df2 = df['geo_address']\n",
    "df2 = df2.to_frame()\n",
    "df2[['building_name', 'address', 'city']] = df2['geo_address'].str.extract(pattern, expand=True)"
   ]
  },
  {
   "cell_type": "markdown",
   "metadata": {},
   "source": [
    "Review this later (it's about how to properly merge DFs): https://pandas.pydata.org/pandas-docs/stable/user_guide/merging.html"
   ]
  },
  {
   "cell_type": "markdown",
   "metadata": {},
   "source": [
    "## Geocode"
   ]
  },
  {
   "cell_type": "code",
   "execution_count": 6,
   "metadata": {},
   "outputs": [],
   "source": [
    "result = pd.merge(df,df2,left_index=True, right_index=True)\n",
    "df = result\n",
    "df = df.drop(columns='city')"
   ]
  },
  {
   "cell_type": "code",
   "execution_count": 7,
   "metadata": {},
   "outputs": [],
   "source": [
    "%store -r google_maps_API_Key\n",
    "gmaps_key = googlemaps.Client(key=google_maps_API_Key)"
   ]
  },
  {
   "cell_type": "code",
   "execution_count": 8,
   "metadata": {},
   "outputs": [],
   "source": [
    "def geocode(add):\n",
    "    g = gmaps_key.geocode(add)\n",
    "    lat = g[0][\"geometry\"][\"location\"][\"lat\"]\n",
    "    lng = g[0][\"geometry\"][\"location\"][\"lng\"]\n",
    "    return (lat, lng)\n",
    "\n",
    "df['geocoded'] = df['geo_address_x'].apply(geocode)"
   ]
  },
  {
   "cell_type": "code",
   "execution_count": 9,
   "metadata": {},
   "outputs": [],
   "source": [
    "df['geocoded'] = df['geocoded'].astype(str)\n",
    "df[['lat', 'lon']] = df['geocoded'].str.strip('()').str.split(', ', expand=True)\n",
    "df['lat'] = df['lat'].astype(float)\n",
    "df['lon'] = df['lon'].astype(float)"
   ]
  },
  {
   "cell_type": "markdown",
   "metadata": {},
   "source": [
    "Folium documentation link: https://python-visualization.github.io/folium/index.html\n",
    "\n",
    "Folium is the library that lets us use leaflet with Python, since it's meant to be used with JavaScript.\n",
    "\n",
    "For adding titles: https://stackoverflow.com/questions/61928013/adding-a-title-or-text-to-a-folium-map"
   ]
  },
  {
   "cell_type": "markdown",
   "metadata": {},
   "source": [
    "## Correction section"
   ]
  },
  {
   "cell_type": "code",
   "execution_count": 11,
   "metadata": {},
   "outputs": [],
   "source": [
    "# df.at[index#,'col_name']"
   ]
  },
  {
   "cell_type": "markdown",
   "metadata": {},
   "source": [
    "## Format Data"
   ]
  },
  {
   "cell_type": "code",
   "execution_count": 10,
   "metadata": {},
   "outputs": [],
   "source": [
    "### Insert NaNs if needed ###\n",
    "df = df.replace('N/A', np.nan)"
   ]
  },
  {
   "cell_type": "code",
   "execution_count": 11,
   "metadata": {},
   "outputs": [],
   "source": [
    "df['int_Sale_Price'] = df['Sale Price'].str.replace('$','',regex=False)"
   ]
  },
  {
   "cell_type": "code",
   "execution_count": 12,
   "metadata": {},
   "outputs": [],
   "source": [
    "df['int_Sale_Price'] = df['int_Sale_Price'].str.replace(',','',regex=False)"
   ]
  },
  {
   "cell_type": "code",
   "execution_count": 13,
   "metadata": {},
   "outputs": [],
   "source": [
    "df['int_Sale_Price'] = pd.to_numeric(df['int_Sale_Price'])"
   ]
  },
  {
   "cell_type": "code",
   "execution_count": 14,
   "metadata": {},
   "outputs": [],
   "source": [
    "df['price_per_sqft'] = df['price_per_sqft'].str.replace('$','',regex=False)\n",
    "df['price_per_sqft'] = df['price_per_sqft'].str.replace(',','',regex=False)\n",
    "df['price_per_sqft'] = pd.to_numeric(df['price_per_sqft'])\n",
    "\n",
    "df['days_on_market'] = pd.to_numeric(df['days_on_market'])"
   ]
  },
  {
   "cell_type": "markdown",
   "metadata": {},
   "source": [
    "## Color-code top sale"
   ]
  },
  {
   "cell_type": "code",
   "execution_count": 15,
   "metadata": {},
   "outputs": [],
   "source": [
    "### Insert RANK values ###\n",
    "df['RANK'] = range(1, len(df) + 1)\n",
    "# use numpy to assign values to the 'COLOR' column\n",
    "df['COLOR'] = np.where(df['RANK'] <= 1, 'orange', 'blue')"
   ]
  },
  {
   "cell_type": "markdown",
   "metadata": {},
   "source": [
    "## HTML Popup Formatter"
   ]
  },
  {
   "cell_type": "code",
   "execution_count": 16,
   "metadata": {},
   "outputs": [
    {
     "data": {
      "text/plain": [
       "Index(['building_address_city', 'Close Date', 'days_on_market', 'Sale Price',\n",
       "       'Sq. Ft.', 'price_per_sqft', 'Agent', 'Listing Broker', 'Buyer Agent',\n",
       "       'Buyer Broker', 'geo_address_x', 'geo_address_y', 'building_name',\n",
       "       'address', 'geocoded', 'lat', 'lon', 'int_Sale_Price', 'RANK', 'COLOR'],\n",
       "      dtype='object')"
      ]
     },
     "execution_count": 16,
     "metadata": {},
     "output_type": "execute_result"
    }
   ],
   "source": [
    "df.columns"
   ]
  },
  {
   "cell_type": "code",
   "execution_count": 17,
   "metadata": {},
   "outputs": [],
   "source": [
    "def popup_html(row):\n",
    "    building_name = row['building_name']\n",
    "    price = row['Sale Price']\n",
    "    days_on_market = row['days_on_market']\n",
    "    listing_agent = row['Agent']\n",
    "    buyers_agent = row['Buyer Agent']\n",
    "    psf = row['price_per_sqft']\n",
    "    address = row['address']\n",
    "    \n",
    "    html = '''<!DOCTYPE html>\n",
    "    <html>\n",
    "    <strong>Building Name: </strong>{}'''.format(building_name) + '''<br>\n",
    "    <strong>Sale Price: </strong>{}'''.format(price) + '''<br>\n",
    "    <strong>Days on Market: </strong>{}'''.format(days_on_market) + '''<br>\n",
    "    <strong>Listing Agent: </strong>{}'''.format(listing_agent) + '''<br>\n",
    "    <strong>Buyer's Agent: </strong>{}'''.format(buyers_agent) + '''<br>\n",
    "    <strong>Price sq ft: </strong>${}'''.format(psf) + '''<br>\n",
    "    <strong>Address: </strong>{}'''.format(address) + '''<br>\n",
    "    </html>\n",
    "    '''\n",
    "    return html"
   ]
  },
  {
   "cell_type": "code",
   "execution_count": 18,
   "metadata": {},
   "outputs": [
    {
     "data": {
      "text/html": [
       "<div style=\"width:100%;\"><div style=\"position:relative;width:100%;height:0;padding-bottom:60%;\"><span style=\"color:#565656\">Make this Notebook Trusted to load map: File -> Trust Notebook</span><iframe srcdoc=\"&lt;!DOCTYPE html&gt;\n",
       "&lt;head&gt;    \n",
       "    &lt;meta http-equiv=&quot;content-type&quot; content=&quot;text/html; charset=UTF-8&quot; /&gt;\n",
       "    \n",
       "        &lt;script&gt;\n",
       "            L_NO_TOUCH = false;\n",
       "            L_DISABLE_3D = false;\n",
       "        &lt;/script&gt;\n",
       "    \n",
       "    &lt;style&gt;html, body {width: 100%;height: 100%;margin: 0;padding: 0;}&lt;/style&gt;\n",
       "    &lt;style&gt;#map {position:absolute;top:0;bottom:0;right:0;left:0;}&lt;/style&gt;\n",
       "    &lt;script src=&quot;https://cdn.jsdelivr.net/npm/leaflet@1.6.0/dist/leaflet.js&quot;&gt;&lt;/script&gt;\n",
       "    &lt;script src=&quot;https://code.jquery.com/jquery-1.12.4.min.js&quot;&gt;&lt;/script&gt;\n",
       "    &lt;script src=&quot;https://maxcdn.bootstrapcdn.com/bootstrap/3.2.0/js/bootstrap.min.js&quot;&gt;&lt;/script&gt;\n",
       "    &lt;script src=&quot;https://cdnjs.cloudflare.com/ajax/libs/Leaflet.awesome-markers/2.0.2/leaflet.awesome-markers.js&quot;&gt;&lt;/script&gt;\n",
       "    &lt;link rel=&quot;stylesheet&quot; href=&quot;https://cdn.jsdelivr.net/npm/leaflet@1.6.0/dist/leaflet.css&quot;/&gt;\n",
       "    &lt;link rel=&quot;stylesheet&quot; href=&quot;https://maxcdn.bootstrapcdn.com/bootstrap/3.2.0/css/bootstrap.min.css&quot;/&gt;\n",
       "    &lt;link rel=&quot;stylesheet&quot; href=&quot;https://maxcdn.bootstrapcdn.com/bootstrap/3.2.0/css/bootstrap-theme.min.css&quot;/&gt;\n",
       "    &lt;link rel=&quot;stylesheet&quot; href=&quot;https://maxcdn.bootstrapcdn.com/font-awesome/4.6.3/css/font-awesome.min.css&quot;/&gt;\n",
       "    &lt;link rel=&quot;stylesheet&quot; href=&quot;https://cdnjs.cloudflare.com/ajax/libs/Leaflet.awesome-markers/2.0.2/leaflet.awesome-markers.css&quot;/&gt;\n",
       "    &lt;link rel=&quot;stylesheet&quot; href=&quot;https://cdn.jsdelivr.net/gh/python-visualization/folium/folium/templates/leaflet.awesome.rotate.min.css&quot;/&gt;\n",
       "    \n",
       "            &lt;meta name=&quot;viewport&quot; content=&quot;width=device-width,\n",
       "                initial-scale=1.0, maximum-scale=1.0, user-scalable=no&quot; /&gt;\n",
       "            &lt;style&gt;\n",
       "                #map_cc11d4cdf21ad9328874b925f18b9052 {\n",
       "                    position: relative;\n",
       "                    width: 100.0%;\n",
       "                    height: 100.0%;\n",
       "                    left: 0.0%;\n",
       "                    top: 0.0%;\n",
       "                }\n",
       "            &lt;/style&gt;\n",
       "        \n",
       "&lt;/head&gt;\n",
       "&lt;body&gt;    \n",
       "    \n",
       "              &lt;h3 align=&quot;center&quot; style=&quot;font-size:16px&quot;&gt;&lt;b&gt;Recent Miami-Dade Condo Sales &lt;/b&gt;&lt;/h3&gt;\n",
       "             \n",
       "    \n",
       "                &lt;p align=&quot;center&quot; style=&quot;vertical-align: bottom; font-size:13px&quot;&gt;&lt;i&gt;Jan. 14th - Jan. 20th&lt;/i&gt;&lt;/p&gt;\n",
       "                \n",
       "    \n",
       "            &lt;div class=&quot;folium-map&quot; id=&quot;map_cc11d4cdf21ad9328874b925f18b9052&quot; &gt;&lt;/div&gt;\n",
       "        \n",
       "&lt;/body&gt;\n",
       "&lt;script&gt;    \n",
       "    \n",
       "            var map_cc11d4cdf21ad9328874b925f18b9052 = L.map(\n",
       "                &quot;map_cc11d4cdf21ad9328874b925f18b9052&quot;,\n",
       "                {\n",
       "                    center: [25.8821506, -80.12623755],\n",
       "                    crs: L.CRS.EPSG3857,\n",
       "                    zoom: 9.5,\n",
       "                    zoomControl: true,\n",
       "                    preferCanvas: false,\n",
       "                }\n",
       "            );\n",
       "\n",
       "            \n",
       "\n",
       "        \n",
       "    \n",
       "            var feature_group_357cf68e8889b343033d3857d5356d9b = L.featureGroup(\n",
       "                {}\n",
       "            ).addTo(map_cc11d4cdf21ad9328874b925f18b9052);\n",
       "        \n",
       "    \n",
       "            var marker_5fd692d3e583e6ae6a49125ff1e715b3 = L.marker(\n",
       "                [25.883, -80.12183999999999],\n",
       "                {&quot;fill&quot;: true, &quot;radius&quot;: 5}\n",
       "            ).addTo(feature_group_357cf68e8889b343033d3857d5356d9b);\n",
       "        \n",
       "    \n",
       "            var icon_609a87b249c70893f2e2c49a306aadca = L.AwesomeMarkers.icon(\n",
       "                {&quot;extraClasses&quot;: &quot;fa-rotate-0&quot;, &quot;icon&quot;: &quot;info-sign&quot;, &quot;iconColor&quot;: &quot;white&quot;, &quot;markerColor&quot;: &quot;orange&quot;, &quot;prefix&quot;: &quot;glyphicon&quot;}\n",
       "            );\n",
       "            marker_5fd692d3e583e6ae6a49125ff1e715b3.setIcon(icon_609a87b249c70893f2e2c49a306aadca);\n",
       "        \n",
       "    \n",
       "        var popup_bd86ead762cd824ff72c97c30923da9b = L.popup({&quot;maxWidth&quot;: 400});\n",
       "\n",
       "        \n",
       "            \n",
       "                var html_635bebb74fc7b9fb0a676c7ab183b55a = $(`&lt;div id=&quot;html_635bebb74fc7b9fb0a676c7ab183b55a&quot; style=&quot;width: 100.0%; height: 100.0%;&quot;&gt;&lt;!DOCTYPE html&gt;     &lt;html&gt;     &lt;strong&gt;Building Name: &lt;/strong&gt;Fendi Chateau&lt;br&gt;     &lt;strong&gt;Sale Price: &lt;/strong&gt;$14,250,000.00&lt;br&gt;     &lt;strong&gt;Days on Market: &lt;/strong&gt;70&lt;br&gt;     &lt;strong&gt;Listing Agent: &lt;/strong&gt;Devin Kay&lt;br&gt;     &lt;strong&gt;Buyer&#x27;s Agent: &lt;/strong&gt;Devin Kay&lt;br&gt;     &lt;strong&gt;Price sq ft: &lt;/strong&gt;$3175.84&lt;br&gt;     &lt;strong&gt;Address: &lt;/strong&gt;9349 Collins Ave 806&lt;br&gt;     &lt;/html&gt;     &lt;/div&gt;`)[0];\n",
       "                popup_bd86ead762cd824ff72c97c30923da9b.setContent(html_635bebb74fc7b9fb0a676c7ab183b55a);\n",
       "            \n",
       "        \n",
       "\n",
       "        marker_5fd692d3e583e6ae6a49125ff1e715b3.bindPopup(popup_bd86ead762cd824ff72c97c30923da9b)\n",
       "        ;\n",
       "\n",
       "        \n",
       "    \n",
       "    \n",
       "            var feature_group_8171fe1aeab0559543ea49ab3bae66fa = L.featureGroup(\n",
       "                {}\n",
       "            ).addTo(map_cc11d4cdf21ad9328874b925f18b9052);\n",
       "        \n",
       "    \n",
       "            var marker_318ac3e8604742e6d401a16b57bce123 = L.marker(\n",
       "                [25.9400518, -80.12056079999999],\n",
       "                {&quot;fill&quot;: true, &quot;radius&quot;: 5}\n",
       "            ).addTo(feature_group_8171fe1aeab0559543ea49ab3bae66fa);\n",
       "        \n",
       "    \n",
       "            var icon_dc1d99b1cd8e7910a22be07f24016df9 = L.AwesomeMarkers.icon(\n",
       "                {&quot;extraClasses&quot;: &quot;fa-rotate-0&quot;, &quot;icon&quot;: &quot;info-sign&quot;, &quot;iconColor&quot;: &quot;white&quot;, &quot;markerColor&quot;: &quot;blue&quot;, &quot;prefix&quot;: &quot;glyphicon&quot;}\n",
       "            );\n",
       "            marker_318ac3e8604742e6d401a16b57bce123.setIcon(icon_dc1d99b1cd8e7910a22be07f24016df9);\n",
       "        \n",
       "    \n",
       "        var popup_ee0c36d1b3722a8a903dd213fa498198 = L.popup({&quot;maxWidth&quot;: 400});\n",
       "\n",
       "        \n",
       "            \n",
       "                var html_9279dc3d463b542c8d5716c915d197a8 = $(`&lt;div id=&quot;html_9279dc3d463b542c8d5716c915d197a8&quot; style=&quot;width: 100.0%; height: 100.0%;&quot;&gt;&lt;!DOCTYPE html&gt;     &lt;html&gt;     &lt;strong&gt;Building Name: &lt;/strong&gt;Mansions at Acqualina&lt;br&gt;     &lt;strong&gt;Sale Price: &lt;/strong&gt;$7,250,000.00&lt;br&gt;     &lt;strong&gt;Days on Market: &lt;/strong&gt;47&lt;br&gt;     &lt;strong&gt;Listing Agent: &lt;/strong&gt;Victoria Krasnov&lt;br&gt;     &lt;strong&gt;Buyer&#x27;s Agent: &lt;/strong&gt;Tomer Kort&lt;br&gt;     &lt;strong&gt;Price sq ft: &lt;/strong&gt;$1573.01&lt;br&gt;     &lt;strong&gt;Address: &lt;/strong&gt;17749 Collins Ave 2802 Sunny Isles&lt;br&gt;     &lt;/html&gt;     &lt;/div&gt;`)[0];\n",
       "                popup_ee0c36d1b3722a8a903dd213fa498198.setContent(html_9279dc3d463b542c8d5716c915d197a8);\n",
       "            \n",
       "        \n",
       "\n",
       "        marker_318ac3e8604742e6d401a16b57bce123.bindPopup(popup_ee0c36d1b3722a8a903dd213fa498198)\n",
       "        ;\n",
       "\n",
       "        \n",
       "    \n",
       "    \n",
       "            var marker_1351aae9fffb5e686943be3a0910a73c = L.marker(\n",
       "                [25.9390201, -80.1337546],\n",
       "                {&quot;fill&quot;: true, &quot;radius&quot;: 5}\n",
       "            ).addTo(feature_group_8171fe1aeab0559543ea49ab3bae66fa);\n",
       "        \n",
       "    \n",
       "            var icon_7fc10c4ab89e0c3e9136598e6c3c35d7 = L.AwesomeMarkers.icon(\n",
       "                {&quot;extraClasses&quot;: &quot;fa-rotate-0&quot;, &quot;icon&quot;: &quot;info-sign&quot;, &quot;iconColor&quot;: &quot;white&quot;, &quot;markerColor&quot;: &quot;blue&quot;, &quot;prefix&quot;: &quot;glyphicon&quot;}\n",
       "            );\n",
       "            marker_1351aae9fffb5e686943be3a0910a73c.setIcon(icon_7fc10c4ab89e0c3e9136598e6c3c35d7);\n",
       "        \n",
       "    \n",
       "        var popup_2242d44ea1a2b25e9f14d52c4778d841 = L.popup({&quot;maxWidth&quot;: 400});\n",
       "\n",
       "        \n",
       "            \n",
       "                var html_0556c3cb1a94314702dd9dbaa398a72a = $(`&lt;div id=&quot;html_0556c3cb1a94314702dd9dbaa398a72a&quot; style=&quot;width: 100.0%; height: 100.0%;&quot;&gt;&lt;!DOCTYPE html&gt;     &lt;html&gt;     &lt;strong&gt;Building Name: &lt;/strong&gt;Residence Du Cap&lt;br&gt;     &lt;strong&gt;Sale Price: &lt;/strong&gt;$3,800,000.00&lt;br&gt;     &lt;strong&gt;Days on Market: &lt;/strong&gt;850&lt;br&gt;     &lt;strong&gt;Listing Agent: &lt;/strong&gt;Jorge Mendez&lt;br&gt;     &lt;strong&gt;Buyer&#x27;s Agent: &lt;/strong&gt;Fernanda Zomignani PA&lt;br&gt;     &lt;strong&gt;Price sq ft: &lt;/strong&gt;$773.93&lt;br&gt;     &lt;strong&gt;Address: &lt;/strong&gt;2600 Island Blvd PH4&lt;br&gt;     &lt;/html&gt;     &lt;/div&gt;`)[0];\n",
       "                popup_2242d44ea1a2b25e9f14d52c4778d841.setContent(html_0556c3cb1a94314702dd9dbaa398a72a);\n",
       "            \n",
       "        \n",
       "\n",
       "        marker_1351aae9fffb5e686943be3a0910a73c.bindPopup(popup_2242d44ea1a2b25e9f14d52c4778d841)\n",
       "        ;\n",
       "\n",
       "        \n",
       "    \n",
       "    \n",
       "            var marker_32cca47bb5268ce8735795ede676ecca = L.marker(\n",
       "                [25.7731379, -80.14060429999999],\n",
       "                {&quot;fill&quot;: true, &quot;radius&quot;: 5}\n",
       "            ).addTo(feature_group_8171fe1aeab0559543ea49ab3bae66fa);\n",
       "        \n",
       "    \n",
       "            var icon_8d4a0aa7e07318769b4b1aec2c9e55c7 = L.AwesomeMarkers.icon(\n",
       "                {&quot;extraClasses&quot;: &quot;fa-rotate-0&quot;, &quot;icon&quot;: &quot;info-sign&quot;, &quot;iconColor&quot;: &quot;white&quot;, &quot;markerColor&quot;: &quot;blue&quot;, &quot;prefix&quot;: &quot;glyphicon&quot;}\n",
       "            );\n",
       "            marker_32cca47bb5268ce8735795ede676ecca.setIcon(icon_8d4a0aa7e07318769b4b1aec2c9e55c7);\n",
       "        \n",
       "    \n",
       "        var popup_7c773ba12e553e127c6e6fe55c299d91 = L.popup({&quot;maxWidth&quot;: 400});\n",
       "\n",
       "        \n",
       "            \n",
       "                var html_d3e86fa34b7b2adc689e51fc7b04c489 = $(`&lt;div id=&quot;html_d3e86fa34b7b2adc689e51fc7b04c489&quot; style=&quot;width: 100.0%; height: 100.0%;&quot;&gt;&lt;!DOCTYPE html&gt;     &lt;html&gt;     &lt;strong&gt;Building Name: &lt;/strong&gt;Murano Grande at Portofino&lt;br&gt;     &lt;strong&gt;Sale Price: &lt;/strong&gt;$2,450,000.00&lt;br&gt;     &lt;strong&gt;Days on Market: &lt;/strong&gt;38&lt;br&gt;     &lt;strong&gt;Listing Agent: &lt;/strong&gt;Hyang Kwon&lt;br&gt;     &lt;strong&gt;Buyer&#x27;s Agent: &lt;/strong&gt;Laura Pantano&lt;br&gt;     &lt;strong&gt;Price sq ft: &lt;/strong&gt;$1719.3&lt;br&gt;     &lt;strong&gt;Address: &lt;/strong&gt;400 Alton Rd 2004 Miami&lt;br&gt;     &lt;/html&gt;     &lt;/div&gt;`)[0];\n",
       "                popup_7c773ba12e553e127c6e6fe55c299d91.setContent(html_d3e86fa34b7b2adc689e51fc7b04c489);\n",
       "            \n",
       "        \n",
       "\n",
       "        marker_32cca47bb5268ce8735795ede676ecca.bindPopup(popup_7c773ba12e553e127c6e6fe55c299d91)\n",
       "        ;\n",
       "\n",
       "        \n",
       "    \n",
       "    \n",
       "            var marker_7ea835dec93645aa2f4d8a9d44d48653 = L.marker(\n",
       "                [25.7577288, -80.1386049],\n",
       "                {&quot;fill&quot;: true, &quot;radius&quot;: 5}\n",
       "            ).addTo(feature_group_8171fe1aeab0559543ea49ab3bae66fa);\n",
       "        \n",
       "    \n",
       "            var icon_9d4757ea1cce467ad5b9876a5b5789a6 = L.AwesomeMarkers.icon(\n",
       "                {&quot;extraClasses&quot;: &quot;fa-rotate-0&quot;, &quot;icon&quot;: &quot;info-sign&quot;, &quot;iconColor&quot;: &quot;white&quot;, &quot;markerColor&quot;: &quot;blue&quot;, &quot;prefix&quot;: &quot;glyphicon&quot;}\n",
       "            );\n",
       "            marker_7ea835dec93645aa2f4d8a9d44d48653.setIcon(icon_9d4757ea1cce467ad5b9876a5b5789a6);\n",
       "        \n",
       "    \n",
       "        var popup_cb77e6640f4332328cec89407d1ff8e3 = L.popup({&quot;maxWidth&quot;: 400});\n",
       "\n",
       "        \n",
       "            \n",
       "                var html_8998950b98d1cbf9f6531de9efd3725d = $(`&lt;div id=&quot;html_8998950b98d1cbf9f6531de9efd3725d&quot; style=&quot;width: 100.0%; height: 100.0%;&quot;&gt;&lt;!DOCTYPE html&gt;     &lt;html&gt;     &lt;strong&gt;Building Name: &lt;/strong&gt;Seaside Condo&lt;br&gt;     &lt;strong&gt;Sale Price: &lt;/strong&gt;$2,350,000.00&lt;br&gt;     &lt;strong&gt;Days on Market: &lt;/strong&gt;229&lt;br&gt;     &lt;strong&gt;Listing Agent: &lt;/strong&gt;Karla Abaunza&lt;br&gt;     &lt;strong&gt;Buyer&#x27;s Agent: &lt;/strong&gt;Elena Bluntzer&lt;br&gt;     &lt;strong&gt;Price sq ft: &lt;/strong&gt;$1644.51&lt;br&gt;     &lt;strong&gt;Address: &lt;/strong&gt;19131 Fisher Island Dr 19131 Miami&lt;br&gt;     &lt;/html&gt;     &lt;/div&gt;`)[0];\n",
       "                popup_cb77e6640f4332328cec89407d1ff8e3.setContent(html_8998950b98d1cbf9f6531de9efd3725d);\n",
       "            \n",
       "        \n",
       "\n",
       "        marker_7ea835dec93645aa2f4d8a9d44d48653.bindPopup(popup_cb77e6640f4332328cec89407d1ff8e3)\n",
       "        ;\n",
       "\n",
       "        \n",
       "    \n",
       "    \n",
       "            var marker_5fd88e07aecd10b4ae5a0c8f8313189d = L.marker(\n",
       "                [25.9554284, -80.11966439999999],\n",
       "                {&quot;fill&quot;: true, &quot;radius&quot;: 5}\n",
       "            ).addTo(feature_group_8171fe1aeab0559543ea49ab3bae66fa);\n",
       "        \n",
       "    \n",
       "            var icon_bfc759903c2072bed45bbe24121aee51 = L.AwesomeMarkers.icon(\n",
       "                {&quot;extraClasses&quot;: &quot;fa-rotate-0&quot;, &quot;icon&quot;: &quot;info-sign&quot;, &quot;iconColor&quot;: &quot;white&quot;, &quot;markerColor&quot;: &quot;blue&quot;, &quot;prefix&quot;: &quot;glyphicon&quot;}\n",
       "            );\n",
       "            marker_5fd88e07aecd10b4ae5a0c8f8313189d.setIcon(icon_bfc759903c2072bed45bbe24121aee51);\n",
       "        \n",
       "    \n",
       "        var popup_75f5d23acb86680749fae9164ac9c4a2 = L.popup({&quot;maxWidth&quot;: 400});\n",
       "\n",
       "        \n",
       "            \n",
       "                var html_3f1642e5aeee22abe623bf084f97c518 = $(`&lt;div id=&quot;html_3f1642e5aeee22abe623bf084f97c518&quot; style=&quot;width: 100.0%; height: 100.0%;&quot;&gt;&lt;!DOCTYPE html&gt;     &lt;html&gt;     &lt;strong&gt;Building Name: &lt;/strong&gt;Ocean One&lt;br&gt;     &lt;strong&gt;Sale Price: &lt;/strong&gt;$2,175,000.00&lt;br&gt;     &lt;strong&gt;Days on Market: &lt;/strong&gt;54&lt;br&gt;     &lt;strong&gt;Listing Agent: &lt;/strong&gt;Joanna Jimenez&lt;br&gt;     &lt;strong&gt;Buyer&#x27;s Agent: &lt;/strong&gt;Isabel Cortes&lt;br&gt;     &lt;strong&gt;Price sq ft: &lt;/strong&gt;$1126.94&lt;br&gt;     &lt;strong&gt;Address: &lt;/strong&gt;19333 Collins Ave 2108 Sunny Isles&lt;br&gt;     &lt;/html&gt;     &lt;/div&gt;`)[0];\n",
       "                popup_75f5d23acb86680749fae9164ac9c4a2.setContent(html_3f1642e5aeee22abe623bf084f97c518);\n",
       "            \n",
       "        \n",
       "\n",
       "        marker_5fd88e07aecd10b4ae5a0c8f8313189d.bindPopup(popup_75f5d23acb86680749fae9164ac9c4a2)\n",
       "        ;\n",
       "\n",
       "        \n",
       "    \n",
       "    \n",
       "            var marker_edfb27d3ad60d6f82dedb5420326745b = L.marker(\n",
       "                [25.924516, -80.1219765],\n",
       "                {&quot;fill&quot;: true, &quot;radius&quot;: 5}\n",
       "            ).addTo(feature_group_8171fe1aeab0559543ea49ab3bae66fa);\n",
       "        \n",
       "    \n",
       "            var icon_e2fb0fcf2d4106cd39ea018bef90a073 = L.AwesomeMarkers.icon(\n",
       "                {&quot;extraClasses&quot;: &quot;fa-rotate-0&quot;, &quot;icon&quot;: &quot;info-sign&quot;, &quot;iconColor&quot;: &quot;white&quot;, &quot;markerColor&quot;: &quot;blue&quot;, &quot;prefix&quot;: &quot;glyphicon&quot;}\n",
       "            );\n",
       "            marker_edfb27d3ad60d6f82dedb5420326745b.setIcon(icon_e2fb0fcf2d4106cd39ea018bef90a073);\n",
       "        \n",
       "    \n",
       "        var popup_383950b74e46c1b4fa686370a8e18cc4 = L.popup({&quot;maxWidth&quot;: 400});\n",
       "\n",
       "        \n",
       "            \n",
       "                var html_abeff7d8072ace6d6257c1832a419a08 = $(`&lt;div id=&quot;html_abeff7d8072ace6d6257c1832a419a08&quot; style=&quot;width: 100.0%; height: 100.0%;&quot;&gt;&lt;!DOCTYPE html&gt;     &lt;html&gt;     &lt;strong&gt;Building Name: &lt;/strong&gt;Trump Tower&lt;br&gt;     &lt;strong&gt;Sale Price: &lt;/strong&gt;$2,075,000.00&lt;br&gt;     &lt;strong&gt;Days on Market: &lt;/strong&gt;326&lt;br&gt;     &lt;strong&gt;Listing Agent: &lt;/strong&gt;Vanesa Seijas&lt;br&gt;     &lt;strong&gt;Buyer&#x27;s Agent: &lt;/strong&gt;Vanesa Seijas&lt;br&gt;     &lt;strong&gt;Price sq ft: &lt;/strong&gt;$891.71&lt;br&gt;     &lt;strong&gt;Address: &lt;/strong&gt;16001 Collins Ave 4104 Sunny Isles&lt;br&gt;     &lt;/html&gt;     &lt;/div&gt;`)[0];\n",
       "                popup_383950b74e46c1b4fa686370a8e18cc4.setContent(html_abeff7d8072ace6d6257c1832a419a08);\n",
       "            \n",
       "        \n",
       "\n",
       "        marker_edfb27d3ad60d6f82dedb5420326745b.bindPopup(popup_383950b74e46c1b4fa686370a8e18cc4)\n",
       "        ;\n",
       "\n",
       "        \n",
       "    \n",
       "    \n",
       "            var marker_400db02e69b682108e2b8551859e9ddf = L.marker(\n",
       "                [25.8345277, -80.1211366],\n",
       "                {&quot;fill&quot;: true, &quot;radius&quot;: 5}\n",
       "            ).addTo(feature_group_8171fe1aeab0559543ea49ab3bae66fa);\n",
       "        \n",
       "    \n",
       "            var icon_377039d63168f9a67dd4926aa0472e04 = L.AwesomeMarkers.icon(\n",
       "                {&quot;extraClasses&quot;: &quot;fa-rotate-0&quot;, &quot;icon&quot;: &quot;info-sign&quot;, &quot;iconColor&quot;: &quot;white&quot;, &quot;markerColor&quot;: &quot;blue&quot;, &quot;prefix&quot;: &quot;glyphicon&quot;}\n",
       "            );\n",
       "            marker_400db02e69b682108e2b8551859e9ddf.setIcon(icon_377039d63168f9a67dd4926aa0472e04);\n",
       "        \n",
       "    \n",
       "        var popup_ae2fcf2a23439b994aaaaff0e79b7ca8 = L.popup({&quot;maxWidth&quot;: 400});\n",
       "\n",
       "        \n",
       "            \n",
       "                var html_595baa20a3c314d2deab051fa801453d = $(`&lt;div id=&quot;html_595baa20a3c314d2deab051fa801453d&quot; style=&quot;width: 100.0%; height: 100.0%;&quot;&gt;&lt;!DOCTYPE html&gt;     &lt;html&gt;     &lt;strong&gt;Building Name: &lt;/strong&gt;Towerhouse Condo&lt;br&gt;     &lt;strong&gt;Sale Price: &lt;/strong&gt;$2,050,000.00&lt;br&gt;     &lt;strong&gt;Days on Market: &lt;/strong&gt;94&lt;br&gt;     &lt;strong&gt;Listing Agent: &lt;/strong&gt;Lisa Snider&lt;br&gt;     &lt;strong&gt;Buyer&#x27;s Agent: &lt;/strong&gt;Adrian Burke&lt;br&gt;     &lt;strong&gt;Price sq ft: &lt;/strong&gt;$725.15&lt;br&gt;     &lt;strong&gt;Address: &lt;/strong&gt;5500 Collins Ave 1802 Miami&lt;br&gt;     &lt;/html&gt;     &lt;/div&gt;`)[0];\n",
       "                popup_ae2fcf2a23439b994aaaaff0e79b7ca8.setContent(html_595baa20a3c314d2deab051fa801453d);\n",
       "            \n",
       "        \n",
       "\n",
       "        marker_400db02e69b682108e2b8551859e9ddf.bindPopup(popup_ae2fcf2a23439b994aaaaff0e79b7ca8)\n",
       "        ;\n",
       "\n",
       "        \n",
       "    \n",
       "    \n",
       "            var marker_f1cf882064ac1b5e3ac5f11923bad2f0 = L.marker(\n",
       "                [25.8458696, -80.1197163],\n",
       "                {&quot;fill&quot;: true, &quot;radius&quot;: 5}\n",
       "            ).addTo(feature_group_8171fe1aeab0559543ea49ab3bae66fa);\n",
       "        \n",
       "    \n",
       "            var icon_c71cc6faa4451d290417bfcec18d6164 = L.AwesomeMarkers.icon(\n",
       "                {&quot;extraClasses&quot;: &quot;fa-rotate-0&quot;, &quot;icon&quot;: &quot;info-sign&quot;, &quot;iconColor&quot;: &quot;white&quot;, &quot;markerColor&quot;: &quot;blue&quot;, &quot;prefix&quot;: &quot;glyphicon&quot;}\n",
       "            );\n",
       "            marker_f1cf882064ac1b5e3ac5f11923bad2f0.setIcon(icon_c71cc6faa4451d290417bfcec18d6164);\n",
       "        \n",
       "    \n",
       "        var popup_5d77a00f8e3202a7204c4321a5608bd3 = L.popup({&quot;maxWidth&quot;: 400});\n",
       "\n",
       "        \n",
       "            \n",
       "                var html_dd0f79a8eed760cd402816f63e0df98d = $(`&lt;div id=&quot;html_dd0f79a8eed760cd402816f63e0df98d&quot; style=&quot;width: 100.0%; height: 100.0%;&quot;&gt;&lt;!DOCTYPE html&gt;     &lt;html&gt;     &lt;strong&gt;Building Name: &lt;/strong&gt;Akoya Condo&lt;br&gt;     &lt;strong&gt;Sale Price: &lt;/strong&gt;$1,875,000.00&lt;br&gt;     &lt;strong&gt;Days on Market: &lt;/strong&gt;69&lt;br&gt;     &lt;strong&gt;Listing Agent: &lt;/strong&gt;Nivaldo Soria&lt;br&gt;     &lt;strong&gt;Buyer&#x27;s Agent: &lt;/strong&gt;Sebastian Sagranichne&lt;br&gt;     &lt;strong&gt;Price sq ft: &lt;/strong&gt;$1418.31&lt;br&gt;     &lt;strong&gt;Address: &lt;/strong&gt;6365 Collins Ave 2407 Miami&lt;br&gt;     &lt;/html&gt;     &lt;/div&gt;`)[0];\n",
       "                popup_5d77a00f8e3202a7204c4321a5608bd3.setContent(html_dd0f79a8eed760cd402816f63e0df98d);\n",
       "            \n",
       "        \n",
       "\n",
       "        marker_f1cf882064ac1b5e3ac5f11923bad2f0.bindPopup(popup_5d77a00f8e3202a7204c4321a5608bd3)\n",
       "        ;\n",
       "\n",
       "        \n",
       "    \n",
       "    \n",
       "            var marker_33343628becfe6af0a92213ad3684886 = L.marker(\n",
       "                [25.9682257, -80.12451709999999],\n",
       "                {&quot;fill&quot;: true, &quot;radius&quot;: 5}\n",
       "            ).addTo(feature_group_8171fe1aeab0559543ea49ab3bae66fa);\n",
       "        \n",
       "    \n",
       "            var icon_a8084778cadcc33ade45206930ab67b0 = L.AwesomeMarkers.icon(\n",
       "                {&quot;extraClasses&quot;: &quot;fa-rotate-0&quot;, &quot;icon&quot;: &quot;info-sign&quot;, &quot;iconColor&quot;: &quot;white&quot;, &quot;markerColor&quot;: &quot;blue&quot;, &quot;prefix&quot;: &quot;glyphicon&quot;}\n",
       "            );\n",
       "            marker_33343628becfe6af0a92213ad3684886.setIcon(icon_a8084778cadcc33ade45206930ab67b0);\n",
       "        \n",
       "    \n",
       "        var popup_ad658a179ad196afdad9479465b0fe78 = L.popup({&quot;maxWidth&quot;: 400});\n",
       "\n",
       "        \n",
       "            \n",
       "                var html_12cd2d1e2cd6584f5874544002f31cd5 = $(`&lt;div id=&quot;html_12cd2d1e2cd6584f5874544002f31cd5&quot; style=&quot;width: 100.0%; height: 100.0%;&quot;&gt;&lt;!DOCTYPE html&gt;     &lt;html&gt;     &lt;strong&gt;Building Name: &lt;/strong&gt;One Island Place Condo II&lt;br&gt;     &lt;strong&gt;Sale Price: &lt;/strong&gt;$1,530,000.00&lt;br&gt;     &lt;strong&gt;Days on Market: &lt;/strong&gt;67&lt;br&gt;     &lt;strong&gt;Listing Agent: &lt;/strong&gt;David Deleon&lt;br&gt;     &lt;strong&gt;Buyer&#x27;s Agent: &lt;/strong&gt;Baruh Tchira&lt;br&gt;     &lt;strong&gt;Price sq ft: &lt;/strong&gt;$645.57&lt;br&gt;     &lt;strong&gt;Address: &lt;/strong&gt;3802 NE 207 St 1401&lt;br&gt;     &lt;/html&gt;     &lt;/div&gt;`)[0];\n",
       "                popup_ad658a179ad196afdad9479465b0fe78.setContent(html_12cd2d1e2cd6584f5874544002f31cd5);\n",
       "            \n",
       "        \n",
       "\n",
       "        marker_33343628becfe6af0a92213ad3684886.bindPopup(popup_ad658a179ad196afdad9479465b0fe78)\n",
       "        ;\n",
       "\n",
       "        \n",
       "    \n",
       "    \n",
       "            var tile_layer_fbb085097d29a5ec6b855ed75783c3c7 = L.tileLayer(\n",
       "                &quot;https://{s}.tile.openstreetmap.org/{z}/{x}/{y}.png&quot;,\n",
       "                {&quot;attribution&quot;: &quot;Data by \\u0026copy; \\u003ca href=\\&quot;http://openstreetmap.org\\&quot;\\u003eOpenStreetMap\\u003c/a\\u003e, under \\u003ca href=\\&quot;http://www.openstreetmap.org/copyright\\&quot;\\u003eODbL\\u003c/a\\u003e.&quot;, &quot;detectRetina&quot;: false, &quot;maxNativeZoom&quot;: 18, &quot;maxZoom&quot;: 18, &quot;minZoom&quot;: 0, &quot;noWrap&quot;: false, &quot;opacity&quot;: 1, &quot;subdomains&quot;: &quot;abc&quot;, &quot;tms&quot;: false}\n",
       "            ).addTo(map_cc11d4cdf21ad9328874b925f18b9052);\n",
       "        \n",
       "    \n",
       "            var layer_control_15a1e957ff3ff1c72a1ff3a150782e0b = {\n",
       "                base_layers : {\n",
       "                },\n",
       "                overlays :  {\n",
       "                    &quot;Top Sale&quot; : feature_group_357cf68e8889b343033d3857d5356d9b,\n",
       "                    &quot;All other sales&quot; : feature_group_8171fe1aeab0559543ea49ab3bae66fa,\n",
       "                },\n",
       "            };\n",
       "            L.control.layers(\n",
       "                layer_control_15a1e957ff3ff1c72a1ff3a150782e0b.base_layers,\n",
       "                layer_control_15a1e957ff3ff1c72a1ff3a150782e0b.overlays,\n",
       "                {&quot;autoZIndex&quot;: true, &quot;collapsed&quot;: false, &quot;position&quot;: &quot;topright&quot;}\n",
       "            ).addTo(map_cc11d4cdf21ad9328874b925f18b9052);\n",
       "        \n",
       "&lt;/script&gt;\" style=\"position:absolute;width:100%;height:100%;left:0;top:0;border:none !important;\" allowfullscreen webkitallowfullscreen mozallowfullscreen></iframe></div></div>"
      ],
      "text/plain": [
       "<folium.folium.Map at 0x7f7862d18e80>"
      ]
     },
     "execution_count": 18,
     "metadata": {},
     "output_type": "execute_result"
    }
   ],
   "source": [
    "import folium\n",
    "from folium.plugins import MarkerCluster\n",
    "\n",
    "m = folium.Map(location=df[[\"lat\", \"lon\"]].mean().to_list(), zoom_start=10)\n",
    "\n",
    "title_html = '''\n",
    "              <h3 align=\"center\" style=\"font-size:16px\"><b>{}</b></h3>\n",
    "             '''.format(f'Recent Miami-Dade Condo Sales ')\n",
    "\n",
    "caption_html = '''\n",
    "                <p align=\"center\" style=\"vertical-align: bottom; font-size:13px\"><i>{}</i></p>\n",
    "                '''.format(f'{week_starting} - {week_ending}')\n",
    "\n",
    "\n",
    "### Create map container ###\n",
    "m = folium.Map(location=df[[\"lat\", \"lon\"]].mean().to_list(),zoom_start=9.5,tiles=None)\n",
    "\n",
    "# Create two FeatureGroups for different color pins\n",
    "fg_blue = folium.FeatureGroup(name='All other sales')\n",
    "fg_orange = folium.FeatureGroup(name='Top Sale')\n",
    "\n",
    "for index, row in df.iterrows():\n",
    "    # Add the markers to the appropriate FeatureGroup based on the color\n",
    "    if row['COLOR'] == 'blue':\n",
    "        marker = folium.Marker(\n",
    "            location=[row['lat'], row['lon']],\n",
    "            radius=5,\n",
    "            fill=True,\n",
    "            icon=folium.Icon(color=row['COLOR']),\n",
    "            popup=folium.Popup(popup_html(row), max_width=400))\n",
    "        marker.add_to(fg_blue)\n",
    "    else:\n",
    "        marker = folium.Marker(\n",
    "            location=[row['lat'], row['lon']],\n",
    "            radius=5,\n",
    "            fill=True,\n",
    "            icon=folium.Icon(color=row['COLOR']),\n",
    "            popup=folium.Popup(popup_html(row), max_width=400))\n",
    "        marker.add_to(fg_orange)\n",
    "\n",
    "# Add the FeatureGroups to the map\n",
    "fg_orange.add_to(m)\n",
    "fg_blue.add_to(m)\n",
    "\n",
    "folium.TileLayer('OpenStreetMap',control=False).add_to(m)\n",
    "\n",
    "# Add LayerControl to the map\n",
    "folium.map.LayerControl(collapsed=False).add_to(m)\n",
    "m.get_root().html.add_child(folium.Element(title_html))\n",
    "m.get_root().html.add_child(folium.Element(caption_html))\n",
    "            \n",
    "# Display map\n",
    "m"
   ]
  },
  {
   "cell_type": "code",
   "execution_count": 19,
   "metadata": {},
   "outputs": [],
   "source": [
    "m.save('index.html')"
   ]
  },
  {
   "cell_type": "markdown",
   "metadata": {},
   "source": [
    "## Data snagger"
   ]
  },
  {
   "cell_type": "code",
   "execution_count": 20,
   "metadata": {},
   "outputs": [],
   "source": [
    "### Set up formatting ###\n",
    "BR = '\\n'\n",
    "\n",
    "ME = '\\033[1m' + 'Most Expensive' + '\\033[0m'\n",
    "LE = '\\033[1m' + 'Least Expensive' + '\\033[0m'\n",
    "\n",
    "MAX_PSF = '\\033[1m' + 'Highest Price Per Square Foot' + '\\033[0m'\n",
    "MIN_PSF = '\\033[1m' + 'Lowest Price Per Square Foot' + '\\033[0m'\n",
    "\n",
    "DAYS_MAX = '\\033[1m' + 'Most Days on Market' + '\\033[0m'\n",
    "DAYS_MIN = '\\033[1m' + 'Fewest Days on Market' + '\\033[0m'"
   ]
  },
  {
   "cell_type": "code",
   "execution_count": 21,
   "metadata": {},
   "outputs": [
    {
     "name": "stdout",
     "output_type": "stream",
     "text": [
      "\u001b[1mMost Expensive\u001b[0m\n",
      "Fendi Chateau, 9349 Collins Ave 806 | Price $14,250,000 | $3,176 psf | Listing agent: Devin Kay with Douglas Elliman | Buyer's agent: Devin Kay with Douglas Elliman | Days on market: 70\n",
      "\u001b[1mLeast Expensive\u001b[0m\n",
      "One Island Place Condo II, 3802 NE 207 St 1401 | Price $1,530,000 | $646 psf | Listing agent: David Deleon with Compass Florida, LLC. | Buyer's agent: Baruh Tchira with Avanti Way Realty LLC | Days on market: 67\n",
      "\u001b[1mHighest Price Per Square Foot\u001b[0m\n",
      "Fendi Chateau, 9349 Collins Ave 806 | Price $14,250,000 | $3,176 psf | Listing agent: Devin Kay with Douglas Elliman | Buyer's agent: Devin Kay with Douglas Elliman | Days on market: 70\n",
      "\u001b[1mLowest Price Per Square Foot\u001b[0m\n",
      "One Island Place Condo II, 3802 NE 207 St 1401 | Price $1,530,000 | $646 psf | Listing agent: David Deleon with Compass Florida, LLC. | Buyer's agent: Baruh Tchira with Avanti Way Realty LLC | Days on market: 67\n",
      "\u001b[1mMost Days on Market\u001b[0m\n",
      "Residence Du Cap, 2600 Island Blvd PH4 | Price $3,800,000 | $774 psf | Listing agent: Jorge Mendez with BHHS EWM Realty | Buyer's agent: Fernanda Zomignani PA with AG Real Estate Advisors, LLC | Days on market: 850\n",
      "\u001b[1mFewest Days on Market\u001b[0m\n",
      "Murano Grande at Portofino, 400 Alton Rd 2004 Miami | Price $2,450,000 | $1,719 psf | Listing agent: Hyang Kwon with Compass Florida, LLC. | Buyer's agent: Laura Pantano with Interealty Exchange Inc | Days on market: 38\n"
     ]
    }
   ],
   "source": [
    "### Highest and lowest sale price ###\n",
    "print(f\"{ME}{BR}{df.loc[df['int_Sale_Price'].idxmax()]['building_name']}, {df.loc[df['int_Sale_Price'].idxmax()]['address']} | Price ${df.loc[df['int_Sale_Price'].idxmax()]['int_Sale_Price']:,.0f} | ${df.loc[df['int_Sale_Price'].idxmax()]['price_per_sqft']:,.0f} psf | Listing agent: {df.loc[df['int_Sale_Price'].idxmax()]['Agent']} with {df.loc[df['int_Sale_Price'].idxmax()]['Listing Broker']} | Buyer's agent: {df.loc[df['int_Sale_Price'].idxmax()]['Buyer Agent']} with {df.loc[df['int_Sale_Price'].idxmax()]['Buyer Broker']} | Days on market: {df.loc[df['int_Sale_Price'].idxmax()]['days_on_market']}\")\n",
    "print(f\"{LE}{BR}{df.loc[df['int_Sale_Price'].idxmin()]['building_name']}, {df.loc[df['int_Sale_Price'].idxmin()]['address']} | Price ${df.loc[df['int_Sale_Price'].idxmin()]['int_Sale_Price']:,.0f} | ${df.loc[df['int_Sale_Price'].idxmin()]['price_per_sqft']:,.0f} psf | Listing agent: {df.loc[df['int_Sale_Price'].idxmin()]['Agent']} with {df.loc[df['int_Sale_Price'].idxmin()]['Listing Broker']} | Buyer's agent: {df.loc[df['int_Sale_Price'].idxmin()]['Buyer Agent']} with {df.loc[df['int_Sale_Price'].idxmin()]['Buyer Broker']} | Days on market: {df.loc[df['int_Sale_Price'].idxmin()]['days_on_market']}\")\n",
    "### Highest and lowest psf ###\n",
    "print(f\"{MAX_PSF}{BR}{df.loc[df['price_per_sqft'].idxmax()]['building_name']}, {df.loc[df['price_per_sqft'].idxmax()]['address']} | Price ${df.loc[df['price_per_sqft'].idxmax()]['int_Sale_Price']:,.0f} | ${df.loc[df['price_per_sqft'].idxmax()]['price_per_sqft']:,.0f} psf | Listing agent: {df.loc[df['price_per_sqft'].idxmax()]['Agent']} with {df.loc[df['price_per_sqft'].idxmax()]['Listing Broker']} | Buyer's agent: {df.loc[df['price_per_sqft'].idxmax()]['Buyer Agent']} with {df.loc[df['price_per_sqft'].idxmax()]['Buyer Broker']} | Days on market: {df.loc[df['price_per_sqft'].idxmax()]['days_on_market']}\")\n",
    "print(f\"{MIN_PSF}{BR}{df.loc[df['price_per_sqft'].idxmin()]['building_name']}, {df.loc[df['price_per_sqft'].idxmin()]['address']} | Price ${df.loc[df['price_per_sqft'].idxmin()]['int_Sale_Price']:,.0f} | ${df.loc[df['price_per_sqft'].idxmin()]['price_per_sqft']:,.0f} psf | Listing agent: {df.loc[df['price_per_sqft'].idxmin()]['Agent']} with {df.loc[df['price_per_sqft'].idxmin()]['Listing Broker']} | Buyer's agent: {df.loc[df['price_per_sqft'].idxmin()]['Buyer Agent']} with {df.loc[df['price_per_sqft'].idxmin()]['Buyer Broker']} | Days on market: {df.loc[df['price_per_sqft'].idxmin()]['days_on_market']}\")\n",
    "### Highest and lowest days on market ###\n",
    "print(f\"{DAYS_MAX}{BR}{df.loc[df['days_on_market'].idxmax()]['building_name']}, {df.loc[df['days_on_market'].idxmax()]['address']} | Price ${df.loc[df['days_on_market'].idxmax()]['int_Sale_Price']:,.0f} | ${df.loc[df['days_on_market'].idxmax()]['price_per_sqft']:,.0f} psf | Listing agent: {df.loc[df['days_on_market'].idxmax()]['Agent']} with {df.loc[df['days_on_market'].idxmax()]['Listing Broker']} | Buyer's agent: {df.loc[df['days_on_market'].idxmax()]['Buyer Agent']} with {df.loc[df['days_on_market'].idxmax()]['Buyer Broker']} | Days on market: {df.loc[df['days_on_market'].idxmax()]['days_on_market']}\")\n",
    "print(f\"{DAYS_MIN}{BR}{df.loc[df['days_on_market'].idxmin()]['building_name']}, {df.loc[df['days_on_market'].idxmin()]['address']} | Price ${df.loc[df['days_on_market'].idxmin()]['int_Sale_Price']:,.0f} | ${df.loc[df['days_on_market'].idxmin()]['price_per_sqft']:,.0f} psf | Listing agent: {df.loc[df['days_on_market'].idxmin()]['Agent']} with {df.loc[df['days_on_market'].idxmin()]['Listing Broker']} | Buyer's agent: {df.loc[df['days_on_market'].idxmin()]['Buyer Agent']} with {df.loc[df['days_on_market'].idxmin()]['Buyer Broker']} | Days on market: {df.loc[df['days_on_market'].idxmin()]['days_on_market']}\")"
   ]
  },
  {
   "cell_type": "code",
   "execution_count": 22,
   "metadata": {},
   "outputs": [
    {
     "data": {
      "text/plain": [
       "184.4"
      ]
     },
     "execution_count": 22,
     "metadata": {},
     "output_type": "execute_result"
    }
   ],
   "source": [
    "df['days_on_market'].mean()"
   ]
  },
  {
   "cell_type": "markdown",
   "metadata": {},
   "source": [
    "## Map URL snagger"
   ]
  },
  {
   "cell_type": "markdown",
   "metadata": {},
   "source": [
    "Map template URL: `https://trd-digital.github.io/trd-news-interactive-maps/{map-folder-name}`"
   ]
  },
  {
   "cell_type": "code",
   "execution_count": 23,
   "metadata": {},
   "outputs": [
    {
     "name": "stdout",
     "output_type": "stream",
     "text": [
      "https://trd-digital.github.io/trd-news-interactive-maps/condo_sales_week_ending_01202023\n"
     ]
    }
   ],
   "source": [
    "base_name = 'https://trd-digital.github.io/trd-news-interactive-maps/'\n",
    "\n",
    "cwd = os.getcwd()\n",
    "\n",
    "cwd = cwd.split('/')\n",
    "\n",
    "final_name = base_name + cwd[-1]\n",
    "print(final_name)"
   ]
  },
  {
   "cell_type": "markdown",
   "metadata": {},
   "source": [
    "# CREATE TEMPLATE "
   ]
  },
  {
   "cell_type": "code",
   "execution_count": 24,
   "metadata": {},
   "outputs": [],
   "source": [
    "df['muni_name'] = df['building_address_city'].str.split('\\r').str[-1]"
   ]
  },
  {
   "cell_type": "code",
   "execution_count": 25,
   "metadata": {},
   "outputs": [],
   "source": [
    "muni_set = set(df['muni_name'])"
   ]
  },
  {
   "cell_type": "code",
   "execution_count": 26,
   "metadata": {},
   "outputs": [],
   "source": [
    "df['building_address_city_clean'] = df['building_address_city'].str.split('\\r')"
   ]
  },
  {
   "cell_type": "code",
   "execution_count": 27,
   "metadata": {},
   "outputs": [],
   "source": [
    "top_sale = df.at[1, 'building_address_city_clean']\n",
    "second_top_sale = df.at[2,'building_address_city_clean']"
   ]
  },
  {
   "cell_type": "code",
   "execution_count": 29,
   "metadata": {},
   "outputs": [],
   "source": [
    "### Average Sales Price ###\n",
    "if float(average_sale_price) > float(previous_week_average_sales_price):\n",
    "    change = 'higher'\n",
    "    difference = float(average_sale_price) - float(previous_week_average_sales_price)\n",
    "else:\n",
    "    change = 'lower'\n",
    "    difference = float(previous_week_average_sales_price) - float(average_sale_price)\n",
    "    \n",
    "### Total condo dollar volume ###\n",
    "if float(current_week_condo_sales_total) > float(previous_week_condo_sales_total):\n",
    "    seo_head = 'Rises'\n",
    "elif float(previous_week_condo_sales_total) < float(current_week_condo_sales_total):\n",
    "    seo_head = 'Falls'\n",
    "else:\n",
    "    seo_head = 'Unchanged'\n",
    "    \n",
    "\n",
    "### Average PSF ###    \n",
    "if float(average_price_psf) > float(previous_week_average_psf):\n",
    "    psf_rf = 'rose'\n",
    "elif float(average_price_psf) < float(previous_week_average_psf):\n",
    "    psf_rf ='fell'\n",
    "else:\n",
    "    psf_rf = 'equaled'"
   ]
  },
  {
   "cell_type": "code",
   "execution_count": 30,
   "metadata": {},
   "outputs": [
    {
     "data": {
      "text/plain": [
       "129460.0"
      ]
     },
     "execution_count": 30,
     "metadata": {},
     "output_type": "execute_result"
    }
   ],
   "source": [
    "difference"
   ]
  },
  {
   "cell_type": "code",
   "execution_count": 31,
   "metadata": {},
   "outputs": [],
   "source": [
    "story_string = f'''\n",
    "\\033[1mHED:\\033[0m {df.loc[df['int_Sale_Price'].idxmax()]['building_name']} tops Miami-Dade weekly condo sales \n",
    "\\033[1mDEK:\\033[0m Top 10 sales ranged from {df.at[10,'Sale Price']} to {df.at[1,'Sale Price']}\n",
    "\\033[1mFEATURED HED:\\033[0m\n",
    "\\033[1mSEO HED:\\033[0m Miami-Dade County Weekly Condo Report \n",
    "\\033[1mSEO DESCRIPTION:\\033[0m Miami-Dade County’s condo sales XXXXXXX\n",
    "\\033[1mAUTHOR:\\033[0m Adam Farence\n",
    "\\033[1mRESEARCH:\\033[0m \n",
    "\\033[1mSocial:\\033[0m #MiamiDade condo sales XXXXX\n",
    "\\033[1mART:\\033[0m\n",
    "\n",
    "Credit condo.com with the image below and the PDF chart in the story\n",
    "{top_condo_image_url}\n",
    "\n",
    "Interactive map\n",
    "\n",
    "*Please provide credits for any images that you share\n",
    "\\033[1mSTORY TYPE:\\033[0m Report\n",
    "\\033[1mSECTOR\\033[0m (formerly CATEGORY): Residential Real Estate\n",
    "\\033[1mTAGS:\\033[0m condo sales, Miami-Dade County, weekly condo sales, {', '.join(str(x) for x in muni_set)}\n",
    "\n",
    "\\033[1mNeighborhood:\\033[0m \n",
    "\\033[1mProperty:\\033[0m\n",
    "\\033[1mProperty Type:\\033[0m\n",
    "\\033[1mCompanies:\\033[0m \n",
    "\\033[1mPeople:\\033[0m\n",
    "\\033[1mIssues:\\033[0m\n",
    "\\033[1mRegion:\\033[0m\n",
    "\\033[1m[]Show in Yahoo Feed\\033[0m\n",
    "\n",
    "\n",
    "\n",
    "Miami-Dade County’s NEWS PEG HERE.\n",
    "\n",
    "Brokers closed {int(current_week_condo_sales):,.0f} condo sales totaling ${float(current_week_condo_sales_total):,.0f} from {week_starting} to {week_ending}. The previous week, brokers closed {previous_week_condo_sales} condo sales totaling ${int(previous_week_condo_sales_total):,.0f}.\n",
    "\n",
    "Last week’s units sold for an average of ${float(average_sale_price):,.0f}, {change} than the ${float(previous_week_average_sales_price):,.0f} from the previous week. The average price per square foot {psf_rf} to ${average_price_psf} from ${previous_week_average_psf}, according to data from condo.com. Condos closed after an average of {average_days_on_market} days on the market.\n",
    "\n",
    "For the top 10 sales, prices ranged from {df.at[10,'Sale Price']} to {df.at[1,'Sale Price']}. \n",
    "\n",
    "{top_sale[0]}, at {top_sale[1]} in {top_sale[2]} took the top spot with a {df.at[1,'Sale Price']} million closing. {df.at[1,'Agent']} with {df.at[1,'Listing Broker']} had the listing. {df.at[1,'Buyer Agent']} with {df.at[1,'Buyer Broker']} represented the buyer. The sale closed after {df.at[1,'days_on_market']} days on the market at ${df.at[1,'price_per_sqft']} per square foot.\n",
    "\n",
    "{second_top_sale[0]} in {second_top_sale[2]}, at {second_top_sale[1]}, closed for the second highest amount, {df.at[2,'Sale Price']}, or ${df.at[2,'price_per_sqft']} per square foot, after {df.at[2,'days_on_market']} days on the market. {df.at[2,'Agent']} with {df.at[2,'Listing Broker']} had the listing. {df.at[2,'Buyer Agent']} with {df.at[2,'Buyer Broker']} represented the buyer.\n",
    "\n",
    "<figure>\n",
    " <div class=\"container\">\n",
    "   <div class=\"iframe-wrap\">\n",
    "   <iframe src=\"{final_name}\" width=\"100%\" height=\"800\" frameBorder=\"0\" scrolling=\"no\"></iframe>\n",
    "  </div>\n",
    "</div>\n",
    "  <figcaption align=\"right\"><a href=\"https://leafletjs.com/\">Leaflet</a> map created by Adam Farence | Data by © <a href=\"https://www.openstreetmap.org/#map=4/38.01/-95.84\"> OpenStreetMap</a>, under <a href=\"https://www.openstreetmap.org/copyright\">ODbl.</a></figcaption>\n",
    "</figure>\n",
    "\n",
    "Here’s a breakdown of the top 10 sales from {week_starting} to {week_ending}:\n",
    "'''\n",
    "\n",
    "# print(story_string)"
   ]
  },
  {
   "cell_type": "code",
   "execution_count": 32,
   "metadata": {},
   "outputs": [],
   "source": [
    "story_checklist = '''\n",
    "\\033[1mRemember to...:\\033[0m\n",
    "\n",
    "1. Double check all names. Sometimes names differ between the hed and the body of the story.\n",
    "    For example, \"Surf Club Four Seasons\" in the HED and \"Four Seasons Residences at the Surfclub\"\n",
    "    in the body.\n",
    "    \n",
    "2. Add in context, if available. When there's a high-priced condo sale, check and see if there's\n",
    "    a story. If there is, add in some extra details and link back to it.\n",
    "    \n",
    "3. Add in a screenshot of the sales chart.\n",
    "'''"
   ]
  },
  {
   "cell_type": "code",
   "execution_count": 38,
   "metadata": {},
   "outputs": [
    {
     "data": {
      "text/plain": [
       "Index(['building_address_city', 'Close Date', 'days_on_market', 'Sale Price',\n",
       "       'Sq. Ft.', 'price_per_sqft', 'Agent', 'Listing Broker', 'Buyer Agent',\n",
       "       'Buyer Broker', 'geo_address_x', 'geo_address_y', 'building_name',\n",
       "       'address', 'geocoded', 'lat', 'lon', 'int_Sale_Price', 'RANK', 'COLOR',\n",
       "       'muni_name', 'building_address_city_clean'],\n",
       "      dtype='object')"
      ]
     },
     "execution_count": 38,
     "metadata": {},
     "output_type": "execute_result"
    }
   ],
   "source": [
    "df.columns"
   ]
  },
  {
   "cell_type": "code",
   "execution_count": 40,
   "metadata": {},
   "outputs": [],
   "source": [
    "# # Convert each list in 'list_column' to a separate DataFrame and concatenate\n",
    "# list_df = pd.DataFrame(df['building_address_city_clean'].tolist(), index=df.index)\n",
    "\n",
    "# # Naming the new columns\n",
    "# list_df.columns = ['building', 'address', 'city']\n",
    "\n",
    "# # Concatenate the new DataFrame with the original DataFrame\n",
    "# df = pd.concat([df, list_df], axis=1).drop('building_address_city_clean', axis=1)"
   ]
  },
  {
   "cell_type": "code",
   "execution_count": 43,
   "metadata": {},
   "outputs": [
    {
     "data": {
      "text/plain": [
       "Index(['building_address_city', 'Close Date', 'days_on_market', 'Sale Price',\n",
       "       'Sq. Ft.', 'price_per_sqft', 'Agent', 'Listing Broker', 'Buyer Agent',\n",
       "       'Buyer Broker', 'geo_address_x', 'geo_address_y', 'building_name',\n",
       "       'address', 'geocoded', 'lat', 'lon', 'int_Sale_Price', 'RANK', 'COLOR',\n",
       "       'muni_name', 'building', 'address', 'city'],\n",
       "      dtype='object')"
      ]
     },
     "execution_count": 43,
     "metadata": {},
     "output_type": "execute_result"
    }
   ],
   "source": [
    "df.columns"
   ]
  },
  {
   "cell_type": "code",
   "execution_count": 46,
   "metadata": {},
   "outputs": [
    {
     "name": "stdout",
     "output_type": "stream",
     "text": [
      "\u001b[1mMost Expensive\u001b[0m\n",
      "Fendi Chateau, address    9349 Collins Ave 806\n",
      "address    9349 Collins Ave 806\n",
      "Name: 1, dtype: object | Price $14,250,000 | $3,176 psf | Listing agent: Devin Kay with Douglas Elliman | Buyer's agent: Devin Kay with Douglas Elliman | Days on market: 70\n",
      "\u001b[1mLeast Expensive\u001b[0m\n",
      "One Island Place Condo II, address    3802 NE 207 St 1401\n",
      "address    3802 NE 207 St 1401\n",
      "Name: 10, dtype: object | Price $1,530,000 | $646 psf | Listing agent: David Deleon with Compass Florida, LLC. | Buyer's agent: Baruh Tchira with Avanti Way Realty LLC | Days on market: 67\n",
      "\u001b[1mHighest Price Per Square Foot\u001b[0m\n",
      "Fendi Chateau, address    9349 Collins Ave 806\n",
      "address    9349 Collins Ave 806\n",
      "Name: 1, dtype: object | Price $14,250,000 | $3,176 psf | Listing agent: Devin Kay with Douglas Elliman | Buyer's agent: Devin Kay with Douglas Elliman | Days on market: 70\n",
      "\u001b[1mLowest Price Per Square Foot\u001b[0m\n",
      "One Island Place Condo II, address    3802 NE 207 St 1401\n",
      "address    3802 NE 207 St 1401\n",
      "Name: 10, dtype: object | Price $1,530,000 | $646 psf | Listing agent: David Deleon with Compass Florida, LLC. | Buyer's agent: Baruh Tchira with Avanti Way Realty LLC | Days on market: 67\n",
      "\u001b[1mMost Days on Market\u001b[0m\n",
      "Residence Du Cap, address    2600 Island Blvd PH4\n",
      "address    2600 Island Blvd PH4\n",
      "Name: 3, dtype: object | Price $3,800,000 | $774 psf | Listing agent: Jorge Mendez with BHHS EWM Realty | Buyer's agent: Fernanda Zomignani PA with AG Real Estate Advisors, LLC | Days on market: 850\n",
      "\u001b[1mFewest Days on Market\u001b[0m\n",
      "Murano Grande at Portofino, address    400 Alton Rd 2004 Miami\n",
      "address          400 Alton Rd 2004\n",
      "Name: 4, dtype: object | Price $2,450,000 | $1,719 psf | Listing agent: Hyang Kwon with Compass Florida, LLC. | Buyer's agent: Laura Pantano with Interealty Exchange Inc | Days on market: 38\n"
     ]
    }
   ],
   "source": [
    "# print(story_string)\n",
    "\n",
    "### Highest and lowest sale price ###\n",
    "print(f\"{ME}{BR}{df.loc[df['int_Sale_Price'].idxmax()]['building_name']}, {df.loc[df['int_Sale_Price'].idxmax()]['address']} | Price ${df.loc[df['int_Sale_Price'].idxmax()]['int_Sale_Price']:,.0f} | ${df.loc[df['int_Sale_Price'].idxmax()]['price_per_sqft']:,.0f} psf | Listing agent: {df.loc[df['int_Sale_Price'].idxmax()]['Agent']} with {df.loc[df['int_Sale_Price'].idxmax()]['Listing Broker']} | Buyer's agent: {df.loc[df['int_Sale_Price'].idxmax()]['Buyer Agent']} with {df.loc[df['int_Sale_Price'].idxmax()]['Buyer Broker']} | Days on market: {df.loc[df['int_Sale_Price'].idxmax()]['days_on_market']}\")\n",
    "print(f\"{LE}{BR}{df.loc[df['int_Sale_Price'].idxmin()]['building_name']}, {df.loc[df['int_Sale_Price'].idxmin()]['address']} | Price ${df.loc[df['int_Sale_Price'].idxmin()]['int_Sale_Price']:,.0f} | ${df.loc[df['int_Sale_Price'].idxmin()]['price_per_sqft']:,.0f} psf | Listing agent: {df.loc[df['int_Sale_Price'].idxmin()]['Agent']} with {df.loc[df['int_Sale_Price'].idxmin()]['Listing Broker']} | Buyer's agent: {df.loc[df['int_Sale_Price'].idxmin()]['Buyer Agent']} with {df.loc[df['int_Sale_Price'].idxmin()]['Buyer Broker']} | Days on market: {df.loc[df['int_Sale_Price'].idxmin()]['days_on_market']}\")\n",
    "### Highest and lowest psf ###\n",
    "print(f\"{MAX_PSF}{BR}{df.loc[df['price_per_sqft'].idxmax()]['building_name']}, {df.loc[df['price_per_sqft'].idxmax()]['address']} | Price ${df.loc[df['price_per_sqft'].idxmax()]['int_Sale_Price']:,.0f} | ${df.loc[df['price_per_sqft'].idxmax()]['price_per_sqft']:,.0f} psf | Listing agent: {df.loc[df['price_per_sqft'].idxmax()]['Agent']} with {df.loc[df['price_per_sqft'].idxmax()]['Listing Broker']} | Buyer's agent: {df.loc[df['price_per_sqft'].idxmax()]['Buyer Agent']} with {df.loc[df['price_per_sqft'].idxmax()]['Buyer Broker']} | Days on market: {df.loc[df['price_per_sqft'].idxmax()]['days_on_market']}\")\n",
    "print(f\"{MIN_PSF}{BR}{df.loc[df['price_per_sqft'].idxmin()]['building_name']}, {df.loc[df['price_per_sqft'].idxmin()]['address']} | Price ${df.loc[df['price_per_sqft'].idxmin()]['int_Sale_Price']:,.0f} | ${df.loc[df['price_per_sqft'].idxmin()]['price_per_sqft']:,.0f} psf | Listing agent: {df.loc[df['price_per_sqft'].idxmin()]['Agent']} with {df.loc[df['price_per_sqft'].idxmin()]['Listing Broker']} | Buyer's agent: {df.loc[df['price_per_sqft'].idxmin()]['Buyer Agent']} with {df.loc[df['price_per_sqft'].idxmin()]['Buyer Broker']} | Days on market: {df.loc[df['price_per_sqft'].idxmin()]['days_on_market']}\")\n",
    "### Highest and lowest days on market ###\n",
    "print(f\"{DAYS_MAX}{BR}{df.loc[df['days_on_market'].idxmax()]['building_name']}, {df.loc[df['days_on_market'].idxmax()]['address']} | Price ${df.loc[df['days_on_market'].idxmax()]['int_Sale_Price']:,.0f} | ${df.loc[df['days_on_market'].idxmax()]['price_per_sqft']:,.0f} psf | Listing agent: {df.loc[df['days_on_market'].idxmax()]['Agent']} with {df.loc[df['days_on_market'].idxmax()]['Listing Broker']} | Buyer's agent: {df.loc[df['days_on_market'].idxmax()]['Buyer Agent']} with {df.loc[df['days_on_market'].idxmax()]['Buyer Broker']} | Days on market: {df.loc[df['days_on_market'].idxmax()]['days_on_market']}\")\n",
    "print(f\"{DAYS_MIN}{BR}{df.loc[df['days_on_market'].idxmin()]['building_name']}, {df.loc[df['days_on_market'].idxmin()]['address']} | Price ${df.loc[df['days_on_market'].idxmin()]['int_Sale_Price']:,.0f} | ${df.loc[df['days_on_market'].idxmin()]['price_per_sqft']:,.0f} psf | Listing agent: {df.loc[df['days_on_market'].idxmin()]['Agent']} with {df.loc[df['days_on_market'].idxmin()]['Listing Broker']} | Buyer's agent: {df.loc[df['days_on_market'].idxmin()]['Buyer Agent']} with {df.loc[df['days_on_market'].idxmin()]['Buyer Broker']} | Days on market: {df.loc[df['days_on_market'].idxmin()]['days_on_market']}\")\n",
    "\n",
    "# print(story_checklist)"
   ]
  }
 ],
 "metadata": {
  "kernelspec": {
   "display_name": "Python 3 (ipykernel)",
   "language": "python",
   "name": "python3"
  },
  "language_info": {
   "codemirror_mode": {
    "name": "ipython",
    "version": 3
   },
   "file_extension": ".py",
   "mimetype": "text/x-python",
   "name": "python",
   "nbconvert_exporter": "python",
   "pygments_lexer": "ipython3",
   "version": "3.9.12"
  },
  "toc": {
   "base_numbering": 1,
   "nav_menu": {},
   "number_sections": true,
   "sideBar": true,
   "skip_h1_title": false,
   "title_cell": "Table of Contents",
   "title_sidebar": "Contents",
   "toc_cell": false,
   "toc_position": {},
   "toc_section_display": true,
   "toc_window_display": false
  }
 },
 "nbformat": 4,
 "nbformat_minor": 4
}
