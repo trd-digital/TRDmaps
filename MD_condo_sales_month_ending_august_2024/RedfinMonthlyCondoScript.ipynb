{
 "cells": [
  {
   "cell_type": "markdown",
   "id": "282c57c3",
   "metadata": {},
   "source": [
    "## Imports"
   ]
  },
  {
   "cell_type": "code",
   "execution_count": 1,
   "id": "54c15242",
   "metadata": {},
   "outputs": [],
   "source": [
    "import pandas as pd\n",
    "import numpy as np\n",
    "import re\n",
    "import os\n",
    "import folium\n",
    "import geopandas as gpd\n",
    "import glob\n",
    "from datetime import datetime, timedelta\n",
    "from tqdm.notebook import tqdm\n",
    "import requests\n",
    "import time"
   ]
  },
  {
   "cell_type": "markdown",
   "id": "7c620cf8",
   "metadata": {},
   "source": [
    "## Data Read-in"
   ]
  },
  {
   "cell_type": "code",
   "execution_count": 2,
   "id": "788cfd9b",
   "metadata": {},
   "outputs": [
    {
     "name": "stdout",
     "output_type": "stream",
     "text": [
      "3029\n"
     ]
    }
   ],
   "source": [
    "csv_files = glob.glob('*.csv')\n",
    "\n",
    "df_list = []\n",
    "\n",
    "for csv_file in csv_files:\n",
    "    df = pd.read_csv(csv_file)\n",
    "    df_list.append(df)\n",
    "    \n",
    "df = pd.concat(df_list,ignore_index=True)\n",
    "\n",
    "print(len(df))"
   ]
  },
  {
   "cell_type": "code",
   "execution_count": 3,
   "id": "563417a4",
   "metadata": {},
   "outputs": [],
   "source": [
    "gdf = gpd.read_file('Miami-Dade_Boundary.geojson')"
   ]
  },
  {
   "cell_type": "markdown",
   "id": "5cdf738a",
   "metadata": {},
   "source": [
    "## Previous month's values\n",
    "\n",
    "Get values from here:\n",
    "\n",
    "https://docs.google.com/spreadsheets/d/1GWlqTIzCB29pDVDjd-iBVejVGGsLiAd0P6fq4LM83WI/edit?usp=sharing"
   ]
  },
  {
   "cell_type": "code",
   "execution_count": 4,
   "id": "1cd3e074",
   "metadata": {},
   "outputs": [
    {
     "name": "stdout",
     "output_type": "stream",
     "text": [
      "Input total condo units sold previous (not last) month:\n",
      "810\n"
     ]
    }
   ],
   "source": [
    "print('Input total condo units sold previous (not last) month:')\n",
    "total_condos_sold_2nd_month = input()"
   ]
  },
  {
   "cell_type": "code",
   "execution_count": 5,
   "id": "229637ce",
   "metadata": {},
   "outputs": [
    {
     "name": "stdout",
     "output_type": "stream",
     "text": [
      "Input total sales volume ($$$ million) from previous (not last) month:\n",
      "624000000\n"
     ]
    }
   ],
   "source": [
    "print('Input total sales volume ($$$ million) from previous (not last) month:')\n",
    "sales_volume_2nd_month = input()"
   ]
  },
  {
   "cell_type": "code",
   "execution_count": 6,
   "id": "081faeec",
   "metadata": {},
   "outputs": [
    {
     "name": "stdout",
     "output_type": "stream",
     "text": [
      "Input median sales price from previous (not last) month:\n",
      "407500\n"
     ]
    }
   ],
   "source": [
    "print('Input median sales price from previous (not last) month:')\n",
    "median_sales_price_2nd_month = input()"
   ]
  },
  {
   "cell_type": "code",
   "execution_count": 7,
   "id": "935c7499",
   "metadata": {},
   "outputs": [
    {
     "name": "stdout",
     "output_type": "stream",
     "text": [
      "Input median psf from previous (not last) month:\n",
      "416\n"
     ]
    }
   ],
   "source": [
    "print('Input median psf from previous (not last) month:')\n",
    "median_psf_2nd_month = input()"
   ]
  },
  {
   "cell_type": "markdown",
   "id": "b03ce742",
   "metadata": {},
   "source": [
    "## Data Clean"
   ]
  },
  {
   "cell_type": "code",
   "execution_count": 8,
   "id": "1f2a52a3",
   "metadata": {},
   "outputs": [],
   "source": [
    "df = df.rename(columns={'URL (SEE https://www.redfin.com/buy-a-home/comparative-market-analysis FOR INFO ON PRICING)':'URL'})"
   ]
  },
  {
   "cell_type": "code",
   "execution_count": 9,
   "id": "5f45bf08",
   "metadata": {},
   "outputs": [],
   "source": [
    "df = df.dropna(subset=['SOLD DATE'])"
   ]
  },
  {
   "cell_type": "code",
   "execution_count": 10,
   "id": "25d1852d",
   "metadata": {},
   "outputs": [
    {
     "name": "stdout",
     "output_type": "stream",
     "text": [
      "Report month: August ---- Month before report month: July\n"
     ]
    }
   ],
   "source": [
    "# Get the current date\n",
    "current_date = datetime.now()\n",
    "\n",
    "# Calculate the first day of the current month\n",
    "first_day_of_current_month = current_date.replace(day=1)\n",
    "\n",
    "# Get the last day of the previous month by subtracting one day from the first day of the current month\n",
    "last_day_of_previous_month = first_day_of_current_month - timedelta(days=1)\n",
    "\n",
    "# Get the month name of the previous month\n",
    "previous_month_name = last_day_of_previous_month.strftime(\"%B\")\n",
    "\n",
    "# ---- Get the name of the month, as a string, from two months ago.\n",
    "# ---- Meaning, if the current month is January, return November.\n",
    "\n",
    "# Get the first day of the previous month by subtracting one day from the first day of the current month\n",
    "first_day_of_previous_month = first_day_of_current_month - timedelta(days=1)\n",
    "\n",
    "# Get the first day of the month before the last by subtracting one day from the first day of the previous month\n",
    "first_day_of_month_before_last = first_day_of_previous_month.replace(day=1) - timedelta(days=1)\n",
    "\n",
    "# Get the month name of the month before the last\n",
    "month_before_last_name = first_day_of_month_before_last.strftime(\"%B\")\n",
    "\n",
    "print(f'Report month: {previous_month_name} ---- Month before report month: {month_before_last_name}')"
   ]
  },
  {
   "cell_type": "code",
   "execution_count": 11,
   "id": "9b9d20ba",
   "metadata": {},
   "outputs": [],
   "source": [
    "# Define list of desired months (excluding current month)\n",
    "desired_months = [previous_month_name]\n",
    "\n",
    "# Filter DataFrame to include only entries from desired months\n",
    "df_filtered = df[df['SOLD DATE'].str.split('-', expand=True)[0].isin(desired_months)]\n",
    "\n",
    "# Reset the index\n",
    "df_filtered = df_filtered.reset_index(drop=True)"
   ]
  },
  {
   "cell_type": "code",
   "execution_count": 12,
   "id": "ab2d002c",
   "metadata": {},
   "outputs": [
    {
     "name": "stdout",
     "output_type": "stream",
     "text": [
      "PRICE\n",
      "False    761\n",
      "Name: count, dtype: int64\n",
      "-------\n",
      "$/SQUARE FEET\n",
      "False    757\n",
      "True       4\n",
      "Name: count, dtype: int64\n",
      "-------\n",
      "YEAR BUILT\n",
      "False    761\n",
      "Name: count, dtype: int64\n",
      "-------\n"
     ]
    }
   ],
   "source": [
    "# Data checks\n",
    "print(df_filtered['PRICE'].isna().value_counts())\n",
    "print('-------')\n",
    "print(df_filtered['$/SQUARE FEET'].isna().value_counts())\n",
    "print('-------')\n",
    "print(df_filtered['YEAR BUILT'].isna().value_counts())\n",
    "print('-------')"
   ]
  },
  {
   "cell_type": "code",
   "execution_count": 13,
   "id": "446eb268",
   "metadata": {},
   "outputs": [
    {
     "name": "stdout",
     "output_type": "stream",
     "text": [
      "https://www.redfin.com/FL/Miami/227-NE-2nd-St-33132/unit-1508/home/184157804\n"
     ]
    }
   ],
   "source": [
    "sorted_df = df_filtered.sort_values(by='YEAR BUILT', ascending=False)\n",
    "second_newest_building = sorted_df.iloc[2]\n",
    "print(second_newest_building['URL'])"
   ]
  },
  {
   "cell_type": "code",
   "execution_count": 14,
   "id": "61663e76",
   "metadata": {},
   "outputs": [
    {
     "data": {
      "text/html": [
       "<div>\n",
       "<style scoped>\n",
       "    .dataframe tbody tr th:only-of-type {\n",
       "        vertical-align: middle;\n",
       "    }\n",
       "\n",
       "    .dataframe tbody tr th {\n",
       "        vertical-align: top;\n",
       "    }\n",
       "\n",
       "    .dataframe thead th {\n",
       "        text-align: right;\n",
       "    }\n",
       "</style>\n",
       "<table border=\"1\" class=\"dataframe\">\n",
       "  <thead>\n",
       "    <tr style=\"text-align: right;\">\n",
       "      <th></th>\n",
       "      <th>SALE TYPE</th>\n",
       "      <th>SOLD DATE</th>\n",
       "      <th>PROPERTY TYPE</th>\n",
       "      <th>ADDRESS</th>\n",
       "      <th>CITY</th>\n",
       "      <th>STATE OR PROVINCE</th>\n",
       "      <th>ZIP OR POSTAL CODE</th>\n",
       "      <th>PRICE</th>\n",
       "      <th>BEDS</th>\n",
       "      <th>BATHS</th>\n",
       "      <th>...</th>\n",
       "      <th>STATUS</th>\n",
       "      <th>NEXT OPEN HOUSE START TIME</th>\n",
       "      <th>NEXT OPEN HOUSE END TIME</th>\n",
       "      <th>URL</th>\n",
       "      <th>SOURCE</th>\n",
       "      <th>MLS#</th>\n",
       "      <th>FAVORITE</th>\n",
       "      <th>INTERESTED</th>\n",
       "      <th>LATITUDE</th>\n",
       "      <th>LONGITUDE</th>\n",
       "    </tr>\n",
       "  </thead>\n",
       "  <tbody>\n",
       "  </tbody>\n",
       "</table>\n",
       "<p>0 rows × 27 columns</p>\n",
       "</div>"
      ],
      "text/plain": [
       "Empty DataFrame\n",
       "Columns: [SALE TYPE, SOLD DATE, PROPERTY TYPE, ADDRESS, CITY, STATE OR PROVINCE, ZIP OR POSTAL CODE, PRICE, BEDS, BATHS, LOCATION, SQUARE FEET, LOT SIZE, YEAR BUILT, DAYS ON MARKET, $/SQUARE FEET, HOA/MONTH, STATUS, NEXT OPEN HOUSE START TIME, NEXT OPEN HOUSE END TIME, URL, SOURCE, MLS#, FAVORITE, INTERESTED, LATITUDE, LONGITUDE]\n",
       "Index: []\n",
       "\n",
       "[0 rows x 27 columns]"
      ]
     },
     "execution_count": 14,
     "metadata": {},
     "output_type": "execute_result"
    }
   ],
   "source": [
    "df_filtered.loc[df_filtered['PRICE'] == '0']"
   ]
  },
  {
   "cell_type": "code",
   "execution_count": 15,
   "id": "b0376d17",
   "metadata": {},
   "outputs": [],
   "source": [
    "df_filtered['PRICE'] = pd.to_numeric(df_filtered['PRICE'])\n",
    "df_filtered['$/SQUARE FEET'] = pd.to_numeric(df_filtered['$/SQUARE FEET'])\n",
    "df_filtered['YEAR BUILT'] = pd.to_numeric(df_filtered['YEAR BUILT'])\n",
    "df_filtered['LATITUDE'] = pd.to_numeric(df_filtered['LATITUDE'])\n",
    "df_filtered['LONGITUDE'] = pd.to_numeric(df_filtered['LONGITUDE'])"
   ]
  },
  {
   "cell_type": "code",
   "execution_count": 16,
   "id": "22be7f44",
   "metadata": {},
   "outputs": [],
   "source": [
    "df_filtered = df_filtered.drop_duplicates().reset_index(drop=True)"
   ]
  },
  {
   "cell_type": "code",
   "execution_count": 17,
   "id": "86329244",
   "metadata": {},
   "outputs": [],
   "source": [
    "# df_filtered = df_filtered[df_filtered['ADDRESS'] != '1901 Brickell Ave Unit B109']"
   ]
  },
  {
   "cell_type": "code",
   "execution_count": 17,
   "id": "1b81dc33",
   "metadata": {},
   "outputs": [
    {
     "data": {
      "text/plain": [
       "Index(['SALE TYPE', 'SOLD DATE', 'PROPERTY TYPE', 'ADDRESS', 'CITY',\n",
       "       'STATE OR PROVINCE', 'ZIP OR POSTAL CODE', 'PRICE', 'BEDS', 'BATHS',\n",
       "       'LOCATION', 'SQUARE FEET', 'LOT SIZE', 'YEAR BUILT', 'DAYS ON MARKET',\n",
       "       '$/SQUARE FEET', 'HOA/MONTH', 'STATUS', 'NEXT OPEN HOUSE START TIME',\n",
       "       'NEXT OPEN HOUSE END TIME', 'URL', 'SOURCE', 'MLS#', 'FAVORITE',\n",
       "       'INTERESTED', 'LATITUDE', 'LONGITUDE'],\n",
       "      dtype='object')"
      ]
     },
     "execution_count": 17,
     "metadata": {},
     "output_type": "execute_result"
    }
   ],
   "source": [
    "df_filtered.columns"
   ]
  },
  {
   "cell_type": "code",
   "execution_count": 18,
   "id": "e6db6a51",
   "metadata": {},
   "outputs": [],
   "source": [
    "# df_filtered = df_filtered.drop(index=711)"
   ]
  },
  {
   "cell_type": "code",
   "execution_count": 27,
   "id": "47262a0b",
   "metadata": {},
   "outputs": [
    {
     "data": {
      "text/html": [
       "<div>\n",
       "<style scoped>\n",
       "    .dataframe tbody tr th:only-of-type {\n",
       "        vertical-align: middle;\n",
       "    }\n",
       "\n",
       "    .dataframe tbody tr th {\n",
       "        vertical-align: top;\n",
       "    }\n",
       "\n",
       "    .dataframe thead th {\n",
       "        text-align: right;\n",
       "    }\n",
       "</style>\n",
       "<table border=\"1\" class=\"dataframe\">\n",
       "  <thead>\n",
       "    <tr style=\"text-align: right;\">\n",
       "      <th></th>\n",
       "      <th>SALE TYPE</th>\n",
       "      <th>SOLD DATE</th>\n",
       "      <th>PROPERTY TYPE</th>\n",
       "      <th>ADDRESS</th>\n",
       "      <th>CITY</th>\n",
       "      <th>STATE OR PROVINCE</th>\n",
       "      <th>ZIP OR POSTAL CODE</th>\n",
       "      <th>PRICE</th>\n",
       "      <th>BEDS</th>\n",
       "      <th>BATHS</th>\n",
       "      <th>...</th>\n",
       "      <th>STATUS</th>\n",
       "      <th>NEXT OPEN HOUSE START TIME</th>\n",
       "      <th>NEXT OPEN HOUSE END TIME</th>\n",
       "      <th>URL</th>\n",
       "      <th>SOURCE</th>\n",
       "      <th>MLS#</th>\n",
       "      <th>FAVORITE</th>\n",
       "      <th>INTERESTED</th>\n",
       "      <th>LATITUDE</th>\n",
       "      <th>LONGITUDE</th>\n",
       "    </tr>\n",
       "  </thead>\n",
       "  <tbody>\n",
       "    <tr>\n",
       "      <th>182</th>\n",
       "      <td>PAST SALE</td>\n",
       "      <td>August-1-2024</td>\n",
       "      <td>Condo/Co-op</td>\n",
       "      <td>18801 NE 2nd Ave #1021</td>\n",
       "      <td>Miami</td>\n",
       "      <td>FL</td>\n",
       "      <td>33179.0</td>\n",
       "      <td>92500.0</td>\n",
       "      <td>1.0</td>\n",
       "      <td>1.5</td>\n",
       "      <td>...</td>\n",
       "      <td>Sold</td>\n",
       "      <td>NaN</td>\n",
       "      <td>NaN</td>\n",
       "      <td>https://www.redfin.com/FL/Miami/18801-NE-2nd-A...</td>\n",
       "      <td>MARMLS</td>\n",
       "      <td>A11514727</td>\n",
       "      <td>N</td>\n",
       "      <td>Y</td>\n",
       "      <td>25.947718</td>\n",
       "      <td>-80.196856</td>\n",
       "    </tr>\n",
       "    <tr>\n",
       "      <th>173</th>\n",
       "      <td>PAST SALE</td>\n",
       "      <td>August-20-2024</td>\n",
       "      <td>Condo/Co-op</td>\n",
       "      <td>160 NE 203rd Ter #12</td>\n",
       "      <td>Miami Gardens</td>\n",
       "      <td>FL</td>\n",
       "      <td>33179.0</td>\n",
       "      <td>94000.0</td>\n",
       "      <td>1.0</td>\n",
       "      <td>1.0</td>\n",
       "      <td>...</td>\n",
       "      <td>Sold</td>\n",
       "      <td>NaN</td>\n",
       "      <td>NaN</td>\n",
       "      <td>https://www.redfin.com/FL/Miami/160-NE-203rd-T...</td>\n",
       "      <td>MARMLS</td>\n",
       "      <td>A11527763</td>\n",
       "      <td>N</td>\n",
       "      <td>Y</td>\n",
       "      <td>25.961793</td>\n",
       "      <td>-80.199898</td>\n",
       "    </tr>\n",
       "    <tr>\n",
       "      <th>152</th>\n",
       "      <td>PAST SALE</td>\n",
       "      <td>August-26-2024</td>\n",
       "      <td>Condo/Co-op</td>\n",
       "      <td>160 NE 203rd Ter #22</td>\n",
       "      <td>Miami Gardens</td>\n",
       "      <td>FL</td>\n",
       "      <td>33179.0</td>\n",
       "      <td>115000.0</td>\n",
       "      <td>1.0</td>\n",
       "      <td>1.0</td>\n",
       "      <td>...</td>\n",
       "      <td>Sold</td>\n",
       "      <td>NaN</td>\n",
       "      <td>NaN</td>\n",
       "      <td>https://www.redfin.com/FL/Miami/160-NE-203rd-T...</td>\n",
       "      <td>MARMLS</td>\n",
       "      <td>A11601210</td>\n",
       "      <td>N</td>\n",
       "      <td>Y</td>\n",
       "      <td>25.961793</td>\n",
       "      <td>-80.199898</td>\n",
       "    </tr>\n",
       "    <tr>\n",
       "      <th>171</th>\n",
       "      <td>PAST SALE</td>\n",
       "      <td>August-20-2024</td>\n",
       "      <td>Condo/Co-op</td>\n",
       "      <td>5300 NW 87th Ave #1107</td>\n",
       "      <td>Doral</td>\n",
       "      <td>FL</td>\n",
       "      <td>33178.0</td>\n",
       "      <td>116000.0</td>\n",
       "      <td>1.0</td>\n",
       "      <td>1.0</td>\n",
       "      <td>...</td>\n",
       "      <td>Sold</td>\n",
       "      <td>NaN</td>\n",
       "      <td>NaN</td>\n",
       "      <td>https://www.redfin.com/FL/Doral/5300-NW-87th-A...</td>\n",
       "      <td>MARMLS</td>\n",
       "      <td>A11547776</td>\n",
       "      <td>N</td>\n",
       "      <td>Y</td>\n",
       "      <td>25.820709</td>\n",
       "      <td>-80.338168</td>\n",
       "    </tr>\n",
       "    <tr>\n",
       "      <th>136</th>\n",
       "      <td>PAST SALE</td>\n",
       "      <td>August-8-2024</td>\n",
       "      <td>Condo/Co-op</td>\n",
       "      <td>2861 Leonard Dr Unit F509</td>\n",
       "      <td>Aventura</td>\n",
       "      <td>FL</td>\n",
       "      <td>33160.0</td>\n",
       "      <td>125000.0</td>\n",
       "      <td>1.0</td>\n",
       "      <td>1.0</td>\n",
       "      <td>...</td>\n",
       "      <td>Sold</td>\n",
       "      <td>NaN</td>\n",
       "      <td>NaN</td>\n",
       "      <td>https://www.redfin.com/FL/Aventura/2861-Leonar...</td>\n",
       "      <td>MARMLS</td>\n",
       "      <td>A11590422</td>\n",
       "      <td>N</td>\n",
       "      <td>Y</td>\n",
       "      <td>25.941858</td>\n",
       "      <td>-80.144472</td>\n",
       "    </tr>\n",
       "    <tr>\n",
       "      <th>...</th>\n",
       "      <td>...</td>\n",
       "      <td>...</td>\n",
       "      <td>...</td>\n",
       "      <td>...</td>\n",
       "      <td>...</td>\n",
       "      <td>...</td>\n",
       "      <td>...</td>\n",
       "      <td>...</td>\n",
       "      <td>...</td>\n",
       "      <td>...</td>\n",
       "      <td>...</td>\n",
       "      <td>...</td>\n",
       "      <td>...</td>\n",
       "      <td>...</td>\n",
       "      <td>...</td>\n",
       "      <td>...</td>\n",
       "      <td>...</td>\n",
       "      <td>...</td>\n",
       "      <td>...</td>\n",
       "      <td>...</td>\n",
       "      <td>...</td>\n",
       "    </tr>\n",
       "    <tr>\n",
       "      <th>107</th>\n",
       "      <td>PAST SALE</td>\n",
       "      <td>August-22-2024</td>\n",
       "      <td>Condo/Co-op</td>\n",
       "      <td>2216 Fisher Island Dr #3106</td>\n",
       "      <td>Miami Beach</td>\n",
       "      <td>FL</td>\n",
       "      <td>33109.0</td>\n",
       "      <td>6119340.0</td>\n",
       "      <td>3.0</td>\n",
       "      <td>3.5</td>\n",
       "      <td>...</td>\n",
       "      <td>Sold</td>\n",
       "      <td>NaN</td>\n",
       "      <td>NaN</td>\n",
       "      <td>https://www.redfin.com/FL/Miami-Beach/2216-Fis...</td>\n",
       "      <td>MARMLS</td>\n",
       "      <td>A11598657</td>\n",
       "      <td>N</td>\n",
       "      <td>Y</td>\n",
       "      <td>25.758920</td>\n",
       "      <td>-80.143128</td>\n",
       "    </tr>\n",
       "    <tr>\n",
       "      <th>105</th>\n",
       "      <td>PAST SALE</td>\n",
       "      <td>August-8-2024</td>\n",
       "      <td>Condo/Co-op</td>\n",
       "      <td>18501 Collins Ave #2201</td>\n",
       "      <td>Sunny Isles Beach</td>\n",
       "      <td>FL</td>\n",
       "      <td>33160.0</td>\n",
       "      <td>7200000.0</td>\n",
       "      <td>4.0</td>\n",
       "      <td>5.5</td>\n",
       "      <td>...</td>\n",
       "      <td>Sold</td>\n",
       "      <td>NaN</td>\n",
       "      <td>NaN</td>\n",
       "      <td>https://www.redfin.com/FL/Sunny-Isles-Beach/18...</td>\n",
       "      <td>MARMLS</td>\n",
       "      <td>A11601770</td>\n",
       "      <td>N</td>\n",
       "      <td>Y</td>\n",
       "      <td>25.947720</td>\n",
       "      <td>-80.120228</td>\n",
       "    </tr>\n",
       "    <tr>\n",
       "      <th>113</th>\n",
       "      <td>PAST SALE</td>\n",
       "      <td>August-20-2024</td>\n",
       "      <td>Condo/Co-op</td>\n",
       "      <td>1000 Biscayne Blvd #4202</td>\n",
       "      <td>Miami</td>\n",
       "      <td>FL</td>\n",
       "      <td>33132.0</td>\n",
       "      <td>7300000.0</td>\n",
       "      <td>4.0</td>\n",
       "      <td>5.5</td>\n",
       "      <td>...</td>\n",
       "      <td>Sold</td>\n",
       "      <td>NaN</td>\n",
       "      <td>NaN</td>\n",
       "      <td>https://www.redfin.com/FL/Miami/1000-Biscayne-...</td>\n",
       "      <td>MARMLS</td>\n",
       "      <td>A11589086</td>\n",
       "      <td>N</td>\n",
       "      <td>Y</td>\n",
       "      <td>25.784171</td>\n",
       "      <td>-80.190078</td>\n",
       "    </tr>\n",
       "    <tr>\n",
       "      <th>102</th>\n",
       "      <td>PAST SALE</td>\n",
       "      <td>August-27-2024</td>\n",
       "      <td>Condo/Co-op</td>\n",
       "      <td>1000 Biscayne Blvd #1202</td>\n",
       "      <td>Miami</td>\n",
       "      <td>FL</td>\n",
       "      <td>33132.0</td>\n",
       "      <td>7900000.0</td>\n",
       "      <td>5.0</td>\n",
       "      <td>6.5</td>\n",
       "      <td>...</td>\n",
       "      <td>Sold</td>\n",
       "      <td>NaN</td>\n",
       "      <td>NaN</td>\n",
       "      <td>https://www.redfin.com/FL/Miami/1000-Biscayne-...</td>\n",
       "      <td>MARMLS</td>\n",
       "      <td>A11635953</td>\n",
       "      <td>N</td>\n",
       "      <td>Y</td>\n",
       "      <td>25.784171</td>\n",
       "      <td>-80.190078</td>\n",
       "    </tr>\n",
       "    <tr>\n",
       "      <th>129</th>\n",
       "      <td>PAST SALE</td>\n",
       "      <td>August-16-2024</td>\n",
       "      <td>Condo/Co-op</td>\n",
       "      <td>2669 S Bayshore Dr Unit LPH-N</td>\n",
       "      <td>Miami</td>\n",
       "      <td>FL</td>\n",
       "      <td>33133.0</td>\n",
       "      <td>19500000.0</td>\n",
       "      <td>6.0</td>\n",
       "      <td>7.0</td>\n",
       "      <td>...</td>\n",
       "      <td>Sold</td>\n",
       "      <td>NaN</td>\n",
       "      <td>NaN</td>\n",
       "      <td>https://www.redfin.com/FL/Miami/2669-S-Bayshor...</td>\n",
       "      <td>MARMLS</td>\n",
       "      <td>A11433836</td>\n",
       "      <td>N</td>\n",
       "      <td>Y</td>\n",
       "      <td>25.730657</td>\n",
       "      <td>-80.237098</td>\n",
       "    </tr>\n",
       "  </tbody>\n",
       "</table>\n",
       "<p>712 rows × 27 columns</p>\n",
       "</div>"
      ],
      "text/plain": [
       "     SALE TYPE       SOLD DATE PROPERTY TYPE                        ADDRESS  \\\n",
       "182  PAST SALE   August-1-2024   Condo/Co-op         18801 NE 2nd Ave #1021   \n",
       "173  PAST SALE  August-20-2024   Condo/Co-op           160 NE 203rd Ter #12   \n",
       "152  PAST SALE  August-26-2024   Condo/Co-op           160 NE 203rd Ter #22   \n",
       "171  PAST SALE  August-20-2024   Condo/Co-op         5300 NW 87th Ave #1107   \n",
       "136  PAST SALE   August-8-2024   Condo/Co-op      2861 Leonard Dr Unit F509   \n",
       "..         ...             ...           ...                            ...   \n",
       "107  PAST SALE  August-22-2024   Condo/Co-op    2216 Fisher Island Dr #3106   \n",
       "105  PAST SALE   August-8-2024   Condo/Co-op        18501 Collins Ave #2201   \n",
       "113  PAST SALE  August-20-2024   Condo/Co-op       1000 Biscayne Blvd #4202   \n",
       "102  PAST SALE  August-27-2024   Condo/Co-op       1000 Biscayne Blvd #1202   \n",
       "129  PAST SALE  August-16-2024   Condo/Co-op  2669 S Bayshore Dr Unit LPH-N   \n",
       "\n",
       "                  CITY STATE OR PROVINCE  ZIP OR POSTAL CODE       PRICE  \\\n",
       "182              Miami                FL             33179.0     92500.0   \n",
       "173      Miami Gardens                FL             33179.0     94000.0   \n",
       "152      Miami Gardens                FL             33179.0    115000.0   \n",
       "171              Doral                FL             33178.0    116000.0   \n",
       "136           Aventura                FL             33160.0    125000.0   \n",
       "..                 ...               ...                 ...         ...   \n",
       "107        Miami Beach                FL             33109.0   6119340.0   \n",
       "105  Sunny Isles Beach                FL             33160.0   7200000.0   \n",
       "113              Miami                FL             33132.0   7300000.0   \n",
       "102              Miami                FL             33132.0   7900000.0   \n",
       "129              Miami                FL             33133.0  19500000.0   \n",
       "\n",
       "     BEDS  BATHS  ... STATUS  NEXT OPEN HOUSE START TIME  \\\n",
       "182   1.0    1.5  ...   Sold                         NaN   \n",
       "173   1.0    1.0  ...   Sold                         NaN   \n",
       "152   1.0    1.0  ...   Sold                         NaN   \n",
       "171   1.0    1.0  ...   Sold                         NaN   \n",
       "136   1.0    1.0  ...   Sold                         NaN   \n",
       "..    ...    ...  ...    ...                         ...   \n",
       "107   3.0    3.5  ...   Sold                         NaN   \n",
       "105   4.0    5.5  ...   Sold                         NaN   \n",
       "113   4.0    5.5  ...   Sold                         NaN   \n",
       "102   5.0    6.5  ...   Sold                         NaN   \n",
       "129   6.0    7.0  ...   Sold                         NaN   \n",
       "\n",
       "     NEXT OPEN HOUSE END TIME  \\\n",
       "182                       NaN   \n",
       "173                       NaN   \n",
       "152                       NaN   \n",
       "171                       NaN   \n",
       "136                       NaN   \n",
       "..                        ...   \n",
       "107                       NaN   \n",
       "105                       NaN   \n",
       "113                       NaN   \n",
       "102                       NaN   \n",
       "129                       NaN   \n",
       "\n",
       "                                                   URL  SOURCE       MLS#  \\\n",
       "182  https://www.redfin.com/FL/Miami/18801-NE-2nd-A...  MARMLS  A11514727   \n",
       "173  https://www.redfin.com/FL/Miami/160-NE-203rd-T...  MARMLS  A11527763   \n",
       "152  https://www.redfin.com/FL/Miami/160-NE-203rd-T...  MARMLS  A11601210   \n",
       "171  https://www.redfin.com/FL/Doral/5300-NW-87th-A...  MARMLS  A11547776   \n",
       "136  https://www.redfin.com/FL/Aventura/2861-Leonar...  MARMLS  A11590422   \n",
       "..                                                 ...     ...        ...   \n",
       "107  https://www.redfin.com/FL/Miami-Beach/2216-Fis...  MARMLS  A11598657   \n",
       "105  https://www.redfin.com/FL/Sunny-Isles-Beach/18...  MARMLS  A11601770   \n",
       "113  https://www.redfin.com/FL/Miami/1000-Biscayne-...  MARMLS  A11589086   \n",
       "102  https://www.redfin.com/FL/Miami/1000-Biscayne-...  MARMLS  A11635953   \n",
       "129  https://www.redfin.com/FL/Miami/2669-S-Bayshor...  MARMLS  A11433836   \n",
       "\n",
       "     FAVORITE INTERESTED   LATITUDE  LONGITUDE  \n",
       "182         N          Y  25.947718 -80.196856  \n",
       "173         N          Y  25.961793 -80.199898  \n",
       "152         N          Y  25.961793 -80.199898  \n",
       "171         N          Y  25.820709 -80.338168  \n",
       "136         N          Y  25.941858 -80.144472  \n",
       "..        ...        ...        ...        ...  \n",
       "107         N          Y  25.758920 -80.143128  \n",
       "105         N          Y  25.947720 -80.120228  \n",
       "113         N          Y  25.784171 -80.190078  \n",
       "102         N          Y  25.784171 -80.190078  \n",
       "129         N          Y  25.730657 -80.237098  \n",
       "\n",
       "[712 rows x 27 columns]"
      ]
     },
     "execution_count": 27,
     "metadata": {},
     "output_type": "execute_result"
    }
   ],
   "source": [
    "df_filtered.sort_values(by='PRICE',ascending=True)"
   ]
  },
  {
   "cell_type": "code",
   "execution_count": 21,
   "id": "e6256bce",
   "metadata": {},
   "outputs": [
    {
     "name": "stdout",
     "output_type": "stream",
     "text": [
      "https://www.redfin.com/FL/Miami/18801-NE-2nd-Ave-33179/unit-1021/home/43012166\n"
     ]
    }
   ],
   "source": [
    "print(df_filtered['URL'].iloc[182])"
   ]
  },
  {
   "cell_type": "code",
   "execution_count": 22,
   "id": "fe440217",
   "metadata": {},
   "outputs": [],
   "source": [
    "# Correct the prices, if needed\n",
    "df_filtered.at[140,'PRICE']=(241_000)\n",
    "\n",
    "\n",
    "# Correct the psf, if needed\n",
    "df_filtered.at[140,'$/SQUARE FEET']=(241_000/1_000)"
   ]
  },
  {
   "cell_type": "code",
   "execution_count": 26,
   "id": "bdcedc76",
   "metadata": {},
   "outputs": [],
   "source": [
    "df_filtered = df_filtered.drop(axis=0,index=175)"
   ]
  },
  {
   "cell_type": "code",
   "execution_count": 21,
   "id": "e3877a57",
   "metadata": {},
   "outputs": [],
   "source": [
    "### If needed, drop the row with the lowest price\n",
    "# min_value_index = df_filtered['PRICE'].idxmin()\n",
    "# df_filtered = df_filtered.drop(min_value_index)"
   ]
  },
  {
   "cell_type": "code",
   "execution_count": 28,
   "id": "42d775ef",
   "metadata": {},
   "outputs": [
    {
     "data": {
      "text/html": [
       "<div>\n",
       "<style scoped>\n",
       "    .dataframe tbody tr th:only-of-type {\n",
       "        vertical-align: middle;\n",
       "    }\n",
       "\n",
       "    .dataframe tbody tr th {\n",
       "        vertical-align: top;\n",
       "    }\n",
       "\n",
       "    .dataframe thead th {\n",
       "        text-align: right;\n",
       "    }\n",
       "</style>\n",
       "<table border=\"1\" class=\"dataframe\">\n",
       "  <thead>\n",
       "    <tr style=\"text-align: right;\">\n",
       "      <th></th>\n",
       "      <th>PRICE</th>\n",
       "      <th>ADDRESS</th>\n",
       "      <th>CITY</th>\n",
       "      <th>$/SQUARE FEET</th>\n",
       "    </tr>\n",
       "  </thead>\n",
       "  <tbody>\n",
       "    <tr>\n",
       "      <th>167</th>\n",
       "      <td>185000.0</td>\n",
       "      <td>1800 NE 114th St #1811</td>\n",
       "      <td>Miami</td>\n",
       "      <td>95.0</td>\n",
       "    </tr>\n",
       "    <tr>\n",
       "      <th>166</th>\n",
       "      <td>151000.0</td>\n",
       "      <td>1670 NE 191st St Unit 212-3</td>\n",
       "      <td>Miami</td>\n",
       "      <td>115.0</td>\n",
       "    </tr>\n",
       "    <tr>\n",
       "      <th>708</th>\n",
       "      <td>230000.0</td>\n",
       "      <td>1800 NE 114th St #1206</td>\n",
       "      <td>Miami</td>\n",
       "      <td>118.0</td>\n",
       "    </tr>\n",
       "    <tr>\n",
       "      <th>182</th>\n",
       "      <td>92500.0</td>\n",
       "      <td>18801 NE 2nd Ave #1021</td>\n",
       "      <td>Miami</td>\n",
       "      <td>131.0</td>\n",
       "    </tr>\n",
       "    <tr>\n",
       "      <th>173</th>\n",
       "      <td>94000.0</td>\n",
       "      <td>160 NE 203rd Ter #12</td>\n",
       "      <td>Miami Gardens</td>\n",
       "      <td>136.0</td>\n",
       "    </tr>\n",
       "    <tr>\n",
       "      <th>168</th>\n",
       "      <td>169500.0</td>\n",
       "      <td>492 NW 165th St Rd Unit C609</td>\n",
       "      <td>Miami</td>\n",
       "      <td>144.0</td>\n",
       "    </tr>\n",
       "    <tr>\n",
       "      <th>152</th>\n",
       "      <td>115000.0</td>\n",
       "      <td>160 NE 203rd Ter #22</td>\n",
       "      <td>Miami Gardens</td>\n",
       "      <td>148.0</td>\n",
       "    </tr>\n",
       "    <tr>\n",
       "      <th>172</th>\n",
       "      <td>154000.0</td>\n",
       "      <td>1680 NE 191st St Unit 108-2</td>\n",
       "      <td>Miami</td>\n",
       "      <td>149.0</td>\n",
       "    </tr>\n",
       "    <tr>\n",
       "      <th>139</th>\n",
       "      <td>200000.0</td>\n",
       "      <td>1401 NE Miami Gardens Dr #490</td>\n",
       "      <td>Miami</td>\n",
       "      <td>152.0</td>\n",
       "    </tr>\n",
       "    <tr>\n",
       "      <th>164</th>\n",
       "      <td>129000.0</td>\n",
       "      <td>20230 NE 2nd Ave Unit U8</td>\n",
       "      <td>Miami Gardens</td>\n",
       "      <td>154.0</td>\n",
       "    </tr>\n",
       "    <tr>\n",
       "      <th>161</th>\n",
       "      <td>125000.0</td>\n",
       "      <td>1351 NE Miami Gardens Dr Unit 401E</td>\n",
       "      <td>North Miami Beach</td>\n",
       "      <td>156.0</td>\n",
       "    </tr>\n",
       "    <tr>\n",
       "      <th>709</th>\n",
       "      <td>230000.0</td>\n",
       "      <td>800 NE 195th St #513</td>\n",
       "      <td>Miami</td>\n",
       "      <td>156.0</td>\n",
       "    </tr>\n",
       "    <tr>\n",
       "      <th>153</th>\n",
       "      <td>170000.0</td>\n",
       "      <td>1885 NE 121 St #24</td>\n",
       "      <td>North Miami</td>\n",
       "      <td>157.0</td>\n",
       "    </tr>\n",
       "    <tr>\n",
       "      <th>183</th>\n",
       "      <td>170000.0</td>\n",
       "      <td>14820 Naranja Lakes Blvd Unit D3A</td>\n",
       "      <td>Homestead</td>\n",
       "      <td>158.0</td>\n",
       "    </tr>\n",
       "    <tr>\n",
       "      <th>136</th>\n",
       "      <td>125000.0</td>\n",
       "      <td>2861 Leonard Dr Unit F509</td>\n",
       "      <td>Aventura</td>\n",
       "      <td>163.0</td>\n",
       "    </tr>\n",
       "    <tr>\n",
       "      <th>171</th>\n",
       "      <td>116000.0</td>\n",
       "      <td>5300 NW 87th Ave #1107</td>\n",
       "      <td>Doral</td>\n",
       "      <td>165.0</td>\n",
       "    </tr>\n",
       "    <tr>\n",
       "      <th>700</th>\n",
       "      <td>210000.0</td>\n",
       "      <td>20840 San Simeon Way #401</td>\n",
       "      <td>Miami</td>\n",
       "      <td>170.0</td>\n",
       "    </tr>\n",
       "    <tr>\n",
       "      <th>144</th>\n",
       "      <td>164000.0</td>\n",
       "      <td>14114 SW 263rd Ln #2</td>\n",
       "      <td>Homestead</td>\n",
       "      <td>171.0</td>\n",
       "    </tr>\n",
       "    <tr>\n",
       "      <th>191</th>\n",
       "      <td>169000.0</td>\n",
       "      <td>1501 NE Miami Gardens Dr #255</td>\n",
       "      <td>Miami</td>\n",
       "      <td>173.0</td>\n",
       "    </tr>\n",
       "    <tr>\n",
       "      <th>503</th>\n",
       "      <td>270000.0</td>\n",
       "      <td>18011 Biscayne Blvd #1601</td>\n",
       "      <td>Aventura</td>\n",
       "      <td>173.0</td>\n",
       "    </tr>\n",
       "  </tbody>\n",
       "</table>\n",
       "</div>"
      ],
      "text/plain": [
       "        PRICE                             ADDRESS               CITY  \\\n",
       "167  185000.0              1800 NE 114th St #1811              Miami   \n",
       "166  151000.0         1670 NE 191st St Unit 212-3              Miami   \n",
       "708  230000.0              1800 NE 114th St #1206              Miami   \n",
       "182   92500.0              18801 NE 2nd Ave #1021              Miami   \n",
       "173   94000.0                160 NE 203rd Ter #12      Miami Gardens   \n",
       "168  169500.0        492 NW 165th St Rd Unit C609              Miami   \n",
       "152  115000.0                160 NE 203rd Ter #22      Miami Gardens   \n",
       "172  154000.0         1680 NE 191st St Unit 108-2              Miami   \n",
       "139  200000.0       1401 NE Miami Gardens Dr #490              Miami   \n",
       "164  129000.0            20230 NE 2nd Ave Unit U8      Miami Gardens   \n",
       "161  125000.0  1351 NE Miami Gardens Dr Unit 401E  North Miami Beach   \n",
       "709  230000.0                800 NE 195th St #513              Miami   \n",
       "153  170000.0                  1885 NE 121 St #24        North Miami   \n",
       "183  170000.0   14820 Naranja Lakes Blvd Unit D3A          Homestead   \n",
       "136  125000.0           2861 Leonard Dr Unit F509           Aventura   \n",
       "171  116000.0              5300 NW 87th Ave #1107              Doral   \n",
       "700  210000.0           20840 San Simeon Way #401              Miami   \n",
       "144  164000.0                14114 SW 263rd Ln #2          Homestead   \n",
       "191  169000.0       1501 NE Miami Gardens Dr #255              Miami   \n",
       "503  270000.0           18011 Biscayne Blvd #1601           Aventura   \n",
       "\n",
       "     $/SQUARE FEET  \n",
       "167           95.0  \n",
       "166          115.0  \n",
       "708          118.0  \n",
       "182          131.0  \n",
       "173          136.0  \n",
       "168          144.0  \n",
       "152          148.0  \n",
       "172          149.0  \n",
       "139          152.0  \n",
       "164          154.0  \n",
       "161          156.0  \n",
       "709          156.0  \n",
       "153          157.0  \n",
       "183          158.0  \n",
       "136          163.0  \n",
       "171          165.0  \n",
       "700          170.0  \n",
       "144          171.0  \n",
       "191          173.0  \n",
       "503          173.0  "
      ]
     },
     "execution_count": 28,
     "metadata": {},
     "output_type": "execute_result"
    }
   ],
   "source": [
    "# Find problem psf by searching for low values\n",
    "df_filtered.sort_values(by='$/SQUARE FEET',ascending=True).head(20)[['PRICE','ADDRESS','CITY','$/SQUARE FEET']]"
   ]
  },
  {
   "cell_type": "code",
   "execution_count": 23,
   "id": "6895cf71",
   "metadata": {},
   "outputs": [],
   "source": [
    "# # Drop sales that aren't condos but labeled as such\n",
    "# df_filtered = df_filtered.drop(1320)"
   ]
  },
  {
   "cell_type": "markdown",
   "id": "103ad9df",
   "metadata": {},
   "source": [
    "## Make Maps"
   ]
  },
  {
   "cell_type": "code",
   "execution_count": 29,
   "id": "42ad9d63",
   "metadata": {},
   "outputs": [],
   "source": [
    "### Create a price column formatted as currency ###\n",
    "df_filtered['PRICE_AS_CURRENCY'] = df_filtered['PRICE'].apply(lambda x: \"${:,.0f}\".format(x))\n",
    "### Set formatting for Beds, Baths ###\n",
    "df_filtered['YEAR BUILT DISPLAY'] = df_filtered['YEAR BUILT'].apply(lambda x: '{:.0f}'.format(x))\n",
    "df_filtered['PRICE_SQUARE_FEET_AS_CURRENCY'] = df_filtered['$/SQUARE FEET'].apply(lambda x: '${:,.0f}'.format(x))"
   ]
  },
  {
   "cell_type": "code",
   "execution_count": 30,
   "id": "f42ba6b5",
   "metadata": {},
   "outputs": [],
   "source": [
    "df_filtered = df_filtered.sort_values(by=['PRICE'], ascending=False)\n",
    "### Insert different colors for top 10 sales vs. the rest ###\n",
    "df_filtered['COLOR'] = ''\n",
    "### Create RANK column ###\n",
    "df_filtered['RANK'] = 0\n",
    "### Insert RANK values ###\n",
    "df_filtered['RANK'] = range(1, len(df_filtered) + 1)\n",
    "# use numpy to assign values to the 'COLOR' column\n",
    "df_filtered['COLOR'] = np.where(df_filtered['RANK'] <= 10, 'orange', 'blue')"
   ]
  },
  {
   "cell_type": "markdown",
   "id": "99380454",
   "metadata": {},
   "source": [
    "## HTML Popup Formatter"
   ]
  },
  {
   "cell_type": "code",
   "execution_count": 31,
   "id": "6ffa151c",
   "metadata": {},
   "outputs": [],
   "source": [
    "### Define list of columns to drop from DF ###\n",
    "columns_drop = ['SALE TYPE','PROPERTY TYPE','STATE OR PROVINCE','ZIP OR POSTAL CODE','HOA/MONTH','STATUS','NEXT OPEN HOUSE START TIME','NEXT OPEN HOUSE END TIME','SOURCE','MLS#','FAVORITE','INTERESTED','SQUARE FEET','LOT SIZE']"
   ]
  },
  {
   "cell_type": "code",
   "execution_count": 32,
   "id": "b214f9e8",
   "metadata": {},
   "outputs": [],
   "source": [
    "### Drop the columns ###\n",
    "df_filtered = df_filtered.drop(columns=columns_drop)"
   ]
  },
  {
   "cell_type": "code",
   "execution_count": 33,
   "id": "d12c2830",
   "metadata": {},
   "outputs": [],
   "source": [
    "def popup_html(row):\n",
    "    Price = row['PRICE_AS_CURRENCY']\n",
    "    Address = row['ADDRESS']\n",
    "    City = row['CITY']\n",
    "    sold_date = row['SOLD DATE']\n",
    "    beds = row['BEDS']\n",
    "    baths = row['BATHS']\n",
    "    psf = row['PRICE_SQUARE_FEET_AS_CURRENCY']\n",
    "    year_built = row['YEAR BUILT DISPLAY']\n",
    "    rank = row['RANK']\n",
    "    \n",
    "    html = '''<!DOCTYPE html>\n",
    "    <html>\n",
    "    <strong>Price: </strong>{}'''.format(Price) + '''<br>\n",
    "    <strong>Address: </strong>{}'''.format(Address) + '''<br>\n",
    "    <strong>City: </strong>{}'''.format(City) + '''<br>\n",
    "    <strong>Sold: </strong>{}'''.format(sold_date) + '''<br>\n",
    "    <strong>Beds: </strong>{}'''.format(beds) + '''<br>\n",
    "    <strong>Baths: </strong>{}'''.format(baths) + '''<br>\n",
    "    <strong>Price per sf: </strong>{}'''.format(psf) + '''<br>\n",
    "    <strong>Year Built: </strong>{}'''.format(year_built) + '''<br>\n",
    "    <strong>Price Rank: </strong>{}'''.format(rank) + '''\n",
    "    </html>\n",
    "    '''\n",
    "    return html"
   ]
  },
  {
   "cell_type": "code",
   "execution_count": 34,
   "id": "b7fe13d2",
   "metadata": {},
   "outputs": [
    {
     "data": {
      "text/plain": [
       "<folium.map.LayerControl at 0x7fb9c812feb0>"
      ]
     },
     "execution_count": 34,
     "metadata": {},
     "output_type": "execute_result"
    }
   ],
   "source": [
    "### Create map container ###\n",
    "m = folium.Map(location=df_filtered[[\"LATITUDE\", \"LONGITUDE\"]].mean().to_list(),zoom_start=10,tiles=None)\n",
    "\n",
    "### Create title ###\n",
    "title_html = '''\n",
    "              <h3 align=\"center\" style=\"font-size:16px\"><b>{}</b></h3>\n",
    "             '''.format(f\"{previous_month_name} 2024 Condo Sales\")\n",
    "\n",
    "m.get_root().html.add_child(folium.Element(title_html))\n",
    "\n",
    "# Create two FeatureGroups for different color pins\n",
    "fg_blue = folium.FeatureGroup(name='All other sales')\n",
    "fg_orange = folium.FeatureGroup(name='Top 10 Sales')\n",
    "\n",
    "folium.GeoJson(gdf,tooltip='Miami-Dade County',name='Miami-Dade County').add_to(m)\n",
    "\n",
    "for index, row in df_filtered.iterrows():\n",
    "    # Add the markers to the appropriate FeatureGroup based on the color\n",
    "    if row['COLOR'] == 'blue':\n",
    "        marker = folium.Marker(\n",
    "            location=[row['LATITUDE'], row['LONGITUDE']],\n",
    "            radius=5,\n",
    "            fill=True,\n",
    "            icon=folium.Icon(color=row['COLOR']),\n",
    "            popup=folium.Popup(popup_html(row), max_width=400))\n",
    "        marker.add_to(fg_blue)\n",
    "    else:\n",
    "        marker = folium.Marker(\n",
    "            location=[row['LATITUDE'], row['LONGITUDE']],\n",
    "            radius=5,\n",
    "            fill=True,\n",
    "            icon=folium.Icon(color=row['COLOR']),\n",
    "            popup=folium.Popup(popup_html(row), max_width=400))\n",
    "        marker.add_to(fg_orange)\n",
    "\n",
    "# Add the FeatureGroups to the map\n",
    "fg_orange.add_to(m)\n",
    "fg_blue.add_to(m)\n",
    "\n",
    "folium.TileLayer('OpenStreetMap',control=False).add_to(m)\n",
    "\n",
    "# Add LayerControl to the map\n",
    "folium.map.LayerControl(collapsed=False).add_to(m)\n",
    "\n",
    "# Display map\n",
    "# m"
   ]
  },
  {
   "cell_type": "code",
   "execution_count": 35,
   "id": "a704af7f",
   "metadata": {},
   "outputs": [],
   "source": [
    "m.save('index.html')"
   ]
  },
  {
   "cell_type": "markdown",
   "id": "81b7dc98",
   "metadata": {},
   "source": [
    "## Summary Info"
   ]
  },
  {
   "cell_type": "code",
   "execution_count": 36,
   "id": "6910bd5b",
   "metadata": {},
   "outputs": [],
   "source": [
    "BR = '\\n'\n",
    "\n",
    "ME = '\\033[1m' + 'Most Expensive' + '\\033[0m'\n",
    "LE = '\\033[1m' + 'Least Expensive' + '\\033[0m'\n",
    "\n",
    "MAX_PSF = '\\033[1m' + 'Highest Price Per Square Foot' + '\\033[0m'\n",
    "MIN_PSF = '\\033[1m' + 'Lowest Price Per Square Foot' + '\\033[0m'\n",
    "\n",
    "Newest = '\\033[1m' + 'Newest' + '\\033[0m'\n",
    "Oldest = '\\033[1m' + 'Oldest' + '\\033[0m'"
   ]
  },
  {
   "cell_type": "code",
   "execution_count": 37,
   "id": "9d2c1b97",
   "metadata": {},
   "outputs": [
    {
     "data": {
      "text/plain": [
       "Index(['SOLD DATE', 'ADDRESS', 'CITY', 'PRICE', 'BEDS', 'BATHS', 'LOCATION',\n",
       "       'YEAR BUILT', 'DAYS ON MARKET', '$/SQUARE FEET', 'URL', 'LATITUDE',\n",
       "       'LONGITUDE', 'PRICE_AS_CURRENCY', 'YEAR BUILT DISPLAY',\n",
       "       'PRICE_SQUARE_FEET_AS_CURRENCY', 'COLOR', 'RANK'],\n",
       "      dtype='object')"
      ]
     },
     "execution_count": 37,
     "metadata": {},
     "output_type": "execute_result"
    }
   ],
   "source": [
    "df_filtered.columns"
   ]
  },
  {
   "cell_type": "code",
   "execution_count": 38,
   "id": "81280824",
   "metadata": {},
   "outputs": [],
   "source": [
    "df_filtered['FULL_ADDRESS'] = df_filtered['ADDRESS'] + ' ' + df_filtered['CITY']"
   ]
  },
  {
   "cell_type": "code",
   "execution_count": 39,
   "id": "4677d727",
   "metadata": {},
   "outputs": [
    {
     "name": "stdout",
     "output_type": "stream",
     "text": [
      "https://www.redfin.com/FL/Miami-Beach/1027-Pennsylvania-Ave-33139/unit-201/home/43271790\n"
     ]
    }
   ],
   "source": [
    "print(df_filtered.loc[df_filtered['YEAR BUILT'].idxmin()]['URL'])"
   ]
  },
  {
   "cell_type": "markdown",
   "id": "66042a15",
   "metadata": {},
   "source": [
    "## Collect Agent Information"
   ]
  },
  {
   "cell_type": "code",
   "execution_count": 43,
   "id": "36f2fc7b",
   "metadata": {},
   "outputs": [],
   "source": [
    "def process_response(url):\n",
    "    try:\n",
    "        \n",
    "        base_url = \"https://redfin-com-data.p.rapidapi.com/properties/detail-by-url\"\n",
    "\n",
    "        querystring = {\"url\":url}\n",
    "\n",
    "        headers = {\n",
    "            \"x-rapidapi-key\": \"00191da588msh8450293d26e3515p1bbd40jsn56510b513b61\",\n",
    "            \"x-rapidapi-host\": \"redfin-com-data.p.rapidapi.com\"\n",
    "        }\n",
    "\n",
    "        response = requests.get(base_url, headers=headers, params=querystring)\n",
    "\n",
    "#         print(response.status_code)\n",
    "#         print(url)\n",
    "        time.sleep(0.2)\n",
    "\n",
    "        response.raise_for_status()\n",
    "        data = response.json()\n",
    "\n",
    "        # Initialize default values for listing and buyer agents data\n",
    "        list_agent_name_1 = None\n",
    "        list_broker_name_1 = None\n",
    "        list_agent_name_2 = None\n",
    "        list_broker_name_2 = None\n",
    "        \n",
    "        buy_agent_name_1 = None\n",
    "        buy_broker_name_1 = None\n",
    "        buy_agent_name_2 = None\n",
    "        buy_broker_name_2 = None\n",
    "        \n",
    "        # Extract listing agents data if it exists\n",
    "        listing_agents = data.get('data', {}).get('mainHouseInfoPanelInfo', {}).get('mainHouseInfo', {}).get('listingAgents', [])\n",
    "        if len(listing_agents) > 0:\n",
    "            list_agent_name_1 = listing_agents[0].get('agentInfo', {}).get('agentName')\n",
    "            list_broker_name_1 = listing_agents[0].get('brokerName')\n",
    "        if len(listing_agents) > 1:\n",
    "            list_agent_name_2 = listing_agents[1].get('agentInfo', {}).get('agentName')\n",
    "            list_broker_name_2 = listing_agents[1].get('brokerName')\n",
    "            \n",
    "        # Extract listing agents data if it exists\n",
    "        buying_agents = data.get('data', {}).get('mainHouseInfoPanelInfo', {}).get('mainHouseInfo', {}).get('buyingAgents', [])\n",
    "        if len(buying_agents) > 0:\n",
    "            buy_agent_name_1 = buying_agents[0].get('agentInfo', {}).get('agentName')\n",
    "            buy_broker_name_1 = buying_agents[0].get('brokerName')\n",
    "        if len(buying_agents) > 1:\n",
    "            buy_agent_name_2 = buying_agents[1].get('agentInfo', {}).get('agentName')\n",
    "            buy_broker_name_2 = buying_agents[1].get('brokerName')\n",
    "\n",
    "\n",
    "        return {\n",
    "            'url': url,\n",
    "            'list_agent_name_1': list_agent_name_1,\n",
    "            'list_broker_name_1': list_broker_name_1,\n",
    "            'list_agent_name_2': list_agent_name_2,\n",
    "            'list_broker_name_2': list_broker_name_2,\n",
    "            'buy_agent_name_1': buy_agent_name_1,\n",
    "            'buy_broker_name_1': buy_broker_name_1,\n",
    "            'buy_agent_name_2': buy_agent_name_2,\n",
    "            'buy_broker_name_2': buy_broker_name_2,\n",
    "        }\n",
    "    except requests.exceptions.RequestException as e:\n",
    "        print(f\"Error fetching data from {url}: {e}\")\n",
    "        return {\n",
    "            'url': url,\n",
    "            'list_agent_name_1': None,\n",
    "            'list_broker_name_1': None,\n",
    "            'list_agent_name_2': None,\n",
    "            'list_broker_name_2': None,\n",
    "            'buy_agent_name_1': None,\n",
    "            'buy_broker_name_1': None,\n",
    "            'buy_agent_name_2': None,\n",
    "            'buy_broker_name_2': None,\n",
    "        }"
   ]
  },
  {
   "cell_type": "code",
   "execution_count": 62,
   "id": "a6dc64ba",
   "metadata": {},
   "outputs": [],
   "source": [
    "max_price_index = df_filtered['PRICE'].idxmax()\n",
    "min_price_index = df_filtered['PRICE'].idxmin()\n",
    "\n",
    "max_price_psf_index = df_filtered['$/SQUARE FEET'].idxmax()\n",
    "min_price_psf_index = df_filtered['$/SQUARE FEET'].idxmin()\n",
    "\n",
    "max_year_built_index = df_filtered['YEAR BUILT'].idxmax()\n",
    "min_year_built_index = df_filtered['YEAR BUILT'].idxmin()"
   ]
  },
  {
   "cell_type": "code",
   "execution_count": 63,
   "id": "3db9b0fe",
   "metadata": {},
   "outputs": [],
   "source": [
    "index_list = [max_price_index,min_price_index,\n",
    "             max_price_psf_index,min_price_psf_index,\n",
    "             max_year_built_index,min_year_built_index]"
   ]
  },
  {
   "cell_type": "code",
   "execution_count": 56,
   "id": "4ea89c52",
   "metadata": {},
   "outputs": [],
   "source": [
    "df_filtered.reset_index(inplace=True,drop=True)"
   ]
  },
  {
   "cell_type": "code",
   "execution_count": 65,
   "id": "77ccdbeb",
   "metadata": {},
   "outputs": [],
   "source": [
    "# for index, row in df_filtered.iterrows():\n",
    "#     if index in index_list:\n",
    "#         print(f'{index} found!')\n",
    "#         print(f'{df_filtered.iloc[index]}')"
   ]
  },
  {
   "cell_type": "code",
   "execution_count": 66,
   "id": "d095fe77",
   "metadata": {},
   "outputs": [],
   "source": [
    "response_list = []\n",
    "\n",
    "for index, row in df_filtered.iterrows():\n",
    "    if index in index_list:\n",
    "        response_list.append(process_response(row['URL']))"
   ]
  },
  {
   "cell_type": "code",
   "execution_count": 67,
   "id": "23656211",
   "metadata": {},
   "outputs": [],
   "source": [
    "response_df = pd.DataFrame(response_list)"
   ]
  },
  {
   "cell_type": "code",
   "execution_count": 68,
   "id": "67f5cc68",
   "metadata": {},
   "outputs": [],
   "source": [
    "merged_df = pd.merge(left=df_filtered,left_on='URL',right=response_df, right_on='url')"
   ]
  },
  {
   "cell_type": "code",
   "execution_count": 127,
   "id": "4f069bec",
   "metadata": {},
   "outputs": [],
   "source": [
    "test_df = pd.merge(left=df_filtered,left_on='URL',right=response_df, right_on='url',how='outer')"
   ]
  },
  {
   "cell_type": "code",
   "execution_count": 134,
   "id": "dc1ded0c",
   "metadata": {},
   "outputs": [
    {
     "data": {
      "text/plain": [
       "array([nan, \"One Sotheby's International Re\",\n",
       "       'Keller Williams Realty Miami Portfolio Collection',\n",
       "       'EXP Realty LLC', None, 'Compass Florida, LLC'], dtype=object)"
      ]
     },
     "execution_count": 134,
     "metadata": {},
     "output_type": "execute_result"
    }
   ],
   "source": [
    "test_df.list_broker_name_2.unique()"
   ]
  },
  {
   "cell_type": "code",
   "execution_count": 80,
   "id": "3928292d",
   "metadata": {},
   "outputs": [
    {
     "data": {
      "text/plain": [
       "Index(['index', 'SOLD DATE', 'ADDRESS', 'CITY', 'PRICE', 'BEDS', 'BATHS',\n",
       "       'LOCATION', 'YEAR BUILT', 'DAYS ON MARKET', '$/SQUARE FEET', 'URL',\n",
       "       'LATITUDE', 'LONGITUDE', 'PRICE_AS_CURRENCY', 'YEAR BUILT DISPLAY',\n",
       "       'PRICE_SQUARE_FEET_AS_CURRENCY', 'COLOR', 'RANK', 'FULL_ADDRESS', 'url',\n",
       "       'list_agent_name_1', 'list_broker_name_1', 'list_agent_name_2',\n",
       "       'list_broker_name_2', 'buy_agent_name_1', 'buy_broker_name_1',\n",
       "       'buy_agent_name_2', 'buy_broker_name_2'],\n",
       "      dtype='object')"
      ]
     },
     "execution_count": 80,
     "metadata": {},
     "output_type": "execute_result"
    }
   ],
   "source": [
    "merged_df.columns"
   ]
  },
  {
   "cell_type": "code",
   "execution_count": 89,
   "id": "39ff9917",
   "metadata": {},
   "outputs": [
    {
     "name": "stdout",
     "output_type": "stream",
     "text": [
      "\u001b[1mMost Expensive\u001b[0m\n",
      "DINNER KEY, 2669 S Bayshore Dr Unit LPH-N Miami | Price $19,500,000 | $1,937 psf | Year built: 2016 | Listing agents: Chad Carroll with Compass Florida, LLC and Lisandra Martinez with Compass Florida, LLC | Buyer's agents: Malgozata Makovska Fuller with One Sotheby's International Re and None with None\n",
      "\u001b[1mLeast Expensive\u001b[0m\n",
      "STAR LAKES ESTATES NO 10, 18801 NE 2nd Ave #1021 Miami | Price $92,500 | $131 psf | Year built: 1969 | Listing agents: Steve Menachem with United Realty Group Inc and None with None | Buyer's agents: Yessica Mejias with The Keyes Company and None with None\n",
      "\u001b[1mHighest Price Per Square Foot\u001b[0m\n",
      "CONTINUUM ON SOUTH BEACH, 100 S Pointe Dr #3205 Miami Beach | Price $5,650,000 | $3,021 psf | Year built: 2003 | Listing agents: Eddy Martinez with One Sotheby's International Re and Roland Ortiz with One Sotheby's International Re | Buyer's agents: Carla Ellek with Westlake Realty Group, LLC. and None with None\n",
      "\u001b[1mLowest Price Per Square Foot\u001b[0m\n",
      "CRICKET CLUB CONDO, 1800 NE 114th St #1811 Miami | Price $185,000 | $95 psf | Year built: 1975 | Listing agents: Maria Benezra with Oceanside Realty & Investments, Inc. and Miriam Mizrahi with EXP Realty LLC | Buyer's agents: Jack Coden with Keller Williams Eagle Realty and None with None\n",
      "\u001b[1mNewest\u001b[0m\n",
      "Pomelo Park C Condo, 2874 SW 33rd Ct Unit . Miami | Price $1,195,000 | $nan psf | Year built: 2024 | Listing agents: Kim Martin with One Sotheby's International Realty and None with None | Buyer's agents: NON-MLS MEMBER with MAR NON MLS MEMBER and None with None\n",
      "\u001b[1mOldest\u001b[0m\n",
      "PENN PLAZA CONDO, 1027 Pennsylvania Ave #201 Miami Beach | Price $290,000 | $312 psf | Year built: 1925 | Listing agents: Mate Granic with Keller Williams Realty International Lifestyles and Linda Erice with Keller Williams Realty Miami Portfolio Collection | Buyer's agents: Renzo Rossato with EXP Realty LLC and None with None\n"
     ]
    }
   ],
   "source": [
    "print(f\"{ME}{BR}{merged_df.loc[merged_df['PRICE'].idxmax()]['LOCATION']}, {merged_df.loc[merged_df['PRICE'].idxmax()]['FULL_ADDRESS']} | Price ${merged_df.loc[merged_df['PRICE'].idxmax()]['PRICE']:,.0f} | ${merged_df.loc[merged_df['PRICE'].idxmax()]['$/SQUARE FEET']:,.0f} psf | Year built: {merged_df.loc[merged_df['PRICE'].idxmax()]['YEAR BUILT']:.0f} | Listing agents: {merged_df.loc[merged_df['PRICE'].idxmax()]['list_agent_name_1']} with {merged_df.loc[merged_df['PRICE'].idxmax()]['list_broker_name_1']} and {merged_df.loc[merged_df['PRICE'].idxmax()]['list_agent_name_2']} with {merged_df.loc[merged_df['PRICE'].idxmax()]['list_broker_name_2']} | Buyer's agents: {merged_df.loc[merged_df['PRICE'].idxmax()]['buy_agent_name_1']} with {merged_df.loc[merged_df['PRICE'].idxmax()]['buy_broker_name_1']} and {merged_df.loc[merged_df['PRICE'].idxmax()]['buy_agent_name_2']} with {merged_df.loc[merged_df['PRICE'].idxmax()]['buy_broker_name_2']}\")\n",
    "print(f\"{LE}{BR}{merged_df.loc[merged_df['PRICE'].idxmin()]['LOCATION']}, {merged_df.loc[merged_df['PRICE'].idxmin()]['FULL_ADDRESS']} | Price ${merged_df.loc[merged_df['PRICE'].idxmin()]['PRICE']:,.0f} | ${merged_df.loc[merged_df['PRICE'].idxmin()]['$/SQUARE FEET']:,.0f} psf | Year built: {merged_df.loc[merged_df['PRICE'].idxmin()]['YEAR BUILT']:.0f} | Listing agents: {merged_df.loc[merged_df['PRICE'].idxmin()]['list_agent_name_1']} with {merged_df.loc[merged_df['PRICE'].idxmin()]['list_broker_name_1']} and {merged_df.loc[merged_df['PRICE'].idxmin()]['list_agent_name_2']} with {merged_df.loc[merged_df['PRICE'].idxmin()]['list_broker_name_2']} | Buyer's agents: {merged_df.loc[merged_df['PRICE'].idxmin()]['buy_agent_name_1']} with {merged_df.loc[merged_df['PRICE'].idxmin()]['buy_broker_name_1']} and {merged_df.loc[merged_df['PRICE'].idxmin()]['buy_agent_name_2']} with {merged_df.loc[merged_df['PRICE'].idxmin()]['buy_broker_name_2']}\")\n",
    "\n",
    "print(f\"{MAX_PSF}{BR}{merged_df.loc[merged_df['$/SQUARE FEET'].idxmax()]['LOCATION']}, {merged_df.loc[merged_df['$/SQUARE FEET'].idxmax()]['FULL_ADDRESS']} | Price ${merged_df.loc[merged_df['$/SQUARE FEET'].idxmax()]['PRICE']:,.0f} | ${merged_df.loc[merged_df['$/SQUARE FEET'].idxmax()]['$/SQUARE FEET']:,.0f} psf | Year built: {merged_df.loc[merged_df['$/SQUARE FEET'].idxmax()]['YEAR BUILT']:.0f} | Listing agents: {merged_df.loc[merged_df['$/SQUARE FEET'].idxmax()]['list_agent_name_1']} with {merged_df.loc[merged_df['$/SQUARE FEET'].idxmax()]['list_broker_name_1']} and {merged_df.loc[merged_df['$/SQUARE FEET'].idxmax()]['list_agent_name_2']} with {merged_df.loc[merged_df['$/SQUARE FEET'].idxmax()]['list_broker_name_2']} | Buyer's agents: {merged_df.loc[merged_df['$/SQUARE FEET'].idxmax()]['buy_agent_name_1']} with {merged_df.loc[merged_df['$/SQUARE FEET'].idxmax()]['buy_broker_name_1']} and {merged_df.loc[merged_df['$/SQUARE FEET'].idxmax()]['buy_agent_name_2']} with {merged_df.loc[merged_df['$/SQUARE FEET'].idxmax()]['buy_broker_name_2']}\")\n",
    "print(f\"{MIN_PSF}{BR}{merged_df.loc[merged_df['$/SQUARE FEET'].idxmin()]['LOCATION']}, {merged_df.loc[merged_df['$/SQUARE FEET'].idxmin()]['FULL_ADDRESS']} | Price ${merged_df.loc[merged_df['$/SQUARE FEET'].idxmin()]['PRICE']:,.0f} | ${merged_df.loc[merged_df['$/SQUARE FEET'].idxmin()]['$/SQUARE FEET']:,.0f} psf | Year built: {merged_df.loc[merged_df['$/SQUARE FEET'].idxmin()]['YEAR BUILT']:.0f} | Listing agents: {merged_df.loc[merged_df['$/SQUARE FEET'].idxmin()]['list_agent_name_1']} with {merged_df.loc[merged_df['$/SQUARE FEET'].idxmin()]['list_broker_name_1']} and {merged_df.loc[merged_df['$/SQUARE FEET'].idxmin()]['list_agent_name_2']} with {merged_df.loc[merged_df['$/SQUARE FEET'].idxmin()]['list_broker_name_2']} | Buyer's agents: {merged_df.loc[merged_df['$/SQUARE FEET'].idxmin()]['buy_agent_name_1']} with {merged_df.loc[merged_df['$/SQUARE FEET'].idxmin()]['buy_broker_name_1']} and {merged_df.loc[merged_df['$/SQUARE FEET'].idxmin()]['buy_agent_name_2']} with {merged_df.loc[merged_df['$/SQUARE FEET'].idxmin()]['buy_broker_name_2']}\")\n",
    "\n",
    "print(f\"{Newest}{BR}{merged_df.loc[merged_df['YEAR BUILT'].idxmax()]['LOCATION']}, {merged_df.loc[merged_df['YEAR BUILT'].idxmax()]['FULL_ADDRESS']} | Price ${merged_df.loc[merged_df['YEAR BUILT'].idxmax()]['PRICE']:,.0f} | ${merged_df.loc[merged_df['YEAR BUILT'].idxmax()]['$/SQUARE FEET']:,.0f} psf | Year built: {merged_df.loc[merged_df['YEAR BUILT'].idxmax()]['YEAR BUILT']:.0f} | Listing agents: {merged_df.loc[merged_df['YEAR BUILT'].idxmax()]['list_agent_name_1']} with {merged_df.loc[merged_df['YEAR BUILT'].idxmax()]['list_broker_name_1']} and {merged_df.loc[merged_df['YEAR BUILT'].idxmax()]['list_agent_name_2']} with {merged_df.loc[merged_df['YEAR BUILT'].idxmax()]['list_broker_name_2']} | Buyer's agents: {merged_df.loc[merged_df['YEAR BUILT'].idxmax()]['buy_agent_name_1']} with {merged_df.loc[merged_df['YEAR BUILT'].idxmax()]['buy_broker_name_1']} and {merged_df.loc[merged_df['YEAR BUILT'].idxmax()]['buy_agent_name_2']} with {merged_df.loc[merged_df['YEAR BUILT'].idxmax()]['buy_broker_name_2']}\")\n",
    "print(f\"{Oldest}{BR}{merged_df.loc[merged_df['YEAR BUILT'].idxmin()]['LOCATION']}, {merged_df.loc[merged_df['YEAR BUILT'].idxmin()]['FULL_ADDRESS']} | Price ${merged_df.loc[merged_df['YEAR BUILT'].idxmin()]['PRICE']:,.0f} | ${merged_df.loc[merged_df['YEAR BUILT'].idxmin()]['$/SQUARE FEET']:,.0f} psf | Year built: {merged_df.loc[merged_df['YEAR BUILT'].idxmin()]['YEAR BUILT']:.0f} | Listing agents: {merged_df.loc[merged_df['YEAR BUILT'].idxmin()]['list_agent_name_1']} with {merged_df.loc[merged_df['YEAR BUILT'].idxmin()]['list_broker_name_1']} and {merged_df.loc[merged_df['YEAR BUILT'].idxmin()]['list_agent_name_2']} with {merged_df.loc[merged_df['YEAR BUILT'].idxmin()]['list_broker_name_2']} | Buyer's agents: {merged_df.loc[merged_df['YEAR BUILT'].idxmin()]['buy_agent_name_1']} with {merged_df.loc[merged_df['YEAR BUILT'].idxmin()]['buy_broker_name_1']} and {merged_df.loc[merged_df['YEAR BUILT'].idxmin()]['buy_agent_name_2']} with {merged_df.loc[merged_df['YEAR BUILT'].idxmin()]['buy_broker_name_2']}\")"
   ]
  },
  {
   "cell_type": "markdown",
   "id": "707dd49b",
   "metadata": {},
   "source": [
    "## Map URL Snagger"
   ]
  },
  {
   "cell_type": "code",
   "execution_count": 90,
   "id": "81e05274",
   "metadata": {},
   "outputs": [
    {
     "name": "stdout",
     "output_type": "stream",
     "text": [
      "https://trd-digital.github.io/trd-news-interactive-maps/MD_condo_sales_month_ending_august_2024\n"
     ]
    }
   ],
   "source": [
    "base_name = 'https://trd-digital.github.io/trd-news-interactive-maps/'\n",
    "\n",
    "cwd = os.getcwd()\n",
    "\n",
    "cwd = cwd.split('/')\n",
    "\n",
    "final_name = base_name + cwd[-1]\n",
    "print(final_name)"
   ]
  },
  {
   "cell_type": "markdown",
   "id": "fe5031c3",
   "metadata": {},
   "source": [
    "## Get Summary Data"
   ]
  },
  {
   "cell_type": "code",
   "execution_count": 92,
   "id": "15cba208",
   "metadata": {},
   "outputs": [
    {
     "name": "stdout",
     "output_type": "stream",
     "text": [
      "SALES INFO\n",
      "Number of sales: 712\n",
      "--------\n",
      "Total sale price: $470,342,101\n",
      "--------\n",
      "Median sale price: $380,000\n",
      "--------\n",
      "Max sale price: $19,500,000\n",
      "--------\n",
      "Min sale price: $92,500\n",
      "------------------------------------------------\n",
      "PSF INFO\n",
      "Max price per square foot: $3,021\n",
      "--------\n",
      "Min price per square foot: $95\n",
      "--------\n",
      "Median price per square foot: $388\n",
      "------------------------------------------------\n",
      "CONDO AGES\n",
      "Newest building: 2024.0\n",
      "----------\n",
      "Oldest building: 1925.0\n",
      "----------\n",
      "Average building age: 1987.7893258426966\n"
     ]
    }
   ],
   "source": [
    "print('SALES INFO')\n",
    "print(f'Number of sales: {len(df_filtered)}')\n",
    "print('--------')\n",
    "print(f'Total sale price: ${df_filtered[\"PRICE\"].sum():,.0f}')\n",
    "print('--------')\n",
    "print(f'Median sale price: ${df_filtered[\"PRICE\"].median():,.0f}')\n",
    "print('--------')\n",
    "print(f'Max sale price: ${df_filtered[\"PRICE\"].max():,.0f}')\n",
    "print('--------')\n",
    "print(f'Min sale price: ${df_filtered[\"PRICE\"].min():,.0f}')\n",
    "print('------------------------------------------------')\n",
    "print('PSF INFO')\n",
    "print(f'Max price per square foot: ${df_filtered[\"$/SQUARE FEET\"].max():,.0f}')\n",
    "print('--------')\n",
    "print(f'Min price per square foot: ${df_filtered[\"$/SQUARE FEET\"].min():,.0f}')\n",
    "print('--------')\n",
    "print(f'Median price per square foot: ${df_filtered[\"$/SQUARE FEET\"].median():,.0f}')\n",
    "print('------------------------------------------------')\n",
    "print('CONDO AGES')\n",
    "print(f'Newest building: {df_filtered[\"YEAR BUILT\"].max()}')\n",
    "print('----------')\n",
    "print(f'Oldest building: {df_filtered[\"YEAR BUILT\"].min()}')\n",
    "print('----------')\n",
    "print(f'Average building age: {df_filtered[\"YEAR BUILT\"].mean()}')"
   ]
  },
  {
   "cell_type": "code",
   "execution_count": 93,
   "id": "a7db05bf",
   "metadata": {},
   "outputs": [],
   "source": [
    "most_expensive_muni_condo_name = df_filtered.loc[df_filtered['PRICE'].idxmax()]['LOCATION']\n",
    "most_expensive_muni_location = df_filtered.loc[df_filtered['PRICE'].idxmax()]['CITY']\n",
    "\n",
    "least_expensive_muni_condo_name = df_filtered.loc[df_filtered['PRICE'].idxmin()]['LOCATION']\n",
    "least_expensive_muni_location = df_filtered.loc[df_filtered['PRICE'].idxmin()]['CITY']"
   ]
  },
  {
   "cell_type": "markdown",
   "id": "3a2b0666",
   "metadata": {},
   "source": [
    "# GENERATE STORY TEMPLATE\n",
    "\n",
    "# STOP! DID YOU UPDATE VALUES FROM THE PREVIOUS MONTH?"
   ]
  },
  {
   "cell_type": "code",
   "execution_count": 115,
   "id": "b79b8847",
   "metadata": {},
   "outputs": [],
   "source": [
    "## Calculate the increase/descrease between both months\n",
    "subject_month_sales_volume = df_filtered[\"PRICE\"].sum()\n",
    "prior_month_sales_volume = int(sales_volume_2nd_month)  # Example value, replace with actual value\n",
    "\n",
    "subject_month_closings = len(df_filtered)\n",
    "prior_month_closings = int(total_condos_sold_2nd_month)\n",
    "\n",
    "# Subtract the smaller value from the larger one\n",
    "if subject_month_sales_volume > prior_month_sales_volume:\n",
    "    hed_rf = 'jumps'\n",
    "    nut_graf = 'rising'\n",
    "    social = 'higher'\n",
    "    seo = 'increases'\n",
    "elif prior_month_sales_volume > subject_month_sales_volume:\n",
    "    hed_rf = 'drops'\n",
    "    nut_graf = 'falling'\n",
    "    social = 'lower'\n",
    "    seo = 'decreases'\n",
    "else:\n",
    "    hed_rf = 'equals'\n",
    "    nut_graf = 'equaling'\n",
    "    social = 'equal'\n",
    "    seo = \"doesn't change\"\n",
    "      \n",
    "if subject_month_closings > prior_month_closings:\n",
    "    dek_rf = 'rises'\n",
    "    graf = 'up'\n",
    "elif prior_month_closings > subject_month_closings:\n",
    "    dek_rf ='fell'\n",
    "    graf = 'down'\n",
    "else:\n",
    "    dek_rf = 'equals'\n",
    "    graf = 'flat'"
   ]
  },
  {
   "cell_type": "code",
   "execution_count": 95,
   "id": "09ea10bd",
   "metadata": {},
   "outputs": [
    {
     "data": {
      "text/plain": [
       "712"
      ]
     },
     "execution_count": 95,
     "metadata": {},
     "output_type": "execute_result"
    }
   ],
   "source": [
    "subject_month_closings"
   ]
  },
  {
   "cell_type": "code",
   "execution_count": 96,
   "id": "21a74c22",
   "metadata": {},
   "outputs": [
    {
     "data": {
      "text/plain": [
       "624000000"
      ]
     },
     "execution_count": 96,
     "metadata": {},
     "output_type": "execute_result"
    }
   ],
   "source": [
    "prior_month_sales_volume"
   ]
  },
  {
   "cell_type": "code",
   "execution_count": 97,
   "id": "984264b3",
   "metadata": {},
   "outputs": [
    {
     "data": {
      "text/plain": [
       "810"
      ]
     },
     "execution_count": 97,
     "metadata": {},
     "output_type": "execute_result"
    }
   ],
   "source": [
    "prior_month_closings"
   ]
  },
  {
   "cell_type": "code",
   "execution_count": 116,
   "id": "246d9fac",
   "metadata": {},
   "outputs": [],
   "source": [
    "story_string = f'''\n",
    "\\033[1mHED:\\033[0m Miami-Dade County condo sales dollar volume {hed_rf} in {previous_month_name} to ${round(df_filtered[\"PRICE\"].sum()/1_000_000)}M \n",
    "\\033[1mDEK:\\033[0m Number of closings {dek_rf} to {len(df_filtered)} from {total_condos_sold_2nd_month} in {month_before_last_name}\n",
    "\\033[1mFEATURED HED:\\033[0m\n",
    "\\033[1mSEO HED:\\033[0m Miami-Dade County {previous_month_name} Condo Sales Report \n",
    "\\033[1mSEO DESCRIPTION:\\033[0m Miami-Dade County’s condo sales volume {hed_rf} to ${round(df_filtered[\"PRICE\"].sum()/1_000_000)} million in {previous_month_name}.\n",
    "\\033[1mAUTHOR:\\033[0m Adam Farence\n",
    "\\033[1mRESEARCH:\\033[0m \n",
    "\\033[1mSocial:\\033[0m Miami-Dade County had ${round(df_filtered[\"PRICE\"].sum()/1_000_000):,.0f} million in condo sales in {previous_month_name}, {social} than ${round(int(sales_volume_2nd_month)/1_000_000)} million from {month_before_last_name}, @afarence reports \n",
    "\\033[1mART:\\033[0m \n",
    "\n",
    "CHANGE ME\n",
    "\n",
    "*Please provide credits for any images that you share\n",
    "\\033[1mSTORY TYPE:\\033[0m Report\n",
    "\\033[1mSECTOR\\033[0m (formerly CATEGORY): Residential Real Estate\n",
    "\\033[1mTAGS:\\033[0m condo sales, Miami-Dade County, monthly condo sales, condos, condo market, {most_expensive_muni_condo_name.title()}, {most_expensive_muni_location}\n",
    "\n",
    "\\033[1mNeighborhood:\\033[0m \n",
    "\\033[1mProperty:\\033[0m\n",
    "\\033[1mProperty Type:\\033[0m\n",
    "\\033[1mCompanies:\\033[0m \n",
    "\\033[1mPeople:\\033[0m\n",
    "\\033[1mIssues:\\033[0m\n",
    "\\033[1mRegion:\\033[0m\n",
    "\n",
    "\n",
    "Miami-Dade County’s NEWS PEG HERE.\n",
    "\n",
    "{previous_month_name} condo sales totaled ${round(df_filtered[\"PRICE\"].sum()/1_000_000)} million, {nut_graf} from ${int(sales_volume_2nd_month)/1_000_000:.0f} million in {month_before_last_name}. Brokers closed {len(df_filtered)} sales last month, {graf} from {total_condos_sold_2nd_month} sales in {month_before_last_name} and XXX in XXX, Multiple Listing Service data from Redfin show.\n",
    "\n",
    "{previous_month_name} sale prices ranged from ${df_filtered[\"PRICE\"].min():,.0f} to ${df_filtered[\"PRICE\"].max()/1_000_000:,.0f} million, with a median sale price of ${df_filtered[\"PRICE\"].median():,.0f}. The price per square foot ranged from ${df_filtered[\"$/SQUARE FEET\"].min():,.0f} to ${df_filtered[\"$/SQUARE FEET\"].max():,.0f}, with a median of ${df_filtered[\"$/SQUARE FEET\"].median():,.0f} per square foot.\n",
    "\n",
    "In {month_before_last_name}, sales closed with a median price of ${int(median_sales_price_2nd_month):,.0f}, and ${median_psf_2nd_month} per square foot.\n",
    "\n",
    "A ${df_filtered[\"PRICE\"].max()/1_000_000:,.0f} million closing at {most_expensive_muni_condo_name.title()} took the title of priciest sale last month. {df_filtered.loc[df_filtered['PRICE'].idxmax()]['FULL_ADDRESS']} sold for ${df_filtered.loc[df_filtered['PRICE'].idxmax()]['$/SQUARE FEET']:,.0f} per square foot after XX days on the market. XXX with XXX had the listing, and XXX with XXX represented the buyer.\n",
    "\n",
    "The sale price was \\033[1mmore/less\\033[0m than {month_before_last_name}'s priciest sale. WHEN XXXX \n",
    "\n",
    "In contrast, {previous_month_name}'s cheapest sale was an {least_expensive_muni_condo_name} in {least_expensive_muni_location}, at {df_filtered.loc[df_filtered['PRICE'].idxmin()]['FULL_ADDRESS']}. Unit XXX traded for ${df_filtered['PRICE'].min():,.0f} — or ${df_filtered.loc[df_filtered['$/SQUARE FEET'].idxmin()]['$/SQUARE FEET']:,.0f} per square foot — after XXX days on the market. XXX with XXX handled both sides of the deal.\n",
    "\n",
    "<figure>\n",
    " <div class=\"container\">\n",
    "   <div class=\"iframe-wrap\">\n",
    "   <iframe src=\"{final_name}\" width=\"100%\" height=\"800\" frameBorder=\"0\" scrolling=\"no\"></iframe>\n",
    "  </div>\n",
    "</div>\n",
    "  <figcaption align=\"right\"><a href=\"https://leafletjs.com/\">Leaflet</a> map created by Adam Farence | Data by © <a href=\"https://www.openstreetmap.org/#map=4/38.01/-95.84\"> OpenStreetMap</a>, under <a href=\"https://www.openstreetmap.org/copyright\">ODbl.</a></figcaption>\n",
    "</figure>\n",
    "\n",
    "Here’s a breakdown of {previous_month_name}’s notable condo sales:\n",
    "'''"
   ]
  },
  {
   "cell_type": "code",
   "execution_count": 44,
   "id": "533d7654",
   "metadata": {},
   "outputs": [],
   "source": [
    "# print(df_filtered['URL'].iloc[0])"
   ]
  },
  {
   "cell_type": "code",
   "execution_count": 125,
   "id": "f51fcff5",
   "metadata": {},
   "outputs": [
    {
     "name": "stdout",
     "output_type": "stream",
     "text": [
      "\n",
      "\u001b[1mHED:\u001b[0m Miami-Dade County condo sales dollar volume drops in August to $470M \n",
      "\u001b[1mDEK:\u001b[0m Number of closings fell to 712 from 810 in July\n",
      "\u001b[1mFEATURED HED:\u001b[0m\n",
      "\u001b[1mSEO HED:\u001b[0m Miami-Dade County August Condo Sales Report \n",
      "\u001b[1mSEO DESCRIPTION:\u001b[0m Miami-Dade County’s condo sales volume drops to $470 million in August.\n",
      "\u001b[1mAUTHOR:\u001b[0m Adam Farence\n",
      "\u001b[1mRESEARCH:\u001b[0m \n",
      "\u001b[1mSocial:\u001b[0m Miami-Dade County had $470 million in condo sales in August, lower than $624 million from July, @afarence reports \n",
      "\u001b[1mART:\u001b[0m \n",
      "\n",
      "CHANGE ME\n",
      "\n",
      "*Please provide credits for any images that you share\n",
      "\u001b[1mSTORY TYPE:\u001b[0m Report\n",
      "\u001b[1mSECTOR\u001b[0m (formerly CATEGORY): Residential Real Estate\n",
      "\u001b[1mTAGS:\u001b[0m condo sales, Miami-Dade County, monthly condo sales, condos, condo market, Dinner Key, Miami\n",
      "\n",
      "\u001b[1mNeighborhood:\u001b[0m \n",
      "\u001b[1mProperty:\u001b[0m\n",
      "\u001b[1mProperty Type:\u001b[0m\n",
      "\u001b[1mCompanies:\u001b[0m \n",
      "\u001b[1mPeople:\u001b[0m\n",
      "\u001b[1mIssues:\u001b[0m\n",
      "\u001b[1mRegion:\u001b[0m\n",
      "\n",
      "\n",
      "Miami-Dade County’s NEWS PEG HERE.\n",
      "\n",
      "August condo sales totaled $470 million, falling from $624 million in July. Brokers closed 712 sales last month, down from 810 sales in July and XXX in XXX, Multiple Listing Service data from Redfin show.\n",
      "\n",
      "August sale prices ranged from $92,500 to $20 million, with a median sale price of $380,000. The price per square foot ranged from $95 to $3,021, with a median of $388 per square foot.\n",
      "\n",
      "In July, sales closed with a median price of $407,500, and $416 per square foot.\n",
      "\n",
      "A $20 million closing at Dinner Key took the title of priciest sale last month. 2669 S Bayshore Dr Unit LPH-N Miami sold for $1,937 per square foot after XX days on the market. XXX with XXX had the listing, and XXX with XXX represented the buyer.\n",
      "\n",
      "The sale price was \u001b[1mmore/less\u001b[0m than July's priciest sale. WHEN XXXX \n",
      "\n",
      "In contrast, August's cheapest sale was an STAR LAKES ESTATES NO 10 in Miami, at 18801 NE 2nd Ave #1021 Miami. Unit XXX traded for $92,500 — or $95 per square foot — after XXX days on the market. XXX with XXX handled both sides of the deal.\n",
      "\n",
      "<figure>\n",
      " <div class=\"container\">\n",
      "   <div class=\"iframe-wrap\">\n",
      "   <iframe src=\"https://trd-digital.github.io/trd-news-interactive-maps/MD_condo_sales_month_ending_august_2024\" width=\"100%\" height=\"800\" frameBorder=\"0\" scrolling=\"no\"></iframe>\n",
      "  </div>\n",
      "</div>\n",
      "  <figcaption align=\"right\"><a href=\"https://leafletjs.com/\">Leaflet</a> map created by Adam Farence | Data by © <a href=\"https://www.openstreetmap.org/#map=4/38.01/-95.84\"> OpenStreetMap</a>, under <a href=\"https://www.openstreetmap.org/copyright\">ODbl.</a></figcaption>\n",
      "</figure>\n",
      "\n",
      "Here’s a breakdown of August’s notable condo sales:\n",
      "\n",
      "\u001b[1mMost Expensive\u001b[0m\n",
      "DINNER KEY, 2669 S Bayshore Dr Unit LPH-N Miami | Price $19,500,000 | $1,937 psf | Year built: 2016 | Listing agents: Chad Carroll with Compass Florida, LLC and Lisandra Martinez with Compass Florida, LLC | Buyer's agents: Malgozata Makovska Fuller with One Sotheby's International Re and None with None\n",
      "\u001b[1mLeast Expensive\u001b[0m\n",
      "STAR LAKES ESTATES NO 10, 18801 NE 2nd Ave #1021 Miami | Price $92,500 | $131 psf | Year built: 1969 | Listing agents: Steve Menachem with United Realty Group Inc and None with None | Buyer's agents: Yessica Mejias with The Keyes Company and None with None\n",
      "\u001b[1mHighest Price Per Square Foot\u001b[0m\n",
      "CONTINUUM ON SOUTH BEACH, 100 S Pointe Dr #3205 Miami Beach | Price $5,650,000 | $3,021 psf | Year built: 2003 | Listing agents: Eddy Martinez with One Sotheby's International Re and Roland Ortiz with One Sotheby's International Re | Buyer's agents: Carla Ellek with Westlake Realty Group, LLC. and None with None\n",
      "\u001b[1mLowest Price Per Square Foot\u001b[0m\n",
      "CRICKET CLUB CONDO, 1800 NE 114th St #1811 Miami | Price $185,000 | $95 psf | Year built: 1975 | Listing agents: Maria Benezra with Oceanside Realty & Investments, Inc. and Miriam Mizrahi with EXP Realty LLC | Buyer's agents: Jack Coden with Keller Williams Eagle Realty and None with None\n",
      "\u001b[1mNewest\u001b[0m\n",
      "Pomelo Park C Condo, 2874 SW 33rd Ct Unit . Miami | Price $1,195,000 | $nan psf | Year built: 2024 | Listing agents: Kim Martin with One Sotheby's International Realty and None with None | Buyer's agents: NON-MLS MEMBER with MAR NON MLS MEMBER and None with None\n",
      "\u001b[1mOldest\u001b[0m\n",
      "PENN PLAZA CONDO, 1027 Pennsylvania Ave #201 Miami Beach | Price $290,000 | $312 psf | Year built: 1925 | Listing agents: Mate Granic with Keller Williams Realty International Lifestyles and Linda Erice with Keller Williams Realty Miami Portfolio Collection | Buyer's agents: Renzo Rossato with EXP Realty LLC and None with None\n"
     ]
    }
   ],
   "source": [
    "print(story_string)\n",
    "\n",
    "print(f\"{ME}{BR}{merged_df.loc[merged_df['PRICE'].idxmax()]['LOCATION']}, {merged_df.loc[merged_df['PRICE'].idxmax()]['FULL_ADDRESS']} | Price ${merged_df.loc[merged_df['PRICE'].idxmax()]['PRICE']:,.0f} | ${merged_df.loc[merged_df['PRICE'].idxmax()]['$/SQUARE FEET']:,.0f} psf | Year built: {merged_df.loc[merged_df['PRICE'].idxmax()]['YEAR BUILT']:.0f} | Listing agents: {merged_df.loc[merged_df['PRICE'].idxmax()]['list_agent_name_1']} with {merged_df.loc[merged_df['PRICE'].idxmax()]['list_broker_name_1']} and {merged_df.loc[merged_df['PRICE'].idxmax()]['list_agent_name_2']} with {merged_df.loc[merged_df['PRICE'].idxmax()]['list_broker_name_2']} | Buyer's agents: {merged_df.loc[merged_df['PRICE'].idxmax()]['buy_agent_name_1']} with {merged_df.loc[merged_df['PRICE'].idxmax()]['buy_broker_name_1']} and {merged_df.loc[merged_df['PRICE'].idxmax()]['buy_agent_name_2']} with {merged_df.loc[merged_df['PRICE'].idxmax()]['buy_broker_name_2']}\")\n",
    "print(f\"{LE}{BR}{merged_df.loc[merged_df['PRICE'].idxmin()]['LOCATION']}, {merged_df.loc[merged_df['PRICE'].idxmin()]['FULL_ADDRESS']} | Price ${merged_df.loc[merged_df['PRICE'].idxmin()]['PRICE']:,.0f} | ${merged_df.loc[merged_df['PRICE'].idxmin()]['$/SQUARE FEET']:,.0f} psf | Year built: {merged_df.loc[merged_df['PRICE'].idxmin()]['YEAR BUILT']:.0f} | Listing agents: {merged_df.loc[merged_df['PRICE'].idxmin()]['list_agent_name_1']} with {merged_df.loc[merged_df['PRICE'].idxmin()]['list_broker_name_1']} and {merged_df.loc[merged_df['PRICE'].idxmin()]['list_agent_name_2']} with {merged_df.loc[merged_df['PRICE'].idxmin()]['list_broker_name_2']} | Buyer's agents: {merged_df.loc[merged_df['PRICE'].idxmin()]['buy_agent_name_1']} with {merged_df.loc[merged_df['PRICE'].idxmin()]['buy_broker_name_1']} and {merged_df.loc[merged_df['PRICE'].idxmin()]['buy_agent_name_2']} with {merged_df.loc[merged_df['PRICE'].idxmin()]['buy_broker_name_2']}\")\n",
    "\n",
    "print(f\"{MAX_PSF}{BR}{merged_df.loc[merged_df['$/SQUARE FEET'].idxmax()]['LOCATION']}, {merged_df.loc[merged_df['$/SQUARE FEET'].idxmax()]['FULL_ADDRESS']} | Price ${merged_df.loc[merged_df['$/SQUARE FEET'].idxmax()]['PRICE']:,.0f} | ${merged_df.loc[merged_df['$/SQUARE FEET'].idxmax()]['$/SQUARE FEET']:,.0f} psf | Year built: {merged_df.loc[merged_df['$/SQUARE FEET'].idxmax()]['YEAR BUILT']:.0f} | Listing agents: {merged_df.loc[merged_df['$/SQUARE FEET'].idxmax()]['list_agent_name_1']} with {merged_df.loc[merged_df['$/SQUARE FEET'].idxmax()]['list_broker_name_1']} and {merged_df.loc[merged_df['$/SQUARE FEET'].idxmax()]['list_agent_name_2']} with {merged_df.loc[merged_df['$/SQUARE FEET'].idxmax()]['list_broker_name_2']} | Buyer's agents: {merged_df.loc[merged_df['$/SQUARE FEET'].idxmax()]['buy_agent_name_1']} with {merged_df.loc[merged_df['$/SQUARE FEET'].idxmax()]['buy_broker_name_1']} and {merged_df.loc[merged_df['$/SQUARE FEET'].idxmax()]['buy_agent_name_2']} with {merged_df.loc[merged_df['$/SQUARE FEET'].idxmax()]['buy_broker_name_2']}\")\n",
    "print(f\"{MIN_PSF}{BR}{merged_df.loc[merged_df['$/SQUARE FEET'].idxmin()]['LOCATION']}, {merged_df.loc[merged_df['$/SQUARE FEET'].idxmin()]['FULL_ADDRESS']} | Price ${merged_df.loc[merged_df['$/SQUARE FEET'].idxmin()]['PRICE']:,.0f} | ${merged_df.loc[merged_df['$/SQUARE FEET'].idxmin()]['$/SQUARE FEET']:,.0f} psf | Year built: {merged_df.loc[merged_df['$/SQUARE FEET'].idxmin()]['YEAR BUILT']:.0f} | Listing agents: {merged_df.loc[merged_df['$/SQUARE FEET'].idxmin()]['list_agent_name_1']} with {merged_df.loc[merged_df['$/SQUARE FEET'].idxmin()]['list_broker_name_1']} and {merged_df.loc[merged_df['$/SQUARE FEET'].idxmin()]['list_agent_name_2']} with {merged_df.loc[merged_df['$/SQUARE FEET'].idxmin()]['list_broker_name_2']} | Buyer's agents: {merged_df.loc[merged_df['$/SQUARE FEET'].idxmin()]['buy_agent_name_1']} with {merged_df.loc[merged_df['$/SQUARE FEET'].idxmin()]['buy_broker_name_1']} and {merged_df.loc[merged_df['$/SQUARE FEET'].idxmin()]['buy_agent_name_2']} with {merged_df.loc[merged_df['$/SQUARE FEET'].idxmin()]['buy_broker_name_2']}\")\n",
    "\n",
    "print(f\"{Newest}{BR}{merged_df.loc[merged_df['YEAR BUILT'].idxmax()]['LOCATION']}, {merged_df.loc[merged_df['YEAR BUILT'].idxmax()]['FULL_ADDRESS']} | Price ${merged_df.loc[merged_df['YEAR BUILT'].idxmax()]['PRICE']:,.0f} | ${merged_df.loc[merged_df['YEAR BUILT'].idxmax()]['$/SQUARE FEET']:,.0f} psf | Year built: {merged_df.loc[merged_df['YEAR BUILT'].idxmax()]['YEAR BUILT']:.0f} | Listing agents: {merged_df.loc[merged_df['YEAR BUILT'].idxmax()]['list_agent_name_1']} with {merged_df.loc[merged_df['YEAR BUILT'].idxmax()]['list_broker_name_1']} and {merged_df.loc[merged_df['YEAR BUILT'].idxmax()]['list_agent_name_2']} with {merged_df.loc[merged_df['YEAR BUILT'].idxmax()]['list_broker_name_2']} | Buyer's agents: {merged_df.loc[merged_df['YEAR BUILT'].idxmax()]['buy_agent_name_1']} with {merged_df.loc[merged_df['YEAR BUILT'].idxmax()]['buy_broker_name_1']} and {merged_df.loc[merged_df['YEAR BUILT'].idxmax()]['buy_agent_name_2']} with {merged_df.loc[merged_df['YEAR BUILT'].idxmax()]['buy_broker_name_2']}\")\n",
    "print(f\"{Oldest}{BR}{merged_df.loc[merged_df['YEAR BUILT'].idxmin()]['LOCATION']}, {merged_df.loc[merged_df['YEAR BUILT'].idxmin()]['FULL_ADDRESS']} | Price ${merged_df.loc[merged_df['YEAR BUILT'].idxmin()]['PRICE']:,.0f} | ${merged_df.loc[merged_df['YEAR BUILT'].idxmin()]['$/SQUARE FEET']:,.0f} psf | Year built: {merged_df.loc[merged_df['YEAR BUILT'].idxmin()]['YEAR BUILT']:.0f} | Listing agents: {merged_df.loc[merged_df['YEAR BUILT'].idxmin()]['list_agent_name_1']} with {merged_df.loc[merged_df['YEAR BUILT'].idxmin()]['list_broker_name_1']} and {merged_df.loc[merged_df['YEAR BUILT'].idxmin()]['list_agent_name_2']} with {merged_df.loc[merged_df['YEAR BUILT'].idxmin()]['list_broker_name_2']} | Buyer's agents: {merged_df.loc[merged_df['YEAR BUILT'].idxmin()]['buy_agent_name_1']} with {merged_df.loc[merged_df['YEAR BUILT'].idxmin()]['buy_broker_name_1']} and {merged_df.loc[merged_df['YEAR BUILT'].idxmin()]['buy_agent_name_2']} with {merged_df.loc[merged_df['YEAR BUILT'].idxmin()]['buy_broker_name_2']}\")"
   ]
  },
  {
   "cell_type": "markdown",
   "id": "1237f8b2",
   "metadata": {},
   "source": [
    "# Print links for notable sales\n",
    "\n",
    "## Top sale"
   ]
  },
  {
   "cell_type": "code",
   "execution_count": 107,
   "id": "4c776293",
   "metadata": {},
   "outputs": [
    {
     "name": "stdout",
     "output_type": "stream",
     "text": [
      "https://www.redfin.com/FL/Miami/2669-S-Bayshore-Dr-33133/unit-LPH-N/home/190088363\n"
     ]
    }
   ],
   "source": [
    "print(df_filtered.loc[df_filtered['PRICE'].idxmax()]['URL'])"
   ]
  },
  {
   "cell_type": "markdown",
   "id": "b1f63a6a",
   "metadata": {},
   "source": [
    "## Cheapest sale"
   ]
  },
  {
   "cell_type": "code",
   "execution_count": 108,
   "id": "967008ef",
   "metadata": {},
   "outputs": [
    {
     "name": "stdout",
     "output_type": "stream",
     "text": [
      "https://www.redfin.com/FL/Miami/18801-NE-2nd-Ave-33179/unit-1021/home/43012166\n"
     ]
    }
   ],
   "source": [
    "print(df_filtered.loc[df_filtered['PRICE'].idxmin()]['URL'])"
   ]
  },
  {
   "cell_type": "markdown",
   "id": "0f56cc2b",
   "metadata": {},
   "source": [
    "## Highest PSF"
   ]
  },
  {
   "cell_type": "code",
   "execution_count": 109,
   "id": "001083a2",
   "metadata": {},
   "outputs": [
    {
     "name": "stdout",
     "output_type": "stream",
     "text": [
      "https://www.redfin.com/FL/Miami-Beach/100-S-Pointe-Dr-33139/unit-3205/home/43372179\n"
     ]
    }
   ],
   "source": [
    "print(df_filtered.loc[df_filtered['$/SQUARE FEET'].idxmax()]['URL'])"
   ]
  },
  {
   "cell_type": "markdown",
   "id": "e606b84a",
   "metadata": {},
   "source": [
    "## Lowest PSF"
   ]
  },
  {
   "cell_type": "code",
   "execution_count": 110,
   "id": "91b9b079",
   "metadata": {},
   "outputs": [
    {
     "name": "stdout",
     "output_type": "stream",
     "text": [
      "https://www.redfin.com/FL/Miami/1800-NE-114th-St-33181/unit-1811/home/43012474\n"
     ]
    }
   ],
   "source": [
    "print(df_filtered.loc[df_filtered['$/SQUARE FEET'].idxmin()]['URL'])"
   ]
  },
  {
   "cell_type": "markdown",
   "id": "d6e5493b",
   "metadata": {},
   "source": [
    "## Newest"
   ]
  },
  {
   "cell_type": "code",
   "execution_count": 111,
   "id": "c2cc4988",
   "metadata": {},
   "outputs": [
    {
     "name": "stdout",
     "output_type": "stream",
     "text": [
      "https://www.redfin.com/FL/Miami/2874-SW-33rd-Ct-33133/Unit/home/188465814\n"
     ]
    }
   ],
   "source": [
    "print(df_filtered.loc[df_filtered['YEAR BUILT'].idxmax()]['URL'])\n",
    "\n",
    "\n"
   ]
  },
  {
   "cell_type": "markdown",
   "id": "1d1ba957",
   "metadata": {},
   "source": [
    "## Oldest"
   ]
  },
  {
   "cell_type": "code",
   "execution_count": 112,
   "id": "51fa78ff",
   "metadata": {},
   "outputs": [
    {
     "name": "stdout",
     "output_type": "stream",
     "text": [
      "https://www.redfin.com/FL/Miami-Beach/1027-Pennsylvania-Ave-33139/unit-201/home/43271790\n"
     ]
    }
   ],
   "source": [
    "print(df_filtered.loc[df_filtered['YEAR BUILT'].idxmin()]['URL'])"
   ]
  },
  {
   "cell_type": "markdown",
   "id": "6b274da8",
   "metadata": {},
   "source": [
    "## Time on Market Calculator"
   ]
  },
  {
   "cell_type": "code",
   "execution_count": 120,
   "id": "0d14e001",
   "metadata": {},
   "outputs": [
    {
     "name": "stdout",
     "output_type": "stream",
     "text": [
      "199\n"
     ]
    }
   ],
   "source": [
    "from datetime import datetime, timedelta\n",
    "\n",
    "################ YEAR, MONTH, DAY #######################\n",
    "\n",
    "date1 = datetime(2024, 1, 15) ## List (Earlier) date\n",
    "date2 = datetime(2024, 8, 1) ## Close (Later) date\n",
    "\n",
    "delta = date2 - date1\n",
    "num_days = delta.days\n",
    "\n",
    "print(num_days)"
   ]
  }
 ],
 "metadata": {
  "kernelspec": {
   "display_name": "Python 3 (ipykernel)",
   "language": "python",
   "name": "python3"
  },
  "language_info": {
   "codemirror_mode": {
    "name": "ipython",
    "version": 3
   },
   "file_extension": ".py",
   "mimetype": "text/x-python",
   "name": "python",
   "nbconvert_exporter": "python",
   "pygments_lexer": "ipython3",
   "version": "3.9.12"
  }
 },
 "nbformat": 4,
 "nbformat_minor": 5
}
