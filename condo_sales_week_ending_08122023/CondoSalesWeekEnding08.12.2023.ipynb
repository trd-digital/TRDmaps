{
 "cells": [
  {
   "cell_type": "markdown",
   "metadata": {},
   "source": [
    "## Imports"
   ]
  },
  {
   "cell_type": "code",
   "execution_count": 24,
   "metadata": {},
   "outputs": [],
   "source": [
    "import googlemaps\n",
    "import pandas as pd\n",
    "import numpy as np\n",
    "import re\n",
    "import os\n",
    "import geopandas as gpd\n",
    "import folium\n",
    "import tabula"
   ]
  },
  {
   "cell_type": "markdown",
   "metadata": {},
   "source": [
    "## Read-in"
   ]
  },
  {
   "cell_type": "code",
   "execution_count": 25,
   "metadata": {},
   "outputs": [],
   "source": [
    "# Gotta figure out how to get rid of the java error.\n",
    "# SO: https://stackoverflow.com/questions/54817211/java-command-is-not-found-from-this-python-process-please-ensure-java-is-inst\n",
    "\n",
    "dsf = tabula.read_pdf('condo.pdf', pages='all')"
   ]
  },
  {
   "cell_type": "markdown",
   "metadata": {},
   "source": [
    "## Clean Data"
   ]
  },
  {
   "cell_type": "code",
   "execution_count": 26,
   "metadata": {},
   "outputs": [],
   "source": [
    "df = dsf[0]\n",
    "df.columns = df.iloc[0]\n",
    "df = df[1:]\n",
    "df = df.drop(columns=df.columns[0])\n",
    "df = df.replace(np.nan, 'Not Available', regex=True)\n",
    "df = df.rename(columns={'Building / Address / City': 'building_address_city','Days on\\rMarket':'days_on_market',\\\n",
    "                        'Price /\\rSq. Ft.':'price_per_sqft'})\n",
    "df['building_address_city'] = df['building_address_city'].str.replace('^0', '', regex=True)\n",
    "df['geo_address'] = df['building_address_city']\n",
    "df['geo_address'] = df['geo_address'].map(lambda x: re.sub(r'\\r', ' ', x))\n",
    "df = df.replace('\\n',' ',regex=True)\n",
    "pattern = r'^(?P<building_name>[\\d\\s]*[A-Za-z\\s]+)\\s(?P<address>.+)\\s(?P<city>[A-Za-z\\s]+)$'\n",
    "df2 = df['geo_address']\n",
    "df2 = df2.to_frame()\n",
    "df2[['building_name', 'address', 'city']] = df2['geo_address'].str.extract(pattern, expand=True)"
   ]
  },
  {
   "cell_type": "markdown",
   "metadata": {},
   "source": [
    "Review this later (it's about how to properly merge DFs): https://pandas.pydata.org/pandas-docs/stable/user_guide/merging.html"
   ]
  },
  {
   "cell_type": "markdown",
   "metadata": {},
   "source": [
    "## Geocode"
   ]
  },
  {
   "cell_type": "code",
   "execution_count": 27,
   "metadata": {},
   "outputs": [],
   "source": [
    "result = pd.merge(df,df2,left_index=True, right_index=True)\n",
    "df = result\n",
    "df = df.drop(columns='city')"
   ]
  },
  {
   "cell_type": "code",
   "execution_count": 28,
   "metadata": {},
   "outputs": [],
   "source": [
    "%store -r google_maps_API_Key\n",
    "gmaps_key = googlemaps.Client(key=google_maps_API_Key)"
   ]
  },
  {
   "cell_type": "code",
   "execution_count": 29,
   "metadata": {},
   "outputs": [],
   "source": [
    "def geocode(add):\n",
    "    g = gmaps_key.geocode(add)\n",
    "    lat = g[0][\"geometry\"][\"location\"][\"lat\"]\n",
    "    lng = g[0][\"geometry\"][\"location\"][\"lng\"]\n",
    "    return (lat, lng)\n",
    "\n",
    "df['geocoded'] = df['geo_address_x'].apply(geocode)"
   ]
  },
  {
   "cell_type": "code",
   "execution_count": 30,
   "metadata": {},
   "outputs": [],
   "source": [
    "df['geocoded'] = df['geocoded'].astype(str)\n",
    "df[['lat', 'lon']] = df['geocoded'].str.strip('()').str.split(', ', expand=True)\n",
    "df['lat'] = df['lat'].astype(float)\n",
    "df['lon'] = df['lon'].astype(float)"
   ]
  },
  {
   "cell_type": "markdown",
   "metadata": {},
   "source": [
    "Folium documentation link: https://python-visualization.github.io/folium/index.html\n",
    "\n",
    "Folium is the library that lets us use leaflet with Python, since it's meant to be used with JavaScript.\n",
    "\n",
    "For adding titles: https://stackoverflow.com/questions/61928013/adding-a-title-or-text-to-a-folium-map"
   ]
  },
  {
   "cell_type": "markdown",
   "metadata": {},
   "source": [
    "## Correction section"
   ]
  },
  {
   "cell_type": "code",
   "execution_count": 31,
   "metadata": {},
   "outputs": [],
   "source": [
    "# df.at[index#,'col_name']"
   ]
  },
  {
   "cell_type": "markdown",
   "metadata": {},
   "source": [
    "## Format Data"
   ]
  },
  {
   "cell_type": "code",
   "execution_count": 32,
   "metadata": {},
   "outputs": [],
   "source": [
    "### Insert NaNs if needed ###\n",
    "df = df.replace('N/A', np.nan)"
   ]
  },
  {
   "cell_type": "code",
   "execution_count": 33,
   "metadata": {},
   "outputs": [],
   "source": [
    "df['int_Sale_Price'] = df['Sale Price'].str.replace('$','',regex=False)"
   ]
  },
  {
   "cell_type": "code",
   "execution_count": 34,
   "metadata": {},
   "outputs": [],
   "source": [
    "df['int_Sale_Price'] = df['int_Sale_Price'].str.replace(',','',regex=False)"
   ]
  },
  {
   "cell_type": "code",
   "execution_count": 35,
   "metadata": {},
   "outputs": [],
   "source": [
    "df['int_Sale_Price'] = pd.to_numeric(df['int_Sale_Price'])"
   ]
  },
  {
   "cell_type": "code",
   "execution_count": 36,
   "metadata": {},
   "outputs": [],
   "source": [
    "df['price_per_sqft'] = df['price_per_sqft'].str.replace('$','',regex=False)\n",
    "df['price_per_sqft'] = df['price_per_sqft'].str.replace(',','',regex=False)\n",
    "df['price_per_sqft'] = pd.to_numeric(df['price_per_sqft'])\n",
    "\n",
    "df['days_on_market'] = pd.to_numeric(df['days_on_market'])"
   ]
  },
  {
   "cell_type": "markdown",
   "metadata": {},
   "source": [
    "## Color-code top sale"
   ]
  },
  {
   "cell_type": "code",
   "execution_count": 37,
   "metadata": {},
   "outputs": [],
   "source": [
    "### Insert RANK values ###\n",
    "df['RANK'] = range(1, len(df) + 1)\n",
    "# use numpy to assign values to the 'COLOR' column\n",
    "df['COLOR'] = np.where(df['RANK'] <= 1, 'orange', 'blue')"
   ]
  },
  {
   "cell_type": "markdown",
   "metadata": {},
   "source": [
    "## HTML Popup Formatter"
   ]
  },
  {
   "cell_type": "code",
   "execution_count": 38,
   "metadata": {},
   "outputs": [
    {
     "data": {
      "text/plain": [
       "Index(['building_address_city', 'Close Date', 'days_on_market', 'Sale Price',\n",
       "       'Sq. Ft.', 'price_per_sqft', 'Agent', 'Listing Broker', 'Buyer Agent',\n",
       "       'Buyer Broker', 'geo_address_x', 'geo_address_y', 'building_name',\n",
       "       'address', 'geocoded', 'lat', 'lon', 'int_Sale_Price', 'RANK', 'COLOR'],\n",
       "      dtype='object')"
      ]
     },
     "execution_count": 38,
     "metadata": {},
     "output_type": "execute_result"
    }
   ],
   "source": [
    "df.columns"
   ]
  },
  {
   "cell_type": "code",
   "execution_count": 39,
   "metadata": {},
   "outputs": [],
   "source": [
    "def popup_html(row):\n",
    "    building_name = row['building_name']\n",
    "    price = row['Sale Price']\n",
    "    days_on_market = row['days_on_market']\n",
    "    listing_agent = row['Agent']\n",
    "    buyers_agent = row['Buyer Agent']\n",
    "    psf = row['price_per_sqft']\n",
    "    address = row['address']\n",
    "    \n",
    "    html = '''<!DOCTYPE html>\n",
    "    <html>\n",
    "    <strong>Building Name: </strong>{}'''.format(building_name) + '''<br>\n",
    "    <strong>Sale Price: </strong>{}'''.format(price) + '''<br>\n",
    "    <strong>Days on Market: </strong>{}'''.format(days_on_market) + '''<br>\n",
    "    <strong>Listing Agent: </strong>{}'''.format(listing_agent) + '''<br>\n",
    "    <strong>Buyer's Agent: </strong>{}'''.format(buyers_agent) + '''<br>\n",
    "    <strong>Price sq ft: </strong>${}'''.format(psf) + '''<br>\n",
    "    <strong>Address: </strong>{}'''.format(address) + '''<br>\n",
    "    </html>\n",
    "    '''\n",
    "    return html"
   ]
  },
  {
   "cell_type": "code",
   "execution_count": 40,
   "metadata": {},
   "outputs": [
    {
     "data": {
      "text/html": [
       "<div style=\"width:100%;\"><div style=\"position:relative;width:100%;height:0;padding-bottom:60%;\"><span style=\"color:#565656\">Make this Notebook Trusted to load map: File -> Trust Notebook</span><iframe srcdoc=\"&lt;!DOCTYPE html&gt;\n",
       "&lt;head&gt;    \n",
       "    &lt;meta http-equiv=&quot;content-type&quot; content=&quot;text/html; charset=UTF-8&quot; /&gt;\n",
       "    \n",
       "        &lt;script&gt;\n",
       "            L_NO_TOUCH = false;\n",
       "            L_DISABLE_3D = false;\n",
       "        &lt;/script&gt;\n",
       "    \n",
       "    &lt;style&gt;html, body {width: 100%;height: 100%;margin: 0;padding: 0;}&lt;/style&gt;\n",
       "    &lt;style&gt;#map {position:absolute;top:0;bottom:0;right:0;left:0;}&lt;/style&gt;\n",
       "    &lt;script src=&quot;https://cdn.jsdelivr.net/npm/leaflet@1.6.0/dist/leaflet.js&quot;&gt;&lt;/script&gt;\n",
       "    &lt;script src=&quot;https://code.jquery.com/jquery-1.12.4.min.js&quot;&gt;&lt;/script&gt;\n",
       "    &lt;script src=&quot;https://maxcdn.bootstrapcdn.com/bootstrap/3.2.0/js/bootstrap.min.js&quot;&gt;&lt;/script&gt;\n",
       "    &lt;script src=&quot;https://cdnjs.cloudflare.com/ajax/libs/Leaflet.awesome-markers/2.0.2/leaflet.awesome-markers.js&quot;&gt;&lt;/script&gt;\n",
       "    &lt;link rel=&quot;stylesheet&quot; href=&quot;https://cdn.jsdelivr.net/npm/leaflet@1.6.0/dist/leaflet.css&quot;/&gt;\n",
       "    &lt;link rel=&quot;stylesheet&quot; href=&quot;https://maxcdn.bootstrapcdn.com/bootstrap/3.2.0/css/bootstrap.min.css&quot;/&gt;\n",
       "    &lt;link rel=&quot;stylesheet&quot; href=&quot;https://maxcdn.bootstrapcdn.com/bootstrap/3.2.0/css/bootstrap-theme.min.css&quot;/&gt;\n",
       "    &lt;link rel=&quot;stylesheet&quot; href=&quot;https://maxcdn.bootstrapcdn.com/font-awesome/4.6.3/css/font-awesome.min.css&quot;/&gt;\n",
       "    &lt;link rel=&quot;stylesheet&quot; href=&quot;https://cdnjs.cloudflare.com/ajax/libs/Leaflet.awesome-markers/2.0.2/leaflet.awesome-markers.css&quot;/&gt;\n",
       "    &lt;link rel=&quot;stylesheet&quot; href=&quot;https://cdn.jsdelivr.net/gh/python-visualization/folium/folium/templates/leaflet.awesome.rotate.min.css&quot;/&gt;\n",
       "    \n",
       "            &lt;meta name=&quot;viewport&quot; content=&quot;width=device-width,\n",
       "                initial-scale=1.0, maximum-scale=1.0, user-scalable=no&quot; /&gt;\n",
       "            &lt;style&gt;\n",
       "                #map_2324aab15f50201c34b563f36742f239 {\n",
       "                    position: relative;\n",
       "                    width: 100.0%;\n",
       "                    height: 100.0%;\n",
       "                    left: 0.0%;\n",
       "                    top: 0.0%;\n",
       "                }\n",
       "            &lt;/style&gt;\n",
       "        \n",
       "&lt;/head&gt;\n",
       "&lt;body&gt;    \n",
       "    \n",
       "              &lt;h3 align=&quot;center&quot; style=&quot;font-size:16px&quot;&gt;&lt;b&gt;Recent Miami-Dade Condo Sales &lt;/b&gt;&lt;/h3&gt;\n",
       "             \n",
       "    \n",
       "                &lt;p align=&quot;center&quot; style=&quot;vertical-align: bottom; font-size:13px&quot;&gt;&lt;i&gt;August 6th - August 12th&lt;/i&gt;&lt;/p&gt;\n",
       "                \n",
       "    \n",
       "            &lt;div class=&quot;folium-map&quot; id=&quot;map_2324aab15f50201c34b563f36742f239&quot; &gt;&lt;/div&gt;\n",
       "        \n",
       "&lt;/body&gt;\n",
       "&lt;script&gt;    \n",
       "    \n",
       "            var map_2324aab15f50201c34b563f36742f239 = L.map(\n",
       "                &quot;map_2324aab15f50201c34b563f36742f239&quot;,\n",
       "                {\n",
       "                    center: [25.814462709999997, -80.15600535],\n",
       "                    crs: L.CRS.EPSG3857,\n",
       "                    zoom: 9.5,\n",
       "                    zoomControl: true,\n",
       "                    preferCanvas: false,\n",
       "                }\n",
       "            );\n",
       "\n",
       "            \n",
       "\n",
       "        \n",
       "    \n",
       "            var feature_group_c7507cc64153514afa093dfdafd2f36c = L.featureGroup(\n",
       "                {}\n",
       "            ).addTo(map_2324aab15f50201c34b563f36742f239);\n",
       "        \n",
       "    \n",
       "            var marker_f6164e51268f8125dcd80bacd9d72e64 = L.marker(\n",
       "                [25.8233175, -80.1215857],\n",
       "                {&quot;fill&quot;: true, &quot;radius&quot;: 5}\n",
       "            ).addTo(feature_group_c7507cc64153514afa093dfdafd2f36c);\n",
       "        \n",
       "    \n",
       "            var icon_5b2d4eae3fc0de74c2fa1d87f5d4034c = L.AwesomeMarkers.icon(\n",
       "                {&quot;extraClasses&quot;: &quot;fa-rotate-0&quot;, &quot;icon&quot;: &quot;info-sign&quot;, &quot;iconColor&quot;: &quot;white&quot;, &quot;markerColor&quot;: &quot;orange&quot;, &quot;prefix&quot;: &quot;glyphicon&quot;}\n",
       "            );\n",
       "            marker_f6164e51268f8125dcd80bacd9d72e64.setIcon(icon_5b2d4eae3fc0de74c2fa1d87f5d4034c);\n",
       "        \n",
       "    \n",
       "        var popup_4b3ddf22db2f8ebabdef3feb9b748ec4 = L.popup({&quot;maxWidth&quot;: 400});\n",
       "\n",
       "        \n",
       "            \n",
       "                var html_1ae404569dbb101792449b611dc29fd2 = $(`&lt;div id=&quot;html_1ae404569dbb101792449b611dc29fd2&quot; style=&quot;width: 100.0%; height: 100.0%;&quot;&gt;&lt;!DOCTYPE html&gt;     &lt;html&gt;     &lt;strong&gt;Building Name: &lt;/strong&gt;Blue Diamond&lt;br&gt;     &lt;strong&gt;Sale Price: &lt;/strong&gt;$3,250,000.00&lt;br&gt;     &lt;strong&gt;Days on Market: &lt;/strong&gt;77&lt;br&gt;     &lt;strong&gt;Listing Agent: &lt;/strong&gt;Claudio Bagliani&lt;br&gt;     &lt;strong&gt;Buyer&#x27;s Agent: &lt;/strong&gt;Michele Redlich&lt;br&gt;     &lt;strong&gt;Price sq ft: &lt;/strong&gt;$1675.26&lt;br&gt;     &lt;strong&gt;Address: &lt;/strong&gt;4779 Collins Ave PH4201 Miami&lt;br&gt;     &lt;/html&gt;     &lt;/div&gt;`)[0];\n",
       "                popup_4b3ddf22db2f8ebabdef3feb9b748ec4.setContent(html_1ae404569dbb101792449b611dc29fd2);\n",
       "            \n",
       "        \n",
       "\n",
       "        marker_f6164e51268f8125dcd80bacd9d72e64.bindPopup(popup_4b3ddf22db2f8ebabdef3feb9b748ec4)\n",
       "        ;\n",
       "\n",
       "        \n",
       "    \n",
       "    \n",
       "            var feature_group_5c6cda02b91cd650d9d38dae08e56e7c = L.featureGroup(\n",
       "                {}\n",
       "            ).addTo(map_2324aab15f50201c34b563f36742f239);\n",
       "        \n",
       "    \n",
       "            var marker_a89788d0ac5b7997f859bc49e19c0b1c = L.marker(\n",
       "                [25.9349574, -80.1503654],\n",
       "                {&quot;fill&quot;: true, &quot;radius&quot;: 5}\n",
       "            ).addTo(feature_group_5c6cda02b91cd650d9d38dae08e56e7c);\n",
       "        \n",
       "    \n",
       "            var icon_a5e0f05ee0d010022c566ee34efc36de = L.AwesomeMarkers.icon(\n",
       "                {&quot;extraClasses&quot;: &quot;fa-rotate-0&quot;, &quot;icon&quot;: &quot;info-sign&quot;, &quot;iconColor&quot;: &quot;white&quot;, &quot;markerColor&quot;: &quot;blue&quot;, &quot;prefix&quot;: &quot;glyphicon&quot;}\n",
       "            );\n",
       "            marker_a89788d0ac5b7997f859bc49e19c0b1c.setIcon(icon_a5e0f05ee0d010022c566ee34efc36de);\n",
       "        \n",
       "    \n",
       "        var popup_2a24247b17f57c7d26bcfac2e360e9eb = L.popup({&quot;maxWidth&quot;: 400});\n",
       "\n",
       "        \n",
       "            \n",
       "                var html_f867ee92e8e591e192212d0e8a63ca33 = $(`&lt;div id=&quot;html_f867ee92e8e591e192212d0e8a63ca33&quot; style=&quot;width: 100.0%; height: 100.0%;&quot;&gt;&lt;!DOCTYPE html&gt;     &lt;html&gt;     &lt;strong&gt;Building Name: &lt;/strong&gt;Marina Palms Residences&lt;br&gt;     &lt;strong&gt;Sale Price: &lt;/strong&gt;$3,000,000.00&lt;br&gt;     &lt;strong&gt;Days on Market: &lt;/strong&gt;259&lt;br&gt;     &lt;strong&gt;Listing Agent: &lt;/strong&gt;Monica Sarmiento&lt;br&gt;     &lt;strong&gt;Buyer&#x27;s Agent: &lt;/strong&gt;Lydia Eskenazi PA&lt;br&gt;     &lt;strong&gt;Price sq ft: &lt;/strong&gt;$773.2&lt;br&gt;     &lt;strong&gt;Address: &lt;/strong&gt;17111 Biscayne Blvd 905-907 North Miami&lt;br&gt;     &lt;/html&gt;     &lt;/div&gt;`)[0];\n",
       "                popup_2a24247b17f57c7d26bcfac2e360e9eb.setContent(html_f867ee92e8e591e192212d0e8a63ca33);\n",
       "            \n",
       "        \n",
       "\n",
       "        marker_a89788d0ac5b7997f859bc49e19c0b1c.bindPopup(popup_2a24247b17f57c7d26bcfac2e360e9eb)\n",
       "        ;\n",
       "\n",
       "        \n",
       "    \n",
       "    \n",
       "            var marker_e50e385ef7b3541250ba10c63639dacd = L.marker(\n",
       "                [25.6879499, -80.1629675],\n",
       "                {&quot;fill&quot;: true, &quot;radius&quot;: 5}\n",
       "            ).addTo(feature_group_5c6cda02b91cd650d9d38dae08e56e7c);\n",
       "        \n",
       "    \n",
       "            var icon_c63bc8ce14b29084f3f0ad50b8ce2341 = L.AwesomeMarkers.icon(\n",
       "                {&quot;extraClasses&quot;: &quot;fa-rotate-0&quot;, &quot;icon&quot;: &quot;info-sign&quot;, &quot;iconColor&quot;: &quot;white&quot;, &quot;markerColor&quot;: &quot;blue&quot;, &quot;prefix&quot;: &quot;glyphicon&quot;}\n",
       "            );\n",
       "            marker_e50e385ef7b3541250ba10c63639dacd.setIcon(icon_c63bc8ce14b29084f3f0ad50b8ce2341);\n",
       "        \n",
       "    \n",
       "        var popup_179b6702e41e9779003e0c335e8bff0a = L.popup({&quot;maxWidth&quot;: 400});\n",
       "\n",
       "        \n",
       "            \n",
       "                var html_b2fa1c81e5c874222e33c3cd5d2b5b4f = $(`&lt;div id=&quot;html_b2fa1c81e5c874222e33c3cd5d2b5b4f&quot; style=&quot;width: 100.0%; height: 100.0%;&quot;&gt;&lt;!DOCTYPE html&gt;     &lt;html&gt;     &lt;strong&gt;Building Name: &lt;/strong&gt;The Ocean Club&lt;br&gt;     &lt;strong&gt;Sale Price: &lt;/strong&gt;$2,325,000.00&lt;br&gt;     &lt;strong&gt;Days on Market: &lt;/strong&gt;70&lt;br&gt;     &lt;strong&gt;Listing Agent: &lt;/strong&gt;Douglas Kinsley&lt;br&gt;     &lt;strong&gt;Buyer&#x27;s Agent: &lt;/strong&gt;Mary Jo Pinedo&lt;br&gt;     &lt;strong&gt;Price sq ft: &lt;/strong&gt;$931.12&lt;br&gt;     &lt;strong&gt;Address: &lt;/strong&gt;723 Crandon Blvd PH6 Key&lt;br&gt;     &lt;/html&gt;     &lt;/div&gt;`)[0];\n",
       "                popup_179b6702e41e9779003e0c335e8bff0a.setContent(html_b2fa1c81e5c874222e33c3cd5d2b5b4f);\n",
       "            \n",
       "        \n",
       "\n",
       "        marker_e50e385ef7b3541250ba10c63639dacd.bindPopup(popup_179b6702e41e9779003e0c335e8bff0a)\n",
       "        ;\n",
       "\n",
       "        \n",
       "    \n",
       "    \n",
       "            var marker_96fc28c2c33b7be79854394def35268f = L.marker(\n",
       "                [25.8989594, -80.1239408],\n",
       "                {&quot;fill&quot;: true, &quot;radius&quot;: 5}\n",
       "            ).addTo(feature_group_5c6cda02b91cd650d9d38dae08e56e7c);\n",
       "        \n",
       "    \n",
       "            var icon_9feedc939bcc39bd2490be11e241b6ca = L.AwesomeMarkers.icon(\n",
       "                {&quot;extraClasses&quot;: &quot;fa-rotate-0&quot;, &quot;icon&quot;: &quot;info-sign&quot;, &quot;iconColor&quot;: &quot;white&quot;, &quot;markerColor&quot;: &quot;blue&quot;, &quot;prefix&quot;: &quot;glyphicon&quot;}\n",
       "            );\n",
       "            marker_96fc28c2c33b7be79854394def35268f.setIcon(icon_9feedc939bcc39bd2490be11e241b6ca);\n",
       "        \n",
       "    \n",
       "        var popup_5e3be8a6acfdde1566e26f55fe2dff6b = L.popup({&quot;maxWidth&quot;: 400});\n",
       "\n",
       "        \n",
       "            \n",
       "                var html_cd80ba1aef5580b8c500f125253a6cef = $(`&lt;div id=&quot;html_cd80ba1aef5580b8c500f125253a6cef&quot; style=&quot;width: 100.0%; height: 100.0%;&quot;&gt;&lt;!DOCTYPE html&gt;     &lt;html&gt;     &lt;strong&gt;Building Name: &lt;/strong&gt;One Bal Harbor&lt;br&gt;     &lt;strong&gt;Sale Price: &lt;/strong&gt;$2,300,000.00&lt;br&gt;     &lt;strong&gt;Days on Market: &lt;/strong&gt;378&lt;br&gt;     &lt;strong&gt;Listing Agent: &lt;/strong&gt;Fernando Alpern&lt;br&gt;     &lt;strong&gt;Buyer&#x27;s Agent: &lt;/strong&gt;Alexis Mason&lt;br&gt;     &lt;strong&gt;Price sq ft: &lt;/strong&gt;$1144.85&lt;br&gt;     &lt;strong&gt;Address: &lt;/strong&gt;10295 Collins Ave 506 Bal&lt;br&gt;     &lt;/html&gt;     &lt;/div&gt;`)[0];\n",
       "                popup_5e3be8a6acfdde1566e26f55fe2dff6b.setContent(html_cd80ba1aef5580b8c500f125253a6cef);\n",
       "            \n",
       "        \n",
       "\n",
       "        marker_96fc28c2c33b7be79854394def35268f.bindPopup(popup_5e3be8a6acfdde1566e26f55fe2dff6b)\n",
       "        ;\n",
       "\n",
       "        \n",
       "    \n",
       "    \n",
       "            var marker_bc8cdbefbddd73b43dbd4972b708f4a1 = L.marker(\n",
       "                [25.85381, -80.11977000000002],\n",
       "                {&quot;fill&quot;: true, &quot;radius&quot;: 5}\n",
       "            ).addTo(feature_group_5c6cda02b91cd650d9d38dae08e56e7c);\n",
       "        \n",
       "    \n",
       "            var icon_eaf2f8f83a3c9f56a4fad35bdf5fb815 = L.AwesomeMarkers.icon(\n",
       "                {&quot;extraClasses&quot;: &quot;fa-rotate-0&quot;, &quot;icon&quot;: &quot;info-sign&quot;, &quot;iconColor&quot;: &quot;white&quot;, &quot;markerColor&quot;: &quot;blue&quot;, &quot;prefix&quot;: &quot;glyphicon&quot;}\n",
       "            );\n",
       "            marker_bc8cdbefbddd73b43dbd4972b708f4a1.setIcon(icon_eaf2f8f83a3c9f56a4fad35bdf5fb815);\n",
       "        \n",
       "    \n",
       "        var popup_bcb73868992badb96a4620d59f108cd6 = L.popup({&quot;maxWidth&quot;: 400});\n",
       "\n",
       "        \n",
       "            \n",
       "                var html_abe6324ab2c4e8d04dd128c726001107 = $(`&lt;div id=&quot;html_abe6324ab2c4e8d04dd128c726001107&quot; style=&quot;width: 100.0%; height: 100.0%;&quot;&gt;&lt;!DOCTYPE html&gt;     &lt;html&gt;     &lt;strong&gt;Building Name: &lt;/strong&gt;The Carillon Hotel&lt;br&gt;     &lt;strong&gt;Sale Price: &lt;/strong&gt;$2,115,000.00&lt;br&gt;     &lt;strong&gt;Days on Market: &lt;/strong&gt;335&lt;br&gt;     &lt;strong&gt;Listing Agent: &lt;/strong&gt;Charles Andrews&lt;br&gt;     &lt;strong&gt;Buyer&#x27;s Agent: &lt;/strong&gt;Tania De Jesus PA&lt;br&gt;     &lt;strong&gt;Price sq ft: &lt;/strong&gt;$1351.44&lt;br&gt;     &lt;strong&gt;Address: &lt;/strong&gt;&amp; Spa 6899 Collins Ave 1207 Miami&lt;br&gt;     &lt;/html&gt;     &lt;/div&gt;`)[0];\n",
       "                popup_bcb73868992badb96a4620d59f108cd6.setContent(html_abe6324ab2c4e8d04dd128c726001107);\n",
       "            \n",
       "        \n",
       "\n",
       "        marker_bc8cdbefbddd73b43dbd4972b708f4a1.bindPopup(popup_bcb73868992badb96a4620d59f108cd6)\n",
       "        ;\n",
       "\n",
       "        \n",
       "    \n",
       "    \n",
       "            var marker_cb2b9823720ee5ec5385a57a899861df = L.marker(\n",
       "                [25.7935581, -80.1870727],\n",
       "                {&quot;fill&quot;: true, &quot;radius&quot;: 5}\n",
       "            ).addTo(feature_group_5c6cda02b91cd650d9d38dae08e56e7c);\n",
       "        \n",
       "    \n",
       "            var icon_b5431fd9d2f3c4d1b961cbd8f585aa93 = L.AwesomeMarkers.icon(\n",
       "                {&quot;extraClasses&quot;: &quot;fa-rotate-0&quot;, &quot;icon&quot;: &quot;info-sign&quot;, &quot;iconColor&quot;: &quot;white&quot;, &quot;markerColor&quot;: &quot;blue&quot;, &quot;prefix&quot;: &quot;glyphicon&quot;}\n",
       "            );\n",
       "            marker_cb2b9823720ee5ec5385a57a899861df.setIcon(icon_b5431fd9d2f3c4d1b961cbd8f585aa93);\n",
       "        \n",
       "    \n",
       "        var popup_28823f9ab5f4586ad6557579e5412bb5 = L.popup({&quot;maxWidth&quot;: 400});\n",
       "\n",
       "        \n",
       "            \n",
       "                var html_c1f09e204264e40e36fd8f8827c2c5f9 = $(`&lt;div id=&quot;html_c1f09e204264e40e36fd8f8827c2c5f9&quot; style=&quot;width: 100.0%; height: 100.0%;&quot;&gt;&lt;!DOCTYPE html&gt;     &lt;html&gt;     &lt;strong&gt;Building Name: &lt;/strong&gt;Aria on the Bay&lt;br&gt;     &lt;strong&gt;Sale Price: &lt;/strong&gt;$1,995,000.00&lt;br&gt;     &lt;strong&gt;Days on Market: &lt;/strong&gt;167&lt;br&gt;     &lt;strong&gt;Listing Agent: &lt;/strong&gt;John Parsiani&lt;br&gt;     &lt;strong&gt;Buyer&#x27;s Agent: &lt;/strong&gt;Thomas Estavillo&lt;br&gt;     &lt;strong&gt;Price sq ft: &lt;/strong&gt;$988.6&lt;br&gt;     &lt;strong&gt;Address: &lt;/strong&gt;488 NE 18 St 2112&lt;br&gt;     &lt;/html&gt;     &lt;/div&gt;`)[0];\n",
       "                popup_28823f9ab5f4586ad6557579e5412bb5.setContent(html_c1f09e204264e40e36fd8f8827c2c5f9);\n",
       "            \n",
       "        \n",
       "\n",
       "        marker_cb2b9823720ee5ec5385a57a899861df.bindPopup(popup_28823f9ab5f4586ad6557579e5412bb5)\n",
       "        ;\n",
       "\n",
       "        \n",
       "    \n",
       "    \n",
       "            var marker_2571be8135ddd88c0ca27eba34086b37 = L.marker(\n",
       "                [25.7935581, -80.1870727],\n",
       "                {&quot;fill&quot;: true, &quot;radius&quot;: 5}\n",
       "            ).addTo(feature_group_5c6cda02b91cd650d9d38dae08e56e7c);\n",
       "        \n",
       "    \n",
       "            var icon_35cb7621fc0a44823956a05e430c5a27 = L.AwesomeMarkers.icon(\n",
       "                {&quot;extraClasses&quot;: &quot;fa-rotate-0&quot;, &quot;icon&quot;: &quot;info-sign&quot;, &quot;iconColor&quot;: &quot;white&quot;, &quot;markerColor&quot;: &quot;blue&quot;, &quot;prefix&quot;: &quot;glyphicon&quot;}\n",
       "            );\n",
       "            marker_2571be8135ddd88c0ca27eba34086b37.setIcon(icon_35cb7621fc0a44823956a05e430c5a27);\n",
       "        \n",
       "    \n",
       "        var popup_45c87d5d3363cb67048cdaf8df69cd50 = L.popup({&quot;maxWidth&quot;: 400});\n",
       "\n",
       "        \n",
       "            \n",
       "                var html_4933238986ed8aaaa07d3f95d91e31c3 = $(`&lt;div id=&quot;html_4933238986ed8aaaa07d3f95d91e31c3&quot; style=&quot;width: 100.0%; height: 100.0%;&quot;&gt;&lt;!DOCTYPE html&gt;     &lt;html&gt;     &lt;strong&gt;Building Name: &lt;/strong&gt;Aria on the Bay&lt;br&gt;     &lt;strong&gt;Sale Price: &lt;/strong&gt;$1,995,000.00&lt;br&gt;     &lt;strong&gt;Days on Market: &lt;/strong&gt;166&lt;br&gt;     &lt;strong&gt;Listing Agent: &lt;/strong&gt;John Parsiani&lt;br&gt;     &lt;strong&gt;Buyer&#x27;s Agent: &lt;/strong&gt;Thomas Estavillo&lt;br&gt;     &lt;strong&gt;Price sq ft: &lt;/strong&gt;$988.6&lt;br&gt;     &lt;strong&gt;Address: &lt;/strong&gt;488 NE 18 St 2115&lt;br&gt;     &lt;/html&gt;     &lt;/div&gt;`)[0];\n",
       "                popup_45c87d5d3363cb67048cdaf8df69cd50.setContent(html_4933238986ed8aaaa07d3f95d91e31c3);\n",
       "            \n",
       "        \n",
       "\n",
       "        marker_2571be8135ddd88c0ca27eba34086b37.bindPopup(popup_45c87d5d3363cb67048cdaf8df69cd50)\n",
       "        ;\n",
       "\n",
       "        \n",
       "    \n",
       "    \n",
       "            var marker_e26fc2c9f6128fb83f3f9633be41c47c = L.marker(\n",
       "                [25.7873169, -80.1293566],\n",
       "                {&quot;fill&quot;: true, &quot;radius&quot;: 5}\n",
       "            ).addTo(feature_group_5c6cda02b91cd650d9d38dae08e56e7c);\n",
       "        \n",
       "    \n",
       "            var icon_f4411f14594e167732b7baefcc4cefac = L.AwesomeMarkers.icon(\n",
       "                {&quot;extraClasses&quot;: &quot;fa-rotate-0&quot;, &quot;icon&quot;: &quot;info-sign&quot;, &quot;iconColor&quot;: &quot;white&quot;, &quot;markerColor&quot;: &quot;blue&quot;, &quot;prefix&quot;: &quot;glyphicon&quot;}\n",
       "            );\n",
       "            marker_e26fc2c9f6128fb83f3f9633be41c47c.setIcon(icon_f4411f14594e167732b7baefcc4cefac);\n",
       "        \n",
       "    \n",
       "        var popup_8aa02dc241dc1f536c460bfe30942f15 = L.popup({&quot;maxWidth&quot;: 400});\n",
       "\n",
       "        \n",
       "            \n",
       "                var html_1f191f62b63a8adc73e0539855170080 = $(`&lt;div id=&quot;html_1f191f62b63a8adc73e0539855170080&quot; style=&quot;width: 100.0%; height: 100.0%;&quot;&gt;&lt;!DOCTYPE html&gt;     &lt;html&gt;     &lt;strong&gt;Building Name: &lt;/strong&gt;Il Villaggio&lt;br&gt;     &lt;strong&gt;Sale Price: &lt;/strong&gt;$1,850,000.00&lt;br&gt;     &lt;strong&gt;Days on Market: &lt;/strong&gt;160&lt;br&gt;     &lt;strong&gt;Listing Agent: &lt;/strong&gt;Eloy Carmenate&lt;br&gt;     &lt;strong&gt;Buyer&#x27;s Agent: &lt;/strong&gt;Matthew McMillan&lt;br&gt;     &lt;strong&gt;Price sq ft: &lt;/strong&gt;$1456.69&lt;br&gt;     &lt;strong&gt;Address: &lt;/strong&gt;1455 Ocean Dr 706 Miami &lt;br&gt;     &lt;/html&gt;     &lt;/div&gt;`)[0];\n",
       "                popup_8aa02dc241dc1f536c460bfe30942f15.setContent(html_1f191f62b63a8adc73e0539855170080);\n",
       "            \n",
       "        \n",
       "\n",
       "        marker_e26fc2c9f6128fb83f3f9633be41c47c.bindPopup(popup_8aa02dc241dc1f536c460bfe30942f15)\n",
       "        ;\n",
       "\n",
       "        \n",
       "    \n",
       "    \n",
       "            var marker_0ff3129be19f118cd39368fd0bc861de = L.marker(\n",
       "                [25.764055, -80.1923013],\n",
       "                {&quot;fill&quot;: true, &quot;radius&quot;: 5}\n",
       "            ).addTo(feature_group_5c6cda02b91cd650d9d38dae08e56e7c);\n",
       "        \n",
       "    \n",
       "            var icon_38bf364631b320c6373528bc29ff24e5 = L.AwesomeMarkers.icon(\n",
       "                {&quot;extraClasses&quot;: &quot;fa-rotate-0&quot;, &quot;icon&quot;: &quot;info-sign&quot;, &quot;iconColor&quot;: &quot;white&quot;, &quot;markerColor&quot;: &quot;blue&quot;, &quot;prefix&quot;: &quot;glyphicon&quot;}\n",
       "            );\n",
       "            marker_0ff3129be19f118cd39368fd0bc861de.setIcon(icon_38bf364631b320c6373528bc29ff24e5);\n",
       "        \n",
       "    \n",
       "        var popup_fa6fd0fd7c7bd71a904588d7bcd8ddc3 = L.popup({&quot;maxWidth&quot;: 400});\n",
       "\n",
       "        \n",
       "            \n",
       "                var html_6f708365e04b84fe0dd05872118344b0 = $(`&lt;div id=&quot;html_6f708365e04b84fe0dd05872118344b0&quot; style=&quot;width: 100.0%; height: 100.0%;&quot;&gt;&lt;!DOCTYPE html&gt;     &lt;html&gt;     &lt;strong&gt;Building Name: &lt;/strong&gt;1010 Brickell&lt;br&gt;     &lt;strong&gt;Sale Price: &lt;/strong&gt;$1,700,000.00&lt;br&gt;     &lt;strong&gt;Days on Market: &lt;/strong&gt;3&lt;br&gt;     &lt;strong&gt;Listing Agent: &lt;/strong&gt;Juan Carlos  Igartua&lt;br&gt;     &lt;strong&gt;Buyer&#x27;s Agent: &lt;/strong&gt;Mayan Van Der Miller&lt;br&gt;     &lt;strong&gt;Price sq ft: &lt;/strong&gt;$956.13&lt;br&gt;     &lt;strong&gt;Address: &lt;/strong&gt;1010 Brickell Ave 4805&lt;br&gt;     &lt;/html&gt;     &lt;/div&gt;`)[0];\n",
       "                popup_fa6fd0fd7c7bd71a904588d7bcd8ddc3.setContent(html_6f708365e04b84fe0dd05872118344b0);\n",
       "            \n",
       "        \n",
       "\n",
       "        marker_0ff3129be19f118cd39368fd0bc861de.bindPopup(popup_fa6fd0fd7c7bd71a904588d7bcd8ddc3)\n",
       "        ;\n",
       "\n",
       "        \n",
       "    \n",
       "    \n",
       "            var marker_e226764a9e0792bd5cd9bb57477ee34d = L.marker(\n",
       "                [25.8071448, -80.1856208],\n",
       "                {&quot;fill&quot;: true, &quot;radius&quot;: 5}\n",
       "            ).addTo(feature_group_5c6cda02b91cd650d9d38dae08e56e7c);\n",
       "        \n",
       "    \n",
       "            var icon_00e9de1993ba0c6079dd0f39f28fdba5 = L.AwesomeMarkers.icon(\n",
       "                {&quot;extraClasses&quot;: &quot;fa-rotate-0&quot;, &quot;icon&quot;: &quot;info-sign&quot;, &quot;iconColor&quot;: &quot;white&quot;, &quot;markerColor&quot;: &quot;blue&quot;, &quot;prefix&quot;: &quot;glyphicon&quot;}\n",
       "            );\n",
       "            marker_e226764a9e0792bd5cd9bb57477ee34d.setIcon(icon_00e9de1993ba0c6079dd0f39f28fdba5);\n",
       "        \n",
       "    \n",
       "        var popup_7236105f731a8b6bbabb12f2b08f4aec = L.popup({&quot;maxWidth&quot;: 400});\n",
       "\n",
       "        \n",
       "            \n",
       "                var html_01aa5c79a8bf304e93237e3c2b70ce8b = $(`&lt;div id=&quot;html_01aa5c79a8bf304e93237e3c2b70ce8b&quot; style=&quot;width: 100.0%; height: 100.0%;&quot;&gt;&lt;!DOCTYPE html&gt;     &lt;html&gt;     &lt;strong&gt;Building Name: &lt;/strong&gt;One Paraiso&lt;br&gt;     &lt;strong&gt;Sale Price: &lt;/strong&gt;$1,600,000.00&lt;br&gt;     &lt;strong&gt;Days on Market: &lt;/strong&gt;146&lt;br&gt;     &lt;strong&gt;Listing Agent: &lt;/strong&gt;Christian Tupper&lt;br&gt;     &lt;strong&gt;Buyer&#x27;s Agent: &lt;/strong&gt;Todd Nordstrom&lt;br&gt;     &lt;strong&gt;Price sq ft: &lt;/strong&gt;$1048.49&lt;br&gt;     &lt;strong&gt;Address: &lt;/strong&gt;3131 NE 7th Ave 4304&lt;br&gt;     &lt;/html&gt;     &lt;/div&gt;`)[0];\n",
       "                popup_7236105f731a8b6bbabb12f2b08f4aec.setContent(html_01aa5c79a8bf304e93237e3c2b70ce8b);\n",
       "            \n",
       "        \n",
       "\n",
       "        marker_e226764a9e0792bd5cd9bb57477ee34d.bindPopup(popup_7236105f731a8b6bbabb12f2b08f4aec)\n",
       "        ;\n",
       "\n",
       "        \n",
       "    \n",
       "    \n",
       "            var tile_layer_561d87392944ff0edaeef69b3db1ea9c = L.tileLayer(\n",
       "                &quot;https://{s}.tile.openstreetmap.org/{z}/{x}/{y}.png&quot;,\n",
       "                {&quot;attribution&quot;: &quot;Data by \\u0026copy; \\u003ca href=\\&quot;http://openstreetmap.org\\&quot;\\u003eOpenStreetMap\\u003c/a\\u003e, under \\u003ca href=\\&quot;http://www.openstreetmap.org/copyright\\&quot;\\u003eODbL\\u003c/a\\u003e.&quot;, &quot;detectRetina&quot;: false, &quot;maxNativeZoom&quot;: 18, &quot;maxZoom&quot;: 18, &quot;minZoom&quot;: 0, &quot;noWrap&quot;: false, &quot;opacity&quot;: 1, &quot;subdomains&quot;: &quot;abc&quot;, &quot;tms&quot;: false}\n",
       "            ).addTo(map_2324aab15f50201c34b563f36742f239);\n",
       "        \n",
       "    \n",
       "            var layer_control_8b78d69cd3f2a4c64c99f606d101eb6f = {\n",
       "                base_layers : {\n",
       "                },\n",
       "                overlays :  {\n",
       "                    &quot;Top Sale&quot; : feature_group_c7507cc64153514afa093dfdafd2f36c,\n",
       "                    &quot;All other sales&quot; : feature_group_5c6cda02b91cd650d9d38dae08e56e7c,\n",
       "                },\n",
       "            };\n",
       "            L.control.layers(\n",
       "                layer_control_8b78d69cd3f2a4c64c99f606d101eb6f.base_layers,\n",
       "                layer_control_8b78d69cd3f2a4c64c99f606d101eb6f.overlays,\n",
       "                {&quot;autoZIndex&quot;: true, &quot;collapsed&quot;: false, &quot;position&quot;: &quot;topright&quot;}\n",
       "            ).addTo(map_2324aab15f50201c34b563f36742f239);\n",
       "        \n",
       "&lt;/script&gt;\" style=\"position:absolute;width:100%;height:100%;left:0;top:0;border:none !important;\" allowfullscreen webkitallowfullscreen mozallowfullscreen></iframe></div></div>"
      ],
      "text/plain": [
       "<folium.folium.Map at 0x7ff5f0e458e0>"
      ]
     },
     "execution_count": 40,
     "metadata": {},
     "output_type": "execute_result"
    }
   ],
   "source": [
    "import folium\n",
    "from folium.plugins import MarkerCluster\n",
    "\n",
    "m = folium.Map(location=df[[\"lat\", \"lon\"]].mean().to_list(), zoom_start=10)\n",
    "\n",
    "title_html = '''\n",
    "              <h3 align=\"center\" style=\"font-size:16px\"><b>{}</b></h3>\n",
    "             '''.format(f'Recent Miami-Dade Condo Sales ')\n",
    "\n",
    "caption_html = '''\n",
    "                <p align=\"center\" style=\"vertical-align: bottom; font-size:13px\"><i>{}</i></p>\n",
    "                '''.format('August 6th - August 12th')\n",
    "\n",
    "\n",
    "### Create map container ###\n",
    "m = folium.Map(location=df[[\"lat\", \"lon\"]].mean().to_list(),zoom_start=9.5,tiles=None)\n",
    "\n",
    "# Create two FeatureGroups for different color pins\n",
    "fg_blue = folium.FeatureGroup(name='All other sales')\n",
    "fg_orange = folium.FeatureGroup(name='Top Sale')\n",
    "\n",
    "for index, row in df.iterrows():\n",
    "    # Add the markers to the appropriate FeatureGroup based on the color\n",
    "    if row['COLOR'] == 'blue':\n",
    "        marker = folium.Marker(\n",
    "            location=[row['lat'], row['lon']],\n",
    "            radius=5,\n",
    "            fill=True,\n",
    "            icon=folium.Icon(color=row['COLOR']),\n",
    "            popup=folium.Popup(popup_html(row), max_width=400))\n",
    "        marker.add_to(fg_blue)\n",
    "    else:\n",
    "        marker = folium.Marker(\n",
    "            location=[row['lat'], row['lon']],\n",
    "            radius=5,\n",
    "            fill=True,\n",
    "            icon=folium.Icon(color=row['COLOR']),\n",
    "            popup=folium.Popup(popup_html(row), max_width=400))\n",
    "        marker.add_to(fg_orange)\n",
    "\n",
    "# Add the FeatureGroups to the map\n",
    "fg_orange.add_to(m)\n",
    "fg_blue.add_to(m)\n",
    "\n",
    "folium.TileLayer('OpenStreetMap',control=False).add_to(m)\n",
    "\n",
    "# Add LayerControl to the map\n",
    "folium.map.LayerControl(collapsed=False).add_to(m)\n",
    "m.get_root().html.add_child(folium.Element(title_html))\n",
    "m.get_root().html.add_child(folium.Element(caption_html))\n",
    "            \n",
    "# Display map\n",
    "m"
   ]
  },
  {
   "cell_type": "code",
   "execution_count": 41,
   "metadata": {},
   "outputs": [],
   "source": [
    "m.save('index.html')"
   ]
  },
  {
   "cell_type": "markdown",
   "metadata": {},
   "source": [
    "## Data snagger"
   ]
  },
  {
   "cell_type": "code",
   "execution_count": 42,
   "metadata": {},
   "outputs": [],
   "source": [
    "### Set up formatting ###\n",
    "BR = '\\n'\n",
    "\n",
    "ME = '\\033[1m' + 'Most Expensive' + '\\033[0m'\n",
    "LE = '\\033[1m' + 'Least Expensive' + '\\033[0m'\n",
    "\n",
    "MAX_PSF = '\\033[1m' + 'Highest Price Per Square Foot' + '\\033[0m'\n",
    "MIN_PSF = '\\033[1m' + 'Lowest Price Per Square Foot' + '\\033[0m'\n",
    "\n",
    "DAYS_MAX = '\\033[1m' + 'Most Days on Market' + '\\033[0m'\n",
    "DAYS_MIN = '\\033[1m' + 'Fewest Days on Market' + '\\033[0m'"
   ]
  },
  {
   "cell_type": "code",
   "execution_count": 43,
   "metadata": {},
   "outputs": [
    {
     "name": "stdout",
     "output_type": "stream",
     "text": [
      "\u001b[1mMost Expensive\u001b[0m\n",
      "Blue Diamond, 4779 Collins Ave PH4201 Miami | Price $3,250,000 | $1,675 psf | Listing agent: Claudio Bagliani with COSMORE Florida Corp. | Buyer's agent: Michele Redlich with Coldwell Banker Realty | Days on market: 77\n",
      "\u001b[1mLeast Expensive\u001b[0m\n",
      "One Paraiso, 3131 NE 7th Ave 4304 | Price $1,600,000 | $1,048 psf | Listing agent: Christian Tupper with PMG Residential LLC | Buyer's agent: Todd Nordstrom with Compass Florida, LLC. | Days on market: 146\n",
      "\u001b[1mHighest Price Per Square Foot\u001b[0m\n",
      "Blue Diamond, 4779 Collins Ave PH4201 Miami | Price $3,250,000 | $1,675 psf | Listing agent: Claudio Bagliani with COSMORE Florida Corp. | Buyer's agent: Michele Redlich with Coldwell Banker Realty | Days on market: 77\n",
      "\u001b[1mLowest Price Per Square Foot\u001b[0m\n",
      "Marina Palms Residences, 17111 Biscayne Blvd 905-907 North Miami | Price $3,000,000 | $773 psf | Listing agent: Monica Sarmiento with One Sotheby's International Re | Buyer's agent: Lydia Eskenazi PA with One Sotheby's International Re | Days on market: 259\n",
      "\u001b[1mMost Days on Market\u001b[0m\n",
      "One Bal Harbor, 10295 Collins Ave 506 Bal | Price $2,300,000 | $1,145 psf | Listing agent: Fernando Alpern with EXP Realty, LLC | Buyer's agent: Alexis Mason with Klein Morgan Realty LLC | Days on market: 378\n",
      "\u001b[1mFewest Days on Market\u001b[0m\n",
      "1010 Brickell, 1010 Brickell Ave 4805 | Price $1,700,000 | $956 psf | Listing agent: Juan Carlos  Igartua with Avanti Way Realty | Buyer's agent: Mayan Van Der Miller with Compass Florida, LLC. | Days on market: 3\n"
     ]
    }
   ],
   "source": [
    "### Highest and lowest sale price ###\n",
    "print(f\"{ME}{BR}{df.loc[df['int_Sale_Price'].idxmax()]['building_name']}, {df.loc[df['int_Sale_Price'].idxmax()]['address']} | Price ${df.loc[df['int_Sale_Price'].idxmax()]['int_Sale_Price']:,.0f} | ${df.loc[df['int_Sale_Price'].idxmax()]['price_per_sqft']:,.0f} psf | Listing agent: {df.loc[df['int_Sale_Price'].idxmax()]['Agent']} with {df.loc[df['int_Sale_Price'].idxmax()]['Listing Broker']} | Buyer's agent: {df.loc[df['int_Sale_Price'].idxmax()]['Buyer Agent']} with {df.loc[df['int_Sale_Price'].idxmax()]['Buyer Broker']} | Days on market: {df.loc[df['int_Sale_Price'].idxmax()]['days_on_market']}\")\n",
    "print(f\"{LE}{BR}{df.loc[df['int_Sale_Price'].idxmin()]['building_name']}, {df.loc[df['int_Sale_Price'].idxmin()]['address']} | Price ${df.loc[df['int_Sale_Price'].idxmin()]['int_Sale_Price']:,.0f} | ${df.loc[df['int_Sale_Price'].idxmin()]['price_per_sqft']:,.0f} psf | Listing agent: {df.loc[df['int_Sale_Price'].idxmin()]['Agent']} with {df.loc[df['int_Sale_Price'].idxmin()]['Listing Broker']} | Buyer's agent: {df.loc[df['int_Sale_Price'].idxmin()]['Buyer Agent']} with {df.loc[df['int_Sale_Price'].idxmin()]['Buyer Broker']} | Days on market: {df.loc[df['int_Sale_Price'].idxmin()]['days_on_market']}\")\n",
    "### Highest and lowest psf ###\n",
    "print(f\"{MAX_PSF}{BR}{df.loc[df['price_per_sqft'].idxmax()]['building_name']}, {df.loc[df['price_per_sqft'].idxmax()]['address']} | Price ${df.loc[df['price_per_sqft'].idxmax()]['int_Sale_Price']:,.0f} | ${df.loc[df['price_per_sqft'].idxmax()]['price_per_sqft']:,.0f} psf | Listing agent: {df.loc[df['price_per_sqft'].idxmax()]['Agent']} with {df.loc[df['price_per_sqft'].idxmax()]['Listing Broker']} | Buyer's agent: {df.loc[df['price_per_sqft'].idxmax()]['Buyer Agent']} with {df.loc[df['price_per_sqft'].idxmax()]['Buyer Broker']} | Days on market: {df.loc[df['price_per_sqft'].idxmax()]['days_on_market']}\")\n",
    "print(f\"{MIN_PSF}{BR}{df.loc[df['price_per_sqft'].idxmin()]['building_name']}, {df.loc[df['price_per_sqft'].idxmin()]['address']} | Price ${df.loc[df['price_per_sqft'].idxmin()]['int_Sale_Price']:,.0f} | ${df.loc[df['price_per_sqft'].idxmin()]['price_per_sqft']:,.0f} psf | Listing agent: {df.loc[df['price_per_sqft'].idxmin()]['Agent']} with {df.loc[df['price_per_sqft'].idxmin()]['Listing Broker']} | Buyer's agent: {df.loc[df['price_per_sqft'].idxmin()]['Buyer Agent']} with {df.loc[df['price_per_sqft'].idxmin()]['Buyer Broker']} | Days on market: {df.loc[df['price_per_sqft'].idxmin()]['days_on_market']}\")\n",
    "### Highest and lowest days on market ###\n",
    "print(f\"{DAYS_MAX}{BR}{df.loc[df['days_on_market'].idxmax()]['building_name']}, {df.loc[df['days_on_market'].idxmax()]['address']} | Price ${df.loc[df['days_on_market'].idxmax()]['int_Sale_Price']:,.0f} | ${df.loc[df['days_on_market'].idxmax()]['price_per_sqft']:,.0f} psf | Listing agent: {df.loc[df['days_on_market'].idxmax()]['Agent']} with {df.loc[df['days_on_market'].idxmax()]['Listing Broker']} | Buyer's agent: {df.loc[df['days_on_market'].idxmax()]['Buyer Agent']} with {df.loc[df['days_on_market'].idxmax()]['Buyer Broker']} | Days on market: {df.loc[df['days_on_market'].idxmax()]['days_on_market']}\")\n",
    "print(f\"{DAYS_MIN}{BR}{df.loc[df['days_on_market'].idxmin()]['building_name']}, {df.loc[df['days_on_market'].idxmin()]['address']} | Price ${df.loc[df['days_on_market'].idxmin()]['int_Sale_Price']:,.0f} | ${df.loc[df['days_on_market'].idxmin()]['price_per_sqft']:,.0f} psf | Listing agent: {df.loc[df['days_on_market'].idxmin()]['Agent']} with {df.loc[df['days_on_market'].idxmin()]['Listing Broker']} | Buyer's agent: {df.loc[df['days_on_market'].idxmin()]['Buyer Agent']} with {df.loc[df['days_on_market'].idxmin()]['Buyer Broker']} | Days on market: {df.loc[df['days_on_market'].idxmin()]['days_on_market']}\")"
   ]
  },
  {
   "cell_type": "markdown",
   "metadata": {},
   "source": [
    "## Map URL snagger"
   ]
  },
  {
   "cell_type": "markdown",
   "metadata": {},
   "source": [
    "Map template URL: `https://trd-digital.github.io/trd-news-interactive-maps/{map-folder-name}`"
   ]
  },
  {
   "cell_type": "code",
   "execution_count": 44,
   "metadata": {},
   "outputs": [],
   "source": [
    "base_name = 'https://trd-digital.github.io/trd-news-interactive-maps/'"
   ]
  },
  {
   "cell_type": "code",
   "execution_count": 45,
   "metadata": {},
   "outputs": [
    {
     "name": "stdout",
     "output_type": "stream",
     "text": [
      "https://trd-digital.github.io/trd-news-interactive-maps/condo_sales_week_ending_08122023\n"
     ]
    }
   ],
   "source": [
    "cwd = os.getcwd()\n",
    "\n",
    "cwd = cwd.split('/')\n",
    "\n",
    "final_name = base_name + cwd[-1]\n",
    "print(final_name)"
   ]
  }
 ],
 "metadata": {
  "kernelspec": {
   "display_name": "Python 3 (ipykernel)",
   "language": "python",
   "name": "python3"
  },
  "language_info": {
   "codemirror_mode": {
    "name": "ipython",
    "version": 3
   },
   "file_extension": ".py",
   "mimetype": "text/x-python",
   "name": "python",
   "nbconvert_exporter": "python",
   "pygments_lexer": "ipython3",
   "version": "3.9.12"
  },
  "toc": {
   "base_numbering": 1,
   "nav_menu": {},
   "number_sections": true,
   "sideBar": true,
   "skip_h1_title": false,
   "title_cell": "Table of Contents",
   "title_sidebar": "Contents",
   "toc_cell": false,
   "toc_position": {},
   "toc_section_display": true,
   "toc_window_display": false
  }
 },
 "nbformat": 4,
 "nbformat_minor": 4
}
