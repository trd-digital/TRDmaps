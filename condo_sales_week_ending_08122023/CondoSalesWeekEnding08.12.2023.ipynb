{
 "cells": [
  {
   "cell_type": "markdown",
   "metadata": {},
   "source": [
    "## Imports"
   ]
  },
  {
   "cell_type": "code",
   "execution_count": 1,
   "metadata": {},
   "outputs": [],
   "source": [
    "import googlemaps\n",
    "import pandas as pd\n",
    "import numpy as np\n",
    "import re\n",
    "import os\n",
    "import geopandas as gpd\n",
    "import folium\n",
    "import tabula"
   ]
  },
  {
   "cell_type": "markdown",
   "metadata": {},
   "source": [
    "## Read-in"
   ]
  },
  {
   "cell_type": "code",
   "execution_count": 2,
   "metadata": {},
   "outputs": [],
   "source": [
    "# Gotta figure out how to get rid of the java error.\n",
    "# SO: https://stackoverflow.com/questions/54817211/java-command-is-not-found-from-this-python-process-please-ensure-java-is-inst\n",
    "\n",
    "dsf = tabula.read_pdf('condo.pdf', pages='all')"
   ]
  },
  {
   "cell_type": "markdown",
   "metadata": {},
   "source": [
    "## Clean Data"
   ]
  },
  {
   "cell_type": "code",
   "execution_count": 3,
   "metadata": {},
   "outputs": [],
   "source": [
    "df = dsf[0]\n",
    "df.columns = df.iloc[0]\n",
    "df = df[1:]\n",
    "df = df.drop(columns=df.columns[0])\n",
    "df = df.replace(np.nan, 'Not Available', regex=True)\n",
    "df = df.rename(columns={'Building / Address / City': 'building_address_city','Days on\\rMarket':'days_on_market',\\\n",
    "                        'Price /\\rSq. Ft.':'price_per_sqft'})\n",
    "df['building_address_city'] = df['building_address_city'].str.replace('^0', '', regex=True)\n",
    "df['geo_address'] = df['building_address_city']\n",
    "df['geo_address'] = df['geo_address'].map(lambda x: re.sub(r'\\r', ' ', x))\n",
    "df = df.replace('\\n',' ',regex=True)\n",
    "pattern = r'^(?P<building_name>[\\d\\s]*[A-Za-z\\s]+)\\s(?P<address>.+)\\s(?P<city>[A-Za-z\\s]+)$'\n",
    "df2 = df['geo_address']\n",
    "df2 = df2.to_frame()\n",
    "df2[['building_name', 'address', 'city']] = df2['geo_address'].str.extract(pattern, expand=True)"
   ]
  },
  {
   "cell_type": "markdown",
   "metadata": {},
   "source": [
    "Review this later (it's about how to properly merge DFs): https://pandas.pydata.org/pandas-docs/stable/user_guide/merging.html"
   ]
  },
  {
   "cell_type": "markdown",
   "metadata": {},
   "source": [
    "## Geocode"
   ]
  },
  {
   "cell_type": "code",
   "execution_count": 4,
   "metadata": {},
   "outputs": [],
   "source": [
    "result = pd.merge(df,df2,left_index=True, right_index=True)\n",
    "df = result\n",
    "df = df.drop(columns='city')"
   ]
  },
  {
   "cell_type": "code",
   "execution_count": 5,
   "metadata": {},
   "outputs": [],
   "source": [
    "%store -r google_maps_API_Key\n",
    "gmaps_key = googlemaps.Client(key=google_maps_API_Key)"
   ]
  },
  {
   "cell_type": "code",
   "execution_count": 6,
   "metadata": {},
   "outputs": [],
   "source": [
    "def geocode(add):\n",
    "    g = gmaps_key.geocode(add)\n",
    "    lat = g[0][\"geometry\"][\"location\"][\"lat\"]\n",
    "    lng = g[0][\"geometry\"][\"location\"][\"lng\"]\n",
    "    return (lat, lng)\n",
    "\n",
    "df['geocoded'] = df['geo_address_x'].apply(geocode)"
   ]
  },
  {
   "cell_type": "code",
   "execution_count": 7,
   "metadata": {},
   "outputs": [],
   "source": [
    "df['geocoded'] = df['geocoded'].astype(str)\n",
    "df[['lat', 'lon']] = df['geocoded'].str.strip('()').str.split(', ', expand=True)\n",
    "df['lat'] = df['lat'].astype(float)\n",
    "df['lon'] = df['lon'].astype(float)"
   ]
  },
  {
   "cell_type": "markdown",
   "metadata": {},
   "source": [
    "Folium documentation link: https://python-visualization.github.io/folium/index.html\n",
    "\n",
    "Folium is the library that lets us use leaflet with Python, since it's meant to be used with JavaScript.\n",
    "\n",
    "For adding titles: https://stackoverflow.com/questions/61928013/adding-a-title-or-text-to-a-folium-map"
   ]
  },
  {
   "cell_type": "markdown",
   "metadata": {},
   "source": [
    "## Correction section"
   ]
  },
  {
   "cell_type": "code",
   "execution_count": 8,
   "metadata": {},
   "outputs": [],
   "source": [
    "# df.at[index#,'col_name']"
   ]
  },
  {
   "cell_type": "markdown",
   "metadata": {},
   "source": [
    "## Format Data"
   ]
  },
  {
   "cell_type": "code",
   "execution_count": 9,
   "metadata": {},
   "outputs": [],
   "source": [
    "### Insert NaNs if needed ###\n",
    "df = df.replace('N/A', np.nan)"
   ]
  },
  {
   "cell_type": "code",
   "execution_count": 10,
   "metadata": {},
   "outputs": [],
   "source": [
    "df['int_Sale_Price'] = df['Sale Price'].str.replace('$','',regex=False)"
   ]
  },
  {
   "cell_type": "code",
   "execution_count": 11,
   "metadata": {},
   "outputs": [],
   "source": [
    "df['int_Sale_Price'] = df['int_Sale_Price'].str.replace(',','',regex=False)"
   ]
  },
  {
   "cell_type": "code",
   "execution_count": 12,
   "metadata": {},
   "outputs": [],
   "source": [
    "df['int_Sale_Price'] = pd.to_numeric(df['int_Sale_Price'])"
   ]
  },
  {
   "cell_type": "code",
   "execution_count": 13,
   "metadata": {},
   "outputs": [],
   "source": [
    "df['price_per_sqft'] = df['price_per_sqft'].str.replace('$','',regex=False)\n",
    "df['price_per_sqft'] = df['price_per_sqft'].str.replace(',','',regex=False)\n",
    "df['price_per_sqft'] = pd.to_numeric(df['price_per_sqft'])\n",
    "\n",
    "df['days_on_market'] = pd.to_numeric(df['days_on_market'])"
   ]
  },
  {
   "cell_type": "markdown",
   "metadata": {},
   "source": [
    "## Color-code top sale"
   ]
  },
  {
   "cell_type": "code",
   "execution_count": 14,
   "metadata": {},
   "outputs": [],
   "source": [
    "### Insert RANK values ###\n",
    "df['RANK'] = range(1, len(df) + 1)\n",
    "# use numpy to assign values to the 'COLOR' column\n",
    "df['COLOR'] = np.where(df['RANK'] <= 1, 'orange', 'blue')"
   ]
  },
  {
   "cell_type": "markdown",
   "metadata": {},
   "source": [
    "## HTML Popup Formatter"
   ]
  },
  {
   "cell_type": "code",
   "execution_count": 15,
   "metadata": {},
   "outputs": [],
   "source": [
    "df.at[1,'building_name']=('Fendi Château')"
   ]
  },
  {
   "cell_type": "code",
   "execution_count": 16,
   "metadata": {},
   "outputs": [
    {
     "data": {
      "text/plain": [
       "Index(['building_address_city', 'Close Date', 'days_on_market', 'Sale Price',\n",
       "       'Sq. Ft.', 'price_per_sqft', 'Agent', 'Listing Broker', 'Buyer Agent',\n",
       "       'Buyer Broker', 'geo_address_x', 'geo_address_y', 'building_name',\n",
       "       'address', 'geocoded', 'lat', 'lon', 'int_Sale_Price', 'RANK', 'COLOR'],\n",
       "      dtype='object')"
      ]
     },
     "execution_count": 16,
     "metadata": {},
     "output_type": "execute_result"
    }
   ],
   "source": [
    "df.columns"
   ]
  },
  {
   "cell_type": "code",
   "execution_count": 17,
   "metadata": {},
   "outputs": [],
   "source": [
    "def popup_html(row):\n",
    "    building_name = row['building_name']\n",
    "    price = row['Sale Price']\n",
    "    days_on_market = row['days_on_market']\n",
    "    listing_agent = row['Agent']\n",
    "    buyers_agent = row['Buyer Agent']\n",
    "    psf = row['price_per_sqft']\n",
    "    address = row['address']\n",
    "    \n",
    "    html = '''<!DOCTYPE html>\n",
    "    <html>\n",
    "    <strong>Building Name: </strong>{}'''.format(building_name) + '''<br>\n",
    "    <strong>Sale Price: </strong>{}'''.format(price) + '''<br>\n",
    "    <strong>Days on Market: </strong>{}'''.format(days_on_market) + '''<br>\n",
    "    <strong>Listing Agent: </strong>{}'''.format(listing_agent) + '''<br>\n",
    "    <strong>Buyer's Agent: </strong>{}'''.format(buyers_agent) + '''<br>\n",
    "    <strong>Price sq ft: </strong>${}'''.format(psf) + '''<br>\n",
    "    <strong>Address: </strong>{}'''.format(address) + '''<br>\n",
    "    </html>\n",
    "    '''\n",
    "    return html"
   ]
  },
  {
   "cell_type": "code",
   "execution_count": 18,
   "metadata": {},
   "outputs": [
    {
     "data": {
      "text/html": [
       "<div style=\"width:100%;\"><div style=\"position:relative;width:100%;height:0;padding-bottom:60%;\"><span style=\"color:#565656\">Make this Notebook Trusted to load map: File -> Trust Notebook</span><iframe srcdoc=\"&lt;!DOCTYPE html&gt;\n",
       "&lt;head&gt;    \n",
       "    &lt;meta http-equiv=&quot;content-type&quot; content=&quot;text/html; charset=UTF-8&quot; /&gt;\n",
       "    \n",
       "        &lt;script&gt;\n",
       "            L_NO_TOUCH = false;\n",
       "            L_DISABLE_3D = false;\n",
       "        &lt;/script&gt;\n",
       "    \n",
       "    &lt;style&gt;html, body {width: 100%;height: 100%;margin: 0;padding: 0;}&lt;/style&gt;\n",
       "    &lt;style&gt;#map {position:absolute;top:0;bottom:0;right:0;left:0;}&lt;/style&gt;\n",
       "    &lt;script src=&quot;https://cdn.jsdelivr.net/npm/leaflet@1.6.0/dist/leaflet.js&quot;&gt;&lt;/script&gt;\n",
       "    &lt;script src=&quot;https://code.jquery.com/jquery-1.12.4.min.js&quot;&gt;&lt;/script&gt;\n",
       "    &lt;script src=&quot;https://maxcdn.bootstrapcdn.com/bootstrap/3.2.0/js/bootstrap.min.js&quot;&gt;&lt;/script&gt;\n",
       "    &lt;script src=&quot;https://cdnjs.cloudflare.com/ajax/libs/Leaflet.awesome-markers/2.0.2/leaflet.awesome-markers.js&quot;&gt;&lt;/script&gt;\n",
       "    &lt;link rel=&quot;stylesheet&quot; href=&quot;https://cdn.jsdelivr.net/npm/leaflet@1.6.0/dist/leaflet.css&quot;/&gt;\n",
       "    &lt;link rel=&quot;stylesheet&quot; href=&quot;https://maxcdn.bootstrapcdn.com/bootstrap/3.2.0/css/bootstrap.min.css&quot;/&gt;\n",
       "    &lt;link rel=&quot;stylesheet&quot; href=&quot;https://maxcdn.bootstrapcdn.com/bootstrap/3.2.0/css/bootstrap-theme.min.css&quot;/&gt;\n",
       "    &lt;link rel=&quot;stylesheet&quot; href=&quot;https://maxcdn.bootstrapcdn.com/font-awesome/4.6.3/css/font-awesome.min.css&quot;/&gt;\n",
       "    &lt;link rel=&quot;stylesheet&quot; href=&quot;https://cdnjs.cloudflare.com/ajax/libs/Leaflet.awesome-markers/2.0.2/leaflet.awesome-markers.css&quot;/&gt;\n",
       "    &lt;link rel=&quot;stylesheet&quot; href=&quot;https://cdn.jsdelivr.net/gh/python-visualization/folium/folium/templates/leaflet.awesome.rotate.min.css&quot;/&gt;\n",
       "    \n",
       "            &lt;meta name=&quot;viewport&quot; content=&quot;width=device-width,\n",
       "                initial-scale=1.0, maximum-scale=1.0, user-scalable=no&quot; /&gt;\n",
       "            &lt;style&gt;\n",
       "                #map_cea5464911ebc3ea3a5889a377e914b9 {\n",
       "                    position: relative;\n",
       "                    width: 100.0%;\n",
       "                    height: 100.0%;\n",
       "                    left: 0.0%;\n",
       "                    top: 0.0%;\n",
       "                }\n",
       "            &lt;/style&gt;\n",
       "        \n",
       "&lt;/head&gt;\n",
       "&lt;body&gt;    \n",
       "    \n",
       "              &lt;h3 align=&quot;center&quot; style=&quot;font-size:16px&quot;&gt;&lt;b&gt;Recent Miami-Dade Condo Sales &lt;/b&gt;&lt;/h3&gt;\n",
       "             \n",
       "    \n",
       "                &lt;p align=&quot;center&quot; style=&quot;vertical-align: bottom; font-size:13px&quot;&gt;&lt;i&gt;August 6th - August 12th&lt;/i&gt;&lt;/p&gt;\n",
       "                \n",
       "    \n",
       "            &lt;div class=&quot;folium-map&quot; id=&quot;map_cea5464911ebc3ea3a5889a377e914b9&quot; &gt;&lt;/div&gt;\n",
       "        \n",
       "&lt;/body&gt;\n",
       "&lt;script&gt;    \n",
       "    \n",
       "            var map_cea5464911ebc3ea3a5889a377e914b9 = L.map(\n",
       "                &quot;map_cea5464911ebc3ea3a5889a377e914b9&quot;,\n",
       "                {\n",
       "                    center: [25.814462709999997, -80.15600535],\n",
       "                    crs: L.CRS.EPSG3857,\n",
       "                    zoom: 9.5,\n",
       "                    zoomControl: true,\n",
       "                    preferCanvas: false,\n",
       "                }\n",
       "            );\n",
       "\n",
       "            \n",
       "\n",
       "        \n",
       "    \n",
       "            var feature_group_6957fe9ea3602d73bd66297bc071ad83 = L.featureGroup(\n",
       "                {}\n",
       "            ).addTo(map_cea5464911ebc3ea3a5889a377e914b9);\n",
       "        \n",
       "    \n",
       "            var marker_e9d3b7506ef6bad41e5e8430bc5032ec = L.marker(\n",
       "                [25.8233175, -80.1215857],\n",
       "                {&quot;fill&quot;: true, &quot;radius&quot;: 5}\n",
       "            ).addTo(feature_group_6957fe9ea3602d73bd66297bc071ad83);\n",
       "        \n",
       "    \n",
       "            var icon_434bd332d843bc4d9a70799acd9c5f2d = L.AwesomeMarkers.icon(\n",
       "                {&quot;extraClasses&quot;: &quot;fa-rotate-0&quot;, &quot;icon&quot;: &quot;info-sign&quot;, &quot;iconColor&quot;: &quot;white&quot;, &quot;markerColor&quot;: &quot;orange&quot;, &quot;prefix&quot;: &quot;glyphicon&quot;}\n",
       "            );\n",
       "            marker_e9d3b7506ef6bad41e5e8430bc5032ec.setIcon(icon_434bd332d843bc4d9a70799acd9c5f2d);\n",
       "        \n",
       "    \n",
       "        var popup_610fe5c38a92d5979725889a185ba98e = L.popup({&quot;maxWidth&quot;: 400});\n",
       "\n",
       "        \n",
       "            \n",
       "                var html_921ad9d35e75dcd5b8f10af5bef69bb1 = $(`&lt;div id=&quot;html_921ad9d35e75dcd5b8f10af5bef69bb1&quot; style=&quot;width: 100.0%; height: 100.0%;&quot;&gt;&lt;!DOCTYPE html&gt;     &lt;html&gt;     &lt;strong&gt;Building Name: &lt;/strong&gt;Fendi Château&lt;br&gt;     &lt;strong&gt;Sale Price: &lt;/strong&gt;$3,250,000.00&lt;br&gt;     &lt;strong&gt;Days on Market: &lt;/strong&gt;77&lt;br&gt;     &lt;strong&gt;Listing Agent: &lt;/strong&gt;Claudio Bagliani&lt;br&gt;     &lt;strong&gt;Buyer&#x27;s Agent: &lt;/strong&gt;Michele Redlich&lt;br&gt;     &lt;strong&gt;Price sq ft: &lt;/strong&gt;$1675.26&lt;br&gt;     &lt;strong&gt;Address: &lt;/strong&gt;4779 Collins Ave PH4201 Miami&lt;br&gt;     &lt;/html&gt;     &lt;/div&gt;`)[0];\n",
       "                popup_610fe5c38a92d5979725889a185ba98e.setContent(html_921ad9d35e75dcd5b8f10af5bef69bb1);\n",
       "            \n",
       "        \n",
       "\n",
       "        marker_e9d3b7506ef6bad41e5e8430bc5032ec.bindPopup(popup_610fe5c38a92d5979725889a185ba98e)\n",
       "        ;\n",
       "\n",
       "        \n",
       "    \n",
       "    \n",
       "            var feature_group_2a0aa92dfca85b4ea4b1c074d224b629 = L.featureGroup(\n",
       "                {}\n",
       "            ).addTo(map_cea5464911ebc3ea3a5889a377e914b9);\n",
       "        \n",
       "    \n",
       "            var marker_9e201f196405d344cb2d4f690468ed72 = L.marker(\n",
       "                [25.9349574, -80.1503654],\n",
       "                {&quot;fill&quot;: true, &quot;radius&quot;: 5}\n",
       "            ).addTo(feature_group_2a0aa92dfca85b4ea4b1c074d224b629);\n",
       "        \n",
       "    \n",
       "            var icon_d2171019175ea58bf5fe6486c6e9acf5 = L.AwesomeMarkers.icon(\n",
       "                {&quot;extraClasses&quot;: &quot;fa-rotate-0&quot;, &quot;icon&quot;: &quot;info-sign&quot;, &quot;iconColor&quot;: &quot;white&quot;, &quot;markerColor&quot;: &quot;blue&quot;, &quot;prefix&quot;: &quot;glyphicon&quot;}\n",
       "            );\n",
       "            marker_9e201f196405d344cb2d4f690468ed72.setIcon(icon_d2171019175ea58bf5fe6486c6e9acf5);\n",
       "        \n",
       "    \n",
       "        var popup_8e1e55db82502012c29a1e0c2964aaae = L.popup({&quot;maxWidth&quot;: 400});\n",
       "\n",
       "        \n",
       "            \n",
       "                var html_2316114a0dbca0464a157d977f72078d = $(`&lt;div id=&quot;html_2316114a0dbca0464a157d977f72078d&quot; style=&quot;width: 100.0%; height: 100.0%;&quot;&gt;&lt;!DOCTYPE html&gt;     &lt;html&gt;     &lt;strong&gt;Building Name: &lt;/strong&gt;Marina Palms Residences&lt;br&gt;     &lt;strong&gt;Sale Price: &lt;/strong&gt;$3,000,000.00&lt;br&gt;     &lt;strong&gt;Days on Market: &lt;/strong&gt;259&lt;br&gt;     &lt;strong&gt;Listing Agent: &lt;/strong&gt;Monica Sarmiento&lt;br&gt;     &lt;strong&gt;Buyer&#x27;s Agent: &lt;/strong&gt;Lydia Eskenazi PA&lt;br&gt;     &lt;strong&gt;Price sq ft: &lt;/strong&gt;$773.2&lt;br&gt;     &lt;strong&gt;Address: &lt;/strong&gt;17111 Biscayne Blvd 905-907 North Miami&lt;br&gt;     &lt;/html&gt;     &lt;/div&gt;`)[0];\n",
       "                popup_8e1e55db82502012c29a1e0c2964aaae.setContent(html_2316114a0dbca0464a157d977f72078d);\n",
       "            \n",
       "        \n",
       "\n",
       "        marker_9e201f196405d344cb2d4f690468ed72.bindPopup(popup_8e1e55db82502012c29a1e0c2964aaae)\n",
       "        ;\n",
       "\n",
       "        \n",
       "    \n",
       "    \n",
       "            var marker_60f8affe7f36fb5edc92cc3bdd0bc186 = L.marker(\n",
       "                [25.6879499, -80.1629675],\n",
       "                {&quot;fill&quot;: true, &quot;radius&quot;: 5}\n",
       "            ).addTo(feature_group_2a0aa92dfca85b4ea4b1c074d224b629);\n",
       "        \n",
       "    \n",
       "            var icon_2b24f27d252ec91ef5dab3930ffe574f = L.AwesomeMarkers.icon(\n",
       "                {&quot;extraClasses&quot;: &quot;fa-rotate-0&quot;, &quot;icon&quot;: &quot;info-sign&quot;, &quot;iconColor&quot;: &quot;white&quot;, &quot;markerColor&quot;: &quot;blue&quot;, &quot;prefix&quot;: &quot;glyphicon&quot;}\n",
       "            );\n",
       "            marker_60f8affe7f36fb5edc92cc3bdd0bc186.setIcon(icon_2b24f27d252ec91ef5dab3930ffe574f);\n",
       "        \n",
       "    \n",
       "        var popup_f576572908fd29ac5cb7a647166532db = L.popup({&quot;maxWidth&quot;: 400});\n",
       "\n",
       "        \n",
       "            \n",
       "                var html_7083e8a69ed2124d66be56541d5b29ea = $(`&lt;div id=&quot;html_7083e8a69ed2124d66be56541d5b29ea&quot; style=&quot;width: 100.0%; height: 100.0%;&quot;&gt;&lt;!DOCTYPE html&gt;     &lt;html&gt;     &lt;strong&gt;Building Name: &lt;/strong&gt;The Ocean Club&lt;br&gt;     &lt;strong&gt;Sale Price: &lt;/strong&gt;$2,325,000.00&lt;br&gt;     &lt;strong&gt;Days on Market: &lt;/strong&gt;70&lt;br&gt;     &lt;strong&gt;Listing Agent: &lt;/strong&gt;Douglas Kinsley&lt;br&gt;     &lt;strong&gt;Buyer&#x27;s Agent: &lt;/strong&gt;Mary Jo Pinedo&lt;br&gt;     &lt;strong&gt;Price sq ft: &lt;/strong&gt;$931.12&lt;br&gt;     &lt;strong&gt;Address: &lt;/strong&gt;723 Crandon Blvd PH6 Key&lt;br&gt;     &lt;/html&gt;     &lt;/div&gt;`)[0];\n",
       "                popup_f576572908fd29ac5cb7a647166532db.setContent(html_7083e8a69ed2124d66be56541d5b29ea);\n",
       "            \n",
       "        \n",
       "\n",
       "        marker_60f8affe7f36fb5edc92cc3bdd0bc186.bindPopup(popup_f576572908fd29ac5cb7a647166532db)\n",
       "        ;\n",
       "\n",
       "        \n",
       "    \n",
       "    \n",
       "            var marker_a1d168db22016a7433c288d6998f1088 = L.marker(\n",
       "                [25.8989594, -80.1239408],\n",
       "                {&quot;fill&quot;: true, &quot;radius&quot;: 5}\n",
       "            ).addTo(feature_group_2a0aa92dfca85b4ea4b1c074d224b629);\n",
       "        \n",
       "    \n",
       "            var icon_5d6c02d9698a10e49452b359db7b34b1 = L.AwesomeMarkers.icon(\n",
       "                {&quot;extraClasses&quot;: &quot;fa-rotate-0&quot;, &quot;icon&quot;: &quot;info-sign&quot;, &quot;iconColor&quot;: &quot;white&quot;, &quot;markerColor&quot;: &quot;blue&quot;, &quot;prefix&quot;: &quot;glyphicon&quot;}\n",
       "            );\n",
       "            marker_a1d168db22016a7433c288d6998f1088.setIcon(icon_5d6c02d9698a10e49452b359db7b34b1);\n",
       "        \n",
       "    \n",
       "        var popup_05af74a1248613cb7c6816d3998cfcc9 = L.popup({&quot;maxWidth&quot;: 400});\n",
       "\n",
       "        \n",
       "            \n",
       "                var html_2dd5348581f6db450f1699217b242481 = $(`&lt;div id=&quot;html_2dd5348581f6db450f1699217b242481&quot; style=&quot;width: 100.0%; height: 100.0%;&quot;&gt;&lt;!DOCTYPE html&gt;     &lt;html&gt;     &lt;strong&gt;Building Name: &lt;/strong&gt;One Bal Harbor&lt;br&gt;     &lt;strong&gt;Sale Price: &lt;/strong&gt;$2,300,000.00&lt;br&gt;     &lt;strong&gt;Days on Market: &lt;/strong&gt;378&lt;br&gt;     &lt;strong&gt;Listing Agent: &lt;/strong&gt;Fernando Alpern&lt;br&gt;     &lt;strong&gt;Buyer&#x27;s Agent: &lt;/strong&gt;Alexis Mason&lt;br&gt;     &lt;strong&gt;Price sq ft: &lt;/strong&gt;$1144.85&lt;br&gt;     &lt;strong&gt;Address: &lt;/strong&gt;10295 Collins Ave 506 Bal&lt;br&gt;     &lt;/html&gt;     &lt;/div&gt;`)[0];\n",
       "                popup_05af74a1248613cb7c6816d3998cfcc9.setContent(html_2dd5348581f6db450f1699217b242481);\n",
       "            \n",
       "        \n",
       "\n",
       "        marker_a1d168db22016a7433c288d6998f1088.bindPopup(popup_05af74a1248613cb7c6816d3998cfcc9)\n",
       "        ;\n",
       "\n",
       "        \n",
       "    \n",
       "    \n",
       "            var marker_c8e28b69cdb5303b812160dc81fa0f77 = L.marker(\n",
       "                [25.85381, -80.11977000000002],\n",
       "                {&quot;fill&quot;: true, &quot;radius&quot;: 5}\n",
       "            ).addTo(feature_group_2a0aa92dfca85b4ea4b1c074d224b629);\n",
       "        \n",
       "    \n",
       "            var icon_aa26bc30efa6c921dea517d64e32269b = L.AwesomeMarkers.icon(\n",
       "                {&quot;extraClasses&quot;: &quot;fa-rotate-0&quot;, &quot;icon&quot;: &quot;info-sign&quot;, &quot;iconColor&quot;: &quot;white&quot;, &quot;markerColor&quot;: &quot;blue&quot;, &quot;prefix&quot;: &quot;glyphicon&quot;}\n",
       "            );\n",
       "            marker_c8e28b69cdb5303b812160dc81fa0f77.setIcon(icon_aa26bc30efa6c921dea517d64e32269b);\n",
       "        \n",
       "    \n",
       "        var popup_3b7ea499d8604cb2e3a1b5335a56cc74 = L.popup({&quot;maxWidth&quot;: 400});\n",
       "\n",
       "        \n",
       "            \n",
       "                var html_95c219dcb461a21f7e17f34c60e8b189 = $(`&lt;div id=&quot;html_95c219dcb461a21f7e17f34c60e8b189&quot; style=&quot;width: 100.0%; height: 100.0%;&quot;&gt;&lt;!DOCTYPE html&gt;     &lt;html&gt;     &lt;strong&gt;Building Name: &lt;/strong&gt;The Carillon Hotel&lt;br&gt;     &lt;strong&gt;Sale Price: &lt;/strong&gt;$2,115,000.00&lt;br&gt;     &lt;strong&gt;Days on Market: &lt;/strong&gt;335&lt;br&gt;     &lt;strong&gt;Listing Agent: &lt;/strong&gt;Charles Andrews&lt;br&gt;     &lt;strong&gt;Buyer&#x27;s Agent: &lt;/strong&gt;Tania De Jesus PA&lt;br&gt;     &lt;strong&gt;Price sq ft: &lt;/strong&gt;$1351.44&lt;br&gt;     &lt;strong&gt;Address: &lt;/strong&gt;&amp; Spa 6899 Collins Ave 1207 Miami&lt;br&gt;     &lt;/html&gt;     &lt;/div&gt;`)[0];\n",
       "                popup_3b7ea499d8604cb2e3a1b5335a56cc74.setContent(html_95c219dcb461a21f7e17f34c60e8b189);\n",
       "            \n",
       "        \n",
       "\n",
       "        marker_c8e28b69cdb5303b812160dc81fa0f77.bindPopup(popup_3b7ea499d8604cb2e3a1b5335a56cc74)\n",
       "        ;\n",
       "\n",
       "        \n",
       "    \n",
       "    \n",
       "            var marker_3dc7c61aa6801e8682419a4764bb7b1f = L.marker(\n",
       "                [25.7935581, -80.1870727],\n",
       "                {&quot;fill&quot;: true, &quot;radius&quot;: 5}\n",
       "            ).addTo(feature_group_2a0aa92dfca85b4ea4b1c074d224b629);\n",
       "        \n",
       "    \n",
       "            var icon_1326f554f5f526fe2932bc80e8b09a54 = L.AwesomeMarkers.icon(\n",
       "                {&quot;extraClasses&quot;: &quot;fa-rotate-0&quot;, &quot;icon&quot;: &quot;info-sign&quot;, &quot;iconColor&quot;: &quot;white&quot;, &quot;markerColor&quot;: &quot;blue&quot;, &quot;prefix&quot;: &quot;glyphicon&quot;}\n",
       "            );\n",
       "            marker_3dc7c61aa6801e8682419a4764bb7b1f.setIcon(icon_1326f554f5f526fe2932bc80e8b09a54);\n",
       "        \n",
       "    \n",
       "        var popup_9100d9ff6d34e718dfcd9acc93f9404d = L.popup({&quot;maxWidth&quot;: 400});\n",
       "\n",
       "        \n",
       "            \n",
       "                var html_04d9dfe12623a8cf7636ea322ebc341e = $(`&lt;div id=&quot;html_04d9dfe12623a8cf7636ea322ebc341e&quot; style=&quot;width: 100.0%; height: 100.0%;&quot;&gt;&lt;!DOCTYPE html&gt;     &lt;html&gt;     &lt;strong&gt;Building Name: &lt;/strong&gt;Aria on the Bay&lt;br&gt;     &lt;strong&gt;Sale Price: &lt;/strong&gt;$1,995,000.00&lt;br&gt;     &lt;strong&gt;Days on Market: &lt;/strong&gt;167&lt;br&gt;     &lt;strong&gt;Listing Agent: &lt;/strong&gt;John Parsiani&lt;br&gt;     &lt;strong&gt;Buyer&#x27;s Agent: &lt;/strong&gt;Thomas Estavillo&lt;br&gt;     &lt;strong&gt;Price sq ft: &lt;/strong&gt;$988.6&lt;br&gt;     &lt;strong&gt;Address: &lt;/strong&gt;488 NE 18 St 2112&lt;br&gt;     &lt;/html&gt;     &lt;/div&gt;`)[0];\n",
       "                popup_9100d9ff6d34e718dfcd9acc93f9404d.setContent(html_04d9dfe12623a8cf7636ea322ebc341e);\n",
       "            \n",
       "        \n",
       "\n",
       "        marker_3dc7c61aa6801e8682419a4764bb7b1f.bindPopup(popup_9100d9ff6d34e718dfcd9acc93f9404d)\n",
       "        ;\n",
       "\n",
       "        \n",
       "    \n",
       "    \n",
       "            var marker_f812dc689d8d65b9ab37dc28b69e170f = L.marker(\n",
       "                [25.7935581, -80.1870727],\n",
       "                {&quot;fill&quot;: true, &quot;radius&quot;: 5}\n",
       "            ).addTo(feature_group_2a0aa92dfca85b4ea4b1c074d224b629);\n",
       "        \n",
       "    \n",
       "            var icon_489904852f178a4bc6d331a22f7856f1 = L.AwesomeMarkers.icon(\n",
       "                {&quot;extraClasses&quot;: &quot;fa-rotate-0&quot;, &quot;icon&quot;: &quot;info-sign&quot;, &quot;iconColor&quot;: &quot;white&quot;, &quot;markerColor&quot;: &quot;blue&quot;, &quot;prefix&quot;: &quot;glyphicon&quot;}\n",
       "            );\n",
       "            marker_f812dc689d8d65b9ab37dc28b69e170f.setIcon(icon_489904852f178a4bc6d331a22f7856f1);\n",
       "        \n",
       "    \n",
       "        var popup_2942ac2ceee833816827ebd0529e21a5 = L.popup({&quot;maxWidth&quot;: 400});\n",
       "\n",
       "        \n",
       "            \n",
       "                var html_38ebf16d57e7ca0c46097905151735a2 = $(`&lt;div id=&quot;html_38ebf16d57e7ca0c46097905151735a2&quot; style=&quot;width: 100.0%; height: 100.0%;&quot;&gt;&lt;!DOCTYPE html&gt;     &lt;html&gt;     &lt;strong&gt;Building Name: &lt;/strong&gt;Aria on the Bay&lt;br&gt;     &lt;strong&gt;Sale Price: &lt;/strong&gt;$1,995,000.00&lt;br&gt;     &lt;strong&gt;Days on Market: &lt;/strong&gt;166&lt;br&gt;     &lt;strong&gt;Listing Agent: &lt;/strong&gt;John Parsiani&lt;br&gt;     &lt;strong&gt;Buyer&#x27;s Agent: &lt;/strong&gt;Thomas Estavillo&lt;br&gt;     &lt;strong&gt;Price sq ft: &lt;/strong&gt;$988.6&lt;br&gt;     &lt;strong&gt;Address: &lt;/strong&gt;488 NE 18 St 2115&lt;br&gt;     &lt;/html&gt;     &lt;/div&gt;`)[0];\n",
       "                popup_2942ac2ceee833816827ebd0529e21a5.setContent(html_38ebf16d57e7ca0c46097905151735a2);\n",
       "            \n",
       "        \n",
       "\n",
       "        marker_f812dc689d8d65b9ab37dc28b69e170f.bindPopup(popup_2942ac2ceee833816827ebd0529e21a5)\n",
       "        ;\n",
       "\n",
       "        \n",
       "    \n",
       "    \n",
       "            var marker_ef6832894adbe876195b7dcd63fc2d29 = L.marker(\n",
       "                [25.7873169, -80.1293566],\n",
       "                {&quot;fill&quot;: true, &quot;radius&quot;: 5}\n",
       "            ).addTo(feature_group_2a0aa92dfca85b4ea4b1c074d224b629);\n",
       "        \n",
       "    \n",
       "            var icon_f89da33fc19c50cd3ab988044e996009 = L.AwesomeMarkers.icon(\n",
       "                {&quot;extraClasses&quot;: &quot;fa-rotate-0&quot;, &quot;icon&quot;: &quot;info-sign&quot;, &quot;iconColor&quot;: &quot;white&quot;, &quot;markerColor&quot;: &quot;blue&quot;, &quot;prefix&quot;: &quot;glyphicon&quot;}\n",
       "            );\n",
       "            marker_ef6832894adbe876195b7dcd63fc2d29.setIcon(icon_f89da33fc19c50cd3ab988044e996009);\n",
       "        \n",
       "    \n",
       "        var popup_920cb9f2f25179034cbc526827445f43 = L.popup({&quot;maxWidth&quot;: 400});\n",
       "\n",
       "        \n",
       "            \n",
       "                var html_d6681efcfcc69fe2cb826b6e5ef5163e = $(`&lt;div id=&quot;html_d6681efcfcc69fe2cb826b6e5ef5163e&quot; style=&quot;width: 100.0%; height: 100.0%;&quot;&gt;&lt;!DOCTYPE html&gt;     &lt;html&gt;     &lt;strong&gt;Building Name: &lt;/strong&gt;Il Villaggio&lt;br&gt;     &lt;strong&gt;Sale Price: &lt;/strong&gt;$1,850,000.00&lt;br&gt;     &lt;strong&gt;Days on Market: &lt;/strong&gt;160&lt;br&gt;     &lt;strong&gt;Listing Agent: &lt;/strong&gt;Eloy Carmenate&lt;br&gt;     &lt;strong&gt;Buyer&#x27;s Agent: &lt;/strong&gt;Matthew McMillan&lt;br&gt;     &lt;strong&gt;Price sq ft: &lt;/strong&gt;$1456.69&lt;br&gt;     &lt;strong&gt;Address: &lt;/strong&gt;1455 Ocean Dr 706 Miami &lt;br&gt;     &lt;/html&gt;     &lt;/div&gt;`)[0];\n",
       "                popup_920cb9f2f25179034cbc526827445f43.setContent(html_d6681efcfcc69fe2cb826b6e5ef5163e);\n",
       "            \n",
       "        \n",
       "\n",
       "        marker_ef6832894adbe876195b7dcd63fc2d29.bindPopup(popup_920cb9f2f25179034cbc526827445f43)\n",
       "        ;\n",
       "\n",
       "        \n",
       "    \n",
       "    \n",
       "            var marker_8b75a6ccf166a737c7201dff9ad3764b = L.marker(\n",
       "                [25.764055, -80.1923013],\n",
       "                {&quot;fill&quot;: true, &quot;radius&quot;: 5}\n",
       "            ).addTo(feature_group_2a0aa92dfca85b4ea4b1c074d224b629);\n",
       "        \n",
       "    \n",
       "            var icon_48143d78997c8b9b213c1c23ee7ec7f3 = L.AwesomeMarkers.icon(\n",
       "                {&quot;extraClasses&quot;: &quot;fa-rotate-0&quot;, &quot;icon&quot;: &quot;info-sign&quot;, &quot;iconColor&quot;: &quot;white&quot;, &quot;markerColor&quot;: &quot;blue&quot;, &quot;prefix&quot;: &quot;glyphicon&quot;}\n",
       "            );\n",
       "            marker_8b75a6ccf166a737c7201dff9ad3764b.setIcon(icon_48143d78997c8b9b213c1c23ee7ec7f3);\n",
       "        \n",
       "    \n",
       "        var popup_1d4d36aa98ecebc9b595f0f3d76c5444 = L.popup({&quot;maxWidth&quot;: 400});\n",
       "\n",
       "        \n",
       "            \n",
       "                var html_f8a827b54102af2091a64f7bb4228dba = $(`&lt;div id=&quot;html_f8a827b54102af2091a64f7bb4228dba&quot; style=&quot;width: 100.0%; height: 100.0%;&quot;&gt;&lt;!DOCTYPE html&gt;     &lt;html&gt;     &lt;strong&gt;Building Name: &lt;/strong&gt;1010 Brickell&lt;br&gt;     &lt;strong&gt;Sale Price: &lt;/strong&gt;$1,700,000.00&lt;br&gt;     &lt;strong&gt;Days on Market: &lt;/strong&gt;3&lt;br&gt;     &lt;strong&gt;Listing Agent: &lt;/strong&gt;Juan Carlos  Igartua&lt;br&gt;     &lt;strong&gt;Buyer&#x27;s Agent: &lt;/strong&gt;Mayan Van Der Miller&lt;br&gt;     &lt;strong&gt;Price sq ft: &lt;/strong&gt;$956.13&lt;br&gt;     &lt;strong&gt;Address: &lt;/strong&gt;1010 Brickell Ave 4805&lt;br&gt;     &lt;/html&gt;     &lt;/div&gt;`)[0];\n",
       "                popup_1d4d36aa98ecebc9b595f0f3d76c5444.setContent(html_f8a827b54102af2091a64f7bb4228dba);\n",
       "            \n",
       "        \n",
       "\n",
       "        marker_8b75a6ccf166a737c7201dff9ad3764b.bindPopup(popup_1d4d36aa98ecebc9b595f0f3d76c5444)\n",
       "        ;\n",
       "\n",
       "        \n",
       "    \n",
       "    \n",
       "            var marker_ce9fc4d0ebb3bfacb70cc5516fd4f83d = L.marker(\n",
       "                [25.8071448, -80.1856208],\n",
       "                {&quot;fill&quot;: true, &quot;radius&quot;: 5}\n",
       "            ).addTo(feature_group_2a0aa92dfca85b4ea4b1c074d224b629);\n",
       "        \n",
       "    \n",
       "            var icon_d2c3e7d3c944831212b49bf36d053c0a = L.AwesomeMarkers.icon(\n",
       "                {&quot;extraClasses&quot;: &quot;fa-rotate-0&quot;, &quot;icon&quot;: &quot;info-sign&quot;, &quot;iconColor&quot;: &quot;white&quot;, &quot;markerColor&quot;: &quot;blue&quot;, &quot;prefix&quot;: &quot;glyphicon&quot;}\n",
       "            );\n",
       "            marker_ce9fc4d0ebb3bfacb70cc5516fd4f83d.setIcon(icon_d2c3e7d3c944831212b49bf36d053c0a);\n",
       "        \n",
       "    \n",
       "        var popup_531a9342a3fbf728d333b3cb5476787a = L.popup({&quot;maxWidth&quot;: 400});\n",
       "\n",
       "        \n",
       "            \n",
       "                var html_47a1a463fe318de5741807c5495fd586 = $(`&lt;div id=&quot;html_47a1a463fe318de5741807c5495fd586&quot; style=&quot;width: 100.0%; height: 100.0%;&quot;&gt;&lt;!DOCTYPE html&gt;     &lt;html&gt;     &lt;strong&gt;Building Name: &lt;/strong&gt;One Paraiso&lt;br&gt;     &lt;strong&gt;Sale Price: &lt;/strong&gt;$1,600,000.00&lt;br&gt;     &lt;strong&gt;Days on Market: &lt;/strong&gt;146&lt;br&gt;     &lt;strong&gt;Listing Agent: &lt;/strong&gt;Christian Tupper&lt;br&gt;     &lt;strong&gt;Buyer&#x27;s Agent: &lt;/strong&gt;Todd Nordstrom&lt;br&gt;     &lt;strong&gt;Price sq ft: &lt;/strong&gt;$1048.49&lt;br&gt;     &lt;strong&gt;Address: &lt;/strong&gt;3131 NE 7th Ave 4304&lt;br&gt;     &lt;/html&gt;     &lt;/div&gt;`)[0];\n",
       "                popup_531a9342a3fbf728d333b3cb5476787a.setContent(html_47a1a463fe318de5741807c5495fd586);\n",
       "            \n",
       "        \n",
       "\n",
       "        marker_ce9fc4d0ebb3bfacb70cc5516fd4f83d.bindPopup(popup_531a9342a3fbf728d333b3cb5476787a)\n",
       "        ;\n",
       "\n",
       "        \n",
       "    \n",
       "    \n",
       "            var tile_layer_028d58074a473d3027720cc6bffcfa72 = L.tileLayer(\n",
       "                &quot;https://{s}.tile.openstreetmap.org/{z}/{x}/{y}.png&quot;,\n",
       "                {&quot;attribution&quot;: &quot;Data by \\u0026copy; \\u003ca href=\\&quot;http://openstreetmap.org\\&quot;\\u003eOpenStreetMap\\u003c/a\\u003e, under \\u003ca href=\\&quot;http://www.openstreetmap.org/copyright\\&quot;\\u003eODbL\\u003c/a\\u003e.&quot;, &quot;detectRetina&quot;: false, &quot;maxNativeZoom&quot;: 18, &quot;maxZoom&quot;: 18, &quot;minZoom&quot;: 0, &quot;noWrap&quot;: false, &quot;opacity&quot;: 1, &quot;subdomains&quot;: &quot;abc&quot;, &quot;tms&quot;: false}\n",
       "            ).addTo(map_cea5464911ebc3ea3a5889a377e914b9);\n",
       "        \n",
       "    \n",
       "            var layer_control_b946dc6919f5f350f98a595763e8b926 = {\n",
       "                base_layers : {\n",
       "                },\n",
       "                overlays :  {\n",
       "                    &quot;Top Sale&quot; : feature_group_6957fe9ea3602d73bd66297bc071ad83,\n",
       "                    &quot;All other sales&quot; : feature_group_2a0aa92dfca85b4ea4b1c074d224b629,\n",
       "                },\n",
       "            };\n",
       "            L.control.layers(\n",
       "                layer_control_b946dc6919f5f350f98a595763e8b926.base_layers,\n",
       "                layer_control_b946dc6919f5f350f98a595763e8b926.overlays,\n",
       "                {&quot;autoZIndex&quot;: true, &quot;collapsed&quot;: false, &quot;position&quot;: &quot;topright&quot;}\n",
       "            ).addTo(map_cea5464911ebc3ea3a5889a377e914b9);\n",
       "        \n",
       "&lt;/script&gt;\" style=\"position:absolute;width:100%;height:100%;left:0;top:0;border:none !important;\" allowfullscreen webkitallowfullscreen mozallowfullscreen></iframe></div></div>"
      ],
      "text/plain": [
       "<folium.folium.Map at 0x7ff5f0e36fa0>"
      ]
     },
     "execution_count": 18,
     "metadata": {},
     "output_type": "execute_result"
    }
   ],
   "source": [
    "import folium\n",
    "from folium.plugins import MarkerCluster\n",
    "\n",
    "m = folium.Map(location=df[[\"lat\", \"lon\"]].mean().to_list(), zoom_start=10)\n",
    "\n",
    "title_html = '''\n",
    "              <h3 align=\"center\" style=\"font-size:16px\"><b>{}</b></h3>\n",
    "             '''.format(f'Recent Miami-Dade Condo Sales ')\n",
    "\n",
    "caption_html = '''\n",
    "                <p align=\"center\" style=\"vertical-align: bottom; font-size:13px\"><i>{}</i></p>\n",
    "                '''.format('August 6th - August 12th')\n",
    "\n",
    "\n",
    "### Create map container ###\n",
    "m = folium.Map(location=df[[\"lat\", \"lon\"]].mean().to_list(),zoom_start=9.5,tiles=None)\n",
    "\n",
    "# Create two FeatureGroups for different color pins\n",
    "fg_blue = folium.FeatureGroup(name='All other sales')\n",
    "fg_orange = folium.FeatureGroup(name='Top Sale')\n",
    "\n",
    "for index, row in df.iterrows():\n",
    "    # Add the markers to the appropriate FeatureGroup based on the color\n",
    "    if row['COLOR'] == 'blue':\n",
    "        marker = folium.Marker(\n",
    "            location=[row['lat'], row['lon']],\n",
    "            radius=5,\n",
    "            fill=True,\n",
    "            icon=folium.Icon(color=row['COLOR']),\n",
    "            popup=folium.Popup(popup_html(row), max_width=400))\n",
    "        marker.add_to(fg_blue)\n",
    "    else:\n",
    "        marker = folium.Marker(\n",
    "            location=[row['lat'], row['lon']],\n",
    "            radius=5,\n",
    "            fill=True,\n",
    "            icon=folium.Icon(color=row['COLOR']),\n",
    "            popup=folium.Popup(popup_html(row), max_width=400))\n",
    "        marker.add_to(fg_orange)\n",
    "\n",
    "# Add the FeatureGroups to the map\n",
    "fg_orange.add_to(m)\n",
    "fg_blue.add_to(m)\n",
    "\n",
    "folium.TileLayer('OpenStreetMap',control=False).add_to(m)\n",
    "\n",
    "# Add LayerControl to the map\n",
    "folium.map.LayerControl(collapsed=False).add_to(m)\n",
    "m.get_root().html.add_child(folium.Element(title_html))\n",
    "m.get_root().html.add_child(folium.Element(caption_html))\n",
    "            \n",
    "# Display map\n",
    "m"
   ]
  },
  {
   "cell_type": "code",
   "execution_count": 19,
   "metadata": {},
   "outputs": [],
   "source": [
    "m.save('index.html')"
   ]
  },
  {
   "cell_type": "markdown",
   "metadata": {},
   "source": [
    "## Data snagger"
   ]
  },
  {
   "cell_type": "code",
   "execution_count": 20,
   "metadata": {},
   "outputs": [],
   "source": [
    "### Set up formatting ###\n",
    "BR = '\\n'\n",
    "\n",
    "ME = '\\033[1m' + 'Most Expensive' + '\\033[0m'\n",
    "LE = '\\033[1m' + 'Least Expensive' + '\\033[0m'\n",
    "\n",
    "MAX_PSF = '\\033[1m' + 'Highest Price Per Square Foot' + '\\033[0m'\n",
    "MIN_PSF = '\\033[1m' + 'Lowest Price Per Square Foot' + '\\033[0m'\n",
    "\n",
    "DAYS_MAX = '\\033[1m' + 'Most Days on Market' + '\\033[0m'\n",
    "DAYS_MIN = '\\033[1m' + 'Fewest Days on Market' + '\\033[0m'"
   ]
  },
  {
   "cell_type": "code",
   "execution_count": 21,
   "metadata": {},
   "outputs": [
    {
     "name": "stdout",
     "output_type": "stream",
     "text": [
      "\u001b[1mMost Expensive\u001b[0m\n",
      "Fendi Château, 4779 Collins Ave PH4201 Miami | Price $3,250,000 | $1,675 psf | Listing agent: Claudio Bagliani with COSMORE Florida Corp. | Buyer's agent: Michele Redlich with Coldwell Banker Realty | Days on market: 77\n",
      "\u001b[1mLeast Expensive\u001b[0m\n",
      "One Paraiso, 3131 NE 7th Ave 4304 | Price $1,600,000 | $1,048 psf | Listing agent: Christian Tupper with PMG Residential LLC | Buyer's agent: Todd Nordstrom with Compass Florida, LLC. | Days on market: 146\n",
      "\u001b[1mHighest Price Per Square Foot\u001b[0m\n",
      "Fendi Château, 4779 Collins Ave PH4201 Miami | Price $3,250,000 | $1,675 psf | Listing agent: Claudio Bagliani with COSMORE Florida Corp. | Buyer's agent: Michele Redlich with Coldwell Banker Realty | Days on market: 77\n",
      "\u001b[1mLowest Price Per Square Foot\u001b[0m\n",
      "Marina Palms Residences, 17111 Biscayne Blvd 905-907 North Miami | Price $3,000,000 | $773 psf | Listing agent: Monica Sarmiento with One Sotheby's International Re | Buyer's agent: Lydia Eskenazi PA with One Sotheby's International Re | Days on market: 259\n",
      "\u001b[1mMost Days on Market\u001b[0m\n",
      "One Bal Harbor, 10295 Collins Ave 506 Bal | Price $2,300,000 | $1,145 psf | Listing agent: Fernando Alpern with EXP Realty, LLC | Buyer's agent: Alexis Mason with Klein Morgan Realty LLC | Days on market: 378\n",
      "\u001b[1mFewest Days on Market\u001b[0m\n",
      "1010 Brickell, 1010 Brickell Ave 4805 | Price $1,700,000 | $956 psf | Listing agent: Juan Carlos  Igartua with Avanti Way Realty | Buyer's agent: Mayan Van Der Miller with Compass Florida, LLC. | Days on market: 3\n"
     ]
    }
   ],
   "source": [
    "### Highest and lowest sale price ###\n",
    "print(f\"{ME}{BR}{df.loc[df['int_Sale_Price'].idxmax()]['building_name']}, {df.loc[df['int_Sale_Price'].idxmax()]['address']} | Price ${df.loc[df['int_Sale_Price'].idxmax()]['int_Sale_Price']:,.0f} | ${df.loc[df['int_Sale_Price'].idxmax()]['price_per_sqft']:,.0f} psf | Listing agent: {df.loc[df['int_Sale_Price'].idxmax()]['Agent']} with {df.loc[df['int_Sale_Price'].idxmax()]['Listing Broker']} | Buyer's agent: {df.loc[df['int_Sale_Price'].idxmax()]['Buyer Agent']} with {df.loc[df['int_Sale_Price'].idxmax()]['Buyer Broker']} | Days on market: {df.loc[df['int_Sale_Price'].idxmax()]['days_on_market']}\")\n",
    "print(f\"{LE}{BR}{df.loc[df['int_Sale_Price'].idxmin()]['building_name']}, {df.loc[df['int_Sale_Price'].idxmin()]['address']} | Price ${df.loc[df['int_Sale_Price'].idxmin()]['int_Sale_Price']:,.0f} | ${df.loc[df['int_Sale_Price'].idxmin()]['price_per_sqft']:,.0f} psf | Listing agent: {df.loc[df['int_Sale_Price'].idxmin()]['Agent']} with {df.loc[df['int_Sale_Price'].idxmin()]['Listing Broker']} | Buyer's agent: {df.loc[df['int_Sale_Price'].idxmin()]['Buyer Agent']} with {df.loc[df['int_Sale_Price'].idxmin()]['Buyer Broker']} | Days on market: {df.loc[df['int_Sale_Price'].idxmin()]['days_on_market']}\")\n",
    "### Highest and lowest psf ###\n",
    "print(f\"{MAX_PSF}{BR}{df.loc[df['price_per_sqft'].idxmax()]['building_name']}, {df.loc[df['price_per_sqft'].idxmax()]['address']} | Price ${df.loc[df['price_per_sqft'].idxmax()]['int_Sale_Price']:,.0f} | ${df.loc[df['price_per_sqft'].idxmax()]['price_per_sqft']:,.0f} psf | Listing agent: {df.loc[df['price_per_sqft'].idxmax()]['Agent']} with {df.loc[df['price_per_sqft'].idxmax()]['Listing Broker']} | Buyer's agent: {df.loc[df['price_per_sqft'].idxmax()]['Buyer Agent']} with {df.loc[df['price_per_sqft'].idxmax()]['Buyer Broker']} | Days on market: {df.loc[df['price_per_sqft'].idxmax()]['days_on_market']}\")\n",
    "print(f\"{MIN_PSF}{BR}{df.loc[df['price_per_sqft'].idxmin()]['building_name']}, {df.loc[df['price_per_sqft'].idxmin()]['address']} | Price ${df.loc[df['price_per_sqft'].idxmin()]['int_Sale_Price']:,.0f} | ${df.loc[df['price_per_sqft'].idxmin()]['price_per_sqft']:,.0f} psf | Listing agent: {df.loc[df['price_per_sqft'].idxmin()]['Agent']} with {df.loc[df['price_per_sqft'].idxmin()]['Listing Broker']} | Buyer's agent: {df.loc[df['price_per_sqft'].idxmin()]['Buyer Agent']} with {df.loc[df['price_per_sqft'].idxmin()]['Buyer Broker']} | Days on market: {df.loc[df['price_per_sqft'].idxmin()]['days_on_market']}\")\n",
    "### Highest and lowest days on market ###\n",
    "print(f\"{DAYS_MAX}{BR}{df.loc[df['days_on_market'].idxmax()]['building_name']}, {df.loc[df['days_on_market'].idxmax()]['address']} | Price ${df.loc[df['days_on_market'].idxmax()]['int_Sale_Price']:,.0f} | ${df.loc[df['days_on_market'].idxmax()]['price_per_sqft']:,.0f} psf | Listing agent: {df.loc[df['days_on_market'].idxmax()]['Agent']} with {df.loc[df['days_on_market'].idxmax()]['Listing Broker']} | Buyer's agent: {df.loc[df['days_on_market'].idxmax()]['Buyer Agent']} with {df.loc[df['days_on_market'].idxmax()]['Buyer Broker']} | Days on market: {df.loc[df['days_on_market'].idxmax()]['days_on_market']}\")\n",
    "print(f\"{DAYS_MIN}{BR}{df.loc[df['days_on_market'].idxmin()]['building_name']}, {df.loc[df['days_on_market'].idxmin()]['address']} | Price ${df.loc[df['days_on_market'].idxmin()]['int_Sale_Price']:,.0f} | ${df.loc[df['days_on_market'].idxmin()]['price_per_sqft']:,.0f} psf | Listing agent: {df.loc[df['days_on_market'].idxmin()]['Agent']} with {df.loc[df['days_on_market'].idxmin()]['Listing Broker']} | Buyer's agent: {df.loc[df['days_on_market'].idxmin()]['Buyer Agent']} with {df.loc[df['days_on_market'].idxmin()]['Buyer Broker']} | Days on market: {df.loc[df['days_on_market'].idxmin()]['days_on_market']}\")"
   ]
  },
  {
   "cell_type": "markdown",
   "metadata": {},
   "source": [
    "## Map URL snagger"
   ]
  },
  {
   "cell_type": "markdown",
   "metadata": {},
   "source": [
    "Map template URL: `https://trd-digital.github.io/trd-news-interactive-maps/{map-folder-name}`"
   ]
  },
  {
   "cell_type": "code",
   "execution_count": 22,
   "metadata": {},
   "outputs": [],
   "source": [
    "base_name = 'https://trd-digital.github.io/trd-news-interactive-maps/'"
   ]
  },
  {
   "cell_type": "code",
   "execution_count": 23,
   "metadata": {},
   "outputs": [
    {
     "name": "stdout",
     "output_type": "stream",
     "text": [
      "https://trd-digital.github.io/trd-news-interactive-maps/condo_sales_week_ending_08122023\n"
     ]
    }
   ],
   "source": [
    "cwd = os.getcwd()\n",
    "\n",
    "cwd = cwd.split('/')\n",
    "\n",
    "final_name = base_name + cwd[-1]\n",
    "print(final_name)"
   ]
  }
 ],
 "metadata": {
  "kernelspec": {
   "display_name": "Python 3 (ipykernel)",
   "language": "python",
   "name": "python3"
  },
  "language_info": {
   "codemirror_mode": {
    "name": "ipython",
    "version": 3
   },
   "file_extension": ".py",
   "mimetype": "text/x-python",
   "name": "python",
   "nbconvert_exporter": "python",
   "pygments_lexer": "ipython3",
   "version": "3.9.12"
  },
  "toc": {
   "base_numbering": 1,
   "nav_menu": {},
   "number_sections": true,
   "sideBar": true,
   "skip_h1_title": false,
   "title_cell": "Table of Contents",
   "title_sidebar": "Contents",
   "toc_cell": false,
   "toc_position": {},
   "toc_section_display": true,
   "toc_window_display": false
  }
 },
 "nbformat": 4,
 "nbformat_minor": 4
}
