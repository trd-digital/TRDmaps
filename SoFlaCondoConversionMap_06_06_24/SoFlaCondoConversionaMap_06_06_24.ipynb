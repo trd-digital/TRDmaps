{
 "cells": [
  {
   "cell_type": "markdown",
   "id": "d857546b",
   "metadata": {},
   "source": [
    "## Imports"
   ]
  },
  {
   "cell_type": "code",
   "execution_count": 1,
   "id": "ba12a980",
   "metadata": {},
   "outputs": [],
   "source": [
    "import pandas as pd\n",
    "import geopandas as gpd\n",
    "import os\n",
    "from geopy.geocoders import GoogleV3\n",
    "import geocoder\n",
    "from shapely.geometry import Point\n",
    "from textwrap import shorten"
   ]
  },
  {
   "cell_type": "markdown",
   "id": "cd0cf20d",
   "metadata": {},
   "source": [
    "## Data read-in"
   ]
  },
  {
   "cell_type": "code",
   "execution_count": 2,
   "id": "dd909a27",
   "metadata": {},
   "outputs": [],
   "source": [
    "df = pd.read_csv(\"Condo conversion map - Sheet1.csv\")"
   ]
  },
  {
   "cell_type": "markdown",
   "id": "690eef51",
   "metadata": {},
   "source": [
    "## Data work"
   ]
  },
  {
   "cell_type": "code",
   "execution_count": 3,
   "id": "eac52c61",
   "metadata": {},
   "outputs": [],
   "source": [
    "# df = df.rename(columns={'2021 vaue':'2021 value',\n",
    "#                        '2024 value ':'2024 value',\n",
    "#                        'percent change in initial assessment ':'percent change in initial assessment'})"
   ]
  },
  {
   "cell_type": "code",
   "execution_count": 4,
   "id": "d46b2eae",
   "metadata": {},
   "outputs": [
    {
     "data": {
      "text/plain": [
       "Index(['full_address', 'project name', 'developers', 'description',\n",
       "       'story_link'],\n",
       "      dtype='object')"
      ]
     },
     "execution_count": 4,
     "metadata": {},
     "output_type": "execute_result"
    }
   ],
   "source": [
    "df.columns"
   ]
  },
  {
   "cell_type": "markdown",
   "id": "07c342cf",
   "metadata": {},
   "source": [
    "## Article link formatter"
   ]
  },
  {
   "cell_type": "code",
   "execution_count": 5,
   "id": "02e5a892",
   "metadata": {},
   "outputs": [
    {
     "data": {
      "text/plain": [
       "0    <a href=\"https://therealdeal.com/miami/2024/05...\n",
       "1    <a href=\"https://therealdeal.com/miami/2024/04...\n",
       "2    <a href=\"https://therealdeal.com/miami/2024/02...\n",
       "3    <a href=\"https://therealdeal.com/miami/2022/07...\n",
       "Name: description_link, dtype: object"
      ]
     },
     "execution_count": 5,
     "metadata": {},
     "output_type": "execute_result"
    }
   ],
   "source": [
    "df[\"short_description\"] = df[\"description\"].apply(lambda s: shorten(s, width=20, placeholder=\"\"))\n",
    "df['remaining_desc'] = df.apply(lambda row : row['description'].replace(str(row['short_description']), ''), axis=1)\n",
    "df['remaining_desc']\n",
    "\n",
    "df[\"description_link\"] = '<a href=\"' + df[\"story_link\"] + '\" target=\"_blank\" rel=\"noopener noreferrer\">' + df[\"short_description\"] + \"</a>\" + df[\"remaining_desc\"]\n",
    "df['description_link']"
   ]
  },
  {
   "cell_type": "code",
   "execution_count": 6,
   "id": "3d57a88d",
   "metadata": {},
   "outputs": [],
   "source": [
    "df = df.fillna('Not available')"
   ]
  },
  {
   "cell_type": "code",
   "execution_count": 7,
   "id": "69872e53",
   "metadata": {},
   "outputs": [
    {
     "data": {
      "text/plain": [
       "0    <a href=\"https://therealdeal.com/miami/2024/05...\n",
       "1    <a href=\"https://therealdeal.com/miami/2024/04...\n",
       "2    <a href=\"https://therealdeal.com/miami/2024/02...\n",
       "3    <a href=\"https://therealdeal.com/miami/2022/07...\n",
       "Name: description_link, dtype: object"
      ]
     },
     "execution_count": 7,
     "metadata": {},
     "output_type": "execute_result"
    }
   ],
   "source": [
    "df[\"short_description\"] = df[\"description\"].apply(lambda s: shorten(s, width=20, placeholder=\"\"))\n",
    "df['remaining_desc'] = df.apply(lambda row : row['description'].replace(str(row['short_description']), ''), axis=1)\n",
    "df['remaining_desc']\n",
    "\n",
    "df[\"description_link\"] = '<a href=\"' + df[\"story_link\"] + '\" target=\"_blank\" rel=\"noopener noreferrer\">' + df[\"short_description\"] + \"</a>\" + df[\"remaining_desc\"]\n",
    "df['description_link']"
   ]
  },
  {
   "cell_type": "code",
   "execution_count": 8,
   "id": "4be47a07",
   "metadata": {},
   "outputs": [],
   "source": [
    "df['address_full'] = df['full_address'] + ' FL'"
   ]
  },
  {
   "cell_type": "code",
   "execution_count": 9,
   "id": "203d3a82",
   "metadata": {},
   "outputs": [],
   "source": [
    "%store -r google_maps_API_Key\n",
    "geolocator = GoogleV3(api_key=google_maps_API_Key)"
   ]
  },
  {
   "cell_type": "code",
   "execution_count": 10,
   "id": "1e56d6df",
   "metadata": {},
   "outputs": [],
   "source": [
    "df['geocoded'] = df['address_full'].apply(geolocator.geocode, timeout=10)"
   ]
  },
  {
   "cell_type": "code",
   "execution_count": 11,
   "id": "9e2f2e5c",
   "metadata": {},
   "outputs": [],
   "source": [
    "df['point'] = df['geocoded'].apply(lambda loc: tuple(loc.point) if loc else None)"
   ]
  },
  {
   "cell_type": "code",
   "execution_count": 12,
   "id": "bab21e70",
   "metadata": {},
   "outputs": [],
   "source": [
    "df[['lat','lon','altitude']] = pd.DataFrame(df['point'].to_list(),index=df.index)"
   ]
  },
  {
   "cell_type": "code",
   "execution_count": 13,
   "id": "d573914c",
   "metadata": {},
   "outputs": [
    {
     "data": {
      "text/html": [
       "<div>\n",
       "<style scoped>\n",
       "    .dataframe tbody tr th:only-of-type {\n",
       "        vertical-align: middle;\n",
       "    }\n",
       "\n",
       "    .dataframe tbody tr th {\n",
       "        vertical-align: top;\n",
       "    }\n",
       "\n",
       "    .dataframe thead th {\n",
       "        text-align: right;\n",
       "    }\n",
       "</style>\n",
       "<table border=\"1\" class=\"dataframe\">\n",
       "  <thead>\n",
       "    <tr style=\"text-align: right;\">\n",
       "      <th></th>\n",
       "      <th>full_address</th>\n",
       "      <th>project name</th>\n",
       "      <th>developers</th>\n",
       "      <th>description</th>\n",
       "      <th>story_link</th>\n",
       "      <th>short_description</th>\n",
       "      <th>remaining_desc</th>\n",
       "      <th>description_link</th>\n",
       "      <th>address_full</th>\n",
       "      <th>geocoded</th>\n",
       "      <th>point</th>\n",
       "      <th>lat</th>\n",
       "      <th>lon</th>\n",
       "      <th>altitude</th>\n",
       "      <th>geometry</th>\n",
       "    </tr>\n",
       "  </thead>\n",
       "  <tbody>\n",
       "    <tr>\n",
       "      <th>0</th>\n",
       "      <td>1451 Northwest 14th Street in Miami</td>\n",
       "      <td>River District 14</td>\n",
       "      <td>Alta Development</td>\n",
       "      <td>Henry Pino's firm plans a 16-story, 283-unit s...</td>\n",
       "      <td>https://therealdeal.com/miami/2024/05/01/henry...</td>\n",
       "      <td>Henry Pino's firm</td>\n",
       "      <td>plans a 16-story, 283-unit short-term rental-...</td>\n",
       "      <td>&lt;a href=\"https://therealdeal.com/miami/2024/05...</td>\n",
       "      <td>1451 Northwest 14th Street in Miami FL</td>\n",
       "      <td>(1451 NW 14th St, Miami, FL 33125, USA, (25.78...</td>\n",
       "      <td>(25.78767, -80.21982799999999, 0.0)</td>\n",
       "      <td>25.787670</td>\n",
       "      <td>-80.219828</td>\n",
       "      <td>0.0</td>\n",
       "      <td>POINT (-80.21983 25.78767)</td>\n",
       "    </tr>\n",
       "    <tr>\n",
       "      <th>1</th>\n",
       "      <td>4011 Salzedo Avenue in Coral Gables</td>\n",
       "      <td>Cassia</td>\n",
       "      <td>Alta Developers</td>\n",
       "      <td>Alta Developers launched sales of Cassia, a pl...</td>\n",
       "      <td>https://therealdeal.com/miami/2024/04/25/alta-...</td>\n",
       "      <td>Alta Developers</td>\n",
       "      <td>launched sales of Cassia, a planned 12-story,...</td>\n",
       "      <td>&lt;a href=\"https://therealdeal.com/miami/2024/04...</td>\n",
       "      <td>4011 Salzedo Avenue in Coral Gables FL</td>\n",
       "      <td>(4011 Salzedo St, Coral Gables, FL 33146, USA,...</td>\n",
       "      <td>(25.7347112, -80.26037099999999, 0.0)</td>\n",
       "      <td>25.734711</td>\n",
       "      <td>-80.260371</td>\n",
       "      <td>0.0</td>\n",
       "      <td>POINT (-80.26037 25.73471)</td>\n",
       "    </tr>\n",
       "    <tr>\n",
       "      <th>2</th>\n",
       "      <td>1776 Polk Street in Hollywood</td>\n",
       "      <td>Circ Residences</td>\n",
       "      <td>GCF Development</td>\n",
       "      <td>Chip Abele's GCF Development completed the 25-...</td>\n",
       "      <td>https://therealdeal.com/miami/2024/02/08/chip-...</td>\n",
       "      <td>Chip Abele's GCF</td>\n",
       "      <td>Development completed the 25-story, 386-unit ...</td>\n",
       "      <td>&lt;a href=\"https://therealdeal.com/miami/2024/02...</td>\n",
       "      <td>1776 Polk Street in Hollywood FL</td>\n",
       "      <td>(1776 Polk St, Hollywood, FL 33020, USA, (26.0...</td>\n",
       "      <td>(26.0133029, -80.1423733, 0.0)</td>\n",
       "      <td>26.013303</td>\n",
       "      <td>-80.142373</td>\n",
       "      <td>0.0</td>\n",
       "      <td>POINT (-80.14237 26.01330)</td>\n",
       "    </tr>\n",
       "    <tr>\n",
       "      <th>3</th>\n",
       "      <td>398 Northeast Fifth Street in Miami</td>\n",
       "      <td>The Elser Hotel &amp; Residences</td>\n",
       "      <td>PMG</td>\n",
       "      <td>PMG changed course with its Society Biscayne a...</td>\n",
       "      <td>https://therealdeal.com/miami/2022/07/06/chang...</td>\n",
       "      <td>PMG changed course</td>\n",
       "      <td>with its Society Biscayne apartment tower in ...</td>\n",
       "      <td>&lt;a href=\"https://therealdeal.com/miami/2022/07...</td>\n",
       "      <td>398 Northeast Fifth Street in Miami FL</td>\n",
       "      <td>(398 NE 5th St, Miami, FL 33132, USA, (25.7788...</td>\n",
       "      <td>(25.7788802, -80.1890556, 0.0)</td>\n",
       "      <td>25.778880</td>\n",
       "      <td>-80.189056</td>\n",
       "      <td>0.0</td>\n",
       "      <td>POINT (-80.18906 25.77888)</td>\n",
       "    </tr>\n",
       "  </tbody>\n",
       "</table>\n",
       "</div>"
      ],
      "text/plain": [
       "                          full_address                  project name  \\\n",
       "0  1451 Northwest 14th Street in Miami             River District 14   \n",
       "1  4011 Salzedo Avenue in Coral Gables                       Cassia    \n",
       "2        1776 Polk Street in Hollywood               Circ Residences   \n",
       "3  398 Northeast Fifth Street in Miami  The Elser Hotel & Residences   \n",
       "\n",
       "         developers                                        description  \\\n",
       "0  Alta Development  Henry Pino's firm plans a 16-story, 283-unit s...   \n",
       "1   Alta Developers  Alta Developers launched sales of Cassia, a pl...   \n",
       "2   GCF Development  Chip Abele's GCF Development completed the 25-...   \n",
       "3               PMG  PMG changed course with its Society Biscayne a...   \n",
       "\n",
       "                                          story_link   short_description  \\\n",
       "0  https://therealdeal.com/miami/2024/05/01/henry...   Henry Pino's firm   \n",
       "1  https://therealdeal.com/miami/2024/04/25/alta-...     Alta Developers   \n",
       "2  https://therealdeal.com/miami/2024/02/08/chip-...    Chip Abele's GCF   \n",
       "3  https://therealdeal.com/miami/2022/07/06/chang...  PMG changed course   \n",
       "\n",
       "                                      remaining_desc  \\\n",
       "0   plans a 16-story, 283-unit short-term rental-...   \n",
       "1   launched sales of Cassia, a planned 12-story,...   \n",
       "2   Development completed the 25-story, 386-unit ...   \n",
       "3   with its Society Biscayne apartment tower in ...   \n",
       "\n",
       "                                    description_link  \\\n",
       "0  <a href=\"https://therealdeal.com/miami/2024/05...   \n",
       "1  <a href=\"https://therealdeal.com/miami/2024/04...   \n",
       "2  <a href=\"https://therealdeal.com/miami/2024/02...   \n",
       "3  <a href=\"https://therealdeal.com/miami/2022/07...   \n",
       "\n",
       "                             address_full  \\\n",
       "0  1451 Northwest 14th Street in Miami FL   \n",
       "1  4011 Salzedo Avenue in Coral Gables FL   \n",
       "2        1776 Polk Street in Hollywood FL   \n",
       "3  398 Northeast Fifth Street in Miami FL   \n",
       "\n",
       "                                            geocoded  \\\n",
       "0  (1451 NW 14th St, Miami, FL 33125, USA, (25.78...   \n",
       "1  (4011 Salzedo St, Coral Gables, FL 33146, USA,...   \n",
       "2  (1776 Polk St, Hollywood, FL 33020, USA, (26.0...   \n",
       "3  (398 NE 5th St, Miami, FL 33132, USA, (25.7788...   \n",
       "\n",
       "                                   point        lat        lon  altitude  \\\n",
       "0    (25.78767, -80.21982799999999, 0.0)  25.787670 -80.219828       0.0   \n",
       "1  (25.7347112, -80.26037099999999, 0.0)  25.734711 -80.260371       0.0   \n",
       "2         (26.0133029, -80.1423733, 0.0)  26.013303 -80.142373       0.0   \n",
       "3         (25.7788802, -80.1890556, 0.0)  25.778880 -80.189056       0.0   \n",
       "\n",
       "                     geometry  \n",
       "0  POINT (-80.21983 25.78767)  \n",
       "1  POINT (-80.26037 25.73471)  \n",
       "2  POINT (-80.14237 26.01330)  \n",
       "3  POINT (-80.18906 25.77888)  "
      ]
     },
     "execution_count": 13,
     "metadata": {},
     "output_type": "execute_result"
    }
   ],
   "source": [
    "gdf = gpd.GeoDataFrame(df, geometry=gpd.points_from_xy(df.lon, df.lat))\n",
    "\n",
    "# Optionally, set the coordinate reference system (CRS) for the GeoDataFrame\n",
    "gdf.set_crs(epsg=4326, inplace=True)  # EPSG 4326 is the standard WGS 84 latitude and longitude system"
   ]
  },
  {
   "cell_type": "code",
   "execution_count": 14,
   "id": "40a1ed3c",
   "metadata": {},
   "outputs": [],
   "source": [
    "gdf[['geocoded','point']] = gdf[['geocoded','point']].astype(str)"
   ]
  },
  {
   "cell_type": "code",
   "execution_count": 15,
   "id": "777ec3b8",
   "metadata": {},
   "outputs": [],
   "source": [
    "# Export to GeoJSON\n",
    "gdf.to_file(\"SoFlaCondoconversions_06_06_24.geojson\", driver='GeoJSON')"
   ]
  }
 ],
 "metadata": {
  "kernelspec": {
   "display_name": "Python 3 (ipykernel)",
   "language": "python",
   "name": "python3"
  },
  "language_info": {
   "codemirror_mode": {
    "name": "ipython",
    "version": 3
   },
   "file_extension": ".py",
   "mimetype": "text/x-python",
   "name": "python",
   "nbconvert_exporter": "python",
   "pygments_lexer": "ipython3",
   "version": "3.9.12"
  }
 },
 "nbformat": 4,
 "nbformat_minor": 5
}
