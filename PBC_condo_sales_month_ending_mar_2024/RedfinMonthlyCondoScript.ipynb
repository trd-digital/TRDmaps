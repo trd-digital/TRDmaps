{
 "cells": [
  {
   "cell_type": "markdown",
   "id": "282c57c3",
   "metadata": {},
   "source": [
    "## Imports"
   ]
  },
  {
   "cell_type": "code",
   "execution_count": 1,
   "id": "54c15242",
   "metadata": {},
   "outputs": [],
   "source": [
    "import pandas as pd\n",
    "import numpy as np\n",
    "import re\n",
    "import os\n",
    "import folium\n",
    "import geopandas as gpd\n",
    "import glob\n",
    "from datetime import datetime, timedelta"
   ]
  },
  {
   "cell_type": "markdown",
   "id": "7c620cf8",
   "metadata": {},
   "source": [
    "## Data Read-in"
   ]
  },
  {
   "cell_type": "code",
   "execution_count": 2,
   "id": "788cfd9b",
   "metadata": {},
   "outputs": [
    {
     "name": "stdout",
     "output_type": "stream",
     "text": [
      "2205\n"
     ]
    }
   ],
   "source": [
    "csv_files = glob.glob('*.csv')\n",
    "\n",
    "df_list = []\n",
    "\n",
    "for csv_file in csv_files:\n",
    "    df = pd.read_csv(csv_file)\n",
    "    df_list.append(df)\n",
    "    \n",
    "df = pd.concat(df_list,ignore_index=True)\n",
    "\n",
    "print(len(df))"
   ]
  },
  {
   "cell_type": "code",
   "execution_count": 3,
   "id": "563417a4",
   "metadata": {},
   "outputs": [],
   "source": [
    "gdf = gpd.read_file('Palm_Beach_County_Boundary.geojson')"
   ]
  },
  {
   "cell_type": "markdown",
   "id": "5cdf738a",
   "metadata": {},
   "source": [
    "## Previous month's values\n",
    "\n",
    "Get values from here:\n",
    "\n",
    "https://docs.google.com/spreadsheets/d/1GWlqTIzCB29pDVDjd-iBVejVGGsLiAd0P6fq4LM83WI/edit?usp=sharing"
   ]
  },
  {
   "cell_type": "code",
   "execution_count": 4,
   "id": "7bbbad1d",
   "metadata": {},
   "outputs": [
    {
     "name": "stdout",
     "output_type": "stream",
     "text": [
      "Input County Name:\n",
      "Palm Beach County\n"
     ]
    }
   ],
   "source": [
    "print('Input County Name:')\n",
    "county_name = input()"
   ]
  },
  {
   "cell_type": "code",
   "execution_count": 5,
   "id": "1cd3e074",
   "metadata": {},
   "outputs": [
    {
     "name": "stdout",
     "output_type": "stream",
     "text": [
      "Input total condo units sold previous (not last) month:\n",
      "553\n"
     ]
    }
   ],
   "source": [
    "print('Input total condo units sold previous (not last) month:')\n",
    "total_condos_sold_2nd_month = input()"
   ]
  },
  {
   "cell_type": "code",
   "execution_count": 6,
   "id": "229637ce",
   "metadata": {},
   "outputs": [
    {
     "name": "stdout",
     "output_type": "stream",
     "text": [
      "Input total sales volume ($$$ million) from previous (not last) month:\n",
      "266000000\n"
     ]
    }
   ],
   "source": [
    "print('Input total sales volume ($$$ million) from previous (not last) month:')\n",
    "sales_volume_2nd_month = input()"
   ]
  },
  {
   "cell_type": "code",
   "execution_count": 7,
   "id": "081faeec",
   "metadata": {},
   "outputs": [
    {
     "name": "stdout",
     "output_type": "stream",
     "text": [
      "Input median sales price from previous (not last) month:\n",
      "280000\n"
     ]
    }
   ],
   "source": [
    "print('Input median sales price from previous (not last) month:')\n",
    "median_sales_price_2nd_month = input()"
   ]
  },
  {
   "cell_type": "code",
   "execution_count": 8,
   "id": "cdac5fe9",
   "metadata": {},
   "outputs": [
    {
     "name": "stdout",
     "output_type": "stream",
     "text": [
      "Input median psf from previous (not last) month:\n",
      "246\n"
     ]
    }
   ],
   "source": [
    "print('Input median psf from previous (not last) month:')\n",
    "median_psf_2nd_month = input()"
   ]
  },
  {
   "cell_type": "markdown",
   "id": "b03ce742",
   "metadata": {},
   "source": [
    "## Data Clean"
   ]
  },
  {
   "cell_type": "code",
   "execution_count": 9,
   "id": "1f2a52a3",
   "metadata": {},
   "outputs": [],
   "source": [
    "df = df.rename(columns={'URL (SEE https://www.redfin.com/buy-a-home/comparative-market-analysis FOR INFO ON PRICING)':'URL'})"
   ]
  },
  {
   "cell_type": "code",
   "execution_count": 10,
   "id": "5f45bf08",
   "metadata": {},
   "outputs": [],
   "source": [
    "df = df.dropna(subset=['SOLD DATE'])"
   ]
  },
  {
   "cell_type": "code",
   "execution_count": 11,
   "id": "25d1852d",
   "metadata": {},
   "outputs": [
    {
     "name": "stdout",
     "output_type": "stream",
     "text": [
      "Report month: March ---- Month before report month: February\n"
     ]
    }
   ],
   "source": [
    "# Get the current date\n",
    "current_date = datetime.now()\n",
    "\n",
    "# Calculate the first day of the current month\n",
    "first_day_of_current_month = current_date.replace(day=1)\n",
    "\n",
    "# Get the last day of the previous month by subtracting one day from the first day of the current month\n",
    "last_day_of_previous_month = first_day_of_current_month - timedelta(days=1)\n",
    "\n",
    "# Get the month name of the previous month\n",
    "previous_month_name = last_day_of_previous_month.strftime(\"%B\")\n",
    "\n",
    "# ---- Get the name of the month, as a string, from two months ago.\n",
    "# ---- Meaning, if the current month is January, return November.\n",
    "\n",
    "# Get the first day of the previous month by subtracting one day from the first day of the current month\n",
    "first_day_of_previous_month = first_day_of_current_month - timedelta(days=1)\n",
    "\n",
    "# Get the first day of the month before the last by subtracting one day from the first day of the previous month\n",
    "first_day_of_month_before_last = first_day_of_previous_month.replace(day=1) - timedelta(days=1)\n",
    "\n",
    "# Get the month name of the month before the last\n",
    "month_before_last_name = first_day_of_month_before_last.strftime(\"%B\")\n",
    "\n",
    "print(f'Report month: {previous_month_name} ---- Month before report month: {month_before_last_name}')"
   ]
  },
  {
   "cell_type": "code",
   "execution_count": 12,
   "id": "9b9d20ba",
   "metadata": {},
   "outputs": [],
   "source": [
    "# Define list of desired months (excluding current month)\n",
    "desired_months = [previous_month_name]\n",
    "\n",
    "# Filter DataFrame to include only entries from desired months\n",
    "df_filtered = df[df['SOLD DATE'].str.split('-', expand=True)[0].isin(desired_months)]\n",
    "\n",
    "# Reset the index\n",
    "df_filtered = df_filtered.reset_index(drop=True)"
   ]
  },
  {
   "cell_type": "code",
   "execution_count": 13,
   "id": "ab2d002c",
   "metadata": {},
   "outputs": [
    {
     "name": "stdout",
     "output_type": "stream",
     "text": [
      "PRICE\n",
      "False    714\n",
      "Name: count, dtype: int64\n",
      "-------\n",
      "$/SQUARE FEET\n",
      "False    712\n",
      "True       2\n",
      "Name: count, dtype: int64\n",
      "-------\n",
      "YEAR BUILT\n",
      "False    714\n",
      "Name: count, dtype: int64\n",
      "-------\n"
     ]
    }
   ],
   "source": [
    "# Data checks\n",
    "print(df_filtered['PRICE'].isna().value_counts())\n",
    "print('-------')\n",
    "print(df_filtered['$/SQUARE FEET'].isna().value_counts())\n",
    "print('-------')\n",
    "print(df_filtered['YEAR BUILT'].isna().value_counts())\n",
    "print('-------')"
   ]
  },
  {
   "cell_type": "code",
   "execution_count": 14,
   "id": "446eb268",
   "metadata": {},
   "outputs": [
    {
     "name": "stdout",
     "output_type": "stream",
     "text": [
      "https://www.redfin.com/FL/North-Palm-Beach/3-Water-Club-Way-33408/unit-1502/home/178011154\n"
     ]
    }
   ],
   "source": [
    "sorted_df = df_filtered.sort_values(by='YEAR BUILT', ascending=False)\n",
    "second_newest_building = sorted_df.iloc[2]\n",
    "print(second_newest_building['URL'])"
   ]
  },
  {
   "cell_type": "code",
   "execution_count": 15,
   "id": "61663e76",
   "metadata": {},
   "outputs": [
    {
     "data": {
      "text/html": [
       "<div>\n",
       "<style scoped>\n",
       "    .dataframe tbody tr th:only-of-type {\n",
       "        vertical-align: middle;\n",
       "    }\n",
       "\n",
       "    .dataframe tbody tr th {\n",
       "        vertical-align: top;\n",
       "    }\n",
       "\n",
       "    .dataframe thead th {\n",
       "        text-align: right;\n",
       "    }\n",
       "</style>\n",
       "<table border=\"1\" class=\"dataframe\">\n",
       "  <thead>\n",
       "    <tr style=\"text-align: right;\">\n",
       "      <th></th>\n",
       "      <th>SALE TYPE</th>\n",
       "      <th>SOLD DATE</th>\n",
       "      <th>PROPERTY TYPE</th>\n",
       "      <th>ADDRESS</th>\n",
       "      <th>CITY</th>\n",
       "      <th>STATE OR PROVINCE</th>\n",
       "      <th>ZIP OR POSTAL CODE</th>\n",
       "      <th>PRICE</th>\n",
       "      <th>BEDS</th>\n",
       "      <th>BATHS</th>\n",
       "      <th>...</th>\n",
       "      <th>STATUS</th>\n",
       "      <th>NEXT OPEN HOUSE START TIME</th>\n",
       "      <th>NEXT OPEN HOUSE END TIME</th>\n",
       "      <th>URL</th>\n",
       "      <th>SOURCE</th>\n",
       "      <th>MLS#</th>\n",
       "      <th>FAVORITE</th>\n",
       "      <th>INTERESTED</th>\n",
       "      <th>LATITUDE</th>\n",
       "      <th>LONGITUDE</th>\n",
       "    </tr>\n",
       "  </thead>\n",
       "  <tbody>\n",
       "  </tbody>\n",
       "</table>\n",
       "<p>0 rows × 27 columns</p>\n",
       "</div>"
      ],
      "text/plain": [
       "Empty DataFrame\n",
       "Columns: [SALE TYPE, SOLD DATE, PROPERTY TYPE, ADDRESS, CITY, STATE OR PROVINCE, ZIP OR POSTAL CODE, PRICE, BEDS, BATHS, LOCATION, SQUARE FEET, LOT SIZE, YEAR BUILT, DAYS ON MARKET, $/SQUARE FEET, HOA/MONTH, STATUS, NEXT OPEN HOUSE START TIME, NEXT OPEN HOUSE END TIME, URL, SOURCE, MLS#, FAVORITE, INTERESTED, LATITUDE, LONGITUDE]\n",
       "Index: []\n",
       "\n",
       "[0 rows x 27 columns]"
      ]
     },
     "execution_count": 15,
     "metadata": {},
     "output_type": "execute_result"
    }
   ],
   "source": [
    "df_filtered.loc[df_filtered['PRICE'] == '0']"
   ]
  },
  {
   "cell_type": "code",
   "execution_count": 16,
   "id": "b0376d17",
   "metadata": {},
   "outputs": [],
   "source": [
    "df_filtered['PRICE'] = pd.to_numeric(df_filtered['PRICE'])\n",
    "df_filtered['$/SQUARE FEET'] = pd.to_numeric(df_filtered['$/SQUARE FEET'])\n",
    "df_filtered['YEAR BUILT'] = pd.to_numeric(df_filtered['YEAR BUILT'])\n",
    "df_filtered['LATITUDE'] = pd.to_numeric(df_filtered['LATITUDE'])\n",
    "df_filtered['LONGITUDE'] = pd.to_numeric(df_filtered['LONGITUDE'])"
   ]
  },
  {
   "cell_type": "code",
   "execution_count": 17,
   "id": "22be7f44",
   "metadata": {},
   "outputs": [],
   "source": [
    "df_filtered = df_filtered.drop_duplicates().reset_index(drop=True)"
   ]
  },
  {
   "cell_type": "code",
   "execution_count": 18,
   "id": "a5e15306",
   "metadata": {},
   "outputs": [
    {
     "data": {
      "text/html": [
       "<div>\n",
       "<style scoped>\n",
       "    .dataframe tbody tr th:only-of-type {\n",
       "        vertical-align: middle;\n",
       "    }\n",
       "\n",
       "    .dataframe tbody tr th {\n",
       "        vertical-align: top;\n",
       "    }\n",
       "\n",
       "    .dataframe thead th {\n",
       "        text-align: right;\n",
       "    }\n",
       "</style>\n",
       "<table border=\"1\" class=\"dataframe\">\n",
       "  <thead>\n",
       "    <tr style=\"text-align: right;\">\n",
       "      <th></th>\n",
       "      <th>SALE TYPE</th>\n",
       "      <th>SOLD DATE</th>\n",
       "      <th>PROPERTY TYPE</th>\n",
       "      <th>ADDRESS</th>\n",
       "      <th>CITY</th>\n",
       "      <th>STATE OR PROVINCE</th>\n",
       "      <th>ZIP OR POSTAL CODE</th>\n",
       "      <th>PRICE</th>\n",
       "      <th>BEDS</th>\n",
       "      <th>BATHS</th>\n",
       "      <th>...</th>\n",
       "      <th>STATUS</th>\n",
       "      <th>NEXT OPEN HOUSE START TIME</th>\n",
       "      <th>NEXT OPEN HOUSE END TIME</th>\n",
       "      <th>URL</th>\n",
       "      <th>SOURCE</th>\n",
       "      <th>MLS#</th>\n",
       "      <th>FAVORITE</th>\n",
       "      <th>INTERESTED</th>\n",
       "      <th>LATITUDE</th>\n",
       "      <th>LONGITUDE</th>\n",
       "    </tr>\n",
       "  </thead>\n",
       "  <tbody>\n",
       "    <tr>\n",
       "      <th>341</th>\n",
       "      <td>PAST SALE</td>\n",
       "      <td>March-14-2024</td>\n",
       "      <td>Condo/Co-op</td>\n",
       "      <td>1345 Crystal Way Unit A</td>\n",
       "      <td>Delray Beach</td>\n",
       "      <td>FL</td>\n",
       "      <td>33444.0</td>\n",
       "      <td>310.0</td>\n",
       "      <td>2.0</td>\n",
       "      <td>2.0</td>\n",
       "      <td>...</td>\n",
       "      <td>Sold</td>\n",
       "      <td>NaN</td>\n",
       "      <td>NaN</td>\n",
       "      <td>https://www.redfin.com/FL/Delray-Beach/1345-Cr...</td>\n",
       "      <td>Beaches MLS</td>\n",
       "      <td>RX-10939617</td>\n",
       "      <td>N</td>\n",
       "      <td>Y</td>\n",
       "      <td>26.430730</td>\n",
       "      <td>-80.087932</td>\n",
       "    </tr>\n",
       "    <tr>\n",
       "      <th>361</th>\n",
       "      <td>PAST SALE</td>\n",
       "      <td>March-28-2024</td>\n",
       "      <td>Condo/Co-op</td>\n",
       "      <td>13 Southport Ln Unit A</td>\n",
       "      <td>Boynton Beach</td>\n",
       "      <td>FL</td>\n",
       "      <td>33436.0</td>\n",
       "      <td>50000.0</td>\n",
       "      <td>2.0</td>\n",
       "      <td>2.0</td>\n",
       "      <td>...</td>\n",
       "      <td>Sold</td>\n",
       "      <td>NaN</td>\n",
       "      <td>NaN</td>\n",
       "      <td>https://www.redfin.com/FL/Boynton-Beach/13-Sou...</td>\n",
       "      <td>Beaches MLS</td>\n",
       "      <td>RX-10888234</td>\n",
       "      <td>N</td>\n",
       "      <td>Y</td>\n",
       "      <td>26.485645</td>\n",
       "      <td>-80.101124</td>\n",
       "    </tr>\n",
       "    <tr>\n",
       "      <th>362</th>\n",
       "      <td>PAST SALE</td>\n",
       "      <td>March-25-2024</td>\n",
       "      <td>Condo/Co-op</td>\n",
       "      <td>2770 S Garden Dr #212</td>\n",
       "      <td>Lake Worth</td>\n",
       "      <td>FL</td>\n",
       "      <td>33461.0</td>\n",
       "      <td>65000.0</td>\n",
       "      <td>2.0</td>\n",
       "      <td>1.0</td>\n",
       "      <td>...</td>\n",
       "      <td>Sold</td>\n",
       "      <td>NaN</td>\n",
       "      <td>NaN</td>\n",
       "      <td>https://www.redfin.com/FL/Lake-Worth/2770-Gard...</td>\n",
       "      <td>Beaches MLS</td>\n",
       "      <td>RX-10898038</td>\n",
       "      <td>N</td>\n",
       "      <td>Y</td>\n",
       "      <td>26.632607</td>\n",
       "      <td>-80.084615</td>\n",
       "    </tr>\n",
       "    <tr>\n",
       "      <th>306</th>\n",
       "      <td>PAST SALE</td>\n",
       "      <td>March-8-2024</td>\n",
       "      <td>Condo/Co-op</td>\n",
       "      <td>1753 Bridgewood Dr</td>\n",
       "      <td>Boca Raton</td>\n",
       "      <td>FL</td>\n",
       "      <td>33434.0</td>\n",
       "      <td>69000.0</td>\n",
       "      <td>2.0</td>\n",
       "      <td>2.0</td>\n",
       "      <td>...</td>\n",
       "      <td>Sold</td>\n",
       "      <td>NaN</td>\n",
       "      <td>NaN</td>\n",
       "      <td>https://www.redfin.com/FL/Boca-Raton/1753-Brid...</td>\n",
       "      <td>Beaches MLS</td>\n",
       "      <td>RX-10953578</td>\n",
       "      <td>N</td>\n",
       "      <td>Y</td>\n",
       "      <td>26.373894</td>\n",
       "      <td>-80.164420</td>\n",
       "    </tr>\n",
       "    <tr>\n",
       "      <th>323</th>\n",
       "      <td>PAST SALE</td>\n",
       "      <td>March-25-2024</td>\n",
       "      <td>Condo/Co-op</td>\n",
       "      <td>5 Abbey Ln #205</td>\n",
       "      <td>Delray Beach</td>\n",
       "      <td>FL</td>\n",
       "      <td>33446.0</td>\n",
       "      <td>70000.0</td>\n",
       "      <td>1.0</td>\n",
       "      <td>1.5</td>\n",
       "      <td>...</td>\n",
       "      <td>Sold</td>\n",
       "      <td>NaN</td>\n",
       "      <td>NaN</td>\n",
       "      <td>https://www.redfin.com/FL/Delray-Beach/5-Abbey...</td>\n",
       "      <td>Beaches MLS</td>\n",
       "      <td>RX-10952505</td>\n",
       "      <td>N</td>\n",
       "      <td>Y</td>\n",
       "      <td>26.456643</td>\n",
       "      <td>-80.151157</td>\n",
       "    </tr>\n",
       "    <tr>\n",
       "      <th>339</th>\n",
       "      <td>PAST SALE</td>\n",
       "      <td>March-4-2024</td>\n",
       "      <td>Condo/Co-op</td>\n",
       "      <td>71 Canterbury C</td>\n",
       "      <td>West Palm Beach</td>\n",
       "      <td>FL</td>\n",
       "      <td>33417.0</td>\n",
       "      <td>74000.0</td>\n",
       "      <td>1.0</td>\n",
       "      <td>1.0</td>\n",
       "      <td>...</td>\n",
       "      <td>Sold</td>\n",
       "      <td>NaN</td>\n",
       "      <td>NaN</td>\n",
       "      <td>https://www.redfin.com/FL/West-Palm-Beach/71-C...</td>\n",
       "      <td>Beaches MLS</td>\n",
       "      <td>RX-10942724</td>\n",
       "      <td>N</td>\n",
       "      <td>Y</td>\n",
       "      <td>26.720227</td>\n",
       "      <td>-80.132277</td>\n",
       "    </tr>\n",
       "    <tr>\n",
       "      <th>307</th>\n",
       "      <td>PAST SALE</td>\n",
       "      <td>March-15-2024</td>\n",
       "      <td>Condo/Co-op</td>\n",
       "      <td>28 Dorchester B #28</td>\n",
       "      <td>West Palm Beach</td>\n",
       "      <td>FL</td>\n",
       "      <td>33417.0</td>\n",
       "      <td>75000.0</td>\n",
       "      <td>1.0</td>\n",
       "      <td>1.5</td>\n",
       "      <td>...</td>\n",
       "      <td>Sold</td>\n",
       "      <td>NaN</td>\n",
       "      <td>NaN</td>\n",
       "      <td>https://www.redfin.com/FL/West-Palm-Beach/28-D...</td>\n",
       "      <td>Beaches MLS</td>\n",
       "      <td>RX-10951404</td>\n",
       "      <td>N</td>\n",
       "      <td>Y</td>\n",
       "      <td>26.719434</td>\n",
       "      <td>-80.129643</td>\n",
       "    </tr>\n",
       "    <tr>\n",
       "      <th>322</th>\n",
       "      <td>PAST SALE</td>\n",
       "      <td>March-1-2024</td>\n",
       "      <td>Condo/Co-op</td>\n",
       "      <td>2300 NE 1st Ln #106</td>\n",
       "      <td>Boynton Beach</td>\n",
       "      <td>FL</td>\n",
       "      <td>33435.0</td>\n",
       "      <td>75000.0</td>\n",
       "      <td>1.0</td>\n",
       "      <td>1.5</td>\n",
       "      <td>...</td>\n",
       "      <td>Sold</td>\n",
       "      <td>NaN</td>\n",
       "      <td>NaN</td>\n",
       "      <td>https://www.redfin.com/FL/Boynton-Beach/2300-N...</td>\n",
       "      <td>Beaches MLS</td>\n",
       "      <td>F10416657</td>\n",
       "      <td>N</td>\n",
       "      <td>Y</td>\n",
       "      <td>26.550958</td>\n",
       "      <td>-80.065933</td>\n",
       "    </tr>\n",
       "    <tr>\n",
       "      <th>330</th>\n",
       "      <td>PAST SALE</td>\n",
       "      <td>March-20-2024</td>\n",
       "      <td>Condo/Co-op</td>\n",
       "      <td>628 Saxony N</td>\n",
       "      <td>Delray Beach</td>\n",
       "      <td>FL</td>\n",
       "      <td>33446.0</td>\n",
       "      <td>77000.0</td>\n",
       "      <td>2.0</td>\n",
       "      <td>2.0</td>\n",
       "      <td>...</td>\n",
       "      <td>Sold</td>\n",
       "      <td>NaN</td>\n",
       "      <td>NaN</td>\n",
       "      <td>https://www.redfin.com/FL/Delray-Beach/628-Sax...</td>\n",
       "      <td>Beaches MLS</td>\n",
       "      <td>RX-10944795</td>\n",
       "      <td>N</td>\n",
       "      <td>Y</td>\n",
       "      <td>26.440263</td>\n",
       "      <td>-80.150386</td>\n",
       "    </tr>\n",
       "    <tr>\n",
       "      <th>348</th>\n",
       "      <td>PAST SALE</td>\n",
       "      <td>March-18-2024</td>\n",
       "      <td>Condo/Co-op</td>\n",
       "      <td>154 Seville Unit G</td>\n",
       "      <td>Delray Beach</td>\n",
       "      <td>FL</td>\n",
       "      <td>33446.0</td>\n",
       "      <td>78752.0</td>\n",
       "      <td>1.0</td>\n",
       "      <td>1.0</td>\n",
       "      <td>...</td>\n",
       "      <td>Sold</td>\n",
       "      <td>NaN</td>\n",
       "      <td>NaN</td>\n",
       "      <td>https://www.redfin.com/FL/Delray-Beach/154-Sev...</td>\n",
       "      <td>Beaches MLS</td>\n",
       "      <td>RX-10935929</td>\n",
       "      <td>N</td>\n",
       "      <td>Y</td>\n",
       "      <td>26.450833</td>\n",
       "      <td>-80.147382</td>\n",
       "    </tr>\n",
       "    <tr>\n",
       "      <th>346</th>\n",
       "      <td>PAST SALE</td>\n",
       "      <td>March-8-2024</td>\n",
       "      <td>Condo/Co-op</td>\n",
       "      <td>3040 Lake Osborne Dr #210</td>\n",
       "      <td>Lake Worth Beach</td>\n",
       "      <td>FL</td>\n",
       "      <td>33461.0</td>\n",
       "      <td>80000.0</td>\n",
       "      <td>1.0</td>\n",
       "      <td>1.0</td>\n",
       "      <td>...</td>\n",
       "      <td>Sold</td>\n",
       "      <td>NaN</td>\n",
       "      <td>NaN</td>\n",
       "      <td>https://www.redfin.com/FL/Lake-Worth-Beach/304...</td>\n",
       "      <td>Beaches MLS</td>\n",
       "      <td>RX-10933155</td>\n",
       "      <td>N</td>\n",
       "      <td>Y</td>\n",
       "      <td>26.603506</td>\n",
       "      <td>-80.076842</td>\n",
       "    </tr>\n",
       "    <tr>\n",
       "      <th>352</th>\n",
       "      <td>PAST SALE</td>\n",
       "      <td>March-28-2024</td>\n",
       "      <td>Condo/Co-op</td>\n",
       "      <td>23 Saxony A #23</td>\n",
       "      <td>Delray Beach</td>\n",
       "      <td>FL</td>\n",
       "      <td>33446.0</td>\n",
       "      <td>80000.0</td>\n",
       "      <td>1.0</td>\n",
       "      <td>1.5</td>\n",
       "      <td>...</td>\n",
       "      <td>Sold</td>\n",
       "      <td>NaN</td>\n",
       "      <td>NaN</td>\n",
       "      <td>https://www.redfin.com/FL/Kings-Point/Saxony-B...</td>\n",
       "      <td>MARMLS</td>\n",
       "      <td>A11469156</td>\n",
       "      <td>N</td>\n",
       "      <td>Y</td>\n",
       "      <td>26.441555</td>\n",
       "      <td>-80.148532</td>\n",
       "    </tr>\n",
       "    <tr>\n",
       "      <th>326</th>\n",
       "      <td>PAST SALE</td>\n",
       "      <td>March-29-2024</td>\n",
       "      <td>Condo/Co-op</td>\n",
       "      <td>206 Berkshire J #206</td>\n",
       "      <td>West Palm Beach</td>\n",
       "      <td>FL</td>\n",
       "      <td>33417.0</td>\n",
       "      <td>80000.0</td>\n",
       "      <td>1.0</td>\n",
       "      <td>1.5</td>\n",
       "      <td>...</td>\n",
       "      <td>Sold</td>\n",
       "      <td>NaN</td>\n",
       "      <td>NaN</td>\n",
       "      <td>https://www.redfin.com/FL/West-Palm-Beach/206-...</td>\n",
       "      <td>Beaches MLS</td>\n",
       "      <td>RX-10956972</td>\n",
       "      <td>N</td>\n",
       "      <td>Y</td>\n",
       "      <td>26.713244</td>\n",
       "      <td>-80.133281</td>\n",
       "    </tr>\n",
       "    <tr>\n",
       "      <th>302</th>\n",
       "      <td>PAST SALE</td>\n",
       "      <td>March-1-2024</td>\n",
       "      <td>Condo/Co-op</td>\n",
       "      <td>148 Kent I</td>\n",
       "      <td>West Palm Beach</td>\n",
       "      <td>FL</td>\n",
       "      <td>33417.0</td>\n",
       "      <td>82000.0</td>\n",
       "      <td>1.0</td>\n",
       "      <td>1.0</td>\n",
       "      <td>...</td>\n",
       "      <td>Sold</td>\n",
       "      <td>NaN</td>\n",
       "      <td>NaN</td>\n",
       "      <td>https://www.redfin.com/FL/West-Palm-Beach/148-...</td>\n",
       "      <td>Beaches MLS</td>\n",
       "      <td>RX-10957086</td>\n",
       "      <td>N</td>\n",
       "      <td>Y</td>\n",
       "      <td>26.717453</td>\n",
       "      <td>-80.132345</td>\n",
       "    </tr>\n",
       "    <tr>\n",
       "      <th>363</th>\n",
       "      <td>PAST SALE</td>\n",
       "      <td>March-21-2024</td>\n",
       "      <td>Condo/Co-op</td>\n",
       "      <td>153 Sussex H #153</td>\n",
       "      <td>West Palm Beach</td>\n",
       "      <td>FL</td>\n",
       "      <td>33417.0</td>\n",
       "      <td>83000.0</td>\n",
       "      <td>1.0</td>\n",
       "      <td>1.0</td>\n",
       "      <td>...</td>\n",
       "      <td>Sold</td>\n",
       "      <td>NaN</td>\n",
       "      <td>NaN</td>\n",
       "      <td>https://www.redfin.com/FL/West-Palm-Beach/153-...</td>\n",
       "      <td>Beaches MLS</td>\n",
       "      <td>RX-10883158</td>\n",
       "      <td>N</td>\n",
       "      <td>Y</td>\n",
       "      <td>26.720161</td>\n",
       "      <td>-80.134195</td>\n",
       "    </tr>\n",
       "    <tr>\n",
       "      <th>353</th>\n",
       "      <td>PAST SALE</td>\n",
       "      <td>March-28-2024</td>\n",
       "      <td>Condo/Co-op</td>\n",
       "      <td>203 Camden I</td>\n",
       "      <td>West Palm Beach</td>\n",
       "      <td>FL</td>\n",
       "      <td>33417.0</td>\n",
       "      <td>85000.0</td>\n",
       "      <td>1.0</td>\n",
       "      <td>1.0</td>\n",
       "      <td>...</td>\n",
       "      <td>Sold</td>\n",
       "      <td>NaN</td>\n",
       "      <td>NaN</td>\n",
       "      <td>https://www.redfin.com/FL/West-Palm-Beach/203-...</td>\n",
       "      <td>Beaches MLS</td>\n",
       "      <td>RX-10927227</td>\n",
       "      <td>N</td>\n",
       "      <td>Y</td>\n",
       "      <td>26.714253</td>\n",
       "      <td>-80.135560</td>\n",
       "    </tr>\n",
       "    <tr>\n",
       "      <th>356</th>\n",
       "      <td>PAST SALE</td>\n",
       "      <td>March-7-2024</td>\n",
       "      <td>Condo/Co-op</td>\n",
       "      <td>145 Andover F #145</td>\n",
       "      <td>West Palm Beach</td>\n",
       "      <td>FL</td>\n",
       "      <td>33417.0</td>\n",
       "      <td>85000.0</td>\n",
       "      <td>1.0</td>\n",
       "      <td>1.5</td>\n",
       "      <td>...</td>\n",
       "      <td>Sold</td>\n",
       "      <td>NaN</td>\n",
       "      <td>NaN</td>\n",
       "      <td>https://www.redfin.com/FL/West-Palm-Beach/145-...</td>\n",
       "      <td>Beaches MLS</td>\n",
       "      <td>RX-10923439</td>\n",
       "      <td>N</td>\n",
       "      <td>Y</td>\n",
       "      <td>26.710681</td>\n",
       "      <td>-80.128312</td>\n",
       "    </tr>\n",
       "    <tr>\n",
       "      <th>358</th>\n",
       "      <td>PAST SALE</td>\n",
       "      <td>March-12-2024</td>\n",
       "      <td>Condo/Co-op</td>\n",
       "      <td>300 NE 26th Ave #105</td>\n",
       "      <td>Boynton Beach</td>\n",
       "      <td>FL</td>\n",
       "      <td>33435.0</td>\n",
       "      <td>85000.0</td>\n",
       "      <td>1.0</td>\n",
       "      <td>1.5</td>\n",
       "      <td>...</td>\n",
       "      <td>Sold</td>\n",
       "      <td>NaN</td>\n",
       "      <td>NaN</td>\n",
       "      <td>https://www.redfin.com/FL/Boynton-Beach/300-NE...</td>\n",
       "      <td>Beaches MLS</td>\n",
       "      <td>RX-10919863</td>\n",
       "      <td>N</td>\n",
       "      <td>Y</td>\n",
       "      <td>26.553601</td>\n",
       "      <td>-80.063140</td>\n",
       "    </tr>\n",
       "    <tr>\n",
       "      <th>318</th>\n",
       "      <td>PAST SALE</td>\n",
       "      <td>March-5-2024</td>\n",
       "      <td>Condo/Co-op</td>\n",
       "      <td>2480 Lake Osborne Dr #205</td>\n",
       "      <td>Lake Worth Beach</td>\n",
       "      <td>FL</td>\n",
       "      <td>33461.0</td>\n",
       "      <td>87500.0</td>\n",
       "      <td>1.0</td>\n",
       "      <td>1.0</td>\n",
       "      <td>...</td>\n",
       "      <td>Sold</td>\n",
       "      <td>NaN</td>\n",
       "      <td>NaN</td>\n",
       "      <td>https://www.redfin.com/FL/Lake-Worth-Beach/248...</td>\n",
       "      <td>Beaches MLS</td>\n",
       "      <td>RX-10953234</td>\n",
       "      <td>N</td>\n",
       "      <td>Y</td>\n",
       "      <td>26.609447</td>\n",
       "      <td>-80.075618</td>\n",
       "    </tr>\n",
       "    <tr>\n",
       "      <th>311</th>\n",
       "      <td>PAST SALE</td>\n",
       "      <td>March-1-2024</td>\n",
       "      <td>Condo/Co-op</td>\n",
       "      <td>170 Canterbury H</td>\n",
       "      <td>West Palm Beach</td>\n",
       "      <td>FL</td>\n",
       "      <td>33417.0</td>\n",
       "      <td>88000.0</td>\n",
       "      <td>1.0</td>\n",
       "      <td>1.0</td>\n",
       "      <td>...</td>\n",
       "      <td>Sold</td>\n",
       "      <td>NaN</td>\n",
       "      <td>NaN</td>\n",
       "      <td>https://www.redfin.com/FL/West-Palm-Beach/170-...</td>\n",
       "      <td>Beaches MLS</td>\n",
       "      <td>RX-10945597</td>\n",
       "      <td>N</td>\n",
       "      <td>Y</td>\n",
       "      <td>26.720227</td>\n",
       "      <td>-80.132277</td>\n",
       "    </tr>\n",
       "  </tbody>\n",
       "</table>\n",
       "<p>20 rows × 27 columns</p>\n",
       "</div>"
      ],
      "text/plain": [
       "     SALE TYPE      SOLD DATE PROPERTY TYPE                    ADDRESS  \\\n",
       "341  PAST SALE  March-14-2024   Condo/Co-op    1345 Crystal Way Unit A   \n",
       "361  PAST SALE  March-28-2024   Condo/Co-op     13 Southport Ln Unit A   \n",
       "362  PAST SALE  March-25-2024   Condo/Co-op      2770 S Garden Dr #212   \n",
       "306  PAST SALE   March-8-2024   Condo/Co-op         1753 Bridgewood Dr   \n",
       "323  PAST SALE  March-25-2024   Condo/Co-op            5 Abbey Ln #205   \n",
       "339  PAST SALE   March-4-2024   Condo/Co-op            71 Canterbury C   \n",
       "307  PAST SALE  March-15-2024   Condo/Co-op        28 Dorchester B #28   \n",
       "322  PAST SALE   March-1-2024   Condo/Co-op        2300 NE 1st Ln #106   \n",
       "330  PAST SALE  March-20-2024   Condo/Co-op               628 Saxony N   \n",
       "348  PAST SALE  March-18-2024   Condo/Co-op         154 Seville Unit G   \n",
       "346  PAST SALE   March-8-2024   Condo/Co-op  3040 Lake Osborne Dr #210   \n",
       "352  PAST SALE  March-28-2024   Condo/Co-op            23 Saxony A #23   \n",
       "326  PAST SALE  March-29-2024   Condo/Co-op       206 Berkshire J #206   \n",
       "302  PAST SALE   March-1-2024   Condo/Co-op                 148 Kent I   \n",
       "363  PAST SALE  March-21-2024   Condo/Co-op          153 Sussex H #153   \n",
       "353  PAST SALE  March-28-2024   Condo/Co-op               203 Camden I   \n",
       "356  PAST SALE   March-7-2024   Condo/Co-op         145 Andover F #145   \n",
       "358  PAST SALE  March-12-2024   Condo/Co-op       300 NE 26th Ave #105   \n",
       "318  PAST SALE   March-5-2024   Condo/Co-op  2480 Lake Osborne Dr #205   \n",
       "311  PAST SALE   March-1-2024   Condo/Co-op           170 Canterbury H   \n",
       "\n",
       "                 CITY STATE OR PROVINCE  ZIP OR POSTAL CODE    PRICE  BEDS  \\\n",
       "341      Delray Beach                FL             33444.0    310.0   2.0   \n",
       "361     Boynton Beach                FL             33436.0  50000.0   2.0   \n",
       "362        Lake Worth                FL             33461.0  65000.0   2.0   \n",
       "306        Boca Raton                FL             33434.0  69000.0   2.0   \n",
       "323      Delray Beach                FL             33446.0  70000.0   1.0   \n",
       "339   West Palm Beach                FL             33417.0  74000.0   1.0   \n",
       "307   West Palm Beach                FL             33417.0  75000.0   1.0   \n",
       "322     Boynton Beach                FL             33435.0  75000.0   1.0   \n",
       "330      Delray Beach                FL             33446.0  77000.0   2.0   \n",
       "348      Delray Beach                FL             33446.0  78752.0   1.0   \n",
       "346  Lake Worth Beach                FL             33461.0  80000.0   1.0   \n",
       "352      Delray Beach                FL             33446.0  80000.0   1.0   \n",
       "326   West Palm Beach                FL             33417.0  80000.0   1.0   \n",
       "302   West Palm Beach                FL             33417.0  82000.0   1.0   \n",
       "363   West Palm Beach                FL             33417.0  83000.0   1.0   \n",
       "353   West Palm Beach                FL             33417.0  85000.0   1.0   \n",
       "356   West Palm Beach                FL             33417.0  85000.0   1.0   \n",
       "358     Boynton Beach                FL             33435.0  85000.0   1.0   \n",
       "318  Lake Worth Beach                FL             33461.0  87500.0   1.0   \n",
       "311   West Palm Beach                FL             33417.0  88000.0   1.0   \n",
       "\n",
       "     BATHS  ... STATUS  NEXT OPEN HOUSE START TIME  NEXT OPEN HOUSE END TIME  \\\n",
       "341    2.0  ...   Sold                         NaN                       NaN   \n",
       "361    2.0  ...   Sold                         NaN                       NaN   \n",
       "362    1.0  ...   Sold                         NaN                       NaN   \n",
       "306    2.0  ...   Sold                         NaN                       NaN   \n",
       "323    1.5  ...   Sold                         NaN                       NaN   \n",
       "339    1.0  ...   Sold                         NaN                       NaN   \n",
       "307    1.5  ...   Sold                         NaN                       NaN   \n",
       "322    1.5  ...   Sold                         NaN                       NaN   \n",
       "330    2.0  ...   Sold                         NaN                       NaN   \n",
       "348    1.0  ...   Sold                         NaN                       NaN   \n",
       "346    1.0  ...   Sold                         NaN                       NaN   \n",
       "352    1.5  ...   Sold                         NaN                       NaN   \n",
       "326    1.5  ...   Sold                         NaN                       NaN   \n",
       "302    1.0  ...   Sold                         NaN                       NaN   \n",
       "363    1.0  ...   Sold                         NaN                       NaN   \n",
       "353    1.0  ...   Sold                         NaN                       NaN   \n",
       "356    1.5  ...   Sold                         NaN                       NaN   \n",
       "358    1.5  ...   Sold                         NaN                       NaN   \n",
       "318    1.0  ...   Sold                         NaN                       NaN   \n",
       "311    1.0  ...   Sold                         NaN                       NaN   \n",
       "\n",
       "                                                   URL       SOURCE  \\\n",
       "341  https://www.redfin.com/FL/Delray-Beach/1345-Cr...  Beaches MLS   \n",
       "361  https://www.redfin.com/FL/Boynton-Beach/13-Sou...  Beaches MLS   \n",
       "362  https://www.redfin.com/FL/Lake-Worth/2770-Gard...  Beaches MLS   \n",
       "306  https://www.redfin.com/FL/Boca-Raton/1753-Brid...  Beaches MLS   \n",
       "323  https://www.redfin.com/FL/Delray-Beach/5-Abbey...  Beaches MLS   \n",
       "339  https://www.redfin.com/FL/West-Palm-Beach/71-C...  Beaches MLS   \n",
       "307  https://www.redfin.com/FL/West-Palm-Beach/28-D...  Beaches MLS   \n",
       "322  https://www.redfin.com/FL/Boynton-Beach/2300-N...  Beaches MLS   \n",
       "330  https://www.redfin.com/FL/Delray-Beach/628-Sax...  Beaches MLS   \n",
       "348  https://www.redfin.com/FL/Delray-Beach/154-Sev...  Beaches MLS   \n",
       "346  https://www.redfin.com/FL/Lake-Worth-Beach/304...  Beaches MLS   \n",
       "352  https://www.redfin.com/FL/Kings-Point/Saxony-B...       MARMLS   \n",
       "326  https://www.redfin.com/FL/West-Palm-Beach/206-...  Beaches MLS   \n",
       "302  https://www.redfin.com/FL/West-Palm-Beach/148-...  Beaches MLS   \n",
       "363  https://www.redfin.com/FL/West-Palm-Beach/153-...  Beaches MLS   \n",
       "353  https://www.redfin.com/FL/West-Palm-Beach/203-...  Beaches MLS   \n",
       "356  https://www.redfin.com/FL/West-Palm-Beach/145-...  Beaches MLS   \n",
       "358  https://www.redfin.com/FL/Boynton-Beach/300-NE...  Beaches MLS   \n",
       "318  https://www.redfin.com/FL/Lake-Worth-Beach/248...  Beaches MLS   \n",
       "311  https://www.redfin.com/FL/West-Palm-Beach/170-...  Beaches MLS   \n",
       "\n",
       "            MLS#  FAVORITE INTERESTED   LATITUDE  LONGITUDE  \n",
       "341  RX-10939617         N          Y  26.430730 -80.087932  \n",
       "361  RX-10888234         N          Y  26.485645 -80.101124  \n",
       "362  RX-10898038         N          Y  26.632607 -80.084615  \n",
       "306  RX-10953578         N          Y  26.373894 -80.164420  \n",
       "323  RX-10952505         N          Y  26.456643 -80.151157  \n",
       "339  RX-10942724         N          Y  26.720227 -80.132277  \n",
       "307  RX-10951404         N          Y  26.719434 -80.129643  \n",
       "322    F10416657         N          Y  26.550958 -80.065933  \n",
       "330  RX-10944795         N          Y  26.440263 -80.150386  \n",
       "348  RX-10935929         N          Y  26.450833 -80.147382  \n",
       "346  RX-10933155         N          Y  26.603506 -80.076842  \n",
       "352    A11469156         N          Y  26.441555 -80.148532  \n",
       "326  RX-10956972         N          Y  26.713244 -80.133281  \n",
       "302  RX-10957086         N          Y  26.717453 -80.132345  \n",
       "363  RX-10883158         N          Y  26.720161 -80.134195  \n",
       "353  RX-10927227         N          Y  26.714253 -80.135560  \n",
       "356  RX-10923439         N          Y  26.710681 -80.128312  \n",
       "358  RX-10919863         N          Y  26.553601 -80.063140  \n",
       "318  RX-10953234         N          Y  26.609447 -80.075618  \n",
       "311  RX-10945597         N          Y  26.720227 -80.132277  \n",
       "\n",
       "[20 rows x 27 columns]"
      ]
     },
     "execution_count": 18,
     "metadata": {},
     "output_type": "execute_result"
    }
   ],
   "source": [
    "df_filtered.sort_values(by='PRICE',ascending=True).head(20)"
   ]
  },
  {
   "cell_type": "code",
   "execution_count": 22,
   "id": "e6256bce",
   "metadata": {},
   "outputs": [
    {
     "name": "stdout",
     "output_type": "stream",
     "text": [
      "https://www.redfin.com/FL/Delray-Beach/1345-Crystal-Way-33444/unit-A/home/42604321\n"
     ]
    }
   ],
   "source": [
    "print(df_filtered['URL'].iloc[341])"
   ]
  },
  {
   "cell_type": "code",
   "execution_count": 23,
   "id": "fe440217",
   "metadata": {},
   "outputs": [],
   "source": [
    "# Correct the prices, if needed\n",
    "df_filtered.at[341,'PRICE']=(310_000)\n",
    "\n",
    "# Correct the psf, if needed\n",
    "df_filtered.at[341,'$/SQUARE FEET']=(310_000/941)"
   ]
  },
  {
   "cell_type": "code",
   "execution_count": 21,
   "id": "e3877a57",
   "metadata": {},
   "outputs": [],
   "source": [
    "### If needed, drop the row with the lowest price\n",
    "# min_value_index = df_filtered['PRICE'].idxmin()\n",
    "# df_filtered = df_filtered.drop(min_value_index)"
   ]
  },
  {
   "cell_type": "code",
   "execution_count": 23,
   "id": "7e529e83",
   "metadata": {},
   "outputs": [
    {
     "name": "stdout",
     "output_type": "stream",
     "text": [
      "https://www.redfin.com/FL/Boca-Raton/1633-Bridgewood-Dr-33434/home/188163618\n"
     ]
    }
   ],
   "source": [
    "# print(df_filtered['URL'].iloc[291])"
   ]
  },
  {
   "cell_type": "code",
   "execution_count": 24,
   "id": "42d775ef",
   "metadata": {},
   "outputs": [
    {
     "data": {
      "text/html": [
       "<div>\n",
       "<style scoped>\n",
       "    .dataframe tbody tr th:only-of-type {\n",
       "        vertical-align: middle;\n",
       "    }\n",
       "\n",
       "    .dataframe tbody tr th {\n",
       "        vertical-align: top;\n",
       "    }\n",
       "\n",
       "    .dataframe thead th {\n",
       "        text-align: right;\n",
       "    }\n",
       "</style>\n",
       "<table border=\"1\" class=\"dataframe\">\n",
       "  <thead>\n",
       "    <tr style=\"text-align: right;\">\n",
       "      <th></th>\n",
       "      <th>PRICE</th>\n",
       "      <th>ADDRESS</th>\n",
       "      <th>CITY</th>\n",
       "      <th>$/SQUARE FEET</th>\n",
       "    </tr>\n",
       "  </thead>\n",
       "  <tbody>\n",
       "    <tr>\n",
       "      <th>361</th>\n",
       "      <td>50000.0</td>\n",
       "      <td>13 Southport Ln Unit A</td>\n",
       "      <td>Boynton Beach</td>\n",
       "      <td>35.0</td>\n",
       "    </tr>\n",
       "    <tr>\n",
       "      <th>306</th>\n",
       "      <td>69000.0</td>\n",
       "      <td>1753 Bridgewood Dr</td>\n",
       "      <td>Boca Raton</td>\n",
       "      <td>66.0</td>\n",
       "    </tr>\n",
       "    <tr>\n",
       "      <th>362</th>\n",
       "      <td>65000.0</td>\n",
       "      <td>2770 S Garden Dr #212</td>\n",
       "      <td>Lake Worth</td>\n",
       "      <td>73.0</td>\n",
       "    </tr>\n",
       "    <tr>\n",
       "      <th>330</th>\n",
       "      <td>77000.0</td>\n",
       "      <td>628 Saxony N</td>\n",
       "      <td>Delray Beach</td>\n",
       "      <td>85.0</td>\n",
       "    </tr>\n",
       "    <tr>\n",
       "      <th>301</th>\n",
       "      <td>110000.0</td>\n",
       "      <td>1541 NW 20th Ave #101</td>\n",
       "      <td>Delray Beach</td>\n",
       "      <td>96.0</td>\n",
       "    </tr>\n",
       "    <tr>\n",
       "      <th>322</th>\n",
       "      <td>75000.0</td>\n",
       "      <td>2300 NE 1st Ln #106</td>\n",
       "      <td>Boynton Beach</td>\n",
       "      <td>99.0</td>\n",
       "    </tr>\n",
       "    <tr>\n",
       "      <th>323</th>\n",
       "      <td>70000.0</td>\n",
       "      <td>5 Abbey Ln #205</td>\n",
       "      <td>Delray Beach</td>\n",
       "      <td>104.0</td>\n",
       "    </tr>\n",
       "    <tr>\n",
       "      <th>350</th>\n",
       "      <td>105000.0</td>\n",
       "      <td>100 Bayview Ave Unit B</td>\n",
       "      <td>Boynton Beach</td>\n",
       "      <td>105.0</td>\n",
       "    </tr>\n",
       "    <tr>\n",
       "      <th>147</th>\n",
       "      <td>145000.0</td>\n",
       "      <td>36 Southport Ln Unit F</td>\n",
       "      <td>Boynton Beach</td>\n",
       "      <td>105.0</td>\n",
       "    </tr>\n",
       "    <tr>\n",
       "      <th>352</th>\n",
       "      <td>80000.0</td>\n",
       "      <td>23 Saxony A #23</td>\n",
       "      <td>Delray Beach</td>\n",
       "      <td>105.0</td>\n",
       "    </tr>\n",
       "    <tr>\n",
       "      <th>334</th>\n",
       "      <td>95000.0</td>\n",
       "      <td>225 Bonnie Blvd #310</td>\n",
       "      <td>Palm Springs</td>\n",
       "      <td>106.0</td>\n",
       "    </tr>\n",
       "    <tr>\n",
       "      <th>348</th>\n",
       "      <td>78752.0</td>\n",
       "      <td>154 Seville Unit G</td>\n",
       "      <td>Delray Beach</td>\n",
       "      <td>108.0</td>\n",
       "    </tr>\n",
       "    <tr>\n",
       "      <th>346</th>\n",
       "      <td>80000.0</td>\n",
       "      <td>3040 Lake Osborne Dr #210</td>\n",
       "      <td>Lake Worth Beach</td>\n",
       "      <td>109.0</td>\n",
       "    </tr>\n",
       "    <tr>\n",
       "      <th>192</th>\n",
       "      <td>125000.0</td>\n",
       "      <td>14747 Cumberland Dr #108</td>\n",
       "      <td>Delray Beach</td>\n",
       "      <td>109.0</td>\n",
       "    </tr>\n",
       "    <tr>\n",
       "      <th>176</th>\n",
       "      <td>162250.0</td>\n",
       "      <td>6805 Willow Wood Dr #5054</td>\n",
       "      <td>Boca Raton</td>\n",
       "      <td>110.0</td>\n",
       "    </tr>\n",
       "    <tr>\n",
       "      <th>358</th>\n",
       "      <td>85000.0</td>\n",
       "      <td>300 NE 26th Ave #105</td>\n",
       "      <td>Boynton Beach</td>\n",
       "      <td>112.0</td>\n",
       "    </tr>\n",
       "    <tr>\n",
       "      <th>349</th>\n",
       "      <td>120000.0</td>\n",
       "      <td>12015 Greenway Cir S #205</td>\n",
       "      <td>Royal Palm Beach</td>\n",
       "      <td>115.0</td>\n",
       "    </tr>\n",
       "    <tr>\n",
       "      <th>125</th>\n",
       "      <td>145000.0</td>\n",
       "      <td>7768 Lakeside Blvd #514</td>\n",
       "      <td>Boca Raton</td>\n",
       "      <td>116.0</td>\n",
       "    </tr>\n",
       "    <tr>\n",
       "      <th>307</th>\n",
       "      <td>75000.0</td>\n",
       "      <td>28 Dorchester B #28</td>\n",
       "      <td>West Palm Beach</td>\n",
       "      <td>116.0</td>\n",
       "    </tr>\n",
       "    <tr>\n",
       "      <th>343</th>\n",
       "      <td>96000.0</td>\n",
       "      <td>3300 Springdale Blvd Unit 3a</td>\n",
       "      <td>Palm Springs</td>\n",
       "      <td>122.0</td>\n",
       "    </tr>\n",
       "  </tbody>\n",
       "</table>\n",
       "</div>"
      ],
      "text/plain": [
       "        PRICE                       ADDRESS              CITY  $/SQUARE FEET\n",
       "361   50000.0        13 Southport Ln Unit A     Boynton Beach           35.0\n",
       "306   69000.0            1753 Bridgewood Dr        Boca Raton           66.0\n",
       "362   65000.0         2770 S Garden Dr #212        Lake Worth           73.0\n",
       "330   77000.0                  628 Saxony N      Delray Beach           85.0\n",
       "301  110000.0         1541 NW 20th Ave #101      Delray Beach           96.0\n",
       "322   75000.0           2300 NE 1st Ln #106     Boynton Beach           99.0\n",
       "323   70000.0               5 Abbey Ln #205      Delray Beach          104.0\n",
       "350  105000.0        100 Bayview Ave Unit B     Boynton Beach          105.0\n",
       "147  145000.0        36 Southport Ln Unit F     Boynton Beach          105.0\n",
       "352   80000.0               23 Saxony A #23      Delray Beach          105.0\n",
       "334   95000.0          225 Bonnie Blvd #310      Palm Springs          106.0\n",
       "348   78752.0            154 Seville Unit G      Delray Beach          108.0\n",
       "346   80000.0     3040 Lake Osborne Dr #210  Lake Worth Beach          109.0\n",
       "192  125000.0      14747 Cumberland Dr #108      Delray Beach          109.0\n",
       "176  162250.0     6805 Willow Wood Dr #5054        Boca Raton          110.0\n",
       "358   85000.0          300 NE 26th Ave #105     Boynton Beach          112.0\n",
       "349  120000.0     12015 Greenway Cir S #205  Royal Palm Beach          115.0\n",
       "125  145000.0       7768 Lakeside Blvd #514        Boca Raton          116.0\n",
       "307   75000.0           28 Dorchester B #28   West Palm Beach          116.0\n",
       "343   96000.0  3300 Springdale Blvd Unit 3a      Palm Springs          122.0"
      ]
     },
     "execution_count": 24,
     "metadata": {},
     "output_type": "execute_result"
    }
   ],
   "source": [
    "# Find problem psf by searching for low values\n",
    "df_filtered.sort_values(by='$/SQUARE FEET',ascending=True).head(20)[['PRICE','ADDRESS','CITY','$/SQUARE FEET']]"
   ]
  },
  {
   "cell_type": "code",
   "execution_count": 25,
   "id": "6895cf71",
   "metadata": {},
   "outputs": [],
   "source": [
    "# # Drop sales that aren't condos but labeled as such\n",
    "# df_filtered = df_filtered.drop(1320)"
   ]
  },
  {
   "cell_type": "markdown",
   "id": "103ad9df",
   "metadata": {},
   "source": [
    "## Make Maps"
   ]
  },
  {
   "cell_type": "code",
   "execution_count": 26,
   "id": "42ad9d63",
   "metadata": {},
   "outputs": [],
   "source": [
    "### Create a price column formatted as currency ###\n",
    "df_filtered['PRICE_AS_CURRENCY'] = df_filtered['PRICE'].apply(lambda x: \"${:,.0f}\".format(x))\n",
    "### Set formatting for Beds, Baths ###\n",
    "df_filtered['YEAR BUILT DISPLAY'] = df_filtered['YEAR BUILT'].apply(lambda x: '{:.0f}'.format(x))\n",
    "df_filtered['PRICE_SQUARE_FEET_AS_CURRENCY'] = df_filtered['$/SQUARE FEET'].apply(lambda x: '${:,.0f}'.format(x))"
   ]
  },
  {
   "cell_type": "code",
   "execution_count": 27,
   "id": "f42ba6b5",
   "metadata": {},
   "outputs": [],
   "source": [
    "df_filtered = df_filtered.sort_values(by=['PRICE'], ascending=False)\n",
    "### Insert different colors for top 10 sales vs. the rest ###\n",
    "df_filtered['COLOR'] = ''\n",
    "### Create RANK column ###\n",
    "df_filtered['RANK'] = 0\n",
    "### Insert RANK values ###\n",
    "df_filtered['RANK'] = range(1, len(df_filtered) + 1)\n",
    "# use numpy to assign values to the 'COLOR' column\n",
    "df_filtered['COLOR'] = np.where(df_filtered['RANK'] <= 10, 'orange', 'blue')"
   ]
  },
  {
   "cell_type": "markdown",
   "id": "99380454",
   "metadata": {},
   "source": [
    "## HTML Popup Formatter"
   ]
  },
  {
   "cell_type": "code",
   "execution_count": 28,
   "id": "6ffa151c",
   "metadata": {},
   "outputs": [],
   "source": [
    "### Define list of columns to drop from DF ###\n",
    "columns_drop = ['SALE TYPE','PROPERTY TYPE','STATE OR PROVINCE','ZIP OR POSTAL CODE','HOA/MONTH','STATUS','NEXT OPEN HOUSE START TIME','NEXT OPEN HOUSE END TIME','SOURCE','MLS#','FAVORITE','INTERESTED','SQUARE FEET','LOT SIZE']"
   ]
  },
  {
   "cell_type": "code",
   "execution_count": 29,
   "id": "b214f9e8",
   "metadata": {},
   "outputs": [],
   "source": [
    "### Drop the columns ###\n",
    "df_filtered = df_filtered.drop(columns=columns_drop)"
   ]
  },
  {
   "cell_type": "code",
   "execution_count": 30,
   "id": "d12c2830",
   "metadata": {},
   "outputs": [],
   "source": [
    "def popup_html(row):\n",
    "    Price = row['PRICE_AS_CURRENCY']\n",
    "    Address = row['ADDRESS']\n",
    "    City = row['CITY']\n",
    "    sold_date = row['SOLD DATE']\n",
    "    beds = row['BEDS']\n",
    "    baths = row['BATHS']\n",
    "    psf = row['PRICE_SQUARE_FEET_AS_CURRENCY']\n",
    "    year_built = row['YEAR BUILT DISPLAY']\n",
    "    rank = row['RANK']\n",
    "    \n",
    "    html = '''<!DOCTYPE html>\n",
    "    <html>\n",
    "    <strong>Price: </strong>{}'''.format(Price) + '''<br>\n",
    "    <strong>Address: </strong>{}'''.format(Address) + '''<br>\n",
    "    <strong>City: </strong>{}'''.format(City) + '''<br>\n",
    "    <strong>Sold: </strong>{}'''.format(sold_date) + '''<br>\n",
    "    <strong>Beds: </strong>{}'''.format(beds) + '''<br>\n",
    "    <strong>Baths: </strong>{}'''.format(baths) + '''<br>\n",
    "    <strong>Price per sf: </strong>{}'''.format(psf) + '''<br>\n",
    "    <strong>Year Built: </strong>{}'''.format(year_built) + '''<br>\n",
    "    <strong>Price Rank: </strong>{}'''.format(rank) + '''\n",
    "    </html>\n",
    "    '''\n",
    "    return html"
   ]
  },
  {
   "cell_type": "code",
   "execution_count": 31,
   "id": "b7fe13d2",
   "metadata": {},
   "outputs": [
    {
     "data": {
      "text/plain": [
       "<folium.map.LayerControl at 0x7fc93821a490>"
      ]
     },
     "execution_count": 31,
     "metadata": {},
     "output_type": "execute_result"
    }
   ],
   "source": [
    "### Create map container ###\n",
    "m = folium.Map(location=df_filtered[[\"LATITUDE\", \"LONGITUDE\"]].mean().to_list(),zoom_start=10,tiles=None)\n",
    "\n",
    "### Create title ###\n",
    "title_html = '''\n",
    "              <h3 align=\"center\" style=\"font-size:16px\"><b>{}</b></h3>\n",
    "             '''.format(f\"{previous_month_name} 2024 Condo Sales\")\n",
    "\n",
    "m.get_root().html.add_child(folium.Element(title_html))\n",
    "\n",
    "# Create two FeatureGroups for different color pins\n",
    "fg_blue = folium.FeatureGroup(name='All other sales')\n",
    "fg_orange = folium.FeatureGroup(name='Top 10 Sales')\n",
    "\n",
    "folium.GeoJson(gdf,tooltip='Palm Beach County',name='Palm Beach County').add_to(m)\n",
    "\n",
    "for index, row in df_filtered.iterrows():\n",
    "    # Add the markers to the appropriate FeatureGroup based on the color\n",
    "    if row['COLOR'] == 'blue':\n",
    "        marker = folium.Marker(\n",
    "            location=[row['LATITUDE'], row['LONGITUDE']],\n",
    "            radius=5,\n",
    "            fill=True,\n",
    "            icon=folium.Icon(color=row['COLOR']),\n",
    "            popup=folium.Popup(popup_html(row), max_width=400))\n",
    "        marker.add_to(fg_blue)\n",
    "    else:\n",
    "        marker = folium.Marker(\n",
    "            location=[row['LATITUDE'], row['LONGITUDE']],\n",
    "            radius=5,\n",
    "            fill=True,\n",
    "            icon=folium.Icon(color=row['COLOR']),\n",
    "            popup=folium.Popup(popup_html(row), max_width=400))\n",
    "        marker.add_to(fg_orange)\n",
    "\n",
    "# Add the FeatureGroups to the map\n",
    "fg_orange.add_to(m)\n",
    "fg_blue.add_to(m)\n",
    "\n",
    "folium.TileLayer('OpenStreetMap',control=False).add_to(m)\n",
    "\n",
    "# Add LayerControl to the map\n",
    "folium.map.LayerControl(collapsed=False).add_to(m)\n",
    "\n",
    "# Display map\n",
    "# m"
   ]
  },
  {
   "cell_type": "code",
   "execution_count": 32,
   "id": "a704af7f",
   "metadata": {},
   "outputs": [],
   "source": [
    "m.save('index.html')"
   ]
  },
  {
   "cell_type": "markdown",
   "id": "81b7dc98",
   "metadata": {},
   "source": [
    "## Summary Info"
   ]
  },
  {
   "cell_type": "code",
   "execution_count": 33,
   "id": "6910bd5b",
   "metadata": {},
   "outputs": [],
   "source": [
    "BR = '\\n'\n",
    "\n",
    "ME = '\\033[1m' + 'Most Expensive' + '\\033[0m'\n",
    "LE = '\\033[1m' + 'Least Expensive' + '\\033[0m'\n",
    "\n",
    "MAX_PSF = '\\033[1m' + 'Highest Price Per Square Foot' + '\\033[0m'\n",
    "MIN_PSF = '\\033[1m' + 'Lowest Price Per Square Foot' + '\\033[0m'\n",
    "\n",
    "Newest = '\\033[1m' + 'Newest' + '\\033[0m'\n",
    "Oldest = '\\033[1m' + 'Oldest' + '\\033[0m'"
   ]
  },
  {
   "cell_type": "code",
   "execution_count": 34,
   "id": "9d2c1b97",
   "metadata": {},
   "outputs": [
    {
     "data": {
      "text/plain": [
       "Index(['SOLD DATE', 'ADDRESS', 'CITY', 'PRICE', 'BEDS', 'BATHS', 'LOCATION',\n",
       "       'YEAR BUILT', 'DAYS ON MARKET', '$/SQUARE FEET', 'URL', 'LATITUDE',\n",
       "       'LONGITUDE', 'PRICE_AS_CURRENCY', 'YEAR BUILT DISPLAY',\n",
       "       'PRICE_SQUARE_FEET_AS_CURRENCY', 'COLOR', 'RANK'],\n",
       "      dtype='object')"
      ]
     },
     "execution_count": 34,
     "metadata": {},
     "output_type": "execute_result"
    }
   ],
   "source": [
    "df_filtered.columns"
   ]
  },
  {
   "cell_type": "code",
   "execution_count": 35,
   "id": "81280824",
   "metadata": {},
   "outputs": [],
   "source": [
    "df_filtered['FULL_ADDRESS'] = df_filtered['ADDRESS'] + ' ' + df_filtered['CITY']"
   ]
  },
  {
   "cell_type": "code",
   "execution_count": 36,
   "id": "4677d727",
   "metadata": {},
   "outputs": [
    {
     "name": "stdout",
     "output_type": "stream",
     "text": [
      "https://www.redfin.com/FL/Palm-Beach/44-Cocoanut-Row-33480/unit-122B/home/42434949\n"
     ]
    }
   ],
   "source": [
    "print(df_filtered.loc[df_filtered['YEAR BUILT'].idxmin()]['URL'])"
   ]
  },
  {
   "cell_type": "code",
   "execution_count": 37,
   "id": "39ff9917",
   "metadata": {},
   "outputs": [
    {
     "name": "stdout",
     "output_type": "stream",
     "text": [
      "\u001b[1mMost Expensive\u001b[0m\n",
      "Kirkland House Cond, 101 Worth Ave Unit 3a Palm Beach | Price $11,930,000 | $3,216 psf | Year built: 1974\n",
      "\u001b[1mLeast Expensive\u001b[0m\n",
      "Southport AT Hunters Run Condo, 13 Southport Ln Unit A Boynton Beach | Price $50,000 | $35 psf | Year built: 1980\n",
      "\u001b[1mHighest Price Per Square Foot\u001b[0m\n",
      "Kirkland House Cond, 101 Worth Ave Unit 3a Palm Beach | Price $11,930,000 | $3,216 psf | Year built: 1974\n",
      "\u001b[1mLowest Price Per Square Foot\u001b[0m\n",
      "Southport AT Hunters Run Condo, 13 Southport Ln Unit A Boynton Beach | Price $50,000 | $35 psf | Year built: 1980\n",
      "\u001b[1mNewest\u001b[0m\n",
      "Boca Beach Residences, 725 S Ocean Blvd #103 Boca Raton | Price $8,125,000 | $2,599 psf | Year built: 2023\n",
      "\u001b[1mOldest\u001b[0m\n",
      "PB Towers, 44 Cocoanut Row Unit 122b Palm Beach | Price $1,825,000 | $1,217 psf | Year built: 1956\n"
     ]
    }
   ],
   "source": [
    "print(f\"{ME}{BR}{df_filtered.loc[df_filtered['PRICE'].idxmax()]['LOCATION']}, {df_filtered.loc[df_filtered['PRICE'].idxmax()]['FULL_ADDRESS']} | Price ${df_filtered.loc[df_filtered['PRICE'].idxmax()]['PRICE']:,.0f} | ${df_filtered.loc[df_filtered['PRICE'].idxmax()]['$/SQUARE FEET']:,.0f} psf | Year built: {df_filtered.loc[df_filtered['PRICE'].idxmax()]['YEAR BUILT']:.0f}\")\n",
    "print(f\"{LE}{BR}{df_filtered.loc[df_filtered['PRICE'].idxmin()]['LOCATION']}, {df_filtered.loc[df_filtered['PRICE'].idxmin()]['FULL_ADDRESS']} | Price ${df_filtered.loc[df_filtered['PRICE'].idxmin()]['PRICE']:,.0f} | ${df_filtered.loc[df_filtered['PRICE'].idxmin()]['$/SQUARE FEET']:,.0f} psf | Year built: {df_filtered.loc[df_filtered['PRICE'].idxmin()]['YEAR BUILT']:.0f}\")\n",
    "\n",
    "print(f\"{MAX_PSF}{BR}{df_filtered.loc[df_filtered['$/SQUARE FEET'].idxmax()]['LOCATION']}, {df_filtered.loc[df_filtered['$/SQUARE FEET'].idxmax()]['FULL_ADDRESS']} | Price ${df_filtered.loc[df_filtered['$/SQUARE FEET'].idxmax()]['PRICE']:,.0f} | ${df_filtered.loc[df_filtered['$/SQUARE FEET'].idxmax()]['$/SQUARE FEET']:,.0f} psf | Year built: {df_filtered.loc[df_filtered['$/SQUARE FEET'].idxmax()]['YEAR BUILT']:.0f}\")\n",
    "print(f\"{MIN_PSF}{BR}{df_filtered.loc[df_filtered['$/SQUARE FEET'].idxmin()]['LOCATION']}, {df_filtered.loc[df_filtered['$/SQUARE FEET'].idxmin()]['FULL_ADDRESS']} | Price ${df_filtered.loc[df_filtered['$/SQUARE FEET'].idxmin()]['PRICE']:,.0f} | ${df_filtered.loc[df_filtered['$/SQUARE FEET'].idxmin()]['$/SQUARE FEET']:,.0f} psf | Year built: {df_filtered.loc[df_filtered['$/SQUARE FEET'].idxmin()]['YEAR BUILT']:.0f}\")\n",
    "\n",
    "print(f\"{Newest}{BR}{df_filtered.loc[df_filtered['YEAR BUILT'].idxmax()]['LOCATION']}, {df_filtered.loc[df_filtered['YEAR BUILT'].idxmax()]['FULL_ADDRESS']} | Price ${df_filtered.loc[df_filtered['YEAR BUILT'].idxmax()]['PRICE']:,.0f} | ${df_filtered.loc[df_filtered['YEAR BUILT'].idxmax()]['$/SQUARE FEET']:,.0f} psf | Year built: {df_filtered.loc[df_filtered['YEAR BUILT'].idxmax()]['YEAR BUILT']:.0f}\")\n",
    "print(f\"{Oldest}{BR}{df_filtered.loc[df_filtered['YEAR BUILT'].idxmin()]['LOCATION']}, {df_filtered.loc[df_filtered['YEAR BUILT'].idxmin()]['FULL_ADDRESS']} | Price ${df_filtered.loc[df_filtered['YEAR BUILT'].idxmin()]['PRICE']:,.0f} | ${df_filtered.loc[df_filtered['YEAR BUILT'].idxmin()]['$/SQUARE FEET']:,.0f} psf | Year built: {df_filtered.loc[df_filtered['YEAR BUILT'].idxmin()]['YEAR BUILT']:.0f}\")"
   ]
  },
  {
   "cell_type": "markdown",
   "id": "707dd49b",
   "metadata": {},
   "source": [
    "## Map URL Snagger"
   ]
  },
  {
   "cell_type": "code",
   "execution_count": 38,
   "id": "81e05274",
   "metadata": {},
   "outputs": [
    {
     "name": "stdout",
     "output_type": "stream",
     "text": [
      "https://trd-digital.github.io/trd-news-interactive-maps/PBC_condo_sales_month_ending_mar_2024\n"
     ]
    }
   ],
   "source": [
    "base_name = 'https://trd-digital.github.io/trd-news-interactive-maps/'\n",
    "\n",
    "cwd = os.getcwd()\n",
    "\n",
    "cwd = cwd.split('/')\n",
    "\n",
    "final_name = base_name + cwd[-1]\n",
    "print(final_name)"
   ]
  },
  {
   "cell_type": "markdown",
   "id": "fe5031c3",
   "metadata": {},
   "source": [
    "## Get Summary Data"
   ]
  },
  {
   "cell_type": "code",
   "execution_count": 39,
   "id": "15cba208",
   "metadata": {},
   "outputs": [
    {
     "name": "stdout",
     "output_type": "stream",
     "text": [
      "SALES INFO\n",
      "Number of sales: 682\n",
      "--------\n",
      "Total sale price: $362,112,686\n",
      "--------\n",
      "Median sale price: $290,000\n",
      "--------\n",
      "Max sale price: $11,930,000\n",
      "--------\n",
      "Min sale price: $50,000\n",
      "------------------------------------------------\n",
      "PSF INFO\n",
      "Max price per square foot: $3,216\n",
      "--------\n",
      "Min price per square foot: $35\n",
      "--------\n",
      "Median price per square foot: $245\n",
      "------------------------------------------------\n",
      "CONDO AGES\n",
      "Newest building: 2023.0\n",
      "----------\n",
      "Oldest building: 1956.0\n",
      "----------\n",
      "Average building age: 1982.3504398826979\n"
     ]
    }
   ],
   "source": [
    "print('SALES INFO')\n",
    "print(f'Number of sales: {len(df_filtered)}')\n",
    "print('--------')\n",
    "print(f'Total sale price: ${df_filtered[\"PRICE\"].sum():,.0f}')\n",
    "print('--------')\n",
    "print(f'Median sale price: ${df_filtered[\"PRICE\"].median():,.0f}')\n",
    "print('--------')\n",
    "print(f'Max sale price: ${df_filtered[\"PRICE\"].max():,.0f}')\n",
    "print('--------')\n",
    "print(f'Min sale price: ${df_filtered[\"PRICE\"].min():,.0f}')\n",
    "print('------------------------------------------------')\n",
    "print('PSF INFO')\n",
    "print(f'Max price per square foot: ${df_filtered[\"$/SQUARE FEET\"].max():,.0f}')\n",
    "print('--------')\n",
    "print(f'Min price per square foot: ${df_filtered[\"$/SQUARE FEET\"].min():,.0f}')\n",
    "print('--------')\n",
    "print(f'Median price per square foot: ${df_filtered[\"$/SQUARE FEET\"].median():,.0f}')\n",
    "print('------------------------------------------------')\n",
    "print('CONDO AGES')\n",
    "print(f'Newest building: {df_filtered[\"YEAR BUILT\"].max()}')\n",
    "print('----------')\n",
    "print(f'Oldest building: {df_filtered[\"YEAR BUILT\"].min()}')\n",
    "print('----------')\n",
    "print(f'Average building age: {df_filtered[\"YEAR BUILT\"].mean()}')"
   ]
  },
  {
   "cell_type": "code",
   "execution_count": 40,
   "id": "a7db05bf",
   "metadata": {},
   "outputs": [],
   "source": [
    "most_expensive_muni_condo_name = df_filtered.loc[df_filtered['PRICE'].idxmax()]['LOCATION']\n",
    "most_expensive_muni_location = df_filtered.loc[df_filtered['PRICE'].idxmax()]['CITY']\n",
    "\n",
    "least_expensive_muni_condo_name = df_filtered.loc[df_filtered['PRICE'].idxmin()]['LOCATION']\n",
    "least_expensive_muni_location = df_filtered.loc[df_filtered['PRICE'].idxmin()]['CITY']"
   ]
  },
  {
   "cell_type": "markdown",
   "id": "3a2b0666",
   "metadata": {},
   "source": [
    "# GENERATE STORY TEMPLATE\n",
    "\n",
    "# STOP! DID YOU UPDATE VALUES FROM THE PREVIOUS MONTH?"
   ]
  },
  {
   "cell_type": "code",
   "execution_count": 41,
   "id": "b79b8847",
   "metadata": {},
   "outputs": [],
   "source": [
    "## Calculate the increase/descrease between both months\n",
    "subject_month_sales_volume = df_filtered[\"PRICE\"].sum()\n",
    "prior_month_sales_volume = int(sales_volume_2nd_month)  # Example value, replace with actual value\n",
    "\n",
    "subject_month_closings = len(df_filtered)\n",
    "prior_month_closings = int(total_condos_sold_2nd_month)\n",
    "\n",
    "# Subtract the smaller value from the larger one\n",
    "if subject_month_sales_volume > prior_month_sales_volume:\n",
    "    hed_rf = 'jumps'\n",
    "    nut_graf = 'rising'\n",
    "    second_nut_graf_ref = 'up'\n",
    "    social = 'higher'\n",
    "    seo = 'increased'\n",
    "elif prior_month_sales_volume > subject_month_sales_volume:\n",
    "    hed_rf = 'drops'\n",
    "    nut_graf = 'falling'\n",
    "    second_nut_graf_ref = 'down'\n",
    "    social = 'lower'\n",
    "    seo = 'decreased'\n",
    "else:\n",
    "    hed_rf = 'equals'\n",
    "    nut_graf = 'equaling'\n",
    "    second_nut_graf_ref = 'on par with'\n",
    "    social = 'equal'\n",
    "    seo = \"did't change\"\n",
    "    \n",
    "    \n",
    "if subject_month_closings > prior_month_closings:\n",
    "    dek_rf = 'rose'\n",
    "elif prior_month_closings > subject_month_closings:\n",
    "    dek_rf ='fell'\n",
    "else:\n",
    "    dek_rf = 'equaled'"
   ]
  },
  {
   "cell_type": "code",
   "execution_count": 42,
   "id": "246d9fac",
   "metadata": {},
   "outputs": [],
   "source": [
    "story_string = f'''\n",
    "\\033[1mHED:\\033[0m {county_name} condo sales dollar volume {hed_rf} in {previous_month_name} to ${round(df_filtered[\"PRICE\"].sum()/1_000_000)}M \n",
    "\\033[1mDEK:\\033[0m Number of closings {dek_rf} to {len(df_filtered)} from {total_condos_sold_2nd_month} in {month_before_last_name}\n",
    "\\033[1mFEATURED HED:\\033[0m\n",
    "\\033[1mSEO HED:\\033[0m {county_name} {previous_month_name} Condo Sales Report \n",
    "\\033[1mSEO DESCRIPTION:\\033[0m {county_name}’s condo sales volume {hed_rf} to ${round(df_filtered[\"PRICE\"].sum()/1_000_000)} million in {previous_month_name}.\n",
    "\\033[1mAUTHOR:\\033[0m Adam Farence\n",
    "\\033[1mRESEARCH:\\033[0m \n",
    "\\033[1mSocial:\\033[0m {county_name} had ${round(df_filtered[\"PRICE\"].sum()/1_000_000):,.0f} million in condo sales in {previous_month_name}, {social} than ${round(int(sales_volume_2nd_month)/1_000_000)} million from {month_before_last_name}, @afarence reports \n",
    "\\033[1mART:\\033[0m \n",
    "\n",
    "CHANGE ME\n",
    "\n",
    "*Please provide credits for any images that you share\n",
    "\\033[1mSTORY TYPE:\\033[0m Report\n",
    "\\033[1mSECTOR\\033[0m (formerly CATEGORY): Residential Real Estate\n",
    "\\033[1mTAGS:\\033[0m condo sales, {county_name}, monthly condo sales, condos, condo market, {most_expensive_muni_condo_name.title()}, {most_expensive_muni_location}\n",
    "\n",
    "\\033[1mNeighborhood:\\033[0m \n",
    "\\033[1mProperty:\\033[0m\n",
    "\\033[1mProperty Type:\\033[0m\n",
    "\\033[1mCompanies:\\033[0m \n",
    "\\033[1mPeople:\\033[0m\n",
    "\\033[1mIssues:\\033[0m\n",
    "\\033[1mRegion:\\033[0m\n",
    "\n",
    "{county_name}’s NEWS PEG HERE.\n",
    "\n",
    "{previous_month_name} condo sales totaled ${round(df_filtered[\"PRICE\"].sum()/1_000_000)} million, {nut_graf} from ${int(sales_volume_2nd_month)/1_000_000:.0f} million in {month_before_last_name}. Brokers closed {len(df_filtered)} sales last month, {second_nut_graf_ref} from {total_condos_sold_2nd_month} sales in {month_before_last_name} and XXX in XXX, Multiple Listing Service data from Redfin show.\n",
    "\n",
    "{previous_month_name} sale prices ranged from ${df_filtered[\"PRICE\"].min():,.0f} to ${df_filtered[\"PRICE\"].max()/1_000_000:,.0f} million, with a median sale price of ${df_filtered[\"PRICE\"].median():,.0f}. The price per square foot ranged from ${df_filtered[\"$/SQUARE FEET\"].min():,.0f} to ${df_filtered[\"$/SQUARE FEET\"].max():,.0f}, with a median of ${df_filtered[\"$/SQUARE FEET\"].median():,.0f} per square foot.\n",
    "\n",
    "In {month_before_last_name}, sales closed with a median price of ${int(median_sales_price_2nd_month):,.0f}, and ${median_psf_2nd_month} per square foot.\n",
    "\n",
    "A ${df_filtered[\"PRICE\"].max()/1_000_000:,.0f} million closing at {most_expensive_muni_condo_name.title()} took the title of priciest sale last month. {df_filtered.loc[df_filtered['PRICE'].idxmax()]['FULL_ADDRESS']} sold for ${df_filtered.loc[df_filtered['PRICE'].idxmax()]['$/SQUARE FEET']:,.0f} per square foot after XX days on the market. XXX with XXX had the listing, and XXX with XXX represented the buyer.\n",
    "\n",
    "The sale price was \\033[1mmore/less\\033[0m than {month_before_last_name}'s priciest sale. Unit XXXX \n",
    "\n",
    "In contrast, {previous_month_name}'s cheapest sale was an {least_expensive_muni_condo_name} in {least_expensive_muni_location}, at {df_filtered.loc[df_filtered['PRICE'].idxmin()]['FULL_ADDRESS']}. Unit XXX traded for ${df_filtered['PRICE'].min():,.0f} — or ${df_filtered.loc[df_filtered['PRICE'].idxmin()]['$/SQUARE FEET']:,.0f} per square foot — after XXX days on the market. XXX with XXX handled both sides of the deal.\n",
    "\n",
    "<figure>\n",
    " <div class=\"container\">\n",
    "   <div class=\"iframe-wrap\">\n",
    "   <iframe src=\"{final_name}\" width=\"100%\" height=\"800\" frameBorder=\"0\" scrolling=\"no\"></iframe>\n",
    "  </div>\n",
    "</div>\n",
    "  <figcaption align=\"right\"><a href=\"https://leafletjs.com/\">Leaflet</a> map created by Adam Farence | Data by © <a href=\"https://www.openstreetmap.org/#map=4/38.01/-95.84\"> OpenStreetMap</a>, under <a href=\"https://www.openstreetmap.org/copyright\">ODbl.</a></figcaption>\n",
    "</figure>\n",
    "\n",
    "Here’s a breakdown of {previous_month_name}’s notable condo sales:\n",
    "'''"
   ]
  },
  {
   "cell_type": "code",
   "execution_count": 43,
   "id": "f51fcff5",
   "metadata": {},
   "outputs": [
    {
     "name": "stdout",
     "output_type": "stream",
     "text": [
      "\n",
      "\u001b[1mHED:\u001b[0m Palm Beach County condo sales dollar volume jumps in March to $362M \n",
      "\u001b[1mDEK:\u001b[0m Number of closings rose to 682 from 553 in February\n",
      "\u001b[1mFEATURED HED:\u001b[0m\n",
      "\u001b[1mSEO HED:\u001b[0m Palm Beach County March Condo Sales Report \n",
      "\u001b[1mSEO DESCRIPTION:\u001b[0m Palm Beach County’s condo sales volume jumps to $362 million in March.\n",
      "\u001b[1mAUTHOR:\u001b[0m Adam Farence\n",
      "\u001b[1mRESEARCH:\u001b[0m \n",
      "\u001b[1mSocial:\u001b[0m Palm Beach County had $362 million in condo sales in March, higher than $266 million from February, @afarence reports \n",
      "\u001b[1mART:\u001b[0m \n",
      "\n",
      "CHANGE ME\n",
      "\n",
      "*Please provide credits for any images that you share\n",
      "\u001b[1mSTORY TYPE:\u001b[0m Report\n",
      "\u001b[1mSECTOR\u001b[0m (formerly CATEGORY): Residential Real Estate\n",
      "\u001b[1mTAGS:\u001b[0m condo sales, Palm Beach County, monthly condo sales, condos, condo market, Kirkland House Cond, Palm Beach\n",
      "\n",
      "\u001b[1mNeighborhood:\u001b[0m \n",
      "\u001b[1mProperty:\u001b[0m\n",
      "\u001b[1mProperty Type:\u001b[0m\n",
      "\u001b[1mCompanies:\u001b[0m \n",
      "\u001b[1mPeople:\u001b[0m\n",
      "\u001b[1mIssues:\u001b[0m\n",
      "\u001b[1mRegion:\u001b[0m\n",
      "\n",
      "Palm Beach County’s NEWS PEG HERE.\n",
      "\n",
      "March condo sales totaled $362 million, rising from $266 million in February. Brokers closed 682 sales last month, up from 553 sales in February and XXX in XXX, Multiple Listing Service data from Redfin show.\n",
      "\n",
      "March sale prices ranged from $50,000 to $12 million, with a median sale price of $290,000. The price per square foot ranged from $35 to $3,216, with a median of $245 per square foot.\n",
      "\n",
      "In February, sales closed with a median price of $280,000, and $246 per square foot.\n",
      "\n",
      "A $12 million closing at Kirkland House Cond took the title of priciest sale last month. 101 Worth Ave Unit 3a Palm Beach sold for $3,216 per square foot after XX days on the market. XXX with XXX had the listing, and XXX with XXX represented the buyer.\n",
      "\n",
      "The sale price was \u001b[1mmore/less\u001b[0m than February's priciest sale. Unit XXXX \n",
      "\n",
      "In contrast, March's cheapest sale was an Southport AT Hunters Run Condo in Boynton Beach, at 13 Southport Ln Unit A Boynton Beach. Unit XXX traded for $50,000 — or $35 per square foot — after XXX days on the market. XXX with XXX handled both sides of the deal.\n",
      "\n",
      "<figure>\n",
      " <div class=\"container\">\n",
      "   <div class=\"iframe-wrap\">\n",
      "   <iframe src=\"https://trd-digital.github.io/trd-news-interactive-maps/PBC_condo_sales_month_ending_mar_2024\" width=\"100%\" height=\"800\" frameBorder=\"0\" scrolling=\"no\"></iframe>\n",
      "  </div>\n",
      "</div>\n",
      "  <figcaption align=\"right\"><a href=\"https://leafletjs.com/\">Leaflet</a> map created by Adam Farence | Data by © <a href=\"https://www.openstreetmap.org/#map=4/38.01/-95.84\"> OpenStreetMap</a>, under <a href=\"https://www.openstreetmap.org/copyright\">ODbl.</a></figcaption>\n",
      "</figure>\n",
      "\n",
      "Here’s a breakdown of March’s notable condo sales:\n",
      "\n",
      "\u001b[1mMost Expensive\u001b[0m\n",
      "Kirkland House Cond, 101 Worth Ave Unit 3a Palm Beach | Price $11,930,000 | $3,216 psf | Year built: 1974\n",
      "\u001b[1mLeast Expensive\u001b[0m\n",
      "Southport AT Hunters Run Condo, 13 Southport Ln Unit A Boynton Beach | Price $50,000 | $35 psf | Year built: 1980\n",
      "\u001b[1mHighest Price Per Square Foot\u001b[0m\n",
      "Kirkland House Cond, 101 Worth Ave Unit 3a Palm Beach | Price $11,930,000 | $3,216 psf | Year built: 1974\n",
      "\u001b[1mLowest Price Per Square Foot\u001b[0m\n",
      "Southport AT Hunters Run Condo, 13 Southport Ln Unit A Boynton Beach | Price $50,000 | $35 psf | Year built: 1980\n",
      "\u001b[1mNewest\u001b[0m\n",
      "Boca Beach Residences, 725 S Ocean Blvd #103 Boca Raton | Price $8,125,000 | $2,599 psf | Year built: 2023\n",
      "\u001b[1mOldest\u001b[0m\n",
      "PB Towers, 44 Cocoanut Row Unit 122b Palm Beach | Price $1,825,000 | $1,217 psf | Year built: 1956\n"
     ]
    }
   ],
   "source": [
    "print(story_string)\n",
    "\n",
    "print(f\"{ME}{BR}{df_filtered.loc[df_filtered['PRICE'].idxmax()]['LOCATION']}, {df_filtered.loc[df_filtered['PRICE'].idxmax()]['FULL_ADDRESS']} | Price ${df_filtered.loc[df_filtered['PRICE'].idxmax()]['PRICE']:,.0f} | ${df_filtered.loc[df_filtered['PRICE'].idxmax()]['$/SQUARE FEET']:,.0f} psf | Year built: {df_filtered.loc[df_filtered['PRICE'].idxmax()]['YEAR BUILT']:.0f}\")\n",
    "print(f\"{LE}{BR}{df_filtered.loc[df_filtered['PRICE'].idxmin()]['LOCATION']}, {df_filtered.loc[df_filtered['PRICE'].idxmin()]['FULL_ADDRESS']} | Price ${df_filtered.loc[df_filtered['PRICE'].idxmin()]['PRICE']:,.0f} | ${df_filtered.loc[df_filtered['PRICE'].idxmin()]['$/SQUARE FEET']:,.0f} psf | Year built: {df_filtered.loc[df_filtered['PRICE'].idxmin()]['YEAR BUILT']:.0f}\")\n",
    "\n",
    "print(f\"{MAX_PSF}{BR}{df_filtered.loc[df_filtered['$/SQUARE FEET'].idxmax()]['LOCATION']}, {df_filtered.loc[df_filtered['$/SQUARE FEET'].idxmax()]['FULL_ADDRESS']} | Price ${df_filtered.loc[df_filtered['$/SQUARE FEET'].idxmax()]['PRICE']:,.0f} | ${df_filtered.loc[df_filtered['$/SQUARE FEET'].idxmax()]['$/SQUARE FEET']:,.0f} psf | Year built: {df_filtered.loc[df_filtered['$/SQUARE FEET'].idxmax()]['YEAR BUILT']:.0f}\")\n",
    "print(f\"{MIN_PSF}{BR}{df_filtered.loc[df_filtered['$/SQUARE FEET'].idxmin()]['LOCATION']}, {df_filtered.loc[df_filtered['$/SQUARE FEET'].idxmin()]['FULL_ADDRESS']} | Price ${df_filtered.loc[df_filtered['$/SQUARE FEET'].idxmin()]['PRICE']:,.0f} | ${df_filtered.loc[df_filtered['$/SQUARE FEET'].idxmin()]['$/SQUARE FEET']:,.0f} psf | Year built: {df_filtered.loc[df_filtered['$/SQUARE FEET'].idxmin()]['YEAR BUILT']:.0f}\")\n",
    "\n",
    "print(f\"{Newest}{BR}{df_filtered.loc[df_filtered['YEAR BUILT'].idxmax()]['LOCATION']}, {df_filtered.loc[df_filtered['YEAR BUILT'].idxmax()]['FULL_ADDRESS']} | Price ${df_filtered.loc[df_filtered['YEAR BUILT'].idxmax()]['PRICE']:,.0f} | ${df_filtered.loc[df_filtered['YEAR BUILT'].idxmax()]['$/SQUARE FEET']:,.0f} psf | Year built: {df_filtered.loc[df_filtered['YEAR BUILT'].idxmax()]['YEAR BUILT']:.0f}\")\n",
    "print(f\"{Oldest}{BR}{df_filtered.loc[df_filtered['YEAR BUILT'].idxmin()]['LOCATION']}, {df_filtered.loc[df_filtered['YEAR BUILT'].idxmin()]['FULL_ADDRESS']} | Price ${df_filtered.loc[df_filtered['YEAR BUILT'].idxmin()]['PRICE']:,.0f} | ${df_filtered.loc[df_filtered['YEAR BUILT'].idxmin()]['$/SQUARE FEET']:,.0f} psf | Year built: {df_filtered.loc[df_filtered['YEAR BUILT'].idxmin()]['YEAR BUILT']:.0f}\")"
   ]
  },
  {
   "cell_type": "markdown",
   "id": "1237f8b2",
   "metadata": {},
   "source": [
    "# Print links for notable sales\n",
    "\n",
    "## Top sale"
   ]
  },
  {
   "cell_type": "code",
   "execution_count": 44,
   "id": "4c776293",
   "metadata": {},
   "outputs": [
    {
     "name": "stdout",
     "output_type": "stream",
     "text": [
      "https://www.redfin.com/FL/Palm-Beach/101-Worth-Ave-33480/unit-3a/home/184982711\n"
     ]
    }
   ],
   "source": [
    "print(df_filtered.loc[df_filtered['PRICE'].idxmax()]['URL'])"
   ]
  },
  {
   "cell_type": "markdown",
   "id": "b1f63a6a",
   "metadata": {},
   "source": [
    "## Cheapest sale"
   ]
  },
  {
   "cell_type": "code",
   "execution_count": 45,
   "id": "967008ef",
   "metadata": {},
   "outputs": [
    {
     "name": "stdout",
     "output_type": "stream",
     "text": [
      "https://www.redfin.com/FL/Boynton-Beach/13-Southport-Ln-33436/unit-A/home/42351850\n"
     ]
    }
   ],
   "source": [
    "print(df_filtered.loc[df_filtered['PRICE'].idxmin()]['URL'])"
   ]
  },
  {
   "cell_type": "markdown",
   "id": "0f56cc2b",
   "metadata": {},
   "source": [
    "## Highest PSF"
   ]
  },
  {
   "cell_type": "code",
   "execution_count": 46,
   "id": "001083a2",
   "metadata": {},
   "outputs": [
    {
     "name": "stdout",
     "output_type": "stream",
     "text": [
      "https://www.redfin.com/FL/Palm-Beach/101-Worth-Ave-33480/unit-3a/home/184982711\n"
     ]
    }
   ],
   "source": [
    "print(df_filtered.loc[df_filtered['$/SQUARE FEET'].idxmax()]['URL'])"
   ]
  },
  {
   "cell_type": "markdown",
   "id": "e606b84a",
   "metadata": {},
   "source": [
    "## Lowest PSF"
   ]
  },
  {
   "cell_type": "code",
   "execution_count": 47,
   "id": "91b9b079",
   "metadata": {},
   "outputs": [
    {
     "name": "stdout",
     "output_type": "stream",
     "text": [
      "https://www.redfin.com/FL/Boynton-Beach/13-Southport-Ln-33436/unit-A/home/42351850\n"
     ]
    }
   ],
   "source": [
    "print(df_filtered.loc[df_filtered['$/SQUARE FEET'].idxmin()]['URL'])"
   ]
  },
  {
   "cell_type": "markdown",
   "id": "d6e5493b",
   "metadata": {},
   "source": [
    "## Newest"
   ]
  },
  {
   "cell_type": "code",
   "execution_count": 48,
   "id": "c2cc4988",
   "metadata": {},
   "outputs": [
    {
     "name": "stdout",
     "output_type": "stream",
     "text": [
      "https://www.redfin.com/FL/Boca-Raton/725-S-Ocean-Blvd-33432/unit-103/home/189010766\n"
     ]
    }
   ],
   "source": [
    "print(df_filtered.loc[df_filtered['YEAR BUILT'].idxmax()]['URL'])"
   ]
  },
  {
   "cell_type": "markdown",
   "id": "1d1ba957",
   "metadata": {},
   "source": [
    "## Oldest"
   ]
  },
  {
   "cell_type": "code",
   "execution_count": 49,
   "id": "51fa78ff",
   "metadata": {},
   "outputs": [
    {
     "name": "stdout",
     "output_type": "stream",
     "text": [
      "https://www.redfin.com/FL/Palm-Beach/44-Cocoanut-Row-33480/unit-122B/home/42434949\n"
     ]
    }
   ],
   "source": [
    "print(df_filtered.loc[df_filtered['YEAR BUILT'].idxmin()]['URL'])"
   ]
  },
  {
   "cell_type": "markdown",
   "id": "6b274da8",
   "metadata": {},
   "source": [
    "## Time on Market Calculator"
   ]
  },
  {
   "cell_type": "code",
   "execution_count": 50,
   "id": "0d14e001",
   "metadata": {},
   "outputs": [
    {
     "name": "stdout",
     "output_type": "stream",
     "text": [
      "187\n"
     ]
    }
   ],
   "source": [
    "from datetime import datetime, timedelta\n",
    "\n",
    "################ YEAR, MONTH, DAY #######################\n",
    "\n",
    "date1 = datetime(2023, 8, 6) ## List (Earlier) date\n",
    "date2 = datetime(2024, 2, 9) ## Close (Later) date\n",
    "\n",
    "delta = date2 - date1\n",
    "num_days = delta.days\n",
    "\n",
    "print(num_days)"
   ]
  }
 ],
 "metadata": {
  "kernelspec": {
   "display_name": "Python 3 (ipykernel)",
   "language": "python",
   "name": "python3"
  },
  "language_info": {
   "codemirror_mode": {
    "name": "ipython",
    "version": 3
   },
   "file_extension": ".py",
   "mimetype": "text/x-python",
   "name": "python",
   "nbconvert_exporter": "python",
   "pygments_lexer": "ipython3",
   "version": "3.9.12"
  }
 },
 "nbformat": 4,
 "nbformat_minor": 5
}
